{
 "cells": [
  {
   "cell_type": "markdown",
   "id": "9d39d946",
   "metadata": {},
   "source": [
    "# Comparison Between TreeValue and Tianshou Batch"
   ]
  },
  {
   "cell_type": "markdown",
   "id": "3c6db2d4",
   "metadata": {},
   "source": [
    "In this section, we will take a look at the feature and performance of the [Tianshou Batch](https://github.com/thu-ml/tianshou) library, which is developed by Tsinghua Machine Learning Group."
   ]
  },
  {
   "cell_type": "markdown",
   "id": "069361b0",
   "metadata": {},
   "source": [
    "Before starting the comparison, let us define some thing."
   ]
  },
  {
   "cell_type": "code",
   "execution_count": 1,
   "id": "06fc8d26",
   "metadata": {
    "execution": {
     "iopub.execute_input": "2023-02-27T11:56:25.776714Z",
     "iopub.status.busy": "2023-02-27T11:56:25.776470Z",
     "iopub.status.idle": "2023-02-27T11:56:26.701990Z",
     "shell.execute_reply": "2023-02-27T11:56:26.701297Z"
    }
   },
   "outputs": [
    {
     "name": "stderr",
     "output_type": "stream",
     "text": [
      "/opt/hostedtoolcache/Python/3.8.16/x64/lib/python3.8/site-packages/tqdm/auto.py:22: TqdmWarning: IProgress not found. Please update jupyter and ipywidgets. See https://ipywidgets.readthedocs.io/en/stable/user_install.html\n",
      "  from .autonotebook import tqdm as notebook_tqdm\n"
     ]
    }
   ],
   "source": [
    "import torch \n",
    "\n",
    "_TREE_DATA_1 = {'a': 1, 'b': 2, 'x': {'c': 3, 'd': 4}}\n",
    "_TREE_DATA_2 = {\n",
    "    'a': torch.randn(2, 3), \n",
    "    'x': {\n",
    "        'c': torch.randn(3, 4)\n",
    "    },\n",
    "}\n",
    "_TREE_DATA_3 = {\n",
    "    'obs': torch.randn(4, 84, 84),\n",
    "    'action': torch.randint(0, 6, size=(1,)),\n",
    "    'reward': torch.rand(1),\n",
    "}"
   ]
  },
  {
   "cell_type": "markdown",
   "id": "83461b25",
   "metadata": {},
   "source": [
    "## Read and Write Operation"
   ]
  },
  {
   "cell_type": "markdown",
   "id": "067b3f73",
   "metadata": {},
   "source": [
    "Reading and writing are the two most common operations in the tree data structure based on the data model (TreeValue and Tianshou Batch both belong to this type), so this section will compare the reading and writing performance of these two libraries."
   ]
  },
  {
   "cell_type": "markdown",
   "id": "5d09a5b7",
   "metadata": {},
   "source": [
    "### TreeValue's Get and Set"
   ]
  },
  {
   "cell_type": "code",
   "execution_count": 2,
   "id": "9519c4bb",
   "metadata": {
    "execution": {
     "iopub.execute_input": "2023-02-27T11:56:26.705717Z",
     "iopub.status.busy": "2023-02-27T11:56:26.705108Z",
     "iopub.status.idle": "2023-02-27T11:56:26.987374Z",
     "shell.execute_reply": "2023-02-27T11:56:26.986674Z"
    }
   },
   "outputs": [],
   "source": [
    "from treevalue import FastTreeValue\n",
    "\n",
    "t = FastTreeValue(_TREE_DATA_2)"
   ]
  },
  {
   "cell_type": "code",
   "execution_count": 3,
   "id": "11c37677",
   "metadata": {
    "execution": {
     "iopub.execute_input": "2023-02-27T11:56:26.990701Z",
     "iopub.status.busy": "2023-02-27T11:56:26.990062Z",
     "iopub.status.idle": "2023-02-27T11:56:26.998680Z",
     "shell.execute_reply": "2023-02-27T11:56:26.997977Z"
    }
   },
   "outputs": [
    {
     "data": {
      "text/plain": [
       "<FastTreeValue 0x7fad740b7dc0>\n",
       "├── 'a' --> tensor([[-0.3867, -0.4502, -1.7339],\n",
       "│                   [-0.5838,  1.1508,  1.1885]])\n",
       "└── 'x' --> <FastTreeValue 0x7fad74058490>\n",
       "    └── 'c' --> tensor([[ 1.2505,  0.0467, -1.3784,  0.0556],\n",
       "                        [-0.2387,  0.4657,  1.3429,  1.3016],\n",
       "                        [ 1.0546,  0.4774, -1.3144,  0.4751]])"
      ]
     },
     "execution_count": 3,
     "metadata": {},
     "output_type": "execute_result"
    }
   ],
   "source": [
    "t"
   ]
  },
  {
   "cell_type": "code",
   "execution_count": 4,
   "id": "fd70b0b9",
   "metadata": {
    "execution": {
     "iopub.execute_input": "2023-02-27T11:56:27.001718Z",
     "iopub.status.busy": "2023-02-27T11:56:27.001201Z",
     "iopub.status.idle": "2023-02-27T11:56:27.006854Z",
     "shell.execute_reply": "2023-02-27T11:56:27.006282Z"
    }
   },
   "outputs": [
    {
     "data": {
      "text/plain": [
       "tensor([[-0.3867, -0.4502, -1.7339],\n",
       "        [-0.5838,  1.1508,  1.1885]])"
      ]
     },
     "execution_count": 4,
     "metadata": {},
     "output_type": "execute_result"
    }
   ],
   "source": [
    "t.a"
   ]
  },
  {
   "cell_type": "code",
   "execution_count": 5,
   "id": "c18197bd",
   "metadata": {
    "execution": {
     "iopub.execute_input": "2023-02-27T11:56:27.009149Z",
     "iopub.status.busy": "2023-02-27T11:56:27.008934Z",
     "iopub.status.idle": "2023-02-27T11:56:31.984084Z",
     "shell.execute_reply": "2023-02-27T11:56:31.982531Z"
    }
   },
   "outputs": [
    {
     "name": "stdout",
     "output_type": "stream",
     "text": [
      "61.1 ns ± 0.0341 ns per loop (mean ± std. dev. of 7 runs, 10,000,000 loops each)\n"
     ]
    }
   ],
   "source": [
    "%timeit t.a"
   ]
  },
  {
   "cell_type": "code",
   "execution_count": 6,
   "id": "bd52f867",
   "metadata": {
    "execution": {
     "iopub.execute_input": "2023-02-27T11:56:31.987345Z",
     "iopub.status.busy": "2023-02-27T11:56:31.986751Z",
     "iopub.status.idle": "2023-02-27T11:56:31.993625Z",
     "shell.execute_reply": "2023-02-27T11:56:31.993001Z"
    }
   },
   "outputs": [
    {
     "data": {
      "text/plain": [
       "<FastTreeValue 0x7fad740b7dc0>\n",
       "├── 'a' --> tensor([[ 0.4586, -0.4561,  1.1784],\n",
       "│                   [-0.4969, -1.6781,  1.3396]])\n",
       "└── 'x' --> <FastTreeValue 0x7fad74058490>\n",
       "    └── 'c' --> tensor([[ 1.2505,  0.0467, -1.3784,  0.0556],\n",
       "                        [-0.2387,  0.4657,  1.3429,  1.3016],\n",
       "                        [ 1.0546,  0.4774, -1.3144,  0.4751]])"
      ]
     },
     "execution_count": 6,
     "metadata": {},
     "output_type": "execute_result"
    }
   ],
   "source": [
    "new_value = torch.randn(2, 3)\n",
    "t.a = new_value\n",
    "\n",
    "t"
   ]
  },
  {
   "cell_type": "code",
   "execution_count": 7,
   "id": "bbe04d1c",
   "metadata": {
    "execution": {
     "iopub.execute_input": "2023-02-27T11:56:31.996782Z",
     "iopub.status.busy": "2023-02-27T11:56:31.996227Z",
     "iopub.status.idle": "2023-02-27T11:56:36.943624Z",
     "shell.execute_reply": "2023-02-27T11:56:36.942861Z"
    }
   },
   "outputs": [
    {
     "name": "stdout",
     "output_type": "stream",
     "text": [
      "61 ns ± 0.0454 ns per loop (mean ± std. dev. of 7 runs, 10,000,000 loops each)\n"
     ]
    }
   ],
   "source": [
    "%timeit t.a = new_value"
   ]
  },
  {
   "cell_type": "markdown",
   "id": "48c49731",
   "metadata": {},
   "source": [
    "### Tianshou Batch's Get and Set"
   ]
  },
  {
   "cell_type": "code",
   "execution_count": 8,
   "id": "f1bb14c1",
   "metadata": {
    "execution": {
     "iopub.execute_input": "2023-02-27T11:56:36.946892Z",
     "iopub.status.busy": "2023-02-27T11:56:36.946253Z",
     "iopub.status.idle": "2023-02-27T11:56:37.272303Z",
     "shell.execute_reply": "2023-02-27T11:56:37.271586Z"
    }
   },
   "outputs": [],
   "source": [
    "from tianshou.data import Batch\n",
    "\n",
    "b = Batch(**_TREE_DATA_2)"
   ]
  },
  {
   "cell_type": "code",
   "execution_count": 9,
   "id": "cb0777c3",
   "metadata": {
    "execution": {
     "iopub.execute_input": "2023-02-27T11:56:37.275628Z",
     "iopub.status.busy": "2023-02-27T11:56:37.275051Z",
     "iopub.status.idle": "2023-02-27T11:56:37.281253Z",
     "shell.execute_reply": "2023-02-27T11:56:37.280640Z"
    }
   },
   "outputs": [
    {
     "data": {
      "text/plain": [
       "Batch(\n",
       "    a: tensor([[-0.3867, -0.4502, -1.7339],\n",
       "               [-0.5838,  1.1508,  1.1885]]),\n",
       "    x: Batch(\n",
       "           c: tensor([[ 1.2505,  0.0467, -1.3784,  0.0556],\n",
       "                      [-0.2387,  0.4657,  1.3429,  1.3016],\n",
       "                      [ 1.0546,  0.4774, -1.3144,  0.4751]]),\n",
       "       ),\n",
       ")"
      ]
     },
     "execution_count": 9,
     "metadata": {},
     "output_type": "execute_result"
    }
   ],
   "source": [
    "b"
   ]
  },
  {
   "cell_type": "code",
   "execution_count": 10,
   "id": "43ef8ea3",
   "metadata": {
    "execution": {
     "iopub.execute_input": "2023-02-27T11:56:37.283814Z",
     "iopub.status.busy": "2023-02-27T11:56:37.283449Z",
     "iopub.status.idle": "2023-02-27T11:56:37.288324Z",
     "shell.execute_reply": "2023-02-27T11:56:37.287686Z"
    }
   },
   "outputs": [
    {
     "data": {
      "text/plain": [
       "tensor([[-0.3867, -0.4502, -1.7339],\n",
       "        [-0.5838,  1.1508,  1.1885]])"
      ]
     },
     "execution_count": 10,
     "metadata": {},
     "output_type": "execute_result"
    }
   ],
   "source": [
    "b.a"
   ]
  },
  {
   "cell_type": "code",
   "execution_count": 11,
   "id": "b785ab72",
   "metadata": {
    "execution": {
     "iopub.execute_input": "2023-02-27T11:56:37.291117Z",
     "iopub.status.busy": "2023-02-27T11:56:37.290607Z",
     "iopub.status.idle": "2023-02-27T11:56:41.546698Z",
     "shell.execute_reply": "2023-02-27T11:56:41.545951Z"
    }
   },
   "outputs": [
    {
     "name": "stdout",
     "output_type": "stream",
     "text": [
      "52.6 ns ± 0.0839 ns per loop (mean ± std. dev. of 7 runs, 10,000,000 loops each)\n"
     ]
    }
   ],
   "source": [
    "%timeit b.a"
   ]
  },
  {
   "cell_type": "code",
   "execution_count": 12,
   "id": "ad54dc69",
   "metadata": {
    "execution": {
     "iopub.execute_input": "2023-02-27T11:56:41.549798Z",
     "iopub.status.busy": "2023-02-27T11:56:41.549239Z",
     "iopub.status.idle": "2023-02-27T11:56:41.556679Z",
     "shell.execute_reply": "2023-02-27T11:56:41.556094Z"
    }
   },
   "outputs": [
    {
     "data": {
      "text/plain": [
       "Batch(\n",
       "    a: tensor([[ 0.7735, -1.0798, -0.5141],\n",
       "               [-1.0147, -1.1593,  0.3065]]),\n",
       "    x: Batch(\n",
       "           c: tensor([[ 1.2505,  0.0467, -1.3784,  0.0556],\n",
       "                      [-0.2387,  0.4657,  1.3429,  1.3016],\n",
       "                      [ 1.0546,  0.4774, -1.3144,  0.4751]]),\n",
       "       ),\n",
       ")"
      ]
     },
     "execution_count": 12,
     "metadata": {},
     "output_type": "execute_result"
    }
   ],
   "source": [
    "new_value = torch.randn(2, 3)\n",
    "b.a = new_value\n",
    "\n",
    "b"
   ]
  },
  {
   "cell_type": "code",
   "execution_count": 13,
   "id": "29b1d0bf",
   "metadata": {
    "execution": {
     "iopub.execute_input": "2023-02-27T11:56:41.559420Z",
     "iopub.status.busy": "2023-02-27T11:56:41.558916Z",
     "iopub.status.idle": "2023-02-27T11:56:45.498425Z",
     "shell.execute_reply": "2023-02-27T11:56:45.497663Z"
    }
   },
   "outputs": [
    {
     "name": "stdout",
     "output_type": "stream",
     "text": [
      "485 ns ± 0.14 ns per loop (mean ± std. dev. of 7 runs, 1,000,000 loops each)\n"
     ]
    }
   ],
   "source": [
    "%timeit b.a = new_value"
   ]
  },
  {
   "cell_type": "markdown",
   "id": "b61ad1d0",
   "metadata": {},
   "source": [
    "## Initialization"
   ]
  },
  {
   "cell_type": "markdown",
   "id": "d70f0d54",
   "metadata": {},
   "source": [
    "### TreeValue's Initialization"
   ]
  },
  {
   "cell_type": "code",
   "execution_count": 14,
   "id": "d32a679b",
   "metadata": {
    "execution": {
     "iopub.execute_input": "2023-02-27T11:56:45.501325Z",
     "iopub.status.busy": "2023-02-27T11:56:45.500837Z",
     "iopub.status.idle": "2023-02-27T11:56:52.364197Z",
     "shell.execute_reply": "2023-02-27T11:56:52.363344Z"
    }
   },
   "outputs": [
    {
     "name": "stdout",
     "output_type": "stream",
     "text": [
      "848 ns ± 5.48 ns per loop (mean ± std. dev. of 7 runs, 1,000,000 loops each)\n"
     ]
    }
   ],
   "source": [
    "%timeit FastTreeValue(_TREE_DATA_1)"
   ]
  },
  {
   "cell_type": "markdown",
   "id": "24f3707b",
   "metadata": {},
   "source": [
    "### Tianshou Batch's Initialization"
   ]
  },
  {
   "cell_type": "code",
   "execution_count": 15,
   "id": "ac3958df",
   "metadata": {
    "execution": {
     "iopub.execute_input": "2023-02-27T11:56:52.367005Z",
     "iopub.status.busy": "2023-02-27T11:56:52.366635Z",
     "iopub.status.idle": "2023-02-27T11:57:01.634449Z",
     "shell.execute_reply": "2023-02-27T11:57:01.633683Z"
    }
   },
   "outputs": [
    {
     "name": "stdout",
     "output_type": "stream",
     "text": [
      "11.4 µs ± 14.1 ns per loop (mean ± std. dev. of 7 runs, 100,000 loops each)\n"
     ]
    }
   ],
   "source": [
    "%timeit Batch(**_TREE_DATA_1)"
   ]
  },
  {
   "cell_type": "markdown",
   "id": "1ab82e2d",
   "metadata": {},
   "source": [
    "## Deep Copy Operation"
   ]
  },
  {
   "cell_type": "code",
   "execution_count": 16,
   "id": "210a9442",
   "metadata": {
    "execution": {
     "iopub.execute_input": "2023-02-27T11:57:01.637684Z",
     "iopub.status.busy": "2023-02-27T11:57:01.637173Z",
     "iopub.status.idle": "2023-02-27T11:57:01.640943Z",
     "shell.execute_reply": "2023-02-27T11:57:01.640310Z"
    }
   },
   "outputs": [],
   "source": [
    "import copy"
   ]
  },
  {
   "cell_type": "markdown",
   "id": "5a736274",
   "metadata": {},
   "source": [
    "### Deep Copy of TreeValue"
   ]
  },
  {
   "cell_type": "code",
   "execution_count": 17,
   "id": "f9bcadd6",
   "metadata": {
    "execution": {
     "iopub.execute_input": "2023-02-27T11:57:01.643600Z",
     "iopub.status.busy": "2023-02-27T11:57:01.643231Z",
     "iopub.status.idle": "2023-02-27T11:57:12.544647Z",
     "shell.execute_reply": "2023-02-27T11:57:12.544070Z"
    }
   },
   "outputs": [
    {
     "name": "stdout",
     "output_type": "stream",
     "text": [
      "134 µs ± 443 ns per loop (mean ± std. dev. of 7 runs, 10,000 loops each)\n"
     ]
    }
   ],
   "source": [
    "t3 = FastTreeValue(_TREE_DATA_3)\n",
    "%timeit copy.deepcopy(t3)"
   ]
  },
  {
   "cell_type": "markdown",
   "id": "bf8be7ea",
   "metadata": {},
   "source": [
    "### Deep Copy of Tianshou Batch"
   ]
  },
  {
   "cell_type": "code",
   "execution_count": 18,
   "id": "91998e6f",
   "metadata": {
    "execution": {
     "iopub.execute_input": "2023-02-27T11:57:12.547387Z",
     "iopub.status.busy": "2023-02-27T11:57:12.547032Z",
     "iopub.status.idle": "2023-02-27T11:57:23.705227Z",
     "shell.execute_reply": "2023-02-27T11:57:23.704664Z"
    }
   },
   "outputs": [
    {
     "name": "stdout",
     "output_type": "stream",
     "text": [
      "138 µs ± 364 ns per loop (mean ± std. dev. of 7 runs, 10,000 loops each)\n"
     ]
    }
   ],
   "source": [
    "b3 = Batch(**_TREE_DATA_3)\n",
    "%timeit copy.deepcopy(b3)"
   ]
  },
  {
   "cell_type": "markdown",
   "id": "223162fb",
   "metadata": {},
   "source": [
    "## Stack, Concat and Split Operation"
   ]
  },
  {
   "cell_type": "markdown",
   "id": "85fa4a73",
   "metadata": {},
   "source": [
    "### Performance of TreeValue"
   ]
  },
  {
   "cell_type": "code",
   "execution_count": 19,
   "id": "a0c2b697",
   "metadata": {
    "execution": {
     "iopub.execute_input": "2023-02-27T11:57:23.708125Z",
     "iopub.status.busy": "2023-02-27T11:57:23.707743Z",
     "iopub.status.idle": "2023-02-27T11:57:23.710848Z",
     "shell.execute_reply": "2023-02-27T11:57:23.710325Z"
    }
   },
   "outputs": [],
   "source": [
    "trees = [FastTreeValue(_TREE_DATA_2) for _ in range(8)]"
   ]
  },
  {
   "cell_type": "code",
   "execution_count": 20,
   "id": "017ea5a5",
   "metadata": {
    "execution": {
     "iopub.execute_input": "2023-02-27T11:57:23.713524Z",
     "iopub.status.busy": "2023-02-27T11:57:23.712995Z",
     "iopub.status.idle": "2023-02-27T11:57:23.722082Z",
     "shell.execute_reply": "2023-02-27T11:57:23.721460Z"
    }
   },
   "outputs": [
    {
     "data": {
      "text/plain": [
       "<FastTreeValue 0x7facd09c3730>\n",
       "├── 'a' --> tensor([[[-0.3867, -0.4502, -1.7339],\n",
       "│                    [-0.5838,  1.1508,  1.1885]],\n",
       "│           \n",
       "│                   [[-0.3867, -0.4502, -1.7339],\n",
       "│                    [-0.5838,  1.1508,  1.1885]],\n",
       "│           \n",
       "│                   [[-0.3867, -0.4502, -1.7339],\n",
       "│                    [-0.5838,  1.1508,  1.1885]],\n",
       "│           \n",
       "│                   [[-0.3867, -0.4502, -1.7339],\n",
       "│                    [-0.5838,  1.1508,  1.1885]],\n",
       "│           \n",
       "│                   [[-0.3867, -0.4502, -1.7339],\n",
       "│                    [-0.5838,  1.1508,  1.1885]],\n",
       "│           \n",
       "│                   [[-0.3867, -0.4502, -1.7339],\n",
       "│                    [-0.5838,  1.1508,  1.1885]],\n",
       "│           \n",
       "│                   [[-0.3867, -0.4502, -1.7339],\n",
       "│                    [-0.5838,  1.1508,  1.1885]],\n",
       "│           \n",
       "│                   [[-0.3867, -0.4502, -1.7339],\n",
       "│                    [-0.5838,  1.1508,  1.1885]]])\n",
       "└── 'x' --> <FastTreeValue 0x7facd09cdfa0>\n",
       "    └── 'c' --> tensor([[[ 1.2505,  0.0467, -1.3784,  0.0556],\n",
       "                         [-0.2387,  0.4657,  1.3429,  1.3016],\n",
       "                         [ 1.0546,  0.4774, -1.3144,  0.4751]],\n",
       "                \n",
       "                        [[ 1.2505,  0.0467, -1.3784,  0.0556],\n",
       "                         [-0.2387,  0.4657,  1.3429,  1.3016],\n",
       "                         [ 1.0546,  0.4774, -1.3144,  0.4751]],\n",
       "                \n",
       "                        [[ 1.2505,  0.0467, -1.3784,  0.0556],\n",
       "                         [-0.2387,  0.4657,  1.3429,  1.3016],\n",
       "                         [ 1.0546,  0.4774, -1.3144,  0.4751]],\n",
       "                \n",
       "                        [[ 1.2505,  0.0467, -1.3784,  0.0556],\n",
       "                         [-0.2387,  0.4657,  1.3429,  1.3016],\n",
       "                         [ 1.0546,  0.4774, -1.3144,  0.4751]],\n",
       "                \n",
       "                        [[ 1.2505,  0.0467, -1.3784,  0.0556],\n",
       "                         [-0.2387,  0.4657,  1.3429,  1.3016],\n",
       "                         [ 1.0546,  0.4774, -1.3144,  0.4751]],\n",
       "                \n",
       "                        [[ 1.2505,  0.0467, -1.3784,  0.0556],\n",
       "                         [-0.2387,  0.4657,  1.3429,  1.3016],\n",
       "                         [ 1.0546,  0.4774, -1.3144,  0.4751]],\n",
       "                \n",
       "                        [[ 1.2505,  0.0467, -1.3784,  0.0556],\n",
       "                         [-0.2387,  0.4657,  1.3429,  1.3016],\n",
       "                         [ 1.0546,  0.4774, -1.3144,  0.4751]],\n",
       "                \n",
       "                        [[ 1.2505,  0.0467, -1.3784,  0.0556],\n",
       "                         [-0.2387,  0.4657,  1.3429,  1.3016],\n",
       "                         [ 1.0546,  0.4774, -1.3144,  0.4751]]])"
      ]
     },
     "execution_count": 20,
     "metadata": {},
     "output_type": "execute_result"
    }
   ],
   "source": [
    "t_stack = FastTreeValue.func(subside=True)(torch.stack)\n",
    "\n",
    "t_stack(trees)"
   ]
  },
  {
   "cell_type": "code",
   "execution_count": 21,
   "id": "f8b3f415",
   "metadata": {
    "execution": {
     "iopub.execute_input": "2023-02-27T11:57:23.724762Z",
     "iopub.status.busy": "2023-02-27T11:57:23.724410Z",
     "iopub.status.idle": "2023-02-27T11:57:26.304821Z",
     "shell.execute_reply": "2023-02-27T11:57:26.303932Z"
    }
   },
   "outputs": [
    {
     "name": "stdout",
     "output_type": "stream",
     "text": [
      "31.7 µs ± 107 ns per loop (mean ± std. dev. of 7 runs, 10,000 loops each)\n"
     ]
    }
   ],
   "source": [
    "%timeit t_stack(trees)"
   ]
  },
  {
   "cell_type": "code",
   "execution_count": 22,
   "id": "94b56771",
   "metadata": {
    "execution": {
     "iopub.execute_input": "2023-02-27T11:57:26.307877Z",
     "iopub.status.busy": "2023-02-27T11:57:26.307620Z",
     "iopub.status.idle": "2023-02-27T11:57:26.316668Z",
     "shell.execute_reply": "2023-02-27T11:57:26.316054Z"
    }
   },
   "outputs": [
    {
     "data": {
      "text/plain": [
       "<FastTreeValue 0x7facd0933280>\n",
       "├── 'a' --> tensor([[-0.3867, -0.4502, -1.7339],\n",
       "│                   [-0.5838,  1.1508,  1.1885],\n",
       "│                   [-0.3867, -0.4502, -1.7339],\n",
       "│                   [-0.5838,  1.1508,  1.1885],\n",
       "│                   [-0.3867, -0.4502, -1.7339],\n",
       "│                   [-0.5838,  1.1508,  1.1885],\n",
       "│                   [-0.3867, -0.4502, -1.7339],\n",
       "│                   [-0.5838,  1.1508,  1.1885],\n",
       "│                   [-0.3867, -0.4502, -1.7339],\n",
       "│                   [-0.5838,  1.1508,  1.1885],\n",
       "│                   [-0.3867, -0.4502, -1.7339],\n",
       "│                   [-0.5838,  1.1508,  1.1885],\n",
       "│                   [-0.3867, -0.4502, -1.7339],\n",
       "│                   [-0.5838,  1.1508,  1.1885],\n",
       "│                   [-0.3867, -0.4502, -1.7339],\n",
       "│                   [-0.5838,  1.1508,  1.1885]])\n",
       "└── 'x' --> <FastTreeValue 0x7fad7405fbe0>\n",
       "    └── 'c' --> tensor([[ 1.2505,  0.0467, -1.3784,  0.0556],\n",
       "                        [-0.2387,  0.4657,  1.3429,  1.3016],\n",
       "                        [ 1.0546,  0.4774, -1.3144,  0.4751],\n",
       "                        [ 1.2505,  0.0467, -1.3784,  0.0556],\n",
       "                        [-0.2387,  0.4657,  1.3429,  1.3016],\n",
       "                        [ 1.0546,  0.4774, -1.3144,  0.4751],\n",
       "                        [ 1.2505,  0.0467, -1.3784,  0.0556],\n",
       "                        [-0.2387,  0.4657,  1.3429,  1.3016],\n",
       "                        [ 1.0546,  0.4774, -1.3144,  0.4751],\n",
       "                        [ 1.2505,  0.0467, -1.3784,  0.0556],\n",
       "                        [-0.2387,  0.4657,  1.3429,  1.3016],\n",
       "                        [ 1.0546,  0.4774, -1.3144,  0.4751],\n",
       "                        [ 1.2505,  0.0467, -1.3784,  0.0556],\n",
       "                        [-0.2387,  0.4657,  1.3429,  1.3016],\n",
       "                        [ 1.0546,  0.4774, -1.3144,  0.4751],\n",
       "                        [ 1.2505,  0.0467, -1.3784,  0.0556],\n",
       "                        [-0.2387,  0.4657,  1.3429,  1.3016],\n",
       "                        [ 1.0546,  0.4774, -1.3144,  0.4751],\n",
       "                        [ 1.2505,  0.0467, -1.3784,  0.0556],\n",
       "                        [-0.2387,  0.4657,  1.3429,  1.3016],\n",
       "                        [ 1.0546,  0.4774, -1.3144,  0.4751],\n",
       "                        [ 1.2505,  0.0467, -1.3784,  0.0556],\n",
       "                        [-0.2387,  0.4657,  1.3429,  1.3016],\n",
       "                        [ 1.0546,  0.4774, -1.3144,  0.4751]])"
      ]
     },
     "execution_count": 22,
     "metadata": {},
     "output_type": "execute_result"
    }
   ],
   "source": [
    "t_cat = FastTreeValue.func(subside=True)(torch.cat)\n",
    "\n",
    "t_cat(trees)"
   ]
  },
  {
   "cell_type": "code",
   "execution_count": 23,
   "id": "5e9c06a6",
   "metadata": {
    "execution": {
     "iopub.execute_input": "2023-02-27T11:57:26.320116Z",
     "iopub.status.busy": "2023-02-27T11:57:26.319124Z",
     "iopub.status.idle": "2023-02-27T11:57:28.732336Z",
     "shell.execute_reply": "2023-02-27T11:57:28.731600Z"
    }
   },
   "outputs": [
    {
     "name": "stdout",
     "output_type": "stream",
     "text": [
      "29.7 µs ± 85.2 ns per loop (mean ± std. dev. of 7 runs, 10,000 loops each)\n"
     ]
    }
   ],
   "source": [
    "%timeit t_cat(trees)"
   ]
  },
  {
   "cell_type": "code",
   "execution_count": 24,
   "id": "a3ab5c8f",
   "metadata": {
    "execution": {
     "iopub.execute_input": "2023-02-27T11:57:28.735623Z",
     "iopub.status.busy": "2023-02-27T11:57:28.735025Z",
     "iopub.status.idle": "2023-02-27T11:57:34.261976Z",
     "shell.execute_reply": "2023-02-27T11:57:34.261306Z"
    }
   },
   "outputs": [
    {
     "name": "stdout",
     "output_type": "stream",
     "text": [
      "68.2 µs ± 113 ns per loop (mean ± std. dev. of 7 runs, 10,000 loops each)\n"
     ]
    }
   ],
   "source": [
    "t_split = FastTreeValue.func(rise=True)(torch.split)\n",
    "tree = FastTreeValue({\n",
    "    'obs': torch.randn(8, 4, 84, 84),\n",
    "    'action': torch.randint(0, 6, size=(8, 1,)),\n",
    "    'reward': torch.rand(8, 1),\n",
    "})\n",
    "\n",
    "%timeit t_split(tree, 1)"
   ]
  },
  {
   "cell_type": "markdown",
   "id": "31c3ec0b",
   "metadata": {},
   "source": [
    "### Performance of Tianshou Batch"
   ]
  },
  {
   "cell_type": "code",
   "execution_count": 25,
   "id": "9ead828a",
   "metadata": {
    "execution": {
     "iopub.execute_input": "2023-02-27T11:57:34.264900Z",
     "iopub.status.busy": "2023-02-27T11:57:34.264342Z",
     "iopub.status.idle": "2023-02-27T11:57:34.272221Z",
     "shell.execute_reply": "2023-02-27T11:57:34.271638Z"
    }
   },
   "outputs": [
    {
     "data": {
      "text/plain": [
       "Batch(\n",
       "    x: Batch(\n",
       "           c: tensor([[[ 1.2505,  0.0467, -1.3784,  0.0556],\n",
       "                       [-0.2387,  0.4657,  1.3429,  1.3016],\n",
       "                       [ 1.0546,  0.4774, -1.3144,  0.4751]],\n",
       "              \n",
       "                      [[ 1.2505,  0.0467, -1.3784,  0.0556],\n",
       "                       [-0.2387,  0.4657,  1.3429,  1.3016],\n",
       "                       [ 1.0546,  0.4774, -1.3144,  0.4751]],\n",
       "              \n",
       "                      [[ 1.2505,  0.0467, -1.3784,  0.0556],\n",
       "                       [-0.2387,  0.4657,  1.3429,  1.3016],\n",
       "                       [ 1.0546,  0.4774, -1.3144,  0.4751]],\n",
       "              \n",
       "                      [[ 1.2505,  0.0467, -1.3784,  0.0556],\n",
       "                       [-0.2387,  0.4657,  1.3429,  1.3016],\n",
       "                       [ 1.0546,  0.4774, -1.3144,  0.4751]],\n",
       "              \n",
       "                      [[ 1.2505,  0.0467, -1.3784,  0.0556],\n",
       "                       [-0.2387,  0.4657,  1.3429,  1.3016],\n",
       "                       [ 1.0546,  0.4774, -1.3144,  0.4751]],\n",
       "              \n",
       "                      [[ 1.2505,  0.0467, -1.3784,  0.0556],\n",
       "                       [-0.2387,  0.4657,  1.3429,  1.3016],\n",
       "                       [ 1.0546,  0.4774, -1.3144,  0.4751]],\n",
       "              \n",
       "                      [[ 1.2505,  0.0467, -1.3784,  0.0556],\n",
       "                       [-0.2387,  0.4657,  1.3429,  1.3016],\n",
       "                       [ 1.0546,  0.4774, -1.3144,  0.4751]],\n",
       "              \n",
       "                      [[ 1.2505,  0.0467, -1.3784,  0.0556],\n",
       "                       [-0.2387,  0.4657,  1.3429,  1.3016],\n",
       "                       [ 1.0546,  0.4774, -1.3144,  0.4751]]]),\n",
       "       ),\n",
       "    a: tensor([[[-0.3867, -0.4502, -1.7339],\n",
       "                [-0.5838,  1.1508,  1.1885]],\n",
       "       \n",
       "               [[-0.3867, -0.4502, -1.7339],\n",
       "                [-0.5838,  1.1508,  1.1885]],\n",
       "       \n",
       "               [[-0.3867, -0.4502, -1.7339],\n",
       "                [-0.5838,  1.1508,  1.1885]],\n",
       "       \n",
       "               [[-0.3867, -0.4502, -1.7339],\n",
       "                [-0.5838,  1.1508,  1.1885]],\n",
       "       \n",
       "               [[-0.3867, -0.4502, -1.7339],\n",
       "                [-0.5838,  1.1508,  1.1885]],\n",
       "       \n",
       "               [[-0.3867, -0.4502, -1.7339],\n",
       "                [-0.5838,  1.1508,  1.1885]],\n",
       "       \n",
       "               [[-0.3867, -0.4502, -1.7339],\n",
       "                [-0.5838,  1.1508,  1.1885]],\n",
       "       \n",
       "               [[-0.3867, -0.4502, -1.7339],\n",
       "                [-0.5838,  1.1508,  1.1885]]]),\n",
       ")"
      ]
     },
     "execution_count": 25,
     "metadata": {},
     "output_type": "execute_result"
    }
   ],
   "source": [
    "batches = [Batch(**_TREE_DATA_2) for _ in range(8)]\n",
    "\n",
    "Batch.stack(batches)"
   ]
  },
  {
   "cell_type": "code",
   "execution_count": 26,
   "id": "ec9037a3",
   "metadata": {
    "execution": {
     "iopub.execute_input": "2023-02-27T11:57:34.274611Z",
     "iopub.status.busy": "2023-02-27T11:57:34.274273Z",
     "iopub.status.idle": "2023-02-27T11:57:40.584222Z",
     "shell.execute_reply": "2023-02-27T11:57:40.583417Z"
    }
   },
   "outputs": [
    {
     "name": "stdout",
     "output_type": "stream",
     "text": [
      "77.7 µs ± 162 ns per loop (mean ± std. dev. of 7 runs, 10,000 loops each)\n"
     ]
    }
   ],
   "source": [
    "%timeit Batch.stack(batches)"
   ]
  },
  {
   "cell_type": "code",
   "execution_count": 27,
   "id": "cb8ab77e",
   "metadata": {
    "execution": {
     "iopub.execute_input": "2023-02-27T11:57:40.588121Z",
     "iopub.status.busy": "2023-02-27T11:57:40.587449Z",
     "iopub.status.idle": "2023-02-27T11:57:40.596062Z",
     "shell.execute_reply": "2023-02-27T11:57:40.595240Z"
    }
   },
   "outputs": [
    {
     "data": {
      "text/plain": [
       "Batch(\n",
       "    x: Batch(\n",
       "           c: tensor([[ 1.2505,  0.0467, -1.3784,  0.0556],\n",
       "                      [-0.2387,  0.4657,  1.3429,  1.3016],\n",
       "                      [ 1.0546,  0.4774, -1.3144,  0.4751],\n",
       "                      [ 1.2505,  0.0467, -1.3784,  0.0556],\n",
       "                      [-0.2387,  0.4657,  1.3429,  1.3016],\n",
       "                      [ 1.0546,  0.4774, -1.3144,  0.4751],\n",
       "                      [ 1.2505,  0.0467, -1.3784,  0.0556],\n",
       "                      [-0.2387,  0.4657,  1.3429,  1.3016],\n",
       "                      [ 1.0546,  0.4774, -1.3144,  0.4751],\n",
       "                      [ 1.2505,  0.0467, -1.3784,  0.0556],\n",
       "                      [-0.2387,  0.4657,  1.3429,  1.3016],\n",
       "                      [ 1.0546,  0.4774, -1.3144,  0.4751],\n",
       "                      [ 1.2505,  0.0467, -1.3784,  0.0556],\n",
       "                      [-0.2387,  0.4657,  1.3429,  1.3016],\n",
       "                      [ 1.0546,  0.4774, -1.3144,  0.4751],\n",
       "                      [ 1.2505,  0.0467, -1.3784,  0.0556],\n",
       "                      [-0.2387,  0.4657,  1.3429,  1.3016],\n",
       "                      [ 1.0546,  0.4774, -1.3144,  0.4751],\n",
       "                      [ 1.2505,  0.0467, -1.3784,  0.0556],\n",
       "                      [-0.2387,  0.4657,  1.3429,  1.3016],\n",
       "                      [ 1.0546,  0.4774, -1.3144,  0.4751],\n",
       "                      [ 1.2505,  0.0467, -1.3784,  0.0556],\n",
       "                      [-0.2387,  0.4657,  1.3429,  1.3016],\n",
       "                      [ 1.0546,  0.4774, -1.3144,  0.4751]]),\n",
       "       ),\n",
       "    a: tensor([[-0.3867, -0.4502, -1.7339],\n",
       "               [-0.5838,  1.1508,  1.1885],\n",
       "               [-0.3867, -0.4502, -1.7339],\n",
       "               [-0.5838,  1.1508,  1.1885],\n",
       "               [-0.3867, -0.4502, -1.7339],\n",
       "               [-0.5838,  1.1508,  1.1885],\n",
       "               [-0.3867, -0.4502, -1.7339],\n",
       "               [-0.5838,  1.1508,  1.1885],\n",
       "               [-0.3867, -0.4502, -1.7339],\n",
       "               [-0.5838,  1.1508,  1.1885],\n",
       "               [-0.3867, -0.4502, -1.7339],\n",
       "               [-0.5838,  1.1508,  1.1885],\n",
       "               [-0.3867, -0.4502, -1.7339],\n",
       "               [-0.5838,  1.1508,  1.1885],\n",
       "               [-0.3867, -0.4502, -1.7339],\n",
       "               [-0.5838,  1.1508,  1.1885]]),\n",
       ")"
      ]
     },
     "execution_count": 27,
     "metadata": {},
     "output_type": "execute_result"
    }
   ],
   "source": [
    "Batch.cat(batches)"
   ]
  },
  {
   "cell_type": "code",
   "execution_count": 28,
   "id": "18dfb045",
   "metadata": {
    "execution": {
     "iopub.execute_input": "2023-02-27T11:57:40.599091Z",
     "iopub.status.busy": "2023-02-27T11:57:40.598718Z",
     "iopub.status.idle": "2023-02-27T11:57:52.260328Z",
     "shell.execute_reply": "2023-02-27T11:57:52.259576Z"
    }
   },
   "outputs": [
    {
     "name": "stdout",
     "output_type": "stream",
     "text": [
      "144 µs ± 190 ns per loop (mean ± std. dev. of 7 runs, 10,000 loops each)\n"
     ]
    }
   ],
   "source": [
    "%timeit Batch.cat(batches)"
   ]
  },
  {
   "cell_type": "code",
   "execution_count": 29,
   "id": "c6688e51",
   "metadata": {
    "execution": {
     "iopub.execute_input": "2023-02-27T11:57:52.263569Z",
     "iopub.status.busy": "2023-02-27T11:57:52.263019Z",
     "iopub.status.idle": "2023-02-27T11:57:54.809699Z",
     "shell.execute_reply": "2023-02-27T11:57:54.809103Z"
    }
   },
   "outputs": [
    {
     "name": "stdout",
     "output_type": "stream",
     "text": [
      "314 µs ± 13.4 µs per loop (mean ± std. dev. of 7 runs, 1,000 loops each)\n"
     ]
    }
   ],
   "source": [
    "batch = Batch({\n",
    "    'obs': torch.randn(8, 4, 84, 84),\n",
    "    'action': torch.randint(0, 6, size=(8, 1,)),\n",
    "    'reward': torch.rand(8, 1)}\n",
    ")\n",
    "\n",
    "%timeit list(Batch.split(batch, 1, shuffle=False, merge_last=True))"
   ]
  },
  {
   "cell_type": "code",
   "execution_count": null,
   "id": "2539fbd9",
   "metadata": {},
   "outputs": [],
   "source": []
  }
 ],
 "metadata": {
  "kernelspec": {
   "display_name": "Python 3 (ipykernel)",
   "language": "python",
   "name": "python3"
  },
  "language_info": {
   "codemirror_mode": {
    "name": "ipython",
    "version": 3
   },
   "file_extension": ".py",
   "mimetype": "text/x-python",
   "name": "python",
   "nbconvert_exporter": "python",
   "pygments_lexer": "ipython3",
   "version": "3.8.16"
  }
 },
 "nbformat": 4,
 "nbformat_minor": 5
}
