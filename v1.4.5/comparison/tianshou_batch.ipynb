{
 "cells": [
  {
   "cell_type": "markdown",
   "id": "9d39d946",
   "metadata": {},
   "source": [
    "# Comparison Between TreeValue and Tianshou Batch"
   ]
  },
  {
   "cell_type": "markdown",
   "id": "3c6db2d4",
   "metadata": {},
   "source": [
    "In this section, we will take a look at the feature and performance of the [Tianshou Batch](https://github.com/thu-ml/tianshou) library, which is developed by Tsinghua Machine Learning Group."
   ]
  },
  {
   "cell_type": "markdown",
   "id": "069361b0",
   "metadata": {},
   "source": [
    "Before starting the comparison, let us define some thing."
   ]
  },
  {
   "cell_type": "code",
   "execution_count": 1,
   "id": "06fc8d26",
   "metadata": {
    "execution": {
     "iopub.execute_input": "2023-02-27T12:30:42.735787Z",
     "iopub.status.busy": "2023-02-27T12:30:42.735570Z",
     "iopub.status.idle": "2023-02-27T12:30:43.643668Z",
     "shell.execute_reply": "2023-02-27T12:30:43.643004Z"
    }
   },
   "outputs": [
    {
     "name": "stderr",
     "output_type": "stream",
     "text": [
      "/opt/hostedtoolcache/Python/3.8.16/x64/lib/python3.8/site-packages/tqdm/auto.py:22: TqdmWarning: IProgress not found. Please update jupyter and ipywidgets. See https://ipywidgets.readthedocs.io/en/stable/user_install.html\n",
      "  from .autonotebook import tqdm as notebook_tqdm\n"
     ]
    }
   ],
   "source": [
    "import torch \n",
    "\n",
    "_TREE_DATA_1 = {'a': 1, 'b': 2, 'x': {'c': 3, 'd': 4}}\n",
    "_TREE_DATA_2 = {\n",
    "    'a': torch.randn(2, 3), \n",
    "    'x': {\n",
    "        'c': torch.randn(3, 4)\n",
    "    },\n",
    "}\n",
    "_TREE_DATA_3 = {\n",
    "    'obs': torch.randn(4, 84, 84),\n",
    "    'action': torch.randint(0, 6, size=(1,)),\n",
    "    'reward': torch.rand(1),\n",
    "}"
   ]
  },
  {
   "cell_type": "markdown",
   "id": "83461b25",
   "metadata": {},
   "source": [
    "## Read and Write Operation"
   ]
  },
  {
   "cell_type": "markdown",
   "id": "067b3f73",
   "metadata": {},
   "source": [
    "Reading and writing are the two most common operations in the tree data structure based on the data model (TreeValue and Tianshou Batch both belong to this type), so this section will compare the reading and writing performance of these two libraries."
   ]
  },
  {
   "cell_type": "markdown",
   "id": "5d09a5b7",
   "metadata": {},
   "source": [
    "### TreeValue's Get and Set"
   ]
  },
  {
   "cell_type": "code",
   "execution_count": 2,
   "id": "9519c4bb",
   "metadata": {
    "execution": {
     "iopub.execute_input": "2023-02-27T12:30:43.646739Z",
     "iopub.status.busy": "2023-02-27T12:30:43.646254Z",
     "iopub.status.idle": "2023-02-27T12:30:43.925035Z",
     "shell.execute_reply": "2023-02-27T12:30:43.924360Z"
    }
   },
   "outputs": [],
   "source": [
    "from treevalue import FastTreeValue\n",
    "\n",
    "t = FastTreeValue(_TREE_DATA_2)"
   ]
  },
  {
   "cell_type": "code",
   "execution_count": 3,
   "id": "11c37677",
   "metadata": {
    "execution": {
     "iopub.execute_input": "2023-02-27T12:30:43.928262Z",
     "iopub.status.busy": "2023-02-27T12:30:43.927662Z",
     "iopub.status.idle": "2023-02-27T12:30:43.936027Z",
     "shell.execute_reply": "2023-02-27T12:30:43.935385Z"
    }
   },
   "outputs": [
    {
     "data": {
      "text/plain": [
       "<FastTreeValue 0x7f6af8ed9ca0>\n",
       "├── 'a' --> tensor([[-0.0243,  0.6236,  0.4430],\n",
       "│                   [ 1.2774, -0.0777, -0.0534]])\n",
       "└── 'x' --> <FastTreeValue 0x7f6af8ed9940>\n",
       "    └── 'c' --> tensor([[ 1.2640, -0.7245,  0.1980,  0.2504],\n",
       "                        [ 0.1343, -0.3038, -0.0161, -0.8113],\n",
       "                        [ 0.9927, -1.0041,  0.3425, -0.9669]])"
      ]
     },
     "execution_count": 3,
     "metadata": {},
     "output_type": "execute_result"
    }
   ],
   "source": [
    "t"
   ]
  },
  {
   "cell_type": "code",
   "execution_count": 4,
   "id": "fd70b0b9",
   "metadata": {
    "execution": {
     "iopub.execute_input": "2023-02-27T12:30:43.938566Z",
     "iopub.status.busy": "2023-02-27T12:30:43.938229Z",
     "iopub.status.idle": "2023-02-27T12:30:43.942802Z",
     "shell.execute_reply": "2023-02-27T12:30:43.942184Z"
    }
   },
   "outputs": [
    {
     "data": {
      "text/plain": [
       "tensor([[-0.0243,  0.6236,  0.4430],\n",
       "        [ 1.2774, -0.0777, -0.0534]])"
      ]
     },
     "execution_count": 4,
     "metadata": {},
     "output_type": "execute_result"
    }
   ],
   "source": [
    "t.a"
   ]
  },
  {
   "cell_type": "code",
   "execution_count": 5,
   "id": "c18197bd",
   "metadata": {
    "execution": {
     "iopub.execute_input": "2023-02-27T12:30:43.945343Z",
     "iopub.status.busy": "2023-02-27T12:30:43.944871Z",
     "iopub.status.idle": "2023-02-27T12:30:49.270381Z",
     "shell.execute_reply": "2023-02-27T12:30:49.269621Z"
    }
   },
   "outputs": [
    {
     "name": "stdout",
     "output_type": "stream",
     "text": [
      "65.6 ns ± 0.0189 ns per loop (mean ± std. dev. of 7 runs, 10,000,000 loops each)\n"
     ]
    }
   ],
   "source": [
    "%timeit t.a"
   ]
  },
  {
   "cell_type": "code",
   "execution_count": 6,
   "id": "bd52f867",
   "metadata": {
    "execution": {
     "iopub.execute_input": "2023-02-27T12:30:49.273532Z",
     "iopub.status.busy": "2023-02-27T12:30:49.273017Z",
     "iopub.status.idle": "2023-02-27T12:30:49.279626Z",
     "shell.execute_reply": "2023-02-27T12:30:49.279042Z"
    }
   },
   "outputs": [
    {
     "data": {
      "text/plain": [
       "<FastTreeValue 0x7f6af8ed9ca0>\n",
       "├── 'a' --> tensor([[-1.6647, -0.1696,  1.2950],\n",
       "│                   [ 1.1025, -0.4141,  0.7832]])\n",
       "└── 'x' --> <FastTreeValue 0x7f6af8ed9940>\n",
       "    └── 'c' --> tensor([[ 1.2640, -0.7245,  0.1980,  0.2504],\n",
       "                        [ 0.1343, -0.3038, -0.0161, -0.8113],\n",
       "                        [ 0.9927, -1.0041,  0.3425, -0.9669]])"
      ]
     },
     "execution_count": 6,
     "metadata": {},
     "output_type": "execute_result"
    }
   ],
   "source": [
    "new_value = torch.randn(2, 3)\n",
    "t.a = new_value\n",
    "\n",
    "t"
   ]
  },
  {
   "cell_type": "code",
   "execution_count": 7,
   "id": "bbe04d1c",
   "metadata": {
    "execution": {
     "iopub.execute_input": "2023-02-27T12:30:49.282486Z",
     "iopub.status.busy": "2023-02-27T12:30:49.281890Z",
     "iopub.status.idle": "2023-02-27T12:30:54.423550Z",
     "shell.execute_reply": "2023-02-27T12:30:54.422791Z"
    }
   },
   "outputs": [
    {
     "name": "stdout",
     "output_type": "stream",
     "text": [
      "63.4 ns ± 0.0627 ns per loop (mean ± std. dev. of 7 runs, 10,000,000 loops each)\n"
     ]
    }
   ],
   "source": [
    "%timeit t.a = new_value"
   ]
  },
  {
   "cell_type": "markdown",
   "id": "48c49731",
   "metadata": {},
   "source": [
    "### Tianshou Batch's Get and Set"
   ]
  },
  {
   "cell_type": "code",
   "execution_count": 8,
   "id": "f1bb14c1",
   "metadata": {
    "execution": {
     "iopub.execute_input": "2023-02-27T12:30:54.426550Z",
     "iopub.status.busy": "2023-02-27T12:30:54.425945Z",
     "iopub.status.idle": "2023-02-27T12:30:54.755812Z",
     "shell.execute_reply": "2023-02-27T12:30:54.755136Z"
    }
   },
   "outputs": [],
   "source": [
    "from tianshou.data import Batch\n",
    "\n",
    "b = Batch(**_TREE_DATA_2)"
   ]
  },
  {
   "cell_type": "code",
   "execution_count": 9,
   "id": "cb0777c3",
   "metadata": {
    "execution": {
     "iopub.execute_input": "2023-02-27T12:30:54.758834Z",
     "iopub.status.busy": "2023-02-27T12:30:54.758312Z",
     "iopub.status.idle": "2023-02-27T12:30:54.764433Z",
     "shell.execute_reply": "2023-02-27T12:30:54.763853Z"
    }
   },
   "outputs": [
    {
     "data": {
      "text/plain": [
       "Batch(\n",
       "    a: tensor([[-0.0243,  0.6236,  0.4430],\n",
       "               [ 1.2774, -0.0777, -0.0534]]),\n",
       "    x: Batch(\n",
       "           c: tensor([[ 1.2640, -0.7245,  0.1980,  0.2504],\n",
       "                      [ 0.1343, -0.3038, -0.0161, -0.8113],\n",
       "                      [ 0.9927, -1.0041,  0.3425, -0.9669]]),\n",
       "       ),\n",
       ")"
      ]
     },
     "execution_count": 9,
     "metadata": {},
     "output_type": "execute_result"
    }
   ],
   "source": [
    "b"
   ]
  },
  {
   "cell_type": "code",
   "execution_count": 10,
   "id": "43ef8ea3",
   "metadata": {
    "execution": {
     "iopub.execute_input": "2023-02-27T12:30:54.767203Z",
     "iopub.status.busy": "2023-02-27T12:30:54.766603Z",
     "iopub.status.idle": "2023-02-27T12:30:54.771921Z",
     "shell.execute_reply": "2023-02-27T12:30:54.771342Z"
    }
   },
   "outputs": [
    {
     "data": {
      "text/plain": [
       "tensor([[-0.0243,  0.6236,  0.4430],\n",
       "        [ 1.2774, -0.0777, -0.0534]])"
      ]
     },
     "execution_count": 10,
     "metadata": {},
     "output_type": "execute_result"
    }
   ],
   "source": [
    "b.a"
   ]
  },
  {
   "cell_type": "code",
   "execution_count": 11,
   "id": "b785ab72",
   "metadata": {
    "execution": {
     "iopub.execute_input": "2023-02-27T12:30:54.774430Z",
     "iopub.status.busy": "2023-02-27T12:30:54.773953Z",
     "iopub.status.idle": "2023-02-27T12:30:58.978460Z",
     "shell.execute_reply": "2023-02-27T12:30:58.977745Z"
    }
   },
   "outputs": [
    {
     "name": "stdout",
     "output_type": "stream",
     "text": [
      "51.2 ns ± 0.0468 ns per loop (mean ± std. dev. of 7 runs, 10,000,000 loops each)\n"
     ]
    }
   ],
   "source": [
    "%timeit b.a"
   ]
  },
  {
   "cell_type": "code",
   "execution_count": 12,
   "id": "ad54dc69",
   "metadata": {
    "execution": {
     "iopub.execute_input": "2023-02-27T12:30:58.981073Z",
     "iopub.status.busy": "2023-02-27T12:30:58.980701Z",
     "iopub.status.idle": "2023-02-27T12:30:58.987209Z",
     "shell.execute_reply": "2023-02-27T12:30:58.986623Z"
    }
   },
   "outputs": [
    {
     "data": {
      "text/plain": [
       "Batch(\n",
       "    a: tensor([[-0.9257, -1.0713, -1.7909],\n",
       "               [-0.5314,  0.0387, -0.8394]]),\n",
       "    x: Batch(\n",
       "           c: tensor([[ 1.2640, -0.7245,  0.1980,  0.2504],\n",
       "                      [ 0.1343, -0.3038, -0.0161, -0.8113],\n",
       "                      [ 0.9927, -1.0041,  0.3425, -0.9669]]),\n",
       "       ),\n",
       ")"
      ]
     },
     "execution_count": 12,
     "metadata": {},
     "output_type": "execute_result"
    }
   ],
   "source": [
    "new_value = torch.randn(2, 3)\n",
    "b.a = new_value\n",
    "\n",
    "b"
   ]
  },
  {
   "cell_type": "code",
   "execution_count": 13,
   "id": "29b1d0bf",
   "metadata": {
    "execution": {
     "iopub.execute_input": "2023-02-27T12:30:58.989817Z",
     "iopub.status.busy": "2023-02-27T12:30:58.989326Z",
     "iopub.status.idle": "2023-02-27T12:31:02.889938Z",
     "shell.execute_reply": "2023-02-27T12:31:02.889267Z"
    }
   },
   "outputs": [
    {
     "name": "stdout",
     "output_type": "stream",
     "text": [
      "480 ns ± 0.221 ns per loop (mean ± std. dev. of 7 runs, 1,000,000 loops each)\n"
     ]
    }
   ],
   "source": [
    "%timeit b.a = new_value"
   ]
  },
  {
   "cell_type": "markdown",
   "id": "b61ad1d0",
   "metadata": {},
   "source": [
    "## Initialization"
   ]
  },
  {
   "cell_type": "markdown",
   "id": "d70f0d54",
   "metadata": {},
   "source": [
    "### TreeValue's Initialization"
   ]
  },
  {
   "cell_type": "code",
   "execution_count": 14,
   "id": "d32a679b",
   "metadata": {
    "execution": {
     "iopub.execute_input": "2023-02-27T12:31:02.893226Z",
     "iopub.status.busy": "2023-02-27T12:31:02.892616Z",
     "iopub.status.idle": "2023-02-27T12:31:09.606387Z",
     "shell.execute_reply": "2023-02-27T12:31:09.605713Z"
    }
   },
   "outputs": [
    {
     "name": "stdout",
     "output_type": "stream",
     "text": [
      "826 ns ± 0.109 ns per loop (mean ± std. dev. of 7 runs, 1,000,000 loops each)\n"
     ]
    }
   ],
   "source": [
    "%timeit FastTreeValue(_TREE_DATA_1)"
   ]
  },
  {
   "cell_type": "markdown",
   "id": "24f3707b",
   "metadata": {},
   "source": [
    "### Tianshou Batch's Initialization"
   ]
  },
  {
   "cell_type": "code",
   "execution_count": 15,
   "id": "ac3958df",
   "metadata": {
    "execution": {
     "iopub.execute_input": "2023-02-27T12:31:09.609079Z",
     "iopub.status.busy": "2023-02-27T12:31:09.608700Z",
     "iopub.status.idle": "2023-02-27T12:31:19.336478Z",
     "shell.execute_reply": "2023-02-27T12:31:19.335721Z"
    }
   },
   "outputs": [
    {
     "name": "stdout",
     "output_type": "stream",
     "text": [
      "12 µs ± 27.6 ns per loop (mean ± std. dev. of 7 runs, 100,000 loops each)\n"
     ]
    }
   ],
   "source": [
    "%timeit Batch(**_TREE_DATA_1)"
   ]
  },
  {
   "cell_type": "markdown",
   "id": "1ab82e2d",
   "metadata": {},
   "source": [
    "## Deep Copy Operation"
   ]
  },
  {
   "cell_type": "code",
   "execution_count": 16,
   "id": "210a9442",
   "metadata": {
    "execution": {
     "iopub.execute_input": "2023-02-27T12:31:19.339703Z",
     "iopub.status.busy": "2023-02-27T12:31:19.339196Z",
     "iopub.status.idle": "2023-02-27T12:31:19.343054Z",
     "shell.execute_reply": "2023-02-27T12:31:19.342479Z"
    }
   },
   "outputs": [],
   "source": [
    "import copy"
   ]
  },
  {
   "cell_type": "markdown",
   "id": "5a736274",
   "metadata": {},
   "source": [
    "### Deep Copy of TreeValue"
   ]
  },
  {
   "cell_type": "code",
   "execution_count": 17,
   "id": "f9bcadd6",
   "metadata": {
    "execution": {
     "iopub.execute_input": "2023-02-27T12:31:19.345923Z",
     "iopub.status.busy": "2023-02-27T12:31:19.345431Z",
     "iopub.status.idle": "2023-02-27T12:31:30.238719Z",
     "shell.execute_reply": "2023-02-27T12:31:30.238169Z"
    }
   },
   "outputs": [
    {
     "name": "stdout",
     "output_type": "stream",
     "text": [
      "134 µs ± 267 ns per loop (mean ± std. dev. of 7 runs, 10,000 loops each)\n"
     ]
    }
   ],
   "source": [
    "t3 = FastTreeValue(_TREE_DATA_3)\n",
    "%timeit copy.deepcopy(t3)"
   ]
  },
  {
   "cell_type": "markdown",
   "id": "bf8be7ea",
   "metadata": {},
   "source": [
    "### Deep Copy of Tianshou Batch"
   ]
  },
  {
   "cell_type": "code",
   "execution_count": 18,
   "id": "91998e6f",
   "metadata": {
    "execution": {
     "iopub.execute_input": "2023-02-27T12:31:30.241472Z",
     "iopub.status.busy": "2023-02-27T12:31:30.240989Z",
     "iopub.status.idle": "2023-02-27T12:31:41.432100Z",
     "shell.execute_reply": "2023-02-27T12:31:41.431421Z"
    }
   },
   "outputs": [
    {
     "name": "stdout",
     "output_type": "stream",
     "text": [
      "138 µs ± 365 ns per loop (mean ± std. dev. of 7 runs, 10,000 loops each)\n"
     ]
    }
   ],
   "source": [
    "b3 = Batch(**_TREE_DATA_3)\n",
    "%timeit copy.deepcopy(b3)"
   ]
  },
  {
   "cell_type": "markdown",
   "id": "223162fb",
   "metadata": {},
   "source": [
    "## Stack, Concat and Split Operation"
   ]
  },
  {
   "cell_type": "markdown",
   "id": "85fa4a73",
   "metadata": {},
   "source": [
    "### Performance of TreeValue"
   ]
  },
  {
   "cell_type": "code",
   "execution_count": 19,
   "id": "a0c2b697",
   "metadata": {
    "execution": {
     "iopub.execute_input": "2023-02-27T12:31:41.435266Z",
     "iopub.status.busy": "2023-02-27T12:31:41.435030Z",
     "iopub.status.idle": "2023-02-27T12:31:41.438337Z",
     "shell.execute_reply": "2023-02-27T12:31:41.437822Z"
    }
   },
   "outputs": [],
   "source": [
    "trees = [FastTreeValue(_TREE_DATA_2) for _ in range(8)]"
   ]
  },
  {
   "cell_type": "code",
   "execution_count": 20,
   "id": "017ea5a5",
   "metadata": {
    "execution": {
     "iopub.execute_input": "2023-02-27T12:31:41.440915Z",
     "iopub.status.busy": "2023-02-27T12:31:41.440345Z",
     "iopub.status.idle": "2023-02-27T12:31:41.447158Z",
     "shell.execute_reply": "2023-02-27T12:31:41.446656Z"
    }
   },
   "outputs": [
    {
     "data": {
      "text/plain": [
       "<FastTreeValue 0x7f6acc464310>\n",
       "├── 'a' --> tensor([[[-0.0243,  0.6236,  0.4430],\n",
       "│                    [ 1.2774, -0.0777, -0.0534]],\n",
       "│           \n",
       "│                   [[-0.0243,  0.6236,  0.4430],\n",
       "│                    [ 1.2774, -0.0777, -0.0534]],\n",
       "│           \n",
       "│                   [[-0.0243,  0.6236,  0.4430],\n",
       "│                    [ 1.2774, -0.0777, -0.0534]],\n",
       "│           \n",
       "│                   [[-0.0243,  0.6236,  0.4430],\n",
       "│                    [ 1.2774, -0.0777, -0.0534]],\n",
       "│           \n",
       "│                   [[-0.0243,  0.6236,  0.4430],\n",
       "│                    [ 1.2774, -0.0777, -0.0534]],\n",
       "│           \n",
       "│                   [[-0.0243,  0.6236,  0.4430],\n",
       "│                    [ 1.2774, -0.0777, -0.0534]],\n",
       "│           \n",
       "│                   [[-0.0243,  0.6236,  0.4430],\n",
       "│                    [ 1.2774, -0.0777, -0.0534]],\n",
       "│           \n",
       "│                   [[-0.0243,  0.6236,  0.4430],\n",
       "│                    [ 1.2774, -0.0777, -0.0534]]])\n",
       "└── 'x' --> <FastTreeValue 0x7f6acc464610>\n",
       "    └── 'c' --> tensor([[[ 1.2640, -0.7245,  0.1980,  0.2504],\n",
       "                         [ 0.1343, -0.3038, -0.0161, -0.8113],\n",
       "                         [ 0.9927, -1.0041,  0.3425, -0.9669]],\n",
       "                \n",
       "                        [[ 1.2640, -0.7245,  0.1980,  0.2504],\n",
       "                         [ 0.1343, -0.3038, -0.0161, -0.8113],\n",
       "                         [ 0.9927, -1.0041,  0.3425, -0.9669]],\n",
       "                \n",
       "                        [[ 1.2640, -0.7245,  0.1980,  0.2504],\n",
       "                         [ 0.1343, -0.3038, -0.0161, -0.8113],\n",
       "                         [ 0.9927, -1.0041,  0.3425, -0.9669]],\n",
       "                \n",
       "                        [[ 1.2640, -0.7245,  0.1980,  0.2504],\n",
       "                         [ 0.1343, -0.3038, -0.0161, -0.8113],\n",
       "                         [ 0.9927, -1.0041,  0.3425, -0.9669]],\n",
       "                \n",
       "                        [[ 1.2640, -0.7245,  0.1980,  0.2504],\n",
       "                         [ 0.1343, -0.3038, -0.0161, -0.8113],\n",
       "                         [ 0.9927, -1.0041,  0.3425, -0.9669]],\n",
       "                \n",
       "                        [[ 1.2640, -0.7245,  0.1980,  0.2504],\n",
       "                         [ 0.1343, -0.3038, -0.0161, -0.8113],\n",
       "                         [ 0.9927, -1.0041,  0.3425, -0.9669]],\n",
       "                \n",
       "                        [[ 1.2640, -0.7245,  0.1980,  0.2504],\n",
       "                         [ 0.1343, -0.3038, -0.0161, -0.8113],\n",
       "                         [ 0.9927, -1.0041,  0.3425, -0.9669]],\n",
       "                \n",
       "                        [[ 1.2640, -0.7245,  0.1980,  0.2504],\n",
       "                         [ 0.1343, -0.3038, -0.0161, -0.8113],\n",
       "                         [ 0.9927, -1.0041,  0.3425, -0.9669]]])"
      ]
     },
     "execution_count": 20,
     "metadata": {},
     "output_type": "execute_result"
    }
   ],
   "source": [
    "t_stack = FastTreeValue.func(subside=True)(torch.stack)\n",
    "\n",
    "t_stack(trees)"
   ]
  },
  {
   "cell_type": "code",
   "execution_count": 21,
   "id": "f8b3f415",
   "metadata": {
    "execution": {
     "iopub.execute_input": "2023-02-27T12:31:41.449590Z",
     "iopub.status.busy": "2023-02-27T12:31:41.449011Z",
     "iopub.status.idle": "2023-02-27T12:31:44.017683Z",
     "shell.execute_reply": "2023-02-27T12:31:44.016908Z"
    }
   },
   "outputs": [
    {
     "name": "stdout",
     "output_type": "stream",
     "text": [
      "31.6 µs ± 61.6 ns per loop (mean ± std. dev. of 7 runs, 10,000 loops each)\n"
     ]
    }
   ],
   "source": [
    "%timeit t_stack(trees)"
   ]
  },
  {
   "cell_type": "code",
   "execution_count": 22,
   "id": "94b56771",
   "metadata": {
    "execution": {
     "iopub.execute_input": "2023-02-27T12:31:44.021368Z",
     "iopub.status.busy": "2023-02-27T12:31:44.020330Z",
     "iopub.status.idle": "2023-02-27T12:31:44.029087Z",
     "shell.execute_reply": "2023-02-27T12:31:44.028490Z"
    }
   },
   "outputs": [
    {
     "data": {
      "text/plain": [
       "<FastTreeValue 0x7f6a41133f70>\n",
       "├── 'a' --> tensor([[-0.0243,  0.6236,  0.4430],\n",
       "│                   [ 1.2774, -0.0777, -0.0534],\n",
       "│                   [-0.0243,  0.6236,  0.4430],\n",
       "│                   [ 1.2774, -0.0777, -0.0534],\n",
       "│                   [-0.0243,  0.6236,  0.4430],\n",
       "│                   [ 1.2774, -0.0777, -0.0534],\n",
       "│                   [-0.0243,  0.6236,  0.4430],\n",
       "│                   [ 1.2774, -0.0777, -0.0534],\n",
       "│                   [-0.0243,  0.6236,  0.4430],\n",
       "│                   [ 1.2774, -0.0777, -0.0534],\n",
       "│                   [-0.0243,  0.6236,  0.4430],\n",
       "│                   [ 1.2774, -0.0777, -0.0534],\n",
       "│                   [-0.0243,  0.6236,  0.4430],\n",
       "│                   [ 1.2774, -0.0777, -0.0534],\n",
       "│                   [-0.0243,  0.6236,  0.4430],\n",
       "│                   [ 1.2774, -0.0777, -0.0534]])\n",
       "└── 'x' --> <FastTreeValue 0x7f6a41133dc0>\n",
       "    └── 'c' --> tensor([[ 1.2640, -0.7245,  0.1980,  0.2504],\n",
       "                        [ 0.1343, -0.3038, -0.0161, -0.8113],\n",
       "                        [ 0.9927, -1.0041,  0.3425, -0.9669],\n",
       "                        [ 1.2640, -0.7245,  0.1980,  0.2504],\n",
       "                        [ 0.1343, -0.3038, -0.0161, -0.8113],\n",
       "                        [ 0.9927, -1.0041,  0.3425, -0.9669],\n",
       "                        [ 1.2640, -0.7245,  0.1980,  0.2504],\n",
       "                        [ 0.1343, -0.3038, -0.0161, -0.8113],\n",
       "                        [ 0.9927, -1.0041,  0.3425, -0.9669],\n",
       "                        [ 1.2640, -0.7245,  0.1980,  0.2504],\n",
       "                        [ 0.1343, -0.3038, -0.0161, -0.8113],\n",
       "                        [ 0.9927, -1.0041,  0.3425, -0.9669],\n",
       "                        [ 1.2640, -0.7245,  0.1980,  0.2504],\n",
       "                        [ 0.1343, -0.3038, -0.0161, -0.8113],\n",
       "                        [ 0.9927, -1.0041,  0.3425, -0.9669],\n",
       "                        [ 1.2640, -0.7245,  0.1980,  0.2504],\n",
       "                        [ 0.1343, -0.3038, -0.0161, -0.8113],\n",
       "                        [ 0.9927, -1.0041,  0.3425, -0.9669],\n",
       "                        [ 1.2640, -0.7245,  0.1980,  0.2504],\n",
       "                        [ 0.1343, -0.3038, -0.0161, -0.8113],\n",
       "                        [ 0.9927, -1.0041,  0.3425, -0.9669],\n",
       "                        [ 1.2640, -0.7245,  0.1980,  0.2504],\n",
       "                        [ 0.1343, -0.3038, -0.0161, -0.8113],\n",
       "                        [ 0.9927, -1.0041,  0.3425, -0.9669]])"
      ]
     },
     "execution_count": 22,
     "metadata": {},
     "output_type": "execute_result"
    }
   ],
   "source": [
    "t_cat = FastTreeValue.func(subside=True)(torch.cat)\n",
    "\n",
    "t_cat(trees)"
   ]
  },
  {
   "cell_type": "code",
   "execution_count": 23,
   "id": "5e9c06a6",
   "metadata": {
    "execution": {
     "iopub.execute_input": "2023-02-27T12:31:44.031900Z",
     "iopub.status.busy": "2023-02-27T12:31:44.031433Z",
     "iopub.status.idle": "2023-02-27T12:31:46.461241Z",
     "shell.execute_reply": "2023-02-27T12:31:46.460104Z"
    }
   },
   "outputs": [
    {
     "name": "stdout",
     "output_type": "stream",
     "text": [
      "29.9 µs ± 18.2 ns per loop (mean ± std. dev. of 7 runs, 10,000 loops each)\n"
     ]
    }
   ],
   "source": [
    "%timeit t_cat(trees)"
   ]
  },
  {
   "cell_type": "code",
   "execution_count": 24,
   "id": "a3ab5c8f",
   "metadata": {
    "execution": {
     "iopub.execute_input": "2023-02-27T12:31:46.464463Z",
     "iopub.status.busy": "2023-02-27T12:31:46.463897Z",
     "iopub.status.idle": "2023-02-27T12:31:51.489108Z",
     "shell.execute_reply": "2023-02-27T12:31:51.488356Z"
    }
   },
   "outputs": [
    {
     "name": "stdout",
     "output_type": "stream",
     "text": [
      "61.8 µs ± 56.4 ns per loop (mean ± std. dev. of 7 runs, 10,000 loops each)\n"
     ]
    }
   ],
   "source": [
    "t_split = FastTreeValue.func(rise=True)(torch.split)\n",
    "tree = FastTreeValue({\n",
    "    'obs': torch.randn(8, 4, 84, 84),\n",
    "    'action': torch.randint(0, 6, size=(8, 1,)),\n",
    "    'reward': torch.rand(8, 1),\n",
    "})\n",
    "\n",
    "%timeit t_split(tree, 1)"
   ]
  },
  {
   "cell_type": "markdown",
   "id": "31c3ec0b",
   "metadata": {},
   "source": [
    "### Performance of Tianshou Batch"
   ]
  },
  {
   "cell_type": "code",
   "execution_count": 25,
   "id": "9ead828a",
   "metadata": {
    "execution": {
     "iopub.execute_input": "2023-02-27T12:31:51.492331Z",
     "iopub.status.busy": "2023-02-27T12:31:51.491816Z",
     "iopub.status.idle": "2023-02-27T12:31:51.499780Z",
     "shell.execute_reply": "2023-02-27T12:31:51.499198Z"
    }
   },
   "outputs": [
    {
     "data": {
      "text/plain": [
       "Batch(\n",
       "    a: tensor([[[-0.0243,  0.6236,  0.4430],\n",
       "                [ 1.2774, -0.0777, -0.0534]],\n",
       "       \n",
       "               [[-0.0243,  0.6236,  0.4430],\n",
       "                [ 1.2774, -0.0777, -0.0534]],\n",
       "       \n",
       "               [[-0.0243,  0.6236,  0.4430],\n",
       "                [ 1.2774, -0.0777, -0.0534]],\n",
       "       \n",
       "               [[-0.0243,  0.6236,  0.4430],\n",
       "                [ 1.2774, -0.0777, -0.0534]],\n",
       "       \n",
       "               [[-0.0243,  0.6236,  0.4430],\n",
       "                [ 1.2774, -0.0777, -0.0534]],\n",
       "       \n",
       "               [[-0.0243,  0.6236,  0.4430],\n",
       "                [ 1.2774, -0.0777, -0.0534]],\n",
       "       \n",
       "               [[-0.0243,  0.6236,  0.4430],\n",
       "                [ 1.2774, -0.0777, -0.0534]],\n",
       "       \n",
       "               [[-0.0243,  0.6236,  0.4430],\n",
       "                [ 1.2774, -0.0777, -0.0534]]]),\n",
       "    x: Batch(\n",
       "           c: tensor([[[ 1.2640, -0.7245,  0.1980,  0.2504],\n",
       "                       [ 0.1343, -0.3038, -0.0161, -0.8113],\n",
       "                       [ 0.9927, -1.0041,  0.3425, -0.9669]],\n",
       "              \n",
       "                      [[ 1.2640, -0.7245,  0.1980,  0.2504],\n",
       "                       [ 0.1343, -0.3038, -0.0161, -0.8113],\n",
       "                       [ 0.9927, -1.0041,  0.3425, -0.9669]],\n",
       "              \n",
       "                      [[ 1.2640, -0.7245,  0.1980,  0.2504],\n",
       "                       [ 0.1343, -0.3038, -0.0161, -0.8113],\n",
       "                       [ 0.9927, -1.0041,  0.3425, -0.9669]],\n",
       "              \n",
       "                      [[ 1.2640, -0.7245,  0.1980,  0.2504],\n",
       "                       [ 0.1343, -0.3038, -0.0161, -0.8113],\n",
       "                       [ 0.9927, -1.0041,  0.3425, -0.9669]],\n",
       "              \n",
       "                      [[ 1.2640, -0.7245,  0.1980,  0.2504],\n",
       "                       [ 0.1343, -0.3038, -0.0161, -0.8113],\n",
       "                       [ 0.9927, -1.0041,  0.3425, -0.9669]],\n",
       "              \n",
       "                      [[ 1.2640, -0.7245,  0.1980,  0.2504],\n",
       "                       [ 0.1343, -0.3038, -0.0161, -0.8113],\n",
       "                       [ 0.9927, -1.0041,  0.3425, -0.9669]],\n",
       "              \n",
       "                      [[ 1.2640, -0.7245,  0.1980,  0.2504],\n",
       "                       [ 0.1343, -0.3038, -0.0161, -0.8113],\n",
       "                       [ 0.9927, -1.0041,  0.3425, -0.9669]],\n",
       "              \n",
       "                      [[ 1.2640, -0.7245,  0.1980,  0.2504],\n",
       "                       [ 0.1343, -0.3038, -0.0161, -0.8113],\n",
       "                       [ 0.9927, -1.0041,  0.3425, -0.9669]]]),\n",
       "       ),\n",
       ")"
      ]
     },
     "execution_count": 25,
     "metadata": {},
     "output_type": "execute_result"
    }
   ],
   "source": [
    "batches = [Batch(**_TREE_DATA_2) for _ in range(8)]\n",
    "\n",
    "Batch.stack(batches)"
   ]
  },
  {
   "cell_type": "code",
   "execution_count": 26,
   "id": "ec9037a3",
   "metadata": {
    "execution": {
     "iopub.execute_input": "2023-02-27T12:31:51.502318Z",
     "iopub.status.busy": "2023-02-27T12:31:51.501745Z",
     "iopub.status.idle": "2023-02-27T12:31:57.853099Z",
     "shell.execute_reply": "2023-02-27T12:31:57.852433Z"
    }
   },
   "outputs": [
    {
     "name": "stdout",
     "output_type": "stream",
     "text": [
      "78.2 µs ± 331 ns per loop (mean ± std. dev. of 7 runs, 10,000 loops each)\n"
     ]
    }
   ],
   "source": [
    "%timeit Batch.stack(batches)"
   ]
  },
  {
   "cell_type": "code",
   "execution_count": 27,
   "id": "cb8ab77e",
   "metadata": {
    "execution": {
     "iopub.execute_input": "2023-02-27T12:31:57.856124Z",
     "iopub.status.busy": "2023-02-27T12:31:57.855767Z",
     "iopub.status.idle": "2023-02-27T12:31:57.863093Z",
     "shell.execute_reply": "2023-02-27T12:31:57.862507Z"
    }
   },
   "outputs": [
    {
     "data": {
      "text/plain": [
       "Batch(\n",
       "    a: tensor([[-0.0243,  0.6236,  0.4430],\n",
       "               [ 1.2774, -0.0777, -0.0534],\n",
       "               [-0.0243,  0.6236,  0.4430],\n",
       "               [ 1.2774, -0.0777, -0.0534],\n",
       "               [-0.0243,  0.6236,  0.4430],\n",
       "               [ 1.2774, -0.0777, -0.0534],\n",
       "               [-0.0243,  0.6236,  0.4430],\n",
       "               [ 1.2774, -0.0777, -0.0534],\n",
       "               [-0.0243,  0.6236,  0.4430],\n",
       "               [ 1.2774, -0.0777, -0.0534],\n",
       "               [-0.0243,  0.6236,  0.4430],\n",
       "               [ 1.2774, -0.0777, -0.0534],\n",
       "               [-0.0243,  0.6236,  0.4430],\n",
       "               [ 1.2774, -0.0777, -0.0534],\n",
       "               [-0.0243,  0.6236,  0.4430],\n",
       "               [ 1.2774, -0.0777, -0.0534]]),\n",
       "    x: Batch(\n",
       "           c: tensor([[ 1.2640, -0.7245,  0.1980,  0.2504],\n",
       "                      [ 0.1343, -0.3038, -0.0161, -0.8113],\n",
       "                      [ 0.9927, -1.0041,  0.3425, -0.9669],\n",
       "                      [ 1.2640, -0.7245,  0.1980,  0.2504],\n",
       "                      [ 0.1343, -0.3038, -0.0161, -0.8113],\n",
       "                      [ 0.9927, -1.0041,  0.3425, -0.9669],\n",
       "                      [ 1.2640, -0.7245,  0.1980,  0.2504],\n",
       "                      [ 0.1343, -0.3038, -0.0161, -0.8113],\n",
       "                      [ 0.9927, -1.0041,  0.3425, -0.9669],\n",
       "                      [ 1.2640, -0.7245,  0.1980,  0.2504],\n",
       "                      [ 0.1343, -0.3038, -0.0161, -0.8113],\n",
       "                      [ 0.9927, -1.0041,  0.3425, -0.9669],\n",
       "                      [ 1.2640, -0.7245,  0.1980,  0.2504],\n",
       "                      [ 0.1343, -0.3038, -0.0161, -0.8113],\n",
       "                      [ 0.9927, -1.0041,  0.3425, -0.9669],\n",
       "                      [ 1.2640, -0.7245,  0.1980,  0.2504],\n",
       "                      [ 0.1343, -0.3038, -0.0161, -0.8113],\n",
       "                      [ 0.9927, -1.0041,  0.3425, -0.9669],\n",
       "                      [ 1.2640, -0.7245,  0.1980,  0.2504],\n",
       "                      [ 0.1343, -0.3038, -0.0161, -0.8113],\n",
       "                      [ 0.9927, -1.0041,  0.3425, -0.9669],\n",
       "                      [ 1.2640, -0.7245,  0.1980,  0.2504],\n",
       "                      [ 0.1343, -0.3038, -0.0161, -0.8113],\n",
       "                      [ 0.9927, -1.0041,  0.3425, -0.9669]]),\n",
       "       ),\n",
       ")"
      ]
     },
     "execution_count": 27,
     "metadata": {},
     "output_type": "execute_result"
    }
   ],
   "source": [
    "Batch.cat(batches)"
   ]
  },
  {
   "cell_type": "code",
   "execution_count": 28,
   "id": "18dfb045",
   "metadata": {
    "execution": {
     "iopub.execute_input": "2023-02-27T12:31:57.865819Z",
     "iopub.status.busy": "2023-02-27T12:31:57.865343Z",
     "iopub.status.idle": "2023-02-27T12:32:09.485904Z",
     "shell.execute_reply": "2023-02-27T12:32:09.485086Z"
    }
   },
   "outputs": [
    {
     "name": "stdout",
     "output_type": "stream",
     "text": [
      "143 µs ± 371 ns per loop (mean ± std. dev. of 7 runs, 10,000 loops each)\n"
     ]
    }
   ],
   "source": [
    "%timeit Batch.cat(batches)"
   ]
  },
  {
   "cell_type": "code",
   "execution_count": 29,
   "id": "c6688e51",
   "metadata": {
    "execution": {
     "iopub.execute_input": "2023-02-27T12:32:09.488797Z",
     "iopub.status.busy": "2023-02-27T12:32:09.488446Z",
     "iopub.status.idle": "2023-02-27T12:32:11.963883Z",
     "shell.execute_reply": "2023-02-27T12:32:11.963301Z"
    }
   },
   "outputs": [
    {
     "name": "stdout",
     "output_type": "stream",
     "text": [
      "304 µs ± 6.23 µs per loop (mean ± std. dev. of 7 runs, 1,000 loops each)\n"
     ]
    }
   ],
   "source": [
    "batch = Batch({\n",
    "    'obs': torch.randn(8, 4, 84, 84),\n",
    "    'action': torch.randint(0, 6, size=(8, 1,)),\n",
    "    'reward': torch.rand(8, 1)}\n",
    ")\n",
    "\n",
    "%timeit list(Batch.split(batch, 1, shuffle=False, merge_last=True))"
   ]
  },
  {
   "cell_type": "code",
   "execution_count": null,
   "id": "2539fbd9",
   "metadata": {},
   "outputs": [],
   "source": []
  }
 ],
 "metadata": {
  "kernelspec": {
   "display_name": "Python 3 (ipykernel)",
   "language": "python",
   "name": "python3"
  },
  "language_info": {
   "codemirror_mode": {
    "name": "ipython",
    "version": 3
   },
   "file_extension": ".py",
   "mimetype": "text/x-python",
   "name": "python",
   "nbconvert_exporter": "python",
   "pygments_lexer": "ipython3",
   "version": "3.8.16"
  }
 },
 "nbformat": 4,
 "nbformat_minor": 5
}
