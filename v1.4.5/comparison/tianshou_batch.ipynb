{
 "cells": [
  {
   "cell_type": "markdown",
   "id": "9d39d946",
   "metadata": {},
   "source": [
    "# Comparison Between TreeValue and Tianshou Batch"
   ]
  },
  {
   "cell_type": "markdown",
   "id": "3c6db2d4",
   "metadata": {},
   "source": [
    "In this section, we will take a look at the feature and performance of the [Tianshou Batch](https://github.com/thu-ml/tianshou) library, which is developed by Tsinghua Machine Learning Group."
   ]
  },
  {
   "cell_type": "markdown",
   "id": "069361b0",
   "metadata": {},
   "source": [
    "Before starting the comparison, let us define some thing."
   ]
  },
  {
   "cell_type": "code",
   "execution_count": 1,
   "id": "06fc8d26",
   "metadata": {
    "execution": {
     "iopub.execute_input": "2023-02-27T13:25:26.117567Z",
     "iopub.status.busy": "2023-02-27T13:25:26.116836Z",
     "iopub.status.idle": "2023-02-27T13:25:27.096893Z",
     "shell.execute_reply": "2023-02-27T13:25:27.096080Z"
    }
   },
   "outputs": [
    {
     "name": "stderr",
     "output_type": "stream",
     "text": [
      "/opt/hostedtoolcache/Python/3.8.16/x64/lib/python3.8/site-packages/tqdm/auto.py:22: TqdmWarning: IProgress not found. Please update jupyter and ipywidgets. See https://ipywidgets.readthedocs.io/en/stable/user_install.html\n",
      "  from .autonotebook import tqdm as notebook_tqdm\n"
     ]
    }
   ],
   "source": [
    "import torch \n",
    "\n",
    "_TREE_DATA_1 = {'a': 1, 'b': 2, 'x': {'c': 3, 'd': 4}}\n",
    "_TREE_DATA_2 = {\n",
    "    'a': torch.randn(2, 3), \n",
    "    'x': {\n",
    "        'c': torch.randn(3, 4)\n",
    "    },\n",
    "}\n",
    "_TREE_DATA_3 = {\n",
    "    'obs': torch.randn(4, 84, 84),\n",
    "    'action': torch.randint(0, 6, size=(1,)),\n",
    "    'reward': torch.rand(1),\n",
    "}"
   ]
  },
  {
   "cell_type": "markdown",
   "id": "83461b25",
   "metadata": {},
   "source": [
    "## Read and Write Operation"
   ]
  },
  {
   "cell_type": "markdown",
   "id": "067b3f73",
   "metadata": {},
   "source": [
    "Reading and writing are the two most common operations in the tree data structure based on the data model (TreeValue and Tianshou Batch both belong to this type), so this section will compare the reading and writing performance of these two libraries."
   ]
  },
  {
   "cell_type": "markdown",
   "id": "5d09a5b7",
   "metadata": {},
   "source": [
    "### TreeValue's Get and Set"
   ]
  },
  {
   "cell_type": "code",
   "execution_count": 2,
   "id": "9519c4bb",
   "metadata": {
    "execution": {
     "iopub.execute_input": "2023-02-27T13:25:27.100848Z",
     "iopub.status.busy": "2023-02-27T13:25:27.100361Z",
     "iopub.status.idle": "2023-02-27T13:25:27.399281Z",
     "shell.execute_reply": "2023-02-27T13:25:27.398473Z"
    }
   },
   "outputs": [],
   "source": [
    "from treevalue import FastTreeValue\n",
    "\n",
    "t = FastTreeValue(_TREE_DATA_2)"
   ]
  },
  {
   "cell_type": "code",
   "execution_count": 3,
   "id": "11c37677",
   "metadata": {
    "execution": {
     "iopub.execute_input": "2023-02-27T13:25:27.403164Z",
     "iopub.status.busy": "2023-02-27T13:25:27.402461Z",
     "iopub.status.idle": "2023-02-27T13:25:27.413891Z",
     "shell.execute_reply": "2023-02-27T13:25:27.413068Z"
    }
   },
   "outputs": [
    {
     "data": {
      "text/plain": [
       "<FastTreeValue 0x7f6d18761fa0>\n",
       "├── 'a' --> tensor([[-1.4797, -1.5619,  1.3876],\n",
       "│                   [ 0.7906,  0.2686,  0.2323]])\n",
       "└── 'x' --> <FastTreeValue 0x7f6d18761f40>\n",
       "    └── 'c' --> tensor([[ 0.2748, -0.5459, -0.9655, -0.1151],\n",
       "                        [-0.1689,  1.3469,  0.6671,  0.2490],\n",
       "                        [ 0.0405,  0.4272,  1.7937, -0.3741]])"
      ]
     },
     "execution_count": 3,
     "metadata": {},
     "output_type": "execute_result"
    }
   ],
   "source": [
    "t"
   ]
  },
  {
   "cell_type": "code",
   "execution_count": 4,
   "id": "fd70b0b9",
   "metadata": {
    "execution": {
     "iopub.execute_input": "2023-02-27T13:25:27.417802Z",
     "iopub.status.busy": "2023-02-27T13:25:27.416612Z",
     "iopub.status.idle": "2023-02-27T13:25:27.423559Z",
     "shell.execute_reply": "2023-02-27T13:25:27.422974Z"
    }
   },
   "outputs": [
    {
     "data": {
      "text/plain": [
       "tensor([[-1.4797, -1.5619,  1.3876],\n",
       "        [ 0.7906,  0.2686,  0.2323]])"
      ]
     },
     "execution_count": 4,
     "metadata": {},
     "output_type": "execute_result"
    }
   ],
   "source": [
    "t.a"
   ]
  },
  {
   "cell_type": "code",
   "execution_count": 5,
   "id": "c18197bd",
   "metadata": {
    "execution": {
     "iopub.execute_input": "2023-02-27T13:25:27.426569Z",
     "iopub.status.busy": "2023-02-27T13:25:27.426149Z",
     "iopub.status.idle": "2023-02-27T13:25:32.076602Z",
     "shell.execute_reply": "2023-02-27T13:25:32.075576Z"
    }
   },
   "outputs": [
    {
     "name": "stdout",
     "output_type": "stream",
     "text": [
      "57.5 ns ± 0.0112 ns per loop (mean ± std. dev. of 7 runs, 10,000,000 loops each)\n"
     ]
    }
   ],
   "source": [
    "%timeit t.a"
   ]
  },
  {
   "cell_type": "code",
   "execution_count": 6,
   "id": "bd52f867",
   "metadata": {
    "execution": {
     "iopub.execute_input": "2023-02-27T13:25:32.079846Z",
     "iopub.status.busy": "2023-02-27T13:25:32.079322Z",
     "iopub.status.idle": "2023-02-27T13:25:32.086696Z",
     "shell.execute_reply": "2023-02-27T13:25:32.086046Z"
    }
   },
   "outputs": [
    {
     "data": {
      "text/plain": [
       "<FastTreeValue 0x7f6d18761fa0>\n",
       "├── 'a' --> tensor([[ 0.3058,  1.2949,  0.0886],\n",
       "│                   [ 0.6104, -1.1264,  0.5006]])\n",
       "└── 'x' --> <FastTreeValue 0x7f6d18761f40>\n",
       "    └── 'c' --> tensor([[ 0.2748, -0.5459, -0.9655, -0.1151],\n",
       "                        [-0.1689,  1.3469,  0.6671,  0.2490],\n",
       "                        [ 0.0405,  0.4272,  1.7937, -0.3741]])"
      ]
     },
     "execution_count": 6,
     "metadata": {},
     "output_type": "execute_result"
    }
   ],
   "source": [
    "new_value = torch.randn(2, 3)\n",
    "t.a = new_value\n",
    "\n",
    "t"
   ]
  },
  {
   "cell_type": "code",
   "execution_count": 7,
   "id": "bbe04d1c",
   "metadata": {
    "execution": {
     "iopub.execute_input": "2023-02-27T13:25:32.089828Z",
     "iopub.status.busy": "2023-02-27T13:25:32.089313Z",
     "iopub.status.idle": "2023-02-27T13:25:37.464427Z",
     "shell.execute_reply": "2023-02-27T13:25:37.463672Z"
    }
   },
   "outputs": [
    {
     "name": "stdout",
     "output_type": "stream",
     "text": [
      "66.2 ns ± 0.0718 ns per loop (mean ± std. dev. of 7 runs, 10,000,000 loops each)\n"
     ]
    }
   ],
   "source": [
    "%timeit t.a = new_value"
   ]
  },
  {
   "cell_type": "markdown",
   "id": "48c49731",
   "metadata": {},
   "source": [
    "### Tianshou Batch's Get and Set"
   ]
  },
  {
   "cell_type": "code",
   "execution_count": 8,
   "id": "f1bb14c1",
   "metadata": {
    "execution": {
     "iopub.execute_input": "2023-02-27T13:25:37.467344Z",
     "iopub.status.busy": "2023-02-27T13:25:37.466950Z",
     "iopub.status.idle": "2023-02-27T13:25:37.848452Z",
     "shell.execute_reply": "2023-02-27T13:25:37.847653Z"
    }
   },
   "outputs": [],
   "source": [
    "from tianshou.data import Batch\n",
    "\n",
    "b = Batch(**_TREE_DATA_2)"
   ]
  },
  {
   "cell_type": "code",
   "execution_count": 9,
   "id": "cb0777c3",
   "metadata": {
    "execution": {
     "iopub.execute_input": "2023-02-27T13:25:37.852005Z",
     "iopub.status.busy": "2023-02-27T13:25:37.851467Z",
     "iopub.status.idle": "2023-02-27T13:25:37.858635Z",
     "shell.execute_reply": "2023-02-27T13:25:37.858064Z"
    }
   },
   "outputs": [
    {
     "data": {
      "text/plain": [
       "Batch(\n",
       "    a: tensor([[-1.4797, -1.5619,  1.3876],\n",
       "               [ 0.7906,  0.2686,  0.2323]]),\n",
       "    x: Batch(\n",
       "           c: tensor([[ 0.2748, -0.5459, -0.9655, -0.1151],\n",
       "                      [-0.1689,  1.3469,  0.6671,  0.2490],\n",
       "                      [ 0.0405,  0.4272,  1.7937, -0.3741]]),\n",
       "       ),\n",
       ")"
      ]
     },
     "execution_count": 9,
     "metadata": {},
     "output_type": "execute_result"
    }
   ],
   "source": [
    "b"
   ]
  },
  {
   "cell_type": "code",
   "execution_count": 10,
   "id": "43ef8ea3",
   "metadata": {
    "execution": {
     "iopub.execute_input": "2023-02-27T13:25:37.861753Z",
     "iopub.status.busy": "2023-02-27T13:25:37.861125Z",
     "iopub.status.idle": "2023-02-27T13:25:37.866663Z",
     "shell.execute_reply": "2023-02-27T13:25:37.866084Z"
    }
   },
   "outputs": [
    {
     "data": {
      "text/plain": [
       "tensor([[-1.4797, -1.5619,  1.3876],\n",
       "        [ 0.7906,  0.2686,  0.2323]])"
      ]
     },
     "execution_count": 10,
     "metadata": {},
     "output_type": "execute_result"
    }
   ],
   "source": [
    "b.a"
   ]
  },
  {
   "cell_type": "code",
   "execution_count": 11,
   "id": "b785ab72",
   "metadata": {
    "execution": {
     "iopub.execute_input": "2023-02-27T13:25:37.869333Z",
     "iopub.status.busy": "2023-02-27T13:25:37.868913Z",
     "iopub.status.idle": "2023-02-27T13:25:42.063998Z",
     "shell.execute_reply": "2023-02-27T13:25:42.063104Z"
    }
   },
   "outputs": [
    {
     "name": "stdout",
     "output_type": "stream",
     "text": [
      "51.7 ns ± 0.144 ns per loop (mean ± std. dev. of 7 runs, 10,000,000 loops each)\n"
     ]
    }
   ],
   "source": [
    "%timeit b.a"
   ]
  },
  {
   "cell_type": "code",
   "execution_count": 12,
   "id": "ad54dc69",
   "metadata": {
    "execution": {
     "iopub.execute_input": "2023-02-27T13:25:42.067944Z",
     "iopub.status.busy": "2023-02-27T13:25:42.067275Z",
     "iopub.status.idle": "2023-02-27T13:25:42.074261Z",
     "shell.execute_reply": "2023-02-27T13:25:42.073637Z"
    }
   },
   "outputs": [
    {
     "data": {
      "text/plain": [
       "Batch(\n",
       "    a: tensor([[ 2.0907,  0.4332,  0.4508],\n",
       "               [-1.1511, -0.9908, -0.8310]]),\n",
       "    x: Batch(\n",
       "           c: tensor([[ 0.2748, -0.5459, -0.9655, -0.1151],\n",
       "                      [-0.1689,  1.3469,  0.6671,  0.2490],\n",
       "                      [ 0.0405,  0.4272,  1.7937, -0.3741]]),\n",
       "       ),\n",
       ")"
      ]
     },
     "execution_count": 12,
     "metadata": {},
     "output_type": "execute_result"
    }
   ],
   "source": [
    "new_value = torch.randn(2, 3)\n",
    "b.a = new_value\n",
    "\n",
    "b"
   ]
  },
  {
   "cell_type": "code",
   "execution_count": 13,
   "id": "29b1d0bf",
   "metadata": {
    "execution": {
     "iopub.execute_input": "2023-02-27T13:25:42.076908Z",
     "iopub.status.busy": "2023-02-27T13:25:42.076525Z",
     "iopub.status.idle": "2023-02-27T13:25:46.119672Z",
     "shell.execute_reply": "2023-02-27T13:25:46.118788Z"
    }
   },
   "outputs": [
    {
     "name": "stdout",
     "output_type": "stream",
     "text": [
      "498 ns ± 0.191 ns per loop (mean ± std. dev. of 7 runs, 1,000,000 loops each)\n"
     ]
    }
   ],
   "source": [
    "%timeit b.a = new_value"
   ]
  },
  {
   "cell_type": "markdown",
   "id": "b61ad1d0",
   "metadata": {},
   "source": [
    "## Initialization"
   ]
  },
  {
   "cell_type": "markdown",
   "id": "d70f0d54",
   "metadata": {},
   "source": [
    "### TreeValue's Initialization"
   ]
  },
  {
   "cell_type": "code",
   "execution_count": 14,
   "id": "d32a679b",
   "metadata": {
    "execution": {
     "iopub.execute_input": "2023-02-27T13:25:46.123446Z",
     "iopub.status.busy": "2023-02-27T13:25:46.123028Z",
     "iopub.status.idle": "2023-02-27T13:25:52.030386Z",
     "shell.execute_reply": "2023-02-27T13:25:52.029464Z"
    }
   },
   "outputs": [
    {
     "name": "stdout",
     "output_type": "stream",
     "text": [
      "728 ns ± 0.569 ns per loop (mean ± std. dev. of 7 runs, 1,000,000 loops each)\n"
     ]
    }
   ],
   "source": [
    "%timeit FastTreeValue(_TREE_DATA_1)"
   ]
  },
  {
   "cell_type": "markdown",
   "id": "24f3707b",
   "metadata": {},
   "source": [
    "### Tianshou Batch's Initialization"
   ]
  },
  {
   "cell_type": "code",
   "execution_count": 15,
   "id": "ac3958df",
   "metadata": {
    "execution": {
     "iopub.execute_input": "2023-02-27T13:25:52.033769Z",
     "iopub.status.busy": "2023-02-27T13:25:52.033342Z",
     "iopub.status.idle": "2023-02-27T13:26:00.808665Z",
     "shell.execute_reply": "2023-02-27T13:26:00.807767Z"
    }
   },
   "outputs": [
    {
     "name": "stdout",
     "output_type": "stream",
     "text": [
      "10.8 µs ± 26.7 ns per loop (mean ± std. dev. of 7 runs, 100,000 loops each)\n"
     ]
    }
   ],
   "source": [
    "%timeit Batch(**_TREE_DATA_1)"
   ]
  },
  {
   "cell_type": "markdown",
   "id": "1ab82e2d",
   "metadata": {},
   "source": [
    "## Deep Copy Operation"
   ]
  },
  {
   "cell_type": "code",
   "execution_count": 16,
   "id": "210a9442",
   "metadata": {
    "execution": {
     "iopub.execute_input": "2023-02-27T13:26:00.812452Z",
     "iopub.status.busy": "2023-02-27T13:26:00.812019Z",
     "iopub.status.idle": "2023-02-27T13:26:00.816374Z",
     "shell.execute_reply": "2023-02-27T13:26:00.815680Z"
    }
   },
   "outputs": [],
   "source": [
    "import copy"
   ]
  },
  {
   "cell_type": "markdown",
   "id": "5a736274",
   "metadata": {},
   "source": [
    "### Deep Copy of TreeValue"
   ]
  },
  {
   "cell_type": "code",
   "execution_count": 17,
   "id": "f9bcadd6",
   "metadata": {
    "execution": {
     "iopub.execute_input": "2023-02-27T13:26:00.819442Z",
     "iopub.status.busy": "2023-02-27T13:26:00.818835Z",
     "iopub.status.idle": "2023-02-27T13:26:12.513885Z",
     "shell.execute_reply": "2023-02-27T13:26:12.513238Z"
    }
   },
   "outputs": [
    {
     "name": "stdout",
     "output_type": "stream",
     "text": [
      "144 µs ± 203 ns per loop (mean ± std. dev. of 7 runs, 10,000 loops each)\n"
     ]
    }
   ],
   "source": [
    "t3 = FastTreeValue(_TREE_DATA_3)\n",
    "%timeit copy.deepcopy(t3)"
   ]
  },
  {
   "cell_type": "markdown",
   "id": "bf8be7ea",
   "metadata": {},
   "source": [
    "### Deep Copy of Tianshou Batch"
   ]
  },
  {
   "cell_type": "code",
   "execution_count": 18,
   "id": "91998e6f",
   "metadata": {
    "execution": {
     "iopub.execute_input": "2023-02-27T13:26:12.516832Z",
     "iopub.status.busy": "2023-02-27T13:26:12.516338Z",
     "iopub.status.idle": "2023-02-27T13:26:24.130648Z",
     "shell.execute_reply": "2023-02-27T13:26:24.130009Z"
    }
   },
   "outputs": [
    {
     "name": "stdout",
     "output_type": "stream",
     "text": [
      "143 µs ± 360 ns per loop (mean ± std. dev. of 7 runs, 10,000 loops each)\n"
     ]
    }
   ],
   "source": [
    "b3 = Batch(**_TREE_DATA_3)\n",
    "%timeit copy.deepcopy(b3)"
   ]
  },
  {
   "cell_type": "markdown",
   "id": "223162fb",
   "metadata": {},
   "source": [
    "## Stack, Concat and Split Operation"
   ]
  },
  {
   "cell_type": "markdown",
   "id": "85fa4a73",
   "metadata": {},
   "source": [
    "### Performance of TreeValue"
   ]
  },
  {
   "cell_type": "code",
   "execution_count": 19,
   "id": "a0c2b697",
   "metadata": {
    "execution": {
     "iopub.execute_input": "2023-02-27T13:26:24.133538Z",
     "iopub.status.busy": "2023-02-27T13:26:24.133051Z",
     "iopub.status.idle": "2023-02-27T13:26:24.136631Z",
     "shell.execute_reply": "2023-02-27T13:26:24.136060Z"
    }
   },
   "outputs": [],
   "source": [
    "trees = [FastTreeValue(_TREE_DATA_2) for _ in range(8)]"
   ]
  },
  {
   "cell_type": "code",
   "execution_count": 20,
   "id": "017ea5a5",
   "metadata": {
    "execution": {
     "iopub.execute_input": "2023-02-27T13:26:24.139273Z",
     "iopub.status.busy": "2023-02-27T13:26:24.138582Z",
     "iopub.status.idle": "2023-02-27T13:26:24.146150Z",
     "shell.execute_reply": "2023-02-27T13:26:24.145559Z"
    }
   },
   "outputs": [
    {
     "data": {
      "text/plain": [
       "<FastTreeValue 0x7f6c61a1d610>\n",
       "├── 'a' --> tensor([[[-1.4797, -1.5619,  1.3876],\n",
       "│                    [ 0.7906,  0.2686,  0.2323]],\n",
       "│           \n",
       "│                   [[-1.4797, -1.5619,  1.3876],\n",
       "│                    [ 0.7906,  0.2686,  0.2323]],\n",
       "│           \n",
       "│                   [[-1.4797, -1.5619,  1.3876],\n",
       "│                    [ 0.7906,  0.2686,  0.2323]],\n",
       "│           \n",
       "│                   [[-1.4797, -1.5619,  1.3876],\n",
       "│                    [ 0.7906,  0.2686,  0.2323]],\n",
       "│           \n",
       "│                   [[-1.4797, -1.5619,  1.3876],\n",
       "│                    [ 0.7906,  0.2686,  0.2323]],\n",
       "│           \n",
       "│                   [[-1.4797, -1.5619,  1.3876],\n",
       "│                    [ 0.7906,  0.2686,  0.2323]],\n",
       "│           \n",
       "│                   [[-1.4797, -1.5619,  1.3876],\n",
       "│                    [ 0.7906,  0.2686,  0.2323]],\n",
       "│           \n",
       "│                   [[-1.4797, -1.5619,  1.3876],\n",
       "│                    [ 0.7906,  0.2686,  0.2323]]])\n",
       "└── 'x' --> <FastTreeValue 0x7f6c61a1dd90>\n",
       "    └── 'c' --> tensor([[[ 0.2748, -0.5459, -0.9655, -0.1151],\n",
       "                         [-0.1689,  1.3469,  0.6671,  0.2490],\n",
       "                         [ 0.0405,  0.4272,  1.7937, -0.3741]],\n",
       "                \n",
       "                        [[ 0.2748, -0.5459, -0.9655, -0.1151],\n",
       "                         [-0.1689,  1.3469,  0.6671,  0.2490],\n",
       "                         [ 0.0405,  0.4272,  1.7937, -0.3741]],\n",
       "                \n",
       "                        [[ 0.2748, -0.5459, -0.9655, -0.1151],\n",
       "                         [-0.1689,  1.3469,  0.6671,  0.2490],\n",
       "                         [ 0.0405,  0.4272,  1.7937, -0.3741]],\n",
       "                \n",
       "                        [[ 0.2748, -0.5459, -0.9655, -0.1151],\n",
       "                         [-0.1689,  1.3469,  0.6671,  0.2490],\n",
       "                         [ 0.0405,  0.4272,  1.7937, -0.3741]],\n",
       "                \n",
       "                        [[ 0.2748, -0.5459, -0.9655, -0.1151],\n",
       "                         [-0.1689,  1.3469,  0.6671,  0.2490],\n",
       "                         [ 0.0405,  0.4272,  1.7937, -0.3741]],\n",
       "                \n",
       "                        [[ 0.2748, -0.5459, -0.9655, -0.1151],\n",
       "                         [-0.1689,  1.3469,  0.6671,  0.2490],\n",
       "                         [ 0.0405,  0.4272,  1.7937, -0.3741]],\n",
       "                \n",
       "                        [[ 0.2748, -0.5459, -0.9655, -0.1151],\n",
       "                         [-0.1689,  1.3469,  0.6671,  0.2490],\n",
       "                         [ 0.0405,  0.4272,  1.7937, -0.3741]],\n",
       "                \n",
       "                        [[ 0.2748, -0.5459, -0.9655, -0.1151],\n",
       "                         [-0.1689,  1.3469,  0.6671,  0.2490],\n",
       "                         [ 0.0405,  0.4272,  1.7937, -0.3741]]])"
      ]
     },
     "execution_count": 20,
     "metadata": {},
     "output_type": "execute_result"
    }
   ],
   "source": [
    "t_stack = FastTreeValue.func(subside=True)(torch.stack)\n",
    "\n",
    "t_stack(trees)"
   ]
  },
  {
   "cell_type": "code",
   "execution_count": 21,
   "id": "f8b3f415",
   "metadata": {
    "execution": {
     "iopub.execute_input": "2023-02-27T13:26:24.148940Z",
     "iopub.status.busy": "2023-02-27T13:26:24.148273Z",
     "iopub.status.idle": "2023-02-27T13:26:26.823043Z",
     "shell.execute_reply": "2023-02-27T13:26:26.822127Z"
    }
   },
   "outputs": [
    {
     "name": "stdout",
     "output_type": "stream",
     "text": [
      "32.9 µs ± 62.4 ns per loop (mean ± std. dev. of 7 runs, 10,000 loops each)\n"
     ]
    }
   ],
   "source": [
    "%timeit t_stack(trees)"
   ]
  },
  {
   "cell_type": "code",
   "execution_count": 22,
   "id": "94b56771",
   "metadata": {
    "execution": {
     "iopub.execute_input": "2023-02-27T13:26:26.826959Z",
     "iopub.status.busy": "2023-02-27T13:26:26.826317Z",
     "iopub.status.idle": "2023-02-27T13:26:26.835657Z",
     "shell.execute_reply": "2023-02-27T13:26:26.834995Z"
    }
   },
   "outputs": [
    {
     "data": {
      "text/plain": [
       "<FastTreeValue 0x7f6d187ce040>\n",
       "├── 'a' --> tensor([[-1.4797, -1.5619,  1.3876],\n",
       "│                   [ 0.7906,  0.2686,  0.2323],\n",
       "│                   [-1.4797, -1.5619,  1.3876],\n",
       "│                   [ 0.7906,  0.2686,  0.2323],\n",
       "│                   [-1.4797, -1.5619,  1.3876],\n",
       "│                   [ 0.7906,  0.2686,  0.2323],\n",
       "│                   [-1.4797, -1.5619,  1.3876],\n",
       "│                   [ 0.7906,  0.2686,  0.2323],\n",
       "│                   [-1.4797, -1.5619,  1.3876],\n",
       "│                   [ 0.7906,  0.2686,  0.2323],\n",
       "│                   [-1.4797, -1.5619,  1.3876],\n",
       "│                   [ 0.7906,  0.2686,  0.2323],\n",
       "│                   [-1.4797, -1.5619,  1.3876],\n",
       "│                   [ 0.7906,  0.2686,  0.2323],\n",
       "│                   [-1.4797, -1.5619,  1.3876],\n",
       "│                   [ 0.7906,  0.2686,  0.2323]])\n",
       "└── 'x' --> <FastTreeValue 0x7f6c61a43f40>\n",
       "    └── 'c' --> tensor([[ 0.2748, -0.5459, -0.9655, -0.1151],\n",
       "                        [-0.1689,  1.3469,  0.6671,  0.2490],\n",
       "                        [ 0.0405,  0.4272,  1.7937, -0.3741],\n",
       "                        [ 0.2748, -0.5459, -0.9655, -0.1151],\n",
       "                        [-0.1689,  1.3469,  0.6671,  0.2490],\n",
       "                        [ 0.0405,  0.4272,  1.7937, -0.3741],\n",
       "                        [ 0.2748, -0.5459, -0.9655, -0.1151],\n",
       "                        [-0.1689,  1.3469,  0.6671,  0.2490],\n",
       "                        [ 0.0405,  0.4272,  1.7937, -0.3741],\n",
       "                        [ 0.2748, -0.5459, -0.9655, -0.1151],\n",
       "                        [-0.1689,  1.3469,  0.6671,  0.2490],\n",
       "                        [ 0.0405,  0.4272,  1.7937, -0.3741],\n",
       "                        [ 0.2748, -0.5459, -0.9655, -0.1151],\n",
       "                        [-0.1689,  1.3469,  0.6671,  0.2490],\n",
       "                        [ 0.0405,  0.4272,  1.7937, -0.3741],\n",
       "                        [ 0.2748, -0.5459, -0.9655, -0.1151],\n",
       "                        [-0.1689,  1.3469,  0.6671,  0.2490],\n",
       "                        [ 0.0405,  0.4272,  1.7937, -0.3741],\n",
       "                        [ 0.2748, -0.5459, -0.9655, -0.1151],\n",
       "                        [-0.1689,  1.3469,  0.6671,  0.2490],\n",
       "                        [ 0.0405,  0.4272,  1.7937, -0.3741],\n",
       "                        [ 0.2748, -0.5459, -0.9655, -0.1151],\n",
       "                        [-0.1689,  1.3469,  0.6671,  0.2490],\n",
       "                        [ 0.0405,  0.4272,  1.7937, -0.3741]])"
      ]
     },
     "execution_count": 22,
     "metadata": {},
     "output_type": "execute_result"
    }
   ],
   "source": [
    "t_cat = FastTreeValue.func(subside=True)(torch.cat)\n",
    "\n",
    "t_cat(trees)"
   ]
  },
  {
   "cell_type": "code",
   "execution_count": 23,
   "id": "5e9c06a6",
   "metadata": {
    "execution": {
     "iopub.execute_input": "2023-02-27T13:26:26.838853Z",
     "iopub.status.busy": "2023-02-27T13:26:26.838296Z",
     "iopub.status.idle": "2023-02-27T13:26:29.057116Z",
     "shell.execute_reply": "2023-02-27T13:26:29.056256Z"
    }
   },
   "outputs": [
    {
     "name": "stdout",
     "output_type": "stream",
     "text": [
      "27.3 µs ± 43.7 ns per loop (mean ± std. dev. of 7 runs, 10,000 loops each)\n"
     ]
    }
   ],
   "source": [
    "%timeit t_cat(trees)"
   ]
  },
  {
   "cell_type": "code",
   "execution_count": 24,
   "id": "a3ab5c8f",
   "metadata": {
    "execution": {
     "iopub.execute_input": "2023-02-27T13:26:29.060817Z",
     "iopub.status.busy": "2023-02-27T13:26:29.060391Z",
     "iopub.status.idle": "2023-02-27T13:26:33.711165Z",
     "shell.execute_reply": "2023-02-27T13:26:33.710245Z"
    }
   },
   "outputs": [
    {
     "name": "stdout",
     "output_type": "stream",
     "text": [
      "57.2 µs ± 61.1 ns per loop (mean ± std. dev. of 7 runs, 10,000 loops each)\n"
     ]
    }
   ],
   "source": [
    "t_split = FastTreeValue.func(rise=True)(torch.split)\n",
    "tree = FastTreeValue({\n",
    "    'obs': torch.randn(8, 4, 84, 84),\n",
    "    'action': torch.randint(0, 6, size=(8, 1,)),\n",
    "    'reward': torch.rand(8, 1),\n",
    "})\n",
    "\n",
    "%timeit t_split(tree, 1)"
   ]
  },
  {
   "cell_type": "markdown",
   "id": "31c3ec0b",
   "metadata": {},
   "source": [
    "### Performance of Tianshou Batch"
   ]
  },
  {
   "cell_type": "code",
   "execution_count": 25,
   "id": "9ead828a",
   "metadata": {
    "execution": {
     "iopub.execute_input": "2023-02-27T13:26:33.714422Z",
     "iopub.status.busy": "2023-02-27T13:26:33.713997Z",
     "iopub.status.idle": "2023-02-27T13:26:33.722309Z",
     "shell.execute_reply": "2023-02-27T13:26:33.721675Z"
    }
   },
   "outputs": [
    {
     "data": {
      "text/plain": [
       "Batch(\n",
       "    a: tensor([[[-1.4797, -1.5619,  1.3876],\n",
       "                [ 0.7906,  0.2686,  0.2323]],\n",
       "       \n",
       "               [[-1.4797, -1.5619,  1.3876],\n",
       "                [ 0.7906,  0.2686,  0.2323]],\n",
       "       \n",
       "               [[-1.4797, -1.5619,  1.3876],\n",
       "                [ 0.7906,  0.2686,  0.2323]],\n",
       "       \n",
       "               [[-1.4797, -1.5619,  1.3876],\n",
       "                [ 0.7906,  0.2686,  0.2323]],\n",
       "       \n",
       "               [[-1.4797, -1.5619,  1.3876],\n",
       "                [ 0.7906,  0.2686,  0.2323]],\n",
       "       \n",
       "               [[-1.4797, -1.5619,  1.3876],\n",
       "                [ 0.7906,  0.2686,  0.2323]],\n",
       "       \n",
       "               [[-1.4797, -1.5619,  1.3876],\n",
       "                [ 0.7906,  0.2686,  0.2323]],\n",
       "       \n",
       "               [[-1.4797, -1.5619,  1.3876],\n",
       "                [ 0.7906,  0.2686,  0.2323]]]),\n",
       "    x: Batch(\n",
       "           c: tensor([[[ 0.2748, -0.5459, -0.9655, -0.1151],\n",
       "                       [-0.1689,  1.3469,  0.6671,  0.2490],\n",
       "                       [ 0.0405,  0.4272,  1.7937, -0.3741]],\n",
       "              \n",
       "                      [[ 0.2748, -0.5459, -0.9655, -0.1151],\n",
       "                       [-0.1689,  1.3469,  0.6671,  0.2490],\n",
       "                       [ 0.0405,  0.4272,  1.7937, -0.3741]],\n",
       "              \n",
       "                      [[ 0.2748, -0.5459, -0.9655, -0.1151],\n",
       "                       [-0.1689,  1.3469,  0.6671,  0.2490],\n",
       "                       [ 0.0405,  0.4272,  1.7937, -0.3741]],\n",
       "              \n",
       "                      [[ 0.2748, -0.5459, -0.9655, -0.1151],\n",
       "                       [-0.1689,  1.3469,  0.6671,  0.2490],\n",
       "                       [ 0.0405,  0.4272,  1.7937, -0.3741]],\n",
       "              \n",
       "                      [[ 0.2748, -0.5459, -0.9655, -0.1151],\n",
       "                       [-0.1689,  1.3469,  0.6671,  0.2490],\n",
       "                       [ 0.0405,  0.4272,  1.7937, -0.3741]],\n",
       "              \n",
       "                      [[ 0.2748, -0.5459, -0.9655, -0.1151],\n",
       "                       [-0.1689,  1.3469,  0.6671,  0.2490],\n",
       "                       [ 0.0405,  0.4272,  1.7937, -0.3741]],\n",
       "              \n",
       "                      [[ 0.2748, -0.5459, -0.9655, -0.1151],\n",
       "                       [-0.1689,  1.3469,  0.6671,  0.2490],\n",
       "                       [ 0.0405,  0.4272,  1.7937, -0.3741]],\n",
       "              \n",
       "                      [[ 0.2748, -0.5459, -0.9655, -0.1151],\n",
       "                       [-0.1689,  1.3469,  0.6671,  0.2490],\n",
       "                       [ 0.0405,  0.4272,  1.7937, -0.3741]]]),\n",
       "       ),\n",
       ")"
      ]
     },
     "execution_count": 25,
     "metadata": {},
     "output_type": "execute_result"
    }
   ],
   "source": [
    "batches = [Batch(**_TREE_DATA_2) for _ in range(8)]\n",
    "\n",
    "Batch.stack(batches)"
   ]
  },
  {
   "cell_type": "code",
   "execution_count": 26,
   "id": "ec9037a3",
   "metadata": {
    "execution": {
     "iopub.execute_input": "2023-02-27T13:26:33.725068Z",
     "iopub.status.busy": "2023-02-27T13:26:33.724687Z",
     "iopub.status.idle": "2023-02-27T13:26:39.282886Z",
     "shell.execute_reply": "2023-02-27T13:26:39.281996Z"
    }
   },
   "outputs": [
    {
     "name": "stdout",
     "output_type": "stream",
     "text": [
      "68.4 µs ± 481 ns per loop (mean ± std. dev. of 7 runs, 10,000 loops each)\n"
     ]
    }
   ],
   "source": [
    "%timeit Batch.stack(batches)"
   ]
  },
  {
   "cell_type": "code",
   "execution_count": 27,
   "id": "cb8ab77e",
   "metadata": {
    "execution": {
     "iopub.execute_input": "2023-02-27T13:26:39.285977Z",
     "iopub.status.busy": "2023-02-27T13:26:39.285590Z",
     "iopub.status.idle": "2023-02-27T13:26:39.293571Z",
     "shell.execute_reply": "2023-02-27T13:26:39.292971Z"
    }
   },
   "outputs": [
    {
     "data": {
      "text/plain": [
       "Batch(\n",
       "    a: tensor([[-1.4797, -1.5619,  1.3876],\n",
       "               [ 0.7906,  0.2686,  0.2323],\n",
       "               [-1.4797, -1.5619,  1.3876],\n",
       "               [ 0.7906,  0.2686,  0.2323],\n",
       "               [-1.4797, -1.5619,  1.3876],\n",
       "               [ 0.7906,  0.2686,  0.2323],\n",
       "               [-1.4797, -1.5619,  1.3876],\n",
       "               [ 0.7906,  0.2686,  0.2323],\n",
       "               [-1.4797, -1.5619,  1.3876],\n",
       "               [ 0.7906,  0.2686,  0.2323],\n",
       "               [-1.4797, -1.5619,  1.3876],\n",
       "               [ 0.7906,  0.2686,  0.2323],\n",
       "               [-1.4797, -1.5619,  1.3876],\n",
       "               [ 0.7906,  0.2686,  0.2323],\n",
       "               [-1.4797, -1.5619,  1.3876],\n",
       "               [ 0.7906,  0.2686,  0.2323]]),\n",
       "    x: Batch(\n",
       "           c: tensor([[ 0.2748, -0.5459, -0.9655, -0.1151],\n",
       "                      [-0.1689,  1.3469,  0.6671,  0.2490],\n",
       "                      [ 0.0405,  0.4272,  1.7937, -0.3741],\n",
       "                      [ 0.2748, -0.5459, -0.9655, -0.1151],\n",
       "                      [-0.1689,  1.3469,  0.6671,  0.2490],\n",
       "                      [ 0.0405,  0.4272,  1.7937, -0.3741],\n",
       "                      [ 0.2748, -0.5459, -0.9655, -0.1151],\n",
       "                      [-0.1689,  1.3469,  0.6671,  0.2490],\n",
       "                      [ 0.0405,  0.4272,  1.7937, -0.3741],\n",
       "                      [ 0.2748, -0.5459, -0.9655, -0.1151],\n",
       "                      [-0.1689,  1.3469,  0.6671,  0.2490],\n",
       "                      [ 0.0405,  0.4272,  1.7937, -0.3741],\n",
       "                      [ 0.2748, -0.5459, -0.9655, -0.1151],\n",
       "                      [-0.1689,  1.3469,  0.6671,  0.2490],\n",
       "                      [ 0.0405,  0.4272,  1.7937, -0.3741],\n",
       "                      [ 0.2748, -0.5459, -0.9655, -0.1151],\n",
       "                      [-0.1689,  1.3469,  0.6671,  0.2490],\n",
       "                      [ 0.0405,  0.4272,  1.7937, -0.3741],\n",
       "                      [ 0.2748, -0.5459, -0.9655, -0.1151],\n",
       "                      [-0.1689,  1.3469,  0.6671,  0.2490],\n",
       "                      [ 0.0405,  0.4272,  1.7937, -0.3741],\n",
       "                      [ 0.2748, -0.5459, -0.9655, -0.1151],\n",
       "                      [-0.1689,  1.3469,  0.6671,  0.2490],\n",
       "                      [ 0.0405,  0.4272,  1.7937, -0.3741]]),\n",
       "       ),\n",
       ")"
      ]
     },
     "execution_count": 27,
     "metadata": {},
     "output_type": "execute_result"
    }
   ],
   "source": [
    "Batch.cat(batches)"
   ]
  },
  {
   "cell_type": "code",
   "execution_count": 28,
   "id": "18dfb045",
   "metadata": {
    "execution": {
     "iopub.execute_input": "2023-02-27T13:26:39.296516Z",
     "iopub.status.busy": "2023-02-27T13:26:39.296052Z",
     "iopub.status.idle": "2023-02-27T13:26:50.915506Z",
     "shell.execute_reply": "2023-02-27T13:26:50.914602Z"
    }
   },
   "outputs": [
    {
     "name": "stdout",
     "output_type": "stream",
     "text": [
      "143 µs ± 359 ns per loop (mean ± std. dev. of 7 runs, 10,000 loops each)\n"
     ]
    }
   ],
   "source": [
    "%timeit Batch.cat(batches)"
   ]
  },
  {
   "cell_type": "code",
   "execution_count": 29,
   "id": "c6688e51",
   "metadata": {
    "execution": {
     "iopub.execute_input": "2023-02-27T13:26:50.919020Z",
     "iopub.status.busy": "2023-02-27T13:26:50.918375Z",
     "iopub.status.idle": "2023-02-27T13:26:53.377283Z",
     "shell.execute_reply": "2023-02-27T13:26:53.376620Z"
    }
   },
   "outputs": [
    {
     "name": "stdout",
     "output_type": "stream",
     "text": [
      "303 µs ± 13.2 µs per loop (mean ± std. dev. of 7 runs, 1,000 loops each)\n"
     ]
    }
   ],
   "source": [
    "batch = Batch({\n",
    "    'obs': torch.randn(8, 4, 84, 84),\n",
    "    'action': torch.randint(0, 6, size=(8, 1,)),\n",
    "    'reward': torch.rand(8, 1)}\n",
    ")\n",
    "\n",
    "%timeit list(Batch.split(batch, 1, shuffle=False, merge_last=True))"
   ]
  },
  {
   "cell_type": "code",
   "execution_count": null,
   "id": "2539fbd9",
   "metadata": {},
   "outputs": [],
   "source": []
  }
 ],
 "metadata": {
  "kernelspec": {
   "display_name": "Python 3 (ipykernel)",
   "language": "python",
   "name": "python3"
  },
  "language_info": {
   "codemirror_mode": {
    "name": "ipython",
    "version": 3
   },
   "file_extension": ".py",
   "mimetype": "text/x-python",
   "name": "python",
   "nbconvert_exporter": "python",
   "pygments_lexer": "ipython3",
   "version": "3.8.16"
  }
 },
 "nbformat": 4,
 "nbformat_minor": 5
}
