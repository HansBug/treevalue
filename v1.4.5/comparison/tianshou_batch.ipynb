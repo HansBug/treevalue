{
 "cells": [
  {
   "cell_type": "markdown",
   "id": "9d39d946",
   "metadata": {},
   "source": [
    "# Comparison Between TreeValue and Tianshou Batch"
   ]
  },
  {
   "cell_type": "markdown",
   "id": "3c6db2d4",
   "metadata": {},
   "source": [
    "In this section, we will take a look at the feature and performance of the [Tianshou Batch](https://github.com/thu-ml/tianshou) library, which is developed by Tsinghua Machine Learning Group."
   ]
  },
  {
   "cell_type": "markdown",
   "id": "069361b0",
   "metadata": {},
   "source": [
    "Before starting the comparison, let us define some thing."
   ]
  },
  {
   "cell_type": "code",
   "execution_count": 1,
   "id": "06fc8d26",
   "metadata": {
    "execution": {
     "iopub.execute_input": "2023-02-23T10:45:02.700044Z",
     "iopub.status.busy": "2023-02-23T10:45:02.699749Z",
     "iopub.status.idle": "2023-02-23T10:45:03.829662Z",
     "shell.execute_reply": "2023-02-23T10:45:03.828695Z"
    }
   },
   "outputs": [
    {
     "name": "stderr",
     "output_type": "stream",
     "text": [
      "/opt/hostedtoolcache/Python/3.8.16/x64/lib/python3.8/site-packages/tqdm/auto.py:22: TqdmWarning: IProgress not found. Please update jupyter and ipywidgets. See https://ipywidgets.readthedocs.io/en/stable/user_install.html\n",
      "  from .autonotebook import tqdm as notebook_tqdm\n"
     ]
    }
   ],
   "source": [
    "import torch \n",
    "\n",
    "_TREE_DATA_1 = {'a': 1, 'b': 2, 'x': {'c': 3, 'd': 4}}\n",
    "_TREE_DATA_2 = {\n",
    "    'a': torch.randn(2, 3), \n",
    "    'x': {\n",
    "        'c': torch.randn(3, 4)\n",
    "    },\n",
    "}\n",
    "_TREE_DATA_3 = {\n",
    "    'obs': torch.randn(4, 84, 84),\n",
    "    'action': torch.randint(0, 6, size=(1,)),\n",
    "    'reward': torch.rand(1),\n",
    "}"
   ]
  },
  {
   "cell_type": "markdown",
   "id": "83461b25",
   "metadata": {},
   "source": [
    "## Read and Write Operation"
   ]
  },
  {
   "cell_type": "markdown",
   "id": "067b3f73",
   "metadata": {},
   "source": [
    "Reading and writing are the two most common operations in the tree data structure based on the data model (TreeValue and Tianshou Batch both belong to this type), so this section will compare the reading and writing performance of these two libraries."
   ]
  },
  {
   "cell_type": "markdown",
   "id": "5d09a5b7",
   "metadata": {},
   "source": [
    "### TreeValue's Get and Set"
   ]
  },
  {
   "cell_type": "code",
   "execution_count": 2,
   "id": "9519c4bb",
   "metadata": {
    "execution": {
     "iopub.execute_input": "2023-02-23T10:45:03.833439Z",
     "iopub.status.busy": "2023-02-23T10:45:03.833096Z",
     "iopub.status.idle": "2023-02-23T10:45:03.873033Z",
     "shell.execute_reply": "2023-02-23T10:45:03.872153Z"
    }
   },
   "outputs": [],
   "source": [
    "from treevalue import FastTreeValue\n",
    "\n",
    "t = FastTreeValue(_TREE_DATA_2)"
   ]
  },
  {
   "cell_type": "code",
   "execution_count": 3,
   "id": "11c37677",
   "metadata": {
    "execution": {
     "iopub.execute_input": "2023-02-23T10:45:03.876560Z",
     "iopub.status.busy": "2023-02-23T10:45:03.876280Z",
     "iopub.status.idle": "2023-02-23T10:45:03.889289Z",
     "shell.execute_reply": "2023-02-23T10:45:03.888330Z"
    }
   },
   "outputs": [
    {
     "data": {
      "text/plain": [
       "<FastTreeValue 0x7f741c259b20>\n",
       "├── 'a' --> tensor([[ 1.4787, -0.9441,  0.7472],\n",
       "│                   [ 0.4769, -0.0566,  1.0812]])\n",
       "└── 'x' --> <FastTreeValue 0x7f741c259a90>\n",
       "    └── 'c' --> tensor([[-0.6123, -0.7129, -0.3391,  0.8624],\n",
       "                        [ 0.2962, -0.3187,  0.9851,  0.0132],\n",
       "                        [ 0.3767, -0.2043, -1.6620,  0.0178]])"
      ]
     },
     "execution_count": 3,
     "metadata": {},
     "output_type": "execute_result"
    }
   ],
   "source": [
    "t"
   ]
  },
  {
   "cell_type": "code",
   "execution_count": 4,
   "id": "fd70b0b9",
   "metadata": {
    "execution": {
     "iopub.execute_input": "2023-02-23T10:45:03.893071Z",
     "iopub.status.busy": "2023-02-23T10:45:03.892477Z",
     "iopub.status.idle": "2023-02-23T10:45:03.901679Z",
     "shell.execute_reply": "2023-02-23T10:45:03.900633Z"
    }
   },
   "outputs": [
    {
     "data": {
      "text/plain": [
       "tensor([[ 1.4787, -0.9441,  0.7472],\n",
       "        [ 0.4769, -0.0566,  1.0812]])"
      ]
     },
     "execution_count": 4,
     "metadata": {},
     "output_type": "execute_result"
    }
   ],
   "source": [
    "t.a"
   ]
  },
  {
   "cell_type": "code",
   "execution_count": 5,
   "id": "c18197bd",
   "metadata": {
    "execution": {
     "iopub.execute_input": "2023-02-23T10:45:03.906167Z",
     "iopub.status.busy": "2023-02-23T10:45:03.905884Z",
     "iopub.status.idle": "2023-02-23T10:45:09.731893Z",
     "shell.execute_reply": "2023-02-23T10:45:09.730691Z"
    }
   },
   "outputs": [
    {
     "name": "stdout",
     "output_type": "stream",
     "text": [
      "70.8 ns ± 1.36 ns per loop (mean ± std. dev. of 7 runs, 10,000,000 loops each)\n"
     ]
    }
   ],
   "source": [
    "%timeit t.a"
   ]
  },
  {
   "cell_type": "code",
   "execution_count": 6,
   "id": "bd52f867",
   "metadata": {
    "execution": {
     "iopub.execute_input": "2023-02-23T10:45:09.735531Z",
     "iopub.status.busy": "2023-02-23T10:45:09.734950Z",
     "iopub.status.idle": "2023-02-23T10:45:09.743888Z",
     "shell.execute_reply": "2023-02-23T10:45:09.742982Z"
    }
   },
   "outputs": [
    {
     "data": {
      "text/plain": [
       "<FastTreeValue 0x7f741c259b20>\n",
       "├── 'a' --> tensor([[ 0.7680, -0.1635, -0.9780],\n",
       "│                   [-0.3902, -0.1999,  0.2071]])\n",
       "└── 'x' --> <FastTreeValue 0x7f741c259a90>\n",
       "    └── 'c' --> tensor([[-0.6123, -0.7129, -0.3391,  0.8624],\n",
       "                        [ 0.2962, -0.3187,  0.9851,  0.0132],\n",
       "                        [ 0.3767, -0.2043, -1.6620,  0.0178]])"
      ]
     },
     "execution_count": 6,
     "metadata": {},
     "output_type": "execute_result"
    }
   ],
   "source": [
    "new_value = torch.randn(2, 3)\n",
    "t.a = new_value\n",
    "\n",
    "t"
   ]
  },
  {
   "cell_type": "code",
   "execution_count": 7,
   "id": "bbe04d1c",
   "metadata": {
    "execution": {
     "iopub.execute_input": "2023-02-23T10:45:09.747597Z",
     "iopub.status.busy": "2023-02-23T10:45:09.746976Z",
     "iopub.status.idle": "2023-02-23T10:45:15.832125Z",
     "shell.execute_reply": "2023-02-23T10:45:15.831127Z"
    }
   },
   "outputs": [
    {
     "name": "stdout",
     "output_type": "stream",
     "text": [
      "75.1 ns ± 1.7 ns per loop (mean ± std. dev. of 7 runs, 10,000,000 loops each)\n"
     ]
    }
   ],
   "source": [
    "%timeit t.a = new_value"
   ]
  },
  {
   "cell_type": "markdown",
   "id": "48c49731",
   "metadata": {},
   "source": [
    "### Tianshou Batch's Get and Set"
   ]
  },
  {
   "cell_type": "code",
   "execution_count": 8,
   "id": "f1bb14c1",
   "metadata": {
    "execution": {
     "iopub.execute_input": "2023-02-23T10:45:15.839404Z",
     "iopub.status.busy": "2023-02-23T10:45:15.838831Z",
     "iopub.status.idle": "2023-02-23T10:45:16.253865Z",
     "shell.execute_reply": "2023-02-23T10:45:16.252894Z"
    }
   },
   "outputs": [],
   "source": [
    "from tianshou.data import Batch\n",
    "\n",
    "b = Batch(**_TREE_DATA_2)"
   ]
  },
  {
   "cell_type": "code",
   "execution_count": 9,
   "id": "cb0777c3",
   "metadata": {
    "execution": {
     "iopub.execute_input": "2023-02-23T10:45:16.257876Z",
     "iopub.status.busy": "2023-02-23T10:45:16.257040Z",
     "iopub.status.idle": "2023-02-23T10:45:16.265154Z",
     "shell.execute_reply": "2023-02-23T10:45:16.264295Z"
    }
   },
   "outputs": [
    {
     "data": {
      "text/plain": [
       "Batch(\n",
       "    a: tensor([[ 1.4787, -0.9441,  0.7472],\n",
       "               [ 0.4769, -0.0566,  1.0812]]),\n",
       "    x: Batch(\n",
       "           c: tensor([[-0.6123, -0.7129, -0.3391,  0.8624],\n",
       "                      [ 0.2962, -0.3187,  0.9851,  0.0132],\n",
       "                      [ 0.3767, -0.2043, -1.6620,  0.0178]]),\n",
       "       ),\n",
       ")"
      ]
     },
     "execution_count": 9,
     "metadata": {},
     "output_type": "execute_result"
    }
   ],
   "source": [
    "b"
   ]
  },
  {
   "cell_type": "code",
   "execution_count": 10,
   "id": "43ef8ea3",
   "metadata": {
    "execution": {
     "iopub.execute_input": "2023-02-23T10:45:16.268535Z",
     "iopub.status.busy": "2023-02-23T10:45:16.268254Z",
     "iopub.status.idle": "2023-02-23T10:45:16.274681Z",
     "shell.execute_reply": "2023-02-23T10:45:16.273892Z"
    }
   },
   "outputs": [
    {
     "data": {
      "text/plain": [
       "tensor([[ 1.4787, -0.9441,  0.7472],\n",
       "        [ 0.4769, -0.0566,  1.0812]])"
      ]
     },
     "execution_count": 10,
     "metadata": {},
     "output_type": "execute_result"
    }
   ],
   "source": [
    "b.a"
   ]
  },
  {
   "cell_type": "code",
   "execution_count": 11,
   "id": "b785ab72",
   "metadata": {
    "execution": {
     "iopub.execute_input": "2023-02-23T10:45:16.278479Z",
     "iopub.status.busy": "2023-02-23T10:45:16.277568Z",
     "iopub.status.idle": "2023-02-23T10:45:21.647646Z",
     "shell.execute_reply": "2023-02-23T10:45:21.646480Z"
    }
   },
   "outputs": [
    {
     "name": "stdout",
     "output_type": "stream",
     "text": [
      "66.1 ns ± 1.04 ns per loop (mean ± std. dev. of 7 runs, 10,000,000 loops each)\n"
     ]
    }
   ],
   "source": [
    "%timeit b.a"
   ]
  },
  {
   "cell_type": "code",
   "execution_count": 12,
   "id": "ad54dc69",
   "metadata": {
    "execution": {
     "iopub.execute_input": "2023-02-23T10:45:21.651586Z",
     "iopub.status.busy": "2023-02-23T10:45:21.651027Z",
     "iopub.status.idle": "2023-02-23T10:45:21.660038Z",
     "shell.execute_reply": "2023-02-23T10:45:21.659108Z"
    }
   },
   "outputs": [
    {
     "data": {
      "text/plain": [
       "Batch(\n",
       "    a: tensor([[-0.4684,  0.3782, -0.1944],\n",
       "               [ 0.6940, -0.3559, -1.1629]]),\n",
       "    x: Batch(\n",
       "           c: tensor([[-0.6123, -0.7129, -0.3391,  0.8624],\n",
       "                      [ 0.2962, -0.3187,  0.9851,  0.0132],\n",
       "                      [ 0.3767, -0.2043, -1.6620,  0.0178]]),\n",
       "       ),\n",
       ")"
      ]
     },
     "execution_count": 12,
     "metadata": {},
     "output_type": "execute_result"
    }
   ],
   "source": [
    "new_value = torch.randn(2, 3)\n",
    "b.a = new_value\n",
    "\n",
    "b"
   ]
  },
  {
   "cell_type": "code",
   "execution_count": 13,
   "id": "29b1d0bf",
   "metadata": {
    "execution": {
     "iopub.execute_input": "2023-02-23T10:45:21.663349Z",
     "iopub.status.busy": "2023-02-23T10:45:21.662703Z",
     "iopub.status.idle": "2023-02-23T10:45:26.535490Z",
     "shell.execute_reply": "2023-02-23T10:45:26.534506Z"
    }
   },
   "outputs": [
    {
     "name": "stdout",
     "output_type": "stream",
     "text": [
      "599 ns ± 6.46 ns per loop (mean ± std. dev. of 7 runs, 1,000,000 loops each)\n"
     ]
    }
   ],
   "source": [
    "%timeit b.a = new_value"
   ]
  },
  {
   "cell_type": "markdown",
   "id": "b61ad1d0",
   "metadata": {},
   "source": [
    "## Initialization"
   ]
  },
  {
   "cell_type": "markdown",
   "id": "d70f0d54",
   "metadata": {},
   "source": [
    "### TreeValue's Initialization"
   ]
  },
  {
   "cell_type": "code",
   "execution_count": 14,
   "id": "d32a679b",
   "metadata": {
    "execution": {
     "iopub.execute_input": "2023-02-23T10:45:26.539371Z",
     "iopub.status.busy": "2023-02-23T10:45:26.538848Z",
     "iopub.status.idle": "2023-02-23T10:45:34.838100Z",
     "shell.execute_reply": "2023-02-23T10:45:34.837134Z"
    }
   },
   "outputs": [
    {
     "name": "stdout",
     "output_type": "stream",
     "text": [
      "1.02 µs ± 16.2 ns per loop (mean ± std. dev. of 7 runs, 1,000,000 loops each)\n"
     ]
    }
   ],
   "source": [
    "%timeit FastTreeValue(_TREE_DATA_1)"
   ]
  },
  {
   "cell_type": "markdown",
   "id": "24f3707b",
   "metadata": {},
   "source": [
    "### Tianshou Batch's Initialization"
   ]
  },
  {
   "cell_type": "code",
   "execution_count": 15,
   "id": "ac3958df",
   "metadata": {
    "execution": {
     "iopub.execute_input": "2023-02-23T10:45:34.842318Z",
     "iopub.status.busy": "2023-02-23T10:45:34.841748Z",
     "iopub.status.idle": "2023-02-23T10:45:45.350941Z",
     "shell.execute_reply": "2023-02-23T10:45:45.349871Z"
    }
   },
   "outputs": [
    {
     "name": "stdout",
     "output_type": "stream",
     "text": [
      "12.9 µs ± 101 ns per loop (mean ± std. dev. of 7 runs, 100,000 loops each)\n"
     ]
    }
   ],
   "source": [
    "%timeit Batch(**_TREE_DATA_1)"
   ]
  },
  {
   "cell_type": "markdown",
   "id": "1ab82e2d",
   "metadata": {},
   "source": [
    "## Deep Copy Operation"
   ]
  },
  {
   "cell_type": "code",
   "execution_count": 16,
   "id": "210a9442",
   "metadata": {
    "execution": {
     "iopub.execute_input": "2023-02-23T10:45:45.354723Z",
     "iopub.status.busy": "2023-02-23T10:45:45.354409Z",
     "iopub.status.idle": "2023-02-23T10:45:45.359661Z",
     "shell.execute_reply": "2023-02-23T10:45:45.358690Z"
    }
   },
   "outputs": [],
   "source": [
    "import copy"
   ]
  },
  {
   "cell_type": "markdown",
   "id": "5a736274",
   "metadata": {},
   "source": [
    "### Deep Copy of TreeValue"
   ]
  },
  {
   "cell_type": "code",
   "execution_count": 17,
   "id": "f9bcadd6",
   "metadata": {
    "execution": {
     "iopub.execute_input": "2023-02-23T10:45:45.363145Z",
     "iopub.status.busy": "2023-02-23T10:45:45.362552Z",
     "iopub.status.idle": "2023-02-23T10:45:47.511910Z",
     "shell.execute_reply": "2023-02-23T10:45:47.510990Z"
    }
   },
   "outputs": [
    {
     "name": "stdout",
     "output_type": "stream",
     "text": [
      "264 µs ± 5.2 µs per loop (mean ± std. dev. of 7 runs, 1,000 loops each)\n"
     ]
    }
   ],
   "source": [
    "t3 = FastTreeValue(_TREE_DATA_3)\n",
    "%timeit copy.deepcopy(t3)"
   ]
  },
  {
   "cell_type": "markdown",
   "id": "bf8be7ea",
   "metadata": {},
   "source": [
    "### Deep Copy of Tianshou Batch"
   ]
  },
  {
   "cell_type": "code",
   "execution_count": 18,
   "id": "91998e6f",
   "metadata": {
    "execution": {
     "iopub.execute_input": "2023-02-23T10:45:47.516895Z",
     "iopub.status.busy": "2023-02-23T10:45:47.514903Z",
     "iopub.status.idle": "2023-02-23T10:45:49.585443Z",
     "shell.execute_reply": "2023-02-23T10:45:49.584354Z"
    }
   },
   "outputs": [
    {
     "name": "stdout",
     "output_type": "stream",
     "text": [
      "254 µs ± 4.75 µs per loop (mean ± std. dev. of 7 runs, 1,000 loops each)\n"
     ]
    }
   ],
   "source": [
    "b3 = Batch(**_TREE_DATA_3)\n",
    "%timeit copy.deepcopy(b3)"
   ]
  },
  {
   "cell_type": "markdown",
   "id": "223162fb",
   "metadata": {},
   "source": [
    "## Stack, Concat and Split Operation"
   ]
  },
  {
   "cell_type": "markdown",
   "id": "85fa4a73",
   "metadata": {},
   "source": [
    "### Performance of TreeValue"
   ]
  },
  {
   "cell_type": "code",
   "execution_count": 19,
   "id": "a0c2b697",
   "metadata": {
    "execution": {
     "iopub.execute_input": "2023-02-23T10:45:49.591718Z",
     "iopub.status.busy": "2023-02-23T10:45:49.590465Z",
     "iopub.status.idle": "2023-02-23T10:45:49.595338Z",
     "shell.execute_reply": "2023-02-23T10:45:49.594588Z"
    }
   },
   "outputs": [],
   "source": [
    "trees = [FastTreeValue(_TREE_DATA_2) for _ in range(8)]"
   ]
  },
  {
   "cell_type": "code",
   "execution_count": 20,
   "id": "017ea5a5",
   "metadata": {
    "execution": {
     "iopub.execute_input": "2023-02-23T10:45:49.598337Z",
     "iopub.status.busy": "2023-02-23T10:45:49.597876Z",
     "iopub.status.idle": "2023-02-23T10:45:49.609322Z",
     "shell.execute_reply": "2023-02-23T10:45:49.608381Z"
    }
   },
   "outputs": [
    {
     "data": {
      "text/plain": [
       "<FastTreeValue 0x7f7377c0dcd0>\n",
       "├── 'a' --> tensor([[[ 1.4787, -0.9441,  0.7472],\n",
       "│                    [ 0.4769, -0.0566,  1.0812]],\n",
       "│           \n",
       "│                   [[ 1.4787, -0.9441,  0.7472],\n",
       "│                    [ 0.4769, -0.0566,  1.0812]],\n",
       "│           \n",
       "│                   [[ 1.4787, -0.9441,  0.7472],\n",
       "│                    [ 0.4769, -0.0566,  1.0812]],\n",
       "│           \n",
       "│                   [[ 1.4787, -0.9441,  0.7472],\n",
       "│                    [ 0.4769, -0.0566,  1.0812]],\n",
       "│           \n",
       "│                   [[ 1.4787, -0.9441,  0.7472],\n",
       "│                    [ 0.4769, -0.0566,  1.0812]],\n",
       "│           \n",
       "│                   [[ 1.4787, -0.9441,  0.7472],\n",
       "│                    [ 0.4769, -0.0566,  1.0812]],\n",
       "│           \n",
       "│                   [[ 1.4787, -0.9441,  0.7472],\n",
       "│                    [ 0.4769, -0.0566,  1.0812]],\n",
       "│           \n",
       "│                   [[ 1.4787, -0.9441,  0.7472],\n",
       "│                    [ 0.4769, -0.0566,  1.0812]]])\n",
       "└── 'x' --> <FastTreeValue 0x7f741c2b8d30>\n",
       "    └── 'c' --> tensor([[[-0.6123, -0.7129, -0.3391,  0.8624],\n",
       "                         [ 0.2962, -0.3187,  0.9851,  0.0132],\n",
       "                         [ 0.3767, -0.2043, -1.6620,  0.0178]],\n",
       "                \n",
       "                        [[-0.6123, -0.7129, -0.3391,  0.8624],\n",
       "                         [ 0.2962, -0.3187,  0.9851,  0.0132],\n",
       "                         [ 0.3767, -0.2043, -1.6620,  0.0178]],\n",
       "                \n",
       "                        [[-0.6123, -0.7129, -0.3391,  0.8624],\n",
       "                         [ 0.2962, -0.3187,  0.9851,  0.0132],\n",
       "                         [ 0.3767, -0.2043, -1.6620,  0.0178]],\n",
       "                \n",
       "                        [[-0.6123, -0.7129, -0.3391,  0.8624],\n",
       "                         [ 0.2962, -0.3187,  0.9851,  0.0132],\n",
       "                         [ 0.3767, -0.2043, -1.6620,  0.0178]],\n",
       "                \n",
       "                        [[-0.6123, -0.7129, -0.3391,  0.8624],\n",
       "                         [ 0.2962, -0.3187,  0.9851,  0.0132],\n",
       "                         [ 0.3767, -0.2043, -1.6620,  0.0178]],\n",
       "                \n",
       "                        [[-0.6123, -0.7129, -0.3391,  0.8624],\n",
       "                         [ 0.2962, -0.3187,  0.9851,  0.0132],\n",
       "                         [ 0.3767, -0.2043, -1.6620,  0.0178]],\n",
       "                \n",
       "                        [[-0.6123, -0.7129, -0.3391,  0.8624],\n",
       "                         [ 0.2962, -0.3187,  0.9851,  0.0132],\n",
       "                         [ 0.3767, -0.2043, -1.6620,  0.0178]],\n",
       "                \n",
       "                        [[-0.6123, -0.7129, -0.3391,  0.8624],\n",
       "                         [ 0.2962, -0.3187,  0.9851,  0.0132],\n",
       "                         [ 0.3767, -0.2043, -1.6620,  0.0178]]])"
      ]
     },
     "execution_count": 20,
     "metadata": {},
     "output_type": "execute_result"
    }
   ],
   "source": [
    "t_stack = FastTreeValue.func(subside=True)(torch.stack)\n",
    "\n",
    "t_stack(trees)"
   ]
  },
  {
   "cell_type": "code",
   "execution_count": 21,
   "id": "f8b3f415",
   "metadata": {
    "execution": {
     "iopub.execute_input": "2023-02-23T10:45:49.612062Z",
     "iopub.status.busy": "2023-02-23T10:45:49.611664Z",
     "iopub.status.idle": "2023-02-23T10:45:53.068558Z",
     "shell.execute_reply": "2023-02-23T10:45:53.067615Z"
    }
   },
   "outputs": [
    {
     "name": "stdout",
     "output_type": "stream",
     "text": [
      "42.3 µs ± 626 ns per loop (mean ± std. dev. of 7 runs, 10,000 loops each)\n"
     ]
    }
   ],
   "source": [
    "%timeit t_stack(trees)"
   ]
  },
  {
   "cell_type": "code",
   "execution_count": 22,
   "id": "94b56771",
   "metadata": {
    "execution": {
     "iopub.execute_input": "2023-02-23T10:45:53.071981Z",
     "iopub.status.busy": "2023-02-23T10:45:53.071657Z",
     "iopub.status.idle": "2023-02-23T10:45:53.081476Z",
     "shell.execute_reply": "2023-02-23T10:45:53.080379Z"
    }
   },
   "outputs": [
    {
     "data": {
      "text/plain": [
       "<FastTreeValue 0x7f7370f28f70>\n",
       "├── 'a' --> tensor([[ 1.4787, -0.9441,  0.7472],\n",
       "│                   [ 0.4769, -0.0566,  1.0812],\n",
       "│                   [ 1.4787, -0.9441,  0.7472],\n",
       "│                   [ 0.4769, -0.0566,  1.0812],\n",
       "│                   [ 1.4787, -0.9441,  0.7472],\n",
       "│                   [ 0.4769, -0.0566,  1.0812],\n",
       "│                   [ 1.4787, -0.9441,  0.7472],\n",
       "│                   [ 0.4769, -0.0566,  1.0812],\n",
       "│                   [ 1.4787, -0.9441,  0.7472],\n",
       "│                   [ 0.4769, -0.0566,  1.0812],\n",
       "│                   [ 1.4787, -0.9441,  0.7472],\n",
       "│                   [ 0.4769, -0.0566,  1.0812],\n",
       "│                   [ 1.4787, -0.9441,  0.7472],\n",
       "│                   [ 0.4769, -0.0566,  1.0812],\n",
       "│                   [ 1.4787, -0.9441,  0.7472],\n",
       "│                   [ 0.4769, -0.0566,  1.0812]])\n",
       "└── 'x' --> <FastTreeValue 0x7f741c225550>\n",
       "    └── 'c' --> tensor([[-0.6123, -0.7129, -0.3391,  0.8624],\n",
       "                        [ 0.2962, -0.3187,  0.9851,  0.0132],\n",
       "                        [ 0.3767, -0.2043, -1.6620,  0.0178],\n",
       "                        [-0.6123, -0.7129, -0.3391,  0.8624],\n",
       "                        [ 0.2962, -0.3187,  0.9851,  0.0132],\n",
       "                        [ 0.3767, -0.2043, -1.6620,  0.0178],\n",
       "                        [-0.6123, -0.7129, -0.3391,  0.8624],\n",
       "                        [ 0.2962, -0.3187,  0.9851,  0.0132],\n",
       "                        [ 0.3767, -0.2043, -1.6620,  0.0178],\n",
       "                        [-0.6123, -0.7129, -0.3391,  0.8624],\n",
       "                        [ 0.2962, -0.3187,  0.9851,  0.0132],\n",
       "                        [ 0.3767, -0.2043, -1.6620,  0.0178],\n",
       "                        [-0.6123, -0.7129, -0.3391,  0.8624],\n",
       "                        [ 0.2962, -0.3187,  0.9851,  0.0132],\n",
       "                        [ 0.3767, -0.2043, -1.6620,  0.0178],\n",
       "                        [-0.6123, -0.7129, -0.3391,  0.8624],\n",
       "                        [ 0.2962, -0.3187,  0.9851,  0.0132],\n",
       "                        [ 0.3767, -0.2043, -1.6620,  0.0178],\n",
       "                        [-0.6123, -0.7129, -0.3391,  0.8624],\n",
       "                        [ 0.2962, -0.3187,  0.9851,  0.0132],\n",
       "                        [ 0.3767, -0.2043, -1.6620,  0.0178],\n",
       "                        [-0.6123, -0.7129, -0.3391,  0.8624],\n",
       "                        [ 0.2962, -0.3187,  0.9851,  0.0132],\n",
       "                        [ 0.3767, -0.2043, -1.6620,  0.0178]])"
      ]
     },
     "execution_count": 22,
     "metadata": {},
     "output_type": "execute_result"
    }
   ],
   "source": [
    "t_cat = FastTreeValue.func(subside=True)(torch.cat)\n",
    "\n",
    "t_cat(trees)"
   ]
  },
  {
   "cell_type": "code",
   "execution_count": 23,
   "id": "5e9c06a6",
   "metadata": {
    "execution": {
     "iopub.execute_input": "2023-02-23T10:45:53.084892Z",
     "iopub.status.busy": "2023-02-23T10:45:53.084644Z",
     "iopub.status.idle": "2023-02-23T10:45:56.432609Z",
     "shell.execute_reply": "2023-02-23T10:45:56.431712Z"
    }
   },
   "outputs": [
    {
     "name": "stdout",
     "output_type": "stream",
     "text": [
      "41.5 µs ± 2.09 µs per loop (mean ± std. dev. of 7 runs, 10,000 loops each)\n"
     ]
    }
   ],
   "source": [
    "%timeit t_cat(trees)"
   ]
  },
  {
   "cell_type": "code",
   "execution_count": 24,
   "id": "a3ab5c8f",
   "metadata": {
    "execution": {
     "iopub.execute_input": "2023-02-23T10:45:56.435875Z",
     "iopub.status.busy": "2023-02-23T10:45:56.435405Z",
     "iopub.status.idle": "2023-02-23T10:46:03.115298Z",
     "shell.execute_reply": "2023-02-23T10:46:03.114323Z"
    }
   },
   "outputs": [
    {
     "name": "stdout",
     "output_type": "stream",
     "text": [
      "82.7 µs ± 4.45 µs per loop (mean ± std. dev. of 7 runs, 10,000 loops each)\n"
     ]
    }
   ],
   "source": [
    "t_split = FastTreeValue.func(rise=True)(torch.split)\n",
    "tree = FastTreeValue({\n",
    "    'obs': torch.randn(8, 4, 84, 84),\n",
    "    'action': torch.randint(0, 6, size=(8, 1,)),\n",
    "    'reward': torch.rand(8, 1),\n",
    "})\n",
    "\n",
    "%timeit t_split(tree, 1)"
   ]
  },
  {
   "cell_type": "markdown",
   "id": "31c3ec0b",
   "metadata": {},
   "source": [
    "### Performance of Tianshou Batch"
   ]
  },
  {
   "cell_type": "code",
   "execution_count": 25,
   "id": "9ead828a",
   "metadata": {
    "execution": {
     "iopub.execute_input": "2023-02-23T10:46:03.118685Z",
     "iopub.status.busy": "2023-02-23T10:46:03.118205Z",
     "iopub.status.idle": "2023-02-23T10:46:03.128820Z",
     "shell.execute_reply": "2023-02-23T10:46:03.127981Z"
    }
   },
   "outputs": [
    {
     "data": {
      "text/plain": [
       "Batch(\n",
       "    a: tensor([[[ 1.4787, -0.9441,  0.7472],\n",
       "                [ 0.4769, -0.0566,  1.0812]],\n",
       "       \n",
       "               [[ 1.4787, -0.9441,  0.7472],\n",
       "                [ 0.4769, -0.0566,  1.0812]],\n",
       "       \n",
       "               [[ 1.4787, -0.9441,  0.7472],\n",
       "                [ 0.4769, -0.0566,  1.0812]],\n",
       "       \n",
       "               [[ 1.4787, -0.9441,  0.7472],\n",
       "                [ 0.4769, -0.0566,  1.0812]],\n",
       "       \n",
       "               [[ 1.4787, -0.9441,  0.7472],\n",
       "                [ 0.4769, -0.0566,  1.0812]],\n",
       "       \n",
       "               [[ 1.4787, -0.9441,  0.7472],\n",
       "                [ 0.4769, -0.0566,  1.0812]],\n",
       "       \n",
       "               [[ 1.4787, -0.9441,  0.7472],\n",
       "                [ 0.4769, -0.0566,  1.0812]],\n",
       "       \n",
       "               [[ 1.4787, -0.9441,  0.7472],\n",
       "                [ 0.4769, -0.0566,  1.0812]]]),\n",
       "    x: Batch(\n",
       "           c: tensor([[[-0.6123, -0.7129, -0.3391,  0.8624],\n",
       "                       [ 0.2962, -0.3187,  0.9851,  0.0132],\n",
       "                       [ 0.3767, -0.2043, -1.6620,  0.0178]],\n",
       "              \n",
       "                      [[-0.6123, -0.7129, -0.3391,  0.8624],\n",
       "                       [ 0.2962, -0.3187,  0.9851,  0.0132],\n",
       "                       [ 0.3767, -0.2043, -1.6620,  0.0178]],\n",
       "              \n",
       "                      [[-0.6123, -0.7129, -0.3391,  0.8624],\n",
       "                       [ 0.2962, -0.3187,  0.9851,  0.0132],\n",
       "                       [ 0.3767, -0.2043, -1.6620,  0.0178]],\n",
       "              \n",
       "                      [[-0.6123, -0.7129, -0.3391,  0.8624],\n",
       "                       [ 0.2962, -0.3187,  0.9851,  0.0132],\n",
       "                       [ 0.3767, -0.2043, -1.6620,  0.0178]],\n",
       "              \n",
       "                      [[-0.6123, -0.7129, -0.3391,  0.8624],\n",
       "                       [ 0.2962, -0.3187,  0.9851,  0.0132],\n",
       "                       [ 0.3767, -0.2043, -1.6620,  0.0178]],\n",
       "              \n",
       "                      [[-0.6123, -0.7129, -0.3391,  0.8624],\n",
       "                       [ 0.2962, -0.3187,  0.9851,  0.0132],\n",
       "                       [ 0.3767, -0.2043, -1.6620,  0.0178]],\n",
       "              \n",
       "                      [[-0.6123, -0.7129, -0.3391,  0.8624],\n",
       "                       [ 0.2962, -0.3187,  0.9851,  0.0132],\n",
       "                       [ 0.3767, -0.2043, -1.6620,  0.0178]],\n",
       "              \n",
       "                      [[-0.6123, -0.7129, -0.3391,  0.8624],\n",
       "                       [ 0.2962, -0.3187,  0.9851,  0.0132],\n",
       "                       [ 0.3767, -0.2043, -1.6620,  0.0178]]]),\n",
       "       ),\n",
       ")"
      ]
     },
     "execution_count": 25,
     "metadata": {},
     "output_type": "execute_result"
    }
   ],
   "source": [
    "batches = [Batch(**_TREE_DATA_2) for _ in range(8)]\n",
    "\n",
    "Batch.stack(batches)"
   ]
  },
  {
   "cell_type": "code",
   "execution_count": 26,
   "id": "ec9037a3",
   "metadata": {
    "execution": {
     "iopub.execute_input": "2023-02-23T10:46:03.131980Z",
     "iopub.status.busy": "2023-02-23T10:46:03.131707Z",
     "iopub.status.idle": "2023-02-23T10:46:11.254871Z",
     "shell.execute_reply": "2023-02-23T10:46:11.253860Z"
    }
   },
   "outputs": [
    {
     "name": "stdout",
     "output_type": "stream",
     "text": [
      "101 µs ± 7.03 µs per loop (mean ± std. dev. of 7 runs, 10,000 loops each)\n"
     ]
    }
   ],
   "source": [
    "%timeit Batch.stack(batches)"
   ]
  },
  {
   "cell_type": "code",
   "execution_count": 27,
   "id": "cb8ab77e",
   "metadata": {
    "execution": {
     "iopub.execute_input": "2023-02-23T10:46:11.258871Z",
     "iopub.status.busy": "2023-02-23T10:46:11.258536Z",
     "iopub.status.idle": "2023-02-23T10:46:11.270696Z",
     "shell.execute_reply": "2023-02-23T10:46:11.269626Z"
    }
   },
   "outputs": [
    {
     "data": {
      "text/plain": [
       "Batch(\n",
       "    a: tensor([[ 1.4787, -0.9441,  0.7472],\n",
       "               [ 0.4769, -0.0566,  1.0812],\n",
       "               [ 1.4787, -0.9441,  0.7472],\n",
       "               [ 0.4769, -0.0566,  1.0812],\n",
       "               [ 1.4787, -0.9441,  0.7472],\n",
       "               [ 0.4769, -0.0566,  1.0812],\n",
       "               [ 1.4787, -0.9441,  0.7472],\n",
       "               [ 0.4769, -0.0566,  1.0812],\n",
       "               [ 1.4787, -0.9441,  0.7472],\n",
       "               [ 0.4769, -0.0566,  1.0812],\n",
       "               [ 1.4787, -0.9441,  0.7472],\n",
       "               [ 0.4769, -0.0566,  1.0812],\n",
       "               [ 1.4787, -0.9441,  0.7472],\n",
       "               [ 0.4769, -0.0566,  1.0812],\n",
       "               [ 1.4787, -0.9441,  0.7472],\n",
       "               [ 0.4769, -0.0566,  1.0812]]),\n",
       "    x: Batch(\n",
       "           c: tensor([[-0.6123, -0.7129, -0.3391,  0.8624],\n",
       "                      [ 0.2962, -0.3187,  0.9851,  0.0132],\n",
       "                      [ 0.3767, -0.2043, -1.6620,  0.0178],\n",
       "                      [-0.6123, -0.7129, -0.3391,  0.8624],\n",
       "                      [ 0.2962, -0.3187,  0.9851,  0.0132],\n",
       "                      [ 0.3767, -0.2043, -1.6620,  0.0178],\n",
       "                      [-0.6123, -0.7129, -0.3391,  0.8624],\n",
       "                      [ 0.2962, -0.3187,  0.9851,  0.0132],\n",
       "                      [ 0.3767, -0.2043, -1.6620,  0.0178],\n",
       "                      [-0.6123, -0.7129, -0.3391,  0.8624],\n",
       "                      [ 0.2962, -0.3187,  0.9851,  0.0132],\n",
       "                      [ 0.3767, -0.2043, -1.6620,  0.0178],\n",
       "                      [-0.6123, -0.7129, -0.3391,  0.8624],\n",
       "                      [ 0.2962, -0.3187,  0.9851,  0.0132],\n",
       "                      [ 0.3767, -0.2043, -1.6620,  0.0178],\n",
       "                      [-0.6123, -0.7129, -0.3391,  0.8624],\n",
       "                      [ 0.2962, -0.3187,  0.9851,  0.0132],\n",
       "                      [ 0.3767, -0.2043, -1.6620,  0.0178],\n",
       "                      [-0.6123, -0.7129, -0.3391,  0.8624],\n",
       "                      [ 0.2962, -0.3187,  0.9851,  0.0132],\n",
       "                      [ 0.3767, -0.2043, -1.6620,  0.0178],\n",
       "                      [-0.6123, -0.7129, -0.3391,  0.8624],\n",
       "                      [ 0.2962, -0.3187,  0.9851,  0.0132],\n",
       "                      [ 0.3767, -0.2043, -1.6620,  0.0178]]),\n",
       "       ),\n",
       ")"
      ]
     },
     "execution_count": 27,
     "metadata": {},
     "output_type": "execute_result"
    }
   ],
   "source": [
    "Batch.cat(batches)"
   ]
  },
  {
   "cell_type": "code",
   "execution_count": 28,
   "id": "18dfb045",
   "metadata": {
    "execution": {
     "iopub.execute_input": "2023-02-23T10:46:11.275585Z",
     "iopub.status.busy": "2023-02-23T10:46:11.275253Z",
     "iopub.status.idle": "2023-02-23T10:46:12.935789Z",
     "shell.execute_reply": "2023-02-23T10:46:12.934714Z"
    }
   },
   "outputs": [
    {
     "name": "stdout",
     "output_type": "stream",
     "text": [
      "204 µs ± 9.92 µs per loop (mean ± std. dev. of 7 runs, 1,000 loops each)\n"
     ]
    }
   ],
   "source": [
    "%timeit Batch.cat(batches)"
   ]
  },
  {
   "cell_type": "code",
   "execution_count": 29,
   "id": "c6688e51",
   "metadata": {
    "execution": {
     "iopub.execute_input": "2023-02-23T10:46:12.939659Z",
     "iopub.status.busy": "2023-02-23T10:46:12.939327Z",
     "iopub.status.idle": "2023-02-23T10:46:17.965441Z",
     "shell.execute_reply": "2023-02-23T10:46:17.964470Z"
    }
   },
   "outputs": [
    {
     "name": "stdout",
     "output_type": "stream",
     "text": [
      "610 µs ± 20.1 µs per loop (mean ± std. dev. of 7 runs, 1,000 loops each)\n"
     ]
    }
   ],
   "source": [
    "batch = Batch({\n",
    "    'obs': torch.randn(8, 4, 84, 84),\n",
    "    'action': torch.randint(0, 6, size=(8, 1,)),\n",
    "    'reward': torch.rand(8, 1)}\n",
    ")\n",
    "\n",
    "%timeit list(Batch.split(batch, 1, shuffle=False, merge_last=True))"
   ]
  },
  {
   "cell_type": "code",
   "execution_count": null,
   "id": "2539fbd9",
   "metadata": {},
   "outputs": [],
   "source": []
  }
 ],
 "metadata": {
  "kernelspec": {
   "display_name": "Python 3 (ipykernel)",
   "language": "python",
   "name": "python3"
  },
  "language_info": {
   "codemirror_mode": {
    "name": "ipython",
    "version": 3
   },
   "file_extension": ".py",
   "mimetype": "text/x-python",
   "name": "python",
   "nbconvert_exporter": "python",
   "pygments_lexer": "ipython3",
   "version": "3.8.16"
  }
 },
 "nbformat": 4,
 "nbformat_minor": 5
}
