{
 "cells": [
  {
   "cell_type": "markdown",
   "id": "9d39d946",
   "metadata": {},
   "source": [
    "# Comparison Between TreeValue and Tianshou Batch"
   ]
  },
  {
   "cell_type": "markdown",
   "id": "3c6db2d4",
   "metadata": {},
   "source": [
    "In this section, we will take a look at the feature and performance of the [Tianshou Batch](https://github.com/thu-ml/tianshou) library, which is developed by Tsinghua Machine Learning Group."
   ]
  },
  {
   "cell_type": "markdown",
   "id": "069361b0",
   "metadata": {},
   "source": [
    "Before starting the comparison, let us define some thing."
   ]
  },
  {
   "cell_type": "code",
   "execution_count": 1,
   "id": "06fc8d26",
   "metadata": {
    "execution": {
     "iopub.execute_input": "2023-02-27T09:45:12.107037Z",
     "iopub.status.busy": "2023-02-27T09:45:12.106818Z",
     "iopub.status.idle": "2023-02-27T09:45:13.015792Z",
     "shell.execute_reply": "2023-02-27T09:45:13.015108Z"
    }
   },
   "outputs": [
    {
     "name": "stderr",
     "output_type": "stream",
     "text": [
      "/opt/hostedtoolcache/Python/3.8.16/x64/lib/python3.8/site-packages/tqdm/auto.py:22: TqdmWarning: IProgress not found. Please update jupyter and ipywidgets. See https://ipywidgets.readthedocs.io/en/stable/user_install.html\n",
      "  from .autonotebook import tqdm as notebook_tqdm\n"
     ]
    }
   ],
   "source": [
    "import torch \n",
    "\n",
    "_TREE_DATA_1 = {'a': 1, 'b': 2, 'x': {'c': 3, 'd': 4}}\n",
    "_TREE_DATA_2 = {\n",
    "    'a': torch.randn(2, 3), \n",
    "    'x': {\n",
    "        'c': torch.randn(3, 4)\n",
    "    },\n",
    "}\n",
    "_TREE_DATA_3 = {\n",
    "    'obs': torch.randn(4, 84, 84),\n",
    "    'action': torch.randint(0, 6, size=(1,)),\n",
    "    'reward': torch.rand(1),\n",
    "}"
   ]
  },
  {
   "cell_type": "markdown",
   "id": "83461b25",
   "metadata": {},
   "source": [
    "## Read and Write Operation"
   ]
  },
  {
   "cell_type": "markdown",
   "id": "067b3f73",
   "metadata": {},
   "source": [
    "Reading and writing are the two most common operations in the tree data structure based on the data model (TreeValue and Tianshou Batch both belong to this type), so this section will compare the reading and writing performance of these two libraries."
   ]
  },
  {
   "cell_type": "markdown",
   "id": "5d09a5b7",
   "metadata": {},
   "source": [
    "### TreeValue's Get and Set"
   ]
  },
  {
   "cell_type": "code",
   "execution_count": 2,
   "id": "9519c4bb",
   "metadata": {
    "execution": {
     "iopub.execute_input": "2023-02-27T09:45:13.019171Z",
     "iopub.status.busy": "2023-02-27T09:45:13.018569Z",
     "iopub.status.idle": "2023-02-27T09:45:13.297276Z",
     "shell.execute_reply": "2023-02-27T09:45:13.296600Z"
    }
   },
   "outputs": [],
   "source": [
    "from treevalue import FastTreeValue\n",
    "\n",
    "t = FastTreeValue(_TREE_DATA_2)"
   ]
  },
  {
   "cell_type": "code",
   "execution_count": 3,
   "id": "11c37677",
   "metadata": {
    "execution": {
     "iopub.execute_input": "2023-02-27T09:45:13.300672Z",
     "iopub.status.busy": "2023-02-27T09:45:13.300077Z",
     "iopub.status.idle": "2023-02-27T09:45:13.309524Z",
     "shell.execute_reply": "2023-02-27T09:45:13.308941Z"
    }
   },
   "outputs": [
    {
     "data": {
      "text/plain": [
       "<FastTreeValue 0x7f8ccc11d2b0>\n",
       "├── 'a' --> tensor([[ 0.6756,  0.0030,  1.2495],\n",
       "│                   [-0.3547, -0.8126, -0.4596]])\n",
       "└── 'x' --> <FastTreeValue 0x7f8cf04957f0>\n",
       "    └── 'c' --> tensor([[ 2.1625e+00, -4.1443e-03, -3.7981e-02,  9.4282e-01],\n",
       "                        [ 7.3548e-02, -6.5365e-01, -2.9493e-05,  2.0976e-01],\n",
       "                        [-7.3438e-01, -1.0604e+00,  8.5125e-01, -8.7493e-01]])"
      ]
     },
     "execution_count": 3,
     "metadata": {},
     "output_type": "execute_result"
    }
   ],
   "source": [
    "t"
   ]
  },
  {
   "cell_type": "code",
   "execution_count": 4,
   "id": "fd70b0b9",
   "metadata": {
    "execution": {
     "iopub.execute_input": "2023-02-27T09:45:13.311938Z",
     "iopub.status.busy": "2023-02-27T09:45:13.311593Z",
     "iopub.status.idle": "2023-02-27T09:45:13.317400Z",
     "shell.execute_reply": "2023-02-27T09:45:13.316847Z"
    }
   },
   "outputs": [
    {
     "data": {
      "text/plain": [
       "tensor([[ 0.6756,  0.0030,  1.2495],\n",
       "        [-0.3547, -0.8126, -0.4596]])"
      ]
     },
     "execution_count": 4,
     "metadata": {},
     "output_type": "execute_result"
    }
   ],
   "source": [
    "t.a"
   ]
  },
  {
   "cell_type": "code",
   "execution_count": 5,
   "id": "c18197bd",
   "metadata": {
    "execution": {
     "iopub.execute_input": "2023-02-27T09:45:13.319979Z",
     "iopub.status.busy": "2023-02-27T09:45:13.319470Z",
     "iopub.status.idle": "2023-02-27T09:45:18.296821Z",
     "shell.execute_reply": "2023-02-27T09:45:18.296070Z"
    }
   },
   "outputs": [
    {
     "name": "stdout",
     "output_type": "stream",
     "text": [
      "61.4 ns ± 0.0548 ns per loop (mean ± std. dev. of 7 runs, 10,000,000 loops each)\n"
     ]
    }
   ],
   "source": [
    "%timeit t.a"
   ]
  },
  {
   "cell_type": "code",
   "execution_count": 6,
   "id": "bd52f867",
   "metadata": {
    "execution": {
     "iopub.execute_input": "2023-02-27T09:45:18.299946Z",
     "iopub.status.busy": "2023-02-27T09:45:18.299359Z",
     "iopub.status.idle": "2023-02-27T09:45:18.305936Z",
     "shell.execute_reply": "2023-02-27T09:45:18.305336Z"
    }
   },
   "outputs": [
    {
     "data": {
      "text/plain": [
       "<FastTreeValue 0x7f8ccc11d2b0>\n",
       "├── 'a' --> tensor([[ 0.7574,  1.3851,  0.2728],\n",
       "│                   [-1.1601, -0.9871,  1.2608]])\n",
       "└── 'x' --> <FastTreeValue 0x7f8cf04957f0>\n",
       "    └── 'c' --> tensor([[ 2.1625e+00, -4.1443e-03, -3.7981e-02,  9.4282e-01],\n",
       "                        [ 7.3548e-02, -6.5365e-01, -2.9493e-05,  2.0976e-01],\n",
       "                        [-7.3438e-01, -1.0604e+00,  8.5125e-01, -8.7493e-01]])"
      ]
     },
     "execution_count": 6,
     "metadata": {},
     "output_type": "execute_result"
    }
   ],
   "source": [
    "new_value = torch.randn(2, 3)\n",
    "t.a = new_value\n",
    "\n",
    "t"
   ]
  },
  {
   "cell_type": "code",
   "execution_count": 7,
   "id": "bbe04d1c",
   "metadata": {
    "execution": {
     "iopub.execute_input": "2023-02-27T09:45:18.308314Z",
     "iopub.status.busy": "2023-02-27T09:45:18.307974Z",
     "iopub.status.idle": "2023-02-27T09:45:23.202162Z",
     "shell.execute_reply": "2023-02-27T09:45:23.201444Z"
    }
   },
   "outputs": [
    {
     "name": "stdout",
     "output_type": "stream",
     "text": [
      "60.2 ns ± 0.021 ns per loop (mean ± std. dev. of 7 runs, 10,000,000 loops each)\n"
     ]
    }
   ],
   "source": [
    "%timeit t.a = new_value"
   ]
  },
  {
   "cell_type": "markdown",
   "id": "48c49731",
   "metadata": {},
   "source": [
    "### Tianshou Batch's Get and Set"
   ]
  },
  {
   "cell_type": "code",
   "execution_count": 8,
   "id": "f1bb14c1",
   "metadata": {
    "execution": {
     "iopub.execute_input": "2023-02-27T09:45:23.204927Z",
     "iopub.status.busy": "2023-02-27T09:45:23.204556Z",
     "iopub.status.idle": "2023-02-27T09:45:23.528476Z",
     "shell.execute_reply": "2023-02-27T09:45:23.527400Z"
    }
   },
   "outputs": [],
   "source": [
    "from tianshou.data import Batch\n",
    "\n",
    "b = Batch(**_TREE_DATA_2)"
   ]
  },
  {
   "cell_type": "code",
   "execution_count": 9,
   "id": "cb0777c3",
   "metadata": {
    "execution": {
     "iopub.execute_input": "2023-02-27T09:45:23.531781Z",
     "iopub.status.busy": "2023-02-27T09:45:23.531238Z",
     "iopub.status.idle": "2023-02-27T09:45:23.536577Z",
     "shell.execute_reply": "2023-02-27T09:45:23.535974Z"
    }
   },
   "outputs": [
    {
     "data": {
      "text/plain": [
       "Batch(\n",
       "    a: tensor([[ 0.6756,  0.0030,  1.2495],\n",
       "               [-0.3547, -0.8126, -0.4596]]),\n",
       "    x: Batch(\n",
       "           c: tensor([[ 2.1625e+00, -4.1443e-03, -3.7981e-02,  9.4282e-01],\n",
       "                      [ 7.3548e-02, -6.5365e-01, -2.9493e-05,  2.0976e-01],\n",
       "                      [-7.3438e-01, -1.0604e+00,  8.5125e-01, -8.7493e-01]]),\n",
       "       ),\n",
       ")"
      ]
     },
     "execution_count": 9,
     "metadata": {},
     "output_type": "execute_result"
    }
   ],
   "source": [
    "b"
   ]
  },
  {
   "cell_type": "code",
   "execution_count": 10,
   "id": "43ef8ea3",
   "metadata": {
    "execution": {
     "iopub.execute_input": "2023-02-27T09:45:23.539158Z",
     "iopub.status.busy": "2023-02-27T09:45:23.538586Z",
     "iopub.status.idle": "2023-02-27T09:45:23.543210Z",
     "shell.execute_reply": "2023-02-27T09:45:23.542601Z"
    }
   },
   "outputs": [
    {
     "data": {
      "text/plain": [
       "tensor([[ 0.6756,  0.0030,  1.2495],\n",
       "        [-0.3547, -0.8126, -0.4596]])"
      ]
     },
     "execution_count": 10,
     "metadata": {},
     "output_type": "execute_result"
    }
   ],
   "source": [
    "b.a"
   ]
  },
  {
   "cell_type": "code",
   "execution_count": 11,
   "id": "b785ab72",
   "metadata": {
    "execution": {
     "iopub.execute_input": "2023-02-27T09:45:23.545938Z",
     "iopub.status.busy": "2023-02-27T09:45:23.545471Z",
     "iopub.status.idle": "2023-02-27T09:45:28.210423Z",
     "shell.execute_reply": "2023-02-27T09:45:28.209734Z"
    }
   },
   "outputs": [
    {
     "name": "stdout",
     "output_type": "stream",
     "text": [
      "57.3 ns ± 0.0617 ns per loop (mean ± std. dev. of 7 runs, 10,000,000 loops each)\n"
     ]
    }
   ],
   "source": [
    "%timeit b.a"
   ]
  },
  {
   "cell_type": "code",
   "execution_count": 12,
   "id": "ad54dc69",
   "metadata": {
    "execution": {
     "iopub.execute_input": "2023-02-27T09:45:28.213181Z",
     "iopub.status.busy": "2023-02-27T09:45:28.212813Z",
     "iopub.status.idle": "2023-02-27T09:45:28.219169Z",
     "shell.execute_reply": "2023-02-27T09:45:28.218568Z"
    }
   },
   "outputs": [
    {
     "data": {
      "text/plain": [
       "Batch(\n",
       "    a: tensor([[ 1.8544, -0.6987, -0.6787],\n",
       "               [-1.0340, -0.2523,  0.4787]]),\n",
       "    x: Batch(\n",
       "           c: tensor([[ 2.1625e+00, -4.1443e-03, -3.7981e-02,  9.4282e-01],\n",
       "                      [ 7.3548e-02, -6.5365e-01, -2.9493e-05,  2.0976e-01],\n",
       "                      [-7.3438e-01, -1.0604e+00,  8.5125e-01, -8.7493e-01]]),\n",
       "       ),\n",
       ")"
      ]
     },
     "execution_count": 12,
     "metadata": {},
     "output_type": "execute_result"
    }
   ],
   "source": [
    "new_value = torch.randn(2, 3)\n",
    "b.a = new_value\n",
    "\n",
    "b"
   ]
  },
  {
   "cell_type": "code",
   "execution_count": 13,
   "id": "29b1d0bf",
   "metadata": {
    "execution": {
     "iopub.execute_input": "2023-02-27T09:45:28.221497Z",
     "iopub.status.busy": "2023-02-27T09:45:28.221159Z",
     "iopub.status.idle": "2023-02-27T09:45:32.113824Z",
     "shell.execute_reply": "2023-02-27T09:45:32.113146Z"
    }
   },
   "outputs": [
    {
     "name": "stdout",
     "output_type": "stream",
     "text": [
      "478 ns ± 0.0812 ns per loop (mean ± std. dev. of 7 runs, 1,000,000 loops each)\n"
     ]
    }
   ],
   "source": [
    "%timeit b.a = new_value"
   ]
  },
  {
   "cell_type": "markdown",
   "id": "b61ad1d0",
   "metadata": {},
   "source": [
    "## Initialization"
   ]
  },
  {
   "cell_type": "markdown",
   "id": "d70f0d54",
   "metadata": {},
   "source": [
    "### TreeValue's Initialization"
   ]
  },
  {
   "cell_type": "code",
   "execution_count": 14,
   "id": "d32a679b",
   "metadata": {
    "execution": {
     "iopub.execute_input": "2023-02-27T09:45:32.116729Z",
     "iopub.status.busy": "2023-02-27T09:45:32.116492Z",
     "iopub.status.idle": "2023-02-27T09:45:38.813836Z",
     "shell.execute_reply": "2023-02-27T09:45:38.813085Z"
    }
   },
   "outputs": [
    {
     "name": "stdout",
     "output_type": "stream",
     "text": [
      "825 ns ± 0.134 ns per loop (mean ± std. dev. of 7 runs, 1,000,000 loops each)\n"
     ]
    }
   ],
   "source": [
    "%timeit FastTreeValue(_TREE_DATA_1)"
   ]
  },
  {
   "cell_type": "markdown",
   "id": "24f3707b",
   "metadata": {},
   "source": [
    "### Tianshou Batch's Initialization"
   ]
  },
  {
   "cell_type": "code",
   "execution_count": 15,
   "id": "ac3958df",
   "metadata": {
    "execution": {
     "iopub.execute_input": "2023-02-27T09:45:38.817126Z",
     "iopub.status.busy": "2023-02-27T09:45:38.816450Z",
     "iopub.status.idle": "2023-02-27T09:45:48.116786Z",
     "shell.execute_reply": "2023-02-27T09:45:48.116095Z"
    }
   },
   "outputs": [
    {
     "name": "stdout",
     "output_type": "stream",
     "text": [
      "11.5 µs ± 23.1 ns per loop (mean ± std. dev. of 7 runs, 100,000 loops each)\n"
     ]
    }
   ],
   "source": [
    "%timeit Batch(**_TREE_DATA_1)"
   ]
  },
  {
   "cell_type": "markdown",
   "id": "1ab82e2d",
   "metadata": {},
   "source": [
    "## Deep Copy Operation"
   ]
  },
  {
   "cell_type": "code",
   "execution_count": 16,
   "id": "210a9442",
   "metadata": {
    "execution": {
     "iopub.execute_input": "2023-02-27T09:45:48.119903Z",
     "iopub.status.busy": "2023-02-27T09:45:48.119220Z",
     "iopub.status.idle": "2023-02-27T09:45:48.122959Z",
     "shell.execute_reply": "2023-02-27T09:45:48.122344Z"
    }
   },
   "outputs": [],
   "source": [
    "import copy"
   ]
  },
  {
   "cell_type": "markdown",
   "id": "5a736274",
   "metadata": {},
   "source": [
    "### Deep Copy of TreeValue"
   ]
  },
  {
   "cell_type": "code",
   "execution_count": 17,
   "id": "f9bcadd6",
   "metadata": {
    "execution": {
     "iopub.execute_input": "2023-02-27T09:45:48.125507Z",
     "iopub.status.busy": "2023-02-27T09:45:48.125144Z",
     "iopub.status.idle": "2023-02-27T09:45:59.097372Z",
     "shell.execute_reply": "2023-02-27T09:45:59.096815Z"
    }
   },
   "outputs": [
    {
     "name": "stdout",
     "output_type": "stream",
     "text": [
      "135 µs ± 930 ns per loop (mean ± std. dev. of 7 runs, 10,000 loops each)\n"
     ]
    }
   ],
   "source": [
    "t3 = FastTreeValue(_TREE_DATA_3)\n",
    "%timeit copy.deepcopy(t3)"
   ]
  },
  {
   "cell_type": "markdown",
   "id": "bf8be7ea",
   "metadata": {},
   "source": [
    "### Deep Copy of Tianshou Batch"
   ]
  },
  {
   "cell_type": "code",
   "execution_count": 18,
   "id": "91998e6f",
   "metadata": {
    "execution": {
     "iopub.execute_input": "2023-02-27T09:45:59.100241Z",
     "iopub.status.busy": "2023-02-27T09:45:59.099989Z",
     "iopub.status.idle": "2023-02-27T09:46:10.304778Z",
     "shell.execute_reply": "2023-02-27T09:46:10.304170Z"
    }
   },
   "outputs": [
    {
     "name": "stdout",
     "output_type": "stream",
     "text": [
      "138 µs ± 618 ns per loop (mean ± std. dev. of 7 runs, 10,000 loops each)\n"
     ]
    }
   ],
   "source": [
    "b3 = Batch(**_TREE_DATA_3)\n",
    "%timeit copy.deepcopy(b3)"
   ]
  },
  {
   "cell_type": "markdown",
   "id": "223162fb",
   "metadata": {},
   "source": [
    "## Stack, Concat and Split Operation"
   ]
  },
  {
   "cell_type": "markdown",
   "id": "85fa4a73",
   "metadata": {},
   "source": [
    "### Performance of TreeValue"
   ]
  },
  {
   "cell_type": "code",
   "execution_count": 19,
   "id": "a0c2b697",
   "metadata": {
    "execution": {
     "iopub.execute_input": "2023-02-27T09:46:10.308895Z",
     "iopub.status.busy": "2023-02-27T09:46:10.307900Z",
     "iopub.status.idle": "2023-02-27T09:46:10.312334Z",
     "shell.execute_reply": "2023-02-27T09:46:10.311774Z"
    }
   },
   "outputs": [],
   "source": [
    "trees = [FastTreeValue(_TREE_DATA_2) for _ in range(8)]"
   ]
  },
  {
   "cell_type": "code",
   "execution_count": 20,
   "id": "017ea5a5",
   "metadata": {
    "execution": {
     "iopub.execute_input": "2023-02-27T09:46:10.315735Z",
     "iopub.status.busy": "2023-02-27T09:46:10.315057Z",
     "iopub.status.idle": "2023-02-27T09:46:10.322647Z",
     "shell.execute_reply": "2023-02-27T09:46:10.322058Z"
    }
   },
   "outputs": [
    {
     "data": {
      "text/plain": [
       "<FastTreeValue 0x7f8c387628b0>\n",
       "├── 'a' --> tensor([[[ 0.6756,  0.0030,  1.2495],\n",
       "│                    [-0.3547, -0.8126, -0.4596]],\n",
       "│           \n",
       "│                   [[ 0.6756,  0.0030,  1.2495],\n",
       "│                    [-0.3547, -0.8126, -0.4596]],\n",
       "│           \n",
       "│                   [[ 0.6756,  0.0030,  1.2495],\n",
       "│                    [-0.3547, -0.8126, -0.4596]],\n",
       "│           \n",
       "│                   [[ 0.6756,  0.0030,  1.2495],\n",
       "│                    [-0.3547, -0.8126, -0.4596]],\n",
       "│           \n",
       "│                   [[ 0.6756,  0.0030,  1.2495],\n",
       "│                    [-0.3547, -0.8126, -0.4596]],\n",
       "│           \n",
       "│                   [[ 0.6756,  0.0030,  1.2495],\n",
       "│                    [-0.3547, -0.8126, -0.4596]],\n",
       "│           \n",
       "│                   [[ 0.6756,  0.0030,  1.2495],\n",
       "│                    [-0.3547, -0.8126, -0.4596]],\n",
       "│           \n",
       "│                   [[ 0.6756,  0.0030,  1.2495],\n",
       "│                    [-0.3547, -0.8126, -0.4596]]])\n",
       "└── 'x' --> <FastTreeValue 0x7f8c38762a90>\n",
       "    └── 'c' --> tensor([[[ 2.1625e+00, -4.1443e-03, -3.7981e-02,  9.4282e-01],\n",
       "                         [ 7.3548e-02, -6.5365e-01, -2.9493e-05,  2.0976e-01],\n",
       "                         [-7.3438e-01, -1.0604e+00,  8.5125e-01, -8.7493e-01]],\n",
       "                \n",
       "                        [[ 2.1625e+00, -4.1443e-03, -3.7981e-02,  9.4282e-01],\n",
       "                         [ 7.3548e-02, -6.5365e-01, -2.9493e-05,  2.0976e-01],\n",
       "                         [-7.3438e-01, -1.0604e+00,  8.5125e-01, -8.7493e-01]],\n",
       "                \n",
       "                        [[ 2.1625e+00, -4.1443e-03, -3.7981e-02,  9.4282e-01],\n",
       "                         [ 7.3548e-02, -6.5365e-01, -2.9493e-05,  2.0976e-01],\n",
       "                         [-7.3438e-01, -1.0604e+00,  8.5125e-01, -8.7493e-01]],\n",
       "                \n",
       "                        [[ 2.1625e+00, -4.1443e-03, -3.7981e-02,  9.4282e-01],\n",
       "                         [ 7.3548e-02, -6.5365e-01, -2.9493e-05,  2.0976e-01],\n",
       "                         [-7.3438e-01, -1.0604e+00,  8.5125e-01, -8.7493e-01]],\n",
       "                \n",
       "                        [[ 2.1625e+00, -4.1443e-03, -3.7981e-02,  9.4282e-01],\n",
       "                         [ 7.3548e-02, -6.5365e-01, -2.9493e-05,  2.0976e-01],\n",
       "                         [-7.3438e-01, -1.0604e+00,  8.5125e-01, -8.7493e-01]],\n",
       "                \n",
       "                        [[ 2.1625e+00, -4.1443e-03, -3.7981e-02,  9.4282e-01],\n",
       "                         [ 7.3548e-02, -6.5365e-01, -2.9493e-05,  2.0976e-01],\n",
       "                         [-7.3438e-01, -1.0604e+00,  8.5125e-01, -8.7493e-01]],\n",
       "                \n",
       "                        [[ 2.1625e+00, -4.1443e-03, -3.7981e-02,  9.4282e-01],\n",
       "                         [ 7.3548e-02, -6.5365e-01, -2.9493e-05,  2.0976e-01],\n",
       "                         [-7.3438e-01, -1.0604e+00,  8.5125e-01, -8.7493e-01]],\n",
       "                \n",
       "                        [[ 2.1625e+00, -4.1443e-03, -3.7981e-02,  9.4282e-01],\n",
       "                         [ 7.3548e-02, -6.5365e-01, -2.9493e-05,  2.0976e-01],\n",
       "                         [-7.3438e-01, -1.0604e+00,  8.5125e-01, -8.7493e-01]]])"
      ]
     },
     "execution_count": 20,
     "metadata": {},
     "output_type": "execute_result"
    }
   ],
   "source": [
    "t_stack = FastTreeValue.func(subside=True)(torch.stack)\n",
    "\n",
    "t_stack(trees)"
   ]
  },
  {
   "cell_type": "code",
   "execution_count": 21,
   "id": "f8b3f415",
   "metadata": {
    "execution": {
     "iopub.execute_input": "2023-02-27T09:46:10.325393Z",
     "iopub.status.busy": "2023-02-27T09:46:10.324792Z",
     "iopub.status.idle": "2023-02-27T09:46:12.929709Z",
     "shell.execute_reply": "2023-02-27T09:46:12.928961Z"
    }
   },
   "outputs": [
    {
     "name": "stdout",
     "output_type": "stream",
     "text": [
      "32 µs ± 52.4 ns per loop (mean ± std. dev. of 7 runs, 10,000 loops each)\n"
     ]
    }
   ],
   "source": [
    "%timeit t_stack(trees)"
   ]
  },
  {
   "cell_type": "code",
   "execution_count": 22,
   "id": "94b56771",
   "metadata": {
    "execution": {
     "iopub.execute_input": "2023-02-27T09:46:12.932431Z",
     "iopub.status.busy": "2023-02-27T09:46:12.932074Z",
     "iopub.status.idle": "2023-02-27T09:46:12.939915Z",
     "shell.execute_reply": "2023-02-27T09:46:12.939342Z"
    }
   },
   "outputs": [
    {
     "data": {
      "text/plain": [
       "<FastTreeValue 0x7f8c38788f40>\n",
       "├── 'a' --> tensor([[ 0.6756,  0.0030,  1.2495],\n",
       "│                   [-0.3547, -0.8126, -0.4596],\n",
       "│                   [ 0.6756,  0.0030,  1.2495],\n",
       "│                   [-0.3547, -0.8126, -0.4596],\n",
       "│                   [ 0.6756,  0.0030,  1.2495],\n",
       "│                   [-0.3547, -0.8126, -0.4596],\n",
       "│                   [ 0.6756,  0.0030,  1.2495],\n",
       "│                   [-0.3547, -0.8126, -0.4596],\n",
       "│                   [ 0.6756,  0.0030,  1.2495],\n",
       "│                   [-0.3547, -0.8126, -0.4596],\n",
       "│                   [ 0.6756,  0.0030,  1.2495],\n",
       "│                   [-0.3547, -0.8126, -0.4596],\n",
       "│                   [ 0.6756,  0.0030,  1.2495],\n",
       "│                   [-0.3547, -0.8126, -0.4596],\n",
       "│                   [ 0.6756,  0.0030,  1.2495],\n",
       "│                   [-0.3547, -0.8126, -0.4596]])\n",
       "└── 'x' --> <FastTreeValue 0x7f8cc4bb0ac0>\n",
       "    └── 'c' --> tensor([[ 2.1625e+00, -4.1443e-03, -3.7981e-02,  9.4282e-01],\n",
       "                        [ 7.3548e-02, -6.5365e-01, -2.9493e-05,  2.0976e-01],\n",
       "                        [-7.3438e-01, -1.0604e+00,  8.5125e-01, -8.7493e-01],\n",
       "                        [ 2.1625e+00, -4.1443e-03, -3.7981e-02,  9.4282e-01],\n",
       "                        [ 7.3548e-02, -6.5365e-01, -2.9493e-05,  2.0976e-01],\n",
       "                        [-7.3438e-01, -1.0604e+00,  8.5125e-01, -8.7493e-01],\n",
       "                        [ 2.1625e+00, -4.1443e-03, -3.7981e-02,  9.4282e-01],\n",
       "                        [ 7.3548e-02, -6.5365e-01, -2.9493e-05,  2.0976e-01],\n",
       "                        [-7.3438e-01, -1.0604e+00,  8.5125e-01, -8.7493e-01],\n",
       "                        [ 2.1625e+00, -4.1443e-03, -3.7981e-02,  9.4282e-01],\n",
       "                        [ 7.3548e-02, -6.5365e-01, -2.9493e-05,  2.0976e-01],\n",
       "                        [-7.3438e-01, -1.0604e+00,  8.5125e-01, -8.7493e-01],\n",
       "                        [ 2.1625e+00, -4.1443e-03, -3.7981e-02,  9.4282e-01],\n",
       "                        [ 7.3548e-02, -6.5365e-01, -2.9493e-05,  2.0976e-01],\n",
       "                        [-7.3438e-01, -1.0604e+00,  8.5125e-01, -8.7493e-01],\n",
       "                        [ 2.1625e+00, -4.1443e-03, -3.7981e-02,  9.4282e-01],\n",
       "                        [ 7.3548e-02, -6.5365e-01, -2.9493e-05,  2.0976e-01],\n",
       "                        [-7.3438e-01, -1.0604e+00,  8.5125e-01, -8.7493e-01],\n",
       "                        [ 2.1625e+00, -4.1443e-03, -3.7981e-02,  9.4282e-01],\n",
       "                        [ 7.3548e-02, -6.5365e-01, -2.9493e-05,  2.0976e-01],\n",
       "                        [-7.3438e-01, -1.0604e+00,  8.5125e-01, -8.7493e-01],\n",
       "                        [ 2.1625e+00, -4.1443e-03, -3.7981e-02,  9.4282e-01],\n",
       "                        [ 7.3548e-02, -6.5365e-01, -2.9493e-05,  2.0976e-01],\n",
       "                        [-7.3438e-01, -1.0604e+00,  8.5125e-01, -8.7493e-01]])"
      ]
     },
     "execution_count": 22,
     "metadata": {},
     "output_type": "execute_result"
    }
   ],
   "source": [
    "t_cat = FastTreeValue.func(subside=True)(torch.cat)\n",
    "\n",
    "t_cat(trees)"
   ]
  },
  {
   "cell_type": "code",
   "execution_count": 23,
   "id": "5e9c06a6",
   "metadata": {
    "execution": {
     "iopub.execute_input": "2023-02-27T09:46:12.942640Z",
     "iopub.status.busy": "2023-02-27T09:46:12.942321Z",
     "iopub.status.idle": "2023-02-27T09:46:15.377443Z",
     "shell.execute_reply": "2023-02-27T09:46:15.376763Z"
    }
   },
   "outputs": [
    {
     "name": "stdout",
     "output_type": "stream",
     "text": [
      "29.9 µs ± 67.7 ns per loop (mean ± std. dev. of 7 runs, 10,000 loops each)\n"
     ]
    }
   ],
   "source": [
    "%timeit t_cat(trees)"
   ]
  },
  {
   "cell_type": "code",
   "execution_count": 24,
   "id": "a3ab5c8f",
   "metadata": {
    "execution": {
     "iopub.execute_input": "2023-02-27T09:46:15.380590Z",
     "iopub.status.busy": "2023-02-27T09:46:15.380009Z",
     "iopub.status.idle": "2023-02-27T09:46:20.150581Z",
     "shell.execute_reply": "2023-02-27T09:46:20.149814Z"
    }
   },
   "outputs": [
    {
     "name": "stdout",
     "output_type": "stream",
     "text": [
      "58.7 µs ± 36.1 ns per loop (mean ± std. dev. of 7 runs, 10,000 loops each)\n"
     ]
    }
   ],
   "source": [
    "t_split = FastTreeValue.func(rise=True)(torch.split)\n",
    "tree = FastTreeValue({\n",
    "    'obs': torch.randn(8, 4, 84, 84),\n",
    "    'action': torch.randint(0, 6, size=(8, 1,)),\n",
    "    'reward': torch.rand(8, 1),\n",
    "})\n",
    "\n",
    "%timeit t_split(tree, 1)"
   ]
  },
  {
   "cell_type": "markdown",
   "id": "31c3ec0b",
   "metadata": {},
   "source": [
    "### Performance of Tianshou Batch"
   ]
  },
  {
   "cell_type": "code",
   "execution_count": 25,
   "id": "9ead828a",
   "metadata": {
    "execution": {
     "iopub.execute_input": "2023-02-27T09:46:20.153874Z",
     "iopub.status.busy": "2023-02-27T09:46:20.153341Z",
     "iopub.status.idle": "2023-02-27T09:46:20.161386Z",
     "shell.execute_reply": "2023-02-27T09:46:20.160788Z"
    }
   },
   "outputs": [
    {
     "data": {
      "text/plain": [
       "Batch(\n",
       "    x: Batch(\n",
       "           c: tensor([[[ 2.1625e+00, -4.1443e-03, -3.7981e-02,  9.4282e-01],\n",
       "                       [ 7.3548e-02, -6.5365e-01, -2.9493e-05,  2.0976e-01],\n",
       "                       [-7.3438e-01, -1.0604e+00,  8.5125e-01, -8.7493e-01]],\n",
       "              \n",
       "                      [[ 2.1625e+00, -4.1443e-03, -3.7981e-02,  9.4282e-01],\n",
       "                       [ 7.3548e-02, -6.5365e-01, -2.9493e-05,  2.0976e-01],\n",
       "                       [-7.3438e-01, -1.0604e+00,  8.5125e-01, -8.7493e-01]],\n",
       "              \n",
       "                      [[ 2.1625e+00, -4.1443e-03, -3.7981e-02,  9.4282e-01],\n",
       "                       [ 7.3548e-02, -6.5365e-01, -2.9493e-05,  2.0976e-01],\n",
       "                       [-7.3438e-01, -1.0604e+00,  8.5125e-01, -8.7493e-01]],\n",
       "              \n",
       "                      [[ 2.1625e+00, -4.1443e-03, -3.7981e-02,  9.4282e-01],\n",
       "                       [ 7.3548e-02, -6.5365e-01, -2.9493e-05,  2.0976e-01],\n",
       "                       [-7.3438e-01, -1.0604e+00,  8.5125e-01, -8.7493e-01]],\n",
       "              \n",
       "                      [[ 2.1625e+00, -4.1443e-03, -3.7981e-02,  9.4282e-01],\n",
       "                       [ 7.3548e-02, -6.5365e-01, -2.9493e-05,  2.0976e-01],\n",
       "                       [-7.3438e-01, -1.0604e+00,  8.5125e-01, -8.7493e-01]],\n",
       "              \n",
       "                      [[ 2.1625e+00, -4.1443e-03, -3.7981e-02,  9.4282e-01],\n",
       "                       [ 7.3548e-02, -6.5365e-01, -2.9493e-05,  2.0976e-01],\n",
       "                       [-7.3438e-01, -1.0604e+00,  8.5125e-01, -8.7493e-01]],\n",
       "              \n",
       "                      [[ 2.1625e+00, -4.1443e-03, -3.7981e-02,  9.4282e-01],\n",
       "                       [ 7.3548e-02, -6.5365e-01, -2.9493e-05,  2.0976e-01],\n",
       "                       [-7.3438e-01, -1.0604e+00,  8.5125e-01, -8.7493e-01]],\n",
       "              \n",
       "                      [[ 2.1625e+00, -4.1443e-03, -3.7981e-02,  9.4282e-01],\n",
       "                       [ 7.3548e-02, -6.5365e-01, -2.9493e-05,  2.0976e-01],\n",
       "                       [-7.3438e-01, -1.0604e+00,  8.5125e-01, -8.7493e-01]]]),\n",
       "       ),\n",
       "    a: tensor([[[ 0.6756,  0.0030,  1.2495],\n",
       "                [-0.3547, -0.8126, -0.4596]],\n",
       "       \n",
       "               [[ 0.6756,  0.0030,  1.2495],\n",
       "                [-0.3547, -0.8126, -0.4596]],\n",
       "       \n",
       "               [[ 0.6756,  0.0030,  1.2495],\n",
       "                [-0.3547, -0.8126, -0.4596]],\n",
       "       \n",
       "               [[ 0.6756,  0.0030,  1.2495],\n",
       "                [-0.3547, -0.8126, -0.4596]],\n",
       "       \n",
       "               [[ 0.6756,  0.0030,  1.2495],\n",
       "                [-0.3547, -0.8126, -0.4596]],\n",
       "       \n",
       "               [[ 0.6756,  0.0030,  1.2495],\n",
       "                [-0.3547, -0.8126, -0.4596]],\n",
       "       \n",
       "               [[ 0.6756,  0.0030,  1.2495],\n",
       "                [-0.3547, -0.8126, -0.4596]],\n",
       "       \n",
       "               [[ 0.6756,  0.0030,  1.2495],\n",
       "                [-0.3547, -0.8126, -0.4596]]]),\n",
       ")"
      ]
     },
     "execution_count": 25,
     "metadata": {},
     "output_type": "execute_result"
    }
   ],
   "source": [
    "batches = [Batch(**_TREE_DATA_2) for _ in range(8)]\n",
    "\n",
    "Batch.stack(batches)"
   ]
  },
  {
   "cell_type": "code",
   "execution_count": 26,
   "id": "ec9037a3",
   "metadata": {
    "execution": {
     "iopub.execute_input": "2023-02-27T09:46:20.164077Z",
     "iopub.status.busy": "2023-02-27T09:46:20.163727Z",
     "iopub.status.idle": "2023-02-27T09:46:26.542091Z",
     "shell.execute_reply": "2023-02-27T09:46:26.541284Z"
    }
   },
   "outputs": [
    {
     "name": "stdout",
     "output_type": "stream",
     "text": [
      "78.4 µs ± 242 ns per loop (mean ± std. dev. of 7 runs, 10,000 loops each)\n"
     ]
    }
   ],
   "source": [
    "%timeit Batch.stack(batches)"
   ]
  },
  {
   "cell_type": "code",
   "execution_count": 27,
   "id": "cb8ab77e",
   "metadata": {
    "execution": {
     "iopub.execute_input": "2023-02-27T09:46:26.545296Z",
     "iopub.status.busy": "2023-02-27T09:46:26.544781Z",
     "iopub.status.idle": "2023-02-27T09:46:26.552242Z",
     "shell.execute_reply": "2023-02-27T09:46:26.551660Z"
    }
   },
   "outputs": [
    {
     "data": {
      "text/plain": [
       "Batch(\n",
       "    x: Batch(\n",
       "           c: tensor([[ 2.1625e+00, -4.1443e-03, -3.7981e-02,  9.4282e-01],\n",
       "                      [ 7.3548e-02, -6.5365e-01, -2.9493e-05,  2.0976e-01],\n",
       "                      [-7.3438e-01, -1.0604e+00,  8.5125e-01, -8.7493e-01],\n",
       "                      [ 2.1625e+00, -4.1443e-03, -3.7981e-02,  9.4282e-01],\n",
       "                      [ 7.3548e-02, -6.5365e-01, -2.9493e-05,  2.0976e-01],\n",
       "                      [-7.3438e-01, -1.0604e+00,  8.5125e-01, -8.7493e-01],\n",
       "                      [ 2.1625e+00, -4.1443e-03, -3.7981e-02,  9.4282e-01],\n",
       "                      [ 7.3548e-02, -6.5365e-01, -2.9493e-05,  2.0976e-01],\n",
       "                      [-7.3438e-01, -1.0604e+00,  8.5125e-01, -8.7493e-01],\n",
       "                      [ 2.1625e+00, -4.1443e-03, -3.7981e-02,  9.4282e-01],\n",
       "                      [ 7.3548e-02, -6.5365e-01, -2.9493e-05,  2.0976e-01],\n",
       "                      [-7.3438e-01, -1.0604e+00,  8.5125e-01, -8.7493e-01],\n",
       "                      [ 2.1625e+00, -4.1443e-03, -3.7981e-02,  9.4282e-01],\n",
       "                      [ 7.3548e-02, -6.5365e-01, -2.9493e-05,  2.0976e-01],\n",
       "                      [-7.3438e-01, -1.0604e+00,  8.5125e-01, -8.7493e-01],\n",
       "                      [ 2.1625e+00, -4.1443e-03, -3.7981e-02,  9.4282e-01],\n",
       "                      [ 7.3548e-02, -6.5365e-01, -2.9493e-05,  2.0976e-01],\n",
       "                      [-7.3438e-01, -1.0604e+00,  8.5125e-01, -8.7493e-01],\n",
       "                      [ 2.1625e+00, -4.1443e-03, -3.7981e-02,  9.4282e-01],\n",
       "                      [ 7.3548e-02, -6.5365e-01, -2.9493e-05,  2.0976e-01],\n",
       "                      [-7.3438e-01, -1.0604e+00,  8.5125e-01, -8.7493e-01],\n",
       "                      [ 2.1625e+00, -4.1443e-03, -3.7981e-02,  9.4282e-01],\n",
       "                      [ 7.3548e-02, -6.5365e-01, -2.9493e-05,  2.0976e-01],\n",
       "                      [-7.3438e-01, -1.0604e+00,  8.5125e-01, -8.7493e-01]]),\n",
       "       ),\n",
       "    a: tensor([[ 0.6756,  0.0030,  1.2495],\n",
       "               [-0.3547, -0.8126, -0.4596],\n",
       "               [ 0.6756,  0.0030,  1.2495],\n",
       "               [-0.3547, -0.8126, -0.4596],\n",
       "               [ 0.6756,  0.0030,  1.2495],\n",
       "               [-0.3547, -0.8126, -0.4596],\n",
       "               [ 0.6756,  0.0030,  1.2495],\n",
       "               [-0.3547, -0.8126, -0.4596],\n",
       "               [ 0.6756,  0.0030,  1.2495],\n",
       "               [-0.3547, -0.8126, -0.4596],\n",
       "               [ 0.6756,  0.0030,  1.2495],\n",
       "               [-0.3547, -0.8126, -0.4596],\n",
       "               [ 0.6756,  0.0030,  1.2495],\n",
       "               [-0.3547, -0.8126, -0.4596],\n",
       "               [ 0.6756,  0.0030,  1.2495],\n",
       "               [-0.3547, -0.8126, -0.4596]]),\n",
       ")"
      ]
     },
     "execution_count": 27,
     "metadata": {},
     "output_type": "execute_result"
    }
   ],
   "source": [
    "Batch.cat(batches)"
   ]
  },
  {
   "cell_type": "code",
   "execution_count": 28,
   "id": "18dfb045",
   "metadata": {
    "execution": {
     "iopub.execute_input": "2023-02-27T09:46:26.555015Z",
     "iopub.status.busy": "2023-02-27T09:46:26.554529Z",
     "iopub.status.idle": "2023-02-27T09:46:38.078091Z",
     "shell.execute_reply": "2023-02-27T09:46:38.077340Z"
    }
   },
   "outputs": [
    {
     "name": "stdout",
     "output_type": "stream",
     "text": [
      "142 µs ± 182 ns per loop (mean ± std. dev. of 7 runs, 10,000 loops each)\n"
     ]
    }
   ],
   "source": [
    "%timeit Batch.cat(batches)"
   ]
  },
  {
   "cell_type": "code",
   "execution_count": 29,
   "id": "c6688e51",
   "metadata": {
    "execution": {
     "iopub.execute_input": "2023-02-27T09:46:38.080811Z",
     "iopub.status.busy": "2023-02-27T09:46:38.080466Z",
     "iopub.status.idle": "2023-02-27T09:46:40.660885Z",
     "shell.execute_reply": "2023-02-27T09:46:40.660328Z"
    }
   },
   "outputs": [
    {
     "name": "stdout",
     "output_type": "stream",
     "text": [
      "317 µs ± 1.77 µs per loop (mean ± std. dev. of 7 runs, 1,000 loops each)\n"
     ]
    }
   ],
   "source": [
    "batch = Batch({\n",
    "    'obs': torch.randn(8, 4, 84, 84),\n",
    "    'action': torch.randint(0, 6, size=(8, 1,)),\n",
    "    'reward': torch.rand(8, 1)}\n",
    ")\n",
    "\n",
    "%timeit list(Batch.split(batch, 1, shuffle=False, merge_last=True))"
   ]
  },
  {
   "cell_type": "code",
   "execution_count": null,
   "id": "2539fbd9",
   "metadata": {},
   "outputs": [],
   "source": []
  }
 ],
 "metadata": {
  "kernelspec": {
   "display_name": "Python 3 (ipykernel)",
   "language": "python",
   "name": "python3"
  },
  "language_info": {
   "codemirror_mode": {
    "name": "ipython",
    "version": 3
   },
   "file_extension": ".py",
   "mimetype": "text/x-python",
   "name": "python",
   "nbconvert_exporter": "python",
   "pygments_lexer": "ipython3",
   "version": "3.8.16"
  }
 },
 "nbformat": 4,
 "nbformat_minor": 5
}
