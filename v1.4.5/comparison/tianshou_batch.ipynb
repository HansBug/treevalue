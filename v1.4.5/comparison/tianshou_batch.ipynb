{
 "cells": [
  {
   "cell_type": "markdown",
   "id": "9d39d946",
   "metadata": {},
   "source": [
    "# Comparison Between TreeValue and Tianshou Batch"
   ]
  },
  {
   "cell_type": "markdown",
   "id": "3c6db2d4",
   "metadata": {},
   "source": [
    "In this section, we will take a look at the feature and performance of the [Tianshou Batch](https://github.com/thu-ml/tianshou) library, which is developed by Tsinghua Machine Learning Group."
   ]
  },
  {
   "cell_type": "markdown",
   "id": "069361b0",
   "metadata": {},
   "source": [
    "Before starting the comparison, let us define some thing."
   ]
  },
  {
   "cell_type": "code",
   "execution_count": 1,
   "id": "06fc8d26",
   "metadata": {
    "execution": {
     "iopub.execute_input": "2023-02-26T15:50:01.240122Z",
     "iopub.status.busy": "2023-02-26T15:50:01.239714Z",
     "iopub.status.idle": "2023-02-26T15:50:02.432604Z",
     "shell.execute_reply": "2023-02-26T15:50:02.431561Z"
    }
   },
   "outputs": [
    {
     "name": "stderr",
     "output_type": "stream",
     "text": [
      "/opt/hostedtoolcache/Python/3.8.16/x64/lib/python3.8/site-packages/tqdm/auto.py:22: TqdmWarning: IProgress not found. Please update jupyter and ipywidgets. See https://ipywidgets.readthedocs.io/en/stable/user_install.html\n",
      "  from .autonotebook import tqdm as notebook_tqdm\n"
     ]
    }
   ],
   "source": [
    "import torch \n",
    "\n",
    "_TREE_DATA_1 = {'a': 1, 'b': 2, 'x': {'c': 3, 'd': 4}}\n",
    "_TREE_DATA_2 = {\n",
    "    'a': torch.randn(2, 3), \n",
    "    'x': {\n",
    "        'c': torch.randn(3, 4)\n",
    "    },\n",
    "}\n",
    "_TREE_DATA_3 = {\n",
    "    'obs': torch.randn(4, 84, 84),\n",
    "    'action': torch.randint(0, 6, size=(1,)),\n",
    "    'reward': torch.rand(1),\n",
    "}"
   ]
  },
  {
   "cell_type": "markdown",
   "id": "83461b25",
   "metadata": {},
   "source": [
    "## Read and Write Operation"
   ]
  },
  {
   "cell_type": "markdown",
   "id": "067b3f73",
   "metadata": {},
   "source": [
    "Reading and writing are the two most common operations in the tree data structure based on the data model (TreeValue and Tianshou Batch both belong to this type), so this section will compare the reading and writing performance of these two libraries."
   ]
  },
  {
   "cell_type": "markdown",
   "id": "5d09a5b7",
   "metadata": {},
   "source": [
    "### TreeValue's Get and Set"
   ]
  },
  {
   "cell_type": "code",
   "execution_count": 2,
   "id": "9519c4bb",
   "metadata": {
    "execution": {
     "iopub.execute_input": "2023-02-26T15:50:02.437068Z",
     "iopub.status.busy": "2023-02-26T15:50:02.436732Z",
     "iopub.status.idle": "2023-02-26T15:50:02.811276Z",
     "shell.execute_reply": "2023-02-26T15:50:02.808999Z"
    }
   },
   "outputs": [],
   "source": [
    "from treevalue import FastTreeValue\n",
    "\n",
    "t = FastTreeValue(_TREE_DATA_2)"
   ]
  },
  {
   "cell_type": "code",
   "execution_count": 3,
   "id": "11c37677",
   "metadata": {
    "execution": {
     "iopub.execute_input": "2023-02-26T15:50:02.815375Z",
     "iopub.status.busy": "2023-02-26T15:50:02.814953Z",
     "iopub.status.idle": "2023-02-26T15:50:02.828952Z",
     "shell.execute_reply": "2023-02-26T15:50:02.827970Z"
    }
   },
   "outputs": [
    {
     "data": {
      "text/plain": [
       "<FastTreeValue 0x7f86b4b59430>\n",
       "├── 'a' --> tensor([[ 0.1991, -2.0661,  0.6654],\n",
       "│                   [-0.0267, -0.0546,  0.4306]])\n",
       "└── 'x' --> <FastTreeValue 0x7f86b4b59400>\n",
       "    └── 'c' --> tensor([[ 0.0750,  0.8875,  2.9655, -0.0261],\n",
       "                        [-0.7856, -1.4720, -1.2531,  0.0459],\n",
       "                        [-1.2467, -2.0849, -1.1003, -0.7238]])"
      ]
     },
     "execution_count": 3,
     "metadata": {},
     "output_type": "execute_result"
    }
   ],
   "source": [
    "t"
   ]
  },
  {
   "cell_type": "code",
   "execution_count": 4,
   "id": "fd70b0b9",
   "metadata": {
    "execution": {
     "iopub.execute_input": "2023-02-26T15:50:02.833014Z",
     "iopub.status.busy": "2023-02-26T15:50:02.832717Z",
     "iopub.status.idle": "2023-02-26T15:50:02.840755Z",
     "shell.execute_reply": "2023-02-26T15:50:02.839755Z"
    }
   },
   "outputs": [
    {
     "data": {
      "text/plain": [
       "tensor([[ 0.1991, -2.0661,  0.6654],\n",
       "        [-0.0267, -0.0546,  0.4306]])"
      ]
     },
     "execution_count": 4,
     "metadata": {},
     "output_type": "execute_result"
    }
   ],
   "source": [
    "t.a"
   ]
  },
  {
   "cell_type": "code",
   "execution_count": 5,
   "id": "c18197bd",
   "metadata": {
    "execution": {
     "iopub.execute_input": "2023-02-26T15:50:02.843994Z",
     "iopub.status.busy": "2023-02-26T15:50:02.843706Z",
     "iopub.status.idle": "2023-02-26T15:50:08.549123Z",
     "shell.execute_reply": "2023-02-26T15:50:08.547984Z"
    }
   },
   "outputs": [
    {
     "name": "stdout",
     "output_type": "stream",
     "text": [
      "70.2 ns ± 1.29 ns per loop (mean ± std. dev. of 7 runs, 10,000,000 loops each)\n"
     ]
    }
   ],
   "source": [
    "%timeit t.a"
   ]
  },
  {
   "cell_type": "code",
   "execution_count": 6,
   "id": "bd52f867",
   "metadata": {
    "execution": {
     "iopub.execute_input": "2023-02-26T15:50:08.552641Z",
     "iopub.status.busy": "2023-02-26T15:50:08.552291Z",
     "iopub.status.idle": "2023-02-26T15:50:08.561592Z",
     "shell.execute_reply": "2023-02-26T15:50:08.560627Z"
    }
   },
   "outputs": [
    {
     "data": {
      "text/plain": [
       "<FastTreeValue 0x7f86b4b59430>\n",
       "├── 'a' --> tensor([[ 0.2034, -0.0944, -1.2113],\n",
       "│                   [-1.0583,  0.2870, -0.6627]])\n",
       "└── 'x' --> <FastTreeValue 0x7f86b4b59400>\n",
       "    └── 'c' --> tensor([[ 0.0750,  0.8875,  2.9655, -0.0261],\n",
       "                        [-0.7856, -1.4720, -1.2531,  0.0459],\n",
       "                        [-1.2467, -2.0849, -1.1003, -0.7238]])"
      ]
     },
     "execution_count": 6,
     "metadata": {},
     "output_type": "execute_result"
    }
   ],
   "source": [
    "new_value = torch.randn(2, 3)\n",
    "t.a = new_value\n",
    "\n",
    "t"
   ]
  },
  {
   "cell_type": "code",
   "execution_count": 7,
   "id": "bbe04d1c",
   "metadata": {
    "execution": {
     "iopub.execute_input": "2023-02-26T15:50:08.565397Z",
     "iopub.status.busy": "2023-02-26T15:50:08.564894Z",
     "iopub.status.idle": "2023-02-26T15:50:14.965891Z",
     "shell.execute_reply": "2023-02-26T15:50:14.964589Z"
    }
   },
   "outputs": [
    {
     "name": "stdout",
     "output_type": "stream",
     "text": [
      "78.6 ns ± 1.32 ns per loop (mean ± std. dev. of 7 runs, 10,000,000 loops each)\n"
     ]
    }
   ],
   "source": [
    "%timeit t.a = new_value"
   ]
  },
  {
   "cell_type": "markdown",
   "id": "48c49731",
   "metadata": {},
   "source": [
    "### Tianshou Batch's Get and Set"
   ]
  },
  {
   "cell_type": "code",
   "execution_count": 8,
   "id": "f1bb14c1",
   "metadata": {
    "execution": {
     "iopub.execute_input": "2023-02-26T15:50:14.969671Z",
     "iopub.status.busy": "2023-02-26T15:50:14.969128Z",
     "iopub.status.idle": "2023-02-26T15:50:15.435463Z",
     "shell.execute_reply": "2023-02-26T15:50:15.434429Z"
    }
   },
   "outputs": [],
   "source": [
    "from tianshou.data import Batch\n",
    "\n",
    "b = Batch(**_TREE_DATA_2)"
   ]
  },
  {
   "cell_type": "code",
   "execution_count": 9,
   "id": "cb0777c3",
   "metadata": {
    "execution": {
     "iopub.execute_input": "2023-02-26T15:50:15.439470Z",
     "iopub.status.busy": "2023-02-26T15:50:15.439019Z",
     "iopub.status.idle": "2023-02-26T15:50:15.447793Z",
     "shell.execute_reply": "2023-02-26T15:50:15.446867Z"
    }
   },
   "outputs": [
    {
     "data": {
      "text/plain": [
       "Batch(\n",
       "    a: tensor([[ 0.1991, -2.0661,  0.6654],\n",
       "               [-0.0267, -0.0546,  0.4306]]),\n",
       "    x: Batch(\n",
       "           c: tensor([[ 0.0750,  0.8875,  2.9655, -0.0261],\n",
       "                      [-0.7856, -1.4720, -1.2531,  0.0459],\n",
       "                      [-1.2467, -2.0849, -1.1003, -0.7238]]),\n",
       "       ),\n",
       ")"
      ]
     },
     "execution_count": 9,
     "metadata": {},
     "output_type": "execute_result"
    }
   ],
   "source": [
    "b"
   ]
  },
  {
   "cell_type": "code",
   "execution_count": 10,
   "id": "43ef8ea3",
   "metadata": {
    "execution": {
     "iopub.execute_input": "2023-02-26T15:50:15.450815Z",
     "iopub.status.busy": "2023-02-26T15:50:15.450534Z",
     "iopub.status.idle": "2023-02-26T15:50:15.456721Z",
     "shell.execute_reply": "2023-02-26T15:50:15.455829Z"
    }
   },
   "outputs": [
    {
     "data": {
      "text/plain": [
       "tensor([[ 0.1991, -2.0661,  0.6654],\n",
       "        [-0.0267, -0.0546,  0.4306]])"
      ]
     },
     "execution_count": 10,
     "metadata": {},
     "output_type": "execute_result"
    }
   ],
   "source": [
    "b.a"
   ]
  },
  {
   "cell_type": "code",
   "execution_count": 11,
   "id": "b785ab72",
   "metadata": {
    "execution": {
     "iopub.execute_input": "2023-02-26T15:50:15.460185Z",
     "iopub.status.busy": "2023-02-26T15:50:15.459904Z",
     "iopub.status.idle": "2023-02-26T15:50:21.146552Z",
     "shell.execute_reply": "2023-02-26T15:50:21.145514Z"
    }
   },
   "outputs": [
    {
     "name": "stdout",
     "output_type": "stream",
     "text": [
      "70.3 ns ± 0.769 ns per loop (mean ± std. dev. of 7 runs, 10,000,000 loops each)\n"
     ]
    }
   ],
   "source": [
    "%timeit b.a"
   ]
  },
  {
   "cell_type": "code",
   "execution_count": 12,
   "id": "ad54dc69",
   "metadata": {
    "execution": {
     "iopub.execute_input": "2023-02-26T15:50:21.149883Z",
     "iopub.status.busy": "2023-02-26T15:50:21.149617Z",
     "iopub.status.idle": "2023-02-26T15:50:21.160276Z",
     "shell.execute_reply": "2023-02-26T15:50:21.159380Z"
    }
   },
   "outputs": [
    {
     "data": {
      "text/plain": [
       "Batch(\n",
       "    a: tensor([[ 0.4906,  0.9064,  0.8922],\n",
       "               [ 1.8619,  1.1418, -0.1930]]),\n",
       "    x: Batch(\n",
       "           c: tensor([[ 0.0750,  0.8875,  2.9655, -0.0261],\n",
       "                      [-0.7856, -1.4720, -1.2531,  0.0459],\n",
       "                      [-1.2467, -2.0849, -1.1003, -0.7238]]),\n",
       "       ),\n",
       ")"
      ]
     },
     "execution_count": 12,
     "metadata": {},
     "output_type": "execute_result"
    }
   ],
   "source": [
    "new_value = torch.randn(2, 3)\n",
    "b.a = new_value\n",
    "\n",
    "b"
   ]
  },
  {
   "cell_type": "code",
   "execution_count": 13,
   "id": "29b1d0bf",
   "metadata": {
    "execution": {
     "iopub.execute_input": "2023-02-26T15:50:21.163771Z",
     "iopub.status.busy": "2023-02-26T15:50:21.163511Z",
     "iopub.status.idle": "2023-02-26T15:50:26.242045Z",
     "shell.execute_reply": "2023-02-26T15:50:26.240881Z"
    }
   },
   "outputs": [
    {
     "name": "stdout",
     "output_type": "stream",
     "text": [
      "627 ns ± 10.8 ns per loop (mean ± std. dev. of 7 runs, 1,000,000 loops each)\n"
     ]
    }
   ],
   "source": [
    "%timeit b.a = new_value"
   ]
  },
  {
   "cell_type": "markdown",
   "id": "b61ad1d0",
   "metadata": {},
   "source": [
    "## Initialization"
   ]
  },
  {
   "cell_type": "markdown",
   "id": "d70f0d54",
   "metadata": {},
   "source": [
    "### TreeValue's Initialization"
   ]
  },
  {
   "cell_type": "code",
   "execution_count": 14,
   "id": "d32a679b",
   "metadata": {
    "execution": {
     "iopub.execute_input": "2023-02-26T15:50:26.245952Z",
     "iopub.status.busy": "2023-02-26T15:50:26.245526Z",
     "iopub.status.idle": "2023-02-26T15:50:34.561719Z",
     "shell.execute_reply": "2023-02-26T15:50:34.560653Z"
    }
   },
   "outputs": [
    {
     "name": "stdout",
     "output_type": "stream",
     "text": [
      "1.03 µs ± 17.1 ns per loop (mean ± std. dev. of 7 runs, 1,000,000 loops each)\n"
     ]
    }
   ],
   "source": [
    "%timeit FastTreeValue(_TREE_DATA_1)"
   ]
  },
  {
   "cell_type": "markdown",
   "id": "24f3707b",
   "metadata": {},
   "source": [
    "### Tianshou Batch's Initialization"
   ]
  },
  {
   "cell_type": "code",
   "execution_count": 15,
   "id": "ac3958df",
   "metadata": {
    "execution": {
     "iopub.execute_input": "2023-02-26T15:50:34.565710Z",
     "iopub.status.busy": "2023-02-26T15:50:34.565247Z",
     "iopub.status.idle": "2023-02-26T15:50:45.362086Z",
     "shell.execute_reply": "2023-02-26T15:50:45.360836Z"
    }
   },
   "outputs": [
    {
     "name": "stdout",
     "output_type": "stream",
     "text": [
      "13.3 µs ± 68.2 ns per loop (mean ± std. dev. of 7 runs, 100,000 loops each)\n"
     ]
    }
   ],
   "source": [
    "%timeit Batch(**_TREE_DATA_1)"
   ]
  },
  {
   "cell_type": "markdown",
   "id": "1ab82e2d",
   "metadata": {},
   "source": [
    "## Deep Copy Operation"
   ]
  },
  {
   "cell_type": "code",
   "execution_count": 16,
   "id": "210a9442",
   "metadata": {
    "execution": {
     "iopub.execute_input": "2023-02-26T15:50:45.366119Z",
     "iopub.status.busy": "2023-02-26T15:50:45.365581Z",
     "iopub.status.idle": "2023-02-26T15:50:45.370559Z",
     "shell.execute_reply": "2023-02-26T15:50:45.369595Z"
    }
   },
   "outputs": [],
   "source": [
    "import copy"
   ]
  },
  {
   "cell_type": "markdown",
   "id": "5a736274",
   "metadata": {},
   "source": [
    "### Deep Copy of TreeValue"
   ]
  },
  {
   "cell_type": "code",
   "execution_count": 17,
   "id": "f9bcadd6",
   "metadata": {
    "execution": {
     "iopub.execute_input": "2023-02-26T15:50:45.373731Z",
     "iopub.status.busy": "2023-02-26T15:50:45.373471Z",
     "iopub.status.idle": "2023-02-26T15:50:47.725761Z",
     "shell.execute_reply": "2023-02-26T15:50:47.724846Z"
    }
   },
   "outputs": [
    {
     "name": "stdout",
     "output_type": "stream",
     "text": [
      "289 µs ± 9.23 µs per loop (mean ± std. dev. of 7 runs, 1,000 loops each)\n"
     ]
    }
   ],
   "source": [
    "t3 = FastTreeValue(_TREE_DATA_3)\n",
    "%timeit copy.deepcopy(t3)"
   ]
  },
  {
   "cell_type": "markdown",
   "id": "bf8be7ea",
   "metadata": {},
   "source": [
    "### Deep Copy of Tianshou Batch"
   ]
  },
  {
   "cell_type": "code",
   "execution_count": 18,
   "id": "91998e6f",
   "metadata": {
    "execution": {
     "iopub.execute_input": "2023-02-26T15:50:47.729391Z",
     "iopub.status.busy": "2023-02-26T15:50:47.729094Z",
     "iopub.status.idle": "2023-02-26T15:50:49.889761Z",
     "shell.execute_reply": "2023-02-26T15:50:49.888381Z"
    }
   },
   "outputs": [
    {
     "name": "stdout",
     "output_type": "stream",
     "text": [
      "264 µs ± 7.7 µs per loop (mean ± std. dev. of 7 runs, 1,000 loops each)\n"
     ]
    }
   ],
   "source": [
    "b3 = Batch(**_TREE_DATA_3)\n",
    "%timeit copy.deepcopy(b3)"
   ]
  },
  {
   "cell_type": "markdown",
   "id": "223162fb",
   "metadata": {},
   "source": [
    "## Stack, Concat and Split Operation"
   ]
  },
  {
   "cell_type": "markdown",
   "id": "85fa4a73",
   "metadata": {},
   "source": [
    "### Performance of TreeValue"
   ]
  },
  {
   "cell_type": "code",
   "execution_count": 19,
   "id": "a0c2b697",
   "metadata": {
    "execution": {
     "iopub.execute_input": "2023-02-26T15:50:49.893389Z",
     "iopub.status.busy": "2023-02-26T15:50:49.893101Z",
     "iopub.status.idle": "2023-02-26T15:50:49.898525Z",
     "shell.execute_reply": "2023-02-26T15:50:49.896441Z"
    }
   },
   "outputs": [],
   "source": [
    "trees = [FastTreeValue(_TREE_DATA_2) for _ in range(8)]"
   ]
  },
  {
   "cell_type": "code",
   "execution_count": 20,
   "id": "017ea5a5",
   "metadata": {
    "execution": {
     "iopub.execute_input": "2023-02-26T15:50:49.901865Z",
     "iopub.status.busy": "2023-02-26T15:50:49.901571Z",
     "iopub.status.idle": "2023-02-26T15:50:49.911059Z",
     "shell.execute_reply": "2023-02-26T15:50:49.910082Z"
    }
   },
   "outputs": [
    {
     "data": {
      "text/plain": [
       "<FastTreeValue 0x7f85feea2d30>\n",
       "├── 'a' --> tensor([[[ 0.1991, -2.0661,  0.6654],\n",
       "│                    [-0.0267, -0.0546,  0.4306]],\n",
       "│           \n",
       "│                   [[ 0.1991, -2.0661,  0.6654],\n",
       "│                    [-0.0267, -0.0546,  0.4306]],\n",
       "│           \n",
       "│                   [[ 0.1991, -2.0661,  0.6654],\n",
       "│                    [-0.0267, -0.0546,  0.4306]],\n",
       "│           \n",
       "│                   [[ 0.1991, -2.0661,  0.6654],\n",
       "│                    [-0.0267, -0.0546,  0.4306]],\n",
       "│           \n",
       "│                   [[ 0.1991, -2.0661,  0.6654],\n",
       "│                    [-0.0267, -0.0546,  0.4306]],\n",
       "│           \n",
       "│                   [[ 0.1991, -2.0661,  0.6654],\n",
       "│                    [-0.0267, -0.0546,  0.4306]],\n",
       "│           \n",
       "│                   [[ 0.1991, -2.0661,  0.6654],\n",
       "│                    [-0.0267, -0.0546,  0.4306]],\n",
       "│           \n",
       "│                   [[ 0.1991, -2.0661,  0.6654],\n",
       "│                    [-0.0267, -0.0546,  0.4306]]])\n",
       "└── 'x' --> <FastTreeValue 0x7f85fef18490>\n",
       "    └── 'c' --> tensor([[[ 0.0750,  0.8875,  2.9655, -0.0261],\n",
       "                         [-0.7856, -1.4720, -1.2531,  0.0459],\n",
       "                         [-1.2467, -2.0849, -1.1003, -0.7238]],\n",
       "                \n",
       "                        [[ 0.0750,  0.8875,  2.9655, -0.0261],\n",
       "                         [-0.7856, -1.4720, -1.2531,  0.0459],\n",
       "                         [-1.2467, -2.0849, -1.1003, -0.7238]],\n",
       "                \n",
       "                        [[ 0.0750,  0.8875,  2.9655, -0.0261],\n",
       "                         [-0.7856, -1.4720, -1.2531,  0.0459],\n",
       "                         [-1.2467, -2.0849, -1.1003, -0.7238]],\n",
       "                \n",
       "                        [[ 0.0750,  0.8875,  2.9655, -0.0261],\n",
       "                         [-0.7856, -1.4720, -1.2531,  0.0459],\n",
       "                         [-1.2467, -2.0849, -1.1003, -0.7238]],\n",
       "                \n",
       "                        [[ 0.0750,  0.8875,  2.9655, -0.0261],\n",
       "                         [-0.7856, -1.4720, -1.2531,  0.0459],\n",
       "                         [-1.2467, -2.0849, -1.1003, -0.7238]],\n",
       "                \n",
       "                        [[ 0.0750,  0.8875,  2.9655, -0.0261],\n",
       "                         [-0.7856, -1.4720, -1.2531,  0.0459],\n",
       "                         [-1.2467, -2.0849, -1.1003, -0.7238]],\n",
       "                \n",
       "                        [[ 0.0750,  0.8875,  2.9655, -0.0261],\n",
       "                         [-0.7856, -1.4720, -1.2531,  0.0459],\n",
       "                         [-1.2467, -2.0849, -1.1003, -0.7238]],\n",
       "                \n",
       "                        [[ 0.0750,  0.8875,  2.9655, -0.0261],\n",
       "                         [-0.7856, -1.4720, -1.2531,  0.0459],\n",
       "                         [-1.2467, -2.0849, -1.1003, -0.7238]]])"
      ]
     },
     "execution_count": 20,
     "metadata": {},
     "output_type": "execute_result"
    }
   ],
   "source": [
    "t_stack = FastTreeValue.func(subside=True)(torch.stack)\n",
    "\n",
    "t_stack(trees)"
   ]
  },
  {
   "cell_type": "code",
   "execution_count": 21,
   "id": "f8b3f415",
   "metadata": {
    "execution": {
     "iopub.execute_input": "2023-02-26T15:50:49.914691Z",
     "iopub.status.busy": "2023-02-26T15:50:49.914388Z",
     "iopub.status.idle": "2023-02-26T15:50:53.642837Z",
     "shell.execute_reply": "2023-02-26T15:50:53.641827Z"
    }
   },
   "outputs": [
    {
     "name": "stdout",
     "output_type": "stream",
     "text": [
      "45.9 µs ± 726 ns per loop (mean ± std. dev. of 7 runs, 10,000 loops each)\n"
     ]
    }
   ],
   "source": [
    "%timeit t_stack(trees)"
   ]
  },
  {
   "cell_type": "code",
   "execution_count": 22,
   "id": "94b56771",
   "metadata": {
    "execution": {
     "iopub.execute_input": "2023-02-26T15:50:53.646770Z",
     "iopub.status.busy": "2023-02-26T15:50:53.645996Z",
     "iopub.status.idle": "2023-02-26T15:50:53.658097Z",
     "shell.execute_reply": "2023-02-26T15:50:53.657118Z"
    }
   },
   "outputs": [
    {
     "data": {
      "text/plain": [
       "<FastTreeValue 0x7f86b4b59b50>\n",
       "├── 'a' --> tensor([[ 0.1991, -2.0661,  0.6654],\n",
       "│                   [-0.0267, -0.0546,  0.4306],\n",
       "│                   [ 0.1991, -2.0661,  0.6654],\n",
       "│                   [-0.0267, -0.0546,  0.4306],\n",
       "│                   [ 0.1991, -2.0661,  0.6654],\n",
       "│                   [-0.0267, -0.0546,  0.4306],\n",
       "│                   [ 0.1991, -2.0661,  0.6654],\n",
       "│                   [-0.0267, -0.0546,  0.4306],\n",
       "│                   [ 0.1991, -2.0661,  0.6654],\n",
       "│                   [-0.0267, -0.0546,  0.4306],\n",
       "│                   [ 0.1991, -2.0661,  0.6654],\n",
       "│                   [-0.0267, -0.0546,  0.4306],\n",
       "│                   [ 0.1991, -2.0661,  0.6654],\n",
       "│                   [-0.0267, -0.0546,  0.4306],\n",
       "│                   [ 0.1991, -2.0661,  0.6654],\n",
       "│                   [-0.0267, -0.0546,  0.4306]])\n",
       "└── 'x' --> <FastTreeValue 0x7f86b4b59b80>\n",
       "    └── 'c' --> tensor([[ 0.0750,  0.8875,  2.9655, -0.0261],\n",
       "                        [-0.7856, -1.4720, -1.2531,  0.0459],\n",
       "                        [-1.2467, -2.0849, -1.1003, -0.7238],\n",
       "                        [ 0.0750,  0.8875,  2.9655, -0.0261],\n",
       "                        [-0.7856, -1.4720, -1.2531,  0.0459],\n",
       "                        [-1.2467, -2.0849, -1.1003, -0.7238],\n",
       "                        [ 0.0750,  0.8875,  2.9655, -0.0261],\n",
       "                        [-0.7856, -1.4720, -1.2531,  0.0459],\n",
       "                        [-1.2467, -2.0849, -1.1003, -0.7238],\n",
       "                        [ 0.0750,  0.8875,  2.9655, -0.0261],\n",
       "                        [-0.7856, -1.4720, -1.2531,  0.0459],\n",
       "                        [-1.2467, -2.0849, -1.1003, -0.7238],\n",
       "                        [ 0.0750,  0.8875,  2.9655, -0.0261],\n",
       "                        [-0.7856, -1.4720, -1.2531,  0.0459],\n",
       "                        [-1.2467, -2.0849, -1.1003, -0.7238],\n",
       "                        [ 0.0750,  0.8875,  2.9655, -0.0261],\n",
       "                        [-0.7856, -1.4720, -1.2531,  0.0459],\n",
       "                        [-1.2467, -2.0849, -1.1003, -0.7238],\n",
       "                        [ 0.0750,  0.8875,  2.9655, -0.0261],\n",
       "                        [-0.7856, -1.4720, -1.2531,  0.0459],\n",
       "                        [-1.2467, -2.0849, -1.1003, -0.7238],\n",
       "                        [ 0.0750,  0.8875,  2.9655, -0.0261],\n",
       "                        [-0.7856, -1.4720, -1.2531,  0.0459],\n",
       "                        [-1.2467, -2.0849, -1.1003, -0.7238]])"
      ]
     },
     "execution_count": 22,
     "metadata": {},
     "output_type": "execute_result"
    }
   ],
   "source": [
    "t_cat = FastTreeValue.func(subside=True)(torch.cat)\n",
    "\n",
    "t_cat(trees)"
   ]
  },
  {
   "cell_type": "code",
   "execution_count": 23,
   "id": "5e9c06a6",
   "metadata": {
    "execution": {
     "iopub.execute_input": "2023-02-26T15:50:53.661673Z",
     "iopub.status.busy": "2023-02-26T15:50:53.661382Z",
     "iopub.status.idle": "2023-02-26T15:50:57.149846Z",
     "shell.execute_reply": "2023-02-26T15:50:57.148800Z"
    }
   },
   "outputs": [
    {
     "name": "stdout",
     "output_type": "stream",
     "text": [
      "42.7 µs ± 481 ns per loop (mean ± std. dev. of 7 runs, 10,000 loops each)\n"
     ]
    }
   ],
   "source": [
    "%timeit t_cat(trees)"
   ]
  },
  {
   "cell_type": "code",
   "execution_count": 24,
   "id": "a3ab5c8f",
   "metadata": {
    "execution": {
     "iopub.execute_input": "2023-02-26T15:50:57.153504Z",
     "iopub.status.busy": "2023-02-26T15:50:57.153019Z",
     "iopub.status.idle": "2023-02-26T15:51:03.607888Z",
     "shell.execute_reply": "2023-02-26T15:51:03.606857Z"
    }
   },
   "outputs": [
    {
     "name": "stdout",
     "output_type": "stream",
     "text": [
      "79 µs ± 641 ns per loop (mean ± std. dev. of 7 runs, 10,000 loops each)\n"
     ]
    }
   ],
   "source": [
    "t_split = FastTreeValue.func(rise=True)(torch.split)\n",
    "tree = FastTreeValue({\n",
    "    'obs': torch.randn(8, 4, 84, 84),\n",
    "    'action': torch.randint(0, 6, size=(8, 1,)),\n",
    "    'reward': torch.rand(8, 1),\n",
    "})\n",
    "\n",
    "%timeit t_split(tree, 1)"
   ]
  },
  {
   "cell_type": "markdown",
   "id": "31c3ec0b",
   "metadata": {},
   "source": [
    "### Performance of Tianshou Batch"
   ]
  },
  {
   "cell_type": "code",
   "execution_count": 25,
   "id": "9ead828a",
   "metadata": {
    "execution": {
     "iopub.execute_input": "2023-02-26T15:51:03.611414Z",
     "iopub.status.busy": "2023-02-26T15:51:03.611112Z",
     "iopub.status.idle": "2023-02-26T15:51:03.622066Z",
     "shell.execute_reply": "2023-02-26T15:51:03.621120Z"
    }
   },
   "outputs": [
    {
     "data": {
      "text/plain": [
       "Batch(\n",
       "    x: Batch(\n",
       "           c: tensor([[[ 0.0750,  0.8875,  2.9655, -0.0261],\n",
       "                       [-0.7856, -1.4720, -1.2531,  0.0459],\n",
       "                       [-1.2467, -2.0849, -1.1003, -0.7238]],\n",
       "              \n",
       "                      [[ 0.0750,  0.8875,  2.9655, -0.0261],\n",
       "                       [-0.7856, -1.4720, -1.2531,  0.0459],\n",
       "                       [-1.2467, -2.0849, -1.1003, -0.7238]],\n",
       "              \n",
       "                      [[ 0.0750,  0.8875,  2.9655, -0.0261],\n",
       "                       [-0.7856, -1.4720, -1.2531,  0.0459],\n",
       "                       [-1.2467, -2.0849, -1.1003, -0.7238]],\n",
       "              \n",
       "                      [[ 0.0750,  0.8875,  2.9655, -0.0261],\n",
       "                       [-0.7856, -1.4720, -1.2531,  0.0459],\n",
       "                       [-1.2467, -2.0849, -1.1003, -0.7238]],\n",
       "              \n",
       "                      [[ 0.0750,  0.8875,  2.9655, -0.0261],\n",
       "                       [-0.7856, -1.4720, -1.2531,  0.0459],\n",
       "                       [-1.2467, -2.0849, -1.1003, -0.7238]],\n",
       "              \n",
       "                      [[ 0.0750,  0.8875,  2.9655, -0.0261],\n",
       "                       [-0.7856, -1.4720, -1.2531,  0.0459],\n",
       "                       [-1.2467, -2.0849, -1.1003, -0.7238]],\n",
       "              \n",
       "                      [[ 0.0750,  0.8875,  2.9655, -0.0261],\n",
       "                       [-0.7856, -1.4720, -1.2531,  0.0459],\n",
       "                       [-1.2467, -2.0849, -1.1003, -0.7238]],\n",
       "              \n",
       "                      [[ 0.0750,  0.8875,  2.9655, -0.0261],\n",
       "                       [-0.7856, -1.4720, -1.2531,  0.0459],\n",
       "                       [-1.2467, -2.0849, -1.1003, -0.7238]]]),\n",
       "       ),\n",
       "    a: tensor([[[ 0.1991, -2.0661,  0.6654],\n",
       "                [-0.0267, -0.0546,  0.4306]],\n",
       "       \n",
       "               [[ 0.1991, -2.0661,  0.6654],\n",
       "                [-0.0267, -0.0546,  0.4306]],\n",
       "       \n",
       "               [[ 0.1991, -2.0661,  0.6654],\n",
       "                [-0.0267, -0.0546,  0.4306]],\n",
       "       \n",
       "               [[ 0.1991, -2.0661,  0.6654],\n",
       "                [-0.0267, -0.0546,  0.4306]],\n",
       "       \n",
       "               [[ 0.1991, -2.0661,  0.6654],\n",
       "                [-0.0267, -0.0546,  0.4306]],\n",
       "       \n",
       "               [[ 0.1991, -2.0661,  0.6654],\n",
       "                [-0.0267, -0.0546,  0.4306]],\n",
       "       \n",
       "               [[ 0.1991, -2.0661,  0.6654],\n",
       "                [-0.0267, -0.0546,  0.4306]],\n",
       "       \n",
       "               [[ 0.1991, -2.0661,  0.6654],\n",
       "                [-0.0267, -0.0546,  0.4306]]]),\n",
       ")"
      ]
     },
     "execution_count": 25,
     "metadata": {},
     "output_type": "execute_result"
    }
   ],
   "source": [
    "batches = [Batch(**_TREE_DATA_2) for _ in range(8)]\n",
    "\n",
    "Batch.stack(batches)"
   ]
  },
  {
   "cell_type": "code",
   "execution_count": 26,
   "id": "ec9037a3",
   "metadata": {
    "execution": {
     "iopub.execute_input": "2023-02-26T15:51:03.625439Z",
     "iopub.status.busy": "2023-02-26T15:51:03.625161Z",
     "iopub.status.idle": "2023-02-26T15:51:12.189888Z",
     "shell.execute_reply": "2023-02-26T15:51:12.188843Z"
    }
   },
   "outputs": [
    {
     "name": "stdout",
     "output_type": "stream",
     "text": [
      "105 µs ± 1.44 µs per loop (mean ± std. dev. of 7 runs, 10,000 loops each)\n"
     ]
    }
   ],
   "source": [
    "%timeit Batch.stack(batches)"
   ]
  },
  {
   "cell_type": "code",
   "execution_count": 27,
   "id": "cb8ab77e",
   "metadata": {
    "execution": {
     "iopub.execute_input": "2023-02-26T15:51:12.193569Z",
     "iopub.status.busy": "2023-02-26T15:51:12.193083Z",
     "iopub.status.idle": "2023-02-26T15:51:12.203713Z",
     "shell.execute_reply": "2023-02-26T15:51:12.202716Z"
    }
   },
   "outputs": [
    {
     "data": {
      "text/plain": [
       "Batch(\n",
       "    x: Batch(\n",
       "           c: tensor([[ 0.0750,  0.8875,  2.9655, -0.0261],\n",
       "                      [-0.7856, -1.4720, -1.2531,  0.0459],\n",
       "                      [-1.2467, -2.0849, -1.1003, -0.7238],\n",
       "                      [ 0.0750,  0.8875,  2.9655, -0.0261],\n",
       "                      [-0.7856, -1.4720, -1.2531,  0.0459],\n",
       "                      [-1.2467, -2.0849, -1.1003, -0.7238],\n",
       "                      [ 0.0750,  0.8875,  2.9655, -0.0261],\n",
       "                      [-0.7856, -1.4720, -1.2531,  0.0459],\n",
       "                      [-1.2467, -2.0849, -1.1003, -0.7238],\n",
       "                      [ 0.0750,  0.8875,  2.9655, -0.0261],\n",
       "                      [-0.7856, -1.4720, -1.2531,  0.0459],\n",
       "                      [-1.2467, -2.0849, -1.1003, -0.7238],\n",
       "                      [ 0.0750,  0.8875,  2.9655, -0.0261],\n",
       "                      [-0.7856, -1.4720, -1.2531,  0.0459],\n",
       "                      [-1.2467, -2.0849, -1.1003, -0.7238],\n",
       "                      [ 0.0750,  0.8875,  2.9655, -0.0261],\n",
       "                      [-0.7856, -1.4720, -1.2531,  0.0459],\n",
       "                      [-1.2467, -2.0849, -1.1003, -0.7238],\n",
       "                      [ 0.0750,  0.8875,  2.9655, -0.0261],\n",
       "                      [-0.7856, -1.4720, -1.2531,  0.0459],\n",
       "                      [-1.2467, -2.0849, -1.1003, -0.7238],\n",
       "                      [ 0.0750,  0.8875,  2.9655, -0.0261],\n",
       "                      [-0.7856, -1.4720, -1.2531,  0.0459],\n",
       "                      [-1.2467, -2.0849, -1.1003, -0.7238]]),\n",
       "       ),\n",
       "    a: tensor([[ 0.1991, -2.0661,  0.6654],\n",
       "               [-0.0267, -0.0546,  0.4306],\n",
       "               [ 0.1991, -2.0661,  0.6654],\n",
       "               [-0.0267, -0.0546,  0.4306],\n",
       "               [ 0.1991, -2.0661,  0.6654],\n",
       "               [-0.0267, -0.0546,  0.4306],\n",
       "               [ 0.1991, -2.0661,  0.6654],\n",
       "               [-0.0267, -0.0546,  0.4306],\n",
       "               [ 0.1991, -2.0661,  0.6654],\n",
       "               [-0.0267, -0.0546,  0.4306],\n",
       "               [ 0.1991, -2.0661,  0.6654],\n",
       "               [-0.0267, -0.0546,  0.4306],\n",
       "               [ 0.1991, -2.0661,  0.6654],\n",
       "               [-0.0267, -0.0546,  0.4306],\n",
       "               [ 0.1991, -2.0661,  0.6654],\n",
       "               [-0.0267, -0.0546,  0.4306]]),\n",
       ")"
      ]
     },
     "execution_count": 27,
     "metadata": {},
     "output_type": "execute_result"
    }
   ],
   "source": [
    "Batch.cat(batches)"
   ]
  },
  {
   "cell_type": "code",
   "execution_count": 28,
   "id": "18dfb045",
   "metadata": {
    "execution": {
     "iopub.execute_input": "2023-02-26T15:51:12.207149Z",
     "iopub.status.busy": "2023-02-26T15:51:12.206664Z",
     "iopub.status.idle": "2023-02-26T15:51:27.624864Z",
     "shell.execute_reply": "2023-02-26T15:51:27.623591Z"
    }
   },
   "outputs": [
    {
     "name": "stdout",
     "output_type": "stream",
     "text": [
      "190 µs ± 1.67 µs per loop (mean ± std. dev. of 7 runs, 10,000 loops each)\n"
     ]
    }
   ],
   "source": [
    "%timeit Batch.cat(batches)"
   ]
  },
  {
   "cell_type": "code",
   "execution_count": 29,
   "id": "c6688e51",
   "metadata": {
    "execution": {
     "iopub.execute_input": "2023-02-26T15:51:27.628459Z",
     "iopub.status.busy": "2023-02-26T15:51:27.628123Z",
     "iopub.status.idle": "2023-02-26T15:51:32.402919Z",
     "shell.execute_reply": "2023-02-26T15:51:32.401749Z"
    }
   },
   "outputs": [
    {
     "name": "stdout",
     "output_type": "stream",
     "text": [
      "585 µs ± 16.7 µs per loop (mean ± std. dev. of 7 runs, 1,000 loops each)\n"
     ]
    }
   ],
   "source": [
    "batch = Batch({\n",
    "    'obs': torch.randn(8, 4, 84, 84),\n",
    "    'action': torch.randint(0, 6, size=(8, 1,)),\n",
    "    'reward': torch.rand(8, 1)}\n",
    ")\n",
    "\n",
    "%timeit list(Batch.split(batch, 1, shuffle=False, merge_last=True))"
   ]
  },
  {
   "cell_type": "code",
   "execution_count": null,
   "id": "2539fbd9",
   "metadata": {},
   "outputs": [],
   "source": []
  }
 ],
 "metadata": {
  "kernelspec": {
   "display_name": "Python 3 (ipykernel)",
   "language": "python",
   "name": "python3"
  },
  "language_info": {
   "codemirror_mode": {
    "name": "ipython",
    "version": 3
   },
   "file_extension": ".py",
   "mimetype": "text/x-python",
   "name": "python",
   "nbconvert_exporter": "python",
   "pygments_lexer": "ipython3",
   "version": "3.8.16"
  }
 },
 "nbformat": 4,
 "nbformat_minor": 5
}
