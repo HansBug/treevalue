{
 "cells": [
  {
   "cell_type": "markdown",
   "id": "9d39d946",
   "metadata": {},
   "source": [
    "# Comparison Between TreeValue and Tianshou Batch"
   ]
  },
  {
   "cell_type": "markdown",
   "id": "3c6db2d4",
   "metadata": {},
   "source": [
    "In this section, we will take a look at the feature and performance of the [Tianshou Batch](https://github.com/thu-ml/tianshou) library, which is developed by Tsinghua Machine Learning Group."
   ]
  },
  {
   "cell_type": "markdown",
   "id": "069361b0",
   "metadata": {},
   "source": [
    "Before starting the comparison, let us define some thing."
   ]
  },
  {
   "cell_type": "code",
   "execution_count": 1,
   "id": "06fc8d26",
   "metadata": {
    "execution": {
     "iopub.execute_input": "2023-02-27T14:11:06.378987Z",
     "iopub.status.busy": "2023-02-27T14:11:06.378433Z",
     "iopub.status.idle": "2023-02-27T14:11:07.290167Z",
     "shell.execute_reply": "2023-02-27T14:11:07.289446Z"
    }
   },
   "outputs": [
    {
     "name": "stderr",
     "output_type": "stream",
     "text": [
      "/opt/hostedtoolcache/Python/3.8.16/x64/lib/python3.8/site-packages/tqdm/auto.py:22: TqdmWarning: IProgress not found. Please update jupyter and ipywidgets. See https://ipywidgets.readthedocs.io/en/stable/user_install.html\n",
      "  from .autonotebook import tqdm as notebook_tqdm\n"
     ]
    }
   ],
   "source": [
    "import torch \n",
    "\n",
    "_TREE_DATA_1 = {'a': 1, 'b': 2, 'x': {'c': 3, 'd': 4}}\n",
    "_TREE_DATA_2 = {\n",
    "    'a': torch.randn(2, 3), \n",
    "    'x': {\n",
    "        'c': torch.randn(3, 4)\n",
    "    },\n",
    "}\n",
    "_TREE_DATA_3 = {\n",
    "    'obs': torch.randn(4, 84, 84),\n",
    "    'action': torch.randint(0, 6, size=(1,)),\n",
    "    'reward': torch.rand(1),\n",
    "}"
   ]
  },
  {
   "cell_type": "markdown",
   "id": "83461b25",
   "metadata": {},
   "source": [
    "## Read and Write Operation"
   ]
  },
  {
   "cell_type": "markdown",
   "id": "067b3f73",
   "metadata": {},
   "source": [
    "Reading and writing are the two most common operations in the tree data structure based on the data model (TreeValue and Tianshou Batch both belong to this type), so this section will compare the reading and writing performance of these two libraries."
   ]
  },
  {
   "cell_type": "markdown",
   "id": "5d09a5b7",
   "metadata": {},
   "source": [
    "### TreeValue's Get and Set"
   ]
  },
  {
   "cell_type": "code",
   "execution_count": 2,
   "id": "9519c4bb",
   "metadata": {
    "execution": {
     "iopub.execute_input": "2023-02-27T14:11:07.293716Z",
     "iopub.status.busy": "2023-02-27T14:11:07.293115Z",
     "iopub.status.idle": "2023-02-27T14:11:07.573168Z",
     "shell.execute_reply": "2023-02-27T14:11:07.572482Z"
    }
   },
   "outputs": [],
   "source": [
    "from treevalue import FastTreeValue\n",
    "\n",
    "t = FastTreeValue(_TREE_DATA_2)"
   ]
  },
  {
   "cell_type": "code",
   "execution_count": 3,
   "id": "11c37677",
   "metadata": {
    "execution": {
     "iopub.execute_input": "2023-02-27T14:11:07.576564Z",
     "iopub.status.busy": "2023-02-27T14:11:07.576036Z",
     "iopub.status.idle": "2023-02-27T14:11:07.585366Z",
     "shell.execute_reply": "2023-02-27T14:11:07.584779Z"
    }
   },
   "outputs": [
    {
     "data": {
      "text/plain": [
       "<FastTreeValue 0x7f94b038d130>\n",
       "├── 'a' --> tensor([[-0.8975,  1.0761,  0.8069],\n",
       "│                   [ 1.7547,  0.7596, -0.7669]])\n",
       "└── 'x' --> <FastTreeValue 0x7f94b031ab50>\n",
       "    └── 'c' --> tensor([[ 0.2738,  0.4156,  1.9978,  0.3955],\n",
       "                        [ 0.4768, -2.0624,  0.8400, -0.3789],\n",
       "                        [-0.1468, -0.7355, -0.4568,  0.0985]])"
      ]
     },
     "execution_count": 3,
     "metadata": {},
     "output_type": "execute_result"
    }
   ],
   "source": [
    "t"
   ]
  },
  {
   "cell_type": "code",
   "execution_count": 4,
   "id": "fd70b0b9",
   "metadata": {
    "execution": {
     "iopub.execute_input": "2023-02-27T14:11:07.587842Z",
     "iopub.status.busy": "2023-02-27T14:11:07.587498Z",
     "iopub.status.idle": "2023-02-27T14:11:07.592394Z",
     "shell.execute_reply": "2023-02-27T14:11:07.591790Z"
    }
   },
   "outputs": [
    {
     "data": {
      "text/plain": [
       "tensor([[-0.8975,  1.0761,  0.8069],\n",
       "        [ 1.7547,  0.7596, -0.7669]])"
      ]
     },
     "execution_count": 4,
     "metadata": {},
     "output_type": "execute_result"
    }
   ],
   "source": [
    "t.a"
   ]
  },
  {
   "cell_type": "code",
   "execution_count": 5,
   "id": "c18197bd",
   "metadata": {
    "execution": {
     "iopub.execute_input": "2023-02-27T14:11:07.595059Z",
     "iopub.status.busy": "2023-02-27T14:11:07.594492Z",
     "iopub.status.idle": "2023-02-27T14:11:12.341995Z",
     "shell.execute_reply": "2023-02-27T14:11:12.341265Z"
    }
   },
   "outputs": [
    {
     "name": "stdout",
     "output_type": "stream",
     "text": [
      "58.2 ns ± 0.0342 ns per loop (mean ± std. dev. of 7 runs, 10,000,000 loops each)\n"
     ]
    }
   ],
   "source": [
    "%timeit t.a"
   ]
  },
  {
   "cell_type": "code",
   "execution_count": 6,
   "id": "bd52f867",
   "metadata": {
    "execution": {
     "iopub.execute_input": "2023-02-27T14:11:12.345019Z",
     "iopub.status.busy": "2023-02-27T14:11:12.344663Z",
     "iopub.status.idle": "2023-02-27T14:11:12.351308Z",
     "shell.execute_reply": "2023-02-27T14:11:12.350723Z"
    }
   },
   "outputs": [
    {
     "data": {
      "text/plain": [
       "<FastTreeValue 0x7f94b038d130>\n",
       "├── 'a' --> tensor([[-0.7726,  2.2853,  0.0190],\n",
       "│                   [ 0.8829,  1.5787, -1.4346]])\n",
       "└── 'x' --> <FastTreeValue 0x7f94b031ab50>\n",
       "    └── 'c' --> tensor([[ 0.2738,  0.4156,  1.9978,  0.3955],\n",
       "                        [ 0.4768, -2.0624,  0.8400, -0.3789],\n",
       "                        [-0.1468, -0.7355, -0.4568,  0.0985]])"
      ]
     },
     "execution_count": 6,
     "metadata": {},
     "output_type": "execute_result"
    }
   ],
   "source": [
    "new_value = torch.randn(2, 3)\n",
    "t.a = new_value\n",
    "\n",
    "t"
   ]
  },
  {
   "cell_type": "code",
   "execution_count": 7,
   "id": "bbe04d1c",
   "metadata": {
    "execution": {
     "iopub.execute_input": "2023-02-27T14:11:12.353959Z",
     "iopub.status.busy": "2023-02-27T14:11:12.353606Z",
     "iopub.status.idle": "2023-02-27T14:11:17.431106Z",
     "shell.execute_reply": "2023-02-27T14:11:17.430442Z"
    }
   },
   "outputs": [
    {
     "name": "stdout",
     "output_type": "stream",
     "text": [
      "62.3 ns ± 0.0219 ns per loop (mean ± std. dev. of 7 runs, 10,000,000 loops each)\n"
     ]
    }
   ],
   "source": [
    "%timeit t.a = new_value"
   ]
  },
  {
   "cell_type": "markdown",
   "id": "48c49731",
   "metadata": {},
   "source": [
    "### Tianshou Batch's Get and Set"
   ]
  },
  {
   "cell_type": "code",
   "execution_count": 8,
   "id": "f1bb14c1",
   "metadata": {
    "execution": {
     "iopub.execute_input": "2023-02-27T14:11:17.433896Z",
     "iopub.status.busy": "2023-02-27T14:11:17.433545Z",
     "iopub.status.idle": "2023-02-27T14:11:17.763810Z",
     "shell.execute_reply": "2023-02-27T14:11:17.763131Z"
    }
   },
   "outputs": [],
   "source": [
    "from tianshou.data import Batch\n",
    "\n",
    "b = Batch(**_TREE_DATA_2)"
   ]
  },
  {
   "cell_type": "code",
   "execution_count": 9,
   "id": "cb0777c3",
   "metadata": {
    "execution": {
     "iopub.execute_input": "2023-02-27T14:11:17.766744Z",
     "iopub.status.busy": "2023-02-27T14:11:17.766297Z",
     "iopub.status.idle": "2023-02-27T14:11:17.771673Z",
     "shell.execute_reply": "2023-02-27T14:11:17.771042Z"
    }
   },
   "outputs": [
    {
     "data": {
      "text/plain": [
       "Batch(\n",
       "    a: tensor([[-0.8975,  1.0761,  0.8069],\n",
       "               [ 1.7547,  0.7596, -0.7669]]),\n",
       "    x: Batch(\n",
       "           c: tensor([[ 0.2738,  0.4156,  1.9978,  0.3955],\n",
       "                      [ 0.4768, -2.0624,  0.8400, -0.3789],\n",
       "                      [-0.1468, -0.7355, -0.4568,  0.0985]]),\n",
       "       ),\n",
       ")"
      ]
     },
     "execution_count": 9,
     "metadata": {},
     "output_type": "execute_result"
    }
   ],
   "source": [
    "b"
   ]
  },
  {
   "cell_type": "code",
   "execution_count": 10,
   "id": "43ef8ea3",
   "metadata": {
    "execution": {
     "iopub.execute_input": "2023-02-27T14:11:17.774335Z",
     "iopub.status.busy": "2023-02-27T14:11:17.773802Z",
     "iopub.status.idle": "2023-02-27T14:11:17.779068Z",
     "shell.execute_reply": "2023-02-27T14:11:17.778463Z"
    }
   },
   "outputs": [
    {
     "data": {
      "text/plain": [
       "tensor([[-0.8975,  1.0761,  0.8069],\n",
       "        [ 1.7547,  0.7596, -0.7669]])"
      ]
     },
     "execution_count": 10,
     "metadata": {},
     "output_type": "execute_result"
    }
   ],
   "source": [
    "b.a"
   ]
  },
  {
   "cell_type": "code",
   "execution_count": 11,
   "id": "b785ab72",
   "metadata": {
    "execution": {
     "iopub.execute_input": "2023-02-27T14:11:17.781687Z",
     "iopub.status.busy": "2023-02-27T14:11:17.781363Z",
     "iopub.status.idle": "2023-02-27T14:11:22.472204Z",
     "shell.execute_reply": "2023-02-27T14:11:22.471458Z"
    }
   },
   "outputs": [
    {
     "name": "stdout",
     "output_type": "stream",
     "text": [
      "58 ns ± 0.0198 ns per loop (mean ± std. dev. of 7 runs, 10,000,000 loops each)\n"
     ]
    }
   ],
   "source": [
    "%timeit b.a"
   ]
  },
  {
   "cell_type": "code",
   "execution_count": 12,
   "id": "ad54dc69",
   "metadata": {
    "execution": {
     "iopub.execute_input": "2023-02-27T14:11:22.475274Z",
     "iopub.status.busy": "2023-02-27T14:11:22.474914Z",
     "iopub.status.idle": "2023-02-27T14:11:22.481271Z",
     "shell.execute_reply": "2023-02-27T14:11:22.480685Z"
    }
   },
   "outputs": [
    {
     "data": {
      "text/plain": [
       "Batch(\n",
       "    a: tensor([[ 0.7665,  0.2960, -1.1857],\n",
       "               [ 0.7212, -1.0982,  0.1820]]),\n",
       "    x: Batch(\n",
       "           c: tensor([[ 0.2738,  0.4156,  1.9978,  0.3955],\n",
       "                      [ 0.4768, -2.0624,  0.8400, -0.3789],\n",
       "                      [-0.1468, -0.7355, -0.4568,  0.0985]]),\n",
       "       ),\n",
       ")"
      ]
     },
     "execution_count": 12,
     "metadata": {},
     "output_type": "execute_result"
    }
   ],
   "source": [
    "new_value = torch.randn(2, 3)\n",
    "b.a = new_value\n",
    "\n",
    "b"
   ]
  },
  {
   "cell_type": "code",
   "execution_count": 13,
   "id": "29b1d0bf",
   "metadata": {
    "execution": {
     "iopub.execute_input": "2023-02-27T14:11:22.483704Z",
     "iopub.status.busy": "2023-02-27T14:11:22.483392Z",
     "iopub.status.idle": "2023-02-27T14:11:26.406793Z",
     "shell.execute_reply": "2023-02-27T14:11:26.406114Z"
    }
   },
   "outputs": [
    {
     "name": "stdout",
     "output_type": "stream",
     "text": [
      "483 ns ± 0.747 ns per loop (mean ± std. dev. of 7 runs, 1,000,000 loops each)\n"
     ]
    }
   ],
   "source": [
    "%timeit b.a = new_value"
   ]
  },
  {
   "cell_type": "markdown",
   "id": "b61ad1d0",
   "metadata": {},
   "source": [
    "## Initialization"
   ]
  },
  {
   "cell_type": "markdown",
   "id": "d70f0d54",
   "metadata": {},
   "source": [
    "### TreeValue's Initialization"
   ]
  },
  {
   "cell_type": "code",
   "execution_count": 14,
   "id": "d32a679b",
   "metadata": {
    "execution": {
     "iopub.execute_input": "2023-02-27T14:11:26.410105Z",
     "iopub.status.busy": "2023-02-27T14:11:26.409524Z",
     "iopub.status.idle": "2023-02-27T14:11:33.816402Z",
     "shell.execute_reply": "2023-02-27T14:11:33.815767Z"
    }
   },
   "outputs": [
    {
     "name": "stdout",
     "output_type": "stream",
     "text": [
      "915 ns ± 6.96 ns per loop (mean ± std. dev. of 7 runs, 1,000,000 loops each)\n"
     ]
    }
   ],
   "source": [
    "%timeit FastTreeValue(_TREE_DATA_1)"
   ]
  },
  {
   "cell_type": "markdown",
   "id": "24f3707b",
   "metadata": {},
   "source": [
    "### Tianshou Batch's Initialization"
   ]
  },
  {
   "cell_type": "code",
   "execution_count": 15,
   "id": "ac3958df",
   "metadata": {
    "execution": {
     "iopub.execute_input": "2023-02-27T14:11:33.820414Z",
     "iopub.status.busy": "2023-02-27T14:11:33.819341Z",
     "iopub.status.idle": "2023-02-27T14:11:43.008672Z",
     "shell.execute_reply": "2023-02-27T14:11:43.007945Z"
    }
   },
   "outputs": [
    {
     "name": "stdout",
     "output_type": "stream",
     "text": [
      "11.3 µs ± 16.8 ns per loop (mean ± std. dev. of 7 runs, 100,000 loops each)\n"
     ]
    }
   ],
   "source": [
    "%timeit Batch(**_TREE_DATA_1)"
   ]
  },
  {
   "cell_type": "markdown",
   "id": "1ab82e2d",
   "metadata": {},
   "source": [
    "## Deep Copy Operation"
   ]
  },
  {
   "cell_type": "code",
   "execution_count": 16,
   "id": "210a9442",
   "metadata": {
    "execution": {
     "iopub.execute_input": "2023-02-27T14:11:43.011484Z",
     "iopub.status.busy": "2023-02-27T14:11:43.011041Z",
     "iopub.status.idle": "2023-02-27T14:11:43.014910Z",
     "shell.execute_reply": "2023-02-27T14:11:43.014317Z"
    }
   },
   "outputs": [],
   "source": [
    "import copy"
   ]
  },
  {
   "cell_type": "markdown",
   "id": "5a736274",
   "metadata": {},
   "source": [
    "### Deep Copy of TreeValue"
   ]
  },
  {
   "cell_type": "code",
   "execution_count": 17,
   "id": "f9bcadd6",
   "metadata": {
    "execution": {
     "iopub.execute_input": "2023-02-27T14:11:43.017289Z",
     "iopub.status.busy": "2023-02-27T14:11:43.016946Z",
     "iopub.status.idle": "2023-02-27T14:11:54.319343Z",
     "shell.execute_reply": "2023-02-27T14:11:54.318754Z"
    }
   },
   "outputs": [
    {
     "name": "stdout",
     "output_type": "stream",
     "text": [
      "139 µs ± 442 ns per loop (mean ± std. dev. of 7 runs, 10,000 loops each)\n"
     ]
    }
   ],
   "source": [
    "t3 = FastTreeValue(_TREE_DATA_3)\n",
    "%timeit copy.deepcopy(t3)"
   ]
  },
  {
   "cell_type": "markdown",
   "id": "bf8be7ea",
   "metadata": {},
   "source": [
    "### Deep Copy of Tianshou Batch"
   ]
  },
  {
   "cell_type": "code",
   "execution_count": 18,
   "id": "91998e6f",
   "metadata": {
    "execution": {
     "iopub.execute_input": "2023-02-27T14:11:54.323273Z",
     "iopub.status.busy": "2023-02-27T14:11:54.322162Z",
     "iopub.status.idle": "2023-02-27T14:12:05.783997Z",
     "shell.execute_reply": "2023-02-27T14:12:05.783419Z"
    }
   },
   "outputs": [
    {
     "name": "stdout",
     "output_type": "stream",
     "text": [
      "141 µs ± 1.87 µs per loop (mean ± std. dev. of 7 runs, 10,000 loops each)\n"
     ]
    }
   ],
   "source": [
    "b3 = Batch(**_TREE_DATA_3)\n",
    "%timeit copy.deepcopy(b3)"
   ]
  },
  {
   "cell_type": "markdown",
   "id": "223162fb",
   "metadata": {},
   "source": [
    "## Stack, Concat and Split Operation"
   ]
  },
  {
   "cell_type": "markdown",
   "id": "85fa4a73",
   "metadata": {},
   "source": [
    "### Performance of TreeValue"
   ]
  },
  {
   "cell_type": "code",
   "execution_count": 19,
   "id": "a0c2b697",
   "metadata": {
    "execution": {
     "iopub.execute_input": "2023-02-27T14:12:05.788050Z",
     "iopub.status.busy": "2023-02-27T14:12:05.787088Z",
     "iopub.status.idle": "2023-02-27T14:12:05.791366Z",
     "shell.execute_reply": "2023-02-27T14:12:05.790829Z"
    }
   },
   "outputs": [],
   "source": [
    "trees = [FastTreeValue(_TREE_DATA_2) for _ in range(8)]"
   ]
  },
  {
   "cell_type": "code",
   "execution_count": 20,
   "id": "017ea5a5",
   "metadata": {
    "execution": {
     "iopub.execute_input": "2023-02-27T14:12:05.794995Z",
     "iopub.status.busy": "2023-02-27T14:12:05.794092Z",
     "iopub.status.idle": "2023-02-27T14:12:05.802873Z",
     "shell.execute_reply": "2023-02-27T14:12:05.802347Z"
    }
   },
   "outputs": [
    {
     "data": {
      "text/plain": [
       "<FastTreeValue 0x7f94001ff880>\n",
       "├── 'a' --> tensor([[[-0.8975,  1.0761,  0.8069],\n",
       "│                    [ 1.7547,  0.7596, -0.7669]],\n",
       "│           \n",
       "│                   [[-0.8975,  1.0761,  0.8069],\n",
       "│                    [ 1.7547,  0.7596, -0.7669]],\n",
       "│           \n",
       "│                   [[-0.8975,  1.0761,  0.8069],\n",
       "│                    [ 1.7547,  0.7596, -0.7669]],\n",
       "│           \n",
       "│                   [[-0.8975,  1.0761,  0.8069],\n",
       "│                    [ 1.7547,  0.7596, -0.7669]],\n",
       "│           \n",
       "│                   [[-0.8975,  1.0761,  0.8069],\n",
       "│                    [ 1.7547,  0.7596, -0.7669]],\n",
       "│           \n",
       "│                   [[-0.8975,  1.0761,  0.8069],\n",
       "│                    [ 1.7547,  0.7596, -0.7669]],\n",
       "│           \n",
       "│                   [[-0.8975,  1.0761,  0.8069],\n",
       "│                    [ 1.7547,  0.7596, -0.7669]],\n",
       "│           \n",
       "│                   [[-0.8975,  1.0761,  0.8069],\n",
       "│                    [ 1.7547,  0.7596, -0.7669]]])\n",
       "└── 'x' --> <FastTreeValue 0x7f94b03140d0>\n",
       "    └── 'c' --> tensor([[[ 0.2738,  0.4156,  1.9978,  0.3955],\n",
       "                         [ 0.4768, -2.0624,  0.8400, -0.3789],\n",
       "                         [-0.1468, -0.7355, -0.4568,  0.0985]],\n",
       "                \n",
       "                        [[ 0.2738,  0.4156,  1.9978,  0.3955],\n",
       "                         [ 0.4768, -2.0624,  0.8400, -0.3789],\n",
       "                         [-0.1468, -0.7355, -0.4568,  0.0985]],\n",
       "                \n",
       "                        [[ 0.2738,  0.4156,  1.9978,  0.3955],\n",
       "                         [ 0.4768, -2.0624,  0.8400, -0.3789],\n",
       "                         [-0.1468, -0.7355, -0.4568,  0.0985]],\n",
       "                \n",
       "                        [[ 0.2738,  0.4156,  1.9978,  0.3955],\n",
       "                         [ 0.4768, -2.0624,  0.8400, -0.3789],\n",
       "                         [-0.1468, -0.7355, -0.4568,  0.0985]],\n",
       "                \n",
       "                        [[ 0.2738,  0.4156,  1.9978,  0.3955],\n",
       "                         [ 0.4768, -2.0624,  0.8400, -0.3789],\n",
       "                         [-0.1468, -0.7355, -0.4568,  0.0985]],\n",
       "                \n",
       "                        [[ 0.2738,  0.4156,  1.9978,  0.3955],\n",
       "                         [ 0.4768, -2.0624,  0.8400, -0.3789],\n",
       "                         [-0.1468, -0.7355, -0.4568,  0.0985]],\n",
       "                \n",
       "                        [[ 0.2738,  0.4156,  1.9978,  0.3955],\n",
       "                         [ 0.4768, -2.0624,  0.8400, -0.3789],\n",
       "                         [-0.1468, -0.7355, -0.4568,  0.0985]],\n",
       "                \n",
       "                        [[ 0.2738,  0.4156,  1.9978,  0.3955],\n",
       "                         [ 0.4768, -2.0624,  0.8400, -0.3789],\n",
       "                         [-0.1468, -0.7355, -0.4568,  0.0985]]])"
      ]
     },
     "execution_count": 20,
     "metadata": {},
     "output_type": "execute_result"
    }
   ],
   "source": [
    "t_stack = FastTreeValue.func(subside=True)(torch.stack)\n",
    "\n",
    "t_stack(trees)"
   ]
  },
  {
   "cell_type": "code",
   "execution_count": 21,
   "id": "f8b3f415",
   "metadata": {
    "execution": {
     "iopub.execute_input": "2023-02-27T14:12:05.805927Z",
     "iopub.status.busy": "2023-02-27T14:12:05.805503Z",
     "iopub.status.idle": "2023-02-27T14:12:08.387205Z",
     "shell.execute_reply": "2023-02-27T14:12:08.386443Z"
    }
   },
   "outputs": [
    {
     "name": "stdout",
     "output_type": "stream",
     "text": [
      "31.7 µs ± 74.8 ns per loop (mean ± std. dev. of 7 runs, 10,000 loops each)\n"
     ]
    }
   ],
   "source": [
    "%timeit t_stack(trees)"
   ]
  },
  {
   "cell_type": "code",
   "execution_count": 22,
   "id": "94b56771",
   "metadata": {
    "execution": {
     "iopub.execute_input": "2023-02-27T14:12:08.389923Z",
     "iopub.status.busy": "2023-02-27T14:12:08.389542Z",
     "iopub.status.idle": "2023-02-27T14:12:08.397573Z",
     "shell.execute_reply": "2023-02-27T14:12:08.396987Z"
    }
   },
   "outputs": [
    {
     "data": {
      "text/plain": [
       "<FastTreeValue 0x7f940acca160>\n",
       "├── 'a' --> tensor([[-0.8975,  1.0761,  0.8069],\n",
       "│                   [ 1.7547,  0.7596, -0.7669],\n",
       "│                   [-0.8975,  1.0761,  0.8069],\n",
       "│                   [ 1.7547,  0.7596, -0.7669],\n",
       "│                   [-0.8975,  1.0761,  0.8069],\n",
       "│                   [ 1.7547,  0.7596, -0.7669],\n",
       "│                   [-0.8975,  1.0761,  0.8069],\n",
       "│                   [ 1.7547,  0.7596, -0.7669],\n",
       "│                   [-0.8975,  1.0761,  0.8069],\n",
       "│                   [ 1.7547,  0.7596, -0.7669],\n",
       "│                   [-0.8975,  1.0761,  0.8069],\n",
       "│                   [ 1.7547,  0.7596, -0.7669],\n",
       "│                   [-0.8975,  1.0761,  0.8069],\n",
       "│                   [ 1.7547,  0.7596, -0.7669],\n",
       "│                   [-0.8975,  1.0761,  0.8069],\n",
       "│                   [ 1.7547,  0.7596, -0.7669]])\n",
       "└── 'x' --> <FastTreeValue 0x7f93f9bd66d0>\n",
       "    └── 'c' --> tensor([[ 0.2738,  0.4156,  1.9978,  0.3955],\n",
       "                        [ 0.4768, -2.0624,  0.8400, -0.3789],\n",
       "                        [-0.1468, -0.7355, -0.4568,  0.0985],\n",
       "                        [ 0.2738,  0.4156,  1.9978,  0.3955],\n",
       "                        [ 0.4768, -2.0624,  0.8400, -0.3789],\n",
       "                        [-0.1468, -0.7355, -0.4568,  0.0985],\n",
       "                        [ 0.2738,  0.4156,  1.9978,  0.3955],\n",
       "                        [ 0.4768, -2.0624,  0.8400, -0.3789],\n",
       "                        [-0.1468, -0.7355, -0.4568,  0.0985],\n",
       "                        [ 0.2738,  0.4156,  1.9978,  0.3955],\n",
       "                        [ 0.4768, -2.0624,  0.8400, -0.3789],\n",
       "                        [-0.1468, -0.7355, -0.4568,  0.0985],\n",
       "                        [ 0.2738,  0.4156,  1.9978,  0.3955],\n",
       "                        [ 0.4768, -2.0624,  0.8400, -0.3789],\n",
       "                        [-0.1468, -0.7355, -0.4568,  0.0985],\n",
       "                        [ 0.2738,  0.4156,  1.9978,  0.3955],\n",
       "                        [ 0.4768, -2.0624,  0.8400, -0.3789],\n",
       "                        [-0.1468, -0.7355, -0.4568,  0.0985],\n",
       "                        [ 0.2738,  0.4156,  1.9978,  0.3955],\n",
       "                        [ 0.4768, -2.0624,  0.8400, -0.3789],\n",
       "                        [-0.1468, -0.7355, -0.4568,  0.0985],\n",
       "                        [ 0.2738,  0.4156,  1.9978,  0.3955],\n",
       "                        [ 0.4768, -2.0624,  0.8400, -0.3789],\n",
       "                        [-0.1468, -0.7355, -0.4568,  0.0985]])"
      ]
     },
     "execution_count": 22,
     "metadata": {},
     "output_type": "execute_result"
    }
   ],
   "source": [
    "t_cat = FastTreeValue.func(subside=True)(torch.cat)\n",
    "\n",
    "t_cat(trees)"
   ]
  },
  {
   "cell_type": "code",
   "execution_count": 23,
   "id": "5e9c06a6",
   "metadata": {
    "execution": {
     "iopub.execute_input": "2023-02-27T14:12:08.399988Z",
     "iopub.status.busy": "2023-02-27T14:12:08.399652Z",
     "iopub.status.idle": "2023-02-27T14:12:10.814920Z",
     "shell.execute_reply": "2023-02-27T14:12:10.814193Z"
    }
   },
   "outputs": [
    {
     "name": "stdout",
     "output_type": "stream",
     "text": [
      "29.7 µs ± 39.3 ns per loop (mean ± std. dev. of 7 runs, 10,000 loops each)\n"
     ]
    }
   ],
   "source": [
    "%timeit t_cat(trees)"
   ]
  },
  {
   "cell_type": "code",
   "execution_count": 24,
   "id": "a3ab5c8f",
   "metadata": {
    "execution": {
     "iopub.execute_input": "2023-02-27T14:12:10.817969Z",
     "iopub.status.busy": "2023-02-27T14:12:10.817596Z",
     "iopub.status.idle": "2023-02-27T14:12:16.428043Z",
     "shell.execute_reply": "2023-02-27T14:12:16.427314Z"
    }
   },
   "outputs": [
    {
     "name": "stdout",
     "output_type": "stream",
     "text": [
      "69.3 µs ± 104 ns per loop (mean ± std. dev. of 7 runs, 10,000 loops each)\n"
     ]
    }
   ],
   "source": [
    "t_split = FastTreeValue.func(rise=True)(torch.split)\n",
    "tree = FastTreeValue({\n",
    "    'obs': torch.randn(8, 4, 84, 84),\n",
    "    'action': torch.randint(0, 6, size=(8, 1,)),\n",
    "    'reward': torch.rand(8, 1),\n",
    "})\n",
    "\n",
    "%timeit t_split(tree, 1)"
   ]
  },
  {
   "cell_type": "markdown",
   "id": "31c3ec0b",
   "metadata": {},
   "source": [
    "### Performance of Tianshou Batch"
   ]
  },
  {
   "cell_type": "code",
   "execution_count": 25,
   "id": "9ead828a",
   "metadata": {
    "execution": {
     "iopub.execute_input": "2023-02-27T14:12:16.430794Z",
     "iopub.status.busy": "2023-02-27T14:12:16.430452Z",
     "iopub.status.idle": "2023-02-27T14:12:16.438360Z",
     "shell.execute_reply": "2023-02-27T14:12:16.437756Z"
    }
   },
   "outputs": [
    {
     "data": {
      "text/plain": [
       "Batch(\n",
       "    x: Batch(\n",
       "           c: tensor([[[ 0.2738,  0.4156,  1.9978,  0.3955],\n",
       "                       [ 0.4768, -2.0624,  0.8400, -0.3789],\n",
       "                       [-0.1468, -0.7355, -0.4568,  0.0985]],\n",
       "              \n",
       "                      [[ 0.2738,  0.4156,  1.9978,  0.3955],\n",
       "                       [ 0.4768, -2.0624,  0.8400, -0.3789],\n",
       "                       [-0.1468, -0.7355, -0.4568,  0.0985]],\n",
       "              \n",
       "                      [[ 0.2738,  0.4156,  1.9978,  0.3955],\n",
       "                       [ 0.4768, -2.0624,  0.8400, -0.3789],\n",
       "                       [-0.1468, -0.7355, -0.4568,  0.0985]],\n",
       "              \n",
       "                      [[ 0.2738,  0.4156,  1.9978,  0.3955],\n",
       "                       [ 0.4768, -2.0624,  0.8400, -0.3789],\n",
       "                       [-0.1468, -0.7355, -0.4568,  0.0985]],\n",
       "              \n",
       "                      [[ 0.2738,  0.4156,  1.9978,  0.3955],\n",
       "                       [ 0.4768, -2.0624,  0.8400, -0.3789],\n",
       "                       [-0.1468, -0.7355, -0.4568,  0.0985]],\n",
       "              \n",
       "                      [[ 0.2738,  0.4156,  1.9978,  0.3955],\n",
       "                       [ 0.4768, -2.0624,  0.8400, -0.3789],\n",
       "                       [-0.1468, -0.7355, -0.4568,  0.0985]],\n",
       "              \n",
       "                      [[ 0.2738,  0.4156,  1.9978,  0.3955],\n",
       "                       [ 0.4768, -2.0624,  0.8400, -0.3789],\n",
       "                       [-0.1468, -0.7355, -0.4568,  0.0985]],\n",
       "              \n",
       "                      [[ 0.2738,  0.4156,  1.9978,  0.3955],\n",
       "                       [ 0.4768, -2.0624,  0.8400, -0.3789],\n",
       "                       [-0.1468, -0.7355, -0.4568,  0.0985]]]),\n",
       "       ),\n",
       "    a: tensor([[[-0.8975,  1.0761,  0.8069],\n",
       "                [ 1.7547,  0.7596, -0.7669]],\n",
       "       \n",
       "               [[-0.8975,  1.0761,  0.8069],\n",
       "                [ 1.7547,  0.7596, -0.7669]],\n",
       "       \n",
       "               [[-0.8975,  1.0761,  0.8069],\n",
       "                [ 1.7547,  0.7596, -0.7669]],\n",
       "       \n",
       "               [[-0.8975,  1.0761,  0.8069],\n",
       "                [ 1.7547,  0.7596, -0.7669]],\n",
       "       \n",
       "               [[-0.8975,  1.0761,  0.8069],\n",
       "                [ 1.7547,  0.7596, -0.7669]],\n",
       "       \n",
       "               [[-0.8975,  1.0761,  0.8069],\n",
       "                [ 1.7547,  0.7596, -0.7669]],\n",
       "       \n",
       "               [[-0.8975,  1.0761,  0.8069],\n",
       "                [ 1.7547,  0.7596, -0.7669]],\n",
       "       \n",
       "               [[-0.8975,  1.0761,  0.8069],\n",
       "                [ 1.7547,  0.7596, -0.7669]]]),\n",
       ")"
      ]
     },
     "execution_count": 25,
     "metadata": {},
     "output_type": "execute_result"
    }
   ],
   "source": [
    "batches = [Batch(**_TREE_DATA_2) for _ in range(8)]\n",
    "\n",
    "Batch.stack(batches)"
   ]
  },
  {
   "cell_type": "code",
   "execution_count": 26,
   "id": "ec9037a3",
   "metadata": {
    "execution": {
     "iopub.execute_input": "2023-02-27T14:12:16.441752Z",
     "iopub.status.busy": "2023-02-27T14:12:16.440751Z",
     "iopub.status.idle": "2023-02-27T14:12:22.761912Z",
     "shell.execute_reply": "2023-02-27T14:12:22.761241Z"
    }
   },
   "outputs": [
    {
     "name": "stdout",
     "output_type": "stream",
     "text": [
      "77.8 µs ± 218 ns per loop (mean ± std. dev. of 7 runs, 10,000 loops each)\n"
     ]
    }
   ],
   "source": [
    "%timeit Batch.stack(batches)"
   ]
  },
  {
   "cell_type": "code",
   "execution_count": 27,
   "id": "cb8ab77e",
   "metadata": {
    "execution": {
     "iopub.execute_input": "2023-02-27T14:12:22.764714Z",
     "iopub.status.busy": "2023-02-27T14:12:22.764352Z",
     "iopub.status.idle": "2023-02-27T14:12:22.771666Z",
     "shell.execute_reply": "2023-02-27T14:12:22.771094Z"
    }
   },
   "outputs": [
    {
     "data": {
      "text/plain": [
       "Batch(\n",
       "    x: Batch(\n",
       "           c: tensor([[ 0.2738,  0.4156,  1.9978,  0.3955],\n",
       "                      [ 0.4768, -2.0624,  0.8400, -0.3789],\n",
       "                      [-0.1468, -0.7355, -0.4568,  0.0985],\n",
       "                      [ 0.2738,  0.4156,  1.9978,  0.3955],\n",
       "                      [ 0.4768, -2.0624,  0.8400, -0.3789],\n",
       "                      [-0.1468, -0.7355, -0.4568,  0.0985],\n",
       "                      [ 0.2738,  0.4156,  1.9978,  0.3955],\n",
       "                      [ 0.4768, -2.0624,  0.8400, -0.3789],\n",
       "                      [-0.1468, -0.7355, -0.4568,  0.0985],\n",
       "                      [ 0.2738,  0.4156,  1.9978,  0.3955],\n",
       "                      [ 0.4768, -2.0624,  0.8400, -0.3789],\n",
       "                      [-0.1468, -0.7355, -0.4568,  0.0985],\n",
       "                      [ 0.2738,  0.4156,  1.9978,  0.3955],\n",
       "                      [ 0.4768, -2.0624,  0.8400, -0.3789],\n",
       "                      [-0.1468, -0.7355, -0.4568,  0.0985],\n",
       "                      [ 0.2738,  0.4156,  1.9978,  0.3955],\n",
       "                      [ 0.4768, -2.0624,  0.8400, -0.3789],\n",
       "                      [-0.1468, -0.7355, -0.4568,  0.0985],\n",
       "                      [ 0.2738,  0.4156,  1.9978,  0.3955],\n",
       "                      [ 0.4768, -2.0624,  0.8400, -0.3789],\n",
       "                      [-0.1468, -0.7355, -0.4568,  0.0985],\n",
       "                      [ 0.2738,  0.4156,  1.9978,  0.3955],\n",
       "                      [ 0.4768, -2.0624,  0.8400, -0.3789],\n",
       "                      [-0.1468, -0.7355, -0.4568,  0.0985]]),\n",
       "       ),\n",
       "    a: tensor([[-0.8975,  1.0761,  0.8069],\n",
       "               [ 1.7547,  0.7596, -0.7669],\n",
       "               [-0.8975,  1.0761,  0.8069],\n",
       "               [ 1.7547,  0.7596, -0.7669],\n",
       "               [-0.8975,  1.0761,  0.8069],\n",
       "               [ 1.7547,  0.7596, -0.7669],\n",
       "               [-0.8975,  1.0761,  0.8069],\n",
       "               [ 1.7547,  0.7596, -0.7669],\n",
       "               [-0.8975,  1.0761,  0.8069],\n",
       "               [ 1.7547,  0.7596, -0.7669],\n",
       "               [-0.8975,  1.0761,  0.8069],\n",
       "               [ 1.7547,  0.7596, -0.7669],\n",
       "               [-0.8975,  1.0761,  0.8069],\n",
       "               [ 1.7547,  0.7596, -0.7669],\n",
       "               [-0.8975,  1.0761,  0.8069],\n",
       "               [ 1.7547,  0.7596, -0.7669]]),\n",
       ")"
      ]
     },
     "execution_count": 27,
     "metadata": {},
     "output_type": "execute_result"
    }
   ],
   "source": [
    "Batch.cat(batches)"
   ]
  },
  {
   "cell_type": "code",
   "execution_count": 28,
   "id": "18dfb045",
   "metadata": {
    "execution": {
     "iopub.execute_input": "2023-02-27T14:12:22.774016Z",
     "iopub.status.busy": "2023-02-27T14:12:22.773667Z",
     "iopub.status.idle": "2023-02-27T14:12:34.352840Z",
     "shell.execute_reply": "2023-02-27T14:12:34.352101Z"
    }
   },
   "outputs": [
    {
     "name": "stdout",
     "output_type": "stream",
     "text": [
      "143 µs ± 356 ns per loop (mean ± std. dev. of 7 runs, 10,000 loops each)\n"
     ]
    }
   ],
   "source": [
    "%timeit Batch.cat(batches)"
   ]
  },
  {
   "cell_type": "code",
   "execution_count": 29,
   "id": "c6688e51",
   "metadata": {
    "execution": {
     "iopub.execute_input": "2023-02-27T14:12:34.356007Z",
     "iopub.status.busy": "2023-02-27T14:12:34.355511Z",
     "iopub.status.idle": "2023-02-27T14:12:36.855618Z",
     "shell.execute_reply": "2023-02-27T14:12:36.854924Z"
    }
   },
   "outputs": [
    {
     "name": "stdout",
     "output_type": "stream",
     "text": [
      "306 µs ± 725 ns per loop (mean ± std. dev. of 7 runs, 1,000 loops each)\n"
     ]
    }
   ],
   "source": [
    "batch = Batch({\n",
    "    'obs': torch.randn(8, 4, 84, 84),\n",
    "    'action': torch.randint(0, 6, size=(8, 1,)),\n",
    "    'reward': torch.rand(8, 1)}\n",
    ")\n",
    "\n",
    "%timeit list(Batch.split(batch, 1, shuffle=False, merge_last=True))"
   ]
  },
  {
   "cell_type": "code",
   "execution_count": null,
   "id": "2539fbd9",
   "metadata": {},
   "outputs": [],
   "source": []
  }
 ],
 "metadata": {
  "kernelspec": {
   "display_name": "Python 3 (ipykernel)",
   "language": "python",
   "name": "python3"
  },
  "language_info": {
   "codemirror_mode": {
    "name": "ipython",
    "version": 3
   },
   "file_extension": ".py",
   "mimetype": "text/x-python",
   "name": "python",
   "nbconvert_exporter": "python",
   "pygments_lexer": "ipython3",
   "version": "3.8.16"
  }
 },
 "nbformat": 4,
 "nbformat_minor": 5
}
