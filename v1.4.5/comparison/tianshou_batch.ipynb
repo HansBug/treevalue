{
 "cells": [
  {
   "cell_type": "markdown",
   "id": "9d39d946",
   "metadata": {},
   "source": [
    "# Comparison Between TreeValue and Tianshou Batch"
   ]
  },
  {
   "cell_type": "markdown",
   "id": "3c6db2d4",
   "metadata": {},
   "source": [
    "In this section, we will take a look at the feature and performance of the [Tianshou Batch](https://github.com/thu-ml/tianshou) library, which is developed by Tsinghua Machine Learning Group."
   ]
  },
  {
   "cell_type": "markdown",
   "id": "069361b0",
   "metadata": {},
   "source": [
    "Before starting the comparison, let us define some thing."
   ]
  },
  {
   "cell_type": "code",
   "execution_count": 1,
   "id": "06fc8d26",
   "metadata": {
    "execution": {
     "iopub.execute_input": "2023-02-27T09:39:54.866011Z",
     "iopub.status.busy": "2023-02-27T09:39:54.865635Z",
     "iopub.status.idle": "2023-02-27T09:39:56.286536Z",
     "shell.execute_reply": "2023-02-27T09:39:56.285263Z"
    }
   },
   "outputs": [
    {
     "name": "stderr",
     "output_type": "stream",
     "text": [
      "/opt/hostedtoolcache/Python/3.8.16/x64/lib/python3.8/site-packages/tqdm/auto.py:22: TqdmWarning: IProgress not found. Please update jupyter and ipywidgets. See https://ipywidgets.readthedocs.io/en/stable/user_install.html\n",
      "  from .autonotebook import tqdm as notebook_tqdm\n"
     ]
    }
   ],
   "source": [
    "import torch \n",
    "\n",
    "_TREE_DATA_1 = {'a': 1, 'b': 2, 'x': {'c': 3, 'd': 4}}\n",
    "_TREE_DATA_2 = {\n",
    "    'a': torch.randn(2, 3), \n",
    "    'x': {\n",
    "        'c': torch.randn(3, 4)\n",
    "    },\n",
    "}\n",
    "_TREE_DATA_3 = {\n",
    "    'obs': torch.randn(4, 84, 84),\n",
    "    'action': torch.randint(0, 6, size=(1,)),\n",
    "    'reward': torch.rand(1),\n",
    "}"
   ]
  },
  {
   "cell_type": "markdown",
   "id": "83461b25",
   "metadata": {},
   "source": [
    "## Read and Write Operation"
   ]
  },
  {
   "cell_type": "markdown",
   "id": "067b3f73",
   "metadata": {},
   "source": [
    "Reading and writing are the two most common operations in the tree data structure based on the data model (TreeValue and Tianshou Batch both belong to this type), so this section will compare the reading and writing performance of these two libraries."
   ]
  },
  {
   "cell_type": "markdown",
   "id": "5d09a5b7",
   "metadata": {},
   "source": [
    "### TreeValue's Get and Set"
   ]
  },
  {
   "cell_type": "code",
   "execution_count": 2,
   "id": "9519c4bb",
   "metadata": {
    "execution": {
     "iopub.execute_input": "2023-02-27T09:39:56.291840Z",
     "iopub.status.busy": "2023-02-27T09:39:56.291172Z",
     "iopub.status.idle": "2023-02-27T09:39:56.719012Z",
     "shell.execute_reply": "2023-02-27T09:39:56.716730Z"
    }
   },
   "outputs": [],
   "source": [
    "from treevalue import FastTreeValue\n",
    "\n",
    "t = FastTreeValue(_TREE_DATA_2)"
   ]
  },
  {
   "cell_type": "code",
   "execution_count": 3,
   "id": "11c37677",
   "metadata": {
    "execution": {
     "iopub.execute_input": "2023-02-27T09:39:56.723612Z",
     "iopub.status.busy": "2023-02-27T09:39:56.723126Z",
     "iopub.status.idle": "2023-02-27T09:39:56.737580Z",
     "shell.execute_reply": "2023-02-27T09:39:56.736468Z"
    }
   },
   "outputs": [
    {
     "data": {
      "text/plain": [
       "<FastTreeValue 0x7fa00c9daca0>\n",
       "├── 'a' --> tensor([[-0.8560,  1.7421, -0.5577],\n",
       "│                   [-0.1771, -0.2366,  0.0304]])\n",
       "└── 'x' --> <FastTreeValue 0x7fa00ca4fa30>\n",
       "    └── 'c' --> tensor([[ 0.6761,  1.2141, -0.8292,  1.2611],\n",
       "                        [-1.0266, -0.3765,  0.1702, -0.6013],\n",
       "                        [-0.5274, -0.4058, -0.6577, -0.4860]])"
      ]
     },
     "execution_count": 3,
     "metadata": {},
     "output_type": "execute_result"
    }
   ],
   "source": [
    "t"
   ]
  },
  {
   "cell_type": "code",
   "execution_count": 4,
   "id": "fd70b0b9",
   "metadata": {
    "execution": {
     "iopub.execute_input": "2023-02-27T09:39:56.741275Z",
     "iopub.status.busy": "2023-02-27T09:39:56.740954Z",
     "iopub.status.idle": "2023-02-27T09:39:56.749699Z",
     "shell.execute_reply": "2023-02-27T09:39:56.748638Z"
    }
   },
   "outputs": [
    {
     "data": {
      "text/plain": [
       "tensor([[-0.8560,  1.7421, -0.5577],\n",
       "        [-0.1771, -0.2366,  0.0304]])"
      ]
     },
     "execution_count": 4,
     "metadata": {},
     "output_type": "execute_result"
    }
   ],
   "source": [
    "t.a"
   ]
  },
  {
   "cell_type": "code",
   "execution_count": 5,
   "id": "c18197bd",
   "metadata": {
    "execution": {
     "iopub.execute_input": "2023-02-27T09:39:56.753680Z",
     "iopub.status.busy": "2023-02-27T09:39:56.753177Z",
     "iopub.status.idle": "2023-02-27T09:40:03.290607Z",
     "shell.execute_reply": "2023-02-27T09:40:03.288948Z"
    }
   },
   "outputs": [
    {
     "name": "stdout",
     "output_type": "stream",
     "text": [
      "79.8 ns ± 1.08 ns per loop (mean ± std. dev. of 7 runs, 10,000,000 loops each)\n"
     ]
    }
   ],
   "source": [
    "%timeit t.a"
   ]
  },
  {
   "cell_type": "code",
   "execution_count": 6,
   "id": "bd52f867",
   "metadata": {
    "execution": {
     "iopub.execute_input": "2023-02-27T09:40:03.294577Z",
     "iopub.status.busy": "2023-02-27T09:40:03.293957Z",
     "iopub.status.idle": "2023-02-27T09:40:03.304695Z",
     "shell.execute_reply": "2023-02-27T09:40:03.303764Z"
    }
   },
   "outputs": [
    {
     "data": {
      "text/plain": [
       "<FastTreeValue 0x7fa00c9daca0>\n",
       "├── 'a' --> tensor([[ 0.6718, -1.1520,  0.3386],\n",
       "│                   [-0.2785,  1.3329,  0.7346]])\n",
       "└── 'x' --> <FastTreeValue 0x7fa00ca4fa30>\n",
       "    └── 'c' --> tensor([[ 0.6761,  1.2141, -0.8292,  1.2611],\n",
       "                        [-1.0266, -0.3765,  0.1702, -0.6013],\n",
       "                        [-0.5274, -0.4058, -0.6577, -0.4860]])"
      ]
     },
     "execution_count": 6,
     "metadata": {},
     "output_type": "execute_result"
    }
   ],
   "source": [
    "new_value = torch.randn(2, 3)\n",
    "t.a = new_value\n",
    "\n",
    "t"
   ]
  },
  {
   "cell_type": "code",
   "execution_count": 7,
   "id": "bbe04d1c",
   "metadata": {
    "execution": {
     "iopub.execute_input": "2023-02-27T09:40:03.308655Z",
     "iopub.status.busy": "2023-02-27T09:40:03.308095Z",
     "iopub.status.idle": "2023-02-27T09:40:10.779821Z",
     "shell.execute_reply": "2023-02-27T09:40:10.778771Z"
    }
   },
   "outputs": [
    {
     "name": "stdout",
     "output_type": "stream",
     "text": [
      "91.2 ns ± 0.453 ns per loop (mean ± std. dev. of 7 runs, 10,000,000 loops each)\n"
     ]
    }
   ],
   "source": [
    "%timeit t.a = new_value"
   ]
  },
  {
   "cell_type": "markdown",
   "id": "48c49731",
   "metadata": {},
   "source": [
    "### Tianshou Batch's Get and Set"
   ]
  },
  {
   "cell_type": "code",
   "execution_count": 8,
   "id": "f1bb14c1",
   "metadata": {
    "execution": {
     "iopub.execute_input": "2023-02-27T09:40:10.783603Z",
     "iopub.status.busy": "2023-02-27T09:40:10.783296Z",
     "iopub.status.idle": "2023-02-27T09:40:11.285279Z",
     "shell.execute_reply": "2023-02-27T09:40:11.283958Z"
    }
   },
   "outputs": [],
   "source": [
    "from tianshou.data import Batch\n",
    "\n",
    "b = Batch(**_TREE_DATA_2)"
   ]
  },
  {
   "cell_type": "code",
   "execution_count": 9,
   "id": "cb0777c3",
   "metadata": {
    "execution": {
     "iopub.execute_input": "2023-02-27T09:40:11.289935Z",
     "iopub.status.busy": "2023-02-27T09:40:11.289477Z",
     "iopub.status.idle": "2023-02-27T09:40:11.297510Z",
     "shell.execute_reply": "2023-02-27T09:40:11.296462Z"
    }
   },
   "outputs": [
    {
     "data": {
      "text/plain": [
       "Batch(\n",
       "    a: tensor([[-0.8560,  1.7421, -0.5577],\n",
       "               [-0.1771, -0.2366,  0.0304]]),\n",
       "    x: Batch(\n",
       "           c: tensor([[ 0.6761,  1.2141, -0.8292,  1.2611],\n",
       "                      [-1.0266, -0.3765,  0.1702, -0.6013],\n",
       "                      [-0.5274, -0.4058, -0.6577, -0.4860]]),\n",
       "       ),\n",
       ")"
      ]
     },
     "execution_count": 9,
     "metadata": {},
     "output_type": "execute_result"
    }
   ],
   "source": [
    "b"
   ]
  },
  {
   "cell_type": "code",
   "execution_count": 10,
   "id": "43ef8ea3",
   "metadata": {
    "execution": {
     "iopub.execute_input": "2023-02-27T09:40:11.301298Z",
     "iopub.status.busy": "2023-02-27T09:40:11.300967Z",
     "iopub.status.idle": "2023-02-27T09:40:11.308077Z",
     "shell.execute_reply": "2023-02-27T09:40:11.307136Z"
    }
   },
   "outputs": [
    {
     "data": {
      "text/plain": [
       "tensor([[-0.8560,  1.7421, -0.5577],\n",
       "        [-0.1771, -0.2366,  0.0304]])"
      ]
     },
     "execution_count": 10,
     "metadata": {},
     "output_type": "execute_result"
    }
   ],
   "source": [
    "b.a"
   ]
  },
  {
   "cell_type": "code",
   "execution_count": 11,
   "id": "b785ab72",
   "metadata": {
    "execution": {
     "iopub.execute_input": "2023-02-27T09:40:11.311952Z",
     "iopub.status.busy": "2023-02-27T09:40:11.311627Z",
     "iopub.status.idle": "2023-02-27T09:40:17.504571Z",
     "shell.execute_reply": "2023-02-27T09:40:17.503205Z"
    }
   },
   "outputs": [
    {
     "name": "stdout",
     "output_type": "stream",
     "text": [
      "75.7 ns ± 0.862 ns per loop (mean ± std. dev. of 7 runs, 10,000,000 loops each)\n"
     ]
    }
   ],
   "source": [
    "%timeit b.a"
   ]
  },
  {
   "cell_type": "code",
   "execution_count": 12,
   "id": "ad54dc69",
   "metadata": {
    "execution": {
     "iopub.execute_input": "2023-02-27T09:40:17.510575Z",
     "iopub.status.busy": "2023-02-27T09:40:17.509837Z",
     "iopub.status.idle": "2023-02-27T09:40:17.520441Z",
     "shell.execute_reply": "2023-02-27T09:40:17.519311Z"
    }
   },
   "outputs": [
    {
     "data": {
      "text/plain": [
       "Batch(\n",
       "    a: tensor([[-1.3174, -1.2507,  2.1879],\n",
       "               [ 1.4969,  1.1963, -0.2558]]),\n",
       "    x: Batch(\n",
       "           c: tensor([[ 0.6761,  1.2141, -0.8292,  1.2611],\n",
       "                      [-1.0266, -0.3765,  0.1702, -0.6013],\n",
       "                      [-0.5274, -0.4058, -0.6577, -0.4860]]),\n",
       "       ),\n",
       ")"
      ]
     },
     "execution_count": 12,
     "metadata": {},
     "output_type": "execute_result"
    }
   ],
   "source": [
    "new_value = torch.randn(2, 3)\n",
    "b.a = new_value\n",
    "\n",
    "b"
   ]
  },
  {
   "cell_type": "code",
   "execution_count": 13,
   "id": "29b1d0bf",
   "metadata": {
    "execution": {
     "iopub.execute_input": "2023-02-27T09:40:17.524535Z",
     "iopub.status.busy": "2023-02-27T09:40:17.524021Z",
     "iopub.status.idle": "2023-02-27T09:40:22.921552Z",
     "shell.execute_reply": "2023-02-27T09:40:22.920393Z"
    }
   },
   "outputs": [
    {
     "name": "stdout",
     "output_type": "stream",
     "text": [
      "666 ns ± 15.5 ns per loop (mean ± std. dev. of 7 runs, 1,000,000 loops each)\n"
     ]
    }
   ],
   "source": [
    "%timeit b.a = new_value"
   ]
  },
  {
   "cell_type": "markdown",
   "id": "b61ad1d0",
   "metadata": {},
   "source": [
    "## Initialization"
   ]
  },
  {
   "cell_type": "markdown",
   "id": "d70f0d54",
   "metadata": {},
   "source": [
    "### TreeValue's Initialization"
   ]
  },
  {
   "cell_type": "code",
   "execution_count": 14,
   "id": "d32a679b",
   "metadata": {
    "execution": {
     "iopub.execute_input": "2023-02-27T09:40:22.925886Z",
     "iopub.status.busy": "2023-02-27T09:40:22.925175Z",
     "iopub.status.idle": "2023-02-27T09:40:32.990463Z",
     "shell.execute_reply": "2023-02-27T09:40:32.989337Z"
    }
   },
   "outputs": [
    {
     "name": "stdout",
     "output_type": "stream",
     "text": [
      "1.24 µs ± 16.4 ns per loop (mean ± std. dev. of 7 runs, 1,000,000 loops each)\n"
     ]
    }
   ],
   "source": [
    "%timeit FastTreeValue(_TREE_DATA_1)"
   ]
  },
  {
   "cell_type": "markdown",
   "id": "24f3707b",
   "metadata": {},
   "source": [
    "### Tianshou Batch's Initialization"
   ]
  },
  {
   "cell_type": "code",
   "execution_count": 15,
   "id": "ac3958df",
   "metadata": {
    "execution": {
     "iopub.execute_input": "2023-02-27T09:40:32.994881Z",
     "iopub.status.busy": "2023-02-27T09:40:32.994300Z",
     "iopub.status.idle": "2023-02-27T09:40:44.881778Z",
     "shell.execute_reply": "2023-02-27T09:40:44.880700Z"
    }
   },
   "outputs": [
    {
     "name": "stdout",
     "output_type": "stream",
     "text": [
      "14.6 µs ± 127 ns per loop (mean ± std. dev. of 7 runs, 100,000 loops each)\n"
     ]
    }
   ],
   "source": [
    "%timeit Batch(**_TREE_DATA_1)"
   ]
  },
  {
   "cell_type": "markdown",
   "id": "1ab82e2d",
   "metadata": {},
   "source": [
    "## Deep Copy Operation"
   ]
  },
  {
   "cell_type": "code",
   "execution_count": 16,
   "id": "210a9442",
   "metadata": {
    "execution": {
     "iopub.execute_input": "2023-02-27T09:40:44.886143Z",
     "iopub.status.busy": "2023-02-27T09:40:44.885511Z",
     "iopub.status.idle": "2023-02-27T09:40:44.891638Z",
     "shell.execute_reply": "2023-02-27T09:40:44.890344Z"
    }
   },
   "outputs": [],
   "source": [
    "import copy"
   ]
  },
  {
   "cell_type": "markdown",
   "id": "5a736274",
   "metadata": {},
   "source": [
    "### Deep Copy of TreeValue"
   ]
  },
  {
   "cell_type": "code",
   "execution_count": 17,
   "id": "f9bcadd6",
   "metadata": {
    "execution": {
     "iopub.execute_input": "2023-02-27T09:40:44.895765Z",
     "iopub.status.busy": "2023-02-27T09:40:44.895407Z",
     "iopub.status.idle": "2023-02-27T09:40:47.154161Z",
     "shell.execute_reply": "2023-02-27T09:40:47.152692Z"
    }
   },
   "outputs": [
    {
     "name": "stdout",
     "output_type": "stream",
     "text": [
      "276 µs ± 9.15 µs per loop (mean ± std. dev. of 7 runs, 1,000 loops each)\n"
     ]
    }
   ],
   "source": [
    "t3 = FastTreeValue(_TREE_DATA_3)\n",
    "%timeit copy.deepcopy(t3)"
   ]
  },
  {
   "cell_type": "markdown",
   "id": "bf8be7ea",
   "metadata": {},
   "source": [
    "### Deep Copy of Tianshou Batch"
   ]
  },
  {
   "cell_type": "code",
   "execution_count": 18,
   "id": "91998e6f",
   "metadata": {
    "execution": {
     "iopub.execute_input": "2023-02-27T09:40:47.162238Z",
     "iopub.status.busy": "2023-02-27T09:40:47.161251Z",
     "iopub.status.idle": "2023-02-27T09:40:49.375553Z",
     "shell.execute_reply": "2023-02-27T09:40:49.374537Z"
    }
   },
   "outputs": [
    {
     "name": "stdout",
     "output_type": "stream",
     "text": [
      "265 µs ± 9.55 µs per loop (mean ± std. dev. of 7 runs, 1,000 loops each)\n"
     ]
    }
   ],
   "source": [
    "b3 = Batch(**_TREE_DATA_3)\n",
    "%timeit copy.deepcopy(b3)"
   ]
  },
  {
   "cell_type": "markdown",
   "id": "223162fb",
   "metadata": {},
   "source": [
    "## Stack, Concat and Split Operation"
   ]
  },
  {
   "cell_type": "markdown",
   "id": "85fa4a73",
   "metadata": {},
   "source": [
    "### Performance of TreeValue"
   ]
  },
  {
   "cell_type": "code",
   "execution_count": 19,
   "id": "a0c2b697",
   "metadata": {
    "execution": {
     "iopub.execute_input": "2023-02-27T09:40:49.380523Z",
     "iopub.status.busy": "2023-02-27T09:40:49.379521Z",
     "iopub.status.idle": "2023-02-27T09:40:49.384660Z",
     "shell.execute_reply": "2023-02-27T09:40:49.383643Z"
    }
   },
   "outputs": [],
   "source": [
    "trees = [FastTreeValue(_TREE_DATA_2) for _ in range(8)]"
   ]
  },
  {
   "cell_type": "code",
   "execution_count": 20,
   "id": "017ea5a5",
   "metadata": {
    "execution": {
     "iopub.execute_input": "2023-02-27T09:40:49.388490Z",
     "iopub.status.busy": "2023-02-27T09:40:49.387964Z",
     "iopub.status.idle": "2023-02-27T09:40:49.398826Z",
     "shell.execute_reply": "2023-02-27T09:40:49.397444Z"
    }
   },
   "outputs": [
    {
     "data": {
      "text/plain": [
       "<FastTreeValue 0x7f9f54c93f10>\n",
       "├── 'a' --> tensor([[[-0.8560,  1.7421, -0.5577],\n",
       "│                    [-0.1771, -0.2366,  0.0304]],\n",
       "│           \n",
       "│                   [[-0.8560,  1.7421, -0.5577],\n",
       "│                    [-0.1771, -0.2366,  0.0304]],\n",
       "│           \n",
       "│                   [[-0.8560,  1.7421, -0.5577],\n",
       "│                    [-0.1771, -0.2366,  0.0304]],\n",
       "│           \n",
       "│                   [[-0.8560,  1.7421, -0.5577],\n",
       "│                    [-0.1771, -0.2366,  0.0304]],\n",
       "│           \n",
       "│                   [[-0.8560,  1.7421, -0.5577],\n",
       "│                    [-0.1771, -0.2366,  0.0304]],\n",
       "│           \n",
       "│                   [[-0.8560,  1.7421, -0.5577],\n",
       "│                    [-0.1771, -0.2366,  0.0304]],\n",
       "│           \n",
       "│                   [[-0.8560,  1.7421, -0.5577],\n",
       "│                    [-0.1771, -0.2366,  0.0304]],\n",
       "│           \n",
       "│                   [[-0.8560,  1.7421, -0.5577],\n",
       "│                    [-0.1771, -0.2366,  0.0304]]])\n",
       "└── 'x' --> <FastTreeValue 0x7f9f54c93a60>\n",
       "    └── 'c' --> tensor([[[ 0.6761,  1.2141, -0.8292,  1.2611],\n",
       "                         [-1.0266, -0.3765,  0.1702, -0.6013],\n",
       "                         [-0.5274, -0.4058, -0.6577, -0.4860]],\n",
       "                \n",
       "                        [[ 0.6761,  1.2141, -0.8292,  1.2611],\n",
       "                         [-1.0266, -0.3765,  0.1702, -0.6013],\n",
       "                         [-0.5274, -0.4058, -0.6577, -0.4860]],\n",
       "                \n",
       "                        [[ 0.6761,  1.2141, -0.8292,  1.2611],\n",
       "                         [-1.0266, -0.3765,  0.1702, -0.6013],\n",
       "                         [-0.5274, -0.4058, -0.6577, -0.4860]],\n",
       "                \n",
       "                        [[ 0.6761,  1.2141, -0.8292,  1.2611],\n",
       "                         [-1.0266, -0.3765,  0.1702, -0.6013],\n",
       "                         [-0.5274, -0.4058, -0.6577, -0.4860]],\n",
       "                \n",
       "                        [[ 0.6761,  1.2141, -0.8292,  1.2611],\n",
       "                         [-1.0266, -0.3765,  0.1702, -0.6013],\n",
       "                         [-0.5274, -0.4058, -0.6577, -0.4860]],\n",
       "                \n",
       "                        [[ 0.6761,  1.2141, -0.8292,  1.2611],\n",
       "                         [-1.0266, -0.3765,  0.1702, -0.6013],\n",
       "                         [-0.5274, -0.4058, -0.6577, -0.4860]],\n",
       "                \n",
       "                        [[ 0.6761,  1.2141, -0.8292,  1.2611],\n",
       "                         [-1.0266, -0.3765,  0.1702, -0.6013],\n",
       "                         [-0.5274, -0.4058, -0.6577, -0.4860]],\n",
       "                \n",
       "                        [[ 0.6761,  1.2141, -0.8292,  1.2611],\n",
       "                         [-1.0266, -0.3765,  0.1702, -0.6013],\n",
       "                         [-0.5274, -0.4058, -0.6577, -0.4860]]])"
      ]
     },
     "execution_count": 20,
     "metadata": {},
     "output_type": "execute_result"
    }
   ],
   "source": [
    "t_stack = FastTreeValue.func(subside=True)(torch.stack)\n",
    "\n",
    "t_stack(trees)"
   ]
  },
  {
   "cell_type": "code",
   "execution_count": 21,
   "id": "f8b3f415",
   "metadata": {
    "execution": {
     "iopub.execute_input": "2023-02-27T09:40:49.404178Z",
     "iopub.status.busy": "2023-02-27T09:40:49.403841Z",
     "iopub.status.idle": "2023-02-27T09:40:53.367077Z",
     "shell.execute_reply": "2023-02-27T09:40:53.365871Z"
    }
   },
   "outputs": [
    {
     "name": "stdout",
     "output_type": "stream",
     "text": [
      "48.9 µs ± 1.25 µs per loop (mean ± std. dev. of 7 runs, 10,000 loops each)\n"
     ]
    }
   ],
   "source": [
    "%timeit t_stack(trees)"
   ]
  },
  {
   "cell_type": "code",
   "execution_count": 22,
   "id": "94b56771",
   "metadata": {
    "execution": {
     "iopub.execute_input": "2023-02-27T09:40:53.371596Z",
     "iopub.status.busy": "2023-02-27T09:40:53.371245Z",
     "iopub.status.idle": "2023-02-27T09:40:53.382500Z",
     "shell.execute_reply": "2023-02-27T09:40:53.381501Z"
    }
   },
   "outputs": [
    {
     "data": {
      "text/plain": [
       "<FastTreeValue 0x7f9f54c93b80>\n",
       "├── 'a' --> tensor([[-0.8560,  1.7421, -0.5577],\n",
       "│                   [-0.1771, -0.2366,  0.0304],\n",
       "│                   [-0.8560,  1.7421, -0.5577],\n",
       "│                   [-0.1771, -0.2366,  0.0304],\n",
       "│                   [-0.8560,  1.7421, -0.5577],\n",
       "│                   [-0.1771, -0.2366,  0.0304],\n",
       "│                   [-0.8560,  1.7421, -0.5577],\n",
       "│                   [-0.1771, -0.2366,  0.0304],\n",
       "│                   [-0.8560,  1.7421, -0.5577],\n",
       "│                   [-0.1771, -0.2366,  0.0304],\n",
       "│                   [-0.8560,  1.7421, -0.5577],\n",
       "│                   [-0.1771, -0.2366,  0.0304],\n",
       "│                   [-0.8560,  1.7421, -0.5577],\n",
       "│                   [-0.1771, -0.2366,  0.0304],\n",
       "│                   [-0.8560,  1.7421, -0.5577],\n",
       "│                   [-0.1771, -0.2366,  0.0304]])\n",
       "└── 'x' --> <FastTreeValue 0x7f9f54ca20a0>\n",
       "    └── 'c' --> tensor([[ 0.6761,  1.2141, -0.8292,  1.2611],\n",
       "                        [-1.0266, -0.3765,  0.1702, -0.6013],\n",
       "                        [-0.5274, -0.4058, -0.6577, -0.4860],\n",
       "                        [ 0.6761,  1.2141, -0.8292,  1.2611],\n",
       "                        [-1.0266, -0.3765,  0.1702, -0.6013],\n",
       "                        [-0.5274, -0.4058, -0.6577, -0.4860],\n",
       "                        [ 0.6761,  1.2141, -0.8292,  1.2611],\n",
       "                        [-1.0266, -0.3765,  0.1702, -0.6013],\n",
       "                        [-0.5274, -0.4058, -0.6577, -0.4860],\n",
       "                        [ 0.6761,  1.2141, -0.8292,  1.2611],\n",
       "                        [-1.0266, -0.3765,  0.1702, -0.6013],\n",
       "                        [-0.5274, -0.4058, -0.6577, -0.4860],\n",
       "                        [ 0.6761,  1.2141, -0.8292,  1.2611],\n",
       "                        [-1.0266, -0.3765,  0.1702, -0.6013],\n",
       "                        [-0.5274, -0.4058, -0.6577, -0.4860],\n",
       "                        [ 0.6761,  1.2141, -0.8292,  1.2611],\n",
       "                        [-1.0266, -0.3765,  0.1702, -0.6013],\n",
       "                        [-0.5274, -0.4058, -0.6577, -0.4860],\n",
       "                        [ 0.6761,  1.2141, -0.8292,  1.2611],\n",
       "                        [-1.0266, -0.3765,  0.1702, -0.6013],\n",
       "                        [-0.5274, -0.4058, -0.6577, -0.4860],\n",
       "                        [ 0.6761,  1.2141, -0.8292,  1.2611],\n",
       "                        [-1.0266, -0.3765,  0.1702, -0.6013],\n",
       "                        [-0.5274, -0.4058, -0.6577, -0.4860]])"
      ]
     },
     "execution_count": 22,
     "metadata": {},
     "output_type": "execute_result"
    }
   ],
   "source": [
    "t_cat = FastTreeValue.func(subside=True)(torch.cat)\n",
    "\n",
    "t_cat(trees)"
   ]
  },
  {
   "cell_type": "code",
   "execution_count": 23,
   "id": "5e9c06a6",
   "metadata": {
    "execution": {
     "iopub.execute_input": "2023-02-27T09:40:53.386522Z",
     "iopub.status.busy": "2023-02-27T09:40:53.386186Z",
     "iopub.status.idle": "2023-02-27T09:40:57.004882Z",
     "shell.execute_reply": "2023-02-27T09:40:57.003838Z"
    }
   },
   "outputs": [
    {
     "name": "stdout",
     "output_type": "stream",
     "text": [
      "44.4 µs ± 665 ns per loop (mean ± std. dev. of 7 runs, 10,000 loops each)\n"
     ]
    }
   ],
   "source": [
    "%timeit t_cat(trees)"
   ]
  },
  {
   "cell_type": "code",
   "execution_count": 24,
   "id": "a3ab5c8f",
   "metadata": {
    "execution": {
     "iopub.execute_input": "2023-02-27T09:40:57.010478Z",
     "iopub.status.busy": "2023-02-27T09:40:57.008591Z",
     "iopub.status.idle": "2023-02-27T09:41:03.719491Z",
     "shell.execute_reply": "2023-02-27T09:41:03.718443Z"
    }
   },
   "outputs": [
    {
     "name": "stdout",
     "output_type": "stream",
     "text": [
      "82 µs ± 761 ns per loop (mean ± std. dev. of 7 runs, 10,000 loops each)\n"
     ]
    }
   ],
   "source": [
    "t_split = FastTreeValue.func(rise=True)(torch.split)\n",
    "tree = FastTreeValue({\n",
    "    'obs': torch.randn(8, 4, 84, 84),\n",
    "    'action': torch.randint(0, 6, size=(8, 1,)),\n",
    "    'reward': torch.rand(8, 1),\n",
    "})\n",
    "\n",
    "%timeit t_split(tree, 1)"
   ]
  },
  {
   "cell_type": "markdown",
   "id": "31c3ec0b",
   "metadata": {},
   "source": [
    "### Performance of Tianshou Batch"
   ]
  },
  {
   "cell_type": "code",
   "execution_count": 25,
   "id": "9ead828a",
   "metadata": {
    "execution": {
     "iopub.execute_input": "2023-02-27T09:41:03.723539Z",
     "iopub.status.busy": "2023-02-27T09:41:03.723188Z",
     "iopub.status.idle": "2023-02-27T09:41:03.738085Z",
     "shell.execute_reply": "2023-02-27T09:41:03.735323Z"
    }
   },
   "outputs": [
    {
     "data": {
      "text/plain": [
       "Batch(\n",
       "    a: tensor([[[-0.8560,  1.7421, -0.5577],\n",
       "                [-0.1771, -0.2366,  0.0304]],\n",
       "       \n",
       "               [[-0.8560,  1.7421, -0.5577],\n",
       "                [-0.1771, -0.2366,  0.0304]],\n",
       "       \n",
       "               [[-0.8560,  1.7421, -0.5577],\n",
       "                [-0.1771, -0.2366,  0.0304]],\n",
       "       \n",
       "               [[-0.8560,  1.7421, -0.5577],\n",
       "                [-0.1771, -0.2366,  0.0304]],\n",
       "       \n",
       "               [[-0.8560,  1.7421, -0.5577],\n",
       "                [-0.1771, -0.2366,  0.0304]],\n",
       "       \n",
       "               [[-0.8560,  1.7421, -0.5577],\n",
       "                [-0.1771, -0.2366,  0.0304]],\n",
       "       \n",
       "               [[-0.8560,  1.7421, -0.5577],\n",
       "                [-0.1771, -0.2366,  0.0304]],\n",
       "       \n",
       "               [[-0.8560,  1.7421, -0.5577],\n",
       "                [-0.1771, -0.2366,  0.0304]]]),\n",
       "    x: Batch(\n",
       "           c: tensor([[[ 0.6761,  1.2141, -0.8292,  1.2611],\n",
       "                       [-1.0266, -0.3765,  0.1702, -0.6013],\n",
       "                       [-0.5274, -0.4058, -0.6577, -0.4860]],\n",
       "              \n",
       "                      [[ 0.6761,  1.2141, -0.8292,  1.2611],\n",
       "                       [-1.0266, -0.3765,  0.1702, -0.6013],\n",
       "                       [-0.5274, -0.4058, -0.6577, -0.4860]],\n",
       "              \n",
       "                      [[ 0.6761,  1.2141, -0.8292,  1.2611],\n",
       "                       [-1.0266, -0.3765,  0.1702, -0.6013],\n",
       "                       [-0.5274, -0.4058, -0.6577, -0.4860]],\n",
       "              \n",
       "                      [[ 0.6761,  1.2141, -0.8292,  1.2611],\n",
       "                       [-1.0266, -0.3765,  0.1702, -0.6013],\n",
       "                       [-0.5274, -0.4058, -0.6577, -0.4860]],\n",
       "              \n",
       "                      [[ 0.6761,  1.2141, -0.8292,  1.2611],\n",
       "                       [-1.0266, -0.3765,  0.1702, -0.6013],\n",
       "                       [-0.5274, -0.4058, -0.6577, -0.4860]],\n",
       "              \n",
       "                      [[ 0.6761,  1.2141, -0.8292,  1.2611],\n",
       "                       [-1.0266, -0.3765,  0.1702, -0.6013],\n",
       "                       [-0.5274, -0.4058, -0.6577, -0.4860]],\n",
       "              \n",
       "                      [[ 0.6761,  1.2141, -0.8292,  1.2611],\n",
       "                       [-1.0266, -0.3765,  0.1702, -0.6013],\n",
       "                       [-0.5274, -0.4058, -0.6577, -0.4860]],\n",
       "              \n",
       "                      [[ 0.6761,  1.2141, -0.8292,  1.2611],\n",
       "                       [-1.0266, -0.3765,  0.1702, -0.6013],\n",
       "                       [-0.5274, -0.4058, -0.6577, -0.4860]]]),\n",
       "       ),\n",
       ")"
      ]
     },
     "execution_count": 25,
     "metadata": {},
     "output_type": "execute_result"
    }
   ],
   "source": [
    "batches = [Batch(**_TREE_DATA_2) for _ in range(8)]\n",
    "\n",
    "Batch.stack(batches)"
   ]
  },
  {
   "cell_type": "code",
   "execution_count": 26,
   "id": "ec9037a3",
   "metadata": {
    "execution": {
     "iopub.execute_input": "2023-02-27T09:41:03.742550Z",
     "iopub.status.busy": "2023-02-27T09:41:03.742050Z",
     "iopub.status.idle": "2023-02-27T09:41:12.856549Z",
     "shell.execute_reply": "2023-02-27T09:41:12.855443Z"
    }
   },
   "outputs": [
    {
     "name": "stdout",
     "output_type": "stream",
     "text": [
      "112 µs ± 666 ns per loop (mean ± std. dev. of 7 runs, 10,000 loops each)\n"
     ]
    }
   ],
   "source": [
    "%timeit Batch.stack(batches)"
   ]
  },
  {
   "cell_type": "code",
   "execution_count": 27,
   "id": "cb8ab77e",
   "metadata": {
    "execution": {
     "iopub.execute_input": "2023-02-27T09:41:12.860948Z",
     "iopub.status.busy": "2023-02-27T09:41:12.860254Z",
     "iopub.status.idle": "2023-02-27T09:41:12.871519Z",
     "shell.execute_reply": "2023-02-27T09:41:12.870424Z"
    }
   },
   "outputs": [
    {
     "data": {
      "text/plain": [
       "Batch(\n",
       "    a: tensor([[-0.8560,  1.7421, -0.5577],\n",
       "               [-0.1771, -0.2366,  0.0304],\n",
       "               [-0.8560,  1.7421, -0.5577],\n",
       "               [-0.1771, -0.2366,  0.0304],\n",
       "               [-0.8560,  1.7421, -0.5577],\n",
       "               [-0.1771, -0.2366,  0.0304],\n",
       "               [-0.8560,  1.7421, -0.5577],\n",
       "               [-0.1771, -0.2366,  0.0304],\n",
       "               [-0.8560,  1.7421, -0.5577],\n",
       "               [-0.1771, -0.2366,  0.0304],\n",
       "               [-0.8560,  1.7421, -0.5577],\n",
       "               [-0.1771, -0.2366,  0.0304],\n",
       "               [-0.8560,  1.7421, -0.5577],\n",
       "               [-0.1771, -0.2366,  0.0304],\n",
       "               [-0.8560,  1.7421, -0.5577],\n",
       "               [-0.1771, -0.2366,  0.0304]]),\n",
       "    x: Batch(\n",
       "           c: tensor([[ 0.6761,  1.2141, -0.8292,  1.2611],\n",
       "                      [-1.0266, -0.3765,  0.1702, -0.6013],\n",
       "                      [-0.5274, -0.4058, -0.6577, -0.4860],\n",
       "                      [ 0.6761,  1.2141, -0.8292,  1.2611],\n",
       "                      [-1.0266, -0.3765,  0.1702, -0.6013],\n",
       "                      [-0.5274, -0.4058, -0.6577, -0.4860],\n",
       "                      [ 0.6761,  1.2141, -0.8292,  1.2611],\n",
       "                      [-1.0266, -0.3765,  0.1702, -0.6013],\n",
       "                      [-0.5274, -0.4058, -0.6577, -0.4860],\n",
       "                      [ 0.6761,  1.2141, -0.8292,  1.2611],\n",
       "                      [-1.0266, -0.3765,  0.1702, -0.6013],\n",
       "                      [-0.5274, -0.4058, -0.6577, -0.4860],\n",
       "                      [ 0.6761,  1.2141, -0.8292,  1.2611],\n",
       "                      [-1.0266, -0.3765,  0.1702, -0.6013],\n",
       "                      [-0.5274, -0.4058, -0.6577, -0.4860],\n",
       "                      [ 0.6761,  1.2141, -0.8292,  1.2611],\n",
       "                      [-1.0266, -0.3765,  0.1702, -0.6013],\n",
       "                      [-0.5274, -0.4058, -0.6577, -0.4860],\n",
       "                      [ 0.6761,  1.2141, -0.8292,  1.2611],\n",
       "                      [-1.0266, -0.3765,  0.1702, -0.6013],\n",
       "                      [-0.5274, -0.4058, -0.6577, -0.4860],\n",
       "                      [ 0.6761,  1.2141, -0.8292,  1.2611],\n",
       "                      [-1.0266, -0.3765,  0.1702, -0.6013],\n",
       "                      [-0.5274, -0.4058, -0.6577, -0.4860]]),\n",
       "       ),\n",
       ")"
      ]
     },
     "execution_count": 27,
     "metadata": {},
     "output_type": "execute_result"
    }
   ],
   "source": [
    "Batch.cat(batches)"
   ]
  },
  {
   "cell_type": "code",
   "execution_count": 28,
   "id": "18dfb045",
   "metadata": {
    "execution": {
     "iopub.execute_input": "2023-02-27T09:41:12.875688Z",
     "iopub.status.busy": "2023-02-27T09:41:12.875360Z",
     "iopub.status.idle": "2023-02-27T09:41:14.592204Z",
     "shell.execute_reply": "2023-02-27T09:41:14.591035Z"
    }
   },
   "outputs": [
    {
     "name": "stdout",
     "output_type": "stream",
     "text": [
      "211 µs ± 3.35 µs per loop (mean ± std. dev. of 7 runs, 1,000 loops each)\n"
     ]
    }
   ],
   "source": [
    "%timeit Batch.cat(batches)"
   ]
  },
  {
   "cell_type": "code",
   "execution_count": 29,
   "id": "c6688e51",
   "metadata": {
    "execution": {
     "iopub.execute_input": "2023-02-27T09:41:14.596750Z",
     "iopub.status.busy": "2023-02-27T09:41:14.596148Z",
     "iopub.status.idle": "2023-02-27T09:41:19.237834Z",
     "shell.execute_reply": "2023-02-27T09:41:19.236752Z"
    }
   },
   "outputs": [
    {
     "name": "stdout",
     "output_type": "stream",
     "text": [
      "571 µs ± 16.6 µs per loop (mean ± std. dev. of 7 runs, 1,000 loops each)\n"
     ]
    }
   ],
   "source": [
    "batch = Batch({\n",
    "    'obs': torch.randn(8, 4, 84, 84),\n",
    "    'action': torch.randint(0, 6, size=(8, 1,)),\n",
    "    'reward': torch.rand(8, 1)}\n",
    ")\n",
    "\n",
    "%timeit list(Batch.split(batch, 1, shuffle=False, merge_last=True))"
   ]
  },
  {
   "cell_type": "code",
   "execution_count": null,
   "id": "2539fbd9",
   "metadata": {},
   "outputs": [],
   "source": []
  }
 ],
 "metadata": {
  "kernelspec": {
   "display_name": "Python 3 (ipykernel)",
   "language": "python",
   "name": "python3"
  },
  "language_info": {
   "codemirror_mode": {
    "name": "ipython",
    "version": 3
   },
   "file_extension": ".py",
   "mimetype": "text/x-python",
   "name": "python",
   "nbconvert_exporter": "python",
   "pygments_lexer": "ipython3",
   "version": "3.8.16"
  }
 },
 "nbformat": 4,
 "nbformat_minor": 5
}
