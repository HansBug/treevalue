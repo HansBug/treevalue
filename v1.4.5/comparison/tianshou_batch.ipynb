{
 "cells": [
  {
   "cell_type": "markdown",
   "id": "9d39d946",
   "metadata": {},
   "source": [
    "# Comparison Between TreeValue and Tianshou Batch"
   ]
  },
  {
   "cell_type": "markdown",
   "id": "3c6db2d4",
   "metadata": {},
   "source": [
    "In this section, we will take a look at the feature and performance of the [Tianshou Batch](https://github.com/thu-ml/tianshou) library, which is developed by Tsinghua Machine Learning Group."
   ]
  },
  {
   "cell_type": "markdown",
   "id": "069361b0",
   "metadata": {},
   "source": [
    "Before starting the comparison, let us define some thing."
   ]
  },
  {
   "cell_type": "code",
   "execution_count": 1,
   "id": "06fc8d26",
   "metadata": {
    "execution": {
     "iopub.execute_input": "2023-02-24T08:25:34.280369Z",
     "iopub.status.busy": "2023-02-24T08:25:34.279807Z",
     "iopub.status.idle": "2023-02-24T08:25:35.209860Z",
     "shell.execute_reply": "2023-02-24T08:25:35.209139Z"
    }
   },
   "outputs": [
    {
     "name": "stderr",
     "output_type": "stream",
     "text": [
      "/opt/hostedtoolcache/Python/3.8.16/x64/lib/python3.8/site-packages/tqdm/auto.py:22: TqdmWarning: IProgress not found. Please update jupyter and ipywidgets. See https://ipywidgets.readthedocs.io/en/stable/user_install.html\n",
      "  from .autonotebook import tqdm as notebook_tqdm\n"
     ]
    }
   ],
   "source": [
    "import torch \n",
    "\n",
    "_TREE_DATA_1 = {'a': 1, 'b': 2, 'x': {'c': 3, 'd': 4}}\n",
    "_TREE_DATA_2 = {\n",
    "    'a': torch.randn(2, 3), \n",
    "    'x': {\n",
    "        'c': torch.randn(3, 4)\n",
    "    },\n",
    "}\n",
    "_TREE_DATA_3 = {\n",
    "    'obs': torch.randn(4, 84, 84),\n",
    "    'action': torch.randint(0, 6, size=(1,)),\n",
    "    'reward': torch.rand(1),\n",
    "}"
   ]
  },
  {
   "cell_type": "markdown",
   "id": "83461b25",
   "metadata": {},
   "source": [
    "## Read and Write Operation"
   ]
  },
  {
   "cell_type": "markdown",
   "id": "067b3f73",
   "metadata": {},
   "source": [
    "Reading and writing are the two most common operations in the tree data structure based on the data model (TreeValue and Tianshou Batch both belong to this type), so this section will compare the reading and writing performance of these two libraries."
   ]
  },
  {
   "cell_type": "markdown",
   "id": "5d09a5b7",
   "metadata": {},
   "source": [
    "### TreeValue's Get and Set"
   ]
  },
  {
   "cell_type": "code",
   "execution_count": 2,
   "id": "9519c4bb",
   "metadata": {
    "execution": {
     "iopub.execute_input": "2023-02-24T08:25:35.212972Z",
     "iopub.status.busy": "2023-02-24T08:25:35.212584Z",
     "iopub.status.idle": "2023-02-24T08:25:35.245993Z",
     "shell.execute_reply": "2023-02-24T08:25:35.245349Z"
    }
   },
   "outputs": [],
   "source": [
    "from treevalue import FastTreeValue\n",
    "\n",
    "t = FastTreeValue(_TREE_DATA_2)"
   ]
  },
  {
   "cell_type": "code",
   "execution_count": 3,
   "id": "11c37677",
   "metadata": {
    "execution": {
     "iopub.execute_input": "2023-02-24T08:25:35.249376Z",
     "iopub.status.busy": "2023-02-24T08:25:35.248823Z",
     "iopub.status.idle": "2023-02-24T08:25:35.257917Z",
     "shell.execute_reply": "2023-02-24T08:25:35.257320Z"
    }
   },
   "outputs": [
    {
     "data": {
      "text/plain": [
       "<FastTreeValue 0x7fe7541a1e50>\n",
       "├── 'a' --> tensor([[-0.8480,  0.0480,  0.7417],\n",
       "│                   [ 0.8259, -1.4979, -0.1696]])\n",
       "└── 'x' --> <FastTreeValue 0x7fe7541a1eb0>\n",
       "    └── 'c' --> tensor([[-1.6694, -0.9628, -0.5595, -0.9531],\n",
       "                        [ 0.1793,  1.7441,  0.0971, -0.4052],\n",
       "                        [ 0.1178, -0.8629,  1.0390,  1.0302]])"
      ]
     },
     "execution_count": 3,
     "metadata": {},
     "output_type": "execute_result"
    }
   ],
   "source": [
    "t"
   ]
  },
  {
   "cell_type": "code",
   "execution_count": 4,
   "id": "fd70b0b9",
   "metadata": {
    "execution": {
     "iopub.execute_input": "2023-02-24T08:25:35.260589Z",
     "iopub.status.busy": "2023-02-24T08:25:35.260241Z",
     "iopub.status.idle": "2023-02-24T08:25:35.265868Z",
     "shell.execute_reply": "2023-02-24T08:25:35.265268Z"
    }
   },
   "outputs": [
    {
     "data": {
      "text/plain": [
       "tensor([[-0.8480,  0.0480,  0.7417],\n",
       "        [ 0.8259, -1.4979, -0.1696]])"
      ]
     },
     "execution_count": 4,
     "metadata": {},
     "output_type": "execute_result"
    }
   ],
   "source": [
    "t.a"
   ]
  },
  {
   "cell_type": "code",
   "execution_count": 5,
   "id": "c18197bd",
   "metadata": {
    "execution": {
     "iopub.execute_input": "2023-02-24T08:25:35.268780Z",
     "iopub.status.busy": "2023-02-24T08:25:35.268286Z",
     "iopub.status.idle": "2023-02-24T08:25:40.199748Z",
     "shell.execute_reply": "2023-02-24T08:25:40.198965Z"
    }
   },
   "outputs": [
    {
     "name": "stdout",
     "output_type": "stream",
     "text": [
      "59.2 ns ± 0.0296 ns per loop (mean ± std. dev. of 7 runs, 10,000,000 loops each)\n"
     ]
    }
   ],
   "source": [
    "%timeit t.a"
   ]
  },
  {
   "cell_type": "code",
   "execution_count": 6,
   "id": "bd52f867",
   "metadata": {
    "execution": {
     "iopub.execute_input": "2023-02-24T08:25:40.203190Z",
     "iopub.status.busy": "2023-02-24T08:25:40.202536Z",
     "iopub.status.idle": "2023-02-24T08:25:40.209219Z",
     "shell.execute_reply": "2023-02-24T08:25:40.208600Z"
    }
   },
   "outputs": [
    {
     "data": {
      "text/plain": [
       "<FastTreeValue 0x7fe7541a1e50>\n",
       "├── 'a' --> tensor([[-1.0564, -1.5127,  0.1632],\n",
       "│                   [-0.6388, -0.3427, -0.1764]])\n",
       "└── 'x' --> <FastTreeValue 0x7fe7541a1eb0>\n",
       "    └── 'c' --> tensor([[-1.6694, -0.9628, -0.5595, -0.9531],\n",
       "                        [ 0.1793,  1.7441,  0.0971, -0.4052],\n",
       "                        [ 0.1178, -0.8629,  1.0390,  1.0302]])"
      ]
     },
     "execution_count": 6,
     "metadata": {},
     "output_type": "execute_result"
    }
   ],
   "source": [
    "new_value = torch.randn(2, 3)\n",
    "t.a = new_value\n",
    "\n",
    "t"
   ]
  },
  {
   "cell_type": "code",
   "execution_count": 7,
   "id": "bbe04d1c",
   "metadata": {
    "execution": {
     "iopub.execute_input": "2023-02-24T08:25:40.211736Z",
     "iopub.status.busy": "2023-02-24T08:25:40.211413Z",
     "iopub.status.idle": "2023-02-24T08:25:45.186151Z",
     "shell.execute_reply": "2023-02-24T08:25:45.185416Z"
    }
   },
   "outputs": [
    {
     "name": "stdout",
     "output_type": "stream",
     "text": [
      "61.4 ns ± 0.0256 ns per loop (mean ± std. dev. of 7 runs, 10,000,000 loops each)\n"
     ]
    }
   ],
   "source": [
    "%timeit t.a = new_value"
   ]
  },
  {
   "cell_type": "markdown",
   "id": "48c49731",
   "metadata": {},
   "source": [
    "### Tianshou Batch's Get and Set"
   ]
  },
  {
   "cell_type": "code",
   "execution_count": 8,
   "id": "f1bb14c1",
   "metadata": {
    "execution": {
     "iopub.execute_input": "2023-02-24T08:25:45.189285Z",
     "iopub.status.busy": "2023-02-24T08:25:45.188802Z",
     "iopub.status.idle": "2023-02-24T08:25:45.530559Z",
     "shell.execute_reply": "2023-02-24T08:25:45.529866Z"
    }
   },
   "outputs": [],
   "source": [
    "from tianshou.data import Batch\n",
    "\n",
    "b = Batch(**_TREE_DATA_2)"
   ]
  },
  {
   "cell_type": "code",
   "execution_count": 9,
   "id": "cb0777c3",
   "metadata": {
    "execution": {
     "iopub.execute_input": "2023-02-24T08:25:45.533744Z",
     "iopub.status.busy": "2023-02-24T08:25:45.533391Z",
     "iopub.status.idle": "2023-02-24T08:25:45.539966Z",
     "shell.execute_reply": "2023-02-24T08:25:45.539391Z"
    }
   },
   "outputs": [
    {
     "data": {
      "text/plain": [
       "Batch(\n",
       "    a: tensor([[-0.8480,  0.0480,  0.7417],\n",
       "               [ 0.8259, -1.4979, -0.1696]]),\n",
       "    x: Batch(\n",
       "           c: tensor([[-1.6694, -0.9628, -0.5595, -0.9531],\n",
       "                      [ 0.1793,  1.7441,  0.0971, -0.4052],\n",
       "                      [ 0.1178, -0.8629,  1.0390,  1.0302]]),\n",
       "       ),\n",
       ")"
      ]
     },
     "execution_count": 9,
     "metadata": {},
     "output_type": "execute_result"
    }
   ],
   "source": [
    "b"
   ]
  },
  {
   "cell_type": "code",
   "execution_count": 10,
   "id": "43ef8ea3",
   "metadata": {
    "execution": {
     "iopub.execute_input": "2023-02-24T08:25:45.542204Z",
     "iopub.status.busy": "2023-02-24T08:25:45.542041Z",
     "iopub.status.idle": "2023-02-24T08:25:45.547332Z",
     "shell.execute_reply": "2023-02-24T08:25:45.546739Z"
    }
   },
   "outputs": [
    {
     "data": {
      "text/plain": [
       "tensor([[-0.8480,  0.0480,  0.7417],\n",
       "        [ 0.8259, -1.4979, -0.1696]])"
      ]
     },
     "execution_count": 10,
     "metadata": {},
     "output_type": "execute_result"
    }
   ],
   "source": [
    "b.a"
   ]
  },
  {
   "cell_type": "code",
   "execution_count": 11,
   "id": "b785ab72",
   "metadata": {
    "execution": {
     "iopub.execute_input": "2023-02-24T08:25:45.549698Z",
     "iopub.status.busy": "2023-02-24T08:25:45.549473Z",
     "iopub.status.idle": "2023-02-24T08:25:49.756997Z",
     "shell.execute_reply": "2023-02-24T08:25:49.756238Z"
    }
   },
   "outputs": [
    {
     "name": "stdout",
     "output_type": "stream",
     "text": [
      "51.2 ns ± 0.0725 ns per loop (mean ± std. dev. of 7 runs, 10,000,000 loops each)\n"
     ]
    }
   ],
   "source": [
    "%timeit b.a"
   ]
  },
  {
   "cell_type": "code",
   "execution_count": 12,
   "id": "ad54dc69",
   "metadata": {
    "execution": {
     "iopub.execute_input": "2023-02-24T08:25:49.759736Z",
     "iopub.status.busy": "2023-02-24T08:25:49.759363Z",
     "iopub.status.idle": "2023-02-24T08:25:49.765206Z",
     "shell.execute_reply": "2023-02-24T08:25:49.764584Z"
    }
   },
   "outputs": [
    {
     "data": {
      "text/plain": [
       "Batch(\n",
       "    a: tensor([[ 0.1743,  1.2967, -0.2615],\n",
       "               [ 0.3134, -1.5596,  1.8734]]),\n",
       "    x: Batch(\n",
       "           c: tensor([[-1.6694, -0.9628, -0.5595, -0.9531],\n",
       "                      [ 0.1793,  1.7441,  0.0971, -0.4052],\n",
       "                      [ 0.1178, -0.8629,  1.0390,  1.0302]]),\n",
       "       ),\n",
       ")"
      ]
     },
     "execution_count": 12,
     "metadata": {},
     "output_type": "execute_result"
    }
   ],
   "source": [
    "new_value = torch.randn(2, 3)\n",
    "b.a = new_value\n",
    "\n",
    "b"
   ]
  },
  {
   "cell_type": "code",
   "execution_count": 13,
   "id": "29b1d0bf",
   "metadata": {
    "execution": {
     "iopub.execute_input": "2023-02-24T08:25:49.767668Z",
     "iopub.status.busy": "2023-02-24T08:25:49.767321Z",
     "iopub.status.idle": "2023-02-24T08:25:53.715403Z",
     "shell.execute_reply": "2023-02-24T08:25:53.714651Z"
    }
   },
   "outputs": [
    {
     "name": "stdout",
     "output_type": "stream",
     "text": [
      "486 ns ± 0.123 ns per loop (mean ± std. dev. of 7 runs, 1,000,000 loops each)\n"
     ]
    }
   ],
   "source": [
    "%timeit b.a = new_value"
   ]
  },
  {
   "cell_type": "markdown",
   "id": "b61ad1d0",
   "metadata": {},
   "source": [
    "## Initialization"
   ]
  },
  {
   "cell_type": "markdown",
   "id": "d70f0d54",
   "metadata": {},
   "source": [
    "### TreeValue's Initialization"
   ]
  },
  {
   "cell_type": "code",
   "execution_count": 14,
   "id": "d32a679b",
   "metadata": {
    "execution": {
     "iopub.execute_input": "2023-02-24T08:25:53.718447Z",
     "iopub.status.busy": "2023-02-24T08:25:53.717861Z",
     "iopub.status.idle": "2023-02-24T08:26:00.454912Z",
     "shell.execute_reply": "2023-02-24T08:26:00.454161Z"
    }
   },
   "outputs": [
    {
     "name": "stdout",
     "output_type": "stream",
     "text": [
      "830 ns ± 0.922 ns per loop (mean ± std. dev. of 7 runs, 1,000,000 loops each)\n"
     ]
    }
   ],
   "source": [
    "%timeit FastTreeValue(_TREE_DATA_1)"
   ]
  },
  {
   "cell_type": "markdown",
   "id": "24f3707b",
   "metadata": {},
   "source": [
    "### Tianshou Batch's Initialization"
   ]
  },
  {
   "cell_type": "code",
   "execution_count": 15,
   "id": "ac3958df",
   "metadata": {
    "execution": {
     "iopub.execute_input": "2023-02-24T08:26:00.457728Z",
     "iopub.status.busy": "2023-02-24T08:26:00.457352Z",
     "iopub.status.idle": "2023-02-24T08:26:09.759487Z",
     "shell.execute_reply": "2023-02-24T08:26:09.758825Z"
    }
   },
   "outputs": [
    {
     "name": "stdout",
     "output_type": "stream",
     "text": [
      "11.5 µs ± 19.5 ns per loop (mean ± std. dev. of 7 runs, 100,000 loops each)\n"
     ]
    }
   ],
   "source": [
    "%timeit Batch(**_TREE_DATA_1)"
   ]
  },
  {
   "cell_type": "markdown",
   "id": "1ab82e2d",
   "metadata": {},
   "source": [
    "## Deep Copy Operation"
   ]
  },
  {
   "cell_type": "code",
   "execution_count": 16,
   "id": "210a9442",
   "metadata": {
    "execution": {
     "iopub.execute_input": "2023-02-24T08:26:09.762173Z",
     "iopub.status.busy": "2023-02-24T08:26:09.761802Z",
     "iopub.status.idle": "2023-02-24T08:26:09.765698Z",
     "shell.execute_reply": "2023-02-24T08:26:09.765115Z"
    }
   },
   "outputs": [],
   "source": [
    "import copy"
   ]
  },
  {
   "cell_type": "markdown",
   "id": "5a736274",
   "metadata": {},
   "source": [
    "### Deep Copy of TreeValue"
   ]
  },
  {
   "cell_type": "code",
   "execution_count": 17,
   "id": "f9bcadd6",
   "metadata": {
    "execution": {
     "iopub.execute_input": "2023-02-24T08:26:09.768091Z",
     "iopub.status.busy": "2023-02-24T08:26:09.767747Z",
     "iopub.status.idle": "2023-02-24T08:26:20.789258Z",
     "shell.execute_reply": "2023-02-24T08:26:20.788649Z"
    }
   },
   "outputs": [
    {
     "name": "stdout",
     "output_type": "stream",
     "text": [
      "136 µs ± 1.4 µs per loop (mean ± std. dev. of 7 runs, 10,000 loops each)\n"
     ]
    }
   ],
   "source": [
    "t3 = FastTreeValue(_TREE_DATA_3)\n",
    "%timeit copy.deepcopy(t3)"
   ]
  },
  {
   "cell_type": "markdown",
   "id": "bf8be7ea",
   "metadata": {},
   "source": [
    "### Deep Copy of Tianshou Batch"
   ]
  },
  {
   "cell_type": "code",
   "execution_count": 18,
   "id": "91998e6f",
   "metadata": {
    "execution": {
     "iopub.execute_input": "2023-02-24T08:26:20.792494Z",
     "iopub.status.busy": "2023-02-24T08:26:20.792027Z",
     "iopub.status.idle": "2023-02-24T08:26:31.880480Z",
     "shell.execute_reply": "2023-02-24T08:26:31.879889Z"
    }
   },
   "outputs": [
    {
     "name": "stdout",
     "output_type": "stream",
     "text": [
      "136 µs ± 193 ns per loop (mean ± std. dev. of 7 runs, 10,000 loops each)\n"
     ]
    }
   ],
   "source": [
    "b3 = Batch(**_TREE_DATA_3)\n",
    "%timeit copy.deepcopy(b3)"
   ]
  },
  {
   "cell_type": "markdown",
   "id": "223162fb",
   "metadata": {},
   "source": [
    "## Stack, Concat and Split Operation"
   ]
  },
  {
   "cell_type": "markdown",
   "id": "85fa4a73",
   "metadata": {},
   "source": [
    "### Performance of TreeValue"
   ]
  },
  {
   "cell_type": "code",
   "execution_count": 19,
   "id": "a0c2b697",
   "metadata": {
    "execution": {
     "iopub.execute_input": "2023-02-24T08:26:31.883920Z",
     "iopub.status.busy": "2023-02-24T08:26:31.883278Z",
     "iopub.status.idle": "2023-02-24T08:26:31.886768Z",
     "shell.execute_reply": "2023-02-24T08:26:31.886261Z"
    }
   },
   "outputs": [],
   "source": [
    "trees = [FastTreeValue(_TREE_DATA_2) for _ in range(8)]"
   ]
  },
  {
   "cell_type": "code",
   "execution_count": 20,
   "id": "017ea5a5",
   "metadata": {
    "execution": {
     "iopub.execute_input": "2023-02-24T08:26:31.889405Z",
     "iopub.status.busy": "2023-02-24T08:26:31.888822Z",
     "iopub.status.idle": "2023-02-24T08:26:31.895658Z",
     "shell.execute_reply": "2023-02-24T08:26:31.895156Z"
    }
   },
   "outputs": [
    {
     "data": {
      "text/plain": [
       "<FastTreeValue 0x7fe6a7e7a7f0>\n",
       "├── 'a' --> tensor([[[-0.8480,  0.0480,  0.7417],\n",
       "│                    [ 0.8259, -1.4979, -0.1696]],\n",
       "│           \n",
       "│                   [[-0.8480,  0.0480,  0.7417],\n",
       "│                    [ 0.8259, -1.4979, -0.1696]],\n",
       "│           \n",
       "│                   [[-0.8480,  0.0480,  0.7417],\n",
       "│                    [ 0.8259, -1.4979, -0.1696]],\n",
       "│           \n",
       "│                   [[-0.8480,  0.0480,  0.7417],\n",
       "│                    [ 0.8259, -1.4979, -0.1696]],\n",
       "│           \n",
       "│                   [[-0.8480,  0.0480,  0.7417],\n",
       "│                    [ 0.8259, -1.4979, -0.1696]],\n",
       "│           \n",
       "│                   [[-0.8480,  0.0480,  0.7417],\n",
       "│                    [ 0.8259, -1.4979, -0.1696]],\n",
       "│           \n",
       "│                   [[-0.8480,  0.0480,  0.7417],\n",
       "│                    [ 0.8259, -1.4979, -0.1696]],\n",
       "│           \n",
       "│                   [[-0.8480,  0.0480,  0.7417],\n",
       "│                    [ 0.8259, -1.4979, -0.1696]]])\n",
       "└── 'x' --> <FastTreeValue 0x7fe6a7e7a8b0>\n",
       "    └── 'c' --> tensor([[[-1.6694, -0.9628, -0.5595, -0.9531],\n",
       "                         [ 0.1793,  1.7441,  0.0971, -0.4052],\n",
       "                         [ 0.1178, -0.8629,  1.0390,  1.0302]],\n",
       "                \n",
       "                        [[-1.6694, -0.9628, -0.5595, -0.9531],\n",
       "                         [ 0.1793,  1.7441,  0.0971, -0.4052],\n",
       "                         [ 0.1178, -0.8629,  1.0390,  1.0302]],\n",
       "                \n",
       "                        [[-1.6694, -0.9628, -0.5595, -0.9531],\n",
       "                         [ 0.1793,  1.7441,  0.0971, -0.4052],\n",
       "                         [ 0.1178, -0.8629,  1.0390,  1.0302]],\n",
       "                \n",
       "                        [[-1.6694, -0.9628, -0.5595, -0.9531],\n",
       "                         [ 0.1793,  1.7441,  0.0971, -0.4052],\n",
       "                         [ 0.1178, -0.8629,  1.0390,  1.0302]],\n",
       "                \n",
       "                        [[-1.6694, -0.9628, -0.5595, -0.9531],\n",
       "                         [ 0.1793,  1.7441,  0.0971, -0.4052],\n",
       "                         [ 0.1178, -0.8629,  1.0390,  1.0302]],\n",
       "                \n",
       "                        [[-1.6694, -0.9628, -0.5595, -0.9531],\n",
       "                         [ 0.1793,  1.7441,  0.0971, -0.4052],\n",
       "                         [ 0.1178, -0.8629,  1.0390,  1.0302]],\n",
       "                \n",
       "                        [[-1.6694, -0.9628, -0.5595, -0.9531],\n",
       "                         [ 0.1793,  1.7441,  0.0971, -0.4052],\n",
       "                         [ 0.1178, -0.8629,  1.0390,  1.0302]],\n",
       "                \n",
       "                        [[-1.6694, -0.9628, -0.5595, -0.9531],\n",
       "                         [ 0.1793,  1.7441,  0.0971, -0.4052],\n",
       "                         [ 0.1178, -0.8629,  1.0390,  1.0302]]])"
      ]
     },
     "execution_count": 20,
     "metadata": {},
     "output_type": "execute_result"
    }
   ],
   "source": [
    "t_stack = FastTreeValue.func(subside=True)(torch.stack)\n",
    "\n",
    "t_stack(trees)"
   ]
  },
  {
   "cell_type": "code",
   "execution_count": 21,
   "id": "f8b3f415",
   "metadata": {
    "execution": {
     "iopub.execute_input": "2023-02-24T08:26:31.898089Z",
     "iopub.status.busy": "2023-02-24T08:26:31.897561Z",
     "iopub.status.idle": "2023-02-24T08:26:34.562050Z",
     "shell.execute_reply": "2023-02-24T08:26:34.561314Z"
    }
   },
   "outputs": [
    {
     "name": "stdout",
     "output_type": "stream",
     "text": [
      "32.8 µs ± 75.5 ns per loop (mean ± std. dev. of 7 runs, 10,000 loops each)\n"
     ]
    }
   ],
   "source": [
    "%timeit t_stack(trees)"
   ]
  },
  {
   "cell_type": "code",
   "execution_count": 22,
   "id": "94b56771",
   "metadata": {
    "execution": {
     "iopub.execute_input": "2023-02-24T08:26:34.564747Z",
     "iopub.status.busy": "2023-02-24T08:26:34.564409Z",
     "iopub.status.idle": "2023-02-24T08:26:34.571601Z",
     "shell.execute_reply": "2023-02-24T08:26:34.570974Z"
    }
   },
   "outputs": [
    {
     "data": {
      "text/plain": [
       "<FastTreeValue 0x7fe6aeab2a00>\n",
       "├── 'a' --> tensor([[-0.8480,  0.0480,  0.7417],\n",
       "│                   [ 0.8259, -1.4979, -0.1696],\n",
       "│                   [-0.8480,  0.0480,  0.7417],\n",
       "│                   [ 0.8259, -1.4979, -0.1696],\n",
       "│                   [-0.8480,  0.0480,  0.7417],\n",
       "│                   [ 0.8259, -1.4979, -0.1696],\n",
       "│                   [-0.8480,  0.0480,  0.7417],\n",
       "│                   [ 0.8259, -1.4979, -0.1696],\n",
       "│                   [-0.8480,  0.0480,  0.7417],\n",
       "│                   [ 0.8259, -1.4979, -0.1696],\n",
       "│                   [-0.8480,  0.0480,  0.7417],\n",
       "│                   [ 0.8259, -1.4979, -0.1696],\n",
       "│                   [-0.8480,  0.0480,  0.7417],\n",
       "│                   [ 0.8259, -1.4979, -0.1696],\n",
       "│                   [-0.8480,  0.0480,  0.7417],\n",
       "│                   [ 0.8259, -1.4979, -0.1696]])\n",
       "└── 'x' --> <FastTreeValue 0x7fe6aeab2e20>\n",
       "    └── 'c' --> tensor([[-1.6694, -0.9628, -0.5595, -0.9531],\n",
       "                        [ 0.1793,  1.7441,  0.0971, -0.4052],\n",
       "                        [ 0.1178, -0.8629,  1.0390,  1.0302],\n",
       "                        [-1.6694, -0.9628, -0.5595, -0.9531],\n",
       "                        [ 0.1793,  1.7441,  0.0971, -0.4052],\n",
       "                        [ 0.1178, -0.8629,  1.0390,  1.0302],\n",
       "                        [-1.6694, -0.9628, -0.5595, -0.9531],\n",
       "                        [ 0.1793,  1.7441,  0.0971, -0.4052],\n",
       "                        [ 0.1178, -0.8629,  1.0390,  1.0302],\n",
       "                        [-1.6694, -0.9628, -0.5595, -0.9531],\n",
       "                        [ 0.1793,  1.7441,  0.0971, -0.4052],\n",
       "                        [ 0.1178, -0.8629,  1.0390,  1.0302],\n",
       "                        [-1.6694, -0.9628, -0.5595, -0.9531],\n",
       "                        [ 0.1793,  1.7441,  0.0971, -0.4052],\n",
       "                        [ 0.1178, -0.8629,  1.0390,  1.0302],\n",
       "                        [-1.6694, -0.9628, -0.5595, -0.9531],\n",
       "                        [ 0.1793,  1.7441,  0.0971, -0.4052],\n",
       "                        [ 0.1178, -0.8629,  1.0390,  1.0302],\n",
       "                        [-1.6694, -0.9628, -0.5595, -0.9531],\n",
       "                        [ 0.1793,  1.7441,  0.0971, -0.4052],\n",
       "                        [ 0.1178, -0.8629,  1.0390,  1.0302],\n",
       "                        [-1.6694, -0.9628, -0.5595, -0.9531],\n",
       "                        [ 0.1793,  1.7441,  0.0971, -0.4052],\n",
       "                        [ 0.1178, -0.8629,  1.0390,  1.0302]])"
      ]
     },
     "execution_count": 22,
     "metadata": {},
     "output_type": "execute_result"
    }
   ],
   "source": [
    "t_cat = FastTreeValue.func(subside=True)(torch.cat)\n",
    "\n",
    "t_cat(trees)"
   ]
  },
  {
   "cell_type": "code",
   "execution_count": 23,
   "id": "5e9c06a6",
   "metadata": {
    "execution": {
     "iopub.execute_input": "2023-02-24T08:26:34.574062Z",
     "iopub.status.busy": "2023-02-24T08:26:34.573707Z",
     "iopub.status.idle": "2023-02-24T08:26:37.084278Z",
     "shell.execute_reply": "2023-02-24T08:26:37.083540Z"
    }
   },
   "outputs": [
    {
     "name": "stdout",
     "output_type": "stream",
     "text": [
      "30.9 µs ± 58.5 ns per loop (mean ± std. dev. of 7 runs, 10,000 loops each)\n"
     ]
    }
   ],
   "source": [
    "%timeit t_cat(trees)"
   ]
  },
  {
   "cell_type": "code",
   "execution_count": 24,
   "id": "a3ab5c8f",
   "metadata": {
    "execution": {
     "iopub.execute_input": "2023-02-24T08:26:37.087031Z",
     "iopub.status.busy": "2023-02-24T08:26:37.086677Z",
     "iopub.status.idle": "2023-02-24T08:26:41.948165Z",
     "shell.execute_reply": "2023-02-24T08:26:41.947405Z"
    }
   },
   "outputs": [
    {
     "name": "stdout",
     "output_type": "stream",
     "text": [
      "59.9 µs ± 141 ns per loop (mean ± std. dev. of 7 runs, 10,000 loops each)\n"
     ]
    }
   ],
   "source": [
    "t_split = FastTreeValue.func(rise=True)(torch.split)\n",
    "tree = FastTreeValue({\n",
    "    'obs': torch.randn(8, 4, 84, 84),\n",
    "    'action': torch.randint(0, 6, size=(8, 1,)),\n",
    "    'reward': torch.rand(8, 1),\n",
    "})\n",
    "\n",
    "%timeit t_split(tree, 1)"
   ]
  },
  {
   "cell_type": "markdown",
   "id": "31c3ec0b",
   "metadata": {},
   "source": [
    "### Performance of Tianshou Batch"
   ]
  },
  {
   "cell_type": "code",
   "execution_count": 25,
   "id": "9ead828a",
   "metadata": {
    "execution": {
     "iopub.execute_input": "2023-02-24T08:26:41.951428Z",
     "iopub.status.busy": "2023-02-24T08:26:41.950911Z",
     "iopub.status.idle": "2023-02-24T08:26:41.958137Z",
     "shell.execute_reply": "2023-02-24T08:26:41.957504Z"
    }
   },
   "outputs": [
    {
     "data": {
      "text/plain": [
       "Batch(\n",
       "    a: tensor([[[-0.8480,  0.0480,  0.7417],\n",
       "                [ 0.8259, -1.4979, -0.1696]],\n",
       "       \n",
       "               [[-0.8480,  0.0480,  0.7417],\n",
       "                [ 0.8259, -1.4979, -0.1696]],\n",
       "       \n",
       "               [[-0.8480,  0.0480,  0.7417],\n",
       "                [ 0.8259, -1.4979, -0.1696]],\n",
       "       \n",
       "               [[-0.8480,  0.0480,  0.7417],\n",
       "                [ 0.8259, -1.4979, -0.1696]],\n",
       "       \n",
       "               [[-0.8480,  0.0480,  0.7417],\n",
       "                [ 0.8259, -1.4979, -0.1696]],\n",
       "       \n",
       "               [[-0.8480,  0.0480,  0.7417],\n",
       "                [ 0.8259, -1.4979, -0.1696]],\n",
       "       \n",
       "               [[-0.8480,  0.0480,  0.7417],\n",
       "                [ 0.8259, -1.4979, -0.1696]],\n",
       "       \n",
       "               [[-0.8480,  0.0480,  0.7417],\n",
       "                [ 0.8259, -1.4979, -0.1696]]]),\n",
       "    x: Batch(\n",
       "           c: tensor([[[-1.6694, -0.9628, -0.5595, -0.9531],\n",
       "                       [ 0.1793,  1.7441,  0.0971, -0.4052],\n",
       "                       [ 0.1178, -0.8629,  1.0390,  1.0302]],\n",
       "              \n",
       "                      [[-1.6694, -0.9628, -0.5595, -0.9531],\n",
       "                       [ 0.1793,  1.7441,  0.0971, -0.4052],\n",
       "                       [ 0.1178, -0.8629,  1.0390,  1.0302]],\n",
       "              \n",
       "                      [[-1.6694, -0.9628, -0.5595, -0.9531],\n",
       "                       [ 0.1793,  1.7441,  0.0971, -0.4052],\n",
       "                       [ 0.1178, -0.8629,  1.0390,  1.0302]],\n",
       "              \n",
       "                      [[-1.6694, -0.9628, -0.5595, -0.9531],\n",
       "                       [ 0.1793,  1.7441,  0.0971, -0.4052],\n",
       "                       [ 0.1178, -0.8629,  1.0390,  1.0302]],\n",
       "              \n",
       "                      [[-1.6694, -0.9628, -0.5595, -0.9531],\n",
       "                       [ 0.1793,  1.7441,  0.0971, -0.4052],\n",
       "                       [ 0.1178, -0.8629,  1.0390,  1.0302]],\n",
       "              \n",
       "                      [[-1.6694, -0.9628, -0.5595, -0.9531],\n",
       "                       [ 0.1793,  1.7441,  0.0971, -0.4052],\n",
       "                       [ 0.1178, -0.8629,  1.0390,  1.0302]],\n",
       "              \n",
       "                      [[-1.6694, -0.9628, -0.5595, -0.9531],\n",
       "                       [ 0.1793,  1.7441,  0.0971, -0.4052],\n",
       "                       [ 0.1178, -0.8629,  1.0390,  1.0302]],\n",
       "              \n",
       "                      [[-1.6694, -0.9628, -0.5595, -0.9531],\n",
       "                       [ 0.1793,  1.7441,  0.0971, -0.4052],\n",
       "                       [ 0.1178, -0.8629,  1.0390,  1.0302]]]),\n",
       "       ),\n",
       ")"
      ]
     },
     "execution_count": 25,
     "metadata": {},
     "output_type": "execute_result"
    }
   ],
   "source": [
    "batches = [Batch(**_TREE_DATA_2) for _ in range(8)]\n",
    "\n",
    "Batch.stack(batches)"
   ]
  },
  {
   "cell_type": "code",
   "execution_count": 26,
   "id": "ec9037a3",
   "metadata": {
    "execution": {
     "iopub.execute_input": "2023-02-24T08:26:41.960601Z",
     "iopub.status.busy": "2023-02-24T08:26:41.960250Z",
     "iopub.status.idle": "2023-02-24T08:26:48.276258Z",
     "shell.execute_reply": "2023-02-24T08:26:48.275585Z"
    }
   },
   "outputs": [
    {
     "name": "stdout",
     "output_type": "stream",
     "text": [
      "77.7 µs ± 179 ns per loop (mean ± std. dev. of 7 runs, 10,000 loops each)\n"
     ]
    }
   ],
   "source": [
    "%timeit Batch.stack(batches)"
   ]
  },
  {
   "cell_type": "code",
   "execution_count": 27,
   "id": "cb8ab77e",
   "metadata": {
    "execution": {
     "iopub.execute_input": "2023-02-24T08:26:48.278916Z",
     "iopub.status.busy": "2023-02-24T08:26:48.278559Z",
     "iopub.status.idle": "2023-02-24T08:26:48.286022Z",
     "shell.execute_reply": "2023-02-24T08:26:48.285431Z"
    }
   },
   "outputs": [
    {
     "data": {
      "text/plain": [
       "Batch(\n",
       "    a: tensor([[-0.8480,  0.0480,  0.7417],\n",
       "               [ 0.8259, -1.4979, -0.1696],\n",
       "               [-0.8480,  0.0480,  0.7417],\n",
       "               [ 0.8259, -1.4979, -0.1696],\n",
       "               [-0.8480,  0.0480,  0.7417],\n",
       "               [ 0.8259, -1.4979, -0.1696],\n",
       "               [-0.8480,  0.0480,  0.7417],\n",
       "               [ 0.8259, -1.4979, -0.1696],\n",
       "               [-0.8480,  0.0480,  0.7417],\n",
       "               [ 0.8259, -1.4979, -0.1696],\n",
       "               [-0.8480,  0.0480,  0.7417],\n",
       "               [ 0.8259, -1.4979, -0.1696],\n",
       "               [-0.8480,  0.0480,  0.7417],\n",
       "               [ 0.8259, -1.4979, -0.1696],\n",
       "               [-0.8480,  0.0480,  0.7417],\n",
       "               [ 0.8259, -1.4979, -0.1696]]),\n",
       "    x: Batch(\n",
       "           c: tensor([[-1.6694, -0.9628, -0.5595, -0.9531],\n",
       "                      [ 0.1793,  1.7441,  0.0971, -0.4052],\n",
       "                      [ 0.1178, -0.8629,  1.0390,  1.0302],\n",
       "                      [-1.6694, -0.9628, -0.5595, -0.9531],\n",
       "                      [ 0.1793,  1.7441,  0.0971, -0.4052],\n",
       "                      [ 0.1178, -0.8629,  1.0390,  1.0302],\n",
       "                      [-1.6694, -0.9628, -0.5595, -0.9531],\n",
       "                      [ 0.1793,  1.7441,  0.0971, -0.4052],\n",
       "                      [ 0.1178, -0.8629,  1.0390,  1.0302],\n",
       "                      [-1.6694, -0.9628, -0.5595, -0.9531],\n",
       "                      [ 0.1793,  1.7441,  0.0971, -0.4052],\n",
       "                      [ 0.1178, -0.8629,  1.0390,  1.0302],\n",
       "                      [-1.6694, -0.9628, -0.5595, -0.9531],\n",
       "                      [ 0.1793,  1.7441,  0.0971, -0.4052],\n",
       "                      [ 0.1178, -0.8629,  1.0390,  1.0302],\n",
       "                      [-1.6694, -0.9628, -0.5595, -0.9531],\n",
       "                      [ 0.1793,  1.7441,  0.0971, -0.4052],\n",
       "                      [ 0.1178, -0.8629,  1.0390,  1.0302],\n",
       "                      [-1.6694, -0.9628, -0.5595, -0.9531],\n",
       "                      [ 0.1793,  1.7441,  0.0971, -0.4052],\n",
       "                      [ 0.1178, -0.8629,  1.0390,  1.0302],\n",
       "                      [-1.6694, -0.9628, -0.5595, -0.9531],\n",
       "                      [ 0.1793,  1.7441,  0.0971, -0.4052],\n",
       "                      [ 0.1178, -0.8629,  1.0390,  1.0302]]),\n",
       "       ),\n",
       ")"
      ]
     },
     "execution_count": 27,
     "metadata": {},
     "output_type": "execute_result"
    }
   ],
   "source": [
    "Batch.cat(batches)"
   ]
  },
  {
   "cell_type": "code",
   "execution_count": 28,
   "id": "18dfb045",
   "metadata": {
    "execution": {
     "iopub.execute_input": "2023-02-24T08:26:48.288806Z",
     "iopub.status.busy": "2023-02-24T08:26:48.288309Z",
     "iopub.status.idle": "2023-02-24T08:26:59.872658Z",
     "shell.execute_reply": "2023-02-24T08:26:59.871821Z"
    }
   },
   "outputs": [
    {
     "name": "stdout",
     "output_type": "stream",
     "text": [
      "143 µs ± 138 ns per loop (mean ± std. dev. of 7 runs, 10,000 loops each)\n"
     ]
    }
   ],
   "source": [
    "%timeit Batch.cat(batches)"
   ]
  },
  {
   "cell_type": "code",
   "execution_count": 29,
   "id": "c6688e51",
   "metadata": {
    "execution": {
     "iopub.execute_input": "2023-02-24T08:26:59.875739Z",
     "iopub.status.busy": "2023-02-24T08:26:59.875503Z",
     "iopub.status.idle": "2023-02-24T08:27:02.440800Z",
     "shell.execute_reply": "2023-02-24T08:27:02.440200Z"
    }
   },
   "outputs": [
    {
     "name": "stdout",
     "output_type": "stream",
     "text": [
      "313 µs ± 2.18 µs per loop (mean ± std. dev. of 7 runs, 1,000 loops each)\n"
     ]
    }
   ],
   "source": [
    "batch = Batch({\n",
    "    'obs': torch.randn(8, 4, 84, 84),\n",
    "    'action': torch.randint(0, 6, size=(8, 1,)),\n",
    "    'reward': torch.rand(8, 1)}\n",
    ")\n",
    "\n",
    "%timeit list(Batch.split(batch, 1, shuffle=False, merge_last=True))"
   ]
  },
  {
   "cell_type": "code",
   "execution_count": null,
   "id": "2539fbd9",
   "metadata": {},
   "outputs": [],
   "source": []
  }
 ],
 "metadata": {
  "kernelspec": {
   "display_name": "Python 3 (ipykernel)",
   "language": "python",
   "name": "python3"
  },
  "language_info": {
   "codemirror_mode": {
    "name": "ipython",
    "version": 3
   },
   "file_extension": ".py",
   "mimetype": "text/x-python",
   "name": "python",
   "nbconvert_exporter": "python",
   "pygments_lexer": "ipython3",
   "version": "3.8.16"
  }
 },
 "nbformat": 4,
 "nbformat_minor": 5
}
