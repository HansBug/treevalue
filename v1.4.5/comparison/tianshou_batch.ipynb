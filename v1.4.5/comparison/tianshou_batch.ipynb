{
 "cells": [
  {
   "cell_type": "markdown",
   "id": "9d39d946",
   "metadata": {},
   "source": [
    "# Comparison Between TreeValue and Tianshou Batch"
   ]
  },
  {
   "cell_type": "markdown",
   "id": "3c6db2d4",
   "metadata": {},
   "source": [
    "In this section, we will take a look at the feature and performance of the [Tianshou Batch](https://github.com/thu-ml/tianshou) library, which is developed by Tsinghua Machine Learning Group."
   ]
  },
  {
   "cell_type": "markdown",
   "id": "069361b0",
   "metadata": {},
   "source": [
    "Before starting the comparison, let us define some thing."
   ]
  },
  {
   "cell_type": "code",
   "execution_count": 1,
   "id": "06fc8d26",
   "metadata": {
    "execution": {
     "iopub.execute_input": "2023-02-25T09:03:24.350429Z",
     "iopub.status.busy": "2023-02-25T09:03:24.350147Z",
     "iopub.status.idle": "2023-02-25T09:03:25.567943Z",
     "shell.execute_reply": "2023-02-25T09:03:25.566776Z"
    }
   },
   "outputs": [
    {
     "name": "stderr",
     "output_type": "stream",
     "text": [
      "/opt/hostedtoolcache/Python/3.8.16/x64/lib/python3.8/site-packages/tqdm/auto.py:22: TqdmWarning: IProgress not found. Please update jupyter and ipywidgets. See https://ipywidgets.readthedocs.io/en/stable/user_install.html\n",
      "  from .autonotebook import tqdm as notebook_tqdm\n"
     ]
    }
   ],
   "source": [
    "import torch \n",
    "\n",
    "_TREE_DATA_1 = {'a': 1, 'b': 2, 'x': {'c': 3, 'd': 4}}\n",
    "_TREE_DATA_2 = {\n",
    "    'a': torch.randn(2, 3), \n",
    "    'x': {\n",
    "        'c': torch.randn(3, 4)\n",
    "    },\n",
    "}\n",
    "_TREE_DATA_3 = {\n",
    "    'obs': torch.randn(4, 84, 84),\n",
    "    'action': torch.randint(0, 6, size=(1,)),\n",
    "    'reward': torch.rand(1),\n",
    "}"
   ]
  },
  {
   "cell_type": "markdown",
   "id": "83461b25",
   "metadata": {},
   "source": [
    "## Read and Write Operation"
   ]
  },
  {
   "cell_type": "markdown",
   "id": "067b3f73",
   "metadata": {},
   "source": [
    "Reading and writing are the two most common operations in the tree data structure based on the data model (TreeValue and Tianshou Batch both belong to this type), so this section will compare the reading and writing performance of these two libraries."
   ]
  },
  {
   "cell_type": "markdown",
   "id": "5d09a5b7",
   "metadata": {},
   "source": [
    "### TreeValue's Get and Set"
   ]
  },
  {
   "cell_type": "code",
   "execution_count": 2,
   "id": "9519c4bb",
   "metadata": {
    "execution": {
     "iopub.execute_input": "2023-02-25T09:03:25.572262Z",
     "iopub.status.busy": "2023-02-25T09:03:25.571554Z",
     "iopub.status.idle": "2023-02-25T09:03:25.616578Z",
     "shell.execute_reply": "2023-02-25T09:03:25.615553Z"
    }
   },
   "outputs": [],
   "source": [
    "from treevalue import FastTreeValue\n",
    "\n",
    "t = FastTreeValue(_TREE_DATA_2)"
   ]
  },
  {
   "cell_type": "code",
   "execution_count": 3,
   "id": "11c37677",
   "metadata": {
    "execution": {
     "iopub.execute_input": "2023-02-25T09:03:25.620714Z",
     "iopub.status.busy": "2023-02-25T09:03:25.620413Z",
     "iopub.status.idle": "2023-02-25T09:03:25.631942Z",
     "shell.execute_reply": "2023-02-25T09:03:25.630972Z"
    }
   },
   "outputs": [
    {
     "data": {
      "text/plain": [
       "<FastTreeValue 0x7f6c84e1a910>\n",
       "├── 'a' --> tensor([[ 0.2286,  1.7503,  0.5964],\n",
       "│                   [-0.5357, -1.0325, -0.5516]])\n",
       "└── 'x' --> <FastTreeValue 0x7f6c84e1aa90>\n",
       "    └── 'c' --> tensor([[ 1.5782, -1.0918, -0.3631, -0.1462],\n",
       "                        [-1.4253,  0.4138,  2.3409,  1.2072],\n",
       "                        [ 1.2934, -0.4755, -2.2869,  0.0230]])"
      ]
     },
     "execution_count": 3,
     "metadata": {},
     "output_type": "execute_result"
    }
   ],
   "source": [
    "t"
   ]
  },
  {
   "cell_type": "code",
   "execution_count": 4,
   "id": "fd70b0b9",
   "metadata": {
    "execution": {
     "iopub.execute_input": "2023-02-25T09:03:25.635206Z",
     "iopub.status.busy": "2023-02-25T09:03:25.634649Z",
     "iopub.status.idle": "2023-02-25T09:03:25.642255Z",
     "shell.execute_reply": "2023-02-25T09:03:25.641368Z"
    }
   },
   "outputs": [
    {
     "data": {
      "text/plain": [
       "tensor([[ 0.2286,  1.7503,  0.5964],\n",
       "        [-0.5357, -1.0325, -0.5516]])"
      ]
     },
     "execution_count": 4,
     "metadata": {},
     "output_type": "execute_result"
    }
   ],
   "source": [
    "t.a"
   ]
  },
  {
   "cell_type": "code",
   "execution_count": 5,
   "id": "c18197bd",
   "metadata": {
    "execution": {
     "iopub.execute_input": "2023-02-25T09:03:25.645649Z",
     "iopub.status.busy": "2023-02-25T09:03:25.645224Z",
     "iopub.status.idle": "2023-02-25T09:03:31.812202Z",
     "shell.execute_reply": "2023-02-25T09:03:31.811165Z"
    }
   },
   "outputs": [
    {
     "name": "stdout",
     "output_type": "stream",
     "text": [
      "75.9 ns ± 0.638 ns per loop (mean ± std. dev. of 7 runs, 10,000,000 loops each)\n"
     ]
    }
   ],
   "source": [
    "%timeit t.a"
   ]
  },
  {
   "cell_type": "code",
   "execution_count": 6,
   "id": "bd52f867",
   "metadata": {
    "execution": {
     "iopub.execute_input": "2023-02-25T09:03:31.815806Z",
     "iopub.status.busy": "2023-02-25T09:03:31.815282Z",
     "iopub.status.idle": "2023-02-25T09:03:31.824139Z",
     "shell.execute_reply": "2023-02-25T09:03:31.823264Z"
    }
   },
   "outputs": [
    {
     "data": {
      "text/plain": [
       "<FastTreeValue 0x7f6c84e1a910>\n",
       "├── 'a' --> tensor([[ 0.5734,  0.2763,  0.5117],\n",
       "│                   [ 0.5525, -1.2583, -0.3615]])\n",
       "└── 'x' --> <FastTreeValue 0x7f6c84e1aa90>\n",
       "    └── 'c' --> tensor([[ 1.5782, -1.0918, -0.3631, -0.1462],\n",
       "                        [-1.4253,  0.4138,  2.3409,  1.2072],\n",
       "                        [ 1.2934, -0.4755, -2.2869,  0.0230]])"
      ]
     },
     "execution_count": 6,
     "metadata": {},
     "output_type": "execute_result"
    }
   ],
   "source": [
    "new_value = torch.randn(2, 3)\n",
    "t.a = new_value\n",
    "\n",
    "t"
   ]
  },
  {
   "cell_type": "code",
   "execution_count": 7,
   "id": "bbe04d1c",
   "metadata": {
    "execution": {
     "iopub.execute_input": "2023-02-25T09:03:31.827245Z",
     "iopub.status.busy": "2023-02-25T09:03:31.826717Z",
     "iopub.status.idle": "2023-02-25T09:03:38.686212Z",
     "shell.execute_reply": "2023-02-25T09:03:38.685066Z"
    }
   },
   "outputs": [
    {
     "name": "stdout",
     "output_type": "stream",
     "text": [
      "84.5 ns ± 1.59 ns per loop (mean ± std. dev. of 7 runs, 10,000,000 loops each)\n"
     ]
    }
   ],
   "source": [
    "%timeit t.a = new_value"
   ]
  },
  {
   "cell_type": "markdown",
   "id": "48c49731",
   "metadata": {},
   "source": [
    "### Tianshou Batch's Get and Set"
   ]
  },
  {
   "cell_type": "code",
   "execution_count": 8,
   "id": "f1bb14c1",
   "metadata": {
    "execution": {
     "iopub.execute_input": "2023-02-25T09:03:38.690528Z",
     "iopub.status.busy": "2023-02-25T09:03:38.689937Z",
     "iopub.status.idle": "2023-02-25T09:03:39.151414Z",
     "shell.execute_reply": "2023-02-25T09:03:39.150296Z"
    }
   },
   "outputs": [],
   "source": [
    "from tianshou.data import Batch\n",
    "\n",
    "b = Batch(**_TREE_DATA_2)"
   ]
  },
  {
   "cell_type": "code",
   "execution_count": 9,
   "id": "cb0777c3",
   "metadata": {
    "execution": {
     "iopub.execute_input": "2023-02-25T09:03:39.155977Z",
     "iopub.status.busy": "2023-02-25T09:03:39.154917Z",
     "iopub.status.idle": "2023-02-25T09:03:39.162824Z",
     "shell.execute_reply": "2023-02-25T09:03:39.161833Z"
    }
   },
   "outputs": [
    {
     "data": {
      "text/plain": [
       "Batch(\n",
       "    a: tensor([[ 0.2286,  1.7503,  0.5964],\n",
       "               [-0.5357, -1.0325, -0.5516]]),\n",
       "    x: Batch(\n",
       "           c: tensor([[ 1.5782, -1.0918, -0.3631, -0.1462],\n",
       "                      [-1.4253,  0.4138,  2.3409,  1.2072],\n",
       "                      [ 1.2934, -0.4755, -2.2869,  0.0230]]),\n",
       "       ),\n",
       ")"
      ]
     },
     "execution_count": 9,
     "metadata": {},
     "output_type": "execute_result"
    }
   ],
   "source": [
    "b"
   ]
  },
  {
   "cell_type": "code",
   "execution_count": 10,
   "id": "43ef8ea3",
   "metadata": {
    "execution": {
     "iopub.execute_input": "2023-02-25T09:03:39.166149Z",
     "iopub.status.busy": "2023-02-25T09:03:39.165825Z",
     "iopub.status.idle": "2023-02-25T09:03:39.172240Z",
     "shell.execute_reply": "2023-02-25T09:03:39.171321Z"
    }
   },
   "outputs": [
    {
     "data": {
      "text/plain": [
       "tensor([[ 0.2286,  1.7503,  0.5964],\n",
       "        [-0.5357, -1.0325, -0.5516]])"
      ]
     },
     "execution_count": 10,
     "metadata": {},
     "output_type": "execute_result"
    }
   ],
   "source": [
    "b.a"
   ]
  },
  {
   "cell_type": "code",
   "execution_count": 11,
   "id": "b785ab72",
   "metadata": {
    "execution": {
     "iopub.execute_input": "2023-02-25T09:03:39.175621Z",
     "iopub.status.busy": "2023-02-25T09:03:39.175329Z",
     "iopub.status.idle": "2023-02-25T09:03:45.146680Z",
     "shell.execute_reply": "2023-02-25T09:03:45.145449Z"
    }
   },
   "outputs": [
    {
     "name": "stdout",
     "output_type": "stream",
     "text": [
      "73.5 ns ± 1.24 ns per loop (mean ± std. dev. of 7 runs, 10,000,000 loops each)\n"
     ]
    }
   ],
   "source": [
    "%timeit b.a"
   ]
  },
  {
   "cell_type": "code",
   "execution_count": 12,
   "id": "ad54dc69",
   "metadata": {
    "execution": {
     "iopub.execute_input": "2023-02-25T09:03:45.150670Z",
     "iopub.status.busy": "2023-02-25T09:03:45.150200Z",
     "iopub.status.idle": "2023-02-25T09:03:45.158705Z",
     "shell.execute_reply": "2023-02-25T09:03:45.157778Z"
    }
   },
   "outputs": [
    {
     "data": {
      "text/plain": [
       "Batch(\n",
       "    a: tensor([[ 0.1256, -1.0470,  0.5039],\n",
       "               [-1.4103, -1.0691,  0.8078]]),\n",
       "    x: Batch(\n",
       "           c: tensor([[ 1.5782, -1.0918, -0.3631, -0.1462],\n",
       "                      [-1.4253,  0.4138,  2.3409,  1.2072],\n",
       "                      [ 1.2934, -0.4755, -2.2869,  0.0230]]),\n",
       "       ),\n",
       ")"
      ]
     },
     "execution_count": 12,
     "metadata": {},
     "output_type": "execute_result"
    }
   ],
   "source": [
    "new_value = torch.randn(2, 3)\n",
    "b.a = new_value\n",
    "\n",
    "b"
   ]
  },
  {
   "cell_type": "code",
   "execution_count": 13,
   "id": "29b1d0bf",
   "metadata": {
    "execution": {
     "iopub.execute_input": "2023-02-25T09:03:45.162339Z",
     "iopub.status.busy": "2023-02-25T09:03:45.161786Z",
     "iopub.status.idle": "2023-02-25T09:03:50.276763Z",
     "shell.execute_reply": "2023-02-25T09:03:50.275790Z"
    }
   },
   "outputs": [
    {
     "name": "stdout",
     "output_type": "stream",
     "text": [
      "629 ns ± 6.54 ns per loop (mean ± std. dev. of 7 runs, 1,000,000 loops each)\n"
     ]
    }
   ],
   "source": [
    "%timeit b.a = new_value"
   ]
  },
  {
   "cell_type": "markdown",
   "id": "b61ad1d0",
   "metadata": {},
   "source": [
    "## Initialization"
   ]
  },
  {
   "cell_type": "markdown",
   "id": "d70f0d54",
   "metadata": {},
   "source": [
    "### TreeValue's Initialization"
   ]
  },
  {
   "cell_type": "code",
   "execution_count": 14,
   "id": "d32a679b",
   "metadata": {
    "execution": {
     "iopub.execute_input": "2023-02-25T09:03:50.281070Z",
     "iopub.status.busy": "2023-02-25T09:03:50.280336Z",
     "iopub.status.idle": "2023-02-25T09:03:58.626864Z",
     "shell.execute_reply": "2023-02-25T09:03:58.625694Z"
    }
   },
   "outputs": [
    {
     "name": "stdout",
     "output_type": "stream",
     "text": [
      "1.03 µs ± 15.4 ns per loop (mean ± std. dev. of 7 runs, 1,000,000 loops each)\n"
     ]
    }
   ],
   "source": [
    "%timeit FastTreeValue(_TREE_DATA_1)"
   ]
  },
  {
   "cell_type": "markdown",
   "id": "24f3707b",
   "metadata": {},
   "source": [
    "### Tianshou Batch's Initialization"
   ]
  },
  {
   "cell_type": "code",
   "execution_count": 15,
   "id": "ac3958df",
   "metadata": {
    "execution": {
     "iopub.execute_input": "2023-02-25T09:03:58.630257Z",
     "iopub.status.busy": "2023-02-25T09:03:58.629962Z",
     "iopub.status.idle": "2023-02-25T09:04:09.538831Z",
     "shell.execute_reply": "2023-02-25T09:04:09.537681Z"
    }
   },
   "outputs": [
    {
     "name": "stdout",
     "output_type": "stream",
     "text": [
      "13.5 µs ± 170 ns per loop (mean ± std. dev. of 7 runs, 100,000 loops each)\n"
     ]
    }
   ],
   "source": [
    "%timeit Batch(**_TREE_DATA_1)"
   ]
  },
  {
   "cell_type": "markdown",
   "id": "1ab82e2d",
   "metadata": {},
   "source": [
    "## Deep Copy Operation"
   ]
  },
  {
   "cell_type": "code",
   "execution_count": 16,
   "id": "210a9442",
   "metadata": {
    "execution": {
     "iopub.execute_input": "2023-02-25T09:04:09.542789Z",
     "iopub.status.busy": "2023-02-25T09:04:09.542262Z",
     "iopub.status.idle": "2023-02-25T09:04:09.547618Z",
     "shell.execute_reply": "2023-02-25T09:04:09.546699Z"
    }
   },
   "outputs": [],
   "source": [
    "import copy"
   ]
  },
  {
   "cell_type": "markdown",
   "id": "5a736274",
   "metadata": {},
   "source": [
    "### Deep Copy of TreeValue"
   ]
  },
  {
   "cell_type": "code",
   "execution_count": 17,
   "id": "f9bcadd6",
   "metadata": {
    "execution": {
     "iopub.execute_input": "2023-02-25T09:04:09.550887Z",
     "iopub.status.busy": "2023-02-25T09:04:09.550587Z",
     "iopub.status.idle": "2023-02-25T09:04:11.922548Z",
     "shell.execute_reply": "2023-02-25T09:04:11.921655Z"
    }
   },
   "outputs": [
    {
     "name": "stdout",
     "output_type": "stream",
     "text": [
      "290 µs ± 16.4 µs per loop (mean ± std. dev. of 7 runs, 1,000 loops each)\n"
     ]
    }
   ],
   "source": [
    "t3 = FastTreeValue(_TREE_DATA_3)\n",
    "%timeit copy.deepcopy(t3)"
   ]
  },
  {
   "cell_type": "markdown",
   "id": "bf8be7ea",
   "metadata": {},
   "source": [
    "### Deep Copy of Tianshou Batch"
   ]
  },
  {
   "cell_type": "code",
   "execution_count": 18,
   "id": "91998e6f",
   "metadata": {
    "execution": {
     "iopub.execute_input": "2023-02-25T09:04:11.926510Z",
     "iopub.status.busy": "2023-02-25T09:04:11.926200Z",
     "iopub.status.idle": "2023-02-25T09:04:14.131380Z",
     "shell.execute_reply": "2023-02-25T09:04:14.130351Z"
    }
   },
   "outputs": [
    {
     "name": "stdout",
     "output_type": "stream",
     "text": [
      "271 µs ± 16 µs per loop (mean ± std. dev. of 7 runs, 1,000 loops each)\n"
     ]
    }
   ],
   "source": [
    "b3 = Batch(**_TREE_DATA_3)\n",
    "%timeit copy.deepcopy(b3)"
   ]
  },
  {
   "cell_type": "markdown",
   "id": "223162fb",
   "metadata": {},
   "source": [
    "## Stack, Concat and Split Operation"
   ]
  },
  {
   "cell_type": "markdown",
   "id": "85fa4a73",
   "metadata": {},
   "source": [
    "### Performance of TreeValue"
   ]
  },
  {
   "cell_type": "code",
   "execution_count": 19,
   "id": "a0c2b697",
   "metadata": {
    "execution": {
     "iopub.execute_input": "2023-02-25T09:04:14.135265Z",
     "iopub.status.busy": "2023-02-25T09:04:14.134827Z",
     "iopub.status.idle": "2023-02-25T09:04:14.139653Z",
     "shell.execute_reply": "2023-02-25T09:04:14.138828Z"
    }
   },
   "outputs": [],
   "source": [
    "trees = [FastTreeValue(_TREE_DATA_2) for _ in range(8)]"
   ]
  },
  {
   "cell_type": "code",
   "execution_count": 20,
   "id": "017ea5a5",
   "metadata": {
    "execution": {
     "iopub.execute_input": "2023-02-25T09:04:14.142912Z",
     "iopub.status.busy": "2023-02-25T09:04:14.142426Z",
     "iopub.status.idle": "2023-02-25T09:04:14.151804Z",
     "shell.execute_reply": "2023-02-25T09:04:14.150906Z"
    }
   },
   "outputs": [
    {
     "data": {
      "text/plain": [
       "<FastTreeValue 0x7f6bd7aa8fd0>\n",
       "├── 'a' --> tensor([[[ 0.2286,  1.7503,  0.5964],\n",
       "│                    [-0.5357, -1.0325, -0.5516]],\n",
       "│           \n",
       "│                   [[ 0.2286,  1.7503,  0.5964],\n",
       "│                    [-0.5357, -1.0325, -0.5516]],\n",
       "│           \n",
       "│                   [[ 0.2286,  1.7503,  0.5964],\n",
       "│                    [-0.5357, -1.0325, -0.5516]],\n",
       "│           \n",
       "│                   [[ 0.2286,  1.7503,  0.5964],\n",
       "│                    [-0.5357, -1.0325, -0.5516]],\n",
       "│           \n",
       "│                   [[ 0.2286,  1.7503,  0.5964],\n",
       "│                    [-0.5357, -1.0325, -0.5516]],\n",
       "│           \n",
       "│                   [[ 0.2286,  1.7503,  0.5964],\n",
       "│                    [-0.5357, -1.0325, -0.5516]],\n",
       "│           \n",
       "│                   [[ 0.2286,  1.7503,  0.5964],\n",
       "│                    [-0.5357, -1.0325, -0.5516]],\n",
       "│           \n",
       "│                   [[ 0.2286,  1.7503,  0.5964],\n",
       "│                    [-0.5357, -1.0325, -0.5516]]])\n",
       "└── 'x' --> <FastTreeValue 0x7f6bd7aa8eb0>\n",
       "    └── 'c' --> tensor([[[ 1.5782, -1.0918, -0.3631, -0.1462],\n",
       "                         [-1.4253,  0.4138,  2.3409,  1.2072],\n",
       "                         [ 1.2934, -0.4755, -2.2869,  0.0230]],\n",
       "                \n",
       "                        [[ 1.5782, -1.0918, -0.3631, -0.1462],\n",
       "                         [-1.4253,  0.4138,  2.3409,  1.2072],\n",
       "                         [ 1.2934, -0.4755, -2.2869,  0.0230]],\n",
       "                \n",
       "                        [[ 1.5782, -1.0918, -0.3631, -0.1462],\n",
       "                         [-1.4253,  0.4138,  2.3409,  1.2072],\n",
       "                         [ 1.2934, -0.4755, -2.2869,  0.0230]],\n",
       "                \n",
       "                        [[ 1.5782, -1.0918, -0.3631, -0.1462],\n",
       "                         [-1.4253,  0.4138,  2.3409,  1.2072],\n",
       "                         [ 1.2934, -0.4755, -2.2869,  0.0230]],\n",
       "                \n",
       "                        [[ 1.5782, -1.0918, -0.3631, -0.1462],\n",
       "                         [-1.4253,  0.4138,  2.3409,  1.2072],\n",
       "                         [ 1.2934, -0.4755, -2.2869,  0.0230]],\n",
       "                \n",
       "                        [[ 1.5782, -1.0918, -0.3631, -0.1462],\n",
       "                         [-1.4253,  0.4138,  2.3409,  1.2072],\n",
       "                         [ 1.2934, -0.4755, -2.2869,  0.0230]],\n",
       "                \n",
       "                        [[ 1.5782, -1.0918, -0.3631, -0.1462],\n",
       "                         [-1.4253,  0.4138,  2.3409,  1.2072],\n",
       "                         [ 1.2934, -0.4755, -2.2869,  0.0230]],\n",
       "                \n",
       "                        [[ 1.5782, -1.0918, -0.3631, -0.1462],\n",
       "                         [-1.4253,  0.4138,  2.3409,  1.2072],\n",
       "                         [ 1.2934, -0.4755, -2.2869,  0.0230]]])"
      ]
     },
     "execution_count": 20,
     "metadata": {},
     "output_type": "execute_result"
    }
   ],
   "source": [
    "t_stack = FastTreeValue.func(subside=True)(torch.stack)\n",
    "\n",
    "t_stack(trees)"
   ]
  },
  {
   "cell_type": "code",
   "execution_count": 21,
   "id": "f8b3f415",
   "metadata": {
    "execution": {
     "iopub.execute_input": "2023-02-25T09:04:14.154965Z",
     "iopub.status.busy": "2023-02-25T09:04:14.154494Z",
     "iopub.status.idle": "2023-02-25T09:04:18.099776Z",
     "shell.execute_reply": "2023-02-25T09:04:18.098724Z"
    }
   },
   "outputs": [
    {
     "name": "stdout",
     "output_type": "stream",
     "text": [
      "48.2 µs ± 697 ns per loop (mean ± std. dev. of 7 runs, 10,000 loops each)\n"
     ]
    }
   ],
   "source": [
    "%timeit t_stack(trees)"
   ]
  },
  {
   "cell_type": "code",
   "execution_count": 22,
   "id": "94b56771",
   "metadata": {
    "execution": {
     "iopub.execute_input": "2023-02-25T09:04:18.103461Z",
     "iopub.status.busy": "2023-02-25T09:04:18.103152Z",
     "iopub.status.idle": "2023-02-25T09:04:18.112836Z",
     "shell.execute_reply": "2023-02-25T09:04:18.111894Z"
    }
   },
   "outputs": [
    {
     "data": {
      "text/plain": [
       "<FastTreeValue 0x7f6bd7aa8df0>\n",
       "├── 'a' --> tensor([[ 0.2286,  1.7503,  0.5964],\n",
       "│                   [-0.5357, -1.0325, -0.5516],\n",
       "│                   [ 0.2286,  1.7503,  0.5964],\n",
       "│                   [-0.5357, -1.0325, -0.5516],\n",
       "│                   [ 0.2286,  1.7503,  0.5964],\n",
       "│                   [-0.5357, -1.0325, -0.5516],\n",
       "│                   [ 0.2286,  1.7503,  0.5964],\n",
       "│                   [-0.5357, -1.0325, -0.5516],\n",
       "│                   [ 0.2286,  1.7503,  0.5964],\n",
       "│                   [-0.5357, -1.0325, -0.5516],\n",
       "│                   [ 0.2286,  1.7503,  0.5964],\n",
       "│                   [-0.5357, -1.0325, -0.5516],\n",
       "│                   [ 0.2286,  1.7503,  0.5964],\n",
       "│                   [-0.5357, -1.0325, -0.5516],\n",
       "│                   [ 0.2286,  1.7503,  0.5964],\n",
       "│                   [-0.5357, -1.0325, -0.5516]])\n",
       "└── 'x' --> <FastTreeValue 0x7f6c60a7a2b0>\n",
       "    └── 'c' --> tensor([[ 1.5782, -1.0918, -0.3631, -0.1462],\n",
       "                        [-1.4253,  0.4138,  2.3409,  1.2072],\n",
       "                        [ 1.2934, -0.4755, -2.2869,  0.0230],\n",
       "                        [ 1.5782, -1.0918, -0.3631, -0.1462],\n",
       "                        [-1.4253,  0.4138,  2.3409,  1.2072],\n",
       "                        [ 1.2934, -0.4755, -2.2869,  0.0230],\n",
       "                        [ 1.5782, -1.0918, -0.3631, -0.1462],\n",
       "                        [-1.4253,  0.4138,  2.3409,  1.2072],\n",
       "                        [ 1.2934, -0.4755, -2.2869,  0.0230],\n",
       "                        [ 1.5782, -1.0918, -0.3631, -0.1462],\n",
       "                        [-1.4253,  0.4138,  2.3409,  1.2072],\n",
       "                        [ 1.2934, -0.4755, -2.2869,  0.0230],\n",
       "                        [ 1.5782, -1.0918, -0.3631, -0.1462],\n",
       "                        [-1.4253,  0.4138,  2.3409,  1.2072],\n",
       "                        [ 1.2934, -0.4755, -2.2869,  0.0230],\n",
       "                        [ 1.5782, -1.0918, -0.3631, -0.1462],\n",
       "                        [-1.4253,  0.4138,  2.3409,  1.2072],\n",
       "                        [ 1.2934, -0.4755, -2.2869,  0.0230],\n",
       "                        [ 1.5782, -1.0918, -0.3631, -0.1462],\n",
       "                        [-1.4253,  0.4138,  2.3409,  1.2072],\n",
       "                        [ 1.2934, -0.4755, -2.2869,  0.0230],\n",
       "                        [ 1.5782, -1.0918, -0.3631, -0.1462],\n",
       "                        [-1.4253,  0.4138,  2.3409,  1.2072],\n",
       "                        [ 1.2934, -0.4755, -2.2869,  0.0230]])"
      ]
     },
     "execution_count": 22,
     "metadata": {},
     "output_type": "execute_result"
    }
   ],
   "source": [
    "t_cat = FastTreeValue.func(subside=True)(torch.cat)\n",
    "\n",
    "t_cat(trees)"
   ]
  },
  {
   "cell_type": "code",
   "execution_count": 23,
   "id": "5e9c06a6",
   "metadata": {
    "execution": {
     "iopub.execute_input": "2023-02-25T09:04:18.116021Z",
     "iopub.status.busy": "2023-02-25T09:04:18.115729Z",
     "iopub.status.idle": "2023-02-25T09:04:21.849779Z",
     "shell.execute_reply": "2023-02-25T09:04:21.848747Z"
    }
   },
   "outputs": [
    {
     "name": "stdout",
     "output_type": "stream",
     "text": [
      "46.2 µs ± 1.71 µs per loop (mean ± std. dev. of 7 runs, 10,000 loops each)\n"
     ]
    }
   ],
   "source": [
    "%timeit t_cat(trees)"
   ]
  },
  {
   "cell_type": "code",
   "execution_count": 24,
   "id": "a3ab5c8f",
   "metadata": {
    "execution": {
     "iopub.execute_input": "2023-02-25T09:04:21.853641Z",
     "iopub.status.busy": "2023-02-25T09:04:21.853102Z",
     "iopub.status.idle": "2023-02-25T09:04:28.512458Z",
     "shell.execute_reply": "2023-02-25T09:04:28.511476Z"
    }
   },
   "outputs": [
    {
     "name": "stdout",
     "output_type": "stream",
     "text": [
      "82 µs ± 458 ns per loop (mean ± std. dev. of 7 runs, 10,000 loops each)\n"
     ]
    }
   ],
   "source": [
    "t_split = FastTreeValue.func(rise=True)(torch.split)\n",
    "tree = FastTreeValue({\n",
    "    'obs': torch.randn(8, 4, 84, 84),\n",
    "    'action': torch.randint(0, 6, size=(8, 1,)),\n",
    "    'reward': torch.rand(8, 1),\n",
    "})\n",
    "\n",
    "%timeit t_split(tree, 1)"
   ]
  },
  {
   "cell_type": "markdown",
   "id": "31c3ec0b",
   "metadata": {},
   "source": [
    "### Performance of Tianshou Batch"
   ]
  },
  {
   "cell_type": "code",
   "execution_count": 25,
   "id": "9ead828a",
   "metadata": {
    "execution": {
     "iopub.execute_input": "2023-02-25T09:04:28.516355Z",
     "iopub.status.busy": "2023-02-25T09:04:28.515818Z",
     "iopub.status.idle": "2023-02-25T09:04:28.526380Z",
     "shell.execute_reply": "2023-02-25T09:04:28.525428Z"
    }
   },
   "outputs": [
    {
     "data": {
      "text/plain": [
       "Batch(\n",
       "    a: tensor([[[ 0.2286,  1.7503,  0.5964],\n",
       "                [-0.5357, -1.0325, -0.5516]],\n",
       "       \n",
       "               [[ 0.2286,  1.7503,  0.5964],\n",
       "                [-0.5357, -1.0325, -0.5516]],\n",
       "       \n",
       "               [[ 0.2286,  1.7503,  0.5964],\n",
       "                [-0.5357, -1.0325, -0.5516]],\n",
       "       \n",
       "               [[ 0.2286,  1.7503,  0.5964],\n",
       "                [-0.5357, -1.0325, -0.5516]],\n",
       "       \n",
       "               [[ 0.2286,  1.7503,  0.5964],\n",
       "                [-0.5357, -1.0325, -0.5516]],\n",
       "       \n",
       "               [[ 0.2286,  1.7503,  0.5964],\n",
       "                [-0.5357, -1.0325, -0.5516]],\n",
       "       \n",
       "               [[ 0.2286,  1.7503,  0.5964],\n",
       "                [-0.5357, -1.0325, -0.5516]],\n",
       "       \n",
       "               [[ 0.2286,  1.7503,  0.5964],\n",
       "                [-0.5357, -1.0325, -0.5516]]]),\n",
       "    x: Batch(\n",
       "           c: tensor([[[ 1.5782, -1.0918, -0.3631, -0.1462],\n",
       "                       [-1.4253,  0.4138,  2.3409,  1.2072],\n",
       "                       [ 1.2934, -0.4755, -2.2869,  0.0230]],\n",
       "              \n",
       "                      [[ 1.5782, -1.0918, -0.3631, -0.1462],\n",
       "                       [-1.4253,  0.4138,  2.3409,  1.2072],\n",
       "                       [ 1.2934, -0.4755, -2.2869,  0.0230]],\n",
       "              \n",
       "                      [[ 1.5782, -1.0918, -0.3631, -0.1462],\n",
       "                       [-1.4253,  0.4138,  2.3409,  1.2072],\n",
       "                       [ 1.2934, -0.4755, -2.2869,  0.0230]],\n",
       "              \n",
       "                      [[ 1.5782, -1.0918, -0.3631, -0.1462],\n",
       "                       [-1.4253,  0.4138,  2.3409,  1.2072],\n",
       "                       [ 1.2934, -0.4755, -2.2869,  0.0230]],\n",
       "              \n",
       "                      [[ 1.5782, -1.0918, -0.3631, -0.1462],\n",
       "                       [-1.4253,  0.4138,  2.3409,  1.2072],\n",
       "                       [ 1.2934, -0.4755, -2.2869,  0.0230]],\n",
       "              \n",
       "                      [[ 1.5782, -1.0918, -0.3631, -0.1462],\n",
       "                       [-1.4253,  0.4138,  2.3409,  1.2072],\n",
       "                       [ 1.2934, -0.4755, -2.2869,  0.0230]],\n",
       "              \n",
       "                      [[ 1.5782, -1.0918, -0.3631, -0.1462],\n",
       "                       [-1.4253,  0.4138,  2.3409,  1.2072],\n",
       "                       [ 1.2934, -0.4755, -2.2869,  0.0230]],\n",
       "              \n",
       "                      [[ 1.5782, -1.0918, -0.3631, -0.1462],\n",
       "                       [-1.4253,  0.4138,  2.3409,  1.2072],\n",
       "                       [ 1.2934, -0.4755, -2.2869,  0.0230]]]),\n",
       "       ),\n",
       ")"
      ]
     },
     "execution_count": 25,
     "metadata": {},
     "output_type": "execute_result"
    }
   ],
   "source": [
    "batches = [Batch(**_TREE_DATA_2) for _ in range(8)]\n",
    "\n",
    "Batch.stack(batches)"
   ]
  },
  {
   "cell_type": "code",
   "execution_count": 26,
   "id": "ec9037a3",
   "metadata": {
    "execution": {
     "iopub.execute_input": "2023-02-25T09:04:28.530204Z",
     "iopub.status.busy": "2023-02-25T09:04:28.529877Z",
     "iopub.status.idle": "2023-02-25T09:04:37.211815Z",
     "shell.execute_reply": "2023-02-25T09:04:37.210668Z"
    }
   },
   "outputs": [
    {
     "name": "stdout",
     "output_type": "stream",
     "text": [
      "106 µs ± 1.75 µs per loop (mean ± std. dev. of 7 runs, 10,000 loops each)\n"
     ]
    }
   ],
   "source": [
    "%timeit Batch.stack(batches)"
   ]
  },
  {
   "cell_type": "code",
   "execution_count": 27,
   "id": "cb8ab77e",
   "metadata": {
    "execution": {
     "iopub.execute_input": "2023-02-25T09:04:37.215891Z",
     "iopub.status.busy": "2023-02-25T09:04:37.215576Z",
     "iopub.status.idle": "2023-02-25T09:04:37.225505Z",
     "shell.execute_reply": "2023-02-25T09:04:37.224612Z"
    }
   },
   "outputs": [
    {
     "data": {
      "text/plain": [
       "Batch(\n",
       "    a: tensor([[ 0.2286,  1.7503,  0.5964],\n",
       "               [-0.5357, -1.0325, -0.5516],\n",
       "               [ 0.2286,  1.7503,  0.5964],\n",
       "               [-0.5357, -1.0325, -0.5516],\n",
       "               [ 0.2286,  1.7503,  0.5964],\n",
       "               [-0.5357, -1.0325, -0.5516],\n",
       "               [ 0.2286,  1.7503,  0.5964],\n",
       "               [-0.5357, -1.0325, -0.5516],\n",
       "               [ 0.2286,  1.7503,  0.5964],\n",
       "               [-0.5357, -1.0325, -0.5516],\n",
       "               [ 0.2286,  1.7503,  0.5964],\n",
       "               [-0.5357, -1.0325, -0.5516],\n",
       "               [ 0.2286,  1.7503,  0.5964],\n",
       "               [-0.5357, -1.0325, -0.5516],\n",
       "               [ 0.2286,  1.7503,  0.5964],\n",
       "               [-0.5357, -1.0325, -0.5516]]),\n",
       "    x: Batch(\n",
       "           c: tensor([[ 1.5782, -1.0918, -0.3631, -0.1462],\n",
       "                      [-1.4253,  0.4138,  2.3409,  1.2072],\n",
       "                      [ 1.2934, -0.4755, -2.2869,  0.0230],\n",
       "                      [ 1.5782, -1.0918, -0.3631, -0.1462],\n",
       "                      [-1.4253,  0.4138,  2.3409,  1.2072],\n",
       "                      [ 1.2934, -0.4755, -2.2869,  0.0230],\n",
       "                      [ 1.5782, -1.0918, -0.3631, -0.1462],\n",
       "                      [-1.4253,  0.4138,  2.3409,  1.2072],\n",
       "                      [ 1.2934, -0.4755, -2.2869,  0.0230],\n",
       "                      [ 1.5782, -1.0918, -0.3631, -0.1462],\n",
       "                      [-1.4253,  0.4138,  2.3409,  1.2072],\n",
       "                      [ 1.2934, -0.4755, -2.2869,  0.0230],\n",
       "                      [ 1.5782, -1.0918, -0.3631, -0.1462],\n",
       "                      [-1.4253,  0.4138,  2.3409,  1.2072],\n",
       "                      [ 1.2934, -0.4755, -2.2869,  0.0230],\n",
       "                      [ 1.5782, -1.0918, -0.3631, -0.1462],\n",
       "                      [-1.4253,  0.4138,  2.3409,  1.2072],\n",
       "                      [ 1.2934, -0.4755, -2.2869,  0.0230],\n",
       "                      [ 1.5782, -1.0918, -0.3631, -0.1462],\n",
       "                      [-1.4253,  0.4138,  2.3409,  1.2072],\n",
       "                      [ 1.2934, -0.4755, -2.2869,  0.0230],\n",
       "                      [ 1.5782, -1.0918, -0.3631, -0.1462],\n",
       "                      [-1.4253,  0.4138,  2.3409,  1.2072],\n",
       "                      [ 1.2934, -0.4755, -2.2869,  0.0230]]),\n",
       "       ),\n",
       ")"
      ]
     },
     "execution_count": 27,
     "metadata": {},
     "output_type": "execute_result"
    }
   ],
   "source": [
    "Batch.cat(batches)"
   ]
  },
  {
   "cell_type": "code",
   "execution_count": 28,
   "id": "18dfb045",
   "metadata": {
    "execution": {
     "iopub.execute_input": "2023-02-25T09:04:37.228970Z",
     "iopub.status.busy": "2023-02-25T09:04:37.228499Z",
     "iopub.status.idle": "2023-02-25T09:04:52.569073Z",
     "shell.execute_reply": "2023-02-25T09:04:52.567977Z"
    }
   },
   "outputs": [
    {
     "name": "stdout",
     "output_type": "stream",
     "text": [
      "189 µs ± 2.43 µs per loop (mean ± std. dev. of 7 runs, 10,000 loops each)\n"
     ]
    }
   ],
   "source": [
    "%timeit Batch.cat(batches)"
   ]
  },
  {
   "cell_type": "code",
   "execution_count": 29,
   "id": "c6688e51",
   "metadata": {
    "execution": {
     "iopub.execute_input": "2023-02-25T09:04:52.572590Z",
     "iopub.status.busy": "2023-02-25T09:04:52.572148Z",
     "iopub.status.idle": "2023-02-25T09:04:57.354182Z",
     "shell.execute_reply": "2023-02-25T09:04:57.353193Z"
    }
   },
   "outputs": [
    {
     "name": "stdout",
     "output_type": "stream",
     "text": [
      "593 µs ± 41.1 µs per loop (mean ± std. dev. of 7 runs, 1,000 loops each)\n"
     ]
    }
   ],
   "source": [
    "batch = Batch({\n",
    "    'obs': torch.randn(8, 4, 84, 84),\n",
    "    'action': torch.randint(0, 6, size=(8, 1,)),\n",
    "    'reward': torch.rand(8, 1)}\n",
    ")\n",
    "\n",
    "%timeit list(Batch.split(batch, 1, shuffle=False, merge_last=True))"
   ]
  },
  {
   "cell_type": "code",
   "execution_count": null,
   "id": "2539fbd9",
   "metadata": {},
   "outputs": [],
   "source": []
  }
 ],
 "metadata": {
  "kernelspec": {
   "display_name": "Python 3 (ipykernel)",
   "language": "python",
   "name": "python3"
  },
  "language_info": {
   "codemirror_mode": {
    "name": "ipython",
    "version": 3
   },
   "file_extension": ".py",
   "mimetype": "text/x-python",
   "name": "python",
   "nbconvert_exporter": "python",
   "pygments_lexer": "ipython3",
   "version": "3.8.16"
  }
 },
 "nbformat": 4,
 "nbformat_minor": 5
}
