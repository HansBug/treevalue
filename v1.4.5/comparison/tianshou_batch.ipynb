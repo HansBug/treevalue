{
 "cells": [
  {
   "cell_type": "markdown",
   "id": "9d39d946",
   "metadata": {},
   "source": [
    "# Comparison Between TreeValue and Tianshou Batch"
   ]
  },
  {
   "cell_type": "markdown",
   "id": "3c6db2d4",
   "metadata": {},
   "source": [
    "In this section, we will take a look at the feature and performance of the [Tianshou Batch](https://github.com/thu-ml/tianshou) library, which is developed by Tsinghua Machine Learning Group."
   ]
  },
  {
   "cell_type": "markdown",
   "id": "069361b0",
   "metadata": {},
   "source": [
    "Before starting the comparison, let us define some thing."
   ]
  },
  {
   "cell_type": "code",
   "execution_count": 1,
   "id": "06fc8d26",
   "metadata": {
    "execution": {
     "iopub.execute_input": "2023-02-23T09:29:59.409564Z",
     "iopub.status.busy": "2023-02-23T09:29:59.409031Z",
     "iopub.status.idle": "2023-02-23T09:30:00.303571Z",
     "shell.execute_reply": "2023-02-23T09:30:00.302943Z"
    }
   },
   "outputs": [
    {
     "name": "stderr",
     "output_type": "stream",
     "text": [
      "/opt/hostedtoolcache/Python/3.8.16/x64/lib/python3.8/site-packages/tqdm/auto.py:22: TqdmWarning: IProgress not found. Please update jupyter and ipywidgets. See https://ipywidgets.readthedocs.io/en/stable/user_install.html\n",
      "  from .autonotebook import tqdm as notebook_tqdm\n"
     ]
    }
   ],
   "source": [
    "import torch \n",
    "\n",
    "_TREE_DATA_1 = {'a': 1, 'b': 2, 'x': {'c': 3, 'd': 4}}\n",
    "_TREE_DATA_2 = {\n",
    "    'a': torch.randn(2, 3), \n",
    "    'x': {\n",
    "        'c': torch.randn(3, 4)\n",
    "    },\n",
    "}\n",
    "_TREE_DATA_3 = {\n",
    "    'obs': torch.randn(4, 84, 84),\n",
    "    'action': torch.randint(0, 6, size=(1,)),\n",
    "    'reward': torch.rand(1),\n",
    "}"
   ]
  },
  {
   "cell_type": "markdown",
   "id": "83461b25",
   "metadata": {},
   "source": [
    "## Read and Write Operation"
   ]
  },
  {
   "cell_type": "markdown",
   "id": "067b3f73",
   "metadata": {},
   "source": [
    "Reading and writing are the two most common operations in the tree data structure based on the data model (TreeValue and Tianshou Batch both belong to this type), so this section will compare the reading and writing performance of these two libraries."
   ]
  },
  {
   "cell_type": "markdown",
   "id": "5d09a5b7",
   "metadata": {},
   "source": [
    "### TreeValue's Get and Set"
   ]
  },
  {
   "cell_type": "code",
   "execution_count": 2,
   "id": "9519c4bb",
   "metadata": {
    "execution": {
     "iopub.execute_input": "2023-02-23T09:30:00.306586Z",
     "iopub.status.busy": "2023-02-23T09:30:00.306310Z",
     "iopub.status.idle": "2023-02-23T09:30:00.338276Z",
     "shell.execute_reply": "2023-02-23T09:30:00.337687Z"
    }
   },
   "outputs": [],
   "source": [
    "from treevalue import FastTreeValue\n",
    "\n",
    "t = FastTreeValue(_TREE_DATA_2)"
   ]
  },
  {
   "cell_type": "code",
   "execution_count": 3,
   "id": "11c37677",
   "metadata": {
    "execution": {
     "iopub.execute_input": "2023-02-23T09:30:00.341066Z",
     "iopub.status.busy": "2023-02-23T09:30:00.340730Z",
     "iopub.status.idle": "2023-02-23T09:30:00.349856Z",
     "shell.execute_reply": "2023-02-23T09:30:00.349256Z"
    }
   },
   "outputs": [
    {
     "data": {
      "text/plain": [
       "<FastTreeValue 0x7f99989f7df0>\n",
       "├── 'a' --> tensor([[-0.5859,  0.9555,  0.8731],\n",
       "│                   [ 0.5888,  1.0739,  0.2829]])\n",
       "└── 'x' --> <FastTreeValue 0x7f99989f7f70>\n",
       "    └── 'c' --> tensor([[ 1.6059, -0.3826,  0.8560,  0.4802],\n",
       "                        [-1.5158, -1.1513,  0.6918,  0.9642],\n",
       "                        [ 0.2429,  1.0502, -0.2264,  1.8137]])"
      ]
     },
     "execution_count": 3,
     "metadata": {},
     "output_type": "execute_result"
    }
   ],
   "source": [
    "t"
   ]
  },
  {
   "cell_type": "code",
   "execution_count": 4,
   "id": "fd70b0b9",
   "metadata": {
    "execution": {
     "iopub.execute_input": "2023-02-23T09:30:00.352447Z",
     "iopub.status.busy": "2023-02-23T09:30:00.352114Z",
     "iopub.status.idle": "2023-02-23T09:30:00.357448Z",
     "shell.execute_reply": "2023-02-23T09:30:00.356879Z"
    }
   },
   "outputs": [
    {
     "data": {
      "text/plain": [
       "tensor([[-0.5859,  0.9555,  0.8731],\n",
       "        [ 0.5888,  1.0739,  0.2829]])"
      ]
     },
     "execution_count": 4,
     "metadata": {},
     "output_type": "execute_result"
    }
   ],
   "source": [
    "t.a"
   ]
  },
  {
   "cell_type": "code",
   "execution_count": 5,
   "id": "c18197bd",
   "metadata": {
    "execution": {
     "iopub.execute_input": "2023-02-23T09:30:00.359985Z",
     "iopub.status.busy": "2023-02-23T09:30:00.359653Z",
     "iopub.status.idle": "2023-02-23T09:30:05.088423Z",
     "shell.execute_reply": "2023-02-23T09:30:05.087684Z"
    }
   },
   "outputs": [
    {
     "name": "stdout",
     "output_type": "stream",
     "text": [
      "58.2 ns ± 0.044 ns per loop (mean ± std. dev. of 7 runs, 10,000,000 loops each)\n"
     ]
    }
   ],
   "source": [
    "%timeit t.a"
   ]
  },
  {
   "cell_type": "code",
   "execution_count": 6,
   "id": "bd52f867",
   "metadata": {
    "execution": {
     "iopub.execute_input": "2023-02-23T09:30:05.091283Z",
     "iopub.status.busy": "2023-02-23T09:30:05.090699Z",
     "iopub.status.idle": "2023-02-23T09:30:05.097695Z",
     "shell.execute_reply": "2023-02-23T09:30:05.096780Z"
    }
   },
   "outputs": [
    {
     "data": {
      "text/plain": [
       "<FastTreeValue 0x7f99989f7df0>\n",
       "├── 'a' --> tensor([[-0.2637,  0.1461, -0.0046],\n",
       "│                   [-1.1276,  1.5740, -1.2817]])\n",
       "└── 'x' --> <FastTreeValue 0x7f99989f7f70>\n",
       "    └── 'c' --> tensor([[ 1.6059, -0.3826,  0.8560,  0.4802],\n",
       "                        [-1.5158, -1.1513,  0.6918,  0.9642],\n",
       "                        [ 0.2429,  1.0502, -0.2264,  1.8137]])"
      ]
     },
     "execution_count": 6,
     "metadata": {},
     "output_type": "execute_result"
    }
   ],
   "source": [
    "new_value = torch.randn(2, 3)\n",
    "t.a = new_value\n",
    "\n",
    "t"
   ]
  },
  {
   "cell_type": "code",
   "execution_count": 7,
   "id": "bbe04d1c",
   "metadata": {
    "execution": {
     "iopub.execute_input": "2023-02-23T09:30:05.100001Z",
     "iopub.status.busy": "2023-02-23T09:30:05.099668Z",
     "iopub.status.idle": "2023-02-23T09:30:09.984468Z",
     "shell.execute_reply": "2023-02-23T09:30:09.983727Z"
    }
   },
   "outputs": [
    {
     "name": "stdout",
     "output_type": "stream",
     "text": [
      "60.2 ns ± 0.0335 ns per loop (mean ± std. dev. of 7 runs, 10,000,000 loops each)\n"
     ]
    }
   ],
   "source": [
    "%timeit t.a = new_value"
   ]
  },
  {
   "cell_type": "markdown",
   "id": "48c49731",
   "metadata": {},
   "source": [
    "### Tianshou Batch's Get and Set"
   ]
  },
  {
   "cell_type": "code",
   "execution_count": 8,
   "id": "f1bb14c1",
   "metadata": {
    "execution": {
     "iopub.execute_input": "2023-02-23T09:30:09.987634Z",
     "iopub.status.busy": "2023-02-23T09:30:09.987133Z",
     "iopub.status.idle": "2023-02-23T09:30:10.307936Z",
     "shell.execute_reply": "2023-02-23T09:30:10.306999Z"
    }
   },
   "outputs": [],
   "source": [
    "from tianshou.data import Batch\n",
    "\n",
    "b = Batch(**_TREE_DATA_2)"
   ]
  },
  {
   "cell_type": "code",
   "execution_count": 9,
   "id": "cb0777c3",
   "metadata": {
    "execution": {
     "iopub.execute_input": "2023-02-23T09:30:10.310863Z",
     "iopub.status.busy": "2023-02-23T09:30:10.310373Z",
     "iopub.status.idle": "2023-02-23T09:30:10.316465Z",
     "shell.execute_reply": "2023-02-23T09:30:10.315904Z"
    }
   },
   "outputs": [
    {
     "data": {
      "text/plain": [
       "Batch(\n",
       "    a: tensor([[-0.5859,  0.9555,  0.8731],\n",
       "               [ 0.5888,  1.0739,  0.2829]]),\n",
       "    x: Batch(\n",
       "           c: tensor([[ 1.6059, -0.3826,  0.8560,  0.4802],\n",
       "                      [-1.5158, -1.1513,  0.6918,  0.9642],\n",
       "                      [ 0.2429,  1.0502, -0.2264,  1.8137]]),\n",
       "       ),\n",
       ")"
      ]
     },
     "execution_count": 9,
     "metadata": {},
     "output_type": "execute_result"
    }
   ],
   "source": [
    "b"
   ]
  },
  {
   "cell_type": "code",
   "execution_count": 10,
   "id": "43ef8ea3",
   "metadata": {
    "execution": {
     "iopub.execute_input": "2023-02-23T09:30:10.318800Z",
     "iopub.status.busy": "2023-02-23T09:30:10.318458Z",
     "iopub.status.idle": "2023-02-23T09:30:10.323864Z",
     "shell.execute_reply": "2023-02-23T09:30:10.323284Z"
    }
   },
   "outputs": [
    {
     "data": {
      "text/plain": [
       "tensor([[-0.5859,  0.9555,  0.8731],\n",
       "        [ 0.5888,  1.0739,  0.2829]])"
      ]
     },
     "execution_count": 10,
     "metadata": {},
     "output_type": "execute_result"
    }
   ],
   "source": [
    "b.a"
   ]
  },
  {
   "cell_type": "code",
   "execution_count": 11,
   "id": "b785ab72",
   "metadata": {
    "execution": {
     "iopub.execute_input": "2023-02-23T09:30:10.326279Z",
     "iopub.status.busy": "2023-02-23T09:30:10.325955Z",
     "iopub.status.idle": "2023-02-23T09:30:14.961547Z",
     "shell.execute_reply": "2023-02-23T09:30:14.960811Z"
    }
   },
   "outputs": [
    {
     "name": "stdout",
     "output_type": "stream",
     "text": [
      "57.2 ns ± 0.012 ns per loop (mean ± std. dev. of 7 runs, 10,000,000 loops each)\n"
     ]
    }
   ],
   "source": [
    "%timeit b.a"
   ]
  },
  {
   "cell_type": "code",
   "execution_count": 12,
   "id": "ad54dc69",
   "metadata": {
    "execution": {
     "iopub.execute_input": "2023-02-23T09:30:14.964637Z",
     "iopub.status.busy": "2023-02-23T09:30:14.964165Z",
     "iopub.status.idle": "2023-02-23T09:30:14.970499Z",
     "shell.execute_reply": "2023-02-23T09:30:14.969916Z"
    }
   },
   "outputs": [
    {
     "data": {
      "text/plain": [
       "Batch(\n",
       "    a: tensor([[-0.2188,  0.7219,  1.5771],\n",
       "               [ 0.9133,  0.4214, -0.1858]]),\n",
       "    x: Batch(\n",
       "           c: tensor([[ 1.6059, -0.3826,  0.8560,  0.4802],\n",
       "                      [-1.5158, -1.1513,  0.6918,  0.9642],\n",
       "                      [ 0.2429,  1.0502, -0.2264,  1.8137]]),\n",
       "       ),\n",
       ")"
      ]
     },
     "execution_count": 12,
     "metadata": {},
     "output_type": "execute_result"
    }
   ],
   "source": [
    "new_value = torch.randn(2, 3)\n",
    "b.a = new_value\n",
    "\n",
    "b"
   ]
  },
  {
   "cell_type": "code",
   "execution_count": 13,
   "id": "29b1d0bf",
   "metadata": {
    "execution": {
     "iopub.execute_input": "2023-02-23T09:30:14.972936Z",
     "iopub.status.busy": "2023-02-23T09:30:14.972729Z",
     "iopub.status.idle": "2023-02-23T09:30:18.949784Z",
     "shell.execute_reply": "2023-02-23T09:30:18.949018Z"
    }
   },
   "outputs": [
    {
     "name": "stdout",
     "output_type": "stream",
     "text": [
      "490 ns ± 0.119 ns per loop (mean ± std. dev. of 7 runs, 1,000,000 loops each)\n"
     ]
    }
   ],
   "source": [
    "%timeit b.a = new_value"
   ]
  },
  {
   "cell_type": "markdown",
   "id": "b61ad1d0",
   "metadata": {},
   "source": [
    "## Initialization"
   ]
  },
  {
   "cell_type": "markdown",
   "id": "d70f0d54",
   "metadata": {},
   "source": [
    "### TreeValue's Initialization"
   ]
  },
  {
   "cell_type": "code",
   "execution_count": 14,
   "id": "d32a679b",
   "metadata": {
    "execution": {
     "iopub.execute_input": "2023-02-23T09:30:18.952551Z",
     "iopub.status.busy": "2023-02-23T09:30:18.952190Z",
     "iopub.status.idle": "2023-02-23T09:30:25.671657Z",
     "shell.execute_reply": "2023-02-23T09:30:25.670943Z"
    }
   },
   "outputs": [
    {
     "name": "stdout",
     "output_type": "stream",
     "text": [
      "827 ns ± 0.0663 ns per loop (mean ± std. dev. of 7 runs, 1,000,000 loops each)\n"
     ]
    }
   ],
   "source": [
    "%timeit FastTreeValue(_TREE_DATA_1)"
   ]
  },
  {
   "cell_type": "markdown",
   "id": "24f3707b",
   "metadata": {},
   "source": [
    "### Tianshou Batch's Initialization"
   ]
  },
  {
   "cell_type": "code",
   "execution_count": 15,
   "id": "ac3958df",
   "metadata": {
    "execution": {
     "iopub.execute_input": "2023-02-23T09:30:25.674827Z",
     "iopub.status.busy": "2023-02-23T09:30:25.674299Z",
     "iopub.status.idle": "2023-02-23T09:30:34.926740Z",
     "shell.execute_reply": "2023-02-23T09:30:34.925986Z"
    }
   },
   "outputs": [
    {
     "name": "stdout",
     "output_type": "stream",
     "text": [
      "11.4 µs ± 25.2 ns per loop (mean ± std. dev. of 7 runs, 100,000 loops each)\n"
     ]
    }
   ],
   "source": [
    "%timeit Batch(**_TREE_DATA_1)"
   ]
  },
  {
   "cell_type": "markdown",
   "id": "1ab82e2d",
   "metadata": {},
   "source": [
    "## Deep Copy Operation"
   ]
  },
  {
   "cell_type": "code",
   "execution_count": 16,
   "id": "210a9442",
   "metadata": {
    "execution": {
     "iopub.execute_input": "2023-02-23T09:30:34.929697Z",
     "iopub.status.busy": "2023-02-23T09:30:34.929392Z",
     "iopub.status.idle": "2023-02-23T09:30:34.933665Z",
     "shell.execute_reply": "2023-02-23T09:30:34.932693Z"
    }
   },
   "outputs": [],
   "source": [
    "import copy"
   ]
  },
  {
   "cell_type": "markdown",
   "id": "5a736274",
   "metadata": {},
   "source": [
    "### Deep Copy of TreeValue"
   ]
  },
  {
   "cell_type": "code",
   "execution_count": 17,
   "id": "f9bcadd6",
   "metadata": {
    "execution": {
     "iopub.execute_input": "2023-02-23T09:30:34.936446Z",
     "iopub.status.busy": "2023-02-23T09:30:34.935947Z",
     "iopub.status.idle": "2023-02-23T09:30:46.016431Z",
     "shell.execute_reply": "2023-02-23T09:30:46.015865Z"
    }
   },
   "outputs": [
    {
     "name": "stdout",
     "output_type": "stream",
     "text": [
      "136 µs ± 236 ns per loop (mean ± std. dev. of 7 runs, 10,000 loops each)\n"
     ]
    }
   ],
   "source": [
    "t3 = FastTreeValue(_TREE_DATA_3)\n",
    "%timeit copy.deepcopy(t3)"
   ]
  },
  {
   "cell_type": "markdown",
   "id": "bf8be7ea",
   "metadata": {},
   "source": [
    "### Deep Copy of Tianshou Batch"
   ]
  },
  {
   "cell_type": "code",
   "execution_count": 18,
   "id": "91998e6f",
   "metadata": {
    "execution": {
     "iopub.execute_input": "2023-02-23T09:30:46.022903Z",
     "iopub.status.busy": "2023-02-23T09:30:46.022292Z",
     "iopub.status.idle": "2023-02-23T09:30:57.460486Z",
     "shell.execute_reply": "2023-02-23T09:30:57.459931Z"
    }
   },
   "outputs": [
    {
     "name": "stdout",
     "output_type": "stream",
     "text": [
      "140 µs ± 837 ns per loop (mean ± std. dev. of 7 runs, 10,000 loops each)\n"
     ]
    }
   ],
   "source": [
    "b3 = Batch(**_TREE_DATA_3)\n",
    "%timeit copy.deepcopy(b3)"
   ]
  },
  {
   "cell_type": "markdown",
   "id": "223162fb",
   "metadata": {},
   "source": [
    "## Stack, Concat and Split Operation"
   ]
  },
  {
   "cell_type": "markdown",
   "id": "85fa4a73",
   "metadata": {},
   "source": [
    "### Performance of TreeValue"
   ]
  },
  {
   "cell_type": "code",
   "execution_count": 19,
   "id": "a0c2b697",
   "metadata": {
    "execution": {
     "iopub.execute_input": "2023-02-23T09:30:57.464287Z",
     "iopub.status.busy": "2023-02-23T09:30:57.463103Z",
     "iopub.status.idle": "2023-02-23T09:30:57.467562Z",
     "shell.execute_reply": "2023-02-23T09:30:57.467041Z"
    }
   },
   "outputs": [],
   "source": [
    "trees = [FastTreeValue(_TREE_DATA_2) for _ in range(8)]"
   ]
  },
  {
   "cell_type": "code",
   "execution_count": 20,
   "id": "017ea5a5",
   "metadata": {
    "execution": {
     "iopub.execute_input": "2023-02-23T09:30:57.471020Z",
     "iopub.status.busy": "2023-02-23T09:30:57.469973Z",
     "iopub.status.idle": "2023-02-23T09:30:57.478697Z",
     "shell.execute_reply": "2023-02-23T09:30:57.478170Z"
    }
   },
   "outputs": [
    {
     "data": {
      "text/plain": [
       "<FastTreeValue 0x7f9962bcf280>\n",
       "├── 'a' --> tensor([[[-0.5859,  0.9555,  0.8731],\n",
       "│                    [ 0.5888,  1.0739,  0.2829]],\n",
       "│           \n",
       "│                   [[-0.5859,  0.9555,  0.8731],\n",
       "│                    [ 0.5888,  1.0739,  0.2829]],\n",
       "│           \n",
       "│                   [[-0.5859,  0.9555,  0.8731],\n",
       "│                    [ 0.5888,  1.0739,  0.2829]],\n",
       "│           \n",
       "│                   [[-0.5859,  0.9555,  0.8731],\n",
       "│                    [ 0.5888,  1.0739,  0.2829]],\n",
       "│           \n",
       "│                   [[-0.5859,  0.9555,  0.8731],\n",
       "│                    [ 0.5888,  1.0739,  0.2829]],\n",
       "│           \n",
       "│                   [[-0.5859,  0.9555,  0.8731],\n",
       "│                    [ 0.5888,  1.0739,  0.2829]],\n",
       "│           \n",
       "│                   [[-0.5859,  0.9555,  0.8731],\n",
       "│                    [ 0.5888,  1.0739,  0.2829]],\n",
       "│           \n",
       "│                   [[-0.5859,  0.9555,  0.8731],\n",
       "│                    [ 0.5888,  1.0739,  0.2829]]])\n",
       "└── 'x' --> <FastTreeValue 0x7f98eec75be0>\n",
       "    └── 'c' --> tensor([[[ 1.6059, -0.3826,  0.8560,  0.4802],\n",
       "                         [-1.5158, -1.1513,  0.6918,  0.9642],\n",
       "                         [ 0.2429,  1.0502, -0.2264,  1.8137]],\n",
       "                \n",
       "                        [[ 1.6059, -0.3826,  0.8560,  0.4802],\n",
       "                         [-1.5158, -1.1513,  0.6918,  0.9642],\n",
       "                         [ 0.2429,  1.0502, -0.2264,  1.8137]],\n",
       "                \n",
       "                        [[ 1.6059, -0.3826,  0.8560,  0.4802],\n",
       "                         [-1.5158, -1.1513,  0.6918,  0.9642],\n",
       "                         [ 0.2429,  1.0502, -0.2264,  1.8137]],\n",
       "                \n",
       "                        [[ 1.6059, -0.3826,  0.8560,  0.4802],\n",
       "                         [-1.5158, -1.1513,  0.6918,  0.9642],\n",
       "                         [ 0.2429,  1.0502, -0.2264,  1.8137]],\n",
       "                \n",
       "                        [[ 1.6059, -0.3826,  0.8560,  0.4802],\n",
       "                         [-1.5158, -1.1513,  0.6918,  0.9642],\n",
       "                         [ 0.2429,  1.0502, -0.2264,  1.8137]],\n",
       "                \n",
       "                        [[ 1.6059, -0.3826,  0.8560,  0.4802],\n",
       "                         [-1.5158, -1.1513,  0.6918,  0.9642],\n",
       "                         [ 0.2429,  1.0502, -0.2264,  1.8137]],\n",
       "                \n",
       "                        [[ 1.6059, -0.3826,  0.8560,  0.4802],\n",
       "                         [-1.5158, -1.1513,  0.6918,  0.9642],\n",
       "                         [ 0.2429,  1.0502, -0.2264,  1.8137]],\n",
       "                \n",
       "                        [[ 1.6059, -0.3826,  0.8560,  0.4802],\n",
       "                         [-1.5158, -1.1513,  0.6918,  0.9642],\n",
       "                         [ 0.2429,  1.0502, -0.2264,  1.8137]]])"
      ]
     },
     "execution_count": 20,
     "metadata": {},
     "output_type": "execute_result"
    }
   ],
   "source": [
    "t_stack = FastTreeValue.func(subside=True)(torch.stack)\n",
    "\n",
    "t_stack(trees)"
   ]
  },
  {
   "cell_type": "code",
   "execution_count": 21,
   "id": "f8b3f415",
   "metadata": {
    "execution": {
     "iopub.execute_input": "2023-02-23T09:30:57.481506Z",
     "iopub.status.busy": "2023-02-23T09:30:57.481016Z",
     "iopub.status.idle": "2023-02-23T09:31:00.076479Z",
     "shell.execute_reply": "2023-02-23T09:31:00.075740Z"
    }
   },
   "outputs": [
    {
     "name": "stdout",
     "output_type": "stream",
     "text": [
      "31.9 µs ± 53.6 ns per loop (mean ± std. dev. of 7 runs, 10,000 loops each)\n"
     ]
    }
   ],
   "source": [
    "%timeit t_stack(trees)"
   ]
  },
  {
   "cell_type": "code",
   "execution_count": 22,
   "id": "94b56771",
   "metadata": {
    "execution": {
     "iopub.execute_input": "2023-02-23T09:31:00.079360Z",
     "iopub.status.busy": "2023-02-23T09:31:00.079003Z",
     "iopub.status.idle": "2023-02-23T09:31:00.087650Z",
     "shell.execute_reply": "2023-02-23T09:31:00.087064Z"
    }
   },
   "outputs": [
    {
     "data": {
      "text/plain": [
       "<FastTreeValue 0x7f98ee697f10>\n",
       "├── 'a' --> tensor([[-0.5859,  0.9555,  0.8731],\n",
       "│                   [ 0.5888,  1.0739,  0.2829],\n",
       "│                   [-0.5859,  0.9555,  0.8731],\n",
       "│                   [ 0.5888,  1.0739,  0.2829],\n",
       "│                   [-0.5859,  0.9555,  0.8731],\n",
       "│                   [ 0.5888,  1.0739,  0.2829],\n",
       "│                   [-0.5859,  0.9555,  0.8731],\n",
       "│                   [ 0.5888,  1.0739,  0.2829],\n",
       "│                   [-0.5859,  0.9555,  0.8731],\n",
       "│                   [ 0.5888,  1.0739,  0.2829],\n",
       "│                   [-0.5859,  0.9555,  0.8731],\n",
       "│                   [ 0.5888,  1.0739,  0.2829],\n",
       "│                   [-0.5859,  0.9555,  0.8731],\n",
       "│                   [ 0.5888,  1.0739,  0.2829],\n",
       "│                   [-0.5859,  0.9555,  0.8731],\n",
       "│                   [ 0.5888,  1.0739,  0.2829]])\n",
       "└── 'x' --> <FastTreeValue 0x7f9962bcf910>\n",
       "    └── 'c' --> tensor([[ 1.6059, -0.3826,  0.8560,  0.4802],\n",
       "                        [-1.5158, -1.1513,  0.6918,  0.9642],\n",
       "                        [ 0.2429,  1.0502, -0.2264,  1.8137],\n",
       "                        [ 1.6059, -0.3826,  0.8560,  0.4802],\n",
       "                        [-1.5158, -1.1513,  0.6918,  0.9642],\n",
       "                        [ 0.2429,  1.0502, -0.2264,  1.8137],\n",
       "                        [ 1.6059, -0.3826,  0.8560,  0.4802],\n",
       "                        [-1.5158, -1.1513,  0.6918,  0.9642],\n",
       "                        [ 0.2429,  1.0502, -0.2264,  1.8137],\n",
       "                        [ 1.6059, -0.3826,  0.8560,  0.4802],\n",
       "                        [-1.5158, -1.1513,  0.6918,  0.9642],\n",
       "                        [ 0.2429,  1.0502, -0.2264,  1.8137],\n",
       "                        [ 1.6059, -0.3826,  0.8560,  0.4802],\n",
       "                        [-1.5158, -1.1513,  0.6918,  0.9642],\n",
       "                        [ 0.2429,  1.0502, -0.2264,  1.8137],\n",
       "                        [ 1.6059, -0.3826,  0.8560,  0.4802],\n",
       "                        [-1.5158, -1.1513,  0.6918,  0.9642],\n",
       "                        [ 0.2429,  1.0502, -0.2264,  1.8137],\n",
       "                        [ 1.6059, -0.3826,  0.8560,  0.4802],\n",
       "                        [-1.5158, -1.1513,  0.6918,  0.9642],\n",
       "                        [ 0.2429,  1.0502, -0.2264,  1.8137],\n",
       "                        [ 1.6059, -0.3826,  0.8560,  0.4802],\n",
       "                        [-1.5158, -1.1513,  0.6918,  0.9642],\n",
       "                        [ 0.2429,  1.0502, -0.2264,  1.8137]])"
      ]
     },
     "execution_count": 22,
     "metadata": {},
     "output_type": "execute_result"
    }
   ],
   "source": [
    "t_cat = FastTreeValue.func(subside=True)(torch.cat)\n",
    "\n",
    "t_cat(trees)"
   ]
  },
  {
   "cell_type": "code",
   "execution_count": 23,
   "id": "5e9c06a6",
   "metadata": {
    "execution": {
     "iopub.execute_input": "2023-02-23T09:31:00.090404Z",
     "iopub.status.busy": "2023-02-23T09:31:00.089916Z",
     "iopub.status.idle": "2023-02-23T09:31:02.546945Z",
     "shell.execute_reply": "2023-02-23T09:31:02.546193Z"
    }
   },
   "outputs": [
    {
     "name": "stdout",
     "output_type": "stream",
     "text": [
      "30.2 µs ± 52.5 ns per loop (mean ± std. dev. of 7 runs, 10,000 loops each)\n"
     ]
    }
   ],
   "source": [
    "%timeit t_cat(trees)"
   ]
  },
  {
   "cell_type": "code",
   "execution_count": 24,
   "id": "a3ab5c8f",
   "metadata": {
    "execution": {
     "iopub.execute_input": "2023-02-23T09:31:02.549869Z",
     "iopub.status.busy": "2023-02-23T09:31:02.549496Z",
     "iopub.status.idle": "2023-02-23T09:31:07.203983Z",
     "shell.execute_reply": "2023-02-23T09:31:07.203236Z"
    }
   },
   "outputs": [
    {
     "name": "stdout",
     "output_type": "stream",
     "text": [
      "57.3 µs ± 109 ns per loop (mean ± std. dev. of 7 runs, 10,000 loops each)\n"
     ]
    }
   ],
   "source": [
    "t_split = FastTreeValue.func(rise=True)(torch.split)\n",
    "tree = FastTreeValue({\n",
    "    'obs': torch.randn(8, 4, 84, 84),\n",
    "    'action': torch.randint(0, 6, size=(8, 1,)),\n",
    "    'reward': torch.rand(8, 1),\n",
    "})\n",
    "\n",
    "%timeit t_split(tree, 1)"
   ]
  },
  {
   "cell_type": "markdown",
   "id": "31c3ec0b",
   "metadata": {},
   "source": [
    "### Performance of Tianshou Batch"
   ]
  },
  {
   "cell_type": "code",
   "execution_count": 25,
   "id": "9ead828a",
   "metadata": {
    "execution": {
     "iopub.execute_input": "2023-02-23T09:31:07.207030Z",
     "iopub.status.busy": "2023-02-23T09:31:07.206673Z",
     "iopub.status.idle": "2023-02-23T09:31:07.214536Z",
     "shell.execute_reply": "2023-02-23T09:31:07.213956Z"
    }
   },
   "outputs": [
    {
     "data": {
      "text/plain": [
       "Batch(\n",
       "    x: Batch(\n",
       "           c: tensor([[[ 1.6059, -0.3826,  0.8560,  0.4802],\n",
       "                       [-1.5158, -1.1513,  0.6918,  0.9642],\n",
       "                       [ 0.2429,  1.0502, -0.2264,  1.8137]],\n",
       "              \n",
       "                      [[ 1.6059, -0.3826,  0.8560,  0.4802],\n",
       "                       [-1.5158, -1.1513,  0.6918,  0.9642],\n",
       "                       [ 0.2429,  1.0502, -0.2264,  1.8137]],\n",
       "              \n",
       "                      [[ 1.6059, -0.3826,  0.8560,  0.4802],\n",
       "                       [-1.5158, -1.1513,  0.6918,  0.9642],\n",
       "                       [ 0.2429,  1.0502, -0.2264,  1.8137]],\n",
       "              \n",
       "                      [[ 1.6059, -0.3826,  0.8560,  0.4802],\n",
       "                       [-1.5158, -1.1513,  0.6918,  0.9642],\n",
       "                       [ 0.2429,  1.0502, -0.2264,  1.8137]],\n",
       "              \n",
       "                      [[ 1.6059, -0.3826,  0.8560,  0.4802],\n",
       "                       [-1.5158, -1.1513,  0.6918,  0.9642],\n",
       "                       [ 0.2429,  1.0502, -0.2264,  1.8137]],\n",
       "              \n",
       "                      [[ 1.6059, -0.3826,  0.8560,  0.4802],\n",
       "                       [-1.5158, -1.1513,  0.6918,  0.9642],\n",
       "                       [ 0.2429,  1.0502, -0.2264,  1.8137]],\n",
       "              \n",
       "                      [[ 1.6059, -0.3826,  0.8560,  0.4802],\n",
       "                       [-1.5158, -1.1513,  0.6918,  0.9642],\n",
       "                       [ 0.2429,  1.0502, -0.2264,  1.8137]],\n",
       "              \n",
       "                      [[ 1.6059, -0.3826,  0.8560,  0.4802],\n",
       "                       [-1.5158, -1.1513,  0.6918,  0.9642],\n",
       "                       [ 0.2429,  1.0502, -0.2264,  1.8137]]]),\n",
       "       ),\n",
       "    a: tensor([[[-0.5859,  0.9555,  0.8731],\n",
       "                [ 0.5888,  1.0739,  0.2829]],\n",
       "       \n",
       "               [[-0.5859,  0.9555,  0.8731],\n",
       "                [ 0.5888,  1.0739,  0.2829]],\n",
       "       \n",
       "               [[-0.5859,  0.9555,  0.8731],\n",
       "                [ 0.5888,  1.0739,  0.2829]],\n",
       "       \n",
       "               [[-0.5859,  0.9555,  0.8731],\n",
       "                [ 0.5888,  1.0739,  0.2829]],\n",
       "       \n",
       "               [[-0.5859,  0.9555,  0.8731],\n",
       "                [ 0.5888,  1.0739,  0.2829]],\n",
       "       \n",
       "               [[-0.5859,  0.9555,  0.8731],\n",
       "                [ 0.5888,  1.0739,  0.2829]],\n",
       "       \n",
       "               [[-0.5859,  0.9555,  0.8731],\n",
       "                [ 0.5888,  1.0739,  0.2829]],\n",
       "       \n",
       "               [[-0.5859,  0.9555,  0.8731],\n",
       "                [ 0.5888,  1.0739,  0.2829]]]),\n",
       ")"
      ]
     },
     "execution_count": 25,
     "metadata": {},
     "output_type": "execute_result"
    }
   ],
   "source": [
    "batches = [Batch(**_TREE_DATA_2) for _ in range(8)]\n",
    "\n",
    "Batch.stack(batches)"
   ]
  },
  {
   "cell_type": "code",
   "execution_count": 26,
   "id": "ec9037a3",
   "metadata": {
    "execution": {
     "iopub.execute_input": "2023-02-23T09:31:07.217314Z",
     "iopub.status.busy": "2023-02-23T09:31:07.216840Z",
     "iopub.status.idle": "2023-02-23T09:31:13.630046Z",
     "shell.execute_reply": "2023-02-23T09:31:13.629350Z"
    }
   },
   "outputs": [
    {
     "name": "stdout",
     "output_type": "stream",
     "text": [
      "78.9 µs ± 64.8 ns per loop (mean ± std. dev. of 7 runs, 10,000 loops each)\n"
     ]
    }
   ],
   "source": [
    "%timeit Batch.stack(batches)"
   ]
  },
  {
   "cell_type": "code",
   "execution_count": 27,
   "id": "cb8ab77e",
   "metadata": {
    "execution": {
     "iopub.execute_input": "2023-02-23T09:31:13.632878Z",
     "iopub.status.busy": "2023-02-23T09:31:13.632525Z",
     "iopub.status.idle": "2023-02-23T09:31:13.639840Z",
     "shell.execute_reply": "2023-02-23T09:31:13.639269Z"
    }
   },
   "outputs": [
    {
     "data": {
      "text/plain": [
       "Batch(\n",
       "    x: Batch(\n",
       "           c: tensor([[ 1.6059, -0.3826,  0.8560,  0.4802],\n",
       "                      [-1.5158, -1.1513,  0.6918,  0.9642],\n",
       "                      [ 0.2429,  1.0502, -0.2264,  1.8137],\n",
       "                      [ 1.6059, -0.3826,  0.8560,  0.4802],\n",
       "                      [-1.5158, -1.1513,  0.6918,  0.9642],\n",
       "                      [ 0.2429,  1.0502, -0.2264,  1.8137],\n",
       "                      [ 1.6059, -0.3826,  0.8560,  0.4802],\n",
       "                      [-1.5158, -1.1513,  0.6918,  0.9642],\n",
       "                      [ 0.2429,  1.0502, -0.2264,  1.8137],\n",
       "                      [ 1.6059, -0.3826,  0.8560,  0.4802],\n",
       "                      [-1.5158, -1.1513,  0.6918,  0.9642],\n",
       "                      [ 0.2429,  1.0502, -0.2264,  1.8137],\n",
       "                      [ 1.6059, -0.3826,  0.8560,  0.4802],\n",
       "                      [-1.5158, -1.1513,  0.6918,  0.9642],\n",
       "                      [ 0.2429,  1.0502, -0.2264,  1.8137],\n",
       "                      [ 1.6059, -0.3826,  0.8560,  0.4802],\n",
       "                      [-1.5158, -1.1513,  0.6918,  0.9642],\n",
       "                      [ 0.2429,  1.0502, -0.2264,  1.8137],\n",
       "                      [ 1.6059, -0.3826,  0.8560,  0.4802],\n",
       "                      [-1.5158, -1.1513,  0.6918,  0.9642],\n",
       "                      [ 0.2429,  1.0502, -0.2264,  1.8137],\n",
       "                      [ 1.6059, -0.3826,  0.8560,  0.4802],\n",
       "                      [-1.5158, -1.1513,  0.6918,  0.9642],\n",
       "                      [ 0.2429,  1.0502, -0.2264,  1.8137]]),\n",
       "       ),\n",
       "    a: tensor([[-0.5859,  0.9555,  0.8731],\n",
       "               [ 0.5888,  1.0739,  0.2829],\n",
       "               [-0.5859,  0.9555,  0.8731],\n",
       "               [ 0.5888,  1.0739,  0.2829],\n",
       "               [-0.5859,  0.9555,  0.8731],\n",
       "               [ 0.5888,  1.0739,  0.2829],\n",
       "               [-0.5859,  0.9555,  0.8731],\n",
       "               [ 0.5888,  1.0739,  0.2829],\n",
       "               [-0.5859,  0.9555,  0.8731],\n",
       "               [ 0.5888,  1.0739,  0.2829],\n",
       "               [-0.5859,  0.9555,  0.8731],\n",
       "               [ 0.5888,  1.0739,  0.2829],\n",
       "               [-0.5859,  0.9555,  0.8731],\n",
       "               [ 0.5888,  1.0739,  0.2829],\n",
       "               [-0.5859,  0.9555,  0.8731],\n",
       "               [ 0.5888,  1.0739,  0.2829]]),\n",
       ")"
      ]
     },
     "execution_count": 27,
     "metadata": {},
     "output_type": "execute_result"
    }
   ],
   "source": [
    "Batch.cat(batches)"
   ]
  },
  {
   "cell_type": "code",
   "execution_count": 28,
   "id": "18dfb045",
   "metadata": {
    "execution": {
     "iopub.execute_input": "2023-02-23T09:31:13.642237Z",
     "iopub.status.busy": "2023-02-23T09:31:13.641895Z",
     "iopub.status.idle": "2023-02-23T09:31:25.410967Z",
     "shell.execute_reply": "2023-02-23T09:31:25.410221Z"
    }
   },
   "outputs": [
    {
     "name": "stdout",
     "output_type": "stream",
     "text": [
      "145 µs ± 146 ns per loop (mean ± std. dev. of 7 runs, 10,000 loops each)\n"
     ]
    }
   ],
   "source": [
    "%timeit Batch.cat(batches)"
   ]
  },
  {
   "cell_type": "code",
   "execution_count": 29,
   "id": "c6688e51",
   "metadata": {
    "execution": {
     "iopub.execute_input": "2023-02-23T09:31:25.414124Z",
     "iopub.status.busy": "2023-02-23T09:31:25.413601Z",
     "iopub.status.idle": "2023-02-23T09:31:27.882544Z",
     "shell.execute_reply": "2023-02-23T09:31:27.881871Z"
    }
   },
   "outputs": [
    {
     "name": "stdout",
     "output_type": "stream",
     "text": [
      "303 µs ± 548 ns per loop (mean ± std. dev. of 7 runs, 1,000 loops each)\n"
     ]
    }
   ],
   "source": [
    "batch = Batch({\n",
    "    'obs': torch.randn(8, 4, 84, 84),\n",
    "    'action': torch.randint(0, 6, size=(8, 1,)),\n",
    "    'reward': torch.rand(8, 1)}\n",
    ")\n",
    "\n",
    "%timeit list(Batch.split(batch, 1, shuffle=False, merge_last=True))"
   ]
  },
  {
   "cell_type": "code",
   "execution_count": null,
   "id": "2539fbd9",
   "metadata": {},
   "outputs": [],
   "source": []
  }
 ],
 "metadata": {
  "kernelspec": {
   "display_name": "Python 3 (ipykernel)",
   "language": "python",
   "name": "python3"
  },
  "language_info": {
   "codemirror_mode": {
    "name": "ipython",
    "version": 3
   },
   "file_extension": ".py",
   "mimetype": "text/x-python",
   "name": "python",
   "nbconvert_exporter": "python",
   "pygments_lexer": "ipython3",
   "version": "3.8.16"
  }
 },
 "nbformat": 4,
 "nbformat_minor": 5
}
