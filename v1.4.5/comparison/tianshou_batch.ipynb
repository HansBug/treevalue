{
 "cells": [
  {
   "cell_type": "markdown",
   "id": "9d39d946",
   "metadata": {},
   "source": [
    "# Comparison Between TreeValue and Tianshou Batch"
   ]
  },
  {
   "cell_type": "markdown",
   "id": "3c6db2d4",
   "metadata": {},
   "source": [
    "In this section, we will take a look at the feature and performance of the [Tianshou Batch](https://github.com/thu-ml/tianshou) library, which is developed by Tsinghua Machine Learning Group."
   ]
  },
  {
   "cell_type": "markdown",
   "id": "069361b0",
   "metadata": {},
   "source": [
    "Before starting the comparison, let us define some thing."
   ]
  },
  {
   "cell_type": "code",
   "execution_count": 1,
   "id": "06fc8d26",
   "metadata": {
    "execution": {
     "iopub.execute_input": "2023-02-26T15:51:45.986279Z",
     "iopub.status.busy": "2023-02-26T15:51:45.985750Z",
     "iopub.status.idle": "2023-02-26T15:51:46.918124Z",
     "shell.execute_reply": "2023-02-26T15:51:46.917400Z"
    }
   },
   "outputs": [
    {
     "name": "stderr",
     "output_type": "stream",
     "text": [
      "/opt/hostedtoolcache/Python/3.8.16/x64/lib/python3.8/site-packages/tqdm/auto.py:22: TqdmWarning: IProgress not found. Please update jupyter and ipywidgets. See https://ipywidgets.readthedocs.io/en/stable/user_install.html\n",
      "  from .autonotebook import tqdm as notebook_tqdm\n"
     ]
    }
   ],
   "source": [
    "import torch \n",
    "\n",
    "_TREE_DATA_1 = {'a': 1, 'b': 2, 'x': {'c': 3, 'd': 4}}\n",
    "_TREE_DATA_2 = {\n",
    "    'a': torch.randn(2, 3), \n",
    "    'x': {\n",
    "        'c': torch.randn(3, 4)\n",
    "    },\n",
    "}\n",
    "_TREE_DATA_3 = {\n",
    "    'obs': torch.randn(4, 84, 84),\n",
    "    'action': torch.randint(0, 6, size=(1,)),\n",
    "    'reward': torch.rand(1),\n",
    "}"
   ]
  },
  {
   "cell_type": "markdown",
   "id": "83461b25",
   "metadata": {},
   "source": [
    "## Read and Write Operation"
   ]
  },
  {
   "cell_type": "markdown",
   "id": "067b3f73",
   "metadata": {},
   "source": [
    "Reading and writing are the two most common operations in the tree data structure based on the data model (TreeValue and Tianshou Batch both belong to this type), so this section will compare the reading and writing performance of these two libraries."
   ]
  },
  {
   "cell_type": "markdown",
   "id": "5d09a5b7",
   "metadata": {},
   "source": [
    "### TreeValue's Get and Set"
   ]
  },
  {
   "cell_type": "code",
   "execution_count": 2,
   "id": "9519c4bb",
   "metadata": {
    "execution": {
     "iopub.execute_input": "2023-02-26T15:51:46.921770Z",
     "iopub.status.busy": "2023-02-26T15:51:46.921165Z",
     "iopub.status.idle": "2023-02-26T15:51:46.954478Z",
     "shell.execute_reply": "2023-02-26T15:51:46.953838Z"
    }
   },
   "outputs": [],
   "source": [
    "from treevalue import FastTreeValue\n",
    "\n",
    "t = FastTreeValue(_TREE_DATA_2)"
   ]
  },
  {
   "cell_type": "code",
   "execution_count": 3,
   "id": "11c37677",
   "metadata": {
    "execution": {
     "iopub.execute_input": "2023-02-26T15:51:46.957478Z",
     "iopub.status.busy": "2023-02-26T15:51:46.956933Z",
     "iopub.status.idle": "2023-02-26T15:51:46.966127Z",
     "shell.execute_reply": "2023-02-26T15:51:46.965515Z"
    }
   },
   "outputs": [
    {
     "data": {
      "text/plain": [
       "<FastTreeValue 0x7f63f8216be0>\n",
       "├── 'a' --> tensor([[ 0.9099,  0.8847,  1.4803],\n",
       "│                   [-0.0019, -0.1528, -0.4568]])\n",
       "└── 'x' --> <FastTreeValue 0x7f63f8216b80>\n",
       "    └── 'c' --> tensor([[ 1.0141, -0.1235, -0.9643, -0.7970],\n",
       "                        [ 0.3444, -0.8224,  0.3015,  0.3680],\n",
       "                        [ 1.8830, -0.0592, -1.2137, -0.6014]])"
      ]
     },
     "execution_count": 3,
     "metadata": {},
     "output_type": "execute_result"
    }
   ],
   "source": [
    "t"
   ]
  },
  {
   "cell_type": "code",
   "execution_count": 4,
   "id": "fd70b0b9",
   "metadata": {
    "execution": {
     "iopub.execute_input": "2023-02-26T15:51:46.969023Z",
     "iopub.status.busy": "2023-02-26T15:51:46.968526Z",
     "iopub.status.idle": "2023-02-26T15:51:46.974118Z",
     "shell.execute_reply": "2023-02-26T15:51:46.973527Z"
    }
   },
   "outputs": [
    {
     "data": {
      "text/plain": [
       "tensor([[ 0.9099,  0.8847,  1.4803],\n",
       "        [-0.0019, -0.1528, -0.4568]])"
      ]
     },
     "execution_count": 4,
     "metadata": {},
     "output_type": "execute_result"
    }
   ],
   "source": [
    "t.a"
   ]
  },
  {
   "cell_type": "code",
   "execution_count": 5,
   "id": "c18197bd",
   "metadata": {
    "execution": {
     "iopub.execute_input": "2023-02-26T15:51:46.976798Z",
     "iopub.status.busy": "2023-02-26T15:51:46.976468Z",
     "iopub.status.idle": "2023-02-26T15:51:51.914916Z",
     "shell.execute_reply": "2023-02-26T15:51:51.914157Z"
    }
   },
   "outputs": [
    {
     "name": "stdout",
     "output_type": "stream",
     "text": [
      "60.8 ns ± 0.0436 ns per loop (mean ± std. dev. of 7 runs, 10,000,000 loops each)\n"
     ]
    }
   ],
   "source": [
    "%timeit t.a"
   ]
  },
  {
   "cell_type": "code",
   "execution_count": 6,
   "id": "bd52f867",
   "metadata": {
    "execution": {
     "iopub.execute_input": "2023-02-26T15:51:51.917874Z",
     "iopub.status.busy": "2023-02-26T15:51:51.917316Z",
     "iopub.status.idle": "2023-02-26T15:51:51.923939Z",
     "shell.execute_reply": "2023-02-26T15:51:51.923331Z"
    }
   },
   "outputs": [
    {
     "data": {
      "text/plain": [
       "<FastTreeValue 0x7f63f8216be0>\n",
       "├── 'a' --> tensor([[ 1.3572,  0.7325,  0.7715],\n",
       "│                   [-0.1579, -0.6597, -0.1823]])\n",
       "└── 'x' --> <FastTreeValue 0x7f63f8216b80>\n",
       "    └── 'c' --> tensor([[ 1.0141, -0.1235, -0.9643, -0.7970],\n",
       "                        [ 0.3444, -0.8224,  0.3015,  0.3680],\n",
       "                        [ 1.8830, -0.0592, -1.2137, -0.6014]])"
      ]
     },
     "execution_count": 6,
     "metadata": {},
     "output_type": "execute_result"
    }
   ],
   "source": [
    "new_value = torch.randn(2, 3)\n",
    "t.a = new_value\n",
    "\n",
    "t"
   ]
  },
  {
   "cell_type": "code",
   "execution_count": 7,
   "id": "bbe04d1c",
   "metadata": {
    "execution": {
     "iopub.execute_input": "2023-02-26T15:51:51.926410Z",
     "iopub.status.busy": "2023-02-26T15:51:51.926055Z",
     "iopub.status.idle": "2023-02-26T15:51:57.146876Z",
     "shell.execute_reply": "2023-02-26T15:51:57.146127Z"
    }
   },
   "outputs": [
    {
     "name": "stdout",
     "output_type": "stream",
     "text": [
      "64.8 ns ± 0.0527 ns per loop (mean ± std. dev. of 7 runs, 10,000,000 loops each)\n"
     ]
    }
   ],
   "source": [
    "%timeit t.a = new_value"
   ]
  },
  {
   "cell_type": "markdown",
   "id": "48c49731",
   "metadata": {},
   "source": [
    "### Tianshou Batch's Get and Set"
   ]
  },
  {
   "cell_type": "code",
   "execution_count": 8,
   "id": "f1bb14c1",
   "metadata": {
    "execution": {
     "iopub.execute_input": "2023-02-26T15:51:57.149828Z",
     "iopub.status.busy": "2023-02-26T15:51:57.149286Z",
     "iopub.status.idle": "2023-02-26T15:51:57.497917Z",
     "shell.execute_reply": "2023-02-26T15:51:57.497213Z"
    }
   },
   "outputs": [],
   "source": [
    "from tianshou.data import Batch\n",
    "\n",
    "b = Batch(**_TREE_DATA_2)"
   ]
  },
  {
   "cell_type": "code",
   "execution_count": 9,
   "id": "cb0777c3",
   "metadata": {
    "execution": {
     "iopub.execute_input": "2023-02-26T15:51:57.501040Z",
     "iopub.status.busy": "2023-02-26T15:51:57.500462Z",
     "iopub.status.idle": "2023-02-26T15:51:57.505999Z",
     "shell.execute_reply": "2023-02-26T15:51:57.505372Z"
    }
   },
   "outputs": [
    {
     "data": {
      "text/plain": [
       "Batch(\n",
       "    a: tensor([[ 0.9099,  0.8847,  1.4803],\n",
       "               [-0.0019, -0.1528, -0.4568]]),\n",
       "    x: Batch(\n",
       "           c: tensor([[ 1.0141, -0.1235, -0.9643, -0.7970],\n",
       "                      [ 0.3444, -0.8224,  0.3015,  0.3680],\n",
       "                      [ 1.8830, -0.0592, -1.2137, -0.6014]]),\n",
       "       ),\n",
       ")"
      ]
     },
     "execution_count": 9,
     "metadata": {},
     "output_type": "execute_result"
    }
   ],
   "source": [
    "b"
   ]
  },
  {
   "cell_type": "code",
   "execution_count": 10,
   "id": "43ef8ea3",
   "metadata": {
    "execution": {
     "iopub.execute_input": "2023-02-26T15:51:57.508749Z",
     "iopub.status.busy": "2023-02-26T15:51:57.508143Z",
     "iopub.status.idle": "2023-02-26T15:51:57.513027Z",
     "shell.execute_reply": "2023-02-26T15:51:57.512397Z"
    }
   },
   "outputs": [
    {
     "data": {
      "text/plain": [
       "tensor([[ 0.9099,  0.8847,  1.4803],\n",
       "        [-0.0019, -0.1528, -0.4568]])"
      ]
     },
     "execution_count": 10,
     "metadata": {},
     "output_type": "execute_result"
    }
   ],
   "source": [
    "b.a"
   ]
  },
  {
   "cell_type": "code",
   "execution_count": 11,
   "id": "b785ab72",
   "metadata": {
    "execution": {
     "iopub.execute_input": "2023-02-26T15:51:57.515523Z",
     "iopub.status.busy": "2023-02-26T15:51:57.515166Z",
     "iopub.status.idle": "2023-02-26T15:52:02.096518Z",
     "shell.execute_reply": "2023-02-26T15:52:02.095785Z"
    }
   },
   "outputs": [
    {
     "name": "stdout",
     "output_type": "stream",
     "text": [
      "56.5 ns ± 0.00774 ns per loop (mean ± std. dev. of 7 runs, 10,000,000 loops each)\n"
     ]
    }
   ],
   "source": [
    "%timeit b.a"
   ]
  },
  {
   "cell_type": "code",
   "execution_count": 12,
   "id": "ad54dc69",
   "metadata": {
    "execution": {
     "iopub.execute_input": "2023-02-26T15:52:02.099491Z",
     "iopub.status.busy": "2023-02-26T15:52:02.098906Z",
     "iopub.status.idle": "2023-02-26T15:52:02.104712Z",
     "shell.execute_reply": "2023-02-26T15:52:02.104076Z"
    }
   },
   "outputs": [
    {
     "data": {
      "text/plain": [
       "Batch(\n",
       "    a: tensor([[-1.0022,  0.2852, -1.4033],\n",
       "               [ 1.5627,  1.6598, -0.2629]]),\n",
       "    x: Batch(\n",
       "           c: tensor([[ 1.0141, -0.1235, -0.9643, -0.7970],\n",
       "                      [ 0.3444, -0.8224,  0.3015,  0.3680],\n",
       "                      [ 1.8830, -0.0592, -1.2137, -0.6014]]),\n",
       "       ),\n",
       ")"
      ]
     },
     "execution_count": 12,
     "metadata": {},
     "output_type": "execute_result"
    }
   ],
   "source": [
    "new_value = torch.randn(2, 3)\n",
    "b.a = new_value\n",
    "\n",
    "b"
   ]
  },
  {
   "cell_type": "code",
   "execution_count": 13,
   "id": "29b1d0bf",
   "metadata": {
    "execution": {
     "iopub.execute_input": "2023-02-26T15:52:02.107719Z",
     "iopub.status.busy": "2023-02-26T15:52:02.107315Z",
     "iopub.status.idle": "2023-02-26T15:52:06.012452Z",
     "shell.execute_reply": "2023-02-26T15:52:06.011710Z"
    }
   },
   "outputs": [
    {
     "name": "stdout",
     "output_type": "stream",
     "text": [
      "480 ns ± 0.134 ns per loop (mean ± std. dev. of 7 runs, 1,000,000 loops each)\n"
     ]
    }
   ],
   "source": [
    "%timeit b.a = new_value"
   ]
  },
  {
   "cell_type": "markdown",
   "id": "b61ad1d0",
   "metadata": {},
   "source": [
    "## Initialization"
   ]
  },
  {
   "cell_type": "markdown",
   "id": "d70f0d54",
   "metadata": {},
   "source": [
    "### TreeValue's Initialization"
   ]
  },
  {
   "cell_type": "code",
   "execution_count": 14,
   "id": "d32a679b",
   "metadata": {
    "execution": {
     "iopub.execute_input": "2023-02-26T15:52:06.015252Z",
     "iopub.status.busy": "2023-02-26T15:52:06.014902Z",
     "iopub.status.idle": "2023-02-26T15:52:12.970348Z",
     "shell.execute_reply": "2023-02-26T15:52:12.969610Z"
    }
   },
   "outputs": [
    {
     "name": "stdout",
     "output_type": "stream",
     "text": [
      "856 ns ± 0.585 ns per loop (mean ± std. dev. of 7 runs, 1,000,000 loops each)\n"
     ]
    }
   ],
   "source": [
    "%timeit FastTreeValue(_TREE_DATA_1)"
   ]
  },
  {
   "cell_type": "markdown",
   "id": "24f3707b",
   "metadata": {},
   "source": [
    "### Tianshou Batch's Initialization"
   ]
  },
  {
   "cell_type": "code",
   "execution_count": 15,
   "id": "ac3958df",
   "metadata": {
    "execution": {
     "iopub.execute_input": "2023-02-26T15:52:12.973597Z",
     "iopub.status.busy": "2023-02-26T15:52:12.973017Z",
     "iopub.status.idle": "2023-02-26T15:52:22.338976Z",
     "shell.execute_reply": "2023-02-26T15:52:22.338158Z"
    }
   },
   "outputs": [
    {
     "name": "stdout",
     "output_type": "stream",
     "text": [
      "11.5 µs ± 32.7 ns per loop (mean ± std. dev. of 7 runs, 100,000 loops each)\n"
     ]
    }
   ],
   "source": [
    "%timeit Batch(**_TREE_DATA_1)"
   ]
  },
  {
   "cell_type": "markdown",
   "id": "1ab82e2d",
   "metadata": {},
   "source": [
    "## Deep Copy Operation"
   ]
  },
  {
   "cell_type": "code",
   "execution_count": 16,
   "id": "210a9442",
   "metadata": {
    "execution": {
     "iopub.execute_input": "2023-02-26T15:52:22.342089Z",
     "iopub.status.busy": "2023-02-26T15:52:22.341710Z",
     "iopub.status.idle": "2023-02-26T15:52:22.345713Z",
     "shell.execute_reply": "2023-02-26T15:52:22.345119Z"
    }
   },
   "outputs": [],
   "source": [
    "import copy"
   ]
  },
  {
   "cell_type": "markdown",
   "id": "5a736274",
   "metadata": {},
   "source": [
    "### Deep Copy of TreeValue"
   ]
  },
  {
   "cell_type": "code",
   "execution_count": 17,
   "id": "f9bcadd6",
   "metadata": {
    "execution": {
     "iopub.execute_input": "2023-02-26T15:52:22.348410Z",
     "iopub.status.busy": "2023-02-26T15:52:22.347868Z",
     "iopub.status.idle": "2023-02-26T15:52:33.430725Z",
     "shell.execute_reply": "2023-02-26T15:52:33.430155Z"
    }
   },
   "outputs": [
    {
     "name": "stdout",
     "output_type": "stream",
     "text": [
      "136 µs ± 224 ns per loop (mean ± std. dev. of 7 runs, 10,000 loops each)\n"
     ]
    }
   ],
   "source": [
    "t3 = FastTreeValue(_TREE_DATA_3)\n",
    "%timeit copy.deepcopy(t3)"
   ]
  },
  {
   "cell_type": "markdown",
   "id": "bf8be7ea",
   "metadata": {},
   "source": [
    "### Deep Copy of Tianshou Batch"
   ]
  },
  {
   "cell_type": "code",
   "execution_count": 18,
   "id": "91998e6f",
   "metadata": {
    "execution": {
     "iopub.execute_input": "2023-02-26T15:52:33.433577Z",
     "iopub.status.busy": "2023-02-26T15:52:33.433208Z",
     "iopub.status.idle": "2023-02-26T15:52:44.598647Z",
     "shell.execute_reply": "2023-02-26T15:52:44.598079Z"
    }
   },
   "outputs": [
    {
     "name": "stdout",
     "output_type": "stream",
     "text": [
      "138 µs ± 1.27 µs per loop (mean ± std. dev. of 7 runs, 10,000 loops each)\n"
     ]
    }
   ],
   "source": [
    "b3 = Batch(**_TREE_DATA_3)\n",
    "%timeit copy.deepcopy(b3)"
   ]
  },
  {
   "cell_type": "markdown",
   "id": "223162fb",
   "metadata": {},
   "source": [
    "## Stack, Concat and Split Operation"
   ]
  },
  {
   "cell_type": "markdown",
   "id": "85fa4a73",
   "metadata": {},
   "source": [
    "### Performance of TreeValue"
   ]
  },
  {
   "cell_type": "code",
   "execution_count": 19,
   "id": "a0c2b697",
   "metadata": {
    "execution": {
     "iopub.execute_input": "2023-02-26T15:52:44.601915Z",
     "iopub.status.busy": "2023-02-26T15:52:44.600947Z",
     "iopub.status.idle": "2023-02-26T15:52:44.605230Z",
     "shell.execute_reply": "2023-02-26T15:52:44.604701Z"
    }
   },
   "outputs": [],
   "source": [
    "trees = [FastTreeValue(_TREE_DATA_2) for _ in range(8)]"
   ]
  },
  {
   "cell_type": "code",
   "execution_count": 20,
   "id": "017ea5a5",
   "metadata": {
    "execution": {
     "iopub.execute_input": "2023-02-26T15:52:44.608003Z",
     "iopub.status.busy": "2023-02-26T15:52:44.607621Z",
     "iopub.status.idle": "2023-02-26T15:52:44.615435Z",
     "shell.execute_reply": "2023-02-26T15:52:44.614799Z"
    }
   },
   "outputs": [
    {
     "data": {
      "text/plain": [
       "<FastTreeValue 0x7f63f821ff10>\n",
       "├── 'a' --> tensor([[[ 0.9099,  0.8847,  1.4803],\n",
       "│                    [-0.0019, -0.1528, -0.4568]],\n",
       "│           \n",
       "│                   [[ 0.9099,  0.8847,  1.4803],\n",
       "│                    [-0.0019, -0.1528, -0.4568]],\n",
       "│           \n",
       "│                   [[ 0.9099,  0.8847,  1.4803],\n",
       "│                    [-0.0019, -0.1528, -0.4568]],\n",
       "│           \n",
       "│                   [[ 0.9099,  0.8847,  1.4803],\n",
       "│                    [-0.0019, -0.1528, -0.4568]],\n",
       "│           \n",
       "│                   [[ 0.9099,  0.8847,  1.4803],\n",
       "│                    [-0.0019, -0.1528, -0.4568]],\n",
       "│           \n",
       "│                   [[ 0.9099,  0.8847,  1.4803],\n",
       "│                    [-0.0019, -0.1528, -0.4568]],\n",
       "│           \n",
       "│                   [[ 0.9099,  0.8847,  1.4803],\n",
       "│                    [-0.0019, -0.1528, -0.4568]],\n",
       "│           \n",
       "│                   [[ 0.9099,  0.8847,  1.4803],\n",
       "│                    [-0.0019, -0.1528, -0.4568]]])\n",
       "└── 'x' --> <FastTreeValue 0x7f6354b29460>\n",
       "    └── 'c' --> tensor([[[ 1.0141, -0.1235, -0.9643, -0.7970],\n",
       "                         [ 0.3444, -0.8224,  0.3015,  0.3680],\n",
       "                         [ 1.8830, -0.0592, -1.2137, -0.6014]],\n",
       "                \n",
       "                        [[ 1.0141, -0.1235, -0.9643, -0.7970],\n",
       "                         [ 0.3444, -0.8224,  0.3015,  0.3680],\n",
       "                         [ 1.8830, -0.0592, -1.2137, -0.6014]],\n",
       "                \n",
       "                        [[ 1.0141, -0.1235, -0.9643, -0.7970],\n",
       "                         [ 0.3444, -0.8224,  0.3015,  0.3680],\n",
       "                         [ 1.8830, -0.0592, -1.2137, -0.6014]],\n",
       "                \n",
       "                        [[ 1.0141, -0.1235, -0.9643, -0.7970],\n",
       "                         [ 0.3444, -0.8224,  0.3015,  0.3680],\n",
       "                         [ 1.8830, -0.0592, -1.2137, -0.6014]],\n",
       "                \n",
       "                        [[ 1.0141, -0.1235, -0.9643, -0.7970],\n",
       "                         [ 0.3444, -0.8224,  0.3015,  0.3680],\n",
       "                         [ 1.8830, -0.0592, -1.2137, -0.6014]],\n",
       "                \n",
       "                        [[ 1.0141, -0.1235, -0.9643, -0.7970],\n",
       "                         [ 0.3444, -0.8224,  0.3015,  0.3680],\n",
       "                         [ 1.8830, -0.0592, -1.2137, -0.6014]],\n",
       "                \n",
       "                        [[ 1.0141, -0.1235, -0.9643, -0.7970],\n",
       "                         [ 0.3444, -0.8224,  0.3015,  0.3680],\n",
       "                         [ 1.8830, -0.0592, -1.2137, -0.6014]],\n",
       "                \n",
       "                        [[ 1.0141, -0.1235, -0.9643, -0.7970],\n",
       "                         [ 0.3444, -0.8224,  0.3015,  0.3680],\n",
       "                         [ 1.8830, -0.0592, -1.2137, -0.6014]]])"
      ]
     },
     "execution_count": 20,
     "metadata": {},
     "output_type": "execute_result"
    }
   ],
   "source": [
    "t_stack = FastTreeValue.func(subside=True)(torch.stack)\n",
    "\n",
    "t_stack(trees)"
   ]
  },
  {
   "cell_type": "code",
   "execution_count": 21,
   "id": "f8b3f415",
   "metadata": {
    "execution": {
     "iopub.execute_input": "2023-02-26T15:52:44.617836Z",
     "iopub.status.busy": "2023-02-26T15:52:44.617500Z",
     "iopub.status.idle": "2023-02-26T15:52:47.266974Z",
     "shell.execute_reply": "2023-02-26T15:52:47.266175Z"
    }
   },
   "outputs": [
    {
     "name": "stdout",
     "output_type": "stream",
     "text": [
      "32.6 µs ± 40.5 ns per loop (mean ± std. dev. of 7 runs, 10,000 loops each)\n"
     ]
    }
   ],
   "source": [
    "%timeit t_stack(trees)"
   ]
  },
  {
   "cell_type": "code",
   "execution_count": 22,
   "id": "94b56771",
   "metadata": {
    "execution": {
     "iopub.execute_input": "2023-02-26T15:52:47.269946Z",
     "iopub.status.busy": "2023-02-26T15:52:47.269414Z",
     "iopub.status.idle": "2023-02-26T15:52:47.277495Z",
     "shell.execute_reply": "2023-02-26T15:52:47.276872Z"
    }
   },
   "outputs": [
    {
     "data": {
      "text/plain": [
       "<FastTreeValue 0x7f63fd2a5c40>\n",
       "├── 'a' --> tensor([[ 0.9099,  0.8847,  1.4803],\n",
       "│                   [-0.0019, -0.1528, -0.4568],\n",
       "│                   [ 0.9099,  0.8847,  1.4803],\n",
       "│                   [-0.0019, -0.1528, -0.4568],\n",
       "│                   [ 0.9099,  0.8847,  1.4803],\n",
       "│                   [-0.0019, -0.1528, -0.4568],\n",
       "│                   [ 0.9099,  0.8847,  1.4803],\n",
       "│                   [-0.0019, -0.1528, -0.4568],\n",
       "│                   [ 0.9099,  0.8847,  1.4803],\n",
       "│                   [-0.0019, -0.1528, -0.4568],\n",
       "│                   [ 0.9099,  0.8847,  1.4803],\n",
       "│                   [-0.0019, -0.1528, -0.4568],\n",
       "│                   [ 0.9099,  0.8847,  1.4803],\n",
       "│                   [-0.0019, -0.1528, -0.4568],\n",
       "│                   [ 0.9099,  0.8847,  1.4803],\n",
       "│                   [-0.0019, -0.1528, -0.4568]])\n",
       "└── 'x' --> <FastTreeValue 0x7f6354b1e490>\n",
       "    └── 'c' --> tensor([[ 1.0141, -0.1235, -0.9643, -0.7970],\n",
       "                        [ 0.3444, -0.8224,  0.3015,  0.3680],\n",
       "                        [ 1.8830, -0.0592, -1.2137, -0.6014],\n",
       "                        [ 1.0141, -0.1235, -0.9643, -0.7970],\n",
       "                        [ 0.3444, -0.8224,  0.3015,  0.3680],\n",
       "                        [ 1.8830, -0.0592, -1.2137, -0.6014],\n",
       "                        [ 1.0141, -0.1235, -0.9643, -0.7970],\n",
       "                        [ 0.3444, -0.8224,  0.3015,  0.3680],\n",
       "                        [ 1.8830, -0.0592, -1.2137, -0.6014],\n",
       "                        [ 1.0141, -0.1235, -0.9643, -0.7970],\n",
       "                        [ 0.3444, -0.8224,  0.3015,  0.3680],\n",
       "                        [ 1.8830, -0.0592, -1.2137, -0.6014],\n",
       "                        [ 1.0141, -0.1235, -0.9643, -0.7970],\n",
       "                        [ 0.3444, -0.8224,  0.3015,  0.3680],\n",
       "                        [ 1.8830, -0.0592, -1.2137, -0.6014],\n",
       "                        [ 1.0141, -0.1235, -0.9643, -0.7970],\n",
       "                        [ 0.3444, -0.8224,  0.3015,  0.3680],\n",
       "                        [ 1.8830, -0.0592, -1.2137, -0.6014],\n",
       "                        [ 1.0141, -0.1235, -0.9643, -0.7970],\n",
       "                        [ 0.3444, -0.8224,  0.3015,  0.3680],\n",
       "                        [ 1.8830, -0.0592, -1.2137, -0.6014],\n",
       "                        [ 1.0141, -0.1235, -0.9643, -0.7970],\n",
       "                        [ 0.3444, -0.8224,  0.3015,  0.3680],\n",
       "                        [ 1.8830, -0.0592, -1.2137, -0.6014]])"
      ]
     },
     "execution_count": 22,
     "metadata": {},
     "output_type": "execute_result"
    }
   ],
   "source": [
    "t_cat = FastTreeValue.func(subside=True)(torch.cat)\n",
    "\n",
    "t_cat(trees)"
   ]
  },
  {
   "cell_type": "code",
   "execution_count": 23,
   "id": "5e9c06a6",
   "metadata": {
    "execution": {
     "iopub.execute_input": "2023-02-26T15:52:47.280087Z",
     "iopub.status.busy": "2023-02-26T15:52:47.279712Z",
     "iopub.status.idle": "2023-02-26T15:52:49.781171Z",
     "shell.execute_reply": "2023-02-26T15:52:49.780434Z"
    }
   },
   "outputs": [
    {
     "name": "stdout",
     "output_type": "stream",
     "text": [
      "30.8 µs ± 73.7 ns per loop (mean ± std. dev. of 7 runs, 10,000 loops each)\n"
     ]
    }
   ],
   "source": [
    "%timeit t_cat(trees)"
   ]
  },
  {
   "cell_type": "code",
   "execution_count": 24,
   "id": "a3ab5c8f",
   "metadata": {
    "execution": {
     "iopub.execute_input": "2023-02-26T15:52:49.784280Z",
     "iopub.status.busy": "2023-02-26T15:52:49.783677Z",
     "iopub.status.idle": "2023-02-26T15:52:54.713100Z",
     "shell.execute_reply": "2023-02-26T15:52:54.712395Z"
    }
   },
   "outputs": [
    {
     "name": "stdout",
     "output_type": "stream",
     "text": [
      "60.6 µs ± 157 ns per loop (mean ± std. dev. of 7 runs, 10,000 loops each)\n"
     ]
    }
   ],
   "source": [
    "t_split = FastTreeValue.func(rise=True)(torch.split)\n",
    "tree = FastTreeValue({\n",
    "    'obs': torch.randn(8, 4, 84, 84),\n",
    "    'action': torch.randint(0, 6, size=(8, 1,)),\n",
    "    'reward': torch.rand(8, 1),\n",
    "})\n",
    "\n",
    "%timeit t_split(tree, 1)"
   ]
  },
  {
   "cell_type": "markdown",
   "id": "31c3ec0b",
   "metadata": {},
   "source": [
    "### Performance of Tianshou Batch"
   ]
  },
  {
   "cell_type": "code",
   "execution_count": 25,
   "id": "9ead828a",
   "metadata": {
    "execution": {
     "iopub.execute_input": "2023-02-26T15:52:54.716192Z",
     "iopub.status.busy": "2023-02-26T15:52:54.715554Z",
     "iopub.status.idle": "2023-02-26T15:52:54.723742Z",
     "shell.execute_reply": "2023-02-26T15:52:54.723105Z"
    }
   },
   "outputs": [
    {
     "data": {
      "text/plain": [
       "Batch(\n",
       "    a: tensor([[[ 0.9099,  0.8847,  1.4803],\n",
       "                [-0.0019, -0.1528, -0.4568]],\n",
       "       \n",
       "               [[ 0.9099,  0.8847,  1.4803],\n",
       "                [-0.0019, -0.1528, -0.4568]],\n",
       "       \n",
       "               [[ 0.9099,  0.8847,  1.4803],\n",
       "                [-0.0019, -0.1528, -0.4568]],\n",
       "       \n",
       "               [[ 0.9099,  0.8847,  1.4803],\n",
       "                [-0.0019, -0.1528, -0.4568]],\n",
       "       \n",
       "               [[ 0.9099,  0.8847,  1.4803],\n",
       "                [-0.0019, -0.1528, -0.4568]],\n",
       "       \n",
       "               [[ 0.9099,  0.8847,  1.4803],\n",
       "                [-0.0019, -0.1528, -0.4568]],\n",
       "       \n",
       "               [[ 0.9099,  0.8847,  1.4803],\n",
       "                [-0.0019, -0.1528, -0.4568]],\n",
       "       \n",
       "               [[ 0.9099,  0.8847,  1.4803],\n",
       "                [-0.0019, -0.1528, -0.4568]]]),\n",
       "    x: Batch(\n",
       "           c: tensor([[[ 1.0141, -0.1235, -0.9643, -0.7970],\n",
       "                       [ 0.3444, -0.8224,  0.3015,  0.3680],\n",
       "                       [ 1.8830, -0.0592, -1.2137, -0.6014]],\n",
       "              \n",
       "                      [[ 1.0141, -0.1235, -0.9643, -0.7970],\n",
       "                       [ 0.3444, -0.8224,  0.3015,  0.3680],\n",
       "                       [ 1.8830, -0.0592, -1.2137, -0.6014]],\n",
       "              \n",
       "                      [[ 1.0141, -0.1235, -0.9643, -0.7970],\n",
       "                       [ 0.3444, -0.8224,  0.3015,  0.3680],\n",
       "                       [ 1.8830, -0.0592, -1.2137, -0.6014]],\n",
       "              \n",
       "                      [[ 1.0141, -0.1235, -0.9643, -0.7970],\n",
       "                       [ 0.3444, -0.8224,  0.3015,  0.3680],\n",
       "                       [ 1.8830, -0.0592, -1.2137, -0.6014]],\n",
       "              \n",
       "                      [[ 1.0141, -0.1235, -0.9643, -0.7970],\n",
       "                       [ 0.3444, -0.8224,  0.3015,  0.3680],\n",
       "                       [ 1.8830, -0.0592, -1.2137, -0.6014]],\n",
       "              \n",
       "                      [[ 1.0141, -0.1235, -0.9643, -0.7970],\n",
       "                       [ 0.3444, -0.8224,  0.3015,  0.3680],\n",
       "                       [ 1.8830, -0.0592, -1.2137, -0.6014]],\n",
       "              \n",
       "                      [[ 1.0141, -0.1235, -0.9643, -0.7970],\n",
       "                       [ 0.3444, -0.8224,  0.3015,  0.3680],\n",
       "                       [ 1.8830, -0.0592, -1.2137, -0.6014]],\n",
       "              \n",
       "                      [[ 1.0141, -0.1235, -0.9643, -0.7970],\n",
       "                       [ 0.3444, -0.8224,  0.3015,  0.3680],\n",
       "                       [ 1.8830, -0.0592, -1.2137, -0.6014]]]),\n",
       "       ),\n",
       ")"
      ]
     },
     "execution_count": 25,
     "metadata": {},
     "output_type": "execute_result"
    }
   ],
   "source": [
    "batches = [Batch(**_TREE_DATA_2) for _ in range(8)]\n",
    "\n",
    "Batch.stack(batches)"
   ]
  },
  {
   "cell_type": "code",
   "execution_count": 26,
   "id": "ec9037a3",
   "metadata": {
    "execution": {
     "iopub.execute_input": "2023-02-26T15:52:54.726536Z",
     "iopub.status.busy": "2023-02-26T15:52:54.726189Z",
     "iopub.status.idle": "2023-02-26T15:53:01.161532Z",
     "shell.execute_reply": "2023-02-26T15:53:01.160758Z"
    }
   },
   "outputs": [
    {
     "name": "stdout",
     "output_type": "stream",
     "text": [
      "79.2 µs ± 307 ns per loop (mean ± std. dev. of 7 runs, 10,000 loops each)\n"
     ]
    }
   ],
   "source": [
    "%timeit Batch.stack(batches)"
   ]
  },
  {
   "cell_type": "code",
   "execution_count": 27,
   "id": "cb8ab77e",
   "metadata": {
    "execution": {
     "iopub.execute_input": "2023-02-26T15:53:01.164274Z",
     "iopub.status.busy": "2023-02-26T15:53:01.163913Z",
     "iopub.status.idle": "2023-02-26T15:53:01.171592Z",
     "shell.execute_reply": "2023-02-26T15:53:01.170973Z"
    }
   },
   "outputs": [
    {
     "data": {
      "text/plain": [
       "Batch(\n",
       "    a: tensor([[ 0.9099,  0.8847,  1.4803],\n",
       "               [-0.0019, -0.1528, -0.4568],\n",
       "               [ 0.9099,  0.8847,  1.4803],\n",
       "               [-0.0019, -0.1528, -0.4568],\n",
       "               [ 0.9099,  0.8847,  1.4803],\n",
       "               [-0.0019, -0.1528, -0.4568],\n",
       "               [ 0.9099,  0.8847,  1.4803],\n",
       "               [-0.0019, -0.1528, -0.4568],\n",
       "               [ 0.9099,  0.8847,  1.4803],\n",
       "               [-0.0019, -0.1528, -0.4568],\n",
       "               [ 0.9099,  0.8847,  1.4803],\n",
       "               [-0.0019, -0.1528, -0.4568],\n",
       "               [ 0.9099,  0.8847,  1.4803],\n",
       "               [-0.0019, -0.1528, -0.4568],\n",
       "               [ 0.9099,  0.8847,  1.4803],\n",
       "               [-0.0019, -0.1528, -0.4568]]),\n",
       "    x: Batch(\n",
       "           c: tensor([[ 1.0141, -0.1235, -0.9643, -0.7970],\n",
       "                      [ 0.3444, -0.8224,  0.3015,  0.3680],\n",
       "                      [ 1.8830, -0.0592, -1.2137, -0.6014],\n",
       "                      [ 1.0141, -0.1235, -0.9643, -0.7970],\n",
       "                      [ 0.3444, -0.8224,  0.3015,  0.3680],\n",
       "                      [ 1.8830, -0.0592, -1.2137, -0.6014],\n",
       "                      [ 1.0141, -0.1235, -0.9643, -0.7970],\n",
       "                      [ 0.3444, -0.8224,  0.3015,  0.3680],\n",
       "                      [ 1.8830, -0.0592, -1.2137, -0.6014],\n",
       "                      [ 1.0141, -0.1235, -0.9643, -0.7970],\n",
       "                      [ 0.3444, -0.8224,  0.3015,  0.3680],\n",
       "                      [ 1.8830, -0.0592, -1.2137, -0.6014],\n",
       "                      [ 1.0141, -0.1235, -0.9643, -0.7970],\n",
       "                      [ 0.3444, -0.8224,  0.3015,  0.3680],\n",
       "                      [ 1.8830, -0.0592, -1.2137, -0.6014],\n",
       "                      [ 1.0141, -0.1235, -0.9643, -0.7970],\n",
       "                      [ 0.3444, -0.8224,  0.3015,  0.3680],\n",
       "                      [ 1.8830, -0.0592, -1.2137, -0.6014],\n",
       "                      [ 1.0141, -0.1235, -0.9643, -0.7970],\n",
       "                      [ 0.3444, -0.8224,  0.3015,  0.3680],\n",
       "                      [ 1.8830, -0.0592, -1.2137, -0.6014],\n",
       "                      [ 1.0141, -0.1235, -0.9643, -0.7970],\n",
       "                      [ 0.3444, -0.8224,  0.3015,  0.3680],\n",
       "                      [ 1.8830, -0.0592, -1.2137, -0.6014]]),\n",
       "       ),\n",
       ")"
      ]
     },
     "execution_count": 27,
     "metadata": {},
     "output_type": "execute_result"
    }
   ],
   "source": [
    "Batch.cat(batches)"
   ]
  },
  {
   "cell_type": "code",
   "execution_count": 28,
   "id": "18dfb045",
   "metadata": {
    "execution": {
     "iopub.execute_input": "2023-02-26T15:53:01.174396Z",
     "iopub.status.busy": "2023-02-26T15:53:01.174162Z",
     "iopub.status.idle": "2023-02-26T15:53:12.621681Z",
     "shell.execute_reply": "2023-02-26T15:53:12.620902Z"
    }
   },
   "outputs": [
    {
     "name": "stdout",
     "output_type": "stream",
     "text": [
      "141 µs ± 394 ns per loop (mean ± std. dev. of 7 runs, 10,000 loops each)\n"
     ]
    }
   ],
   "source": [
    "%timeit Batch.cat(batches)"
   ]
  },
  {
   "cell_type": "code",
   "execution_count": 29,
   "id": "c6688e51",
   "metadata": {
    "execution": {
     "iopub.execute_input": "2023-02-26T15:53:12.625136Z",
     "iopub.status.busy": "2023-02-26T15:53:12.624110Z",
     "iopub.status.idle": "2023-02-26T15:53:15.130792Z",
     "shell.execute_reply": "2023-02-26T15:53:15.130012Z"
    }
   },
   "outputs": [
    {
     "name": "stdout",
     "output_type": "stream",
     "text": [
      "308 µs ± 891 ns per loop (mean ± std. dev. of 7 runs, 1,000 loops each)\n"
     ]
    }
   ],
   "source": [
    "batch = Batch({\n",
    "    'obs': torch.randn(8, 4, 84, 84),\n",
    "    'action': torch.randint(0, 6, size=(8, 1,)),\n",
    "    'reward': torch.rand(8, 1)}\n",
    ")\n",
    "\n",
    "%timeit list(Batch.split(batch, 1, shuffle=False, merge_last=True))"
   ]
  },
  {
   "cell_type": "code",
   "execution_count": null,
   "id": "2539fbd9",
   "metadata": {},
   "outputs": [],
   "source": []
  }
 ],
 "metadata": {
  "kernelspec": {
   "display_name": "Python 3 (ipykernel)",
   "language": "python",
   "name": "python3"
  },
  "language_info": {
   "codemirror_mode": {
    "name": "ipython",
    "version": 3
   },
   "file_extension": ".py",
   "mimetype": "text/x-python",
   "name": "python",
   "nbconvert_exporter": "python",
   "pygments_lexer": "ipython3",
   "version": "3.8.16"
  }
 },
 "nbformat": 4,
 "nbformat_minor": 5
}
