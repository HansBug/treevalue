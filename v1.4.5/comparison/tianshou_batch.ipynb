{
 "cells": [
  {
   "cell_type": "markdown",
   "id": "9d39d946",
   "metadata": {},
   "source": [
    "# Comparison Between TreeValue and Tianshou Batch"
   ]
  },
  {
   "cell_type": "markdown",
   "id": "3c6db2d4",
   "metadata": {},
   "source": [
    "In this section, we will take a look at the feature and performance of the [Tianshou Batch](https://github.com/thu-ml/tianshou) library, which is developed by Tsinghua Machine Learning Group."
   ]
  },
  {
   "cell_type": "markdown",
   "id": "069361b0",
   "metadata": {},
   "source": [
    "Before starting the comparison, let us define some thing."
   ]
  },
  {
   "cell_type": "code",
   "execution_count": 1,
   "id": "06fc8d26",
   "metadata": {
    "execution": {
     "iopub.execute_input": "2023-02-27T13:13:21.762856Z",
     "iopub.status.busy": "2023-02-27T13:13:21.762336Z",
     "iopub.status.idle": "2023-02-27T13:13:22.692578Z",
     "shell.execute_reply": "2023-02-27T13:13:22.691851Z"
    }
   },
   "outputs": [
    {
     "name": "stderr",
     "output_type": "stream",
     "text": [
      "/opt/hostedtoolcache/Python/3.8.16/x64/lib/python3.8/site-packages/tqdm/auto.py:22: TqdmWarning: IProgress not found. Please update jupyter and ipywidgets. See https://ipywidgets.readthedocs.io/en/stable/user_install.html\n",
      "  from .autonotebook import tqdm as notebook_tqdm\n"
     ]
    }
   ],
   "source": [
    "import torch \n",
    "\n",
    "_TREE_DATA_1 = {'a': 1, 'b': 2, 'x': {'c': 3, 'd': 4}}\n",
    "_TREE_DATA_2 = {\n",
    "    'a': torch.randn(2, 3), \n",
    "    'x': {\n",
    "        'c': torch.randn(3, 4)\n",
    "    },\n",
    "}\n",
    "_TREE_DATA_3 = {\n",
    "    'obs': torch.randn(4, 84, 84),\n",
    "    'action': torch.randint(0, 6, size=(1,)),\n",
    "    'reward': torch.rand(1),\n",
    "}"
   ]
  },
  {
   "cell_type": "markdown",
   "id": "83461b25",
   "metadata": {},
   "source": [
    "## Read and Write Operation"
   ]
  },
  {
   "cell_type": "markdown",
   "id": "067b3f73",
   "metadata": {},
   "source": [
    "Reading and writing are the two most common operations in the tree data structure based on the data model (TreeValue and Tianshou Batch both belong to this type), so this section will compare the reading and writing performance of these two libraries."
   ]
  },
  {
   "cell_type": "markdown",
   "id": "5d09a5b7",
   "metadata": {},
   "source": [
    "### TreeValue's Get and Set"
   ]
  },
  {
   "cell_type": "code",
   "execution_count": 2,
   "id": "9519c4bb",
   "metadata": {
    "execution": {
     "iopub.execute_input": "2023-02-27T13:13:22.696459Z",
     "iopub.status.busy": "2023-02-27T13:13:22.695753Z",
     "iopub.status.idle": "2023-02-27T13:13:22.977764Z",
     "shell.execute_reply": "2023-02-27T13:13:22.977093Z"
    }
   },
   "outputs": [],
   "source": [
    "from treevalue import FastTreeValue\n",
    "\n",
    "t = FastTreeValue(_TREE_DATA_2)"
   ]
  },
  {
   "cell_type": "code",
   "execution_count": 3,
   "id": "11c37677",
   "metadata": {
    "execution": {
     "iopub.execute_input": "2023-02-27T13:13:22.981343Z",
     "iopub.status.busy": "2023-02-27T13:13:22.980704Z",
     "iopub.status.idle": "2023-02-27T13:13:22.990123Z",
     "shell.execute_reply": "2023-02-27T13:13:22.989535Z"
    }
   },
   "outputs": [
    {
     "data": {
      "text/plain": [
       "<FastTreeValue 0x7fe1406198e0>\n",
       "├── 'a' --> tensor([[ 0.1011,  0.8778, -0.6750],\n",
       "│                   [-0.5130, -0.7542,  0.5872]])\n",
       "└── 'x' --> <FastTreeValue 0x7fe140619790>\n",
       "    └── 'c' --> tensor([[ 1.6943, -1.6077, -1.4818, -0.9593],\n",
       "                        [-1.7618, -0.0295,  0.9675, -1.5507],\n",
       "                        [-0.2878, -1.2441, -1.2887, -0.2663]])"
      ]
     },
     "execution_count": 3,
     "metadata": {},
     "output_type": "execute_result"
    }
   ],
   "source": [
    "t"
   ]
  },
  {
   "cell_type": "code",
   "execution_count": 4,
   "id": "fd70b0b9",
   "metadata": {
    "execution": {
     "iopub.execute_input": "2023-02-27T13:13:22.992945Z",
     "iopub.status.busy": "2023-02-27T13:13:22.992608Z",
     "iopub.status.idle": "2023-02-27T13:13:22.998350Z",
     "shell.execute_reply": "2023-02-27T13:13:22.997759Z"
    }
   },
   "outputs": [
    {
     "data": {
      "text/plain": [
       "tensor([[ 0.1011,  0.8778, -0.6750],\n",
       "        [-0.5130, -0.7542,  0.5872]])"
      ]
     },
     "execution_count": 4,
     "metadata": {},
     "output_type": "execute_result"
    }
   ],
   "source": [
    "t.a"
   ]
  },
  {
   "cell_type": "code",
   "execution_count": 5,
   "id": "c18197bd",
   "metadata": {
    "execution": {
     "iopub.execute_input": "2023-02-27T13:13:23.001122Z",
     "iopub.status.busy": "2023-02-27T13:13:23.000641Z",
     "iopub.status.idle": "2023-02-27T13:13:27.942252Z",
     "shell.execute_reply": "2023-02-27T13:13:27.941568Z"
    }
   },
   "outputs": [
    {
     "name": "stdout",
     "output_type": "stream",
     "text": [
      "61.2 ns ± 0.0761 ns per loop (mean ± std. dev. of 7 runs, 10,000,000 loops each)\n"
     ]
    }
   ],
   "source": [
    "%timeit t.a"
   ]
  },
  {
   "cell_type": "code",
   "execution_count": 6,
   "id": "bd52f867",
   "metadata": {
    "execution": {
     "iopub.execute_input": "2023-02-27T13:13:27.945558Z",
     "iopub.status.busy": "2023-02-27T13:13:27.944980Z",
     "iopub.status.idle": "2023-02-27T13:13:27.951666Z",
     "shell.execute_reply": "2023-02-27T13:13:27.951024Z"
    }
   },
   "outputs": [
    {
     "data": {
      "text/plain": [
       "<FastTreeValue 0x7fe1406198e0>\n",
       "├── 'a' --> tensor([[-0.5845, -1.4240,  2.0638],\n",
       "│                   [ 1.0106,  0.6085,  0.6492]])\n",
       "└── 'x' --> <FastTreeValue 0x7fe140619790>\n",
       "    └── 'c' --> tensor([[ 1.6943, -1.6077, -1.4818, -0.9593],\n",
       "                        [-1.7618, -0.0295,  0.9675, -1.5507],\n",
       "                        [-0.2878, -1.2441, -1.2887, -0.2663]])"
      ]
     },
     "execution_count": 6,
     "metadata": {},
     "output_type": "execute_result"
    }
   ],
   "source": [
    "new_value = torch.randn(2, 3)\n",
    "t.a = new_value\n",
    "\n",
    "t"
   ]
  },
  {
   "cell_type": "code",
   "execution_count": 7,
   "id": "bbe04d1c",
   "metadata": {
    "execution": {
     "iopub.execute_input": "2023-02-27T13:13:27.954095Z",
     "iopub.status.busy": "2023-02-27T13:13:27.953759Z",
     "iopub.status.idle": "2023-02-27T13:13:33.423817Z",
     "shell.execute_reply": "2023-02-27T13:13:33.423021Z"
    }
   },
   "outputs": [
    {
     "name": "stdout",
     "output_type": "stream",
     "text": [
      "67.6 ns ± 0.0697 ns per loop (mean ± std. dev. of 7 runs, 10,000,000 loops each)\n"
     ]
    }
   ],
   "source": [
    "%timeit t.a = new_value"
   ]
  },
  {
   "cell_type": "markdown",
   "id": "48c49731",
   "metadata": {},
   "source": [
    "### Tianshou Batch's Get and Set"
   ]
  },
  {
   "cell_type": "code",
   "execution_count": 8,
   "id": "f1bb14c1",
   "metadata": {
    "execution": {
     "iopub.execute_input": "2023-02-27T13:13:33.427440Z",
     "iopub.status.busy": "2023-02-27T13:13:33.426771Z",
     "iopub.status.idle": "2023-02-27T13:13:33.764151Z",
     "shell.execute_reply": "2023-02-27T13:13:33.763451Z"
    }
   },
   "outputs": [],
   "source": [
    "from tianshou.data import Batch\n",
    "\n",
    "b = Batch(**_TREE_DATA_2)"
   ]
  },
  {
   "cell_type": "code",
   "execution_count": 9,
   "id": "cb0777c3",
   "metadata": {
    "execution": {
     "iopub.execute_input": "2023-02-27T13:13:33.767186Z",
     "iopub.status.busy": "2023-02-27T13:13:33.766717Z",
     "iopub.status.idle": "2023-02-27T13:13:33.772317Z",
     "shell.execute_reply": "2023-02-27T13:13:33.771683Z"
    }
   },
   "outputs": [
    {
     "data": {
      "text/plain": [
       "Batch(\n",
       "    a: tensor([[ 0.1011,  0.8778, -0.6750],\n",
       "               [-0.5130, -0.7542,  0.5872]]),\n",
       "    x: Batch(\n",
       "           c: tensor([[ 1.6943, -1.6077, -1.4818, -0.9593],\n",
       "                      [-1.7618, -0.0295,  0.9675, -1.5507],\n",
       "                      [-0.2878, -1.2441, -1.2887, -0.2663]]),\n",
       "       ),\n",
       ")"
      ]
     },
     "execution_count": 9,
     "metadata": {},
     "output_type": "execute_result"
    }
   ],
   "source": [
    "b"
   ]
  },
  {
   "cell_type": "code",
   "execution_count": 10,
   "id": "43ef8ea3",
   "metadata": {
    "execution": {
     "iopub.execute_input": "2023-02-27T13:13:33.775087Z",
     "iopub.status.busy": "2023-02-27T13:13:33.774467Z",
     "iopub.status.idle": "2023-02-27T13:13:33.779186Z",
     "shell.execute_reply": "2023-02-27T13:13:33.778616Z"
    }
   },
   "outputs": [
    {
     "data": {
      "text/plain": [
       "tensor([[ 0.1011,  0.8778, -0.6750],\n",
       "        [-0.5130, -0.7542,  0.5872]])"
      ]
     },
     "execution_count": 10,
     "metadata": {},
     "output_type": "execute_result"
    }
   ],
   "source": [
    "b.a"
   ]
  },
  {
   "cell_type": "code",
   "execution_count": 11,
   "id": "b785ab72",
   "metadata": {
    "execution": {
     "iopub.execute_input": "2023-02-27T13:13:33.782048Z",
     "iopub.status.busy": "2023-02-27T13:13:33.781573Z",
     "iopub.status.idle": "2023-02-27T13:13:38.422932Z",
     "shell.execute_reply": "2023-02-27T13:13:38.422159Z"
    }
   },
   "outputs": [
    {
     "name": "stdout",
     "output_type": "stream",
     "text": [
      "57.1 ns ± 0.0118 ns per loop (mean ± std. dev. of 7 runs, 10,000,000 loops each)\n"
     ]
    }
   ],
   "source": [
    "%timeit b.a"
   ]
  },
  {
   "cell_type": "code",
   "execution_count": 12,
   "id": "ad54dc69",
   "metadata": {
    "execution": {
     "iopub.execute_input": "2023-02-27T13:13:38.426096Z",
     "iopub.status.busy": "2023-02-27T13:13:38.425524Z",
     "iopub.status.idle": "2023-02-27T13:13:38.431959Z",
     "shell.execute_reply": "2023-02-27T13:13:38.431378Z"
    }
   },
   "outputs": [
    {
     "data": {
      "text/plain": [
       "Batch(\n",
       "    a: tensor([[ 0.3266, -1.2752,  3.2098],\n",
       "               [ 0.3790,  2.0649,  1.7672]]),\n",
       "    x: Batch(\n",
       "           c: tensor([[ 1.6943, -1.6077, -1.4818, -0.9593],\n",
       "                      [-1.7618, -0.0295,  0.9675, -1.5507],\n",
       "                      [-0.2878, -1.2441, -1.2887, -0.2663]]),\n",
       "       ),\n",
       ")"
      ]
     },
     "execution_count": 12,
     "metadata": {},
     "output_type": "execute_result"
    }
   ],
   "source": [
    "new_value = torch.randn(2, 3)\n",
    "b.a = new_value\n",
    "\n",
    "b"
   ]
  },
  {
   "cell_type": "code",
   "execution_count": 13,
   "id": "29b1d0bf",
   "metadata": {
    "execution": {
     "iopub.execute_input": "2023-02-27T13:13:38.434321Z",
     "iopub.status.busy": "2023-02-27T13:13:38.434096Z",
     "iopub.status.idle": "2023-02-27T13:13:42.354375Z",
     "shell.execute_reply": "2023-02-27T13:13:42.353621Z"
    }
   },
   "outputs": [
    {
     "name": "stdout",
     "output_type": "stream",
     "text": [
      "483 ns ± 8.37 ns per loop (mean ± std. dev. of 7 runs, 1,000,000 loops each)\n"
     ]
    }
   ],
   "source": [
    "%timeit b.a = new_value"
   ]
  },
  {
   "cell_type": "markdown",
   "id": "b61ad1d0",
   "metadata": {},
   "source": [
    "## Initialization"
   ]
  },
  {
   "cell_type": "markdown",
   "id": "d70f0d54",
   "metadata": {},
   "source": [
    "### TreeValue's Initialization"
   ]
  },
  {
   "cell_type": "code",
   "execution_count": 14,
   "id": "d32a679b",
   "metadata": {
    "execution": {
     "iopub.execute_input": "2023-02-27T13:13:42.357197Z",
     "iopub.status.busy": "2023-02-27T13:13:42.356834Z",
     "iopub.status.idle": "2023-02-27T13:13:49.165970Z",
     "shell.execute_reply": "2023-02-27T13:13:49.165205Z"
    }
   },
   "outputs": [
    {
     "name": "stdout",
     "output_type": "stream",
     "text": [
      "838 ns ± 5.73 ns per loop (mean ± std. dev. of 7 runs, 1,000,000 loops each)\n"
     ]
    }
   ],
   "source": [
    "%timeit FastTreeValue(_TREE_DATA_1)"
   ]
  },
  {
   "cell_type": "markdown",
   "id": "24f3707b",
   "metadata": {},
   "source": [
    "### Tianshou Batch's Initialization"
   ]
  },
  {
   "cell_type": "code",
   "execution_count": 15,
   "id": "ac3958df",
   "metadata": {
    "execution": {
     "iopub.execute_input": "2023-02-27T13:13:49.169155Z",
     "iopub.status.busy": "2023-02-27T13:13:49.168759Z",
     "iopub.status.idle": "2023-02-27T13:13:58.459217Z",
     "shell.execute_reply": "2023-02-27T13:13:58.458507Z"
    }
   },
   "outputs": [
    {
     "name": "stdout",
     "output_type": "stream",
     "text": [
      "11.4 µs ± 11.8 ns per loop (mean ± std. dev. of 7 runs, 100,000 loops each)\n"
     ]
    }
   ],
   "source": [
    "%timeit Batch(**_TREE_DATA_1)"
   ]
  },
  {
   "cell_type": "markdown",
   "id": "1ab82e2d",
   "metadata": {},
   "source": [
    "## Deep Copy Operation"
   ]
  },
  {
   "cell_type": "code",
   "execution_count": 16,
   "id": "210a9442",
   "metadata": {
    "execution": {
     "iopub.execute_input": "2023-02-27T13:13:58.462551Z",
     "iopub.status.busy": "2023-02-27T13:13:58.462048Z",
     "iopub.status.idle": "2023-02-27T13:13:58.466113Z",
     "shell.execute_reply": "2023-02-27T13:13:58.465502Z"
    }
   },
   "outputs": [],
   "source": [
    "import copy"
   ]
  },
  {
   "cell_type": "markdown",
   "id": "5a736274",
   "metadata": {},
   "source": [
    "### Deep Copy of TreeValue"
   ]
  },
  {
   "cell_type": "code",
   "execution_count": 17,
   "id": "f9bcadd6",
   "metadata": {
    "execution": {
     "iopub.execute_input": "2023-02-27T13:13:58.468854Z",
     "iopub.status.busy": "2023-02-27T13:13:58.468503Z",
     "iopub.status.idle": "2023-02-27T13:14:09.602921Z",
     "shell.execute_reply": "2023-02-27T13:14:09.602327Z"
    }
   },
   "outputs": [
    {
     "name": "stdout",
     "output_type": "stream",
     "text": [
      "137 µs ± 372 ns per loop (mean ± std. dev. of 7 runs, 10,000 loops each)\n"
     ]
    }
   ],
   "source": [
    "t3 = FastTreeValue(_TREE_DATA_3)\n",
    "%timeit copy.deepcopy(t3)"
   ]
  },
  {
   "cell_type": "markdown",
   "id": "bf8be7ea",
   "metadata": {},
   "source": [
    "### Deep Copy of Tianshou Batch"
   ]
  },
  {
   "cell_type": "code",
   "execution_count": 18,
   "id": "91998e6f",
   "metadata": {
    "execution": {
     "iopub.execute_input": "2023-02-27T13:14:09.606157Z",
     "iopub.status.busy": "2023-02-27T13:14:09.605767Z",
     "iopub.status.idle": "2023-02-27T13:14:20.943475Z",
     "shell.execute_reply": "2023-02-27T13:14:20.942891Z"
    }
   },
   "outputs": [
    {
     "name": "stdout",
     "output_type": "stream",
     "text": [
      "140 µs ± 710 ns per loop (mean ± std. dev. of 7 runs, 10,000 loops each)\n"
     ]
    }
   ],
   "source": [
    "b3 = Batch(**_TREE_DATA_3)\n",
    "%timeit copy.deepcopy(b3)"
   ]
  },
  {
   "cell_type": "markdown",
   "id": "223162fb",
   "metadata": {},
   "source": [
    "## Stack, Concat and Split Operation"
   ]
  },
  {
   "cell_type": "markdown",
   "id": "85fa4a73",
   "metadata": {},
   "source": [
    "### Performance of TreeValue"
   ]
  },
  {
   "cell_type": "code",
   "execution_count": 19,
   "id": "a0c2b697",
   "metadata": {
    "execution": {
     "iopub.execute_input": "2023-02-27T13:14:20.946797Z",
     "iopub.status.busy": "2023-02-27T13:14:20.946324Z",
     "iopub.status.idle": "2023-02-27T13:14:20.950590Z",
     "shell.execute_reply": "2023-02-27T13:14:20.949979Z"
    }
   },
   "outputs": [],
   "source": [
    "trees = [FastTreeValue(_TREE_DATA_2) for _ in range(8)]"
   ]
  },
  {
   "cell_type": "code",
   "execution_count": 20,
   "id": "017ea5a5",
   "metadata": {
    "execution": {
     "iopub.execute_input": "2023-02-27T13:14:20.953038Z",
     "iopub.status.busy": "2023-02-27T13:14:20.952705Z",
     "iopub.status.idle": "2023-02-27T13:14:20.961507Z",
     "shell.execute_reply": "2023-02-27T13:14:20.960903Z"
    }
   },
   "outputs": [
    {
     "data": {
      "text/plain": [
       "<FastTreeValue 0x7fe140613220>\n",
       "├── 'a' --> tensor([[[ 0.1011,  0.8778, -0.6750],\n",
       "│                    [-0.5130, -0.7542,  0.5872]],\n",
       "│           \n",
       "│                   [[ 0.1011,  0.8778, -0.6750],\n",
       "│                    [-0.5130, -0.7542,  0.5872]],\n",
       "│           \n",
       "│                   [[ 0.1011,  0.8778, -0.6750],\n",
       "│                    [-0.5130, -0.7542,  0.5872]],\n",
       "│           \n",
       "│                   [[ 0.1011,  0.8778, -0.6750],\n",
       "│                    [-0.5130, -0.7542,  0.5872]],\n",
       "│           \n",
       "│                   [[ 0.1011,  0.8778, -0.6750],\n",
       "│                    [-0.5130, -0.7542,  0.5872]],\n",
       "│           \n",
       "│                   [[ 0.1011,  0.8778, -0.6750],\n",
       "│                    [-0.5130, -0.7542,  0.5872]],\n",
       "│           \n",
       "│                   [[ 0.1011,  0.8778, -0.6750],\n",
       "│                    [-0.5130, -0.7542,  0.5872]],\n",
       "│           \n",
       "│                   [[ 0.1011,  0.8778, -0.6750],\n",
       "│                    [-0.5130, -0.7542,  0.5872]]])\n",
       "└── 'x' --> <FastTreeValue 0x7fe08a8cf850>\n",
       "    └── 'c' --> tensor([[[ 1.6943, -1.6077, -1.4818, -0.9593],\n",
       "                         [-1.7618, -0.0295,  0.9675, -1.5507],\n",
       "                         [-0.2878, -1.2441, -1.2887, -0.2663]],\n",
       "                \n",
       "                        [[ 1.6943, -1.6077, -1.4818, -0.9593],\n",
       "                         [-1.7618, -0.0295,  0.9675, -1.5507],\n",
       "                         [-0.2878, -1.2441, -1.2887, -0.2663]],\n",
       "                \n",
       "                        [[ 1.6943, -1.6077, -1.4818, -0.9593],\n",
       "                         [-1.7618, -0.0295,  0.9675, -1.5507],\n",
       "                         [-0.2878, -1.2441, -1.2887, -0.2663]],\n",
       "                \n",
       "                        [[ 1.6943, -1.6077, -1.4818, -0.9593],\n",
       "                         [-1.7618, -0.0295,  0.9675, -1.5507],\n",
       "                         [-0.2878, -1.2441, -1.2887, -0.2663]],\n",
       "                \n",
       "                        [[ 1.6943, -1.6077, -1.4818, -0.9593],\n",
       "                         [-1.7618, -0.0295,  0.9675, -1.5507],\n",
       "                         [-0.2878, -1.2441, -1.2887, -0.2663]],\n",
       "                \n",
       "                        [[ 1.6943, -1.6077, -1.4818, -0.9593],\n",
       "                         [-1.7618, -0.0295,  0.9675, -1.5507],\n",
       "                         [-0.2878, -1.2441, -1.2887, -0.2663]],\n",
       "                \n",
       "                        [[ 1.6943, -1.6077, -1.4818, -0.9593],\n",
       "                         [-1.7618, -0.0295,  0.9675, -1.5507],\n",
       "                         [-0.2878, -1.2441, -1.2887, -0.2663]],\n",
       "                \n",
       "                        [[ 1.6943, -1.6077, -1.4818, -0.9593],\n",
       "                         [-1.7618, -0.0295,  0.9675, -1.5507],\n",
       "                         [-0.2878, -1.2441, -1.2887, -0.2663]]])"
      ]
     },
     "execution_count": 20,
     "metadata": {},
     "output_type": "execute_result"
    }
   ],
   "source": [
    "t_stack = FastTreeValue.func(subside=True)(torch.stack)\n",
    "\n",
    "t_stack(trees)"
   ]
  },
  {
   "cell_type": "code",
   "execution_count": 21,
   "id": "f8b3f415",
   "metadata": {
    "execution": {
     "iopub.execute_input": "2023-02-27T13:14:20.964217Z",
     "iopub.status.busy": "2023-02-27T13:14:20.963989Z",
     "iopub.status.idle": "2023-02-27T13:14:23.583946Z",
     "shell.execute_reply": "2023-02-27T13:14:23.583264Z"
    }
   },
   "outputs": [
    {
     "name": "stdout",
     "output_type": "stream",
     "text": [
      "32.2 µs ± 24.5 ns per loop (mean ± std. dev. of 7 runs, 10,000 loops each)\n"
     ]
    }
   ],
   "source": [
    "%timeit t_stack(trees)"
   ]
  },
  {
   "cell_type": "code",
   "execution_count": 22,
   "id": "94b56771",
   "metadata": {
    "execution": {
     "iopub.execute_input": "2023-02-27T13:14:23.587158Z",
     "iopub.status.busy": "2023-02-27T13:14:23.586635Z",
     "iopub.status.idle": "2023-02-27T13:14:23.599499Z",
     "shell.execute_reply": "2023-02-27T13:14:23.593954Z"
    }
   },
   "outputs": [
    {
     "data": {
      "text/plain": [
       "<FastTreeValue 0x7fe09bf90fa0>\n",
       "├── 'a' --> tensor([[ 0.1011,  0.8778, -0.6750],\n",
       "│                   [-0.5130, -0.7542,  0.5872],\n",
       "│                   [ 0.1011,  0.8778, -0.6750],\n",
       "│                   [-0.5130, -0.7542,  0.5872],\n",
       "│                   [ 0.1011,  0.8778, -0.6750],\n",
       "│                   [-0.5130, -0.7542,  0.5872],\n",
       "│                   [ 0.1011,  0.8778, -0.6750],\n",
       "│                   [-0.5130, -0.7542,  0.5872],\n",
       "│                   [ 0.1011,  0.8778, -0.6750],\n",
       "│                   [-0.5130, -0.7542,  0.5872],\n",
       "│                   [ 0.1011,  0.8778, -0.6750],\n",
       "│                   [-0.5130, -0.7542,  0.5872],\n",
       "│                   [ 0.1011,  0.8778, -0.6750],\n",
       "│                   [-0.5130, -0.7542,  0.5872],\n",
       "│                   [ 0.1011,  0.8778, -0.6750],\n",
       "│                   [-0.5130, -0.7542,  0.5872]])\n",
       "└── 'x' --> <FastTreeValue 0x7fe1406196a0>\n",
       "    └── 'c' --> tensor([[ 1.6943, -1.6077, -1.4818, -0.9593],\n",
       "                        [-1.7618, -0.0295,  0.9675, -1.5507],\n",
       "                        [-0.2878, -1.2441, -1.2887, -0.2663],\n",
       "                        [ 1.6943, -1.6077, -1.4818, -0.9593],\n",
       "                        [-1.7618, -0.0295,  0.9675, -1.5507],\n",
       "                        [-0.2878, -1.2441, -1.2887, -0.2663],\n",
       "                        [ 1.6943, -1.6077, -1.4818, -0.9593],\n",
       "                        [-1.7618, -0.0295,  0.9675, -1.5507],\n",
       "                        [-0.2878, -1.2441, -1.2887, -0.2663],\n",
       "                        [ 1.6943, -1.6077, -1.4818, -0.9593],\n",
       "                        [-1.7618, -0.0295,  0.9675, -1.5507],\n",
       "                        [-0.2878, -1.2441, -1.2887, -0.2663],\n",
       "                        [ 1.6943, -1.6077, -1.4818, -0.9593],\n",
       "                        [-1.7618, -0.0295,  0.9675, -1.5507],\n",
       "                        [-0.2878, -1.2441, -1.2887, -0.2663],\n",
       "                        [ 1.6943, -1.6077, -1.4818, -0.9593],\n",
       "                        [-1.7618, -0.0295,  0.9675, -1.5507],\n",
       "                        [-0.2878, -1.2441, -1.2887, -0.2663],\n",
       "                        [ 1.6943, -1.6077, -1.4818, -0.9593],\n",
       "                        [-1.7618, -0.0295,  0.9675, -1.5507],\n",
       "                        [-0.2878, -1.2441, -1.2887, -0.2663],\n",
       "                        [ 1.6943, -1.6077, -1.4818, -0.9593],\n",
       "                        [-1.7618, -0.0295,  0.9675, -1.5507],\n",
       "                        [-0.2878, -1.2441, -1.2887, -0.2663]])"
      ]
     },
     "execution_count": 22,
     "metadata": {},
     "output_type": "execute_result"
    }
   ],
   "source": [
    "t_cat = FastTreeValue.func(subside=True)(torch.cat)\n",
    "\n",
    "t_cat(trees)"
   ]
  },
  {
   "cell_type": "code",
   "execution_count": 23,
   "id": "5e9c06a6",
   "metadata": {
    "execution": {
     "iopub.execute_input": "2023-02-27T13:14:23.602341Z",
     "iopub.status.busy": "2023-02-27T13:14:23.601835Z",
     "iopub.status.idle": "2023-02-27T13:14:26.039181Z",
     "shell.execute_reply": "2023-02-27T13:14:26.038304Z"
    }
   },
   "outputs": [
    {
     "name": "stdout",
     "output_type": "stream",
     "text": [
      "30 µs ± 50.4 ns per loop (mean ± std. dev. of 7 runs, 10,000 loops each)\n"
     ]
    }
   ],
   "source": [
    "%timeit t_cat(trees)"
   ]
  },
  {
   "cell_type": "code",
   "execution_count": 24,
   "id": "a3ab5c8f",
   "metadata": {
    "execution": {
     "iopub.execute_input": "2023-02-27T13:14:26.042440Z",
     "iopub.status.busy": "2023-02-27T13:14:26.041789Z",
     "iopub.status.idle": "2023-02-27T13:14:30.865096Z",
     "shell.execute_reply": "2023-02-27T13:14:30.864342Z"
    }
   },
   "outputs": [
    {
     "name": "stdout",
     "output_type": "stream",
     "text": [
      "59.3 µs ± 37.1 ns per loop (mean ± std. dev. of 7 runs, 10,000 loops each)\n"
     ]
    }
   ],
   "source": [
    "t_split = FastTreeValue.func(rise=True)(torch.split)\n",
    "tree = FastTreeValue({\n",
    "    'obs': torch.randn(8, 4, 84, 84),\n",
    "    'action': torch.randint(0, 6, size=(8, 1,)),\n",
    "    'reward': torch.rand(8, 1),\n",
    "})\n",
    "\n",
    "%timeit t_split(tree, 1)"
   ]
  },
  {
   "cell_type": "markdown",
   "id": "31c3ec0b",
   "metadata": {},
   "source": [
    "### Performance of Tianshou Batch"
   ]
  },
  {
   "cell_type": "code",
   "execution_count": 25,
   "id": "9ead828a",
   "metadata": {
    "execution": {
     "iopub.execute_input": "2023-02-27T13:14:30.868035Z",
     "iopub.status.busy": "2023-02-27T13:14:30.867639Z",
     "iopub.status.idle": "2023-02-27T13:14:30.875765Z",
     "shell.execute_reply": "2023-02-27T13:14:30.875164Z"
    }
   },
   "outputs": [
    {
     "data": {
      "text/plain": [
       "Batch(\n",
       "    x: Batch(\n",
       "           c: tensor([[[ 1.6943, -1.6077, -1.4818, -0.9593],\n",
       "                       [-1.7618, -0.0295,  0.9675, -1.5507],\n",
       "                       [-0.2878, -1.2441, -1.2887, -0.2663]],\n",
       "              \n",
       "                      [[ 1.6943, -1.6077, -1.4818, -0.9593],\n",
       "                       [-1.7618, -0.0295,  0.9675, -1.5507],\n",
       "                       [-0.2878, -1.2441, -1.2887, -0.2663]],\n",
       "              \n",
       "                      [[ 1.6943, -1.6077, -1.4818, -0.9593],\n",
       "                       [-1.7618, -0.0295,  0.9675, -1.5507],\n",
       "                       [-0.2878, -1.2441, -1.2887, -0.2663]],\n",
       "              \n",
       "                      [[ 1.6943, -1.6077, -1.4818, -0.9593],\n",
       "                       [-1.7618, -0.0295,  0.9675, -1.5507],\n",
       "                       [-0.2878, -1.2441, -1.2887, -0.2663]],\n",
       "              \n",
       "                      [[ 1.6943, -1.6077, -1.4818, -0.9593],\n",
       "                       [-1.7618, -0.0295,  0.9675, -1.5507],\n",
       "                       [-0.2878, -1.2441, -1.2887, -0.2663]],\n",
       "              \n",
       "                      [[ 1.6943, -1.6077, -1.4818, -0.9593],\n",
       "                       [-1.7618, -0.0295,  0.9675, -1.5507],\n",
       "                       [-0.2878, -1.2441, -1.2887, -0.2663]],\n",
       "              \n",
       "                      [[ 1.6943, -1.6077, -1.4818, -0.9593],\n",
       "                       [-1.7618, -0.0295,  0.9675, -1.5507],\n",
       "                       [-0.2878, -1.2441, -1.2887, -0.2663]],\n",
       "              \n",
       "                      [[ 1.6943, -1.6077, -1.4818, -0.9593],\n",
       "                       [-1.7618, -0.0295,  0.9675, -1.5507],\n",
       "                       [-0.2878, -1.2441, -1.2887, -0.2663]]]),\n",
       "       ),\n",
       "    a: tensor([[[ 0.1011,  0.8778, -0.6750],\n",
       "                [-0.5130, -0.7542,  0.5872]],\n",
       "       \n",
       "               [[ 0.1011,  0.8778, -0.6750],\n",
       "                [-0.5130, -0.7542,  0.5872]],\n",
       "       \n",
       "               [[ 0.1011,  0.8778, -0.6750],\n",
       "                [-0.5130, -0.7542,  0.5872]],\n",
       "       \n",
       "               [[ 0.1011,  0.8778, -0.6750],\n",
       "                [-0.5130, -0.7542,  0.5872]],\n",
       "       \n",
       "               [[ 0.1011,  0.8778, -0.6750],\n",
       "                [-0.5130, -0.7542,  0.5872]],\n",
       "       \n",
       "               [[ 0.1011,  0.8778, -0.6750],\n",
       "                [-0.5130, -0.7542,  0.5872]],\n",
       "       \n",
       "               [[ 0.1011,  0.8778, -0.6750],\n",
       "                [-0.5130, -0.7542,  0.5872]],\n",
       "       \n",
       "               [[ 0.1011,  0.8778, -0.6750],\n",
       "                [-0.5130, -0.7542,  0.5872]]]),\n",
       ")"
      ]
     },
     "execution_count": 25,
     "metadata": {},
     "output_type": "execute_result"
    }
   ],
   "source": [
    "batches = [Batch(**_TREE_DATA_2) for _ in range(8)]\n",
    "\n",
    "Batch.stack(batches)"
   ]
  },
  {
   "cell_type": "code",
   "execution_count": 26,
   "id": "ec9037a3",
   "metadata": {
    "execution": {
     "iopub.execute_input": "2023-02-27T13:14:30.878414Z",
     "iopub.status.busy": "2023-02-27T13:14:30.878060Z",
     "iopub.status.idle": "2023-02-27T13:14:37.231348Z",
     "shell.execute_reply": "2023-02-27T13:14:37.230617Z"
    }
   },
   "outputs": [
    {
     "name": "stdout",
     "output_type": "stream",
     "text": [
      "78.3 µs ± 1.01 µs per loop (mean ± std. dev. of 7 runs, 10,000 loops each)\n"
     ]
    }
   ],
   "source": [
    "%timeit Batch.stack(batches)"
   ]
  },
  {
   "cell_type": "code",
   "execution_count": 27,
   "id": "cb8ab77e",
   "metadata": {
    "execution": {
     "iopub.execute_input": "2023-02-27T13:14:37.234350Z",
     "iopub.status.busy": "2023-02-27T13:14:37.233973Z",
     "iopub.status.idle": "2023-02-27T13:14:37.241883Z",
     "shell.execute_reply": "2023-02-27T13:14:37.241291Z"
    }
   },
   "outputs": [
    {
     "data": {
      "text/plain": [
       "Batch(\n",
       "    x: Batch(\n",
       "           c: tensor([[ 1.6943, -1.6077, -1.4818, -0.9593],\n",
       "                      [-1.7618, -0.0295,  0.9675, -1.5507],\n",
       "                      [-0.2878, -1.2441, -1.2887, -0.2663],\n",
       "                      [ 1.6943, -1.6077, -1.4818, -0.9593],\n",
       "                      [-1.7618, -0.0295,  0.9675, -1.5507],\n",
       "                      [-0.2878, -1.2441, -1.2887, -0.2663],\n",
       "                      [ 1.6943, -1.6077, -1.4818, -0.9593],\n",
       "                      [-1.7618, -0.0295,  0.9675, -1.5507],\n",
       "                      [-0.2878, -1.2441, -1.2887, -0.2663],\n",
       "                      [ 1.6943, -1.6077, -1.4818, -0.9593],\n",
       "                      [-1.7618, -0.0295,  0.9675, -1.5507],\n",
       "                      [-0.2878, -1.2441, -1.2887, -0.2663],\n",
       "                      [ 1.6943, -1.6077, -1.4818, -0.9593],\n",
       "                      [-1.7618, -0.0295,  0.9675, -1.5507],\n",
       "                      [-0.2878, -1.2441, -1.2887, -0.2663],\n",
       "                      [ 1.6943, -1.6077, -1.4818, -0.9593],\n",
       "                      [-1.7618, -0.0295,  0.9675, -1.5507],\n",
       "                      [-0.2878, -1.2441, -1.2887, -0.2663],\n",
       "                      [ 1.6943, -1.6077, -1.4818, -0.9593],\n",
       "                      [-1.7618, -0.0295,  0.9675, -1.5507],\n",
       "                      [-0.2878, -1.2441, -1.2887, -0.2663],\n",
       "                      [ 1.6943, -1.6077, -1.4818, -0.9593],\n",
       "                      [-1.7618, -0.0295,  0.9675, -1.5507],\n",
       "                      [-0.2878, -1.2441, -1.2887, -0.2663]]),\n",
       "       ),\n",
       "    a: tensor([[ 0.1011,  0.8778, -0.6750],\n",
       "               [-0.5130, -0.7542,  0.5872],\n",
       "               [ 0.1011,  0.8778, -0.6750],\n",
       "               [-0.5130, -0.7542,  0.5872],\n",
       "               [ 0.1011,  0.8778, -0.6750],\n",
       "               [-0.5130, -0.7542,  0.5872],\n",
       "               [ 0.1011,  0.8778, -0.6750],\n",
       "               [-0.5130, -0.7542,  0.5872],\n",
       "               [ 0.1011,  0.8778, -0.6750],\n",
       "               [-0.5130, -0.7542,  0.5872],\n",
       "               [ 0.1011,  0.8778, -0.6750],\n",
       "               [-0.5130, -0.7542,  0.5872],\n",
       "               [ 0.1011,  0.8778, -0.6750],\n",
       "               [-0.5130, -0.7542,  0.5872],\n",
       "               [ 0.1011,  0.8778, -0.6750],\n",
       "               [-0.5130, -0.7542,  0.5872]]),\n",
       ")"
      ]
     },
     "execution_count": 27,
     "metadata": {},
     "output_type": "execute_result"
    }
   ],
   "source": [
    "Batch.cat(batches)"
   ]
  },
  {
   "cell_type": "code",
   "execution_count": 28,
   "id": "18dfb045",
   "metadata": {
    "execution": {
     "iopub.execute_input": "2023-02-27T13:14:37.244776Z",
     "iopub.status.busy": "2023-02-27T13:14:37.244284Z",
     "iopub.status.idle": "2023-02-27T13:14:48.851151Z",
     "shell.execute_reply": "2023-02-27T13:14:48.850405Z"
    }
   },
   "outputs": [
    {
     "name": "stdout",
     "output_type": "stream",
     "text": [
      "143 µs ± 119 ns per loop (mean ± std. dev. of 7 runs, 10,000 loops each)\n"
     ]
    }
   ],
   "source": [
    "%timeit Batch.cat(batches)"
   ]
  },
  {
   "cell_type": "code",
   "execution_count": 29,
   "id": "c6688e51",
   "metadata": {
    "execution": {
     "iopub.execute_input": "2023-02-27T13:14:48.854506Z",
     "iopub.status.busy": "2023-02-27T13:14:48.853845Z",
     "iopub.status.idle": "2023-02-27T13:14:51.367429Z",
     "shell.execute_reply": "2023-02-27T13:14:51.366867Z"
    }
   },
   "outputs": [
    {
     "name": "stdout",
     "output_type": "stream",
     "text": [
      "309 µs ± 1.86 µs per loop (mean ± std. dev. of 7 runs, 1,000 loops each)\n"
     ]
    }
   ],
   "source": [
    "batch = Batch({\n",
    "    'obs': torch.randn(8, 4, 84, 84),\n",
    "    'action': torch.randint(0, 6, size=(8, 1,)),\n",
    "    'reward': torch.rand(8, 1)}\n",
    ")\n",
    "\n",
    "%timeit list(Batch.split(batch, 1, shuffle=False, merge_last=True))"
   ]
  },
  {
   "cell_type": "code",
   "execution_count": null,
   "id": "2539fbd9",
   "metadata": {},
   "outputs": [],
   "source": []
  }
 ],
 "metadata": {
  "kernelspec": {
   "display_name": "Python 3 (ipykernel)",
   "language": "python",
   "name": "python3"
  },
  "language_info": {
   "codemirror_mode": {
    "name": "ipython",
    "version": 3
   },
   "file_extension": ".py",
   "mimetype": "text/x-python",
   "name": "python",
   "nbconvert_exporter": "python",
   "pygments_lexer": "ipython3",
   "version": "3.8.16"
  }
 },
 "nbformat": 4,
 "nbformat_minor": 5
}
