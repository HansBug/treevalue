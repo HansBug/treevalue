{
 "cells": [
  {
   "cell_type": "markdown",
   "id": "9d39d946",
   "metadata": {},
   "source": [
    "# Comparison Between TreeValue and Tianshou Batch"
   ]
  },
  {
   "cell_type": "markdown",
   "id": "3c6db2d4",
   "metadata": {},
   "source": [
    "In this section, we will take a look at the feature and performance of the [Tianshou Batch](https://github.com/thu-ml/tianshou) library, which is developed by Tsinghua Machine Learning Group."
   ]
  },
  {
   "cell_type": "markdown",
   "id": "069361b0",
   "metadata": {},
   "source": [
    "Before starting the comparison, let us define some thing."
   ]
  },
  {
   "cell_type": "code",
   "execution_count": 1,
   "id": "06fc8d26",
   "metadata": {
    "execution": {
     "iopub.execute_input": "2023-02-12T18:30:49.358321Z",
     "iopub.status.busy": "2023-02-12T18:30:49.358100Z",
     "iopub.status.idle": "2023-02-12T18:30:50.272678Z",
     "shell.execute_reply": "2023-02-12T18:30:50.272023Z"
    }
   },
   "outputs": [
    {
     "name": "stderr",
     "output_type": "stream",
     "text": [
      "/opt/hostedtoolcache/Python/3.8.16/x64/lib/python3.8/site-packages/tqdm/auto.py:22: TqdmWarning: IProgress not found. Please update jupyter and ipywidgets. See https://ipywidgets.readthedocs.io/en/stable/user_install.html\n",
      "  from .autonotebook import tqdm as notebook_tqdm\n"
     ]
    }
   ],
   "source": [
    "import torch \n",
    "\n",
    "_TREE_DATA_1 = {'a': 1, 'b': 2, 'x': {'c': 3, 'd': 4}}\n",
    "_TREE_DATA_2 = {\n",
    "    'a': torch.randn(2, 3), \n",
    "    'x': {\n",
    "        'c': torch.randn(3, 4)\n",
    "    },\n",
    "}\n",
    "_TREE_DATA_3 = {\n",
    "    'obs': torch.randn(4, 84, 84),\n",
    "    'action': torch.randint(0, 6, size=(1,)),\n",
    "    'reward': torch.rand(1),\n",
    "}"
   ]
  },
  {
   "cell_type": "markdown",
   "id": "83461b25",
   "metadata": {},
   "source": [
    "## Read and Write Operation"
   ]
  },
  {
   "cell_type": "markdown",
   "id": "067b3f73",
   "metadata": {},
   "source": [
    "Reading and writing are the two most common operations in the tree data structure based on the data model (TreeValue and Tianshou Batch both belong to this type), so this section will compare the reading and writing performance of these two libraries."
   ]
  },
  {
   "cell_type": "markdown",
   "id": "5d09a5b7",
   "metadata": {},
   "source": [
    "### TreeValue's Get and Set"
   ]
  },
  {
   "cell_type": "code",
   "execution_count": 2,
   "id": "9519c4bb",
   "metadata": {
    "execution": {
     "iopub.execute_input": "2023-02-12T18:30:50.275960Z",
     "iopub.status.busy": "2023-02-12T18:30:50.275350Z",
     "iopub.status.idle": "2023-02-12T18:30:50.307958Z",
     "shell.execute_reply": "2023-02-12T18:30:50.307344Z"
    }
   },
   "outputs": [],
   "source": [
    "from treevalue import FastTreeValue\n",
    "\n",
    "t = FastTreeValue(_TREE_DATA_2)"
   ]
  },
  {
   "cell_type": "code",
   "execution_count": 3,
   "id": "11c37677",
   "metadata": {
    "execution": {
     "iopub.execute_input": "2023-02-12T18:30:50.310556Z",
     "iopub.status.busy": "2023-02-12T18:30:50.310209Z",
     "iopub.status.idle": "2023-02-12T18:30:50.319286Z",
     "shell.execute_reply": "2023-02-12T18:30:50.318700Z"
    }
   },
   "outputs": [
    {
     "data": {
      "text/plain": [
       "<FastTreeValue 0x7fea4f9af3d0>\n",
       "├── 'a' --> tensor([[-0.2512, -0.3344, -0.2022],\n",
       "│                   [-0.1942,  1.3035, -2.8154]])\n",
       "└── 'x' --> <FastTreeValue 0x7fea4f9af310>\n",
       "    └── 'c' --> tensor([[ 0.2692, -1.7537, -0.9247, -0.7544],\n",
       "                        [ 1.8622, -0.1832,  0.2623, -0.7626],\n",
       "                        [ 0.5406,  1.6350, -0.1108,  0.0697]])"
      ]
     },
     "execution_count": 3,
     "metadata": {},
     "output_type": "execute_result"
    }
   ],
   "source": [
    "t"
   ]
  },
  {
   "cell_type": "code",
   "execution_count": 4,
   "id": "fd70b0b9",
   "metadata": {
    "execution": {
     "iopub.execute_input": "2023-02-12T18:30:50.321727Z",
     "iopub.status.busy": "2023-02-12T18:30:50.321392Z",
     "iopub.status.idle": "2023-02-12T18:30:50.326056Z",
     "shell.execute_reply": "2023-02-12T18:30:50.325461Z"
    }
   },
   "outputs": [
    {
     "data": {
      "text/plain": [
       "tensor([[-0.2512, -0.3344, -0.2022],\n",
       "        [-0.1942,  1.3035, -2.8154]])"
      ]
     },
     "execution_count": 4,
     "metadata": {},
     "output_type": "execute_result"
    }
   ],
   "source": [
    "t.a"
   ]
  },
  {
   "cell_type": "code",
   "execution_count": 5,
   "id": "c18197bd",
   "metadata": {
    "execution": {
     "iopub.execute_input": "2023-02-12T18:30:50.328484Z",
     "iopub.status.busy": "2023-02-12T18:30:50.328140Z",
     "iopub.status.idle": "2023-02-12T18:30:55.296874Z",
     "shell.execute_reply": "2023-02-12T18:30:55.296187Z"
    }
   },
   "outputs": [
    {
     "name": "stdout",
     "output_type": "stream",
     "text": [
      "60.2 ns ± 0.0976 ns per loop (mean ± std. dev. of 7 runs, 10,000,000 loops each)\n"
     ]
    }
   ],
   "source": [
    "%timeit t.a"
   ]
  },
  {
   "cell_type": "code",
   "execution_count": 6,
   "id": "bd52f867",
   "metadata": {
    "execution": {
     "iopub.execute_input": "2023-02-12T18:30:55.300019Z",
     "iopub.status.busy": "2023-02-12T18:30:55.299525Z",
     "iopub.status.idle": "2023-02-12T18:30:55.306132Z",
     "shell.execute_reply": "2023-02-12T18:30:55.305545Z"
    }
   },
   "outputs": [
    {
     "data": {
      "text/plain": [
       "<FastTreeValue 0x7fea4f9af3d0>\n",
       "├── 'a' --> tensor([[ 0.3164,  0.9590,  0.1034],\n",
       "│                   [ 0.6986, -1.7566, -0.9084]])\n",
       "└── 'x' --> <FastTreeValue 0x7fea4f9af310>\n",
       "    └── 'c' --> tensor([[ 0.2692, -1.7537, -0.9247, -0.7544],\n",
       "                        [ 1.8622, -0.1832,  0.2623, -0.7626],\n",
       "                        [ 0.5406,  1.6350, -0.1108,  0.0697]])"
      ]
     },
     "execution_count": 6,
     "metadata": {},
     "output_type": "execute_result"
    }
   ],
   "source": [
    "new_value = torch.randn(2, 3)\n",
    "t.a = new_value\n",
    "\n",
    "t"
   ]
  },
  {
   "cell_type": "code",
   "execution_count": 7,
   "id": "bbe04d1c",
   "metadata": {
    "execution": {
     "iopub.execute_input": "2023-02-12T18:30:55.308804Z",
     "iopub.status.busy": "2023-02-12T18:30:55.308453Z",
     "iopub.status.idle": "2023-02-12T18:31:00.077542Z",
     "shell.execute_reply": "2023-02-12T18:31:00.076782Z"
    }
   },
   "outputs": [
    {
     "name": "stdout",
     "output_type": "stream",
     "text": [
      "58.6 ns ± 0.0526 ns per loop (mean ± std. dev. of 7 runs, 10,000,000 loops each)\n"
     ]
    }
   ],
   "source": [
    "%timeit t.a = new_value"
   ]
  },
  {
   "cell_type": "markdown",
   "id": "48c49731",
   "metadata": {},
   "source": [
    "### Tianshou Batch's Get and Set"
   ]
  },
  {
   "cell_type": "code",
   "execution_count": 8,
   "id": "f1bb14c1",
   "metadata": {
    "execution": {
     "iopub.execute_input": "2023-02-12T18:31:00.080507Z",
     "iopub.status.busy": "2023-02-12T18:31:00.079917Z",
     "iopub.status.idle": "2023-02-12T18:31:00.407340Z",
     "shell.execute_reply": "2023-02-12T18:31:00.406668Z"
    }
   },
   "outputs": [],
   "source": [
    "from tianshou.data import Batch\n",
    "\n",
    "b = Batch(**_TREE_DATA_2)"
   ]
  },
  {
   "cell_type": "code",
   "execution_count": 9,
   "id": "cb0777c3",
   "metadata": {
    "execution": {
     "iopub.execute_input": "2023-02-12T18:31:00.410389Z",
     "iopub.status.busy": "2023-02-12T18:31:00.409773Z",
     "iopub.status.idle": "2023-02-12T18:31:00.415920Z",
     "shell.execute_reply": "2023-02-12T18:31:00.415347Z"
    }
   },
   "outputs": [
    {
     "data": {
      "text/plain": [
       "Batch(\n",
       "    a: tensor([[-0.2512, -0.3344, -0.2022],\n",
       "               [-0.1942,  1.3035, -2.8154]]),\n",
       "    x: Batch(\n",
       "           c: tensor([[ 0.2692, -1.7537, -0.9247, -0.7544],\n",
       "                      [ 1.8622, -0.1832,  0.2623, -0.7626],\n",
       "                      [ 0.5406,  1.6350, -0.1108,  0.0697]]),\n",
       "       ),\n",
       ")"
      ]
     },
     "execution_count": 9,
     "metadata": {},
     "output_type": "execute_result"
    }
   ],
   "source": [
    "b"
   ]
  },
  {
   "cell_type": "code",
   "execution_count": 10,
   "id": "43ef8ea3",
   "metadata": {
    "execution": {
     "iopub.execute_input": "2023-02-12T18:31:00.418187Z",
     "iopub.status.busy": "2023-02-12T18:31:00.417966Z",
     "iopub.status.idle": "2023-02-12T18:31:00.423878Z",
     "shell.execute_reply": "2023-02-12T18:31:00.423321Z"
    }
   },
   "outputs": [
    {
     "data": {
      "text/plain": [
       "tensor([[-0.2512, -0.3344, -0.2022],\n",
       "        [-0.1942,  1.3035, -2.8154]])"
      ]
     },
     "execution_count": 10,
     "metadata": {},
     "output_type": "execute_result"
    }
   ],
   "source": [
    "b.a"
   ]
  },
  {
   "cell_type": "code",
   "execution_count": 11,
   "id": "b785ab72",
   "metadata": {
    "execution": {
     "iopub.execute_input": "2023-02-12T18:31:00.426421Z",
     "iopub.status.busy": "2023-02-12T18:31:00.426073Z",
     "iopub.status.idle": "2023-02-12T18:31:04.828443Z",
     "shell.execute_reply": "2023-02-12T18:31:04.827722Z"
    }
   },
   "outputs": [
    {
     "name": "stdout",
     "output_type": "stream",
     "text": [
      "54.3 ns ± 0.0481 ns per loop (mean ± std. dev. of 7 runs, 10,000,000 loops each)\n"
     ]
    }
   ],
   "source": [
    "%timeit b.a"
   ]
  },
  {
   "cell_type": "code",
   "execution_count": 12,
   "id": "ad54dc69",
   "metadata": {
    "execution": {
     "iopub.execute_input": "2023-02-12T18:31:04.831101Z",
     "iopub.status.busy": "2023-02-12T18:31:04.830877Z",
     "iopub.status.idle": "2023-02-12T18:31:04.837010Z",
     "shell.execute_reply": "2023-02-12T18:31:04.836421Z"
    }
   },
   "outputs": [
    {
     "data": {
      "text/plain": [
       "Batch(\n",
       "    a: tensor([[ 0.4142, -0.3499, -0.3473],\n",
       "               [-1.1094,  1.2601,  0.9810]]),\n",
       "    x: Batch(\n",
       "           c: tensor([[ 0.2692, -1.7537, -0.9247, -0.7544],\n",
       "                      [ 1.8622, -0.1832,  0.2623, -0.7626],\n",
       "                      [ 0.5406,  1.6350, -0.1108,  0.0697]]),\n",
       "       ),\n",
       ")"
      ]
     },
     "execution_count": 12,
     "metadata": {},
     "output_type": "execute_result"
    }
   ],
   "source": [
    "new_value = torch.randn(2, 3)\n",
    "b.a = new_value\n",
    "\n",
    "b"
   ]
  },
  {
   "cell_type": "code",
   "execution_count": 13,
   "id": "29b1d0bf",
   "metadata": {
    "execution": {
     "iopub.execute_input": "2023-02-12T18:31:04.839396Z",
     "iopub.status.busy": "2023-02-12T18:31:04.839179Z",
     "iopub.status.idle": "2023-02-12T18:31:08.814444Z",
     "shell.execute_reply": "2023-02-12T18:31:08.813765Z"
    }
   },
   "outputs": [
    {
     "name": "stdout",
     "output_type": "stream",
     "text": [
      "489 ns ± 0.198 ns per loop (mean ± std. dev. of 7 runs, 1,000,000 loops each)\n"
     ]
    }
   ],
   "source": [
    "%timeit b.a = new_value"
   ]
  },
  {
   "cell_type": "markdown",
   "id": "b61ad1d0",
   "metadata": {},
   "source": [
    "## Initialization"
   ]
  },
  {
   "cell_type": "markdown",
   "id": "d70f0d54",
   "metadata": {},
   "source": [
    "### TreeValue's Initialization"
   ]
  },
  {
   "cell_type": "code",
   "execution_count": 14,
   "id": "d32a679b",
   "metadata": {
    "execution": {
     "iopub.execute_input": "2023-02-12T18:31:08.817445Z",
     "iopub.status.busy": "2023-02-12T18:31:08.817090Z",
     "iopub.status.idle": "2023-02-12T18:31:15.718052Z",
     "shell.execute_reply": "2023-02-12T18:31:15.717294Z"
    }
   },
   "outputs": [
    {
     "name": "stdout",
     "output_type": "stream",
     "text": [
      "850 ns ± 0.11 ns per loop (mean ± std. dev. of 7 runs, 1,000,000 loops each)\n"
     ]
    }
   ],
   "source": [
    "%timeit FastTreeValue(_TREE_DATA_1)"
   ]
  },
  {
   "cell_type": "markdown",
   "id": "24f3707b",
   "metadata": {},
   "source": [
    "### Tianshou Batch's Initialization"
   ]
  },
  {
   "cell_type": "code",
   "execution_count": 15,
   "id": "ac3958df",
   "metadata": {
    "execution": {
     "iopub.execute_input": "2023-02-12T18:31:15.720834Z",
     "iopub.status.busy": "2023-02-12T18:31:15.720491Z",
     "iopub.status.idle": "2023-02-12T18:31:24.870803Z",
     "shell.execute_reply": "2023-02-12T18:31:24.870125Z"
    }
   },
   "outputs": [
    {
     "name": "stdout",
     "output_type": "stream",
     "text": [
      "11.3 µs ± 88.4 ns per loop (mean ± std. dev. of 7 runs, 100,000 loops each)\n"
     ]
    }
   ],
   "source": [
    "%timeit Batch(**_TREE_DATA_1)"
   ]
  },
  {
   "cell_type": "markdown",
   "id": "1ab82e2d",
   "metadata": {},
   "source": [
    "## Deep Copy Operation"
   ]
  },
  {
   "cell_type": "code",
   "execution_count": 16,
   "id": "210a9442",
   "metadata": {
    "execution": {
     "iopub.execute_input": "2023-02-12T18:31:24.873571Z",
     "iopub.status.busy": "2023-02-12T18:31:24.873338Z",
     "iopub.status.idle": "2023-02-12T18:31:24.877041Z",
     "shell.execute_reply": "2023-02-12T18:31:24.876456Z"
    }
   },
   "outputs": [],
   "source": [
    "import copy"
   ]
  },
  {
   "cell_type": "markdown",
   "id": "5a736274",
   "metadata": {},
   "source": [
    "### Deep Copy of TreeValue"
   ]
  },
  {
   "cell_type": "code",
   "execution_count": 17,
   "id": "f9bcadd6",
   "metadata": {
    "execution": {
     "iopub.execute_input": "2023-02-12T18:31:24.879371Z",
     "iopub.status.busy": "2023-02-12T18:31:24.879163Z",
     "iopub.status.idle": "2023-02-12T18:31:36.050951Z",
     "shell.execute_reply": "2023-02-12T18:31:36.050354Z"
    }
   },
   "outputs": [
    {
     "name": "stdout",
     "output_type": "stream",
     "text": [
      "138 µs ± 1.02 µs per loop (mean ± std. dev. of 7 runs, 10,000 loops each)\n"
     ]
    }
   ],
   "source": [
    "t3 = FastTreeValue(_TREE_DATA_3)\n",
    "%timeit copy.deepcopy(t3)"
   ]
  },
  {
   "cell_type": "markdown",
   "id": "bf8be7ea",
   "metadata": {},
   "source": [
    "### Deep Copy of Tianshou Batch"
   ]
  },
  {
   "cell_type": "code",
   "execution_count": 18,
   "id": "91998e6f",
   "metadata": {
    "execution": {
     "iopub.execute_input": "2023-02-12T18:31:36.053759Z",
     "iopub.status.busy": "2023-02-12T18:31:36.053351Z",
     "iopub.status.idle": "2023-02-12T18:31:47.422914Z",
     "shell.execute_reply": "2023-02-12T18:31:47.422327Z"
    }
   },
   "outputs": [
    {
     "name": "stdout",
     "output_type": "stream",
     "text": [
      "140 µs ± 2.27 µs per loop (mean ± std. dev. of 7 runs, 10,000 loops each)\n"
     ]
    }
   ],
   "source": [
    "b3 = Batch(**_TREE_DATA_3)\n",
    "%timeit copy.deepcopy(b3)"
   ]
  },
  {
   "cell_type": "markdown",
   "id": "223162fb",
   "metadata": {},
   "source": [
    "## Stack, Concat and Split Operation"
   ]
  },
  {
   "cell_type": "markdown",
   "id": "85fa4a73",
   "metadata": {},
   "source": [
    "### Performance of TreeValue"
   ]
  },
  {
   "cell_type": "code",
   "execution_count": 19,
   "id": "a0c2b697",
   "metadata": {
    "execution": {
     "iopub.execute_input": "2023-02-12T18:31:47.426132Z",
     "iopub.status.busy": "2023-02-12T18:31:47.425171Z",
     "iopub.status.idle": "2023-02-12T18:31:47.429418Z",
     "shell.execute_reply": "2023-02-12T18:31:47.428899Z"
    }
   },
   "outputs": [],
   "source": [
    "trees = [FastTreeValue(_TREE_DATA_2) for _ in range(8)]"
   ]
  },
  {
   "cell_type": "code",
   "execution_count": 20,
   "id": "017ea5a5",
   "metadata": {
    "execution": {
     "iopub.execute_input": "2023-02-12T18:31:47.432823Z",
     "iopub.status.busy": "2023-02-12T18:31:47.431959Z",
     "iopub.status.idle": "2023-02-12T18:31:47.440508Z",
     "shell.execute_reply": "2023-02-12T18:31:47.439912Z"
    }
   },
   "outputs": [
    {
     "data": {
      "text/plain": [
       "<FastTreeValue 0x7fe9a0608640>\n",
       "├── 'a' --> tensor([[[-0.2512, -0.3344, -0.2022],\n",
       "│                    [-0.1942,  1.3035, -2.8154]],\n",
       "│           \n",
       "│                   [[-0.2512, -0.3344, -0.2022],\n",
       "│                    [-0.1942,  1.3035, -2.8154]],\n",
       "│           \n",
       "│                   [[-0.2512, -0.3344, -0.2022],\n",
       "│                    [-0.1942,  1.3035, -2.8154]],\n",
       "│           \n",
       "│                   [[-0.2512, -0.3344, -0.2022],\n",
       "│                    [-0.1942,  1.3035, -2.8154]],\n",
       "│           \n",
       "│                   [[-0.2512, -0.3344, -0.2022],\n",
       "│                    [-0.1942,  1.3035, -2.8154]],\n",
       "│           \n",
       "│                   [[-0.2512, -0.3344, -0.2022],\n",
       "│                    [-0.1942,  1.3035, -2.8154]],\n",
       "│           \n",
       "│                   [[-0.2512, -0.3344, -0.2022],\n",
       "│                    [-0.1942,  1.3035, -2.8154]],\n",
       "│           \n",
       "│                   [[-0.2512, -0.3344, -0.2022],\n",
       "│                    [-0.1942,  1.3035, -2.8154]]])\n",
       "└── 'x' --> <FastTreeValue 0x7fe9a06084c0>\n",
       "    └── 'c' --> tensor([[[ 0.2692, -1.7537, -0.9247, -0.7544],\n",
       "                         [ 1.8622, -0.1832,  0.2623, -0.7626],\n",
       "                         [ 0.5406,  1.6350, -0.1108,  0.0697]],\n",
       "                \n",
       "                        [[ 0.2692, -1.7537, -0.9247, -0.7544],\n",
       "                         [ 1.8622, -0.1832,  0.2623, -0.7626],\n",
       "                         [ 0.5406,  1.6350, -0.1108,  0.0697]],\n",
       "                \n",
       "                        [[ 0.2692, -1.7537, -0.9247, -0.7544],\n",
       "                         [ 1.8622, -0.1832,  0.2623, -0.7626],\n",
       "                         [ 0.5406,  1.6350, -0.1108,  0.0697]],\n",
       "                \n",
       "                        [[ 0.2692, -1.7537, -0.9247, -0.7544],\n",
       "                         [ 1.8622, -0.1832,  0.2623, -0.7626],\n",
       "                         [ 0.5406,  1.6350, -0.1108,  0.0697]],\n",
       "                \n",
       "                        [[ 0.2692, -1.7537, -0.9247, -0.7544],\n",
       "                         [ 1.8622, -0.1832,  0.2623, -0.7626],\n",
       "                         [ 0.5406,  1.6350, -0.1108,  0.0697]],\n",
       "                \n",
       "                        [[ 0.2692, -1.7537, -0.9247, -0.7544],\n",
       "                         [ 1.8622, -0.1832,  0.2623, -0.7626],\n",
       "                         [ 0.5406,  1.6350, -0.1108,  0.0697]],\n",
       "                \n",
       "                        [[ 0.2692, -1.7537, -0.9247, -0.7544],\n",
       "                         [ 1.8622, -0.1832,  0.2623, -0.7626],\n",
       "                         [ 0.5406,  1.6350, -0.1108,  0.0697]],\n",
       "                \n",
       "                        [[ 0.2692, -1.7537, -0.9247, -0.7544],\n",
       "                         [ 1.8622, -0.1832,  0.2623, -0.7626],\n",
       "                         [ 0.5406,  1.6350, -0.1108,  0.0697]]])"
      ]
     },
     "execution_count": 20,
     "metadata": {},
     "output_type": "execute_result"
    }
   ],
   "source": [
    "t_stack = FastTreeValue.func(subside=True)(torch.stack)\n",
    "\n",
    "t_stack(trees)"
   ]
  },
  {
   "cell_type": "code",
   "execution_count": 21,
   "id": "f8b3f415",
   "metadata": {
    "execution": {
     "iopub.execute_input": "2023-02-12T18:31:47.442847Z",
     "iopub.status.busy": "2023-02-12T18:31:47.442617Z",
     "iopub.status.idle": "2023-02-12T18:31:49.967831Z",
     "shell.execute_reply": "2023-02-12T18:31:49.967086Z"
    }
   },
   "outputs": [
    {
     "name": "stdout",
     "output_type": "stream",
     "text": [
      "31.1 µs ± 23.8 ns per loop (mean ± std. dev. of 7 runs, 10,000 loops each)\n"
     ]
    }
   ],
   "source": [
    "%timeit t_stack(trees)"
   ]
  },
  {
   "cell_type": "code",
   "execution_count": 22,
   "id": "94b56771",
   "metadata": {
    "execution": {
     "iopub.execute_input": "2023-02-12T18:31:49.970675Z",
     "iopub.status.busy": "2023-02-12T18:31:49.970120Z",
     "iopub.status.idle": "2023-02-12T18:31:49.977814Z",
     "shell.execute_reply": "2023-02-12T18:31:49.977230Z"
    }
   },
   "outputs": [
    {
     "data": {
      "text/plain": [
       "<FastTreeValue 0x7fe9a062bf40>\n",
       "├── 'a' --> tensor([[-0.2512, -0.3344, -0.2022],\n",
       "│                   [-0.1942,  1.3035, -2.8154],\n",
       "│                   [-0.2512, -0.3344, -0.2022],\n",
       "│                   [-0.1942,  1.3035, -2.8154],\n",
       "│                   [-0.2512, -0.3344, -0.2022],\n",
       "│                   [-0.1942,  1.3035, -2.8154],\n",
       "│                   [-0.2512, -0.3344, -0.2022],\n",
       "│                   [-0.1942,  1.3035, -2.8154],\n",
       "│                   [-0.2512, -0.3344, -0.2022],\n",
       "│                   [-0.1942,  1.3035, -2.8154],\n",
       "│                   [-0.2512, -0.3344, -0.2022],\n",
       "│                   [-0.1942,  1.3035, -2.8154],\n",
       "│                   [-0.2512, -0.3344, -0.2022],\n",
       "│                   [-0.1942,  1.3035, -2.8154],\n",
       "│                   [-0.2512, -0.3344, -0.2022],\n",
       "│                   [-0.1942,  1.3035, -2.8154]])\n",
       "└── 'x' --> <FastTreeValue 0x7fea4f9b6670>\n",
       "    └── 'c' --> tensor([[ 0.2692, -1.7537, -0.9247, -0.7544],\n",
       "                        [ 1.8622, -0.1832,  0.2623, -0.7626],\n",
       "                        [ 0.5406,  1.6350, -0.1108,  0.0697],\n",
       "                        [ 0.2692, -1.7537, -0.9247, -0.7544],\n",
       "                        [ 1.8622, -0.1832,  0.2623, -0.7626],\n",
       "                        [ 0.5406,  1.6350, -0.1108,  0.0697],\n",
       "                        [ 0.2692, -1.7537, -0.9247, -0.7544],\n",
       "                        [ 1.8622, -0.1832,  0.2623, -0.7626],\n",
       "                        [ 0.5406,  1.6350, -0.1108,  0.0697],\n",
       "                        [ 0.2692, -1.7537, -0.9247, -0.7544],\n",
       "                        [ 1.8622, -0.1832,  0.2623, -0.7626],\n",
       "                        [ 0.5406,  1.6350, -0.1108,  0.0697],\n",
       "                        [ 0.2692, -1.7537, -0.9247, -0.7544],\n",
       "                        [ 1.8622, -0.1832,  0.2623, -0.7626],\n",
       "                        [ 0.5406,  1.6350, -0.1108,  0.0697],\n",
       "                        [ 0.2692, -1.7537, -0.9247, -0.7544],\n",
       "                        [ 1.8622, -0.1832,  0.2623, -0.7626],\n",
       "                        [ 0.5406,  1.6350, -0.1108,  0.0697],\n",
       "                        [ 0.2692, -1.7537, -0.9247, -0.7544],\n",
       "                        [ 1.8622, -0.1832,  0.2623, -0.7626],\n",
       "                        [ 0.5406,  1.6350, -0.1108,  0.0697],\n",
       "                        [ 0.2692, -1.7537, -0.9247, -0.7544],\n",
       "                        [ 1.8622, -0.1832,  0.2623, -0.7626],\n",
       "                        [ 0.5406,  1.6350, -0.1108,  0.0697]])"
      ]
     },
     "execution_count": 22,
     "metadata": {},
     "output_type": "execute_result"
    }
   ],
   "source": [
    "t_cat = FastTreeValue.func(subside=True)(torch.cat)\n",
    "\n",
    "t_cat(trees)"
   ]
  },
  {
   "cell_type": "code",
   "execution_count": 23,
   "id": "5e9c06a6",
   "metadata": {
    "execution": {
     "iopub.execute_input": "2023-02-12T18:31:49.980236Z",
     "iopub.status.busy": "2023-02-12T18:31:49.979903Z",
     "iopub.status.idle": "2023-02-12T18:31:52.386632Z",
     "shell.execute_reply": "2023-02-12T18:31:52.385888Z"
    }
   },
   "outputs": [
    {
     "name": "stdout",
     "output_type": "stream",
     "text": [
      "29.6 µs ± 55.7 ns per loop (mean ± std. dev. of 7 runs, 10,000 loops each)\n"
     ]
    }
   ],
   "source": [
    "%timeit t_cat(trees)"
   ]
  },
  {
   "cell_type": "code",
   "execution_count": 24,
   "id": "a3ab5c8f",
   "metadata": {
    "execution": {
     "iopub.execute_input": "2023-02-12T18:31:52.389772Z",
     "iopub.status.busy": "2023-02-12T18:31:52.389268Z",
     "iopub.status.idle": "2023-02-12T18:31:57.021185Z",
     "shell.execute_reply": "2023-02-12T18:31:57.020452Z"
    }
   },
   "outputs": [
    {
     "name": "stdout",
     "output_type": "stream",
     "text": [
      "56.9 µs ± 264 ns per loop (mean ± std. dev. of 7 runs, 10,000 loops each)\n"
     ]
    }
   ],
   "source": [
    "t_split = FastTreeValue.func(rise=True)(torch.split)\n",
    "tree = FastTreeValue({\n",
    "    'obs': torch.randn(8, 4, 84, 84),\n",
    "    'action': torch.randint(0, 6, size=(8, 1,)),\n",
    "    'reward': torch.rand(8, 1),\n",
    "})\n",
    "\n",
    "%timeit t_split(tree, 1)"
   ]
  },
  {
   "cell_type": "markdown",
   "id": "31c3ec0b",
   "metadata": {},
   "source": [
    "### Performance of Tianshou Batch"
   ]
  },
  {
   "cell_type": "code",
   "execution_count": 25,
   "id": "9ead828a",
   "metadata": {
    "execution": {
     "iopub.execute_input": "2023-02-12T18:31:57.024343Z",
     "iopub.status.busy": "2023-02-12T18:31:57.023850Z",
     "iopub.status.idle": "2023-02-12T18:31:57.031629Z",
     "shell.execute_reply": "2023-02-12T18:31:57.031036Z"
    }
   },
   "outputs": [
    {
     "data": {
      "text/plain": [
       "Batch(\n",
       "    x: Batch(\n",
       "           c: tensor([[[ 0.2692, -1.7537, -0.9247, -0.7544],\n",
       "                       [ 1.8622, -0.1832,  0.2623, -0.7626],\n",
       "                       [ 0.5406,  1.6350, -0.1108,  0.0697]],\n",
       "              \n",
       "                      [[ 0.2692, -1.7537, -0.9247, -0.7544],\n",
       "                       [ 1.8622, -0.1832,  0.2623, -0.7626],\n",
       "                       [ 0.5406,  1.6350, -0.1108,  0.0697]],\n",
       "              \n",
       "                      [[ 0.2692, -1.7537, -0.9247, -0.7544],\n",
       "                       [ 1.8622, -0.1832,  0.2623, -0.7626],\n",
       "                       [ 0.5406,  1.6350, -0.1108,  0.0697]],\n",
       "              \n",
       "                      [[ 0.2692, -1.7537, -0.9247, -0.7544],\n",
       "                       [ 1.8622, -0.1832,  0.2623, -0.7626],\n",
       "                       [ 0.5406,  1.6350, -0.1108,  0.0697]],\n",
       "              \n",
       "                      [[ 0.2692, -1.7537, -0.9247, -0.7544],\n",
       "                       [ 1.8622, -0.1832,  0.2623, -0.7626],\n",
       "                       [ 0.5406,  1.6350, -0.1108,  0.0697]],\n",
       "              \n",
       "                      [[ 0.2692, -1.7537, -0.9247, -0.7544],\n",
       "                       [ 1.8622, -0.1832,  0.2623, -0.7626],\n",
       "                       [ 0.5406,  1.6350, -0.1108,  0.0697]],\n",
       "              \n",
       "                      [[ 0.2692, -1.7537, -0.9247, -0.7544],\n",
       "                       [ 1.8622, -0.1832,  0.2623, -0.7626],\n",
       "                       [ 0.5406,  1.6350, -0.1108,  0.0697]],\n",
       "              \n",
       "                      [[ 0.2692, -1.7537, -0.9247, -0.7544],\n",
       "                       [ 1.8622, -0.1832,  0.2623, -0.7626],\n",
       "                       [ 0.5406,  1.6350, -0.1108,  0.0697]]]),\n",
       "       ),\n",
       "    a: tensor([[[-0.2512, -0.3344, -0.2022],\n",
       "                [-0.1942,  1.3035, -2.8154]],\n",
       "       \n",
       "               [[-0.2512, -0.3344, -0.2022],\n",
       "                [-0.1942,  1.3035, -2.8154]],\n",
       "       \n",
       "               [[-0.2512, -0.3344, -0.2022],\n",
       "                [-0.1942,  1.3035, -2.8154]],\n",
       "       \n",
       "               [[-0.2512, -0.3344, -0.2022],\n",
       "                [-0.1942,  1.3035, -2.8154]],\n",
       "       \n",
       "               [[-0.2512, -0.3344, -0.2022],\n",
       "                [-0.1942,  1.3035, -2.8154]],\n",
       "       \n",
       "               [[-0.2512, -0.3344, -0.2022],\n",
       "                [-0.1942,  1.3035, -2.8154]],\n",
       "       \n",
       "               [[-0.2512, -0.3344, -0.2022],\n",
       "                [-0.1942,  1.3035, -2.8154]],\n",
       "       \n",
       "               [[-0.2512, -0.3344, -0.2022],\n",
       "                [-0.1942,  1.3035, -2.8154]]]),\n",
       ")"
      ]
     },
     "execution_count": 25,
     "metadata": {},
     "output_type": "execute_result"
    }
   ],
   "source": [
    "batches = [Batch(**_TREE_DATA_2) for _ in range(8)]\n",
    "\n",
    "Batch.stack(batches)"
   ]
  },
  {
   "cell_type": "code",
   "execution_count": 26,
   "id": "ec9037a3",
   "metadata": {
    "execution": {
     "iopub.execute_input": "2023-02-12T18:31:57.034314Z",
     "iopub.status.busy": "2023-02-12T18:31:57.033794Z",
     "iopub.status.idle": "2023-02-12T18:32:03.363903Z",
     "shell.execute_reply": "2023-02-12T18:32:03.363173Z"
    }
   },
   "outputs": [
    {
     "name": "stdout",
     "output_type": "stream",
     "text": [
      "77.9 µs ± 101 ns per loop (mean ± std. dev. of 7 runs, 10,000 loops each)\n"
     ]
    }
   ],
   "source": [
    "%timeit Batch.stack(batches)"
   ]
  },
  {
   "cell_type": "code",
   "execution_count": 27,
   "id": "cb8ab77e",
   "metadata": {
    "execution": {
     "iopub.execute_input": "2023-02-12T18:32:03.366451Z",
     "iopub.status.busy": "2023-02-12T18:32:03.366226Z",
     "iopub.status.idle": "2023-02-12T18:32:03.373612Z",
     "shell.execute_reply": "2023-02-12T18:32:03.373017Z"
    }
   },
   "outputs": [
    {
     "data": {
      "text/plain": [
       "Batch(\n",
       "    x: Batch(\n",
       "           c: tensor([[ 0.2692, -1.7537, -0.9247, -0.7544],\n",
       "                      [ 1.8622, -0.1832,  0.2623, -0.7626],\n",
       "                      [ 0.5406,  1.6350, -0.1108,  0.0697],\n",
       "                      [ 0.2692, -1.7537, -0.9247, -0.7544],\n",
       "                      [ 1.8622, -0.1832,  0.2623, -0.7626],\n",
       "                      [ 0.5406,  1.6350, -0.1108,  0.0697],\n",
       "                      [ 0.2692, -1.7537, -0.9247, -0.7544],\n",
       "                      [ 1.8622, -0.1832,  0.2623, -0.7626],\n",
       "                      [ 0.5406,  1.6350, -0.1108,  0.0697],\n",
       "                      [ 0.2692, -1.7537, -0.9247, -0.7544],\n",
       "                      [ 1.8622, -0.1832,  0.2623, -0.7626],\n",
       "                      [ 0.5406,  1.6350, -0.1108,  0.0697],\n",
       "                      [ 0.2692, -1.7537, -0.9247, -0.7544],\n",
       "                      [ 1.8622, -0.1832,  0.2623, -0.7626],\n",
       "                      [ 0.5406,  1.6350, -0.1108,  0.0697],\n",
       "                      [ 0.2692, -1.7537, -0.9247, -0.7544],\n",
       "                      [ 1.8622, -0.1832,  0.2623, -0.7626],\n",
       "                      [ 0.5406,  1.6350, -0.1108,  0.0697],\n",
       "                      [ 0.2692, -1.7537, -0.9247, -0.7544],\n",
       "                      [ 1.8622, -0.1832,  0.2623, -0.7626],\n",
       "                      [ 0.5406,  1.6350, -0.1108,  0.0697],\n",
       "                      [ 0.2692, -1.7537, -0.9247, -0.7544],\n",
       "                      [ 1.8622, -0.1832,  0.2623, -0.7626],\n",
       "                      [ 0.5406,  1.6350, -0.1108,  0.0697]]),\n",
       "       ),\n",
       "    a: tensor([[-0.2512, -0.3344, -0.2022],\n",
       "               [-0.1942,  1.3035, -2.8154],\n",
       "               [-0.2512, -0.3344, -0.2022],\n",
       "               [-0.1942,  1.3035, -2.8154],\n",
       "               [-0.2512, -0.3344, -0.2022],\n",
       "               [-0.1942,  1.3035, -2.8154],\n",
       "               [-0.2512, -0.3344, -0.2022],\n",
       "               [-0.1942,  1.3035, -2.8154],\n",
       "               [-0.2512, -0.3344, -0.2022],\n",
       "               [-0.1942,  1.3035, -2.8154],\n",
       "               [-0.2512, -0.3344, -0.2022],\n",
       "               [-0.1942,  1.3035, -2.8154],\n",
       "               [-0.2512, -0.3344, -0.2022],\n",
       "               [-0.1942,  1.3035, -2.8154],\n",
       "               [-0.2512, -0.3344, -0.2022],\n",
       "               [-0.1942,  1.3035, -2.8154]]),\n",
       ")"
      ]
     },
     "execution_count": 27,
     "metadata": {},
     "output_type": "execute_result"
    }
   ],
   "source": [
    "Batch.cat(batches)"
   ]
  },
  {
   "cell_type": "code",
   "execution_count": 28,
   "id": "18dfb045",
   "metadata": {
    "execution": {
     "iopub.execute_input": "2023-02-12T18:32:03.376169Z",
     "iopub.status.busy": "2023-02-12T18:32:03.375610Z",
     "iopub.status.idle": "2023-02-12T18:32:14.896200Z",
     "shell.execute_reply": "2023-02-12T18:32:14.895471Z"
    }
   },
   "outputs": [
    {
     "name": "stdout",
     "output_type": "stream",
     "text": [
      "142 µs ± 1.24 µs per loop (mean ± std. dev. of 7 runs, 10,000 loops each)\n"
     ]
    }
   ],
   "source": [
    "%timeit Batch.cat(batches)"
   ]
  },
  {
   "cell_type": "code",
   "execution_count": 29,
   "id": "c6688e51",
   "metadata": {
    "execution": {
     "iopub.execute_input": "2023-02-12T18:32:14.899002Z",
     "iopub.status.busy": "2023-02-12T18:32:14.898629Z",
     "iopub.status.idle": "2023-02-12T18:32:17.376117Z",
     "shell.execute_reply": "2023-02-12T18:32:17.375530Z"
    }
   },
   "outputs": [
    {
     "name": "stdout",
     "output_type": "stream",
     "text": [
      "304 µs ± 1.2 µs per loop (mean ± std. dev. of 7 runs, 1,000 loops each)\n"
     ]
    }
   ],
   "source": [
    "batch = Batch({\n",
    "    'obs': torch.randn(8, 4, 84, 84),\n",
    "    'action': torch.randint(0, 6, size=(8, 1,)),\n",
    "    'reward': torch.rand(8, 1)}\n",
    ")\n",
    "\n",
    "%timeit list(Batch.split(batch, 1, shuffle=False, merge_last=True))"
   ]
  },
  {
   "cell_type": "code",
   "execution_count": null,
   "id": "2539fbd9",
   "metadata": {},
   "outputs": [],
   "source": []
  }
 ],
 "metadata": {
  "kernelspec": {
   "display_name": "Python 3 (ipykernel)",
   "language": "python",
   "name": "python3"
  },
  "language_info": {
   "codemirror_mode": {
    "name": "ipython",
    "version": 3
   },
   "file_extension": ".py",
   "mimetype": "text/x-python",
   "name": "python",
   "nbconvert_exporter": "python",
   "pygments_lexer": "ipython3",
   "version": "3.8.16"
  }
 },
 "nbformat": 4,
 "nbformat_minor": 5
}
