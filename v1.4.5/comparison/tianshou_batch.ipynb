{
 "cells": [
  {
   "cell_type": "markdown",
   "id": "9d39d946",
   "metadata": {},
   "source": [
    "# Comparison Between TreeValue and Tianshou Batch"
   ]
  },
  {
   "cell_type": "markdown",
   "id": "3c6db2d4",
   "metadata": {},
   "source": [
    "In this section, we will take a look at the feature and performance of the [Tianshou Batch](https://github.com/thu-ml/tianshou) library, which is developed by Tsinghua Machine Learning Group."
   ]
  },
  {
   "cell_type": "markdown",
   "id": "069361b0",
   "metadata": {},
   "source": [
    "Before starting the comparison, let us define some thing."
   ]
  },
  {
   "cell_type": "code",
   "execution_count": 1,
   "id": "06fc8d26",
   "metadata": {
    "execution": {
     "iopub.execute_input": "2023-02-26T16:44:58.533065Z",
     "iopub.status.busy": "2023-02-26T16:44:58.532792Z",
     "iopub.status.idle": "2023-02-26T16:44:59.493961Z",
     "shell.execute_reply": "2023-02-26T16:44:59.493139Z"
    }
   },
   "outputs": [
    {
     "name": "stderr",
     "output_type": "stream",
     "text": [
      "/opt/hostedtoolcache/Python/3.8.16/x64/lib/python3.8/site-packages/tqdm/auto.py:22: TqdmWarning: IProgress not found. Please update jupyter and ipywidgets. See https://ipywidgets.readthedocs.io/en/stable/user_install.html\n",
      "  from .autonotebook import tqdm as notebook_tqdm\n"
     ]
    }
   ],
   "source": [
    "import torch \n",
    "\n",
    "_TREE_DATA_1 = {'a': 1, 'b': 2, 'x': {'c': 3, 'd': 4}}\n",
    "_TREE_DATA_2 = {\n",
    "    'a': torch.randn(2, 3), \n",
    "    'x': {\n",
    "        'c': torch.randn(3, 4)\n",
    "    },\n",
    "}\n",
    "_TREE_DATA_3 = {\n",
    "    'obs': torch.randn(4, 84, 84),\n",
    "    'action': torch.randint(0, 6, size=(1,)),\n",
    "    'reward': torch.rand(1),\n",
    "}"
   ]
  },
  {
   "cell_type": "markdown",
   "id": "83461b25",
   "metadata": {},
   "source": [
    "## Read and Write Operation"
   ]
  },
  {
   "cell_type": "markdown",
   "id": "067b3f73",
   "metadata": {},
   "source": [
    "Reading and writing are the two most common operations in the tree data structure based on the data model (TreeValue and Tianshou Batch both belong to this type), so this section will compare the reading and writing performance of these two libraries."
   ]
  },
  {
   "cell_type": "markdown",
   "id": "5d09a5b7",
   "metadata": {},
   "source": [
    "### TreeValue's Get and Set"
   ]
  },
  {
   "cell_type": "code",
   "execution_count": 2,
   "id": "9519c4bb",
   "metadata": {
    "execution": {
     "iopub.execute_input": "2023-02-26T16:44:59.498153Z",
     "iopub.status.busy": "2023-02-26T16:44:59.497383Z",
     "iopub.status.idle": "2023-02-26T16:44:59.787186Z",
     "shell.execute_reply": "2023-02-26T16:44:59.786427Z"
    }
   },
   "outputs": [],
   "source": [
    "from treevalue import FastTreeValue\n",
    "\n",
    "t = FastTreeValue(_TREE_DATA_2)"
   ]
  },
  {
   "cell_type": "code",
   "execution_count": 3,
   "id": "11c37677",
   "metadata": {
    "execution": {
     "iopub.execute_input": "2023-02-26T16:44:59.791118Z",
     "iopub.status.busy": "2023-02-26T16:44:59.790765Z",
     "iopub.status.idle": "2023-02-26T16:44:59.804056Z",
     "shell.execute_reply": "2023-02-26T16:44:59.802407Z"
    }
   },
   "outputs": [
    {
     "data": {
      "text/plain": [
       "<FastTreeValue 0x7f8054b58430>\n",
       "├── 'a' --> tensor([[-0.1912,  0.8708,  0.5443],\n",
       "│                   [-1.6953,  0.1030,  1.4793]])\n",
       "└── 'x' --> <FastTreeValue 0x7f8054b58a60>\n",
       "    └── 'c' --> tensor([[ 1.1593, -0.8663, -1.9790, -1.2510],\n",
       "                        [-0.1363,  2.7561,  1.0063,  0.6106],\n",
       "                        [ 0.3347,  0.9454,  0.0976, -0.2324]])"
      ]
     },
     "execution_count": 3,
     "metadata": {},
     "output_type": "execute_result"
    }
   ],
   "source": [
    "t"
   ]
  },
  {
   "cell_type": "code",
   "execution_count": 4,
   "id": "fd70b0b9",
   "metadata": {
    "execution": {
     "iopub.execute_input": "2023-02-26T16:44:59.807605Z",
     "iopub.status.busy": "2023-02-26T16:44:59.807333Z",
     "iopub.status.idle": "2023-02-26T16:44:59.814929Z",
     "shell.execute_reply": "2023-02-26T16:44:59.813993Z"
    }
   },
   "outputs": [
    {
     "data": {
      "text/plain": [
       "tensor([[-0.1912,  0.8708,  0.5443],\n",
       "        [-1.6953,  0.1030,  1.4793]])"
      ]
     },
     "execution_count": 4,
     "metadata": {},
     "output_type": "execute_result"
    }
   ],
   "source": [
    "t.a"
   ]
  },
  {
   "cell_type": "code",
   "execution_count": 5,
   "id": "c18197bd",
   "metadata": {
    "execution": {
     "iopub.execute_input": "2023-02-26T16:44:59.818017Z",
     "iopub.status.busy": "2023-02-26T16:44:59.817769Z",
     "iopub.status.idle": "2023-02-26T16:45:05.117922Z",
     "shell.execute_reply": "2023-02-26T16:45:05.116964Z"
    }
   },
   "outputs": [
    {
     "name": "stdout",
     "output_type": "stream",
     "text": [
      "65.2 ns ± 0.112 ns per loop (mean ± std. dev. of 7 runs, 10,000,000 loops each)\n"
     ]
    }
   ],
   "source": [
    "%timeit t.a"
   ]
  },
  {
   "cell_type": "code",
   "execution_count": 6,
   "id": "bd52f867",
   "metadata": {
    "execution": {
     "iopub.execute_input": "2023-02-26T16:45:05.121481Z",
     "iopub.status.busy": "2023-02-26T16:45:05.120820Z",
     "iopub.status.idle": "2023-02-26T16:45:05.128141Z",
     "shell.execute_reply": "2023-02-26T16:45:05.127477Z"
    }
   },
   "outputs": [
    {
     "data": {
      "text/plain": [
       "<FastTreeValue 0x7f8054b58430>\n",
       "├── 'a' --> tensor([[-0.2084,  0.6436,  0.6555],\n",
       "│                   [-1.2319,  0.4082, -0.3411]])\n",
       "└── 'x' --> <FastTreeValue 0x7f8054b58a60>\n",
       "    └── 'c' --> tensor([[ 1.1593, -0.8663, -1.9790, -1.2510],\n",
       "                        [-0.1363,  2.7561,  1.0063,  0.6106],\n",
       "                        [ 0.3347,  0.9454,  0.0976, -0.2324]])"
      ]
     },
     "execution_count": 6,
     "metadata": {},
     "output_type": "execute_result"
    }
   ],
   "source": [
    "new_value = torch.randn(2, 3)\n",
    "t.a = new_value\n",
    "\n",
    "t"
   ]
  },
  {
   "cell_type": "code",
   "execution_count": 7,
   "id": "bbe04d1c",
   "metadata": {
    "execution": {
     "iopub.execute_input": "2023-02-26T16:45:05.131196Z",
     "iopub.status.busy": "2023-02-26T16:45:05.130561Z",
     "iopub.status.idle": "2023-02-26T16:45:10.700751Z",
     "shell.execute_reply": "2023-02-26T16:45:10.699862Z"
    }
   },
   "outputs": [
    {
     "name": "stdout",
     "output_type": "stream",
     "text": [
      "68.6 ns ± 0.0622 ns per loop (mean ± std. dev. of 7 runs, 10,000,000 loops each)\n"
     ]
    }
   ],
   "source": [
    "%timeit t.a = new_value"
   ]
  },
  {
   "cell_type": "markdown",
   "id": "48c49731",
   "metadata": {},
   "source": [
    "### Tianshou Batch's Get and Set"
   ]
  },
  {
   "cell_type": "code",
   "execution_count": 8,
   "id": "f1bb14c1",
   "metadata": {
    "execution": {
     "iopub.execute_input": "2023-02-26T16:45:10.704034Z",
     "iopub.status.busy": "2023-02-26T16:45:10.703558Z",
     "iopub.status.idle": "2023-02-26T16:45:11.061683Z",
     "shell.execute_reply": "2023-02-26T16:45:11.060900Z"
    }
   },
   "outputs": [],
   "source": [
    "from tianshou.data import Batch\n",
    "\n",
    "b = Batch(**_TREE_DATA_2)"
   ]
  },
  {
   "cell_type": "code",
   "execution_count": 9,
   "id": "cb0777c3",
   "metadata": {
    "execution": {
     "iopub.execute_input": "2023-02-26T16:45:11.065684Z",
     "iopub.status.busy": "2023-02-26T16:45:11.065036Z",
     "iopub.status.idle": "2023-02-26T16:45:11.071804Z",
     "shell.execute_reply": "2023-02-26T16:45:11.071076Z"
    }
   },
   "outputs": [
    {
     "data": {
      "text/plain": [
       "Batch(\n",
       "    a: tensor([[-0.1912,  0.8708,  0.5443],\n",
       "               [-1.6953,  0.1030,  1.4793]]),\n",
       "    x: Batch(\n",
       "           c: tensor([[ 1.1593, -0.8663, -1.9790, -1.2510],\n",
       "                      [-0.1363,  2.7561,  1.0063,  0.6106],\n",
       "                      [ 0.3347,  0.9454,  0.0976, -0.2324]]),\n",
       "       ),\n",
       ")"
      ]
     },
     "execution_count": 9,
     "metadata": {},
     "output_type": "execute_result"
    }
   ],
   "source": [
    "b"
   ]
  },
  {
   "cell_type": "code",
   "execution_count": 10,
   "id": "43ef8ea3",
   "metadata": {
    "execution": {
     "iopub.execute_input": "2023-02-26T16:45:11.074738Z",
     "iopub.status.busy": "2023-02-26T16:45:11.074106Z",
     "iopub.status.idle": "2023-02-26T16:45:11.079681Z",
     "shell.execute_reply": "2023-02-26T16:45:11.079067Z"
    }
   },
   "outputs": [
    {
     "data": {
      "text/plain": [
       "tensor([[-0.1912,  0.8708,  0.5443],\n",
       "        [-1.6953,  0.1030,  1.4793]])"
      ]
     },
     "execution_count": 10,
     "metadata": {},
     "output_type": "execute_result"
    }
   ],
   "source": [
    "b.a"
   ]
  },
  {
   "cell_type": "code",
   "execution_count": 11,
   "id": "b785ab72",
   "metadata": {
    "execution": {
     "iopub.execute_input": "2023-02-26T16:45:11.082442Z",
     "iopub.status.busy": "2023-02-26T16:45:11.082092Z",
     "iopub.status.idle": "2023-02-26T16:45:15.861972Z",
     "shell.execute_reply": "2023-02-26T16:45:15.861060Z"
    }
   },
   "outputs": [
    {
     "name": "stdout",
     "output_type": "stream",
     "text": [
      "58.8 ns ± 0.0358 ns per loop (mean ± std. dev. of 7 runs, 10,000,000 loops each)\n"
     ]
    }
   ],
   "source": [
    "%timeit b.a"
   ]
  },
  {
   "cell_type": "code",
   "execution_count": 12,
   "id": "ad54dc69",
   "metadata": {
    "execution": {
     "iopub.execute_input": "2023-02-26T16:45:15.865342Z",
     "iopub.status.busy": "2023-02-26T16:45:15.864752Z",
     "iopub.status.idle": "2023-02-26T16:45:15.871918Z",
     "shell.execute_reply": "2023-02-26T16:45:15.871277Z"
    }
   },
   "outputs": [
    {
     "data": {
      "text/plain": [
       "Batch(\n",
       "    a: tensor([[ 0.4150, -0.0538,  1.3016],\n",
       "               [-0.6298, -0.7951,  1.1758]]),\n",
       "    x: Batch(\n",
       "           c: tensor([[ 1.1593, -0.8663, -1.9790, -1.2510],\n",
       "                      [-0.1363,  2.7561,  1.0063,  0.6106],\n",
       "                      [ 0.3347,  0.9454,  0.0976, -0.2324]]),\n",
       "       ),\n",
       ")"
      ]
     },
     "execution_count": 12,
     "metadata": {},
     "output_type": "execute_result"
    }
   ],
   "source": [
    "new_value = torch.randn(2, 3)\n",
    "b.a = new_value\n",
    "\n",
    "b"
   ]
  },
  {
   "cell_type": "code",
   "execution_count": 13,
   "id": "29b1d0bf",
   "metadata": {
    "execution": {
     "iopub.execute_input": "2023-02-26T16:45:15.874536Z",
     "iopub.status.busy": "2023-02-26T16:45:15.874161Z",
     "iopub.status.idle": "2023-02-26T16:45:19.963593Z",
     "shell.execute_reply": "2023-02-26T16:45:19.962791Z"
    }
   },
   "outputs": [
    {
     "name": "stdout",
     "output_type": "stream",
     "text": [
      "503 ns ± 0.199 ns per loop (mean ± std. dev. of 7 runs, 1,000,000 loops each)\n"
     ]
    }
   ],
   "source": [
    "%timeit b.a = new_value"
   ]
  },
  {
   "cell_type": "markdown",
   "id": "b61ad1d0",
   "metadata": {},
   "source": [
    "## Initialization"
   ]
  },
  {
   "cell_type": "markdown",
   "id": "d70f0d54",
   "metadata": {},
   "source": [
    "### TreeValue's Initialization"
   ]
  },
  {
   "cell_type": "code",
   "execution_count": 14,
   "id": "d32a679b",
   "metadata": {
    "execution": {
     "iopub.execute_input": "2023-02-26T16:45:19.966834Z",
     "iopub.status.busy": "2023-02-26T16:45:19.966435Z",
     "iopub.status.idle": "2023-02-26T16:45:26.575192Z",
     "shell.execute_reply": "2023-02-26T16:45:26.574265Z"
    }
   },
   "outputs": [
    {
     "name": "stdout",
     "output_type": "stream",
     "text": [
      "814 ns ± 0.393 ns per loop (mean ± std. dev. of 7 runs, 1,000,000 loops each)\n"
     ]
    }
   ],
   "source": [
    "%timeit FastTreeValue(_TREE_DATA_1)"
   ]
  },
  {
   "cell_type": "markdown",
   "id": "24f3707b",
   "metadata": {},
   "source": [
    "### Tianshou Batch's Initialization"
   ]
  },
  {
   "cell_type": "code",
   "execution_count": 15,
   "id": "ac3958df",
   "metadata": {
    "execution": {
     "iopub.execute_input": "2023-02-26T16:45:26.578133Z",
     "iopub.status.busy": "2023-02-26T16:45:26.577731Z",
     "iopub.status.idle": "2023-02-26T16:45:35.549016Z",
     "shell.execute_reply": "2023-02-26T16:45:35.548139Z"
    }
   },
   "outputs": [
    {
     "name": "stdout",
     "output_type": "stream",
     "text": [
      "11.1 µs ± 15 ns per loop (mean ± std. dev. of 7 runs, 100,000 loops each)\n"
     ]
    }
   ],
   "source": [
    "%timeit Batch(**_TREE_DATA_1)"
   ]
  },
  {
   "cell_type": "markdown",
   "id": "1ab82e2d",
   "metadata": {},
   "source": [
    "## Deep Copy Operation"
   ]
  },
  {
   "cell_type": "code",
   "execution_count": 16,
   "id": "210a9442",
   "metadata": {
    "execution": {
     "iopub.execute_input": "2023-02-26T16:45:35.552467Z",
     "iopub.status.busy": "2023-02-26T16:45:35.551875Z",
     "iopub.status.idle": "2023-02-26T16:45:35.556152Z",
     "shell.execute_reply": "2023-02-26T16:45:35.555469Z"
    }
   },
   "outputs": [],
   "source": [
    "import copy"
   ]
  },
  {
   "cell_type": "markdown",
   "id": "5a736274",
   "metadata": {},
   "source": [
    "### Deep Copy of TreeValue"
   ]
  },
  {
   "cell_type": "code",
   "execution_count": 17,
   "id": "f9bcadd6",
   "metadata": {
    "execution": {
     "iopub.execute_input": "2023-02-26T16:45:35.559412Z",
     "iopub.status.busy": "2023-02-26T16:45:35.558997Z",
     "iopub.status.idle": "2023-02-26T16:45:47.169620Z",
     "shell.execute_reply": "2023-02-26T16:45:47.168782Z"
    }
   },
   "outputs": [
    {
     "name": "stdout",
     "output_type": "stream",
     "text": [
      "143 µs ± 154 ns per loop (mean ± std. dev. of 7 runs, 10,000 loops each)\n"
     ]
    }
   ],
   "source": [
    "t3 = FastTreeValue(_TREE_DATA_3)\n",
    "%timeit copy.deepcopy(t3)"
   ]
  },
  {
   "cell_type": "markdown",
   "id": "bf8be7ea",
   "metadata": {},
   "source": [
    "### Deep Copy of Tianshou Batch"
   ]
  },
  {
   "cell_type": "code",
   "execution_count": 18,
   "id": "91998e6f",
   "metadata": {
    "execution": {
     "iopub.execute_input": "2023-02-26T16:45:47.172608Z",
     "iopub.status.busy": "2023-02-26T16:45:47.172361Z",
     "iopub.status.idle": "2023-02-26T16:45:58.807147Z",
     "shell.execute_reply": "2023-02-26T16:45:58.806344Z"
    }
   },
   "outputs": [
    {
     "name": "stdout",
     "output_type": "stream",
     "text": [
      "143 µs ± 340 ns per loop (mean ± std. dev. of 7 runs, 10,000 loops each)\n"
     ]
    }
   ],
   "source": [
    "b3 = Batch(**_TREE_DATA_3)\n",
    "%timeit copy.deepcopy(b3)"
   ]
  },
  {
   "cell_type": "markdown",
   "id": "223162fb",
   "metadata": {},
   "source": [
    "## Stack, Concat and Split Operation"
   ]
  },
  {
   "cell_type": "markdown",
   "id": "85fa4a73",
   "metadata": {},
   "source": [
    "### Performance of TreeValue"
   ]
  },
  {
   "cell_type": "code",
   "execution_count": 19,
   "id": "a0c2b697",
   "metadata": {
    "execution": {
     "iopub.execute_input": "2023-02-26T16:45:58.811278Z",
     "iopub.status.busy": "2023-02-26T16:45:58.810077Z",
     "iopub.status.idle": "2023-02-26T16:45:58.815243Z",
     "shell.execute_reply": "2023-02-26T16:45:58.814078Z"
    }
   },
   "outputs": [],
   "source": [
    "trees = [FastTreeValue(_TREE_DATA_2) for _ in range(8)]"
   ]
  },
  {
   "cell_type": "code",
   "execution_count": 20,
   "id": "017ea5a5",
   "metadata": {
    "execution": {
     "iopub.execute_input": "2023-02-26T16:45:58.818024Z",
     "iopub.status.busy": "2023-02-26T16:45:58.817793Z",
     "iopub.status.idle": "2023-02-26T16:45:58.826118Z",
     "shell.execute_reply": "2023-02-26T16:45:58.824927Z"
    }
   },
   "outputs": [
    {
     "data": {
      "text/plain": [
       "<FastTreeValue 0x7f7fa4a52d00>\n",
       "├── 'a' --> tensor([[[-0.1912,  0.8708,  0.5443],\n",
       "│                    [-1.6953,  0.1030,  1.4793]],\n",
       "│           \n",
       "│                   [[-0.1912,  0.8708,  0.5443],\n",
       "│                    [-1.6953,  0.1030,  1.4793]],\n",
       "│           \n",
       "│                   [[-0.1912,  0.8708,  0.5443],\n",
       "│                    [-1.6953,  0.1030,  1.4793]],\n",
       "│           \n",
       "│                   [[-0.1912,  0.8708,  0.5443],\n",
       "│                    [-1.6953,  0.1030,  1.4793]],\n",
       "│           \n",
       "│                   [[-0.1912,  0.8708,  0.5443],\n",
       "│                    [-1.6953,  0.1030,  1.4793]],\n",
       "│           \n",
       "│                   [[-0.1912,  0.8708,  0.5443],\n",
       "│                    [-1.6953,  0.1030,  1.4793]],\n",
       "│           \n",
       "│                   [[-0.1912,  0.8708,  0.5443],\n",
       "│                    [-1.6953,  0.1030,  1.4793]],\n",
       "│           \n",
       "│                   [[-0.1912,  0.8708,  0.5443],\n",
       "│                    [-1.6953,  0.1030,  1.4793]]])\n",
       "└── 'x' --> <FastTreeValue 0x7f8054b54100>\n",
       "    └── 'c' --> tensor([[[ 1.1593, -0.8663, -1.9790, -1.2510],\n",
       "                         [-0.1363,  2.7561,  1.0063,  0.6106],\n",
       "                         [ 0.3347,  0.9454,  0.0976, -0.2324]],\n",
       "                \n",
       "                        [[ 1.1593, -0.8663, -1.9790, -1.2510],\n",
       "                         [-0.1363,  2.7561,  1.0063,  0.6106],\n",
       "                         [ 0.3347,  0.9454,  0.0976, -0.2324]],\n",
       "                \n",
       "                        [[ 1.1593, -0.8663, -1.9790, -1.2510],\n",
       "                         [-0.1363,  2.7561,  1.0063,  0.6106],\n",
       "                         [ 0.3347,  0.9454,  0.0976, -0.2324]],\n",
       "                \n",
       "                        [[ 1.1593, -0.8663, -1.9790, -1.2510],\n",
       "                         [-0.1363,  2.7561,  1.0063,  0.6106],\n",
       "                         [ 0.3347,  0.9454,  0.0976, -0.2324]],\n",
       "                \n",
       "                        [[ 1.1593, -0.8663, -1.9790, -1.2510],\n",
       "                         [-0.1363,  2.7561,  1.0063,  0.6106],\n",
       "                         [ 0.3347,  0.9454,  0.0976, -0.2324]],\n",
       "                \n",
       "                        [[ 1.1593, -0.8663, -1.9790, -1.2510],\n",
       "                         [-0.1363,  2.7561,  1.0063,  0.6106],\n",
       "                         [ 0.3347,  0.9454,  0.0976, -0.2324]],\n",
       "                \n",
       "                        [[ 1.1593, -0.8663, -1.9790, -1.2510],\n",
       "                         [-0.1363,  2.7561,  1.0063,  0.6106],\n",
       "                         [ 0.3347,  0.9454,  0.0976, -0.2324]],\n",
       "                \n",
       "                        [[ 1.1593, -0.8663, -1.9790, -1.2510],\n",
       "                         [-0.1363,  2.7561,  1.0063,  0.6106],\n",
       "                         [ 0.3347,  0.9454,  0.0976, -0.2324]]])"
      ]
     },
     "execution_count": 20,
     "metadata": {},
     "output_type": "execute_result"
    }
   ],
   "source": [
    "t_stack = FastTreeValue.func(subside=True)(torch.stack)\n",
    "\n",
    "t_stack(trees)"
   ]
  },
  {
   "cell_type": "code",
   "execution_count": 21,
   "id": "f8b3f415",
   "metadata": {
    "execution": {
     "iopub.execute_input": "2023-02-26T16:45:58.828901Z",
     "iopub.status.busy": "2023-02-26T16:45:58.828673Z",
     "iopub.status.idle": "2023-02-26T16:46:01.422412Z",
     "shell.execute_reply": "2023-02-26T16:46:01.421482Z"
    }
   },
   "outputs": [
    {
     "name": "stdout",
     "output_type": "stream",
     "text": [
      "31.9 µs ± 155 ns per loop (mean ± std. dev. of 7 runs, 10,000 loops each)\n"
     ]
    }
   ],
   "source": [
    "%timeit t_stack(trees)"
   ]
  },
  {
   "cell_type": "code",
   "execution_count": 22,
   "id": "94b56771",
   "metadata": {
    "execution": {
     "iopub.execute_input": "2023-02-26T16:46:01.425723Z",
     "iopub.status.busy": "2023-02-26T16:46:01.425122Z",
     "iopub.status.idle": "2023-02-26T16:46:01.433440Z",
     "shell.execute_reply": "2023-02-26T16:46:01.432784Z"
    }
   },
   "outputs": [
    {
     "data": {
      "text/plain": [
       "<FastTreeValue 0x7f7f9de85a90>\n",
       "├── 'a' --> tensor([[-0.1912,  0.8708,  0.5443],\n",
       "│                   [-1.6953,  0.1030,  1.4793],\n",
       "│                   [-0.1912,  0.8708,  0.5443],\n",
       "│                   [-1.6953,  0.1030,  1.4793],\n",
       "│                   [-0.1912,  0.8708,  0.5443],\n",
       "│                   [-1.6953,  0.1030,  1.4793],\n",
       "│                   [-0.1912,  0.8708,  0.5443],\n",
       "│                   [-1.6953,  0.1030,  1.4793],\n",
       "│                   [-0.1912,  0.8708,  0.5443],\n",
       "│                   [-1.6953,  0.1030,  1.4793],\n",
       "│                   [-0.1912,  0.8708,  0.5443],\n",
       "│                   [-1.6953,  0.1030,  1.4793],\n",
       "│                   [-0.1912,  0.8708,  0.5443],\n",
       "│                   [-1.6953,  0.1030,  1.4793],\n",
       "│                   [-0.1912,  0.8708,  0.5443],\n",
       "│                   [-1.6953,  0.1030,  1.4793]])\n",
       "└── 'x' --> <FastTreeValue 0x7f7f9de85c40>\n",
       "    └── 'c' --> tensor([[ 1.1593, -0.8663, -1.9790, -1.2510],\n",
       "                        [-0.1363,  2.7561,  1.0063,  0.6106],\n",
       "                        [ 0.3347,  0.9454,  0.0976, -0.2324],\n",
       "                        [ 1.1593, -0.8663, -1.9790, -1.2510],\n",
       "                        [-0.1363,  2.7561,  1.0063,  0.6106],\n",
       "                        [ 0.3347,  0.9454,  0.0976, -0.2324],\n",
       "                        [ 1.1593, -0.8663, -1.9790, -1.2510],\n",
       "                        [-0.1363,  2.7561,  1.0063,  0.6106],\n",
       "                        [ 0.3347,  0.9454,  0.0976, -0.2324],\n",
       "                        [ 1.1593, -0.8663, -1.9790, -1.2510],\n",
       "                        [-0.1363,  2.7561,  1.0063,  0.6106],\n",
       "                        [ 0.3347,  0.9454,  0.0976, -0.2324],\n",
       "                        [ 1.1593, -0.8663, -1.9790, -1.2510],\n",
       "                        [-0.1363,  2.7561,  1.0063,  0.6106],\n",
       "                        [ 0.3347,  0.9454,  0.0976, -0.2324],\n",
       "                        [ 1.1593, -0.8663, -1.9790, -1.2510],\n",
       "                        [-0.1363,  2.7561,  1.0063,  0.6106],\n",
       "                        [ 0.3347,  0.9454,  0.0976, -0.2324],\n",
       "                        [ 1.1593, -0.8663, -1.9790, -1.2510],\n",
       "                        [-0.1363,  2.7561,  1.0063,  0.6106],\n",
       "                        [ 0.3347,  0.9454,  0.0976, -0.2324],\n",
       "                        [ 1.1593, -0.8663, -1.9790, -1.2510],\n",
       "                        [-0.1363,  2.7561,  1.0063,  0.6106],\n",
       "                        [ 0.3347,  0.9454,  0.0976, -0.2324]])"
      ]
     },
     "execution_count": 22,
     "metadata": {},
     "output_type": "execute_result"
    }
   ],
   "source": [
    "t_cat = FastTreeValue.func(subside=True)(torch.cat)\n",
    "\n",
    "t_cat(trees)"
   ]
  },
  {
   "cell_type": "code",
   "execution_count": 23,
   "id": "5e9c06a6",
   "metadata": {
    "execution": {
     "iopub.execute_input": "2023-02-26T16:46:01.436332Z",
     "iopub.status.busy": "2023-02-26T16:46:01.435962Z",
     "iopub.status.idle": "2023-02-26T16:46:03.863463Z",
     "shell.execute_reply": "2023-02-26T16:46:03.862542Z"
    }
   },
   "outputs": [
    {
     "name": "stdout",
     "output_type": "stream",
     "text": [
      "29.9 µs ± 77.5 ns per loop (mean ± std. dev. of 7 runs, 10,000 loops each)\n"
     ]
    }
   ],
   "source": [
    "%timeit t_cat(trees)"
   ]
  },
  {
   "cell_type": "code",
   "execution_count": 24,
   "id": "a3ab5c8f",
   "metadata": {
    "execution": {
     "iopub.execute_input": "2023-02-26T16:46:03.866701Z",
     "iopub.status.busy": "2023-02-26T16:46:03.866232Z",
     "iopub.status.idle": "2023-02-26T16:46:08.485108Z",
     "shell.execute_reply": "2023-02-26T16:46:08.484216Z"
    }
   },
   "outputs": [
    {
     "name": "stdout",
     "output_type": "stream",
     "text": [
      "56.8 µs ± 128 ns per loop (mean ± std. dev. of 7 runs, 10,000 loops each)\n"
     ]
    }
   ],
   "source": [
    "t_split = FastTreeValue.func(rise=True)(torch.split)\n",
    "tree = FastTreeValue({\n",
    "    'obs': torch.randn(8, 4, 84, 84),\n",
    "    'action': torch.randint(0, 6, size=(8, 1,)),\n",
    "    'reward': torch.rand(8, 1),\n",
    "})\n",
    "\n",
    "%timeit t_split(tree, 1)"
   ]
  },
  {
   "cell_type": "markdown",
   "id": "31c3ec0b",
   "metadata": {},
   "source": [
    "### Performance of Tianshou Batch"
   ]
  },
  {
   "cell_type": "code",
   "execution_count": 25,
   "id": "9ead828a",
   "metadata": {
    "execution": {
     "iopub.execute_input": "2023-02-26T16:46:08.488737Z",
     "iopub.status.busy": "2023-02-26T16:46:08.488312Z",
     "iopub.status.idle": "2023-02-26T16:46:08.497144Z",
     "shell.execute_reply": "2023-02-26T16:46:08.496502Z"
    }
   },
   "outputs": [
    {
     "data": {
      "text/plain": [
       "Batch(\n",
       "    x: Batch(\n",
       "           c: tensor([[[ 1.1593, -0.8663, -1.9790, -1.2510],\n",
       "                       [-0.1363,  2.7561,  1.0063,  0.6106],\n",
       "                       [ 0.3347,  0.9454,  0.0976, -0.2324]],\n",
       "              \n",
       "                      [[ 1.1593, -0.8663, -1.9790, -1.2510],\n",
       "                       [-0.1363,  2.7561,  1.0063,  0.6106],\n",
       "                       [ 0.3347,  0.9454,  0.0976, -0.2324]],\n",
       "              \n",
       "                      [[ 1.1593, -0.8663, -1.9790, -1.2510],\n",
       "                       [-0.1363,  2.7561,  1.0063,  0.6106],\n",
       "                       [ 0.3347,  0.9454,  0.0976, -0.2324]],\n",
       "              \n",
       "                      [[ 1.1593, -0.8663, -1.9790, -1.2510],\n",
       "                       [-0.1363,  2.7561,  1.0063,  0.6106],\n",
       "                       [ 0.3347,  0.9454,  0.0976, -0.2324]],\n",
       "              \n",
       "                      [[ 1.1593, -0.8663, -1.9790, -1.2510],\n",
       "                       [-0.1363,  2.7561,  1.0063,  0.6106],\n",
       "                       [ 0.3347,  0.9454,  0.0976, -0.2324]],\n",
       "              \n",
       "                      [[ 1.1593, -0.8663, -1.9790, -1.2510],\n",
       "                       [-0.1363,  2.7561,  1.0063,  0.6106],\n",
       "                       [ 0.3347,  0.9454,  0.0976, -0.2324]],\n",
       "              \n",
       "                      [[ 1.1593, -0.8663, -1.9790, -1.2510],\n",
       "                       [-0.1363,  2.7561,  1.0063,  0.6106],\n",
       "                       [ 0.3347,  0.9454,  0.0976, -0.2324]],\n",
       "              \n",
       "                      [[ 1.1593, -0.8663, -1.9790, -1.2510],\n",
       "                       [-0.1363,  2.7561,  1.0063,  0.6106],\n",
       "                       [ 0.3347,  0.9454,  0.0976, -0.2324]]]),\n",
       "       ),\n",
       "    a: tensor([[[-0.1912,  0.8708,  0.5443],\n",
       "                [-1.6953,  0.1030,  1.4793]],\n",
       "       \n",
       "               [[-0.1912,  0.8708,  0.5443],\n",
       "                [-1.6953,  0.1030,  1.4793]],\n",
       "       \n",
       "               [[-0.1912,  0.8708,  0.5443],\n",
       "                [-1.6953,  0.1030,  1.4793]],\n",
       "       \n",
       "               [[-0.1912,  0.8708,  0.5443],\n",
       "                [-1.6953,  0.1030,  1.4793]],\n",
       "       \n",
       "               [[-0.1912,  0.8708,  0.5443],\n",
       "                [-1.6953,  0.1030,  1.4793]],\n",
       "       \n",
       "               [[-0.1912,  0.8708,  0.5443],\n",
       "                [-1.6953,  0.1030,  1.4793]],\n",
       "       \n",
       "               [[-0.1912,  0.8708,  0.5443],\n",
       "                [-1.6953,  0.1030,  1.4793]],\n",
       "       \n",
       "               [[-0.1912,  0.8708,  0.5443],\n",
       "                [-1.6953,  0.1030,  1.4793]]]),\n",
       ")"
      ]
     },
     "execution_count": 25,
     "metadata": {},
     "output_type": "execute_result"
    }
   ],
   "source": [
    "batches = [Batch(**_TREE_DATA_2) for _ in range(8)]\n",
    "\n",
    "Batch.stack(batches)"
   ]
  },
  {
   "cell_type": "code",
   "execution_count": 26,
   "id": "ec9037a3",
   "metadata": {
    "execution": {
     "iopub.execute_input": "2023-02-26T16:46:08.500066Z",
     "iopub.status.busy": "2023-02-26T16:46:08.499704Z",
     "iopub.status.idle": "2023-02-26T16:46:14.824024Z",
     "shell.execute_reply": "2023-02-26T16:46:14.823133Z"
    }
   },
   "outputs": [
    {
     "name": "stdout",
     "output_type": "stream",
     "text": [
      "77.8 µs ± 156 ns per loop (mean ± std. dev. of 7 runs, 10,000 loops each)\n"
     ]
    }
   ],
   "source": [
    "%timeit Batch.stack(batches)"
   ]
  },
  {
   "cell_type": "code",
   "execution_count": 27,
   "id": "cb8ab77e",
   "metadata": {
    "execution": {
     "iopub.execute_input": "2023-02-26T16:46:14.827920Z",
     "iopub.status.busy": "2023-02-26T16:46:14.827298Z",
     "iopub.status.idle": "2023-02-26T16:46:14.835520Z",
     "shell.execute_reply": "2023-02-26T16:46:14.834880Z"
    }
   },
   "outputs": [
    {
     "data": {
      "text/plain": [
       "Batch(\n",
       "    x: Batch(\n",
       "           c: tensor([[ 1.1593, -0.8663, -1.9790, -1.2510],\n",
       "                      [-0.1363,  2.7561,  1.0063,  0.6106],\n",
       "                      [ 0.3347,  0.9454,  0.0976, -0.2324],\n",
       "                      [ 1.1593, -0.8663, -1.9790, -1.2510],\n",
       "                      [-0.1363,  2.7561,  1.0063,  0.6106],\n",
       "                      [ 0.3347,  0.9454,  0.0976, -0.2324],\n",
       "                      [ 1.1593, -0.8663, -1.9790, -1.2510],\n",
       "                      [-0.1363,  2.7561,  1.0063,  0.6106],\n",
       "                      [ 0.3347,  0.9454,  0.0976, -0.2324],\n",
       "                      [ 1.1593, -0.8663, -1.9790, -1.2510],\n",
       "                      [-0.1363,  2.7561,  1.0063,  0.6106],\n",
       "                      [ 0.3347,  0.9454,  0.0976, -0.2324],\n",
       "                      [ 1.1593, -0.8663, -1.9790, -1.2510],\n",
       "                      [-0.1363,  2.7561,  1.0063,  0.6106],\n",
       "                      [ 0.3347,  0.9454,  0.0976, -0.2324],\n",
       "                      [ 1.1593, -0.8663, -1.9790, -1.2510],\n",
       "                      [-0.1363,  2.7561,  1.0063,  0.6106],\n",
       "                      [ 0.3347,  0.9454,  0.0976, -0.2324],\n",
       "                      [ 1.1593, -0.8663, -1.9790, -1.2510],\n",
       "                      [-0.1363,  2.7561,  1.0063,  0.6106],\n",
       "                      [ 0.3347,  0.9454,  0.0976, -0.2324],\n",
       "                      [ 1.1593, -0.8663, -1.9790, -1.2510],\n",
       "                      [-0.1363,  2.7561,  1.0063,  0.6106],\n",
       "                      [ 0.3347,  0.9454,  0.0976, -0.2324]]),\n",
       "       ),\n",
       "    a: tensor([[-0.1912,  0.8708,  0.5443],\n",
       "               [-1.6953,  0.1030,  1.4793],\n",
       "               [-0.1912,  0.8708,  0.5443],\n",
       "               [-1.6953,  0.1030,  1.4793],\n",
       "               [-0.1912,  0.8708,  0.5443],\n",
       "               [-1.6953,  0.1030,  1.4793],\n",
       "               [-0.1912,  0.8708,  0.5443],\n",
       "               [-1.6953,  0.1030,  1.4793],\n",
       "               [-0.1912,  0.8708,  0.5443],\n",
       "               [-1.6953,  0.1030,  1.4793],\n",
       "               [-0.1912,  0.8708,  0.5443],\n",
       "               [-1.6953,  0.1030,  1.4793],\n",
       "               [-0.1912,  0.8708,  0.5443],\n",
       "               [-1.6953,  0.1030,  1.4793],\n",
       "               [-0.1912,  0.8708,  0.5443],\n",
       "               [-1.6953,  0.1030,  1.4793]]),\n",
       ")"
      ]
     },
     "execution_count": 27,
     "metadata": {},
     "output_type": "execute_result"
    }
   ],
   "source": [
    "Batch.cat(batches)"
   ]
  },
  {
   "cell_type": "code",
   "execution_count": 28,
   "id": "18dfb045",
   "metadata": {
    "execution": {
     "iopub.execute_input": "2023-02-26T16:46:14.838533Z",
     "iopub.status.busy": "2023-02-26T16:46:14.837924Z",
     "iopub.status.idle": "2023-02-26T16:46:26.428224Z",
     "shell.execute_reply": "2023-02-26T16:46:26.427236Z"
    }
   },
   "outputs": [
    {
     "name": "stdout",
     "output_type": "stream",
     "text": [
      "143 µs ± 319 ns per loop (mean ± std. dev. of 7 runs, 10,000 loops each)\n"
     ]
    }
   ],
   "source": [
    "%timeit Batch.cat(batches)"
   ]
  },
  {
   "cell_type": "code",
   "execution_count": 29,
   "id": "c6688e51",
   "metadata": {
    "execution": {
     "iopub.execute_input": "2023-02-26T16:46:26.431426Z",
     "iopub.status.busy": "2023-02-26T16:46:26.430924Z",
     "iopub.status.idle": "2023-02-26T16:46:29.175798Z",
     "shell.execute_reply": "2023-02-26T16:46:29.174991Z"
    }
   },
   "outputs": [
    {
     "name": "stdout",
     "output_type": "stream",
     "text": [
      "337 µs ± 5.34 µs per loop (mean ± std. dev. of 7 runs, 1,000 loops each)\n"
     ]
    }
   ],
   "source": [
    "batch = Batch({\n",
    "    'obs': torch.randn(8, 4, 84, 84),\n",
    "    'action': torch.randint(0, 6, size=(8, 1,)),\n",
    "    'reward': torch.rand(8, 1)}\n",
    ")\n",
    "\n",
    "%timeit list(Batch.split(batch, 1, shuffle=False, merge_last=True))"
   ]
  },
  {
   "cell_type": "code",
   "execution_count": null,
   "id": "2539fbd9",
   "metadata": {},
   "outputs": [],
   "source": []
  }
 ],
 "metadata": {
  "kernelspec": {
   "display_name": "Python 3 (ipykernel)",
   "language": "python",
   "name": "python3"
  },
  "language_info": {
   "codemirror_mode": {
    "name": "ipython",
    "version": 3
   },
   "file_extension": ".py",
   "mimetype": "text/x-python",
   "name": "python",
   "nbconvert_exporter": "python",
   "pygments_lexer": "ipython3",
   "version": "3.8.16"
  }
 },
 "nbformat": 4,
 "nbformat_minor": 5
}
