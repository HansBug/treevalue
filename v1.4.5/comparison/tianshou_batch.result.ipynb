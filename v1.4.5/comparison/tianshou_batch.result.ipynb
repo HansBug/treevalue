{
 "cells": [
  {
   "cell_type": "markdown",
   "id": "9d39d946",
   "metadata": {},
   "source": [
    "# Comparison Between TreeValue and Tianshou Batch"
   ]
  },
  {
   "cell_type": "markdown",
   "id": "3c6db2d4",
   "metadata": {},
   "source": [
    "In this section, we will take a look at the feature and performance of the [Tianshou Batch](https://github.com/thu-ml/tianshou) library, which is developed by Tsinghua Machine Learning Group."
   ]
  },
  {
   "cell_type": "markdown",
   "id": "069361b0",
   "metadata": {},
   "source": [
    "Before starting the comparison, let us define some thing."
   ]
  },
  {
   "cell_type": "code",
   "execution_count": 1,
   "id": "06fc8d26",
   "metadata": {
    "execution": {
     "iopub.execute_input": "2023-10-22T15:22:36.779421Z",
     "iopub.status.busy": "2023-10-22T15:22:36.778688Z",
     "iopub.status.idle": "2023-10-22T15:22:38.416067Z",
     "shell.execute_reply": "2023-10-22T15:22:38.415255Z"
    }
   },
   "outputs": [],
   "source": [
    "import torch \n",
    "\n",
    "_TREE_DATA_1 = {'a': 1, 'b': 2, 'x': {'c': 3, 'd': 4}}\n",
    "_TREE_DATA_2 = {\n",
    "    'a': torch.randn(2, 3), \n",
    "    'x': {\n",
    "        'c': torch.randn(3, 4)\n",
    "    },\n",
    "}\n",
    "_TREE_DATA_3 = {\n",
    "    'obs': torch.randn(4, 84, 84),\n",
    "    'action': torch.randint(0, 6, size=(1,)),\n",
    "    'reward': torch.rand(1),\n",
    "}"
   ]
  },
  {
   "cell_type": "markdown",
   "id": "83461b25",
   "metadata": {},
   "source": [
    "## Read and Write Operation"
   ]
  },
  {
   "cell_type": "markdown",
   "id": "067b3f73",
   "metadata": {},
   "source": [
    "Reading and writing are the two most common operations in the tree data structure based on the data model (TreeValue and Tianshou Batch both belong to this type), so this section will compare the reading and writing performance of these two libraries."
   ]
  },
  {
   "cell_type": "markdown",
   "id": "5d09a5b7",
   "metadata": {},
   "source": [
    "### TreeValue's Get and Set"
   ]
  },
  {
   "cell_type": "code",
   "execution_count": 2,
   "id": "9519c4bb",
   "metadata": {
    "execution": {
     "iopub.execute_input": "2023-10-22T15:22:38.420623Z",
     "iopub.status.busy": "2023-10-22T15:22:38.419905Z",
     "iopub.status.idle": "2023-10-22T15:22:38.452127Z",
     "shell.execute_reply": "2023-10-22T15:22:38.451437Z"
    }
   },
   "outputs": [],
   "source": [
    "from treevalue import FastTreeValue\n",
    "\n",
    "t = FastTreeValue(_TREE_DATA_2)"
   ]
  },
  {
   "cell_type": "code",
   "execution_count": 3,
   "id": "11c37677",
   "metadata": {
    "execution": {
     "iopub.execute_input": "2023-10-22T15:22:38.455678Z",
     "iopub.status.busy": "2023-10-22T15:22:38.455032Z",
     "iopub.status.idle": "2023-10-22T15:22:38.467430Z",
     "shell.execute_reply": "2023-10-22T15:22:38.466796Z"
    }
   },
   "outputs": [
    {
     "data": {
      "text/plain": [
       "<FastTreeValue 0x7f79a4416fd0>\n",
       "├── 'a' --> tensor([[-1.1841, -1.0727, -0.2706],\n",
       "│                   [-0.7110, -1.2453, -0.1447]])\n",
       "└── 'x' --> <FastTreeValue 0x7f79a4416df0>\n",
       "    └── 'c' --> tensor([[ 1.0264, -0.6127,  1.1931, -0.3324],\n",
       "                        [-0.5817, -0.3046,  2.2446, -0.6356],\n",
       "                        [ 1.3357,  2.5562,  0.7383, -0.4199]])"
      ]
     },
     "execution_count": 3,
     "metadata": {},
     "output_type": "execute_result"
    }
   ],
   "source": [
    "t"
   ]
  },
  {
   "cell_type": "code",
   "execution_count": 4,
   "id": "fd70b0b9",
   "metadata": {
    "execution": {
     "iopub.execute_input": "2023-10-22T15:22:38.471004Z",
     "iopub.status.busy": "2023-10-22T15:22:38.470421Z",
     "iopub.status.idle": "2023-10-22T15:22:38.477698Z",
     "shell.execute_reply": "2023-10-22T15:22:38.477063Z"
    }
   },
   "outputs": [
    {
     "data": {
      "text/plain": [
       "tensor([[-1.1841, -1.0727, -0.2706],\n",
       "        [-0.7110, -1.2453, -0.1447]])"
      ]
     },
     "execution_count": 4,
     "metadata": {},
     "output_type": "execute_result"
    }
   ],
   "source": [
    "t.a"
   ]
  },
  {
   "cell_type": "code",
   "execution_count": 5,
   "id": "c18197bd",
   "metadata": {
    "execution": {
     "iopub.execute_input": "2023-10-22T15:22:38.480915Z",
     "iopub.status.busy": "2023-10-22T15:22:38.480333Z",
     "iopub.status.idle": "2023-10-22T15:22:44.300461Z",
     "shell.execute_reply": "2023-10-22T15:22:44.299570Z"
    }
   },
   "outputs": [
    {
     "name": "stdout",
     "output_type": "stream",
     "text": [
      "71.6 ns ± 0.13 ns per loop (mean ± std. dev. of 7 runs, 10,000,000 loops each)\n"
     ]
    }
   ],
   "source": [
    "%timeit t.a"
   ]
  },
  {
   "cell_type": "code",
   "execution_count": 6,
   "id": "bd52f867",
   "metadata": {
    "execution": {
     "iopub.execute_input": "2023-10-22T15:22:44.304075Z",
     "iopub.status.busy": "2023-10-22T15:22:44.303801Z",
     "iopub.status.idle": "2023-10-22T15:22:44.311018Z",
     "shell.execute_reply": "2023-10-22T15:22:44.310312Z"
    }
   },
   "outputs": [
    {
     "data": {
      "text/plain": [
       "<FastTreeValue 0x7f79a4416fd0>\n",
       "├── 'a' --> tensor([[-1.4137,  0.5450,  0.4632],\n",
       "│                   [-1.0570, -0.3959,  1.7289]])\n",
       "└── 'x' --> <FastTreeValue 0x7f79a4416df0>\n",
       "    └── 'c' --> tensor([[ 1.0264, -0.6127,  1.1931, -0.3324],\n",
       "                        [-0.5817, -0.3046,  2.2446, -0.6356],\n",
       "                        [ 1.3357,  2.5562,  0.7383, -0.4199]])"
      ]
     },
     "execution_count": 6,
     "metadata": {},
     "output_type": "execute_result"
    }
   ],
   "source": [
    "new_value = torch.randn(2, 3)\n",
    "t.a = new_value\n",
    "\n",
    "t"
   ]
  },
  {
   "cell_type": "code",
   "execution_count": 7,
   "id": "bbe04d1c",
   "metadata": {
    "execution": {
     "iopub.execute_input": "2023-10-22T15:22:44.314434Z",
     "iopub.status.busy": "2023-10-22T15:22:44.313830Z",
     "iopub.status.idle": "2023-10-22T15:22:50.482982Z",
     "shell.execute_reply": "2023-10-22T15:22:50.482170Z"
    }
   },
   "outputs": [
    {
     "name": "stdout",
     "output_type": "stream",
     "text": [
      "76 ns ± 0.0579 ns per loop (mean ± std. dev. of 7 runs, 10,000,000 loops each)\n"
     ]
    }
   ],
   "source": [
    "%timeit t.a = new_value"
   ]
  },
  {
   "cell_type": "markdown",
   "id": "48c49731",
   "metadata": {},
   "source": [
    "### Tianshou Batch's Get and Set"
   ]
  },
  {
   "cell_type": "code",
   "execution_count": 8,
   "id": "f1bb14c1",
   "metadata": {
    "execution": {
     "iopub.execute_input": "2023-10-22T15:22:50.487048Z",
     "iopub.status.busy": "2023-10-22T15:22:50.486402Z",
     "iopub.status.idle": "2023-10-22T15:22:50.926697Z",
     "shell.execute_reply": "2023-10-22T15:22:50.925818Z"
    }
   },
   "outputs": [],
   "source": [
    "from tianshou.data import Batch\n",
    "\n",
    "b = Batch(**_TREE_DATA_2)"
   ]
  },
  {
   "cell_type": "code",
   "execution_count": 9,
   "id": "cb0777c3",
   "metadata": {
    "execution": {
     "iopub.execute_input": "2023-10-22T15:22:50.932108Z",
     "iopub.status.busy": "2023-10-22T15:22:50.930998Z",
     "iopub.status.idle": "2023-10-22T15:22:50.939236Z",
     "shell.execute_reply": "2023-10-22T15:22:50.938428Z"
    }
   },
   "outputs": [
    {
     "data": {
      "text/plain": [
       "Batch(\n",
       "    a: tensor([[-1.1841, -1.0727, -0.2706],\n",
       "               [-0.7110, -1.2453, -0.1447]]),\n",
       "    x: Batch(\n",
       "           c: tensor([[ 1.0264, -0.6127,  1.1931, -0.3324],\n",
       "                      [-0.5817, -0.3046,  2.2446, -0.6356],\n",
       "                      [ 1.3357,  2.5562,  0.7383, -0.4199]]),\n",
       "       ),\n",
       ")"
      ]
     },
     "execution_count": 9,
     "metadata": {},
     "output_type": "execute_result"
    }
   ],
   "source": [
    "b"
   ]
  },
  {
   "cell_type": "code",
   "execution_count": 10,
   "id": "43ef8ea3",
   "metadata": {
    "execution": {
     "iopub.execute_input": "2023-10-22T15:22:50.942784Z",
     "iopub.status.busy": "2023-10-22T15:22:50.942301Z",
     "iopub.status.idle": "2023-10-22T15:22:50.947974Z",
     "shell.execute_reply": "2023-10-22T15:22:50.947249Z"
    }
   },
   "outputs": [
    {
     "data": {
      "text/plain": [
       "tensor([[-1.1841, -1.0727, -0.2706],\n",
       "        [-0.7110, -1.2453, -0.1447]])"
      ]
     },
     "execution_count": 10,
     "metadata": {},
     "output_type": "execute_result"
    }
   ],
   "source": [
    "b.a"
   ]
  },
  {
   "cell_type": "code",
   "execution_count": 11,
   "id": "b785ab72",
   "metadata": {
    "execution": {
     "iopub.execute_input": "2023-10-22T15:22:50.951223Z",
     "iopub.status.busy": "2023-10-22T15:22:50.950769Z",
     "iopub.status.idle": "2023-10-22T15:22:56.342210Z",
     "shell.execute_reply": "2023-10-22T15:22:56.341307Z"
    }
   },
   "outputs": [
    {
     "name": "stdout",
     "output_type": "stream",
     "text": [
      "66.3 ns ± 0.221 ns per loop (mean ± std. dev. of 7 runs, 10,000,000 loops each)\n"
     ]
    }
   ],
   "source": [
    "%timeit b.a"
   ]
  },
  {
   "cell_type": "code",
   "execution_count": 12,
   "id": "ad54dc69",
   "metadata": {
    "execution": {
     "iopub.execute_input": "2023-10-22T15:22:56.345979Z",
     "iopub.status.busy": "2023-10-22T15:22:56.345567Z",
     "iopub.status.idle": "2023-10-22T15:22:56.353501Z",
     "shell.execute_reply": "2023-10-22T15:22:56.352684Z"
    }
   },
   "outputs": [
    {
     "data": {
      "text/plain": [
       "Batch(\n",
       "    a: tensor([[-0.6123,  0.5127, -1.8918],\n",
       "               [-0.9100, -0.3810,  0.0678]]),\n",
       "    x: Batch(\n",
       "           c: tensor([[ 1.0264, -0.6127,  1.1931, -0.3324],\n",
       "                      [-0.5817, -0.3046,  2.2446, -0.6356],\n",
       "                      [ 1.3357,  2.5562,  0.7383, -0.4199]]),\n",
       "       ),\n",
       ")"
      ]
     },
     "execution_count": 12,
     "metadata": {},
     "output_type": "execute_result"
    }
   ],
   "source": [
    "new_value = torch.randn(2, 3)\n",
    "b.a = new_value\n",
    "\n",
    "b"
   ]
  },
  {
   "cell_type": "code",
   "execution_count": 13,
   "id": "29b1d0bf",
   "metadata": {
    "execution": {
     "iopub.execute_input": "2023-10-22T15:22:56.356819Z",
     "iopub.status.busy": "2023-10-22T15:22:56.356251Z",
     "iopub.status.idle": "2023-10-22T15:23:00.890946Z",
     "shell.execute_reply": "2023-10-22T15:23:00.890145Z"
    }
   },
   "outputs": [
    {
     "name": "stdout",
     "output_type": "stream",
     "text": [
      "558 ns ± 1.79 ns per loop (mean ± std. dev. of 7 runs, 1,000,000 loops each)\n"
     ]
    }
   ],
   "source": [
    "%timeit b.a = new_value"
   ]
  },
  {
   "cell_type": "markdown",
   "id": "b61ad1d0",
   "metadata": {},
   "source": [
    "## Initialization"
   ]
  },
  {
   "cell_type": "markdown",
   "id": "d70f0d54",
   "metadata": {},
   "source": [
    "### TreeValue's Initialization"
   ]
  },
  {
   "cell_type": "code",
   "execution_count": 14,
   "id": "d32a679b",
   "metadata": {
    "execution": {
     "iopub.execute_input": "2023-10-22T15:23:00.895183Z",
     "iopub.status.busy": "2023-10-22T15:23:00.894511Z",
     "iopub.status.idle": "2023-10-22T15:23:08.110846Z",
     "shell.execute_reply": "2023-10-22T15:23:08.109931Z"
    }
   },
   "outputs": [
    {
     "name": "stdout",
     "output_type": "stream",
     "text": [
      "890 ns ± 1.69 ns per loop (mean ± std. dev. of 7 runs, 1,000,000 loops each)\n"
     ]
    }
   ],
   "source": [
    "%timeit FastTreeValue(_TREE_DATA_1)"
   ]
  },
  {
   "cell_type": "markdown",
   "id": "24f3707b",
   "metadata": {},
   "source": [
    "### Tianshou Batch's Initialization"
   ]
  },
  {
   "cell_type": "code",
   "execution_count": 15,
   "id": "ac3958df",
   "metadata": {
    "execution": {
     "iopub.execute_input": "2023-10-22T15:23:08.114694Z",
     "iopub.status.busy": "2023-10-22T15:23:08.114043Z",
     "iopub.status.idle": "2023-10-22T15:23:17.272820Z",
     "shell.execute_reply": "2023-10-22T15:23:17.271880Z"
    }
   },
   "outputs": [
    {
     "name": "stdout",
     "output_type": "stream",
     "text": [
      "11.3 µs ± 32.2 ns per loop (mean ± std. dev. of 7 runs, 100,000 loops each)\n"
     ]
    }
   ],
   "source": [
    "%timeit Batch(**_TREE_DATA_1)"
   ]
  },
  {
   "cell_type": "markdown",
   "id": "1ab82e2d",
   "metadata": {},
   "source": [
    "## Deep Copy Operation"
   ]
  },
  {
   "cell_type": "code",
   "execution_count": 16,
   "id": "210a9442",
   "metadata": {
    "execution": {
     "iopub.execute_input": "2023-10-22T15:23:17.277111Z",
     "iopub.status.busy": "2023-10-22T15:23:17.276449Z",
     "iopub.status.idle": "2023-10-22T15:23:17.280667Z",
     "shell.execute_reply": "2023-10-22T15:23:17.280046Z"
    }
   },
   "outputs": [],
   "source": [
    "import copy"
   ]
  },
  {
   "cell_type": "markdown",
   "id": "5a736274",
   "metadata": {},
   "source": [
    "### Deep Copy of TreeValue"
   ]
  },
  {
   "cell_type": "code",
   "execution_count": 17,
   "id": "f9bcadd6",
   "metadata": {
    "execution": {
     "iopub.execute_input": "2023-10-22T15:23:17.283823Z",
     "iopub.status.busy": "2023-10-22T15:23:17.283375Z",
     "iopub.status.idle": "2023-10-22T15:23:29.411813Z",
     "shell.execute_reply": "2023-10-22T15:23:29.410973Z"
    }
   },
   "outputs": [
    {
     "name": "stdout",
     "output_type": "stream",
     "text": [
      "149 µs ± 1.28 µs per loop (mean ± std. dev. of 7 runs, 10,000 loops each)\n"
     ]
    }
   ],
   "source": [
    "t3 = FastTreeValue(_TREE_DATA_3)\n",
    "%timeit copy.deepcopy(t3)"
   ]
  },
  {
   "cell_type": "markdown",
   "id": "bf8be7ea",
   "metadata": {},
   "source": [
    "### Deep Copy of Tianshou Batch"
   ]
  },
  {
   "cell_type": "code",
   "execution_count": 18,
   "id": "91998e6f",
   "metadata": {
    "execution": {
     "iopub.execute_input": "2023-10-22T15:23:29.415609Z",
     "iopub.status.busy": "2023-10-22T15:23:29.414988Z",
     "iopub.status.idle": "2023-10-22T15:23:41.861262Z",
     "shell.execute_reply": "2023-10-22T15:23:41.860594Z"
    }
   },
   "outputs": [
    {
     "name": "stdout",
     "output_type": "stream",
     "text": [
      "153 µs ± 1.76 µs per loop (mean ± std. dev. of 7 runs, 10,000 loops each)\n"
     ]
    }
   ],
   "source": [
    "b3 = Batch(**_TREE_DATA_3)\n",
    "%timeit copy.deepcopy(b3)"
   ]
  },
  {
   "cell_type": "markdown",
   "id": "223162fb",
   "metadata": {},
   "source": [
    "## Stack, Concat and Split Operation"
   ]
  },
  {
   "cell_type": "markdown",
   "id": "85fa4a73",
   "metadata": {},
   "source": [
    "### Performance of TreeValue"
   ]
  },
  {
   "cell_type": "code",
   "execution_count": 19,
   "id": "a0c2b697",
   "metadata": {
    "execution": {
     "iopub.execute_input": "2023-10-22T15:23:41.865231Z",
     "iopub.status.busy": "2023-10-22T15:23:41.864723Z",
     "iopub.status.idle": "2023-10-22T15:23:41.868360Z",
     "shell.execute_reply": "2023-10-22T15:23:41.867784Z"
    }
   },
   "outputs": [],
   "source": [
    "trees = [FastTreeValue(_TREE_DATA_2) for _ in range(8)]"
   ]
  },
  {
   "cell_type": "code",
   "execution_count": 20,
   "id": "017ea5a5",
   "metadata": {
    "execution": {
     "iopub.execute_input": "2023-10-22T15:23:41.871262Z",
     "iopub.status.busy": "2023-10-22T15:23:41.870806Z",
     "iopub.status.idle": "2023-10-22T15:23:41.878450Z",
     "shell.execute_reply": "2023-10-22T15:23:41.877841Z"
    }
   },
   "outputs": [
    {
     "data": {
      "text/plain": [
       "<FastTreeValue 0x7f79a441ba60>\n",
       "├── 'a' --> tensor([[[-1.1841, -1.0727, -0.2706],\n",
       "│                    [-0.7110, -1.2453, -0.1447]],\n",
       "│           \n",
       "│                   [[-1.1841, -1.0727, -0.2706],\n",
       "│                    [-0.7110, -1.2453, -0.1447]],\n",
       "│           \n",
       "│                   [[-1.1841, -1.0727, -0.2706],\n",
       "│                    [-0.7110, -1.2453, -0.1447]],\n",
       "│           \n",
       "│                   [[-1.1841, -1.0727, -0.2706],\n",
       "│                    [-0.7110, -1.2453, -0.1447]],\n",
       "│           \n",
       "│                   [[-1.1841, -1.0727, -0.2706],\n",
       "│                    [-0.7110, -1.2453, -0.1447]],\n",
       "│           \n",
       "│                   [[-1.1841, -1.0727, -0.2706],\n",
       "│                    [-0.7110, -1.2453, -0.1447]],\n",
       "│           \n",
       "│                   [[-1.1841, -1.0727, -0.2706],\n",
       "│                    [-0.7110, -1.2453, -0.1447]],\n",
       "│           \n",
       "│                   [[-1.1841, -1.0727, -0.2706],\n",
       "│                    [-0.7110, -1.2453, -0.1447]]])\n",
       "└── 'x' --> <FastTreeValue 0x7f79a441bb50>\n",
       "    └── 'c' --> tensor([[[ 1.0264, -0.6127,  1.1931, -0.3324],\n",
       "                         [-0.5817, -0.3046,  2.2446, -0.6356],\n",
       "                         [ 1.3357,  2.5562,  0.7383, -0.4199]],\n",
       "                \n",
       "                        [[ 1.0264, -0.6127,  1.1931, -0.3324],\n",
       "                         [-0.5817, -0.3046,  2.2446, -0.6356],\n",
       "                         [ 1.3357,  2.5562,  0.7383, -0.4199]],\n",
       "                \n",
       "                        [[ 1.0264, -0.6127,  1.1931, -0.3324],\n",
       "                         [-0.5817, -0.3046,  2.2446, -0.6356],\n",
       "                         [ 1.3357,  2.5562,  0.7383, -0.4199]],\n",
       "                \n",
       "                        [[ 1.0264, -0.6127,  1.1931, -0.3324],\n",
       "                         [-0.5817, -0.3046,  2.2446, -0.6356],\n",
       "                         [ 1.3357,  2.5562,  0.7383, -0.4199]],\n",
       "                \n",
       "                        [[ 1.0264, -0.6127,  1.1931, -0.3324],\n",
       "                         [-0.5817, -0.3046,  2.2446, -0.6356],\n",
       "                         [ 1.3357,  2.5562,  0.7383, -0.4199]],\n",
       "                \n",
       "                        [[ 1.0264, -0.6127,  1.1931, -0.3324],\n",
       "                         [-0.5817, -0.3046,  2.2446, -0.6356],\n",
       "                         [ 1.3357,  2.5562,  0.7383, -0.4199]],\n",
       "                \n",
       "                        [[ 1.0264, -0.6127,  1.1931, -0.3324],\n",
       "                         [-0.5817, -0.3046,  2.2446, -0.6356],\n",
       "                         [ 1.3357,  2.5562,  0.7383, -0.4199]],\n",
       "                \n",
       "                        [[ 1.0264, -0.6127,  1.1931, -0.3324],\n",
       "                         [-0.5817, -0.3046,  2.2446, -0.6356],\n",
       "                         [ 1.3357,  2.5562,  0.7383, -0.4199]]])"
      ]
     },
     "execution_count": 20,
     "metadata": {},
     "output_type": "execute_result"
    }
   ],
   "source": [
    "t_stack = FastTreeValue.func(subside=True)(torch.stack)\n",
    "\n",
    "t_stack(trees)"
   ]
  },
  {
   "cell_type": "code",
   "execution_count": 21,
   "id": "f8b3f415",
   "metadata": {
    "execution": {
     "iopub.execute_input": "2023-10-22T15:23:41.881470Z",
     "iopub.status.busy": "2023-10-22T15:23:41.880863Z",
     "iopub.status.idle": "2023-10-22T15:23:44.589895Z",
     "shell.execute_reply": "2023-10-22T15:23:44.588984Z"
    }
   },
   "outputs": [
    {
     "name": "stdout",
     "output_type": "stream",
     "text": [
      "33.3 µs ± 58 ns per loop (mean ± std. dev. of 7 runs, 10,000 loops each)\n"
     ]
    }
   ],
   "source": [
    "%timeit t_stack(trees)"
   ]
  },
  {
   "cell_type": "code",
   "execution_count": 22,
   "id": "94b56771",
   "metadata": {
    "execution": {
     "iopub.execute_input": "2023-10-22T15:23:44.593688Z",
     "iopub.status.busy": "2023-10-22T15:23:44.593183Z",
     "iopub.status.idle": "2023-10-22T15:23:44.603000Z",
     "shell.execute_reply": "2023-10-22T15:23:44.602304Z"
    }
   },
   "outputs": [
    {
     "data": {
      "text/plain": [
       "<FastTreeValue 0x7f78c74ad2e0>\n",
       "├── 'a' --> tensor([[-1.1841, -1.0727, -0.2706],\n",
       "│                   [-0.7110, -1.2453, -0.1447],\n",
       "│                   [-1.1841, -1.0727, -0.2706],\n",
       "│                   [-0.7110, -1.2453, -0.1447],\n",
       "│                   [-1.1841, -1.0727, -0.2706],\n",
       "│                   [-0.7110, -1.2453, -0.1447],\n",
       "│                   [-1.1841, -1.0727, -0.2706],\n",
       "│                   [-0.7110, -1.2453, -0.1447],\n",
       "│                   [-1.1841, -1.0727, -0.2706],\n",
       "│                   [-0.7110, -1.2453, -0.1447],\n",
       "│                   [-1.1841, -1.0727, -0.2706],\n",
       "│                   [-0.7110, -1.2453, -0.1447],\n",
       "│                   [-1.1841, -1.0727, -0.2706],\n",
       "│                   [-0.7110, -1.2453, -0.1447],\n",
       "│                   [-1.1841, -1.0727, -0.2706],\n",
       "│                   [-0.7110, -1.2453, -0.1447]])\n",
       "└── 'x' --> <FastTreeValue 0x7f78c74ad6d0>\n",
       "    └── 'c' --> tensor([[ 1.0264, -0.6127,  1.1931, -0.3324],\n",
       "                        [-0.5817, -0.3046,  2.2446, -0.6356],\n",
       "                        [ 1.3357,  2.5562,  0.7383, -0.4199],\n",
       "                        [ 1.0264, -0.6127,  1.1931, -0.3324],\n",
       "                        [-0.5817, -0.3046,  2.2446, -0.6356],\n",
       "                        [ 1.3357,  2.5562,  0.7383, -0.4199],\n",
       "                        [ 1.0264, -0.6127,  1.1931, -0.3324],\n",
       "                        [-0.5817, -0.3046,  2.2446, -0.6356],\n",
       "                        [ 1.3357,  2.5562,  0.7383, -0.4199],\n",
       "                        [ 1.0264, -0.6127,  1.1931, -0.3324],\n",
       "                        [-0.5817, -0.3046,  2.2446, -0.6356],\n",
       "                        [ 1.3357,  2.5562,  0.7383, -0.4199],\n",
       "                        [ 1.0264, -0.6127,  1.1931, -0.3324],\n",
       "                        [-0.5817, -0.3046,  2.2446, -0.6356],\n",
       "                        [ 1.3357,  2.5562,  0.7383, -0.4199],\n",
       "                        [ 1.0264, -0.6127,  1.1931, -0.3324],\n",
       "                        [-0.5817, -0.3046,  2.2446, -0.6356],\n",
       "                        [ 1.3357,  2.5562,  0.7383, -0.4199],\n",
       "                        [ 1.0264, -0.6127,  1.1931, -0.3324],\n",
       "                        [-0.5817, -0.3046,  2.2446, -0.6356],\n",
       "                        [ 1.3357,  2.5562,  0.7383, -0.4199],\n",
       "                        [ 1.0264, -0.6127,  1.1931, -0.3324],\n",
       "                        [-0.5817, -0.3046,  2.2446, -0.6356],\n",
       "                        [ 1.3357,  2.5562,  0.7383, -0.4199]])"
      ]
     },
     "execution_count": 22,
     "metadata": {},
     "output_type": "execute_result"
    }
   ],
   "source": [
    "t_cat = FastTreeValue.func(subside=True)(torch.cat)\n",
    "\n",
    "t_cat(trees)"
   ]
  },
  {
   "cell_type": "code",
   "execution_count": 23,
   "id": "5e9c06a6",
   "metadata": {
    "execution": {
     "iopub.execute_input": "2023-10-22T15:23:44.605893Z",
     "iopub.status.busy": "2023-10-22T15:23:44.605661Z",
     "iopub.status.idle": "2023-10-22T15:23:47.152357Z",
     "shell.execute_reply": "2023-10-22T15:23:47.151440Z"
    }
   },
   "outputs": [
    {
     "name": "stdout",
     "output_type": "stream",
     "text": [
      "31.3 µs ± 56.2 ns per loop (mean ± std. dev. of 7 runs, 10,000 loops each)\n"
     ]
    }
   ],
   "source": [
    "%timeit t_cat(trees)"
   ]
  },
  {
   "cell_type": "code",
   "execution_count": 24,
   "id": "a3ab5c8f",
   "metadata": {
    "execution": {
     "iopub.execute_input": "2023-10-22T15:23:47.155828Z",
     "iopub.status.busy": "2023-10-22T15:23:47.155423Z",
     "iopub.status.idle": "2023-10-22T15:23:52.385023Z",
     "shell.execute_reply": "2023-10-22T15:23:52.383574Z"
    }
   },
   "outputs": [
    {
     "name": "stdout",
     "output_type": "stream",
     "text": [
      "64.3 µs ± 66.8 ns per loop (mean ± std. dev. of 7 runs, 10,000 loops each)\n"
     ]
    }
   ],
   "source": [
    "t_split = FastTreeValue.func(rise=True)(torch.split)\n",
    "tree = FastTreeValue({\n",
    "    'obs': torch.randn(8, 4, 84, 84),\n",
    "    'action': torch.randint(0, 6, size=(8, 1,)),\n",
    "    'reward': torch.rand(8, 1),\n",
    "})\n",
    "\n",
    "%timeit t_split(tree, 1)"
   ]
  },
  {
   "cell_type": "markdown",
   "id": "31c3ec0b",
   "metadata": {},
   "source": [
    "### Performance of Tianshou Batch"
   ]
  },
  {
   "cell_type": "code",
   "execution_count": 25,
   "id": "9ead828a",
   "metadata": {
    "execution": {
     "iopub.execute_input": "2023-10-22T15:23:52.389070Z",
     "iopub.status.busy": "2023-10-22T15:23:52.388355Z",
     "iopub.status.idle": "2023-10-22T15:23:52.397594Z",
     "shell.execute_reply": "2023-10-22T15:23:52.396954Z"
    }
   },
   "outputs": [
    {
     "data": {
      "text/plain": [
       "Batch(\n",
       "    a: tensor([[[-1.1841, -1.0727, -0.2706],\n",
       "                [-0.7110, -1.2453, -0.1447]],\n",
       "       \n",
       "               [[-1.1841, -1.0727, -0.2706],\n",
       "                [-0.7110, -1.2453, -0.1447]],\n",
       "       \n",
       "               [[-1.1841, -1.0727, -0.2706],\n",
       "                [-0.7110, -1.2453, -0.1447]],\n",
       "       \n",
       "               [[-1.1841, -1.0727, -0.2706],\n",
       "                [-0.7110, -1.2453, -0.1447]],\n",
       "       \n",
       "               [[-1.1841, -1.0727, -0.2706],\n",
       "                [-0.7110, -1.2453, -0.1447]],\n",
       "       \n",
       "               [[-1.1841, -1.0727, -0.2706],\n",
       "                [-0.7110, -1.2453, -0.1447]],\n",
       "       \n",
       "               [[-1.1841, -1.0727, -0.2706],\n",
       "                [-0.7110, -1.2453, -0.1447]],\n",
       "       \n",
       "               [[-1.1841, -1.0727, -0.2706],\n",
       "                [-0.7110, -1.2453, -0.1447]]]),\n",
       "    x: Batch(\n",
       "           c: tensor([[[ 1.0264, -0.6127,  1.1931, -0.3324],\n",
       "                       [-0.5817, -0.3046,  2.2446, -0.6356],\n",
       "                       [ 1.3357,  2.5562,  0.7383, -0.4199]],\n",
       "              \n",
       "                      [[ 1.0264, -0.6127,  1.1931, -0.3324],\n",
       "                       [-0.5817, -0.3046,  2.2446, -0.6356],\n",
       "                       [ 1.3357,  2.5562,  0.7383, -0.4199]],\n",
       "              \n",
       "                      [[ 1.0264, -0.6127,  1.1931, -0.3324],\n",
       "                       [-0.5817, -0.3046,  2.2446, -0.6356],\n",
       "                       [ 1.3357,  2.5562,  0.7383, -0.4199]],\n",
       "              \n",
       "                      [[ 1.0264, -0.6127,  1.1931, -0.3324],\n",
       "                       [-0.5817, -0.3046,  2.2446, -0.6356],\n",
       "                       [ 1.3357,  2.5562,  0.7383, -0.4199]],\n",
       "              \n",
       "                      [[ 1.0264, -0.6127,  1.1931, -0.3324],\n",
       "                       [-0.5817, -0.3046,  2.2446, -0.6356],\n",
       "                       [ 1.3357,  2.5562,  0.7383, -0.4199]],\n",
       "              \n",
       "                      [[ 1.0264, -0.6127,  1.1931, -0.3324],\n",
       "                       [-0.5817, -0.3046,  2.2446, -0.6356],\n",
       "                       [ 1.3357,  2.5562,  0.7383, -0.4199]],\n",
       "              \n",
       "                      [[ 1.0264, -0.6127,  1.1931, -0.3324],\n",
       "                       [-0.5817, -0.3046,  2.2446, -0.6356],\n",
       "                       [ 1.3357,  2.5562,  0.7383, -0.4199]],\n",
       "              \n",
       "                      [[ 1.0264, -0.6127,  1.1931, -0.3324],\n",
       "                       [-0.5817, -0.3046,  2.2446, -0.6356],\n",
       "                       [ 1.3357,  2.5562,  0.7383, -0.4199]]]),\n",
       "       ),\n",
       ")"
      ]
     },
     "execution_count": 25,
     "metadata": {},
     "output_type": "execute_result"
    }
   ],
   "source": [
    "batches = [Batch(**_TREE_DATA_2) for _ in range(8)]\n",
    "\n",
    "Batch.stack(batches)"
   ]
  },
  {
   "cell_type": "code",
   "execution_count": 26,
   "id": "ec9037a3",
   "metadata": {
    "execution": {
     "iopub.execute_input": "2023-10-22T15:23:52.400981Z",
     "iopub.status.busy": "2023-10-22T15:23:52.400395Z",
     "iopub.status.idle": "2023-10-22T15:23:59.262560Z",
     "shell.execute_reply": "2023-10-22T15:23:59.261662Z"
    }
   },
   "outputs": [
    {
     "name": "stdout",
     "output_type": "stream",
     "text": [
      "84.4 µs ± 198 ns per loop (mean ± std. dev. of 7 runs, 10,000 loops each)\n"
     ]
    }
   ],
   "source": [
    "%timeit Batch.stack(batches)"
   ]
  },
  {
   "cell_type": "code",
   "execution_count": 27,
   "id": "cb8ab77e",
   "metadata": {
    "execution": {
     "iopub.execute_input": "2023-10-22T15:23:59.266760Z",
     "iopub.status.busy": "2023-10-22T15:23:59.266220Z",
     "iopub.status.idle": "2023-10-22T15:23:59.276285Z",
     "shell.execute_reply": "2023-10-22T15:23:59.275645Z"
    }
   },
   "outputs": [
    {
     "data": {
      "text/plain": [
       "Batch(\n",
       "    a: tensor([[-1.1841, -1.0727, -0.2706],\n",
       "               [-0.7110, -1.2453, -0.1447],\n",
       "               [-1.1841, -1.0727, -0.2706],\n",
       "               [-0.7110, -1.2453, -0.1447],\n",
       "               [-1.1841, -1.0727, -0.2706],\n",
       "               [-0.7110, -1.2453, -0.1447],\n",
       "               [-1.1841, -1.0727, -0.2706],\n",
       "               [-0.7110, -1.2453, -0.1447],\n",
       "               [-1.1841, -1.0727, -0.2706],\n",
       "               [-0.7110, -1.2453, -0.1447],\n",
       "               [-1.1841, -1.0727, -0.2706],\n",
       "               [-0.7110, -1.2453, -0.1447],\n",
       "               [-1.1841, -1.0727, -0.2706],\n",
       "               [-0.7110, -1.2453, -0.1447],\n",
       "               [-1.1841, -1.0727, -0.2706],\n",
       "               [-0.7110, -1.2453, -0.1447]]),\n",
       "    x: Batch(\n",
       "           c: tensor([[ 1.0264, -0.6127,  1.1931, -0.3324],\n",
       "                      [-0.5817, -0.3046,  2.2446, -0.6356],\n",
       "                      [ 1.3357,  2.5562,  0.7383, -0.4199],\n",
       "                      [ 1.0264, -0.6127,  1.1931, -0.3324],\n",
       "                      [-0.5817, -0.3046,  2.2446, -0.6356],\n",
       "                      [ 1.3357,  2.5562,  0.7383, -0.4199],\n",
       "                      [ 1.0264, -0.6127,  1.1931, -0.3324],\n",
       "                      [-0.5817, -0.3046,  2.2446, -0.6356],\n",
       "                      [ 1.3357,  2.5562,  0.7383, -0.4199],\n",
       "                      [ 1.0264, -0.6127,  1.1931, -0.3324],\n",
       "                      [-0.5817, -0.3046,  2.2446, -0.6356],\n",
       "                      [ 1.3357,  2.5562,  0.7383, -0.4199],\n",
       "                      [ 1.0264, -0.6127,  1.1931, -0.3324],\n",
       "                      [-0.5817, -0.3046,  2.2446, -0.6356],\n",
       "                      [ 1.3357,  2.5562,  0.7383, -0.4199],\n",
       "                      [ 1.0264, -0.6127,  1.1931, -0.3324],\n",
       "                      [-0.5817, -0.3046,  2.2446, -0.6356],\n",
       "                      [ 1.3357,  2.5562,  0.7383, -0.4199],\n",
       "                      [ 1.0264, -0.6127,  1.1931, -0.3324],\n",
       "                      [-0.5817, -0.3046,  2.2446, -0.6356],\n",
       "                      [ 1.3357,  2.5562,  0.7383, -0.4199],\n",
       "                      [ 1.0264, -0.6127,  1.1931, -0.3324],\n",
       "                      [-0.5817, -0.3046,  2.2446, -0.6356],\n",
       "                      [ 1.3357,  2.5562,  0.7383, -0.4199]]),\n",
       "       ),\n",
       ")"
      ]
     },
     "execution_count": 27,
     "metadata": {},
     "output_type": "execute_result"
    }
   ],
   "source": [
    "Batch.cat(batches)"
   ]
  },
  {
   "cell_type": "code",
   "execution_count": 28,
   "id": "18dfb045",
   "metadata": {
    "execution": {
     "iopub.execute_input": "2023-10-22T15:23:59.279709Z",
     "iopub.status.busy": "2023-10-22T15:23:59.279114Z",
     "iopub.status.idle": "2023-10-22T15:24:11.871096Z",
     "shell.execute_reply": "2023-10-22T15:24:11.869765Z"
    }
   },
   "outputs": [
    {
     "name": "stdout",
     "output_type": "stream",
     "text": [
      "155 µs ± 142 ns per loop (mean ± std. dev. of 7 runs, 10,000 loops each)\n"
     ]
    }
   ],
   "source": [
    "%timeit Batch.cat(batches)"
   ]
  },
  {
   "cell_type": "code",
   "execution_count": 29,
   "id": "c6688e51",
   "metadata": {
    "execution": {
     "iopub.execute_input": "2023-10-22T15:24:11.875045Z",
     "iopub.status.busy": "2023-10-22T15:24:11.874385Z",
     "iopub.status.idle": "2023-10-22T15:24:14.948785Z",
     "shell.execute_reply": "2023-10-22T15:24:14.947946Z"
    }
   },
   "outputs": [
    {
     "name": "stdout",
     "output_type": "stream",
     "text": [
      "378 µs ± 6.72 µs per loop (mean ± std. dev. of 7 runs, 1,000 loops each)\n"
     ]
    }
   ],
   "source": [
    "batch = Batch({\n",
    "    'obs': torch.randn(8, 4, 84, 84),\n",
    "    'action': torch.randint(0, 6, size=(8, 1,)),\n",
    "    'reward': torch.rand(8, 1)}\n",
    ")\n",
    "\n",
    "%timeit list(Batch.split(batch, 1, shuffle=False, merge_last=True))"
   ]
  },
  {
   "cell_type": "code",
   "execution_count": null,
   "id": "2539fbd9",
   "metadata": {},
   "outputs": [],
   "source": []
  }
 ],
 "metadata": {
  "kernelspec": {
   "display_name": "Python 3 (ipykernel)",
   "language": "python",
   "name": "python3"
  },
  "language_info": {
   "codemirror_mode": {
    "name": "ipython",
    "version": 3
   },
   "file_extension": ".py",
   "mimetype": "text/x-python",
   "name": "python",
   "nbconvert_exporter": "python",
   "pygments_lexer": "ipython3",
   "version": "3.8.18"
  }
 },
 "nbformat": 4,
 "nbformat_minor": 5
}
