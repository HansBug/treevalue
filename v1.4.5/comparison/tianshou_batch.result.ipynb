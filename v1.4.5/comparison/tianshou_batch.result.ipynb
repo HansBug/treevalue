{
 "cells": [
  {
   "cell_type": "markdown",
   "id": "9d39d946",
   "metadata": {},
   "source": [
    "# Comparison Between TreeValue and Tianshou Batch"
   ]
  },
  {
   "cell_type": "markdown",
   "id": "3c6db2d4",
   "metadata": {},
   "source": [
    "In this section, we will take a look at the feature and performance of the [Tianshou Batch](https://github.com/thu-ml/tianshou) library, which is developed by Tsinghua Machine Learning Group."
   ]
  },
  {
   "cell_type": "markdown",
   "id": "069361b0",
   "metadata": {},
   "source": [
    "Before starting the comparison, let us define some thing."
   ]
  },
  {
   "cell_type": "code",
   "execution_count": 1,
   "id": "06fc8d26",
   "metadata": {
    "execution": {
     "iopub.execute_input": "2023-10-20T07:15:19.079147Z",
     "iopub.status.busy": "2023-10-20T07:15:19.078308Z",
     "iopub.status.idle": "2023-10-20T07:15:21.382593Z",
     "shell.execute_reply": "2023-10-20T07:15:21.381372Z"
    }
   },
   "outputs": [],
   "source": [
    "import torch \n",
    "\n",
    "_TREE_DATA_1 = {'a': 1, 'b': 2, 'x': {'c': 3, 'd': 4}}\n",
    "_TREE_DATA_2 = {\n",
    "    'a': torch.randn(2, 3), \n",
    "    'x': {\n",
    "        'c': torch.randn(3, 4)\n",
    "    },\n",
    "}\n",
    "_TREE_DATA_3 = {\n",
    "    'obs': torch.randn(4, 84, 84),\n",
    "    'action': torch.randint(0, 6, size=(1,)),\n",
    "    'reward': torch.rand(1),\n",
    "}"
   ]
  },
  {
   "cell_type": "markdown",
   "id": "83461b25",
   "metadata": {},
   "source": [
    "## Read and Write Operation"
   ]
  },
  {
   "cell_type": "markdown",
   "id": "067b3f73",
   "metadata": {},
   "source": [
    "Reading and writing are the two most common operations in the tree data structure based on the data model (TreeValue and Tianshou Batch both belong to this type), so this section will compare the reading and writing performance of these two libraries."
   ]
  },
  {
   "cell_type": "markdown",
   "id": "5d09a5b7",
   "metadata": {},
   "source": [
    "### TreeValue's Get and Set"
   ]
  },
  {
   "cell_type": "code",
   "execution_count": 2,
   "id": "9519c4bb",
   "metadata": {
    "execution": {
     "iopub.execute_input": "2023-10-20T07:15:21.389127Z",
     "iopub.status.busy": "2023-10-20T07:15:21.387225Z",
     "iopub.status.idle": "2023-10-20T07:15:21.433784Z",
     "shell.execute_reply": "2023-10-20T07:15:21.432715Z"
    }
   },
   "outputs": [],
   "source": [
    "from treevalue import FastTreeValue\n",
    "\n",
    "t = FastTreeValue(_TREE_DATA_2)"
   ]
  },
  {
   "cell_type": "code",
   "execution_count": 3,
   "id": "11c37677",
   "metadata": {
    "execution": {
     "iopub.execute_input": "2023-10-20T07:15:21.438726Z",
     "iopub.status.busy": "2023-10-20T07:15:21.438058Z",
     "iopub.status.idle": "2023-10-20T07:15:21.454810Z",
     "shell.execute_reply": "2023-10-20T07:15:21.450053Z"
    }
   },
   "outputs": [
    {
     "data": {
      "text/plain": [
       "<FastTreeValue 0x7fd2f01622e0>\n",
       "├── 'a' --> tensor([[-0.7084,  1.0229, -0.1265],\n",
       "│                   [-1.0901,  0.1787,  0.6028]])\n",
       "└── 'x' --> <FastTreeValue 0x7fd2f015c970>\n",
       "    └── 'c' --> tensor([[ 0.6395, -0.1356, -0.3477,  0.5625],\n",
       "                        [ 0.4505,  0.1472,  0.9763,  0.0269],\n",
       "                        [-0.8810,  0.9881, -0.7776,  0.7319]])"
      ]
     },
     "execution_count": 3,
     "metadata": {},
     "output_type": "execute_result"
    }
   ],
   "source": [
    "t"
   ]
  },
  {
   "cell_type": "code",
   "execution_count": 4,
   "id": "fd70b0b9",
   "metadata": {
    "execution": {
     "iopub.execute_input": "2023-10-20T07:15:21.458913Z",
     "iopub.status.busy": "2023-10-20T07:15:21.458559Z",
     "iopub.status.idle": "2023-10-20T07:15:21.465882Z",
     "shell.execute_reply": "2023-10-20T07:15:21.464801Z"
    }
   },
   "outputs": [
    {
     "data": {
      "text/plain": [
       "tensor([[-0.7084,  1.0229, -0.1265],\n",
       "        [-1.0901,  0.1787,  0.6028]])"
      ]
     },
     "execution_count": 4,
     "metadata": {},
     "output_type": "execute_result"
    }
   ],
   "source": [
    "t.a"
   ]
  },
  {
   "cell_type": "code",
   "execution_count": 5,
   "id": "c18197bd",
   "metadata": {
    "execution": {
     "iopub.execute_input": "2023-10-20T07:15:21.469989Z",
     "iopub.status.busy": "2023-10-20T07:15:21.469648Z",
     "iopub.status.idle": "2023-10-20T07:15:28.268807Z",
     "shell.execute_reply": "2023-10-20T07:15:28.265477Z"
    }
   },
   "outputs": [
    {
     "name": "stdout",
     "output_type": "stream",
     "text": [
      "83.8 ns ± 3.13 ns per loop (mean ± std. dev. of 7 runs, 10,000,000 loops each)\n"
     ]
    }
   ],
   "source": [
    "%timeit t.a"
   ]
  },
  {
   "cell_type": "code",
   "execution_count": 6,
   "id": "bd52f867",
   "metadata": {
    "execution": {
     "iopub.execute_input": "2023-10-20T07:15:28.273256Z",
     "iopub.status.busy": "2023-10-20T07:15:28.272482Z",
     "iopub.status.idle": "2023-10-20T07:15:28.283630Z",
     "shell.execute_reply": "2023-10-20T07:15:28.282271Z"
    }
   },
   "outputs": [
    {
     "data": {
      "text/plain": [
       "<FastTreeValue 0x7fd2f01622e0>\n",
       "├── 'a' --> tensor([[ 7.7900e-01, -1.9901e-03, -6.8406e-01],\n",
       "│                   [-3.8094e-01, -5.2710e-01, -2.1424e+00]])\n",
       "└── 'x' --> <FastTreeValue 0x7fd2f015c970>\n",
       "    └── 'c' --> tensor([[ 0.6395, -0.1356, -0.3477,  0.5625],\n",
       "                        [ 0.4505,  0.1472,  0.9763,  0.0269],\n",
       "                        [-0.8810,  0.9881, -0.7776,  0.7319]])"
      ]
     },
     "execution_count": 6,
     "metadata": {},
     "output_type": "execute_result"
    }
   ],
   "source": [
    "new_value = torch.randn(2, 3)\n",
    "t.a = new_value\n",
    "\n",
    "t"
   ]
  },
  {
   "cell_type": "code",
   "execution_count": 7,
   "id": "bbe04d1c",
   "metadata": {
    "execution": {
     "iopub.execute_input": "2023-10-20T07:15:28.289208Z",
     "iopub.status.busy": "2023-10-20T07:15:28.288880Z",
     "iopub.status.idle": "2023-10-20T07:15:37.728782Z",
     "shell.execute_reply": "2023-10-20T07:15:37.727154Z"
    }
   },
   "outputs": [
    {
     "name": "stdout",
     "output_type": "stream",
     "text": [
      "116 ns ± 3.59 ns per loop (mean ± std. dev. of 7 runs, 10,000,000 loops each)\n"
     ]
    }
   ],
   "source": [
    "%timeit t.a = new_value"
   ]
  },
  {
   "cell_type": "markdown",
   "id": "48c49731",
   "metadata": {},
   "source": [
    "### Tianshou Batch's Get and Set"
   ]
  },
  {
   "cell_type": "code",
   "execution_count": 8,
   "id": "f1bb14c1",
   "metadata": {
    "execution": {
     "iopub.execute_input": "2023-10-20T07:15:37.733096Z",
     "iopub.status.busy": "2023-10-20T07:15:37.732792Z",
     "iopub.status.idle": "2023-10-20T07:15:38.325902Z",
     "shell.execute_reply": "2023-10-20T07:15:38.324824Z"
    }
   },
   "outputs": [],
   "source": [
    "from tianshou.data import Batch\n",
    "\n",
    "b = Batch(**_TREE_DATA_2)"
   ]
  },
  {
   "cell_type": "code",
   "execution_count": 9,
   "id": "cb0777c3",
   "metadata": {
    "execution": {
     "iopub.execute_input": "2023-10-20T07:15:38.330931Z",
     "iopub.status.busy": "2023-10-20T07:15:38.329857Z",
     "iopub.status.idle": "2023-10-20T07:15:38.340635Z",
     "shell.execute_reply": "2023-10-20T07:15:38.339618Z"
    }
   },
   "outputs": [
    {
     "data": {
      "text/plain": [
       "Batch(\n",
       "    a: tensor([[-0.7084,  1.0229, -0.1265],\n",
       "               [-1.0901,  0.1787,  0.6028]]),\n",
       "    x: Batch(\n",
       "           c: tensor([[ 0.6395, -0.1356, -0.3477,  0.5625],\n",
       "                      [ 0.4505,  0.1472,  0.9763,  0.0269],\n",
       "                      [-0.8810,  0.9881, -0.7776,  0.7319]]),\n",
       "       ),\n",
       ")"
      ]
     },
     "execution_count": 9,
     "metadata": {},
     "output_type": "execute_result"
    }
   ],
   "source": [
    "b"
   ]
  },
  {
   "cell_type": "code",
   "execution_count": 10,
   "id": "43ef8ea3",
   "metadata": {
    "execution": {
     "iopub.execute_input": "2023-10-20T07:15:38.345509Z",
     "iopub.status.busy": "2023-10-20T07:15:38.345170Z",
     "iopub.status.idle": "2023-10-20T07:15:38.356118Z",
     "shell.execute_reply": "2023-10-20T07:15:38.354903Z"
    }
   },
   "outputs": [
    {
     "data": {
      "text/plain": [
       "tensor([[-0.7084,  1.0229, -0.1265],\n",
       "        [-1.0901,  0.1787,  0.6028]])"
      ]
     },
     "execution_count": 10,
     "metadata": {},
     "output_type": "execute_result"
    }
   ],
   "source": [
    "b.a"
   ]
  },
  {
   "cell_type": "code",
   "execution_count": 11,
   "id": "b785ab72",
   "metadata": {
    "execution": {
     "iopub.execute_input": "2023-10-20T07:15:38.360149Z",
     "iopub.status.busy": "2023-10-20T07:15:38.359823Z",
     "iopub.status.idle": "2023-10-20T07:15:44.883216Z",
     "shell.execute_reply": "2023-10-20T07:15:44.882245Z"
    }
   },
   "outputs": [
    {
     "name": "stdout",
     "output_type": "stream",
     "text": [
      "80.9 ns ± 1.27 ns per loop (mean ± std. dev. of 7 runs, 10,000,000 loops each)\n"
     ]
    }
   ],
   "source": [
    "%timeit b.a"
   ]
  },
  {
   "cell_type": "code",
   "execution_count": 12,
   "id": "ad54dc69",
   "metadata": {
    "execution": {
     "iopub.execute_input": "2023-10-20T07:15:44.888518Z",
     "iopub.status.busy": "2023-10-20T07:15:44.887850Z",
     "iopub.status.idle": "2023-10-20T07:15:44.896180Z",
     "shell.execute_reply": "2023-10-20T07:15:44.895231Z"
    }
   },
   "outputs": [
    {
     "data": {
      "text/plain": [
       "Batch(\n",
       "    a: tensor([[ 0.7587,  1.9391,  0.6452],\n",
       "               [ 0.6153,  0.7999, -0.7184]]),\n",
       "    x: Batch(\n",
       "           c: tensor([[ 0.6395, -0.1356, -0.3477,  0.5625],\n",
       "                      [ 0.4505,  0.1472,  0.9763,  0.0269],\n",
       "                      [-0.8810,  0.9881, -0.7776,  0.7319]]),\n",
       "       ),\n",
       ")"
      ]
     },
     "execution_count": 12,
     "metadata": {},
     "output_type": "execute_result"
    }
   ],
   "source": [
    "new_value = torch.randn(2, 3)\n",
    "b.a = new_value\n",
    "\n",
    "b"
   ]
  },
  {
   "cell_type": "code",
   "execution_count": 13,
   "id": "29b1d0bf",
   "metadata": {
    "execution": {
     "iopub.execute_input": "2023-10-20T07:15:44.903830Z",
     "iopub.status.busy": "2023-10-20T07:15:44.903465Z",
     "iopub.status.idle": "2023-10-20T07:15:50.319957Z",
     "shell.execute_reply": "2023-10-20T07:15:50.319041Z"
    }
   },
   "outputs": [
    {
     "name": "stdout",
     "output_type": "stream",
     "text": [
      "668 ns ± 14 ns per loop (mean ± std. dev. of 7 runs, 1,000,000 loops each)\n"
     ]
    }
   ],
   "source": [
    "%timeit b.a = new_value"
   ]
  },
  {
   "cell_type": "markdown",
   "id": "b61ad1d0",
   "metadata": {},
   "source": [
    "## Initialization"
   ]
  },
  {
   "cell_type": "markdown",
   "id": "d70f0d54",
   "metadata": {},
   "source": [
    "### TreeValue's Initialization"
   ]
  },
  {
   "cell_type": "code",
   "execution_count": 14,
   "id": "d32a679b",
   "metadata": {
    "execution": {
     "iopub.execute_input": "2023-10-20T07:15:50.324539Z",
     "iopub.status.busy": "2023-10-20T07:15:50.324060Z",
     "iopub.status.idle": "2023-10-20T07:15:59.253523Z",
     "shell.execute_reply": "2023-10-20T07:15:59.252373Z"
    }
   },
   "outputs": [
    {
     "name": "stdout",
     "output_type": "stream",
     "text": [
      "1.1 µs ± 15.4 ns per loop (mean ± std. dev. of 7 runs, 1,000,000 loops each)\n"
     ]
    }
   ],
   "source": [
    "%timeit FastTreeValue(_TREE_DATA_1)"
   ]
  },
  {
   "cell_type": "markdown",
   "id": "24f3707b",
   "metadata": {},
   "source": [
    "### Tianshou Batch's Initialization"
   ]
  },
  {
   "cell_type": "code",
   "execution_count": 15,
   "id": "ac3958df",
   "metadata": {
    "execution": {
     "iopub.execute_input": "2023-10-20T07:15:59.259681Z",
     "iopub.status.busy": "2023-10-20T07:15:59.258049Z",
     "iopub.status.idle": "2023-10-20T07:16:10.427233Z",
     "shell.execute_reply": "2023-10-20T07:16:10.426228Z"
    }
   },
   "outputs": [
    {
     "name": "stdout",
     "output_type": "stream",
     "text": [
      "13.7 µs ± 196 ns per loop (mean ± std. dev. of 7 runs, 100,000 loops each)\n"
     ]
    }
   ],
   "source": [
    "%timeit Batch(**_TREE_DATA_1)"
   ]
  },
  {
   "cell_type": "markdown",
   "id": "1ab82e2d",
   "metadata": {},
   "source": [
    "## Deep Copy Operation"
   ]
  },
  {
   "cell_type": "code",
   "execution_count": 16,
   "id": "210a9442",
   "metadata": {
    "execution": {
     "iopub.execute_input": "2023-10-20T07:16:10.431823Z",
     "iopub.status.busy": "2023-10-20T07:16:10.431317Z",
     "iopub.status.idle": "2023-10-20T07:16:10.435641Z",
     "shell.execute_reply": "2023-10-20T07:16:10.434651Z"
    }
   },
   "outputs": [],
   "source": [
    "import copy"
   ]
  },
  {
   "cell_type": "markdown",
   "id": "5a736274",
   "metadata": {},
   "source": [
    "### Deep Copy of TreeValue"
   ]
  },
  {
   "cell_type": "code",
   "execution_count": 17,
   "id": "f9bcadd6",
   "metadata": {
    "execution": {
     "iopub.execute_input": "2023-10-20T07:16:10.440186Z",
     "iopub.status.busy": "2023-10-20T07:16:10.439336Z",
     "iopub.status.idle": "2023-10-20T07:16:13.111774Z",
     "shell.execute_reply": "2023-10-20T07:16:13.110873Z"
    }
   },
   "outputs": [
    {
     "name": "stdout",
     "output_type": "stream",
     "text": [
      "326 µs ± 20.4 µs per loop (mean ± std. dev. of 7 runs, 1,000 loops each)\n"
     ]
    }
   ],
   "source": [
    "t3 = FastTreeValue(_TREE_DATA_3)\n",
    "%timeit copy.deepcopy(t3)"
   ]
  },
  {
   "cell_type": "markdown",
   "id": "bf8be7ea",
   "metadata": {},
   "source": [
    "### Deep Copy of Tianshou Batch"
   ]
  },
  {
   "cell_type": "code",
   "execution_count": 18,
   "id": "91998e6f",
   "metadata": {
    "execution": {
     "iopub.execute_input": "2023-10-20T07:16:13.116109Z",
     "iopub.status.busy": "2023-10-20T07:16:13.115618Z",
     "iopub.status.idle": "2023-10-20T07:16:15.792090Z",
     "shell.execute_reply": "2023-10-20T07:16:15.791201Z"
    }
   },
   "outputs": [
    {
     "name": "stdout",
     "output_type": "stream",
     "text": [
      "327 µs ± 23.4 µs per loop (mean ± std. dev. of 7 runs, 1,000 loops each)\n"
     ]
    }
   ],
   "source": [
    "b3 = Batch(**_TREE_DATA_3)\n",
    "%timeit copy.deepcopy(b3)"
   ]
  },
  {
   "cell_type": "markdown",
   "id": "223162fb",
   "metadata": {},
   "source": [
    "## Stack, Concat and Split Operation"
   ]
  },
  {
   "cell_type": "markdown",
   "id": "85fa4a73",
   "metadata": {},
   "source": [
    "### Performance of TreeValue"
   ]
  },
  {
   "cell_type": "code",
   "execution_count": 19,
   "id": "a0c2b697",
   "metadata": {
    "execution": {
     "iopub.execute_input": "2023-10-20T07:16:15.796405Z",
     "iopub.status.busy": "2023-10-20T07:16:15.795921Z",
     "iopub.status.idle": "2023-10-20T07:16:15.801214Z",
     "shell.execute_reply": "2023-10-20T07:16:15.800321Z"
    }
   },
   "outputs": [],
   "source": [
    "trees = [FastTreeValue(_TREE_DATA_2) for _ in range(8)]"
   ]
  },
  {
   "cell_type": "code",
   "execution_count": 20,
   "id": "017ea5a5",
   "metadata": {
    "execution": {
     "iopub.execute_input": "2023-10-20T07:16:15.805604Z",
     "iopub.status.busy": "2023-10-20T07:16:15.804536Z",
     "iopub.status.idle": "2023-10-20T07:16:15.816428Z",
     "shell.execute_reply": "2023-10-20T07:16:15.815458Z"
    }
   },
   "outputs": [
    {
     "data": {
      "text/plain": [
       "<FastTreeValue 0x7fd21a676100>\n",
       "├── 'a' --> tensor([[[-0.7084,  1.0229, -0.1265],\n",
       "│                    [-1.0901,  0.1787,  0.6028]],\n",
       "│           \n",
       "│                   [[-0.7084,  1.0229, -0.1265],\n",
       "│                    [-1.0901,  0.1787,  0.6028]],\n",
       "│           \n",
       "│                   [[-0.7084,  1.0229, -0.1265],\n",
       "│                    [-1.0901,  0.1787,  0.6028]],\n",
       "│           \n",
       "│                   [[-0.7084,  1.0229, -0.1265],\n",
       "│                    [-1.0901,  0.1787,  0.6028]],\n",
       "│           \n",
       "│                   [[-0.7084,  1.0229, -0.1265],\n",
       "│                    [-1.0901,  0.1787,  0.6028]],\n",
       "│           \n",
       "│                   [[-0.7084,  1.0229, -0.1265],\n",
       "│                    [-1.0901,  0.1787,  0.6028]],\n",
       "│           \n",
       "│                   [[-0.7084,  1.0229, -0.1265],\n",
       "│                    [-1.0901,  0.1787,  0.6028]],\n",
       "│           \n",
       "│                   [[-0.7084,  1.0229, -0.1265],\n",
       "│                    [-1.0901,  0.1787,  0.6028]]])\n",
       "└── 'x' --> <FastTreeValue 0x7fd2111bff40>\n",
       "    └── 'c' --> tensor([[[ 0.6395, -0.1356, -0.3477,  0.5625],\n",
       "                         [ 0.4505,  0.1472,  0.9763,  0.0269],\n",
       "                         [-0.8810,  0.9881, -0.7776,  0.7319]],\n",
       "                \n",
       "                        [[ 0.6395, -0.1356, -0.3477,  0.5625],\n",
       "                         [ 0.4505,  0.1472,  0.9763,  0.0269],\n",
       "                         [-0.8810,  0.9881, -0.7776,  0.7319]],\n",
       "                \n",
       "                        [[ 0.6395, -0.1356, -0.3477,  0.5625],\n",
       "                         [ 0.4505,  0.1472,  0.9763,  0.0269],\n",
       "                         [-0.8810,  0.9881, -0.7776,  0.7319]],\n",
       "                \n",
       "                        [[ 0.6395, -0.1356, -0.3477,  0.5625],\n",
       "                         [ 0.4505,  0.1472,  0.9763,  0.0269],\n",
       "                         [-0.8810,  0.9881, -0.7776,  0.7319]],\n",
       "                \n",
       "                        [[ 0.6395, -0.1356, -0.3477,  0.5625],\n",
       "                         [ 0.4505,  0.1472,  0.9763,  0.0269],\n",
       "                         [-0.8810,  0.9881, -0.7776,  0.7319]],\n",
       "                \n",
       "                        [[ 0.6395, -0.1356, -0.3477,  0.5625],\n",
       "                         [ 0.4505,  0.1472,  0.9763,  0.0269],\n",
       "                         [-0.8810,  0.9881, -0.7776,  0.7319]],\n",
       "                \n",
       "                        [[ 0.6395, -0.1356, -0.3477,  0.5625],\n",
       "                         [ 0.4505,  0.1472,  0.9763,  0.0269],\n",
       "                         [-0.8810,  0.9881, -0.7776,  0.7319]],\n",
       "                \n",
       "                        [[ 0.6395, -0.1356, -0.3477,  0.5625],\n",
       "                         [ 0.4505,  0.1472,  0.9763,  0.0269],\n",
       "                         [-0.8810,  0.9881, -0.7776,  0.7319]]])"
      ]
     },
     "execution_count": 20,
     "metadata": {},
     "output_type": "execute_result"
    }
   ],
   "source": [
    "t_stack = FastTreeValue.func(subside=True)(torch.stack)\n",
    "\n",
    "t_stack(trees)"
   ]
  },
  {
   "cell_type": "code",
   "execution_count": 21,
   "id": "f8b3f415",
   "metadata": {
    "execution": {
     "iopub.execute_input": "2023-10-20T07:16:15.820587Z",
     "iopub.status.busy": "2023-10-20T07:16:15.820284Z",
     "iopub.status.idle": "2023-10-20T07:16:19.948690Z",
     "shell.execute_reply": "2023-10-20T07:16:19.947485Z"
    }
   },
   "outputs": [
    {
     "name": "stdout",
     "output_type": "stream",
     "text": [
      "50.7 µs ± 1.18 µs per loop (mean ± std. dev. of 7 runs, 10,000 loops each)\n"
     ]
    }
   ],
   "source": [
    "%timeit t_stack(trees)"
   ]
  },
  {
   "cell_type": "code",
   "execution_count": 22,
   "id": "94b56771",
   "metadata": {
    "execution": {
     "iopub.execute_input": "2023-10-20T07:16:19.952686Z",
     "iopub.status.busy": "2023-10-20T07:16:19.952223Z",
     "iopub.status.idle": "2023-10-20T07:16:19.962760Z",
     "shell.execute_reply": "2023-10-20T07:16:19.961934Z"
    }
   },
   "outputs": [
    {
     "data": {
      "text/plain": [
       "<FastTreeValue 0x7fd2f016ee50>\n",
       "├── 'a' --> tensor([[-0.7084,  1.0229, -0.1265],\n",
       "│                   [-1.0901,  0.1787,  0.6028],\n",
       "│                   [-0.7084,  1.0229, -0.1265],\n",
       "│                   [-1.0901,  0.1787,  0.6028],\n",
       "│                   [-0.7084,  1.0229, -0.1265],\n",
       "│                   [-1.0901,  0.1787,  0.6028],\n",
       "│                   [-0.7084,  1.0229, -0.1265],\n",
       "│                   [-1.0901,  0.1787,  0.6028],\n",
       "│                   [-0.7084,  1.0229, -0.1265],\n",
       "│                   [-1.0901,  0.1787,  0.6028],\n",
       "│                   [-0.7084,  1.0229, -0.1265],\n",
       "│                   [-1.0901,  0.1787,  0.6028],\n",
       "│                   [-0.7084,  1.0229, -0.1265],\n",
       "│                   [-1.0901,  0.1787,  0.6028],\n",
       "│                   [-0.7084,  1.0229, -0.1265],\n",
       "│                   [-1.0901,  0.1787,  0.6028]])\n",
       "└── 'x' --> <FastTreeValue 0x7fd21a666ca0>\n",
       "    └── 'c' --> tensor([[ 0.6395, -0.1356, -0.3477,  0.5625],\n",
       "                        [ 0.4505,  0.1472,  0.9763,  0.0269],\n",
       "                        [-0.8810,  0.9881, -0.7776,  0.7319],\n",
       "                        [ 0.6395, -0.1356, -0.3477,  0.5625],\n",
       "                        [ 0.4505,  0.1472,  0.9763,  0.0269],\n",
       "                        [-0.8810,  0.9881, -0.7776,  0.7319],\n",
       "                        [ 0.6395, -0.1356, -0.3477,  0.5625],\n",
       "                        [ 0.4505,  0.1472,  0.9763,  0.0269],\n",
       "                        [-0.8810,  0.9881, -0.7776,  0.7319],\n",
       "                        [ 0.6395, -0.1356, -0.3477,  0.5625],\n",
       "                        [ 0.4505,  0.1472,  0.9763,  0.0269],\n",
       "                        [-0.8810,  0.9881, -0.7776,  0.7319],\n",
       "                        [ 0.6395, -0.1356, -0.3477,  0.5625],\n",
       "                        [ 0.4505,  0.1472,  0.9763,  0.0269],\n",
       "                        [-0.8810,  0.9881, -0.7776,  0.7319],\n",
       "                        [ 0.6395, -0.1356, -0.3477,  0.5625],\n",
       "                        [ 0.4505,  0.1472,  0.9763,  0.0269],\n",
       "                        [-0.8810,  0.9881, -0.7776,  0.7319],\n",
       "                        [ 0.6395, -0.1356, -0.3477,  0.5625],\n",
       "                        [ 0.4505,  0.1472,  0.9763,  0.0269],\n",
       "                        [-0.8810,  0.9881, -0.7776,  0.7319],\n",
       "                        [ 0.6395, -0.1356, -0.3477,  0.5625],\n",
       "                        [ 0.4505,  0.1472,  0.9763,  0.0269],\n",
       "                        [-0.8810,  0.9881, -0.7776,  0.7319]])"
      ]
     },
     "execution_count": 22,
     "metadata": {},
     "output_type": "execute_result"
    }
   ],
   "source": [
    "t_cat = FastTreeValue.func(subside=True)(torch.cat)\n",
    "\n",
    "t_cat(trees)"
   ]
  },
  {
   "cell_type": "code",
   "execution_count": 23,
   "id": "5e9c06a6",
   "metadata": {
    "execution": {
     "iopub.execute_input": "2023-10-20T07:16:19.966329Z",
     "iopub.status.busy": "2023-10-20T07:16:19.966030Z",
     "iopub.status.idle": "2023-10-20T07:16:23.874190Z",
     "shell.execute_reply": "2023-10-20T07:16:23.873193Z"
    }
   },
   "outputs": [
    {
     "name": "stdout",
     "output_type": "stream",
     "text": [
      "47.9 µs ± 954 ns per loop (mean ± std. dev. of 7 runs, 10,000 loops each)\n"
     ]
    }
   ],
   "source": [
    "%timeit t_cat(trees)"
   ]
  },
  {
   "cell_type": "code",
   "execution_count": 24,
   "id": "a3ab5c8f",
   "metadata": {
    "execution": {
     "iopub.execute_input": "2023-10-20T07:16:23.879493Z",
     "iopub.status.busy": "2023-10-20T07:16:23.878869Z",
     "iopub.status.idle": "2023-10-20T07:16:32.234957Z",
     "shell.execute_reply": "2023-10-20T07:16:32.233954Z"
    }
   },
   "outputs": [
    {
     "name": "stdout",
     "output_type": "stream",
     "text": [
      "102 µs ± 1.92 µs per loop (mean ± std. dev. of 7 runs, 10,000 loops each)\n"
     ]
    }
   ],
   "source": [
    "t_split = FastTreeValue.func(rise=True)(torch.split)\n",
    "tree = FastTreeValue({\n",
    "    'obs': torch.randn(8, 4, 84, 84),\n",
    "    'action': torch.randint(0, 6, size=(8, 1,)),\n",
    "    'reward': torch.rand(8, 1),\n",
    "})\n",
    "\n",
    "%timeit t_split(tree, 1)"
   ]
  },
  {
   "cell_type": "markdown",
   "id": "31c3ec0b",
   "metadata": {},
   "source": [
    "### Performance of Tianshou Batch"
   ]
  },
  {
   "cell_type": "code",
   "execution_count": 25,
   "id": "9ead828a",
   "metadata": {
    "execution": {
     "iopub.execute_input": "2023-10-20T07:16:32.239556Z",
     "iopub.status.busy": "2023-10-20T07:16:32.238754Z",
     "iopub.status.idle": "2023-10-20T07:16:32.250095Z",
     "shell.execute_reply": "2023-10-20T07:16:32.249042Z"
    }
   },
   "outputs": [
    {
     "data": {
      "text/plain": [
       "Batch(\n",
       "    a: tensor([[[-0.7084,  1.0229, -0.1265],\n",
       "                [-1.0901,  0.1787,  0.6028]],\n",
       "       \n",
       "               [[-0.7084,  1.0229, -0.1265],\n",
       "                [-1.0901,  0.1787,  0.6028]],\n",
       "       \n",
       "               [[-0.7084,  1.0229, -0.1265],\n",
       "                [-1.0901,  0.1787,  0.6028]],\n",
       "       \n",
       "               [[-0.7084,  1.0229, -0.1265],\n",
       "                [-1.0901,  0.1787,  0.6028]],\n",
       "       \n",
       "               [[-0.7084,  1.0229, -0.1265],\n",
       "                [-1.0901,  0.1787,  0.6028]],\n",
       "       \n",
       "               [[-0.7084,  1.0229, -0.1265],\n",
       "                [-1.0901,  0.1787,  0.6028]],\n",
       "       \n",
       "               [[-0.7084,  1.0229, -0.1265],\n",
       "                [-1.0901,  0.1787,  0.6028]],\n",
       "       \n",
       "               [[-0.7084,  1.0229, -0.1265],\n",
       "                [-1.0901,  0.1787,  0.6028]]]),\n",
       "    x: Batch(\n",
       "           c: tensor([[[ 0.6395, -0.1356, -0.3477,  0.5625],\n",
       "                       [ 0.4505,  0.1472,  0.9763,  0.0269],\n",
       "                       [-0.8810,  0.9881, -0.7776,  0.7319]],\n",
       "              \n",
       "                      [[ 0.6395, -0.1356, -0.3477,  0.5625],\n",
       "                       [ 0.4505,  0.1472,  0.9763,  0.0269],\n",
       "                       [-0.8810,  0.9881, -0.7776,  0.7319]],\n",
       "              \n",
       "                      [[ 0.6395, -0.1356, -0.3477,  0.5625],\n",
       "                       [ 0.4505,  0.1472,  0.9763,  0.0269],\n",
       "                       [-0.8810,  0.9881, -0.7776,  0.7319]],\n",
       "              \n",
       "                      [[ 0.6395, -0.1356, -0.3477,  0.5625],\n",
       "                       [ 0.4505,  0.1472,  0.9763,  0.0269],\n",
       "                       [-0.8810,  0.9881, -0.7776,  0.7319]],\n",
       "              \n",
       "                      [[ 0.6395, -0.1356, -0.3477,  0.5625],\n",
       "                       [ 0.4505,  0.1472,  0.9763,  0.0269],\n",
       "                       [-0.8810,  0.9881, -0.7776,  0.7319]],\n",
       "              \n",
       "                      [[ 0.6395, -0.1356, -0.3477,  0.5625],\n",
       "                       [ 0.4505,  0.1472,  0.9763,  0.0269],\n",
       "                       [-0.8810,  0.9881, -0.7776,  0.7319]],\n",
       "              \n",
       "                      [[ 0.6395, -0.1356, -0.3477,  0.5625],\n",
       "                       [ 0.4505,  0.1472,  0.9763,  0.0269],\n",
       "                       [-0.8810,  0.9881, -0.7776,  0.7319]],\n",
       "              \n",
       "                      [[ 0.6395, -0.1356, -0.3477,  0.5625],\n",
       "                       [ 0.4505,  0.1472,  0.9763,  0.0269],\n",
       "                       [-0.8810,  0.9881, -0.7776,  0.7319]]]),\n",
       "       ),\n",
       ")"
      ]
     },
     "execution_count": 25,
     "metadata": {},
     "output_type": "execute_result"
    }
   ],
   "source": [
    "batches = [Batch(**_TREE_DATA_2) for _ in range(8)]\n",
    "\n",
    "Batch.stack(batches)"
   ]
  },
  {
   "cell_type": "code",
   "execution_count": 26,
   "id": "ec9037a3",
   "metadata": {
    "execution": {
     "iopub.execute_input": "2023-10-20T07:16:32.254151Z",
     "iopub.status.busy": "2023-10-20T07:16:32.253709Z",
     "iopub.status.idle": "2023-10-20T07:16:41.594223Z",
     "shell.execute_reply": "2023-10-20T07:16:41.593220Z"
    }
   },
   "outputs": [
    {
     "name": "stdout",
     "output_type": "stream",
     "text": [
      "115 µs ± 2.39 µs per loop (mean ± std. dev. of 7 runs, 10,000 loops each)\n"
     ]
    }
   ],
   "source": [
    "%timeit Batch.stack(batches)"
   ]
  },
  {
   "cell_type": "code",
   "execution_count": 27,
   "id": "cb8ab77e",
   "metadata": {
    "execution": {
     "iopub.execute_input": "2023-10-20T07:16:41.598381Z",
     "iopub.status.busy": "2023-10-20T07:16:41.598085Z",
     "iopub.status.idle": "2023-10-20T07:16:41.610601Z",
     "shell.execute_reply": "2023-10-20T07:16:41.609413Z"
    }
   },
   "outputs": [
    {
     "data": {
      "text/plain": [
       "Batch(\n",
       "    a: tensor([[-0.7084,  1.0229, -0.1265],\n",
       "               [-1.0901,  0.1787,  0.6028],\n",
       "               [-0.7084,  1.0229, -0.1265],\n",
       "               [-1.0901,  0.1787,  0.6028],\n",
       "               [-0.7084,  1.0229, -0.1265],\n",
       "               [-1.0901,  0.1787,  0.6028],\n",
       "               [-0.7084,  1.0229, -0.1265],\n",
       "               [-1.0901,  0.1787,  0.6028],\n",
       "               [-0.7084,  1.0229, -0.1265],\n",
       "               [-1.0901,  0.1787,  0.6028],\n",
       "               [-0.7084,  1.0229, -0.1265],\n",
       "               [-1.0901,  0.1787,  0.6028],\n",
       "               [-0.7084,  1.0229, -0.1265],\n",
       "               [-1.0901,  0.1787,  0.6028],\n",
       "               [-0.7084,  1.0229, -0.1265],\n",
       "               [-1.0901,  0.1787,  0.6028]]),\n",
       "    x: Batch(\n",
       "           c: tensor([[ 0.6395, -0.1356, -0.3477,  0.5625],\n",
       "                      [ 0.4505,  0.1472,  0.9763,  0.0269],\n",
       "                      [-0.8810,  0.9881, -0.7776,  0.7319],\n",
       "                      [ 0.6395, -0.1356, -0.3477,  0.5625],\n",
       "                      [ 0.4505,  0.1472,  0.9763,  0.0269],\n",
       "                      [-0.8810,  0.9881, -0.7776,  0.7319],\n",
       "                      [ 0.6395, -0.1356, -0.3477,  0.5625],\n",
       "                      [ 0.4505,  0.1472,  0.9763,  0.0269],\n",
       "                      [-0.8810,  0.9881, -0.7776,  0.7319],\n",
       "                      [ 0.6395, -0.1356, -0.3477,  0.5625],\n",
       "                      [ 0.4505,  0.1472,  0.9763,  0.0269],\n",
       "                      [-0.8810,  0.9881, -0.7776,  0.7319],\n",
       "                      [ 0.6395, -0.1356, -0.3477,  0.5625],\n",
       "                      [ 0.4505,  0.1472,  0.9763,  0.0269],\n",
       "                      [-0.8810,  0.9881, -0.7776,  0.7319],\n",
       "                      [ 0.6395, -0.1356, -0.3477,  0.5625],\n",
       "                      [ 0.4505,  0.1472,  0.9763,  0.0269],\n",
       "                      [-0.8810,  0.9881, -0.7776,  0.7319],\n",
       "                      [ 0.6395, -0.1356, -0.3477,  0.5625],\n",
       "                      [ 0.4505,  0.1472,  0.9763,  0.0269],\n",
       "                      [-0.8810,  0.9881, -0.7776,  0.7319],\n",
       "                      [ 0.6395, -0.1356, -0.3477,  0.5625],\n",
       "                      [ 0.4505,  0.1472,  0.9763,  0.0269],\n",
       "                      [-0.8810,  0.9881, -0.7776,  0.7319]]),\n",
       "       ),\n",
       ")"
      ]
     },
     "execution_count": 27,
     "metadata": {},
     "output_type": "execute_result"
    }
   ],
   "source": [
    "Batch.cat(batches)"
   ]
  },
  {
   "cell_type": "code",
   "execution_count": 28,
   "id": "18dfb045",
   "metadata": {
    "execution": {
     "iopub.execute_input": "2023-10-20T07:16:41.614820Z",
     "iopub.status.busy": "2023-10-20T07:16:41.614467Z",
     "iopub.status.idle": "2023-10-20T07:16:43.424507Z",
     "shell.execute_reply": "2023-10-20T07:16:43.423478Z"
    }
   },
   "outputs": [
    {
     "name": "stdout",
     "output_type": "stream",
     "text": [
      "224 µs ± 8.25 µs per loop (mean ± std. dev. of 7 runs, 1,000 loops each)\n"
     ]
    }
   ],
   "source": [
    "%timeit Batch.cat(batches)"
   ]
  },
  {
   "cell_type": "code",
   "execution_count": 29,
   "id": "c6688e51",
   "metadata": {
    "execution": {
     "iopub.execute_input": "2023-10-20T07:16:43.428967Z",
     "iopub.status.busy": "2023-10-20T07:16:43.428319Z",
     "iopub.status.idle": "2023-10-20T07:16:49.497786Z",
     "shell.execute_reply": "2023-10-20T07:16:49.496756Z"
    }
   },
   "outputs": [
    {
     "name": "stdout",
     "output_type": "stream",
     "text": [
      "746 µs ± 44.7 µs per loop (mean ± std. dev. of 7 runs, 1,000 loops each)\n"
     ]
    }
   ],
   "source": [
    "batch = Batch({\n",
    "    'obs': torch.randn(8, 4, 84, 84),\n",
    "    'action': torch.randint(0, 6, size=(8, 1,)),\n",
    "    'reward': torch.rand(8, 1)}\n",
    ")\n",
    "\n",
    "%timeit list(Batch.split(batch, 1, shuffle=False, merge_last=True))"
   ]
  },
  {
   "cell_type": "code",
   "execution_count": null,
   "id": "2539fbd9",
   "metadata": {},
   "outputs": [],
   "source": []
  }
 ],
 "metadata": {
  "kernelspec": {
   "display_name": "Python 3 (ipykernel)",
   "language": "python",
   "name": "python3"
  },
  "language_info": {
   "codemirror_mode": {
    "name": "ipython",
    "version": 3
   },
   "file_extension": ".py",
   "mimetype": "text/x-python",
   "name": "python",
   "nbconvert_exporter": "python",
   "pygments_lexer": "ipython3",
   "version": "3.8.18"
  }
 },
 "nbformat": 4,
 "nbformat_minor": 5
}
