{
 "cells": [
  {
   "cell_type": "markdown",
   "id": "9d39d946",
   "metadata": {},
   "source": [
    "# Comparison Between TreeValue and Tianshou Batch"
   ]
  },
  {
   "cell_type": "markdown",
   "id": "3c6db2d4",
   "metadata": {},
   "source": [
    "In this section, we will take a look at the feature and performance of the [Tianshou Batch](https://github.com/thu-ml/tianshou) library, which is developed by Tsinghua Machine Learning Group."
   ]
  },
  {
   "cell_type": "markdown",
   "id": "069361b0",
   "metadata": {},
   "source": [
    "Before starting the comparison, let us define some thing."
   ]
  },
  {
   "cell_type": "code",
   "execution_count": 1,
   "id": "06fc8d26",
   "metadata": {
    "execution": {
     "iopub.execute_input": "2023-03-15T12:50:10.622248Z",
     "iopub.status.busy": "2023-03-15T12:50:10.621574Z",
     "iopub.status.idle": "2023-03-15T12:50:11.564841Z",
     "shell.execute_reply": "2023-03-15T12:50:11.564121Z"
    }
   },
   "outputs": [
    {
     "name": "stderr",
     "output_type": "stream",
     "text": [
      "/opt/hostedtoolcache/Python/3.8.16/x64/lib/python3.8/site-packages/tqdm/auto.py:21: TqdmWarning: IProgress not found. Please update jupyter and ipywidgets. See https://ipywidgets.readthedocs.io/en/stable/user_install.html\n",
      "  from .autonotebook import tqdm as notebook_tqdm\n"
     ]
    }
   ],
   "source": [
    "import torch \n",
    "\n",
    "_TREE_DATA_1 = {'a': 1, 'b': 2, 'x': {'c': 3, 'd': 4}}\n",
    "_TREE_DATA_2 = {\n",
    "    'a': torch.randn(2, 3), \n",
    "    'x': {\n",
    "        'c': torch.randn(3, 4)\n",
    "    },\n",
    "}\n",
    "_TREE_DATA_3 = {\n",
    "    'obs': torch.randn(4, 84, 84),\n",
    "    'action': torch.randint(0, 6, size=(1,)),\n",
    "    'reward': torch.rand(1),\n",
    "}"
   ]
  },
  {
   "cell_type": "markdown",
   "id": "83461b25",
   "metadata": {},
   "source": [
    "## Read and Write Operation"
   ]
  },
  {
   "cell_type": "markdown",
   "id": "067b3f73",
   "metadata": {},
   "source": [
    "Reading and writing are the two most common operations in the tree data structure based on the data model (TreeValue and Tianshou Batch both belong to this type), so this section will compare the reading and writing performance of these two libraries."
   ]
  },
  {
   "cell_type": "markdown",
   "id": "5d09a5b7",
   "metadata": {},
   "source": [
    "### TreeValue's Get and Set"
   ]
  },
  {
   "cell_type": "code",
   "execution_count": 2,
   "id": "9519c4bb",
   "metadata": {
    "execution": {
     "iopub.execute_input": "2023-03-15T12:50:11.568589Z",
     "iopub.status.busy": "2023-03-15T12:50:11.568116Z",
     "iopub.status.idle": "2023-03-15T12:50:11.601716Z",
     "shell.execute_reply": "2023-03-15T12:50:11.601044Z"
    }
   },
   "outputs": [],
   "source": [
    "from treevalue import FastTreeValue\n",
    "\n",
    "t = FastTreeValue(_TREE_DATA_2)"
   ]
  },
  {
   "cell_type": "code",
   "execution_count": 3,
   "id": "11c37677",
   "metadata": {
    "execution": {
     "iopub.execute_input": "2023-03-15T12:50:11.604899Z",
     "iopub.status.busy": "2023-03-15T12:50:11.604519Z",
     "iopub.status.idle": "2023-03-15T12:50:11.614113Z",
     "shell.execute_reply": "2023-03-15T12:50:11.613501Z"
    }
   },
   "outputs": [
    {
     "data": {
      "text/plain": [
       "<FastTreeValue 0x7fa80076a310>\n",
       "├── 'a' --> tensor([[-1.5325, -0.6184, -0.0688],\n",
       "│                   [ 0.6734, -0.1891,  1.4454]])\n",
       "└── 'x' --> <FastTreeValue 0x7fa80076a9d0>\n",
       "    └── 'c' --> tensor([[-0.9273, -0.2462, -0.0223,  0.5596],\n",
       "                        [-2.1601, -1.2822, -1.1878, -1.8289],\n",
       "                        [-0.3527,  0.2015,  0.6889,  0.7537]])"
      ]
     },
     "execution_count": 3,
     "metadata": {},
     "output_type": "execute_result"
    }
   ],
   "source": [
    "t"
   ]
  },
  {
   "cell_type": "code",
   "execution_count": 4,
   "id": "fd70b0b9",
   "metadata": {
    "execution": {
     "iopub.execute_input": "2023-03-15T12:50:11.617243Z",
     "iopub.status.busy": "2023-03-15T12:50:11.616687Z",
     "iopub.status.idle": "2023-03-15T12:50:11.622119Z",
     "shell.execute_reply": "2023-03-15T12:50:11.621510Z"
    }
   },
   "outputs": [
    {
     "data": {
      "text/plain": [
       "tensor([[-1.5325, -0.6184, -0.0688],\n",
       "        [ 0.6734, -0.1891,  1.4454]])"
      ]
     },
     "execution_count": 4,
     "metadata": {},
     "output_type": "execute_result"
    }
   ],
   "source": [
    "t.a"
   ]
  },
  {
   "cell_type": "code",
   "execution_count": 5,
   "id": "c18197bd",
   "metadata": {
    "execution": {
     "iopub.execute_input": "2023-03-15T12:50:11.624891Z",
     "iopub.status.busy": "2023-03-15T12:50:11.624546Z",
     "iopub.status.idle": "2023-03-15T12:50:16.943971Z",
     "shell.execute_reply": "2023-03-15T12:50:16.943125Z"
    }
   },
   "outputs": [
    {
     "name": "stdout",
     "output_type": "stream",
     "text": [
      "65.5 ns ± 0.0612 ns per loop (mean ± std. dev. of 7 runs, 10,000,000 loops each)\n"
     ]
    }
   ],
   "source": [
    "%timeit t.a"
   ]
  },
  {
   "cell_type": "code",
   "execution_count": 6,
   "id": "bd52f867",
   "metadata": {
    "execution": {
     "iopub.execute_input": "2023-03-15T12:50:16.947540Z",
     "iopub.status.busy": "2023-03-15T12:50:16.946931Z",
     "iopub.status.idle": "2023-03-15T12:50:16.954201Z",
     "shell.execute_reply": "2023-03-15T12:50:16.953563Z"
    }
   },
   "outputs": [
    {
     "data": {
      "text/plain": [
       "<FastTreeValue 0x7fa80076a310>\n",
       "├── 'a' --> tensor([[-0.6534,  0.3971, -0.1453],\n",
       "│                   [-0.9380, -2.2451, -0.4365]])\n",
       "└── 'x' --> <FastTreeValue 0x7fa80076a9d0>\n",
       "    └── 'c' --> tensor([[-0.9273, -0.2462, -0.0223,  0.5596],\n",
       "                        [-2.1601, -1.2822, -1.1878, -1.8289],\n",
       "                        [-0.3527,  0.2015,  0.6889,  0.7537]])"
      ]
     },
     "execution_count": 6,
     "metadata": {},
     "output_type": "execute_result"
    }
   ],
   "source": [
    "new_value = torch.randn(2, 3)\n",
    "t.a = new_value\n",
    "\n",
    "t"
   ]
  },
  {
   "cell_type": "code",
   "execution_count": 7,
   "id": "bbe04d1c",
   "metadata": {
    "execution": {
     "iopub.execute_input": "2023-03-15T12:50:16.957310Z",
     "iopub.status.busy": "2023-03-15T12:50:16.956727Z",
     "iopub.status.idle": "2023-03-15T12:50:22.466608Z",
     "shell.execute_reply": "2023-03-15T12:50:22.465669Z"
    }
   },
   "outputs": [
    {
     "name": "stdout",
     "output_type": "stream",
     "text": [
      "67.8 ns ± 0.126 ns per loop (mean ± std. dev. of 7 runs, 10,000,000 loops each)\n"
     ]
    }
   ],
   "source": [
    "%timeit t.a = new_value"
   ]
  },
  {
   "cell_type": "markdown",
   "id": "48c49731",
   "metadata": {},
   "source": [
    "### Tianshou Batch's Get and Set"
   ]
  },
  {
   "cell_type": "code",
   "execution_count": 8,
   "id": "f1bb14c1",
   "metadata": {
    "execution": {
     "iopub.execute_input": "2023-03-15T12:50:22.470103Z",
     "iopub.status.busy": "2023-03-15T12:50:22.469599Z",
     "iopub.status.idle": "2023-03-15T12:50:23.074868Z",
     "shell.execute_reply": "2023-03-15T12:50:23.073697Z"
    }
   },
   "outputs": [],
   "source": [
    "from tianshou.data import Batch\n",
    "\n",
    "b = Batch(**_TREE_DATA_2)"
   ]
  },
  {
   "cell_type": "code",
   "execution_count": 9,
   "id": "cb0777c3",
   "metadata": {
    "execution": {
     "iopub.execute_input": "2023-03-15T12:50:23.078669Z",
     "iopub.status.busy": "2023-03-15T12:50:23.078102Z",
     "iopub.status.idle": "2023-03-15T12:50:23.085937Z",
     "shell.execute_reply": "2023-03-15T12:50:23.084715Z"
    }
   },
   "outputs": [
    {
     "data": {
      "text/plain": [
       "Batch(\n",
       "    a: tensor([[-1.5325, -0.6184, -0.0688],\n",
       "               [ 0.6734, -0.1891,  1.4454]]),\n",
       "    x: Batch(\n",
       "           c: tensor([[-0.9273, -0.2462, -0.0223,  0.5596],\n",
       "                      [-2.1601, -1.2822, -1.1878, -1.8289],\n",
       "                      [-0.3527,  0.2015,  0.6889,  0.7537]]),\n",
       "       ),\n",
       ")"
      ]
     },
     "execution_count": 9,
     "metadata": {},
     "output_type": "execute_result"
    }
   ],
   "source": [
    "b"
   ]
  },
  {
   "cell_type": "code",
   "execution_count": 10,
   "id": "43ef8ea3",
   "metadata": {
    "execution": {
     "iopub.execute_input": "2023-03-15T12:50:23.088929Z",
     "iopub.status.busy": "2023-03-15T12:50:23.088578Z",
     "iopub.status.idle": "2023-03-15T12:50:23.093259Z",
     "shell.execute_reply": "2023-03-15T12:50:23.092590Z"
    }
   },
   "outputs": [
    {
     "data": {
      "text/plain": [
       "tensor([[-1.5325, -0.6184, -0.0688],\n",
       "        [ 0.6734, -0.1891,  1.4454]])"
      ]
     },
     "execution_count": 10,
     "metadata": {},
     "output_type": "execute_result"
    }
   ],
   "source": [
    "b.a"
   ]
  },
  {
   "cell_type": "code",
   "execution_count": 11,
   "id": "b785ab72",
   "metadata": {
    "execution": {
     "iopub.execute_input": "2023-03-15T12:50:23.095830Z",
     "iopub.status.busy": "2023-03-15T12:50:23.095498Z",
     "iopub.status.idle": "2023-03-15T12:50:27.918544Z",
     "shell.execute_reply": "2023-03-15T12:50:27.917680Z"
    }
   },
   "outputs": [
    {
     "name": "stdout",
     "output_type": "stream",
     "text": [
      "59.4 ns ± 0.118 ns per loop (mean ± std. dev. of 7 runs, 10,000,000 loops each)\n"
     ]
    }
   ],
   "source": [
    "%timeit b.a"
   ]
  },
  {
   "cell_type": "code",
   "execution_count": 12,
   "id": "ad54dc69",
   "metadata": {
    "execution": {
     "iopub.execute_input": "2023-03-15T12:50:27.921934Z",
     "iopub.status.busy": "2023-03-15T12:50:27.921409Z",
     "iopub.status.idle": "2023-03-15T12:50:27.928479Z",
     "shell.execute_reply": "2023-03-15T12:50:27.927866Z"
    }
   },
   "outputs": [
    {
     "data": {
      "text/plain": [
       "Batch(\n",
       "    a: tensor([[ 0.8661, -0.4200,  0.7819],\n",
       "               [ 0.4289, -0.1662,  1.1953]]),\n",
       "    x: Batch(\n",
       "           c: tensor([[-0.9273, -0.2462, -0.0223,  0.5596],\n",
       "                      [-2.1601, -1.2822, -1.1878, -1.8289],\n",
       "                      [-0.3527,  0.2015,  0.6889,  0.7537]]),\n",
       "       ),\n",
       ")"
      ]
     },
     "execution_count": 12,
     "metadata": {},
     "output_type": "execute_result"
    }
   ],
   "source": [
    "new_value = torch.randn(2, 3)\n",
    "b.a = new_value\n",
    "\n",
    "b"
   ]
  },
  {
   "cell_type": "code",
   "execution_count": 13,
   "id": "29b1d0bf",
   "metadata": {
    "execution": {
     "iopub.execute_input": "2023-03-15T12:50:27.931259Z",
     "iopub.status.busy": "2023-03-15T12:50:27.930719Z",
     "iopub.status.idle": "2023-03-15T12:50:31.908876Z",
     "shell.execute_reply": "2023-03-15T12:50:31.908022Z"
    }
   },
   "outputs": [
    {
     "name": "stdout",
     "output_type": "stream",
     "text": [
      "490 ns ± 0.118 ns per loop (mean ± std. dev. of 7 runs, 1,000,000 loops each)\n"
     ]
    }
   ],
   "source": [
    "%timeit b.a = new_value"
   ]
  },
  {
   "cell_type": "markdown",
   "id": "b61ad1d0",
   "metadata": {},
   "source": [
    "## Initialization"
   ]
  },
  {
   "cell_type": "markdown",
   "id": "d70f0d54",
   "metadata": {},
   "source": [
    "### TreeValue's Initialization"
   ]
  },
  {
   "cell_type": "code",
   "execution_count": 14,
   "id": "d32a679b",
   "metadata": {
    "execution": {
     "iopub.execute_input": "2023-03-15T12:50:31.912656Z",
     "iopub.status.busy": "2023-03-15T12:50:31.912092Z",
     "iopub.status.idle": "2023-03-15T12:50:38.464768Z",
     "shell.execute_reply": "2023-03-15T12:50:38.463757Z"
    }
   },
   "outputs": [
    {
     "name": "stdout",
     "output_type": "stream",
     "text": [
      "807 ns ± 0.433 ns per loop (mean ± std. dev. of 7 runs, 1,000,000 loops each)\n"
     ]
    }
   ],
   "source": [
    "%timeit FastTreeValue(_TREE_DATA_1)"
   ]
  },
  {
   "cell_type": "markdown",
   "id": "24f3707b",
   "metadata": {},
   "source": [
    "### Tianshou Batch's Initialization"
   ]
  },
  {
   "cell_type": "code",
   "execution_count": 15,
   "id": "ac3958df",
   "metadata": {
    "execution": {
     "iopub.execute_input": "2023-03-15T12:50:38.468166Z",
     "iopub.status.busy": "2023-03-15T12:50:38.467726Z",
     "iopub.status.idle": "2023-03-15T12:50:47.289447Z",
     "shell.execute_reply": "2023-03-15T12:50:47.288515Z"
    }
   },
   "outputs": [
    {
     "name": "stdout",
     "output_type": "stream",
     "text": [
      "10.9 µs ± 19.9 ns per loop (mean ± std. dev. of 7 runs, 100,000 loops each)\n"
     ]
    }
   ],
   "source": [
    "%timeit Batch(**_TREE_DATA_1)"
   ]
  },
  {
   "cell_type": "markdown",
   "id": "1ab82e2d",
   "metadata": {},
   "source": [
    "## Deep Copy Operation"
   ]
  },
  {
   "cell_type": "code",
   "execution_count": 16,
   "id": "210a9442",
   "metadata": {
    "execution": {
     "iopub.execute_input": "2023-03-15T12:50:47.293154Z",
     "iopub.status.busy": "2023-03-15T12:50:47.292564Z",
     "iopub.status.idle": "2023-03-15T12:50:47.296466Z",
     "shell.execute_reply": "2023-03-15T12:50:47.295834Z"
    }
   },
   "outputs": [],
   "source": [
    "import copy"
   ]
  },
  {
   "cell_type": "markdown",
   "id": "5a736274",
   "metadata": {},
   "source": [
    "### Deep Copy of TreeValue"
   ]
  },
  {
   "cell_type": "code",
   "execution_count": 17,
   "id": "f9bcadd6",
   "metadata": {
    "execution": {
     "iopub.execute_input": "2023-03-15T12:50:47.299692Z",
     "iopub.status.busy": "2023-03-15T12:50:47.299171Z",
     "iopub.status.idle": "2023-03-15T12:50:58.930943Z",
     "shell.execute_reply": "2023-03-15T12:50:58.930333Z"
    }
   },
   "outputs": [
    {
     "name": "stdout",
     "output_type": "stream",
     "text": [
      "143 µs ± 670 ns per loop (mean ± std. dev. of 7 runs, 10,000 loops each)\n"
     ]
    }
   ],
   "source": [
    "t3 = FastTreeValue(_TREE_DATA_3)\n",
    "%timeit copy.deepcopy(t3)"
   ]
  },
  {
   "cell_type": "markdown",
   "id": "bf8be7ea",
   "metadata": {},
   "source": [
    "### Deep Copy of Tianshou Batch"
   ]
  },
  {
   "cell_type": "code",
   "execution_count": 18,
   "id": "91998e6f",
   "metadata": {
    "execution": {
     "iopub.execute_input": "2023-03-15T12:50:58.934067Z",
     "iopub.status.busy": "2023-03-15T12:50:58.933540Z",
     "iopub.status.idle": "2023-03-15T12:51:10.506901Z",
     "shell.execute_reply": "2023-03-15T12:51:10.506262Z"
    }
   },
   "outputs": [
    {
     "name": "stdout",
     "output_type": "stream",
     "text": [
      "143 µs ± 1.03 µs per loop (mean ± std. dev. of 7 runs, 10,000 loops each)\n"
     ]
    }
   ],
   "source": [
    "b3 = Batch(**_TREE_DATA_3)\n",
    "%timeit copy.deepcopy(b3)"
   ]
  },
  {
   "cell_type": "markdown",
   "id": "223162fb",
   "metadata": {},
   "source": [
    "## Stack, Concat and Split Operation"
   ]
  },
  {
   "cell_type": "markdown",
   "id": "85fa4a73",
   "metadata": {},
   "source": [
    "### Performance of TreeValue"
   ]
  },
  {
   "cell_type": "code",
   "execution_count": 19,
   "id": "a0c2b697",
   "metadata": {
    "execution": {
     "iopub.execute_input": "2023-03-15T12:51:10.510098Z",
     "iopub.status.busy": "2023-03-15T12:51:10.509501Z",
     "iopub.status.idle": "2023-03-15T12:51:10.513573Z",
     "shell.execute_reply": "2023-03-15T12:51:10.512528Z"
    }
   },
   "outputs": [],
   "source": [
    "trees = [FastTreeValue(_TREE_DATA_2) for _ in range(8)]"
   ]
  },
  {
   "cell_type": "code",
   "execution_count": 20,
   "id": "017ea5a5",
   "metadata": {
    "execution": {
     "iopub.execute_input": "2023-03-15T12:51:10.516167Z",
     "iopub.status.busy": "2023-03-15T12:51:10.515621Z",
     "iopub.status.idle": "2023-03-15T12:51:10.523098Z",
     "shell.execute_reply": "2023-03-15T12:51:10.522437Z"
    }
   },
   "outputs": [
    {
     "data": {
      "text/plain": [
       "<FastTreeValue 0x7fa7d4bd8d30>\n",
       "├── 'a' --> tensor([[[-1.5325, -0.6184, -0.0688],\n",
       "│                    [ 0.6734, -0.1891,  1.4454]],\n",
       "│           \n",
       "│                   [[-1.5325, -0.6184, -0.0688],\n",
       "│                    [ 0.6734, -0.1891,  1.4454]],\n",
       "│           \n",
       "│                   [[-1.5325, -0.6184, -0.0688],\n",
       "│                    [ 0.6734, -0.1891,  1.4454]],\n",
       "│           \n",
       "│                   [[-1.5325, -0.6184, -0.0688],\n",
       "│                    [ 0.6734, -0.1891,  1.4454]],\n",
       "│           \n",
       "│                   [[-1.5325, -0.6184, -0.0688],\n",
       "│                    [ 0.6734, -0.1891,  1.4454]],\n",
       "│           \n",
       "│                   [[-1.5325, -0.6184, -0.0688],\n",
       "│                    [ 0.6734, -0.1891,  1.4454]],\n",
       "│           \n",
       "│                   [[-1.5325, -0.6184, -0.0688],\n",
       "│                    [ 0.6734, -0.1891,  1.4454]],\n",
       "│           \n",
       "│                   [[-1.5325, -0.6184, -0.0688],\n",
       "│                    [ 0.6734, -0.1891,  1.4454]]])\n",
       "└── 'x' --> <FastTreeValue 0x7fa7d4dd8910>\n",
       "    └── 'c' --> tensor([[[-0.9273, -0.2462, -0.0223,  0.5596],\n",
       "                         [-2.1601, -1.2822, -1.1878, -1.8289],\n",
       "                         [-0.3527,  0.2015,  0.6889,  0.7537]],\n",
       "                \n",
       "                        [[-0.9273, -0.2462, -0.0223,  0.5596],\n",
       "                         [-2.1601, -1.2822, -1.1878, -1.8289],\n",
       "                         [-0.3527,  0.2015,  0.6889,  0.7537]],\n",
       "                \n",
       "                        [[-0.9273, -0.2462, -0.0223,  0.5596],\n",
       "                         [-2.1601, -1.2822, -1.1878, -1.8289],\n",
       "                         [-0.3527,  0.2015,  0.6889,  0.7537]],\n",
       "                \n",
       "                        [[-0.9273, -0.2462, -0.0223,  0.5596],\n",
       "                         [-2.1601, -1.2822, -1.1878, -1.8289],\n",
       "                         [-0.3527,  0.2015,  0.6889,  0.7537]],\n",
       "                \n",
       "                        [[-0.9273, -0.2462, -0.0223,  0.5596],\n",
       "                         [-2.1601, -1.2822, -1.1878, -1.8289],\n",
       "                         [-0.3527,  0.2015,  0.6889,  0.7537]],\n",
       "                \n",
       "                        [[-0.9273, -0.2462, -0.0223,  0.5596],\n",
       "                         [-2.1601, -1.2822, -1.1878, -1.8289],\n",
       "                         [-0.3527,  0.2015,  0.6889,  0.7537]],\n",
       "                \n",
       "                        [[-0.9273, -0.2462, -0.0223,  0.5596],\n",
       "                         [-2.1601, -1.2822, -1.1878, -1.8289],\n",
       "                         [-0.3527,  0.2015,  0.6889,  0.7537]],\n",
       "                \n",
       "                        [[-0.9273, -0.2462, -0.0223,  0.5596],\n",
       "                         [-2.1601, -1.2822, -1.1878, -1.8289],\n",
       "                         [-0.3527,  0.2015,  0.6889,  0.7537]]])"
      ]
     },
     "execution_count": 20,
     "metadata": {},
     "output_type": "execute_result"
    }
   ],
   "source": [
    "t_stack = FastTreeValue.func(subside=True)(torch.stack)\n",
    "\n",
    "t_stack(trees)"
   ]
  },
  {
   "cell_type": "code",
   "execution_count": 21,
   "id": "f8b3f415",
   "metadata": {
    "execution": {
     "iopub.execute_input": "2023-03-15T12:51:10.525786Z",
     "iopub.status.busy": "2023-03-15T12:51:10.525230Z",
     "iopub.status.idle": "2023-03-15T12:51:13.121594Z",
     "shell.execute_reply": "2023-03-15T12:51:13.120742Z"
    }
   },
   "outputs": [
    {
     "name": "stdout",
     "output_type": "stream",
     "text": [
      "31.9 µs ± 38.7 ns per loop (mean ± std. dev. of 7 runs, 10,000 loops each)\n"
     ]
    }
   ],
   "source": [
    "%timeit t_stack(trees)"
   ]
  },
  {
   "cell_type": "code",
   "execution_count": 22,
   "id": "94b56771",
   "metadata": {
    "execution": {
     "iopub.execute_input": "2023-03-15T12:51:13.125256Z",
     "iopub.status.busy": "2023-03-15T12:51:13.124826Z",
     "iopub.status.idle": "2023-03-15T12:51:13.134522Z",
     "shell.execute_reply": "2023-03-15T12:51:13.133388Z"
    }
   },
   "outputs": [
    {
     "data": {
      "text/plain": [
       "<FastTreeValue 0x7fa74a1d9700>\n",
       "├── 'a' --> tensor([[-1.5325, -0.6184, -0.0688],\n",
       "│                   [ 0.6734, -0.1891,  1.4454],\n",
       "│                   [-1.5325, -0.6184, -0.0688],\n",
       "│                   [ 0.6734, -0.1891,  1.4454],\n",
       "│                   [-1.5325, -0.6184, -0.0688],\n",
       "│                   [ 0.6734, -0.1891,  1.4454],\n",
       "│                   [-1.5325, -0.6184, -0.0688],\n",
       "│                   [ 0.6734, -0.1891,  1.4454],\n",
       "│                   [-1.5325, -0.6184, -0.0688],\n",
       "│                   [ 0.6734, -0.1891,  1.4454],\n",
       "│                   [-1.5325, -0.6184, -0.0688],\n",
       "│                   [ 0.6734, -0.1891,  1.4454],\n",
       "│                   [-1.5325, -0.6184, -0.0688],\n",
       "│                   [ 0.6734, -0.1891,  1.4454],\n",
       "│                   [-1.5325, -0.6184, -0.0688],\n",
       "│                   [ 0.6734, -0.1891,  1.4454]])\n",
       "└── 'x' --> <FastTreeValue 0x7fa74a1d96d0>\n",
       "    └── 'c' --> tensor([[-0.9273, -0.2462, -0.0223,  0.5596],\n",
       "                        [-2.1601, -1.2822, -1.1878, -1.8289],\n",
       "                        [-0.3527,  0.2015,  0.6889,  0.7537],\n",
       "                        [-0.9273, -0.2462, -0.0223,  0.5596],\n",
       "                        [-2.1601, -1.2822, -1.1878, -1.8289],\n",
       "                        [-0.3527,  0.2015,  0.6889,  0.7537],\n",
       "                        [-0.9273, -0.2462, -0.0223,  0.5596],\n",
       "                        [-2.1601, -1.2822, -1.1878, -1.8289],\n",
       "                        [-0.3527,  0.2015,  0.6889,  0.7537],\n",
       "                        [-0.9273, -0.2462, -0.0223,  0.5596],\n",
       "                        [-2.1601, -1.2822, -1.1878, -1.8289],\n",
       "                        [-0.3527,  0.2015,  0.6889,  0.7537],\n",
       "                        [-0.9273, -0.2462, -0.0223,  0.5596],\n",
       "                        [-2.1601, -1.2822, -1.1878, -1.8289],\n",
       "                        [-0.3527,  0.2015,  0.6889,  0.7537],\n",
       "                        [-0.9273, -0.2462, -0.0223,  0.5596],\n",
       "                        [-2.1601, -1.2822, -1.1878, -1.8289],\n",
       "                        [-0.3527,  0.2015,  0.6889,  0.7537],\n",
       "                        [-0.9273, -0.2462, -0.0223,  0.5596],\n",
       "                        [-2.1601, -1.2822, -1.1878, -1.8289],\n",
       "                        [-0.3527,  0.2015,  0.6889,  0.7537],\n",
       "                        [-0.9273, -0.2462, -0.0223,  0.5596],\n",
       "                        [-2.1601, -1.2822, -1.1878, -1.8289],\n",
       "                        [-0.3527,  0.2015,  0.6889,  0.7537]])"
      ]
     },
     "execution_count": 22,
     "metadata": {},
     "output_type": "execute_result"
    }
   ],
   "source": [
    "t_cat = FastTreeValue.func(subside=True)(torch.cat)\n",
    "\n",
    "t_cat(trees)"
   ]
  },
  {
   "cell_type": "code",
   "execution_count": 23,
   "id": "5e9c06a6",
   "metadata": {
    "execution": {
     "iopub.execute_input": "2023-03-15T12:51:13.137359Z",
     "iopub.status.busy": "2023-03-15T12:51:13.137025Z",
     "iopub.status.idle": "2023-03-15T12:51:15.590075Z",
     "shell.execute_reply": "2023-03-15T12:51:15.589157Z"
    }
   },
   "outputs": [
    {
     "name": "stdout",
     "output_type": "stream",
     "text": [
      "30.1 µs ± 33 ns per loop (mean ± std. dev. of 7 runs, 10,000 loops each)\n"
     ]
    }
   ],
   "source": [
    "%timeit t_cat(trees)"
   ]
  },
  {
   "cell_type": "code",
   "execution_count": 24,
   "id": "a3ab5c8f",
   "metadata": {
    "execution": {
     "iopub.execute_input": "2023-03-15T12:51:15.593726Z",
     "iopub.status.busy": "2023-03-15T12:51:15.593099Z",
     "iopub.status.idle": "2023-03-15T12:51:20.122875Z",
     "shell.execute_reply": "2023-03-15T12:51:20.121764Z"
    }
   },
   "outputs": [
    {
     "name": "stdout",
     "output_type": "stream",
     "text": [
      "55.7 µs ± 142 ns per loop (mean ± std. dev. of 7 runs, 10,000 loops each)\n"
     ]
    }
   ],
   "source": [
    "t_split = FastTreeValue.func(rise=True)(torch.split)\n",
    "tree = FastTreeValue({\n",
    "    'obs': torch.randn(8, 4, 84, 84),\n",
    "    'action': torch.randint(0, 6, size=(8, 1,)),\n",
    "    'reward': torch.rand(8, 1),\n",
    "})\n",
    "\n",
    "%timeit t_split(tree, 1)"
   ]
  },
  {
   "cell_type": "markdown",
   "id": "31c3ec0b",
   "metadata": {},
   "source": [
    "### Performance of Tianshou Batch"
   ]
  },
  {
   "cell_type": "code",
   "execution_count": 25,
   "id": "9ead828a",
   "metadata": {
    "execution": {
     "iopub.execute_input": "2023-03-15T12:51:20.126316Z",
     "iopub.status.busy": "2023-03-15T12:51:20.125738Z",
     "iopub.status.idle": "2023-03-15T12:51:20.134515Z",
     "shell.execute_reply": "2023-03-15T12:51:20.133370Z"
    }
   },
   "outputs": [
    {
     "data": {
      "text/plain": [
       "Batch(\n",
       "    a: tensor([[[-1.5325, -0.6184, -0.0688],\n",
       "                [ 0.6734, -0.1891,  1.4454]],\n",
       "       \n",
       "               [[-1.5325, -0.6184, -0.0688],\n",
       "                [ 0.6734, -0.1891,  1.4454]],\n",
       "       \n",
       "               [[-1.5325, -0.6184, -0.0688],\n",
       "                [ 0.6734, -0.1891,  1.4454]],\n",
       "       \n",
       "               [[-1.5325, -0.6184, -0.0688],\n",
       "                [ 0.6734, -0.1891,  1.4454]],\n",
       "       \n",
       "               [[-1.5325, -0.6184, -0.0688],\n",
       "                [ 0.6734, -0.1891,  1.4454]],\n",
       "       \n",
       "               [[-1.5325, -0.6184, -0.0688],\n",
       "                [ 0.6734, -0.1891,  1.4454]],\n",
       "       \n",
       "               [[-1.5325, -0.6184, -0.0688],\n",
       "                [ 0.6734, -0.1891,  1.4454]],\n",
       "       \n",
       "               [[-1.5325, -0.6184, -0.0688],\n",
       "                [ 0.6734, -0.1891,  1.4454]]]),\n",
       "    x: Batch(\n",
       "           c: tensor([[[-0.9273, -0.2462, -0.0223,  0.5596],\n",
       "                       [-2.1601, -1.2822, -1.1878, -1.8289],\n",
       "                       [-0.3527,  0.2015,  0.6889,  0.7537]],\n",
       "              \n",
       "                      [[-0.9273, -0.2462, -0.0223,  0.5596],\n",
       "                       [-2.1601, -1.2822, -1.1878, -1.8289],\n",
       "                       [-0.3527,  0.2015,  0.6889,  0.7537]],\n",
       "              \n",
       "                      [[-0.9273, -0.2462, -0.0223,  0.5596],\n",
       "                       [-2.1601, -1.2822, -1.1878, -1.8289],\n",
       "                       [-0.3527,  0.2015,  0.6889,  0.7537]],\n",
       "              \n",
       "                      [[-0.9273, -0.2462, -0.0223,  0.5596],\n",
       "                       [-2.1601, -1.2822, -1.1878, -1.8289],\n",
       "                       [-0.3527,  0.2015,  0.6889,  0.7537]],\n",
       "              \n",
       "                      [[-0.9273, -0.2462, -0.0223,  0.5596],\n",
       "                       [-2.1601, -1.2822, -1.1878, -1.8289],\n",
       "                       [-0.3527,  0.2015,  0.6889,  0.7537]],\n",
       "              \n",
       "                      [[-0.9273, -0.2462, -0.0223,  0.5596],\n",
       "                       [-2.1601, -1.2822, -1.1878, -1.8289],\n",
       "                       [-0.3527,  0.2015,  0.6889,  0.7537]],\n",
       "              \n",
       "                      [[-0.9273, -0.2462, -0.0223,  0.5596],\n",
       "                       [-2.1601, -1.2822, -1.1878, -1.8289],\n",
       "                       [-0.3527,  0.2015,  0.6889,  0.7537]],\n",
       "              \n",
       "                      [[-0.9273, -0.2462, -0.0223,  0.5596],\n",
       "                       [-2.1601, -1.2822, -1.1878, -1.8289],\n",
       "                       [-0.3527,  0.2015,  0.6889,  0.7537]]]),\n",
       "       ),\n",
       ")"
      ]
     },
     "execution_count": 25,
     "metadata": {},
     "output_type": "execute_result"
    }
   ],
   "source": [
    "batches = [Batch(**_TREE_DATA_2) for _ in range(8)]\n",
    "\n",
    "Batch.stack(batches)"
   ]
  },
  {
   "cell_type": "code",
   "execution_count": 26,
   "id": "ec9037a3",
   "metadata": {
    "execution": {
     "iopub.execute_input": "2023-03-15T12:51:20.137479Z",
     "iopub.status.busy": "2023-03-15T12:51:20.136928Z",
     "iopub.status.idle": "2023-03-15T12:51:26.447100Z",
     "shell.execute_reply": "2023-03-15T12:51:26.446251Z"
    }
   },
   "outputs": [
    {
     "name": "stdout",
     "output_type": "stream",
     "text": [
      "77.6 µs ± 284 ns per loop (mean ± std. dev. of 7 runs, 10,000 loops each)\n"
     ]
    }
   ],
   "source": [
    "%timeit Batch.stack(batches)"
   ]
  },
  {
   "cell_type": "code",
   "execution_count": 27,
   "id": "cb8ab77e",
   "metadata": {
    "execution": {
     "iopub.execute_input": "2023-03-15T12:51:26.450782Z",
     "iopub.status.busy": "2023-03-15T12:51:26.450271Z",
     "iopub.status.idle": "2023-03-15T12:51:26.457556Z",
     "shell.execute_reply": "2023-03-15T12:51:26.456869Z"
    }
   },
   "outputs": [
    {
     "data": {
      "text/plain": [
       "Batch(\n",
       "    a: tensor([[-1.5325, -0.6184, -0.0688],\n",
       "               [ 0.6734, -0.1891,  1.4454],\n",
       "               [-1.5325, -0.6184, -0.0688],\n",
       "               [ 0.6734, -0.1891,  1.4454],\n",
       "               [-1.5325, -0.6184, -0.0688],\n",
       "               [ 0.6734, -0.1891,  1.4454],\n",
       "               [-1.5325, -0.6184, -0.0688],\n",
       "               [ 0.6734, -0.1891,  1.4454],\n",
       "               [-1.5325, -0.6184, -0.0688],\n",
       "               [ 0.6734, -0.1891,  1.4454],\n",
       "               [-1.5325, -0.6184, -0.0688],\n",
       "               [ 0.6734, -0.1891,  1.4454],\n",
       "               [-1.5325, -0.6184, -0.0688],\n",
       "               [ 0.6734, -0.1891,  1.4454],\n",
       "               [-1.5325, -0.6184, -0.0688],\n",
       "               [ 0.6734, -0.1891,  1.4454]]),\n",
       "    x: Batch(\n",
       "           c: tensor([[-0.9273, -0.2462, -0.0223,  0.5596],\n",
       "                      [-2.1601, -1.2822, -1.1878, -1.8289],\n",
       "                      [-0.3527,  0.2015,  0.6889,  0.7537],\n",
       "                      [-0.9273, -0.2462, -0.0223,  0.5596],\n",
       "                      [-2.1601, -1.2822, -1.1878, -1.8289],\n",
       "                      [-0.3527,  0.2015,  0.6889,  0.7537],\n",
       "                      [-0.9273, -0.2462, -0.0223,  0.5596],\n",
       "                      [-2.1601, -1.2822, -1.1878, -1.8289],\n",
       "                      [-0.3527,  0.2015,  0.6889,  0.7537],\n",
       "                      [-0.9273, -0.2462, -0.0223,  0.5596],\n",
       "                      [-2.1601, -1.2822, -1.1878, -1.8289],\n",
       "                      [-0.3527,  0.2015,  0.6889,  0.7537],\n",
       "                      [-0.9273, -0.2462, -0.0223,  0.5596],\n",
       "                      [-2.1601, -1.2822, -1.1878, -1.8289],\n",
       "                      [-0.3527,  0.2015,  0.6889,  0.7537],\n",
       "                      [-0.9273, -0.2462, -0.0223,  0.5596],\n",
       "                      [-2.1601, -1.2822, -1.1878, -1.8289],\n",
       "                      [-0.3527,  0.2015,  0.6889,  0.7537],\n",
       "                      [-0.9273, -0.2462, -0.0223,  0.5596],\n",
       "                      [-2.1601, -1.2822, -1.1878, -1.8289],\n",
       "                      [-0.3527,  0.2015,  0.6889,  0.7537],\n",
       "                      [-0.9273, -0.2462, -0.0223,  0.5596],\n",
       "                      [-2.1601, -1.2822, -1.1878, -1.8289],\n",
       "                      [-0.3527,  0.2015,  0.6889,  0.7537]]),\n",
       "       ),\n",
       ")"
      ]
     },
     "execution_count": 27,
     "metadata": {},
     "output_type": "execute_result"
    }
   ],
   "source": [
    "Batch.cat(batches)"
   ]
  },
  {
   "cell_type": "code",
   "execution_count": 28,
   "id": "18dfb045",
   "metadata": {
    "execution": {
     "iopub.execute_input": "2023-03-15T12:51:26.460655Z",
     "iopub.status.busy": "2023-03-15T12:51:26.460202Z",
     "iopub.status.idle": "2023-03-15T12:51:38.228062Z",
     "shell.execute_reply": "2023-03-15T12:51:38.227208Z"
    }
   },
   "outputs": [
    {
     "name": "stdout",
     "output_type": "stream",
     "text": [
      "145 µs ± 332 ns per loop (mean ± std. dev. of 7 runs, 10,000 loops each)\n"
     ]
    }
   ],
   "source": [
    "%timeit Batch.cat(batches)"
   ]
  },
  {
   "cell_type": "code",
   "execution_count": 29,
   "id": "c6688e51",
   "metadata": {
    "execution": {
     "iopub.execute_input": "2023-03-15T12:51:38.231869Z",
     "iopub.status.busy": "2023-03-15T12:51:38.231313Z",
     "iopub.status.idle": "2023-03-15T12:51:40.849305Z",
     "shell.execute_reply": "2023-03-15T12:51:40.848695Z"
    }
   },
   "outputs": [
    {
     "name": "stdout",
     "output_type": "stream",
     "text": [
      "321 µs ± 1.98 µs per loop (mean ± std. dev. of 7 runs, 1,000 loops each)\n"
     ]
    }
   ],
   "source": [
    "batch = Batch({\n",
    "    'obs': torch.randn(8, 4, 84, 84),\n",
    "    'action': torch.randint(0, 6, size=(8, 1,)),\n",
    "    'reward': torch.rand(8, 1)}\n",
    ")\n",
    "\n",
    "%timeit list(Batch.split(batch, 1, shuffle=False, merge_last=True))"
   ]
  },
  {
   "cell_type": "code",
   "execution_count": null,
   "id": "2539fbd9",
   "metadata": {},
   "outputs": [],
   "source": []
  }
 ],
 "metadata": {
  "kernelspec": {
   "display_name": "Python 3 (ipykernel)",
   "language": "python",
   "name": "python3"
  },
  "language_info": {
   "codemirror_mode": {
    "name": "ipython",
    "version": 3
   },
   "file_extension": ".py",
   "mimetype": "text/x-python",
   "name": "python",
   "nbconvert_exporter": "python",
   "pygments_lexer": "ipython3",
   "version": "3.8.16"
  }
 },
 "nbformat": 4,
 "nbformat_minor": 5
}
