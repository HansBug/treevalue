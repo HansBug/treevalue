{
 "cells": [
  {
   "cell_type": "markdown",
   "id": "9d39d946",
   "metadata": {},
   "source": [
    "# Comparison Between TreeValue and Tianshou Batch"
   ]
  },
  {
   "cell_type": "markdown",
   "id": "3c6db2d4",
   "metadata": {},
   "source": [
    "In this section, we will take a look at the feature and performance of the [Tianshou Batch](https://github.com/thu-ml/tianshou) library, which is developed by Tsinghua Machine Learning Group."
   ]
  },
  {
   "cell_type": "markdown",
   "id": "069361b0",
   "metadata": {},
   "source": [
    "Before starting the comparison, let us define some thing."
   ]
  },
  {
   "cell_type": "code",
   "execution_count": 1,
   "id": "06fc8d26",
   "metadata": {
    "execution": {
     "iopub.execute_input": "2023-03-16T08:55:48.796054Z",
     "iopub.status.busy": "2023-03-16T08:55:48.795781Z",
     "iopub.status.idle": "2023-03-16T08:55:50.115390Z",
     "shell.execute_reply": "2023-03-16T08:55:50.114710Z"
    }
   },
   "outputs": [],
   "source": [
    "import torch \n",
    "\n",
    "_TREE_DATA_1 = {'a': 1, 'b': 2, 'x': {'c': 3, 'd': 4}}\n",
    "_TREE_DATA_2 = {\n",
    "    'a': torch.randn(2, 3), \n",
    "    'x': {\n",
    "        'c': torch.randn(3, 4)\n",
    "    },\n",
    "}\n",
    "_TREE_DATA_3 = {\n",
    "    'obs': torch.randn(4, 84, 84),\n",
    "    'action': torch.randint(0, 6, size=(1,)),\n",
    "    'reward': torch.rand(1),\n",
    "}"
   ]
  },
  {
   "cell_type": "markdown",
   "id": "83461b25",
   "metadata": {},
   "source": [
    "## Read and Write Operation"
   ]
  },
  {
   "cell_type": "markdown",
   "id": "067b3f73",
   "metadata": {},
   "source": [
    "Reading and writing are the two most common operations in the tree data structure based on the data model (TreeValue and Tianshou Batch both belong to this type), so this section will compare the reading and writing performance of these two libraries."
   ]
  },
  {
   "cell_type": "markdown",
   "id": "5d09a5b7",
   "metadata": {},
   "source": [
    "### TreeValue's Get and Set"
   ]
  },
  {
   "cell_type": "code",
   "execution_count": 2,
   "id": "9519c4bb",
   "metadata": {
    "execution": {
     "iopub.execute_input": "2023-03-16T08:55:50.118957Z",
     "iopub.status.busy": "2023-03-16T08:55:50.118385Z",
     "iopub.status.idle": "2023-03-16T08:55:50.145930Z",
     "shell.execute_reply": "2023-03-16T08:55:50.145290Z"
    }
   },
   "outputs": [],
   "source": [
    "from treevalue import FastTreeValue\n",
    "\n",
    "t = FastTreeValue(_TREE_DATA_2)"
   ]
  },
  {
   "cell_type": "code",
   "execution_count": 3,
   "id": "11c37677",
   "metadata": {
    "execution": {
     "iopub.execute_input": "2023-03-16T08:55:50.148842Z",
     "iopub.status.busy": "2023-03-16T08:55:50.148305Z",
     "iopub.status.idle": "2023-03-16T08:55:50.158250Z",
     "shell.execute_reply": "2023-03-16T08:55:50.157666Z"
    }
   },
   "outputs": [
    {
     "data": {
      "text/plain": [
       "<FastTreeValue 0x7ff15f3f7fa0>\n",
       "├── 'a' --> tensor([[-1.0982, -1.0263, -1.1308],\n",
       "│                   [ 0.1781,  0.5325, -0.3560]])\n",
       "└── 'x' --> <FastTreeValue 0x7ff15f3f7b80>\n",
       "    └── 'c' --> tensor([[ 0.2030, -1.2996,  1.4354,  0.0244],\n",
       "                        [-0.6007, -1.3824,  0.8323,  0.8619],\n",
       "                        [-1.0431,  1.1787,  0.0660, -1.4907]])"
      ]
     },
     "execution_count": 3,
     "metadata": {},
     "output_type": "execute_result"
    }
   ],
   "source": [
    "t"
   ]
  },
  {
   "cell_type": "code",
   "execution_count": 4,
   "id": "fd70b0b9",
   "metadata": {
    "execution": {
     "iopub.execute_input": "2023-03-16T08:55:50.161184Z",
     "iopub.status.busy": "2023-03-16T08:55:50.160703Z",
     "iopub.status.idle": "2023-03-16T08:55:50.166649Z",
     "shell.execute_reply": "2023-03-16T08:55:50.166077Z"
    }
   },
   "outputs": [
    {
     "data": {
      "text/plain": [
       "tensor([[-1.0982, -1.0263, -1.1308],\n",
       "        [ 0.1781,  0.5325, -0.3560]])"
      ]
     },
     "execution_count": 4,
     "metadata": {},
     "output_type": "execute_result"
    }
   ],
   "source": [
    "t.a"
   ]
  },
  {
   "cell_type": "code",
   "execution_count": 5,
   "id": "c18197bd",
   "metadata": {
    "execution": {
     "iopub.execute_input": "2023-03-16T08:55:50.169094Z",
     "iopub.status.busy": "2023-03-16T08:55:50.168757Z",
     "iopub.status.idle": "2023-03-16T08:55:55.410365Z",
     "shell.execute_reply": "2023-03-16T08:55:55.409776Z"
    }
   },
   "outputs": [
    {
     "name": "stdout",
     "output_type": "stream",
     "text": [
      "64.9 ns ± 0.031 ns per loop (mean ± std. dev. of 7 runs, 10,000,000 loops each)\n"
     ]
    }
   ],
   "source": [
    "%timeit t.a"
   ]
  },
  {
   "cell_type": "code",
   "execution_count": 6,
   "id": "bd52f867",
   "metadata": {
    "execution": {
     "iopub.execute_input": "2023-03-16T08:55:55.413810Z",
     "iopub.status.busy": "2023-03-16T08:55:55.413153Z",
     "iopub.status.idle": "2023-03-16T08:55:55.419929Z",
     "shell.execute_reply": "2023-03-16T08:55:55.419341Z"
    }
   },
   "outputs": [
    {
     "data": {
      "text/plain": [
       "<FastTreeValue 0x7ff15f3f7fa0>\n",
       "├── 'a' --> tensor([[ 0.3097, -0.8617,  0.2596],\n",
       "│                   [ 0.4186,  0.2571, -0.5379]])\n",
       "└── 'x' --> <FastTreeValue 0x7ff15f3f7b80>\n",
       "    └── 'c' --> tensor([[ 0.2030, -1.2996,  1.4354,  0.0244],\n",
       "                        [-0.6007, -1.3824,  0.8323,  0.8619],\n",
       "                        [-1.0431,  1.1787,  0.0660, -1.4907]])"
      ]
     },
     "execution_count": 6,
     "metadata": {},
     "output_type": "execute_result"
    }
   ],
   "source": [
    "new_value = torch.randn(2, 3)\n",
    "t.a = new_value\n",
    "\n",
    "t"
   ]
  },
  {
   "cell_type": "code",
   "execution_count": 7,
   "id": "bbe04d1c",
   "metadata": {
    "execution": {
     "iopub.execute_input": "2023-03-16T08:55:55.422523Z",
     "iopub.status.busy": "2023-03-16T08:55:55.422175Z",
     "iopub.status.idle": "2023-03-16T08:56:00.449815Z",
     "shell.execute_reply": "2023-03-16T08:56:00.449100Z"
    }
   },
   "outputs": [
    {
     "name": "stdout",
     "output_type": "stream",
     "text": [
      "62 ns ± 0.0678 ns per loop (mean ± std. dev. of 7 runs, 10,000,000 loops each)\n"
     ]
    }
   ],
   "source": [
    "%timeit t.a = new_value"
   ]
  },
  {
   "cell_type": "markdown",
   "id": "48c49731",
   "metadata": {},
   "source": [
    "### Tianshou Batch's Get and Set"
   ]
  },
  {
   "cell_type": "code",
   "execution_count": 8,
   "id": "f1bb14c1",
   "metadata": {
    "execution": {
     "iopub.execute_input": "2023-03-16T08:56:00.452852Z",
     "iopub.status.busy": "2023-03-16T08:56:00.452495Z",
     "iopub.status.idle": "2023-03-16T08:56:01.056083Z",
     "shell.execute_reply": "2023-03-16T08:56:01.055408Z"
    }
   },
   "outputs": [],
   "source": [
    "from tianshou.data import Batch\n",
    "\n",
    "b = Batch(**_TREE_DATA_2)"
   ]
  },
  {
   "cell_type": "code",
   "execution_count": 9,
   "id": "cb0777c3",
   "metadata": {
    "execution": {
     "iopub.execute_input": "2023-03-16T08:56:01.059789Z",
     "iopub.status.busy": "2023-03-16T08:56:01.059045Z",
     "iopub.status.idle": "2023-03-16T08:56:01.065489Z",
     "shell.execute_reply": "2023-03-16T08:56:01.064908Z"
    }
   },
   "outputs": [
    {
     "data": {
      "text/plain": [
       "Batch(\n",
       "    a: tensor([[-1.0982, -1.0263, -1.1308],\n",
       "               [ 0.1781,  0.5325, -0.3560]]),\n",
       "    x: Batch(\n",
       "           c: tensor([[ 0.2030, -1.2996,  1.4354,  0.0244],\n",
       "                      [-0.6007, -1.3824,  0.8323,  0.8619],\n",
       "                      [-1.0431,  1.1787,  0.0660, -1.4907]]),\n",
       "       ),\n",
       ")"
      ]
     },
     "execution_count": 9,
     "metadata": {},
     "output_type": "execute_result"
    }
   ],
   "source": [
    "b"
   ]
  },
  {
   "cell_type": "code",
   "execution_count": 10,
   "id": "43ef8ea3",
   "metadata": {
    "execution": {
     "iopub.execute_input": "2023-03-16T08:56:01.068486Z",
     "iopub.status.busy": "2023-03-16T08:56:01.068003Z",
     "iopub.status.idle": "2023-03-16T08:56:01.073859Z",
     "shell.execute_reply": "2023-03-16T08:56:01.073283Z"
    }
   },
   "outputs": [
    {
     "data": {
      "text/plain": [
       "tensor([[-1.0982, -1.0263, -1.1308],\n",
       "        [ 0.1781,  0.5325, -0.3560]])"
      ]
     },
     "execution_count": 10,
     "metadata": {},
     "output_type": "execute_result"
    }
   ],
   "source": [
    "b.a"
   ]
  },
  {
   "cell_type": "code",
   "execution_count": 11,
   "id": "b785ab72",
   "metadata": {
    "execution": {
     "iopub.execute_input": "2023-03-16T08:56:01.076797Z",
     "iopub.status.busy": "2023-03-16T08:56:01.076316Z",
     "iopub.status.idle": "2023-03-16T08:56:05.239509Z",
     "shell.execute_reply": "2023-03-16T08:56:05.238827Z"
    }
   },
   "outputs": [
    {
     "name": "stdout",
     "output_type": "stream",
     "text": [
      "51.3 ns ± 0.0392 ns per loop (mean ± std. dev. of 7 runs, 10,000,000 loops each)\n"
     ]
    }
   ],
   "source": [
    "%timeit b.a"
   ]
  },
  {
   "cell_type": "code",
   "execution_count": 12,
   "id": "ad54dc69",
   "metadata": {
    "execution": {
     "iopub.execute_input": "2023-03-16T08:56:05.242714Z",
     "iopub.status.busy": "2023-03-16T08:56:05.242193Z",
     "iopub.status.idle": "2023-03-16T08:56:05.249707Z",
     "shell.execute_reply": "2023-03-16T08:56:05.249126Z"
    }
   },
   "outputs": [
    {
     "data": {
      "text/plain": [
       "Batch(\n",
       "    a: tensor([[-0.1528,  0.4901, -1.2728],\n",
       "               [ 0.7268, -0.6593, -0.1476]]),\n",
       "    x: Batch(\n",
       "           c: tensor([[ 0.2030, -1.2996,  1.4354,  0.0244],\n",
       "                      [-0.6007, -1.3824,  0.8323,  0.8619],\n",
       "                      [-1.0431,  1.1787,  0.0660, -1.4907]]),\n",
       "       ),\n",
       ")"
      ]
     },
     "execution_count": 12,
     "metadata": {},
     "output_type": "execute_result"
    }
   ],
   "source": [
    "new_value = torch.randn(2, 3)\n",
    "b.a = new_value\n",
    "\n",
    "b"
   ]
  },
  {
   "cell_type": "code",
   "execution_count": 13,
   "id": "29b1d0bf",
   "metadata": {
    "execution": {
     "iopub.execute_input": "2023-03-16T08:56:05.252485Z",
     "iopub.status.busy": "2023-03-16T08:56:05.251939Z",
     "iopub.status.idle": "2023-03-16T08:56:09.132031Z",
     "shell.execute_reply": "2023-03-16T08:56:09.131368Z"
    }
   },
   "outputs": [
    {
     "name": "stdout",
     "output_type": "stream",
     "text": [
      "477 ns ± 0.151 ns per loop (mean ± std. dev. of 7 runs, 1,000,000 loops each)\n"
     ]
    }
   ],
   "source": [
    "%timeit b.a = new_value"
   ]
  },
  {
   "cell_type": "markdown",
   "id": "b61ad1d0",
   "metadata": {},
   "source": [
    "## Initialization"
   ]
  },
  {
   "cell_type": "markdown",
   "id": "d70f0d54",
   "metadata": {},
   "source": [
    "### TreeValue's Initialization"
   ]
  },
  {
   "cell_type": "code",
   "execution_count": 14,
   "id": "d32a679b",
   "metadata": {
    "execution": {
     "iopub.execute_input": "2023-03-16T08:56:09.135083Z",
     "iopub.status.busy": "2023-03-16T08:56:09.134713Z",
     "iopub.status.idle": "2023-03-16T08:56:16.014895Z",
     "shell.execute_reply": "2023-03-16T08:56:16.014182Z"
    }
   },
   "outputs": [
    {
     "name": "stdout",
     "output_type": "stream",
     "text": [
      "847 ns ± 0.404 ns per loop (mean ± std. dev. of 7 runs, 1,000,000 loops each)\n"
     ]
    }
   ],
   "source": [
    "%timeit FastTreeValue(_TREE_DATA_1)"
   ]
  },
  {
   "cell_type": "markdown",
   "id": "24f3707b",
   "metadata": {},
   "source": [
    "### Tianshou Batch's Initialization"
   ]
  },
  {
   "cell_type": "code",
   "execution_count": 15,
   "id": "ac3958df",
   "metadata": {
    "execution": {
     "iopub.execute_input": "2023-03-16T08:56:16.018128Z",
     "iopub.status.busy": "2023-03-16T08:56:16.017566Z",
     "iopub.status.idle": "2023-03-16T08:56:25.226106Z",
     "shell.execute_reply": "2023-03-16T08:56:25.225430Z"
    }
   },
   "outputs": [
    {
     "name": "stdout",
     "output_type": "stream",
     "text": [
      "11.3 µs ± 18.3 ns per loop (mean ± std. dev. of 7 runs, 100,000 loops each)\n"
     ]
    }
   ],
   "source": [
    "%timeit Batch(**_TREE_DATA_1)"
   ]
  },
  {
   "cell_type": "markdown",
   "id": "1ab82e2d",
   "metadata": {},
   "source": [
    "## Deep Copy Operation"
   ]
  },
  {
   "cell_type": "code",
   "execution_count": 16,
   "id": "210a9442",
   "metadata": {
    "execution": {
     "iopub.execute_input": "2023-03-16T08:56:25.229075Z",
     "iopub.status.busy": "2023-03-16T08:56:25.228527Z",
     "iopub.status.idle": "2023-03-16T08:56:25.232490Z",
     "shell.execute_reply": "2023-03-16T08:56:25.231882Z"
    }
   },
   "outputs": [],
   "source": [
    "import copy"
   ]
  },
  {
   "cell_type": "markdown",
   "id": "5a736274",
   "metadata": {},
   "source": [
    "### Deep Copy of TreeValue"
   ]
  },
  {
   "cell_type": "code",
   "execution_count": 17,
   "id": "f9bcadd6",
   "metadata": {
    "execution": {
     "iopub.execute_input": "2023-03-16T08:56:25.235309Z",
     "iopub.status.busy": "2023-03-16T08:56:25.234959Z",
     "iopub.status.idle": "2023-03-16T08:56:36.398103Z",
     "shell.execute_reply": "2023-03-16T08:56:36.397542Z"
    }
   },
   "outputs": [
    {
     "name": "stdout",
     "output_type": "stream",
     "text": [
      "138 µs ± 448 ns per loop (mean ± std. dev. of 7 runs, 10,000 loops each)\n"
     ]
    }
   ],
   "source": [
    "t3 = FastTreeValue(_TREE_DATA_3)\n",
    "%timeit copy.deepcopy(t3)"
   ]
  },
  {
   "cell_type": "markdown",
   "id": "bf8be7ea",
   "metadata": {},
   "source": [
    "### Deep Copy of Tianshou Batch"
   ]
  },
  {
   "cell_type": "code",
   "execution_count": 18,
   "id": "91998e6f",
   "metadata": {
    "execution": {
     "iopub.execute_input": "2023-03-16T08:56:36.404443Z",
     "iopub.status.busy": "2023-03-16T08:56:36.404074Z",
     "iopub.status.idle": "2023-03-16T08:56:47.763904Z",
     "shell.execute_reply": "2023-03-16T08:56:47.763313Z"
    }
   },
   "outputs": [
    {
     "name": "stdout",
     "output_type": "stream",
     "text": [
      "140 µs ± 542 ns per loop (mean ± std. dev. of 7 runs, 10,000 loops each)\n"
     ]
    }
   ],
   "source": [
    "b3 = Batch(**_TREE_DATA_3)\n",
    "%timeit copy.deepcopy(b3)"
   ]
  },
  {
   "cell_type": "markdown",
   "id": "223162fb",
   "metadata": {},
   "source": [
    "## Stack, Concat and Split Operation"
   ]
  },
  {
   "cell_type": "markdown",
   "id": "85fa4a73",
   "metadata": {},
   "source": [
    "### Performance of TreeValue"
   ]
  },
  {
   "cell_type": "code",
   "execution_count": 19,
   "id": "a0c2b697",
   "metadata": {
    "execution": {
     "iopub.execute_input": "2023-03-16T08:56:47.766910Z",
     "iopub.status.busy": "2023-03-16T08:56:47.766407Z",
     "iopub.status.idle": "2023-03-16T08:56:47.770945Z",
     "shell.execute_reply": "2023-03-16T08:56:47.770400Z"
    }
   },
   "outputs": [],
   "source": [
    "trees = [FastTreeValue(_TREE_DATA_2) for _ in range(8)]"
   ]
  },
  {
   "cell_type": "code",
   "execution_count": 20,
   "id": "017ea5a5",
   "metadata": {
    "execution": {
     "iopub.execute_input": "2023-03-16T08:56:47.773730Z",
     "iopub.status.busy": "2023-03-16T08:56:47.773053Z",
     "iopub.status.idle": "2023-03-16T08:56:47.780623Z",
     "shell.execute_reply": "2023-03-16T08:56:47.780102Z"
    }
   },
   "outputs": [
    {
     "data": {
      "text/plain": [
       "<FastTreeValue 0x7ff15c36f460>\n",
       "├── 'a' --> tensor([[[-1.0982, -1.0263, -1.1308],\n",
       "│                    [ 0.1781,  0.5325, -0.3560]],\n",
       "│           \n",
       "│                   [[-1.0982, -1.0263, -1.1308],\n",
       "│                    [ 0.1781,  0.5325, -0.3560]],\n",
       "│           \n",
       "│                   [[-1.0982, -1.0263, -1.1308],\n",
       "│                    [ 0.1781,  0.5325, -0.3560]],\n",
       "│           \n",
       "│                   [[-1.0982, -1.0263, -1.1308],\n",
       "│                    [ 0.1781,  0.5325, -0.3560]],\n",
       "│           \n",
       "│                   [[-1.0982, -1.0263, -1.1308],\n",
       "│                    [ 0.1781,  0.5325, -0.3560]],\n",
       "│           \n",
       "│                   [[-1.0982, -1.0263, -1.1308],\n",
       "│                    [ 0.1781,  0.5325, -0.3560]],\n",
       "│           \n",
       "│                   [[-1.0982, -1.0263, -1.1308],\n",
       "│                    [ 0.1781,  0.5325, -0.3560]],\n",
       "│           \n",
       "│                   [[-1.0982, -1.0263, -1.1308],\n",
       "│                    [ 0.1781,  0.5325, -0.3560]]])\n",
       "└── 'x' --> <FastTreeValue 0x7ff0874dc040>\n",
       "    └── 'c' --> tensor([[[ 0.2030, -1.2996,  1.4354,  0.0244],\n",
       "                         [-0.6007, -1.3824,  0.8323,  0.8619],\n",
       "                         [-1.0431,  1.1787,  0.0660, -1.4907]],\n",
       "                \n",
       "                        [[ 0.2030, -1.2996,  1.4354,  0.0244],\n",
       "                         [-0.6007, -1.3824,  0.8323,  0.8619],\n",
       "                         [-1.0431,  1.1787,  0.0660, -1.4907]],\n",
       "                \n",
       "                        [[ 0.2030, -1.2996,  1.4354,  0.0244],\n",
       "                         [-0.6007, -1.3824,  0.8323,  0.8619],\n",
       "                         [-1.0431,  1.1787,  0.0660, -1.4907]],\n",
       "                \n",
       "                        [[ 0.2030, -1.2996,  1.4354,  0.0244],\n",
       "                         [-0.6007, -1.3824,  0.8323,  0.8619],\n",
       "                         [-1.0431,  1.1787,  0.0660, -1.4907]],\n",
       "                \n",
       "                        [[ 0.2030, -1.2996,  1.4354,  0.0244],\n",
       "                         [-0.6007, -1.3824,  0.8323,  0.8619],\n",
       "                         [-1.0431,  1.1787,  0.0660, -1.4907]],\n",
       "                \n",
       "                        [[ 0.2030, -1.2996,  1.4354,  0.0244],\n",
       "                         [-0.6007, -1.3824,  0.8323,  0.8619],\n",
       "                         [-1.0431,  1.1787,  0.0660, -1.4907]],\n",
       "                \n",
       "                        [[ 0.2030, -1.2996,  1.4354,  0.0244],\n",
       "                         [-0.6007, -1.3824,  0.8323,  0.8619],\n",
       "                         [-1.0431,  1.1787,  0.0660, -1.4907]],\n",
       "                \n",
       "                        [[ 0.2030, -1.2996,  1.4354,  0.0244],\n",
       "                         [-0.6007, -1.3824,  0.8323,  0.8619],\n",
       "                         [-1.0431,  1.1787,  0.0660, -1.4907]]])"
      ]
     },
     "execution_count": 20,
     "metadata": {},
     "output_type": "execute_result"
    }
   ],
   "source": [
    "t_stack = FastTreeValue.func(subside=True)(torch.stack)\n",
    "\n",
    "t_stack(trees)"
   ]
  },
  {
   "cell_type": "code",
   "execution_count": 21,
   "id": "f8b3f415",
   "metadata": {
    "execution": {
     "iopub.execute_input": "2023-03-16T08:56:47.783143Z",
     "iopub.status.busy": "2023-03-16T08:56:47.782581Z",
     "iopub.status.idle": "2023-03-16T08:56:50.473054Z",
     "shell.execute_reply": "2023-03-16T08:56:50.472330Z"
    }
   },
   "outputs": [
    {
     "name": "stdout",
     "output_type": "stream",
     "text": [
      "33.1 µs ± 61.6 ns per loop (mean ± std. dev. of 7 runs, 10,000 loops each)\n"
     ]
    }
   ],
   "source": [
    "%timeit t_stack(trees)"
   ]
  },
  {
   "cell_type": "code",
   "execution_count": 22,
   "id": "94b56771",
   "metadata": {
    "execution": {
     "iopub.execute_input": "2023-03-16T08:56:50.476189Z",
     "iopub.status.busy": "2023-03-16T08:56:50.475824Z",
     "iopub.status.idle": "2023-03-16T08:56:50.483233Z",
     "shell.execute_reply": "2023-03-16T08:56:50.482586Z"
    }
   },
   "outputs": [
    {
     "data": {
      "text/plain": [
       "<FastTreeValue 0x7ff15f3f7160>\n",
       "├── 'a' --> tensor([[-1.0982, -1.0263, -1.1308],\n",
       "│                   [ 0.1781,  0.5325, -0.3560],\n",
       "│                   [-1.0982, -1.0263, -1.1308],\n",
       "│                   [ 0.1781,  0.5325, -0.3560],\n",
       "│                   [-1.0982, -1.0263, -1.1308],\n",
       "│                   [ 0.1781,  0.5325, -0.3560],\n",
       "│                   [-1.0982, -1.0263, -1.1308],\n",
       "│                   [ 0.1781,  0.5325, -0.3560],\n",
       "│                   [-1.0982, -1.0263, -1.1308],\n",
       "│                   [ 0.1781,  0.5325, -0.3560],\n",
       "│                   [-1.0982, -1.0263, -1.1308],\n",
       "│                   [ 0.1781,  0.5325, -0.3560],\n",
       "│                   [-1.0982, -1.0263, -1.1308],\n",
       "│                   [ 0.1781,  0.5325, -0.3560],\n",
       "│                   [-1.0982, -1.0263, -1.1308],\n",
       "│                   [ 0.1781,  0.5325, -0.3560]])\n",
       "└── 'x' --> <FastTreeValue 0x7ff15f3f7b50>\n",
       "    └── 'c' --> tensor([[ 0.2030, -1.2996,  1.4354,  0.0244],\n",
       "                        [-0.6007, -1.3824,  0.8323,  0.8619],\n",
       "                        [-1.0431,  1.1787,  0.0660, -1.4907],\n",
       "                        [ 0.2030, -1.2996,  1.4354,  0.0244],\n",
       "                        [-0.6007, -1.3824,  0.8323,  0.8619],\n",
       "                        [-1.0431,  1.1787,  0.0660, -1.4907],\n",
       "                        [ 0.2030, -1.2996,  1.4354,  0.0244],\n",
       "                        [-0.6007, -1.3824,  0.8323,  0.8619],\n",
       "                        [-1.0431,  1.1787,  0.0660, -1.4907],\n",
       "                        [ 0.2030, -1.2996,  1.4354,  0.0244],\n",
       "                        [-0.6007, -1.3824,  0.8323,  0.8619],\n",
       "                        [-1.0431,  1.1787,  0.0660, -1.4907],\n",
       "                        [ 0.2030, -1.2996,  1.4354,  0.0244],\n",
       "                        [-0.6007, -1.3824,  0.8323,  0.8619],\n",
       "                        [-1.0431,  1.1787,  0.0660, -1.4907],\n",
       "                        [ 0.2030, -1.2996,  1.4354,  0.0244],\n",
       "                        [-0.6007, -1.3824,  0.8323,  0.8619],\n",
       "                        [-1.0431,  1.1787,  0.0660, -1.4907],\n",
       "                        [ 0.2030, -1.2996,  1.4354,  0.0244],\n",
       "                        [-0.6007, -1.3824,  0.8323,  0.8619],\n",
       "                        [-1.0431,  1.1787,  0.0660, -1.4907],\n",
       "                        [ 0.2030, -1.2996,  1.4354,  0.0244],\n",
       "                        [-0.6007, -1.3824,  0.8323,  0.8619],\n",
       "                        [-1.0431,  1.1787,  0.0660, -1.4907]])"
      ]
     },
     "execution_count": 22,
     "metadata": {},
     "output_type": "execute_result"
    }
   ],
   "source": [
    "t_cat = FastTreeValue.func(subside=True)(torch.cat)\n",
    "\n",
    "t_cat(trees)"
   ]
  },
  {
   "cell_type": "code",
   "execution_count": 23,
   "id": "5e9c06a6",
   "metadata": {
    "execution": {
     "iopub.execute_input": "2023-03-16T08:56:50.485771Z",
     "iopub.status.busy": "2023-03-16T08:56:50.485426Z",
     "iopub.status.idle": "2023-03-16T08:56:52.985135Z",
     "shell.execute_reply": "2023-03-16T08:56:52.984425Z"
    }
   },
   "outputs": [
    {
     "name": "stdout",
     "output_type": "stream",
     "text": [
      "30.8 µs ± 34.1 ns per loop (mean ± std. dev. of 7 runs, 10,000 loops each)\n"
     ]
    }
   ],
   "source": [
    "%timeit t_cat(trees)"
   ]
  },
  {
   "cell_type": "code",
   "execution_count": 24,
   "id": "a3ab5c8f",
   "metadata": {
    "execution": {
     "iopub.execute_input": "2023-03-16T08:56:52.988430Z",
     "iopub.status.busy": "2023-03-16T08:56:52.987922Z",
     "iopub.status.idle": "2023-03-16T08:56:58.505550Z",
     "shell.execute_reply": "2023-03-16T08:56:58.504648Z"
    }
   },
   "outputs": [
    {
     "name": "stdout",
     "output_type": "stream",
     "text": [
      "67.9 µs ± 203 ns per loop (mean ± std. dev. of 7 runs, 10,000 loops each)\n"
     ]
    }
   ],
   "source": [
    "t_split = FastTreeValue.func(rise=True)(torch.split)\n",
    "tree = FastTreeValue({\n",
    "    'obs': torch.randn(8, 4, 84, 84),\n",
    "    'action': torch.randint(0, 6, size=(8, 1,)),\n",
    "    'reward': torch.rand(8, 1),\n",
    "})\n",
    "\n",
    "%timeit t_split(tree, 1)"
   ]
  },
  {
   "cell_type": "markdown",
   "id": "31c3ec0b",
   "metadata": {},
   "source": [
    "### Performance of Tianshou Batch"
   ]
  },
  {
   "cell_type": "code",
   "execution_count": 25,
   "id": "9ead828a",
   "metadata": {
    "execution": {
     "iopub.execute_input": "2023-03-16T08:56:58.508773Z",
     "iopub.status.busy": "2023-03-16T08:56:58.508247Z",
     "iopub.status.idle": "2023-03-16T08:56:58.516468Z",
     "shell.execute_reply": "2023-03-16T08:56:58.515882Z"
    }
   },
   "outputs": [
    {
     "data": {
      "text/plain": [
       "Batch(\n",
       "    x: Batch(\n",
       "           c: tensor([[[ 0.2030, -1.2996,  1.4354,  0.0244],\n",
       "                       [-0.6007, -1.3824,  0.8323,  0.8619],\n",
       "                       [-1.0431,  1.1787,  0.0660, -1.4907]],\n",
       "              \n",
       "                      [[ 0.2030, -1.2996,  1.4354,  0.0244],\n",
       "                       [-0.6007, -1.3824,  0.8323,  0.8619],\n",
       "                       [-1.0431,  1.1787,  0.0660, -1.4907]],\n",
       "              \n",
       "                      [[ 0.2030, -1.2996,  1.4354,  0.0244],\n",
       "                       [-0.6007, -1.3824,  0.8323,  0.8619],\n",
       "                       [-1.0431,  1.1787,  0.0660, -1.4907]],\n",
       "              \n",
       "                      [[ 0.2030, -1.2996,  1.4354,  0.0244],\n",
       "                       [-0.6007, -1.3824,  0.8323,  0.8619],\n",
       "                       [-1.0431,  1.1787,  0.0660, -1.4907]],\n",
       "              \n",
       "                      [[ 0.2030, -1.2996,  1.4354,  0.0244],\n",
       "                       [-0.6007, -1.3824,  0.8323,  0.8619],\n",
       "                       [-1.0431,  1.1787,  0.0660, -1.4907]],\n",
       "              \n",
       "                      [[ 0.2030, -1.2996,  1.4354,  0.0244],\n",
       "                       [-0.6007, -1.3824,  0.8323,  0.8619],\n",
       "                       [-1.0431,  1.1787,  0.0660, -1.4907]],\n",
       "              \n",
       "                      [[ 0.2030, -1.2996,  1.4354,  0.0244],\n",
       "                       [-0.6007, -1.3824,  0.8323,  0.8619],\n",
       "                       [-1.0431,  1.1787,  0.0660, -1.4907]],\n",
       "              \n",
       "                      [[ 0.2030, -1.2996,  1.4354,  0.0244],\n",
       "                       [-0.6007, -1.3824,  0.8323,  0.8619],\n",
       "                       [-1.0431,  1.1787,  0.0660, -1.4907]]]),\n",
       "       ),\n",
       "    a: tensor([[[-1.0982, -1.0263, -1.1308],\n",
       "                [ 0.1781,  0.5325, -0.3560]],\n",
       "       \n",
       "               [[-1.0982, -1.0263, -1.1308],\n",
       "                [ 0.1781,  0.5325, -0.3560]],\n",
       "       \n",
       "               [[-1.0982, -1.0263, -1.1308],\n",
       "                [ 0.1781,  0.5325, -0.3560]],\n",
       "       \n",
       "               [[-1.0982, -1.0263, -1.1308],\n",
       "                [ 0.1781,  0.5325, -0.3560]],\n",
       "       \n",
       "               [[-1.0982, -1.0263, -1.1308],\n",
       "                [ 0.1781,  0.5325, -0.3560]],\n",
       "       \n",
       "               [[-1.0982, -1.0263, -1.1308],\n",
       "                [ 0.1781,  0.5325, -0.3560]],\n",
       "       \n",
       "               [[-1.0982, -1.0263, -1.1308],\n",
       "                [ 0.1781,  0.5325, -0.3560]],\n",
       "       \n",
       "               [[-1.0982, -1.0263, -1.1308],\n",
       "                [ 0.1781,  0.5325, -0.3560]]]),\n",
       ")"
      ]
     },
     "execution_count": 25,
     "metadata": {},
     "output_type": "execute_result"
    }
   ],
   "source": [
    "batches = [Batch(**_TREE_DATA_2) for _ in range(8)]\n",
    "\n",
    "Batch.stack(batches)"
   ]
  },
  {
   "cell_type": "code",
   "execution_count": 26,
   "id": "ec9037a3",
   "metadata": {
    "execution": {
     "iopub.execute_input": "2023-03-16T08:56:58.519678Z",
     "iopub.status.busy": "2023-03-16T08:56:58.519166Z",
     "iopub.status.idle": "2023-03-16T08:57:04.915131Z",
     "shell.execute_reply": "2023-03-16T08:57:04.914398Z"
    }
   },
   "outputs": [
    {
     "name": "stdout",
     "output_type": "stream",
     "text": [
      "78.7 µs ± 59.3 ns per loop (mean ± std. dev. of 7 runs, 10,000 loops each)\n"
     ]
    }
   ],
   "source": [
    "%timeit Batch.stack(batches)"
   ]
  },
  {
   "cell_type": "code",
   "execution_count": 27,
   "id": "cb8ab77e",
   "metadata": {
    "execution": {
     "iopub.execute_input": "2023-03-16T08:57:04.918516Z",
     "iopub.status.busy": "2023-03-16T08:57:04.917957Z",
     "iopub.status.idle": "2023-03-16T08:57:04.925831Z",
     "shell.execute_reply": "2023-03-16T08:57:04.925223Z"
    }
   },
   "outputs": [
    {
     "data": {
      "text/plain": [
       "Batch(\n",
       "    x: Batch(\n",
       "           c: tensor([[ 0.2030, -1.2996,  1.4354,  0.0244],\n",
       "                      [-0.6007, -1.3824,  0.8323,  0.8619],\n",
       "                      [-1.0431,  1.1787,  0.0660, -1.4907],\n",
       "                      [ 0.2030, -1.2996,  1.4354,  0.0244],\n",
       "                      [-0.6007, -1.3824,  0.8323,  0.8619],\n",
       "                      [-1.0431,  1.1787,  0.0660, -1.4907],\n",
       "                      [ 0.2030, -1.2996,  1.4354,  0.0244],\n",
       "                      [-0.6007, -1.3824,  0.8323,  0.8619],\n",
       "                      [-1.0431,  1.1787,  0.0660, -1.4907],\n",
       "                      [ 0.2030, -1.2996,  1.4354,  0.0244],\n",
       "                      [-0.6007, -1.3824,  0.8323,  0.8619],\n",
       "                      [-1.0431,  1.1787,  0.0660, -1.4907],\n",
       "                      [ 0.2030, -1.2996,  1.4354,  0.0244],\n",
       "                      [-0.6007, -1.3824,  0.8323,  0.8619],\n",
       "                      [-1.0431,  1.1787,  0.0660, -1.4907],\n",
       "                      [ 0.2030, -1.2996,  1.4354,  0.0244],\n",
       "                      [-0.6007, -1.3824,  0.8323,  0.8619],\n",
       "                      [-1.0431,  1.1787,  0.0660, -1.4907],\n",
       "                      [ 0.2030, -1.2996,  1.4354,  0.0244],\n",
       "                      [-0.6007, -1.3824,  0.8323,  0.8619],\n",
       "                      [-1.0431,  1.1787,  0.0660, -1.4907],\n",
       "                      [ 0.2030, -1.2996,  1.4354,  0.0244],\n",
       "                      [-0.6007, -1.3824,  0.8323,  0.8619],\n",
       "                      [-1.0431,  1.1787,  0.0660, -1.4907]]),\n",
       "       ),\n",
       "    a: tensor([[-1.0982, -1.0263, -1.1308],\n",
       "               [ 0.1781,  0.5325, -0.3560],\n",
       "               [-1.0982, -1.0263, -1.1308],\n",
       "               [ 0.1781,  0.5325, -0.3560],\n",
       "               [-1.0982, -1.0263, -1.1308],\n",
       "               [ 0.1781,  0.5325, -0.3560],\n",
       "               [-1.0982, -1.0263, -1.1308],\n",
       "               [ 0.1781,  0.5325, -0.3560],\n",
       "               [-1.0982, -1.0263, -1.1308],\n",
       "               [ 0.1781,  0.5325, -0.3560],\n",
       "               [-1.0982, -1.0263, -1.1308],\n",
       "               [ 0.1781,  0.5325, -0.3560],\n",
       "               [-1.0982, -1.0263, -1.1308],\n",
       "               [ 0.1781,  0.5325, -0.3560],\n",
       "               [-1.0982, -1.0263, -1.1308],\n",
       "               [ 0.1781,  0.5325, -0.3560]]),\n",
       ")"
      ]
     },
     "execution_count": 27,
     "metadata": {},
     "output_type": "execute_result"
    }
   ],
   "source": [
    "Batch.cat(batches)"
   ]
  },
  {
   "cell_type": "code",
   "execution_count": 28,
   "id": "18dfb045",
   "metadata": {
    "execution": {
     "iopub.execute_input": "2023-03-16T08:57:04.928660Z",
     "iopub.status.busy": "2023-03-16T08:57:04.928075Z",
     "iopub.status.idle": "2023-03-16T08:57:16.822209Z",
     "shell.execute_reply": "2023-03-16T08:57:16.821462Z"
    }
   },
   "outputs": [
    {
     "name": "stdout",
     "output_type": "stream",
     "text": [
      "147 µs ± 161 ns per loop (mean ± std. dev. of 7 runs, 10,000 loops each)\n"
     ]
    }
   ],
   "source": [
    "%timeit Batch.cat(batches)"
   ]
  },
  {
   "cell_type": "code",
   "execution_count": 29,
   "id": "c6688e51",
   "metadata": {
    "execution": {
     "iopub.execute_input": "2023-03-16T08:57:16.824999Z",
     "iopub.status.busy": "2023-03-16T08:57:16.824569Z",
     "iopub.status.idle": "2023-03-16T08:57:19.473631Z",
     "shell.execute_reply": "2023-03-16T08:57:19.472943Z"
    }
   },
   "outputs": [
    {
     "name": "stdout",
     "output_type": "stream",
     "text": [
      "324 µs ± 1.2 µs per loop (mean ± std. dev. of 7 runs, 1,000 loops each)\n"
     ]
    }
   ],
   "source": [
    "batch = Batch({\n",
    "    'obs': torch.randn(8, 4, 84, 84),\n",
    "    'action': torch.randint(0, 6, size=(8, 1,)),\n",
    "    'reward': torch.rand(8, 1)}\n",
    ")\n",
    "\n",
    "%timeit list(Batch.split(batch, 1, shuffle=False, merge_last=True))"
   ]
  },
  {
   "cell_type": "code",
   "execution_count": null,
   "id": "2539fbd9",
   "metadata": {},
   "outputs": [],
   "source": []
  }
 ],
 "metadata": {
  "kernelspec": {
   "display_name": "Python 3 (ipykernel)",
   "language": "python",
   "name": "python3"
  },
  "language_info": {
   "codemirror_mode": {
    "name": "ipython",
    "version": 3
   },
   "file_extension": ".py",
   "mimetype": "text/x-python",
   "name": "python",
   "nbconvert_exporter": "python",
   "pygments_lexer": "ipython3",
   "version": "3.8.16"
  }
 },
 "nbformat": 4,
 "nbformat_minor": 5
}
