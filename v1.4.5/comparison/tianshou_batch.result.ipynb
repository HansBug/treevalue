{
 "cells": [
  {
   "cell_type": "markdown",
   "id": "9d39d946",
   "metadata": {},
   "source": [
    "# Comparison Between TreeValue and Tianshou Batch"
   ]
  },
  {
   "cell_type": "markdown",
   "id": "3c6db2d4",
   "metadata": {},
   "source": [
    "In this section, we will take a look at the feature and performance of the [Tianshou Batch](https://github.com/thu-ml/tianshou) library, which is developed by Tsinghua Machine Learning Group."
   ]
  },
  {
   "cell_type": "markdown",
   "id": "069361b0",
   "metadata": {},
   "source": [
    "Before starting the comparison, let us define some thing."
   ]
  },
  {
   "cell_type": "code",
   "execution_count": 1,
   "id": "06fc8d26",
   "metadata": {
    "execution": {
     "iopub.execute_input": "2023-02-25T18:08:03.253586Z",
     "iopub.status.busy": "2023-02-25T18:08:03.253274Z",
     "iopub.status.idle": "2023-02-25T18:08:04.168115Z",
     "shell.execute_reply": "2023-02-25T18:08:04.167450Z"
    }
   },
   "outputs": [
    {
     "name": "stderr",
     "output_type": "stream",
     "text": [
      "/opt/hostedtoolcache/Python/3.8.16/x64/lib/python3.8/site-packages/tqdm/auto.py:22: TqdmWarning: IProgress not found. Please update jupyter and ipywidgets. See https://ipywidgets.readthedocs.io/en/stable/user_install.html\n",
      "  from .autonotebook import tqdm as notebook_tqdm\n"
     ]
    }
   ],
   "source": [
    "import torch \n",
    "\n",
    "_TREE_DATA_1 = {'a': 1, 'b': 2, 'x': {'c': 3, 'd': 4}}\n",
    "_TREE_DATA_2 = {\n",
    "    'a': torch.randn(2, 3), \n",
    "    'x': {\n",
    "        'c': torch.randn(3, 4)\n",
    "    },\n",
    "}\n",
    "_TREE_DATA_3 = {\n",
    "    'obs': torch.randn(4, 84, 84),\n",
    "    'action': torch.randint(0, 6, size=(1,)),\n",
    "    'reward': torch.rand(1),\n",
    "}"
   ]
  },
  {
   "cell_type": "markdown",
   "id": "83461b25",
   "metadata": {},
   "source": [
    "## Read and Write Operation"
   ]
  },
  {
   "cell_type": "markdown",
   "id": "067b3f73",
   "metadata": {},
   "source": [
    "Reading and writing are the two most common operations in the tree data structure based on the data model (TreeValue and Tianshou Batch both belong to this type), so this section will compare the reading and writing performance of these two libraries."
   ]
  },
  {
   "cell_type": "markdown",
   "id": "5d09a5b7",
   "metadata": {},
   "source": [
    "### TreeValue's Get and Set"
   ]
  },
  {
   "cell_type": "code",
   "execution_count": 2,
   "id": "9519c4bb",
   "metadata": {
    "execution": {
     "iopub.execute_input": "2023-02-25T18:08:04.171739Z",
     "iopub.status.busy": "2023-02-25T18:08:04.171100Z",
     "iopub.status.idle": "2023-02-25T18:08:04.203722Z",
     "shell.execute_reply": "2023-02-25T18:08:04.203125Z"
    }
   },
   "outputs": [],
   "source": [
    "from treevalue import FastTreeValue\n",
    "\n",
    "t = FastTreeValue(_TREE_DATA_2)"
   ]
  },
  {
   "cell_type": "code",
   "execution_count": 3,
   "id": "11c37677",
   "metadata": {
    "execution": {
     "iopub.execute_input": "2023-02-25T18:08:04.206310Z",
     "iopub.status.busy": "2023-02-25T18:08:04.205892Z",
     "iopub.status.idle": "2023-02-25T18:08:04.215453Z",
     "shell.execute_reply": "2023-02-25T18:08:04.214554Z"
    }
   },
   "outputs": [
    {
     "data": {
      "text/plain": [
       "<FastTreeValue 0x7f9a34579e80>\n",
       "├── 'a' --> tensor([[ 0.2312,  0.2358, -1.8397],\n",
       "│                   [ 0.2122, -0.4542, -1.0658]])\n",
       "└── 'x' --> <FastTreeValue 0x7f9a34579f70>\n",
       "    └── 'c' --> tensor([[ 0.7214, -0.1884,  1.3060, -0.3688],\n",
       "                        [ 2.3987, -1.1065, -0.6570,  0.1796],\n",
       "                        [ 0.3553, -0.7181,  1.2098, -1.3395]])"
      ]
     },
     "execution_count": 3,
     "metadata": {},
     "output_type": "execute_result"
    }
   ],
   "source": [
    "t"
   ]
  },
  {
   "cell_type": "code",
   "execution_count": 4,
   "id": "fd70b0b9",
   "metadata": {
    "execution": {
     "iopub.execute_input": "2023-02-25T18:08:04.218200Z",
     "iopub.status.busy": "2023-02-25T18:08:04.217593Z",
     "iopub.status.idle": "2023-02-25T18:08:04.222400Z",
     "shell.execute_reply": "2023-02-25T18:08:04.221777Z"
    }
   },
   "outputs": [
    {
     "data": {
      "text/plain": [
       "tensor([[ 0.2312,  0.2358, -1.8397],\n",
       "        [ 0.2122, -0.4542, -1.0658]])"
      ]
     },
     "execution_count": 4,
     "metadata": {},
     "output_type": "execute_result"
    }
   ],
   "source": [
    "t.a"
   ]
  },
  {
   "cell_type": "code",
   "execution_count": 5,
   "id": "c18197bd",
   "metadata": {
    "execution": {
     "iopub.execute_input": "2023-02-25T18:08:04.224731Z",
     "iopub.status.busy": "2023-02-25T18:08:04.224395Z",
     "iopub.status.idle": "2023-02-25T18:08:09.332992Z",
     "shell.execute_reply": "2023-02-25T18:08:09.332263Z"
    }
   },
   "outputs": [
    {
     "name": "stdout",
     "output_type": "stream",
     "text": [
      "63.4 ns ± 0.0706 ns per loop (mean ± std. dev. of 7 runs, 10,000,000 loops each)\n"
     ]
    }
   ],
   "source": [
    "%timeit t.a"
   ]
  },
  {
   "cell_type": "code",
   "execution_count": 6,
   "id": "bd52f867",
   "metadata": {
    "execution": {
     "iopub.execute_input": "2023-02-25T18:08:09.335963Z",
     "iopub.status.busy": "2023-02-25T18:08:09.335457Z",
     "iopub.status.idle": "2023-02-25T18:08:09.341986Z",
     "shell.execute_reply": "2023-02-25T18:08:09.341395Z"
    }
   },
   "outputs": [
    {
     "data": {
      "text/plain": [
       "<FastTreeValue 0x7f9a34579e80>\n",
       "├── 'a' --> tensor([[-0.6588, -0.1879, -1.5126],\n",
       "│                   [-0.3961,  0.1859,  0.3920]])\n",
       "└── 'x' --> <FastTreeValue 0x7f9a34579f70>\n",
       "    └── 'c' --> tensor([[ 0.7214, -0.1884,  1.3060, -0.3688],\n",
       "                        [ 2.3987, -1.1065, -0.6570,  0.1796],\n",
       "                        [ 0.3553, -0.7181,  1.2098, -1.3395]])"
      ]
     },
     "execution_count": 6,
     "metadata": {},
     "output_type": "execute_result"
    }
   ],
   "source": [
    "new_value = torch.randn(2, 3)\n",
    "t.a = new_value\n",
    "\n",
    "t"
   ]
  },
  {
   "cell_type": "code",
   "execution_count": 7,
   "id": "bbe04d1c",
   "metadata": {
    "execution": {
     "iopub.execute_input": "2023-02-25T18:08:09.344529Z",
     "iopub.status.busy": "2023-02-25T18:08:09.344198Z",
     "iopub.status.idle": "2023-02-25T18:08:14.483573Z",
     "shell.execute_reply": "2023-02-25T18:08:14.482904Z"
    }
   },
   "outputs": [
    {
     "name": "stdout",
     "output_type": "stream",
     "text": [
      "63.3 ns ± 0.0189 ns per loop (mean ± std. dev. of 7 runs, 10,000,000 loops each)\n"
     ]
    }
   ],
   "source": [
    "%timeit t.a = new_value"
   ]
  },
  {
   "cell_type": "markdown",
   "id": "48c49731",
   "metadata": {},
   "source": [
    "### Tianshou Batch's Get and Set"
   ]
  },
  {
   "cell_type": "code",
   "execution_count": 8,
   "id": "f1bb14c1",
   "metadata": {
    "execution": {
     "iopub.execute_input": "2023-02-25T18:08:14.486888Z",
     "iopub.status.busy": "2023-02-25T18:08:14.486311Z",
     "iopub.status.idle": "2023-02-25T18:08:14.824391Z",
     "shell.execute_reply": "2023-02-25T18:08:14.823679Z"
    }
   },
   "outputs": [],
   "source": [
    "from tianshou.data import Batch\n",
    "\n",
    "b = Batch(**_TREE_DATA_2)"
   ]
  },
  {
   "cell_type": "code",
   "execution_count": 9,
   "id": "cb0777c3",
   "metadata": {
    "execution": {
     "iopub.execute_input": "2023-02-25T18:08:14.827972Z",
     "iopub.status.busy": "2023-02-25T18:08:14.827240Z",
     "iopub.status.idle": "2023-02-25T18:08:14.832783Z",
     "shell.execute_reply": "2023-02-25T18:08:14.832161Z"
    }
   },
   "outputs": [
    {
     "data": {
      "text/plain": [
       "Batch(\n",
       "    a: tensor([[ 0.2312,  0.2358, -1.8397],\n",
       "               [ 0.2122, -0.4542, -1.0658]]),\n",
       "    x: Batch(\n",
       "           c: tensor([[ 0.7214, -0.1884,  1.3060, -0.3688],\n",
       "                      [ 2.3987, -1.1065, -0.6570,  0.1796],\n",
       "                      [ 0.3553, -0.7181,  1.2098, -1.3395]]),\n",
       "       ),\n",
       ")"
      ]
     },
     "execution_count": 9,
     "metadata": {},
     "output_type": "execute_result"
    }
   ],
   "source": [
    "b"
   ]
  },
  {
   "cell_type": "code",
   "execution_count": 10,
   "id": "43ef8ea3",
   "metadata": {
    "execution": {
     "iopub.execute_input": "2023-02-25T18:08:14.835898Z",
     "iopub.status.busy": "2023-02-25T18:08:14.835269Z",
     "iopub.status.idle": "2023-02-25T18:08:14.840093Z",
     "shell.execute_reply": "2023-02-25T18:08:14.839488Z"
    }
   },
   "outputs": [
    {
     "data": {
      "text/plain": [
       "tensor([[ 0.2312,  0.2358, -1.8397],\n",
       "        [ 0.2122, -0.4542, -1.0658]])"
      ]
     },
     "execution_count": 10,
     "metadata": {},
     "output_type": "execute_result"
    }
   ],
   "source": [
    "b.a"
   ]
  },
  {
   "cell_type": "code",
   "execution_count": 11,
   "id": "b785ab72",
   "metadata": {
    "execution": {
     "iopub.execute_input": "2023-02-25T18:08:14.842753Z",
     "iopub.status.busy": "2023-02-25T18:08:14.842250Z",
     "iopub.status.idle": "2023-02-25T18:08:19.656942Z",
     "shell.execute_reply": "2023-02-25T18:08:19.656215Z"
    }
   },
   "outputs": [
    {
     "name": "stdout",
     "output_type": "stream",
     "text": [
      "59.9 ns ± 0.0319 ns per loop (mean ± std. dev. of 7 runs, 10,000,000 loops each)\n"
     ]
    }
   ],
   "source": [
    "%timeit b.a"
   ]
  },
  {
   "cell_type": "code",
   "execution_count": 12,
   "id": "ad54dc69",
   "metadata": {
    "execution": {
     "iopub.execute_input": "2023-02-25T18:08:19.659883Z",
     "iopub.status.busy": "2023-02-25T18:08:19.659353Z",
     "iopub.status.idle": "2023-02-25T18:08:19.665706Z",
     "shell.execute_reply": "2023-02-25T18:08:19.665121Z"
    }
   },
   "outputs": [
    {
     "data": {
      "text/plain": [
       "Batch(\n",
       "    a: tensor([[-0.3703, -0.5983,  1.5281],\n",
       "               [ 0.2532, -0.1294,  0.3268]]),\n",
       "    x: Batch(\n",
       "           c: tensor([[ 0.7214, -0.1884,  1.3060, -0.3688],\n",
       "                      [ 2.3987, -1.1065, -0.6570,  0.1796],\n",
       "                      [ 0.3553, -0.7181,  1.2098, -1.3395]]),\n",
       "       ),\n",
       ")"
      ]
     },
     "execution_count": 12,
     "metadata": {},
     "output_type": "execute_result"
    }
   ],
   "source": [
    "new_value = torch.randn(2, 3)\n",
    "b.a = new_value\n",
    "\n",
    "b"
   ]
  },
  {
   "cell_type": "code",
   "execution_count": 13,
   "id": "29b1d0bf",
   "metadata": {
    "execution": {
     "iopub.execute_input": "2023-02-25T18:08:19.668097Z",
     "iopub.status.busy": "2023-02-25T18:08:19.667764Z",
     "iopub.status.idle": "2023-02-25T18:08:23.610764Z",
     "shell.execute_reply": "2023-02-25T18:08:23.610026Z"
    }
   },
   "outputs": [
    {
     "name": "stdout",
     "output_type": "stream",
     "text": [
      "485 ns ± 0.344 ns per loop (mean ± std. dev. of 7 runs, 1,000,000 loops each)\n"
     ]
    }
   ],
   "source": [
    "%timeit b.a = new_value"
   ]
  },
  {
   "cell_type": "markdown",
   "id": "b61ad1d0",
   "metadata": {},
   "source": [
    "## Initialization"
   ]
  },
  {
   "cell_type": "markdown",
   "id": "d70f0d54",
   "metadata": {},
   "source": [
    "### TreeValue's Initialization"
   ]
  },
  {
   "cell_type": "code",
   "execution_count": 14,
   "id": "d32a679b",
   "metadata": {
    "execution": {
     "iopub.execute_input": "2023-02-25T18:08:23.613932Z",
     "iopub.status.busy": "2023-02-25T18:08:23.613350Z",
     "iopub.status.idle": "2023-02-25T18:08:30.419864Z",
     "shell.execute_reply": "2023-02-25T18:08:30.419154Z"
    }
   },
   "outputs": [
    {
     "name": "stdout",
     "output_type": "stream",
     "text": [
      "839 ns ± 3.34 ns per loop (mean ± std. dev. of 7 runs, 1,000,000 loops each)\n"
     ]
    }
   ],
   "source": [
    "%timeit FastTreeValue(_TREE_DATA_1)"
   ]
  },
  {
   "cell_type": "markdown",
   "id": "24f3707b",
   "metadata": {},
   "source": [
    "### Tianshou Batch's Initialization"
   ]
  },
  {
   "cell_type": "code",
   "execution_count": 15,
   "id": "ac3958df",
   "metadata": {
    "execution": {
     "iopub.execute_input": "2023-02-25T18:08:30.423006Z",
     "iopub.status.busy": "2023-02-25T18:08:30.422649Z",
     "iopub.status.idle": "2023-02-25T18:08:39.772687Z",
     "shell.execute_reply": "2023-02-25T18:08:39.771973Z"
    }
   },
   "outputs": [
    {
     "name": "stdout",
     "output_type": "stream",
     "text": [
      "11.5 µs ± 21.4 ns per loop (mean ± std. dev. of 7 runs, 100,000 loops each)\n"
     ]
    }
   ],
   "source": [
    "%timeit Batch(**_TREE_DATA_1)"
   ]
  },
  {
   "cell_type": "markdown",
   "id": "1ab82e2d",
   "metadata": {},
   "source": [
    "## Deep Copy Operation"
   ]
  },
  {
   "cell_type": "code",
   "execution_count": 16,
   "id": "210a9442",
   "metadata": {
    "execution": {
     "iopub.execute_input": "2023-02-25T18:08:39.775991Z",
     "iopub.status.busy": "2023-02-25T18:08:39.775495Z",
     "iopub.status.idle": "2023-02-25T18:08:39.779462Z",
     "shell.execute_reply": "2023-02-25T18:08:39.778876Z"
    }
   },
   "outputs": [],
   "source": [
    "import copy"
   ]
  },
  {
   "cell_type": "markdown",
   "id": "5a736274",
   "metadata": {},
   "source": [
    "### Deep Copy of TreeValue"
   ]
  },
  {
   "cell_type": "code",
   "execution_count": 17,
   "id": "f9bcadd6",
   "metadata": {
    "execution": {
     "iopub.execute_input": "2023-02-25T18:08:39.782421Z",
     "iopub.status.busy": "2023-02-25T18:08:39.781913Z",
     "iopub.status.idle": "2023-02-25T18:08:50.972599Z",
     "shell.execute_reply": "2023-02-25T18:08:50.972047Z"
    }
   },
   "outputs": [
    {
     "name": "stdout",
     "output_type": "stream",
     "text": [
      "138 µs ± 182 ns per loop (mean ± std. dev. of 7 runs, 10,000 loops each)\n"
     ]
    }
   ],
   "source": [
    "t3 = FastTreeValue(_TREE_DATA_3)\n",
    "%timeit copy.deepcopy(t3)"
   ]
  },
  {
   "cell_type": "markdown",
   "id": "bf8be7ea",
   "metadata": {},
   "source": [
    "### Deep Copy of Tianshou Batch"
   ]
  },
  {
   "cell_type": "code",
   "execution_count": 18,
   "id": "91998e6f",
   "metadata": {
    "execution": {
     "iopub.execute_input": "2023-02-25T18:08:50.975572Z",
     "iopub.status.busy": "2023-02-25T18:08:50.974973Z",
     "iopub.status.idle": "2023-02-25T18:09:02.291308Z",
     "shell.execute_reply": "2023-02-25T18:09:02.290634Z"
    }
   },
   "outputs": [
    {
     "name": "stdout",
     "output_type": "stream",
     "text": [
      "140 µs ± 576 ns per loop (mean ± std. dev. of 7 runs, 10,000 loops each)\n"
     ]
    }
   ],
   "source": [
    "b3 = Batch(**_TREE_DATA_3)\n",
    "%timeit copy.deepcopy(b3)"
   ]
  },
  {
   "cell_type": "markdown",
   "id": "223162fb",
   "metadata": {},
   "source": [
    "## Stack, Concat and Split Operation"
   ]
  },
  {
   "cell_type": "markdown",
   "id": "85fa4a73",
   "metadata": {},
   "source": [
    "### Performance of TreeValue"
   ]
  },
  {
   "cell_type": "code",
   "execution_count": 19,
   "id": "a0c2b697",
   "metadata": {
    "execution": {
     "iopub.execute_input": "2023-02-25T18:09:02.294546Z",
     "iopub.status.busy": "2023-02-25T18:09:02.294315Z",
     "iopub.status.idle": "2023-02-25T18:09:02.298168Z",
     "shell.execute_reply": "2023-02-25T18:09:02.297592Z"
    }
   },
   "outputs": [],
   "source": [
    "trees = [FastTreeValue(_TREE_DATA_2) for _ in range(8)]"
   ]
  },
  {
   "cell_type": "code",
   "execution_count": 20,
   "id": "017ea5a5",
   "metadata": {
    "execution": {
     "iopub.execute_input": "2023-02-25T18:09:02.300819Z",
     "iopub.status.busy": "2023-02-25T18:09:02.300593Z",
     "iopub.status.idle": "2023-02-25T18:09:02.309222Z",
     "shell.execute_reply": "2023-02-25T18:09:02.308624Z"
    }
   },
   "outputs": [
    {
     "data": {
      "text/plain": [
       "<FastTreeValue 0x7f998fe95fd0>\n",
       "├── 'a' --> tensor([[[ 0.2312,  0.2358, -1.8397],\n",
       "│                    [ 0.2122, -0.4542, -1.0658]],\n",
       "│           \n",
       "│                   [[ 0.2312,  0.2358, -1.8397],\n",
       "│                    [ 0.2122, -0.4542, -1.0658]],\n",
       "│           \n",
       "│                   [[ 0.2312,  0.2358, -1.8397],\n",
       "│                    [ 0.2122, -0.4542, -1.0658]],\n",
       "│           \n",
       "│                   [[ 0.2312,  0.2358, -1.8397],\n",
       "│                    [ 0.2122, -0.4542, -1.0658]],\n",
       "│           \n",
       "│                   [[ 0.2312,  0.2358, -1.8397],\n",
       "│                    [ 0.2122, -0.4542, -1.0658]],\n",
       "│           \n",
       "│                   [[ 0.2312,  0.2358, -1.8397],\n",
       "│                    [ 0.2122, -0.4542, -1.0658]],\n",
       "│           \n",
       "│                   [[ 0.2312,  0.2358, -1.8397],\n",
       "│                    [ 0.2122, -0.4542, -1.0658]],\n",
       "│           \n",
       "│                   [[ 0.2312,  0.2358, -1.8397],\n",
       "│                    [ 0.2122, -0.4542, -1.0658]]])\n",
       "└── 'x' --> <FastTreeValue 0x7f99891e6f40>\n",
       "    └── 'c' --> tensor([[[ 0.7214, -0.1884,  1.3060, -0.3688],\n",
       "                         [ 2.3987, -1.1065, -0.6570,  0.1796],\n",
       "                         [ 0.3553, -0.7181,  1.2098, -1.3395]],\n",
       "                \n",
       "                        [[ 0.7214, -0.1884,  1.3060, -0.3688],\n",
       "                         [ 2.3987, -1.1065, -0.6570,  0.1796],\n",
       "                         [ 0.3553, -0.7181,  1.2098, -1.3395]],\n",
       "                \n",
       "                        [[ 0.7214, -0.1884,  1.3060, -0.3688],\n",
       "                         [ 2.3987, -1.1065, -0.6570,  0.1796],\n",
       "                         [ 0.3553, -0.7181,  1.2098, -1.3395]],\n",
       "                \n",
       "                        [[ 0.7214, -0.1884,  1.3060, -0.3688],\n",
       "                         [ 2.3987, -1.1065, -0.6570,  0.1796],\n",
       "                         [ 0.3553, -0.7181,  1.2098, -1.3395]],\n",
       "                \n",
       "                        [[ 0.7214, -0.1884,  1.3060, -0.3688],\n",
       "                         [ 2.3987, -1.1065, -0.6570,  0.1796],\n",
       "                         [ 0.3553, -0.7181,  1.2098, -1.3395]],\n",
       "                \n",
       "                        [[ 0.7214, -0.1884,  1.3060, -0.3688],\n",
       "                         [ 2.3987, -1.1065, -0.6570,  0.1796],\n",
       "                         [ 0.3553, -0.7181,  1.2098, -1.3395]],\n",
       "                \n",
       "                        [[ 0.7214, -0.1884,  1.3060, -0.3688],\n",
       "                         [ 2.3987, -1.1065, -0.6570,  0.1796],\n",
       "                         [ 0.3553, -0.7181,  1.2098, -1.3395]],\n",
       "                \n",
       "                        [[ 0.7214, -0.1884,  1.3060, -0.3688],\n",
       "                         [ 2.3987, -1.1065, -0.6570,  0.1796],\n",
       "                         [ 0.3553, -0.7181,  1.2098, -1.3395]]])"
      ]
     },
     "execution_count": 20,
     "metadata": {},
     "output_type": "execute_result"
    }
   ],
   "source": [
    "t_stack = FastTreeValue.func(subside=True)(torch.stack)\n",
    "\n",
    "t_stack(trees)"
   ]
  },
  {
   "cell_type": "code",
   "execution_count": 21,
   "id": "f8b3f415",
   "metadata": {
    "execution": {
     "iopub.execute_input": "2023-02-25T18:09:02.311943Z",
     "iopub.status.busy": "2023-02-25T18:09:02.311719Z",
     "iopub.status.idle": "2023-02-25T18:09:04.944746Z",
     "shell.execute_reply": "2023-02-25T18:09:04.944086Z"
    }
   },
   "outputs": [
    {
     "name": "stdout",
     "output_type": "stream",
     "text": [
      "32.4 µs ± 49.1 ns per loop (mean ± std. dev. of 7 runs, 10,000 loops each)\n"
     ]
    }
   ],
   "source": [
    "%timeit t_stack(trees)"
   ]
  },
  {
   "cell_type": "code",
   "execution_count": 22,
   "id": "94b56771",
   "metadata": {
    "execution": {
     "iopub.execute_input": "2023-02-25T18:09:04.947623Z",
     "iopub.status.busy": "2023-02-25T18:09:04.947281Z",
     "iopub.status.idle": "2023-02-25T18:09:04.955172Z",
     "shell.execute_reply": "2023-02-25T18:09:04.954600Z"
    }
   },
   "outputs": [
    {
     "data": {
      "text/plain": [
       "<FastTreeValue 0x7f99891e5f40>\n",
       "├── 'a' --> tensor([[ 0.2312,  0.2358, -1.8397],\n",
       "│                   [ 0.2122, -0.4542, -1.0658],\n",
       "│                   [ 0.2312,  0.2358, -1.8397],\n",
       "│                   [ 0.2122, -0.4542, -1.0658],\n",
       "│                   [ 0.2312,  0.2358, -1.8397],\n",
       "│                   [ 0.2122, -0.4542, -1.0658],\n",
       "│                   [ 0.2312,  0.2358, -1.8397],\n",
       "│                   [ 0.2122, -0.4542, -1.0658],\n",
       "│                   [ 0.2312,  0.2358, -1.8397],\n",
       "│                   [ 0.2122, -0.4542, -1.0658],\n",
       "│                   [ 0.2312,  0.2358, -1.8397],\n",
       "│                   [ 0.2122, -0.4542, -1.0658],\n",
       "│                   [ 0.2312,  0.2358, -1.8397],\n",
       "│                   [ 0.2122, -0.4542, -1.0658],\n",
       "│                   [ 0.2312,  0.2358, -1.8397],\n",
       "│                   [ 0.2122, -0.4542, -1.0658]])\n",
       "└── 'x' --> <FastTreeValue 0x7f99898e6a00>\n",
       "    └── 'c' --> tensor([[ 0.7214, -0.1884,  1.3060, -0.3688],\n",
       "                        [ 2.3987, -1.1065, -0.6570,  0.1796],\n",
       "                        [ 0.3553, -0.7181,  1.2098, -1.3395],\n",
       "                        [ 0.7214, -0.1884,  1.3060, -0.3688],\n",
       "                        [ 2.3987, -1.1065, -0.6570,  0.1796],\n",
       "                        [ 0.3553, -0.7181,  1.2098, -1.3395],\n",
       "                        [ 0.7214, -0.1884,  1.3060, -0.3688],\n",
       "                        [ 2.3987, -1.1065, -0.6570,  0.1796],\n",
       "                        [ 0.3553, -0.7181,  1.2098, -1.3395],\n",
       "                        [ 0.7214, -0.1884,  1.3060, -0.3688],\n",
       "                        [ 2.3987, -1.1065, -0.6570,  0.1796],\n",
       "                        [ 0.3553, -0.7181,  1.2098, -1.3395],\n",
       "                        [ 0.7214, -0.1884,  1.3060, -0.3688],\n",
       "                        [ 2.3987, -1.1065, -0.6570,  0.1796],\n",
       "                        [ 0.3553, -0.7181,  1.2098, -1.3395],\n",
       "                        [ 0.7214, -0.1884,  1.3060, -0.3688],\n",
       "                        [ 2.3987, -1.1065, -0.6570,  0.1796],\n",
       "                        [ 0.3553, -0.7181,  1.2098, -1.3395],\n",
       "                        [ 0.7214, -0.1884,  1.3060, -0.3688],\n",
       "                        [ 2.3987, -1.1065, -0.6570,  0.1796],\n",
       "                        [ 0.3553, -0.7181,  1.2098, -1.3395],\n",
       "                        [ 0.7214, -0.1884,  1.3060, -0.3688],\n",
       "                        [ 2.3987, -1.1065, -0.6570,  0.1796],\n",
       "                        [ 0.3553, -0.7181,  1.2098, -1.3395]])"
      ]
     },
     "execution_count": 22,
     "metadata": {},
     "output_type": "execute_result"
    }
   ],
   "source": [
    "t_cat = FastTreeValue.func(subside=True)(torch.cat)\n",
    "\n",
    "t_cat(trees)"
   ]
  },
  {
   "cell_type": "code",
   "execution_count": 23,
   "id": "5e9c06a6",
   "metadata": {
    "execution": {
     "iopub.execute_input": "2023-02-25T18:09:04.957721Z",
     "iopub.status.busy": "2023-02-25T18:09:04.957399Z",
     "iopub.status.idle": "2023-02-25T18:09:07.379099Z",
     "shell.execute_reply": "2023-02-25T18:09:07.378424Z"
    }
   },
   "outputs": [
    {
     "name": "stdout",
     "output_type": "stream",
     "text": [
      "29.8 µs ± 34.3 ns per loop (mean ± std. dev. of 7 runs, 10,000 loops each)\n"
     ]
    }
   ],
   "source": [
    "%timeit t_cat(trees)"
   ]
  },
  {
   "cell_type": "code",
   "execution_count": 24,
   "id": "a3ab5c8f",
   "metadata": {
    "execution": {
     "iopub.execute_input": "2023-02-25T18:09:07.382280Z",
     "iopub.status.busy": "2023-02-25T18:09:07.381712Z",
     "iopub.status.idle": "2023-02-25T18:09:12.201363Z",
     "shell.execute_reply": "2023-02-25T18:09:12.200155Z"
    }
   },
   "outputs": [
    {
     "name": "stdout",
     "output_type": "stream",
     "text": [
      "59.3 µs ± 52.5 ns per loop (mean ± std. dev. of 7 runs, 10,000 loops each)\n"
     ]
    }
   ],
   "source": [
    "t_split = FastTreeValue.func(rise=True)(torch.split)\n",
    "tree = FastTreeValue({\n",
    "    'obs': torch.randn(8, 4, 84, 84),\n",
    "    'action': torch.randint(0, 6, size=(8, 1,)),\n",
    "    'reward': torch.rand(8, 1),\n",
    "})\n",
    "\n",
    "%timeit t_split(tree, 1)"
   ]
  },
  {
   "cell_type": "markdown",
   "id": "31c3ec0b",
   "metadata": {},
   "source": [
    "### Performance of Tianshou Batch"
   ]
  },
  {
   "cell_type": "code",
   "execution_count": 25,
   "id": "9ead828a",
   "metadata": {
    "execution": {
     "iopub.execute_input": "2023-02-25T18:09:12.204574Z",
     "iopub.status.busy": "2023-02-25T18:09:12.203960Z",
     "iopub.status.idle": "2023-02-25T18:09:12.212015Z",
     "shell.execute_reply": "2023-02-25T18:09:12.211433Z"
    }
   },
   "outputs": [
    {
     "data": {
      "text/plain": [
       "Batch(\n",
       "    x: Batch(\n",
       "           c: tensor([[[ 0.7214, -0.1884,  1.3060, -0.3688],\n",
       "                       [ 2.3987, -1.1065, -0.6570,  0.1796],\n",
       "                       [ 0.3553, -0.7181,  1.2098, -1.3395]],\n",
       "              \n",
       "                      [[ 0.7214, -0.1884,  1.3060, -0.3688],\n",
       "                       [ 2.3987, -1.1065, -0.6570,  0.1796],\n",
       "                       [ 0.3553, -0.7181,  1.2098, -1.3395]],\n",
       "              \n",
       "                      [[ 0.7214, -0.1884,  1.3060, -0.3688],\n",
       "                       [ 2.3987, -1.1065, -0.6570,  0.1796],\n",
       "                       [ 0.3553, -0.7181,  1.2098, -1.3395]],\n",
       "              \n",
       "                      [[ 0.7214, -0.1884,  1.3060, -0.3688],\n",
       "                       [ 2.3987, -1.1065, -0.6570,  0.1796],\n",
       "                       [ 0.3553, -0.7181,  1.2098, -1.3395]],\n",
       "              \n",
       "                      [[ 0.7214, -0.1884,  1.3060, -0.3688],\n",
       "                       [ 2.3987, -1.1065, -0.6570,  0.1796],\n",
       "                       [ 0.3553, -0.7181,  1.2098, -1.3395]],\n",
       "              \n",
       "                      [[ 0.7214, -0.1884,  1.3060, -0.3688],\n",
       "                       [ 2.3987, -1.1065, -0.6570,  0.1796],\n",
       "                       [ 0.3553, -0.7181,  1.2098, -1.3395]],\n",
       "              \n",
       "                      [[ 0.7214, -0.1884,  1.3060, -0.3688],\n",
       "                       [ 2.3987, -1.1065, -0.6570,  0.1796],\n",
       "                       [ 0.3553, -0.7181,  1.2098, -1.3395]],\n",
       "              \n",
       "                      [[ 0.7214, -0.1884,  1.3060, -0.3688],\n",
       "                       [ 2.3987, -1.1065, -0.6570,  0.1796],\n",
       "                       [ 0.3553, -0.7181,  1.2098, -1.3395]]]),\n",
       "       ),\n",
       "    a: tensor([[[ 0.2312,  0.2358, -1.8397],\n",
       "                [ 0.2122, -0.4542, -1.0658]],\n",
       "       \n",
       "               [[ 0.2312,  0.2358, -1.8397],\n",
       "                [ 0.2122, -0.4542, -1.0658]],\n",
       "       \n",
       "               [[ 0.2312,  0.2358, -1.8397],\n",
       "                [ 0.2122, -0.4542, -1.0658]],\n",
       "       \n",
       "               [[ 0.2312,  0.2358, -1.8397],\n",
       "                [ 0.2122, -0.4542, -1.0658]],\n",
       "       \n",
       "               [[ 0.2312,  0.2358, -1.8397],\n",
       "                [ 0.2122, -0.4542, -1.0658]],\n",
       "       \n",
       "               [[ 0.2312,  0.2358, -1.8397],\n",
       "                [ 0.2122, -0.4542, -1.0658]],\n",
       "       \n",
       "               [[ 0.2312,  0.2358, -1.8397],\n",
       "                [ 0.2122, -0.4542, -1.0658]],\n",
       "       \n",
       "               [[ 0.2312,  0.2358, -1.8397],\n",
       "                [ 0.2122, -0.4542, -1.0658]]]),\n",
       ")"
      ]
     },
     "execution_count": 25,
     "metadata": {},
     "output_type": "execute_result"
    }
   ],
   "source": [
    "batches = [Batch(**_TREE_DATA_2) for _ in range(8)]\n",
    "\n",
    "Batch.stack(batches)"
   ]
  },
  {
   "cell_type": "code",
   "execution_count": 26,
   "id": "ec9037a3",
   "metadata": {
    "execution": {
     "iopub.execute_input": "2023-02-25T18:09:12.214796Z",
     "iopub.status.busy": "2023-02-25T18:09:12.214466Z",
     "iopub.status.idle": "2023-02-25T18:09:18.536567Z",
     "shell.execute_reply": "2023-02-25T18:09:18.535858Z"
    }
   },
   "outputs": [
    {
     "name": "stdout",
     "output_type": "stream",
     "text": [
      "77.8 µs ± 186 ns per loop (mean ± std. dev. of 7 runs, 10,000 loops each)\n"
     ]
    }
   ],
   "source": [
    "%timeit Batch.stack(batches)"
   ]
  },
  {
   "cell_type": "code",
   "execution_count": 27,
   "id": "cb8ab77e",
   "metadata": {
    "execution": {
     "iopub.execute_input": "2023-02-25T18:09:18.539527Z",
     "iopub.status.busy": "2023-02-25T18:09:18.539025Z",
     "iopub.status.idle": "2023-02-25T18:09:18.546323Z",
     "shell.execute_reply": "2023-02-25T18:09:18.545667Z"
    }
   },
   "outputs": [
    {
     "data": {
      "text/plain": [
       "Batch(\n",
       "    x: Batch(\n",
       "           c: tensor([[ 0.7214, -0.1884,  1.3060, -0.3688],\n",
       "                      [ 2.3987, -1.1065, -0.6570,  0.1796],\n",
       "                      [ 0.3553, -0.7181,  1.2098, -1.3395],\n",
       "                      [ 0.7214, -0.1884,  1.3060, -0.3688],\n",
       "                      [ 2.3987, -1.1065, -0.6570,  0.1796],\n",
       "                      [ 0.3553, -0.7181,  1.2098, -1.3395],\n",
       "                      [ 0.7214, -0.1884,  1.3060, -0.3688],\n",
       "                      [ 2.3987, -1.1065, -0.6570,  0.1796],\n",
       "                      [ 0.3553, -0.7181,  1.2098, -1.3395],\n",
       "                      [ 0.7214, -0.1884,  1.3060, -0.3688],\n",
       "                      [ 2.3987, -1.1065, -0.6570,  0.1796],\n",
       "                      [ 0.3553, -0.7181,  1.2098, -1.3395],\n",
       "                      [ 0.7214, -0.1884,  1.3060, -0.3688],\n",
       "                      [ 2.3987, -1.1065, -0.6570,  0.1796],\n",
       "                      [ 0.3553, -0.7181,  1.2098, -1.3395],\n",
       "                      [ 0.7214, -0.1884,  1.3060, -0.3688],\n",
       "                      [ 2.3987, -1.1065, -0.6570,  0.1796],\n",
       "                      [ 0.3553, -0.7181,  1.2098, -1.3395],\n",
       "                      [ 0.7214, -0.1884,  1.3060, -0.3688],\n",
       "                      [ 2.3987, -1.1065, -0.6570,  0.1796],\n",
       "                      [ 0.3553, -0.7181,  1.2098, -1.3395],\n",
       "                      [ 0.7214, -0.1884,  1.3060, -0.3688],\n",
       "                      [ 2.3987, -1.1065, -0.6570,  0.1796],\n",
       "                      [ 0.3553, -0.7181,  1.2098, -1.3395]]),\n",
       "       ),\n",
       "    a: tensor([[ 0.2312,  0.2358, -1.8397],\n",
       "               [ 0.2122, -0.4542, -1.0658],\n",
       "               [ 0.2312,  0.2358, -1.8397],\n",
       "               [ 0.2122, -0.4542, -1.0658],\n",
       "               [ 0.2312,  0.2358, -1.8397],\n",
       "               [ 0.2122, -0.4542, -1.0658],\n",
       "               [ 0.2312,  0.2358, -1.8397],\n",
       "               [ 0.2122, -0.4542, -1.0658],\n",
       "               [ 0.2312,  0.2358, -1.8397],\n",
       "               [ 0.2122, -0.4542, -1.0658],\n",
       "               [ 0.2312,  0.2358, -1.8397],\n",
       "               [ 0.2122, -0.4542, -1.0658],\n",
       "               [ 0.2312,  0.2358, -1.8397],\n",
       "               [ 0.2122, -0.4542, -1.0658],\n",
       "               [ 0.2312,  0.2358, -1.8397],\n",
       "               [ 0.2122, -0.4542, -1.0658]]),\n",
       ")"
      ]
     },
     "execution_count": 27,
     "metadata": {},
     "output_type": "execute_result"
    }
   ],
   "source": [
    "Batch.cat(batches)"
   ]
  },
  {
   "cell_type": "code",
   "execution_count": 28,
   "id": "18dfb045",
   "metadata": {
    "execution": {
     "iopub.execute_input": "2023-02-25T18:09:18.549305Z",
     "iopub.status.busy": "2023-02-25T18:09:18.548792Z",
     "iopub.status.idle": "2023-02-25T18:09:30.297233Z",
     "shell.execute_reply": "2023-02-25T18:09:30.296494Z"
    }
   },
   "outputs": [
    {
     "name": "stdout",
     "output_type": "stream",
     "text": [
      "145 µs ± 404 ns per loop (mean ± std. dev. of 7 runs, 10,000 loops each)\n"
     ]
    }
   ],
   "source": [
    "%timeit Batch.cat(batches)"
   ]
  },
  {
   "cell_type": "code",
   "execution_count": 29,
   "id": "c6688e51",
   "metadata": {
    "execution": {
     "iopub.execute_input": "2023-02-25T18:09:30.300222Z",
     "iopub.status.busy": "2023-02-25T18:09:30.299695Z",
     "iopub.status.idle": "2023-02-25T18:09:32.816240Z",
     "shell.execute_reply": "2023-02-25T18:09:32.815649Z"
    }
   },
   "outputs": [
    {
     "name": "stdout",
     "output_type": "stream",
     "text": [
      "309 µs ± 1.05 µs per loop (mean ± std. dev. of 7 runs, 1,000 loops each)\n"
     ]
    }
   ],
   "source": [
    "batch = Batch({\n",
    "    'obs': torch.randn(8, 4, 84, 84),\n",
    "    'action': torch.randint(0, 6, size=(8, 1,)),\n",
    "    'reward': torch.rand(8, 1)}\n",
    ")\n",
    "\n",
    "%timeit list(Batch.split(batch, 1, shuffle=False, merge_last=True))"
   ]
  },
  {
   "cell_type": "code",
   "execution_count": null,
   "id": "2539fbd9",
   "metadata": {},
   "outputs": [],
   "source": []
  }
 ],
 "metadata": {
  "kernelspec": {
   "display_name": "Python 3 (ipykernel)",
   "language": "python",
   "name": "python3"
  },
  "language_info": {
   "codemirror_mode": {
    "name": "ipython",
    "version": 3
   },
   "file_extension": ".py",
   "mimetype": "text/x-python",
   "name": "python",
   "nbconvert_exporter": "python",
   "pygments_lexer": "ipython3",
   "version": "3.8.16"
  }
 },
 "nbformat": 4,
 "nbformat_minor": 5
}
