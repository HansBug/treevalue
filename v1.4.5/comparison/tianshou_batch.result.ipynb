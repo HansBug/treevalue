{
 "cells": [
  {
   "cell_type": "markdown",
   "id": "9d39d946",
   "metadata": {},
   "source": [
    "# Comparison Between TreeValue and Tianshou Batch"
   ]
  },
  {
   "cell_type": "markdown",
   "id": "3c6db2d4",
   "metadata": {},
   "source": [
    "In this section, we will take a look at the feature and performance of the [Tianshou Batch](https://github.com/thu-ml/tianshou) library, which is developed by Tsinghua Machine Learning Group."
   ]
  },
  {
   "cell_type": "markdown",
   "id": "069361b0",
   "metadata": {},
   "source": [
    "Before starting the comparison, let us define some thing."
   ]
  },
  {
   "cell_type": "code",
   "execution_count": 1,
   "id": "06fc8d26",
   "metadata": {
    "execution": {
     "iopub.execute_input": "2023-04-16T14:49:29.602253Z",
     "iopub.status.busy": "2023-04-16T14:49:29.601741Z",
     "iopub.status.idle": "2023-04-16T14:49:30.938387Z",
     "shell.execute_reply": "2023-04-16T14:49:30.937673Z"
    }
   },
   "outputs": [],
   "source": [
    "import torch \n",
    "\n",
    "_TREE_DATA_1 = {'a': 1, 'b': 2, 'x': {'c': 3, 'd': 4}}\n",
    "_TREE_DATA_2 = {\n",
    "    'a': torch.randn(2, 3), \n",
    "    'x': {\n",
    "        'c': torch.randn(3, 4)\n",
    "    },\n",
    "}\n",
    "_TREE_DATA_3 = {\n",
    "    'obs': torch.randn(4, 84, 84),\n",
    "    'action': torch.randint(0, 6, size=(1,)),\n",
    "    'reward': torch.rand(1),\n",
    "}"
   ]
  },
  {
   "cell_type": "markdown",
   "id": "83461b25",
   "metadata": {},
   "source": [
    "## Read and Write Operation"
   ]
  },
  {
   "cell_type": "markdown",
   "id": "067b3f73",
   "metadata": {},
   "source": [
    "Reading and writing are the two most common operations in the tree data structure based on the data model (TreeValue and Tianshou Batch both belong to this type), so this section will compare the reading and writing performance of these two libraries."
   ]
  },
  {
   "cell_type": "markdown",
   "id": "5d09a5b7",
   "metadata": {},
   "source": [
    "### TreeValue's Get and Set"
   ]
  },
  {
   "cell_type": "code",
   "execution_count": 2,
   "id": "9519c4bb",
   "metadata": {
    "execution": {
     "iopub.execute_input": "2023-04-16T14:49:30.942304Z",
     "iopub.status.busy": "2023-04-16T14:49:30.941768Z",
     "iopub.status.idle": "2023-04-16T14:49:30.969477Z",
     "shell.execute_reply": "2023-04-16T14:49:30.968808Z"
    }
   },
   "outputs": [],
   "source": [
    "from treevalue import FastTreeValue\n",
    "\n",
    "t = FastTreeValue(_TREE_DATA_2)"
   ]
  },
  {
   "cell_type": "code",
   "execution_count": 3,
   "id": "11c37677",
   "metadata": {
    "execution": {
     "iopub.execute_input": "2023-04-16T14:49:30.972514Z",
     "iopub.status.busy": "2023-04-16T14:49:30.972286Z",
     "iopub.status.idle": "2023-04-16T14:49:30.980741Z",
     "shell.execute_reply": "2023-04-16T14:49:30.980111Z"
    }
   },
   "outputs": [
    {
     "data": {
      "text/plain": [
       "<FastTreeValue 0x7f4dd0aa1e20>\n",
       "├── 'a' --> tensor([[-0.5335,  0.5165, -1.1646],\n",
       "│                   [ 0.7670, -0.4563, -1.2870]])\n",
       "└── 'x' --> <FastTreeValue 0x7f4dd0aa1eb0>\n",
       "    └── 'c' --> tensor([[-0.0221, -1.2250, -1.2483, -1.4480],\n",
       "                        [ 0.5378,  0.2966, -0.0364, -0.9326],\n",
       "                        [-0.5676,  0.2178,  0.9872, -1.4102]])"
      ]
     },
     "execution_count": 3,
     "metadata": {},
     "output_type": "execute_result"
    }
   ],
   "source": [
    "t"
   ]
  },
  {
   "cell_type": "code",
   "execution_count": 4,
   "id": "fd70b0b9",
   "metadata": {
    "execution": {
     "iopub.execute_input": "2023-04-16T14:49:30.984582Z",
     "iopub.status.busy": "2023-04-16T14:49:30.984231Z",
     "iopub.status.idle": "2023-04-16T14:49:30.989028Z",
     "shell.execute_reply": "2023-04-16T14:49:30.988382Z"
    }
   },
   "outputs": [
    {
     "data": {
      "text/plain": [
       "tensor([[-0.5335,  0.5165, -1.1646],\n",
       "        [ 0.7670, -0.4563, -1.2870]])"
      ]
     },
     "execution_count": 4,
     "metadata": {},
     "output_type": "execute_result"
    }
   ],
   "source": [
    "t.a"
   ]
  },
  {
   "cell_type": "code",
   "execution_count": 5,
   "id": "c18197bd",
   "metadata": {
    "execution": {
     "iopub.execute_input": "2023-04-16T14:49:30.992180Z",
     "iopub.status.busy": "2023-04-16T14:49:30.991625Z",
     "iopub.status.idle": "2023-04-16T14:49:35.677769Z",
     "shell.execute_reply": "2023-04-16T14:49:35.677062Z"
    }
   },
   "outputs": [
    {
     "name": "stdout",
     "output_type": "stream",
     "text": [
      "57.6 ns ± 0.0558 ns per loop (mean ± std. dev. of 7 runs, 10,000,000 loops each)\n"
     ]
    }
   ],
   "source": [
    "%timeit t.a"
   ]
  },
  {
   "cell_type": "code",
   "execution_count": 6,
   "id": "bd52f867",
   "metadata": {
    "execution": {
     "iopub.execute_input": "2023-04-16T14:49:35.681172Z",
     "iopub.status.busy": "2023-04-16T14:49:35.680796Z",
     "iopub.status.idle": "2023-04-16T14:49:35.688006Z",
     "shell.execute_reply": "2023-04-16T14:49:35.687343Z"
    }
   },
   "outputs": [
    {
     "data": {
      "text/plain": [
       "<FastTreeValue 0x7f4dd0aa1e20>\n",
       "├── 'a' --> tensor([[-0.2869, -1.2739, -1.0894],\n",
       "│                   [ 1.3295, -1.0510,  0.8349]])\n",
       "└── 'x' --> <FastTreeValue 0x7f4dd0aa1eb0>\n",
       "    └── 'c' --> tensor([[-0.0221, -1.2250, -1.2483, -1.4480],\n",
       "                        [ 0.5378,  0.2966, -0.0364, -0.9326],\n",
       "                        [-0.5676,  0.2178,  0.9872, -1.4102]])"
      ]
     },
     "execution_count": 6,
     "metadata": {},
     "output_type": "execute_result"
    }
   ],
   "source": [
    "new_value = torch.randn(2, 3)\n",
    "t.a = new_value\n",
    "\n",
    "t"
   ]
  },
  {
   "cell_type": "code",
   "execution_count": 7,
   "id": "bbe04d1c",
   "metadata": {
    "execution": {
     "iopub.execute_input": "2023-04-16T14:49:35.690606Z",
     "iopub.status.busy": "2023-04-16T14:49:35.690390Z",
     "iopub.status.idle": "2023-04-16T14:49:40.611830Z",
     "shell.execute_reply": "2023-04-16T14:49:40.610807Z"
    }
   },
   "outputs": [
    {
     "name": "stdout",
     "output_type": "stream",
     "text": [
      "60.3 ns ± 0.0508 ns per loop (mean ± std. dev. of 7 runs, 10,000,000 loops each)\n"
     ]
    }
   ],
   "source": [
    "%timeit t.a = new_value"
   ]
  },
  {
   "cell_type": "markdown",
   "id": "48c49731",
   "metadata": {},
   "source": [
    "### Tianshou Batch's Get and Set"
   ]
  },
  {
   "cell_type": "code",
   "execution_count": 8,
   "id": "f1bb14c1",
   "metadata": {
    "execution": {
     "iopub.execute_input": "2023-04-16T14:49:40.615160Z",
     "iopub.status.busy": "2023-04-16T14:49:40.614578Z",
     "iopub.status.idle": "2023-04-16T14:49:40.983569Z",
     "shell.execute_reply": "2023-04-16T14:49:40.982856Z"
    }
   },
   "outputs": [],
   "source": [
    "from tianshou.data import Batch\n",
    "\n",
    "b = Batch(**_TREE_DATA_2)"
   ]
  },
  {
   "cell_type": "code",
   "execution_count": 9,
   "id": "cb0777c3",
   "metadata": {
    "execution": {
     "iopub.execute_input": "2023-04-16T14:49:40.987836Z",
     "iopub.status.busy": "2023-04-16T14:49:40.987019Z",
     "iopub.status.idle": "2023-04-16T14:49:40.993925Z",
     "shell.execute_reply": "2023-04-16T14:49:40.993288Z"
    }
   },
   "outputs": [
    {
     "data": {
      "text/plain": [
       "Batch(\n",
       "    a: tensor([[-0.5335,  0.5165, -1.1646],\n",
       "               [ 0.7670, -0.4563, -1.2870]]),\n",
       "    x: Batch(\n",
       "           c: tensor([[-0.0221, -1.2250, -1.2483, -1.4480],\n",
       "                      [ 0.5378,  0.2966, -0.0364, -0.9326],\n",
       "                      [-0.5676,  0.2178,  0.9872, -1.4102]]),\n",
       "       ),\n",
       ")"
      ]
     },
     "execution_count": 9,
     "metadata": {},
     "output_type": "execute_result"
    }
   ],
   "source": [
    "b"
   ]
  },
  {
   "cell_type": "code",
   "execution_count": 10,
   "id": "43ef8ea3",
   "metadata": {
    "execution": {
     "iopub.execute_input": "2023-04-16T14:49:40.997004Z",
     "iopub.status.busy": "2023-04-16T14:49:40.996495Z",
     "iopub.status.idle": "2023-04-16T14:49:41.003836Z",
     "shell.execute_reply": "2023-04-16T14:49:41.003192Z"
    }
   },
   "outputs": [
    {
     "data": {
      "text/plain": [
       "tensor([[-0.5335,  0.5165, -1.1646],\n",
       "        [ 0.7670, -0.4563, -1.2870]])"
      ]
     },
     "execution_count": 10,
     "metadata": {},
     "output_type": "execute_result"
    }
   ],
   "source": [
    "b.a"
   ]
  },
  {
   "cell_type": "code",
   "execution_count": 11,
   "id": "b785ab72",
   "metadata": {
    "execution": {
     "iopub.execute_input": "2023-04-16T14:49:41.007162Z",
     "iopub.status.busy": "2023-04-16T14:49:41.006770Z",
     "iopub.status.idle": "2023-04-16T14:49:45.882148Z",
     "shell.execute_reply": "2023-04-16T14:49:45.881566Z"
    }
   },
   "outputs": [
    {
     "name": "stdout",
     "output_type": "stream",
     "text": [
      "59.5 ns ± 0.0475 ns per loop (mean ± std. dev. of 7 runs, 10,000,000 loops each)\n"
     ]
    }
   ],
   "source": [
    "%timeit b.a"
   ]
  },
  {
   "cell_type": "code",
   "execution_count": 12,
   "id": "ad54dc69",
   "metadata": {
    "execution": {
     "iopub.execute_input": "2023-04-16T14:49:45.885359Z",
     "iopub.status.busy": "2023-04-16T14:49:45.884735Z",
     "iopub.status.idle": "2023-04-16T14:49:45.890696Z",
     "shell.execute_reply": "2023-04-16T14:49:45.890034Z"
    }
   },
   "outputs": [
    {
     "data": {
      "text/plain": [
       "Batch(\n",
       "    a: tensor([[ 0.1303,  1.1465,  0.8921],\n",
       "               [-0.7326,  0.3380, -0.7119]]),\n",
       "    x: Batch(\n",
       "           c: tensor([[-0.0221, -1.2250, -1.2483, -1.4480],\n",
       "                      [ 0.5378,  0.2966, -0.0364, -0.9326],\n",
       "                      [-0.5676,  0.2178,  0.9872, -1.4102]]),\n",
       "       ),\n",
       ")"
      ]
     },
     "execution_count": 12,
     "metadata": {},
     "output_type": "execute_result"
    }
   ],
   "source": [
    "new_value = torch.randn(2, 3)\n",
    "b.a = new_value\n",
    "\n",
    "b"
   ]
  },
  {
   "cell_type": "code",
   "execution_count": 13,
   "id": "29b1d0bf",
   "metadata": {
    "execution": {
     "iopub.execute_input": "2023-04-16T14:49:45.893525Z",
     "iopub.status.busy": "2023-04-16T14:49:45.893166Z",
     "iopub.status.idle": "2023-04-16T14:49:49.794526Z",
     "shell.execute_reply": "2023-04-16T14:49:49.793946Z"
    }
   },
   "outputs": [
    {
     "name": "stdout",
     "output_type": "stream",
     "text": [
      "480 ns ± 0.483 ns per loop (mean ± std. dev. of 7 runs, 1,000,000 loops each)\n"
     ]
    }
   ],
   "source": [
    "%timeit b.a = new_value"
   ]
  },
  {
   "cell_type": "markdown",
   "id": "b61ad1d0",
   "metadata": {},
   "source": [
    "## Initialization"
   ]
  },
  {
   "cell_type": "markdown",
   "id": "d70f0d54",
   "metadata": {},
   "source": [
    "### TreeValue's Initialization"
   ]
  },
  {
   "cell_type": "code",
   "execution_count": 14,
   "id": "d32a679b",
   "metadata": {
    "execution": {
     "iopub.execute_input": "2023-04-16T14:49:49.797854Z",
     "iopub.status.busy": "2023-04-16T14:49:49.797481Z",
     "iopub.status.idle": "2023-04-16T14:49:56.445912Z",
     "shell.execute_reply": "2023-04-16T14:49:56.445204Z"
    }
   },
   "outputs": [
    {
     "name": "stdout",
     "output_type": "stream",
     "text": [
      "819 ns ± 0.202 ns per loop (mean ± std. dev. of 7 runs, 1,000,000 loops each)\n"
     ]
    }
   ],
   "source": [
    "%timeit FastTreeValue(_TREE_DATA_1)"
   ]
  },
  {
   "cell_type": "markdown",
   "id": "24f3707b",
   "metadata": {},
   "source": [
    "### Tianshou Batch's Initialization"
   ]
  },
  {
   "cell_type": "code",
   "execution_count": 15,
   "id": "ac3958df",
   "metadata": {
    "execution": {
     "iopub.execute_input": "2023-04-16T14:49:56.449008Z",
     "iopub.status.busy": "2023-04-16T14:49:56.448641Z",
     "iopub.status.idle": "2023-04-16T14:50:05.642539Z",
     "shell.execute_reply": "2023-04-16T14:50:05.641882Z"
    }
   },
   "outputs": [
    {
     "name": "stdout",
     "output_type": "stream",
     "text": [
      "11.3 µs ± 37.2 ns per loop (mean ± std. dev. of 7 runs, 100,000 loops each)\n"
     ]
    }
   ],
   "source": [
    "%timeit Batch(**_TREE_DATA_1)"
   ]
  },
  {
   "cell_type": "markdown",
   "id": "1ab82e2d",
   "metadata": {},
   "source": [
    "## Deep Copy Operation"
   ]
  },
  {
   "cell_type": "code",
   "execution_count": 16,
   "id": "210a9442",
   "metadata": {
    "execution": {
     "iopub.execute_input": "2023-04-16T14:50:05.645871Z",
     "iopub.status.busy": "2023-04-16T14:50:05.645247Z",
     "iopub.status.idle": "2023-04-16T14:50:05.648490Z",
     "shell.execute_reply": "2023-04-16T14:50:05.647863Z"
    }
   },
   "outputs": [],
   "source": [
    "import copy"
   ]
  },
  {
   "cell_type": "markdown",
   "id": "5a736274",
   "metadata": {},
   "source": [
    "### Deep Copy of TreeValue"
   ]
  },
  {
   "cell_type": "code",
   "execution_count": 17,
   "id": "f9bcadd6",
   "metadata": {
    "execution": {
     "iopub.execute_input": "2023-04-16T14:50:05.651527Z",
     "iopub.status.busy": "2023-04-16T14:50:05.650953Z",
     "iopub.status.idle": "2023-04-16T14:50:16.817467Z",
     "shell.execute_reply": "2023-04-16T14:50:16.816859Z"
    }
   },
   "outputs": [
    {
     "name": "stdout",
     "output_type": "stream",
     "text": [
      "138 µs ± 403 ns per loop (mean ± std. dev. of 7 runs, 10,000 loops each)\n"
     ]
    }
   ],
   "source": [
    "t3 = FastTreeValue(_TREE_DATA_3)\n",
    "%timeit copy.deepcopy(t3)"
   ]
  },
  {
   "cell_type": "markdown",
   "id": "bf8be7ea",
   "metadata": {},
   "source": [
    "### Deep Copy of Tianshou Batch"
   ]
  },
  {
   "cell_type": "code",
   "execution_count": 18,
   "id": "91998e6f",
   "metadata": {
    "execution": {
     "iopub.execute_input": "2023-04-16T14:50:16.822084Z",
     "iopub.status.busy": "2023-04-16T14:50:16.820717Z",
     "iopub.status.idle": "2023-04-16T14:50:28.097392Z",
     "shell.execute_reply": "2023-04-16T14:50:28.096589Z"
    }
   },
   "outputs": [
    {
     "name": "stdout",
     "output_type": "stream",
     "text": [
      "139 µs ± 447 ns per loop (mean ± std. dev. of 7 runs, 10,000 loops each)\n"
     ]
    }
   ],
   "source": [
    "b3 = Batch(**_TREE_DATA_3)\n",
    "%timeit copy.deepcopy(b3)"
   ]
  },
  {
   "cell_type": "markdown",
   "id": "223162fb",
   "metadata": {},
   "source": [
    "## Stack, Concat and Split Operation"
   ]
  },
  {
   "cell_type": "markdown",
   "id": "85fa4a73",
   "metadata": {},
   "source": [
    "### Performance of TreeValue"
   ]
  },
  {
   "cell_type": "code",
   "execution_count": 19,
   "id": "a0c2b697",
   "metadata": {
    "execution": {
     "iopub.execute_input": "2023-04-16T14:50:28.100887Z",
     "iopub.status.busy": "2023-04-16T14:50:28.100515Z",
     "iopub.status.idle": "2023-04-16T14:50:28.105080Z",
     "shell.execute_reply": "2023-04-16T14:50:28.104464Z"
    }
   },
   "outputs": [],
   "source": [
    "trees = [FastTreeValue(_TREE_DATA_2) for _ in range(8)]"
   ]
  },
  {
   "cell_type": "code",
   "execution_count": 20,
   "id": "017ea5a5",
   "metadata": {
    "execution": {
     "iopub.execute_input": "2023-04-16T14:50:28.107947Z",
     "iopub.status.busy": "2023-04-16T14:50:28.107572Z",
     "iopub.status.idle": "2023-04-16T14:50:28.116036Z",
     "shell.execute_reply": "2023-04-16T14:50:28.115444Z"
    }
   },
   "outputs": [
    {
     "data": {
      "text/plain": [
       "<FastTreeValue 0x7f4dd0a920a0>\n",
       "├── 'a' --> tensor([[[-0.5335,  0.5165, -1.1646],\n",
       "│                    [ 0.7670, -0.4563, -1.2870]],\n",
       "│           \n",
       "│                   [[-0.5335,  0.5165, -1.1646],\n",
       "│                    [ 0.7670, -0.4563, -1.2870]],\n",
       "│           \n",
       "│                   [[-0.5335,  0.5165, -1.1646],\n",
       "│                    [ 0.7670, -0.4563, -1.2870]],\n",
       "│           \n",
       "│                   [[-0.5335,  0.5165, -1.1646],\n",
       "│                    [ 0.7670, -0.4563, -1.2870]],\n",
       "│           \n",
       "│                   [[-0.5335,  0.5165, -1.1646],\n",
       "│                    [ 0.7670, -0.4563, -1.2870]],\n",
       "│           \n",
       "│                   [[-0.5335,  0.5165, -1.1646],\n",
       "│                    [ 0.7670, -0.4563, -1.2870]],\n",
       "│           \n",
       "│                   [[-0.5335,  0.5165, -1.1646],\n",
       "│                    [ 0.7670, -0.4563, -1.2870]],\n",
       "│           \n",
       "│                   [[-0.5335,  0.5165, -1.1646],\n",
       "│                    [ 0.7670, -0.4563, -1.2870]]])\n",
       "└── 'x' --> <FastTreeValue 0x7f4d30ee9af0>\n",
       "    └── 'c' --> tensor([[[-0.0221, -1.2250, -1.2483, -1.4480],\n",
       "                         [ 0.5378,  0.2966, -0.0364, -0.9326],\n",
       "                         [-0.5676,  0.2178,  0.9872, -1.4102]],\n",
       "                \n",
       "                        [[-0.0221, -1.2250, -1.2483, -1.4480],\n",
       "                         [ 0.5378,  0.2966, -0.0364, -0.9326],\n",
       "                         [-0.5676,  0.2178,  0.9872, -1.4102]],\n",
       "                \n",
       "                        [[-0.0221, -1.2250, -1.2483, -1.4480],\n",
       "                         [ 0.5378,  0.2966, -0.0364, -0.9326],\n",
       "                         [-0.5676,  0.2178,  0.9872, -1.4102]],\n",
       "                \n",
       "                        [[-0.0221, -1.2250, -1.2483, -1.4480],\n",
       "                         [ 0.5378,  0.2966, -0.0364, -0.9326],\n",
       "                         [-0.5676,  0.2178,  0.9872, -1.4102]],\n",
       "                \n",
       "                        [[-0.0221, -1.2250, -1.2483, -1.4480],\n",
       "                         [ 0.5378,  0.2966, -0.0364, -0.9326],\n",
       "                         [-0.5676,  0.2178,  0.9872, -1.4102]],\n",
       "                \n",
       "                        [[-0.0221, -1.2250, -1.2483, -1.4480],\n",
       "                         [ 0.5378,  0.2966, -0.0364, -0.9326],\n",
       "                         [-0.5676,  0.2178,  0.9872, -1.4102]],\n",
       "                \n",
       "                        [[-0.0221, -1.2250, -1.2483, -1.4480],\n",
       "                         [ 0.5378,  0.2966, -0.0364, -0.9326],\n",
       "                         [-0.5676,  0.2178,  0.9872, -1.4102]],\n",
       "                \n",
       "                        [[-0.0221, -1.2250, -1.2483, -1.4480],\n",
       "                         [ 0.5378,  0.2966, -0.0364, -0.9326],\n",
       "                         [-0.5676,  0.2178,  0.9872, -1.4102]]])"
      ]
     },
     "execution_count": 20,
     "metadata": {},
     "output_type": "execute_result"
    }
   ],
   "source": [
    "t_stack = FastTreeValue.func(subside=True)(torch.stack)\n",
    "\n",
    "t_stack(trees)"
   ]
  },
  {
   "cell_type": "code",
   "execution_count": 21,
   "id": "f8b3f415",
   "metadata": {
    "execution": {
     "iopub.execute_input": "2023-04-16T14:50:28.118724Z",
     "iopub.status.busy": "2023-04-16T14:50:28.118385Z",
     "iopub.status.idle": "2023-04-16T14:50:30.774896Z",
     "shell.execute_reply": "2023-04-16T14:50:30.774204Z"
    }
   },
   "outputs": [
    {
     "name": "stdout",
     "output_type": "stream",
     "text": [
      "32.6 µs ± 35.5 ns per loop (mean ± std. dev. of 7 runs, 10,000 loops each)\n"
     ]
    }
   ],
   "source": [
    "%timeit t_stack(trees)"
   ]
  },
  {
   "cell_type": "code",
   "execution_count": 22,
   "id": "94b56771",
   "metadata": {
    "execution": {
     "iopub.execute_input": "2023-04-16T14:50:30.778657Z",
     "iopub.status.busy": "2023-04-16T14:50:30.778087Z",
     "iopub.status.idle": "2023-04-16T14:50:30.786624Z",
     "shell.execute_reply": "2023-04-16T14:50:30.786027Z"
    }
   },
   "outputs": [
    {
     "data": {
      "text/plain": [
       "<FastTreeValue 0x7f4d07082940>\n",
       "├── 'a' --> tensor([[-0.5335,  0.5165, -1.1646],\n",
       "│                   [ 0.7670, -0.4563, -1.2870],\n",
       "│                   [-0.5335,  0.5165, -1.1646],\n",
       "│                   [ 0.7670, -0.4563, -1.2870],\n",
       "│                   [-0.5335,  0.5165, -1.1646],\n",
       "│                   [ 0.7670, -0.4563, -1.2870],\n",
       "│                   [-0.5335,  0.5165, -1.1646],\n",
       "│                   [ 0.7670, -0.4563, -1.2870],\n",
       "│                   [-0.5335,  0.5165, -1.1646],\n",
       "│                   [ 0.7670, -0.4563, -1.2870],\n",
       "│                   [-0.5335,  0.5165, -1.1646],\n",
       "│                   [ 0.7670, -0.4563, -1.2870],\n",
       "│                   [-0.5335,  0.5165, -1.1646],\n",
       "│                   [ 0.7670, -0.4563, -1.2870],\n",
       "│                   [-0.5335,  0.5165, -1.1646],\n",
       "│                   [ 0.7670, -0.4563, -1.2870]])\n",
       "└── 'x' --> <FastTreeValue 0x7f4d07082640>\n",
       "    └── 'c' --> tensor([[-0.0221, -1.2250, -1.2483, -1.4480],\n",
       "                        [ 0.5378,  0.2966, -0.0364, -0.9326],\n",
       "                        [-0.5676,  0.2178,  0.9872, -1.4102],\n",
       "                        [-0.0221, -1.2250, -1.2483, -1.4480],\n",
       "                        [ 0.5378,  0.2966, -0.0364, -0.9326],\n",
       "                        [-0.5676,  0.2178,  0.9872, -1.4102],\n",
       "                        [-0.0221, -1.2250, -1.2483, -1.4480],\n",
       "                        [ 0.5378,  0.2966, -0.0364, -0.9326],\n",
       "                        [-0.5676,  0.2178,  0.9872, -1.4102],\n",
       "                        [-0.0221, -1.2250, -1.2483, -1.4480],\n",
       "                        [ 0.5378,  0.2966, -0.0364, -0.9326],\n",
       "                        [-0.5676,  0.2178,  0.9872, -1.4102],\n",
       "                        [-0.0221, -1.2250, -1.2483, -1.4480],\n",
       "                        [ 0.5378,  0.2966, -0.0364, -0.9326],\n",
       "                        [-0.5676,  0.2178,  0.9872, -1.4102],\n",
       "                        [-0.0221, -1.2250, -1.2483, -1.4480],\n",
       "                        [ 0.5378,  0.2966, -0.0364, -0.9326],\n",
       "                        [-0.5676,  0.2178,  0.9872, -1.4102],\n",
       "                        [-0.0221, -1.2250, -1.2483, -1.4480],\n",
       "                        [ 0.5378,  0.2966, -0.0364, -0.9326],\n",
       "                        [-0.5676,  0.2178,  0.9872, -1.4102],\n",
       "                        [-0.0221, -1.2250, -1.2483, -1.4480],\n",
       "                        [ 0.5378,  0.2966, -0.0364, -0.9326],\n",
       "                        [-0.5676,  0.2178,  0.9872, -1.4102]])"
      ]
     },
     "execution_count": 22,
     "metadata": {},
     "output_type": "execute_result"
    }
   ],
   "source": [
    "t_cat = FastTreeValue.func(subside=True)(torch.cat)\n",
    "\n",
    "t_cat(trees)"
   ]
  },
  {
   "cell_type": "code",
   "execution_count": 23,
   "id": "5e9c06a6",
   "metadata": {
    "execution": {
     "iopub.execute_input": "2023-04-16T14:50:30.789814Z",
     "iopub.status.busy": "2023-04-16T14:50:30.789585Z",
     "iopub.status.idle": "2023-04-16T14:50:33.277401Z",
     "shell.execute_reply": "2023-04-16T14:50:33.276655Z"
    }
   },
   "outputs": [
    {
     "name": "stdout",
     "output_type": "stream",
     "text": [
      "30.6 µs ± 45.2 ns per loop (mean ± std. dev. of 7 runs, 10,000 loops each)\n"
     ]
    }
   ],
   "source": [
    "%timeit t_cat(trees)"
   ]
  },
  {
   "cell_type": "code",
   "execution_count": 24,
   "id": "a3ab5c8f",
   "metadata": {
    "execution": {
     "iopub.execute_input": "2023-04-16T14:50:33.281210Z",
     "iopub.status.busy": "2023-04-16T14:50:33.280966Z",
     "iopub.status.idle": "2023-04-16T14:50:38.702347Z",
     "shell.execute_reply": "2023-04-16T14:50:38.701603Z"
    }
   },
   "outputs": [
    {
     "name": "stdout",
     "output_type": "stream",
     "text": [
      "66.7 µs ± 57.1 ns per loop (mean ± std. dev. of 7 runs, 10,000 loops each)\n"
     ]
    }
   ],
   "source": [
    "t_split = FastTreeValue.func(rise=True)(torch.split)\n",
    "tree = FastTreeValue({\n",
    "    'obs': torch.randn(8, 4, 84, 84),\n",
    "    'action': torch.randint(0, 6, size=(8, 1,)),\n",
    "    'reward': torch.rand(8, 1),\n",
    "})\n",
    "\n",
    "%timeit t_split(tree, 1)"
   ]
  },
  {
   "cell_type": "markdown",
   "id": "31c3ec0b",
   "metadata": {},
   "source": [
    "### Performance of Tianshou Batch"
   ]
  },
  {
   "cell_type": "code",
   "execution_count": 25,
   "id": "9ead828a",
   "metadata": {
    "execution": {
     "iopub.execute_input": "2023-04-16T14:50:38.705859Z",
     "iopub.status.busy": "2023-04-16T14:50:38.705333Z",
     "iopub.status.idle": "2023-04-16T14:50:38.712709Z",
     "shell.execute_reply": "2023-04-16T14:50:38.712065Z"
    }
   },
   "outputs": [
    {
     "data": {
      "text/plain": [
       "Batch(\n",
       "    x: Batch(\n",
       "           c: tensor([[[-0.0221, -1.2250, -1.2483, -1.4480],\n",
       "                       [ 0.5378,  0.2966, -0.0364, -0.9326],\n",
       "                       [-0.5676,  0.2178,  0.9872, -1.4102]],\n",
       "              \n",
       "                      [[-0.0221, -1.2250, -1.2483, -1.4480],\n",
       "                       [ 0.5378,  0.2966, -0.0364, -0.9326],\n",
       "                       [-0.5676,  0.2178,  0.9872, -1.4102]],\n",
       "              \n",
       "                      [[-0.0221, -1.2250, -1.2483, -1.4480],\n",
       "                       [ 0.5378,  0.2966, -0.0364, -0.9326],\n",
       "                       [-0.5676,  0.2178,  0.9872, -1.4102]],\n",
       "              \n",
       "                      [[-0.0221, -1.2250, -1.2483, -1.4480],\n",
       "                       [ 0.5378,  0.2966, -0.0364, -0.9326],\n",
       "                       [-0.5676,  0.2178,  0.9872, -1.4102]],\n",
       "              \n",
       "                      [[-0.0221, -1.2250, -1.2483, -1.4480],\n",
       "                       [ 0.5378,  0.2966, -0.0364, -0.9326],\n",
       "                       [-0.5676,  0.2178,  0.9872, -1.4102]],\n",
       "              \n",
       "                      [[-0.0221, -1.2250, -1.2483, -1.4480],\n",
       "                       [ 0.5378,  0.2966, -0.0364, -0.9326],\n",
       "                       [-0.5676,  0.2178,  0.9872, -1.4102]],\n",
       "              \n",
       "                      [[-0.0221, -1.2250, -1.2483, -1.4480],\n",
       "                       [ 0.5378,  0.2966, -0.0364, -0.9326],\n",
       "                       [-0.5676,  0.2178,  0.9872, -1.4102]],\n",
       "              \n",
       "                      [[-0.0221, -1.2250, -1.2483, -1.4480],\n",
       "                       [ 0.5378,  0.2966, -0.0364, -0.9326],\n",
       "                       [-0.5676,  0.2178,  0.9872, -1.4102]]]),\n",
       "       ),\n",
       "    a: tensor([[[-0.5335,  0.5165, -1.1646],\n",
       "                [ 0.7670, -0.4563, -1.2870]],\n",
       "       \n",
       "               [[-0.5335,  0.5165, -1.1646],\n",
       "                [ 0.7670, -0.4563, -1.2870]],\n",
       "       \n",
       "               [[-0.5335,  0.5165, -1.1646],\n",
       "                [ 0.7670, -0.4563, -1.2870]],\n",
       "       \n",
       "               [[-0.5335,  0.5165, -1.1646],\n",
       "                [ 0.7670, -0.4563, -1.2870]],\n",
       "       \n",
       "               [[-0.5335,  0.5165, -1.1646],\n",
       "                [ 0.7670, -0.4563, -1.2870]],\n",
       "       \n",
       "               [[-0.5335,  0.5165, -1.1646],\n",
       "                [ 0.7670, -0.4563, -1.2870]],\n",
       "       \n",
       "               [[-0.5335,  0.5165, -1.1646],\n",
       "                [ 0.7670, -0.4563, -1.2870]],\n",
       "       \n",
       "               [[-0.5335,  0.5165, -1.1646],\n",
       "                [ 0.7670, -0.4563, -1.2870]]]),\n",
       ")"
      ]
     },
     "execution_count": 25,
     "metadata": {},
     "output_type": "execute_result"
    }
   ],
   "source": [
    "batches = [Batch(**_TREE_DATA_2) for _ in range(8)]\n",
    "\n",
    "Batch.stack(batches)"
   ]
  },
  {
   "cell_type": "code",
   "execution_count": 26,
   "id": "ec9037a3",
   "metadata": {
    "execution": {
     "iopub.execute_input": "2023-04-16T14:50:38.715346Z",
     "iopub.status.busy": "2023-04-16T14:50:38.715012Z",
     "iopub.status.idle": "2023-04-16T14:50:45.180096Z",
     "shell.execute_reply": "2023-04-16T14:50:45.179484Z"
    }
   },
   "outputs": [
    {
     "name": "stdout",
     "output_type": "stream",
     "text": [
      "79.7 µs ± 213 ns per loop (mean ± std. dev. of 7 runs, 10,000 loops each)\n"
     ]
    }
   ],
   "source": [
    "%timeit Batch.stack(batches)"
   ]
  },
  {
   "cell_type": "code",
   "execution_count": 27,
   "id": "cb8ab77e",
   "metadata": {
    "execution": {
     "iopub.execute_input": "2023-04-16T14:50:45.183287Z",
     "iopub.status.busy": "2023-04-16T14:50:45.182822Z",
     "iopub.status.idle": "2023-04-16T14:50:45.189897Z",
     "shell.execute_reply": "2023-04-16T14:50:45.189257Z"
    }
   },
   "outputs": [
    {
     "data": {
      "text/plain": [
       "Batch(\n",
       "    x: Batch(\n",
       "           c: tensor([[-0.0221, -1.2250, -1.2483, -1.4480],\n",
       "                      [ 0.5378,  0.2966, -0.0364, -0.9326],\n",
       "                      [-0.5676,  0.2178,  0.9872, -1.4102],\n",
       "                      [-0.0221, -1.2250, -1.2483, -1.4480],\n",
       "                      [ 0.5378,  0.2966, -0.0364, -0.9326],\n",
       "                      [-0.5676,  0.2178,  0.9872, -1.4102],\n",
       "                      [-0.0221, -1.2250, -1.2483, -1.4480],\n",
       "                      [ 0.5378,  0.2966, -0.0364, -0.9326],\n",
       "                      [-0.5676,  0.2178,  0.9872, -1.4102],\n",
       "                      [-0.0221, -1.2250, -1.2483, -1.4480],\n",
       "                      [ 0.5378,  0.2966, -0.0364, -0.9326],\n",
       "                      [-0.5676,  0.2178,  0.9872, -1.4102],\n",
       "                      [-0.0221, -1.2250, -1.2483, -1.4480],\n",
       "                      [ 0.5378,  0.2966, -0.0364, -0.9326],\n",
       "                      [-0.5676,  0.2178,  0.9872, -1.4102],\n",
       "                      [-0.0221, -1.2250, -1.2483, -1.4480],\n",
       "                      [ 0.5378,  0.2966, -0.0364, -0.9326],\n",
       "                      [-0.5676,  0.2178,  0.9872, -1.4102],\n",
       "                      [-0.0221, -1.2250, -1.2483, -1.4480],\n",
       "                      [ 0.5378,  0.2966, -0.0364, -0.9326],\n",
       "                      [-0.5676,  0.2178,  0.9872, -1.4102],\n",
       "                      [-0.0221, -1.2250, -1.2483, -1.4480],\n",
       "                      [ 0.5378,  0.2966, -0.0364, -0.9326],\n",
       "                      [-0.5676,  0.2178,  0.9872, -1.4102]]),\n",
       "       ),\n",
       "    a: tensor([[-0.5335,  0.5165, -1.1646],\n",
       "               [ 0.7670, -0.4563, -1.2870],\n",
       "               [-0.5335,  0.5165, -1.1646],\n",
       "               [ 0.7670, -0.4563, -1.2870],\n",
       "               [-0.5335,  0.5165, -1.1646],\n",
       "               [ 0.7670, -0.4563, -1.2870],\n",
       "               [-0.5335,  0.5165, -1.1646],\n",
       "               [ 0.7670, -0.4563, -1.2870],\n",
       "               [-0.5335,  0.5165, -1.1646],\n",
       "               [ 0.7670, -0.4563, -1.2870],\n",
       "               [-0.5335,  0.5165, -1.1646],\n",
       "               [ 0.7670, -0.4563, -1.2870],\n",
       "               [-0.5335,  0.5165, -1.1646],\n",
       "               [ 0.7670, -0.4563, -1.2870],\n",
       "               [-0.5335,  0.5165, -1.1646],\n",
       "               [ 0.7670, -0.4563, -1.2870]]),\n",
       ")"
      ]
     },
     "execution_count": 27,
     "metadata": {},
     "output_type": "execute_result"
    }
   ],
   "source": [
    "Batch.cat(batches)"
   ]
  },
  {
   "cell_type": "code",
   "execution_count": 28,
   "id": "18dfb045",
   "metadata": {
    "execution": {
     "iopub.execute_input": "2023-04-16T14:50:45.192836Z",
     "iopub.status.busy": "2023-04-16T14:50:45.192491Z",
     "iopub.status.idle": "2023-04-16T14:50:57.190734Z",
     "shell.execute_reply": "2023-04-16T14:50:57.190138Z"
    }
   },
   "outputs": [
    {
     "name": "stdout",
     "output_type": "stream",
     "text": [
      "148 µs ± 255 ns per loop (mean ± std. dev. of 7 runs, 10,000 loops each)\n"
     ]
    }
   ],
   "source": [
    "%timeit Batch.cat(batches)"
   ]
  },
  {
   "cell_type": "code",
   "execution_count": 29,
   "id": "c6688e51",
   "metadata": {
    "execution": {
     "iopub.execute_input": "2023-04-16T14:50:57.194095Z",
     "iopub.status.busy": "2023-04-16T14:50:57.193533Z",
     "iopub.status.idle": "2023-04-16T14:50:59.788133Z",
     "shell.execute_reply": "2023-04-16T14:50:59.787421Z"
    }
   },
   "outputs": [
    {
     "name": "stdout",
     "output_type": "stream",
     "text": [
      "319 µs ± 901 ns per loop (mean ± std. dev. of 7 runs, 1,000 loops each)\n"
     ]
    }
   ],
   "source": [
    "batch = Batch({\n",
    "    'obs': torch.randn(8, 4, 84, 84),\n",
    "    'action': torch.randint(0, 6, size=(8, 1,)),\n",
    "    'reward': torch.rand(8, 1)}\n",
    ")\n",
    "\n",
    "%timeit list(Batch.split(batch, 1, shuffle=False, merge_last=True))"
   ]
  },
  {
   "cell_type": "code",
   "execution_count": null,
   "id": "2539fbd9",
   "metadata": {},
   "outputs": [],
   "source": []
  }
 ],
 "metadata": {
  "kernelspec": {
   "display_name": "Python 3 (ipykernel)",
   "language": "python",
   "name": "python3"
  },
  "language_info": {
   "codemirror_mode": {
    "name": "ipython",
    "version": 3
   },
   "file_extension": ".py",
   "mimetype": "text/x-python",
   "name": "python",
   "nbconvert_exporter": "python",
   "pygments_lexer": "ipython3",
   "version": "3.8.16"
  }
 },
 "nbformat": 4,
 "nbformat_minor": 5
}
