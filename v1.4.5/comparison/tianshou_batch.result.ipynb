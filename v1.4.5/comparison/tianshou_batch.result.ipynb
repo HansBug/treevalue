{
 "cells": [
  {
   "cell_type": "markdown",
   "id": "9d39d946",
   "metadata": {},
   "source": [
    "# Comparison Between TreeValue and Tianshou Batch"
   ]
  },
  {
   "cell_type": "markdown",
   "id": "3c6db2d4",
   "metadata": {},
   "source": [
    "In this section, we will take a look at the feature and performance of the [Tianshou Batch](https://github.com/thu-ml/tianshou) library, which is developed by Tsinghua Machine Learning Group."
   ]
  },
  {
   "cell_type": "markdown",
   "id": "069361b0",
   "metadata": {},
   "source": [
    "Before starting the comparison, let us define some thing."
   ]
  },
  {
   "cell_type": "code",
   "execution_count": 1,
   "id": "06fc8d26",
   "metadata": {
    "execution": {
     "iopub.execute_input": "2023-02-24T08:12:20.854811Z",
     "iopub.status.busy": "2023-02-24T08:12:20.854340Z",
     "iopub.status.idle": "2023-02-24T08:12:22.060515Z",
     "shell.execute_reply": "2023-02-24T08:12:22.057498Z"
    }
   },
   "outputs": [
    {
     "name": "stderr",
     "output_type": "stream",
     "text": [
      "/opt/hostedtoolcache/Python/3.8.16/x64/lib/python3.8/site-packages/tqdm/auto.py:22: TqdmWarning: IProgress not found. Please update jupyter and ipywidgets. See https://ipywidgets.readthedocs.io/en/stable/user_install.html\n",
      "  from .autonotebook import tqdm as notebook_tqdm\n"
     ]
    }
   ],
   "source": [
    "import torch \n",
    "\n",
    "_TREE_DATA_1 = {'a': 1, 'b': 2, 'x': {'c': 3, 'd': 4}}\n",
    "_TREE_DATA_2 = {\n",
    "    'a': torch.randn(2, 3), \n",
    "    'x': {\n",
    "        'c': torch.randn(3, 4)\n",
    "    },\n",
    "}\n",
    "_TREE_DATA_3 = {\n",
    "    'obs': torch.randn(4, 84, 84),\n",
    "    'action': torch.randint(0, 6, size=(1,)),\n",
    "    'reward': torch.rand(1),\n",
    "}"
   ]
  },
  {
   "cell_type": "markdown",
   "id": "83461b25",
   "metadata": {},
   "source": [
    "## Read and Write Operation"
   ]
  },
  {
   "cell_type": "markdown",
   "id": "067b3f73",
   "metadata": {},
   "source": [
    "Reading and writing are the two most common operations in the tree data structure based on the data model (TreeValue and Tianshou Batch both belong to this type), so this section will compare the reading and writing performance of these two libraries."
   ]
  },
  {
   "cell_type": "markdown",
   "id": "5d09a5b7",
   "metadata": {},
   "source": [
    "### TreeValue's Get and Set"
   ]
  },
  {
   "cell_type": "code",
   "execution_count": 2,
   "id": "9519c4bb",
   "metadata": {
    "execution": {
     "iopub.execute_input": "2023-02-24T08:12:22.065793Z",
     "iopub.status.busy": "2023-02-24T08:12:22.065361Z",
     "iopub.status.idle": "2023-02-24T08:12:22.107153Z",
     "shell.execute_reply": "2023-02-24T08:12:22.106105Z"
    }
   },
   "outputs": [],
   "source": [
    "from treevalue import FastTreeValue\n",
    "\n",
    "t = FastTreeValue(_TREE_DATA_2)"
   ]
  },
  {
   "cell_type": "code",
   "execution_count": 3,
   "id": "11c37677",
   "metadata": {
    "execution": {
     "iopub.execute_input": "2023-02-24T08:12:22.111081Z",
     "iopub.status.busy": "2023-02-24T08:12:22.110829Z",
     "iopub.status.idle": "2023-02-24T08:12:22.122718Z",
     "shell.execute_reply": "2023-02-24T08:12:22.121688Z"
    }
   },
   "outputs": [
    {
     "data": {
      "text/plain": [
       "<FastTreeValue 0x7ffb94e9bbe0>\n",
       "├── 'a' --> tensor([[ 1.3636,  1.6924, -0.1848],\n",
       "│                   [ 1.0244, -0.0365,  0.2970]])\n",
       "└── 'x' --> <FastTreeValue 0x7ffb94e9bc70>\n",
       "    └── 'c' --> tensor([[-2.0211,  0.5310, -0.0415,  0.4631],\n",
       "                        [-0.4067,  0.4376,  1.6817,  0.2186],\n",
       "                        [-0.7215, -1.5169, -0.5356, -0.3247]])"
      ]
     },
     "execution_count": 3,
     "metadata": {},
     "output_type": "execute_result"
    }
   ],
   "source": [
    "t"
   ]
  },
  {
   "cell_type": "code",
   "execution_count": 4,
   "id": "fd70b0b9",
   "metadata": {
    "execution": {
     "iopub.execute_input": "2023-02-24T08:12:22.126056Z",
     "iopub.status.busy": "2023-02-24T08:12:22.125591Z",
     "iopub.status.idle": "2023-02-24T08:12:22.134538Z",
     "shell.execute_reply": "2023-02-24T08:12:22.133544Z"
    }
   },
   "outputs": [
    {
     "data": {
      "text/plain": [
       "tensor([[ 1.3636,  1.6924, -0.1848],\n",
       "        [ 1.0244, -0.0365,  0.2970]])"
      ]
     },
     "execution_count": 4,
     "metadata": {},
     "output_type": "execute_result"
    }
   ],
   "source": [
    "t.a"
   ]
  },
  {
   "cell_type": "code",
   "execution_count": 5,
   "id": "c18197bd",
   "metadata": {
    "execution": {
     "iopub.execute_input": "2023-02-24T08:12:22.138095Z",
     "iopub.status.busy": "2023-02-24T08:12:22.137797Z",
     "iopub.status.idle": "2023-02-24T08:12:28.267246Z",
     "shell.execute_reply": "2023-02-24T08:12:28.266252Z"
    }
   },
   "outputs": [
    {
     "name": "stdout",
     "output_type": "stream",
     "text": [
      "74.7 ns ± 1.47 ns per loop (mean ± std. dev. of 7 runs, 10,000,000 loops each)\n"
     ]
    }
   ],
   "source": [
    "%timeit t.a"
   ]
  },
  {
   "cell_type": "code",
   "execution_count": 6,
   "id": "bd52f867",
   "metadata": {
    "execution": {
     "iopub.execute_input": "2023-02-24T08:12:28.270769Z",
     "iopub.status.busy": "2023-02-24T08:12:28.270465Z",
     "iopub.status.idle": "2023-02-24T08:12:28.279869Z",
     "shell.execute_reply": "2023-02-24T08:12:28.278913Z"
    }
   },
   "outputs": [
    {
     "data": {
      "text/plain": [
       "<FastTreeValue 0x7ffb94e9bbe0>\n",
       "├── 'a' --> tensor([[-0.0428, -1.1768,  0.0802],\n",
       "│                   [ 0.6637,  1.4329,  1.5996]])\n",
       "└── 'x' --> <FastTreeValue 0x7ffb94e9bc70>\n",
       "    └── 'c' --> tensor([[-2.0211,  0.5310, -0.0415,  0.4631],\n",
       "                        [-0.4067,  0.4376,  1.6817,  0.2186],\n",
       "                        [-0.7215, -1.5169, -0.5356, -0.3247]])"
      ]
     },
     "execution_count": 6,
     "metadata": {},
     "output_type": "execute_result"
    }
   ],
   "source": [
    "new_value = torch.randn(2, 3)\n",
    "t.a = new_value\n",
    "\n",
    "t"
   ]
  },
  {
   "cell_type": "code",
   "execution_count": 7,
   "id": "bbe04d1c",
   "metadata": {
    "execution": {
     "iopub.execute_input": "2023-02-24T08:12:28.283305Z",
     "iopub.status.busy": "2023-02-24T08:12:28.283025Z",
     "iopub.status.idle": "2023-02-24T08:12:34.543176Z",
     "shell.execute_reply": "2023-02-24T08:12:34.542159Z"
    }
   },
   "outputs": [
    {
     "name": "stdout",
     "output_type": "stream",
     "text": [
      "76.7 ns ± 0.555 ns per loop (mean ± std. dev. of 7 runs, 10,000,000 loops each)\n"
     ]
    }
   ],
   "source": [
    "%timeit t.a = new_value"
   ]
  },
  {
   "cell_type": "markdown",
   "id": "48c49731",
   "metadata": {},
   "source": [
    "### Tianshou Batch's Get and Set"
   ]
  },
  {
   "cell_type": "code",
   "execution_count": 8,
   "id": "f1bb14c1",
   "metadata": {
    "execution": {
     "iopub.execute_input": "2023-02-24T08:12:34.546919Z",
     "iopub.status.busy": "2023-02-24T08:12:34.546499Z",
     "iopub.status.idle": "2023-02-24T08:12:35.000088Z",
     "shell.execute_reply": "2023-02-24T08:12:34.999042Z"
    }
   },
   "outputs": [],
   "source": [
    "from tianshou.data import Batch\n",
    "\n",
    "b = Batch(**_TREE_DATA_2)"
   ]
  },
  {
   "cell_type": "code",
   "execution_count": 9,
   "id": "cb0777c3",
   "metadata": {
    "execution": {
     "iopub.execute_input": "2023-02-24T08:12:35.004539Z",
     "iopub.status.busy": "2023-02-24T08:12:35.004090Z",
     "iopub.status.idle": "2023-02-24T08:12:35.011502Z",
     "shell.execute_reply": "2023-02-24T08:12:35.010575Z"
    }
   },
   "outputs": [
    {
     "data": {
      "text/plain": [
       "Batch(\n",
       "    a: tensor([[ 1.3636,  1.6924, -0.1848],\n",
       "               [ 1.0244, -0.0365,  0.2970]]),\n",
       "    x: Batch(\n",
       "           c: tensor([[-2.0211,  0.5310, -0.0415,  0.4631],\n",
       "                      [-0.4067,  0.4376,  1.6817,  0.2186],\n",
       "                      [-0.7215, -1.5169, -0.5356, -0.3247]]),\n",
       "       ),\n",
       ")"
      ]
     },
     "execution_count": 9,
     "metadata": {},
     "output_type": "execute_result"
    }
   ],
   "source": [
    "b"
   ]
  },
  {
   "cell_type": "code",
   "execution_count": 10,
   "id": "43ef8ea3",
   "metadata": {
    "execution": {
     "iopub.execute_input": "2023-02-24T08:12:35.014878Z",
     "iopub.status.busy": "2023-02-24T08:12:35.014573Z",
     "iopub.status.idle": "2023-02-24T08:12:35.021221Z",
     "shell.execute_reply": "2023-02-24T08:12:35.020183Z"
    }
   },
   "outputs": [
    {
     "data": {
      "text/plain": [
       "tensor([[ 1.3636,  1.6924, -0.1848],\n",
       "        [ 1.0244, -0.0365,  0.2970]])"
      ]
     },
     "execution_count": 10,
     "metadata": {},
     "output_type": "execute_result"
    }
   ],
   "source": [
    "b.a"
   ]
  },
  {
   "cell_type": "code",
   "execution_count": 11,
   "id": "b785ab72",
   "metadata": {
    "execution": {
     "iopub.execute_input": "2023-02-24T08:12:35.024793Z",
     "iopub.status.busy": "2023-02-24T08:12:35.024366Z",
     "iopub.status.idle": "2023-02-24T08:12:40.397147Z",
     "shell.execute_reply": "2023-02-24T08:12:40.395878Z"
    }
   },
   "outputs": [
    {
     "name": "stdout",
     "output_type": "stream",
     "text": [
      "66.1 ns ± 1.1 ns per loop (mean ± std. dev. of 7 runs, 10,000,000 loops each)\n"
     ]
    }
   ],
   "source": [
    "%timeit b.a"
   ]
  },
  {
   "cell_type": "code",
   "execution_count": 12,
   "id": "ad54dc69",
   "metadata": {
    "execution": {
     "iopub.execute_input": "2023-02-24T08:12:40.401060Z",
     "iopub.status.busy": "2023-02-24T08:12:40.400773Z",
     "iopub.status.idle": "2023-02-24T08:12:40.410653Z",
     "shell.execute_reply": "2023-02-24T08:12:40.409646Z"
    }
   },
   "outputs": [
    {
     "data": {
      "text/plain": [
       "Batch(\n",
       "    a: tensor([[-1.2272, -0.3267,  0.0637],\n",
       "               [-1.3723,  0.6658, -1.1822]]),\n",
       "    x: Batch(\n",
       "           c: tensor([[-2.0211,  0.5310, -0.0415,  0.4631],\n",
       "                      [-0.4067,  0.4376,  1.6817,  0.2186],\n",
       "                      [-0.7215, -1.5169, -0.5356, -0.3247]]),\n",
       "       ),\n",
       ")"
      ]
     },
     "execution_count": 12,
     "metadata": {},
     "output_type": "execute_result"
    }
   ],
   "source": [
    "new_value = torch.randn(2, 3)\n",
    "b.a = new_value\n",
    "\n",
    "b"
   ]
  },
  {
   "cell_type": "code",
   "execution_count": 13,
   "id": "29b1d0bf",
   "metadata": {
    "execution": {
     "iopub.execute_input": "2023-02-24T08:12:40.414188Z",
     "iopub.status.busy": "2023-02-24T08:12:40.413901Z",
     "iopub.status.idle": "2023-02-24T08:12:45.206797Z",
     "shell.execute_reply": "2023-02-24T08:12:45.205788Z"
    }
   },
   "outputs": [
    {
     "name": "stdout",
     "output_type": "stream",
     "text": [
      "589 ns ± 13.2 ns per loop (mean ± std. dev. of 7 runs, 1,000,000 loops each)\n"
     ]
    }
   ],
   "source": [
    "%timeit b.a = new_value"
   ]
  },
  {
   "cell_type": "markdown",
   "id": "b61ad1d0",
   "metadata": {},
   "source": [
    "## Initialization"
   ]
  },
  {
   "cell_type": "markdown",
   "id": "d70f0d54",
   "metadata": {},
   "source": [
    "### TreeValue's Initialization"
   ]
  },
  {
   "cell_type": "code",
   "execution_count": 14,
   "id": "d32a679b",
   "metadata": {
    "execution": {
     "iopub.execute_input": "2023-02-24T08:12:45.210741Z",
     "iopub.status.busy": "2023-02-24T08:12:45.210110Z",
     "iopub.status.idle": "2023-02-24T08:12:53.025180Z",
     "shell.execute_reply": "2023-02-24T08:12:53.024026Z"
    }
   },
   "outputs": [
    {
     "name": "stdout",
     "output_type": "stream",
     "text": [
      "964 ns ± 14.4 ns per loop (mean ± std. dev. of 7 runs, 1,000,000 loops each)\n"
     ]
    }
   ],
   "source": [
    "%timeit FastTreeValue(_TREE_DATA_1)"
   ]
  },
  {
   "cell_type": "markdown",
   "id": "24f3707b",
   "metadata": {},
   "source": [
    "### Tianshou Batch's Initialization"
   ]
  },
  {
   "cell_type": "code",
   "execution_count": 15,
   "id": "ac3958df",
   "metadata": {
    "execution": {
     "iopub.execute_input": "2023-02-24T08:12:53.029208Z",
     "iopub.status.busy": "2023-02-24T08:12:53.028890Z",
     "iopub.status.idle": "2023-02-24T08:13:03.621651Z",
     "shell.execute_reply": "2023-02-24T08:13:03.620733Z"
    }
   },
   "outputs": [
    {
     "name": "stdout",
     "output_type": "stream",
     "text": [
      "13 µs ± 165 ns per loop (mean ± std. dev. of 7 runs, 100,000 loops each)\n"
     ]
    }
   ],
   "source": [
    "%timeit Batch(**_TREE_DATA_1)"
   ]
  },
  {
   "cell_type": "markdown",
   "id": "1ab82e2d",
   "metadata": {},
   "source": [
    "## Deep Copy Operation"
   ]
  },
  {
   "cell_type": "code",
   "execution_count": 16,
   "id": "210a9442",
   "metadata": {
    "execution": {
     "iopub.execute_input": "2023-02-24T08:13:03.625767Z",
     "iopub.status.busy": "2023-02-24T08:13:03.625225Z",
     "iopub.status.idle": "2023-02-24T08:13:03.630494Z",
     "shell.execute_reply": "2023-02-24T08:13:03.629559Z"
    }
   },
   "outputs": [],
   "source": [
    "import copy"
   ]
  },
  {
   "cell_type": "markdown",
   "id": "5a736274",
   "metadata": {},
   "source": [
    "### Deep Copy of TreeValue"
   ]
  },
  {
   "cell_type": "code",
   "execution_count": 17,
   "id": "f9bcadd6",
   "metadata": {
    "execution": {
     "iopub.execute_input": "2023-02-24T08:13:03.633918Z",
     "iopub.status.busy": "2023-02-24T08:13:03.633609Z",
     "iopub.status.idle": "2023-02-24T08:13:05.901775Z",
     "shell.execute_reply": "2023-02-24T08:13:05.900727Z"
    }
   },
   "outputs": [
    {
     "name": "stdout",
     "output_type": "stream",
     "text": [
      "279 µs ± 5.05 µs per loop (mean ± std. dev. of 7 runs, 1,000 loops each)\n"
     ]
    }
   ],
   "source": [
    "t3 = FastTreeValue(_TREE_DATA_3)\n",
    "%timeit copy.deepcopy(t3)"
   ]
  },
  {
   "cell_type": "markdown",
   "id": "bf8be7ea",
   "metadata": {},
   "source": [
    "### Deep Copy of Tianshou Batch"
   ]
  },
  {
   "cell_type": "code",
   "execution_count": 18,
   "id": "91998e6f",
   "metadata": {
    "execution": {
     "iopub.execute_input": "2023-02-24T08:13:05.905394Z",
     "iopub.status.busy": "2023-02-24T08:13:05.905079Z",
     "iopub.status.idle": "2023-02-24T08:13:08.053094Z",
     "shell.execute_reply": "2023-02-24T08:13:08.052230Z"
    }
   },
   "outputs": [
    {
     "name": "stdout",
     "output_type": "stream",
     "text": [
      "263 µs ± 5.4 µs per loop (mean ± std. dev. of 7 runs, 1,000 loops each)\n"
     ]
    }
   ],
   "source": [
    "b3 = Batch(**_TREE_DATA_3)\n",
    "%timeit copy.deepcopy(b3)"
   ]
  },
  {
   "cell_type": "markdown",
   "id": "223162fb",
   "metadata": {},
   "source": [
    "## Stack, Concat and Split Operation"
   ]
  },
  {
   "cell_type": "markdown",
   "id": "85fa4a73",
   "metadata": {},
   "source": [
    "### Performance of TreeValue"
   ]
  },
  {
   "cell_type": "code",
   "execution_count": 19,
   "id": "a0c2b697",
   "metadata": {
    "execution": {
     "iopub.execute_input": "2023-02-24T08:13:08.057904Z",
     "iopub.status.busy": "2023-02-24T08:13:08.057086Z",
     "iopub.status.idle": "2023-02-24T08:13:08.062569Z",
     "shell.execute_reply": "2023-02-24T08:13:08.061540Z"
    }
   },
   "outputs": [],
   "source": [
    "trees = [FastTreeValue(_TREE_DATA_2) for _ in range(8)]"
   ]
  },
  {
   "cell_type": "code",
   "execution_count": 20,
   "id": "017ea5a5",
   "metadata": {
    "execution": {
     "iopub.execute_input": "2023-02-24T08:13:08.065875Z",
     "iopub.status.busy": "2023-02-24T08:13:08.065364Z",
     "iopub.status.idle": "2023-02-24T08:13:08.074561Z",
     "shell.execute_reply": "2023-02-24T08:13:08.073580Z"
    }
   },
   "outputs": [
    {
     "data": {
      "text/plain": [
       "<FastTreeValue 0x7ffae7bfd1c0>\n",
       "├── 'a' --> tensor([[[ 1.3636,  1.6924, -0.1848],\n",
       "│                    [ 1.0244, -0.0365,  0.2970]],\n",
       "│           \n",
       "│                   [[ 1.3636,  1.6924, -0.1848],\n",
       "│                    [ 1.0244, -0.0365,  0.2970]],\n",
       "│           \n",
       "│                   [[ 1.3636,  1.6924, -0.1848],\n",
       "│                    [ 1.0244, -0.0365,  0.2970]],\n",
       "│           \n",
       "│                   [[ 1.3636,  1.6924, -0.1848],\n",
       "│                    [ 1.0244, -0.0365,  0.2970]],\n",
       "│           \n",
       "│                   [[ 1.3636,  1.6924, -0.1848],\n",
       "│                    [ 1.0244, -0.0365,  0.2970]],\n",
       "│           \n",
       "│                   [[ 1.3636,  1.6924, -0.1848],\n",
       "│                    [ 1.0244, -0.0365,  0.2970]],\n",
       "│           \n",
       "│                   [[ 1.3636,  1.6924, -0.1848],\n",
       "│                    [ 1.0244, -0.0365,  0.2970]],\n",
       "│           \n",
       "│                   [[ 1.3636,  1.6924, -0.1848],\n",
       "│                    [ 1.0244, -0.0365,  0.2970]]])\n",
       "└── 'x' --> <FastTreeValue 0x7ffae7b0aa60>\n",
       "    └── 'c' --> tensor([[[-2.0211,  0.5310, -0.0415,  0.4631],\n",
       "                         [-0.4067,  0.4376,  1.6817,  0.2186],\n",
       "                         [-0.7215, -1.5169, -0.5356, -0.3247]],\n",
       "                \n",
       "                        [[-2.0211,  0.5310, -0.0415,  0.4631],\n",
       "                         [-0.4067,  0.4376,  1.6817,  0.2186],\n",
       "                         [-0.7215, -1.5169, -0.5356, -0.3247]],\n",
       "                \n",
       "                        [[-2.0211,  0.5310, -0.0415,  0.4631],\n",
       "                         [-0.4067,  0.4376,  1.6817,  0.2186],\n",
       "                         [-0.7215, -1.5169, -0.5356, -0.3247]],\n",
       "                \n",
       "                        [[-2.0211,  0.5310, -0.0415,  0.4631],\n",
       "                         [-0.4067,  0.4376,  1.6817,  0.2186],\n",
       "                         [-0.7215, -1.5169, -0.5356, -0.3247]],\n",
       "                \n",
       "                        [[-2.0211,  0.5310, -0.0415,  0.4631],\n",
       "                         [-0.4067,  0.4376,  1.6817,  0.2186],\n",
       "                         [-0.7215, -1.5169, -0.5356, -0.3247]],\n",
       "                \n",
       "                        [[-2.0211,  0.5310, -0.0415,  0.4631],\n",
       "                         [-0.4067,  0.4376,  1.6817,  0.2186],\n",
       "                         [-0.7215, -1.5169, -0.5356, -0.3247]],\n",
       "                \n",
       "                        [[-2.0211,  0.5310, -0.0415,  0.4631],\n",
       "                         [-0.4067,  0.4376,  1.6817,  0.2186],\n",
       "                         [-0.7215, -1.5169, -0.5356, -0.3247]],\n",
       "                \n",
       "                        [[-2.0211,  0.5310, -0.0415,  0.4631],\n",
       "                         [-0.4067,  0.4376,  1.6817,  0.2186],\n",
       "                         [-0.7215, -1.5169, -0.5356, -0.3247]]])"
      ]
     },
     "execution_count": 20,
     "metadata": {},
     "output_type": "execute_result"
    }
   ],
   "source": [
    "t_stack = FastTreeValue.func(subside=True)(torch.stack)\n",
    "\n",
    "t_stack(trees)"
   ]
  },
  {
   "cell_type": "code",
   "execution_count": 21,
   "id": "f8b3f415",
   "metadata": {
    "execution": {
     "iopub.execute_input": "2023-02-24T08:13:08.077632Z",
     "iopub.status.busy": "2023-02-24T08:13:08.077140Z",
     "iopub.status.idle": "2023-02-24T08:13:11.532713Z",
     "shell.execute_reply": "2023-02-24T08:13:11.531471Z"
    }
   },
   "outputs": [
    {
     "name": "stdout",
     "output_type": "stream",
     "text": [
      "42.5 µs ± 1.52 µs per loop (mean ± std. dev. of 7 runs, 10,000 loops each)\n"
     ]
    }
   ],
   "source": [
    "%timeit t_stack(trees)"
   ]
  },
  {
   "cell_type": "code",
   "execution_count": 22,
   "id": "94b56771",
   "metadata": {
    "execution": {
     "iopub.execute_input": "2023-02-24T08:13:11.537514Z",
     "iopub.status.busy": "2023-02-24T08:13:11.537045Z",
     "iopub.status.idle": "2023-02-24T08:13:11.547171Z",
     "shell.execute_reply": "2023-02-24T08:13:11.546142Z"
    }
   },
   "outputs": [
    {
     "data": {
      "text/plain": [
       "<FastTreeValue 0x7ffb70381400>\n",
       "├── 'a' --> tensor([[ 1.3636,  1.6924, -0.1848],\n",
       "│                   [ 1.0244, -0.0365,  0.2970],\n",
       "│                   [ 1.3636,  1.6924, -0.1848],\n",
       "│                   [ 1.0244, -0.0365,  0.2970],\n",
       "│                   [ 1.3636,  1.6924, -0.1848],\n",
       "│                   [ 1.0244, -0.0365,  0.2970],\n",
       "│                   [ 1.3636,  1.6924, -0.1848],\n",
       "│                   [ 1.0244, -0.0365,  0.2970],\n",
       "│                   [ 1.3636,  1.6924, -0.1848],\n",
       "│                   [ 1.0244, -0.0365,  0.2970],\n",
       "│                   [ 1.3636,  1.6924, -0.1848],\n",
       "│                   [ 1.0244, -0.0365,  0.2970],\n",
       "│                   [ 1.3636,  1.6924, -0.1848],\n",
       "│                   [ 1.0244, -0.0365,  0.2970],\n",
       "│                   [ 1.3636,  1.6924, -0.1848],\n",
       "│                   [ 1.0244, -0.0365,  0.2970]])\n",
       "└── 'x' --> <FastTreeValue 0x7ffb703817f0>\n",
       "    └── 'c' --> tensor([[-2.0211,  0.5310, -0.0415,  0.4631],\n",
       "                        [-0.4067,  0.4376,  1.6817,  0.2186],\n",
       "                        [-0.7215, -1.5169, -0.5356, -0.3247],\n",
       "                        [-2.0211,  0.5310, -0.0415,  0.4631],\n",
       "                        [-0.4067,  0.4376,  1.6817,  0.2186],\n",
       "                        [-0.7215, -1.5169, -0.5356, -0.3247],\n",
       "                        [-2.0211,  0.5310, -0.0415,  0.4631],\n",
       "                        [-0.4067,  0.4376,  1.6817,  0.2186],\n",
       "                        [-0.7215, -1.5169, -0.5356, -0.3247],\n",
       "                        [-2.0211,  0.5310, -0.0415,  0.4631],\n",
       "                        [-0.4067,  0.4376,  1.6817,  0.2186],\n",
       "                        [-0.7215, -1.5169, -0.5356, -0.3247],\n",
       "                        [-2.0211,  0.5310, -0.0415,  0.4631],\n",
       "                        [-0.4067,  0.4376,  1.6817,  0.2186],\n",
       "                        [-0.7215, -1.5169, -0.5356, -0.3247],\n",
       "                        [-2.0211,  0.5310, -0.0415,  0.4631],\n",
       "                        [-0.4067,  0.4376,  1.6817,  0.2186],\n",
       "                        [-0.7215, -1.5169, -0.5356, -0.3247],\n",
       "                        [-2.0211,  0.5310, -0.0415,  0.4631],\n",
       "                        [-0.4067,  0.4376,  1.6817,  0.2186],\n",
       "                        [-0.7215, -1.5169, -0.5356, -0.3247],\n",
       "                        [-2.0211,  0.5310, -0.0415,  0.4631],\n",
       "                        [-0.4067,  0.4376,  1.6817,  0.2186],\n",
       "                        [-0.7215, -1.5169, -0.5356, -0.3247]])"
      ]
     },
     "execution_count": 22,
     "metadata": {},
     "output_type": "execute_result"
    }
   ],
   "source": [
    "t_cat = FastTreeValue.func(subside=True)(torch.cat)\n",
    "\n",
    "t_cat(trees)"
   ]
  },
  {
   "cell_type": "code",
   "execution_count": 23,
   "id": "5e9c06a6",
   "metadata": {
    "execution": {
     "iopub.execute_input": "2023-02-24T08:13:11.550664Z",
     "iopub.status.busy": "2023-02-24T08:13:11.550116Z",
     "iopub.status.idle": "2023-02-24T08:13:14.609531Z",
     "shell.execute_reply": "2023-02-24T08:13:14.608477Z"
    }
   },
   "outputs": [
    {
     "name": "stdout",
     "output_type": "stream",
     "text": [
      "37.5 µs ± 893 ns per loop (mean ± std. dev. of 7 runs, 10,000 loops each)\n"
     ]
    }
   ],
   "source": [
    "%timeit t_cat(trees)"
   ]
  },
  {
   "cell_type": "code",
   "execution_count": 24,
   "id": "a3ab5c8f",
   "metadata": {
    "execution": {
     "iopub.execute_input": "2023-02-24T08:13:14.613936Z",
     "iopub.status.busy": "2023-02-24T08:13:14.613400Z",
     "iopub.status.idle": "2023-02-24T08:13:20.734986Z",
     "shell.execute_reply": "2023-02-24T08:13:20.733925Z"
    }
   },
   "outputs": [
    {
     "name": "stdout",
     "output_type": "stream",
     "text": [
      "74.7 µs ± 1.46 µs per loop (mean ± std. dev. of 7 runs, 10,000 loops each)\n"
     ]
    }
   ],
   "source": [
    "t_split = FastTreeValue.func(rise=True)(torch.split)\n",
    "tree = FastTreeValue({\n",
    "    'obs': torch.randn(8, 4, 84, 84),\n",
    "    'action': torch.randint(0, 6, size=(8, 1,)),\n",
    "    'reward': torch.rand(8, 1),\n",
    "})\n",
    "\n",
    "%timeit t_split(tree, 1)"
   ]
  },
  {
   "cell_type": "markdown",
   "id": "31c3ec0b",
   "metadata": {},
   "source": [
    "### Performance of Tianshou Batch"
   ]
  },
  {
   "cell_type": "code",
   "execution_count": 25,
   "id": "9ead828a",
   "metadata": {
    "execution": {
     "iopub.execute_input": "2023-02-24T08:13:20.739182Z",
     "iopub.status.busy": "2023-02-24T08:13:20.738664Z",
     "iopub.status.idle": "2023-02-24T08:13:20.748502Z",
     "shell.execute_reply": "2023-02-24T08:13:20.747550Z"
    }
   },
   "outputs": [
    {
     "data": {
      "text/plain": [
       "Batch(\n",
       "    x: Batch(\n",
       "           c: tensor([[[-2.0211,  0.5310, -0.0415,  0.4631],\n",
       "                       [-0.4067,  0.4376,  1.6817,  0.2186],\n",
       "                       [-0.7215, -1.5169, -0.5356, -0.3247]],\n",
       "              \n",
       "                      [[-2.0211,  0.5310, -0.0415,  0.4631],\n",
       "                       [-0.4067,  0.4376,  1.6817,  0.2186],\n",
       "                       [-0.7215, -1.5169, -0.5356, -0.3247]],\n",
       "              \n",
       "                      [[-2.0211,  0.5310, -0.0415,  0.4631],\n",
       "                       [-0.4067,  0.4376,  1.6817,  0.2186],\n",
       "                       [-0.7215, -1.5169, -0.5356, -0.3247]],\n",
       "              \n",
       "                      [[-2.0211,  0.5310, -0.0415,  0.4631],\n",
       "                       [-0.4067,  0.4376,  1.6817,  0.2186],\n",
       "                       [-0.7215, -1.5169, -0.5356, -0.3247]],\n",
       "              \n",
       "                      [[-2.0211,  0.5310, -0.0415,  0.4631],\n",
       "                       [-0.4067,  0.4376,  1.6817,  0.2186],\n",
       "                       [-0.7215, -1.5169, -0.5356, -0.3247]],\n",
       "              \n",
       "                      [[-2.0211,  0.5310, -0.0415,  0.4631],\n",
       "                       [-0.4067,  0.4376,  1.6817,  0.2186],\n",
       "                       [-0.7215, -1.5169, -0.5356, -0.3247]],\n",
       "              \n",
       "                      [[-2.0211,  0.5310, -0.0415,  0.4631],\n",
       "                       [-0.4067,  0.4376,  1.6817,  0.2186],\n",
       "                       [-0.7215, -1.5169, -0.5356, -0.3247]],\n",
       "              \n",
       "                      [[-2.0211,  0.5310, -0.0415,  0.4631],\n",
       "                       [-0.4067,  0.4376,  1.6817,  0.2186],\n",
       "                       [-0.7215, -1.5169, -0.5356, -0.3247]]]),\n",
       "       ),\n",
       "    a: tensor([[[ 1.3636,  1.6924, -0.1848],\n",
       "                [ 1.0244, -0.0365,  0.2970]],\n",
       "       \n",
       "               [[ 1.3636,  1.6924, -0.1848],\n",
       "                [ 1.0244, -0.0365,  0.2970]],\n",
       "       \n",
       "               [[ 1.3636,  1.6924, -0.1848],\n",
       "                [ 1.0244, -0.0365,  0.2970]],\n",
       "       \n",
       "               [[ 1.3636,  1.6924, -0.1848],\n",
       "                [ 1.0244, -0.0365,  0.2970]],\n",
       "       \n",
       "               [[ 1.3636,  1.6924, -0.1848],\n",
       "                [ 1.0244, -0.0365,  0.2970]],\n",
       "       \n",
       "               [[ 1.3636,  1.6924, -0.1848],\n",
       "                [ 1.0244, -0.0365,  0.2970]],\n",
       "       \n",
       "               [[ 1.3636,  1.6924, -0.1848],\n",
       "                [ 1.0244, -0.0365,  0.2970]],\n",
       "       \n",
       "               [[ 1.3636,  1.6924, -0.1848],\n",
       "                [ 1.0244, -0.0365,  0.2970]]]),\n",
       ")"
      ]
     },
     "execution_count": 25,
     "metadata": {},
     "output_type": "execute_result"
    }
   ],
   "source": [
    "batches = [Batch(**_TREE_DATA_2) for _ in range(8)]\n",
    "\n",
    "Batch.stack(batches)"
   ]
  },
  {
   "cell_type": "code",
   "execution_count": 26,
   "id": "ec9037a3",
   "metadata": {
    "execution": {
     "iopub.execute_input": "2023-02-24T08:13:20.751942Z",
     "iopub.status.busy": "2023-02-24T08:13:20.751411Z",
     "iopub.status.idle": "2023-02-24T08:13:28.746871Z",
     "shell.execute_reply": "2023-02-24T08:13:28.745799Z"
    }
   },
   "outputs": [
    {
     "name": "stdout",
     "output_type": "stream",
     "text": [
      "98.7 µs ± 1.6 µs per loop (mean ± std. dev. of 7 runs, 10,000 loops each)\n"
     ]
    }
   ],
   "source": [
    "%timeit Batch.stack(batches)"
   ]
  },
  {
   "cell_type": "code",
   "execution_count": 27,
   "id": "cb8ab77e",
   "metadata": {
    "execution": {
     "iopub.execute_input": "2023-02-24T08:13:28.750884Z",
     "iopub.status.busy": "2023-02-24T08:13:28.750422Z",
     "iopub.status.idle": "2023-02-24T08:13:28.760388Z",
     "shell.execute_reply": "2023-02-24T08:13:28.759486Z"
    }
   },
   "outputs": [
    {
     "data": {
      "text/plain": [
       "Batch(\n",
       "    x: Batch(\n",
       "           c: tensor([[-2.0211,  0.5310, -0.0415,  0.4631],\n",
       "                      [-0.4067,  0.4376,  1.6817,  0.2186],\n",
       "                      [-0.7215, -1.5169, -0.5356, -0.3247],\n",
       "                      [-2.0211,  0.5310, -0.0415,  0.4631],\n",
       "                      [-0.4067,  0.4376,  1.6817,  0.2186],\n",
       "                      [-0.7215, -1.5169, -0.5356, -0.3247],\n",
       "                      [-2.0211,  0.5310, -0.0415,  0.4631],\n",
       "                      [-0.4067,  0.4376,  1.6817,  0.2186],\n",
       "                      [-0.7215, -1.5169, -0.5356, -0.3247],\n",
       "                      [-2.0211,  0.5310, -0.0415,  0.4631],\n",
       "                      [-0.4067,  0.4376,  1.6817,  0.2186],\n",
       "                      [-0.7215, -1.5169, -0.5356, -0.3247],\n",
       "                      [-2.0211,  0.5310, -0.0415,  0.4631],\n",
       "                      [-0.4067,  0.4376,  1.6817,  0.2186],\n",
       "                      [-0.7215, -1.5169, -0.5356, -0.3247],\n",
       "                      [-2.0211,  0.5310, -0.0415,  0.4631],\n",
       "                      [-0.4067,  0.4376,  1.6817,  0.2186],\n",
       "                      [-0.7215, -1.5169, -0.5356, -0.3247],\n",
       "                      [-2.0211,  0.5310, -0.0415,  0.4631],\n",
       "                      [-0.4067,  0.4376,  1.6817,  0.2186],\n",
       "                      [-0.7215, -1.5169, -0.5356, -0.3247],\n",
       "                      [-2.0211,  0.5310, -0.0415,  0.4631],\n",
       "                      [-0.4067,  0.4376,  1.6817,  0.2186],\n",
       "                      [-0.7215, -1.5169, -0.5356, -0.3247]]),\n",
       "       ),\n",
       "    a: tensor([[ 1.3636,  1.6924, -0.1848],\n",
       "               [ 1.0244, -0.0365,  0.2970],\n",
       "               [ 1.3636,  1.6924, -0.1848],\n",
       "               [ 1.0244, -0.0365,  0.2970],\n",
       "               [ 1.3636,  1.6924, -0.1848],\n",
       "               [ 1.0244, -0.0365,  0.2970],\n",
       "               [ 1.3636,  1.6924, -0.1848],\n",
       "               [ 1.0244, -0.0365,  0.2970],\n",
       "               [ 1.3636,  1.6924, -0.1848],\n",
       "               [ 1.0244, -0.0365,  0.2970],\n",
       "               [ 1.3636,  1.6924, -0.1848],\n",
       "               [ 1.0244, -0.0365,  0.2970],\n",
       "               [ 1.3636,  1.6924, -0.1848],\n",
       "               [ 1.0244, -0.0365,  0.2970],\n",
       "               [ 1.3636,  1.6924, -0.1848],\n",
       "               [ 1.0244, -0.0365,  0.2970]]),\n",
       ")"
      ]
     },
     "execution_count": 27,
     "metadata": {},
     "output_type": "execute_result"
    }
   ],
   "source": [
    "Batch.cat(batches)"
   ]
  },
  {
   "cell_type": "code",
   "execution_count": 28,
   "id": "18dfb045",
   "metadata": {
    "execution": {
     "iopub.execute_input": "2023-02-24T08:13:28.764130Z",
     "iopub.status.busy": "2023-02-24T08:13:28.763515Z",
     "iopub.status.idle": "2023-02-24T08:13:43.862163Z",
     "shell.execute_reply": "2023-02-24T08:13:43.861130Z"
    }
   },
   "outputs": [
    {
     "name": "stdout",
     "output_type": "stream",
     "text": [
      "186 µs ± 2.77 µs per loop (mean ± std. dev. of 7 runs, 10,000 loops each)\n"
     ]
    }
   ],
   "source": [
    "%timeit Batch.cat(batches)"
   ]
  },
  {
   "cell_type": "code",
   "execution_count": 29,
   "id": "c6688e51",
   "metadata": {
    "execution": {
     "iopub.execute_input": "2023-02-24T08:13:43.866449Z",
     "iopub.status.busy": "2023-02-24T08:13:43.865563Z",
     "iopub.status.idle": "2023-02-24T08:13:48.664310Z",
     "shell.execute_reply": "2023-02-24T08:13:48.663241Z"
    }
   },
   "outputs": [
    {
     "name": "stdout",
     "output_type": "stream",
     "text": [
      "587 µs ± 19.9 µs per loop (mean ± std. dev. of 7 runs, 1,000 loops each)\n"
     ]
    }
   ],
   "source": [
    "batch = Batch({\n",
    "    'obs': torch.randn(8, 4, 84, 84),\n",
    "    'action': torch.randint(0, 6, size=(8, 1,)),\n",
    "    'reward': torch.rand(8, 1)}\n",
    ")\n",
    "\n",
    "%timeit list(Batch.split(batch, 1, shuffle=False, merge_last=True))"
   ]
  },
  {
   "cell_type": "code",
   "execution_count": null,
   "id": "2539fbd9",
   "metadata": {},
   "outputs": [],
   "source": []
  }
 ],
 "metadata": {
  "kernelspec": {
   "display_name": "Python 3 (ipykernel)",
   "language": "python",
   "name": "python3"
  },
  "language_info": {
   "codemirror_mode": {
    "name": "ipython",
    "version": 3
   },
   "file_extension": ".py",
   "mimetype": "text/x-python",
   "name": "python",
   "nbconvert_exporter": "python",
   "pygments_lexer": "ipython3",
   "version": "3.8.16"
  }
 },
 "nbformat": 4,
 "nbformat_minor": 5
}
