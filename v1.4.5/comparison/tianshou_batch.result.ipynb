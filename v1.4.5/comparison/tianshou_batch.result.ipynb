{
 "cells": [
  {
   "cell_type": "markdown",
   "id": "9d39d946",
   "metadata": {},
   "source": [
    "# Comparison Between TreeValue and Tianshou Batch"
   ]
  },
  {
   "cell_type": "markdown",
   "id": "3c6db2d4",
   "metadata": {},
   "source": [
    "In this section, we will take a look at the feature and performance of the [Tianshou Batch](https://github.com/thu-ml/tianshou) library, which is developed by Tsinghua Machine Learning Group."
   ]
  },
  {
   "cell_type": "markdown",
   "id": "069361b0",
   "metadata": {},
   "source": [
    "Before starting the comparison, let us define some thing."
   ]
  },
  {
   "cell_type": "code",
   "execution_count": 1,
   "id": "06fc8d26",
   "metadata": {
    "execution": {
     "iopub.execute_input": "2023-08-14T05:36:20.597478Z",
     "iopub.status.busy": "2023-08-14T05:36:20.597248Z",
     "iopub.status.idle": "2023-08-14T05:36:21.966858Z",
     "shell.execute_reply": "2023-08-14T05:36:21.965680Z"
    }
   },
   "outputs": [],
   "source": [
    "import torch \n",
    "\n",
    "_TREE_DATA_1 = {'a': 1, 'b': 2, 'x': {'c': 3, 'd': 4}}\n",
    "_TREE_DATA_2 = {\n",
    "    'a': torch.randn(2, 3), \n",
    "    'x': {\n",
    "        'c': torch.randn(3, 4)\n",
    "    },\n",
    "}\n",
    "_TREE_DATA_3 = {\n",
    "    'obs': torch.randn(4, 84, 84),\n",
    "    'action': torch.randint(0, 6, size=(1,)),\n",
    "    'reward': torch.rand(1),\n",
    "}"
   ]
  },
  {
   "cell_type": "markdown",
   "id": "83461b25",
   "metadata": {},
   "source": [
    "## Read and Write Operation"
   ]
  },
  {
   "cell_type": "markdown",
   "id": "067b3f73",
   "metadata": {},
   "source": [
    "Reading and writing are the two most common operations in the tree data structure based on the data model (TreeValue and Tianshou Batch both belong to this type), so this section will compare the reading and writing performance of these two libraries."
   ]
  },
  {
   "cell_type": "markdown",
   "id": "5d09a5b7",
   "metadata": {},
   "source": [
    "### TreeValue's Get and Set"
   ]
  },
  {
   "cell_type": "code",
   "execution_count": 2,
   "id": "9519c4bb",
   "metadata": {
    "execution": {
     "iopub.execute_input": "2023-08-14T05:36:21.971622Z",
     "iopub.status.busy": "2023-08-14T05:36:21.971129Z",
     "iopub.status.idle": "2023-08-14T05:36:22.002167Z",
     "shell.execute_reply": "2023-08-14T05:36:22.001486Z"
    }
   },
   "outputs": [],
   "source": [
    "from treevalue import FastTreeValue\n",
    "\n",
    "t = FastTreeValue(_TREE_DATA_2)"
   ]
  },
  {
   "cell_type": "code",
   "execution_count": 3,
   "id": "11c37677",
   "metadata": {
    "execution": {
     "iopub.execute_input": "2023-08-14T05:36:22.005779Z",
     "iopub.status.busy": "2023-08-14T05:36:22.005360Z",
     "iopub.status.idle": "2023-08-14T05:36:22.017136Z",
     "shell.execute_reply": "2023-08-14T05:36:22.016508Z"
    }
   },
   "outputs": [
    {
     "data": {
      "text/plain": [
       "<FastTreeValue 0x7f0d57dd8310>\n",
       "├── 'a' --> tensor([[-0.8180,  0.8208,  0.2476],\n",
       "│                   [ 0.2868, -1.9829,  1.9345]])\n",
       "└── 'x' --> <FastTreeValue 0x7f0d54dbee50>\n",
       "    └── 'c' --> tensor([[ 0.9174, -0.6179,  0.7713,  0.0928],\n",
       "                        [-1.1549, -0.0906, -0.3709, -0.6765],\n",
       "                        [ 1.3836,  0.0534,  0.0735, -0.1756]])"
      ]
     },
     "execution_count": 3,
     "metadata": {},
     "output_type": "execute_result"
    }
   ],
   "source": [
    "t"
   ]
  },
  {
   "cell_type": "code",
   "execution_count": 4,
   "id": "fd70b0b9",
   "metadata": {
    "execution": {
     "iopub.execute_input": "2023-08-14T05:36:22.020449Z",
     "iopub.status.busy": "2023-08-14T05:36:22.020048Z",
     "iopub.status.idle": "2023-08-14T05:36:22.027761Z",
     "shell.execute_reply": "2023-08-14T05:36:22.026549Z"
    }
   },
   "outputs": [
    {
     "data": {
      "text/plain": [
       "tensor([[-0.8180,  0.8208,  0.2476],\n",
       "        [ 0.2868, -1.9829,  1.9345]])"
      ]
     },
     "execution_count": 4,
     "metadata": {},
     "output_type": "execute_result"
    }
   ],
   "source": [
    "t.a"
   ]
  },
  {
   "cell_type": "code",
   "execution_count": 5,
   "id": "c18197bd",
   "metadata": {
    "execution": {
     "iopub.execute_input": "2023-08-14T05:36:22.031048Z",
     "iopub.status.busy": "2023-08-14T05:36:22.030635Z",
     "iopub.status.idle": "2023-08-14T05:36:27.908949Z",
     "shell.execute_reply": "2023-08-14T05:36:27.908154Z"
    }
   },
   "outputs": [
    {
     "name": "stdout",
     "output_type": "stream",
     "text": [
      "72.4 ns ± 0.0586 ns per loop (mean ± std. dev. of 7 runs, 10,000,000 loops each)\n"
     ]
    }
   ],
   "source": [
    "%timeit t.a"
   ]
  },
  {
   "cell_type": "code",
   "execution_count": 6,
   "id": "bd52f867",
   "metadata": {
    "execution": {
     "iopub.execute_input": "2023-08-14T05:36:27.912529Z",
     "iopub.status.busy": "2023-08-14T05:36:27.911999Z",
     "iopub.status.idle": "2023-08-14T05:36:27.918729Z",
     "shell.execute_reply": "2023-08-14T05:36:27.918017Z"
    }
   },
   "outputs": [
    {
     "data": {
      "text/plain": [
       "<FastTreeValue 0x7f0d57dd8310>\n",
       "├── 'a' --> tensor([[ 1.4538,  1.5476, -0.4295],\n",
       "│                   [ 0.3205,  1.2057, -1.0217]])\n",
       "└── 'x' --> <FastTreeValue 0x7f0d54dbee50>\n",
       "    └── 'c' --> tensor([[ 0.9174, -0.6179,  0.7713,  0.0928],\n",
       "                        [-1.1549, -0.0906, -0.3709, -0.6765],\n",
       "                        [ 1.3836,  0.0534,  0.0735, -0.1756]])"
      ]
     },
     "execution_count": 6,
     "metadata": {},
     "output_type": "execute_result"
    }
   ],
   "source": [
    "new_value = torch.randn(2, 3)\n",
    "t.a = new_value\n",
    "\n",
    "t"
   ]
  },
  {
   "cell_type": "code",
   "execution_count": 7,
   "id": "bbe04d1c",
   "metadata": {
    "execution": {
     "iopub.execute_input": "2023-08-14T05:36:27.921882Z",
     "iopub.status.busy": "2023-08-14T05:36:27.921440Z",
     "iopub.status.idle": "2023-08-14T05:36:33.750870Z",
     "shell.execute_reply": "2023-08-14T05:36:33.750124Z"
    }
   },
   "outputs": [
    {
     "name": "stdout",
     "output_type": "stream",
     "text": [
      "71.8 ns ± 0.099 ns per loop (mean ± std. dev. of 7 runs, 10,000,000 loops each)\n"
     ]
    }
   ],
   "source": [
    "%timeit t.a = new_value"
   ]
  },
  {
   "cell_type": "markdown",
   "id": "48c49731",
   "metadata": {},
   "source": [
    "### Tianshou Batch's Get and Set"
   ]
  },
  {
   "cell_type": "code",
   "execution_count": 8,
   "id": "f1bb14c1",
   "metadata": {
    "execution": {
     "iopub.execute_input": "2023-08-14T05:36:33.754479Z",
     "iopub.status.busy": "2023-08-14T05:36:33.753972Z",
     "iopub.status.idle": "2023-08-14T05:36:34.144447Z",
     "shell.execute_reply": "2023-08-14T05:36:34.142938Z"
    }
   },
   "outputs": [],
   "source": [
    "from tianshou.data import Batch\n",
    "\n",
    "b = Batch(**_TREE_DATA_2)"
   ]
  },
  {
   "cell_type": "code",
   "execution_count": 9,
   "id": "cb0777c3",
   "metadata": {
    "execution": {
     "iopub.execute_input": "2023-08-14T05:36:34.148608Z",
     "iopub.status.busy": "2023-08-14T05:36:34.148089Z",
     "iopub.status.idle": "2023-08-14T05:36:34.156196Z",
     "shell.execute_reply": "2023-08-14T05:36:34.155006Z"
    }
   },
   "outputs": [
    {
     "data": {
      "text/plain": [
       "Batch(\n",
       "    a: tensor([[-0.8180,  0.8208,  0.2476],\n",
       "               [ 0.2868, -1.9829,  1.9345]]),\n",
       "    x: Batch(\n",
       "           c: tensor([[ 0.9174, -0.6179,  0.7713,  0.0928],\n",
       "                      [-1.1549, -0.0906, -0.3709, -0.6765],\n",
       "                      [ 1.3836,  0.0534,  0.0735, -0.1756]]),\n",
       "       ),\n",
       ")"
      ]
     },
     "execution_count": 9,
     "metadata": {},
     "output_type": "execute_result"
    }
   ],
   "source": [
    "b"
   ]
  },
  {
   "cell_type": "code",
   "execution_count": 10,
   "id": "43ef8ea3",
   "metadata": {
    "execution": {
     "iopub.execute_input": "2023-08-14T05:36:34.159598Z",
     "iopub.status.busy": "2023-08-14T05:36:34.159086Z",
     "iopub.status.idle": "2023-08-14T05:36:34.166221Z",
     "shell.execute_reply": "2023-08-14T05:36:34.165395Z"
    }
   },
   "outputs": [
    {
     "data": {
      "text/plain": [
       "tensor([[-0.8180,  0.8208,  0.2476],\n",
       "        [ 0.2868, -1.9829,  1.9345]])"
      ]
     },
     "execution_count": 10,
     "metadata": {},
     "output_type": "execute_result"
    }
   ],
   "source": [
    "b.a"
   ]
  },
  {
   "cell_type": "code",
   "execution_count": 11,
   "id": "b785ab72",
   "metadata": {
    "execution": {
     "iopub.execute_input": "2023-08-14T05:36:34.169384Z",
     "iopub.status.busy": "2023-08-14T05:36:34.169040Z",
     "iopub.status.idle": "2023-08-14T05:36:39.489368Z",
     "shell.execute_reply": "2023-08-14T05:36:39.488617Z"
    }
   },
   "outputs": [
    {
     "name": "stdout",
     "output_type": "stream",
     "text": [
      "65.6 ns ± 0.0604 ns per loop (mean ± std. dev. of 7 runs, 10,000,000 loops each)\n"
     ]
    }
   ],
   "source": [
    "%timeit b.a"
   ]
  },
  {
   "cell_type": "code",
   "execution_count": 12,
   "id": "ad54dc69",
   "metadata": {
    "execution": {
     "iopub.execute_input": "2023-08-14T05:36:39.492903Z",
     "iopub.status.busy": "2023-08-14T05:36:39.492388Z",
     "iopub.status.idle": "2023-08-14T05:36:39.498793Z",
     "shell.execute_reply": "2023-08-14T05:36:39.498077Z"
    }
   },
   "outputs": [
    {
     "data": {
      "text/plain": [
       "Batch(\n",
       "    a: tensor([[-1.5033,  0.5210, -1.0734],\n",
       "               [-1.0285,  0.1065,  1.2796]]),\n",
       "    x: Batch(\n",
       "           c: tensor([[ 0.9174, -0.6179,  0.7713,  0.0928],\n",
       "                      [-1.1549, -0.0906, -0.3709, -0.6765],\n",
       "                      [ 1.3836,  0.0534,  0.0735, -0.1756]]),\n",
       "       ),\n",
       ")"
      ]
     },
     "execution_count": 12,
     "metadata": {},
     "output_type": "execute_result"
    }
   ],
   "source": [
    "new_value = torch.randn(2, 3)\n",
    "b.a = new_value\n",
    "\n",
    "b"
   ]
  },
  {
   "cell_type": "code",
   "execution_count": 13,
   "id": "29b1d0bf",
   "metadata": {
    "execution": {
     "iopub.execute_input": "2023-08-14T05:36:39.502024Z",
     "iopub.status.busy": "2023-08-14T05:36:39.501595Z",
     "iopub.status.idle": "2023-08-14T05:36:43.913433Z",
     "shell.execute_reply": "2023-08-14T05:36:43.912733Z"
    }
   },
   "outputs": [
    {
     "name": "stdout",
     "output_type": "stream",
     "text": [
      "543 ns ± 0.106 ns per loop (mean ± std. dev. of 7 runs, 1,000,000 loops each)\n"
     ]
    }
   ],
   "source": [
    "%timeit b.a = new_value"
   ]
  },
  {
   "cell_type": "markdown",
   "id": "b61ad1d0",
   "metadata": {},
   "source": [
    "## Initialization"
   ]
  },
  {
   "cell_type": "markdown",
   "id": "d70f0d54",
   "metadata": {},
   "source": [
    "### TreeValue's Initialization"
   ]
  },
  {
   "cell_type": "code",
   "execution_count": 14,
   "id": "d32a679b",
   "metadata": {
    "execution": {
     "iopub.execute_input": "2023-08-14T05:36:43.917145Z",
     "iopub.status.busy": "2023-08-14T05:36:43.916636Z",
     "iopub.status.idle": "2023-08-14T05:36:51.221560Z",
     "shell.execute_reply": "2023-08-14T05:36:51.220816Z"
    }
   },
   "outputs": [
    {
     "name": "stdout",
     "output_type": "stream",
     "text": [
      "901 ns ± 1.05 ns per loop (mean ± std. dev. of 7 runs, 1,000,000 loops each)\n"
     ]
    }
   ],
   "source": [
    "%timeit FastTreeValue(_TREE_DATA_1)"
   ]
  },
  {
   "cell_type": "markdown",
   "id": "24f3707b",
   "metadata": {},
   "source": [
    "### Tianshou Batch's Initialization"
   ]
  },
  {
   "cell_type": "code",
   "execution_count": 15,
   "id": "ac3958df",
   "metadata": {
    "execution": {
     "iopub.execute_input": "2023-08-14T05:36:51.225172Z",
     "iopub.status.busy": "2023-08-14T05:36:51.224682Z",
     "iopub.status.idle": "2023-08-14T05:37:00.190830Z",
     "shell.execute_reply": "2023-08-14T05:37:00.189152Z"
    }
   },
   "outputs": [
    {
     "name": "stdout",
     "output_type": "stream",
     "text": [
      "11 µs ± 32.6 ns per loop (mean ± std. dev. of 7 runs, 100,000 loops each)\n"
     ]
    }
   ],
   "source": [
    "%timeit Batch(**_TREE_DATA_1)"
   ]
  },
  {
   "cell_type": "markdown",
   "id": "1ab82e2d",
   "metadata": {},
   "source": [
    "## Deep Copy Operation"
   ]
  },
  {
   "cell_type": "code",
   "execution_count": 16,
   "id": "210a9442",
   "metadata": {
    "execution": {
     "iopub.execute_input": "2023-08-14T05:37:00.194516Z",
     "iopub.status.busy": "2023-08-14T05:37:00.194027Z",
     "iopub.status.idle": "2023-08-14T05:37:00.198918Z",
     "shell.execute_reply": "2023-08-14T05:37:00.198112Z"
    }
   },
   "outputs": [],
   "source": [
    "import copy"
   ]
  },
  {
   "cell_type": "markdown",
   "id": "5a736274",
   "metadata": {},
   "source": [
    "### Deep Copy of TreeValue"
   ]
  },
  {
   "cell_type": "code",
   "execution_count": 17,
   "id": "f9bcadd6",
   "metadata": {
    "execution": {
     "iopub.execute_input": "2023-08-14T05:37:00.201982Z",
     "iopub.status.busy": "2023-08-14T05:37:00.201544Z",
     "iopub.status.idle": "2023-08-14T05:37:11.968243Z",
     "shell.execute_reply": "2023-08-14T05:37:11.967468Z"
    }
   },
   "outputs": [
    {
     "name": "stdout",
     "output_type": "stream",
     "text": [
      "145 µs ± 505 ns per loop (mean ± std. dev. of 7 runs, 10,000 loops each)\n"
     ]
    }
   ],
   "source": [
    "t3 = FastTreeValue(_TREE_DATA_3)\n",
    "%timeit copy.deepcopy(t3)"
   ]
  },
  {
   "cell_type": "markdown",
   "id": "bf8be7ea",
   "metadata": {},
   "source": [
    "### Deep Copy of Tianshou Batch"
   ]
  },
  {
   "cell_type": "code",
   "execution_count": 18,
   "id": "91998e6f",
   "metadata": {
    "execution": {
     "iopub.execute_input": "2023-08-14T05:37:11.971721Z",
     "iopub.status.busy": "2023-08-14T05:37:11.971462Z",
     "iopub.status.idle": "2023-08-14T05:37:23.837398Z",
     "shell.execute_reply": "2023-08-14T05:37:23.836601Z"
    }
   },
   "outputs": [
    {
     "name": "stdout",
     "output_type": "stream",
     "text": [
      "146 µs ± 607 ns per loop (mean ± std. dev. of 7 runs, 10,000 loops each)\n"
     ]
    }
   ],
   "source": [
    "b3 = Batch(**_TREE_DATA_3)\n",
    "%timeit copy.deepcopy(b3)"
   ]
  },
  {
   "cell_type": "markdown",
   "id": "223162fb",
   "metadata": {},
   "source": [
    "## Stack, Concat and Split Operation"
   ]
  },
  {
   "cell_type": "markdown",
   "id": "85fa4a73",
   "metadata": {},
   "source": [
    "### Performance of TreeValue"
   ]
  },
  {
   "cell_type": "code",
   "execution_count": 19,
   "id": "a0c2b697",
   "metadata": {
    "execution": {
     "iopub.execute_input": "2023-08-14T05:37:23.840972Z",
     "iopub.status.busy": "2023-08-14T05:37:23.840721Z",
     "iopub.status.idle": "2023-08-14T05:37:23.845481Z",
     "shell.execute_reply": "2023-08-14T05:37:23.844847Z"
    }
   },
   "outputs": [],
   "source": [
    "trees = [FastTreeValue(_TREE_DATA_2) for _ in range(8)]"
   ]
  },
  {
   "cell_type": "code",
   "execution_count": 20,
   "id": "017ea5a5",
   "metadata": {
    "execution": {
     "iopub.execute_input": "2023-08-14T05:37:23.848676Z",
     "iopub.status.busy": "2023-08-14T05:37:23.848128Z",
     "iopub.status.idle": "2023-08-14T05:37:23.855812Z",
     "shell.execute_reply": "2023-08-14T05:37:23.855137Z"
    }
   },
   "outputs": [
    {
     "data": {
      "text/plain": [
       "<FastTreeValue 0x7f0c88091160>\n",
       "├── 'a' --> tensor([[[-0.8180,  0.8208,  0.2476],\n",
       "│                    [ 0.2868, -1.9829,  1.9345]],\n",
       "│           \n",
       "│                   [[-0.8180,  0.8208,  0.2476],\n",
       "│                    [ 0.2868, -1.9829,  1.9345]],\n",
       "│           \n",
       "│                   [[-0.8180,  0.8208,  0.2476],\n",
       "│                    [ 0.2868, -1.9829,  1.9345]],\n",
       "│           \n",
       "│                   [[-0.8180,  0.8208,  0.2476],\n",
       "│                    [ 0.2868, -1.9829,  1.9345]],\n",
       "│           \n",
       "│                   [[-0.8180,  0.8208,  0.2476],\n",
       "│                    [ 0.2868, -1.9829,  1.9345]],\n",
       "│           \n",
       "│                   [[-0.8180,  0.8208,  0.2476],\n",
       "│                    [ 0.2868, -1.9829,  1.9345]],\n",
       "│           \n",
       "│                   [[-0.8180,  0.8208,  0.2476],\n",
       "│                    [ 0.2868, -1.9829,  1.9345]],\n",
       "│           \n",
       "│                   [[-0.8180,  0.8208,  0.2476],\n",
       "│                    [ 0.2868, -1.9829,  1.9345]]])\n",
       "└── 'x' --> <FastTreeValue 0x7f0d57e52eb0>\n",
       "    └── 'c' --> tensor([[[ 0.9174, -0.6179,  0.7713,  0.0928],\n",
       "                         [-1.1549, -0.0906, -0.3709, -0.6765],\n",
       "                         [ 1.3836,  0.0534,  0.0735, -0.1756]],\n",
       "                \n",
       "                        [[ 0.9174, -0.6179,  0.7713,  0.0928],\n",
       "                         [-1.1549, -0.0906, -0.3709, -0.6765],\n",
       "                         [ 1.3836,  0.0534,  0.0735, -0.1756]],\n",
       "                \n",
       "                        [[ 0.9174, -0.6179,  0.7713,  0.0928],\n",
       "                         [-1.1549, -0.0906, -0.3709, -0.6765],\n",
       "                         [ 1.3836,  0.0534,  0.0735, -0.1756]],\n",
       "                \n",
       "                        [[ 0.9174, -0.6179,  0.7713,  0.0928],\n",
       "                         [-1.1549, -0.0906, -0.3709, -0.6765],\n",
       "                         [ 1.3836,  0.0534,  0.0735, -0.1756]],\n",
       "                \n",
       "                        [[ 0.9174, -0.6179,  0.7713,  0.0928],\n",
       "                         [-1.1549, -0.0906, -0.3709, -0.6765],\n",
       "                         [ 1.3836,  0.0534,  0.0735, -0.1756]],\n",
       "                \n",
       "                        [[ 0.9174, -0.6179,  0.7713,  0.0928],\n",
       "                         [-1.1549, -0.0906, -0.3709, -0.6765],\n",
       "                         [ 1.3836,  0.0534,  0.0735, -0.1756]],\n",
       "                \n",
       "                        [[ 0.9174, -0.6179,  0.7713,  0.0928],\n",
       "                         [-1.1549, -0.0906, -0.3709, -0.6765],\n",
       "                         [ 1.3836,  0.0534,  0.0735, -0.1756]],\n",
       "                \n",
       "                        [[ 0.9174, -0.6179,  0.7713,  0.0928],\n",
       "                         [-1.1549, -0.0906, -0.3709, -0.6765],\n",
       "                         [ 1.3836,  0.0534,  0.0735, -0.1756]]])"
      ]
     },
     "execution_count": 20,
     "metadata": {},
     "output_type": "execute_result"
    }
   ],
   "source": [
    "t_stack = FastTreeValue.func(subside=True)(torch.stack)\n",
    "\n",
    "t_stack(trees)"
   ]
  },
  {
   "cell_type": "code",
   "execution_count": 21,
   "id": "f8b3f415",
   "metadata": {
    "execution": {
     "iopub.execute_input": "2023-08-14T05:37:23.858896Z",
     "iopub.status.busy": "2023-08-14T05:37:23.858533Z",
     "iopub.status.idle": "2023-08-14T05:37:26.575691Z",
     "shell.execute_reply": "2023-08-14T05:37:26.574990Z"
    }
   },
   "outputs": [
    {
     "name": "stdout",
     "output_type": "stream",
     "text": [
      "33.4 µs ± 99.9 ns per loop (mean ± std. dev. of 7 runs, 10,000 loops each)\n"
     ]
    }
   ],
   "source": [
    "%timeit t_stack(trees)"
   ]
  },
  {
   "cell_type": "code",
   "execution_count": 22,
   "id": "94b56771",
   "metadata": {
    "execution": {
     "iopub.execute_input": "2023-08-14T05:37:26.579361Z",
     "iopub.status.busy": "2023-08-14T05:37:26.578724Z",
     "iopub.status.idle": "2023-08-14T05:37:26.589382Z",
     "shell.execute_reply": "2023-08-14T05:37:26.588749Z"
    }
   },
   "outputs": [
    {
     "data": {
      "text/plain": [
       "<FastTreeValue 0x7f0c87f988e0>\n",
       "├── 'a' --> tensor([[-0.8180,  0.8208,  0.2476],\n",
       "│                   [ 0.2868, -1.9829,  1.9345],\n",
       "│                   [-0.8180,  0.8208,  0.2476],\n",
       "│                   [ 0.2868, -1.9829,  1.9345],\n",
       "│                   [-0.8180,  0.8208,  0.2476],\n",
       "│                   [ 0.2868, -1.9829,  1.9345],\n",
       "│                   [-0.8180,  0.8208,  0.2476],\n",
       "│                   [ 0.2868, -1.9829,  1.9345],\n",
       "│                   [-0.8180,  0.8208,  0.2476],\n",
       "│                   [ 0.2868, -1.9829,  1.9345],\n",
       "│                   [-0.8180,  0.8208,  0.2476],\n",
       "│                   [ 0.2868, -1.9829,  1.9345],\n",
       "│                   [-0.8180,  0.8208,  0.2476],\n",
       "│                   [ 0.2868, -1.9829,  1.9345],\n",
       "│                   [-0.8180,  0.8208,  0.2476],\n",
       "│                   [ 0.2868, -1.9829,  1.9345]])\n",
       "└── 'x' --> <FastTreeValue 0x7f0d54dc4490>\n",
       "    └── 'c' --> tensor([[ 0.9174, -0.6179,  0.7713,  0.0928],\n",
       "                        [-1.1549, -0.0906, -0.3709, -0.6765],\n",
       "                        [ 1.3836,  0.0534,  0.0735, -0.1756],\n",
       "                        [ 0.9174, -0.6179,  0.7713,  0.0928],\n",
       "                        [-1.1549, -0.0906, -0.3709, -0.6765],\n",
       "                        [ 1.3836,  0.0534,  0.0735, -0.1756],\n",
       "                        [ 0.9174, -0.6179,  0.7713,  0.0928],\n",
       "                        [-1.1549, -0.0906, -0.3709, -0.6765],\n",
       "                        [ 1.3836,  0.0534,  0.0735, -0.1756],\n",
       "                        [ 0.9174, -0.6179,  0.7713,  0.0928],\n",
       "                        [-1.1549, -0.0906, -0.3709, -0.6765],\n",
       "                        [ 1.3836,  0.0534,  0.0735, -0.1756],\n",
       "                        [ 0.9174, -0.6179,  0.7713,  0.0928],\n",
       "                        [-1.1549, -0.0906, -0.3709, -0.6765],\n",
       "                        [ 1.3836,  0.0534,  0.0735, -0.1756],\n",
       "                        [ 0.9174, -0.6179,  0.7713,  0.0928],\n",
       "                        [-1.1549, -0.0906, -0.3709, -0.6765],\n",
       "                        [ 1.3836,  0.0534,  0.0735, -0.1756],\n",
       "                        [ 0.9174, -0.6179,  0.7713,  0.0928],\n",
       "                        [-1.1549, -0.0906, -0.3709, -0.6765],\n",
       "                        [ 1.3836,  0.0534,  0.0735, -0.1756],\n",
       "                        [ 0.9174, -0.6179,  0.7713,  0.0928],\n",
       "                        [-1.1549, -0.0906, -0.3709, -0.6765],\n",
       "                        [ 1.3836,  0.0534,  0.0735, -0.1756]])"
      ]
     },
     "execution_count": 22,
     "metadata": {},
     "output_type": "execute_result"
    }
   ],
   "source": [
    "t_cat = FastTreeValue.func(subside=True)(torch.cat)\n",
    "\n",
    "t_cat(trees)"
   ]
  },
  {
   "cell_type": "code",
   "execution_count": 23,
   "id": "5e9c06a6",
   "metadata": {
    "execution": {
     "iopub.execute_input": "2023-08-14T05:37:26.592609Z",
     "iopub.status.busy": "2023-08-14T05:37:26.592293Z",
     "iopub.status.idle": "2023-08-14T05:37:29.144326Z",
     "shell.execute_reply": "2023-08-14T05:37:29.143578Z"
    }
   },
   "outputs": [
    {
     "name": "stdout",
     "output_type": "stream",
     "text": [
      "31.4 µs ± 36.8 ns per loop (mean ± std. dev. of 7 runs, 10,000 loops each)\n"
     ]
    }
   ],
   "source": [
    "%timeit t_cat(trees)"
   ]
  },
  {
   "cell_type": "code",
   "execution_count": 24,
   "id": "a3ab5c8f",
   "metadata": {
    "execution": {
     "iopub.execute_input": "2023-08-14T05:37:29.147874Z",
     "iopub.status.busy": "2023-08-14T05:37:29.147350Z",
     "iopub.status.idle": "2023-08-14T05:37:34.566620Z",
     "shell.execute_reply": "2023-08-14T05:37:34.564871Z"
    }
   },
   "outputs": [
    {
     "name": "stdout",
     "output_type": "stream",
     "text": [
      "66.6 µs ± 170 ns per loop (mean ± std. dev. of 7 runs, 10,000 loops each)\n"
     ]
    }
   ],
   "source": [
    "t_split = FastTreeValue.func(rise=True)(torch.split)\n",
    "tree = FastTreeValue({\n",
    "    'obs': torch.randn(8, 4, 84, 84),\n",
    "    'action': torch.randint(0, 6, size=(8, 1,)),\n",
    "    'reward': torch.rand(8, 1),\n",
    "})\n",
    "\n",
    "%timeit t_split(tree, 1)"
   ]
  },
  {
   "cell_type": "markdown",
   "id": "31c3ec0b",
   "metadata": {},
   "source": [
    "### Performance of Tianshou Batch"
   ]
  },
  {
   "cell_type": "code",
   "execution_count": 25,
   "id": "9ead828a",
   "metadata": {
    "execution": {
     "iopub.execute_input": "2023-08-14T05:37:34.570449Z",
     "iopub.status.busy": "2023-08-14T05:37:34.570030Z",
     "iopub.status.idle": "2023-08-14T05:37:34.578011Z",
     "shell.execute_reply": "2023-08-14T05:37:34.577316Z"
    }
   },
   "outputs": [
    {
     "data": {
      "text/plain": [
       "Batch(\n",
       "    a: tensor([[[-0.8180,  0.8208,  0.2476],\n",
       "                [ 0.2868, -1.9829,  1.9345]],\n",
       "       \n",
       "               [[-0.8180,  0.8208,  0.2476],\n",
       "                [ 0.2868, -1.9829,  1.9345]],\n",
       "       \n",
       "               [[-0.8180,  0.8208,  0.2476],\n",
       "                [ 0.2868, -1.9829,  1.9345]],\n",
       "       \n",
       "               [[-0.8180,  0.8208,  0.2476],\n",
       "                [ 0.2868, -1.9829,  1.9345]],\n",
       "       \n",
       "               [[-0.8180,  0.8208,  0.2476],\n",
       "                [ 0.2868, -1.9829,  1.9345]],\n",
       "       \n",
       "               [[-0.8180,  0.8208,  0.2476],\n",
       "                [ 0.2868, -1.9829,  1.9345]],\n",
       "       \n",
       "               [[-0.8180,  0.8208,  0.2476],\n",
       "                [ 0.2868, -1.9829,  1.9345]],\n",
       "       \n",
       "               [[-0.8180,  0.8208,  0.2476],\n",
       "                [ 0.2868, -1.9829,  1.9345]]]),\n",
       "    x: Batch(\n",
       "           c: tensor([[[ 0.9174, -0.6179,  0.7713,  0.0928],\n",
       "                       [-1.1549, -0.0906, -0.3709, -0.6765],\n",
       "                       [ 1.3836,  0.0534,  0.0735, -0.1756]],\n",
       "              \n",
       "                      [[ 0.9174, -0.6179,  0.7713,  0.0928],\n",
       "                       [-1.1549, -0.0906, -0.3709, -0.6765],\n",
       "                       [ 1.3836,  0.0534,  0.0735, -0.1756]],\n",
       "              \n",
       "                      [[ 0.9174, -0.6179,  0.7713,  0.0928],\n",
       "                       [-1.1549, -0.0906, -0.3709, -0.6765],\n",
       "                       [ 1.3836,  0.0534,  0.0735, -0.1756]],\n",
       "              \n",
       "                      [[ 0.9174, -0.6179,  0.7713,  0.0928],\n",
       "                       [-1.1549, -0.0906, -0.3709, -0.6765],\n",
       "                       [ 1.3836,  0.0534,  0.0735, -0.1756]],\n",
       "              \n",
       "                      [[ 0.9174, -0.6179,  0.7713,  0.0928],\n",
       "                       [-1.1549, -0.0906, -0.3709, -0.6765],\n",
       "                       [ 1.3836,  0.0534,  0.0735, -0.1756]],\n",
       "              \n",
       "                      [[ 0.9174, -0.6179,  0.7713,  0.0928],\n",
       "                       [-1.1549, -0.0906, -0.3709, -0.6765],\n",
       "                       [ 1.3836,  0.0534,  0.0735, -0.1756]],\n",
       "              \n",
       "                      [[ 0.9174, -0.6179,  0.7713,  0.0928],\n",
       "                       [-1.1549, -0.0906, -0.3709, -0.6765],\n",
       "                       [ 1.3836,  0.0534,  0.0735, -0.1756]],\n",
       "              \n",
       "                      [[ 0.9174, -0.6179,  0.7713,  0.0928],\n",
       "                       [-1.1549, -0.0906, -0.3709, -0.6765],\n",
       "                       [ 1.3836,  0.0534,  0.0735, -0.1756]]]),\n",
       "       ),\n",
       ")"
      ]
     },
     "execution_count": 25,
     "metadata": {},
     "output_type": "execute_result"
    }
   ],
   "source": [
    "batches = [Batch(**_TREE_DATA_2) for _ in range(8)]\n",
    "\n",
    "Batch.stack(batches)"
   ]
  },
  {
   "cell_type": "code",
   "execution_count": 26,
   "id": "ec9037a3",
   "metadata": {
    "execution": {
     "iopub.execute_input": "2023-08-14T05:37:34.581168Z",
     "iopub.status.busy": "2023-08-14T05:37:34.580635Z",
     "iopub.status.idle": "2023-08-14T05:37:41.387194Z",
     "shell.execute_reply": "2023-08-14T05:37:41.386455Z"
    }
   },
   "outputs": [
    {
     "name": "stdout",
     "output_type": "stream",
     "text": [
      "83.7 µs ± 326 ns per loop (mean ± std. dev. of 7 runs, 10,000 loops each)\n"
     ]
    }
   ],
   "source": [
    "%timeit Batch.stack(batches)"
   ]
  },
  {
   "cell_type": "code",
   "execution_count": 27,
   "id": "cb8ab77e",
   "metadata": {
    "execution": {
     "iopub.execute_input": "2023-08-14T05:37:41.390999Z",
     "iopub.status.busy": "2023-08-14T05:37:41.390313Z",
     "iopub.status.idle": "2023-08-14T05:37:41.397924Z",
     "shell.execute_reply": "2023-08-14T05:37:41.397204Z"
    }
   },
   "outputs": [
    {
     "data": {
      "text/plain": [
       "Batch(\n",
       "    a: tensor([[-0.8180,  0.8208,  0.2476],\n",
       "               [ 0.2868, -1.9829,  1.9345],\n",
       "               [-0.8180,  0.8208,  0.2476],\n",
       "               [ 0.2868, -1.9829,  1.9345],\n",
       "               [-0.8180,  0.8208,  0.2476],\n",
       "               [ 0.2868, -1.9829,  1.9345],\n",
       "               [-0.8180,  0.8208,  0.2476],\n",
       "               [ 0.2868, -1.9829,  1.9345],\n",
       "               [-0.8180,  0.8208,  0.2476],\n",
       "               [ 0.2868, -1.9829,  1.9345],\n",
       "               [-0.8180,  0.8208,  0.2476],\n",
       "               [ 0.2868, -1.9829,  1.9345],\n",
       "               [-0.8180,  0.8208,  0.2476],\n",
       "               [ 0.2868, -1.9829,  1.9345],\n",
       "               [-0.8180,  0.8208,  0.2476],\n",
       "               [ 0.2868, -1.9829,  1.9345]]),\n",
       "    x: Batch(\n",
       "           c: tensor([[ 0.9174, -0.6179,  0.7713,  0.0928],\n",
       "                      [-1.1549, -0.0906, -0.3709, -0.6765],\n",
       "                      [ 1.3836,  0.0534,  0.0735, -0.1756],\n",
       "                      [ 0.9174, -0.6179,  0.7713,  0.0928],\n",
       "                      [-1.1549, -0.0906, -0.3709, -0.6765],\n",
       "                      [ 1.3836,  0.0534,  0.0735, -0.1756],\n",
       "                      [ 0.9174, -0.6179,  0.7713,  0.0928],\n",
       "                      [-1.1549, -0.0906, -0.3709, -0.6765],\n",
       "                      [ 1.3836,  0.0534,  0.0735, -0.1756],\n",
       "                      [ 0.9174, -0.6179,  0.7713,  0.0928],\n",
       "                      [-1.1549, -0.0906, -0.3709, -0.6765],\n",
       "                      [ 1.3836,  0.0534,  0.0735, -0.1756],\n",
       "                      [ 0.9174, -0.6179,  0.7713,  0.0928],\n",
       "                      [-1.1549, -0.0906, -0.3709, -0.6765],\n",
       "                      [ 1.3836,  0.0534,  0.0735, -0.1756],\n",
       "                      [ 0.9174, -0.6179,  0.7713,  0.0928],\n",
       "                      [-1.1549, -0.0906, -0.3709, -0.6765],\n",
       "                      [ 1.3836,  0.0534,  0.0735, -0.1756],\n",
       "                      [ 0.9174, -0.6179,  0.7713,  0.0928],\n",
       "                      [-1.1549, -0.0906, -0.3709, -0.6765],\n",
       "                      [ 1.3836,  0.0534,  0.0735, -0.1756],\n",
       "                      [ 0.9174, -0.6179,  0.7713,  0.0928],\n",
       "                      [-1.1549, -0.0906, -0.3709, -0.6765],\n",
       "                      [ 1.3836,  0.0534,  0.0735, -0.1756]]),\n",
       "       ),\n",
       ")"
      ]
     },
     "execution_count": 27,
     "metadata": {},
     "output_type": "execute_result"
    }
   ],
   "source": [
    "Batch.cat(batches)"
   ]
  },
  {
   "cell_type": "code",
   "execution_count": 28,
   "id": "18dfb045",
   "metadata": {
    "execution": {
     "iopub.execute_input": "2023-08-14T05:37:41.401159Z",
     "iopub.status.busy": "2023-08-14T05:37:41.400788Z",
     "iopub.status.idle": "2023-08-14T05:37:53.900815Z",
     "shell.execute_reply": "2023-08-14T05:37:53.900047Z"
    }
   },
   "outputs": [
    {
     "name": "stdout",
     "output_type": "stream",
     "text": [
      "154 µs ± 268 ns per loop (mean ± std. dev. of 7 runs, 10,000 loops each)\n"
     ]
    }
   ],
   "source": [
    "%timeit Batch.cat(batches)"
   ]
  },
  {
   "cell_type": "code",
   "execution_count": 29,
   "id": "c6688e51",
   "metadata": {
    "execution": {
     "iopub.execute_input": "2023-08-14T05:37:53.904345Z",
     "iopub.status.busy": "2023-08-14T05:37:53.903829Z",
     "iopub.status.idle": "2023-08-14T05:37:56.753031Z",
     "shell.execute_reply": "2023-08-14T05:37:56.752111Z"
    }
   },
   "outputs": [
    {
     "name": "stdout",
     "output_type": "stream",
     "text": [
      "351 µs ± 6.21 µs per loop (mean ± std. dev. of 7 runs, 1,000 loops each)\n"
     ]
    }
   ],
   "source": [
    "batch = Batch({\n",
    "    'obs': torch.randn(8, 4, 84, 84),\n",
    "    'action': torch.randint(0, 6, size=(8, 1,)),\n",
    "    'reward': torch.rand(8, 1)}\n",
    ")\n",
    "\n",
    "%timeit list(Batch.split(batch, 1, shuffle=False, merge_last=True))"
   ]
  },
  {
   "cell_type": "code",
   "execution_count": null,
   "id": "2539fbd9",
   "metadata": {},
   "outputs": [],
   "source": []
  }
 ],
 "metadata": {
  "kernelspec": {
   "display_name": "Python 3 (ipykernel)",
   "language": "python",
   "name": "python3"
  },
  "language_info": {
   "codemirror_mode": {
    "name": "ipython",
    "version": 3
   },
   "file_extension": ".py",
   "mimetype": "text/x-python",
   "name": "python",
   "nbconvert_exporter": "python",
   "pygments_lexer": "ipython3",
   "version": "3.8.17"
  }
 },
 "nbformat": 4,
 "nbformat_minor": 5
}
