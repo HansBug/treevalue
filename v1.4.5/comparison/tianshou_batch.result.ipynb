{
 "cells": [
  {
   "cell_type": "markdown",
   "id": "9d39d946",
   "metadata": {},
   "source": [
    "# Comparison Between TreeValue and Tianshou Batch"
   ]
  },
  {
   "cell_type": "markdown",
   "id": "3c6db2d4",
   "metadata": {},
   "source": [
    "In this section, we will take a look at the feature and performance of the [Tianshou Batch](https://github.com/thu-ml/tianshou) library, which is developed by Tsinghua Machine Learning Group."
   ]
  },
  {
   "cell_type": "markdown",
   "id": "069361b0",
   "metadata": {},
   "source": [
    "Before starting the comparison, let us define some thing."
   ]
  },
  {
   "cell_type": "code",
   "execution_count": 1,
   "id": "06fc8d26",
   "metadata": {
    "execution": {
     "iopub.execute_input": "2023-02-27T10:53:09.302762Z",
     "iopub.status.busy": "2023-02-27T10:53:09.302259Z",
     "iopub.status.idle": "2023-02-27T10:53:10.351273Z",
     "shell.execute_reply": "2023-02-27T10:53:10.350438Z"
    }
   },
   "outputs": [
    {
     "name": "stderr",
     "output_type": "stream",
     "text": [
      "/opt/hostedtoolcache/Python/3.8.16/x64/lib/python3.8/site-packages/tqdm/auto.py:22: TqdmWarning: IProgress not found. Please update jupyter and ipywidgets. See https://ipywidgets.readthedocs.io/en/stable/user_install.html\n",
      "  from .autonotebook import tqdm as notebook_tqdm\n"
     ]
    }
   ],
   "source": [
    "import torch \n",
    "\n",
    "_TREE_DATA_1 = {'a': 1, 'b': 2, 'x': {'c': 3, 'd': 4}}\n",
    "_TREE_DATA_2 = {\n",
    "    'a': torch.randn(2, 3), \n",
    "    'x': {\n",
    "        'c': torch.randn(3, 4)\n",
    "    },\n",
    "}\n",
    "_TREE_DATA_3 = {\n",
    "    'obs': torch.randn(4, 84, 84),\n",
    "    'action': torch.randint(0, 6, size=(1,)),\n",
    "    'reward': torch.rand(1),\n",
    "}"
   ]
  },
  {
   "cell_type": "markdown",
   "id": "83461b25",
   "metadata": {},
   "source": [
    "## Read and Write Operation"
   ]
  },
  {
   "cell_type": "markdown",
   "id": "067b3f73",
   "metadata": {},
   "source": [
    "Reading and writing are the two most common operations in the tree data structure based on the data model (TreeValue and Tianshou Batch both belong to this type), so this section will compare the reading and writing performance of these two libraries."
   ]
  },
  {
   "cell_type": "markdown",
   "id": "5d09a5b7",
   "metadata": {},
   "source": [
    "### TreeValue's Get and Set"
   ]
  },
  {
   "cell_type": "code",
   "execution_count": 2,
   "id": "9519c4bb",
   "metadata": {
    "execution": {
     "iopub.execute_input": "2023-02-27T10:53:10.355557Z",
     "iopub.status.busy": "2023-02-27T10:53:10.355035Z",
     "iopub.status.idle": "2023-02-27T10:53:10.392527Z",
     "shell.execute_reply": "2023-02-27T10:53:10.391726Z"
    }
   },
   "outputs": [],
   "source": [
    "from treevalue import FastTreeValue\n",
    "\n",
    "t = FastTreeValue(_TREE_DATA_2)"
   ]
  },
  {
   "cell_type": "code",
   "execution_count": 3,
   "id": "11c37677",
   "metadata": {
    "execution": {
     "iopub.execute_input": "2023-02-27T10:53:10.396714Z",
     "iopub.status.busy": "2023-02-27T10:53:10.396038Z",
     "iopub.status.idle": "2023-02-27T10:53:10.407822Z",
     "shell.execute_reply": "2023-02-27T10:53:10.407172Z"
    }
   },
   "outputs": [
    {
     "data": {
      "text/plain": [
       "<FastTreeValue 0x7f9624253190>\n",
       "├── 'a' --> tensor([[0.6993, 0.6600, 0.6244],\n",
       "│                   [1.2887, 1.0908, 1.2011]])\n",
       "└── 'x' --> <FastTreeValue 0x7f96242532e0>\n",
       "    └── 'c' --> tensor([[-0.4750, -1.2156, -0.5794,  2.0314],\n",
       "                        [ 1.2313,  0.2176,  0.9506, -0.8789],\n",
       "                        [ 1.2311,  1.0460, -0.3037, -0.9040]])"
      ]
     },
     "execution_count": 3,
     "metadata": {},
     "output_type": "execute_result"
    }
   ],
   "source": [
    "t"
   ]
  },
  {
   "cell_type": "code",
   "execution_count": 4,
   "id": "fd70b0b9",
   "metadata": {
    "execution": {
     "iopub.execute_input": "2023-02-27T10:53:10.411255Z",
     "iopub.status.busy": "2023-02-27T10:53:10.410652Z",
     "iopub.status.idle": "2023-02-27T10:53:10.417495Z",
     "shell.execute_reply": "2023-02-27T10:53:10.416870Z"
    }
   },
   "outputs": [
    {
     "data": {
      "text/plain": [
       "tensor([[0.6993, 0.6600, 0.6244],\n",
       "        [1.2887, 1.0908, 1.2011]])"
      ]
     },
     "execution_count": 4,
     "metadata": {},
     "output_type": "execute_result"
    }
   ],
   "source": [
    "t.a"
   ]
  },
  {
   "cell_type": "code",
   "execution_count": 5,
   "id": "c18197bd",
   "metadata": {
    "execution": {
     "iopub.execute_input": "2023-02-27T10:53:10.420756Z",
     "iopub.status.busy": "2023-02-27T10:53:10.420198Z",
     "iopub.status.idle": "2023-02-27T10:53:15.711332Z",
     "shell.execute_reply": "2023-02-27T10:53:15.710467Z"
    }
   },
   "outputs": [
    {
     "name": "stdout",
     "output_type": "stream",
     "text": [
      "65.1 ns ± 0.0762 ns per loop (mean ± std. dev. of 7 runs, 10,000,000 loops each)\n"
     ]
    }
   ],
   "source": [
    "%timeit t.a"
   ]
  },
  {
   "cell_type": "code",
   "execution_count": 6,
   "id": "bd52f867",
   "metadata": {
    "execution": {
     "iopub.execute_input": "2023-02-27T10:53:15.714616Z",
     "iopub.status.busy": "2023-02-27T10:53:15.714177Z",
     "iopub.status.idle": "2023-02-27T10:53:15.721610Z",
     "shell.execute_reply": "2023-02-27T10:53:15.720942Z"
    }
   },
   "outputs": [
    {
     "data": {
      "text/plain": [
       "<FastTreeValue 0x7f9624253190>\n",
       "├── 'a' --> tensor([[ 0.7487,  0.8315,  0.8024],\n",
       "│                   [-0.8008, -1.4285, -1.8641]])\n",
       "└── 'x' --> <FastTreeValue 0x7f96242532e0>\n",
       "    └── 'c' --> tensor([[-0.4750, -1.2156, -0.5794,  2.0314],\n",
       "                        [ 1.2313,  0.2176,  0.9506, -0.8789],\n",
       "                        [ 1.2311,  1.0460, -0.3037, -0.9040]])"
      ]
     },
     "execution_count": 6,
     "metadata": {},
     "output_type": "execute_result"
    }
   ],
   "source": [
    "new_value = torch.randn(2, 3)\n",
    "t.a = new_value\n",
    "\n",
    "t"
   ]
  },
  {
   "cell_type": "code",
   "execution_count": 7,
   "id": "bbe04d1c",
   "metadata": {
    "execution": {
     "iopub.execute_input": "2023-02-27T10:53:15.724535Z",
     "iopub.status.busy": "2023-02-27T10:53:15.724140Z",
     "iopub.status.idle": "2023-02-27T10:53:21.233222Z",
     "shell.execute_reply": "2023-02-27T10:53:21.232247Z"
    }
   },
   "outputs": [
    {
     "name": "stdout",
     "output_type": "stream",
     "text": [
      "67.8 ns ± 0.0926 ns per loop (mean ± std. dev. of 7 runs, 10,000,000 loops each)\n"
     ]
    }
   ],
   "source": [
    "%timeit t.a = new_value"
   ]
  },
  {
   "cell_type": "markdown",
   "id": "48c49731",
   "metadata": {},
   "source": [
    "### Tianshou Batch's Get and Set"
   ]
  },
  {
   "cell_type": "code",
   "execution_count": 8,
   "id": "f1bb14c1",
   "metadata": {
    "execution": {
     "iopub.execute_input": "2023-02-27T10:53:21.237859Z",
     "iopub.status.busy": "2023-02-27T10:53:21.237266Z",
     "iopub.status.idle": "2023-02-27T10:53:21.639059Z",
     "shell.execute_reply": "2023-02-27T10:53:21.638182Z"
    }
   },
   "outputs": [],
   "source": [
    "from tianshou.data import Batch\n",
    "\n",
    "b = Batch(**_TREE_DATA_2)"
   ]
  },
  {
   "cell_type": "code",
   "execution_count": 9,
   "id": "cb0777c3",
   "metadata": {
    "execution": {
     "iopub.execute_input": "2023-02-27T10:53:21.642817Z",
     "iopub.status.busy": "2023-02-27T10:53:21.642258Z",
     "iopub.status.idle": "2023-02-27T10:53:21.650412Z",
     "shell.execute_reply": "2023-02-27T10:53:21.649726Z"
    }
   },
   "outputs": [
    {
     "data": {
      "text/plain": [
       "Batch(\n",
       "    a: tensor([[0.6993, 0.6600, 0.6244],\n",
       "               [1.2887, 1.0908, 1.2011]]),\n",
       "    x: Batch(\n",
       "           c: tensor([[-0.4750, -1.2156, -0.5794,  2.0314],\n",
       "                      [ 1.2313,  0.2176,  0.9506, -0.8789],\n",
       "                      [ 1.2311,  1.0460, -0.3037, -0.9040]]),\n",
       "       ),\n",
       ")"
      ]
     },
     "execution_count": 9,
     "metadata": {},
     "output_type": "execute_result"
    }
   ],
   "source": [
    "b"
   ]
  },
  {
   "cell_type": "code",
   "execution_count": 10,
   "id": "43ef8ea3",
   "metadata": {
    "execution": {
     "iopub.execute_input": "2023-02-27T10:53:21.653715Z",
     "iopub.status.busy": "2023-02-27T10:53:21.653315Z",
     "iopub.status.idle": "2023-02-27T10:53:21.660435Z",
     "shell.execute_reply": "2023-02-27T10:53:21.659787Z"
    }
   },
   "outputs": [
    {
     "data": {
      "text/plain": [
       "tensor([[0.6993, 0.6600, 0.6244],\n",
       "        [1.2887, 1.0908, 1.2011]])"
      ]
     },
     "execution_count": 10,
     "metadata": {},
     "output_type": "execute_result"
    }
   ],
   "source": [
    "b.a"
   ]
  },
  {
   "cell_type": "code",
   "execution_count": 11,
   "id": "b785ab72",
   "metadata": {
    "execution": {
     "iopub.execute_input": "2023-02-27T10:53:21.663361Z",
     "iopub.status.busy": "2023-02-27T10:53:21.662873Z",
     "iopub.status.idle": "2023-02-27T10:53:26.340175Z",
     "shell.execute_reply": "2023-02-27T10:53:26.339272Z"
    }
   },
   "outputs": [
    {
     "name": "stdout",
     "output_type": "stream",
     "text": [
      "57.6 ns ± 0.0658 ns per loop (mean ± std. dev. of 7 runs, 10,000,000 loops each)\n"
     ]
    }
   ],
   "source": [
    "%timeit b.a"
   ]
  },
  {
   "cell_type": "code",
   "execution_count": 12,
   "id": "ad54dc69",
   "metadata": {
    "execution": {
     "iopub.execute_input": "2023-02-27T10:53:26.343660Z",
     "iopub.status.busy": "2023-02-27T10:53:26.343226Z",
     "iopub.status.idle": "2023-02-27T10:53:26.350805Z",
     "shell.execute_reply": "2023-02-27T10:53:26.350129Z"
    }
   },
   "outputs": [
    {
     "data": {
      "text/plain": [
       "Batch(\n",
       "    a: tensor([[-6.9926e-02,  1.0398e+00, -1.6261e-03],\n",
       "               [-1.6765e+00,  2.3905e-01,  2.0615e+00]]),\n",
       "    x: Batch(\n",
       "           c: tensor([[-0.4750, -1.2156, -0.5794,  2.0314],\n",
       "                      [ 1.2313,  0.2176,  0.9506, -0.8789],\n",
       "                      [ 1.2311,  1.0460, -0.3037, -0.9040]]),\n",
       "       ),\n",
       ")"
      ]
     },
     "execution_count": 12,
     "metadata": {},
     "output_type": "execute_result"
    }
   ],
   "source": [
    "new_value = torch.randn(2, 3)\n",
    "b.a = new_value\n",
    "\n",
    "b"
   ]
  },
  {
   "cell_type": "code",
   "execution_count": 13,
   "id": "29b1d0bf",
   "metadata": {
    "execution": {
     "iopub.execute_input": "2023-02-27T10:53:26.354069Z",
     "iopub.status.busy": "2023-02-27T10:53:26.353594Z",
     "iopub.status.idle": "2023-02-27T10:53:30.414511Z",
     "shell.execute_reply": "2023-02-27T10:53:30.413752Z"
    }
   },
   "outputs": [
    {
     "name": "stdout",
     "output_type": "stream",
     "text": [
      "500 ns ± 0.17 ns per loop (mean ± std. dev. of 7 runs, 1,000,000 loops each)\n"
     ]
    }
   ],
   "source": [
    "%timeit b.a = new_value"
   ]
  },
  {
   "cell_type": "markdown",
   "id": "b61ad1d0",
   "metadata": {},
   "source": [
    "## Initialization"
   ]
  },
  {
   "cell_type": "markdown",
   "id": "d70f0d54",
   "metadata": {},
   "source": [
    "### TreeValue's Initialization"
   ]
  },
  {
   "cell_type": "code",
   "execution_count": 14,
   "id": "d32a679b",
   "metadata": {
    "execution": {
     "iopub.execute_input": "2023-02-27T10:53:30.418155Z",
     "iopub.status.busy": "2023-02-27T10:53:30.417607Z",
     "iopub.status.idle": "2023-02-27T10:53:37.061260Z",
     "shell.execute_reply": "2023-02-27T10:53:37.060347Z"
    }
   },
   "outputs": [
    {
     "name": "stdout",
     "output_type": "stream",
     "text": [
      "817 ns ± 5.19 ns per loop (mean ± std. dev. of 7 runs, 1,000,000 loops each)\n"
     ]
    }
   ],
   "source": [
    "%timeit FastTreeValue(_TREE_DATA_1)"
   ]
  },
  {
   "cell_type": "markdown",
   "id": "24f3707b",
   "metadata": {},
   "source": [
    "### Tianshou Batch's Initialization"
   ]
  },
  {
   "cell_type": "code",
   "execution_count": 15,
   "id": "ac3958df",
   "metadata": {
    "execution": {
     "iopub.execute_input": "2023-02-27T10:53:37.064917Z",
     "iopub.status.busy": "2023-02-27T10:53:37.064481Z",
     "iopub.status.idle": "2023-02-27T10:53:45.920876Z",
     "shell.execute_reply": "2023-02-27T10:53:45.919935Z"
    }
   },
   "outputs": [
    {
     "name": "stdout",
     "output_type": "stream",
     "text": [
      "10.9 µs ± 14.1 ns per loop (mean ± std. dev. of 7 runs, 100,000 loops each)\n"
     ]
    }
   ],
   "source": [
    "%timeit Batch(**_TREE_DATA_1)"
   ]
  },
  {
   "cell_type": "markdown",
   "id": "1ab82e2d",
   "metadata": {},
   "source": [
    "## Deep Copy Operation"
   ]
  },
  {
   "cell_type": "code",
   "execution_count": 16,
   "id": "210a9442",
   "metadata": {
    "execution": {
     "iopub.execute_input": "2023-02-27T10:53:45.924738Z",
     "iopub.status.busy": "2023-02-27T10:53:45.923988Z",
     "iopub.status.idle": "2023-02-27T10:53:45.928144Z",
     "shell.execute_reply": "2023-02-27T10:53:45.927496Z"
    }
   },
   "outputs": [],
   "source": [
    "import copy"
   ]
  },
  {
   "cell_type": "markdown",
   "id": "5a736274",
   "metadata": {},
   "source": [
    "### Deep Copy of TreeValue"
   ]
  },
  {
   "cell_type": "code",
   "execution_count": 17,
   "id": "f9bcadd6",
   "metadata": {
    "execution": {
     "iopub.execute_input": "2023-02-27T10:53:45.931437Z",
     "iopub.status.busy": "2023-02-27T10:53:45.930889Z",
     "iopub.status.idle": "2023-02-27T10:53:57.770732Z",
     "shell.execute_reply": "2023-02-27T10:53:57.770057Z"
    }
   },
   "outputs": [
    {
     "name": "stdout",
     "output_type": "stream",
     "text": [
      "146 µs ± 1.67 µs per loop (mean ± std. dev. of 7 runs, 10,000 loops each)\n"
     ]
    }
   ],
   "source": [
    "t3 = FastTreeValue(_TREE_DATA_3)\n",
    "%timeit copy.deepcopy(t3)"
   ]
  },
  {
   "cell_type": "markdown",
   "id": "bf8be7ea",
   "metadata": {},
   "source": [
    "### Deep Copy of Tianshou Batch"
   ]
  },
  {
   "cell_type": "code",
   "execution_count": 18,
   "id": "91998e6f",
   "metadata": {
    "execution": {
     "iopub.execute_input": "2023-02-27T10:53:57.774602Z",
     "iopub.status.busy": "2023-02-27T10:53:57.773864Z",
     "iopub.status.idle": "2023-02-27T10:54:09.531231Z",
     "shell.execute_reply": "2023-02-27T10:54:09.530558Z"
    }
   },
   "outputs": [
    {
     "name": "stdout",
     "output_type": "stream",
     "text": [
      "145 µs ± 479 ns per loop (mean ± std. dev. of 7 runs, 10,000 loops each)\n"
     ]
    }
   ],
   "source": [
    "b3 = Batch(**_TREE_DATA_3)\n",
    "%timeit copy.deepcopy(b3)"
   ]
  },
  {
   "cell_type": "markdown",
   "id": "223162fb",
   "metadata": {},
   "source": [
    "## Stack, Concat and Split Operation"
   ]
  },
  {
   "cell_type": "markdown",
   "id": "85fa4a73",
   "metadata": {},
   "source": [
    "### Performance of TreeValue"
   ]
  },
  {
   "cell_type": "code",
   "execution_count": 19,
   "id": "a0c2b697",
   "metadata": {
    "execution": {
     "iopub.execute_input": "2023-02-27T10:54:09.534608Z",
     "iopub.status.busy": "2023-02-27T10:54:09.534183Z",
     "iopub.status.idle": "2023-02-27T10:54:09.537557Z",
     "shell.execute_reply": "2023-02-27T10:54:09.536985Z"
    }
   },
   "outputs": [],
   "source": [
    "trees = [FastTreeValue(_TREE_DATA_2) for _ in range(8)]"
   ]
  },
  {
   "cell_type": "code",
   "execution_count": 20,
   "id": "017ea5a5",
   "metadata": {
    "execution": {
     "iopub.execute_input": "2023-02-27T10:54:09.540191Z",
     "iopub.status.busy": "2023-02-27T10:54:09.539806Z",
     "iopub.status.idle": "2023-02-27T10:54:09.547091Z",
     "shell.execute_reply": "2023-02-27T10:54:09.546521Z"
    }
   },
   "outputs": [
    {
     "data": {
      "text/plain": [
       "<FastTreeValue 0x7f957fb655e0>\n",
       "├── 'a' --> tensor([[[0.6993, 0.6600, 0.6244],\n",
       "│                    [1.2887, 1.0908, 1.2011]],\n",
       "│           \n",
       "│                   [[0.6993, 0.6600, 0.6244],\n",
       "│                    [1.2887, 1.0908, 1.2011]],\n",
       "│           \n",
       "│                   [[0.6993, 0.6600, 0.6244],\n",
       "│                    [1.2887, 1.0908, 1.2011]],\n",
       "│           \n",
       "│                   [[0.6993, 0.6600, 0.6244],\n",
       "│                    [1.2887, 1.0908, 1.2011]],\n",
       "│           \n",
       "│                   [[0.6993, 0.6600, 0.6244],\n",
       "│                    [1.2887, 1.0908, 1.2011]],\n",
       "│           \n",
       "│                   [[0.6993, 0.6600, 0.6244],\n",
       "│                    [1.2887, 1.0908, 1.2011]],\n",
       "│           \n",
       "│                   [[0.6993, 0.6600, 0.6244],\n",
       "│                    [1.2887, 1.0908, 1.2011]],\n",
       "│           \n",
       "│                   [[0.6993, 0.6600, 0.6244],\n",
       "│                    [1.2887, 1.0908, 1.2011]]])\n",
       "└── 'x' --> <FastTreeValue 0x7f957fb65340>\n",
       "    └── 'c' --> tensor([[[-0.4750, -1.2156, -0.5794,  2.0314],\n",
       "                         [ 1.2313,  0.2176,  0.9506, -0.8789],\n",
       "                         [ 1.2311,  1.0460, -0.3037, -0.9040]],\n",
       "                \n",
       "                        [[-0.4750, -1.2156, -0.5794,  2.0314],\n",
       "                         [ 1.2313,  0.2176,  0.9506, -0.8789],\n",
       "                         [ 1.2311,  1.0460, -0.3037, -0.9040]],\n",
       "                \n",
       "                        [[-0.4750, -1.2156, -0.5794,  2.0314],\n",
       "                         [ 1.2313,  0.2176,  0.9506, -0.8789],\n",
       "                         [ 1.2311,  1.0460, -0.3037, -0.9040]],\n",
       "                \n",
       "                        [[-0.4750, -1.2156, -0.5794,  2.0314],\n",
       "                         [ 1.2313,  0.2176,  0.9506, -0.8789],\n",
       "                         [ 1.2311,  1.0460, -0.3037, -0.9040]],\n",
       "                \n",
       "                        [[-0.4750, -1.2156, -0.5794,  2.0314],\n",
       "                         [ 1.2313,  0.2176,  0.9506, -0.8789],\n",
       "                         [ 1.2311,  1.0460, -0.3037, -0.9040]],\n",
       "                \n",
       "                        [[-0.4750, -1.2156, -0.5794,  2.0314],\n",
       "                         [ 1.2313,  0.2176,  0.9506, -0.8789],\n",
       "                         [ 1.2311,  1.0460, -0.3037, -0.9040]],\n",
       "                \n",
       "                        [[-0.4750, -1.2156, -0.5794,  2.0314],\n",
       "                         [ 1.2313,  0.2176,  0.9506, -0.8789],\n",
       "                         [ 1.2311,  1.0460, -0.3037, -0.9040]],\n",
       "                \n",
       "                        [[-0.4750, -1.2156, -0.5794,  2.0314],\n",
       "                         [ 1.2313,  0.2176,  0.9506, -0.8789],\n",
       "                         [ 1.2311,  1.0460, -0.3037, -0.9040]]])"
      ]
     },
     "execution_count": 20,
     "metadata": {},
     "output_type": "execute_result"
    }
   ],
   "source": [
    "t_stack = FastTreeValue.func(subside=True)(torch.stack)\n",
    "\n",
    "t_stack(trees)"
   ]
  },
  {
   "cell_type": "code",
   "execution_count": 21,
   "id": "f8b3f415",
   "metadata": {
    "execution": {
     "iopub.execute_input": "2023-02-27T10:54:09.549729Z",
     "iopub.status.busy": "2023-02-27T10:54:09.549350Z",
     "iopub.status.idle": "2023-02-27T10:54:12.066110Z",
     "shell.execute_reply": "2023-02-27T10:54:12.064983Z"
    }
   },
   "outputs": [
    {
     "name": "stdout",
     "output_type": "stream",
     "text": [
      "31 µs ± 88.9 ns per loop (mean ± std. dev. of 7 runs, 10,000 loops each)\n"
     ]
    }
   ],
   "source": [
    "%timeit t_stack(trees)"
   ]
  },
  {
   "cell_type": "code",
   "execution_count": 22,
   "id": "94b56771",
   "metadata": {
    "execution": {
     "iopub.execute_input": "2023-02-27T10:54:12.069826Z",
     "iopub.status.busy": "2023-02-27T10:54:12.069339Z",
     "iopub.status.idle": "2023-02-27T10:54:12.077826Z",
     "shell.execute_reply": "2023-02-27T10:54:12.077017Z"
    }
   },
   "outputs": [
    {
     "data": {
      "text/plain": [
       "<FastTreeValue 0x7f9578f225e0>\n",
       "├── 'a' --> tensor([[0.6993, 0.6600, 0.6244],\n",
       "│                   [1.2887, 1.0908, 1.2011],\n",
       "│                   [0.6993, 0.6600, 0.6244],\n",
       "│                   [1.2887, 1.0908, 1.2011],\n",
       "│                   [0.6993, 0.6600, 0.6244],\n",
       "│                   [1.2887, 1.0908, 1.2011],\n",
       "│                   [0.6993, 0.6600, 0.6244],\n",
       "│                   [1.2887, 1.0908, 1.2011],\n",
       "│                   [0.6993, 0.6600, 0.6244],\n",
       "│                   [1.2887, 1.0908, 1.2011],\n",
       "│                   [0.6993, 0.6600, 0.6244],\n",
       "│                   [1.2887, 1.0908, 1.2011],\n",
       "│                   [0.6993, 0.6600, 0.6244],\n",
       "│                   [1.2887, 1.0908, 1.2011],\n",
       "│                   [0.6993, 0.6600, 0.6244],\n",
       "│                   [1.2887, 1.0908, 1.2011]])\n",
       "└── 'x' --> <FastTreeValue 0x7f9578f22220>\n",
       "    └── 'c' --> tensor([[-0.4750, -1.2156, -0.5794,  2.0314],\n",
       "                        [ 1.2313,  0.2176,  0.9506, -0.8789],\n",
       "                        [ 1.2311,  1.0460, -0.3037, -0.9040],\n",
       "                        [-0.4750, -1.2156, -0.5794,  2.0314],\n",
       "                        [ 1.2313,  0.2176,  0.9506, -0.8789],\n",
       "                        [ 1.2311,  1.0460, -0.3037, -0.9040],\n",
       "                        [-0.4750, -1.2156, -0.5794,  2.0314],\n",
       "                        [ 1.2313,  0.2176,  0.9506, -0.8789],\n",
       "                        [ 1.2311,  1.0460, -0.3037, -0.9040],\n",
       "                        [-0.4750, -1.2156, -0.5794,  2.0314],\n",
       "                        [ 1.2313,  0.2176,  0.9506, -0.8789],\n",
       "                        [ 1.2311,  1.0460, -0.3037, -0.9040],\n",
       "                        [-0.4750, -1.2156, -0.5794,  2.0314],\n",
       "                        [ 1.2313,  0.2176,  0.9506, -0.8789],\n",
       "                        [ 1.2311,  1.0460, -0.3037, -0.9040],\n",
       "                        [-0.4750, -1.2156, -0.5794,  2.0314],\n",
       "                        [ 1.2313,  0.2176,  0.9506, -0.8789],\n",
       "                        [ 1.2311,  1.0460, -0.3037, -0.9040],\n",
       "                        [-0.4750, -1.2156, -0.5794,  2.0314],\n",
       "                        [ 1.2313,  0.2176,  0.9506, -0.8789],\n",
       "                        [ 1.2311,  1.0460, -0.3037, -0.9040],\n",
       "                        [-0.4750, -1.2156, -0.5794,  2.0314],\n",
       "                        [ 1.2313,  0.2176,  0.9506, -0.8789],\n",
       "                        [ 1.2311,  1.0460, -0.3037, -0.9040]])"
      ]
     },
     "execution_count": 22,
     "metadata": {},
     "output_type": "execute_result"
    }
   ],
   "source": [
    "t_cat = FastTreeValue.func(subside=True)(torch.cat)\n",
    "\n",
    "t_cat(trees)"
   ]
  },
  {
   "cell_type": "code",
   "execution_count": 23,
   "id": "5e9c06a6",
   "metadata": {
    "execution": {
     "iopub.execute_input": "2023-02-27T10:54:12.080925Z",
     "iopub.status.busy": "2023-02-27T10:54:12.080436Z",
     "iopub.status.idle": "2023-02-27T10:54:14.469180Z",
     "shell.execute_reply": "2023-02-27T10:54:14.468254Z"
    }
   },
   "outputs": [
    {
     "name": "stdout",
     "output_type": "stream",
     "text": [
      "29.4 µs ± 54.2 ns per loop (mean ± std. dev. of 7 runs, 10,000 loops each)\n"
     ]
    }
   ],
   "source": [
    "%timeit t_cat(trees)"
   ]
  },
  {
   "cell_type": "code",
   "execution_count": 24,
   "id": "a3ab5c8f",
   "metadata": {
    "execution": {
     "iopub.execute_input": "2023-02-27T10:54:14.472761Z",
     "iopub.status.busy": "2023-02-27T10:54:14.472264Z",
     "iopub.status.idle": "2023-02-27T10:54:19.096372Z",
     "shell.execute_reply": "2023-02-27T10:54:19.095487Z"
    }
   },
   "outputs": [
    {
     "name": "stdout",
     "output_type": "stream",
     "text": [
      "56.9 µs ± 91.9 ns per loop (mean ± std. dev. of 7 runs, 10,000 loops each)\n"
     ]
    }
   ],
   "source": [
    "t_split = FastTreeValue.func(rise=True)(torch.split)\n",
    "tree = FastTreeValue({\n",
    "    'obs': torch.randn(8, 4, 84, 84),\n",
    "    'action': torch.randint(0, 6, size=(8, 1,)),\n",
    "    'reward': torch.rand(8, 1),\n",
    "})\n",
    "\n",
    "%timeit t_split(tree, 1)"
   ]
  },
  {
   "cell_type": "markdown",
   "id": "31c3ec0b",
   "metadata": {},
   "source": [
    "### Performance of Tianshou Batch"
   ]
  },
  {
   "cell_type": "code",
   "execution_count": 25,
   "id": "9ead828a",
   "metadata": {
    "execution": {
     "iopub.execute_input": "2023-02-27T10:54:19.100526Z",
     "iopub.status.busy": "2023-02-27T10:54:19.099906Z",
     "iopub.status.idle": "2023-02-27T10:54:19.108598Z",
     "shell.execute_reply": "2023-02-27T10:54:19.107950Z"
    }
   },
   "outputs": [
    {
     "data": {
      "text/plain": [
       "Batch(\n",
       "    x: Batch(\n",
       "           c: tensor([[[-0.4750, -1.2156, -0.5794,  2.0314],\n",
       "                       [ 1.2313,  0.2176,  0.9506, -0.8789],\n",
       "                       [ 1.2311,  1.0460, -0.3037, -0.9040]],\n",
       "              \n",
       "                      [[-0.4750, -1.2156, -0.5794,  2.0314],\n",
       "                       [ 1.2313,  0.2176,  0.9506, -0.8789],\n",
       "                       [ 1.2311,  1.0460, -0.3037, -0.9040]],\n",
       "              \n",
       "                      [[-0.4750, -1.2156, -0.5794,  2.0314],\n",
       "                       [ 1.2313,  0.2176,  0.9506, -0.8789],\n",
       "                       [ 1.2311,  1.0460, -0.3037, -0.9040]],\n",
       "              \n",
       "                      [[-0.4750, -1.2156, -0.5794,  2.0314],\n",
       "                       [ 1.2313,  0.2176,  0.9506, -0.8789],\n",
       "                       [ 1.2311,  1.0460, -0.3037, -0.9040]],\n",
       "              \n",
       "                      [[-0.4750, -1.2156, -0.5794,  2.0314],\n",
       "                       [ 1.2313,  0.2176,  0.9506, -0.8789],\n",
       "                       [ 1.2311,  1.0460, -0.3037, -0.9040]],\n",
       "              \n",
       "                      [[-0.4750, -1.2156, -0.5794,  2.0314],\n",
       "                       [ 1.2313,  0.2176,  0.9506, -0.8789],\n",
       "                       [ 1.2311,  1.0460, -0.3037, -0.9040]],\n",
       "              \n",
       "                      [[-0.4750, -1.2156, -0.5794,  2.0314],\n",
       "                       [ 1.2313,  0.2176,  0.9506, -0.8789],\n",
       "                       [ 1.2311,  1.0460, -0.3037, -0.9040]],\n",
       "              \n",
       "                      [[-0.4750, -1.2156, -0.5794,  2.0314],\n",
       "                       [ 1.2313,  0.2176,  0.9506, -0.8789],\n",
       "                       [ 1.2311,  1.0460, -0.3037, -0.9040]]]),\n",
       "       ),\n",
       "    a: tensor([[[0.6993, 0.6600, 0.6244],\n",
       "                [1.2887, 1.0908, 1.2011]],\n",
       "       \n",
       "               [[0.6993, 0.6600, 0.6244],\n",
       "                [1.2887, 1.0908, 1.2011]],\n",
       "       \n",
       "               [[0.6993, 0.6600, 0.6244],\n",
       "                [1.2887, 1.0908, 1.2011]],\n",
       "       \n",
       "               [[0.6993, 0.6600, 0.6244],\n",
       "                [1.2887, 1.0908, 1.2011]],\n",
       "       \n",
       "               [[0.6993, 0.6600, 0.6244],\n",
       "                [1.2887, 1.0908, 1.2011]],\n",
       "       \n",
       "               [[0.6993, 0.6600, 0.6244],\n",
       "                [1.2887, 1.0908, 1.2011]],\n",
       "       \n",
       "               [[0.6993, 0.6600, 0.6244],\n",
       "                [1.2887, 1.0908, 1.2011]],\n",
       "       \n",
       "               [[0.6993, 0.6600, 0.6244],\n",
       "                [1.2887, 1.0908, 1.2011]]]),\n",
       ")"
      ]
     },
     "execution_count": 25,
     "metadata": {},
     "output_type": "execute_result"
    }
   ],
   "source": [
    "batches = [Batch(**_TREE_DATA_2) for _ in range(8)]\n",
    "\n",
    "Batch.stack(batches)"
   ]
  },
  {
   "cell_type": "code",
   "execution_count": 26,
   "id": "ec9037a3",
   "metadata": {
    "execution": {
     "iopub.execute_input": "2023-02-27T10:54:19.111622Z",
     "iopub.status.busy": "2023-02-27T10:54:19.111245Z",
     "iopub.status.idle": "2023-02-27T10:54:25.460546Z",
     "shell.execute_reply": "2023-02-27T10:54:25.459579Z"
    }
   },
   "outputs": [
    {
     "name": "stdout",
     "output_type": "stream",
     "text": [
      "78.1 µs ± 109 ns per loop (mean ± std. dev. of 7 runs, 10,000 loops each)\n"
     ]
    }
   ],
   "source": [
    "%timeit Batch.stack(batches)"
   ]
  },
  {
   "cell_type": "code",
   "execution_count": 27,
   "id": "cb8ab77e",
   "metadata": {
    "execution": {
     "iopub.execute_input": "2023-02-27T10:54:25.464264Z",
     "iopub.status.busy": "2023-02-27T10:54:25.463749Z",
     "iopub.status.idle": "2023-02-27T10:54:25.471985Z",
     "shell.execute_reply": "2023-02-27T10:54:25.471321Z"
    }
   },
   "outputs": [
    {
     "data": {
      "text/plain": [
       "Batch(\n",
       "    x: Batch(\n",
       "           c: tensor([[-0.4750, -1.2156, -0.5794,  2.0314],\n",
       "                      [ 1.2313,  0.2176,  0.9506, -0.8789],\n",
       "                      [ 1.2311,  1.0460, -0.3037, -0.9040],\n",
       "                      [-0.4750, -1.2156, -0.5794,  2.0314],\n",
       "                      [ 1.2313,  0.2176,  0.9506, -0.8789],\n",
       "                      [ 1.2311,  1.0460, -0.3037, -0.9040],\n",
       "                      [-0.4750, -1.2156, -0.5794,  2.0314],\n",
       "                      [ 1.2313,  0.2176,  0.9506, -0.8789],\n",
       "                      [ 1.2311,  1.0460, -0.3037, -0.9040],\n",
       "                      [-0.4750, -1.2156, -0.5794,  2.0314],\n",
       "                      [ 1.2313,  0.2176,  0.9506, -0.8789],\n",
       "                      [ 1.2311,  1.0460, -0.3037, -0.9040],\n",
       "                      [-0.4750, -1.2156, -0.5794,  2.0314],\n",
       "                      [ 1.2313,  0.2176,  0.9506, -0.8789],\n",
       "                      [ 1.2311,  1.0460, -0.3037, -0.9040],\n",
       "                      [-0.4750, -1.2156, -0.5794,  2.0314],\n",
       "                      [ 1.2313,  0.2176,  0.9506, -0.8789],\n",
       "                      [ 1.2311,  1.0460, -0.3037, -0.9040],\n",
       "                      [-0.4750, -1.2156, -0.5794,  2.0314],\n",
       "                      [ 1.2313,  0.2176,  0.9506, -0.8789],\n",
       "                      [ 1.2311,  1.0460, -0.3037, -0.9040],\n",
       "                      [-0.4750, -1.2156, -0.5794,  2.0314],\n",
       "                      [ 1.2313,  0.2176,  0.9506, -0.8789],\n",
       "                      [ 1.2311,  1.0460, -0.3037, -0.9040]]),\n",
       "       ),\n",
       "    a: tensor([[0.6993, 0.6600, 0.6244],\n",
       "               [1.2887, 1.0908, 1.2011],\n",
       "               [0.6993, 0.6600, 0.6244],\n",
       "               [1.2887, 1.0908, 1.2011],\n",
       "               [0.6993, 0.6600, 0.6244],\n",
       "               [1.2887, 1.0908, 1.2011],\n",
       "               [0.6993, 0.6600, 0.6244],\n",
       "               [1.2887, 1.0908, 1.2011],\n",
       "               [0.6993, 0.6600, 0.6244],\n",
       "               [1.2887, 1.0908, 1.2011],\n",
       "               [0.6993, 0.6600, 0.6244],\n",
       "               [1.2887, 1.0908, 1.2011],\n",
       "               [0.6993, 0.6600, 0.6244],\n",
       "               [1.2887, 1.0908, 1.2011],\n",
       "               [0.6993, 0.6600, 0.6244],\n",
       "               [1.2887, 1.0908, 1.2011]]),\n",
       ")"
      ]
     },
     "execution_count": 27,
     "metadata": {},
     "output_type": "execute_result"
    }
   ],
   "source": [
    "Batch.cat(batches)"
   ]
  },
  {
   "cell_type": "code",
   "execution_count": 28,
   "id": "18dfb045",
   "metadata": {
    "execution": {
     "iopub.execute_input": "2023-02-27T10:54:25.475101Z",
     "iopub.status.busy": "2023-02-27T10:54:25.474558Z",
     "iopub.status.idle": "2023-02-27T10:54:37.149128Z",
     "shell.execute_reply": "2023-02-27T10:54:37.148216Z"
    }
   },
   "outputs": [
    {
     "name": "stdout",
     "output_type": "stream",
     "text": [
      "144 µs ± 512 ns per loop (mean ± std. dev. of 7 runs, 10,000 loops each)\n"
     ]
    }
   ],
   "source": [
    "%timeit Batch.cat(batches)"
   ]
  },
  {
   "cell_type": "code",
   "execution_count": 29,
   "id": "c6688e51",
   "metadata": {
    "execution": {
     "iopub.execute_input": "2023-02-27T10:54:37.152647Z",
     "iopub.status.busy": "2023-02-27T10:54:37.152195Z",
     "iopub.status.idle": "2023-02-27T10:54:39.838467Z",
     "shell.execute_reply": "2023-02-27T10:54:39.837820Z"
    }
   },
   "outputs": [
    {
     "name": "stdout",
     "output_type": "stream",
     "text": [
      "330 µs ± 4.77 µs per loop (mean ± std. dev. of 7 runs, 1,000 loops each)\n"
     ]
    }
   ],
   "source": [
    "batch = Batch({\n",
    "    'obs': torch.randn(8, 4, 84, 84),\n",
    "    'action': torch.randint(0, 6, size=(8, 1,)),\n",
    "    'reward': torch.rand(8, 1)}\n",
    ")\n",
    "\n",
    "%timeit list(Batch.split(batch, 1, shuffle=False, merge_last=True))"
   ]
  },
  {
   "cell_type": "code",
   "execution_count": null,
   "id": "2539fbd9",
   "metadata": {},
   "outputs": [],
   "source": []
  }
 ],
 "metadata": {
  "kernelspec": {
   "display_name": "Python 3 (ipykernel)",
   "language": "python",
   "name": "python3"
  },
  "language_info": {
   "codemirror_mode": {
    "name": "ipython",
    "version": 3
   },
   "file_extension": ".py",
   "mimetype": "text/x-python",
   "name": "python",
   "nbconvert_exporter": "python",
   "pygments_lexer": "ipython3",
   "version": "3.8.16"
  }
 },
 "nbformat": 4,
 "nbformat_minor": 5
}
