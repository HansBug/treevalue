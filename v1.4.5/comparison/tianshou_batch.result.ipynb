{
 "cells": [
  {
   "cell_type": "markdown",
   "id": "9d39d946",
   "metadata": {},
   "source": [
    "# Comparison Between TreeValue and Tianshou Batch"
   ]
  },
  {
   "cell_type": "markdown",
   "id": "3c6db2d4",
   "metadata": {},
   "source": [
    "In this section, we will take a look at the feature and performance of the [Tianshou Batch](https://github.com/thu-ml/tianshou) library, which is developed by Tsinghua Machine Learning Group."
   ]
  },
  {
   "cell_type": "markdown",
   "id": "069361b0",
   "metadata": {},
   "source": [
    "Before starting the comparison, let us define some thing."
   ]
  },
  {
   "cell_type": "code",
   "execution_count": 1,
   "id": "06fc8d26",
   "metadata": {
    "execution": {
     "iopub.execute_input": "2023-08-14T06:29:47.115423Z",
     "iopub.status.busy": "2023-08-14T06:29:47.114969Z",
     "iopub.status.idle": "2023-08-14T06:29:48.488657Z",
     "shell.execute_reply": "2023-08-14T06:29:48.487867Z"
    }
   },
   "outputs": [],
   "source": [
    "import torch \n",
    "\n",
    "_TREE_DATA_1 = {'a': 1, 'b': 2, 'x': {'c': 3, 'd': 4}}\n",
    "_TREE_DATA_2 = {\n",
    "    'a': torch.randn(2, 3), \n",
    "    'x': {\n",
    "        'c': torch.randn(3, 4)\n",
    "    },\n",
    "}\n",
    "_TREE_DATA_3 = {\n",
    "    'obs': torch.randn(4, 84, 84),\n",
    "    'action': torch.randint(0, 6, size=(1,)),\n",
    "    'reward': torch.rand(1),\n",
    "}"
   ]
  },
  {
   "cell_type": "markdown",
   "id": "83461b25",
   "metadata": {},
   "source": [
    "## Read and Write Operation"
   ]
  },
  {
   "cell_type": "markdown",
   "id": "067b3f73",
   "metadata": {},
   "source": [
    "Reading and writing are the two most common operations in the tree data structure based on the data model (TreeValue and Tianshou Batch both belong to this type), so this section will compare the reading and writing performance of these two libraries."
   ]
  },
  {
   "cell_type": "markdown",
   "id": "5d09a5b7",
   "metadata": {},
   "source": [
    "### TreeValue's Get and Set"
   ]
  },
  {
   "cell_type": "code",
   "execution_count": 2,
   "id": "9519c4bb",
   "metadata": {
    "execution": {
     "iopub.execute_input": "2023-08-14T06:29:48.493117Z",
     "iopub.status.busy": "2023-08-14T06:29:48.492548Z",
     "iopub.status.idle": "2023-08-14T06:29:48.521952Z",
     "shell.execute_reply": "2023-08-14T06:29:48.521230Z"
    }
   },
   "outputs": [],
   "source": [
    "from treevalue import FastTreeValue\n",
    "\n",
    "t = FastTreeValue(_TREE_DATA_2)"
   ]
  },
  {
   "cell_type": "code",
   "execution_count": 3,
   "id": "11c37677",
   "metadata": {
    "execution": {
     "iopub.execute_input": "2023-08-14T06:29:48.525850Z",
     "iopub.status.busy": "2023-08-14T06:29:48.525355Z",
     "iopub.status.idle": "2023-08-14T06:29:48.534483Z",
     "shell.execute_reply": "2023-08-14T06:29:48.533790Z"
    }
   },
   "outputs": [
    {
     "data": {
      "text/plain": [
       "<FastTreeValue 0x7f49fdc3a580>\n",
       "├── 'a' --> tensor([[-0.8848,  0.5760, -0.4321],\n",
       "│                   [ 0.0136,  1.0800, -0.9075]])\n",
       "└── 'x' --> <FastTreeValue 0x7f49fdc3adc0>\n",
       "    └── 'c' --> tensor([[ 0.6837, -0.5424, -0.1344, -0.0606],\n",
       "                        [ 1.0536,  0.3099,  0.4940,  0.7020],\n",
       "                        [-0.7743,  0.8106,  0.5798,  0.5455]])"
      ]
     },
     "execution_count": 3,
     "metadata": {},
     "output_type": "execute_result"
    }
   ],
   "source": [
    "t"
   ]
  },
  {
   "cell_type": "code",
   "execution_count": 4,
   "id": "fd70b0b9",
   "metadata": {
    "execution": {
     "iopub.execute_input": "2023-08-14T06:29:48.539232Z",
     "iopub.status.busy": "2023-08-14T06:29:48.538669Z",
     "iopub.status.idle": "2023-08-14T06:29:48.544553Z",
     "shell.execute_reply": "2023-08-14T06:29:48.543859Z"
    }
   },
   "outputs": [
    {
     "data": {
      "text/plain": [
       "tensor([[-0.8848,  0.5760, -0.4321],\n",
       "        [ 0.0136,  1.0800, -0.9075]])"
      ]
     },
     "execution_count": 4,
     "metadata": {},
     "output_type": "execute_result"
    }
   ],
   "source": [
    "t.a"
   ]
  },
  {
   "cell_type": "code",
   "execution_count": 5,
   "id": "c18197bd",
   "metadata": {
    "execution": {
     "iopub.execute_input": "2023-08-14T06:29:48.547751Z",
     "iopub.status.busy": "2023-08-14T06:29:48.547116Z",
     "iopub.status.idle": "2023-08-14T06:29:54.573261Z",
     "shell.execute_reply": "2023-08-14T06:29:54.571777Z"
    }
   },
   "outputs": [
    {
     "name": "stdout",
     "output_type": "stream",
     "text": [
      "74.2 ns ± 0.0709 ns per loop (mean ± std. dev. of 7 runs, 10,000,000 loops each)\n"
     ]
    }
   ],
   "source": [
    "%timeit t.a"
   ]
  },
  {
   "cell_type": "code",
   "execution_count": 6,
   "id": "bd52f867",
   "metadata": {
    "execution": {
     "iopub.execute_input": "2023-08-14T06:29:54.577125Z",
     "iopub.status.busy": "2023-08-14T06:29:54.576612Z",
     "iopub.status.idle": "2023-08-14T06:29:54.589872Z",
     "shell.execute_reply": "2023-08-14T06:29:54.589168Z"
    }
   },
   "outputs": [
    {
     "data": {
      "text/plain": [
       "<FastTreeValue 0x7f49fdc3a580>\n",
       "├── 'a' --> tensor([[ 1.3276,  0.2370, -2.5357],\n",
       "│                   [-0.0716, -0.8963, -1.1157]])\n",
       "└── 'x' --> <FastTreeValue 0x7f49fdc3adc0>\n",
       "    └── 'c' --> tensor([[ 0.6837, -0.5424, -0.1344, -0.0606],\n",
       "                        [ 1.0536,  0.3099,  0.4940,  0.7020],\n",
       "                        [-0.7743,  0.8106,  0.5798,  0.5455]])"
      ]
     },
     "execution_count": 6,
     "metadata": {},
     "output_type": "execute_result"
    }
   ],
   "source": [
    "new_value = torch.randn(2, 3)\n",
    "t.a = new_value\n",
    "\n",
    "t"
   ]
  },
  {
   "cell_type": "code",
   "execution_count": 7,
   "id": "bbe04d1c",
   "metadata": {
    "execution": {
     "iopub.execute_input": "2023-08-14T06:29:54.593100Z",
     "iopub.status.busy": "2023-08-14T06:29:54.592660Z",
     "iopub.status.idle": "2023-08-14T06:30:00.742587Z",
     "shell.execute_reply": "2023-08-14T06:30:00.741857Z"
    }
   },
   "outputs": [
    {
     "name": "stdout",
     "output_type": "stream",
     "text": [
      "75.7 ns ± 0.0643 ns per loop (mean ± std. dev. of 7 runs, 10,000,000 loops each)\n"
     ]
    }
   ],
   "source": [
    "%timeit t.a = new_value"
   ]
  },
  {
   "cell_type": "markdown",
   "id": "48c49731",
   "metadata": {},
   "source": [
    "### Tianshou Batch's Get and Set"
   ]
  },
  {
   "cell_type": "code",
   "execution_count": 8,
   "id": "f1bb14c1",
   "metadata": {
    "execution": {
     "iopub.execute_input": "2023-08-14T06:30:00.746321Z",
     "iopub.status.busy": "2023-08-14T06:30:00.745804Z",
     "iopub.status.idle": "2023-08-14T06:30:01.128526Z",
     "shell.execute_reply": "2023-08-14T06:30:01.127766Z"
    }
   },
   "outputs": [],
   "source": [
    "from tianshou.data import Batch\n",
    "\n",
    "b = Batch(**_TREE_DATA_2)"
   ]
  },
  {
   "cell_type": "code",
   "execution_count": 9,
   "id": "cb0777c3",
   "metadata": {
    "execution": {
     "iopub.execute_input": "2023-08-14T06:30:01.132733Z",
     "iopub.status.busy": "2023-08-14T06:30:01.132225Z",
     "iopub.status.idle": "2023-08-14T06:30:01.138245Z",
     "shell.execute_reply": "2023-08-14T06:30:01.137520Z"
    }
   },
   "outputs": [
    {
     "data": {
      "text/plain": [
       "Batch(\n",
       "    a: tensor([[-0.8848,  0.5760, -0.4321],\n",
       "               [ 0.0136,  1.0800, -0.9075]]),\n",
       "    x: Batch(\n",
       "           c: tensor([[ 0.6837, -0.5424, -0.1344, -0.0606],\n",
       "                      [ 1.0536,  0.3099,  0.4940,  0.7020],\n",
       "                      [-0.7743,  0.8106,  0.5798,  0.5455]]),\n",
       "       ),\n",
       ")"
      ]
     },
     "execution_count": 9,
     "metadata": {},
     "output_type": "execute_result"
    }
   ],
   "source": [
    "b"
   ]
  },
  {
   "cell_type": "code",
   "execution_count": 10,
   "id": "43ef8ea3",
   "metadata": {
    "execution": {
     "iopub.execute_input": "2023-08-14T06:30:01.141444Z",
     "iopub.status.busy": "2023-08-14T06:30:01.141001Z",
     "iopub.status.idle": "2023-08-14T06:30:01.145954Z",
     "shell.execute_reply": "2023-08-14T06:30:01.145261Z"
    }
   },
   "outputs": [
    {
     "data": {
      "text/plain": [
       "tensor([[-0.8848,  0.5760, -0.4321],\n",
       "        [ 0.0136,  1.0800, -0.9075]])"
      ]
     },
     "execution_count": 10,
     "metadata": {},
     "output_type": "execute_result"
    }
   ],
   "source": [
    "b.a"
   ]
  },
  {
   "cell_type": "code",
   "execution_count": 11,
   "id": "b785ab72",
   "metadata": {
    "execution": {
     "iopub.execute_input": "2023-08-14T06:30:01.149550Z",
     "iopub.status.busy": "2023-08-14T06:30:01.149024Z",
     "iopub.status.idle": "2023-08-14T06:30:06.410130Z",
     "shell.execute_reply": "2023-08-14T06:30:06.409380Z"
    }
   },
   "outputs": [
    {
     "name": "stdout",
     "output_type": "stream",
     "text": [
      "64.7 ns ± 0.172 ns per loop (mean ± std. dev. of 7 runs, 10,000,000 loops each)\n"
     ]
    }
   ],
   "source": [
    "%timeit b.a"
   ]
  },
  {
   "cell_type": "code",
   "execution_count": 12,
   "id": "ad54dc69",
   "metadata": {
    "execution": {
     "iopub.execute_input": "2023-08-14T06:30:06.413631Z",
     "iopub.status.busy": "2023-08-14T06:30:06.413119Z",
     "iopub.status.idle": "2023-08-14T06:30:06.419544Z",
     "shell.execute_reply": "2023-08-14T06:30:06.418818Z"
    }
   },
   "outputs": [
    {
     "data": {
      "text/plain": [
       "Batch(\n",
       "    a: tensor([[-2.7629, -0.7736, -0.3347],\n",
       "               [-0.2208, -0.2554,  0.3909]]),\n",
       "    x: Batch(\n",
       "           c: tensor([[ 0.6837, -0.5424, -0.1344, -0.0606],\n",
       "                      [ 1.0536,  0.3099,  0.4940,  0.7020],\n",
       "                      [-0.7743,  0.8106,  0.5798,  0.5455]]),\n",
       "       ),\n",
       ")"
      ]
     },
     "execution_count": 12,
     "metadata": {},
     "output_type": "execute_result"
    }
   ],
   "source": [
    "new_value = torch.randn(2, 3)\n",
    "b.a = new_value\n",
    "\n",
    "b"
   ]
  },
  {
   "cell_type": "code",
   "execution_count": 13,
   "id": "29b1d0bf",
   "metadata": {
    "execution": {
     "iopub.execute_input": "2023-08-14T06:30:06.422653Z",
     "iopub.status.busy": "2023-08-14T06:30:06.422277Z",
     "iopub.status.idle": "2023-08-14T06:30:10.833570Z",
     "shell.execute_reply": "2023-08-14T06:30:10.832849Z"
    }
   },
   "outputs": [
    {
     "name": "stdout",
     "output_type": "stream",
     "text": [
      "542 ns ± 0.313 ns per loop (mean ± std. dev. of 7 runs, 1,000,000 loops each)\n"
     ]
    }
   ],
   "source": [
    "%timeit b.a = new_value"
   ]
  },
  {
   "cell_type": "markdown",
   "id": "b61ad1d0",
   "metadata": {},
   "source": [
    "## Initialization"
   ]
  },
  {
   "cell_type": "markdown",
   "id": "d70f0d54",
   "metadata": {},
   "source": [
    "### TreeValue's Initialization"
   ]
  },
  {
   "cell_type": "code",
   "execution_count": 14,
   "id": "d32a679b",
   "metadata": {
    "execution": {
     "iopub.execute_input": "2023-08-14T06:30:10.837368Z",
     "iopub.status.busy": "2023-08-14T06:30:10.836804Z",
     "iopub.status.idle": "2023-08-14T06:30:18.171770Z",
     "shell.execute_reply": "2023-08-14T06:30:18.171024Z"
    }
   },
   "outputs": [
    {
     "name": "stdout",
     "output_type": "stream",
     "text": [
      "903 ns ± 3.47 ns per loop (mean ± std. dev. of 7 runs, 1,000,000 loops each)\n"
     ]
    }
   ],
   "source": [
    "%timeit FastTreeValue(_TREE_DATA_1)"
   ]
  },
  {
   "cell_type": "markdown",
   "id": "24f3707b",
   "metadata": {},
   "source": [
    "### Tianshou Batch's Initialization"
   ]
  },
  {
   "cell_type": "code",
   "execution_count": 15,
   "id": "ac3958df",
   "metadata": {
    "execution": {
     "iopub.execute_input": "2023-08-14T06:30:18.175510Z",
     "iopub.status.busy": "2023-08-14T06:30:18.174865Z",
     "iopub.status.idle": "2023-08-14T06:30:27.352926Z",
     "shell.execute_reply": "2023-08-14T06:30:27.352251Z"
    }
   },
   "outputs": [
    {
     "name": "stdout",
     "output_type": "stream",
     "text": [
      "11.3 µs ± 32 ns per loop (mean ± std. dev. of 7 runs, 100,000 loops each)\n"
     ]
    }
   ],
   "source": [
    "%timeit Batch(**_TREE_DATA_1)"
   ]
  },
  {
   "cell_type": "markdown",
   "id": "1ab82e2d",
   "metadata": {},
   "source": [
    "## Deep Copy Operation"
   ]
  },
  {
   "cell_type": "code",
   "execution_count": 16,
   "id": "210a9442",
   "metadata": {
    "execution": {
     "iopub.execute_input": "2023-08-14T06:30:27.356481Z",
     "iopub.status.busy": "2023-08-14T06:30:27.355973Z",
     "iopub.status.idle": "2023-08-14T06:30:27.359452Z",
     "shell.execute_reply": "2023-08-14T06:30:27.358635Z"
    }
   },
   "outputs": [],
   "source": [
    "import copy"
   ]
  },
  {
   "cell_type": "markdown",
   "id": "5a736274",
   "metadata": {},
   "source": [
    "### Deep Copy of TreeValue"
   ]
  },
  {
   "cell_type": "code",
   "execution_count": 17,
   "id": "f9bcadd6",
   "metadata": {
    "execution": {
     "iopub.execute_input": "2023-08-14T06:30:27.362575Z",
     "iopub.status.busy": "2023-08-14T06:30:27.362121Z",
     "iopub.status.idle": "2023-08-14T06:30:39.085783Z",
     "shell.execute_reply": "2023-08-14T06:30:39.084997Z"
    }
   },
   "outputs": [
    {
     "name": "stdout",
     "output_type": "stream",
     "text": [
      "145 µs ± 1.86 µs per loop (mean ± std. dev. of 7 runs, 10,000 loops each)\n"
     ]
    }
   ],
   "source": [
    "t3 = FastTreeValue(_TREE_DATA_3)\n",
    "%timeit copy.deepcopy(t3)"
   ]
  },
  {
   "cell_type": "markdown",
   "id": "bf8be7ea",
   "metadata": {},
   "source": [
    "### Deep Copy of Tianshou Batch"
   ]
  },
  {
   "cell_type": "code",
   "execution_count": 18,
   "id": "91998e6f",
   "metadata": {
    "execution": {
     "iopub.execute_input": "2023-08-14T06:30:39.089378Z",
     "iopub.status.busy": "2023-08-14T06:30:39.088805Z",
     "iopub.status.idle": "2023-08-14T06:30:50.800010Z",
     "shell.execute_reply": "2023-08-14T06:30:50.799198Z"
    }
   },
   "outputs": [
    {
     "name": "stdout",
     "output_type": "stream",
     "text": [
      "144 µs ± 739 ns per loop (mean ± std. dev. of 7 runs, 10,000 loops each)\n"
     ]
    }
   ],
   "source": [
    "b3 = Batch(**_TREE_DATA_3)\n",
    "%timeit copy.deepcopy(b3)"
   ]
  },
  {
   "cell_type": "markdown",
   "id": "223162fb",
   "metadata": {},
   "source": [
    "## Stack, Concat and Split Operation"
   ]
  },
  {
   "cell_type": "markdown",
   "id": "85fa4a73",
   "metadata": {},
   "source": [
    "### Performance of TreeValue"
   ]
  },
  {
   "cell_type": "code",
   "execution_count": 19,
   "id": "a0c2b697",
   "metadata": {
    "execution": {
     "iopub.execute_input": "2023-08-14T06:30:50.804073Z",
     "iopub.status.busy": "2023-08-14T06:30:50.803602Z",
     "iopub.status.idle": "2023-08-14T06:30:50.807307Z",
     "shell.execute_reply": "2023-08-14T06:30:50.806579Z"
    }
   },
   "outputs": [],
   "source": [
    "trees = [FastTreeValue(_TREE_DATA_2) for _ in range(8)]"
   ]
  },
  {
   "cell_type": "code",
   "execution_count": 20,
   "id": "017ea5a5",
   "metadata": {
    "execution": {
     "iopub.execute_input": "2023-08-14T06:30:50.810307Z",
     "iopub.status.busy": "2023-08-14T06:30:50.809940Z",
     "iopub.status.idle": "2023-08-14T06:30:50.818659Z",
     "shell.execute_reply": "2023-08-14T06:30:50.818051Z"
    }
   },
   "outputs": [
    {
     "data": {
      "text/plain": [
       "<FastTreeValue 0x7f492ddb3e80>\n",
       "├── 'a' --> tensor([[[-0.8848,  0.5760, -0.4321],\n",
       "│                    [ 0.0136,  1.0800, -0.9075]],\n",
       "│           \n",
       "│                   [[-0.8848,  0.5760, -0.4321],\n",
       "│                    [ 0.0136,  1.0800, -0.9075]],\n",
       "│           \n",
       "│                   [[-0.8848,  0.5760, -0.4321],\n",
       "│                    [ 0.0136,  1.0800, -0.9075]],\n",
       "│           \n",
       "│                   [[-0.8848,  0.5760, -0.4321],\n",
       "│                    [ 0.0136,  1.0800, -0.9075]],\n",
       "│           \n",
       "│                   [[-0.8848,  0.5760, -0.4321],\n",
       "│                    [ 0.0136,  1.0800, -0.9075]],\n",
       "│           \n",
       "│                   [[-0.8848,  0.5760, -0.4321],\n",
       "│                    [ 0.0136,  1.0800, -0.9075]],\n",
       "│           \n",
       "│                   [[-0.8848,  0.5760, -0.4321],\n",
       "│                    [ 0.0136,  1.0800, -0.9075]],\n",
       "│           \n",
       "│                   [[-0.8848,  0.5760, -0.4321],\n",
       "│                    [ 0.0136,  1.0800, -0.9075]]])\n",
       "└── 'x' --> <FastTreeValue 0x7f49f8ba6fd0>\n",
       "    └── 'c' --> tensor([[[ 0.6837, -0.5424, -0.1344, -0.0606],\n",
       "                         [ 1.0536,  0.3099,  0.4940,  0.7020],\n",
       "                         [-0.7743,  0.8106,  0.5798,  0.5455]],\n",
       "                \n",
       "                        [[ 0.6837, -0.5424, -0.1344, -0.0606],\n",
       "                         [ 1.0536,  0.3099,  0.4940,  0.7020],\n",
       "                         [-0.7743,  0.8106,  0.5798,  0.5455]],\n",
       "                \n",
       "                        [[ 0.6837, -0.5424, -0.1344, -0.0606],\n",
       "                         [ 1.0536,  0.3099,  0.4940,  0.7020],\n",
       "                         [-0.7743,  0.8106,  0.5798,  0.5455]],\n",
       "                \n",
       "                        [[ 0.6837, -0.5424, -0.1344, -0.0606],\n",
       "                         [ 1.0536,  0.3099,  0.4940,  0.7020],\n",
       "                         [-0.7743,  0.8106,  0.5798,  0.5455]],\n",
       "                \n",
       "                        [[ 0.6837, -0.5424, -0.1344, -0.0606],\n",
       "                         [ 1.0536,  0.3099,  0.4940,  0.7020],\n",
       "                         [-0.7743,  0.8106,  0.5798,  0.5455]],\n",
       "                \n",
       "                        [[ 0.6837, -0.5424, -0.1344, -0.0606],\n",
       "                         [ 1.0536,  0.3099,  0.4940,  0.7020],\n",
       "                         [-0.7743,  0.8106,  0.5798,  0.5455]],\n",
       "                \n",
       "                        [[ 0.6837, -0.5424, -0.1344, -0.0606],\n",
       "                         [ 1.0536,  0.3099,  0.4940,  0.7020],\n",
       "                         [-0.7743,  0.8106,  0.5798,  0.5455]],\n",
       "                \n",
       "                        [[ 0.6837, -0.5424, -0.1344, -0.0606],\n",
       "                         [ 1.0536,  0.3099,  0.4940,  0.7020],\n",
       "                         [-0.7743,  0.8106,  0.5798,  0.5455]]])"
      ]
     },
     "execution_count": 20,
     "metadata": {},
     "output_type": "execute_result"
    }
   ],
   "source": [
    "t_stack = FastTreeValue.func(subside=True)(torch.stack)\n",
    "\n",
    "t_stack(trees)"
   ]
  },
  {
   "cell_type": "code",
   "execution_count": 21,
   "id": "f8b3f415",
   "metadata": {
    "execution": {
     "iopub.execute_input": "2023-08-14T06:30:50.821678Z",
     "iopub.status.busy": "2023-08-14T06:30:50.821243Z",
     "iopub.status.idle": "2023-08-14T06:30:53.527371Z",
     "shell.execute_reply": "2023-08-14T06:30:53.526617Z"
    }
   },
   "outputs": [
    {
     "name": "stdout",
     "output_type": "stream",
     "text": [
      "33.3 µs ± 40.2 ns per loop (mean ± std. dev. of 7 runs, 10,000 loops each)\n"
     ]
    }
   ],
   "source": [
    "%timeit t_stack(trees)"
   ]
  },
  {
   "cell_type": "code",
   "execution_count": 22,
   "id": "94b56771",
   "metadata": {
    "execution": {
     "iopub.execute_input": "2023-08-14T06:30:53.530771Z",
     "iopub.status.busy": "2023-08-14T06:30:53.530332Z",
     "iopub.status.idle": "2023-08-14T06:30:53.538529Z",
     "shell.execute_reply": "2023-08-14T06:30:53.537811Z"
    }
   },
   "outputs": [
    {
     "data": {
      "text/plain": [
       "<FastTreeValue 0x7f49fdc52b80>\n",
       "├── 'a' --> tensor([[-0.8848,  0.5760, -0.4321],\n",
       "│                   [ 0.0136,  1.0800, -0.9075],\n",
       "│                   [-0.8848,  0.5760, -0.4321],\n",
       "│                   [ 0.0136,  1.0800, -0.9075],\n",
       "│                   [-0.8848,  0.5760, -0.4321],\n",
       "│                   [ 0.0136,  1.0800, -0.9075],\n",
       "│                   [-0.8848,  0.5760, -0.4321],\n",
       "│                   [ 0.0136,  1.0800, -0.9075],\n",
       "│                   [-0.8848,  0.5760, -0.4321],\n",
       "│                   [ 0.0136,  1.0800, -0.9075],\n",
       "│                   [-0.8848,  0.5760, -0.4321],\n",
       "│                   [ 0.0136,  1.0800, -0.9075],\n",
       "│                   [-0.8848,  0.5760, -0.4321],\n",
       "│                   [ 0.0136,  1.0800, -0.9075],\n",
       "│                   [-0.8848,  0.5760, -0.4321],\n",
       "│                   [ 0.0136,  1.0800, -0.9075]])\n",
       "└── 'x' --> <FastTreeValue 0x7f4935f41c70>\n",
       "    └── 'c' --> tensor([[ 0.6837, -0.5424, -0.1344, -0.0606],\n",
       "                        [ 1.0536,  0.3099,  0.4940,  0.7020],\n",
       "                        [-0.7743,  0.8106,  0.5798,  0.5455],\n",
       "                        [ 0.6837, -0.5424, -0.1344, -0.0606],\n",
       "                        [ 1.0536,  0.3099,  0.4940,  0.7020],\n",
       "                        [-0.7743,  0.8106,  0.5798,  0.5455],\n",
       "                        [ 0.6837, -0.5424, -0.1344, -0.0606],\n",
       "                        [ 1.0536,  0.3099,  0.4940,  0.7020],\n",
       "                        [-0.7743,  0.8106,  0.5798,  0.5455],\n",
       "                        [ 0.6837, -0.5424, -0.1344, -0.0606],\n",
       "                        [ 1.0536,  0.3099,  0.4940,  0.7020],\n",
       "                        [-0.7743,  0.8106,  0.5798,  0.5455],\n",
       "                        [ 0.6837, -0.5424, -0.1344, -0.0606],\n",
       "                        [ 1.0536,  0.3099,  0.4940,  0.7020],\n",
       "                        [-0.7743,  0.8106,  0.5798,  0.5455],\n",
       "                        [ 0.6837, -0.5424, -0.1344, -0.0606],\n",
       "                        [ 1.0536,  0.3099,  0.4940,  0.7020],\n",
       "                        [-0.7743,  0.8106,  0.5798,  0.5455],\n",
       "                        [ 0.6837, -0.5424, -0.1344, -0.0606],\n",
       "                        [ 1.0536,  0.3099,  0.4940,  0.7020],\n",
       "                        [-0.7743,  0.8106,  0.5798,  0.5455],\n",
       "                        [ 0.6837, -0.5424, -0.1344, -0.0606],\n",
       "                        [ 1.0536,  0.3099,  0.4940,  0.7020],\n",
       "                        [-0.7743,  0.8106,  0.5798,  0.5455]])"
      ]
     },
     "execution_count": 22,
     "metadata": {},
     "output_type": "execute_result"
    }
   ],
   "source": [
    "t_cat = FastTreeValue.func(subside=True)(torch.cat)\n",
    "\n",
    "t_cat(trees)"
   ]
  },
  {
   "cell_type": "code",
   "execution_count": 23,
   "id": "5e9c06a6",
   "metadata": {
    "execution": {
     "iopub.execute_input": "2023-08-14T06:30:53.541760Z",
     "iopub.status.busy": "2023-08-14T06:30:53.541212Z",
     "iopub.status.idle": "2023-08-14T06:30:56.065601Z",
     "shell.execute_reply": "2023-08-14T06:30:56.064086Z"
    }
   },
   "outputs": [
    {
     "name": "stdout",
     "output_type": "stream",
     "text": [
      "31 µs ± 34.2 ns per loop (mean ± std. dev. of 7 runs, 10,000 loops each)\n"
     ]
    }
   ],
   "source": [
    "%timeit t_cat(trees)"
   ]
  },
  {
   "cell_type": "code",
   "execution_count": 24,
   "id": "a3ab5c8f",
   "metadata": {
    "execution": {
     "iopub.execute_input": "2023-08-14T06:30:56.069233Z",
     "iopub.status.busy": "2023-08-14T06:30:56.068812Z",
     "iopub.status.idle": "2023-08-14T06:31:01.563642Z",
     "shell.execute_reply": "2023-08-14T06:31:01.562886Z"
    }
   },
   "outputs": [
    {
     "name": "stdout",
     "output_type": "stream",
     "text": [
      "67.6 µs ± 111 ns per loop (mean ± std. dev. of 7 runs, 10,000 loops each)\n"
     ]
    }
   ],
   "source": [
    "t_split = FastTreeValue.func(rise=True)(torch.split)\n",
    "tree = FastTreeValue({\n",
    "    'obs': torch.randn(8, 4, 84, 84),\n",
    "    'action': torch.randint(0, 6, size=(8, 1,)),\n",
    "    'reward': torch.rand(8, 1),\n",
    "})\n",
    "\n",
    "%timeit t_split(tree, 1)"
   ]
  },
  {
   "cell_type": "markdown",
   "id": "31c3ec0b",
   "metadata": {},
   "source": [
    "### Performance of Tianshou Batch"
   ]
  },
  {
   "cell_type": "code",
   "execution_count": 25,
   "id": "9ead828a",
   "metadata": {
    "execution": {
     "iopub.execute_input": "2023-08-14T06:31:01.567505Z",
     "iopub.status.busy": "2023-08-14T06:31:01.566834Z",
     "iopub.status.idle": "2023-08-14T06:31:01.577355Z",
     "shell.execute_reply": "2023-08-14T06:31:01.576722Z"
    }
   },
   "outputs": [
    {
     "data": {
      "text/plain": [
       "Batch(\n",
       "    a: tensor([[[-0.8848,  0.5760, -0.4321],\n",
       "                [ 0.0136,  1.0800, -0.9075]],\n",
       "       \n",
       "               [[-0.8848,  0.5760, -0.4321],\n",
       "                [ 0.0136,  1.0800, -0.9075]],\n",
       "       \n",
       "               [[-0.8848,  0.5760, -0.4321],\n",
       "                [ 0.0136,  1.0800, -0.9075]],\n",
       "       \n",
       "               [[-0.8848,  0.5760, -0.4321],\n",
       "                [ 0.0136,  1.0800, -0.9075]],\n",
       "       \n",
       "               [[-0.8848,  0.5760, -0.4321],\n",
       "                [ 0.0136,  1.0800, -0.9075]],\n",
       "       \n",
       "               [[-0.8848,  0.5760, -0.4321],\n",
       "                [ 0.0136,  1.0800, -0.9075]],\n",
       "       \n",
       "               [[-0.8848,  0.5760, -0.4321],\n",
       "                [ 0.0136,  1.0800, -0.9075]],\n",
       "       \n",
       "               [[-0.8848,  0.5760, -0.4321],\n",
       "                [ 0.0136,  1.0800, -0.9075]]]),\n",
       "    x: Batch(\n",
       "           c: tensor([[[ 0.6837, -0.5424, -0.1344, -0.0606],\n",
       "                       [ 1.0536,  0.3099,  0.4940,  0.7020],\n",
       "                       [-0.7743,  0.8106,  0.5798,  0.5455]],\n",
       "              \n",
       "                      [[ 0.6837, -0.5424, -0.1344, -0.0606],\n",
       "                       [ 1.0536,  0.3099,  0.4940,  0.7020],\n",
       "                       [-0.7743,  0.8106,  0.5798,  0.5455]],\n",
       "              \n",
       "                      [[ 0.6837, -0.5424, -0.1344, -0.0606],\n",
       "                       [ 1.0536,  0.3099,  0.4940,  0.7020],\n",
       "                       [-0.7743,  0.8106,  0.5798,  0.5455]],\n",
       "              \n",
       "                      [[ 0.6837, -0.5424, -0.1344, -0.0606],\n",
       "                       [ 1.0536,  0.3099,  0.4940,  0.7020],\n",
       "                       [-0.7743,  0.8106,  0.5798,  0.5455]],\n",
       "              \n",
       "                      [[ 0.6837, -0.5424, -0.1344, -0.0606],\n",
       "                       [ 1.0536,  0.3099,  0.4940,  0.7020],\n",
       "                       [-0.7743,  0.8106,  0.5798,  0.5455]],\n",
       "              \n",
       "                      [[ 0.6837, -0.5424, -0.1344, -0.0606],\n",
       "                       [ 1.0536,  0.3099,  0.4940,  0.7020],\n",
       "                       [-0.7743,  0.8106,  0.5798,  0.5455]],\n",
       "              \n",
       "                      [[ 0.6837, -0.5424, -0.1344, -0.0606],\n",
       "                       [ 1.0536,  0.3099,  0.4940,  0.7020],\n",
       "                       [-0.7743,  0.8106,  0.5798,  0.5455]],\n",
       "              \n",
       "                      [[ 0.6837, -0.5424, -0.1344, -0.0606],\n",
       "                       [ 1.0536,  0.3099,  0.4940,  0.7020],\n",
       "                       [-0.7743,  0.8106,  0.5798,  0.5455]]]),\n",
       "       ),\n",
       ")"
      ]
     },
     "execution_count": 25,
     "metadata": {},
     "output_type": "execute_result"
    }
   ],
   "source": [
    "batches = [Batch(**_TREE_DATA_2) for _ in range(8)]\n",
    "\n",
    "Batch.stack(batches)"
   ]
  },
  {
   "cell_type": "code",
   "execution_count": 26,
   "id": "ec9037a3",
   "metadata": {
    "execution": {
     "iopub.execute_input": "2023-08-14T06:31:01.580916Z",
     "iopub.status.busy": "2023-08-14T06:31:01.580479Z",
     "iopub.status.idle": "2023-08-14T06:31:08.411597Z",
     "shell.execute_reply": "2023-08-14T06:31:08.410842Z"
    }
   },
   "outputs": [
    {
     "name": "stdout",
     "output_type": "stream",
     "text": [
      "84 µs ± 73.2 ns per loop (mean ± std. dev. of 7 runs, 10,000 loops each)\n"
     ]
    }
   ],
   "source": [
    "%timeit Batch.stack(batches)"
   ]
  },
  {
   "cell_type": "code",
   "execution_count": 27,
   "id": "cb8ab77e",
   "metadata": {
    "execution": {
     "iopub.execute_input": "2023-08-14T06:31:08.415057Z",
     "iopub.status.busy": "2023-08-14T06:31:08.414542Z",
     "iopub.status.idle": "2023-08-14T06:31:08.422160Z",
     "shell.execute_reply": "2023-08-14T06:31:08.421441Z"
    }
   },
   "outputs": [
    {
     "data": {
      "text/plain": [
       "Batch(\n",
       "    a: tensor([[-0.8848,  0.5760, -0.4321],\n",
       "               [ 0.0136,  1.0800, -0.9075],\n",
       "               [-0.8848,  0.5760, -0.4321],\n",
       "               [ 0.0136,  1.0800, -0.9075],\n",
       "               [-0.8848,  0.5760, -0.4321],\n",
       "               [ 0.0136,  1.0800, -0.9075],\n",
       "               [-0.8848,  0.5760, -0.4321],\n",
       "               [ 0.0136,  1.0800, -0.9075],\n",
       "               [-0.8848,  0.5760, -0.4321],\n",
       "               [ 0.0136,  1.0800, -0.9075],\n",
       "               [-0.8848,  0.5760, -0.4321],\n",
       "               [ 0.0136,  1.0800, -0.9075],\n",
       "               [-0.8848,  0.5760, -0.4321],\n",
       "               [ 0.0136,  1.0800, -0.9075],\n",
       "               [-0.8848,  0.5760, -0.4321],\n",
       "               [ 0.0136,  1.0800, -0.9075]]),\n",
       "    x: Batch(\n",
       "           c: tensor([[ 0.6837, -0.5424, -0.1344, -0.0606],\n",
       "                      [ 1.0536,  0.3099,  0.4940,  0.7020],\n",
       "                      [-0.7743,  0.8106,  0.5798,  0.5455],\n",
       "                      [ 0.6837, -0.5424, -0.1344, -0.0606],\n",
       "                      [ 1.0536,  0.3099,  0.4940,  0.7020],\n",
       "                      [-0.7743,  0.8106,  0.5798,  0.5455],\n",
       "                      [ 0.6837, -0.5424, -0.1344, -0.0606],\n",
       "                      [ 1.0536,  0.3099,  0.4940,  0.7020],\n",
       "                      [-0.7743,  0.8106,  0.5798,  0.5455],\n",
       "                      [ 0.6837, -0.5424, -0.1344, -0.0606],\n",
       "                      [ 1.0536,  0.3099,  0.4940,  0.7020],\n",
       "                      [-0.7743,  0.8106,  0.5798,  0.5455],\n",
       "                      [ 0.6837, -0.5424, -0.1344, -0.0606],\n",
       "                      [ 1.0536,  0.3099,  0.4940,  0.7020],\n",
       "                      [-0.7743,  0.8106,  0.5798,  0.5455],\n",
       "                      [ 0.6837, -0.5424, -0.1344, -0.0606],\n",
       "                      [ 1.0536,  0.3099,  0.4940,  0.7020],\n",
       "                      [-0.7743,  0.8106,  0.5798,  0.5455],\n",
       "                      [ 0.6837, -0.5424, -0.1344, -0.0606],\n",
       "                      [ 1.0536,  0.3099,  0.4940,  0.7020],\n",
       "                      [-0.7743,  0.8106,  0.5798,  0.5455],\n",
       "                      [ 0.6837, -0.5424, -0.1344, -0.0606],\n",
       "                      [ 1.0536,  0.3099,  0.4940,  0.7020],\n",
       "                      [-0.7743,  0.8106,  0.5798,  0.5455]]),\n",
       "       ),\n",
       ")"
      ]
     },
     "execution_count": 27,
     "metadata": {},
     "output_type": "execute_result"
    }
   ],
   "source": [
    "Batch.cat(batches)"
   ]
  },
  {
   "cell_type": "code",
   "execution_count": 28,
   "id": "18dfb045",
   "metadata": {
    "execution": {
     "iopub.execute_input": "2023-08-14T06:31:08.425286Z",
     "iopub.status.busy": "2023-08-14T06:31:08.424911Z",
     "iopub.status.idle": "2023-08-14T06:31:20.994235Z",
     "shell.execute_reply": "2023-08-14T06:31:20.993573Z"
    }
   },
   "outputs": [
    {
     "name": "stdout",
     "output_type": "stream",
     "text": [
      "155 µs ± 320 ns per loop (mean ± std. dev. of 7 runs, 10,000 loops each)\n"
     ]
    }
   ],
   "source": [
    "%timeit Batch.cat(batches)"
   ]
  },
  {
   "cell_type": "code",
   "execution_count": 29,
   "id": "c6688e51",
   "metadata": {
    "execution": {
     "iopub.execute_input": "2023-08-14T06:31:20.997590Z",
     "iopub.status.busy": "2023-08-14T06:31:20.997104Z",
     "iopub.status.idle": "2023-08-14T06:31:23.861189Z",
     "shell.execute_reply": "2023-08-14T06:31:23.860516Z"
    }
   },
   "outputs": [
    {
     "name": "stdout",
     "output_type": "stream",
     "text": [
      "352 µs ± 6.46 µs per loop (mean ± std. dev. of 7 runs, 1,000 loops each)\n"
     ]
    }
   ],
   "source": [
    "batch = Batch({\n",
    "    'obs': torch.randn(8, 4, 84, 84),\n",
    "    'action': torch.randint(0, 6, size=(8, 1,)),\n",
    "    'reward': torch.rand(8, 1)}\n",
    ")\n",
    "\n",
    "%timeit list(Batch.split(batch, 1, shuffle=False, merge_last=True))"
   ]
  },
  {
   "cell_type": "code",
   "execution_count": null,
   "id": "2539fbd9",
   "metadata": {},
   "outputs": [],
   "source": []
  }
 ],
 "metadata": {
  "kernelspec": {
   "display_name": "Python 3 (ipykernel)",
   "language": "python",
   "name": "python3"
  },
  "language_info": {
   "codemirror_mode": {
    "name": "ipython",
    "version": 3
   },
   "file_extension": ".py",
   "mimetype": "text/x-python",
   "name": "python",
   "nbconvert_exporter": "python",
   "pygments_lexer": "ipython3",
   "version": "3.8.17"
  }
 },
 "nbformat": 4,
 "nbformat_minor": 5
}
