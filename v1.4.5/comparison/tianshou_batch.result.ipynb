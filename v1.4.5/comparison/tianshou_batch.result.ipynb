{
 "cells": [
  {
   "cell_type": "markdown",
   "id": "9d39d946",
   "metadata": {},
   "source": [
    "# Comparison Between TreeValue and Tianshou Batch"
   ]
  },
  {
   "cell_type": "markdown",
   "id": "3c6db2d4",
   "metadata": {},
   "source": [
    "In this section, we will take a look at the feature and performance of the [Tianshou Batch](https://github.com/thu-ml/tianshou) library, which is developed by Tsinghua Machine Learning Group."
   ]
  },
  {
   "cell_type": "markdown",
   "id": "069361b0",
   "metadata": {},
   "source": [
    "Before starting the comparison, let us define some thing."
   ]
  },
  {
   "cell_type": "code",
   "execution_count": 1,
   "id": "06fc8d26",
   "metadata": {
    "execution": {
     "iopub.execute_input": "2023-10-20T05:49:22.408641Z",
     "iopub.status.busy": "2023-10-20T05:49:22.408281Z",
     "iopub.status.idle": "2023-10-20T05:49:24.248834Z",
     "shell.execute_reply": "2023-10-20T05:49:24.247819Z"
    }
   },
   "outputs": [],
   "source": [
    "import torch \n",
    "\n",
    "_TREE_DATA_1 = {'a': 1, 'b': 2, 'x': {'c': 3, 'd': 4}}\n",
    "_TREE_DATA_2 = {\n",
    "    'a': torch.randn(2, 3), \n",
    "    'x': {\n",
    "        'c': torch.randn(3, 4)\n",
    "    },\n",
    "}\n",
    "_TREE_DATA_3 = {\n",
    "    'obs': torch.randn(4, 84, 84),\n",
    "    'action': torch.randint(0, 6, size=(1,)),\n",
    "    'reward': torch.rand(1),\n",
    "}"
   ]
  },
  {
   "cell_type": "markdown",
   "id": "83461b25",
   "metadata": {},
   "source": [
    "## Read and Write Operation"
   ]
  },
  {
   "cell_type": "markdown",
   "id": "067b3f73",
   "metadata": {},
   "source": [
    "Reading and writing are the two most common operations in the tree data structure based on the data model (TreeValue and Tianshou Batch both belong to this type), so this section will compare the reading and writing performance of these two libraries."
   ]
  },
  {
   "cell_type": "markdown",
   "id": "5d09a5b7",
   "metadata": {},
   "source": [
    "### TreeValue's Get and Set"
   ]
  },
  {
   "cell_type": "code",
   "execution_count": 2,
   "id": "9519c4bb",
   "metadata": {
    "execution": {
     "iopub.execute_input": "2023-10-20T05:49:24.253668Z",
     "iopub.status.busy": "2023-10-20T05:49:24.253292Z",
     "iopub.status.idle": "2023-10-20T05:49:24.292451Z",
     "shell.execute_reply": "2023-10-20T05:49:24.291566Z"
    }
   },
   "outputs": [],
   "source": [
    "from treevalue import FastTreeValue\n",
    "\n",
    "t = FastTreeValue(_TREE_DATA_2)"
   ]
  },
  {
   "cell_type": "code",
   "execution_count": 3,
   "id": "11c37677",
   "metadata": {
    "execution": {
     "iopub.execute_input": "2023-10-20T05:49:24.296939Z",
     "iopub.status.busy": "2023-10-20T05:49:24.296392Z",
     "iopub.status.idle": "2023-10-20T05:49:24.307147Z",
     "shell.execute_reply": "2023-10-20T05:49:24.306129Z"
    }
   },
   "outputs": [
    {
     "data": {
      "text/plain": [
       "<FastTreeValue 0x7fcbd0e1da60>\n",
       "├── 'a' --> tensor([[-0.6533, -0.7814,  0.8347],\n",
       "│                   [-0.1776, -0.8544, -1.2637]])\n",
       "└── 'x' --> <FastTreeValue 0x7fcbd0e1db20>\n",
       "    └── 'c' --> tensor([[-0.0710, -0.4278, -0.0236,  0.1338],\n",
       "                        [-1.2858, -1.6180, -0.1188,  1.0551],\n",
       "                        [-0.7933, -0.5985, -0.6393, -1.7236]])"
      ]
     },
     "execution_count": 3,
     "metadata": {},
     "output_type": "execute_result"
    }
   ],
   "source": [
    "t"
   ]
  },
  {
   "cell_type": "code",
   "execution_count": 4,
   "id": "fd70b0b9",
   "metadata": {
    "execution": {
     "iopub.execute_input": "2023-10-20T05:49:24.311745Z",
     "iopub.status.busy": "2023-10-20T05:49:24.311056Z",
     "iopub.status.idle": "2023-10-20T05:49:24.319426Z",
     "shell.execute_reply": "2023-10-20T05:49:24.318653Z"
    }
   },
   "outputs": [
    {
     "data": {
      "text/plain": [
       "tensor([[-0.6533, -0.7814,  0.8347],\n",
       "        [-0.1776, -0.8544, -1.2637]])"
      ]
     },
     "execution_count": 4,
     "metadata": {},
     "output_type": "execute_result"
    }
   ],
   "source": [
    "t.a"
   ]
  },
  {
   "cell_type": "code",
   "execution_count": 5,
   "id": "c18197bd",
   "metadata": {
    "execution": {
     "iopub.execute_input": "2023-10-20T05:49:24.322947Z",
     "iopub.status.busy": "2023-10-20T05:49:24.322423Z",
     "iopub.status.idle": "2023-10-20T05:49:31.305490Z",
     "shell.execute_reply": "2023-10-20T05:49:31.304226Z"
    }
   },
   "outputs": [
    {
     "name": "stdout",
     "output_type": "stream",
     "text": [
      "86 ns ± 0.112 ns per loop (mean ± std. dev. of 7 runs, 10,000,000 loops each)\n"
     ]
    }
   ],
   "source": [
    "%timeit t.a"
   ]
  },
  {
   "cell_type": "code",
   "execution_count": 6,
   "id": "bd52f867",
   "metadata": {
    "execution": {
     "iopub.execute_input": "2023-10-20T05:49:31.309973Z",
     "iopub.status.busy": "2023-10-20T05:49:31.309502Z",
     "iopub.status.idle": "2023-10-20T05:49:31.320805Z",
     "shell.execute_reply": "2023-10-20T05:49:31.319500Z"
    }
   },
   "outputs": [
    {
     "data": {
      "text/plain": [
       "<FastTreeValue 0x7fcbd0e1da60>\n",
       "├── 'a' --> tensor([[ 0.5286, -0.5614,  0.5087],\n",
       "│                   [-0.2600,  0.1510,  0.0213]])\n",
       "└── 'x' --> <FastTreeValue 0x7fcbd0e1db20>\n",
       "    └── 'c' --> tensor([[-0.0710, -0.4278, -0.0236,  0.1338],\n",
       "                        [-1.2858, -1.6180, -0.1188,  1.0551],\n",
       "                        [-0.7933, -0.5985, -0.6393, -1.7236]])"
      ]
     },
     "execution_count": 6,
     "metadata": {},
     "output_type": "execute_result"
    }
   ],
   "source": [
    "new_value = torch.randn(2, 3)\n",
    "t.a = new_value\n",
    "\n",
    "t"
   ]
  },
  {
   "cell_type": "code",
   "execution_count": 7,
   "id": "bbe04d1c",
   "metadata": {
    "execution": {
     "iopub.execute_input": "2023-10-20T05:49:31.324824Z",
     "iopub.status.busy": "2023-10-20T05:49:31.324146Z",
     "iopub.status.idle": "2023-10-20T05:49:38.887417Z",
     "shell.execute_reply": "2023-10-20T05:49:38.886111Z"
    }
   },
   "outputs": [
    {
     "name": "stdout",
     "output_type": "stream",
     "text": [
      "93.2 ns ± 0.113 ns per loop (mean ± std. dev. of 7 runs, 10,000,000 loops each)\n"
     ]
    }
   ],
   "source": [
    "%timeit t.a = new_value"
   ]
  },
  {
   "cell_type": "markdown",
   "id": "48c49731",
   "metadata": {},
   "source": [
    "### Tianshou Batch's Get and Set"
   ]
  },
  {
   "cell_type": "code",
   "execution_count": 8,
   "id": "f1bb14c1",
   "metadata": {
    "execution": {
     "iopub.execute_input": "2023-10-20T05:49:38.891954Z",
     "iopub.status.busy": "2023-10-20T05:49:38.891240Z",
     "iopub.status.idle": "2023-10-20T05:49:39.369960Z",
     "shell.execute_reply": "2023-10-20T05:49:39.368840Z"
    }
   },
   "outputs": [],
   "source": [
    "from tianshou.data import Batch\n",
    "\n",
    "b = Batch(**_TREE_DATA_2)"
   ]
  },
  {
   "cell_type": "code",
   "execution_count": 9,
   "id": "cb0777c3",
   "metadata": {
    "execution": {
     "iopub.execute_input": "2023-10-20T05:49:39.375753Z",
     "iopub.status.busy": "2023-10-20T05:49:39.374695Z",
     "iopub.status.idle": "2023-10-20T05:49:39.387872Z",
     "shell.execute_reply": "2023-10-20T05:49:39.387157Z"
    }
   },
   "outputs": [
    {
     "data": {
      "text/plain": [
       "Batch(\n",
       "    a: tensor([[-0.6533, -0.7814,  0.8347],\n",
       "               [-0.1776, -0.8544, -1.2637]]),\n",
       "    x: Batch(\n",
       "           c: tensor([[-0.0710, -0.4278, -0.0236,  0.1338],\n",
       "                      [-1.2858, -1.6180, -0.1188,  1.0551],\n",
       "                      [-0.7933, -0.5985, -0.6393, -1.7236]]),\n",
       "       ),\n",
       ")"
      ]
     },
     "execution_count": 9,
     "metadata": {},
     "output_type": "execute_result"
    }
   ],
   "source": [
    "b"
   ]
  },
  {
   "cell_type": "code",
   "execution_count": 10,
   "id": "43ef8ea3",
   "metadata": {
    "execution": {
     "iopub.execute_input": "2023-10-20T05:49:39.391768Z",
     "iopub.status.busy": "2023-10-20T05:49:39.391087Z",
     "iopub.status.idle": "2023-10-20T05:49:39.398583Z",
     "shell.execute_reply": "2023-10-20T05:49:39.397763Z"
    }
   },
   "outputs": [
    {
     "data": {
      "text/plain": [
       "tensor([[-0.6533, -0.7814,  0.8347],\n",
       "        [-0.1776, -0.8544, -1.2637]])"
      ]
     },
     "execution_count": 10,
     "metadata": {},
     "output_type": "execute_result"
    }
   ],
   "source": [
    "b.a"
   ]
  },
  {
   "cell_type": "code",
   "execution_count": 11,
   "id": "b785ab72",
   "metadata": {
    "execution": {
     "iopub.execute_input": "2023-10-20T05:49:39.402432Z",
     "iopub.status.busy": "2023-10-20T05:49:39.401756Z",
     "iopub.status.idle": "2023-10-20T05:49:45.961462Z",
     "shell.execute_reply": "2023-10-20T05:49:45.960226Z"
    }
   },
   "outputs": [
    {
     "name": "stdout",
     "output_type": "stream",
     "text": [
      "80.8 ns ± 0.182 ns per loop (mean ± std. dev. of 7 runs, 10,000,000 loops each)\n"
     ]
    }
   ],
   "source": [
    "%timeit b.a"
   ]
  },
  {
   "cell_type": "code",
   "execution_count": 12,
   "id": "ad54dc69",
   "metadata": {
    "execution": {
     "iopub.execute_input": "2023-10-20T05:49:45.965986Z",
     "iopub.status.busy": "2023-10-20T05:49:45.965408Z",
     "iopub.status.idle": "2023-10-20T05:49:45.976563Z",
     "shell.execute_reply": "2023-10-20T05:49:45.975788Z"
    }
   },
   "outputs": [
    {
     "data": {
      "text/plain": [
       "Batch(\n",
       "    a: tensor([[-0.9798, -0.9849,  0.7684],\n",
       "               [ 0.0503,  0.6477,  1.1504]]),\n",
       "    x: Batch(\n",
       "           c: tensor([[-0.0710, -0.4278, -0.0236,  0.1338],\n",
       "                      [-1.2858, -1.6180, -0.1188,  1.0551],\n",
       "                      [-0.7933, -0.5985, -0.6393, -1.7236]]),\n",
       "       ),\n",
       ")"
      ]
     },
     "execution_count": 12,
     "metadata": {},
     "output_type": "execute_result"
    }
   ],
   "source": [
    "new_value = torch.randn(2, 3)\n",
    "b.a = new_value\n",
    "\n",
    "b"
   ]
  },
  {
   "cell_type": "code",
   "execution_count": 13,
   "id": "29b1d0bf",
   "metadata": {
    "execution": {
     "iopub.execute_input": "2023-10-20T05:49:45.980475Z",
     "iopub.status.busy": "2023-10-20T05:49:45.979896Z",
     "iopub.status.idle": "2023-10-20T05:49:51.326634Z",
     "shell.execute_reply": "2023-10-20T05:49:51.325569Z"
    }
   },
   "outputs": [
    {
     "name": "stdout",
     "output_type": "stream",
     "text": [
      "657 ns ± 2.2 ns per loop (mean ± std. dev. of 7 runs, 1,000,000 loops each)\n"
     ]
    }
   ],
   "source": [
    "%timeit b.a = new_value"
   ]
  },
  {
   "cell_type": "markdown",
   "id": "b61ad1d0",
   "metadata": {},
   "source": [
    "## Initialization"
   ]
  },
  {
   "cell_type": "markdown",
   "id": "d70f0d54",
   "metadata": {},
   "source": [
    "### TreeValue's Initialization"
   ]
  },
  {
   "cell_type": "code",
   "execution_count": 14,
   "id": "d32a679b",
   "metadata": {
    "execution": {
     "iopub.execute_input": "2023-10-20T05:49:51.332182Z",
     "iopub.status.busy": "2023-10-20T05:49:51.330449Z",
     "iopub.status.idle": "2023-10-20T05:50:00.358623Z",
     "shell.execute_reply": "2023-10-20T05:50:00.357554Z"
    }
   },
   "outputs": [
    {
     "name": "stdout",
     "output_type": "stream",
     "text": [
      "1.11 µs ± 3.59 ns per loop (mean ± std. dev. of 7 runs, 1,000,000 loops each)\n"
     ]
    }
   ],
   "source": [
    "%timeit FastTreeValue(_TREE_DATA_1)"
   ]
  },
  {
   "cell_type": "markdown",
   "id": "24f3707b",
   "metadata": {},
   "source": [
    "### Tianshou Batch's Initialization"
   ]
  },
  {
   "cell_type": "code",
   "execution_count": 15,
   "id": "ac3958df",
   "metadata": {
    "execution": {
     "iopub.execute_input": "2023-10-20T05:50:00.363407Z",
     "iopub.status.busy": "2023-10-20T05:50:00.362587Z",
     "iopub.status.idle": "2023-10-20T05:50:10.716501Z",
     "shell.execute_reply": "2023-10-20T05:50:10.715659Z"
    }
   },
   "outputs": [
    {
     "name": "stdout",
     "output_type": "stream",
     "text": [
      "12.7 µs ± 23.8 ns per loop (mean ± std. dev. of 7 runs, 100,000 loops each)\n"
     ]
    }
   ],
   "source": [
    "%timeit Batch(**_TREE_DATA_1)"
   ]
  },
  {
   "cell_type": "markdown",
   "id": "1ab82e2d",
   "metadata": {},
   "source": [
    "## Deep Copy Operation"
   ]
  },
  {
   "cell_type": "code",
   "execution_count": 16,
   "id": "210a9442",
   "metadata": {
    "execution": {
     "iopub.execute_input": "2023-10-20T05:50:10.720809Z",
     "iopub.status.busy": "2023-10-20T05:50:10.719983Z",
     "iopub.status.idle": "2023-10-20T05:50:10.724120Z",
     "shell.execute_reply": "2023-10-20T05:50:10.723298Z"
    }
   },
   "outputs": [],
   "source": [
    "import copy"
   ]
  },
  {
   "cell_type": "markdown",
   "id": "5a736274",
   "metadata": {},
   "source": [
    "### Deep Copy of TreeValue"
   ]
  },
  {
   "cell_type": "code",
   "execution_count": 17,
   "id": "f9bcadd6",
   "metadata": {
    "execution": {
     "iopub.execute_input": "2023-10-20T05:50:10.727594Z",
     "iopub.status.busy": "2023-10-20T05:50:10.727320Z",
     "iopub.status.idle": "2023-10-20T05:50:24.714572Z",
     "shell.execute_reply": "2023-10-20T05:50:24.713663Z"
    }
   },
   "outputs": [
    {
     "name": "stdout",
     "output_type": "stream",
     "text": [
      "172 µs ± 1.32 µs per loop (mean ± std. dev. of 7 runs, 10,000 loops each)\n"
     ]
    }
   ],
   "source": [
    "t3 = FastTreeValue(_TREE_DATA_3)\n",
    "%timeit copy.deepcopy(t3)"
   ]
  },
  {
   "cell_type": "markdown",
   "id": "bf8be7ea",
   "metadata": {},
   "source": [
    "### Deep Copy of Tianshou Batch"
   ]
  },
  {
   "cell_type": "code",
   "execution_count": 18,
   "id": "91998e6f",
   "metadata": {
    "execution": {
     "iopub.execute_input": "2023-10-20T05:50:24.719044Z",
     "iopub.status.busy": "2023-10-20T05:50:24.718323Z",
     "iopub.status.idle": "2023-10-20T05:50:38.794394Z",
     "shell.execute_reply": "2023-10-20T05:50:38.793489Z"
    }
   },
   "outputs": [
    {
     "name": "stdout",
     "output_type": "stream",
     "text": [
      "173 µs ± 1.07 µs per loop (mean ± std. dev. of 7 runs, 10,000 loops each)\n"
     ]
    }
   ],
   "source": [
    "b3 = Batch(**_TREE_DATA_3)\n",
    "%timeit copy.deepcopy(b3)"
   ]
  },
  {
   "cell_type": "markdown",
   "id": "223162fb",
   "metadata": {},
   "source": [
    "## Stack, Concat and Split Operation"
   ]
  },
  {
   "cell_type": "markdown",
   "id": "85fa4a73",
   "metadata": {},
   "source": [
    "### Performance of TreeValue"
   ]
  },
  {
   "cell_type": "code",
   "execution_count": 19,
   "id": "a0c2b697",
   "metadata": {
    "execution": {
     "iopub.execute_input": "2023-10-20T05:50:38.798527Z",
     "iopub.status.busy": "2023-10-20T05:50:38.797968Z",
     "iopub.status.idle": "2023-10-20T05:50:38.802510Z",
     "shell.execute_reply": "2023-10-20T05:50:38.801712Z"
    }
   },
   "outputs": [],
   "source": [
    "trees = [FastTreeValue(_TREE_DATA_2) for _ in range(8)]"
   ]
  },
  {
   "cell_type": "code",
   "execution_count": 20,
   "id": "017ea5a5",
   "metadata": {
    "execution": {
     "iopub.execute_input": "2023-10-20T05:50:38.806009Z",
     "iopub.status.busy": "2023-10-20T05:50:38.805497Z",
     "iopub.status.idle": "2023-10-20T05:50:38.814406Z",
     "shell.execute_reply": "2023-10-20T05:50:38.813559Z"
    }
   },
   "outputs": [
    {
     "data": {
      "text/plain": [
       "<FastTreeValue 0x7fcafa2affd0>\n",
       "├── 'a' --> tensor([[[-0.6533, -0.7814,  0.8347],\n",
       "│                    [-0.1776, -0.8544, -1.2637]],\n",
       "│           \n",
       "│                   [[-0.6533, -0.7814,  0.8347],\n",
       "│                    [-0.1776, -0.8544, -1.2637]],\n",
       "│           \n",
       "│                   [[-0.6533, -0.7814,  0.8347],\n",
       "│                    [-0.1776, -0.8544, -1.2637]],\n",
       "│           \n",
       "│                   [[-0.6533, -0.7814,  0.8347],\n",
       "│                    [-0.1776, -0.8544, -1.2637]],\n",
       "│           \n",
       "│                   [[-0.6533, -0.7814,  0.8347],\n",
       "│                    [-0.1776, -0.8544, -1.2637]],\n",
       "│           \n",
       "│                   [[-0.6533, -0.7814,  0.8347],\n",
       "│                    [-0.1776, -0.8544, -1.2637]],\n",
       "│           \n",
       "│                   [[-0.6533, -0.7814,  0.8347],\n",
       "│                    [-0.1776, -0.8544, -1.2637]],\n",
       "│           \n",
       "│                   [[-0.6533, -0.7814,  0.8347],\n",
       "│                    [-0.1776, -0.8544, -1.2637]]])\n",
       "└── 'x' --> <FastTreeValue 0x7fcbd0e2f790>\n",
       "    └── 'c' --> tensor([[[-0.0710, -0.4278, -0.0236,  0.1338],\n",
       "                         [-1.2858, -1.6180, -0.1188,  1.0551],\n",
       "                         [-0.7933, -0.5985, -0.6393, -1.7236]],\n",
       "                \n",
       "                        [[-0.0710, -0.4278, -0.0236,  0.1338],\n",
       "                         [-1.2858, -1.6180, -0.1188,  1.0551],\n",
       "                         [-0.7933, -0.5985, -0.6393, -1.7236]],\n",
       "                \n",
       "                        [[-0.0710, -0.4278, -0.0236,  0.1338],\n",
       "                         [-1.2858, -1.6180, -0.1188,  1.0551],\n",
       "                         [-0.7933, -0.5985, -0.6393, -1.7236]],\n",
       "                \n",
       "                        [[-0.0710, -0.4278, -0.0236,  0.1338],\n",
       "                         [-1.2858, -1.6180, -0.1188,  1.0551],\n",
       "                         [-0.7933, -0.5985, -0.6393, -1.7236]],\n",
       "                \n",
       "                        [[-0.0710, -0.4278, -0.0236,  0.1338],\n",
       "                         [-1.2858, -1.6180, -0.1188,  1.0551],\n",
       "                         [-0.7933, -0.5985, -0.6393, -1.7236]],\n",
       "                \n",
       "                        [[-0.0710, -0.4278, -0.0236,  0.1338],\n",
       "                         [-1.2858, -1.6180, -0.1188,  1.0551],\n",
       "                         [-0.7933, -0.5985, -0.6393, -1.7236]],\n",
       "                \n",
       "                        [[-0.0710, -0.4278, -0.0236,  0.1338],\n",
       "                         [-1.2858, -1.6180, -0.1188,  1.0551],\n",
       "                         [-0.7933, -0.5985, -0.6393, -1.7236]],\n",
       "                \n",
       "                        [[-0.0710, -0.4278, -0.0236,  0.1338],\n",
       "                         [-1.2858, -1.6180, -0.1188,  1.0551],\n",
       "                         [-0.7933, -0.5985, -0.6393, -1.7236]]])"
      ]
     },
     "execution_count": 20,
     "metadata": {},
     "output_type": "execute_result"
    }
   ],
   "source": [
    "t_stack = FastTreeValue.func(subside=True)(torch.stack)\n",
    "\n",
    "t_stack(trees)"
   ]
  },
  {
   "cell_type": "code",
   "execution_count": 21,
   "id": "f8b3f415",
   "metadata": {
    "execution": {
     "iopub.execute_input": "2023-10-20T05:50:38.818043Z",
     "iopub.status.busy": "2023-10-20T05:50:38.817522Z",
     "iopub.status.idle": "2023-10-20T05:50:42.068984Z",
     "shell.execute_reply": "2023-10-20T05:50:42.068019Z"
    }
   },
   "outputs": [
    {
     "name": "stdout",
     "output_type": "stream",
     "text": [
      "40 µs ± 139 ns per loop (mean ± std. dev. of 7 runs, 10,000 loops each)\n"
     ]
    }
   ],
   "source": [
    "%timeit t_stack(trees)"
   ]
  },
  {
   "cell_type": "code",
   "execution_count": 22,
   "id": "94b56771",
   "metadata": {
    "execution": {
     "iopub.execute_input": "2023-10-20T05:50:42.073116Z",
     "iopub.status.busy": "2023-10-20T05:50:42.072541Z",
     "iopub.status.idle": "2023-10-20T05:50:42.084339Z",
     "shell.execute_reply": "2023-10-20T05:50:42.083575Z"
    }
   },
   "outputs": [
    {
     "data": {
      "text/plain": [
       "<FastTreeValue 0x7fcaf1eeb1c0>\n",
       "├── 'a' --> tensor([[-0.6533, -0.7814,  0.8347],\n",
       "│                   [-0.1776, -0.8544, -1.2637],\n",
       "│                   [-0.6533, -0.7814,  0.8347],\n",
       "│                   [-0.1776, -0.8544, -1.2637],\n",
       "│                   [-0.6533, -0.7814,  0.8347],\n",
       "│                   [-0.1776, -0.8544, -1.2637],\n",
       "│                   [-0.6533, -0.7814,  0.8347],\n",
       "│                   [-0.1776, -0.8544, -1.2637],\n",
       "│                   [-0.6533, -0.7814,  0.8347],\n",
       "│                   [-0.1776, -0.8544, -1.2637],\n",
       "│                   [-0.6533, -0.7814,  0.8347],\n",
       "│                   [-0.1776, -0.8544, -1.2637],\n",
       "│                   [-0.6533, -0.7814,  0.8347],\n",
       "│                   [-0.1776, -0.8544, -1.2637],\n",
       "│                   [-0.6533, -0.7814,  0.8347],\n",
       "│                   [-0.1776, -0.8544, -1.2637]])\n",
       "└── 'x' --> <FastTreeValue 0x7fcaf1eeb100>\n",
       "    └── 'c' --> tensor([[-0.0710, -0.4278, -0.0236,  0.1338],\n",
       "                        [-1.2858, -1.6180, -0.1188,  1.0551],\n",
       "                        [-0.7933, -0.5985, -0.6393, -1.7236],\n",
       "                        [-0.0710, -0.4278, -0.0236,  0.1338],\n",
       "                        [-1.2858, -1.6180, -0.1188,  1.0551],\n",
       "                        [-0.7933, -0.5985, -0.6393, -1.7236],\n",
       "                        [-0.0710, -0.4278, -0.0236,  0.1338],\n",
       "                        [-1.2858, -1.6180, -0.1188,  1.0551],\n",
       "                        [-0.7933, -0.5985, -0.6393, -1.7236],\n",
       "                        [-0.0710, -0.4278, -0.0236,  0.1338],\n",
       "                        [-1.2858, -1.6180, -0.1188,  1.0551],\n",
       "                        [-0.7933, -0.5985, -0.6393, -1.7236],\n",
       "                        [-0.0710, -0.4278, -0.0236,  0.1338],\n",
       "                        [-1.2858, -1.6180, -0.1188,  1.0551],\n",
       "                        [-0.7933, -0.5985, -0.6393, -1.7236],\n",
       "                        [-0.0710, -0.4278, -0.0236,  0.1338],\n",
       "                        [-1.2858, -1.6180, -0.1188,  1.0551],\n",
       "                        [-0.7933, -0.5985, -0.6393, -1.7236],\n",
       "                        [-0.0710, -0.4278, -0.0236,  0.1338],\n",
       "                        [-1.2858, -1.6180, -0.1188,  1.0551],\n",
       "                        [-0.7933, -0.5985, -0.6393, -1.7236],\n",
       "                        [-0.0710, -0.4278, -0.0236,  0.1338],\n",
       "                        [-1.2858, -1.6180, -0.1188,  1.0551],\n",
       "                        [-0.7933, -0.5985, -0.6393, -1.7236]])"
      ]
     },
     "execution_count": 22,
     "metadata": {},
     "output_type": "execute_result"
    }
   ],
   "source": [
    "t_cat = FastTreeValue.func(subside=True)(torch.cat)\n",
    "\n",
    "t_cat(trees)"
   ]
  },
  {
   "cell_type": "code",
   "execution_count": 23,
   "id": "5e9c06a6",
   "metadata": {
    "execution": {
     "iopub.execute_input": "2023-10-20T05:50:42.088441Z",
     "iopub.status.busy": "2023-10-20T05:50:42.087737Z",
     "iopub.status.idle": "2023-10-20T05:50:45.124857Z",
     "shell.execute_reply": "2023-10-20T05:50:45.123688Z"
    }
   },
   "outputs": [
    {
     "name": "stdout",
     "output_type": "stream",
     "text": [
      "37.3 µs ± 172 ns per loop (mean ± std. dev. of 7 runs, 10,000 loops each)\n"
     ]
    }
   ],
   "source": [
    "%timeit t_cat(trees)"
   ]
  },
  {
   "cell_type": "code",
   "execution_count": 24,
   "id": "a3ab5c8f",
   "metadata": {
    "execution": {
     "iopub.execute_input": "2023-10-20T05:50:45.129715Z",
     "iopub.status.busy": "2023-10-20T05:50:45.128931Z",
     "iopub.status.idle": "2023-10-20T05:50:51.237434Z",
     "shell.execute_reply": "2023-10-20T05:50:51.236371Z"
    }
   },
   "outputs": [
    {
     "name": "stdout",
     "output_type": "stream",
     "text": [
      "75.2 µs ± 96.6 ns per loop (mean ± std. dev. of 7 runs, 10,000 loops each)\n"
     ]
    }
   ],
   "source": [
    "t_split = FastTreeValue.func(rise=True)(torch.split)\n",
    "tree = FastTreeValue({\n",
    "    'obs': torch.randn(8, 4, 84, 84),\n",
    "    'action': torch.randint(0, 6, size=(8, 1,)),\n",
    "    'reward': torch.rand(8, 1),\n",
    "})\n",
    "\n",
    "%timeit t_split(tree, 1)"
   ]
  },
  {
   "cell_type": "markdown",
   "id": "31c3ec0b",
   "metadata": {},
   "source": [
    "### Performance of Tianshou Batch"
   ]
  },
  {
   "cell_type": "code",
   "execution_count": 25,
   "id": "9ead828a",
   "metadata": {
    "execution": {
     "iopub.execute_input": "2023-10-20T05:50:51.242054Z",
     "iopub.status.busy": "2023-10-20T05:50:51.241300Z",
     "iopub.status.idle": "2023-10-20T05:50:51.251828Z",
     "shell.execute_reply": "2023-10-20T05:50:51.251046Z"
    }
   },
   "outputs": [
    {
     "data": {
      "text/plain": [
       "Batch(\n",
       "    a: tensor([[[-0.6533, -0.7814,  0.8347],\n",
       "                [-0.1776, -0.8544, -1.2637]],\n",
       "       \n",
       "               [[-0.6533, -0.7814,  0.8347],\n",
       "                [-0.1776, -0.8544, -1.2637]],\n",
       "       \n",
       "               [[-0.6533, -0.7814,  0.8347],\n",
       "                [-0.1776, -0.8544, -1.2637]],\n",
       "       \n",
       "               [[-0.6533, -0.7814,  0.8347],\n",
       "                [-0.1776, -0.8544, -1.2637]],\n",
       "       \n",
       "               [[-0.6533, -0.7814,  0.8347],\n",
       "                [-0.1776, -0.8544, -1.2637]],\n",
       "       \n",
       "               [[-0.6533, -0.7814,  0.8347],\n",
       "                [-0.1776, -0.8544, -1.2637]],\n",
       "       \n",
       "               [[-0.6533, -0.7814,  0.8347],\n",
       "                [-0.1776, -0.8544, -1.2637]],\n",
       "       \n",
       "               [[-0.6533, -0.7814,  0.8347],\n",
       "                [-0.1776, -0.8544, -1.2637]]]),\n",
       "    x: Batch(\n",
       "           c: tensor([[[-0.0710, -0.4278, -0.0236,  0.1338],\n",
       "                       [-1.2858, -1.6180, -0.1188,  1.0551],\n",
       "                       [-0.7933, -0.5985, -0.6393, -1.7236]],\n",
       "              \n",
       "                      [[-0.0710, -0.4278, -0.0236,  0.1338],\n",
       "                       [-1.2858, -1.6180, -0.1188,  1.0551],\n",
       "                       [-0.7933, -0.5985, -0.6393, -1.7236]],\n",
       "              \n",
       "                      [[-0.0710, -0.4278, -0.0236,  0.1338],\n",
       "                       [-1.2858, -1.6180, -0.1188,  1.0551],\n",
       "                       [-0.7933, -0.5985, -0.6393, -1.7236]],\n",
       "              \n",
       "                      [[-0.0710, -0.4278, -0.0236,  0.1338],\n",
       "                       [-1.2858, -1.6180, -0.1188,  1.0551],\n",
       "                       [-0.7933, -0.5985, -0.6393, -1.7236]],\n",
       "              \n",
       "                      [[-0.0710, -0.4278, -0.0236,  0.1338],\n",
       "                       [-1.2858, -1.6180, -0.1188,  1.0551],\n",
       "                       [-0.7933, -0.5985, -0.6393, -1.7236]],\n",
       "              \n",
       "                      [[-0.0710, -0.4278, -0.0236,  0.1338],\n",
       "                       [-1.2858, -1.6180, -0.1188,  1.0551],\n",
       "                       [-0.7933, -0.5985, -0.6393, -1.7236]],\n",
       "              \n",
       "                      [[-0.0710, -0.4278, -0.0236,  0.1338],\n",
       "                       [-1.2858, -1.6180, -0.1188,  1.0551],\n",
       "                       [-0.7933, -0.5985, -0.6393, -1.7236]],\n",
       "              \n",
       "                      [[-0.0710, -0.4278, -0.0236,  0.1338],\n",
       "                       [-1.2858, -1.6180, -0.1188,  1.0551],\n",
       "                       [-0.7933, -0.5985, -0.6393, -1.7236]]]),\n",
       "       ),\n",
       ")"
      ]
     },
     "execution_count": 25,
     "metadata": {},
     "output_type": "execute_result"
    }
   ],
   "source": [
    "batches = [Batch(**_TREE_DATA_2) for _ in range(8)]\n",
    "\n",
    "Batch.stack(batches)"
   ]
  },
  {
   "cell_type": "code",
   "execution_count": 26,
   "id": "ec9037a3",
   "metadata": {
    "execution": {
     "iopub.execute_input": "2023-10-20T05:50:51.255388Z",
     "iopub.status.busy": "2023-10-20T05:50:51.255112Z",
     "iopub.status.idle": "2023-10-20T05:50:59.312399Z",
     "shell.execute_reply": "2023-10-20T05:50:59.311486Z"
    }
   },
   "outputs": [
    {
     "name": "stdout",
     "output_type": "stream",
     "text": [
      "99.2 µs ± 232 ns per loop (mean ± std. dev. of 7 runs, 10,000 loops each)\n"
     ]
    }
   ],
   "source": [
    "%timeit Batch.stack(batches)"
   ]
  },
  {
   "cell_type": "code",
   "execution_count": 27,
   "id": "cb8ab77e",
   "metadata": {
    "execution": {
     "iopub.execute_input": "2023-10-20T05:50:59.317363Z",
     "iopub.status.busy": "2023-10-20T05:50:59.316622Z",
     "iopub.status.idle": "2023-10-20T05:50:59.326519Z",
     "shell.execute_reply": "2023-10-20T05:50:59.325715Z"
    }
   },
   "outputs": [
    {
     "data": {
      "text/plain": [
       "Batch(\n",
       "    a: tensor([[-0.6533, -0.7814,  0.8347],\n",
       "               [-0.1776, -0.8544, -1.2637],\n",
       "               [-0.6533, -0.7814,  0.8347],\n",
       "               [-0.1776, -0.8544, -1.2637],\n",
       "               [-0.6533, -0.7814,  0.8347],\n",
       "               [-0.1776, -0.8544, -1.2637],\n",
       "               [-0.6533, -0.7814,  0.8347],\n",
       "               [-0.1776, -0.8544, -1.2637],\n",
       "               [-0.6533, -0.7814,  0.8347],\n",
       "               [-0.1776, -0.8544, -1.2637],\n",
       "               [-0.6533, -0.7814,  0.8347],\n",
       "               [-0.1776, -0.8544, -1.2637],\n",
       "               [-0.6533, -0.7814,  0.8347],\n",
       "               [-0.1776, -0.8544, -1.2637],\n",
       "               [-0.6533, -0.7814,  0.8347],\n",
       "               [-0.1776, -0.8544, -1.2637]]),\n",
       "    x: Batch(\n",
       "           c: tensor([[-0.0710, -0.4278, -0.0236,  0.1338],\n",
       "                      [-1.2858, -1.6180, -0.1188,  1.0551],\n",
       "                      [-0.7933, -0.5985, -0.6393, -1.7236],\n",
       "                      [-0.0710, -0.4278, -0.0236,  0.1338],\n",
       "                      [-1.2858, -1.6180, -0.1188,  1.0551],\n",
       "                      [-0.7933, -0.5985, -0.6393, -1.7236],\n",
       "                      [-0.0710, -0.4278, -0.0236,  0.1338],\n",
       "                      [-1.2858, -1.6180, -0.1188,  1.0551],\n",
       "                      [-0.7933, -0.5985, -0.6393, -1.7236],\n",
       "                      [-0.0710, -0.4278, -0.0236,  0.1338],\n",
       "                      [-1.2858, -1.6180, -0.1188,  1.0551],\n",
       "                      [-0.7933, -0.5985, -0.6393, -1.7236],\n",
       "                      [-0.0710, -0.4278, -0.0236,  0.1338],\n",
       "                      [-1.2858, -1.6180, -0.1188,  1.0551],\n",
       "                      [-0.7933, -0.5985, -0.6393, -1.7236],\n",
       "                      [-0.0710, -0.4278, -0.0236,  0.1338],\n",
       "                      [-1.2858, -1.6180, -0.1188,  1.0551],\n",
       "                      [-0.7933, -0.5985, -0.6393, -1.7236],\n",
       "                      [-0.0710, -0.4278, -0.0236,  0.1338],\n",
       "                      [-1.2858, -1.6180, -0.1188,  1.0551],\n",
       "                      [-0.7933, -0.5985, -0.6393, -1.7236],\n",
       "                      [-0.0710, -0.4278, -0.0236,  0.1338],\n",
       "                      [-1.2858, -1.6180, -0.1188,  1.0551],\n",
       "                      [-0.7933, -0.5985, -0.6393, -1.7236]]),\n",
       "       ),\n",
       ")"
      ]
     },
     "execution_count": 27,
     "metadata": {},
     "output_type": "execute_result"
    }
   ],
   "source": [
    "Batch.cat(batches)"
   ]
  },
  {
   "cell_type": "code",
   "execution_count": 28,
   "id": "18dfb045",
   "metadata": {
    "execution": {
     "iopub.execute_input": "2023-10-20T05:50:59.330432Z",
     "iopub.status.busy": "2023-10-20T05:50:59.329880Z",
     "iopub.status.idle": "2023-10-20T05:51:13.947371Z",
     "shell.execute_reply": "2023-10-20T05:51:13.946563Z"
    }
   },
   "outputs": [
    {
     "name": "stdout",
     "output_type": "stream",
     "text": [
      "180 µs ± 287 ns per loop (mean ± std. dev. of 7 runs, 10,000 loops each)\n"
     ]
    }
   ],
   "source": [
    "%timeit Batch.cat(batches)"
   ]
  },
  {
   "cell_type": "code",
   "execution_count": 29,
   "id": "c6688e51",
   "metadata": {
    "execution": {
     "iopub.execute_input": "2023-10-20T05:51:13.951563Z",
     "iopub.status.busy": "2023-10-20T05:51:13.950982Z",
     "iopub.status.idle": "2023-10-20T05:51:17.635258Z",
     "shell.execute_reply": "2023-10-20T05:51:17.634320Z"
    }
   },
   "outputs": [
    {
     "name": "stdout",
     "output_type": "stream",
     "text": [
      "446 µs ± 6.04 µs per loop (mean ± std. dev. of 7 runs, 1,000 loops each)\n"
     ]
    }
   ],
   "source": [
    "batch = Batch({\n",
    "    'obs': torch.randn(8, 4, 84, 84),\n",
    "    'action': torch.randint(0, 6, size=(8, 1,)),\n",
    "    'reward': torch.rand(8, 1)}\n",
    ")\n",
    "\n",
    "%timeit list(Batch.split(batch, 1, shuffle=False, merge_last=True))"
   ]
  },
  {
   "cell_type": "code",
   "execution_count": null,
   "id": "2539fbd9",
   "metadata": {},
   "outputs": [],
   "source": []
  }
 ],
 "metadata": {
  "kernelspec": {
   "display_name": "Python 3 (ipykernel)",
   "language": "python",
   "name": "python3"
  },
  "language_info": {
   "codemirror_mode": {
    "name": "ipython",
    "version": 3
   },
   "file_extension": ".py",
   "mimetype": "text/x-python",
   "name": "python",
   "nbconvert_exporter": "python",
   "pygments_lexer": "ipython3",
   "version": "3.8.18"
  }
 },
 "nbformat": 4,
 "nbformat_minor": 5
}
