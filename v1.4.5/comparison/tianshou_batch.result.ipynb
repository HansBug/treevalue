{
 "cells": [
  {
   "cell_type": "markdown",
   "id": "9d39d946",
   "metadata": {},
   "source": [
    "# Comparison Between TreeValue and Tianshou Batch"
   ]
  },
  {
   "cell_type": "markdown",
   "id": "3c6db2d4",
   "metadata": {},
   "source": [
    "In this section, we will take a look at the feature and performance of the [Tianshou Batch](https://github.com/thu-ml/tianshou) library, which is developed by Tsinghua Machine Learning Group."
   ]
  },
  {
   "cell_type": "markdown",
   "id": "069361b0",
   "metadata": {},
   "source": [
    "Before starting the comparison, let us define some thing."
   ]
  },
  {
   "cell_type": "code",
   "execution_count": 1,
   "id": "06fc8d26",
   "metadata": {
    "execution": {
     "iopub.execute_input": "2023-03-06T10:55:51.341524Z",
     "iopub.status.busy": "2023-03-06T10:55:51.340981Z",
     "iopub.status.idle": "2023-03-06T10:55:52.243537Z",
     "shell.execute_reply": "2023-03-06T10:55:52.242890Z"
    }
   },
   "outputs": [
    {
     "name": "stderr",
     "output_type": "stream",
     "text": [
      "/opt/hostedtoolcache/Python/3.8.16/x64/lib/python3.8/site-packages/tqdm/auto.py:21: TqdmWarning: IProgress not found. Please update jupyter and ipywidgets. See https://ipywidgets.readthedocs.io/en/stable/user_install.html\n",
      "  from .autonotebook import tqdm as notebook_tqdm\n"
     ]
    }
   ],
   "source": [
    "import torch \n",
    "\n",
    "_TREE_DATA_1 = {'a': 1, 'b': 2, 'x': {'c': 3, 'd': 4}}\n",
    "_TREE_DATA_2 = {\n",
    "    'a': torch.randn(2, 3), \n",
    "    'x': {\n",
    "        'c': torch.randn(3, 4)\n",
    "    },\n",
    "}\n",
    "_TREE_DATA_3 = {\n",
    "    'obs': torch.randn(4, 84, 84),\n",
    "    'action': torch.randint(0, 6, size=(1,)),\n",
    "    'reward': torch.rand(1),\n",
    "}"
   ]
  },
  {
   "cell_type": "markdown",
   "id": "83461b25",
   "metadata": {},
   "source": [
    "## Read and Write Operation"
   ]
  },
  {
   "cell_type": "markdown",
   "id": "067b3f73",
   "metadata": {},
   "source": [
    "Reading and writing are the two most common operations in the tree data structure based on the data model (TreeValue and Tianshou Batch both belong to this type), so this section will compare the reading and writing performance of these two libraries."
   ]
  },
  {
   "cell_type": "markdown",
   "id": "5d09a5b7",
   "metadata": {},
   "source": [
    "### TreeValue's Get and Set"
   ]
  },
  {
   "cell_type": "code",
   "execution_count": 2,
   "id": "9519c4bb",
   "metadata": {
    "execution": {
     "iopub.execute_input": "2023-03-06T10:55:52.246861Z",
     "iopub.status.busy": "2023-03-06T10:55:52.246291Z",
     "iopub.status.idle": "2023-03-06T10:55:52.278518Z",
     "shell.execute_reply": "2023-03-06T10:55:52.277928Z"
    }
   },
   "outputs": [],
   "source": [
    "from treevalue import FastTreeValue\n",
    "\n",
    "t = FastTreeValue(_TREE_DATA_2)"
   ]
  },
  {
   "cell_type": "code",
   "execution_count": 3,
   "id": "11c37677",
   "metadata": {
    "execution": {
     "iopub.execute_input": "2023-03-06T10:55:52.281479Z",
     "iopub.status.busy": "2023-03-06T10:55:52.280956Z",
     "iopub.status.idle": "2023-03-06T10:55:52.290131Z",
     "shell.execute_reply": "2023-03-06T10:55:52.289558Z"
    }
   },
   "outputs": [
    {
     "data": {
      "text/plain": [
       "<FastTreeValue 0x7fb170c03f10>\n",
       "├── 'a' --> tensor([[ 0.2381,  0.9779, -1.0119],\n",
       "│                   [ 1.0029, -0.4537,  0.0163]])\n",
       "└── 'x' --> <FastTreeValue 0x7fb170c03f70>\n",
       "    └── 'c' --> tensor([[-0.2069,  1.3491, -0.5355, -0.7272],\n",
       "                        [-1.0384,  1.0513, -1.4774, -0.3798],\n",
       "                        [-1.1206, -0.6122,  2.2145, -0.3983]])"
      ]
     },
     "execution_count": 3,
     "metadata": {},
     "output_type": "execute_result"
    }
   ],
   "source": [
    "t"
   ]
  },
  {
   "cell_type": "code",
   "execution_count": 4,
   "id": "fd70b0b9",
   "metadata": {
    "execution": {
     "iopub.execute_input": "2023-03-06T10:55:52.292602Z",
     "iopub.status.busy": "2023-03-06T10:55:52.292251Z",
     "iopub.status.idle": "2023-03-06T10:55:52.296978Z",
     "shell.execute_reply": "2023-03-06T10:55:52.296355Z"
    }
   },
   "outputs": [
    {
     "data": {
      "text/plain": [
       "tensor([[ 0.2381,  0.9779, -1.0119],\n",
       "        [ 1.0029, -0.4537,  0.0163]])"
      ]
     },
     "execution_count": 4,
     "metadata": {},
     "output_type": "execute_result"
    }
   ],
   "source": [
    "t.a"
   ]
  },
  {
   "cell_type": "code",
   "execution_count": 5,
   "id": "c18197bd",
   "metadata": {
    "execution": {
     "iopub.execute_input": "2023-03-06T10:55:52.299360Z",
     "iopub.status.busy": "2023-03-06T10:55:52.299019Z",
     "iopub.status.idle": "2023-03-06T10:55:57.271162Z",
     "shell.execute_reply": "2023-03-06T10:55:57.270436Z"
    }
   },
   "outputs": [
    {
     "name": "stdout",
     "output_type": "stream",
     "text": [
      "61.2 ns ± 0.304 ns per loop (mean ± std. dev. of 7 runs, 10,000,000 loops each)\n"
     ]
    }
   ],
   "source": [
    "%timeit t.a"
   ]
  },
  {
   "cell_type": "code",
   "execution_count": 6,
   "id": "bd52f867",
   "metadata": {
    "execution": {
     "iopub.execute_input": "2023-03-06T10:55:57.273905Z",
     "iopub.status.busy": "2023-03-06T10:55:57.273562Z",
     "iopub.status.idle": "2023-03-06T10:55:57.280064Z",
     "shell.execute_reply": "2023-03-06T10:55:57.279491Z"
    }
   },
   "outputs": [
    {
     "data": {
      "text/plain": [
       "<FastTreeValue 0x7fb170c03f10>\n",
       "├── 'a' --> tensor([[ 0.6703, -1.2904,  0.1642],\n",
       "│                   [-0.4736,  0.6032,  0.9351]])\n",
       "└── 'x' --> <FastTreeValue 0x7fb170c03f70>\n",
       "    └── 'c' --> tensor([[-0.2069,  1.3491, -0.5355, -0.7272],\n",
       "                        [-1.0384,  1.0513, -1.4774, -0.3798],\n",
       "                        [-1.1206, -0.6122,  2.2145, -0.3983]])"
      ]
     },
     "execution_count": 6,
     "metadata": {},
     "output_type": "execute_result"
    }
   ],
   "source": [
    "new_value = torch.randn(2, 3)\n",
    "t.a = new_value\n",
    "\n",
    "t"
   ]
  },
  {
   "cell_type": "code",
   "execution_count": 7,
   "id": "bbe04d1c",
   "metadata": {
    "execution": {
     "iopub.execute_input": "2023-03-06T10:55:57.282718Z",
     "iopub.status.busy": "2023-03-06T10:55:57.282394Z",
     "iopub.status.idle": "2023-03-06T10:56:02.372823Z",
     "shell.execute_reply": "2023-03-06T10:56:02.372114Z"
    }
   },
   "outputs": [
    {
     "name": "stdout",
     "output_type": "stream",
     "text": [
      "62.6 ns ± 0.0247 ns per loop (mean ± std. dev. of 7 runs, 10,000,000 loops each)\n"
     ]
    }
   ],
   "source": [
    "%timeit t.a = new_value"
   ]
  },
  {
   "cell_type": "markdown",
   "id": "48c49731",
   "metadata": {},
   "source": [
    "### Tianshou Batch's Get and Set"
   ]
  },
  {
   "cell_type": "code",
   "execution_count": 8,
   "id": "f1bb14c1",
   "metadata": {
    "execution": {
     "iopub.execute_input": "2023-03-06T10:56:02.375905Z",
     "iopub.status.busy": "2023-03-06T10:56:02.375360Z",
     "iopub.status.idle": "2023-03-06T10:56:02.706029Z",
     "shell.execute_reply": "2023-03-06T10:56:02.705359Z"
    }
   },
   "outputs": [],
   "source": [
    "from tianshou.data import Batch\n",
    "\n",
    "b = Batch(**_TREE_DATA_2)"
   ]
  },
  {
   "cell_type": "code",
   "execution_count": 9,
   "id": "cb0777c3",
   "metadata": {
    "execution": {
     "iopub.execute_input": "2023-03-06T10:56:02.709495Z",
     "iopub.status.busy": "2023-03-06T10:56:02.708892Z",
     "iopub.status.idle": "2023-03-06T10:56:02.714947Z",
     "shell.execute_reply": "2023-03-06T10:56:02.714369Z"
    }
   },
   "outputs": [
    {
     "data": {
      "text/plain": [
       "Batch(\n",
       "    a: tensor([[ 0.2381,  0.9779, -1.0119],\n",
       "               [ 1.0029, -0.4537,  0.0163]]),\n",
       "    x: Batch(\n",
       "           c: tensor([[-0.2069,  1.3491, -0.5355, -0.7272],\n",
       "                      [-1.0384,  1.0513, -1.4774, -0.3798],\n",
       "                      [-1.1206, -0.6122,  2.2145, -0.3983]]),\n",
       "       ),\n",
       ")"
      ]
     },
     "execution_count": 9,
     "metadata": {},
     "output_type": "execute_result"
    }
   ],
   "source": [
    "b"
   ]
  },
  {
   "cell_type": "code",
   "execution_count": 10,
   "id": "43ef8ea3",
   "metadata": {
    "execution": {
     "iopub.execute_input": "2023-03-06T10:56:02.717285Z",
     "iopub.status.busy": "2023-03-06T10:56:02.717072Z",
     "iopub.status.idle": "2023-03-06T10:56:02.721730Z",
     "shell.execute_reply": "2023-03-06T10:56:02.721243Z"
    }
   },
   "outputs": [
    {
     "data": {
      "text/plain": [
       "tensor([[ 0.2381,  0.9779, -1.0119],\n",
       "        [ 1.0029, -0.4537,  0.0163]])"
      ]
     },
     "execution_count": 10,
     "metadata": {},
     "output_type": "execute_result"
    }
   ],
   "source": [
    "b.a"
   ]
  },
  {
   "cell_type": "code",
   "execution_count": 11,
   "id": "b785ab72",
   "metadata": {
    "execution": {
     "iopub.execute_input": "2023-03-06T10:56:02.727054Z",
     "iopub.status.busy": "2023-03-06T10:56:02.726441Z",
     "iopub.status.idle": "2023-03-06T10:56:07.330678Z",
     "shell.execute_reply": "2023-03-06T10:56:07.329945Z"
    }
   },
   "outputs": [
    {
     "name": "stdout",
     "output_type": "stream",
     "text": [
      "56.8 ns ± 0.0254 ns per loop (mean ± std. dev. of 7 runs, 10,000,000 loops each)\n"
     ]
    }
   ],
   "source": [
    "%timeit b.a"
   ]
  },
  {
   "cell_type": "code",
   "execution_count": 12,
   "id": "ad54dc69",
   "metadata": {
    "execution": {
     "iopub.execute_input": "2023-03-06T10:56:07.334356Z",
     "iopub.status.busy": "2023-03-06T10:56:07.333752Z",
     "iopub.status.idle": "2023-03-06T10:56:07.341373Z",
     "shell.execute_reply": "2023-03-06T10:56:07.340798Z"
    }
   },
   "outputs": [
    {
     "data": {
      "text/plain": [
       "Batch(\n",
       "    a: tensor([[ 1.3955,  0.2643, -0.7864],\n",
       "               [ 0.8623, -0.1680, -1.4082]]),\n",
       "    x: Batch(\n",
       "           c: tensor([[-0.2069,  1.3491, -0.5355, -0.7272],\n",
       "                      [-1.0384,  1.0513, -1.4774, -0.3798],\n",
       "                      [-1.1206, -0.6122,  2.2145, -0.3983]]),\n",
       "       ),\n",
       ")"
      ]
     },
     "execution_count": 12,
     "metadata": {},
     "output_type": "execute_result"
    }
   ],
   "source": [
    "new_value = torch.randn(2, 3)\n",
    "b.a = new_value\n",
    "\n",
    "b"
   ]
  },
  {
   "cell_type": "code",
   "execution_count": 13,
   "id": "29b1d0bf",
   "metadata": {
    "execution": {
     "iopub.execute_input": "2023-03-06T10:56:07.344160Z",
     "iopub.status.busy": "2023-03-06T10:56:07.343830Z",
     "iopub.status.idle": "2023-03-06T10:56:11.325469Z",
     "shell.execute_reply": "2023-03-06T10:56:11.324760Z"
    }
   },
   "outputs": [
    {
     "name": "stdout",
     "output_type": "stream",
     "text": [
      "490 ns ± 0.0783 ns per loop (mean ± std. dev. of 7 runs, 1,000,000 loops each)\n"
     ]
    }
   ],
   "source": [
    "%timeit b.a = new_value"
   ]
  },
  {
   "cell_type": "markdown",
   "id": "b61ad1d0",
   "metadata": {},
   "source": [
    "## Initialization"
   ]
  },
  {
   "cell_type": "markdown",
   "id": "d70f0d54",
   "metadata": {},
   "source": [
    "### TreeValue's Initialization"
   ]
  },
  {
   "cell_type": "code",
   "execution_count": 14,
   "id": "d32a679b",
   "metadata": {
    "execution": {
     "iopub.execute_input": "2023-03-06T10:56:11.328844Z",
     "iopub.status.busy": "2023-03-06T10:56:11.328298Z",
     "iopub.status.idle": "2023-03-06T10:56:18.156178Z",
     "shell.execute_reply": "2023-03-06T10:56:18.155487Z"
    }
   },
   "outputs": [
    {
     "name": "stdout",
     "output_type": "stream",
     "text": [
      "840 ns ± 0.292 ns per loop (mean ± std. dev. of 7 runs, 1,000,000 loops each)\n"
     ]
    }
   ],
   "source": [
    "%timeit FastTreeValue(_TREE_DATA_1)"
   ]
  },
  {
   "cell_type": "markdown",
   "id": "24f3707b",
   "metadata": {},
   "source": [
    "### Tianshou Batch's Initialization"
   ]
  },
  {
   "cell_type": "code",
   "execution_count": 15,
   "id": "ac3958df",
   "metadata": {
    "execution": {
     "iopub.execute_input": "2023-03-06T10:56:18.159315Z",
     "iopub.status.busy": "2023-03-06T10:56:18.158951Z",
     "iopub.status.idle": "2023-03-06T10:56:27.511923Z",
     "shell.execute_reply": "2023-03-06T10:56:27.511296Z"
    }
   },
   "outputs": [
    {
     "name": "stdout",
     "output_type": "stream",
     "text": [
      "11.5 µs ± 35.7 ns per loop (mean ± std. dev. of 7 runs, 100,000 loops each)\n"
     ]
    }
   ],
   "source": [
    "%timeit Batch(**_TREE_DATA_1)"
   ]
  },
  {
   "cell_type": "markdown",
   "id": "1ab82e2d",
   "metadata": {},
   "source": [
    "## Deep Copy Operation"
   ]
  },
  {
   "cell_type": "code",
   "execution_count": 16,
   "id": "210a9442",
   "metadata": {
    "execution": {
     "iopub.execute_input": "2023-03-06T10:56:27.515231Z",
     "iopub.status.busy": "2023-03-06T10:56:27.514665Z",
     "iopub.status.idle": "2023-03-06T10:56:27.518760Z",
     "shell.execute_reply": "2023-03-06T10:56:27.518171Z"
    }
   },
   "outputs": [],
   "source": [
    "import copy"
   ]
  },
  {
   "cell_type": "markdown",
   "id": "5a736274",
   "metadata": {},
   "source": [
    "### Deep Copy of TreeValue"
   ]
  },
  {
   "cell_type": "code",
   "execution_count": 17,
   "id": "f9bcadd6",
   "metadata": {
    "execution": {
     "iopub.execute_input": "2023-03-06T10:56:27.521246Z",
     "iopub.status.busy": "2023-03-06T10:56:27.520910Z",
     "iopub.status.idle": "2023-03-06T10:56:38.698542Z",
     "shell.execute_reply": "2023-03-06T10:56:38.697971Z"
    }
   },
   "outputs": [
    {
     "name": "stdout",
     "output_type": "stream",
     "text": [
      "137 µs ± 191 ns per loop (mean ± std. dev. of 7 runs, 10,000 loops each)\n"
     ]
    }
   ],
   "source": [
    "t3 = FastTreeValue(_TREE_DATA_3)\n",
    "%timeit copy.deepcopy(t3)"
   ]
  },
  {
   "cell_type": "markdown",
   "id": "bf8be7ea",
   "metadata": {},
   "source": [
    "### Deep Copy of Tianshou Batch"
   ]
  },
  {
   "cell_type": "code",
   "execution_count": 18,
   "id": "91998e6f",
   "metadata": {
    "execution": {
     "iopub.execute_input": "2023-03-06T10:56:38.701284Z",
     "iopub.status.busy": "2023-03-06T10:56:38.700831Z",
     "iopub.status.idle": "2023-03-06T10:56:50.065046Z",
     "shell.execute_reply": "2023-03-06T10:56:50.064484Z"
    }
   },
   "outputs": [
    {
     "name": "stdout",
     "output_type": "stream",
     "text": [
      "140 µs ± 654 ns per loop (mean ± std. dev. of 7 runs, 10,000 loops each)\n"
     ]
    }
   ],
   "source": [
    "b3 = Batch(**_TREE_DATA_3)\n",
    "%timeit copy.deepcopy(b3)"
   ]
  },
  {
   "cell_type": "markdown",
   "id": "223162fb",
   "metadata": {},
   "source": [
    "## Stack, Concat and Split Operation"
   ]
  },
  {
   "cell_type": "markdown",
   "id": "85fa4a73",
   "metadata": {},
   "source": [
    "### Performance of TreeValue"
   ]
  },
  {
   "cell_type": "code",
   "execution_count": 19,
   "id": "a0c2b697",
   "metadata": {
    "execution": {
     "iopub.execute_input": "2023-03-06T10:56:50.067978Z",
     "iopub.status.busy": "2023-03-06T10:56:50.067308Z",
     "iopub.status.idle": "2023-03-06T10:56:50.070699Z",
     "shell.execute_reply": "2023-03-06T10:56:50.070184Z"
    }
   },
   "outputs": [],
   "source": [
    "trees = [FastTreeValue(_TREE_DATA_2) for _ in range(8)]"
   ]
  },
  {
   "cell_type": "code",
   "execution_count": 20,
   "id": "017ea5a5",
   "metadata": {
    "execution": {
     "iopub.execute_input": "2023-03-06T10:56:50.074479Z",
     "iopub.status.busy": "2023-03-06T10:56:50.073339Z",
     "iopub.status.idle": "2023-03-06T10:56:50.082258Z",
     "shell.execute_reply": "2023-03-06T10:56:50.081738Z"
    }
   },
   "outputs": [
    {
     "data": {
      "text/plain": [
       "<FastTreeValue 0x7fb0c58b1760>\n",
       "├── 'a' --> tensor([[[ 0.2381,  0.9779, -1.0119],\n",
       "│                    [ 1.0029, -0.4537,  0.0163]],\n",
       "│           \n",
       "│                   [[ 0.2381,  0.9779, -1.0119],\n",
       "│                    [ 1.0029, -0.4537,  0.0163]],\n",
       "│           \n",
       "│                   [[ 0.2381,  0.9779, -1.0119],\n",
       "│                    [ 1.0029, -0.4537,  0.0163]],\n",
       "│           \n",
       "│                   [[ 0.2381,  0.9779, -1.0119],\n",
       "│                    [ 1.0029, -0.4537,  0.0163]],\n",
       "│           \n",
       "│                   [[ 0.2381,  0.9779, -1.0119],\n",
       "│                    [ 1.0029, -0.4537,  0.0163]],\n",
       "│           \n",
       "│                   [[ 0.2381,  0.9779, -1.0119],\n",
       "│                    [ 1.0029, -0.4537,  0.0163]],\n",
       "│           \n",
       "│                   [[ 0.2381,  0.9779, -1.0119],\n",
       "│                    [ 1.0029, -0.4537,  0.0163]],\n",
       "│           \n",
       "│                   [[ 0.2381,  0.9779, -1.0119],\n",
       "│                    [ 1.0029, -0.4537,  0.0163]]])\n",
       "└── 'x' --> <FastTreeValue 0x7fb0c58b1d30>\n",
       "    └── 'c' --> tensor([[[-0.2069,  1.3491, -0.5355, -0.7272],\n",
       "                         [-1.0384,  1.0513, -1.4774, -0.3798],\n",
       "                         [-1.1206, -0.6122,  2.2145, -0.3983]],\n",
       "                \n",
       "                        [[-0.2069,  1.3491, -0.5355, -0.7272],\n",
       "                         [-1.0384,  1.0513, -1.4774, -0.3798],\n",
       "                         [-1.1206, -0.6122,  2.2145, -0.3983]],\n",
       "                \n",
       "                        [[-0.2069,  1.3491, -0.5355, -0.7272],\n",
       "                         [-1.0384,  1.0513, -1.4774, -0.3798],\n",
       "                         [-1.1206, -0.6122,  2.2145, -0.3983]],\n",
       "                \n",
       "                        [[-0.2069,  1.3491, -0.5355, -0.7272],\n",
       "                         [-1.0384,  1.0513, -1.4774, -0.3798],\n",
       "                         [-1.1206, -0.6122,  2.2145, -0.3983]],\n",
       "                \n",
       "                        [[-0.2069,  1.3491, -0.5355, -0.7272],\n",
       "                         [-1.0384,  1.0513, -1.4774, -0.3798],\n",
       "                         [-1.1206, -0.6122,  2.2145, -0.3983]],\n",
       "                \n",
       "                        [[-0.2069,  1.3491, -0.5355, -0.7272],\n",
       "                         [-1.0384,  1.0513, -1.4774, -0.3798],\n",
       "                         [-1.1206, -0.6122,  2.2145, -0.3983]],\n",
       "                \n",
       "                        [[-0.2069,  1.3491, -0.5355, -0.7272],\n",
       "                         [-1.0384,  1.0513, -1.4774, -0.3798],\n",
       "                         [-1.1206, -0.6122,  2.2145, -0.3983]],\n",
       "                \n",
       "                        [[-0.2069,  1.3491, -0.5355, -0.7272],\n",
       "                         [-1.0384,  1.0513, -1.4774, -0.3798],\n",
       "                         [-1.1206, -0.6122,  2.2145, -0.3983]]])"
      ]
     },
     "execution_count": 20,
     "metadata": {},
     "output_type": "execute_result"
    }
   ],
   "source": [
    "t_stack = FastTreeValue.func(subside=True)(torch.stack)\n",
    "\n",
    "t_stack(trees)"
   ]
  },
  {
   "cell_type": "code",
   "execution_count": 21,
   "id": "f8b3f415",
   "metadata": {
    "execution": {
     "iopub.execute_input": "2023-03-06T10:56:50.085875Z",
     "iopub.status.busy": "2023-03-06T10:56:50.084775Z",
     "iopub.status.idle": "2023-03-06T10:56:52.706927Z",
     "shell.execute_reply": "2023-03-06T10:56:52.706266Z"
    }
   },
   "outputs": [
    {
     "name": "stdout",
     "output_type": "stream",
     "text": [
      "32.2 µs ± 55.3 ns per loop (mean ± std. dev. of 7 runs, 10,000 loops each)\n"
     ]
    }
   ],
   "source": [
    "%timeit t_stack(trees)"
   ]
  },
  {
   "cell_type": "code",
   "execution_count": 22,
   "id": "94b56771",
   "metadata": {
    "execution": {
     "iopub.execute_input": "2023-03-06T10:56:52.709908Z",
     "iopub.status.busy": "2023-03-06T10:56:52.709565Z",
     "iopub.status.idle": "2023-03-06T10:56:52.717443Z",
     "shell.execute_reply": "2023-03-06T10:56:52.716871Z"
    }
   },
   "outputs": [
    {
     "data": {
      "text/plain": [
       "<FastTreeValue 0x7fb0c592dbb0>\n",
       "├── 'a' --> tensor([[ 0.2381,  0.9779, -1.0119],\n",
       "│                   [ 1.0029, -0.4537,  0.0163],\n",
       "│                   [ 0.2381,  0.9779, -1.0119],\n",
       "│                   [ 1.0029, -0.4537,  0.0163],\n",
       "│                   [ 0.2381,  0.9779, -1.0119],\n",
       "│                   [ 1.0029, -0.4537,  0.0163],\n",
       "│                   [ 0.2381,  0.9779, -1.0119],\n",
       "│                   [ 1.0029, -0.4537,  0.0163],\n",
       "│                   [ 0.2381,  0.9779, -1.0119],\n",
       "│                   [ 1.0029, -0.4537,  0.0163],\n",
       "│                   [ 0.2381,  0.9779, -1.0119],\n",
       "│                   [ 1.0029, -0.4537,  0.0163],\n",
       "│                   [ 0.2381,  0.9779, -1.0119],\n",
       "│                   [ 1.0029, -0.4537,  0.0163],\n",
       "│                   [ 0.2381,  0.9779, -1.0119],\n",
       "│                   [ 1.0029, -0.4537,  0.0163]])\n",
       "└── 'x' --> <FastTreeValue 0x7fb0c5eb1b50>\n",
       "    └── 'c' --> tensor([[-0.2069,  1.3491, -0.5355, -0.7272],\n",
       "                        [-1.0384,  1.0513, -1.4774, -0.3798],\n",
       "                        [-1.1206, -0.6122,  2.2145, -0.3983],\n",
       "                        [-0.2069,  1.3491, -0.5355, -0.7272],\n",
       "                        [-1.0384,  1.0513, -1.4774, -0.3798],\n",
       "                        [-1.1206, -0.6122,  2.2145, -0.3983],\n",
       "                        [-0.2069,  1.3491, -0.5355, -0.7272],\n",
       "                        [-1.0384,  1.0513, -1.4774, -0.3798],\n",
       "                        [-1.1206, -0.6122,  2.2145, -0.3983],\n",
       "                        [-0.2069,  1.3491, -0.5355, -0.7272],\n",
       "                        [-1.0384,  1.0513, -1.4774, -0.3798],\n",
       "                        [-1.1206, -0.6122,  2.2145, -0.3983],\n",
       "                        [-0.2069,  1.3491, -0.5355, -0.7272],\n",
       "                        [-1.0384,  1.0513, -1.4774, -0.3798],\n",
       "                        [-1.1206, -0.6122,  2.2145, -0.3983],\n",
       "                        [-0.2069,  1.3491, -0.5355, -0.7272],\n",
       "                        [-1.0384,  1.0513, -1.4774, -0.3798],\n",
       "                        [-1.1206, -0.6122,  2.2145, -0.3983],\n",
       "                        [-0.2069,  1.3491, -0.5355, -0.7272],\n",
       "                        [-1.0384,  1.0513, -1.4774, -0.3798],\n",
       "                        [-1.1206, -0.6122,  2.2145, -0.3983],\n",
       "                        [-0.2069,  1.3491, -0.5355, -0.7272],\n",
       "                        [-1.0384,  1.0513, -1.4774, -0.3798],\n",
       "                        [-1.1206, -0.6122,  2.2145, -0.3983]])"
      ]
     },
     "execution_count": 22,
     "metadata": {},
     "output_type": "execute_result"
    }
   ],
   "source": [
    "t_cat = FastTreeValue.func(subside=True)(torch.cat)\n",
    "\n",
    "t_cat(trees)"
   ]
  },
  {
   "cell_type": "code",
   "execution_count": 23,
   "id": "5e9c06a6",
   "metadata": {
    "execution": {
     "iopub.execute_input": "2023-03-06T10:56:52.720291Z",
     "iopub.status.busy": "2023-03-06T10:56:52.719796Z",
     "iopub.status.idle": "2023-03-06T10:56:55.172744Z",
     "shell.execute_reply": "2023-03-06T10:56:55.172086Z"
    }
   },
   "outputs": [
    {
     "name": "stdout",
     "output_type": "stream",
     "text": [
      "30.2 µs ± 80.7 ns per loop (mean ± std. dev. of 7 runs, 10,000 loops each)\n"
     ]
    }
   ],
   "source": [
    "%timeit t_cat(trees)"
   ]
  },
  {
   "cell_type": "code",
   "execution_count": 24,
   "id": "a3ab5c8f",
   "metadata": {
    "execution": {
     "iopub.execute_input": "2023-03-06T10:56:55.176008Z",
     "iopub.status.busy": "2023-03-06T10:56:55.175472Z",
     "iopub.status.idle": "2023-03-06T10:56:59.961116Z",
     "shell.execute_reply": "2023-03-06T10:56:59.960412Z"
    }
   },
   "outputs": [
    {
     "name": "stdout",
     "output_type": "stream",
     "text": [
      "58.8 µs ± 137 ns per loop (mean ± std. dev. of 7 runs, 10,000 loops each)\n"
     ]
    }
   ],
   "source": [
    "t_split = FastTreeValue.func(rise=True)(torch.split)\n",
    "tree = FastTreeValue({\n",
    "    'obs': torch.randn(8, 4, 84, 84),\n",
    "    'action': torch.randint(0, 6, size=(8, 1,)),\n",
    "    'reward': torch.rand(8, 1),\n",
    "})\n",
    "\n",
    "%timeit t_split(tree, 1)"
   ]
  },
  {
   "cell_type": "markdown",
   "id": "31c3ec0b",
   "metadata": {},
   "source": [
    "### Performance of Tianshou Batch"
   ]
  },
  {
   "cell_type": "code",
   "execution_count": 25,
   "id": "9ead828a",
   "metadata": {
    "execution": {
     "iopub.execute_input": "2023-03-06T10:56:59.964429Z",
     "iopub.status.busy": "2023-03-06T10:56:59.963843Z",
     "iopub.status.idle": "2023-03-06T10:56:59.971800Z",
     "shell.execute_reply": "2023-03-06T10:56:59.971217Z"
    }
   },
   "outputs": [
    {
     "data": {
      "text/plain": [
       "Batch(\n",
       "    a: tensor([[[ 0.2381,  0.9779, -1.0119],\n",
       "                [ 1.0029, -0.4537,  0.0163]],\n",
       "       \n",
       "               [[ 0.2381,  0.9779, -1.0119],\n",
       "                [ 1.0029, -0.4537,  0.0163]],\n",
       "       \n",
       "               [[ 0.2381,  0.9779, -1.0119],\n",
       "                [ 1.0029, -0.4537,  0.0163]],\n",
       "       \n",
       "               [[ 0.2381,  0.9779, -1.0119],\n",
       "                [ 1.0029, -0.4537,  0.0163]],\n",
       "       \n",
       "               [[ 0.2381,  0.9779, -1.0119],\n",
       "                [ 1.0029, -0.4537,  0.0163]],\n",
       "       \n",
       "               [[ 0.2381,  0.9779, -1.0119],\n",
       "                [ 1.0029, -0.4537,  0.0163]],\n",
       "       \n",
       "               [[ 0.2381,  0.9779, -1.0119],\n",
       "                [ 1.0029, -0.4537,  0.0163]],\n",
       "       \n",
       "               [[ 0.2381,  0.9779, -1.0119],\n",
       "                [ 1.0029, -0.4537,  0.0163]]]),\n",
       "    x: Batch(\n",
       "           c: tensor([[[-0.2069,  1.3491, -0.5355, -0.7272],\n",
       "                       [-1.0384,  1.0513, -1.4774, -0.3798],\n",
       "                       [-1.1206, -0.6122,  2.2145, -0.3983]],\n",
       "              \n",
       "                      [[-0.2069,  1.3491, -0.5355, -0.7272],\n",
       "                       [-1.0384,  1.0513, -1.4774, -0.3798],\n",
       "                       [-1.1206, -0.6122,  2.2145, -0.3983]],\n",
       "              \n",
       "                      [[-0.2069,  1.3491, -0.5355, -0.7272],\n",
       "                       [-1.0384,  1.0513, -1.4774, -0.3798],\n",
       "                       [-1.1206, -0.6122,  2.2145, -0.3983]],\n",
       "              \n",
       "                      [[-0.2069,  1.3491, -0.5355, -0.7272],\n",
       "                       [-1.0384,  1.0513, -1.4774, -0.3798],\n",
       "                       [-1.1206, -0.6122,  2.2145, -0.3983]],\n",
       "              \n",
       "                      [[-0.2069,  1.3491, -0.5355, -0.7272],\n",
       "                       [-1.0384,  1.0513, -1.4774, -0.3798],\n",
       "                       [-1.1206, -0.6122,  2.2145, -0.3983]],\n",
       "              \n",
       "                      [[-0.2069,  1.3491, -0.5355, -0.7272],\n",
       "                       [-1.0384,  1.0513, -1.4774, -0.3798],\n",
       "                       [-1.1206, -0.6122,  2.2145, -0.3983]],\n",
       "              \n",
       "                      [[-0.2069,  1.3491, -0.5355, -0.7272],\n",
       "                       [-1.0384,  1.0513, -1.4774, -0.3798],\n",
       "                       [-1.1206, -0.6122,  2.2145, -0.3983]],\n",
       "              \n",
       "                      [[-0.2069,  1.3491, -0.5355, -0.7272],\n",
       "                       [-1.0384,  1.0513, -1.4774, -0.3798],\n",
       "                       [-1.1206, -0.6122,  2.2145, -0.3983]]]),\n",
       "       ),\n",
       ")"
      ]
     },
     "execution_count": 25,
     "metadata": {},
     "output_type": "execute_result"
    }
   ],
   "source": [
    "batches = [Batch(**_TREE_DATA_2) for _ in range(8)]\n",
    "\n",
    "Batch.stack(batches)"
   ]
  },
  {
   "cell_type": "code",
   "execution_count": 26,
   "id": "ec9037a3",
   "metadata": {
    "execution": {
     "iopub.execute_input": "2023-03-06T10:56:59.974582Z",
     "iopub.status.busy": "2023-03-06T10:56:59.974019Z",
     "iopub.status.idle": "2023-03-06T10:57:06.361134Z",
     "shell.execute_reply": "2023-03-06T10:57:06.360383Z"
    }
   },
   "outputs": [
    {
     "name": "stdout",
     "output_type": "stream",
     "text": [
      "78.6 µs ± 268 ns per loop (mean ± std. dev. of 7 runs, 10,000 loops each)\n"
     ]
    }
   ],
   "source": [
    "%timeit Batch.stack(batches)"
   ]
  },
  {
   "cell_type": "code",
   "execution_count": 27,
   "id": "cb8ab77e",
   "metadata": {
    "execution": {
     "iopub.execute_input": "2023-03-06T10:57:06.364431Z",
     "iopub.status.busy": "2023-03-06T10:57:06.363852Z",
     "iopub.status.idle": "2023-03-06T10:57:06.371492Z",
     "shell.execute_reply": "2023-03-06T10:57:06.370866Z"
    }
   },
   "outputs": [
    {
     "data": {
      "text/plain": [
       "Batch(\n",
       "    a: tensor([[ 0.2381,  0.9779, -1.0119],\n",
       "               [ 1.0029, -0.4537,  0.0163],\n",
       "               [ 0.2381,  0.9779, -1.0119],\n",
       "               [ 1.0029, -0.4537,  0.0163],\n",
       "               [ 0.2381,  0.9779, -1.0119],\n",
       "               [ 1.0029, -0.4537,  0.0163],\n",
       "               [ 0.2381,  0.9779, -1.0119],\n",
       "               [ 1.0029, -0.4537,  0.0163],\n",
       "               [ 0.2381,  0.9779, -1.0119],\n",
       "               [ 1.0029, -0.4537,  0.0163],\n",
       "               [ 0.2381,  0.9779, -1.0119],\n",
       "               [ 1.0029, -0.4537,  0.0163],\n",
       "               [ 0.2381,  0.9779, -1.0119],\n",
       "               [ 1.0029, -0.4537,  0.0163],\n",
       "               [ 0.2381,  0.9779, -1.0119],\n",
       "               [ 1.0029, -0.4537,  0.0163]]),\n",
       "    x: Batch(\n",
       "           c: tensor([[-0.2069,  1.3491, -0.5355, -0.7272],\n",
       "                      [-1.0384,  1.0513, -1.4774, -0.3798],\n",
       "                      [-1.1206, -0.6122,  2.2145, -0.3983],\n",
       "                      [-0.2069,  1.3491, -0.5355, -0.7272],\n",
       "                      [-1.0384,  1.0513, -1.4774, -0.3798],\n",
       "                      [-1.1206, -0.6122,  2.2145, -0.3983],\n",
       "                      [-0.2069,  1.3491, -0.5355, -0.7272],\n",
       "                      [-1.0384,  1.0513, -1.4774, -0.3798],\n",
       "                      [-1.1206, -0.6122,  2.2145, -0.3983],\n",
       "                      [-0.2069,  1.3491, -0.5355, -0.7272],\n",
       "                      [-1.0384,  1.0513, -1.4774, -0.3798],\n",
       "                      [-1.1206, -0.6122,  2.2145, -0.3983],\n",
       "                      [-0.2069,  1.3491, -0.5355, -0.7272],\n",
       "                      [-1.0384,  1.0513, -1.4774, -0.3798],\n",
       "                      [-1.1206, -0.6122,  2.2145, -0.3983],\n",
       "                      [-0.2069,  1.3491, -0.5355, -0.7272],\n",
       "                      [-1.0384,  1.0513, -1.4774, -0.3798],\n",
       "                      [-1.1206, -0.6122,  2.2145, -0.3983],\n",
       "                      [-0.2069,  1.3491, -0.5355, -0.7272],\n",
       "                      [-1.0384,  1.0513, -1.4774, -0.3798],\n",
       "                      [-1.1206, -0.6122,  2.2145, -0.3983],\n",
       "                      [-0.2069,  1.3491, -0.5355, -0.7272],\n",
       "                      [-1.0384,  1.0513, -1.4774, -0.3798],\n",
       "                      [-1.1206, -0.6122,  2.2145, -0.3983]]),\n",
       "       ),\n",
       ")"
      ]
     },
     "execution_count": 27,
     "metadata": {},
     "output_type": "execute_result"
    }
   ],
   "source": [
    "Batch.cat(batches)"
   ]
  },
  {
   "cell_type": "code",
   "execution_count": 28,
   "id": "18dfb045",
   "metadata": {
    "execution": {
     "iopub.execute_input": "2023-03-06T10:57:06.374011Z",
     "iopub.status.busy": "2023-03-06T10:57:06.373701Z",
     "iopub.status.idle": "2023-03-06T10:57:18.052880Z",
     "shell.execute_reply": "2023-03-06T10:57:18.052224Z"
    }
   },
   "outputs": [
    {
     "name": "stdout",
     "output_type": "stream",
     "text": [
      "144 µs ± 253 ns per loop (mean ± std. dev. of 7 runs, 10,000 loops each)\n"
     ]
    }
   ],
   "source": [
    "%timeit Batch.cat(batches)"
   ]
  },
  {
   "cell_type": "code",
   "execution_count": 29,
   "id": "c6688e51",
   "metadata": {
    "execution": {
     "iopub.execute_input": "2023-03-06T10:57:18.056072Z",
     "iopub.status.busy": "2023-03-06T10:57:18.055562Z",
     "iopub.status.idle": "2023-03-06T10:57:20.588465Z",
     "shell.execute_reply": "2023-03-06T10:57:20.587756Z"
    }
   },
   "outputs": [
    {
     "name": "stdout",
     "output_type": "stream",
     "text": [
      "312 µs ± 5.23 µs per loop (mean ± std. dev. of 7 runs, 1,000 loops each)\n"
     ]
    }
   ],
   "source": [
    "batch = Batch({\n",
    "    'obs': torch.randn(8, 4, 84, 84),\n",
    "    'action': torch.randint(0, 6, size=(8, 1,)),\n",
    "    'reward': torch.rand(8, 1)}\n",
    ")\n",
    "\n",
    "%timeit list(Batch.split(batch, 1, shuffle=False, merge_last=True))"
   ]
  },
  {
   "cell_type": "code",
   "execution_count": null,
   "id": "2539fbd9",
   "metadata": {},
   "outputs": [],
   "source": []
  }
 ],
 "metadata": {
  "kernelspec": {
   "display_name": "Python 3 (ipykernel)",
   "language": "python",
   "name": "python3"
  },
  "language_info": {
   "codemirror_mode": {
    "name": "ipython",
    "version": 3
   },
   "file_extension": ".py",
   "mimetype": "text/x-python",
   "name": "python",
   "nbconvert_exporter": "python",
   "pygments_lexer": "ipython3",
   "version": "3.8.16"
  }
 },
 "nbformat": 4,
 "nbformat_minor": 5
}
