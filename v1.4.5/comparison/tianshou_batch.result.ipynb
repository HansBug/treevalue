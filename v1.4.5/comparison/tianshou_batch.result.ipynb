{
 "cells": [
  {
   "cell_type": "markdown",
   "id": "9d39d946",
   "metadata": {},
   "source": [
    "# Comparison Between TreeValue and Tianshou Batch"
   ]
  },
  {
   "cell_type": "markdown",
   "id": "3c6db2d4",
   "metadata": {},
   "source": [
    "In this section, we will take a look at the feature and performance of the [Tianshou Batch](https://github.com/thu-ml/tianshou) library, which is developed by Tsinghua Machine Learning Group."
   ]
  },
  {
   "cell_type": "markdown",
   "id": "069361b0",
   "metadata": {},
   "source": [
    "Before starting the comparison, let us define some thing."
   ]
  },
  {
   "cell_type": "code",
   "execution_count": 1,
   "id": "06fc8d26",
   "metadata": {
    "execution": {
     "iopub.execute_input": "2023-08-10T04:00:32.300086Z",
     "iopub.status.busy": "2023-08-10T04:00:32.299821Z",
     "iopub.status.idle": "2023-08-10T04:00:33.661558Z",
     "shell.execute_reply": "2023-08-10T04:00:33.660814Z"
    }
   },
   "outputs": [],
   "source": [
    "import torch \n",
    "\n",
    "_TREE_DATA_1 = {'a': 1, 'b': 2, 'x': {'c': 3, 'd': 4}}\n",
    "_TREE_DATA_2 = {\n",
    "    'a': torch.randn(2, 3), \n",
    "    'x': {\n",
    "        'c': torch.randn(3, 4)\n",
    "    },\n",
    "}\n",
    "_TREE_DATA_3 = {\n",
    "    'obs': torch.randn(4, 84, 84),\n",
    "    'action': torch.randint(0, 6, size=(1,)),\n",
    "    'reward': torch.rand(1),\n",
    "}"
   ]
  },
  {
   "cell_type": "markdown",
   "id": "83461b25",
   "metadata": {},
   "source": [
    "## Read and Write Operation"
   ]
  },
  {
   "cell_type": "markdown",
   "id": "067b3f73",
   "metadata": {},
   "source": [
    "Reading and writing are the two most common operations in the tree data structure based on the data model (TreeValue and Tianshou Batch both belong to this type), so this section will compare the reading and writing performance of these two libraries."
   ]
  },
  {
   "cell_type": "markdown",
   "id": "5d09a5b7",
   "metadata": {},
   "source": [
    "### TreeValue's Get and Set"
   ]
  },
  {
   "cell_type": "code",
   "execution_count": 2,
   "id": "9519c4bb",
   "metadata": {
    "execution": {
     "iopub.execute_input": "2023-08-10T04:00:33.665323Z",
     "iopub.status.busy": "2023-08-10T04:00:33.664853Z",
     "iopub.status.idle": "2023-08-10T04:00:33.695039Z",
     "shell.execute_reply": "2023-08-10T04:00:33.694262Z"
    }
   },
   "outputs": [],
   "source": [
    "from treevalue import FastTreeValue\n",
    "\n",
    "t = FastTreeValue(_TREE_DATA_2)"
   ]
  },
  {
   "cell_type": "code",
   "execution_count": 3,
   "id": "11c37677",
   "metadata": {
    "execution": {
     "iopub.execute_input": "2023-08-10T04:00:33.699307Z",
     "iopub.status.busy": "2023-08-10T04:00:33.698694Z",
     "iopub.status.idle": "2023-08-10T04:00:33.709574Z",
     "shell.execute_reply": "2023-08-10T04:00:33.708939Z"
    }
   },
   "outputs": [
    {
     "data": {
      "text/plain": [
       "<FastTreeValue 0x7f7fe8e425e0>\n",
       "├── 'a' --> tensor([[ 0.2876,  0.8974, -1.5416],\n",
       "│                   [ 0.8404,  1.2731,  0.3452]])\n",
       "└── 'x' --> <FastTreeValue 0x7f7febed2ee0>\n",
       "    └── 'c' --> tensor([[ 0.2562,  0.6296,  0.4366,  1.4298],\n",
       "                        [-0.4975,  0.6626,  0.4765, -0.3334],\n",
       "                        [-0.0507,  0.5951, -0.6898,  0.0171]])"
      ]
     },
     "execution_count": 3,
     "metadata": {},
     "output_type": "execute_result"
    }
   ],
   "source": [
    "t"
   ]
  },
  {
   "cell_type": "code",
   "execution_count": 4,
   "id": "fd70b0b9",
   "metadata": {
    "execution": {
     "iopub.execute_input": "2023-08-10T04:00:33.712995Z",
     "iopub.status.busy": "2023-08-10T04:00:33.712642Z",
     "iopub.status.idle": "2023-08-10T04:00:33.719787Z",
     "shell.execute_reply": "2023-08-10T04:00:33.719119Z"
    }
   },
   "outputs": [
    {
     "data": {
      "text/plain": [
       "tensor([[ 0.2876,  0.8974, -1.5416],\n",
       "        [ 0.8404,  1.2731,  0.3452]])"
      ]
     },
     "execution_count": 4,
     "metadata": {},
     "output_type": "execute_result"
    }
   ],
   "source": [
    "t.a"
   ]
  },
  {
   "cell_type": "code",
   "execution_count": 5,
   "id": "c18197bd",
   "metadata": {
    "execution": {
     "iopub.execute_input": "2023-08-10T04:00:33.723112Z",
     "iopub.status.busy": "2023-08-10T04:00:33.722461Z",
     "iopub.status.idle": "2023-08-10T04:00:38.537681Z",
     "shell.execute_reply": "2023-08-10T04:00:38.536953Z"
    }
   },
   "outputs": [
    {
     "name": "stdout",
     "output_type": "stream",
     "text": [
      "58.3 ns ± 0.0352 ns per loop (mean ± std. dev. of 7 runs, 10,000,000 loops each)\n"
     ]
    }
   ],
   "source": [
    "%timeit t.a"
   ]
  },
  {
   "cell_type": "code",
   "execution_count": 6,
   "id": "bd52f867",
   "metadata": {
    "execution": {
     "iopub.execute_input": "2023-08-10T04:00:38.541288Z",
     "iopub.status.busy": "2023-08-10T04:00:38.541020Z",
     "iopub.status.idle": "2023-08-10T04:00:38.549723Z",
     "shell.execute_reply": "2023-08-10T04:00:38.549041Z"
    }
   },
   "outputs": [
    {
     "data": {
      "text/plain": [
       "<FastTreeValue 0x7f7fe8e425e0>\n",
       "├── 'a' --> tensor([[ 1.1592, -0.4335,  0.5207],\n",
       "│                   [-1.6381, -1.6067, -1.3390]])\n",
       "└── 'x' --> <FastTreeValue 0x7f7febed2ee0>\n",
       "    └── 'c' --> tensor([[ 0.2562,  0.6296,  0.4366,  1.4298],\n",
       "                        [-0.4975,  0.6626,  0.4765, -0.3334],\n",
       "                        [-0.0507,  0.5951, -0.6898,  0.0171]])"
      ]
     },
     "execution_count": 6,
     "metadata": {},
     "output_type": "execute_result"
    }
   ],
   "source": [
    "new_value = torch.randn(2, 3)\n",
    "t.a = new_value\n",
    "\n",
    "t"
   ]
  },
  {
   "cell_type": "code",
   "execution_count": 7,
   "id": "bbe04d1c",
   "metadata": {
    "execution": {
     "iopub.execute_input": "2023-08-10T04:00:38.553331Z",
     "iopub.status.busy": "2023-08-10T04:00:38.552909Z",
     "iopub.status.idle": "2023-08-10T04:00:43.649310Z",
     "shell.execute_reply": "2023-08-10T04:00:43.648694Z"
    }
   },
   "outputs": [
    {
     "name": "stdout",
     "output_type": "stream",
     "text": [
      "63.1 ns ± 0.0587 ns per loop (mean ± std. dev. of 7 runs, 10,000,000 loops each)\n"
     ]
    }
   ],
   "source": [
    "%timeit t.a = new_value"
   ]
  },
  {
   "cell_type": "markdown",
   "id": "48c49731",
   "metadata": {},
   "source": [
    "### Tianshou Batch's Get and Set"
   ]
  },
  {
   "cell_type": "code",
   "execution_count": 8,
   "id": "f1bb14c1",
   "metadata": {
    "execution": {
     "iopub.execute_input": "2023-08-10T04:00:43.652716Z",
     "iopub.status.busy": "2023-08-10T04:00:43.652092Z",
     "iopub.status.idle": "2023-08-10T04:00:44.019519Z",
     "shell.execute_reply": "2023-08-10T04:00:44.018792Z"
    }
   },
   "outputs": [],
   "source": [
    "from tianshou.data import Batch\n",
    "\n",
    "b = Batch(**_TREE_DATA_2)"
   ]
  },
  {
   "cell_type": "code",
   "execution_count": 9,
   "id": "cb0777c3",
   "metadata": {
    "execution": {
     "iopub.execute_input": "2023-08-10T04:00:44.023239Z",
     "iopub.status.busy": "2023-08-10T04:00:44.022745Z",
     "iopub.status.idle": "2023-08-10T04:00:44.028758Z",
     "shell.execute_reply": "2023-08-10T04:00:44.028046Z"
    }
   },
   "outputs": [
    {
     "data": {
      "text/plain": [
       "Batch(\n",
       "    a: tensor([[ 0.2876,  0.8974, -1.5416],\n",
       "               [ 0.8404,  1.2731,  0.3452]]),\n",
       "    x: Batch(\n",
       "           c: tensor([[ 0.2562,  0.6296,  0.4366,  1.4298],\n",
       "                      [-0.4975,  0.6626,  0.4765, -0.3334],\n",
       "                      [-0.0507,  0.5951, -0.6898,  0.0171]]),\n",
       "       ),\n",
       ")"
      ]
     },
     "execution_count": 9,
     "metadata": {},
     "output_type": "execute_result"
    }
   ],
   "source": [
    "b"
   ]
  },
  {
   "cell_type": "code",
   "execution_count": 10,
   "id": "43ef8ea3",
   "metadata": {
    "execution": {
     "iopub.execute_input": "2023-08-10T04:00:44.031920Z",
     "iopub.status.busy": "2023-08-10T04:00:44.031438Z",
     "iopub.status.idle": "2023-08-10T04:00:44.036621Z",
     "shell.execute_reply": "2023-08-10T04:00:44.035962Z"
    }
   },
   "outputs": [
    {
     "data": {
      "text/plain": [
       "tensor([[ 0.2876,  0.8974, -1.5416],\n",
       "        [ 0.8404,  1.2731,  0.3452]])"
      ]
     },
     "execution_count": 10,
     "metadata": {},
     "output_type": "execute_result"
    }
   ],
   "source": [
    "b.a"
   ]
  },
  {
   "cell_type": "code",
   "execution_count": 11,
   "id": "b785ab72",
   "metadata": {
    "execution": {
     "iopub.execute_input": "2023-08-10T04:00:44.039926Z",
     "iopub.status.busy": "2023-08-10T04:00:44.039357Z",
     "iopub.status.idle": "2023-08-10T04:00:48.623021Z",
     "shell.execute_reply": "2023-08-10T04:00:48.622410Z"
    }
   },
   "outputs": [
    {
     "name": "stdout",
     "output_type": "stream",
     "text": [
      "56.1 ns ± 0.0218 ns per loop (mean ± std. dev. of 7 runs, 10,000,000 loops each)\n"
     ]
    }
   ],
   "source": [
    "%timeit b.a"
   ]
  },
  {
   "cell_type": "code",
   "execution_count": 12,
   "id": "ad54dc69",
   "metadata": {
    "execution": {
     "iopub.execute_input": "2023-08-10T04:00:48.626482Z",
     "iopub.status.busy": "2023-08-10T04:00:48.625794Z",
     "iopub.status.idle": "2023-08-10T04:00:48.631965Z",
     "shell.execute_reply": "2023-08-10T04:00:48.631276Z"
    }
   },
   "outputs": [
    {
     "data": {
      "text/plain": [
       "Batch(\n",
       "    a: tensor([[ 0.4959, -0.5470,  0.7071],\n",
       "               [ 1.6819,  0.0499, -1.1525]]),\n",
       "    x: Batch(\n",
       "           c: tensor([[ 0.2562,  0.6296,  0.4366,  1.4298],\n",
       "                      [-0.4975,  0.6626,  0.4765, -0.3334],\n",
       "                      [-0.0507,  0.5951, -0.6898,  0.0171]]),\n",
       "       ),\n",
       ")"
      ]
     },
     "execution_count": 12,
     "metadata": {},
     "output_type": "execute_result"
    }
   ],
   "source": [
    "new_value = torch.randn(2, 3)\n",
    "b.a = new_value\n",
    "\n",
    "b"
   ]
  },
  {
   "cell_type": "code",
   "execution_count": 13,
   "id": "29b1d0bf",
   "metadata": {
    "execution": {
     "iopub.execute_input": "2023-08-10T04:00:48.635001Z",
     "iopub.status.busy": "2023-08-10T04:00:48.634633Z",
     "iopub.status.idle": "2023-08-10T04:00:52.646647Z",
     "shell.execute_reply": "2023-08-10T04:00:52.645884Z"
    }
   },
   "outputs": [
    {
     "name": "stdout",
     "output_type": "stream",
     "text": [
      "494 ns ± 0.179 ns per loop (mean ± std. dev. of 7 runs, 1,000,000 loops each)\n"
     ]
    }
   ],
   "source": [
    "%timeit b.a = new_value"
   ]
  },
  {
   "cell_type": "markdown",
   "id": "b61ad1d0",
   "metadata": {},
   "source": [
    "## Initialization"
   ]
  },
  {
   "cell_type": "markdown",
   "id": "d70f0d54",
   "metadata": {},
   "source": [
    "### TreeValue's Initialization"
   ]
  },
  {
   "cell_type": "code",
   "execution_count": 14,
   "id": "d32a679b",
   "metadata": {
    "execution": {
     "iopub.execute_input": "2023-08-10T04:00:52.650433Z",
     "iopub.status.busy": "2023-08-10T04:00:52.650000Z",
     "iopub.status.idle": "2023-08-10T04:00:59.441259Z",
     "shell.execute_reply": "2023-08-10T04:00:59.440644Z"
    }
   },
   "outputs": [
    {
     "name": "stdout",
     "output_type": "stream",
     "text": [
      "836 ns ± 0.46 ns per loop (mean ± std. dev. of 7 runs, 1,000,000 loops each)\n"
     ]
    }
   ],
   "source": [
    "%timeit FastTreeValue(_TREE_DATA_1)"
   ]
  },
  {
   "cell_type": "markdown",
   "id": "24f3707b",
   "metadata": {},
   "source": [
    "### Tianshou Batch's Initialization"
   ]
  },
  {
   "cell_type": "code",
   "execution_count": 15,
   "id": "ac3958df",
   "metadata": {
    "execution": {
     "iopub.execute_input": "2023-08-10T04:00:59.444559Z",
     "iopub.status.busy": "2023-08-10T04:00:59.444050Z",
     "iopub.status.idle": "2023-08-10T04:01:08.723113Z",
     "shell.execute_reply": "2023-08-10T04:01:08.721793Z"
    }
   },
   "outputs": [
    {
     "name": "stdout",
     "output_type": "stream",
     "text": [
      "11.4 µs ± 38.4 ns per loop (mean ± std. dev. of 7 runs, 100,000 loops each)\n"
     ]
    }
   ],
   "source": [
    "%timeit Batch(**_TREE_DATA_1)"
   ]
  },
  {
   "cell_type": "markdown",
   "id": "1ab82e2d",
   "metadata": {},
   "source": [
    "## Deep Copy Operation"
   ]
  },
  {
   "cell_type": "code",
   "execution_count": 16,
   "id": "210a9442",
   "metadata": {
    "execution": {
     "iopub.execute_input": "2023-08-10T04:01:08.726665Z",
     "iopub.status.busy": "2023-08-10T04:01:08.726037Z",
     "iopub.status.idle": "2023-08-10T04:01:08.729434Z",
     "shell.execute_reply": "2023-08-10T04:01:08.728724Z"
    }
   },
   "outputs": [],
   "source": [
    "import copy"
   ]
  },
  {
   "cell_type": "markdown",
   "id": "5a736274",
   "metadata": {},
   "source": [
    "### Deep Copy of TreeValue"
   ]
  },
  {
   "cell_type": "code",
   "execution_count": 17,
   "id": "f9bcadd6",
   "metadata": {
    "execution": {
     "iopub.execute_input": "2023-08-10T04:01:08.732563Z",
     "iopub.status.busy": "2023-08-10T04:01:08.732207Z",
     "iopub.status.idle": "2023-08-10T04:01:19.930587Z",
     "shell.execute_reply": "2023-08-10T04:01:19.929989Z"
    }
   },
   "outputs": [
    {
     "name": "stdout",
     "output_type": "stream",
     "text": [
      "138 µs ± 876 ns per loop (mean ± std. dev. of 7 runs, 10,000 loops each)\n"
     ]
    }
   ],
   "source": [
    "t3 = FastTreeValue(_TREE_DATA_3)\n",
    "%timeit copy.deepcopy(t3)"
   ]
  },
  {
   "cell_type": "markdown",
   "id": "bf8be7ea",
   "metadata": {},
   "source": [
    "### Deep Copy of Tianshou Batch"
   ]
  },
  {
   "cell_type": "code",
   "execution_count": 18,
   "id": "91998e6f",
   "metadata": {
    "execution": {
     "iopub.execute_input": "2023-08-10T04:01:19.933993Z",
     "iopub.status.busy": "2023-08-10T04:01:19.933740Z",
     "iopub.status.idle": "2023-08-10T04:01:31.450213Z",
     "shell.execute_reply": "2023-08-10T04:01:31.449460Z"
    }
   },
   "outputs": [
    {
     "name": "stdout",
     "output_type": "stream",
     "text": [
      "142 µs ± 847 ns per loop (mean ± std. dev. of 7 runs, 10,000 loops each)\n"
     ]
    }
   ],
   "source": [
    "b3 = Batch(**_TREE_DATA_3)\n",
    "%timeit copy.deepcopy(b3)"
   ]
  },
  {
   "cell_type": "markdown",
   "id": "223162fb",
   "metadata": {},
   "source": [
    "## Stack, Concat and Split Operation"
   ]
  },
  {
   "cell_type": "markdown",
   "id": "85fa4a73",
   "metadata": {},
   "source": [
    "### Performance of TreeValue"
   ]
  },
  {
   "cell_type": "code",
   "execution_count": 19,
   "id": "a0c2b697",
   "metadata": {
    "execution": {
     "iopub.execute_input": "2023-08-10T04:01:31.454743Z",
     "iopub.status.busy": "2023-08-10T04:01:31.454293Z",
     "iopub.status.idle": "2023-08-10T04:01:31.459312Z",
     "shell.execute_reply": "2023-08-10T04:01:31.458740Z"
    }
   },
   "outputs": [],
   "source": [
    "trees = [FastTreeValue(_TREE_DATA_2) for _ in range(8)]"
   ]
  },
  {
   "cell_type": "code",
   "execution_count": 20,
   "id": "017ea5a5",
   "metadata": {
    "execution": {
     "iopub.execute_input": "2023-08-10T04:01:31.462424Z",
     "iopub.status.busy": "2023-08-10T04:01:31.462179Z",
     "iopub.status.idle": "2023-08-10T04:01:31.470743Z",
     "shell.execute_reply": "2023-08-10T04:01:31.470166Z"
    }
   },
   "outputs": [
    {
     "data": {
      "text/plain": [
       "<FastTreeValue 0x7f7fe8e3b370>\n",
       "├── 'a' --> tensor([[[ 0.2876,  0.8974, -1.5416],\n",
       "│                    [ 0.8404,  1.2731,  0.3452]],\n",
       "│           \n",
       "│                   [[ 0.2876,  0.8974, -1.5416],\n",
       "│                    [ 0.8404,  1.2731,  0.3452]],\n",
       "│           \n",
       "│                   [[ 0.2876,  0.8974, -1.5416],\n",
       "│                    [ 0.8404,  1.2731,  0.3452]],\n",
       "│           \n",
       "│                   [[ 0.2876,  0.8974, -1.5416],\n",
       "│                    [ 0.8404,  1.2731,  0.3452]],\n",
       "│           \n",
       "│                   [[ 0.2876,  0.8974, -1.5416],\n",
       "│                    [ 0.8404,  1.2731,  0.3452]],\n",
       "│           \n",
       "│                   [[ 0.2876,  0.8974, -1.5416],\n",
       "│                    [ 0.8404,  1.2731,  0.3452]],\n",
       "│           \n",
       "│                   [[ 0.2876,  0.8974, -1.5416],\n",
       "│                    [ 0.8404,  1.2731,  0.3452]],\n",
       "│           \n",
       "│                   [[ 0.2876,  0.8974, -1.5416],\n",
       "│                    [ 0.8404,  1.2731,  0.3452]]])\n",
       "└── 'x' --> <FastTreeValue 0x7f7f1c016760>\n",
       "    └── 'c' --> tensor([[[ 0.2562,  0.6296,  0.4366,  1.4298],\n",
       "                         [-0.4975,  0.6626,  0.4765, -0.3334],\n",
       "                         [-0.0507,  0.5951, -0.6898,  0.0171]],\n",
       "                \n",
       "                        [[ 0.2562,  0.6296,  0.4366,  1.4298],\n",
       "                         [-0.4975,  0.6626,  0.4765, -0.3334],\n",
       "                         [-0.0507,  0.5951, -0.6898,  0.0171]],\n",
       "                \n",
       "                        [[ 0.2562,  0.6296,  0.4366,  1.4298],\n",
       "                         [-0.4975,  0.6626,  0.4765, -0.3334],\n",
       "                         [-0.0507,  0.5951, -0.6898,  0.0171]],\n",
       "                \n",
       "                        [[ 0.2562,  0.6296,  0.4366,  1.4298],\n",
       "                         [-0.4975,  0.6626,  0.4765, -0.3334],\n",
       "                         [-0.0507,  0.5951, -0.6898,  0.0171]],\n",
       "                \n",
       "                        [[ 0.2562,  0.6296,  0.4366,  1.4298],\n",
       "                         [-0.4975,  0.6626,  0.4765, -0.3334],\n",
       "                         [-0.0507,  0.5951, -0.6898,  0.0171]],\n",
       "                \n",
       "                        [[ 0.2562,  0.6296,  0.4366,  1.4298],\n",
       "                         [-0.4975,  0.6626,  0.4765, -0.3334],\n",
       "                         [-0.0507,  0.5951, -0.6898,  0.0171]],\n",
       "                \n",
       "                        [[ 0.2562,  0.6296,  0.4366,  1.4298],\n",
       "                         [-0.4975,  0.6626,  0.4765, -0.3334],\n",
       "                         [-0.0507,  0.5951, -0.6898,  0.0171]],\n",
       "                \n",
       "                        [[ 0.2562,  0.6296,  0.4366,  1.4298],\n",
       "                         [-0.4975,  0.6626,  0.4765, -0.3334],\n",
       "                         [-0.0507,  0.5951, -0.6898,  0.0171]]])"
      ]
     },
     "execution_count": 20,
     "metadata": {},
     "output_type": "execute_result"
    }
   ],
   "source": [
    "t_stack = FastTreeValue.func(subside=True)(torch.stack)\n",
    "\n",
    "t_stack(trees)"
   ]
  },
  {
   "cell_type": "code",
   "execution_count": 21,
   "id": "f8b3f415",
   "metadata": {
    "execution": {
     "iopub.execute_input": "2023-08-10T04:01:31.473908Z",
     "iopub.status.busy": "2023-08-10T04:01:31.473267Z",
     "iopub.status.idle": "2023-08-10T04:01:34.041333Z",
     "shell.execute_reply": "2023-08-10T04:01:34.040713Z"
    }
   },
   "outputs": [
    {
     "name": "stdout",
     "output_type": "stream",
     "text": [
      "31.6 µs ± 53.1 ns per loop (mean ± std. dev. of 7 runs, 10,000 loops each)\n"
     ]
    }
   ],
   "source": [
    "%timeit t_stack(trees)"
   ]
  },
  {
   "cell_type": "code",
   "execution_count": 22,
   "id": "94b56771",
   "metadata": {
    "execution": {
     "iopub.execute_input": "2023-08-10T04:01:34.044501Z",
     "iopub.status.busy": "2023-08-10T04:01:34.043897Z",
     "iopub.status.idle": "2023-08-10T04:01:34.051486Z",
     "shell.execute_reply": "2023-08-10T04:01:34.050776Z"
    }
   },
   "outputs": [
    {
     "data": {
      "text/plain": [
       "<FastTreeValue 0x7f7fe8d93550>\n",
       "├── 'a' --> tensor([[ 0.2876,  0.8974, -1.5416],\n",
       "│                   [ 0.8404,  1.2731,  0.3452],\n",
       "│                   [ 0.2876,  0.8974, -1.5416],\n",
       "│                   [ 0.8404,  1.2731,  0.3452],\n",
       "│                   [ 0.2876,  0.8974, -1.5416],\n",
       "│                   [ 0.8404,  1.2731,  0.3452],\n",
       "│                   [ 0.2876,  0.8974, -1.5416],\n",
       "│                   [ 0.8404,  1.2731,  0.3452],\n",
       "│                   [ 0.2876,  0.8974, -1.5416],\n",
       "│                   [ 0.8404,  1.2731,  0.3452],\n",
       "│                   [ 0.2876,  0.8974, -1.5416],\n",
       "│                   [ 0.8404,  1.2731,  0.3452],\n",
       "│                   [ 0.2876,  0.8974, -1.5416],\n",
       "│                   [ 0.8404,  1.2731,  0.3452],\n",
       "│                   [ 0.2876,  0.8974, -1.5416],\n",
       "│                   [ 0.8404,  1.2731,  0.3452]])\n",
       "└── 'x' --> <FastTreeValue 0x7f7febe571f0>\n",
       "    └── 'c' --> tensor([[ 0.2562,  0.6296,  0.4366,  1.4298],\n",
       "                        [-0.4975,  0.6626,  0.4765, -0.3334],\n",
       "                        [-0.0507,  0.5951, -0.6898,  0.0171],\n",
       "                        [ 0.2562,  0.6296,  0.4366,  1.4298],\n",
       "                        [-0.4975,  0.6626,  0.4765, -0.3334],\n",
       "                        [-0.0507,  0.5951, -0.6898,  0.0171],\n",
       "                        [ 0.2562,  0.6296,  0.4366,  1.4298],\n",
       "                        [-0.4975,  0.6626,  0.4765, -0.3334],\n",
       "                        [-0.0507,  0.5951, -0.6898,  0.0171],\n",
       "                        [ 0.2562,  0.6296,  0.4366,  1.4298],\n",
       "                        [-0.4975,  0.6626,  0.4765, -0.3334],\n",
       "                        [-0.0507,  0.5951, -0.6898,  0.0171],\n",
       "                        [ 0.2562,  0.6296,  0.4366,  1.4298],\n",
       "                        [-0.4975,  0.6626,  0.4765, -0.3334],\n",
       "                        [-0.0507,  0.5951, -0.6898,  0.0171],\n",
       "                        [ 0.2562,  0.6296,  0.4366,  1.4298],\n",
       "                        [-0.4975,  0.6626,  0.4765, -0.3334],\n",
       "                        [-0.0507,  0.5951, -0.6898,  0.0171],\n",
       "                        [ 0.2562,  0.6296,  0.4366,  1.4298],\n",
       "                        [-0.4975,  0.6626,  0.4765, -0.3334],\n",
       "                        [-0.0507,  0.5951, -0.6898,  0.0171],\n",
       "                        [ 0.2562,  0.6296,  0.4366,  1.4298],\n",
       "                        [-0.4975,  0.6626,  0.4765, -0.3334],\n",
       "                        [-0.0507,  0.5951, -0.6898,  0.0171]])"
      ]
     },
     "execution_count": 22,
     "metadata": {},
     "output_type": "execute_result"
    }
   ],
   "source": [
    "t_cat = FastTreeValue.func(subside=True)(torch.cat)\n",
    "\n",
    "t_cat(trees)"
   ]
  },
  {
   "cell_type": "code",
   "execution_count": 23,
   "id": "5e9c06a6",
   "metadata": {
    "execution": {
     "iopub.execute_input": "2023-08-10T04:01:34.054484Z",
     "iopub.status.busy": "2023-08-10T04:01:34.054099Z",
     "iopub.status.idle": "2023-08-10T04:01:36.455806Z",
     "shell.execute_reply": "2023-08-10T04:01:36.455108Z"
    }
   },
   "outputs": [
    {
     "name": "stdout",
     "output_type": "stream",
     "text": [
      "29.5 µs ± 58.5 ns per loop (mean ± std. dev. of 7 runs, 10,000 loops each)\n"
     ]
    }
   ],
   "source": [
    "%timeit t_cat(trees)"
   ]
  },
  {
   "cell_type": "code",
   "execution_count": 24,
   "id": "a3ab5c8f",
   "metadata": {
    "execution": {
     "iopub.execute_input": "2023-08-10T04:01:36.459047Z",
     "iopub.status.busy": "2023-08-10T04:01:36.458504Z",
     "iopub.status.idle": "2023-08-10T04:01:42.093304Z",
     "shell.execute_reply": "2023-08-10T04:01:42.092189Z"
    }
   },
   "outputs": [
    {
     "name": "stdout",
     "output_type": "stream",
     "text": [
      "69.3 µs ± 87.9 ns per loop (mean ± std. dev. of 7 runs, 10,000 loops each)\n"
     ]
    }
   ],
   "source": [
    "t_split = FastTreeValue.func(rise=True)(torch.split)\n",
    "tree = FastTreeValue({\n",
    "    'obs': torch.randn(8, 4, 84, 84),\n",
    "    'action': torch.randint(0, 6, size=(8, 1,)),\n",
    "    'reward': torch.rand(8, 1),\n",
    "})\n",
    "\n",
    "%timeit t_split(tree, 1)"
   ]
  },
  {
   "cell_type": "markdown",
   "id": "31c3ec0b",
   "metadata": {},
   "source": [
    "### Performance of Tianshou Batch"
   ]
  },
  {
   "cell_type": "code",
   "execution_count": 25,
   "id": "9ead828a",
   "metadata": {
    "execution": {
     "iopub.execute_input": "2023-08-10T04:01:42.096521Z",
     "iopub.status.busy": "2023-08-10T04:01:42.096134Z",
     "iopub.status.idle": "2023-08-10T04:01:42.104852Z",
     "shell.execute_reply": "2023-08-10T04:01:42.104217Z"
    }
   },
   "outputs": [
    {
     "data": {
      "text/plain": [
       "Batch(\n",
       "    x: Batch(\n",
       "           c: tensor([[[ 0.2562,  0.6296,  0.4366,  1.4298],\n",
       "                       [-0.4975,  0.6626,  0.4765, -0.3334],\n",
       "                       [-0.0507,  0.5951, -0.6898,  0.0171]],\n",
       "              \n",
       "                      [[ 0.2562,  0.6296,  0.4366,  1.4298],\n",
       "                       [-0.4975,  0.6626,  0.4765, -0.3334],\n",
       "                       [-0.0507,  0.5951, -0.6898,  0.0171]],\n",
       "              \n",
       "                      [[ 0.2562,  0.6296,  0.4366,  1.4298],\n",
       "                       [-0.4975,  0.6626,  0.4765, -0.3334],\n",
       "                       [-0.0507,  0.5951, -0.6898,  0.0171]],\n",
       "              \n",
       "                      [[ 0.2562,  0.6296,  0.4366,  1.4298],\n",
       "                       [-0.4975,  0.6626,  0.4765, -0.3334],\n",
       "                       [-0.0507,  0.5951, -0.6898,  0.0171]],\n",
       "              \n",
       "                      [[ 0.2562,  0.6296,  0.4366,  1.4298],\n",
       "                       [-0.4975,  0.6626,  0.4765, -0.3334],\n",
       "                       [-0.0507,  0.5951, -0.6898,  0.0171]],\n",
       "              \n",
       "                      [[ 0.2562,  0.6296,  0.4366,  1.4298],\n",
       "                       [-0.4975,  0.6626,  0.4765, -0.3334],\n",
       "                       [-0.0507,  0.5951, -0.6898,  0.0171]],\n",
       "              \n",
       "                      [[ 0.2562,  0.6296,  0.4366,  1.4298],\n",
       "                       [-0.4975,  0.6626,  0.4765, -0.3334],\n",
       "                       [-0.0507,  0.5951, -0.6898,  0.0171]],\n",
       "              \n",
       "                      [[ 0.2562,  0.6296,  0.4366,  1.4298],\n",
       "                       [-0.4975,  0.6626,  0.4765, -0.3334],\n",
       "                       [-0.0507,  0.5951, -0.6898,  0.0171]]]),\n",
       "       ),\n",
       "    a: tensor([[[ 0.2876,  0.8974, -1.5416],\n",
       "                [ 0.8404,  1.2731,  0.3452]],\n",
       "       \n",
       "               [[ 0.2876,  0.8974, -1.5416],\n",
       "                [ 0.8404,  1.2731,  0.3452]],\n",
       "       \n",
       "               [[ 0.2876,  0.8974, -1.5416],\n",
       "                [ 0.8404,  1.2731,  0.3452]],\n",
       "       \n",
       "               [[ 0.2876,  0.8974, -1.5416],\n",
       "                [ 0.8404,  1.2731,  0.3452]],\n",
       "       \n",
       "               [[ 0.2876,  0.8974, -1.5416],\n",
       "                [ 0.8404,  1.2731,  0.3452]],\n",
       "       \n",
       "               [[ 0.2876,  0.8974, -1.5416],\n",
       "                [ 0.8404,  1.2731,  0.3452]],\n",
       "       \n",
       "               [[ 0.2876,  0.8974, -1.5416],\n",
       "                [ 0.8404,  1.2731,  0.3452]],\n",
       "       \n",
       "               [[ 0.2876,  0.8974, -1.5416],\n",
       "                [ 0.8404,  1.2731,  0.3452]]]),\n",
       ")"
      ]
     },
     "execution_count": 25,
     "metadata": {},
     "output_type": "execute_result"
    }
   ],
   "source": [
    "batches = [Batch(**_TREE_DATA_2) for _ in range(8)]\n",
    "\n",
    "Batch.stack(batches)"
   ]
  },
  {
   "cell_type": "code",
   "execution_count": 26,
   "id": "ec9037a3",
   "metadata": {
    "execution": {
     "iopub.execute_input": "2023-08-10T04:01:42.107889Z",
     "iopub.status.busy": "2023-08-10T04:01:42.107341Z",
     "iopub.status.idle": "2023-08-10T04:01:48.603094Z",
     "shell.execute_reply": "2023-08-10T04:01:48.602485Z"
    }
   },
   "outputs": [
    {
     "name": "stdout",
     "output_type": "stream",
     "text": [
      "80 µs ± 141 ns per loop (mean ± std. dev. of 7 runs, 10,000 loops each)\n"
     ]
    }
   ],
   "source": [
    "%timeit Batch.stack(batches)"
   ]
  },
  {
   "cell_type": "code",
   "execution_count": 27,
   "id": "cb8ab77e",
   "metadata": {
    "execution": {
     "iopub.execute_input": "2023-08-10T04:01:48.606253Z",
     "iopub.status.busy": "2023-08-10T04:01:48.605779Z",
     "iopub.status.idle": "2023-08-10T04:01:48.612904Z",
     "shell.execute_reply": "2023-08-10T04:01:48.612217Z"
    }
   },
   "outputs": [
    {
     "data": {
      "text/plain": [
       "Batch(\n",
       "    x: Batch(\n",
       "           c: tensor([[ 0.2562,  0.6296,  0.4366,  1.4298],\n",
       "                      [-0.4975,  0.6626,  0.4765, -0.3334],\n",
       "                      [-0.0507,  0.5951, -0.6898,  0.0171],\n",
       "                      [ 0.2562,  0.6296,  0.4366,  1.4298],\n",
       "                      [-0.4975,  0.6626,  0.4765, -0.3334],\n",
       "                      [-0.0507,  0.5951, -0.6898,  0.0171],\n",
       "                      [ 0.2562,  0.6296,  0.4366,  1.4298],\n",
       "                      [-0.4975,  0.6626,  0.4765, -0.3334],\n",
       "                      [-0.0507,  0.5951, -0.6898,  0.0171],\n",
       "                      [ 0.2562,  0.6296,  0.4366,  1.4298],\n",
       "                      [-0.4975,  0.6626,  0.4765, -0.3334],\n",
       "                      [-0.0507,  0.5951, -0.6898,  0.0171],\n",
       "                      [ 0.2562,  0.6296,  0.4366,  1.4298],\n",
       "                      [-0.4975,  0.6626,  0.4765, -0.3334],\n",
       "                      [-0.0507,  0.5951, -0.6898,  0.0171],\n",
       "                      [ 0.2562,  0.6296,  0.4366,  1.4298],\n",
       "                      [-0.4975,  0.6626,  0.4765, -0.3334],\n",
       "                      [-0.0507,  0.5951, -0.6898,  0.0171],\n",
       "                      [ 0.2562,  0.6296,  0.4366,  1.4298],\n",
       "                      [-0.4975,  0.6626,  0.4765, -0.3334],\n",
       "                      [-0.0507,  0.5951, -0.6898,  0.0171],\n",
       "                      [ 0.2562,  0.6296,  0.4366,  1.4298],\n",
       "                      [-0.4975,  0.6626,  0.4765, -0.3334],\n",
       "                      [-0.0507,  0.5951, -0.6898,  0.0171]]),\n",
       "       ),\n",
       "    a: tensor([[ 0.2876,  0.8974, -1.5416],\n",
       "               [ 0.8404,  1.2731,  0.3452],\n",
       "               [ 0.2876,  0.8974, -1.5416],\n",
       "               [ 0.8404,  1.2731,  0.3452],\n",
       "               [ 0.2876,  0.8974, -1.5416],\n",
       "               [ 0.8404,  1.2731,  0.3452],\n",
       "               [ 0.2876,  0.8974, -1.5416],\n",
       "               [ 0.8404,  1.2731,  0.3452],\n",
       "               [ 0.2876,  0.8974, -1.5416],\n",
       "               [ 0.8404,  1.2731,  0.3452],\n",
       "               [ 0.2876,  0.8974, -1.5416],\n",
       "               [ 0.8404,  1.2731,  0.3452],\n",
       "               [ 0.2876,  0.8974, -1.5416],\n",
       "               [ 0.8404,  1.2731,  0.3452],\n",
       "               [ 0.2876,  0.8974, -1.5416],\n",
       "               [ 0.8404,  1.2731,  0.3452]]),\n",
       ")"
      ]
     },
     "execution_count": 27,
     "metadata": {},
     "output_type": "execute_result"
    }
   ],
   "source": [
    "Batch.cat(batches)"
   ]
  },
  {
   "cell_type": "code",
   "execution_count": 28,
   "id": "18dfb045",
   "metadata": {
    "execution": {
     "iopub.execute_input": "2023-08-10T04:01:48.615778Z",
     "iopub.status.busy": "2023-08-10T04:01:48.615425Z",
     "iopub.status.idle": "2023-08-10T04:02:00.799447Z",
     "shell.execute_reply": "2023-08-10T04:02:00.798851Z"
    }
   },
   "outputs": [
    {
     "name": "stdout",
     "output_type": "stream",
     "text": [
      "150 µs ± 404 ns per loop (mean ± std. dev. of 7 runs, 10,000 loops each)\n"
     ]
    }
   ],
   "source": [
    "%timeit Batch.cat(batches)"
   ]
  },
  {
   "cell_type": "code",
   "execution_count": 29,
   "id": "c6688e51",
   "metadata": {
    "execution": {
     "iopub.execute_input": "2023-08-10T04:02:00.802713Z",
     "iopub.status.busy": "2023-08-10T04:02:00.802175Z",
     "iopub.status.idle": "2023-08-10T04:02:03.468767Z",
     "shell.execute_reply": "2023-08-10T04:02:03.468182Z"
    }
   },
   "outputs": [
    {
     "name": "stdout",
     "output_type": "stream",
     "text": [
      "327 µs ± 2.86 µs per loop (mean ± std. dev. of 7 runs, 1,000 loops each)\n"
     ]
    }
   ],
   "source": [
    "batch = Batch({\n",
    "    'obs': torch.randn(8, 4, 84, 84),\n",
    "    'action': torch.randint(0, 6, size=(8, 1,)),\n",
    "    'reward': torch.rand(8, 1)}\n",
    ")\n",
    "\n",
    "%timeit list(Batch.split(batch, 1, shuffle=False, merge_last=True))"
   ]
  },
  {
   "cell_type": "code",
   "execution_count": null,
   "id": "2539fbd9",
   "metadata": {},
   "outputs": [],
   "source": []
  }
 ],
 "metadata": {
  "kernelspec": {
   "display_name": "Python 3 (ipykernel)",
   "language": "python",
   "name": "python3"
  },
  "language_info": {
   "codemirror_mode": {
    "name": "ipython",
    "version": 3
   },
   "file_extension": ".py",
   "mimetype": "text/x-python",
   "name": "python",
   "nbconvert_exporter": "python",
   "pygments_lexer": "ipython3",
   "version": "3.8.17"
  }
 },
 "nbformat": 4,
 "nbformat_minor": 5
}
