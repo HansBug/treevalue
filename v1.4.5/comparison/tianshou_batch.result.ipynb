{
 "cells": [
  {
   "cell_type": "markdown",
   "id": "9d39d946",
   "metadata": {},
   "source": [
    "# Comparison Between TreeValue and Tianshou Batch"
   ]
  },
  {
   "cell_type": "markdown",
   "id": "3c6db2d4",
   "metadata": {},
   "source": [
    "In this section, we will take a look at the feature and performance of the [Tianshou Batch](https://github.com/thu-ml/tianshou) library, which is developed by Tsinghua Machine Learning Group."
   ]
  },
  {
   "cell_type": "markdown",
   "id": "069361b0",
   "metadata": {},
   "source": [
    "Before starting the comparison, let us define some thing."
   ]
  },
  {
   "cell_type": "code",
   "execution_count": 1,
   "id": "06fc8d26",
   "metadata": {
    "execution": {
     "iopub.execute_input": "2023-02-26T14:29:31.803048Z",
     "iopub.status.busy": "2023-02-26T14:29:31.802423Z",
     "iopub.status.idle": "2023-02-26T14:29:33.041006Z",
     "shell.execute_reply": "2023-02-26T14:29:33.039650Z"
    }
   },
   "outputs": [
    {
     "name": "stderr",
     "output_type": "stream",
     "text": [
      "/opt/hostedtoolcache/Python/3.8.16/x64/lib/python3.8/site-packages/tqdm/auto.py:22: TqdmWarning: IProgress not found. Please update jupyter and ipywidgets. See https://ipywidgets.readthedocs.io/en/stable/user_install.html\n",
      "  from .autonotebook import tqdm as notebook_tqdm\n"
     ]
    }
   ],
   "source": [
    "import torch \n",
    "\n",
    "_TREE_DATA_1 = {'a': 1, 'b': 2, 'x': {'c': 3, 'd': 4}}\n",
    "_TREE_DATA_2 = {\n",
    "    'a': torch.randn(2, 3), \n",
    "    'x': {\n",
    "        'c': torch.randn(3, 4)\n",
    "    },\n",
    "}\n",
    "_TREE_DATA_3 = {\n",
    "    'obs': torch.randn(4, 84, 84),\n",
    "    'action': torch.randint(0, 6, size=(1,)),\n",
    "    'reward': torch.rand(1),\n",
    "}"
   ]
  },
  {
   "cell_type": "markdown",
   "id": "83461b25",
   "metadata": {},
   "source": [
    "## Read and Write Operation"
   ]
  },
  {
   "cell_type": "markdown",
   "id": "067b3f73",
   "metadata": {},
   "source": [
    "Reading and writing are the two most common operations in the tree data structure based on the data model (TreeValue and Tianshou Batch both belong to this type), so this section will compare the reading and writing performance of these two libraries."
   ]
  },
  {
   "cell_type": "markdown",
   "id": "5d09a5b7",
   "metadata": {},
   "source": [
    "### TreeValue's Get and Set"
   ]
  },
  {
   "cell_type": "code",
   "execution_count": 2,
   "id": "9519c4bb",
   "metadata": {
    "execution": {
     "iopub.execute_input": "2023-02-26T14:29:33.045591Z",
     "iopub.status.busy": "2023-02-26T14:29:33.045175Z",
     "iopub.status.idle": "2023-02-26T14:29:33.094159Z",
     "shell.execute_reply": "2023-02-26T14:29:33.093110Z"
    }
   },
   "outputs": [],
   "source": [
    "from treevalue import FastTreeValue\n",
    "\n",
    "t = FastTreeValue(_TREE_DATA_2)"
   ]
  },
  {
   "cell_type": "code",
   "execution_count": 3,
   "id": "11c37677",
   "metadata": {
    "execution": {
     "iopub.execute_input": "2023-02-26T14:29:33.098229Z",
     "iopub.status.busy": "2023-02-26T14:29:33.097680Z",
     "iopub.status.idle": "2023-02-26T14:29:33.112351Z",
     "shell.execute_reply": "2023-02-26T14:29:33.110861Z"
    }
   },
   "outputs": [
    {
     "data": {
      "text/plain": [
       "<FastTreeValue 0x7f50509d8a60>\n",
       "├── 'a' --> tensor([[-0.8411, -1.3479,  0.7044],\n",
       "│                   [ 1.2774,  0.6681, -0.8998]])\n",
       "└── 'x' --> <FastTreeValue 0x7f5050a38e50>\n",
       "    └── 'c' --> tensor([[ 0.3307, -0.3382,  0.3005,  0.2736],\n",
       "                        [-0.2316, -0.5472, -0.9939, -0.9145],\n",
       "                        [-0.5659,  0.1798,  0.6129,  0.2731]])"
      ]
     },
     "execution_count": 3,
     "metadata": {},
     "output_type": "execute_result"
    }
   ],
   "source": [
    "t"
   ]
  },
  {
   "cell_type": "code",
   "execution_count": 4,
   "id": "fd70b0b9",
   "metadata": {
    "execution": {
     "iopub.execute_input": "2023-02-26T14:29:33.116275Z",
     "iopub.status.busy": "2023-02-26T14:29:33.115737Z",
     "iopub.status.idle": "2023-02-26T14:29:33.124206Z",
     "shell.execute_reply": "2023-02-26T14:29:33.123315Z"
    }
   },
   "outputs": [
    {
     "data": {
      "text/plain": [
       "tensor([[-0.8411, -1.3479,  0.7044],\n",
       "        [ 1.2774,  0.6681, -0.8998]])"
      ]
     },
     "execution_count": 4,
     "metadata": {},
     "output_type": "execute_result"
    }
   ],
   "source": [
    "t.a"
   ]
  },
  {
   "cell_type": "code",
   "execution_count": 5,
   "id": "c18197bd",
   "metadata": {
    "execution": {
     "iopub.execute_input": "2023-02-26T14:29:33.128123Z",
     "iopub.status.busy": "2023-02-26T14:29:33.127571Z",
     "iopub.status.idle": "2023-02-26T14:29:39.170172Z",
     "shell.execute_reply": "2023-02-26T14:29:39.169173Z"
    }
   },
   "outputs": [
    {
     "name": "stdout",
     "output_type": "stream",
     "text": [
      "74.9 ns ± 1.01 ns per loop (mean ± std. dev. of 7 runs, 10,000,000 loops each)\n"
     ]
    }
   ],
   "source": [
    "%timeit t.a"
   ]
  },
  {
   "cell_type": "code",
   "execution_count": 6,
   "id": "bd52f867",
   "metadata": {
    "execution": {
     "iopub.execute_input": "2023-02-26T14:29:39.173842Z",
     "iopub.status.busy": "2023-02-26T14:29:39.173517Z",
     "iopub.status.idle": "2023-02-26T14:29:39.182527Z",
     "shell.execute_reply": "2023-02-26T14:29:39.181534Z"
    }
   },
   "outputs": [
    {
     "data": {
      "text/plain": [
       "<FastTreeValue 0x7f50509d8a60>\n",
       "├── 'a' --> tensor([[ 2.2463,  1.4980, -0.2981],\n",
       "│                   [-0.1827, -0.1013, -1.0766]])\n",
       "└── 'x' --> <FastTreeValue 0x7f5050a38e50>\n",
       "    └── 'c' --> tensor([[ 0.3307, -0.3382,  0.3005,  0.2736],\n",
       "                        [-0.2316, -0.5472, -0.9939, -0.9145],\n",
       "                        [-0.5659,  0.1798,  0.6129,  0.2731]])"
      ]
     },
     "execution_count": 6,
     "metadata": {},
     "output_type": "execute_result"
    }
   ],
   "source": [
    "new_value = torch.randn(2, 3)\n",
    "t.a = new_value\n",
    "\n",
    "t"
   ]
  },
  {
   "cell_type": "code",
   "execution_count": 7,
   "id": "bbe04d1c",
   "metadata": {
    "execution": {
     "iopub.execute_input": "2023-02-26T14:29:39.186046Z",
     "iopub.status.busy": "2023-02-26T14:29:39.185787Z",
     "iopub.status.idle": "2023-02-26T14:29:45.166581Z",
     "shell.execute_reply": "2023-02-26T14:29:45.165587Z"
    }
   },
   "outputs": [
    {
     "name": "stdout",
     "output_type": "stream",
     "text": [
      "73.2 ns ± 0.538 ns per loop (mean ± std. dev. of 7 runs, 10,000,000 loops each)\n"
     ]
    }
   ],
   "source": [
    "%timeit t.a = new_value"
   ]
  },
  {
   "cell_type": "markdown",
   "id": "48c49731",
   "metadata": {},
   "source": [
    "### Tianshou Batch's Get and Set"
   ]
  },
  {
   "cell_type": "code",
   "execution_count": 8,
   "id": "f1bb14c1",
   "metadata": {
    "execution": {
     "iopub.execute_input": "2023-02-26T14:29:45.170666Z",
     "iopub.status.busy": "2023-02-26T14:29:45.170171Z",
     "iopub.status.idle": "2023-02-26T14:29:45.640436Z",
     "shell.execute_reply": "2023-02-26T14:29:45.639306Z"
    }
   },
   "outputs": [],
   "source": [
    "from tianshou.data import Batch\n",
    "\n",
    "b = Batch(**_TREE_DATA_2)"
   ]
  },
  {
   "cell_type": "code",
   "execution_count": 9,
   "id": "cb0777c3",
   "metadata": {
    "execution": {
     "iopub.execute_input": "2023-02-26T14:29:45.645177Z",
     "iopub.status.busy": "2023-02-26T14:29:45.644626Z",
     "iopub.status.idle": "2023-02-26T14:29:45.651980Z",
     "shell.execute_reply": "2023-02-26T14:29:45.651026Z"
    }
   },
   "outputs": [
    {
     "data": {
      "text/plain": [
       "Batch(\n",
       "    a: tensor([[-0.8411, -1.3479,  0.7044],\n",
       "               [ 1.2774,  0.6681, -0.8998]]),\n",
       "    x: Batch(\n",
       "           c: tensor([[ 0.3307, -0.3382,  0.3005,  0.2736],\n",
       "                      [-0.2316, -0.5472, -0.9939, -0.9145],\n",
       "                      [-0.5659,  0.1798,  0.6129,  0.2731]]),\n",
       "       ),\n",
       ")"
      ]
     },
     "execution_count": 9,
     "metadata": {},
     "output_type": "execute_result"
    }
   ],
   "source": [
    "b"
   ]
  },
  {
   "cell_type": "code",
   "execution_count": 10,
   "id": "43ef8ea3",
   "metadata": {
    "execution": {
     "iopub.execute_input": "2023-02-26T14:29:45.655254Z",
     "iopub.status.busy": "2023-02-26T14:29:45.654947Z",
     "iopub.status.idle": "2023-02-26T14:29:45.661273Z",
     "shell.execute_reply": "2023-02-26T14:29:45.660358Z"
    }
   },
   "outputs": [
    {
     "data": {
      "text/plain": [
       "tensor([[-0.8411, -1.3479,  0.7044],\n",
       "        [ 1.2774,  0.6681, -0.8998]])"
      ]
     },
     "execution_count": 10,
     "metadata": {},
     "output_type": "execute_result"
    }
   ],
   "source": [
    "b.a"
   ]
  },
  {
   "cell_type": "code",
   "execution_count": 11,
   "id": "b785ab72",
   "metadata": {
    "execution": {
     "iopub.execute_input": "2023-02-26T14:29:45.665389Z",
     "iopub.status.busy": "2023-02-26T14:29:45.665094Z",
     "iopub.status.idle": "2023-02-26T14:29:50.984967Z",
     "shell.execute_reply": "2023-02-26T14:29:50.983892Z"
    }
   },
   "outputs": [
    {
     "name": "stdout",
     "output_type": "stream",
     "text": [
      "65.7 ns ± 1.31 ns per loop (mean ± std. dev. of 7 runs, 10,000,000 loops each)\n"
     ]
    }
   ],
   "source": [
    "%timeit b.a"
   ]
  },
  {
   "cell_type": "code",
   "execution_count": 12,
   "id": "ad54dc69",
   "metadata": {
    "execution": {
     "iopub.execute_input": "2023-02-26T14:29:50.988980Z",
     "iopub.status.busy": "2023-02-26T14:29:50.988439Z",
     "iopub.status.idle": "2023-02-26T14:29:50.996417Z",
     "shell.execute_reply": "2023-02-26T14:29:50.995417Z"
    }
   },
   "outputs": [
    {
     "data": {
      "text/plain": [
       "Batch(\n",
       "    a: tensor([[ 0.7304, -1.0835, -0.9274],\n",
       "               [-1.8281,  0.2498,  1.3784]]),\n",
       "    x: Batch(\n",
       "           c: tensor([[ 0.3307, -0.3382,  0.3005,  0.2736],\n",
       "                      [-0.2316, -0.5472, -0.9939, -0.9145],\n",
       "                      [-0.5659,  0.1798,  0.6129,  0.2731]]),\n",
       "       ),\n",
       ")"
      ]
     },
     "execution_count": 12,
     "metadata": {},
     "output_type": "execute_result"
    }
   ],
   "source": [
    "new_value = torch.randn(2, 3)\n",
    "b.a = new_value\n",
    "\n",
    "b"
   ]
  },
  {
   "cell_type": "code",
   "execution_count": 13,
   "id": "29b1d0bf",
   "metadata": {
    "execution": {
     "iopub.execute_input": "2023-02-26T14:29:51.000106Z",
     "iopub.status.busy": "2023-02-26T14:29:50.999567Z",
     "iopub.status.idle": "2023-02-26T14:29:56.002283Z",
     "shell.execute_reply": "2023-02-26T14:29:56.001208Z"
    }
   },
   "outputs": [
    {
     "name": "stdout",
     "output_type": "stream",
     "text": [
      "613 ns ± 7.61 ns per loop (mean ± std. dev. of 7 runs, 1,000,000 loops each)\n"
     ]
    }
   ],
   "source": [
    "%timeit b.a = new_value"
   ]
  },
  {
   "cell_type": "markdown",
   "id": "b61ad1d0",
   "metadata": {},
   "source": [
    "## Initialization"
   ]
  },
  {
   "cell_type": "markdown",
   "id": "d70f0d54",
   "metadata": {},
   "source": [
    "### TreeValue's Initialization"
   ]
  },
  {
   "cell_type": "code",
   "execution_count": 14,
   "id": "d32a679b",
   "metadata": {
    "execution": {
     "iopub.execute_input": "2023-02-26T14:29:56.006310Z",
     "iopub.status.busy": "2023-02-26T14:29:56.005505Z",
     "iopub.status.idle": "2023-02-26T14:30:04.130753Z",
     "shell.execute_reply": "2023-02-26T14:30:04.129289Z"
    }
   },
   "outputs": [
    {
     "name": "stdout",
     "output_type": "stream",
     "text": [
      "1 µs ± 7.82 ns per loop (mean ± std. dev. of 7 runs, 1,000,000 loops each)\n"
     ]
    }
   ],
   "source": [
    "%timeit FastTreeValue(_TREE_DATA_1)"
   ]
  },
  {
   "cell_type": "markdown",
   "id": "24f3707b",
   "metadata": {},
   "source": [
    "### Tianshou Batch's Initialization"
   ]
  },
  {
   "cell_type": "code",
   "execution_count": 15,
   "id": "ac3958df",
   "metadata": {
    "execution": {
     "iopub.execute_input": "2023-02-26T14:30:04.134922Z",
     "iopub.status.busy": "2023-02-26T14:30:04.134180Z",
     "iopub.status.idle": "2023-02-26T14:30:15.151622Z",
     "shell.execute_reply": "2023-02-26T14:30:15.150513Z"
    }
   },
   "outputs": [
    {
     "name": "stdout",
     "output_type": "stream",
     "text": [
      "13.6 µs ± 132 ns per loop (mean ± std. dev. of 7 runs, 100,000 loops each)\n"
     ]
    }
   ],
   "source": [
    "%timeit Batch(**_TREE_DATA_1)"
   ]
  },
  {
   "cell_type": "markdown",
   "id": "1ab82e2d",
   "metadata": {},
   "source": [
    "## Deep Copy Operation"
   ]
  },
  {
   "cell_type": "code",
   "execution_count": 16,
   "id": "210a9442",
   "metadata": {
    "execution": {
     "iopub.execute_input": "2023-02-26T14:30:15.157046Z",
     "iopub.status.busy": "2023-02-26T14:30:15.156717Z",
     "iopub.status.idle": "2023-02-26T14:30:15.162538Z",
     "shell.execute_reply": "2023-02-26T14:30:15.161608Z"
    }
   },
   "outputs": [],
   "source": [
    "import copy"
   ]
  },
  {
   "cell_type": "markdown",
   "id": "5a736274",
   "metadata": {},
   "source": [
    "### Deep Copy of TreeValue"
   ]
  },
  {
   "cell_type": "code",
   "execution_count": 17,
   "id": "f9bcadd6",
   "metadata": {
    "execution": {
     "iopub.execute_input": "2023-02-26T14:30:15.166280Z",
     "iopub.status.busy": "2023-02-26T14:30:15.165539Z",
     "iopub.status.idle": "2023-02-26T14:30:17.497409Z",
     "shell.execute_reply": "2023-02-26T14:30:17.496488Z"
    }
   },
   "outputs": [
    {
     "name": "stdout",
     "output_type": "stream",
     "text": [
      "286 µs ± 5.61 µs per loop (mean ± std. dev. of 7 runs, 1,000 loops each)\n"
     ]
    }
   ],
   "source": [
    "t3 = FastTreeValue(_TREE_DATA_3)\n",
    "%timeit copy.deepcopy(t3)"
   ]
  },
  {
   "cell_type": "markdown",
   "id": "bf8be7ea",
   "metadata": {},
   "source": [
    "### Deep Copy of Tianshou Batch"
   ]
  },
  {
   "cell_type": "code",
   "execution_count": 18,
   "id": "91998e6f",
   "metadata": {
    "execution": {
     "iopub.execute_input": "2023-02-26T14:30:17.501218Z",
     "iopub.status.busy": "2023-02-26T14:30:17.500691Z",
     "iopub.status.idle": "2023-02-26T14:30:19.723545Z",
     "shell.execute_reply": "2023-02-26T14:30:19.722621Z"
    }
   },
   "outputs": [
    {
     "name": "stdout",
     "output_type": "stream",
     "text": [
      "273 µs ± 5.98 µs per loop (mean ± std. dev. of 7 runs, 1,000 loops each)\n"
     ]
    }
   ],
   "source": [
    "b3 = Batch(**_TREE_DATA_3)\n",
    "%timeit copy.deepcopy(b3)"
   ]
  },
  {
   "cell_type": "markdown",
   "id": "223162fb",
   "metadata": {},
   "source": [
    "## Stack, Concat and Split Operation"
   ]
  },
  {
   "cell_type": "markdown",
   "id": "85fa4a73",
   "metadata": {},
   "source": [
    "### Performance of TreeValue"
   ]
  },
  {
   "cell_type": "code",
   "execution_count": 19,
   "id": "a0c2b697",
   "metadata": {
    "execution": {
     "iopub.execute_input": "2023-02-26T14:30:19.727569Z",
     "iopub.status.busy": "2023-02-26T14:30:19.727002Z",
     "iopub.status.idle": "2023-02-26T14:30:19.731893Z",
     "shell.execute_reply": "2023-02-26T14:30:19.730676Z"
    }
   },
   "outputs": [],
   "source": [
    "trees = [FastTreeValue(_TREE_DATA_2) for _ in range(8)]"
   ]
  },
  {
   "cell_type": "code",
   "execution_count": 20,
   "id": "017ea5a5",
   "metadata": {
    "execution": {
     "iopub.execute_input": "2023-02-26T14:30:19.735642Z",
     "iopub.status.busy": "2023-02-26T14:30:19.735016Z",
     "iopub.status.idle": "2023-02-26T14:30:19.746483Z",
     "shell.execute_reply": "2023-02-26T14:30:19.745611Z"
    }
   },
   "outputs": [
    {
     "data": {
      "text/plain": [
       "<FastTreeValue 0x7f5023f336a0>\n",
       "├── 'a' --> tensor([[[-0.8411, -1.3479,  0.7044],\n",
       "│                    [ 1.2774,  0.6681, -0.8998]],\n",
       "│           \n",
       "│                   [[-0.8411, -1.3479,  0.7044],\n",
       "│                    [ 1.2774,  0.6681, -0.8998]],\n",
       "│           \n",
       "│                   [[-0.8411, -1.3479,  0.7044],\n",
       "│                    [ 1.2774,  0.6681, -0.8998]],\n",
       "│           \n",
       "│                   [[-0.8411, -1.3479,  0.7044],\n",
       "│                    [ 1.2774,  0.6681, -0.8998]],\n",
       "│           \n",
       "│                   [[-0.8411, -1.3479,  0.7044],\n",
       "│                    [ 1.2774,  0.6681, -0.8998]],\n",
       "│           \n",
       "│                   [[-0.8411, -1.3479,  0.7044],\n",
       "│                    [ 1.2774,  0.6681, -0.8998]],\n",
       "│           \n",
       "│                   [[-0.8411, -1.3479,  0.7044],\n",
       "│                    [ 1.2774,  0.6681, -0.8998]],\n",
       "│           \n",
       "│                   [[-0.8411, -1.3479,  0.7044],\n",
       "│                    [ 1.2774,  0.6681, -0.8998]]])\n",
       "└── 'x' --> <FastTreeValue 0x7f50509d21f0>\n",
       "    └── 'c' --> tensor([[[ 0.3307, -0.3382,  0.3005,  0.2736],\n",
       "                         [-0.2316, -0.5472, -0.9939, -0.9145],\n",
       "                         [-0.5659,  0.1798,  0.6129,  0.2731]],\n",
       "                \n",
       "                        [[ 0.3307, -0.3382,  0.3005,  0.2736],\n",
       "                         [-0.2316, -0.5472, -0.9939, -0.9145],\n",
       "                         [-0.5659,  0.1798,  0.6129,  0.2731]],\n",
       "                \n",
       "                        [[ 0.3307, -0.3382,  0.3005,  0.2736],\n",
       "                         [-0.2316, -0.5472, -0.9939, -0.9145],\n",
       "                         [-0.5659,  0.1798,  0.6129,  0.2731]],\n",
       "                \n",
       "                        [[ 0.3307, -0.3382,  0.3005,  0.2736],\n",
       "                         [-0.2316, -0.5472, -0.9939, -0.9145],\n",
       "                         [-0.5659,  0.1798,  0.6129,  0.2731]],\n",
       "                \n",
       "                        [[ 0.3307, -0.3382,  0.3005,  0.2736],\n",
       "                         [-0.2316, -0.5472, -0.9939, -0.9145],\n",
       "                         [-0.5659,  0.1798,  0.6129,  0.2731]],\n",
       "                \n",
       "                        [[ 0.3307, -0.3382,  0.3005,  0.2736],\n",
       "                         [-0.2316, -0.5472, -0.9939, -0.9145],\n",
       "                         [-0.5659,  0.1798,  0.6129,  0.2731]],\n",
       "                \n",
       "                        [[ 0.3307, -0.3382,  0.3005,  0.2736],\n",
       "                         [-0.2316, -0.5472, -0.9939, -0.9145],\n",
       "                         [-0.5659,  0.1798,  0.6129,  0.2731]],\n",
       "                \n",
       "                        [[ 0.3307, -0.3382,  0.3005,  0.2736],\n",
       "                         [-0.2316, -0.5472, -0.9939, -0.9145],\n",
       "                         [-0.5659,  0.1798,  0.6129,  0.2731]]])"
      ]
     },
     "execution_count": 20,
     "metadata": {},
     "output_type": "execute_result"
    }
   ],
   "source": [
    "t_stack = FastTreeValue.func(subside=True)(torch.stack)\n",
    "\n",
    "t_stack(trees)"
   ]
  },
  {
   "cell_type": "code",
   "execution_count": 21,
   "id": "f8b3f415",
   "metadata": {
    "execution": {
     "iopub.execute_input": "2023-02-26T14:30:19.749990Z",
     "iopub.status.busy": "2023-02-26T14:30:19.749416Z",
     "iopub.status.idle": "2023-02-26T14:30:23.306880Z",
     "shell.execute_reply": "2023-02-26T14:30:23.305524Z"
    }
   },
   "outputs": [
    {
     "name": "stdout",
     "output_type": "stream",
     "text": [
      "43.6 µs ± 684 ns per loop (mean ± std. dev. of 7 runs, 10,000 loops each)\n"
     ]
    }
   ],
   "source": [
    "%timeit t_stack(trees)"
   ]
  },
  {
   "cell_type": "code",
   "execution_count": 22,
   "id": "94b56771",
   "metadata": {
    "execution": {
     "iopub.execute_input": "2023-02-26T14:30:23.311418Z",
     "iopub.status.busy": "2023-02-26T14:30:23.311027Z",
     "iopub.status.idle": "2023-02-26T14:30:23.321446Z",
     "shell.execute_reply": "2023-02-26T14:30:23.320181Z"
    }
   },
   "outputs": [
    {
     "data": {
      "text/plain": [
       "<FastTreeValue 0x7f50509df5b0>\n",
       "├── 'a' --> tensor([[-0.8411, -1.3479,  0.7044],\n",
       "│                   [ 1.2774,  0.6681, -0.8998],\n",
       "│                   [-0.8411, -1.3479,  0.7044],\n",
       "│                   [ 1.2774,  0.6681, -0.8998],\n",
       "│                   [-0.8411, -1.3479,  0.7044],\n",
       "│                   [ 1.2774,  0.6681, -0.8998],\n",
       "│                   [-0.8411, -1.3479,  0.7044],\n",
       "│                   [ 1.2774,  0.6681, -0.8998],\n",
       "│                   [-0.8411, -1.3479,  0.7044],\n",
       "│                   [ 1.2774,  0.6681, -0.8998],\n",
       "│                   [-0.8411, -1.3479,  0.7044],\n",
       "│                   [ 1.2774,  0.6681, -0.8998],\n",
       "│                   [-0.8411, -1.3479,  0.7044],\n",
       "│                   [ 1.2774,  0.6681, -0.8998],\n",
       "│                   [-0.8411, -1.3479,  0.7044],\n",
       "│                   [ 1.2774,  0.6681, -0.8998]])\n",
       "└── 'x' --> <FastTreeValue 0x7f50509df6a0>\n",
       "    └── 'c' --> tensor([[ 0.3307, -0.3382,  0.3005,  0.2736],\n",
       "                        [-0.2316, -0.5472, -0.9939, -0.9145],\n",
       "                        [-0.5659,  0.1798,  0.6129,  0.2731],\n",
       "                        [ 0.3307, -0.3382,  0.3005,  0.2736],\n",
       "                        [-0.2316, -0.5472, -0.9939, -0.9145],\n",
       "                        [-0.5659,  0.1798,  0.6129,  0.2731],\n",
       "                        [ 0.3307, -0.3382,  0.3005,  0.2736],\n",
       "                        [-0.2316, -0.5472, -0.9939, -0.9145],\n",
       "                        [-0.5659,  0.1798,  0.6129,  0.2731],\n",
       "                        [ 0.3307, -0.3382,  0.3005,  0.2736],\n",
       "                        [-0.2316, -0.5472, -0.9939, -0.9145],\n",
       "                        [-0.5659,  0.1798,  0.6129,  0.2731],\n",
       "                        [ 0.3307, -0.3382,  0.3005,  0.2736],\n",
       "                        [-0.2316, -0.5472, -0.9939, -0.9145],\n",
       "                        [-0.5659,  0.1798,  0.6129,  0.2731],\n",
       "                        [ 0.3307, -0.3382,  0.3005,  0.2736],\n",
       "                        [-0.2316, -0.5472, -0.9939, -0.9145],\n",
       "                        [-0.5659,  0.1798,  0.6129,  0.2731],\n",
       "                        [ 0.3307, -0.3382,  0.3005,  0.2736],\n",
       "                        [-0.2316, -0.5472, -0.9939, -0.9145],\n",
       "                        [-0.5659,  0.1798,  0.6129,  0.2731],\n",
       "                        [ 0.3307, -0.3382,  0.3005,  0.2736],\n",
       "                        [-0.2316, -0.5472, -0.9939, -0.9145],\n",
       "                        [-0.5659,  0.1798,  0.6129,  0.2731]])"
      ]
     },
     "execution_count": 22,
     "metadata": {},
     "output_type": "execute_result"
    }
   ],
   "source": [
    "t_cat = FastTreeValue.func(subside=True)(torch.cat)\n",
    "\n",
    "t_cat(trees)"
   ]
  },
  {
   "cell_type": "code",
   "execution_count": 23,
   "id": "5e9c06a6",
   "metadata": {
    "execution": {
     "iopub.execute_input": "2023-02-26T14:30:23.327377Z",
     "iopub.status.busy": "2023-02-26T14:30:23.327082Z",
     "iopub.status.idle": "2023-02-26T14:30:26.592355Z",
     "shell.execute_reply": "2023-02-26T14:30:26.591353Z"
    }
   },
   "outputs": [
    {
     "name": "stdout",
     "output_type": "stream",
     "text": [
      "40.4 µs ± 589 ns per loop (mean ± std. dev. of 7 runs, 10,000 loops each)\n"
     ]
    }
   ],
   "source": [
    "%timeit t_cat(trees)"
   ]
  },
  {
   "cell_type": "code",
   "execution_count": 24,
   "id": "a3ab5c8f",
   "metadata": {
    "execution": {
     "iopub.execute_input": "2023-02-26T14:30:26.596521Z",
     "iopub.status.busy": "2023-02-26T14:30:26.595774Z",
     "iopub.status.idle": "2023-02-26T14:30:33.153402Z",
     "shell.execute_reply": "2023-02-26T14:30:33.152259Z"
    }
   },
   "outputs": [
    {
     "name": "stdout",
     "output_type": "stream",
     "text": [
      "80.8 µs ± 1.55 µs per loop (mean ± std. dev. of 7 runs, 10,000 loops each)\n"
     ]
    }
   ],
   "source": [
    "t_split = FastTreeValue.func(rise=True)(torch.split)\n",
    "tree = FastTreeValue({\n",
    "    'obs': torch.randn(8, 4, 84, 84),\n",
    "    'action': torch.randint(0, 6, size=(8, 1,)),\n",
    "    'reward': torch.rand(8, 1),\n",
    "})\n",
    "\n",
    "%timeit t_split(tree, 1)"
   ]
  },
  {
   "cell_type": "markdown",
   "id": "31c3ec0b",
   "metadata": {},
   "source": [
    "### Performance of Tianshou Batch"
   ]
  },
  {
   "cell_type": "code",
   "execution_count": 25,
   "id": "9ead828a",
   "metadata": {
    "execution": {
     "iopub.execute_input": "2023-02-26T14:30:33.157180Z",
     "iopub.status.busy": "2023-02-26T14:30:33.156715Z",
     "iopub.status.idle": "2023-02-26T14:30:33.166704Z",
     "shell.execute_reply": "2023-02-26T14:30:33.165791Z"
    }
   },
   "outputs": [
    {
     "data": {
      "text/plain": [
       "Batch(\n",
       "    x: Batch(\n",
       "           c: tensor([[[ 0.3307, -0.3382,  0.3005,  0.2736],\n",
       "                       [-0.2316, -0.5472, -0.9939, -0.9145],\n",
       "                       [-0.5659,  0.1798,  0.6129,  0.2731]],\n",
       "              \n",
       "                      [[ 0.3307, -0.3382,  0.3005,  0.2736],\n",
       "                       [-0.2316, -0.5472, -0.9939, -0.9145],\n",
       "                       [-0.5659,  0.1798,  0.6129,  0.2731]],\n",
       "              \n",
       "                      [[ 0.3307, -0.3382,  0.3005,  0.2736],\n",
       "                       [-0.2316, -0.5472, -0.9939, -0.9145],\n",
       "                       [-0.5659,  0.1798,  0.6129,  0.2731]],\n",
       "              \n",
       "                      [[ 0.3307, -0.3382,  0.3005,  0.2736],\n",
       "                       [-0.2316, -0.5472, -0.9939, -0.9145],\n",
       "                       [-0.5659,  0.1798,  0.6129,  0.2731]],\n",
       "              \n",
       "                      [[ 0.3307, -0.3382,  0.3005,  0.2736],\n",
       "                       [-0.2316, -0.5472, -0.9939, -0.9145],\n",
       "                       [-0.5659,  0.1798,  0.6129,  0.2731]],\n",
       "              \n",
       "                      [[ 0.3307, -0.3382,  0.3005,  0.2736],\n",
       "                       [-0.2316, -0.5472, -0.9939, -0.9145],\n",
       "                       [-0.5659,  0.1798,  0.6129,  0.2731]],\n",
       "              \n",
       "                      [[ 0.3307, -0.3382,  0.3005,  0.2736],\n",
       "                       [-0.2316, -0.5472, -0.9939, -0.9145],\n",
       "                       [-0.5659,  0.1798,  0.6129,  0.2731]],\n",
       "              \n",
       "                      [[ 0.3307, -0.3382,  0.3005,  0.2736],\n",
       "                       [-0.2316, -0.5472, -0.9939, -0.9145],\n",
       "                       [-0.5659,  0.1798,  0.6129,  0.2731]]]),\n",
       "       ),\n",
       "    a: tensor([[[-0.8411, -1.3479,  0.7044],\n",
       "                [ 1.2774,  0.6681, -0.8998]],\n",
       "       \n",
       "               [[-0.8411, -1.3479,  0.7044],\n",
       "                [ 1.2774,  0.6681, -0.8998]],\n",
       "       \n",
       "               [[-0.8411, -1.3479,  0.7044],\n",
       "                [ 1.2774,  0.6681, -0.8998]],\n",
       "       \n",
       "               [[-0.8411, -1.3479,  0.7044],\n",
       "                [ 1.2774,  0.6681, -0.8998]],\n",
       "       \n",
       "               [[-0.8411, -1.3479,  0.7044],\n",
       "                [ 1.2774,  0.6681, -0.8998]],\n",
       "       \n",
       "               [[-0.8411, -1.3479,  0.7044],\n",
       "                [ 1.2774,  0.6681, -0.8998]],\n",
       "       \n",
       "               [[-0.8411, -1.3479,  0.7044],\n",
       "                [ 1.2774,  0.6681, -0.8998]],\n",
       "       \n",
       "               [[-0.8411, -1.3479,  0.7044],\n",
       "                [ 1.2774,  0.6681, -0.8998]]]),\n",
       ")"
      ]
     },
     "execution_count": 25,
     "metadata": {},
     "output_type": "execute_result"
    }
   ],
   "source": [
    "batches = [Batch(**_TREE_DATA_2) for _ in range(8)]\n",
    "\n",
    "Batch.stack(batches)"
   ]
  },
  {
   "cell_type": "code",
   "execution_count": 26,
   "id": "ec9037a3",
   "metadata": {
    "execution": {
     "iopub.execute_input": "2023-02-26T14:30:33.169979Z",
     "iopub.status.busy": "2023-02-26T14:30:33.169465Z",
     "iopub.status.idle": "2023-02-26T14:30:41.357918Z",
     "shell.execute_reply": "2023-02-26T14:30:41.356772Z"
    }
   },
   "outputs": [
    {
     "name": "stdout",
     "output_type": "stream",
     "text": [
      "101 µs ± 1.79 µs per loop (mean ± std. dev. of 7 runs, 10,000 loops each)\n"
     ]
    }
   ],
   "source": [
    "%timeit Batch.stack(batches)"
   ]
  },
  {
   "cell_type": "code",
   "execution_count": 27,
   "id": "cb8ab77e",
   "metadata": {
    "execution": {
     "iopub.execute_input": "2023-02-26T14:30:41.362098Z",
     "iopub.status.busy": "2023-02-26T14:30:41.361552Z",
     "iopub.status.idle": "2023-02-26T14:30:41.372211Z",
     "shell.execute_reply": "2023-02-26T14:30:41.371226Z"
    }
   },
   "outputs": [
    {
     "data": {
      "text/plain": [
       "Batch(\n",
       "    x: Batch(\n",
       "           c: tensor([[ 0.3307, -0.3382,  0.3005,  0.2736],\n",
       "                      [-0.2316, -0.5472, -0.9939, -0.9145],\n",
       "                      [-0.5659,  0.1798,  0.6129,  0.2731],\n",
       "                      [ 0.3307, -0.3382,  0.3005,  0.2736],\n",
       "                      [-0.2316, -0.5472, -0.9939, -0.9145],\n",
       "                      [-0.5659,  0.1798,  0.6129,  0.2731],\n",
       "                      [ 0.3307, -0.3382,  0.3005,  0.2736],\n",
       "                      [-0.2316, -0.5472, -0.9939, -0.9145],\n",
       "                      [-0.5659,  0.1798,  0.6129,  0.2731],\n",
       "                      [ 0.3307, -0.3382,  0.3005,  0.2736],\n",
       "                      [-0.2316, -0.5472, -0.9939, -0.9145],\n",
       "                      [-0.5659,  0.1798,  0.6129,  0.2731],\n",
       "                      [ 0.3307, -0.3382,  0.3005,  0.2736],\n",
       "                      [-0.2316, -0.5472, -0.9939, -0.9145],\n",
       "                      [-0.5659,  0.1798,  0.6129,  0.2731],\n",
       "                      [ 0.3307, -0.3382,  0.3005,  0.2736],\n",
       "                      [-0.2316, -0.5472, -0.9939, -0.9145],\n",
       "                      [-0.5659,  0.1798,  0.6129,  0.2731],\n",
       "                      [ 0.3307, -0.3382,  0.3005,  0.2736],\n",
       "                      [-0.2316, -0.5472, -0.9939, -0.9145],\n",
       "                      [-0.5659,  0.1798,  0.6129,  0.2731],\n",
       "                      [ 0.3307, -0.3382,  0.3005,  0.2736],\n",
       "                      [-0.2316, -0.5472, -0.9939, -0.9145],\n",
       "                      [-0.5659,  0.1798,  0.6129,  0.2731]]),\n",
       "       ),\n",
       "    a: tensor([[-0.8411, -1.3479,  0.7044],\n",
       "               [ 1.2774,  0.6681, -0.8998],\n",
       "               [-0.8411, -1.3479,  0.7044],\n",
       "               [ 1.2774,  0.6681, -0.8998],\n",
       "               [-0.8411, -1.3479,  0.7044],\n",
       "               [ 1.2774,  0.6681, -0.8998],\n",
       "               [-0.8411, -1.3479,  0.7044],\n",
       "               [ 1.2774,  0.6681, -0.8998],\n",
       "               [-0.8411, -1.3479,  0.7044],\n",
       "               [ 1.2774,  0.6681, -0.8998],\n",
       "               [-0.8411, -1.3479,  0.7044],\n",
       "               [ 1.2774,  0.6681, -0.8998],\n",
       "               [-0.8411, -1.3479,  0.7044],\n",
       "               [ 1.2774,  0.6681, -0.8998],\n",
       "               [-0.8411, -1.3479,  0.7044],\n",
       "               [ 1.2774,  0.6681, -0.8998]]),\n",
       ")"
      ]
     },
     "execution_count": 27,
     "metadata": {},
     "output_type": "execute_result"
    }
   ],
   "source": [
    "Batch.cat(batches)"
   ]
  },
  {
   "cell_type": "code",
   "execution_count": 28,
   "id": "18dfb045",
   "metadata": {
    "execution": {
     "iopub.execute_input": "2023-02-26T14:30:41.375494Z",
     "iopub.status.busy": "2023-02-26T14:30:41.375176Z",
     "iopub.status.idle": "2023-02-26T14:30:56.199162Z",
     "shell.execute_reply": "2023-02-26T14:30:56.198182Z"
    }
   },
   "outputs": [
    {
     "name": "stdout",
     "output_type": "stream",
     "text": [
      "183 µs ± 2.05 µs per loop (mean ± std. dev. of 7 runs, 10,000 loops each)\n"
     ]
    }
   ],
   "source": [
    "%timeit Batch.cat(batches)"
   ]
  },
  {
   "cell_type": "code",
   "execution_count": 29,
   "id": "c6688e51",
   "metadata": {
    "execution": {
     "iopub.execute_input": "2023-02-26T14:30:56.203316Z",
     "iopub.status.busy": "2023-02-26T14:30:56.202557Z",
     "iopub.status.idle": "2023-02-26T14:31:01.350109Z",
     "shell.execute_reply": "2023-02-26T14:31:01.349128Z"
    }
   },
   "outputs": [
    {
     "name": "stdout",
     "output_type": "stream",
     "text": [
      "632 µs ± 10.8 µs per loop (mean ± std. dev. of 7 runs, 1,000 loops each)\n"
     ]
    }
   ],
   "source": [
    "batch = Batch({\n",
    "    'obs': torch.randn(8, 4, 84, 84),\n",
    "    'action': torch.randint(0, 6, size=(8, 1,)),\n",
    "    'reward': torch.rand(8, 1)}\n",
    ")\n",
    "\n",
    "%timeit list(Batch.split(batch, 1, shuffle=False, merge_last=True))"
   ]
  },
  {
   "cell_type": "code",
   "execution_count": null,
   "id": "2539fbd9",
   "metadata": {},
   "outputs": [],
   "source": []
  }
 ],
 "metadata": {
  "kernelspec": {
   "display_name": "Python 3 (ipykernel)",
   "language": "python",
   "name": "python3"
  },
  "language_info": {
   "codemirror_mode": {
    "name": "ipython",
    "version": 3
   },
   "file_extension": ".py",
   "mimetype": "text/x-python",
   "name": "python",
   "nbconvert_exporter": "python",
   "pygments_lexer": "ipython3",
   "version": "3.8.16"
  }
 },
 "nbformat": 4,
 "nbformat_minor": 5
}
