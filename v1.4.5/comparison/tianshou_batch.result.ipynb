{
 "cells": [
  {
   "cell_type": "markdown",
   "id": "9d39d946",
   "metadata": {},
   "source": [
    "# Comparison Between TreeValue and Tianshou Batch"
   ]
  },
  {
   "cell_type": "markdown",
   "id": "3c6db2d4",
   "metadata": {},
   "source": [
    "In this section, we will take a look at the feature and performance of the [Tianshou Batch](https://github.com/thu-ml/tianshou) library, which is developed by Tsinghua Machine Learning Group."
   ]
  },
  {
   "cell_type": "markdown",
   "id": "069361b0",
   "metadata": {},
   "source": [
    "Before starting the comparison, let us define some thing."
   ]
  },
  {
   "cell_type": "code",
   "execution_count": 1,
   "id": "06fc8d26",
   "metadata": {
    "execution": {
     "iopub.execute_input": "2023-03-06T18:23:58.859858Z",
     "iopub.status.busy": "2023-03-06T18:23:58.859597Z",
     "iopub.status.idle": "2023-03-06T18:23:59.922188Z",
     "shell.execute_reply": "2023-03-06T18:23:59.921087Z"
    }
   },
   "outputs": [
    {
     "name": "stderr",
     "output_type": "stream",
     "text": [
      "/opt/hostedtoolcache/Python/3.8.16/x64/lib/python3.8/site-packages/tqdm/auto.py:21: TqdmWarning: IProgress not found. Please update jupyter and ipywidgets. See https://ipywidgets.readthedocs.io/en/stable/user_install.html\n",
      "  from .autonotebook import tqdm as notebook_tqdm\n"
     ]
    }
   ],
   "source": [
    "import torch \n",
    "\n",
    "_TREE_DATA_1 = {'a': 1, 'b': 2, 'x': {'c': 3, 'd': 4}}\n",
    "_TREE_DATA_2 = {\n",
    "    'a': torch.randn(2, 3), \n",
    "    'x': {\n",
    "        'c': torch.randn(3, 4)\n",
    "    },\n",
    "}\n",
    "_TREE_DATA_3 = {\n",
    "    'obs': torch.randn(4, 84, 84),\n",
    "    'action': torch.randint(0, 6, size=(1,)),\n",
    "    'reward': torch.rand(1),\n",
    "}"
   ]
  },
  {
   "cell_type": "markdown",
   "id": "83461b25",
   "metadata": {},
   "source": [
    "## Read and Write Operation"
   ]
  },
  {
   "cell_type": "markdown",
   "id": "067b3f73",
   "metadata": {},
   "source": [
    "Reading and writing are the two most common operations in the tree data structure based on the data model (TreeValue and Tianshou Batch both belong to this type), so this section will compare the reading and writing performance of these two libraries."
   ]
  },
  {
   "cell_type": "markdown",
   "id": "5d09a5b7",
   "metadata": {},
   "source": [
    "### TreeValue's Get and Set"
   ]
  },
  {
   "cell_type": "code",
   "execution_count": 2,
   "id": "9519c4bb",
   "metadata": {
    "execution": {
     "iopub.execute_input": "2023-03-06T18:23:59.926575Z",
     "iopub.status.busy": "2023-03-06T18:23:59.925967Z",
     "iopub.status.idle": "2023-03-06T18:23:59.965365Z",
     "shell.execute_reply": "2023-03-06T18:23:59.964333Z"
    }
   },
   "outputs": [],
   "source": [
    "from treevalue import FastTreeValue\n",
    "\n",
    "t = FastTreeValue(_TREE_DATA_2)"
   ]
  },
  {
   "cell_type": "code",
   "execution_count": 3,
   "id": "11c37677",
   "metadata": {
    "execution": {
     "iopub.execute_input": "2023-03-06T18:23:59.970093Z",
     "iopub.status.busy": "2023-03-06T18:23:59.969804Z",
     "iopub.status.idle": "2023-03-06T18:23:59.979478Z",
     "shell.execute_reply": "2023-03-06T18:23:59.978693Z"
    }
   },
   "outputs": [
    {
     "data": {
      "text/plain": [
       "<FastTreeValue 0x7f853e1f2370>\n",
       "├── 'a' --> tensor([[-0.2816, -2.4577,  0.0933],\n",
       "│                   [ 2.6291,  1.5299,  1.5452]])\n",
       "└── 'x' --> <FastTreeValue 0x7f853e1f6730>\n",
       "    └── 'c' --> tensor([[-1.7294,  0.6935,  0.1112,  1.7483],\n",
       "                        [-0.8789,  0.7195, -0.2734, -0.1402],\n",
       "                        [-0.9207, -0.3307, -0.0130, -1.1925]])"
      ]
     },
     "execution_count": 3,
     "metadata": {},
     "output_type": "execute_result"
    }
   ],
   "source": [
    "t"
   ]
  },
  {
   "cell_type": "code",
   "execution_count": 4,
   "id": "fd70b0b9",
   "metadata": {
    "execution": {
     "iopub.execute_input": "2023-03-06T18:23:59.982810Z",
     "iopub.status.busy": "2023-03-06T18:23:59.982178Z",
     "iopub.status.idle": "2023-03-06T18:23:59.988153Z",
     "shell.execute_reply": "2023-03-06T18:23:59.987357Z"
    }
   },
   "outputs": [
    {
     "data": {
      "text/plain": [
       "tensor([[-0.2816, -2.4577,  0.0933],\n",
       "        [ 2.6291,  1.5299,  1.5452]])"
      ]
     },
     "execution_count": 4,
     "metadata": {},
     "output_type": "execute_result"
    }
   ],
   "source": [
    "t.a"
   ]
  },
  {
   "cell_type": "code",
   "execution_count": 5,
   "id": "c18197bd",
   "metadata": {
    "execution": {
     "iopub.execute_input": "2023-03-06T18:23:59.991376Z",
     "iopub.status.busy": "2023-03-06T18:23:59.990770Z",
     "iopub.status.idle": "2023-03-06T18:24:05.288788Z",
     "shell.execute_reply": "2023-03-06T18:24:05.287555Z"
    }
   },
   "outputs": [
    {
     "name": "stdout",
     "output_type": "stream",
     "text": [
      "65.1 ns ± 1.75 ns per loop (mean ± std. dev. of 7 runs, 10,000,000 loops each)\n"
     ]
    }
   ],
   "source": [
    "%timeit t.a"
   ]
  },
  {
   "cell_type": "code",
   "execution_count": 6,
   "id": "bd52f867",
   "metadata": {
    "execution": {
     "iopub.execute_input": "2023-03-06T18:24:05.292605Z",
     "iopub.status.busy": "2023-03-06T18:24:05.292103Z",
     "iopub.status.idle": "2023-03-06T18:24:05.299418Z",
     "shell.execute_reply": "2023-03-06T18:24:05.298784Z"
    }
   },
   "outputs": [
    {
     "data": {
      "text/plain": [
       "<FastTreeValue 0x7f853e1f2370>\n",
       "├── 'a' --> tensor([[-0.0540,  0.1353, -1.3525],\n",
       "│                   [ 0.5439, -0.5441, -0.5670]])\n",
       "└── 'x' --> <FastTreeValue 0x7f853e1f6730>\n",
       "    └── 'c' --> tensor([[-1.7294,  0.6935,  0.1112,  1.7483],\n",
       "                        [-0.8789,  0.7195, -0.2734, -0.1402],\n",
       "                        [-0.9207, -0.3307, -0.0130, -1.1925]])"
      ]
     },
     "execution_count": 6,
     "metadata": {},
     "output_type": "execute_result"
    }
   ],
   "source": [
    "new_value = torch.randn(2, 3)\n",
    "t.a = new_value\n",
    "\n",
    "t"
   ]
  },
  {
   "cell_type": "code",
   "execution_count": 7,
   "id": "bbe04d1c",
   "metadata": {
    "execution": {
     "iopub.execute_input": "2023-03-06T18:24:05.302703Z",
     "iopub.status.busy": "2023-03-06T18:24:05.302207Z",
     "iopub.status.idle": "2023-03-06T18:24:10.899711Z",
     "shell.execute_reply": "2023-03-06T18:24:10.897810Z"
    }
   },
   "outputs": [
    {
     "name": "stdout",
     "output_type": "stream",
     "text": [
      "69.2 ns ± 2.47 ns per loop (mean ± std. dev. of 7 runs, 10,000,000 loops each)\n"
     ]
    }
   ],
   "source": [
    "%timeit t.a = new_value"
   ]
  },
  {
   "cell_type": "markdown",
   "id": "48c49731",
   "metadata": {},
   "source": [
    "### Tianshou Batch's Get and Set"
   ]
  },
  {
   "cell_type": "code",
   "execution_count": 8,
   "id": "f1bb14c1",
   "metadata": {
    "execution": {
     "iopub.execute_input": "2023-03-06T18:24:10.904202Z",
     "iopub.status.busy": "2023-03-06T18:24:10.903776Z",
     "iopub.status.idle": "2023-03-06T18:24:11.273975Z",
     "shell.execute_reply": "2023-03-06T18:24:11.272918Z"
    }
   },
   "outputs": [],
   "source": [
    "from tianshou.data import Batch\n",
    "\n",
    "b = Batch(**_TREE_DATA_2)"
   ]
  },
  {
   "cell_type": "code",
   "execution_count": 9,
   "id": "cb0777c3",
   "metadata": {
    "execution": {
     "iopub.execute_input": "2023-03-06T18:24:11.278832Z",
     "iopub.status.busy": "2023-03-06T18:24:11.277975Z",
     "iopub.status.idle": "2023-03-06T18:24:11.286151Z",
     "shell.execute_reply": "2023-03-06T18:24:11.285445Z"
    }
   },
   "outputs": [
    {
     "data": {
      "text/plain": [
       "Batch(\n",
       "    a: tensor([[-0.2816, -2.4577,  0.0933],\n",
       "               [ 2.6291,  1.5299,  1.5452]]),\n",
       "    x: Batch(\n",
       "           c: tensor([[-1.7294,  0.6935,  0.1112,  1.7483],\n",
       "                      [-0.8789,  0.7195, -0.2734, -0.1402],\n",
       "                      [-0.9207, -0.3307, -0.0130, -1.1925]]),\n",
       "       ),\n",
       ")"
      ]
     },
     "execution_count": 9,
     "metadata": {},
     "output_type": "execute_result"
    }
   ],
   "source": [
    "b"
   ]
  },
  {
   "cell_type": "code",
   "execution_count": 10,
   "id": "43ef8ea3",
   "metadata": {
    "execution": {
     "iopub.execute_input": "2023-03-06T18:24:11.289452Z",
     "iopub.status.busy": "2023-03-06T18:24:11.288849Z",
     "iopub.status.idle": "2023-03-06T18:24:11.295751Z",
     "shell.execute_reply": "2023-03-06T18:24:11.295105Z"
    }
   },
   "outputs": [
    {
     "data": {
      "text/plain": [
       "tensor([[-0.2816, -2.4577,  0.0933],\n",
       "        [ 2.6291,  1.5299,  1.5452]])"
      ]
     },
     "execution_count": 10,
     "metadata": {},
     "output_type": "execute_result"
    }
   ],
   "source": [
    "b.a"
   ]
  },
  {
   "cell_type": "code",
   "execution_count": 11,
   "id": "b785ab72",
   "metadata": {
    "execution": {
     "iopub.execute_input": "2023-03-06T18:24:11.298889Z",
     "iopub.status.busy": "2023-03-06T18:24:11.298507Z",
     "iopub.status.idle": "2023-03-06T18:24:16.059366Z",
     "shell.execute_reply": "2023-03-06T18:24:16.058500Z"
    }
   },
   "outputs": [
    {
     "name": "stdout",
     "output_type": "stream",
     "text": [
      "58.3 ns ± 0.209 ns per loop (mean ± std. dev. of 7 runs, 10,000,000 loops each)\n"
     ]
    }
   ],
   "source": [
    "%timeit b.a"
   ]
  },
  {
   "cell_type": "code",
   "execution_count": 12,
   "id": "ad54dc69",
   "metadata": {
    "execution": {
     "iopub.execute_input": "2023-03-06T18:24:16.062903Z",
     "iopub.status.busy": "2023-03-06T18:24:16.062341Z",
     "iopub.status.idle": "2023-03-06T18:24:16.069723Z",
     "shell.execute_reply": "2023-03-06T18:24:16.069045Z"
    }
   },
   "outputs": [
    {
     "data": {
      "text/plain": [
       "Batch(\n",
       "    a: tensor([[-0.0609, -0.1289,  0.1253],\n",
       "               [-0.3393, -0.1913, -0.7988]]),\n",
       "    x: Batch(\n",
       "           c: tensor([[-1.7294,  0.6935,  0.1112,  1.7483],\n",
       "                      [-0.8789,  0.7195, -0.2734, -0.1402],\n",
       "                      [-0.9207, -0.3307, -0.0130, -1.1925]]),\n",
       "       ),\n",
       ")"
      ]
     },
     "execution_count": 12,
     "metadata": {},
     "output_type": "execute_result"
    }
   ],
   "source": [
    "new_value = torch.randn(2, 3)\n",
    "b.a = new_value\n",
    "\n",
    "b"
   ]
  },
  {
   "cell_type": "code",
   "execution_count": 13,
   "id": "29b1d0bf",
   "metadata": {
    "execution": {
     "iopub.execute_input": "2023-03-06T18:24:16.072884Z",
     "iopub.status.busy": "2023-03-06T18:24:16.072479Z",
     "iopub.status.idle": "2023-03-06T18:24:20.226876Z",
     "shell.execute_reply": "2023-03-06T18:24:20.225623Z"
    }
   },
   "outputs": [
    {
     "name": "stdout",
     "output_type": "stream",
     "text": [
      "514 ns ± 14.7 ns per loop (mean ± std. dev. of 7 runs, 1,000,000 loops each)\n"
     ]
    }
   ],
   "source": [
    "%timeit b.a = new_value"
   ]
  },
  {
   "cell_type": "markdown",
   "id": "b61ad1d0",
   "metadata": {},
   "source": [
    "## Initialization"
   ]
  },
  {
   "cell_type": "markdown",
   "id": "d70f0d54",
   "metadata": {},
   "source": [
    "### TreeValue's Initialization"
   ]
  },
  {
   "cell_type": "code",
   "execution_count": 14,
   "id": "d32a679b",
   "metadata": {
    "execution": {
     "iopub.execute_input": "2023-03-06T18:24:20.230306Z",
     "iopub.status.busy": "2023-03-06T18:24:20.229841Z",
     "iopub.status.idle": "2023-03-06T18:24:27.353616Z",
     "shell.execute_reply": "2023-03-06T18:24:27.352248Z"
    }
   },
   "outputs": [
    {
     "name": "stdout",
     "output_type": "stream",
     "text": [
      "884 ns ± 8.75 ns per loop (mean ± std. dev. of 7 runs, 1,000,000 loops each)\n"
     ]
    }
   ],
   "source": [
    "%timeit FastTreeValue(_TREE_DATA_1)"
   ]
  },
  {
   "cell_type": "markdown",
   "id": "24f3707b",
   "metadata": {},
   "source": [
    "### Tianshou Batch's Initialization"
   ]
  },
  {
   "cell_type": "code",
   "execution_count": 15,
   "id": "ac3958df",
   "metadata": {
    "execution": {
     "iopub.execute_input": "2023-03-06T18:24:27.358251Z",
     "iopub.status.busy": "2023-03-06T18:24:27.357531Z",
     "iopub.status.idle": "2023-03-06T18:24:36.120694Z",
     "shell.execute_reply": "2023-03-06T18:24:36.119194Z"
    }
   },
   "outputs": [
    {
     "name": "stdout",
     "output_type": "stream",
     "text": [
      "10.7 µs ± 488 ns per loop (mean ± std. dev. of 7 runs, 100,000 loops each)\n"
     ]
    }
   ],
   "source": [
    "%timeit Batch(**_TREE_DATA_1)"
   ]
  },
  {
   "cell_type": "markdown",
   "id": "1ab82e2d",
   "metadata": {},
   "source": [
    "## Deep Copy Operation"
   ]
  },
  {
   "cell_type": "code",
   "execution_count": 16,
   "id": "210a9442",
   "metadata": {
    "execution": {
     "iopub.execute_input": "2023-03-06T18:24:36.124615Z",
     "iopub.status.busy": "2023-03-06T18:24:36.124168Z",
     "iopub.status.idle": "2023-03-06T18:24:36.129155Z",
     "shell.execute_reply": "2023-03-06T18:24:36.128482Z"
    }
   },
   "outputs": [],
   "source": [
    "import copy"
   ]
  },
  {
   "cell_type": "markdown",
   "id": "5a736274",
   "metadata": {},
   "source": [
    "### Deep Copy of TreeValue"
   ]
  },
  {
   "cell_type": "code",
   "execution_count": 17,
   "id": "f9bcadd6",
   "metadata": {
    "execution": {
     "iopub.execute_input": "2023-03-06T18:24:36.132237Z",
     "iopub.status.busy": "2023-03-06T18:24:36.131661Z",
     "iopub.status.idle": "2023-03-06T18:24:48.470342Z",
     "shell.execute_reply": "2023-03-06T18:24:48.469694Z"
    }
   },
   "outputs": [
    {
     "name": "stdout",
     "output_type": "stream",
     "text": [
      "152 µs ± 2.42 µs per loop (mean ± std. dev. of 7 runs, 10,000 loops each)\n"
     ]
    }
   ],
   "source": [
    "t3 = FastTreeValue(_TREE_DATA_3)\n",
    "%timeit copy.deepcopy(t3)"
   ]
  },
  {
   "cell_type": "markdown",
   "id": "bf8be7ea",
   "metadata": {},
   "source": [
    "### Deep Copy of Tianshou Batch"
   ]
  },
  {
   "cell_type": "code",
   "execution_count": 18,
   "id": "91998e6f",
   "metadata": {
    "execution": {
     "iopub.execute_input": "2023-03-06T18:24:48.473379Z",
     "iopub.status.busy": "2023-03-06T18:24:48.472973Z",
     "iopub.status.idle": "2023-03-06T18:25:00.675106Z",
     "shell.execute_reply": "2023-03-06T18:25:00.674442Z"
    }
   },
   "outputs": [
    {
     "name": "stdout",
     "output_type": "stream",
     "text": [
      "151 µs ± 2.53 µs per loop (mean ± std. dev. of 7 runs, 10,000 loops each)\n"
     ]
    }
   ],
   "source": [
    "b3 = Batch(**_TREE_DATA_3)\n",
    "%timeit copy.deepcopy(b3)"
   ]
  },
  {
   "cell_type": "markdown",
   "id": "223162fb",
   "metadata": {},
   "source": [
    "## Stack, Concat and Split Operation"
   ]
  },
  {
   "cell_type": "markdown",
   "id": "85fa4a73",
   "metadata": {},
   "source": [
    "### Performance of TreeValue"
   ]
  },
  {
   "cell_type": "code",
   "execution_count": 19,
   "id": "a0c2b697",
   "metadata": {
    "execution": {
     "iopub.execute_input": "2023-03-06T18:25:00.678584Z",
     "iopub.status.busy": "2023-03-06T18:25:00.678094Z",
     "iopub.status.idle": "2023-03-06T18:25:00.681492Z",
     "shell.execute_reply": "2023-03-06T18:25:00.680823Z"
    }
   },
   "outputs": [],
   "source": [
    "trees = [FastTreeValue(_TREE_DATA_2) for _ in range(8)]"
   ]
  },
  {
   "cell_type": "code",
   "execution_count": 20,
   "id": "017ea5a5",
   "metadata": {
    "execution": {
     "iopub.execute_input": "2023-03-06T18:25:00.684356Z",
     "iopub.status.busy": "2023-03-06T18:25:00.683917Z",
     "iopub.status.idle": "2023-03-06T18:25:00.691858Z",
     "shell.execute_reply": "2023-03-06T18:25:00.691277Z"
    }
   },
   "outputs": [
    {
     "data": {
      "text/plain": [
       "<FastTreeValue 0x7f851064d820>\n",
       "├── 'a' --> tensor([[[-0.2816, -2.4577,  0.0933],\n",
       "│                    [ 2.6291,  1.5299,  1.5452]],\n",
       "│           \n",
       "│                   [[-0.2816, -2.4577,  0.0933],\n",
       "│                    [ 2.6291,  1.5299,  1.5452]],\n",
       "│           \n",
       "│                   [[-0.2816, -2.4577,  0.0933],\n",
       "│                    [ 2.6291,  1.5299,  1.5452]],\n",
       "│           \n",
       "│                   [[-0.2816, -2.4577,  0.0933],\n",
       "│                    [ 2.6291,  1.5299,  1.5452]],\n",
       "│           \n",
       "│                   [[-0.2816, -2.4577,  0.0933],\n",
       "│                    [ 2.6291,  1.5299,  1.5452]],\n",
       "│           \n",
       "│                   [[-0.2816, -2.4577,  0.0933],\n",
       "│                    [ 2.6291,  1.5299,  1.5452]],\n",
       "│           \n",
       "│                   [[-0.2816, -2.4577,  0.0933],\n",
       "│                    [ 2.6291,  1.5299,  1.5452]],\n",
       "│           \n",
       "│                   [[-0.2816, -2.4577,  0.0933],\n",
       "│                    [ 2.6291,  1.5299,  1.5452]]])\n",
       "└── 'x' --> <FastTreeValue 0x7f851064df40>\n",
       "    └── 'c' --> tensor([[[-1.7294,  0.6935,  0.1112,  1.7483],\n",
       "                         [-0.8789,  0.7195, -0.2734, -0.1402],\n",
       "                         [-0.9207, -0.3307, -0.0130, -1.1925]],\n",
       "                \n",
       "                        [[-1.7294,  0.6935,  0.1112,  1.7483],\n",
       "                         [-0.8789,  0.7195, -0.2734, -0.1402],\n",
       "                         [-0.9207, -0.3307, -0.0130, -1.1925]],\n",
       "                \n",
       "                        [[-1.7294,  0.6935,  0.1112,  1.7483],\n",
       "                         [-0.8789,  0.7195, -0.2734, -0.1402],\n",
       "                         [-0.9207, -0.3307, -0.0130, -1.1925]],\n",
       "                \n",
       "                        [[-1.7294,  0.6935,  0.1112,  1.7483],\n",
       "                         [-0.8789,  0.7195, -0.2734, -0.1402],\n",
       "                         [-0.9207, -0.3307, -0.0130, -1.1925]],\n",
       "                \n",
       "                        [[-1.7294,  0.6935,  0.1112,  1.7483],\n",
       "                         [-0.8789,  0.7195, -0.2734, -0.1402],\n",
       "                         [-0.9207, -0.3307, -0.0130, -1.1925]],\n",
       "                \n",
       "                        [[-1.7294,  0.6935,  0.1112,  1.7483],\n",
       "                         [-0.8789,  0.7195, -0.2734, -0.1402],\n",
       "                         [-0.9207, -0.3307, -0.0130, -1.1925]],\n",
       "                \n",
       "                        [[-1.7294,  0.6935,  0.1112,  1.7483],\n",
       "                         [-0.8789,  0.7195, -0.2734, -0.1402],\n",
       "                         [-0.9207, -0.3307, -0.0130, -1.1925]],\n",
       "                \n",
       "                        [[-1.7294,  0.6935,  0.1112,  1.7483],\n",
       "                         [-0.8789,  0.7195, -0.2734, -0.1402],\n",
       "                         [-0.9207, -0.3307, -0.0130, -1.1925]]])"
      ]
     },
     "execution_count": 20,
     "metadata": {},
     "output_type": "execute_result"
    }
   ],
   "source": [
    "t_stack = FastTreeValue.func(subside=True)(torch.stack)\n",
    "\n",
    "t_stack(trees)"
   ]
  },
  {
   "cell_type": "code",
   "execution_count": 21,
   "id": "f8b3f415",
   "metadata": {
    "execution": {
     "iopub.execute_input": "2023-03-06T18:25:00.694917Z",
     "iopub.status.busy": "2023-03-06T18:25:00.694474Z",
     "iopub.status.idle": "2023-03-06T18:25:03.264832Z",
     "shell.execute_reply": "2023-03-06T18:25:03.263567Z"
    }
   },
   "outputs": [
    {
     "name": "stdout",
     "output_type": "stream",
     "text": [
      "31.6 µs ± 359 ns per loop (mean ± std. dev. of 7 runs, 10,000 loops each)\n"
     ]
    }
   ],
   "source": [
    "%timeit t_stack(trees)"
   ]
  },
  {
   "cell_type": "code",
   "execution_count": 22,
   "id": "94b56771",
   "metadata": {
    "execution": {
     "iopub.execute_input": "2023-03-06T18:25:03.268928Z",
     "iopub.status.busy": "2023-03-06T18:25:03.268374Z",
     "iopub.status.idle": "2023-03-06T18:25:03.276817Z",
     "shell.execute_reply": "2023-03-06T18:25:03.276117Z"
    }
   },
   "outputs": [
    {
     "data": {
      "text/plain": [
       "<FastTreeValue 0x7f848f4dd190>\n",
       "├── 'a' --> tensor([[-0.2816, -2.4577,  0.0933],\n",
       "│                   [ 2.6291,  1.5299,  1.5452],\n",
       "│                   [-0.2816, -2.4577,  0.0933],\n",
       "│                   [ 2.6291,  1.5299,  1.5452],\n",
       "│                   [-0.2816, -2.4577,  0.0933],\n",
       "│                   [ 2.6291,  1.5299,  1.5452],\n",
       "│                   [-0.2816, -2.4577,  0.0933],\n",
       "│                   [ 2.6291,  1.5299,  1.5452],\n",
       "│                   [-0.2816, -2.4577,  0.0933],\n",
       "│                   [ 2.6291,  1.5299,  1.5452],\n",
       "│                   [-0.2816, -2.4577,  0.0933],\n",
       "│                   [ 2.6291,  1.5299,  1.5452],\n",
       "│                   [-0.2816, -2.4577,  0.0933],\n",
       "│                   [ 2.6291,  1.5299,  1.5452],\n",
       "│                   [-0.2816, -2.4577,  0.0933],\n",
       "│                   [ 2.6291,  1.5299,  1.5452]])\n",
       "└── 'x' --> <FastTreeValue 0x7f85108620a0>\n",
       "    └── 'c' --> tensor([[-1.7294,  0.6935,  0.1112,  1.7483],\n",
       "                        [-0.8789,  0.7195, -0.2734, -0.1402],\n",
       "                        [-0.9207, -0.3307, -0.0130, -1.1925],\n",
       "                        [-1.7294,  0.6935,  0.1112,  1.7483],\n",
       "                        [-0.8789,  0.7195, -0.2734, -0.1402],\n",
       "                        [-0.9207, -0.3307, -0.0130, -1.1925],\n",
       "                        [-1.7294,  0.6935,  0.1112,  1.7483],\n",
       "                        [-0.8789,  0.7195, -0.2734, -0.1402],\n",
       "                        [-0.9207, -0.3307, -0.0130, -1.1925],\n",
       "                        [-1.7294,  0.6935,  0.1112,  1.7483],\n",
       "                        [-0.8789,  0.7195, -0.2734, -0.1402],\n",
       "                        [-0.9207, -0.3307, -0.0130, -1.1925],\n",
       "                        [-1.7294,  0.6935,  0.1112,  1.7483],\n",
       "                        [-0.8789,  0.7195, -0.2734, -0.1402],\n",
       "                        [-0.9207, -0.3307, -0.0130, -1.1925],\n",
       "                        [-1.7294,  0.6935,  0.1112,  1.7483],\n",
       "                        [-0.8789,  0.7195, -0.2734, -0.1402],\n",
       "                        [-0.9207, -0.3307, -0.0130, -1.1925],\n",
       "                        [-1.7294,  0.6935,  0.1112,  1.7483],\n",
       "                        [-0.8789,  0.7195, -0.2734, -0.1402],\n",
       "                        [-0.9207, -0.3307, -0.0130, -1.1925],\n",
       "                        [-1.7294,  0.6935,  0.1112,  1.7483],\n",
       "                        [-0.8789,  0.7195, -0.2734, -0.1402],\n",
       "                        [-0.9207, -0.3307, -0.0130, -1.1925]])"
      ]
     },
     "execution_count": 22,
     "metadata": {},
     "output_type": "execute_result"
    }
   ],
   "source": [
    "t_cat = FastTreeValue.func(subside=True)(torch.cat)\n",
    "\n",
    "t_cat(trees)"
   ]
  },
  {
   "cell_type": "code",
   "execution_count": 23,
   "id": "5e9c06a6",
   "metadata": {
    "execution": {
     "iopub.execute_input": "2023-03-06T18:25:03.279512Z",
     "iopub.status.busy": "2023-03-06T18:25:03.279152Z",
     "iopub.status.idle": "2023-03-06T18:25:05.822166Z",
     "shell.execute_reply": "2023-03-06T18:25:05.821297Z"
    }
   },
   "outputs": [
    {
     "name": "stdout",
     "output_type": "stream",
     "text": [
      "31.3 µs ± 1.95 µs per loop (mean ± std. dev. of 7 runs, 10,000 loops each)\n"
     ]
    }
   ],
   "source": [
    "%timeit t_cat(trees)"
   ]
  },
  {
   "cell_type": "code",
   "execution_count": 24,
   "id": "a3ab5c8f",
   "metadata": {
    "execution": {
     "iopub.execute_input": "2023-03-06T18:25:05.826129Z",
     "iopub.status.busy": "2023-03-06T18:25:05.825724Z",
     "iopub.status.idle": "2023-03-06T18:25:10.609820Z",
     "shell.execute_reply": "2023-03-06T18:25:10.608776Z"
    }
   },
   "outputs": [
    {
     "name": "stdout",
     "output_type": "stream",
     "text": [
      "58.6 µs ± 1.83 µs per loop (mean ± std. dev. of 7 runs, 10,000 loops each)\n"
     ]
    }
   ],
   "source": [
    "t_split = FastTreeValue.func(rise=True)(torch.split)\n",
    "tree = FastTreeValue({\n",
    "    'obs': torch.randn(8, 4, 84, 84),\n",
    "    'action': torch.randint(0, 6, size=(8, 1,)),\n",
    "    'reward': torch.rand(8, 1),\n",
    "})\n",
    "\n",
    "%timeit t_split(tree, 1)"
   ]
  },
  {
   "cell_type": "markdown",
   "id": "31c3ec0b",
   "metadata": {},
   "source": [
    "### Performance of Tianshou Batch"
   ]
  },
  {
   "cell_type": "code",
   "execution_count": 25,
   "id": "9ead828a",
   "metadata": {
    "execution": {
     "iopub.execute_input": "2023-03-06T18:25:10.613486Z",
     "iopub.status.busy": "2023-03-06T18:25:10.612922Z",
     "iopub.status.idle": "2023-03-06T18:25:10.621878Z",
     "shell.execute_reply": "2023-03-06T18:25:10.621222Z"
    }
   },
   "outputs": [
    {
     "data": {
      "text/plain": [
       "Batch(\n",
       "    a: tensor([[[-0.2816, -2.4577,  0.0933],\n",
       "                [ 2.6291,  1.5299,  1.5452]],\n",
       "       \n",
       "               [[-0.2816, -2.4577,  0.0933],\n",
       "                [ 2.6291,  1.5299,  1.5452]],\n",
       "       \n",
       "               [[-0.2816, -2.4577,  0.0933],\n",
       "                [ 2.6291,  1.5299,  1.5452]],\n",
       "       \n",
       "               [[-0.2816, -2.4577,  0.0933],\n",
       "                [ 2.6291,  1.5299,  1.5452]],\n",
       "       \n",
       "               [[-0.2816, -2.4577,  0.0933],\n",
       "                [ 2.6291,  1.5299,  1.5452]],\n",
       "       \n",
       "               [[-0.2816, -2.4577,  0.0933],\n",
       "                [ 2.6291,  1.5299,  1.5452]],\n",
       "       \n",
       "               [[-0.2816, -2.4577,  0.0933],\n",
       "                [ 2.6291,  1.5299,  1.5452]],\n",
       "       \n",
       "               [[-0.2816, -2.4577,  0.0933],\n",
       "                [ 2.6291,  1.5299,  1.5452]]]),\n",
       "    x: Batch(\n",
       "           c: tensor([[[-1.7294,  0.6935,  0.1112,  1.7483],\n",
       "                       [-0.8789,  0.7195, -0.2734, -0.1402],\n",
       "                       [-0.9207, -0.3307, -0.0130, -1.1925]],\n",
       "              \n",
       "                      [[-1.7294,  0.6935,  0.1112,  1.7483],\n",
       "                       [-0.8789,  0.7195, -0.2734, -0.1402],\n",
       "                       [-0.9207, -0.3307, -0.0130, -1.1925]],\n",
       "              \n",
       "                      [[-1.7294,  0.6935,  0.1112,  1.7483],\n",
       "                       [-0.8789,  0.7195, -0.2734, -0.1402],\n",
       "                       [-0.9207, -0.3307, -0.0130, -1.1925]],\n",
       "              \n",
       "                      [[-1.7294,  0.6935,  0.1112,  1.7483],\n",
       "                       [-0.8789,  0.7195, -0.2734, -0.1402],\n",
       "                       [-0.9207, -0.3307, -0.0130, -1.1925]],\n",
       "              \n",
       "                      [[-1.7294,  0.6935,  0.1112,  1.7483],\n",
       "                       [-0.8789,  0.7195, -0.2734, -0.1402],\n",
       "                       [-0.9207, -0.3307, -0.0130, -1.1925]],\n",
       "              \n",
       "                      [[-1.7294,  0.6935,  0.1112,  1.7483],\n",
       "                       [-0.8789,  0.7195, -0.2734, -0.1402],\n",
       "                       [-0.9207, -0.3307, -0.0130, -1.1925]],\n",
       "              \n",
       "                      [[-1.7294,  0.6935,  0.1112,  1.7483],\n",
       "                       [-0.8789,  0.7195, -0.2734, -0.1402],\n",
       "                       [-0.9207, -0.3307, -0.0130, -1.1925]],\n",
       "              \n",
       "                      [[-1.7294,  0.6935,  0.1112,  1.7483],\n",
       "                       [-0.8789,  0.7195, -0.2734, -0.1402],\n",
       "                       [-0.9207, -0.3307, -0.0130, -1.1925]]]),\n",
       "       ),\n",
       ")"
      ]
     },
     "execution_count": 25,
     "metadata": {},
     "output_type": "execute_result"
    }
   ],
   "source": [
    "batches = [Batch(**_TREE_DATA_2) for _ in range(8)]\n",
    "\n",
    "Batch.stack(batches)"
   ]
  },
  {
   "cell_type": "code",
   "execution_count": 26,
   "id": "ec9037a3",
   "metadata": {
    "execution": {
     "iopub.execute_input": "2023-03-06T18:25:10.624827Z",
     "iopub.status.busy": "2023-03-06T18:25:10.624351Z",
     "iopub.status.idle": "2023-03-06T18:25:17.094589Z",
     "shell.execute_reply": "2023-03-06T18:25:17.093276Z"
    }
   },
   "outputs": [
    {
     "name": "stdout",
     "output_type": "stream",
     "text": [
      "79.4 µs ± 955 ns per loop (mean ± std. dev. of 7 runs, 10,000 loops each)\n"
     ]
    }
   ],
   "source": [
    "%timeit Batch.stack(batches)"
   ]
  },
  {
   "cell_type": "code",
   "execution_count": 27,
   "id": "cb8ab77e",
   "metadata": {
    "execution": {
     "iopub.execute_input": "2023-03-06T18:25:17.098574Z",
     "iopub.status.busy": "2023-03-06T18:25:17.098117Z",
     "iopub.status.idle": "2023-03-06T18:25:17.106205Z",
     "shell.execute_reply": "2023-03-06T18:25:17.105515Z"
    }
   },
   "outputs": [
    {
     "data": {
      "text/plain": [
       "Batch(\n",
       "    a: tensor([[-0.2816, -2.4577,  0.0933],\n",
       "               [ 2.6291,  1.5299,  1.5452],\n",
       "               [-0.2816, -2.4577,  0.0933],\n",
       "               [ 2.6291,  1.5299,  1.5452],\n",
       "               [-0.2816, -2.4577,  0.0933],\n",
       "               [ 2.6291,  1.5299,  1.5452],\n",
       "               [-0.2816, -2.4577,  0.0933],\n",
       "               [ 2.6291,  1.5299,  1.5452],\n",
       "               [-0.2816, -2.4577,  0.0933],\n",
       "               [ 2.6291,  1.5299,  1.5452],\n",
       "               [-0.2816, -2.4577,  0.0933],\n",
       "               [ 2.6291,  1.5299,  1.5452],\n",
       "               [-0.2816, -2.4577,  0.0933],\n",
       "               [ 2.6291,  1.5299,  1.5452],\n",
       "               [-0.2816, -2.4577,  0.0933],\n",
       "               [ 2.6291,  1.5299,  1.5452]]),\n",
       "    x: Batch(\n",
       "           c: tensor([[-1.7294,  0.6935,  0.1112,  1.7483],\n",
       "                      [-0.8789,  0.7195, -0.2734, -0.1402],\n",
       "                      [-0.9207, -0.3307, -0.0130, -1.1925],\n",
       "                      [-1.7294,  0.6935,  0.1112,  1.7483],\n",
       "                      [-0.8789,  0.7195, -0.2734, -0.1402],\n",
       "                      [-0.9207, -0.3307, -0.0130, -1.1925],\n",
       "                      [-1.7294,  0.6935,  0.1112,  1.7483],\n",
       "                      [-0.8789,  0.7195, -0.2734, -0.1402],\n",
       "                      [-0.9207, -0.3307, -0.0130, -1.1925],\n",
       "                      [-1.7294,  0.6935,  0.1112,  1.7483],\n",
       "                      [-0.8789,  0.7195, -0.2734, -0.1402],\n",
       "                      [-0.9207, -0.3307, -0.0130, -1.1925],\n",
       "                      [-1.7294,  0.6935,  0.1112,  1.7483],\n",
       "                      [-0.8789,  0.7195, -0.2734, -0.1402],\n",
       "                      [-0.9207, -0.3307, -0.0130, -1.1925],\n",
       "                      [-1.7294,  0.6935,  0.1112,  1.7483],\n",
       "                      [-0.8789,  0.7195, -0.2734, -0.1402],\n",
       "                      [-0.9207, -0.3307, -0.0130, -1.1925],\n",
       "                      [-1.7294,  0.6935,  0.1112,  1.7483],\n",
       "                      [-0.8789,  0.7195, -0.2734, -0.1402],\n",
       "                      [-0.9207, -0.3307, -0.0130, -1.1925],\n",
       "                      [-1.7294,  0.6935,  0.1112,  1.7483],\n",
       "                      [-0.8789,  0.7195, -0.2734, -0.1402],\n",
       "                      [-0.9207, -0.3307, -0.0130, -1.1925]]),\n",
       "       ),\n",
       ")"
      ]
     },
     "execution_count": 27,
     "metadata": {},
     "output_type": "execute_result"
    }
   ],
   "source": [
    "Batch.cat(batches)"
   ]
  },
  {
   "cell_type": "code",
   "execution_count": 28,
   "id": "18dfb045",
   "metadata": {
    "execution": {
     "iopub.execute_input": "2023-03-06T18:25:17.109318Z",
     "iopub.status.busy": "2023-03-06T18:25:17.108912Z",
     "iopub.status.idle": "2023-03-06T18:25:28.963947Z",
     "shell.execute_reply": "2023-03-06T18:25:28.962872Z"
    }
   },
   "outputs": [
    {
     "name": "stdout",
     "output_type": "stream",
     "text": [
      "146 µs ± 3.54 µs per loop (mean ± std. dev. of 7 runs, 10,000 loops each)\n"
     ]
    }
   ],
   "source": [
    "%timeit Batch.cat(batches)"
   ]
  },
  {
   "cell_type": "code",
   "execution_count": 29,
   "id": "c6688e51",
   "metadata": {
    "execution": {
     "iopub.execute_input": "2023-03-06T18:25:28.968229Z",
     "iopub.status.busy": "2023-03-06T18:25:28.967506Z",
     "iopub.status.idle": "2023-03-06T18:25:31.729721Z",
     "shell.execute_reply": "2023-03-06T18:25:31.728990Z"
    }
   },
   "outputs": [
    {
     "name": "stdout",
     "output_type": "stream",
     "text": [
      "340 µs ± 7.76 µs per loop (mean ± std. dev. of 7 runs, 1,000 loops each)\n"
     ]
    }
   ],
   "source": [
    "batch = Batch({\n",
    "    'obs': torch.randn(8, 4, 84, 84),\n",
    "    'action': torch.randint(0, 6, size=(8, 1,)),\n",
    "    'reward': torch.rand(8, 1)}\n",
    ")\n",
    "\n",
    "%timeit list(Batch.split(batch, 1, shuffle=False, merge_last=True))"
   ]
  },
  {
   "cell_type": "code",
   "execution_count": null,
   "id": "2539fbd9",
   "metadata": {},
   "outputs": [],
   "source": []
  }
 ],
 "metadata": {
  "kernelspec": {
   "display_name": "Python 3 (ipykernel)",
   "language": "python",
   "name": "python3"
  },
  "language_info": {
   "codemirror_mode": {
    "name": "ipython",
    "version": 3
   },
   "file_extension": ".py",
   "mimetype": "text/x-python",
   "name": "python",
   "nbconvert_exporter": "python",
   "pygments_lexer": "ipython3",
   "version": "3.8.16"
  }
 },
 "nbformat": 4,
 "nbformat_minor": 5
}
