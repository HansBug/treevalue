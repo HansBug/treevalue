{
 "cells": [
  {
   "cell_type": "markdown",
   "id": "9d39d946",
   "metadata": {},
   "source": [
    "# Comparison Between TreeValue and Tianshou Batch"
   ]
  },
  {
   "cell_type": "markdown",
   "id": "3c6db2d4",
   "metadata": {},
   "source": [
    "In this section, we will take a look at the feature and performance of the [Tianshou Batch](https://github.com/thu-ml/tianshou) library, which is developed by Tsinghua Machine Learning Group."
   ]
  },
  {
   "cell_type": "markdown",
   "id": "069361b0",
   "metadata": {},
   "source": [
    "Before starting the comparison, let us define some thing."
   ]
  },
  {
   "cell_type": "code",
   "execution_count": 1,
   "id": "06fc8d26",
   "metadata": {
    "execution": {
     "iopub.execute_input": "2023-02-25T06:23:55.478124Z",
     "iopub.status.busy": "2023-02-25T06:23:55.477726Z",
     "iopub.status.idle": "2023-02-25T06:23:56.404683Z",
     "shell.execute_reply": "2023-02-25T06:23:56.403982Z"
    }
   },
   "outputs": [
    {
     "name": "stderr",
     "output_type": "stream",
     "text": [
      "/opt/hostedtoolcache/Python/3.8.16/x64/lib/python3.8/site-packages/tqdm/auto.py:22: TqdmWarning: IProgress not found. Please update jupyter and ipywidgets. See https://ipywidgets.readthedocs.io/en/stable/user_install.html\n",
      "  from .autonotebook import tqdm as notebook_tqdm\n"
     ]
    }
   ],
   "source": [
    "import torch \n",
    "\n",
    "_TREE_DATA_1 = {'a': 1, 'b': 2, 'x': {'c': 3, 'd': 4}}\n",
    "_TREE_DATA_2 = {\n",
    "    'a': torch.randn(2, 3), \n",
    "    'x': {\n",
    "        'c': torch.randn(3, 4)\n",
    "    },\n",
    "}\n",
    "_TREE_DATA_3 = {\n",
    "    'obs': torch.randn(4, 84, 84),\n",
    "    'action': torch.randint(0, 6, size=(1,)),\n",
    "    'reward': torch.rand(1),\n",
    "}"
   ]
  },
  {
   "cell_type": "markdown",
   "id": "83461b25",
   "metadata": {},
   "source": [
    "## Read and Write Operation"
   ]
  },
  {
   "cell_type": "markdown",
   "id": "067b3f73",
   "metadata": {},
   "source": [
    "Reading and writing are the two most common operations in the tree data structure based on the data model (TreeValue and Tianshou Batch both belong to this type), so this section will compare the reading and writing performance of these two libraries."
   ]
  },
  {
   "cell_type": "markdown",
   "id": "5d09a5b7",
   "metadata": {},
   "source": [
    "### TreeValue's Get and Set"
   ]
  },
  {
   "cell_type": "code",
   "execution_count": 2,
   "id": "9519c4bb",
   "metadata": {
    "execution": {
     "iopub.execute_input": "2023-02-25T06:23:56.408368Z",
     "iopub.status.busy": "2023-02-25T06:23:56.407881Z",
     "iopub.status.idle": "2023-02-25T06:23:56.441708Z",
     "shell.execute_reply": "2023-02-25T06:23:56.441121Z"
    }
   },
   "outputs": [],
   "source": [
    "from treevalue import FastTreeValue\n",
    "\n",
    "t = FastTreeValue(_TREE_DATA_2)"
   ]
  },
  {
   "cell_type": "code",
   "execution_count": 3,
   "id": "11c37677",
   "metadata": {
    "execution": {
     "iopub.execute_input": "2023-02-25T06:23:56.444874Z",
     "iopub.status.busy": "2023-02-25T06:23:56.444470Z",
     "iopub.status.idle": "2023-02-25T06:23:56.452809Z",
     "shell.execute_reply": "2023-02-25T06:23:56.452296Z"
    }
   },
   "outputs": [
    {
     "data": {
      "text/plain": [
       "<FastTreeValue 0x7f1e94f86c10>\n",
       "├── 'a' --> tensor([[-0.5323,  0.4776, -0.7491],\n",
       "│                   [ 1.3549,  0.0343,  1.3544]])\n",
       "└── 'x' --> <FastTreeValue 0x7f1e94f86340>\n",
       "    └── 'c' --> tensor([[-0.2117,  0.7837, -0.0941,  1.1636],\n",
       "                        [-0.7641,  0.8690, -0.1287, -0.5410],\n",
       "                        [-1.1782,  0.3352,  0.6391, -0.0390]])"
      ]
     },
     "execution_count": 3,
     "metadata": {},
     "output_type": "execute_result"
    }
   ],
   "source": [
    "t"
   ]
  },
  {
   "cell_type": "code",
   "execution_count": 4,
   "id": "fd70b0b9",
   "metadata": {
    "execution": {
     "iopub.execute_input": "2023-02-25T06:23:56.455426Z",
     "iopub.status.busy": "2023-02-25T06:23:56.455027Z",
     "iopub.status.idle": "2023-02-25T06:23:56.459350Z",
     "shell.execute_reply": "2023-02-25T06:23:56.458826Z"
    }
   },
   "outputs": [
    {
     "data": {
      "text/plain": [
       "tensor([[-0.5323,  0.4776, -0.7491],\n",
       "        [ 1.3549,  0.0343,  1.3544]])"
      ]
     },
     "execution_count": 4,
     "metadata": {},
     "output_type": "execute_result"
    }
   ],
   "source": [
    "t.a"
   ]
  },
  {
   "cell_type": "code",
   "execution_count": 5,
   "id": "c18197bd",
   "metadata": {
    "execution": {
     "iopub.execute_input": "2023-02-25T06:23:56.461853Z",
     "iopub.status.busy": "2023-02-25T06:23:56.461470Z",
     "iopub.status.idle": "2023-02-25T06:24:01.445148Z",
     "shell.execute_reply": "2023-02-25T06:24:01.444448Z"
    }
   },
   "outputs": [
    {
     "name": "stdout",
     "output_type": "stream",
     "text": [
      "61.4 ns ± 0.0306 ns per loop (mean ± std. dev. of 7 runs, 10,000,000 loops each)\n"
     ]
    }
   ],
   "source": [
    "%timeit t.a"
   ]
  },
  {
   "cell_type": "code",
   "execution_count": 6,
   "id": "bd52f867",
   "metadata": {
    "execution": {
     "iopub.execute_input": "2023-02-25T06:24:01.447930Z",
     "iopub.status.busy": "2023-02-25T06:24:01.447594Z",
     "iopub.status.idle": "2023-02-25T06:24:01.454200Z",
     "shell.execute_reply": "2023-02-25T06:24:01.453618Z"
    }
   },
   "outputs": [
    {
     "data": {
      "text/plain": [
       "<FastTreeValue 0x7f1e94f86c10>\n",
       "├── 'a' --> tensor([[-0.4815, -0.2948,  0.1709],\n",
       "│                   [-0.5001,  0.5058,  1.7564]])\n",
       "└── 'x' --> <FastTreeValue 0x7f1e94f86340>\n",
       "    └── 'c' --> tensor([[-0.2117,  0.7837, -0.0941,  1.1636],\n",
       "                        [-0.7641,  0.8690, -0.1287, -0.5410],\n",
       "                        [-1.1782,  0.3352,  0.6391, -0.0390]])"
      ]
     },
     "execution_count": 6,
     "metadata": {},
     "output_type": "execute_result"
    }
   ],
   "source": [
    "new_value = torch.randn(2, 3)\n",
    "t.a = new_value\n",
    "\n",
    "t"
   ]
  },
  {
   "cell_type": "code",
   "execution_count": 7,
   "id": "bbe04d1c",
   "metadata": {
    "execution": {
     "iopub.execute_input": "2023-02-25T06:24:01.456922Z",
     "iopub.status.busy": "2023-02-25T06:24:01.456374Z",
     "iopub.status.idle": "2023-02-25T06:24:06.370668Z",
     "shell.execute_reply": "2023-02-25T06:24:06.369966Z"
    }
   },
   "outputs": [
    {
     "name": "stdout",
     "output_type": "stream",
     "text": [
      "60.5 ns ± 0.0277 ns per loop (mean ± std. dev. of 7 runs, 10,000,000 loops each)\n"
     ]
    }
   ],
   "source": [
    "%timeit t.a = new_value"
   ]
  },
  {
   "cell_type": "markdown",
   "id": "48c49731",
   "metadata": {},
   "source": [
    "### Tianshou Batch's Get and Set"
   ]
  },
  {
   "cell_type": "code",
   "execution_count": 8,
   "id": "f1bb14c1",
   "metadata": {
    "execution": {
     "iopub.execute_input": "2023-02-25T06:24:06.374006Z",
     "iopub.status.busy": "2023-02-25T06:24:06.373413Z",
     "iopub.status.idle": "2023-02-25T06:24:06.700742Z",
     "shell.execute_reply": "2023-02-25T06:24:06.700083Z"
    }
   },
   "outputs": [],
   "source": [
    "from tianshou.data import Batch\n",
    "\n",
    "b = Batch(**_TREE_DATA_2)"
   ]
  },
  {
   "cell_type": "code",
   "execution_count": 9,
   "id": "cb0777c3",
   "metadata": {
    "execution": {
     "iopub.execute_input": "2023-02-25T06:24:06.704362Z",
     "iopub.status.busy": "2023-02-25T06:24:06.703690Z",
     "iopub.status.idle": "2023-02-25T06:24:06.709724Z",
     "shell.execute_reply": "2023-02-25T06:24:06.709159Z"
    }
   },
   "outputs": [
    {
     "data": {
      "text/plain": [
       "Batch(\n",
       "    a: tensor([[-0.5323,  0.4776, -0.7491],\n",
       "               [ 1.3549,  0.0343,  1.3544]]),\n",
       "    x: Batch(\n",
       "           c: tensor([[-0.2117,  0.7837, -0.0941,  1.1636],\n",
       "                      [-0.7641,  0.8690, -0.1287, -0.5410],\n",
       "                      [-1.1782,  0.3352,  0.6391, -0.0390]]),\n",
       "       ),\n",
       ")"
      ]
     },
     "execution_count": 9,
     "metadata": {},
     "output_type": "execute_result"
    }
   ],
   "source": [
    "b"
   ]
  },
  {
   "cell_type": "code",
   "execution_count": 10,
   "id": "43ef8ea3",
   "metadata": {
    "execution": {
     "iopub.execute_input": "2023-02-25T06:24:06.712215Z",
     "iopub.status.busy": "2023-02-25T06:24:06.711851Z",
     "iopub.status.idle": "2023-02-25T06:24:06.716390Z",
     "shell.execute_reply": "2023-02-25T06:24:06.715786Z"
    }
   },
   "outputs": [
    {
     "data": {
      "text/plain": [
       "tensor([[-0.5323,  0.4776, -0.7491],\n",
       "        [ 1.3549,  0.0343,  1.3544]])"
      ]
     },
     "execution_count": 10,
     "metadata": {},
     "output_type": "execute_result"
    }
   ],
   "source": [
    "b.a"
   ]
  },
  {
   "cell_type": "code",
   "execution_count": 11,
   "id": "b785ab72",
   "metadata": {
    "execution": {
     "iopub.execute_input": "2023-02-25T06:24:06.718846Z",
     "iopub.status.busy": "2023-02-25T06:24:06.718516Z",
     "iopub.status.idle": "2023-02-25T06:24:11.149483Z",
     "shell.execute_reply": "2023-02-25T06:24:11.148840Z"
    }
   },
   "outputs": [
    {
     "name": "stdout",
     "output_type": "stream",
     "text": [
      "54.6 ns ± 0.0364 ns per loop (mean ± std. dev. of 7 runs, 10,000,000 loops each)\n"
     ]
    }
   ],
   "source": [
    "%timeit b.a"
   ]
  },
  {
   "cell_type": "code",
   "execution_count": 12,
   "id": "ad54dc69",
   "metadata": {
    "execution": {
     "iopub.execute_input": "2023-02-25T06:24:11.152366Z",
     "iopub.status.busy": "2023-02-25T06:24:11.151923Z",
     "iopub.status.idle": "2023-02-25T06:24:11.158243Z",
     "shell.execute_reply": "2023-02-25T06:24:11.157679Z"
    }
   },
   "outputs": [
    {
     "data": {
      "text/plain": [
       "Batch(\n",
       "    a: tensor([[ 6.8740e-01,  4.5980e-01, -1.0638e-03],\n",
       "               [-1.4098e+00, -2.2801e-01,  4.4546e-01]]),\n",
       "    x: Batch(\n",
       "           c: tensor([[-0.2117,  0.7837, -0.0941,  1.1636],\n",
       "                      [-0.7641,  0.8690, -0.1287, -0.5410],\n",
       "                      [-1.1782,  0.3352,  0.6391, -0.0390]]),\n",
       "       ),\n",
       ")"
      ]
     },
     "execution_count": 12,
     "metadata": {},
     "output_type": "execute_result"
    }
   ],
   "source": [
    "new_value = torch.randn(2, 3)\n",
    "b.a = new_value\n",
    "\n",
    "b"
   ]
  },
  {
   "cell_type": "code",
   "execution_count": 13,
   "id": "29b1d0bf",
   "metadata": {
    "execution": {
     "iopub.execute_input": "2023-02-25T06:24:11.160642Z",
     "iopub.status.busy": "2023-02-25T06:24:11.160308Z",
     "iopub.status.idle": "2023-02-25T06:24:15.115860Z",
     "shell.execute_reply": "2023-02-25T06:24:15.115117Z"
    }
   },
   "outputs": [
    {
     "name": "stdout",
     "output_type": "stream",
     "text": [
      "487 ns ± 0.168 ns per loop (mean ± std. dev. of 7 runs, 1,000,000 loops each)\n"
     ]
    }
   ],
   "source": [
    "%timeit b.a = new_value"
   ]
  },
  {
   "cell_type": "markdown",
   "id": "b61ad1d0",
   "metadata": {},
   "source": [
    "## Initialization"
   ]
  },
  {
   "cell_type": "markdown",
   "id": "d70f0d54",
   "metadata": {},
   "source": [
    "### TreeValue's Initialization"
   ]
  },
  {
   "cell_type": "code",
   "execution_count": 14,
   "id": "d32a679b",
   "metadata": {
    "execution": {
     "iopub.execute_input": "2023-02-25T06:24:15.118743Z",
     "iopub.status.busy": "2023-02-25T06:24:15.118391Z",
     "iopub.status.idle": "2023-02-25T06:24:21.905705Z",
     "shell.execute_reply": "2023-02-25T06:24:21.904898Z"
    }
   },
   "outputs": [
    {
     "name": "stdout",
     "output_type": "stream",
     "text": [
      "835 ns ± 0.116 ns per loop (mean ± std. dev. of 7 runs, 1,000,000 loops each)\n"
     ]
    }
   ],
   "source": [
    "%timeit FastTreeValue(_TREE_DATA_1)"
   ]
  },
  {
   "cell_type": "markdown",
   "id": "24f3707b",
   "metadata": {},
   "source": [
    "### Tianshou Batch's Initialization"
   ]
  },
  {
   "cell_type": "code",
   "execution_count": 15,
   "id": "ac3958df",
   "metadata": {
    "execution": {
     "iopub.execute_input": "2023-02-25T06:24:21.908575Z",
     "iopub.status.busy": "2023-02-25T06:24:21.908205Z",
     "iopub.status.idle": "2023-02-25T06:24:31.071799Z",
     "shell.execute_reply": "2023-02-25T06:24:31.071081Z"
    }
   },
   "outputs": [
    {
     "name": "stdout",
     "output_type": "stream",
     "text": [
      "11.3 µs ± 18.1 ns per loop (mean ± std. dev. of 7 runs, 100,000 loops each)\n"
     ]
    }
   ],
   "source": [
    "%timeit Batch(**_TREE_DATA_1)"
   ]
  },
  {
   "cell_type": "markdown",
   "id": "1ab82e2d",
   "metadata": {},
   "source": [
    "## Deep Copy Operation"
   ]
  },
  {
   "cell_type": "code",
   "execution_count": 16,
   "id": "210a9442",
   "metadata": {
    "execution": {
     "iopub.execute_input": "2023-02-25T06:24:31.074632Z",
     "iopub.status.busy": "2023-02-25T06:24:31.074283Z",
     "iopub.status.idle": "2023-02-25T06:24:31.078214Z",
     "shell.execute_reply": "2023-02-25T06:24:31.077627Z"
    }
   },
   "outputs": [],
   "source": [
    "import copy"
   ]
  },
  {
   "cell_type": "markdown",
   "id": "5a736274",
   "metadata": {},
   "source": [
    "### Deep Copy of TreeValue"
   ]
  },
  {
   "cell_type": "code",
   "execution_count": 17,
   "id": "f9bcadd6",
   "metadata": {
    "execution": {
     "iopub.execute_input": "2023-02-25T06:24:31.080879Z",
     "iopub.status.busy": "2023-02-25T06:24:31.080333Z",
     "iopub.status.idle": "2023-02-25T06:24:42.196521Z",
     "shell.execute_reply": "2023-02-25T06:24:42.195929Z"
    }
   },
   "outputs": [
    {
     "name": "stdout",
     "output_type": "stream",
     "text": [
      "137 µs ± 464 ns per loop (mean ± std. dev. of 7 runs, 10,000 loops each)\n"
     ]
    }
   ],
   "source": [
    "t3 = FastTreeValue(_TREE_DATA_3)\n",
    "%timeit copy.deepcopy(t3)"
   ]
  },
  {
   "cell_type": "markdown",
   "id": "bf8be7ea",
   "metadata": {},
   "source": [
    "### Deep Copy of Tianshou Batch"
   ]
  },
  {
   "cell_type": "code",
   "execution_count": 18,
   "id": "91998e6f",
   "metadata": {
    "execution": {
     "iopub.execute_input": "2023-02-25T06:24:42.199486Z",
     "iopub.status.busy": "2023-02-25T06:24:42.199005Z",
     "iopub.status.idle": "2023-02-25T06:24:53.521797Z",
     "shell.execute_reply": "2023-02-25T06:24:53.521242Z"
    }
   },
   "outputs": [
    {
     "name": "stdout",
     "output_type": "stream",
     "text": [
      "139 µs ± 591 ns per loop (mean ± std. dev. of 7 runs, 10,000 loops each)\n"
     ]
    }
   ],
   "source": [
    "b3 = Batch(**_TREE_DATA_3)\n",
    "%timeit copy.deepcopy(b3)"
   ]
  },
  {
   "cell_type": "markdown",
   "id": "223162fb",
   "metadata": {},
   "source": [
    "## Stack, Concat and Split Operation"
   ]
  },
  {
   "cell_type": "markdown",
   "id": "85fa4a73",
   "metadata": {},
   "source": [
    "### Performance of TreeValue"
   ]
  },
  {
   "cell_type": "code",
   "execution_count": 19,
   "id": "a0c2b697",
   "metadata": {
    "execution": {
     "iopub.execute_input": "2023-02-25T06:24:53.525837Z",
     "iopub.status.busy": "2023-02-25T06:24:53.524886Z",
     "iopub.status.idle": "2023-02-25T06:24:53.529148Z",
     "shell.execute_reply": "2023-02-25T06:24:53.528626Z"
    }
   },
   "outputs": [],
   "source": [
    "trees = [FastTreeValue(_TREE_DATA_2) for _ in range(8)]"
   ]
  },
  {
   "cell_type": "code",
   "execution_count": 20,
   "id": "017ea5a5",
   "metadata": {
    "execution": {
     "iopub.execute_input": "2023-02-25T06:24:53.532678Z",
     "iopub.status.busy": "2023-02-25T06:24:53.531744Z",
     "iopub.status.idle": "2023-02-25T06:24:53.540447Z",
     "shell.execute_reply": "2023-02-25T06:24:53.539917Z"
    }
   },
   "outputs": [
    {
     "data": {
      "text/plain": [
       "<FastTreeValue 0x7f1e94f80130>\n",
       "├── 'a' --> tensor([[[-0.5323,  0.4776, -0.7491],\n",
       "│                    [ 1.3549,  0.0343,  1.3544]],\n",
       "│           \n",
       "│                   [[-0.5323,  0.4776, -0.7491],\n",
       "│                    [ 1.3549,  0.0343,  1.3544]],\n",
       "│           \n",
       "│                   [[-0.5323,  0.4776, -0.7491],\n",
       "│                    [ 1.3549,  0.0343,  1.3544]],\n",
       "│           \n",
       "│                   [[-0.5323,  0.4776, -0.7491],\n",
       "│                    [ 1.3549,  0.0343,  1.3544]],\n",
       "│           \n",
       "│                   [[-0.5323,  0.4776, -0.7491],\n",
       "│                    [ 1.3549,  0.0343,  1.3544]],\n",
       "│           \n",
       "│                   [[-0.5323,  0.4776, -0.7491],\n",
       "│                    [ 1.3549,  0.0343,  1.3544]],\n",
       "│           \n",
       "│                   [[-0.5323,  0.4776, -0.7491],\n",
       "│                    [ 1.3549,  0.0343,  1.3544]],\n",
       "│           \n",
       "│                   [[-0.5323,  0.4776, -0.7491],\n",
       "│                    [ 1.3549,  0.0343,  1.3544]]])\n",
       "└── 'x' --> <FastTreeValue 0x7f1e94f80220>\n",
       "    └── 'c' --> tensor([[[-0.2117,  0.7837, -0.0941,  1.1636],\n",
       "                         [-0.7641,  0.8690, -0.1287, -0.5410],\n",
       "                         [-1.1782,  0.3352,  0.6391, -0.0390]],\n",
       "                \n",
       "                        [[-0.2117,  0.7837, -0.0941,  1.1636],\n",
       "                         [-0.7641,  0.8690, -0.1287, -0.5410],\n",
       "                         [-1.1782,  0.3352,  0.6391, -0.0390]],\n",
       "                \n",
       "                        [[-0.2117,  0.7837, -0.0941,  1.1636],\n",
       "                         [-0.7641,  0.8690, -0.1287, -0.5410],\n",
       "                         [-1.1782,  0.3352,  0.6391, -0.0390]],\n",
       "                \n",
       "                        [[-0.2117,  0.7837, -0.0941,  1.1636],\n",
       "                         [-0.7641,  0.8690, -0.1287, -0.5410],\n",
       "                         [-1.1782,  0.3352,  0.6391, -0.0390]],\n",
       "                \n",
       "                        [[-0.2117,  0.7837, -0.0941,  1.1636],\n",
       "                         [-0.7641,  0.8690, -0.1287, -0.5410],\n",
       "                         [-1.1782,  0.3352,  0.6391, -0.0390]],\n",
       "                \n",
       "                        [[-0.2117,  0.7837, -0.0941,  1.1636],\n",
       "                         [-0.7641,  0.8690, -0.1287, -0.5410],\n",
       "                         [-1.1782,  0.3352,  0.6391, -0.0390]],\n",
       "                \n",
       "                        [[-0.2117,  0.7837, -0.0941,  1.1636],\n",
       "                         [-0.7641,  0.8690, -0.1287, -0.5410],\n",
       "                         [-1.1782,  0.3352,  0.6391, -0.0390]],\n",
       "                \n",
       "                        [[-0.2117,  0.7837, -0.0941,  1.1636],\n",
       "                         [-0.7641,  0.8690, -0.1287, -0.5410],\n",
       "                         [-1.1782,  0.3352,  0.6391, -0.0390]]])"
      ]
     },
     "execution_count": 20,
     "metadata": {},
     "output_type": "execute_result"
    }
   ],
   "source": [
    "t_stack = FastTreeValue.func(subside=True)(torch.stack)\n",
    "\n",
    "t_stack(trees)"
   ]
  },
  {
   "cell_type": "code",
   "execution_count": 21,
   "id": "f8b3f415",
   "metadata": {
    "execution": {
     "iopub.execute_input": "2023-02-25T06:24:53.543973Z",
     "iopub.status.busy": "2023-02-25T06:24:53.543035Z",
     "iopub.status.idle": "2023-02-25T06:24:56.145529Z",
     "shell.execute_reply": "2023-02-25T06:24:56.144794Z"
    }
   },
   "outputs": [
    {
     "name": "stdout",
     "output_type": "stream",
     "text": [
      "32 µs ± 41.9 ns per loop (mean ± std. dev. of 7 runs, 10,000 loops each)\n"
     ]
    }
   ],
   "source": [
    "%timeit t_stack(trees)"
   ]
  },
  {
   "cell_type": "code",
   "execution_count": 22,
   "id": "94b56771",
   "metadata": {
    "execution": {
     "iopub.execute_input": "2023-02-25T06:24:56.148297Z",
     "iopub.status.busy": "2023-02-25T06:24:56.147945Z",
     "iopub.status.idle": "2023-02-25T06:24:56.156888Z",
     "shell.execute_reply": "2023-02-25T06:24:56.156314Z"
    }
   },
   "outputs": [
    {
     "data": {
      "text/plain": [
       "<FastTreeValue 0x7f1defc7ed00>\n",
       "├── 'a' --> tensor([[-0.5323,  0.4776, -0.7491],\n",
       "│                   [ 1.3549,  0.0343,  1.3544],\n",
       "│                   [-0.5323,  0.4776, -0.7491],\n",
       "│                   [ 1.3549,  0.0343,  1.3544],\n",
       "│                   [-0.5323,  0.4776, -0.7491],\n",
       "│                   [ 1.3549,  0.0343,  1.3544],\n",
       "│                   [-0.5323,  0.4776, -0.7491],\n",
       "│                   [ 1.3549,  0.0343,  1.3544],\n",
       "│                   [-0.5323,  0.4776, -0.7491],\n",
       "│                   [ 1.3549,  0.0343,  1.3544],\n",
       "│                   [-0.5323,  0.4776, -0.7491],\n",
       "│                   [ 1.3549,  0.0343,  1.3544],\n",
       "│                   [-0.5323,  0.4776, -0.7491],\n",
       "│                   [ 1.3549,  0.0343,  1.3544],\n",
       "│                   [-0.5323,  0.4776, -0.7491],\n",
       "│                   [ 1.3549,  0.0343,  1.3544]])\n",
       "└── 'x' --> <FastTreeValue 0x7f1e94f80070>\n",
       "    └── 'c' --> tensor([[-0.2117,  0.7837, -0.0941,  1.1636],\n",
       "                        [-0.7641,  0.8690, -0.1287, -0.5410],\n",
       "                        [-1.1782,  0.3352,  0.6391, -0.0390],\n",
       "                        [-0.2117,  0.7837, -0.0941,  1.1636],\n",
       "                        [-0.7641,  0.8690, -0.1287, -0.5410],\n",
       "                        [-1.1782,  0.3352,  0.6391, -0.0390],\n",
       "                        [-0.2117,  0.7837, -0.0941,  1.1636],\n",
       "                        [-0.7641,  0.8690, -0.1287, -0.5410],\n",
       "                        [-1.1782,  0.3352,  0.6391, -0.0390],\n",
       "                        [-0.2117,  0.7837, -0.0941,  1.1636],\n",
       "                        [-0.7641,  0.8690, -0.1287, -0.5410],\n",
       "                        [-1.1782,  0.3352,  0.6391, -0.0390],\n",
       "                        [-0.2117,  0.7837, -0.0941,  1.1636],\n",
       "                        [-0.7641,  0.8690, -0.1287, -0.5410],\n",
       "                        [-1.1782,  0.3352,  0.6391, -0.0390],\n",
       "                        [-0.2117,  0.7837, -0.0941,  1.1636],\n",
       "                        [-0.7641,  0.8690, -0.1287, -0.5410],\n",
       "                        [-1.1782,  0.3352,  0.6391, -0.0390],\n",
       "                        [-0.2117,  0.7837, -0.0941,  1.1636],\n",
       "                        [-0.7641,  0.8690, -0.1287, -0.5410],\n",
       "                        [-1.1782,  0.3352,  0.6391, -0.0390],\n",
       "                        [-0.2117,  0.7837, -0.0941,  1.1636],\n",
       "                        [-0.7641,  0.8690, -0.1287, -0.5410],\n",
       "                        [-1.1782,  0.3352,  0.6391, -0.0390]])"
      ]
     },
     "execution_count": 22,
     "metadata": {},
     "output_type": "execute_result"
    }
   ],
   "source": [
    "t_cat = FastTreeValue.func(subside=True)(torch.cat)\n",
    "\n",
    "t_cat(trees)"
   ]
  },
  {
   "cell_type": "code",
   "execution_count": 23,
   "id": "5e9c06a6",
   "metadata": {
    "execution": {
     "iopub.execute_input": "2023-02-25T06:24:56.159706Z",
     "iopub.status.busy": "2023-02-25T06:24:56.159246Z",
     "iopub.status.idle": "2023-02-25T06:24:58.635677Z",
     "shell.execute_reply": "2023-02-25T06:24:58.634968Z"
    }
   },
   "outputs": [
    {
     "name": "stdout",
     "output_type": "stream",
     "text": [
      "30.4 µs ± 34.6 ns per loop (mean ± std. dev. of 7 runs, 10,000 loops each)\n"
     ]
    }
   ],
   "source": [
    "%timeit t_cat(trees)"
   ]
  },
  {
   "cell_type": "code",
   "execution_count": 24,
   "id": "a3ab5c8f",
   "metadata": {
    "execution": {
     "iopub.execute_input": "2023-02-25T06:24:58.638858Z",
     "iopub.status.busy": "2023-02-25T06:24:58.638334Z",
     "iopub.status.idle": "2023-02-25T06:25:03.408388Z",
     "shell.execute_reply": "2023-02-25T06:25:03.407680Z"
    }
   },
   "outputs": [
    {
     "name": "stdout",
     "output_type": "stream",
     "text": [
      "58.7 µs ± 160 ns per loop (mean ± std. dev. of 7 runs, 10,000 loops each)\n"
     ]
    }
   ],
   "source": [
    "t_split = FastTreeValue.func(rise=True)(torch.split)\n",
    "tree = FastTreeValue({\n",
    "    'obs': torch.randn(8, 4, 84, 84),\n",
    "    'action': torch.randint(0, 6, size=(8, 1,)),\n",
    "    'reward': torch.rand(8, 1),\n",
    "})\n",
    "\n",
    "%timeit t_split(tree, 1)"
   ]
  },
  {
   "cell_type": "markdown",
   "id": "31c3ec0b",
   "metadata": {},
   "source": [
    "### Performance of Tianshou Batch"
   ]
  },
  {
   "cell_type": "code",
   "execution_count": 25,
   "id": "9ead828a",
   "metadata": {
    "execution": {
     "iopub.execute_input": "2023-02-25T06:25:03.411670Z",
     "iopub.status.busy": "2023-02-25T06:25:03.411163Z",
     "iopub.status.idle": "2023-02-25T06:25:03.420101Z",
     "shell.execute_reply": "2023-02-25T06:25:03.419527Z"
    }
   },
   "outputs": [
    {
     "data": {
      "text/plain": [
       "Batch(\n",
       "    a: tensor([[[-0.5323,  0.4776, -0.7491],\n",
       "                [ 1.3549,  0.0343,  1.3544]],\n",
       "       \n",
       "               [[-0.5323,  0.4776, -0.7491],\n",
       "                [ 1.3549,  0.0343,  1.3544]],\n",
       "       \n",
       "               [[-0.5323,  0.4776, -0.7491],\n",
       "                [ 1.3549,  0.0343,  1.3544]],\n",
       "       \n",
       "               [[-0.5323,  0.4776, -0.7491],\n",
       "                [ 1.3549,  0.0343,  1.3544]],\n",
       "       \n",
       "               [[-0.5323,  0.4776, -0.7491],\n",
       "                [ 1.3549,  0.0343,  1.3544]],\n",
       "       \n",
       "               [[-0.5323,  0.4776, -0.7491],\n",
       "                [ 1.3549,  0.0343,  1.3544]],\n",
       "       \n",
       "               [[-0.5323,  0.4776, -0.7491],\n",
       "                [ 1.3549,  0.0343,  1.3544]],\n",
       "       \n",
       "               [[-0.5323,  0.4776, -0.7491],\n",
       "                [ 1.3549,  0.0343,  1.3544]]]),\n",
       "    x: Batch(\n",
       "           c: tensor([[[-0.2117,  0.7837, -0.0941,  1.1636],\n",
       "                       [-0.7641,  0.8690, -0.1287, -0.5410],\n",
       "                       [-1.1782,  0.3352,  0.6391, -0.0390]],\n",
       "              \n",
       "                      [[-0.2117,  0.7837, -0.0941,  1.1636],\n",
       "                       [-0.7641,  0.8690, -0.1287, -0.5410],\n",
       "                       [-1.1782,  0.3352,  0.6391, -0.0390]],\n",
       "              \n",
       "                      [[-0.2117,  0.7837, -0.0941,  1.1636],\n",
       "                       [-0.7641,  0.8690, -0.1287, -0.5410],\n",
       "                       [-1.1782,  0.3352,  0.6391, -0.0390]],\n",
       "              \n",
       "                      [[-0.2117,  0.7837, -0.0941,  1.1636],\n",
       "                       [-0.7641,  0.8690, -0.1287, -0.5410],\n",
       "                       [-1.1782,  0.3352,  0.6391, -0.0390]],\n",
       "              \n",
       "                      [[-0.2117,  0.7837, -0.0941,  1.1636],\n",
       "                       [-0.7641,  0.8690, -0.1287, -0.5410],\n",
       "                       [-1.1782,  0.3352,  0.6391, -0.0390]],\n",
       "              \n",
       "                      [[-0.2117,  0.7837, -0.0941,  1.1636],\n",
       "                       [-0.7641,  0.8690, -0.1287, -0.5410],\n",
       "                       [-1.1782,  0.3352,  0.6391, -0.0390]],\n",
       "              \n",
       "                      [[-0.2117,  0.7837, -0.0941,  1.1636],\n",
       "                       [-0.7641,  0.8690, -0.1287, -0.5410],\n",
       "                       [-1.1782,  0.3352,  0.6391, -0.0390]],\n",
       "              \n",
       "                      [[-0.2117,  0.7837, -0.0941,  1.1636],\n",
       "                       [-0.7641,  0.8690, -0.1287, -0.5410],\n",
       "                       [-1.1782,  0.3352,  0.6391, -0.0390]]]),\n",
       "       ),\n",
       ")"
      ]
     },
     "execution_count": 25,
     "metadata": {},
     "output_type": "execute_result"
    }
   ],
   "source": [
    "batches = [Batch(**_TREE_DATA_2) for _ in range(8)]\n",
    "\n",
    "Batch.stack(batches)"
   ]
  },
  {
   "cell_type": "code",
   "execution_count": 26,
   "id": "ec9037a3",
   "metadata": {
    "execution": {
     "iopub.execute_input": "2023-02-25T06:25:03.422940Z",
     "iopub.status.busy": "2023-02-25T06:25:03.422475Z",
     "iopub.status.idle": "2023-02-25T06:25:09.849628Z",
     "shell.execute_reply": "2023-02-25T06:25:09.848927Z"
    }
   },
   "outputs": [
    {
     "name": "stdout",
     "output_type": "stream",
     "text": [
      "79.1 µs ± 172 ns per loop (mean ± std. dev. of 7 runs, 10,000 loops each)\n"
     ]
    }
   ],
   "source": [
    "%timeit Batch.stack(batches)"
   ]
  },
  {
   "cell_type": "code",
   "execution_count": 27,
   "id": "cb8ab77e",
   "metadata": {
    "execution": {
     "iopub.execute_input": "2023-02-25T06:25:09.852394Z",
     "iopub.status.busy": "2023-02-25T06:25:09.852037Z",
     "iopub.status.idle": "2023-02-25T06:25:09.859566Z",
     "shell.execute_reply": "2023-02-25T06:25:09.858967Z"
    }
   },
   "outputs": [
    {
     "data": {
      "text/plain": [
       "Batch(\n",
       "    a: tensor([[-0.5323,  0.4776, -0.7491],\n",
       "               [ 1.3549,  0.0343,  1.3544],\n",
       "               [-0.5323,  0.4776, -0.7491],\n",
       "               [ 1.3549,  0.0343,  1.3544],\n",
       "               [-0.5323,  0.4776, -0.7491],\n",
       "               [ 1.3549,  0.0343,  1.3544],\n",
       "               [-0.5323,  0.4776, -0.7491],\n",
       "               [ 1.3549,  0.0343,  1.3544],\n",
       "               [-0.5323,  0.4776, -0.7491],\n",
       "               [ 1.3549,  0.0343,  1.3544],\n",
       "               [-0.5323,  0.4776, -0.7491],\n",
       "               [ 1.3549,  0.0343,  1.3544],\n",
       "               [-0.5323,  0.4776, -0.7491],\n",
       "               [ 1.3549,  0.0343,  1.3544],\n",
       "               [-0.5323,  0.4776, -0.7491],\n",
       "               [ 1.3549,  0.0343,  1.3544]]),\n",
       "    x: Batch(\n",
       "           c: tensor([[-0.2117,  0.7837, -0.0941,  1.1636],\n",
       "                      [-0.7641,  0.8690, -0.1287, -0.5410],\n",
       "                      [-1.1782,  0.3352,  0.6391, -0.0390],\n",
       "                      [-0.2117,  0.7837, -0.0941,  1.1636],\n",
       "                      [-0.7641,  0.8690, -0.1287, -0.5410],\n",
       "                      [-1.1782,  0.3352,  0.6391, -0.0390],\n",
       "                      [-0.2117,  0.7837, -0.0941,  1.1636],\n",
       "                      [-0.7641,  0.8690, -0.1287, -0.5410],\n",
       "                      [-1.1782,  0.3352,  0.6391, -0.0390],\n",
       "                      [-0.2117,  0.7837, -0.0941,  1.1636],\n",
       "                      [-0.7641,  0.8690, -0.1287, -0.5410],\n",
       "                      [-1.1782,  0.3352,  0.6391, -0.0390],\n",
       "                      [-0.2117,  0.7837, -0.0941,  1.1636],\n",
       "                      [-0.7641,  0.8690, -0.1287, -0.5410],\n",
       "                      [-1.1782,  0.3352,  0.6391, -0.0390],\n",
       "                      [-0.2117,  0.7837, -0.0941,  1.1636],\n",
       "                      [-0.7641,  0.8690, -0.1287, -0.5410],\n",
       "                      [-1.1782,  0.3352,  0.6391, -0.0390],\n",
       "                      [-0.2117,  0.7837, -0.0941,  1.1636],\n",
       "                      [-0.7641,  0.8690, -0.1287, -0.5410],\n",
       "                      [-1.1782,  0.3352,  0.6391, -0.0390],\n",
       "                      [-0.2117,  0.7837, -0.0941,  1.1636],\n",
       "                      [-0.7641,  0.8690, -0.1287, -0.5410],\n",
       "                      [-1.1782,  0.3352,  0.6391, -0.0390]]),\n",
       "       ),\n",
       ")"
      ]
     },
     "execution_count": 27,
     "metadata": {},
     "output_type": "execute_result"
    }
   ],
   "source": [
    "Batch.cat(batches)"
   ]
  },
  {
   "cell_type": "code",
   "execution_count": 28,
   "id": "18dfb045",
   "metadata": {
    "execution": {
     "iopub.execute_input": "2023-02-25T06:25:09.862445Z",
     "iopub.status.busy": "2023-02-25T06:25:09.861966Z",
     "iopub.status.idle": "2023-02-25T06:25:21.526967Z",
     "shell.execute_reply": "2023-02-25T06:25:21.526269Z"
    }
   },
   "outputs": [
    {
     "name": "stdout",
     "output_type": "stream",
     "text": [
      "144 µs ± 230 ns per loop (mean ± std. dev. of 7 runs, 10,000 loops each)\n"
     ]
    }
   ],
   "source": [
    "%timeit Batch.cat(batches)"
   ]
  },
  {
   "cell_type": "code",
   "execution_count": 29,
   "id": "c6688e51",
   "metadata": {
    "execution": {
     "iopub.execute_input": "2023-02-25T06:25:21.529765Z",
     "iopub.status.busy": "2023-02-25T06:25:21.529431Z",
     "iopub.status.idle": "2023-02-25T06:25:24.109521Z",
     "shell.execute_reply": "2023-02-25T06:25:24.108949Z"
    }
   },
   "outputs": [
    {
     "name": "stdout",
     "output_type": "stream",
     "text": [
      "317 µs ± 9.38 µs per loop (mean ± std. dev. of 7 runs, 1,000 loops each)\n"
     ]
    }
   ],
   "source": [
    "batch = Batch({\n",
    "    'obs': torch.randn(8, 4, 84, 84),\n",
    "    'action': torch.randint(0, 6, size=(8, 1,)),\n",
    "    'reward': torch.rand(8, 1)}\n",
    ")\n",
    "\n",
    "%timeit list(Batch.split(batch, 1, shuffle=False, merge_last=True))"
   ]
  },
  {
   "cell_type": "code",
   "execution_count": null,
   "id": "2539fbd9",
   "metadata": {},
   "outputs": [],
   "source": []
  }
 ],
 "metadata": {
  "kernelspec": {
   "display_name": "Python 3 (ipykernel)",
   "language": "python",
   "name": "python3"
  },
  "language_info": {
   "codemirror_mode": {
    "name": "ipython",
    "version": 3
   },
   "file_extension": ".py",
   "mimetype": "text/x-python",
   "name": "python",
   "nbconvert_exporter": "python",
   "pygments_lexer": "ipython3",
   "version": "3.8.16"
  }
 },
 "nbformat": 4,
 "nbformat_minor": 5
}
