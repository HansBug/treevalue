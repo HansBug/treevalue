{
 "cells": [
  {
   "cell_type": "markdown",
   "id": "9d39d946",
   "metadata": {},
   "source": [
    "# Comparison Between TreeValue and Tianshou Batch"
   ]
  },
  {
   "cell_type": "markdown",
   "id": "3c6db2d4",
   "metadata": {},
   "source": [
    "In this section, we will take a look at the feature and performance of the [Tianshou Batch](https://github.com/thu-ml/tianshou) library, which is developed by Tsinghua Machine Learning Group."
   ]
  },
  {
   "cell_type": "markdown",
   "id": "069361b0",
   "metadata": {},
   "source": [
    "Before starting the comparison, let us define some thing."
   ]
  },
  {
   "cell_type": "code",
   "execution_count": 1,
   "id": "06fc8d26",
   "metadata": {
    "execution": {
     "iopub.execute_input": "2023-05-26T05:30:36.324136Z",
     "iopub.status.busy": "2023-05-26T05:30:36.323886Z",
     "iopub.status.idle": "2023-05-26T05:30:37.686728Z",
     "shell.execute_reply": "2023-05-26T05:30:37.685915Z"
    }
   },
   "outputs": [],
   "source": [
    "import torch \n",
    "\n",
    "_TREE_DATA_1 = {'a': 1, 'b': 2, 'x': {'c': 3, 'd': 4}}\n",
    "_TREE_DATA_2 = {\n",
    "    'a': torch.randn(2, 3), \n",
    "    'x': {\n",
    "        'c': torch.randn(3, 4)\n",
    "    },\n",
    "}\n",
    "_TREE_DATA_3 = {\n",
    "    'obs': torch.randn(4, 84, 84),\n",
    "    'action': torch.randint(0, 6, size=(1,)),\n",
    "    'reward': torch.rand(1),\n",
    "}"
   ]
  },
  {
   "cell_type": "markdown",
   "id": "83461b25",
   "metadata": {},
   "source": [
    "## Read and Write Operation"
   ]
  },
  {
   "cell_type": "markdown",
   "id": "067b3f73",
   "metadata": {},
   "source": [
    "Reading and writing are the two most common operations in the tree data structure based on the data model (TreeValue and Tianshou Batch both belong to this type), so this section will compare the reading and writing performance of these two libraries."
   ]
  },
  {
   "cell_type": "markdown",
   "id": "5d09a5b7",
   "metadata": {},
   "source": [
    "### TreeValue's Get and Set"
   ]
  },
  {
   "cell_type": "code",
   "execution_count": 2,
   "id": "9519c4bb",
   "metadata": {
    "execution": {
     "iopub.execute_input": "2023-05-26T05:30:37.690699Z",
     "iopub.status.busy": "2023-05-26T05:30:37.690198Z",
     "iopub.status.idle": "2023-05-26T05:30:37.719632Z",
     "shell.execute_reply": "2023-05-26T05:30:37.718921Z"
    }
   },
   "outputs": [],
   "source": [
    "from treevalue import FastTreeValue\n",
    "\n",
    "t = FastTreeValue(_TREE_DATA_2)"
   ]
  },
  {
   "cell_type": "code",
   "execution_count": 3,
   "id": "11c37677",
   "metadata": {
    "execution": {
     "iopub.execute_input": "2023-05-26T05:30:37.723190Z",
     "iopub.status.busy": "2023-05-26T05:30:37.722945Z",
     "iopub.status.idle": "2023-05-26T05:30:37.731908Z",
     "shell.execute_reply": "2023-05-26T05:30:37.731212Z"
    }
   },
   "outputs": [
    {
     "data": {
      "text/plain": [
       "<FastTreeValue 0x7f24bc531eb0>\n",
       "├── 'a' --> tensor([[ 0.6932, -1.0206,  0.3206],\n",
       "│                   [ 0.7897,  0.1470, -0.4013]])\n",
       "└── 'x' --> <FastTreeValue 0x7f24c05bb940>\n",
       "    └── 'c' --> tensor([[ 1.8835, -0.4989, -1.1123, -0.2295],\n",
       "                        [ 0.1457, -1.1854,  0.3117,  0.8347],\n",
       "                        [-0.3989, -0.2347, -2.7108, -0.1627]])"
      ]
     },
     "execution_count": 3,
     "metadata": {},
     "output_type": "execute_result"
    }
   ],
   "source": [
    "t"
   ]
  },
  {
   "cell_type": "code",
   "execution_count": 4,
   "id": "fd70b0b9",
   "metadata": {
    "execution": {
     "iopub.execute_input": "2023-05-26T05:30:37.736117Z",
     "iopub.status.busy": "2023-05-26T05:30:37.735641Z",
     "iopub.status.idle": "2023-05-26T05:30:37.741406Z",
     "shell.execute_reply": "2023-05-26T05:30:37.740709Z"
    }
   },
   "outputs": [
    {
     "data": {
      "text/plain": [
       "tensor([[ 0.6932, -1.0206,  0.3206],\n",
       "        [ 0.7897,  0.1470, -0.4013]])"
      ]
     },
     "execution_count": 4,
     "metadata": {},
     "output_type": "execute_result"
    }
   ],
   "source": [
    "t.a"
   ]
  },
  {
   "cell_type": "code",
   "execution_count": 5,
   "id": "c18197bd",
   "metadata": {
    "execution": {
     "iopub.execute_input": "2023-05-26T05:30:37.744557Z",
     "iopub.status.busy": "2023-05-26T05:30:37.744106Z",
     "iopub.status.idle": "2023-05-26T05:30:43.219230Z",
     "shell.execute_reply": "2023-05-26T05:30:43.218508Z"
    }
   },
   "outputs": [
    {
     "name": "stdout",
     "output_type": "stream",
     "text": [
      "67.4 ns ± 0.167 ns per loop (mean ± std. dev. of 7 runs, 10,000,000 loops each)\n"
     ]
    }
   ],
   "source": [
    "%timeit t.a"
   ]
  },
  {
   "cell_type": "code",
   "execution_count": 6,
   "id": "bd52f867",
   "metadata": {
    "execution": {
     "iopub.execute_input": "2023-05-26T05:30:43.222893Z",
     "iopub.status.busy": "2023-05-26T05:30:43.222161Z",
     "iopub.status.idle": "2023-05-26T05:30:43.228878Z",
     "shell.execute_reply": "2023-05-26T05:30:43.228160Z"
    }
   },
   "outputs": [
    {
     "data": {
      "text/plain": [
       "<FastTreeValue 0x7f24bc531eb0>\n",
       "├── 'a' --> tensor([[-1.2573,  1.8381, -0.1722],\n",
       "│                   [ 0.5867, -1.6721,  0.8087]])\n",
       "└── 'x' --> <FastTreeValue 0x7f24c05bb940>\n",
       "    └── 'c' --> tensor([[ 1.8835, -0.4989, -1.1123, -0.2295],\n",
       "                        [ 0.1457, -1.1854,  0.3117,  0.8347],\n",
       "                        [-0.3989, -0.2347, -2.7108, -0.1627]])"
      ]
     },
     "execution_count": 6,
     "metadata": {},
     "output_type": "execute_result"
    }
   ],
   "source": [
    "new_value = torch.randn(2, 3)\n",
    "t.a = new_value\n",
    "\n",
    "t"
   ]
  },
  {
   "cell_type": "code",
   "execution_count": 7,
   "id": "bbe04d1c",
   "metadata": {
    "execution": {
     "iopub.execute_input": "2023-05-26T05:30:43.232107Z",
     "iopub.status.busy": "2023-05-26T05:30:43.231566Z",
     "iopub.status.idle": "2023-05-26T05:30:48.781311Z",
     "shell.execute_reply": "2023-05-26T05:30:48.780574Z"
    }
   },
   "outputs": [
    {
     "name": "stdout",
     "output_type": "stream",
     "text": [
      "68.4 ns ± 0.0193 ns per loop (mean ± std. dev. of 7 runs, 10,000,000 loops each)\n"
     ]
    }
   ],
   "source": [
    "%timeit t.a = new_value"
   ]
  },
  {
   "cell_type": "markdown",
   "id": "48c49731",
   "metadata": {},
   "source": [
    "### Tianshou Batch's Get and Set"
   ]
  },
  {
   "cell_type": "code",
   "execution_count": 8,
   "id": "f1bb14c1",
   "metadata": {
    "execution": {
     "iopub.execute_input": "2023-05-26T05:30:48.785151Z",
     "iopub.status.busy": "2023-05-26T05:30:48.784554Z",
     "iopub.status.idle": "2023-05-26T05:30:49.162681Z",
     "shell.execute_reply": "2023-05-26T05:30:49.161886Z"
    }
   },
   "outputs": [],
   "source": [
    "from tianshou.data import Batch\n",
    "\n",
    "b = Batch(**_TREE_DATA_2)"
   ]
  },
  {
   "cell_type": "code",
   "execution_count": 9,
   "id": "cb0777c3",
   "metadata": {
    "execution": {
     "iopub.execute_input": "2023-05-26T05:30:49.166973Z",
     "iopub.status.busy": "2023-05-26T05:30:49.166206Z",
     "iopub.status.idle": "2023-05-26T05:30:49.172324Z",
     "shell.execute_reply": "2023-05-26T05:30:49.171631Z"
    }
   },
   "outputs": [
    {
     "data": {
      "text/plain": [
       "Batch(\n",
       "    a: tensor([[ 0.6932, -1.0206,  0.3206],\n",
       "               [ 0.7897,  0.1470, -0.4013]]),\n",
       "    x: Batch(\n",
       "           c: tensor([[ 1.8835, -0.4989, -1.1123, -0.2295],\n",
       "                      [ 0.1457, -1.1854,  0.3117,  0.8347],\n",
       "                      [-0.3989, -0.2347, -2.7108, -0.1627]]),\n",
       "       ),\n",
       ")"
      ]
     },
     "execution_count": 9,
     "metadata": {},
     "output_type": "execute_result"
    }
   ],
   "source": [
    "b"
   ]
  },
  {
   "cell_type": "code",
   "execution_count": 10,
   "id": "43ef8ea3",
   "metadata": {
    "execution": {
     "iopub.execute_input": "2023-05-26T05:30:49.175335Z",
     "iopub.status.busy": "2023-05-26T05:30:49.174955Z",
     "iopub.status.idle": "2023-05-26T05:30:49.179921Z",
     "shell.execute_reply": "2023-05-26T05:30:49.179234Z"
    }
   },
   "outputs": [
    {
     "data": {
      "text/plain": [
       "tensor([[ 0.6932, -1.0206,  0.3206],\n",
       "        [ 0.7897,  0.1470, -0.4013]])"
      ]
     },
     "execution_count": 10,
     "metadata": {},
     "output_type": "execute_result"
    }
   ],
   "source": [
    "b.a"
   ]
  },
  {
   "cell_type": "code",
   "execution_count": 11,
   "id": "b785ab72",
   "metadata": {
    "execution": {
     "iopub.execute_input": "2023-05-26T05:30:49.183450Z",
     "iopub.status.busy": "2023-05-26T05:30:49.182850Z",
     "iopub.status.idle": "2023-05-26T05:30:53.947350Z",
     "shell.execute_reply": "2023-05-26T05:30:53.946615Z"
    }
   },
   "outputs": [
    {
     "name": "stdout",
     "output_type": "stream",
     "text": [
      "58.4 ns ± 0.0705 ns per loop (mean ± std. dev. of 7 runs, 10,000,000 loops each)\n"
     ]
    }
   ],
   "source": [
    "%timeit b.a"
   ]
  },
  {
   "cell_type": "code",
   "execution_count": 12,
   "id": "ad54dc69",
   "metadata": {
    "execution": {
     "iopub.execute_input": "2023-05-26T05:30:53.951006Z",
     "iopub.status.busy": "2023-05-26T05:30:53.950568Z",
     "iopub.status.idle": "2023-05-26T05:30:53.957246Z",
     "shell.execute_reply": "2023-05-26T05:30:53.956540Z"
    }
   },
   "outputs": [
    {
     "data": {
      "text/plain": [
       "Batch(\n",
       "    a: tensor([[-0.4049, -1.3676, -0.1918],\n",
       "               [ 0.6414, -0.2744, -0.6001]]),\n",
       "    x: Batch(\n",
       "           c: tensor([[ 1.8835, -0.4989, -1.1123, -0.2295],\n",
       "                      [ 0.1457, -1.1854,  0.3117,  0.8347],\n",
       "                      [-0.3989, -0.2347, -2.7108, -0.1627]]),\n",
       "       ),\n",
       ")"
      ]
     },
     "execution_count": 12,
     "metadata": {},
     "output_type": "execute_result"
    }
   ],
   "source": [
    "new_value = torch.randn(2, 3)\n",
    "b.a = new_value\n",
    "\n",
    "b"
   ]
  },
  {
   "cell_type": "code",
   "execution_count": 13,
   "id": "29b1d0bf",
   "metadata": {
    "execution": {
     "iopub.execute_input": "2023-05-26T05:30:53.960316Z",
     "iopub.status.busy": "2023-05-26T05:30:53.959864Z",
     "iopub.status.idle": "2023-05-26T05:30:58.018594Z",
     "shell.execute_reply": "2023-05-26T05:30:58.017820Z"
    }
   },
   "outputs": [
    {
     "name": "stdout",
     "output_type": "stream",
     "text": [
      "499 ns ± 0.185 ns per loop (mean ± std. dev. of 7 runs, 1,000,000 loops each)\n"
     ]
    }
   ],
   "source": [
    "%timeit b.a = new_value"
   ]
  },
  {
   "cell_type": "markdown",
   "id": "b61ad1d0",
   "metadata": {},
   "source": [
    "## Initialization"
   ]
  },
  {
   "cell_type": "markdown",
   "id": "d70f0d54",
   "metadata": {},
   "source": [
    "### TreeValue's Initialization"
   ]
  },
  {
   "cell_type": "code",
   "execution_count": 14,
   "id": "d32a679b",
   "metadata": {
    "execution": {
     "iopub.execute_input": "2023-05-26T05:30:58.022511Z",
     "iopub.status.busy": "2023-05-26T05:30:58.022056Z",
     "iopub.status.idle": "2023-05-26T05:31:05.017944Z",
     "shell.execute_reply": "2023-05-26T05:31:05.017222Z"
    }
   },
   "outputs": [
    {
     "name": "stdout",
     "output_type": "stream",
     "text": [
      "861 ns ± 1.76 ns per loop (mean ± std. dev. of 7 runs, 1,000,000 loops each)\n"
     ]
    }
   ],
   "source": [
    "%timeit FastTreeValue(_TREE_DATA_1)"
   ]
  },
  {
   "cell_type": "markdown",
   "id": "24f3707b",
   "metadata": {},
   "source": [
    "### Tianshou Batch's Initialization"
   ]
  },
  {
   "cell_type": "code",
   "execution_count": 15,
   "id": "ac3958df",
   "metadata": {
    "execution": {
     "iopub.execute_input": "2023-05-26T05:31:05.021654Z",
     "iopub.status.busy": "2023-05-26T05:31:05.020949Z",
     "iopub.status.idle": "2023-05-26T05:31:13.598145Z",
     "shell.execute_reply": "2023-05-26T05:31:13.597405Z"
    }
   },
   "outputs": [
    {
     "name": "stdout",
     "output_type": "stream",
     "text": [
      "10.5 µs ± 15.3 ns per loop (mean ± std. dev. of 7 runs, 100,000 loops each)\n"
     ]
    }
   ],
   "source": [
    "%timeit Batch(**_TREE_DATA_1)"
   ]
  },
  {
   "cell_type": "markdown",
   "id": "1ab82e2d",
   "metadata": {},
   "source": [
    "## Deep Copy Operation"
   ]
  },
  {
   "cell_type": "code",
   "execution_count": 16,
   "id": "210a9442",
   "metadata": {
    "execution": {
     "iopub.execute_input": "2023-05-26T05:31:13.601919Z",
     "iopub.status.busy": "2023-05-26T05:31:13.601392Z",
     "iopub.status.idle": "2023-05-26T05:31:13.605071Z",
     "shell.execute_reply": "2023-05-26T05:31:13.604296Z"
    }
   },
   "outputs": [],
   "source": [
    "import copy"
   ]
  },
  {
   "cell_type": "markdown",
   "id": "5a736274",
   "metadata": {},
   "source": [
    "### Deep Copy of TreeValue"
   ]
  },
  {
   "cell_type": "code",
   "execution_count": 17,
   "id": "f9bcadd6",
   "metadata": {
    "execution": {
     "iopub.execute_input": "2023-05-26T05:31:13.608726Z",
     "iopub.status.busy": "2023-05-26T05:31:13.608108Z",
     "iopub.status.idle": "2023-05-26T05:31:25.336225Z",
     "shell.execute_reply": "2023-05-26T05:31:25.335598Z"
    }
   },
   "outputs": [
    {
     "name": "stdout",
     "output_type": "stream",
     "text": [
      "145 µs ± 1.18 µs per loop (mean ± std. dev. of 7 runs, 10,000 loops each)\n"
     ]
    }
   ],
   "source": [
    "t3 = FastTreeValue(_TREE_DATA_3)\n",
    "%timeit copy.deepcopy(t3)"
   ]
  },
  {
   "cell_type": "markdown",
   "id": "bf8be7ea",
   "metadata": {},
   "source": [
    "### Deep Copy of Tianshou Batch"
   ]
  },
  {
   "cell_type": "code",
   "execution_count": 18,
   "id": "91998e6f",
   "metadata": {
    "execution": {
     "iopub.execute_input": "2023-05-26T05:31:25.339564Z",
     "iopub.status.busy": "2023-05-26T05:31:25.339157Z",
     "iopub.status.idle": "2023-05-26T05:31:37.154423Z",
     "shell.execute_reply": "2023-05-26T05:31:37.153607Z"
    }
   },
   "outputs": [
    {
     "name": "stdout",
     "output_type": "stream",
     "text": [
      "146 µs ± 594 ns per loop (mean ± std. dev. of 7 runs, 10,000 loops each)\n"
     ]
    }
   ],
   "source": [
    "b3 = Batch(**_TREE_DATA_3)\n",
    "%timeit copy.deepcopy(b3)"
   ]
  },
  {
   "cell_type": "markdown",
   "id": "223162fb",
   "metadata": {},
   "source": [
    "## Stack, Concat and Split Operation"
   ]
  },
  {
   "cell_type": "markdown",
   "id": "85fa4a73",
   "metadata": {},
   "source": [
    "### Performance of TreeValue"
   ]
  },
  {
   "cell_type": "code",
   "execution_count": 19,
   "id": "a0c2b697",
   "metadata": {
    "execution": {
     "iopub.execute_input": "2023-05-26T05:31:37.158028Z",
     "iopub.status.busy": "2023-05-26T05:31:37.157759Z",
     "iopub.status.idle": "2023-05-26T05:31:37.162187Z",
     "shell.execute_reply": "2023-05-26T05:31:37.161486Z"
    }
   },
   "outputs": [],
   "source": [
    "trees = [FastTreeValue(_TREE_DATA_2) for _ in range(8)]"
   ]
  },
  {
   "cell_type": "code",
   "execution_count": 20,
   "id": "017ea5a5",
   "metadata": {
    "execution": {
     "iopub.execute_input": "2023-05-26T05:31:37.165650Z",
     "iopub.status.busy": "2023-05-26T05:31:37.165093Z",
     "iopub.status.idle": "2023-05-26T05:31:37.173792Z",
     "shell.execute_reply": "2023-05-26T05:31:37.173173Z"
    }
   },
   "outputs": [
    {
     "data": {
      "text/plain": [
       "<FastTreeValue 0x7f23ef7fce20>\n",
       "├── 'a' --> tensor([[[ 0.6932, -1.0206,  0.3206],\n",
       "│                    [ 0.7897,  0.1470, -0.4013]],\n",
       "│           \n",
       "│                   [[ 0.6932, -1.0206,  0.3206],\n",
       "│                    [ 0.7897,  0.1470, -0.4013]],\n",
       "│           \n",
       "│                   [[ 0.6932, -1.0206,  0.3206],\n",
       "│                    [ 0.7897,  0.1470, -0.4013]],\n",
       "│           \n",
       "│                   [[ 0.6932, -1.0206,  0.3206],\n",
       "│                    [ 0.7897,  0.1470, -0.4013]],\n",
       "│           \n",
       "│                   [[ 0.6932, -1.0206,  0.3206],\n",
       "│                    [ 0.7897,  0.1470, -0.4013]],\n",
       "│           \n",
       "│                   [[ 0.6932, -1.0206,  0.3206],\n",
       "│                    [ 0.7897,  0.1470, -0.4013]],\n",
       "│           \n",
       "│                   [[ 0.6932, -1.0206,  0.3206],\n",
       "│                    [ 0.7897,  0.1470, -0.4013]],\n",
       "│           \n",
       "│                   [[ 0.6932, -1.0206,  0.3206],\n",
       "│                    [ 0.7897,  0.1470, -0.4013]]])\n",
       "└── 'x' --> <FastTreeValue 0x7f23f08caa30>\n",
       "    └── 'c' --> tensor([[[ 1.8835, -0.4989, -1.1123, -0.2295],\n",
       "                         [ 0.1457, -1.1854,  0.3117,  0.8347],\n",
       "                         [-0.3989, -0.2347, -2.7108, -0.1627]],\n",
       "                \n",
       "                        [[ 1.8835, -0.4989, -1.1123, -0.2295],\n",
       "                         [ 0.1457, -1.1854,  0.3117,  0.8347],\n",
       "                         [-0.3989, -0.2347, -2.7108, -0.1627]],\n",
       "                \n",
       "                        [[ 1.8835, -0.4989, -1.1123, -0.2295],\n",
       "                         [ 0.1457, -1.1854,  0.3117,  0.8347],\n",
       "                         [-0.3989, -0.2347, -2.7108, -0.1627]],\n",
       "                \n",
       "                        [[ 1.8835, -0.4989, -1.1123, -0.2295],\n",
       "                         [ 0.1457, -1.1854,  0.3117,  0.8347],\n",
       "                         [-0.3989, -0.2347, -2.7108, -0.1627]],\n",
       "                \n",
       "                        [[ 1.8835, -0.4989, -1.1123, -0.2295],\n",
       "                         [ 0.1457, -1.1854,  0.3117,  0.8347],\n",
       "                         [-0.3989, -0.2347, -2.7108, -0.1627]],\n",
       "                \n",
       "                        [[ 1.8835, -0.4989, -1.1123, -0.2295],\n",
       "                         [ 0.1457, -1.1854,  0.3117,  0.8347],\n",
       "                         [-0.3989, -0.2347, -2.7108, -0.1627]],\n",
       "                \n",
       "                        [[ 1.8835, -0.4989, -1.1123, -0.2295],\n",
       "                         [ 0.1457, -1.1854,  0.3117,  0.8347],\n",
       "                         [-0.3989, -0.2347, -2.7108, -0.1627]],\n",
       "                \n",
       "                        [[ 1.8835, -0.4989, -1.1123, -0.2295],\n",
       "                         [ 0.1457, -1.1854,  0.3117,  0.8347],\n",
       "                         [-0.3989, -0.2347, -2.7108, -0.1627]]])"
      ]
     },
     "execution_count": 20,
     "metadata": {},
     "output_type": "execute_result"
    }
   ],
   "source": [
    "t_stack = FastTreeValue.func(subside=True)(torch.stack)\n",
    "\n",
    "t_stack(trees)"
   ]
  },
  {
   "cell_type": "code",
   "execution_count": 21,
   "id": "f8b3f415",
   "metadata": {
    "execution": {
     "iopub.execute_input": "2023-05-26T05:31:37.177004Z",
     "iopub.status.busy": "2023-05-26T05:31:37.176649Z",
     "iopub.status.idle": "2023-05-26T05:31:39.878813Z",
     "shell.execute_reply": "2023-05-26T05:31:39.878063Z"
    }
   },
   "outputs": [
    {
     "name": "stdout",
     "output_type": "stream",
     "text": [
      "33.2 µs ± 135 ns per loop (mean ± std. dev. of 7 runs, 10,000 loops each)\n"
     ]
    }
   ],
   "source": [
    "%timeit t_stack(trees)"
   ]
  },
  {
   "cell_type": "code",
   "execution_count": 22,
   "id": "94b56771",
   "metadata": {
    "execution": {
     "iopub.execute_input": "2023-05-26T05:31:39.882318Z",
     "iopub.status.busy": "2023-05-26T05:31:39.881639Z",
     "iopub.status.idle": "2023-05-26T05:31:39.889528Z",
     "shell.execute_reply": "2023-05-26T05:31:39.888817Z"
    }
   },
   "outputs": [
    {
     "data": {
      "text/plain": [
       "<FastTreeValue 0x7f24bc516850>\n",
       "├── 'a' --> tensor([[ 0.6932, -1.0206,  0.3206],\n",
       "│                   [ 0.7897,  0.1470, -0.4013],\n",
       "│                   [ 0.6932, -1.0206,  0.3206],\n",
       "│                   [ 0.7897,  0.1470, -0.4013],\n",
       "│                   [ 0.6932, -1.0206,  0.3206],\n",
       "│                   [ 0.7897,  0.1470, -0.4013],\n",
       "│                   [ 0.6932, -1.0206,  0.3206],\n",
       "│                   [ 0.7897,  0.1470, -0.4013],\n",
       "│                   [ 0.6932, -1.0206,  0.3206],\n",
       "│                   [ 0.7897,  0.1470, -0.4013],\n",
       "│                   [ 0.6932, -1.0206,  0.3206],\n",
       "│                   [ 0.7897,  0.1470, -0.4013],\n",
       "│                   [ 0.6932, -1.0206,  0.3206],\n",
       "│                   [ 0.7897,  0.1470, -0.4013],\n",
       "│                   [ 0.6932, -1.0206,  0.3206],\n",
       "│                   [ 0.7897,  0.1470, -0.4013]])\n",
       "└── 'x' --> <FastTreeValue 0x7f23f8a9c430>\n",
       "    └── 'c' --> tensor([[ 1.8835, -0.4989, -1.1123, -0.2295],\n",
       "                        [ 0.1457, -1.1854,  0.3117,  0.8347],\n",
       "                        [-0.3989, -0.2347, -2.7108, -0.1627],\n",
       "                        [ 1.8835, -0.4989, -1.1123, -0.2295],\n",
       "                        [ 0.1457, -1.1854,  0.3117,  0.8347],\n",
       "                        [-0.3989, -0.2347, -2.7108, -0.1627],\n",
       "                        [ 1.8835, -0.4989, -1.1123, -0.2295],\n",
       "                        [ 0.1457, -1.1854,  0.3117,  0.8347],\n",
       "                        [-0.3989, -0.2347, -2.7108, -0.1627],\n",
       "                        [ 1.8835, -0.4989, -1.1123, -0.2295],\n",
       "                        [ 0.1457, -1.1854,  0.3117,  0.8347],\n",
       "                        [-0.3989, -0.2347, -2.7108, -0.1627],\n",
       "                        [ 1.8835, -0.4989, -1.1123, -0.2295],\n",
       "                        [ 0.1457, -1.1854,  0.3117,  0.8347],\n",
       "                        [-0.3989, -0.2347, -2.7108, -0.1627],\n",
       "                        [ 1.8835, -0.4989, -1.1123, -0.2295],\n",
       "                        [ 0.1457, -1.1854,  0.3117,  0.8347],\n",
       "                        [-0.3989, -0.2347, -2.7108, -0.1627],\n",
       "                        [ 1.8835, -0.4989, -1.1123, -0.2295],\n",
       "                        [ 0.1457, -1.1854,  0.3117,  0.8347],\n",
       "                        [-0.3989, -0.2347, -2.7108, -0.1627],\n",
       "                        [ 1.8835, -0.4989, -1.1123, -0.2295],\n",
       "                        [ 0.1457, -1.1854,  0.3117,  0.8347],\n",
       "                        [-0.3989, -0.2347, -2.7108, -0.1627]])"
      ]
     },
     "execution_count": 22,
     "metadata": {},
     "output_type": "execute_result"
    }
   ],
   "source": [
    "t_cat = FastTreeValue.func(subside=True)(torch.cat)\n",
    "\n",
    "t_cat(trees)"
   ]
  },
  {
   "cell_type": "code",
   "execution_count": 23,
   "id": "5e9c06a6",
   "metadata": {
    "execution": {
     "iopub.execute_input": "2023-05-26T05:31:39.892540Z",
     "iopub.status.busy": "2023-05-26T05:31:39.892167Z",
     "iopub.status.idle": "2023-05-26T05:31:42.393379Z",
     "shell.execute_reply": "2023-05-26T05:31:42.392650Z"
    }
   },
   "outputs": [
    {
     "name": "stdout",
     "output_type": "stream",
     "text": [
      "30.7 µs ± 35.9 ns per loop (mean ± std. dev. of 7 runs, 10,000 loops each)\n"
     ]
    }
   ],
   "source": [
    "%timeit t_cat(trees)"
   ]
  },
  {
   "cell_type": "code",
   "execution_count": 24,
   "id": "a3ab5c8f",
   "metadata": {
    "execution": {
     "iopub.execute_input": "2023-05-26T05:31:42.397092Z",
     "iopub.status.busy": "2023-05-26T05:31:42.396527Z",
     "iopub.status.idle": "2023-05-26T05:31:47.650538Z",
     "shell.execute_reply": "2023-05-26T05:31:47.649781Z"
    }
   },
   "outputs": [
    {
     "name": "stdout",
     "output_type": "stream",
     "text": [
      "64.6 µs ± 25.9 ns per loop (mean ± std. dev. of 7 runs, 10,000 loops each)\n"
     ]
    }
   ],
   "source": [
    "t_split = FastTreeValue.func(rise=True)(torch.split)\n",
    "tree = FastTreeValue({\n",
    "    'obs': torch.randn(8, 4, 84, 84),\n",
    "    'action': torch.randint(0, 6, size=(8, 1,)),\n",
    "    'reward': torch.rand(8, 1),\n",
    "})\n",
    "\n",
    "%timeit t_split(tree, 1)"
   ]
  },
  {
   "cell_type": "markdown",
   "id": "31c3ec0b",
   "metadata": {},
   "source": [
    "### Performance of Tianshou Batch"
   ]
  },
  {
   "cell_type": "code",
   "execution_count": 25,
   "id": "9ead828a",
   "metadata": {
    "execution": {
     "iopub.execute_input": "2023-05-26T05:31:47.654411Z",
     "iopub.status.busy": "2023-05-26T05:31:47.653765Z",
     "iopub.status.idle": "2023-05-26T05:31:47.662246Z",
     "shell.execute_reply": "2023-05-26T05:31:47.661507Z"
    }
   },
   "outputs": [
    {
     "data": {
      "text/plain": [
       "Batch(\n",
       "    a: tensor([[[ 0.6932, -1.0206,  0.3206],\n",
       "                [ 0.7897,  0.1470, -0.4013]],\n",
       "       \n",
       "               [[ 0.6932, -1.0206,  0.3206],\n",
       "                [ 0.7897,  0.1470, -0.4013]],\n",
       "       \n",
       "               [[ 0.6932, -1.0206,  0.3206],\n",
       "                [ 0.7897,  0.1470, -0.4013]],\n",
       "       \n",
       "               [[ 0.6932, -1.0206,  0.3206],\n",
       "                [ 0.7897,  0.1470, -0.4013]],\n",
       "       \n",
       "               [[ 0.6932, -1.0206,  0.3206],\n",
       "                [ 0.7897,  0.1470, -0.4013]],\n",
       "       \n",
       "               [[ 0.6932, -1.0206,  0.3206],\n",
       "                [ 0.7897,  0.1470, -0.4013]],\n",
       "       \n",
       "               [[ 0.6932, -1.0206,  0.3206],\n",
       "                [ 0.7897,  0.1470, -0.4013]],\n",
       "       \n",
       "               [[ 0.6932, -1.0206,  0.3206],\n",
       "                [ 0.7897,  0.1470, -0.4013]]]),\n",
       "    x: Batch(\n",
       "           c: tensor([[[ 1.8835, -0.4989, -1.1123, -0.2295],\n",
       "                       [ 0.1457, -1.1854,  0.3117,  0.8347],\n",
       "                       [-0.3989, -0.2347, -2.7108, -0.1627]],\n",
       "              \n",
       "                      [[ 1.8835, -0.4989, -1.1123, -0.2295],\n",
       "                       [ 0.1457, -1.1854,  0.3117,  0.8347],\n",
       "                       [-0.3989, -0.2347, -2.7108, -0.1627]],\n",
       "              \n",
       "                      [[ 1.8835, -0.4989, -1.1123, -0.2295],\n",
       "                       [ 0.1457, -1.1854,  0.3117,  0.8347],\n",
       "                       [-0.3989, -0.2347, -2.7108, -0.1627]],\n",
       "              \n",
       "                      [[ 1.8835, -0.4989, -1.1123, -0.2295],\n",
       "                       [ 0.1457, -1.1854,  0.3117,  0.8347],\n",
       "                       [-0.3989, -0.2347, -2.7108, -0.1627]],\n",
       "              \n",
       "                      [[ 1.8835, -0.4989, -1.1123, -0.2295],\n",
       "                       [ 0.1457, -1.1854,  0.3117,  0.8347],\n",
       "                       [-0.3989, -0.2347, -2.7108, -0.1627]],\n",
       "              \n",
       "                      [[ 1.8835, -0.4989, -1.1123, -0.2295],\n",
       "                       [ 0.1457, -1.1854,  0.3117,  0.8347],\n",
       "                       [-0.3989, -0.2347, -2.7108, -0.1627]],\n",
       "              \n",
       "                      [[ 1.8835, -0.4989, -1.1123, -0.2295],\n",
       "                       [ 0.1457, -1.1854,  0.3117,  0.8347],\n",
       "                       [-0.3989, -0.2347, -2.7108, -0.1627]],\n",
       "              \n",
       "                      [[ 1.8835, -0.4989, -1.1123, -0.2295],\n",
       "                       [ 0.1457, -1.1854,  0.3117,  0.8347],\n",
       "                       [-0.3989, -0.2347, -2.7108, -0.1627]]]),\n",
       "       ),\n",
       ")"
      ]
     },
     "execution_count": 25,
     "metadata": {},
     "output_type": "execute_result"
    }
   ],
   "source": [
    "batches = [Batch(**_TREE_DATA_2) for _ in range(8)]\n",
    "\n",
    "Batch.stack(batches)"
   ]
  },
  {
   "cell_type": "code",
   "execution_count": 26,
   "id": "ec9037a3",
   "metadata": {
    "execution": {
     "iopub.execute_input": "2023-05-26T05:31:47.665680Z",
     "iopub.status.busy": "2023-05-26T05:31:47.665098Z",
     "iopub.status.idle": "2023-05-26T05:31:54.056063Z",
     "shell.execute_reply": "2023-05-26T05:31:54.055325Z"
    }
   },
   "outputs": [
    {
     "name": "stdout",
     "output_type": "stream",
     "text": [
      "78.6 µs ± 145 ns per loop (mean ± std. dev. of 7 runs, 10,000 loops each)\n"
     ]
    }
   ],
   "source": [
    "%timeit Batch.stack(batches)"
   ]
  },
  {
   "cell_type": "code",
   "execution_count": 27,
   "id": "cb8ab77e",
   "metadata": {
    "execution": {
     "iopub.execute_input": "2023-05-26T05:31:54.059660Z",
     "iopub.status.busy": "2023-05-26T05:31:54.059237Z",
     "iopub.status.idle": "2023-05-26T05:31:54.067756Z",
     "shell.execute_reply": "2023-05-26T05:31:54.067033Z"
    }
   },
   "outputs": [
    {
     "data": {
      "text/plain": [
       "Batch(\n",
       "    a: tensor([[ 0.6932, -1.0206,  0.3206],\n",
       "               [ 0.7897,  0.1470, -0.4013],\n",
       "               [ 0.6932, -1.0206,  0.3206],\n",
       "               [ 0.7897,  0.1470, -0.4013],\n",
       "               [ 0.6932, -1.0206,  0.3206],\n",
       "               [ 0.7897,  0.1470, -0.4013],\n",
       "               [ 0.6932, -1.0206,  0.3206],\n",
       "               [ 0.7897,  0.1470, -0.4013],\n",
       "               [ 0.6932, -1.0206,  0.3206],\n",
       "               [ 0.7897,  0.1470, -0.4013],\n",
       "               [ 0.6932, -1.0206,  0.3206],\n",
       "               [ 0.7897,  0.1470, -0.4013],\n",
       "               [ 0.6932, -1.0206,  0.3206],\n",
       "               [ 0.7897,  0.1470, -0.4013],\n",
       "               [ 0.6932, -1.0206,  0.3206],\n",
       "               [ 0.7897,  0.1470, -0.4013]]),\n",
       "    x: Batch(\n",
       "           c: tensor([[ 1.8835, -0.4989, -1.1123, -0.2295],\n",
       "                      [ 0.1457, -1.1854,  0.3117,  0.8347],\n",
       "                      [-0.3989, -0.2347, -2.7108, -0.1627],\n",
       "                      [ 1.8835, -0.4989, -1.1123, -0.2295],\n",
       "                      [ 0.1457, -1.1854,  0.3117,  0.8347],\n",
       "                      [-0.3989, -0.2347, -2.7108, -0.1627],\n",
       "                      [ 1.8835, -0.4989, -1.1123, -0.2295],\n",
       "                      [ 0.1457, -1.1854,  0.3117,  0.8347],\n",
       "                      [-0.3989, -0.2347, -2.7108, -0.1627],\n",
       "                      [ 1.8835, -0.4989, -1.1123, -0.2295],\n",
       "                      [ 0.1457, -1.1854,  0.3117,  0.8347],\n",
       "                      [-0.3989, -0.2347, -2.7108, -0.1627],\n",
       "                      [ 1.8835, -0.4989, -1.1123, -0.2295],\n",
       "                      [ 0.1457, -1.1854,  0.3117,  0.8347],\n",
       "                      [-0.3989, -0.2347, -2.7108, -0.1627],\n",
       "                      [ 1.8835, -0.4989, -1.1123, -0.2295],\n",
       "                      [ 0.1457, -1.1854,  0.3117,  0.8347],\n",
       "                      [-0.3989, -0.2347, -2.7108, -0.1627],\n",
       "                      [ 1.8835, -0.4989, -1.1123, -0.2295],\n",
       "                      [ 0.1457, -1.1854,  0.3117,  0.8347],\n",
       "                      [-0.3989, -0.2347, -2.7108, -0.1627],\n",
       "                      [ 1.8835, -0.4989, -1.1123, -0.2295],\n",
       "                      [ 0.1457, -1.1854,  0.3117,  0.8347],\n",
       "                      [-0.3989, -0.2347, -2.7108, -0.1627]]),\n",
       "       ),\n",
       ")"
      ]
     },
     "execution_count": 27,
     "metadata": {},
     "output_type": "execute_result"
    }
   ],
   "source": [
    "Batch.cat(batches)"
   ]
  },
  {
   "cell_type": "code",
   "execution_count": 28,
   "id": "18dfb045",
   "metadata": {
    "execution": {
     "iopub.execute_input": "2023-05-26T05:31:54.070838Z",
     "iopub.status.busy": "2023-05-26T05:31:54.070359Z",
     "iopub.status.idle": "2023-05-26T05:32:06.164637Z",
     "shell.execute_reply": "2023-05-26T05:32:06.163240Z"
    }
   },
   "outputs": [
    {
     "name": "stdout",
     "output_type": "stream",
     "text": [
      "149 µs ± 246 ns per loop (mean ± std. dev. of 7 runs, 10,000 loops each)\n"
     ]
    }
   ],
   "source": [
    "%timeit Batch.cat(batches)"
   ]
  },
  {
   "cell_type": "code",
   "execution_count": 29,
   "id": "c6688e51",
   "metadata": {
    "execution": {
     "iopub.execute_input": "2023-05-26T05:32:06.168525Z",
     "iopub.status.busy": "2023-05-26T05:32:06.168031Z",
     "iopub.status.idle": "2023-05-26T05:32:08.954430Z",
     "shell.execute_reply": "2023-05-26T05:32:08.953803Z"
    }
   },
   "outputs": [
    {
     "name": "stdout",
     "output_type": "stream",
     "text": [
      "343 µs ± 5.85 µs per loop (mean ± std. dev. of 7 runs, 1,000 loops each)\n"
     ]
    }
   ],
   "source": [
    "batch = Batch({\n",
    "    'obs': torch.randn(8, 4, 84, 84),\n",
    "    'action': torch.randint(0, 6, size=(8, 1,)),\n",
    "    'reward': torch.rand(8, 1)}\n",
    ")\n",
    "\n",
    "%timeit list(Batch.split(batch, 1, shuffle=False, merge_last=True))"
   ]
  },
  {
   "cell_type": "code",
   "execution_count": null,
   "id": "2539fbd9",
   "metadata": {},
   "outputs": [],
   "source": []
  }
 ],
 "metadata": {
  "kernelspec": {
   "display_name": "Python 3 (ipykernel)",
   "language": "python",
   "name": "python3"
  },
  "language_info": {
   "codemirror_mode": {
    "name": "ipython",
    "version": 3
   },
   "file_extension": ".py",
   "mimetype": "text/x-python",
   "name": "python",
   "nbconvert_exporter": "python",
   "pygments_lexer": "ipython3",
   "version": "3.8.16"
  }
 },
 "nbformat": 4,
 "nbformat_minor": 5
}
