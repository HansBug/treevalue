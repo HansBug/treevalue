{
 "cells": [
  {
   "cell_type": "markdown",
   "id": "9d39d946",
   "metadata": {},
   "source": [
    "# Comparison Between TreeValue and Tianshou Batch"
   ]
  },
  {
   "cell_type": "markdown",
   "id": "3c6db2d4",
   "metadata": {},
   "source": [
    "In this section, we will take a look at the feature and performance of the [Tianshou Batch](https://github.com/thu-ml/tianshou) library, which is developed by Tsinghua Machine Learning Group."
   ]
  },
  {
   "cell_type": "markdown",
   "id": "069361b0",
   "metadata": {},
   "source": [
    "Before starting the comparison, let us define some thing."
   ]
  },
  {
   "cell_type": "code",
   "execution_count": 1,
   "id": "06fc8d26",
   "metadata": {
    "execution": {
     "iopub.execute_input": "2023-03-06T18:04:19.386455Z",
     "iopub.status.busy": "2023-03-06T18:04:19.386144Z",
     "iopub.status.idle": "2023-03-06T18:04:20.732850Z",
     "shell.execute_reply": "2023-03-06T18:04:20.731693Z"
    }
   },
   "outputs": [
    {
     "name": "stderr",
     "output_type": "stream",
     "text": [
      "/opt/hostedtoolcache/Python/3.8.16/x64/lib/python3.8/site-packages/tqdm/auto.py:21: TqdmWarning: IProgress not found. Please update jupyter and ipywidgets. See https://ipywidgets.readthedocs.io/en/stable/user_install.html\n",
      "  from .autonotebook import tqdm as notebook_tqdm\n"
     ]
    }
   ],
   "source": [
    "import torch \n",
    "\n",
    "_TREE_DATA_1 = {'a': 1, 'b': 2, 'x': {'c': 3, 'd': 4}}\n",
    "_TREE_DATA_2 = {\n",
    "    'a': torch.randn(2, 3), \n",
    "    'x': {\n",
    "        'c': torch.randn(3, 4)\n",
    "    },\n",
    "}\n",
    "_TREE_DATA_3 = {\n",
    "    'obs': torch.randn(4, 84, 84),\n",
    "    'action': torch.randint(0, 6, size=(1,)),\n",
    "    'reward': torch.rand(1),\n",
    "}"
   ]
  },
  {
   "cell_type": "markdown",
   "id": "83461b25",
   "metadata": {},
   "source": [
    "## Read and Write Operation"
   ]
  },
  {
   "cell_type": "markdown",
   "id": "067b3f73",
   "metadata": {},
   "source": [
    "Reading and writing are the two most common operations in the tree data structure based on the data model (TreeValue and Tianshou Batch both belong to this type), so this section will compare the reading and writing performance of these two libraries."
   ]
  },
  {
   "cell_type": "markdown",
   "id": "5d09a5b7",
   "metadata": {},
   "source": [
    "### TreeValue's Get and Set"
   ]
  },
  {
   "cell_type": "code",
   "execution_count": 2,
   "id": "9519c4bb",
   "metadata": {
    "execution": {
     "iopub.execute_input": "2023-03-06T18:04:20.737850Z",
     "iopub.status.busy": "2023-03-06T18:04:20.737137Z",
     "iopub.status.idle": "2023-03-06T18:04:20.790003Z",
     "shell.execute_reply": "2023-03-06T18:04:20.788910Z"
    }
   },
   "outputs": [],
   "source": [
    "from treevalue import FastTreeValue\n",
    "\n",
    "t = FastTreeValue(_TREE_DATA_2)"
   ]
  },
  {
   "cell_type": "code",
   "execution_count": 3,
   "id": "11c37677",
   "metadata": {
    "execution": {
     "iopub.execute_input": "2023-03-06T18:04:20.794528Z",
     "iopub.status.busy": "2023-03-06T18:04:20.794203Z",
     "iopub.status.idle": "2023-03-06T18:04:20.808564Z",
     "shell.execute_reply": "2023-03-06T18:04:20.807517Z"
    }
   },
   "outputs": [
    {
     "data": {
      "text/plain": [
       "<FastTreeValue 0x7f260b972af0>\n",
       "├── 'a' --> tensor([[ 0.1714, -0.7040, -0.0253],\n",
       "│                   [-0.2833,  1.4810,  0.4034]])\n",
       "└── 'x' --> <FastTreeValue 0x7f260b972a30>\n",
       "    └── 'c' --> tensor([[-0.0704, -0.1894, -0.9141,  1.5382],\n",
       "                        [-0.6836, -2.3312,  0.8132,  0.1927],\n",
       "                        [ 1.2177, -2.0872, -1.3261, -1.0642]])"
      ]
     },
     "execution_count": 3,
     "metadata": {},
     "output_type": "execute_result"
    }
   ],
   "source": [
    "t"
   ]
  },
  {
   "cell_type": "code",
   "execution_count": 4,
   "id": "fd70b0b9",
   "metadata": {
    "execution": {
     "iopub.execute_input": "2023-03-06T18:04:20.812833Z",
     "iopub.status.busy": "2023-03-06T18:04:20.812534Z",
     "iopub.status.idle": "2023-03-06T18:04:20.819370Z",
     "shell.execute_reply": "2023-03-06T18:04:20.818310Z"
    }
   },
   "outputs": [
    {
     "data": {
      "text/plain": [
       "tensor([[ 0.1714, -0.7040, -0.0253],\n",
       "        [-0.2833,  1.4810,  0.4034]])"
      ]
     },
     "execution_count": 4,
     "metadata": {},
     "output_type": "execute_result"
    }
   ],
   "source": [
    "t.a"
   ]
  },
  {
   "cell_type": "code",
   "execution_count": 5,
   "id": "c18197bd",
   "metadata": {
    "execution": {
     "iopub.execute_input": "2023-03-06T18:04:20.823547Z",
     "iopub.status.busy": "2023-03-06T18:04:20.822792Z",
     "iopub.status.idle": "2023-03-06T18:04:27.024534Z",
     "shell.execute_reply": "2023-03-06T18:04:27.022925Z"
    }
   },
   "outputs": [
    {
     "name": "stdout",
     "output_type": "stream",
     "text": [
      "76.5 ns ± 1.12 ns per loop (mean ± std. dev. of 7 runs, 10,000,000 loops each)\n"
     ]
    }
   ],
   "source": [
    "%timeit t.a"
   ]
  },
  {
   "cell_type": "code",
   "execution_count": 6,
   "id": "bd52f867",
   "metadata": {
    "execution": {
     "iopub.execute_input": "2023-03-06T18:04:27.029056Z",
     "iopub.status.busy": "2023-03-06T18:04:27.028056Z",
     "iopub.status.idle": "2023-03-06T18:04:27.037254Z",
     "shell.execute_reply": "2023-03-06T18:04:27.036191Z"
    }
   },
   "outputs": [
    {
     "data": {
      "text/plain": [
       "<FastTreeValue 0x7f260b972af0>\n",
       "├── 'a' --> tensor([[ 0.8381, -0.1267,  0.7325],\n",
       "│                   [ 1.6251, -0.0650, -2.0804]])\n",
       "└── 'x' --> <FastTreeValue 0x7f260b972a30>\n",
       "    └── 'c' --> tensor([[-0.0704, -0.1894, -0.9141,  1.5382],\n",
       "                        [-0.6836, -2.3312,  0.8132,  0.1927],\n",
       "                        [ 1.2177, -2.0872, -1.3261, -1.0642]])"
      ]
     },
     "execution_count": 6,
     "metadata": {},
     "output_type": "execute_result"
    }
   ],
   "source": [
    "new_value = torch.randn(2, 3)\n",
    "t.a = new_value\n",
    "\n",
    "t"
   ]
  },
  {
   "cell_type": "code",
   "execution_count": 7,
   "id": "bbe04d1c",
   "metadata": {
    "execution": {
     "iopub.execute_input": "2023-03-06T18:04:27.041758Z",
     "iopub.status.busy": "2023-03-06T18:04:27.040913Z",
     "iopub.status.idle": "2023-03-06T18:04:33.602199Z",
     "shell.execute_reply": "2023-03-06T18:04:33.600762Z"
    }
   },
   "outputs": [
    {
     "name": "stdout",
     "output_type": "stream",
     "text": [
      "80.7 ns ± 1.11 ns per loop (mean ± std. dev. of 7 runs, 10,000,000 loops each)\n"
     ]
    }
   ],
   "source": [
    "%timeit t.a = new_value"
   ]
  },
  {
   "cell_type": "markdown",
   "id": "48c49731",
   "metadata": {},
   "source": [
    "### Tianshou Batch's Get and Set"
   ]
  },
  {
   "cell_type": "code",
   "execution_count": 8,
   "id": "f1bb14c1",
   "metadata": {
    "execution": {
     "iopub.execute_input": "2023-03-06T18:04:33.606542Z",
     "iopub.status.busy": "2023-03-06T18:04:33.605975Z",
     "iopub.status.idle": "2023-03-06T18:04:34.116124Z",
     "shell.execute_reply": "2023-03-06T18:04:34.114881Z"
    }
   },
   "outputs": [],
   "source": [
    "from tianshou.data import Batch\n",
    "\n",
    "b = Batch(**_TREE_DATA_2)"
   ]
  },
  {
   "cell_type": "code",
   "execution_count": 9,
   "id": "cb0777c3",
   "metadata": {
    "execution": {
     "iopub.execute_input": "2023-03-06T18:04:34.120727Z",
     "iopub.status.busy": "2023-03-06T18:04:34.119875Z",
     "iopub.status.idle": "2023-03-06T18:04:34.129446Z",
     "shell.execute_reply": "2023-03-06T18:04:34.128161Z"
    }
   },
   "outputs": [
    {
     "data": {
      "text/plain": [
       "Batch(\n",
       "    a: tensor([[ 0.1714, -0.7040, -0.0253],\n",
       "               [-0.2833,  1.4810,  0.4034]]),\n",
       "    x: Batch(\n",
       "           c: tensor([[-0.0704, -0.1894, -0.9141,  1.5382],\n",
       "                      [-0.6836, -2.3312,  0.8132,  0.1927],\n",
       "                      [ 1.2177, -2.0872, -1.3261, -1.0642]]),\n",
       "       ),\n",
       ")"
      ]
     },
     "execution_count": 9,
     "metadata": {},
     "output_type": "execute_result"
    }
   ],
   "source": [
    "b"
   ]
  },
  {
   "cell_type": "code",
   "execution_count": 10,
   "id": "43ef8ea3",
   "metadata": {
    "execution": {
     "iopub.execute_input": "2023-03-06T18:04:34.132591Z",
     "iopub.status.busy": "2023-03-06T18:04:34.132328Z",
     "iopub.status.idle": "2023-03-06T18:04:34.139451Z",
     "shell.execute_reply": "2023-03-06T18:04:34.138446Z"
    }
   },
   "outputs": [
    {
     "data": {
      "text/plain": [
       "tensor([[ 0.1714, -0.7040, -0.0253],\n",
       "        [-0.2833,  1.4810,  0.4034]])"
      ]
     },
     "execution_count": 10,
     "metadata": {},
     "output_type": "execute_result"
    }
   ],
   "source": [
    "b.a"
   ]
  },
  {
   "cell_type": "code",
   "execution_count": 11,
   "id": "b785ab72",
   "metadata": {
    "execution": {
     "iopub.execute_input": "2023-03-06T18:04:34.144595Z",
     "iopub.status.busy": "2023-03-06T18:04:34.144197Z",
     "iopub.status.idle": "2023-03-06T18:04:39.682924Z",
     "shell.execute_reply": "2023-03-06T18:04:39.681172Z"
    }
   },
   "outputs": [
    {
     "name": "stdout",
     "output_type": "stream",
     "text": [
      "68.3 ns ± 1.43 ns per loop (mean ± std. dev. of 7 runs, 10,000,000 loops each)\n"
     ]
    }
   ],
   "source": [
    "%timeit b.a"
   ]
  },
  {
   "cell_type": "code",
   "execution_count": 12,
   "id": "ad54dc69",
   "metadata": {
    "execution": {
     "iopub.execute_input": "2023-03-06T18:04:39.687133Z",
     "iopub.status.busy": "2023-03-06T18:04:39.686773Z",
     "iopub.status.idle": "2023-03-06T18:04:39.696156Z",
     "shell.execute_reply": "2023-03-06T18:04:39.695094Z"
    }
   },
   "outputs": [
    {
     "data": {
      "text/plain": [
       "Batch(\n",
       "    a: tensor([[-0.3120, -0.7845,  1.4945],\n",
       "               [ 0.5157,  1.2948, -0.2645]]),\n",
       "    x: Batch(\n",
       "           c: tensor([[-0.0704, -0.1894, -0.9141,  1.5382],\n",
       "                      [-0.6836, -2.3312,  0.8132,  0.1927],\n",
       "                      [ 1.2177, -2.0872, -1.3261, -1.0642]]),\n",
       "       ),\n",
       ")"
      ]
     },
     "execution_count": 12,
     "metadata": {},
     "output_type": "execute_result"
    }
   ],
   "source": [
    "new_value = torch.randn(2, 3)\n",
    "b.a = new_value\n",
    "\n",
    "b"
   ]
  },
  {
   "cell_type": "code",
   "execution_count": 13,
   "id": "29b1d0bf",
   "metadata": {
    "execution": {
     "iopub.execute_input": "2023-03-06T18:04:39.699876Z",
     "iopub.status.busy": "2023-03-06T18:04:39.699599Z",
     "iopub.status.idle": "2023-03-06T18:04:45.042656Z",
     "shell.execute_reply": "2023-03-06T18:04:45.041643Z"
    }
   },
   "outputs": [
    {
     "name": "stdout",
     "output_type": "stream",
     "text": [
      "658 ns ± 3.63 ns per loop (mean ± std. dev. of 7 runs, 1,000,000 loops each)\n"
     ]
    }
   ],
   "source": [
    "%timeit b.a = new_value"
   ]
  },
  {
   "cell_type": "markdown",
   "id": "b61ad1d0",
   "metadata": {},
   "source": [
    "## Initialization"
   ]
  },
  {
   "cell_type": "markdown",
   "id": "d70f0d54",
   "metadata": {},
   "source": [
    "### TreeValue's Initialization"
   ]
  },
  {
   "cell_type": "code",
   "execution_count": 14,
   "id": "d32a679b",
   "metadata": {
    "execution": {
     "iopub.execute_input": "2023-03-06T18:04:45.047083Z",
     "iopub.status.busy": "2023-03-06T18:04:45.046772Z",
     "iopub.status.idle": "2023-03-06T18:04:54.002501Z",
     "shell.execute_reply": "2023-03-06T18:04:54.001513Z"
    }
   },
   "outputs": [
    {
     "name": "stdout",
     "output_type": "stream",
     "text": [
      "1.1 µs ± 10.6 ns per loop (mean ± std. dev. of 7 runs, 1,000,000 loops each)\n"
     ]
    }
   ],
   "source": [
    "%timeit FastTreeValue(_TREE_DATA_1)"
   ]
  },
  {
   "cell_type": "markdown",
   "id": "24f3707b",
   "metadata": {},
   "source": [
    "### Tianshou Batch's Initialization"
   ]
  },
  {
   "cell_type": "code",
   "execution_count": 15,
   "id": "ac3958df",
   "metadata": {
    "execution": {
     "iopub.execute_input": "2023-03-06T18:04:54.007382Z",
     "iopub.status.busy": "2023-03-06T18:04:54.006376Z",
     "iopub.status.idle": "2023-03-06T18:05:05.853985Z",
     "shell.execute_reply": "2023-03-06T18:05:05.852897Z"
    }
   },
   "outputs": [
    {
     "name": "stdout",
     "output_type": "stream",
     "text": [
      "14.6 µs ± 201 ns per loop (mean ± std. dev. of 7 runs, 100,000 loops each)\n"
     ]
    }
   ],
   "source": [
    "%timeit Batch(**_TREE_DATA_1)"
   ]
  },
  {
   "cell_type": "markdown",
   "id": "1ab82e2d",
   "metadata": {},
   "source": [
    "## Deep Copy Operation"
   ]
  },
  {
   "cell_type": "code",
   "execution_count": 16,
   "id": "210a9442",
   "metadata": {
    "execution": {
     "iopub.execute_input": "2023-03-06T18:05:05.860244Z",
     "iopub.status.busy": "2023-03-06T18:05:05.857637Z",
     "iopub.status.idle": "2023-03-06T18:05:05.864763Z",
     "shell.execute_reply": "2023-03-06T18:05:05.863705Z"
    }
   },
   "outputs": [],
   "source": [
    "import copy"
   ]
  },
  {
   "cell_type": "markdown",
   "id": "5a736274",
   "metadata": {},
   "source": [
    "### Deep Copy of TreeValue"
   ]
  },
  {
   "cell_type": "code",
   "execution_count": 17,
   "id": "f9bcadd6",
   "metadata": {
    "execution": {
     "iopub.execute_input": "2023-03-06T18:05:05.869100Z",
     "iopub.status.busy": "2023-03-06T18:05:05.868496Z",
     "iopub.status.idle": "2023-03-06T18:05:08.268078Z",
     "shell.execute_reply": "2023-03-06T18:05:08.266964Z"
    }
   },
   "outputs": [
    {
     "name": "stdout",
     "output_type": "stream",
     "text": [
      "295 µs ± 3.93 µs per loop (mean ± std. dev. of 7 runs, 1,000 loops each)\n"
     ]
    }
   ],
   "source": [
    "t3 = FastTreeValue(_TREE_DATA_3)\n",
    "%timeit copy.deepcopy(t3)"
   ]
  },
  {
   "cell_type": "markdown",
   "id": "bf8be7ea",
   "metadata": {},
   "source": [
    "### Deep Copy of Tianshou Batch"
   ]
  },
  {
   "cell_type": "code",
   "execution_count": 18,
   "id": "91998e6f",
   "metadata": {
    "execution": {
     "iopub.execute_input": "2023-03-06T18:05:08.272392Z",
     "iopub.status.busy": "2023-03-06T18:05:08.271817Z",
     "iopub.status.idle": "2023-03-06T18:05:10.618730Z",
     "shell.execute_reply": "2023-03-06T18:05:10.617739Z"
    }
   },
   "outputs": [
    {
     "name": "stdout",
     "output_type": "stream",
     "text": [
      "286 µs ± 7.41 µs per loop (mean ± std. dev. of 7 runs, 1,000 loops each)\n"
     ]
    }
   ],
   "source": [
    "b3 = Batch(**_TREE_DATA_3)\n",
    "%timeit copy.deepcopy(b3)"
   ]
  },
  {
   "cell_type": "markdown",
   "id": "223162fb",
   "metadata": {},
   "source": [
    "## Stack, Concat and Split Operation"
   ]
  },
  {
   "cell_type": "markdown",
   "id": "85fa4a73",
   "metadata": {},
   "source": [
    "### Performance of TreeValue"
   ]
  },
  {
   "cell_type": "code",
   "execution_count": 19,
   "id": "a0c2b697",
   "metadata": {
    "execution": {
     "iopub.execute_input": "2023-03-06T18:05:10.623414Z",
     "iopub.status.busy": "2023-03-06T18:05:10.622509Z",
     "iopub.status.idle": "2023-03-06T18:05:10.627755Z",
     "shell.execute_reply": "2023-03-06T18:05:10.626892Z"
    }
   },
   "outputs": [],
   "source": [
    "trees = [FastTreeValue(_TREE_DATA_2) for _ in range(8)]"
   ]
  },
  {
   "cell_type": "code",
   "execution_count": 20,
   "id": "017ea5a5",
   "metadata": {
    "execution": {
     "iopub.execute_input": "2023-03-06T18:05:10.632009Z",
     "iopub.status.busy": "2023-03-06T18:05:10.631706Z",
     "iopub.status.idle": "2023-03-06T18:05:10.648770Z",
     "shell.execute_reply": "2023-03-06T18:05:10.647838Z"
    }
   },
   "outputs": [
    {
     "data": {
      "text/plain": [
       "<FastTreeValue 0x7f255c5857c0>\n",
       "├── 'a' --> tensor([[[ 0.1714, -0.7040, -0.0253],\n",
       "│                    [-0.2833,  1.4810,  0.4034]],\n",
       "│           \n",
       "│                   [[ 0.1714, -0.7040, -0.0253],\n",
       "│                    [-0.2833,  1.4810,  0.4034]],\n",
       "│           \n",
       "│                   [[ 0.1714, -0.7040, -0.0253],\n",
       "│                    [-0.2833,  1.4810,  0.4034]],\n",
       "│           \n",
       "│                   [[ 0.1714, -0.7040, -0.0253],\n",
       "│                    [-0.2833,  1.4810,  0.4034]],\n",
       "│           \n",
       "│                   [[ 0.1714, -0.7040, -0.0253],\n",
       "│                    [-0.2833,  1.4810,  0.4034]],\n",
       "│           \n",
       "│                   [[ 0.1714, -0.7040, -0.0253],\n",
       "│                    [-0.2833,  1.4810,  0.4034]],\n",
       "│           \n",
       "│                   [[ 0.1714, -0.7040, -0.0253],\n",
       "│                    [-0.2833,  1.4810,  0.4034]],\n",
       "│           \n",
       "│                   [[ 0.1714, -0.7040, -0.0253],\n",
       "│                    [-0.2833,  1.4810,  0.4034]]])\n",
       "└── 'x' --> <FastTreeValue 0x7f255cb7fbb0>\n",
       "    └── 'c' --> tensor([[[-0.0704, -0.1894, -0.9141,  1.5382],\n",
       "                         [-0.6836, -2.3312,  0.8132,  0.1927],\n",
       "                         [ 1.2177, -2.0872, -1.3261, -1.0642]],\n",
       "                \n",
       "                        [[-0.0704, -0.1894, -0.9141,  1.5382],\n",
       "                         [-0.6836, -2.3312,  0.8132,  0.1927],\n",
       "                         [ 1.2177, -2.0872, -1.3261, -1.0642]],\n",
       "                \n",
       "                        [[-0.0704, -0.1894, -0.9141,  1.5382],\n",
       "                         [-0.6836, -2.3312,  0.8132,  0.1927],\n",
       "                         [ 1.2177, -2.0872, -1.3261, -1.0642]],\n",
       "                \n",
       "                        [[-0.0704, -0.1894, -0.9141,  1.5382],\n",
       "                         [-0.6836, -2.3312,  0.8132,  0.1927],\n",
       "                         [ 1.2177, -2.0872, -1.3261, -1.0642]],\n",
       "                \n",
       "                        [[-0.0704, -0.1894, -0.9141,  1.5382],\n",
       "                         [-0.6836, -2.3312,  0.8132,  0.1927],\n",
       "                         [ 1.2177, -2.0872, -1.3261, -1.0642]],\n",
       "                \n",
       "                        [[-0.0704, -0.1894, -0.9141,  1.5382],\n",
       "                         [-0.6836, -2.3312,  0.8132,  0.1927],\n",
       "                         [ 1.2177, -2.0872, -1.3261, -1.0642]],\n",
       "                \n",
       "                        [[-0.0704, -0.1894, -0.9141,  1.5382],\n",
       "                         [-0.6836, -2.3312,  0.8132,  0.1927],\n",
       "                         [ 1.2177, -2.0872, -1.3261, -1.0642]],\n",
       "                \n",
       "                        [[-0.0704, -0.1894, -0.9141,  1.5382],\n",
       "                         [-0.6836, -2.3312,  0.8132,  0.1927],\n",
       "                         [ 1.2177, -2.0872, -1.3261, -1.0642]]])"
      ]
     },
     "execution_count": 20,
     "metadata": {},
     "output_type": "execute_result"
    }
   ],
   "source": [
    "t_stack = FastTreeValue.func(subside=True)(torch.stack)\n",
    "\n",
    "t_stack(trees)"
   ]
  },
  {
   "cell_type": "code",
   "execution_count": 21,
   "id": "f8b3f415",
   "metadata": {
    "execution": {
     "iopub.execute_input": "2023-03-06T18:05:10.654133Z",
     "iopub.status.busy": "2023-03-06T18:05:10.652208Z",
     "iopub.status.idle": "2023-03-06T18:05:14.742897Z",
     "shell.execute_reply": "2023-03-06T18:05:14.741745Z"
    }
   },
   "outputs": [
    {
     "name": "stdout",
     "output_type": "stream",
     "text": [
      "50.2 µs ± 983 ns per loop (mean ± std. dev. of 7 runs, 10,000 loops each)\n"
     ]
    }
   ],
   "source": [
    "%timeit t_stack(trees)"
   ]
  },
  {
   "cell_type": "code",
   "execution_count": 22,
   "id": "94b56771",
   "metadata": {
    "execution": {
     "iopub.execute_input": "2023-03-06T18:05:14.747182Z",
     "iopub.status.busy": "2023-03-06T18:05:14.746813Z",
     "iopub.status.idle": "2023-03-06T18:05:14.758649Z",
     "shell.execute_reply": "2023-03-06T18:05:14.757594Z"
    }
   },
   "outputs": [
    {
     "data": {
      "text/plain": [
       "<FastTreeValue 0x7f255c585730>\n",
       "├── 'a' --> tensor([[ 0.1714, -0.7040, -0.0253],\n",
       "│                   [-0.2833,  1.4810,  0.4034],\n",
       "│                   [ 0.1714, -0.7040, -0.0253],\n",
       "│                   [-0.2833,  1.4810,  0.4034],\n",
       "│                   [ 0.1714, -0.7040, -0.0253],\n",
       "│                   [-0.2833,  1.4810,  0.4034],\n",
       "│                   [ 0.1714, -0.7040, -0.0253],\n",
       "│                   [-0.2833,  1.4810,  0.4034],\n",
       "│                   [ 0.1714, -0.7040, -0.0253],\n",
       "│                   [-0.2833,  1.4810,  0.4034],\n",
       "│                   [ 0.1714, -0.7040, -0.0253],\n",
       "│                   [-0.2833,  1.4810,  0.4034],\n",
       "│                   [ 0.1714, -0.7040, -0.0253],\n",
       "│                   [-0.2833,  1.4810,  0.4034],\n",
       "│                   [ 0.1714, -0.7040, -0.0253],\n",
       "│                   [-0.2833,  1.4810,  0.4034]])\n",
       "└── 'x' --> <FastTreeValue 0x7f255c585cd0>\n",
       "    └── 'c' --> tensor([[-0.0704, -0.1894, -0.9141,  1.5382],\n",
       "                        [-0.6836, -2.3312,  0.8132,  0.1927],\n",
       "                        [ 1.2177, -2.0872, -1.3261, -1.0642],\n",
       "                        [-0.0704, -0.1894, -0.9141,  1.5382],\n",
       "                        [-0.6836, -2.3312,  0.8132,  0.1927],\n",
       "                        [ 1.2177, -2.0872, -1.3261, -1.0642],\n",
       "                        [-0.0704, -0.1894, -0.9141,  1.5382],\n",
       "                        [-0.6836, -2.3312,  0.8132,  0.1927],\n",
       "                        [ 1.2177, -2.0872, -1.3261, -1.0642],\n",
       "                        [-0.0704, -0.1894, -0.9141,  1.5382],\n",
       "                        [-0.6836, -2.3312,  0.8132,  0.1927],\n",
       "                        [ 1.2177, -2.0872, -1.3261, -1.0642],\n",
       "                        [-0.0704, -0.1894, -0.9141,  1.5382],\n",
       "                        [-0.6836, -2.3312,  0.8132,  0.1927],\n",
       "                        [ 1.2177, -2.0872, -1.3261, -1.0642],\n",
       "                        [-0.0704, -0.1894, -0.9141,  1.5382],\n",
       "                        [-0.6836, -2.3312,  0.8132,  0.1927],\n",
       "                        [ 1.2177, -2.0872, -1.3261, -1.0642],\n",
       "                        [-0.0704, -0.1894, -0.9141,  1.5382],\n",
       "                        [-0.6836, -2.3312,  0.8132,  0.1927],\n",
       "                        [ 1.2177, -2.0872, -1.3261, -1.0642],\n",
       "                        [-0.0704, -0.1894, -0.9141,  1.5382],\n",
       "                        [-0.6836, -2.3312,  0.8132,  0.1927],\n",
       "                        [ 1.2177, -2.0872, -1.3261, -1.0642]])"
      ]
     },
     "execution_count": 22,
     "metadata": {},
     "output_type": "execute_result"
    }
   ],
   "source": [
    "t_cat = FastTreeValue.func(subside=True)(torch.cat)\n",
    "\n",
    "t_cat(trees)"
   ]
  },
  {
   "cell_type": "code",
   "execution_count": 23,
   "id": "5e9c06a6",
   "metadata": {
    "execution": {
     "iopub.execute_input": "2023-03-06T18:05:14.762657Z",
     "iopub.status.busy": "2023-03-06T18:05:14.762331Z",
     "iopub.status.idle": "2023-03-06T18:05:18.537253Z",
     "shell.execute_reply": "2023-03-06T18:05:18.536156Z"
    }
   },
   "outputs": [
    {
     "name": "stdout",
     "output_type": "stream",
     "text": [
      "46.4 µs ± 440 ns per loop (mean ± std. dev. of 7 runs, 10,000 loops each)\n"
     ]
    }
   ],
   "source": [
    "%timeit t_cat(trees)"
   ]
  },
  {
   "cell_type": "code",
   "execution_count": 24,
   "id": "a3ab5c8f",
   "metadata": {
    "execution": {
     "iopub.execute_input": "2023-03-06T18:05:18.541499Z",
     "iopub.status.busy": "2023-03-06T18:05:18.540892Z",
     "iopub.status.idle": "2023-03-06T18:05:25.519587Z",
     "shell.execute_reply": "2023-03-06T18:05:25.518447Z"
    }
   },
   "outputs": [
    {
     "name": "stdout",
     "output_type": "stream",
     "text": [
      "85.8 µs ± 1.23 µs per loop (mean ± std. dev. of 7 runs, 10,000 loops each)\n"
     ]
    }
   ],
   "source": [
    "t_split = FastTreeValue.func(rise=True)(torch.split)\n",
    "tree = FastTreeValue({\n",
    "    'obs': torch.randn(8, 4, 84, 84),\n",
    "    'action': torch.randint(0, 6, size=(8, 1,)),\n",
    "    'reward': torch.rand(8, 1),\n",
    "})\n",
    "\n",
    "%timeit t_split(tree, 1)"
   ]
  },
  {
   "cell_type": "markdown",
   "id": "31c3ec0b",
   "metadata": {},
   "source": [
    "### Performance of Tianshou Batch"
   ]
  },
  {
   "cell_type": "code",
   "execution_count": 25,
   "id": "9ead828a",
   "metadata": {
    "execution": {
     "iopub.execute_input": "2023-03-06T18:05:25.523674Z",
     "iopub.status.busy": "2023-03-06T18:05:25.523075Z",
     "iopub.status.idle": "2023-03-06T18:05:25.534468Z",
     "shell.execute_reply": "2023-03-06T18:05:25.533520Z"
    }
   },
   "outputs": [
    {
     "data": {
      "text/plain": [
       "Batch(\n",
       "    a: tensor([[[ 0.1714, -0.7040, -0.0253],\n",
       "                [-0.2833,  1.4810,  0.4034]],\n",
       "       \n",
       "               [[ 0.1714, -0.7040, -0.0253],\n",
       "                [-0.2833,  1.4810,  0.4034]],\n",
       "       \n",
       "               [[ 0.1714, -0.7040, -0.0253],\n",
       "                [-0.2833,  1.4810,  0.4034]],\n",
       "       \n",
       "               [[ 0.1714, -0.7040, -0.0253],\n",
       "                [-0.2833,  1.4810,  0.4034]],\n",
       "       \n",
       "               [[ 0.1714, -0.7040, -0.0253],\n",
       "                [-0.2833,  1.4810,  0.4034]],\n",
       "       \n",
       "               [[ 0.1714, -0.7040, -0.0253],\n",
       "                [-0.2833,  1.4810,  0.4034]],\n",
       "       \n",
       "               [[ 0.1714, -0.7040, -0.0253],\n",
       "                [-0.2833,  1.4810,  0.4034]],\n",
       "       \n",
       "               [[ 0.1714, -0.7040, -0.0253],\n",
       "                [-0.2833,  1.4810,  0.4034]]]),\n",
       "    x: Batch(\n",
       "           c: tensor([[[-0.0704, -0.1894, -0.9141,  1.5382],\n",
       "                       [-0.6836, -2.3312,  0.8132,  0.1927],\n",
       "                       [ 1.2177, -2.0872, -1.3261, -1.0642]],\n",
       "              \n",
       "                      [[-0.0704, -0.1894, -0.9141,  1.5382],\n",
       "                       [-0.6836, -2.3312,  0.8132,  0.1927],\n",
       "                       [ 1.2177, -2.0872, -1.3261, -1.0642]],\n",
       "              \n",
       "                      [[-0.0704, -0.1894, -0.9141,  1.5382],\n",
       "                       [-0.6836, -2.3312,  0.8132,  0.1927],\n",
       "                       [ 1.2177, -2.0872, -1.3261, -1.0642]],\n",
       "              \n",
       "                      [[-0.0704, -0.1894, -0.9141,  1.5382],\n",
       "                       [-0.6836, -2.3312,  0.8132,  0.1927],\n",
       "                       [ 1.2177, -2.0872, -1.3261, -1.0642]],\n",
       "              \n",
       "                      [[-0.0704, -0.1894, -0.9141,  1.5382],\n",
       "                       [-0.6836, -2.3312,  0.8132,  0.1927],\n",
       "                       [ 1.2177, -2.0872, -1.3261, -1.0642]],\n",
       "              \n",
       "                      [[-0.0704, -0.1894, -0.9141,  1.5382],\n",
       "                       [-0.6836, -2.3312,  0.8132,  0.1927],\n",
       "                       [ 1.2177, -2.0872, -1.3261, -1.0642]],\n",
       "              \n",
       "                      [[-0.0704, -0.1894, -0.9141,  1.5382],\n",
       "                       [-0.6836, -2.3312,  0.8132,  0.1927],\n",
       "                       [ 1.2177, -2.0872, -1.3261, -1.0642]],\n",
       "              \n",
       "                      [[-0.0704, -0.1894, -0.9141,  1.5382],\n",
       "                       [-0.6836, -2.3312,  0.8132,  0.1927],\n",
       "                       [ 1.2177, -2.0872, -1.3261, -1.0642]]]),\n",
       "       ),\n",
       ")"
      ]
     },
     "execution_count": 25,
     "metadata": {},
     "output_type": "execute_result"
    }
   ],
   "source": [
    "batches = [Batch(**_TREE_DATA_2) for _ in range(8)]\n",
    "\n",
    "Batch.stack(batches)"
   ]
  },
  {
   "cell_type": "code",
   "execution_count": 26,
   "id": "ec9037a3",
   "metadata": {
    "execution": {
     "iopub.execute_input": "2023-03-06T18:05:25.538612Z",
     "iopub.status.busy": "2023-03-06T18:05:25.538038Z",
     "iopub.status.idle": "2023-03-06T18:05:34.451796Z",
     "shell.execute_reply": "2023-03-06T18:05:34.450723Z"
    }
   },
   "outputs": [
    {
     "name": "stdout",
     "output_type": "stream",
     "text": [
      "110 µs ± 1.85 µs per loop (mean ± std. dev. of 7 runs, 10,000 loops each)\n"
     ]
    }
   ],
   "source": [
    "%timeit Batch.stack(batches)"
   ]
  },
  {
   "cell_type": "code",
   "execution_count": 27,
   "id": "cb8ab77e",
   "metadata": {
    "execution": {
     "iopub.execute_input": "2023-03-06T18:05:34.455974Z",
     "iopub.status.busy": "2023-03-06T18:05:34.455609Z",
     "iopub.status.idle": "2023-03-06T18:05:34.470498Z",
     "shell.execute_reply": "2023-03-06T18:05:34.469515Z"
    }
   },
   "outputs": [
    {
     "data": {
      "text/plain": [
       "Batch(\n",
       "    a: tensor([[ 0.1714, -0.7040, -0.0253],\n",
       "               [-0.2833,  1.4810,  0.4034],\n",
       "               [ 0.1714, -0.7040, -0.0253],\n",
       "               [-0.2833,  1.4810,  0.4034],\n",
       "               [ 0.1714, -0.7040, -0.0253],\n",
       "               [-0.2833,  1.4810,  0.4034],\n",
       "               [ 0.1714, -0.7040, -0.0253],\n",
       "               [-0.2833,  1.4810,  0.4034],\n",
       "               [ 0.1714, -0.7040, -0.0253],\n",
       "               [-0.2833,  1.4810,  0.4034],\n",
       "               [ 0.1714, -0.7040, -0.0253],\n",
       "               [-0.2833,  1.4810,  0.4034],\n",
       "               [ 0.1714, -0.7040, -0.0253],\n",
       "               [-0.2833,  1.4810,  0.4034],\n",
       "               [ 0.1714, -0.7040, -0.0253],\n",
       "               [-0.2833,  1.4810,  0.4034]]),\n",
       "    x: Batch(\n",
       "           c: tensor([[-0.0704, -0.1894, -0.9141,  1.5382],\n",
       "                      [-0.6836, -2.3312,  0.8132,  0.1927],\n",
       "                      [ 1.2177, -2.0872, -1.3261, -1.0642],\n",
       "                      [-0.0704, -0.1894, -0.9141,  1.5382],\n",
       "                      [-0.6836, -2.3312,  0.8132,  0.1927],\n",
       "                      [ 1.2177, -2.0872, -1.3261, -1.0642],\n",
       "                      [-0.0704, -0.1894, -0.9141,  1.5382],\n",
       "                      [-0.6836, -2.3312,  0.8132,  0.1927],\n",
       "                      [ 1.2177, -2.0872, -1.3261, -1.0642],\n",
       "                      [-0.0704, -0.1894, -0.9141,  1.5382],\n",
       "                      [-0.6836, -2.3312,  0.8132,  0.1927],\n",
       "                      [ 1.2177, -2.0872, -1.3261, -1.0642],\n",
       "                      [-0.0704, -0.1894, -0.9141,  1.5382],\n",
       "                      [-0.6836, -2.3312,  0.8132,  0.1927],\n",
       "                      [ 1.2177, -2.0872, -1.3261, -1.0642],\n",
       "                      [-0.0704, -0.1894, -0.9141,  1.5382],\n",
       "                      [-0.6836, -2.3312,  0.8132,  0.1927],\n",
       "                      [ 1.2177, -2.0872, -1.3261, -1.0642],\n",
       "                      [-0.0704, -0.1894, -0.9141,  1.5382],\n",
       "                      [-0.6836, -2.3312,  0.8132,  0.1927],\n",
       "                      [ 1.2177, -2.0872, -1.3261, -1.0642],\n",
       "                      [-0.0704, -0.1894, -0.9141,  1.5382],\n",
       "                      [-0.6836, -2.3312,  0.8132,  0.1927],\n",
       "                      [ 1.2177, -2.0872, -1.3261, -1.0642]]),\n",
       "       ),\n",
       ")"
      ]
     },
     "execution_count": 27,
     "metadata": {},
     "output_type": "execute_result"
    }
   ],
   "source": [
    "Batch.cat(batches)"
   ]
  },
  {
   "cell_type": "code",
   "execution_count": 28,
   "id": "18dfb045",
   "metadata": {
    "execution": {
     "iopub.execute_input": "2023-03-06T18:05:34.475308Z",
     "iopub.status.busy": "2023-03-06T18:05:34.474305Z",
     "iopub.status.idle": "2023-03-06T18:05:36.390656Z",
     "shell.execute_reply": "2023-03-06T18:05:36.389554Z"
    }
   },
   "outputs": [
    {
     "name": "stdout",
     "output_type": "stream",
     "text": [
      "237 µs ± 3.57 µs per loop (mean ± std. dev. of 7 runs, 1,000 loops each)\n"
     ]
    }
   ],
   "source": [
    "%timeit Batch.cat(batches)"
   ]
  },
  {
   "cell_type": "code",
   "execution_count": 29,
   "id": "c6688e51",
   "metadata": {
    "execution": {
     "iopub.execute_input": "2023-03-06T18:05:36.394975Z",
     "iopub.status.busy": "2023-03-06T18:05:36.394608Z",
     "iopub.status.idle": "2023-03-06T18:05:40.915063Z",
     "shell.execute_reply": "2023-03-06T18:05:40.913893Z"
    }
   },
   "outputs": [
    {
     "name": "stdout",
     "output_type": "stream",
     "text": [
      "558 µs ± 15.8 µs per loop (mean ± std. dev. of 7 runs, 1,000 loops each)\n"
     ]
    }
   ],
   "source": [
    "batch = Batch({\n",
    "    'obs': torch.randn(8, 4, 84, 84),\n",
    "    'action': torch.randint(0, 6, size=(8, 1,)),\n",
    "    'reward': torch.rand(8, 1)}\n",
    ")\n",
    "\n",
    "%timeit list(Batch.split(batch, 1, shuffle=False, merge_last=True))"
   ]
  },
  {
   "cell_type": "code",
   "execution_count": null,
   "id": "2539fbd9",
   "metadata": {},
   "outputs": [],
   "source": []
  }
 ],
 "metadata": {
  "kernelspec": {
   "display_name": "Python 3 (ipykernel)",
   "language": "python",
   "name": "python3"
  },
  "language_info": {
   "codemirror_mode": {
    "name": "ipython",
    "version": 3
   },
   "file_extension": ".py",
   "mimetype": "text/x-python",
   "name": "python",
   "nbconvert_exporter": "python",
   "pygments_lexer": "ipython3",
   "version": "3.8.16"
  }
 },
 "nbformat": 4,
 "nbformat_minor": 5
}
