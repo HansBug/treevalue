{
 "cells": [
  {
   "cell_type": "markdown",
   "id": "9d39d946",
   "metadata": {},
   "source": [
    "# Comparison Between TreeValue and Tianshou Batch"
   ]
  },
  {
   "cell_type": "markdown",
   "id": "3c6db2d4",
   "metadata": {},
   "source": [
    "In this section, we will take a look at the feature and performance of the [Tianshou Batch](https://github.com/thu-ml/tianshou) library, which is developed by Tsinghua Machine Learning Group."
   ]
  },
  {
   "cell_type": "markdown",
   "id": "069361b0",
   "metadata": {},
   "source": [
    "Before starting the comparison, let us define some thing."
   ]
  },
  {
   "cell_type": "code",
   "execution_count": 1,
   "id": "06fc8d26",
   "metadata": {
    "execution": {
     "iopub.execute_input": "2023-03-06T16:59:54.228876Z",
     "iopub.status.busy": "2023-03-06T16:59:54.227743Z",
     "iopub.status.idle": "2023-03-06T16:59:55.156657Z",
     "shell.execute_reply": "2023-03-06T16:59:55.155977Z"
    }
   },
   "outputs": [
    {
     "name": "stderr",
     "output_type": "stream",
     "text": [
      "/opt/hostedtoolcache/Python/3.8.16/x64/lib/python3.8/site-packages/tqdm/auto.py:21: TqdmWarning: IProgress not found. Please update jupyter and ipywidgets. See https://ipywidgets.readthedocs.io/en/stable/user_install.html\n",
      "  from .autonotebook import tqdm as notebook_tqdm\n"
     ]
    }
   ],
   "source": [
    "import torch \n",
    "\n",
    "_TREE_DATA_1 = {'a': 1, 'b': 2, 'x': {'c': 3, 'd': 4}}\n",
    "_TREE_DATA_2 = {\n",
    "    'a': torch.randn(2, 3), \n",
    "    'x': {\n",
    "        'c': torch.randn(3, 4)\n",
    "    },\n",
    "}\n",
    "_TREE_DATA_3 = {\n",
    "    'obs': torch.randn(4, 84, 84),\n",
    "    'action': torch.randint(0, 6, size=(1,)),\n",
    "    'reward': torch.rand(1),\n",
    "}"
   ]
  },
  {
   "cell_type": "markdown",
   "id": "83461b25",
   "metadata": {},
   "source": [
    "## Read and Write Operation"
   ]
  },
  {
   "cell_type": "markdown",
   "id": "067b3f73",
   "metadata": {},
   "source": [
    "Reading and writing are the two most common operations in the tree data structure based on the data model (TreeValue and Tianshou Batch both belong to this type), so this section will compare the reading and writing performance of these two libraries."
   ]
  },
  {
   "cell_type": "markdown",
   "id": "5d09a5b7",
   "metadata": {},
   "source": [
    "### TreeValue's Get and Set"
   ]
  },
  {
   "cell_type": "code",
   "execution_count": 2,
   "id": "9519c4bb",
   "metadata": {
    "execution": {
     "iopub.execute_input": "2023-03-06T16:59:55.160237Z",
     "iopub.status.busy": "2023-03-06T16:59:55.159577Z",
     "iopub.status.idle": "2023-03-06T16:59:55.192976Z",
     "shell.execute_reply": "2023-03-06T16:59:55.192327Z"
    }
   },
   "outputs": [],
   "source": [
    "from treevalue import FastTreeValue\n",
    "\n",
    "t = FastTreeValue(_TREE_DATA_2)"
   ]
  },
  {
   "cell_type": "code",
   "execution_count": 3,
   "id": "11c37677",
   "metadata": {
    "execution": {
     "iopub.execute_input": "2023-03-06T16:59:55.196228Z",
     "iopub.status.busy": "2023-03-06T16:59:55.195657Z",
     "iopub.status.idle": "2023-03-06T16:59:55.204075Z",
     "shell.execute_reply": "2023-03-06T16:59:55.203411Z"
    }
   },
   "outputs": [
    {
     "data": {
      "text/plain": [
       "<FastTreeValue 0x7f54c05eaa90>\n",
       "├── 'a' --> tensor([[ 0.3830,  0.0220,  0.7479],\n",
       "│                   [ 0.4820, -0.9826, -0.1873]])\n",
       "└── 'x' --> <FastTreeValue 0x7f54c05eac40>\n",
       "    └── 'c' --> tensor([[ 0.0574,  1.1141,  1.6522, -0.2473],\n",
       "                        [-0.9451,  1.3151, -1.0868, -0.0230],\n",
       "                        [-2.4932,  1.5259, -1.2255,  1.0099]])"
      ]
     },
     "execution_count": 3,
     "metadata": {},
     "output_type": "execute_result"
    }
   ],
   "source": [
    "t"
   ]
  },
  {
   "cell_type": "code",
   "execution_count": 4,
   "id": "fd70b0b9",
   "metadata": {
    "execution": {
     "iopub.execute_input": "2023-03-06T16:59:55.206623Z",
     "iopub.status.busy": "2023-03-06T16:59:55.206273Z",
     "iopub.status.idle": "2023-03-06T16:59:55.211048Z",
     "shell.execute_reply": "2023-03-06T16:59:55.210416Z"
    }
   },
   "outputs": [
    {
     "data": {
      "text/plain": [
       "tensor([[ 0.3830,  0.0220,  0.7479],\n",
       "        [ 0.4820, -0.9826, -0.1873]])"
      ]
     },
     "execution_count": 4,
     "metadata": {},
     "output_type": "execute_result"
    }
   ],
   "source": [
    "t.a"
   ]
  },
  {
   "cell_type": "code",
   "execution_count": 5,
   "id": "c18197bd",
   "metadata": {
    "execution": {
     "iopub.execute_input": "2023-03-06T16:59:55.213995Z",
     "iopub.status.busy": "2023-03-06T16:59:55.213520Z",
     "iopub.status.idle": "2023-03-06T17:00:00.287586Z",
     "shell.execute_reply": "2023-03-06T17:00:00.286820Z"
    }
   },
   "outputs": [
    {
     "name": "stdout",
     "output_type": "stream",
     "text": [
      "62.3 ns ± 0.0191 ns per loop (mean ± std. dev. of 7 runs, 10,000,000 loops each)\n"
     ]
    }
   ],
   "source": [
    "%timeit t.a"
   ]
  },
  {
   "cell_type": "code",
   "execution_count": 6,
   "id": "bd52f867",
   "metadata": {
    "execution": {
     "iopub.execute_input": "2023-03-06T17:00:00.290637Z",
     "iopub.status.busy": "2023-03-06T17:00:00.290098Z",
     "iopub.status.idle": "2023-03-06T17:00:00.296666Z",
     "shell.execute_reply": "2023-03-06T17:00:00.296071Z"
    }
   },
   "outputs": [
    {
     "data": {
      "text/plain": [
       "<FastTreeValue 0x7f54c05eaa90>\n",
       "├── 'a' --> tensor([[ 0.9871,  0.0186, -1.1179],\n",
       "│                   [-0.9618,  0.2985, -1.7517]])\n",
       "└── 'x' --> <FastTreeValue 0x7f54c05eac40>\n",
       "    └── 'c' --> tensor([[ 0.0574,  1.1141,  1.6522, -0.2473],\n",
       "                        [-0.9451,  1.3151, -1.0868, -0.0230],\n",
       "                        [-2.4932,  1.5259, -1.2255,  1.0099]])"
      ]
     },
     "execution_count": 6,
     "metadata": {},
     "output_type": "execute_result"
    }
   ],
   "source": [
    "new_value = torch.randn(2, 3)\n",
    "t.a = new_value\n",
    "\n",
    "t"
   ]
  },
  {
   "cell_type": "code",
   "execution_count": 7,
   "id": "bbe04d1c",
   "metadata": {
    "execution": {
     "iopub.execute_input": "2023-03-06T17:00:00.299197Z",
     "iopub.status.busy": "2023-03-06T17:00:00.298867Z",
     "iopub.status.idle": "2023-03-06T17:00:05.407077Z",
     "shell.execute_reply": "2023-03-06T17:00:05.406321Z"
    }
   },
   "outputs": [
    {
     "name": "stdout",
     "output_type": "stream",
     "text": [
      "62.9 ns ± 0.0117 ns per loop (mean ± std. dev. of 7 runs, 10,000,000 loops each)\n"
     ]
    }
   ],
   "source": [
    "%timeit t.a = new_value"
   ]
  },
  {
   "cell_type": "markdown",
   "id": "48c49731",
   "metadata": {},
   "source": [
    "### Tianshou Batch's Get and Set"
   ]
  },
  {
   "cell_type": "code",
   "execution_count": 8,
   "id": "f1bb14c1",
   "metadata": {
    "execution": {
     "iopub.execute_input": "2023-03-06T17:00:05.410172Z",
     "iopub.status.busy": "2023-03-06T17:00:05.409802Z",
     "iopub.status.idle": "2023-03-06T17:00:05.745973Z",
     "shell.execute_reply": "2023-03-06T17:00:05.745284Z"
    }
   },
   "outputs": [],
   "source": [
    "from tianshou.data import Batch\n",
    "\n",
    "b = Batch(**_TREE_DATA_2)"
   ]
  },
  {
   "cell_type": "code",
   "execution_count": 9,
   "id": "cb0777c3",
   "metadata": {
    "execution": {
     "iopub.execute_input": "2023-03-06T17:00:05.749663Z",
     "iopub.status.busy": "2023-03-06T17:00:05.748951Z",
     "iopub.status.idle": "2023-03-06T17:00:05.755727Z",
     "shell.execute_reply": "2023-03-06T17:00:05.755125Z"
    }
   },
   "outputs": [
    {
     "data": {
      "text/plain": [
       "Batch(\n",
       "    a: tensor([[ 0.3830,  0.0220,  0.7479],\n",
       "               [ 0.4820, -0.9826, -0.1873]]),\n",
       "    x: Batch(\n",
       "           c: tensor([[ 0.0574,  1.1141,  1.6522, -0.2473],\n",
       "                      [-0.9451,  1.3151, -1.0868, -0.0230],\n",
       "                      [-2.4932,  1.5259, -1.2255,  1.0099]]),\n",
       "       ),\n",
       ")"
      ]
     },
     "execution_count": 9,
     "metadata": {},
     "output_type": "execute_result"
    }
   ],
   "source": [
    "b"
   ]
  },
  {
   "cell_type": "code",
   "execution_count": 10,
   "id": "43ef8ea3",
   "metadata": {
    "execution": {
     "iopub.execute_input": "2023-03-06T17:00:05.758822Z",
     "iopub.status.busy": "2023-03-06T17:00:05.758299Z",
     "iopub.status.idle": "2023-03-06T17:00:05.764182Z",
     "shell.execute_reply": "2023-03-06T17:00:05.763581Z"
    }
   },
   "outputs": [
    {
     "data": {
      "text/plain": [
       "tensor([[ 0.3830,  0.0220,  0.7479],\n",
       "        [ 0.4820, -0.9826, -0.1873]])"
      ]
     },
     "execution_count": 10,
     "metadata": {},
     "output_type": "execute_result"
    }
   ],
   "source": [
    "b.a"
   ]
  },
  {
   "cell_type": "code",
   "execution_count": 11,
   "id": "b785ab72",
   "metadata": {
    "execution": {
     "iopub.execute_input": "2023-03-06T17:00:05.766745Z",
     "iopub.status.busy": "2023-03-06T17:00:05.766388Z",
     "iopub.status.idle": "2023-03-06T17:00:09.953671Z",
     "shell.execute_reply": "2023-03-06T17:00:09.952949Z"
    }
   },
   "outputs": [
    {
     "name": "stdout",
     "output_type": "stream",
     "text": [
      "51.4 ns ± 0.0495 ns per loop (mean ± std. dev. of 7 runs, 10,000,000 loops each)\n"
     ]
    }
   ],
   "source": [
    "%timeit b.a"
   ]
  },
  {
   "cell_type": "code",
   "execution_count": 12,
   "id": "ad54dc69",
   "metadata": {
    "execution": {
     "iopub.execute_input": "2023-03-06T17:00:09.956706Z",
     "iopub.status.busy": "2023-03-06T17:00:09.956363Z",
     "iopub.status.idle": "2023-03-06T17:00:09.962901Z",
     "shell.execute_reply": "2023-03-06T17:00:09.962319Z"
    }
   },
   "outputs": [
    {
     "data": {
      "text/plain": [
       "Batch(\n",
       "    a: tensor([[ 2.1168,  1.0119,  2.3696],\n",
       "               [ 0.3685,  0.8064, -2.2964]]),\n",
       "    x: Batch(\n",
       "           c: tensor([[ 0.0574,  1.1141,  1.6522, -0.2473],\n",
       "                      [-0.9451,  1.3151, -1.0868, -0.0230],\n",
       "                      [-2.4932,  1.5259, -1.2255,  1.0099]]),\n",
       "       ),\n",
       ")"
      ]
     },
     "execution_count": 12,
     "metadata": {},
     "output_type": "execute_result"
    }
   ],
   "source": [
    "new_value = torch.randn(2, 3)\n",
    "b.a = new_value\n",
    "\n",
    "b"
   ]
  },
  {
   "cell_type": "code",
   "execution_count": 13,
   "id": "29b1d0bf",
   "metadata": {
    "execution": {
     "iopub.execute_input": "2023-03-06T17:00:09.965572Z",
     "iopub.status.busy": "2023-03-06T17:00:09.965227Z",
     "iopub.status.idle": "2023-03-06T17:00:13.853261Z",
     "shell.execute_reply": "2023-03-06T17:00:13.852613Z"
    }
   },
   "outputs": [
    {
     "name": "stdout",
     "output_type": "stream",
     "text": [
      "479 ns ± 0.273 ns per loop (mean ± std. dev. of 7 runs, 1,000,000 loops each)\n"
     ]
    }
   ],
   "source": [
    "%timeit b.a = new_value"
   ]
  },
  {
   "cell_type": "markdown",
   "id": "b61ad1d0",
   "metadata": {},
   "source": [
    "## Initialization"
   ]
  },
  {
   "cell_type": "markdown",
   "id": "d70f0d54",
   "metadata": {},
   "source": [
    "### TreeValue's Initialization"
   ]
  },
  {
   "cell_type": "code",
   "execution_count": 14,
   "id": "d32a679b",
   "metadata": {
    "execution": {
     "iopub.execute_input": "2023-03-06T17:00:13.856610Z",
     "iopub.status.busy": "2023-03-06T17:00:13.855894Z",
     "iopub.status.idle": "2023-03-06T17:00:20.648868Z",
     "shell.execute_reply": "2023-03-06T17:00:20.648160Z"
    }
   },
   "outputs": [
    {
     "name": "stdout",
     "output_type": "stream",
     "text": [
      "837 ns ± 0.166 ns per loop (mean ± std. dev. of 7 runs, 1,000,000 loops each)\n"
     ]
    }
   ],
   "source": [
    "%timeit FastTreeValue(_TREE_DATA_1)"
   ]
  },
  {
   "cell_type": "markdown",
   "id": "24f3707b",
   "metadata": {},
   "source": [
    "### Tianshou Batch's Initialization"
   ]
  },
  {
   "cell_type": "code",
   "execution_count": 15,
   "id": "ac3958df",
   "metadata": {
    "execution": {
     "iopub.execute_input": "2023-03-06T17:00:20.652237Z",
     "iopub.status.busy": "2023-03-06T17:00:20.651652Z",
     "iopub.status.idle": "2023-03-06T17:00:29.995411Z",
     "shell.execute_reply": "2023-03-06T17:00:29.994712Z"
    }
   },
   "outputs": [
    {
     "name": "stdout",
     "output_type": "stream",
     "text": [
      "11.5 µs ± 14.3 ns per loop (mean ± std. dev. of 7 runs, 100,000 loops each)\n"
     ]
    }
   ],
   "source": [
    "%timeit Batch(**_TREE_DATA_1)"
   ]
  },
  {
   "cell_type": "markdown",
   "id": "1ab82e2d",
   "metadata": {},
   "source": [
    "## Deep Copy Operation"
   ]
  },
  {
   "cell_type": "code",
   "execution_count": 16,
   "id": "210a9442",
   "metadata": {
    "execution": {
     "iopub.execute_input": "2023-03-06T17:00:29.998477Z",
     "iopub.status.busy": "2023-03-06T17:00:29.997908Z",
     "iopub.status.idle": "2023-03-06T17:00:30.001959Z",
     "shell.execute_reply": "2023-03-06T17:00:30.001360Z"
    }
   },
   "outputs": [],
   "source": [
    "import copy"
   ]
  },
  {
   "cell_type": "markdown",
   "id": "5a736274",
   "metadata": {},
   "source": [
    "### Deep Copy of TreeValue"
   ]
  },
  {
   "cell_type": "code",
   "execution_count": 17,
   "id": "f9bcadd6",
   "metadata": {
    "execution": {
     "iopub.execute_input": "2023-03-06T17:00:30.004460Z",
     "iopub.status.busy": "2023-03-06T17:00:30.004240Z",
     "iopub.status.idle": "2023-03-06T17:00:41.327615Z",
     "shell.execute_reply": "2023-03-06T17:00:41.327015Z"
    }
   },
   "outputs": [
    {
     "name": "stdout",
     "output_type": "stream",
     "text": [
      "139 µs ± 441 ns per loop (mean ± std. dev. of 7 runs, 10,000 loops each)\n"
     ]
    }
   ],
   "source": [
    "t3 = FastTreeValue(_TREE_DATA_3)\n",
    "%timeit copy.deepcopy(t3)"
   ]
  },
  {
   "cell_type": "markdown",
   "id": "bf8be7ea",
   "metadata": {},
   "source": [
    "### Deep Copy of Tianshou Batch"
   ]
  },
  {
   "cell_type": "code",
   "execution_count": 18,
   "id": "91998e6f",
   "metadata": {
    "execution": {
     "iopub.execute_input": "2023-03-06T17:00:41.330973Z",
     "iopub.status.busy": "2023-03-06T17:00:41.330472Z",
     "iopub.status.idle": "2023-03-06T17:00:52.901123Z",
     "shell.execute_reply": "2023-03-06T17:00:52.900419Z"
    }
   },
   "outputs": [
    {
     "name": "stdout",
     "output_type": "stream",
     "text": [
      "143 µs ± 436 ns per loop (mean ± std. dev. of 7 runs, 10,000 loops each)\n"
     ]
    }
   ],
   "source": [
    "b3 = Batch(**_TREE_DATA_3)\n",
    "%timeit copy.deepcopy(b3)"
   ]
  },
  {
   "cell_type": "markdown",
   "id": "223162fb",
   "metadata": {},
   "source": [
    "## Stack, Concat and Split Operation"
   ]
  },
  {
   "cell_type": "markdown",
   "id": "85fa4a73",
   "metadata": {},
   "source": [
    "### Performance of TreeValue"
   ]
  },
  {
   "cell_type": "code",
   "execution_count": 19,
   "id": "a0c2b697",
   "metadata": {
    "execution": {
     "iopub.execute_input": "2023-03-06T17:00:52.904499Z",
     "iopub.status.busy": "2023-03-06T17:00:52.904249Z",
     "iopub.status.idle": "2023-03-06T17:00:52.908174Z",
     "shell.execute_reply": "2023-03-06T17:00:52.907569Z"
    }
   },
   "outputs": [],
   "source": [
    "trees = [FastTreeValue(_TREE_DATA_2) for _ in range(8)]"
   ]
  },
  {
   "cell_type": "code",
   "execution_count": 20,
   "id": "017ea5a5",
   "metadata": {
    "execution": {
     "iopub.execute_input": "2023-03-06T17:00:52.910896Z",
     "iopub.status.busy": "2023-03-06T17:00:52.910667Z",
     "iopub.status.idle": "2023-03-06T17:00:52.919159Z",
     "shell.execute_reply": "2023-03-06T17:00:52.918560Z"
    }
   },
   "outputs": [
    {
     "data": {
      "text/plain": [
       "<FastTreeValue 0x7f54c0604490>\n",
       "├── 'a' --> tensor([[[ 0.3830,  0.0220,  0.7479],\n",
       "│                    [ 0.4820, -0.9826, -0.1873]],\n",
       "│           \n",
       "│                   [[ 0.3830,  0.0220,  0.7479],\n",
       "│                    [ 0.4820, -0.9826, -0.1873]],\n",
       "│           \n",
       "│                   [[ 0.3830,  0.0220,  0.7479],\n",
       "│                    [ 0.4820, -0.9826, -0.1873]],\n",
       "│           \n",
       "│                   [[ 0.3830,  0.0220,  0.7479],\n",
       "│                    [ 0.4820, -0.9826, -0.1873]],\n",
       "│           \n",
       "│                   [[ 0.3830,  0.0220,  0.7479],\n",
       "│                    [ 0.4820, -0.9826, -0.1873]],\n",
       "│           \n",
       "│                   [[ 0.3830,  0.0220,  0.7479],\n",
       "│                    [ 0.4820, -0.9826, -0.1873]],\n",
       "│           \n",
       "│                   [[ 0.3830,  0.0220,  0.7479],\n",
       "│                    [ 0.4820, -0.9826, -0.1873]],\n",
       "│           \n",
       "│                   [[ 0.3830,  0.0220,  0.7479],\n",
       "│                    [ 0.4820, -0.9826, -0.1873]]])\n",
       "└── 'x' --> <FastTreeValue 0x7f54c0604a60>\n",
       "    └── 'c' --> tensor([[[ 0.0574,  1.1141,  1.6522, -0.2473],\n",
       "                         [-0.9451,  1.3151, -1.0868, -0.0230],\n",
       "                         [-2.4932,  1.5259, -1.2255,  1.0099]],\n",
       "                \n",
       "                        [[ 0.0574,  1.1141,  1.6522, -0.2473],\n",
       "                         [-0.9451,  1.3151, -1.0868, -0.0230],\n",
       "                         [-2.4932,  1.5259, -1.2255,  1.0099]],\n",
       "                \n",
       "                        [[ 0.0574,  1.1141,  1.6522, -0.2473],\n",
       "                         [-0.9451,  1.3151, -1.0868, -0.0230],\n",
       "                         [-2.4932,  1.5259, -1.2255,  1.0099]],\n",
       "                \n",
       "                        [[ 0.0574,  1.1141,  1.6522, -0.2473],\n",
       "                         [-0.9451,  1.3151, -1.0868, -0.0230],\n",
       "                         [-2.4932,  1.5259, -1.2255,  1.0099]],\n",
       "                \n",
       "                        [[ 0.0574,  1.1141,  1.6522, -0.2473],\n",
       "                         [-0.9451,  1.3151, -1.0868, -0.0230],\n",
       "                         [-2.4932,  1.5259, -1.2255,  1.0099]],\n",
       "                \n",
       "                        [[ 0.0574,  1.1141,  1.6522, -0.2473],\n",
       "                         [-0.9451,  1.3151, -1.0868, -0.0230],\n",
       "                         [-2.4932,  1.5259, -1.2255,  1.0099]],\n",
       "                \n",
       "                        [[ 0.0574,  1.1141,  1.6522, -0.2473],\n",
       "                         [-0.9451,  1.3151, -1.0868, -0.0230],\n",
       "                         [-2.4932,  1.5259, -1.2255,  1.0099]],\n",
       "                \n",
       "                        [[ 0.0574,  1.1141,  1.6522, -0.2473],\n",
       "                         [-0.9451,  1.3151, -1.0868, -0.0230],\n",
       "                         [-2.4932,  1.5259, -1.2255,  1.0099]]])"
      ]
     },
     "execution_count": 20,
     "metadata": {},
     "output_type": "execute_result"
    }
   ],
   "source": [
    "t_stack = FastTreeValue.func(subside=True)(torch.stack)\n",
    "\n",
    "t_stack(trees)"
   ]
  },
  {
   "cell_type": "code",
   "execution_count": 21,
   "id": "f8b3f415",
   "metadata": {
    "execution": {
     "iopub.execute_input": "2023-03-06T17:00:52.921901Z",
     "iopub.status.busy": "2023-03-06T17:00:52.921674Z",
     "iopub.status.idle": "2023-03-06T17:00:55.523544Z",
     "shell.execute_reply": "2023-03-06T17:00:55.522833Z"
    }
   },
   "outputs": [
    {
     "name": "stdout",
     "output_type": "stream",
     "text": [
      "32 µs ± 79.7 ns per loop (mean ± std. dev. of 7 runs, 10,000 loops each)\n"
     ]
    }
   ],
   "source": [
    "%timeit t_stack(trees)"
   ]
  },
  {
   "cell_type": "code",
   "execution_count": 22,
   "id": "94b56771",
   "metadata": {
    "execution": {
     "iopub.execute_input": "2023-03-06T17:00:55.526456Z",
     "iopub.status.busy": "2023-03-06T17:00:55.526105Z",
     "iopub.status.idle": "2023-03-06T17:00:55.534274Z",
     "shell.execute_reply": "2023-03-06T17:00:55.533643Z"
    }
   },
   "outputs": [
    {
     "data": {
      "text/plain": [
       "<FastTreeValue 0x7f54143499d0>\n",
       "├── 'a' --> tensor([[ 0.3830,  0.0220,  0.7479],\n",
       "│                   [ 0.4820, -0.9826, -0.1873],\n",
       "│                   [ 0.3830,  0.0220,  0.7479],\n",
       "│                   [ 0.4820, -0.9826, -0.1873],\n",
       "│                   [ 0.3830,  0.0220,  0.7479],\n",
       "│                   [ 0.4820, -0.9826, -0.1873],\n",
       "│                   [ 0.3830,  0.0220,  0.7479],\n",
       "│                   [ 0.4820, -0.9826, -0.1873],\n",
       "│                   [ 0.3830,  0.0220,  0.7479],\n",
       "│                   [ 0.4820, -0.9826, -0.1873],\n",
       "│                   [ 0.3830,  0.0220,  0.7479],\n",
       "│                   [ 0.4820, -0.9826, -0.1873],\n",
       "│                   [ 0.3830,  0.0220,  0.7479],\n",
       "│                   [ 0.4820, -0.9826, -0.1873],\n",
       "│                   [ 0.3830,  0.0220,  0.7479],\n",
       "│                   [ 0.4820, -0.9826, -0.1873]])\n",
       "└── 'x' --> <FastTreeValue 0x7f5414349910>\n",
       "    └── 'c' --> tensor([[ 0.0574,  1.1141,  1.6522, -0.2473],\n",
       "                        [-0.9451,  1.3151, -1.0868, -0.0230],\n",
       "                        [-2.4932,  1.5259, -1.2255,  1.0099],\n",
       "                        [ 0.0574,  1.1141,  1.6522, -0.2473],\n",
       "                        [-0.9451,  1.3151, -1.0868, -0.0230],\n",
       "                        [-2.4932,  1.5259, -1.2255,  1.0099],\n",
       "                        [ 0.0574,  1.1141,  1.6522, -0.2473],\n",
       "                        [-0.9451,  1.3151, -1.0868, -0.0230],\n",
       "                        [-2.4932,  1.5259, -1.2255,  1.0099],\n",
       "                        [ 0.0574,  1.1141,  1.6522, -0.2473],\n",
       "                        [-0.9451,  1.3151, -1.0868, -0.0230],\n",
       "                        [-2.4932,  1.5259, -1.2255,  1.0099],\n",
       "                        [ 0.0574,  1.1141,  1.6522, -0.2473],\n",
       "                        [-0.9451,  1.3151, -1.0868, -0.0230],\n",
       "                        [-2.4932,  1.5259, -1.2255,  1.0099],\n",
       "                        [ 0.0574,  1.1141,  1.6522, -0.2473],\n",
       "                        [-0.9451,  1.3151, -1.0868, -0.0230],\n",
       "                        [-2.4932,  1.5259, -1.2255,  1.0099],\n",
       "                        [ 0.0574,  1.1141,  1.6522, -0.2473],\n",
       "                        [-0.9451,  1.3151, -1.0868, -0.0230],\n",
       "                        [-2.4932,  1.5259, -1.2255,  1.0099],\n",
       "                        [ 0.0574,  1.1141,  1.6522, -0.2473],\n",
       "                        [-0.9451,  1.3151, -1.0868, -0.0230],\n",
       "                        [-2.4932,  1.5259, -1.2255,  1.0099]])"
      ]
     },
     "execution_count": 22,
     "metadata": {},
     "output_type": "execute_result"
    }
   ],
   "source": [
    "t_cat = FastTreeValue.func(subside=True)(torch.cat)\n",
    "\n",
    "t_cat(trees)"
   ]
  },
  {
   "cell_type": "code",
   "execution_count": 23,
   "id": "5e9c06a6",
   "metadata": {
    "execution": {
     "iopub.execute_input": "2023-03-06T17:00:55.537301Z",
     "iopub.status.busy": "2023-03-06T17:00:55.536749Z",
     "iopub.status.idle": "2023-03-06T17:00:57.980400Z",
     "shell.execute_reply": "2023-03-06T17:00:57.979620Z"
    }
   },
   "outputs": [
    {
     "name": "stdout",
     "output_type": "stream",
     "text": [
      "30 µs ± 31.5 ns per loop (mean ± std. dev. of 7 runs, 10,000 loops each)\n"
     ]
    }
   ],
   "source": [
    "%timeit t_cat(trees)"
   ]
  },
  {
   "cell_type": "code",
   "execution_count": 24,
   "id": "a3ab5c8f",
   "metadata": {
    "execution": {
     "iopub.execute_input": "2023-03-06T17:00:57.983841Z",
     "iopub.status.busy": "2023-03-06T17:00:57.983177Z",
     "iopub.status.idle": "2023-03-06T17:01:02.676628Z",
     "shell.execute_reply": "2023-03-06T17:01:02.675909Z"
    }
   },
   "outputs": [
    {
     "name": "stdout",
     "output_type": "stream",
     "text": [
      "57.7 µs ± 58.2 ns per loop (mean ± std. dev. of 7 runs, 10,000 loops each)\n"
     ]
    }
   ],
   "source": [
    "t_split = FastTreeValue.func(rise=True)(torch.split)\n",
    "tree = FastTreeValue({\n",
    "    'obs': torch.randn(8, 4, 84, 84),\n",
    "    'action': torch.randint(0, 6, size=(8, 1,)),\n",
    "    'reward': torch.rand(8, 1),\n",
    "})\n",
    "\n",
    "%timeit t_split(tree, 1)"
   ]
  },
  {
   "cell_type": "markdown",
   "id": "31c3ec0b",
   "metadata": {},
   "source": [
    "### Performance of Tianshou Batch"
   ]
  },
  {
   "cell_type": "code",
   "execution_count": 25,
   "id": "9ead828a",
   "metadata": {
    "execution": {
     "iopub.execute_input": "2023-03-06T17:01:02.679931Z",
     "iopub.status.busy": "2023-03-06T17:01:02.679415Z",
     "iopub.status.idle": "2023-03-06T17:01:02.687354Z",
     "shell.execute_reply": "2023-03-06T17:01:02.686755Z"
    }
   },
   "outputs": [
    {
     "data": {
      "text/plain": [
       "Batch(\n",
       "    a: tensor([[[ 0.3830,  0.0220,  0.7479],\n",
       "                [ 0.4820, -0.9826, -0.1873]],\n",
       "       \n",
       "               [[ 0.3830,  0.0220,  0.7479],\n",
       "                [ 0.4820, -0.9826, -0.1873]],\n",
       "       \n",
       "               [[ 0.3830,  0.0220,  0.7479],\n",
       "                [ 0.4820, -0.9826, -0.1873]],\n",
       "       \n",
       "               [[ 0.3830,  0.0220,  0.7479],\n",
       "                [ 0.4820, -0.9826, -0.1873]],\n",
       "       \n",
       "               [[ 0.3830,  0.0220,  0.7479],\n",
       "                [ 0.4820, -0.9826, -0.1873]],\n",
       "       \n",
       "               [[ 0.3830,  0.0220,  0.7479],\n",
       "                [ 0.4820, -0.9826, -0.1873]],\n",
       "       \n",
       "               [[ 0.3830,  0.0220,  0.7479],\n",
       "                [ 0.4820, -0.9826, -0.1873]],\n",
       "       \n",
       "               [[ 0.3830,  0.0220,  0.7479],\n",
       "                [ 0.4820, -0.9826, -0.1873]]]),\n",
       "    x: Batch(\n",
       "           c: tensor([[[ 0.0574,  1.1141,  1.6522, -0.2473],\n",
       "                       [-0.9451,  1.3151, -1.0868, -0.0230],\n",
       "                       [-2.4932,  1.5259, -1.2255,  1.0099]],\n",
       "              \n",
       "                      [[ 0.0574,  1.1141,  1.6522, -0.2473],\n",
       "                       [-0.9451,  1.3151, -1.0868, -0.0230],\n",
       "                       [-2.4932,  1.5259, -1.2255,  1.0099]],\n",
       "              \n",
       "                      [[ 0.0574,  1.1141,  1.6522, -0.2473],\n",
       "                       [-0.9451,  1.3151, -1.0868, -0.0230],\n",
       "                       [-2.4932,  1.5259, -1.2255,  1.0099]],\n",
       "              \n",
       "                      [[ 0.0574,  1.1141,  1.6522, -0.2473],\n",
       "                       [-0.9451,  1.3151, -1.0868, -0.0230],\n",
       "                       [-2.4932,  1.5259, -1.2255,  1.0099]],\n",
       "              \n",
       "                      [[ 0.0574,  1.1141,  1.6522, -0.2473],\n",
       "                       [-0.9451,  1.3151, -1.0868, -0.0230],\n",
       "                       [-2.4932,  1.5259, -1.2255,  1.0099]],\n",
       "              \n",
       "                      [[ 0.0574,  1.1141,  1.6522, -0.2473],\n",
       "                       [-0.9451,  1.3151, -1.0868, -0.0230],\n",
       "                       [-2.4932,  1.5259, -1.2255,  1.0099]],\n",
       "              \n",
       "                      [[ 0.0574,  1.1141,  1.6522, -0.2473],\n",
       "                       [-0.9451,  1.3151, -1.0868, -0.0230],\n",
       "                       [-2.4932,  1.5259, -1.2255,  1.0099]],\n",
       "              \n",
       "                      [[ 0.0574,  1.1141,  1.6522, -0.2473],\n",
       "                       [-0.9451,  1.3151, -1.0868, -0.0230],\n",
       "                       [-2.4932,  1.5259, -1.2255,  1.0099]]]),\n",
       "       ),\n",
       ")"
      ]
     },
     "execution_count": 25,
     "metadata": {},
     "output_type": "execute_result"
    }
   ],
   "source": [
    "batches = [Batch(**_TREE_DATA_2) for _ in range(8)]\n",
    "\n",
    "Batch.stack(batches)"
   ]
  },
  {
   "cell_type": "code",
   "execution_count": 26,
   "id": "ec9037a3",
   "metadata": {
    "execution": {
     "iopub.execute_input": "2023-03-06T17:01:02.690222Z",
     "iopub.status.busy": "2023-03-06T17:01:02.689880Z",
     "iopub.status.idle": "2023-03-06T17:01:09.077625Z",
     "shell.execute_reply": "2023-03-06T17:01:09.076949Z"
    }
   },
   "outputs": [
    {
     "name": "stdout",
     "output_type": "stream",
     "text": [
      "78.6 µs ± 143 ns per loop (mean ± std. dev. of 7 runs, 10,000 loops each)\n"
     ]
    }
   ],
   "source": [
    "%timeit Batch.stack(batches)"
   ]
  },
  {
   "cell_type": "code",
   "execution_count": 27,
   "id": "cb8ab77e",
   "metadata": {
    "execution": {
     "iopub.execute_input": "2023-03-06T17:01:09.080449Z",
     "iopub.status.busy": "2023-03-06T17:01:09.080221Z",
     "iopub.status.idle": "2023-03-06T17:01:09.087530Z",
     "shell.execute_reply": "2023-03-06T17:01:09.086940Z"
    }
   },
   "outputs": [
    {
     "data": {
      "text/plain": [
       "Batch(\n",
       "    a: tensor([[ 0.3830,  0.0220,  0.7479],\n",
       "               [ 0.4820, -0.9826, -0.1873],\n",
       "               [ 0.3830,  0.0220,  0.7479],\n",
       "               [ 0.4820, -0.9826, -0.1873],\n",
       "               [ 0.3830,  0.0220,  0.7479],\n",
       "               [ 0.4820, -0.9826, -0.1873],\n",
       "               [ 0.3830,  0.0220,  0.7479],\n",
       "               [ 0.4820, -0.9826, -0.1873],\n",
       "               [ 0.3830,  0.0220,  0.7479],\n",
       "               [ 0.4820, -0.9826, -0.1873],\n",
       "               [ 0.3830,  0.0220,  0.7479],\n",
       "               [ 0.4820, -0.9826, -0.1873],\n",
       "               [ 0.3830,  0.0220,  0.7479],\n",
       "               [ 0.4820, -0.9826, -0.1873],\n",
       "               [ 0.3830,  0.0220,  0.7479],\n",
       "               [ 0.4820, -0.9826, -0.1873]]),\n",
       "    x: Batch(\n",
       "           c: tensor([[ 0.0574,  1.1141,  1.6522, -0.2473],\n",
       "                      [-0.9451,  1.3151, -1.0868, -0.0230],\n",
       "                      [-2.4932,  1.5259, -1.2255,  1.0099],\n",
       "                      [ 0.0574,  1.1141,  1.6522, -0.2473],\n",
       "                      [-0.9451,  1.3151, -1.0868, -0.0230],\n",
       "                      [-2.4932,  1.5259, -1.2255,  1.0099],\n",
       "                      [ 0.0574,  1.1141,  1.6522, -0.2473],\n",
       "                      [-0.9451,  1.3151, -1.0868, -0.0230],\n",
       "                      [-2.4932,  1.5259, -1.2255,  1.0099],\n",
       "                      [ 0.0574,  1.1141,  1.6522, -0.2473],\n",
       "                      [-0.9451,  1.3151, -1.0868, -0.0230],\n",
       "                      [-2.4932,  1.5259, -1.2255,  1.0099],\n",
       "                      [ 0.0574,  1.1141,  1.6522, -0.2473],\n",
       "                      [-0.9451,  1.3151, -1.0868, -0.0230],\n",
       "                      [-2.4932,  1.5259, -1.2255,  1.0099],\n",
       "                      [ 0.0574,  1.1141,  1.6522, -0.2473],\n",
       "                      [-0.9451,  1.3151, -1.0868, -0.0230],\n",
       "                      [-2.4932,  1.5259, -1.2255,  1.0099],\n",
       "                      [ 0.0574,  1.1141,  1.6522, -0.2473],\n",
       "                      [-0.9451,  1.3151, -1.0868, -0.0230],\n",
       "                      [-2.4932,  1.5259, -1.2255,  1.0099],\n",
       "                      [ 0.0574,  1.1141,  1.6522, -0.2473],\n",
       "                      [-0.9451,  1.3151, -1.0868, -0.0230],\n",
       "                      [-2.4932,  1.5259, -1.2255,  1.0099]]),\n",
       "       ),\n",
       ")"
      ]
     },
     "execution_count": 27,
     "metadata": {},
     "output_type": "execute_result"
    }
   ],
   "source": [
    "Batch.cat(batches)"
   ]
  },
  {
   "cell_type": "code",
   "execution_count": 28,
   "id": "18dfb045",
   "metadata": {
    "execution": {
     "iopub.execute_input": "2023-03-06T17:01:09.090384Z",
     "iopub.status.busy": "2023-03-06T17:01:09.090151Z",
     "iopub.status.idle": "2023-03-06T17:01:21.021383Z",
     "shell.execute_reply": "2023-03-06T17:01:21.020671Z"
    }
   },
   "outputs": [
    {
     "name": "stdout",
     "output_type": "stream",
     "text": [
      "147 µs ± 564 ns per loop (mean ± std. dev. of 7 runs, 10,000 loops each)\n"
     ]
    }
   ],
   "source": [
    "%timeit Batch.cat(batches)"
   ]
  },
  {
   "cell_type": "code",
   "execution_count": 29,
   "id": "c6688e51",
   "metadata": {
    "execution": {
     "iopub.execute_input": "2023-03-06T17:01:21.024260Z",
     "iopub.status.busy": "2023-03-06T17:01:21.023873Z",
     "iopub.status.idle": "2023-03-06T17:01:23.557535Z",
     "shell.execute_reply": "2023-03-06T17:01:23.556833Z"
    }
   },
   "outputs": [
    {
     "name": "stdout",
     "output_type": "stream",
     "text": [
      "311 µs ± 1.26 µs per loop (mean ± std. dev. of 7 runs, 1,000 loops each)\n"
     ]
    }
   ],
   "source": [
    "batch = Batch({\n",
    "    'obs': torch.randn(8, 4, 84, 84),\n",
    "    'action': torch.randint(0, 6, size=(8, 1,)),\n",
    "    'reward': torch.rand(8, 1)}\n",
    ")\n",
    "\n",
    "%timeit list(Batch.split(batch, 1, shuffle=False, merge_last=True))"
   ]
  },
  {
   "cell_type": "code",
   "execution_count": null,
   "id": "2539fbd9",
   "metadata": {},
   "outputs": [],
   "source": []
  }
 ],
 "metadata": {
  "kernelspec": {
   "display_name": "Python 3 (ipykernel)",
   "language": "python",
   "name": "python3"
  },
  "language_info": {
   "codemirror_mode": {
    "name": "ipython",
    "version": 3
   },
   "file_extension": ".py",
   "mimetype": "text/x-python",
   "name": "python",
   "nbconvert_exporter": "python",
   "pygments_lexer": "ipython3",
   "version": "3.8.16"
  }
 },
 "nbformat": 4,
 "nbformat_minor": 5
}
