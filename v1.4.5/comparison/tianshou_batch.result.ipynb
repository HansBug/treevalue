{
 "cells": [
  {
   "cell_type": "markdown",
   "id": "9d39d946",
   "metadata": {},
   "source": [
    "# Comparison Between TreeValue and Tianshou Batch"
   ]
  },
  {
   "cell_type": "markdown",
   "id": "3c6db2d4",
   "metadata": {},
   "source": [
    "In this section, we will take a look at the feature and performance of the [Tianshou Batch](https://github.com/thu-ml/tianshou) library, which is developed by Tsinghua Machine Learning Group."
   ]
  },
  {
   "cell_type": "markdown",
   "id": "069361b0",
   "metadata": {},
   "source": [
    "Before starting the comparison, let us define some thing."
   ]
  },
  {
   "cell_type": "code",
   "execution_count": 1,
   "id": "06fc8d26",
   "metadata": {
    "execution": {
     "iopub.execute_input": "2023-02-27T10:28:37.070210Z",
     "iopub.status.busy": "2023-02-27T10:28:37.069719Z",
     "iopub.status.idle": "2023-02-27T10:28:38.043442Z",
     "shell.execute_reply": "2023-02-27T10:28:38.042652Z"
    }
   },
   "outputs": [
    {
     "name": "stderr",
     "output_type": "stream",
     "text": [
      "/opt/hostedtoolcache/Python/3.8.16/x64/lib/python3.8/site-packages/tqdm/auto.py:22: TqdmWarning: IProgress not found. Please update jupyter and ipywidgets. See https://ipywidgets.readthedocs.io/en/stable/user_install.html\n",
      "  from .autonotebook import tqdm as notebook_tqdm\n"
     ]
    }
   ],
   "source": [
    "import torch \n",
    "\n",
    "_TREE_DATA_1 = {'a': 1, 'b': 2, 'x': {'c': 3, 'd': 4}}\n",
    "_TREE_DATA_2 = {\n",
    "    'a': torch.randn(2, 3), \n",
    "    'x': {\n",
    "        'c': torch.randn(3, 4)\n",
    "    },\n",
    "}\n",
    "_TREE_DATA_3 = {\n",
    "    'obs': torch.randn(4, 84, 84),\n",
    "    'action': torch.randint(0, 6, size=(1,)),\n",
    "    'reward': torch.rand(1),\n",
    "}"
   ]
  },
  {
   "cell_type": "markdown",
   "id": "83461b25",
   "metadata": {},
   "source": [
    "## Read and Write Operation"
   ]
  },
  {
   "cell_type": "markdown",
   "id": "067b3f73",
   "metadata": {},
   "source": [
    "Reading and writing are the two most common operations in the tree data structure based on the data model (TreeValue and Tianshou Batch both belong to this type), so this section will compare the reading and writing performance of these two libraries."
   ]
  },
  {
   "cell_type": "markdown",
   "id": "5d09a5b7",
   "metadata": {},
   "source": [
    "### TreeValue's Get and Set"
   ]
  },
  {
   "cell_type": "code",
   "execution_count": 2,
   "id": "9519c4bb",
   "metadata": {
    "execution": {
     "iopub.execute_input": "2023-02-27T10:28:38.047714Z",
     "iopub.status.busy": "2023-02-27T10:28:38.046990Z",
     "iopub.status.idle": "2023-02-27T10:28:38.082700Z",
     "shell.execute_reply": "2023-02-27T10:28:38.081928Z"
    }
   },
   "outputs": [],
   "source": [
    "from treevalue import FastTreeValue\n",
    "\n",
    "t = FastTreeValue(_TREE_DATA_2)"
   ]
  },
  {
   "cell_type": "code",
   "execution_count": 3,
   "id": "11c37677",
   "metadata": {
    "execution": {
     "iopub.execute_input": "2023-02-27T10:28:38.086611Z",
     "iopub.status.busy": "2023-02-27T10:28:38.085971Z",
     "iopub.status.idle": "2023-02-27T10:28:38.097299Z",
     "shell.execute_reply": "2023-02-27T10:28:38.096483Z"
    }
   },
   "outputs": [
    {
     "data": {
      "text/plain": [
       "<FastTreeValue 0x7f1e3834c550>\n",
       "├── 'a' --> tensor([[-0.2411, -0.2262, -0.2681],\n",
       "│                   [ 0.2169,  0.4751, -0.9722]])\n",
       "└── 'x' --> <FastTreeValue 0x7f1e3834c970>\n",
       "    └── 'c' --> tensor([[ 1.0751,  0.5819,  0.2164, -0.5943],\n",
       "                        [-1.7324, -0.0305, -0.0945,  0.8597],\n",
       "                        [ 0.4221,  1.5757, -0.8090,  0.3270]])"
      ]
     },
     "execution_count": 3,
     "metadata": {},
     "output_type": "execute_result"
    }
   ],
   "source": [
    "t"
   ]
  },
  {
   "cell_type": "code",
   "execution_count": 4,
   "id": "fd70b0b9",
   "metadata": {
    "execution": {
     "iopub.execute_input": "2023-02-27T10:28:38.100742Z",
     "iopub.status.busy": "2023-02-27T10:28:38.100120Z",
     "iopub.status.idle": "2023-02-27T10:28:38.106766Z",
     "shell.execute_reply": "2023-02-27T10:28:38.106095Z"
    }
   },
   "outputs": [
    {
     "data": {
      "text/plain": [
       "tensor([[-0.2411, -0.2262, -0.2681],\n",
       "        [ 0.2169,  0.4751, -0.9722]])"
      ]
     },
     "execution_count": 4,
     "metadata": {},
     "output_type": "execute_result"
    }
   ],
   "source": [
    "t.a"
   ]
  },
  {
   "cell_type": "code",
   "execution_count": 5,
   "id": "c18197bd",
   "metadata": {
    "execution": {
     "iopub.execute_input": "2023-02-27T10:28:38.110258Z",
     "iopub.status.busy": "2023-02-27T10:28:38.109635Z",
     "iopub.status.idle": "2023-02-27T10:28:42.892802Z",
     "shell.execute_reply": "2023-02-27T10:28:42.892059Z"
    }
   },
   "outputs": [
    {
     "name": "stdout",
     "output_type": "stream",
     "text": [
      "58.9 ns ± 0.0469 ns per loop (mean ± std. dev. of 7 runs, 10,000,000 loops each)\n"
     ]
    }
   ],
   "source": [
    "%timeit t.a"
   ]
  },
  {
   "cell_type": "code",
   "execution_count": 6,
   "id": "bd52f867",
   "metadata": {
    "execution": {
     "iopub.execute_input": "2023-02-27T10:28:42.895875Z",
     "iopub.status.busy": "2023-02-27T10:28:42.895471Z",
     "iopub.status.idle": "2023-02-27T10:28:42.902442Z",
     "shell.execute_reply": "2023-02-27T10:28:42.901812Z"
    }
   },
   "outputs": [
    {
     "data": {
      "text/plain": [
       "<FastTreeValue 0x7f1e3834c550>\n",
       "├── 'a' --> tensor([[ 1.0964, -0.0338, -0.4916],\n",
       "│                   [ 2.0080,  0.0396,  0.3370]])\n",
       "└── 'x' --> <FastTreeValue 0x7f1e3834c970>\n",
       "    └── 'c' --> tensor([[ 1.0751,  0.5819,  0.2164, -0.5943],\n",
       "                        [-1.7324, -0.0305, -0.0945,  0.8597],\n",
       "                        [ 0.4221,  1.5757, -0.8090,  0.3270]])"
      ]
     },
     "execution_count": 6,
     "metadata": {},
     "output_type": "execute_result"
    }
   ],
   "source": [
    "new_value = torch.randn(2, 3)\n",
    "t.a = new_value\n",
    "\n",
    "t"
   ]
  },
  {
   "cell_type": "code",
   "execution_count": 7,
   "id": "bbe04d1c",
   "metadata": {
    "execution": {
     "iopub.execute_input": "2023-02-27T10:28:42.905215Z",
     "iopub.status.busy": "2023-02-27T10:28:42.904768Z",
     "iopub.status.idle": "2023-02-27T10:28:47.616447Z",
     "shell.execute_reply": "2023-02-27T10:28:47.615362Z"
    }
   },
   "outputs": [
    {
     "name": "stdout",
     "output_type": "stream",
     "text": [
      "57.9 ns ± 0.0404 ns per loop (mean ± std. dev. of 7 runs, 10,000,000 loops each)\n"
     ]
    }
   ],
   "source": [
    "%timeit t.a = new_value"
   ]
  },
  {
   "cell_type": "markdown",
   "id": "48c49731",
   "metadata": {},
   "source": [
    "### Tianshou Batch's Get and Set"
   ]
  },
  {
   "cell_type": "code",
   "execution_count": 8,
   "id": "f1bb14c1",
   "metadata": {
    "execution": {
     "iopub.execute_input": "2023-02-27T10:28:47.619852Z",
     "iopub.status.busy": "2023-02-27T10:28:47.619574Z",
     "iopub.status.idle": "2023-02-27T10:28:47.989246Z",
     "shell.execute_reply": "2023-02-27T10:28:47.988471Z"
    }
   },
   "outputs": [],
   "source": [
    "from tianshou.data import Batch\n",
    "\n",
    "b = Batch(**_TREE_DATA_2)"
   ]
  },
  {
   "cell_type": "code",
   "execution_count": 9,
   "id": "cb0777c3",
   "metadata": {
    "execution": {
     "iopub.execute_input": "2023-02-27T10:28:47.992803Z",
     "iopub.status.busy": "2023-02-27T10:28:47.992179Z",
     "iopub.status.idle": "2023-02-27T10:28:47.998559Z",
     "shell.execute_reply": "2023-02-27T10:28:47.997828Z"
    }
   },
   "outputs": [
    {
     "data": {
      "text/plain": [
       "Batch(\n",
       "    a: tensor([[-0.2411, -0.2262, -0.2681],\n",
       "               [ 0.2169,  0.4751, -0.9722]]),\n",
       "    x: Batch(\n",
       "           c: tensor([[ 1.0751,  0.5819,  0.2164, -0.5943],\n",
       "                      [-1.7324, -0.0305, -0.0945,  0.8597],\n",
       "                      [ 0.4221,  1.5757, -0.8090,  0.3270]]),\n",
       "       ),\n",
       ")"
      ]
     },
     "execution_count": 9,
     "metadata": {},
     "output_type": "execute_result"
    }
   ],
   "source": [
    "b"
   ]
  },
  {
   "cell_type": "code",
   "execution_count": 10,
   "id": "43ef8ea3",
   "metadata": {
    "execution": {
     "iopub.execute_input": "2023-02-27T10:28:48.001911Z",
     "iopub.status.busy": "2023-02-27T10:28:48.001433Z",
     "iopub.status.idle": "2023-02-27T10:28:48.008984Z",
     "shell.execute_reply": "2023-02-27T10:28:48.008193Z"
    }
   },
   "outputs": [
    {
     "data": {
      "text/plain": [
       "tensor([[-0.2411, -0.2262, -0.2681],\n",
       "        [ 0.2169,  0.4751, -0.9722]])"
      ]
     },
     "execution_count": 10,
     "metadata": {},
     "output_type": "execute_result"
    }
   ],
   "source": [
    "b.a"
   ]
  },
  {
   "cell_type": "code",
   "execution_count": 11,
   "id": "b785ab72",
   "metadata": {
    "execution": {
     "iopub.execute_input": "2023-02-27T10:28:48.012420Z",
     "iopub.status.busy": "2023-02-27T10:28:48.011970Z",
     "iopub.status.idle": "2023-02-27T10:28:52.470431Z",
     "shell.execute_reply": "2023-02-27T10:28:52.469689Z"
    }
   },
   "outputs": [
    {
     "name": "stdout",
     "output_type": "stream",
     "text": [
      "54.8 ns ± 0.0525 ns per loop (mean ± std. dev. of 7 runs, 10,000,000 loops each)\n"
     ]
    }
   ],
   "source": [
    "%timeit b.a"
   ]
  },
  {
   "cell_type": "code",
   "execution_count": 12,
   "id": "ad54dc69",
   "metadata": {
    "execution": {
     "iopub.execute_input": "2023-02-27T10:28:52.473895Z",
     "iopub.status.busy": "2023-02-27T10:28:52.473339Z",
     "iopub.status.idle": "2023-02-27T10:28:52.480393Z",
     "shell.execute_reply": "2023-02-27T10:28:52.479739Z"
    }
   },
   "outputs": [
    {
     "data": {
      "text/plain": [
       "Batch(\n",
       "    a: tensor([[ 0.5526, -0.1049,  0.1275],\n",
       "               [ 0.1695,  0.4744,  0.1065]]),\n",
       "    x: Batch(\n",
       "           c: tensor([[ 1.0751,  0.5819,  0.2164, -0.5943],\n",
       "                      [-1.7324, -0.0305, -0.0945,  0.8597],\n",
       "                      [ 0.4221,  1.5757, -0.8090,  0.3270]]),\n",
       "       ),\n",
       ")"
      ]
     },
     "execution_count": 12,
     "metadata": {},
     "output_type": "execute_result"
    }
   ],
   "source": [
    "new_value = torch.randn(2, 3)\n",
    "b.a = new_value\n",
    "\n",
    "b"
   ]
  },
  {
   "cell_type": "code",
   "execution_count": 13,
   "id": "29b1d0bf",
   "metadata": {
    "execution": {
     "iopub.execute_input": "2023-02-27T10:28:52.483729Z",
     "iopub.status.busy": "2023-02-27T10:28:52.483086Z",
     "iopub.status.idle": "2023-02-27T10:28:56.370494Z",
     "shell.execute_reply": "2023-02-27T10:28:56.369740Z"
    }
   },
   "outputs": [
    {
     "name": "stdout",
     "output_type": "stream",
     "text": [
      "478 ns ± 0.19 ns per loop (mean ± std. dev. of 7 runs, 1,000,000 loops each)\n"
     ]
    }
   ],
   "source": [
    "%timeit b.a = new_value"
   ]
  },
  {
   "cell_type": "markdown",
   "id": "b61ad1d0",
   "metadata": {},
   "source": [
    "## Initialization"
   ]
  },
  {
   "cell_type": "markdown",
   "id": "d70f0d54",
   "metadata": {},
   "source": [
    "### TreeValue's Initialization"
   ]
  },
  {
   "cell_type": "code",
   "execution_count": 14,
   "id": "d32a679b",
   "metadata": {
    "execution": {
     "iopub.execute_input": "2023-02-27T10:28:56.373971Z",
     "iopub.status.busy": "2023-02-27T10:28:56.373408Z",
     "iopub.status.idle": "2023-02-27T10:29:03.319849Z",
     "shell.execute_reply": "2023-02-27T10:29:03.319134Z"
    }
   },
   "outputs": [
    {
     "name": "stdout",
     "output_type": "stream",
     "text": [
      "858 ns ± 15.3 ns per loop (mean ± std. dev. of 7 runs, 1,000,000 loops each)\n"
     ]
    }
   ],
   "source": [
    "%timeit FastTreeValue(_TREE_DATA_1)"
   ]
  },
  {
   "cell_type": "markdown",
   "id": "24f3707b",
   "metadata": {},
   "source": [
    "### Tianshou Batch's Initialization"
   ]
  },
  {
   "cell_type": "code",
   "execution_count": 15,
   "id": "ac3958df",
   "metadata": {
    "execution": {
     "iopub.execute_input": "2023-02-27T10:29:03.323824Z",
     "iopub.status.busy": "2023-02-27T10:29:03.322845Z",
     "iopub.status.idle": "2023-02-27T10:29:12.490035Z",
     "shell.execute_reply": "2023-02-27T10:29:12.489259Z"
    }
   },
   "outputs": [
    {
     "name": "stdout",
     "output_type": "stream",
     "text": [
      "11.3 µs ± 50.8 ns per loop (mean ± std. dev. of 7 runs, 100,000 loops each)\n"
     ]
    }
   ],
   "source": [
    "%timeit Batch(**_TREE_DATA_1)"
   ]
  },
  {
   "cell_type": "markdown",
   "id": "1ab82e2d",
   "metadata": {},
   "source": [
    "## Deep Copy Operation"
   ]
  },
  {
   "cell_type": "code",
   "execution_count": 16,
   "id": "210a9442",
   "metadata": {
    "execution": {
     "iopub.execute_input": "2023-02-27T10:29:12.493202Z",
     "iopub.status.busy": "2023-02-27T10:29:12.492921Z",
     "iopub.status.idle": "2023-02-27T10:29:12.497446Z",
     "shell.execute_reply": "2023-02-27T10:29:12.496735Z"
    }
   },
   "outputs": [],
   "source": [
    "import copy"
   ]
  },
  {
   "cell_type": "markdown",
   "id": "5a736274",
   "metadata": {},
   "source": [
    "### Deep Copy of TreeValue"
   ]
  },
  {
   "cell_type": "code",
   "execution_count": 17,
   "id": "f9bcadd6",
   "metadata": {
    "execution": {
     "iopub.execute_input": "2023-02-27T10:29:12.500595Z",
     "iopub.status.busy": "2023-02-27T10:29:12.499979Z",
     "iopub.status.idle": "2023-02-27T10:29:23.488952Z",
     "shell.execute_reply": "2023-02-27T10:29:23.488302Z"
    }
   },
   "outputs": [
    {
     "name": "stdout",
     "output_type": "stream",
     "text": [
      "135 µs ± 313 ns per loop (mean ± std. dev. of 7 runs, 10,000 loops each)\n"
     ]
    }
   ],
   "source": [
    "t3 = FastTreeValue(_TREE_DATA_3)\n",
    "%timeit copy.deepcopy(t3)"
   ]
  },
  {
   "cell_type": "markdown",
   "id": "bf8be7ea",
   "metadata": {},
   "source": [
    "### Deep Copy of Tianshou Batch"
   ]
  },
  {
   "cell_type": "code",
   "execution_count": 18,
   "id": "91998e6f",
   "metadata": {
    "execution": {
     "iopub.execute_input": "2023-02-27T10:29:23.491978Z",
     "iopub.status.busy": "2023-02-27T10:29:23.491419Z",
     "iopub.status.idle": "2023-02-27T10:29:34.611646Z",
     "shell.execute_reply": "2023-02-27T10:29:34.611020Z"
    }
   },
   "outputs": [
    {
     "name": "stdout",
     "output_type": "stream",
     "text": [
      "137 µs ± 1.2 µs per loop (mean ± std. dev. of 7 runs, 10,000 loops each)\n"
     ]
    }
   ],
   "source": [
    "b3 = Batch(**_TREE_DATA_3)\n",
    "%timeit copy.deepcopy(b3)"
   ]
  },
  {
   "cell_type": "markdown",
   "id": "223162fb",
   "metadata": {},
   "source": [
    "## Stack, Concat and Split Operation"
   ]
  },
  {
   "cell_type": "markdown",
   "id": "85fa4a73",
   "metadata": {},
   "source": [
    "### Performance of TreeValue"
   ]
  },
  {
   "cell_type": "code",
   "execution_count": 19,
   "id": "a0c2b697",
   "metadata": {
    "execution": {
     "iopub.execute_input": "2023-02-27T10:29:34.614991Z",
     "iopub.status.busy": "2023-02-27T10:29:34.614536Z",
     "iopub.status.idle": "2023-02-27T10:29:34.618960Z",
     "shell.execute_reply": "2023-02-27T10:29:34.618389Z"
    }
   },
   "outputs": [],
   "source": [
    "trees = [FastTreeValue(_TREE_DATA_2) for _ in range(8)]"
   ]
  },
  {
   "cell_type": "code",
   "execution_count": 20,
   "id": "017ea5a5",
   "metadata": {
    "execution": {
     "iopub.execute_input": "2023-02-27T10:29:34.623055Z",
     "iopub.status.busy": "2023-02-27T10:29:34.621914Z",
     "iopub.status.idle": "2023-02-27T10:29:34.631005Z",
     "shell.execute_reply": "2023-02-27T10:29:34.630479Z"
    }
   },
   "outputs": [
    {
     "data": {
      "text/plain": [
       "<FastTreeValue 0x7f1e382d8970>\n",
       "├── 'a' --> tensor([[[-0.2411, -0.2262, -0.2681],\n",
       "│                    [ 0.2169,  0.4751, -0.9722]],\n",
       "│           \n",
       "│                   [[-0.2411, -0.2262, -0.2681],\n",
       "│                    [ 0.2169,  0.4751, -0.9722]],\n",
       "│           \n",
       "│                   [[-0.2411, -0.2262, -0.2681],\n",
       "│                    [ 0.2169,  0.4751, -0.9722]],\n",
       "│           \n",
       "│                   [[-0.2411, -0.2262, -0.2681],\n",
       "│                    [ 0.2169,  0.4751, -0.9722]],\n",
       "│           \n",
       "│                   [[-0.2411, -0.2262, -0.2681],\n",
       "│                    [ 0.2169,  0.4751, -0.9722]],\n",
       "│           \n",
       "│                   [[-0.2411, -0.2262, -0.2681],\n",
       "│                    [ 0.2169,  0.4751, -0.9722]],\n",
       "│           \n",
       "│                   [[-0.2411, -0.2262, -0.2681],\n",
       "│                    [ 0.2169,  0.4751, -0.9722]],\n",
       "│           \n",
       "│                   [[-0.2411, -0.2262, -0.2681],\n",
       "│                    [ 0.2169,  0.4751, -0.9722]]])\n",
       "└── 'x' --> <FastTreeValue 0x7f1e382d8820>\n",
       "    └── 'c' --> tensor([[[ 1.0751,  0.5819,  0.2164, -0.5943],\n",
       "                         [-1.7324, -0.0305, -0.0945,  0.8597],\n",
       "                         [ 0.4221,  1.5757, -0.8090,  0.3270]],\n",
       "                \n",
       "                        [[ 1.0751,  0.5819,  0.2164, -0.5943],\n",
       "                         [-1.7324, -0.0305, -0.0945,  0.8597],\n",
       "                         [ 0.4221,  1.5757, -0.8090,  0.3270]],\n",
       "                \n",
       "                        [[ 1.0751,  0.5819,  0.2164, -0.5943],\n",
       "                         [-1.7324, -0.0305, -0.0945,  0.8597],\n",
       "                         [ 0.4221,  1.5757, -0.8090,  0.3270]],\n",
       "                \n",
       "                        [[ 1.0751,  0.5819,  0.2164, -0.5943],\n",
       "                         [-1.7324, -0.0305, -0.0945,  0.8597],\n",
       "                         [ 0.4221,  1.5757, -0.8090,  0.3270]],\n",
       "                \n",
       "                        [[ 1.0751,  0.5819,  0.2164, -0.5943],\n",
       "                         [-1.7324, -0.0305, -0.0945,  0.8597],\n",
       "                         [ 0.4221,  1.5757, -0.8090,  0.3270]],\n",
       "                \n",
       "                        [[ 1.0751,  0.5819,  0.2164, -0.5943],\n",
       "                         [-1.7324, -0.0305, -0.0945,  0.8597],\n",
       "                         [ 0.4221,  1.5757, -0.8090,  0.3270]],\n",
       "                \n",
       "                        [[ 1.0751,  0.5819,  0.2164, -0.5943],\n",
       "                         [-1.7324, -0.0305, -0.0945,  0.8597],\n",
       "                         [ 0.4221,  1.5757, -0.8090,  0.3270]],\n",
       "                \n",
       "                        [[ 1.0751,  0.5819,  0.2164, -0.5943],\n",
       "                         [-1.7324, -0.0305, -0.0945,  0.8597],\n",
       "                         [ 0.4221,  1.5757, -0.8090,  0.3270]]])"
      ]
     },
     "execution_count": 20,
     "metadata": {},
     "output_type": "execute_result"
    }
   ],
   "source": [
    "t_stack = FastTreeValue.func(subside=True)(torch.stack)\n",
    "\n",
    "t_stack(trees)"
   ]
  },
  {
   "cell_type": "code",
   "execution_count": 21,
   "id": "f8b3f415",
   "metadata": {
    "execution": {
     "iopub.execute_input": "2023-02-27T10:29:34.634757Z",
     "iopub.status.busy": "2023-02-27T10:29:34.633637Z",
     "iopub.status.idle": "2023-02-27T10:29:37.280592Z",
     "shell.execute_reply": "2023-02-27T10:29:37.279876Z"
    }
   },
   "outputs": [
    {
     "name": "stdout",
     "output_type": "stream",
     "text": [
      "32.5 µs ± 68.3 ns per loop (mean ± std. dev. of 7 runs, 10,000 loops each)\n"
     ]
    }
   ],
   "source": [
    "%timeit t_stack(trees)"
   ]
  },
  {
   "cell_type": "code",
   "execution_count": 22,
   "id": "94b56771",
   "metadata": {
    "execution": {
     "iopub.execute_input": "2023-02-27T10:29:37.283428Z",
     "iopub.status.busy": "2023-02-27T10:29:37.283091Z",
     "iopub.status.idle": "2023-02-27T10:29:37.290279Z",
     "shell.execute_reply": "2023-02-27T10:29:37.289642Z"
    }
   },
   "outputs": [
    {
     "data": {
      "text/plain": [
       "<FastTreeValue 0x7f1d8cf78e50>\n",
       "├── 'a' --> tensor([[-0.2411, -0.2262, -0.2681],\n",
       "│                   [ 0.2169,  0.4751, -0.9722],\n",
       "│                   [-0.2411, -0.2262, -0.2681],\n",
       "│                   [ 0.2169,  0.4751, -0.9722],\n",
       "│                   [-0.2411, -0.2262, -0.2681],\n",
       "│                   [ 0.2169,  0.4751, -0.9722],\n",
       "│                   [-0.2411, -0.2262, -0.2681],\n",
       "│                   [ 0.2169,  0.4751, -0.9722],\n",
       "│                   [-0.2411, -0.2262, -0.2681],\n",
       "│                   [ 0.2169,  0.4751, -0.9722],\n",
       "│                   [-0.2411, -0.2262, -0.2681],\n",
       "│                   [ 0.2169,  0.4751, -0.9722],\n",
       "│                   [-0.2411, -0.2262, -0.2681],\n",
       "│                   [ 0.2169,  0.4751, -0.9722],\n",
       "│                   [-0.2411, -0.2262, -0.2681],\n",
       "│                   [ 0.2169,  0.4751, -0.9722]])\n",
       "└── 'x' --> <FastTreeValue 0x7f1d8cfe1fd0>\n",
       "    └── 'c' --> tensor([[ 1.0751,  0.5819,  0.2164, -0.5943],\n",
       "                        [-1.7324, -0.0305, -0.0945,  0.8597],\n",
       "                        [ 0.4221,  1.5757, -0.8090,  0.3270],\n",
       "                        [ 1.0751,  0.5819,  0.2164, -0.5943],\n",
       "                        [-1.7324, -0.0305, -0.0945,  0.8597],\n",
       "                        [ 0.4221,  1.5757, -0.8090,  0.3270],\n",
       "                        [ 1.0751,  0.5819,  0.2164, -0.5943],\n",
       "                        [-1.7324, -0.0305, -0.0945,  0.8597],\n",
       "                        [ 0.4221,  1.5757, -0.8090,  0.3270],\n",
       "                        [ 1.0751,  0.5819,  0.2164, -0.5943],\n",
       "                        [-1.7324, -0.0305, -0.0945,  0.8597],\n",
       "                        [ 0.4221,  1.5757, -0.8090,  0.3270],\n",
       "                        [ 1.0751,  0.5819,  0.2164, -0.5943],\n",
       "                        [-1.7324, -0.0305, -0.0945,  0.8597],\n",
       "                        [ 0.4221,  1.5757, -0.8090,  0.3270],\n",
       "                        [ 1.0751,  0.5819,  0.2164, -0.5943],\n",
       "                        [-1.7324, -0.0305, -0.0945,  0.8597],\n",
       "                        [ 0.4221,  1.5757, -0.8090,  0.3270],\n",
       "                        [ 1.0751,  0.5819,  0.2164, -0.5943],\n",
       "                        [-1.7324, -0.0305, -0.0945,  0.8597],\n",
       "                        [ 0.4221,  1.5757, -0.8090,  0.3270],\n",
       "                        [ 1.0751,  0.5819,  0.2164, -0.5943],\n",
       "                        [-1.7324, -0.0305, -0.0945,  0.8597],\n",
       "                        [ 0.4221,  1.5757, -0.8090,  0.3270]])"
      ]
     },
     "execution_count": 22,
     "metadata": {},
     "output_type": "execute_result"
    }
   ],
   "source": [
    "t_cat = FastTreeValue.func(subside=True)(torch.cat)\n",
    "\n",
    "t_cat(trees)"
   ]
  },
  {
   "cell_type": "code",
   "execution_count": 23,
   "id": "5e9c06a6",
   "metadata": {
    "execution": {
     "iopub.execute_input": "2023-02-27T10:29:37.292867Z",
     "iopub.status.busy": "2023-02-27T10:29:37.292374Z",
     "iopub.status.idle": "2023-02-27T10:29:39.789168Z",
     "shell.execute_reply": "2023-02-27T10:29:39.788506Z"
    }
   },
   "outputs": [
    {
     "name": "stdout",
     "output_type": "stream",
     "text": [
      "30.7 µs ± 79.6 ns per loop (mean ± std. dev. of 7 runs, 10,000 loops each)\n"
     ]
    }
   ],
   "source": [
    "%timeit t_cat(trees)"
   ]
  },
  {
   "cell_type": "code",
   "execution_count": 24,
   "id": "a3ab5c8f",
   "metadata": {
    "execution": {
     "iopub.execute_input": "2023-02-27T10:29:39.792024Z",
     "iopub.status.busy": "2023-02-27T10:29:39.791658Z",
     "iopub.status.idle": "2023-02-27T10:29:44.370041Z",
     "shell.execute_reply": "2023-02-27T10:29:44.369297Z"
    }
   },
   "outputs": [
    {
     "name": "stdout",
     "output_type": "stream",
     "text": [
      "56.3 µs ± 329 ns per loop (mean ± std. dev. of 7 runs, 10,000 loops each)\n"
     ]
    }
   ],
   "source": [
    "t_split = FastTreeValue.func(rise=True)(torch.split)\n",
    "tree = FastTreeValue({\n",
    "    'obs': torch.randn(8, 4, 84, 84),\n",
    "    'action': torch.randint(0, 6, size=(8, 1,)),\n",
    "    'reward': torch.rand(8, 1),\n",
    "})\n",
    "\n",
    "%timeit t_split(tree, 1)"
   ]
  },
  {
   "cell_type": "markdown",
   "id": "31c3ec0b",
   "metadata": {},
   "source": [
    "### Performance of Tianshou Batch"
   ]
  },
  {
   "cell_type": "code",
   "execution_count": 25,
   "id": "9ead828a",
   "metadata": {
    "execution": {
     "iopub.execute_input": "2023-02-27T10:29:44.372918Z",
     "iopub.status.busy": "2023-02-27T10:29:44.372545Z",
     "iopub.status.idle": "2023-02-27T10:29:44.380841Z",
     "shell.execute_reply": "2023-02-27T10:29:44.380252Z"
    }
   },
   "outputs": [
    {
     "data": {
      "text/plain": [
       "Batch(\n",
       "    a: tensor([[[-0.2411, -0.2262, -0.2681],\n",
       "                [ 0.2169,  0.4751, -0.9722]],\n",
       "       \n",
       "               [[-0.2411, -0.2262, -0.2681],\n",
       "                [ 0.2169,  0.4751, -0.9722]],\n",
       "       \n",
       "               [[-0.2411, -0.2262, -0.2681],\n",
       "                [ 0.2169,  0.4751, -0.9722]],\n",
       "       \n",
       "               [[-0.2411, -0.2262, -0.2681],\n",
       "                [ 0.2169,  0.4751, -0.9722]],\n",
       "       \n",
       "               [[-0.2411, -0.2262, -0.2681],\n",
       "                [ 0.2169,  0.4751, -0.9722]],\n",
       "       \n",
       "               [[-0.2411, -0.2262, -0.2681],\n",
       "                [ 0.2169,  0.4751, -0.9722]],\n",
       "       \n",
       "               [[-0.2411, -0.2262, -0.2681],\n",
       "                [ 0.2169,  0.4751, -0.9722]],\n",
       "       \n",
       "               [[-0.2411, -0.2262, -0.2681],\n",
       "                [ 0.2169,  0.4751, -0.9722]]]),\n",
       "    x: Batch(\n",
       "           c: tensor([[[ 1.0751,  0.5819,  0.2164, -0.5943],\n",
       "                       [-1.7324, -0.0305, -0.0945,  0.8597],\n",
       "                       [ 0.4221,  1.5757, -0.8090,  0.3270]],\n",
       "              \n",
       "                      [[ 1.0751,  0.5819,  0.2164, -0.5943],\n",
       "                       [-1.7324, -0.0305, -0.0945,  0.8597],\n",
       "                       [ 0.4221,  1.5757, -0.8090,  0.3270]],\n",
       "              \n",
       "                      [[ 1.0751,  0.5819,  0.2164, -0.5943],\n",
       "                       [-1.7324, -0.0305, -0.0945,  0.8597],\n",
       "                       [ 0.4221,  1.5757, -0.8090,  0.3270]],\n",
       "              \n",
       "                      [[ 1.0751,  0.5819,  0.2164, -0.5943],\n",
       "                       [-1.7324, -0.0305, -0.0945,  0.8597],\n",
       "                       [ 0.4221,  1.5757, -0.8090,  0.3270]],\n",
       "              \n",
       "                      [[ 1.0751,  0.5819,  0.2164, -0.5943],\n",
       "                       [-1.7324, -0.0305, -0.0945,  0.8597],\n",
       "                       [ 0.4221,  1.5757, -0.8090,  0.3270]],\n",
       "              \n",
       "                      [[ 1.0751,  0.5819,  0.2164, -0.5943],\n",
       "                       [-1.7324, -0.0305, -0.0945,  0.8597],\n",
       "                       [ 0.4221,  1.5757, -0.8090,  0.3270]],\n",
       "              \n",
       "                      [[ 1.0751,  0.5819,  0.2164, -0.5943],\n",
       "                       [-1.7324, -0.0305, -0.0945,  0.8597],\n",
       "                       [ 0.4221,  1.5757, -0.8090,  0.3270]],\n",
       "              \n",
       "                      [[ 1.0751,  0.5819,  0.2164, -0.5943],\n",
       "                       [-1.7324, -0.0305, -0.0945,  0.8597],\n",
       "                       [ 0.4221,  1.5757, -0.8090,  0.3270]]]),\n",
       "       ),\n",
       ")"
      ]
     },
     "execution_count": 25,
     "metadata": {},
     "output_type": "execute_result"
    }
   ],
   "source": [
    "batches = [Batch(**_TREE_DATA_2) for _ in range(8)]\n",
    "\n",
    "Batch.stack(batches)"
   ]
  },
  {
   "cell_type": "code",
   "execution_count": 26,
   "id": "ec9037a3",
   "metadata": {
    "execution": {
     "iopub.execute_input": "2023-02-27T10:29:44.383259Z",
     "iopub.status.busy": "2023-02-27T10:29:44.382916Z",
     "iopub.status.idle": "2023-02-27T10:29:50.686348Z",
     "shell.execute_reply": "2023-02-27T10:29:50.685544Z"
    }
   },
   "outputs": [
    {
     "name": "stdout",
     "output_type": "stream",
     "text": [
      "77.6 µs ± 150 ns per loop (mean ± std. dev. of 7 runs, 10,000 loops each)\n"
     ]
    }
   ],
   "source": [
    "%timeit Batch.stack(batches)"
   ]
  },
  {
   "cell_type": "code",
   "execution_count": 27,
   "id": "cb8ab77e",
   "metadata": {
    "execution": {
     "iopub.execute_input": "2023-02-27T10:29:50.689686Z",
     "iopub.status.busy": "2023-02-27T10:29:50.689280Z",
     "iopub.status.idle": "2023-02-27T10:29:50.697725Z",
     "shell.execute_reply": "2023-02-27T10:29:50.697032Z"
    }
   },
   "outputs": [
    {
     "data": {
      "text/plain": [
       "Batch(\n",
       "    a: tensor([[-0.2411, -0.2262, -0.2681],\n",
       "               [ 0.2169,  0.4751, -0.9722],\n",
       "               [-0.2411, -0.2262, -0.2681],\n",
       "               [ 0.2169,  0.4751, -0.9722],\n",
       "               [-0.2411, -0.2262, -0.2681],\n",
       "               [ 0.2169,  0.4751, -0.9722],\n",
       "               [-0.2411, -0.2262, -0.2681],\n",
       "               [ 0.2169,  0.4751, -0.9722],\n",
       "               [-0.2411, -0.2262, -0.2681],\n",
       "               [ 0.2169,  0.4751, -0.9722],\n",
       "               [-0.2411, -0.2262, -0.2681],\n",
       "               [ 0.2169,  0.4751, -0.9722],\n",
       "               [-0.2411, -0.2262, -0.2681],\n",
       "               [ 0.2169,  0.4751, -0.9722],\n",
       "               [-0.2411, -0.2262, -0.2681],\n",
       "               [ 0.2169,  0.4751, -0.9722]]),\n",
       "    x: Batch(\n",
       "           c: tensor([[ 1.0751,  0.5819,  0.2164, -0.5943],\n",
       "                      [-1.7324, -0.0305, -0.0945,  0.8597],\n",
       "                      [ 0.4221,  1.5757, -0.8090,  0.3270],\n",
       "                      [ 1.0751,  0.5819,  0.2164, -0.5943],\n",
       "                      [-1.7324, -0.0305, -0.0945,  0.8597],\n",
       "                      [ 0.4221,  1.5757, -0.8090,  0.3270],\n",
       "                      [ 1.0751,  0.5819,  0.2164, -0.5943],\n",
       "                      [-1.7324, -0.0305, -0.0945,  0.8597],\n",
       "                      [ 0.4221,  1.5757, -0.8090,  0.3270],\n",
       "                      [ 1.0751,  0.5819,  0.2164, -0.5943],\n",
       "                      [-1.7324, -0.0305, -0.0945,  0.8597],\n",
       "                      [ 0.4221,  1.5757, -0.8090,  0.3270],\n",
       "                      [ 1.0751,  0.5819,  0.2164, -0.5943],\n",
       "                      [-1.7324, -0.0305, -0.0945,  0.8597],\n",
       "                      [ 0.4221,  1.5757, -0.8090,  0.3270],\n",
       "                      [ 1.0751,  0.5819,  0.2164, -0.5943],\n",
       "                      [-1.7324, -0.0305, -0.0945,  0.8597],\n",
       "                      [ 0.4221,  1.5757, -0.8090,  0.3270],\n",
       "                      [ 1.0751,  0.5819,  0.2164, -0.5943],\n",
       "                      [-1.7324, -0.0305, -0.0945,  0.8597],\n",
       "                      [ 0.4221,  1.5757, -0.8090,  0.3270],\n",
       "                      [ 1.0751,  0.5819,  0.2164, -0.5943],\n",
       "                      [-1.7324, -0.0305, -0.0945,  0.8597],\n",
       "                      [ 0.4221,  1.5757, -0.8090,  0.3270]]),\n",
       "       ),\n",
       ")"
      ]
     },
     "execution_count": 27,
     "metadata": {},
     "output_type": "execute_result"
    }
   ],
   "source": [
    "Batch.cat(batches)"
   ]
  },
  {
   "cell_type": "code",
   "execution_count": 28,
   "id": "18dfb045",
   "metadata": {
    "execution": {
     "iopub.execute_input": "2023-02-27T10:29:50.701153Z",
     "iopub.status.busy": "2023-02-27T10:29:50.700562Z",
     "iopub.status.idle": "2023-02-27T10:30:02.291006Z",
     "shell.execute_reply": "2023-02-27T10:30:02.290282Z"
    }
   },
   "outputs": [
    {
     "name": "stdout",
     "output_type": "stream",
     "text": [
      "143 µs ± 500 ns per loop (mean ± std. dev. of 7 runs, 10,000 loops each)\n"
     ]
    }
   ],
   "source": [
    "%timeit Batch.cat(batches)"
   ]
  },
  {
   "cell_type": "code",
   "execution_count": 29,
   "id": "c6688e51",
   "metadata": {
    "execution": {
     "iopub.execute_input": "2023-02-27T10:30:02.294295Z",
     "iopub.status.busy": "2023-02-27T10:30:02.293779Z",
     "iopub.status.idle": "2023-02-27T10:30:04.812745Z",
     "shell.execute_reply": "2023-02-27T10:30:04.812039Z"
    }
   },
   "outputs": [
    {
     "name": "stdout",
     "output_type": "stream",
     "text": [
      "309 µs ± 772 ns per loop (mean ± std. dev. of 7 runs, 1,000 loops each)\n"
     ]
    }
   ],
   "source": [
    "batch = Batch({\n",
    "    'obs': torch.randn(8, 4, 84, 84),\n",
    "    'action': torch.randint(0, 6, size=(8, 1,)),\n",
    "    'reward': torch.rand(8, 1)}\n",
    ")\n",
    "\n",
    "%timeit list(Batch.split(batch, 1, shuffle=False, merge_last=True))"
   ]
  },
  {
   "cell_type": "code",
   "execution_count": null,
   "id": "2539fbd9",
   "metadata": {},
   "outputs": [],
   "source": []
  }
 ],
 "metadata": {
  "kernelspec": {
   "display_name": "Python 3 (ipykernel)",
   "language": "python",
   "name": "python3"
  },
  "language_info": {
   "codemirror_mode": {
    "name": "ipython",
    "version": 3
   },
   "file_extension": ".py",
   "mimetype": "text/x-python",
   "name": "python",
   "nbconvert_exporter": "python",
   "pygments_lexer": "ipython3",
   "version": "3.8.16"
  }
 },
 "nbformat": 4,
 "nbformat_minor": 5
}
