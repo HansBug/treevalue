{
 "cells": [
  {
   "cell_type": "markdown",
   "id": "9d39d946",
   "metadata": {},
   "source": [
    "# Comparison Between TreeValue and Tianshou Batch"
   ]
  },
  {
   "cell_type": "markdown",
   "id": "3c6db2d4",
   "metadata": {},
   "source": [
    "In this section, we will take a look at the feature and performance of the [Tianshou Batch](https://github.com/thu-ml/tianshou) library, which is developed by Tsinghua Machine Learning Group."
   ]
  },
  {
   "cell_type": "markdown",
   "id": "069361b0",
   "metadata": {},
   "source": [
    "Before starting the comparison, let us define some thing."
   ]
  },
  {
   "cell_type": "code",
   "execution_count": 1,
   "id": "06fc8d26",
   "metadata": {
    "execution": {
     "iopub.execute_input": "2023-02-25T07:37:10.721203Z",
     "iopub.status.busy": "2023-02-25T07:37:10.720697Z",
     "iopub.status.idle": "2023-02-25T07:37:11.843033Z",
     "shell.execute_reply": "2023-02-25T07:37:11.841695Z"
    }
   },
   "outputs": [
    {
     "name": "stderr",
     "output_type": "stream",
     "text": [
      "/opt/hostedtoolcache/Python/3.8.16/x64/lib/python3.8/site-packages/tqdm/auto.py:22: TqdmWarning: IProgress not found. Please update jupyter and ipywidgets. See https://ipywidgets.readthedocs.io/en/stable/user_install.html\n",
      "  from .autonotebook import tqdm as notebook_tqdm\n"
     ]
    }
   ],
   "source": [
    "import torch \n",
    "\n",
    "_TREE_DATA_1 = {'a': 1, 'b': 2, 'x': {'c': 3, 'd': 4}}\n",
    "_TREE_DATA_2 = {\n",
    "    'a': torch.randn(2, 3), \n",
    "    'x': {\n",
    "        'c': torch.randn(3, 4)\n",
    "    },\n",
    "}\n",
    "_TREE_DATA_3 = {\n",
    "    'obs': torch.randn(4, 84, 84),\n",
    "    'action': torch.randint(0, 6, size=(1,)),\n",
    "    'reward': torch.rand(1),\n",
    "}"
   ]
  },
  {
   "cell_type": "markdown",
   "id": "83461b25",
   "metadata": {},
   "source": [
    "## Read and Write Operation"
   ]
  },
  {
   "cell_type": "markdown",
   "id": "067b3f73",
   "metadata": {},
   "source": [
    "Reading and writing are the two most common operations in the tree data structure based on the data model (TreeValue and Tianshou Batch both belong to this type), so this section will compare the reading and writing performance of these two libraries."
   ]
  },
  {
   "cell_type": "markdown",
   "id": "5d09a5b7",
   "metadata": {},
   "source": [
    "### TreeValue's Get and Set"
   ]
  },
  {
   "cell_type": "code",
   "execution_count": 2,
   "id": "9519c4bb",
   "metadata": {
    "execution": {
     "iopub.execute_input": "2023-02-25T07:37:11.849084Z",
     "iopub.status.busy": "2023-02-25T07:37:11.848472Z",
     "iopub.status.idle": "2023-02-25T07:37:11.893539Z",
     "shell.execute_reply": "2023-02-25T07:37:11.892519Z"
    }
   },
   "outputs": [],
   "source": [
    "from treevalue import FastTreeValue\n",
    "\n",
    "t = FastTreeValue(_TREE_DATA_2)"
   ]
  },
  {
   "cell_type": "code",
   "execution_count": 3,
   "id": "11c37677",
   "metadata": {
    "execution": {
     "iopub.execute_input": "2023-02-25T07:37:11.898824Z",
     "iopub.status.busy": "2023-02-25T07:37:11.897935Z",
     "iopub.status.idle": "2023-02-25T07:37:11.909433Z",
     "shell.execute_reply": "2023-02-25T07:37:11.908604Z"
    }
   },
   "outputs": [
    {
     "data": {
      "text/plain": [
       "<FastTreeValue 0x7fe2ec9589d0>\n",
       "├── 'a' --> tensor([[-2.0548, -0.2632, -0.3245],\n",
       "│                   [ 1.0957,  0.3798, -0.1288]])\n",
       "└── 'x' --> <FastTreeValue 0x7fe2ec9cce20>\n",
       "    └── 'c' --> tensor([[ 0.1846, -0.1902, -2.2872,  0.3354],\n",
       "                        [-0.8661,  0.3360, -0.4622,  0.5913],\n",
       "                        [ 0.2358, -0.9527, -0.7433,  0.7739]])"
      ]
     },
     "execution_count": 3,
     "metadata": {},
     "output_type": "execute_result"
    }
   ],
   "source": [
    "t"
   ]
  },
  {
   "cell_type": "code",
   "execution_count": 4,
   "id": "fd70b0b9",
   "metadata": {
    "execution": {
     "iopub.execute_input": "2023-02-25T07:37:11.913591Z",
     "iopub.status.busy": "2023-02-25T07:37:11.912909Z",
     "iopub.status.idle": "2023-02-25T07:37:11.919861Z",
     "shell.execute_reply": "2023-02-25T07:37:11.919160Z"
    }
   },
   "outputs": [
    {
     "data": {
      "text/plain": [
       "tensor([[-2.0548, -0.2632, -0.3245],\n",
       "        [ 1.0957,  0.3798, -0.1288]])"
      ]
     },
     "execution_count": 4,
     "metadata": {},
     "output_type": "execute_result"
    }
   ],
   "source": [
    "t.a"
   ]
  },
  {
   "cell_type": "code",
   "execution_count": 5,
   "id": "c18197bd",
   "metadata": {
    "execution": {
     "iopub.execute_input": "2023-02-25T07:37:11.923305Z",
     "iopub.status.busy": "2023-02-25T07:37:11.922723Z",
     "iopub.status.idle": "2023-02-25T07:37:17.964841Z",
     "shell.execute_reply": "2023-02-25T07:37:17.963898Z"
    }
   },
   "outputs": [
    {
     "name": "stdout",
     "output_type": "stream",
     "text": [
      "74.4 ns ± 0.317 ns per loop (mean ± std. dev. of 7 runs, 10,000,000 loops each)\n"
     ]
    }
   ],
   "source": [
    "%timeit t.a"
   ]
  },
  {
   "cell_type": "code",
   "execution_count": 6,
   "id": "bd52f867",
   "metadata": {
    "execution": {
     "iopub.execute_input": "2023-02-25T07:37:17.968643Z",
     "iopub.status.busy": "2023-02-25T07:37:17.968143Z",
     "iopub.status.idle": "2023-02-25T07:37:17.975999Z",
     "shell.execute_reply": "2023-02-25T07:37:17.975246Z"
    }
   },
   "outputs": [
    {
     "data": {
      "text/plain": [
       "<FastTreeValue 0x7fe2ec9589d0>\n",
       "├── 'a' --> tensor([[1.1294, 0.4543, 0.3333],\n",
       "│                   [1.8006, 1.8185, 0.6213]])\n",
       "└── 'x' --> <FastTreeValue 0x7fe2ec9cce20>\n",
       "    └── 'c' --> tensor([[ 0.1846, -0.1902, -2.2872,  0.3354],\n",
       "                        [-0.8661,  0.3360, -0.4622,  0.5913],\n",
       "                        [ 0.2358, -0.9527, -0.7433,  0.7739]])"
      ]
     },
     "execution_count": 6,
     "metadata": {},
     "output_type": "execute_result"
    }
   ],
   "source": [
    "new_value = torch.randn(2, 3)\n",
    "t.a = new_value\n",
    "\n",
    "t"
   ]
  },
  {
   "cell_type": "code",
   "execution_count": 7,
   "id": "bbe04d1c",
   "metadata": {
    "execution": {
     "iopub.execute_input": "2023-02-25T07:37:17.979215Z",
     "iopub.status.busy": "2023-02-25T07:37:17.978806Z",
     "iopub.status.idle": "2023-02-25T07:37:24.357029Z",
     "shell.execute_reply": "2023-02-25T07:37:24.356088Z"
    }
   },
   "outputs": [
    {
     "name": "stdout",
     "output_type": "stream",
     "text": [
      "78.6 ns ± 0.34 ns per loop (mean ± std. dev. of 7 runs, 10,000,000 loops each)\n"
     ]
    }
   ],
   "source": [
    "%timeit t.a = new_value"
   ]
  },
  {
   "cell_type": "markdown",
   "id": "48c49731",
   "metadata": {},
   "source": [
    "### Tianshou Batch's Get and Set"
   ]
  },
  {
   "cell_type": "code",
   "execution_count": 8,
   "id": "f1bb14c1",
   "metadata": {
    "execution": {
     "iopub.execute_input": "2023-02-25T07:37:24.360942Z",
     "iopub.status.busy": "2023-02-25T07:37:24.360303Z",
     "iopub.status.idle": "2023-02-25T07:37:24.785337Z",
     "shell.execute_reply": "2023-02-25T07:37:24.784271Z"
    }
   },
   "outputs": [],
   "source": [
    "from tianshou.data import Batch\n",
    "\n",
    "b = Batch(**_TREE_DATA_2)"
   ]
  },
  {
   "cell_type": "code",
   "execution_count": 9,
   "id": "cb0777c3",
   "metadata": {
    "execution": {
     "iopub.execute_input": "2023-02-25T07:37:24.790798Z",
     "iopub.status.busy": "2023-02-25T07:37:24.789949Z",
     "iopub.status.idle": "2023-02-25T07:37:24.798920Z",
     "shell.execute_reply": "2023-02-25T07:37:24.797371Z"
    }
   },
   "outputs": [
    {
     "data": {
      "text/plain": [
       "Batch(\n",
       "    a: tensor([[-2.0548, -0.2632, -0.3245],\n",
       "               [ 1.0957,  0.3798, -0.1288]]),\n",
       "    x: Batch(\n",
       "           c: tensor([[ 0.1846, -0.1902, -2.2872,  0.3354],\n",
       "                      [-0.8661,  0.3360, -0.4622,  0.5913],\n",
       "                      [ 0.2358, -0.9527, -0.7433,  0.7739]]),\n",
       "       ),\n",
       ")"
      ]
     },
     "execution_count": 9,
     "metadata": {},
     "output_type": "execute_result"
    }
   ],
   "source": [
    "b"
   ]
  },
  {
   "cell_type": "code",
   "execution_count": 10,
   "id": "43ef8ea3",
   "metadata": {
    "execution": {
     "iopub.execute_input": "2023-02-25T07:37:24.801966Z",
     "iopub.status.busy": "2023-02-25T07:37:24.801559Z",
     "iopub.status.idle": "2023-02-25T07:37:24.808800Z",
     "shell.execute_reply": "2023-02-25T07:37:24.807446Z"
    }
   },
   "outputs": [
    {
     "data": {
      "text/plain": [
       "tensor([[-2.0548, -0.2632, -0.3245],\n",
       "        [ 1.0957,  0.3798, -0.1288]])"
      ]
     },
     "execution_count": 10,
     "metadata": {},
     "output_type": "execute_result"
    }
   ],
   "source": [
    "b.a"
   ]
  },
  {
   "cell_type": "code",
   "execution_count": 11,
   "id": "b785ab72",
   "metadata": {
    "execution": {
     "iopub.execute_input": "2023-02-25T07:37:24.811798Z",
     "iopub.status.busy": "2023-02-25T07:37:24.811418Z",
     "iopub.status.idle": "2023-02-25T07:37:30.306777Z",
     "shell.execute_reply": "2023-02-25T07:37:30.305461Z"
    }
   },
   "outputs": [
    {
     "name": "stdout",
     "output_type": "stream",
     "text": [
      "67.5 ns ± 0.324 ns per loop (mean ± std. dev. of 7 runs, 10,000,000 loops each)\n"
     ]
    }
   ],
   "source": [
    "%timeit b.a"
   ]
  },
  {
   "cell_type": "code",
   "execution_count": 12,
   "id": "ad54dc69",
   "metadata": {
    "execution": {
     "iopub.execute_input": "2023-02-25T07:37:30.310845Z",
     "iopub.status.busy": "2023-02-25T07:37:30.310421Z",
     "iopub.status.idle": "2023-02-25T07:37:30.317457Z",
     "shell.execute_reply": "2023-02-25T07:37:30.316625Z"
    }
   },
   "outputs": [
    {
     "data": {
      "text/plain": [
       "Batch(\n",
       "    a: tensor([[ 0.1765,  0.8144,  1.3414],\n",
       "               [-0.7930,  1.1215, -1.5349]]),\n",
       "    x: Batch(\n",
       "           c: tensor([[ 0.1846, -0.1902, -2.2872,  0.3354],\n",
       "                      [-0.8661,  0.3360, -0.4622,  0.5913],\n",
       "                      [ 0.2358, -0.9527, -0.7433,  0.7739]]),\n",
       "       ),\n",
       ")"
      ]
     },
     "execution_count": 12,
     "metadata": {},
     "output_type": "execute_result"
    }
   ],
   "source": [
    "new_value = torch.randn(2, 3)\n",
    "b.a = new_value\n",
    "\n",
    "b"
   ]
  },
  {
   "cell_type": "code",
   "execution_count": 13,
   "id": "29b1d0bf",
   "metadata": {
    "execution": {
     "iopub.execute_input": "2023-02-25T07:37:30.321201Z",
     "iopub.status.busy": "2023-02-25T07:37:30.320253Z",
     "iopub.status.idle": "2023-02-25T07:37:35.184207Z",
     "shell.execute_reply": "2023-02-25T07:37:35.182773Z"
    }
   },
   "outputs": [
    {
     "name": "stdout",
     "output_type": "stream",
     "text": [
      "597 ns ± 9.02 ns per loop (mean ± std. dev. of 7 runs, 1,000,000 loops each)\n"
     ]
    }
   ],
   "source": [
    "%timeit b.a = new_value"
   ]
  },
  {
   "cell_type": "markdown",
   "id": "b61ad1d0",
   "metadata": {},
   "source": [
    "## Initialization"
   ]
  },
  {
   "cell_type": "markdown",
   "id": "d70f0d54",
   "metadata": {},
   "source": [
    "### TreeValue's Initialization"
   ]
  },
  {
   "cell_type": "code",
   "execution_count": 14,
   "id": "d32a679b",
   "metadata": {
    "execution": {
     "iopub.execute_input": "2023-02-25T07:37:35.188762Z",
     "iopub.status.busy": "2023-02-25T07:37:35.188005Z",
     "iopub.status.idle": "2023-02-25T07:37:42.840619Z",
     "shell.execute_reply": "2023-02-25T07:37:42.839383Z"
    }
   },
   "outputs": [
    {
     "name": "stdout",
     "output_type": "stream",
     "text": [
      "942 ns ± 3.5 ns per loop (mean ± std. dev. of 7 runs, 1,000,000 loops each)\n"
     ]
    }
   ],
   "source": [
    "%timeit FastTreeValue(_TREE_DATA_1)"
   ]
  },
  {
   "cell_type": "markdown",
   "id": "24f3707b",
   "metadata": {},
   "source": [
    "### Tianshou Batch's Initialization"
   ]
  },
  {
   "cell_type": "code",
   "execution_count": 15,
   "id": "ac3958df",
   "metadata": {
    "execution": {
     "iopub.execute_input": "2023-02-25T07:37:42.845209Z",
     "iopub.status.busy": "2023-02-25T07:37:42.844331Z",
     "iopub.status.idle": "2023-02-25T07:37:53.004785Z",
     "shell.execute_reply": "2023-02-25T07:37:53.003606Z"
    }
   },
   "outputs": [
    {
     "name": "stdout",
     "output_type": "stream",
     "text": [
      "12.6 µs ± 147 ns per loop (mean ± std. dev. of 7 runs, 100,000 loops each)\n"
     ]
    }
   ],
   "source": [
    "%timeit Batch(**_TREE_DATA_1)"
   ]
  },
  {
   "cell_type": "markdown",
   "id": "1ab82e2d",
   "metadata": {},
   "source": [
    "## Deep Copy Operation"
   ]
  },
  {
   "cell_type": "code",
   "execution_count": 16,
   "id": "210a9442",
   "metadata": {
    "execution": {
     "iopub.execute_input": "2023-02-25T07:37:53.008723Z",
     "iopub.status.busy": "2023-02-25T07:37:53.008085Z",
     "iopub.status.idle": "2023-02-25T07:37:53.012868Z",
     "shell.execute_reply": "2023-02-25T07:37:53.012114Z"
    }
   },
   "outputs": [],
   "source": [
    "import copy"
   ]
  },
  {
   "cell_type": "markdown",
   "id": "5a736274",
   "metadata": {},
   "source": [
    "### Deep Copy of TreeValue"
   ]
  },
  {
   "cell_type": "code",
   "execution_count": 17,
   "id": "f9bcadd6",
   "metadata": {
    "execution": {
     "iopub.execute_input": "2023-02-25T07:37:53.016273Z",
     "iopub.status.busy": "2023-02-25T07:37:53.015815Z",
     "iopub.status.idle": "2023-02-25T07:38:06.681909Z",
     "shell.execute_reply": "2023-02-25T07:38:06.681162Z"
    }
   },
   "outputs": [
    {
     "name": "stdout",
     "output_type": "stream",
     "text": [
      "167 µs ± 4.54 µs per loop (mean ± std. dev. of 7 runs, 10,000 loops each)\n"
     ]
    }
   ],
   "source": [
    "t3 = FastTreeValue(_TREE_DATA_3)\n",
    "%timeit copy.deepcopy(t3)"
   ]
  },
  {
   "cell_type": "markdown",
   "id": "bf8be7ea",
   "metadata": {},
   "source": [
    "### Deep Copy of Tianshou Batch"
   ]
  },
  {
   "cell_type": "code",
   "execution_count": 18,
   "id": "91998e6f",
   "metadata": {
    "execution": {
     "iopub.execute_input": "2023-02-25T07:38:06.685344Z",
     "iopub.status.busy": "2023-02-25T07:38:06.684790Z",
     "iopub.status.idle": "2023-02-25T07:38:19.739777Z",
     "shell.execute_reply": "2023-02-25T07:38:19.739018Z"
    }
   },
   "outputs": [
    {
     "name": "stdout",
     "output_type": "stream",
     "text": [
      "161 µs ± 1.05 µs per loop (mean ± std. dev. of 7 runs, 10,000 loops each)\n"
     ]
    }
   ],
   "source": [
    "b3 = Batch(**_TREE_DATA_3)\n",
    "%timeit copy.deepcopy(b3)"
   ]
  },
  {
   "cell_type": "markdown",
   "id": "223162fb",
   "metadata": {},
   "source": [
    "## Stack, Concat and Split Operation"
   ]
  },
  {
   "cell_type": "markdown",
   "id": "85fa4a73",
   "metadata": {},
   "source": [
    "### Performance of TreeValue"
   ]
  },
  {
   "cell_type": "code",
   "execution_count": 19,
   "id": "a0c2b697",
   "metadata": {
    "execution": {
     "iopub.execute_input": "2023-02-25T07:38:19.743139Z",
     "iopub.status.busy": "2023-02-25T07:38:19.742672Z",
     "iopub.status.idle": "2023-02-25T07:38:19.747282Z",
     "shell.execute_reply": "2023-02-25T07:38:19.746080Z"
    }
   },
   "outputs": [],
   "source": [
    "trees = [FastTreeValue(_TREE_DATA_2) for _ in range(8)]"
   ]
  },
  {
   "cell_type": "code",
   "execution_count": 20,
   "id": "017ea5a5",
   "metadata": {
    "execution": {
     "iopub.execute_input": "2023-02-25T07:38:19.750109Z",
     "iopub.status.busy": "2023-02-25T07:38:19.749669Z",
     "iopub.status.idle": "2023-02-25T07:38:19.758113Z",
     "shell.execute_reply": "2023-02-25T07:38:19.757156Z"
    }
   },
   "outputs": [
    {
     "data": {
      "text/plain": [
       "<FastTreeValue 0x7fe2ec953130>\n",
       "├── 'a' --> tensor([[[-2.0548, -0.2632, -0.3245],\n",
       "│                    [ 1.0957,  0.3798, -0.1288]],\n",
       "│           \n",
       "│                   [[-2.0548, -0.2632, -0.3245],\n",
       "│                    [ 1.0957,  0.3798, -0.1288]],\n",
       "│           \n",
       "│                   [[-2.0548, -0.2632, -0.3245],\n",
       "│                    [ 1.0957,  0.3798, -0.1288]],\n",
       "│           \n",
       "│                   [[-2.0548, -0.2632, -0.3245],\n",
       "│                    [ 1.0957,  0.3798, -0.1288]],\n",
       "│           \n",
       "│                   [[-2.0548, -0.2632, -0.3245],\n",
       "│                    [ 1.0957,  0.3798, -0.1288]],\n",
       "│           \n",
       "│                   [[-2.0548, -0.2632, -0.3245],\n",
       "│                    [ 1.0957,  0.3798, -0.1288]],\n",
       "│           \n",
       "│                   [[-2.0548, -0.2632, -0.3245],\n",
       "│                    [ 1.0957,  0.3798, -0.1288]],\n",
       "│           \n",
       "│                   [[-2.0548, -0.2632, -0.3245],\n",
       "│                    [ 1.0957,  0.3798, -0.1288]]])\n",
       "└── 'x' --> <FastTreeValue 0x7fe2ec953220>\n",
       "    └── 'c' --> tensor([[[ 0.1846, -0.1902, -2.2872,  0.3354],\n",
       "                         [-0.8661,  0.3360, -0.4622,  0.5913],\n",
       "                         [ 0.2358, -0.9527, -0.7433,  0.7739]],\n",
       "                \n",
       "                        [[ 0.1846, -0.1902, -2.2872,  0.3354],\n",
       "                         [-0.8661,  0.3360, -0.4622,  0.5913],\n",
       "                         [ 0.2358, -0.9527, -0.7433,  0.7739]],\n",
       "                \n",
       "                        [[ 0.1846, -0.1902, -2.2872,  0.3354],\n",
       "                         [-0.8661,  0.3360, -0.4622,  0.5913],\n",
       "                         [ 0.2358, -0.9527, -0.7433,  0.7739]],\n",
       "                \n",
       "                        [[ 0.1846, -0.1902, -2.2872,  0.3354],\n",
       "                         [-0.8661,  0.3360, -0.4622,  0.5913],\n",
       "                         [ 0.2358, -0.9527, -0.7433,  0.7739]],\n",
       "                \n",
       "                        [[ 0.1846, -0.1902, -2.2872,  0.3354],\n",
       "                         [-0.8661,  0.3360, -0.4622,  0.5913],\n",
       "                         [ 0.2358, -0.9527, -0.7433,  0.7739]],\n",
       "                \n",
       "                        [[ 0.1846, -0.1902, -2.2872,  0.3354],\n",
       "                         [-0.8661,  0.3360, -0.4622,  0.5913],\n",
       "                         [ 0.2358, -0.9527, -0.7433,  0.7739]],\n",
       "                \n",
       "                        [[ 0.1846, -0.1902, -2.2872,  0.3354],\n",
       "                         [-0.8661,  0.3360, -0.4622,  0.5913],\n",
       "                         [ 0.2358, -0.9527, -0.7433,  0.7739]],\n",
       "                \n",
       "                        [[ 0.1846, -0.1902, -2.2872,  0.3354],\n",
       "                         [-0.8661,  0.3360, -0.4622,  0.5913],\n",
       "                         [ 0.2358, -0.9527, -0.7433,  0.7739]]])"
      ]
     },
     "execution_count": 20,
     "metadata": {},
     "output_type": "execute_result"
    }
   ],
   "source": [
    "t_stack = FastTreeValue.func(subside=True)(torch.stack)\n",
    "\n",
    "t_stack(trees)"
   ]
  },
  {
   "cell_type": "code",
   "execution_count": 21,
   "id": "f8b3f415",
   "metadata": {
    "execution": {
     "iopub.execute_input": "2023-02-25T07:38:19.760980Z",
     "iopub.status.busy": "2023-02-25T07:38:19.760335Z",
     "iopub.status.idle": "2023-02-25T07:38:22.770929Z",
     "shell.execute_reply": "2023-02-25T07:38:22.769996Z"
    }
   },
   "outputs": [
    {
     "name": "stdout",
     "output_type": "stream",
     "text": [
      "37.1 µs ± 391 ns per loop (mean ± std. dev. of 7 runs, 10,000 loops each)\n"
     ]
    }
   ],
   "source": [
    "%timeit t_stack(trees)"
   ]
  },
  {
   "cell_type": "code",
   "execution_count": 22,
   "id": "94b56771",
   "metadata": {
    "execution": {
     "iopub.execute_input": "2023-02-25T07:38:22.774866Z",
     "iopub.status.busy": "2023-02-25T07:38:22.774153Z",
     "iopub.status.idle": "2023-02-25T07:38:22.783459Z",
     "shell.execute_reply": "2023-02-25T07:38:22.782730Z"
    }
   },
   "outputs": [
    {
     "data": {
      "text/plain": [
       "<FastTreeValue 0x7fe24160d430>\n",
       "├── 'a' --> tensor([[-2.0548, -0.2632, -0.3245],\n",
       "│                   [ 1.0957,  0.3798, -0.1288],\n",
       "│                   [-2.0548, -0.2632, -0.3245],\n",
       "│                   [ 1.0957,  0.3798, -0.1288],\n",
       "│                   [-2.0548, -0.2632, -0.3245],\n",
       "│                   [ 1.0957,  0.3798, -0.1288],\n",
       "│                   [-2.0548, -0.2632, -0.3245],\n",
       "│                   [ 1.0957,  0.3798, -0.1288],\n",
       "│                   [-2.0548, -0.2632, -0.3245],\n",
       "│                   [ 1.0957,  0.3798, -0.1288],\n",
       "│                   [-2.0548, -0.2632, -0.3245],\n",
       "│                   [ 1.0957,  0.3798, -0.1288],\n",
       "│                   [-2.0548, -0.2632, -0.3245],\n",
       "│                   [ 1.0957,  0.3798, -0.1288],\n",
       "│                   [-2.0548, -0.2632, -0.3245],\n",
       "│                   [ 1.0957,  0.3798, -0.1288]])\n",
       "└── 'x' --> <FastTreeValue 0x7fe241676fa0>\n",
       "    └── 'c' --> tensor([[ 0.1846, -0.1902, -2.2872,  0.3354],\n",
       "                        [-0.8661,  0.3360, -0.4622,  0.5913],\n",
       "                        [ 0.2358, -0.9527, -0.7433,  0.7739],\n",
       "                        [ 0.1846, -0.1902, -2.2872,  0.3354],\n",
       "                        [-0.8661,  0.3360, -0.4622,  0.5913],\n",
       "                        [ 0.2358, -0.9527, -0.7433,  0.7739],\n",
       "                        [ 0.1846, -0.1902, -2.2872,  0.3354],\n",
       "                        [-0.8661,  0.3360, -0.4622,  0.5913],\n",
       "                        [ 0.2358, -0.9527, -0.7433,  0.7739],\n",
       "                        [ 0.1846, -0.1902, -2.2872,  0.3354],\n",
       "                        [-0.8661,  0.3360, -0.4622,  0.5913],\n",
       "                        [ 0.2358, -0.9527, -0.7433,  0.7739],\n",
       "                        [ 0.1846, -0.1902, -2.2872,  0.3354],\n",
       "                        [-0.8661,  0.3360, -0.4622,  0.5913],\n",
       "                        [ 0.2358, -0.9527, -0.7433,  0.7739],\n",
       "                        [ 0.1846, -0.1902, -2.2872,  0.3354],\n",
       "                        [-0.8661,  0.3360, -0.4622,  0.5913],\n",
       "                        [ 0.2358, -0.9527, -0.7433,  0.7739],\n",
       "                        [ 0.1846, -0.1902, -2.2872,  0.3354],\n",
       "                        [-0.8661,  0.3360, -0.4622,  0.5913],\n",
       "                        [ 0.2358, -0.9527, -0.7433,  0.7739],\n",
       "                        [ 0.1846, -0.1902, -2.2872,  0.3354],\n",
       "                        [-0.8661,  0.3360, -0.4622,  0.5913],\n",
       "                        [ 0.2358, -0.9527, -0.7433,  0.7739]])"
      ]
     },
     "execution_count": 22,
     "metadata": {},
     "output_type": "execute_result"
    }
   ],
   "source": [
    "t_cat = FastTreeValue.func(subside=True)(torch.cat)\n",
    "\n",
    "t_cat(trees)"
   ]
  },
  {
   "cell_type": "code",
   "execution_count": 23,
   "id": "5e9c06a6",
   "metadata": {
    "execution": {
     "iopub.execute_input": "2023-02-25T07:38:22.786863Z",
     "iopub.status.busy": "2023-02-25T07:38:22.786445Z",
     "iopub.status.idle": "2023-02-25T07:38:25.604183Z",
     "shell.execute_reply": "2023-02-25T07:38:25.602754Z"
    }
   },
   "outputs": [
    {
     "name": "stdout",
     "output_type": "stream",
     "text": [
      "34.7 µs ± 193 ns per loop (mean ± std. dev. of 7 runs, 10,000 loops each)\n"
     ]
    }
   ],
   "source": [
    "%timeit t_cat(trees)"
   ]
  },
  {
   "cell_type": "code",
   "execution_count": 24,
   "id": "a3ab5c8f",
   "metadata": {
    "execution": {
     "iopub.execute_input": "2023-02-25T07:38:25.608377Z",
     "iopub.status.busy": "2023-02-25T07:38:25.607704Z",
     "iopub.status.idle": "2023-02-25T07:38:30.765817Z",
     "shell.execute_reply": "2023-02-25T07:38:30.764490Z"
    }
   },
   "outputs": [
    {
     "name": "stdout",
     "output_type": "stream",
     "text": [
      "62.9 µs ± 1.23 µs per loop (mean ± std. dev. of 7 runs, 10,000 loops each)\n"
     ]
    }
   ],
   "source": [
    "t_split = FastTreeValue.func(rise=True)(torch.split)\n",
    "tree = FastTreeValue({\n",
    "    'obs': torch.randn(8, 4, 84, 84),\n",
    "    'action': torch.randint(0, 6, size=(8, 1,)),\n",
    "    'reward': torch.rand(8, 1),\n",
    "})\n",
    "\n",
    "%timeit t_split(tree, 1)"
   ]
  },
  {
   "cell_type": "markdown",
   "id": "31c3ec0b",
   "metadata": {},
   "source": [
    "### Performance of Tianshou Batch"
   ]
  },
  {
   "cell_type": "code",
   "execution_count": 25,
   "id": "9ead828a",
   "metadata": {
    "execution": {
     "iopub.execute_input": "2023-02-25T07:38:30.770349Z",
     "iopub.status.busy": "2023-02-25T07:38:30.769675Z",
     "iopub.status.idle": "2023-02-25T07:38:30.779219Z",
     "shell.execute_reply": "2023-02-25T07:38:30.778499Z"
    }
   },
   "outputs": [
    {
     "data": {
      "text/plain": [
       "Batch(\n",
       "    a: tensor([[[-2.0548, -0.2632, -0.3245],\n",
       "                [ 1.0957,  0.3798, -0.1288]],\n",
       "       \n",
       "               [[-2.0548, -0.2632, -0.3245],\n",
       "                [ 1.0957,  0.3798, -0.1288]],\n",
       "       \n",
       "               [[-2.0548, -0.2632, -0.3245],\n",
       "                [ 1.0957,  0.3798, -0.1288]],\n",
       "       \n",
       "               [[-2.0548, -0.2632, -0.3245],\n",
       "                [ 1.0957,  0.3798, -0.1288]],\n",
       "       \n",
       "               [[-2.0548, -0.2632, -0.3245],\n",
       "                [ 1.0957,  0.3798, -0.1288]],\n",
       "       \n",
       "               [[-2.0548, -0.2632, -0.3245],\n",
       "                [ 1.0957,  0.3798, -0.1288]],\n",
       "       \n",
       "               [[-2.0548, -0.2632, -0.3245],\n",
       "                [ 1.0957,  0.3798, -0.1288]],\n",
       "       \n",
       "               [[-2.0548, -0.2632, -0.3245],\n",
       "                [ 1.0957,  0.3798, -0.1288]]]),\n",
       "    x: Batch(\n",
       "           c: tensor([[[ 0.1846, -0.1902, -2.2872,  0.3354],\n",
       "                       [-0.8661,  0.3360, -0.4622,  0.5913],\n",
       "                       [ 0.2358, -0.9527, -0.7433,  0.7739]],\n",
       "              \n",
       "                      [[ 0.1846, -0.1902, -2.2872,  0.3354],\n",
       "                       [-0.8661,  0.3360, -0.4622,  0.5913],\n",
       "                       [ 0.2358, -0.9527, -0.7433,  0.7739]],\n",
       "              \n",
       "                      [[ 0.1846, -0.1902, -2.2872,  0.3354],\n",
       "                       [-0.8661,  0.3360, -0.4622,  0.5913],\n",
       "                       [ 0.2358, -0.9527, -0.7433,  0.7739]],\n",
       "              \n",
       "                      [[ 0.1846, -0.1902, -2.2872,  0.3354],\n",
       "                       [-0.8661,  0.3360, -0.4622,  0.5913],\n",
       "                       [ 0.2358, -0.9527, -0.7433,  0.7739]],\n",
       "              \n",
       "                      [[ 0.1846, -0.1902, -2.2872,  0.3354],\n",
       "                       [-0.8661,  0.3360, -0.4622,  0.5913],\n",
       "                       [ 0.2358, -0.9527, -0.7433,  0.7739]],\n",
       "              \n",
       "                      [[ 0.1846, -0.1902, -2.2872,  0.3354],\n",
       "                       [-0.8661,  0.3360, -0.4622,  0.5913],\n",
       "                       [ 0.2358, -0.9527, -0.7433,  0.7739]],\n",
       "              \n",
       "                      [[ 0.1846, -0.1902, -2.2872,  0.3354],\n",
       "                       [-0.8661,  0.3360, -0.4622,  0.5913],\n",
       "                       [ 0.2358, -0.9527, -0.7433,  0.7739]],\n",
       "              \n",
       "                      [[ 0.1846, -0.1902, -2.2872,  0.3354],\n",
       "                       [-0.8661,  0.3360, -0.4622,  0.5913],\n",
       "                       [ 0.2358, -0.9527, -0.7433,  0.7739]]]),\n",
       "       ),\n",
       ")"
      ]
     },
     "execution_count": 25,
     "metadata": {},
     "output_type": "execute_result"
    }
   ],
   "source": [
    "batches = [Batch(**_TREE_DATA_2) for _ in range(8)]\n",
    "\n",
    "Batch.stack(batches)"
   ]
  },
  {
   "cell_type": "code",
   "execution_count": 26,
   "id": "ec9037a3",
   "metadata": {
    "execution": {
     "iopub.execute_input": "2023-02-25T07:38:30.782548Z",
     "iopub.status.busy": "2023-02-25T07:38:30.782108Z",
     "iopub.status.idle": "2023-02-25T07:38:37.964054Z",
     "shell.execute_reply": "2023-02-25T07:38:37.962490Z"
    }
   },
   "outputs": [
    {
     "name": "stdout",
     "output_type": "stream",
     "text": [
      "88.2 µs ± 616 ns per loop (mean ± std. dev. of 7 runs, 10,000 loops each)\n"
     ]
    }
   ],
   "source": [
    "%timeit Batch.stack(batches)"
   ]
  },
  {
   "cell_type": "code",
   "execution_count": 27,
   "id": "cb8ab77e",
   "metadata": {
    "execution": {
     "iopub.execute_input": "2023-02-25T07:38:37.968158Z",
     "iopub.status.busy": "2023-02-25T07:38:37.967482Z",
     "iopub.status.idle": "2023-02-25T07:38:37.976635Z",
     "shell.execute_reply": "2023-02-25T07:38:37.975892Z"
    }
   },
   "outputs": [
    {
     "data": {
      "text/plain": [
       "Batch(\n",
       "    a: tensor([[-2.0548, -0.2632, -0.3245],\n",
       "               [ 1.0957,  0.3798, -0.1288],\n",
       "               [-2.0548, -0.2632, -0.3245],\n",
       "               [ 1.0957,  0.3798, -0.1288],\n",
       "               [-2.0548, -0.2632, -0.3245],\n",
       "               [ 1.0957,  0.3798, -0.1288],\n",
       "               [-2.0548, -0.2632, -0.3245],\n",
       "               [ 1.0957,  0.3798, -0.1288],\n",
       "               [-2.0548, -0.2632, -0.3245],\n",
       "               [ 1.0957,  0.3798, -0.1288],\n",
       "               [-2.0548, -0.2632, -0.3245],\n",
       "               [ 1.0957,  0.3798, -0.1288],\n",
       "               [-2.0548, -0.2632, -0.3245],\n",
       "               [ 1.0957,  0.3798, -0.1288],\n",
       "               [-2.0548, -0.2632, -0.3245],\n",
       "               [ 1.0957,  0.3798, -0.1288]]),\n",
       "    x: Batch(\n",
       "           c: tensor([[ 0.1846, -0.1902, -2.2872,  0.3354],\n",
       "                      [-0.8661,  0.3360, -0.4622,  0.5913],\n",
       "                      [ 0.2358, -0.9527, -0.7433,  0.7739],\n",
       "                      [ 0.1846, -0.1902, -2.2872,  0.3354],\n",
       "                      [-0.8661,  0.3360, -0.4622,  0.5913],\n",
       "                      [ 0.2358, -0.9527, -0.7433,  0.7739],\n",
       "                      [ 0.1846, -0.1902, -2.2872,  0.3354],\n",
       "                      [-0.8661,  0.3360, -0.4622,  0.5913],\n",
       "                      [ 0.2358, -0.9527, -0.7433,  0.7739],\n",
       "                      [ 0.1846, -0.1902, -2.2872,  0.3354],\n",
       "                      [-0.8661,  0.3360, -0.4622,  0.5913],\n",
       "                      [ 0.2358, -0.9527, -0.7433,  0.7739],\n",
       "                      [ 0.1846, -0.1902, -2.2872,  0.3354],\n",
       "                      [-0.8661,  0.3360, -0.4622,  0.5913],\n",
       "                      [ 0.2358, -0.9527, -0.7433,  0.7739],\n",
       "                      [ 0.1846, -0.1902, -2.2872,  0.3354],\n",
       "                      [-0.8661,  0.3360, -0.4622,  0.5913],\n",
       "                      [ 0.2358, -0.9527, -0.7433,  0.7739],\n",
       "                      [ 0.1846, -0.1902, -2.2872,  0.3354],\n",
       "                      [-0.8661,  0.3360, -0.4622,  0.5913],\n",
       "                      [ 0.2358, -0.9527, -0.7433,  0.7739],\n",
       "                      [ 0.1846, -0.1902, -2.2872,  0.3354],\n",
       "                      [-0.8661,  0.3360, -0.4622,  0.5913],\n",
       "                      [ 0.2358, -0.9527, -0.7433,  0.7739]]),\n",
       "       ),\n",
       ")"
      ]
     },
     "execution_count": 27,
     "metadata": {},
     "output_type": "execute_result"
    }
   ],
   "source": [
    "Batch.cat(batches)"
   ]
  },
  {
   "cell_type": "code",
   "execution_count": 28,
   "id": "18dfb045",
   "metadata": {
    "execution": {
     "iopub.execute_input": "2023-02-25T07:38:37.980301Z",
     "iopub.status.busy": "2023-02-25T07:38:37.979756Z",
     "iopub.status.idle": "2023-02-25T07:38:51.534726Z",
     "shell.execute_reply": "2023-02-25T07:38:51.533383Z"
    }
   },
   "outputs": [
    {
     "name": "stdout",
     "output_type": "stream",
     "text": [
      "166 µs ± 1.92 µs per loop (mean ± std. dev. of 7 runs, 10,000 loops each)\n"
     ]
    }
   ],
   "source": [
    "%timeit Batch.cat(batches)"
   ]
  },
  {
   "cell_type": "code",
   "execution_count": 29,
   "id": "c6688e51",
   "metadata": {
    "execution": {
     "iopub.execute_input": "2023-02-25T07:38:51.539241Z",
     "iopub.status.busy": "2023-02-25T07:38:51.538591Z",
     "iopub.status.idle": "2023-02-25T07:38:54.646180Z",
     "shell.execute_reply": "2023-02-25T07:38:54.645379Z"
    }
   },
   "outputs": [
    {
     "name": "stdout",
     "output_type": "stream",
     "text": [
      "382 µs ± 2.68 µs per loop (mean ± std. dev. of 7 runs, 1,000 loops each)\n"
     ]
    }
   ],
   "source": [
    "batch = Batch({\n",
    "    'obs': torch.randn(8, 4, 84, 84),\n",
    "    'action': torch.randint(0, 6, size=(8, 1,)),\n",
    "    'reward': torch.rand(8, 1)}\n",
    ")\n",
    "\n",
    "%timeit list(Batch.split(batch, 1, shuffle=False, merge_last=True))"
   ]
  },
  {
   "cell_type": "code",
   "execution_count": null,
   "id": "2539fbd9",
   "metadata": {},
   "outputs": [],
   "source": []
  }
 ],
 "metadata": {
  "kernelspec": {
   "display_name": "Python 3 (ipykernel)",
   "language": "python",
   "name": "python3"
  },
  "language_info": {
   "codemirror_mode": {
    "name": "ipython",
    "version": 3
   },
   "file_extension": ".py",
   "mimetype": "text/x-python",
   "name": "python",
   "nbconvert_exporter": "python",
   "pygments_lexer": "ipython3",
   "version": "3.8.16"
  }
 },
 "nbformat": 4,
 "nbformat_minor": 5
}
