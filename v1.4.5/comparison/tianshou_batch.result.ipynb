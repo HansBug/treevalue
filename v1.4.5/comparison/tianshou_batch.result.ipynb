{
 "cells": [
  {
   "cell_type": "markdown",
   "id": "9d39d946",
   "metadata": {},
   "source": [
    "# Comparison Between TreeValue and Tianshou Batch"
   ]
  },
  {
   "cell_type": "markdown",
   "id": "3c6db2d4",
   "metadata": {},
   "source": [
    "In this section, we will take a look at the feature and performance of the [Tianshou Batch](https://github.com/thu-ml/tianshou) library, which is developed by Tsinghua Machine Learning Group."
   ]
  },
  {
   "cell_type": "markdown",
   "id": "069361b0",
   "metadata": {},
   "source": [
    "Before starting the comparison, let us define some thing."
   ]
  },
  {
   "cell_type": "code",
   "execution_count": 1,
   "id": "06fc8d26",
   "metadata": {
    "execution": {
     "iopub.execute_input": "2023-02-27T11:10:06.475010Z",
     "iopub.status.busy": "2023-02-27T11:10:06.474578Z",
     "iopub.status.idle": "2023-02-27T11:10:07.479981Z",
     "shell.execute_reply": "2023-02-27T11:10:07.479166Z"
    }
   },
   "outputs": [
    {
     "name": "stderr",
     "output_type": "stream",
     "text": [
      "/opt/hostedtoolcache/Python/3.8.16/x64/lib/python3.8/site-packages/tqdm/auto.py:22: TqdmWarning: IProgress not found. Please update jupyter and ipywidgets. See https://ipywidgets.readthedocs.io/en/stable/user_install.html\n",
      "  from .autonotebook import tqdm as notebook_tqdm\n"
     ]
    }
   ],
   "source": [
    "import torch \n",
    "\n",
    "_TREE_DATA_1 = {'a': 1, 'b': 2, 'x': {'c': 3, 'd': 4}}\n",
    "_TREE_DATA_2 = {\n",
    "    'a': torch.randn(2, 3), \n",
    "    'x': {\n",
    "        'c': torch.randn(3, 4)\n",
    "    },\n",
    "}\n",
    "_TREE_DATA_3 = {\n",
    "    'obs': torch.randn(4, 84, 84),\n",
    "    'action': torch.randint(0, 6, size=(1,)),\n",
    "    'reward': torch.rand(1),\n",
    "}"
   ]
  },
  {
   "cell_type": "markdown",
   "id": "83461b25",
   "metadata": {},
   "source": [
    "## Read and Write Operation"
   ]
  },
  {
   "cell_type": "markdown",
   "id": "067b3f73",
   "metadata": {},
   "source": [
    "Reading and writing are the two most common operations in the tree data structure based on the data model (TreeValue and Tianshou Batch both belong to this type), so this section will compare the reading and writing performance of these two libraries."
   ]
  },
  {
   "cell_type": "markdown",
   "id": "5d09a5b7",
   "metadata": {},
   "source": [
    "### TreeValue's Get and Set"
   ]
  },
  {
   "cell_type": "code",
   "execution_count": 2,
   "id": "9519c4bb",
   "metadata": {
    "execution": {
     "iopub.execute_input": "2023-02-27T11:10:07.484030Z",
     "iopub.status.busy": "2023-02-27T11:10:07.483537Z",
     "iopub.status.idle": "2023-02-27T11:10:07.518620Z",
     "shell.execute_reply": "2023-02-27T11:10:07.517856Z"
    }
   },
   "outputs": [],
   "source": [
    "from treevalue import FastTreeValue\n",
    "\n",
    "t = FastTreeValue(_TREE_DATA_2)"
   ]
  },
  {
   "cell_type": "code",
   "execution_count": 3,
   "id": "11c37677",
   "metadata": {
    "execution": {
     "iopub.execute_input": "2023-02-27T11:10:07.522181Z",
     "iopub.status.busy": "2023-02-27T11:10:07.521764Z",
     "iopub.status.idle": "2023-02-27T11:10:07.530751Z",
     "shell.execute_reply": "2023-02-27T11:10:07.530031Z"
    }
   },
   "outputs": [
    {
     "data": {
      "text/plain": [
       "<FastTreeValue 0x7f6a8804b190>\n",
       "├── 'a' --> tensor([[ 0.1629, -0.9539, -1.1075],\n",
       "│                   [ 0.6176, -0.6526, -2.1275]])\n",
       "└── 'x' --> <FastTreeValue 0x7f6a8804b9d0>\n",
       "    └── 'c' --> tensor([[-1.0223, -0.5904,  2.3272, -0.4114],\n",
       "                        [ 0.9306,  0.6534, -0.1116, -0.6769],\n",
       "                        [ 0.3375, -0.8603, -0.4360,  0.5511]])"
      ]
     },
     "execution_count": 3,
     "metadata": {},
     "output_type": "execute_result"
    }
   ],
   "source": [
    "t"
   ]
  },
  {
   "cell_type": "code",
   "execution_count": 4,
   "id": "fd70b0b9",
   "metadata": {
    "execution": {
     "iopub.execute_input": "2023-02-27T11:10:07.533788Z",
     "iopub.status.busy": "2023-02-27T11:10:07.533337Z",
     "iopub.status.idle": "2023-02-27T11:10:07.538613Z",
     "shell.execute_reply": "2023-02-27T11:10:07.537909Z"
    }
   },
   "outputs": [
    {
     "data": {
      "text/plain": [
       "tensor([[ 0.1629, -0.9539, -1.1075],\n",
       "        [ 0.6176, -0.6526, -2.1275]])"
      ]
     },
     "execution_count": 4,
     "metadata": {},
     "output_type": "execute_result"
    }
   ],
   "source": [
    "t.a"
   ]
  },
  {
   "cell_type": "code",
   "execution_count": 5,
   "id": "c18197bd",
   "metadata": {
    "execution": {
     "iopub.execute_input": "2023-02-27T11:10:07.541485Z",
     "iopub.status.busy": "2023-02-27T11:10:07.540940Z",
     "iopub.status.idle": "2023-02-27T11:10:13.123299Z",
     "shell.execute_reply": "2023-02-27T11:10:13.122381Z"
    }
   },
   "outputs": [
    {
     "name": "stdout",
     "output_type": "stream",
     "text": [
      "68.9 ns ± 0.0311 ns per loop (mean ± std. dev. of 7 runs, 10,000,000 loops each)\n"
     ]
    }
   ],
   "source": [
    "%timeit t.a"
   ]
  },
  {
   "cell_type": "code",
   "execution_count": 6,
   "id": "bd52f867",
   "metadata": {
    "execution": {
     "iopub.execute_input": "2023-02-27T11:10:13.126765Z",
     "iopub.status.busy": "2023-02-27T11:10:13.126358Z",
     "iopub.status.idle": "2023-02-27T11:10:13.134238Z",
     "shell.execute_reply": "2023-02-27T11:10:13.133054Z"
    }
   },
   "outputs": [
    {
     "data": {
      "text/plain": [
       "<FastTreeValue 0x7f6a8804b190>\n",
       "├── 'a' --> tensor([[ 0.9998,  1.1814, -0.4530],\n",
       "│                   [ 0.1246, -1.0769, -1.2605]])\n",
       "└── 'x' --> <FastTreeValue 0x7f6a8804b9d0>\n",
       "    └── 'c' --> tensor([[-1.0223, -0.5904,  2.3272, -0.4114],\n",
       "                        [ 0.9306,  0.6534, -0.1116, -0.6769],\n",
       "                        [ 0.3375, -0.8603, -0.4360,  0.5511]])"
      ]
     },
     "execution_count": 6,
     "metadata": {},
     "output_type": "execute_result"
    }
   ],
   "source": [
    "new_value = torch.randn(2, 3)\n",
    "t.a = new_value\n",
    "\n",
    "t"
   ]
  },
  {
   "cell_type": "code",
   "execution_count": 7,
   "id": "bbe04d1c",
   "metadata": {
    "execution": {
     "iopub.execute_input": "2023-02-27T11:10:13.136928Z",
     "iopub.status.busy": "2023-02-27T11:10:13.136474Z",
     "iopub.status.idle": "2023-02-27T11:10:18.844619Z",
     "shell.execute_reply": "2023-02-27T11:10:18.843351Z"
    }
   },
   "outputs": [
    {
     "name": "stdout",
     "output_type": "stream",
     "text": [
      "70.3 ns ± 0.234 ns per loop (mean ± std. dev. of 7 runs, 10,000,000 loops each)\n"
     ]
    }
   ],
   "source": [
    "%timeit t.a = new_value"
   ]
  },
  {
   "cell_type": "markdown",
   "id": "48c49731",
   "metadata": {},
   "source": [
    "### Tianshou Batch's Get and Set"
   ]
  },
  {
   "cell_type": "code",
   "execution_count": 8,
   "id": "f1bb14c1",
   "metadata": {
    "execution": {
     "iopub.execute_input": "2023-02-27T11:10:18.848488Z",
     "iopub.status.busy": "2023-02-27T11:10:18.847935Z",
     "iopub.status.idle": "2023-02-27T11:10:19.220919Z",
     "shell.execute_reply": "2023-02-27T11:10:19.219566Z"
    }
   },
   "outputs": [],
   "source": [
    "from tianshou.data import Batch\n",
    "\n",
    "b = Batch(**_TREE_DATA_2)"
   ]
  },
  {
   "cell_type": "code",
   "execution_count": 9,
   "id": "cb0777c3",
   "metadata": {
    "execution": {
     "iopub.execute_input": "2023-02-27T11:10:19.224613Z",
     "iopub.status.busy": "2023-02-27T11:10:19.224046Z",
     "iopub.status.idle": "2023-02-27T11:10:19.229862Z",
     "shell.execute_reply": "2023-02-27T11:10:19.229177Z"
    }
   },
   "outputs": [
    {
     "data": {
      "text/plain": [
       "Batch(\n",
       "    a: tensor([[ 0.1629, -0.9539, -1.1075],\n",
       "               [ 0.6176, -0.6526, -2.1275]]),\n",
       "    x: Batch(\n",
       "           c: tensor([[-1.0223, -0.5904,  2.3272, -0.4114],\n",
       "                      [ 0.9306,  0.6534, -0.1116, -0.6769],\n",
       "                      [ 0.3375, -0.8603, -0.4360,  0.5511]]),\n",
       "       ),\n",
       ")"
      ]
     },
     "execution_count": 9,
     "metadata": {},
     "output_type": "execute_result"
    }
   ],
   "source": [
    "b"
   ]
  },
  {
   "cell_type": "code",
   "execution_count": 10,
   "id": "43ef8ea3",
   "metadata": {
    "execution": {
     "iopub.execute_input": "2023-02-27T11:10:19.232823Z",
     "iopub.status.busy": "2023-02-27T11:10:19.232250Z",
     "iopub.status.idle": "2023-02-27T11:10:19.237305Z",
     "shell.execute_reply": "2023-02-27T11:10:19.236638Z"
    }
   },
   "outputs": [
    {
     "data": {
      "text/plain": [
       "tensor([[ 0.1629, -0.9539, -1.1075],\n",
       "        [ 0.6176, -0.6526, -2.1275]])"
      ]
     },
     "execution_count": 10,
     "metadata": {},
     "output_type": "execute_result"
    }
   ],
   "source": [
    "b.a"
   ]
  },
  {
   "cell_type": "code",
   "execution_count": 11,
   "id": "b785ab72",
   "metadata": {
    "execution": {
     "iopub.execute_input": "2023-02-27T11:10:19.239901Z",
     "iopub.status.busy": "2023-02-27T11:10:19.239532Z",
     "iopub.status.idle": "2023-02-27T11:10:23.996632Z",
     "shell.execute_reply": "2023-02-27T11:10:23.995704Z"
    }
   },
   "outputs": [
    {
     "name": "stdout",
     "output_type": "stream",
     "text": [
      "58.6 ns ± 0.12 ns per loop (mean ± std. dev. of 7 runs, 10,000,000 loops each)\n"
     ]
    }
   ],
   "source": [
    "%timeit b.a"
   ]
  },
  {
   "cell_type": "code",
   "execution_count": 12,
   "id": "ad54dc69",
   "metadata": {
    "execution": {
     "iopub.execute_input": "2023-02-27T11:10:24.000175Z",
     "iopub.status.busy": "2023-02-27T11:10:23.999723Z",
     "iopub.status.idle": "2023-02-27T11:10:24.007911Z",
     "shell.execute_reply": "2023-02-27T11:10:24.006605Z"
    }
   },
   "outputs": [
    {
     "data": {
      "text/plain": [
       "Batch(\n",
       "    a: tensor([[ 1.5743, -1.9309,  0.7959],\n",
       "               [ 0.7681,  0.9567,  0.3011]]),\n",
       "    x: Batch(\n",
       "           c: tensor([[-1.0223, -0.5904,  2.3272, -0.4114],\n",
       "                      [ 0.9306,  0.6534, -0.1116, -0.6769],\n",
       "                      [ 0.3375, -0.8603, -0.4360,  0.5511]]),\n",
       "       ),\n",
       ")"
      ]
     },
     "execution_count": 12,
     "metadata": {},
     "output_type": "execute_result"
    }
   ],
   "source": [
    "new_value = torch.randn(2, 3)\n",
    "b.a = new_value\n",
    "\n",
    "b"
   ]
  },
  {
   "cell_type": "code",
   "execution_count": 13,
   "id": "29b1d0bf",
   "metadata": {
    "execution": {
     "iopub.execute_input": "2023-02-27T11:10:24.010690Z",
     "iopub.status.busy": "2023-02-27T11:10:24.010233Z",
     "iopub.status.idle": "2023-02-27T11:10:28.029129Z",
     "shell.execute_reply": "2023-02-27T11:10:28.028180Z"
    }
   },
   "outputs": [
    {
     "name": "stdout",
     "output_type": "stream",
     "text": [
      "493 ns ± 0.329 ns per loop (mean ± std. dev. of 7 runs, 1,000,000 loops each)\n"
     ]
    }
   ],
   "source": [
    "%timeit b.a = new_value"
   ]
  },
  {
   "cell_type": "markdown",
   "id": "b61ad1d0",
   "metadata": {},
   "source": [
    "## Initialization"
   ]
  },
  {
   "cell_type": "markdown",
   "id": "d70f0d54",
   "metadata": {},
   "source": [
    "### TreeValue's Initialization"
   ]
  },
  {
   "cell_type": "code",
   "execution_count": 14,
   "id": "d32a679b",
   "metadata": {
    "execution": {
     "iopub.execute_input": "2023-02-27T11:10:28.032550Z",
     "iopub.status.busy": "2023-02-27T11:10:28.032102Z",
     "iopub.status.idle": "2023-02-27T11:10:34.769294Z",
     "shell.execute_reply": "2023-02-27T11:10:34.768513Z"
    }
   },
   "outputs": [
    {
     "name": "stdout",
     "output_type": "stream",
     "text": [
      "832 ns ± 0.949 ns per loop (mean ± std. dev. of 7 runs, 1,000,000 loops each)\n"
     ]
    }
   ],
   "source": [
    "%timeit FastTreeValue(_TREE_DATA_1)"
   ]
  },
  {
   "cell_type": "markdown",
   "id": "24f3707b",
   "metadata": {},
   "source": [
    "### Tianshou Batch's Initialization"
   ]
  },
  {
   "cell_type": "code",
   "execution_count": 15,
   "id": "ac3958df",
   "metadata": {
    "execution": {
     "iopub.execute_input": "2023-02-27T11:10:34.772918Z",
     "iopub.status.busy": "2023-02-27T11:10:34.772644Z",
     "iopub.status.idle": "2023-02-27T11:10:43.518622Z",
     "shell.execute_reply": "2023-02-27T11:10:43.517716Z"
    }
   },
   "outputs": [
    {
     "name": "stdout",
     "output_type": "stream",
     "text": [
      "10.8 µs ± 23.3 ns per loop (mean ± std. dev. of 7 runs, 100,000 loops each)\n"
     ]
    }
   ],
   "source": [
    "%timeit Batch(**_TREE_DATA_1)"
   ]
  },
  {
   "cell_type": "markdown",
   "id": "1ab82e2d",
   "metadata": {},
   "source": [
    "## Deep Copy Operation"
   ]
  },
  {
   "cell_type": "code",
   "execution_count": 16,
   "id": "210a9442",
   "metadata": {
    "execution": {
     "iopub.execute_input": "2023-02-27T11:10:43.522141Z",
     "iopub.status.busy": "2023-02-27T11:10:43.521706Z",
     "iopub.status.idle": "2023-02-27T11:10:43.526031Z",
     "shell.execute_reply": "2023-02-27T11:10:43.525370Z"
    }
   },
   "outputs": [],
   "source": [
    "import copy"
   ]
  },
  {
   "cell_type": "markdown",
   "id": "5a736274",
   "metadata": {},
   "source": [
    "### Deep Copy of TreeValue"
   ]
  },
  {
   "cell_type": "code",
   "execution_count": 17,
   "id": "f9bcadd6",
   "metadata": {
    "execution": {
     "iopub.execute_input": "2023-02-27T11:10:43.529148Z",
     "iopub.status.busy": "2023-02-27T11:10:43.528595Z",
     "iopub.status.idle": "2023-02-27T11:10:55.025664Z",
     "shell.execute_reply": "2023-02-27T11:10:55.024809Z"
    }
   },
   "outputs": [
    {
     "name": "stdout",
     "output_type": "stream",
     "text": [
      "141 µs ± 532 ns per loop (mean ± std. dev. of 7 runs, 10,000 loops each)\n"
     ]
    }
   ],
   "source": [
    "t3 = FastTreeValue(_TREE_DATA_3)\n",
    "%timeit copy.deepcopy(t3)"
   ]
  },
  {
   "cell_type": "markdown",
   "id": "bf8be7ea",
   "metadata": {},
   "source": [
    "### Deep Copy of Tianshou Batch"
   ]
  },
  {
   "cell_type": "code",
   "execution_count": 18,
   "id": "91998e6f",
   "metadata": {
    "execution": {
     "iopub.execute_input": "2023-02-27T11:10:55.029487Z",
     "iopub.status.busy": "2023-02-27T11:10:55.028985Z",
     "iopub.status.idle": "2023-02-27T11:11:06.575193Z",
     "shell.execute_reply": "2023-02-27T11:11:06.574543Z"
    }
   },
   "outputs": [
    {
     "name": "stdout",
     "output_type": "stream",
     "text": [
      "142 µs ± 375 ns per loop (mean ± std. dev. of 7 runs, 10,000 loops each)\n"
     ]
    }
   ],
   "source": [
    "b3 = Batch(**_TREE_DATA_3)\n",
    "%timeit copy.deepcopy(b3)"
   ]
  },
  {
   "cell_type": "markdown",
   "id": "223162fb",
   "metadata": {},
   "source": [
    "## Stack, Concat and Split Operation"
   ]
  },
  {
   "cell_type": "markdown",
   "id": "85fa4a73",
   "metadata": {},
   "source": [
    "### Performance of TreeValue"
   ]
  },
  {
   "cell_type": "code",
   "execution_count": 19,
   "id": "a0c2b697",
   "metadata": {
    "execution": {
     "iopub.execute_input": "2023-02-27T11:11:06.578415Z",
     "iopub.status.busy": "2023-02-27T11:11:06.577901Z",
     "iopub.status.idle": "2023-02-27T11:11:06.581475Z",
     "shell.execute_reply": "2023-02-27T11:11:06.580917Z"
    }
   },
   "outputs": [],
   "source": [
    "trees = [FastTreeValue(_TREE_DATA_2) for _ in range(8)]"
   ]
  },
  {
   "cell_type": "code",
   "execution_count": 20,
   "id": "017ea5a5",
   "metadata": {
    "execution": {
     "iopub.execute_input": "2023-02-27T11:11:06.584041Z",
     "iopub.status.busy": "2023-02-27T11:11:06.583594Z",
     "iopub.status.idle": "2023-02-27T11:11:06.591109Z",
     "shell.execute_reply": "2023-02-27T11:11:06.590179Z"
    }
   },
   "outputs": [
    {
     "data": {
      "text/plain": [
       "<FastTreeValue 0x7f69ddcc9d00>\n",
       "├── 'a' --> tensor([[[ 0.1629, -0.9539, -1.1075],\n",
       "│                    [ 0.6176, -0.6526, -2.1275]],\n",
       "│           \n",
       "│                   [[ 0.1629, -0.9539, -1.1075],\n",
       "│                    [ 0.6176, -0.6526, -2.1275]],\n",
       "│           \n",
       "│                   [[ 0.1629, -0.9539, -1.1075],\n",
       "│                    [ 0.6176, -0.6526, -2.1275]],\n",
       "│           \n",
       "│                   [[ 0.1629, -0.9539, -1.1075],\n",
       "│                    [ 0.6176, -0.6526, -2.1275]],\n",
       "│           \n",
       "│                   [[ 0.1629, -0.9539, -1.1075],\n",
       "│                    [ 0.6176, -0.6526, -2.1275]],\n",
       "│           \n",
       "│                   [[ 0.1629, -0.9539, -1.1075],\n",
       "│                    [ 0.6176, -0.6526, -2.1275]],\n",
       "│           \n",
       "│                   [[ 0.1629, -0.9539, -1.1075],\n",
       "│                    [ 0.6176, -0.6526, -2.1275]],\n",
       "│           \n",
       "│                   [[ 0.1629, -0.9539, -1.1075],\n",
       "│                    [ 0.6176, -0.6526, -2.1275]]])\n",
       "└── 'x' --> <FastTreeValue 0x7f69ddcc9eb0>\n",
       "    └── 'c' --> tensor([[[-1.0223, -0.5904,  2.3272, -0.4114],\n",
       "                         [ 0.9306,  0.6534, -0.1116, -0.6769],\n",
       "                         [ 0.3375, -0.8603, -0.4360,  0.5511]],\n",
       "                \n",
       "                        [[-1.0223, -0.5904,  2.3272, -0.4114],\n",
       "                         [ 0.9306,  0.6534, -0.1116, -0.6769],\n",
       "                         [ 0.3375, -0.8603, -0.4360,  0.5511]],\n",
       "                \n",
       "                        [[-1.0223, -0.5904,  2.3272, -0.4114],\n",
       "                         [ 0.9306,  0.6534, -0.1116, -0.6769],\n",
       "                         [ 0.3375, -0.8603, -0.4360,  0.5511]],\n",
       "                \n",
       "                        [[-1.0223, -0.5904,  2.3272, -0.4114],\n",
       "                         [ 0.9306,  0.6534, -0.1116, -0.6769],\n",
       "                         [ 0.3375, -0.8603, -0.4360,  0.5511]],\n",
       "                \n",
       "                        [[-1.0223, -0.5904,  2.3272, -0.4114],\n",
       "                         [ 0.9306,  0.6534, -0.1116, -0.6769],\n",
       "                         [ 0.3375, -0.8603, -0.4360,  0.5511]],\n",
       "                \n",
       "                        [[-1.0223, -0.5904,  2.3272, -0.4114],\n",
       "                         [ 0.9306,  0.6534, -0.1116, -0.6769],\n",
       "                         [ 0.3375, -0.8603, -0.4360,  0.5511]],\n",
       "                \n",
       "                        [[-1.0223, -0.5904,  2.3272, -0.4114],\n",
       "                         [ 0.9306,  0.6534, -0.1116, -0.6769],\n",
       "                         [ 0.3375, -0.8603, -0.4360,  0.5511]],\n",
       "                \n",
       "                        [[-1.0223, -0.5904,  2.3272, -0.4114],\n",
       "                         [ 0.9306,  0.6534, -0.1116, -0.6769],\n",
       "                         [ 0.3375, -0.8603, -0.4360,  0.5511]]])"
      ]
     },
     "execution_count": 20,
     "metadata": {},
     "output_type": "execute_result"
    }
   ],
   "source": [
    "t_stack = FastTreeValue.func(subside=True)(torch.stack)\n",
    "\n",
    "t_stack(trees)"
   ]
  },
  {
   "cell_type": "code",
   "execution_count": 21,
   "id": "f8b3f415",
   "metadata": {
    "execution": {
     "iopub.execute_input": "2023-02-27T11:11:06.593759Z",
     "iopub.status.busy": "2023-02-27T11:11:06.593121Z",
     "iopub.status.idle": "2023-02-27T11:11:09.183243Z",
     "shell.execute_reply": "2023-02-27T11:11:09.182330Z"
    }
   },
   "outputs": [
    {
     "name": "stdout",
     "output_type": "stream",
     "text": [
      "31.8 µs ± 63.9 ns per loop (mean ± std. dev. of 7 runs, 10,000 loops each)\n"
     ]
    }
   ],
   "source": [
    "%timeit t_stack(trees)"
   ]
  },
  {
   "cell_type": "code",
   "execution_count": 22,
   "id": "94b56771",
   "metadata": {
    "execution": {
     "iopub.execute_input": "2023-02-27T11:11:09.187225Z",
     "iopub.status.busy": "2023-02-27T11:11:09.186634Z",
     "iopub.status.idle": "2023-02-27T11:11:09.195142Z",
     "shell.execute_reply": "2023-02-27T11:11:09.194494Z"
    }
   },
   "outputs": [
    {
     "data": {
      "text/plain": [
       "<FastTreeValue 0x7f69ddcaaa00>\n",
       "├── 'a' --> tensor([[ 0.1629, -0.9539, -1.1075],\n",
       "│                   [ 0.6176, -0.6526, -2.1275],\n",
       "│                   [ 0.1629, -0.9539, -1.1075],\n",
       "│                   [ 0.6176, -0.6526, -2.1275],\n",
       "│                   [ 0.1629, -0.9539, -1.1075],\n",
       "│                   [ 0.6176, -0.6526, -2.1275],\n",
       "│                   [ 0.1629, -0.9539, -1.1075],\n",
       "│                   [ 0.6176, -0.6526, -2.1275],\n",
       "│                   [ 0.1629, -0.9539, -1.1075],\n",
       "│                   [ 0.6176, -0.6526, -2.1275],\n",
       "│                   [ 0.1629, -0.9539, -1.1075],\n",
       "│                   [ 0.6176, -0.6526, -2.1275],\n",
       "│                   [ 0.1629, -0.9539, -1.1075],\n",
       "│                   [ 0.6176, -0.6526, -2.1275],\n",
       "│                   [ 0.1629, -0.9539, -1.1075],\n",
       "│                   [ 0.6176, -0.6526, -2.1275]])\n",
       "└── 'x' --> <FastTreeValue 0x7f69ddcaa460>\n",
       "    └── 'c' --> tensor([[-1.0223, -0.5904,  2.3272, -0.4114],\n",
       "                        [ 0.9306,  0.6534, -0.1116, -0.6769],\n",
       "                        [ 0.3375, -0.8603, -0.4360,  0.5511],\n",
       "                        [-1.0223, -0.5904,  2.3272, -0.4114],\n",
       "                        [ 0.9306,  0.6534, -0.1116, -0.6769],\n",
       "                        [ 0.3375, -0.8603, -0.4360,  0.5511],\n",
       "                        [-1.0223, -0.5904,  2.3272, -0.4114],\n",
       "                        [ 0.9306,  0.6534, -0.1116, -0.6769],\n",
       "                        [ 0.3375, -0.8603, -0.4360,  0.5511],\n",
       "                        [-1.0223, -0.5904,  2.3272, -0.4114],\n",
       "                        [ 0.9306,  0.6534, -0.1116, -0.6769],\n",
       "                        [ 0.3375, -0.8603, -0.4360,  0.5511],\n",
       "                        [-1.0223, -0.5904,  2.3272, -0.4114],\n",
       "                        [ 0.9306,  0.6534, -0.1116, -0.6769],\n",
       "                        [ 0.3375, -0.8603, -0.4360,  0.5511],\n",
       "                        [-1.0223, -0.5904,  2.3272, -0.4114],\n",
       "                        [ 0.9306,  0.6534, -0.1116, -0.6769],\n",
       "                        [ 0.3375, -0.8603, -0.4360,  0.5511],\n",
       "                        [-1.0223, -0.5904,  2.3272, -0.4114],\n",
       "                        [ 0.9306,  0.6534, -0.1116, -0.6769],\n",
       "                        [ 0.3375, -0.8603, -0.4360,  0.5511],\n",
       "                        [-1.0223, -0.5904,  2.3272, -0.4114],\n",
       "                        [ 0.9306,  0.6534, -0.1116, -0.6769],\n",
       "                        [ 0.3375, -0.8603, -0.4360,  0.5511]])"
      ]
     },
     "execution_count": 22,
     "metadata": {},
     "output_type": "execute_result"
    }
   ],
   "source": [
    "t_cat = FastTreeValue.func(subside=True)(torch.cat)\n",
    "\n",
    "t_cat(trees)"
   ]
  },
  {
   "cell_type": "code",
   "execution_count": 23,
   "id": "5e9c06a6",
   "metadata": {
    "execution": {
     "iopub.execute_input": "2023-02-27T11:11:09.197982Z",
     "iopub.status.busy": "2023-02-27T11:11:09.197438Z",
     "iopub.status.idle": "2023-02-27T11:11:11.643616Z",
     "shell.execute_reply": "2023-02-27T11:11:11.642726Z"
    }
   },
   "outputs": [
    {
     "name": "stdout",
     "output_type": "stream",
     "text": [
      "30 µs ± 54.1 ns per loop (mean ± std. dev. of 7 runs, 10,000 loops each)\n"
     ]
    }
   ],
   "source": [
    "%timeit t_cat(trees)"
   ]
  },
  {
   "cell_type": "code",
   "execution_count": 24,
   "id": "a3ab5c8f",
   "metadata": {
    "execution": {
     "iopub.execute_input": "2023-02-27T11:11:11.647410Z",
     "iopub.status.busy": "2023-02-27T11:11:11.646811Z",
     "iopub.status.idle": "2023-02-27T11:11:16.117879Z",
     "shell.execute_reply": "2023-02-27T11:11:16.116973Z"
    }
   },
   "outputs": [
    {
     "name": "stdout",
     "output_type": "stream",
     "text": [
      "55 µs ± 44.6 ns per loop (mean ± std. dev. of 7 runs, 10,000 loops each)\n"
     ]
    }
   ],
   "source": [
    "t_split = FastTreeValue.func(rise=True)(torch.split)\n",
    "tree = FastTreeValue({\n",
    "    'obs': torch.randn(8, 4, 84, 84),\n",
    "    'action': torch.randint(0, 6, size=(8, 1,)),\n",
    "    'reward': torch.rand(8, 1),\n",
    "})\n",
    "\n",
    "%timeit t_split(tree, 1)"
   ]
  },
  {
   "cell_type": "markdown",
   "id": "31c3ec0b",
   "metadata": {},
   "source": [
    "### Performance of Tianshou Batch"
   ]
  },
  {
   "cell_type": "code",
   "execution_count": 25,
   "id": "9ead828a",
   "metadata": {
    "execution": {
     "iopub.execute_input": "2023-02-27T11:11:16.122018Z",
     "iopub.status.busy": "2023-02-27T11:11:16.121528Z",
     "iopub.status.idle": "2023-02-27T11:11:16.130378Z",
     "shell.execute_reply": "2023-02-27T11:11:16.129750Z"
    }
   },
   "outputs": [
    {
     "data": {
      "text/plain": [
       "Batch(\n",
       "    a: tensor([[[ 0.1629, -0.9539, -1.1075],\n",
       "                [ 0.6176, -0.6526, -2.1275]],\n",
       "       \n",
       "               [[ 0.1629, -0.9539, -1.1075],\n",
       "                [ 0.6176, -0.6526, -2.1275]],\n",
       "       \n",
       "               [[ 0.1629, -0.9539, -1.1075],\n",
       "                [ 0.6176, -0.6526, -2.1275]],\n",
       "       \n",
       "               [[ 0.1629, -0.9539, -1.1075],\n",
       "                [ 0.6176, -0.6526, -2.1275]],\n",
       "       \n",
       "               [[ 0.1629, -0.9539, -1.1075],\n",
       "                [ 0.6176, -0.6526, -2.1275]],\n",
       "       \n",
       "               [[ 0.1629, -0.9539, -1.1075],\n",
       "                [ 0.6176, -0.6526, -2.1275]],\n",
       "       \n",
       "               [[ 0.1629, -0.9539, -1.1075],\n",
       "                [ 0.6176, -0.6526, -2.1275]],\n",
       "       \n",
       "               [[ 0.1629, -0.9539, -1.1075],\n",
       "                [ 0.6176, -0.6526, -2.1275]]]),\n",
       "    x: Batch(\n",
       "           c: tensor([[[-1.0223, -0.5904,  2.3272, -0.4114],\n",
       "                       [ 0.9306,  0.6534, -0.1116, -0.6769],\n",
       "                       [ 0.3375, -0.8603, -0.4360,  0.5511]],\n",
       "              \n",
       "                      [[-1.0223, -0.5904,  2.3272, -0.4114],\n",
       "                       [ 0.9306,  0.6534, -0.1116, -0.6769],\n",
       "                       [ 0.3375, -0.8603, -0.4360,  0.5511]],\n",
       "              \n",
       "                      [[-1.0223, -0.5904,  2.3272, -0.4114],\n",
       "                       [ 0.9306,  0.6534, -0.1116, -0.6769],\n",
       "                       [ 0.3375, -0.8603, -0.4360,  0.5511]],\n",
       "              \n",
       "                      [[-1.0223, -0.5904,  2.3272, -0.4114],\n",
       "                       [ 0.9306,  0.6534, -0.1116, -0.6769],\n",
       "                       [ 0.3375, -0.8603, -0.4360,  0.5511]],\n",
       "              \n",
       "                      [[-1.0223, -0.5904,  2.3272, -0.4114],\n",
       "                       [ 0.9306,  0.6534, -0.1116, -0.6769],\n",
       "                       [ 0.3375, -0.8603, -0.4360,  0.5511]],\n",
       "              \n",
       "                      [[-1.0223, -0.5904,  2.3272, -0.4114],\n",
       "                       [ 0.9306,  0.6534, -0.1116, -0.6769],\n",
       "                       [ 0.3375, -0.8603, -0.4360,  0.5511]],\n",
       "              \n",
       "                      [[-1.0223, -0.5904,  2.3272, -0.4114],\n",
       "                       [ 0.9306,  0.6534, -0.1116, -0.6769],\n",
       "                       [ 0.3375, -0.8603, -0.4360,  0.5511]],\n",
       "              \n",
       "                      [[-1.0223, -0.5904,  2.3272, -0.4114],\n",
       "                       [ 0.9306,  0.6534, -0.1116, -0.6769],\n",
       "                       [ 0.3375, -0.8603, -0.4360,  0.5511]]]),\n",
       "       ),\n",
       ")"
      ]
     },
     "execution_count": 25,
     "metadata": {},
     "output_type": "execute_result"
    }
   ],
   "source": [
    "batches = [Batch(**_TREE_DATA_2) for _ in range(8)]\n",
    "\n",
    "Batch.stack(batches)"
   ]
  },
  {
   "cell_type": "code",
   "execution_count": 26,
   "id": "ec9037a3",
   "metadata": {
    "execution": {
     "iopub.execute_input": "2023-02-27T11:11:16.133193Z",
     "iopub.status.busy": "2023-02-27T11:11:16.132734Z",
     "iopub.status.idle": "2023-02-27T11:11:22.541473Z",
     "shell.execute_reply": "2023-02-27T11:11:22.540397Z"
    }
   },
   "outputs": [
    {
     "name": "stdout",
     "output_type": "stream",
     "text": [
      "78.8 µs ± 234 ns per loop (mean ± std. dev. of 7 runs, 10,000 loops each)\n"
     ]
    }
   ],
   "source": [
    "%timeit Batch.stack(batches)"
   ]
  },
  {
   "cell_type": "code",
   "execution_count": 27,
   "id": "cb8ab77e",
   "metadata": {
    "execution": {
     "iopub.execute_input": "2023-02-27T11:11:22.545984Z",
     "iopub.status.busy": "2023-02-27T11:11:22.545027Z",
     "iopub.status.idle": "2023-02-27T11:11:22.553687Z",
     "shell.execute_reply": "2023-02-27T11:11:22.553044Z"
    }
   },
   "outputs": [
    {
     "data": {
      "text/plain": [
       "Batch(\n",
       "    a: tensor([[ 0.1629, -0.9539, -1.1075],\n",
       "               [ 0.6176, -0.6526, -2.1275],\n",
       "               [ 0.1629, -0.9539, -1.1075],\n",
       "               [ 0.6176, -0.6526, -2.1275],\n",
       "               [ 0.1629, -0.9539, -1.1075],\n",
       "               [ 0.6176, -0.6526, -2.1275],\n",
       "               [ 0.1629, -0.9539, -1.1075],\n",
       "               [ 0.6176, -0.6526, -2.1275],\n",
       "               [ 0.1629, -0.9539, -1.1075],\n",
       "               [ 0.6176, -0.6526, -2.1275],\n",
       "               [ 0.1629, -0.9539, -1.1075],\n",
       "               [ 0.6176, -0.6526, -2.1275],\n",
       "               [ 0.1629, -0.9539, -1.1075],\n",
       "               [ 0.6176, -0.6526, -2.1275],\n",
       "               [ 0.1629, -0.9539, -1.1075],\n",
       "               [ 0.6176, -0.6526, -2.1275]]),\n",
       "    x: Batch(\n",
       "           c: tensor([[-1.0223, -0.5904,  2.3272, -0.4114],\n",
       "                      [ 0.9306,  0.6534, -0.1116, -0.6769],\n",
       "                      [ 0.3375, -0.8603, -0.4360,  0.5511],\n",
       "                      [-1.0223, -0.5904,  2.3272, -0.4114],\n",
       "                      [ 0.9306,  0.6534, -0.1116, -0.6769],\n",
       "                      [ 0.3375, -0.8603, -0.4360,  0.5511],\n",
       "                      [-1.0223, -0.5904,  2.3272, -0.4114],\n",
       "                      [ 0.9306,  0.6534, -0.1116, -0.6769],\n",
       "                      [ 0.3375, -0.8603, -0.4360,  0.5511],\n",
       "                      [-1.0223, -0.5904,  2.3272, -0.4114],\n",
       "                      [ 0.9306,  0.6534, -0.1116, -0.6769],\n",
       "                      [ 0.3375, -0.8603, -0.4360,  0.5511],\n",
       "                      [-1.0223, -0.5904,  2.3272, -0.4114],\n",
       "                      [ 0.9306,  0.6534, -0.1116, -0.6769],\n",
       "                      [ 0.3375, -0.8603, -0.4360,  0.5511],\n",
       "                      [-1.0223, -0.5904,  2.3272, -0.4114],\n",
       "                      [ 0.9306,  0.6534, -0.1116, -0.6769],\n",
       "                      [ 0.3375, -0.8603, -0.4360,  0.5511],\n",
       "                      [-1.0223, -0.5904,  2.3272, -0.4114],\n",
       "                      [ 0.9306,  0.6534, -0.1116, -0.6769],\n",
       "                      [ 0.3375, -0.8603, -0.4360,  0.5511],\n",
       "                      [-1.0223, -0.5904,  2.3272, -0.4114],\n",
       "                      [ 0.9306,  0.6534, -0.1116, -0.6769],\n",
       "                      [ 0.3375, -0.8603, -0.4360,  0.5511]]),\n",
       "       ),\n",
       ")"
      ]
     },
     "execution_count": 27,
     "metadata": {},
     "output_type": "execute_result"
    }
   ],
   "source": [
    "Batch.cat(batches)"
   ]
  },
  {
   "cell_type": "code",
   "execution_count": 28,
   "id": "18dfb045",
   "metadata": {
    "execution": {
     "iopub.execute_input": "2023-02-27T11:11:22.556975Z",
     "iopub.status.busy": "2023-02-27T11:11:22.556417Z",
     "iopub.status.idle": "2023-02-27T11:11:34.144364Z",
     "shell.execute_reply": "2023-02-27T11:11:34.143308Z"
    }
   },
   "outputs": [
    {
     "name": "stdout",
     "output_type": "stream",
     "text": [
      "143 µs ± 221 ns per loop (mean ± std. dev. of 7 runs, 10,000 loops each)\n"
     ]
    }
   ],
   "source": [
    "%timeit Batch.cat(batches)"
   ]
  },
  {
   "cell_type": "code",
   "execution_count": 29,
   "id": "c6688e51",
   "metadata": {
    "execution": {
     "iopub.execute_input": "2023-02-27T11:11:34.147962Z",
     "iopub.status.busy": "2023-02-27T11:11:34.147436Z",
     "iopub.status.idle": "2023-02-27T11:11:36.907728Z",
     "shell.execute_reply": "2023-02-27T11:11:36.906508Z"
    }
   },
   "outputs": [
    {
     "name": "stdout",
     "output_type": "stream",
     "text": [
      "339 µs ± 2.56 µs per loop (mean ± std. dev. of 7 runs, 1,000 loops each)\n"
     ]
    }
   ],
   "source": [
    "batch = Batch({\n",
    "    'obs': torch.randn(8, 4, 84, 84),\n",
    "    'action': torch.randint(0, 6, size=(8, 1,)),\n",
    "    'reward': torch.rand(8, 1)}\n",
    ")\n",
    "\n",
    "%timeit list(Batch.split(batch, 1, shuffle=False, merge_last=True))"
   ]
  },
  {
   "cell_type": "code",
   "execution_count": null,
   "id": "2539fbd9",
   "metadata": {},
   "outputs": [],
   "source": []
  }
 ],
 "metadata": {
  "kernelspec": {
   "display_name": "Python 3 (ipykernel)",
   "language": "python",
   "name": "python3"
  },
  "language_info": {
   "codemirror_mode": {
    "name": "ipython",
    "version": 3
   },
   "file_extension": ".py",
   "mimetype": "text/x-python",
   "name": "python",
   "nbconvert_exporter": "python",
   "pygments_lexer": "ipython3",
   "version": "3.8.16"
  }
 },
 "nbformat": 4,
 "nbformat_minor": 5
}
