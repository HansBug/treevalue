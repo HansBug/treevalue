{
 "cells": [
  {
   "cell_type": "markdown",
   "id": "9d39d946",
   "metadata": {},
   "source": [
    "# Comparison Between TreeValue and Tianshou Batch"
   ]
  },
  {
   "cell_type": "markdown",
   "id": "3c6db2d4",
   "metadata": {},
   "source": [
    "In this section, we will take a look at the feature and performance of the [Tianshou Batch](https://github.com/thu-ml/tianshou) library, which is developed by Tsinghua Machine Learning Group."
   ]
  },
  {
   "cell_type": "markdown",
   "id": "069361b0",
   "metadata": {},
   "source": [
    "Before starting the comparison, let us define some thing."
   ]
  },
  {
   "cell_type": "code",
   "execution_count": 1,
   "id": "06fc8d26",
   "metadata": {
    "execution": {
     "iopub.execute_input": "2023-03-06T19:06:14.859282Z",
     "iopub.status.busy": "2023-03-06T19:06:14.859059Z",
     "iopub.status.idle": "2023-03-06T19:06:16.007325Z",
     "shell.execute_reply": "2023-03-06T19:06:16.005889Z"
    }
   },
   "outputs": [
    {
     "name": "stderr",
     "output_type": "stream",
     "text": [
      "/opt/hostedtoolcache/Python/3.8.16/x64/lib/python3.8/site-packages/tqdm/auto.py:21: TqdmWarning: IProgress not found. Please update jupyter and ipywidgets. See https://ipywidgets.readthedocs.io/en/stable/user_install.html\n",
      "  from .autonotebook import tqdm as notebook_tqdm\n"
     ]
    }
   ],
   "source": [
    "import torch \n",
    "\n",
    "_TREE_DATA_1 = {'a': 1, 'b': 2, 'x': {'c': 3, 'd': 4}}\n",
    "_TREE_DATA_2 = {\n",
    "    'a': torch.randn(2, 3), \n",
    "    'x': {\n",
    "        'c': torch.randn(3, 4)\n",
    "    },\n",
    "}\n",
    "_TREE_DATA_3 = {\n",
    "    'obs': torch.randn(4, 84, 84),\n",
    "    'action': torch.randint(0, 6, size=(1,)),\n",
    "    'reward': torch.rand(1),\n",
    "}"
   ]
  },
  {
   "cell_type": "markdown",
   "id": "83461b25",
   "metadata": {},
   "source": [
    "## Read and Write Operation"
   ]
  },
  {
   "cell_type": "markdown",
   "id": "067b3f73",
   "metadata": {},
   "source": [
    "Reading and writing are the two most common operations in the tree data structure based on the data model (TreeValue and Tianshou Batch both belong to this type), so this section will compare the reading and writing performance of these two libraries."
   ]
  },
  {
   "cell_type": "markdown",
   "id": "5d09a5b7",
   "metadata": {},
   "source": [
    "### TreeValue's Get and Set"
   ]
  },
  {
   "cell_type": "code",
   "execution_count": 2,
   "id": "9519c4bb",
   "metadata": {
    "execution": {
     "iopub.execute_input": "2023-03-06T19:06:16.011599Z",
     "iopub.status.busy": "2023-03-06T19:06:16.011195Z",
     "iopub.status.idle": "2023-03-06T19:06:16.056069Z",
     "shell.execute_reply": "2023-03-06T19:06:16.055138Z"
    }
   },
   "outputs": [],
   "source": [
    "from treevalue import FastTreeValue\n",
    "\n",
    "t = FastTreeValue(_TREE_DATA_2)"
   ]
  },
  {
   "cell_type": "code",
   "execution_count": 3,
   "id": "11c37677",
   "metadata": {
    "execution": {
     "iopub.execute_input": "2023-03-06T19:06:16.060744Z",
     "iopub.status.busy": "2023-03-06T19:06:16.060331Z",
     "iopub.status.idle": "2023-03-06T19:06:16.074549Z",
     "shell.execute_reply": "2023-03-06T19:06:16.073680Z"
    }
   },
   "outputs": [
    {
     "data": {
      "text/plain": [
       "<FastTreeValue 0x7ffa486b6370>\n",
       "├── 'a' --> tensor([[-0.0867, -2.1062,  0.4195],\n",
       "│                   [-0.7969, -0.4119,  0.1763]])\n",
       "└── 'x' --> <FastTreeValue 0x7ffa486b6430>\n",
       "    └── 'c' --> tensor([[ 0.7013,  0.2276, -0.9438,  0.0500],\n",
       "                        [-1.1480,  1.3692,  0.3580, -0.6541],\n",
       "                        [ 1.2554,  0.6613,  0.3205, -0.6622]])"
      ]
     },
     "execution_count": 3,
     "metadata": {},
     "output_type": "execute_result"
    }
   ],
   "source": [
    "t"
   ]
  },
  {
   "cell_type": "code",
   "execution_count": 4,
   "id": "fd70b0b9",
   "metadata": {
    "execution": {
     "iopub.execute_input": "2023-03-06T19:06:16.078213Z",
     "iopub.status.busy": "2023-03-06T19:06:16.077615Z",
     "iopub.status.idle": "2023-03-06T19:06:16.085564Z",
     "shell.execute_reply": "2023-03-06T19:06:16.084672Z"
    }
   },
   "outputs": [
    {
     "data": {
      "text/plain": [
       "tensor([[-0.0867, -2.1062,  0.4195],\n",
       "        [-0.7969, -0.4119,  0.1763]])"
      ]
     },
     "execution_count": 4,
     "metadata": {},
     "output_type": "execute_result"
    }
   ],
   "source": [
    "t.a"
   ]
  },
  {
   "cell_type": "code",
   "execution_count": 5,
   "id": "c18197bd",
   "metadata": {
    "execution": {
     "iopub.execute_input": "2023-03-06T19:06:16.088854Z",
     "iopub.status.busy": "2023-03-06T19:06:16.088617Z",
     "iopub.status.idle": "2023-03-06T19:06:21.495102Z",
     "shell.execute_reply": "2023-03-06T19:06:21.494119Z"
    }
   },
   "outputs": [
    {
     "name": "stdout",
     "output_type": "stream",
     "text": [
      "66.8 ns ± 1.33 ns per loop (mean ± std. dev. of 7 runs, 10,000,000 loops each)\n"
     ]
    }
   ],
   "source": [
    "%timeit t.a"
   ]
  },
  {
   "cell_type": "code",
   "execution_count": 6,
   "id": "bd52f867",
   "metadata": {
    "execution": {
     "iopub.execute_input": "2023-03-06T19:06:21.498878Z",
     "iopub.status.busy": "2023-03-06T19:06:21.498578Z",
     "iopub.status.idle": "2023-03-06T19:06:21.507966Z",
     "shell.execute_reply": "2023-03-06T19:06:21.506767Z"
    }
   },
   "outputs": [
    {
     "data": {
      "text/plain": [
       "<FastTreeValue 0x7ffa486b6370>\n",
       "├── 'a' --> tensor([[-0.6857,  0.0506,  1.1968],\n",
       "│                   [ 0.2954, -1.4878, -0.7920]])\n",
       "└── 'x' --> <FastTreeValue 0x7ffa486b6430>\n",
       "    └── 'c' --> tensor([[ 0.7013,  0.2276, -0.9438,  0.0500],\n",
       "                        [-1.1480,  1.3692,  0.3580, -0.6541],\n",
       "                        [ 1.2554,  0.6613,  0.3205, -0.6622]])"
      ]
     },
     "execution_count": 6,
     "metadata": {},
     "output_type": "execute_result"
    }
   ],
   "source": [
    "new_value = torch.randn(2, 3)\n",
    "t.a = new_value\n",
    "\n",
    "t"
   ]
  },
  {
   "cell_type": "code",
   "execution_count": 7,
   "id": "bbe04d1c",
   "metadata": {
    "execution": {
     "iopub.execute_input": "2023-03-06T19:06:21.511112Z",
     "iopub.status.busy": "2023-03-06T19:06:21.510840Z",
     "iopub.status.idle": "2023-03-06T19:06:26.885292Z",
     "shell.execute_reply": "2023-03-06T19:06:26.883976Z"
    }
   },
   "outputs": [
    {
     "name": "stdout",
     "output_type": "stream",
     "text": [
      "66.2 ns ± 1.36 ns per loop (mean ± std. dev. of 7 runs, 10,000,000 loops each)\n"
     ]
    }
   ],
   "source": [
    "%timeit t.a = new_value"
   ]
  },
  {
   "cell_type": "markdown",
   "id": "48c49731",
   "metadata": {},
   "source": [
    "### Tianshou Batch's Get and Set"
   ]
  },
  {
   "cell_type": "code",
   "execution_count": 8,
   "id": "f1bb14c1",
   "metadata": {
    "execution": {
     "iopub.execute_input": "2023-03-06T19:06:26.889295Z",
     "iopub.status.busy": "2023-03-06T19:06:26.888837Z",
     "iopub.status.idle": "2023-03-06T19:06:27.323461Z",
     "shell.execute_reply": "2023-03-06T19:06:27.322401Z"
    }
   },
   "outputs": [],
   "source": [
    "from tianshou.data import Batch\n",
    "\n",
    "b = Batch(**_TREE_DATA_2)"
   ]
  },
  {
   "cell_type": "code",
   "execution_count": 9,
   "id": "cb0777c3",
   "metadata": {
    "execution": {
     "iopub.execute_input": "2023-03-06T19:06:27.327660Z",
     "iopub.status.busy": "2023-03-06T19:06:27.327302Z",
     "iopub.status.idle": "2023-03-06T19:06:27.336154Z",
     "shell.execute_reply": "2023-03-06T19:06:27.335023Z"
    }
   },
   "outputs": [
    {
     "data": {
      "text/plain": [
       "Batch(\n",
       "    a: tensor([[-0.0867, -2.1062,  0.4195],\n",
       "               [-0.7969, -0.4119,  0.1763]]),\n",
       "    x: Batch(\n",
       "           c: tensor([[ 0.7013,  0.2276, -0.9438,  0.0500],\n",
       "                      [-1.1480,  1.3692,  0.3580, -0.6541],\n",
       "                      [ 1.2554,  0.6613,  0.3205, -0.6622]]),\n",
       "       ),\n",
       ")"
      ]
     },
     "execution_count": 9,
     "metadata": {},
     "output_type": "execute_result"
    }
   ],
   "source": [
    "b"
   ]
  },
  {
   "cell_type": "code",
   "execution_count": 10,
   "id": "43ef8ea3",
   "metadata": {
    "execution": {
     "iopub.execute_input": "2023-03-06T19:06:27.339520Z",
     "iopub.status.busy": "2023-03-06T19:06:27.339128Z",
     "iopub.status.idle": "2023-03-06T19:06:27.346529Z",
     "shell.execute_reply": "2023-03-06T19:06:27.345569Z"
    }
   },
   "outputs": [
    {
     "data": {
      "text/plain": [
       "tensor([[-0.0867, -2.1062,  0.4195],\n",
       "        [-0.7969, -0.4119,  0.1763]])"
      ]
     },
     "execution_count": 10,
     "metadata": {},
     "output_type": "execute_result"
    }
   ],
   "source": [
    "b.a"
   ]
  },
  {
   "cell_type": "code",
   "execution_count": 11,
   "id": "b785ab72",
   "metadata": {
    "execution": {
     "iopub.execute_input": "2023-03-06T19:06:27.350002Z",
     "iopub.status.busy": "2023-03-06T19:06:27.349635Z",
     "iopub.status.idle": "2023-03-06T19:06:33.336170Z",
     "shell.execute_reply": "2023-03-06T19:06:33.335120Z"
    }
   },
   "outputs": [
    {
     "name": "stdout",
     "output_type": "stream",
     "text": [
      "73.8 ns ± 1.75 ns per loop (mean ± std. dev. of 7 runs, 10,000,000 loops each)\n"
     ]
    }
   ],
   "source": [
    "%timeit b.a"
   ]
  },
  {
   "cell_type": "code",
   "execution_count": 12,
   "id": "ad54dc69",
   "metadata": {
    "execution": {
     "iopub.execute_input": "2023-03-06T19:06:33.339769Z",
     "iopub.status.busy": "2023-03-06T19:06:33.339265Z",
     "iopub.status.idle": "2023-03-06T19:06:33.348484Z",
     "shell.execute_reply": "2023-03-06T19:06:33.347438Z"
    }
   },
   "outputs": [
    {
     "data": {
      "text/plain": [
       "Batch(\n",
       "    a: tensor([[ 0.2828,  0.3061,  0.2805],\n",
       "               [ 0.2765, -0.7611, -0.1266]]),\n",
       "    x: Batch(\n",
       "           c: tensor([[ 0.7013,  0.2276, -0.9438,  0.0500],\n",
       "                      [-1.1480,  1.3692,  0.3580, -0.6541],\n",
       "                      [ 1.2554,  0.6613,  0.3205, -0.6622]]),\n",
       "       ),\n",
       ")"
      ]
     },
     "execution_count": 12,
     "metadata": {},
     "output_type": "execute_result"
    }
   ],
   "source": [
    "new_value = torch.randn(2, 3)\n",
    "b.a = new_value\n",
    "\n",
    "b"
   ]
  },
  {
   "cell_type": "code",
   "execution_count": 13,
   "id": "29b1d0bf",
   "metadata": {
    "execution": {
     "iopub.execute_input": "2023-03-06T19:06:33.352168Z",
     "iopub.status.busy": "2023-03-06T19:06:33.351616Z",
     "iopub.status.idle": "2023-03-06T19:06:38.152939Z",
     "shell.execute_reply": "2023-03-06T19:06:38.151896Z"
    }
   },
   "outputs": [
    {
     "name": "stdout",
     "output_type": "stream",
     "text": [
      "590 ns ± 12.4 ns per loop (mean ± std. dev. of 7 runs, 1,000,000 loops each)\n"
     ]
    }
   ],
   "source": [
    "%timeit b.a = new_value"
   ]
  },
  {
   "cell_type": "markdown",
   "id": "b61ad1d0",
   "metadata": {},
   "source": [
    "## Initialization"
   ]
  },
  {
   "cell_type": "markdown",
   "id": "d70f0d54",
   "metadata": {},
   "source": [
    "### TreeValue's Initialization"
   ]
  },
  {
   "cell_type": "code",
   "execution_count": 14,
   "id": "d32a679b",
   "metadata": {
    "execution": {
     "iopub.execute_input": "2023-03-06T19:06:38.157754Z",
     "iopub.status.busy": "2023-03-06T19:06:38.157290Z",
     "iopub.status.idle": "2023-03-06T19:06:46.417542Z",
     "shell.execute_reply": "2023-03-06T19:06:46.416689Z"
    }
   },
   "outputs": [
    {
     "name": "stdout",
     "output_type": "stream",
     "text": [
      "1.02 µs ± 18.8 ns per loop (mean ± std. dev. of 7 runs, 1,000,000 loops each)\n"
     ]
    }
   ],
   "source": [
    "%timeit FastTreeValue(_TREE_DATA_1)"
   ]
  },
  {
   "cell_type": "markdown",
   "id": "24f3707b",
   "metadata": {},
   "source": [
    "### Tianshou Batch's Initialization"
   ]
  },
  {
   "cell_type": "code",
   "execution_count": 15,
   "id": "ac3958df",
   "metadata": {
    "execution": {
     "iopub.execute_input": "2023-03-06T19:06:46.421581Z",
     "iopub.status.busy": "2023-03-06T19:06:46.420930Z",
     "iopub.status.idle": "2023-03-06T19:06:56.319416Z",
     "shell.execute_reply": "2023-03-06T19:06:56.318439Z"
    }
   },
   "outputs": [
    {
     "name": "stdout",
     "output_type": "stream",
     "text": [
      "12.2 µs ± 90.4 ns per loop (mean ± std. dev. of 7 runs, 100,000 loops each)\n"
     ]
    }
   ],
   "source": [
    "%timeit Batch(**_TREE_DATA_1)"
   ]
  },
  {
   "cell_type": "markdown",
   "id": "1ab82e2d",
   "metadata": {},
   "source": [
    "## Deep Copy Operation"
   ]
  },
  {
   "cell_type": "code",
   "execution_count": 16,
   "id": "210a9442",
   "metadata": {
    "execution": {
     "iopub.execute_input": "2023-03-06T19:06:56.323782Z",
     "iopub.status.busy": "2023-03-06T19:06:56.323159Z",
     "iopub.status.idle": "2023-03-06T19:06:56.328879Z",
     "shell.execute_reply": "2023-03-06T19:06:56.327924Z"
    }
   },
   "outputs": [],
   "source": [
    "import copy"
   ]
  },
  {
   "cell_type": "markdown",
   "id": "5a736274",
   "metadata": {},
   "source": [
    "### Deep Copy of TreeValue"
   ]
  },
  {
   "cell_type": "code",
   "execution_count": 17,
   "id": "f9bcadd6",
   "metadata": {
    "execution": {
     "iopub.execute_input": "2023-03-06T19:06:56.332234Z",
     "iopub.status.busy": "2023-03-06T19:06:56.331732Z",
     "iopub.status.idle": "2023-03-06T19:06:58.470206Z",
     "shell.execute_reply": "2023-03-06T19:06:58.469380Z"
    }
   },
   "outputs": [
    {
     "name": "stdout",
     "output_type": "stream",
     "text": [
      "264 µs ± 17.5 µs per loop (mean ± std. dev. of 7 runs, 1,000 loops each)\n"
     ]
    }
   ],
   "source": [
    "t3 = FastTreeValue(_TREE_DATA_3)\n",
    "%timeit copy.deepcopy(t3)"
   ]
  },
  {
   "cell_type": "markdown",
   "id": "bf8be7ea",
   "metadata": {},
   "source": [
    "### Deep Copy of Tianshou Batch"
   ]
  },
  {
   "cell_type": "code",
   "execution_count": 18,
   "id": "91998e6f",
   "metadata": {
    "execution": {
     "iopub.execute_input": "2023-03-06T19:06:58.474058Z",
     "iopub.status.busy": "2023-03-06T19:06:58.473807Z",
     "iopub.status.idle": "2023-03-06T19:07:00.413608Z",
     "shell.execute_reply": "2023-03-06T19:07:00.412873Z"
    }
   },
   "outputs": [
    {
     "name": "stdout",
     "output_type": "stream",
     "text": [
      "239 µs ± 3.92 µs per loop (mean ± std. dev. of 7 runs, 1,000 loops each)\n"
     ]
    }
   ],
   "source": [
    "b3 = Batch(**_TREE_DATA_3)\n",
    "%timeit copy.deepcopy(b3)"
   ]
  },
  {
   "cell_type": "markdown",
   "id": "223162fb",
   "metadata": {},
   "source": [
    "## Stack, Concat and Split Operation"
   ]
  },
  {
   "cell_type": "markdown",
   "id": "85fa4a73",
   "metadata": {},
   "source": [
    "### Performance of TreeValue"
   ]
  },
  {
   "cell_type": "code",
   "execution_count": 19,
   "id": "a0c2b697",
   "metadata": {
    "execution": {
     "iopub.execute_input": "2023-03-06T19:07:00.417068Z",
     "iopub.status.busy": "2023-03-06T19:07:00.416647Z",
     "iopub.status.idle": "2023-03-06T19:07:00.420490Z",
     "shell.execute_reply": "2023-03-06T19:07:00.419663Z"
    }
   },
   "outputs": [],
   "source": [
    "trees = [FastTreeValue(_TREE_DATA_2) for _ in range(8)]"
   ]
  },
  {
   "cell_type": "code",
   "execution_count": 20,
   "id": "017ea5a5",
   "metadata": {
    "execution": {
     "iopub.execute_input": "2023-03-06T19:07:00.423399Z",
     "iopub.status.busy": "2023-03-06T19:07:00.422985Z",
     "iopub.status.idle": "2023-03-06T19:07:00.431351Z",
     "shell.execute_reply": "2023-03-06T19:07:00.430169Z"
    }
   },
   "outputs": [
    {
     "data": {
      "text/plain": [
       "<FastTreeValue 0x7ff9992f7b20>\n",
       "├── 'a' --> tensor([[[-0.0867, -2.1062,  0.4195],\n",
       "│                    [-0.7969, -0.4119,  0.1763]],\n",
       "│           \n",
       "│                   [[-0.0867, -2.1062,  0.4195],\n",
       "│                    [-0.7969, -0.4119,  0.1763]],\n",
       "│           \n",
       "│                   [[-0.0867, -2.1062,  0.4195],\n",
       "│                    [-0.7969, -0.4119,  0.1763]],\n",
       "│           \n",
       "│                   [[-0.0867, -2.1062,  0.4195],\n",
       "│                    [-0.7969, -0.4119,  0.1763]],\n",
       "│           \n",
       "│                   [[-0.0867, -2.1062,  0.4195],\n",
       "│                    [-0.7969, -0.4119,  0.1763]],\n",
       "│           \n",
       "│                   [[-0.0867, -2.1062,  0.4195],\n",
       "│                    [-0.7969, -0.4119,  0.1763]],\n",
       "│           \n",
       "│                   [[-0.0867, -2.1062,  0.4195],\n",
       "│                    [-0.7969, -0.4119,  0.1763]],\n",
       "│           \n",
       "│                   [[-0.0867, -2.1062,  0.4195],\n",
       "│                    [-0.7969, -0.4119,  0.1763]]])\n",
       "└── 'x' --> <FastTreeValue 0x7ff9992f7c70>\n",
       "    └── 'c' --> tensor([[[ 0.7013,  0.2276, -0.9438,  0.0500],\n",
       "                         [-1.1480,  1.3692,  0.3580, -0.6541],\n",
       "                         [ 1.2554,  0.6613,  0.3205, -0.6622]],\n",
       "                \n",
       "                        [[ 0.7013,  0.2276, -0.9438,  0.0500],\n",
       "                         [-1.1480,  1.3692,  0.3580, -0.6541],\n",
       "                         [ 1.2554,  0.6613,  0.3205, -0.6622]],\n",
       "                \n",
       "                        [[ 0.7013,  0.2276, -0.9438,  0.0500],\n",
       "                         [-1.1480,  1.3692,  0.3580, -0.6541],\n",
       "                         [ 1.2554,  0.6613,  0.3205, -0.6622]],\n",
       "                \n",
       "                        [[ 0.7013,  0.2276, -0.9438,  0.0500],\n",
       "                         [-1.1480,  1.3692,  0.3580, -0.6541],\n",
       "                         [ 1.2554,  0.6613,  0.3205, -0.6622]],\n",
       "                \n",
       "                        [[ 0.7013,  0.2276, -0.9438,  0.0500],\n",
       "                         [-1.1480,  1.3692,  0.3580, -0.6541],\n",
       "                         [ 1.2554,  0.6613,  0.3205, -0.6622]],\n",
       "                \n",
       "                        [[ 0.7013,  0.2276, -0.9438,  0.0500],\n",
       "                         [-1.1480,  1.3692,  0.3580, -0.6541],\n",
       "                         [ 1.2554,  0.6613,  0.3205, -0.6622]],\n",
       "                \n",
       "                        [[ 0.7013,  0.2276, -0.9438,  0.0500],\n",
       "                         [-1.1480,  1.3692,  0.3580, -0.6541],\n",
       "                         [ 1.2554,  0.6613,  0.3205, -0.6622]],\n",
       "                \n",
       "                        [[ 0.7013,  0.2276, -0.9438,  0.0500],\n",
       "                         [-1.1480,  1.3692,  0.3580, -0.6541],\n",
       "                         [ 1.2554,  0.6613,  0.3205, -0.6622]]])"
      ]
     },
     "execution_count": 20,
     "metadata": {},
     "output_type": "execute_result"
    }
   ],
   "source": [
    "t_stack = FastTreeValue.func(subside=True)(torch.stack)\n",
    "\n",
    "t_stack(trees)"
   ]
  },
  {
   "cell_type": "code",
   "execution_count": 21,
   "id": "f8b3f415",
   "metadata": {
    "execution": {
     "iopub.execute_input": "2023-03-06T19:07:00.434333Z",
     "iopub.status.busy": "2023-03-06T19:07:00.433946Z",
     "iopub.status.idle": "2023-03-06T19:07:04.121473Z",
     "shell.execute_reply": "2023-03-06T19:07:04.120478Z"
    }
   },
   "outputs": [
    {
     "name": "stdout",
     "output_type": "stream",
     "text": [
      "45.8 µs ± 1.4 µs per loop (mean ± std. dev. of 7 runs, 10,000 loops each)\n"
     ]
    }
   ],
   "source": [
    "%timeit t_stack(trees)"
   ]
  },
  {
   "cell_type": "code",
   "execution_count": 22,
   "id": "94b56771",
   "metadata": {
    "execution": {
     "iopub.execute_input": "2023-03-06T19:07:04.124945Z",
     "iopub.status.busy": "2023-03-06T19:07:04.124450Z",
     "iopub.status.idle": "2023-03-06T19:07:04.136961Z",
     "shell.execute_reply": "2023-03-06T19:07:04.134588Z"
    }
   },
   "outputs": [
    {
     "data": {
      "text/plain": [
       "<FastTreeValue 0x7ff999307040>\n",
       "├── 'a' --> tensor([[-0.0867, -2.1062,  0.4195],\n",
       "│                   [-0.7969, -0.4119,  0.1763],\n",
       "│                   [-0.0867, -2.1062,  0.4195],\n",
       "│                   [-0.7969, -0.4119,  0.1763],\n",
       "│                   [-0.0867, -2.1062,  0.4195],\n",
       "│                   [-0.7969, -0.4119,  0.1763],\n",
       "│                   [-0.0867, -2.1062,  0.4195],\n",
       "│                   [-0.7969, -0.4119,  0.1763],\n",
       "│                   [-0.0867, -2.1062,  0.4195],\n",
       "│                   [-0.7969, -0.4119,  0.1763],\n",
       "│                   [-0.0867, -2.1062,  0.4195],\n",
       "│                   [-0.7969, -0.4119,  0.1763],\n",
       "│                   [-0.0867, -2.1062,  0.4195],\n",
       "│                   [-0.7969, -0.4119,  0.1763],\n",
       "│                   [-0.0867, -2.1062,  0.4195],\n",
       "│                   [-0.7969, -0.4119,  0.1763]])\n",
       "└── 'x' --> <FastTreeValue 0x7ff9a01569d0>\n",
       "    └── 'c' --> tensor([[ 0.7013,  0.2276, -0.9438,  0.0500],\n",
       "                        [-1.1480,  1.3692,  0.3580, -0.6541],\n",
       "                        [ 1.2554,  0.6613,  0.3205, -0.6622],\n",
       "                        [ 0.7013,  0.2276, -0.9438,  0.0500],\n",
       "                        [-1.1480,  1.3692,  0.3580, -0.6541],\n",
       "                        [ 1.2554,  0.6613,  0.3205, -0.6622],\n",
       "                        [ 0.7013,  0.2276, -0.9438,  0.0500],\n",
       "                        [-1.1480,  1.3692,  0.3580, -0.6541],\n",
       "                        [ 1.2554,  0.6613,  0.3205, -0.6622],\n",
       "                        [ 0.7013,  0.2276, -0.9438,  0.0500],\n",
       "                        [-1.1480,  1.3692,  0.3580, -0.6541],\n",
       "                        [ 1.2554,  0.6613,  0.3205, -0.6622],\n",
       "                        [ 0.7013,  0.2276, -0.9438,  0.0500],\n",
       "                        [-1.1480,  1.3692,  0.3580, -0.6541],\n",
       "                        [ 1.2554,  0.6613,  0.3205, -0.6622],\n",
       "                        [ 0.7013,  0.2276, -0.9438,  0.0500],\n",
       "                        [-1.1480,  1.3692,  0.3580, -0.6541],\n",
       "                        [ 1.2554,  0.6613,  0.3205, -0.6622],\n",
       "                        [ 0.7013,  0.2276, -0.9438,  0.0500],\n",
       "                        [-1.1480,  1.3692,  0.3580, -0.6541],\n",
       "                        [ 1.2554,  0.6613,  0.3205, -0.6622],\n",
       "                        [ 0.7013,  0.2276, -0.9438,  0.0500],\n",
       "                        [-1.1480,  1.3692,  0.3580, -0.6541],\n",
       "                        [ 1.2554,  0.6613,  0.3205, -0.6622]])"
      ]
     },
     "execution_count": 22,
     "metadata": {},
     "output_type": "execute_result"
    }
   ],
   "source": [
    "t_cat = FastTreeValue.func(subside=True)(torch.cat)\n",
    "\n",
    "t_cat(trees)"
   ]
  },
  {
   "cell_type": "code",
   "execution_count": 23,
   "id": "5e9c06a6",
   "metadata": {
    "execution": {
     "iopub.execute_input": "2023-03-06T19:07:04.140429Z",
     "iopub.status.busy": "2023-03-06T19:07:04.139954Z",
     "iopub.status.idle": "2023-03-06T19:07:07.460258Z",
     "shell.execute_reply": "2023-03-06T19:07:07.458644Z"
    }
   },
   "outputs": [
    {
     "name": "stdout",
     "output_type": "stream",
     "text": [
      "40.8 µs ± 561 ns per loop (mean ± std. dev. of 7 runs, 10,000 loops each)\n"
     ]
    }
   ],
   "source": [
    "%timeit t_cat(trees)"
   ]
  },
  {
   "cell_type": "code",
   "execution_count": 24,
   "id": "a3ab5c8f",
   "metadata": {
    "execution": {
     "iopub.execute_input": "2023-03-06T19:07:07.464234Z",
     "iopub.status.busy": "2023-03-06T19:07:07.463825Z",
     "iopub.status.idle": "2023-03-06T19:07:13.720438Z",
     "shell.execute_reply": "2023-03-06T19:07:13.719467Z"
    }
   },
   "outputs": [
    {
     "name": "stdout",
     "output_type": "stream",
     "text": [
      "77 µs ± 929 ns per loop (mean ± std. dev. of 7 runs, 10,000 loops each)\n"
     ]
    }
   ],
   "source": [
    "t_split = FastTreeValue.func(rise=True)(torch.split)\n",
    "tree = FastTreeValue({\n",
    "    'obs': torch.randn(8, 4, 84, 84),\n",
    "    'action': torch.randint(0, 6, size=(8, 1,)),\n",
    "    'reward': torch.rand(8, 1),\n",
    "})\n",
    "\n",
    "%timeit t_split(tree, 1)"
   ]
  },
  {
   "cell_type": "markdown",
   "id": "31c3ec0b",
   "metadata": {},
   "source": [
    "### Performance of Tianshou Batch"
   ]
  },
  {
   "cell_type": "code",
   "execution_count": 25,
   "id": "9ead828a",
   "metadata": {
    "execution": {
     "iopub.execute_input": "2023-03-06T19:07:13.723939Z",
     "iopub.status.busy": "2023-03-06T19:07:13.723450Z",
     "iopub.status.idle": "2023-03-06T19:07:13.732921Z",
     "shell.execute_reply": "2023-03-06T19:07:13.731855Z"
    }
   },
   "outputs": [
    {
     "data": {
      "text/plain": [
       "Batch(\n",
       "    a: tensor([[[-0.0867, -2.1062,  0.4195],\n",
       "                [-0.7969, -0.4119,  0.1763]],\n",
       "       \n",
       "               [[-0.0867, -2.1062,  0.4195],\n",
       "                [-0.7969, -0.4119,  0.1763]],\n",
       "       \n",
       "               [[-0.0867, -2.1062,  0.4195],\n",
       "                [-0.7969, -0.4119,  0.1763]],\n",
       "       \n",
       "               [[-0.0867, -2.1062,  0.4195],\n",
       "                [-0.7969, -0.4119,  0.1763]],\n",
       "       \n",
       "               [[-0.0867, -2.1062,  0.4195],\n",
       "                [-0.7969, -0.4119,  0.1763]],\n",
       "       \n",
       "               [[-0.0867, -2.1062,  0.4195],\n",
       "                [-0.7969, -0.4119,  0.1763]],\n",
       "       \n",
       "               [[-0.0867, -2.1062,  0.4195],\n",
       "                [-0.7969, -0.4119,  0.1763]],\n",
       "       \n",
       "               [[-0.0867, -2.1062,  0.4195],\n",
       "                [-0.7969, -0.4119,  0.1763]]]),\n",
       "    x: Batch(\n",
       "           c: tensor([[[ 0.7013,  0.2276, -0.9438,  0.0500],\n",
       "                       [-1.1480,  1.3692,  0.3580, -0.6541],\n",
       "                       [ 1.2554,  0.6613,  0.3205, -0.6622]],\n",
       "              \n",
       "                      [[ 0.7013,  0.2276, -0.9438,  0.0500],\n",
       "                       [-1.1480,  1.3692,  0.3580, -0.6541],\n",
       "                       [ 1.2554,  0.6613,  0.3205, -0.6622]],\n",
       "              \n",
       "                      [[ 0.7013,  0.2276, -0.9438,  0.0500],\n",
       "                       [-1.1480,  1.3692,  0.3580, -0.6541],\n",
       "                       [ 1.2554,  0.6613,  0.3205, -0.6622]],\n",
       "              \n",
       "                      [[ 0.7013,  0.2276, -0.9438,  0.0500],\n",
       "                       [-1.1480,  1.3692,  0.3580, -0.6541],\n",
       "                       [ 1.2554,  0.6613,  0.3205, -0.6622]],\n",
       "              \n",
       "                      [[ 0.7013,  0.2276, -0.9438,  0.0500],\n",
       "                       [-1.1480,  1.3692,  0.3580, -0.6541],\n",
       "                       [ 1.2554,  0.6613,  0.3205, -0.6622]],\n",
       "              \n",
       "                      [[ 0.7013,  0.2276, -0.9438,  0.0500],\n",
       "                       [-1.1480,  1.3692,  0.3580, -0.6541],\n",
       "                       [ 1.2554,  0.6613,  0.3205, -0.6622]],\n",
       "              \n",
       "                      [[ 0.7013,  0.2276, -0.9438,  0.0500],\n",
       "                       [-1.1480,  1.3692,  0.3580, -0.6541],\n",
       "                       [ 1.2554,  0.6613,  0.3205, -0.6622]],\n",
       "              \n",
       "                      [[ 0.7013,  0.2276, -0.9438,  0.0500],\n",
       "                       [-1.1480,  1.3692,  0.3580, -0.6541],\n",
       "                       [ 1.2554,  0.6613,  0.3205, -0.6622]]]),\n",
       "       ),\n",
       ")"
      ]
     },
     "execution_count": 25,
     "metadata": {},
     "output_type": "execute_result"
    }
   ],
   "source": [
    "batches = [Batch(**_TREE_DATA_2) for _ in range(8)]\n",
    "\n",
    "Batch.stack(batches)"
   ]
  },
  {
   "cell_type": "code",
   "execution_count": 26,
   "id": "ec9037a3",
   "metadata": {
    "execution": {
     "iopub.execute_input": "2023-03-06T19:07:13.736207Z",
     "iopub.status.busy": "2023-03-06T19:07:13.735930Z",
     "iopub.status.idle": "2023-03-06T19:07:21.562346Z",
     "shell.execute_reply": "2023-03-06T19:07:21.561065Z"
    }
   },
   "outputs": [
    {
     "name": "stdout",
     "output_type": "stream",
     "text": [
      "96.4 µs ± 1.16 µs per loop (mean ± std. dev. of 7 runs, 10,000 loops each)\n"
     ]
    }
   ],
   "source": [
    "%timeit Batch.stack(batches)"
   ]
  },
  {
   "cell_type": "code",
   "execution_count": 27,
   "id": "cb8ab77e",
   "metadata": {
    "execution": {
     "iopub.execute_input": "2023-03-06T19:07:21.565625Z",
     "iopub.status.busy": "2023-03-06T19:07:21.565337Z",
     "iopub.status.idle": "2023-03-06T19:07:21.575885Z",
     "shell.execute_reply": "2023-03-06T19:07:21.574022Z"
    }
   },
   "outputs": [
    {
     "data": {
      "text/plain": [
       "Batch(\n",
       "    a: tensor([[-0.0867, -2.1062,  0.4195],\n",
       "               [-0.7969, -0.4119,  0.1763],\n",
       "               [-0.0867, -2.1062,  0.4195],\n",
       "               [-0.7969, -0.4119,  0.1763],\n",
       "               [-0.0867, -2.1062,  0.4195],\n",
       "               [-0.7969, -0.4119,  0.1763],\n",
       "               [-0.0867, -2.1062,  0.4195],\n",
       "               [-0.7969, -0.4119,  0.1763],\n",
       "               [-0.0867, -2.1062,  0.4195],\n",
       "               [-0.7969, -0.4119,  0.1763],\n",
       "               [-0.0867, -2.1062,  0.4195],\n",
       "               [-0.7969, -0.4119,  0.1763],\n",
       "               [-0.0867, -2.1062,  0.4195],\n",
       "               [-0.7969, -0.4119,  0.1763],\n",
       "               [-0.0867, -2.1062,  0.4195],\n",
       "               [-0.7969, -0.4119,  0.1763]]),\n",
       "    x: Batch(\n",
       "           c: tensor([[ 0.7013,  0.2276, -0.9438,  0.0500],\n",
       "                      [-1.1480,  1.3692,  0.3580, -0.6541],\n",
       "                      [ 1.2554,  0.6613,  0.3205, -0.6622],\n",
       "                      [ 0.7013,  0.2276, -0.9438,  0.0500],\n",
       "                      [-1.1480,  1.3692,  0.3580, -0.6541],\n",
       "                      [ 1.2554,  0.6613,  0.3205, -0.6622],\n",
       "                      [ 0.7013,  0.2276, -0.9438,  0.0500],\n",
       "                      [-1.1480,  1.3692,  0.3580, -0.6541],\n",
       "                      [ 1.2554,  0.6613,  0.3205, -0.6622],\n",
       "                      [ 0.7013,  0.2276, -0.9438,  0.0500],\n",
       "                      [-1.1480,  1.3692,  0.3580, -0.6541],\n",
       "                      [ 1.2554,  0.6613,  0.3205, -0.6622],\n",
       "                      [ 0.7013,  0.2276, -0.9438,  0.0500],\n",
       "                      [-1.1480,  1.3692,  0.3580, -0.6541],\n",
       "                      [ 1.2554,  0.6613,  0.3205, -0.6622],\n",
       "                      [ 0.7013,  0.2276, -0.9438,  0.0500],\n",
       "                      [-1.1480,  1.3692,  0.3580, -0.6541],\n",
       "                      [ 1.2554,  0.6613,  0.3205, -0.6622],\n",
       "                      [ 0.7013,  0.2276, -0.9438,  0.0500],\n",
       "                      [-1.1480,  1.3692,  0.3580, -0.6541],\n",
       "                      [ 1.2554,  0.6613,  0.3205, -0.6622],\n",
       "                      [ 0.7013,  0.2276, -0.9438,  0.0500],\n",
       "                      [-1.1480,  1.3692,  0.3580, -0.6541],\n",
       "                      [ 1.2554,  0.6613,  0.3205, -0.6622]]),\n",
       "       ),\n",
       ")"
      ]
     },
     "execution_count": 27,
     "metadata": {},
     "output_type": "execute_result"
    }
   ],
   "source": [
    "Batch.cat(batches)"
   ]
  },
  {
   "cell_type": "code",
   "execution_count": 28,
   "id": "18dfb045",
   "metadata": {
    "execution": {
     "iopub.execute_input": "2023-03-06T19:07:21.579098Z",
     "iopub.status.busy": "2023-03-06T19:07:21.578845Z",
     "iopub.status.idle": "2023-03-06T19:07:35.542989Z",
     "shell.execute_reply": "2023-03-06T19:07:35.542043Z"
    }
   },
   "outputs": [
    {
     "name": "stdout",
     "output_type": "stream",
     "text": [
      "172 µs ± 2.12 µs per loop (mean ± std. dev. of 7 runs, 10,000 loops each)\n"
     ]
    }
   ],
   "source": [
    "%timeit Batch.cat(batches)"
   ]
  },
  {
   "cell_type": "code",
   "execution_count": 29,
   "id": "c6688e51",
   "metadata": {
    "execution": {
     "iopub.execute_input": "2023-03-06T19:07:35.546243Z",
     "iopub.status.busy": "2023-03-06T19:07:35.545762Z",
     "iopub.status.idle": "2023-03-06T19:07:39.542586Z",
     "shell.execute_reply": "2023-03-06T19:07:39.541808Z"
    }
   },
   "outputs": [
    {
     "name": "stdout",
     "output_type": "stream",
     "text": [
      "492 µs ± 8.95 µs per loop (mean ± std. dev. of 7 runs, 1,000 loops each)\n"
     ]
    }
   ],
   "source": [
    "batch = Batch({\n",
    "    'obs': torch.randn(8, 4, 84, 84),\n",
    "    'action': torch.randint(0, 6, size=(8, 1,)),\n",
    "    'reward': torch.rand(8, 1)}\n",
    ")\n",
    "\n",
    "%timeit list(Batch.split(batch, 1, shuffle=False, merge_last=True))"
   ]
  },
  {
   "cell_type": "code",
   "execution_count": null,
   "id": "2539fbd9",
   "metadata": {},
   "outputs": [],
   "source": []
  }
 ],
 "metadata": {
  "kernelspec": {
   "display_name": "Python 3 (ipykernel)",
   "language": "python",
   "name": "python3"
  },
  "language_info": {
   "codemirror_mode": {
    "name": "ipython",
    "version": 3
   },
   "file_extension": ".py",
   "mimetype": "text/x-python",
   "name": "python",
   "nbconvert_exporter": "python",
   "pygments_lexer": "ipython3",
   "version": "3.8.16"
  }
 },
 "nbformat": 4,
 "nbformat_minor": 5
}
