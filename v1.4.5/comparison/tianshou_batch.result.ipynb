{
 "cells": [
  {
   "cell_type": "markdown",
   "id": "9d39d946",
   "metadata": {},
   "source": [
    "# Comparison Between TreeValue and Tianshou Batch"
   ]
  },
  {
   "cell_type": "markdown",
   "id": "3c6db2d4",
   "metadata": {},
   "source": [
    "In this section, we will take a look at the feature and performance of the [Tianshou Batch](https://github.com/thu-ml/tianshou) library, which is developed by Tsinghua Machine Learning Group."
   ]
  },
  {
   "cell_type": "markdown",
   "id": "069361b0",
   "metadata": {},
   "source": [
    "Before starting the comparison, let us define some thing."
   ]
  },
  {
   "cell_type": "code",
   "execution_count": 1,
   "id": "06fc8d26",
   "metadata": {
    "execution": {
     "iopub.execute_input": "2023-03-06T17:43:41.624471Z",
     "iopub.status.busy": "2023-03-06T17:43:41.624243Z",
     "iopub.status.idle": "2023-03-06T17:43:42.569358Z",
     "shell.execute_reply": "2023-03-06T17:43:42.568648Z"
    }
   },
   "outputs": [
    {
     "name": "stderr",
     "output_type": "stream",
     "text": [
      "/opt/hostedtoolcache/Python/3.8.16/x64/lib/python3.8/site-packages/tqdm/auto.py:21: TqdmWarning: IProgress not found. Please update jupyter and ipywidgets. See https://ipywidgets.readthedocs.io/en/stable/user_install.html\n",
      "  from .autonotebook import tqdm as notebook_tqdm\n"
     ]
    }
   ],
   "source": [
    "import torch \n",
    "\n",
    "_TREE_DATA_1 = {'a': 1, 'b': 2, 'x': {'c': 3, 'd': 4}}\n",
    "_TREE_DATA_2 = {\n",
    "    'a': torch.randn(2, 3), \n",
    "    'x': {\n",
    "        'c': torch.randn(3, 4)\n",
    "    },\n",
    "}\n",
    "_TREE_DATA_3 = {\n",
    "    'obs': torch.randn(4, 84, 84),\n",
    "    'action': torch.randint(0, 6, size=(1,)),\n",
    "    'reward': torch.rand(1),\n",
    "}"
   ]
  },
  {
   "cell_type": "markdown",
   "id": "83461b25",
   "metadata": {},
   "source": [
    "## Read and Write Operation"
   ]
  },
  {
   "cell_type": "markdown",
   "id": "067b3f73",
   "metadata": {},
   "source": [
    "Reading and writing are the two most common operations in the tree data structure based on the data model (TreeValue and Tianshou Batch both belong to this type), so this section will compare the reading and writing performance of these two libraries."
   ]
  },
  {
   "cell_type": "markdown",
   "id": "5d09a5b7",
   "metadata": {},
   "source": [
    "### TreeValue's Get and Set"
   ]
  },
  {
   "cell_type": "code",
   "execution_count": 2,
   "id": "9519c4bb",
   "metadata": {
    "execution": {
     "iopub.execute_input": "2023-03-06T17:43:42.573017Z",
     "iopub.status.busy": "2023-03-06T17:43:42.572355Z",
     "iopub.status.idle": "2023-03-06T17:43:42.606121Z",
     "shell.execute_reply": "2023-03-06T17:43:42.605452Z"
    }
   },
   "outputs": [],
   "source": [
    "from treevalue import FastTreeValue\n",
    "\n",
    "t = FastTreeValue(_TREE_DATA_2)"
   ]
  },
  {
   "cell_type": "code",
   "execution_count": 3,
   "id": "11c37677",
   "metadata": {
    "execution": {
     "iopub.execute_input": "2023-03-06T17:43:42.609417Z",
     "iopub.status.busy": "2023-03-06T17:43:42.608877Z",
     "iopub.status.idle": "2023-03-06T17:43:42.617207Z",
     "shell.execute_reply": "2023-03-06T17:43:42.616551Z"
    }
   },
   "outputs": [
    {
     "data": {
      "text/plain": [
       "<FastTreeValue 0x7f639ea72f70>\n",
       "├── 'a' --> tensor([[-0.9464,  0.9640,  0.8989],\n",
       "│                   [ 0.4228,  0.6007, -0.1570]])\n",
       "└── 'x' --> <FastTreeValue 0x7f639ea72b80>\n",
       "    └── 'c' --> tensor([[ 0.4176, -0.1874, -0.3293,  1.0707],\n",
       "                        [-1.7001, -0.1163,  2.1946, -0.4024],\n",
       "                        [ 0.2964, -1.1194, -0.7314, -2.1851]])"
      ]
     },
     "execution_count": 3,
     "metadata": {},
     "output_type": "execute_result"
    }
   ],
   "source": [
    "t"
   ]
  },
  {
   "cell_type": "code",
   "execution_count": 4,
   "id": "fd70b0b9",
   "metadata": {
    "execution": {
     "iopub.execute_input": "2023-03-06T17:43:42.619930Z",
     "iopub.status.busy": "2023-03-06T17:43:42.619577Z",
     "iopub.status.idle": "2023-03-06T17:43:42.624179Z",
     "shell.execute_reply": "2023-03-06T17:43:42.623543Z"
    }
   },
   "outputs": [
    {
     "data": {
      "text/plain": [
       "tensor([[-0.9464,  0.9640,  0.8989],\n",
       "        [ 0.4228,  0.6007, -0.1570]])"
      ]
     },
     "execution_count": 4,
     "metadata": {},
     "output_type": "execute_result"
    }
   ],
   "source": [
    "t.a"
   ]
  },
  {
   "cell_type": "code",
   "execution_count": 5,
   "id": "c18197bd",
   "metadata": {
    "execution": {
     "iopub.execute_input": "2023-03-06T17:43:42.627047Z",
     "iopub.status.busy": "2023-03-06T17:43:42.626658Z",
     "iopub.status.idle": "2023-03-06T17:43:47.887768Z",
     "shell.execute_reply": "2023-03-06T17:43:47.887042Z"
    }
   },
   "outputs": [
    {
     "name": "stdout",
     "output_type": "stream",
     "text": [
      "65.1 ns ± 0.119 ns per loop (mean ± std. dev. of 7 runs, 10,000,000 loops each)\n"
     ]
    }
   ],
   "source": [
    "%timeit t.a"
   ]
  },
  {
   "cell_type": "code",
   "execution_count": 6,
   "id": "bd52f867",
   "metadata": {
    "execution": {
     "iopub.execute_input": "2023-03-06T17:43:47.891116Z",
     "iopub.status.busy": "2023-03-06T17:43:47.890475Z",
     "iopub.status.idle": "2023-03-06T17:43:47.896612Z",
     "shell.execute_reply": "2023-03-06T17:43:47.895958Z"
    }
   },
   "outputs": [
    {
     "data": {
      "text/plain": [
       "<FastTreeValue 0x7f639ea72f70>\n",
       "├── 'a' --> tensor([[-1.0980, -0.1474, -0.5716],\n",
       "│                   [ 0.3070, -0.3898, -0.4694]])\n",
       "└── 'x' --> <FastTreeValue 0x7f639ea72b80>\n",
       "    └── 'c' --> tensor([[ 0.4176, -0.1874, -0.3293,  1.0707],\n",
       "                        [-1.7001, -0.1163,  2.1946, -0.4024],\n",
       "                        [ 0.2964, -1.1194, -0.7314, -2.1851]])"
      ]
     },
     "execution_count": 6,
     "metadata": {},
     "output_type": "execute_result"
    }
   ],
   "source": [
    "new_value = torch.randn(2, 3)\n",
    "t.a = new_value\n",
    "\n",
    "t"
   ]
  },
  {
   "cell_type": "code",
   "execution_count": 7,
   "id": "bbe04d1c",
   "metadata": {
    "execution": {
     "iopub.execute_input": "2023-03-06T17:43:47.899482Z",
     "iopub.status.busy": "2023-03-06T17:43:47.899124Z",
     "iopub.status.idle": "2023-03-06T17:43:52.656588Z",
     "shell.execute_reply": "2023-03-06T17:43:52.655839Z"
    }
   },
   "outputs": [
    {
     "name": "stdout",
     "output_type": "stream",
     "text": [
      "58.6 ns ± 0.0412 ns per loop (mean ± std. dev. of 7 runs, 10,000,000 loops each)\n"
     ]
    }
   ],
   "source": [
    "%timeit t.a = new_value"
   ]
  },
  {
   "cell_type": "markdown",
   "id": "48c49731",
   "metadata": {},
   "source": [
    "### Tianshou Batch's Get and Set"
   ]
  },
  {
   "cell_type": "code",
   "execution_count": 8,
   "id": "f1bb14c1",
   "metadata": {
    "execution": {
     "iopub.execute_input": "2023-03-06T17:43:52.660018Z",
     "iopub.status.busy": "2023-03-06T17:43:52.659408Z",
     "iopub.status.idle": "2023-03-06T17:43:53.003226Z",
     "shell.execute_reply": "2023-03-06T17:43:53.002547Z"
    }
   },
   "outputs": [],
   "source": [
    "from tianshou.data import Batch\n",
    "\n",
    "b = Batch(**_TREE_DATA_2)"
   ]
  },
  {
   "cell_type": "code",
   "execution_count": 9,
   "id": "cb0777c3",
   "metadata": {
    "execution": {
     "iopub.execute_input": "2023-03-06T17:43:53.006626Z",
     "iopub.status.busy": "2023-03-06T17:43:53.006080Z",
     "iopub.status.idle": "2023-03-06T17:43:53.011495Z",
     "shell.execute_reply": "2023-03-06T17:43:53.010878Z"
    }
   },
   "outputs": [
    {
     "data": {
      "text/plain": [
       "Batch(\n",
       "    a: tensor([[-0.9464,  0.9640,  0.8989],\n",
       "               [ 0.4228,  0.6007, -0.1570]]),\n",
       "    x: Batch(\n",
       "           c: tensor([[ 0.4176, -0.1874, -0.3293,  1.0707],\n",
       "                      [-1.7001, -0.1163,  2.1946, -0.4024],\n",
       "                      [ 0.2964, -1.1194, -0.7314, -2.1851]]),\n",
       "       ),\n",
       ")"
      ]
     },
     "execution_count": 9,
     "metadata": {},
     "output_type": "execute_result"
    }
   ],
   "source": [
    "b"
   ]
  },
  {
   "cell_type": "code",
   "execution_count": 10,
   "id": "43ef8ea3",
   "metadata": {
    "execution": {
     "iopub.execute_input": "2023-03-06T17:43:53.014387Z",
     "iopub.status.busy": "2023-03-06T17:43:53.013886Z",
     "iopub.status.idle": "2023-03-06T17:43:53.018590Z",
     "shell.execute_reply": "2023-03-06T17:43:53.017967Z"
    }
   },
   "outputs": [
    {
     "data": {
      "text/plain": [
       "tensor([[-0.9464,  0.9640,  0.8989],\n",
       "        [ 0.4228,  0.6007, -0.1570]])"
      ]
     },
     "execution_count": 10,
     "metadata": {},
     "output_type": "execute_result"
    }
   ],
   "source": [
    "b.a"
   ]
  },
  {
   "cell_type": "code",
   "execution_count": 11,
   "id": "b785ab72",
   "metadata": {
    "execution": {
     "iopub.execute_input": "2023-03-06T17:43:53.021044Z",
     "iopub.status.busy": "2023-03-06T17:43:53.020688Z",
     "iopub.status.idle": "2023-03-06T17:43:57.492573Z",
     "shell.execute_reply": "2023-03-06T17:43:57.491793Z"
    }
   },
   "outputs": [
    {
     "name": "stdout",
     "output_type": "stream",
     "text": [
      "55.3 ns ± 0.035 ns per loop (mean ± std. dev. of 7 runs, 10,000,000 loops each)\n"
     ]
    }
   ],
   "source": [
    "%timeit b.a"
   ]
  },
  {
   "cell_type": "code",
   "execution_count": 12,
   "id": "ad54dc69",
   "metadata": {
    "execution": {
     "iopub.execute_input": "2023-03-06T17:43:57.495692Z",
     "iopub.status.busy": "2023-03-06T17:43:57.495141Z",
     "iopub.status.idle": "2023-03-06T17:43:57.500976Z",
     "shell.execute_reply": "2023-03-06T17:43:57.500343Z"
    }
   },
   "outputs": [
    {
     "data": {
      "text/plain": [
       "Batch(\n",
       "    a: tensor([[-0.4951,  0.2849,  1.1496],\n",
       "               [ 0.5048, -0.3925, -0.3596]]),\n",
       "    x: Batch(\n",
       "           c: tensor([[ 0.4176, -0.1874, -0.3293,  1.0707],\n",
       "                      [-1.7001, -0.1163,  2.1946, -0.4024],\n",
       "                      [ 0.2964, -1.1194, -0.7314, -2.1851]]),\n",
       "       ),\n",
       ")"
      ]
     },
     "execution_count": 12,
     "metadata": {},
     "output_type": "execute_result"
    }
   ],
   "source": [
    "new_value = torch.randn(2, 3)\n",
    "b.a = new_value\n",
    "\n",
    "b"
   ]
  },
  {
   "cell_type": "code",
   "execution_count": 13,
   "id": "29b1d0bf",
   "metadata": {
    "execution": {
     "iopub.execute_input": "2023-03-06T17:43:57.503744Z",
     "iopub.status.busy": "2023-03-06T17:43:57.503387Z",
     "iopub.status.idle": "2023-03-06T17:44:01.434046Z",
     "shell.execute_reply": "2023-03-06T17:44:01.433299Z"
    }
   },
   "outputs": [
    {
     "name": "stdout",
     "output_type": "stream",
     "text": [
      "484 ns ± 0.144 ns per loop (mean ± std. dev. of 7 runs, 1,000,000 loops each)\n"
     ]
    }
   ],
   "source": [
    "%timeit b.a = new_value"
   ]
  },
  {
   "cell_type": "markdown",
   "id": "b61ad1d0",
   "metadata": {},
   "source": [
    "## Initialization"
   ]
  },
  {
   "cell_type": "markdown",
   "id": "d70f0d54",
   "metadata": {},
   "source": [
    "### TreeValue's Initialization"
   ]
  },
  {
   "cell_type": "code",
   "execution_count": 14,
   "id": "d32a679b",
   "metadata": {
    "execution": {
     "iopub.execute_input": "2023-03-06T17:44:01.437699Z",
     "iopub.status.busy": "2023-03-06T17:44:01.437018Z",
     "iopub.status.idle": "2023-03-06T17:44:08.266223Z",
     "shell.execute_reply": "2023-03-06T17:44:08.265546Z"
    }
   },
   "outputs": [
    {
     "name": "stdout",
     "output_type": "stream",
     "text": [
      "841 ns ± 0.156 ns per loop (mean ± std. dev. of 7 runs, 1,000,000 loops each)\n"
     ]
    }
   ],
   "source": [
    "%timeit FastTreeValue(_TREE_DATA_1)"
   ]
  },
  {
   "cell_type": "markdown",
   "id": "24f3707b",
   "metadata": {},
   "source": [
    "### Tianshou Batch's Initialization"
   ]
  },
  {
   "cell_type": "code",
   "execution_count": 15,
   "id": "ac3958df",
   "metadata": {
    "execution": {
     "iopub.execute_input": "2023-03-06T17:44:08.269356Z",
     "iopub.status.busy": "2023-03-06T17:44:08.268988Z",
     "iopub.status.idle": "2023-03-06T17:44:17.386687Z",
     "shell.execute_reply": "2023-03-06T17:44:17.385957Z"
    }
   },
   "outputs": [
    {
     "name": "stdout",
     "output_type": "stream",
     "text": [
      "11.2 µs ± 48.4 ns per loop (mean ± std. dev. of 7 runs, 100,000 loops each)\n"
     ]
    }
   ],
   "source": [
    "%timeit Batch(**_TREE_DATA_1)"
   ]
  },
  {
   "cell_type": "markdown",
   "id": "1ab82e2d",
   "metadata": {},
   "source": [
    "## Deep Copy Operation"
   ]
  },
  {
   "cell_type": "code",
   "execution_count": 16,
   "id": "210a9442",
   "metadata": {
    "execution": {
     "iopub.execute_input": "2023-03-06T17:44:17.389861Z",
     "iopub.status.busy": "2023-03-06T17:44:17.389500Z",
     "iopub.status.idle": "2023-03-06T17:44:17.393478Z",
     "shell.execute_reply": "2023-03-06T17:44:17.392866Z"
    }
   },
   "outputs": [],
   "source": [
    "import copy"
   ]
  },
  {
   "cell_type": "markdown",
   "id": "5a736274",
   "metadata": {},
   "source": [
    "### Deep Copy of TreeValue"
   ]
  },
  {
   "cell_type": "code",
   "execution_count": 17,
   "id": "f9bcadd6",
   "metadata": {
    "execution": {
     "iopub.execute_input": "2023-03-06T17:44:17.396356Z",
     "iopub.status.busy": "2023-03-06T17:44:17.396010Z",
     "iopub.status.idle": "2023-03-06T17:44:28.387707Z",
     "shell.execute_reply": "2023-03-06T17:44:28.387119Z"
    }
   },
   "outputs": [
    {
     "name": "stdout",
     "output_type": "stream",
     "text": [
      "135 µs ± 487 ns per loop (mean ± std. dev. of 7 runs, 10,000 loops each)\n"
     ]
    }
   ],
   "source": [
    "t3 = FastTreeValue(_TREE_DATA_3)\n",
    "%timeit copy.deepcopy(t3)"
   ]
  },
  {
   "cell_type": "markdown",
   "id": "bf8be7ea",
   "metadata": {},
   "source": [
    "### Deep Copy of Tianshou Batch"
   ]
  },
  {
   "cell_type": "code",
   "execution_count": 18,
   "id": "91998e6f",
   "metadata": {
    "execution": {
     "iopub.execute_input": "2023-03-06T17:44:28.391706Z",
     "iopub.status.busy": "2023-03-06T17:44:28.390726Z",
     "iopub.status.idle": "2023-03-06T17:44:39.601078Z",
     "shell.execute_reply": "2023-03-06T17:44:39.600478Z"
    }
   },
   "outputs": [
    {
     "name": "stdout",
     "output_type": "stream",
     "text": [
      "138 µs ± 621 ns per loop (mean ± std. dev. of 7 runs, 10,000 loops each)\n"
     ]
    }
   ],
   "source": [
    "b3 = Batch(**_TREE_DATA_3)\n",
    "%timeit copy.deepcopy(b3)"
   ]
  },
  {
   "cell_type": "markdown",
   "id": "223162fb",
   "metadata": {},
   "source": [
    "## Stack, Concat and Split Operation"
   ]
  },
  {
   "cell_type": "markdown",
   "id": "85fa4a73",
   "metadata": {},
   "source": [
    "### Performance of TreeValue"
   ]
  },
  {
   "cell_type": "code",
   "execution_count": 19,
   "id": "a0c2b697",
   "metadata": {
    "execution": {
     "iopub.execute_input": "2023-03-06T17:44:39.604683Z",
     "iopub.status.busy": "2023-03-06T17:44:39.603661Z",
     "iopub.status.idle": "2023-03-06T17:44:39.607553Z",
     "shell.execute_reply": "2023-03-06T17:44:39.607016Z"
    }
   },
   "outputs": [],
   "source": [
    "trees = [FastTreeValue(_TREE_DATA_2) for _ in range(8)]"
   ]
  },
  {
   "cell_type": "code",
   "execution_count": 20,
   "id": "017ea5a5",
   "metadata": {
    "execution": {
     "iopub.execute_input": "2023-03-06T17:44:39.610101Z",
     "iopub.status.busy": "2023-03-06T17:44:39.609665Z",
     "iopub.status.idle": "2023-03-06T17:44:39.616671Z",
     "shell.execute_reply": "2023-03-06T17:44:39.616153Z"
    }
   },
   "outputs": [
    {
     "data": {
      "text/plain": [
       "<FastTreeValue 0x7f62ef653940>\n",
       "├── 'a' --> tensor([[[-0.9464,  0.9640,  0.8989],\n",
       "│                    [ 0.4228,  0.6007, -0.1570]],\n",
       "│           \n",
       "│                   [[-0.9464,  0.9640,  0.8989],\n",
       "│                    [ 0.4228,  0.6007, -0.1570]],\n",
       "│           \n",
       "│                   [[-0.9464,  0.9640,  0.8989],\n",
       "│                    [ 0.4228,  0.6007, -0.1570]],\n",
       "│           \n",
       "│                   [[-0.9464,  0.9640,  0.8989],\n",
       "│                    [ 0.4228,  0.6007, -0.1570]],\n",
       "│           \n",
       "│                   [[-0.9464,  0.9640,  0.8989],\n",
       "│                    [ 0.4228,  0.6007, -0.1570]],\n",
       "│           \n",
       "│                   [[-0.9464,  0.9640,  0.8989],\n",
       "│                    [ 0.4228,  0.6007, -0.1570]],\n",
       "│           \n",
       "│                   [[-0.9464,  0.9640,  0.8989],\n",
       "│                    [ 0.4228,  0.6007, -0.1570]],\n",
       "│           \n",
       "│                   [[-0.9464,  0.9640,  0.8989],\n",
       "│                    [ 0.4228,  0.6007, -0.1570]]])\n",
       "└── 'x' --> <FastTreeValue 0x7f62ef653d90>\n",
       "    └── 'c' --> tensor([[[ 0.4176, -0.1874, -0.3293,  1.0707],\n",
       "                         [-1.7001, -0.1163,  2.1946, -0.4024],\n",
       "                         [ 0.2964, -1.1194, -0.7314, -2.1851]],\n",
       "                \n",
       "                        [[ 0.4176, -0.1874, -0.3293,  1.0707],\n",
       "                         [-1.7001, -0.1163,  2.1946, -0.4024],\n",
       "                         [ 0.2964, -1.1194, -0.7314, -2.1851]],\n",
       "                \n",
       "                        [[ 0.4176, -0.1874, -0.3293,  1.0707],\n",
       "                         [-1.7001, -0.1163,  2.1946, -0.4024],\n",
       "                         [ 0.2964, -1.1194, -0.7314, -2.1851]],\n",
       "                \n",
       "                        [[ 0.4176, -0.1874, -0.3293,  1.0707],\n",
       "                         [-1.7001, -0.1163,  2.1946, -0.4024],\n",
       "                         [ 0.2964, -1.1194, -0.7314, -2.1851]],\n",
       "                \n",
       "                        [[ 0.4176, -0.1874, -0.3293,  1.0707],\n",
       "                         [-1.7001, -0.1163,  2.1946, -0.4024],\n",
       "                         [ 0.2964, -1.1194, -0.7314, -2.1851]],\n",
       "                \n",
       "                        [[ 0.4176, -0.1874, -0.3293,  1.0707],\n",
       "                         [-1.7001, -0.1163,  2.1946, -0.4024],\n",
       "                         [ 0.2964, -1.1194, -0.7314, -2.1851]],\n",
       "                \n",
       "                        [[ 0.4176, -0.1874, -0.3293,  1.0707],\n",
       "                         [-1.7001, -0.1163,  2.1946, -0.4024],\n",
       "                         [ 0.2964, -1.1194, -0.7314, -2.1851]],\n",
       "                \n",
       "                        [[ 0.4176, -0.1874, -0.3293,  1.0707],\n",
       "                         [-1.7001, -0.1163,  2.1946, -0.4024],\n",
       "                         [ 0.2964, -1.1194, -0.7314, -2.1851]]])"
      ]
     },
     "execution_count": 20,
     "metadata": {},
     "output_type": "execute_result"
    }
   ],
   "source": [
    "t_stack = FastTreeValue.func(subside=True)(torch.stack)\n",
    "\n",
    "t_stack(trees)"
   ]
  },
  {
   "cell_type": "code",
   "execution_count": 21,
   "id": "f8b3f415",
   "metadata": {
    "execution": {
     "iopub.execute_input": "2023-03-06T17:44:39.619184Z",
     "iopub.status.busy": "2023-03-06T17:44:39.618781Z",
     "iopub.status.idle": "2023-03-06T17:44:42.271740Z",
     "shell.execute_reply": "2023-03-06T17:44:42.270991Z"
    }
   },
   "outputs": [
    {
     "name": "stdout",
     "output_type": "stream",
     "text": [
      "32.6 µs ± 645 ns per loop (mean ± std. dev. of 7 runs, 10,000 loops each)\n"
     ]
    }
   ],
   "source": [
    "%timeit t_stack(trees)"
   ]
  },
  {
   "cell_type": "code",
   "execution_count": 22,
   "id": "94b56771",
   "metadata": {
    "execution": {
     "iopub.execute_input": "2023-03-06T17:44:42.274786Z",
     "iopub.status.busy": "2023-03-06T17:44:42.274246Z",
     "iopub.status.idle": "2023-03-06T17:44:42.281377Z",
     "shell.execute_reply": "2023-03-06T17:44:42.280729Z"
    }
   },
   "outputs": [
    {
     "data": {
      "text/plain": [
       "<FastTreeValue 0x7f639ea72be0>\n",
       "├── 'a' --> tensor([[-0.9464,  0.9640,  0.8989],\n",
       "│                   [ 0.4228,  0.6007, -0.1570],\n",
       "│                   [-0.9464,  0.9640,  0.8989],\n",
       "│                   [ 0.4228,  0.6007, -0.1570],\n",
       "│                   [-0.9464,  0.9640,  0.8989],\n",
       "│                   [ 0.4228,  0.6007, -0.1570],\n",
       "│                   [-0.9464,  0.9640,  0.8989],\n",
       "│                   [ 0.4228,  0.6007, -0.1570],\n",
       "│                   [-0.9464,  0.9640,  0.8989],\n",
       "│                   [ 0.4228,  0.6007, -0.1570],\n",
       "│                   [-0.9464,  0.9640,  0.8989],\n",
       "│                   [ 0.4228,  0.6007, -0.1570],\n",
       "│                   [-0.9464,  0.9640,  0.8989],\n",
       "│                   [ 0.4228,  0.6007, -0.1570],\n",
       "│                   [-0.9464,  0.9640,  0.8989],\n",
       "│                   [ 0.4228,  0.6007, -0.1570]])\n",
       "└── 'x' --> <FastTreeValue 0x7f639ea72130>\n",
       "    └── 'c' --> tensor([[ 0.4176, -0.1874, -0.3293,  1.0707],\n",
       "                        [-1.7001, -0.1163,  2.1946, -0.4024],\n",
       "                        [ 0.2964, -1.1194, -0.7314, -2.1851],\n",
       "                        [ 0.4176, -0.1874, -0.3293,  1.0707],\n",
       "                        [-1.7001, -0.1163,  2.1946, -0.4024],\n",
       "                        [ 0.2964, -1.1194, -0.7314, -2.1851],\n",
       "                        [ 0.4176, -0.1874, -0.3293,  1.0707],\n",
       "                        [-1.7001, -0.1163,  2.1946, -0.4024],\n",
       "                        [ 0.2964, -1.1194, -0.7314, -2.1851],\n",
       "                        [ 0.4176, -0.1874, -0.3293,  1.0707],\n",
       "                        [-1.7001, -0.1163,  2.1946, -0.4024],\n",
       "                        [ 0.2964, -1.1194, -0.7314, -2.1851],\n",
       "                        [ 0.4176, -0.1874, -0.3293,  1.0707],\n",
       "                        [-1.7001, -0.1163,  2.1946, -0.4024],\n",
       "                        [ 0.2964, -1.1194, -0.7314, -2.1851],\n",
       "                        [ 0.4176, -0.1874, -0.3293,  1.0707],\n",
       "                        [-1.7001, -0.1163,  2.1946, -0.4024],\n",
       "                        [ 0.2964, -1.1194, -0.7314, -2.1851],\n",
       "                        [ 0.4176, -0.1874, -0.3293,  1.0707],\n",
       "                        [-1.7001, -0.1163,  2.1946, -0.4024],\n",
       "                        [ 0.2964, -1.1194, -0.7314, -2.1851],\n",
       "                        [ 0.4176, -0.1874, -0.3293,  1.0707],\n",
       "                        [-1.7001, -0.1163,  2.1946, -0.4024],\n",
       "                        [ 0.2964, -1.1194, -0.7314, -2.1851]])"
      ]
     },
     "execution_count": 22,
     "metadata": {},
     "output_type": "execute_result"
    }
   ],
   "source": [
    "t_cat = FastTreeValue.func(subside=True)(torch.cat)\n",
    "\n",
    "t_cat(trees)"
   ]
  },
  {
   "cell_type": "code",
   "execution_count": 23,
   "id": "5e9c06a6",
   "metadata": {
    "execution": {
     "iopub.execute_input": "2023-03-06T17:44:42.284449Z",
     "iopub.status.busy": "2023-03-06T17:44:42.283949Z",
     "iopub.status.idle": "2023-03-06T17:44:44.751895Z",
     "shell.execute_reply": "2023-03-06T17:44:44.751153Z"
    }
   },
   "outputs": [
    {
     "name": "stdout",
     "output_type": "stream",
     "text": [
      "30.4 µs ± 53.9 ns per loop (mean ± std. dev. of 7 runs, 10,000 loops each)\n"
     ]
    }
   ],
   "source": [
    "%timeit t_cat(trees)"
   ]
  },
  {
   "cell_type": "code",
   "execution_count": 24,
   "id": "a3ab5c8f",
   "metadata": {
    "execution": {
     "iopub.execute_input": "2023-03-06T17:44:44.755213Z",
     "iopub.status.busy": "2023-03-06T17:44:44.754618Z",
     "iopub.status.idle": "2023-03-06T17:44:49.539982Z",
     "shell.execute_reply": "2023-03-06T17:44:49.539386Z"
    }
   },
   "outputs": [
    {
     "name": "stdout",
     "output_type": "stream",
     "text": [
      "58.8 µs ± 68 ns per loop (mean ± std. dev. of 7 runs, 10,000 loops each)\n"
     ]
    }
   ],
   "source": [
    "t_split = FastTreeValue.func(rise=True)(torch.split)\n",
    "tree = FastTreeValue({\n",
    "    'obs': torch.randn(8, 4, 84, 84),\n",
    "    'action': torch.randint(0, 6, size=(8, 1,)),\n",
    "    'reward': torch.rand(8, 1),\n",
    "})\n",
    "\n",
    "%timeit t_split(tree, 1)"
   ]
  },
  {
   "cell_type": "markdown",
   "id": "31c3ec0b",
   "metadata": {},
   "source": [
    "### Performance of Tianshou Batch"
   ]
  },
  {
   "cell_type": "code",
   "execution_count": 25,
   "id": "9ead828a",
   "metadata": {
    "execution": {
     "iopub.execute_input": "2023-03-06T17:44:49.543123Z",
     "iopub.status.busy": "2023-03-06T17:44:49.542414Z",
     "iopub.status.idle": "2023-03-06T17:44:49.549903Z",
     "shell.execute_reply": "2023-03-06T17:44:49.549251Z"
    }
   },
   "outputs": [
    {
     "data": {
      "text/plain": [
       "Batch(\n",
       "    a: tensor([[[-0.9464,  0.9640,  0.8989],\n",
       "                [ 0.4228,  0.6007, -0.1570]],\n",
       "       \n",
       "               [[-0.9464,  0.9640,  0.8989],\n",
       "                [ 0.4228,  0.6007, -0.1570]],\n",
       "       \n",
       "               [[-0.9464,  0.9640,  0.8989],\n",
       "                [ 0.4228,  0.6007, -0.1570]],\n",
       "       \n",
       "               [[-0.9464,  0.9640,  0.8989],\n",
       "                [ 0.4228,  0.6007, -0.1570]],\n",
       "       \n",
       "               [[-0.9464,  0.9640,  0.8989],\n",
       "                [ 0.4228,  0.6007, -0.1570]],\n",
       "       \n",
       "               [[-0.9464,  0.9640,  0.8989],\n",
       "                [ 0.4228,  0.6007, -0.1570]],\n",
       "       \n",
       "               [[-0.9464,  0.9640,  0.8989],\n",
       "                [ 0.4228,  0.6007, -0.1570]],\n",
       "       \n",
       "               [[-0.9464,  0.9640,  0.8989],\n",
       "                [ 0.4228,  0.6007, -0.1570]]]),\n",
       "    x: Batch(\n",
       "           c: tensor([[[ 0.4176, -0.1874, -0.3293,  1.0707],\n",
       "                       [-1.7001, -0.1163,  2.1946, -0.4024],\n",
       "                       [ 0.2964, -1.1194, -0.7314, -2.1851]],\n",
       "              \n",
       "                      [[ 0.4176, -0.1874, -0.3293,  1.0707],\n",
       "                       [-1.7001, -0.1163,  2.1946, -0.4024],\n",
       "                       [ 0.2964, -1.1194, -0.7314, -2.1851]],\n",
       "              \n",
       "                      [[ 0.4176, -0.1874, -0.3293,  1.0707],\n",
       "                       [-1.7001, -0.1163,  2.1946, -0.4024],\n",
       "                       [ 0.2964, -1.1194, -0.7314, -2.1851]],\n",
       "              \n",
       "                      [[ 0.4176, -0.1874, -0.3293,  1.0707],\n",
       "                       [-1.7001, -0.1163,  2.1946, -0.4024],\n",
       "                       [ 0.2964, -1.1194, -0.7314, -2.1851]],\n",
       "              \n",
       "                      [[ 0.4176, -0.1874, -0.3293,  1.0707],\n",
       "                       [-1.7001, -0.1163,  2.1946, -0.4024],\n",
       "                       [ 0.2964, -1.1194, -0.7314, -2.1851]],\n",
       "              \n",
       "                      [[ 0.4176, -0.1874, -0.3293,  1.0707],\n",
       "                       [-1.7001, -0.1163,  2.1946, -0.4024],\n",
       "                       [ 0.2964, -1.1194, -0.7314, -2.1851]],\n",
       "              \n",
       "                      [[ 0.4176, -0.1874, -0.3293,  1.0707],\n",
       "                       [-1.7001, -0.1163,  2.1946, -0.4024],\n",
       "                       [ 0.2964, -1.1194, -0.7314, -2.1851]],\n",
       "              \n",
       "                      [[ 0.4176, -0.1874, -0.3293,  1.0707],\n",
       "                       [-1.7001, -0.1163,  2.1946, -0.4024],\n",
       "                       [ 0.2964, -1.1194, -0.7314, -2.1851]]]),\n",
       "       ),\n",
       ")"
      ]
     },
     "execution_count": 25,
     "metadata": {},
     "output_type": "execute_result"
    }
   ],
   "source": [
    "batches = [Batch(**_TREE_DATA_2) for _ in range(8)]\n",
    "\n",
    "Batch.stack(batches)"
   ]
  },
  {
   "cell_type": "code",
   "execution_count": 26,
   "id": "ec9037a3",
   "metadata": {
    "execution": {
     "iopub.execute_input": "2023-03-06T17:44:49.552732Z",
     "iopub.status.busy": "2023-03-06T17:44:49.552079Z",
     "iopub.status.idle": "2023-03-06T17:44:55.874002Z",
     "shell.execute_reply": "2023-03-06T17:44:55.873264Z"
    }
   },
   "outputs": [
    {
     "name": "stdout",
     "output_type": "stream",
     "text": [
      "77.8 µs ± 65.2 ns per loop (mean ± std. dev. of 7 runs, 10,000 loops each)\n"
     ]
    }
   ],
   "source": [
    "%timeit Batch.stack(batches)"
   ]
  },
  {
   "cell_type": "code",
   "execution_count": 27,
   "id": "cb8ab77e",
   "metadata": {
    "execution": {
     "iopub.execute_input": "2023-03-06T17:44:55.877342Z",
     "iopub.status.busy": "2023-03-06T17:44:55.876663Z",
     "iopub.status.idle": "2023-03-06T17:44:55.884447Z",
     "shell.execute_reply": "2023-03-06T17:44:55.883829Z"
    }
   },
   "outputs": [
    {
     "data": {
      "text/plain": [
       "Batch(\n",
       "    a: tensor([[-0.9464,  0.9640,  0.8989],\n",
       "               [ 0.4228,  0.6007, -0.1570],\n",
       "               [-0.9464,  0.9640,  0.8989],\n",
       "               [ 0.4228,  0.6007, -0.1570],\n",
       "               [-0.9464,  0.9640,  0.8989],\n",
       "               [ 0.4228,  0.6007, -0.1570],\n",
       "               [-0.9464,  0.9640,  0.8989],\n",
       "               [ 0.4228,  0.6007, -0.1570],\n",
       "               [-0.9464,  0.9640,  0.8989],\n",
       "               [ 0.4228,  0.6007, -0.1570],\n",
       "               [-0.9464,  0.9640,  0.8989],\n",
       "               [ 0.4228,  0.6007, -0.1570],\n",
       "               [-0.9464,  0.9640,  0.8989],\n",
       "               [ 0.4228,  0.6007, -0.1570],\n",
       "               [-0.9464,  0.9640,  0.8989],\n",
       "               [ 0.4228,  0.6007, -0.1570]]),\n",
       "    x: Batch(\n",
       "           c: tensor([[ 0.4176, -0.1874, -0.3293,  1.0707],\n",
       "                      [-1.7001, -0.1163,  2.1946, -0.4024],\n",
       "                      [ 0.2964, -1.1194, -0.7314, -2.1851],\n",
       "                      [ 0.4176, -0.1874, -0.3293,  1.0707],\n",
       "                      [-1.7001, -0.1163,  2.1946, -0.4024],\n",
       "                      [ 0.2964, -1.1194, -0.7314, -2.1851],\n",
       "                      [ 0.4176, -0.1874, -0.3293,  1.0707],\n",
       "                      [-1.7001, -0.1163,  2.1946, -0.4024],\n",
       "                      [ 0.2964, -1.1194, -0.7314, -2.1851],\n",
       "                      [ 0.4176, -0.1874, -0.3293,  1.0707],\n",
       "                      [-1.7001, -0.1163,  2.1946, -0.4024],\n",
       "                      [ 0.2964, -1.1194, -0.7314, -2.1851],\n",
       "                      [ 0.4176, -0.1874, -0.3293,  1.0707],\n",
       "                      [-1.7001, -0.1163,  2.1946, -0.4024],\n",
       "                      [ 0.2964, -1.1194, -0.7314, -2.1851],\n",
       "                      [ 0.4176, -0.1874, -0.3293,  1.0707],\n",
       "                      [-1.7001, -0.1163,  2.1946, -0.4024],\n",
       "                      [ 0.2964, -1.1194, -0.7314, -2.1851],\n",
       "                      [ 0.4176, -0.1874, -0.3293,  1.0707],\n",
       "                      [-1.7001, -0.1163,  2.1946, -0.4024],\n",
       "                      [ 0.2964, -1.1194, -0.7314, -2.1851],\n",
       "                      [ 0.4176, -0.1874, -0.3293,  1.0707],\n",
       "                      [-1.7001, -0.1163,  2.1946, -0.4024],\n",
       "                      [ 0.2964, -1.1194, -0.7314, -2.1851]]),\n",
       "       ),\n",
       ")"
      ]
     },
     "execution_count": 27,
     "metadata": {},
     "output_type": "execute_result"
    }
   ],
   "source": [
    "Batch.cat(batches)"
   ]
  },
  {
   "cell_type": "code",
   "execution_count": 28,
   "id": "18dfb045",
   "metadata": {
    "execution": {
     "iopub.execute_input": "2023-03-06T17:44:55.887095Z",
     "iopub.status.busy": "2023-03-06T17:44:55.886723Z",
     "iopub.status.idle": "2023-03-06T17:45:07.513672Z",
     "shell.execute_reply": "2023-03-06T17:45:07.509915Z"
    }
   },
   "outputs": [
    {
     "name": "stdout",
     "output_type": "stream",
     "text": [
      "143 µs ± 569 ns per loop (mean ± std. dev. of 7 runs, 10,000 loops each)\n"
     ]
    }
   ],
   "source": [
    "%timeit Batch.cat(batches)"
   ]
  },
  {
   "cell_type": "code",
   "execution_count": 29,
   "id": "c6688e51",
   "metadata": {
    "execution": {
     "iopub.execute_input": "2023-03-06T17:45:07.517150Z",
     "iopub.status.busy": "2023-03-06T17:45:07.516533Z",
     "iopub.status.idle": "2023-03-06T17:45:10.009635Z",
     "shell.execute_reply": "2023-03-06T17:45:10.009028Z"
    }
   },
   "outputs": [
    {
     "name": "stdout",
     "output_type": "stream",
     "text": [
      "306 µs ± 4.96 µs per loop (mean ± std. dev. of 7 runs, 1,000 loops each)\n"
     ]
    }
   ],
   "source": [
    "batch = Batch({\n",
    "    'obs': torch.randn(8, 4, 84, 84),\n",
    "    'action': torch.randint(0, 6, size=(8, 1,)),\n",
    "    'reward': torch.rand(8, 1)}\n",
    ")\n",
    "\n",
    "%timeit list(Batch.split(batch, 1, shuffle=False, merge_last=True))"
   ]
  },
  {
   "cell_type": "code",
   "execution_count": null,
   "id": "2539fbd9",
   "metadata": {},
   "outputs": [],
   "source": []
  }
 ],
 "metadata": {
  "kernelspec": {
   "display_name": "Python 3 (ipykernel)",
   "language": "python",
   "name": "python3"
  },
  "language_info": {
   "codemirror_mode": {
    "name": "ipython",
    "version": 3
   },
   "file_extension": ".py",
   "mimetype": "text/x-python",
   "name": "python",
   "nbconvert_exporter": "python",
   "pygments_lexer": "ipython3",
   "version": "3.8.16"
  }
 },
 "nbformat": 4,
 "nbformat_minor": 5
}
