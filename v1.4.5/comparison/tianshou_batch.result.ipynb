{
 "cells": [
  {
   "cell_type": "markdown",
   "id": "9d39d946",
   "metadata": {},
   "source": [
    "# Comparison Between TreeValue and Tianshou Batch"
   ]
  },
  {
   "cell_type": "markdown",
   "id": "3c6db2d4",
   "metadata": {},
   "source": [
    "In this section, we will take a look at the feature and performance of the [Tianshou Batch](https://github.com/thu-ml/tianshou) library, which is developed by Tsinghua Machine Learning Group."
   ]
  },
  {
   "cell_type": "markdown",
   "id": "069361b0",
   "metadata": {},
   "source": [
    "Before starting the comparison, let us define some thing."
   ]
  },
  {
   "cell_type": "code",
   "execution_count": 1,
   "id": "06fc8d26",
   "metadata": {
    "execution": {
     "iopub.execute_input": "2023-08-11T09:44:04.736521Z",
     "iopub.status.busy": "2023-08-11T09:44:04.736174Z",
     "iopub.status.idle": "2023-08-11T09:44:06.544695Z",
     "shell.execute_reply": "2023-08-11T09:44:06.543475Z"
    }
   },
   "outputs": [],
   "source": [
    "import torch \n",
    "\n",
    "_TREE_DATA_1 = {'a': 1, 'b': 2, 'x': {'c': 3, 'd': 4}}\n",
    "_TREE_DATA_2 = {\n",
    "    'a': torch.randn(2, 3), \n",
    "    'x': {\n",
    "        'c': torch.randn(3, 4)\n",
    "    },\n",
    "}\n",
    "_TREE_DATA_3 = {\n",
    "    'obs': torch.randn(4, 84, 84),\n",
    "    'action': torch.randint(0, 6, size=(1,)),\n",
    "    'reward': torch.rand(1),\n",
    "}"
   ]
  },
  {
   "cell_type": "markdown",
   "id": "83461b25",
   "metadata": {},
   "source": [
    "## Read and Write Operation"
   ]
  },
  {
   "cell_type": "markdown",
   "id": "067b3f73",
   "metadata": {},
   "source": [
    "Reading and writing are the two most common operations in the tree data structure based on the data model (TreeValue and Tianshou Batch both belong to this type), so this section will compare the reading and writing performance of these two libraries."
   ]
  },
  {
   "cell_type": "markdown",
   "id": "5d09a5b7",
   "metadata": {},
   "source": [
    "### TreeValue's Get and Set"
   ]
  },
  {
   "cell_type": "code",
   "execution_count": 2,
   "id": "9519c4bb",
   "metadata": {
    "execution": {
     "iopub.execute_input": "2023-08-11T09:44:06.550754Z",
     "iopub.status.busy": "2023-08-11T09:44:06.549521Z",
     "iopub.status.idle": "2023-08-11T09:44:06.590400Z",
     "shell.execute_reply": "2023-08-11T09:44:06.589426Z"
    }
   },
   "outputs": [],
   "source": [
    "from treevalue import FastTreeValue\n",
    "\n",
    "t = FastTreeValue(_TREE_DATA_2)"
   ]
  },
  {
   "cell_type": "code",
   "execution_count": 3,
   "id": "11c37677",
   "metadata": {
    "execution": {
     "iopub.execute_input": "2023-08-11T09:44:06.594919Z",
     "iopub.status.busy": "2023-08-11T09:44:06.594461Z",
     "iopub.status.idle": "2023-08-11T09:44:06.606189Z",
     "shell.execute_reply": "2023-08-11T09:44:06.605026Z"
    }
   },
   "outputs": [
    {
     "data": {
      "text/plain": [
       "<FastTreeValue 0x7fbbf43c2370>\n",
       "├── 'a' --> tensor([[ 1.6972,  0.9094,  0.3213],\n",
       "│                   [-0.2175, -0.4795,  0.3210]])\n",
       "└── 'x' --> <FastTreeValue 0x7fbbf43c24c0>\n",
       "    └── 'c' --> tensor([[ 2.0242e-02, -3.2378e-01, -1.3066e+00,  2.3839e+00],\n",
       "                        [ 1.3147e-01,  4.1653e-01,  5.0101e-01,  1.4170e+00],\n",
       "                        [-1.2813e+00,  2.3267e+00, -1.2615e-03, -5.0658e-01]])"
      ]
     },
     "execution_count": 3,
     "metadata": {},
     "output_type": "execute_result"
    }
   ],
   "source": [
    "t"
   ]
  },
  {
   "cell_type": "code",
   "execution_count": 4,
   "id": "fd70b0b9",
   "metadata": {
    "execution": {
     "iopub.execute_input": "2023-08-11T09:44:06.611093Z",
     "iopub.status.busy": "2023-08-11T09:44:06.610802Z",
     "iopub.status.idle": "2023-08-11T09:44:06.617908Z",
     "shell.execute_reply": "2023-08-11T09:44:06.616972Z"
    }
   },
   "outputs": [
    {
     "data": {
      "text/plain": [
       "tensor([[ 1.6972,  0.9094,  0.3213],\n",
       "        [-0.2175, -0.4795,  0.3210]])"
      ]
     },
     "execution_count": 4,
     "metadata": {},
     "output_type": "execute_result"
    }
   ],
   "source": [
    "t.a"
   ]
  },
  {
   "cell_type": "code",
   "execution_count": 5,
   "id": "c18197bd",
   "metadata": {
    "execution": {
     "iopub.execute_input": "2023-08-11T09:44:06.623188Z",
     "iopub.status.busy": "2023-08-11T09:44:06.622913Z",
     "iopub.status.idle": "2023-08-11T09:44:12.898738Z",
     "shell.execute_reply": "2023-08-11T09:44:12.897639Z"
    }
   },
   "outputs": [
    {
     "name": "stdout",
     "output_type": "stream",
     "text": [
      "77.3 ns ± 0.918 ns per loop (mean ± std. dev. of 7 runs, 10,000,000 loops each)\n"
     ]
    }
   ],
   "source": [
    "%timeit t.a"
   ]
  },
  {
   "cell_type": "code",
   "execution_count": 6,
   "id": "bd52f867",
   "metadata": {
    "execution": {
     "iopub.execute_input": "2023-08-11T09:44:12.903096Z",
     "iopub.status.busy": "2023-08-11T09:44:12.902530Z",
     "iopub.status.idle": "2023-08-11T09:44:12.912071Z",
     "shell.execute_reply": "2023-08-11T09:44:12.911223Z"
    }
   },
   "outputs": [
    {
     "data": {
      "text/plain": [
       "<FastTreeValue 0x7fbbf43c2370>\n",
       "├── 'a' --> tensor([[-1.4968,  0.0285,  0.2799],\n",
       "│                   [-1.4032,  0.6922,  0.6504]])\n",
       "└── 'x' --> <FastTreeValue 0x7fbbf43c24c0>\n",
       "    └── 'c' --> tensor([[ 2.0242e-02, -3.2378e-01, -1.3066e+00,  2.3839e+00],\n",
       "                        [ 1.3147e-01,  4.1653e-01,  5.0101e-01,  1.4170e+00],\n",
       "                        [-1.2813e+00,  2.3267e+00, -1.2615e-03, -5.0658e-01]])"
      ]
     },
     "execution_count": 6,
     "metadata": {},
     "output_type": "execute_result"
    }
   ],
   "source": [
    "new_value = torch.randn(2, 3)\n",
    "t.a = new_value\n",
    "\n",
    "t"
   ]
  },
  {
   "cell_type": "code",
   "execution_count": 7,
   "id": "bbe04d1c",
   "metadata": {
    "execution": {
     "iopub.execute_input": "2023-08-11T09:44:12.917166Z",
     "iopub.status.busy": "2023-08-11T09:44:12.916621Z",
     "iopub.status.idle": "2023-08-11T09:44:20.383973Z",
     "shell.execute_reply": "2023-08-11T09:44:20.382956Z"
    }
   },
   "outputs": [
    {
     "name": "stdout",
     "output_type": "stream",
     "text": [
      "92.7 ns ± 1.94 ns per loop (mean ± std. dev. of 7 runs, 10,000,000 loops each)\n"
     ]
    }
   ],
   "source": [
    "%timeit t.a = new_value"
   ]
  },
  {
   "cell_type": "markdown",
   "id": "48c49731",
   "metadata": {},
   "source": [
    "### Tianshou Batch's Get and Set"
   ]
  },
  {
   "cell_type": "code",
   "execution_count": 8,
   "id": "f1bb14c1",
   "metadata": {
    "execution": {
     "iopub.execute_input": "2023-08-11T09:44:20.388920Z",
     "iopub.status.busy": "2023-08-11T09:44:20.388320Z",
     "iopub.status.idle": "2023-08-11T09:44:20.919239Z",
     "shell.execute_reply": "2023-08-11T09:44:20.918074Z"
    }
   },
   "outputs": [],
   "source": [
    "from tianshou.data import Batch\n",
    "\n",
    "b = Batch(**_TREE_DATA_2)"
   ]
  },
  {
   "cell_type": "code",
   "execution_count": 9,
   "id": "cb0777c3",
   "metadata": {
    "execution": {
     "iopub.execute_input": "2023-08-11T09:44:20.925755Z",
     "iopub.status.busy": "2023-08-11T09:44:20.925041Z",
     "iopub.status.idle": "2023-08-11T09:44:20.935222Z",
     "shell.execute_reply": "2023-08-11T09:44:20.934116Z"
    }
   },
   "outputs": [
    {
     "data": {
      "text/plain": [
       "Batch(\n",
       "    a: tensor([[ 1.6972,  0.9094,  0.3213],\n",
       "               [-0.2175, -0.4795,  0.3210]]),\n",
       "    x: Batch(\n",
       "           c: tensor([[ 2.0242e-02, -3.2378e-01, -1.3066e+00,  2.3839e+00],\n",
       "                      [ 1.3147e-01,  4.1653e-01,  5.0101e-01,  1.4170e+00],\n",
       "                      [-1.2813e+00,  2.3267e+00, -1.2615e-03, -5.0658e-01]]),\n",
       "       ),\n",
       ")"
      ]
     },
     "execution_count": 9,
     "metadata": {},
     "output_type": "execute_result"
    }
   ],
   "source": [
    "b"
   ]
  },
  {
   "cell_type": "code",
   "execution_count": 10,
   "id": "43ef8ea3",
   "metadata": {
    "execution": {
     "iopub.execute_input": "2023-08-11T09:44:20.942889Z",
     "iopub.status.busy": "2023-08-11T09:44:20.940777Z",
     "iopub.status.idle": "2023-08-11T09:44:20.951029Z",
     "shell.execute_reply": "2023-08-11T09:44:20.949385Z"
    }
   },
   "outputs": [
    {
     "data": {
      "text/plain": [
       "tensor([[ 1.6972,  0.9094,  0.3213],\n",
       "        [-0.2175, -0.4795,  0.3210]])"
      ]
     },
     "execution_count": 10,
     "metadata": {},
     "output_type": "execute_result"
    }
   ],
   "source": [
    "b.a"
   ]
  },
  {
   "cell_type": "code",
   "execution_count": 11,
   "id": "b785ab72",
   "metadata": {
    "execution": {
     "iopub.execute_input": "2023-08-11T09:44:20.955435Z",
     "iopub.status.busy": "2023-08-11T09:44:20.955138Z",
     "iopub.status.idle": "2023-08-11T09:44:26.935476Z",
     "shell.execute_reply": "2023-08-11T09:44:26.934555Z"
    }
   },
   "outputs": [
    {
     "name": "stdout",
     "output_type": "stream",
     "text": [
      "73 ns ± 1.85 ns per loop (mean ± std. dev. of 7 runs, 10,000,000 loops each)\n"
     ]
    }
   ],
   "source": [
    "%timeit b.a"
   ]
  },
  {
   "cell_type": "code",
   "execution_count": 12,
   "id": "ad54dc69",
   "metadata": {
    "execution": {
     "iopub.execute_input": "2023-08-11T09:44:26.939930Z",
     "iopub.status.busy": "2023-08-11T09:44:26.938985Z",
     "iopub.status.idle": "2023-08-11T09:44:26.948083Z",
     "shell.execute_reply": "2023-08-11T09:44:26.947100Z"
    }
   },
   "outputs": [
    {
     "data": {
      "text/plain": [
       "Batch(\n",
       "    a: tensor([[ 0.1079,  0.2556, -1.3852],\n",
       "               [ 1.9806, -0.2393,  0.5683]]),\n",
       "    x: Batch(\n",
       "           c: tensor([[ 2.0242e-02, -3.2378e-01, -1.3066e+00,  2.3839e+00],\n",
       "                      [ 1.3147e-01,  4.1653e-01,  5.0101e-01,  1.4170e+00],\n",
       "                      [-1.2813e+00,  2.3267e+00, -1.2615e-03, -5.0658e-01]]),\n",
       "       ),\n",
       ")"
      ]
     },
     "execution_count": 12,
     "metadata": {},
     "output_type": "execute_result"
    }
   ],
   "source": [
    "new_value = torch.randn(2, 3)\n",
    "b.a = new_value\n",
    "\n",
    "b"
   ]
  },
  {
   "cell_type": "code",
   "execution_count": 13,
   "id": "29b1d0bf",
   "metadata": {
    "execution": {
     "iopub.execute_input": "2023-08-11T09:44:26.952085Z",
     "iopub.status.busy": "2023-08-11T09:44:26.951645Z",
     "iopub.status.idle": "2023-08-11T09:44:32.371813Z",
     "shell.execute_reply": "2023-08-11T09:44:32.370890Z"
    }
   },
   "outputs": [
    {
     "name": "stdout",
     "output_type": "stream",
     "text": [
      "669 ns ± 16 ns per loop (mean ± std. dev. of 7 runs, 1,000,000 loops each)\n"
     ]
    }
   ],
   "source": [
    "%timeit b.a = new_value"
   ]
  },
  {
   "cell_type": "markdown",
   "id": "b61ad1d0",
   "metadata": {},
   "source": [
    "## Initialization"
   ]
  },
  {
   "cell_type": "markdown",
   "id": "d70f0d54",
   "metadata": {},
   "source": [
    "### TreeValue's Initialization"
   ]
  },
  {
   "cell_type": "code",
   "execution_count": 14,
   "id": "d32a679b",
   "metadata": {
    "execution": {
     "iopub.execute_input": "2023-08-11T09:44:32.377052Z",
     "iopub.status.busy": "2023-08-11T09:44:32.376055Z",
     "iopub.status.idle": "2023-08-11T09:44:41.219445Z",
     "shell.execute_reply": "2023-08-11T09:44:41.218612Z"
    }
   },
   "outputs": [
    {
     "name": "stdout",
     "output_type": "stream",
     "text": [
      "1.09 µs ± 38.5 ns per loop (mean ± std. dev. of 7 runs, 1,000,000 loops each)\n"
     ]
    }
   ],
   "source": [
    "%timeit FastTreeValue(_TREE_DATA_1)"
   ]
  },
  {
   "cell_type": "markdown",
   "id": "24f3707b",
   "metadata": {},
   "source": [
    "### Tianshou Batch's Initialization"
   ]
  },
  {
   "cell_type": "code",
   "execution_count": 15,
   "id": "ac3958df",
   "metadata": {
    "execution": {
     "iopub.execute_input": "2023-08-11T09:44:41.225639Z",
     "iopub.status.busy": "2023-08-11T09:44:41.223572Z",
     "iopub.status.idle": "2023-08-11T09:44:52.119434Z",
     "shell.execute_reply": "2023-08-11T09:44:52.118570Z"
    }
   },
   "outputs": [
    {
     "name": "stdout",
     "output_type": "stream",
     "text": [
      "13.4 µs ± 129 ns per loop (mean ± std. dev. of 7 runs, 100,000 loops each)\n"
     ]
    }
   ],
   "source": [
    "%timeit Batch(**_TREE_DATA_1)"
   ]
  },
  {
   "cell_type": "markdown",
   "id": "1ab82e2d",
   "metadata": {},
   "source": [
    "## Deep Copy Operation"
   ]
  },
  {
   "cell_type": "code",
   "execution_count": 16,
   "id": "210a9442",
   "metadata": {
    "execution": {
     "iopub.execute_input": "2023-08-11T09:44:52.125466Z",
     "iopub.status.busy": "2023-08-11T09:44:52.124552Z",
     "iopub.status.idle": "2023-08-11T09:44:52.129235Z",
     "shell.execute_reply": "2023-08-11T09:44:52.128345Z"
    }
   },
   "outputs": [],
   "source": [
    "import copy"
   ]
  },
  {
   "cell_type": "markdown",
   "id": "5a736274",
   "metadata": {},
   "source": [
    "### Deep Copy of TreeValue"
   ]
  },
  {
   "cell_type": "code",
   "execution_count": 17,
   "id": "f9bcadd6",
   "metadata": {
    "execution": {
     "iopub.execute_input": "2023-08-11T09:44:52.133727Z",
     "iopub.status.busy": "2023-08-11T09:44:52.133216Z",
     "iopub.status.idle": "2023-08-11T09:44:54.387139Z",
     "shell.execute_reply": "2023-08-11T09:44:54.386211Z"
    }
   },
   "outputs": [
    {
     "name": "stdout",
     "output_type": "stream",
     "text": [
      "276 µs ± 10.3 µs per loop (mean ± std. dev. of 7 runs, 1,000 loops each)\n"
     ]
    }
   ],
   "source": [
    "t3 = FastTreeValue(_TREE_DATA_3)\n",
    "%timeit copy.deepcopy(t3)"
   ]
  },
  {
   "cell_type": "markdown",
   "id": "bf8be7ea",
   "metadata": {},
   "source": [
    "### Deep Copy of Tianshou Batch"
   ]
  },
  {
   "cell_type": "code",
   "execution_count": 18,
   "id": "91998e6f",
   "metadata": {
    "execution": {
     "iopub.execute_input": "2023-08-11T09:44:54.391938Z",
     "iopub.status.busy": "2023-08-11T09:44:54.391359Z",
     "iopub.status.idle": "2023-08-11T09:44:56.516488Z",
     "shell.execute_reply": "2023-08-11T09:44:56.515337Z"
    }
   },
   "outputs": [
    {
     "name": "stdout",
     "output_type": "stream",
     "text": [
      "261 µs ± 9.3 µs per loop (mean ± std. dev. of 7 runs, 1,000 loops each)\n"
     ]
    }
   ],
   "source": [
    "b3 = Batch(**_TREE_DATA_3)\n",
    "%timeit copy.deepcopy(b3)"
   ]
  },
  {
   "cell_type": "markdown",
   "id": "223162fb",
   "metadata": {},
   "source": [
    "## Stack, Concat and Split Operation"
   ]
  },
  {
   "cell_type": "markdown",
   "id": "85fa4a73",
   "metadata": {},
   "source": [
    "### Performance of TreeValue"
   ]
  },
  {
   "cell_type": "code",
   "execution_count": 19,
   "id": "a0c2b697",
   "metadata": {
    "execution": {
     "iopub.execute_input": "2023-08-11T09:44:56.521005Z",
     "iopub.status.busy": "2023-08-11T09:44:56.520387Z",
     "iopub.status.idle": "2023-08-11T09:44:56.527176Z",
     "shell.execute_reply": "2023-08-11T09:44:56.526156Z"
    }
   },
   "outputs": [],
   "source": [
    "trees = [FastTreeValue(_TREE_DATA_2) for _ in range(8)]"
   ]
  },
  {
   "cell_type": "code",
   "execution_count": 20,
   "id": "017ea5a5",
   "metadata": {
    "execution": {
     "iopub.execute_input": "2023-08-11T09:44:56.530427Z",
     "iopub.status.busy": "2023-08-11T09:44:56.530153Z",
     "iopub.status.idle": "2023-08-11T09:44:56.540649Z",
     "shell.execute_reply": "2023-08-11T09:44:56.539680Z"
    }
   },
   "outputs": [
    {
     "data": {
      "text/plain": [
       "<FastTreeValue 0x7fbb31761730>\n",
       "├── 'a' --> tensor([[[ 1.6972,  0.9094,  0.3213],\n",
       "│                    [-0.2175, -0.4795,  0.3210]],\n",
       "│           \n",
       "│                   [[ 1.6972,  0.9094,  0.3213],\n",
       "│                    [-0.2175, -0.4795,  0.3210]],\n",
       "│           \n",
       "│                   [[ 1.6972,  0.9094,  0.3213],\n",
       "│                    [-0.2175, -0.4795,  0.3210]],\n",
       "│           \n",
       "│                   [[ 1.6972,  0.9094,  0.3213],\n",
       "│                    [-0.2175, -0.4795,  0.3210]],\n",
       "│           \n",
       "│                   [[ 1.6972,  0.9094,  0.3213],\n",
       "│                    [-0.2175, -0.4795,  0.3210]],\n",
       "│           \n",
       "│                   [[ 1.6972,  0.9094,  0.3213],\n",
       "│                    [-0.2175, -0.4795,  0.3210]],\n",
       "│           \n",
       "│                   [[ 1.6972,  0.9094,  0.3213],\n",
       "│                    [-0.2175, -0.4795,  0.3210]],\n",
       "│           \n",
       "│                   [[ 1.6972,  0.9094,  0.3213],\n",
       "│                    [-0.2175, -0.4795,  0.3210]]])\n",
       "└── 'x' --> <FastTreeValue 0x7fbbf93d8610>\n",
       "    └── 'c' --> tensor([[[ 2.0242e-02, -3.2378e-01, -1.3066e+00,  2.3839e+00],\n",
       "                         [ 1.3147e-01,  4.1653e-01,  5.0101e-01,  1.4170e+00],\n",
       "                         [-1.2813e+00,  2.3267e+00, -1.2615e-03, -5.0658e-01]],\n",
       "                \n",
       "                        [[ 2.0242e-02, -3.2378e-01, -1.3066e+00,  2.3839e+00],\n",
       "                         [ 1.3147e-01,  4.1653e-01,  5.0101e-01,  1.4170e+00],\n",
       "                         [-1.2813e+00,  2.3267e+00, -1.2615e-03, -5.0658e-01]],\n",
       "                \n",
       "                        [[ 2.0242e-02, -3.2378e-01, -1.3066e+00,  2.3839e+00],\n",
       "                         [ 1.3147e-01,  4.1653e-01,  5.0101e-01,  1.4170e+00],\n",
       "                         [-1.2813e+00,  2.3267e+00, -1.2615e-03, -5.0658e-01]],\n",
       "                \n",
       "                        [[ 2.0242e-02, -3.2378e-01, -1.3066e+00,  2.3839e+00],\n",
       "                         [ 1.3147e-01,  4.1653e-01,  5.0101e-01,  1.4170e+00],\n",
       "                         [-1.2813e+00,  2.3267e+00, -1.2615e-03, -5.0658e-01]],\n",
       "                \n",
       "                        [[ 2.0242e-02, -3.2378e-01, -1.3066e+00,  2.3839e+00],\n",
       "                         [ 1.3147e-01,  4.1653e-01,  5.0101e-01,  1.4170e+00],\n",
       "                         [-1.2813e+00,  2.3267e+00, -1.2615e-03, -5.0658e-01]],\n",
       "                \n",
       "                        [[ 2.0242e-02, -3.2378e-01, -1.3066e+00,  2.3839e+00],\n",
       "                         [ 1.3147e-01,  4.1653e-01,  5.0101e-01,  1.4170e+00],\n",
       "                         [-1.2813e+00,  2.3267e+00, -1.2615e-03, -5.0658e-01]],\n",
       "                \n",
       "                        [[ 2.0242e-02, -3.2378e-01, -1.3066e+00,  2.3839e+00],\n",
       "                         [ 1.3147e-01,  4.1653e-01,  5.0101e-01,  1.4170e+00],\n",
       "                         [-1.2813e+00,  2.3267e+00, -1.2615e-03, -5.0658e-01]],\n",
       "                \n",
       "                        [[ 2.0242e-02, -3.2378e-01, -1.3066e+00,  2.3839e+00],\n",
       "                         [ 1.3147e-01,  4.1653e-01,  5.0101e-01,  1.4170e+00],\n",
       "                         [-1.2813e+00,  2.3267e+00, -1.2615e-03, -5.0658e-01]]])"
      ]
     },
     "execution_count": 20,
     "metadata": {},
     "output_type": "execute_result"
    }
   ],
   "source": [
    "t_stack = FastTreeValue.func(subside=True)(torch.stack)\n",
    "\n",
    "t_stack(trees)"
   ]
  },
  {
   "cell_type": "code",
   "execution_count": 21,
   "id": "f8b3f415",
   "metadata": {
    "execution": {
     "iopub.execute_input": "2023-08-11T09:44:56.544579Z",
     "iopub.status.busy": "2023-08-11T09:44:56.544079Z",
     "iopub.status.idle": "2023-08-11T09:45:00.293333Z",
     "shell.execute_reply": "2023-08-11T09:45:00.292378Z"
    }
   },
   "outputs": [
    {
     "name": "stdout",
     "output_type": "stream",
     "text": [
      "46.3 µs ± 1.22 µs per loop (mean ± std. dev. of 7 runs, 10,000 loops each)\n"
     ]
    }
   ],
   "source": [
    "%timeit t_stack(trees)"
   ]
  },
  {
   "cell_type": "code",
   "execution_count": 22,
   "id": "94b56771",
   "metadata": {
    "execution": {
     "iopub.execute_input": "2023-08-11T09:45:00.298142Z",
     "iopub.status.busy": "2023-08-11T09:45:00.297106Z",
     "iopub.status.idle": "2023-08-11T09:45:00.307891Z",
     "shell.execute_reply": "2023-08-11T09:45:00.306871Z"
    }
   },
   "outputs": [
    {
     "data": {
      "text/plain": [
       "<FastTreeValue 0x7fbb31761cd0>\n",
       "├── 'a' --> tensor([[ 1.6972,  0.9094,  0.3213],\n",
       "│                   [-0.2175, -0.4795,  0.3210],\n",
       "│                   [ 1.6972,  0.9094,  0.3213],\n",
       "│                   [-0.2175, -0.4795,  0.3210],\n",
       "│                   [ 1.6972,  0.9094,  0.3213],\n",
       "│                   [-0.2175, -0.4795,  0.3210],\n",
       "│                   [ 1.6972,  0.9094,  0.3213],\n",
       "│                   [-0.2175, -0.4795,  0.3210],\n",
       "│                   [ 1.6972,  0.9094,  0.3213],\n",
       "│                   [-0.2175, -0.4795,  0.3210],\n",
       "│                   [ 1.6972,  0.9094,  0.3213],\n",
       "│                   [-0.2175, -0.4795,  0.3210],\n",
       "│                   [ 1.6972,  0.9094,  0.3213],\n",
       "│                   [-0.2175, -0.4795,  0.3210],\n",
       "│                   [ 1.6972,  0.9094,  0.3213],\n",
       "│                   [-0.2175, -0.4795,  0.3210]])\n",
       "└── 'x' --> <FastTreeValue 0x7fbbf43c7fd0>\n",
       "    └── 'c' --> tensor([[ 2.0242e-02, -3.2378e-01, -1.3066e+00,  2.3839e+00],\n",
       "                        [ 1.3147e-01,  4.1653e-01,  5.0101e-01,  1.4170e+00],\n",
       "                        [-1.2813e+00,  2.3267e+00, -1.2615e-03, -5.0658e-01],\n",
       "                        [ 2.0242e-02, -3.2378e-01, -1.3066e+00,  2.3839e+00],\n",
       "                        [ 1.3147e-01,  4.1653e-01,  5.0101e-01,  1.4170e+00],\n",
       "                        [-1.2813e+00,  2.3267e+00, -1.2615e-03, -5.0658e-01],\n",
       "                        [ 2.0242e-02, -3.2378e-01, -1.3066e+00,  2.3839e+00],\n",
       "                        [ 1.3147e-01,  4.1653e-01,  5.0101e-01,  1.4170e+00],\n",
       "                        [-1.2813e+00,  2.3267e+00, -1.2615e-03, -5.0658e-01],\n",
       "                        [ 2.0242e-02, -3.2378e-01, -1.3066e+00,  2.3839e+00],\n",
       "                        [ 1.3147e-01,  4.1653e-01,  5.0101e-01,  1.4170e+00],\n",
       "                        [-1.2813e+00,  2.3267e+00, -1.2615e-03, -5.0658e-01],\n",
       "                        [ 2.0242e-02, -3.2378e-01, -1.3066e+00,  2.3839e+00],\n",
       "                        [ 1.3147e-01,  4.1653e-01,  5.0101e-01,  1.4170e+00],\n",
       "                        [-1.2813e+00,  2.3267e+00, -1.2615e-03, -5.0658e-01],\n",
       "                        [ 2.0242e-02, -3.2378e-01, -1.3066e+00,  2.3839e+00],\n",
       "                        [ 1.3147e-01,  4.1653e-01,  5.0101e-01,  1.4170e+00],\n",
       "                        [-1.2813e+00,  2.3267e+00, -1.2615e-03, -5.0658e-01],\n",
       "                        [ 2.0242e-02, -3.2378e-01, -1.3066e+00,  2.3839e+00],\n",
       "                        [ 1.3147e-01,  4.1653e-01,  5.0101e-01,  1.4170e+00],\n",
       "                        [-1.2813e+00,  2.3267e+00, -1.2615e-03, -5.0658e-01],\n",
       "                        [ 2.0242e-02, -3.2378e-01, -1.3066e+00,  2.3839e+00],\n",
       "                        [ 1.3147e-01,  4.1653e-01,  5.0101e-01,  1.4170e+00],\n",
       "                        [-1.2813e+00,  2.3267e+00, -1.2615e-03, -5.0658e-01]])"
      ]
     },
     "execution_count": 22,
     "metadata": {},
     "output_type": "execute_result"
    }
   ],
   "source": [
    "t_cat = FastTreeValue.func(subside=True)(torch.cat)\n",
    "\n",
    "t_cat(trees)"
   ]
  },
  {
   "cell_type": "code",
   "execution_count": 23,
   "id": "5e9c06a6",
   "metadata": {
    "execution": {
     "iopub.execute_input": "2023-08-11T09:45:00.312147Z",
     "iopub.status.busy": "2023-08-11T09:45:00.311579Z",
     "iopub.status.idle": "2023-08-11T09:45:03.847074Z",
     "shell.execute_reply": "2023-08-11T09:45:03.846050Z"
    }
   },
   "outputs": [
    {
     "name": "stdout",
     "output_type": "stream",
     "text": [
      "43.7 µs ± 508 ns per loop (mean ± std. dev. of 7 runs, 10,000 loops each)\n"
     ]
    }
   ],
   "source": [
    "%timeit t_cat(trees)"
   ]
  },
  {
   "cell_type": "code",
   "execution_count": 24,
   "id": "a3ab5c8f",
   "metadata": {
    "execution": {
     "iopub.execute_input": "2023-08-11T09:45:03.851789Z",
     "iopub.status.busy": "2023-08-11T09:45:03.851109Z",
     "iopub.status.idle": "2023-08-11T09:45:11.434627Z",
     "shell.execute_reply": "2023-08-11T09:45:11.433652Z"
    }
   },
   "outputs": [
    {
     "name": "stdout",
     "output_type": "stream",
     "text": [
      "93.3 µs ± 1.73 µs per loop (mean ± std. dev. of 7 runs, 10,000 loops each)\n"
     ]
    }
   ],
   "source": [
    "t_split = FastTreeValue.func(rise=True)(torch.split)\n",
    "tree = FastTreeValue({\n",
    "    'obs': torch.randn(8, 4, 84, 84),\n",
    "    'action': torch.randint(0, 6, size=(8, 1,)),\n",
    "    'reward': torch.rand(8, 1),\n",
    "})\n",
    "\n",
    "%timeit t_split(tree, 1)"
   ]
  },
  {
   "cell_type": "markdown",
   "id": "31c3ec0b",
   "metadata": {},
   "source": [
    "### Performance of Tianshou Batch"
   ]
  },
  {
   "cell_type": "code",
   "execution_count": 25,
   "id": "9ead828a",
   "metadata": {
    "execution": {
     "iopub.execute_input": "2023-08-11T09:45:11.440235Z",
     "iopub.status.busy": "2023-08-11T09:45:11.438423Z",
     "iopub.status.idle": "2023-08-11T09:45:11.450084Z",
     "shell.execute_reply": "2023-08-11T09:45:11.449072Z"
    }
   },
   "outputs": [
    {
     "data": {
      "text/plain": [
       "Batch(\n",
       "    x: Batch(\n",
       "           c: tensor([[[ 2.0242e-02, -3.2378e-01, -1.3066e+00,  2.3839e+00],\n",
       "                       [ 1.3147e-01,  4.1653e-01,  5.0101e-01,  1.4170e+00],\n",
       "                       [-1.2813e+00,  2.3267e+00, -1.2615e-03, -5.0658e-01]],\n",
       "              \n",
       "                      [[ 2.0242e-02, -3.2378e-01, -1.3066e+00,  2.3839e+00],\n",
       "                       [ 1.3147e-01,  4.1653e-01,  5.0101e-01,  1.4170e+00],\n",
       "                       [-1.2813e+00,  2.3267e+00, -1.2615e-03, -5.0658e-01]],\n",
       "              \n",
       "                      [[ 2.0242e-02, -3.2378e-01, -1.3066e+00,  2.3839e+00],\n",
       "                       [ 1.3147e-01,  4.1653e-01,  5.0101e-01,  1.4170e+00],\n",
       "                       [-1.2813e+00,  2.3267e+00, -1.2615e-03, -5.0658e-01]],\n",
       "              \n",
       "                      [[ 2.0242e-02, -3.2378e-01, -1.3066e+00,  2.3839e+00],\n",
       "                       [ 1.3147e-01,  4.1653e-01,  5.0101e-01,  1.4170e+00],\n",
       "                       [-1.2813e+00,  2.3267e+00, -1.2615e-03, -5.0658e-01]],\n",
       "              \n",
       "                      [[ 2.0242e-02, -3.2378e-01, -1.3066e+00,  2.3839e+00],\n",
       "                       [ 1.3147e-01,  4.1653e-01,  5.0101e-01,  1.4170e+00],\n",
       "                       [-1.2813e+00,  2.3267e+00, -1.2615e-03, -5.0658e-01]],\n",
       "              \n",
       "                      [[ 2.0242e-02, -3.2378e-01, -1.3066e+00,  2.3839e+00],\n",
       "                       [ 1.3147e-01,  4.1653e-01,  5.0101e-01,  1.4170e+00],\n",
       "                       [-1.2813e+00,  2.3267e+00, -1.2615e-03, -5.0658e-01]],\n",
       "              \n",
       "                      [[ 2.0242e-02, -3.2378e-01, -1.3066e+00,  2.3839e+00],\n",
       "                       [ 1.3147e-01,  4.1653e-01,  5.0101e-01,  1.4170e+00],\n",
       "                       [-1.2813e+00,  2.3267e+00, -1.2615e-03, -5.0658e-01]],\n",
       "              \n",
       "                      [[ 2.0242e-02, -3.2378e-01, -1.3066e+00,  2.3839e+00],\n",
       "                       [ 1.3147e-01,  4.1653e-01,  5.0101e-01,  1.4170e+00],\n",
       "                       [-1.2813e+00,  2.3267e+00, -1.2615e-03, -5.0658e-01]]]),\n",
       "       ),\n",
       "    a: tensor([[[ 1.6972,  0.9094,  0.3213],\n",
       "                [-0.2175, -0.4795,  0.3210]],\n",
       "       \n",
       "               [[ 1.6972,  0.9094,  0.3213],\n",
       "                [-0.2175, -0.4795,  0.3210]],\n",
       "       \n",
       "               [[ 1.6972,  0.9094,  0.3213],\n",
       "                [-0.2175, -0.4795,  0.3210]],\n",
       "       \n",
       "               [[ 1.6972,  0.9094,  0.3213],\n",
       "                [-0.2175, -0.4795,  0.3210]],\n",
       "       \n",
       "               [[ 1.6972,  0.9094,  0.3213],\n",
       "                [-0.2175, -0.4795,  0.3210]],\n",
       "       \n",
       "               [[ 1.6972,  0.9094,  0.3213],\n",
       "                [-0.2175, -0.4795,  0.3210]],\n",
       "       \n",
       "               [[ 1.6972,  0.9094,  0.3213],\n",
       "                [-0.2175, -0.4795,  0.3210]],\n",
       "       \n",
       "               [[ 1.6972,  0.9094,  0.3213],\n",
       "                [-0.2175, -0.4795,  0.3210]]]),\n",
       ")"
      ]
     },
     "execution_count": 25,
     "metadata": {},
     "output_type": "execute_result"
    }
   ],
   "source": [
    "batches = [Batch(**_TREE_DATA_2) for _ in range(8)]\n",
    "\n",
    "Batch.stack(batches)"
   ]
  },
  {
   "cell_type": "code",
   "execution_count": 26,
   "id": "ec9037a3",
   "metadata": {
    "execution": {
     "iopub.execute_input": "2023-08-11T09:45:11.454340Z",
     "iopub.status.busy": "2023-08-11T09:45:11.454001Z",
     "iopub.status.idle": "2023-08-11T09:45:20.177721Z",
     "shell.execute_reply": "2023-08-11T09:45:20.176769Z"
    }
   },
   "outputs": [
    {
     "name": "stdout",
     "output_type": "stream",
     "text": [
      "108 µs ± 1.27 µs per loop (mean ± std. dev. of 7 runs, 10,000 loops each)\n"
     ]
    }
   ],
   "source": [
    "%timeit Batch.stack(batches)"
   ]
  },
  {
   "cell_type": "code",
   "execution_count": 27,
   "id": "cb8ab77e",
   "metadata": {
    "execution": {
     "iopub.execute_input": "2023-08-11T09:45:20.182463Z",
     "iopub.status.busy": "2023-08-11T09:45:20.181707Z",
     "iopub.status.idle": "2023-08-11T09:45:20.192213Z",
     "shell.execute_reply": "2023-08-11T09:45:20.191107Z"
    }
   },
   "outputs": [
    {
     "data": {
      "text/plain": [
       "Batch(\n",
       "    x: Batch(\n",
       "           c: tensor([[ 2.0242e-02, -3.2378e-01, -1.3066e+00,  2.3839e+00],\n",
       "                      [ 1.3147e-01,  4.1653e-01,  5.0101e-01,  1.4170e+00],\n",
       "                      [-1.2813e+00,  2.3267e+00, -1.2615e-03, -5.0658e-01],\n",
       "                      [ 2.0242e-02, -3.2378e-01, -1.3066e+00,  2.3839e+00],\n",
       "                      [ 1.3147e-01,  4.1653e-01,  5.0101e-01,  1.4170e+00],\n",
       "                      [-1.2813e+00,  2.3267e+00, -1.2615e-03, -5.0658e-01],\n",
       "                      [ 2.0242e-02, -3.2378e-01, -1.3066e+00,  2.3839e+00],\n",
       "                      [ 1.3147e-01,  4.1653e-01,  5.0101e-01,  1.4170e+00],\n",
       "                      [-1.2813e+00,  2.3267e+00, -1.2615e-03, -5.0658e-01],\n",
       "                      [ 2.0242e-02, -3.2378e-01, -1.3066e+00,  2.3839e+00],\n",
       "                      [ 1.3147e-01,  4.1653e-01,  5.0101e-01,  1.4170e+00],\n",
       "                      [-1.2813e+00,  2.3267e+00, -1.2615e-03, -5.0658e-01],\n",
       "                      [ 2.0242e-02, -3.2378e-01, -1.3066e+00,  2.3839e+00],\n",
       "                      [ 1.3147e-01,  4.1653e-01,  5.0101e-01,  1.4170e+00],\n",
       "                      [-1.2813e+00,  2.3267e+00, -1.2615e-03, -5.0658e-01],\n",
       "                      [ 2.0242e-02, -3.2378e-01, -1.3066e+00,  2.3839e+00],\n",
       "                      [ 1.3147e-01,  4.1653e-01,  5.0101e-01,  1.4170e+00],\n",
       "                      [-1.2813e+00,  2.3267e+00, -1.2615e-03, -5.0658e-01],\n",
       "                      [ 2.0242e-02, -3.2378e-01, -1.3066e+00,  2.3839e+00],\n",
       "                      [ 1.3147e-01,  4.1653e-01,  5.0101e-01,  1.4170e+00],\n",
       "                      [-1.2813e+00,  2.3267e+00, -1.2615e-03, -5.0658e-01],\n",
       "                      [ 2.0242e-02, -3.2378e-01, -1.3066e+00,  2.3839e+00],\n",
       "                      [ 1.3147e-01,  4.1653e-01,  5.0101e-01,  1.4170e+00],\n",
       "                      [-1.2813e+00,  2.3267e+00, -1.2615e-03, -5.0658e-01]]),\n",
       "       ),\n",
       "    a: tensor([[ 1.6972,  0.9094,  0.3213],\n",
       "               [-0.2175, -0.4795,  0.3210],\n",
       "               [ 1.6972,  0.9094,  0.3213],\n",
       "               [-0.2175, -0.4795,  0.3210],\n",
       "               [ 1.6972,  0.9094,  0.3213],\n",
       "               [-0.2175, -0.4795,  0.3210],\n",
       "               [ 1.6972,  0.9094,  0.3213],\n",
       "               [-0.2175, -0.4795,  0.3210],\n",
       "               [ 1.6972,  0.9094,  0.3213],\n",
       "               [-0.2175, -0.4795,  0.3210],\n",
       "               [ 1.6972,  0.9094,  0.3213],\n",
       "               [-0.2175, -0.4795,  0.3210],\n",
       "               [ 1.6972,  0.9094,  0.3213],\n",
       "               [-0.2175, -0.4795,  0.3210],\n",
       "               [ 1.6972,  0.9094,  0.3213],\n",
       "               [-0.2175, -0.4795,  0.3210]]),\n",
       ")"
      ]
     },
     "execution_count": 27,
     "metadata": {},
     "output_type": "execute_result"
    }
   ],
   "source": [
    "Batch.cat(batches)"
   ]
  },
  {
   "cell_type": "code",
   "execution_count": 28,
   "id": "18dfb045",
   "metadata": {
    "execution": {
     "iopub.execute_input": "2023-08-11T09:45:20.196230Z",
     "iopub.status.busy": "2023-08-11T09:45:20.195732Z",
     "iopub.status.idle": "2023-08-11T09:45:36.607260Z",
     "shell.execute_reply": "2023-08-11T09:45:36.606273Z"
    }
   },
   "outputs": [
    {
     "name": "stdout",
     "output_type": "stream",
     "text": [
      "202 µs ± 4.19 µs per loop (mean ± std. dev. of 7 runs, 10,000 loops each)\n"
     ]
    }
   ],
   "source": [
    "%timeit Batch.cat(batches)"
   ]
  },
  {
   "cell_type": "code",
   "execution_count": 29,
   "id": "c6688e51",
   "metadata": {
    "execution": {
     "iopub.execute_input": "2023-08-11T09:45:36.611816Z",
     "iopub.status.busy": "2023-08-11T09:45:36.611347Z",
     "iopub.status.idle": "2023-08-11T09:45:41.545694Z",
     "shell.execute_reply": "2023-08-11T09:45:41.544758Z"
    }
   },
   "outputs": [
    {
     "name": "stdout",
     "output_type": "stream",
     "text": [
      "612 µs ± 18.6 µs per loop (mean ± std. dev. of 7 runs, 1,000 loops each)\n"
     ]
    }
   ],
   "source": [
    "batch = Batch({\n",
    "    'obs': torch.randn(8, 4, 84, 84),\n",
    "    'action': torch.randint(0, 6, size=(8, 1,)),\n",
    "    'reward': torch.rand(8, 1)}\n",
    ")\n",
    "\n",
    "%timeit list(Batch.split(batch, 1, shuffle=False, merge_last=True))"
   ]
  },
  {
   "cell_type": "code",
   "execution_count": null,
   "id": "2539fbd9",
   "metadata": {},
   "outputs": [],
   "source": []
  }
 ],
 "metadata": {
  "kernelspec": {
   "display_name": "Python 3 (ipykernel)",
   "language": "python",
   "name": "python3"
  },
  "language_info": {
   "codemirror_mode": {
    "name": "ipython",
    "version": 3
   },
   "file_extension": ".py",
   "mimetype": "text/x-python",
   "name": "python",
   "nbconvert_exporter": "python",
   "pygments_lexer": "ipython3",
   "version": "3.8.17"
  }
 },
 "nbformat": 4,
 "nbformat_minor": 5
}
