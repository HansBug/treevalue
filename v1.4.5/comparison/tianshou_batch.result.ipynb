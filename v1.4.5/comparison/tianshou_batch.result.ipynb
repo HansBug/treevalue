{
 "cells": [
  {
   "cell_type": "markdown",
   "id": "9d39d946",
   "metadata": {},
   "source": [
    "# Comparison Between TreeValue and Tianshou Batch"
   ]
  },
  {
   "cell_type": "markdown",
   "id": "3c6db2d4",
   "metadata": {},
   "source": [
    "In this section, we will take a look at the feature and performance of the [Tianshou Batch](https://github.com/thu-ml/tianshou) library, which is developed by Tsinghua Machine Learning Group."
   ]
  },
  {
   "cell_type": "markdown",
   "id": "069361b0",
   "metadata": {},
   "source": [
    "Before starting the comparison, let us define some thing."
   ]
  },
  {
   "cell_type": "code",
   "execution_count": 1,
   "id": "06fc8d26",
   "metadata": {
    "execution": {
     "iopub.execute_input": "2023-02-24T08:24:37.233533Z",
     "iopub.status.busy": "2023-02-24T08:24:37.232832Z",
     "iopub.status.idle": "2023-02-24T08:24:38.253784Z",
     "shell.execute_reply": "2023-02-24T08:24:38.252992Z"
    }
   },
   "outputs": [
    {
     "name": "stderr",
     "output_type": "stream",
     "text": [
      "/opt/hostedtoolcache/Python/3.8.16/x64/lib/python3.8/site-packages/tqdm/auto.py:22: TqdmWarning: IProgress not found. Please update jupyter and ipywidgets. See https://ipywidgets.readthedocs.io/en/stable/user_install.html\n",
      "  from .autonotebook import tqdm as notebook_tqdm\n"
     ]
    }
   ],
   "source": [
    "import torch \n",
    "\n",
    "_TREE_DATA_1 = {'a': 1, 'b': 2, 'x': {'c': 3, 'd': 4}}\n",
    "_TREE_DATA_2 = {\n",
    "    'a': torch.randn(2, 3), \n",
    "    'x': {\n",
    "        'c': torch.randn(3, 4)\n",
    "    },\n",
    "}\n",
    "_TREE_DATA_3 = {\n",
    "    'obs': torch.randn(4, 84, 84),\n",
    "    'action': torch.randint(0, 6, size=(1,)),\n",
    "    'reward': torch.rand(1),\n",
    "}"
   ]
  },
  {
   "cell_type": "markdown",
   "id": "83461b25",
   "metadata": {},
   "source": [
    "## Read and Write Operation"
   ]
  },
  {
   "cell_type": "markdown",
   "id": "067b3f73",
   "metadata": {},
   "source": [
    "Reading and writing are the two most common operations in the tree data structure based on the data model (TreeValue and Tianshou Batch both belong to this type), so this section will compare the reading and writing performance of these two libraries."
   ]
  },
  {
   "cell_type": "markdown",
   "id": "5d09a5b7",
   "metadata": {},
   "source": [
    "### TreeValue's Get and Set"
   ]
  },
  {
   "cell_type": "code",
   "execution_count": 2,
   "id": "9519c4bb",
   "metadata": {
    "execution": {
     "iopub.execute_input": "2023-02-24T08:24:38.258021Z",
     "iopub.status.busy": "2023-02-24T08:24:38.257473Z",
     "iopub.status.idle": "2023-02-24T08:24:38.293905Z",
     "shell.execute_reply": "2023-02-24T08:24:38.293115Z"
    }
   },
   "outputs": [],
   "source": [
    "from treevalue import FastTreeValue\n",
    "\n",
    "t = FastTreeValue(_TREE_DATA_2)"
   ]
  },
  {
   "cell_type": "code",
   "execution_count": 3,
   "id": "11c37677",
   "metadata": {
    "execution": {
     "iopub.execute_input": "2023-02-24T08:24:38.297656Z",
     "iopub.status.busy": "2023-02-24T08:24:38.297205Z",
     "iopub.status.idle": "2023-02-24T08:24:38.308147Z",
     "shell.execute_reply": "2023-02-24T08:24:38.307369Z"
    }
   },
   "outputs": [
    {
     "data": {
      "text/plain": [
       "<FastTreeValue 0x7f014ce19430>\n",
       "├── 'a' --> tensor([[-1.2060, -0.8508, -1.7793],\n",
       "│                   [ 1.5509, -0.4654,  1.5247]])\n",
       "└── 'x' --> <FastTreeValue 0x7f014ce13370>\n",
       "    └── 'c' --> tensor([[ 0.7781,  0.2077,  0.1846,  0.6649],\n",
       "                        [-0.5879,  0.0509, -1.1617, -0.1679],\n",
       "                        [-1.1565,  1.0338, -0.1534,  0.5944]])"
      ]
     },
     "execution_count": 3,
     "metadata": {},
     "output_type": "execute_result"
    }
   ],
   "source": [
    "t"
   ]
  },
  {
   "cell_type": "code",
   "execution_count": 4,
   "id": "fd70b0b9",
   "metadata": {
    "execution": {
     "iopub.execute_input": "2023-02-24T08:24:38.311415Z",
     "iopub.status.busy": "2023-02-24T08:24:38.310928Z",
     "iopub.status.idle": "2023-02-24T08:24:38.317390Z",
     "shell.execute_reply": "2023-02-24T08:24:38.316683Z"
    }
   },
   "outputs": [
    {
     "data": {
      "text/plain": [
       "tensor([[-1.2060, -0.8508, -1.7793],\n",
       "        [ 1.5509, -0.4654,  1.5247]])"
      ]
     },
     "execution_count": 4,
     "metadata": {},
     "output_type": "execute_result"
    }
   ],
   "source": [
    "t.a"
   ]
  },
  {
   "cell_type": "code",
   "execution_count": 5,
   "id": "c18197bd",
   "metadata": {
    "execution": {
     "iopub.execute_input": "2023-02-24T08:24:38.320330Z",
     "iopub.status.busy": "2023-02-24T08:24:38.320080Z",
     "iopub.status.idle": "2023-02-24T08:24:43.495979Z",
     "shell.execute_reply": "2023-02-24T08:24:43.495136Z"
    }
   },
   "outputs": [
    {
     "name": "stdout",
     "output_type": "stream",
     "text": [
      "63.7 ns ± 0.0637 ns per loop (mean ± std. dev. of 7 runs, 10,000,000 loops each)\n"
     ]
    }
   ],
   "source": [
    "%timeit t.a"
   ]
  },
  {
   "cell_type": "code",
   "execution_count": 6,
   "id": "bd52f867",
   "metadata": {
    "execution": {
     "iopub.execute_input": "2023-02-24T08:24:43.499649Z",
     "iopub.status.busy": "2023-02-24T08:24:43.499123Z",
     "iopub.status.idle": "2023-02-24T08:24:43.506497Z",
     "shell.execute_reply": "2023-02-24T08:24:43.505836Z"
    }
   },
   "outputs": [
    {
     "data": {
      "text/plain": [
       "<FastTreeValue 0x7f014ce19430>\n",
       "├── 'a' --> tensor([[ 1.1814,  1.0716,  0.8646],\n",
       "│                   [-1.6493, -0.3131,  1.3422]])\n",
       "└── 'x' --> <FastTreeValue 0x7f014ce13370>\n",
       "    └── 'c' --> tensor([[ 0.7781,  0.2077,  0.1846,  0.6649],\n",
       "                        [-0.5879,  0.0509, -1.1617, -0.1679],\n",
       "                        [-1.1565,  1.0338, -0.1534,  0.5944]])"
      ]
     },
     "execution_count": 6,
     "metadata": {},
     "output_type": "execute_result"
    }
   ],
   "source": [
    "new_value = torch.randn(2, 3)\n",
    "t.a = new_value\n",
    "\n",
    "t"
   ]
  },
  {
   "cell_type": "code",
   "execution_count": 7,
   "id": "bbe04d1c",
   "metadata": {
    "execution": {
     "iopub.execute_input": "2023-02-24T08:24:43.509367Z",
     "iopub.status.busy": "2023-02-24T08:24:43.508896Z",
     "iopub.status.idle": "2023-02-24T08:24:48.879411Z",
     "shell.execute_reply": "2023-02-24T08:24:48.878520Z"
    }
   },
   "outputs": [
    {
     "name": "stdout",
     "output_type": "stream",
     "text": [
      "66.1 ns ± 0.0314 ns per loop (mean ± std. dev. of 7 runs, 10,000,000 loops each)\n"
     ]
    }
   ],
   "source": [
    "%timeit t.a = new_value"
   ]
  },
  {
   "cell_type": "markdown",
   "id": "48c49731",
   "metadata": {},
   "source": [
    "### Tianshou Batch's Get and Set"
   ]
  },
  {
   "cell_type": "code",
   "execution_count": 8,
   "id": "f1bb14c1",
   "metadata": {
    "execution": {
     "iopub.execute_input": "2023-02-24T08:24:48.883193Z",
     "iopub.status.busy": "2023-02-24T08:24:48.882624Z",
     "iopub.status.idle": "2023-02-24T08:24:49.264218Z",
     "shell.execute_reply": "2023-02-24T08:24:49.263378Z"
    }
   },
   "outputs": [],
   "source": [
    "from tianshou.data import Batch\n",
    "\n",
    "b = Batch(**_TREE_DATA_2)"
   ]
  },
  {
   "cell_type": "code",
   "execution_count": 9,
   "id": "cb0777c3",
   "metadata": {
    "execution": {
     "iopub.execute_input": "2023-02-24T08:24:49.268148Z",
     "iopub.status.busy": "2023-02-24T08:24:49.267551Z",
     "iopub.status.idle": "2023-02-24T08:24:49.274547Z",
     "shell.execute_reply": "2023-02-24T08:24:49.273917Z"
    }
   },
   "outputs": [
    {
     "data": {
      "text/plain": [
       "Batch(\n",
       "    a: tensor([[-1.2060, -0.8508, -1.7793],\n",
       "               [ 1.5509, -0.4654,  1.5247]]),\n",
       "    x: Batch(\n",
       "           c: tensor([[ 0.7781,  0.2077,  0.1846,  0.6649],\n",
       "                      [-0.5879,  0.0509, -1.1617, -0.1679],\n",
       "                      [-1.1565,  1.0338, -0.1534,  0.5944]]),\n",
       "       ),\n",
       ")"
      ]
     },
     "execution_count": 9,
     "metadata": {},
     "output_type": "execute_result"
    }
   ],
   "source": [
    "b"
   ]
  },
  {
   "cell_type": "code",
   "execution_count": 10,
   "id": "43ef8ea3",
   "metadata": {
    "execution": {
     "iopub.execute_input": "2023-02-24T08:24:49.277795Z",
     "iopub.status.busy": "2023-02-24T08:24:49.277218Z",
     "iopub.status.idle": "2023-02-24T08:24:49.283005Z",
     "shell.execute_reply": "2023-02-24T08:24:49.282362Z"
    }
   },
   "outputs": [
    {
     "data": {
      "text/plain": [
       "tensor([[-1.2060, -0.8508, -1.7793],\n",
       "        [ 1.5509, -0.4654,  1.5247]])"
      ]
     },
     "execution_count": 10,
     "metadata": {},
     "output_type": "execute_result"
    }
   ],
   "source": [
    "b.a"
   ]
  },
  {
   "cell_type": "code",
   "execution_count": 11,
   "id": "b785ab72",
   "metadata": {
    "execution": {
     "iopub.execute_input": "2023-02-24T08:24:49.285823Z",
     "iopub.status.busy": "2023-02-24T08:24:49.285363Z",
     "iopub.status.idle": "2023-02-24T08:24:54.469421Z",
     "shell.execute_reply": "2023-02-24T08:24:54.468492Z"
    }
   },
   "outputs": [
    {
     "name": "stdout",
     "output_type": "stream",
     "text": [
      "64.3 ns ± 0.00949 ns per loop (mean ± std. dev. of 7 runs, 10,000,000 loops each)\n"
     ]
    }
   ],
   "source": [
    "%timeit b.a"
   ]
  },
  {
   "cell_type": "code",
   "execution_count": 12,
   "id": "ad54dc69",
   "metadata": {
    "execution": {
     "iopub.execute_input": "2023-02-24T08:24:54.472889Z",
     "iopub.status.busy": "2023-02-24T08:24:54.472388Z",
     "iopub.status.idle": "2023-02-24T08:24:54.478796Z",
     "shell.execute_reply": "2023-02-24T08:24:54.478075Z"
    }
   },
   "outputs": [
    {
     "data": {
      "text/plain": [
       "Batch(\n",
       "    a: tensor([[-1.0733, -2.0277,  0.8680],\n",
       "               [ 0.6840,  0.6269, -0.6258]]),\n",
       "    x: Batch(\n",
       "           c: tensor([[ 0.7781,  0.2077,  0.1846,  0.6649],\n",
       "                      [-0.5879,  0.0509, -1.1617, -0.1679],\n",
       "                      [-1.1565,  1.0338, -0.1534,  0.5944]]),\n",
       "       ),\n",
       ")"
      ]
     },
     "execution_count": 12,
     "metadata": {},
     "output_type": "execute_result"
    }
   ],
   "source": [
    "new_value = torch.randn(2, 3)\n",
    "b.a = new_value\n",
    "\n",
    "b"
   ]
  },
  {
   "cell_type": "code",
   "execution_count": 13,
   "id": "29b1d0bf",
   "metadata": {
    "execution": {
     "iopub.execute_input": "2023-02-24T08:24:54.482045Z",
     "iopub.status.busy": "2023-02-24T08:24:54.481473Z",
     "iopub.status.idle": "2023-02-24T08:24:58.509008Z",
     "shell.execute_reply": "2023-02-24T08:24:58.508101Z"
    }
   },
   "outputs": [
    {
     "name": "stdout",
     "output_type": "stream",
     "text": [
      "495 ns ± 0.203 ns per loop (mean ± std. dev. of 7 runs, 1,000,000 loops each)\n"
     ]
    }
   ],
   "source": [
    "%timeit b.a = new_value"
   ]
  },
  {
   "cell_type": "markdown",
   "id": "b61ad1d0",
   "metadata": {},
   "source": [
    "## Initialization"
   ]
  },
  {
   "cell_type": "markdown",
   "id": "d70f0d54",
   "metadata": {},
   "source": [
    "### TreeValue's Initialization"
   ]
  },
  {
   "cell_type": "code",
   "execution_count": 14,
   "id": "d32a679b",
   "metadata": {
    "execution": {
     "iopub.execute_input": "2023-02-24T08:24:58.512775Z",
     "iopub.status.busy": "2023-02-24T08:24:58.512281Z",
     "iopub.status.idle": "2023-02-24T08:25:05.668714Z",
     "shell.execute_reply": "2023-02-24T08:25:05.667808Z"
    }
   },
   "outputs": [
    {
     "name": "stdout",
     "output_type": "stream",
     "text": [
      "885 ns ± 12.8 ns per loop (mean ± std. dev. of 7 runs, 1,000,000 loops each)\n"
     ]
    }
   ],
   "source": [
    "%timeit FastTreeValue(_TREE_DATA_1)"
   ]
  },
  {
   "cell_type": "markdown",
   "id": "24f3707b",
   "metadata": {},
   "source": [
    "### Tianshou Batch's Initialization"
   ]
  },
  {
   "cell_type": "code",
   "execution_count": 15,
   "id": "ac3958df",
   "metadata": {
    "execution": {
     "iopub.execute_input": "2023-02-24T08:25:05.672426Z",
     "iopub.status.busy": "2023-02-24T08:25:05.671819Z",
     "iopub.status.idle": "2023-02-24T08:25:14.292336Z",
     "shell.execute_reply": "2023-02-24T08:25:14.291408Z"
    }
   },
   "outputs": [
    {
     "name": "stdout",
     "output_type": "stream",
     "text": [
      "10.6 µs ± 11.7 ns per loop (mean ± std. dev. of 7 runs, 100,000 loops each)\n"
     ]
    }
   ],
   "source": [
    "%timeit Batch(**_TREE_DATA_1)"
   ]
  },
  {
   "cell_type": "markdown",
   "id": "1ab82e2d",
   "metadata": {},
   "source": [
    "## Deep Copy Operation"
   ]
  },
  {
   "cell_type": "code",
   "execution_count": 16,
   "id": "210a9442",
   "metadata": {
    "execution": {
     "iopub.execute_input": "2023-02-24T08:25:14.295739Z",
     "iopub.status.busy": "2023-02-24T08:25:14.295336Z",
     "iopub.status.idle": "2023-02-24T08:25:14.299697Z",
     "shell.execute_reply": "2023-02-24T08:25:14.299048Z"
    }
   },
   "outputs": [],
   "source": [
    "import copy"
   ]
  },
  {
   "cell_type": "markdown",
   "id": "5a736274",
   "metadata": {},
   "source": [
    "### Deep Copy of TreeValue"
   ]
  },
  {
   "cell_type": "code",
   "execution_count": 17,
   "id": "f9bcadd6",
   "metadata": {
    "execution": {
     "iopub.execute_input": "2023-02-24T08:25:14.302639Z",
     "iopub.status.busy": "2023-02-24T08:25:14.302246Z",
     "iopub.status.idle": "2023-02-24T08:25:26.103680Z",
     "shell.execute_reply": "2023-02-24T08:25:26.102974Z"
    }
   },
   "outputs": [
    {
     "name": "stdout",
     "output_type": "stream",
     "text": [
      "145 µs ± 667 ns per loop (mean ± std. dev. of 7 runs, 10,000 loops each)\n"
     ]
    }
   ],
   "source": [
    "t3 = FastTreeValue(_TREE_DATA_3)\n",
    "%timeit copy.deepcopy(t3)"
   ]
  },
  {
   "cell_type": "markdown",
   "id": "bf8be7ea",
   "metadata": {},
   "source": [
    "### Deep Copy of Tianshou Batch"
   ]
  },
  {
   "cell_type": "code",
   "execution_count": 18,
   "id": "91998e6f",
   "metadata": {
    "execution": {
     "iopub.execute_input": "2023-02-24T08:25:26.107019Z",
     "iopub.status.busy": "2023-02-24T08:25:26.106495Z",
     "iopub.status.idle": "2023-02-24T08:25:37.919004Z",
     "shell.execute_reply": "2023-02-24T08:25:37.918216Z"
    }
   },
   "outputs": [
    {
     "name": "stdout",
     "output_type": "stream",
     "text": [
      "146 µs ± 541 ns per loop (mean ± std. dev. of 7 runs, 10,000 loops each)\n"
     ]
    }
   ],
   "source": [
    "b3 = Batch(**_TREE_DATA_3)\n",
    "%timeit copy.deepcopy(b3)"
   ]
  },
  {
   "cell_type": "markdown",
   "id": "223162fb",
   "metadata": {},
   "source": [
    "## Stack, Concat and Split Operation"
   ]
  },
  {
   "cell_type": "markdown",
   "id": "85fa4a73",
   "metadata": {},
   "source": [
    "### Performance of TreeValue"
   ]
  },
  {
   "cell_type": "code",
   "execution_count": 19,
   "id": "a0c2b697",
   "metadata": {
    "execution": {
     "iopub.execute_input": "2023-02-24T08:25:37.922761Z",
     "iopub.status.busy": "2023-02-24T08:25:37.922150Z",
     "iopub.status.idle": "2023-02-24T08:25:37.926258Z",
     "shell.execute_reply": "2023-02-24T08:25:37.925601Z"
    }
   },
   "outputs": [],
   "source": [
    "trees = [FastTreeValue(_TREE_DATA_2) for _ in range(8)]"
   ]
  },
  {
   "cell_type": "code",
   "execution_count": 20,
   "id": "017ea5a5",
   "metadata": {
    "execution": {
     "iopub.execute_input": "2023-02-24T08:25:37.929264Z",
     "iopub.status.busy": "2023-02-24T08:25:37.928907Z",
     "iopub.status.idle": "2023-02-24T08:25:37.937259Z",
     "shell.execute_reply": "2023-02-24T08:25:37.936686Z"
    }
   },
   "outputs": [
    {
     "data": {
      "text/plain": [
       "<FastTreeValue 0x7f014ce206d0>\n",
       "├── 'a' --> tensor([[[-1.2060, -0.8508, -1.7793],\n",
       "│                    [ 1.5509, -0.4654,  1.5247]],\n",
       "│           \n",
       "│                   [[-1.2060, -0.8508, -1.7793],\n",
       "│                    [ 1.5509, -0.4654,  1.5247]],\n",
       "│           \n",
       "│                   [[-1.2060, -0.8508, -1.7793],\n",
       "│                    [ 1.5509, -0.4654,  1.5247]],\n",
       "│           \n",
       "│                   [[-1.2060, -0.8508, -1.7793],\n",
       "│                    [ 1.5509, -0.4654,  1.5247]],\n",
       "│           \n",
       "│                   [[-1.2060, -0.8508, -1.7793],\n",
       "│                    [ 1.5509, -0.4654,  1.5247]],\n",
       "│           \n",
       "│                   [[-1.2060, -0.8508, -1.7793],\n",
       "│                    [ 1.5509, -0.4654,  1.5247]],\n",
       "│           \n",
       "│                   [[-1.2060, -0.8508, -1.7793],\n",
       "│                    [ 1.5509, -0.4654,  1.5247]],\n",
       "│           \n",
       "│                   [[-1.2060, -0.8508, -1.7793],\n",
       "│                    [ 1.5509, -0.4654,  1.5247]]])\n",
       "└── 'x' --> <FastTreeValue 0x7f014ce20bb0>\n",
       "    └── 'c' --> tensor([[[ 0.7781,  0.2077,  0.1846,  0.6649],\n",
       "                         [-0.5879,  0.0509, -1.1617, -0.1679],\n",
       "                         [-1.1565,  1.0338, -0.1534,  0.5944]],\n",
       "                \n",
       "                        [[ 0.7781,  0.2077,  0.1846,  0.6649],\n",
       "                         [-0.5879,  0.0509, -1.1617, -0.1679],\n",
       "                         [-1.1565,  1.0338, -0.1534,  0.5944]],\n",
       "                \n",
       "                        [[ 0.7781,  0.2077,  0.1846,  0.6649],\n",
       "                         [-0.5879,  0.0509, -1.1617, -0.1679],\n",
       "                         [-1.1565,  1.0338, -0.1534,  0.5944]],\n",
       "                \n",
       "                        [[ 0.7781,  0.2077,  0.1846,  0.6649],\n",
       "                         [-0.5879,  0.0509, -1.1617, -0.1679],\n",
       "                         [-1.1565,  1.0338, -0.1534,  0.5944]],\n",
       "                \n",
       "                        [[ 0.7781,  0.2077,  0.1846,  0.6649],\n",
       "                         [-0.5879,  0.0509, -1.1617, -0.1679],\n",
       "                         [-1.1565,  1.0338, -0.1534,  0.5944]],\n",
       "                \n",
       "                        [[ 0.7781,  0.2077,  0.1846,  0.6649],\n",
       "                         [-0.5879,  0.0509, -1.1617, -0.1679],\n",
       "                         [-1.1565,  1.0338, -0.1534,  0.5944]],\n",
       "                \n",
       "                        [[ 0.7781,  0.2077,  0.1846,  0.6649],\n",
       "                         [-0.5879,  0.0509, -1.1617, -0.1679],\n",
       "                         [-1.1565,  1.0338, -0.1534,  0.5944]],\n",
       "                \n",
       "                        [[ 0.7781,  0.2077,  0.1846,  0.6649],\n",
       "                         [-0.5879,  0.0509, -1.1617, -0.1679],\n",
       "                         [-1.1565,  1.0338, -0.1534,  0.5944]]])"
      ]
     },
     "execution_count": 20,
     "metadata": {},
     "output_type": "execute_result"
    }
   ],
   "source": [
    "t_stack = FastTreeValue.func(subside=True)(torch.stack)\n",
    "\n",
    "t_stack(trees)"
   ]
  },
  {
   "cell_type": "code",
   "execution_count": 21,
   "id": "f8b3f415",
   "metadata": {
    "execution": {
     "iopub.execute_input": "2023-02-24T08:25:37.939939Z",
     "iopub.status.busy": "2023-02-24T08:25:37.939456Z",
     "iopub.status.idle": "2023-02-24T08:25:40.529878Z",
     "shell.execute_reply": "2023-02-24T08:25:40.528948Z"
    }
   },
   "outputs": [
    {
     "name": "stdout",
     "output_type": "stream",
     "text": [
      "31.9 µs ± 33.9 ns per loop (mean ± std. dev. of 7 runs, 10,000 loops each)\n"
     ]
    }
   ],
   "source": [
    "%timeit t_stack(trees)"
   ]
  },
  {
   "cell_type": "code",
   "execution_count": 22,
   "id": "94b56771",
   "metadata": {
    "execution": {
     "iopub.execute_input": "2023-02-24T08:25:40.533649Z",
     "iopub.status.busy": "2023-02-24T08:25:40.533166Z",
     "iopub.status.idle": "2023-02-24T08:25:40.542283Z",
     "shell.execute_reply": "2023-02-24T08:25:40.541616Z"
    }
   },
   "outputs": [
    {
     "data": {
      "text/plain": [
       "<FastTreeValue 0x7f00a1ad56a0>\n",
       "├── 'a' --> tensor([[-1.2060, -0.8508, -1.7793],\n",
       "│                   [ 1.5509, -0.4654,  1.5247],\n",
       "│                   [-1.2060, -0.8508, -1.7793],\n",
       "│                   [ 1.5509, -0.4654,  1.5247],\n",
       "│                   [-1.2060, -0.8508, -1.7793],\n",
       "│                   [ 1.5509, -0.4654,  1.5247],\n",
       "│                   [-1.2060, -0.8508, -1.7793],\n",
       "│                   [ 1.5509, -0.4654,  1.5247],\n",
       "│                   [-1.2060, -0.8508, -1.7793],\n",
       "│                   [ 1.5509, -0.4654,  1.5247],\n",
       "│                   [-1.2060, -0.8508, -1.7793],\n",
       "│                   [ 1.5509, -0.4654,  1.5247],\n",
       "│                   [-1.2060, -0.8508, -1.7793],\n",
       "│                   [ 1.5509, -0.4654,  1.5247],\n",
       "│                   [-1.2060, -0.8508, -1.7793],\n",
       "│                   [ 1.5509, -0.4654,  1.5247]])\n",
       "└── 'x' --> <FastTreeValue 0x7f00a1ad5490>\n",
       "    └── 'c' --> tensor([[ 0.7781,  0.2077,  0.1846,  0.6649],\n",
       "                        [-0.5879,  0.0509, -1.1617, -0.1679],\n",
       "                        [-1.1565,  1.0338, -0.1534,  0.5944],\n",
       "                        [ 0.7781,  0.2077,  0.1846,  0.6649],\n",
       "                        [-0.5879,  0.0509, -1.1617, -0.1679],\n",
       "                        [-1.1565,  1.0338, -0.1534,  0.5944],\n",
       "                        [ 0.7781,  0.2077,  0.1846,  0.6649],\n",
       "                        [-0.5879,  0.0509, -1.1617, -0.1679],\n",
       "                        [-1.1565,  1.0338, -0.1534,  0.5944],\n",
       "                        [ 0.7781,  0.2077,  0.1846,  0.6649],\n",
       "                        [-0.5879,  0.0509, -1.1617, -0.1679],\n",
       "                        [-1.1565,  1.0338, -0.1534,  0.5944],\n",
       "                        [ 0.7781,  0.2077,  0.1846,  0.6649],\n",
       "                        [-0.5879,  0.0509, -1.1617, -0.1679],\n",
       "                        [-1.1565,  1.0338, -0.1534,  0.5944],\n",
       "                        [ 0.7781,  0.2077,  0.1846,  0.6649],\n",
       "                        [-0.5879,  0.0509, -1.1617, -0.1679],\n",
       "                        [-1.1565,  1.0338, -0.1534,  0.5944],\n",
       "                        [ 0.7781,  0.2077,  0.1846,  0.6649],\n",
       "                        [-0.5879,  0.0509, -1.1617, -0.1679],\n",
       "                        [-1.1565,  1.0338, -0.1534,  0.5944],\n",
       "                        [ 0.7781,  0.2077,  0.1846,  0.6649],\n",
       "                        [-0.5879,  0.0509, -1.1617, -0.1679],\n",
       "                        [-1.1565,  1.0338, -0.1534,  0.5944]])"
      ]
     },
     "execution_count": 22,
     "metadata": {},
     "output_type": "execute_result"
    }
   ],
   "source": [
    "t_cat = FastTreeValue.func(subside=True)(torch.cat)\n",
    "\n",
    "t_cat(trees)"
   ]
  },
  {
   "cell_type": "code",
   "execution_count": 23,
   "id": "5e9c06a6",
   "metadata": {
    "execution": {
     "iopub.execute_input": "2023-02-24T08:25:40.545498Z",
     "iopub.status.busy": "2023-02-24T08:25:40.545241Z",
     "iopub.status.idle": "2023-02-24T08:25:43.020389Z",
     "shell.execute_reply": "2023-02-24T08:25:43.019479Z"
    }
   },
   "outputs": [
    {
     "name": "stdout",
     "output_type": "stream",
     "text": [
      "30.5 µs ± 33.5 ns per loop (mean ± std. dev. of 7 runs, 10,000 loops each)\n"
     ]
    }
   ],
   "source": [
    "%timeit t_cat(trees)"
   ]
  },
  {
   "cell_type": "code",
   "execution_count": 24,
   "id": "a3ab5c8f",
   "metadata": {
    "execution": {
     "iopub.execute_input": "2023-02-24T08:25:43.023817Z",
     "iopub.status.busy": "2023-02-24T08:25:43.023366Z",
     "iopub.status.idle": "2023-02-24T08:25:47.503444Z",
     "shell.execute_reply": "2023-02-24T08:25:47.502547Z"
    }
   },
   "outputs": [
    {
     "name": "stdout",
     "output_type": "stream",
     "text": [
      "55.1 µs ± 44 ns per loop (mean ± std. dev. of 7 runs, 10,000 loops each)\n"
     ]
    }
   ],
   "source": [
    "t_split = FastTreeValue.func(rise=True)(torch.split)\n",
    "tree = FastTreeValue({\n",
    "    'obs': torch.randn(8, 4, 84, 84),\n",
    "    'action': torch.randint(0, 6, size=(8, 1,)),\n",
    "    'reward': torch.rand(8, 1),\n",
    "})\n",
    "\n",
    "%timeit t_split(tree, 1)"
   ]
  },
  {
   "cell_type": "markdown",
   "id": "31c3ec0b",
   "metadata": {},
   "source": [
    "### Performance of Tianshou Batch"
   ]
  },
  {
   "cell_type": "code",
   "execution_count": 25,
   "id": "9ead828a",
   "metadata": {
    "execution": {
     "iopub.execute_input": "2023-02-24T08:25:47.507294Z",
     "iopub.status.busy": "2023-02-24T08:25:47.506878Z",
     "iopub.status.idle": "2023-02-24T08:25:47.516605Z",
     "shell.execute_reply": "2023-02-24T08:25:47.515912Z"
    }
   },
   "outputs": [
    {
     "data": {
      "text/plain": [
       "Batch(\n",
       "    a: tensor([[[-1.2060, -0.8508, -1.7793],\n",
       "                [ 1.5509, -0.4654,  1.5247]],\n",
       "       \n",
       "               [[-1.2060, -0.8508, -1.7793],\n",
       "                [ 1.5509, -0.4654,  1.5247]],\n",
       "       \n",
       "               [[-1.2060, -0.8508, -1.7793],\n",
       "                [ 1.5509, -0.4654,  1.5247]],\n",
       "       \n",
       "               [[-1.2060, -0.8508, -1.7793],\n",
       "                [ 1.5509, -0.4654,  1.5247]],\n",
       "       \n",
       "               [[-1.2060, -0.8508, -1.7793],\n",
       "                [ 1.5509, -0.4654,  1.5247]],\n",
       "       \n",
       "               [[-1.2060, -0.8508, -1.7793],\n",
       "                [ 1.5509, -0.4654,  1.5247]],\n",
       "       \n",
       "               [[-1.2060, -0.8508, -1.7793],\n",
       "                [ 1.5509, -0.4654,  1.5247]],\n",
       "       \n",
       "               [[-1.2060, -0.8508, -1.7793],\n",
       "                [ 1.5509, -0.4654,  1.5247]]]),\n",
       "    x: Batch(\n",
       "           c: tensor([[[ 0.7781,  0.2077,  0.1846,  0.6649],\n",
       "                       [-0.5879,  0.0509, -1.1617, -0.1679],\n",
       "                       [-1.1565,  1.0338, -0.1534,  0.5944]],\n",
       "              \n",
       "                      [[ 0.7781,  0.2077,  0.1846,  0.6649],\n",
       "                       [-0.5879,  0.0509, -1.1617, -0.1679],\n",
       "                       [-1.1565,  1.0338, -0.1534,  0.5944]],\n",
       "              \n",
       "                      [[ 0.7781,  0.2077,  0.1846,  0.6649],\n",
       "                       [-0.5879,  0.0509, -1.1617, -0.1679],\n",
       "                       [-1.1565,  1.0338, -0.1534,  0.5944]],\n",
       "              \n",
       "                      [[ 0.7781,  0.2077,  0.1846,  0.6649],\n",
       "                       [-0.5879,  0.0509, -1.1617, -0.1679],\n",
       "                       [-1.1565,  1.0338, -0.1534,  0.5944]],\n",
       "              \n",
       "                      [[ 0.7781,  0.2077,  0.1846,  0.6649],\n",
       "                       [-0.5879,  0.0509, -1.1617, -0.1679],\n",
       "                       [-1.1565,  1.0338, -0.1534,  0.5944]],\n",
       "              \n",
       "                      [[ 0.7781,  0.2077,  0.1846,  0.6649],\n",
       "                       [-0.5879,  0.0509, -1.1617, -0.1679],\n",
       "                       [-1.1565,  1.0338, -0.1534,  0.5944]],\n",
       "              \n",
       "                      [[ 0.7781,  0.2077,  0.1846,  0.6649],\n",
       "                       [-0.5879,  0.0509, -1.1617, -0.1679],\n",
       "                       [-1.1565,  1.0338, -0.1534,  0.5944]],\n",
       "              \n",
       "                      [[ 0.7781,  0.2077,  0.1846,  0.6649],\n",
       "                       [-0.5879,  0.0509, -1.1617, -0.1679],\n",
       "                       [-1.1565,  1.0338, -0.1534,  0.5944]]]),\n",
       "       ),\n",
       ")"
      ]
     },
     "execution_count": 25,
     "metadata": {},
     "output_type": "execute_result"
    }
   ],
   "source": [
    "batches = [Batch(**_TREE_DATA_2) for _ in range(8)]\n",
    "\n",
    "Batch.stack(batches)"
   ]
  },
  {
   "cell_type": "code",
   "execution_count": 26,
   "id": "ec9037a3",
   "metadata": {
    "execution": {
     "iopub.execute_input": "2023-02-24T08:25:47.520030Z",
     "iopub.status.busy": "2023-02-24T08:25:47.519430Z",
     "iopub.status.idle": "2023-02-24T08:25:53.855948Z",
     "shell.execute_reply": "2023-02-24T08:25:53.854970Z"
    }
   },
   "outputs": [
    {
     "name": "stdout",
     "output_type": "stream",
     "text": [
      "77.9 µs ± 251 ns per loop (mean ± std. dev. of 7 runs, 10,000 loops each)\n"
     ]
    }
   ],
   "source": [
    "%timeit Batch.stack(batches)"
   ]
  },
  {
   "cell_type": "code",
   "execution_count": 27,
   "id": "cb8ab77e",
   "metadata": {
    "execution": {
     "iopub.execute_input": "2023-02-24T08:25:53.859228Z",
     "iopub.status.busy": "2023-02-24T08:25:53.858848Z",
     "iopub.status.idle": "2023-02-24T08:25:53.867008Z",
     "shell.execute_reply": "2023-02-24T08:25:53.866365Z"
    }
   },
   "outputs": [
    {
     "data": {
      "text/plain": [
       "Batch(\n",
       "    a: tensor([[-1.2060, -0.8508, -1.7793],\n",
       "               [ 1.5509, -0.4654,  1.5247],\n",
       "               [-1.2060, -0.8508, -1.7793],\n",
       "               [ 1.5509, -0.4654,  1.5247],\n",
       "               [-1.2060, -0.8508, -1.7793],\n",
       "               [ 1.5509, -0.4654,  1.5247],\n",
       "               [-1.2060, -0.8508, -1.7793],\n",
       "               [ 1.5509, -0.4654,  1.5247],\n",
       "               [-1.2060, -0.8508, -1.7793],\n",
       "               [ 1.5509, -0.4654,  1.5247],\n",
       "               [-1.2060, -0.8508, -1.7793],\n",
       "               [ 1.5509, -0.4654,  1.5247],\n",
       "               [-1.2060, -0.8508, -1.7793],\n",
       "               [ 1.5509, -0.4654,  1.5247],\n",
       "               [-1.2060, -0.8508, -1.7793],\n",
       "               [ 1.5509, -0.4654,  1.5247]]),\n",
       "    x: Batch(\n",
       "           c: tensor([[ 0.7781,  0.2077,  0.1846,  0.6649],\n",
       "                      [-0.5879,  0.0509, -1.1617, -0.1679],\n",
       "                      [-1.1565,  1.0338, -0.1534,  0.5944],\n",
       "                      [ 0.7781,  0.2077,  0.1846,  0.6649],\n",
       "                      [-0.5879,  0.0509, -1.1617, -0.1679],\n",
       "                      [-1.1565,  1.0338, -0.1534,  0.5944],\n",
       "                      [ 0.7781,  0.2077,  0.1846,  0.6649],\n",
       "                      [-0.5879,  0.0509, -1.1617, -0.1679],\n",
       "                      [-1.1565,  1.0338, -0.1534,  0.5944],\n",
       "                      [ 0.7781,  0.2077,  0.1846,  0.6649],\n",
       "                      [-0.5879,  0.0509, -1.1617, -0.1679],\n",
       "                      [-1.1565,  1.0338, -0.1534,  0.5944],\n",
       "                      [ 0.7781,  0.2077,  0.1846,  0.6649],\n",
       "                      [-0.5879,  0.0509, -1.1617, -0.1679],\n",
       "                      [-1.1565,  1.0338, -0.1534,  0.5944],\n",
       "                      [ 0.7781,  0.2077,  0.1846,  0.6649],\n",
       "                      [-0.5879,  0.0509, -1.1617, -0.1679],\n",
       "                      [-1.1565,  1.0338, -0.1534,  0.5944],\n",
       "                      [ 0.7781,  0.2077,  0.1846,  0.6649],\n",
       "                      [-0.5879,  0.0509, -1.1617, -0.1679],\n",
       "                      [-1.1565,  1.0338, -0.1534,  0.5944],\n",
       "                      [ 0.7781,  0.2077,  0.1846,  0.6649],\n",
       "                      [-0.5879,  0.0509, -1.1617, -0.1679],\n",
       "                      [-1.1565,  1.0338, -0.1534,  0.5944]]),\n",
       "       ),\n",
       ")"
      ]
     },
     "execution_count": 27,
     "metadata": {},
     "output_type": "execute_result"
    }
   ],
   "source": [
    "Batch.cat(batches)"
   ]
  },
  {
   "cell_type": "code",
   "execution_count": 28,
   "id": "18dfb045",
   "metadata": {
    "execution": {
     "iopub.execute_input": "2023-02-24T08:25:53.869833Z",
     "iopub.status.busy": "2023-02-24T08:25:53.869376Z",
     "iopub.status.idle": "2023-02-24T08:26:05.420984Z",
     "shell.execute_reply": "2023-02-24T08:26:05.420074Z"
    }
   },
   "outputs": [
    {
     "name": "stdout",
     "output_type": "stream",
     "text": [
      "142 µs ± 406 ns per loop (mean ± std. dev. of 7 runs, 10,000 loops each)\n"
     ]
    }
   ],
   "source": [
    "%timeit Batch.cat(batches)"
   ]
  },
  {
   "cell_type": "code",
   "execution_count": 29,
   "id": "c6688e51",
   "metadata": {
    "execution": {
     "iopub.execute_input": "2023-02-24T08:26:05.424540Z",
     "iopub.status.busy": "2023-02-24T08:26:05.423842Z",
     "iopub.status.idle": "2023-02-24T08:26:08.073169Z",
     "shell.execute_reply": "2023-02-24T08:26:08.072494Z"
    }
   },
   "outputs": [
    {
     "name": "stdout",
     "output_type": "stream",
     "text": [
      "325 µs ± 2.31 µs per loop (mean ± std. dev. of 7 runs, 1,000 loops each)\n"
     ]
    }
   ],
   "source": [
    "batch = Batch({\n",
    "    'obs': torch.randn(8, 4, 84, 84),\n",
    "    'action': torch.randint(0, 6, size=(8, 1,)),\n",
    "    'reward': torch.rand(8, 1)}\n",
    ")\n",
    "\n",
    "%timeit list(Batch.split(batch, 1, shuffle=False, merge_last=True))"
   ]
  },
  {
   "cell_type": "code",
   "execution_count": null,
   "id": "2539fbd9",
   "metadata": {},
   "outputs": [],
   "source": []
  }
 ],
 "metadata": {
  "kernelspec": {
   "display_name": "Python 3 (ipykernel)",
   "language": "python",
   "name": "python3"
  },
  "language_info": {
   "codemirror_mode": {
    "name": "ipython",
    "version": 3
   },
   "file_extension": ".py",
   "mimetype": "text/x-python",
   "name": "python",
   "nbconvert_exporter": "python",
   "pygments_lexer": "ipython3",
   "version": "3.8.16"
  }
 },
 "nbformat": 4,
 "nbformat_minor": 5
}
