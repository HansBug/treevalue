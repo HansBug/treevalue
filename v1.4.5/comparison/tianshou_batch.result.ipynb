{
 "cells": [
  {
   "cell_type": "markdown",
   "id": "9d39d946",
   "metadata": {},
   "source": [
    "# Comparison Between TreeValue and Tianshou Batch"
   ]
  },
  {
   "cell_type": "markdown",
   "id": "3c6db2d4",
   "metadata": {},
   "source": [
    "In this section, we will take a look at the feature and performance of the [Tianshou Batch](https://github.com/thu-ml/tianshou) library, which is developed by Tsinghua Machine Learning Group."
   ]
  },
  {
   "cell_type": "markdown",
   "id": "069361b0",
   "metadata": {},
   "source": [
    "Before starting the comparison, let us define some thing."
   ]
  },
  {
   "cell_type": "code",
   "execution_count": 1,
   "id": "06fc8d26",
   "metadata": {
    "execution": {
     "iopub.execute_input": "2023-10-20T07:52:20.592014Z",
     "iopub.status.busy": "2023-10-20T07:52:20.591473Z",
     "iopub.status.idle": "2023-10-20T07:52:22.051832Z",
     "shell.execute_reply": "2023-10-20T07:52:22.051127Z"
    }
   },
   "outputs": [],
   "source": [
    "import torch \n",
    "\n",
    "_TREE_DATA_1 = {'a': 1, 'b': 2, 'x': {'c': 3, 'd': 4}}\n",
    "_TREE_DATA_2 = {\n",
    "    'a': torch.randn(2, 3), \n",
    "    'x': {\n",
    "        'c': torch.randn(3, 4)\n",
    "    },\n",
    "}\n",
    "_TREE_DATA_3 = {\n",
    "    'obs': torch.randn(4, 84, 84),\n",
    "    'action': torch.randint(0, 6, size=(1,)),\n",
    "    'reward': torch.rand(1),\n",
    "}"
   ]
  },
  {
   "cell_type": "markdown",
   "id": "83461b25",
   "metadata": {},
   "source": [
    "## Read and Write Operation"
   ]
  },
  {
   "cell_type": "markdown",
   "id": "067b3f73",
   "metadata": {},
   "source": [
    "Reading and writing are the two most common operations in the tree data structure based on the data model (TreeValue and Tianshou Batch both belong to this type), so this section will compare the reading and writing performance of these two libraries."
   ]
  },
  {
   "cell_type": "markdown",
   "id": "5d09a5b7",
   "metadata": {},
   "source": [
    "### TreeValue's Get and Set"
   ]
  },
  {
   "cell_type": "code",
   "execution_count": 2,
   "id": "9519c4bb",
   "metadata": {
    "execution": {
     "iopub.execute_input": "2023-10-20T07:52:22.055976Z",
     "iopub.status.busy": "2023-10-20T07:52:22.055338Z",
     "iopub.status.idle": "2023-10-20T07:52:22.086665Z",
     "shell.execute_reply": "2023-10-20T07:52:22.086041Z"
    }
   },
   "outputs": [],
   "source": [
    "from treevalue import FastTreeValue\n",
    "\n",
    "t = FastTreeValue(_TREE_DATA_2)"
   ]
  },
  {
   "cell_type": "code",
   "execution_count": 3,
   "id": "11c37677",
   "metadata": {
    "execution": {
     "iopub.execute_input": "2023-10-20T07:52:22.090476Z",
     "iopub.status.busy": "2023-10-20T07:52:22.089197Z",
     "iopub.status.idle": "2023-10-20T07:52:22.100427Z",
     "shell.execute_reply": "2023-10-20T07:52:22.099717Z"
    }
   },
   "outputs": [
    {
     "data": {
      "text/plain": [
       "<FastTreeValue 0x7f7cd0f97790>\n",
       "├── 'a' --> tensor([[-1.4916, -0.4511,  0.0633],\n",
       "│                   [ 0.2273,  0.1149, -1.1401]])\n",
       "└── 'x' --> <FastTreeValue 0x7f7cd0f97d60>\n",
       "    └── 'c' --> tensor([[ 1.2364, -1.2485,  1.6212, -0.5242],\n",
       "                        [ 1.2824,  1.5641,  0.6374,  1.2199],\n",
       "                        [ 0.6198,  0.5993, -0.3168, -1.2198]])"
      ]
     },
     "execution_count": 3,
     "metadata": {},
     "output_type": "execute_result"
    }
   ],
   "source": [
    "t"
   ]
  },
  {
   "cell_type": "code",
   "execution_count": 4,
   "id": "fd70b0b9",
   "metadata": {
    "execution": {
     "iopub.execute_input": "2023-10-20T07:52:22.103884Z",
     "iopub.status.busy": "2023-10-20T07:52:22.103312Z",
     "iopub.status.idle": "2023-10-20T07:52:22.110366Z",
     "shell.execute_reply": "2023-10-20T07:52:22.109780Z"
    }
   },
   "outputs": [
    {
     "data": {
      "text/plain": [
       "tensor([[-1.4916, -0.4511,  0.0633],\n",
       "        [ 0.2273,  0.1149, -1.1401]])"
      ]
     },
     "execution_count": 4,
     "metadata": {},
     "output_type": "execute_result"
    }
   ],
   "source": [
    "t.a"
   ]
  },
  {
   "cell_type": "code",
   "execution_count": 5,
   "id": "c18197bd",
   "metadata": {
    "execution": {
     "iopub.execute_input": "2023-10-20T07:52:22.113375Z",
     "iopub.status.busy": "2023-10-20T07:52:22.112805Z",
     "iopub.status.idle": "2023-10-20T07:52:27.155990Z",
     "shell.execute_reply": "2023-10-20T07:52:27.155327Z"
    }
   },
   "outputs": [
    {
     "name": "stdout",
     "output_type": "stream",
     "text": [
      "62.4 ns ± 0.0942 ns per loop (mean ± std. dev. of 7 runs, 10,000,000 loops each)\n"
     ]
    }
   ],
   "source": [
    "%timeit t.a"
   ]
  },
  {
   "cell_type": "code",
   "execution_count": 6,
   "id": "bd52f867",
   "metadata": {
    "execution": {
     "iopub.execute_input": "2023-10-20T07:52:27.159203Z",
     "iopub.status.busy": "2023-10-20T07:52:27.158834Z",
     "iopub.status.idle": "2023-10-20T07:52:27.166005Z",
     "shell.execute_reply": "2023-10-20T07:52:27.165416Z"
    }
   },
   "outputs": [
    {
     "data": {
      "text/plain": [
       "<FastTreeValue 0x7f7cd0f97790>\n",
       "├── 'a' --> tensor([[ 0.8631, -0.5453,  0.3890],\n",
       "│                   [-0.6123, -0.1058,  0.0302]])\n",
       "└── 'x' --> <FastTreeValue 0x7f7cd0f97d60>\n",
       "    └── 'c' --> tensor([[ 1.2364, -1.2485,  1.6212, -0.5242],\n",
       "                        [ 1.2824,  1.5641,  0.6374,  1.2199],\n",
       "                        [ 0.6198,  0.5993, -0.3168, -1.2198]])"
      ]
     },
     "execution_count": 6,
     "metadata": {},
     "output_type": "execute_result"
    }
   ],
   "source": [
    "new_value = torch.randn(2, 3)\n",
    "t.a = new_value\n",
    "\n",
    "t"
   ]
  },
  {
   "cell_type": "code",
   "execution_count": 7,
   "id": "bbe04d1c",
   "metadata": {
    "execution": {
     "iopub.execute_input": "2023-10-20T07:52:27.168917Z",
     "iopub.status.busy": "2023-10-20T07:52:27.168480Z",
     "iopub.status.idle": "2023-10-20T07:52:32.346624Z",
     "shell.execute_reply": "2023-10-20T07:52:32.345484Z"
    }
   },
   "outputs": [
    {
     "name": "stdout",
     "output_type": "stream",
     "text": [
      "63.7 ns ± 0.0971 ns per loop (mean ± std. dev. of 7 runs, 10,000,000 loops each)\n"
     ]
    }
   ],
   "source": [
    "%timeit t.a = new_value"
   ]
  },
  {
   "cell_type": "markdown",
   "id": "48c49731",
   "metadata": {},
   "source": [
    "### Tianshou Batch's Get and Set"
   ]
  },
  {
   "cell_type": "code",
   "execution_count": 8,
   "id": "f1bb14c1",
   "metadata": {
    "execution": {
     "iopub.execute_input": "2023-10-20T07:52:32.349917Z",
     "iopub.status.busy": "2023-10-20T07:52:32.349469Z",
     "iopub.status.idle": "2023-10-20T07:52:32.728726Z",
     "shell.execute_reply": "2023-10-20T07:52:32.728027Z"
    }
   },
   "outputs": [],
   "source": [
    "from tianshou.data import Batch\n",
    "\n",
    "b = Batch(**_TREE_DATA_2)"
   ]
  },
  {
   "cell_type": "code",
   "execution_count": 9,
   "id": "cb0777c3",
   "metadata": {
    "execution": {
     "iopub.execute_input": "2023-10-20T07:52:32.732339Z",
     "iopub.status.busy": "2023-10-20T07:52:32.731671Z",
     "iopub.status.idle": "2023-10-20T07:52:32.738096Z",
     "shell.execute_reply": "2023-10-20T07:52:32.737441Z"
    }
   },
   "outputs": [
    {
     "data": {
      "text/plain": [
       "Batch(\n",
       "    a: tensor([[-1.4916, -0.4511,  0.0633],\n",
       "               [ 0.2273,  0.1149, -1.1401]]),\n",
       "    x: Batch(\n",
       "           c: tensor([[ 1.2364, -1.2485,  1.6212, -0.5242],\n",
       "                      [ 1.2824,  1.5641,  0.6374,  1.2199],\n",
       "                      [ 0.6198,  0.5993, -0.3168, -1.2198]]),\n",
       "       ),\n",
       ")"
      ]
     },
     "execution_count": 9,
     "metadata": {},
     "output_type": "execute_result"
    }
   ],
   "source": [
    "b"
   ]
  },
  {
   "cell_type": "code",
   "execution_count": 10,
   "id": "43ef8ea3",
   "metadata": {
    "execution": {
     "iopub.execute_input": "2023-10-20T07:52:32.741201Z",
     "iopub.status.busy": "2023-10-20T07:52:32.740760Z",
     "iopub.status.idle": "2023-10-20T07:52:32.747811Z",
     "shell.execute_reply": "2023-10-20T07:52:32.746879Z"
    }
   },
   "outputs": [
    {
     "data": {
      "text/plain": [
       "tensor([[-1.4916, -0.4511,  0.0633],\n",
       "        [ 0.2273,  0.1149, -1.1401]])"
      ]
     },
     "execution_count": 10,
     "metadata": {},
     "output_type": "execute_result"
    }
   ],
   "source": [
    "b.a"
   ]
  },
  {
   "cell_type": "code",
   "execution_count": 11,
   "id": "b785ab72",
   "metadata": {
    "execution": {
     "iopub.execute_input": "2023-10-20T07:52:32.750855Z",
     "iopub.status.busy": "2023-10-20T07:52:32.750431Z",
     "iopub.status.idle": "2023-10-20T07:52:37.396218Z",
     "shell.execute_reply": "2023-10-20T07:52:37.395487Z"
    }
   },
   "outputs": [
    {
     "name": "stdout",
     "output_type": "stream",
     "text": [
      "56.8 ns ± 0.0173 ns per loop (mean ± std. dev. of 7 runs, 10,000,000 loops each)\n"
     ]
    }
   ],
   "source": [
    "%timeit b.a"
   ]
  },
  {
   "cell_type": "code",
   "execution_count": 12,
   "id": "ad54dc69",
   "metadata": {
    "execution": {
     "iopub.execute_input": "2023-10-20T07:52:37.399442Z",
     "iopub.status.busy": "2023-10-20T07:52:37.398861Z",
     "iopub.status.idle": "2023-10-20T07:52:37.407252Z",
     "shell.execute_reply": "2023-10-20T07:52:37.406319Z"
    }
   },
   "outputs": [
    {
     "data": {
      "text/plain": [
       "Batch(\n",
       "    a: tensor([[-0.1565,  1.1823,  0.0819],\n",
       "               [ 0.3541,  1.0959, -1.0624]]),\n",
       "    x: Batch(\n",
       "           c: tensor([[ 1.2364, -1.2485,  1.6212, -0.5242],\n",
       "                      [ 1.2824,  1.5641,  0.6374,  1.2199],\n",
       "                      [ 0.6198,  0.5993, -0.3168, -1.2198]]),\n",
       "       ),\n",
       ")"
      ]
     },
     "execution_count": 12,
     "metadata": {},
     "output_type": "execute_result"
    }
   ],
   "source": [
    "new_value = torch.randn(2, 3)\n",
    "b.a = new_value\n",
    "\n",
    "b"
   ]
  },
  {
   "cell_type": "code",
   "execution_count": 13,
   "id": "29b1d0bf",
   "metadata": {
    "execution": {
     "iopub.execute_input": "2023-10-20T07:52:37.410406Z",
     "iopub.status.busy": "2023-10-20T07:52:37.409852Z",
     "iopub.status.idle": "2023-10-20T07:52:41.386346Z",
     "shell.execute_reply": "2023-10-20T07:52:41.385656Z"
    }
   },
   "outputs": [
    {
     "name": "stdout",
     "output_type": "stream",
     "text": [
      "490 ns ± 0.175 ns per loop (mean ± std. dev. of 7 runs, 1,000,000 loops each)\n"
     ]
    }
   ],
   "source": [
    "%timeit b.a = new_value"
   ]
  },
  {
   "cell_type": "markdown",
   "id": "b61ad1d0",
   "metadata": {},
   "source": [
    "## Initialization"
   ]
  },
  {
   "cell_type": "markdown",
   "id": "d70f0d54",
   "metadata": {},
   "source": [
    "### TreeValue's Initialization"
   ]
  },
  {
   "cell_type": "code",
   "execution_count": 14,
   "id": "d32a679b",
   "metadata": {
    "execution": {
     "iopub.execute_input": "2023-10-20T07:52:41.389819Z",
     "iopub.status.busy": "2023-10-20T07:52:41.389359Z",
     "iopub.status.idle": "2023-10-20T07:52:47.983914Z",
     "shell.execute_reply": "2023-10-20T07:52:47.982952Z"
    }
   },
   "outputs": [
    {
     "name": "stdout",
     "output_type": "stream",
     "text": [
      "813 ns ± 0.431 ns per loop (mean ± std. dev. of 7 runs, 1,000,000 loops each)\n"
     ]
    }
   ],
   "source": [
    "%timeit FastTreeValue(_TREE_DATA_1)"
   ]
  },
  {
   "cell_type": "markdown",
   "id": "24f3707b",
   "metadata": {},
   "source": [
    "### Tianshou Batch's Initialization"
   ]
  },
  {
   "cell_type": "code",
   "execution_count": 15,
   "id": "ac3958df",
   "metadata": {
    "execution": {
     "iopub.execute_input": "2023-10-20T07:52:47.987038Z",
     "iopub.status.busy": "2023-10-20T07:52:47.986660Z",
     "iopub.status.idle": "2023-10-20T07:52:57.244775Z",
     "shell.execute_reply": "2023-10-20T07:52:57.244054Z"
    }
   },
   "outputs": [
    {
     "name": "stdout",
     "output_type": "stream",
     "text": [
      "11.4 µs ± 33.5 ns per loop (mean ± std. dev. of 7 runs, 100,000 loops each)\n"
     ]
    }
   ],
   "source": [
    "%timeit Batch(**_TREE_DATA_1)"
   ]
  },
  {
   "cell_type": "markdown",
   "id": "1ab82e2d",
   "metadata": {},
   "source": [
    "## Deep Copy Operation"
   ]
  },
  {
   "cell_type": "code",
   "execution_count": 16,
   "id": "210a9442",
   "metadata": {
    "execution": {
     "iopub.execute_input": "2023-10-20T07:52:57.247999Z",
     "iopub.status.busy": "2023-10-20T07:52:57.247448Z",
     "iopub.status.idle": "2023-10-20T07:52:57.250597Z",
     "shell.execute_reply": "2023-10-20T07:52:57.249967Z"
    }
   },
   "outputs": [],
   "source": [
    "import copy"
   ]
  },
  {
   "cell_type": "markdown",
   "id": "5a736274",
   "metadata": {},
   "source": [
    "### Deep Copy of TreeValue"
   ]
  },
  {
   "cell_type": "code",
   "execution_count": 17,
   "id": "f9bcadd6",
   "metadata": {
    "execution": {
     "iopub.execute_input": "2023-10-20T07:52:57.253597Z",
     "iopub.status.busy": "2023-10-20T07:52:57.253033Z",
     "iopub.status.idle": "2023-10-20T07:53:08.816784Z",
     "shell.execute_reply": "2023-10-20T07:53:08.816200Z"
    }
   },
   "outputs": [
    {
     "name": "stdout",
     "output_type": "stream",
     "text": [
      "143 µs ± 1.64 µs per loop (mean ± std. dev. of 7 runs, 10,000 loops each)\n"
     ]
    }
   ],
   "source": [
    "t3 = FastTreeValue(_TREE_DATA_3)\n",
    "%timeit copy.deepcopy(t3)"
   ]
  },
  {
   "cell_type": "markdown",
   "id": "bf8be7ea",
   "metadata": {},
   "source": [
    "### Deep Copy of Tianshou Batch"
   ]
  },
  {
   "cell_type": "code",
   "execution_count": 18,
   "id": "91998e6f",
   "metadata": {
    "execution": {
     "iopub.execute_input": "2023-10-20T07:53:08.821432Z",
     "iopub.status.busy": "2023-10-20T07:53:08.820309Z",
     "iopub.status.idle": "2023-10-20T07:53:20.472650Z",
     "shell.execute_reply": "2023-10-20T07:53:20.472075Z"
    }
   },
   "outputs": [
    {
     "name": "stdout",
     "output_type": "stream",
     "text": [
      "144 µs ± 779 ns per loop (mean ± std. dev. of 7 runs, 10,000 loops each)\n"
     ]
    }
   ],
   "source": [
    "b3 = Batch(**_TREE_DATA_3)\n",
    "%timeit copy.deepcopy(b3)"
   ]
  },
  {
   "cell_type": "markdown",
   "id": "223162fb",
   "metadata": {},
   "source": [
    "## Stack, Concat and Split Operation"
   ]
  },
  {
   "cell_type": "markdown",
   "id": "85fa4a73",
   "metadata": {},
   "source": [
    "### Performance of TreeValue"
   ]
  },
  {
   "cell_type": "code",
   "execution_count": 19,
   "id": "a0c2b697",
   "metadata": {
    "execution": {
     "iopub.execute_input": "2023-10-20T07:53:20.477472Z",
     "iopub.status.busy": "2023-10-20T07:53:20.476299Z",
     "iopub.status.idle": "2023-10-20T07:53:20.481135Z",
     "shell.execute_reply": "2023-10-20T07:53:20.480592Z"
    }
   },
   "outputs": [],
   "source": [
    "trees = [FastTreeValue(_TREE_DATA_2) for _ in range(8)]"
   ]
  },
  {
   "cell_type": "code",
   "execution_count": 20,
   "id": "017ea5a5",
   "metadata": {
    "execution": {
     "iopub.execute_input": "2023-10-20T07:53:20.484684Z",
     "iopub.status.busy": "2023-10-20T07:53:20.484208Z",
     "iopub.status.idle": "2023-10-20T07:53:20.491761Z",
     "shell.execute_reply": "2023-10-20T07:53:20.491079Z"
    }
   },
   "outputs": [
    {
     "data": {
      "text/plain": [
       "<FastTreeValue 0x7f7bf30a98e0>\n",
       "├── 'a' --> tensor([[[-1.4916, -0.4511,  0.0633],\n",
       "│                    [ 0.2273,  0.1149, -1.1401]],\n",
       "│           \n",
       "│                   [[-1.4916, -0.4511,  0.0633],\n",
       "│                    [ 0.2273,  0.1149, -1.1401]],\n",
       "│           \n",
       "│                   [[-1.4916, -0.4511,  0.0633],\n",
       "│                    [ 0.2273,  0.1149, -1.1401]],\n",
       "│           \n",
       "│                   [[-1.4916, -0.4511,  0.0633],\n",
       "│                    [ 0.2273,  0.1149, -1.1401]],\n",
       "│           \n",
       "│                   [[-1.4916, -0.4511,  0.0633],\n",
       "│                    [ 0.2273,  0.1149, -1.1401]],\n",
       "│           \n",
       "│                   [[-1.4916, -0.4511,  0.0633],\n",
       "│                    [ 0.2273,  0.1149, -1.1401]],\n",
       "│           \n",
       "│                   [[-1.4916, -0.4511,  0.0633],\n",
       "│                    [ 0.2273,  0.1149, -1.1401]],\n",
       "│           \n",
       "│                   [[-1.4916, -0.4511,  0.0633],\n",
       "│                    [ 0.2273,  0.1149, -1.1401]]])\n",
       "└── 'x' --> <FastTreeValue 0x7f7bf30a9310>\n",
       "    └── 'c' --> tensor([[[ 1.2364, -1.2485,  1.6212, -0.5242],\n",
       "                         [ 1.2824,  1.5641,  0.6374,  1.2199],\n",
       "                         [ 0.6198,  0.5993, -0.3168, -1.2198]],\n",
       "                \n",
       "                        [[ 1.2364, -1.2485,  1.6212, -0.5242],\n",
       "                         [ 1.2824,  1.5641,  0.6374,  1.2199],\n",
       "                         [ 0.6198,  0.5993, -0.3168, -1.2198]],\n",
       "                \n",
       "                        [[ 1.2364, -1.2485,  1.6212, -0.5242],\n",
       "                         [ 1.2824,  1.5641,  0.6374,  1.2199],\n",
       "                         [ 0.6198,  0.5993, -0.3168, -1.2198]],\n",
       "                \n",
       "                        [[ 1.2364, -1.2485,  1.6212, -0.5242],\n",
       "                         [ 1.2824,  1.5641,  0.6374,  1.2199],\n",
       "                         [ 0.6198,  0.5993, -0.3168, -1.2198]],\n",
       "                \n",
       "                        [[ 1.2364, -1.2485,  1.6212, -0.5242],\n",
       "                         [ 1.2824,  1.5641,  0.6374,  1.2199],\n",
       "                         [ 0.6198,  0.5993, -0.3168, -1.2198]],\n",
       "                \n",
       "                        [[ 1.2364, -1.2485,  1.6212, -0.5242],\n",
       "                         [ 1.2824,  1.5641,  0.6374,  1.2199],\n",
       "                         [ 0.6198,  0.5993, -0.3168, -1.2198]],\n",
       "                \n",
       "                        [[ 1.2364, -1.2485,  1.6212, -0.5242],\n",
       "                         [ 1.2824,  1.5641,  0.6374,  1.2199],\n",
       "                         [ 0.6198,  0.5993, -0.3168, -1.2198]],\n",
       "                \n",
       "                        [[ 1.2364, -1.2485,  1.6212, -0.5242],\n",
       "                         [ 1.2824,  1.5641,  0.6374,  1.2199],\n",
       "                         [ 0.6198,  0.5993, -0.3168, -1.2198]]])"
      ]
     },
     "execution_count": 20,
     "metadata": {},
     "output_type": "execute_result"
    }
   ],
   "source": [
    "t_stack = FastTreeValue.func(subside=True)(torch.stack)\n",
    "\n",
    "t_stack(trees)"
   ]
  },
  {
   "cell_type": "code",
   "execution_count": 21,
   "id": "f8b3f415",
   "metadata": {
    "execution": {
     "iopub.execute_input": "2023-10-20T07:53:20.494735Z",
     "iopub.status.busy": "2023-10-20T07:53:20.494295Z",
     "iopub.status.idle": "2023-10-20T07:53:23.151379Z",
     "shell.execute_reply": "2023-10-20T07:53:23.150677Z"
    }
   },
   "outputs": [
    {
     "name": "stdout",
     "output_type": "stream",
     "text": [
      "32.7 µs ± 94.8 ns per loop (mean ± std. dev. of 7 runs, 10,000 loops each)\n"
     ]
    }
   ],
   "source": [
    "%timeit t_stack(trees)"
   ]
  },
  {
   "cell_type": "code",
   "execution_count": 22,
   "id": "94b56771",
   "metadata": {
    "execution": {
     "iopub.execute_input": "2023-10-20T07:53:23.154819Z",
     "iopub.status.busy": "2023-10-20T07:53:23.154253Z",
     "iopub.status.idle": "2023-10-20T07:53:23.162971Z",
     "shell.execute_reply": "2023-10-20T07:53:23.162381Z"
    }
   },
   "outputs": [
    {
     "data": {
      "text/plain": [
       "<FastTreeValue 0x7f7cd0fa1790>\n",
       "├── 'a' --> tensor([[-1.4916, -0.4511,  0.0633],\n",
       "│                   [ 0.2273,  0.1149, -1.1401],\n",
       "│                   [-1.4916, -0.4511,  0.0633],\n",
       "│                   [ 0.2273,  0.1149, -1.1401],\n",
       "│                   [-1.4916, -0.4511,  0.0633],\n",
       "│                   [ 0.2273,  0.1149, -1.1401],\n",
       "│                   [-1.4916, -0.4511,  0.0633],\n",
       "│                   [ 0.2273,  0.1149, -1.1401],\n",
       "│                   [-1.4916, -0.4511,  0.0633],\n",
       "│                   [ 0.2273,  0.1149, -1.1401],\n",
       "│                   [-1.4916, -0.4511,  0.0633],\n",
       "│                   [ 0.2273,  0.1149, -1.1401],\n",
       "│                   [-1.4916, -0.4511,  0.0633],\n",
       "│                   [ 0.2273,  0.1149, -1.1401],\n",
       "│                   [-1.4916, -0.4511,  0.0633],\n",
       "│                   [ 0.2273,  0.1149, -1.1401]])\n",
       "└── 'x' --> <FastTreeValue 0x7f7bf35e4f70>\n",
       "    └── 'c' --> tensor([[ 1.2364, -1.2485,  1.6212, -0.5242],\n",
       "                        [ 1.2824,  1.5641,  0.6374,  1.2199],\n",
       "                        [ 0.6198,  0.5993, -0.3168, -1.2198],\n",
       "                        [ 1.2364, -1.2485,  1.6212, -0.5242],\n",
       "                        [ 1.2824,  1.5641,  0.6374,  1.2199],\n",
       "                        [ 0.6198,  0.5993, -0.3168, -1.2198],\n",
       "                        [ 1.2364, -1.2485,  1.6212, -0.5242],\n",
       "                        [ 1.2824,  1.5641,  0.6374,  1.2199],\n",
       "                        [ 0.6198,  0.5993, -0.3168, -1.2198],\n",
       "                        [ 1.2364, -1.2485,  1.6212, -0.5242],\n",
       "                        [ 1.2824,  1.5641,  0.6374,  1.2199],\n",
       "                        [ 0.6198,  0.5993, -0.3168, -1.2198],\n",
       "                        [ 1.2364, -1.2485,  1.6212, -0.5242],\n",
       "                        [ 1.2824,  1.5641,  0.6374,  1.2199],\n",
       "                        [ 0.6198,  0.5993, -0.3168, -1.2198],\n",
       "                        [ 1.2364, -1.2485,  1.6212, -0.5242],\n",
       "                        [ 1.2824,  1.5641,  0.6374,  1.2199],\n",
       "                        [ 0.6198,  0.5993, -0.3168, -1.2198],\n",
       "                        [ 1.2364, -1.2485,  1.6212, -0.5242],\n",
       "                        [ 1.2824,  1.5641,  0.6374,  1.2199],\n",
       "                        [ 0.6198,  0.5993, -0.3168, -1.2198],\n",
       "                        [ 1.2364, -1.2485,  1.6212, -0.5242],\n",
       "                        [ 1.2824,  1.5641,  0.6374,  1.2199],\n",
       "                        [ 0.6198,  0.5993, -0.3168, -1.2198]])"
      ]
     },
     "execution_count": 22,
     "metadata": {},
     "output_type": "execute_result"
    }
   ],
   "source": [
    "t_cat = FastTreeValue.func(subside=True)(torch.cat)\n",
    "\n",
    "t_cat(trees)"
   ]
  },
  {
   "cell_type": "code",
   "execution_count": 23,
   "id": "5e9c06a6",
   "metadata": {
    "execution": {
     "iopub.execute_input": "2023-10-20T07:53:23.165775Z",
     "iopub.status.busy": "2023-10-20T07:53:23.165344Z",
     "iopub.status.idle": "2023-10-20T07:53:25.698342Z",
     "shell.execute_reply": "2023-10-20T07:53:25.696996Z"
    }
   },
   "outputs": [
    {
     "name": "stdout",
     "output_type": "stream",
     "text": [
      "31.1 µs ± 115 ns per loop (mean ± std. dev. of 7 runs, 10,000 loops each)\n"
     ]
    }
   ],
   "source": [
    "%timeit t_cat(trees)"
   ]
  },
  {
   "cell_type": "code",
   "execution_count": 24,
   "id": "a3ab5c8f",
   "metadata": {
    "execution": {
     "iopub.execute_input": "2023-10-20T07:53:25.701550Z",
     "iopub.status.busy": "2023-10-20T07:53:25.701083Z",
     "iopub.status.idle": "2023-10-20T07:53:31.288499Z",
     "shell.execute_reply": "2023-10-20T07:53:31.287818Z"
    }
   },
   "outputs": [
    {
     "name": "stdout",
     "output_type": "stream",
     "text": [
      "68.8 µs ± 158 ns per loop (mean ± std. dev. of 7 runs, 10,000 loops each)\n"
     ]
    }
   ],
   "source": [
    "t_split = FastTreeValue.func(rise=True)(torch.split)\n",
    "tree = FastTreeValue({\n",
    "    'obs': torch.randn(8, 4, 84, 84),\n",
    "    'action': torch.randint(0, 6, size=(8, 1,)),\n",
    "    'reward': torch.rand(8, 1),\n",
    "})\n",
    "\n",
    "%timeit t_split(tree, 1)"
   ]
  },
  {
   "cell_type": "markdown",
   "id": "31c3ec0b",
   "metadata": {},
   "source": [
    "### Performance of Tianshou Batch"
   ]
  },
  {
   "cell_type": "code",
   "execution_count": 25,
   "id": "9ead828a",
   "metadata": {
    "execution": {
     "iopub.execute_input": "2023-10-20T07:53:31.291568Z",
     "iopub.status.busy": "2023-10-20T07:53:31.291255Z",
     "iopub.status.idle": "2023-10-20T07:53:31.301391Z",
     "shell.execute_reply": "2023-10-20T07:53:31.300682Z"
    }
   },
   "outputs": [
    {
     "data": {
      "text/plain": [
       "Batch(\n",
       "    a: tensor([[[-1.4916, -0.4511,  0.0633],\n",
       "                [ 0.2273,  0.1149, -1.1401]],\n",
       "       \n",
       "               [[-1.4916, -0.4511,  0.0633],\n",
       "                [ 0.2273,  0.1149, -1.1401]],\n",
       "       \n",
       "               [[-1.4916, -0.4511,  0.0633],\n",
       "                [ 0.2273,  0.1149, -1.1401]],\n",
       "       \n",
       "               [[-1.4916, -0.4511,  0.0633],\n",
       "                [ 0.2273,  0.1149, -1.1401]],\n",
       "       \n",
       "               [[-1.4916, -0.4511,  0.0633],\n",
       "                [ 0.2273,  0.1149, -1.1401]],\n",
       "       \n",
       "               [[-1.4916, -0.4511,  0.0633],\n",
       "                [ 0.2273,  0.1149, -1.1401]],\n",
       "       \n",
       "               [[-1.4916, -0.4511,  0.0633],\n",
       "                [ 0.2273,  0.1149, -1.1401]],\n",
       "       \n",
       "               [[-1.4916, -0.4511,  0.0633],\n",
       "                [ 0.2273,  0.1149, -1.1401]]]),\n",
       "    x: Batch(\n",
       "           c: tensor([[[ 1.2364, -1.2485,  1.6212, -0.5242],\n",
       "                       [ 1.2824,  1.5641,  0.6374,  1.2199],\n",
       "                       [ 0.6198,  0.5993, -0.3168, -1.2198]],\n",
       "              \n",
       "                      [[ 1.2364, -1.2485,  1.6212, -0.5242],\n",
       "                       [ 1.2824,  1.5641,  0.6374,  1.2199],\n",
       "                       [ 0.6198,  0.5993, -0.3168, -1.2198]],\n",
       "              \n",
       "                      [[ 1.2364, -1.2485,  1.6212, -0.5242],\n",
       "                       [ 1.2824,  1.5641,  0.6374,  1.2199],\n",
       "                       [ 0.6198,  0.5993, -0.3168, -1.2198]],\n",
       "              \n",
       "                      [[ 1.2364, -1.2485,  1.6212, -0.5242],\n",
       "                       [ 1.2824,  1.5641,  0.6374,  1.2199],\n",
       "                       [ 0.6198,  0.5993, -0.3168, -1.2198]],\n",
       "              \n",
       "                      [[ 1.2364, -1.2485,  1.6212, -0.5242],\n",
       "                       [ 1.2824,  1.5641,  0.6374,  1.2199],\n",
       "                       [ 0.6198,  0.5993, -0.3168, -1.2198]],\n",
       "              \n",
       "                      [[ 1.2364, -1.2485,  1.6212, -0.5242],\n",
       "                       [ 1.2824,  1.5641,  0.6374,  1.2199],\n",
       "                       [ 0.6198,  0.5993, -0.3168, -1.2198]],\n",
       "              \n",
       "                      [[ 1.2364, -1.2485,  1.6212, -0.5242],\n",
       "                       [ 1.2824,  1.5641,  0.6374,  1.2199],\n",
       "                       [ 0.6198,  0.5993, -0.3168, -1.2198]],\n",
       "              \n",
       "                      [[ 1.2364, -1.2485,  1.6212, -0.5242],\n",
       "                       [ 1.2824,  1.5641,  0.6374,  1.2199],\n",
       "                       [ 0.6198,  0.5993, -0.3168, -1.2198]]]),\n",
       "       ),\n",
       ")"
      ]
     },
     "execution_count": 25,
     "metadata": {},
     "output_type": "execute_result"
    }
   ],
   "source": [
    "batches = [Batch(**_TREE_DATA_2) for _ in range(8)]\n",
    "\n",
    "Batch.stack(batches)"
   ]
  },
  {
   "cell_type": "code",
   "execution_count": 26,
   "id": "ec9037a3",
   "metadata": {
    "execution": {
     "iopub.execute_input": "2023-10-20T07:53:31.304329Z",
     "iopub.status.busy": "2023-10-20T07:53:31.304092Z",
     "iopub.status.idle": "2023-10-20T07:53:37.791254Z",
     "shell.execute_reply": "2023-10-20T07:53:37.790632Z"
    }
   },
   "outputs": [
    {
     "name": "stdout",
     "output_type": "stream",
     "text": [
      "79.9 µs ± 329 ns per loop (mean ± std. dev. of 7 runs, 10,000 loops each)\n"
     ]
    }
   ],
   "source": [
    "%timeit Batch.stack(batches)"
   ]
  },
  {
   "cell_type": "code",
   "execution_count": 27,
   "id": "cb8ab77e",
   "metadata": {
    "execution": {
     "iopub.execute_input": "2023-10-20T07:53:37.794636Z",
     "iopub.status.busy": "2023-10-20T07:53:37.794064Z",
     "iopub.status.idle": "2023-10-20T07:53:37.802150Z",
     "shell.execute_reply": "2023-10-20T07:53:37.801561Z"
    }
   },
   "outputs": [
    {
     "data": {
      "text/plain": [
       "Batch(\n",
       "    a: tensor([[-1.4916, -0.4511,  0.0633],\n",
       "               [ 0.2273,  0.1149, -1.1401],\n",
       "               [-1.4916, -0.4511,  0.0633],\n",
       "               [ 0.2273,  0.1149, -1.1401],\n",
       "               [-1.4916, -0.4511,  0.0633],\n",
       "               [ 0.2273,  0.1149, -1.1401],\n",
       "               [-1.4916, -0.4511,  0.0633],\n",
       "               [ 0.2273,  0.1149, -1.1401],\n",
       "               [-1.4916, -0.4511,  0.0633],\n",
       "               [ 0.2273,  0.1149, -1.1401],\n",
       "               [-1.4916, -0.4511,  0.0633],\n",
       "               [ 0.2273,  0.1149, -1.1401],\n",
       "               [-1.4916, -0.4511,  0.0633],\n",
       "               [ 0.2273,  0.1149, -1.1401],\n",
       "               [-1.4916, -0.4511,  0.0633],\n",
       "               [ 0.2273,  0.1149, -1.1401]]),\n",
       "    x: Batch(\n",
       "           c: tensor([[ 1.2364, -1.2485,  1.6212, -0.5242],\n",
       "                      [ 1.2824,  1.5641,  0.6374,  1.2199],\n",
       "                      [ 0.6198,  0.5993, -0.3168, -1.2198],\n",
       "                      [ 1.2364, -1.2485,  1.6212, -0.5242],\n",
       "                      [ 1.2824,  1.5641,  0.6374,  1.2199],\n",
       "                      [ 0.6198,  0.5993, -0.3168, -1.2198],\n",
       "                      [ 1.2364, -1.2485,  1.6212, -0.5242],\n",
       "                      [ 1.2824,  1.5641,  0.6374,  1.2199],\n",
       "                      [ 0.6198,  0.5993, -0.3168, -1.2198],\n",
       "                      [ 1.2364, -1.2485,  1.6212, -0.5242],\n",
       "                      [ 1.2824,  1.5641,  0.6374,  1.2199],\n",
       "                      [ 0.6198,  0.5993, -0.3168, -1.2198],\n",
       "                      [ 1.2364, -1.2485,  1.6212, -0.5242],\n",
       "                      [ 1.2824,  1.5641,  0.6374,  1.2199],\n",
       "                      [ 0.6198,  0.5993, -0.3168, -1.2198],\n",
       "                      [ 1.2364, -1.2485,  1.6212, -0.5242],\n",
       "                      [ 1.2824,  1.5641,  0.6374,  1.2199],\n",
       "                      [ 0.6198,  0.5993, -0.3168, -1.2198],\n",
       "                      [ 1.2364, -1.2485,  1.6212, -0.5242],\n",
       "                      [ 1.2824,  1.5641,  0.6374,  1.2199],\n",
       "                      [ 0.6198,  0.5993, -0.3168, -1.2198],\n",
       "                      [ 1.2364, -1.2485,  1.6212, -0.5242],\n",
       "                      [ 1.2824,  1.5641,  0.6374,  1.2199],\n",
       "                      [ 0.6198,  0.5993, -0.3168, -1.2198]]),\n",
       "       ),\n",
       ")"
      ]
     },
     "execution_count": 27,
     "metadata": {},
     "output_type": "execute_result"
    }
   ],
   "source": [
    "Batch.cat(batches)"
   ]
  },
  {
   "cell_type": "code",
   "execution_count": 28,
   "id": "18dfb045",
   "metadata": {
    "execution": {
     "iopub.execute_input": "2023-10-20T07:53:37.805113Z",
     "iopub.status.busy": "2023-10-20T07:53:37.804561Z",
     "iopub.status.idle": "2023-10-20T07:53:50.031178Z",
     "shell.execute_reply": "2023-10-20T07:53:50.030462Z"
    }
   },
   "outputs": [
    {
     "name": "stdout",
     "output_type": "stream",
     "text": [
      "151 µs ± 402 ns per loop (mean ± std. dev. of 7 runs, 10,000 loops each)\n"
     ]
    }
   ],
   "source": [
    "%timeit Batch.cat(batches)"
   ]
  },
  {
   "cell_type": "code",
   "execution_count": 29,
   "id": "c6688e51",
   "metadata": {
    "execution": {
     "iopub.execute_input": "2023-10-20T07:53:50.034269Z",
     "iopub.status.busy": "2023-10-20T07:53:50.033816Z",
     "iopub.status.idle": "2023-10-20T07:53:53.005874Z",
     "shell.execute_reply": "2023-10-20T07:53:53.005318Z"
    }
   },
   "outputs": [
    {
     "name": "stdout",
     "output_type": "stream",
     "text": [
      "365 µs ± 6.26 µs per loop (mean ± std. dev. of 7 runs, 1,000 loops each)\n"
     ]
    }
   ],
   "source": [
    "batch = Batch({\n",
    "    'obs': torch.randn(8, 4, 84, 84),\n",
    "    'action': torch.randint(0, 6, size=(8, 1,)),\n",
    "    'reward': torch.rand(8, 1)}\n",
    ")\n",
    "\n",
    "%timeit list(Batch.split(batch, 1, shuffle=False, merge_last=True))"
   ]
  },
  {
   "cell_type": "code",
   "execution_count": null,
   "id": "2539fbd9",
   "metadata": {},
   "outputs": [],
   "source": []
  }
 ],
 "metadata": {
  "kernelspec": {
   "display_name": "Python 3 (ipykernel)",
   "language": "python",
   "name": "python3"
  },
  "language_info": {
   "codemirror_mode": {
    "name": "ipython",
    "version": 3
   },
   "file_extension": ".py",
   "mimetype": "text/x-python",
   "name": "python",
   "nbconvert_exporter": "python",
   "pygments_lexer": "ipython3",
   "version": "3.8.18"
  }
 },
 "nbformat": 4,
 "nbformat_minor": 5
}
