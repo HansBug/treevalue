{
 "cells": [
  {
   "cell_type": "markdown",
   "id": "9d39d946",
   "metadata": {},
   "source": [
    "# Comparison Between TreeValue and Tianshou Batch"
   ]
  },
  {
   "cell_type": "markdown",
   "id": "3c6db2d4",
   "metadata": {},
   "source": [
    "In this section, we will take a look at the feature and performance of the [Tianshou Batch](https://github.com/thu-ml/tianshou) library, which is developed by Tsinghua Machine Learning Group."
   ]
  },
  {
   "cell_type": "markdown",
   "id": "069361b0",
   "metadata": {},
   "source": [
    "Before starting the comparison, let us define some thing."
   ]
  },
  {
   "cell_type": "code",
   "execution_count": 1,
   "id": "06fc8d26",
   "metadata": {
    "execution": {
     "iopub.execute_input": "2023-10-20T09:03:48.216290Z",
     "iopub.status.busy": "2023-10-20T09:03:48.215384Z",
     "iopub.status.idle": "2023-10-20T09:03:50.643479Z",
     "shell.execute_reply": "2023-10-20T09:03:50.642200Z"
    }
   },
   "outputs": [],
   "source": [
    "import torch \n",
    "\n",
    "_TREE_DATA_1 = {'a': 1, 'b': 2, 'x': {'c': 3, 'd': 4}}\n",
    "_TREE_DATA_2 = {\n",
    "    'a': torch.randn(2, 3), \n",
    "    'x': {\n",
    "        'c': torch.randn(3, 4)\n",
    "    },\n",
    "}\n",
    "_TREE_DATA_3 = {\n",
    "    'obs': torch.randn(4, 84, 84),\n",
    "    'action': torch.randint(0, 6, size=(1,)),\n",
    "    'reward': torch.rand(1),\n",
    "}"
   ]
  },
  {
   "cell_type": "markdown",
   "id": "83461b25",
   "metadata": {},
   "source": [
    "## Read and Write Operation"
   ]
  },
  {
   "cell_type": "markdown",
   "id": "067b3f73",
   "metadata": {},
   "source": [
    "Reading and writing are the two most common operations in the tree data structure based on the data model (TreeValue and Tianshou Batch both belong to this type), so this section will compare the reading and writing performance of these two libraries."
   ]
  },
  {
   "cell_type": "markdown",
   "id": "5d09a5b7",
   "metadata": {},
   "source": [
    "### TreeValue's Get and Set"
   ]
  },
  {
   "cell_type": "code",
   "execution_count": 2,
   "id": "9519c4bb",
   "metadata": {
    "execution": {
     "iopub.execute_input": "2023-10-20T09:03:50.652861Z",
     "iopub.status.busy": "2023-10-20T09:03:50.651159Z",
     "iopub.status.idle": "2023-10-20T09:03:50.726533Z",
     "shell.execute_reply": "2023-10-20T09:03:50.725081Z"
    }
   },
   "outputs": [],
   "source": [
    "from treevalue import FastTreeValue\n",
    "\n",
    "t = FastTreeValue(_TREE_DATA_2)"
   ]
  },
  {
   "cell_type": "code",
   "execution_count": 3,
   "id": "11c37677",
   "metadata": {
    "execution": {
     "iopub.execute_input": "2023-10-20T09:03:50.733564Z",
     "iopub.status.busy": "2023-10-20T09:03:50.732701Z",
     "iopub.status.idle": "2023-10-20T09:03:50.752796Z",
     "shell.execute_reply": "2023-10-20T09:03:50.751352Z"
    }
   },
   "outputs": [
    {
     "data": {
      "text/plain": [
       "<FastTreeValue 0x7f3f9cb23970>\n",
       "├── 'a' --> tensor([[ 0.7133, -1.2241,  0.4244],\n",
       "│                   [ 0.7915, -0.3099,  0.8456]])\n",
       "└── 'x' --> <FastTreeValue 0x7f3f9cb1db50>\n",
       "    └── 'c' --> tensor([[-0.7565,  1.0084, -1.9662, -0.6963],\n",
       "                        [ 0.5654,  0.0600, -0.7498, -0.6859],\n",
       "                        [ 1.1125, -1.1716, -0.7321, -0.3056]])"
      ]
     },
     "execution_count": 3,
     "metadata": {},
     "output_type": "execute_result"
    }
   ],
   "source": [
    "t"
   ]
  },
  {
   "cell_type": "code",
   "execution_count": 4,
   "id": "fd70b0b9",
   "metadata": {
    "execution": {
     "iopub.execute_input": "2023-10-20T09:03:50.760599Z",
     "iopub.status.busy": "2023-10-20T09:03:50.759666Z",
     "iopub.status.idle": "2023-10-20T09:03:50.774125Z",
     "shell.execute_reply": "2023-10-20T09:03:50.771739Z"
    }
   },
   "outputs": [
    {
     "data": {
      "text/plain": [
       "tensor([[ 0.7133, -1.2241,  0.4244],\n",
       "        [ 0.7915, -0.3099,  0.8456]])"
      ]
     },
     "execution_count": 4,
     "metadata": {},
     "output_type": "execute_result"
    }
   ],
   "source": [
    "t.a"
   ]
  },
  {
   "cell_type": "code",
   "execution_count": 5,
   "id": "c18197bd",
   "metadata": {
    "execution": {
     "iopub.execute_input": "2023-10-20T09:03:50.780212Z",
     "iopub.status.busy": "2023-10-20T09:03:50.778935Z",
     "iopub.status.idle": "2023-10-20T09:03:57.851260Z",
     "shell.execute_reply": "2023-10-20T09:03:57.849922Z"
    }
   },
   "outputs": [
    {
     "name": "stdout",
     "output_type": "stream",
     "text": [
      "86.6 ns ± 2.04 ns per loop (mean ± std. dev. of 7 runs, 10,000,000 loops each)\n"
     ]
    }
   ],
   "source": [
    "%timeit t.a"
   ]
  },
  {
   "cell_type": "code",
   "execution_count": 6,
   "id": "bd52f867",
   "metadata": {
    "execution": {
     "iopub.execute_input": "2023-10-20T09:03:57.857291Z",
     "iopub.status.busy": "2023-10-20T09:03:57.856714Z",
     "iopub.status.idle": "2023-10-20T09:03:57.864689Z",
     "shell.execute_reply": "2023-10-20T09:03:57.863856Z"
    }
   },
   "outputs": [
    {
     "data": {
      "text/plain": [
       "<FastTreeValue 0x7f3f9cb23970>\n",
       "├── 'a' --> tensor([[-0.0179, -0.9719,  0.8975],\n",
       "│                   [-1.3354, -0.3030,  0.0835]])\n",
       "└── 'x' --> <FastTreeValue 0x7f3f9cb1db50>\n",
       "    └── 'c' --> tensor([[-0.7565,  1.0084, -1.9662, -0.6963],\n",
       "                        [ 0.5654,  0.0600, -0.7498, -0.6859],\n",
       "                        [ 1.1125, -1.1716, -0.7321, -0.3056]])"
      ]
     },
     "execution_count": 6,
     "metadata": {},
     "output_type": "execute_result"
    }
   ],
   "source": [
    "new_value = torch.randn(2, 3)\n",
    "t.a = new_value\n",
    "\n",
    "t"
   ]
  },
  {
   "cell_type": "code",
   "execution_count": 7,
   "id": "bbe04d1c",
   "metadata": {
    "execution": {
     "iopub.execute_input": "2023-10-20T09:03:57.868664Z",
     "iopub.status.busy": "2023-10-20T09:03:57.868137Z",
     "iopub.status.idle": "2023-10-20T09:04:06.047600Z",
     "shell.execute_reply": "2023-10-20T09:04:06.046345Z"
    }
   },
   "outputs": [
    {
     "name": "stdout",
     "output_type": "stream",
     "text": [
      "101 ns ± 0.252 ns per loop (mean ± std. dev. of 7 runs, 10,000,000 loops each)\n"
     ]
    }
   ],
   "source": [
    "%timeit t.a = new_value"
   ]
  },
  {
   "cell_type": "markdown",
   "id": "48c49731",
   "metadata": {},
   "source": [
    "### Tianshou Batch's Get and Set"
   ]
  },
  {
   "cell_type": "code",
   "execution_count": 8,
   "id": "f1bb14c1",
   "metadata": {
    "execution": {
     "iopub.execute_input": "2023-10-20T09:04:06.052888Z",
     "iopub.status.busy": "2023-10-20T09:04:06.051997Z",
     "iopub.status.idle": "2023-10-20T09:04:06.597089Z",
     "shell.execute_reply": "2023-10-20T09:04:06.595652Z"
    }
   },
   "outputs": [],
   "source": [
    "from tianshou.data import Batch\n",
    "\n",
    "b = Batch(**_TREE_DATA_2)"
   ]
  },
  {
   "cell_type": "code",
   "execution_count": 9,
   "id": "cb0777c3",
   "metadata": {
    "execution": {
     "iopub.execute_input": "2023-10-20T09:04:06.604869Z",
     "iopub.status.busy": "2023-10-20T09:04:06.604361Z",
     "iopub.status.idle": "2023-10-20T09:04:06.615197Z",
     "shell.execute_reply": "2023-10-20T09:04:06.614399Z"
    }
   },
   "outputs": [
    {
     "data": {
      "text/plain": [
       "Batch(\n",
       "    a: tensor([[ 0.7133, -1.2241,  0.4244],\n",
       "               [ 0.7915, -0.3099,  0.8456]]),\n",
       "    x: Batch(\n",
       "           c: tensor([[-0.7565,  1.0084, -1.9662, -0.6963],\n",
       "                      [ 0.5654,  0.0600, -0.7498, -0.6859],\n",
       "                      [ 1.1125, -1.1716, -0.7321, -0.3056]]),\n",
       "       ),\n",
       ")"
      ]
     },
     "execution_count": 9,
     "metadata": {},
     "output_type": "execute_result"
    }
   ],
   "source": [
    "b"
   ]
  },
  {
   "cell_type": "code",
   "execution_count": 10,
   "id": "43ef8ea3",
   "metadata": {
    "execution": {
     "iopub.execute_input": "2023-10-20T09:04:06.619276Z",
     "iopub.status.busy": "2023-10-20T09:04:06.618425Z",
     "iopub.status.idle": "2023-10-20T09:04:06.624957Z",
     "shell.execute_reply": "2023-10-20T09:04:06.624159Z"
    }
   },
   "outputs": [
    {
     "data": {
      "text/plain": [
       "tensor([[ 0.7133, -1.2241,  0.4244],\n",
       "        [ 0.7915, -0.3099,  0.8456]])"
      ]
     },
     "execution_count": 10,
     "metadata": {},
     "output_type": "execute_result"
    }
   ],
   "source": [
    "b.a"
   ]
  },
  {
   "cell_type": "code",
   "execution_count": 11,
   "id": "b785ab72",
   "metadata": {
    "execution": {
     "iopub.execute_input": "2023-10-20T09:04:06.629358Z",
     "iopub.status.busy": "2023-10-20T09:04:06.628770Z",
     "iopub.status.idle": "2023-10-20T09:04:13.079400Z",
     "shell.execute_reply": "2023-10-20T09:04:13.078012Z"
    }
   },
   "outputs": [
    {
     "name": "stdout",
     "output_type": "stream",
     "text": [
      "79.3 ns ± 0.435 ns per loop (mean ± std. dev. of 7 runs, 10,000,000 loops each)\n"
     ]
    }
   ],
   "source": [
    "%timeit b.a"
   ]
  },
  {
   "cell_type": "code",
   "execution_count": 12,
   "id": "ad54dc69",
   "metadata": {
    "execution": {
     "iopub.execute_input": "2023-10-20T09:04:13.084559Z",
     "iopub.status.busy": "2023-10-20T09:04:13.083922Z",
     "iopub.status.idle": "2023-10-20T09:04:13.096077Z",
     "shell.execute_reply": "2023-10-20T09:04:13.095169Z"
    }
   },
   "outputs": [
    {
     "data": {
      "text/plain": [
       "Batch(\n",
       "    a: tensor([[-0.3783, -0.5066, -1.2840],\n",
       "               [ 0.2640, -0.6292, -1.2595]]),\n",
       "    x: Batch(\n",
       "           c: tensor([[-0.7565,  1.0084, -1.9662, -0.6963],\n",
       "                      [ 0.5654,  0.0600, -0.7498, -0.6859],\n",
       "                      [ 1.1125, -1.1716, -0.7321, -0.3056]]),\n",
       "       ),\n",
       ")"
      ]
     },
     "execution_count": 12,
     "metadata": {},
     "output_type": "execute_result"
    }
   ],
   "source": [
    "new_value = torch.randn(2, 3)\n",
    "b.a = new_value\n",
    "\n",
    "b"
   ]
  },
  {
   "cell_type": "code",
   "execution_count": 13,
   "id": "29b1d0bf",
   "metadata": {
    "execution": {
     "iopub.execute_input": "2023-10-20T09:04:13.100049Z",
     "iopub.status.busy": "2023-10-20T09:04:13.099503Z",
     "iopub.status.idle": "2023-10-20T09:04:18.390243Z",
     "shell.execute_reply": "2023-10-20T09:04:18.389249Z"
    }
   },
   "outputs": [
    {
     "name": "stdout",
     "output_type": "stream",
     "text": [
      "650 ns ± 0.35 ns per loop (mean ± std. dev. of 7 runs, 1,000,000 loops each)\n"
     ]
    }
   ],
   "source": [
    "%timeit b.a = new_value"
   ]
  },
  {
   "cell_type": "markdown",
   "id": "b61ad1d0",
   "metadata": {},
   "source": [
    "## Initialization"
   ]
  },
  {
   "cell_type": "markdown",
   "id": "d70f0d54",
   "metadata": {},
   "source": [
    "### TreeValue's Initialization"
   ]
  },
  {
   "cell_type": "code",
   "execution_count": 14,
   "id": "d32a679b",
   "metadata": {
    "execution": {
     "iopub.execute_input": "2023-10-20T09:04:18.395170Z",
     "iopub.status.busy": "2023-10-20T09:04:18.394509Z",
     "iopub.status.idle": "2023-10-20T09:04:26.933869Z",
     "shell.execute_reply": "2023-10-20T09:04:26.932974Z"
    }
   },
   "outputs": [
    {
     "name": "stdout",
     "output_type": "stream",
     "text": [
      "1.05 µs ± 1.86 ns per loop (mean ± std. dev. of 7 runs, 1,000,000 loops each)\n"
     ]
    }
   ],
   "source": [
    "%timeit FastTreeValue(_TREE_DATA_1)"
   ]
  },
  {
   "cell_type": "markdown",
   "id": "24f3707b",
   "metadata": {},
   "source": [
    "### Tianshou Batch's Initialization"
   ]
  },
  {
   "cell_type": "code",
   "execution_count": 15,
   "id": "ac3958df",
   "metadata": {
    "execution": {
     "iopub.execute_input": "2023-10-20T09:04:26.939828Z",
     "iopub.status.busy": "2023-10-20T09:04:26.939169Z",
     "iopub.status.idle": "2023-10-20T09:04:37.148064Z",
     "shell.execute_reply": "2023-10-20T09:04:37.146902Z"
    }
   },
   "outputs": [
    {
     "name": "stdout",
     "output_type": "stream",
     "text": [
      "12.5 µs ± 8.38 ns per loop (mean ± std. dev. of 7 runs, 100,000 loops each)\n"
     ]
    }
   ],
   "source": [
    "%timeit Batch(**_TREE_DATA_1)"
   ]
  },
  {
   "cell_type": "markdown",
   "id": "1ab82e2d",
   "metadata": {},
   "source": [
    "## Deep Copy Operation"
   ]
  },
  {
   "cell_type": "code",
   "execution_count": 16,
   "id": "210a9442",
   "metadata": {
    "execution": {
     "iopub.execute_input": "2023-10-20T09:04:37.152828Z",
     "iopub.status.busy": "2023-10-20T09:04:37.152503Z",
     "iopub.status.idle": "2023-10-20T09:04:37.158411Z",
     "shell.execute_reply": "2023-10-20T09:04:37.157319Z"
    }
   },
   "outputs": [],
   "source": [
    "import copy"
   ]
  },
  {
   "cell_type": "markdown",
   "id": "5a736274",
   "metadata": {},
   "source": [
    "### Deep Copy of TreeValue"
   ]
  },
  {
   "cell_type": "code",
   "execution_count": 17,
   "id": "f9bcadd6",
   "metadata": {
    "execution": {
     "iopub.execute_input": "2023-10-20T09:04:37.162457Z",
     "iopub.status.busy": "2023-10-20T09:04:37.162143Z",
     "iopub.status.idle": "2023-10-20T09:04:38.777707Z",
     "shell.execute_reply": "2023-10-20T09:04:38.776666Z"
    }
   },
   "outputs": [
    {
     "name": "stdout",
     "output_type": "stream",
     "text": [
      "195 µs ± 23.4 µs per loop (mean ± std. dev. of 7 runs, 1,000 loops each)\n"
     ]
    }
   ],
   "source": [
    "t3 = FastTreeValue(_TREE_DATA_3)\n",
    "%timeit copy.deepcopy(t3)"
   ]
  },
  {
   "cell_type": "markdown",
   "id": "bf8be7ea",
   "metadata": {},
   "source": [
    "### Deep Copy of Tianshou Batch"
   ]
  },
  {
   "cell_type": "code",
   "execution_count": 18,
   "id": "91998e6f",
   "metadata": {
    "execution": {
     "iopub.execute_input": "2023-10-20T09:04:38.782383Z",
     "iopub.status.busy": "2023-10-20T09:04:38.782005Z",
     "iopub.status.idle": "2023-10-20T09:04:53.887492Z",
     "shell.execute_reply": "2023-10-20T09:04:53.886571Z"
    }
   },
   "outputs": [
    {
     "name": "stdout",
     "output_type": "stream",
     "text": [
      "185 µs ± 2.65 µs per loop (mean ± std. dev. of 7 runs, 10,000 loops each)\n"
     ]
    }
   ],
   "source": [
    "b3 = Batch(**_TREE_DATA_3)\n",
    "%timeit copy.deepcopy(b3)"
   ]
  },
  {
   "cell_type": "markdown",
   "id": "223162fb",
   "metadata": {},
   "source": [
    "## Stack, Concat and Split Operation"
   ]
  },
  {
   "cell_type": "markdown",
   "id": "85fa4a73",
   "metadata": {},
   "source": [
    "### Performance of TreeValue"
   ]
  },
  {
   "cell_type": "code",
   "execution_count": 19,
   "id": "a0c2b697",
   "metadata": {
    "execution": {
     "iopub.execute_input": "2023-10-20T09:04:53.892068Z",
     "iopub.status.busy": "2023-10-20T09:04:53.891540Z",
     "iopub.status.idle": "2023-10-20T09:04:53.895645Z",
     "shell.execute_reply": "2023-10-20T09:04:53.894953Z"
    }
   },
   "outputs": [],
   "source": [
    "trees = [FastTreeValue(_TREE_DATA_2) for _ in range(8)]"
   ]
  },
  {
   "cell_type": "code",
   "execution_count": 20,
   "id": "017ea5a5",
   "metadata": {
    "execution": {
     "iopub.execute_input": "2023-10-20T09:04:53.899228Z",
     "iopub.status.busy": "2023-10-20T09:04:53.898780Z",
     "iopub.status.idle": "2023-10-20T09:04:53.912479Z",
     "shell.execute_reply": "2023-10-20T09:04:53.911151Z"
    }
   },
   "outputs": [
    {
     "data": {
      "text/plain": [
       "<FastTreeValue 0x7f3ebcb83fd0>\n",
       "├── 'a' --> tensor([[[ 0.7133, -1.2241,  0.4244],\n",
       "│                    [ 0.7915, -0.3099,  0.8456]],\n",
       "│           \n",
       "│                   [[ 0.7133, -1.2241,  0.4244],\n",
       "│                    [ 0.7915, -0.3099,  0.8456]],\n",
       "│           \n",
       "│                   [[ 0.7133, -1.2241,  0.4244],\n",
       "│                    [ 0.7915, -0.3099,  0.8456]],\n",
       "│           \n",
       "│                   [[ 0.7133, -1.2241,  0.4244],\n",
       "│                    [ 0.7915, -0.3099,  0.8456]],\n",
       "│           \n",
       "│                   [[ 0.7133, -1.2241,  0.4244],\n",
       "│                    [ 0.7915, -0.3099,  0.8456]],\n",
       "│           \n",
       "│                   [[ 0.7133, -1.2241,  0.4244],\n",
       "│                    [ 0.7915, -0.3099,  0.8456]],\n",
       "│           \n",
       "│                   [[ 0.7133, -1.2241,  0.4244],\n",
       "│                    [ 0.7915, -0.3099,  0.8456]],\n",
       "│           \n",
       "│                   [[ 0.7133, -1.2241,  0.4244],\n",
       "│                    [ 0.7915, -0.3099,  0.8456]]])\n",
       "└── 'x' --> <FastTreeValue 0x7f3ebcb83fa0>\n",
       "    └── 'c' --> tensor([[[-0.7565,  1.0084, -1.9662, -0.6963],\n",
       "                         [ 0.5654,  0.0600, -0.7498, -0.6859],\n",
       "                         [ 1.1125, -1.1716, -0.7321, -0.3056]],\n",
       "                \n",
       "                        [[-0.7565,  1.0084, -1.9662, -0.6963],\n",
       "                         [ 0.5654,  0.0600, -0.7498, -0.6859],\n",
       "                         [ 1.1125, -1.1716, -0.7321, -0.3056]],\n",
       "                \n",
       "                        [[-0.7565,  1.0084, -1.9662, -0.6963],\n",
       "                         [ 0.5654,  0.0600, -0.7498, -0.6859],\n",
       "                         [ 1.1125, -1.1716, -0.7321, -0.3056]],\n",
       "                \n",
       "                        [[-0.7565,  1.0084, -1.9662, -0.6963],\n",
       "                         [ 0.5654,  0.0600, -0.7498, -0.6859],\n",
       "                         [ 1.1125, -1.1716, -0.7321, -0.3056]],\n",
       "                \n",
       "                        [[-0.7565,  1.0084, -1.9662, -0.6963],\n",
       "                         [ 0.5654,  0.0600, -0.7498, -0.6859],\n",
       "                         [ 1.1125, -1.1716, -0.7321, -0.3056]],\n",
       "                \n",
       "                        [[-0.7565,  1.0084, -1.9662, -0.6963],\n",
       "                         [ 0.5654,  0.0600, -0.7498, -0.6859],\n",
       "                         [ 1.1125, -1.1716, -0.7321, -0.3056]],\n",
       "                \n",
       "                        [[-0.7565,  1.0084, -1.9662, -0.6963],\n",
       "                         [ 0.5654,  0.0600, -0.7498, -0.6859],\n",
       "                         [ 1.1125, -1.1716, -0.7321, -0.3056]],\n",
       "                \n",
       "                        [[-0.7565,  1.0084, -1.9662, -0.6963],\n",
       "                         [ 0.5654,  0.0600, -0.7498, -0.6859],\n",
       "                         [ 1.1125, -1.1716, -0.7321, -0.3056]]])"
      ]
     },
     "execution_count": 20,
     "metadata": {},
     "output_type": "execute_result"
    }
   ],
   "source": [
    "t_stack = FastTreeValue.func(subside=True)(torch.stack)\n",
    "\n",
    "t_stack(trees)"
   ]
  },
  {
   "cell_type": "code",
   "execution_count": 21,
   "id": "f8b3f415",
   "metadata": {
    "execution": {
     "iopub.execute_input": "2023-10-20T09:04:53.919828Z",
     "iopub.status.busy": "2023-10-20T09:04:53.919088Z",
     "iopub.status.idle": "2023-10-20T09:04:57.210822Z",
     "shell.execute_reply": "2023-10-20T09:04:57.209755Z"
    }
   },
   "outputs": [
    {
     "name": "stdout",
     "output_type": "stream",
     "text": [
      "39.8 µs ± 103 ns per loop (mean ± std. dev. of 7 runs, 10,000 loops each)\n"
     ]
    }
   ],
   "source": [
    "%timeit t_stack(trees)"
   ]
  },
  {
   "cell_type": "code",
   "execution_count": 22,
   "id": "94b56771",
   "metadata": {
    "execution": {
     "iopub.execute_input": "2023-10-20T09:04:57.215043Z",
     "iopub.status.busy": "2023-10-20T09:04:57.214724Z",
     "iopub.status.idle": "2023-10-20T09:04:57.226174Z",
     "shell.execute_reply": "2023-10-20T09:04:57.225407Z"
    }
   },
   "outputs": [
    {
     "data": {
      "text/plain": [
       "<FastTreeValue 0x7f3f74dc92e0>\n",
       "├── 'a' --> tensor([[ 0.7133, -1.2241,  0.4244],\n",
       "│                   [ 0.7915, -0.3099,  0.8456],\n",
       "│                   [ 0.7133, -1.2241,  0.4244],\n",
       "│                   [ 0.7915, -0.3099,  0.8456],\n",
       "│                   [ 0.7133, -1.2241,  0.4244],\n",
       "│                   [ 0.7915, -0.3099,  0.8456],\n",
       "│                   [ 0.7133, -1.2241,  0.4244],\n",
       "│                   [ 0.7915, -0.3099,  0.8456],\n",
       "│                   [ 0.7133, -1.2241,  0.4244],\n",
       "│                   [ 0.7915, -0.3099,  0.8456],\n",
       "│                   [ 0.7133, -1.2241,  0.4244],\n",
       "│                   [ 0.7915, -0.3099,  0.8456],\n",
       "│                   [ 0.7133, -1.2241,  0.4244],\n",
       "│                   [ 0.7915, -0.3099,  0.8456],\n",
       "│                   [ 0.7133, -1.2241,  0.4244],\n",
       "│                   [ 0.7915, -0.3099,  0.8456]])\n",
       "└── 'x' --> <FastTreeValue 0x7f3ebdc5c2e0>\n",
       "    └── 'c' --> tensor([[-0.7565,  1.0084, -1.9662, -0.6963],\n",
       "                        [ 0.5654,  0.0600, -0.7498, -0.6859],\n",
       "                        [ 1.1125, -1.1716, -0.7321, -0.3056],\n",
       "                        [-0.7565,  1.0084, -1.9662, -0.6963],\n",
       "                        [ 0.5654,  0.0600, -0.7498, -0.6859],\n",
       "                        [ 1.1125, -1.1716, -0.7321, -0.3056],\n",
       "                        [-0.7565,  1.0084, -1.9662, -0.6963],\n",
       "                        [ 0.5654,  0.0600, -0.7498, -0.6859],\n",
       "                        [ 1.1125, -1.1716, -0.7321, -0.3056],\n",
       "                        [-0.7565,  1.0084, -1.9662, -0.6963],\n",
       "                        [ 0.5654,  0.0600, -0.7498, -0.6859],\n",
       "                        [ 1.1125, -1.1716, -0.7321, -0.3056],\n",
       "                        [-0.7565,  1.0084, -1.9662, -0.6963],\n",
       "                        [ 0.5654,  0.0600, -0.7498, -0.6859],\n",
       "                        [ 1.1125, -1.1716, -0.7321, -0.3056],\n",
       "                        [-0.7565,  1.0084, -1.9662, -0.6963],\n",
       "                        [ 0.5654,  0.0600, -0.7498, -0.6859],\n",
       "                        [ 1.1125, -1.1716, -0.7321, -0.3056],\n",
       "                        [-0.7565,  1.0084, -1.9662, -0.6963],\n",
       "                        [ 0.5654,  0.0600, -0.7498, -0.6859],\n",
       "                        [ 1.1125, -1.1716, -0.7321, -0.3056],\n",
       "                        [-0.7565,  1.0084, -1.9662, -0.6963],\n",
       "                        [ 0.5654,  0.0600, -0.7498, -0.6859],\n",
       "                        [ 1.1125, -1.1716, -0.7321, -0.3056]])"
      ]
     },
     "execution_count": 22,
     "metadata": {},
     "output_type": "execute_result"
    }
   ],
   "source": [
    "t_cat = FastTreeValue.func(subside=True)(torch.cat)\n",
    "\n",
    "t_cat(trees)"
   ]
  },
  {
   "cell_type": "code",
   "execution_count": 23,
   "id": "5e9c06a6",
   "metadata": {
    "execution": {
     "iopub.execute_input": "2023-10-20T09:04:57.230558Z",
     "iopub.status.busy": "2023-10-20T09:04:57.229611Z",
     "iopub.status.idle": "2023-10-20T09:05:00.268118Z",
     "shell.execute_reply": "2023-10-20T09:05:00.266926Z"
    }
   },
   "outputs": [
    {
     "name": "stdout",
     "output_type": "stream",
     "text": [
      "37.4 µs ± 74.9 ns per loop (mean ± std. dev. of 7 runs, 10,000 loops each)\n"
     ]
    }
   ],
   "source": [
    "%timeit t_cat(trees)"
   ]
  },
  {
   "cell_type": "code",
   "execution_count": 24,
   "id": "a3ab5c8f",
   "metadata": {
    "execution": {
     "iopub.execute_input": "2023-10-20T09:05:00.272927Z",
     "iopub.status.busy": "2023-10-20T09:05:00.272161Z",
     "iopub.status.idle": "2023-10-20T09:05:06.413185Z",
     "shell.execute_reply": "2023-10-20T09:05:06.412045Z"
    }
   },
   "outputs": [
    {
     "name": "stdout",
     "output_type": "stream",
     "text": [
      "75.2 µs ± 197 ns per loop (mean ± std. dev. of 7 runs, 10,000 loops each)\n"
     ]
    }
   ],
   "source": [
    "t_split = FastTreeValue.func(rise=True)(torch.split)\n",
    "tree = FastTreeValue({\n",
    "    'obs': torch.randn(8, 4, 84, 84),\n",
    "    'action': torch.randint(0, 6, size=(8, 1,)),\n",
    "    'reward': torch.rand(8, 1),\n",
    "})\n",
    "\n",
    "%timeit t_split(tree, 1)"
   ]
  },
  {
   "cell_type": "markdown",
   "id": "31c3ec0b",
   "metadata": {},
   "source": [
    "### Performance of Tianshou Batch"
   ]
  },
  {
   "cell_type": "code",
   "execution_count": 25,
   "id": "9ead828a",
   "metadata": {
    "execution": {
     "iopub.execute_input": "2023-10-20T09:05:06.418382Z",
     "iopub.status.busy": "2023-10-20T09:05:06.417592Z",
     "iopub.status.idle": "2023-10-20T09:05:06.429218Z",
     "shell.execute_reply": "2023-10-20T09:05:06.428426Z"
    }
   },
   "outputs": [
    {
     "data": {
      "text/plain": [
       "Batch(\n",
       "    a: tensor([[[ 0.7133, -1.2241,  0.4244],\n",
       "                [ 0.7915, -0.3099,  0.8456]],\n",
       "       \n",
       "               [[ 0.7133, -1.2241,  0.4244],\n",
       "                [ 0.7915, -0.3099,  0.8456]],\n",
       "       \n",
       "               [[ 0.7133, -1.2241,  0.4244],\n",
       "                [ 0.7915, -0.3099,  0.8456]],\n",
       "       \n",
       "               [[ 0.7133, -1.2241,  0.4244],\n",
       "                [ 0.7915, -0.3099,  0.8456]],\n",
       "       \n",
       "               [[ 0.7133, -1.2241,  0.4244],\n",
       "                [ 0.7915, -0.3099,  0.8456]],\n",
       "       \n",
       "               [[ 0.7133, -1.2241,  0.4244],\n",
       "                [ 0.7915, -0.3099,  0.8456]],\n",
       "       \n",
       "               [[ 0.7133, -1.2241,  0.4244],\n",
       "                [ 0.7915, -0.3099,  0.8456]],\n",
       "       \n",
       "               [[ 0.7133, -1.2241,  0.4244],\n",
       "                [ 0.7915, -0.3099,  0.8456]]]),\n",
       "    x: Batch(\n",
       "           c: tensor([[[-0.7565,  1.0084, -1.9662, -0.6963],\n",
       "                       [ 0.5654,  0.0600, -0.7498, -0.6859],\n",
       "                       [ 1.1125, -1.1716, -0.7321, -0.3056]],\n",
       "              \n",
       "                      [[-0.7565,  1.0084, -1.9662, -0.6963],\n",
       "                       [ 0.5654,  0.0600, -0.7498, -0.6859],\n",
       "                       [ 1.1125, -1.1716, -0.7321, -0.3056]],\n",
       "              \n",
       "                      [[-0.7565,  1.0084, -1.9662, -0.6963],\n",
       "                       [ 0.5654,  0.0600, -0.7498, -0.6859],\n",
       "                       [ 1.1125, -1.1716, -0.7321, -0.3056]],\n",
       "              \n",
       "                      [[-0.7565,  1.0084, -1.9662, -0.6963],\n",
       "                       [ 0.5654,  0.0600, -0.7498, -0.6859],\n",
       "                       [ 1.1125, -1.1716, -0.7321, -0.3056]],\n",
       "              \n",
       "                      [[-0.7565,  1.0084, -1.9662, -0.6963],\n",
       "                       [ 0.5654,  0.0600, -0.7498, -0.6859],\n",
       "                       [ 1.1125, -1.1716, -0.7321, -0.3056]],\n",
       "              \n",
       "                      [[-0.7565,  1.0084, -1.9662, -0.6963],\n",
       "                       [ 0.5654,  0.0600, -0.7498, -0.6859],\n",
       "                       [ 1.1125, -1.1716, -0.7321, -0.3056]],\n",
       "              \n",
       "                      [[-0.7565,  1.0084, -1.9662, -0.6963],\n",
       "                       [ 0.5654,  0.0600, -0.7498, -0.6859],\n",
       "                       [ 1.1125, -1.1716, -0.7321, -0.3056]],\n",
       "              \n",
       "                      [[-0.7565,  1.0084, -1.9662, -0.6963],\n",
       "                       [ 0.5654,  0.0600, -0.7498, -0.6859],\n",
       "                       [ 1.1125, -1.1716, -0.7321, -0.3056]]]),\n",
       "       ),\n",
       ")"
      ]
     },
     "execution_count": 25,
     "metadata": {},
     "output_type": "execute_result"
    }
   ],
   "source": [
    "batches = [Batch(**_TREE_DATA_2) for _ in range(8)]\n",
    "\n",
    "Batch.stack(batches)"
   ]
  },
  {
   "cell_type": "code",
   "execution_count": 26,
   "id": "ec9037a3",
   "metadata": {
    "execution": {
     "iopub.execute_input": "2023-10-20T09:05:06.434490Z",
     "iopub.status.busy": "2023-10-20T09:05:06.433677Z",
     "iopub.status.idle": "2023-10-20T09:05:14.578405Z",
     "shell.execute_reply": "2023-10-20T09:05:14.577247Z"
    }
   },
   "outputs": [
    {
     "name": "stdout",
     "output_type": "stream",
     "text": [
      "99.9 µs ± 232 ns per loop (mean ± std. dev. of 7 runs, 10,000 loops each)\n"
     ]
    }
   ],
   "source": [
    "%timeit Batch.stack(batches)"
   ]
  },
  {
   "cell_type": "code",
   "execution_count": 27,
   "id": "cb8ab77e",
   "metadata": {
    "execution": {
     "iopub.execute_input": "2023-10-20T09:05:14.583161Z",
     "iopub.status.busy": "2023-10-20T09:05:14.582506Z",
     "iopub.status.idle": "2023-10-20T09:05:14.592368Z",
     "shell.execute_reply": "2023-10-20T09:05:14.591458Z"
    }
   },
   "outputs": [
    {
     "data": {
      "text/plain": [
       "Batch(\n",
       "    a: tensor([[ 0.7133, -1.2241,  0.4244],\n",
       "               [ 0.7915, -0.3099,  0.8456],\n",
       "               [ 0.7133, -1.2241,  0.4244],\n",
       "               [ 0.7915, -0.3099,  0.8456],\n",
       "               [ 0.7133, -1.2241,  0.4244],\n",
       "               [ 0.7915, -0.3099,  0.8456],\n",
       "               [ 0.7133, -1.2241,  0.4244],\n",
       "               [ 0.7915, -0.3099,  0.8456],\n",
       "               [ 0.7133, -1.2241,  0.4244],\n",
       "               [ 0.7915, -0.3099,  0.8456],\n",
       "               [ 0.7133, -1.2241,  0.4244],\n",
       "               [ 0.7915, -0.3099,  0.8456],\n",
       "               [ 0.7133, -1.2241,  0.4244],\n",
       "               [ 0.7915, -0.3099,  0.8456],\n",
       "               [ 0.7133, -1.2241,  0.4244],\n",
       "               [ 0.7915, -0.3099,  0.8456]]),\n",
       "    x: Batch(\n",
       "           c: tensor([[-0.7565,  1.0084, -1.9662, -0.6963],\n",
       "                      [ 0.5654,  0.0600, -0.7498, -0.6859],\n",
       "                      [ 1.1125, -1.1716, -0.7321, -0.3056],\n",
       "                      [-0.7565,  1.0084, -1.9662, -0.6963],\n",
       "                      [ 0.5654,  0.0600, -0.7498, -0.6859],\n",
       "                      [ 1.1125, -1.1716, -0.7321, -0.3056],\n",
       "                      [-0.7565,  1.0084, -1.9662, -0.6963],\n",
       "                      [ 0.5654,  0.0600, -0.7498, -0.6859],\n",
       "                      [ 1.1125, -1.1716, -0.7321, -0.3056],\n",
       "                      [-0.7565,  1.0084, -1.9662, -0.6963],\n",
       "                      [ 0.5654,  0.0600, -0.7498, -0.6859],\n",
       "                      [ 1.1125, -1.1716, -0.7321, -0.3056],\n",
       "                      [-0.7565,  1.0084, -1.9662, -0.6963],\n",
       "                      [ 0.5654,  0.0600, -0.7498, -0.6859],\n",
       "                      [ 1.1125, -1.1716, -0.7321, -0.3056],\n",
       "                      [-0.7565,  1.0084, -1.9662, -0.6963],\n",
       "                      [ 0.5654,  0.0600, -0.7498, -0.6859],\n",
       "                      [ 1.1125, -1.1716, -0.7321, -0.3056],\n",
       "                      [-0.7565,  1.0084, -1.9662, -0.6963],\n",
       "                      [ 0.5654,  0.0600, -0.7498, -0.6859],\n",
       "                      [ 1.1125, -1.1716, -0.7321, -0.3056],\n",
       "                      [-0.7565,  1.0084, -1.9662, -0.6963],\n",
       "                      [ 0.5654,  0.0600, -0.7498, -0.6859],\n",
       "                      [ 1.1125, -1.1716, -0.7321, -0.3056]]),\n",
       "       ),\n",
       ")"
      ]
     },
     "execution_count": 27,
     "metadata": {},
     "output_type": "execute_result"
    }
   ],
   "source": [
    "Batch.cat(batches)"
   ]
  },
  {
   "cell_type": "code",
   "execution_count": 28,
   "id": "18dfb045",
   "metadata": {
    "execution": {
     "iopub.execute_input": "2023-10-20T09:05:14.596717Z",
     "iopub.status.busy": "2023-10-20T09:05:14.596119Z",
     "iopub.status.idle": "2023-10-20T09:05:29.315200Z",
     "shell.execute_reply": "2023-10-20T09:05:29.314201Z"
    }
   },
   "outputs": [
    {
     "name": "stdout",
     "output_type": "stream",
     "text": [
      "181 µs ± 328 ns per loop (mean ± std. dev. of 7 runs, 10,000 loops each)\n"
     ]
    }
   ],
   "source": [
    "%timeit Batch.cat(batches)"
   ]
  },
  {
   "cell_type": "code",
   "execution_count": 29,
   "id": "c6688e51",
   "metadata": {
    "execution": {
     "iopub.execute_input": "2023-10-20T09:05:29.323252Z",
     "iopub.status.busy": "2023-10-20T09:05:29.321914Z",
     "iopub.status.idle": "2023-10-20T09:05:33.312884Z",
     "shell.execute_reply": "2023-10-20T09:05:33.311989Z"
    }
   },
   "outputs": [
    {
     "name": "stdout",
     "output_type": "stream",
     "text": [
      "476 µs ± 28.2 µs per loop (mean ± std. dev. of 7 runs, 1,000 loops each)\n"
     ]
    }
   ],
   "source": [
    "batch = Batch({\n",
    "    'obs': torch.randn(8, 4, 84, 84),\n",
    "    'action': torch.randint(0, 6, size=(8, 1,)),\n",
    "    'reward': torch.rand(8, 1)}\n",
    ")\n",
    "\n",
    "%timeit list(Batch.split(batch, 1, shuffle=False, merge_last=True))"
   ]
  },
  {
   "cell_type": "code",
   "execution_count": null,
   "id": "2539fbd9",
   "metadata": {},
   "outputs": [],
   "source": []
  }
 ],
 "metadata": {
  "kernelspec": {
   "display_name": "Python 3 (ipykernel)",
   "language": "python",
   "name": "python3"
  },
  "language_info": {
   "codemirror_mode": {
    "name": "ipython",
    "version": 3
   },
   "file_extension": ".py",
   "mimetype": "text/x-python",
   "name": "python",
   "nbconvert_exporter": "python",
   "pygments_lexer": "ipython3",
   "version": "3.8.18"
  }
 },
 "nbformat": 4,
 "nbformat_minor": 5
}
