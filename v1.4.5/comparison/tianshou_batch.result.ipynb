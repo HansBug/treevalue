{
 "cells": [
  {
   "cell_type": "markdown",
   "id": "9d39d946",
   "metadata": {},
   "source": [
    "# Comparison Between TreeValue and Tianshou Batch"
   ]
  },
  {
   "cell_type": "markdown",
   "id": "3c6db2d4",
   "metadata": {},
   "source": [
    "In this section, we will take a look at the feature and performance of the [Tianshou Batch](https://github.com/thu-ml/tianshou) library, which is developed by Tsinghua Machine Learning Group."
   ]
  },
  {
   "cell_type": "markdown",
   "id": "069361b0",
   "metadata": {},
   "source": [
    "Before starting the comparison, let us define some thing."
   ]
  },
  {
   "cell_type": "code",
   "execution_count": 1,
   "id": "06fc8d26",
   "metadata": {
    "execution": {
     "iopub.execute_input": "2023-02-27T10:56:22.410421Z",
     "iopub.status.busy": "2023-02-27T10:56:22.410074Z",
     "iopub.status.idle": "2023-02-27T10:56:23.306240Z",
     "shell.execute_reply": "2023-02-27T10:56:23.305578Z"
    }
   },
   "outputs": [
    {
     "name": "stderr",
     "output_type": "stream",
     "text": [
      "/opt/hostedtoolcache/Python/3.8.16/x64/lib/python3.8/site-packages/tqdm/auto.py:22: TqdmWarning: IProgress not found. Please update jupyter and ipywidgets. See https://ipywidgets.readthedocs.io/en/stable/user_install.html\n",
      "  from .autonotebook import tqdm as notebook_tqdm\n"
     ]
    }
   ],
   "source": [
    "import torch \n",
    "\n",
    "_TREE_DATA_1 = {'a': 1, 'b': 2, 'x': {'c': 3, 'd': 4}}\n",
    "_TREE_DATA_2 = {\n",
    "    'a': torch.randn(2, 3), \n",
    "    'x': {\n",
    "        'c': torch.randn(3, 4)\n",
    "    },\n",
    "}\n",
    "_TREE_DATA_3 = {\n",
    "    'obs': torch.randn(4, 84, 84),\n",
    "    'action': torch.randint(0, 6, size=(1,)),\n",
    "    'reward': torch.rand(1),\n",
    "}"
   ]
  },
  {
   "cell_type": "markdown",
   "id": "83461b25",
   "metadata": {},
   "source": [
    "## Read and Write Operation"
   ]
  },
  {
   "cell_type": "markdown",
   "id": "067b3f73",
   "metadata": {},
   "source": [
    "Reading and writing are the two most common operations in the tree data structure based on the data model (TreeValue and Tianshou Batch both belong to this type), so this section will compare the reading and writing performance of these two libraries."
   ]
  },
  {
   "cell_type": "markdown",
   "id": "5d09a5b7",
   "metadata": {},
   "source": [
    "### TreeValue's Get and Set"
   ]
  },
  {
   "cell_type": "code",
   "execution_count": 2,
   "id": "9519c4bb",
   "metadata": {
    "execution": {
     "iopub.execute_input": "2023-02-27T10:56:23.309597Z",
     "iopub.status.busy": "2023-02-27T10:56:23.309027Z",
     "iopub.status.idle": "2023-02-27T10:56:23.341606Z",
     "shell.execute_reply": "2023-02-27T10:56:23.341015Z"
    }
   },
   "outputs": [],
   "source": [
    "from treevalue import FastTreeValue\n",
    "\n",
    "t = FastTreeValue(_TREE_DATA_2)"
   ]
  },
  {
   "cell_type": "code",
   "execution_count": 3,
   "id": "11c37677",
   "metadata": {
    "execution": {
     "iopub.execute_input": "2023-02-27T10:56:23.344419Z",
     "iopub.status.busy": "2023-02-27T10:56:23.344081Z",
     "iopub.status.idle": "2023-02-27T10:56:23.353364Z",
     "shell.execute_reply": "2023-02-27T10:56:23.352770Z"
    }
   },
   "outputs": [
    {
     "data": {
      "text/plain": [
       "<FastTreeValue 0x7fdd94b59b20>\n",
       "├── 'a' --> tensor([[-0.0328, -1.7972, -0.0108],\n",
       "│                   [ 0.4859, -0.6701, -0.2398]])\n",
       "└── 'x' --> <FastTreeValue 0x7fdd94b59c10>\n",
       "    └── 'c' --> tensor([[ 1.0154,  1.2901,  0.0250,  0.2991],\n",
       "                        [ 0.8841, -0.1253, -0.4294, -0.0852],\n",
       "                        [ 0.7056,  0.7251,  1.1095, -0.7267]])"
      ]
     },
     "execution_count": 3,
     "metadata": {},
     "output_type": "execute_result"
    }
   ],
   "source": [
    "t"
   ]
  },
  {
   "cell_type": "code",
   "execution_count": 4,
   "id": "fd70b0b9",
   "metadata": {
    "execution": {
     "iopub.execute_input": "2023-02-27T10:56:23.356303Z",
     "iopub.status.busy": "2023-02-27T10:56:23.355821Z",
     "iopub.status.idle": "2023-02-27T10:56:23.361358Z",
     "shell.execute_reply": "2023-02-27T10:56:23.360767Z"
    }
   },
   "outputs": [
    {
     "data": {
      "text/plain": [
       "tensor([[-0.0328, -1.7972, -0.0108],\n",
       "        [ 0.4859, -0.6701, -0.2398]])"
      ]
     },
     "execution_count": 4,
     "metadata": {},
     "output_type": "execute_result"
    }
   ],
   "source": [
    "t.a"
   ]
  },
  {
   "cell_type": "code",
   "execution_count": 5,
   "id": "c18197bd",
   "metadata": {
    "execution": {
     "iopub.execute_input": "2023-02-27T10:56:23.364153Z",
     "iopub.status.busy": "2023-02-27T10:56:23.363661Z",
     "iopub.status.idle": "2023-02-27T10:56:28.507256Z",
     "shell.execute_reply": "2023-02-27T10:56:28.506561Z"
    }
   },
   "outputs": [
    {
     "name": "stdout",
     "output_type": "stream",
     "text": [
      "63.3 ns ± 0.0256 ns per loop (mean ± std. dev. of 7 runs, 10,000,000 loops each)\n"
     ]
    }
   ],
   "source": [
    "%timeit t.a"
   ]
  },
  {
   "cell_type": "code",
   "execution_count": 6,
   "id": "bd52f867",
   "metadata": {
    "execution": {
     "iopub.execute_input": "2023-02-27T10:56:28.510577Z",
     "iopub.status.busy": "2023-02-27T10:56:28.509991Z",
     "iopub.status.idle": "2023-02-27T10:56:28.516611Z",
     "shell.execute_reply": "2023-02-27T10:56:28.516028Z"
    }
   },
   "outputs": [
    {
     "data": {
      "text/plain": [
       "<FastTreeValue 0x7fdd94b59b20>\n",
       "├── 'a' --> tensor([[ 0.9550, -0.7758,  0.4918],\n",
       "│                   [ 0.5984, -0.3373, -0.1643]])\n",
       "└── 'x' --> <FastTreeValue 0x7fdd94b59c10>\n",
       "    └── 'c' --> tensor([[ 1.0154,  1.2901,  0.0250,  0.2991],\n",
       "                        [ 0.8841, -0.1253, -0.4294, -0.0852],\n",
       "                        [ 0.7056,  0.7251,  1.1095, -0.7267]])"
      ]
     },
     "execution_count": 6,
     "metadata": {},
     "output_type": "execute_result"
    }
   ],
   "source": [
    "new_value = torch.randn(2, 3)\n",
    "t.a = new_value\n",
    "\n",
    "t"
   ]
  },
  {
   "cell_type": "code",
   "execution_count": 7,
   "id": "bbe04d1c",
   "metadata": {
    "execution": {
     "iopub.execute_input": "2023-02-27T10:56:28.519199Z",
     "iopub.status.busy": "2023-02-27T10:56:28.518969Z",
     "iopub.status.idle": "2023-02-27T10:56:33.655062Z",
     "shell.execute_reply": "2023-02-27T10:56:33.654307Z"
    }
   },
   "outputs": [
    {
     "name": "stdout",
     "output_type": "stream",
     "text": [
      "63.4 ns ± 0.0654 ns per loop (mean ± std. dev. of 7 runs, 10,000,000 loops each)\n"
     ]
    }
   ],
   "source": [
    "%timeit t.a = new_value"
   ]
  },
  {
   "cell_type": "markdown",
   "id": "48c49731",
   "metadata": {},
   "source": [
    "### Tianshou Batch's Get and Set"
   ]
  },
  {
   "cell_type": "code",
   "execution_count": 8,
   "id": "f1bb14c1",
   "metadata": {
    "execution": {
     "iopub.execute_input": "2023-02-27T10:56:33.657989Z",
     "iopub.status.busy": "2023-02-27T10:56:33.657613Z",
     "iopub.status.idle": "2023-02-27T10:56:33.981732Z",
     "shell.execute_reply": "2023-02-27T10:56:33.981058Z"
    }
   },
   "outputs": [],
   "source": [
    "from tianshou.data import Batch\n",
    "\n",
    "b = Batch(**_TREE_DATA_2)"
   ]
  },
  {
   "cell_type": "code",
   "execution_count": 9,
   "id": "cb0777c3",
   "metadata": {
    "execution": {
     "iopub.execute_input": "2023-02-27T10:56:33.984911Z",
     "iopub.status.busy": "2023-02-27T10:56:33.984386Z",
     "iopub.status.idle": "2023-02-27T10:56:33.990504Z",
     "shell.execute_reply": "2023-02-27T10:56:33.989905Z"
    }
   },
   "outputs": [
    {
     "data": {
      "text/plain": [
       "Batch(\n",
       "    a: tensor([[-0.0328, -1.7972, -0.0108],\n",
       "               [ 0.4859, -0.6701, -0.2398]]),\n",
       "    x: Batch(\n",
       "           c: tensor([[ 1.0154,  1.2901,  0.0250,  0.2991],\n",
       "                      [ 0.8841, -0.1253, -0.4294, -0.0852],\n",
       "                      [ 0.7056,  0.7251,  1.1095, -0.7267]]),\n",
       "       ),\n",
       ")"
      ]
     },
     "execution_count": 9,
     "metadata": {},
     "output_type": "execute_result"
    }
   ],
   "source": [
    "b"
   ]
  },
  {
   "cell_type": "code",
   "execution_count": 10,
   "id": "43ef8ea3",
   "metadata": {
    "execution": {
     "iopub.execute_input": "2023-02-27T10:56:33.993444Z",
     "iopub.status.busy": "2023-02-27T10:56:33.992853Z",
     "iopub.status.idle": "2023-02-27T10:56:33.998206Z",
     "shell.execute_reply": "2023-02-27T10:56:33.997624Z"
    }
   },
   "outputs": [
    {
     "data": {
      "text/plain": [
       "tensor([[-0.0328, -1.7972, -0.0108],\n",
       "        [ 0.4859, -0.6701, -0.2398]])"
      ]
     },
     "execution_count": 10,
     "metadata": {},
     "output_type": "execute_result"
    }
   ],
   "source": [
    "b.a"
   ]
  },
  {
   "cell_type": "code",
   "execution_count": 11,
   "id": "b785ab72",
   "metadata": {
    "execution": {
     "iopub.execute_input": "2023-02-27T10:56:34.001065Z",
     "iopub.status.busy": "2023-02-27T10:56:34.000573Z",
     "iopub.status.idle": "2023-02-27T10:56:38.811009Z",
     "shell.execute_reply": "2023-02-27T10:56:38.810283Z"
    }
   },
   "outputs": [
    {
     "name": "stdout",
     "output_type": "stream",
     "text": [
      "59.4 ns ± 0.0164 ns per loop (mean ± std. dev. of 7 runs, 10,000,000 loops each)\n"
     ]
    }
   ],
   "source": [
    "%timeit b.a"
   ]
  },
  {
   "cell_type": "code",
   "execution_count": 12,
   "id": "ad54dc69",
   "metadata": {
    "execution": {
     "iopub.execute_input": "2023-02-27T10:56:38.814301Z",
     "iopub.status.busy": "2023-02-27T10:56:38.813735Z",
     "iopub.status.idle": "2023-02-27T10:56:38.820174Z",
     "shell.execute_reply": "2023-02-27T10:56:38.819592Z"
    }
   },
   "outputs": [
    {
     "data": {
      "text/plain": [
       "Batch(\n",
       "    a: tensor([[ 0.6411,  2.1806,  0.6083],\n",
       "               [ 0.4028, -0.2716, -1.4892]]),\n",
       "    x: Batch(\n",
       "           c: tensor([[ 1.0154,  1.2901,  0.0250,  0.2991],\n",
       "                      [ 0.8841, -0.1253, -0.4294, -0.0852],\n",
       "                      [ 0.7056,  0.7251,  1.1095, -0.7267]]),\n",
       "       ),\n",
       ")"
      ]
     },
     "execution_count": 12,
     "metadata": {},
     "output_type": "execute_result"
    }
   ],
   "source": [
    "new_value = torch.randn(2, 3)\n",
    "b.a = new_value\n",
    "\n",
    "b"
   ]
  },
  {
   "cell_type": "code",
   "execution_count": 13,
   "id": "29b1d0bf",
   "metadata": {
    "execution": {
     "iopub.execute_input": "2023-02-27T10:56:38.822980Z",
     "iopub.status.busy": "2023-02-27T10:56:38.822355Z",
     "iopub.status.idle": "2023-02-27T10:56:42.756496Z",
     "shell.execute_reply": "2023-02-27T10:56:42.755784Z"
    }
   },
   "outputs": [
    {
     "name": "stdout",
     "output_type": "stream",
     "text": [
      "485 ns ± 0.141 ns per loop (mean ± std. dev. of 7 runs, 1,000,000 loops each)\n"
     ]
    }
   ],
   "source": [
    "%timeit b.a = new_value"
   ]
  },
  {
   "cell_type": "markdown",
   "id": "b61ad1d0",
   "metadata": {},
   "source": [
    "## Initialization"
   ]
  },
  {
   "cell_type": "markdown",
   "id": "d70f0d54",
   "metadata": {},
   "source": [
    "### TreeValue's Initialization"
   ]
  },
  {
   "cell_type": "code",
   "execution_count": 14,
   "id": "d32a679b",
   "metadata": {
    "execution": {
     "iopub.execute_input": "2023-02-27T10:56:42.759745Z",
     "iopub.status.busy": "2023-02-27T10:56:42.759383Z",
     "iopub.status.idle": "2023-02-27T10:56:49.590662Z",
     "shell.execute_reply": "2023-02-27T10:56:49.589920Z"
    }
   },
   "outputs": [
    {
     "name": "stdout",
     "output_type": "stream",
     "text": [
      "842 ns ± 0.185 ns per loop (mean ± std. dev. of 7 runs, 1,000,000 loops each)\n"
     ]
    }
   ],
   "source": [
    "%timeit FastTreeValue(_TREE_DATA_1)"
   ]
  },
  {
   "cell_type": "markdown",
   "id": "24f3707b",
   "metadata": {},
   "source": [
    "### Tianshou Batch's Initialization"
   ]
  },
  {
   "cell_type": "code",
   "execution_count": 15,
   "id": "ac3958df",
   "metadata": {
    "execution": {
     "iopub.execute_input": "2023-02-27T10:56:49.593923Z",
     "iopub.status.busy": "2023-02-27T10:56:49.593415Z",
     "iopub.status.idle": "2023-02-27T10:56:58.757175Z",
     "shell.execute_reply": "2023-02-27T10:56:58.756439Z"
    }
   },
   "outputs": [
    {
     "name": "stdout",
     "output_type": "stream",
     "text": [
      "11.3 µs ± 23.2 ns per loop (mean ± std. dev. of 7 runs, 100,000 loops each)\n"
     ]
    }
   ],
   "source": [
    "%timeit Batch(**_TREE_DATA_1)"
   ]
  },
  {
   "cell_type": "markdown",
   "id": "1ab82e2d",
   "metadata": {},
   "source": [
    "## Deep Copy Operation"
   ]
  },
  {
   "cell_type": "code",
   "execution_count": 16,
   "id": "210a9442",
   "metadata": {
    "execution": {
     "iopub.execute_input": "2023-02-27T10:56:58.760281Z",
     "iopub.status.busy": "2023-02-27T10:56:58.759921Z",
     "iopub.status.idle": "2023-02-27T10:56:58.764219Z",
     "shell.execute_reply": "2023-02-27T10:56:58.763299Z"
    }
   },
   "outputs": [],
   "source": [
    "import copy"
   ]
  },
  {
   "cell_type": "markdown",
   "id": "5a736274",
   "metadata": {},
   "source": [
    "### Deep Copy of TreeValue"
   ]
  },
  {
   "cell_type": "code",
   "execution_count": 17,
   "id": "f9bcadd6",
   "metadata": {
    "execution": {
     "iopub.execute_input": "2023-02-27T10:56:58.766933Z",
     "iopub.status.busy": "2023-02-27T10:56:58.766606Z",
     "iopub.status.idle": "2023-02-27T10:57:09.778070Z",
     "shell.execute_reply": "2023-02-27T10:57:09.777502Z"
    }
   },
   "outputs": [
    {
     "name": "stdout",
     "output_type": "stream",
     "text": [
      "136 µs ± 1.16 µs per loop (mean ± std. dev. of 7 runs, 10,000 loops each)\n"
     ]
    }
   ],
   "source": [
    "t3 = FastTreeValue(_TREE_DATA_3)\n",
    "%timeit copy.deepcopy(t3)"
   ]
  },
  {
   "cell_type": "markdown",
   "id": "bf8be7ea",
   "metadata": {},
   "source": [
    "### Deep Copy of Tianshou Batch"
   ]
  },
  {
   "cell_type": "code",
   "execution_count": 18,
   "id": "91998e6f",
   "metadata": {
    "execution": {
     "iopub.execute_input": "2023-02-27T10:57:09.780818Z",
     "iopub.status.busy": "2023-02-27T10:57:09.780391Z",
     "iopub.status.idle": "2023-02-27T10:57:20.966332Z",
     "shell.execute_reply": "2023-02-27T10:57:20.965764Z"
    }
   },
   "outputs": [
    {
     "name": "stdout",
     "output_type": "stream",
     "text": [
      "138 µs ± 1.37 µs per loop (mean ± std. dev. of 7 runs, 10,000 loops each)\n"
     ]
    }
   ],
   "source": [
    "b3 = Batch(**_TREE_DATA_3)\n",
    "%timeit copy.deepcopy(b3)"
   ]
  },
  {
   "cell_type": "markdown",
   "id": "223162fb",
   "metadata": {},
   "source": [
    "## Stack, Concat and Split Operation"
   ]
  },
  {
   "cell_type": "markdown",
   "id": "85fa4a73",
   "metadata": {},
   "source": [
    "### Performance of TreeValue"
   ]
  },
  {
   "cell_type": "code",
   "execution_count": 19,
   "id": "a0c2b697",
   "metadata": {
    "execution": {
     "iopub.execute_input": "2023-02-27T10:57:20.969827Z",
     "iopub.status.busy": "2023-02-27T10:57:20.968768Z",
     "iopub.status.idle": "2023-02-27T10:57:20.973188Z",
     "shell.execute_reply": "2023-02-27T10:57:20.972636Z"
    }
   },
   "outputs": [],
   "source": [
    "trees = [FastTreeValue(_TREE_DATA_2) for _ in range(8)]"
   ]
  },
  {
   "cell_type": "code",
   "execution_count": 20,
   "id": "017ea5a5",
   "metadata": {
    "execution": {
     "iopub.execute_input": "2023-02-27T10:57:20.976790Z",
     "iopub.status.busy": "2023-02-27T10:57:20.975860Z",
     "iopub.status.idle": "2023-02-27T10:57:20.983117Z",
     "shell.execute_reply": "2023-02-27T10:57:20.982597Z"
    }
   },
   "outputs": [
    {
     "data": {
      "text/plain": [
       "<FastTreeValue 0x7fdce77ca460>\n",
       "├── 'a' --> tensor([[[-0.0328, -1.7972, -0.0108],\n",
       "│                    [ 0.4859, -0.6701, -0.2398]],\n",
       "│           \n",
       "│                   [[-0.0328, -1.7972, -0.0108],\n",
       "│                    [ 0.4859, -0.6701, -0.2398]],\n",
       "│           \n",
       "│                   [[-0.0328, -1.7972, -0.0108],\n",
       "│                    [ 0.4859, -0.6701, -0.2398]],\n",
       "│           \n",
       "│                   [[-0.0328, -1.7972, -0.0108],\n",
       "│                    [ 0.4859, -0.6701, -0.2398]],\n",
       "│           \n",
       "│                   [[-0.0328, -1.7972, -0.0108],\n",
       "│                    [ 0.4859, -0.6701, -0.2398]],\n",
       "│           \n",
       "│                   [[-0.0328, -1.7972, -0.0108],\n",
       "│                    [ 0.4859, -0.6701, -0.2398]],\n",
       "│           \n",
       "│                   [[-0.0328, -1.7972, -0.0108],\n",
       "│                    [ 0.4859, -0.6701, -0.2398]],\n",
       "│           \n",
       "│                   [[-0.0328, -1.7972, -0.0108],\n",
       "│                    [ 0.4859, -0.6701, -0.2398]]])\n",
       "└── 'x' --> <FastTreeValue 0x7fdce77ca0a0>\n",
       "    └── 'c' --> tensor([[[ 1.0154,  1.2901,  0.0250,  0.2991],\n",
       "                         [ 0.8841, -0.1253, -0.4294, -0.0852],\n",
       "                         [ 0.7056,  0.7251,  1.1095, -0.7267]],\n",
       "                \n",
       "                        [[ 1.0154,  1.2901,  0.0250,  0.2991],\n",
       "                         [ 0.8841, -0.1253, -0.4294, -0.0852],\n",
       "                         [ 0.7056,  0.7251,  1.1095, -0.7267]],\n",
       "                \n",
       "                        [[ 1.0154,  1.2901,  0.0250,  0.2991],\n",
       "                         [ 0.8841, -0.1253, -0.4294, -0.0852],\n",
       "                         [ 0.7056,  0.7251,  1.1095, -0.7267]],\n",
       "                \n",
       "                        [[ 1.0154,  1.2901,  0.0250,  0.2991],\n",
       "                         [ 0.8841, -0.1253, -0.4294, -0.0852],\n",
       "                         [ 0.7056,  0.7251,  1.1095, -0.7267]],\n",
       "                \n",
       "                        [[ 1.0154,  1.2901,  0.0250,  0.2991],\n",
       "                         [ 0.8841, -0.1253, -0.4294, -0.0852],\n",
       "                         [ 0.7056,  0.7251,  1.1095, -0.7267]],\n",
       "                \n",
       "                        [[ 1.0154,  1.2901,  0.0250,  0.2991],\n",
       "                         [ 0.8841, -0.1253, -0.4294, -0.0852],\n",
       "                         [ 0.7056,  0.7251,  1.1095, -0.7267]],\n",
       "                \n",
       "                        [[ 1.0154,  1.2901,  0.0250,  0.2991],\n",
       "                         [ 0.8841, -0.1253, -0.4294, -0.0852],\n",
       "                         [ 0.7056,  0.7251,  1.1095, -0.7267]],\n",
       "                \n",
       "                        [[ 1.0154,  1.2901,  0.0250,  0.2991],\n",
       "                         [ 0.8841, -0.1253, -0.4294, -0.0852],\n",
       "                         [ 0.7056,  0.7251,  1.1095, -0.7267]]])"
      ]
     },
     "execution_count": 20,
     "metadata": {},
     "output_type": "execute_result"
    }
   ],
   "source": [
    "t_stack = FastTreeValue.func(subside=True)(torch.stack)\n",
    "\n",
    "t_stack(trees)"
   ]
  },
  {
   "cell_type": "code",
   "execution_count": 21,
   "id": "f8b3f415",
   "metadata": {
    "execution": {
     "iopub.execute_input": "2023-02-27T10:57:20.985497Z",
     "iopub.status.busy": "2023-02-27T10:57:20.985153Z",
     "iopub.status.idle": "2023-02-27T10:57:23.646629Z",
     "shell.execute_reply": "2023-02-27T10:57:23.645869Z"
    }
   },
   "outputs": [
    {
     "name": "stdout",
     "output_type": "stream",
     "text": [
      "32.8 µs ± 57.8 ns per loop (mean ± std. dev. of 7 runs, 10,000 loops each)\n"
     ]
    }
   ],
   "source": [
    "%timeit t_stack(trees)"
   ]
  },
  {
   "cell_type": "code",
   "execution_count": 22,
   "id": "94b56771",
   "metadata": {
    "execution": {
     "iopub.execute_input": "2023-02-27T10:57:23.649698Z",
     "iopub.status.busy": "2023-02-27T10:57:23.649142Z",
     "iopub.status.idle": "2023-02-27T10:57:23.656320Z",
     "shell.execute_reply": "2023-02-27T10:57:23.655693Z"
    }
   },
   "outputs": [
    {
     "data": {
      "text/plain": [
       "<FastTreeValue 0x7fdd94bce040>\n",
       "├── 'a' --> tensor([[-0.0328, -1.7972, -0.0108],\n",
       "│                   [ 0.4859, -0.6701, -0.2398],\n",
       "│                   [-0.0328, -1.7972, -0.0108],\n",
       "│                   [ 0.4859, -0.6701, -0.2398],\n",
       "│                   [-0.0328, -1.7972, -0.0108],\n",
       "│                   [ 0.4859, -0.6701, -0.2398],\n",
       "│                   [-0.0328, -1.7972, -0.0108],\n",
       "│                   [ 0.4859, -0.6701, -0.2398],\n",
       "│                   [-0.0328, -1.7972, -0.0108],\n",
       "│                   [ 0.4859, -0.6701, -0.2398],\n",
       "│                   [-0.0328, -1.7972, -0.0108],\n",
       "│                   [ 0.4859, -0.6701, -0.2398],\n",
       "│                   [-0.0328, -1.7972, -0.0108],\n",
       "│                   [ 0.4859, -0.6701, -0.2398],\n",
       "│                   [-0.0328, -1.7972, -0.0108],\n",
       "│                   [ 0.4859, -0.6701, -0.2398]])\n",
       "└── 'x' --> <FastTreeValue 0x7fdd94bbbe20>\n",
       "    └── 'c' --> tensor([[ 1.0154,  1.2901,  0.0250,  0.2991],\n",
       "                        [ 0.8841, -0.1253, -0.4294, -0.0852],\n",
       "                        [ 0.7056,  0.7251,  1.1095, -0.7267],\n",
       "                        [ 1.0154,  1.2901,  0.0250,  0.2991],\n",
       "                        [ 0.8841, -0.1253, -0.4294, -0.0852],\n",
       "                        [ 0.7056,  0.7251,  1.1095, -0.7267],\n",
       "                        [ 1.0154,  1.2901,  0.0250,  0.2991],\n",
       "                        [ 0.8841, -0.1253, -0.4294, -0.0852],\n",
       "                        [ 0.7056,  0.7251,  1.1095, -0.7267],\n",
       "                        [ 1.0154,  1.2901,  0.0250,  0.2991],\n",
       "                        [ 0.8841, -0.1253, -0.4294, -0.0852],\n",
       "                        [ 0.7056,  0.7251,  1.1095, -0.7267],\n",
       "                        [ 1.0154,  1.2901,  0.0250,  0.2991],\n",
       "                        [ 0.8841, -0.1253, -0.4294, -0.0852],\n",
       "                        [ 0.7056,  0.7251,  1.1095, -0.7267],\n",
       "                        [ 1.0154,  1.2901,  0.0250,  0.2991],\n",
       "                        [ 0.8841, -0.1253, -0.4294, -0.0852],\n",
       "                        [ 0.7056,  0.7251,  1.1095, -0.7267],\n",
       "                        [ 1.0154,  1.2901,  0.0250,  0.2991],\n",
       "                        [ 0.8841, -0.1253, -0.4294, -0.0852],\n",
       "                        [ 0.7056,  0.7251,  1.1095, -0.7267],\n",
       "                        [ 1.0154,  1.2901,  0.0250,  0.2991],\n",
       "                        [ 0.8841, -0.1253, -0.4294, -0.0852],\n",
       "                        [ 0.7056,  0.7251,  1.1095, -0.7267]])"
      ]
     },
     "execution_count": 22,
     "metadata": {},
     "output_type": "execute_result"
    }
   ],
   "source": [
    "t_cat = FastTreeValue.func(subside=True)(torch.cat)\n",
    "\n",
    "t_cat(trees)"
   ]
  },
  {
   "cell_type": "code",
   "execution_count": 23,
   "id": "5e9c06a6",
   "metadata": {
    "execution": {
     "iopub.execute_input": "2023-02-27T10:57:23.658897Z",
     "iopub.status.busy": "2023-02-27T10:57:23.658386Z",
     "iopub.status.idle": "2023-02-27T10:57:26.139219Z",
     "shell.execute_reply": "2023-02-27T10:57:26.138498Z"
    }
   },
   "outputs": [
    {
     "name": "stdout",
     "output_type": "stream",
     "text": [
      "30.5 µs ± 63.2 ns per loop (mean ± std. dev. of 7 runs, 10,000 loops each)\n"
     ]
    }
   ],
   "source": [
    "%timeit t_cat(trees)"
   ]
  },
  {
   "cell_type": "code",
   "execution_count": 24,
   "id": "a3ab5c8f",
   "metadata": {
    "execution": {
     "iopub.execute_input": "2023-02-27T10:57:26.142259Z",
     "iopub.status.busy": "2023-02-27T10:57:26.141727Z",
     "iopub.status.idle": "2023-02-27T10:57:30.999832Z",
     "shell.execute_reply": "2023-02-27T10:57:30.999106Z"
    }
   },
   "outputs": [
    {
     "name": "stdout",
     "output_type": "stream",
     "text": [
      "59.7 µs ± 54.5 ns per loop (mean ± std. dev. of 7 runs, 10,000 loops each)\n"
     ]
    }
   ],
   "source": [
    "t_split = FastTreeValue.func(rise=True)(torch.split)\n",
    "tree = FastTreeValue({\n",
    "    'obs': torch.randn(8, 4, 84, 84),\n",
    "    'action': torch.randint(0, 6, size=(8, 1,)),\n",
    "    'reward': torch.rand(8, 1),\n",
    "})\n",
    "\n",
    "%timeit t_split(tree, 1)"
   ]
  },
  {
   "cell_type": "markdown",
   "id": "31c3ec0b",
   "metadata": {},
   "source": [
    "### Performance of Tianshou Batch"
   ]
  },
  {
   "cell_type": "code",
   "execution_count": 25,
   "id": "9ead828a",
   "metadata": {
    "execution": {
     "iopub.execute_input": "2023-02-27T10:57:31.003000Z",
     "iopub.status.busy": "2023-02-27T10:57:31.002638Z",
     "iopub.status.idle": "2023-02-27T10:57:31.010817Z",
     "shell.execute_reply": "2023-02-27T10:57:31.010225Z"
    }
   },
   "outputs": [
    {
     "data": {
      "text/plain": [
       "Batch(\n",
       "    a: tensor([[[-0.0328, -1.7972, -0.0108],\n",
       "                [ 0.4859, -0.6701, -0.2398]],\n",
       "       \n",
       "               [[-0.0328, -1.7972, -0.0108],\n",
       "                [ 0.4859, -0.6701, -0.2398]],\n",
       "       \n",
       "               [[-0.0328, -1.7972, -0.0108],\n",
       "                [ 0.4859, -0.6701, -0.2398]],\n",
       "       \n",
       "               [[-0.0328, -1.7972, -0.0108],\n",
       "                [ 0.4859, -0.6701, -0.2398]],\n",
       "       \n",
       "               [[-0.0328, -1.7972, -0.0108],\n",
       "                [ 0.4859, -0.6701, -0.2398]],\n",
       "       \n",
       "               [[-0.0328, -1.7972, -0.0108],\n",
       "                [ 0.4859, -0.6701, -0.2398]],\n",
       "       \n",
       "               [[-0.0328, -1.7972, -0.0108],\n",
       "                [ 0.4859, -0.6701, -0.2398]],\n",
       "       \n",
       "               [[-0.0328, -1.7972, -0.0108],\n",
       "                [ 0.4859, -0.6701, -0.2398]]]),\n",
       "    x: Batch(\n",
       "           c: tensor([[[ 1.0154,  1.2901,  0.0250,  0.2991],\n",
       "                       [ 0.8841, -0.1253, -0.4294, -0.0852],\n",
       "                       [ 0.7056,  0.7251,  1.1095, -0.7267]],\n",
       "              \n",
       "                      [[ 1.0154,  1.2901,  0.0250,  0.2991],\n",
       "                       [ 0.8841, -0.1253, -0.4294, -0.0852],\n",
       "                       [ 0.7056,  0.7251,  1.1095, -0.7267]],\n",
       "              \n",
       "                      [[ 1.0154,  1.2901,  0.0250,  0.2991],\n",
       "                       [ 0.8841, -0.1253, -0.4294, -0.0852],\n",
       "                       [ 0.7056,  0.7251,  1.1095, -0.7267]],\n",
       "              \n",
       "                      [[ 1.0154,  1.2901,  0.0250,  0.2991],\n",
       "                       [ 0.8841, -0.1253, -0.4294, -0.0852],\n",
       "                       [ 0.7056,  0.7251,  1.1095, -0.7267]],\n",
       "              \n",
       "                      [[ 1.0154,  1.2901,  0.0250,  0.2991],\n",
       "                       [ 0.8841, -0.1253, -0.4294, -0.0852],\n",
       "                       [ 0.7056,  0.7251,  1.1095, -0.7267]],\n",
       "              \n",
       "                      [[ 1.0154,  1.2901,  0.0250,  0.2991],\n",
       "                       [ 0.8841, -0.1253, -0.4294, -0.0852],\n",
       "                       [ 0.7056,  0.7251,  1.1095, -0.7267]],\n",
       "              \n",
       "                      [[ 1.0154,  1.2901,  0.0250,  0.2991],\n",
       "                       [ 0.8841, -0.1253, -0.4294, -0.0852],\n",
       "                       [ 0.7056,  0.7251,  1.1095, -0.7267]],\n",
       "              \n",
       "                      [[ 1.0154,  1.2901,  0.0250,  0.2991],\n",
       "                       [ 0.8841, -0.1253, -0.4294, -0.0852],\n",
       "                       [ 0.7056,  0.7251,  1.1095, -0.7267]]]),\n",
       "       ),\n",
       ")"
      ]
     },
     "execution_count": 25,
     "metadata": {},
     "output_type": "execute_result"
    }
   ],
   "source": [
    "batches = [Batch(**_TREE_DATA_2) for _ in range(8)]\n",
    "\n",
    "Batch.stack(batches)"
   ]
  },
  {
   "cell_type": "code",
   "execution_count": 26,
   "id": "ec9037a3",
   "metadata": {
    "execution": {
     "iopub.execute_input": "2023-02-27T10:57:31.013384Z",
     "iopub.status.busy": "2023-02-27T10:57:31.013151Z",
     "iopub.status.idle": "2023-02-27T10:57:37.364171Z",
     "shell.execute_reply": "2023-02-27T10:57:37.363502Z"
    }
   },
   "outputs": [
    {
     "name": "stdout",
     "output_type": "stream",
     "text": [
      "78.1 µs ± 219 ns per loop (mean ± std. dev. of 7 runs, 10,000 loops each)\n"
     ]
    }
   ],
   "source": [
    "%timeit Batch.stack(batches)"
   ]
  },
  {
   "cell_type": "code",
   "execution_count": 27,
   "id": "cb8ab77e",
   "metadata": {
    "execution": {
     "iopub.execute_input": "2023-02-27T10:57:37.367319Z",
     "iopub.status.busy": "2023-02-27T10:57:37.366774Z",
     "iopub.status.idle": "2023-02-27T10:57:37.374218Z",
     "shell.execute_reply": "2023-02-27T10:57:37.373626Z"
    }
   },
   "outputs": [
    {
     "data": {
      "text/plain": [
       "Batch(\n",
       "    a: tensor([[-0.0328, -1.7972, -0.0108],\n",
       "               [ 0.4859, -0.6701, -0.2398],\n",
       "               [-0.0328, -1.7972, -0.0108],\n",
       "               [ 0.4859, -0.6701, -0.2398],\n",
       "               [-0.0328, -1.7972, -0.0108],\n",
       "               [ 0.4859, -0.6701, -0.2398],\n",
       "               [-0.0328, -1.7972, -0.0108],\n",
       "               [ 0.4859, -0.6701, -0.2398],\n",
       "               [-0.0328, -1.7972, -0.0108],\n",
       "               [ 0.4859, -0.6701, -0.2398],\n",
       "               [-0.0328, -1.7972, -0.0108],\n",
       "               [ 0.4859, -0.6701, -0.2398],\n",
       "               [-0.0328, -1.7972, -0.0108],\n",
       "               [ 0.4859, -0.6701, -0.2398],\n",
       "               [-0.0328, -1.7972, -0.0108],\n",
       "               [ 0.4859, -0.6701, -0.2398]]),\n",
       "    x: Batch(\n",
       "           c: tensor([[ 1.0154,  1.2901,  0.0250,  0.2991],\n",
       "                      [ 0.8841, -0.1253, -0.4294, -0.0852],\n",
       "                      [ 0.7056,  0.7251,  1.1095, -0.7267],\n",
       "                      [ 1.0154,  1.2901,  0.0250,  0.2991],\n",
       "                      [ 0.8841, -0.1253, -0.4294, -0.0852],\n",
       "                      [ 0.7056,  0.7251,  1.1095, -0.7267],\n",
       "                      [ 1.0154,  1.2901,  0.0250,  0.2991],\n",
       "                      [ 0.8841, -0.1253, -0.4294, -0.0852],\n",
       "                      [ 0.7056,  0.7251,  1.1095, -0.7267],\n",
       "                      [ 1.0154,  1.2901,  0.0250,  0.2991],\n",
       "                      [ 0.8841, -0.1253, -0.4294, -0.0852],\n",
       "                      [ 0.7056,  0.7251,  1.1095, -0.7267],\n",
       "                      [ 1.0154,  1.2901,  0.0250,  0.2991],\n",
       "                      [ 0.8841, -0.1253, -0.4294, -0.0852],\n",
       "                      [ 0.7056,  0.7251,  1.1095, -0.7267],\n",
       "                      [ 1.0154,  1.2901,  0.0250,  0.2991],\n",
       "                      [ 0.8841, -0.1253, -0.4294, -0.0852],\n",
       "                      [ 0.7056,  0.7251,  1.1095, -0.7267],\n",
       "                      [ 1.0154,  1.2901,  0.0250,  0.2991],\n",
       "                      [ 0.8841, -0.1253, -0.4294, -0.0852],\n",
       "                      [ 0.7056,  0.7251,  1.1095, -0.7267],\n",
       "                      [ 1.0154,  1.2901,  0.0250,  0.2991],\n",
       "                      [ 0.8841, -0.1253, -0.4294, -0.0852],\n",
       "                      [ 0.7056,  0.7251,  1.1095, -0.7267]]),\n",
       "       ),\n",
       ")"
      ]
     },
     "execution_count": 27,
     "metadata": {},
     "output_type": "execute_result"
    }
   ],
   "source": [
    "Batch.cat(batches)"
   ]
  },
  {
   "cell_type": "code",
   "execution_count": 28,
   "id": "18dfb045",
   "metadata": {
    "execution": {
     "iopub.execute_input": "2023-02-27T10:57:37.376953Z",
     "iopub.status.busy": "2023-02-27T10:57:37.376395Z",
     "iopub.status.idle": "2023-02-27T10:57:48.889856Z",
     "shell.execute_reply": "2023-02-27T10:57:48.889144Z"
    }
   },
   "outputs": [
    {
     "name": "stdout",
     "output_type": "stream",
     "text": [
      "142 µs ± 262 ns per loop (mean ± std. dev. of 7 runs, 10,000 loops each)\n"
     ]
    }
   ],
   "source": [
    "%timeit Batch.cat(batches)"
   ]
  },
  {
   "cell_type": "code",
   "execution_count": 29,
   "id": "c6688e51",
   "metadata": {
    "execution": {
     "iopub.execute_input": "2023-02-27T10:57:48.893156Z",
     "iopub.status.busy": "2023-02-27T10:57:48.892612Z",
     "iopub.status.idle": "2023-02-27T10:57:51.396180Z",
     "shell.execute_reply": "2023-02-27T10:57:51.395344Z"
    }
   },
   "outputs": [
    {
     "name": "stdout",
     "output_type": "stream",
     "text": [
      "308 µs ± 2.74 µs per loop (mean ± std. dev. of 7 runs, 1,000 loops each)\n"
     ]
    }
   ],
   "source": [
    "batch = Batch({\n",
    "    'obs': torch.randn(8, 4, 84, 84),\n",
    "    'action': torch.randint(0, 6, size=(8, 1,)),\n",
    "    'reward': torch.rand(8, 1)}\n",
    ")\n",
    "\n",
    "%timeit list(Batch.split(batch, 1, shuffle=False, merge_last=True))"
   ]
  },
  {
   "cell_type": "code",
   "execution_count": null,
   "id": "2539fbd9",
   "metadata": {},
   "outputs": [],
   "source": []
  }
 ],
 "metadata": {
  "kernelspec": {
   "display_name": "Python 3 (ipykernel)",
   "language": "python",
   "name": "python3"
  },
  "language_info": {
   "codemirror_mode": {
    "name": "ipython",
    "version": 3
   },
   "file_extension": ".py",
   "mimetype": "text/x-python",
   "name": "python",
   "nbconvert_exporter": "python",
   "pygments_lexer": "ipython3",
   "version": "3.8.16"
  }
 },
 "nbformat": 4,
 "nbformat_minor": 5
}
