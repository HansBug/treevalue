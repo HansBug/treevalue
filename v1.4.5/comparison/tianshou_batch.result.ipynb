{
 "cells": [
  {
   "cell_type": "markdown",
   "id": "9d39d946",
   "metadata": {},
   "source": [
    "# Comparison Between TreeValue and Tianshou Batch"
   ]
  },
  {
   "cell_type": "markdown",
   "id": "3c6db2d4",
   "metadata": {},
   "source": [
    "In this section, we will take a look at the feature and performance of the [Tianshou Batch](https://github.com/thu-ml/tianshou) library, which is developed by Tsinghua Machine Learning Group."
   ]
  },
  {
   "cell_type": "markdown",
   "id": "069361b0",
   "metadata": {},
   "source": [
    "Before starting the comparison, let us define some thing."
   ]
  },
  {
   "cell_type": "code",
   "execution_count": 1,
   "id": "06fc8d26",
   "metadata": {
    "execution": {
     "iopub.execute_input": "2023-02-25T07:50:01.165533Z",
     "iopub.status.busy": "2023-02-25T07:50:01.165073Z",
     "iopub.status.idle": "2023-02-25T07:50:02.346148Z",
     "shell.execute_reply": "2023-02-25T07:50:02.345069Z"
    }
   },
   "outputs": [
    {
     "name": "stderr",
     "output_type": "stream",
     "text": [
      "/opt/hostedtoolcache/Python/3.8.16/x64/lib/python3.8/site-packages/tqdm/auto.py:22: TqdmWarning: IProgress not found. Please update jupyter and ipywidgets. See https://ipywidgets.readthedocs.io/en/stable/user_install.html\n",
      "  from .autonotebook import tqdm as notebook_tqdm\n"
     ]
    }
   ],
   "source": [
    "import torch \n",
    "\n",
    "_TREE_DATA_1 = {'a': 1, 'b': 2, 'x': {'c': 3, 'd': 4}}\n",
    "_TREE_DATA_2 = {\n",
    "    'a': torch.randn(2, 3), \n",
    "    'x': {\n",
    "        'c': torch.randn(3, 4)\n",
    "    },\n",
    "}\n",
    "_TREE_DATA_3 = {\n",
    "    'obs': torch.randn(4, 84, 84),\n",
    "    'action': torch.randint(0, 6, size=(1,)),\n",
    "    'reward': torch.rand(1),\n",
    "}"
   ]
  },
  {
   "cell_type": "markdown",
   "id": "83461b25",
   "metadata": {},
   "source": [
    "## Read and Write Operation"
   ]
  },
  {
   "cell_type": "markdown",
   "id": "067b3f73",
   "metadata": {},
   "source": [
    "Reading and writing are the two most common operations in the tree data structure based on the data model (TreeValue and Tianshou Batch both belong to this type), so this section will compare the reading and writing performance of these two libraries."
   ]
  },
  {
   "cell_type": "markdown",
   "id": "5d09a5b7",
   "metadata": {},
   "source": [
    "### TreeValue's Get and Set"
   ]
  },
  {
   "cell_type": "code",
   "execution_count": 2,
   "id": "9519c4bb",
   "metadata": {
    "execution": {
     "iopub.execute_input": "2023-02-25T07:50:02.351216Z",
     "iopub.status.busy": "2023-02-25T07:50:02.350528Z",
     "iopub.status.idle": "2023-02-25T07:50:02.395969Z",
     "shell.execute_reply": "2023-02-25T07:50:02.394616Z"
    }
   },
   "outputs": [],
   "source": [
    "from treevalue import FastTreeValue\n",
    "\n",
    "t = FastTreeValue(_TREE_DATA_2)"
   ]
  },
  {
   "cell_type": "code",
   "execution_count": 3,
   "id": "11c37677",
   "metadata": {
    "execution": {
     "iopub.execute_input": "2023-02-25T07:50:02.399598Z",
     "iopub.status.busy": "2023-02-25T07:50:02.399317Z",
     "iopub.status.idle": "2023-02-25T07:50:02.412213Z",
     "shell.execute_reply": "2023-02-25T07:50:02.411019Z"
    }
   },
   "outputs": [
    {
     "data": {
      "text/plain": [
       "<FastTreeValue 0x7f7c58d962b0>\n",
       "├── 'a' --> tensor([[-0.2160,  1.5278,  0.3153],\n",
       "│                   [ 0.8149, -0.7797, -0.9736]])\n",
       "└── 'x' --> <FastTreeValue 0x7f7cfc28bfd0>\n",
       "    └── 'c' --> tensor([[-0.7709, -0.5655,  0.1681, -1.1895],\n",
       "                        [-1.2836, -0.1488, -0.0166,  1.1525],\n",
       "                        [-1.0072, -0.7077,  0.1132, -0.4709]])"
      ]
     },
     "execution_count": 3,
     "metadata": {},
     "output_type": "execute_result"
    }
   ],
   "source": [
    "t"
   ]
  },
  {
   "cell_type": "code",
   "execution_count": 4,
   "id": "fd70b0b9",
   "metadata": {
    "execution": {
     "iopub.execute_input": "2023-02-25T07:50:02.415564Z",
     "iopub.status.busy": "2023-02-25T07:50:02.415292Z",
     "iopub.status.idle": "2023-02-25T07:50:02.423226Z",
     "shell.execute_reply": "2023-02-25T07:50:02.421809Z"
    }
   },
   "outputs": [
    {
     "data": {
      "text/plain": [
       "tensor([[-0.2160,  1.5278,  0.3153],\n",
       "        [ 0.8149, -0.7797, -0.9736]])"
      ]
     },
     "execution_count": 4,
     "metadata": {},
     "output_type": "execute_result"
    }
   ],
   "source": [
    "t.a"
   ]
  },
  {
   "cell_type": "code",
   "execution_count": 5,
   "id": "c18197bd",
   "metadata": {
    "execution": {
     "iopub.execute_input": "2023-02-25T07:50:02.427063Z",
     "iopub.status.busy": "2023-02-25T07:50:02.426590Z",
     "iopub.status.idle": "2023-02-25T07:50:08.442739Z",
     "shell.execute_reply": "2023-02-25T07:50:08.441571Z"
    }
   },
   "outputs": [
    {
     "name": "stdout",
     "output_type": "stream",
     "text": [
      "74.4 ns ± 0.63 ns per loop (mean ± std. dev. of 7 runs, 10,000,000 loops each)\n"
     ]
    }
   ],
   "source": [
    "%timeit t.a"
   ]
  },
  {
   "cell_type": "code",
   "execution_count": 6,
   "id": "bd52f867",
   "metadata": {
    "execution": {
     "iopub.execute_input": "2023-02-25T07:50:08.446520Z",
     "iopub.status.busy": "2023-02-25T07:50:08.446226Z",
     "iopub.status.idle": "2023-02-25T07:50:08.455724Z",
     "shell.execute_reply": "2023-02-25T07:50:08.454853Z"
    }
   },
   "outputs": [
    {
     "data": {
      "text/plain": [
       "<FastTreeValue 0x7f7c58d962b0>\n",
       "├── 'a' --> tensor([[ 0.1729,  0.9024,  0.5930],\n",
       "│                   [ 0.7142,  0.2882, -0.9651]])\n",
       "└── 'x' --> <FastTreeValue 0x7f7cfc28bfd0>\n",
       "    └── 'c' --> tensor([[-0.7709, -0.5655,  0.1681, -1.1895],\n",
       "                        [-1.2836, -0.1488, -0.0166,  1.1525],\n",
       "                        [-1.0072, -0.7077,  0.1132, -0.4709]])"
      ]
     },
     "execution_count": 6,
     "metadata": {},
     "output_type": "execute_result"
    }
   ],
   "source": [
    "new_value = torch.randn(2, 3)\n",
    "t.a = new_value\n",
    "\n",
    "t"
   ]
  },
  {
   "cell_type": "code",
   "execution_count": 7,
   "id": "bbe04d1c",
   "metadata": {
    "execution": {
     "iopub.execute_input": "2023-02-25T07:50:08.459370Z",
     "iopub.status.busy": "2023-02-25T07:50:08.458887Z",
     "iopub.status.idle": "2023-02-25T07:50:15.220896Z",
     "shell.execute_reply": "2023-02-25T07:50:15.219826Z"
    }
   },
   "outputs": [
    {
     "name": "stdout",
     "output_type": "stream",
     "text": [
      "83.1 ns ± 1.73 ns per loop (mean ± std. dev. of 7 runs, 10,000,000 loops each)\n"
     ]
    }
   ],
   "source": [
    "%timeit t.a = new_value"
   ]
  },
  {
   "cell_type": "markdown",
   "id": "48c49731",
   "metadata": {},
   "source": [
    "### Tianshou Batch's Get and Set"
   ]
  },
  {
   "cell_type": "code",
   "execution_count": 8,
   "id": "f1bb14c1",
   "metadata": {
    "execution": {
     "iopub.execute_input": "2023-02-25T07:50:15.225126Z",
     "iopub.status.busy": "2023-02-25T07:50:15.224249Z",
     "iopub.status.idle": "2023-02-25T07:50:15.672026Z",
     "shell.execute_reply": "2023-02-25T07:50:15.670995Z"
    }
   },
   "outputs": [],
   "source": [
    "from tianshou.data import Batch\n",
    "\n",
    "b = Batch(**_TREE_DATA_2)"
   ]
  },
  {
   "cell_type": "code",
   "execution_count": 9,
   "id": "cb0777c3",
   "metadata": {
    "execution": {
     "iopub.execute_input": "2023-02-25T07:50:15.676244Z",
     "iopub.status.busy": "2023-02-25T07:50:15.675656Z",
     "iopub.status.idle": "2023-02-25T07:50:15.683865Z",
     "shell.execute_reply": "2023-02-25T07:50:15.682932Z"
    }
   },
   "outputs": [
    {
     "data": {
      "text/plain": [
       "Batch(\n",
       "    a: tensor([[-0.2160,  1.5278,  0.3153],\n",
       "               [ 0.8149, -0.7797, -0.9736]]),\n",
       "    x: Batch(\n",
       "           c: tensor([[-0.7709, -0.5655,  0.1681, -1.1895],\n",
       "                      [-1.2836, -0.1488, -0.0166,  1.1525],\n",
       "                      [-1.0072, -0.7077,  0.1132, -0.4709]]),\n",
       "       ),\n",
       ")"
      ]
     },
     "execution_count": 9,
     "metadata": {},
     "output_type": "execute_result"
    }
   ],
   "source": [
    "b"
   ]
  },
  {
   "cell_type": "code",
   "execution_count": 10,
   "id": "43ef8ea3",
   "metadata": {
    "execution": {
     "iopub.execute_input": "2023-02-25T07:50:15.687338Z",
     "iopub.status.busy": "2023-02-25T07:50:15.686892Z",
     "iopub.status.idle": "2023-02-25T07:50:15.693252Z",
     "shell.execute_reply": "2023-02-25T07:50:15.692347Z"
    }
   },
   "outputs": [
    {
     "data": {
      "text/plain": [
       "tensor([[-0.2160,  1.5278,  0.3153],\n",
       "        [ 0.8149, -0.7797, -0.9736]])"
      ]
     },
     "execution_count": 10,
     "metadata": {},
     "output_type": "execute_result"
    }
   ],
   "source": [
    "b.a"
   ]
  },
  {
   "cell_type": "code",
   "execution_count": 11,
   "id": "b785ab72",
   "metadata": {
    "execution": {
     "iopub.execute_input": "2023-02-25T07:50:15.696986Z",
     "iopub.status.busy": "2023-02-25T07:50:15.696421Z",
     "iopub.status.idle": "2023-02-25T07:50:21.151839Z",
     "shell.execute_reply": "2023-02-25T07:50:21.150822Z"
    }
   },
   "outputs": [
    {
     "name": "stdout",
     "output_type": "stream",
     "text": [
      "66.9 ns ± 0.989 ns per loop (mean ± std. dev. of 7 runs, 10,000,000 loops each)\n"
     ]
    }
   ],
   "source": [
    "%timeit b.a"
   ]
  },
  {
   "cell_type": "code",
   "execution_count": 12,
   "id": "ad54dc69",
   "metadata": {
    "execution": {
     "iopub.execute_input": "2023-02-25T07:50:21.155374Z",
     "iopub.status.busy": "2023-02-25T07:50:21.155070Z",
     "iopub.status.idle": "2023-02-25T07:50:21.164476Z",
     "shell.execute_reply": "2023-02-25T07:50:21.163121Z"
    }
   },
   "outputs": [
    {
     "data": {
      "text/plain": [
       "Batch(\n",
       "    a: tensor([[ 0.5718,  0.5578, -1.5466],\n",
       "               [-0.1554, -0.2610, -0.2579]]),\n",
       "    x: Batch(\n",
       "           c: tensor([[-0.7709, -0.5655,  0.1681, -1.1895],\n",
       "                      [-1.2836, -0.1488, -0.0166,  1.1525],\n",
       "                      [-1.0072, -0.7077,  0.1132, -0.4709]]),\n",
       "       ),\n",
       ")"
      ]
     },
     "execution_count": 12,
     "metadata": {},
     "output_type": "execute_result"
    }
   ],
   "source": [
    "new_value = torch.randn(2, 3)\n",
    "b.a = new_value\n",
    "\n",
    "b"
   ]
  },
  {
   "cell_type": "code",
   "execution_count": 13,
   "id": "29b1d0bf",
   "metadata": {
    "execution": {
     "iopub.execute_input": "2023-02-25T07:50:21.167834Z",
     "iopub.status.busy": "2023-02-25T07:50:21.167546Z",
     "iopub.status.idle": "2023-02-25T07:50:26.187581Z",
     "shell.execute_reply": "2023-02-25T07:50:26.186342Z"
    }
   },
   "outputs": [
    {
     "name": "stdout",
     "output_type": "stream",
     "text": [
      "617 ns ± 8.44 ns per loop (mean ± std. dev. of 7 runs, 1,000,000 loops each)\n"
     ]
    }
   ],
   "source": [
    "%timeit b.a = new_value"
   ]
  },
  {
   "cell_type": "markdown",
   "id": "b61ad1d0",
   "metadata": {},
   "source": [
    "## Initialization"
   ]
  },
  {
   "cell_type": "markdown",
   "id": "d70f0d54",
   "metadata": {},
   "source": [
    "### TreeValue's Initialization"
   ]
  },
  {
   "cell_type": "code",
   "execution_count": 14,
   "id": "d32a679b",
   "metadata": {
    "execution": {
     "iopub.execute_input": "2023-02-25T07:50:26.191474Z",
     "iopub.status.busy": "2023-02-25T07:50:26.190749Z",
     "iopub.status.idle": "2023-02-25T07:50:34.460244Z",
     "shell.execute_reply": "2023-02-25T07:50:34.459273Z"
    }
   },
   "outputs": [
    {
     "name": "stdout",
     "output_type": "stream",
     "text": [
      "1.01 µs ± 12.8 ns per loop (mean ± std. dev. of 7 runs, 1,000,000 loops each)\n"
     ]
    }
   ],
   "source": [
    "%timeit FastTreeValue(_TREE_DATA_1)"
   ]
  },
  {
   "cell_type": "markdown",
   "id": "24f3707b",
   "metadata": {},
   "source": [
    "### Tianshou Batch's Initialization"
   ]
  },
  {
   "cell_type": "code",
   "execution_count": 15,
   "id": "ac3958df",
   "metadata": {
    "execution": {
     "iopub.execute_input": "2023-02-25T07:50:34.464262Z",
     "iopub.status.busy": "2023-02-25T07:50:34.463440Z",
     "iopub.status.idle": "2023-02-25T07:50:45.311172Z",
     "shell.execute_reply": "2023-02-25T07:50:45.310110Z"
    }
   },
   "outputs": [
    {
     "name": "stdout",
     "output_type": "stream",
     "text": [
      "13.3 µs ± 203 ns per loop (mean ± std. dev. of 7 runs, 100,000 loops each)\n"
     ]
    }
   ],
   "source": [
    "%timeit Batch(**_TREE_DATA_1)"
   ]
  },
  {
   "cell_type": "markdown",
   "id": "1ab82e2d",
   "metadata": {},
   "source": [
    "## Deep Copy Operation"
   ]
  },
  {
   "cell_type": "code",
   "execution_count": 16,
   "id": "210a9442",
   "metadata": {
    "execution": {
     "iopub.execute_input": "2023-02-25T07:50:45.315160Z",
     "iopub.status.busy": "2023-02-25T07:50:45.314853Z",
     "iopub.status.idle": "2023-02-25T07:50:45.324623Z",
     "shell.execute_reply": "2023-02-25T07:50:45.323638Z"
    }
   },
   "outputs": [],
   "source": [
    "import copy"
   ]
  },
  {
   "cell_type": "markdown",
   "id": "5a736274",
   "metadata": {},
   "source": [
    "### Deep Copy of TreeValue"
   ]
  },
  {
   "cell_type": "code",
   "execution_count": 17,
   "id": "f9bcadd6",
   "metadata": {
    "execution": {
     "iopub.execute_input": "2023-02-25T07:50:45.328753Z",
     "iopub.status.busy": "2023-02-25T07:50:45.328447Z",
     "iopub.status.idle": "2023-02-25T07:50:47.761762Z",
     "shell.execute_reply": "2023-02-25T07:50:47.760873Z"
    }
   },
   "outputs": [
    {
     "name": "stdout",
     "output_type": "stream",
     "text": [
      "293 µs ± 5.72 µs per loop (mean ± std. dev. of 7 runs, 1,000 loops each)\n"
     ]
    }
   ],
   "source": [
    "t3 = FastTreeValue(_TREE_DATA_3)\n",
    "%timeit copy.deepcopy(t3)"
   ]
  },
  {
   "cell_type": "markdown",
   "id": "bf8be7ea",
   "metadata": {},
   "source": [
    "### Deep Copy of Tianshou Batch"
   ]
  },
  {
   "cell_type": "code",
   "execution_count": 18,
   "id": "91998e6f",
   "metadata": {
    "execution": {
     "iopub.execute_input": "2023-02-25T07:50:47.766464Z",
     "iopub.status.busy": "2023-02-25T07:50:47.764864Z",
     "iopub.status.idle": "2023-02-25T07:50:50.008530Z",
     "shell.execute_reply": "2023-02-25T07:50:50.007580Z"
    }
   },
   "outputs": [
    {
     "name": "stdout",
     "output_type": "stream",
     "text": [
      "275 µs ± 9.81 µs per loop (mean ± std. dev. of 7 runs, 1,000 loops each)\n"
     ]
    }
   ],
   "source": [
    "b3 = Batch(**_TREE_DATA_3)\n",
    "%timeit copy.deepcopy(b3)"
   ]
  },
  {
   "cell_type": "markdown",
   "id": "223162fb",
   "metadata": {},
   "source": [
    "## Stack, Concat and Split Operation"
   ]
  },
  {
   "cell_type": "markdown",
   "id": "85fa4a73",
   "metadata": {},
   "source": [
    "### Performance of TreeValue"
   ]
  },
  {
   "cell_type": "code",
   "execution_count": 19,
   "id": "a0c2b697",
   "metadata": {
    "execution": {
     "iopub.execute_input": "2023-02-25T07:50:50.012860Z",
     "iopub.status.busy": "2023-02-25T07:50:50.012341Z",
     "iopub.status.idle": "2023-02-25T07:50:50.017745Z",
     "shell.execute_reply": "2023-02-25T07:50:50.015777Z"
    }
   },
   "outputs": [],
   "source": [
    "trees = [FastTreeValue(_TREE_DATA_2) for _ in range(8)]"
   ]
  },
  {
   "cell_type": "code",
   "execution_count": 20,
   "id": "017ea5a5",
   "metadata": {
    "execution": {
     "iopub.execute_input": "2023-02-25T07:50:50.022307Z",
     "iopub.status.busy": "2023-02-25T07:50:50.021586Z",
     "iopub.status.idle": "2023-02-25T07:50:50.032651Z",
     "shell.execute_reply": "2023-02-25T07:50:50.031679Z"
    }
   },
   "outputs": [
    {
     "data": {
      "text/plain": [
       "<FastTreeValue 0x7f7c58b2cc10>\n",
       "├── 'a' --> tensor([[[-0.2160,  1.5278,  0.3153],\n",
       "│                    [ 0.8149, -0.7797, -0.9736]],\n",
       "│           \n",
       "│                   [[-0.2160,  1.5278,  0.3153],\n",
       "│                    [ 0.8149, -0.7797, -0.9736]],\n",
       "│           \n",
       "│                   [[-0.2160,  1.5278,  0.3153],\n",
       "│                    [ 0.8149, -0.7797, -0.9736]],\n",
       "│           \n",
       "│                   [[-0.2160,  1.5278,  0.3153],\n",
       "│                    [ 0.8149, -0.7797, -0.9736]],\n",
       "│           \n",
       "│                   [[-0.2160,  1.5278,  0.3153],\n",
       "│                    [ 0.8149, -0.7797, -0.9736]],\n",
       "│           \n",
       "│                   [[-0.2160,  1.5278,  0.3153],\n",
       "│                    [ 0.8149, -0.7797, -0.9736]],\n",
       "│           \n",
       "│                   [[-0.2160,  1.5278,  0.3153],\n",
       "│                    [ 0.8149, -0.7797, -0.9736]],\n",
       "│           \n",
       "│                   [[-0.2160,  1.5278,  0.3153],\n",
       "│                    [ 0.8149, -0.7797, -0.9736]]])\n",
       "└── 'x' --> <FastTreeValue 0x7f7c58b2c9a0>\n",
       "    └── 'c' --> tensor([[[-0.7709, -0.5655,  0.1681, -1.1895],\n",
       "                         [-1.2836, -0.1488, -0.0166,  1.1525],\n",
       "                         [-1.0072, -0.7077,  0.1132, -0.4709]],\n",
       "                \n",
       "                        [[-0.7709, -0.5655,  0.1681, -1.1895],\n",
       "                         [-1.2836, -0.1488, -0.0166,  1.1525],\n",
       "                         [-1.0072, -0.7077,  0.1132, -0.4709]],\n",
       "                \n",
       "                        [[-0.7709, -0.5655,  0.1681, -1.1895],\n",
       "                         [-1.2836, -0.1488, -0.0166,  1.1525],\n",
       "                         [-1.0072, -0.7077,  0.1132, -0.4709]],\n",
       "                \n",
       "                        [[-0.7709, -0.5655,  0.1681, -1.1895],\n",
       "                         [-1.2836, -0.1488, -0.0166,  1.1525],\n",
       "                         [-1.0072, -0.7077,  0.1132, -0.4709]],\n",
       "                \n",
       "                        [[-0.7709, -0.5655,  0.1681, -1.1895],\n",
       "                         [-1.2836, -0.1488, -0.0166,  1.1525],\n",
       "                         [-1.0072, -0.7077,  0.1132, -0.4709]],\n",
       "                \n",
       "                        [[-0.7709, -0.5655,  0.1681, -1.1895],\n",
       "                         [-1.2836, -0.1488, -0.0166,  1.1525],\n",
       "                         [-1.0072, -0.7077,  0.1132, -0.4709]],\n",
       "                \n",
       "                        [[-0.7709, -0.5655,  0.1681, -1.1895],\n",
       "                         [-1.2836, -0.1488, -0.0166,  1.1525],\n",
       "                         [-1.0072, -0.7077,  0.1132, -0.4709]],\n",
       "                \n",
       "                        [[-0.7709, -0.5655,  0.1681, -1.1895],\n",
       "                         [-1.2836, -0.1488, -0.0166,  1.1525],\n",
       "                         [-1.0072, -0.7077,  0.1132, -0.4709]]])"
      ]
     },
     "execution_count": 20,
     "metadata": {},
     "output_type": "execute_result"
    }
   ],
   "source": [
    "t_stack = FastTreeValue.func(subside=True)(torch.stack)\n",
    "\n",
    "t_stack(trees)"
   ]
  },
  {
   "cell_type": "code",
   "execution_count": 21,
   "id": "f8b3f415",
   "metadata": {
    "execution": {
     "iopub.execute_input": "2023-02-25T07:50:50.036619Z",
     "iopub.status.busy": "2023-02-25T07:50:50.036319Z",
     "iopub.status.idle": "2023-02-25T07:50:54.009132Z",
     "shell.execute_reply": "2023-02-25T07:50:54.007957Z"
    }
   },
   "outputs": [
    {
     "name": "stdout",
     "output_type": "stream",
     "text": [
      "48.8 µs ± 2.59 µs per loop (mean ± std. dev. of 7 runs, 10,000 loops each)\n"
     ]
    }
   ],
   "source": [
    "%timeit t_stack(trees)"
   ]
  },
  {
   "cell_type": "code",
   "execution_count": 22,
   "id": "94b56771",
   "metadata": {
    "execution": {
     "iopub.execute_input": "2023-02-25T07:50:54.012796Z",
     "iopub.status.busy": "2023-02-25T07:50:54.012409Z",
     "iopub.status.idle": "2023-02-25T07:50:54.024437Z",
     "shell.execute_reply": "2023-02-25T07:50:54.023437Z"
    }
   },
   "outputs": [
    {
     "data": {
      "text/plain": [
       "<FastTreeValue 0x7f7cfc2111f0>\n",
       "├── 'a' --> tensor([[-0.2160,  1.5278,  0.3153],\n",
       "│                   [ 0.8149, -0.7797, -0.9736],\n",
       "│                   [-0.2160,  1.5278,  0.3153],\n",
       "│                   [ 0.8149, -0.7797, -0.9736],\n",
       "│                   [-0.2160,  1.5278,  0.3153],\n",
       "│                   [ 0.8149, -0.7797, -0.9736],\n",
       "│                   [-0.2160,  1.5278,  0.3153],\n",
       "│                   [ 0.8149, -0.7797, -0.9736],\n",
       "│                   [-0.2160,  1.5278,  0.3153],\n",
       "│                   [ 0.8149, -0.7797, -0.9736],\n",
       "│                   [-0.2160,  1.5278,  0.3153],\n",
       "│                   [ 0.8149, -0.7797, -0.9736],\n",
       "│                   [-0.2160,  1.5278,  0.3153],\n",
       "│                   [ 0.8149, -0.7797, -0.9736],\n",
       "│                   [-0.2160,  1.5278,  0.3153],\n",
       "│                   [ 0.8149, -0.7797, -0.9736]])\n",
       "└── 'x' --> <FastTreeValue 0x7f7c51f454f0>\n",
       "    └── 'c' --> tensor([[-0.7709, -0.5655,  0.1681, -1.1895],\n",
       "                        [-1.2836, -0.1488, -0.0166,  1.1525],\n",
       "                        [-1.0072, -0.7077,  0.1132, -0.4709],\n",
       "                        [-0.7709, -0.5655,  0.1681, -1.1895],\n",
       "                        [-1.2836, -0.1488, -0.0166,  1.1525],\n",
       "                        [-1.0072, -0.7077,  0.1132, -0.4709],\n",
       "                        [-0.7709, -0.5655,  0.1681, -1.1895],\n",
       "                        [-1.2836, -0.1488, -0.0166,  1.1525],\n",
       "                        [-1.0072, -0.7077,  0.1132, -0.4709],\n",
       "                        [-0.7709, -0.5655,  0.1681, -1.1895],\n",
       "                        [-1.2836, -0.1488, -0.0166,  1.1525],\n",
       "                        [-1.0072, -0.7077,  0.1132, -0.4709],\n",
       "                        [-0.7709, -0.5655,  0.1681, -1.1895],\n",
       "                        [-1.2836, -0.1488, -0.0166,  1.1525],\n",
       "                        [-1.0072, -0.7077,  0.1132, -0.4709],\n",
       "                        [-0.7709, -0.5655,  0.1681, -1.1895],\n",
       "                        [-1.2836, -0.1488, -0.0166,  1.1525],\n",
       "                        [-1.0072, -0.7077,  0.1132, -0.4709],\n",
       "                        [-0.7709, -0.5655,  0.1681, -1.1895],\n",
       "                        [-1.2836, -0.1488, -0.0166,  1.1525],\n",
       "                        [-1.0072, -0.7077,  0.1132, -0.4709],\n",
       "                        [-0.7709, -0.5655,  0.1681, -1.1895],\n",
       "                        [-1.2836, -0.1488, -0.0166,  1.1525],\n",
       "                        [-1.0072, -0.7077,  0.1132, -0.4709]])"
      ]
     },
     "execution_count": 22,
     "metadata": {},
     "output_type": "execute_result"
    }
   ],
   "source": [
    "t_cat = FastTreeValue.func(subside=True)(torch.cat)\n",
    "\n",
    "t_cat(trees)"
   ]
  },
  {
   "cell_type": "code",
   "execution_count": 23,
   "id": "5e9c06a6",
   "metadata": {
    "execution": {
     "iopub.execute_input": "2023-02-25T07:50:54.028167Z",
     "iopub.status.busy": "2023-02-25T07:50:54.027457Z",
     "iopub.status.idle": "2023-02-25T07:50:57.962956Z",
     "shell.execute_reply": "2023-02-25T07:50:57.961978Z"
    }
   },
   "outputs": [
    {
     "name": "stdout",
     "output_type": "stream",
     "text": [
      "48.5 µs ± 3.21 µs per loop (mean ± std. dev. of 7 runs, 10,000 loops each)\n"
     ]
    }
   ],
   "source": [
    "%timeit t_cat(trees)"
   ]
  },
  {
   "cell_type": "code",
   "execution_count": 24,
   "id": "a3ab5c8f",
   "metadata": {
    "execution": {
     "iopub.execute_input": "2023-02-25T07:50:57.966735Z",
     "iopub.status.busy": "2023-02-25T07:50:57.966209Z",
     "iopub.status.idle": "2023-02-25T07:51:04.528320Z",
     "shell.execute_reply": "2023-02-25T07:51:04.527160Z"
    }
   },
   "outputs": [
    {
     "name": "stdout",
     "output_type": "stream",
     "text": [
      "81.3 µs ± 2.5 µs per loop (mean ± std. dev. of 7 runs, 10,000 loops each)\n"
     ]
    }
   ],
   "source": [
    "t_split = FastTreeValue.func(rise=True)(torch.split)\n",
    "tree = FastTreeValue({\n",
    "    'obs': torch.randn(8, 4, 84, 84),\n",
    "    'action': torch.randint(0, 6, size=(8, 1,)),\n",
    "    'reward': torch.rand(8, 1),\n",
    "})\n",
    "\n",
    "%timeit t_split(tree, 1)"
   ]
  },
  {
   "cell_type": "markdown",
   "id": "31c3ec0b",
   "metadata": {},
   "source": [
    "### Performance of Tianshou Batch"
   ]
  },
  {
   "cell_type": "code",
   "execution_count": 25,
   "id": "9ead828a",
   "metadata": {
    "execution": {
     "iopub.execute_input": "2023-02-25T07:51:04.532131Z",
     "iopub.status.busy": "2023-02-25T07:51:04.531672Z",
     "iopub.status.idle": "2023-02-25T07:51:04.543565Z",
     "shell.execute_reply": "2023-02-25T07:51:04.542569Z"
    }
   },
   "outputs": [
    {
     "data": {
      "text/plain": [
       "Batch(\n",
       "    x: Batch(\n",
       "           c: tensor([[[-0.7709, -0.5655,  0.1681, -1.1895],\n",
       "                       [-1.2836, -0.1488, -0.0166,  1.1525],\n",
       "                       [-1.0072, -0.7077,  0.1132, -0.4709]],\n",
       "              \n",
       "                      [[-0.7709, -0.5655,  0.1681, -1.1895],\n",
       "                       [-1.2836, -0.1488, -0.0166,  1.1525],\n",
       "                       [-1.0072, -0.7077,  0.1132, -0.4709]],\n",
       "              \n",
       "                      [[-0.7709, -0.5655,  0.1681, -1.1895],\n",
       "                       [-1.2836, -0.1488, -0.0166,  1.1525],\n",
       "                       [-1.0072, -0.7077,  0.1132, -0.4709]],\n",
       "              \n",
       "                      [[-0.7709, -0.5655,  0.1681, -1.1895],\n",
       "                       [-1.2836, -0.1488, -0.0166,  1.1525],\n",
       "                       [-1.0072, -0.7077,  0.1132, -0.4709]],\n",
       "              \n",
       "                      [[-0.7709, -0.5655,  0.1681, -1.1895],\n",
       "                       [-1.2836, -0.1488, -0.0166,  1.1525],\n",
       "                       [-1.0072, -0.7077,  0.1132, -0.4709]],\n",
       "              \n",
       "                      [[-0.7709, -0.5655,  0.1681, -1.1895],\n",
       "                       [-1.2836, -0.1488, -0.0166,  1.1525],\n",
       "                       [-1.0072, -0.7077,  0.1132, -0.4709]],\n",
       "              \n",
       "                      [[-0.7709, -0.5655,  0.1681, -1.1895],\n",
       "                       [-1.2836, -0.1488, -0.0166,  1.1525],\n",
       "                       [-1.0072, -0.7077,  0.1132, -0.4709]],\n",
       "              \n",
       "                      [[-0.7709, -0.5655,  0.1681, -1.1895],\n",
       "                       [-1.2836, -0.1488, -0.0166,  1.1525],\n",
       "                       [-1.0072, -0.7077,  0.1132, -0.4709]]]),\n",
       "       ),\n",
       "    a: tensor([[[-0.2160,  1.5278,  0.3153],\n",
       "                [ 0.8149, -0.7797, -0.9736]],\n",
       "       \n",
       "               [[-0.2160,  1.5278,  0.3153],\n",
       "                [ 0.8149, -0.7797, -0.9736]],\n",
       "       \n",
       "               [[-0.2160,  1.5278,  0.3153],\n",
       "                [ 0.8149, -0.7797, -0.9736]],\n",
       "       \n",
       "               [[-0.2160,  1.5278,  0.3153],\n",
       "                [ 0.8149, -0.7797, -0.9736]],\n",
       "       \n",
       "               [[-0.2160,  1.5278,  0.3153],\n",
       "                [ 0.8149, -0.7797, -0.9736]],\n",
       "       \n",
       "               [[-0.2160,  1.5278,  0.3153],\n",
       "                [ 0.8149, -0.7797, -0.9736]],\n",
       "       \n",
       "               [[-0.2160,  1.5278,  0.3153],\n",
       "                [ 0.8149, -0.7797, -0.9736]],\n",
       "       \n",
       "               [[-0.2160,  1.5278,  0.3153],\n",
       "                [ 0.8149, -0.7797, -0.9736]]]),\n",
       ")"
      ]
     },
     "execution_count": 25,
     "metadata": {},
     "output_type": "execute_result"
    }
   ],
   "source": [
    "batches = [Batch(**_TREE_DATA_2) for _ in range(8)]\n",
    "\n",
    "Batch.stack(batches)"
   ]
  },
  {
   "cell_type": "code",
   "execution_count": 26,
   "id": "ec9037a3",
   "metadata": {
    "execution": {
     "iopub.execute_input": "2023-02-25T07:51:04.547325Z",
     "iopub.status.busy": "2023-02-25T07:51:04.547015Z",
     "iopub.status.idle": "2023-02-25T07:51:13.304301Z",
     "shell.execute_reply": "2023-02-25T07:51:13.303090Z"
    }
   },
   "outputs": [
    {
     "name": "stdout",
     "output_type": "stream",
     "text": [
      "108 µs ± 3.58 µs per loop (mean ± std. dev. of 7 runs, 10,000 loops each)\n"
     ]
    }
   ],
   "source": [
    "%timeit Batch.stack(batches)"
   ]
  },
  {
   "cell_type": "code",
   "execution_count": 27,
   "id": "cb8ab77e",
   "metadata": {
    "execution": {
     "iopub.execute_input": "2023-02-25T07:51:13.308373Z",
     "iopub.status.busy": "2023-02-25T07:51:13.307907Z",
     "iopub.status.idle": "2023-02-25T07:51:13.317400Z",
     "shell.execute_reply": "2023-02-25T07:51:13.316504Z"
    }
   },
   "outputs": [
    {
     "data": {
      "text/plain": [
       "Batch(\n",
       "    x: Batch(\n",
       "           c: tensor([[-0.7709, -0.5655,  0.1681, -1.1895],\n",
       "                      [-1.2836, -0.1488, -0.0166,  1.1525],\n",
       "                      [-1.0072, -0.7077,  0.1132, -0.4709],\n",
       "                      [-0.7709, -0.5655,  0.1681, -1.1895],\n",
       "                      [-1.2836, -0.1488, -0.0166,  1.1525],\n",
       "                      [-1.0072, -0.7077,  0.1132, -0.4709],\n",
       "                      [-0.7709, -0.5655,  0.1681, -1.1895],\n",
       "                      [-1.2836, -0.1488, -0.0166,  1.1525],\n",
       "                      [-1.0072, -0.7077,  0.1132, -0.4709],\n",
       "                      [-0.7709, -0.5655,  0.1681, -1.1895],\n",
       "                      [-1.2836, -0.1488, -0.0166,  1.1525],\n",
       "                      [-1.0072, -0.7077,  0.1132, -0.4709],\n",
       "                      [-0.7709, -0.5655,  0.1681, -1.1895],\n",
       "                      [-1.2836, -0.1488, -0.0166,  1.1525],\n",
       "                      [-1.0072, -0.7077,  0.1132, -0.4709],\n",
       "                      [-0.7709, -0.5655,  0.1681, -1.1895],\n",
       "                      [-1.2836, -0.1488, -0.0166,  1.1525],\n",
       "                      [-1.0072, -0.7077,  0.1132, -0.4709],\n",
       "                      [-0.7709, -0.5655,  0.1681, -1.1895],\n",
       "                      [-1.2836, -0.1488, -0.0166,  1.1525],\n",
       "                      [-1.0072, -0.7077,  0.1132, -0.4709],\n",
       "                      [-0.7709, -0.5655,  0.1681, -1.1895],\n",
       "                      [-1.2836, -0.1488, -0.0166,  1.1525],\n",
       "                      [-1.0072, -0.7077,  0.1132, -0.4709]]),\n",
       "       ),\n",
       "    a: tensor([[-0.2160,  1.5278,  0.3153],\n",
       "               [ 0.8149, -0.7797, -0.9736],\n",
       "               [-0.2160,  1.5278,  0.3153],\n",
       "               [ 0.8149, -0.7797, -0.9736],\n",
       "               [-0.2160,  1.5278,  0.3153],\n",
       "               [ 0.8149, -0.7797, -0.9736],\n",
       "               [-0.2160,  1.5278,  0.3153],\n",
       "               [ 0.8149, -0.7797, -0.9736],\n",
       "               [-0.2160,  1.5278,  0.3153],\n",
       "               [ 0.8149, -0.7797, -0.9736],\n",
       "               [-0.2160,  1.5278,  0.3153],\n",
       "               [ 0.8149, -0.7797, -0.9736],\n",
       "               [-0.2160,  1.5278,  0.3153],\n",
       "               [ 0.8149, -0.7797, -0.9736],\n",
       "               [-0.2160,  1.5278,  0.3153],\n",
       "               [ 0.8149, -0.7797, -0.9736]]),\n",
       ")"
      ]
     },
     "execution_count": 27,
     "metadata": {},
     "output_type": "execute_result"
    }
   ],
   "source": [
    "Batch.cat(batches)"
   ]
  },
  {
   "cell_type": "code",
   "execution_count": 28,
   "id": "18dfb045",
   "metadata": {
    "execution": {
     "iopub.execute_input": "2023-02-25T07:51:13.321639Z",
     "iopub.status.busy": "2023-02-25T07:51:13.321126Z",
     "iopub.status.idle": "2023-02-25T07:51:28.686511Z",
     "shell.execute_reply": "2023-02-25T07:51:28.685607Z"
    }
   },
   "outputs": [
    {
     "name": "stdout",
     "output_type": "stream",
     "text": [
      "189 µs ± 3.67 µs per loop (mean ± std. dev. of 7 runs, 10,000 loops each)\n"
     ]
    }
   ],
   "source": [
    "%timeit Batch.cat(batches)"
   ]
  },
  {
   "cell_type": "code",
   "execution_count": 29,
   "id": "c6688e51",
   "metadata": {
    "execution": {
     "iopub.execute_input": "2023-02-25T07:51:28.689823Z",
     "iopub.status.busy": "2023-02-25T07:51:28.689426Z",
     "iopub.status.idle": "2023-02-25T07:51:34.011173Z",
     "shell.execute_reply": "2023-02-25T07:51:34.010223Z"
    }
   },
   "outputs": [
    {
     "name": "stdout",
     "output_type": "stream",
     "text": [
      "668 µs ± 74.1 µs per loop (mean ± std. dev. of 7 runs, 1,000 loops each)\n"
     ]
    }
   ],
   "source": [
    "batch = Batch({\n",
    "    'obs': torch.randn(8, 4, 84, 84),\n",
    "    'action': torch.randint(0, 6, size=(8, 1,)),\n",
    "    'reward': torch.rand(8, 1)}\n",
    ")\n",
    "\n",
    "%timeit list(Batch.split(batch, 1, shuffle=False, merge_last=True))"
   ]
  },
  {
   "cell_type": "code",
   "execution_count": null,
   "id": "2539fbd9",
   "metadata": {},
   "outputs": [],
   "source": []
  }
 ],
 "metadata": {
  "kernelspec": {
   "display_name": "Python 3 (ipykernel)",
   "language": "python",
   "name": "python3"
  },
  "language_info": {
   "codemirror_mode": {
    "name": "ipython",
    "version": 3
   },
   "file_extension": ".py",
   "mimetype": "text/x-python",
   "name": "python",
   "nbconvert_exporter": "python",
   "pygments_lexer": "ipython3",
   "version": "3.8.16"
  }
 },
 "nbformat": 4,
 "nbformat_minor": 5
}
