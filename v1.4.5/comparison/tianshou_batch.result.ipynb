{
 "cells": [
  {
   "cell_type": "markdown",
   "id": "9d39d946",
   "metadata": {},
   "source": [
    "# Comparison Between TreeValue and Tianshou Batch"
   ]
  },
  {
   "cell_type": "markdown",
   "id": "3c6db2d4",
   "metadata": {},
   "source": [
    "In this section, we will take a look at the feature and performance of the [Tianshou Batch](https://github.com/thu-ml/tianshou) library, which is developed by Tsinghua Machine Learning Group."
   ]
  },
  {
   "cell_type": "markdown",
   "id": "069361b0",
   "metadata": {},
   "source": [
    "Before starting the comparison, let us define some thing."
   ]
  },
  {
   "cell_type": "code",
   "execution_count": 1,
   "id": "06fc8d26",
   "metadata": {
    "execution": {
     "iopub.execute_input": "2023-08-10T14:18:41.719678Z",
     "iopub.status.busy": "2023-08-10T14:18:41.719200Z",
     "iopub.status.idle": "2023-08-10T14:18:43.108519Z",
     "shell.execute_reply": "2023-08-10T14:18:43.107722Z"
    }
   },
   "outputs": [],
   "source": [
    "import torch \n",
    "\n",
    "_TREE_DATA_1 = {'a': 1, 'b': 2, 'x': {'c': 3, 'd': 4}}\n",
    "_TREE_DATA_2 = {\n",
    "    'a': torch.randn(2, 3), \n",
    "    'x': {\n",
    "        'c': torch.randn(3, 4)\n",
    "    },\n",
    "}\n",
    "_TREE_DATA_3 = {\n",
    "    'obs': torch.randn(4, 84, 84),\n",
    "    'action': torch.randint(0, 6, size=(1,)),\n",
    "    'reward': torch.rand(1),\n",
    "}"
   ]
  },
  {
   "cell_type": "markdown",
   "id": "83461b25",
   "metadata": {},
   "source": [
    "## Read and Write Operation"
   ]
  },
  {
   "cell_type": "markdown",
   "id": "067b3f73",
   "metadata": {},
   "source": [
    "Reading and writing are the two most common operations in the tree data structure based on the data model (TreeValue and Tianshou Batch both belong to this type), so this section will compare the reading and writing performance of these two libraries."
   ]
  },
  {
   "cell_type": "markdown",
   "id": "5d09a5b7",
   "metadata": {},
   "source": [
    "### TreeValue's Get and Set"
   ]
  },
  {
   "cell_type": "code",
   "execution_count": 2,
   "id": "9519c4bb",
   "metadata": {
    "execution": {
     "iopub.execute_input": "2023-08-10T14:18:43.112367Z",
     "iopub.status.busy": "2023-08-10T14:18:43.112029Z",
     "iopub.status.idle": "2023-08-10T14:18:43.142291Z",
     "shell.execute_reply": "2023-08-10T14:18:43.141580Z"
    }
   },
   "outputs": [],
   "source": [
    "from treevalue import FastTreeValue\n",
    "\n",
    "t = FastTreeValue(_TREE_DATA_2)"
   ]
  },
  {
   "cell_type": "code",
   "execution_count": 3,
   "id": "11c37677",
   "metadata": {
    "execution": {
     "iopub.execute_input": "2023-08-10T14:18:43.146643Z",
     "iopub.status.busy": "2023-08-10T14:18:43.146117Z",
     "iopub.status.idle": "2023-08-10T14:18:43.155492Z",
     "shell.execute_reply": "2023-08-10T14:18:43.154737Z"
    }
   },
   "outputs": [
    {
     "data": {
      "text/plain": [
       "<FastTreeValue 0x7f520db3ae80>\n",
       "├── 'a' --> tensor([[-0.0538, -2.1706,  1.0831],\n",
       "│                   [ 1.5994,  0.8798,  0.6716]])\n",
       "└── 'x' --> <FastTreeValue 0x7f520db3adc0>\n",
       "    └── 'c' --> tensor([[ 0.6019, -0.1378, -0.7804,  0.4486],\n",
       "                        [-0.4320,  2.6346,  0.6479,  1.8865],\n",
       "                        [-0.5043,  1.4418,  0.1368, -1.2055]])"
      ]
     },
     "execution_count": 3,
     "metadata": {},
     "output_type": "execute_result"
    }
   ],
   "source": [
    "t"
   ]
  },
  {
   "cell_type": "code",
   "execution_count": 4,
   "id": "fd70b0b9",
   "metadata": {
    "execution": {
     "iopub.execute_input": "2023-08-10T14:18:43.159426Z",
     "iopub.status.busy": "2023-08-10T14:18:43.158798Z",
     "iopub.status.idle": "2023-08-10T14:18:43.164266Z",
     "shell.execute_reply": "2023-08-10T14:18:43.163544Z"
    }
   },
   "outputs": [
    {
     "data": {
      "text/plain": [
       "tensor([[-0.0538, -2.1706,  1.0831],\n",
       "        [ 1.5994,  0.8798,  0.6716]])"
      ]
     },
     "execution_count": 4,
     "metadata": {},
     "output_type": "execute_result"
    }
   ],
   "source": [
    "t.a"
   ]
  },
  {
   "cell_type": "code",
   "execution_count": 5,
   "id": "c18197bd",
   "metadata": {
    "execution": {
     "iopub.execute_input": "2023-08-10T14:18:43.167976Z",
     "iopub.status.busy": "2023-08-10T14:18:43.167245Z",
     "iopub.status.idle": "2023-08-10T14:18:49.179799Z",
     "shell.execute_reply": "2023-08-10T14:18:49.179055Z"
    }
   },
   "outputs": [
    {
     "name": "stdout",
     "output_type": "stream",
     "text": [
      "74 ns ± 0.0756 ns per loop (mean ± std. dev. of 7 runs, 10,000,000 loops each)\n"
     ]
    }
   ],
   "source": [
    "%timeit t.a"
   ]
  },
  {
   "cell_type": "code",
   "execution_count": 6,
   "id": "bd52f867",
   "metadata": {
    "execution": {
     "iopub.execute_input": "2023-08-10T14:18:49.183555Z",
     "iopub.status.busy": "2023-08-10T14:18:49.182851Z",
     "iopub.status.idle": "2023-08-10T14:18:49.189728Z",
     "shell.execute_reply": "2023-08-10T14:18:49.188980Z"
    }
   },
   "outputs": [
    {
     "data": {
      "text/plain": [
       "<FastTreeValue 0x7f520db3ae80>\n",
       "├── 'a' --> tensor([[ 0.1319, -0.2635,  0.5488],\n",
       "│                   [-1.3693,  1.3424, -1.1650]])\n",
       "└── 'x' --> <FastTreeValue 0x7f520db3adc0>\n",
       "    └── 'c' --> tensor([[ 0.6019, -0.1378, -0.7804,  0.4486],\n",
       "                        [-0.4320,  2.6346,  0.6479,  1.8865],\n",
       "                        [-0.5043,  1.4418,  0.1368, -1.2055]])"
      ]
     },
     "execution_count": 6,
     "metadata": {},
     "output_type": "execute_result"
    }
   ],
   "source": [
    "new_value = torch.randn(2, 3)\n",
    "t.a = new_value\n",
    "\n",
    "t"
   ]
  },
  {
   "cell_type": "code",
   "execution_count": 7,
   "id": "bbe04d1c",
   "metadata": {
    "execution": {
     "iopub.execute_input": "2023-08-10T14:18:49.192940Z",
     "iopub.status.busy": "2023-08-10T14:18:49.192556Z",
     "iopub.status.idle": "2023-08-10T14:18:55.039952Z",
     "shell.execute_reply": "2023-08-10T14:18:55.039215Z"
    }
   },
   "outputs": [
    {
     "name": "stdout",
     "output_type": "stream",
     "text": [
      "72 ns ± 0.0473 ns per loop (mean ± std. dev. of 7 runs, 10,000,000 loops each)\n"
     ]
    }
   ],
   "source": [
    "%timeit t.a = new_value"
   ]
  },
  {
   "cell_type": "markdown",
   "id": "48c49731",
   "metadata": {},
   "source": [
    "### Tianshou Batch's Get and Set"
   ]
  },
  {
   "cell_type": "code",
   "execution_count": 8,
   "id": "f1bb14c1",
   "metadata": {
    "execution": {
     "iopub.execute_input": "2023-08-10T14:18:55.043620Z",
     "iopub.status.busy": "2023-08-10T14:18:55.043137Z",
     "iopub.status.idle": "2023-08-10T14:18:55.438120Z",
     "shell.execute_reply": "2023-08-10T14:18:55.437309Z"
    }
   },
   "outputs": [],
   "source": [
    "from tianshou.data import Batch\n",
    "\n",
    "b = Batch(**_TREE_DATA_2)"
   ]
  },
  {
   "cell_type": "code",
   "execution_count": 9,
   "id": "cb0777c3",
   "metadata": {
    "execution": {
     "iopub.execute_input": "2023-08-10T14:18:55.442231Z",
     "iopub.status.busy": "2023-08-10T14:18:55.441714Z",
     "iopub.status.idle": "2023-08-10T14:18:55.448179Z",
     "shell.execute_reply": "2023-08-10T14:18:55.447454Z"
    }
   },
   "outputs": [
    {
     "data": {
      "text/plain": [
       "Batch(\n",
       "    a: tensor([[-0.0538, -2.1706,  1.0831],\n",
       "               [ 1.5994,  0.8798,  0.6716]]),\n",
       "    x: Batch(\n",
       "           c: tensor([[ 0.6019, -0.1378, -0.7804,  0.4486],\n",
       "                      [-0.4320,  2.6346,  0.6479,  1.8865],\n",
       "                      [-0.5043,  1.4418,  0.1368, -1.2055]]),\n",
       "       ),\n",
       ")"
      ]
     },
     "execution_count": 9,
     "metadata": {},
     "output_type": "execute_result"
    }
   ],
   "source": [
    "b"
   ]
  },
  {
   "cell_type": "code",
   "execution_count": 10,
   "id": "43ef8ea3",
   "metadata": {
    "execution": {
     "iopub.execute_input": "2023-08-10T14:18:55.451613Z",
     "iopub.status.busy": "2023-08-10T14:18:55.451063Z",
     "iopub.status.idle": "2023-08-10T14:18:55.456224Z",
     "shell.execute_reply": "2023-08-10T14:18:55.455501Z"
    }
   },
   "outputs": [
    {
     "data": {
      "text/plain": [
       "tensor([[-0.0538, -2.1706,  1.0831],\n",
       "        [ 1.5994,  0.8798,  0.6716]])"
      ]
     },
     "execution_count": 10,
     "metadata": {},
     "output_type": "execute_result"
    }
   ],
   "source": [
    "b.a"
   ]
  },
  {
   "cell_type": "code",
   "execution_count": 11,
   "id": "b785ab72",
   "metadata": {
    "execution": {
     "iopub.execute_input": "2023-08-10T14:18:55.459708Z",
     "iopub.status.busy": "2023-08-10T14:18:55.459146Z",
     "iopub.status.idle": "2023-08-10T14:19:00.990629Z",
     "shell.execute_reply": "2023-08-10T14:19:00.989881Z"
    }
   },
   "outputs": [
    {
     "name": "stdout",
     "output_type": "stream",
     "text": [
      "68.1 ns ± 0.0271 ns per loop (mean ± std. dev. of 7 runs, 10,000,000 loops each)\n"
     ]
    }
   ],
   "source": [
    "%timeit b.a"
   ]
  },
  {
   "cell_type": "code",
   "execution_count": 12,
   "id": "ad54dc69",
   "metadata": {
    "execution": {
     "iopub.execute_input": "2023-08-10T14:19:00.994061Z",
     "iopub.status.busy": "2023-08-10T14:19:00.993567Z",
     "iopub.status.idle": "2023-08-10T14:19:00.999886Z",
     "shell.execute_reply": "2023-08-10T14:19:00.999167Z"
    }
   },
   "outputs": [
    {
     "data": {
      "text/plain": [
       "Batch(\n",
       "    a: tensor([[-0.3955,  0.8209, -0.6054],\n",
       "               [ 2.3603,  0.2168,  1.0860]]),\n",
       "    x: Batch(\n",
       "           c: tensor([[ 0.6019, -0.1378, -0.7804,  0.4486],\n",
       "                      [-0.4320,  2.6346,  0.6479,  1.8865],\n",
       "                      [-0.5043,  1.4418,  0.1368, -1.2055]]),\n",
       "       ),\n",
       ")"
      ]
     },
     "execution_count": 12,
     "metadata": {},
     "output_type": "execute_result"
    }
   ],
   "source": [
    "new_value = torch.randn(2, 3)\n",
    "b.a = new_value\n",
    "\n",
    "b"
   ]
  },
  {
   "cell_type": "code",
   "execution_count": 13,
   "id": "29b1d0bf",
   "metadata": {
    "execution": {
     "iopub.execute_input": "2023-08-10T14:19:01.003139Z",
     "iopub.status.busy": "2023-08-10T14:19:01.002595Z",
     "iopub.status.idle": "2023-08-10T14:19:05.415651Z",
     "shell.execute_reply": "2023-08-10T14:19:05.414981Z"
    }
   },
   "outputs": [
    {
     "name": "stdout",
     "output_type": "stream",
     "text": [
      "543 ns ± 0.326 ns per loop (mean ± std. dev. of 7 runs, 1,000,000 loops each)\n"
     ]
    }
   ],
   "source": [
    "%timeit b.a = new_value"
   ]
  },
  {
   "cell_type": "markdown",
   "id": "b61ad1d0",
   "metadata": {},
   "source": [
    "## Initialization"
   ]
  },
  {
   "cell_type": "markdown",
   "id": "d70f0d54",
   "metadata": {},
   "source": [
    "### TreeValue's Initialization"
   ]
  },
  {
   "cell_type": "code",
   "execution_count": 14,
   "id": "d32a679b",
   "metadata": {
    "execution": {
     "iopub.execute_input": "2023-08-10T14:19:05.419382Z",
     "iopub.status.busy": "2023-08-10T14:19:05.418885Z",
     "iopub.status.idle": "2023-08-10T14:19:12.601064Z",
     "shell.execute_reply": "2023-08-10T14:19:12.600313Z"
    }
   },
   "outputs": [
    {
     "name": "stdout",
     "output_type": "stream",
     "text": [
      "884 ns ± 6.32 ns per loop (mean ± std. dev. of 7 runs, 1,000,000 loops each)\n"
     ]
    }
   ],
   "source": [
    "%timeit FastTreeValue(_TREE_DATA_1)"
   ]
  },
  {
   "cell_type": "markdown",
   "id": "24f3707b",
   "metadata": {},
   "source": [
    "### Tianshou Batch's Initialization"
   ]
  },
  {
   "cell_type": "code",
   "execution_count": 15,
   "id": "ac3958df",
   "metadata": {
    "execution": {
     "iopub.execute_input": "2023-08-10T14:19:12.604482Z",
     "iopub.status.busy": "2023-08-10T14:19:12.604225Z",
     "iopub.status.idle": "2023-08-10T14:19:21.584912Z",
     "shell.execute_reply": "2023-08-10T14:19:21.584178Z"
    }
   },
   "outputs": [
    {
     "name": "stdout",
     "output_type": "stream",
     "text": [
      "11.1 µs ± 23.4 ns per loop (mean ± std. dev. of 7 runs, 100,000 loops each)\n"
     ]
    }
   ],
   "source": [
    "%timeit Batch(**_TREE_DATA_1)"
   ]
  },
  {
   "cell_type": "markdown",
   "id": "1ab82e2d",
   "metadata": {},
   "source": [
    "## Deep Copy Operation"
   ]
  },
  {
   "cell_type": "code",
   "execution_count": 16,
   "id": "210a9442",
   "metadata": {
    "execution": {
     "iopub.execute_input": "2023-08-10T14:19:21.588489Z",
     "iopub.status.busy": "2023-08-10T14:19:21.588049Z",
     "iopub.status.idle": "2023-08-10T14:19:21.591535Z",
     "shell.execute_reply": "2023-08-10T14:19:21.590953Z"
    }
   },
   "outputs": [],
   "source": [
    "import copy"
   ]
  },
  {
   "cell_type": "markdown",
   "id": "5a736274",
   "metadata": {},
   "source": [
    "### Deep Copy of TreeValue"
   ]
  },
  {
   "cell_type": "code",
   "execution_count": 17,
   "id": "f9bcadd6",
   "metadata": {
    "execution": {
     "iopub.execute_input": "2023-08-10T14:19:21.594918Z",
     "iopub.status.busy": "2023-08-10T14:19:21.594547Z",
     "iopub.status.idle": "2023-08-10T14:19:33.388423Z",
     "shell.execute_reply": "2023-08-10T14:19:33.387780Z"
    }
   },
   "outputs": [
    {
     "name": "stdout",
     "output_type": "stream",
     "text": [
      "145 µs ± 735 ns per loop (mean ± std. dev. of 7 runs, 10,000 loops each)\n"
     ]
    }
   ],
   "source": [
    "t3 = FastTreeValue(_TREE_DATA_3)\n",
    "%timeit copy.deepcopy(t3)"
   ]
  },
  {
   "cell_type": "markdown",
   "id": "bf8be7ea",
   "metadata": {},
   "source": [
    "### Deep Copy of Tianshou Batch"
   ]
  },
  {
   "cell_type": "code",
   "execution_count": 18,
   "id": "91998e6f",
   "metadata": {
    "execution": {
     "iopub.execute_input": "2023-08-10T14:19:33.391914Z",
     "iopub.status.busy": "2023-08-10T14:19:33.391655Z",
     "iopub.status.idle": "2023-08-10T14:19:45.337707Z",
     "shell.execute_reply": "2023-08-10T14:19:45.337024Z"
    }
   },
   "outputs": [
    {
     "name": "stdout",
     "output_type": "stream",
     "text": [
      "147 µs ± 587 ns per loop (mean ± std. dev. of 7 runs, 10,000 loops each)\n"
     ]
    }
   ],
   "source": [
    "b3 = Batch(**_TREE_DATA_3)\n",
    "%timeit copy.deepcopy(b3)"
   ]
  },
  {
   "cell_type": "markdown",
   "id": "223162fb",
   "metadata": {},
   "source": [
    "## Stack, Concat and Split Operation"
   ]
  },
  {
   "cell_type": "markdown",
   "id": "85fa4a73",
   "metadata": {},
   "source": [
    "### Performance of TreeValue"
   ]
  },
  {
   "cell_type": "code",
   "execution_count": 19,
   "id": "a0c2b697",
   "metadata": {
    "execution": {
     "iopub.execute_input": "2023-08-10T14:19:45.341393Z",
     "iopub.status.busy": "2023-08-10T14:19:45.341133Z",
     "iopub.status.idle": "2023-08-10T14:19:45.345825Z",
     "shell.execute_reply": "2023-08-10T14:19:45.345154Z"
    }
   },
   "outputs": [],
   "source": [
    "trees = [FastTreeValue(_TREE_DATA_2) for _ in range(8)]"
   ]
  },
  {
   "cell_type": "code",
   "execution_count": 20,
   "id": "017ea5a5",
   "metadata": {
    "execution": {
     "iopub.execute_input": "2023-08-10T14:19:45.348876Z",
     "iopub.status.busy": "2023-08-10T14:19:45.348445Z",
     "iopub.status.idle": "2023-08-10T14:19:45.358465Z",
     "shell.execute_reply": "2023-08-10T14:19:45.357849Z"
    }
   },
   "outputs": [
    {
     "data": {
      "text/plain": [
       "<FastTreeValue 0x7f520dad9460>\n",
       "├── 'a' --> tensor([[[-0.0538, -2.1706,  1.0831],\n",
       "│                    [ 1.5994,  0.8798,  0.6716]],\n",
       "│           \n",
       "│                   [[-0.0538, -2.1706,  1.0831],\n",
       "│                    [ 1.5994,  0.8798,  0.6716]],\n",
       "│           \n",
       "│                   [[-0.0538, -2.1706,  1.0831],\n",
       "│                    [ 1.5994,  0.8798,  0.6716]],\n",
       "│           \n",
       "│                   [[-0.0538, -2.1706,  1.0831],\n",
       "│                    [ 1.5994,  0.8798,  0.6716]],\n",
       "│           \n",
       "│                   [[-0.0538, -2.1706,  1.0831],\n",
       "│                    [ 1.5994,  0.8798,  0.6716]],\n",
       "│           \n",
       "│                   [[-0.0538, -2.1706,  1.0831],\n",
       "│                    [ 1.5994,  0.8798,  0.6716]],\n",
       "│           \n",
       "│                   [[-0.0538, -2.1706,  1.0831],\n",
       "│                    [ 1.5994,  0.8798,  0.6716]],\n",
       "│           \n",
       "│                   [[-0.0538, -2.1706,  1.0831],\n",
       "│                    [ 1.5994,  0.8798,  0.6716]]])\n",
       "└── 'x' --> <FastTreeValue 0x7f520dad91c0>\n",
       "    └── 'c' --> tensor([[[ 0.6019, -0.1378, -0.7804,  0.4486],\n",
       "                         [-0.4320,  2.6346,  0.6479,  1.8865],\n",
       "                         [-0.5043,  1.4418,  0.1368, -1.2055]],\n",
       "                \n",
       "                        [[ 0.6019, -0.1378, -0.7804,  0.4486],\n",
       "                         [-0.4320,  2.6346,  0.6479,  1.8865],\n",
       "                         [-0.5043,  1.4418,  0.1368, -1.2055]],\n",
       "                \n",
       "                        [[ 0.6019, -0.1378, -0.7804,  0.4486],\n",
       "                         [-0.4320,  2.6346,  0.6479,  1.8865],\n",
       "                         [-0.5043,  1.4418,  0.1368, -1.2055]],\n",
       "                \n",
       "                        [[ 0.6019, -0.1378, -0.7804,  0.4486],\n",
       "                         [-0.4320,  2.6346,  0.6479,  1.8865],\n",
       "                         [-0.5043,  1.4418,  0.1368, -1.2055]],\n",
       "                \n",
       "                        [[ 0.6019, -0.1378, -0.7804,  0.4486],\n",
       "                         [-0.4320,  2.6346,  0.6479,  1.8865],\n",
       "                         [-0.5043,  1.4418,  0.1368, -1.2055]],\n",
       "                \n",
       "                        [[ 0.6019, -0.1378, -0.7804,  0.4486],\n",
       "                         [-0.4320,  2.6346,  0.6479,  1.8865],\n",
       "                         [-0.5043,  1.4418,  0.1368, -1.2055]],\n",
       "                \n",
       "                        [[ 0.6019, -0.1378, -0.7804,  0.4486],\n",
       "                         [-0.4320,  2.6346,  0.6479,  1.8865],\n",
       "                         [-0.5043,  1.4418,  0.1368, -1.2055]],\n",
       "                \n",
       "                        [[ 0.6019, -0.1378, -0.7804,  0.4486],\n",
       "                         [-0.4320,  2.6346,  0.6479,  1.8865],\n",
       "                         [-0.5043,  1.4418,  0.1368, -1.2055]]])"
      ]
     },
     "execution_count": 20,
     "metadata": {},
     "output_type": "execute_result"
    }
   ],
   "source": [
    "t_stack = FastTreeValue.func(subside=True)(torch.stack)\n",
    "\n",
    "t_stack(trees)"
   ]
  },
  {
   "cell_type": "code",
   "execution_count": 21,
   "id": "f8b3f415",
   "metadata": {
    "execution": {
     "iopub.execute_input": "2023-08-10T14:19:45.361377Z",
     "iopub.status.busy": "2023-08-10T14:19:45.361151Z",
     "iopub.status.idle": "2023-08-10T14:19:48.111572Z",
     "shell.execute_reply": "2023-08-10T14:19:48.110816Z"
    }
   },
   "outputs": [
    {
     "name": "stdout",
     "output_type": "stream",
     "text": [
      "33.8 µs ± 73.3 ns per loop (mean ± std. dev. of 7 runs, 10,000 loops each)\n"
     ]
    }
   ],
   "source": [
    "%timeit t_stack(trees)"
   ]
  },
  {
   "cell_type": "code",
   "execution_count": 22,
   "id": "94b56771",
   "metadata": {
    "execution": {
     "iopub.execute_input": "2023-08-10T14:19:48.114997Z",
     "iopub.status.busy": "2023-08-10T14:19:48.114501Z",
     "iopub.status.idle": "2023-08-10T14:19:48.122344Z",
     "shell.execute_reply": "2023-08-10T14:19:48.121623Z"
    }
   },
   "outputs": [
    {
     "data": {
      "text/plain": [
       "<FastTreeValue 0x7f513dd44b50>\n",
       "├── 'a' --> tensor([[-0.0538, -2.1706,  1.0831],\n",
       "│                   [ 1.5994,  0.8798,  0.6716],\n",
       "│                   [-0.0538, -2.1706,  1.0831],\n",
       "│                   [ 1.5994,  0.8798,  0.6716],\n",
       "│                   [-0.0538, -2.1706,  1.0831],\n",
       "│                   [ 1.5994,  0.8798,  0.6716],\n",
       "│                   [-0.0538, -2.1706,  1.0831],\n",
       "│                   [ 1.5994,  0.8798,  0.6716],\n",
       "│                   [-0.0538, -2.1706,  1.0831],\n",
       "│                   [ 1.5994,  0.8798,  0.6716],\n",
       "│                   [-0.0538, -2.1706,  1.0831],\n",
       "│                   [ 1.5994,  0.8798,  0.6716],\n",
       "│                   [-0.0538, -2.1706,  1.0831],\n",
       "│                   [ 1.5994,  0.8798,  0.6716],\n",
       "│                   [-0.0538, -2.1706,  1.0831],\n",
       "│                   [ 1.5994,  0.8798,  0.6716]])\n",
       "└── 'x' --> <FastTreeValue 0x7f513dd44d00>\n",
       "    └── 'c' --> tensor([[ 0.6019, -0.1378, -0.7804,  0.4486],\n",
       "                        [-0.4320,  2.6346,  0.6479,  1.8865],\n",
       "                        [-0.5043,  1.4418,  0.1368, -1.2055],\n",
       "                        [ 0.6019, -0.1378, -0.7804,  0.4486],\n",
       "                        [-0.4320,  2.6346,  0.6479,  1.8865],\n",
       "                        [-0.5043,  1.4418,  0.1368, -1.2055],\n",
       "                        [ 0.6019, -0.1378, -0.7804,  0.4486],\n",
       "                        [-0.4320,  2.6346,  0.6479,  1.8865],\n",
       "                        [-0.5043,  1.4418,  0.1368, -1.2055],\n",
       "                        [ 0.6019, -0.1378, -0.7804,  0.4486],\n",
       "                        [-0.4320,  2.6346,  0.6479,  1.8865],\n",
       "                        [-0.5043,  1.4418,  0.1368, -1.2055],\n",
       "                        [ 0.6019, -0.1378, -0.7804,  0.4486],\n",
       "                        [-0.4320,  2.6346,  0.6479,  1.8865],\n",
       "                        [-0.5043,  1.4418,  0.1368, -1.2055],\n",
       "                        [ 0.6019, -0.1378, -0.7804,  0.4486],\n",
       "                        [-0.4320,  2.6346,  0.6479,  1.8865],\n",
       "                        [-0.5043,  1.4418,  0.1368, -1.2055],\n",
       "                        [ 0.6019, -0.1378, -0.7804,  0.4486],\n",
       "                        [-0.4320,  2.6346,  0.6479,  1.8865],\n",
       "                        [-0.5043,  1.4418,  0.1368, -1.2055],\n",
       "                        [ 0.6019, -0.1378, -0.7804,  0.4486],\n",
       "                        [-0.4320,  2.6346,  0.6479,  1.8865],\n",
       "                        [-0.5043,  1.4418,  0.1368, -1.2055]])"
      ]
     },
     "execution_count": 22,
     "metadata": {},
     "output_type": "execute_result"
    }
   ],
   "source": [
    "t_cat = FastTreeValue.func(subside=True)(torch.cat)\n",
    "\n",
    "t_cat(trees)"
   ]
  },
  {
   "cell_type": "code",
   "execution_count": 23,
   "id": "5e9c06a6",
   "metadata": {
    "execution": {
     "iopub.execute_input": "2023-08-10T14:19:48.125733Z",
     "iopub.status.busy": "2023-08-10T14:19:48.125093Z",
     "iopub.status.idle": "2023-08-10T14:19:50.725746Z",
     "shell.execute_reply": "2023-08-10T14:19:50.724897Z"
    }
   },
   "outputs": [
    {
     "name": "stdout",
     "output_type": "stream",
     "text": [
      "32 µs ± 94.2 ns per loop (mean ± std. dev. of 7 runs, 10,000 loops each)\n"
     ]
    }
   ],
   "source": [
    "%timeit t_cat(trees)"
   ]
  },
  {
   "cell_type": "code",
   "execution_count": 24,
   "id": "a3ab5c8f",
   "metadata": {
    "execution": {
     "iopub.execute_input": "2023-08-10T14:19:50.729156Z",
     "iopub.status.busy": "2023-08-10T14:19:50.728906Z",
     "iopub.status.idle": "2023-08-10T14:19:56.263188Z",
     "shell.execute_reply": "2023-08-10T14:19:56.262460Z"
    }
   },
   "outputs": [
    {
     "name": "stdout",
     "output_type": "stream",
     "text": [
      "68.1 µs ± 53.7 ns per loop (mean ± std. dev. of 7 runs, 10,000 loops each)\n"
     ]
    }
   ],
   "source": [
    "t_split = FastTreeValue.func(rise=True)(torch.split)\n",
    "tree = FastTreeValue({\n",
    "    'obs': torch.randn(8, 4, 84, 84),\n",
    "    'action': torch.randint(0, 6, size=(8, 1,)),\n",
    "    'reward': torch.rand(8, 1),\n",
    "})\n",
    "\n",
    "%timeit t_split(tree, 1)"
   ]
  },
  {
   "cell_type": "markdown",
   "id": "31c3ec0b",
   "metadata": {},
   "source": [
    "### Performance of Tianshou Batch"
   ]
  },
  {
   "cell_type": "code",
   "execution_count": 25,
   "id": "9ead828a",
   "metadata": {
    "execution": {
     "iopub.execute_input": "2023-08-10T14:19:56.266778Z",
     "iopub.status.busy": "2023-08-10T14:19:56.266297Z",
     "iopub.status.idle": "2023-08-10T14:19:56.274127Z",
     "shell.execute_reply": "2023-08-10T14:19:56.273376Z"
    }
   },
   "outputs": [
    {
     "data": {
      "text/plain": [
       "Batch(\n",
       "    a: tensor([[[-0.0538, -2.1706,  1.0831],\n",
       "                [ 1.5994,  0.8798,  0.6716]],\n",
       "       \n",
       "               [[-0.0538, -2.1706,  1.0831],\n",
       "                [ 1.5994,  0.8798,  0.6716]],\n",
       "       \n",
       "               [[-0.0538, -2.1706,  1.0831],\n",
       "                [ 1.5994,  0.8798,  0.6716]],\n",
       "       \n",
       "               [[-0.0538, -2.1706,  1.0831],\n",
       "                [ 1.5994,  0.8798,  0.6716]],\n",
       "       \n",
       "               [[-0.0538, -2.1706,  1.0831],\n",
       "                [ 1.5994,  0.8798,  0.6716]],\n",
       "       \n",
       "               [[-0.0538, -2.1706,  1.0831],\n",
       "                [ 1.5994,  0.8798,  0.6716]],\n",
       "       \n",
       "               [[-0.0538, -2.1706,  1.0831],\n",
       "                [ 1.5994,  0.8798,  0.6716]],\n",
       "       \n",
       "               [[-0.0538, -2.1706,  1.0831],\n",
       "                [ 1.5994,  0.8798,  0.6716]]]),\n",
       "    x: Batch(\n",
       "           c: tensor([[[ 0.6019, -0.1378, -0.7804,  0.4486],\n",
       "                       [-0.4320,  2.6346,  0.6479,  1.8865],\n",
       "                       [-0.5043,  1.4418,  0.1368, -1.2055]],\n",
       "              \n",
       "                      [[ 0.6019, -0.1378, -0.7804,  0.4486],\n",
       "                       [-0.4320,  2.6346,  0.6479,  1.8865],\n",
       "                       [-0.5043,  1.4418,  0.1368, -1.2055]],\n",
       "              \n",
       "                      [[ 0.6019, -0.1378, -0.7804,  0.4486],\n",
       "                       [-0.4320,  2.6346,  0.6479,  1.8865],\n",
       "                       [-0.5043,  1.4418,  0.1368, -1.2055]],\n",
       "              \n",
       "                      [[ 0.6019, -0.1378, -0.7804,  0.4486],\n",
       "                       [-0.4320,  2.6346,  0.6479,  1.8865],\n",
       "                       [-0.5043,  1.4418,  0.1368, -1.2055]],\n",
       "              \n",
       "                      [[ 0.6019, -0.1378, -0.7804,  0.4486],\n",
       "                       [-0.4320,  2.6346,  0.6479,  1.8865],\n",
       "                       [-0.5043,  1.4418,  0.1368, -1.2055]],\n",
       "              \n",
       "                      [[ 0.6019, -0.1378, -0.7804,  0.4486],\n",
       "                       [-0.4320,  2.6346,  0.6479,  1.8865],\n",
       "                       [-0.5043,  1.4418,  0.1368, -1.2055]],\n",
       "              \n",
       "                      [[ 0.6019, -0.1378, -0.7804,  0.4486],\n",
       "                       [-0.4320,  2.6346,  0.6479,  1.8865],\n",
       "                       [-0.5043,  1.4418,  0.1368, -1.2055]],\n",
       "              \n",
       "                      [[ 0.6019, -0.1378, -0.7804,  0.4486],\n",
       "                       [-0.4320,  2.6346,  0.6479,  1.8865],\n",
       "                       [-0.5043,  1.4418,  0.1368, -1.2055]]]),\n",
       "       ),\n",
       ")"
      ]
     },
     "execution_count": 25,
     "metadata": {},
     "output_type": "execute_result"
    }
   ],
   "source": [
    "batches = [Batch(**_TREE_DATA_2) for _ in range(8)]\n",
    "\n",
    "Batch.stack(batches)"
   ]
  },
  {
   "cell_type": "code",
   "execution_count": 26,
   "id": "ec9037a3",
   "metadata": {
    "execution": {
     "iopub.execute_input": "2023-08-10T14:19:56.277358Z",
     "iopub.status.busy": "2023-08-10T14:19:56.276979Z",
     "iopub.status.idle": "2023-08-10T14:20:03.101332Z",
     "shell.execute_reply": "2023-08-10T14:20:03.100596Z"
    }
   },
   "outputs": [
    {
     "name": "stdout",
     "output_type": "stream",
     "text": [
      "84 µs ± 231 ns per loop (mean ± std. dev. of 7 runs, 10,000 loops each)\n"
     ]
    }
   ],
   "source": [
    "%timeit Batch.stack(batches)"
   ]
  },
  {
   "cell_type": "code",
   "execution_count": 27,
   "id": "cb8ab77e",
   "metadata": {
    "execution": {
     "iopub.execute_input": "2023-08-10T14:20:03.104739Z",
     "iopub.status.busy": "2023-08-10T14:20:03.104250Z",
     "iopub.status.idle": "2023-08-10T14:20:03.111617Z",
     "shell.execute_reply": "2023-08-10T14:20:03.110902Z"
    }
   },
   "outputs": [
    {
     "data": {
      "text/plain": [
       "Batch(\n",
       "    a: tensor([[-0.0538, -2.1706,  1.0831],\n",
       "               [ 1.5994,  0.8798,  0.6716],\n",
       "               [-0.0538, -2.1706,  1.0831],\n",
       "               [ 1.5994,  0.8798,  0.6716],\n",
       "               [-0.0538, -2.1706,  1.0831],\n",
       "               [ 1.5994,  0.8798,  0.6716],\n",
       "               [-0.0538, -2.1706,  1.0831],\n",
       "               [ 1.5994,  0.8798,  0.6716],\n",
       "               [-0.0538, -2.1706,  1.0831],\n",
       "               [ 1.5994,  0.8798,  0.6716],\n",
       "               [-0.0538, -2.1706,  1.0831],\n",
       "               [ 1.5994,  0.8798,  0.6716],\n",
       "               [-0.0538, -2.1706,  1.0831],\n",
       "               [ 1.5994,  0.8798,  0.6716],\n",
       "               [-0.0538, -2.1706,  1.0831],\n",
       "               [ 1.5994,  0.8798,  0.6716]]),\n",
       "    x: Batch(\n",
       "           c: tensor([[ 0.6019, -0.1378, -0.7804,  0.4486],\n",
       "                      [-0.4320,  2.6346,  0.6479,  1.8865],\n",
       "                      [-0.5043,  1.4418,  0.1368, -1.2055],\n",
       "                      [ 0.6019, -0.1378, -0.7804,  0.4486],\n",
       "                      [-0.4320,  2.6346,  0.6479,  1.8865],\n",
       "                      [-0.5043,  1.4418,  0.1368, -1.2055],\n",
       "                      [ 0.6019, -0.1378, -0.7804,  0.4486],\n",
       "                      [-0.4320,  2.6346,  0.6479,  1.8865],\n",
       "                      [-0.5043,  1.4418,  0.1368, -1.2055],\n",
       "                      [ 0.6019, -0.1378, -0.7804,  0.4486],\n",
       "                      [-0.4320,  2.6346,  0.6479,  1.8865],\n",
       "                      [-0.5043,  1.4418,  0.1368, -1.2055],\n",
       "                      [ 0.6019, -0.1378, -0.7804,  0.4486],\n",
       "                      [-0.4320,  2.6346,  0.6479,  1.8865],\n",
       "                      [-0.5043,  1.4418,  0.1368, -1.2055],\n",
       "                      [ 0.6019, -0.1378, -0.7804,  0.4486],\n",
       "                      [-0.4320,  2.6346,  0.6479,  1.8865],\n",
       "                      [-0.5043,  1.4418,  0.1368, -1.2055],\n",
       "                      [ 0.6019, -0.1378, -0.7804,  0.4486],\n",
       "                      [-0.4320,  2.6346,  0.6479,  1.8865],\n",
       "                      [-0.5043,  1.4418,  0.1368, -1.2055],\n",
       "                      [ 0.6019, -0.1378, -0.7804,  0.4486],\n",
       "                      [-0.4320,  2.6346,  0.6479,  1.8865],\n",
       "                      [-0.5043,  1.4418,  0.1368, -1.2055]]),\n",
       "       ),\n",
       ")"
      ]
     },
     "execution_count": 27,
     "metadata": {},
     "output_type": "execute_result"
    }
   ],
   "source": [
    "Batch.cat(batches)"
   ]
  },
  {
   "cell_type": "code",
   "execution_count": 28,
   "id": "18dfb045",
   "metadata": {
    "execution": {
     "iopub.execute_input": "2023-08-10T14:20:03.114725Z",
     "iopub.status.busy": "2023-08-10T14:20:03.114348Z",
     "iopub.status.idle": "2023-08-10T14:20:15.635334Z",
     "shell.execute_reply": "2023-08-10T14:20:15.634591Z"
    }
   },
   "outputs": [
    {
     "name": "stdout",
     "output_type": "stream",
     "text": [
      "154 µs ± 388 ns per loop (mean ± std. dev. of 7 runs, 10,000 loops each)\n"
     ]
    }
   ],
   "source": [
    "%timeit Batch.cat(batches)"
   ]
  },
  {
   "cell_type": "code",
   "execution_count": 29,
   "id": "c6688e51",
   "metadata": {
    "execution": {
     "iopub.execute_input": "2023-08-10T14:20:15.638889Z",
     "iopub.status.busy": "2023-08-10T14:20:15.638371Z",
     "iopub.status.idle": "2023-08-10T14:20:18.564925Z",
     "shell.execute_reply": "2023-08-10T14:20:18.564251Z"
    }
   },
   "outputs": [
    {
     "name": "stdout",
     "output_type": "stream",
     "text": [
      "360 µs ± 4.53 µs per loop (mean ± std. dev. of 7 runs, 1,000 loops each)\n"
     ]
    }
   ],
   "source": [
    "batch = Batch({\n",
    "    'obs': torch.randn(8, 4, 84, 84),\n",
    "    'action': torch.randint(0, 6, size=(8, 1,)),\n",
    "    'reward': torch.rand(8, 1)}\n",
    ")\n",
    "\n",
    "%timeit list(Batch.split(batch, 1, shuffle=False, merge_last=True))"
   ]
  },
  {
   "cell_type": "code",
   "execution_count": null,
   "id": "2539fbd9",
   "metadata": {},
   "outputs": [],
   "source": []
  }
 ],
 "metadata": {
  "kernelspec": {
   "display_name": "Python 3 (ipykernel)",
   "language": "python",
   "name": "python3"
  },
  "language_info": {
   "codemirror_mode": {
    "name": "ipython",
    "version": 3
   },
   "file_extension": ".py",
   "mimetype": "text/x-python",
   "name": "python",
   "nbconvert_exporter": "python",
   "pygments_lexer": "ipython3",
   "version": "3.8.17"
  }
 },
 "nbformat": 4,
 "nbformat_minor": 5
}
