{
 "cells": [
  {
   "cell_type": "markdown",
   "id": "9d39d946",
   "metadata": {},
   "source": [
    "# Comparison Between TreeValue and Tianshou Batch"
   ]
  },
  {
   "cell_type": "markdown",
   "id": "3c6db2d4",
   "metadata": {},
   "source": [
    "In this section, we will take a look at the feature and performance of the [Tianshou Batch](https://github.com/thu-ml/tianshou) library, which is developed by Tsinghua Machine Learning Group."
   ]
  },
  {
   "cell_type": "markdown",
   "id": "069361b0",
   "metadata": {},
   "source": [
    "Before starting the comparison, let us define some thing."
   ]
  },
  {
   "cell_type": "code",
   "execution_count": 1,
   "id": "06fc8d26",
   "metadata": {
    "execution": {
     "iopub.execute_input": "2023-08-10T10:20:05.911377Z",
     "iopub.status.busy": "2023-08-10T10:20:05.910792Z",
     "iopub.status.idle": "2023-08-10T10:20:07.775462Z",
     "shell.execute_reply": "2023-08-10T10:20:07.774226Z"
    }
   },
   "outputs": [],
   "source": [
    "import torch \n",
    "\n",
    "_TREE_DATA_1 = {'a': 1, 'b': 2, 'x': {'c': 3, 'd': 4}}\n",
    "_TREE_DATA_2 = {\n",
    "    'a': torch.randn(2, 3), \n",
    "    'x': {\n",
    "        'c': torch.randn(3, 4)\n",
    "    },\n",
    "}\n",
    "_TREE_DATA_3 = {\n",
    "    'obs': torch.randn(4, 84, 84),\n",
    "    'action': torch.randint(0, 6, size=(1,)),\n",
    "    'reward': torch.rand(1),\n",
    "}"
   ]
  },
  {
   "cell_type": "markdown",
   "id": "83461b25",
   "metadata": {},
   "source": [
    "## Read and Write Operation"
   ]
  },
  {
   "cell_type": "markdown",
   "id": "067b3f73",
   "metadata": {},
   "source": [
    "Reading and writing are the two most common operations in the tree data structure based on the data model (TreeValue and Tianshou Batch both belong to this type), so this section will compare the reading and writing performance of these two libraries."
   ]
  },
  {
   "cell_type": "markdown",
   "id": "5d09a5b7",
   "metadata": {},
   "source": [
    "### TreeValue's Get and Set"
   ]
  },
  {
   "cell_type": "code",
   "execution_count": 2,
   "id": "9519c4bb",
   "metadata": {
    "execution": {
     "iopub.execute_input": "2023-08-10T10:20:07.780648Z",
     "iopub.status.busy": "2023-08-10T10:20:07.780254Z",
     "iopub.status.idle": "2023-08-10T10:20:07.822545Z",
     "shell.execute_reply": "2023-08-10T10:20:07.821473Z"
    }
   },
   "outputs": [],
   "source": [
    "from treevalue import FastTreeValue\n",
    "\n",
    "t = FastTreeValue(_TREE_DATA_2)"
   ]
  },
  {
   "cell_type": "code",
   "execution_count": 3,
   "id": "11c37677",
   "metadata": {
    "execution": {
     "iopub.execute_input": "2023-08-10T10:20:07.827085Z",
     "iopub.status.busy": "2023-08-10T10:20:07.826755Z",
     "iopub.status.idle": "2023-08-10T10:20:07.839137Z",
     "shell.execute_reply": "2023-08-10T10:20:07.838106Z"
    }
   },
   "outputs": [
    {
     "data": {
      "text/plain": [
       "<FastTreeValue 0x7f528bc3abe0>\n",
       "├── 'a' --> tensor([[ 0.3972, -1.0710,  1.1877],\n",
       "│                   [-0.7549,  2.0887,  1.3250]])\n",
       "└── 'x' --> <FastTreeValue 0x7f5288bbe430>\n",
       "    └── 'c' --> tensor([[-4.6935e-01,  2.4992e-01,  2.5516e+00,  6.6896e-01],\n",
       "                        [ 1.3332e-01,  2.0062e+00, -4.2402e-01, -5.1131e-01],\n",
       "                        [-4.8757e-01,  4.1132e-01,  4.9219e-01, -5.4251e-04]])"
      ]
     },
     "execution_count": 3,
     "metadata": {},
     "output_type": "execute_result"
    }
   ],
   "source": [
    "t"
   ]
  },
  {
   "cell_type": "code",
   "execution_count": 4,
   "id": "fd70b0b9",
   "metadata": {
    "execution": {
     "iopub.execute_input": "2023-08-10T10:20:07.843775Z",
     "iopub.status.busy": "2023-08-10T10:20:07.843453Z",
     "iopub.status.idle": "2023-08-10T10:20:07.850524Z",
     "shell.execute_reply": "2023-08-10T10:20:07.849529Z"
    }
   },
   "outputs": [
    {
     "data": {
      "text/plain": [
       "tensor([[ 0.3972, -1.0710,  1.1877],\n",
       "        [-0.7549,  2.0887,  1.3250]])"
      ]
     },
     "execution_count": 4,
     "metadata": {},
     "output_type": "execute_result"
    }
   ],
   "source": [
    "t.a"
   ]
  },
  {
   "cell_type": "code",
   "execution_count": 5,
   "id": "c18197bd",
   "metadata": {
    "execution": {
     "iopub.execute_input": "2023-08-10T10:20:07.855467Z",
     "iopub.status.busy": "2023-08-10T10:20:07.855141Z",
     "iopub.status.idle": "2023-08-10T10:20:14.400874Z",
     "shell.execute_reply": "2023-08-10T10:20:14.399814Z"
    }
   },
   "outputs": [
    {
     "name": "stdout",
     "output_type": "stream",
     "text": [
      "79.9 ns ± 1.2 ns per loop (mean ± std. dev. of 7 runs, 10,000,000 loops each)\n"
     ]
    }
   ],
   "source": [
    "%timeit t.a"
   ]
  },
  {
   "cell_type": "code",
   "execution_count": 6,
   "id": "bd52f867",
   "metadata": {
    "execution": {
     "iopub.execute_input": "2023-08-10T10:20:14.405919Z",
     "iopub.status.busy": "2023-08-10T10:20:14.405064Z",
     "iopub.status.idle": "2023-08-10T10:20:14.413905Z",
     "shell.execute_reply": "2023-08-10T10:20:14.412886Z"
    }
   },
   "outputs": [
    {
     "data": {
      "text/plain": [
       "<FastTreeValue 0x7f528bc3abe0>\n",
       "├── 'a' --> tensor([[ 0.1957, -1.1241, -1.7737],\n",
       "│                   [-0.8629, -2.3149,  0.0979]])\n",
       "└── 'x' --> <FastTreeValue 0x7f5288bbe430>\n",
       "    └── 'c' --> tensor([[-4.6935e-01,  2.4992e-01,  2.5516e+00,  6.6896e-01],\n",
       "                        [ 1.3332e-01,  2.0062e+00, -4.2402e-01, -5.1131e-01],\n",
       "                        [-4.8757e-01,  4.1132e-01,  4.9219e-01, -5.4251e-04]])"
      ]
     },
     "execution_count": 6,
     "metadata": {},
     "output_type": "execute_result"
    }
   ],
   "source": [
    "new_value = torch.randn(2, 3)\n",
    "t.a = new_value\n",
    "\n",
    "t"
   ]
  },
  {
   "cell_type": "code",
   "execution_count": 7,
   "id": "bbe04d1c",
   "metadata": {
    "execution": {
     "iopub.execute_input": "2023-08-10T10:20:14.418218Z",
     "iopub.status.busy": "2023-08-10T10:20:14.417858Z",
     "iopub.status.idle": "2023-08-10T10:20:21.138761Z",
     "shell.execute_reply": "2023-08-10T10:20:21.137824Z"
    }
   },
   "outputs": [
    {
     "name": "stdout",
     "output_type": "stream",
     "text": [
      "82.9 ns ± 1.71 ns per loop (mean ± std. dev. of 7 runs, 10,000,000 loops each)\n"
     ]
    }
   ],
   "source": [
    "%timeit t.a = new_value"
   ]
  },
  {
   "cell_type": "markdown",
   "id": "48c49731",
   "metadata": {},
   "source": [
    "### Tianshou Batch's Get and Set"
   ]
  },
  {
   "cell_type": "code",
   "execution_count": 8,
   "id": "f1bb14c1",
   "metadata": {
    "execution": {
     "iopub.execute_input": "2023-08-10T10:20:21.144193Z",
     "iopub.status.busy": "2023-08-10T10:20:21.143660Z",
     "iopub.status.idle": "2023-08-10T10:20:21.677736Z",
     "shell.execute_reply": "2023-08-10T10:20:21.676618Z"
    }
   },
   "outputs": [],
   "source": [
    "from tianshou.data import Batch\n",
    "\n",
    "b = Batch(**_TREE_DATA_2)"
   ]
  },
  {
   "cell_type": "code",
   "execution_count": 9,
   "id": "cb0777c3",
   "metadata": {
    "execution": {
     "iopub.execute_input": "2023-08-10T10:20:21.682240Z",
     "iopub.status.busy": "2023-08-10T10:20:21.681795Z",
     "iopub.status.idle": "2023-08-10T10:20:21.690144Z",
     "shell.execute_reply": "2023-08-10T10:20:21.689099Z"
    }
   },
   "outputs": [
    {
     "data": {
      "text/plain": [
       "Batch(\n",
       "    a: tensor([[ 0.3972, -1.0710,  1.1877],\n",
       "               [-0.7549,  2.0887,  1.3250]]),\n",
       "    x: Batch(\n",
       "           c: tensor([[-4.6935e-01,  2.4992e-01,  2.5516e+00,  6.6896e-01],\n",
       "                      [ 1.3332e-01,  2.0062e+00, -4.2402e-01, -5.1131e-01],\n",
       "                      [-4.8757e-01,  4.1132e-01,  4.9219e-01, -5.4251e-04]]),\n",
       "       ),\n",
       ")"
      ]
     },
     "execution_count": 9,
     "metadata": {},
     "output_type": "execute_result"
    }
   ],
   "source": [
    "b"
   ]
  },
  {
   "cell_type": "code",
   "execution_count": 10,
   "id": "43ef8ea3",
   "metadata": {
    "execution": {
     "iopub.execute_input": "2023-08-10T10:20:21.694414Z",
     "iopub.status.busy": "2023-08-10T10:20:21.694114Z",
     "iopub.status.idle": "2023-08-10T10:20:21.700664Z",
     "shell.execute_reply": "2023-08-10T10:20:21.699665Z"
    }
   },
   "outputs": [
    {
     "data": {
      "text/plain": [
       "tensor([[ 0.3972, -1.0710,  1.1877],\n",
       "        [-0.7549,  2.0887,  1.3250]])"
      ]
     },
     "execution_count": 10,
     "metadata": {},
     "output_type": "execute_result"
    }
   ],
   "source": [
    "b.a"
   ]
  },
  {
   "cell_type": "code",
   "execution_count": 11,
   "id": "b785ab72",
   "metadata": {
    "execution": {
     "iopub.execute_input": "2023-08-10T10:20:21.705396Z",
     "iopub.status.busy": "2023-08-10T10:20:21.705096Z",
     "iopub.status.idle": "2023-08-10T10:20:27.906474Z",
     "shell.execute_reply": "2023-08-10T10:20:27.905427Z"
    }
   },
   "outputs": [
    {
     "name": "stdout",
     "output_type": "stream",
     "text": [
      "76.6 ns ± 0.706 ns per loop (mean ± std. dev. of 7 runs, 10,000,000 loops each)\n"
     ]
    }
   ],
   "source": [
    "%timeit b.a"
   ]
  },
  {
   "cell_type": "code",
   "execution_count": 12,
   "id": "ad54dc69",
   "metadata": {
    "execution": {
     "iopub.execute_input": "2023-08-10T10:20:27.911313Z",
     "iopub.status.busy": "2023-08-10T10:20:27.910369Z",
     "iopub.status.idle": "2023-08-10T10:20:27.923434Z",
     "shell.execute_reply": "2023-08-10T10:20:27.922452Z"
    }
   },
   "outputs": [
    {
     "data": {
      "text/plain": [
       "Batch(\n",
       "    a: tensor([[-2.4201,  0.1546,  0.4338],\n",
       "               [ 0.5270,  1.8946, -1.0514]]),\n",
       "    x: Batch(\n",
       "           c: tensor([[-4.6935e-01,  2.4992e-01,  2.5516e+00,  6.6896e-01],\n",
       "                      [ 1.3332e-01,  2.0062e+00, -4.2402e-01, -5.1131e-01],\n",
       "                      [-4.8757e-01,  4.1132e-01,  4.9219e-01, -5.4251e-04]]),\n",
       "       ),\n",
       ")"
      ]
     },
     "execution_count": 12,
     "metadata": {},
     "output_type": "execute_result"
    }
   ],
   "source": [
    "new_value = torch.randn(2, 3)\n",
    "b.a = new_value\n",
    "\n",
    "b"
   ]
  },
  {
   "cell_type": "code",
   "execution_count": 13,
   "id": "29b1d0bf",
   "metadata": {
    "execution": {
     "iopub.execute_input": "2023-08-10T10:20:27.927691Z",
     "iopub.status.busy": "2023-08-10T10:20:27.927180Z",
     "iopub.status.idle": "2023-08-10T10:20:33.393356Z",
     "shell.execute_reply": "2023-08-10T10:20:33.392350Z"
    }
   },
   "outputs": [
    {
     "name": "stdout",
     "output_type": "stream",
     "text": [
      "670 ns ± 14.3 ns per loop (mean ± std. dev. of 7 runs, 1,000,000 loops each)\n"
     ]
    }
   ],
   "source": [
    "%timeit b.a = new_value"
   ]
  },
  {
   "cell_type": "markdown",
   "id": "b61ad1d0",
   "metadata": {},
   "source": [
    "## Initialization"
   ]
  },
  {
   "cell_type": "markdown",
   "id": "d70f0d54",
   "metadata": {},
   "source": [
    "### TreeValue's Initialization"
   ]
  },
  {
   "cell_type": "code",
   "execution_count": 14,
   "id": "d32a679b",
   "metadata": {
    "execution": {
     "iopub.execute_input": "2023-08-10T10:20:33.398134Z",
     "iopub.status.busy": "2023-08-10T10:20:33.397503Z",
     "iopub.status.idle": "2023-08-10T10:20:42.479611Z",
     "shell.execute_reply": "2023-08-10T10:20:42.478577Z"
    }
   },
   "outputs": [
    {
     "name": "stdout",
     "output_type": "stream",
     "text": [
      "1.12 µs ± 7.37 ns per loop (mean ± std. dev. of 7 runs, 1,000,000 loops each)\n"
     ]
    }
   ],
   "source": [
    "%timeit FastTreeValue(_TREE_DATA_1)"
   ]
  },
  {
   "cell_type": "markdown",
   "id": "24f3707b",
   "metadata": {},
   "source": [
    "### Tianshou Batch's Initialization"
   ]
  },
  {
   "cell_type": "code",
   "execution_count": 15,
   "id": "ac3958df",
   "metadata": {
    "execution": {
     "iopub.execute_input": "2023-08-10T10:20:42.490133Z",
     "iopub.status.busy": "2023-08-10T10:20:42.489593Z",
     "iopub.status.idle": "2023-08-10T10:20:53.950387Z",
     "shell.execute_reply": "2023-08-10T10:20:53.949430Z"
    }
   },
   "outputs": [
    {
     "name": "stdout",
     "output_type": "stream",
     "text": [
      "14.1 µs ± 78.6 ns per loop (mean ± std. dev. of 7 runs, 100,000 loops each)\n"
     ]
    }
   ],
   "source": [
    "%timeit Batch(**_TREE_DATA_1)"
   ]
  },
  {
   "cell_type": "markdown",
   "id": "1ab82e2d",
   "metadata": {},
   "source": [
    "## Deep Copy Operation"
   ]
  },
  {
   "cell_type": "code",
   "execution_count": 16,
   "id": "210a9442",
   "metadata": {
    "execution": {
     "iopub.execute_input": "2023-08-10T10:20:53.955183Z",
     "iopub.status.busy": "2023-08-10T10:20:53.954331Z",
     "iopub.status.idle": "2023-08-10T10:20:53.959168Z",
     "shell.execute_reply": "2023-08-10T10:20:53.958118Z"
    }
   },
   "outputs": [],
   "source": [
    "import copy"
   ]
  },
  {
   "cell_type": "markdown",
   "id": "5a736274",
   "metadata": {},
   "source": [
    "### Deep Copy of TreeValue"
   ]
  },
  {
   "cell_type": "code",
   "execution_count": 17,
   "id": "f9bcadd6",
   "metadata": {
    "execution": {
     "iopub.execute_input": "2023-08-10T10:20:53.963720Z",
     "iopub.status.busy": "2023-08-10T10:20:53.963121Z",
     "iopub.status.idle": "2023-08-10T10:20:56.141171Z",
     "shell.execute_reply": "2023-08-10T10:20:56.140192Z"
    }
   },
   "outputs": [
    {
     "name": "stdout",
     "output_type": "stream",
     "text": [
      "268 µs ± 6.56 µs per loop (mean ± std. dev. of 7 runs, 1,000 loops each)\n"
     ]
    }
   ],
   "source": [
    "t3 = FastTreeValue(_TREE_DATA_3)\n",
    "%timeit copy.deepcopy(t3)"
   ]
  },
  {
   "cell_type": "markdown",
   "id": "bf8be7ea",
   "metadata": {},
   "source": [
    "### Deep Copy of Tianshou Batch"
   ]
  },
  {
   "cell_type": "code",
   "execution_count": 18,
   "id": "91998e6f",
   "metadata": {
    "execution": {
     "iopub.execute_input": "2023-08-10T10:20:56.145507Z",
     "iopub.status.busy": "2023-08-10T10:20:56.144981Z",
     "iopub.status.idle": "2023-08-10T10:20:58.299276Z",
     "shell.execute_reply": "2023-08-10T10:20:58.297910Z"
    }
   },
   "outputs": [
    {
     "name": "stdout",
     "output_type": "stream",
     "text": [
      "264 µs ± 5.86 µs per loop (mean ± std. dev. of 7 runs, 1,000 loops each)\n"
     ]
    }
   ],
   "source": [
    "b3 = Batch(**_TREE_DATA_3)\n",
    "%timeit copy.deepcopy(b3)"
   ]
  },
  {
   "cell_type": "markdown",
   "id": "223162fb",
   "metadata": {},
   "source": [
    "## Stack, Concat and Split Operation"
   ]
  },
  {
   "cell_type": "markdown",
   "id": "85fa4a73",
   "metadata": {},
   "source": [
    "### Performance of TreeValue"
   ]
  },
  {
   "cell_type": "code",
   "execution_count": 19,
   "id": "a0c2b697",
   "metadata": {
    "execution": {
     "iopub.execute_input": "2023-08-10T10:20:58.303831Z",
     "iopub.status.busy": "2023-08-10T10:20:58.303272Z",
     "iopub.status.idle": "2023-08-10T10:20:58.307911Z",
     "shell.execute_reply": "2023-08-10T10:20:58.306849Z"
    }
   },
   "outputs": [],
   "source": [
    "trees = [FastTreeValue(_TREE_DATA_2) for _ in range(8)]"
   ]
  },
  {
   "cell_type": "code",
   "execution_count": 20,
   "id": "017ea5a5",
   "metadata": {
    "execution": {
     "iopub.execute_input": "2023-08-10T10:20:58.311841Z",
     "iopub.status.busy": "2023-08-10T10:20:58.311308Z",
     "iopub.status.idle": "2023-08-10T10:20:58.321468Z",
     "shell.execute_reply": "2023-08-10T10:20:58.320426Z"
    }
   },
   "outputs": [
    {
     "data": {
      "text/plain": [
       "<FastTreeValue 0x7f51bbdacfa0>\n",
       "├── 'a' --> tensor([[[ 0.3972, -1.0710,  1.1877],\n",
       "│                    [-0.7549,  2.0887,  1.3250]],\n",
       "│           \n",
       "│                   [[ 0.3972, -1.0710,  1.1877],\n",
       "│                    [-0.7549,  2.0887,  1.3250]],\n",
       "│           \n",
       "│                   [[ 0.3972, -1.0710,  1.1877],\n",
       "│                    [-0.7549,  2.0887,  1.3250]],\n",
       "│           \n",
       "│                   [[ 0.3972, -1.0710,  1.1877],\n",
       "│                    [-0.7549,  2.0887,  1.3250]],\n",
       "│           \n",
       "│                   [[ 0.3972, -1.0710,  1.1877],\n",
       "│                    [-0.7549,  2.0887,  1.3250]],\n",
       "│           \n",
       "│                   [[ 0.3972, -1.0710,  1.1877],\n",
       "│                    [-0.7549,  2.0887,  1.3250]],\n",
       "│           \n",
       "│                   [[ 0.3972, -1.0710,  1.1877],\n",
       "│                    [-0.7549,  2.0887,  1.3250]],\n",
       "│           \n",
       "│                   [[ 0.3972, -1.0710,  1.1877],\n",
       "│                    [-0.7549,  2.0887,  1.3250]]])\n",
       "└── 'x' --> <FastTreeValue 0x7f51bbdac940>\n",
       "    └── 'c' --> tensor([[[-4.6935e-01,  2.4992e-01,  2.5516e+00,  6.6896e-01],\n",
       "                         [ 1.3332e-01,  2.0062e+00, -4.2402e-01, -5.1131e-01],\n",
       "                         [-4.8757e-01,  4.1132e-01,  4.9219e-01, -5.4251e-04]],\n",
       "                \n",
       "                        [[-4.6935e-01,  2.4992e-01,  2.5516e+00,  6.6896e-01],\n",
       "                         [ 1.3332e-01,  2.0062e+00, -4.2402e-01, -5.1131e-01],\n",
       "                         [-4.8757e-01,  4.1132e-01,  4.9219e-01, -5.4251e-04]],\n",
       "                \n",
       "                        [[-4.6935e-01,  2.4992e-01,  2.5516e+00,  6.6896e-01],\n",
       "                         [ 1.3332e-01,  2.0062e+00, -4.2402e-01, -5.1131e-01],\n",
       "                         [-4.8757e-01,  4.1132e-01,  4.9219e-01, -5.4251e-04]],\n",
       "                \n",
       "                        [[-4.6935e-01,  2.4992e-01,  2.5516e+00,  6.6896e-01],\n",
       "                         [ 1.3332e-01,  2.0062e+00, -4.2402e-01, -5.1131e-01],\n",
       "                         [-4.8757e-01,  4.1132e-01,  4.9219e-01, -5.4251e-04]],\n",
       "                \n",
       "                        [[-4.6935e-01,  2.4992e-01,  2.5516e+00,  6.6896e-01],\n",
       "                         [ 1.3332e-01,  2.0062e+00, -4.2402e-01, -5.1131e-01],\n",
       "                         [-4.8757e-01,  4.1132e-01,  4.9219e-01, -5.4251e-04]],\n",
       "                \n",
       "                        [[-4.6935e-01,  2.4992e-01,  2.5516e+00,  6.6896e-01],\n",
       "                         [ 1.3332e-01,  2.0062e+00, -4.2402e-01, -5.1131e-01],\n",
       "                         [-4.8757e-01,  4.1132e-01,  4.9219e-01, -5.4251e-04]],\n",
       "                \n",
       "                        [[-4.6935e-01,  2.4992e-01,  2.5516e+00,  6.6896e-01],\n",
       "                         [ 1.3332e-01,  2.0062e+00, -4.2402e-01, -5.1131e-01],\n",
       "                         [-4.8757e-01,  4.1132e-01,  4.9219e-01, -5.4251e-04]],\n",
       "                \n",
       "                        [[-4.6935e-01,  2.4992e-01,  2.5516e+00,  6.6896e-01],\n",
       "                         [ 1.3332e-01,  2.0062e+00, -4.2402e-01, -5.1131e-01],\n",
       "                         [-4.8757e-01,  4.1132e-01,  4.9219e-01, -5.4251e-04]]])"
      ]
     },
     "execution_count": 20,
     "metadata": {},
     "output_type": "execute_result"
    }
   ],
   "source": [
    "t_stack = FastTreeValue.func(subside=True)(torch.stack)\n",
    "\n",
    "t_stack(trees)"
   ]
  },
  {
   "cell_type": "code",
   "execution_count": 21,
   "id": "f8b3f415",
   "metadata": {
    "execution": {
     "iopub.execute_input": "2023-08-10T10:20:58.325484Z",
     "iopub.status.busy": "2023-08-10T10:20:58.325009Z",
     "iopub.status.idle": "2023-08-10T10:21:02.384457Z",
     "shell.execute_reply": "2023-08-10T10:21:02.383383Z"
    }
   },
   "outputs": [
    {
     "name": "stdout",
     "output_type": "stream",
     "text": [
      "50 µs ± 599 ns per loop (mean ± std. dev. of 7 runs, 10,000 loops each)\n"
     ]
    }
   ],
   "source": [
    "%timeit t_stack(trees)"
   ]
  },
  {
   "cell_type": "code",
   "execution_count": 22,
   "id": "94b56771",
   "metadata": {
    "execution": {
     "iopub.execute_input": "2023-08-10T10:21:02.388809Z",
     "iopub.status.busy": "2023-08-10T10:21:02.388190Z",
     "iopub.status.idle": "2023-08-10T10:21:02.400021Z",
     "shell.execute_reply": "2023-08-10T10:21:02.398911Z"
    }
   },
   "outputs": [
    {
     "data": {
      "text/plain": [
       "<FastTreeValue 0x7f51bbdacdf0>\n",
       "├── 'a' --> tensor([[ 0.3972, -1.0710,  1.1877],\n",
       "│                   [-0.7549,  2.0887,  1.3250],\n",
       "│                   [ 0.3972, -1.0710,  1.1877],\n",
       "│                   [-0.7549,  2.0887,  1.3250],\n",
       "│                   [ 0.3972, -1.0710,  1.1877],\n",
       "│                   [-0.7549,  2.0887,  1.3250],\n",
       "│                   [ 0.3972, -1.0710,  1.1877],\n",
       "│                   [-0.7549,  2.0887,  1.3250],\n",
       "│                   [ 0.3972, -1.0710,  1.1877],\n",
       "│                   [-0.7549,  2.0887,  1.3250],\n",
       "│                   [ 0.3972, -1.0710,  1.1877],\n",
       "│                   [-0.7549,  2.0887,  1.3250],\n",
       "│                   [ 0.3972, -1.0710,  1.1877],\n",
       "│                   [-0.7549,  2.0887,  1.3250],\n",
       "│                   [ 0.3972, -1.0710,  1.1877],\n",
       "│                   [-0.7549,  2.0887,  1.3250]])\n",
       "└── 'x' --> <FastTreeValue 0x7f51bbdac790>\n",
       "    └── 'c' --> tensor([[-4.6935e-01,  2.4992e-01,  2.5516e+00,  6.6896e-01],\n",
       "                        [ 1.3332e-01,  2.0062e+00, -4.2402e-01, -5.1131e-01],\n",
       "                        [-4.8757e-01,  4.1132e-01,  4.9219e-01, -5.4251e-04],\n",
       "                        [-4.6935e-01,  2.4992e-01,  2.5516e+00,  6.6896e-01],\n",
       "                        [ 1.3332e-01,  2.0062e+00, -4.2402e-01, -5.1131e-01],\n",
       "                        [-4.8757e-01,  4.1132e-01,  4.9219e-01, -5.4251e-04],\n",
       "                        [-4.6935e-01,  2.4992e-01,  2.5516e+00,  6.6896e-01],\n",
       "                        [ 1.3332e-01,  2.0062e+00, -4.2402e-01, -5.1131e-01],\n",
       "                        [-4.8757e-01,  4.1132e-01,  4.9219e-01, -5.4251e-04],\n",
       "                        [-4.6935e-01,  2.4992e-01,  2.5516e+00,  6.6896e-01],\n",
       "                        [ 1.3332e-01,  2.0062e+00, -4.2402e-01, -5.1131e-01],\n",
       "                        [-4.8757e-01,  4.1132e-01,  4.9219e-01, -5.4251e-04],\n",
       "                        [-4.6935e-01,  2.4992e-01,  2.5516e+00,  6.6896e-01],\n",
       "                        [ 1.3332e-01,  2.0062e+00, -4.2402e-01, -5.1131e-01],\n",
       "                        [-4.8757e-01,  4.1132e-01,  4.9219e-01, -5.4251e-04],\n",
       "                        [-4.6935e-01,  2.4992e-01,  2.5516e+00,  6.6896e-01],\n",
       "                        [ 1.3332e-01,  2.0062e+00, -4.2402e-01, -5.1131e-01],\n",
       "                        [-4.8757e-01,  4.1132e-01,  4.9219e-01, -5.4251e-04],\n",
       "                        [-4.6935e-01,  2.4992e-01,  2.5516e+00,  6.6896e-01],\n",
       "                        [ 1.3332e-01,  2.0062e+00, -4.2402e-01, -5.1131e-01],\n",
       "                        [-4.8757e-01,  4.1132e-01,  4.9219e-01, -5.4251e-04],\n",
       "                        [-4.6935e-01,  2.4992e-01,  2.5516e+00,  6.6896e-01],\n",
       "                        [ 1.3332e-01,  2.0062e+00, -4.2402e-01, -5.1131e-01],\n",
       "                        [-4.8757e-01,  4.1132e-01,  4.9219e-01, -5.4251e-04]])"
      ]
     },
     "execution_count": 22,
     "metadata": {},
     "output_type": "execute_result"
    }
   ],
   "source": [
    "t_cat = FastTreeValue.func(subside=True)(torch.cat)\n",
    "\n",
    "t_cat(trees)"
   ]
  },
  {
   "cell_type": "code",
   "execution_count": 23,
   "id": "5e9c06a6",
   "metadata": {
    "execution": {
     "iopub.execute_input": "2023-08-10T10:21:02.404386Z",
     "iopub.status.busy": "2023-08-10T10:21:02.403920Z",
     "iopub.status.idle": "2023-08-10T10:21:06.107939Z",
     "shell.execute_reply": "2023-08-10T10:21:06.106981Z"
    }
   },
   "outputs": [
    {
     "name": "stdout",
     "output_type": "stream",
     "text": [
      "45.6 µs ± 417 ns per loop (mean ± std. dev. of 7 runs, 10,000 loops each)\n"
     ]
    }
   ],
   "source": [
    "%timeit t_cat(trees)"
   ]
  },
  {
   "cell_type": "code",
   "execution_count": 24,
   "id": "a3ab5c8f",
   "metadata": {
    "execution": {
     "iopub.execute_input": "2023-08-10T10:21:06.112568Z",
     "iopub.status.busy": "2023-08-10T10:21:06.111906Z",
     "iopub.status.idle": "2023-08-10T10:21:14.035349Z",
     "shell.execute_reply": "2023-08-10T10:21:14.034256Z"
    }
   },
   "outputs": [
    {
     "name": "stdout",
     "output_type": "stream",
     "text": [
      "97.7 µs ± 1.55 µs per loop (mean ± std. dev. of 7 runs, 10,000 loops each)\n"
     ]
    }
   ],
   "source": [
    "t_split = FastTreeValue.func(rise=True)(torch.split)\n",
    "tree = FastTreeValue({\n",
    "    'obs': torch.randn(8, 4, 84, 84),\n",
    "    'action': torch.randint(0, 6, size=(8, 1,)),\n",
    "    'reward': torch.rand(8, 1),\n",
    "})\n",
    "\n",
    "%timeit t_split(tree, 1)"
   ]
  },
  {
   "cell_type": "markdown",
   "id": "31c3ec0b",
   "metadata": {},
   "source": [
    "### Performance of Tianshou Batch"
   ]
  },
  {
   "cell_type": "code",
   "execution_count": 25,
   "id": "9ead828a",
   "metadata": {
    "execution": {
     "iopub.execute_input": "2023-08-10T10:21:14.040022Z",
     "iopub.status.busy": "2023-08-10T10:21:14.039324Z",
     "iopub.status.idle": "2023-08-10T10:21:14.050604Z",
     "shell.execute_reply": "2023-08-10T10:21:14.049401Z"
    }
   },
   "outputs": [
    {
     "data": {
      "text/plain": [
       "Batch(\n",
       "    a: tensor([[[ 0.3972, -1.0710,  1.1877],\n",
       "                [-0.7549,  2.0887,  1.3250]],\n",
       "       \n",
       "               [[ 0.3972, -1.0710,  1.1877],\n",
       "                [-0.7549,  2.0887,  1.3250]],\n",
       "       \n",
       "               [[ 0.3972, -1.0710,  1.1877],\n",
       "                [-0.7549,  2.0887,  1.3250]],\n",
       "       \n",
       "               [[ 0.3972, -1.0710,  1.1877],\n",
       "                [-0.7549,  2.0887,  1.3250]],\n",
       "       \n",
       "               [[ 0.3972, -1.0710,  1.1877],\n",
       "                [-0.7549,  2.0887,  1.3250]],\n",
       "       \n",
       "               [[ 0.3972, -1.0710,  1.1877],\n",
       "                [-0.7549,  2.0887,  1.3250]],\n",
       "       \n",
       "               [[ 0.3972, -1.0710,  1.1877],\n",
       "                [-0.7549,  2.0887,  1.3250]],\n",
       "       \n",
       "               [[ 0.3972, -1.0710,  1.1877],\n",
       "                [-0.7549,  2.0887,  1.3250]]]),\n",
       "    x: Batch(\n",
       "           c: tensor([[[-4.6935e-01,  2.4992e-01,  2.5516e+00,  6.6896e-01],\n",
       "                       [ 1.3332e-01,  2.0062e+00, -4.2402e-01, -5.1131e-01],\n",
       "                       [-4.8757e-01,  4.1132e-01,  4.9219e-01, -5.4251e-04]],\n",
       "              \n",
       "                      [[-4.6935e-01,  2.4992e-01,  2.5516e+00,  6.6896e-01],\n",
       "                       [ 1.3332e-01,  2.0062e+00, -4.2402e-01, -5.1131e-01],\n",
       "                       [-4.8757e-01,  4.1132e-01,  4.9219e-01, -5.4251e-04]],\n",
       "              \n",
       "                      [[-4.6935e-01,  2.4992e-01,  2.5516e+00,  6.6896e-01],\n",
       "                       [ 1.3332e-01,  2.0062e+00, -4.2402e-01, -5.1131e-01],\n",
       "                       [-4.8757e-01,  4.1132e-01,  4.9219e-01, -5.4251e-04]],\n",
       "              \n",
       "                      [[-4.6935e-01,  2.4992e-01,  2.5516e+00,  6.6896e-01],\n",
       "                       [ 1.3332e-01,  2.0062e+00, -4.2402e-01, -5.1131e-01],\n",
       "                       [-4.8757e-01,  4.1132e-01,  4.9219e-01, -5.4251e-04]],\n",
       "              \n",
       "                      [[-4.6935e-01,  2.4992e-01,  2.5516e+00,  6.6896e-01],\n",
       "                       [ 1.3332e-01,  2.0062e+00, -4.2402e-01, -5.1131e-01],\n",
       "                       [-4.8757e-01,  4.1132e-01,  4.9219e-01, -5.4251e-04]],\n",
       "              \n",
       "                      [[-4.6935e-01,  2.4992e-01,  2.5516e+00,  6.6896e-01],\n",
       "                       [ 1.3332e-01,  2.0062e+00, -4.2402e-01, -5.1131e-01],\n",
       "                       [-4.8757e-01,  4.1132e-01,  4.9219e-01, -5.4251e-04]],\n",
       "              \n",
       "                      [[-4.6935e-01,  2.4992e-01,  2.5516e+00,  6.6896e-01],\n",
       "                       [ 1.3332e-01,  2.0062e+00, -4.2402e-01, -5.1131e-01],\n",
       "                       [-4.8757e-01,  4.1132e-01,  4.9219e-01, -5.4251e-04]],\n",
       "              \n",
       "                      [[-4.6935e-01,  2.4992e-01,  2.5516e+00,  6.6896e-01],\n",
       "                       [ 1.3332e-01,  2.0062e+00, -4.2402e-01, -5.1131e-01],\n",
       "                       [-4.8757e-01,  4.1132e-01,  4.9219e-01, -5.4251e-04]]]),\n",
       "       ),\n",
       ")"
      ]
     },
     "execution_count": 25,
     "metadata": {},
     "output_type": "execute_result"
    }
   ],
   "source": [
    "batches = [Batch(**_TREE_DATA_2) for _ in range(8)]\n",
    "\n",
    "Batch.stack(batches)"
   ]
  },
  {
   "cell_type": "code",
   "execution_count": 26,
   "id": "ec9037a3",
   "metadata": {
    "execution": {
     "iopub.execute_input": "2023-08-10T10:21:14.054801Z",
     "iopub.status.busy": "2023-08-10T10:21:14.054377Z",
     "iopub.status.idle": "2023-08-10T10:21:23.164481Z",
     "shell.execute_reply": "2023-08-10T10:21:23.163473Z"
    }
   },
   "outputs": [
    {
     "name": "stdout",
     "output_type": "stream",
     "text": [
      "112 µs ± 995 ns per loop (mean ± std. dev. of 7 runs, 10,000 loops each)\n"
     ]
    }
   ],
   "source": [
    "%timeit Batch.stack(batches)"
   ]
  },
  {
   "cell_type": "code",
   "execution_count": 27,
   "id": "cb8ab77e",
   "metadata": {
    "execution": {
     "iopub.execute_input": "2023-08-10T10:21:23.168479Z",
     "iopub.status.busy": "2023-08-10T10:21:23.167972Z",
     "iopub.status.idle": "2023-08-10T10:21:23.177938Z",
     "shell.execute_reply": "2023-08-10T10:21:23.176901Z"
    }
   },
   "outputs": [
    {
     "data": {
      "text/plain": [
       "Batch(\n",
       "    a: tensor([[ 0.3972, -1.0710,  1.1877],\n",
       "               [-0.7549,  2.0887,  1.3250],\n",
       "               [ 0.3972, -1.0710,  1.1877],\n",
       "               [-0.7549,  2.0887,  1.3250],\n",
       "               [ 0.3972, -1.0710,  1.1877],\n",
       "               [-0.7549,  2.0887,  1.3250],\n",
       "               [ 0.3972, -1.0710,  1.1877],\n",
       "               [-0.7549,  2.0887,  1.3250],\n",
       "               [ 0.3972, -1.0710,  1.1877],\n",
       "               [-0.7549,  2.0887,  1.3250],\n",
       "               [ 0.3972, -1.0710,  1.1877],\n",
       "               [-0.7549,  2.0887,  1.3250],\n",
       "               [ 0.3972, -1.0710,  1.1877],\n",
       "               [-0.7549,  2.0887,  1.3250],\n",
       "               [ 0.3972, -1.0710,  1.1877],\n",
       "               [-0.7549,  2.0887,  1.3250]]),\n",
       "    x: Batch(\n",
       "           c: tensor([[-4.6935e-01,  2.4992e-01,  2.5516e+00,  6.6896e-01],\n",
       "                      [ 1.3332e-01,  2.0062e+00, -4.2402e-01, -5.1131e-01],\n",
       "                      [-4.8757e-01,  4.1132e-01,  4.9219e-01, -5.4251e-04],\n",
       "                      [-4.6935e-01,  2.4992e-01,  2.5516e+00,  6.6896e-01],\n",
       "                      [ 1.3332e-01,  2.0062e+00, -4.2402e-01, -5.1131e-01],\n",
       "                      [-4.8757e-01,  4.1132e-01,  4.9219e-01, -5.4251e-04],\n",
       "                      [-4.6935e-01,  2.4992e-01,  2.5516e+00,  6.6896e-01],\n",
       "                      [ 1.3332e-01,  2.0062e+00, -4.2402e-01, -5.1131e-01],\n",
       "                      [-4.8757e-01,  4.1132e-01,  4.9219e-01, -5.4251e-04],\n",
       "                      [-4.6935e-01,  2.4992e-01,  2.5516e+00,  6.6896e-01],\n",
       "                      [ 1.3332e-01,  2.0062e+00, -4.2402e-01, -5.1131e-01],\n",
       "                      [-4.8757e-01,  4.1132e-01,  4.9219e-01, -5.4251e-04],\n",
       "                      [-4.6935e-01,  2.4992e-01,  2.5516e+00,  6.6896e-01],\n",
       "                      [ 1.3332e-01,  2.0062e+00, -4.2402e-01, -5.1131e-01],\n",
       "                      [-4.8757e-01,  4.1132e-01,  4.9219e-01, -5.4251e-04],\n",
       "                      [-4.6935e-01,  2.4992e-01,  2.5516e+00,  6.6896e-01],\n",
       "                      [ 1.3332e-01,  2.0062e+00, -4.2402e-01, -5.1131e-01],\n",
       "                      [-4.8757e-01,  4.1132e-01,  4.9219e-01, -5.4251e-04],\n",
       "                      [-4.6935e-01,  2.4992e-01,  2.5516e+00,  6.6896e-01],\n",
       "                      [ 1.3332e-01,  2.0062e+00, -4.2402e-01, -5.1131e-01],\n",
       "                      [-4.8757e-01,  4.1132e-01,  4.9219e-01, -5.4251e-04],\n",
       "                      [-4.6935e-01,  2.4992e-01,  2.5516e+00,  6.6896e-01],\n",
       "                      [ 1.3332e-01,  2.0062e+00, -4.2402e-01, -5.1131e-01],\n",
       "                      [-4.8757e-01,  4.1132e-01,  4.9219e-01, -5.4251e-04]]),\n",
       "       ),\n",
       ")"
      ]
     },
     "execution_count": 27,
     "metadata": {},
     "output_type": "execute_result"
    }
   ],
   "source": [
    "Batch.cat(batches)"
   ]
  },
  {
   "cell_type": "code",
   "execution_count": 28,
   "id": "18dfb045",
   "metadata": {
    "execution": {
     "iopub.execute_input": "2023-08-10T10:21:23.182115Z",
     "iopub.status.busy": "2023-08-10T10:21:23.181721Z",
     "iopub.status.idle": "2023-08-10T10:21:24.830258Z",
     "shell.execute_reply": "2023-08-10T10:21:24.829296Z"
    }
   },
   "outputs": [
    {
     "name": "stdout",
     "output_type": "stream",
     "text": [
      "201 µs ± 3.74 µs per loop (mean ± std. dev. of 7 runs, 1,000 loops each)\n"
     ]
    }
   ],
   "source": [
    "%timeit Batch.cat(batches)"
   ]
  },
  {
   "cell_type": "code",
   "execution_count": 29,
   "id": "c6688e51",
   "metadata": {
    "execution": {
     "iopub.execute_input": "2023-08-10T10:21:24.835005Z",
     "iopub.status.busy": "2023-08-10T10:21:24.833977Z",
     "iopub.status.idle": "2023-08-10T10:21:29.983783Z",
     "shell.execute_reply": "2023-08-10T10:21:29.982890Z"
    }
   },
   "outputs": [
    {
     "name": "stdout",
     "output_type": "stream",
     "text": [
      "635 µs ± 28.9 µs per loop (mean ± std. dev. of 7 runs, 1,000 loops each)\n"
     ]
    }
   ],
   "source": [
    "batch = Batch({\n",
    "    'obs': torch.randn(8, 4, 84, 84),\n",
    "    'action': torch.randint(0, 6, size=(8, 1,)),\n",
    "    'reward': torch.rand(8, 1)}\n",
    ")\n",
    "\n",
    "%timeit list(Batch.split(batch, 1, shuffle=False, merge_last=True))"
   ]
  },
  {
   "cell_type": "code",
   "execution_count": null,
   "id": "2539fbd9",
   "metadata": {},
   "outputs": [],
   "source": []
  }
 ],
 "metadata": {
  "kernelspec": {
   "display_name": "Python 3 (ipykernel)",
   "language": "python",
   "name": "python3"
  },
  "language_info": {
   "codemirror_mode": {
    "name": "ipython",
    "version": 3
   },
   "file_extension": ".py",
   "mimetype": "text/x-python",
   "name": "python",
   "nbconvert_exporter": "python",
   "pygments_lexer": "ipython3",
   "version": "3.8.17"
  }
 },
 "nbformat": 4,
 "nbformat_minor": 5
}
