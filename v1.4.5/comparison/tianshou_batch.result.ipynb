{
 "cells": [
  {
   "cell_type": "markdown",
   "id": "9d39d946",
   "metadata": {},
   "source": [
    "# Comparison Between TreeValue and Tianshou Batch"
   ]
  },
  {
   "cell_type": "markdown",
   "id": "3c6db2d4",
   "metadata": {},
   "source": [
    "In this section, we will take a look at the feature and performance of the [Tianshou Batch](https://github.com/thu-ml/tianshou) library, which is developed by Tsinghua Machine Learning Group."
   ]
  },
  {
   "cell_type": "markdown",
   "id": "069361b0",
   "metadata": {},
   "source": [
    "Before starting the comparison, let us define some thing."
   ]
  },
  {
   "cell_type": "code",
   "execution_count": 1,
   "id": "06fc8d26",
   "metadata": {
    "execution": {
     "iopub.execute_input": "2023-02-27T13:05:07.746642Z",
     "iopub.status.busy": "2023-02-27T13:05:07.746068Z",
     "iopub.status.idle": "2023-02-27T13:05:08.982949Z",
     "shell.execute_reply": "2023-02-27T13:05:08.981600Z"
    }
   },
   "outputs": [
    {
     "name": "stderr",
     "output_type": "stream",
     "text": [
      "/opt/hostedtoolcache/Python/3.8.16/x64/lib/python3.8/site-packages/tqdm/auto.py:22: TqdmWarning: IProgress not found. Please update jupyter and ipywidgets. See https://ipywidgets.readthedocs.io/en/stable/user_install.html\n",
      "  from .autonotebook import tqdm as notebook_tqdm\n"
     ]
    }
   ],
   "source": [
    "import torch \n",
    "\n",
    "_TREE_DATA_1 = {'a': 1, 'b': 2, 'x': {'c': 3, 'd': 4}}\n",
    "_TREE_DATA_2 = {\n",
    "    'a': torch.randn(2, 3), \n",
    "    'x': {\n",
    "        'c': torch.randn(3, 4)\n",
    "    },\n",
    "}\n",
    "_TREE_DATA_3 = {\n",
    "    'obs': torch.randn(4, 84, 84),\n",
    "    'action': torch.randint(0, 6, size=(1,)),\n",
    "    'reward': torch.rand(1),\n",
    "}"
   ]
  },
  {
   "cell_type": "markdown",
   "id": "83461b25",
   "metadata": {},
   "source": [
    "## Read and Write Operation"
   ]
  },
  {
   "cell_type": "markdown",
   "id": "067b3f73",
   "metadata": {},
   "source": [
    "Reading and writing are the two most common operations in the tree data structure based on the data model (TreeValue and Tianshou Batch both belong to this type), so this section will compare the reading and writing performance of these two libraries."
   ]
  },
  {
   "cell_type": "markdown",
   "id": "5d09a5b7",
   "metadata": {},
   "source": [
    "### TreeValue's Get and Set"
   ]
  },
  {
   "cell_type": "code",
   "execution_count": 2,
   "id": "9519c4bb",
   "metadata": {
    "execution": {
     "iopub.execute_input": "2023-02-27T13:05:08.987801Z",
     "iopub.status.busy": "2023-02-27T13:05:08.987406Z",
     "iopub.status.idle": "2023-02-27T13:05:09.032514Z",
     "shell.execute_reply": "2023-02-27T13:05:09.031541Z"
    }
   },
   "outputs": [],
   "source": [
    "from treevalue import FastTreeValue\n",
    "\n",
    "t = FastTreeValue(_TREE_DATA_2)"
   ]
  },
  {
   "cell_type": "code",
   "execution_count": 3,
   "id": "11c37677",
   "metadata": {
    "execution": {
     "iopub.execute_input": "2023-02-27T13:05:09.036075Z",
     "iopub.status.busy": "2023-02-27T13:05:09.035785Z",
     "iopub.status.idle": "2023-02-27T13:05:09.049632Z",
     "shell.execute_reply": "2023-02-27T13:05:09.048529Z"
    }
   },
   "outputs": [
    {
     "data": {
      "text/plain": [
       "<FastTreeValue 0x7f7648a96c10>\n",
       "├── 'a' --> tensor([[-0.6252, -0.2727,  0.3005],\n",
       "│                   [ 0.0538, -0.6707,  1.2123]])\n",
       "└── 'x' --> <FastTreeValue 0x7f7648a96a00>\n",
       "    └── 'c' --> tensor([[-0.4248, -0.0462,  1.1552, -0.5352],\n",
       "                        [ 0.5208,  0.1273, -0.5352, -0.2052],\n",
       "                        [ 1.0770,  1.8257,  1.3237,  0.1908]])"
      ]
     },
     "execution_count": 3,
     "metadata": {},
     "output_type": "execute_result"
    }
   ],
   "source": [
    "t"
   ]
  },
  {
   "cell_type": "code",
   "execution_count": 4,
   "id": "fd70b0b9",
   "metadata": {
    "execution": {
     "iopub.execute_input": "2023-02-27T13:05:09.053949Z",
     "iopub.status.busy": "2023-02-27T13:05:09.053605Z",
     "iopub.status.idle": "2023-02-27T13:05:09.061366Z",
     "shell.execute_reply": "2023-02-27T13:05:09.060119Z"
    }
   },
   "outputs": [
    {
     "data": {
      "text/plain": [
       "tensor([[-0.6252, -0.2727,  0.3005],\n",
       "        [ 0.0538, -0.6707,  1.2123]])"
      ]
     },
     "execution_count": 4,
     "metadata": {},
     "output_type": "execute_result"
    }
   ],
   "source": [
    "t.a"
   ]
  },
  {
   "cell_type": "code",
   "execution_count": 5,
   "id": "c18197bd",
   "metadata": {
    "execution": {
     "iopub.execute_input": "2023-02-27T13:05:09.064587Z",
     "iopub.status.busy": "2023-02-27T13:05:09.064262Z",
     "iopub.status.idle": "2023-02-27T13:05:14.987775Z",
     "shell.execute_reply": "2023-02-27T13:05:14.986698Z"
    }
   },
   "outputs": [
    {
     "name": "stdout",
     "output_type": "stream",
     "text": [
      "73.1 ns ± 1.32 ns per loop (mean ± std. dev. of 7 runs, 10,000,000 loops each)\n"
     ]
    }
   ],
   "source": [
    "%timeit t.a"
   ]
  },
  {
   "cell_type": "code",
   "execution_count": 6,
   "id": "bd52f867",
   "metadata": {
    "execution": {
     "iopub.execute_input": "2023-02-27T13:05:14.991404Z",
     "iopub.status.busy": "2023-02-27T13:05:14.991090Z",
     "iopub.status.idle": "2023-02-27T13:05:14.999907Z",
     "shell.execute_reply": "2023-02-27T13:05:14.998921Z"
    }
   },
   "outputs": [
    {
     "data": {
      "text/plain": [
       "<FastTreeValue 0x7f7648a96c10>\n",
       "├── 'a' --> tensor([[-0.4612, -0.0094, -0.9481],\n",
       "│                   [ 0.9856,  0.1824, -0.3124]])\n",
       "└── 'x' --> <FastTreeValue 0x7f7648a96a00>\n",
       "    └── 'c' --> tensor([[-0.4248, -0.0462,  1.1552, -0.5352],\n",
       "                        [ 0.5208,  0.1273, -0.5352, -0.2052],\n",
       "                        [ 1.0770,  1.8257,  1.3237,  0.1908]])"
      ]
     },
     "execution_count": 6,
     "metadata": {},
     "output_type": "execute_result"
    }
   ],
   "source": [
    "new_value = torch.randn(2, 3)\n",
    "t.a = new_value\n",
    "\n",
    "t"
   ]
  },
  {
   "cell_type": "code",
   "execution_count": 7,
   "id": "bbe04d1c",
   "metadata": {
    "execution": {
     "iopub.execute_input": "2023-02-27T13:05:15.003015Z",
     "iopub.status.busy": "2023-02-27T13:05:15.002731Z",
     "iopub.status.idle": "2023-02-27T13:05:20.917737Z",
     "shell.execute_reply": "2023-02-27T13:05:20.916578Z"
    }
   },
   "outputs": [
    {
     "name": "stdout",
     "output_type": "stream",
     "text": [
      "73.1 ns ± 1.18 ns per loop (mean ± std. dev. of 7 runs, 10,000,000 loops each)\n"
     ]
    }
   ],
   "source": [
    "%timeit t.a = new_value"
   ]
  },
  {
   "cell_type": "markdown",
   "id": "48c49731",
   "metadata": {},
   "source": [
    "### Tianshou Batch's Get and Set"
   ]
  },
  {
   "cell_type": "code",
   "execution_count": 8,
   "id": "f1bb14c1",
   "metadata": {
    "execution": {
     "iopub.execute_input": "2023-02-27T13:05:20.921943Z",
     "iopub.status.busy": "2023-02-27T13:05:20.921459Z",
     "iopub.status.idle": "2023-02-27T13:05:21.377136Z",
     "shell.execute_reply": "2023-02-27T13:05:21.376090Z"
    }
   },
   "outputs": [],
   "source": [
    "from tianshou.data import Batch\n",
    "\n",
    "b = Batch(**_TREE_DATA_2)"
   ]
  },
  {
   "cell_type": "code",
   "execution_count": 9,
   "id": "cb0777c3",
   "metadata": {
    "execution": {
     "iopub.execute_input": "2023-02-27T13:05:21.381214Z",
     "iopub.status.busy": "2023-02-27T13:05:21.380764Z",
     "iopub.status.idle": "2023-02-27T13:05:21.388669Z",
     "shell.execute_reply": "2023-02-27T13:05:21.387672Z"
    }
   },
   "outputs": [
    {
     "data": {
      "text/plain": [
       "Batch(\n",
       "    a: tensor([[-0.6252, -0.2727,  0.3005],\n",
       "               [ 0.0538, -0.6707,  1.2123]]),\n",
       "    x: Batch(\n",
       "           c: tensor([[-0.4248, -0.0462,  1.1552, -0.5352],\n",
       "                      [ 0.5208,  0.1273, -0.5352, -0.2052],\n",
       "                      [ 1.0770,  1.8257,  1.3237,  0.1908]]),\n",
       "       ),\n",
       ")"
      ]
     },
     "execution_count": 9,
     "metadata": {},
     "output_type": "execute_result"
    }
   ],
   "source": [
    "b"
   ]
  },
  {
   "cell_type": "code",
   "execution_count": 10,
   "id": "43ef8ea3",
   "metadata": {
    "execution": {
     "iopub.execute_input": "2023-02-27T13:05:21.392047Z",
     "iopub.status.busy": "2023-02-27T13:05:21.391746Z",
     "iopub.status.idle": "2023-02-27T13:05:21.398965Z",
     "shell.execute_reply": "2023-02-27T13:05:21.397719Z"
    }
   },
   "outputs": [
    {
     "data": {
      "text/plain": [
       "tensor([[-0.6252, -0.2727,  0.3005],\n",
       "        [ 0.0538, -0.6707,  1.2123]])"
      ]
     },
     "execution_count": 10,
     "metadata": {},
     "output_type": "execute_result"
    }
   ],
   "source": [
    "b.a"
   ]
  },
  {
   "cell_type": "code",
   "execution_count": 11,
   "id": "b785ab72",
   "metadata": {
    "execution": {
     "iopub.execute_input": "2023-02-27T13:05:21.404303Z",
     "iopub.status.busy": "2023-02-27T13:05:21.403947Z",
     "iopub.status.idle": "2023-02-27T13:05:26.877486Z",
     "shell.execute_reply": "2023-02-27T13:05:26.876410Z"
    }
   },
   "outputs": [
    {
     "name": "stdout",
     "output_type": "stream",
     "text": [
      "67.1 ns ± 1.08 ns per loop (mean ± std. dev. of 7 runs, 10,000,000 loops each)\n"
     ]
    }
   ],
   "source": [
    "%timeit b.a"
   ]
  },
  {
   "cell_type": "code",
   "execution_count": 12,
   "id": "ad54dc69",
   "metadata": {
    "execution": {
     "iopub.execute_input": "2023-02-27T13:05:26.881420Z",
     "iopub.status.busy": "2023-02-27T13:05:26.881142Z",
     "iopub.status.idle": "2023-02-27T13:05:26.889999Z",
     "shell.execute_reply": "2023-02-27T13:05:26.888882Z"
    }
   },
   "outputs": [
    {
     "data": {
      "text/plain": [
       "Batch(\n",
       "    a: tensor([[ 0.4090,  1.7419,  1.7487],\n",
       "               [-0.3035,  1.7611,  0.4870]]),\n",
       "    x: Batch(\n",
       "           c: tensor([[-0.4248, -0.0462,  1.1552, -0.5352],\n",
       "                      [ 0.5208,  0.1273, -0.5352, -0.2052],\n",
       "                      [ 1.0770,  1.8257,  1.3237,  0.1908]]),\n",
       "       ),\n",
       ")"
      ]
     },
     "execution_count": 12,
     "metadata": {},
     "output_type": "execute_result"
    }
   ],
   "source": [
    "new_value = torch.randn(2, 3)\n",
    "b.a = new_value\n",
    "\n",
    "b"
   ]
  },
  {
   "cell_type": "code",
   "execution_count": 13,
   "id": "29b1d0bf",
   "metadata": {
    "execution": {
     "iopub.execute_input": "2023-02-27T13:05:26.893011Z",
     "iopub.status.busy": "2023-02-27T13:05:26.892722Z",
     "iopub.status.idle": "2023-02-27T13:05:31.946588Z",
     "shell.execute_reply": "2023-02-27T13:05:31.945540Z"
    }
   },
   "outputs": [
    {
     "name": "stdout",
     "output_type": "stream",
     "text": [
      "625 ns ± 10.9 ns per loop (mean ± std. dev. of 7 runs, 1,000,000 loops each)\n"
     ]
    }
   ],
   "source": [
    "%timeit b.a = new_value"
   ]
  },
  {
   "cell_type": "markdown",
   "id": "b61ad1d0",
   "metadata": {},
   "source": [
    "## Initialization"
   ]
  },
  {
   "cell_type": "markdown",
   "id": "d70f0d54",
   "metadata": {},
   "source": [
    "### TreeValue's Initialization"
   ]
  },
  {
   "cell_type": "code",
   "execution_count": 14,
   "id": "d32a679b",
   "metadata": {
    "execution": {
     "iopub.execute_input": "2023-02-27T13:05:31.950749Z",
     "iopub.status.busy": "2023-02-27T13:05:31.949967Z",
     "iopub.status.idle": "2023-02-27T13:05:39.956065Z",
     "shell.execute_reply": "2023-02-27T13:05:39.955009Z"
    }
   },
   "outputs": [
    {
     "name": "stdout",
     "output_type": "stream",
     "text": [
      "983 ns ± 9.15 ns per loop (mean ± std. dev. of 7 runs, 1,000,000 loops each)\n"
     ]
    }
   ],
   "source": [
    "%timeit FastTreeValue(_TREE_DATA_1)"
   ]
  },
  {
   "cell_type": "markdown",
   "id": "24f3707b",
   "metadata": {},
   "source": [
    "### Tianshou Batch's Initialization"
   ]
  },
  {
   "cell_type": "code",
   "execution_count": 15,
   "id": "ac3958df",
   "metadata": {
    "execution": {
     "iopub.execute_input": "2023-02-27T13:05:39.959757Z",
     "iopub.status.busy": "2023-02-27T13:05:39.959238Z",
     "iopub.status.idle": "2023-02-27T13:05:51.213418Z",
     "shell.execute_reply": "2023-02-27T13:05:51.212372Z"
    }
   },
   "outputs": [
    {
     "name": "stdout",
     "output_type": "stream",
     "text": [
      "13.9 µs ± 170 ns per loop (mean ± std. dev. of 7 runs, 100,000 loops each)\n"
     ]
    }
   ],
   "source": [
    "%timeit Batch(**_TREE_DATA_1)"
   ]
  },
  {
   "cell_type": "markdown",
   "id": "1ab82e2d",
   "metadata": {},
   "source": [
    "## Deep Copy Operation"
   ]
  },
  {
   "cell_type": "code",
   "execution_count": 16,
   "id": "210a9442",
   "metadata": {
    "execution": {
     "iopub.execute_input": "2023-02-27T13:05:51.217346Z",
     "iopub.status.busy": "2023-02-27T13:05:51.217009Z",
     "iopub.status.idle": "2023-02-27T13:05:51.222361Z",
     "shell.execute_reply": "2023-02-27T13:05:51.221415Z"
    }
   },
   "outputs": [],
   "source": [
    "import copy"
   ]
  },
  {
   "cell_type": "markdown",
   "id": "5a736274",
   "metadata": {},
   "source": [
    "### Deep Copy of TreeValue"
   ]
  },
  {
   "cell_type": "code",
   "execution_count": 17,
   "id": "f9bcadd6",
   "metadata": {
    "execution": {
     "iopub.execute_input": "2023-02-27T13:05:51.226182Z",
     "iopub.status.busy": "2023-02-27T13:05:51.225645Z",
     "iopub.status.idle": "2023-02-27T13:05:53.623521Z",
     "shell.execute_reply": "2023-02-27T13:05:53.622649Z"
    }
   },
   "outputs": [
    {
     "name": "stdout",
     "output_type": "stream",
     "text": [
      "292 µs ± 14.1 µs per loop (mean ± std. dev. of 7 runs, 1,000 loops each)\n"
     ]
    }
   ],
   "source": [
    "t3 = FastTreeValue(_TREE_DATA_3)\n",
    "%timeit copy.deepcopy(t3)"
   ]
  },
  {
   "cell_type": "markdown",
   "id": "bf8be7ea",
   "metadata": {},
   "source": [
    "### Deep Copy of Tianshou Batch"
   ]
  },
  {
   "cell_type": "code",
   "execution_count": 18,
   "id": "91998e6f",
   "metadata": {
    "execution": {
     "iopub.execute_input": "2023-02-27T13:05:53.627305Z",
     "iopub.status.busy": "2023-02-27T13:05:53.626736Z",
     "iopub.status.idle": "2023-02-27T13:05:55.804256Z",
     "shell.execute_reply": "2023-02-27T13:05:55.803280Z"
    }
   },
   "outputs": [
    {
     "name": "stdout",
     "output_type": "stream",
     "text": [
      "267 µs ± 6.25 µs per loop (mean ± std. dev. of 7 runs, 1,000 loops each)\n"
     ]
    }
   ],
   "source": [
    "b3 = Batch(**_TREE_DATA_3)\n",
    "%timeit copy.deepcopy(b3)"
   ]
  },
  {
   "cell_type": "markdown",
   "id": "223162fb",
   "metadata": {},
   "source": [
    "## Stack, Concat and Split Operation"
   ]
  },
  {
   "cell_type": "markdown",
   "id": "85fa4a73",
   "metadata": {},
   "source": [
    "### Performance of TreeValue"
   ]
  },
  {
   "cell_type": "code",
   "execution_count": 19,
   "id": "a0c2b697",
   "metadata": {
    "execution": {
     "iopub.execute_input": "2023-02-27T13:05:55.808211Z",
     "iopub.status.busy": "2023-02-27T13:05:55.807908Z",
     "iopub.status.idle": "2023-02-27T13:05:55.814759Z",
     "shell.execute_reply": "2023-02-27T13:05:55.812499Z"
    }
   },
   "outputs": [],
   "source": [
    "trees = [FastTreeValue(_TREE_DATA_2) for _ in range(8)]"
   ]
  },
  {
   "cell_type": "code",
   "execution_count": 20,
   "id": "017ea5a5",
   "metadata": {
    "execution": {
     "iopub.execute_input": "2023-02-27T13:05:55.818412Z",
     "iopub.status.busy": "2023-02-27T13:05:55.818073Z",
     "iopub.status.idle": "2023-02-27T13:05:55.828390Z",
     "shell.execute_reply": "2023-02-27T13:05:55.827297Z"
    }
   },
   "outputs": [
    {
     "data": {
      "text/plain": [
       "<FastTreeValue 0x7f759e75b7f0>\n",
       "├── 'a' --> tensor([[[-0.6252, -0.2727,  0.3005],\n",
       "│                    [ 0.0538, -0.6707,  1.2123]],\n",
       "│           \n",
       "│                   [[-0.6252, -0.2727,  0.3005],\n",
       "│                    [ 0.0538, -0.6707,  1.2123]],\n",
       "│           \n",
       "│                   [[-0.6252, -0.2727,  0.3005],\n",
       "│                    [ 0.0538, -0.6707,  1.2123]],\n",
       "│           \n",
       "│                   [[-0.6252, -0.2727,  0.3005],\n",
       "│                    [ 0.0538, -0.6707,  1.2123]],\n",
       "│           \n",
       "│                   [[-0.6252, -0.2727,  0.3005],\n",
       "│                    [ 0.0538, -0.6707,  1.2123]],\n",
       "│           \n",
       "│                   [[-0.6252, -0.2727,  0.3005],\n",
       "│                    [ 0.0538, -0.6707,  1.2123]],\n",
       "│           \n",
       "│                   [[-0.6252, -0.2727,  0.3005],\n",
       "│                    [ 0.0538, -0.6707,  1.2123]],\n",
       "│           \n",
       "│                   [[-0.6252, -0.2727,  0.3005],\n",
       "│                    [ 0.0538, -0.6707,  1.2123]]])\n",
       "└── 'x' --> <FastTreeValue 0x7f759ed8ea90>\n",
       "    └── 'c' --> tensor([[[-0.4248, -0.0462,  1.1552, -0.5352],\n",
       "                         [ 0.5208,  0.1273, -0.5352, -0.2052],\n",
       "                         [ 1.0770,  1.8257,  1.3237,  0.1908]],\n",
       "                \n",
       "                        [[-0.4248, -0.0462,  1.1552, -0.5352],\n",
       "                         [ 0.5208,  0.1273, -0.5352, -0.2052],\n",
       "                         [ 1.0770,  1.8257,  1.3237,  0.1908]],\n",
       "                \n",
       "                        [[-0.4248, -0.0462,  1.1552, -0.5352],\n",
       "                         [ 0.5208,  0.1273, -0.5352, -0.2052],\n",
       "                         [ 1.0770,  1.8257,  1.3237,  0.1908]],\n",
       "                \n",
       "                        [[-0.4248, -0.0462,  1.1552, -0.5352],\n",
       "                         [ 0.5208,  0.1273, -0.5352, -0.2052],\n",
       "                         [ 1.0770,  1.8257,  1.3237,  0.1908]],\n",
       "                \n",
       "                        [[-0.4248, -0.0462,  1.1552, -0.5352],\n",
       "                         [ 0.5208,  0.1273, -0.5352, -0.2052],\n",
       "                         [ 1.0770,  1.8257,  1.3237,  0.1908]],\n",
       "                \n",
       "                        [[-0.4248, -0.0462,  1.1552, -0.5352],\n",
       "                         [ 0.5208,  0.1273, -0.5352, -0.2052],\n",
       "                         [ 1.0770,  1.8257,  1.3237,  0.1908]],\n",
       "                \n",
       "                        [[-0.4248, -0.0462,  1.1552, -0.5352],\n",
       "                         [ 0.5208,  0.1273, -0.5352, -0.2052],\n",
       "                         [ 1.0770,  1.8257,  1.3237,  0.1908]],\n",
       "                \n",
       "                        [[-0.4248, -0.0462,  1.1552, -0.5352],\n",
       "                         [ 0.5208,  0.1273, -0.5352, -0.2052],\n",
       "                         [ 1.0770,  1.8257,  1.3237,  0.1908]]])"
      ]
     },
     "execution_count": 20,
     "metadata": {},
     "output_type": "execute_result"
    }
   ],
   "source": [
    "t_stack = FastTreeValue.func(subside=True)(torch.stack)\n",
    "\n",
    "t_stack(trees)"
   ]
  },
  {
   "cell_type": "code",
   "execution_count": 21,
   "id": "f8b3f415",
   "metadata": {
    "execution": {
     "iopub.execute_input": "2023-02-27T13:05:55.832453Z",
     "iopub.status.busy": "2023-02-27T13:05:55.832199Z",
     "iopub.status.idle": "2023-02-27T13:05:59.367035Z",
     "shell.execute_reply": "2023-02-27T13:05:59.366098Z"
    }
   },
   "outputs": [
    {
     "name": "stdout",
     "output_type": "stream",
     "text": [
      "43.6 µs ± 881 ns per loop (mean ± std. dev. of 7 runs, 10,000 loops each)\n"
     ]
    }
   ],
   "source": [
    "%timeit t_stack(trees)"
   ]
  },
  {
   "cell_type": "code",
   "execution_count": 22,
   "id": "94b56771",
   "metadata": {
    "execution": {
     "iopub.execute_input": "2023-02-27T13:05:59.370448Z",
     "iopub.status.busy": "2023-02-27T13:05:59.370135Z",
     "iopub.status.idle": "2023-02-27T13:05:59.380746Z",
     "shell.execute_reply": "2023-02-27T13:05:59.379793Z"
    }
   },
   "outputs": [
    {
     "data": {
      "text/plain": [
       "<FastTreeValue 0x7f759e7770a0>\n",
       "├── 'a' --> tensor([[-0.6252, -0.2727,  0.3005],\n",
       "│                   [ 0.0538, -0.6707,  1.2123],\n",
       "│                   [-0.6252, -0.2727,  0.3005],\n",
       "│                   [ 0.0538, -0.6707,  1.2123],\n",
       "│                   [-0.6252, -0.2727,  0.3005],\n",
       "│                   [ 0.0538, -0.6707,  1.2123],\n",
       "│                   [-0.6252, -0.2727,  0.3005],\n",
       "│                   [ 0.0538, -0.6707,  1.2123],\n",
       "│                   [-0.6252, -0.2727,  0.3005],\n",
       "│                   [ 0.0538, -0.6707,  1.2123],\n",
       "│                   [-0.6252, -0.2727,  0.3005],\n",
       "│                   [ 0.0538, -0.6707,  1.2123],\n",
       "│                   [-0.6252, -0.2727,  0.3005],\n",
       "│                   [ 0.0538, -0.6707,  1.2123],\n",
       "│                   [-0.6252, -0.2727,  0.3005],\n",
       "│                   [ 0.0538, -0.6707,  1.2123]])\n",
       "└── 'x' --> <FastTreeValue 0x7f759e777cd0>\n",
       "    └── 'c' --> tensor([[-0.4248, -0.0462,  1.1552, -0.5352],\n",
       "                        [ 0.5208,  0.1273, -0.5352, -0.2052],\n",
       "                        [ 1.0770,  1.8257,  1.3237,  0.1908],\n",
       "                        [-0.4248, -0.0462,  1.1552, -0.5352],\n",
       "                        [ 0.5208,  0.1273, -0.5352, -0.2052],\n",
       "                        [ 1.0770,  1.8257,  1.3237,  0.1908],\n",
       "                        [-0.4248, -0.0462,  1.1552, -0.5352],\n",
       "                        [ 0.5208,  0.1273, -0.5352, -0.2052],\n",
       "                        [ 1.0770,  1.8257,  1.3237,  0.1908],\n",
       "                        [-0.4248, -0.0462,  1.1552, -0.5352],\n",
       "                        [ 0.5208,  0.1273, -0.5352, -0.2052],\n",
       "                        [ 1.0770,  1.8257,  1.3237,  0.1908],\n",
       "                        [-0.4248, -0.0462,  1.1552, -0.5352],\n",
       "                        [ 0.5208,  0.1273, -0.5352, -0.2052],\n",
       "                        [ 1.0770,  1.8257,  1.3237,  0.1908],\n",
       "                        [-0.4248, -0.0462,  1.1552, -0.5352],\n",
       "                        [ 0.5208,  0.1273, -0.5352, -0.2052],\n",
       "                        [ 1.0770,  1.8257,  1.3237,  0.1908],\n",
       "                        [-0.4248, -0.0462,  1.1552, -0.5352],\n",
       "                        [ 0.5208,  0.1273, -0.5352, -0.2052],\n",
       "                        [ 1.0770,  1.8257,  1.3237,  0.1908],\n",
       "                        [-0.4248, -0.0462,  1.1552, -0.5352],\n",
       "                        [ 0.5208,  0.1273, -0.5352, -0.2052],\n",
       "                        [ 1.0770,  1.8257,  1.3237,  0.1908]])"
      ]
     },
     "execution_count": 22,
     "metadata": {},
     "output_type": "execute_result"
    }
   ],
   "source": [
    "t_cat = FastTreeValue.func(subside=True)(torch.cat)\n",
    "\n",
    "t_cat(trees)"
   ]
  },
  {
   "cell_type": "code",
   "execution_count": 23,
   "id": "5e9c06a6",
   "metadata": {
    "execution": {
     "iopub.execute_input": "2023-02-27T13:05:59.383956Z",
     "iopub.status.busy": "2023-02-27T13:05:59.383676Z",
     "iopub.status.idle": "2023-02-27T13:06:02.689067Z",
     "shell.execute_reply": "2023-02-27T13:06:02.688028Z"
    }
   },
   "outputs": [
    {
     "name": "stdout",
     "output_type": "stream",
     "text": [
      "40.6 µs ± 1.01 µs per loop (mean ± std. dev. of 7 runs, 10,000 loops each)\n"
     ]
    }
   ],
   "source": [
    "%timeit t_cat(trees)"
   ]
  },
  {
   "cell_type": "code",
   "execution_count": 24,
   "id": "a3ab5c8f",
   "metadata": {
    "execution": {
     "iopub.execute_input": "2023-02-27T13:06:02.693127Z",
     "iopub.status.busy": "2023-02-27T13:06:02.692553Z",
     "iopub.status.idle": "2023-02-27T13:06:09.129950Z",
     "shell.execute_reply": "2023-02-27T13:06:09.128897Z"
    }
   },
   "outputs": [
    {
     "name": "stdout",
     "output_type": "stream",
     "text": [
      "79.4 µs ± 1.5 µs per loop (mean ± std. dev. of 7 runs, 10,000 loops each)\n"
     ]
    }
   ],
   "source": [
    "t_split = FastTreeValue.func(rise=True)(torch.split)\n",
    "tree = FastTreeValue({\n",
    "    'obs': torch.randn(8, 4, 84, 84),\n",
    "    'action': torch.randint(0, 6, size=(8, 1,)),\n",
    "    'reward': torch.rand(8, 1),\n",
    "})\n",
    "\n",
    "%timeit t_split(tree, 1)"
   ]
  },
  {
   "cell_type": "markdown",
   "id": "31c3ec0b",
   "metadata": {},
   "source": [
    "### Performance of Tianshou Batch"
   ]
  },
  {
   "cell_type": "code",
   "execution_count": 25,
   "id": "9ead828a",
   "metadata": {
    "execution": {
     "iopub.execute_input": "2023-02-27T13:06:09.133854Z",
     "iopub.status.busy": "2023-02-27T13:06:09.133411Z",
     "iopub.status.idle": "2023-02-27T13:06:09.143361Z",
     "shell.execute_reply": "2023-02-27T13:06:09.142536Z"
    }
   },
   "outputs": [
    {
     "data": {
      "text/plain": [
       "Batch(\n",
       "    a: tensor([[[-0.6252, -0.2727,  0.3005],\n",
       "                [ 0.0538, -0.6707,  1.2123]],\n",
       "       \n",
       "               [[-0.6252, -0.2727,  0.3005],\n",
       "                [ 0.0538, -0.6707,  1.2123]],\n",
       "       \n",
       "               [[-0.6252, -0.2727,  0.3005],\n",
       "                [ 0.0538, -0.6707,  1.2123]],\n",
       "       \n",
       "               [[-0.6252, -0.2727,  0.3005],\n",
       "                [ 0.0538, -0.6707,  1.2123]],\n",
       "       \n",
       "               [[-0.6252, -0.2727,  0.3005],\n",
       "                [ 0.0538, -0.6707,  1.2123]],\n",
       "       \n",
       "               [[-0.6252, -0.2727,  0.3005],\n",
       "                [ 0.0538, -0.6707,  1.2123]],\n",
       "       \n",
       "               [[-0.6252, -0.2727,  0.3005],\n",
       "                [ 0.0538, -0.6707,  1.2123]],\n",
       "       \n",
       "               [[-0.6252, -0.2727,  0.3005],\n",
       "                [ 0.0538, -0.6707,  1.2123]]]),\n",
       "    x: Batch(\n",
       "           c: tensor([[[-0.4248, -0.0462,  1.1552, -0.5352],\n",
       "                       [ 0.5208,  0.1273, -0.5352, -0.2052],\n",
       "                       [ 1.0770,  1.8257,  1.3237,  0.1908]],\n",
       "              \n",
       "                      [[-0.4248, -0.0462,  1.1552, -0.5352],\n",
       "                       [ 0.5208,  0.1273, -0.5352, -0.2052],\n",
       "                       [ 1.0770,  1.8257,  1.3237,  0.1908]],\n",
       "              \n",
       "                      [[-0.4248, -0.0462,  1.1552, -0.5352],\n",
       "                       [ 0.5208,  0.1273, -0.5352, -0.2052],\n",
       "                       [ 1.0770,  1.8257,  1.3237,  0.1908]],\n",
       "              \n",
       "                      [[-0.4248, -0.0462,  1.1552, -0.5352],\n",
       "                       [ 0.5208,  0.1273, -0.5352, -0.2052],\n",
       "                       [ 1.0770,  1.8257,  1.3237,  0.1908]],\n",
       "              \n",
       "                      [[-0.4248, -0.0462,  1.1552, -0.5352],\n",
       "                       [ 0.5208,  0.1273, -0.5352, -0.2052],\n",
       "                       [ 1.0770,  1.8257,  1.3237,  0.1908]],\n",
       "              \n",
       "                      [[-0.4248, -0.0462,  1.1552, -0.5352],\n",
       "                       [ 0.5208,  0.1273, -0.5352, -0.2052],\n",
       "                       [ 1.0770,  1.8257,  1.3237,  0.1908]],\n",
       "              \n",
       "                      [[-0.4248, -0.0462,  1.1552, -0.5352],\n",
       "                       [ 0.5208,  0.1273, -0.5352, -0.2052],\n",
       "                       [ 1.0770,  1.8257,  1.3237,  0.1908]],\n",
       "              \n",
       "                      [[-0.4248, -0.0462,  1.1552, -0.5352],\n",
       "                       [ 0.5208,  0.1273, -0.5352, -0.2052],\n",
       "                       [ 1.0770,  1.8257,  1.3237,  0.1908]]]),\n",
       "       ),\n",
       ")"
      ]
     },
     "execution_count": 25,
     "metadata": {},
     "output_type": "execute_result"
    }
   ],
   "source": [
    "batches = [Batch(**_TREE_DATA_2) for _ in range(8)]\n",
    "\n",
    "Batch.stack(batches)"
   ]
  },
  {
   "cell_type": "code",
   "execution_count": 26,
   "id": "ec9037a3",
   "metadata": {
    "execution": {
     "iopub.execute_input": "2023-02-27T13:06:09.147025Z",
     "iopub.status.busy": "2023-02-27T13:06:09.146244Z",
     "iopub.status.idle": "2023-02-27T13:06:17.681057Z",
     "shell.execute_reply": "2023-02-27T13:06:17.679983Z"
    }
   },
   "outputs": [
    {
     "name": "stdout",
     "output_type": "stream",
     "text": [
      "105 µs ± 593 ns per loop (mean ± std. dev. of 7 runs, 10,000 loops each)\n"
     ]
    }
   ],
   "source": [
    "%timeit Batch.stack(batches)"
   ]
  },
  {
   "cell_type": "code",
   "execution_count": 27,
   "id": "cb8ab77e",
   "metadata": {
    "execution": {
     "iopub.execute_input": "2023-02-27T13:06:17.684809Z",
     "iopub.status.busy": "2023-02-27T13:06:17.684253Z",
     "iopub.status.idle": "2023-02-27T13:06:17.694809Z",
     "shell.execute_reply": "2023-02-27T13:06:17.693793Z"
    }
   },
   "outputs": [
    {
     "data": {
      "text/plain": [
       "Batch(\n",
       "    a: tensor([[-0.6252, -0.2727,  0.3005],\n",
       "               [ 0.0538, -0.6707,  1.2123],\n",
       "               [-0.6252, -0.2727,  0.3005],\n",
       "               [ 0.0538, -0.6707,  1.2123],\n",
       "               [-0.6252, -0.2727,  0.3005],\n",
       "               [ 0.0538, -0.6707,  1.2123],\n",
       "               [-0.6252, -0.2727,  0.3005],\n",
       "               [ 0.0538, -0.6707,  1.2123],\n",
       "               [-0.6252, -0.2727,  0.3005],\n",
       "               [ 0.0538, -0.6707,  1.2123],\n",
       "               [-0.6252, -0.2727,  0.3005],\n",
       "               [ 0.0538, -0.6707,  1.2123],\n",
       "               [-0.6252, -0.2727,  0.3005],\n",
       "               [ 0.0538, -0.6707,  1.2123],\n",
       "               [-0.6252, -0.2727,  0.3005],\n",
       "               [ 0.0538, -0.6707,  1.2123]]),\n",
       "    x: Batch(\n",
       "           c: tensor([[-0.4248, -0.0462,  1.1552, -0.5352],\n",
       "                      [ 0.5208,  0.1273, -0.5352, -0.2052],\n",
       "                      [ 1.0770,  1.8257,  1.3237,  0.1908],\n",
       "                      [-0.4248, -0.0462,  1.1552, -0.5352],\n",
       "                      [ 0.5208,  0.1273, -0.5352, -0.2052],\n",
       "                      [ 1.0770,  1.8257,  1.3237,  0.1908],\n",
       "                      [-0.4248, -0.0462,  1.1552, -0.5352],\n",
       "                      [ 0.5208,  0.1273, -0.5352, -0.2052],\n",
       "                      [ 1.0770,  1.8257,  1.3237,  0.1908],\n",
       "                      [-0.4248, -0.0462,  1.1552, -0.5352],\n",
       "                      [ 0.5208,  0.1273, -0.5352, -0.2052],\n",
       "                      [ 1.0770,  1.8257,  1.3237,  0.1908],\n",
       "                      [-0.4248, -0.0462,  1.1552, -0.5352],\n",
       "                      [ 0.5208,  0.1273, -0.5352, -0.2052],\n",
       "                      [ 1.0770,  1.8257,  1.3237,  0.1908],\n",
       "                      [-0.4248, -0.0462,  1.1552, -0.5352],\n",
       "                      [ 0.5208,  0.1273, -0.5352, -0.2052],\n",
       "                      [ 1.0770,  1.8257,  1.3237,  0.1908],\n",
       "                      [-0.4248, -0.0462,  1.1552, -0.5352],\n",
       "                      [ 0.5208,  0.1273, -0.5352, -0.2052],\n",
       "                      [ 1.0770,  1.8257,  1.3237,  0.1908],\n",
       "                      [-0.4248, -0.0462,  1.1552, -0.5352],\n",
       "                      [ 0.5208,  0.1273, -0.5352, -0.2052],\n",
       "                      [ 1.0770,  1.8257,  1.3237,  0.1908]]),\n",
       "       ),\n",
       ")"
      ]
     },
     "execution_count": 27,
     "metadata": {},
     "output_type": "execute_result"
    }
   ],
   "source": [
    "Batch.cat(batches)"
   ]
  },
  {
   "cell_type": "code",
   "execution_count": 28,
   "id": "18dfb045",
   "metadata": {
    "execution": {
     "iopub.execute_input": "2023-02-27T13:06:17.698585Z",
     "iopub.status.busy": "2023-02-27T13:06:17.697803Z",
     "iopub.status.idle": "2023-02-27T13:06:32.673539Z",
     "shell.execute_reply": "2023-02-27T13:06:32.672331Z"
    }
   },
   "outputs": [
    {
     "name": "stdout",
     "output_type": "stream",
     "text": [
      "185 µs ± 2.97 µs per loop (mean ± std. dev. of 7 runs, 10,000 loops each)\n"
     ]
    }
   ],
   "source": [
    "%timeit Batch.cat(batches)"
   ]
  },
  {
   "cell_type": "code",
   "execution_count": 29,
   "id": "c6688e51",
   "metadata": {
    "execution": {
     "iopub.execute_input": "2023-02-27T13:06:32.677570Z",
     "iopub.status.busy": "2023-02-27T13:06:32.677011Z",
     "iopub.status.idle": "2023-02-27T13:06:37.595110Z",
     "shell.execute_reply": "2023-02-27T13:06:37.594064Z"
    }
   },
   "outputs": [
    {
     "name": "stdout",
     "output_type": "stream",
     "text": [
      "602 µs ± 11.4 µs per loop (mean ± std. dev. of 7 runs, 1,000 loops each)\n"
     ]
    }
   ],
   "source": [
    "batch = Batch({\n",
    "    'obs': torch.randn(8, 4, 84, 84),\n",
    "    'action': torch.randint(0, 6, size=(8, 1,)),\n",
    "    'reward': torch.rand(8, 1)}\n",
    ")\n",
    "\n",
    "%timeit list(Batch.split(batch, 1, shuffle=False, merge_last=True))"
   ]
  },
  {
   "cell_type": "code",
   "execution_count": null,
   "id": "2539fbd9",
   "metadata": {},
   "outputs": [],
   "source": []
  }
 ],
 "metadata": {
  "kernelspec": {
   "display_name": "Python 3 (ipykernel)",
   "language": "python",
   "name": "python3"
  },
  "language_info": {
   "codemirror_mode": {
    "name": "ipython",
    "version": 3
   },
   "file_extension": ".py",
   "mimetype": "text/x-python",
   "name": "python",
   "nbconvert_exporter": "python",
   "pygments_lexer": "ipython3",
   "version": "3.8.16"
  }
 },
 "nbformat": 4,
 "nbformat_minor": 5
}
