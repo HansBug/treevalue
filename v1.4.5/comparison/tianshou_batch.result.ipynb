{
 "cells": [
  {
   "cell_type": "markdown",
   "id": "9d39d946",
   "metadata": {},
   "source": [
    "# Comparison Between TreeValue and Tianshou Batch"
   ]
  },
  {
   "cell_type": "markdown",
   "id": "3c6db2d4",
   "metadata": {},
   "source": [
    "In this section, we will take a look at the feature and performance of the [Tianshou Batch](https://github.com/thu-ml/tianshou) library, which is developed by Tsinghua Machine Learning Group."
   ]
  },
  {
   "cell_type": "markdown",
   "id": "069361b0",
   "metadata": {},
   "source": [
    "Before starting the comparison, let us define some thing."
   ]
  },
  {
   "cell_type": "code",
   "execution_count": 1,
   "id": "06fc8d26",
   "metadata": {
    "execution": {
     "iopub.execute_input": "2023-08-10T09:40:24.557401Z",
     "iopub.status.busy": "2023-08-10T09:40:24.557028Z",
     "iopub.status.idle": "2023-08-10T09:40:26.249519Z",
     "shell.execute_reply": "2023-08-10T09:40:26.248428Z"
    }
   },
   "outputs": [],
   "source": [
    "import torch \n",
    "\n",
    "_TREE_DATA_1 = {'a': 1, 'b': 2, 'x': {'c': 3, 'd': 4}}\n",
    "_TREE_DATA_2 = {\n",
    "    'a': torch.randn(2, 3), \n",
    "    'x': {\n",
    "        'c': torch.randn(3, 4)\n",
    "    },\n",
    "}\n",
    "_TREE_DATA_3 = {\n",
    "    'obs': torch.randn(4, 84, 84),\n",
    "    'action': torch.randint(0, 6, size=(1,)),\n",
    "    'reward': torch.rand(1),\n",
    "}"
   ]
  },
  {
   "cell_type": "markdown",
   "id": "83461b25",
   "metadata": {},
   "source": [
    "## Read and Write Operation"
   ]
  },
  {
   "cell_type": "markdown",
   "id": "067b3f73",
   "metadata": {},
   "source": [
    "Reading and writing are the two most common operations in the tree data structure based on the data model (TreeValue and Tianshou Batch both belong to this type), so this section will compare the reading and writing performance of these two libraries."
   ]
  },
  {
   "cell_type": "markdown",
   "id": "5d09a5b7",
   "metadata": {},
   "source": [
    "### TreeValue's Get and Set"
   ]
  },
  {
   "cell_type": "code",
   "execution_count": 2,
   "id": "9519c4bb",
   "metadata": {
    "execution": {
     "iopub.execute_input": "2023-08-10T09:40:26.254458Z",
     "iopub.status.busy": "2023-08-10T09:40:26.253908Z",
     "iopub.status.idle": "2023-08-10T09:40:26.291879Z",
     "shell.execute_reply": "2023-08-10T09:40:26.290901Z"
    }
   },
   "outputs": [],
   "source": [
    "from treevalue import FastTreeValue\n",
    "\n",
    "t = FastTreeValue(_TREE_DATA_2)"
   ]
  },
  {
   "cell_type": "code",
   "execution_count": 3,
   "id": "11c37677",
   "metadata": {
    "execution": {
     "iopub.execute_input": "2023-08-10T09:40:26.296925Z",
     "iopub.status.busy": "2023-08-10T09:40:26.296377Z",
     "iopub.status.idle": "2023-08-10T09:40:26.310927Z",
     "shell.execute_reply": "2023-08-10T09:40:26.310137Z"
    }
   },
   "outputs": [
    {
     "data": {
      "text/plain": [
       "<FastTreeValue 0x7f69c53d71c0>\n",
       "├── 'a' --> tensor([[-0.5861,  0.2685, -1.3736],\n",
       "│                   [-2.0538,  0.5553,  0.5723]])\n",
       "└── 'x' --> <FastTreeValue 0x7f69c53d73a0>\n",
       "    └── 'c' --> tensor([[-1.6836, -0.9774, -0.9544, -0.8893],\n",
       "                        [-1.4721,  1.3531, -0.2358, -0.4090],\n",
       "                        [-0.1170,  0.4426,  0.5064,  0.4661]])"
      ]
     },
     "execution_count": 3,
     "metadata": {},
     "output_type": "execute_result"
    }
   ],
   "source": [
    "t"
   ]
  },
  {
   "cell_type": "code",
   "execution_count": 4,
   "id": "fd70b0b9",
   "metadata": {
    "execution": {
     "iopub.execute_input": "2023-08-10T09:40:26.315236Z",
     "iopub.status.busy": "2023-08-10T09:40:26.314521Z",
     "iopub.status.idle": "2023-08-10T09:40:26.323614Z",
     "shell.execute_reply": "2023-08-10T09:40:26.322817Z"
    }
   },
   "outputs": [
    {
     "data": {
      "text/plain": [
       "tensor([[-0.5861,  0.2685, -1.3736],\n",
       "        [-2.0538,  0.5553,  0.5723]])"
      ]
     },
     "execution_count": 4,
     "metadata": {},
     "output_type": "execute_result"
    }
   ],
   "source": [
    "t.a"
   ]
  },
  {
   "cell_type": "code",
   "execution_count": 5,
   "id": "c18197bd",
   "metadata": {
    "execution": {
     "iopub.execute_input": "2023-08-10T09:40:26.327696Z",
     "iopub.status.busy": "2023-08-10T09:40:26.327104Z",
     "iopub.status.idle": "2023-08-10T09:40:33.542032Z",
     "shell.execute_reply": "2023-08-10T09:40:33.540772Z"
    }
   },
   "outputs": [
    {
     "name": "stdout",
     "output_type": "stream",
     "text": [
      "88.8 ns ± 0.115 ns per loop (mean ± std. dev. of 7 runs, 10,000,000 loops each)\n"
     ]
    }
   ],
   "source": [
    "%timeit t.a"
   ]
  },
  {
   "cell_type": "code",
   "execution_count": 6,
   "id": "bd52f867",
   "metadata": {
    "execution": {
     "iopub.execute_input": "2023-08-10T09:40:33.547334Z",
     "iopub.status.busy": "2023-08-10T09:40:33.547025Z",
     "iopub.status.idle": "2023-08-10T09:40:33.554339Z",
     "shell.execute_reply": "2023-08-10T09:40:33.553471Z"
    }
   },
   "outputs": [
    {
     "data": {
      "text/plain": [
       "<FastTreeValue 0x7f69c53d71c0>\n",
       "├── 'a' --> tensor([[-0.2431,  0.4169, -0.7225],\n",
       "│                   [-0.4205, -0.4230, -0.0410]])\n",
       "└── 'x' --> <FastTreeValue 0x7f69c53d73a0>\n",
       "    └── 'c' --> tensor([[-1.6836, -0.9774, -0.9544, -0.8893],\n",
       "                        [-1.4721,  1.3531, -0.2358, -0.4090],\n",
       "                        [-0.1170,  0.4426,  0.5064,  0.4661]])"
      ]
     },
     "execution_count": 6,
     "metadata": {},
     "output_type": "execute_result"
    }
   ],
   "source": [
    "new_value = torch.randn(2, 3)\n",
    "t.a = new_value\n",
    "\n",
    "t"
   ]
  },
  {
   "cell_type": "code",
   "execution_count": 7,
   "id": "bbe04d1c",
   "metadata": {
    "execution": {
     "iopub.execute_input": "2023-08-10T09:40:33.558317Z",
     "iopub.status.busy": "2023-08-10T09:40:33.557580Z",
     "iopub.status.idle": "2023-08-10T09:40:40.912426Z",
     "shell.execute_reply": "2023-08-10T09:40:40.911452Z"
    }
   },
   "outputs": [
    {
     "name": "stdout",
     "output_type": "stream",
     "text": [
      "90.6 ns ± 0.0868 ns per loop (mean ± std. dev. of 7 runs, 10,000,000 loops each)\n"
     ]
    }
   ],
   "source": [
    "%timeit t.a = new_value"
   ]
  },
  {
   "cell_type": "markdown",
   "id": "48c49731",
   "metadata": {},
   "source": [
    "### Tianshou Batch's Get and Set"
   ]
  },
  {
   "cell_type": "code",
   "execution_count": 8,
   "id": "f1bb14c1",
   "metadata": {
    "execution": {
     "iopub.execute_input": "2023-08-10T09:40:40.916696Z",
     "iopub.status.busy": "2023-08-10T09:40:40.916128Z",
     "iopub.status.idle": "2023-08-10T09:40:41.394654Z",
     "shell.execute_reply": "2023-08-10T09:40:41.393578Z"
    }
   },
   "outputs": [],
   "source": [
    "from tianshou.data import Batch\n",
    "\n",
    "b = Batch(**_TREE_DATA_2)"
   ]
  },
  {
   "cell_type": "code",
   "execution_count": 9,
   "id": "cb0777c3",
   "metadata": {
    "execution": {
     "iopub.execute_input": "2023-08-10T09:40:41.401765Z",
     "iopub.status.busy": "2023-08-10T09:40:41.401295Z",
     "iopub.status.idle": "2023-08-10T09:40:41.408866Z",
     "shell.execute_reply": "2023-08-10T09:40:41.408174Z"
    }
   },
   "outputs": [
    {
     "data": {
      "text/plain": [
       "Batch(\n",
       "    a: tensor([[-0.5861,  0.2685, -1.3736],\n",
       "               [-2.0538,  0.5553,  0.5723]]),\n",
       "    x: Batch(\n",
       "           c: tensor([[-1.6836, -0.9774, -0.9544, -0.8893],\n",
       "                      [-1.4721,  1.3531, -0.2358, -0.4090],\n",
       "                      [-0.1170,  0.4426,  0.5064,  0.4661]]),\n",
       "       ),\n",
       ")"
      ]
     },
     "execution_count": 9,
     "metadata": {},
     "output_type": "execute_result"
    }
   ],
   "source": [
    "b"
   ]
  },
  {
   "cell_type": "code",
   "execution_count": 10,
   "id": "43ef8ea3",
   "metadata": {
    "execution": {
     "iopub.execute_input": "2023-08-10T09:40:41.412858Z",
     "iopub.status.busy": "2023-08-10T09:40:41.412315Z",
     "iopub.status.idle": "2023-08-10T09:40:41.418358Z",
     "shell.execute_reply": "2023-08-10T09:40:41.417535Z"
    }
   },
   "outputs": [
    {
     "data": {
      "text/plain": [
       "tensor([[-0.5861,  0.2685, -1.3736],\n",
       "        [-2.0538,  0.5553,  0.5723]])"
      ]
     },
     "execution_count": 10,
     "metadata": {},
     "output_type": "execute_result"
    }
   ],
   "source": [
    "b.a"
   ]
  },
  {
   "cell_type": "code",
   "execution_count": 11,
   "id": "b785ab72",
   "metadata": {
    "execution": {
     "iopub.execute_input": "2023-08-10T09:40:41.422636Z",
     "iopub.status.busy": "2023-08-10T09:40:41.422195Z",
     "iopub.status.idle": "2023-08-10T09:40:47.695245Z",
     "shell.execute_reply": "2023-08-10T09:40:47.693995Z"
    }
   },
   "outputs": [
    {
     "name": "stdout",
     "output_type": "stream",
     "text": [
      "77.2 ns ± 0.0945 ns per loop (mean ± std. dev. of 7 runs, 10,000,000 loops each)\n"
     ]
    }
   ],
   "source": [
    "%timeit b.a"
   ]
  },
  {
   "cell_type": "code",
   "execution_count": 12,
   "id": "ad54dc69",
   "metadata": {
    "execution": {
     "iopub.execute_input": "2023-08-10T09:40:47.700511Z",
     "iopub.status.busy": "2023-08-10T09:40:47.699787Z",
     "iopub.status.idle": "2023-08-10T09:40:47.709082Z",
     "shell.execute_reply": "2023-08-10T09:40:47.708234Z"
    }
   },
   "outputs": [
    {
     "data": {
      "text/plain": [
       "Batch(\n",
       "    a: tensor([[-1.2895,  1.3824, -1.2652],\n",
       "               [-0.7815, -1.1886,  0.1977]]),\n",
       "    x: Batch(\n",
       "           c: tensor([[-1.6836, -0.9774, -0.9544, -0.8893],\n",
       "                      [-1.4721,  1.3531, -0.2358, -0.4090],\n",
       "                      [-0.1170,  0.4426,  0.5064,  0.4661]]),\n",
       "       ),\n",
       ")"
      ]
     },
     "execution_count": 12,
     "metadata": {},
     "output_type": "execute_result"
    }
   ],
   "source": [
    "new_value = torch.randn(2, 3)\n",
    "b.a = new_value\n",
    "\n",
    "b"
   ]
  },
  {
   "cell_type": "code",
   "execution_count": 13,
   "id": "29b1d0bf",
   "metadata": {
    "execution": {
     "iopub.execute_input": "2023-08-10T09:40:47.712875Z",
     "iopub.status.busy": "2023-08-10T09:40:47.712436Z",
     "iopub.status.idle": "2023-08-10T09:40:52.955254Z",
     "shell.execute_reply": "2023-08-10T09:40:52.952527Z"
    }
   },
   "outputs": [
    {
     "name": "stdout",
     "output_type": "stream",
     "text": [
      "645 ns ± 4.56 ns per loop (mean ± std. dev. of 7 runs, 1,000,000 loops each)\n"
     ]
    }
   ],
   "source": [
    "%timeit b.a = new_value"
   ]
  },
  {
   "cell_type": "markdown",
   "id": "b61ad1d0",
   "metadata": {},
   "source": [
    "## Initialization"
   ]
  },
  {
   "cell_type": "markdown",
   "id": "d70f0d54",
   "metadata": {},
   "source": [
    "### TreeValue's Initialization"
   ]
  },
  {
   "cell_type": "code",
   "execution_count": 14,
   "id": "d32a679b",
   "metadata": {
    "execution": {
     "iopub.execute_input": "2023-08-10T09:40:52.960502Z",
     "iopub.status.busy": "2023-08-10T09:40:52.959774Z",
     "iopub.status.idle": "2023-08-10T09:41:01.618281Z",
     "shell.execute_reply": "2023-08-10T09:41:01.617053Z"
    }
   },
   "outputs": [
    {
     "name": "stdout",
     "output_type": "stream",
     "text": [
      "1.06 µs ± 2.87 ns per loop (mean ± std. dev. of 7 runs, 1,000,000 loops each)\n"
     ]
    }
   ],
   "source": [
    "%timeit FastTreeValue(_TREE_DATA_1)"
   ]
  },
  {
   "cell_type": "markdown",
   "id": "24f3707b",
   "metadata": {},
   "source": [
    "### Tianshou Batch's Initialization"
   ]
  },
  {
   "cell_type": "code",
   "execution_count": 15,
   "id": "ac3958df",
   "metadata": {
    "execution": {
     "iopub.execute_input": "2023-08-10T09:41:01.622978Z",
     "iopub.status.busy": "2023-08-10T09:41:01.622401Z",
     "iopub.status.idle": "2023-08-10T09:41:12.048716Z",
     "shell.execute_reply": "2023-08-10T09:41:12.047719Z"
    }
   },
   "outputs": [
    {
     "name": "stdout",
     "output_type": "stream",
     "text": [
      "12.8 µs ± 17.7 ns per loop (mean ± std. dev. of 7 runs, 100,000 loops each)\n"
     ]
    }
   ],
   "source": [
    "%timeit Batch(**_TREE_DATA_1)"
   ]
  },
  {
   "cell_type": "markdown",
   "id": "1ab82e2d",
   "metadata": {},
   "source": [
    "## Deep Copy Operation"
   ]
  },
  {
   "cell_type": "code",
   "execution_count": 16,
   "id": "210a9442",
   "metadata": {
    "execution": {
     "iopub.execute_input": "2023-08-10T09:41:12.053575Z",
     "iopub.status.busy": "2023-08-10T09:41:12.052814Z",
     "iopub.status.idle": "2023-08-10T09:41:12.057581Z",
     "shell.execute_reply": "2023-08-10T09:41:12.056841Z"
    }
   },
   "outputs": [],
   "source": [
    "import copy"
   ]
  },
  {
   "cell_type": "markdown",
   "id": "5a736274",
   "metadata": {},
   "source": [
    "### Deep Copy of TreeValue"
   ]
  },
  {
   "cell_type": "code",
   "execution_count": 17,
   "id": "f9bcadd6",
   "metadata": {
    "execution": {
     "iopub.execute_input": "2023-08-10T09:41:12.061547Z",
     "iopub.status.busy": "2023-08-10T09:41:12.060788Z",
     "iopub.status.idle": "2023-08-10T09:41:25.673070Z",
     "shell.execute_reply": "2023-08-10T09:41:25.672280Z"
    }
   },
   "outputs": [
    {
     "name": "stdout",
     "output_type": "stream",
     "text": [
      "168 µs ± 668 ns per loop (mean ± std. dev. of 7 runs, 10,000 loops each)\n"
     ]
    }
   ],
   "source": [
    "t3 = FastTreeValue(_TREE_DATA_3)\n",
    "%timeit copy.deepcopy(t3)"
   ]
  },
  {
   "cell_type": "markdown",
   "id": "bf8be7ea",
   "metadata": {},
   "source": [
    "### Deep Copy of Tianshou Batch"
   ]
  },
  {
   "cell_type": "code",
   "execution_count": 18,
   "id": "91998e6f",
   "metadata": {
    "execution": {
     "iopub.execute_input": "2023-08-10T09:41:25.677420Z",
     "iopub.status.busy": "2023-08-10T09:41:25.676916Z",
     "iopub.status.idle": "2023-08-10T09:41:39.333707Z",
     "shell.execute_reply": "2023-08-10T09:41:39.332960Z"
    }
   },
   "outputs": [
    {
     "name": "stdout",
     "output_type": "stream",
     "text": [
      "168 µs ± 1.05 µs per loop (mean ± std. dev. of 7 runs, 10,000 loops each)\n"
     ]
    }
   ],
   "source": [
    "b3 = Batch(**_TREE_DATA_3)\n",
    "%timeit copy.deepcopy(b3)"
   ]
  },
  {
   "cell_type": "markdown",
   "id": "223162fb",
   "metadata": {},
   "source": [
    "## Stack, Concat and Split Operation"
   ]
  },
  {
   "cell_type": "markdown",
   "id": "85fa4a73",
   "metadata": {},
   "source": [
    "### Performance of TreeValue"
   ]
  },
  {
   "cell_type": "code",
   "execution_count": 19,
   "id": "a0c2b697",
   "metadata": {
    "execution": {
     "iopub.execute_input": "2023-08-10T09:41:39.338100Z",
     "iopub.status.busy": "2023-08-10T09:41:39.337586Z",
     "iopub.status.idle": "2023-08-10T09:41:39.343726Z",
     "shell.execute_reply": "2023-08-10T09:41:39.342895Z"
    }
   },
   "outputs": [],
   "source": [
    "trees = [FastTreeValue(_TREE_DATA_2) for _ in range(8)]"
   ]
  },
  {
   "cell_type": "code",
   "execution_count": 20,
   "id": "017ea5a5",
   "metadata": {
    "execution": {
     "iopub.execute_input": "2023-08-10T09:41:39.347559Z",
     "iopub.status.busy": "2023-08-10T09:41:39.347253Z",
     "iopub.status.idle": "2023-08-10T09:41:39.356586Z",
     "shell.execute_reply": "2023-08-10T09:41:39.355737Z"
    }
   },
   "outputs": [
    {
     "data": {
      "text/plain": [
       "<FastTreeValue 0x7f69c5452dc0>\n",
       "├── 'a' --> tensor([[[-0.5861,  0.2685, -1.3736],\n",
       "│                    [-2.0538,  0.5553,  0.5723]],\n",
       "│           \n",
       "│                   [[-0.5861,  0.2685, -1.3736],\n",
       "│                    [-2.0538,  0.5553,  0.5723]],\n",
       "│           \n",
       "│                   [[-0.5861,  0.2685, -1.3736],\n",
       "│                    [-2.0538,  0.5553,  0.5723]],\n",
       "│           \n",
       "│                   [[-0.5861,  0.2685, -1.3736],\n",
       "│                    [-2.0538,  0.5553,  0.5723]],\n",
       "│           \n",
       "│                   [[-0.5861,  0.2685, -1.3736],\n",
       "│                    [-2.0538,  0.5553,  0.5723]],\n",
       "│           \n",
       "│                   [[-0.5861,  0.2685, -1.3736],\n",
       "│                    [-2.0538,  0.5553,  0.5723]],\n",
       "│           \n",
       "│                   [[-0.5861,  0.2685, -1.3736],\n",
       "│                    [-2.0538,  0.5553,  0.5723]],\n",
       "│           \n",
       "│                   [[-0.5861,  0.2685, -1.3736],\n",
       "│                    [-2.0538,  0.5553,  0.5723]]])\n",
       "└── 'x' --> <FastTreeValue 0x7f68f5584ca0>\n",
       "    └── 'c' --> tensor([[[-1.6836, -0.9774, -0.9544, -0.8893],\n",
       "                         [-1.4721,  1.3531, -0.2358, -0.4090],\n",
       "                         [-0.1170,  0.4426,  0.5064,  0.4661]],\n",
       "                \n",
       "                        [[-1.6836, -0.9774, -0.9544, -0.8893],\n",
       "                         [-1.4721,  1.3531, -0.2358, -0.4090],\n",
       "                         [-0.1170,  0.4426,  0.5064,  0.4661]],\n",
       "                \n",
       "                        [[-1.6836, -0.9774, -0.9544, -0.8893],\n",
       "                         [-1.4721,  1.3531, -0.2358, -0.4090],\n",
       "                         [-0.1170,  0.4426,  0.5064,  0.4661]],\n",
       "                \n",
       "                        [[-1.6836, -0.9774, -0.9544, -0.8893],\n",
       "                         [-1.4721,  1.3531, -0.2358, -0.4090],\n",
       "                         [-0.1170,  0.4426,  0.5064,  0.4661]],\n",
       "                \n",
       "                        [[-1.6836, -0.9774, -0.9544, -0.8893],\n",
       "                         [-1.4721,  1.3531, -0.2358, -0.4090],\n",
       "                         [-0.1170,  0.4426,  0.5064,  0.4661]],\n",
       "                \n",
       "                        [[-1.6836, -0.9774, -0.9544, -0.8893],\n",
       "                         [-1.4721,  1.3531, -0.2358, -0.4090],\n",
       "                         [-0.1170,  0.4426,  0.5064,  0.4661]],\n",
       "                \n",
       "                        [[-1.6836, -0.9774, -0.9544, -0.8893],\n",
       "                         [-1.4721,  1.3531, -0.2358, -0.4090],\n",
       "                         [-0.1170,  0.4426,  0.5064,  0.4661]],\n",
       "                \n",
       "                        [[-1.6836, -0.9774, -0.9544, -0.8893],\n",
       "                         [-1.4721,  1.3531, -0.2358, -0.4090],\n",
       "                         [-0.1170,  0.4426,  0.5064,  0.4661]]])"
      ]
     },
     "execution_count": 20,
     "metadata": {},
     "output_type": "execute_result"
    }
   ],
   "source": [
    "t_stack = FastTreeValue.func(subside=True)(torch.stack)\n",
    "\n",
    "t_stack(trees)"
   ]
  },
  {
   "cell_type": "code",
   "execution_count": 21,
   "id": "f8b3f415",
   "metadata": {
    "execution": {
     "iopub.execute_input": "2023-08-10T09:41:39.360534Z",
     "iopub.status.busy": "2023-08-10T09:41:39.360256Z",
     "iopub.status.idle": "2023-08-10T09:41:42.481910Z",
     "shell.execute_reply": "2023-08-10T09:41:42.480864Z"
    }
   },
   "outputs": [
    {
     "name": "stdout",
     "output_type": "stream",
     "text": [
      "38.3 µs ± 45.7 ns per loop (mean ± std. dev. of 7 runs, 10,000 loops each)\n"
     ]
    }
   ],
   "source": [
    "%timeit t_stack(trees)"
   ]
  },
  {
   "cell_type": "code",
   "execution_count": 22,
   "id": "94b56771",
   "metadata": {
    "execution": {
     "iopub.execute_input": "2023-08-10T09:41:42.486793Z",
     "iopub.status.busy": "2023-08-10T09:41:42.486190Z",
     "iopub.status.idle": "2023-08-10T09:41:42.500467Z",
     "shell.execute_reply": "2023-08-10T09:41:42.499590Z"
    }
   },
   "outputs": [
    {
     "data": {
      "text/plain": [
       "<FastTreeValue 0x7f69c03c0730>\n",
       "├── 'a' --> tensor([[-0.5861,  0.2685, -1.3736],\n",
       "│                   [-2.0538,  0.5553,  0.5723],\n",
       "│                   [-0.5861,  0.2685, -1.3736],\n",
       "│                   [-2.0538,  0.5553,  0.5723],\n",
       "│                   [-0.5861,  0.2685, -1.3736],\n",
       "│                   [-2.0538,  0.5553,  0.5723],\n",
       "│                   [-0.5861,  0.2685, -1.3736],\n",
       "│                   [-2.0538,  0.5553,  0.5723],\n",
       "│                   [-0.5861,  0.2685, -1.3736],\n",
       "│                   [-2.0538,  0.5553,  0.5723],\n",
       "│                   [-0.5861,  0.2685, -1.3736],\n",
       "│                   [-2.0538,  0.5553,  0.5723],\n",
       "│                   [-0.5861,  0.2685, -1.3736],\n",
       "│                   [-2.0538,  0.5553,  0.5723],\n",
       "│                   [-0.5861,  0.2685, -1.3736],\n",
       "│                   [-2.0538,  0.5553,  0.5723]])\n",
       "└── 'x' --> <FastTreeValue 0x7f68fd772ee0>\n",
       "    └── 'c' --> tensor([[-1.6836, -0.9774, -0.9544, -0.8893],\n",
       "                        [-1.4721,  1.3531, -0.2358, -0.4090],\n",
       "                        [-0.1170,  0.4426,  0.5064,  0.4661],\n",
       "                        [-1.6836, -0.9774, -0.9544, -0.8893],\n",
       "                        [-1.4721,  1.3531, -0.2358, -0.4090],\n",
       "                        [-0.1170,  0.4426,  0.5064,  0.4661],\n",
       "                        [-1.6836, -0.9774, -0.9544, -0.8893],\n",
       "                        [-1.4721,  1.3531, -0.2358, -0.4090],\n",
       "                        [-0.1170,  0.4426,  0.5064,  0.4661],\n",
       "                        [-1.6836, -0.9774, -0.9544, -0.8893],\n",
       "                        [-1.4721,  1.3531, -0.2358, -0.4090],\n",
       "                        [-0.1170,  0.4426,  0.5064,  0.4661],\n",
       "                        [-1.6836, -0.9774, -0.9544, -0.8893],\n",
       "                        [-1.4721,  1.3531, -0.2358, -0.4090],\n",
       "                        [-0.1170,  0.4426,  0.5064,  0.4661],\n",
       "                        [-1.6836, -0.9774, -0.9544, -0.8893],\n",
       "                        [-1.4721,  1.3531, -0.2358, -0.4090],\n",
       "                        [-0.1170,  0.4426,  0.5064,  0.4661],\n",
       "                        [-1.6836, -0.9774, -0.9544, -0.8893],\n",
       "                        [-1.4721,  1.3531, -0.2358, -0.4090],\n",
       "                        [-0.1170,  0.4426,  0.5064,  0.4661],\n",
       "                        [-1.6836, -0.9774, -0.9544, -0.8893],\n",
       "                        [-1.4721,  1.3531, -0.2358, -0.4090],\n",
       "                        [-0.1170,  0.4426,  0.5064,  0.4661]])"
      ]
     },
     "execution_count": 22,
     "metadata": {},
     "output_type": "execute_result"
    }
   ],
   "source": [
    "t_cat = FastTreeValue.func(subside=True)(torch.cat)\n",
    "\n",
    "t_cat(trees)"
   ]
  },
  {
   "cell_type": "code",
   "execution_count": 23,
   "id": "5e9c06a6",
   "metadata": {
    "execution": {
     "iopub.execute_input": "2023-08-10T09:41:42.504670Z",
     "iopub.status.busy": "2023-08-10T09:41:42.504106Z",
     "iopub.status.idle": "2023-08-10T09:41:45.448023Z",
     "shell.execute_reply": "2023-08-10T09:41:45.446744Z"
    }
   },
   "outputs": [
    {
     "name": "stdout",
     "output_type": "stream",
     "text": [
      "36.1 µs ± 48 ns per loop (mean ± std. dev. of 7 runs, 10,000 loops each)\n"
     ]
    }
   ],
   "source": [
    "%timeit t_cat(trees)"
   ]
  },
  {
   "cell_type": "code",
   "execution_count": 24,
   "id": "a3ab5c8f",
   "metadata": {
    "execution": {
     "iopub.execute_input": "2023-08-10T09:41:45.453071Z",
     "iopub.status.busy": "2023-08-10T09:41:45.452393Z",
     "iopub.status.idle": "2023-08-10T09:41:51.763922Z",
     "shell.execute_reply": "2023-08-10T09:41:51.763089Z"
    }
   },
   "outputs": [
    {
     "name": "stdout",
     "output_type": "stream",
     "text": [
      "77.7 µs ± 66.5 ns per loop (mean ± std. dev. of 7 runs, 10,000 loops each)\n"
     ]
    }
   ],
   "source": [
    "t_split = FastTreeValue.func(rise=True)(torch.split)\n",
    "tree = FastTreeValue({\n",
    "    'obs': torch.randn(8, 4, 84, 84),\n",
    "    'action': torch.randint(0, 6, size=(8, 1,)),\n",
    "    'reward': torch.rand(8, 1),\n",
    "})\n",
    "\n",
    "%timeit t_split(tree, 1)"
   ]
  },
  {
   "cell_type": "markdown",
   "id": "31c3ec0b",
   "metadata": {},
   "source": [
    "### Performance of Tianshou Batch"
   ]
  },
  {
   "cell_type": "code",
   "execution_count": 25,
   "id": "9ead828a",
   "metadata": {
    "execution": {
     "iopub.execute_input": "2023-08-10T09:41:51.768533Z",
     "iopub.status.busy": "2023-08-10T09:41:51.767493Z",
     "iopub.status.idle": "2023-08-10T09:41:51.778458Z",
     "shell.execute_reply": "2023-08-10T09:41:51.777625Z"
    }
   },
   "outputs": [
    {
     "data": {
      "text/plain": [
       "Batch(\n",
       "    x: Batch(\n",
       "           c: tensor([[[-1.6836, -0.9774, -0.9544, -0.8893],\n",
       "                       [-1.4721,  1.3531, -0.2358, -0.4090],\n",
       "                       [-0.1170,  0.4426,  0.5064,  0.4661]],\n",
       "              \n",
       "                      [[-1.6836, -0.9774, -0.9544, -0.8893],\n",
       "                       [-1.4721,  1.3531, -0.2358, -0.4090],\n",
       "                       [-0.1170,  0.4426,  0.5064,  0.4661]],\n",
       "              \n",
       "                      [[-1.6836, -0.9774, -0.9544, -0.8893],\n",
       "                       [-1.4721,  1.3531, -0.2358, -0.4090],\n",
       "                       [-0.1170,  0.4426,  0.5064,  0.4661]],\n",
       "              \n",
       "                      [[-1.6836, -0.9774, -0.9544, -0.8893],\n",
       "                       [-1.4721,  1.3531, -0.2358, -0.4090],\n",
       "                       [-0.1170,  0.4426,  0.5064,  0.4661]],\n",
       "              \n",
       "                      [[-1.6836, -0.9774, -0.9544, -0.8893],\n",
       "                       [-1.4721,  1.3531, -0.2358, -0.4090],\n",
       "                       [-0.1170,  0.4426,  0.5064,  0.4661]],\n",
       "              \n",
       "                      [[-1.6836, -0.9774, -0.9544, -0.8893],\n",
       "                       [-1.4721,  1.3531, -0.2358, -0.4090],\n",
       "                       [-0.1170,  0.4426,  0.5064,  0.4661]],\n",
       "              \n",
       "                      [[-1.6836, -0.9774, -0.9544, -0.8893],\n",
       "                       [-1.4721,  1.3531, -0.2358, -0.4090],\n",
       "                       [-0.1170,  0.4426,  0.5064,  0.4661]],\n",
       "              \n",
       "                      [[-1.6836, -0.9774, -0.9544, -0.8893],\n",
       "                       [-1.4721,  1.3531, -0.2358, -0.4090],\n",
       "                       [-0.1170,  0.4426,  0.5064,  0.4661]]]),\n",
       "       ),\n",
       "    a: tensor([[[-0.5861,  0.2685, -1.3736],\n",
       "                [-2.0538,  0.5553,  0.5723]],\n",
       "       \n",
       "               [[-0.5861,  0.2685, -1.3736],\n",
       "                [-2.0538,  0.5553,  0.5723]],\n",
       "       \n",
       "               [[-0.5861,  0.2685, -1.3736],\n",
       "                [-2.0538,  0.5553,  0.5723]],\n",
       "       \n",
       "               [[-0.5861,  0.2685, -1.3736],\n",
       "                [-2.0538,  0.5553,  0.5723]],\n",
       "       \n",
       "               [[-0.5861,  0.2685, -1.3736],\n",
       "                [-2.0538,  0.5553,  0.5723]],\n",
       "       \n",
       "               [[-0.5861,  0.2685, -1.3736],\n",
       "                [-2.0538,  0.5553,  0.5723]],\n",
       "       \n",
       "               [[-0.5861,  0.2685, -1.3736],\n",
       "                [-2.0538,  0.5553,  0.5723]],\n",
       "       \n",
       "               [[-0.5861,  0.2685, -1.3736],\n",
       "                [-2.0538,  0.5553,  0.5723]]]),\n",
       ")"
      ]
     },
     "execution_count": 25,
     "metadata": {},
     "output_type": "execute_result"
    }
   ],
   "source": [
    "batches = [Batch(**_TREE_DATA_2) for _ in range(8)]\n",
    "\n",
    "Batch.stack(batches)"
   ]
  },
  {
   "cell_type": "code",
   "execution_count": 26,
   "id": "ec9037a3",
   "metadata": {
    "execution": {
     "iopub.execute_input": "2023-08-10T09:41:51.782498Z",
     "iopub.status.busy": "2023-08-10T09:41:51.781967Z",
     "iopub.status.idle": "2023-08-10T09:41:59.655823Z",
     "shell.execute_reply": "2023-08-10T09:41:59.654632Z"
    }
   },
   "outputs": [
    {
     "name": "stdout",
     "output_type": "stream",
     "text": [
      "96.8 µs ± 101 ns per loop (mean ± std. dev. of 7 runs, 10,000 loops each)\n"
     ]
    }
   ],
   "source": [
    "%timeit Batch.stack(batches)"
   ]
  },
  {
   "cell_type": "code",
   "execution_count": 27,
   "id": "cb8ab77e",
   "metadata": {
    "execution": {
     "iopub.execute_input": "2023-08-10T09:41:59.660503Z",
     "iopub.status.busy": "2023-08-10T09:41:59.660191Z",
     "iopub.status.idle": "2023-08-10T09:41:59.669304Z",
     "shell.execute_reply": "2023-08-10T09:41:59.668476Z"
    }
   },
   "outputs": [
    {
     "data": {
      "text/plain": [
       "Batch(\n",
       "    x: Batch(\n",
       "           c: tensor([[-1.6836, -0.9774, -0.9544, -0.8893],\n",
       "                      [-1.4721,  1.3531, -0.2358, -0.4090],\n",
       "                      [-0.1170,  0.4426,  0.5064,  0.4661],\n",
       "                      [-1.6836, -0.9774, -0.9544, -0.8893],\n",
       "                      [-1.4721,  1.3531, -0.2358, -0.4090],\n",
       "                      [-0.1170,  0.4426,  0.5064,  0.4661],\n",
       "                      [-1.6836, -0.9774, -0.9544, -0.8893],\n",
       "                      [-1.4721,  1.3531, -0.2358, -0.4090],\n",
       "                      [-0.1170,  0.4426,  0.5064,  0.4661],\n",
       "                      [-1.6836, -0.9774, -0.9544, -0.8893],\n",
       "                      [-1.4721,  1.3531, -0.2358, -0.4090],\n",
       "                      [-0.1170,  0.4426,  0.5064,  0.4661],\n",
       "                      [-1.6836, -0.9774, -0.9544, -0.8893],\n",
       "                      [-1.4721,  1.3531, -0.2358, -0.4090],\n",
       "                      [-0.1170,  0.4426,  0.5064,  0.4661],\n",
       "                      [-1.6836, -0.9774, -0.9544, -0.8893],\n",
       "                      [-1.4721,  1.3531, -0.2358, -0.4090],\n",
       "                      [-0.1170,  0.4426,  0.5064,  0.4661],\n",
       "                      [-1.6836, -0.9774, -0.9544, -0.8893],\n",
       "                      [-1.4721,  1.3531, -0.2358, -0.4090],\n",
       "                      [-0.1170,  0.4426,  0.5064,  0.4661],\n",
       "                      [-1.6836, -0.9774, -0.9544, -0.8893],\n",
       "                      [-1.4721,  1.3531, -0.2358, -0.4090],\n",
       "                      [-0.1170,  0.4426,  0.5064,  0.4661]]),\n",
       "       ),\n",
       "    a: tensor([[-0.5861,  0.2685, -1.3736],\n",
       "               [-2.0538,  0.5553,  0.5723],\n",
       "               [-0.5861,  0.2685, -1.3736],\n",
       "               [-2.0538,  0.5553,  0.5723],\n",
       "               [-0.5861,  0.2685, -1.3736],\n",
       "               [-2.0538,  0.5553,  0.5723],\n",
       "               [-0.5861,  0.2685, -1.3736],\n",
       "               [-2.0538,  0.5553,  0.5723],\n",
       "               [-0.5861,  0.2685, -1.3736],\n",
       "               [-2.0538,  0.5553,  0.5723],\n",
       "               [-0.5861,  0.2685, -1.3736],\n",
       "               [-2.0538,  0.5553,  0.5723],\n",
       "               [-0.5861,  0.2685, -1.3736],\n",
       "               [-2.0538,  0.5553,  0.5723],\n",
       "               [-0.5861,  0.2685, -1.3736],\n",
       "               [-2.0538,  0.5553,  0.5723]]),\n",
       ")"
      ]
     },
     "execution_count": 27,
     "metadata": {},
     "output_type": "execute_result"
    }
   ],
   "source": [
    "Batch.cat(batches)"
   ]
  },
  {
   "cell_type": "code",
   "execution_count": 28,
   "id": "18dfb045",
   "metadata": {
    "execution": {
     "iopub.execute_input": "2023-08-10T09:41:59.672923Z",
     "iopub.status.busy": "2023-08-10T09:41:59.672632Z",
     "iopub.status.idle": "2023-08-10T09:42:14.306554Z",
     "shell.execute_reply": "2023-08-10T09:42:14.303617Z"
    }
   },
   "outputs": [
    {
     "name": "stdout",
     "output_type": "stream",
     "text": [
      "180 µs ± 518 ns per loop (mean ± std. dev. of 7 runs, 10,000 loops each)\n"
     ]
    }
   ],
   "source": [
    "%timeit Batch.cat(batches)"
   ]
  },
  {
   "cell_type": "code",
   "execution_count": 29,
   "id": "c6688e51",
   "metadata": {
    "execution": {
     "iopub.execute_input": "2023-08-10T09:42:14.311822Z",
     "iopub.status.busy": "2023-08-10T09:42:14.311332Z",
     "iopub.status.idle": "2023-08-10T09:42:17.567117Z",
     "shell.execute_reply": "2023-08-10T09:42:17.566387Z"
    }
   },
   "outputs": [
    {
     "name": "stdout",
     "output_type": "stream",
     "text": [
      "400 µs ± 5.46 µs per loop (mean ± std. dev. of 7 runs, 1,000 loops each)\n"
     ]
    }
   ],
   "source": [
    "batch = Batch({\n",
    "    'obs': torch.randn(8, 4, 84, 84),\n",
    "    'action': torch.randint(0, 6, size=(8, 1,)),\n",
    "    'reward': torch.rand(8, 1)}\n",
    ")\n",
    "\n",
    "%timeit list(Batch.split(batch, 1, shuffle=False, merge_last=True))"
   ]
  },
  {
   "cell_type": "code",
   "execution_count": null,
   "id": "2539fbd9",
   "metadata": {},
   "outputs": [],
   "source": []
  }
 ],
 "metadata": {
  "kernelspec": {
   "display_name": "Python 3 (ipykernel)",
   "language": "python",
   "name": "python3"
  },
  "language_info": {
   "codemirror_mode": {
    "name": "ipython",
    "version": 3
   },
   "file_extension": ".py",
   "mimetype": "text/x-python",
   "name": "python",
   "nbconvert_exporter": "python",
   "pygments_lexer": "ipython3",
   "version": "3.8.17"
  }
 },
 "nbformat": 4,
 "nbformat_minor": 5
}
