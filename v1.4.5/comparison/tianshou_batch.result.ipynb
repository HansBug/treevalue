{
 "cells": [
  {
   "cell_type": "markdown",
   "id": "9d39d946",
   "metadata": {},
   "source": [
    "# Comparison Between TreeValue and Tianshou Batch"
   ]
  },
  {
   "cell_type": "markdown",
   "id": "3c6db2d4",
   "metadata": {},
   "source": [
    "In this section, we will take a look at the feature and performance of the [Tianshou Batch](https://github.com/thu-ml/tianshou) library, which is developed by Tsinghua Machine Learning Group."
   ]
  },
  {
   "cell_type": "markdown",
   "id": "069361b0",
   "metadata": {},
   "source": [
    "Before starting the comparison, let us define some thing."
   ]
  },
  {
   "cell_type": "code",
   "execution_count": 1,
   "id": "06fc8d26",
   "metadata": {
    "execution": {
     "iopub.execute_input": "2023-03-06T10:23:03.550370Z",
     "iopub.status.busy": "2023-03-06T10:23:03.550098Z",
     "iopub.status.idle": "2023-03-06T10:23:04.670499Z",
     "shell.execute_reply": "2023-03-06T10:23:04.669067Z"
    }
   },
   "outputs": [
    {
     "name": "stderr",
     "output_type": "stream",
     "text": [
      "/opt/hostedtoolcache/Python/3.8.16/x64/lib/python3.8/site-packages/tqdm/auto.py:21: TqdmWarning: IProgress not found. Please update jupyter and ipywidgets. See https://ipywidgets.readthedocs.io/en/stable/user_install.html\n",
      "  from .autonotebook import tqdm as notebook_tqdm\n"
     ]
    }
   ],
   "source": [
    "import torch \n",
    "\n",
    "_TREE_DATA_1 = {'a': 1, 'b': 2, 'x': {'c': 3, 'd': 4}}\n",
    "_TREE_DATA_2 = {\n",
    "    'a': torch.randn(2, 3), \n",
    "    'x': {\n",
    "        'c': torch.randn(3, 4)\n",
    "    },\n",
    "}\n",
    "_TREE_DATA_3 = {\n",
    "    'obs': torch.randn(4, 84, 84),\n",
    "    'action': torch.randint(0, 6, size=(1,)),\n",
    "    'reward': torch.rand(1),\n",
    "}"
   ]
  },
  {
   "cell_type": "markdown",
   "id": "83461b25",
   "metadata": {},
   "source": [
    "## Read and Write Operation"
   ]
  },
  {
   "cell_type": "markdown",
   "id": "067b3f73",
   "metadata": {},
   "source": [
    "Reading and writing are the two most common operations in the tree data structure based on the data model (TreeValue and Tianshou Batch both belong to this type), so this section will compare the reading and writing performance of these two libraries."
   ]
  },
  {
   "cell_type": "markdown",
   "id": "5d09a5b7",
   "metadata": {},
   "source": [
    "### TreeValue's Get and Set"
   ]
  },
  {
   "cell_type": "code",
   "execution_count": 2,
   "id": "9519c4bb",
   "metadata": {
    "execution": {
     "iopub.execute_input": "2023-03-06T10:23:04.674816Z",
     "iopub.status.busy": "2023-03-06T10:23:04.674417Z",
     "iopub.status.idle": "2023-03-06T10:23:04.719357Z",
     "shell.execute_reply": "2023-03-06T10:23:04.717846Z"
    }
   },
   "outputs": [],
   "source": [
    "from treevalue import FastTreeValue\n",
    "\n",
    "t = FastTreeValue(_TREE_DATA_2)"
   ]
  },
  {
   "cell_type": "code",
   "execution_count": 3,
   "id": "11c37677",
   "metadata": {
    "execution": {
     "iopub.execute_input": "2023-03-06T10:23:04.724548Z",
     "iopub.status.busy": "2023-03-06T10:23:04.724234Z",
     "iopub.status.idle": "2023-03-06T10:23:04.736294Z",
     "shell.execute_reply": "2023-03-06T10:23:04.735399Z"
    }
   },
   "outputs": [
    {
     "data": {
      "text/plain": [
       "<FastTreeValue 0x7f3ef71762e0>\n",
       "├── 'a' --> tensor([[ 0.8046,  0.0317,  1.0132],\n",
       "│                   [ 0.1618,  1.0767, -0.3077]])\n",
       "└── 'x' --> <FastTreeValue 0x7f3ef40e32b0>\n",
       "    └── 'c' --> tensor([[ 0.0073, -0.5817,  0.3366,  0.5931],\n",
       "                        [ 0.5290, -0.8666, -1.1608, -2.0066],\n",
       "                        [ 0.3427, -0.4823, -0.2220,  1.3879]])"
      ]
     },
     "execution_count": 3,
     "metadata": {},
     "output_type": "execute_result"
    }
   ],
   "source": [
    "t"
   ]
  },
  {
   "cell_type": "code",
   "execution_count": 4,
   "id": "fd70b0b9",
   "metadata": {
    "execution": {
     "iopub.execute_input": "2023-03-06T10:23:04.739218Z",
     "iopub.status.busy": "2023-03-06T10:23:04.738943Z",
     "iopub.status.idle": "2023-03-06T10:23:04.748136Z",
     "shell.execute_reply": "2023-03-06T10:23:04.747087Z"
    }
   },
   "outputs": [
    {
     "data": {
      "text/plain": [
       "tensor([[ 0.8046,  0.0317,  1.0132],\n",
       "        [ 0.1618,  1.0767, -0.3077]])"
      ]
     },
     "execution_count": 4,
     "metadata": {},
     "output_type": "execute_result"
    }
   ],
   "source": [
    "t.a"
   ]
  },
  {
   "cell_type": "code",
   "execution_count": 5,
   "id": "c18197bd",
   "metadata": {
    "execution": {
     "iopub.execute_input": "2023-03-06T10:23:04.751766Z",
     "iopub.status.busy": "2023-03-06T10:23:04.751475Z",
     "iopub.status.idle": "2023-03-06T10:23:10.881323Z",
     "shell.execute_reply": "2023-03-06T10:23:10.880422Z"
    }
   },
   "outputs": [
    {
     "name": "stdout",
     "output_type": "stream",
     "text": [
      "75.5 ns ± 1.82 ns per loop (mean ± std. dev. of 7 runs, 10,000,000 loops each)\n"
     ]
    }
   ],
   "source": [
    "%timeit t.a"
   ]
  },
  {
   "cell_type": "code",
   "execution_count": 6,
   "id": "bd52f867",
   "metadata": {
    "execution": {
     "iopub.execute_input": "2023-03-06T10:23:10.886714Z",
     "iopub.status.busy": "2023-03-06T10:23:10.885930Z",
     "iopub.status.idle": "2023-03-06T10:23:10.896955Z",
     "shell.execute_reply": "2023-03-06T10:23:10.896063Z"
    }
   },
   "outputs": [
    {
     "data": {
      "text/plain": [
       "<FastTreeValue 0x7f3ef71762e0>\n",
       "├── 'a' --> tensor([[ 0.4170,  1.1099, -0.1611],\n",
       "│                   [-1.8521,  1.2830, -1.8589]])\n",
       "└── 'x' --> <FastTreeValue 0x7f3ef40e32b0>\n",
       "    └── 'c' --> tensor([[ 0.0073, -0.5817,  0.3366,  0.5931],\n",
       "                        [ 0.5290, -0.8666, -1.1608, -2.0066],\n",
       "                        [ 0.3427, -0.4823, -0.2220,  1.3879]])"
      ]
     },
     "execution_count": 6,
     "metadata": {},
     "output_type": "execute_result"
    }
   ],
   "source": [
    "new_value = torch.randn(2, 3)\n",
    "t.a = new_value\n",
    "\n",
    "t"
   ]
  },
  {
   "cell_type": "code",
   "execution_count": 7,
   "id": "bbe04d1c",
   "metadata": {
    "execution": {
     "iopub.execute_input": "2023-03-06T10:23:10.900477Z",
     "iopub.status.busy": "2023-03-06T10:23:10.900199Z",
     "iopub.status.idle": "2023-03-06T10:23:17.319556Z",
     "shell.execute_reply": "2023-03-06T10:23:17.318537Z"
    }
   },
   "outputs": [
    {
     "name": "stdout",
     "output_type": "stream",
     "text": [
      "78.7 ns ± 2.28 ns per loop (mean ± std. dev. of 7 runs, 10,000,000 loops each)\n"
     ]
    }
   ],
   "source": [
    "%timeit t.a = new_value"
   ]
  },
  {
   "cell_type": "markdown",
   "id": "48c49731",
   "metadata": {},
   "source": [
    "### Tianshou Batch's Get and Set"
   ]
  },
  {
   "cell_type": "code",
   "execution_count": 8,
   "id": "f1bb14c1",
   "metadata": {
    "execution": {
     "iopub.execute_input": "2023-03-06T10:23:17.323245Z",
     "iopub.status.busy": "2023-03-06T10:23:17.322781Z",
     "iopub.status.idle": "2023-03-06T10:23:17.725059Z",
     "shell.execute_reply": "2023-03-06T10:23:17.724022Z"
    }
   },
   "outputs": [],
   "source": [
    "from tianshou.data import Batch\n",
    "\n",
    "b = Batch(**_TREE_DATA_2)"
   ]
  },
  {
   "cell_type": "code",
   "execution_count": 9,
   "id": "cb0777c3",
   "metadata": {
    "execution": {
     "iopub.execute_input": "2023-03-06T10:23:17.728573Z",
     "iopub.status.busy": "2023-03-06T10:23:17.728195Z",
     "iopub.status.idle": "2023-03-06T10:23:17.736404Z",
     "shell.execute_reply": "2023-03-06T10:23:17.735389Z"
    }
   },
   "outputs": [
    {
     "data": {
      "text/plain": [
       "Batch(\n",
       "    a: tensor([[ 0.8046,  0.0317,  1.0132],\n",
       "               [ 0.1618,  1.0767, -0.3077]]),\n",
       "    x: Batch(\n",
       "           c: tensor([[ 0.0073, -0.5817,  0.3366,  0.5931],\n",
       "                      [ 0.5290, -0.8666, -1.1608, -2.0066],\n",
       "                      [ 0.3427, -0.4823, -0.2220,  1.3879]]),\n",
       "       ),\n",
       ")"
      ]
     },
     "execution_count": 9,
     "metadata": {},
     "output_type": "execute_result"
    }
   ],
   "source": [
    "b"
   ]
  },
  {
   "cell_type": "code",
   "execution_count": 10,
   "id": "43ef8ea3",
   "metadata": {
    "execution": {
     "iopub.execute_input": "2023-03-06T10:23:17.739320Z",
     "iopub.status.busy": "2023-03-06T10:23:17.739021Z",
     "iopub.status.idle": "2023-03-06T10:23:17.746217Z",
     "shell.execute_reply": "2023-03-06T10:23:17.745378Z"
    }
   },
   "outputs": [
    {
     "data": {
      "text/plain": [
       "tensor([[ 0.8046,  0.0317,  1.0132],\n",
       "        [ 0.1618,  1.0767, -0.3077]])"
      ]
     },
     "execution_count": 10,
     "metadata": {},
     "output_type": "execute_result"
    }
   ],
   "source": [
    "b.a"
   ]
  },
  {
   "cell_type": "code",
   "execution_count": 11,
   "id": "b785ab72",
   "metadata": {
    "execution": {
     "iopub.execute_input": "2023-03-06T10:23:17.749742Z",
     "iopub.status.busy": "2023-03-06T10:23:17.749123Z",
     "iopub.status.idle": "2023-03-06T10:23:22.502343Z",
     "shell.execute_reply": "2023-03-06T10:23:22.501153Z"
    }
   },
   "outputs": [
    {
     "name": "stdout",
     "output_type": "stream",
     "text": [
      "58.2 ns ± 1.45 ns per loop (mean ± std. dev. of 7 runs, 10,000,000 loops each)\n"
     ]
    }
   ],
   "source": [
    "%timeit b.a"
   ]
  },
  {
   "cell_type": "code",
   "execution_count": 12,
   "id": "ad54dc69",
   "metadata": {
    "execution": {
     "iopub.execute_input": "2023-03-06T10:23:22.508713Z",
     "iopub.status.busy": "2023-03-06T10:23:22.507096Z",
     "iopub.status.idle": "2023-03-06T10:23:22.517269Z",
     "shell.execute_reply": "2023-03-06T10:23:22.516456Z"
    }
   },
   "outputs": [
    {
     "data": {
      "text/plain": [
       "Batch(\n",
       "    a: tensor([[-0.6857,  0.4394, -0.9618],\n",
       "               [-0.4727,  2.2141,  1.5985]]),\n",
       "    x: Batch(\n",
       "           c: tensor([[ 0.0073, -0.5817,  0.3366,  0.5931],\n",
       "                      [ 0.5290, -0.8666, -1.1608, -2.0066],\n",
       "                      [ 0.3427, -0.4823, -0.2220,  1.3879]]),\n",
       "       ),\n",
       ")"
      ]
     },
     "execution_count": 12,
     "metadata": {},
     "output_type": "execute_result"
    }
   ],
   "source": [
    "new_value = torch.randn(2, 3)\n",
    "b.a = new_value\n",
    "\n",
    "b"
   ]
  },
  {
   "cell_type": "code",
   "execution_count": 13,
   "id": "29b1d0bf",
   "metadata": {
    "execution": {
     "iopub.execute_input": "2023-03-06T10:23:22.520933Z",
     "iopub.status.busy": "2023-03-06T10:23:22.520044Z",
     "iopub.status.idle": "2023-03-06T10:23:27.165349Z",
     "shell.execute_reply": "2023-03-06T10:23:27.164261Z"
    }
   },
   "outputs": [
    {
     "name": "stdout",
     "output_type": "stream",
     "text": [
      "572 ns ± 9.89 ns per loop (mean ± std. dev. of 7 runs, 1,000,000 loops each)\n"
     ]
    }
   ],
   "source": [
    "%timeit b.a = new_value"
   ]
  },
  {
   "cell_type": "markdown",
   "id": "b61ad1d0",
   "metadata": {},
   "source": [
    "## Initialization"
   ]
  },
  {
   "cell_type": "markdown",
   "id": "d70f0d54",
   "metadata": {},
   "source": [
    "### TreeValue's Initialization"
   ]
  },
  {
   "cell_type": "code",
   "execution_count": 14,
   "id": "d32a679b",
   "metadata": {
    "execution": {
     "iopub.execute_input": "2023-03-06T10:23:27.169035Z",
     "iopub.status.busy": "2023-03-06T10:23:27.168401Z",
     "iopub.status.idle": "2023-03-06T10:23:34.708026Z",
     "shell.execute_reply": "2023-03-06T10:23:34.707246Z"
    }
   },
   "outputs": [
    {
     "name": "stdout",
     "output_type": "stream",
     "text": [
      "931 ns ± 24.2 ns per loop (mean ± std. dev. of 7 runs, 1,000,000 loops each)\n"
     ]
    }
   ],
   "source": [
    "%timeit FastTreeValue(_TREE_DATA_1)"
   ]
  },
  {
   "cell_type": "markdown",
   "id": "24f3707b",
   "metadata": {},
   "source": [
    "### Tianshou Batch's Initialization"
   ]
  },
  {
   "cell_type": "code",
   "execution_count": 15,
   "id": "ac3958df",
   "metadata": {
    "execution": {
     "iopub.execute_input": "2023-03-06T10:23:34.712122Z",
     "iopub.status.busy": "2023-03-06T10:23:34.711467Z",
     "iopub.status.idle": "2023-03-06T10:23:44.769543Z",
     "shell.execute_reply": "2023-03-06T10:23:44.768495Z"
    }
   },
   "outputs": [
    {
     "name": "stdout",
     "output_type": "stream",
     "text": [
      "12.4 µs ± 174 ns per loop (mean ± std. dev. of 7 runs, 100,000 loops each)\n"
     ]
    }
   ],
   "source": [
    "%timeit Batch(**_TREE_DATA_1)"
   ]
  },
  {
   "cell_type": "markdown",
   "id": "1ab82e2d",
   "metadata": {},
   "source": [
    "## Deep Copy Operation"
   ]
  },
  {
   "cell_type": "code",
   "execution_count": 16,
   "id": "210a9442",
   "metadata": {
    "execution": {
     "iopub.execute_input": "2023-03-06T10:23:44.773426Z",
     "iopub.status.busy": "2023-03-06T10:23:44.772951Z",
     "iopub.status.idle": "2023-03-06T10:23:44.777057Z",
     "shell.execute_reply": "2023-03-06T10:23:44.776026Z"
    }
   },
   "outputs": [],
   "source": [
    "import copy"
   ]
  },
  {
   "cell_type": "markdown",
   "id": "5a736274",
   "metadata": {},
   "source": [
    "### Deep Copy of TreeValue"
   ]
  },
  {
   "cell_type": "code",
   "execution_count": 17,
   "id": "f9bcadd6",
   "metadata": {
    "execution": {
     "iopub.execute_input": "2023-03-06T10:23:44.780582Z",
     "iopub.status.busy": "2023-03-06T10:23:44.780075Z",
     "iopub.status.idle": "2023-03-06T10:23:46.928907Z",
     "shell.execute_reply": "2023-03-06T10:23:46.928045Z"
    }
   },
   "outputs": [
    {
     "name": "stdout",
     "output_type": "stream",
     "text": [
      "263 µs ± 12.8 µs per loop (mean ± std. dev. of 7 runs, 1,000 loops each)\n"
     ]
    }
   ],
   "source": [
    "t3 = FastTreeValue(_TREE_DATA_3)\n",
    "%timeit copy.deepcopy(t3)"
   ]
  },
  {
   "cell_type": "markdown",
   "id": "bf8be7ea",
   "metadata": {},
   "source": [
    "### Deep Copy of Tianshou Batch"
   ]
  },
  {
   "cell_type": "code",
   "execution_count": 18,
   "id": "91998e6f",
   "metadata": {
    "execution": {
     "iopub.execute_input": "2023-03-06T10:23:46.933781Z",
     "iopub.status.busy": "2023-03-06T10:23:46.932473Z",
     "iopub.status.idle": "2023-03-06T10:23:48.908526Z",
     "shell.execute_reply": "2023-03-06T10:23:48.907746Z"
    }
   },
   "outputs": [
    {
     "name": "stdout",
     "output_type": "stream",
     "text": [
      "244 µs ± 7.91 µs per loop (mean ± std. dev. of 7 runs, 1,000 loops each)\n"
     ]
    }
   ],
   "source": [
    "b3 = Batch(**_TREE_DATA_3)\n",
    "%timeit copy.deepcopy(b3)"
   ]
  },
  {
   "cell_type": "markdown",
   "id": "223162fb",
   "metadata": {},
   "source": [
    "## Stack, Concat and Split Operation"
   ]
  },
  {
   "cell_type": "markdown",
   "id": "85fa4a73",
   "metadata": {},
   "source": [
    "### Performance of TreeValue"
   ]
  },
  {
   "cell_type": "code",
   "execution_count": 19,
   "id": "a0c2b697",
   "metadata": {
    "execution": {
     "iopub.execute_input": "2023-03-06T10:23:48.911793Z",
     "iopub.status.busy": "2023-03-06T10:23:48.911260Z",
     "iopub.status.idle": "2023-03-06T10:23:48.916352Z",
     "shell.execute_reply": "2023-03-06T10:23:48.914559Z"
    }
   },
   "outputs": [],
   "source": [
    "trees = [FastTreeValue(_TREE_DATA_2) for _ in range(8)]"
   ]
  },
  {
   "cell_type": "code",
   "execution_count": 20,
   "id": "017ea5a5",
   "metadata": {
    "execution": {
     "iopub.execute_input": "2023-03-06T10:23:48.919594Z",
     "iopub.status.busy": "2023-03-06T10:23:48.918917Z",
     "iopub.status.idle": "2023-03-06T10:23:48.929957Z",
     "shell.execute_reply": "2023-03-06T10:23:48.929189Z"
    }
   },
   "outputs": [
    {
     "data": {
      "text/plain": [
       "<FastTreeValue 0x7f3e4ec0d280>\n",
       "├── 'a' --> tensor([[[ 0.8046,  0.0317,  1.0132],\n",
       "│                    [ 0.1618,  1.0767, -0.3077]],\n",
       "│           \n",
       "│                   [[ 0.8046,  0.0317,  1.0132],\n",
       "│                    [ 0.1618,  1.0767, -0.3077]],\n",
       "│           \n",
       "│                   [[ 0.8046,  0.0317,  1.0132],\n",
       "│                    [ 0.1618,  1.0767, -0.3077]],\n",
       "│           \n",
       "│                   [[ 0.8046,  0.0317,  1.0132],\n",
       "│                    [ 0.1618,  1.0767, -0.3077]],\n",
       "│           \n",
       "│                   [[ 0.8046,  0.0317,  1.0132],\n",
       "│                    [ 0.1618,  1.0767, -0.3077]],\n",
       "│           \n",
       "│                   [[ 0.8046,  0.0317,  1.0132],\n",
       "│                    [ 0.1618,  1.0767, -0.3077]],\n",
       "│           \n",
       "│                   [[ 0.8046,  0.0317,  1.0132],\n",
       "│                    [ 0.1618,  1.0767, -0.3077]],\n",
       "│           \n",
       "│                   [[ 0.8046,  0.0317,  1.0132],\n",
       "│                    [ 0.1618,  1.0767, -0.3077]]])\n",
       "└── 'x' --> <FastTreeValue 0x7f3e4ec0d0d0>\n",
       "    └── 'c' --> tensor([[[ 0.0073, -0.5817,  0.3366,  0.5931],\n",
       "                         [ 0.5290, -0.8666, -1.1608, -2.0066],\n",
       "                         [ 0.3427, -0.4823, -0.2220,  1.3879]],\n",
       "                \n",
       "                        [[ 0.0073, -0.5817,  0.3366,  0.5931],\n",
       "                         [ 0.5290, -0.8666, -1.1608, -2.0066],\n",
       "                         [ 0.3427, -0.4823, -0.2220,  1.3879]],\n",
       "                \n",
       "                        [[ 0.0073, -0.5817,  0.3366,  0.5931],\n",
       "                         [ 0.5290, -0.8666, -1.1608, -2.0066],\n",
       "                         [ 0.3427, -0.4823, -0.2220,  1.3879]],\n",
       "                \n",
       "                        [[ 0.0073, -0.5817,  0.3366,  0.5931],\n",
       "                         [ 0.5290, -0.8666, -1.1608, -2.0066],\n",
       "                         [ 0.3427, -0.4823, -0.2220,  1.3879]],\n",
       "                \n",
       "                        [[ 0.0073, -0.5817,  0.3366,  0.5931],\n",
       "                         [ 0.5290, -0.8666, -1.1608, -2.0066],\n",
       "                         [ 0.3427, -0.4823, -0.2220,  1.3879]],\n",
       "                \n",
       "                        [[ 0.0073, -0.5817,  0.3366,  0.5931],\n",
       "                         [ 0.5290, -0.8666, -1.1608, -2.0066],\n",
       "                         [ 0.3427, -0.4823, -0.2220,  1.3879]],\n",
       "                \n",
       "                        [[ 0.0073, -0.5817,  0.3366,  0.5931],\n",
       "                         [ 0.5290, -0.8666, -1.1608, -2.0066],\n",
       "                         [ 0.3427, -0.4823, -0.2220,  1.3879]],\n",
       "                \n",
       "                        [[ 0.0073, -0.5817,  0.3366,  0.5931],\n",
       "                         [ 0.5290, -0.8666, -1.1608, -2.0066],\n",
       "                         [ 0.3427, -0.4823, -0.2220,  1.3879]]])"
      ]
     },
     "execution_count": 20,
     "metadata": {},
     "output_type": "execute_result"
    }
   ],
   "source": [
    "t_stack = FastTreeValue.func(subside=True)(torch.stack)\n",
    "\n",
    "t_stack(trees)"
   ]
  },
  {
   "cell_type": "code",
   "execution_count": 21,
   "id": "f8b3f415",
   "metadata": {
    "execution": {
     "iopub.execute_input": "2023-03-06T10:23:48.933564Z",
     "iopub.status.busy": "2023-03-06T10:23:48.933243Z",
     "iopub.status.idle": "2023-03-06T10:23:52.314826Z",
     "shell.execute_reply": "2023-03-06T10:23:52.313759Z"
    }
   },
   "outputs": [
    {
     "name": "stdout",
     "output_type": "stream",
     "text": [
      "41.7 µs ± 1.01 µs per loop (mean ± std. dev. of 7 runs, 10,000 loops each)\n"
     ]
    }
   ],
   "source": [
    "%timeit t_stack(trees)"
   ]
  },
  {
   "cell_type": "code",
   "execution_count": 22,
   "id": "94b56771",
   "metadata": {
    "execution": {
     "iopub.execute_input": "2023-03-06T10:23:52.318748Z",
     "iopub.status.busy": "2023-03-06T10:23:52.317987Z",
     "iopub.status.idle": "2023-03-06T10:23:52.327796Z",
     "shell.execute_reply": "2023-03-06T10:23:52.326994Z"
    }
   },
   "outputs": [
    {
     "data": {
      "text/plain": [
       "<FastTreeValue 0x7f3ef40e37c0>\n",
       "├── 'a' --> tensor([[ 0.8046,  0.0317,  1.0132],\n",
       "│                   [ 0.1618,  1.0767, -0.3077],\n",
       "│                   [ 0.8046,  0.0317,  1.0132],\n",
       "│                   [ 0.1618,  1.0767, -0.3077],\n",
       "│                   [ 0.8046,  0.0317,  1.0132],\n",
       "│                   [ 0.1618,  1.0767, -0.3077],\n",
       "│                   [ 0.8046,  0.0317,  1.0132],\n",
       "│                   [ 0.1618,  1.0767, -0.3077],\n",
       "│                   [ 0.8046,  0.0317,  1.0132],\n",
       "│                   [ 0.1618,  1.0767, -0.3077],\n",
       "│                   [ 0.8046,  0.0317,  1.0132],\n",
       "│                   [ 0.1618,  1.0767, -0.3077],\n",
       "│                   [ 0.8046,  0.0317,  1.0132],\n",
       "│                   [ 0.1618,  1.0767, -0.3077],\n",
       "│                   [ 0.8046,  0.0317,  1.0132],\n",
       "│                   [ 0.1618,  1.0767, -0.3077]])\n",
       "└── 'x' --> <FastTreeValue 0x7f3e4851dee0>\n",
       "    └── 'c' --> tensor([[ 0.0073, -0.5817,  0.3366,  0.5931],\n",
       "                        [ 0.5290, -0.8666, -1.1608, -2.0066],\n",
       "                        [ 0.3427, -0.4823, -0.2220,  1.3879],\n",
       "                        [ 0.0073, -0.5817,  0.3366,  0.5931],\n",
       "                        [ 0.5290, -0.8666, -1.1608, -2.0066],\n",
       "                        [ 0.3427, -0.4823, -0.2220,  1.3879],\n",
       "                        [ 0.0073, -0.5817,  0.3366,  0.5931],\n",
       "                        [ 0.5290, -0.8666, -1.1608, -2.0066],\n",
       "                        [ 0.3427, -0.4823, -0.2220,  1.3879],\n",
       "                        [ 0.0073, -0.5817,  0.3366,  0.5931],\n",
       "                        [ 0.5290, -0.8666, -1.1608, -2.0066],\n",
       "                        [ 0.3427, -0.4823, -0.2220,  1.3879],\n",
       "                        [ 0.0073, -0.5817,  0.3366,  0.5931],\n",
       "                        [ 0.5290, -0.8666, -1.1608, -2.0066],\n",
       "                        [ 0.3427, -0.4823, -0.2220,  1.3879],\n",
       "                        [ 0.0073, -0.5817,  0.3366,  0.5931],\n",
       "                        [ 0.5290, -0.8666, -1.1608, -2.0066],\n",
       "                        [ 0.3427, -0.4823, -0.2220,  1.3879],\n",
       "                        [ 0.0073, -0.5817,  0.3366,  0.5931],\n",
       "                        [ 0.5290, -0.8666, -1.1608, -2.0066],\n",
       "                        [ 0.3427, -0.4823, -0.2220,  1.3879],\n",
       "                        [ 0.0073, -0.5817,  0.3366,  0.5931],\n",
       "                        [ 0.5290, -0.8666, -1.1608, -2.0066],\n",
       "                        [ 0.3427, -0.4823, -0.2220,  1.3879]])"
      ]
     },
     "execution_count": 22,
     "metadata": {},
     "output_type": "execute_result"
    }
   ],
   "source": [
    "t_cat = FastTreeValue.func(subside=True)(torch.cat)\n",
    "\n",
    "t_cat(trees)"
   ]
  },
  {
   "cell_type": "code",
   "execution_count": 23,
   "id": "5e9c06a6",
   "metadata": {
    "execution": {
     "iopub.execute_input": "2023-03-06T10:23:52.331767Z",
     "iopub.status.busy": "2023-03-06T10:23:52.331246Z",
     "iopub.status.idle": "2023-03-06T10:23:55.415869Z",
     "shell.execute_reply": "2023-03-06T10:23:55.414804Z"
    }
   },
   "outputs": [
    {
     "name": "stdout",
     "output_type": "stream",
     "text": [
      "37.7 µs ± 986 ns per loop (mean ± std. dev. of 7 runs, 10,000 loops each)\n"
     ]
    }
   ],
   "source": [
    "%timeit t_cat(trees)"
   ]
  },
  {
   "cell_type": "code",
   "execution_count": 24,
   "id": "a3ab5c8f",
   "metadata": {
    "execution": {
     "iopub.execute_input": "2023-03-06T10:23:55.419604Z",
     "iopub.status.busy": "2023-03-06T10:23:55.418814Z",
     "iopub.status.idle": "2023-03-06T10:24:01.459215Z",
     "shell.execute_reply": "2023-03-06T10:24:01.458230Z"
    }
   },
   "outputs": [
    {
     "name": "stdout",
     "output_type": "stream",
     "text": [
      "74.3 µs ± 1.16 µs per loop (mean ± std. dev. of 7 runs, 10,000 loops each)\n"
     ]
    }
   ],
   "source": [
    "t_split = FastTreeValue.func(rise=True)(torch.split)\n",
    "tree = FastTreeValue({\n",
    "    'obs': torch.randn(8, 4, 84, 84),\n",
    "    'action': torch.randint(0, 6, size=(8, 1,)),\n",
    "    'reward': torch.rand(8, 1),\n",
    "})\n",
    "\n",
    "%timeit t_split(tree, 1)"
   ]
  },
  {
   "cell_type": "markdown",
   "id": "31c3ec0b",
   "metadata": {},
   "source": [
    "### Performance of Tianshou Batch"
   ]
  },
  {
   "cell_type": "code",
   "execution_count": 25,
   "id": "9ead828a",
   "metadata": {
    "execution": {
     "iopub.execute_input": "2023-03-06T10:24:01.462898Z",
     "iopub.status.busy": "2023-03-06T10:24:01.462416Z",
     "iopub.status.idle": "2023-03-06T10:24:01.473139Z",
     "shell.execute_reply": "2023-03-06T10:24:01.472192Z"
    }
   },
   "outputs": [
    {
     "data": {
      "text/plain": [
       "Batch(\n",
       "    a: tensor([[[ 0.8046,  0.0317,  1.0132],\n",
       "                [ 0.1618,  1.0767, -0.3077]],\n",
       "       \n",
       "               [[ 0.8046,  0.0317,  1.0132],\n",
       "                [ 0.1618,  1.0767, -0.3077]],\n",
       "       \n",
       "               [[ 0.8046,  0.0317,  1.0132],\n",
       "                [ 0.1618,  1.0767, -0.3077]],\n",
       "       \n",
       "               [[ 0.8046,  0.0317,  1.0132],\n",
       "                [ 0.1618,  1.0767, -0.3077]],\n",
       "       \n",
       "               [[ 0.8046,  0.0317,  1.0132],\n",
       "                [ 0.1618,  1.0767, -0.3077]],\n",
       "       \n",
       "               [[ 0.8046,  0.0317,  1.0132],\n",
       "                [ 0.1618,  1.0767, -0.3077]],\n",
       "       \n",
       "               [[ 0.8046,  0.0317,  1.0132],\n",
       "                [ 0.1618,  1.0767, -0.3077]],\n",
       "       \n",
       "               [[ 0.8046,  0.0317,  1.0132],\n",
       "                [ 0.1618,  1.0767, -0.3077]]]),\n",
       "    x: Batch(\n",
       "           c: tensor([[[ 0.0073, -0.5817,  0.3366,  0.5931],\n",
       "                       [ 0.5290, -0.8666, -1.1608, -2.0066],\n",
       "                       [ 0.3427, -0.4823, -0.2220,  1.3879]],\n",
       "              \n",
       "                      [[ 0.0073, -0.5817,  0.3366,  0.5931],\n",
       "                       [ 0.5290, -0.8666, -1.1608, -2.0066],\n",
       "                       [ 0.3427, -0.4823, -0.2220,  1.3879]],\n",
       "              \n",
       "                      [[ 0.0073, -0.5817,  0.3366,  0.5931],\n",
       "                       [ 0.5290, -0.8666, -1.1608, -2.0066],\n",
       "                       [ 0.3427, -0.4823, -0.2220,  1.3879]],\n",
       "              \n",
       "                      [[ 0.0073, -0.5817,  0.3366,  0.5931],\n",
       "                       [ 0.5290, -0.8666, -1.1608, -2.0066],\n",
       "                       [ 0.3427, -0.4823, -0.2220,  1.3879]],\n",
       "              \n",
       "                      [[ 0.0073, -0.5817,  0.3366,  0.5931],\n",
       "                       [ 0.5290, -0.8666, -1.1608, -2.0066],\n",
       "                       [ 0.3427, -0.4823, -0.2220,  1.3879]],\n",
       "              \n",
       "                      [[ 0.0073, -0.5817,  0.3366,  0.5931],\n",
       "                       [ 0.5290, -0.8666, -1.1608, -2.0066],\n",
       "                       [ 0.3427, -0.4823, -0.2220,  1.3879]],\n",
       "              \n",
       "                      [[ 0.0073, -0.5817,  0.3366,  0.5931],\n",
       "                       [ 0.5290, -0.8666, -1.1608, -2.0066],\n",
       "                       [ 0.3427, -0.4823, -0.2220,  1.3879]],\n",
       "              \n",
       "                      [[ 0.0073, -0.5817,  0.3366,  0.5931],\n",
       "                       [ 0.5290, -0.8666, -1.1608, -2.0066],\n",
       "                       [ 0.3427, -0.4823, -0.2220,  1.3879]]]),\n",
       "       ),\n",
       ")"
      ]
     },
     "execution_count": 25,
     "metadata": {},
     "output_type": "execute_result"
    }
   ],
   "source": [
    "batches = [Batch(**_TREE_DATA_2) for _ in range(8)]\n",
    "\n",
    "Batch.stack(batches)"
   ]
  },
  {
   "cell_type": "code",
   "execution_count": 26,
   "id": "ec9037a3",
   "metadata": {
    "execution": {
     "iopub.execute_input": "2023-03-06T10:24:01.476792Z",
     "iopub.status.busy": "2023-03-06T10:24:01.476441Z",
     "iopub.status.idle": "2023-03-06T10:24:16.044669Z",
     "shell.execute_reply": "2023-03-06T10:24:16.043548Z"
    }
   },
   "outputs": [
    {
     "name": "stdout",
     "output_type": "stream",
     "text": [
      "180 µs ± 6.57 µs per loop (mean ± std. dev. of 7 runs, 10,000 loops each)\n"
     ]
    }
   ],
   "source": [
    "%timeit Batch.stack(batches)"
   ]
  },
  {
   "cell_type": "code",
   "execution_count": 27,
   "id": "cb8ab77e",
   "metadata": {
    "execution": {
     "iopub.execute_input": "2023-03-06T10:24:16.048445Z",
     "iopub.status.busy": "2023-03-06T10:24:16.048123Z",
     "iopub.status.idle": "2023-03-06T10:24:16.064031Z",
     "shell.execute_reply": "2023-03-06T10:24:16.062985Z"
    }
   },
   "outputs": [
    {
     "data": {
      "text/plain": [
       "Batch(\n",
       "    a: tensor([[ 0.8046,  0.0317,  1.0132],\n",
       "               [ 0.1618,  1.0767, -0.3077],\n",
       "               [ 0.8046,  0.0317,  1.0132],\n",
       "               [ 0.1618,  1.0767, -0.3077],\n",
       "               [ 0.8046,  0.0317,  1.0132],\n",
       "               [ 0.1618,  1.0767, -0.3077],\n",
       "               [ 0.8046,  0.0317,  1.0132],\n",
       "               [ 0.1618,  1.0767, -0.3077],\n",
       "               [ 0.8046,  0.0317,  1.0132],\n",
       "               [ 0.1618,  1.0767, -0.3077],\n",
       "               [ 0.8046,  0.0317,  1.0132],\n",
       "               [ 0.1618,  1.0767, -0.3077],\n",
       "               [ 0.8046,  0.0317,  1.0132],\n",
       "               [ 0.1618,  1.0767, -0.3077],\n",
       "               [ 0.8046,  0.0317,  1.0132],\n",
       "               [ 0.1618,  1.0767, -0.3077]]),\n",
       "    x: Batch(\n",
       "           c: tensor([[ 0.0073, -0.5817,  0.3366,  0.5931],\n",
       "                      [ 0.5290, -0.8666, -1.1608, -2.0066],\n",
       "                      [ 0.3427, -0.4823, -0.2220,  1.3879],\n",
       "                      [ 0.0073, -0.5817,  0.3366,  0.5931],\n",
       "                      [ 0.5290, -0.8666, -1.1608, -2.0066],\n",
       "                      [ 0.3427, -0.4823, -0.2220,  1.3879],\n",
       "                      [ 0.0073, -0.5817,  0.3366,  0.5931],\n",
       "                      [ 0.5290, -0.8666, -1.1608, -2.0066],\n",
       "                      [ 0.3427, -0.4823, -0.2220,  1.3879],\n",
       "                      [ 0.0073, -0.5817,  0.3366,  0.5931],\n",
       "                      [ 0.5290, -0.8666, -1.1608, -2.0066],\n",
       "                      [ 0.3427, -0.4823, -0.2220,  1.3879],\n",
       "                      [ 0.0073, -0.5817,  0.3366,  0.5931],\n",
       "                      [ 0.5290, -0.8666, -1.1608, -2.0066],\n",
       "                      [ 0.3427, -0.4823, -0.2220,  1.3879],\n",
       "                      [ 0.0073, -0.5817,  0.3366,  0.5931],\n",
       "                      [ 0.5290, -0.8666, -1.1608, -2.0066],\n",
       "                      [ 0.3427, -0.4823, -0.2220,  1.3879],\n",
       "                      [ 0.0073, -0.5817,  0.3366,  0.5931],\n",
       "                      [ 0.5290, -0.8666, -1.1608, -2.0066],\n",
       "                      [ 0.3427, -0.4823, -0.2220,  1.3879],\n",
       "                      [ 0.0073, -0.5817,  0.3366,  0.5931],\n",
       "                      [ 0.5290, -0.8666, -1.1608, -2.0066],\n",
       "                      [ 0.3427, -0.4823, -0.2220,  1.3879]]),\n",
       "       ),\n",
       ")"
      ]
     },
     "execution_count": 27,
     "metadata": {},
     "output_type": "execute_result"
    }
   ],
   "source": [
    "Batch.cat(batches)"
   ]
  },
  {
   "cell_type": "code",
   "execution_count": 28,
   "id": "18dfb045",
   "metadata": {
    "execution": {
     "iopub.execute_input": "2023-03-06T10:24:16.068194Z",
     "iopub.status.busy": "2023-03-06T10:24:16.067751Z",
     "iopub.status.idle": "2023-03-06T10:24:30.140235Z",
     "shell.execute_reply": "2023-03-06T10:24:30.139066Z"
    }
   },
   "outputs": [
    {
     "name": "stdout",
     "output_type": "stream",
     "text": [
      "173 µs ± 3.17 µs per loop (mean ± std. dev. of 7 runs, 10,000 loops each)\n"
     ]
    }
   ],
   "source": [
    "%timeit Batch.cat(batches)"
   ]
  },
  {
   "cell_type": "code",
   "execution_count": 29,
   "id": "c6688e51",
   "metadata": {
    "execution": {
     "iopub.execute_input": "2023-03-06T10:24:30.143980Z",
     "iopub.status.busy": "2023-03-06T10:24:30.143538Z",
     "iopub.status.idle": "2023-03-06T10:24:34.333380Z",
     "shell.execute_reply": "2023-03-06T10:24:34.332350Z"
    }
   },
   "outputs": [
    {
     "name": "stdout",
     "output_type": "stream",
     "text": [
      "516 µs ± 14.5 µs per loop (mean ± std. dev. of 7 runs, 1,000 loops each)\n"
     ]
    }
   ],
   "source": [
    "batch = Batch({\n",
    "    'obs': torch.randn(8, 4, 84, 84),\n",
    "    'action': torch.randint(0, 6, size=(8, 1,)),\n",
    "    'reward': torch.rand(8, 1)}\n",
    ")\n",
    "\n",
    "%timeit list(Batch.split(batch, 1, shuffle=False, merge_last=True))"
   ]
  },
  {
   "cell_type": "code",
   "execution_count": null,
   "id": "2539fbd9",
   "metadata": {},
   "outputs": [],
   "source": []
  }
 ],
 "metadata": {
  "kernelspec": {
   "display_name": "Python 3 (ipykernel)",
   "language": "python",
   "name": "python3"
  },
  "language_info": {
   "codemirror_mode": {
    "name": "ipython",
    "version": 3
   },
   "file_extension": ".py",
   "mimetype": "text/x-python",
   "name": "python",
   "nbconvert_exporter": "python",
   "pygments_lexer": "ipython3",
   "version": "3.8.16"
  }
 },
 "nbformat": 4,
 "nbformat_minor": 5
}
