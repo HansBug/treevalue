{
 "cells": [
  {
   "cell_type": "markdown",
   "id": "9d39d946",
   "metadata": {},
   "source": [
    "# Comparison Between TreeValue and Tianshou Batch"
   ]
  },
  {
   "cell_type": "markdown",
   "id": "3c6db2d4",
   "metadata": {},
   "source": [
    "In this section, we will take a look at the feature and performance of the [Tianshou Batch](https://github.com/thu-ml/tianshou) library, which is developed by Tsinghua Machine Learning Group."
   ]
  },
  {
   "cell_type": "markdown",
   "id": "069361b0",
   "metadata": {},
   "source": [
    "Before starting the comparison, let us define some thing."
   ]
  },
  {
   "cell_type": "code",
   "execution_count": 1,
   "id": "06fc8d26",
   "metadata": {
    "execution": {
     "iopub.execute_input": "2023-02-25T19:11:35.259866Z",
     "iopub.status.busy": "2023-02-25T19:11:35.259267Z",
     "iopub.status.idle": "2023-02-25T19:11:36.191167Z",
     "shell.execute_reply": "2023-02-25T19:11:36.190473Z"
    }
   },
   "outputs": [
    {
     "name": "stderr",
     "output_type": "stream",
     "text": [
      "/opt/hostedtoolcache/Python/3.8.16/x64/lib/python3.8/site-packages/tqdm/auto.py:22: TqdmWarning: IProgress not found. Please update jupyter and ipywidgets. See https://ipywidgets.readthedocs.io/en/stable/user_install.html\n",
      "  from .autonotebook import tqdm as notebook_tqdm\n"
     ]
    }
   ],
   "source": [
    "import torch \n",
    "\n",
    "_TREE_DATA_1 = {'a': 1, 'b': 2, 'x': {'c': 3, 'd': 4}}\n",
    "_TREE_DATA_2 = {\n",
    "    'a': torch.randn(2, 3), \n",
    "    'x': {\n",
    "        'c': torch.randn(3, 4)\n",
    "    },\n",
    "}\n",
    "_TREE_DATA_3 = {\n",
    "    'obs': torch.randn(4, 84, 84),\n",
    "    'action': torch.randint(0, 6, size=(1,)),\n",
    "    'reward': torch.rand(1),\n",
    "}"
   ]
  },
  {
   "cell_type": "markdown",
   "id": "83461b25",
   "metadata": {},
   "source": [
    "## Read and Write Operation"
   ]
  },
  {
   "cell_type": "markdown",
   "id": "067b3f73",
   "metadata": {},
   "source": [
    "Reading and writing are the two most common operations in the tree data structure based on the data model (TreeValue and Tianshou Batch both belong to this type), so this section will compare the reading and writing performance of these two libraries."
   ]
  },
  {
   "cell_type": "markdown",
   "id": "5d09a5b7",
   "metadata": {},
   "source": [
    "### TreeValue's Get and Set"
   ]
  },
  {
   "cell_type": "code",
   "execution_count": 2,
   "id": "9519c4bb",
   "metadata": {
    "execution": {
     "iopub.execute_input": "2023-02-25T19:11:36.194660Z",
     "iopub.status.busy": "2023-02-25T19:11:36.194223Z",
     "iopub.status.idle": "2023-02-25T19:11:36.227915Z",
     "shell.execute_reply": "2023-02-25T19:11:36.227265Z"
    }
   },
   "outputs": [],
   "source": [
    "from treevalue import FastTreeValue\n",
    "\n",
    "t = FastTreeValue(_TREE_DATA_2)"
   ]
  },
  {
   "cell_type": "code",
   "execution_count": 3,
   "id": "11c37677",
   "metadata": {
    "execution": {
     "iopub.execute_input": "2023-02-25T19:11:36.230911Z",
     "iopub.status.busy": "2023-02-25T19:11:36.230381Z",
     "iopub.status.idle": "2023-02-25T19:11:36.239611Z",
     "shell.execute_reply": "2023-02-25T19:11:36.239029Z"
    }
   },
   "outputs": [
    {
     "data": {
      "text/plain": [
       "<FastTreeValue 0x7f62f8c19a30>\n",
       "├── 'a' --> tensor([[-0.2258, -1.3123, -1.5467],\n",
       "│                   [-0.2269,  0.0207, -0.8492]])\n",
       "└── 'x' --> <FastTreeValue 0x7f62f8c19760>\n",
       "    └── 'c' --> tensor([[-0.6626,  1.3912, -1.0609, -0.1021],\n",
       "                        [ 0.5688,  1.4765,  0.1690, -0.6049],\n",
       "                        [-0.0909, -0.1654,  0.4285, -0.7030]])"
      ]
     },
     "execution_count": 3,
     "metadata": {},
     "output_type": "execute_result"
    }
   ],
   "source": [
    "t"
   ]
  },
  {
   "cell_type": "code",
   "execution_count": 4,
   "id": "fd70b0b9",
   "metadata": {
    "execution": {
     "iopub.execute_input": "2023-02-25T19:11:36.242471Z",
     "iopub.status.busy": "2023-02-25T19:11:36.242126Z",
     "iopub.status.idle": "2023-02-25T19:11:36.247782Z",
     "shell.execute_reply": "2023-02-25T19:11:36.247200Z"
    }
   },
   "outputs": [
    {
     "data": {
      "text/plain": [
       "tensor([[-0.2258, -1.3123, -1.5467],\n",
       "        [-0.2269,  0.0207, -0.8492]])"
      ]
     },
     "execution_count": 4,
     "metadata": {},
     "output_type": "execute_result"
    }
   ],
   "source": [
    "t.a"
   ]
  },
  {
   "cell_type": "code",
   "execution_count": 5,
   "id": "c18197bd",
   "metadata": {
    "execution": {
     "iopub.execute_input": "2023-02-25T19:11:36.250164Z",
     "iopub.status.busy": "2023-02-25T19:11:36.249831Z",
     "iopub.status.idle": "2023-02-25T19:11:41.332950Z",
     "shell.execute_reply": "2023-02-25T19:11:41.332183Z"
    }
   },
   "outputs": [
    {
     "name": "stdout",
     "output_type": "stream",
     "text": [
      "62.8 ns ± 0.0366 ns per loop (mean ± std. dev. of 7 runs, 10,000,000 loops each)\n"
     ]
    }
   ],
   "source": [
    "%timeit t.a"
   ]
  },
  {
   "cell_type": "code",
   "execution_count": 6,
   "id": "bd52f867",
   "metadata": {
    "execution": {
     "iopub.execute_input": "2023-02-25T19:11:41.336102Z",
     "iopub.status.busy": "2023-02-25T19:11:41.335591Z",
     "iopub.status.idle": "2023-02-25T19:11:41.343114Z",
     "shell.execute_reply": "2023-02-25T19:11:41.342535Z"
    }
   },
   "outputs": [
    {
     "data": {
      "text/plain": [
       "<FastTreeValue 0x7f62f8c19a30>\n",
       "├── 'a' --> tensor([[-0.3808, -0.2203,  1.4867],\n",
       "│                   [-0.5364, -2.0935,  0.4359]])\n",
       "└── 'x' --> <FastTreeValue 0x7f62f8c19760>\n",
       "    └── 'c' --> tensor([[-0.6626,  1.3912, -1.0609, -0.1021],\n",
       "                        [ 0.5688,  1.4765,  0.1690, -0.6049],\n",
       "                        [-0.0909, -0.1654,  0.4285, -0.7030]])"
      ]
     },
     "execution_count": 6,
     "metadata": {},
     "output_type": "execute_result"
    }
   ],
   "source": [
    "new_value = torch.randn(2, 3)\n",
    "t.a = new_value\n",
    "\n",
    "t"
   ]
  },
  {
   "cell_type": "code",
   "execution_count": 7,
   "id": "bbe04d1c",
   "metadata": {
    "execution": {
     "iopub.execute_input": "2023-02-25T19:11:41.345761Z",
     "iopub.status.busy": "2023-02-25T19:11:41.345420Z",
     "iopub.status.idle": "2023-02-25T19:11:46.793615Z",
     "shell.execute_reply": "2023-02-25T19:11:46.792858Z"
    }
   },
   "outputs": [
    {
     "name": "stdout",
     "output_type": "stream",
     "text": [
      "66.4 ns ± 0.0567 ns per loop (mean ± std. dev. of 7 runs, 10,000,000 loops each)\n"
     ]
    }
   ],
   "source": [
    "%timeit t.a = new_value"
   ]
  },
  {
   "cell_type": "markdown",
   "id": "48c49731",
   "metadata": {},
   "source": [
    "### Tianshou Batch's Get and Set"
   ]
  },
  {
   "cell_type": "code",
   "execution_count": 8,
   "id": "f1bb14c1",
   "metadata": {
    "execution": {
     "iopub.execute_input": "2023-02-25T19:11:46.796498Z",
     "iopub.status.busy": "2023-02-25T19:11:46.795976Z",
     "iopub.status.idle": "2023-02-25T19:11:47.135965Z",
     "shell.execute_reply": "2023-02-25T19:11:47.135011Z"
    }
   },
   "outputs": [],
   "source": [
    "from tianshou.data import Batch\n",
    "\n",
    "b = Batch(**_TREE_DATA_2)"
   ]
  },
  {
   "cell_type": "code",
   "execution_count": 9,
   "id": "cb0777c3",
   "metadata": {
    "execution": {
     "iopub.execute_input": "2023-02-25T19:11:47.139320Z",
     "iopub.status.busy": "2023-02-25T19:11:47.138658Z",
     "iopub.status.idle": "2023-02-25T19:11:47.144767Z",
     "shell.execute_reply": "2023-02-25T19:11:47.144186Z"
    }
   },
   "outputs": [
    {
     "data": {
      "text/plain": [
       "Batch(\n",
       "    a: tensor([[-0.2258, -1.3123, -1.5467],\n",
       "               [-0.2269,  0.0207, -0.8492]]),\n",
       "    x: Batch(\n",
       "           c: tensor([[-0.6626,  1.3912, -1.0609, -0.1021],\n",
       "                      [ 0.5688,  1.4765,  0.1690, -0.6049],\n",
       "                      [-0.0909, -0.1654,  0.4285, -0.7030]]),\n",
       "       ),\n",
       ")"
      ]
     },
     "execution_count": 9,
     "metadata": {},
     "output_type": "execute_result"
    }
   ],
   "source": [
    "b"
   ]
  },
  {
   "cell_type": "code",
   "execution_count": 10,
   "id": "43ef8ea3",
   "metadata": {
    "execution": {
     "iopub.execute_input": "2023-02-25T19:11:47.147672Z",
     "iopub.status.busy": "2023-02-25T19:11:47.147097Z",
     "iopub.status.idle": "2023-02-25T19:11:47.152508Z",
     "shell.execute_reply": "2023-02-25T19:11:47.151938Z"
    }
   },
   "outputs": [
    {
     "data": {
      "text/plain": [
       "tensor([[-0.2258, -1.3123, -1.5467],\n",
       "        [-0.2269,  0.0207, -0.8492]])"
      ]
     },
     "execution_count": 10,
     "metadata": {},
     "output_type": "execute_result"
    }
   ],
   "source": [
    "b.a"
   ]
  },
  {
   "cell_type": "code",
   "execution_count": 11,
   "id": "b785ab72",
   "metadata": {
    "execution": {
     "iopub.execute_input": "2023-02-25T19:11:47.154913Z",
     "iopub.status.busy": "2023-02-25T19:11:47.154556Z",
     "iopub.status.idle": "2023-02-25T19:11:51.382774Z",
     "shell.execute_reply": "2023-02-25T19:11:51.382058Z"
    }
   },
   "outputs": [
    {
     "name": "stdout",
     "output_type": "stream",
     "text": [
      "52.2 ns ± 0.049 ns per loop (mean ± std. dev. of 7 runs, 10,000,000 loops each)\n"
     ]
    }
   ],
   "source": [
    "%timeit b.a"
   ]
  },
  {
   "cell_type": "code",
   "execution_count": 12,
   "id": "ad54dc69",
   "metadata": {
    "execution": {
     "iopub.execute_input": "2023-02-25T19:11:51.385951Z",
     "iopub.status.busy": "2023-02-25T19:11:51.385372Z",
     "iopub.status.idle": "2023-02-25T19:11:51.391777Z",
     "shell.execute_reply": "2023-02-25T19:11:51.391190Z"
    }
   },
   "outputs": [
    {
     "data": {
      "text/plain": [
       "Batch(\n",
       "    a: tensor([[-1.3514, -0.5151,  0.6412],\n",
       "               [ 0.9653,  0.6915, -1.7599]]),\n",
       "    x: Batch(\n",
       "           c: tensor([[-0.6626,  1.3912, -1.0609, -0.1021],\n",
       "                      [ 0.5688,  1.4765,  0.1690, -0.6049],\n",
       "                      [-0.0909, -0.1654,  0.4285, -0.7030]]),\n",
       "       ),\n",
       ")"
      ]
     },
     "execution_count": 12,
     "metadata": {},
     "output_type": "execute_result"
    }
   ],
   "source": [
    "new_value = torch.randn(2, 3)\n",
    "b.a = new_value\n",
    "\n",
    "b"
   ]
  },
  {
   "cell_type": "code",
   "execution_count": 13,
   "id": "29b1d0bf",
   "metadata": {
    "execution": {
     "iopub.execute_input": "2023-02-25T19:11:51.394429Z",
     "iopub.status.busy": "2023-02-25T19:11:51.394085Z",
     "iopub.status.idle": "2023-02-25T19:11:55.325566Z",
     "shell.execute_reply": "2023-02-25T19:11:55.324797Z"
    }
   },
   "outputs": [
    {
     "name": "stdout",
     "output_type": "stream",
     "text": [
      "484 ns ± 0.054 ns per loop (mean ± std. dev. of 7 runs, 1,000,000 loops each)\n"
     ]
    }
   ],
   "source": [
    "%timeit b.a = new_value"
   ]
  },
  {
   "cell_type": "markdown",
   "id": "b61ad1d0",
   "metadata": {},
   "source": [
    "## Initialization"
   ]
  },
  {
   "cell_type": "markdown",
   "id": "d70f0d54",
   "metadata": {},
   "source": [
    "### TreeValue's Initialization"
   ]
  },
  {
   "cell_type": "code",
   "execution_count": 14,
   "id": "d32a679b",
   "metadata": {
    "execution": {
     "iopub.execute_input": "2023-02-25T19:11:55.328684Z",
     "iopub.status.busy": "2023-02-25T19:11:55.328307Z",
     "iopub.status.idle": "2023-02-25T19:12:02.983258Z",
     "shell.execute_reply": "2023-02-25T19:12:02.982513Z"
    }
   },
   "outputs": [
    {
     "name": "stdout",
     "output_type": "stream",
     "text": [
      "946 ns ± 13.3 ns per loop (mean ± std. dev. of 7 runs, 1,000,000 loops each)\n"
     ]
    }
   ],
   "source": [
    "%timeit FastTreeValue(_TREE_DATA_1)"
   ]
  },
  {
   "cell_type": "markdown",
   "id": "24f3707b",
   "metadata": {},
   "source": [
    "### Tianshou Batch's Initialization"
   ]
  },
  {
   "cell_type": "code",
   "execution_count": 15,
   "id": "ac3958df",
   "metadata": {
    "execution": {
     "iopub.execute_input": "2023-02-25T19:12:02.986158Z",
     "iopub.status.busy": "2023-02-25T19:12:02.985637Z",
     "iopub.status.idle": "2023-02-25T19:12:12.270292Z",
     "shell.execute_reply": "2023-02-25T19:12:12.269543Z"
    }
   },
   "outputs": [
    {
     "name": "stdout",
     "output_type": "stream",
     "text": [
      "11.4 µs ± 39.6 ns per loop (mean ± std. dev. of 7 runs, 100,000 loops each)\n"
     ]
    }
   ],
   "source": [
    "%timeit Batch(**_TREE_DATA_1)"
   ]
  },
  {
   "cell_type": "markdown",
   "id": "1ab82e2d",
   "metadata": {},
   "source": [
    "## Deep Copy Operation"
   ]
  },
  {
   "cell_type": "code",
   "execution_count": 16,
   "id": "210a9442",
   "metadata": {
    "execution": {
     "iopub.execute_input": "2023-02-25T19:12:12.273196Z",
     "iopub.status.busy": "2023-02-25T19:12:12.272823Z",
     "iopub.status.idle": "2023-02-25T19:12:12.276681Z",
     "shell.execute_reply": "2023-02-25T19:12:12.276085Z"
    }
   },
   "outputs": [],
   "source": [
    "import copy"
   ]
  },
  {
   "cell_type": "markdown",
   "id": "5a736274",
   "metadata": {},
   "source": [
    "### Deep Copy of TreeValue"
   ]
  },
  {
   "cell_type": "code",
   "execution_count": 17,
   "id": "f9bcadd6",
   "metadata": {
    "execution": {
     "iopub.execute_input": "2023-02-25T19:12:12.279501Z",
     "iopub.status.busy": "2023-02-25T19:12:12.279034Z",
     "iopub.status.idle": "2023-02-25T19:12:23.402363Z",
     "shell.execute_reply": "2023-02-25T19:12:23.401773Z"
    }
   },
   "outputs": [
    {
     "name": "stdout",
     "output_type": "stream",
     "text": [
      "137 µs ± 2.41 µs per loop (mean ± std. dev. of 7 runs, 10,000 loops each)\n"
     ]
    }
   ],
   "source": [
    "t3 = FastTreeValue(_TREE_DATA_3)\n",
    "%timeit copy.deepcopy(t3)"
   ]
  },
  {
   "cell_type": "markdown",
   "id": "bf8be7ea",
   "metadata": {},
   "source": [
    "### Deep Copy of Tianshou Batch"
   ]
  },
  {
   "cell_type": "code",
   "execution_count": 18,
   "id": "91998e6f",
   "metadata": {
    "execution": {
     "iopub.execute_input": "2023-02-25T19:12:23.405453Z",
     "iopub.status.busy": "2023-02-25T19:12:23.404845Z",
     "iopub.status.idle": "2023-02-25T19:12:34.521320Z",
     "shell.execute_reply": "2023-02-25T19:12:34.520723Z"
    }
   },
   "outputs": [
    {
     "name": "stdout",
     "output_type": "stream",
     "text": [
      "137 µs ± 348 ns per loop (mean ± std. dev. of 7 runs, 10,000 loops each)\n"
     ]
    }
   ],
   "source": [
    "b3 = Batch(**_TREE_DATA_3)\n",
    "%timeit copy.deepcopy(b3)"
   ]
  },
  {
   "cell_type": "markdown",
   "id": "223162fb",
   "metadata": {},
   "source": [
    "## Stack, Concat and Split Operation"
   ]
  },
  {
   "cell_type": "markdown",
   "id": "85fa4a73",
   "metadata": {},
   "source": [
    "### Performance of TreeValue"
   ]
  },
  {
   "cell_type": "code",
   "execution_count": 19,
   "id": "a0c2b697",
   "metadata": {
    "execution": {
     "iopub.execute_input": "2023-02-25T19:12:34.524579Z",
     "iopub.status.busy": "2023-02-25T19:12:34.523632Z",
     "iopub.status.idle": "2023-02-25T19:12:34.527929Z",
     "shell.execute_reply": "2023-02-25T19:12:34.527395Z"
    }
   },
   "outputs": [],
   "source": [
    "trees = [FastTreeValue(_TREE_DATA_2) for _ in range(8)]"
   ]
  },
  {
   "cell_type": "code",
   "execution_count": 20,
   "id": "017ea5a5",
   "metadata": {
    "execution": {
     "iopub.execute_input": "2023-02-25T19:12:34.531311Z",
     "iopub.status.busy": "2023-02-25T19:12:34.530451Z",
     "iopub.status.idle": "2023-02-25T19:12:34.539017Z",
     "shell.execute_reply": "2023-02-25T19:12:34.538509Z"
    }
   },
   "outputs": [
    {
     "data": {
      "text/plain": [
       "<FastTreeValue 0x7f624c919430>\n",
       "├── 'a' --> tensor([[[-0.2258, -1.3123, -1.5467],\n",
       "│                    [-0.2269,  0.0207, -0.8492]],\n",
       "│           \n",
       "│                   [[-0.2258, -1.3123, -1.5467],\n",
       "│                    [-0.2269,  0.0207, -0.8492]],\n",
       "│           \n",
       "│                   [[-0.2258, -1.3123, -1.5467],\n",
       "│                    [-0.2269,  0.0207, -0.8492]],\n",
       "│           \n",
       "│                   [[-0.2258, -1.3123, -1.5467],\n",
       "│                    [-0.2269,  0.0207, -0.8492]],\n",
       "│           \n",
       "│                   [[-0.2258, -1.3123, -1.5467],\n",
       "│                    [-0.2269,  0.0207, -0.8492]],\n",
       "│           \n",
       "│                   [[-0.2258, -1.3123, -1.5467],\n",
       "│                    [-0.2269,  0.0207, -0.8492]],\n",
       "│           \n",
       "│                   [[-0.2258, -1.3123, -1.5467],\n",
       "│                    [-0.2269,  0.0207, -0.8492]],\n",
       "│           \n",
       "│                   [[-0.2258, -1.3123, -1.5467],\n",
       "│                    [-0.2269,  0.0207, -0.8492]]])\n",
       "└── 'x' --> <FastTreeValue 0x7f624c9196a0>\n",
       "    └── 'c' --> tensor([[[-0.6626,  1.3912, -1.0609, -0.1021],\n",
       "                         [ 0.5688,  1.4765,  0.1690, -0.6049],\n",
       "                         [-0.0909, -0.1654,  0.4285, -0.7030]],\n",
       "                \n",
       "                        [[-0.6626,  1.3912, -1.0609, -0.1021],\n",
       "                         [ 0.5688,  1.4765,  0.1690, -0.6049],\n",
       "                         [-0.0909, -0.1654,  0.4285, -0.7030]],\n",
       "                \n",
       "                        [[-0.6626,  1.3912, -1.0609, -0.1021],\n",
       "                         [ 0.5688,  1.4765,  0.1690, -0.6049],\n",
       "                         [-0.0909, -0.1654,  0.4285, -0.7030]],\n",
       "                \n",
       "                        [[-0.6626,  1.3912, -1.0609, -0.1021],\n",
       "                         [ 0.5688,  1.4765,  0.1690, -0.6049],\n",
       "                         [-0.0909, -0.1654,  0.4285, -0.7030]],\n",
       "                \n",
       "                        [[-0.6626,  1.3912, -1.0609, -0.1021],\n",
       "                         [ 0.5688,  1.4765,  0.1690, -0.6049],\n",
       "                         [-0.0909, -0.1654,  0.4285, -0.7030]],\n",
       "                \n",
       "                        [[-0.6626,  1.3912, -1.0609, -0.1021],\n",
       "                         [ 0.5688,  1.4765,  0.1690, -0.6049],\n",
       "                         [-0.0909, -0.1654,  0.4285, -0.7030]],\n",
       "                \n",
       "                        [[-0.6626,  1.3912, -1.0609, -0.1021],\n",
       "                         [ 0.5688,  1.4765,  0.1690, -0.6049],\n",
       "                         [-0.0909, -0.1654,  0.4285, -0.7030]],\n",
       "                \n",
       "                        [[-0.6626,  1.3912, -1.0609, -0.1021],\n",
       "                         [ 0.5688,  1.4765,  0.1690, -0.6049],\n",
       "                         [-0.0909, -0.1654,  0.4285, -0.7030]]])"
      ]
     },
     "execution_count": 20,
     "metadata": {},
     "output_type": "execute_result"
    }
   ],
   "source": [
    "t_stack = FastTreeValue.func(subside=True)(torch.stack)\n",
    "\n",
    "t_stack(trees)"
   ]
  },
  {
   "cell_type": "code",
   "execution_count": 21,
   "id": "f8b3f415",
   "metadata": {
    "execution": {
     "iopub.execute_input": "2023-02-25T19:12:34.542322Z",
     "iopub.status.busy": "2023-02-25T19:12:34.541456Z",
     "iopub.status.idle": "2023-02-25T19:12:37.103243Z",
     "shell.execute_reply": "2023-02-25T19:12:37.102569Z"
    }
   },
   "outputs": [
    {
     "name": "stdout",
     "output_type": "stream",
     "text": [
      "31.5 µs ± 55.3 ns per loop (mean ± std. dev. of 7 runs, 10,000 loops each)\n"
     ]
    }
   ],
   "source": [
    "%timeit t_stack(trees)"
   ]
  },
  {
   "cell_type": "code",
   "execution_count": 22,
   "id": "94b56771",
   "metadata": {
    "execution": {
     "iopub.execute_input": "2023-02-25T19:12:37.106120Z",
     "iopub.status.busy": "2023-02-25T19:12:37.105562Z",
     "iopub.status.idle": "2023-02-25T19:12:37.113527Z",
     "shell.execute_reply": "2023-02-25T19:12:37.112933Z"
    }
   },
   "outputs": [
    {
     "data": {
      "text/plain": [
       "<FastTreeValue 0x7f624d00a070>\n",
       "├── 'a' --> tensor([[-0.2258, -1.3123, -1.5467],\n",
       "│                   [-0.2269,  0.0207, -0.8492],\n",
       "│                   [-0.2258, -1.3123, -1.5467],\n",
       "│                   [-0.2269,  0.0207, -0.8492],\n",
       "│                   [-0.2258, -1.3123, -1.5467],\n",
       "│                   [-0.2269,  0.0207, -0.8492],\n",
       "│                   [-0.2258, -1.3123, -1.5467],\n",
       "│                   [-0.2269,  0.0207, -0.8492],\n",
       "│                   [-0.2258, -1.3123, -1.5467],\n",
       "│                   [-0.2269,  0.0207, -0.8492],\n",
       "│                   [-0.2258, -1.3123, -1.5467],\n",
       "│                   [-0.2269,  0.0207, -0.8492],\n",
       "│                   [-0.2258, -1.3123, -1.5467],\n",
       "│                   [-0.2269,  0.0207, -0.8492],\n",
       "│                   [-0.2258, -1.3123, -1.5467],\n",
       "│                   [-0.2269,  0.0207, -0.8492]])\n",
       "└── 'x' --> <FastTreeValue 0x7f62f8c19b20>\n",
       "    └── 'c' --> tensor([[-0.6626,  1.3912, -1.0609, -0.1021],\n",
       "                        [ 0.5688,  1.4765,  0.1690, -0.6049],\n",
       "                        [-0.0909, -0.1654,  0.4285, -0.7030],\n",
       "                        [-0.6626,  1.3912, -1.0609, -0.1021],\n",
       "                        [ 0.5688,  1.4765,  0.1690, -0.6049],\n",
       "                        [-0.0909, -0.1654,  0.4285, -0.7030],\n",
       "                        [-0.6626,  1.3912, -1.0609, -0.1021],\n",
       "                        [ 0.5688,  1.4765,  0.1690, -0.6049],\n",
       "                        [-0.0909, -0.1654,  0.4285, -0.7030],\n",
       "                        [-0.6626,  1.3912, -1.0609, -0.1021],\n",
       "                        [ 0.5688,  1.4765,  0.1690, -0.6049],\n",
       "                        [-0.0909, -0.1654,  0.4285, -0.7030],\n",
       "                        [-0.6626,  1.3912, -1.0609, -0.1021],\n",
       "                        [ 0.5688,  1.4765,  0.1690, -0.6049],\n",
       "                        [-0.0909, -0.1654,  0.4285, -0.7030],\n",
       "                        [-0.6626,  1.3912, -1.0609, -0.1021],\n",
       "                        [ 0.5688,  1.4765,  0.1690, -0.6049],\n",
       "                        [-0.0909, -0.1654,  0.4285, -0.7030],\n",
       "                        [-0.6626,  1.3912, -1.0609, -0.1021],\n",
       "                        [ 0.5688,  1.4765,  0.1690, -0.6049],\n",
       "                        [-0.0909, -0.1654,  0.4285, -0.7030],\n",
       "                        [-0.6626,  1.3912, -1.0609, -0.1021],\n",
       "                        [ 0.5688,  1.4765,  0.1690, -0.6049],\n",
       "                        [-0.0909, -0.1654,  0.4285, -0.7030]])"
      ]
     },
     "execution_count": 22,
     "metadata": {},
     "output_type": "execute_result"
    }
   ],
   "source": [
    "t_cat = FastTreeValue.func(subside=True)(torch.cat)\n",
    "\n",
    "t_cat(trees)"
   ]
  },
  {
   "cell_type": "code",
   "execution_count": 23,
   "id": "5e9c06a6",
   "metadata": {
    "execution": {
     "iopub.execute_input": "2023-02-25T19:12:37.116088Z",
     "iopub.status.busy": "2023-02-25T19:12:37.115751Z",
     "iopub.status.idle": "2023-02-25T19:12:39.521813Z",
     "shell.execute_reply": "2023-02-25T19:12:39.521072Z"
    }
   },
   "outputs": [
    {
     "name": "stdout",
     "output_type": "stream",
     "text": [
      "29.6 µs ± 88.3 ns per loop (mean ± std. dev. of 7 runs, 10,000 loops each)\n"
     ]
    }
   ],
   "source": [
    "%timeit t_cat(trees)"
   ]
  },
  {
   "cell_type": "code",
   "execution_count": 24,
   "id": "a3ab5c8f",
   "metadata": {
    "execution": {
     "iopub.execute_input": "2023-02-25T19:12:39.524911Z",
     "iopub.status.busy": "2023-02-25T19:12:39.524395Z",
     "iopub.status.idle": "2023-02-25T19:12:44.231372Z",
     "shell.execute_reply": "2023-02-25T19:12:44.230698Z"
    }
   },
   "outputs": [
    {
     "name": "stdout",
     "output_type": "stream",
     "text": [
      "57.8 µs ± 68.8 ns per loop (mean ± std. dev. of 7 runs, 10,000 loops each)\n"
     ]
    }
   ],
   "source": [
    "t_split = FastTreeValue.func(rise=True)(torch.split)\n",
    "tree = FastTreeValue({\n",
    "    'obs': torch.randn(8, 4, 84, 84),\n",
    "    'action': torch.randint(0, 6, size=(8, 1,)),\n",
    "    'reward': torch.rand(8, 1),\n",
    "})\n",
    "\n",
    "%timeit t_split(tree, 1)"
   ]
  },
  {
   "cell_type": "markdown",
   "id": "31c3ec0b",
   "metadata": {},
   "source": [
    "### Performance of Tianshou Batch"
   ]
  },
  {
   "cell_type": "code",
   "execution_count": 25,
   "id": "9ead828a",
   "metadata": {
    "execution": {
     "iopub.execute_input": "2023-02-25T19:12:44.234244Z",
     "iopub.status.busy": "2023-02-25T19:12:44.233793Z",
     "iopub.status.idle": "2023-02-25T19:12:44.241620Z",
     "shell.execute_reply": "2023-02-25T19:12:44.241036Z"
    }
   },
   "outputs": [
    {
     "data": {
      "text/plain": [
       "Batch(\n",
       "    a: tensor([[[-0.2258, -1.3123, -1.5467],\n",
       "                [-0.2269,  0.0207, -0.8492]],\n",
       "       \n",
       "               [[-0.2258, -1.3123, -1.5467],\n",
       "                [-0.2269,  0.0207, -0.8492]],\n",
       "       \n",
       "               [[-0.2258, -1.3123, -1.5467],\n",
       "                [-0.2269,  0.0207, -0.8492]],\n",
       "       \n",
       "               [[-0.2258, -1.3123, -1.5467],\n",
       "                [-0.2269,  0.0207, -0.8492]],\n",
       "       \n",
       "               [[-0.2258, -1.3123, -1.5467],\n",
       "                [-0.2269,  0.0207, -0.8492]],\n",
       "       \n",
       "               [[-0.2258, -1.3123, -1.5467],\n",
       "                [-0.2269,  0.0207, -0.8492]],\n",
       "       \n",
       "               [[-0.2258, -1.3123, -1.5467],\n",
       "                [-0.2269,  0.0207, -0.8492]],\n",
       "       \n",
       "               [[-0.2258, -1.3123, -1.5467],\n",
       "                [-0.2269,  0.0207, -0.8492]]]),\n",
       "    x: Batch(\n",
       "           c: tensor([[[-0.6626,  1.3912, -1.0609, -0.1021],\n",
       "                       [ 0.5688,  1.4765,  0.1690, -0.6049],\n",
       "                       [-0.0909, -0.1654,  0.4285, -0.7030]],\n",
       "              \n",
       "                      [[-0.6626,  1.3912, -1.0609, -0.1021],\n",
       "                       [ 0.5688,  1.4765,  0.1690, -0.6049],\n",
       "                       [-0.0909, -0.1654,  0.4285, -0.7030]],\n",
       "              \n",
       "                      [[-0.6626,  1.3912, -1.0609, -0.1021],\n",
       "                       [ 0.5688,  1.4765,  0.1690, -0.6049],\n",
       "                       [-0.0909, -0.1654,  0.4285, -0.7030]],\n",
       "              \n",
       "                      [[-0.6626,  1.3912, -1.0609, -0.1021],\n",
       "                       [ 0.5688,  1.4765,  0.1690, -0.6049],\n",
       "                       [-0.0909, -0.1654,  0.4285, -0.7030]],\n",
       "              \n",
       "                      [[-0.6626,  1.3912, -1.0609, -0.1021],\n",
       "                       [ 0.5688,  1.4765,  0.1690, -0.6049],\n",
       "                       [-0.0909, -0.1654,  0.4285, -0.7030]],\n",
       "              \n",
       "                      [[-0.6626,  1.3912, -1.0609, -0.1021],\n",
       "                       [ 0.5688,  1.4765,  0.1690, -0.6049],\n",
       "                       [-0.0909, -0.1654,  0.4285, -0.7030]],\n",
       "              \n",
       "                      [[-0.6626,  1.3912, -1.0609, -0.1021],\n",
       "                       [ 0.5688,  1.4765,  0.1690, -0.6049],\n",
       "                       [-0.0909, -0.1654,  0.4285, -0.7030]],\n",
       "              \n",
       "                      [[-0.6626,  1.3912, -1.0609, -0.1021],\n",
       "                       [ 0.5688,  1.4765,  0.1690, -0.6049],\n",
       "                       [-0.0909, -0.1654,  0.4285, -0.7030]]]),\n",
       "       ),\n",
       ")"
      ]
     },
     "execution_count": 25,
     "metadata": {},
     "output_type": "execute_result"
    }
   ],
   "source": [
    "batches = [Batch(**_TREE_DATA_2) for _ in range(8)]\n",
    "\n",
    "Batch.stack(batches)"
   ]
  },
  {
   "cell_type": "code",
   "execution_count": 26,
   "id": "ec9037a3",
   "metadata": {
    "execution": {
     "iopub.execute_input": "2023-02-25T19:12:44.243965Z",
     "iopub.status.busy": "2023-02-25T19:12:44.243626Z",
     "iopub.status.idle": "2023-02-25T19:12:50.547702Z",
     "shell.execute_reply": "2023-02-25T19:12:50.547031Z"
    }
   },
   "outputs": [
    {
     "name": "stdout",
     "output_type": "stream",
     "text": [
      "77.7 µs ± 262 ns per loop (mean ± std. dev. of 7 runs, 10,000 loops each)\n"
     ]
    }
   ],
   "source": [
    "%timeit Batch.stack(batches)"
   ]
  },
  {
   "cell_type": "code",
   "execution_count": 27,
   "id": "cb8ab77e",
   "metadata": {
    "execution": {
     "iopub.execute_input": "2023-02-25T19:12:50.550333Z",
     "iopub.status.busy": "2023-02-25T19:12:50.549972Z",
     "iopub.status.idle": "2023-02-25T19:12:50.557396Z",
     "shell.execute_reply": "2023-02-25T19:12:50.556799Z"
    }
   },
   "outputs": [
    {
     "data": {
      "text/plain": [
       "Batch(\n",
       "    a: tensor([[-0.2258, -1.3123, -1.5467],\n",
       "               [-0.2269,  0.0207, -0.8492],\n",
       "               [-0.2258, -1.3123, -1.5467],\n",
       "               [-0.2269,  0.0207, -0.8492],\n",
       "               [-0.2258, -1.3123, -1.5467],\n",
       "               [-0.2269,  0.0207, -0.8492],\n",
       "               [-0.2258, -1.3123, -1.5467],\n",
       "               [-0.2269,  0.0207, -0.8492],\n",
       "               [-0.2258, -1.3123, -1.5467],\n",
       "               [-0.2269,  0.0207, -0.8492],\n",
       "               [-0.2258, -1.3123, -1.5467],\n",
       "               [-0.2269,  0.0207, -0.8492],\n",
       "               [-0.2258, -1.3123, -1.5467],\n",
       "               [-0.2269,  0.0207, -0.8492],\n",
       "               [-0.2258, -1.3123, -1.5467],\n",
       "               [-0.2269,  0.0207, -0.8492]]),\n",
       "    x: Batch(\n",
       "           c: tensor([[-0.6626,  1.3912, -1.0609, -0.1021],\n",
       "                      [ 0.5688,  1.4765,  0.1690, -0.6049],\n",
       "                      [-0.0909, -0.1654,  0.4285, -0.7030],\n",
       "                      [-0.6626,  1.3912, -1.0609, -0.1021],\n",
       "                      [ 0.5688,  1.4765,  0.1690, -0.6049],\n",
       "                      [-0.0909, -0.1654,  0.4285, -0.7030],\n",
       "                      [-0.6626,  1.3912, -1.0609, -0.1021],\n",
       "                      [ 0.5688,  1.4765,  0.1690, -0.6049],\n",
       "                      [-0.0909, -0.1654,  0.4285, -0.7030],\n",
       "                      [-0.6626,  1.3912, -1.0609, -0.1021],\n",
       "                      [ 0.5688,  1.4765,  0.1690, -0.6049],\n",
       "                      [-0.0909, -0.1654,  0.4285, -0.7030],\n",
       "                      [-0.6626,  1.3912, -1.0609, -0.1021],\n",
       "                      [ 0.5688,  1.4765,  0.1690, -0.6049],\n",
       "                      [-0.0909, -0.1654,  0.4285, -0.7030],\n",
       "                      [-0.6626,  1.3912, -1.0609, -0.1021],\n",
       "                      [ 0.5688,  1.4765,  0.1690, -0.6049],\n",
       "                      [-0.0909, -0.1654,  0.4285, -0.7030],\n",
       "                      [-0.6626,  1.3912, -1.0609, -0.1021],\n",
       "                      [ 0.5688,  1.4765,  0.1690, -0.6049],\n",
       "                      [-0.0909, -0.1654,  0.4285, -0.7030],\n",
       "                      [-0.6626,  1.3912, -1.0609, -0.1021],\n",
       "                      [ 0.5688,  1.4765,  0.1690, -0.6049],\n",
       "                      [-0.0909, -0.1654,  0.4285, -0.7030]]),\n",
       "       ),\n",
       ")"
      ]
     },
     "execution_count": 27,
     "metadata": {},
     "output_type": "execute_result"
    }
   ],
   "source": [
    "Batch.cat(batches)"
   ]
  },
  {
   "cell_type": "code",
   "execution_count": 28,
   "id": "18dfb045",
   "metadata": {
    "execution": {
     "iopub.execute_input": "2023-02-25T19:12:50.559859Z",
     "iopub.status.busy": "2023-02-25T19:12:50.559631Z",
     "iopub.status.idle": "2023-02-25T19:13:01.967377Z",
     "shell.execute_reply": "2023-02-25T19:13:01.966626Z"
    }
   },
   "outputs": [
    {
     "name": "stdout",
     "output_type": "stream",
     "text": [
      "140 µs ± 326 ns per loop (mean ± std. dev. of 7 runs, 10,000 loops each)\n"
     ]
    }
   ],
   "source": [
    "%timeit Batch.cat(batches)"
   ]
  },
  {
   "cell_type": "code",
   "execution_count": 29,
   "id": "c6688e51",
   "metadata": {
    "execution": {
     "iopub.execute_input": "2023-02-25T19:13:01.970473Z",
     "iopub.status.busy": "2023-02-25T19:13:01.970097Z",
     "iopub.status.idle": "2023-02-25T19:13:04.503278Z",
     "shell.execute_reply": "2023-02-25T19:13:04.502558Z"
    }
   },
   "outputs": [
    {
     "name": "stdout",
     "output_type": "stream",
     "text": [
      "311 µs ± 850 ns per loop (mean ± std. dev. of 7 runs, 1,000 loops each)\n"
     ]
    }
   ],
   "source": [
    "batch = Batch({\n",
    "    'obs': torch.randn(8, 4, 84, 84),\n",
    "    'action': torch.randint(0, 6, size=(8, 1,)),\n",
    "    'reward': torch.rand(8, 1)}\n",
    ")\n",
    "\n",
    "%timeit list(Batch.split(batch, 1, shuffle=False, merge_last=True))"
   ]
  },
  {
   "cell_type": "code",
   "execution_count": null,
   "id": "2539fbd9",
   "metadata": {},
   "outputs": [],
   "source": []
  }
 ],
 "metadata": {
  "kernelspec": {
   "display_name": "Python 3 (ipykernel)",
   "language": "python",
   "name": "python3"
  },
  "language_info": {
   "codemirror_mode": {
    "name": "ipython",
    "version": 3
   },
   "file_extension": ".py",
   "mimetype": "text/x-python",
   "name": "python",
   "nbconvert_exporter": "python",
   "pygments_lexer": "ipython3",
   "version": "3.8.16"
  }
 },
 "nbformat": 4,
 "nbformat_minor": 5
}
