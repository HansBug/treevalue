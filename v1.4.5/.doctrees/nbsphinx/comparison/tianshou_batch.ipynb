{
 "cells": [
  {
   "cell_type": "markdown",
   "id": "9d39d946",
   "metadata": {},
   "source": [
    "# Comparison Between TreeValue and Tianshou Batch"
   ]
  },
  {
   "cell_type": "markdown",
   "id": "3c6db2d4",
   "metadata": {},
   "source": [
    "In this section, we will take a look at the feature and performance of the [Tianshou Batch](https://github.com/thu-ml/tianshou) library, which is developed by Tsinghua Machine Learning Group."
   ]
  },
  {
   "cell_type": "markdown",
   "id": "069361b0",
   "metadata": {},
   "source": [
    "Before starting the comparison, let us define some thing."
   ]
  },
  {
   "cell_type": "code",
   "execution_count": 1,
   "id": "06fc8d26",
   "metadata": {
    "execution": {
     "iopub.execute_input": "2023-03-06T11:28:20.471413Z",
     "iopub.status.busy": "2023-03-06T11:28:20.471088Z",
     "iopub.status.idle": "2023-03-06T11:28:21.379407Z",
     "shell.execute_reply": "2023-03-06T11:28:21.378735Z"
    }
   },
   "outputs": [
    {
     "name": "stderr",
     "output_type": "stream",
     "text": [
      "/opt/hostedtoolcache/Python/3.8.16/x64/lib/python3.8/site-packages/tqdm/auto.py:21: TqdmWarning: IProgress not found. Please update jupyter and ipywidgets. See https://ipywidgets.readthedocs.io/en/stable/user_install.html\n",
      "  from .autonotebook import tqdm as notebook_tqdm\n"
     ]
    }
   ],
   "source": [
    "import torch \n",
    "\n",
    "_TREE_DATA_1 = {'a': 1, 'b': 2, 'x': {'c': 3, 'd': 4}}\n",
    "_TREE_DATA_2 = {\n",
    "    'a': torch.randn(2, 3), \n",
    "    'x': {\n",
    "        'c': torch.randn(3, 4)\n",
    "    },\n",
    "}\n",
    "_TREE_DATA_3 = {\n",
    "    'obs': torch.randn(4, 84, 84),\n",
    "    'action': torch.randint(0, 6, size=(1,)),\n",
    "    'reward': torch.rand(1),\n",
    "}"
   ]
  },
  {
   "cell_type": "markdown",
   "id": "83461b25",
   "metadata": {},
   "source": [
    "## Read and Write Operation"
   ]
  },
  {
   "cell_type": "markdown",
   "id": "067b3f73",
   "metadata": {},
   "source": [
    "Reading and writing are the two most common operations in the tree data structure based on the data model (TreeValue and Tianshou Batch both belong to this type), so this section will compare the reading and writing performance of these two libraries."
   ]
  },
  {
   "cell_type": "markdown",
   "id": "5d09a5b7",
   "metadata": {},
   "source": [
    "### TreeValue's Get and Set"
   ]
  },
  {
   "cell_type": "code",
   "execution_count": 2,
   "id": "9519c4bb",
   "metadata": {
    "execution": {
     "iopub.execute_input": "2023-03-06T11:28:21.382965Z",
     "iopub.status.busy": "2023-03-06T11:28:21.382361Z",
     "iopub.status.idle": "2023-03-06T11:28:21.662390Z",
     "shell.execute_reply": "2023-03-06T11:28:21.661719Z"
    }
   },
   "outputs": [],
   "source": [
    "from treevalue import FastTreeValue\n",
    "\n",
    "t = FastTreeValue(_TREE_DATA_2)"
   ]
  },
  {
   "cell_type": "code",
   "execution_count": 3,
   "id": "11c37677",
   "metadata": {
    "execution": {
     "iopub.execute_input": "2023-03-06T11:28:21.665803Z",
     "iopub.status.busy": "2023-03-06T11:28:21.665144Z",
     "iopub.status.idle": "2023-03-06T11:28:21.674378Z",
     "shell.execute_reply": "2023-03-06T11:28:21.673814Z"
    }
   },
   "outputs": [
    {
     "data": {
      "text/plain": [
       "<FastTreeValue 0x7ff3d4256dc0>\n",
       "├── 'a' --> tensor([[-0.8246,  0.4348,  0.1000],\n",
       "│                   [-0.6806, -0.9627, -0.7585]])\n",
       "└── 'x' --> <FastTreeValue 0x7ff3d4256910>\n",
       "    └── 'c' --> tensor([[ 1.9273, -1.8963,  0.1183, -0.1746],\n",
       "                        [ 0.0497, -0.4454, -0.2778, -1.5699],\n",
       "                        [ 0.1366,  0.3614,  0.3101,  1.6129]])"
      ]
     },
     "execution_count": 3,
     "metadata": {},
     "output_type": "execute_result"
    }
   ],
   "source": [
    "t"
   ]
  },
  {
   "cell_type": "code",
   "execution_count": 4,
   "id": "fd70b0b9",
   "metadata": {
    "execution": {
     "iopub.execute_input": "2023-03-06T11:28:21.676783Z",
     "iopub.status.busy": "2023-03-06T11:28:21.676439Z",
     "iopub.status.idle": "2023-03-06T11:28:21.681616Z",
     "shell.execute_reply": "2023-03-06T11:28:21.681041Z"
    }
   },
   "outputs": [
    {
     "data": {
      "text/plain": [
       "tensor([[-0.8246,  0.4348,  0.1000],\n",
       "        [-0.6806, -0.9627, -0.7585]])"
      ]
     },
     "execution_count": 4,
     "metadata": {},
     "output_type": "execute_result"
    }
   ],
   "source": [
    "t.a"
   ]
  },
  {
   "cell_type": "code",
   "execution_count": 5,
   "id": "c18197bd",
   "metadata": {
    "execution": {
     "iopub.execute_input": "2023-03-06T11:28:21.683996Z",
     "iopub.status.busy": "2023-03-06T11:28:21.683645Z",
     "iopub.status.idle": "2023-03-06T11:28:26.632949Z",
     "shell.execute_reply": "2023-03-06T11:28:26.632195Z"
    }
   },
   "outputs": [
    {
     "name": "stdout",
     "output_type": "stream",
     "text": [
      "60.6 ns ± 0.0402 ns per loop (mean ± std. dev. of 7 runs, 10,000,000 loops each)\n"
     ]
    }
   ],
   "source": [
    "%timeit t.a"
   ]
  },
  {
   "cell_type": "code",
   "execution_count": 6,
   "id": "bd52f867",
   "metadata": {
    "execution": {
     "iopub.execute_input": "2023-03-06T11:28:26.636235Z",
     "iopub.status.busy": "2023-03-06T11:28:26.635701Z",
     "iopub.status.idle": "2023-03-06T11:28:26.642742Z",
     "shell.execute_reply": "2023-03-06T11:28:26.641876Z"
    }
   },
   "outputs": [
    {
     "data": {
      "text/plain": [
       "<FastTreeValue 0x7ff3d4256dc0>\n",
       "├── 'a' --> tensor([[-2.7817e-01,  2.0620e-01, -1.8968e+00],\n",
       "│                   [ 1.2979e-01,  7.4491e-01, -7.5679e-04]])\n",
       "└── 'x' --> <FastTreeValue 0x7ff3d4256910>\n",
       "    └── 'c' --> tensor([[ 1.9273, -1.8963,  0.1183, -0.1746],\n",
       "                        [ 0.0497, -0.4454, -0.2778, -1.5699],\n",
       "                        [ 0.1366,  0.3614,  0.3101,  1.6129]])"
      ]
     },
     "execution_count": 6,
     "metadata": {},
     "output_type": "execute_result"
    }
   ],
   "source": [
    "new_value = torch.randn(2, 3)\n",
    "t.a = new_value\n",
    "\n",
    "t"
   ]
  },
  {
   "cell_type": "code",
   "execution_count": 7,
   "id": "bbe04d1c",
   "metadata": {
    "execution": {
     "iopub.execute_input": "2023-03-06T11:28:26.645271Z",
     "iopub.status.busy": "2023-03-06T11:28:26.644761Z",
     "iopub.status.idle": "2023-03-06T11:28:31.447775Z",
     "shell.execute_reply": "2023-03-06T11:28:31.447030Z"
    }
   },
   "outputs": [
    {
     "name": "stdout",
     "output_type": "stream",
     "text": [
      "59.1 ns ± 0.0386 ns per loop (mean ± std. dev. of 7 runs, 10,000,000 loops each)\n"
     ]
    }
   ],
   "source": [
    "%timeit t.a = new_value"
   ]
  },
  {
   "cell_type": "markdown",
   "id": "48c49731",
   "metadata": {},
   "source": [
    "### Tianshou Batch's Get and Set"
   ]
  },
  {
   "cell_type": "code",
   "execution_count": 8,
   "id": "f1bb14c1",
   "metadata": {
    "execution": {
     "iopub.execute_input": "2023-03-06T11:28:31.450679Z",
     "iopub.status.busy": "2023-03-06T11:28:31.450323Z",
     "iopub.status.idle": "2023-03-06T11:28:31.775145Z",
     "shell.execute_reply": "2023-03-06T11:28:31.774469Z"
    }
   },
   "outputs": [],
   "source": [
    "from tianshou.data import Batch\n",
    "\n",
    "b = Batch(**_TREE_DATA_2)"
   ]
  },
  {
   "cell_type": "code",
   "execution_count": 9,
   "id": "cb0777c3",
   "metadata": {
    "execution": {
     "iopub.execute_input": "2023-03-06T11:28:31.778706Z",
     "iopub.status.busy": "2023-03-06T11:28:31.778025Z",
     "iopub.status.idle": "2023-03-06T11:28:31.784173Z",
     "shell.execute_reply": "2023-03-06T11:28:31.783598Z"
    }
   },
   "outputs": [
    {
     "data": {
      "text/plain": [
       "Batch(\n",
       "    a: tensor([[-0.8246,  0.4348,  0.1000],\n",
       "               [-0.6806, -0.9627, -0.7585]]),\n",
       "    x: Batch(\n",
       "           c: tensor([[ 1.9273, -1.8963,  0.1183, -0.1746],\n",
       "                      [ 0.0497, -0.4454, -0.2778, -1.5699],\n",
       "                      [ 0.1366,  0.3614,  0.3101,  1.6129]]),\n",
       "       ),\n",
       ")"
      ]
     },
     "execution_count": 9,
     "metadata": {},
     "output_type": "execute_result"
    }
   ],
   "source": [
    "b"
   ]
  },
  {
   "cell_type": "code",
   "execution_count": 10,
   "id": "43ef8ea3",
   "metadata": {
    "execution": {
     "iopub.execute_input": "2023-03-06T11:28:31.786583Z",
     "iopub.status.busy": "2023-03-06T11:28:31.786246Z",
     "iopub.status.idle": "2023-03-06T11:28:31.790925Z",
     "shell.execute_reply": "2023-03-06T11:28:31.790294Z"
    }
   },
   "outputs": [
    {
     "data": {
      "text/plain": [
       "tensor([[-0.8246,  0.4348,  0.1000],\n",
       "        [-0.6806, -0.9627, -0.7585]])"
      ]
     },
     "execution_count": 10,
     "metadata": {},
     "output_type": "execute_result"
    }
   ],
   "source": [
    "b.a"
   ]
  },
  {
   "cell_type": "code",
   "execution_count": 11,
   "id": "b785ab72",
   "metadata": {
    "execution": {
     "iopub.execute_input": "2023-03-06T11:28:31.793347Z",
     "iopub.status.busy": "2023-03-06T11:28:31.793023Z",
     "iopub.status.idle": "2023-03-06T11:28:36.625409Z",
     "shell.execute_reply": "2023-03-06T11:28:36.624652Z"
    }
   },
   "outputs": [
    {
     "name": "stdout",
     "output_type": "stream",
     "text": [
      "59.5 ns ± 0.0675 ns per loop (mean ± std. dev. of 7 runs, 10,000,000 loops each)\n"
     ]
    }
   ],
   "source": [
    "%timeit b.a"
   ]
  },
  {
   "cell_type": "code",
   "execution_count": 12,
   "id": "ad54dc69",
   "metadata": {
    "execution": {
     "iopub.execute_input": "2023-03-06T11:28:36.628456Z",
     "iopub.status.busy": "2023-03-06T11:28:36.627998Z",
     "iopub.status.idle": "2023-03-06T11:28:36.634362Z",
     "shell.execute_reply": "2023-03-06T11:28:36.633785Z"
    }
   },
   "outputs": [
    {
     "data": {
      "text/plain": [
       "Batch(\n",
       "    a: tensor([[ 0.7154,  0.1400,  1.7908],\n",
       "               [ 0.4638,  0.0072, -0.1735]]),\n",
       "    x: Batch(\n",
       "           c: tensor([[ 1.9273, -1.8963,  0.1183, -0.1746],\n",
       "                      [ 0.0497, -0.4454, -0.2778, -1.5699],\n",
       "                      [ 0.1366,  0.3614,  0.3101,  1.6129]]),\n",
       "       ),\n",
       ")"
      ]
     },
     "execution_count": 12,
     "metadata": {},
     "output_type": "execute_result"
    }
   ],
   "source": [
    "new_value = torch.randn(2, 3)\n",
    "b.a = new_value\n",
    "\n",
    "b"
   ]
  },
  {
   "cell_type": "code",
   "execution_count": 13,
   "id": "29b1d0bf",
   "metadata": {
    "execution": {
     "iopub.execute_input": "2023-03-06T11:28:36.636863Z",
     "iopub.status.busy": "2023-03-06T11:28:36.636529Z",
     "iopub.status.idle": "2023-03-06T11:28:40.535666Z",
     "shell.execute_reply": "2023-03-06T11:28:40.534915Z"
    }
   },
   "outputs": [
    {
     "name": "stdout",
     "output_type": "stream",
     "text": [
      "480 ns ± 0.239 ns per loop (mean ± std. dev. of 7 runs, 1,000,000 loops each)\n"
     ]
    }
   ],
   "source": [
    "%timeit b.a = new_value"
   ]
  },
  {
   "cell_type": "markdown",
   "id": "b61ad1d0",
   "metadata": {},
   "source": [
    "## Initialization"
   ]
  },
  {
   "cell_type": "markdown",
   "id": "d70f0d54",
   "metadata": {},
   "source": [
    "### TreeValue's Initialization"
   ]
  },
  {
   "cell_type": "code",
   "execution_count": 14,
   "id": "d32a679b",
   "metadata": {
    "execution": {
     "iopub.execute_input": "2023-03-06T11:28:40.538805Z",
     "iopub.status.busy": "2023-03-06T11:28:40.538446Z",
     "iopub.status.idle": "2023-03-06T11:28:47.406390Z",
     "shell.execute_reply": "2023-03-06T11:28:47.405656Z"
    }
   },
   "outputs": [
    {
     "name": "stdout",
     "output_type": "stream",
     "text": [
      "846 ns ± 5.49 ns per loop (mean ± std. dev. of 7 runs, 1,000,000 loops each)\n"
     ]
    }
   ],
   "source": [
    "%timeit FastTreeValue(_TREE_DATA_1)"
   ]
  },
  {
   "cell_type": "markdown",
   "id": "24f3707b",
   "metadata": {},
   "source": [
    "### Tianshou Batch's Initialization"
   ]
  },
  {
   "cell_type": "code",
   "execution_count": 15,
   "id": "ac3958df",
   "metadata": {
    "execution": {
     "iopub.execute_input": "2023-03-06T11:28:47.409184Z",
     "iopub.status.busy": "2023-03-06T11:28:47.408832Z",
     "iopub.status.idle": "2023-03-06T11:28:56.385758Z",
     "shell.execute_reply": "2023-03-06T11:28:56.385104Z"
    }
   },
   "outputs": [
    {
     "name": "stdout",
     "output_type": "stream",
     "text": [
      "11.1 µs ± 58.4 ns per loop (mean ± std. dev. of 7 runs, 100,000 loops each)\n"
     ]
    }
   ],
   "source": [
    "%timeit Batch(**_TREE_DATA_1)"
   ]
  },
  {
   "cell_type": "markdown",
   "id": "1ab82e2d",
   "metadata": {},
   "source": [
    "## Deep Copy Operation"
   ]
  },
  {
   "cell_type": "code",
   "execution_count": 16,
   "id": "210a9442",
   "metadata": {
    "execution": {
     "iopub.execute_input": "2023-03-06T11:28:56.388608Z",
     "iopub.status.busy": "2023-03-06T11:28:56.388251Z",
     "iopub.status.idle": "2023-03-06T11:28:56.392086Z",
     "shell.execute_reply": "2023-03-06T11:28:56.391518Z"
    }
   },
   "outputs": [],
   "source": [
    "import copy"
   ]
  },
  {
   "cell_type": "markdown",
   "id": "5a736274",
   "metadata": {},
   "source": [
    "### Deep Copy of TreeValue"
   ]
  },
  {
   "cell_type": "code",
   "execution_count": 17,
   "id": "f9bcadd6",
   "metadata": {
    "execution": {
     "iopub.execute_input": "2023-03-06T11:28:56.394404Z",
     "iopub.status.busy": "2023-03-06T11:28:56.394073Z",
     "iopub.status.idle": "2023-03-06T11:29:07.390096Z",
     "shell.execute_reply": "2023-03-06T11:29:07.389510Z"
    }
   },
   "outputs": [
    {
     "name": "stdout",
     "output_type": "stream",
     "text": [
      "135 µs ± 602 ns per loop (mean ± std. dev. of 7 runs, 10,000 loops each)\n"
     ]
    }
   ],
   "source": [
    "t3 = FastTreeValue(_TREE_DATA_3)\n",
    "%timeit copy.deepcopy(t3)"
   ]
  },
  {
   "cell_type": "markdown",
   "id": "bf8be7ea",
   "metadata": {},
   "source": [
    "### Deep Copy of Tianshou Batch"
   ]
  },
  {
   "cell_type": "code",
   "execution_count": 18,
   "id": "91998e6f",
   "metadata": {
    "execution": {
     "iopub.execute_input": "2023-03-06T11:29:07.393231Z",
     "iopub.status.busy": "2023-03-06T11:29:07.392815Z",
     "iopub.status.idle": "2023-03-06T11:29:18.688888Z",
     "shell.execute_reply": "2023-03-06T11:29:18.688324Z"
    }
   },
   "outputs": [
    {
     "name": "stdout",
     "output_type": "stream",
     "text": [
      "139 µs ± 503 ns per loop (mean ± std. dev. of 7 runs, 10,000 loops each)\n"
     ]
    }
   ],
   "source": [
    "b3 = Batch(**_TREE_DATA_3)\n",
    "%timeit copy.deepcopy(b3)"
   ]
  },
  {
   "cell_type": "markdown",
   "id": "223162fb",
   "metadata": {},
   "source": [
    "## Stack, Concat and Split Operation"
   ]
  },
  {
   "cell_type": "markdown",
   "id": "85fa4a73",
   "metadata": {},
   "source": [
    "### Performance of TreeValue"
   ]
  },
  {
   "cell_type": "code",
   "execution_count": 19,
   "id": "a0c2b697",
   "metadata": {
    "execution": {
     "iopub.execute_input": "2023-03-06T11:29:18.692844Z",
     "iopub.status.busy": "2023-03-06T11:29:18.691931Z",
     "iopub.status.idle": "2023-03-06T11:29:18.696065Z",
     "shell.execute_reply": "2023-03-06T11:29:18.695546Z"
    }
   },
   "outputs": [],
   "source": [
    "trees = [FastTreeValue(_TREE_DATA_2) for _ in range(8)]"
   ]
  },
  {
   "cell_type": "code",
   "execution_count": 20,
   "id": "017ea5a5",
   "metadata": {
    "execution": {
     "iopub.execute_input": "2023-03-06T11:29:18.699442Z",
     "iopub.status.busy": "2023-03-06T11:29:18.698550Z",
     "iopub.status.idle": "2023-03-06T11:29:18.707055Z",
     "shell.execute_reply": "2023-03-06T11:29:18.706526Z"
    }
   },
   "outputs": [
    {
     "data": {
      "text/plain": [
       "<FastTreeValue 0x7ff31e5050a0>\n",
       "├── 'a' --> tensor([[[-0.8246,  0.4348,  0.1000],\n",
       "│                    [-0.6806, -0.9627, -0.7585]],\n",
       "│           \n",
       "│                   [[-0.8246,  0.4348,  0.1000],\n",
       "│                    [-0.6806, -0.9627, -0.7585]],\n",
       "│           \n",
       "│                   [[-0.8246,  0.4348,  0.1000],\n",
       "│                    [-0.6806, -0.9627, -0.7585]],\n",
       "│           \n",
       "│                   [[-0.8246,  0.4348,  0.1000],\n",
       "│                    [-0.6806, -0.9627, -0.7585]],\n",
       "│           \n",
       "│                   [[-0.8246,  0.4348,  0.1000],\n",
       "│                    [-0.6806, -0.9627, -0.7585]],\n",
       "│           \n",
       "│                   [[-0.8246,  0.4348,  0.1000],\n",
       "│                    [-0.6806, -0.9627, -0.7585]],\n",
       "│           \n",
       "│                   [[-0.8246,  0.4348,  0.1000],\n",
       "│                    [-0.6806, -0.9627, -0.7585]],\n",
       "│           \n",
       "│                   [[-0.8246,  0.4348,  0.1000],\n",
       "│                    [-0.6806, -0.9627, -0.7585]]])\n",
       "└── 'x' --> <FastTreeValue 0x7ff31e505cd0>\n",
       "    └── 'c' --> tensor([[[ 1.9273, -1.8963,  0.1183, -0.1746],\n",
       "                         [ 0.0497, -0.4454, -0.2778, -1.5699],\n",
       "                         [ 0.1366,  0.3614,  0.3101,  1.6129]],\n",
       "                \n",
       "                        [[ 1.9273, -1.8963,  0.1183, -0.1746],\n",
       "                         [ 0.0497, -0.4454, -0.2778, -1.5699],\n",
       "                         [ 0.1366,  0.3614,  0.3101,  1.6129]],\n",
       "                \n",
       "                        [[ 1.9273, -1.8963,  0.1183, -0.1746],\n",
       "                         [ 0.0497, -0.4454, -0.2778, -1.5699],\n",
       "                         [ 0.1366,  0.3614,  0.3101,  1.6129]],\n",
       "                \n",
       "                        [[ 1.9273, -1.8963,  0.1183, -0.1746],\n",
       "                         [ 0.0497, -0.4454, -0.2778, -1.5699],\n",
       "                         [ 0.1366,  0.3614,  0.3101,  1.6129]],\n",
       "                \n",
       "                        [[ 1.9273, -1.8963,  0.1183, -0.1746],\n",
       "                         [ 0.0497, -0.4454, -0.2778, -1.5699],\n",
       "                         [ 0.1366,  0.3614,  0.3101,  1.6129]],\n",
       "                \n",
       "                        [[ 1.9273, -1.8963,  0.1183, -0.1746],\n",
       "                         [ 0.0497, -0.4454, -0.2778, -1.5699],\n",
       "                         [ 0.1366,  0.3614,  0.3101,  1.6129]],\n",
       "                \n",
       "                        [[ 1.9273, -1.8963,  0.1183, -0.1746],\n",
       "                         [ 0.0497, -0.4454, -0.2778, -1.5699],\n",
       "                         [ 0.1366,  0.3614,  0.3101,  1.6129]],\n",
       "                \n",
       "                        [[ 1.9273, -1.8963,  0.1183, -0.1746],\n",
       "                         [ 0.0497, -0.4454, -0.2778, -1.5699],\n",
       "                         [ 0.1366,  0.3614,  0.3101,  1.6129]]])"
      ]
     },
     "execution_count": 20,
     "metadata": {},
     "output_type": "execute_result"
    }
   ],
   "source": [
    "t_stack = FastTreeValue.func(subside=True)(torch.stack)\n",
    "\n",
    "t_stack(trees)"
   ]
  },
  {
   "cell_type": "code",
   "execution_count": 21,
   "id": "f8b3f415",
   "metadata": {
    "execution": {
     "iopub.execute_input": "2023-03-06T11:29:18.710343Z",
     "iopub.status.busy": "2023-03-06T11:29:18.709467Z",
     "iopub.status.idle": "2023-03-06T11:29:21.359527Z",
     "shell.execute_reply": "2023-03-06T11:29:21.358838Z"
    }
   },
   "outputs": [
    {
     "name": "stdout",
     "output_type": "stream",
     "text": [
      "32.6 µs ± 283 ns per loop (mean ± std. dev. of 7 runs, 10,000 loops each)\n"
     ]
    }
   ],
   "source": [
    "%timeit t_stack(trees)"
   ]
  },
  {
   "cell_type": "code",
   "execution_count": 22,
   "id": "94b56771",
   "metadata": {
    "execution": {
     "iopub.execute_input": "2023-03-06T11:29:21.362310Z",
     "iopub.status.busy": "2023-03-06T11:29:21.361790Z",
     "iopub.status.idle": "2023-03-06T11:29:21.369638Z",
     "shell.execute_reply": "2023-03-06T11:29:21.369060Z"
    }
   },
   "outputs": [
    {
     "data": {
      "text/plain": [
       "<FastTreeValue 0x7ff325483ac0>\n",
       "├── 'a' --> tensor([[-0.8246,  0.4348,  0.1000],\n",
       "│                   [-0.6806, -0.9627, -0.7585],\n",
       "│                   [-0.8246,  0.4348,  0.1000],\n",
       "│                   [-0.6806, -0.9627, -0.7585],\n",
       "│                   [-0.8246,  0.4348,  0.1000],\n",
       "│                   [-0.6806, -0.9627, -0.7585],\n",
       "│                   [-0.8246,  0.4348,  0.1000],\n",
       "│                   [-0.6806, -0.9627, -0.7585],\n",
       "│                   [-0.8246,  0.4348,  0.1000],\n",
       "│                   [-0.6806, -0.9627, -0.7585],\n",
       "│                   [-0.8246,  0.4348,  0.1000],\n",
       "│                   [-0.6806, -0.9627, -0.7585],\n",
       "│                   [-0.8246,  0.4348,  0.1000],\n",
       "│                   [-0.6806, -0.9627, -0.7585],\n",
       "│                   [-0.8246,  0.4348,  0.1000],\n",
       "│                   [-0.6806, -0.9627, -0.7585]])\n",
       "└── 'x' --> <FastTreeValue 0x7ff31e4e5730>\n",
       "    └── 'c' --> tensor([[ 1.9273, -1.8963,  0.1183, -0.1746],\n",
       "                        [ 0.0497, -0.4454, -0.2778, -1.5699],\n",
       "                        [ 0.1366,  0.3614,  0.3101,  1.6129],\n",
       "                        [ 1.9273, -1.8963,  0.1183, -0.1746],\n",
       "                        [ 0.0497, -0.4454, -0.2778, -1.5699],\n",
       "                        [ 0.1366,  0.3614,  0.3101,  1.6129],\n",
       "                        [ 1.9273, -1.8963,  0.1183, -0.1746],\n",
       "                        [ 0.0497, -0.4454, -0.2778, -1.5699],\n",
       "                        [ 0.1366,  0.3614,  0.3101,  1.6129],\n",
       "                        [ 1.9273, -1.8963,  0.1183, -0.1746],\n",
       "                        [ 0.0497, -0.4454, -0.2778, -1.5699],\n",
       "                        [ 0.1366,  0.3614,  0.3101,  1.6129],\n",
       "                        [ 1.9273, -1.8963,  0.1183, -0.1746],\n",
       "                        [ 0.0497, -0.4454, -0.2778, -1.5699],\n",
       "                        [ 0.1366,  0.3614,  0.3101,  1.6129],\n",
       "                        [ 1.9273, -1.8963,  0.1183, -0.1746],\n",
       "                        [ 0.0497, -0.4454, -0.2778, -1.5699],\n",
       "                        [ 0.1366,  0.3614,  0.3101,  1.6129],\n",
       "                        [ 1.9273, -1.8963,  0.1183, -0.1746],\n",
       "                        [ 0.0497, -0.4454, -0.2778, -1.5699],\n",
       "                        [ 0.1366,  0.3614,  0.3101,  1.6129],\n",
       "                        [ 1.9273, -1.8963,  0.1183, -0.1746],\n",
       "                        [ 0.0497, -0.4454, -0.2778, -1.5699],\n",
       "                        [ 0.1366,  0.3614,  0.3101,  1.6129]])"
      ]
     },
     "execution_count": 22,
     "metadata": {},
     "output_type": "execute_result"
    }
   ],
   "source": [
    "t_cat = FastTreeValue.func(subside=True)(torch.cat)\n",
    "\n",
    "t_cat(trees)"
   ]
  },
  {
   "cell_type": "code",
   "execution_count": 23,
   "id": "5e9c06a6",
   "metadata": {
    "execution": {
     "iopub.execute_input": "2023-03-06T11:29:21.372247Z",
     "iopub.status.busy": "2023-03-06T11:29:21.371695Z",
     "iopub.status.idle": "2023-03-06T11:29:23.855456Z",
     "shell.execute_reply": "2023-03-06T11:29:23.854783Z"
    }
   },
   "outputs": [
    {
     "name": "stdout",
     "output_type": "stream",
     "text": [
      "30.5 µs ± 58.1 ns per loop (mean ± std. dev. of 7 runs, 10,000 loops each)\n"
     ]
    }
   ],
   "source": [
    "%timeit t_cat(trees)"
   ]
  },
  {
   "cell_type": "code",
   "execution_count": 24,
   "id": "a3ab5c8f",
   "metadata": {
    "execution": {
     "iopub.execute_input": "2023-03-06T11:29:23.858453Z",
     "iopub.status.busy": "2023-03-06T11:29:23.857988Z",
     "iopub.status.idle": "2023-03-06T11:29:28.694894Z",
     "shell.execute_reply": "2023-03-06T11:29:28.694140Z"
    }
   },
   "outputs": [
    {
     "name": "stdout",
     "output_type": "stream",
     "text": [
      "59.5 µs ± 56.6 ns per loop (mean ± std. dev. of 7 runs, 10,000 loops each)\n"
     ]
    }
   ],
   "source": [
    "t_split = FastTreeValue.func(rise=True)(torch.split)\n",
    "tree = FastTreeValue({\n",
    "    'obs': torch.randn(8, 4, 84, 84),\n",
    "    'action': torch.randint(0, 6, size=(8, 1,)),\n",
    "    'reward': torch.rand(8, 1),\n",
    "})\n",
    "\n",
    "%timeit t_split(tree, 1)"
   ]
  },
  {
   "cell_type": "markdown",
   "id": "31c3ec0b",
   "metadata": {},
   "source": [
    "### Performance of Tianshou Batch"
   ]
  },
  {
   "cell_type": "code",
   "execution_count": 25,
   "id": "9ead828a",
   "metadata": {
    "execution": {
     "iopub.execute_input": "2023-03-06T11:29:28.697949Z",
     "iopub.status.busy": "2023-03-06T11:29:28.697461Z",
     "iopub.status.idle": "2023-03-06T11:29:28.705247Z",
     "shell.execute_reply": "2023-03-06T11:29:28.704666Z"
    }
   },
   "outputs": [
    {
     "data": {
      "text/plain": [
       "Batch(\n",
       "    a: tensor([[[-0.8246,  0.4348,  0.1000],\n",
       "                [-0.6806, -0.9627, -0.7585]],\n",
       "       \n",
       "               [[-0.8246,  0.4348,  0.1000],\n",
       "                [-0.6806, -0.9627, -0.7585]],\n",
       "       \n",
       "               [[-0.8246,  0.4348,  0.1000],\n",
       "                [-0.6806, -0.9627, -0.7585]],\n",
       "       \n",
       "               [[-0.8246,  0.4348,  0.1000],\n",
       "                [-0.6806, -0.9627, -0.7585]],\n",
       "       \n",
       "               [[-0.8246,  0.4348,  0.1000],\n",
       "                [-0.6806, -0.9627, -0.7585]],\n",
       "       \n",
       "               [[-0.8246,  0.4348,  0.1000],\n",
       "                [-0.6806, -0.9627, -0.7585]],\n",
       "       \n",
       "               [[-0.8246,  0.4348,  0.1000],\n",
       "                [-0.6806, -0.9627, -0.7585]],\n",
       "       \n",
       "               [[-0.8246,  0.4348,  0.1000],\n",
       "                [-0.6806, -0.9627, -0.7585]]]),\n",
       "    x: Batch(\n",
       "           c: tensor([[[ 1.9273, -1.8963,  0.1183, -0.1746],\n",
       "                       [ 0.0497, -0.4454, -0.2778, -1.5699],\n",
       "                       [ 0.1366,  0.3614,  0.3101,  1.6129]],\n",
       "              \n",
       "                      [[ 1.9273, -1.8963,  0.1183, -0.1746],\n",
       "                       [ 0.0497, -0.4454, -0.2778, -1.5699],\n",
       "                       [ 0.1366,  0.3614,  0.3101,  1.6129]],\n",
       "              \n",
       "                      [[ 1.9273, -1.8963,  0.1183, -0.1746],\n",
       "                       [ 0.0497, -0.4454, -0.2778, -1.5699],\n",
       "                       [ 0.1366,  0.3614,  0.3101,  1.6129]],\n",
       "              \n",
       "                      [[ 1.9273, -1.8963,  0.1183, -0.1746],\n",
       "                       [ 0.0497, -0.4454, -0.2778, -1.5699],\n",
       "                       [ 0.1366,  0.3614,  0.3101,  1.6129]],\n",
       "              \n",
       "                      [[ 1.9273, -1.8963,  0.1183, -0.1746],\n",
       "                       [ 0.0497, -0.4454, -0.2778, -1.5699],\n",
       "                       [ 0.1366,  0.3614,  0.3101,  1.6129]],\n",
       "              \n",
       "                      [[ 1.9273, -1.8963,  0.1183, -0.1746],\n",
       "                       [ 0.0497, -0.4454, -0.2778, -1.5699],\n",
       "                       [ 0.1366,  0.3614,  0.3101,  1.6129]],\n",
       "              \n",
       "                      [[ 1.9273, -1.8963,  0.1183, -0.1746],\n",
       "                       [ 0.0497, -0.4454, -0.2778, -1.5699],\n",
       "                       [ 0.1366,  0.3614,  0.3101,  1.6129]],\n",
       "              \n",
       "                      [[ 1.9273, -1.8963,  0.1183, -0.1746],\n",
       "                       [ 0.0497, -0.4454, -0.2778, -1.5699],\n",
       "                       [ 0.1366,  0.3614,  0.3101,  1.6129]]]),\n",
       "       ),\n",
       ")"
      ]
     },
     "execution_count": 25,
     "metadata": {},
     "output_type": "execute_result"
    }
   ],
   "source": [
    "batches = [Batch(**_TREE_DATA_2) for _ in range(8)]\n",
    "\n",
    "Batch.stack(batches)"
   ]
  },
  {
   "cell_type": "code",
   "execution_count": 26,
   "id": "ec9037a3",
   "metadata": {
    "execution": {
     "iopub.execute_input": "2023-03-06T11:29:28.708034Z",
     "iopub.status.busy": "2023-03-06T11:29:28.707500Z",
     "iopub.status.idle": "2023-03-06T11:29:35.105218Z",
     "shell.execute_reply": "2023-03-06T11:29:35.104440Z"
    }
   },
   "outputs": [
    {
     "name": "stdout",
     "output_type": "stream",
     "text": [
      "78.8 µs ± 263 ns per loop (mean ± std. dev. of 7 runs, 10,000 loops each)\n"
     ]
    }
   ],
   "source": [
    "%timeit Batch.stack(batches)"
   ]
  },
  {
   "cell_type": "code",
   "execution_count": 27,
   "id": "cb8ab77e",
   "metadata": {
    "execution": {
     "iopub.execute_input": "2023-03-06T11:29:35.108247Z",
     "iopub.status.busy": "2023-03-06T11:29:35.107894Z",
     "iopub.status.idle": "2023-03-06T11:29:35.115236Z",
     "shell.execute_reply": "2023-03-06T11:29:35.114637Z"
    }
   },
   "outputs": [
    {
     "data": {
      "text/plain": [
       "Batch(\n",
       "    a: tensor([[-0.8246,  0.4348,  0.1000],\n",
       "               [-0.6806, -0.9627, -0.7585],\n",
       "               [-0.8246,  0.4348,  0.1000],\n",
       "               [-0.6806, -0.9627, -0.7585],\n",
       "               [-0.8246,  0.4348,  0.1000],\n",
       "               [-0.6806, -0.9627, -0.7585],\n",
       "               [-0.8246,  0.4348,  0.1000],\n",
       "               [-0.6806, -0.9627, -0.7585],\n",
       "               [-0.8246,  0.4348,  0.1000],\n",
       "               [-0.6806, -0.9627, -0.7585],\n",
       "               [-0.8246,  0.4348,  0.1000],\n",
       "               [-0.6806, -0.9627, -0.7585],\n",
       "               [-0.8246,  0.4348,  0.1000],\n",
       "               [-0.6806, -0.9627, -0.7585],\n",
       "               [-0.8246,  0.4348,  0.1000],\n",
       "               [-0.6806, -0.9627, -0.7585]]),\n",
       "    x: Batch(\n",
       "           c: tensor([[ 1.9273, -1.8963,  0.1183, -0.1746],\n",
       "                      [ 0.0497, -0.4454, -0.2778, -1.5699],\n",
       "                      [ 0.1366,  0.3614,  0.3101,  1.6129],\n",
       "                      [ 1.9273, -1.8963,  0.1183, -0.1746],\n",
       "                      [ 0.0497, -0.4454, -0.2778, -1.5699],\n",
       "                      [ 0.1366,  0.3614,  0.3101,  1.6129],\n",
       "                      [ 1.9273, -1.8963,  0.1183, -0.1746],\n",
       "                      [ 0.0497, -0.4454, -0.2778, -1.5699],\n",
       "                      [ 0.1366,  0.3614,  0.3101,  1.6129],\n",
       "                      [ 1.9273, -1.8963,  0.1183, -0.1746],\n",
       "                      [ 0.0497, -0.4454, -0.2778, -1.5699],\n",
       "                      [ 0.1366,  0.3614,  0.3101,  1.6129],\n",
       "                      [ 1.9273, -1.8963,  0.1183, -0.1746],\n",
       "                      [ 0.0497, -0.4454, -0.2778, -1.5699],\n",
       "                      [ 0.1366,  0.3614,  0.3101,  1.6129],\n",
       "                      [ 1.9273, -1.8963,  0.1183, -0.1746],\n",
       "                      [ 0.0497, -0.4454, -0.2778, -1.5699],\n",
       "                      [ 0.1366,  0.3614,  0.3101,  1.6129],\n",
       "                      [ 1.9273, -1.8963,  0.1183, -0.1746],\n",
       "                      [ 0.0497, -0.4454, -0.2778, -1.5699],\n",
       "                      [ 0.1366,  0.3614,  0.3101,  1.6129],\n",
       "                      [ 1.9273, -1.8963,  0.1183, -0.1746],\n",
       "                      [ 0.0497, -0.4454, -0.2778, -1.5699],\n",
       "                      [ 0.1366,  0.3614,  0.3101,  1.6129]]),\n",
       "       ),\n",
       ")"
      ]
     },
     "execution_count": 27,
     "metadata": {},
     "output_type": "execute_result"
    }
   ],
   "source": [
    "Batch.cat(batches)"
   ]
  },
  {
   "cell_type": "code",
   "execution_count": 28,
   "id": "18dfb045",
   "metadata": {
    "execution": {
     "iopub.execute_input": "2023-03-06T11:29:35.117490Z",
     "iopub.status.busy": "2023-03-06T11:29:35.117274Z",
     "iopub.status.idle": "2023-03-06T11:29:46.776064Z",
     "shell.execute_reply": "2023-03-06T11:29:46.775387Z"
    }
   },
   "outputs": [
    {
     "name": "stdout",
     "output_type": "stream",
     "text": [
      "143 µs ± 223 ns per loop (mean ± std. dev. of 7 runs, 10,000 loops each)\n"
     ]
    }
   ],
   "source": [
    "%timeit Batch.cat(batches)"
   ]
  },
  {
   "cell_type": "code",
   "execution_count": 29,
   "id": "c6688e51",
   "metadata": {
    "execution": {
     "iopub.execute_input": "2023-03-06T11:29:46.779040Z",
     "iopub.status.busy": "2023-03-06T11:29:46.778514Z",
     "iopub.status.idle": "2023-03-06T11:29:49.341187Z",
     "shell.execute_reply": "2023-03-06T11:29:49.340628Z"
    }
   },
   "outputs": [
    {
     "name": "stdout",
     "output_type": "stream",
     "text": [
      "315 µs ± 6.23 µs per loop (mean ± std. dev. of 7 runs, 1,000 loops each)\n"
     ]
    }
   ],
   "source": [
    "batch = Batch({\n",
    "    'obs': torch.randn(8, 4, 84, 84),\n",
    "    'action': torch.randint(0, 6, size=(8, 1,)),\n",
    "    'reward': torch.rand(8, 1)}\n",
    ")\n",
    "\n",
    "%timeit list(Batch.split(batch, 1, shuffle=False, merge_last=True))"
   ]
  },
  {
   "cell_type": "code",
   "execution_count": null,
   "id": "2539fbd9",
   "metadata": {},
   "outputs": [],
   "source": []
  }
 ],
 "metadata": {
  "kernelspec": {
   "display_name": "Python 3 (ipykernel)",
   "language": "python",
   "name": "python3"
  },
  "language_info": {
   "codemirror_mode": {
    "name": "ipython",
    "version": 3
   },
   "file_extension": ".py",
   "mimetype": "text/x-python",
   "name": "python",
   "nbconvert_exporter": "python",
   "pygments_lexer": "ipython3",
   "version": "3.8.16"
  }
 },
 "nbformat": 4,
 "nbformat_minor": 5
}
