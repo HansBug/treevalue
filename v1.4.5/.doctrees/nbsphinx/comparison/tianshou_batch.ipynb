{
 "cells": [
  {
   "cell_type": "markdown",
   "id": "9d39d946",
   "metadata": {},
   "source": [
    "# Comparison Between TreeValue and Tianshou Batch"
   ]
  },
  {
   "cell_type": "markdown",
   "id": "3c6db2d4",
   "metadata": {},
   "source": [
    "In this section, we will take a look at the feature and performance of the [Tianshou Batch](https://github.com/thu-ml/tianshou) library, which is developed by Tsinghua Machine Learning Group."
   ]
  },
  {
   "cell_type": "markdown",
   "id": "069361b0",
   "metadata": {},
   "source": [
    "Before starting the comparison, let us define some thing."
   ]
  },
  {
   "cell_type": "code",
   "execution_count": 1,
   "id": "06fc8d26",
   "metadata": {
    "execution": {
     "iopub.execute_input": "2023-02-23T09:29:28.739964Z",
     "iopub.status.busy": "2023-02-23T09:29:28.739513Z",
     "iopub.status.idle": "2023-02-23T09:29:29.851262Z",
     "shell.execute_reply": "2023-02-23T09:29:29.849961Z"
    }
   },
   "outputs": [
    {
     "name": "stderr",
     "output_type": "stream",
     "text": [
      "/opt/hostedtoolcache/Python/3.8.16/x64/lib/python3.8/site-packages/tqdm/auto.py:22: TqdmWarning: IProgress not found. Please update jupyter and ipywidgets. See https://ipywidgets.readthedocs.io/en/stable/user_install.html\n",
      "  from .autonotebook import tqdm as notebook_tqdm\n"
     ]
    }
   ],
   "source": [
    "import torch \n",
    "\n",
    "_TREE_DATA_1 = {'a': 1, 'b': 2, 'x': {'c': 3, 'd': 4}}\n",
    "_TREE_DATA_2 = {\n",
    "    'a': torch.randn(2, 3), \n",
    "    'x': {\n",
    "        'c': torch.randn(3, 4)\n",
    "    },\n",
    "}\n",
    "_TREE_DATA_3 = {\n",
    "    'obs': torch.randn(4, 84, 84),\n",
    "    'action': torch.randint(0, 6, size=(1,)),\n",
    "    'reward': torch.rand(1),\n",
    "}"
   ]
  },
  {
   "cell_type": "markdown",
   "id": "83461b25",
   "metadata": {},
   "source": [
    "## Read and Write Operation"
   ]
  },
  {
   "cell_type": "markdown",
   "id": "067b3f73",
   "metadata": {},
   "source": [
    "Reading and writing are the two most common operations in the tree data structure based on the data model (TreeValue and Tianshou Batch both belong to this type), so this section will compare the reading and writing performance of these two libraries."
   ]
  },
  {
   "cell_type": "markdown",
   "id": "5d09a5b7",
   "metadata": {},
   "source": [
    "### TreeValue's Get and Set"
   ]
  },
  {
   "cell_type": "code",
   "execution_count": 2,
   "id": "9519c4bb",
   "metadata": {
    "execution": {
     "iopub.execute_input": "2023-02-23T09:29:29.855373Z",
     "iopub.status.busy": "2023-02-23T09:29:29.854898Z",
     "iopub.status.idle": "2023-02-23T09:29:29.896174Z",
     "shell.execute_reply": "2023-02-23T09:29:29.895183Z"
    }
   },
   "outputs": [],
   "source": [
    "from treevalue import FastTreeValue\n",
    "\n",
    "t = FastTreeValue(_TREE_DATA_2)"
   ]
  },
  {
   "cell_type": "code",
   "execution_count": 3,
   "id": "11c37677",
   "metadata": {
    "execution": {
     "iopub.execute_input": "2023-02-23T09:29:29.900483Z",
     "iopub.status.busy": "2023-02-23T09:29:29.899610Z",
     "iopub.status.idle": "2023-02-23T09:29:29.915517Z",
     "shell.execute_reply": "2023-02-23T09:29:29.914395Z"
    }
   },
   "outputs": [
    {
     "data": {
      "text/plain": [
       "<FastTreeValue 0x7ff20c70bee0>\n",
       "├── 'a' --> tensor([[-0.8564,  0.8907, -0.9702],\n",
       "│                   [ 1.3878,  0.9042, -0.9959]])\n",
       "└── 'x' --> <FastTreeValue 0x7ff20c70b070>\n",
       "    └── 'c' --> tensor([[ 1.2597, -0.6361, -0.7958, -1.6428],\n",
       "                        [-0.8940, -0.9450,  1.4342, -0.4739],\n",
       "                        [-1.9996, -1.7055, -0.7922, -0.5828]])"
      ]
     },
     "execution_count": 3,
     "metadata": {},
     "output_type": "execute_result"
    }
   ],
   "source": [
    "t"
   ]
  },
  {
   "cell_type": "code",
   "execution_count": 4,
   "id": "fd70b0b9",
   "metadata": {
    "execution": {
     "iopub.execute_input": "2023-02-23T09:29:29.918776Z",
     "iopub.status.busy": "2023-02-23T09:29:29.918259Z",
     "iopub.status.idle": "2023-02-23T09:29:29.924789Z",
     "shell.execute_reply": "2023-02-23T09:29:29.924080Z"
    }
   },
   "outputs": [
    {
     "data": {
      "text/plain": [
       "tensor([[-0.8564,  0.8907, -0.9702],\n",
       "        [ 1.3878,  0.9042, -0.9959]])"
      ]
     },
     "execution_count": 4,
     "metadata": {},
     "output_type": "execute_result"
    }
   ],
   "source": [
    "t.a"
   ]
  },
  {
   "cell_type": "code",
   "execution_count": 5,
   "id": "c18197bd",
   "metadata": {
    "execution": {
     "iopub.execute_input": "2023-02-23T09:29:29.928014Z",
     "iopub.status.busy": "2023-02-23T09:29:29.927338Z",
     "iopub.status.idle": "2023-02-23T09:29:36.214873Z",
     "shell.execute_reply": "2023-02-23T09:29:36.212214Z"
    }
   },
   "outputs": [
    {
     "name": "stdout",
     "output_type": "stream",
     "text": [
      "77.5 ns ± 0.161 ns per loop (mean ± std. dev. of 7 runs, 10,000,000 loops each)\n"
     ]
    }
   ],
   "source": [
    "%timeit t.a"
   ]
  },
  {
   "cell_type": "code",
   "execution_count": 6,
   "id": "bd52f867",
   "metadata": {
    "execution": {
     "iopub.execute_input": "2023-02-23T09:29:36.218492Z",
     "iopub.status.busy": "2023-02-23T09:29:36.218191Z",
     "iopub.status.idle": "2023-02-23T09:29:36.226039Z",
     "shell.execute_reply": "2023-02-23T09:29:36.224746Z"
    }
   },
   "outputs": [
    {
     "data": {
      "text/plain": [
       "<FastTreeValue 0x7ff20c70bee0>\n",
       "├── 'a' --> tensor([[-0.8796, -0.5286, -1.1626],\n",
       "│                   [ 1.2346,  0.3173,  0.8797]])\n",
       "└── 'x' --> <FastTreeValue 0x7ff20c70b070>\n",
       "    └── 'c' --> tensor([[ 1.2597, -0.6361, -0.7958, -1.6428],\n",
       "                        [-0.8940, -0.9450,  1.4342, -0.4739],\n",
       "                        [-1.9996, -1.7055, -0.7922, -0.5828]])"
      ]
     },
     "execution_count": 6,
     "metadata": {},
     "output_type": "execute_result"
    }
   ],
   "source": [
    "new_value = torch.randn(2, 3)\n",
    "t.a = new_value\n",
    "\n",
    "t"
   ]
  },
  {
   "cell_type": "code",
   "execution_count": 7,
   "id": "bbe04d1c",
   "metadata": {
    "execution": {
     "iopub.execute_input": "2023-02-23T09:29:36.229088Z",
     "iopub.status.busy": "2023-02-23T09:29:36.228581Z",
     "iopub.status.idle": "2023-02-23T09:29:42.967378Z",
     "shell.execute_reply": "2023-02-23T09:29:42.966055Z"
    }
   },
   "outputs": [
    {
     "name": "stdout",
     "output_type": "stream",
     "text": [
      "83 ns ± 0.206 ns per loop (mean ± std. dev. of 7 runs, 10,000,000 loops each)\n"
     ]
    }
   ],
   "source": [
    "%timeit t.a = new_value"
   ]
  },
  {
   "cell_type": "markdown",
   "id": "48c49731",
   "metadata": {},
   "source": [
    "### Tianshou Batch's Get and Set"
   ]
  },
  {
   "cell_type": "code",
   "execution_count": 8,
   "id": "f1bb14c1",
   "metadata": {
    "execution": {
     "iopub.execute_input": "2023-02-23T09:29:42.971884Z",
     "iopub.status.busy": "2023-02-23T09:29:42.971060Z",
     "iopub.status.idle": "2023-02-23T09:29:43.381974Z",
     "shell.execute_reply": "2023-02-23T09:29:43.381169Z"
    }
   },
   "outputs": [],
   "source": [
    "from tianshou.data import Batch\n",
    "\n",
    "b = Batch(**_TREE_DATA_2)"
   ]
  },
  {
   "cell_type": "code",
   "execution_count": 9,
   "id": "cb0777c3",
   "metadata": {
    "execution": {
     "iopub.execute_input": "2023-02-23T09:29:43.386287Z",
     "iopub.status.busy": "2023-02-23T09:29:43.385601Z",
     "iopub.status.idle": "2023-02-23T09:29:43.393004Z",
     "shell.execute_reply": "2023-02-23T09:29:43.392317Z"
    }
   },
   "outputs": [
    {
     "data": {
      "text/plain": [
       "Batch(\n",
       "    a: tensor([[-0.8564,  0.8907, -0.9702],\n",
       "               [ 1.3878,  0.9042, -0.9959]]),\n",
       "    x: Batch(\n",
       "           c: tensor([[ 1.2597, -0.6361, -0.7958, -1.6428],\n",
       "                      [-0.8940, -0.9450,  1.4342, -0.4739],\n",
       "                      [-1.9996, -1.7055, -0.7922, -0.5828]]),\n",
       "       ),\n",
       ")"
      ]
     },
     "execution_count": 9,
     "metadata": {},
     "output_type": "execute_result"
    }
   ],
   "source": [
    "b"
   ]
  },
  {
   "cell_type": "code",
   "execution_count": 10,
   "id": "43ef8ea3",
   "metadata": {
    "execution": {
     "iopub.execute_input": "2023-02-23T09:29:43.396133Z",
     "iopub.status.busy": "2023-02-23T09:29:43.395741Z",
     "iopub.status.idle": "2023-02-23T09:29:43.401459Z",
     "shell.execute_reply": "2023-02-23T09:29:43.400660Z"
    }
   },
   "outputs": [
    {
     "data": {
      "text/plain": [
       "tensor([[-0.8564,  0.8907, -0.9702],\n",
       "        [ 1.3878,  0.9042, -0.9959]])"
      ]
     },
     "execution_count": 10,
     "metadata": {},
     "output_type": "execute_result"
    }
   ],
   "source": [
    "b.a"
   ]
  },
  {
   "cell_type": "code",
   "execution_count": 11,
   "id": "b785ab72",
   "metadata": {
    "execution": {
     "iopub.execute_input": "2023-02-23T09:29:43.404725Z",
     "iopub.status.busy": "2023-02-23T09:29:43.403991Z",
     "iopub.status.idle": "2023-02-23T09:29:49.066825Z",
     "shell.execute_reply": "2023-02-23T09:29:49.065443Z"
    }
   },
   "outputs": [
    {
     "name": "stdout",
     "output_type": "stream",
     "text": [
      "69.7 ns ± 0.307 ns per loop (mean ± std. dev. of 7 runs, 10,000,000 loops each)\n"
     ]
    }
   ],
   "source": [
    "%timeit b.a"
   ]
  },
  {
   "cell_type": "code",
   "execution_count": 12,
   "id": "ad54dc69",
   "metadata": {
    "execution": {
     "iopub.execute_input": "2023-02-23T09:29:49.070815Z",
     "iopub.status.busy": "2023-02-23T09:29:49.070353Z",
     "iopub.status.idle": "2023-02-23T09:29:49.078212Z",
     "shell.execute_reply": "2023-02-23T09:29:49.077387Z"
    }
   },
   "outputs": [
    {
     "data": {
      "text/plain": [
       "Batch(\n",
       "    a: tensor([[-1.1395,  0.1545,  1.1544],\n",
       "               [ 1.4234,  0.5979,  0.3851]]),\n",
       "    x: Batch(\n",
       "           c: tensor([[ 1.2597, -0.6361, -0.7958, -1.6428],\n",
       "                      [-0.8940, -0.9450,  1.4342, -0.4739],\n",
       "                      [-1.9996, -1.7055, -0.7922, -0.5828]]),\n",
       "       ),\n",
       ")"
      ]
     },
     "execution_count": 12,
     "metadata": {},
     "output_type": "execute_result"
    }
   ],
   "source": [
    "new_value = torch.randn(2, 3)\n",
    "b.a = new_value\n",
    "\n",
    "b"
   ]
  },
  {
   "cell_type": "code",
   "execution_count": 13,
   "id": "29b1d0bf",
   "metadata": {
    "execution": {
     "iopub.execute_input": "2023-02-23T09:29:49.081551Z",
     "iopub.status.busy": "2023-02-23T09:29:49.080961Z",
     "iopub.status.idle": "2023-02-23T09:29:53.847873Z",
     "shell.execute_reply": "2023-02-23T09:29:53.846845Z"
    }
   },
   "outputs": [
    {
     "name": "stdout",
     "output_type": "stream",
     "text": [
      "587 ns ± 1.32 ns per loop (mean ± std. dev. of 7 runs, 1,000,000 loops each)\n"
     ]
    }
   ],
   "source": [
    "%timeit b.a = new_value"
   ]
  },
  {
   "cell_type": "markdown",
   "id": "b61ad1d0",
   "metadata": {},
   "source": [
    "## Initialization"
   ]
  },
  {
   "cell_type": "markdown",
   "id": "d70f0d54",
   "metadata": {},
   "source": [
    "### TreeValue's Initialization"
   ]
  },
  {
   "cell_type": "code",
   "execution_count": 14,
   "id": "d32a679b",
   "metadata": {
    "execution": {
     "iopub.execute_input": "2023-02-23T09:29:53.851376Z",
     "iopub.status.busy": "2023-02-23T09:29:53.850852Z",
     "iopub.status.idle": "2023-02-23T09:30:01.729681Z",
     "shell.execute_reply": "2023-02-23T09:30:01.728648Z"
    }
   },
   "outputs": [
    {
     "name": "stdout",
     "output_type": "stream",
     "text": [
      "969 ns ± 1.73 ns per loop (mean ± std. dev. of 7 runs, 1,000,000 loops each)\n"
     ]
    }
   ],
   "source": [
    "%timeit FastTreeValue(_TREE_DATA_1)"
   ]
  },
  {
   "cell_type": "markdown",
   "id": "24f3707b",
   "metadata": {},
   "source": [
    "### Tianshou Batch's Initialization"
   ]
  },
  {
   "cell_type": "code",
   "execution_count": 15,
   "id": "ac3958df",
   "metadata": {
    "execution": {
     "iopub.execute_input": "2023-02-23T09:30:01.733544Z",
     "iopub.status.busy": "2023-02-23T09:30:01.732955Z",
     "iopub.status.idle": "2023-02-23T09:30:11.612953Z",
     "shell.execute_reply": "2023-02-23T09:30:11.611935Z"
    }
   },
   "outputs": [
    {
     "name": "stdout",
     "output_type": "stream",
     "text": [
      "12.1 µs ± 33 ns per loop (mean ± std. dev. of 7 runs, 100,000 loops each)\n"
     ]
    }
   ],
   "source": [
    "%timeit Batch(**_TREE_DATA_1)"
   ]
  },
  {
   "cell_type": "markdown",
   "id": "1ab82e2d",
   "metadata": {},
   "source": [
    "## Deep Copy Operation"
   ]
  },
  {
   "cell_type": "code",
   "execution_count": 16,
   "id": "210a9442",
   "metadata": {
    "execution": {
     "iopub.execute_input": "2023-02-23T09:30:11.616890Z",
     "iopub.status.busy": "2023-02-23T09:30:11.616292Z",
     "iopub.status.idle": "2023-02-23T09:30:11.621033Z",
     "shell.execute_reply": "2023-02-23T09:30:11.620250Z"
    }
   },
   "outputs": [],
   "source": [
    "import copy"
   ]
  },
  {
   "cell_type": "markdown",
   "id": "5a736274",
   "metadata": {},
   "source": [
    "### Deep Copy of TreeValue"
   ]
  },
  {
   "cell_type": "code",
   "execution_count": 17,
   "id": "f9bcadd6",
   "metadata": {
    "execution": {
     "iopub.execute_input": "2023-02-23T09:30:11.624593Z",
     "iopub.status.busy": "2023-02-23T09:30:11.623960Z",
     "iopub.status.idle": "2023-02-23T09:30:25.229129Z",
     "shell.execute_reply": "2023-02-23T09:30:25.228303Z"
    }
   },
   "outputs": [
    {
     "name": "stdout",
     "output_type": "stream",
     "text": [
      "168 µs ± 549 ns per loop (mean ± std. dev. of 7 runs, 10,000 loops each)\n"
     ]
    }
   ],
   "source": [
    "t3 = FastTreeValue(_TREE_DATA_3)\n",
    "%timeit copy.deepcopy(t3)"
   ]
  },
  {
   "cell_type": "markdown",
   "id": "bf8be7ea",
   "metadata": {},
   "source": [
    "### Deep Copy of Tianshou Batch"
   ]
  },
  {
   "cell_type": "code",
   "execution_count": 18,
   "id": "91998e6f",
   "metadata": {
    "execution": {
     "iopub.execute_input": "2023-02-23T09:30:25.232761Z",
     "iopub.status.busy": "2023-02-23T09:30:25.232184Z",
     "iopub.status.idle": "2023-02-23T09:30:38.702039Z",
     "shell.execute_reply": "2023-02-23T09:30:38.701316Z"
    }
   },
   "outputs": [
    {
     "name": "stdout",
     "output_type": "stream",
     "text": [
      "166 µs ± 334 ns per loop (mean ± std. dev. of 7 runs, 10,000 loops each)\n"
     ]
    }
   ],
   "source": [
    "b3 = Batch(**_TREE_DATA_3)\n",
    "%timeit copy.deepcopy(b3)"
   ]
  },
  {
   "cell_type": "markdown",
   "id": "223162fb",
   "metadata": {},
   "source": [
    "## Stack, Concat and Split Operation"
   ]
  },
  {
   "cell_type": "markdown",
   "id": "85fa4a73",
   "metadata": {},
   "source": [
    "### Performance of TreeValue"
   ]
  },
  {
   "cell_type": "code",
   "execution_count": 19,
   "id": "a0c2b697",
   "metadata": {
    "execution": {
     "iopub.execute_input": "2023-02-23T09:30:38.705507Z",
     "iopub.status.busy": "2023-02-23T09:30:38.704924Z",
     "iopub.status.idle": "2023-02-23T09:30:38.708906Z",
     "shell.execute_reply": "2023-02-23T09:30:38.708255Z"
    }
   },
   "outputs": [],
   "source": [
    "trees = [FastTreeValue(_TREE_DATA_2) for _ in range(8)]"
   ]
  },
  {
   "cell_type": "code",
   "execution_count": 20,
   "id": "017ea5a5",
   "metadata": {
    "execution": {
     "iopub.execute_input": "2023-02-23T09:30:38.711966Z",
     "iopub.status.busy": "2023-02-23T09:30:38.711268Z",
     "iopub.status.idle": "2023-02-23T09:30:38.719007Z",
     "shell.execute_reply": "2023-02-23T09:30:38.718371Z"
    }
   },
   "outputs": [
    {
     "data": {
      "text/plain": [
       "<FastTreeValue 0x7ff162396e50>\n",
       "├── 'a' --> tensor([[[-0.8564,  0.8907, -0.9702],\n",
       "│                    [ 1.3878,  0.9042, -0.9959]],\n",
       "│           \n",
       "│                   [[-0.8564,  0.8907, -0.9702],\n",
       "│                    [ 1.3878,  0.9042, -0.9959]],\n",
       "│           \n",
       "│                   [[-0.8564,  0.8907, -0.9702],\n",
       "│                    [ 1.3878,  0.9042, -0.9959]],\n",
       "│           \n",
       "│                   [[-0.8564,  0.8907, -0.9702],\n",
       "│                    [ 1.3878,  0.9042, -0.9959]],\n",
       "│           \n",
       "│                   [[-0.8564,  0.8907, -0.9702],\n",
       "│                    [ 1.3878,  0.9042, -0.9959]],\n",
       "│           \n",
       "│                   [[-0.8564,  0.8907, -0.9702],\n",
       "│                    [ 1.3878,  0.9042, -0.9959]],\n",
       "│           \n",
       "│                   [[-0.8564,  0.8907, -0.9702],\n",
       "│                    [ 1.3878,  0.9042, -0.9959]],\n",
       "│           \n",
       "│                   [[-0.8564,  0.8907, -0.9702],\n",
       "│                    [ 1.3878,  0.9042, -0.9959]]])\n",
       "└── 'x' --> <FastTreeValue 0x7ff162396f10>\n",
       "    └── 'c' --> tensor([[[ 1.2597, -0.6361, -0.7958, -1.6428],\n",
       "                         [-0.8940, -0.9450,  1.4342, -0.4739],\n",
       "                         [-1.9996, -1.7055, -0.7922, -0.5828]],\n",
       "                \n",
       "                        [[ 1.2597, -0.6361, -0.7958, -1.6428],\n",
       "                         [-0.8940, -0.9450,  1.4342, -0.4739],\n",
       "                         [-1.9996, -1.7055, -0.7922, -0.5828]],\n",
       "                \n",
       "                        [[ 1.2597, -0.6361, -0.7958, -1.6428],\n",
       "                         [-0.8940, -0.9450,  1.4342, -0.4739],\n",
       "                         [-1.9996, -1.7055, -0.7922, -0.5828]],\n",
       "                \n",
       "                        [[ 1.2597, -0.6361, -0.7958, -1.6428],\n",
       "                         [-0.8940, -0.9450,  1.4342, -0.4739],\n",
       "                         [-1.9996, -1.7055, -0.7922, -0.5828]],\n",
       "                \n",
       "                        [[ 1.2597, -0.6361, -0.7958, -1.6428],\n",
       "                         [-0.8940, -0.9450,  1.4342, -0.4739],\n",
       "                         [-1.9996, -1.7055, -0.7922, -0.5828]],\n",
       "                \n",
       "                        [[ 1.2597, -0.6361, -0.7958, -1.6428],\n",
       "                         [-0.8940, -0.9450,  1.4342, -0.4739],\n",
       "                         [-1.9996, -1.7055, -0.7922, -0.5828]],\n",
       "                \n",
       "                        [[ 1.2597, -0.6361, -0.7958, -1.6428],\n",
       "                         [-0.8940, -0.9450,  1.4342, -0.4739],\n",
       "                         [-1.9996, -1.7055, -0.7922, -0.5828]],\n",
       "                \n",
       "                        [[ 1.2597, -0.6361, -0.7958, -1.6428],\n",
       "                         [-0.8940, -0.9450,  1.4342, -0.4739],\n",
       "                         [-1.9996, -1.7055, -0.7922, -0.5828]]])"
      ]
     },
     "execution_count": 20,
     "metadata": {},
     "output_type": "execute_result"
    }
   ],
   "source": [
    "t_stack = FastTreeValue.func(subside=True)(torch.stack)\n",
    "\n",
    "t_stack(trees)"
   ]
  },
  {
   "cell_type": "code",
   "execution_count": 21,
   "id": "f8b3f415",
   "metadata": {
    "execution": {
     "iopub.execute_input": "2023-02-23T09:30:38.721987Z",
     "iopub.status.busy": "2023-02-23T09:30:38.721294Z",
     "iopub.status.idle": "2023-02-23T09:30:41.733626Z",
     "shell.execute_reply": "2023-02-23T09:30:41.732495Z"
    }
   },
   "outputs": [
    {
     "name": "stdout",
     "output_type": "stream",
     "text": [
      "37.1 µs ± 97.8 ns per loop (mean ± std. dev. of 7 runs, 10,000 loops each)\n"
     ]
    }
   ],
   "source": [
    "%timeit t_stack(trees)"
   ]
  },
  {
   "cell_type": "code",
   "execution_count": 22,
   "id": "94b56771",
   "metadata": {
    "execution": {
     "iopub.execute_input": "2023-02-23T09:30:41.737364Z",
     "iopub.status.busy": "2023-02-23T09:30:41.737072Z",
     "iopub.status.idle": "2023-02-23T09:30:41.747251Z",
     "shell.execute_reply": "2023-02-23T09:30:41.746514Z"
    }
   },
   "outputs": [
    {
     "data": {
      "text/plain": [
       "<FastTreeValue 0x7ff169002700>\n",
       "├── 'a' --> tensor([[-0.8564,  0.8907, -0.9702],\n",
       "│                   [ 1.3878,  0.9042, -0.9959],\n",
       "│                   [-0.8564,  0.8907, -0.9702],\n",
       "│                   [ 1.3878,  0.9042, -0.9959],\n",
       "│                   [-0.8564,  0.8907, -0.9702],\n",
       "│                   [ 1.3878,  0.9042, -0.9959],\n",
       "│                   [-0.8564,  0.8907, -0.9702],\n",
       "│                   [ 1.3878,  0.9042, -0.9959],\n",
       "│                   [-0.8564,  0.8907, -0.9702],\n",
       "│                   [ 1.3878,  0.9042, -0.9959],\n",
       "│                   [-0.8564,  0.8907, -0.9702],\n",
       "│                   [ 1.3878,  0.9042, -0.9959],\n",
       "│                   [-0.8564,  0.8907, -0.9702],\n",
       "│                   [ 1.3878,  0.9042, -0.9959],\n",
       "│                   [-0.8564,  0.8907, -0.9702],\n",
       "│                   [ 1.3878,  0.9042, -0.9959]])\n",
       "└── 'x' --> <FastTreeValue 0x7ff162394f40>\n",
       "    └── 'c' --> tensor([[ 1.2597, -0.6361, -0.7958, -1.6428],\n",
       "                        [-0.8940, -0.9450,  1.4342, -0.4739],\n",
       "                        [-1.9996, -1.7055, -0.7922, -0.5828],\n",
       "                        [ 1.2597, -0.6361, -0.7958, -1.6428],\n",
       "                        [-0.8940, -0.9450,  1.4342, -0.4739],\n",
       "                        [-1.9996, -1.7055, -0.7922, -0.5828],\n",
       "                        [ 1.2597, -0.6361, -0.7958, -1.6428],\n",
       "                        [-0.8940, -0.9450,  1.4342, -0.4739],\n",
       "                        [-1.9996, -1.7055, -0.7922, -0.5828],\n",
       "                        [ 1.2597, -0.6361, -0.7958, -1.6428],\n",
       "                        [-0.8940, -0.9450,  1.4342, -0.4739],\n",
       "                        [-1.9996, -1.7055, -0.7922, -0.5828],\n",
       "                        [ 1.2597, -0.6361, -0.7958, -1.6428],\n",
       "                        [-0.8940, -0.9450,  1.4342, -0.4739],\n",
       "                        [-1.9996, -1.7055, -0.7922, -0.5828],\n",
       "                        [ 1.2597, -0.6361, -0.7958, -1.6428],\n",
       "                        [-0.8940, -0.9450,  1.4342, -0.4739],\n",
       "                        [-1.9996, -1.7055, -0.7922, -0.5828],\n",
       "                        [ 1.2597, -0.6361, -0.7958, -1.6428],\n",
       "                        [-0.8940, -0.9450,  1.4342, -0.4739],\n",
       "                        [-1.9996, -1.7055, -0.7922, -0.5828],\n",
       "                        [ 1.2597, -0.6361, -0.7958, -1.6428],\n",
       "                        [-0.8940, -0.9450,  1.4342, -0.4739],\n",
       "                        [-1.9996, -1.7055, -0.7922, -0.5828]])"
      ]
     },
     "execution_count": 22,
     "metadata": {},
     "output_type": "execute_result"
    }
   ],
   "source": [
    "t_cat = FastTreeValue.func(subside=True)(torch.cat)\n",
    "\n",
    "t_cat(trees)"
   ]
  },
  {
   "cell_type": "code",
   "execution_count": 23,
   "id": "5e9c06a6",
   "metadata": {
    "execution": {
     "iopub.execute_input": "2023-02-23T09:30:41.750733Z",
     "iopub.status.busy": "2023-02-23T09:30:41.750094Z",
     "iopub.status.idle": "2023-02-23T09:30:44.560877Z",
     "shell.execute_reply": "2023-02-23T09:30:44.559085Z"
    }
   },
   "outputs": [
    {
     "name": "stdout",
     "output_type": "stream",
     "text": [
      "34.5 µs ± 134 ns per loop (mean ± std. dev. of 7 runs, 10,000 loops each)\n"
     ]
    }
   ],
   "source": [
    "%timeit t_cat(trees)"
   ]
  },
  {
   "cell_type": "code",
   "execution_count": 24,
   "id": "a3ab5c8f",
   "metadata": {
    "execution": {
     "iopub.execute_input": "2023-02-23T09:30:44.566144Z",
     "iopub.status.busy": "2023-02-23T09:30:44.565061Z",
     "iopub.status.idle": "2023-02-23T09:30:49.780958Z",
     "shell.execute_reply": "2023-02-23T09:30:49.779785Z"
    }
   },
   "outputs": [
    {
     "name": "stdout",
     "output_type": "stream",
     "text": [
      "64.1 µs ± 130 ns per loop (mean ± std. dev. of 7 runs, 10,000 loops each)\n"
     ]
    }
   ],
   "source": [
    "t_split = FastTreeValue.func(rise=True)(torch.split)\n",
    "tree = FastTreeValue({\n",
    "    'obs': torch.randn(8, 4, 84, 84),\n",
    "    'action': torch.randint(0, 6, size=(8, 1,)),\n",
    "    'reward': torch.rand(8, 1),\n",
    "})\n",
    "\n",
    "%timeit t_split(tree, 1)"
   ]
  },
  {
   "cell_type": "markdown",
   "id": "31c3ec0b",
   "metadata": {},
   "source": [
    "### Performance of Tianshou Batch"
   ]
  },
  {
   "cell_type": "code",
   "execution_count": 25,
   "id": "9ead828a",
   "metadata": {
    "execution": {
     "iopub.execute_input": "2023-02-23T09:30:49.785536Z",
     "iopub.status.busy": "2023-02-23T09:30:49.784965Z",
     "iopub.status.idle": "2023-02-23T09:30:49.794451Z",
     "shell.execute_reply": "2023-02-23T09:30:49.793711Z"
    }
   },
   "outputs": [
    {
     "data": {
      "text/plain": [
       "Batch(\n",
       "    x: Batch(\n",
       "           c: tensor([[[ 1.2597, -0.6361, -0.7958, -1.6428],\n",
       "                       [-0.8940, -0.9450,  1.4342, -0.4739],\n",
       "                       [-1.9996, -1.7055, -0.7922, -0.5828]],\n",
       "              \n",
       "                      [[ 1.2597, -0.6361, -0.7958, -1.6428],\n",
       "                       [-0.8940, -0.9450,  1.4342, -0.4739],\n",
       "                       [-1.9996, -1.7055, -0.7922, -0.5828]],\n",
       "              \n",
       "                      [[ 1.2597, -0.6361, -0.7958, -1.6428],\n",
       "                       [-0.8940, -0.9450,  1.4342, -0.4739],\n",
       "                       [-1.9996, -1.7055, -0.7922, -0.5828]],\n",
       "              \n",
       "                      [[ 1.2597, -0.6361, -0.7958, -1.6428],\n",
       "                       [-0.8940, -0.9450,  1.4342, -0.4739],\n",
       "                       [-1.9996, -1.7055, -0.7922, -0.5828]],\n",
       "              \n",
       "                      [[ 1.2597, -0.6361, -0.7958, -1.6428],\n",
       "                       [-0.8940, -0.9450,  1.4342, -0.4739],\n",
       "                       [-1.9996, -1.7055, -0.7922, -0.5828]],\n",
       "              \n",
       "                      [[ 1.2597, -0.6361, -0.7958, -1.6428],\n",
       "                       [-0.8940, -0.9450,  1.4342, -0.4739],\n",
       "                       [-1.9996, -1.7055, -0.7922, -0.5828]],\n",
       "              \n",
       "                      [[ 1.2597, -0.6361, -0.7958, -1.6428],\n",
       "                       [-0.8940, -0.9450,  1.4342, -0.4739],\n",
       "                       [-1.9996, -1.7055, -0.7922, -0.5828]],\n",
       "              \n",
       "                      [[ 1.2597, -0.6361, -0.7958, -1.6428],\n",
       "                       [-0.8940, -0.9450,  1.4342, -0.4739],\n",
       "                       [-1.9996, -1.7055, -0.7922, -0.5828]]]),\n",
       "       ),\n",
       "    a: tensor([[[-0.8564,  0.8907, -0.9702],\n",
       "                [ 1.3878,  0.9042, -0.9959]],\n",
       "       \n",
       "               [[-0.8564,  0.8907, -0.9702],\n",
       "                [ 1.3878,  0.9042, -0.9959]],\n",
       "       \n",
       "               [[-0.8564,  0.8907, -0.9702],\n",
       "                [ 1.3878,  0.9042, -0.9959]],\n",
       "       \n",
       "               [[-0.8564,  0.8907, -0.9702],\n",
       "                [ 1.3878,  0.9042, -0.9959]],\n",
       "       \n",
       "               [[-0.8564,  0.8907, -0.9702],\n",
       "                [ 1.3878,  0.9042, -0.9959]],\n",
       "       \n",
       "               [[-0.8564,  0.8907, -0.9702],\n",
       "                [ 1.3878,  0.9042, -0.9959]],\n",
       "       \n",
       "               [[-0.8564,  0.8907, -0.9702],\n",
       "                [ 1.3878,  0.9042, -0.9959]],\n",
       "       \n",
       "               [[-0.8564,  0.8907, -0.9702],\n",
       "                [ 1.3878,  0.9042, -0.9959]]]),\n",
       ")"
      ]
     },
     "execution_count": 25,
     "metadata": {},
     "output_type": "execute_result"
    }
   ],
   "source": [
    "batches = [Batch(**_TREE_DATA_2) for _ in range(8)]\n",
    "\n",
    "Batch.stack(batches)"
   ]
  },
  {
   "cell_type": "code",
   "execution_count": 26,
   "id": "ec9037a3",
   "metadata": {
    "execution": {
     "iopub.execute_input": "2023-02-23T09:30:49.797712Z",
     "iopub.status.busy": "2023-02-23T09:30:49.797257Z",
     "iopub.status.idle": "2023-02-23T09:30:57.241724Z",
     "shell.execute_reply": "2023-02-23T09:30:57.239051Z"
    }
   },
   "outputs": [
    {
     "name": "stdout",
     "output_type": "stream",
     "text": [
      "91.6 µs ± 324 ns per loop (mean ± std. dev. of 7 runs, 10,000 loops each)\n"
     ]
    }
   ],
   "source": [
    "%timeit Batch.stack(batches)"
   ]
  },
  {
   "cell_type": "code",
   "execution_count": 27,
   "id": "cb8ab77e",
   "metadata": {
    "execution": {
     "iopub.execute_input": "2023-02-23T09:30:57.248534Z",
     "iopub.status.busy": "2023-02-23T09:30:57.247747Z",
     "iopub.status.idle": "2023-02-23T09:30:57.256681Z",
     "shell.execute_reply": "2023-02-23T09:30:57.255957Z"
    }
   },
   "outputs": [
    {
     "data": {
      "text/plain": [
       "Batch(\n",
       "    x: Batch(\n",
       "           c: tensor([[ 1.2597, -0.6361, -0.7958, -1.6428],\n",
       "                      [-0.8940, -0.9450,  1.4342, -0.4739],\n",
       "                      [-1.9996, -1.7055, -0.7922, -0.5828],\n",
       "                      [ 1.2597, -0.6361, -0.7958, -1.6428],\n",
       "                      [-0.8940, -0.9450,  1.4342, -0.4739],\n",
       "                      [-1.9996, -1.7055, -0.7922, -0.5828],\n",
       "                      [ 1.2597, -0.6361, -0.7958, -1.6428],\n",
       "                      [-0.8940, -0.9450,  1.4342, -0.4739],\n",
       "                      [-1.9996, -1.7055, -0.7922, -0.5828],\n",
       "                      [ 1.2597, -0.6361, -0.7958, -1.6428],\n",
       "                      [-0.8940, -0.9450,  1.4342, -0.4739],\n",
       "                      [-1.9996, -1.7055, -0.7922, -0.5828],\n",
       "                      [ 1.2597, -0.6361, -0.7958, -1.6428],\n",
       "                      [-0.8940, -0.9450,  1.4342, -0.4739],\n",
       "                      [-1.9996, -1.7055, -0.7922, -0.5828],\n",
       "                      [ 1.2597, -0.6361, -0.7958, -1.6428],\n",
       "                      [-0.8940, -0.9450,  1.4342, -0.4739],\n",
       "                      [-1.9996, -1.7055, -0.7922, -0.5828],\n",
       "                      [ 1.2597, -0.6361, -0.7958, -1.6428],\n",
       "                      [-0.8940, -0.9450,  1.4342, -0.4739],\n",
       "                      [-1.9996, -1.7055, -0.7922, -0.5828],\n",
       "                      [ 1.2597, -0.6361, -0.7958, -1.6428],\n",
       "                      [-0.8940, -0.9450,  1.4342, -0.4739],\n",
       "                      [-1.9996, -1.7055, -0.7922, -0.5828]]),\n",
       "       ),\n",
       "    a: tensor([[-0.8564,  0.8907, -0.9702],\n",
       "               [ 1.3878,  0.9042, -0.9959],\n",
       "               [-0.8564,  0.8907, -0.9702],\n",
       "               [ 1.3878,  0.9042, -0.9959],\n",
       "               [-0.8564,  0.8907, -0.9702],\n",
       "               [ 1.3878,  0.9042, -0.9959],\n",
       "               [-0.8564,  0.8907, -0.9702],\n",
       "               [ 1.3878,  0.9042, -0.9959],\n",
       "               [-0.8564,  0.8907, -0.9702],\n",
       "               [ 1.3878,  0.9042, -0.9959],\n",
       "               [-0.8564,  0.8907, -0.9702],\n",
       "               [ 1.3878,  0.9042, -0.9959],\n",
       "               [-0.8564,  0.8907, -0.9702],\n",
       "               [ 1.3878,  0.9042, -0.9959],\n",
       "               [-0.8564,  0.8907, -0.9702],\n",
       "               [ 1.3878,  0.9042, -0.9959]]),\n",
       ")"
      ]
     },
     "execution_count": 27,
     "metadata": {},
     "output_type": "execute_result"
    }
   ],
   "source": [
    "Batch.cat(batches)"
   ]
  },
  {
   "cell_type": "code",
   "execution_count": 28,
   "id": "18dfb045",
   "metadata": {
    "execution": {
     "iopub.execute_input": "2023-02-23T09:30:57.259908Z",
     "iopub.status.busy": "2023-02-23T09:30:57.259247Z",
     "iopub.status.idle": "2023-02-23T09:31:10.649787Z",
     "shell.execute_reply": "2023-02-23T09:31:10.648750Z"
    }
   },
   "outputs": [
    {
     "name": "stdout",
     "output_type": "stream",
     "text": [
      "165 µs ± 537 ns per loop (mean ± std. dev. of 7 runs, 10,000 loops each)\n"
     ]
    }
   ],
   "source": [
    "%timeit Batch.cat(batches)"
   ]
  },
  {
   "cell_type": "code",
   "execution_count": 29,
   "id": "c6688e51",
   "metadata": {
    "execution": {
     "iopub.execute_input": "2023-02-23T09:31:10.653988Z",
     "iopub.status.busy": "2023-02-23T09:31:10.653377Z",
     "iopub.status.idle": "2023-02-23T09:31:13.825816Z",
     "shell.execute_reply": "2023-02-23T09:31:13.825101Z"
    }
   },
   "outputs": [
    {
     "name": "stdout",
     "output_type": "stream",
     "text": [
      "391 µs ± 4.58 µs per loop (mean ± std. dev. of 7 runs, 1,000 loops each)\n"
     ]
    }
   ],
   "source": [
    "batch = Batch({\n",
    "    'obs': torch.randn(8, 4, 84, 84),\n",
    "    'action': torch.randint(0, 6, size=(8, 1,)),\n",
    "    'reward': torch.rand(8, 1)}\n",
    ")\n",
    "\n",
    "%timeit list(Batch.split(batch, 1, shuffle=False, merge_last=True))"
   ]
  },
  {
   "cell_type": "code",
   "execution_count": null,
   "id": "2539fbd9",
   "metadata": {},
   "outputs": [],
   "source": []
  }
 ],
 "metadata": {
  "kernelspec": {
   "display_name": "Python 3 (ipykernel)",
   "language": "python",
   "name": "python3"
  },
  "language_info": {
   "codemirror_mode": {
    "name": "ipython",
    "version": 3
   },
   "file_extension": ".py",
   "mimetype": "text/x-python",
   "name": "python",
   "nbconvert_exporter": "python",
   "pygments_lexer": "ipython3",
   "version": "3.8.16"
  }
 },
 "nbformat": 4,
 "nbformat_minor": 5
}
