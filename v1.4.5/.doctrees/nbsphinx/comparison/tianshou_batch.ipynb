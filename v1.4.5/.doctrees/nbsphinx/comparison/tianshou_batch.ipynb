{
 "cells": [
  {
   "cell_type": "markdown",
   "id": "9d39d946",
   "metadata": {},
   "source": [
    "# Comparison Between TreeValue and Tianshou Batch"
   ]
  },
  {
   "cell_type": "markdown",
   "id": "3c6db2d4",
   "metadata": {},
   "source": [
    "In this section, we will take a look at the feature and performance of the [Tianshou Batch](https://github.com/thu-ml/tianshou) library, which is developed by Tsinghua Machine Learning Group."
   ]
  },
  {
   "cell_type": "markdown",
   "id": "069361b0",
   "metadata": {},
   "source": [
    "Before starting the comparison, let us define some thing."
   ]
  },
  {
   "cell_type": "code",
   "execution_count": 1,
   "id": "06fc8d26",
   "metadata": {
    "execution": {
     "iopub.execute_input": "2023-02-26T16:40:34.959738Z",
     "iopub.status.busy": "2023-02-26T16:40:34.959332Z",
     "iopub.status.idle": "2023-02-26T16:40:35.859380Z",
     "shell.execute_reply": "2023-02-26T16:40:35.858420Z"
    }
   },
   "outputs": [
    {
     "name": "stderr",
     "output_type": "stream",
     "text": [
      "/opt/hostedtoolcache/Python/3.8.16/x64/lib/python3.8/site-packages/tqdm/auto.py:22: TqdmWarning: IProgress not found. Please update jupyter and ipywidgets. See https://ipywidgets.readthedocs.io/en/stable/user_install.html\n",
      "  from .autonotebook import tqdm as notebook_tqdm\n"
     ]
    }
   ],
   "source": [
    "import torch \n",
    "\n",
    "_TREE_DATA_1 = {'a': 1, 'b': 2, 'x': {'c': 3, 'd': 4}}\n",
    "_TREE_DATA_2 = {\n",
    "    'a': torch.randn(2, 3), \n",
    "    'x': {\n",
    "        'c': torch.randn(3, 4)\n",
    "    },\n",
    "}\n",
    "_TREE_DATA_3 = {\n",
    "    'obs': torch.randn(4, 84, 84),\n",
    "    'action': torch.randint(0, 6, size=(1,)),\n",
    "    'reward': torch.rand(1),\n",
    "}"
   ]
  },
  {
   "cell_type": "markdown",
   "id": "83461b25",
   "metadata": {},
   "source": [
    "## Read and Write Operation"
   ]
  },
  {
   "cell_type": "markdown",
   "id": "067b3f73",
   "metadata": {},
   "source": [
    "Reading and writing are the two most common operations in the tree data structure based on the data model (TreeValue and Tianshou Batch both belong to this type), so this section will compare the reading and writing performance of these two libraries."
   ]
  },
  {
   "cell_type": "markdown",
   "id": "5d09a5b7",
   "metadata": {},
   "source": [
    "### TreeValue's Get and Set"
   ]
  },
  {
   "cell_type": "code",
   "execution_count": 2,
   "id": "9519c4bb",
   "metadata": {
    "execution": {
     "iopub.execute_input": "2023-02-26T16:40:35.862576Z",
     "iopub.status.busy": "2023-02-26T16:40:35.862009Z",
     "iopub.status.idle": "2023-02-26T16:40:36.137966Z",
     "shell.execute_reply": "2023-02-26T16:40:36.136679Z"
    }
   },
   "outputs": [],
   "source": [
    "from treevalue import FastTreeValue\n",
    "\n",
    "t = FastTreeValue(_TREE_DATA_2)"
   ]
  },
  {
   "cell_type": "code",
   "execution_count": 3,
   "id": "11c37677",
   "metadata": {
    "execution": {
     "iopub.execute_input": "2023-02-26T16:40:36.141124Z",
     "iopub.status.busy": "2023-02-26T16:40:36.140539Z",
     "iopub.status.idle": "2023-02-26T16:40:36.149791Z",
     "shell.execute_reply": "2023-02-26T16:40:36.149201Z"
    }
   },
   "outputs": [
    {
     "data": {
      "text/plain": [
       "<FastTreeValue 0x7f01acf0eee0>\n",
       "├── 'a' --> tensor([[-2.1893,  0.5867, -0.9865],\n",
       "│                   [-0.5054,  0.0042,  2.1046]])\n",
       "└── 'x' --> <FastTreeValue 0x7f01acf0e070>\n",
       "    └── 'c' --> tensor([[ 0.7638,  1.0356, -0.2120, -0.0864],\n",
       "                        [-0.6051,  0.8182, -1.8605,  1.0783],\n",
       "                        [ 0.4547, -1.8641,  0.5639, -0.7374]])"
      ]
     },
     "execution_count": 3,
     "metadata": {},
     "output_type": "execute_result"
    }
   ],
   "source": [
    "t"
   ]
  },
  {
   "cell_type": "code",
   "execution_count": 4,
   "id": "fd70b0b9",
   "metadata": {
    "execution": {
     "iopub.execute_input": "2023-02-26T16:40:36.152396Z",
     "iopub.status.busy": "2023-02-26T16:40:36.152068Z",
     "iopub.status.idle": "2023-02-26T16:40:36.157476Z",
     "shell.execute_reply": "2023-02-26T16:40:36.156907Z"
    }
   },
   "outputs": [
    {
     "data": {
      "text/plain": [
       "tensor([[-2.1893,  0.5867, -0.9865],\n",
       "        [-0.5054,  0.0042,  2.1046]])"
      ]
     },
     "execution_count": 4,
     "metadata": {},
     "output_type": "execute_result"
    }
   ],
   "source": [
    "t.a"
   ]
  },
  {
   "cell_type": "code",
   "execution_count": 5,
   "id": "c18197bd",
   "metadata": {
    "execution": {
     "iopub.execute_input": "2023-02-26T16:40:36.160177Z",
     "iopub.status.busy": "2023-02-26T16:40:36.159721Z",
     "iopub.status.idle": "2023-02-26T16:40:41.601155Z",
     "shell.execute_reply": "2023-02-26T16:40:41.600454Z"
    }
   },
   "outputs": [
    {
     "name": "stdout",
     "output_type": "stream",
     "text": [
      "67 ns ± 0.0275 ns per loop (mean ± std. dev. of 7 runs, 10,000,000 loops each)\n"
     ]
    }
   ],
   "source": [
    "%timeit t.a"
   ]
  },
  {
   "cell_type": "code",
   "execution_count": 6,
   "id": "bd52f867",
   "metadata": {
    "execution": {
     "iopub.execute_input": "2023-02-26T16:40:41.603994Z",
     "iopub.status.busy": "2023-02-26T16:40:41.603485Z",
     "iopub.status.idle": "2023-02-26T16:40:41.609982Z",
     "shell.execute_reply": "2023-02-26T16:40:41.609391Z"
    }
   },
   "outputs": [
    {
     "data": {
      "text/plain": [
       "<FastTreeValue 0x7f01acf0eee0>\n",
       "├── 'a' --> tensor([[ 0.5785,  0.2696,  2.2569],\n",
       "│                   [ 0.4889, -0.5327, -0.4742]])\n",
       "└── 'x' --> <FastTreeValue 0x7f01acf0e070>\n",
       "    └── 'c' --> tensor([[ 0.7638,  1.0356, -0.2120, -0.0864],\n",
       "                        [-0.6051,  0.8182, -1.8605,  1.0783],\n",
       "                        [ 0.4547, -1.8641,  0.5639, -0.7374]])"
      ]
     },
     "execution_count": 6,
     "metadata": {},
     "output_type": "execute_result"
    }
   ],
   "source": [
    "new_value = torch.randn(2, 3)\n",
    "t.a = new_value\n",
    "\n",
    "t"
   ]
  },
  {
   "cell_type": "code",
   "execution_count": 7,
   "id": "bbe04d1c",
   "metadata": {
    "execution": {
     "iopub.execute_input": "2023-02-26T16:40:41.612704Z",
     "iopub.status.busy": "2023-02-26T16:40:41.612133Z",
     "iopub.status.idle": "2023-02-26T16:40:47.119380Z",
     "shell.execute_reply": "2023-02-26T16:40:47.118681Z"
    }
   },
   "outputs": [
    {
     "name": "stdout",
     "output_type": "stream",
     "text": [
      "67.9 ns ± 0.0291 ns per loop (mean ± std. dev. of 7 runs, 10,000,000 loops each)\n"
     ]
    }
   ],
   "source": [
    "%timeit t.a = new_value"
   ]
  },
  {
   "cell_type": "markdown",
   "id": "48c49731",
   "metadata": {},
   "source": [
    "### Tianshou Batch's Get and Set"
   ]
  },
  {
   "cell_type": "code",
   "execution_count": 8,
   "id": "f1bb14c1",
   "metadata": {
    "execution": {
     "iopub.execute_input": "2023-02-26T16:40:47.122091Z",
     "iopub.status.busy": "2023-02-26T16:40:47.121738Z",
     "iopub.status.idle": "2023-02-26T16:40:47.445562Z",
     "shell.execute_reply": "2023-02-26T16:40:47.444636Z"
    }
   },
   "outputs": [],
   "source": [
    "from tianshou.data import Batch\n",
    "\n",
    "b = Batch(**_TREE_DATA_2)"
   ]
  },
  {
   "cell_type": "code",
   "execution_count": 9,
   "id": "cb0777c3",
   "metadata": {
    "execution": {
     "iopub.execute_input": "2023-02-26T16:40:47.448772Z",
     "iopub.status.busy": "2023-02-26T16:40:47.448183Z",
     "iopub.status.idle": "2023-02-26T16:40:47.454137Z",
     "shell.execute_reply": "2023-02-26T16:40:47.453557Z"
    }
   },
   "outputs": [
    {
     "data": {
      "text/plain": [
       "Batch(\n",
       "    a: tensor([[-2.1893,  0.5867, -0.9865],\n",
       "               [-0.5054,  0.0042,  2.1046]]),\n",
       "    x: Batch(\n",
       "           c: tensor([[ 0.7638,  1.0356, -0.2120, -0.0864],\n",
       "                      [-0.6051,  0.8182, -1.8605,  1.0783],\n",
       "                      [ 0.4547, -1.8641,  0.5639, -0.7374]]),\n",
       "       ),\n",
       ")"
      ]
     },
     "execution_count": 9,
     "metadata": {},
     "output_type": "execute_result"
    }
   ],
   "source": [
    "b"
   ]
  },
  {
   "cell_type": "code",
   "execution_count": 10,
   "id": "43ef8ea3",
   "metadata": {
    "execution": {
     "iopub.execute_input": "2023-02-26T16:40:47.456763Z",
     "iopub.status.busy": "2023-02-26T16:40:47.456224Z",
     "iopub.status.idle": "2023-02-26T16:40:47.461436Z",
     "shell.execute_reply": "2023-02-26T16:40:47.460872Z"
    }
   },
   "outputs": [
    {
     "data": {
      "text/plain": [
       "tensor([[-2.1893,  0.5867, -0.9865],\n",
       "        [-0.5054,  0.0042,  2.1046]])"
      ]
     },
     "execution_count": 10,
     "metadata": {},
     "output_type": "execute_result"
    }
   ],
   "source": [
    "b.a"
   ]
  },
  {
   "cell_type": "code",
   "execution_count": 11,
   "id": "b785ab72",
   "metadata": {
    "execution": {
     "iopub.execute_input": "2023-02-26T16:40:47.463587Z",
     "iopub.status.busy": "2023-02-26T16:40:47.463379Z",
     "iopub.status.idle": "2023-02-26T16:40:51.744619Z",
     "shell.execute_reply": "2023-02-26T16:40:51.743915Z"
    }
   },
   "outputs": [
    {
     "name": "stdout",
     "output_type": "stream",
     "text": [
      "52.6 ns ± 0.038 ns per loop (mean ± std. dev. of 7 runs, 10,000,000 loops each)\n"
     ]
    }
   ],
   "source": [
    "%timeit b.a"
   ]
  },
  {
   "cell_type": "code",
   "execution_count": 12,
   "id": "ad54dc69",
   "metadata": {
    "execution": {
     "iopub.execute_input": "2023-02-26T16:40:51.747374Z",
     "iopub.status.busy": "2023-02-26T16:40:51.746932Z",
     "iopub.status.idle": "2023-02-26T16:40:51.753157Z",
     "shell.execute_reply": "2023-02-26T16:40:51.752580Z"
    }
   },
   "outputs": [
    {
     "data": {
      "text/plain": [
       "Batch(\n",
       "    a: tensor([[ 1.0972,  1.4967, -0.6090],\n",
       "               [-1.1739, -1.0954,  1.8008]]),\n",
       "    x: Batch(\n",
       "           c: tensor([[ 0.7638,  1.0356, -0.2120, -0.0864],\n",
       "                      [-0.6051,  0.8182, -1.8605,  1.0783],\n",
       "                      [ 0.4547, -1.8641,  0.5639, -0.7374]]),\n",
       "       ),\n",
       ")"
      ]
     },
     "execution_count": 12,
     "metadata": {},
     "output_type": "execute_result"
    }
   ],
   "source": [
    "new_value = torch.randn(2, 3)\n",
    "b.a = new_value\n",
    "\n",
    "b"
   ]
  },
  {
   "cell_type": "code",
   "execution_count": 13,
   "id": "29b1d0bf",
   "metadata": {
    "execution": {
     "iopub.execute_input": "2023-02-26T16:40:51.755528Z",
     "iopub.status.busy": "2023-02-26T16:40:51.755193Z",
     "iopub.status.idle": "2023-02-26T16:40:55.720646Z",
     "shell.execute_reply": "2023-02-26T16:40:55.719955Z"
    }
   },
   "outputs": [
    {
     "name": "stdout",
     "output_type": "stream",
     "text": [
      "488 ns ± 0.169 ns per loop (mean ± std. dev. of 7 runs, 1,000,000 loops each)\n"
     ]
    }
   ],
   "source": [
    "%timeit b.a = new_value"
   ]
  },
  {
   "cell_type": "markdown",
   "id": "b61ad1d0",
   "metadata": {},
   "source": [
    "## Initialization"
   ]
  },
  {
   "cell_type": "markdown",
   "id": "d70f0d54",
   "metadata": {},
   "source": [
    "### TreeValue's Initialization"
   ]
  },
  {
   "cell_type": "code",
   "execution_count": 14,
   "id": "d32a679b",
   "metadata": {
    "execution": {
     "iopub.execute_input": "2023-02-26T16:40:55.723570Z",
     "iopub.status.busy": "2023-02-26T16:40:55.722971Z",
     "iopub.status.idle": "2023-02-26T16:41:02.438118Z",
     "shell.execute_reply": "2023-02-26T16:41:02.437469Z"
    }
   },
   "outputs": [
    {
     "name": "stdout",
     "output_type": "stream",
     "text": [
      "827 ns ± 0.0768 ns per loop (mean ± std. dev. of 7 runs, 1,000,000 loops each)\n"
     ]
    }
   ],
   "source": [
    "%timeit FastTreeValue(_TREE_DATA_1)"
   ]
  },
  {
   "cell_type": "markdown",
   "id": "24f3707b",
   "metadata": {},
   "source": [
    "### Tianshou Batch's Initialization"
   ]
  },
  {
   "cell_type": "code",
   "execution_count": 15,
   "id": "ac3958df",
   "metadata": {
    "execution": {
     "iopub.execute_input": "2023-02-26T16:41:02.440866Z",
     "iopub.status.busy": "2023-02-26T16:41:02.440636Z",
     "iopub.status.idle": "2023-02-26T16:41:11.748858Z",
     "shell.execute_reply": "2023-02-26T16:41:11.748108Z"
    }
   },
   "outputs": [
    {
     "name": "stdout",
     "output_type": "stream",
     "text": [
      "11.5 µs ± 29.8 ns per loop (mean ± std. dev. of 7 runs, 100,000 loops each)\n"
     ]
    }
   ],
   "source": [
    "%timeit Batch(**_TREE_DATA_1)"
   ]
  },
  {
   "cell_type": "markdown",
   "id": "1ab82e2d",
   "metadata": {},
   "source": [
    "## Deep Copy Operation"
   ]
  },
  {
   "cell_type": "code",
   "execution_count": 16,
   "id": "210a9442",
   "metadata": {
    "execution": {
     "iopub.execute_input": "2023-02-26T16:41:11.752055Z",
     "iopub.status.busy": "2023-02-26T16:41:11.751537Z",
     "iopub.status.idle": "2023-02-26T16:41:11.755423Z",
     "shell.execute_reply": "2023-02-26T16:41:11.754841Z"
    }
   },
   "outputs": [],
   "source": [
    "import copy"
   ]
  },
  {
   "cell_type": "markdown",
   "id": "5a736274",
   "metadata": {},
   "source": [
    "### Deep Copy of TreeValue"
   ]
  },
  {
   "cell_type": "code",
   "execution_count": 17,
   "id": "f9bcadd6",
   "metadata": {
    "execution": {
     "iopub.execute_input": "2023-02-26T16:41:11.758038Z",
     "iopub.status.busy": "2023-02-26T16:41:11.757712Z",
     "iopub.status.idle": "2023-02-26T16:41:22.926529Z",
     "shell.execute_reply": "2023-02-26T16:41:22.925954Z"
    }
   },
   "outputs": [
    {
     "name": "stdout",
     "output_type": "stream",
     "text": [
      "138 µs ± 477 ns per loop (mean ± std. dev. of 7 runs, 10,000 loops each)\n"
     ]
    }
   ],
   "source": [
    "t3 = FastTreeValue(_TREE_DATA_3)\n",
    "%timeit copy.deepcopy(t3)"
   ]
  },
  {
   "cell_type": "markdown",
   "id": "bf8be7ea",
   "metadata": {},
   "source": [
    "### Deep Copy of Tianshou Batch"
   ]
  },
  {
   "cell_type": "code",
   "execution_count": 18,
   "id": "91998e6f",
   "metadata": {
    "execution": {
     "iopub.execute_input": "2023-02-26T16:41:22.930675Z",
     "iopub.status.busy": "2023-02-26T16:41:22.929484Z",
     "iopub.status.idle": "2023-02-26T16:41:34.338244Z",
     "shell.execute_reply": "2023-02-26T16:41:34.337656Z"
    }
   },
   "outputs": [
    {
     "name": "stdout",
     "output_type": "stream",
     "text": [
      "141 µs ± 353 ns per loop (mean ± std. dev. of 7 runs, 10,000 loops each)\n"
     ]
    }
   ],
   "source": [
    "b3 = Batch(**_TREE_DATA_3)\n",
    "%timeit copy.deepcopy(b3)"
   ]
  },
  {
   "cell_type": "markdown",
   "id": "223162fb",
   "metadata": {},
   "source": [
    "## Stack, Concat and Split Operation"
   ]
  },
  {
   "cell_type": "markdown",
   "id": "85fa4a73",
   "metadata": {},
   "source": [
    "### Performance of TreeValue"
   ]
  },
  {
   "cell_type": "code",
   "execution_count": 19,
   "id": "a0c2b697",
   "metadata": {
    "execution": {
     "iopub.execute_input": "2023-02-26T16:41:34.341533Z",
     "iopub.status.busy": "2023-02-26T16:41:34.341040Z",
     "iopub.status.idle": "2023-02-26T16:41:34.345333Z",
     "shell.execute_reply": "2023-02-26T16:41:34.344813Z"
    }
   },
   "outputs": [],
   "source": [
    "trees = [FastTreeValue(_TREE_DATA_2) for _ in range(8)]"
   ]
  },
  {
   "cell_type": "code",
   "execution_count": 20,
   "id": "017ea5a5",
   "metadata": {
    "execution": {
     "iopub.execute_input": "2023-02-26T16:41:34.348186Z",
     "iopub.status.busy": "2023-02-26T16:41:34.347794Z",
     "iopub.status.idle": "2023-02-26T16:41:34.356339Z",
     "shell.execute_reply": "2023-02-26T16:41:34.355818Z"
    }
   },
   "outputs": [
    {
     "data": {
      "text/plain": [
       "<FastTreeValue 0x7f00f616db50>\n",
       "├── 'a' --> tensor([[[-2.1893,  0.5867, -0.9865],\n",
       "│                    [-0.5054,  0.0042,  2.1046]],\n",
       "│           \n",
       "│                   [[-2.1893,  0.5867, -0.9865],\n",
       "│                    [-0.5054,  0.0042,  2.1046]],\n",
       "│           \n",
       "│                   [[-2.1893,  0.5867, -0.9865],\n",
       "│                    [-0.5054,  0.0042,  2.1046]],\n",
       "│           \n",
       "│                   [[-2.1893,  0.5867, -0.9865],\n",
       "│                    [-0.5054,  0.0042,  2.1046]],\n",
       "│           \n",
       "│                   [[-2.1893,  0.5867, -0.9865],\n",
       "│                    [-0.5054,  0.0042,  2.1046]],\n",
       "│           \n",
       "│                   [[-2.1893,  0.5867, -0.9865],\n",
       "│                    [-0.5054,  0.0042,  2.1046]],\n",
       "│           \n",
       "│                   [[-2.1893,  0.5867, -0.9865],\n",
       "│                    [-0.5054,  0.0042,  2.1046]],\n",
       "│           \n",
       "│                   [[-2.1893,  0.5867, -0.9865],\n",
       "│                    [-0.5054,  0.0042,  2.1046]]])\n",
       "└── 'x' --> <FastTreeValue 0x7f00f616d280>\n",
       "    └── 'c' --> tensor([[[ 0.7638,  1.0356, -0.2120, -0.0864],\n",
       "                         [-0.6051,  0.8182, -1.8605,  1.0783],\n",
       "                         [ 0.4547, -1.8641,  0.5639, -0.7374]],\n",
       "                \n",
       "                        [[ 0.7638,  1.0356, -0.2120, -0.0864],\n",
       "                         [-0.6051,  0.8182, -1.8605,  1.0783],\n",
       "                         [ 0.4547, -1.8641,  0.5639, -0.7374]],\n",
       "                \n",
       "                        [[ 0.7638,  1.0356, -0.2120, -0.0864],\n",
       "                         [-0.6051,  0.8182, -1.8605,  1.0783],\n",
       "                         [ 0.4547, -1.8641,  0.5639, -0.7374]],\n",
       "                \n",
       "                        [[ 0.7638,  1.0356, -0.2120, -0.0864],\n",
       "                         [-0.6051,  0.8182, -1.8605,  1.0783],\n",
       "                         [ 0.4547, -1.8641,  0.5639, -0.7374]],\n",
       "                \n",
       "                        [[ 0.7638,  1.0356, -0.2120, -0.0864],\n",
       "                         [-0.6051,  0.8182, -1.8605,  1.0783],\n",
       "                         [ 0.4547, -1.8641,  0.5639, -0.7374]],\n",
       "                \n",
       "                        [[ 0.7638,  1.0356, -0.2120, -0.0864],\n",
       "                         [-0.6051,  0.8182, -1.8605,  1.0783],\n",
       "                         [ 0.4547, -1.8641,  0.5639, -0.7374]],\n",
       "                \n",
       "                        [[ 0.7638,  1.0356, -0.2120, -0.0864],\n",
       "                         [-0.6051,  0.8182, -1.8605,  1.0783],\n",
       "                         [ 0.4547, -1.8641,  0.5639, -0.7374]],\n",
       "                \n",
       "                        [[ 0.7638,  1.0356, -0.2120, -0.0864],\n",
       "                         [-0.6051,  0.8182, -1.8605,  1.0783],\n",
       "                         [ 0.4547, -1.8641,  0.5639, -0.7374]]])"
      ]
     },
     "execution_count": 20,
     "metadata": {},
     "output_type": "execute_result"
    }
   ],
   "source": [
    "t_stack = FastTreeValue.func(subside=True)(torch.stack)\n",
    "\n",
    "t_stack(trees)"
   ]
  },
  {
   "cell_type": "code",
   "execution_count": 21,
   "id": "f8b3f415",
   "metadata": {
    "execution": {
     "iopub.execute_input": "2023-02-26T16:41:34.359146Z",
     "iopub.status.busy": "2023-02-26T16:41:34.358752Z",
     "iopub.status.idle": "2023-02-26T16:41:36.972572Z",
     "shell.execute_reply": "2023-02-26T16:41:36.971832Z"
    }
   },
   "outputs": [
    {
     "name": "stdout",
     "output_type": "stream",
     "text": [
      "32.1 µs ± 25.9 ns per loop (mean ± std. dev. of 7 runs, 10,000 loops each)\n"
     ]
    }
   ],
   "source": [
    "%timeit t_stack(trees)"
   ]
  },
  {
   "cell_type": "code",
   "execution_count": 22,
   "id": "94b56771",
   "metadata": {
    "execution": {
     "iopub.execute_input": "2023-02-26T16:41:36.975757Z",
     "iopub.status.busy": "2023-02-26T16:41:36.975233Z",
     "iopub.status.idle": "2023-02-26T16:41:36.983751Z",
     "shell.execute_reply": "2023-02-26T16:41:36.983180Z"
    }
   },
   "outputs": [
    {
     "data": {
      "text/plain": [
       "<FastTreeValue 0x7f00f616d8b0>\n",
       "├── 'a' --> tensor([[-2.1893,  0.5867, -0.9865],\n",
       "│                   [-0.5054,  0.0042,  2.1046],\n",
       "│                   [-2.1893,  0.5867, -0.9865],\n",
       "│                   [-0.5054,  0.0042,  2.1046],\n",
       "│                   [-2.1893,  0.5867, -0.9865],\n",
       "│                   [-0.5054,  0.0042,  2.1046],\n",
       "│                   [-2.1893,  0.5867, -0.9865],\n",
       "│                   [-0.5054,  0.0042,  2.1046],\n",
       "│                   [-2.1893,  0.5867, -0.9865],\n",
       "│                   [-0.5054,  0.0042,  2.1046],\n",
       "│                   [-2.1893,  0.5867, -0.9865],\n",
       "│                   [-0.5054,  0.0042,  2.1046],\n",
       "│                   [-2.1893,  0.5867, -0.9865],\n",
       "│                   [-0.5054,  0.0042,  2.1046],\n",
       "│                   [-2.1893,  0.5867, -0.9865],\n",
       "│                   [-0.5054,  0.0042,  2.1046]])\n",
       "└── 'x' --> <FastTreeValue 0x7f00f616db80>\n",
       "    └── 'c' --> tensor([[ 0.7638,  1.0356, -0.2120, -0.0864],\n",
       "                        [-0.6051,  0.8182, -1.8605,  1.0783],\n",
       "                        [ 0.4547, -1.8641,  0.5639, -0.7374],\n",
       "                        [ 0.7638,  1.0356, -0.2120, -0.0864],\n",
       "                        [-0.6051,  0.8182, -1.8605,  1.0783],\n",
       "                        [ 0.4547, -1.8641,  0.5639, -0.7374],\n",
       "                        [ 0.7638,  1.0356, -0.2120, -0.0864],\n",
       "                        [-0.6051,  0.8182, -1.8605,  1.0783],\n",
       "                        [ 0.4547, -1.8641,  0.5639, -0.7374],\n",
       "                        [ 0.7638,  1.0356, -0.2120, -0.0864],\n",
       "                        [-0.6051,  0.8182, -1.8605,  1.0783],\n",
       "                        [ 0.4547, -1.8641,  0.5639, -0.7374],\n",
       "                        [ 0.7638,  1.0356, -0.2120, -0.0864],\n",
       "                        [-0.6051,  0.8182, -1.8605,  1.0783],\n",
       "                        [ 0.4547, -1.8641,  0.5639, -0.7374],\n",
       "                        [ 0.7638,  1.0356, -0.2120, -0.0864],\n",
       "                        [-0.6051,  0.8182, -1.8605,  1.0783],\n",
       "                        [ 0.4547, -1.8641,  0.5639, -0.7374],\n",
       "                        [ 0.7638,  1.0356, -0.2120, -0.0864],\n",
       "                        [-0.6051,  0.8182, -1.8605,  1.0783],\n",
       "                        [ 0.4547, -1.8641,  0.5639, -0.7374],\n",
       "                        [ 0.7638,  1.0356, -0.2120, -0.0864],\n",
       "                        [-0.6051,  0.8182, -1.8605,  1.0783],\n",
       "                        [ 0.4547, -1.8641,  0.5639, -0.7374]])"
      ]
     },
     "execution_count": 22,
     "metadata": {},
     "output_type": "execute_result"
    }
   ],
   "source": [
    "t_cat = FastTreeValue.func(subside=True)(torch.cat)\n",
    "\n",
    "t_cat(trees)"
   ]
  },
  {
   "cell_type": "code",
   "execution_count": 23,
   "id": "5e9c06a6",
   "metadata": {
    "execution": {
     "iopub.execute_input": "2023-02-26T16:41:36.987087Z",
     "iopub.status.busy": "2023-02-26T16:41:36.986115Z",
     "iopub.status.idle": "2023-02-26T16:41:39.447931Z",
     "shell.execute_reply": "2023-02-26T16:41:39.447255Z"
    }
   },
   "outputs": [
    {
     "name": "stdout",
     "output_type": "stream",
     "text": [
      "30.3 µs ± 28.5 ns per loop (mean ± std. dev. of 7 runs, 10,000 loops each)\n"
     ]
    }
   ],
   "source": [
    "%timeit t_cat(trees)"
   ]
  },
  {
   "cell_type": "code",
   "execution_count": 24,
   "id": "a3ab5c8f",
   "metadata": {
    "execution": {
     "iopub.execute_input": "2023-02-26T16:41:39.450877Z",
     "iopub.status.busy": "2023-02-26T16:41:39.450523Z",
     "iopub.status.idle": "2023-02-26T16:41:44.175377Z",
     "shell.execute_reply": "2023-02-26T16:41:44.174652Z"
    }
   },
   "outputs": [
    {
     "name": "stdout",
     "output_type": "stream",
     "text": [
      "58.2 µs ± 144 ns per loop (mean ± std. dev. of 7 runs, 10,000 loops each)\n"
     ]
    }
   ],
   "source": [
    "t_split = FastTreeValue.func(rise=True)(torch.split)\n",
    "tree = FastTreeValue({\n",
    "    'obs': torch.randn(8, 4, 84, 84),\n",
    "    'action': torch.randint(0, 6, size=(8, 1,)),\n",
    "    'reward': torch.rand(8, 1),\n",
    "})\n",
    "\n",
    "%timeit t_split(tree, 1)"
   ]
  },
  {
   "cell_type": "markdown",
   "id": "31c3ec0b",
   "metadata": {},
   "source": [
    "### Performance of Tianshou Batch"
   ]
  },
  {
   "cell_type": "code",
   "execution_count": 25,
   "id": "9ead828a",
   "metadata": {
    "execution": {
     "iopub.execute_input": "2023-02-26T16:41:44.178580Z",
     "iopub.status.busy": "2023-02-26T16:41:44.178050Z",
     "iopub.status.idle": "2023-02-26T16:41:44.186045Z",
     "shell.execute_reply": "2023-02-26T16:41:44.185445Z"
    }
   },
   "outputs": [
    {
     "data": {
      "text/plain": [
       "Batch(\n",
       "    a: tensor([[[-2.1893,  0.5867, -0.9865],\n",
       "                [-0.5054,  0.0042,  2.1046]],\n",
       "       \n",
       "               [[-2.1893,  0.5867, -0.9865],\n",
       "                [-0.5054,  0.0042,  2.1046]],\n",
       "       \n",
       "               [[-2.1893,  0.5867, -0.9865],\n",
       "                [-0.5054,  0.0042,  2.1046]],\n",
       "       \n",
       "               [[-2.1893,  0.5867, -0.9865],\n",
       "                [-0.5054,  0.0042,  2.1046]],\n",
       "       \n",
       "               [[-2.1893,  0.5867, -0.9865],\n",
       "                [-0.5054,  0.0042,  2.1046]],\n",
       "       \n",
       "               [[-2.1893,  0.5867, -0.9865],\n",
       "                [-0.5054,  0.0042,  2.1046]],\n",
       "       \n",
       "               [[-2.1893,  0.5867, -0.9865],\n",
       "                [-0.5054,  0.0042,  2.1046]],\n",
       "       \n",
       "               [[-2.1893,  0.5867, -0.9865],\n",
       "                [-0.5054,  0.0042,  2.1046]]]),\n",
       "    x: Batch(\n",
       "           c: tensor([[[ 0.7638,  1.0356, -0.2120, -0.0864],\n",
       "                       [-0.6051,  0.8182, -1.8605,  1.0783],\n",
       "                       [ 0.4547, -1.8641,  0.5639, -0.7374]],\n",
       "              \n",
       "                      [[ 0.7638,  1.0356, -0.2120, -0.0864],\n",
       "                       [-0.6051,  0.8182, -1.8605,  1.0783],\n",
       "                       [ 0.4547, -1.8641,  0.5639, -0.7374]],\n",
       "              \n",
       "                      [[ 0.7638,  1.0356, -0.2120, -0.0864],\n",
       "                       [-0.6051,  0.8182, -1.8605,  1.0783],\n",
       "                       [ 0.4547, -1.8641,  0.5639, -0.7374]],\n",
       "              \n",
       "                      [[ 0.7638,  1.0356, -0.2120, -0.0864],\n",
       "                       [-0.6051,  0.8182, -1.8605,  1.0783],\n",
       "                       [ 0.4547, -1.8641,  0.5639, -0.7374]],\n",
       "              \n",
       "                      [[ 0.7638,  1.0356, -0.2120, -0.0864],\n",
       "                       [-0.6051,  0.8182, -1.8605,  1.0783],\n",
       "                       [ 0.4547, -1.8641,  0.5639, -0.7374]],\n",
       "              \n",
       "                      [[ 0.7638,  1.0356, -0.2120, -0.0864],\n",
       "                       [-0.6051,  0.8182, -1.8605,  1.0783],\n",
       "                       [ 0.4547, -1.8641,  0.5639, -0.7374]],\n",
       "              \n",
       "                      [[ 0.7638,  1.0356, -0.2120, -0.0864],\n",
       "                       [-0.6051,  0.8182, -1.8605,  1.0783],\n",
       "                       [ 0.4547, -1.8641,  0.5639, -0.7374]],\n",
       "              \n",
       "                      [[ 0.7638,  1.0356, -0.2120, -0.0864],\n",
       "                       [-0.6051,  0.8182, -1.8605,  1.0783],\n",
       "                       [ 0.4547, -1.8641,  0.5639, -0.7374]]]),\n",
       "       ),\n",
       ")"
      ]
     },
     "execution_count": 25,
     "metadata": {},
     "output_type": "execute_result"
    }
   ],
   "source": [
    "batches = [Batch(**_TREE_DATA_2) for _ in range(8)]\n",
    "\n",
    "Batch.stack(batches)"
   ]
  },
  {
   "cell_type": "code",
   "execution_count": 26,
   "id": "ec9037a3",
   "metadata": {
    "execution": {
     "iopub.execute_input": "2023-02-26T16:41:44.188778Z",
     "iopub.status.busy": "2023-02-26T16:41:44.188450Z",
     "iopub.status.idle": "2023-02-26T16:41:50.577267Z",
     "shell.execute_reply": "2023-02-26T16:41:50.576523Z"
    }
   },
   "outputs": [
    {
     "name": "stdout",
     "output_type": "stream",
     "text": [
      "78.7 µs ± 194 ns per loop (mean ± std. dev. of 7 runs, 10,000 loops each)\n"
     ]
    }
   ],
   "source": [
    "%timeit Batch.stack(batches)"
   ]
  },
  {
   "cell_type": "code",
   "execution_count": 27,
   "id": "cb8ab77e",
   "metadata": {
    "execution": {
     "iopub.execute_input": "2023-02-26T16:41:50.580097Z",
     "iopub.status.busy": "2023-02-26T16:41:50.579725Z",
     "iopub.status.idle": "2023-02-26T16:41:50.587034Z",
     "shell.execute_reply": "2023-02-26T16:41:50.586383Z"
    }
   },
   "outputs": [
    {
     "data": {
      "text/plain": [
       "Batch(\n",
       "    a: tensor([[-2.1893,  0.5867, -0.9865],\n",
       "               [-0.5054,  0.0042,  2.1046],\n",
       "               [-2.1893,  0.5867, -0.9865],\n",
       "               [-0.5054,  0.0042,  2.1046],\n",
       "               [-2.1893,  0.5867, -0.9865],\n",
       "               [-0.5054,  0.0042,  2.1046],\n",
       "               [-2.1893,  0.5867, -0.9865],\n",
       "               [-0.5054,  0.0042,  2.1046],\n",
       "               [-2.1893,  0.5867, -0.9865],\n",
       "               [-0.5054,  0.0042,  2.1046],\n",
       "               [-2.1893,  0.5867, -0.9865],\n",
       "               [-0.5054,  0.0042,  2.1046],\n",
       "               [-2.1893,  0.5867, -0.9865],\n",
       "               [-0.5054,  0.0042,  2.1046],\n",
       "               [-2.1893,  0.5867, -0.9865],\n",
       "               [-0.5054,  0.0042,  2.1046]]),\n",
       "    x: Batch(\n",
       "           c: tensor([[ 0.7638,  1.0356, -0.2120, -0.0864],\n",
       "                      [-0.6051,  0.8182, -1.8605,  1.0783],\n",
       "                      [ 0.4547, -1.8641,  0.5639, -0.7374],\n",
       "                      [ 0.7638,  1.0356, -0.2120, -0.0864],\n",
       "                      [-0.6051,  0.8182, -1.8605,  1.0783],\n",
       "                      [ 0.4547, -1.8641,  0.5639, -0.7374],\n",
       "                      [ 0.7638,  1.0356, -0.2120, -0.0864],\n",
       "                      [-0.6051,  0.8182, -1.8605,  1.0783],\n",
       "                      [ 0.4547, -1.8641,  0.5639, -0.7374],\n",
       "                      [ 0.7638,  1.0356, -0.2120, -0.0864],\n",
       "                      [-0.6051,  0.8182, -1.8605,  1.0783],\n",
       "                      [ 0.4547, -1.8641,  0.5639, -0.7374],\n",
       "                      [ 0.7638,  1.0356, -0.2120, -0.0864],\n",
       "                      [-0.6051,  0.8182, -1.8605,  1.0783],\n",
       "                      [ 0.4547, -1.8641,  0.5639, -0.7374],\n",
       "                      [ 0.7638,  1.0356, -0.2120, -0.0864],\n",
       "                      [-0.6051,  0.8182, -1.8605,  1.0783],\n",
       "                      [ 0.4547, -1.8641,  0.5639, -0.7374],\n",
       "                      [ 0.7638,  1.0356, -0.2120, -0.0864],\n",
       "                      [-0.6051,  0.8182, -1.8605,  1.0783],\n",
       "                      [ 0.4547, -1.8641,  0.5639, -0.7374],\n",
       "                      [ 0.7638,  1.0356, -0.2120, -0.0864],\n",
       "                      [-0.6051,  0.8182, -1.8605,  1.0783],\n",
       "                      [ 0.4547, -1.8641,  0.5639, -0.7374]]),\n",
       "       ),\n",
       ")"
      ]
     },
     "execution_count": 27,
     "metadata": {},
     "output_type": "execute_result"
    }
   ],
   "source": [
    "Batch.cat(batches)"
   ]
  },
  {
   "cell_type": "code",
   "execution_count": 28,
   "id": "18dfb045",
   "metadata": {
    "execution": {
     "iopub.execute_input": "2023-02-26T16:41:50.589591Z",
     "iopub.status.busy": "2023-02-26T16:41:50.589260Z",
     "iopub.status.idle": "2023-02-26T16:42:02.347119Z",
     "shell.execute_reply": "2023-02-26T16:42:02.346358Z"
    }
   },
   "outputs": [
    {
     "name": "stdout",
     "output_type": "stream",
     "text": [
      "145 µs ± 235 ns per loop (mean ± std. dev. of 7 runs, 10,000 loops each)\n"
     ]
    }
   ],
   "source": [
    "%timeit Batch.cat(batches)"
   ]
  },
  {
   "cell_type": "code",
   "execution_count": 29,
   "id": "c6688e51",
   "metadata": {
    "execution": {
     "iopub.execute_input": "2023-02-26T16:42:02.349756Z",
     "iopub.status.busy": "2023-02-26T16:42:02.349385Z",
     "iopub.status.idle": "2023-02-26T16:42:04.797141Z",
     "shell.execute_reply": "2023-02-26T16:42:04.796578Z"
    }
   },
   "outputs": [
    {
     "name": "stdout",
     "output_type": "stream",
     "text": [
      "301 µs ± 1.63 µs per loop (mean ± std. dev. of 7 runs, 1,000 loops each)\n"
     ]
    }
   ],
   "source": [
    "batch = Batch({\n",
    "    'obs': torch.randn(8, 4, 84, 84),\n",
    "    'action': torch.randint(0, 6, size=(8, 1,)),\n",
    "    'reward': torch.rand(8, 1)}\n",
    ")\n",
    "\n",
    "%timeit list(Batch.split(batch, 1, shuffle=False, merge_last=True))"
   ]
  },
  {
   "cell_type": "code",
   "execution_count": null,
   "id": "2539fbd9",
   "metadata": {},
   "outputs": [],
   "source": []
  }
 ],
 "metadata": {
  "kernelspec": {
   "display_name": "Python 3 (ipykernel)",
   "language": "python",
   "name": "python3"
  },
  "language_info": {
   "codemirror_mode": {
    "name": "ipython",
    "version": 3
   },
   "file_extension": ".py",
   "mimetype": "text/x-python",
   "name": "python",
   "nbconvert_exporter": "python",
   "pygments_lexer": "ipython3",
   "version": "3.8.16"
  }
 },
 "nbformat": 4,
 "nbformat_minor": 5
}
