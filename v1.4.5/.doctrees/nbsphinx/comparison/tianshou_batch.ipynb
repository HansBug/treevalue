{
 "cells": [
  {
   "cell_type": "markdown",
   "id": "9d39d946",
   "metadata": {},
   "source": [
    "# Comparison Between TreeValue and Tianshou Batch"
   ]
  },
  {
   "cell_type": "markdown",
   "id": "3c6db2d4",
   "metadata": {},
   "source": [
    "In this section, we will take a look at the feature and performance of the [Tianshou Batch](https://github.com/thu-ml/tianshou) library, which is developed by Tsinghua Machine Learning Group."
   ]
  },
  {
   "cell_type": "markdown",
   "id": "069361b0",
   "metadata": {},
   "source": [
    "Before starting the comparison, let us define some thing."
   ]
  },
  {
   "cell_type": "code",
   "execution_count": 1,
   "id": "06fc8d26",
   "metadata": {
    "execution": {
     "iopub.execute_input": "2023-03-06T11:55:59.070049Z",
     "iopub.status.busy": "2023-03-06T11:55:59.069717Z",
     "iopub.status.idle": "2023-03-06T11:56:00.207798Z",
     "shell.execute_reply": "2023-03-06T11:56:00.206652Z"
    }
   },
   "outputs": [
    {
     "name": "stderr",
     "output_type": "stream",
     "text": [
      "/opt/hostedtoolcache/Python/3.8.16/x64/lib/python3.8/site-packages/tqdm/auto.py:21: TqdmWarning: IProgress not found. Please update jupyter and ipywidgets. See https://ipywidgets.readthedocs.io/en/stable/user_install.html\n",
      "  from .autonotebook import tqdm as notebook_tqdm\n"
     ]
    }
   ],
   "source": [
    "import torch \n",
    "\n",
    "_TREE_DATA_1 = {'a': 1, 'b': 2, 'x': {'c': 3, 'd': 4}}\n",
    "_TREE_DATA_2 = {\n",
    "    'a': torch.randn(2, 3), \n",
    "    'x': {\n",
    "        'c': torch.randn(3, 4)\n",
    "    },\n",
    "}\n",
    "_TREE_DATA_3 = {\n",
    "    'obs': torch.randn(4, 84, 84),\n",
    "    'action': torch.randint(0, 6, size=(1,)),\n",
    "    'reward': torch.rand(1),\n",
    "}"
   ]
  },
  {
   "cell_type": "markdown",
   "id": "83461b25",
   "metadata": {},
   "source": [
    "## Read and Write Operation"
   ]
  },
  {
   "cell_type": "markdown",
   "id": "067b3f73",
   "metadata": {},
   "source": [
    "Reading and writing are the two most common operations in the tree data structure based on the data model (TreeValue and Tianshou Batch both belong to this type), so this section will compare the reading and writing performance of these two libraries."
   ]
  },
  {
   "cell_type": "markdown",
   "id": "5d09a5b7",
   "metadata": {},
   "source": [
    "### TreeValue's Get and Set"
   ]
  },
  {
   "cell_type": "code",
   "execution_count": 2,
   "id": "9519c4bb",
   "metadata": {
    "execution": {
     "iopub.execute_input": "2023-03-06T11:56:00.212226Z",
     "iopub.status.busy": "2023-03-06T11:56:00.211566Z",
     "iopub.status.idle": "2023-03-06T11:56:00.556303Z",
     "shell.execute_reply": "2023-03-06T11:56:00.555298Z"
    }
   },
   "outputs": [],
   "source": [
    "from treevalue import FastTreeValue\n",
    "\n",
    "t = FastTreeValue(_TREE_DATA_2)"
   ]
  },
  {
   "cell_type": "code",
   "execution_count": 3,
   "id": "11c37677",
   "metadata": {
    "execution": {
     "iopub.execute_input": "2023-03-06T11:56:00.560215Z",
     "iopub.status.busy": "2023-03-06T11:56:00.559825Z",
     "iopub.status.idle": "2023-03-06T11:56:00.571943Z",
     "shell.execute_reply": "2023-03-06T11:56:00.570842Z"
    }
   },
   "outputs": [
    {
     "data": {
      "text/plain": [
       "<FastTreeValue 0x7f6d774f2d60>\n",
       "├── 'a' --> tensor([[ 1.0330,  0.5842,  0.4965],\n",
       "│                   [ 0.1226, -0.4733,  0.3215]])\n",
       "└── 'x' --> <FastTreeValue 0x7f6d774f2f70>\n",
       "    └── 'c' --> tensor([[ 0.9110,  0.3386,  0.2791, -0.1886],\n",
       "                        [-0.9278, -0.5273,  0.2357,  0.1806],\n",
       "                        [-1.6056,  0.8934, -1.0785,  1.7385]])"
      ]
     },
     "execution_count": 3,
     "metadata": {},
     "output_type": "execute_result"
    }
   ],
   "source": [
    "t"
   ]
  },
  {
   "cell_type": "code",
   "execution_count": 4,
   "id": "fd70b0b9",
   "metadata": {
    "execution": {
     "iopub.execute_input": "2023-03-06T11:56:00.575269Z",
     "iopub.status.busy": "2023-03-06T11:56:00.574931Z",
     "iopub.status.idle": "2023-03-06T11:56:00.583371Z",
     "shell.execute_reply": "2023-03-06T11:56:00.582408Z"
    }
   },
   "outputs": [
    {
     "data": {
      "text/plain": [
       "tensor([[ 1.0330,  0.5842,  0.4965],\n",
       "        [ 0.1226, -0.4733,  0.3215]])"
      ]
     },
     "execution_count": 4,
     "metadata": {},
     "output_type": "execute_result"
    }
   ],
   "source": [
    "t.a"
   ]
  },
  {
   "cell_type": "code",
   "execution_count": 5,
   "id": "c18197bd",
   "metadata": {
    "execution": {
     "iopub.execute_input": "2023-03-06T11:56:00.586611Z",
     "iopub.status.busy": "2023-03-06T11:56:00.586335Z",
     "iopub.status.idle": "2023-03-06T11:56:06.001749Z",
     "shell.execute_reply": "2023-03-06T11:56:06.000666Z"
    }
   },
   "outputs": [
    {
     "name": "stdout",
     "output_type": "stream",
     "text": [
      "66.1 ns ± 1.34 ns per loop (mean ± std. dev. of 7 runs, 10,000,000 loops each)\n"
     ]
    }
   ],
   "source": [
    "%timeit t.a"
   ]
  },
  {
   "cell_type": "code",
   "execution_count": 6,
   "id": "bd52f867",
   "metadata": {
    "execution": {
     "iopub.execute_input": "2023-03-06T11:56:06.005536Z",
     "iopub.status.busy": "2023-03-06T11:56:06.004882Z",
     "iopub.status.idle": "2023-03-06T11:56:06.015695Z",
     "shell.execute_reply": "2023-03-06T11:56:06.014815Z"
    }
   },
   "outputs": [
    {
     "data": {
      "text/plain": [
       "<FastTreeValue 0x7f6d774f2d60>\n",
       "├── 'a' --> tensor([[-1.2274, -1.8933,  0.1946],\n",
       "│                   [-1.1886, -0.1864, -0.7520]])\n",
       "└── 'x' --> <FastTreeValue 0x7f6d774f2f70>\n",
       "    └── 'c' --> tensor([[ 0.9110,  0.3386,  0.2791, -0.1886],\n",
       "                        [-0.9278, -0.5273,  0.2357,  0.1806],\n",
       "                        [-1.6056,  0.8934, -1.0785,  1.7385]])"
      ]
     },
     "execution_count": 6,
     "metadata": {},
     "output_type": "execute_result"
    }
   ],
   "source": [
    "new_value = torch.randn(2, 3)\n",
    "t.a = new_value\n",
    "\n",
    "t"
   ]
  },
  {
   "cell_type": "code",
   "execution_count": 7,
   "id": "bbe04d1c",
   "metadata": {
    "execution": {
     "iopub.execute_input": "2023-03-06T11:56:06.019045Z",
     "iopub.status.busy": "2023-03-06T11:56:06.018611Z",
     "iopub.status.idle": "2023-03-06T11:56:12.154804Z",
     "shell.execute_reply": "2023-03-06T11:56:12.153771Z"
    }
   },
   "outputs": [
    {
     "name": "stdout",
     "output_type": "stream",
     "text": [
      "75.7 ns ± 2.14 ns per loop (mean ± std. dev. of 7 runs, 10,000,000 loops each)\n"
     ]
    }
   ],
   "source": [
    "%timeit t.a = new_value"
   ]
  },
  {
   "cell_type": "markdown",
   "id": "48c49731",
   "metadata": {},
   "source": [
    "### Tianshou Batch's Get and Set"
   ]
  },
  {
   "cell_type": "code",
   "execution_count": 8,
   "id": "f1bb14c1",
   "metadata": {
    "execution": {
     "iopub.execute_input": "2023-03-06T11:56:12.158767Z",
     "iopub.status.busy": "2023-03-06T11:56:12.158445Z",
     "iopub.status.idle": "2023-03-06T11:56:12.593981Z",
     "shell.execute_reply": "2023-03-06T11:56:12.592892Z"
    }
   },
   "outputs": [],
   "source": [
    "from tianshou.data import Batch\n",
    "\n",
    "b = Batch(**_TREE_DATA_2)"
   ]
  },
  {
   "cell_type": "code",
   "execution_count": 9,
   "id": "cb0777c3",
   "metadata": {
    "execution": {
     "iopub.execute_input": "2023-03-06T11:56:12.597868Z",
     "iopub.status.busy": "2023-03-06T11:56:12.597516Z",
     "iopub.status.idle": "2023-03-06T11:56:12.604839Z",
     "shell.execute_reply": "2023-03-06T11:56:12.604039Z"
    }
   },
   "outputs": [
    {
     "data": {
      "text/plain": [
       "Batch(\n",
       "    a: tensor([[ 1.0330,  0.5842,  0.4965],\n",
       "               [ 0.1226, -0.4733,  0.3215]]),\n",
       "    x: Batch(\n",
       "           c: tensor([[ 0.9110,  0.3386,  0.2791, -0.1886],\n",
       "                      [-0.9278, -0.5273,  0.2357,  0.1806],\n",
       "                      [-1.6056,  0.8934, -1.0785,  1.7385]]),\n",
       "       ),\n",
       ")"
      ]
     },
     "execution_count": 9,
     "metadata": {},
     "output_type": "execute_result"
    }
   ],
   "source": [
    "b"
   ]
  },
  {
   "cell_type": "code",
   "execution_count": 10,
   "id": "43ef8ea3",
   "metadata": {
    "execution": {
     "iopub.execute_input": "2023-03-06T11:56:12.608092Z",
     "iopub.status.busy": "2023-03-06T11:56:12.607840Z",
     "iopub.status.idle": "2023-03-06T11:56:12.615314Z",
     "shell.execute_reply": "2023-03-06T11:56:12.614204Z"
    }
   },
   "outputs": [
    {
     "data": {
      "text/plain": [
       "tensor([[ 1.0330,  0.5842,  0.4965],\n",
       "        [ 0.1226, -0.4733,  0.3215]])"
      ]
     },
     "execution_count": 10,
     "metadata": {},
     "output_type": "execute_result"
    }
   ],
   "source": [
    "b.a"
   ]
  },
  {
   "cell_type": "code",
   "execution_count": 11,
   "id": "b785ab72",
   "metadata": {
    "execution": {
     "iopub.execute_input": "2023-03-06T11:56:12.619049Z",
     "iopub.status.busy": "2023-03-06T11:56:12.618692Z",
     "iopub.status.idle": "2023-03-06T11:56:17.942683Z",
     "shell.execute_reply": "2023-03-06T11:56:17.941799Z"
    }
   },
   "outputs": [
    {
     "name": "stdout",
     "output_type": "stream",
     "text": [
      "66 ns ± 1.01 ns per loop (mean ± std. dev. of 7 runs, 10,000,000 loops each)\n"
     ]
    }
   ],
   "source": [
    "%timeit b.a"
   ]
  },
  {
   "cell_type": "code",
   "execution_count": 12,
   "id": "ad54dc69",
   "metadata": {
    "execution": {
     "iopub.execute_input": "2023-03-06T11:56:17.947577Z",
     "iopub.status.busy": "2023-03-06T11:56:17.947007Z",
     "iopub.status.idle": "2023-03-06T11:56:17.955031Z",
     "shell.execute_reply": "2023-03-06T11:56:17.954252Z"
    }
   },
   "outputs": [
    {
     "data": {
      "text/plain": [
       "Batch(\n",
       "    a: tensor([[-0.2636,  0.5299, -0.6454],\n",
       "               [-0.1654,  0.7859,  1.1730]]),\n",
       "    x: Batch(\n",
       "           c: tensor([[ 0.9110,  0.3386,  0.2791, -0.1886],\n",
       "                      [-0.9278, -0.5273,  0.2357,  0.1806],\n",
       "                      [-1.6056,  0.8934, -1.0785,  1.7385]]),\n",
       "       ),\n",
       ")"
      ]
     },
     "execution_count": 12,
     "metadata": {},
     "output_type": "execute_result"
    }
   ],
   "source": [
    "new_value = torch.randn(2, 3)\n",
    "b.a = new_value\n",
    "\n",
    "b"
   ]
  },
  {
   "cell_type": "code",
   "execution_count": 13,
   "id": "29b1d0bf",
   "metadata": {
    "execution": {
     "iopub.execute_input": "2023-03-06T11:56:17.957812Z",
     "iopub.status.busy": "2023-03-06T11:56:17.957358Z",
     "iopub.status.idle": "2023-03-06T11:56:22.654475Z",
     "shell.execute_reply": "2023-03-06T11:56:22.653555Z"
    }
   },
   "outputs": [
    {
     "name": "stdout",
     "output_type": "stream",
     "text": [
      "575 ns ± 23.6 ns per loop (mean ± std. dev. of 7 runs, 1,000,000 loops each)\n"
     ]
    }
   ],
   "source": [
    "%timeit b.a = new_value"
   ]
  },
  {
   "cell_type": "markdown",
   "id": "b61ad1d0",
   "metadata": {},
   "source": [
    "## Initialization"
   ]
  },
  {
   "cell_type": "markdown",
   "id": "d70f0d54",
   "metadata": {},
   "source": [
    "### TreeValue's Initialization"
   ]
  },
  {
   "cell_type": "code",
   "execution_count": 14,
   "id": "d32a679b",
   "metadata": {
    "execution": {
     "iopub.execute_input": "2023-03-06T11:56:22.657956Z",
     "iopub.status.busy": "2023-03-06T11:56:22.657690Z",
     "iopub.status.idle": "2023-03-06T11:56:30.205110Z",
     "shell.execute_reply": "2023-03-06T11:56:30.203626Z"
    }
   },
   "outputs": [
    {
     "name": "stdout",
     "output_type": "stream",
     "text": [
      "933 ns ± 23.9 ns per loop (mean ± std. dev. of 7 runs, 1,000,000 loops each)\n"
     ]
    }
   ],
   "source": [
    "%timeit FastTreeValue(_TREE_DATA_1)"
   ]
  },
  {
   "cell_type": "markdown",
   "id": "24f3707b",
   "metadata": {},
   "source": [
    "### Tianshou Batch's Initialization"
   ]
  },
  {
   "cell_type": "code",
   "execution_count": 15,
   "id": "ac3958df",
   "metadata": {
    "execution": {
     "iopub.execute_input": "2023-03-06T11:56:30.208713Z",
     "iopub.status.busy": "2023-03-06T11:56:30.208067Z",
     "iopub.status.idle": "2023-03-06T11:56:40.097295Z",
     "shell.execute_reply": "2023-03-06T11:56:40.096257Z"
    }
   },
   "outputs": [
    {
     "name": "stdout",
     "output_type": "stream",
     "text": [
      "12.2 µs ± 250 ns per loop (mean ± std. dev. of 7 runs, 100,000 loops each)\n"
     ]
    }
   ],
   "source": [
    "%timeit Batch(**_TREE_DATA_1)"
   ]
  },
  {
   "cell_type": "markdown",
   "id": "1ab82e2d",
   "metadata": {},
   "source": [
    "## Deep Copy Operation"
   ]
  },
  {
   "cell_type": "code",
   "execution_count": 16,
   "id": "210a9442",
   "metadata": {
    "execution": {
     "iopub.execute_input": "2023-03-06T11:56:40.100921Z",
     "iopub.status.busy": "2023-03-06T11:56:40.100623Z",
     "iopub.status.idle": "2023-03-06T11:56:40.105974Z",
     "shell.execute_reply": "2023-03-06T11:56:40.104941Z"
    }
   },
   "outputs": [],
   "source": [
    "import copy"
   ]
  },
  {
   "cell_type": "markdown",
   "id": "5a736274",
   "metadata": {},
   "source": [
    "### Deep Copy of TreeValue"
   ]
  },
  {
   "cell_type": "code",
   "execution_count": 17,
   "id": "f9bcadd6",
   "metadata": {
    "execution": {
     "iopub.execute_input": "2023-03-06T11:56:40.111466Z",
     "iopub.status.busy": "2023-03-06T11:56:40.111068Z",
     "iopub.status.idle": "2023-03-06T11:56:42.226320Z",
     "shell.execute_reply": "2023-03-06T11:56:42.225615Z"
    }
   },
   "outputs": [
    {
     "name": "stdout",
     "output_type": "stream",
     "text": [
      "257 µs ± 5.97 µs per loop (mean ± std. dev. of 7 runs, 1,000 loops each)\n"
     ]
    }
   ],
   "source": [
    "t3 = FastTreeValue(_TREE_DATA_3)\n",
    "%timeit copy.deepcopy(t3)"
   ]
  },
  {
   "cell_type": "markdown",
   "id": "bf8be7ea",
   "metadata": {},
   "source": [
    "### Deep Copy of Tianshou Batch"
   ]
  },
  {
   "cell_type": "code",
   "execution_count": 18,
   "id": "91998e6f",
   "metadata": {
    "execution": {
     "iopub.execute_input": "2023-03-06T11:56:42.229652Z",
     "iopub.status.busy": "2023-03-06T11:56:42.229082Z",
     "iopub.status.idle": "2023-03-06T11:56:44.229191Z",
     "shell.execute_reply": "2023-03-06T11:56:44.227946Z"
    }
   },
   "outputs": [
    {
     "name": "stdout",
     "output_type": "stream",
     "text": [
      "248 µs ± 9.64 µs per loop (mean ± std. dev. of 7 runs, 1,000 loops each)\n"
     ]
    }
   ],
   "source": [
    "b3 = Batch(**_TREE_DATA_3)\n",
    "%timeit copy.deepcopy(b3)"
   ]
  },
  {
   "cell_type": "markdown",
   "id": "223162fb",
   "metadata": {},
   "source": [
    "## Stack, Concat and Split Operation"
   ]
  },
  {
   "cell_type": "markdown",
   "id": "85fa4a73",
   "metadata": {},
   "source": [
    "### Performance of TreeValue"
   ]
  },
  {
   "cell_type": "code",
   "execution_count": 19,
   "id": "a0c2b697",
   "metadata": {
    "execution": {
     "iopub.execute_input": "2023-03-06T11:56:44.232919Z",
     "iopub.status.busy": "2023-03-06T11:56:44.232443Z",
     "iopub.status.idle": "2023-03-06T11:56:44.236962Z",
     "shell.execute_reply": "2023-03-06T11:56:44.235930Z"
    }
   },
   "outputs": [],
   "source": [
    "trees = [FastTreeValue(_TREE_DATA_2) for _ in range(8)]"
   ]
  },
  {
   "cell_type": "code",
   "execution_count": 20,
   "id": "017ea5a5",
   "metadata": {
    "execution": {
     "iopub.execute_input": "2023-03-06T11:56:44.240091Z",
     "iopub.status.busy": "2023-03-06T11:56:44.239676Z",
     "iopub.status.idle": "2023-03-06T11:56:44.247497Z",
     "shell.execute_reply": "2023-03-06T11:56:44.246742Z"
    }
   },
   "outputs": [
    {
     "data": {
      "text/plain": [
       "<FastTreeValue 0x7f6cbd715df0>\n",
       "├── 'a' --> tensor([[[ 1.0330,  0.5842,  0.4965],\n",
       "│                    [ 0.1226, -0.4733,  0.3215]],\n",
       "│           \n",
       "│                   [[ 1.0330,  0.5842,  0.4965],\n",
       "│                    [ 0.1226, -0.4733,  0.3215]],\n",
       "│           \n",
       "│                   [[ 1.0330,  0.5842,  0.4965],\n",
       "│                    [ 0.1226, -0.4733,  0.3215]],\n",
       "│           \n",
       "│                   [[ 1.0330,  0.5842,  0.4965],\n",
       "│                    [ 0.1226, -0.4733,  0.3215]],\n",
       "│           \n",
       "│                   [[ 1.0330,  0.5842,  0.4965],\n",
       "│                    [ 0.1226, -0.4733,  0.3215]],\n",
       "│           \n",
       "│                   [[ 1.0330,  0.5842,  0.4965],\n",
       "│                    [ 0.1226, -0.4733,  0.3215]],\n",
       "│           \n",
       "│                   [[ 1.0330,  0.5842,  0.4965],\n",
       "│                    [ 0.1226, -0.4733,  0.3215]],\n",
       "│           \n",
       "│                   [[ 1.0330,  0.5842,  0.4965],\n",
       "│                    [ 0.1226, -0.4733,  0.3215]]])\n",
       "└── 'x' --> <FastTreeValue 0x7f6cbd715dc0>\n",
       "    └── 'c' --> tensor([[[ 0.9110,  0.3386,  0.2791, -0.1886],\n",
       "                         [-0.9278, -0.5273,  0.2357,  0.1806],\n",
       "                         [-1.6056,  0.8934, -1.0785,  1.7385]],\n",
       "                \n",
       "                        [[ 0.9110,  0.3386,  0.2791, -0.1886],\n",
       "                         [-0.9278, -0.5273,  0.2357,  0.1806],\n",
       "                         [-1.6056,  0.8934, -1.0785,  1.7385]],\n",
       "                \n",
       "                        [[ 0.9110,  0.3386,  0.2791, -0.1886],\n",
       "                         [-0.9278, -0.5273,  0.2357,  0.1806],\n",
       "                         [-1.6056,  0.8934, -1.0785,  1.7385]],\n",
       "                \n",
       "                        [[ 0.9110,  0.3386,  0.2791, -0.1886],\n",
       "                         [-0.9278, -0.5273,  0.2357,  0.1806],\n",
       "                         [-1.6056,  0.8934, -1.0785,  1.7385]],\n",
       "                \n",
       "                        [[ 0.9110,  0.3386,  0.2791, -0.1886],\n",
       "                         [-0.9278, -0.5273,  0.2357,  0.1806],\n",
       "                         [-1.6056,  0.8934, -1.0785,  1.7385]],\n",
       "                \n",
       "                        [[ 0.9110,  0.3386,  0.2791, -0.1886],\n",
       "                         [-0.9278, -0.5273,  0.2357,  0.1806],\n",
       "                         [-1.6056,  0.8934, -1.0785,  1.7385]],\n",
       "                \n",
       "                        [[ 0.9110,  0.3386,  0.2791, -0.1886],\n",
       "                         [-0.9278, -0.5273,  0.2357,  0.1806],\n",
       "                         [-1.6056,  0.8934, -1.0785,  1.7385]],\n",
       "                \n",
       "                        [[ 0.9110,  0.3386,  0.2791, -0.1886],\n",
       "                         [-0.9278, -0.5273,  0.2357,  0.1806],\n",
       "                         [-1.6056,  0.8934, -1.0785,  1.7385]]])"
      ]
     },
     "execution_count": 20,
     "metadata": {},
     "output_type": "execute_result"
    }
   ],
   "source": [
    "t_stack = FastTreeValue.func(subside=True)(torch.stack)\n",
    "\n",
    "t_stack(trees)"
   ]
  },
  {
   "cell_type": "code",
   "execution_count": 21,
   "id": "f8b3f415",
   "metadata": {
    "execution": {
     "iopub.execute_input": "2023-03-06T11:56:44.251065Z",
     "iopub.status.busy": "2023-03-06T11:56:44.250603Z",
     "iopub.status.idle": "2023-03-06T11:56:48.001296Z",
     "shell.execute_reply": "2023-03-06T11:56:48.000019Z"
    }
   },
   "outputs": [
    {
     "name": "stdout",
     "output_type": "stream",
     "text": [
      "46.4 µs ± 1.24 µs per loop (mean ± std. dev. of 7 runs, 10,000 loops each)\n"
     ]
    }
   ],
   "source": [
    "%timeit t_stack(trees)"
   ]
  },
  {
   "cell_type": "code",
   "execution_count": 22,
   "id": "94b56771",
   "metadata": {
    "execution": {
     "iopub.execute_input": "2023-03-06T11:56:48.005382Z",
     "iopub.status.busy": "2023-03-06T11:56:48.004802Z",
     "iopub.status.idle": "2023-03-06T11:56:48.015477Z",
     "shell.execute_reply": "2023-03-06T11:56:48.014568Z"
    }
   },
   "outputs": [
    {
     "data": {
      "text/plain": [
       "<FastTreeValue 0x7f6cbd715130>\n",
       "├── 'a' --> tensor([[ 1.0330,  0.5842,  0.4965],\n",
       "│                   [ 0.1226, -0.4733,  0.3215],\n",
       "│                   [ 1.0330,  0.5842,  0.4965],\n",
       "│                   [ 0.1226, -0.4733,  0.3215],\n",
       "│                   [ 1.0330,  0.5842,  0.4965],\n",
       "│                   [ 0.1226, -0.4733,  0.3215],\n",
       "│                   [ 1.0330,  0.5842,  0.4965],\n",
       "│                   [ 0.1226, -0.4733,  0.3215],\n",
       "│                   [ 1.0330,  0.5842,  0.4965],\n",
       "│                   [ 0.1226, -0.4733,  0.3215],\n",
       "│                   [ 1.0330,  0.5842,  0.4965],\n",
       "│                   [ 0.1226, -0.4733,  0.3215],\n",
       "│                   [ 1.0330,  0.5842,  0.4965],\n",
       "│                   [ 0.1226, -0.4733,  0.3215],\n",
       "│                   [ 1.0330,  0.5842,  0.4965],\n",
       "│                   [ 0.1226, -0.4733,  0.3215]])\n",
       "└── 'x' --> <FastTreeValue 0x7f6cc4678ac0>\n",
       "    └── 'c' --> tensor([[ 0.9110,  0.3386,  0.2791, -0.1886],\n",
       "                        [-0.9278, -0.5273,  0.2357,  0.1806],\n",
       "                        [-1.6056,  0.8934, -1.0785,  1.7385],\n",
       "                        [ 0.9110,  0.3386,  0.2791, -0.1886],\n",
       "                        [-0.9278, -0.5273,  0.2357,  0.1806],\n",
       "                        [-1.6056,  0.8934, -1.0785,  1.7385],\n",
       "                        [ 0.9110,  0.3386,  0.2791, -0.1886],\n",
       "                        [-0.9278, -0.5273,  0.2357,  0.1806],\n",
       "                        [-1.6056,  0.8934, -1.0785,  1.7385],\n",
       "                        [ 0.9110,  0.3386,  0.2791, -0.1886],\n",
       "                        [-0.9278, -0.5273,  0.2357,  0.1806],\n",
       "                        [-1.6056,  0.8934, -1.0785,  1.7385],\n",
       "                        [ 0.9110,  0.3386,  0.2791, -0.1886],\n",
       "                        [-0.9278, -0.5273,  0.2357,  0.1806],\n",
       "                        [-1.6056,  0.8934, -1.0785,  1.7385],\n",
       "                        [ 0.9110,  0.3386,  0.2791, -0.1886],\n",
       "                        [-0.9278, -0.5273,  0.2357,  0.1806],\n",
       "                        [-1.6056,  0.8934, -1.0785,  1.7385],\n",
       "                        [ 0.9110,  0.3386,  0.2791, -0.1886],\n",
       "                        [-0.9278, -0.5273,  0.2357,  0.1806],\n",
       "                        [-1.6056,  0.8934, -1.0785,  1.7385],\n",
       "                        [ 0.9110,  0.3386,  0.2791, -0.1886],\n",
       "                        [-0.9278, -0.5273,  0.2357,  0.1806],\n",
       "                        [-1.6056,  0.8934, -1.0785,  1.7385]])"
      ]
     },
     "execution_count": 22,
     "metadata": {},
     "output_type": "execute_result"
    }
   ],
   "source": [
    "t_cat = FastTreeValue.func(subside=True)(torch.cat)\n",
    "\n",
    "t_cat(trees)"
   ]
  },
  {
   "cell_type": "code",
   "execution_count": 23,
   "id": "5e9c06a6",
   "metadata": {
    "execution": {
     "iopub.execute_input": "2023-03-06T11:56:48.020034Z",
     "iopub.status.busy": "2023-03-06T11:56:48.018734Z",
     "iopub.status.idle": "2023-03-06T11:56:51.415670Z",
     "shell.execute_reply": "2023-03-06T11:56:51.414436Z"
    }
   },
   "outputs": [
    {
     "name": "stdout",
     "output_type": "stream",
     "text": [
      "41.5 µs ± 1.4 µs per loop (mean ± std. dev. of 7 runs, 10,000 loops each)\n"
     ]
    }
   ],
   "source": [
    "%timeit t_cat(trees)"
   ]
  },
  {
   "cell_type": "code",
   "execution_count": 24,
   "id": "a3ab5c8f",
   "metadata": {
    "execution": {
     "iopub.execute_input": "2023-03-06T11:56:51.419108Z",
     "iopub.status.busy": "2023-03-06T11:56:51.418828Z",
     "iopub.status.idle": "2023-03-06T11:56:57.543823Z",
     "shell.execute_reply": "2023-03-06T11:56:57.542818Z"
    }
   },
   "outputs": [
    {
     "name": "stdout",
     "output_type": "stream",
     "text": [
      "75.7 µs ± 1.93 µs per loop (mean ± std. dev. of 7 runs, 10,000 loops each)\n"
     ]
    }
   ],
   "source": [
    "t_split = FastTreeValue.func(rise=True)(torch.split)\n",
    "tree = FastTreeValue({\n",
    "    'obs': torch.randn(8, 4, 84, 84),\n",
    "    'action': torch.randint(0, 6, size=(8, 1,)),\n",
    "    'reward': torch.rand(8, 1),\n",
    "})\n",
    "\n",
    "%timeit t_split(tree, 1)"
   ]
  },
  {
   "cell_type": "markdown",
   "id": "31c3ec0b",
   "metadata": {},
   "source": [
    "### Performance of Tianshou Batch"
   ]
  },
  {
   "cell_type": "code",
   "execution_count": 25,
   "id": "9ead828a",
   "metadata": {
    "execution": {
     "iopub.execute_input": "2023-03-06T11:56:57.547650Z",
     "iopub.status.busy": "2023-03-06T11:56:57.547143Z",
     "iopub.status.idle": "2023-03-06T11:56:57.556114Z",
     "shell.execute_reply": "2023-03-06T11:56:57.555112Z"
    }
   },
   "outputs": [
    {
     "data": {
      "text/plain": [
       "Batch(\n",
       "    a: tensor([[[ 1.0330,  0.5842,  0.4965],\n",
       "                [ 0.1226, -0.4733,  0.3215]],\n",
       "       \n",
       "               [[ 1.0330,  0.5842,  0.4965],\n",
       "                [ 0.1226, -0.4733,  0.3215]],\n",
       "       \n",
       "               [[ 1.0330,  0.5842,  0.4965],\n",
       "                [ 0.1226, -0.4733,  0.3215]],\n",
       "       \n",
       "               [[ 1.0330,  0.5842,  0.4965],\n",
       "                [ 0.1226, -0.4733,  0.3215]],\n",
       "       \n",
       "               [[ 1.0330,  0.5842,  0.4965],\n",
       "                [ 0.1226, -0.4733,  0.3215]],\n",
       "       \n",
       "               [[ 1.0330,  0.5842,  0.4965],\n",
       "                [ 0.1226, -0.4733,  0.3215]],\n",
       "       \n",
       "               [[ 1.0330,  0.5842,  0.4965],\n",
       "                [ 0.1226, -0.4733,  0.3215]],\n",
       "       \n",
       "               [[ 1.0330,  0.5842,  0.4965],\n",
       "                [ 0.1226, -0.4733,  0.3215]]]),\n",
       "    x: Batch(\n",
       "           c: tensor([[[ 0.9110,  0.3386,  0.2791, -0.1886],\n",
       "                       [-0.9278, -0.5273,  0.2357,  0.1806],\n",
       "                       [-1.6056,  0.8934, -1.0785,  1.7385]],\n",
       "              \n",
       "                      [[ 0.9110,  0.3386,  0.2791, -0.1886],\n",
       "                       [-0.9278, -0.5273,  0.2357,  0.1806],\n",
       "                       [-1.6056,  0.8934, -1.0785,  1.7385]],\n",
       "              \n",
       "                      [[ 0.9110,  0.3386,  0.2791, -0.1886],\n",
       "                       [-0.9278, -0.5273,  0.2357,  0.1806],\n",
       "                       [-1.6056,  0.8934, -1.0785,  1.7385]],\n",
       "              \n",
       "                      [[ 0.9110,  0.3386,  0.2791, -0.1886],\n",
       "                       [-0.9278, -0.5273,  0.2357,  0.1806],\n",
       "                       [-1.6056,  0.8934, -1.0785,  1.7385]],\n",
       "              \n",
       "                      [[ 0.9110,  0.3386,  0.2791, -0.1886],\n",
       "                       [-0.9278, -0.5273,  0.2357,  0.1806],\n",
       "                       [-1.6056,  0.8934, -1.0785,  1.7385]],\n",
       "              \n",
       "                      [[ 0.9110,  0.3386,  0.2791, -0.1886],\n",
       "                       [-0.9278, -0.5273,  0.2357,  0.1806],\n",
       "                       [-1.6056,  0.8934, -1.0785,  1.7385]],\n",
       "              \n",
       "                      [[ 0.9110,  0.3386,  0.2791, -0.1886],\n",
       "                       [-0.9278, -0.5273,  0.2357,  0.1806],\n",
       "                       [-1.6056,  0.8934, -1.0785,  1.7385]],\n",
       "              \n",
       "                      [[ 0.9110,  0.3386,  0.2791, -0.1886],\n",
       "                       [-0.9278, -0.5273,  0.2357,  0.1806],\n",
       "                       [-1.6056,  0.8934, -1.0785,  1.7385]]]),\n",
       "       ),\n",
       ")"
      ]
     },
     "execution_count": 25,
     "metadata": {},
     "output_type": "execute_result"
    }
   ],
   "source": [
    "batches = [Batch(**_TREE_DATA_2) for _ in range(8)]\n",
    "\n",
    "Batch.stack(batches)"
   ]
  },
  {
   "cell_type": "code",
   "execution_count": 26,
   "id": "ec9037a3",
   "metadata": {
    "execution": {
     "iopub.execute_input": "2023-03-06T11:56:57.560357Z",
     "iopub.status.busy": "2023-03-06T11:56:57.559621Z",
     "iopub.status.idle": "2023-03-06T11:57:05.651665Z",
     "shell.execute_reply": "2023-03-06T11:57:05.650710Z"
    }
   },
   "outputs": [
    {
     "name": "stdout",
     "output_type": "stream",
     "text": [
      "99.3 µs ± 2.08 µs per loop (mean ± std. dev. of 7 runs, 10,000 loops each)\n"
     ]
    }
   ],
   "source": [
    "%timeit Batch.stack(batches)"
   ]
  },
  {
   "cell_type": "code",
   "execution_count": 27,
   "id": "cb8ab77e",
   "metadata": {
    "execution": {
     "iopub.execute_input": "2023-03-06T11:57:05.655079Z",
     "iopub.status.busy": "2023-03-06T11:57:05.654671Z",
     "iopub.status.idle": "2023-03-06T11:57:05.663876Z",
     "shell.execute_reply": "2023-03-06T11:57:05.663026Z"
    }
   },
   "outputs": [
    {
     "data": {
      "text/plain": [
       "Batch(\n",
       "    a: tensor([[ 1.0330,  0.5842,  0.4965],\n",
       "               [ 0.1226, -0.4733,  0.3215],\n",
       "               [ 1.0330,  0.5842,  0.4965],\n",
       "               [ 0.1226, -0.4733,  0.3215],\n",
       "               [ 1.0330,  0.5842,  0.4965],\n",
       "               [ 0.1226, -0.4733,  0.3215],\n",
       "               [ 1.0330,  0.5842,  0.4965],\n",
       "               [ 0.1226, -0.4733,  0.3215],\n",
       "               [ 1.0330,  0.5842,  0.4965],\n",
       "               [ 0.1226, -0.4733,  0.3215],\n",
       "               [ 1.0330,  0.5842,  0.4965],\n",
       "               [ 0.1226, -0.4733,  0.3215],\n",
       "               [ 1.0330,  0.5842,  0.4965],\n",
       "               [ 0.1226, -0.4733,  0.3215],\n",
       "               [ 1.0330,  0.5842,  0.4965],\n",
       "               [ 0.1226, -0.4733,  0.3215]]),\n",
       "    x: Batch(\n",
       "           c: tensor([[ 0.9110,  0.3386,  0.2791, -0.1886],\n",
       "                      [-0.9278, -0.5273,  0.2357,  0.1806],\n",
       "                      [-1.6056,  0.8934, -1.0785,  1.7385],\n",
       "                      [ 0.9110,  0.3386,  0.2791, -0.1886],\n",
       "                      [-0.9278, -0.5273,  0.2357,  0.1806],\n",
       "                      [-1.6056,  0.8934, -1.0785,  1.7385],\n",
       "                      [ 0.9110,  0.3386,  0.2791, -0.1886],\n",
       "                      [-0.9278, -0.5273,  0.2357,  0.1806],\n",
       "                      [-1.6056,  0.8934, -1.0785,  1.7385],\n",
       "                      [ 0.9110,  0.3386,  0.2791, -0.1886],\n",
       "                      [-0.9278, -0.5273,  0.2357,  0.1806],\n",
       "                      [-1.6056,  0.8934, -1.0785,  1.7385],\n",
       "                      [ 0.9110,  0.3386,  0.2791, -0.1886],\n",
       "                      [-0.9278, -0.5273,  0.2357,  0.1806],\n",
       "                      [-1.6056,  0.8934, -1.0785,  1.7385],\n",
       "                      [ 0.9110,  0.3386,  0.2791, -0.1886],\n",
       "                      [-0.9278, -0.5273,  0.2357,  0.1806],\n",
       "                      [-1.6056,  0.8934, -1.0785,  1.7385],\n",
       "                      [ 0.9110,  0.3386,  0.2791, -0.1886],\n",
       "                      [-0.9278, -0.5273,  0.2357,  0.1806],\n",
       "                      [-1.6056,  0.8934, -1.0785,  1.7385],\n",
       "                      [ 0.9110,  0.3386,  0.2791, -0.1886],\n",
       "                      [-0.9278, -0.5273,  0.2357,  0.1806],\n",
       "                      [-1.6056,  0.8934, -1.0785,  1.7385]]),\n",
       "       ),\n",
       ")"
      ]
     },
     "execution_count": 27,
     "metadata": {},
     "output_type": "execute_result"
    }
   ],
   "source": [
    "Batch.cat(batches)"
   ]
  },
  {
   "cell_type": "code",
   "execution_count": 28,
   "id": "18dfb045",
   "metadata": {
    "execution": {
     "iopub.execute_input": "2023-03-06T11:57:05.667102Z",
     "iopub.status.busy": "2023-03-06T11:57:05.666605Z",
     "iopub.status.idle": "2023-03-06T11:57:20.428675Z",
     "shell.execute_reply": "2023-03-06T11:57:20.427621Z"
    }
   },
   "outputs": [
    {
     "name": "stdout",
     "output_type": "stream",
     "text": [
      "182 µs ± 4.19 µs per loop (mean ± std. dev. of 7 runs, 10,000 loops each)\n"
     ]
    }
   ],
   "source": [
    "%timeit Batch.cat(batches)"
   ]
  },
  {
   "cell_type": "code",
   "execution_count": 29,
   "id": "c6688e51",
   "metadata": {
    "execution": {
     "iopub.execute_input": "2023-03-06T11:57:20.433164Z",
     "iopub.status.busy": "2023-03-06T11:57:20.432677Z",
     "iopub.status.idle": "2023-03-06T11:57:24.815870Z",
     "shell.execute_reply": "2023-03-06T11:57:24.814658Z"
    }
   },
   "outputs": [
    {
     "name": "stdout",
     "output_type": "stream",
     "text": [
      "535 µs ± 10.5 µs per loop (mean ± std. dev. of 7 runs, 1,000 loops each)\n"
     ]
    }
   ],
   "source": [
    "batch = Batch({\n",
    "    'obs': torch.randn(8, 4, 84, 84),\n",
    "    'action': torch.randint(0, 6, size=(8, 1,)),\n",
    "    'reward': torch.rand(8, 1)}\n",
    ")\n",
    "\n",
    "%timeit list(Batch.split(batch, 1, shuffle=False, merge_last=True))"
   ]
  },
  {
   "cell_type": "code",
   "execution_count": null,
   "id": "2539fbd9",
   "metadata": {},
   "outputs": [],
   "source": []
  }
 ],
 "metadata": {
  "kernelspec": {
   "display_name": "Python 3 (ipykernel)",
   "language": "python",
   "name": "python3"
  },
  "language_info": {
   "codemirror_mode": {
    "name": "ipython",
    "version": 3
   },
   "file_extension": ".py",
   "mimetype": "text/x-python",
   "name": "python",
   "nbconvert_exporter": "python",
   "pygments_lexer": "ipython3",
   "version": "3.8.16"
  }
 },
 "nbformat": 4,
 "nbformat_minor": 5
}
