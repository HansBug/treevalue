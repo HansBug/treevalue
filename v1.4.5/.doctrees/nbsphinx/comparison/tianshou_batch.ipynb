{
 "cells": [
  {
   "cell_type": "markdown",
   "id": "9d39d946",
   "metadata": {},
   "source": [
    "# Comparison Between TreeValue and Tianshou Batch"
   ]
  },
  {
   "cell_type": "markdown",
   "id": "3c6db2d4",
   "metadata": {},
   "source": [
    "In this section, we will take a look at the feature and performance of the [Tianshou Batch](https://github.com/thu-ml/tianshou) library, which is developed by Tsinghua Machine Learning Group."
   ]
  },
  {
   "cell_type": "markdown",
   "id": "069361b0",
   "metadata": {},
   "source": [
    "Before starting the comparison, let us define some thing."
   ]
  },
  {
   "cell_type": "code",
   "execution_count": 1,
   "id": "06fc8d26",
   "metadata": {
    "execution": {
     "iopub.execute_input": "2023-02-26T15:36:24.972683Z",
     "iopub.status.busy": "2023-02-26T15:36:24.972165Z",
     "iopub.status.idle": "2023-02-26T15:36:26.046877Z",
     "shell.execute_reply": "2023-02-26T15:36:26.045814Z"
    }
   },
   "outputs": [
    {
     "name": "stderr",
     "output_type": "stream",
     "text": [
      "/opt/hostedtoolcache/Python/3.8.16/x64/lib/python3.8/site-packages/tqdm/auto.py:22: TqdmWarning: IProgress not found. Please update jupyter and ipywidgets. See https://ipywidgets.readthedocs.io/en/stable/user_install.html\n",
      "  from .autonotebook import tqdm as notebook_tqdm\n"
     ]
    }
   ],
   "source": [
    "import torch \n",
    "\n",
    "_TREE_DATA_1 = {'a': 1, 'b': 2, 'x': {'c': 3, 'd': 4}}\n",
    "_TREE_DATA_2 = {\n",
    "    'a': torch.randn(2, 3), \n",
    "    'x': {\n",
    "        'c': torch.randn(3, 4)\n",
    "    },\n",
    "}\n",
    "_TREE_DATA_3 = {\n",
    "    'obs': torch.randn(4, 84, 84),\n",
    "    'action': torch.randint(0, 6, size=(1,)),\n",
    "    'reward': torch.rand(1),\n",
    "}"
   ]
  },
  {
   "cell_type": "markdown",
   "id": "83461b25",
   "metadata": {},
   "source": [
    "## Read and Write Operation"
   ]
  },
  {
   "cell_type": "markdown",
   "id": "067b3f73",
   "metadata": {},
   "source": [
    "Reading and writing are the two most common operations in the tree data structure based on the data model (TreeValue and Tianshou Batch both belong to this type), so this section will compare the reading and writing performance of these two libraries."
   ]
  },
  {
   "cell_type": "markdown",
   "id": "5d09a5b7",
   "metadata": {},
   "source": [
    "### TreeValue's Get and Set"
   ]
  },
  {
   "cell_type": "code",
   "execution_count": 2,
   "id": "9519c4bb",
   "metadata": {
    "execution": {
     "iopub.execute_input": "2023-02-26T15:36:26.051188Z",
     "iopub.status.busy": "2023-02-26T15:36:26.050781Z",
     "iopub.status.idle": "2023-02-26T15:36:26.407255Z",
     "shell.execute_reply": "2023-02-26T15:36:26.406120Z"
    }
   },
   "outputs": [],
   "source": [
    "from treevalue import FastTreeValue\n",
    "\n",
    "t = FastTreeValue(_TREE_DATA_2)"
   ]
  },
  {
   "cell_type": "code",
   "execution_count": 3,
   "id": "11c37677",
   "metadata": {
    "execution": {
     "iopub.execute_input": "2023-02-26T15:36:26.411385Z",
     "iopub.status.busy": "2023-02-26T15:36:26.410893Z",
     "iopub.status.idle": "2023-02-26T15:36:26.423324Z",
     "shell.execute_reply": "2023-02-26T15:36:26.422248Z"
    }
   },
   "outputs": [
    {
     "data": {
      "text/plain": [
       "<FastTreeValue 0x7f69acc3ae50>\n",
       "├── 'a' --> tensor([[ 0.8667, -1.2557, -2.0797],\n",
       "│                   [-0.3077, -0.6453,  1.2652]])\n",
       "└── 'x' --> <FastTreeValue 0x7f698837a2b0>\n",
       "    └── 'c' --> tensor([[ 2.1441, -0.1156,  0.0939, -1.5727],\n",
       "                        [-1.1628,  0.8543,  1.1539,  0.5806],\n",
       "                        [ 0.0546,  0.4014, -0.1263,  0.9575]])"
      ]
     },
     "execution_count": 3,
     "metadata": {},
     "output_type": "execute_result"
    }
   ],
   "source": [
    "t"
   ]
  },
  {
   "cell_type": "code",
   "execution_count": 4,
   "id": "fd70b0b9",
   "metadata": {
    "execution": {
     "iopub.execute_input": "2023-02-26T15:36:26.426566Z",
     "iopub.status.busy": "2023-02-26T15:36:26.426309Z",
     "iopub.status.idle": "2023-02-26T15:36:26.434074Z",
     "shell.execute_reply": "2023-02-26T15:36:26.433149Z"
    }
   },
   "outputs": [
    {
     "data": {
      "text/plain": [
       "tensor([[ 0.8667, -1.2557, -2.0797],\n",
       "        [-0.3077, -0.6453,  1.2652]])"
      ]
     },
     "execution_count": 4,
     "metadata": {},
     "output_type": "execute_result"
    }
   ],
   "source": [
    "t.a"
   ]
  },
  {
   "cell_type": "code",
   "execution_count": 5,
   "id": "c18197bd",
   "metadata": {
    "execution": {
     "iopub.execute_input": "2023-02-26T15:36:26.437012Z",
     "iopub.status.busy": "2023-02-26T15:36:26.436757Z",
     "iopub.status.idle": "2023-02-26T15:36:32.102011Z",
     "shell.execute_reply": "2023-02-26T15:36:32.100931Z"
    }
   },
   "outputs": [
    {
     "name": "stdout",
     "output_type": "stream",
     "text": [
      "69.8 ns ± 0.64 ns per loop (mean ± std. dev. of 7 runs, 10,000,000 loops each)\n"
     ]
    }
   ],
   "source": [
    "%timeit t.a"
   ]
  },
  {
   "cell_type": "code",
   "execution_count": 6,
   "id": "bd52f867",
   "metadata": {
    "execution": {
     "iopub.execute_input": "2023-02-26T15:36:32.105381Z",
     "iopub.status.busy": "2023-02-26T15:36:32.105096Z",
     "iopub.status.idle": "2023-02-26T15:36:32.114018Z",
     "shell.execute_reply": "2023-02-26T15:36:32.112863Z"
    }
   },
   "outputs": [
    {
     "data": {
      "text/plain": [
       "<FastTreeValue 0x7f69acc3ae50>\n",
       "├── 'a' --> tensor([[ 1.4107, -0.3386, -1.4592],\n",
       "│                   [-0.4701, -0.6296,  1.2823]])\n",
       "└── 'x' --> <FastTreeValue 0x7f698837a2b0>\n",
       "    └── 'c' --> tensor([[ 2.1441, -0.1156,  0.0939, -1.5727],\n",
       "                        [-1.1628,  0.8543,  1.1539,  0.5806],\n",
       "                        [ 0.0546,  0.4014, -0.1263,  0.9575]])"
      ]
     },
     "execution_count": 6,
     "metadata": {},
     "output_type": "execute_result"
    }
   ],
   "source": [
    "new_value = torch.randn(2, 3)\n",
    "t.a = new_value\n",
    "\n",
    "t"
   ]
  },
  {
   "cell_type": "code",
   "execution_count": 7,
   "id": "bbe04d1c",
   "metadata": {
    "execution": {
     "iopub.execute_input": "2023-02-26T15:36:32.117681Z",
     "iopub.status.busy": "2023-02-26T15:36:32.117383Z",
     "iopub.status.idle": "2023-02-26T15:36:38.486633Z",
     "shell.execute_reply": "2023-02-26T15:36:38.485669Z"
    }
   },
   "outputs": [
    {
     "name": "stdout",
     "output_type": "stream",
     "text": [
      "79 ns ± 0.622 ns per loop (mean ± std. dev. of 7 runs, 10,000,000 loops each)\n"
     ]
    }
   ],
   "source": [
    "%timeit t.a = new_value"
   ]
  },
  {
   "cell_type": "markdown",
   "id": "48c49731",
   "metadata": {},
   "source": [
    "### Tianshou Batch's Get and Set"
   ]
  },
  {
   "cell_type": "code",
   "execution_count": 8,
   "id": "f1bb14c1",
   "metadata": {
    "execution": {
     "iopub.execute_input": "2023-02-26T15:36:38.490136Z",
     "iopub.status.busy": "2023-02-26T15:36:38.489844Z",
     "iopub.status.idle": "2023-02-26T15:36:38.899329Z",
     "shell.execute_reply": "2023-02-26T15:36:38.898079Z"
    }
   },
   "outputs": [],
   "source": [
    "from tianshou.data import Batch\n",
    "\n",
    "b = Batch(**_TREE_DATA_2)"
   ]
  },
  {
   "cell_type": "code",
   "execution_count": 9,
   "id": "cb0777c3",
   "metadata": {
    "execution": {
     "iopub.execute_input": "2023-02-26T15:36:38.903254Z",
     "iopub.status.busy": "2023-02-26T15:36:38.902680Z",
     "iopub.status.idle": "2023-02-26T15:36:38.911259Z",
     "shell.execute_reply": "2023-02-26T15:36:38.910430Z"
    }
   },
   "outputs": [
    {
     "data": {
      "text/plain": [
       "Batch(\n",
       "    a: tensor([[ 0.8667, -1.2557, -2.0797],\n",
       "               [-0.3077, -0.6453,  1.2652]]),\n",
       "    x: Batch(\n",
       "           c: tensor([[ 2.1441, -0.1156,  0.0939, -1.5727],\n",
       "                      [-1.1628,  0.8543,  1.1539,  0.5806],\n",
       "                      [ 0.0546,  0.4014, -0.1263,  0.9575]]),\n",
       "       ),\n",
       ")"
      ]
     },
     "execution_count": 9,
     "metadata": {},
     "output_type": "execute_result"
    }
   ],
   "source": [
    "b"
   ]
  },
  {
   "cell_type": "code",
   "execution_count": 10,
   "id": "43ef8ea3",
   "metadata": {
    "execution": {
     "iopub.execute_input": "2023-02-26T15:36:38.914382Z",
     "iopub.status.busy": "2023-02-26T15:36:38.913920Z",
     "iopub.status.idle": "2023-02-26T15:36:38.921273Z",
     "shell.execute_reply": "2023-02-26T15:36:38.920564Z"
    }
   },
   "outputs": [
    {
     "data": {
      "text/plain": [
       "tensor([[ 0.8667, -1.2557, -2.0797],\n",
       "        [-0.3077, -0.6453,  1.2652]])"
      ]
     },
     "execution_count": 10,
     "metadata": {},
     "output_type": "execute_result"
    }
   ],
   "source": [
    "b.a"
   ]
  },
  {
   "cell_type": "code",
   "execution_count": 11,
   "id": "b785ab72",
   "metadata": {
    "execution": {
     "iopub.execute_input": "2023-02-26T15:36:38.924252Z",
     "iopub.status.busy": "2023-02-26T15:36:38.923994Z",
     "iopub.status.idle": "2023-02-26T15:36:44.817543Z",
     "shell.execute_reply": "2023-02-26T15:36:44.816584Z"
    }
   },
   "outputs": [
    {
     "name": "stdout",
     "output_type": "stream",
     "text": [
      "73.2 ns ± 1.63 ns per loop (mean ± std. dev. of 7 runs, 10,000,000 loops each)\n"
     ]
    }
   ],
   "source": [
    "%timeit b.a"
   ]
  },
  {
   "cell_type": "code",
   "execution_count": 12,
   "id": "ad54dc69",
   "metadata": {
    "execution": {
     "iopub.execute_input": "2023-02-26T15:36:44.820745Z",
     "iopub.status.busy": "2023-02-26T15:36:44.820333Z",
     "iopub.status.idle": "2023-02-26T15:36:44.828432Z",
     "shell.execute_reply": "2023-02-26T15:36:44.827620Z"
    }
   },
   "outputs": [
    {
     "data": {
      "text/plain": [
       "Batch(\n",
       "    a: tensor([[ 0.2108,  0.5938,  1.1798],\n",
       "               [ 0.5847, -0.0619,  2.5925]]),\n",
       "    x: Batch(\n",
       "           c: tensor([[ 2.1441, -0.1156,  0.0939, -1.5727],\n",
       "                      [-1.1628,  0.8543,  1.1539,  0.5806],\n",
       "                      [ 0.0546,  0.4014, -0.1263,  0.9575]]),\n",
       "       ),\n",
       ")"
      ]
     },
     "execution_count": 12,
     "metadata": {},
     "output_type": "execute_result"
    }
   ],
   "source": [
    "new_value = torch.randn(2, 3)\n",
    "b.a = new_value\n",
    "\n",
    "b"
   ]
  },
  {
   "cell_type": "code",
   "execution_count": 13,
   "id": "29b1d0bf",
   "metadata": {
    "execution": {
     "iopub.execute_input": "2023-02-26T15:36:44.831623Z",
     "iopub.status.busy": "2023-02-26T15:36:44.831161Z",
     "iopub.status.idle": "2023-02-26T15:36:49.429523Z",
     "shell.execute_reply": "2023-02-26T15:36:49.428636Z"
    }
   },
   "outputs": [
    {
     "name": "stdout",
     "output_type": "stream",
     "text": [
      "568 ns ± 8.92 ns per loop (mean ± std. dev. of 7 runs, 1,000,000 loops each)\n"
     ]
    }
   ],
   "source": [
    "%timeit b.a = new_value"
   ]
  },
  {
   "cell_type": "markdown",
   "id": "b61ad1d0",
   "metadata": {},
   "source": [
    "## Initialization"
   ]
  },
  {
   "cell_type": "markdown",
   "id": "d70f0d54",
   "metadata": {},
   "source": [
    "### TreeValue's Initialization"
   ]
  },
  {
   "cell_type": "code",
   "execution_count": 14,
   "id": "d32a679b",
   "metadata": {
    "execution": {
     "iopub.execute_input": "2023-02-26T15:36:49.433275Z",
     "iopub.status.busy": "2023-02-26T15:36:49.432848Z",
     "iopub.status.idle": "2023-02-26T15:36:56.883841Z",
     "shell.execute_reply": "2023-02-26T15:36:56.882822Z"
    }
   },
   "outputs": [
    {
     "name": "stdout",
     "output_type": "stream",
     "text": [
      "915 ns ± 7.24 ns per loop (mean ± std. dev. of 7 runs, 1,000,000 loops each)\n"
     ]
    }
   ],
   "source": [
    "%timeit FastTreeValue(_TREE_DATA_1)"
   ]
  },
  {
   "cell_type": "markdown",
   "id": "24f3707b",
   "metadata": {},
   "source": [
    "### Tianshou Batch's Initialization"
   ]
  },
  {
   "cell_type": "code",
   "execution_count": 15,
   "id": "ac3958df",
   "metadata": {
    "execution": {
     "iopub.execute_input": "2023-02-26T15:36:56.887415Z",
     "iopub.status.busy": "2023-02-26T15:36:56.886947Z",
     "iopub.status.idle": "2023-02-26T15:37:06.995878Z",
     "shell.execute_reply": "2023-02-26T15:37:06.994129Z"
    }
   },
   "outputs": [
    {
     "name": "stdout",
     "output_type": "stream",
     "text": [
      "12.4 µs ± 224 ns per loop (mean ± std. dev. of 7 runs, 100,000 loops each)\n"
     ]
    }
   ],
   "source": [
    "%timeit Batch(**_TREE_DATA_1)"
   ]
  },
  {
   "cell_type": "markdown",
   "id": "1ab82e2d",
   "metadata": {},
   "source": [
    "## Deep Copy Operation"
   ]
  },
  {
   "cell_type": "code",
   "execution_count": 16,
   "id": "210a9442",
   "metadata": {
    "execution": {
     "iopub.execute_input": "2023-02-26T15:37:06.999490Z",
     "iopub.status.busy": "2023-02-26T15:37:06.999074Z",
     "iopub.status.idle": "2023-02-26T15:37:07.003959Z",
     "shell.execute_reply": "2023-02-26T15:37:07.003025Z"
    }
   },
   "outputs": [],
   "source": [
    "import copy"
   ]
  },
  {
   "cell_type": "markdown",
   "id": "5a736274",
   "metadata": {},
   "source": [
    "### Deep Copy of TreeValue"
   ]
  },
  {
   "cell_type": "code",
   "execution_count": 17,
   "id": "f9bcadd6",
   "metadata": {
    "execution": {
     "iopub.execute_input": "2023-02-26T15:37:07.007313Z",
     "iopub.status.busy": "2023-02-26T15:37:07.006858Z",
     "iopub.status.idle": "2023-02-26T15:37:09.309201Z",
     "shell.execute_reply": "2023-02-26T15:37:09.308424Z"
    }
   },
   "outputs": [
    {
     "name": "stdout",
     "output_type": "stream",
     "text": [
      "272 µs ± 9.82 µs per loop (mean ± std. dev. of 7 runs, 1,000 loops each)\n"
     ]
    }
   ],
   "source": [
    "t3 = FastTreeValue(_TREE_DATA_3)\n",
    "%timeit copy.deepcopy(t3)"
   ]
  },
  {
   "cell_type": "markdown",
   "id": "bf8be7ea",
   "metadata": {},
   "source": [
    "### Deep Copy of Tianshou Batch"
   ]
  },
  {
   "cell_type": "code",
   "execution_count": 18,
   "id": "91998e6f",
   "metadata": {
    "execution": {
     "iopub.execute_input": "2023-02-26T15:37:09.312645Z",
     "iopub.status.busy": "2023-02-26T15:37:09.312205Z",
     "iopub.status.idle": "2023-02-26T15:37:11.386553Z",
     "shell.execute_reply": "2023-02-26T15:37:11.385752Z"
    }
   },
   "outputs": [
    {
     "name": "stdout",
     "output_type": "stream",
     "text": [
      "256 µs ± 6.29 µs per loop (mean ± std. dev. of 7 runs, 1,000 loops each)\n"
     ]
    }
   ],
   "source": [
    "b3 = Batch(**_TREE_DATA_3)\n",
    "%timeit copy.deepcopy(b3)"
   ]
  },
  {
   "cell_type": "markdown",
   "id": "223162fb",
   "metadata": {},
   "source": [
    "## Stack, Concat and Split Operation"
   ]
  },
  {
   "cell_type": "markdown",
   "id": "85fa4a73",
   "metadata": {},
   "source": [
    "### Performance of TreeValue"
   ]
  },
  {
   "cell_type": "code",
   "execution_count": 19,
   "id": "a0c2b697",
   "metadata": {
    "execution": {
     "iopub.execute_input": "2023-02-26T15:37:11.390155Z",
     "iopub.status.busy": "2023-02-26T15:37:11.389497Z",
     "iopub.status.idle": "2023-02-26T15:37:11.394093Z",
     "shell.execute_reply": "2023-02-26T15:37:11.393265Z"
    }
   },
   "outputs": [],
   "source": [
    "trees = [FastTreeValue(_TREE_DATA_2) for _ in range(8)]"
   ]
  },
  {
   "cell_type": "code",
   "execution_count": 20,
   "id": "017ea5a5",
   "metadata": {
    "execution": {
     "iopub.execute_input": "2023-02-26T15:37:11.397159Z",
     "iopub.status.busy": "2023-02-26T15:37:11.396674Z",
     "iopub.status.idle": "2023-02-26T15:37:11.406394Z",
     "shell.execute_reply": "2023-02-26T15:37:11.405574Z"
    }
   },
   "outputs": [
    {
     "data": {
      "text/plain": [
       "<FastTreeValue 0x7f68f4ef4790>\n",
       "├── 'a' --> tensor([[[ 0.8667, -1.2557, -2.0797],\n",
       "│                    [-0.3077, -0.6453,  1.2652]],\n",
       "│           \n",
       "│                   [[ 0.8667, -1.2557, -2.0797],\n",
       "│                    [-0.3077, -0.6453,  1.2652]],\n",
       "│           \n",
       "│                   [[ 0.8667, -1.2557, -2.0797],\n",
       "│                    [-0.3077, -0.6453,  1.2652]],\n",
       "│           \n",
       "│                   [[ 0.8667, -1.2557, -2.0797],\n",
       "│                    [-0.3077, -0.6453,  1.2652]],\n",
       "│           \n",
       "│                   [[ 0.8667, -1.2557, -2.0797],\n",
       "│                    [-0.3077, -0.6453,  1.2652]],\n",
       "│           \n",
       "│                   [[ 0.8667, -1.2557, -2.0797],\n",
       "│                    [-0.3077, -0.6453,  1.2652]],\n",
       "│           \n",
       "│                   [[ 0.8667, -1.2557, -2.0797],\n",
       "│                    [-0.3077, -0.6453,  1.2652]],\n",
       "│           \n",
       "│                   [[ 0.8667, -1.2557, -2.0797],\n",
       "│                    [-0.3077, -0.6453,  1.2652]]])\n",
       "└── 'x' --> <FastTreeValue 0x7f69880bfe80>\n",
       "    └── 'c' --> tensor([[[ 2.1441, -0.1156,  0.0939, -1.5727],\n",
       "                         [-1.1628,  0.8543,  1.1539,  0.5806],\n",
       "                         [ 0.0546,  0.4014, -0.1263,  0.9575]],\n",
       "                \n",
       "                        [[ 2.1441, -0.1156,  0.0939, -1.5727],\n",
       "                         [-1.1628,  0.8543,  1.1539,  0.5806],\n",
       "                         [ 0.0546,  0.4014, -0.1263,  0.9575]],\n",
       "                \n",
       "                        [[ 2.1441, -0.1156,  0.0939, -1.5727],\n",
       "                         [-1.1628,  0.8543,  1.1539,  0.5806],\n",
       "                         [ 0.0546,  0.4014, -0.1263,  0.9575]],\n",
       "                \n",
       "                        [[ 2.1441, -0.1156,  0.0939, -1.5727],\n",
       "                         [-1.1628,  0.8543,  1.1539,  0.5806],\n",
       "                         [ 0.0546,  0.4014, -0.1263,  0.9575]],\n",
       "                \n",
       "                        [[ 2.1441, -0.1156,  0.0939, -1.5727],\n",
       "                         [-1.1628,  0.8543,  1.1539,  0.5806],\n",
       "                         [ 0.0546,  0.4014, -0.1263,  0.9575]],\n",
       "                \n",
       "                        [[ 2.1441, -0.1156,  0.0939, -1.5727],\n",
       "                         [-1.1628,  0.8543,  1.1539,  0.5806],\n",
       "                         [ 0.0546,  0.4014, -0.1263,  0.9575]],\n",
       "                \n",
       "                        [[ 2.1441, -0.1156,  0.0939, -1.5727],\n",
       "                         [-1.1628,  0.8543,  1.1539,  0.5806],\n",
       "                         [ 0.0546,  0.4014, -0.1263,  0.9575]],\n",
       "                \n",
       "                        [[ 2.1441, -0.1156,  0.0939, -1.5727],\n",
       "                         [-1.1628,  0.8543,  1.1539,  0.5806],\n",
       "                         [ 0.0546,  0.4014, -0.1263,  0.9575]]])"
      ]
     },
     "execution_count": 20,
     "metadata": {},
     "output_type": "execute_result"
    }
   ],
   "source": [
    "t_stack = FastTreeValue.func(subside=True)(torch.stack)\n",
    "\n",
    "t_stack(trees)"
   ]
  },
  {
   "cell_type": "code",
   "execution_count": 21,
   "id": "f8b3f415",
   "metadata": {
    "execution": {
     "iopub.execute_input": "2023-02-26T15:37:11.409751Z",
     "iopub.status.busy": "2023-02-26T15:37:11.409240Z",
     "iopub.status.idle": "2023-02-26T15:37:14.919635Z",
     "shell.execute_reply": "2023-02-26T15:37:14.918624Z"
    }
   },
   "outputs": [
    {
     "name": "stdout",
     "output_type": "stream",
     "text": [
      "43.2 µs ± 631 ns per loop (mean ± std. dev. of 7 runs, 10,000 loops each)\n"
     ]
    }
   ],
   "source": [
    "%timeit t_stack(trees)"
   ]
  },
  {
   "cell_type": "code",
   "execution_count": 22,
   "id": "94b56771",
   "metadata": {
    "execution": {
     "iopub.execute_input": "2023-02-26T15:37:14.923487Z",
     "iopub.status.busy": "2023-02-26T15:37:14.922642Z",
     "iopub.status.idle": "2023-02-26T15:37:14.932199Z",
     "shell.execute_reply": "2023-02-26T15:37:14.931230Z"
    }
   },
   "outputs": [
    {
     "data": {
      "text/plain": [
       "<FastTreeValue 0x7f68f4f6c490>\n",
       "├── 'a' --> tensor([[ 0.8667, -1.2557, -2.0797],\n",
       "│                   [-0.3077, -0.6453,  1.2652],\n",
       "│                   [ 0.8667, -1.2557, -2.0797],\n",
       "│                   [-0.3077, -0.6453,  1.2652],\n",
       "│                   [ 0.8667, -1.2557, -2.0797],\n",
       "│                   [-0.3077, -0.6453,  1.2652],\n",
       "│                   [ 0.8667, -1.2557, -2.0797],\n",
       "│                   [-0.3077, -0.6453,  1.2652],\n",
       "│                   [ 0.8667, -1.2557, -2.0797],\n",
       "│                   [-0.3077, -0.6453,  1.2652],\n",
       "│                   [ 0.8667, -1.2557, -2.0797],\n",
       "│                   [-0.3077, -0.6453,  1.2652],\n",
       "│                   [ 0.8667, -1.2557, -2.0797],\n",
       "│                   [-0.3077, -0.6453,  1.2652],\n",
       "│                   [ 0.8667, -1.2557, -2.0797],\n",
       "│                   [-0.3077, -0.6453,  1.2652]])\n",
       "└── 'x' --> <FastTreeValue 0x7f68f4e86f40>\n",
       "    └── 'c' --> tensor([[ 2.1441, -0.1156,  0.0939, -1.5727],\n",
       "                        [-1.1628,  0.8543,  1.1539,  0.5806],\n",
       "                        [ 0.0546,  0.4014, -0.1263,  0.9575],\n",
       "                        [ 2.1441, -0.1156,  0.0939, -1.5727],\n",
       "                        [-1.1628,  0.8543,  1.1539,  0.5806],\n",
       "                        [ 0.0546,  0.4014, -0.1263,  0.9575],\n",
       "                        [ 2.1441, -0.1156,  0.0939, -1.5727],\n",
       "                        [-1.1628,  0.8543,  1.1539,  0.5806],\n",
       "                        [ 0.0546,  0.4014, -0.1263,  0.9575],\n",
       "                        [ 2.1441, -0.1156,  0.0939, -1.5727],\n",
       "                        [-1.1628,  0.8543,  1.1539,  0.5806],\n",
       "                        [ 0.0546,  0.4014, -0.1263,  0.9575],\n",
       "                        [ 2.1441, -0.1156,  0.0939, -1.5727],\n",
       "                        [-1.1628,  0.8543,  1.1539,  0.5806],\n",
       "                        [ 0.0546,  0.4014, -0.1263,  0.9575],\n",
       "                        [ 2.1441, -0.1156,  0.0939, -1.5727],\n",
       "                        [-1.1628,  0.8543,  1.1539,  0.5806],\n",
       "                        [ 0.0546,  0.4014, -0.1263,  0.9575],\n",
       "                        [ 2.1441, -0.1156,  0.0939, -1.5727],\n",
       "                        [-1.1628,  0.8543,  1.1539,  0.5806],\n",
       "                        [ 0.0546,  0.4014, -0.1263,  0.9575],\n",
       "                        [ 2.1441, -0.1156,  0.0939, -1.5727],\n",
       "                        [-1.1628,  0.8543,  1.1539,  0.5806],\n",
       "                        [ 0.0546,  0.4014, -0.1263,  0.9575]])"
      ]
     },
     "execution_count": 22,
     "metadata": {},
     "output_type": "execute_result"
    }
   ],
   "source": [
    "t_cat = FastTreeValue.func(subside=True)(torch.cat)\n",
    "\n",
    "t_cat(trees)"
   ]
  },
  {
   "cell_type": "code",
   "execution_count": 23,
   "id": "5e9c06a6",
   "metadata": {
    "execution": {
     "iopub.execute_input": "2023-02-26T15:37:14.935429Z",
     "iopub.status.busy": "2023-02-26T15:37:14.935049Z",
     "iopub.status.idle": "2023-02-26T15:37:18.053404Z",
     "shell.execute_reply": "2023-02-26T15:37:18.052393Z"
    }
   },
   "outputs": [
    {
     "name": "stdout",
     "output_type": "stream",
     "text": [
      "38.2 µs ± 502 ns per loop (mean ± std. dev. of 7 runs, 10,000 loops each)\n"
     ]
    }
   ],
   "source": [
    "%timeit t_cat(trees)"
   ]
  },
  {
   "cell_type": "code",
   "execution_count": 24,
   "id": "a3ab5c8f",
   "metadata": {
    "execution": {
     "iopub.execute_input": "2023-02-26T15:37:18.056879Z",
     "iopub.status.busy": "2023-02-26T15:37:18.056290Z",
     "iopub.status.idle": "2023-02-26T15:37:24.003901Z",
     "shell.execute_reply": "2023-02-26T15:37:24.002913Z"
    }
   },
   "outputs": [
    {
     "name": "stdout",
     "output_type": "stream",
     "text": [
      "73.3 µs ± 1.25 µs per loop (mean ± std. dev. of 7 runs, 10,000 loops each)\n"
     ]
    }
   ],
   "source": [
    "t_split = FastTreeValue.func(rise=True)(torch.split)\n",
    "tree = FastTreeValue({\n",
    "    'obs': torch.randn(8, 4, 84, 84),\n",
    "    'action': torch.randint(0, 6, size=(8, 1,)),\n",
    "    'reward': torch.rand(8, 1),\n",
    "})\n",
    "\n",
    "%timeit t_split(tree, 1)"
   ]
  },
  {
   "cell_type": "markdown",
   "id": "31c3ec0b",
   "metadata": {},
   "source": [
    "### Performance of Tianshou Batch"
   ]
  },
  {
   "cell_type": "code",
   "execution_count": 25,
   "id": "9ead828a",
   "metadata": {
    "execution": {
     "iopub.execute_input": "2023-02-26T15:37:24.007454Z",
     "iopub.status.busy": "2023-02-26T15:37:24.007041Z",
     "iopub.status.idle": "2023-02-26T15:37:24.016590Z",
     "shell.execute_reply": "2023-02-26T15:37:24.015736Z"
    }
   },
   "outputs": [
    {
     "data": {
      "text/plain": [
       "Batch(\n",
       "    a: tensor([[[ 0.8667, -1.2557, -2.0797],\n",
       "                [-0.3077, -0.6453,  1.2652]],\n",
       "       \n",
       "               [[ 0.8667, -1.2557, -2.0797],\n",
       "                [-0.3077, -0.6453,  1.2652]],\n",
       "       \n",
       "               [[ 0.8667, -1.2557, -2.0797],\n",
       "                [-0.3077, -0.6453,  1.2652]],\n",
       "       \n",
       "               [[ 0.8667, -1.2557, -2.0797],\n",
       "                [-0.3077, -0.6453,  1.2652]],\n",
       "       \n",
       "               [[ 0.8667, -1.2557, -2.0797],\n",
       "                [-0.3077, -0.6453,  1.2652]],\n",
       "       \n",
       "               [[ 0.8667, -1.2557, -2.0797],\n",
       "                [-0.3077, -0.6453,  1.2652]],\n",
       "       \n",
       "               [[ 0.8667, -1.2557, -2.0797],\n",
       "                [-0.3077, -0.6453,  1.2652]],\n",
       "       \n",
       "               [[ 0.8667, -1.2557, -2.0797],\n",
       "                [-0.3077, -0.6453,  1.2652]]]),\n",
       "    x: Batch(\n",
       "           c: tensor([[[ 2.1441, -0.1156,  0.0939, -1.5727],\n",
       "                       [-1.1628,  0.8543,  1.1539,  0.5806],\n",
       "                       [ 0.0546,  0.4014, -0.1263,  0.9575]],\n",
       "              \n",
       "                      [[ 2.1441, -0.1156,  0.0939, -1.5727],\n",
       "                       [-1.1628,  0.8543,  1.1539,  0.5806],\n",
       "                       [ 0.0546,  0.4014, -0.1263,  0.9575]],\n",
       "              \n",
       "                      [[ 2.1441, -0.1156,  0.0939, -1.5727],\n",
       "                       [-1.1628,  0.8543,  1.1539,  0.5806],\n",
       "                       [ 0.0546,  0.4014, -0.1263,  0.9575]],\n",
       "              \n",
       "                      [[ 2.1441, -0.1156,  0.0939, -1.5727],\n",
       "                       [-1.1628,  0.8543,  1.1539,  0.5806],\n",
       "                       [ 0.0546,  0.4014, -0.1263,  0.9575]],\n",
       "              \n",
       "                      [[ 2.1441, -0.1156,  0.0939, -1.5727],\n",
       "                       [-1.1628,  0.8543,  1.1539,  0.5806],\n",
       "                       [ 0.0546,  0.4014, -0.1263,  0.9575]],\n",
       "              \n",
       "                      [[ 2.1441, -0.1156,  0.0939, -1.5727],\n",
       "                       [-1.1628,  0.8543,  1.1539,  0.5806],\n",
       "                       [ 0.0546,  0.4014, -0.1263,  0.9575]],\n",
       "              \n",
       "                      [[ 2.1441, -0.1156,  0.0939, -1.5727],\n",
       "                       [-1.1628,  0.8543,  1.1539,  0.5806],\n",
       "                       [ 0.0546,  0.4014, -0.1263,  0.9575]],\n",
       "              \n",
       "                      [[ 2.1441, -0.1156,  0.0939, -1.5727],\n",
       "                       [-1.1628,  0.8543,  1.1539,  0.5806],\n",
       "                       [ 0.0546,  0.4014, -0.1263,  0.9575]]]),\n",
       "       ),\n",
       ")"
      ]
     },
     "execution_count": 25,
     "metadata": {},
     "output_type": "execute_result"
    }
   ],
   "source": [
    "batches = [Batch(**_TREE_DATA_2) for _ in range(8)]\n",
    "\n",
    "Batch.stack(batches)"
   ]
  },
  {
   "cell_type": "code",
   "execution_count": 26,
   "id": "ec9037a3",
   "metadata": {
    "execution": {
     "iopub.execute_input": "2023-02-26T15:37:24.019651Z",
     "iopub.status.busy": "2023-02-26T15:37:24.019395Z",
     "iopub.status.idle": "2023-02-26T15:37:31.906447Z",
     "shell.execute_reply": "2023-02-26T15:37:31.905541Z"
    }
   },
   "outputs": [
    {
     "name": "stdout",
     "output_type": "stream",
     "text": [
      "96.8 µs ± 914 ns per loop (mean ± std. dev. of 7 runs, 10,000 loops each)\n"
     ]
    }
   ],
   "source": [
    "%timeit Batch.stack(batches)"
   ]
  },
  {
   "cell_type": "code",
   "execution_count": 27,
   "id": "cb8ab77e",
   "metadata": {
    "execution": {
     "iopub.execute_input": "2023-02-26T15:37:31.911916Z",
     "iopub.status.busy": "2023-02-26T15:37:31.911612Z",
     "iopub.status.idle": "2023-02-26T15:37:31.921419Z",
     "shell.execute_reply": "2023-02-26T15:37:31.920578Z"
    }
   },
   "outputs": [
    {
     "data": {
      "text/plain": [
       "Batch(\n",
       "    a: tensor([[ 0.8667, -1.2557, -2.0797],\n",
       "               [-0.3077, -0.6453,  1.2652],\n",
       "               [ 0.8667, -1.2557, -2.0797],\n",
       "               [-0.3077, -0.6453,  1.2652],\n",
       "               [ 0.8667, -1.2557, -2.0797],\n",
       "               [-0.3077, -0.6453,  1.2652],\n",
       "               [ 0.8667, -1.2557, -2.0797],\n",
       "               [-0.3077, -0.6453,  1.2652],\n",
       "               [ 0.8667, -1.2557, -2.0797],\n",
       "               [-0.3077, -0.6453,  1.2652],\n",
       "               [ 0.8667, -1.2557, -2.0797],\n",
       "               [-0.3077, -0.6453,  1.2652],\n",
       "               [ 0.8667, -1.2557, -2.0797],\n",
       "               [-0.3077, -0.6453,  1.2652],\n",
       "               [ 0.8667, -1.2557, -2.0797],\n",
       "               [-0.3077, -0.6453,  1.2652]]),\n",
       "    x: Batch(\n",
       "           c: tensor([[ 2.1441, -0.1156,  0.0939, -1.5727],\n",
       "                      [-1.1628,  0.8543,  1.1539,  0.5806],\n",
       "                      [ 0.0546,  0.4014, -0.1263,  0.9575],\n",
       "                      [ 2.1441, -0.1156,  0.0939, -1.5727],\n",
       "                      [-1.1628,  0.8543,  1.1539,  0.5806],\n",
       "                      [ 0.0546,  0.4014, -0.1263,  0.9575],\n",
       "                      [ 2.1441, -0.1156,  0.0939, -1.5727],\n",
       "                      [-1.1628,  0.8543,  1.1539,  0.5806],\n",
       "                      [ 0.0546,  0.4014, -0.1263,  0.9575],\n",
       "                      [ 2.1441, -0.1156,  0.0939, -1.5727],\n",
       "                      [-1.1628,  0.8543,  1.1539,  0.5806],\n",
       "                      [ 0.0546,  0.4014, -0.1263,  0.9575],\n",
       "                      [ 2.1441, -0.1156,  0.0939, -1.5727],\n",
       "                      [-1.1628,  0.8543,  1.1539,  0.5806],\n",
       "                      [ 0.0546,  0.4014, -0.1263,  0.9575],\n",
       "                      [ 2.1441, -0.1156,  0.0939, -1.5727],\n",
       "                      [-1.1628,  0.8543,  1.1539,  0.5806],\n",
       "                      [ 0.0546,  0.4014, -0.1263,  0.9575],\n",
       "                      [ 2.1441, -0.1156,  0.0939, -1.5727],\n",
       "                      [-1.1628,  0.8543,  1.1539,  0.5806],\n",
       "                      [ 0.0546,  0.4014, -0.1263,  0.9575],\n",
       "                      [ 2.1441, -0.1156,  0.0939, -1.5727],\n",
       "                      [-1.1628,  0.8543,  1.1539,  0.5806],\n",
       "                      [ 0.0546,  0.4014, -0.1263,  0.9575]]),\n",
       "       ),\n",
       ")"
      ]
     },
     "execution_count": 27,
     "metadata": {},
     "output_type": "execute_result"
    }
   ],
   "source": [
    "Batch.cat(batches)"
   ]
  },
  {
   "cell_type": "code",
   "execution_count": 28,
   "id": "18dfb045",
   "metadata": {
    "execution": {
     "iopub.execute_input": "2023-02-26T15:37:31.924414Z",
     "iopub.status.busy": "2023-02-26T15:37:31.924007Z",
     "iopub.status.idle": "2023-02-26T15:37:45.793777Z",
     "shell.execute_reply": "2023-02-26T15:37:45.792791Z"
    }
   },
   "outputs": [
    {
     "name": "stdout",
     "output_type": "stream",
     "text": [
      "171 µs ± 1.73 µs per loop (mean ± std. dev. of 7 runs, 10,000 loops each)\n"
     ]
    }
   ],
   "source": [
    "%timeit Batch.cat(batches)"
   ]
  },
  {
   "cell_type": "code",
   "execution_count": 29,
   "id": "c6688e51",
   "metadata": {
    "execution": {
     "iopub.execute_input": "2023-02-26T15:37:45.797560Z",
     "iopub.status.busy": "2023-02-26T15:37:45.797252Z",
     "iopub.status.idle": "2023-02-26T15:37:50.269109Z",
     "shell.execute_reply": "2023-02-26T15:37:50.268020Z"
    }
   },
   "outputs": [
    {
     "name": "stdout",
     "output_type": "stream",
     "text": [
      "549 µs ± 14.4 µs per loop (mean ± std. dev. of 7 runs, 1,000 loops each)\n"
     ]
    }
   ],
   "source": [
    "batch = Batch({\n",
    "    'obs': torch.randn(8, 4, 84, 84),\n",
    "    'action': torch.randint(0, 6, size=(8, 1,)),\n",
    "    'reward': torch.rand(8, 1)}\n",
    ")\n",
    "\n",
    "%timeit list(Batch.split(batch, 1, shuffle=False, merge_last=True))"
   ]
  },
  {
   "cell_type": "code",
   "execution_count": null,
   "id": "2539fbd9",
   "metadata": {},
   "outputs": [],
   "source": []
  }
 ],
 "metadata": {
  "kernelspec": {
   "display_name": "Python 3 (ipykernel)",
   "language": "python",
   "name": "python3"
  },
  "language_info": {
   "codemirror_mode": {
    "name": "ipython",
    "version": 3
   },
   "file_extension": ".py",
   "mimetype": "text/x-python",
   "name": "python",
   "nbconvert_exporter": "python",
   "pygments_lexer": "ipython3",
   "version": "3.8.16"
  }
 },
 "nbformat": 4,
 "nbformat_minor": 5
}
