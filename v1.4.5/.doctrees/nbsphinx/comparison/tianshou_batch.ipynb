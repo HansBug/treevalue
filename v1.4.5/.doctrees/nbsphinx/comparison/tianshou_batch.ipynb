{
 "cells": [
  {
   "cell_type": "markdown",
   "id": "9d39d946",
   "metadata": {},
   "source": [
    "# Comparison Between TreeValue and Tianshou Batch"
   ]
  },
  {
   "cell_type": "markdown",
   "id": "3c6db2d4",
   "metadata": {},
   "source": [
    "In this section, we will take a look at the feature and performance of the [Tianshou Batch](https://github.com/thu-ml/tianshou) library, which is developed by Tsinghua Machine Learning Group."
   ]
  },
  {
   "cell_type": "markdown",
   "id": "069361b0",
   "metadata": {},
   "source": [
    "Before starting the comparison, let us define some thing."
   ]
  },
  {
   "cell_type": "code",
   "execution_count": 1,
   "id": "06fc8d26",
   "metadata": {
    "execution": {
     "iopub.execute_input": "2023-02-27T14:30:38.070317Z",
     "iopub.status.busy": "2023-02-27T14:30:38.069992Z",
     "iopub.status.idle": "2023-02-27T14:30:39.296470Z",
     "shell.execute_reply": "2023-02-27T14:30:39.295273Z"
    }
   },
   "outputs": [
    {
     "name": "stderr",
     "output_type": "stream",
     "text": [
      "/opt/hostedtoolcache/Python/3.8.16/x64/lib/python3.8/site-packages/tqdm/auto.py:22: TqdmWarning: IProgress not found. Please update jupyter and ipywidgets. See https://ipywidgets.readthedocs.io/en/stable/user_install.html\n",
      "  from .autonotebook import tqdm as notebook_tqdm\n"
     ]
    }
   ],
   "source": [
    "import torch \n",
    "\n",
    "_TREE_DATA_1 = {'a': 1, 'b': 2, 'x': {'c': 3, 'd': 4}}\n",
    "_TREE_DATA_2 = {\n",
    "    'a': torch.randn(2, 3), \n",
    "    'x': {\n",
    "        'c': torch.randn(3, 4)\n",
    "    },\n",
    "}\n",
    "_TREE_DATA_3 = {\n",
    "    'obs': torch.randn(4, 84, 84),\n",
    "    'action': torch.randint(0, 6, size=(1,)),\n",
    "    'reward': torch.rand(1),\n",
    "}"
   ]
  },
  {
   "cell_type": "markdown",
   "id": "83461b25",
   "metadata": {},
   "source": [
    "## Read and Write Operation"
   ]
  },
  {
   "cell_type": "markdown",
   "id": "067b3f73",
   "metadata": {},
   "source": [
    "Reading and writing are the two most common operations in the tree data structure based on the data model (TreeValue and Tianshou Batch both belong to this type), so this section will compare the reading and writing performance of these two libraries."
   ]
  },
  {
   "cell_type": "markdown",
   "id": "5d09a5b7",
   "metadata": {},
   "source": [
    "### TreeValue's Get and Set"
   ]
  },
  {
   "cell_type": "code",
   "execution_count": 2,
   "id": "9519c4bb",
   "metadata": {
    "execution": {
     "iopub.execute_input": "2023-02-27T14:30:39.301359Z",
     "iopub.status.busy": "2023-02-27T14:30:39.300469Z",
     "iopub.status.idle": "2023-02-27T14:30:39.673761Z",
     "shell.execute_reply": "2023-02-27T14:30:39.672679Z"
    }
   },
   "outputs": [],
   "source": [
    "from treevalue import FastTreeValue\n",
    "\n",
    "t = FastTreeValue(_TREE_DATA_2)"
   ]
  },
  {
   "cell_type": "code",
   "execution_count": 3,
   "id": "11c37677",
   "metadata": {
    "execution": {
     "iopub.execute_input": "2023-02-27T14:30:39.677538Z",
     "iopub.status.busy": "2023-02-27T14:30:39.677180Z",
     "iopub.status.idle": "2023-02-27T14:30:39.690215Z",
     "shell.execute_reply": "2023-02-27T14:30:39.688551Z"
    }
   },
   "outputs": [
    {
     "data": {
      "text/plain": [
       "<FastTreeValue 0x7f1f60199c10>\n",
       "├── 'a' --> tensor([[-0.2704,  1.6590, -0.7301],\n",
       "│                   [-0.3963,  1.5045,  0.7599]])\n",
       "└── 'x' --> <FastTreeValue 0x7f1f60199460>\n",
       "    └── 'c' --> tensor([[ 0.7411, -1.4261,  0.7883,  1.4179],\n",
       "                        [ 0.6141,  0.4478, -0.0814, -0.8131],\n",
       "                        [-0.2000,  0.7481,  0.0197,  1.4457]])"
      ]
     },
     "execution_count": 3,
     "metadata": {},
     "output_type": "execute_result"
    }
   ],
   "source": [
    "t"
   ]
  },
  {
   "cell_type": "code",
   "execution_count": 4,
   "id": "fd70b0b9",
   "metadata": {
    "execution": {
     "iopub.execute_input": "2023-02-27T14:30:39.693660Z",
     "iopub.status.busy": "2023-02-27T14:30:39.693345Z",
     "iopub.status.idle": "2023-02-27T14:30:39.700617Z",
     "shell.execute_reply": "2023-02-27T14:30:39.699654Z"
    }
   },
   "outputs": [
    {
     "data": {
      "text/plain": [
       "tensor([[-0.2704,  1.6590, -0.7301],\n",
       "        [-0.3963,  1.5045,  0.7599]])"
      ]
     },
     "execution_count": 4,
     "metadata": {},
     "output_type": "execute_result"
    }
   ],
   "source": [
    "t.a"
   ]
  },
  {
   "cell_type": "code",
   "execution_count": 5,
   "id": "c18197bd",
   "metadata": {
    "execution": {
     "iopub.execute_input": "2023-02-27T14:30:39.704050Z",
     "iopub.status.busy": "2023-02-27T14:30:39.703734Z",
     "iopub.status.idle": "2023-02-27T14:30:45.498572Z",
     "shell.execute_reply": "2023-02-27T14:30:45.497486Z"
    }
   },
   "outputs": [
    {
     "name": "stdout",
     "output_type": "stream",
     "text": [
      "71.5 ns ± 1.62 ns per loop (mean ± std. dev. of 7 runs, 10,000,000 loops each)\n"
     ]
    }
   ],
   "source": [
    "%timeit t.a"
   ]
  },
  {
   "cell_type": "code",
   "execution_count": 6,
   "id": "bd52f867",
   "metadata": {
    "execution": {
     "iopub.execute_input": "2023-02-27T14:30:45.506853Z",
     "iopub.status.busy": "2023-02-27T14:30:45.506197Z",
     "iopub.status.idle": "2023-02-27T14:30:45.514730Z",
     "shell.execute_reply": "2023-02-27T14:30:45.513708Z"
    }
   },
   "outputs": [
    {
     "data": {
      "text/plain": [
       "<FastTreeValue 0x7f1f60199c10>\n",
       "├── 'a' --> tensor([[ 0.0829, -0.4415,  0.9690],\n",
       "│                   [ 0.5901, -0.5109, -1.2168]])\n",
       "└── 'x' --> <FastTreeValue 0x7f1f60199460>\n",
       "    └── 'c' --> tensor([[ 0.7411, -1.4261,  0.7883,  1.4179],\n",
       "                        [ 0.6141,  0.4478, -0.0814, -0.8131],\n",
       "                        [-0.2000,  0.7481,  0.0197,  1.4457]])"
      ]
     },
     "execution_count": 6,
     "metadata": {},
     "output_type": "execute_result"
    }
   ],
   "source": [
    "new_value = torch.randn(2, 3)\n",
    "t.a = new_value\n",
    "\n",
    "t"
   ]
  },
  {
   "cell_type": "code",
   "execution_count": 7,
   "id": "bbe04d1c",
   "metadata": {
    "execution": {
     "iopub.execute_input": "2023-02-27T14:30:45.518475Z",
     "iopub.status.busy": "2023-02-27T14:30:45.517728Z",
     "iopub.status.idle": "2023-02-27T14:30:51.652008Z",
     "shell.execute_reply": "2023-02-27T14:30:51.650984Z"
    }
   },
   "outputs": [
    {
     "name": "stdout",
     "output_type": "stream",
     "text": [
      "75.8 ns ± 1.04 ns per loop (mean ± std. dev. of 7 runs, 10,000,000 loops each)\n"
     ]
    }
   ],
   "source": [
    "%timeit t.a = new_value"
   ]
  },
  {
   "cell_type": "markdown",
   "id": "48c49731",
   "metadata": {},
   "source": [
    "### Tianshou Batch's Get and Set"
   ]
  },
  {
   "cell_type": "code",
   "execution_count": 8,
   "id": "f1bb14c1",
   "metadata": {
    "execution": {
     "iopub.execute_input": "2023-02-27T14:30:51.655567Z",
     "iopub.status.busy": "2023-02-27T14:30:51.655029Z",
     "iopub.status.idle": "2023-02-27T14:30:52.084606Z",
     "shell.execute_reply": "2023-02-27T14:30:52.083528Z"
    }
   },
   "outputs": [],
   "source": [
    "from tianshou.data import Batch\n",
    "\n",
    "b = Batch(**_TREE_DATA_2)"
   ]
  },
  {
   "cell_type": "code",
   "execution_count": 9,
   "id": "cb0777c3",
   "metadata": {
    "execution": {
     "iopub.execute_input": "2023-02-27T14:30:52.088621Z",
     "iopub.status.busy": "2023-02-27T14:30:52.088241Z",
     "iopub.status.idle": "2023-02-27T14:30:52.096591Z",
     "shell.execute_reply": "2023-02-27T14:30:52.095781Z"
    }
   },
   "outputs": [
    {
     "data": {
      "text/plain": [
       "Batch(\n",
       "    a: tensor([[-0.2704,  1.6590, -0.7301],\n",
       "               [-0.3963,  1.5045,  0.7599]]),\n",
       "    x: Batch(\n",
       "           c: tensor([[ 0.7411, -1.4261,  0.7883,  1.4179],\n",
       "                      [ 0.6141,  0.4478, -0.0814, -0.8131],\n",
       "                      [-0.2000,  0.7481,  0.0197,  1.4457]]),\n",
       "       ),\n",
       ")"
      ]
     },
     "execution_count": 9,
     "metadata": {},
     "output_type": "execute_result"
    }
   ],
   "source": [
    "b"
   ]
  },
  {
   "cell_type": "code",
   "execution_count": 10,
   "id": "43ef8ea3",
   "metadata": {
    "execution": {
     "iopub.execute_input": "2023-02-27T14:30:52.099942Z",
     "iopub.status.busy": "2023-02-27T14:30:52.099406Z",
     "iopub.status.idle": "2023-02-27T14:30:52.107203Z",
     "shell.execute_reply": "2023-02-27T14:30:52.106298Z"
    }
   },
   "outputs": [
    {
     "data": {
      "text/plain": [
       "tensor([[-0.2704,  1.6590, -0.7301],\n",
       "        [-0.3963,  1.5045,  0.7599]])"
      ]
     },
     "execution_count": 10,
     "metadata": {},
     "output_type": "execute_result"
    }
   ],
   "source": [
    "b.a"
   ]
  },
  {
   "cell_type": "code",
   "execution_count": 11,
   "id": "b785ab72",
   "metadata": {
    "execution": {
     "iopub.execute_input": "2023-02-27T14:30:52.110737Z",
     "iopub.status.busy": "2023-02-27T14:30:52.110245Z",
     "iopub.status.idle": "2023-02-27T14:30:57.457248Z",
     "shell.execute_reply": "2023-02-27T14:30:57.456294Z"
    }
   },
   "outputs": [
    {
     "name": "stdout",
     "output_type": "stream",
     "text": [
      "65.9 ns ± 0.846 ns per loop (mean ± std. dev. of 7 runs, 10,000,000 loops each)\n"
     ]
    }
   ],
   "source": [
    "%timeit b.a"
   ]
  },
  {
   "cell_type": "code",
   "execution_count": 12,
   "id": "ad54dc69",
   "metadata": {
    "execution": {
     "iopub.execute_input": "2023-02-27T14:30:57.460579Z",
     "iopub.status.busy": "2023-02-27T14:30:57.460293Z",
     "iopub.status.idle": "2023-02-27T14:30:57.469509Z",
     "shell.execute_reply": "2023-02-27T14:30:57.468297Z"
    }
   },
   "outputs": [
    {
     "data": {
      "text/plain": [
       "Batch(\n",
       "    a: tensor([[-0.0609,  0.3229, -0.2893],\n",
       "               [-1.6343, -0.4445, -0.4575]]),\n",
       "    x: Batch(\n",
       "           c: tensor([[ 0.7411, -1.4261,  0.7883,  1.4179],\n",
       "                      [ 0.6141,  0.4478, -0.0814, -0.8131],\n",
       "                      [-0.2000,  0.7481,  0.0197,  1.4457]]),\n",
       "       ),\n",
       ")"
      ]
     },
     "execution_count": 12,
     "metadata": {},
     "output_type": "execute_result"
    }
   ],
   "source": [
    "new_value = torch.randn(2, 3)\n",
    "b.a = new_value\n",
    "\n",
    "b"
   ]
  },
  {
   "cell_type": "code",
   "execution_count": 13,
   "id": "29b1d0bf",
   "metadata": {
    "execution": {
     "iopub.execute_input": "2023-02-27T14:30:57.473163Z",
     "iopub.status.busy": "2023-02-27T14:30:57.472779Z",
     "iopub.status.idle": "2023-02-27T14:31:02.417486Z",
     "shell.execute_reply": "2023-02-27T14:31:02.416527Z"
    }
   },
   "outputs": [
    {
     "name": "stdout",
     "output_type": "stream",
     "text": [
      "610 ns ± 14.1 ns per loop (mean ± std. dev. of 7 runs, 1,000,000 loops each)\n"
     ]
    }
   ],
   "source": [
    "%timeit b.a = new_value"
   ]
  },
  {
   "cell_type": "markdown",
   "id": "b61ad1d0",
   "metadata": {},
   "source": [
    "## Initialization"
   ]
  },
  {
   "cell_type": "markdown",
   "id": "d70f0d54",
   "metadata": {},
   "source": [
    "### TreeValue's Initialization"
   ]
  },
  {
   "cell_type": "code",
   "execution_count": 14,
   "id": "d32a679b",
   "metadata": {
    "execution": {
     "iopub.execute_input": "2023-02-27T14:31:02.421331Z",
     "iopub.status.busy": "2023-02-27T14:31:02.420820Z",
     "iopub.status.idle": "2023-02-27T14:31:10.606063Z",
     "shell.execute_reply": "2023-02-27T14:31:10.604989Z"
    }
   },
   "outputs": [
    {
     "name": "stdout",
     "output_type": "stream",
     "text": [
      "1.01 µs ± 32.2 ns per loop (mean ± std. dev. of 7 runs, 1,000,000 loops each)\n"
     ]
    }
   ],
   "source": [
    "%timeit FastTreeValue(_TREE_DATA_1)"
   ]
  },
  {
   "cell_type": "markdown",
   "id": "24f3707b",
   "metadata": {},
   "source": [
    "### Tianshou Batch's Initialization"
   ]
  },
  {
   "cell_type": "code",
   "execution_count": 15,
   "id": "ac3958df",
   "metadata": {
    "execution": {
     "iopub.execute_input": "2023-02-27T14:31:10.609887Z",
     "iopub.status.busy": "2023-02-27T14:31:10.609434Z",
     "iopub.status.idle": "2023-02-27T14:31:21.648192Z",
     "shell.execute_reply": "2023-02-27T14:31:21.647104Z"
    }
   },
   "outputs": [
    {
     "name": "stdout",
     "output_type": "stream",
     "text": [
      "13.6 µs ± 198 ns per loop (mean ± std. dev. of 7 runs, 100,000 loops each)\n"
     ]
    }
   ],
   "source": [
    "%timeit Batch(**_TREE_DATA_1)"
   ]
  },
  {
   "cell_type": "markdown",
   "id": "1ab82e2d",
   "metadata": {},
   "source": [
    "## Deep Copy Operation"
   ]
  },
  {
   "cell_type": "code",
   "execution_count": 16,
   "id": "210a9442",
   "metadata": {
    "execution": {
     "iopub.execute_input": "2023-02-27T14:31:21.651730Z",
     "iopub.status.busy": "2023-02-27T14:31:21.651201Z",
     "iopub.status.idle": "2023-02-27T14:31:21.657092Z",
     "shell.execute_reply": "2023-02-27T14:31:21.655874Z"
    }
   },
   "outputs": [],
   "source": [
    "import copy"
   ]
  },
  {
   "cell_type": "markdown",
   "id": "5a736274",
   "metadata": {},
   "source": [
    "### Deep Copy of TreeValue"
   ]
  },
  {
   "cell_type": "code",
   "execution_count": 17,
   "id": "f9bcadd6",
   "metadata": {
    "execution": {
     "iopub.execute_input": "2023-02-27T14:31:21.660661Z",
     "iopub.status.busy": "2023-02-27T14:31:21.660109Z",
     "iopub.status.idle": "2023-02-27T14:31:24.004330Z",
     "shell.execute_reply": "2023-02-27T14:31:24.003384Z"
    }
   },
   "outputs": [
    {
     "name": "stdout",
     "output_type": "stream",
     "text": [
      "288 µs ± 11.2 µs per loop (mean ± std. dev. of 7 runs, 1,000 loops each)\n"
     ]
    }
   ],
   "source": [
    "t3 = FastTreeValue(_TREE_DATA_3)\n",
    "%timeit copy.deepcopy(t3)"
   ]
  },
  {
   "cell_type": "markdown",
   "id": "bf8be7ea",
   "metadata": {},
   "source": [
    "### Deep Copy of Tianshou Batch"
   ]
  },
  {
   "cell_type": "code",
   "execution_count": 18,
   "id": "91998e6f",
   "metadata": {
    "execution": {
     "iopub.execute_input": "2023-02-27T14:31:24.007805Z",
     "iopub.status.busy": "2023-02-27T14:31:24.007255Z",
     "iopub.status.idle": "2023-02-27T14:31:26.231427Z",
     "shell.execute_reply": "2023-02-27T14:31:26.230514Z"
    }
   },
   "outputs": [
    {
     "name": "stdout",
     "output_type": "stream",
     "text": [
      "271 µs ± 7.91 µs per loop (mean ± std. dev. of 7 runs, 1,000 loops each)\n"
     ]
    }
   ],
   "source": [
    "b3 = Batch(**_TREE_DATA_3)\n",
    "%timeit copy.deepcopy(b3)"
   ]
  },
  {
   "cell_type": "markdown",
   "id": "223162fb",
   "metadata": {},
   "source": [
    "## Stack, Concat and Split Operation"
   ]
  },
  {
   "cell_type": "markdown",
   "id": "85fa4a73",
   "metadata": {},
   "source": [
    "### Performance of TreeValue"
   ]
  },
  {
   "cell_type": "code",
   "execution_count": 19,
   "id": "a0c2b697",
   "metadata": {
    "execution": {
     "iopub.execute_input": "2023-02-27T14:31:26.235085Z",
     "iopub.status.busy": "2023-02-27T14:31:26.234571Z",
     "iopub.status.idle": "2023-02-27T14:31:26.239934Z",
     "shell.execute_reply": "2023-02-27T14:31:26.238800Z"
    }
   },
   "outputs": [],
   "source": [
    "trees = [FastTreeValue(_TREE_DATA_2) for _ in range(8)]"
   ]
  },
  {
   "cell_type": "code",
   "execution_count": 20,
   "id": "017ea5a5",
   "metadata": {
    "execution": {
     "iopub.execute_input": "2023-02-27T14:31:26.243228Z",
     "iopub.status.busy": "2023-02-27T14:31:26.242698Z",
     "iopub.status.idle": "2023-02-27T14:31:26.252610Z",
     "shell.execute_reply": "2023-02-27T14:31:26.251658Z"
    }
   },
   "outputs": [
    {
     "data": {
      "text/plain": [
       "<FastTreeValue 0x7f1ea844cd30>\n",
       "├── 'a' --> tensor([[[-0.2704,  1.6590, -0.7301],\n",
       "│                    [-0.3963,  1.5045,  0.7599]],\n",
       "│           \n",
       "│                   [[-0.2704,  1.6590, -0.7301],\n",
       "│                    [-0.3963,  1.5045,  0.7599]],\n",
       "│           \n",
       "│                   [[-0.2704,  1.6590, -0.7301],\n",
       "│                    [-0.3963,  1.5045,  0.7599]],\n",
       "│           \n",
       "│                   [[-0.2704,  1.6590, -0.7301],\n",
       "│                    [-0.3963,  1.5045,  0.7599]],\n",
       "│           \n",
       "│                   [[-0.2704,  1.6590, -0.7301],\n",
       "│                    [-0.3963,  1.5045,  0.7599]],\n",
       "│           \n",
       "│                   [[-0.2704,  1.6590, -0.7301],\n",
       "│                    [-0.3963,  1.5045,  0.7599]],\n",
       "│           \n",
       "│                   [[-0.2704,  1.6590, -0.7301],\n",
       "│                    [-0.3963,  1.5045,  0.7599]],\n",
       "│           \n",
       "│                   [[-0.2704,  1.6590, -0.7301],\n",
       "│                    [-0.3963,  1.5045,  0.7599]]])\n",
       "└── 'x' --> <FastTreeValue 0x7f1ea844cd00>\n",
       "    └── 'c' --> tensor([[[ 0.7411, -1.4261,  0.7883,  1.4179],\n",
       "                         [ 0.6141,  0.4478, -0.0814, -0.8131],\n",
       "                         [-0.2000,  0.7481,  0.0197,  1.4457]],\n",
       "                \n",
       "                        [[ 0.7411, -1.4261,  0.7883,  1.4179],\n",
       "                         [ 0.6141,  0.4478, -0.0814, -0.8131],\n",
       "                         [-0.2000,  0.7481,  0.0197,  1.4457]],\n",
       "                \n",
       "                        [[ 0.7411, -1.4261,  0.7883,  1.4179],\n",
       "                         [ 0.6141,  0.4478, -0.0814, -0.8131],\n",
       "                         [-0.2000,  0.7481,  0.0197,  1.4457]],\n",
       "                \n",
       "                        [[ 0.7411, -1.4261,  0.7883,  1.4179],\n",
       "                         [ 0.6141,  0.4478, -0.0814, -0.8131],\n",
       "                         [-0.2000,  0.7481,  0.0197,  1.4457]],\n",
       "                \n",
       "                        [[ 0.7411, -1.4261,  0.7883,  1.4179],\n",
       "                         [ 0.6141,  0.4478, -0.0814, -0.8131],\n",
       "                         [-0.2000,  0.7481,  0.0197,  1.4457]],\n",
       "                \n",
       "                        [[ 0.7411, -1.4261,  0.7883,  1.4179],\n",
       "                         [ 0.6141,  0.4478, -0.0814, -0.8131],\n",
       "                         [-0.2000,  0.7481,  0.0197,  1.4457]],\n",
       "                \n",
       "                        [[ 0.7411, -1.4261,  0.7883,  1.4179],\n",
       "                         [ 0.6141,  0.4478, -0.0814, -0.8131],\n",
       "                         [-0.2000,  0.7481,  0.0197,  1.4457]],\n",
       "                \n",
       "                        [[ 0.7411, -1.4261,  0.7883,  1.4179],\n",
       "                         [ 0.6141,  0.4478, -0.0814, -0.8131],\n",
       "                         [-0.2000,  0.7481,  0.0197,  1.4457]]])"
      ]
     },
     "execution_count": 20,
     "metadata": {},
     "output_type": "execute_result"
    }
   ],
   "source": [
    "t_stack = FastTreeValue.func(subside=True)(torch.stack)\n",
    "\n",
    "t_stack(trees)"
   ]
  },
  {
   "cell_type": "code",
   "execution_count": 21,
   "id": "f8b3f415",
   "metadata": {
    "execution": {
     "iopub.execute_input": "2023-02-27T14:31:26.256197Z",
     "iopub.status.busy": "2023-02-27T14:31:26.255842Z",
     "iopub.status.idle": "2023-02-27T14:31:30.036918Z",
     "shell.execute_reply": "2023-02-27T14:31:30.035800Z"
    }
   },
   "outputs": [
    {
     "name": "stdout",
     "output_type": "stream",
     "text": [
      "46.6 µs ± 562 ns per loop (mean ± std. dev. of 7 runs, 10,000 loops each)\n"
     ]
    }
   ],
   "source": [
    "%timeit t_stack(trees)"
   ]
  },
  {
   "cell_type": "code",
   "execution_count": 22,
   "id": "94b56771",
   "metadata": {
    "execution": {
     "iopub.execute_input": "2023-02-27T14:31:30.040387Z",
     "iopub.status.busy": "2023-02-27T14:31:30.040083Z",
     "iopub.status.idle": "2023-02-27T14:31:30.050902Z",
     "shell.execute_reply": "2023-02-27T14:31:30.049805Z"
    }
   },
   "outputs": [
    {
     "data": {
      "text/plain": [
       "<FastTreeValue 0x7f1f6020ffd0>\n",
       "├── 'a' --> tensor([[-0.2704,  1.6590, -0.7301],\n",
       "│                   [-0.3963,  1.5045,  0.7599],\n",
       "│                   [-0.2704,  1.6590, -0.7301],\n",
       "│                   [-0.3963,  1.5045,  0.7599],\n",
       "│                   [-0.2704,  1.6590, -0.7301],\n",
       "│                   [-0.3963,  1.5045,  0.7599],\n",
       "│                   [-0.2704,  1.6590, -0.7301],\n",
       "│                   [-0.3963,  1.5045,  0.7599],\n",
       "│                   [-0.2704,  1.6590, -0.7301],\n",
       "│                   [-0.3963,  1.5045,  0.7599],\n",
       "│                   [-0.2704,  1.6590, -0.7301],\n",
       "│                   [-0.3963,  1.5045,  0.7599],\n",
       "│                   [-0.2704,  1.6590, -0.7301],\n",
       "│                   [-0.3963,  1.5045,  0.7599],\n",
       "│                   [-0.2704,  1.6590, -0.7301],\n",
       "│                   [-0.3963,  1.5045,  0.7599]])\n",
       "└── 'x' --> <FastTreeValue 0x7f1f6020f160>\n",
       "    └── 'c' --> tensor([[ 0.7411, -1.4261,  0.7883,  1.4179],\n",
       "                        [ 0.6141,  0.4478, -0.0814, -0.8131],\n",
       "                        [-0.2000,  0.7481,  0.0197,  1.4457],\n",
       "                        [ 0.7411, -1.4261,  0.7883,  1.4179],\n",
       "                        [ 0.6141,  0.4478, -0.0814, -0.8131],\n",
       "                        [-0.2000,  0.7481,  0.0197,  1.4457],\n",
       "                        [ 0.7411, -1.4261,  0.7883,  1.4179],\n",
       "                        [ 0.6141,  0.4478, -0.0814, -0.8131],\n",
       "                        [-0.2000,  0.7481,  0.0197,  1.4457],\n",
       "                        [ 0.7411, -1.4261,  0.7883,  1.4179],\n",
       "                        [ 0.6141,  0.4478, -0.0814, -0.8131],\n",
       "                        [-0.2000,  0.7481,  0.0197,  1.4457],\n",
       "                        [ 0.7411, -1.4261,  0.7883,  1.4179],\n",
       "                        [ 0.6141,  0.4478, -0.0814, -0.8131],\n",
       "                        [-0.2000,  0.7481,  0.0197,  1.4457],\n",
       "                        [ 0.7411, -1.4261,  0.7883,  1.4179],\n",
       "                        [ 0.6141,  0.4478, -0.0814, -0.8131],\n",
       "                        [-0.2000,  0.7481,  0.0197,  1.4457],\n",
       "                        [ 0.7411, -1.4261,  0.7883,  1.4179],\n",
       "                        [ 0.6141,  0.4478, -0.0814, -0.8131],\n",
       "                        [-0.2000,  0.7481,  0.0197,  1.4457],\n",
       "                        [ 0.7411, -1.4261,  0.7883,  1.4179],\n",
       "                        [ 0.6141,  0.4478, -0.0814, -0.8131],\n",
       "                        [-0.2000,  0.7481,  0.0197,  1.4457]])"
      ]
     },
     "execution_count": 22,
     "metadata": {},
     "output_type": "execute_result"
    }
   ],
   "source": [
    "t_cat = FastTreeValue.func(subside=True)(torch.cat)\n",
    "\n",
    "t_cat(trees)"
   ]
  },
  {
   "cell_type": "code",
   "execution_count": 23,
   "id": "5e9c06a6",
   "metadata": {
    "execution": {
     "iopub.execute_input": "2023-02-27T14:31:30.054229Z",
     "iopub.status.busy": "2023-02-27T14:31:30.053943Z",
     "iopub.status.idle": "2023-02-27T14:31:33.599540Z",
     "shell.execute_reply": "2023-02-27T14:31:33.598520Z"
    }
   },
   "outputs": [
    {
     "name": "stdout",
     "output_type": "stream",
     "text": [
      "43.6 µs ± 749 ns per loop (mean ± std. dev. of 7 runs, 10,000 loops each)\n"
     ]
    }
   ],
   "source": [
    "%timeit t_cat(trees)"
   ]
  },
  {
   "cell_type": "code",
   "execution_count": 24,
   "id": "a3ab5c8f",
   "metadata": {
    "execution": {
     "iopub.execute_input": "2023-02-27T14:31:33.603533Z",
     "iopub.status.busy": "2023-02-27T14:31:33.602736Z",
     "iopub.status.idle": "2023-02-27T14:31:40.114242Z",
     "shell.execute_reply": "2023-02-27T14:31:40.113161Z"
    }
   },
   "outputs": [
    {
     "name": "stdout",
     "output_type": "stream",
     "text": [
      "80.3 µs ± 1.4 µs per loop (mean ± std. dev. of 7 runs, 10,000 loops each)\n"
     ]
    }
   ],
   "source": [
    "t_split = FastTreeValue.func(rise=True)(torch.split)\n",
    "tree = FastTreeValue({\n",
    "    'obs': torch.randn(8, 4, 84, 84),\n",
    "    'action': torch.randint(0, 6, size=(8, 1,)),\n",
    "    'reward': torch.rand(8, 1),\n",
    "})\n",
    "\n",
    "%timeit t_split(tree, 1)"
   ]
  },
  {
   "cell_type": "markdown",
   "id": "31c3ec0b",
   "metadata": {},
   "source": [
    "### Performance of Tianshou Batch"
   ]
  },
  {
   "cell_type": "code",
   "execution_count": 25,
   "id": "9ead828a",
   "metadata": {
    "execution": {
     "iopub.execute_input": "2023-02-27T14:31:40.117748Z",
     "iopub.status.busy": "2023-02-27T14:31:40.117437Z",
     "iopub.status.idle": "2023-02-27T14:31:40.127769Z",
     "shell.execute_reply": "2023-02-27T14:31:40.126788Z"
    }
   },
   "outputs": [
    {
     "data": {
      "text/plain": [
       "Batch(\n",
       "    a: tensor([[[-0.2704,  1.6590, -0.7301],\n",
       "                [-0.3963,  1.5045,  0.7599]],\n",
       "       \n",
       "               [[-0.2704,  1.6590, -0.7301],\n",
       "                [-0.3963,  1.5045,  0.7599]],\n",
       "       \n",
       "               [[-0.2704,  1.6590, -0.7301],\n",
       "                [-0.3963,  1.5045,  0.7599]],\n",
       "       \n",
       "               [[-0.2704,  1.6590, -0.7301],\n",
       "                [-0.3963,  1.5045,  0.7599]],\n",
       "       \n",
       "               [[-0.2704,  1.6590, -0.7301],\n",
       "                [-0.3963,  1.5045,  0.7599]],\n",
       "       \n",
       "               [[-0.2704,  1.6590, -0.7301],\n",
       "                [-0.3963,  1.5045,  0.7599]],\n",
       "       \n",
       "               [[-0.2704,  1.6590, -0.7301],\n",
       "                [-0.3963,  1.5045,  0.7599]],\n",
       "       \n",
       "               [[-0.2704,  1.6590, -0.7301],\n",
       "                [-0.3963,  1.5045,  0.7599]]]),\n",
       "    x: Batch(\n",
       "           c: tensor([[[ 0.7411, -1.4261,  0.7883,  1.4179],\n",
       "                       [ 0.6141,  0.4478, -0.0814, -0.8131],\n",
       "                       [-0.2000,  0.7481,  0.0197,  1.4457]],\n",
       "              \n",
       "                      [[ 0.7411, -1.4261,  0.7883,  1.4179],\n",
       "                       [ 0.6141,  0.4478, -0.0814, -0.8131],\n",
       "                       [-0.2000,  0.7481,  0.0197,  1.4457]],\n",
       "              \n",
       "                      [[ 0.7411, -1.4261,  0.7883,  1.4179],\n",
       "                       [ 0.6141,  0.4478, -0.0814, -0.8131],\n",
       "                       [-0.2000,  0.7481,  0.0197,  1.4457]],\n",
       "              \n",
       "                      [[ 0.7411, -1.4261,  0.7883,  1.4179],\n",
       "                       [ 0.6141,  0.4478, -0.0814, -0.8131],\n",
       "                       [-0.2000,  0.7481,  0.0197,  1.4457]],\n",
       "              \n",
       "                      [[ 0.7411, -1.4261,  0.7883,  1.4179],\n",
       "                       [ 0.6141,  0.4478, -0.0814, -0.8131],\n",
       "                       [-0.2000,  0.7481,  0.0197,  1.4457]],\n",
       "              \n",
       "                      [[ 0.7411, -1.4261,  0.7883,  1.4179],\n",
       "                       [ 0.6141,  0.4478, -0.0814, -0.8131],\n",
       "                       [-0.2000,  0.7481,  0.0197,  1.4457]],\n",
       "              \n",
       "                      [[ 0.7411, -1.4261,  0.7883,  1.4179],\n",
       "                       [ 0.6141,  0.4478, -0.0814, -0.8131],\n",
       "                       [-0.2000,  0.7481,  0.0197,  1.4457]],\n",
       "              \n",
       "                      [[ 0.7411, -1.4261,  0.7883,  1.4179],\n",
       "                       [ 0.6141,  0.4478, -0.0814, -0.8131],\n",
       "                       [-0.2000,  0.7481,  0.0197,  1.4457]]]),\n",
       "       ),\n",
       ")"
      ]
     },
     "execution_count": 25,
     "metadata": {},
     "output_type": "execute_result"
    }
   ],
   "source": [
    "batches = [Batch(**_TREE_DATA_2) for _ in range(8)]\n",
    "\n",
    "Batch.stack(batches)"
   ]
  },
  {
   "cell_type": "code",
   "execution_count": 26,
   "id": "ec9037a3",
   "metadata": {
    "execution": {
     "iopub.execute_input": "2023-02-27T14:31:40.130883Z",
     "iopub.status.busy": "2023-02-27T14:31:40.130580Z",
     "iopub.status.idle": "2023-02-27T14:31:48.645011Z",
     "shell.execute_reply": "2023-02-27T14:31:48.643976Z"
    }
   },
   "outputs": [
    {
     "name": "stdout",
     "output_type": "stream",
     "text": [
      "104 µs ± 2.13 µs per loop (mean ± std. dev. of 7 runs, 10,000 loops each)\n"
     ]
    }
   ],
   "source": [
    "%timeit Batch.stack(batches)"
   ]
  },
  {
   "cell_type": "code",
   "execution_count": 27,
   "id": "cb8ab77e",
   "metadata": {
    "execution": {
     "iopub.execute_input": "2023-02-27T14:31:48.648704Z",
     "iopub.status.busy": "2023-02-27T14:31:48.648170Z",
     "iopub.status.idle": "2023-02-27T14:31:48.657023Z",
     "shell.execute_reply": "2023-02-27T14:31:48.656132Z"
    }
   },
   "outputs": [
    {
     "data": {
      "text/plain": [
       "Batch(\n",
       "    a: tensor([[-0.2704,  1.6590, -0.7301],\n",
       "               [-0.3963,  1.5045,  0.7599],\n",
       "               [-0.2704,  1.6590, -0.7301],\n",
       "               [-0.3963,  1.5045,  0.7599],\n",
       "               [-0.2704,  1.6590, -0.7301],\n",
       "               [-0.3963,  1.5045,  0.7599],\n",
       "               [-0.2704,  1.6590, -0.7301],\n",
       "               [-0.3963,  1.5045,  0.7599],\n",
       "               [-0.2704,  1.6590, -0.7301],\n",
       "               [-0.3963,  1.5045,  0.7599],\n",
       "               [-0.2704,  1.6590, -0.7301],\n",
       "               [-0.3963,  1.5045,  0.7599],\n",
       "               [-0.2704,  1.6590, -0.7301],\n",
       "               [-0.3963,  1.5045,  0.7599],\n",
       "               [-0.2704,  1.6590, -0.7301],\n",
       "               [-0.3963,  1.5045,  0.7599]]),\n",
       "    x: Batch(\n",
       "           c: tensor([[ 0.7411, -1.4261,  0.7883,  1.4179],\n",
       "                      [ 0.6141,  0.4478, -0.0814, -0.8131],\n",
       "                      [-0.2000,  0.7481,  0.0197,  1.4457],\n",
       "                      [ 0.7411, -1.4261,  0.7883,  1.4179],\n",
       "                      [ 0.6141,  0.4478, -0.0814, -0.8131],\n",
       "                      [-0.2000,  0.7481,  0.0197,  1.4457],\n",
       "                      [ 0.7411, -1.4261,  0.7883,  1.4179],\n",
       "                      [ 0.6141,  0.4478, -0.0814, -0.8131],\n",
       "                      [-0.2000,  0.7481,  0.0197,  1.4457],\n",
       "                      [ 0.7411, -1.4261,  0.7883,  1.4179],\n",
       "                      [ 0.6141,  0.4478, -0.0814, -0.8131],\n",
       "                      [-0.2000,  0.7481,  0.0197,  1.4457],\n",
       "                      [ 0.7411, -1.4261,  0.7883,  1.4179],\n",
       "                      [ 0.6141,  0.4478, -0.0814, -0.8131],\n",
       "                      [-0.2000,  0.7481,  0.0197,  1.4457],\n",
       "                      [ 0.7411, -1.4261,  0.7883,  1.4179],\n",
       "                      [ 0.6141,  0.4478, -0.0814, -0.8131],\n",
       "                      [-0.2000,  0.7481,  0.0197,  1.4457],\n",
       "                      [ 0.7411, -1.4261,  0.7883,  1.4179],\n",
       "                      [ 0.6141,  0.4478, -0.0814, -0.8131],\n",
       "                      [-0.2000,  0.7481,  0.0197,  1.4457],\n",
       "                      [ 0.7411, -1.4261,  0.7883,  1.4179],\n",
       "                      [ 0.6141,  0.4478, -0.0814, -0.8131],\n",
       "                      [-0.2000,  0.7481,  0.0197,  1.4457]]),\n",
       "       ),\n",
       ")"
      ]
     },
     "execution_count": 27,
     "metadata": {},
     "output_type": "execute_result"
    }
   ],
   "source": [
    "Batch.cat(batches)"
   ]
  },
  {
   "cell_type": "code",
   "execution_count": 28,
   "id": "18dfb045",
   "metadata": {
    "execution": {
     "iopub.execute_input": "2023-02-27T14:31:48.660356Z",
     "iopub.status.busy": "2023-02-27T14:31:48.660066Z",
     "iopub.status.idle": "2023-02-27T14:31:50.668237Z",
     "shell.execute_reply": "2023-02-27T14:31:50.667100Z"
    }
   },
   "outputs": [
    {
     "name": "stdout",
     "output_type": "stream",
     "text": [
      "246 µs ± 5.99 µs per loop (mean ± std. dev. of 7 runs, 1,000 loops each)\n"
     ]
    }
   ],
   "source": [
    "%timeit Batch.cat(batches)"
   ]
  },
  {
   "cell_type": "code",
   "execution_count": 29,
   "id": "c6688e51",
   "metadata": {
    "execution": {
     "iopub.execute_input": "2023-02-27T14:31:50.672004Z",
     "iopub.status.busy": "2023-02-27T14:31:50.671613Z",
     "iopub.status.idle": "2023-02-27T14:31:55.484809Z",
     "shell.execute_reply": "2023-02-27T14:31:55.483997Z"
    }
   },
   "outputs": [
    {
     "name": "stdout",
     "output_type": "stream",
     "text": [
      "591 µs ± 11 µs per loop (mean ± std. dev. of 7 runs, 1,000 loops each)\n"
     ]
    }
   ],
   "source": [
    "batch = Batch({\n",
    "    'obs': torch.randn(8, 4, 84, 84),\n",
    "    'action': torch.randint(0, 6, size=(8, 1,)),\n",
    "    'reward': torch.rand(8, 1)}\n",
    ")\n",
    "\n",
    "%timeit list(Batch.split(batch, 1, shuffle=False, merge_last=True))"
   ]
  },
  {
   "cell_type": "code",
   "execution_count": null,
   "id": "2539fbd9",
   "metadata": {},
   "outputs": [],
   "source": []
  }
 ],
 "metadata": {
  "kernelspec": {
   "display_name": "Python 3 (ipykernel)",
   "language": "python",
   "name": "python3"
  },
  "language_info": {
   "codemirror_mode": {
    "name": "ipython",
    "version": 3
   },
   "file_extension": ".py",
   "mimetype": "text/x-python",
   "name": "python",
   "nbconvert_exporter": "python",
   "pygments_lexer": "ipython3",
   "version": "3.8.16"
  }
 },
 "nbformat": 4,
 "nbformat_minor": 5
}
