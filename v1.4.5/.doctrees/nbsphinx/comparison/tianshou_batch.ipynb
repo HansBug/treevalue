{
 "cells": [
  {
   "cell_type": "markdown",
   "id": "9d39d946",
   "metadata": {},
   "source": [
    "# Comparison Between TreeValue and Tianshou Batch"
   ]
  },
  {
   "cell_type": "markdown",
   "id": "3c6db2d4",
   "metadata": {},
   "source": [
    "In this section, we will take a look at the feature and performance of the [Tianshou Batch](https://github.com/thu-ml/tianshou) library, which is developed by Tsinghua Machine Learning Group."
   ]
  },
  {
   "cell_type": "markdown",
   "id": "069361b0",
   "metadata": {},
   "source": [
    "Before starting the comparison, let us define some thing."
   ]
  },
  {
   "cell_type": "code",
   "execution_count": 1,
   "id": "06fc8d26",
   "metadata": {
    "execution": {
     "iopub.execute_input": "2023-02-27T12:22:19.138972Z",
     "iopub.status.busy": "2023-02-27T12:22:19.138758Z",
     "iopub.status.idle": "2023-02-27T12:22:20.037067Z",
     "shell.execute_reply": "2023-02-27T12:22:20.036041Z"
    }
   },
   "outputs": [
    {
     "name": "stderr",
     "output_type": "stream",
     "text": [
      "/opt/hostedtoolcache/Python/3.8.16/x64/lib/python3.8/site-packages/tqdm/auto.py:22: TqdmWarning: IProgress not found. Please update jupyter and ipywidgets. See https://ipywidgets.readthedocs.io/en/stable/user_install.html\n",
      "  from .autonotebook import tqdm as notebook_tqdm\n"
     ]
    }
   ],
   "source": [
    "import torch \n",
    "\n",
    "_TREE_DATA_1 = {'a': 1, 'b': 2, 'x': {'c': 3, 'd': 4}}\n",
    "_TREE_DATA_2 = {\n",
    "    'a': torch.randn(2, 3), \n",
    "    'x': {\n",
    "        'c': torch.randn(3, 4)\n",
    "    },\n",
    "}\n",
    "_TREE_DATA_3 = {\n",
    "    'obs': torch.randn(4, 84, 84),\n",
    "    'action': torch.randint(0, 6, size=(1,)),\n",
    "    'reward': torch.rand(1),\n",
    "}"
   ]
  },
  {
   "cell_type": "markdown",
   "id": "83461b25",
   "metadata": {},
   "source": [
    "## Read and Write Operation"
   ]
  },
  {
   "cell_type": "markdown",
   "id": "067b3f73",
   "metadata": {},
   "source": [
    "Reading and writing are the two most common operations in the tree data structure based on the data model (TreeValue and Tianshou Batch both belong to this type), so this section will compare the reading and writing performance of these two libraries."
   ]
  },
  {
   "cell_type": "markdown",
   "id": "5d09a5b7",
   "metadata": {},
   "source": [
    "### TreeValue's Get and Set"
   ]
  },
  {
   "cell_type": "code",
   "execution_count": 2,
   "id": "9519c4bb",
   "metadata": {
    "execution": {
     "iopub.execute_input": "2023-02-27T12:22:20.040263Z",
     "iopub.status.busy": "2023-02-27T12:22:20.039685Z",
     "iopub.status.idle": "2023-02-27T12:22:20.314878Z",
     "shell.execute_reply": "2023-02-27T12:22:20.314207Z"
    }
   },
   "outputs": [],
   "source": [
    "from treevalue import FastTreeValue\n",
    "\n",
    "t = FastTreeValue(_TREE_DATA_2)"
   ]
  },
  {
   "cell_type": "code",
   "execution_count": 3,
   "id": "11c37677",
   "metadata": {
    "execution": {
     "iopub.execute_input": "2023-02-27T12:22:20.318069Z",
     "iopub.status.busy": "2023-02-27T12:22:20.317411Z",
     "iopub.status.idle": "2023-02-27T12:22:20.325860Z",
     "shell.execute_reply": "2023-02-27T12:22:20.325213Z"
    }
   },
   "outputs": [
    {
     "data": {
      "text/plain": [
       "<FastTreeValue 0x7f1be8059bb0>\n",
       "├── 'a' --> tensor([[-0.3719, -0.5147,  1.1366],\n",
       "│                   [ 0.0782,  0.9471,  0.8317]])\n",
       "└── 'x' --> <FastTreeValue 0x7f1be8059c10>\n",
       "    └── 'c' --> tensor([[ 0.6118,  1.6741,  0.0199,  0.5970],\n",
       "                        [-0.9532, -0.5711, -0.0916, -0.0279],\n",
       "                        [-0.8551,  0.1324,  1.6024,  0.4098]])"
      ]
     },
     "execution_count": 3,
     "metadata": {},
     "output_type": "execute_result"
    }
   ],
   "source": [
    "t"
   ]
  },
  {
   "cell_type": "code",
   "execution_count": 4,
   "id": "fd70b0b9",
   "metadata": {
    "execution": {
     "iopub.execute_input": "2023-02-27T12:22:20.328253Z",
     "iopub.status.busy": "2023-02-27T12:22:20.327917Z",
     "iopub.status.idle": "2023-02-27T12:22:20.332577Z",
     "shell.execute_reply": "2023-02-27T12:22:20.331965Z"
    }
   },
   "outputs": [
    {
     "data": {
      "text/plain": [
       "tensor([[-0.3719, -0.5147,  1.1366],\n",
       "        [ 0.0782,  0.9471,  0.8317]])"
      ]
     },
     "execution_count": 4,
     "metadata": {},
     "output_type": "execute_result"
    }
   ],
   "source": [
    "t.a"
   ]
  },
  {
   "cell_type": "code",
   "execution_count": 5,
   "id": "c18197bd",
   "metadata": {
    "execution": {
     "iopub.execute_input": "2023-02-27T12:22:20.334841Z",
     "iopub.status.busy": "2023-02-27T12:22:20.334504Z",
     "iopub.status.idle": "2023-02-27T12:22:25.015383Z",
     "shell.execute_reply": "2023-02-27T12:22:25.014395Z"
    }
   },
   "outputs": [
    {
     "name": "stdout",
     "output_type": "stream",
     "text": [
      "57.5 ns ± 0.0517 ns per loop (mean ± std. dev. of 7 runs, 10,000,000 loops each)\n"
     ]
    }
   ],
   "source": [
    "%timeit t.a"
   ]
  },
  {
   "cell_type": "code",
   "execution_count": 6,
   "id": "bd52f867",
   "metadata": {
    "execution": {
     "iopub.execute_input": "2023-02-27T12:22:25.018625Z",
     "iopub.status.busy": "2023-02-27T12:22:25.018060Z",
     "iopub.status.idle": "2023-02-27T12:22:25.026192Z",
     "shell.execute_reply": "2023-02-27T12:22:25.025039Z"
    }
   },
   "outputs": [
    {
     "data": {
      "text/plain": [
       "<FastTreeValue 0x7f1be8059bb0>\n",
       "├── 'a' --> tensor([[-1.1428, -0.8127,  0.8222],\n",
       "│                   [ 0.8049,  0.4354, -1.4085]])\n",
       "└── 'x' --> <FastTreeValue 0x7f1be8059c10>\n",
       "    └── 'c' --> tensor([[ 0.6118,  1.6741,  0.0199,  0.5970],\n",
       "                        [-0.9532, -0.5711, -0.0916, -0.0279],\n",
       "                        [-0.8551,  0.1324,  1.6024,  0.4098]])"
      ]
     },
     "execution_count": 6,
     "metadata": {},
     "output_type": "execute_result"
    }
   ],
   "source": [
    "new_value = torch.randn(2, 3)\n",
    "t.a = new_value\n",
    "\n",
    "t"
   ]
  },
  {
   "cell_type": "code",
   "execution_count": 7,
   "id": "bbe04d1c",
   "metadata": {
    "execution": {
     "iopub.execute_input": "2023-02-27T12:22:25.028826Z",
     "iopub.status.busy": "2023-02-27T12:22:25.028501Z",
     "iopub.status.idle": "2023-02-27T12:22:30.040929Z",
     "shell.execute_reply": "2023-02-27T12:22:30.040219Z"
    }
   },
   "outputs": [
    {
     "name": "stdout",
     "output_type": "stream",
     "text": [
      "61.5 ns ± 0.0734 ns per loop (mean ± std. dev. of 7 runs, 10,000,000 loops each)\n"
     ]
    }
   ],
   "source": [
    "%timeit t.a = new_value"
   ]
  },
  {
   "cell_type": "markdown",
   "id": "48c49731",
   "metadata": {},
   "source": [
    "### Tianshou Batch's Get and Set"
   ]
  },
  {
   "cell_type": "code",
   "execution_count": 8,
   "id": "f1bb14c1",
   "metadata": {
    "execution": {
     "iopub.execute_input": "2023-02-27T12:22:30.043898Z",
     "iopub.status.busy": "2023-02-27T12:22:30.043299Z",
     "iopub.status.idle": "2023-02-27T12:22:30.366846Z",
     "shell.execute_reply": "2023-02-27T12:22:30.366181Z"
    }
   },
   "outputs": [],
   "source": [
    "from tianshou.data import Batch\n",
    "\n",
    "b = Batch(**_TREE_DATA_2)"
   ]
  },
  {
   "cell_type": "code",
   "execution_count": 9,
   "id": "cb0777c3",
   "metadata": {
    "execution": {
     "iopub.execute_input": "2023-02-27T12:22:30.370031Z",
     "iopub.status.busy": "2023-02-27T12:22:30.369409Z",
     "iopub.status.idle": "2023-02-27T12:22:30.375464Z",
     "shell.execute_reply": "2023-02-27T12:22:30.374874Z"
    }
   },
   "outputs": [
    {
     "data": {
      "text/plain": [
       "Batch(\n",
       "    a: tensor([[-0.3719, -0.5147,  1.1366],\n",
       "               [ 0.0782,  0.9471,  0.8317]]),\n",
       "    x: Batch(\n",
       "           c: tensor([[ 0.6118,  1.6741,  0.0199,  0.5970],\n",
       "                      [-0.9532, -0.5711, -0.0916, -0.0279],\n",
       "                      [-0.8551,  0.1324,  1.6024,  0.4098]]),\n",
       "       ),\n",
       ")"
      ]
     },
     "execution_count": 9,
     "metadata": {},
     "output_type": "execute_result"
    }
   ],
   "source": [
    "b"
   ]
  },
  {
   "cell_type": "code",
   "execution_count": 10,
   "id": "43ef8ea3",
   "metadata": {
    "execution": {
     "iopub.execute_input": "2023-02-27T12:22:30.378092Z",
     "iopub.status.busy": "2023-02-27T12:22:30.377759Z",
     "iopub.status.idle": "2023-02-27T12:22:30.383210Z",
     "shell.execute_reply": "2023-02-27T12:22:30.382623Z"
    }
   },
   "outputs": [
    {
     "data": {
      "text/plain": [
       "tensor([[-0.3719, -0.5147,  1.1366],\n",
       "        [ 0.0782,  0.9471,  0.8317]])"
      ]
     },
     "execution_count": 10,
     "metadata": {},
     "output_type": "execute_result"
    }
   ],
   "source": [
    "b.a"
   ]
  },
  {
   "cell_type": "code",
   "execution_count": 11,
   "id": "b785ab72",
   "metadata": {
    "execution": {
     "iopub.execute_input": "2023-02-27T12:22:30.385943Z",
     "iopub.status.busy": "2023-02-27T12:22:30.385504Z",
     "iopub.status.idle": "2023-02-27T12:22:34.578321Z",
     "shell.execute_reply": "2023-02-27T12:22:34.577589Z"
    }
   },
   "outputs": [
    {
     "name": "stdout",
     "output_type": "stream",
     "text": [
      "51.1 ns ± 0.0309 ns per loop (mean ± std. dev. of 7 runs, 10,000,000 loops each)\n"
     ]
    }
   ],
   "source": [
    "%timeit b.a"
   ]
  },
  {
   "cell_type": "code",
   "execution_count": 12,
   "id": "ad54dc69",
   "metadata": {
    "execution": {
     "iopub.execute_input": "2023-02-27T12:22:34.581043Z",
     "iopub.status.busy": "2023-02-27T12:22:34.580678Z",
     "iopub.status.idle": "2023-02-27T12:22:34.586962Z",
     "shell.execute_reply": "2023-02-27T12:22:34.586382Z"
    }
   },
   "outputs": [
    {
     "data": {
      "text/plain": [
       "Batch(\n",
       "    a: tensor([[-1.1132,  0.1158, -0.6283],\n",
       "               [ 1.3235, -0.5010,  0.1394]]),\n",
       "    x: Batch(\n",
       "           c: tensor([[ 0.6118,  1.6741,  0.0199,  0.5970],\n",
       "                      [-0.9532, -0.5711, -0.0916, -0.0279],\n",
       "                      [-0.8551,  0.1324,  1.6024,  0.4098]]),\n",
       "       ),\n",
       ")"
      ]
     },
     "execution_count": 12,
     "metadata": {},
     "output_type": "execute_result"
    }
   ],
   "source": [
    "new_value = torch.randn(2, 3)\n",
    "b.a = new_value\n",
    "\n",
    "b"
   ]
  },
  {
   "cell_type": "code",
   "execution_count": 13,
   "id": "29b1d0bf",
   "metadata": {
    "execution": {
     "iopub.execute_input": "2023-02-27T12:22:34.589141Z",
     "iopub.status.busy": "2023-02-27T12:22:34.588914Z",
     "iopub.status.idle": "2023-02-27T12:22:38.595707Z",
     "shell.execute_reply": "2023-02-27T12:22:38.594950Z"
    }
   },
   "outputs": [
    {
     "name": "stdout",
     "output_type": "stream",
     "text": [
      "496 ns ± 0.0868 ns per loop (mean ± std. dev. of 7 runs, 1,000,000 loops each)\n"
     ]
    }
   ],
   "source": [
    "%timeit b.a = new_value"
   ]
  },
  {
   "cell_type": "markdown",
   "id": "b61ad1d0",
   "metadata": {},
   "source": [
    "## Initialization"
   ]
  },
  {
   "cell_type": "markdown",
   "id": "d70f0d54",
   "metadata": {},
   "source": [
    "### TreeValue's Initialization"
   ]
  },
  {
   "cell_type": "code",
   "execution_count": 14,
   "id": "d32a679b",
   "metadata": {
    "execution": {
     "iopub.execute_input": "2023-02-27T12:22:38.598687Z",
     "iopub.status.busy": "2023-02-27T12:22:38.598116Z",
     "iopub.status.idle": "2023-02-27T12:22:45.289604Z",
     "shell.execute_reply": "2023-02-27T12:22:45.288889Z"
    }
   },
   "outputs": [
    {
     "name": "stdout",
     "output_type": "stream",
     "text": [
      "824 ns ± 0.173 ns per loop (mean ± std. dev. of 7 runs, 1,000,000 loops each)\n"
     ]
    }
   ],
   "source": [
    "%timeit FastTreeValue(_TREE_DATA_1)"
   ]
  },
  {
   "cell_type": "markdown",
   "id": "24f3707b",
   "metadata": {},
   "source": [
    "### Tianshou Batch's Initialization"
   ]
  },
  {
   "cell_type": "code",
   "execution_count": 15,
   "id": "ac3958df",
   "metadata": {
    "execution": {
     "iopub.execute_input": "2023-02-27T12:22:45.292456Z",
     "iopub.status.busy": "2023-02-27T12:22:45.291914Z",
     "iopub.status.idle": "2023-02-27T12:22:54.466830Z",
     "shell.execute_reply": "2023-02-27T12:22:54.466072Z"
    }
   },
   "outputs": [
    {
     "name": "stdout",
     "output_type": "stream",
     "text": [
      "11.3 µs ± 35.6 ns per loop (mean ± std. dev. of 7 runs, 100,000 loops each)\n"
     ]
    }
   ],
   "source": [
    "%timeit Batch(**_TREE_DATA_1)"
   ]
  },
  {
   "cell_type": "markdown",
   "id": "1ab82e2d",
   "metadata": {},
   "source": [
    "## Deep Copy Operation"
   ]
  },
  {
   "cell_type": "code",
   "execution_count": 16,
   "id": "210a9442",
   "metadata": {
    "execution": {
     "iopub.execute_input": "2023-02-27T12:22:54.469679Z",
     "iopub.status.busy": "2023-02-27T12:22:54.469322Z",
     "iopub.status.idle": "2023-02-27T12:22:54.473261Z",
     "shell.execute_reply": "2023-02-27T12:22:54.472661Z"
    }
   },
   "outputs": [],
   "source": [
    "import copy"
   ]
  },
  {
   "cell_type": "markdown",
   "id": "5a736274",
   "metadata": {},
   "source": [
    "### Deep Copy of TreeValue"
   ]
  },
  {
   "cell_type": "code",
   "execution_count": 17,
   "id": "f9bcadd6",
   "metadata": {
    "execution": {
     "iopub.execute_input": "2023-02-27T12:22:54.475605Z",
     "iopub.status.busy": "2023-02-27T12:22:54.475393Z",
     "iopub.status.idle": "2023-02-27T12:23:05.444427Z",
     "shell.execute_reply": "2023-02-27T12:23:05.443850Z"
    }
   },
   "outputs": [
    {
     "name": "stdout",
     "output_type": "stream",
     "text": [
      "135 µs ± 262 ns per loop (mean ± std. dev. of 7 runs, 10,000 loops each)\n"
     ]
    }
   ],
   "source": [
    "t3 = FastTreeValue(_TREE_DATA_3)\n",
    "%timeit copy.deepcopy(t3)"
   ]
  },
  {
   "cell_type": "markdown",
   "id": "bf8be7ea",
   "metadata": {},
   "source": [
    "### Deep Copy of Tianshou Batch"
   ]
  },
  {
   "cell_type": "code",
   "execution_count": 18,
   "id": "91998e6f",
   "metadata": {
    "execution": {
     "iopub.execute_input": "2023-02-27T12:23:05.447709Z",
     "iopub.status.busy": "2023-02-27T12:23:05.446679Z",
     "iopub.status.idle": "2023-02-27T12:23:16.612329Z",
     "shell.execute_reply": "2023-02-27T12:23:16.611755Z"
    }
   },
   "outputs": [
    {
     "name": "stdout",
     "output_type": "stream",
     "text": [
      "137 µs ± 673 ns per loop (mean ± std. dev. of 7 runs, 10,000 loops each)\n"
     ]
    }
   ],
   "source": [
    "b3 = Batch(**_TREE_DATA_3)\n",
    "%timeit copy.deepcopy(b3)"
   ]
  },
  {
   "cell_type": "markdown",
   "id": "223162fb",
   "metadata": {},
   "source": [
    "## Stack, Concat and Split Operation"
   ]
  },
  {
   "cell_type": "markdown",
   "id": "85fa4a73",
   "metadata": {},
   "source": [
    "### Performance of TreeValue"
   ]
  },
  {
   "cell_type": "code",
   "execution_count": 19,
   "id": "a0c2b697",
   "metadata": {
    "execution": {
     "iopub.execute_input": "2023-02-27T12:23:16.616110Z",
     "iopub.status.busy": "2023-02-27T12:23:16.615193Z",
     "iopub.status.idle": "2023-02-27T12:23:16.619357Z",
     "shell.execute_reply": "2023-02-27T12:23:16.618837Z"
    }
   },
   "outputs": [],
   "source": [
    "trees = [FastTreeValue(_TREE_DATA_2) for _ in range(8)]"
   ]
  },
  {
   "cell_type": "code",
   "execution_count": 20,
   "id": "017ea5a5",
   "metadata": {
    "execution": {
     "iopub.execute_input": "2023-02-27T12:23:16.622156Z",
     "iopub.status.busy": "2023-02-27T12:23:16.621780Z",
     "iopub.status.idle": "2023-02-27T12:23:16.628887Z",
     "shell.execute_reply": "2023-02-27T12:23:16.628289Z"
    }
   },
   "outputs": [
    {
     "data": {
      "text/plain": [
       "<FastTreeValue 0x7f1b3035be20>\n",
       "├── 'a' --> tensor([[[-0.3719, -0.5147,  1.1366],\n",
       "│                    [ 0.0782,  0.9471,  0.8317]],\n",
       "│           \n",
       "│                   [[-0.3719, -0.5147,  1.1366],\n",
       "│                    [ 0.0782,  0.9471,  0.8317]],\n",
       "│           \n",
       "│                   [[-0.3719, -0.5147,  1.1366],\n",
       "│                    [ 0.0782,  0.9471,  0.8317]],\n",
       "│           \n",
       "│                   [[-0.3719, -0.5147,  1.1366],\n",
       "│                    [ 0.0782,  0.9471,  0.8317]],\n",
       "│           \n",
       "│                   [[-0.3719, -0.5147,  1.1366],\n",
       "│                    [ 0.0782,  0.9471,  0.8317]],\n",
       "│           \n",
       "│                   [[-0.3719, -0.5147,  1.1366],\n",
       "│                    [ 0.0782,  0.9471,  0.8317]],\n",
       "│           \n",
       "│                   [[-0.3719, -0.5147,  1.1366],\n",
       "│                    [ 0.0782,  0.9471,  0.8317]],\n",
       "│           \n",
       "│                   [[-0.3719, -0.5147,  1.1366],\n",
       "│                    [ 0.0782,  0.9471,  0.8317]]])\n",
       "└── 'x' --> <FastTreeValue 0x7f1be8026940>\n",
       "    └── 'c' --> tensor([[[ 0.6118,  1.6741,  0.0199,  0.5970],\n",
       "                         [-0.9532, -0.5711, -0.0916, -0.0279],\n",
       "                         [-0.8551,  0.1324,  1.6024,  0.4098]],\n",
       "                \n",
       "                        [[ 0.6118,  1.6741,  0.0199,  0.5970],\n",
       "                         [-0.9532, -0.5711, -0.0916, -0.0279],\n",
       "                         [-0.8551,  0.1324,  1.6024,  0.4098]],\n",
       "                \n",
       "                        [[ 0.6118,  1.6741,  0.0199,  0.5970],\n",
       "                         [-0.9532, -0.5711, -0.0916, -0.0279],\n",
       "                         [-0.8551,  0.1324,  1.6024,  0.4098]],\n",
       "                \n",
       "                        [[ 0.6118,  1.6741,  0.0199,  0.5970],\n",
       "                         [-0.9532, -0.5711, -0.0916, -0.0279],\n",
       "                         [-0.8551,  0.1324,  1.6024,  0.4098]],\n",
       "                \n",
       "                        [[ 0.6118,  1.6741,  0.0199,  0.5970],\n",
       "                         [-0.9532, -0.5711, -0.0916, -0.0279],\n",
       "                         [-0.8551,  0.1324,  1.6024,  0.4098]],\n",
       "                \n",
       "                        [[ 0.6118,  1.6741,  0.0199,  0.5970],\n",
       "                         [-0.9532, -0.5711, -0.0916, -0.0279],\n",
       "                         [-0.8551,  0.1324,  1.6024,  0.4098]],\n",
       "                \n",
       "                        [[ 0.6118,  1.6741,  0.0199,  0.5970],\n",
       "                         [-0.9532, -0.5711, -0.0916, -0.0279],\n",
       "                         [-0.8551,  0.1324,  1.6024,  0.4098]],\n",
       "                \n",
       "                        [[ 0.6118,  1.6741,  0.0199,  0.5970],\n",
       "                         [-0.9532, -0.5711, -0.0916, -0.0279],\n",
       "                         [-0.8551,  0.1324,  1.6024,  0.4098]]])"
      ]
     },
     "execution_count": 20,
     "metadata": {},
     "output_type": "execute_result"
    }
   ],
   "source": [
    "t_stack = FastTreeValue.func(subside=True)(torch.stack)\n",
    "\n",
    "t_stack(trees)"
   ]
  },
  {
   "cell_type": "code",
   "execution_count": 21,
   "id": "f8b3f415",
   "metadata": {
    "execution": {
     "iopub.execute_input": "2023-02-27T12:23:16.631374Z",
     "iopub.status.busy": "2023-02-27T12:23:16.631038Z",
     "iopub.status.idle": "2023-02-27T12:23:19.274967Z",
     "shell.execute_reply": "2023-02-27T12:23:19.274316Z"
    }
   },
   "outputs": [
    {
     "name": "stdout",
     "output_type": "stream",
     "text": [
      "32.5 µs ± 124 ns per loop (mean ± std. dev. of 7 runs, 10,000 loops each)\n"
     ]
    }
   ],
   "source": [
    "%timeit t_stack(trees)"
   ]
  },
  {
   "cell_type": "code",
   "execution_count": 22,
   "id": "94b56771",
   "metadata": {
    "execution": {
     "iopub.execute_input": "2023-02-27T12:23:19.277929Z",
     "iopub.status.busy": "2023-02-27T12:23:19.277368Z",
     "iopub.status.idle": "2023-02-27T12:23:19.285129Z",
     "shell.execute_reply": "2023-02-27T12:23:19.284533Z"
    }
   },
   "outputs": [
    {
     "data": {
      "text/plain": [
       "<FastTreeValue 0x7f1bbc4a50d0>\n",
       "├── 'a' --> tensor([[-0.3719, -0.5147,  1.1366],\n",
       "│                   [ 0.0782,  0.9471,  0.8317],\n",
       "│                   [-0.3719, -0.5147,  1.1366],\n",
       "│                   [ 0.0782,  0.9471,  0.8317],\n",
       "│                   [-0.3719, -0.5147,  1.1366],\n",
       "│                   [ 0.0782,  0.9471,  0.8317],\n",
       "│                   [-0.3719, -0.5147,  1.1366],\n",
       "│                   [ 0.0782,  0.9471,  0.8317],\n",
       "│                   [-0.3719, -0.5147,  1.1366],\n",
       "│                   [ 0.0782,  0.9471,  0.8317],\n",
       "│                   [-0.3719, -0.5147,  1.1366],\n",
       "│                   [ 0.0782,  0.9471,  0.8317],\n",
       "│                   [-0.3719, -0.5147,  1.1366],\n",
       "│                   [ 0.0782,  0.9471,  0.8317],\n",
       "│                   [-0.3719, -0.5147,  1.1366],\n",
       "│                   [ 0.0782,  0.9471,  0.8317]])\n",
       "└── 'x' --> <FastTreeValue 0x7f1be80bad30>\n",
       "    └── 'c' --> tensor([[ 0.6118,  1.6741,  0.0199,  0.5970],\n",
       "                        [-0.9532, -0.5711, -0.0916, -0.0279],\n",
       "                        [-0.8551,  0.1324,  1.6024,  0.4098],\n",
       "                        [ 0.6118,  1.6741,  0.0199,  0.5970],\n",
       "                        [-0.9532, -0.5711, -0.0916, -0.0279],\n",
       "                        [-0.8551,  0.1324,  1.6024,  0.4098],\n",
       "                        [ 0.6118,  1.6741,  0.0199,  0.5970],\n",
       "                        [-0.9532, -0.5711, -0.0916, -0.0279],\n",
       "                        [-0.8551,  0.1324,  1.6024,  0.4098],\n",
       "                        [ 0.6118,  1.6741,  0.0199,  0.5970],\n",
       "                        [-0.9532, -0.5711, -0.0916, -0.0279],\n",
       "                        [-0.8551,  0.1324,  1.6024,  0.4098],\n",
       "                        [ 0.6118,  1.6741,  0.0199,  0.5970],\n",
       "                        [-0.9532, -0.5711, -0.0916, -0.0279],\n",
       "                        [-0.8551,  0.1324,  1.6024,  0.4098],\n",
       "                        [ 0.6118,  1.6741,  0.0199,  0.5970],\n",
       "                        [-0.9532, -0.5711, -0.0916, -0.0279],\n",
       "                        [-0.8551,  0.1324,  1.6024,  0.4098],\n",
       "                        [ 0.6118,  1.6741,  0.0199,  0.5970],\n",
       "                        [-0.9532, -0.5711, -0.0916, -0.0279],\n",
       "                        [-0.8551,  0.1324,  1.6024,  0.4098],\n",
       "                        [ 0.6118,  1.6741,  0.0199,  0.5970],\n",
       "                        [-0.9532, -0.5711, -0.0916, -0.0279],\n",
       "                        [-0.8551,  0.1324,  1.6024,  0.4098]])"
      ]
     },
     "execution_count": 22,
     "metadata": {},
     "output_type": "execute_result"
    }
   ],
   "source": [
    "t_cat = FastTreeValue.func(subside=True)(torch.cat)\n",
    "\n",
    "t_cat(trees)"
   ]
  },
  {
   "cell_type": "code",
   "execution_count": 23,
   "id": "5e9c06a6",
   "metadata": {
    "execution": {
     "iopub.execute_input": "2023-02-27T12:23:19.287925Z",
     "iopub.status.busy": "2023-02-27T12:23:19.287435Z",
     "iopub.status.idle": "2023-02-27T12:23:21.793461Z",
     "shell.execute_reply": "2023-02-27T12:23:21.792779Z"
    }
   },
   "outputs": [
    {
     "name": "stdout",
     "output_type": "stream",
     "text": [
      "30.8 µs ± 93.7 ns per loop (mean ± std. dev. of 7 runs, 10,000 loops each)\n"
     ]
    }
   ],
   "source": [
    "%timeit t_cat(trees)"
   ]
  },
  {
   "cell_type": "code",
   "execution_count": 24,
   "id": "a3ab5c8f",
   "metadata": {
    "execution": {
     "iopub.execute_input": "2023-02-27T12:23:21.796357Z",
     "iopub.status.busy": "2023-02-27T12:23:21.796001Z",
     "iopub.status.idle": "2023-02-27T12:23:26.560451Z",
     "shell.execute_reply": "2023-02-27T12:23:26.559731Z"
    }
   },
   "outputs": [
    {
     "name": "stdout",
     "output_type": "stream",
     "text": [
      "58.6 µs ± 475 ns per loop (mean ± std. dev. of 7 runs, 10,000 loops each)\n"
     ]
    }
   ],
   "source": [
    "t_split = FastTreeValue.func(rise=True)(torch.split)\n",
    "tree = FastTreeValue({\n",
    "    'obs': torch.randn(8, 4, 84, 84),\n",
    "    'action': torch.randint(0, 6, size=(8, 1,)),\n",
    "    'reward': torch.rand(8, 1),\n",
    "})\n",
    "\n",
    "%timeit t_split(tree, 1)"
   ]
  },
  {
   "cell_type": "markdown",
   "id": "31c3ec0b",
   "metadata": {},
   "source": [
    "### Performance of Tianshou Batch"
   ]
  },
  {
   "cell_type": "code",
   "execution_count": 25,
   "id": "9ead828a",
   "metadata": {
    "execution": {
     "iopub.execute_input": "2023-02-27T12:23:26.563667Z",
     "iopub.status.busy": "2023-02-27T12:23:26.563157Z",
     "iopub.status.idle": "2023-02-27T12:23:26.571398Z",
     "shell.execute_reply": "2023-02-27T12:23:26.570419Z"
    }
   },
   "outputs": [
    {
     "data": {
      "text/plain": [
       "Batch(\n",
       "    a: tensor([[[-0.3719, -0.5147,  1.1366],\n",
       "                [ 0.0782,  0.9471,  0.8317]],\n",
       "       \n",
       "               [[-0.3719, -0.5147,  1.1366],\n",
       "                [ 0.0782,  0.9471,  0.8317]],\n",
       "       \n",
       "               [[-0.3719, -0.5147,  1.1366],\n",
       "                [ 0.0782,  0.9471,  0.8317]],\n",
       "       \n",
       "               [[-0.3719, -0.5147,  1.1366],\n",
       "                [ 0.0782,  0.9471,  0.8317]],\n",
       "       \n",
       "               [[-0.3719, -0.5147,  1.1366],\n",
       "                [ 0.0782,  0.9471,  0.8317]],\n",
       "       \n",
       "               [[-0.3719, -0.5147,  1.1366],\n",
       "                [ 0.0782,  0.9471,  0.8317]],\n",
       "       \n",
       "               [[-0.3719, -0.5147,  1.1366],\n",
       "                [ 0.0782,  0.9471,  0.8317]],\n",
       "       \n",
       "               [[-0.3719, -0.5147,  1.1366],\n",
       "                [ 0.0782,  0.9471,  0.8317]]]),\n",
       "    x: Batch(\n",
       "           c: tensor([[[ 0.6118,  1.6741,  0.0199,  0.5970],\n",
       "                       [-0.9532, -0.5711, -0.0916, -0.0279],\n",
       "                       [-0.8551,  0.1324,  1.6024,  0.4098]],\n",
       "              \n",
       "                      [[ 0.6118,  1.6741,  0.0199,  0.5970],\n",
       "                       [-0.9532, -0.5711, -0.0916, -0.0279],\n",
       "                       [-0.8551,  0.1324,  1.6024,  0.4098]],\n",
       "              \n",
       "                      [[ 0.6118,  1.6741,  0.0199,  0.5970],\n",
       "                       [-0.9532, -0.5711, -0.0916, -0.0279],\n",
       "                       [-0.8551,  0.1324,  1.6024,  0.4098]],\n",
       "              \n",
       "                      [[ 0.6118,  1.6741,  0.0199,  0.5970],\n",
       "                       [-0.9532, -0.5711, -0.0916, -0.0279],\n",
       "                       [-0.8551,  0.1324,  1.6024,  0.4098]],\n",
       "              \n",
       "                      [[ 0.6118,  1.6741,  0.0199,  0.5970],\n",
       "                       [-0.9532, -0.5711, -0.0916, -0.0279],\n",
       "                       [-0.8551,  0.1324,  1.6024,  0.4098]],\n",
       "              \n",
       "                      [[ 0.6118,  1.6741,  0.0199,  0.5970],\n",
       "                       [-0.9532, -0.5711, -0.0916, -0.0279],\n",
       "                       [-0.8551,  0.1324,  1.6024,  0.4098]],\n",
       "              \n",
       "                      [[ 0.6118,  1.6741,  0.0199,  0.5970],\n",
       "                       [-0.9532, -0.5711, -0.0916, -0.0279],\n",
       "                       [-0.8551,  0.1324,  1.6024,  0.4098]],\n",
       "              \n",
       "                      [[ 0.6118,  1.6741,  0.0199,  0.5970],\n",
       "                       [-0.9532, -0.5711, -0.0916, -0.0279],\n",
       "                       [-0.8551,  0.1324,  1.6024,  0.4098]]]),\n",
       "       ),\n",
       ")"
      ]
     },
     "execution_count": 25,
     "metadata": {},
     "output_type": "execute_result"
    }
   ],
   "source": [
    "batches = [Batch(**_TREE_DATA_2) for _ in range(8)]\n",
    "\n",
    "Batch.stack(batches)"
   ]
  },
  {
   "cell_type": "code",
   "execution_count": 26,
   "id": "ec9037a3",
   "metadata": {
    "execution": {
     "iopub.execute_input": "2023-02-27T12:23:26.573939Z",
     "iopub.status.busy": "2023-02-27T12:23:26.573435Z",
     "iopub.status.idle": "2023-02-27T12:23:33.007429Z",
     "shell.execute_reply": "2023-02-27T12:23:33.006363Z"
    }
   },
   "outputs": [
    {
     "name": "stdout",
     "output_type": "stream",
     "text": [
      "79.2 µs ± 164 ns per loop (mean ± std. dev. of 7 runs, 10,000 loops each)\n"
     ]
    }
   ],
   "source": [
    "%timeit Batch.stack(batches)"
   ]
  },
  {
   "cell_type": "code",
   "execution_count": 27,
   "id": "cb8ab77e",
   "metadata": {
    "execution": {
     "iopub.execute_input": "2023-02-27T12:23:33.010369Z",
     "iopub.status.busy": "2023-02-27T12:23:33.010011Z",
     "iopub.status.idle": "2023-02-27T12:23:33.017504Z",
     "shell.execute_reply": "2023-02-27T12:23:33.016915Z"
    }
   },
   "outputs": [
    {
     "data": {
      "text/plain": [
       "Batch(\n",
       "    a: tensor([[-0.3719, -0.5147,  1.1366],\n",
       "               [ 0.0782,  0.9471,  0.8317],\n",
       "               [-0.3719, -0.5147,  1.1366],\n",
       "               [ 0.0782,  0.9471,  0.8317],\n",
       "               [-0.3719, -0.5147,  1.1366],\n",
       "               [ 0.0782,  0.9471,  0.8317],\n",
       "               [-0.3719, -0.5147,  1.1366],\n",
       "               [ 0.0782,  0.9471,  0.8317],\n",
       "               [-0.3719, -0.5147,  1.1366],\n",
       "               [ 0.0782,  0.9471,  0.8317],\n",
       "               [-0.3719, -0.5147,  1.1366],\n",
       "               [ 0.0782,  0.9471,  0.8317],\n",
       "               [-0.3719, -0.5147,  1.1366],\n",
       "               [ 0.0782,  0.9471,  0.8317],\n",
       "               [-0.3719, -0.5147,  1.1366],\n",
       "               [ 0.0782,  0.9471,  0.8317]]),\n",
       "    x: Batch(\n",
       "           c: tensor([[ 0.6118,  1.6741,  0.0199,  0.5970],\n",
       "                      [-0.9532, -0.5711, -0.0916, -0.0279],\n",
       "                      [-0.8551,  0.1324,  1.6024,  0.4098],\n",
       "                      [ 0.6118,  1.6741,  0.0199,  0.5970],\n",
       "                      [-0.9532, -0.5711, -0.0916, -0.0279],\n",
       "                      [-0.8551,  0.1324,  1.6024,  0.4098],\n",
       "                      [ 0.6118,  1.6741,  0.0199,  0.5970],\n",
       "                      [-0.9532, -0.5711, -0.0916, -0.0279],\n",
       "                      [-0.8551,  0.1324,  1.6024,  0.4098],\n",
       "                      [ 0.6118,  1.6741,  0.0199,  0.5970],\n",
       "                      [-0.9532, -0.5711, -0.0916, -0.0279],\n",
       "                      [-0.8551,  0.1324,  1.6024,  0.4098],\n",
       "                      [ 0.6118,  1.6741,  0.0199,  0.5970],\n",
       "                      [-0.9532, -0.5711, -0.0916, -0.0279],\n",
       "                      [-0.8551,  0.1324,  1.6024,  0.4098],\n",
       "                      [ 0.6118,  1.6741,  0.0199,  0.5970],\n",
       "                      [-0.9532, -0.5711, -0.0916, -0.0279],\n",
       "                      [-0.8551,  0.1324,  1.6024,  0.4098],\n",
       "                      [ 0.6118,  1.6741,  0.0199,  0.5970],\n",
       "                      [-0.9532, -0.5711, -0.0916, -0.0279],\n",
       "                      [-0.8551,  0.1324,  1.6024,  0.4098],\n",
       "                      [ 0.6118,  1.6741,  0.0199,  0.5970],\n",
       "                      [-0.9532, -0.5711, -0.0916, -0.0279],\n",
       "                      [-0.8551,  0.1324,  1.6024,  0.4098]]),\n",
       "       ),\n",
       ")"
      ]
     },
     "execution_count": 27,
     "metadata": {},
     "output_type": "execute_result"
    }
   ],
   "source": [
    "Batch.cat(batches)"
   ]
  },
  {
   "cell_type": "code",
   "execution_count": 28,
   "id": "18dfb045",
   "metadata": {
    "execution": {
     "iopub.execute_input": "2023-02-27T12:23:33.020351Z",
     "iopub.status.busy": "2023-02-27T12:23:33.019850Z",
     "iopub.status.idle": "2023-02-27T12:23:44.662647Z",
     "shell.execute_reply": "2023-02-27T12:23:44.661616Z"
    }
   },
   "outputs": [
    {
     "name": "stdout",
     "output_type": "stream",
     "text": [
      "143 µs ± 158 ns per loop (mean ± std. dev. of 7 runs, 10,000 loops each)\n"
     ]
    }
   ],
   "source": [
    "%timeit Batch.cat(batches)"
   ]
  },
  {
   "cell_type": "code",
   "execution_count": 29,
   "id": "c6688e51",
   "metadata": {
    "execution": {
     "iopub.execute_input": "2023-02-27T12:23:44.665478Z",
     "iopub.status.busy": "2023-02-27T12:23:44.664917Z",
     "iopub.status.idle": "2023-02-27T12:23:47.173601Z",
     "shell.execute_reply": "2023-02-27T12:23:47.173043Z"
    }
   },
   "outputs": [
    {
     "name": "stdout",
     "output_type": "stream",
     "text": [
      "308 µs ± 4.22 µs per loop (mean ± std. dev. of 7 runs, 1,000 loops each)\n"
     ]
    }
   ],
   "source": [
    "batch = Batch({\n",
    "    'obs': torch.randn(8, 4, 84, 84),\n",
    "    'action': torch.randint(0, 6, size=(8, 1,)),\n",
    "    'reward': torch.rand(8, 1)}\n",
    ")\n",
    "\n",
    "%timeit list(Batch.split(batch, 1, shuffle=False, merge_last=True))"
   ]
  },
  {
   "cell_type": "code",
   "execution_count": null,
   "id": "2539fbd9",
   "metadata": {},
   "outputs": [],
   "source": []
  }
 ],
 "metadata": {
  "kernelspec": {
   "display_name": "Python 3 (ipykernel)",
   "language": "python",
   "name": "python3"
  },
  "language_info": {
   "codemirror_mode": {
    "name": "ipython",
    "version": 3
   },
   "file_extension": ".py",
   "mimetype": "text/x-python",
   "name": "python",
   "nbconvert_exporter": "python",
   "pygments_lexer": "ipython3",
   "version": "3.8.16"
  }
 },
 "nbformat": 4,
 "nbformat_minor": 5
}
