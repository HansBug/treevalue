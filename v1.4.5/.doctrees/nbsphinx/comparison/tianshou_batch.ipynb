{
 "cells": [
  {
   "cell_type": "markdown",
   "id": "9d39d946",
   "metadata": {},
   "source": [
    "# Comparison Between TreeValue and Tianshou Batch"
   ]
  },
  {
   "cell_type": "markdown",
   "id": "3c6db2d4",
   "metadata": {},
   "source": [
    "In this section, we will take a look at the feature and performance of the [Tianshou Batch](https://github.com/thu-ml/tianshou) library, which is developed by Tsinghua Machine Learning Group."
   ]
  },
  {
   "cell_type": "markdown",
   "id": "069361b0",
   "metadata": {},
   "source": [
    "Before starting the comparison, let us define some thing."
   ]
  },
  {
   "cell_type": "code",
   "execution_count": 1,
   "id": "06fc8d26",
   "metadata": {
    "execution": {
     "iopub.execute_input": "2023-02-28T05:27:24.806582Z",
     "iopub.status.busy": "2023-02-28T05:27:24.805959Z",
     "iopub.status.idle": "2023-02-28T05:27:25.748901Z",
     "shell.execute_reply": "2023-02-28T05:27:25.748157Z"
    }
   },
   "outputs": [
    {
     "name": "stderr",
     "output_type": "stream",
     "text": [
      "/opt/hostedtoolcache/Python/3.8.16/x64/lib/python3.8/site-packages/tqdm/auto.py:22: TqdmWarning: IProgress not found. Please update jupyter and ipywidgets. See https://ipywidgets.readthedocs.io/en/stable/user_install.html\n",
      "  from .autonotebook import tqdm as notebook_tqdm\n"
     ]
    }
   ],
   "source": [
    "import torch \n",
    "\n",
    "_TREE_DATA_1 = {'a': 1, 'b': 2, 'x': {'c': 3, 'd': 4}}\n",
    "_TREE_DATA_2 = {\n",
    "    'a': torch.randn(2, 3), \n",
    "    'x': {\n",
    "        'c': torch.randn(3, 4)\n",
    "    },\n",
    "}\n",
    "_TREE_DATA_3 = {\n",
    "    'obs': torch.randn(4, 84, 84),\n",
    "    'action': torch.randint(0, 6, size=(1,)),\n",
    "    'reward': torch.rand(1),\n",
    "}"
   ]
  },
  {
   "cell_type": "markdown",
   "id": "83461b25",
   "metadata": {},
   "source": [
    "## Read and Write Operation"
   ]
  },
  {
   "cell_type": "markdown",
   "id": "067b3f73",
   "metadata": {},
   "source": [
    "Reading and writing are the two most common operations in the tree data structure based on the data model (TreeValue and Tianshou Batch both belong to this type), so this section will compare the reading and writing performance of these two libraries."
   ]
  },
  {
   "cell_type": "markdown",
   "id": "5d09a5b7",
   "metadata": {},
   "source": [
    "### TreeValue's Get and Set"
   ]
  },
  {
   "cell_type": "code",
   "execution_count": 2,
   "id": "9519c4bb",
   "metadata": {
    "execution": {
     "iopub.execute_input": "2023-02-28T05:27:25.752728Z",
     "iopub.status.busy": "2023-02-28T05:27:25.752075Z",
     "iopub.status.idle": "2023-02-28T05:27:26.037692Z",
     "shell.execute_reply": "2023-02-28T05:27:26.036920Z"
    }
   },
   "outputs": [],
   "source": [
    "from treevalue import FastTreeValue\n",
    "\n",
    "t = FastTreeValue(_TREE_DATA_2)"
   ]
  },
  {
   "cell_type": "code",
   "execution_count": 3,
   "id": "11c37677",
   "metadata": {
    "execution": {
     "iopub.execute_input": "2023-02-28T05:27:26.041596Z",
     "iopub.status.busy": "2023-02-28T05:27:26.041140Z",
     "iopub.status.idle": "2023-02-28T05:27:26.050772Z",
     "shell.execute_reply": "2023-02-28T05:27:26.050186Z"
    }
   },
   "outputs": [
    {
     "data": {
      "text/plain": [
       "<FastTreeValue 0x7f00a4320f40>\n",
       "├── 'a' --> tensor([[ 1.0102, -0.3488, -1.3711],\n",
       "│                   [-1.0117,  0.5725,  0.8210]])\n",
       "└── 'x' --> <FastTreeValue 0x7f00a4320ee0>\n",
       "    └── 'c' --> tensor([[ 2.5481, -0.6697, -1.4984,  0.2766],\n",
       "                        [ 0.0972,  0.4060,  0.4272,  0.5060],\n",
       "                        [-0.3488, -0.5697,  2.5417,  1.2365]])"
      ]
     },
     "execution_count": 3,
     "metadata": {},
     "output_type": "execute_result"
    }
   ],
   "source": [
    "t"
   ]
  },
  {
   "cell_type": "code",
   "execution_count": 4,
   "id": "fd70b0b9",
   "metadata": {
    "execution": {
     "iopub.execute_input": "2023-02-28T05:27:26.053623Z",
     "iopub.status.busy": "2023-02-28T05:27:26.053220Z",
     "iopub.status.idle": "2023-02-28T05:27:26.058924Z",
     "shell.execute_reply": "2023-02-28T05:27:26.058191Z"
    }
   },
   "outputs": [
    {
     "data": {
      "text/plain": [
       "tensor([[ 1.0102, -0.3488, -1.3711],\n",
       "        [-1.0117,  0.5725,  0.8210]])"
      ]
     },
     "execution_count": 4,
     "metadata": {},
     "output_type": "execute_result"
    }
   ],
   "source": [
    "t.a"
   ]
  },
  {
   "cell_type": "code",
   "execution_count": 5,
   "id": "c18197bd",
   "metadata": {
    "execution": {
     "iopub.execute_input": "2023-02-28T05:27:26.061558Z",
     "iopub.status.busy": "2023-02-28T05:27:26.061015Z",
     "iopub.status.idle": "2023-02-28T05:27:31.354518Z",
     "shell.execute_reply": "2023-02-28T05:27:31.353648Z"
    }
   },
   "outputs": [
    {
     "name": "stdout",
     "output_type": "stream",
     "text": [
      "65.1 ns ± 0.0436 ns per loop (mean ± std. dev. of 7 runs, 10,000,000 loops each)\n"
     ]
    }
   ],
   "source": [
    "%timeit t.a"
   ]
  },
  {
   "cell_type": "code",
   "execution_count": 6,
   "id": "bd52f867",
   "metadata": {
    "execution": {
     "iopub.execute_input": "2023-02-28T05:27:31.358012Z",
     "iopub.status.busy": "2023-02-28T05:27:31.357558Z",
     "iopub.status.idle": "2023-02-28T05:27:31.364283Z",
     "shell.execute_reply": "2023-02-28T05:27:31.363664Z"
    }
   },
   "outputs": [
    {
     "data": {
      "text/plain": [
       "<FastTreeValue 0x7f00a4320f40>\n",
       "├── 'a' --> tensor([[-2.2053,  1.5851, -0.0245],\n",
       "│                   [-1.1834,  1.3241,  0.1968]])\n",
       "└── 'x' --> <FastTreeValue 0x7f00a4320ee0>\n",
       "    └── 'c' --> tensor([[ 2.5481, -0.6697, -1.4984,  0.2766],\n",
       "                        [ 0.0972,  0.4060,  0.4272,  0.5060],\n",
       "                        [-0.3488, -0.5697,  2.5417,  1.2365]])"
      ]
     },
     "execution_count": 6,
     "metadata": {},
     "output_type": "execute_result"
    }
   ],
   "source": [
    "new_value = torch.randn(2, 3)\n",
    "t.a = new_value\n",
    "\n",
    "t"
   ]
  },
  {
   "cell_type": "code",
   "execution_count": 7,
   "id": "bbe04d1c",
   "metadata": {
    "execution": {
     "iopub.execute_input": "2023-02-28T05:27:31.367085Z",
     "iopub.status.busy": "2023-02-28T05:27:31.366736Z",
     "iopub.status.idle": "2023-02-28T05:27:36.987285Z",
     "shell.execute_reply": "2023-02-28T05:27:36.986438Z"
    }
   },
   "outputs": [
    {
     "name": "stdout",
     "output_type": "stream",
     "text": [
      "69.2 ns ± 0.0789 ns per loop (mean ± std. dev. of 7 runs, 10,000,000 loops each)\n"
     ]
    }
   ],
   "source": [
    "%timeit t.a = new_value"
   ]
  },
  {
   "cell_type": "markdown",
   "id": "48c49731",
   "metadata": {},
   "source": [
    "### Tianshou Batch's Get and Set"
   ]
  },
  {
   "cell_type": "code",
   "execution_count": 8,
   "id": "f1bb14c1",
   "metadata": {
    "execution": {
     "iopub.execute_input": "2023-02-28T05:27:36.990685Z",
     "iopub.status.busy": "2023-02-28T05:27:36.990097Z",
     "iopub.status.idle": "2023-02-28T05:27:37.340361Z",
     "shell.execute_reply": "2023-02-28T05:27:37.339601Z"
    }
   },
   "outputs": [],
   "source": [
    "from tianshou.data import Batch\n",
    "\n",
    "b = Batch(**_TREE_DATA_2)"
   ]
  },
  {
   "cell_type": "code",
   "execution_count": 9,
   "id": "cb0777c3",
   "metadata": {
    "execution": {
     "iopub.execute_input": "2023-02-28T05:27:37.344039Z",
     "iopub.status.busy": "2023-02-28T05:27:37.343528Z",
     "iopub.status.idle": "2023-02-28T05:27:37.349142Z",
     "shell.execute_reply": "2023-02-28T05:27:37.348498Z"
    }
   },
   "outputs": [
    {
     "data": {
      "text/plain": [
       "Batch(\n",
       "    a: tensor([[ 1.0102, -0.3488, -1.3711],\n",
       "               [-1.0117,  0.5725,  0.8210]]),\n",
       "    x: Batch(\n",
       "           c: tensor([[ 2.5481, -0.6697, -1.4984,  0.2766],\n",
       "                      [ 0.0972,  0.4060,  0.4272,  0.5060],\n",
       "                      [-0.3488, -0.5697,  2.5417,  1.2365]]),\n",
       "       ),\n",
       ")"
      ]
     },
     "execution_count": 9,
     "metadata": {},
     "output_type": "execute_result"
    }
   ],
   "source": [
    "b"
   ]
  },
  {
   "cell_type": "code",
   "execution_count": 10,
   "id": "43ef8ea3",
   "metadata": {
    "execution": {
     "iopub.execute_input": "2023-02-28T05:27:37.351737Z",
     "iopub.status.busy": "2023-02-28T05:27:37.351315Z",
     "iopub.status.idle": "2023-02-28T05:27:37.355991Z",
     "shell.execute_reply": "2023-02-28T05:27:37.355338Z"
    }
   },
   "outputs": [
    {
     "data": {
      "text/plain": [
       "tensor([[ 1.0102, -0.3488, -1.3711],\n",
       "        [-1.0117,  0.5725,  0.8210]])"
      ]
     },
     "execution_count": 10,
     "metadata": {},
     "output_type": "execute_result"
    }
   ],
   "source": [
    "b.a"
   ]
  },
  {
   "cell_type": "code",
   "execution_count": 11,
   "id": "b785ab72",
   "metadata": {
    "execution": {
     "iopub.execute_input": "2023-02-28T05:27:37.358832Z",
     "iopub.status.busy": "2023-02-28T05:27:37.358319Z",
     "iopub.status.idle": "2023-02-28T05:27:42.131242Z",
     "shell.execute_reply": "2023-02-28T05:27:42.130391Z"
    }
   },
   "outputs": [
    {
     "name": "stdout",
     "output_type": "stream",
     "text": [
      "58.8 ns ± 0.0512 ns per loop (mean ± std. dev. of 7 runs, 10,000,000 loops each)\n"
     ]
    }
   ],
   "source": [
    "%timeit b.a"
   ]
  },
  {
   "cell_type": "code",
   "execution_count": 12,
   "id": "ad54dc69",
   "metadata": {
    "execution": {
     "iopub.execute_input": "2023-02-28T05:27:42.134683Z",
     "iopub.status.busy": "2023-02-28T05:27:42.134446Z",
     "iopub.status.idle": "2023-02-28T05:27:42.140318Z",
     "shell.execute_reply": "2023-02-28T05:27:42.139612Z"
    }
   },
   "outputs": [
    {
     "data": {
      "text/plain": [
       "Batch(\n",
       "    a: tensor([[ 1.4012, -1.4102,  0.9832],\n",
       "               [-0.0778,  1.6890, -0.2754]]),\n",
       "    x: Batch(\n",
       "           c: tensor([[ 2.5481, -0.6697, -1.4984,  0.2766],\n",
       "                      [ 0.0972,  0.4060,  0.4272,  0.5060],\n",
       "                      [-0.3488, -0.5697,  2.5417,  1.2365]]),\n",
       "       ),\n",
       ")"
      ]
     },
     "execution_count": 12,
     "metadata": {},
     "output_type": "execute_result"
    }
   ],
   "source": [
    "new_value = torch.randn(2, 3)\n",
    "b.a = new_value\n",
    "\n",
    "b"
   ]
  },
  {
   "cell_type": "code",
   "execution_count": 13,
   "id": "29b1d0bf",
   "metadata": {
    "execution": {
     "iopub.execute_input": "2023-02-28T05:27:42.142905Z",
     "iopub.status.busy": "2023-02-28T05:27:42.142480Z",
     "iopub.status.idle": "2023-02-28T05:27:46.175598Z",
     "shell.execute_reply": "2023-02-28T05:27:46.174729Z"
    }
   },
   "outputs": [
    {
     "name": "stdout",
     "output_type": "stream",
     "text": [
      "496 ns ± 0.161 ns per loop (mean ± std. dev. of 7 runs, 1,000,000 loops each)\n"
     ]
    }
   ],
   "source": [
    "%timeit b.a = new_value"
   ]
  },
  {
   "cell_type": "markdown",
   "id": "b61ad1d0",
   "metadata": {},
   "source": [
    "## Initialization"
   ]
  },
  {
   "cell_type": "markdown",
   "id": "d70f0d54",
   "metadata": {},
   "source": [
    "### TreeValue's Initialization"
   ]
  },
  {
   "cell_type": "code",
   "execution_count": 14,
   "id": "d32a679b",
   "metadata": {
    "execution": {
     "iopub.execute_input": "2023-02-28T05:27:46.179057Z",
     "iopub.status.busy": "2023-02-28T05:27:46.178690Z",
     "iopub.status.idle": "2023-02-28T05:27:52.950982Z",
     "shell.execute_reply": "2023-02-28T05:27:52.950130Z"
    }
   },
   "outputs": [
    {
     "name": "stdout",
     "output_type": "stream",
     "text": [
      "834 ns ± 1.87 ns per loop (mean ± std. dev. of 7 runs, 1,000,000 loops each)\n"
     ]
    }
   ],
   "source": [
    "%timeit FastTreeValue(_TREE_DATA_1)"
   ]
  },
  {
   "cell_type": "markdown",
   "id": "24f3707b",
   "metadata": {},
   "source": [
    "### Tianshou Batch's Initialization"
   ]
  },
  {
   "cell_type": "code",
   "execution_count": 15,
   "id": "ac3958df",
   "metadata": {
    "execution": {
     "iopub.execute_input": "2023-02-28T05:27:52.954749Z",
     "iopub.status.busy": "2023-02-28T05:27:52.954187Z",
     "iopub.status.idle": "2023-02-28T05:28:01.548578Z",
     "shell.execute_reply": "2023-02-28T05:28:01.547714Z"
    }
   },
   "outputs": [
    {
     "name": "stdout",
     "output_type": "stream",
     "text": [
      "10.6 µs ± 9.88 ns per loop (mean ± std. dev. of 7 runs, 100,000 loops each)\n"
     ]
    }
   ],
   "source": [
    "%timeit Batch(**_TREE_DATA_1)"
   ]
  },
  {
   "cell_type": "markdown",
   "id": "1ab82e2d",
   "metadata": {},
   "source": [
    "## Deep Copy Operation"
   ]
  },
  {
   "cell_type": "code",
   "execution_count": 16,
   "id": "210a9442",
   "metadata": {
    "execution": {
     "iopub.execute_input": "2023-02-28T05:28:01.552197Z",
     "iopub.status.busy": "2023-02-28T05:28:01.551634Z",
     "iopub.status.idle": "2023-02-28T05:28:01.555721Z",
     "shell.execute_reply": "2023-02-28T05:28:01.555112Z"
    }
   },
   "outputs": [],
   "source": [
    "import copy"
   ]
  },
  {
   "cell_type": "markdown",
   "id": "5a736274",
   "metadata": {},
   "source": [
    "### Deep Copy of TreeValue"
   ]
  },
  {
   "cell_type": "code",
   "execution_count": 17,
   "id": "f9bcadd6",
   "metadata": {
    "execution": {
     "iopub.execute_input": "2023-02-28T05:28:01.558673Z",
     "iopub.status.busy": "2023-02-28T05:28:01.558266Z",
     "iopub.status.idle": "2023-02-28T05:28:13.180540Z",
     "shell.execute_reply": "2023-02-28T05:28:13.179900Z"
    }
   },
   "outputs": [
    {
     "name": "stdout",
     "output_type": "stream",
     "text": [
      "143 µs ± 370 ns per loop (mean ± std. dev. of 7 runs, 10,000 loops each)\n"
     ]
    }
   ],
   "source": [
    "t3 = FastTreeValue(_TREE_DATA_3)\n",
    "%timeit copy.deepcopy(t3)"
   ]
  },
  {
   "cell_type": "markdown",
   "id": "bf8be7ea",
   "metadata": {},
   "source": [
    "### Deep Copy of Tianshou Batch"
   ]
  },
  {
   "cell_type": "code",
   "execution_count": 18,
   "id": "91998e6f",
   "metadata": {
    "execution": {
     "iopub.execute_input": "2023-02-28T05:28:13.183546Z",
     "iopub.status.busy": "2023-02-28T05:28:13.183055Z",
     "iopub.status.idle": "2023-02-28T05:28:24.694820Z",
     "shell.execute_reply": "2023-02-28T05:28:24.694108Z"
    }
   },
   "outputs": [
    {
     "name": "stdout",
     "output_type": "stream",
     "text": [
      "142 µs ± 436 ns per loop (mean ± std. dev. of 7 runs, 10,000 loops each)\n"
     ]
    }
   ],
   "source": [
    "b3 = Batch(**_TREE_DATA_3)\n",
    "%timeit copy.deepcopy(b3)"
   ]
  },
  {
   "cell_type": "markdown",
   "id": "223162fb",
   "metadata": {},
   "source": [
    "## Stack, Concat and Split Operation"
   ]
  },
  {
   "cell_type": "markdown",
   "id": "85fa4a73",
   "metadata": {},
   "source": [
    "### Performance of TreeValue"
   ]
  },
  {
   "cell_type": "code",
   "execution_count": 19,
   "id": "a0c2b697",
   "metadata": {
    "execution": {
     "iopub.execute_input": "2023-02-28T05:28:24.697963Z",
     "iopub.status.busy": "2023-02-28T05:28:24.697495Z",
     "iopub.status.idle": "2023-02-28T05:28:24.701898Z",
     "shell.execute_reply": "2023-02-28T05:28:24.701280Z"
    }
   },
   "outputs": [],
   "source": [
    "trees = [FastTreeValue(_TREE_DATA_2) for _ in range(8)]"
   ]
  },
  {
   "cell_type": "code",
   "execution_count": 20,
   "id": "017ea5a5",
   "metadata": {
    "execution": {
     "iopub.execute_input": "2023-02-28T05:28:24.704613Z",
     "iopub.status.busy": "2023-02-28T05:28:24.704130Z",
     "iopub.status.idle": "2023-02-28T05:28:24.711325Z",
     "shell.execute_reply": "2023-02-28T05:28:24.710682Z"
    }
   },
   "outputs": [
    {
     "data": {
      "text/plain": [
       "<FastTreeValue 0x7effeecda670>\n",
       "├── 'a' --> tensor([[[ 1.0102, -0.3488, -1.3711],\n",
       "│                    [-1.0117,  0.5725,  0.8210]],\n",
       "│           \n",
       "│                   [[ 1.0102, -0.3488, -1.3711],\n",
       "│                    [-1.0117,  0.5725,  0.8210]],\n",
       "│           \n",
       "│                   [[ 1.0102, -0.3488, -1.3711],\n",
       "│                    [-1.0117,  0.5725,  0.8210]],\n",
       "│           \n",
       "│                   [[ 1.0102, -0.3488, -1.3711],\n",
       "│                    [-1.0117,  0.5725,  0.8210]],\n",
       "│           \n",
       "│                   [[ 1.0102, -0.3488, -1.3711],\n",
       "│                    [-1.0117,  0.5725,  0.8210]],\n",
       "│           \n",
       "│                   [[ 1.0102, -0.3488, -1.3711],\n",
       "│                    [-1.0117,  0.5725,  0.8210]],\n",
       "│           \n",
       "│                   [[ 1.0102, -0.3488, -1.3711],\n",
       "│                    [-1.0117,  0.5725,  0.8210]],\n",
       "│           \n",
       "│                   [[ 1.0102, -0.3488, -1.3711],\n",
       "│                    [-1.0117,  0.5725,  0.8210]]])\n",
       "└── 'x' --> <FastTreeValue 0x7effee63b9a0>\n",
       "    └── 'c' --> tensor([[[ 2.5481, -0.6697, -1.4984,  0.2766],\n",
       "                         [ 0.0972,  0.4060,  0.4272,  0.5060],\n",
       "                         [-0.3488, -0.5697,  2.5417,  1.2365]],\n",
       "                \n",
       "                        [[ 2.5481, -0.6697, -1.4984,  0.2766],\n",
       "                         [ 0.0972,  0.4060,  0.4272,  0.5060],\n",
       "                         [-0.3488, -0.5697,  2.5417,  1.2365]],\n",
       "                \n",
       "                        [[ 2.5481, -0.6697, -1.4984,  0.2766],\n",
       "                         [ 0.0972,  0.4060,  0.4272,  0.5060],\n",
       "                         [-0.3488, -0.5697,  2.5417,  1.2365]],\n",
       "                \n",
       "                        [[ 2.5481, -0.6697, -1.4984,  0.2766],\n",
       "                         [ 0.0972,  0.4060,  0.4272,  0.5060],\n",
       "                         [-0.3488, -0.5697,  2.5417,  1.2365]],\n",
       "                \n",
       "                        [[ 2.5481, -0.6697, -1.4984,  0.2766],\n",
       "                         [ 0.0972,  0.4060,  0.4272,  0.5060],\n",
       "                         [-0.3488, -0.5697,  2.5417,  1.2365]],\n",
       "                \n",
       "                        [[ 2.5481, -0.6697, -1.4984,  0.2766],\n",
       "                         [ 0.0972,  0.4060,  0.4272,  0.5060],\n",
       "                         [-0.3488, -0.5697,  2.5417,  1.2365]],\n",
       "                \n",
       "                        [[ 2.5481, -0.6697, -1.4984,  0.2766],\n",
       "                         [ 0.0972,  0.4060,  0.4272,  0.5060],\n",
       "                         [-0.3488, -0.5697,  2.5417,  1.2365]],\n",
       "                \n",
       "                        [[ 2.5481, -0.6697, -1.4984,  0.2766],\n",
       "                         [ 0.0972,  0.4060,  0.4272,  0.5060],\n",
       "                         [-0.3488, -0.5697,  2.5417,  1.2365]]])"
      ]
     },
     "execution_count": 20,
     "metadata": {},
     "output_type": "execute_result"
    }
   ],
   "source": [
    "t_stack = FastTreeValue.func(subside=True)(torch.stack)\n",
    "\n",
    "t_stack(trees)"
   ]
  },
  {
   "cell_type": "code",
   "execution_count": 21,
   "id": "f8b3f415",
   "metadata": {
    "execution": {
     "iopub.execute_input": "2023-02-28T05:28:24.713771Z",
     "iopub.status.busy": "2023-02-28T05:28:24.713360Z",
     "iopub.status.idle": "2023-02-28T05:28:27.390149Z",
     "shell.execute_reply": "2023-02-28T05:28:27.389306Z"
    }
   },
   "outputs": [
    {
     "name": "stdout",
     "output_type": "stream",
     "text": [
      "32.9 µs ± 46.7 ns per loop (mean ± std. dev. of 7 runs, 10,000 loops each)\n"
     ]
    }
   ],
   "source": [
    "%timeit t_stack(trees)"
   ]
  },
  {
   "cell_type": "code",
   "execution_count": 22,
   "id": "94b56771",
   "metadata": {
    "execution": {
     "iopub.execute_input": "2023-02-28T05:28:27.393707Z",
     "iopub.status.busy": "2023-02-28T05:28:27.393146Z",
     "iopub.status.idle": "2023-02-28T05:28:27.401118Z",
     "shell.execute_reply": "2023-02-28T05:28:27.400501Z"
    }
   },
   "outputs": [
    {
     "data": {
      "text/plain": [
       "<FastTreeValue 0x7effee5ecb20>\n",
       "├── 'a' --> tensor([[ 1.0102, -0.3488, -1.3711],\n",
       "│                   [-1.0117,  0.5725,  0.8210],\n",
       "│                   [ 1.0102, -0.3488, -1.3711],\n",
       "│                   [-1.0117,  0.5725,  0.8210],\n",
       "│                   [ 1.0102, -0.3488, -1.3711],\n",
       "│                   [-1.0117,  0.5725,  0.8210],\n",
       "│                   [ 1.0102, -0.3488, -1.3711],\n",
       "│                   [-1.0117,  0.5725,  0.8210],\n",
       "│                   [ 1.0102, -0.3488, -1.3711],\n",
       "│                   [-1.0117,  0.5725,  0.8210],\n",
       "│                   [ 1.0102, -0.3488, -1.3711],\n",
       "│                   [-1.0117,  0.5725,  0.8210],\n",
       "│                   [ 1.0102, -0.3488, -1.3711],\n",
       "│                   [-1.0117,  0.5725,  0.8210],\n",
       "│                   [ 1.0102, -0.3488, -1.3711],\n",
       "│                   [-1.0117,  0.5725,  0.8210]])\n",
       "└── 'x' --> <FastTreeValue 0x7effee5ecfa0>\n",
       "    └── 'c' --> tensor([[ 2.5481, -0.6697, -1.4984,  0.2766],\n",
       "                        [ 0.0972,  0.4060,  0.4272,  0.5060],\n",
       "                        [-0.3488, -0.5697,  2.5417,  1.2365],\n",
       "                        [ 2.5481, -0.6697, -1.4984,  0.2766],\n",
       "                        [ 0.0972,  0.4060,  0.4272,  0.5060],\n",
       "                        [-0.3488, -0.5697,  2.5417,  1.2365],\n",
       "                        [ 2.5481, -0.6697, -1.4984,  0.2766],\n",
       "                        [ 0.0972,  0.4060,  0.4272,  0.5060],\n",
       "                        [-0.3488, -0.5697,  2.5417,  1.2365],\n",
       "                        [ 2.5481, -0.6697, -1.4984,  0.2766],\n",
       "                        [ 0.0972,  0.4060,  0.4272,  0.5060],\n",
       "                        [-0.3488, -0.5697,  2.5417,  1.2365],\n",
       "                        [ 2.5481, -0.6697, -1.4984,  0.2766],\n",
       "                        [ 0.0972,  0.4060,  0.4272,  0.5060],\n",
       "                        [-0.3488, -0.5697,  2.5417,  1.2365],\n",
       "                        [ 2.5481, -0.6697, -1.4984,  0.2766],\n",
       "                        [ 0.0972,  0.4060,  0.4272,  0.5060],\n",
       "                        [-0.3488, -0.5697,  2.5417,  1.2365],\n",
       "                        [ 2.5481, -0.6697, -1.4984,  0.2766],\n",
       "                        [ 0.0972,  0.4060,  0.4272,  0.5060],\n",
       "                        [-0.3488, -0.5697,  2.5417,  1.2365],\n",
       "                        [ 2.5481, -0.6697, -1.4984,  0.2766],\n",
       "                        [ 0.0972,  0.4060,  0.4272,  0.5060],\n",
       "                        [-0.3488, -0.5697,  2.5417,  1.2365]])"
      ]
     },
     "execution_count": 22,
     "metadata": {},
     "output_type": "execute_result"
    }
   ],
   "source": [
    "t_cat = FastTreeValue.func(subside=True)(torch.cat)\n",
    "\n",
    "t_cat(trees)"
   ]
  },
  {
   "cell_type": "code",
   "execution_count": 23,
   "id": "5e9c06a6",
   "metadata": {
    "execution": {
     "iopub.execute_input": "2023-02-28T05:28:27.403961Z",
     "iopub.status.busy": "2023-02-28T05:28:27.403624Z",
     "iopub.status.idle": "2023-02-28T05:28:29.895844Z",
     "shell.execute_reply": "2023-02-28T05:28:29.894997Z"
    }
   },
   "outputs": [
    {
     "name": "stdout",
     "output_type": "stream",
     "text": [
      "30.7 µs ± 103 ns per loop (mean ± std. dev. of 7 runs, 10,000 loops each)\n"
     ]
    }
   ],
   "source": [
    "%timeit t_cat(trees)"
   ]
  },
  {
   "cell_type": "code",
   "execution_count": 24,
   "id": "a3ab5c8f",
   "metadata": {
    "execution": {
     "iopub.execute_input": "2023-02-28T05:28:29.899420Z",
     "iopub.status.busy": "2023-02-28T05:28:29.898838Z",
     "iopub.status.idle": "2023-02-28T05:28:35.383944Z",
     "shell.execute_reply": "2023-02-28T05:28:35.383091Z"
    }
   },
   "outputs": [
    {
     "name": "stdout",
     "output_type": "stream",
     "text": [
      "67.8 µs ± 71 ns per loop (mean ± std. dev. of 7 runs, 10,000 loops each)\n"
     ]
    }
   ],
   "source": [
    "t_split = FastTreeValue.func(rise=True)(torch.split)\n",
    "tree = FastTreeValue({\n",
    "    'obs': torch.randn(8, 4, 84, 84),\n",
    "    'action': torch.randint(0, 6, size=(8, 1,)),\n",
    "    'reward': torch.rand(8, 1),\n",
    "})\n",
    "\n",
    "%timeit t_split(tree, 1)"
   ]
  },
  {
   "cell_type": "markdown",
   "id": "31c3ec0b",
   "metadata": {},
   "source": [
    "### Performance of Tianshou Batch"
   ]
  },
  {
   "cell_type": "code",
   "execution_count": 25,
   "id": "9ead828a",
   "metadata": {
    "execution": {
     "iopub.execute_input": "2023-02-28T05:28:35.387143Z",
     "iopub.status.busy": "2023-02-28T05:28:35.386723Z",
     "iopub.status.idle": "2023-02-28T05:28:35.394827Z",
     "shell.execute_reply": "2023-02-28T05:28:35.394221Z"
    }
   },
   "outputs": [
    {
     "data": {
      "text/plain": [
       "Batch(\n",
       "    a: tensor([[[ 1.0102, -0.3488, -1.3711],\n",
       "                [-1.0117,  0.5725,  0.8210]],\n",
       "       \n",
       "               [[ 1.0102, -0.3488, -1.3711],\n",
       "                [-1.0117,  0.5725,  0.8210]],\n",
       "       \n",
       "               [[ 1.0102, -0.3488, -1.3711],\n",
       "                [-1.0117,  0.5725,  0.8210]],\n",
       "       \n",
       "               [[ 1.0102, -0.3488, -1.3711],\n",
       "                [-1.0117,  0.5725,  0.8210]],\n",
       "       \n",
       "               [[ 1.0102, -0.3488, -1.3711],\n",
       "                [-1.0117,  0.5725,  0.8210]],\n",
       "       \n",
       "               [[ 1.0102, -0.3488, -1.3711],\n",
       "                [-1.0117,  0.5725,  0.8210]],\n",
       "       \n",
       "               [[ 1.0102, -0.3488, -1.3711],\n",
       "                [-1.0117,  0.5725,  0.8210]],\n",
       "       \n",
       "               [[ 1.0102, -0.3488, -1.3711],\n",
       "                [-1.0117,  0.5725,  0.8210]]]),\n",
       "    x: Batch(\n",
       "           c: tensor([[[ 2.5481, -0.6697, -1.4984,  0.2766],\n",
       "                       [ 0.0972,  0.4060,  0.4272,  0.5060],\n",
       "                       [-0.3488, -0.5697,  2.5417,  1.2365]],\n",
       "              \n",
       "                      [[ 2.5481, -0.6697, -1.4984,  0.2766],\n",
       "                       [ 0.0972,  0.4060,  0.4272,  0.5060],\n",
       "                       [-0.3488, -0.5697,  2.5417,  1.2365]],\n",
       "              \n",
       "                      [[ 2.5481, -0.6697, -1.4984,  0.2766],\n",
       "                       [ 0.0972,  0.4060,  0.4272,  0.5060],\n",
       "                       [-0.3488, -0.5697,  2.5417,  1.2365]],\n",
       "              \n",
       "                      [[ 2.5481, -0.6697, -1.4984,  0.2766],\n",
       "                       [ 0.0972,  0.4060,  0.4272,  0.5060],\n",
       "                       [-0.3488, -0.5697,  2.5417,  1.2365]],\n",
       "              \n",
       "                      [[ 2.5481, -0.6697, -1.4984,  0.2766],\n",
       "                       [ 0.0972,  0.4060,  0.4272,  0.5060],\n",
       "                       [-0.3488, -0.5697,  2.5417,  1.2365]],\n",
       "              \n",
       "                      [[ 2.5481, -0.6697, -1.4984,  0.2766],\n",
       "                       [ 0.0972,  0.4060,  0.4272,  0.5060],\n",
       "                       [-0.3488, -0.5697,  2.5417,  1.2365]],\n",
       "              \n",
       "                      [[ 2.5481, -0.6697, -1.4984,  0.2766],\n",
       "                       [ 0.0972,  0.4060,  0.4272,  0.5060],\n",
       "                       [-0.3488, -0.5697,  2.5417,  1.2365]],\n",
       "              \n",
       "                      [[ 2.5481, -0.6697, -1.4984,  0.2766],\n",
       "                       [ 0.0972,  0.4060,  0.4272,  0.5060],\n",
       "                       [-0.3488, -0.5697,  2.5417,  1.2365]]]),\n",
       "       ),\n",
       ")"
      ]
     },
     "execution_count": 25,
     "metadata": {},
     "output_type": "execute_result"
    }
   ],
   "source": [
    "batches = [Batch(**_TREE_DATA_2) for _ in range(8)]\n",
    "\n",
    "Batch.stack(batches)"
   ]
  },
  {
   "cell_type": "code",
   "execution_count": 26,
   "id": "ec9037a3",
   "metadata": {
    "execution": {
     "iopub.execute_input": "2023-02-28T05:28:35.397704Z",
     "iopub.status.busy": "2023-02-28T05:28:35.397297Z",
     "iopub.status.idle": "2023-02-28T05:28:41.691939Z",
     "shell.execute_reply": "2023-02-28T05:28:41.691129Z"
    }
   },
   "outputs": [
    {
     "name": "stdout",
     "output_type": "stream",
     "text": [
      "77.4 µs ± 188 ns per loop (mean ± std. dev. of 7 runs, 10,000 loops each)\n"
     ]
    }
   ],
   "source": [
    "%timeit Batch.stack(batches)"
   ]
  },
  {
   "cell_type": "code",
   "execution_count": 27,
   "id": "cb8ab77e",
   "metadata": {
    "execution": {
     "iopub.execute_input": "2023-02-28T05:28:41.694961Z",
     "iopub.status.busy": "2023-02-28T05:28:41.694581Z",
     "iopub.status.idle": "2023-02-28T05:28:41.703108Z",
     "shell.execute_reply": "2023-02-28T05:28:41.702498Z"
    }
   },
   "outputs": [
    {
     "data": {
      "text/plain": [
       "Batch(\n",
       "    a: tensor([[ 1.0102, -0.3488, -1.3711],\n",
       "               [-1.0117,  0.5725,  0.8210],\n",
       "               [ 1.0102, -0.3488, -1.3711],\n",
       "               [-1.0117,  0.5725,  0.8210],\n",
       "               [ 1.0102, -0.3488, -1.3711],\n",
       "               [-1.0117,  0.5725,  0.8210],\n",
       "               [ 1.0102, -0.3488, -1.3711],\n",
       "               [-1.0117,  0.5725,  0.8210],\n",
       "               [ 1.0102, -0.3488, -1.3711],\n",
       "               [-1.0117,  0.5725,  0.8210],\n",
       "               [ 1.0102, -0.3488, -1.3711],\n",
       "               [-1.0117,  0.5725,  0.8210],\n",
       "               [ 1.0102, -0.3488, -1.3711],\n",
       "               [-1.0117,  0.5725,  0.8210],\n",
       "               [ 1.0102, -0.3488, -1.3711],\n",
       "               [-1.0117,  0.5725,  0.8210]]),\n",
       "    x: Batch(\n",
       "           c: tensor([[ 2.5481, -0.6697, -1.4984,  0.2766],\n",
       "                      [ 0.0972,  0.4060,  0.4272,  0.5060],\n",
       "                      [-0.3488, -0.5697,  2.5417,  1.2365],\n",
       "                      [ 2.5481, -0.6697, -1.4984,  0.2766],\n",
       "                      [ 0.0972,  0.4060,  0.4272,  0.5060],\n",
       "                      [-0.3488, -0.5697,  2.5417,  1.2365],\n",
       "                      [ 2.5481, -0.6697, -1.4984,  0.2766],\n",
       "                      [ 0.0972,  0.4060,  0.4272,  0.5060],\n",
       "                      [-0.3488, -0.5697,  2.5417,  1.2365],\n",
       "                      [ 2.5481, -0.6697, -1.4984,  0.2766],\n",
       "                      [ 0.0972,  0.4060,  0.4272,  0.5060],\n",
       "                      [-0.3488, -0.5697,  2.5417,  1.2365],\n",
       "                      [ 2.5481, -0.6697, -1.4984,  0.2766],\n",
       "                      [ 0.0972,  0.4060,  0.4272,  0.5060],\n",
       "                      [-0.3488, -0.5697,  2.5417,  1.2365],\n",
       "                      [ 2.5481, -0.6697, -1.4984,  0.2766],\n",
       "                      [ 0.0972,  0.4060,  0.4272,  0.5060],\n",
       "                      [-0.3488, -0.5697,  2.5417,  1.2365],\n",
       "                      [ 2.5481, -0.6697, -1.4984,  0.2766],\n",
       "                      [ 0.0972,  0.4060,  0.4272,  0.5060],\n",
       "                      [-0.3488, -0.5697,  2.5417,  1.2365],\n",
       "                      [ 2.5481, -0.6697, -1.4984,  0.2766],\n",
       "                      [ 0.0972,  0.4060,  0.4272,  0.5060],\n",
       "                      [-0.3488, -0.5697,  2.5417,  1.2365]]),\n",
       "       ),\n",
       ")"
      ]
     },
     "execution_count": 27,
     "metadata": {},
     "output_type": "execute_result"
    }
   ],
   "source": [
    "Batch.cat(batches)"
   ]
  },
  {
   "cell_type": "code",
   "execution_count": 28,
   "id": "18dfb045",
   "metadata": {
    "execution": {
     "iopub.execute_input": "2023-02-28T05:28:41.705700Z",
     "iopub.status.busy": "2023-02-28T05:28:41.705278Z",
     "iopub.status.idle": "2023-02-28T05:28:55.075738Z",
     "shell.execute_reply": "2023-02-28T05:28:55.074836Z"
    }
   },
   "outputs": [
    {
     "name": "stdout",
     "output_type": "stream",
     "text": [
      "165 µs ± 573 ns per loop (mean ± std. dev. of 7 runs, 10,000 loops each)\n"
     ]
    }
   ],
   "source": [
    "%timeit Batch.cat(batches)"
   ]
  },
  {
   "cell_type": "code",
   "execution_count": 29,
   "id": "c6688e51",
   "metadata": {
    "execution": {
     "iopub.execute_input": "2023-02-28T05:28:55.078995Z",
     "iopub.status.busy": "2023-02-28T05:28:55.078489Z",
     "iopub.status.idle": "2023-02-28T05:28:57.744805Z",
     "shell.execute_reply": "2023-02-28T05:28:57.743870Z"
    }
   },
   "outputs": [
    {
     "name": "stdout",
     "output_type": "stream",
     "text": [
      "328 µs ± 798 ns per loop (mean ± std. dev. of 7 runs, 1,000 loops each)\n"
     ]
    }
   ],
   "source": [
    "batch = Batch({\n",
    "    'obs': torch.randn(8, 4, 84, 84),\n",
    "    'action': torch.randint(0, 6, size=(8, 1,)),\n",
    "    'reward': torch.rand(8, 1)}\n",
    ")\n",
    "\n",
    "%timeit list(Batch.split(batch, 1, shuffle=False, merge_last=True))"
   ]
  },
  {
   "cell_type": "code",
   "execution_count": null,
   "id": "2539fbd9",
   "metadata": {},
   "outputs": [],
   "source": []
  }
 ],
 "metadata": {
  "kernelspec": {
   "display_name": "Python 3 (ipykernel)",
   "language": "python",
   "name": "python3"
  },
  "language_info": {
   "codemirror_mode": {
    "name": "ipython",
    "version": 3
   },
   "file_extension": ".py",
   "mimetype": "text/x-python",
   "name": "python",
   "nbconvert_exporter": "python",
   "pygments_lexer": "ipython3",
   "version": "3.8.16"
  }
 },
 "nbformat": 4,
 "nbformat_minor": 5
}
