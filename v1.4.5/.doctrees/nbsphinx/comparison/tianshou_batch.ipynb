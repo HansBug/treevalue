{
 "cells": [
  {
   "cell_type": "markdown",
   "id": "9d39d946",
   "metadata": {},
   "source": [
    "# Comparison Between TreeValue and Tianshou Batch"
   ]
  },
  {
   "cell_type": "markdown",
   "id": "3c6db2d4",
   "metadata": {},
   "source": [
    "In this section, we will take a look at the feature and performance of the [Tianshou Batch](https://github.com/thu-ml/tianshou) library, which is developed by Tsinghua Machine Learning Group."
   ]
  },
  {
   "cell_type": "markdown",
   "id": "069361b0",
   "metadata": {},
   "source": [
    "Before starting the comparison, let us define some thing."
   ]
  },
  {
   "cell_type": "code",
   "execution_count": 1,
   "id": "06fc8d26",
   "metadata": {
    "execution": {
     "iopub.execute_input": "2023-02-25T07:26:15.532521Z",
     "iopub.status.busy": "2023-02-25T07:26:15.532304Z",
     "iopub.status.idle": "2023-02-25T07:26:16.442081Z",
     "shell.execute_reply": "2023-02-25T07:26:16.441407Z"
    }
   },
   "outputs": [
    {
     "name": "stderr",
     "output_type": "stream",
     "text": [
      "/opt/hostedtoolcache/Python/3.8.16/x64/lib/python3.8/site-packages/tqdm/auto.py:22: TqdmWarning: IProgress not found. Please update jupyter and ipywidgets. See https://ipywidgets.readthedocs.io/en/stable/user_install.html\n",
      "  from .autonotebook import tqdm as notebook_tqdm\n"
     ]
    }
   ],
   "source": [
    "import torch \n",
    "\n",
    "_TREE_DATA_1 = {'a': 1, 'b': 2, 'x': {'c': 3, 'd': 4}}\n",
    "_TREE_DATA_2 = {\n",
    "    'a': torch.randn(2, 3), \n",
    "    'x': {\n",
    "        'c': torch.randn(3, 4)\n",
    "    },\n",
    "}\n",
    "_TREE_DATA_3 = {\n",
    "    'obs': torch.randn(4, 84, 84),\n",
    "    'action': torch.randint(0, 6, size=(1,)),\n",
    "    'reward': torch.rand(1),\n",
    "}"
   ]
  },
  {
   "cell_type": "markdown",
   "id": "83461b25",
   "metadata": {},
   "source": [
    "## Read and Write Operation"
   ]
  },
  {
   "cell_type": "markdown",
   "id": "067b3f73",
   "metadata": {},
   "source": [
    "Reading and writing are the two most common operations in the tree data structure based on the data model (TreeValue and Tianshou Batch both belong to this type), so this section will compare the reading and writing performance of these two libraries."
   ]
  },
  {
   "cell_type": "markdown",
   "id": "5d09a5b7",
   "metadata": {},
   "source": [
    "### TreeValue's Get and Set"
   ]
  },
  {
   "cell_type": "code",
   "execution_count": 2,
   "id": "9519c4bb",
   "metadata": {
    "execution": {
     "iopub.execute_input": "2023-02-25T07:26:16.445361Z",
     "iopub.status.busy": "2023-02-25T07:26:16.444957Z",
     "iopub.status.idle": "2023-02-25T07:26:16.478351Z",
     "shell.execute_reply": "2023-02-25T07:26:16.477751Z"
    }
   },
   "outputs": [],
   "source": [
    "from treevalue import FastTreeValue\n",
    "\n",
    "t = FastTreeValue(_TREE_DATA_2)"
   ]
  },
  {
   "cell_type": "code",
   "execution_count": 3,
   "id": "11c37677",
   "metadata": {
    "execution": {
     "iopub.execute_input": "2023-02-25T07:26:16.481232Z",
     "iopub.status.busy": "2023-02-25T07:26:16.480892Z",
     "iopub.status.idle": "2023-02-25T07:26:16.490045Z",
     "shell.execute_reply": "2023-02-25T07:26:16.489474Z"
    }
   },
   "outputs": [
    {
     "data": {
      "text/plain": [
       "<FastTreeValue 0x7f0b24619be0>\n",
       "├── 'a' --> tensor([[-0.3126, -1.0108,  1.0250],\n",
       "│                   [ 0.4771,  0.7780, -0.4457]])\n",
       "└── 'x' --> <FastTreeValue 0x7f0b24619b20>\n",
       "    └── 'c' --> tensor([[-0.1646,  1.9611,  0.0409, -1.3552],\n",
       "                        [ 0.8999,  2.3325, -1.0056,  1.8081],\n",
       "                        [ 0.2425,  1.0299, -0.9368,  0.8437]])"
      ]
     },
     "execution_count": 3,
     "metadata": {},
     "output_type": "execute_result"
    }
   ],
   "source": [
    "t"
   ]
  },
  {
   "cell_type": "code",
   "execution_count": 4,
   "id": "fd70b0b9",
   "metadata": {
    "execution": {
     "iopub.execute_input": "2023-02-25T07:26:16.492909Z",
     "iopub.status.busy": "2023-02-25T07:26:16.492429Z",
     "iopub.status.idle": "2023-02-25T07:26:16.498458Z",
     "shell.execute_reply": "2023-02-25T07:26:16.497894Z"
    }
   },
   "outputs": [
    {
     "data": {
      "text/plain": [
       "tensor([[-0.3126, -1.0108,  1.0250],\n",
       "        [ 0.4771,  0.7780, -0.4457]])"
      ]
     },
     "execution_count": 4,
     "metadata": {},
     "output_type": "execute_result"
    }
   ],
   "source": [
    "t.a"
   ]
  },
  {
   "cell_type": "code",
   "execution_count": 5,
   "id": "c18197bd",
   "metadata": {
    "execution": {
     "iopub.execute_input": "2023-02-25T07:26:16.500938Z",
     "iopub.status.busy": "2023-02-25T07:26:16.500717Z",
     "iopub.status.idle": "2023-02-25T07:26:21.657261Z",
     "shell.execute_reply": "2023-02-25T07:26:21.656599Z"
    }
   },
   "outputs": [
    {
     "name": "stdout",
     "output_type": "stream",
     "text": [
      "63.1 ns ± 0.0352 ns per loop (mean ± std. dev. of 7 runs, 10,000,000 loops each)\n"
     ]
    }
   ],
   "source": [
    "%timeit t.a"
   ]
  },
  {
   "cell_type": "code",
   "execution_count": 6,
   "id": "bd52f867",
   "metadata": {
    "execution": {
     "iopub.execute_input": "2023-02-25T07:26:21.660341Z",
     "iopub.status.busy": "2023-02-25T07:26:21.659814Z",
     "iopub.status.idle": "2023-02-25T07:26:21.666272Z",
     "shell.execute_reply": "2023-02-25T07:26:21.665691Z"
    }
   },
   "outputs": [
    {
     "data": {
      "text/plain": [
       "<FastTreeValue 0x7f0b24619be0>\n",
       "├── 'a' --> tensor([[-1.1890, -0.4388, -1.2816],\n",
       "│                   [ 0.0095,  0.6457, -0.3663]])\n",
       "└── 'x' --> <FastTreeValue 0x7f0b24619b20>\n",
       "    └── 'c' --> tensor([[-0.1646,  1.9611,  0.0409, -1.3552],\n",
       "                        [ 0.8999,  2.3325, -1.0056,  1.8081],\n",
       "                        [ 0.2425,  1.0299, -0.9368,  0.8437]])"
      ]
     },
     "execution_count": 6,
     "metadata": {},
     "output_type": "execute_result"
    }
   ],
   "source": [
    "new_value = torch.randn(2, 3)\n",
    "t.a = new_value\n",
    "\n",
    "t"
   ]
  },
  {
   "cell_type": "code",
   "execution_count": 7,
   "id": "bbe04d1c",
   "metadata": {
    "execution": {
     "iopub.execute_input": "2023-02-25T07:26:21.668633Z",
     "iopub.status.busy": "2023-02-25T07:26:21.668297Z",
     "iopub.status.idle": "2023-02-25T07:26:26.823421Z",
     "shell.execute_reply": "2023-02-25T07:26:26.822676Z"
    }
   },
   "outputs": [
    {
     "name": "stdout",
     "output_type": "stream",
     "text": [
      "63.1 ns ± 0.0342 ns per loop (mean ± std. dev. of 7 runs, 10,000,000 loops each)\n"
     ]
    }
   ],
   "source": [
    "%timeit t.a = new_value"
   ]
  },
  {
   "cell_type": "markdown",
   "id": "48c49731",
   "metadata": {},
   "source": [
    "### Tianshou Batch's Get and Set"
   ]
  },
  {
   "cell_type": "code",
   "execution_count": 8,
   "id": "f1bb14c1",
   "metadata": {
    "execution": {
     "iopub.execute_input": "2023-02-25T07:26:26.826346Z",
     "iopub.status.busy": "2023-02-25T07:26:26.826009Z",
     "iopub.status.idle": "2023-02-25T07:26:27.153335Z",
     "shell.execute_reply": "2023-02-25T07:26:27.152681Z"
    }
   },
   "outputs": [],
   "source": [
    "from tianshou.data import Batch\n",
    "\n",
    "b = Batch(**_TREE_DATA_2)"
   ]
  },
  {
   "cell_type": "code",
   "execution_count": 9,
   "id": "cb0777c3",
   "metadata": {
    "execution": {
     "iopub.execute_input": "2023-02-25T07:26:27.156377Z",
     "iopub.status.busy": "2023-02-25T07:26:27.155874Z",
     "iopub.status.idle": "2023-02-25T07:26:27.161176Z",
     "shell.execute_reply": "2023-02-25T07:26:27.160566Z"
    }
   },
   "outputs": [
    {
     "data": {
      "text/plain": [
       "Batch(\n",
       "    a: tensor([[-0.3126, -1.0108,  1.0250],\n",
       "               [ 0.4771,  0.7780, -0.4457]]),\n",
       "    x: Batch(\n",
       "           c: tensor([[-0.1646,  1.9611,  0.0409, -1.3552],\n",
       "                      [ 0.8999,  2.3325, -1.0056,  1.8081],\n",
       "                      [ 0.2425,  1.0299, -0.9368,  0.8437]]),\n",
       "       ),\n",
       ")"
      ]
     },
     "execution_count": 9,
     "metadata": {},
     "output_type": "execute_result"
    }
   ],
   "source": [
    "b"
   ]
  },
  {
   "cell_type": "code",
   "execution_count": 10,
   "id": "43ef8ea3",
   "metadata": {
    "execution": {
     "iopub.execute_input": "2023-02-25T07:26:27.163631Z",
     "iopub.status.busy": "2023-02-25T07:26:27.163298Z",
     "iopub.status.idle": "2023-02-25T07:26:27.168498Z",
     "shell.execute_reply": "2023-02-25T07:26:27.167913Z"
    }
   },
   "outputs": [
    {
     "data": {
      "text/plain": [
       "tensor([[-0.3126, -1.0108,  1.0250],\n",
       "        [ 0.4771,  0.7780, -0.4457]])"
      ]
     },
     "execution_count": 10,
     "metadata": {},
     "output_type": "execute_result"
    }
   ],
   "source": [
    "b.a"
   ]
  },
  {
   "cell_type": "code",
   "execution_count": 11,
   "id": "b785ab72",
   "metadata": {
    "execution": {
     "iopub.execute_input": "2023-02-25T07:26:27.171025Z",
     "iopub.status.busy": "2023-02-25T07:26:27.170681Z",
     "iopub.status.idle": "2023-02-25T07:26:31.984094Z",
     "shell.execute_reply": "2023-02-25T07:26:31.983372Z"
    }
   },
   "outputs": [
    {
     "name": "stdout",
     "output_type": "stream",
     "text": [
      "59 ns ± 0.0159 ns per loop (mean ± std. dev. of 7 runs, 10,000,000 loops each)\n"
     ]
    }
   ],
   "source": [
    "%timeit b.a"
   ]
  },
  {
   "cell_type": "code",
   "execution_count": 12,
   "id": "ad54dc69",
   "metadata": {
    "execution": {
     "iopub.execute_input": "2023-02-25T07:26:31.986968Z",
     "iopub.status.busy": "2023-02-25T07:26:31.986431Z",
     "iopub.status.idle": "2023-02-25T07:26:31.992132Z",
     "shell.execute_reply": "2023-02-25T07:26:31.991523Z"
    }
   },
   "outputs": [
    {
     "data": {
      "text/plain": [
       "Batch(\n",
       "    a: tensor([[ 0.4172,  1.2879, -1.2413],\n",
       "               [ 1.5867,  0.5134, -0.7597]]),\n",
       "    x: Batch(\n",
       "           c: tensor([[-0.1646,  1.9611,  0.0409, -1.3552],\n",
       "                      [ 0.8999,  2.3325, -1.0056,  1.8081],\n",
       "                      [ 0.2425,  1.0299, -0.9368,  0.8437]]),\n",
       "       ),\n",
       ")"
      ]
     },
     "execution_count": 12,
     "metadata": {},
     "output_type": "execute_result"
    }
   ],
   "source": [
    "new_value = torch.randn(2, 3)\n",
    "b.a = new_value\n",
    "\n",
    "b"
   ]
  },
  {
   "cell_type": "code",
   "execution_count": 13,
   "id": "29b1d0bf",
   "metadata": {
    "execution": {
     "iopub.execute_input": "2023-02-25T07:26:31.994491Z",
     "iopub.status.busy": "2023-02-25T07:26:31.994153Z",
     "iopub.status.idle": "2023-02-25T07:26:35.923877Z",
     "shell.execute_reply": "2023-02-25T07:26:35.923148Z"
    }
   },
   "outputs": [
    {
     "name": "stdout",
     "output_type": "stream",
     "text": [
      "483 ns ± 0.116 ns per loop (mean ± std. dev. of 7 runs, 1,000,000 loops each)\n"
     ]
    }
   ],
   "source": [
    "%timeit b.a = new_value"
   ]
  },
  {
   "cell_type": "markdown",
   "id": "b61ad1d0",
   "metadata": {},
   "source": [
    "## Initialization"
   ]
  },
  {
   "cell_type": "markdown",
   "id": "d70f0d54",
   "metadata": {},
   "source": [
    "### TreeValue's Initialization"
   ]
  },
  {
   "cell_type": "code",
   "execution_count": 14,
   "id": "d32a679b",
   "metadata": {
    "execution": {
     "iopub.execute_input": "2023-02-25T07:26:35.926821Z",
     "iopub.status.busy": "2023-02-25T07:26:35.926310Z",
     "iopub.status.idle": "2023-02-25T07:26:42.804569Z",
     "shell.execute_reply": "2023-02-25T07:26:42.803834Z"
    }
   },
   "outputs": [
    {
     "name": "stdout",
     "output_type": "stream",
     "text": [
      "847 ns ± 0.261 ns per loop (mean ± std. dev. of 7 runs, 1,000,000 loops each)\n"
     ]
    }
   ],
   "source": [
    "%timeit FastTreeValue(_TREE_DATA_1)"
   ]
  },
  {
   "cell_type": "markdown",
   "id": "24f3707b",
   "metadata": {},
   "source": [
    "### Tianshou Batch's Initialization"
   ]
  },
  {
   "cell_type": "code",
   "execution_count": 15,
   "id": "ac3958df",
   "metadata": {
    "execution": {
     "iopub.execute_input": "2023-02-25T07:26:42.807347Z",
     "iopub.status.busy": "2023-02-25T07:26:42.806960Z",
     "iopub.status.idle": "2023-02-25T07:26:52.276151Z",
     "shell.execute_reply": "2023-02-25T07:26:52.275467Z"
    }
   },
   "outputs": [
    {
     "name": "stdout",
     "output_type": "stream",
     "text": [
      "11.7 µs ± 34.8 ns per loop (mean ± std. dev. of 7 runs, 100,000 loops each)\n"
     ]
    }
   ],
   "source": [
    "%timeit Batch(**_TREE_DATA_1)"
   ]
  },
  {
   "cell_type": "markdown",
   "id": "1ab82e2d",
   "metadata": {},
   "source": [
    "## Deep Copy Operation"
   ]
  },
  {
   "cell_type": "code",
   "execution_count": 16,
   "id": "210a9442",
   "metadata": {
    "execution": {
     "iopub.execute_input": "2023-02-25T07:26:52.279189Z",
     "iopub.status.busy": "2023-02-25T07:26:52.278815Z",
     "iopub.status.idle": "2023-02-25T07:26:52.282708Z",
     "shell.execute_reply": "2023-02-25T07:26:52.282108Z"
    }
   },
   "outputs": [],
   "source": [
    "import copy"
   ]
  },
  {
   "cell_type": "markdown",
   "id": "5a736274",
   "metadata": {},
   "source": [
    "### Deep Copy of TreeValue"
   ]
  },
  {
   "cell_type": "code",
   "execution_count": 17,
   "id": "f9bcadd6",
   "metadata": {
    "execution": {
     "iopub.execute_input": "2023-02-25T07:26:52.285347Z",
     "iopub.status.busy": "2023-02-25T07:26:52.285016Z",
     "iopub.status.idle": "2023-02-25T07:27:03.198307Z",
     "shell.execute_reply": "2023-02-25T07:27:03.197746Z"
    }
   },
   "outputs": [
    {
     "name": "stdout",
     "output_type": "stream",
     "text": [
      "135 µs ± 248 ns per loop (mean ± std. dev. of 7 runs, 10,000 loops each)\n"
     ]
    }
   ],
   "source": [
    "t3 = FastTreeValue(_TREE_DATA_3)\n",
    "%timeit copy.deepcopy(t3)"
   ]
  },
  {
   "cell_type": "markdown",
   "id": "bf8be7ea",
   "metadata": {},
   "source": [
    "### Deep Copy of Tianshou Batch"
   ]
  },
  {
   "cell_type": "code",
   "execution_count": 18,
   "id": "91998e6f",
   "metadata": {
    "execution": {
     "iopub.execute_input": "2023-02-25T07:27:03.202182Z",
     "iopub.status.busy": "2023-02-25T07:27:03.201752Z",
     "iopub.status.idle": "2023-02-25T07:27:14.354268Z",
     "shell.execute_reply": "2023-02-25T07:27:14.353688Z"
    }
   },
   "outputs": [
    {
     "name": "stdout",
     "output_type": "stream",
     "text": [
      "137 µs ± 658 ns per loop (mean ± std. dev. of 7 runs, 10,000 loops each)\n"
     ]
    }
   ],
   "source": [
    "b3 = Batch(**_TREE_DATA_3)\n",
    "%timeit copy.deepcopy(b3)"
   ]
  },
  {
   "cell_type": "markdown",
   "id": "223162fb",
   "metadata": {},
   "source": [
    "## Stack, Concat and Split Operation"
   ]
  },
  {
   "cell_type": "markdown",
   "id": "85fa4a73",
   "metadata": {},
   "source": [
    "### Performance of TreeValue"
   ]
  },
  {
   "cell_type": "code",
   "execution_count": 19,
   "id": "a0c2b697",
   "metadata": {
    "execution": {
     "iopub.execute_input": "2023-02-25T07:27:14.357531Z",
     "iopub.status.busy": "2023-02-25T07:27:14.357029Z",
     "iopub.status.idle": "2023-02-25T07:27:14.361343Z",
     "shell.execute_reply": "2023-02-25T07:27:14.360813Z"
    }
   },
   "outputs": [],
   "source": [
    "trees = [FastTreeValue(_TREE_DATA_2) for _ in range(8)]"
   ]
  },
  {
   "cell_type": "code",
   "execution_count": 20,
   "id": "017ea5a5",
   "metadata": {
    "execution": {
     "iopub.execute_input": "2023-02-25T07:27:14.364083Z",
     "iopub.status.busy": "2023-02-25T07:27:14.363856Z",
     "iopub.status.idle": "2023-02-25T07:27:14.370752Z",
     "shell.execute_reply": "2023-02-25T07:27:14.370146Z"
    }
   },
   "outputs": [
    {
     "data": {
      "text/plain": [
       "<FastTreeValue 0x7f0b24619790>\n",
       "├── 'a' --> tensor([[[-0.3126, -1.0108,  1.0250],\n",
       "│                    [ 0.4771,  0.7780, -0.4457]],\n",
       "│           \n",
       "│                   [[-0.3126, -1.0108,  1.0250],\n",
       "│                    [ 0.4771,  0.7780, -0.4457]],\n",
       "│           \n",
       "│                   [[-0.3126, -1.0108,  1.0250],\n",
       "│                    [ 0.4771,  0.7780, -0.4457]],\n",
       "│           \n",
       "│                   [[-0.3126, -1.0108,  1.0250],\n",
       "│                    [ 0.4771,  0.7780, -0.4457]],\n",
       "│           \n",
       "│                   [[-0.3126, -1.0108,  1.0250],\n",
       "│                    [ 0.4771,  0.7780, -0.4457]],\n",
       "│           \n",
       "│                   [[-0.3126, -1.0108,  1.0250],\n",
       "│                    [ 0.4771,  0.7780, -0.4457]],\n",
       "│           \n",
       "│                   [[-0.3126, -1.0108,  1.0250],\n",
       "│                    [ 0.4771,  0.7780, -0.4457]],\n",
       "│           \n",
       "│                   [[-0.3126, -1.0108,  1.0250],\n",
       "│                    [ 0.4771,  0.7780, -0.4457]]])\n",
       "└── 'x' --> <FastTreeValue 0x7f0b24619490>\n",
       "    └── 'c' --> tensor([[[-0.1646,  1.9611,  0.0409, -1.3552],\n",
       "                         [ 0.8999,  2.3325, -1.0056,  1.8081],\n",
       "                         [ 0.2425,  1.0299, -0.9368,  0.8437]],\n",
       "                \n",
       "                        [[-0.1646,  1.9611,  0.0409, -1.3552],\n",
       "                         [ 0.8999,  2.3325, -1.0056,  1.8081],\n",
       "                         [ 0.2425,  1.0299, -0.9368,  0.8437]],\n",
       "                \n",
       "                        [[-0.1646,  1.9611,  0.0409, -1.3552],\n",
       "                         [ 0.8999,  2.3325, -1.0056,  1.8081],\n",
       "                         [ 0.2425,  1.0299, -0.9368,  0.8437]],\n",
       "                \n",
       "                        [[-0.1646,  1.9611,  0.0409, -1.3552],\n",
       "                         [ 0.8999,  2.3325, -1.0056,  1.8081],\n",
       "                         [ 0.2425,  1.0299, -0.9368,  0.8437]],\n",
       "                \n",
       "                        [[-0.1646,  1.9611,  0.0409, -1.3552],\n",
       "                         [ 0.8999,  2.3325, -1.0056,  1.8081],\n",
       "                         [ 0.2425,  1.0299, -0.9368,  0.8437]],\n",
       "                \n",
       "                        [[-0.1646,  1.9611,  0.0409, -1.3552],\n",
       "                         [ 0.8999,  2.3325, -1.0056,  1.8081],\n",
       "                         [ 0.2425,  1.0299, -0.9368,  0.8437]],\n",
       "                \n",
       "                        [[-0.1646,  1.9611,  0.0409, -1.3552],\n",
       "                         [ 0.8999,  2.3325, -1.0056,  1.8081],\n",
       "                         [ 0.2425,  1.0299, -0.9368,  0.8437]],\n",
       "                \n",
       "                        [[-0.1646,  1.9611,  0.0409, -1.3552],\n",
       "                         [ 0.8999,  2.3325, -1.0056,  1.8081],\n",
       "                         [ 0.2425,  1.0299, -0.9368,  0.8437]]])"
      ]
     },
     "execution_count": 20,
     "metadata": {},
     "output_type": "execute_result"
    }
   ],
   "source": [
    "t_stack = FastTreeValue.func(subside=True)(torch.stack)\n",
    "\n",
    "t_stack(trees)"
   ]
  },
  {
   "cell_type": "code",
   "execution_count": 21,
   "id": "f8b3f415",
   "metadata": {
    "execution": {
     "iopub.execute_input": "2023-02-25T07:27:14.373064Z",
     "iopub.status.busy": "2023-02-25T07:27:14.372853Z",
     "iopub.status.idle": "2023-02-25T07:27:16.965700Z",
     "shell.execute_reply": "2023-02-25T07:27:16.964993Z"
    }
   },
   "outputs": [
    {
     "name": "stdout",
     "output_type": "stream",
     "text": [
      "31.9 µs ± 41 ns per loop (mean ± std. dev. of 7 runs, 10,000 loops each)\n"
     ]
    }
   ],
   "source": [
    "%timeit t_stack(trees)"
   ]
  },
  {
   "cell_type": "code",
   "execution_count": 22,
   "id": "94b56771",
   "metadata": {
    "execution": {
     "iopub.execute_input": "2023-02-25T07:27:16.968823Z",
     "iopub.status.busy": "2023-02-25T07:27:16.968236Z",
     "iopub.status.idle": "2023-02-25T07:27:16.976099Z",
     "shell.execute_reply": "2023-02-25T07:27:16.975526Z"
    }
   },
   "outputs": [
    {
     "data": {
      "text/plain": [
       "<FastTreeValue 0x7f0a79901940>\n",
       "├── 'a' --> tensor([[-0.3126, -1.0108,  1.0250],\n",
       "│                   [ 0.4771,  0.7780, -0.4457],\n",
       "│                   [-0.3126, -1.0108,  1.0250],\n",
       "│                   [ 0.4771,  0.7780, -0.4457],\n",
       "│                   [-0.3126, -1.0108,  1.0250],\n",
       "│                   [ 0.4771,  0.7780, -0.4457],\n",
       "│                   [-0.3126, -1.0108,  1.0250],\n",
       "│                   [ 0.4771,  0.7780, -0.4457],\n",
       "│                   [-0.3126, -1.0108,  1.0250],\n",
       "│                   [ 0.4771,  0.7780, -0.4457],\n",
       "│                   [-0.3126, -1.0108,  1.0250],\n",
       "│                   [ 0.4771,  0.7780, -0.4457],\n",
       "│                   [-0.3126, -1.0108,  1.0250],\n",
       "│                   [ 0.4771,  0.7780, -0.4457],\n",
       "│                   [-0.3126, -1.0108,  1.0250],\n",
       "│                   [ 0.4771,  0.7780, -0.4457]])\n",
       "└── 'x' --> <FastTreeValue 0x7f0a7ff8c1c0>\n",
       "    └── 'c' --> tensor([[-0.1646,  1.9611,  0.0409, -1.3552],\n",
       "                        [ 0.8999,  2.3325, -1.0056,  1.8081],\n",
       "                        [ 0.2425,  1.0299, -0.9368,  0.8437],\n",
       "                        [-0.1646,  1.9611,  0.0409, -1.3552],\n",
       "                        [ 0.8999,  2.3325, -1.0056,  1.8081],\n",
       "                        [ 0.2425,  1.0299, -0.9368,  0.8437],\n",
       "                        [-0.1646,  1.9611,  0.0409, -1.3552],\n",
       "                        [ 0.8999,  2.3325, -1.0056,  1.8081],\n",
       "                        [ 0.2425,  1.0299, -0.9368,  0.8437],\n",
       "                        [-0.1646,  1.9611,  0.0409, -1.3552],\n",
       "                        [ 0.8999,  2.3325, -1.0056,  1.8081],\n",
       "                        [ 0.2425,  1.0299, -0.9368,  0.8437],\n",
       "                        [-0.1646,  1.9611,  0.0409, -1.3552],\n",
       "                        [ 0.8999,  2.3325, -1.0056,  1.8081],\n",
       "                        [ 0.2425,  1.0299, -0.9368,  0.8437],\n",
       "                        [-0.1646,  1.9611,  0.0409, -1.3552],\n",
       "                        [ 0.8999,  2.3325, -1.0056,  1.8081],\n",
       "                        [ 0.2425,  1.0299, -0.9368,  0.8437],\n",
       "                        [-0.1646,  1.9611,  0.0409, -1.3552],\n",
       "                        [ 0.8999,  2.3325, -1.0056,  1.8081],\n",
       "                        [ 0.2425,  1.0299, -0.9368,  0.8437],\n",
       "                        [-0.1646,  1.9611,  0.0409, -1.3552],\n",
       "                        [ 0.8999,  2.3325, -1.0056,  1.8081],\n",
       "                        [ 0.2425,  1.0299, -0.9368,  0.8437]])"
      ]
     },
     "execution_count": 22,
     "metadata": {},
     "output_type": "execute_result"
    }
   ],
   "source": [
    "t_cat = FastTreeValue.func(subside=True)(torch.cat)\n",
    "\n",
    "t_cat(trees)"
   ]
  },
  {
   "cell_type": "code",
   "execution_count": 23,
   "id": "5e9c06a6",
   "metadata": {
    "execution": {
     "iopub.execute_input": "2023-02-25T07:27:16.978396Z",
     "iopub.status.busy": "2023-02-25T07:27:16.978057Z",
     "iopub.status.idle": "2023-02-25T07:27:19.400884Z",
     "shell.execute_reply": "2023-02-25T07:27:19.400152Z"
    }
   },
   "outputs": [
    {
     "name": "stdout",
     "output_type": "stream",
     "text": [
      "29.8 µs ± 41.3 ns per loop (mean ± std. dev. of 7 runs, 10,000 loops each)\n"
     ]
    }
   ],
   "source": [
    "%timeit t_cat(trees)"
   ]
  },
  {
   "cell_type": "code",
   "execution_count": 24,
   "id": "a3ab5c8f",
   "metadata": {
    "execution": {
     "iopub.execute_input": "2023-02-25T07:27:19.404005Z",
     "iopub.status.busy": "2023-02-25T07:27:19.403434Z",
     "iopub.status.idle": "2023-02-25T07:27:24.057382Z",
     "shell.execute_reply": "2023-02-25T07:27:24.056739Z"
    }
   },
   "outputs": [
    {
     "name": "stdout",
     "output_type": "stream",
     "text": [
      "57.2 µs ± 62.5 ns per loop (mean ± std. dev. of 7 runs, 10,000 loops each)\n"
     ]
    }
   ],
   "source": [
    "t_split = FastTreeValue.func(rise=True)(torch.split)\n",
    "tree = FastTreeValue({\n",
    "    'obs': torch.randn(8, 4, 84, 84),\n",
    "    'action': torch.randint(0, 6, size=(8, 1,)),\n",
    "    'reward': torch.rand(8, 1),\n",
    "})\n",
    "\n",
    "%timeit t_split(tree, 1)"
   ]
  },
  {
   "cell_type": "markdown",
   "id": "31c3ec0b",
   "metadata": {},
   "source": [
    "### Performance of Tianshou Batch"
   ]
  },
  {
   "cell_type": "code",
   "execution_count": 25,
   "id": "9ead828a",
   "metadata": {
    "execution": {
     "iopub.execute_input": "2023-02-25T07:27:24.060385Z",
     "iopub.status.busy": "2023-02-25T07:27:24.059869Z",
     "iopub.status.idle": "2023-02-25T07:27:24.067734Z",
     "shell.execute_reply": "2023-02-25T07:27:24.067171Z"
    }
   },
   "outputs": [
    {
     "data": {
      "text/plain": [
       "Batch(\n",
       "    x: Batch(\n",
       "           c: tensor([[[-0.1646,  1.9611,  0.0409, -1.3552],\n",
       "                       [ 0.8999,  2.3325, -1.0056,  1.8081],\n",
       "                       [ 0.2425,  1.0299, -0.9368,  0.8437]],\n",
       "              \n",
       "                      [[-0.1646,  1.9611,  0.0409, -1.3552],\n",
       "                       [ 0.8999,  2.3325, -1.0056,  1.8081],\n",
       "                       [ 0.2425,  1.0299, -0.9368,  0.8437]],\n",
       "              \n",
       "                      [[-0.1646,  1.9611,  0.0409, -1.3552],\n",
       "                       [ 0.8999,  2.3325, -1.0056,  1.8081],\n",
       "                       [ 0.2425,  1.0299, -0.9368,  0.8437]],\n",
       "              \n",
       "                      [[-0.1646,  1.9611,  0.0409, -1.3552],\n",
       "                       [ 0.8999,  2.3325, -1.0056,  1.8081],\n",
       "                       [ 0.2425,  1.0299, -0.9368,  0.8437]],\n",
       "              \n",
       "                      [[-0.1646,  1.9611,  0.0409, -1.3552],\n",
       "                       [ 0.8999,  2.3325, -1.0056,  1.8081],\n",
       "                       [ 0.2425,  1.0299, -0.9368,  0.8437]],\n",
       "              \n",
       "                      [[-0.1646,  1.9611,  0.0409, -1.3552],\n",
       "                       [ 0.8999,  2.3325, -1.0056,  1.8081],\n",
       "                       [ 0.2425,  1.0299, -0.9368,  0.8437]],\n",
       "              \n",
       "                      [[-0.1646,  1.9611,  0.0409, -1.3552],\n",
       "                       [ 0.8999,  2.3325, -1.0056,  1.8081],\n",
       "                       [ 0.2425,  1.0299, -0.9368,  0.8437]],\n",
       "              \n",
       "                      [[-0.1646,  1.9611,  0.0409, -1.3552],\n",
       "                       [ 0.8999,  2.3325, -1.0056,  1.8081],\n",
       "                       [ 0.2425,  1.0299, -0.9368,  0.8437]]]),\n",
       "       ),\n",
       "    a: tensor([[[-0.3126, -1.0108,  1.0250],\n",
       "                [ 0.4771,  0.7780, -0.4457]],\n",
       "       \n",
       "               [[-0.3126, -1.0108,  1.0250],\n",
       "                [ 0.4771,  0.7780, -0.4457]],\n",
       "       \n",
       "               [[-0.3126, -1.0108,  1.0250],\n",
       "                [ 0.4771,  0.7780, -0.4457]],\n",
       "       \n",
       "               [[-0.3126, -1.0108,  1.0250],\n",
       "                [ 0.4771,  0.7780, -0.4457]],\n",
       "       \n",
       "               [[-0.3126, -1.0108,  1.0250],\n",
       "                [ 0.4771,  0.7780, -0.4457]],\n",
       "       \n",
       "               [[-0.3126, -1.0108,  1.0250],\n",
       "                [ 0.4771,  0.7780, -0.4457]],\n",
       "       \n",
       "               [[-0.3126, -1.0108,  1.0250],\n",
       "                [ 0.4771,  0.7780, -0.4457]],\n",
       "       \n",
       "               [[-0.3126, -1.0108,  1.0250],\n",
       "                [ 0.4771,  0.7780, -0.4457]]]),\n",
       ")"
      ]
     },
     "execution_count": 25,
     "metadata": {},
     "output_type": "execute_result"
    }
   ],
   "source": [
    "batches = [Batch(**_TREE_DATA_2) for _ in range(8)]\n",
    "\n",
    "Batch.stack(batches)"
   ]
  },
  {
   "cell_type": "code",
   "execution_count": 26,
   "id": "ec9037a3",
   "metadata": {
    "execution": {
     "iopub.execute_input": "2023-02-25T07:27:24.070110Z",
     "iopub.status.busy": "2023-02-25T07:27:24.069758Z",
     "iopub.status.idle": "2023-02-25T07:27:30.371780Z",
     "shell.execute_reply": "2023-02-25T07:27:30.371146Z"
    }
   },
   "outputs": [
    {
     "name": "stdout",
     "output_type": "stream",
     "text": [
      "77.5 µs ± 113 ns per loop (mean ± std. dev. of 7 runs, 10,000 loops each)\n"
     ]
    }
   ],
   "source": [
    "%timeit Batch.stack(batches)"
   ]
  },
  {
   "cell_type": "code",
   "execution_count": 27,
   "id": "cb8ab77e",
   "metadata": {
    "execution": {
     "iopub.execute_input": "2023-02-25T07:27:30.374357Z",
     "iopub.status.busy": "2023-02-25T07:27:30.373998Z",
     "iopub.status.idle": "2023-02-25T07:27:30.381521Z",
     "shell.execute_reply": "2023-02-25T07:27:30.380926Z"
    }
   },
   "outputs": [
    {
     "data": {
      "text/plain": [
       "Batch(\n",
       "    x: Batch(\n",
       "           c: tensor([[-0.1646,  1.9611,  0.0409, -1.3552],\n",
       "                      [ 0.8999,  2.3325, -1.0056,  1.8081],\n",
       "                      [ 0.2425,  1.0299, -0.9368,  0.8437],\n",
       "                      [-0.1646,  1.9611,  0.0409, -1.3552],\n",
       "                      [ 0.8999,  2.3325, -1.0056,  1.8081],\n",
       "                      [ 0.2425,  1.0299, -0.9368,  0.8437],\n",
       "                      [-0.1646,  1.9611,  0.0409, -1.3552],\n",
       "                      [ 0.8999,  2.3325, -1.0056,  1.8081],\n",
       "                      [ 0.2425,  1.0299, -0.9368,  0.8437],\n",
       "                      [-0.1646,  1.9611,  0.0409, -1.3552],\n",
       "                      [ 0.8999,  2.3325, -1.0056,  1.8081],\n",
       "                      [ 0.2425,  1.0299, -0.9368,  0.8437],\n",
       "                      [-0.1646,  1.9611,  0.0409, -1.3552],\n",
       "                      [ 0.8999,  2.3325, -1.0056,  1.8081],\n",
       "                      [ 0.2425,  1.0299, -0.9368,  0.8437],\n",
       "                      [-0.1646,  1.9611,  0.0409, -1.3552],\n",
       "                      [ 0.8999,  2.3325, -1.0056,  1.8081],\n",
       "                      [ 0.2425,  1.0299, -0.9368,  0.8437],\n",
       "                      [-0.1646,  1.9611,  0.0409, -1.3552],\n",
       "                      [ 0.8999,  2.3325, -1.0056,  1.8081],\n",
       "                      [ 0.2425,  1.0299, -0.9368,  0.8437],\n",
       "                      [-0.1646,  1.9611,  0.0409, -1.3552],\n",
       "                      [ 0.8999,  2.3325, -1.0056,  1.8081],\n",
       "                      [ 0.2425,  1.0299, -0.9368,  0.8437]]),\n",
       "       ),\n",
       "    a: tensor([[-0.3126, -1.0108,  1.0250],\n",
       "               [ 0.4771,  0.7780, -0.4457],\n",
       "               [-0.3126, -1.0108,  1.0250],\n",
       "               [ 0.4771,  0.7780, -0.4457],\n",
       "               [-0.3126, -1.0108,  1.0250],\n",
       "               [ 0.4771,  0.7780, -0.4457],\n",
       "               [-0.3126, -1.0108,  1.0250],\n",
       "               [ 0.4771,  0.7780, -0.4457],\n",
       "               [-0.3126, -1.0108,  1.0250],\n",
       "               [ 0.4771,  0.7780, -0.4457],\n",
       "               [-0.3126, -1.0108,  1.0250],\n",
       "               [ 0.4771,  0.7780, -0.4457],\n",
       "               [-0.3126, -1.0108,  1.0250],\n",
       "               [ 0.4771,  0.7780, -0.4457],\n",
       "               [-0.3126, -1.0108,  1.0250],\n",
       "               [ 0.4771,  0.7780, -0.4457]]),\n",
       ")"
      ]
     },
     "execution_count": 27,
     "metadata": {},
     "output_type": "execute_result"
    }
   ],
   "source": [
    "Batch.cat(batches)"
   ]
  },
  {
   "cell_type": "code",
   "execution_count": 28,
   "id": "18dfb045",
   "metadata": {
    "execution": {
     "iopub.execute_input": "2023-02-25T07:27:30.383908Z",
     "iopub.status.busy": "2023-02-25T07:27:30.383565Z",
     "iopub.status.idle": "2023-02-25T07:27:42.099683Z",
     "shell.execute_reply": "2023-02-25T07:27:42.098906Z"
    }
   },
   "outputs": [
    {
     "name": "stdout",
     "output_type": "stream",
     "text": [
      "144 µs ± 336 ns per loop (mean ± std. dev. of 7 runs, 10,000 loops each)\n"
     ]
    }
   ],
   "source": [
    "%timeit Batch.cat(batches)"
   ]
  },
  {
   "cell_type": "code",
   "execution_count": 29,
   "id": "c6688e51",
   "metadata": {
    "execution": {
     "iopub.execute_input": "2023-02-25T07:27:42.102647Z",
     "iopub.status.busy": "2023-02-25T07:27:42.102292Z",
     "iopub.status.idle": "2023-02-25T07:27:44.637387Z",
     "shell.execute_reply": "2023-02-25T07:27:44.636819Z"
    }
   },
   "outputs": [
    {
     "name": "stdout",
     "output_type": "stream",
     "text": [
      "311 µs ± 768 ns per loop (mean ± std. dev. of 7 runs, 1,000 loops each)\n"
     ]
    }
   ],
   "source": [
    "batch = Batch({\n",
    "    'obs': torch.randn(8, 4, 84, 84),\n",
    "    'action': torch.randint(0, 6, size=(8, 1,)),\n",
    "    'reward': torch.rand(8, 1)}\n",
    ")\n",
    "\n",
    "%timeit list(Batch.split(batch, 1, shuffle=False, merge_last=True))"
   ]
  },
  {
   "cell_type": "code",
   "execution_count": null,
   "id": "2539fbd9",
   "metadata": {},
   "outputs": [],
   "source": []
  }
 ],
 "metadata": {
  "kernelspec": {
   "display_name": "Python 3 (ipykernel)",
   "language": "python",
   "name": "python3"
  },
  "language_info": {
   "codemirror_mode": {
    "name": "ipython",
    "version": 3
   },
   "file_extension": ".py",
   "mimetype": "text/x-python",
   "name": "python",
   "nbconvert_exporter": "python",
   "pygments_lexer": "ipython3",
   "version": "3.8.16"
  }
 },
 "nbformat": 4,
 "nbformat_minor": 5
}
