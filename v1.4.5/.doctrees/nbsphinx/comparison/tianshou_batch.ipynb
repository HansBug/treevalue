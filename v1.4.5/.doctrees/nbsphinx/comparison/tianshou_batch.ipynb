{
 "cells": [
  {
   "cell_type": "markdown",
   "id": "9d39d946",
   "metadata": {},
   "source": [
    "# Comparison Between TreeValue and Tianshou Batch"
   ]
  },
  {
   "cell_type": "markdown",
   "id": "3c6db2d4",
   "metadata": {},
   "source": [
    "In this section, we will take a look at the feature and performance of the [Tianshou Batch](https://github.com/thu-ml/tianshou) library, which is developed by Tsinghua Machine Learning Group."
   ]
  },
  {
   "cell_type": "markdown",
   "id": "069361b0",
   "metadata": {},
   "source": [
    "Before starting the comparison, let us define some thing."
   ]
  },
  {
   "cell_type": "code",
   "execution_count": 1,
   "id": "06fc8d26",
   "metadata": {
    "execution": {
     "iopub.execute_input": "2023-02-23T09:26:41.970639Z",
     "iopub.status.busy": "2023-02-23T09:26:41.970381Z",
     "iopub.status.idle": "2023-02-23T09:26:42.963414Z",
     "shell.execute_reply": "2023-02-23T09:26:42.962646Z"
    }
   },
   "outputs": [
    {
     "name": "stderr",
     "output_type": "stream",
     "text": [
      "/opt/hostedtoolcache/Python/3.8.16/x64/lib/python3.8/site-packages/tqdm/auto.py:22: TqdmWarning: IProgress not found. Please update jupyter and ipywidgets. See https://ipywidgets.readthedocs.io/en/stable/user_install.html\n",
      "  from .autonotebook import tqdm as notebook_tqdm\n"
     ]
    }
   ],
   "source": [
    "import torch \n",
    "\n",
    "_TREE_DATA_1 = {'a': 1, 'b': 2, 'x': {'c': 3, 'd': 4}}\n",
    "_TREE_DATA_2 = {\n",
    "    'a': torch.randn(2, 3), \n",
    "    'x': {\n",
    "        'c': torch.randn(3, 4)\n",
    "    },\n",
    "}\n",
    "_TREE_DATA_3 = {\n",
    "    'obs': torch.randn(4, 84, 84),\n",
    "    'action': torch.randint(0, 6, size=(1,)),\n",
    "    'reward': torch.rand(1),\n",
    "}"
   ]
  },
  {
   "cell_type": "markdown",
   "id": "83461b25",
   "metadata": {},
   "source": [
    "## Read and Write Operation"
   ]
  },
  {
   "cell_type": "markdown",
   "id": "067b3f73",
   "metadata": {},
   "source": [
    "Reading and writing are the two most common operations in the tree data structure based on the data model (TreeValue and Tianshou Batch both belong to this type), so this section will compare the reading and writing performance of these two libraries."
   ]
  },
  {
   "cell_type": "markdown",
   "id": "5d09a5b7",
   "metadata": {},
   "source": [
    "### TreeValue's Get and Set"
   ]
  },
  {
   "cell_type": "code",
   "execution_count": 2,
   "id": "9519c4bb",
   "metadata": {
    "execution": {
     "iopub.execute_input": "2023-02-23T09:26:42.967195Z",
     "iopub.status.busy": "2023-02-23T09:26:42.966671Z",
     "iopub.status.idle": "2023-02-23T09:26:43.001073Z",
     "shell.execute_reply": "2023-02-23T09:26:43.000409Z"
    }
   },
   "outputs": [],
   "source": [
    "from treevalue import FastTreeValue\n",
    "\n",
    "t = FastTreeValue(_TREE_DATA_2)"
   ]
  },
  {
   "cell_type": "code",
   "execution_count": 3,
   "id": "11c37677",
   "metadata": {
    "execution": {
     "iopub.execute_input": "2023-02-23T09:26:43.004455Z",
     "iopub.status.busy": "2023-02-23T09:26:43.004004Z",
     "iopub.status.idle": "2023-02-23T09:26:43.014597Z",
     "shell.execute_reply": "2023-02-23T09:26:43.013960Z"
    }
   },
   "outputs": [
    {
     "data": {
      "text/plain": [
       "<FastTreeValue 0x7f285008f070>\n",
       "├── 'a' --> tensor([[ 0.4685,  0.0923,  1.8565],\n",
       "│                   [ 0.4468,  1.4120, -1.1325]])\n",
       "└── 'x' --> <FastTreeValue 0x7f285008f580>\n",
       "    └── 'c' --> tensor([[ 0.3901, -1.8304,  1.2115,  0.6625],\n",
       "                        [-0.3824, -0.3697, -1.0808, -1.1305],\n",
       "                        [ 1.1624, -0.4730,  0.5559, -0.4295]])"
      ]
     },
     "execution_count": 3,
     "metadata": {},
     "output_type": "execute_result"
    }
   ],
   "source": [
    "t"
   ]
  },
  {
   "cell_type": "code",
   "execution_count": 4,
   "id": "fd70b0b9",
   "metadata": {
    "execution": {
     "iopub.execute_input": "2023-02-23T09:26:43.018663Z",
     "iopub.status.busy": "2023-02-23T09:26:43.018411Z",
     "iopub.status.idle": "2023-02-23T09:26:43.024899Z",
     "shell.execute_reply": "2023-02-23T09:26:43.024295Z"
    }
   },
   "outputs": [
    {
     "data": {
      "text/plain": [
       "tensor([[ 0.4685,  0.0923,  1.8565],\n",
       "        [ 0.4468,  1.4120, -1.1325]])"
      ]
     },
     "execution_count": 4,
     "metadata": {},
     "output_type": "execute_result"
    }
   ],
   "source": [
    "t.a"
   ]
  },
  {
   "cell_type": "code",
   "execution_count": 5,
   "id": "c18197bd",
   "metadata": {
    "execution": {
     "iopub.execute_input": "2023-02-23T09:26:43.028017Z",
     "iopub.status.busy": "2023-02-23T09:26:43.027489Z",
     "iopub.status.idle": "2023-02-23T09:26:48.215317Z",
     "shell.execute_reply": "2023-02-23T09:26:48.214481Z"
    }
   },
   "outputs": [
    {
     "name": "stdout",
     "output_type": "stream",
     "text": [
      "63.9 ns ± 0.0523 ns per loop (mean ± std. dev. of 7 runs, 10,000,000 loops each)\n"
     ]
    }
   ],
   "source": [
    "%timeit t.a"
   ]
  },
  {
   "cell_type": "code",
   "execution_count": 6,
   "id": "bd52f867",
   "metadata": {
    "execution": {
     "iopub.execute_input": "2023-02-23T09:26:48.218744Z",
     "iopub.status.busy": "2023-02-23T09:26:48.218170Z",
     "iopub.status.idle": "2023-02-23T09:26:48.225398Z",
     "shell.execute_reply": "2023-02-23T09:26:48.224764Z"
    }
   },
   "outputs": [
    {
     "data": {
      "text/plain": [
       "<FastTreeValue 0x7f285008f070>\n",
       "├── 'a' --> tensor([[-0.8954, -0.8344, -0.7782],\n",
       "│                   [-0.3011, -0.5655,  0.4747]])\n",
       "└── 'x' --> <FastTreeValue 0x7f285008f580>\n",
       "    └── 'c' --> tensor([[ 0.3901, -1.8304,  1.2115,  0.6625],\n",
       "                        [-0.3824, -0.3697, -1.0808, -1.1305],\n",
       "                        [ 1.1624, -0.4730,  0.5559, -0.4295]])"
      ]
     },
     "execution_count": 6,
     "metadata": {},
     "output_type": "execute_result"
    }
   ],
   "source": [
    "new_value = torch.randn(2, 3)\n",
    "t.a = new_value\n",
    "\n",
    "t"
   ]
  },
  {
   "cell_type": "code",
   "execution_count": 7,
   "id": "bbe04d1c",
   "metadata": {
    "execution": {
     "iopub.execute_input": "2023-02-23T09:26:48.228149Z",
     "iopub.status.busy": "2023-02-23T09:26:48.227602Z",
     "iopub.status.idle": "2023-02-23T09:26:53.683833Z",
     "shell.execute_reply": "2023-02-23T09:26:53.682943Z"
    }
   },
   "outputs": [
    {
     "name": "stdout",
     "output_type": "stream",
     "text": [
      "67.2 ns ± 0.0774 ns per loop (mean ± std. dev. of 7 runs, 10,000,000 loops each)\n"
     ]
    }
   ],
   "source": [
    "%timeit t.a = new_value"
   ]
  },
  {
   "cell_type": "markdown",
   "id": "48c49731",
   "metadata": {},
   "source": [
    "### Tianshou Batch's Get and Set"
   ]
  },
  {
   "cell_type": "code",
   "execution_count": 8,
   "id": "f1bb14c1",
   "metadata": {
    "execution": {
     "iopub.execute_input": "2023-02-23T09:26:53.687414Z",
     "iopub.status.busy": "2023-02-23T09:26:53.687111Z",
     "iopub.status.idle": "2023-02-23T09:26:54.065951Z",
     "shell.execute_reply": "2023-02-23T09:26:54.065159Z"
    }
   },
   "outputs": [],
   "source": [
    "from tianshou.data import Batch\n",
    "\n",
    "b = Batch(**_TREE_DATA_2)"
   ]
  },
  {
   "cell_type": "code",
   "execution_count": 9,
   "id": "cb0777c3",
   "metadata": {
    "execution": {
     "iopub.execute_input": "2023-02-23T09:26:54.069772Z",
     "iopub.status.busy": "2023-02-23T09:26:54.069257Z",
     "iopub.status.idle": "2023-02-23T09:26:54.075620Z",
     "shell.execute_reply": "2023-02-23T09:26:54.074675Z"
    }
   },
   "outputs": [
    {
     "data": {
      "text/plain": [
       "Batch(\n",
       "    a: tensor([[ 0.4685,  0.0923,  1.8565],\n",
       "               [ 0.4468,  1.4120, -1.1325]]),\n",
       "    x: Batch(\n",
       "           c: tensor([[ 0.3901, -1.8304,  1.2115,  0.6625],\n",
       "                      [-0.3824, -0.3697, -1.0808, -1.1305],\n",
       "                      [ 1.1624, -0.4730,  0.5559, -0.4295]]),\n",
       "       ),\n",
       ")"
      ]
     },
     "execution_count": 9,
     "metadata": {},
     "output_type": "execute_result"
    }
   ],
   "source": [
    "b"
   ]
  },
  {
   "cell_type": "code",
   "execution_count": 10,
   "id": "43ef8ea3",
   "metadata": {
    "execution": {
     "iopub.execute_input": "2023-02-23T09:26:54.078405Z",
     "iopub.status.busy": "2023-02-23T09:26:54.077964Z",
     "iopub.status.idle": "2023-02-23T09:26:54.083022Z",
     "shell.execute_reply": "2023-02-23T09:26:54.082343Z"
    }
   },
   "outputs": [
    {
     "data": {
      "text/plain": [
       "tensor([[ 0.4685,  0.0923,  1.8565],\n",
       "        [ 0.4468,  1.4120, -1.1325]])"
      ]
     },
     "execution_count": 10,
     "metadata": {},
     "output_type": "execute_result"
    }
   ],
   "source": [
    "b.a"
   ]
  },
  {
   "cell_type": "code",
   "execution_count": 11,
   "id": "b785ab72",
   "metadata": {
    "execution": {
     "iopub.execute_input": "2023-02-23T09:26:54.085570Z",
     "iopub.status.busy": "2023-02-23T09:26:54.085212Z",
     "iopub.status.idle": "2023-02-23T09:26:58.884862Z",
     "shell.execute_reply": "2023-02-23T09:26:58.883968Z"
    }
   },
   "outputs": [
    {
     "name": "stdout",
     "output_type": "stream",
     "text": [
      "59.1 ns ± 0.0197 ns per loop (mean ± std. dev. of 7 runs, 10,000,000 loops each)\n"
     ]
    }
   ],
   "source": [
    "%timeit b.a"
   ]
  },
  {
   "cell_type": "code",
   "execution_count": 12,
   "id": "ad54dc69",
   "metadata": {
    "execution": {
     "iopub.execute_input": "2023-02-23T09:26:58.888179Z",
     "iopub.status.busy": "2023-02-23T09:26:58.887729Z",
     "iopub.status.idle": "2023-02-23T09:26:58.895174Z",
     "shell.execute_reply": "2023-02-23T09:26:58.894104Z"
    }
   },
   "outputs": [
    {
     "data": {
      "text/plain": [
       "Batch(\n",
       "    a: tensor([[-1.2883,  2.1595, -0.8078],\n",
       "               [-1.5392, -1.3806, -1.9964]]),\n",
       "    x: Batch(\n",
       "           c: tensor([[ 0.3901, -1.8304,  1.2115,  0.6625],\n",
       "                      [-0.3824, -0.3697, -1.0808, -1.1305],\n",
       "                      [ 1.1624, -0.4730,  0.5559, -0.4295]]),\n",
       "       ),\n",
       ")"
      ]
     },
     "execution_count": 12,
     "metadata": {},
     "output_type": "execute_result"
    }
   ],
   "source": [
    "new_value = torch.randn(2, 3)\n",
    "b.a = new_value\n",
    "\n",
    "b"
   ]
  },
  {
   "cell_type": "code",
   "execution_count": 13,
   "id": "29b1d0bf",
   "metadata": {
    "execution": {
     "iopub.execute_input": "2023-02-23T09:26:58.898276Z",
     "iopub.status.busy": "2023-02-23T09:26:58.897627Z",
     "iopub.status.idle": "2023-02-23T09:27:02.883457Z",
     "shell.execute_reply": "2023-02-23T09:27:02.882627Z"
    }
   },
   "outputs": [
    {
     "name": "stdout",
     "output_type": "stream",
     "text": [
      "491 ns ± 0.0635 ns per loop (mean ± std. dev. of 7 runs, 1,000,000 loops each)\n"
     ]
    }
   ],
   "source": [
    "%timeit b.a = new_value"
   ]
  },
  {
   "cell_type": "markdown",
   "id": "b61ad1d0",
   "metadata": {},
   "source": [
    "## Initialization"
   ]
  },
  {
   "cell_type": "markdown",
   "id": "d70f0d54",
   "metadata": {},
   "source": [
    "### TreeValue's Initialization"
   ]
  },
  {
   "cell_type": "code",
   "execution_count": 14,
   "id": "d32a679b",
   "metadata": {
    "execution": {
     "iopub.execute_input": "2023-02-23T09:27:02.887067Z",
     "iopub.status.busy": "2023-02-23T09:27:02.886441Z",
     "iopub.status.idle": "2023-02-23T09:27:10.119296Z",
     "shell.execute_reply": "2023-02-23T09:27:10.118441Z"
    }
   },
   "outputs": [
    {
     "name": "stdout",
     "output_type": "stream",
     "text": [
      "890 ns ± 1.81 ns per loop (mean ± std. dev. of 7 runs, 1,000,000 loops each)\n"
     ]
    }
   ],
   "source": [
    "%timeit FastTreeValue(_TREE_DATA_1)"
   ]
  },
  {
   "cell_type": "markdown",
   "id": "24f3707b",
   "metadata": {},
   "source": [
    "### Tianshou Batch's Initialization"
   ]
  },
  {
   "cell_type": "code",
   "execution_count": 15,
   "id": "ac3958df",
   "metadata": {
    "execution": {
     "iopub.execute_input": "2023-02-23T09:27:10.122708Z",
     "iopub.status.busy": "2023-02-23T09:27:10.122149Z",
     "iopub.status.idle": "2023-02-23T09:27:18.877323Z",
     "shell.execute_reply": "2023-02-23T09:27:18.876436Z"
    }
   },
   "outputs": [
    {
     "name": "stdout",
     "output_type": "stream",
     "text": [
      "10.8 µs ± 12.9 ns per loop (mean ± std. dev. of 7 runs, 100,000 loops each)\n"
     ]
    }
   ],
   "source": [
    "%timeit Batch(**_TREE_DATA_1)"
   ]
  },
  {
   "cell_type": "markdown",
   "id": "1ab82e2d",
   "metadata": {},
   "source": [
    "## Deep Copy Operation"
   ]
  },
  {
   "cell_type": "code",
   "execution_count": 16,
   "id": "210a9442",
   "metadata": {
    "execution": {
     "iopub.execute_input": "2023-02-23T09:27:18.880880Z",
     "iopub.status.busy": "2023-02-23T09:27:18.880282Z",
     "iopub.status.idle": "2023-02-23T09:27:18.884545Z",
     "shell.execute_reply": "2023-02-23T09:27:18.883926Z"
    }
   },
   "outputs": [],
   "source": [
    "import copy"
   ]
  },
  {
   "cell_type": "markdown",
   "id": "5a736274",
   "metadata": {},
   "source": [
    "### Deep Copy of TreeValue"
   ]
  },
  {
   "cell_type": "code",
   "execution_count": 17,
   "id": "f9bcadd6",
   "metadata": {
    "execution": {
     "iopub.execute_input": "2023-02-23T09:27:18.887314Z",
     "iopub.status.busy": "2023-02-23T09:27:18.886874Z",
     "iopub.status.idle": "2023-02-23T09:27:30.503986Z",
     "shell.execute_reply": "2023-02-23T09:27:30.503131Z"
    }
   },
   "outputs": [
    {
     "name": "stdout",
     "output_type": "stream",
     "text": [
      "143 µs ± 1.46 µs per loop (mean ± std. dev. of 7 runs, 10,000 loops each)\n"
     ]
    }
   ],
   "source": [
    "t3 = FastTreeValue(_TREE_DATA_3)\n",
    "%timeit copy.deepcopy(t3)"
   ]
  },
  {
   "cell_type": "markdown",
   "id": "bf8be7ea",
   "metadata": {},
   "source": [
    "### Deep Copy of Tianshou Batch"
   ]
  },
  {
   "cell_type": "code",
   "execution_count": 18,
   "id": "91998e6f",
   "metadata": {
    "execution": {
     "iopub.execute_input": "2023-02-23T09:27:30.507442Z",
     "iopub.status.busy": "2023-02-23T09:27:30.506941Z",
     "iopub.status.idle": "2023-02-23T09:27:42.064404Z",
     "shell.execute_reply": "2023-02-23T09:27:42.063577Z"
    }
   },
   "outputs": [
    {
     "name": "stdout",
     "output_type": "stream",
     "text": [
      "142 µs ± 366 ns per loop (mean ± std. dev. of 7 runs, 10,000 loops each)\n"
     ]
    }
   ],
   "source": [
    "b3 = Batch(**_TREE_DATA_3)\n",
    "%timeit copy.deepcopy(b3)"
   ]
  },
  {
   "cell_type": "markdown",
   "id": "223162fb",
   "metadata": {},
   "source": [
    "## Stack, Concat and Split Operation"
   ]
  },
  {
   "cell_type": "markdown",
   "id": "85fa4a73",
   "metadata": {},
   "source": [
    "### Performance of TreeValue"
   ]
  },
  {
   "cell_type": "code",
   "execution_count": 19,
   "id": "a0c2b697",
   "metadata": {
    "execution": {
     "iopub.execute_input": "2023-02-23T09:27:42.068064Z",
     "iopub.status.busy": "2023-02-23T09:27:42.067629Z",
     "iopub.status.idle": "2023-02-23T09:27:42.071052Z",
     "shell.execute_reply": "2023-02-23T09:27:42.070472Z"
    }
   },
   "outputs": [],
   "source": [
    "trees = [FastTreeValue(_TREE_DATA_2) for _ in range(8)]"
   ]
  },
  {
   "cell_type": "code",
   "execution_count": 20,
   "id": "017ea5a5",
   "metadata": {
    "execution": {
     "iopub.execute_input": "2023-02-23T09:27:42.073612Z",
     "iopub.status.busy": "2023-02-23T09:27:42.073230Z",
     "iopub.status.idle": "2023-02-23T09:27:42.080168Z",
     "shell.execute_reply": "2023-02-23T09:27:42.079617Z"
    }
   },
   "outputs": [
    {
     "data": {
      "text/plain": [
       "<FastTreeValue 0x7f27a2cb38b0>\n",
       "├── 'a' --> tensor([[[ 0.4685,  0.0923,  1.8565],\n",
       "│                    [ 0.4468,  1.4120, -1.1325]],\n",
       "│           \n",
       "│                   [[ 0.4685,  0.0923,  1.8565],\n",
       "│                    [ 0.4468,  1.4120, -1.1325]],\n",
       "│           \n",
       "│                   [[ 0.4685,  0.0923,  1.8565],\n",
       "│                    [ 0.4468,  1.4120, -1.1325]],\n",
       "│           \n",
       "│                   [[ 0.4685,  0.0923,  1.8565],\n",
       "│                    [ 0.4468,  1.4120, -1.1325]],\n",
       "│           \n",
       "│                   [[ 0.4685,  0.0923,  1.8565],\n",
       "│                    [ 0.4468,  1.4120, -1.1325]],\n",
       "│           \n",
       "│                   [[ 0.4685,  0.0923,  1.8565],\n",
       "│                    [ 0.4468,  1.4120, -1.1325]],\n",
       "│           \n",
       "│                   [[ 0.4685,  0.0923,  1.8565],\n",
       "│                    [ 0.4468,  1.4120, -1.1325]],\n",
       "│           \n",
       "│                   [[ 0.4685,  0.0923,  1.8565],\n",
       "│                    [ 0.4468,  1.4120, -1.1325]]])\n",
       "└── 'x' --> <FastTreeValue 0x7f27a2cb3580>\n",
       "    └── 'c' --> tensor([[[ 0.3901, -1.8304,  1.2115,  0.6625],\n",
       "                         [-0.3824, -0.3697, -1.0808, -1.1305],\n",
       "                         [ 1.1624, -0.4730,  0.5559, -0.4295]],\n",
       "                \n",
       "                        [[ 0.3901, -1.8304,  1.2115,  0.6625],\n",
       "                         [-0.3824, -0.3697, -1.0808, -1.1305],\n",
       "                         [ 1.1624, -0.4730,  0.5559, -0.4295]],\n",
       "                \n",
       "                        [[ 0.3901, -1.8304,  1.2115,  0.6625],\n",
       "                         [-0.3824, -0.3697, -1.0808, -1.1305],\n",
       "                         [ 1.1624, -0.4730,  0.5559, -0.4295]],\n",
       "                \n",
       "                        [[ 0.3901, -1.8304,  1.2115,  0.6625],\n",
       "                         [-0.3824, -0.3697, -1.0808, -1.1305],\n",
       "                         [ 1.1624, -0.4730,  0.5559, -0.4295]],\n",
       "                \n",
       "                        [[ 0.3901, -1.8304,  1.2115,  0.6625],\n",
       "                         [-0.3824, -0.3697, -1.0808, -1.1305],\n",
       "                         [ 1.1624, -0.4730,  0.5559, -0.4295]],\n",
       "                \n",
       "                        [[ 0.3901, -1.8304,  1.2115,  0.6625],\n",
       "                         [-0.3824, -0.3697, -1.0808, -1.1305],\n",
       "                         [ 1.1624, -0.4730,  0.5559, -0.4295]],\n",
       "                \n",
       "                        [[ 0.3901, -1.8304,  1.2115,  0.6625],\n",
       "                         [-0.3824, -0.3697, -1.0808, -1.1305],\n",
       "                         [ 1.1624, -0.4730,  0.5559, -0.4295]],\n",
       "                \n",
       "                        [[ 0.3901, -1.8304,  1.2115,  0.6625],\n",
       "                         [-0.3824, -0.3697, -1.0808, -1.1305],\n",
       "                         [ 1.1624, -0.4730,  0.5559, -0.4295]]])"
      ]
     },
     "execution_count": 20,
     "metadata": {},
     "output_type": "execute_result"
    }
   ],
   "source": [
    "t_stack = FastTreeValue.func(subside=True)(torch.stack)\n",
    "\n",
    "t_stack(trees)"
   ]
  },
  {
   "cell_type": "code",
   "execution_count": 21,
   "id": "f8b3f415",
   "metadata": {
    "execution": {
     "iopub.execute_input": "2023-02-23T09:27:42.082721Z",
     "iopub.status.busy": "2023-02-23T09:27:42.082336Z",
     "iopub.status.idle": "2023-02-23T09:27:44.731852Z",
     "shell.execute_reply": "2023-02-23T09:27:44.730965Z"
    }
   },
   "outputs": [
    {
     "name": "stdout",
     "output_type": "stream",
     "text": [
      "32.6 µs ± 57.5 ns per loop (mean ± std. dev. of 7 runs, 10,000 loops each)\n"
     ]
    }
   ],
   "source": [
    "%timeit t_stack(trees)"
   ]
  },
  {
   "cell_type": "code",
   "execution_count": 22,
   "id": "94b56771",
   "metadata": {
    "execution": {
     "iopub.execute_input": "2023-02-23T09:27:44.735352Z",
     "iopub.status.busy": "2023-02-23T09:27:44.734771Z",
     "iopub.status.idle": "2023-02-23T09:27:44.743059Z",
     "shell.execute_reply": "2023-02-23T09:27:44.742421Z"
    }
   },
   "outputs": [
    {
     "data": {
      "text/plain": [
       "<FastTreeValue 0x7f2850015310>\n",
       "├── 'a' --> tensor([[ 0.4685,  0.0923,  1.8565],\n",
       "│                   [ 0.4468,  1.4120, -1.1325],\n",
       "│                   [ 0.4685,  0.0923,  1.8565],\n",
       "│                   [ 0.4468,  1.4120, -1.1325],\n",
       "│                   [ 0.4685,  0.0923,  1.8565],\n",
       "│                   [ 0.4468,  1.4120, -1.1325],\n",
       "│                   [ 0.4685,  0.0923,  1.8565],\n",
       "│                   [ 0.4468,  1.4120, -1.1325],\n",
       "│                   [ 0.4685,  0.0923,  1.8565],\n",
       "│                   [ 0.4468,  1.4120, -1.1325],\n",
       "│                   [ 0.4685,  0.0923,  1.8565],\n",
       "│                   [ 0.4468,  1.4120, -1.1325],\n",
       "│                   [ 0.4685,  0.0923,  1.8565],\n",
       "│                   [ 0.4468,  1.4120, -1.1325],\n",
       "│                   [ 0.4685,  0.0923,  1.8565],\n",
       "│                   [ 0.4468,  1.4120, -1.1325]])\n",
       "└── 'x' --> <FastTreeValue 0x7f27a2cd0f40>\n",
       "    └── 'c' --> tensor([[ 0.3901, -1.8304,  1.2115,  0.6625],\n",
       "                        [-0.3824, -0.3697, -1.0808, -1.1305],\n",
       "                        [ 1.1624, -0.4730,  0.5559, -0.4295],\n",
       "                        [ 0.3901, -1.8304,  1.2115,  0.6625],\n",
       "                        [-0.3824, -0.3697, -1.0808, -1.1305],\n",
       "                        [ 1.1624, -0.4730,  0.5559, -0.4295],\n",
       "                        [ 0.3901, -1.8304,  1.2115,  0.6625],\n",
       "                        [-0.3824, -0.3697, -1.0808, -1.1305],\n",
       "                        [ 1.1624, -0.4730,  0.5559, -0.4295],\n",
       "                        [ 0.3901, -1.8304,  1.2115,  0.6625],\n",
       "                        [-0.3824, -0.3697, -1.0808, -1.1305],\n",
       "                        [ 1.1624, -0.4730,  0.5559, -0.4295],\n",
       "                        [ 0.3901, -1.8304,  1.2115,  0.6625],\n",
       "                        [-0.3824, -0.3697, -1.0808, -1.1305],\n",
       "                        [ 1.1624, -0.4730,  0.5559, -0.4295],\n",
       "                        [ 0.3901, -1.8304,  1.2115,  0.6625],\n",
       "                        [-0.3824, -0.3697, -1.0808, -1.1305],\n",
       "                        [ 1.1624, -0.4730,  0.5559, -0.4295],\n",
       "                        [ 0.3901, -1.8304,  1.2115,  0.6625],\n",
       "                        [-0.3824, -0.3697, -1.0808, -1.1305],\n",
       "                        [ 1.1624, -0.4730,  0.5559, -0.4295],\n",
       "                        [ 0.3901, -1.8304,  1.2115,  0.6625],\n",
       "                        [-0.3824, -0.3697, -1.0808, -1.1305],\n",
       "                        [ 1.1624, -0.4730,  0.5559, -0.4295]])"
      ]
     },
     "execution_count": 22,
     "metadata": {},
     "output_type": "execute_result"
    }
   ],
   "source": [
    "t_cat = FastTreeValue.func(subside=True)(torch.cat)\n",
    "\n",
    "t_cat(trees)"
   ]
  },
  {
   "cell_type": "code",
   "execution_count": 23,
   "id": "5e9c06a6",
   "metadata": {
    "execution": {
     "iopub.execute_input": "2023-02-23T09:27:44.745896Z",
     "iopub.status.busy": "2023-02-23T09:27:44.745542Z",
     "iopub.status.idle": "2023-02-23T09:27:47.205088Z",
     "shell.execute_reply": "2023-02-23T09:27:47.203859Z"
    }
   },
   "outputs": [
    {
     "name": "stdout",
     "output_type": "stream",
     "text": [
      "30.2 µs ± 172 ns per loop (mean ± std. dev. of 7 runs, 10,000 loops each)\n"
     ]
    }
   ],
   "source": [
    "%timeit t_cat(trees)"
   ]
  },
  {
   "cell_type": "code",
   "execution_count": 24,
   "id": "a3ab5c8f",
   "metadata": {
    "execution": {
     "iopub.execute_input": "2023-02-23T09:27:47.208345Z",
     "iopub.status.busy": "2023-02-23T09:27:47.207914Z",
     "iopub.status.idle": "2023-02-23T09:27:51.648926Z",
     "shell.execute_reply": "2023-02-23T09:27:51.648084Z"
    }
   },
   "outputs": [
    {
     "name": "stdout",
     "output_type": "stream",
     "text": [
      "54.6 µs ± 55.7 ns per loop (mean ± std. dev. of 7 runs, 10,000 loops each)\n"
     ]
    }
   ],
   "source": [
    "t_split = FastTreeValue.func(rise=True)(torch.split)\n",
    "tree = FastTreeValue({\n",
    "    'obs': torch.randn(8, 4, 84, 84),\n",
    "    'action': torch.randint(0, 6, size=(8, 1,)),\n",
    "    'reward': torch.rand(8, 1),\n",
    "})\n",
    "\n",
    "%timeit t_split(tree, 1)"
   ]
  },
  {
   "cell_type": "markdown",
   "id": "31c3ec0b",
   "metadata": {},
   "source": [
    "### Performance of Tianshou Batch"
   ]
  },
  {
   "cell_type": "code",
   "execution_count": 25,
   "id": "9ead828a",
   "metadata": {
    "execution": {
     "iopub.execute_input": "2023-02-23T09:27:51.652728Z",
     "iopub.status.busy": "2023-02-23T09:27:51.652225Z",
     "iopub.status.idle": "2023-02-23T09:27:51.661475Z",
     "shell.execute_reply": "2023-02-23T09:27:51.660823Z"
    }
   },
   "outputs": [
    {
     "data": {
      "text/plain": [
       "Batch(\n",
       "    a: tensor([[[ 0.4685,  0.0923,  1.8565],\n",
       "                [ 0.4468,  1.4120, -1.1325]],\n",
       "       \n",
       "               [[ 0.4685,  0.0923,  1.8565],\n",
       "                [ 0.4468,  1.4120, -1.1325]],\n",
       "       \n",
       "               [[ 0.4685,  0.0923,  1.8565],\n",
       "                [ 0.4468,  1.4120, -1.1325]],\n",
       "       \n",
       "               [[ 0.4685,  0.0923,  1.8565],\n",
       "                [ 0.4468,  1.4120, -1.1325]],\n",
       "       \n",
       "               [[ 0.4685,  0.0923,  1.8565],\n",
       "                [ 0.4468,  1.4120, -1.1325]],\n",
       "       \n",
       "               [[ 0.4685,  0.0923,  1.8565],\n",
       "                [ 0.4468,  1.4120, -1.1325]],\n",
       "       \n",
       "               [[ 0.4685,  0.0923,  1.8565],\n",
       "                [ 0.4468,  1.4120, -1.1325]],\n",
       "       \n",
       "               [[ 0.4685,  0.0923,  1.8565],\n",
       "                [ 0.4468,  1.4120, -1.1325]]]),\n",
       "    x: Batch(\n",
       "           c: tensor([[[ 0.3901, -1.8304,  1.2115,  0.6625],\n",
       "                       [-0.3824, -0.3697, -1.0808, -1.1305],\n",
       "                       [ 1.1624, -0.4730,  0.5559, -0.4295]],\n",
       "              \n",
       "                      [[ 0.3901, -1.8304,  1.2115,  0.6625],\n",
       "                       [-0.3824, -0.3697, -1.0808, -1.1305],\n",
       "                       [ 1.1624, -0.4730,  0.5559, -0.4295]],\n",
       "              \n",
       "                      [[ 0.3901, -1.8304,  1.2115,  0.6625],\n",
       "                       [-0.3824, -0.3697, -1.0808, -1.1305],\n",
       "                       [ 1.1624, -0.4730,  0.5559, -0.4295]],\n",
       "              \n",
       "                      [[ 0.3901, -1.8304,  1.2115,  0.6625],\n",
       "                       [-0.3824, -0.3697, -1.0808, -1.1305],\n",
       "                       [ 1.1624, -0.4730,  0.5559, -0.4295]],\n",
       "              \n",
       "                      [[ 0.3901, -1.8304,  1.2115,  0.6625],\n",
       "                       [-0.3824, -0.3697, -1.0808, -1.1305],\n",
       "                       [ 1.1624, -0.4730,  0.5559, -0.4295]],\n",
       "              \n",
       "                      [[ 0.3901, -1.8304,  1.2115,  0.6625],\n",
       "                       [-0.3824, -0.3697, -1.0808, -1.1305],\n",
       "                       [ 1.1624, -0.4730,  0.5559, -0.4295]],\n",
       "              \n",
       "                      [[ 0.3901, -1.8304,  1.2115,  0.6625],\n",
       "                       [-0.3824, -0.3697, -1.0808, -1.1305],\n",
       "                       [ 1.1624, -0.4730,  0.5559, -0.4295]],\n",
       "              \n",
       "                      [[ 0.3901, -1.8304,  1.2115,  0.6625],\n",
       "                       [-0.3824, -0.3697, -1.0808, -1.1305],\n",
       "                       [ 1.1624, -0.4730,  0.5559, -0.4295]]]),\n",
       "       ),\n",
       ")"
      ]
     },
     "execution_count": 25,
     "metadata": {},
     "output_type": "execute_result"
    }
   ],
   "source": [
    "batches = [Batch(**_TREE_DATA_2) for _ in range(8)]\n",
    "\n",
    "Batch.stack(batches)"
   ]
  },
  {
   "cell_type": "code",
   "execution_count": 26,
   "id": "ec9037a3",
   "metadata": {
    "execution": {
     "iopub.execute_input": "2023-02-23T09:27:51.664586Z",
     "iopub.status.busy": "2023-02-23T09:27:51.664218Z",
     "iopub.status.idle": "2023-02-23T09:27:58.053826Z",
     "shell.execute_reply": "2023-02-23T09:27:58.052914Z"
    }
   },
   "outputs": [
    {
     "name": "stdout",
     "output_type": "stream",
     "text": [
      "78.7 µs ± 382 ns per loop (mean ± std. dev. of 7 runs, 10,000 loops each)\n"
     ]
    }
   ],
   "source": [
    "%timeit Batch.stack(batches)"
   ]
  },
  {
   "cell_type": "code",
   "execution_count": 27,
   "id": "cb8ab77e",
   "metadata": {
    "execution": {
     "iopub.execute_input": "2023-02-23T09:27:58.057408Z",
     "iopub.status.busy": "2023-02-23T09:27:58.056911Z",
     "iopub.status.idle": "2023-02-23T09:27:58.065682Z",
     "shell.execute_reply": "2023-02-23T09:27:58.064924Z"
    }
   },
   "outputs": [
    {
     "data": {
      "text/plain": [
       "Batch(\n",
       "    a: tensor([[ 0.4685,  0.0923,  1.8565],\n",
       "               [ 0.4468,  1.4120, -1.1325],\n",
       "               [ 0.4685,  0.0923,  1.8565],\n",
       "               [ 0.4468,  1.4120, -1.1325],\n",
       "               [ 0.4685,  0.0923,  1.8565],\n",
       "               [ 0.4468,  1.4120, -1.1325],\n",
       "               [ 0.4685,  0.0923,  1.8565],\n",
       "               [ 0.4468,  1.4120, -1.1325],\n",
       "               [ 0.4685,  0.0923,  1.8565],\n",
       "               [ 0.4468,  1.4120, -1.1325],\n",
       "               [ 0.4685,  0.0923,  1.8565],\n",
       "               [ 0.4468,  1.4120, -1.1325],\n",
       "               [ 0.4685,  0.0923,  1.8565],\n",
       "               [ 0.4468,  1.4120, -1.1325],\n",
       "               [ 0.4685,  0.0923,  1.8565],\n",
       "               [ 0.4468,  1.4120, -1.1325]]),\n",
       "    x: Batch(\n",
       "           c: tensor([[ 0.3901, -1.8304,  1.2115,  0.6625],\n",
       "                      [-0.3824, -0.3697, -1.0808, -1.1305],\n",
       "                      [ 1.1624, -0.4730,  0.5559, -0.4295],\n",
       "                      [ 0.3901, -1.8304,  1.2115,  0.6625],\n",
       "                      [-0.3824, -0.3697, -1.0808, -1.1305],\n",
       "                      [ 1.1624, -0.4730,  0.5559, -0.4295],\n",
       "                      [ 0.3901, -1.8304,  1.2115,  0.6625],\n",
       "                      [-0.3824, -0.3697, -1.0808, -1.1305],\n",
       "                      [ 1.1624, -0.4730,  0.5559, -0.4295],\n",
       "                      [ 0.3901, -1.8304,  1.2115,  0.6625],\n",
       "                      [-0.3824, -0.3697, -1.0808, -1.1305],\n",
       "                      [ 1.1624, -0.4730,  0.5559, -0.4295],\n",
       "                      [ 0.3901, -1.8304,  1.2115,  0.6625],\n",
       "                      [-0.3824, -0.3697, -1.0808, -1.1305],\n",
       "                      [ 1.1624, -0.4730,  0.5559, -0.4295],\n",
       "                      [ 0.3901, -1.8304,  1.2115,  0.6625],\n",
       "                      [-0.3824, -0.3697, -1.0808, -1.1305],\n",
       "                      [ 1.1624, -0.4730,  0.5559, -0.4295],\n",
       "                      [ 0.3901, -1.8304,  1.2115,  0.6625],\n",
       "                      [-0.3824, -0.3697, -1.0808, -1.1305],\n",
       "                      [ 1.1624, -0.4730,  0.5559, -0.4295],\n",
       "                      [ 0.3901, -1.8304,  1.2115,  0.6625],\n",
       "                      [-0.3824, -0.3697, -1.0808, -1.1305],\n",
       "                      [ 1.1624, -0.4730,  0.5559, -0.4295]]),\n",
       "       ),\n",
       ")"
      ]
     },
     "execution_count": 27,
     "metadata": {},
     "output_type": "execute_result"
    }
   ],
   "source": [
    "Batch.cat(batches)"
   ]
  },
  {
   "cell_type": "code",
   "execution_count": 28,
   "id": "18dfb045",
   "metadata": {
    "execution": {
     "iopub.execute_input": "2023-02-23T09:27:58.068871Z",
     "iopub.status.busy": "2023-02-23T09:27:58.068229Z",
     "iopub.status.idle": "2023-02-23T09:28:09.680031Z",
     "shell.execute_reply": "2023-02-23T09:28:09.679235Z"
    }
   },
   "outputs": [
    {
     "name": "stdout",
     "output_type": "stream",
     "text": [
      "143 µs ± 281 ns per loop (mean ± std. dev. of 7 runs, 10,000 loops each)\n"
     ]
    }
   ],
   "source": [
    "%timeit Batch.cat(batches)"
   ]
  },
  {
   "cell_type": "code",
   "execution_count": 29,
   "id": "c6688e51",
   "metadata": {
    "execution": {
     "iopub.execute_input": "2023-02-23T09:28:09.683678Z",
     "iopub.status.busy": "2023-02-23T09:28:09.683182Z",
     "iopub.status.idle": "2023-02-23T09:28:12.348089Z",
     "shell.execute_reply": "2023-02-23T09:28:12.347437Z"
    }
   },
   "outputs": [
    {
     "name": "stdout",
     "output_type": "stream",
     "text": [
      "326 µs ± 1.51 µs per loop (mean ± std. dev. of 7 runs, 1,000 loops each)\n"
     ]
    }
   ],
   "source": [
    "batch = Batch({\n",
    "    'obs': torch.randn(8, 4, 84, 84),\n",
    "    'action': torch.randint(0, 6, size=(8, 1,)),\n",
    "    'reward': torch.rand(8, 1)}\n",
    ")\n",
    "\n",
    "%timeit list(Batch.split(batch, 1, shuffle=False, merge_last=True))"
   ]
  },
  {
   "cell_type": "code",
   "execution_count": null,
   "id": "2539fbd9",
   "metadata": {},
   "outputs": [],
   "source": []
  }
 ],
 "metadata": {
  "kernelspec": {
   "display_name": "Python 3 (ipykernel)",
   "language": "python",
   "name": "python3"
  },
  "language_info": {
   "codemirror_mode": {
    "name": "ipython",
    "version": 3
   },
   "file_extension": ".py",
   "mimetype": "text/x-python",
   "name": "python",
   "nbconvert_exporter": "python",
   "pygments_lexer": "ipython3",
   "version": "3.8.16"
  }
 },
 "nbformat": 4,
 "nbformat_minor": 5
}
