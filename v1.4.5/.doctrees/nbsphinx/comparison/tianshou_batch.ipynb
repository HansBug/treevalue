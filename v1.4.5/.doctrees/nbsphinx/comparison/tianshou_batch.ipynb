{
 "cells": [
  {
   "cell_type": "markdown",
   "id": "9d39d946",
   "metadata": {},
   "source": [
    "# Comparison Between TreeValue and Tianshou Batch"
   ]
  },
  {
   "cell_type": "markdown",
   "id": "3c6db2d4",
   "metadata": {},
   "source": [
    "In this section, we will take a look at the feature and performance of the [Tianshou Batch](https://github.com/thu-ml/tianshou) library, which is developed by Tsinghua Machine Learning Group."
   ]
  },
  {
   "cell_type": "markdown",
   "id": "069361b0",
   "metadata": {},
   "source": [
    "Before starting the comparison, let us define some thing."
   ]
  },
  {
   "cell_type": "code",
   "execution_count": 1,
   "id": "06fc8d26",
   "metadata": {
    "execution": {
     "iopub.execute_input": "2023-02-25T08:48:10.908447Z",
     "iopub.status.busy": "2023-02-25T08:48:10.908155Z",
     "iopub.status.idle": "2023-02-25T08:48:12.035916Z",
     "shell.execute_reply": "2023-02-25T08:48:12.034757Z"
    }
   },
   "outputs": [
    {
     "name": "stderr",
     "output_type": "stream",
     "text": [
      "/opt/hostedtoolcache/Python/3.8.16/x64/lib/python3.8/site-packages/tqdm/auto.py:22: TqdmWarning: IProgress not found. Please update jupyter and ipywidgets. See https://ipywidgets.readthedocs.io/en/stable/user_install.html\n",
      "  from .autonotebook import tqdm as notebook_tqdm\n"
     ]
    }
   ],
   "source": [
    "import torch \n",
    "\n",
    "_TREE_DATA_1 = {'a': 1, 'b': 2, 'x': {'c': 3, 'd': 4}}\n",
    "_TREE_DATA_2 = {\n",
    "    'a': torch.randn(2, 3), \n",
    "    'x': {\n",
    "        'c': torch.randn(3, 4)\n",
    "    },\n",
    "}\n",
    "_TREE_DATA_3 = {\n",
    "    'obs': torch.randn(4, 84, 84),\n",
    "    'action': torch.randint(0, 6, size=(1,)),\n",
    "    'reward': torch.rand(1),\n",
    "}"
   ]
  },
  {
   "cell_type": "markdown",
   "id": "83461b25",
   "metadata": {},
   "source": [
    "## Read and Write Operation"
   ]
  },
  {
   "cell_type": "markdown",
   "id": "067b3f73",
   "metadata": {},
   "source": [
    "Reading and writing are the two most common operations in the tree data structure based on the data model (TreeValue and Tianshou Batch both belong to this type), so this section will compare the reading and writing performance of these two libraries."
   ]
  },
  {
   "cell_type": "markdown",
   "id": "5d09a5b7",
   "metadata": {},
   "source": [
    "### TreeValue's Get and Set"
   ]
  },
  {
   "cell_type": "code",
   "execution_count": 2,
   "id": "9519c4bb",
   "metadata": {
    "execution": {
     "iopub.execute_input": "2023-02-25T08:48:12.040994Z",
     "iopub.status.busy": "2023-02-25T08:48:12.040641Z",
     "iopub.status.idle": "2023-02-25T08:48:12.081670Z",
     "shell.execute_reply": "2023-02-25T08:48:12.080705Z"
    }
   },
   "outputs": [],
   "source": [
    "from treevalue import FastTreeValue\n",
    "\n",
    "t = FastTreeValue(_TREE_DATA_2)"
   ]
  },
  {
   "cell_type": "code",
   "execution_count": 3,
   "id": "11c37677",
   "metadata": {
    "execution": {
     "iopub.execute_input": "2023-02-25T08:48:12.086117Z",
     "iopub.status.busy": "2023-02-25T08:48:12.085426Z",
     "iopub.status.idle": "2023-02-25T08:48:12.097551Z",
     "shell.execute_reply": "2023-02-25T08:48:12.096659Z"
    }
   },
   "outputs": [
    {
     "data": {
      "text/plain": [
       "<FastTreeValue 0x7f2bf4558760>\n",
       "├── 'a' --> tensor([[-0.2771,  0.5137, -0.0743],\n",
       "│                   [-2.6599, -2.2271, -1.2832]])\n",
       "└── 'x' --> <FastTreeValue 0x7f2bf4558c70>\n",
       "    └── 'c' --> tensor([[ 0.5470, -0.2266, -0.3769,  1.9896],\n",
       "                        [-1.6044,  0.4586,  0.3797, -0.7761],\n",
       "                        [ 0.5929,  0.9527,  0.4309, -0.6402]])"
      ]
     },
     "execution_count": 3,
     "metadata": {},
     "output_type": "execute_result"
    }
   ],
   "source": [
    "t"
   ]
  },
  {
   "cell_type": "code",
   "execution_count": 4,
   "id": "fd70b0b9",
   "metadata": {
    "execution": {
     "iopub.execute_input": "2023-02-25T08:48:12.101246Z",
     "iopub.status.busy": "2023-02-25T08:48:12.100598Z",
     "iopub.status.idle": "2023-02-25T08:48:12.107509Z",
     "shell.execute_reply": "2023-02-25T08:48:12.106762Z"
    }
   },
   "outputs": [
    {
     "data": {
      "text/plain": [
       "tensor([[-0.2771,  0.5137, -0.0743],\n",
       "        [-2.6599, -2.2271, -1.2832]])"
      ]
     },
     "execution_count": 4,
     "metadata": {},
     "output_type": "execute_result"
    }
   ],
   "source": [
    "t.a"
   ]
  },
  {
   "cell_type": "code",
   "execution_count": 5,
   "id": "c18197bd",
   "metadata": {
    "execution": {
     "iopub.execute_input": "2023-02-25T08:48:12.111091Z",
     "iopub.status.busy": "2023-02-25T08:48:12.110663Z",
     "iopub.status.idle": "2023-02-25T08:48:18.094434Z",
     "shell.execute_reply": "2023-02-25T08:48:18.092642Z"
    }
   },
   "outputs": [
    {
     "name": "stdout",
     "output_type": "stream",
     "text": [
      "73.6 ns ± 0.35 ns per loop (mean ± std. dev. of 7 runs, 10,000,000 loops each)\n"
     ]
    }
   ],
   "source": [
    "%timeit t.a"
   ]
  },
  {
   "cell_type": "code",
   "execution_count": 6,
   "id": "bd52f867",
   "metadata": {
    "execution": {
     "iopub.execute_input": "2023-02-25T08:48:18.098663Z",
     "iopub.status.busy": "2023-02-25T08:48:18.098381Z",
     "iopub.status.idle": "2023-02-25T08:48:18.106490Z",
     "shell.execute_reply": "2023-02-25T08:48:18.105749Z"
    }
   },
   "outputs": [
    {
     "data": {
      "text/plain": [
       "<FastTreeValue 0x7f2bf4558760>\n",
       "├── 'a' --> tensor([[ 0.9485,  0.1010, -0.0490],\n",
       "│                   [-1.2548,  0.2206, -1.1783]])\n",
       "└── 'x' --> <FastTreeValue 0x7f2bf4558c70>\n",
       "    └── 'c' --> tensor([[ 0.5470, -0.2266, -0.3769,  1.9896],\n",
       "                        [-1.6044,  0.4586,  0.3797, -0.7761],\n",
       "                        [ 0.5929,  0.9527,  0.4309, -0.6402]])"
      ]
     },
     "execution_count": 6,
     "metadata": {},
     "output_type": "execute_result"
    }
   ],
   "source": [
    "new_value = torch.randn(2, 3)\n",
    "t.a = new_value\n",
    "\n",
    "t"
   ]
  },
  {
   "cell_type": "code",
   "execution_count": 7,
   "id": "bbe04d1c",
   "metadata": {
    "execution": {
     "iopub.execute_input": "2023-02-25T08:48:18.109766Z",
     "iopub.status.busy": "2023-02-25T08:48:18.109387Z",
     "iopub.status.idle": "2023-02-25T08:48:24.880588Z",
     "shell.execute_reply": "2023-02-25T08:48:24.879788Z"
    }
   },
   "outputs": [
    {
     "name": "stdout",
     "output_type": "stream",
     "text": [
      "83.4 ns ± 0.313 ns per loop (mean ± std. dev. of 7 runs, 10,000,000 loops each)\n"
     ]
    }
   ],
   "source": [
    "%timeit t.a = new_value"
   ]
  },
  {
   "cell_type": "markdown",
   "id": "48c49731",
   "metadata": {},
   "source": [
    "### Tianshou Batch's Get and Set"
   ]
  },
  {
   "cell_type": "code",
   "execution_count": 8,
   "id": "f1bb14c1",
   "metadata": {
    "execution": {
     "iopub.execute_input": "2023-02-25T08:48:24.885040Z",
     "iopub.status.busy": "2023-02-25T08:48:24.884482Z",
     "iopub.status.idle": "2023-02-25T08:48:25.281457Z",
     "shell.execute_reply": "2023-02-25T08:48:25.280368Z"
    }
   },
   "outputs": [],
   "source": [
    "from tianshou.data import Batch\n",
    "\n",
    "b = Batch(**_TREE_DATA_2)"
   ]
  },
  {
   "cell_type": "code",
   "execution_count": 9,
   "id": "cb0777c3",
   "metadata": {
    "execution": {
     "iopub.execute_input": "2023-02-25T08:48:25.285576Z",
     "iopub.status.busy": "2023-02-25T08:48:25.284943Z",
     "iopub.status.idle": "2023-02-25T08:48:25.292054Z",
     "shell.execute_reply": "2023-02-25T08:48:25.291361Z"
    }
   },
   "outputs": [
    {
     "data": {
      "text/plain": [
       "Batch(\n",
       "    a: tensor([[-0.2771,  0.5137, -0.0743],\n",
       "               [-2.6599, -2.2271, -1.2832]]),\n",
       "    x: Batch(\n",
       "           c: tensor([[ 0.5470, -0.2266, -0.3769,  1.9896],\n",
       "                      [-1.6044,  0.4586,  0.3797, -0.7761],\n",
       "                      [ 0.5929,  0.9527,  0.4309, -0.6402]]),\n",
       "       ),\n",
       ")"
      ]
     },
     "execution_count": 9,
     "metadata": {},
     "output_type": "execute_result"
    }
   ],
   "source": [
    "b"
   ]
  },
  {
   "cell_type": "code",
   "execution_count": 10,
   "id": "43ef8ea3",
   "metadata": {
    "execution": {
     "iopub.execute_input": "2023-02-25T08:48:25.295365Z",
     "iopub.status.busy": "2023-02-25T08:48:25.294686Z",
     "iopub.status.idle": "2023-02-25T08:48:25.301409Z",
     "shell.execute_reply": "2023-02-25T08:48:25.300218Z"
    }
   },
   "outputs": [
    {
     "data": {
      "text/plain": [
       "tensor([[-0.2771,  0.5137, -0.0743],\n",
       "        [-2.6599, -2.2271, -1.2832]])"
      ]
     },
     "execution_count": 10,
     "metadata": {},
     "output_type": "execute_result"
    }
   ],
   "source": [
    "b.a"
   ]
  },
  {
   "cell_type": "code",
   "execution_count": 11,
   "id": "b785ab72",
   "metadata": {
    "execution": {
     "iopub.execute_input": "2023-02-25T08:48:25.304575Z",
     "iopub.status.busy": "2023-02-25T08:48:25.304098Z",
     "iopub.status.idle": "2023-02-25T08:48:31.042193Z",
     "shell.execute_reply": "2023-02-25T08:48:31.041259Z"
    }
   },
   "outputs": [
    {
     "name": "stdout",
     "output_type": "stream",
     "text": [
      "70.6 ns ± 1.13 ns per loop (mean ± std. dev. of 7 runs, 10,000,000 loops each)\n"
     ]
    }
   ],
   "source": [
    "%timeit b.a"
   ]
  },
  {
   "cell_type": "code",
   "execution_count": 12,
   "id": "ad54dc69",
   "metadata": {
    "execution": {
     "iopub.execute_input": "2023-02-25T08:48:31.046253Z",
     "iopub.status.busy": "2023-02-25T08:48:31.045584Z",
     "iopub.status.idle": "2023-02-25T08:48:31.053591Z",
     "shell.execute_reply": "2023-02-25T08:48:31.052721Z"
    }
   },
   "outputs": [
    {
     "data": {
      "text/plain": [
       "Batch(\n",
       "    a: tensor([[-0.7524,  0.4018, -0.5581],\n",
       "               [-0.2780, -1.5766, -0.0258]]),\n",
       "    x: Batch(\n",
       "           c: tensor([[ 0.5470, -0.2266, -0.3769,  1.9896],\n",
       "                      [-1.6044,  0.4586,  0.3797, -0.7761],\n",
       "                      [ 0.5929,  0.9527,  0.4309, -0.6402]]),\n",
       "       ),\n",
       ")"
      ]
     },
     "execution_count": 12,
     "metadata": {},
     "output_type": "execute_result"
    }
   ],
   "source": [
    "new_value = torch.randn(2, 3)\n",
    "b.a = new_value\n",
    "\n",
    "b"
   ]
  },
  {
   "cell_type": "code",
   "execution_count": 13,
   "id": "29b1d0bf",
   "metadata": {
    "execution": {
     "iopub.execute_input": "2023-02-25T08:48:31.056856Z",
     "iopub.status.busy": "2023-02-25T08:48:31.056470Z",
     "iopub.status.idle": "2023-02-25T08:48:35.697557Z",
     "shell.execute_reply": "2023-02-25T08:48:35.696614Z"
    }
   },
   "outputs": [
    {
     "name": "stdout",
     "output_type": "stream",
     "text": [
      "571 ns ± 1.96 ns per loop (mean ± std. dev. of 7 runs, 1,000,000 loops each)\n"
     ]
    }
   ],
   "source": [
    "%timeit b.a = new_value"
   ]
  },
  {
   "cell_type": "markdown",
   "id": "b61ad1d0",
   "metadata": {},
   "source": [
    "## Initialization"
   ]
  },
  {
   "cell_type": "markdown",
   "id": "d70f0d54",
   "metadata": {},
   "source": [
    "### TreeValue's Initialization"
   ]
  },
  {
   "cell_type": "code",
   "execution_count": 14,
   "id": "d32a679b",
   "metadata": {
    "execution": {
     "iopub.execute_input": "2023-02-25T08:48:35.701440Z",
     "iopub.status.busy": "2023-02-25T08:48:35.700780Z",
     "iopub.status.idle": "2023-02-25T08:48:43.586790Z",
     "shell.execute_reply": "2023-02-25T08:48:43.585455Z"
    }
   },
   "outputs": [
    {
     "name": "stdout",
     "output_type": "stream",
     "text": [
      "971 ns ± 4.95 ns per loop (mean ± std. dev. of 7 runs, 1,000,000 loops each)\n"
     ]
    }
   ],
   "source": [
    "%timeit FastTreeValue(_TREE_DATA_1)"
   ]
  },
  {
   "cell_type": "markdown",
   "id": "24f3707b",
   "metadata": {},
   "source": [
    "### Tianshou Batch's Initialization"
   ]
  },
  {
   "cell_type": "code",
   "execution_count": 15,
   "id": "ac3958df",
   "metadata": {
    "execution": {
     "iopub.execute_input": "2023-02-25T08:48:43.591497Z",
     "iopub.status.busy": "2023-02-25T08:48:43.590860Z",
     "iopub.status.idle": "2023-02-25T08:48:53.375946Z",
     "shell.execute_reply": "2023-02-25T08:48:53.373637Z"
    }
   },
   "outputs": [
    {
     "name": "stdout",
     "output_type": "stream",
     "text": [
      "12 µs ± 197 ns per loop (mean ± std. dev. of 7 runs, 100,000 loops each)\n"
     ]
    }
   ],
   "source": [
    "%timeit Batch(**_TREE_DATA_1)"
   ]
  },
  {
   "cell_type": "markdown",
   "id": "1ab82e2d",
   "metadata": {},
   "source": [
    "## Deep Copy Operation"
   ]
  },
  {
   "cell_type": "code",
   "execution_count": 16,
   "id": "210a9442",
   "metadata": {
    "execution": {
     "iopub.execute_input": "2023-02-25T08:48:53.380980Z",
     "iopub.status.busy": "2023-02-25T08:48:53.380302Z",
     "iopub.status.idle": "2023-02-25T08:48:53.385129Z",
     "shell.execute_reply": "2023-02-25T08:48:53.384300Z"
    }
   },
   "outputs": [],
   "source": [
    "import copy"
   ]
  },
  {
   "cell_type": "markdown",
   "id": "5a736274",
   "metadata": {},
   "source": [
    "### Deep Copy of TreeValue"
   ]
  },
  {
   "cell_type": "code",
   "execution_count": 17,
   "id": "f9bcadd6",
   "metadata": {
    "execution": {
     "iopub.execute_input": "2023-02-25T08:48:53.388432Z",
     "iopub.status.busy": "2023-02-25T08:48:53.387913Z",
     "iopub.status.idle": "2023-02-25T08:49:06.613137Z",
     "shell.execute_reply": "2023-02-25T08:49:06.612413Z"
    }
   },
   "outputs": [
    {
     "name": "stdout",
     "output_type": "stream",
     "text": [
      "163 µs ± 1.1 µs per loop (mean ± std. dev. of 7 runs, 10,000 loops each)\n"
     ]
    }
   ],
   "source": [
    "t3 = FastTreeValue(_TREE_DATA_3)\n",
    "%timeit copy.deepcopy(t3)"
   ]
  },
  {
   "cell_type": "markdown",
   "id": "bf8be7ea",
   "metadata": {},
   "source": [
    "### Deep Copy of Tianshou Batch"
   ]
  },
  {
   "cell_type": "code",
   "execution_count": 18,
   "id": "91998e6f",
   "metadata": {
    "execution": {
     "iopub.execute_input": "2023-02-25T08:49:06.616403Z",
     "iopub.status.busy": "2023-02-25T08:49:06.615904Z",
     "iopub.status.idle": "2023-02-25T08:49:19.757324Z",
     "shell.execute_reply": "2023-02-25T08:49:19.756396Z"
    }
   },
   "outputs": [
    {
     "name": "stdout",
     "output_type": "stream",
     "text": [
      "162 µs ± 883 ns per loop (mean ± std. dev. of 7 runs, 10,000 loops each)\n"
     ]
    }
   ],
   "source": [
    "b3 = Batch(**_TREE_DATA_3)\n",
    "%timeit copy.deepcopy(b3)"
   ]
  },
  {
   "cell_type": "markdown",
   "id": "223162fb",
   "metadata": {},
   "source": [
    "## Stack, Concat and Split Operation"
   ]
  },
  {
   "cell_type": "markdown",
   "id": "85fa4a73",
   "metadata": {},
   "source": [
    "### Performance of TreeValue"
   ]
  },
  {
   "cell_type": "code",
   "execution_count": 19,
   "id": "a0c2b697",
   "metadata": {
    "execution": {
     "iopub.execute_input": "2023-02-25T08:49:19.761067Z",
     "iopub.status.busy": "2023-02-25T08:49:19.760412Z",
     "iopub.status.idle": "2023-02-25T08:49:19.764681Z",
     "shell.execute_reply": "2023-02-25T08:49:19.763792Z"
    }
   },
   "outputs": [],
   "source": [
    "trees = [FastTreeValue(_TREE_DATA_2) for _ in range(8)]"
   ]
  },
  {
   "cell_type": "code",
   "execution_count": 20,
   "id": "017ea5a5",
   "metadata": {
    "execution": {
     "iopub.execute_input": "2023-02-25T08:49:19.768053Z",
     "iopub.status.busy": "2023-02-25T08:49:19.767400Z",
     "iopub.status.idle": "2023-02-25T08:49:19.775570Z",
     "shell.execute_reply": "2023-02-25T08:49:19.774783Z"
    }
   },
   "outputs": [
    {
     "data": {
      "text/plain": [
       "<FastTreeValue 0x7f2b50f04760>\n",
       "├── 'a' --> tensor([[[-0.2771,  0.5137, -0.0743],\n",
       "│                    [-2.6599, -2.2271, -1.2832]],\n",
       "│           \n",
       "│                   [[-0.2771,  0.5137, -0.0743],\n",
       "│                    [-2.6599, -2.2271, -1.2832]],\n",
       "│           \n",
       "│                   [[-0.2771,  0.5137, -0.0743],\n",
       "│                    [-2.6599, -2.2271, -1.2832]],\n",
       "│           \n",
       "│                   [[-0.2771,  0.5137, -0.0743],\n",
       "│                    [-2.6599, -2.2271, -1.2832]],\n",
       "│           \n",
       "│                   [[-0.2771,  0.5137, -0.0743],\n",
       "│                    [-2.6599, -2.2271, -1.2832]],\n",
       "│           \n",
       "│                   [[-0.2771,  0.5137, -0.0743],\n",
       "│                    [-2.6599, -2.2271, -1.2832]],\n",
       "│           \n",
       "│                   [[-0.2771,  0.5137, -0.0743],\n",
       "│                    [-2.6599, -2.2271, -1.2832]],\n",
       "│           \n",
       "│                   [[-0.2771,  0.5137, -0.0743],\n",
       "│                    [-2.6599, -2.2271, -1.2832]]])\n",
       "└── 'x' --> <FastTreeValue 0x7f2bcc19c2b0>\n",
       "    └── 'c' --> tensor([[[ 0.5470, -0.2266, -0.3769,  1.9896],\n",
       "                         [-1.6044,  0.4586,  0.3797, -0.7761],\n",
       "                         [ 0.5929,  0.9527,  0.4309, -0.6402]],\n",
       "                \n",
       "                        [[ 0.5470, -0.2266, -0.3769,  1.9896],\n",
       "                         [-1.6044,  0.4586,  0.3797, -0.7761],\n",
       "                         [ 0.5929,  0.9527,  0.4309, -0.6402]],\n",
       "                \n",
       "                        [[ 0.5470, -0.2266, -0.3769,  1.9896],\n",
       "                         [-1.6044,  0.4586,  0.3797, -0.7761],\n",
       "                         [ 0.5929,  0.9527,  0.4309, -0.6402]],\n",
       "                \n",
       "                        [[ 0.5470, -0.2266, -0.3769,  1.9896],\n",
       "                         [-1.6044,  0.4586,  0.3797, -0.7761],\n",
       "                         [ 0.5929,  0.9527,  0.4309, -0.6402]],\n",
       "                \n",
       "                        [[ 0.5470, -0.2266, -0.3769,  1.9896],\n",
       "                         [-1.6044,  0.4586,  0.3797, -0.7761],\n",
       "                         [ 0.5929,  0.9527,  0.4309, -0.6402]],\n",
       "                \n",
       "                        [[ 0.5470, -0.2266, -0.3769,  1.9896],\n",
       "                         [-1.6044,  0.4586,  0.3797, -0.7761],\n",
       "                         [ 0.5929,  0.9527,  0.4309, -0.6402]],\n",
       "                \n",
       "                        [[ 0.5470, -0.2266, -0.3769,  1.9896],\n",
       "                         [-1.6044,  0.4586,  0.3797, -0.7761],\n",
       "                         [ 0.5929,  0.9527,  0.4309, -0.6402]],\n",
       "                \n",
       "                        [[ 0.5470, -0.2266, -0.3769,  1.9896],\n",
       "                         [-1.6044,  0.4586,  0.3797, -0.7761],\n",
       "                         [ 0.5929,  0.9527,  0.4309, -0.6402]]])"
      ]
     },
     "execution_count": 20,
     "metadata": {},
     "output_type": "execute_result"
    }
   ],
   "source": [
    "t_stack = FastTreeValue.func(subside=True)(torch.stack)\n",
    "\n",
    "t_stack(trees)"
   ]
  },
  {
   "cell_type": "code",
   "execution_count": 21,
   "id": "f8b3f415",
   "metadata": {
    "execution": {
     "iopub.execute_input": "2023-02-25T08:49:19.779679Z",
     "iopub.status.busy": "2023-02-25T08:49:19.778880Z",
     "iopub.status.idle": "2023-02-25T08:49:22.947850Z",
     "shell.execute_reply": "2023-02-25T08:49:22.946665Z"
    }
   },
   "outputs": [
    {
     "name": "stdout",
     "output_type": "stream",
     "text": [
      "38.9 µs ± 449 ns per loop (mean ± std. dev. of 7 runs, 10,000 loops each)\n"
     ]
    }
   ],
   "source": [
    "%timeit t_stack(trees)"
   ]
  },
  {
   "cell_type": "code",
   "execution_count": 22,
   "id": "94b56771",
   "metadata": {
    "execution": {
     "iopub.execute_input": "2023-02-25T08:49:22.951242Z",
     "iopub.status.busy": "2023-02-25T08:49:22.950769Z",
     "iopub.status.idle": "2023-02-25T08:49:22.959341Z",
     "shell.execute_reply": "2023-02-25T08:49:22.958537Z"
    }
   },
   "outputs": [
    {
     "data": {
      "text/plain": [
       "<FastTreeValue 0x7f2b4a22da00>\n",
       "├── 'a' --> tensor([[-0.2771,  0.5137, -0.0743],\n",
       "│                   [-2.6599, -2.2271, -1.2832],\n",
       "│                   [-0.2771,  0.5137, -0.0743],\n",
       "│                   [-2.6599, -2.2271, -1.2832],\n",
       "│                   [-0.2771,  0.5137, -0.0743],\n",
       "│                   [-2.6599, -2.2271, -1.2832],\n",
       "│                   [-0.2771,  0.5137, -0.0743],\n",
       "│                   [-2.6599, -2.2271, -1.2832],\n",
       "│                   [-0.2771,  0.5137, -0.0743],\n",
       "│                   [-2.6599, -2.2271, -1.2832],\n",
       "│                   [-0.2771,  0.5137, -0.0743],\n",
       "│                   [-2.6599, -2.2271, -1.2832],\n",
       "│                   [-0.2771,  0.5137, -0.0743],\n",
       "│                   [-2.6599, -2.2271, -1.2832],\n",
       "│                   [-0.2771,  0.5137, -0.0743],\n",
       "│                   [-2.6599, -2.2271, -1.2832]])\n",
       "└── 'x' --> <FastTreeValue 0x7f2b4a22d5e0>\n",
       "    └── 'c' --> tensor([[ 0.5470, -0.2266, -0.3769,  1.9896],\n",
       "                        [-1.6044,  0.4586,  0.3797, -0.7761],\n",
       "                        [ 0.5929,  0.9527,  0.4309, -0.6402],\n",
       "                        [ 0.5470, -0.2266, -0.3769,  1.9896],\n",
       "                        [-1.6044,  0.4586,  0.3797, -0.7761],\n",
       "                        [ 0.5929,  0.9527,  0.4309, -0.6402],\n",
       "                        [ 0.5470, -0.2266, -0.3769,  1.9896],\n",
       "                        [-1.6044,  0.4586,  0.3797, -0.7761],\n",
       "                        [ 0.5929,  0.9527,  0.4309, -0.6402],\n",
       "                        [ 0.5470, -0.2266, -0.3769,  1.9896],\n",
       "                        [-1.6044,  0.4586,  0.3797, -0.7761],\n",
       "                        [ 0.5929,  0.9527,  0.4309, -0.6402],\n",
       "                        [ 0.5470, -0.2266, -0.3769,  1.9896],\n",
       "                        [-1.6044,  0.4586,  0.3797, -0.7761],\n",
       "                        [ 0.5929,  0.9527,  0.4309, -0.6402],\n",
       "                        [ 0.5470, -0.2266, -0.3769,  1.9896],\n",
       "                        [-1.6044,  0.4586,  0.3797, -0.7761],\n",
       "                        [ 0.5929,  0.9527,  0.4309, -0.6402],\n",
       "                        [ 0.5470, -0.2266, -0.3769,  1.9896],\n",
       "                        [-1.6044,  0.4586,  0.3797, -0.7761],\n",
       "                        [ 0.5929,  0.9527,  0.4309, -0.6402],\n",
       "                        [ 0.5470, -0.2266, -0.3769,  1.9896],\n",
       "                        [-1.6044,  0.4586,  0.3797, -0.7761],\n",
       "                        [ 0.5929,  0.9527,  0.4309, -0.6402]])"
      ]
     },
     "execution_count": 22,
     "metadata": {},
     "output_type": "execute_result"
    }
   ],
   "source": [
    "t_cat = FastTreeValue.func(subside=True)(torch.cat)\n",
    "\n",
    "t_cat(trees)"
   ]
  },
  {
   "cell_type": "code",
   "execution_count": 23,
   "id": "5e9c06a6",
   "metadata": {
    "execution": {
     "iopub.execute_input": "2023-02-25T08:49:22.962869Z",
     "iopub.status.busy": "2023-02-25T08:49:22.962169Z",
     "iopub.status.idle": "2023-02-25T08:49:25.825404Z",
     "shell.execute_reply": "2023-02-25T08:49:25.824459Z"
    }
   },
   "outputs": [
    {
     "name": "stdout",
     "output_type": "stream",
     "text": [
      "35.1 µs ± 167 ns per loop (mean ± std. dev. of 7 runs, 10,000 loops each)\n"
     ]
    }
   ],
   "source": [
    "%timeit t_cat(trees)"
   ]
  },
  {
   "cell_type": "code",
   "execution_count": 24,
   "id": "a3ab5c8f",
   "metadata": {
    "execution": {
     "iopub.execute_input": "2023-02-25T08:49:25.829039Z",
     "iopub.status.busy": "2023-02-25T08:49:25.828587Z",
     "iopub.status.idle": "2023-02-25T08:49:31.110452Z",
     "shell.execute_reply": "2023-02-25T08:49:31.109451Z"
    }
   },
   "outputs": [
    {
     "name": "stdout",
     "output_type": "stream",
     "text": [
      "64.7 µs ± 1.36 µs per loop (mean ± std. dev. of 7 runs, 10,000 loops each)\n"
     ]
    }
   ],
   "source": [
    "t_split = FastTreeValue.func(rise=True)(torch.split)\n",
    "tree = FastTreeValue({\n",
    "    'obs': torch.randn(8, 4, 84, 84),\n",
    "    'action': torch.randint(0, 6, size=(8, 1,)),\n",
    "    'reward': torch.rand(8, 1),\n",
    "})\n",
    "\n",
    "%timeit t_split(tree, 1)"
   ]
  },
  {
   "cell_type": "markdown",
   "id": "31c3ec0b",
   "metadata": {},
   "source": [
    "### Performance of Tianshou Batch"
   ]
  },
  {
   "cell_type": "code",
   "execution_count": 25,
   "id": "9ead828a",
   "metadata": {
    "execution": {
     "iopub.execute_input": "2023-02-25T08:49:31.114277Z",
     "iopub.status.busy": "2023-02-25T08:49:31.113779Z",
     "iopub.status.idle": "2023-02-25T08:49:31.123865Z",
     "shell.execute_reply": "2023-02-25T08:49:31.123133Z"
    }
   },
   "outputs": [
    {
     "data": {
      "text/plain": [
       "Batch(\n",
       "    a: tensor([[[-0.2771,  0.5137, -0.0743],\n",
       "                [-2.6599, -2.2271, -1.2832]],\n",
       "       \n",
       "               [[-0.2771,  0.5137, -0.0743],\n",
       "                [-2.6599, -2.2271, -1.2832]],\n",
       "       \n",
       "               [[-0.2771,  0.5137, -0.0743],\n",
       "                [-2.6599, -2.2271, -1.2832]],\n",
       "       \n",
       "               [[-0.2771,  0.5137, -0.0743],\n",
       "                [-2.6599, -2.2271, -1.2832]],\n",
       "       \n",
       "               [[-0.2771,  0.5137, -0.0743],\n",
       "                [-2.6599, -2.2271, -1.2832]],\n",
       "       \n",
       "               [[-0.2771,  0.5137, -0.0743],\n",
       "                [-2.6599, -2.2271, -1.2832]],\n",
       "       \n",
       "               [[-0.2771,  0.5137, -0.0743],\n",
       "                [-2.6599, -2.2271, -1.2832]],\n",
       "       \n",
       "               [[-0.2771,  0.5137, -0.0743],\n",
       "                [-2.6599, -2.2271, -1.2832]]]),\n",
       "    x: Batch(\n",
       "           c: tensor([[[ 0.5470, -0.2266, -0.3769,  1.9896],\n",
       "                       [-1.6044,  0.4586,  0.3797, -0.7761],\n",
       "                       [ 0.5929,  0.9527,  0.4309, -0.6402]],\n",
       "              \n",
       "                      [[ 0.5470, -0.2266, -0.3769,  1.9896],\n",
       "                       [-1.6044,  0.4586,  0.3797, -0.7761],\n",
       "                       [ 0.5929,  0.9527,  0.4309, -0.6402]],\n",
       "              \n",
       "                      [[ 0.5470, -0.2266, -0.3769,  1.9896],\n",
       "                       [-1.6044,  0.4586,  0.3797, -0.7761],\n",
       "                       [ 0.5929,  0.9527,  0.4309, -0.6402]],\n",
       "              \n",
       "                      [[ 0.5470, -0.2266, -0.3769,  1.9896],\n",
       "                       [-1.6044,  0.4586,  0.3797, -0.7761],\n",
       "                       [ 0.5929,  0.9527,  0.4309, -0.6402]],\n",
       "              \n",
       "                      [[ 0.5470, -0.2266, -0.3769,  1.9896],\n",
       "                       [-1.6044,  0.4586,  0.3797, -0.7761],\n",
       "                       [ 0.5929,  0.9527,  0.4309, -0.6402]],\n",
       "              \n",
       "                      [[ 0.5470, -0.2266, -0.3769,  1.9896],\n",
       "                       [-1.6044,  0.4586,  0.3797, -0.7761],\n",
       "                       [ 0.5929,  0.9527,  0.4309, -0.6402]],\n",
       "              \n",
       "                      [[ 0.5470, -0.2266, -0.3769,  1.9896],\n",
       "                       [-1.6044,  0.4586,  0.3797, -0.7761],\n",
       "                       [ 0.5929,  0.9527,  0.4309, -0.6402]],\n",
       "              \n",
       "                      [[ 0.5470, -0.2266, -0.3769,  1.9896],\n",
       "                       [-1.6044,  0.4586,  0.3797, -0.7761],\n",
       "                       [ 0.5929,  0.9527,  0.4309, -0.6402]]]),\n",
       "       ),\n",
       ")"
      ]
     },
     "execution_count": 25,
     "metadata": {},
     "output_type": "execute_result"
    }
   ],
   "source": [
    "batches = [Batch(**_TREE_DATA_2) for _ in range(8)]\n",
    "\n",
    "Batch.stack(batches)"
   ]
  },
  {
   "cell_type": "code",
   "execution_count": 26,
   "id": "ec9037a3",
   "metadata": {
    "execution": {
     "iopub.execute_input": "2023-02-25T08:49:31.127016Z",
     "iopub.status.busy": "2023-02-25T08:49:31.126581Z",
     "iopub.status.idle": "2023-02-25T08:49:38.326914Z",
     "shell.execute_reply": "2023-02-25T08:49:38.325785Z"
    }
   },
   "outputs": [
    {
     "name": "stdout",
     "output_type": "stream",
     "text": [
      "88.7 µs ± 668 ns per loop (mean ± std. dev. of 7 runs, 10,000 loops each)\n"
     ]
    }
   ],
   "source": [
    "%timeit Batch.stack(batches)"
   ]
  },
  {
   "cell_type": "code",
   "execution_count": 27,
   "id": "cb8ab77e",
   "metadata": {
    "execution": {
     "iopub.execute_input": "2023-02-25T08:49:38.331572Z",
     "iopub.status.busy": "2023-02-25T08:49:38.330659Z",
     "iopub.status.idle": "2023-02-25T08:49:38.340061Z",
     "shell.execute_reply": "2023-02-25T08:49:38.339139Z"
    }
   },
   "outputs": [
    {
     "data": {
      "text/plain": [
       "Batch(\n",
       "    a: tensor([[-0.2771,  0.5137, -0.0743],\n",
       "               [-2.6599, -2.2271, -1.2832],\n",
       "               [-0.2771,  0.5137, -0.0743],\n",
       "               [-2.6599, -2.2271, -1.2832],\n",
       "               [-0.2771,  0.5137, -0.0743],\n",
       "               [-2.6599, -2.2271, -1.2832],\n",
       "               [-0.2771,  0.5137, -0.0743],\n",
       "               [-2.6599, -2.2271, -1.2832],\n",
       "               [-0.2771,  0.5137, -0.0743],\n",
       "               [-2.6599, -2.2271, -1.2832],\n",
       "               [-0.2771,  0.5137, -0.0743],\n",
       "               [-2.6599, -2.2271, -1.2832],\n",
       "               [-0.2771,  0.5137, -0.0743],\n",
       "               [-2.6599, -2.2271, -1.2832],\n",
       "               [-0.2771,  0.5137, -0.0743],\n",
       "               [-2.6599, -2.2271, -1.2832]]),\n",
       "    x: Batch(\n",
       "           c: tensor([[ 0.5470, -0.2266, -0.3769,  1.9896],\n",
       "                      [-1.6044,  0.4586,  0.3797, -0.7761],\n",
       "                      [ 0.5929,  0.9527,  0.4309, -0.6402],\n",
       "                      [ 0.5470, -0.2266, -0.3769,  1.9896],\n",
       "                      [-1.6044,  0.4586,  0.3797, -0.7761],\n",
       "                      [ 0.5929,  0.9527,  0.4309, -0.6402],\n",
       "                      [ 0.5470, -0.2266, -0.3769,  1.9896],\n",
       "                      [-1.6044,  0.4586,  0.3797, -0.7761],\n",
       "                      [ 0.5929,  0.9527,  0.4309, -0.6402],\n",
       "                      [ 0.5470, -0.2266, -0.3769,  1.9896],\n",
       "                      [-1.6044,  0.4586,  0.3797, -0.7761],\n",
       "                      [ 0.5929,  0.9527,  0.4309, -0.6402],\n",
       "                      [ 0.5470, -0.2266, -0.3769,  1.9896],\n",
       "                      [-1.6044,  0.4586,  0.3797, -0.7761],\n",
       "                      [ 0.5929,  0.9527,  0.4309, -0.6402],\n",
       "                      [ 0.5470, -0.2266, -0.3769,  1.9896],\n",
       "                      [-1.6044,  0.4586,  0.3797, -0.7761],\n",
       "                      [ 0.5929,  0.9527,  0.4309, -0.6402],\n",
       "                      [ 0.5470, -0.2266, -0.3769,  1.9896],\n",
       "                      [-1.6044,  0.4586,  0.3797, -0.7761],\n",
       "                      [ 0.5929,  0.9527,  0.4309, -0.6402],\n",
       "                      [ 0.5470, -0.2266, -0.3769,  1.9896],\n",
       "                      [-1.6044,  0.4586,  0.3797, -0.7761],\n",
       "                      [ 0.5929,  0.9527,  0.4309, -0.6402]]),\n",
       "       ),\n",
       ")"
      ]
     },
     "execution_count": 27,
     "metadata": {},
     "output_type": "execute_result"
    }
   ],
   "source": [
    "Batch.cat(batches)"
   ]
  },
  {
   "cell_type": "code",
   "execution_count": 28,
   "id": "18dfb045",
   "metadata": {
    "execution": {
     "iopub.execute_input": "2023-02-25T08:49:38.343269Z",
     "iopub.status.busy": "2023-02-25T08:49:38.342684Z",
     "iopub.status.idle": "2023-02-25T08:49:51.728117Z",
     "shell.execute_reply": "2023-02-25T08:49:51.726098Z"
    }
   },
   "outputs": [
    {
     "name": "stdout",
     "output_type": "stream",
     "text": [
      "164 µs ± 2.23 µs per loop (mean ± std. dev. of 7 runs, 10,000 loops each)\n"
     ]
    }
   ],
   "source": [
    "%timeit Batch.cat(batches)"
   ]
  },
  {
   "cell_type": "code",
   "execution_count": 29,
   "id": "c6688e51",
   "metadata": {
    "execution": {
     "iopub.execute_input": "2023-02-25T08:49:51.732676Z",
     "iopub.status.busy": "2023-02-25T08:49:51.732047Z",
     "iopub.status.idle": "2023-02-25T08:49:54.847554Z",
     "shell.execute_reply": "2023-02-25T08:49:54.846654Z"
    }
   },
   "outputs": [
    {
     "name": "stdout",
     "output_type": "stream",
     "text": [
      "384 µs ± 9.4 µs per loop (mean ± std. dev. of 7 runs, 1,000 loops each)\n"
     ]
    }
   ],
   "source": [
    "batch = Batch({\n",
    "    'obs': torch.randn(8, 4, 84, 84),\n",
    "    'action': torch.randint(0, 6, size=(8, 1,)),\n",
    "    'reward': torch.rand(8, 1)}\n",
    ")\n",
    "\n",
    "%timeit list(Batch.split(batch, 1, shuffle=False, merge_last=True))"
   ]
  },
  {
   "cell_type": "code",
   "execution_count": null,
   "id": "2539fbd9",
   "metadata": {},
   "outputs": [],
   "source": []
  }
 ],
 "metadata": {
  "kernelspec": {
   "display_name": "Python 3 (ipykernel)",
   "language": "python",
   "name": "python3"
  },
  "language_info": {
   "codemirror_mode": {
    "name": "ipython",
    "version": 3
   },
   "file_extension": ".py",
   "mimetype": "text/x-python",
   "name": "python",
   "nbconvert_exporter": "python",
   "pygments_lexer": "ipython3",
   "version": "3.8.16"
  }
 },
 "nbformat": 4,
 "nbformat_minor": 5
}
