{
 "cells": [
  {
   "cell_type": "markdown",
   "id": "9d39d946",
   "metadata": {},
   "source": [
    "# Comparison Between TreeValue and Tianshou Batch"
   ]
  },
  {
   "cell_type": "markdown",
   "id": "3c6db2d4",
   "metadata": {},
   "source": [
    "In this section, we will take a look at the feature and performance of the [Tianshou Batch](https://github.com/thu-ml/tianshou) library, which is developed by Tsinghua Machine Learning Group."
   ]
  },
  {
   "cell_type": "markdown",
   "id": "069361b0",
   "metadata": {},
   "source": [
    "Before starting the comparison, let us define some thing."
   ]
  },
  {
   "cell_type": "code",
   "execution_count": 1,
   "id": "06fc8d26",
   "metadata": {
    "execution": {
     "iopub.execute_input": "2023-02-27T12:22:28.028043Z",
     "iopub.status.busy": "2023-02-27T12:22:28.027500Z",
     "iopub.status.idle": "2023-02-27T12:22:29.029180Z",
     "shell.execute_reply": "2023-02-27T12:22:29.028349Z"
    }
   },
   "outputs": [
    {
     "name": "stderr",
     "output_type": "stream",
     "text": [
      "/opt/hostedtoolcache/Python/3.8.16/x64/lib/python3.8/site-packages/tqdm/auto.py:22: TqdmWarning: IProgress not found. Please update jupyter and ipywidgets. See https://ipywidgets.readthedocs.io/en/stable/user_install.html\n",
      "  from .autonotebook import tqdm as notebook_tqdm\n"
     ]
    }
   ],
   "source": [
    "import torch \n",
    "\n",
    "_TREE_DATA_1 = {'a': 1, 'b': 2, 'x': {'c': 3, 'd': 4}}\n",
    "_TREE_DATA_2 = {\n",
    "    'a': torch.randn(2, 3), \n",
    "    'x': {\n",
    "        'c': torch.randn(3, 4)\n",
    "    },\n",
    "}\n",
    "_TREE_DATA_3 = {\n",
    "    'obs': torch.randn(4, 84, 84),\n",
    "    'action': torch.randint(0, 6, size=(1,)),\n",
    "    'reward': torch.rand(1),\n",
    "}"
   ]
  },
  {
   "cell_type": "markdown",
   "id": "83461b25",
   "metadata": {},
   "source": [
    "## Read and Write Operation"
   ]
  },
  {
   "cell_type": "markdown",
   "id": "067b3f73",
   "metadata": {},
   "source": [
    "Reading and writing are the two most common operations in the tree data structure based on the data model (TreeValue and Tianshou Batch both belong to this type), so this section will compare the reading and writing performance of these two libraries."
   ]
  },
  {
   "cell_type": "markdown",
   "id": "5d09a5b7",
   "metadata": {},
   "source": [
    "### TreeValue's Get and Set"
   ]
  },
  {
   "cell_type": "code",
   "execution_count": 2,
   "id": "9519c4bb",
   "metadata": {
    "execution": {
     "iopub.execute_input": "2023-02-27T12:22:29.034047Z",
     "iopub.status.busy": "2023-02-27T12:22:29.032648Z",
     "iopub.status.idle": "2023-02-27T12:22:29.336117Z",
     "shell.execute_reply": "2023-02-27T12:22:29.335308Z"
    }
   },
   "outputs": [],
   "source": [
    "from treevalue import FastTreeValue\n",
    "\n",
    "t = FastTreeValue(_TREE_DATA_2)"
   ]
  },
  {
   "cell_type": "code",
   "execution_count": 3,
   "id": "11c37677",
   "metadata": {
    "execution": {
     "iopub.execute_input": "2023-02-27T12:22:29.339932Z",
     "iopub.status.busy": "2023-02-27T12:22:29.339471Z",
     "iopub.status.idle": "2023-02-27T12:22:29.350879Z",
     "shell.execute_reply": "2023-02-27T12:22:29.350217Z"
    }
   },
   "outputs": [
    {
     "data": {
      "text/plain": [
       "<FastTreeValue 0x7ff260da2ee0>\n",
       "├── 'a' --> tensor([[-0.1467,  1.4538,  0.1681],\n",
       "│                   [ 0.3379,  0.5104, -2.0302]])\n",
       "└── 'x' --> <FastTreeValue 0x7ff260da2f40>\n",
       "    └── 'c' --> tensor([[ 0.3295,  2.4345,  1.1758,  1.9668],\n",
       "                        [ 0.3509, -1.0403,  1.8030,  0.9048],\n",
       "                        [-1.2673, -0.1461,  0.4934, -0.9372]])"
      ]
     },
     "execution_count": 3,
     "metadata": {},
     "output_type": "execute_result"
    }
   ],
   "source": [
    "t"
   ]
  },
  {
   "cell_type": "code",
   "execution_count": 4,
   "id": "fd70b0b9",
   "metadata": {
    "execution": {
     "iopub.execute_input": "2023-02-27T12:22:29.354205Z",
     "iopub.status.busy": "2023-02-27T12:22:29.353733Z",
     "iopub.status.idle": "2023-02-27T12:22:29.360012Z",
     "shell.execute_reply": "2023-02-27T12:22:29.359380Z"
    }
   },
   "outputs": [
    {
     "data": {
      "text/plain": [
       "tensor([[-0.1467,  1.4538,  0.1681],\n",
       "        [ 0.3379,  0.5104, -2.0302]])"
      ]
     },
     "execution_count": 4,
     "metadata": {},
     "output_type": "execute_result"
    }
   ],
   "source": [
    "t.a"
   ]
  },
  {
   "cell_type": "code",
   "execution_count": 5,
   "id": "c18197bd",
   "metadata": {
    "execution": {
     "iopub.execute_input": "2023-02-27T12:22:29.363112Z",
     "iopub.status.busy": "2023-02-27T12:22:29.362575Z",
     "iopub.status.idle": "2023-02-27T12:22:34.809233Z",
     "shell.execute_reply": "2023-02-27T12:22:34.808271Z"
    }
   },
   "outputs": [
    {
     "name": "stdout",
     "output_type": "stream",
     "text": [
      "67.4 ns ± 0.0514 ns per loop (mean ± std. dev. of 7 runs, 10,000,000 loops each)\n"
     ]
    }
   ],
   "source": [
    "%timeit t.a"
   ]
  },
  {
   "cell_type": "code",
   "execution_count": 6,
   "id": "bd52f867",
   "metadata": {
    "execution": {
     "iopub.execute_input": "2023-02-27T12:22:34.812610Z",
     "iopub.status.busy": "2023-02-27T12:22:34.812197Z",
     "iopub.status.idle": "2023-02-27T12:22:34.819250Z",
     "shell.execute_reply": "2023-02-27T12:22:34.818617Z"
    }
   },
   "outputs": [
    {
     "data": {
      "text/plain": [
       "<FastTreeValue 0x7ff260da2ee0>\n",
       "├── 'a' --> tensor([[ 1.0341, -0.0723,  0.5965],\n",
       "│                   [-1.1801, -1.8352, -0.0924]])\n",
       "└── 'x' --> <FastTreeValue 0x7ff260da2f40>\n",
       "    └── 'c' --> tensor([[ 0.3295,  2.4345,  1.1758,  1.9668],\n",
       "                        [ 0.3509, -1.0403,  1.8030,  0.9048],\n",
       "                        [-1.2673, -0.1461,  0.4934, -0.9372]])"
      ]
     },
     "execution_count": 6,
     "metadata": {},
     "output_type": "execute_result"
    }
   ],
   "source": [
    "new_value = torch.randn(2, 3)\n",
    "t.a = new_value\n",
    "\n",
    "t"
   ]
  },
  {
   "cell_type": "code",
   "execution_count": 7,
   "id": "bbe04d1c",
   "metadata": {
    "execution": {
     "iopub.execute_input": "2023-02-27T12:22:34.822367Z",
     "iopub.status.busy": "2023-02-27T12:22:34.821910Z",
     "iopub.status.idle": "2023-02-27T12:22:40.384346Z",
     "shell.execute_reply": "2023-02-27T12:22:40.383407Z"
    }
   },
   "outputs": [
    {
     "name": "stdout",
     "output_type": "stream",
     "text": [
      "68.5 ns ± 0.075 ns per loop (mean ± std. dev. of 7 runs, 10,000,000 loops each)\n"
     ]
    }
   ],
   "source": [
    "%timeit t.a = new_value"
   ]
  },
  {
   "cell_type": "markdown",
   "id": "48c49731",
   "metadata": {},
   "source": [
    "### Tianshou Batch's Get and Set"
   ]
  },
  {
   "cell_type": "code",
   "execution_count": 8,
   "id": "f1bb14c1",
   "metadata": {
    "execution": {
     "iopub.execute_input": "2023-02-27T12:22:40.387986Z",
     "iopub.status.busy": "2023-02-27T12:22:40.387322Z",
     "iopub.status.idle": "2023-02-27T12:22:40.765865Z",
     "shell.execute_reply": "2023-02-27T12:22:40.765064Z"
    }
   },
   "outputs": [],
   "source": [
    "from tianshou.data import Batch\n",
    "\n",
    "b = Batch(**_TREE_DATA_2)"
   ]
  },
  {
   "cell_type": "code",
   "execution_count": 9,
   "id": "cb0777c3",
   "metadata": {
    "execution": {
     "iopub.execute_input": "2023-02-27T12:22:40.769513Z",
     "iopub.status.busy": "2023-02-27T12:22:40.769026Z",
     "iopub.status.idle": "2023-02-27T12:22:40.775855Z",
     "shell.execute_reply": "2023-02-27T12:22:40.775237Z"
    }
   },
   "outputs": [
    {
     "data": {
      "text/plain": [
       "Batch(\n",
       "    a: tensor([[-0.1467,  1.4538,  0.1681],\n",
       "               [ 0.3379,  0.5104, -2.0302]]),\n",
       "    x: Batch(\n",
       "           c: tensor([[ 0.3295,  2.4345,  1.1758,  1.9668],\n",
       "                      [ 0.3509, -1.0403,  1.8030,  0.9048],\n",
       "                      [-1.2673, -0.1461,  0.4934, -0.9372]]),\n",
       "       ),\n",
       ")"
      ]
     },
     "execution_count": 9,
     "metadata": {},
     "output_type": "execute_result"
    }
   ],
   "source": [
    "b"
   ]
  },
  {
   "cell_type": "code",
   "execution_count": 10,
   "id": "43ef8ea3",
   "metadata": {
    "execution": {
     "iopub.execute_input": "2023-02-27T12:22:40.778914Z",
     "iopub.status.busy": "2023-02-27T12:22:40.778471Z",
     "iopub.status.idle": "2023-02-27T12:22:40.784833Z",
     "shell.execute_reply": "2023-02-27T12:22:40.783629Z"
    }
   },
   "outputs": [
    {
     "data": {
      "text/plain": [
       "tensor([[-0.1467,  1.4538,  0.1681],\n",
       "        [ 0.3379,  0.5104, -2.0302]])"
      ]
     },
     "execution_count": 10,
     "metadata": {},
     "output_type": "execute_result"
    }
   ],
   "source": [
    "b.a"
   ]
  },
  {
   "cell_type": "code",
   "execution_count": 11,
   "id": "b785ab72",
   "metadata": {
    "execution": {
     "iopub.execute_input": "2023-02-27T12:22:40.787495Z",
     "iopub.status.busy": "2023-02-27T12:22:40.786959Z",
     "iopub.status.idle": "2023-02-27T12:22:45.747958Z",
     "shell.execute_reply": "2023-02-27T12:22:45.747025Z"
    }
   },
   "outputs": [
    {
     "name": "stdout",
     "output_type": "stream",
     "text": [
      "61.1 ns ± 0.0136 ns per loop (mean ± std. dev. of 7 runs, 10,000,000 loops each)\n"
     ]
    }
   ],
   "source": [
    "%timeit b.a"
   ]
  },
  {
   "cell_type": "code",
   "execution_count": 12,
   "id": "ad54dc69",
   "metadata": {
    "execution": {
     "iopub.execute_input": "2023-02-27T12:22:45.751578Z",
     "iopub.status.busy": "2023-02-27T12:22:45.751054Z",
     "iopub.status.idle": "2023-02-27T12:22:45.758112Z",
     "shell.execute_reply": "2023-02-27T12:22:45.757489Z"
    }
   },
   "outputs": [
    {
     "data": {
      "text/plain": [
       "Batch(\n",
       "    a: tensor([[ 0.2825,  0.2289, -1.2486],\n",
       "               [-1.4071,  2.3314,  0.8199]]),\n",
       "    x: Batch(\n",
       "           c: tensor([[ 0.3295,  2.4345,  1.1758,  1.9668],\n",
       "                      [ 0.3509, -1.0403,  1.8030,  0.9048],\n",
       "                      [-1.2673, -0.1461,  0.4934, -0.9372]]),\n",
       "       ),\n",
       ")"
      ]
     },
     "execution_count": 12,
     "metadata": {},
     "output_type": "execute_result"
    }
   ],
   "source": [
    "new_value = torch.randn(2, 3)\n",
    "b.a = new_value\n",
    "\n",
    "b"
   ]
  },
  {
   "cell_type": "code",
   "execution_count": 13,
   "id": "29b1d0bf",
   "metadata": {
    "execution": {
     "iopub.execute_input": "2023-02-27T12:22:45.760921Z",
     "iopub.status.busy": "2023-02-27T12:22:45.760373Z",
     "iopub.status.idle": "2023-02-27T12:22:49.865052Z",
     "shell.execute_reply": "2023-02-27T12:22:49.864198Z"
    }
   },
   "outputs": [
    {
     "name": "stdout",
     "output_type": "stream",
     "text": [
      "506 ns ± 0.1 ns per loop (mean ± std. dev. of 7 runs, 1,000,000 loops each)\n"
     ]
    }
   ],
   "source": [
    "%timeit b.a = new_value"
   ]
  },
  {
   "cell_type": "markdown",
   "id": "b61ad1d0",
   "metadata": {},
   "source": [
    "## Initialization"
   ]
  },
  {
   "cell_type": "markdown",
   "id": "d70f0d54",
   "metadata": {},
   "source": [
    "### TreeValue's Initialization"
   ]
  },
  {
   "cell_type": "code",
   "execution_count": 14,
   "id": "d32a679b",
   "metadata": {
    "execution": {
     "iopub.execute_input": "2023-02-27T12:22:49.868535Z",
     "iopub.status.busy": "2023-02-27T12:22:49.867888Z",
     "iopub.status.idle": "2023-02-27T12:22:56.487235Z",
     "shell.execute_reply": "2023-02-27T12:22:56.486311Z"
    }
   },
   "outputs": [
    {
     "name": "stdout",
     "output_type": "stream",
     "text": [
      "816 ns ± 1.33 ns per loop (mean ± std. dev. of 7 runs, 1,000,000 loops each)\n"
     ]
    }
   ],
   "source": [
    "%timeit FastTreeValue(_TREE_DATA_1)"
   ]
  },
  {
   "cell_type": "markdown",
   "id": "24f3707b",
   "metadata": {},
   "source": [
    "### Tianshou Batch's Initialization"
   ]
  },
  {
   "cell_type": "code",
   "execution_count": 15,
   "id": "ac3958df",
   "metadata": {
    "execution": {
     "iopub.execute_input": "2023-02-27T12:22:56.490379Z",
     "iopub.status.busy": "2023-02-27T12:22:56.489968Z",
     "iopub.status.idle": "2023-02-27T12:23:05.359709Z",
     "shell.execute_reply": "2023-02-27T12:23:05.358696Z"
    }
   },
   "outputs": [
    {
     "name": "stdout",
     "output_type": "stream",
     "text": [
      "10.9 µs ± 25.8 ns per loop (mean ± std. dev. of 7 runs, 100,000 loops each)\n"
     ]
    }
   ],
   "source": [
    "%timeit Batch(**_TREE_DATA_1)"
   ]
  },
  {
   "cell_type": "markdown",
   "id": "1ab82e2d",
   "metadata": {},
   "source": [
    "## Deep Copy Operation"
   ]
  },
  {
   "cell_type": "code",
   "execution_count": 16,
   "id": "210a9442",
   "metadata": {
    "execution": {
     "iopub.execute_input": "2023-02-27T12:23:05.362967Z",
     "iopub.status.busy": "2023-02-27T12:23:05.362515Z",
     "iopub.status.idle": "2023-02-27T12:23:05.366647Z",
     "shell.execute_reply": "2023-02-27T12:23:05.366019Z"
    }
   },
   "outputs": [],
   "source": [
    "import copy"
   ]
  },
  {
   "cell_type": "markdown",
   "id": "5a736274",
   "metadata": {},
   "source": [
    "### Deep Copy of TreeValue"
   ]
  },
  {
   "cell_type": "code",
   "execution_count": 17,
   "id": "f9bcadd6",
   "metadata": {
    "execution": {
     "iopub.execute_input": "2023-02-27T12:23:05.369552Z",
     "iopub.status.busy": "2023-02-27T12:23:05.368916Z",
     "iopub.status.idle": "2023-02-27T12:23:16.876820Z",
     "shell.execute_reply": "2023-02-27T12:23:16.875991Z"
    }
   },
   "outputs": [
    {
     "name": "stdout",
     "output_type": "stream",
     "text": [
      "142 µs ± 384 ns per loop (mean ± std. dev. of 7 runs, 10,000 loops each)\n"
     ]
    }
   ],
   "source": [
    "t3 = FastTreeValue(_TREE_DATA_3)\n",
    "%timeit copy.deepcopy(t3)"
   ]
  },
  {
   "cell_type": "markdown",
   "id": "bf8be7ea",
   "metadata": {},
   "source": [
    "### Deep Copy of Tianshou Batch"
   ]
  },
  {
   "cell_type": "code",
   "execution_count": 18,
   "id": "91998e6f",
   "metadata": {
    "execution": {
     "iopub.execute_input": "2023-02-27T12:23:16.880018Z",
     "iopub.status.busy": "2023-02-27T12:23:16.879602Z",
     "iopub.status.idle": "2023-02-27T12:23:28.526880Z",
     "shell.execute_reply": "2023-02-27T12:23:28.526217Z"
    }
   },
   "outputs": [
    {
     "name": "stdout",
     "output_type": "stream",
     "text": [
      "143 µs ± 598 ns per loop (mean ± std. dev. of 7 runs, 10,000 loops each)\n"
     ]
    }
   ],
   "source": [
    "b3 = Batch(**_TREE_DATA_3)\n",
    "%timeit copy.deepcopy(b3)"
   ]
  },
  {
   "cell_type": "markdown",
   "id": "223162fb",
   "metadata": {},
   "source": [
    "## Stack, Concat and Split Operation"
   ]
  },
  {
   "cell_type": "markdown",
   "id": "85fa4a73",
   "metadata": {},
   "source": [
    "### Performance of TreeValue"
   ]
  },
  {
   "cell_type": "code",
   "execution_count": 19,
   "id": "a0c2b697",
   "metadata": {
    "execution": {
     "iopub.execute_input": "2023-02-27T12:23:28.530016Z",
     "iopub.status.busy": "2023-02-27T12:23:28.529554Z",
     "iopub.status.idle": "2023-02-27T12:23:28.533001Z",
     "shell.execute_reply": "2023-02-27T12:23:28.532438Z"
    }
   },
   "outputs": [],
   "source": [
    "trees = [FastTreeValue(_TREE_DATA_2) for _ in range(8)]"
   ]
  },
  {
   "cell_type": "code",
   "execution_count": 20,
   "id": "017ea5a5",
   "metadata": {
    "execution": {
     "iopub.execute_input": "2023-02-27T12:23:28.535467Z",
     "iopub.status.busy": "2023-02-27T12:23:28.535044Z",
     "iopub.status.idle": "2023-02-27T12:23:28.542286Z",
     "shell.execute_reply": "2023-02-27T12:23:28.541734Z"
    }
   },
   "outputs": [
    {
     "data": {
      "text/plain": [
       "<FastTreeValue 0x7ff260da2d60>\n",
       "├── 'a' --> tensor([[[-0.1467,  1.4538,  0.1681],\n",
       "│                    [ 0.3379,  0.5104, -2.0302]],\n",
       "│           \n",
       "│                   [[-0.1467,  1.4538,  0.1681],\n",
       "│                    [ 0.3379,  0.5104, -2.0302]],\n",
       "│           \n",
       "│                   [[-0.1467,  1.4538,  0.1681],\n",
       "│                    [ 0.3379,  0.5104, -2.0302]],\n",
       "│           \n",
       "│                   [[-0.1467,  1.4538,  0.1681],\n",
       "│                    [ 0.3379,  0.5104, -2.0302]],\n",
       "│           \n",
       "│                   [[-0.1467,  1.4538,  0.1681],\n",
       "│                    [ 0.3379,  0.5104, -2.0302]],\n",
       "│           \n",
       "│                   [[-0.1467,  1.4538,  0.1681],\n",
       "│                    [ 0.3379,  0.5104, -2.0302]],\n",
       "│           \n",
       "│                   [[-0.1467,  1.4538,  0.1681],\n",
       "│                    [ 0.3379,  0.5104, -2.0302]],\n",
       "│           \n",
       "│                   [[-0.1467,  1.4538,  0.1681],\n",
       "│                    [ 0.3379,  0.5104, -2.0302]]])\n",
       "└── 'x' --> <FastTreeValue 0x7ff260da2d30>\n",
       "    └── 'c' --> tensor([[[ 0.3295,  2.4345,  1.1758,  1.9668],\n",
       "                         [ 0.3509, -1.0403,  1.8030,  0.9048],\n",
       "                         [-1.2673, -0.1461,  0.4934, -0.9372]],\n",
       "                \n",
       "                        [[ 0.3295,  2.4345,  1.1758,  1.9668],\n",
       "                         [ 0.3509, -1.0403,  1.8030,  0.9048],\n",
       "                         [-1.2673, -0.1461,  0.4934, -0.9372]],\n",
       "                \n",
       "                        [[ 0.3295,  2.4345,  1.1758,  1.9668],\n",
       "                         [ 0.3509, -1.0403,  1.8030,  0.9048],\n",
       "                         [-1.2673, -0.1461,  0.4934, -0.9372]],\n",
       "                \n",
       "                        [[ 0.3295,  2.4345,  1.1758,  1.9668],\n",
       "                         [ 0.3509, -1.0403,  1.8030,  0.9048],\n",
       "                         [-1.2673, -0.1461,  0.4934, -0.9372]],\n",
       "                \n",
       "                        [[ 0.3295,  2.4345,  1.1758,  1.9668],\n",
       "                         [ 0.3509, -1.0403,  1.8030,  0.9048],\n",
       "                         [-1.2673, -0.1461,  0.4934, -0.9372]],\n",
       "                \n",
       "                        [[ 0.3295,  2.4345,  1.1758,  1.9668],\n",
       "                         [ 0.3509, -1.0403,  1.8030,  0.9048],\n",
       "                         [-1.2673, -0.1461,  0.4934, -0.9372]],\n",
       "                \n",
       "                        [[ 0.3295,  2.4345,  1.1758,  1.9668],\n",
       "                         [ 0.3509, -1.0403,  1.8030,  0.9048],\n",
       "                         [-1.2673, -0.1461,  0.4934, -0.9372]],\n",
       "                \n",
       "                        [[ 0.3295,  2.4345,  1.1758,  1.9668],\n",
       "                         [ 0.3509, -1.0403,  1.8030,  0.9048],\n",
       "                         [-1.2673, -0.1461,  0.4934, -0.9372]]])"
      ]
     },
     "execution_count": 20,
     "metadata": {},
     "output_type": "execute_result"
    }
   ],
   "source": [
    "t_stack = FastTreeValue.func(subside=True)(torch.stack)\n",
    "\n",
    "t_stack(trees)"
   ]
  },
  {
   "cell_type": "code",
   "execution_count": 21,
   "id": "f8b3f415",
   "metadata": {
    "execution": {
     "iopub.execute_input": "2023-02-27T12:23:28.544794Z",
     "iopub.status.busy": "2023-02-27T12:23:28.544367Z",
     "iopub.status.idle": "2023-02-27T12:23:31.133118Z",
     "shell.execute_reply": "2023-02-27T12:23:31.132173Z"
    }
   },
   "outputs": [
    {
     "name": "stdout",
     "output_type": "stream",
     "text": [
      "31.8 µs ± 73.2 ns per loop (mean ± std. dev. of 7 runs, 10,000 loops each)\n"
     ]
    }
   ],
   "source": [
    "%timeit t_stack(trees)"
   ]
  },
  {
   "cell_type": "code",
   "execution_count": 22,
   "id": "94b56771",
   "metadata": {
    "execution": {
     "iopub.execute_input": "2023-02-27T12:23:31.136772Z",
     "iopub.status.busy": "2023-02-27T12:23:31.135998Z",
     "iopub.status.idle": "2023-02-27T12:23:31.144811Z",
     "shell.execute_reply": "2023-02-27T12:23:31.144141Z"
    }
   },
   "outputs": [
    {
     "data": {
      "text/plain": [
       "<FastTreeValue 0x7ff1a902b7f0>\n",
       "├── 'a' --> tensor([[-0.1467,  1.4538,  0.1681],\n",
       "│                   [ 0.3379,  0.5104, -2.0302],\n",
       "│                   [-0.1467,  1.4538,  0.1681],\n",
       "│                   [ 0.3379,  0.5104, -2.0302],\n",
       "│                   [-0.1467,  1.4538,  0.1681],\n",
       "│                   [ 0.3379,  0.5104, -2.0302],\n",
       "│                   [-0.1467,  1.4538,  0.1681],\n",
       "│                   [ 0.3379,  0.5104, -2.0302],\n",
       "│                   [-0.1467,  1.4538,  0.1681],\n",
       "│                   [ 0.3379,  0.5104, -2.0302],\n",
       "│                   [-0.1467,  1.4538,  0.1681],\n",
       "│                   [ 0.3379,  0.5104, -2.0302],\n",
       "│                   [-0.1467,  1.4538,  0.1681],\n",
       "│                   [ 0.3379,  0.5104, -2.0302],\n",
       "│                   [-0.1467,  1.4538,  0.1681],\n",
       "│                   [ 0.3379,  0.5104, -2.0302]])\n",
       "└── 'x' --> <FastTreeValue 0x7ff23c280a60>\n",
       "    └── 'c' --> tensor([[ 0.3295,  2.4345,  1.1758,  1.9668],\n",
       "                        [ 0.3509, -1.0403,  1.8030,  0.9048],\n",
       "                        [-1.2673, -0.1461,  0.4934, -0.9372],\n",
       "                        [ 0.3295,  2.4345,  1.1758,  1.9668],\n",
       "                        [ 0.3509, -1.0403,  1.8030,  0.9048],\n",
       "                        [-1.2673, -0.1461,  0.4934, -0.9372],\n",
       "                        [ 0.3295,  2.4345,  1.1758,  1.9668],\n",
       "                        [ 0.3509, -1.0403,  1.8030,  0.9048],\n",
       "                        [-1.2673, -0.1461,  0.4934, -0.9372],\n",
       "                        [ 0.3295,  2.4345,  1.1758,  1.9668],\n",
       "                        [ 0.3509, -1.0403,  1.8030,  0.9048],\n",
       "                        [-1.2673, -0.1461,  0.4934, -0.9372],\n",
       "                        [ 0.3295,  2.4345,  1.1758,  1.9668],\n",
       "                        [ 0.3509, -1.0403,  1.8030,  0.9048],\n",
       "                        [-1.2673, -0.1461,  0.4934, -0.9372],\n",
       "                        [ 0.3295,  2.4345,  1.1758,  1.9668],\n",
       "                        [ 0.3509, -1.0403,  1.8030,  0.9048],\n",
       "                        [-1.2673, -0.1461,  0.4934, -0.9372],\n",
       "                        [ 0.3295,  2.4345,  1.1758,  1.9668],\n",
       "                        [ 0.3509, -1.0403,  1.8030,  0.9048],\n",
       "                        [-1.2673, -0.1461,  0.4934, -0.9372],\n",
       "                        [ 0.3295,  2.4345,  1.1758,  1.9668],\n",
       "                        [ 0.3509, -1.0403,  1.8030,  0.9048],\n",
       "                        [-1.2673, -0.1461,  0.4934, -0.9372]])"
      ]
     },
     "execution_count": 22,
     "metadata": {},
     "output_type": "execute_result"
    }
   ],
   "source": [
    "t_cat = FastTreeValue.func(subside=True)(torch.cat)\n",
    "\n",
    "t_cat(trees)"
   ]
  },
  {
   "cell_type": "code",
   "execution_count": 23,
   "id": "5e9c06a6",
   "metadata": {
    "execution": {
     "iopub.execute_input": "2023-02-27T12:23:31.147826Z",
     "iopub.status.busy": "2023-02-27T12:23:31.147442Z",
     "iopub.status.idle": "2023-02-27T12:23:33.613736Z",
     "shell.execute_reply": "2023-02-27T12:23:33.612807Z"
    }
   },
   "outputs": [
    {
     "name": "stdout",
     "output_type": "stream",
     "text": [
      "30.3 µs ± 99.4 ns per loop (mean ± std. dev. of 7 runs, 10,000 loops each)\n"
     ]
    }
   ],
   "source": [
    "%timeit t_cat(trees)"
   ]
  },
  {
   "cell_type": "code",
   "execution_count": 24,
   "id": "a3ab5c8f",
   "metadata": {
    "execution": {
     "iopub.execute_input": "2023-02-27T12:23:33.617023Z",
     "iopub.status.busy": "2023-02-27T12:23:33.616642Z",
     "iopub.status.idle": "2023-02-27T12:23:38.253635Z",
     "shell.execute_reply": "2023-02-27T12:23:38.252717Z"
    }
   },
   "outputs": [
    {
     "name": "stdout",
     "output_type": "stream",
     "text": [
      "57 µs ± 239 ns per loop (mean ± std. dev. of 7 runs, 10,000 loops each)\n"
     ]
    }
   ],
   "source": [
    "t_split = FastTreeValue.func(rise=True)(torch.split)\n",
    "tree = FastTreeValue({\n",
    "    'obs': torch.randn(8, 4, 84, 84),\n",
    "    'action': torch.randint(0, 6, size=(8, 1,)),\n",
    "    'reward': torch.rand(8, 1),\n",
    "})\n",
    "\n",
    "%timeit t_split(tree, 1)"
   ]
  },
  {
   "cell_type": "markdown",
   "id": "31c3ec0b",
   "metadata": {},
   "source": [
    "### Performance of Tianshou Batch"
   ]
  },
  {
   "cell_type": "code",
   "execution_count": 25,
   "id": "9ead828a",
   "metadata": {
    "execution": {
     "iopub.execute_input": "2023-02-27T12:23:38.257476Z",
     "iopub.status.busy": "2023-02-27T12:23:38.256835Z",
     "iopub.status.idle": "2023-02-27T12:23:38.265869Z",
     "shell.execute_reply": "2023-02-27T12:23:38.265218Z"
    }
   },
   "outputs": [
    {
     "data": {
      "text/plain": [
       "Batch(\n",
       "    a: tensor([[[-0.1467,  1.4538,  0.1681],\n",
       "                [ 0.3379,  0.5104, -2.0302]],\n",
       "       \n",
       "               [[-0.1467,  1.4538,  0.1681],\n",
       "                [ 0.3379,  0.5104, -2.0302]],\n",
       "       \n",
       "               [[-0.1467,  1.4538,  0.1681],\n",
       "                [ 0.3379,  0.5104, -2.0302]],\n",
       "       \n",
       "               [[-0.1467,  1.4538,  0.1681],\n",
       "                [ 0.3379,  0.5104, -2.0302]],\n",
       "       \n",
       "               [[-0.1467,  1.4538,  0.1681],\n",
       "                [ 0.3379,  0.5104, -2.0302]],\n",
       "       \n",
       "               [[-0.1467,  1.4538,  0.1681],\n",
       "                [ 0.3379,  0.5104, -2.0302]],\n",
       "       \n",
       "               [[-0.1467,  1.4538,  0.1681],\n",
       "                [ 0.3379,  0.5104, -2.0302]],\n",
       "       \n",
       "               [[-0.1467,  1.4538,  0.1681],\n",
       "                [ 0.3379,  0.5104, -2.0302]]]),\n",
       "    x: Batch(\n",
       "           c: tensor([[[ 0.3295,  2.4345,  1.1758,  1.9668],\n",
       "                       [ 0.3509, -1.0403,  1.8030,  0.9048],\n",
       "                       [-1.2673, -0.1461,  0.4934, -0.9372]],\n",
       "              \n",
       "                      [[ 0.3295,  2.4345,  1.1758,  1.9668],\n",
       "                       [ 0.3509, -1.0403,  1.8030,  0.9048],\n",
       "                       [-1.2673, -0.1461,  0.4934, -0.9372]],\n",
       "              \n",
       "                      [[ 0.3295,  2.4345,  1.1758,  1.9668],\n",
       "                       [ 0.3509, -1.0403,  1.8030,  0.9048],\n",
       "                       [-1.2673, -0.1461,  0.4934, -0.9372]],\n",
       "              \n",
       "                      [[ 0.3295,  2.4345,  1.1758,  1.9668],\n",
       "                       [ 0.3509, -1.0403,  1.8030,  0.9048],\n",
       "                       [-1.2673, -0.1461,  0.4934, -0.9372]],\n",
       "              \n",
       "                      [[ 0.3295,  2.4345,  1.1758,  1.9668],\n",
       "                       [ 0.3509, -1.0403,  1.8030,  0.9048],\n",
       "                       [-1.2673, -0.1461,  0.4934, -0.9372]],\n",
       "              \n",
       "                      [[ 0.3295,  2.4345,  1.1758,  1.9668],\n",
       "                       [ 0.3509, -1.0403,  1.8030,  0.9048],\n",
       "                       [-1.2673, -0.1461,  0.4934, -0.9372]],\n",
       "              \n",
       "                      [[ 0.3295,  2.4345,  1.1758,  1.9668],\n",
       "                       [ 0.3509, -1.0403,  1.8030,  0.9048],\n",
       "                       [-1.2673, -0.1461,  0.4934, -0.9372]],\n",
       "              \n",
       "                      [[ 0.3295,  2.4345,  1.1758,  1.9668],\n",
       "                       [ 0.3509, -1.0403,  1.8030,  0.9048],\n",
       "                       [-1.2673, -0.1461,  0.4934, -0.9372]]]),\n",
       "       ),\n",
       ")"
      ]
     },
     "execution_count": 25,
     "metadata": {},
     "output_type": "execute_result"
    }
   ],
   "source": [
    "batches = [Batch(**_TREE_DATA_2) for _ in range(8)]\n",
    "\n",
    "Batch.stack(batches)"
   ]
  },
  {
   "cell_type": "code",
   "execution_count": 26,
   "id": "ec9037a3",
   "metadata": {
    "execution": {
     "iopub.execute_input": "2023-02-27T12:23:38.268893Z",
     "iopub.status.busy": "2023-02-27T12:23:38.268313Z",
     "iopub.status.idle": "2023-02-27T12:23:44.695225Z",
     "shell.execute_reply": "2023-02-27T12:23:44.694241Z"
    }
   },
   "outputs": [
    {
     "name": "stdout",
     "output_type": "stream",
     "text": [
      "79 µs ± 73.7 ns per loop (mean ± std. dev. of 7 runs, 10,000 loops each)\n"
     ]
    }
   ],
   "source": [
    "%timeit Batch.stack(batches)"
   ]
  },
  {
   "cell_type": "code",
   "execution_count": 27,
   "id": "cb8ab77e",
   "metadata": {
    "execution": {
     "iopub.execute_input": "2023-02-27T12:23:44.698811Z",
     "iopub.status.busy": "2023-02-27T12:23:44.698141Z",
     "iopub.status.idle": "2023-02-27T12:23:44.706348Z",
     "shell.execute_reply": "2023-02-27T12:23:44.705722Z"
    }
   },
   "outputs": [
    {
     "data": {
      "text/plain": [
       "Batch(\n",
       "    a: tensor([[-0.1467,  1.4538,  0.1681],\n",
       "               [ 0.3379,  0.5104, -2.0302],\n",
       "               [-0.1467,  1.4538,  0.1681],\n",
       "               [ 0.3379,  0.5104, -2.0302],\n",
       "               [-0.1467,  1.4538,  0.1681],\n",
       "               [ 0.3379,  0.5104, -2.0302],\n",
       "               [-0.1467,  1.4538,  0.1681],\n",
       "               [ 0.3379,  0.5104, -2.0302],\n",
       "               [-0.1467,  1.4538,  0.1681],\n",
       "               [ 0.3379,  0.5104, -2.0302],\n",
       "               [-0.1467,  1.4538,  0.1681],\n",
       "               [ 0.3379,  0.5104, -2.0302],\n",
       "               [-0.1467,  1.4538,  0.1681],\n",
       "               [ 0.3379,  0.5104, -2.0302],\n",
       "               [-0.1467,  1.4538,  0.1681],\n",
       "               [ 0.3379,  0.5104, -2.0302]]),\n",
       "    x: Batch(\n",
       "           c: tensor([[ 0.3295,  2.4345,  1.1758,  1.9668],\n",
       "                      [ 0.3509, -1.0403,  1.8030,  0.9048],\n",
       "                      [-1.2673, -0.1461,  0.4934, -0.9372],\n",
       "                      [ 0.3295,  2.4345,  1.1758,  1.9668],\n",
       "                      [ 0.3509, -1.0403,  1.8030,  0.9048],\n",
       "                      [-1.2673, -0.1461,  0.4934, -0.9372],\n",
       "                      [ 0.3295,  2.4345,  1.1758,  1.9668],\n",
       "                      [ 0.3509, -1.0403,  1.8030,  0.9048],\n",
       "                      [-1.2673, -0.1461,  0.4934, -0.9372],\n",
       "                      [ 0.3295,  2.4345,  1.1758,  1.9668],\n",
       "                      [ 0.3509, -1.0403,  1.8030,  0.9048],\n",
       "                      [-1.2673, -0.1461,  0.4934, -0.9372],\n",
       "                      [ 0.3295,  2.4345,  1.1758,  1.9668],\n",
       "                      [ 0.3509, -1.0403,  1.8030,  0.9048],\n",
       "                      [-1.2673, -0.1461,  0.4934, -0.9372],\n",
       "                      [ 0.3295,  2.4345,  1.1758,  1.9668],\n",
       "                      [ 0.3509, -1.0403,  1.8030,  0.9048],\n",
       "                      [-1.2673, -0.1461,  0.4934, -0.9372],\n",
       "                      [ 0.3295,  2.4345,  1.1758,  1.9668],\n",
       "                      [ 0.3509, -1.0403,  1.8030,  0.9048],\n",
       "                      [-1.2673, -0.1461,  0.4934, -0.9372],\n",
       "                      [ 0.3295,  2.4345,  1.1758,  1.9668],\n",
       "                      [ 0.3509, -1.0403,  1.8030,  0.9048],\n",
       "                      [-1.2673, -0.1461,  0.4934, -0.9372]]),\n",
       "       ),\n",
       ")"
      ]
     },
     "execution_count": 27,
     "metadata": {},
     "output_type": "execute_result"
    }
   ],
   "source": [
    "Batch.cat(batches)"
   ]
  },
  {
   "cell_type": "code",
   "execution_count": 28,
   "id": "18dfb045",
   "metadata": {
    "execution": {
     "iopub.execute_input": "2023-02-27T12:23:44.709193Z",
     "iopub.status.busy": "2023-02-27T12:23:44.708675Z",
     "iopub.status.idle": "2023-02-27T12:23:58.167574Z",
     "shell.execute_reply": "2023-02-27T12:23:58.166722Z"
    }
   },
   "outputs": [
    {
     "name": "stdout",
     "output_type": "stream",
     "text": [
      "166 µs ± 376 ns per loop (mean ± std. dev. of 7 runs, 10,000 loops each)\n"
     ]
    }
   ],
   "source": [
    "%timeit Batch.cat(batches)"
   ]
  },
  {
   "cell_type": "code",
   "execution_count": 29,
   "id": "c6688e51",
   "metadata": {
    "execution": {
     "iopub.execute_input": "2023-02-27T12:23:58.170804Z",
     "iopub.status.busy": "2023-02-27T12:23:58.170313Z",
     "iopub.status.idle": "2023-02-27T12:24:00.802439Z",
     "shell.execute_reply": "2023-02-27T12:24:00.801626Z"
    }
   },
   "outputs": [
    {
     "name": "stdout",
     "output_type": "stream",
     "text": [
      "323 µs ± 1.07 µs per loop (mean ± std. dev. of 7 runs, 1,000 loops each)\n"
     ]
    }
   ],
   "source": [
    "batch = Batch({\n",
    "    'obs': torch.randn(8, 4, 84, 84),\n",
    "    'action': torch.randint(0, 6, size=(8, 1,)),\n",
    "    'reward': torch.rand(8, 1)}\n",
    ")\n",
    "\n",
    "%timeit list(Batch.split(batch, 1, shuffle=False, merge_last=True))"
   ]
  },
  {
   "cell_type": "code",
   "execution_count": null,
   "id": "2539fbd9",
   "metadata": {},
   "outputs": [],
   "source": []
  }
 ],
 "metadata": {
  "kernelspec": {
   "display_name": "Python 3 (ipykernel)",
   "language": "python",
   "name": "python3"
  },
  "language_info": {
   "codemirror_mode": {
    "name": "ipython",
    "version": 3
   },
   "file_extension": ".py",
   "mimetype": "text/x-python",
   "name": "python",
   "nbconvert_exporter": "python",
   "pygments_lexer": "ipython3",
   "version": "3.8.16"
  }
 },
 "nbformat": 4,
 "nbformat_minor": 5
}
