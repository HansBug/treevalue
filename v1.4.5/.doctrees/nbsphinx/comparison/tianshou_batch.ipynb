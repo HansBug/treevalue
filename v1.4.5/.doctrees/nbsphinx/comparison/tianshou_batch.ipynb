{
 "cells": [
  {
   "cell_type": "markdown",
   "id": "9d39d946",
   "metadata": {},
   "source": [
    "# Comparison Between TreeValue and Tianshou Batch"
   ]
  },
  {
   "cell_type": "markdown",
   "id": "3c6db2d4",
   "metadata": {},
   "source": [
    "In this section, we will take a look at the feature and performance of the [Tianshou Batch](https://github.com/thu-ml/tianshou) library, which is developed by Tsinghua Machine Learning Group."
   ]
  },
  {
   "cell_type": "markdown",
   "id": "069361b0",
   "metadata": {},
   "source": [
    "Before starting the comparison, let us define some thing."
   ]
  },
  {
   "cell_type": "code",
   "execution_count": 1,
   "id": "06fc8d26",
   "metadata": {
    "execution": {
     "iopub.execute_input": "2023-02-27T12:59:38.020745Z",
     "iopub.status.busy": "2023-02-27T12:59:38.020123Z",
     "iopub.status.idle": "2023-02-27T12:59:39.216030Z",
     "shell.execute_reply": "2023-02-27T12:59:39.214953Z"
    }
   },
   "outputs": [
    {
     "name": "stderr",
     "output_type": "stream",
     "text": [
      "/opt/hostedtoolcache/Python/3.8.16/x64/lib/python3.8/site-packages/tqdm/auto.py:22: TqdmWarning: IProgress not found. Please update jupyter and ipywidgets. See https://ipywidgets.readthedocs.io/en/stable/user_install.html\n",
      "  from .autonotebook import tqdm as notebook_tqdm\n"
     ]
    }
   ],
   "source": [
    "import torch \n",
    "\n",
    "_TREE_DATA_1 = {'a': 1, 'b': 2, 'x': {'c': 3, 'd': 4}}\n",
    "_TREE_DATA_2 = {\n",
    "    'a': torch.randn(2, 3), \n",
    "    'x': {\n",
    "        'c': torch.randn(3, 4)\n",
    "    },\n",
    "}\n",
    "_TREE_DATA_3 = {\n",
    "    'obs': torch.randn(4, 84, 84),\n",
    "    'action': torch.randint(0, 6, size=(1,)),\n",
    "    'reward': torch.rand(1),\n",
    "}"
   ]
  },
  {
   "cell_type": "markdown",
   "id": "83461b25",
   "metadata": {},
   "source": [
    "## Read and Write Operation"
   ]
  },
  {
   "cell_type": "markdown",
   "id": "067b3f73",
   "metadata": {},
   "source": [
    "Reading and writing are the two most common operations in the tree data structure based on the data model (TreeValue and Tianshou Batch both belong to this type), so this section will compare the reading and writing performance of these two libraries."
   ]
  },
  {
   "cell_type": "markdown",
   "id": "5d09a5b7",
   "metadata": {},
   "source": [
    "### TreeValue's Get and Set"
   ]
  },
  {
   "cell_type": "code",
   "execution_count": 2,
   "id": "9519c4bb",
   "metadata": {
    "execution": {
     "iopub.execute_input": "2023-02-27T12:59:39.220266Z",
     "iopub.status.busy": "2023-02-27T12:59:39.219720Z",
     "iopub.status.idle": "2023-02-27T12:59:39.564650Z",
     "shell.execute_reply": "2023-02-27T12:59:39.563655Z"
    }
   },
   "outputs": [],
   "source": [
    "from treevalue import FastTreeValue\n",
    "\n",
    "t = FastTreeValue(_TREE_DATA_2)"
   ]
  },
  {
   "cell_type": "code",
   "execution_count": 3,
   "id": "11c37677",
   "metadata": {
    "execution": {
     "iopub.execute_input": "2023-02-27T12:59:39.568896Z",
     "iopub.status.busy": "2023-02-27T12:59:39.568279Z",
     "iopub.status.idle": "2023-02-27T12:59:39.579533Z",
     "shell.execute_reply": "2023-02-27T12:59:39.578781Z"
    }
   },
   "outputs": [
    {
     "data": {
      "text/plain": [
       "<FastTreeValue 0x7f4fc8258310>\n",
       "├── 'a' --> tensor([[-0.9205,  1.0151, -0.8561],\n",
       "│                   [-0.4746, -0.5300,  0.0270]])\n",
       "└── 'x' --> <FastTreeValue 0x7f4fc8258af0>\n",
       "    └── 'c' --> tensor([[ 0.2794, -1.6595, -0.5230, -0.3649],\n",
       "                        [ 0.8566,  1.1762, -1.4426,  0.8819],\n",
       "                        [ 1.6697,  0.1821, -0.6233, -1.4758]])"
      ]
     },
     "execution_count": 3,
     "metadata": {},
     "output_type": "execute_result"
    }
   ],
   "source": [
    "t"
   ]
  },
  {
   "cell_type": "code",
   "execution_count": 4,
   "id": "fd70b0b9",
   "metadata": {
    "execution": {
     "iopub.execute_input": "2023-02-27T12:59:39.583157Z",
     "iopub.status.busy": "2023-02-27T12:59:39.582530Z",
     "iopub.status.idle": "2023-02-27T12:59:39.589816Z",
     "shell.execute_reply": "2023-02-27T12:59:39.589090Z"
    }
   },
   "outputs": [
    {
     "data": {
      "text/plain": [
       "tensor([[-0.9205,  1.0151, -0.8561],\n",
       "        [-0.4746, -0.5300,  0.0270]])"
      ]
     },
     "execution_count": 4,
     "metadata": {},
     "output_type": "execute_result"
    }
   ],
   "source": [
    "t.a"
   ]
  },
  {
   "cell_type": "code",
   "execution_count": 5,
   "id": "c18197bd",
   "metadata": {
    "execution": {
     "iopub.execute_input": "2023-02-27T12:59:39.593173Z",
     "iopub.status.busy": "2023-02-27T12:59:39.592579Z",
     "iopub.status.idle": "2023-02-27T12:59:45.769631Z",
     "shell.execute_reply": "2023-02-27T12:59:45.768635Z"
    }
   },
   "outputs": [
    {
     "name": "stdout",
     "output_type": "stream",
     "text": [
      "76 ns ± 0.118 ns per loop (mean ± std. dev. of 7 runs, 10,000,000 loops each)\n"
     ]
    }
   ],
   "source": [
    "%timeit t.a"
   ]
  },
  {
   "cell_type": "code",
   "execution_count": 6,
   "id": "bd52f867",
   "metadata": {
    "execution": {
     "iopub.execute_input": "2023-02-27T12:59:45.773435Z",
     "iopub.status.busy": "2023-02-27T12:59:45.772882Z",
     "iopub.status.idle": "2023-02-27T12:59:45.780907Z",
     "shell.execute_reply": "2023-02-27T12:59:45.780202Z"
    }
   },
   "outputs": [
    {
     "data": {
      "text/plain": [
       "<FastTreeValue 0x7f4fc8258310>\n",
       "├── 'a' --> tensor([[ 0.1976, -0.5824, -0.6382],\n",
       "│                   [ 0.1245,  0.1051, -0.2407]])\n",
       "└── 'x' --> <FastTreeValue 0x7f4fc8258af0>\n",
       "    └── 'c' --> tensor([[ 0.2794, -1.6595, -0.5230, -0.3649],\n",
       "                        [ 0.8566,  1.1762, -1.4426,  0.8819],\n",
       "                        [ 1.6697,  0.1821, -0.6233, -1.4758]])"
      ]
     },
     "execution_count": 6,
     "metadata": {},
     "output_type": "execute_result"
    }
   ],
   "source": [
    "new_value = torch.randn(2, 3)\n",
    "t.a = new_value\n",
    "\n",
    "t"
   ]
  },
  {
   "cell_type": "code",
   "execution_count": 7,
   "id": "bbe04d1c",
   "metadata": {
    "execution": {
     "iopub.execute_input": "2023-02-27T12:59:45.784298Z",
     "iopub.status.busy": "2023-02-27T12:59:45.784027Z",
     "iopub.status.idle": "2023-02-27T12:59:52.842395Z",
     "shell.execute_reply": "2023-02-27T12:59:52.838761Z"
    }
   },
   "outputs": [
    {
     "name": "stdout",
     "output_type": "stream",
     "text": [
      "87 ns ± 0.145 ns per loop (mean ± std. dev. of 7 runs, 10,000,000 loops each)\n"
     ]
    }
   ],
   "source": [
    "%timeit t.a = new_value"
   ]
  },
  {
   "cell_type": "markdown",
   "id": "48c49731",
   "metadata": {},
   "source": [
    "### Tianshou Batch's Get and Set"
   ]
  },
  {
   "cell_type": "code",
   "execution_count": 8,
   "id": "f1bb14c1",
   "metadata": {
    "execution": {
     "iopub.execute_input": "2023-02-27T12:59:52.846610Z",
     "iopub.status.busy": "2023-02-27T12:59:52.845980Z",
     "iopub.status.idle": "2023-02-27T12:59:53.270248Z",
     "shell.execute_reply": "2023-02-27T12:59:53.269115Z"
    }
   },
   "outputs": [],
   "source": [
    "from tianshou.data import Batch\n",
    "\n",
    "b = Batch(**_TREE_DATA_2)"
   ]
  },
  {
   "cell_type": "code",
   "execution_count": 9,
   "id": "cb0777c3",
   "metadata": {
    "execution": {
     "iopub.execute_input": "2023-02-27T12:59:53.274996Z",
     "iopub.status.busy": "2023-02-27T12:59:53.274445Z",
     "iopub.status.idle": "2023-02-27T12:59:53.283732Z",
     "shell.execute_reply": "2023-02-27T12:59:53.282960Z"
    }
   },
   "outputs": [
    {
     "data": {
      "text/plain": [
       "Batch(\n",
       "    a: tensor([[-0.9205,  1.0151, -0.8561],\n",
       "               [-0.4746, -0.5300,  0.0270]]),\n",
       "    x: Batch(\n",
       "           c: tensor([[ 0.2794, -1.6595, -0.5230, -0.3649],\n",
       "                      [ 0.8566,  1.1762, -1.4426,  0.8819],\n",
       "                      [ 1.6697,  0.1821, -0.6233, -1.4758]]),\n",
       "       ),\n",
       ")"
      ]
     },
     "execution_count": 9,
     "metadata": {},
     "output_type": "execute_result"
    }
   ],
   "source": [
    "b"
   ]
  },
  {
   "cell_type": "code",
   "execution_count": 10,
   "id": "43ef8ea3",
   "metadata": {
    "execution": {
     "iopub.execute_input": "2023-02-27T12:59:53.287284Z",
     "iopub.status.busy": "2023-02-27T12:59:53.286647Z",
     "iopub.status.idle": "2023-02-27T12:59:53.293543Z",
     "shell.execute_reply": "2023-02-27T12:59:53.292857Z"
    }
   },
   "outputs": [
    {
     "data": {
      "text/plain": [
       "tensor([[-0.9205,  1.0151, -0.8561],\n",
       "        [-0.4746, -0.5300,  0.0270]])"
      ]
     },
     "execution_count": 10,
     "metadata": {},
     "output_type": "execute_result"
    }
   ],
   "source": [
    "b.a"
   ]
  },
  {
   "cell_type": "code",
   "execution_count": 11,
   "id": "b785ab72",
   "metadata": {
    "execution": {
     "iopub.execute_input": "2023-02-27T12:59:53.296540Z",
     "iopub.status.busy": "2023-02-27T12:59:53.296125Z",
     "iopub.status.idle": "2023-02-27T12:59:59.045777Z",
     "shell.execute_reply": "2023-02-27T12:59:59.044712Z"
    }
   },
   "outputs": [
    {
     "name": "stdout",
     "output_type": "stream",
     "text": [
      "69.8 ns ± 2.14 ns per loop (mean ± std. dev. of 7 runs, 10,000,000 loops each)\n"
     ]
    }
   ],
   "source": [
    "%timeit b.a"
   ]
  },
  {
   "cell_type": "code",
   "execution_count": 12,
   "id": "ad54dc69",
   "metadata": {
    "execution": {
     "iopub.execute_input": "2023-02-27T12:59:59.049369Z",
     "iopub.status.busy": "2023-02-27T12:59:59.048681Z",
     "iopub.status.idle": "2023-02-27T12:59:59.057430Z",
     "shell.execute_reply": "2023-02-27T12:59:59.056322Z"
    }
   },
   "outputs": [
    {
     "data": {
      "text/plain": [
       "Batch(\n",
       "    a: tensor([[ 0.5721,  0.3844,  0.0863],\n",
       "               [ 1.7426, -1.0054,  0.0490]]),\n",
       "    x: Batch(\n",
       "           c: tensor([[ 0.2794, -1.6595, -0.5230, -0.3649],\n",
       "                      [ 0.8566,  1.1762, -1.4426,  0.8819],\n",
       "                      [ 1.6697,  0.1821, -0.6233, -1.4758]]),\n",
       "       ),\n",
       ")"
      ]
     },
     "execution_count": 12,
     "metadata": {},
     "output_type": "execute_result"
    }
   ],
   "source": [
    "new_value = torch.randn(2, 3)\n",
    "b.a = new_value\n",
    "\n",
    "b"
   ]
  },
  {
   "cell_type": "code",
   "execution_count": 13,
   "id": "29b1d0bf",
   "metadata": {
    "execution": {
     "iopub.execute_input": "2023-02-27T12:59:59.060876Z",
     "iopub.status.busy": "2023-02-27T12:59:59.060233Z",
     "iopub.status.idle": "2023-02-27T13:00:03.880324Z",
     "shell.execute_reply": "2023-02-27T13:00:03.879345Z"
    }
   },
   "outputs": [
    {
     "name": "stdout",
     "output_type": "stream",
     "text": [
      "594 ns ± 0.396 ns per loop (mean ± std. dev. of 7 runs, 1,000,000 loops each)\n"
     ]
    }
   ],
   "source": [
    "%timeit b.a = new_value"
   ]
  },
  {
   "cell_type": "markdown",
   "id": "b61ad1d0",
   "metadata": {},
   "source": [
    "## Initialization"
   ]
  },
  {
   "cell_type": "markdown",
   "id": "d70f0d54",
   "metadata": {},
   "source": [
    "### TreeValue's Initialization"
   ]
  },
  {
   "cell_type": "code",
   "execution_count": 14,
   "id": "d32a679b",
   "metadata": {
    "execution": {
     "iopub.execute_input": "2023-02-27T13:00:03.886570Z",
     "iopub.status.busy": "2023-02-27T13:00:03.885298Z",
     "iopub.status.idle": "2023-02-27T13:00:11.814912Z",
     "shell.execute_reply": "2023-02-27T13:00:11.813863Z"
    }
   },
   "outputs": [
    {
     "name": "stdout",
     "output_type": "stream",
     "text": [
      "975 ns ± 1.17 ns per loop (mean ± std. dev. of 7 runs, 1,000,000 loops each)\n"
     ]
    }
   ],
   "source": [
    "%timeit FastTreeValue(_TREE_DATA_1)"
   ]
  },
  {
   "cell_type": "markdown",
   "id": "24f3707b",
   "metadata": {},
   "source": [
    "### Tianshou Batch's Initialization"
   ]
  },
  {
   "cell_type": "code",
   "execution_count": 15,
   "id": "ac3958df",
   "metadata": {
    "execution": {
     "iopub.execute_input": "2023-02-27T13:00:11.818427Z",
     "iopub.status.busy": "2023-02-27T13:00:11.818139Z",
     "iopub.status.idle": "2023-02-27T13:00:21.678837Z",
     "shell.execute_reply": "2023-02-27T13:00:21.677821Z"
    }
   },
   "outputs": [
    {
     "name": "stdout",
     "output_type": "stream",
     "text": [
      "12.1 µs ± 62.3 ns per loop (mean ± std. dev. of 7 runs, 100,000 loops each)\n"
     ]
    }
   ],
   "source": [
    "%timeit Batch(**_TREE_DATA_1)"
   ]
  },
  {
   "cell_type": "markdown",
   "id": "1ab82e2d",
   "metadata": {},
   "source": [
    "## Deep Copy Operation"
   ]
  },
  {
   "cell_type": "code",
   "execution_count": 16,
   "id": "210a9442",
   "metadata": {
    "execution": {
     "iopub.execute_input": "2023-02-27T13:00:21.683487Z",
     "iopub.status.busy": "2023-02-27T13:00:21.682846Z",
     "iopub.status.idle": "2023-02-27T13:00:21.698493Z",
     "shell.execute_reply": "2023-02-27T13:00:21.692929Z"
    }
   },
   "outputs": [],
   "source": [
    "import copy"
   ]
  },
  {
   "cell_type": "markdown",
   "id": "5a736274",
   "metadata": {},
   "source": [
    "### Deep Copy of TreeValue"
   ]
  },
  {
   "cell_type": "code",
   "execution_count": 17,
   "id": "f9bcadd6",
   "metadata": {
    "execution": {
     "iopub.execute_input": "2023-02-27T13:00:21.702539Z",
     "iopub.status.busy": "2023-02-27T13:00:21.702075Z",
     "iopub.status.idle": "2023-02-27T13:00:35.244533Z",
     "shell.execute_reply": "2023-02-27T13:00:35.243799Z"
    }
   },
   "outputs": [
    {
     "name": "stdout",
     "output_type": "stream",
     "text": [
      "167 µs ± 1.54 µs per loop (mean ± std. dev. of 7 runs, 10,000 loops each)\n"
     ]
    }
   ],
   "source": [
    "t3 = FastTreeValue(_TREE_DATA_3)\n",
    "%timeit copy.deepcopy(t3)"
   ]
  },
  {
   "cell_type": "markdown",
   "id": "bf8be7ea",
   "metadata": {},
   "source": [
    "### Deep Copy of Tianshou Batch"
   ]
  },
  {
   "cell_type": "code",
   "execution_count": 18,
   "id": "91998e6f",
   "metadata": {
    "execution": {
     "iopub.execute_input": "2023-02-27T13:00:35.247933Z",
     "iopub.status.busy": "2023-02-27T13:00:35.247353Z",
     "iopub.status.idle": "2023-02-27T13:00:48.500472Z",
     "shell.execute_reply": "2023-02-27T13:00:48.499676Z"
    }
   },
   "outputs": [
    {
     "name": "stdout",
     "output_type": "stream",
     "text": [
      "163 µs ± 1.58 µs per loop (mean ± std. dev. of 7 runs, 10,000 loops each)\n"
     ]
    }
   ],
   "source": [
    "b3 = Batch(**_TREE_DATA_3)\n",
    "%timeit copy.deepcopy(b3)"
   ]
  },
  {
   "cell_type": "markdown",
   "id": "223162fb",
   "metadata": {},
   "source": [
    "## Stack, Concat and Split Operation"
   ]
  },
  {
   "cell_type": "markdown",
   "id": "85fa4a73",
   "metadata": {},
   "source": [
    "### Performance of TreeValue"
   ]
  },
  {
   "cell_type": "code",
   "execution_count": 19,
   "id": "a0c2b697",
   "metadata": {
    "execution": {
     "iopub.execute_input": "2023-02-27T13:00:48.504027Z",
     "iopub.status.busy": "2023-02-27T13:00:48.503438Z",
     "iopub.status.idle": "2023-02-27T13:00:48.507439Z",
     "shell.execute_reply": "2023-02-27T13:00:48.506803Z"
    }
   },
   "outputs": [],
   "source": [
    "trees = [FastTreeValue(_TREE_DATA_2) for _ in range(8)]"
   ]
  },
  {
   "cell_type": "code",
   "execution_count": 20,
   "id": "017ea5a5",
   "metadata": {
    "execution": {
     "iopub.execute_input": "2023-02-27T13:00:48.510309Z",
     "iopub.status.busy": "2023-02-27T13:00:48.509669Z",
     "iopub.status.idle": "2023-02-27T13:00:48.517917Z",
     "shell.execute_reply": "2023-02-27T13:00:48.517277Z"
    }
   },
   "outputs": [
    {
     "data": {
      "text/plain": [
       "<FastTreeValue 0x7f4f1913f670>\n",
       "├── 'a' --> tensor([[[-0.9205,  1.0151, -0.8561],\n",
       "│                    [-0.4746, -0.5300,  0.0270]],\n",
       "│           \n",
       "│                   [[-0.9205,  1.0151, -0.8561],\n",
       "│                    [-0.4746, -0.5300,  0.0270]],\n",
       "│           \n",
       "│                   [[-0.9205,  1.0151, -0.8561],\n",
       "│                    [-0.4746, -0.5300,  0.0270]],\n",
       "│           \n",
       "│                   [[-0.9205,  1.0151, -0.8561],\n",
       "│                    [-0.4746, -0.5300,  0.0270]],\n",
       "│           \n",
       "│                   [[-0.9205,  1.0151, -0.8561],\n",
       "│                    [-0.4746, -0.5300,  0.0270]],\n",
       "│           \n",
       "│                   [[-0.9205,  1.0151, -0.8561],\n",
       "│                    [-0.4746, -0.5300,  0.0270]],\n",
       "│           \n",
       "│                   [[-0.9205,  1.0151, -0.8561],\n",
       "│                    [-0.4746, -0.5300,  0.0270]],\n",
       "│           \n",
       "│                   [[-0.9205,  1.0151, -0.8561],\n",
       "│                    [-0.4746, -0.5300,  0.0270]]])\n",
       "└── 'x' --> <FastTreeValue 0x7f4f1913f940>\n",
       "    └── 'c' --> tensor([[[ 0.2794, -1.6595, -0.5230, -0.3649],\n",
       "                         [ 0.8566,  1.1762, -1.4426,  0.8819],\n",
       "                         [ 1.6697,  0.1821, -0.6233, -1.4758]],\n",
       "                \n",
       "                        [[ 0.2794, -1.6595, -0.5230, -0.3649],\n",
       "                         [ 0.8566,  1.1762, -1.4426,  0.8819],\n",
       "                         [ 1.6697,  0.1821, -0.6233, -1.4758]],\n",
       "                \n",
       "                        [[ 0.2794, -1.6595, -0.5230, -0.3649],\n",
       "                         [ 0.8566,  1.1762, -1.4426,  0.8819],\n",
       "                         [ 1.6697,  0.1821, -0.6233, -1.4758]],\n",
       "                \n",
       "                        [[ 0.2794, -1.6595, -0.5230, -0.3649],\n",
       "                         [ 0.8566,  1.1762, -1.4426,  0.8819],\n",
       "                         [ 1.6697,  0.1821, -0.6233, -1.4758]],\n",
       "                \n",
       "                        [[ 0.2794, -1.6595, -0.5230, -0.3649],\n",
       "                         [ 0.8566,  1.1762, -1.4426,  0.8819],\n",
       "                         [ 1.6697,  0.1821, -0.6233, -1.4758]],\n",
       "                \n",
       "                        [[ 0.2794, -1.6595, -0.5230, -0.3649],\n",
       "                         [ 0.8566,  1.1762, -1.4426,  0.8819],\n",
       "                         [ 1.6697,  0.1821, -0.6233, -1.4758]],\n",
       "                \n",
       "                        [[ 0.2794, -1.6595, -0.5230, -0.3649],\n",
       "                         [ 0.8566,  1.1762, -1.4426,  0.8819],\n",
       "                         [ 1.6697,  0.1821, -0.6233, -1.4758]],\n",
       "                \n",
       "                        [[ 0.2794, -1.6595, -0.5230, -0.3649],\n",
       "                         [ 0.8566,  1.1762, -1.4426,  0.8819],\n",
       "                         [ 1.6697,  0.1821, -0.6233, -1.4758]]])"
      ]
     },
     "execution_count": 20,
     "metadata": {},
     "output_type": "execute_result"
    }
   ],
   "source": [
    "t_stack = FastTreeValue.func(subside=True)(torch.stack)\n",
    "\n",
    "t_stack(trees)"
   ]
  },
  {
   "cell_type": "code",
   "execution_count": 21,
   "id": "f8b3f415",
   "metadata": {
    "execution": {
     "iopub.execute_input": "2023-02-27T13:00:48.520705Z",
     "iopub.status.busy": "2023-02-27T13:00:48.520213Z",
     "iopub.status.idle": "2023-02-27T13:00:51.696054Z",
     "shell.execute_reply": "2023-02-27T13:00:51.695170Z"
    }
   },
   "outputs": [
    {
     "name": "stdout",
     "output_type": "stream",
     "text": [
      "39.1 µs ± 218 ns per loop (mean ± std. dev. of 7 runs, 10,000 loops each)\n"
     ]
    }
   ],
   "source": [
    "%timeit t_stack(trees)"
   ]
  },
  {
   "cell_type": "code",
   "execution_count": 22,
   "id": "94b56771",
   "metadata": {
    "execution": {
     "iopub.execute_input": "2023-02-27T13:00:51.699752Z",
     "iopub.status.busy": "2023-02-27T13:00:51.699259Z",
     "iopub.status.idle": "2023-02-27T13:00:51.708617Z",
     "shell.execute_reply": "2023-02-27T13:00:51.707871Z"
    }
   },
   "outputs": [
    {
     "data": {
      "text/plain": [
       "<FastTreeValue 0x7f4f124c3d00>\n",
       "├── 'a' --> tensor([[-0.9205,  1.0151, -0.8561],\n",
       "│                   [-0.4746, -0.5300,  0.0270],\n",
       "│                   [-0.9205,  1.0151, -0.8561],\n",
       "│                   [-0.4746, -0.5300,  0.0270],\n",
       "│                   [-0.9205,  1.0151, -0.8561],\n",
       "│                   [-0.4746, -0.5300,  0.0270],\n",
       "│                   [-0.9205,  1.0151, -0.8561],\n",
       "│                   [-0.4746, -0.5300,  0.0270],\n",
       "│                   [-0.9205,  1.0151, -0.8561],\n",
       "│                   [-0.4746, -0.5300,  0.0270],\n",
       "│                   [-0.9205,  1.0151, -0.8561],\n",
       "│                   [-0.4746, -0.5300,  0.0270],\n",
       "│                   [-0.9205,  1.0151, -0.8561],\n",
       "│                   [-0.4746, -0.5300,  0.0270],\n",
       "│                   [-0.9205,  1.0151, -0.8561],\n",
       "│                   [-0.4746, -0.5300,  0.0270]])\n",
       "└── 'x' --> <FastTreeValue 0x7f4f23f80e80>\n",
       "    └── 'c' --> tensor([[ 0.2794, -1.6595, -0.5230, -0.3649],\n",
       "                        [ 0.8566,  1.1762, -1.4426,  0.8819],\n",
       "                        [ 1.6697,  0.1821, -0.6233, -1.4758],\n",
       "                        [ 0.2794, -1.6595, -0.5230, -0.3649],\n",
       "                        [ 0.8566,  1.1762, -1.4426,  0.8819],\n",
       "                        [ 1.6697,  0.1821, -0.6233, -1.4758],\n",
       "                        [ 0.2794, -1.6595, -0.5230, -0.3649],\n",
       "                        [ 0.8566,  1.1762, -1.4426,  0.8819],\n",
       "                        [ 1.6697,  0.1821, -0.6233, -1.4758],\n",
       "                        [ 0.2794, -1.6595, -0.5230, -0.3649],\n",
       "                        [ 0.8566,  1.1762, -1.4426,  0.8819],\n",
       "                        [ 1.6697,  0.1821, -0.6233, -1.4758],\n",
       "                        [ 0.2794, -1.6595, -0.5230, -0.3649],\n",
       "                        [ 0.8566,  1.1762, -1.4426,  0.8819],\n",
       "                        [ 1.6697,  0.1821, -0.6233, -1.4758],\n",
       "                        [ 0.2794, -1.6595, -0.5230, -0.3649],\n",
       "                        [ 0.8566,  1.1762, -1.4426,  0.8819],\n",
       "                        [ 1.6697,  0.1821, -0.6233, -1.4758],\n",
       "                        [ 0.2794, -1.6595, -0.5230, -0.3649],\n",
       "                        [ 0.8566,  1.1762, -1.4426,  0.8819],\n",
       "                        [ 1.6697,  0.1821, -0.6233, -1.4758],\n",
       "                        [ 0.2794, -1.6595, -0.5230, -0.3649],\n",
       "                        [ 0.8566,  1.1762, -1.4426,  0.8819],\n",
       "                        [ 1.6697,  0.1821, -0.6233, -1.4758]])"
      ]
     },
     "execution_count": 22,
     "metadata": {},
     "output_type": "execute_result"
    }
   ],
   "source": [
    "t_cat = FastTreeValue.func(subside=True)(torch.cat)\n",
    "\n",
    "t_cat(trees)"
   ]
  },
  {
   "cell_type": "code",
   "execution_count": 23,
   "id": "5e9c06a6",
   "metadata": {
    "execution": {
     "iopub.execute_input": "2023-02-27T13:00:51.712082Z",
     "iopub.status.busy": "2023-02-27T13:00:51.711664Z",
     "iopub.status.idle": "2023-02-27T13:00:54.721259Z",
     "shell.execute_reply": "2023-02-27T13:00:54.720302Z"
    }
   },
   "outputs": [
    {
     "name": "stdout",
     "output_type": "stream",
     "text": [
      "37 µs ± 345 ns per loop (mean ± std. dev. of 7 runs, 10,000 loops each)\n"
     ]
    }
   ],
   "source": [
    "%timeit t_cat(trees)"
   ]
  },
  {
   "cell_type": "code",
   "execution_count": 24,
   "id": "a3ab5c8f",
   "metadata": {
    "execution": {
     "iopub.execute_input": "2023-02-27T13:00:54.724997Z",
     "iopub.status.busy": "2023-02-27T13:00:54.724334Z",
     "iopub.status.idle": "2023-02-27T13:01:00.189981Z",
     "shell.execute_reply": "2023-02-27T13:01:00.188950Z"
    }
   },
   "outputs": [
    {
     "name": "stdout",
     "output_type": "stream",
     "text": [
      "66.5 µs ± 607 ns per loop (mean ± std. dev. of 7 runs, 10,000 loops each)\n"
     ]
    }
   ],
   "source": [
    "t_split = FastTreeValue.func(rise=True)(torch.split)\n",
    "tree = FastTreeValue({\n",
    "    'obs': torch.randn(8, 4, 84, 84),\n",
    "    'action': torch.randint(0, 6, size=(8, 1,)),\n",
    "    'reward': torch.rand(8, 1),\n",
    "})\n",
    "\n",
    "%timeit t_split(tree, 1)"
   ]
  },
  {
   "cell_type": "markdown",
   "id": "31c3ec0b",
   "metadata": {},
   "source": [
    "### Performance of Tianshou Batch"
   ]
  },
  {
   "cell_type": "code",
   "execution_count": 25,
   "id": "9ead828a",
   "metadata": {
    "execution": {
     "iopub.execute_input": "2023-02-27T13:01:00.195419Z",
     "iopub.status.busy": "2023-02-27T13:01:00.195077Z",
     "iopub.status.idle": "2023-02-27T13:01:00.204826Z",
     "shell.execute_reply": "2023-02-27T13:01:00.204066Z"
    }
   },
   "outputs": [
    {
     "data": {
      "text/plain": [
       "Batch(\n",
       "    x: Batch(\n",
       "           c: tensor([[[ 0.2794, -1.6595, -0.5230, -0.3649],\n",
       "                       [ 0.8566,  1.1762, -1.4426,  0.8819],\n",
       "                       [ 1.6697,  0.1821, -0.6233, -1.4758]],\n",
       "              \n",
       "                      [[ 0.2794, -1.6595, -0.5230, -0.3649],\n",
       "                       [ 0.8566,  1.1762, -1.4426,  0.8819],\n",
       "                       [ 1.6697,  0.1821, -0.6233, -1.4758]],\n",
       "              \n",
       "                      [[ 0.2794, -1.6595, -0.5230, -0.3649],\n",
       "                       [ 0.8566,  1.1762, -1.4426,  0.8819],\n",
       "                       [ 1.6697,  0.1821, -0.6233, -1.4758]],\n",
       "              \n",
       "                      [[ 0.2794, -1.6595, -0.5230, -0.3649],\n",
       "                       [ 0.8566,  1.1762, -1.4426,  0.8819],\n",
       "                       [ 1.6697,  0.1821, -0.6233, -1.4758]],\n",
       "              \n",
       "                      [[ 0.2794, -1.6595, -0.5230, -0.3649],\n",
       "                       [ 0.8566,  1.1762, -1.4426,  0.8819],\n",
       "                       [ 1.6697,  0.1821, -0.6233, -1.4758]],\n",
       "              \n",
       "                      [[ 0.2794, -1.6595, -0.5230, -0.3649],\n",
       "                       [ 0.8566,  1.1762, -1.4426,  0.8819],\n",
       "                       [ 1.6697,  0.1821, -0.6233, -1.4758]],\n",
       "              \n",
       "                      [[ 0.2794, -1.6595, -0.5230, -0.3649],\n",
       "                       [ 0.8566,  1.1762, -1.4426,  0.8819],\n",
       "                       [ 1.6697,  0.1821, -0.6233, -1.4758]],\n",
       "              \n",
       "                      [[ 0.2794, -1.6595, -0.5230, -0.3649],\n",
       "                       [ 0.8566,  1.1762, -1.4426,  0.8819],\n",
       "                       [ 1.6697,  0.1821, -0.6233, -1.4758]]]),\n",
       "       ),\n",
       "    a: tensor([[[-0.9205,  1.0151, -0.8561],\n",
       "                [-0.4746, -0.5300,  0.0270]],\n",
       "       \n",
       "               [[-0.9205,  1.0151, -0.8561],\n",
       "                [-0.4746, -0.5300,  0.0270]],\n",
       "       \n",
       "               [[-0.9205,  1.0151, -0.8561],\n",
       "                [-0.4746, -0.5300,  0.0270]],\n",
       "       \n",
       "               [[-0.9205,  1.0151, -0.8561],\n",
       "                [-0.4746, -0.5300,  0.0270]],\n",
       "       \n",
       "               [[-0.9205,  1.0151, -0.8561],\n",
       "                [-0.4746, -0.5300,  0.0270]],\n",
       "       \n",
       "               [[-0.9205,  1.0151, -0.8561],\n",
       "                [-0.4746, -0.5300,  0.0270]],\n",
       "       \n",
       "               [[-0.9205,  1.0151, -0.8561],\n",
       "                [-0.4746, -0.5300,  0.0270]],\n",
       "       \n",
       "               [[-0.9205,  1.0151, -0.8561],\n",
       "                [-0.4746, -0.5300,  0.0270]]]),\n",
       ")"
      ]
     },
     "execution_count": 25,
     "metadata": {},
     "output_type": "execute_result"
    }
   ],
   "source": [
    "batches = [Batch(**_TREE_DATA_2) for _ in range(8)]\n",
    "\n",
    "Batch.stack(batches)"
   ]
  },
  {
   "cell_type": "code",
   "execution_count": 26,
   "id": "ec9037a3",
   "metadata": {
    "execution": {
     "iopub.execute_input": "2023-02-27T13:01:00.208438Z",
     "iopub.status.busy": "2023-02-27T13:01:00.207901Z",
     "iopub.status.idle": "2023-02-27T13:01:07.461706Z",
     "shell.execute_reply": "2023-02-27T13:01:07.460594Z"
    }
   },
   "outputs": [
    {
     "name": "stdout",
     "output_type": "stream",
     "text": [
      "89.2 µs ± 434 ns per loop (mean ± std. dev. of 7 runs, 10,000 loops each)\n"
     ]
    }
   ],
   "source": [
    "%timeit Batch.stack(batches)"
   ]
  },
  {
   "cell_type": "code",
   "execution_count": 27,
   "id": "cb8ab77e",
   "metadata": {
    "execution": {
     "iopub.execute_input": "2023-02-27T13:01:07.465417Z",
     "iopub.status.busy": "2023-02-27T13:01:07.464965Z",
     "iopub.status.idle": "2023-02-27T13:01:07.474089Z",
     "shell.execute_reply": "2023-02-27T13:01:07.473378Z"
    }
   },
   "outputs": [
    {
     "data": {
      "text/plain": [
       "Batch(\n",
       "    x: Batch(\n",
       "           c: tensor([[ 0.2794, -1.6595, -0.5230, -0.3649],\n",
       "                      [ 0.8566,  1.1762, -1.4426,  0.8819],\n",
       "                      [ 1.6697,  0.1821, -0.6233, -1.4758],\n",
       "                      [ 0.2794, -1.6595, -0.5230, -0.3649],\n",
       "                      [ 0.8566,  1.1762, -1.4426,  0.8819],\n",
       "                      [ 1.6697,  0.1821, -0.6233, -1.4758],\n",
       "                      [ 0.2794, -1.6595, -0.5230, -0.3649],\n",
       "                      [ 0.8566,  1.1762, -1.4426,  0.8819],\n",
       "                      [ 1.6697,  0.1821, -0.6233, -1.4758],\n",
       "                      [ 0.2794, -1.6595, -0.5230, -0.3649],\n",
       "                      [ 0.8566,  1.1762, -1.4426,  0.8819],\n",
       "                      [ 1.6697,  0.1821, -0.6233, -1.4758],\n",
       "                      [ 0.2794, -1.6595, -0.5230, -0.3649],\n",
       "                      [ 0.8566,  1.1762, -1.4426,  0.8819],\n",
       "                      [ 1.6697,  0.1821, -0.6233, -1.4758],\n",
       "                      [ 0.2794, -1.6595, -0.5230, -0.3649],\n",
       "                      [ 0.8566,  1.1762, -1.4426,  0.8819],\n",
       "                      [ 1.6697,  0.1821, -0.6233, -1.4758],\n",
       "                      [ 0.2794, -1.6595, -0.5230, -0.3649],\n",
       "                      [ 0.8566,  1.1762, -1.4426,  0.8819],\n",
       "                      [ 1.6697,  0.1821, -0.6233, -1.4758],\n",
       "                      [ 0.2794, -1.6595, -0.5230, -0.3649],\n",
       "                      [ 0.8566,  1.1762, -1.4426,  0.8819],\n",
       "                      [ 1.6697,  0.1821, -0.6233, -1.4758]]),\n",
       "       ),\n",
       "    a: tensor([[-0.9205,  1.0151, -0.8561],\n",
       "               [-0.4746, -0.5300,  0.0270],\n",
       "               [-0.9205,  1.0151, -0.8561],\n",
       "               [-0.4746, -0.5300,  0.0270],\n",
       "               [-0.9205,  1.0151, -0.8561],\n",
       "               [-0.4746, -0.5300,  0.0270],\n",
       "               [-0.9205,  1.0151, -0.8561],\n",
       "               [-0.4746, -0.5300,  0.0270],\n",
       "               [-0.9205,  1.0151, -0.8561],\n",
       "               [-0.4746, -0.5300,  0.0270],\n",
       "               [-0.9205,  1.0151, -0.8561],\n",
       "               [-0.4746, -0.5300,  0.0270],\n",
       "               [-0.9205,  1.0151, -0.8561],\n",
       "               [-0.4746, -0.5300,  0.0270],\n",
       "               [-0.9205,  1.0151, -0.8561],\n",
       "               [-0.4746, -0.5300,  0.0270]]),\n",
       ")"
      ]
     },
     "execution_count": 27,
     "metadata": {},
     "output_type": "execute_result"
    }
   ],
   "source": [
    "Batch.cat(batches)"
   ]
  },
  {
   "cell_type": "code",
   "execution_count": 28,
   "id": "18dfb045",
   "metadata": {
    "execution": {
     "iopub.execute_input": "2023-02-27T13:01:07.477922Z",
     "iopub.status.busy": "2023-02-27T13:01:07.477160Z",
     "iopub.status.idle": "2023-02-27T13:01:20.719485Z",
     "shell.execute_reply": "2023-02-27T13:01:20.718506Z"
    }
   },
   "outputs": [
    {
     "name": "stdout",
     "output_type": "stream",
     "text": [
      "163 µs ± 449 ns per loop (mean ± std. dev. of 7 runs, 10,000 loops each)\n"
     ]
    }
   ],
   "source": [
    "%timeit Batch.cat(batches)"
   ]
  },
  {
   "cell_type": "code",
   "execution_count": 29,
   "id": "c6688e51",
   "metadata": {
    "execution": {
     "iopub.execute_input": "2023-02-27T13:01:20.723158Z",
     "iopub.status.busy": "2023-02-27T13:01:20.722648Z",
     "iopub.status.idle": "2023-02-27T13:01:23.963673Z",
     "shell.execute_reply": "2023-02-27T13:01:23.962818Z"
    }
   },
   "outputs": [
    {
     "name": "stdout",
     "output_type": "stream",
     "text": [
      "393 µs ± 22 µs per loop (mean ± std. dev. of 7 runs, 1,000 loops each)\n"
     ]
    }
   ],
   "source": [
    "batch = Batch({\n",
    "    'obs': torch.randn(8, 4, 84, 84),\n",
    "    'action': torch.randint(0, 6, size=(8, 1,)),\n",
    "    'reward': torch.rand(8, 1)}\n",
    ")\n",
    "\n",
    "%timeit list(Batch.split(batch, 1, shuffle=False, merge_last=True))"
   ]
  },
  {
   "cell_type": "code",
   "execution_count": null,
   "id": "2539fbd9",
   "metadata": {},
   "outputs": [],
   "source": []
  }
 ],
 "metadata": {
  "kernelspec": {
   "display_name": "Python 3 (ipykernel)",
   "language": "python",
   "name": "python3"
  },
  "language_info": {
   "codemirror_mode": {
    "name": "ipython",
    "version": 3
   },
   "file_extension": ".py",
   "mimetype": "text/x-python",
   "name": "python",
   "nbconvert_exporter": "python",
   "pygments_lexer": "ipython3",
   "version": "3.8.16"
  }
 },
 "nbformat": 4,
 "nbformat_minor": 5
}
