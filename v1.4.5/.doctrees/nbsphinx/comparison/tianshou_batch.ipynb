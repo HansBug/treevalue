{
 "cells": [
  {
   "cell_type": "markdown",
   "id": "9d39d946",
   "metadata": {},
   "source": [
    "# Comparison Between TreeValue and Tianshou Batch"
   ]
  },
  {
   "cell_type": "markdown",
   "id": "3c6db2d4",
   "metadata": {},
   "source": [
    "In this section, we will take a look at the feature and performance of the [Tianshou Batch](https://github.com/thu-ml/tianshou) library, which is developed by Tsinghua Machine Learning Group."
   ]
  },
  {
   "cell_type": "markdown",
   "id": "069361b0",
   "metadata": {},
   "source": [
    "Before starting the comparison, let us define some thing."
   ]
  },
  {
   "cell_type": "code",
   "execution_count": 1,
   "id": "06fc8d26",
   "metadata": {
    "execution": {
     "iopub.execute_input": "2023-02-27T12:37:33.465006Z",
     "iopub.status.busy": "2023-02-27T12:37:33.464771Z",
     "iopub.status.idle": "2023-02-27T12:37:34.435258Z",
     "shell.execute_reply": "2023-02-27T12:37:34.434346Z"
    }
   },
   "outputs": [
    {
     "name": "stderr",
     "output_type": "stream",
     "text": [
      "/opt/hostedtoolcache/Python/3.8.16/x64/lib/python3.8/site-packages/tqdm/auto.py:22: TqdmWarning: IProgress not found. Please update jupyter and ipywidgets. See https://ipywidgets.readthedocs.io/en/stable/user_install.html\n",
      "  from .autonotebook import tqdm as notebook_tqdm\n"
     ]
    }
   ],
   "source": [
    "import torch \n",
    "\n",
    "_TREE_DATA_1 = {'a': 1, 'b': 2, 'x': {'c': 3, 'd': 4}}\n",
    "_TREE_DATA_2 = {\n",
    "    'a': torch.randn(2, 3), \n",
    "    'x': {\n",
    "        'c': torch.randn(3, 4)\n",
    "    },\n",
    "}\n",
    "_TREE_DATA_3 = {\n",
    "    'obs': torch.randn(4, 84, 84),\n",
    "    'action': torch.randint(0, 6, size=(1,)),\n",
    "    'reward': torch.rand(1),\n",
    "}"
   ]
  },
  {
   "cell_type": "markdown",
   "id": "83461b25",
   "metadata": {},
   "source": [
    "## Read and Write Operation"
   ]
  },
  {
   "cell_type": "markdown",
   "id": "067b3f73",
   "metadata": {},
   "source": [
    "Reading and writing are the two most common operations in the tree data structure based on the data model (TreeValue and Tianshou Batch both belong to this type), so this section will compare the reading and writing performance of these two libraries."
   ]
  },
  {
   "cell_type": "markdown",
   "id": "5d09a5b7",
   "metadata": {},
   "source": [
    "### TreeValue's Get and Set"
   ]
  },
  {
   "cell_type": "code",
   "execution_count": 2,
   "id": "9519c4bb",
   "metadata": {
    "execution": {
     "iopub.execute_input": "2023-02-27T12:37:34.439234Z",
     "iopub.status.busy": "2023-02-27T12:37:34.438659Z",
     "iopub.status.idle": "2023-02-27T12:37:34.728169Z",
     "shell.execute_reply": "2023-02-27T12:37:34.727146Z"
    }
   },
   "outputs": [],
   "source": [
    "from treevalue import FastTreeValue\n",
    "\n",
    "t = FastTreeValue(_TREE_DATA_2)"
   ]
  },
  {
   "cell_type": "code",
   "execution_count": 3,
   "id": "11c37677",
   "metadata": {
    "execution": {
     "iopub.execute_input": "2023-02-27T12:37:34.731947Z",
     "iopub.status.busy": "2023-02-27T12:37:34.731456Z",
     "iopub.status.idle": "2023-02-27T12:37:34.742189Z",
     "shell.execute_reply": "2023-02-27T12:37:34.741590Z"
    }
   },
   "outputs": [
    {
     "data": {
      "text/plain": [
       "<FastTreeValue 0x7f07fcb97850>\n",
       "├── 'a' --> tensor([[-0.9243, -0.2126, -1.3020],\n",
       "│                   [ 1.5325,  0.0052, -1.1748]])\n",
       "└── 'x' --> <FastTreeValue 0x7f07fcb978b0>\n",
       "    └── 'c' --> tensor([[-0.7799,  0.6385, -0.5867,  1.0679],\n",
       "                        [-0.9532,  0.0329, -0.7299,  1.0554],\n",
       "                        [-0.6603, -0.0979,  0.8918,  1.2448]])"
      ]
     },
     "execution_count": 3,
     "metadata": {},
     "output_type": "execute_result"
    }
   ],
   "source": [
    "t"
   ]
  },
  {
   "cell_type": "code",
   "execution_count": 4,
   "id": "fd70b0b9",
   "metadata": {
    "execution": {
     "iopub.execute_input": "2023-02-27T12:37:34.745639Z",
     "iopub.status.busy": "2023-02-27T12:37:34.744623Z",
     "iopub.status.idle": "2023-02-27T12:37:34.751127Z",
     "shell.execute_reply": "2023-02-27T12:37:34.750221Z"
    }
   },
   "outputs": [
    {
     "data": {
      "text/plain": [
       "tensor([[-0.9243, -0.2126, -1.3020],\n",
       "        [ 1.5325,  0.0052, -1.1748]])"
      ]
     },
     "execution_count": 4,
     "metadata": {},
     "output_type": "execute_result"
    }
   ],
   "source": [
    "t.a"
   ]
  },
  {
   "cell_type": "code",
   "execution_count": 5,
   "id": "c18197bd",
   "metadata": {
    "execution": {
     "iopub.execute_input": "2023-02-27T12:37:34.754138Z",
     "iopub.status.busy": "2023-02-27T12:37:34.753567Z",
     "iopub.status.idle": "2023-02-27T12:37:39.861333Z",
     "shell.execute_reply": "2023-02-27T12:37:39.860427Z"
    }
   },
   "outputs": [
    {
     "name": "stdout",
     "output_type": "stream",
     "text": [
      "62.9 ns ± 0.112 ns per loop (mean ± std. dev. of 7 runs, 10,000,000 loops each)\n"
     ]
    }
   ],
   "source": [
    "%timeit t.a"
   ]
  },
  {
   "cell_type": "code",
   "execution_count": 6,
   "id": "bd52f867",
   "metadata": {
    "execution": {
     "iopub.execute_input": "2023-02-27T12:37:39.864801Z",
     "iopub.status.busy": "2023-02-27T12:37:39.864282Z",
     "iopub.status.idle": "2023-02-27T12:37:39.871837Z",
     "shell.execute_reply": "2023-02-27T12:37:39.871213Z"
    }
   },
   "outputs": [
    {
     "data": {
      "text/plain": [
       "<FastTreeValue 0x7f07fcb97850>\n",
       "├── 'a' --> tensor([[-0.5844,  2.2411,  0.2170],\n",
       "│                   [ 0.2634,  0.6950, -0.5526]])\n",
       "└── 'x' --> <FastTreeValue 0x7f07fcb978b0>\n",
       "    └── 'c' --> tensor([[-0.7799,  0.6385, -0.5867,  1.0679],\n",
       "                        [-0.9532,  0.0329, -0.7299,  1.0554],\n",
       "                        [-0.6603, -0.0979,  0.8918,  1.2448]])"
      ]
     },
     "execution_count": 6,
     "metadata": {},
     "output_type": "execute_result"
    }
   ],
   "source": [
    "new_value = torch.randn(2, 3)\n",
    "t.a = new_value\n",
    "\n",
    "t"
   ]
  },
  {
   "cell_type": "code",
   "execution_count": 7,
   "id": "bbe04d1c",
   "metadata": {
    "execution": {
     "iopub.execute_input": "2023-02-27T12:37:39.874905Z",
     "iopub.status.busy": "2023-02-27T12:37:39.874362Z",
     "iopub.status.idle": "2023-02-27T12:37:45.350451Z",
     "shell.execute_reply": "2023-02-27T12:37:45.349391Z"
    }
   },
   "outputs": [
    {
     "name": "stdout",
     "output_type": "stream",
     "text": [
      "67.5 ns ± 0.107 ns per loop (mean ± std. dev. of 7 runs, 10,000,000 loops each)\n"
     ]
    }
   ],
   "source": [
    "%timeit t.a = new_value"
   ]
  },
  {
   "cell_type": "markdown",
   "id": "48c49731",
   "metadata": {},
   "source": [
    "### Tianshou Batch's Get and Set"
   ]
  },
  {
   "cell_type": "code",
   "execution_count": 8,
   "id": "f1bb14c1",
   "metadata": {
    "execution": {
     "iopub.execute_input": "2023-02-27T12:37:45.354144Z",
     "iopub.status.busy": "2023-02-27T12:37:45.353450Z",
     "iopub.status.idle": "2023-02-27T12:37:45.736135Z",
     "shell.execute_reply": "2023-02-27T12:37:45.735326Z"
    }
   },
   "outputs": [],
   "source": [
    "from tianshou.data import Batch\n",
    "\n",
    "b = Batch(**_TREE_DATA_2)"
   ]
  },
  {
   "cell_type": "code",
   "execution_count": 9,
   "id": "cb0777c3",
   "metadata": {
    "execution": {
     "iopub.execute_input": "2023-02-27T12:37:45.739948Z",
     "iopub.status.busy": "2023-02-27T12:37:45.739424Z",
     "iopub.status.idle": "2023-02-27T12:37:45.746853Z",
     "shell.execute_reply": "2023-02-27T12:37:45.746219Z"
    }
   },
   "outputs": [
    {
     "data": {
      "text/plain": [
       "Batch(\n",
       "    a: tensor([[-0.9243, -0.2126, -1.3020],\n",
       "               [ 1.5325,  0.0052, -1.1748]]),\n",
       "    x: Batch(\n",
       "           c: tensor([[-0.7799,  0.6385, -0.5867,  1.0679],\n",
       "                      [-0.9532,  0.0329, -0.7299,  1.0554],\n",
       "                      [-0.6603, -0.0979,  0.8918,  1.2448]]),\n",
       "       ),\n",
       ")"
      ]
     },
     "execution_count": 9,
     "metadata": {},
     "output_type": "execute_result"
    }
   ],
   "source": [
    "b"
   ]
  },
  {
   "cell_type": "code",
   "execution_count": 10,
   "id": "43ef8ea3",
   "metadata": {
    "execution": {
     "iopub.execute_input": "2023-02-27T12:37:45.749472Z",
     "iopub.status.busy": "2023-02-27T12:37:45.749127Z",
     "iopub.status.idle": "2023-02-27T12:37:45.754906Z",
     "shell.execute_reply": "2023-02-27T12:37:45.754276Z"
    }
   },
   "outputs": [
    {
     "data": {
      "text/plain": [
       "tensor([[-0.9243, -0.2126, -1.3020],\n",
       "        [ 1.5325,  0.0052, -1.1748]])"
      ]
     },
     "execution_count": 10,
     "metadata": {},
     "output_type": "execute_result"
    }
   ],
   "source": [
    "b.a"
   ]
  },
  {
   "cell_type": "code",
   "execution_count": 11,
   "id": "b785ab72",
   "metadata": {
    "execution": {
     "iopub.execute_input": "2023-02-27T12:37:45.757406Z",
     "iopub.status.busy": "2023-02-27T12:37:45.757039Z",
     "iopub.status.idle": "2023-02-27T12:37:50.447650Z",
     "shell.execute_reply": "2023-02-27T12:37:50.446588Z"
    }
   },
   "outputs": [
    {
     "name": "stdout",
     "output_type": "stream",
     "text": [
      "57.7 ns ± 0.168 ns per loop (mean ± std. dev. of 7 runs, 10,000,000 loops each)\n"
     ]
    }
   ],
   "source": [
    "%timeit b.a"
   ]
  },
  {
   "cell_type": "code",
   "execution_count": 12,
   "id": "ad54dc69",
   "metadata": {
    "execution": {
     "iopub.execute_input": "2023-02-27T12:37:50.451125Z",
     "iopub.status.busy": "2023-02-27T12:37:50.450513Z",
     "iopub.status.idle": "2023-02-27T12:37:50.456829Z",
     "shell.execute_reply": "2023-02-27T12:37:50.456142Z"
    }
   },
   "outputs": [
    {
     "data": {
      "text/plain": [
       "Batch(\n",
       "    a: tensor([[-0.3898, -0.4757,  1.0591],\n",
       "               [ 0.4283, -0.1006,  0.7333]]),\n",
       "    x: Batch(\n",
       "           c: tensor([[-0.7799,  0.6385, -0.5867,  1.0679],\n",
       "                      [-0.9532,  0.0329, -0.7299,  1.0554],\n",
       "                      [-0.6603, -0.0979,  0.8918,  1.2448]]),\n",
       "       ),\n",
       ")"
      ]
     },
     "execution_count": 12,
     "metadata": {},
     "output_type": "execute_result"
    }
   ],
   "source": [
    "new_value = torch.randn(2, 3)\n",
    "b.a = new_value\n",
    "\n",
    "b"
   ]
  },
  {
   "cell_type": "code",
   "execution_count": 13,
   "id": "29b1d0bf",
   "metadata": {
    "execution": {
     "iopub.execute_input": "2023-02-27T12:37:50.459573Z",
     "iopub.status.busy": "2023-02-27T12:37:50.459035Z",
     "iopub.status.idle": "2023-02-27T12:37:54.497325Z",
     "shell.execute_reply": "2023-02-27T12:37:54.496465Z"
    }
   },
   "outputs": [
    {
     "name": "stdout",
     "output_type": "stream",
     "text": [
      "494 ns ± 4.16 ns per loop (mean ± std. dev. of 7 runs, 1,000,000 loops each)\n"
     ]
    }
   ],
   "source": [
    "%timeit b.a = new_value"
   ]
  },
  {
   "cell_type": "markdown",
   "id": "b61ad1d0",
   "metadata": {},
   "source": [
    "## Initialization"
   ]
  },
  {
   "cell_type": "markdown",
   "id": "d70f0d54",
   "metadata": {},
   "source": [
    "### TreeValue's Initialization"
   ]
  },
  {
   "cell_type": "code",
   "execution_count": 14,
   "id": "d32a679b",
   "metadata": {
    "execution": {
     "iopub.execute_input": "2023-02-27T12:37:54.500905Z",
     "iopub.status.busy": "2023-02-27T12:37:54.500389Z",
     "iopub.status.idle": "2023-02-27T12:38:01.053495Z",
     "shell.execute_reply": "2023-02-27T12:38:01.052459Z"
    }
   },
   "outputs": [
    {
     "name": "stdout",
     "output_type": "stream",
     "text": [
      "807 ns ± 0.282 ns per loop (mean ± std. dev. of 7 runs, 1,000,000 loops each)\n"
     ]
    }
   ],
   "source": [
    "%timeit FastTreeValue(_TREE_DATA_1)"
   ]
  },
  {
   "cell_type": "markdown",
   "id": "24f3707b",
   "metadata": {},
   "source": [
    "### Tianshou Batch's Initialization"
   ]
  },
  {
   "cell_type": "code",
   "execution_count": 15,
   "id": "ac3958df",
   "metadata": {
    "execution": {
     "iopub.execute_input": "2023-02-27T12:38:01.057337Z",
     "iopub.status.busy": "2023-02-27T12:38:01.056699Z",
     "iopub.status.idle": "2023-02-27T12:38:09.995559Z",
     "shell.execute_reply": "2023-02-27T12:38:09.994686Z"
    }
   },
   "outputs": [
    {
     "name": "stdout",
     "output_type": "stream",
     "text": [
      "11 µs ± 13.5 ns per loop (mean ± std. dev. of 7 runs, 100,000 loops each)\n"
     ]
    }
   ],
   "source": [
    "%timeit Batch(**_TREE_DATA_1)"
   ]
  },
  {
   "cell_type": "markdown",
   "id": "1ab82e2d",
   "metadata": {},
   "source": [
    "## Deep Copy Operation"
   ]
  },
  {
   "cell_type": "code",
   "execution_count": 16,
   "id": "210a9442",
   "metadata": {
    "execution": {
     "iopub.execute_input": "2023-02-27T12:38:09.999495Z",
     "iopub.status.busy": "2023-02-27T12:38:09.998981Z",
     "iopub.status.idle": "2023-02-27T12:38:10.003452Z",
     "shell.execute_reply": "2023-02-27T12:38:10.002800Z"
    }
   },
   "outputs": [],
   "source": [
    "import copy"
   ]
  },
  {
   "cell_type": "markdown",
   "id": "5a736274",
   "metadata": {},
   "source": [
    "### Deep Copy of TreeValue"
   ]
  },
  {
   "cell_type": "code",
   "execution_count": 17,
   "id": "f9bcadd6",
   "metadata": {
    "execution": {
     "iopub.execute_input": "2023-02-27T12:38:10.006244Z",
     "iopub.status.busy": "2023-02-27T12:38:10.005904Z",
     "iopub.status.idle": "2023-02-27T12:38:21.562679Z",
     "shell.execute_reply": "2023-02-27T12:38:21.561917Z"
    }
   },
   "outputs": [
    {
     "name": "stdout",
     "output_type": "stream",
     "text": [
      "142 µs ± 527 ns per loop (mean ± std. dev. of 7 runs, 10,000 loops each)\n"
     ]
    }
   ],
   "source": [
    "t3 = FastTreeValue(_TREE_DATA_3)\n",
    "%timeit copy.deepcopy(t3)"
   ]
  },
  {
   "cell_type": "markdown",
   "id": "bf8be7ea",
   "metadata": {},
   "source": [
    "### Deep Copy of Tianshou Batch"
   ]
  },
  {
   "cell_type": "code",
   "execution_count": 18,
   "id": "91998e6f",
   "metadata": {
    "execution": {
     "iopub.execute_input": "2023-02-27T12:38:21.566446Z",
     "iopub.status.busy": "2023-02-27T12:38:21.566063Z",
     "iopub.status.idle": "2023-02-27T12:38:33.110678Z",
     "shell.execute_reply": "2023-02-27T12:38:33.110016Z"
    }
   },
   "outputs": [
    {
     "name": "stdout",
     "output_type": "stream",
     "text": [
      "142 µs ± 527 ns per loop (mean ± std. dev. of 7 runs, 10,000 loops each)\n"
     ]
    }
   ],
   "source": [
    "b3 = Batch(**_TREE_DATA_3)\n",
    "%timeit copy.deepcopy(b3)"
   ]
  },
  {
   "cell_type": "markdown",
   "id": "223162fb",
   "metadata": {},
   "source": [
    "## Stack, Concat and Split Operation"
   ]
  },
  {
   "cell_type": "markdown",
   "id": "85fa4a73",
   "metadata": {},
   "source": [
    "### Performance of TreeValue"
   ]
  },
  {
   "cell_type": "code",
   "execution_count": 19,
   "id": "a0c2b697",
   "metadata": {
    "execution": {
     "iopub.execute_input": "2023-02-27T12:38:33.113708Z",
     "iopub.status.busy": "2023-02-27T12:38:33.113300Z",
     "iopub.status.idle": "2023-02-27T12:38:33.116610Z",
     "shell.execute_reply": "2023-02-27T12:38:33.116048Z"
    }
   },
   "outputs": [],
   "source": [
    "trees = [FastTreeValue(_TREE_DATA_2) for _ in range(8)]"
   ]
  },
  {
   "cell_type": "code",
   "execution_count": 20,
   "id": "017ea5a5",
   "metadata": {
    "execution": {
     "iopub.execute_input": "2023-02-27T12:38:33.119082Z",
     "iopub.status.busy": "2023-02-27T12:38:33.118705Z",
     "iopub.status.idle": "2023-02-27T12:38:33.126268Z",
     "shell.execute_reply": "2023-02-27T12:38:33.125085Z"
    }
   },
   "outputs": [
    {
     "data": {
      "text/plain": [
       "<FastTreeValue 0x7f0747e4fdf0>\n",
       "├── 'a' --> tensor([[[-0.9243, -0.2126, -1.3020],\n",
       "│                    [ 1.5325,  0.0052, -1.1748]],\n",
       "│           \n",
       "│                   [[-0.9243, -0.2126, -1.3020],\n",
       "│                    [ 1.5325,  0.0052, -1.1748]],\n",
       "│           \n",
       "│                   [[-0.9243, -0.2126, -1.3020],\n",
       "│                    [ 1.5325,  0.0052, -1.1748]],\n",
       "│           \n",
       "│                   [[-0.9243, -0.2126, -1.3020],\n",
       "│                    [ 1.5325,  0.0052, -1.1748]],\n",
       "│           \n",
       "│                   [[-0.9243, -0.2126, -1.3020],\n",
       "│                    [ 1.5325,  0.0052, -1.1748]],\n",
       "│           \n",
       "│                   [[-0.9243, -0.2126, -1.3020],\n",
       "│                    [ 1.5325,  0.0052, -1.1748]],\n",
       "│           \n",
       "│                   [[-0.9243, -0.2126, -1.3020],\n",
       "│                    [ 1.5325,  0.0052, -1.1748]],\n",
       "│           \n",
       "│                   [[-0.9243, -0.2126, -1.3020],\n",
       "│                    [ 1.5325,  0.0052, -1.1748]]])\n",
       "└── 'x' --> <FastTreeValue 0x7f0747e4fa00>\n",
       "    └── 'c' --> tensor([[[-0.7799,  0.6385, -0.5867,  1.0679],\n",
       "                         [-0.9532,  0.0329, -0.7299,  1.0554],\n",
       "                         [-0.6603, -0.0979,  0.8918,  1.2448]],\n",
       "                \n",
       "                        [[-0.7799,  0.6385, -0.5867,  1.0679],\n",
       "                         [-0.9532,  0.0329, -0.7299,  1.0554],\n",
       "                         [-0.6603, -0.0979,  0.8918,  1.2448]],\n",
       "                \n",
       "                        [[-0.7799,  0.6385, -0.5867,  1.0679],\n",
       "                         [-0.9532,  0.0329, -0.7299,  1.0554],\n",
       "                         [-0.6603, -0.0979,  0.8918,  1.2448]],\n",
       "                \n",
       "                        [[-0.7799,  0.6385, -0.5867,  1.0679],\n",
       "                         [-0.9532,  0.0329, -0.7299,  1.0554],\n",
       "                         [-0.6603, -0.0979,  0.8918,  1.2448]],\n",
       "                \n",
       "                        [[-0.7799,  0.6385, -0.5867,  1.0679],\n",
       "                         [-0.9532,  0.0329, -0.7299,  1.0554],\n",
       "                         [-0.6603, -0.0979,  0.8918,  1.2448]],\n",
       "                \n",
       "                        [[-0.7799,  0.6385, -0.5867,  1.0679],\n",
       "                         [-0.9532,  0.0329, -0.7299,  1.0554],\n",
       "                         [-0.6603, -0.0979,  0.8918,  1.2448]],\n",
       "                \n",
       "                        [[-0.7799,  0.6385, -0.5867,  1.0679],\n",
       "                         [-0.9532,  0.0329, -0.7299,  1.0554],\n",
       "                         [-0.6603, -0.0979,  0.8918,  1.2448]],\n",
       "                \n",
       "                        [[-0.7799,  0.6385, -0.5867,  1.0679],\n",
       "                         [-0.9532,  0.0329, -0.7299,  1.0554],\n",
       "                         [-0.6603, -0.0979,  0.8918,  1.2448]]])"
      ]
     },
     "execution_count": 20,
     "metadata": {},
     "output_type": "execute_result"
    }
   ],
   "source": [
    "t_stack = FastTreeValue.func(subside=True)(torch.stack)\n",
    "\n",
    "t_stack(trees)"
   ]
  },
  {
   "cell_type": "code",
   "execution_count": 21,
   "id": "f8b3f415",
   "metadata": {
    "execution": {
     "iopub.execute_input": "2023-02-27T12:38:33.128677Z",
     "iopub.status.busy": "2023-02-27T12:38:33.128306Z",
     "iopub.status.idle": "2023-02-27T12:38:35.792859Z",
     "shell.execute_reply": "2023-02-27T12:38:35.792015Z"
    }
   },
   "outputs": [
    {
     "name": "stdout",
     "output_type": "stream",
     "text": [
      "32.8 µs ± 70.5 ns per loop (mean ± std. dev. of 7 runs, 10,000 loops each)\n"
     ]
    }
   ],
   "source": [
    "%timeit t_stack(trees)"
   ]
  },
  {
   "cell_type": "code",
   "execution_count": 22,
   "id": "94b56771",
   "metadata": {
    "execution": {
     "iopub.execute_input": "2023-02-27T12:38:35.796437Z",
     "iopub.status.busy": "2023-02-27T12:38:35.795854Z",
     "iopub.status.idle": "2023-02-27T12:38:35.803354Z",
     "shell.execute_reply": "2023-02-27T12:38:35.802682Z"
    }
   },
   "outputs": [
    {
     "data": {
      "text/plain": [
       "<FastTreeValue 0x7f07fcb92190>\n",
       "├── 'a' --> tensor([[-0.9243, -0.2126, -1.3020],\n",
       "│                   [ 1.5325,  0.0052, -1.1748],\n",
       "│                   [-0.9243, -0.2126, -1.3020],\n",
       "│                   [ 1.5325,  0.0052, -1.1748],\n",
       "│                   [-0.9243, -0.2126, -1.3020],\n",
       "│                   [ 1.5325,  0.0052, -1.1748],\n",
       "│                   [-0.9243, -0.2126, -1.3020],\n",
       "│                   [ 1.5325,  0.0052, -1.1748],\n",
       "│                   [-0.9243, -0.2126, -1.3020],\n",
       "│                   [ 1.5325,  0.0052, -1.1748],\n",
       "│                   [-0.9243, -0.2126, -1.3020],\n",
       "│                   [ 1.5325,  0.0052, -1.1748],\n",
       "│                   [-0.9243, -0.2126, -1.3020],\n",
       "│                   [ 1.5325,  0.0052, -1.1748],\n",
       "│                   [-0.9243, -0.2126, -1.3020],\n",
       "│                   [ 1.5325,  0.0052, -1.1748]])\n",
       "└── 'x' --> <FastTreeValue 0x7f07fcbf7fd0>\n",
       "    └── 'c' --> tensor([[-0.7799,  0.6385, -0.5867,  1.0679],\n",
       "                        [-0.9532,  0.0329, -0.7299,  1.0554],\n",
       "                        [-0.6603, -0.0979,  0.8918,  1.2448],\n",
       "                        [-0.7799,  0.6385, -0.5867,  1.0679],\n",
       "                        [-0.9532,  0.0329, -0.7299,  1.0554],\n",
       "                        [-0.6603, -0.0979,  0.8918,  1.2448],\n",
       "                        [-0.7799,  0.6385, -0.5867,  1.0679],\n",
       "                        [-0.9532,  0.0329, -0.7299,  1.0554],\n",
       "                        [-0.6603, -0.0979,  0.8918,  1.2448],\n",
       "                        [-0.7799,  0.6385, -0.5867,  1.0679],\n",
       "                        [-0.9532,  0.0329, -0.7299,  1.0554],\n",
       "                        [-0.6603, -0.0979,  0.8918,  1.2448],\n",
       "                        [-0.7799,  0.6385, -0.5867,  1.0679],\n",
       "                        [-0.9532,  0.0329, -0.7299,  1.0554],\n",
       "                        [-0.6603, -0.0979,  0.8918,  1.2448],\n",
       "                        [-0.7799,  0.6385, -0.5867,  1.0679],\n",
       "                        [-0.9532,  0.0329, -0.7299,  1.0554],\n",
       "                        [-0.6603, -0.0979,  0.8918,  1.2448],\n",
       "                        [-0.7799,  0.6385, -0.5867,  1.0679],\n",
       "                        [-0.9532,  0.0329, -0.7299,  1.0554],\n",
       "                        [-0.6603, -0.0979,  0.8918,  1.2448],\n",
       "                        [-0.7799,  0.6385, -0.5867,  1.0679],\n",
       "                        [-0.9532,  0.0329, -0.7299,  1.0554],\n",
       "                        [-0.6603, -0.0979,  0.8918,  1.2448]])"
      ]
     },
     "execution_count": 22,
     "metadata": {},
     "output_type": "execute_result"
    }
   ],
   "source": [
    "t_cat = FastTreeValue.func(subside=True)(torch.cat)\n",
    "\n",
    "t_cat(trees)"
   ]
  },
  {
   "cell_type": "code",
   "execution_count": 23,
   "id": "5e9c06a6",
   "metadata": {
    "execution": {
     "iopub.execute_input": "2023-02-27T12:38:35.805879Z",
     "iopub.status.busy": "2023-02-27T12:38:35.805513Z",
     "iopub.status.idle": "2023-02-27T12:38:38.288247Z",
     "shell.execute_reply": "2023-02-27T12:38:38.287253Z"
    }
   },
   "outputs": [
    {
     "name": "stdout",
     "output_type": "stream",
     "text": [
      "30.5 µs ± 56.9 ns per loop (mean ± std. dev. of 7 runs, 10,000 loops each)\n"
     ]
    }
   ],
   "source": [
    "%timeit t_cat(trees)"
   ]
  },
  {
   "cell_type": "code",
   "execution_count": 24,
   "id": "a3ab5c8f",
   "metadata": {
    "execution": {
     "iopub.execute_input": "2023-02-27T12:38:38.291662Z",
     "iopub.status.busy": "2023-02-27T12:38:38.291261Z",
     "iopub.status.idle": "2023-02-27T12:38:42.896456Z",
     "shell.execute_reply": "2023-02-27T12:38:42.895565Z"
    }
   },
   "outputs": [
    {
     "name": "stdout",
     "output_type": "stream",
     "text": [
      "56.6 µs ± 96.8 ns per loop (mean ± std. dev. of 7 runs, 10,000 loops each)\n"
     ]
    }
   ],
   "source": [
    "t_split = FastTreeValue.func(rise=True)(torch.split)\n",
    "tree = FastTreeValue({\n",
    "    'obs': torch.randn(8, 4, 84, 84),\n",
    "    'action': torch.randint(0, 6, size=(8, 1,)),\n",
    "    'reward': torch.rand(8, 1),\n",
    "})\n",
    "\n",
    "%timeit t_split(tree, 1)"
   ]
  },
  {
   "cell_type": "markdown",
   "id": "31c3ec0b",
   "metadata": {},
   "source": [
    "### Performance of Tianshou Batch"
   ]
  },
  {
   "cell_type": "code",
   "execution_count": 25,
   "id": "9ead828a",
   "metadata": {
    "execution": {
     "iopub.execute_input": "2023-02-27T12:38:42.899840Z",
     "iopub.status.busy": "2023-02-27T12:38:42.899307Z",
     "iopub.status.idle": "2023-02-27T12:38:42.907968Z",
     "shell.execute_reply": "2023-02-27T12:38:42.907322Z"
    }
   },
   "outputs": [
    {
     "data": {
      "text/plain": [
       "Batch(\n",
       "    a: tensor([[[-0.9243, -0.2126, -1.3020],\n",
       "                [ 1.5325,  0.0052, -1.1748]],\n",
       "       \n",
       "               [[-0.9243, -0.2126, -1.3020],\n",
       "                [ 1.5325,  0.0052, -1.1748]],\n",
       "       \n",
       "               [[-0.9243, -0.2126, -1.3020],\n",
       "                [ 1.5325,  0.0052, -1.1748]],\n",
       "       \n",
       "               [[-0.9243, -0.2126, -1.3020],\n",
       "                [ 1.5325,  0.0052, -1.1748]],\n",
       "       \n",
       "               [[-0.9243, -0.2126, -1.3020],\n",
       "                [ 1.5325,  0.0052, -1.1748]],\n",
       "       \n",
       "               [[-0.9243, -0.2126, -1.3020],\n",
       "                [ 1.5325,  0.0052, -1.1748]],\n",
       "       \n",
       "               [[-0.9243, -0.2126, -1.3020],\n",
       "                [ 1.5325,  0.0052, -1.1748]],\n",
       "       \n",
       "               [[-0.9243, -0.2126, -1.3020],\n",
       "                [ 1.5325,  0.0052, -1.1748]]]),\n",
       "    x: Batch(\n",
       "           c: tensor([[[-0.7799,  0.6385, -0.5867,  1.0679],\n",
       "                       [-0.9532,  0.0329, -0.7299,  1.0554],\n",
       "                       [-0.6603, -0.0979,  0.8918,  1.2448]],\n",
       "              \n",
       "                      [[-0.7799,  0.6385, -0.5867,  1.0679],\n",
       "                       [-0.9532,  0.0329, -0.7299,  1.0554],\n",
       "                       [-0.6603, -0.0979,  0.8918,  1.2448]],\n",
       "              \n",
       "                      [[-0.7799,  0.6385, -0.5867,  1.0679],\n",
       "                       [-0.9532,  0.0329, -0.7299,  1.0554],\n",
       "                       [-0.6603, -0.0979,  0.8918,  1.2448]],\n",
       "              \n",
       "                      [[-0.7799,  0.6385, -0.5867,  1.0679],\n",
       "                       [-0.9532,  0.0329, -0.7299,  1.0554],\n",
       "                       [-0.6603, -0.0979,  0.8918,  1.2448]],\n",
       "              \n",
       "                      [[-0.7799,  0.6385, -0.5867,  1.0679],\n",
       "                       [-0.9532,  0.0329, -0.7299,  1.0554],\n",
       "                       [-0.6603, -0.0979,  0.8918,  1.2448]],\n",
       "              \n",
       "                      [[-0.7799,  0.6385, -0.5867,  1.0679],\n",
       "                       [-0.9532,  0.0329, -0.7299,  1.0554],\n",
       "                       [-0.6603, -0.0979,  0.8918,  1.2448]],\n",
       "              \n",
       "                      [[-0.7799,  0.6385, -0.5867,  1.0679],\n",
       "                       [-0.9532,  0.0329, -0.7299,  1.0554],\n",
       "                       [-0.6603, -0.0979,  0.8918,  1.2448]],\n",
       "              \n",
       "                      [[-0.7799,  0.6385, -0.5867,  1.0679],\n",
       "                       [-0.9532,  0.0329, -0.7299,  1.0554],\n",
       "                       [-0.6603, -0.0979,  0.8918,  1.2448]]]),\n",
       "       ),\n",
       ")"
      ]
     },
     "execution_count": 25,
     "metadata": {},
     "output_type": "execute_result"
    }
   ],
   "source": [
    "batches = [Batch(**_TREE_DATA_2) for _ in range(8)]\n",
    "\n",
    "Batch.stack(batches)"
   ]
  },
  {
   "cell_type": "code",
   "execution_count": 26,
   "id": "ec9037a3",
   "metadata": {
    "execution": {
     "iopub.execute_input": "2023-02-27T12:38:42.910670Z",
     "iopub.status.busy": "2023-02-27T12:38:42.910362Z",
     "iopub.status.idle": "2023-02-27T12:38:49.168390Z",
     "shell.execute_reply": "2023-02-27T12:38:49.167536Z"
    }
   },
   "outputs": [
    {
     "name": "stdout",
     "output_type": "stream",
     "text": [
      "77 µs ± 337 ns per loop (mean ± std. dev. of 7 runs, 10,000 loops each)\n"
     ]
    }
   ],
   "source": [
    "%timeit Batch.stack(batches)"
   ]
  },
  {
   "cell_type": "code",
   "execution_count": 27,
   "id": "cb8ab77e",
   "metadata": {
    "execution": {
     "iopub.execute_input": "2023-02-27T12:38:49.172048Z",
     "iopub.status.busy": "2023-02-27T12:38:49.171470Z",
     "iopub.status.idle": "2023-02-27T12:38:49.179480Z",
     "shell.execute_reply": "2023-02-27T12:38:49.178844Z"
    }
   },
   "outputs": [
    {
     "data": {
      "text/plain": [
       "Batch(\n",
       "    a: tensor([[-0.9243, -0.2126, -1.3020],\n",
       "               [ 1.5325,  0.0052, -1.1748],\n",
       "               [-0.9243, -0.2126, -1.3020],\n",
       "               [ 1.5325,  0.0052, -1.1748],\n",
       "               [-0.9243, -0.2126, -1.3020],\n",
       "               [ 1.5325,  0.0052, -1.1748],\n",
       "               [-0.9243, -0.2126, -1.3020],\n",
       "               [ 1.5325,  0.0052, -1.1748],\n",
       "               [-0.9243, -0.2126, -1.3020],\n",
       "               [ 1.5325,  0.0052, -1.1748],\n",
       "               [-0.9243, -0.2126, -1.3020],\n",
       "               [ 1.5325,  0.0052, -1.1748],\n",
       "               [-0.9243, -0.2126, -1.3020],\n",
       "               [ 1.5325,  0.0052, -1.1748],\n",
       "               [-0.9243, -0.2126, -1.3020],\n",
       "               [ 1.5325,  0.0052, -1.1748]]),\n",
       "    x: Batch(\n",
       "           c: tensor([[-0.7799,  0.6385, -0.5867,  1.0679],\n",
       "                      [-0.9532,  0.0329, -0.7299,  1.0554],\n",
       "                      [-0.6603, -0.0979,  0.8918,  1.2448],\n",
       "                      [-0.7799,  0.6385, -0.5867,  1.0679],\n",
       "                      [-0.9532,  0.0329, -0.7299,  1.0554],\n",
       "                      [-0.6603, -0.0979,  0.8918,  1.2448],\n",
       "                      [-0.7799,  0.6385, -0.5867,  1.0679],\n",
       "                      [-0.9532,  0.0329, -0.7299,  1.0554],\n",
       "                      [-0.6603, -0.0979,  0.8918,  1.2448],\n",
       "                      [-0.7799,  0.6385, -0.5867,  1.0679],\n",
       "                      [-0.9532,  0.0329, -0.7299,  1.0554],\n",
       "                      [-0.6603, -0.0979,  0.8918,  1.2448],\n",
       "                      [-0.7799,  0.6385, -0.5867,  1.0679],\n",
       "                      [-0.9532,  0.0329, -0.7299,  1.0554],\n",
       "                      [-0.6603, -0.0979,  0.8918,  1.2448],\n",
       "                      [-0.7799,  0.6385, -0.5867,  1.0679],\n",
       "                      [-0.9532,  0.0329, -0.7299,  1.0554],\n",
       "                      [-0.6603, -0.0979,  0.8918,  1.2448],\n",
       "                      [-0.7799,  0.6385, -0.5867,  1.0679],\n",
       "                      [-0.9532,  0.0329, -0.7299,  1.0554],\n",
       "                      [-0.6603, -0.0979,  0.8918,  1.2448],\n",
       "                      [-0.7799,  0.6385, -0.5867,  1.0679],\n",
       "                      [-0.9532,  0.0329, -0.7299,  1.0554],\n",
       "                      [-0.6603, -0.0979,  0.8918,  1.2448]]),\n",
       "       ),\n",
       ")"
      ]
     },
     "execution_count": 27,
     "metadata": {},
     "output_type": "execute_result"
    }
   ],
   "source": [
    "Batch.cat(batches)"
   ]
  },
  {
   "cell_type": "code",
   "execution_count": 28,
   "id": "18dfb045",
   "metadata": {
    "execution": {
     "iopub.execute_input": "2023-02-27T12:38:49.181959Z",
     "iopub.status.busy": "2023-02-27T12:38:49.181598Z",
     "iopub.status.idle": "2023-02-27T12:39:00.849865Z",
     "shell.execute_reply": "2023-02-27T12:39:00.849009Z"
    }
   },
   "outputs": [
    {
     "name": "stdout",
     "output_type": "stream",
     "text": [
      "144 µs ± 409 ns per loop (mean ± std. dev. of 7 runs, 10,000 loops each)\n"
     ]
    }
   ],
   "source": [
    "%timeit Batch.cat(batches)"
   ]
  },
  {
   "cell_type": "code",
   "execution_count": 29,
   "id": "c6688e51",
   "metadata": {
    "execution": {
     "iopub.execute_input": "2023-02-27T12:39:00.853226Z",
     "iopub.status.busy": "2023-02-27T12:39:00.852675Z",
     "iopub.status.idle": "2023-02-27T12:39:03.502080Z",
     "shell.execute_reply": "2023-02-27T12:39:03.501293Z"
    }
   },
   "outputs": [
    {
     "name": "stdout",
     "output_type": "stream",
     "text": [
      "326 µs ± 7.56 µs per loop (mean ± std. dev. of 7 runs, 1,000 loops each)\n"
     ]
    }
   ],
   "source": [
    "batch = Batch({\n",
    "    'obs': torch.randn(8, 4, 84, 84),\n",
    "    'action': torch.randint(0, 6, size=(8, 1,)),\n",
    "    'reward': torch.rand(8, 1)}\n",
    ")\n",
    "\n",
    "%timeit list(Batch.split(batch, 1, shuffle=False, merge_last=True))"
   ]
  },
  {
   "cell_type": "code",
   "execution_count": null,
   "id": "2539fbd9",
   "metadata": {},
   "outputs": [],
   "source": []
  }
 ],
 "metadata": {
  "kernelspec": {
   "display_name": "Python 3 (ipykernel)",
   "language": "python",
   "name": "python3"
  },
  "language_info": {
   "codemirror_mode": {
    "name": "ipython",
    "version": 3
   },
   "file_extension": ".py",
   "mimetype": "text/x-python",
   "name": "python",
   "nbconvert_exporter": "python",
   "pygments_lexer": "ipython3",
   "version": "3.8.16"
  }
 },
 "nbformat": 4,
 "nbformat_minor": 5
}
