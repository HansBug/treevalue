{
 "cells": [
  {
   "cell_type": "markdown",
   "id": "9d39d946",
   "metadata": {},
   "source": [
    "# Comparison Between TreeValue and Tianshou Batch"
   ]
  },
  {
   "cell_type": "markdown",
   "id": "3c6db2d4",
   "metadata": {},
   "source": [
    "In this section, we will take a look at the feature and performance of the [Tianshou Batch](https://github.com/thu-ml/tianshou) library, which is developed by Tsinghua Machine Learning Group."
   ]
  },
  {
   "cell_type": "markdown",
   "id": "069361b0",
   "metadata": {},
   "source": [
    "Before starting the comparison, let us define some thing."
   ]
  },
  {
   "cell_type": "code",
   "execution_count": 1,
   "id": "06fc8d26",
   "metadata": {
    "execution": {
     "iopub.execute_input": "2023-02-25T19:48:13.725669Z",
     "iopub.status.busy": "2023-02-25T19:48:13.725200Z",
     "iopub.status.idle": "2023-02-25T19:48:14.723232Z",
     "shell.execute_reply": "2023-02-25T19:48:14.722425Z"
    }
   },
   "outputs": [
    {
     "name": "stderr",
     "output_type": "stream",
     "text": [
      "/opt/hostedtoolcache/Python/3.8.16/x64/lib/python3.8/site-packages/tqdm/auto.py:22: TqdmWarning: IProgress not found. Please update jupyter and ipywidgets. See https://ipywidgets.readthedocs.io/en/stable/user_install.html\n",
      "  from .autonotebook import tqdm as notebook_tqdm\n"
     ]
    }
   ],
   "source": [
    "import torch \n",
    "\n",
    "_TREE_DATA_1 = {'a': 1, 'b': 2, 'x': {'c': 3, 'd': 4}}\n",
    "_TREE_DATA_2 = {\n",
    "    'a': torch.randn(2, 3), \n",
    "    'x': {\n",
    "        'c': torch.randn(3, 4)\n",
    "    },\n",
    "}\n",
    "_TREE_DATA_3 = {\n",
    "    'obs': torch.randn(4, 84, 84),\n",
    "    'action': torch.randint(0, 6, size=(1,)),\n",
    "    'reward': torch.rand(1),\n",
    "}"
   ]
  },
  {
   "cell_type": "markdown",
   "id": "83461b25",
   "metadata": {},
   "source": [
    "## Read and Write Operation"
   ]
  },
  {
   "cell_type": "markdown",
   "id": "067b3f73",
   "metadata": {},
   "source": [
    "Reading and writing are the two most common operations in the tree data structure based on the data model (TreeValue and Tianshou Batch both belong to this type), so this section will compare the reading and writing performance of these two libraries."
   ]
  },
  {
   "cell_type": "markdown",
   "id": "5d09a5b7",
   "metadata": {},
   "source": [
    "### TreeValue's Get and Set"
   ]
  },
  {
   "cell_type": "code",
   "execution_count": 2,
   "id": "9519c4bb",
   "metadata": {
    "execution": {
     "iopub.execute_input": "2023-02-25T19:48:14.727745Z",
     "iopub.status.busy": "2023-02-25T19:48:14.727418Z",
     "iopub.status.idle": "2023-02-25T19:48:14.763031Z",
     "shell.execute_reply": "2023-02-25T19:48:14.762245Z"
    }
   },
   "outputs": [],
   "source": [
    "from treevalue import FastTreeValue\n",
    "\n",
    "t = FastTreeValue(_TREE_DATA_2)"
   ]
  },
  {
   "cell_type": "code",
   "execution_count": 3,
   "id": "11c37677",
   "metadata": {
    "execution": {
     "iopub.execute_input": "2023-02-25T19:48:14.766487Z",
     "iopub.status.busy": "2023-02-25T19:48:14.766222Z",
     "iopub.status.idle": "2023-02-25T19:48:14.775420Z",
     "shell.execute_reply": "2023-02-25T19:48:14.774682Z"
    }
   },
   "outputs": [
    {
     "data": {
      "text/plain": [
       "<FastTreeValue 0x7f8934498a60>\n",
       "├── 'a' --> tensor([[-0.1392, -1.0507,  0.2461],\n",
       "│                   [ 0.6169, -0.9462, -1.3576]])\n",
       "└── 'x' --> <FastTreeValue 0x7f8934498c70>\n",
       "    └── 'c' --> tensor([[-0.0786,  1.0145, -0.3751, -1.8855],\n",
       "                        [ 1.2679,  0.6253,  0.5551, -0.4105],\n",
       "                        [ 2.0189, -0.1684,  0.0351, -0.0676]])"
      ]
     },
     "execution_count": 3,
     "metadata": {},
     "output_type": "execute_result"
    }
   ],
   "source": [
    "t"
   ]
  },
  {
   "cell_type": "code",
   "execution_count": 4,
   "id": "fd70b0b9",
   "metadata": {
    "execution": {
     "iopub.execute_input": "2023-02-25T19:48:14.778139Z",
     "iopub.status.busy": "2023-02-25T19:48:14.777888Z",
     "iopub.status.idle": "2023-02-25T19:48:14.783050Z",
     "shell.execute_reply": "2023-02-25T19:48:14.782365Z"
    }
   },
   "outputs": [
    {
     "data": {
      "text/plain": [
       "tensor([[-0.1392, -1.0507,  0.2461],\n",
       "        [ 0.6169, -0.9462, -1.3576]])"
      ]
     },
     "execution_count": 4,
     "metadata": {},
     "output_type": "execute_result"
    }
   ],
   "source": [
    "t.a"
   ]
  },
  {
   "cell_type": "code",
   "execution_count": 5,
   "id": "c18197bd",
   "metadata": {
    "execution": {
     "iopub.execute_input": "2023-02-25T19:48:14.786213Z",
     "iopub.status.busy": "2023-02-25T19:48:14.785665Z",
     "iopub.status.idle": "2023-02-25T19:48:19.845608Z",
     "shell.execute_reply": "2023-02-25T19:48:19.844688Z"
    }
   },
   "outputs": [
    {
     "name": "stdout",
     "output_type": "stream",
     "text": [
      "62.3 ns ± 0.0882 ns per loop (mean ± std. dev. of 7 runs, 10,000,000 loops each)\n"
     ]
    }
   ],
   "source": [
    "%timeit t.a"
   ]
  },
  {
   "cell_type": "code",
   "execution_count": 6,
   "id": "bd52f867",
   "metadata": {
    "execution": {
     "iopub.execute_input": "2023-02-25T19:48:19.849038Z",
     "iopub.status.busy": "2023-02-25T19:48:19.848631Z",
     "iopub.status.idle": "2023-02-25T19:48:19.855959Z",
     "shell.execute_reply": "2023-02-25T19:48:19.855316Z"
    }
   },
   "outputs": [
    {
     "data": {
      "text/plain": [
       "<FastTreeValue 0x7f8934498a60>\n",
       "├── 'a' --> tensor([[-0.4606, -1.8415,  0.5770],\n",
       "│                   [ 0.4975, -1.1773, -0.6797]])\n",
       "└── 'x' --> <FastTreeValue 0x7f8934498c70>\n",
       "    └── 'c' --> tensor([[-0.0786,  1.0145, -0.3751, -1.8855],\n",
       "                        [ 1.2679,  0.6253,  0.5551, -0.4105],\n",
       "                        [ 2.0189, -0.1684,  0.0351, -0.0676]])"
      ]
     },
     "execution_count": 6,
     "metadata": {},
     "output_type": "execute_result"
    }
   ],
   "source": [
    "new_value = torch.randn(2, 3)\n",
    "t.a = new_value\n",
    "\n",
    "t"
   ]
  },
  {
   "cell_type": "code",
   "execution_count": 7,
   "id": "bbe04d1c",
   "metadata": {
    "execution": {
     "iopub.execute_input": "2023-02-25T19:48:19.858987Z",
     "iopub.status.busy": "2023-02-25T19:48:19.858405Z",
     "iopub.status.idle": "2023-02-25T19:48:25.579811Z",
     "shell.execute_reply": "2023-02-25T19:48:25.578905Z"
    }
   },
   "outputs": [
    {
     "name": "stdout",
     "output_type": "stream",
     "text": [
      "70.5 ns ± 0.0457 ns per loop (mean ± std. dev. of 7 runs, 10,000,000 loops each)\n"
     ]
    }
   ],
   "source": [
    "%timeit t.a = new_value"
   ]
  },
  {
   "cell_type": "markdown",
   "id": "48c49731",
   "metadata": {},
   "source": [
    "### Tianshou Batch's Get and Set"
   ]
  },
  {
   "cell_type": "code",
   "execution_count": 8,
   "id": "f1bb14c1",
   "metadata": {
    "execution": {
     "iopub.execute_input": "2023-02-25T19:48:25.582937Z",
     "iopub.status.busy": "2023-02-25T19:48:25.582450Z",
     "iopub.status.idle": "2023-02-25T19:48:25.956103Z",
     "shell.execute_reply": "2023-02-25T19:48:25.955335Z"
    }
   },
   "outputs": [],
   "source": [
    "from tianshou.data import Batch\n",
    "\n",
    "b = Batch(**_TREE_DATA_2)"
   ]
  },
  {
   "cell_type": "code",
   "execution_count": 9,
   "id": "cb0777c3",
   "metadata": {
    "execution": {
     "iopub.execute_input": "2023-02-25T19:48:25.960550Z",
     "iopub.status.busy": "2023-02-25T19:48:25.959562Z",
     "iopub.status.idle": "2023-02-25T19:48:25.965998Z",
     "shell.execute_reply": "2023-02-25T19:48:25.965294Z"
    }
   },
   "outputs": [
    {
     "data": {
      "text/plain": [
       "Batch(\n",
       "    a: tensor([[-0.1392, -1.0507,  0.2461],\n",
       "               [ 0.6169, -0.9462, -1.3576]]),\n",
       "    x: Batch(\n",
       "           c: tensor([[-0.0786,  1.0145, -0.3751, -1.8855],\n",
       "                      [ 1.2679,  0.6253,  0.5551, -0.4105],\n",
       "                      [ 2.0189, -0.1684,  0.0351, -0.0676]]),\n",
       "       ),\n",
       ")"
      ]
     },
     "execution_count": 9,
     "metadata": {},
     "output_type": "execute_result"
    }
   ],
   "source": [
    "b"
   ]
  },
  {
   "cell_type": "code",
   "execution_count": 10,
   "id": "43ef8ea3",
   "metadata": {
    "execution": {
     "iopub.execute_input": "2023-02-25T19:48:25.969031Z",
     "iopub.status.busy": "2023-02-25T19:48:25.968462Z",
     "iopub.status.idle": "2023-02-25T19:48:25.973968Z",
     "shell.execute_reply": "2023-02-25T19:48:25.973245Z"
    }
   },
   "outputs": [
    {
     "data": {
      "text/plain": [
       "tensor([[-0.1392, -1.0507,  0.2461],\n",
       "        [ 0.6169, -0.9462, -1.3576]])"
      ]
     },
     "execution_count": 10,
     "metadata": {},
     "output_type": "execute_result"
    }
   ],
   "source": [
    "b.a"
   ]
  },
  {
   "cell_type": "code",
   "execution_count": 11,
   "id": "b785ab72",
   "metadata": {
    "execution": {
     "iopub.execute_input": "2023-02-25T19:48:25.976840Z",
     "iopub.status.busy": "2023-02-25T19:48:25.976381Z",
     "iopub.status.idle": "2023-02-25T19:48:30.734489Z",
     "shell.execute_reply": "2023-02-25T19:48:30.733568Z"
    }
   },
   "outputs": [
    {
     "name": "stdout",
     "output_type": "stream",
     "text": [
      "58.6 ns ± 0.0529 ns per loop (mean ± std. dev. of 7 runs, 10,000,000 loops each)\n"
     ]
    }
   ],
   "source": [
    "%timeit b.a"
   ]
  },
  {
   "cell_type": "code",
   "execution_count": 12,
   "id": "ad54dc69",
   "metadata": {
    "execution": {
     "iopub.execute_input": "2023-02-25T19:48:30.738022Z",
     "iopub.status.busy": "2023-02-25T19:48:30.737603Z",
     "iopub.status.idle": "2023-02-25T19:48:30.744884Z",
     "shell.execute_reply": "2023-02-25T19:48:30.744248Z"
    }
   },
   "outputs": [
    {
     "data": {
      "text/plain": [
       "Batch(\n",
       "    a: tensor([[-0.9693,  0.4038,  1.5446],\n",
       "               [ 0.8243, -0.1102,  0.0415]]),\n",
       "    x: Batch(\n",
       "           c: tensor([[-0.0786,  1.0145, -0.3751, -1.8855],\n",
       "                      [ 1.2679,  0.6253,  0.5551, -0.4105],\n",
       "                      [ 2.0189, -0.1684,  0.0351, -0.0676]]),\n",
       "       ),\n",
       ")"
      ]
     },
     "execution_count": 12,
     "metadata": {},
     "output_type": "execute_result"
    }
   ],
   "source": [
    "new_value = torch.randn(2, 3)\n",
    "b.a = new_value\n",
    "\n",
    "b"
   ]
  },
  {
   "cell_type": "code",
   "execution_count": 13,
   "id": "29b1d0bf",
   "metadata": {
    "execution": {
     "iopub.execute_input": "2023-02-25T19:48:30.747939Z",
     "iopub.status.busy": "2023-02-25T19:48:30.747476Z",
     "iopub.status.idle": "2023-02-25T19:48:34.790288Z",
     "shell.execute_reply": "2023-02-25T19:48:34.789325Z"
    }
   },
   "outputs": [
    {
     "name": "stdout",
     "output_type": "stream",
     "text": [
      "499 ns ± 0.681 ns per loop (mean ± std. dev. of 7 runs, 1,000,000 loops each)\n"
     ]
    }
   ],
   "source": [
    "%timeit b.a = new_value"
   ]
  },
  {
   "cell_type": "markdown",
   "id": "b61ad1d0",
   "metadata": {},
   "source": [
    "## Initialization"
   ]
  },
  {
   "cell_type": "markdown",
   "id": "d70f0d54",
   "metadata": {},
   "source": [
    "### TreeValue's Initialization"
   ]
  },
  {
   "cell_type": "code",
   "execution_count": 14,
   "id": "d32a679b",
   "metadata": {
    "execution": {
     "iopub.execute_input": "2023-02-25T19:48:34.794307Z",
     "iopub.status.busy": "2023-02-25T19:48:34.793651Z",
     "iopub.status.idle": "2023-02-25T19:48:41.715515Z",
     "shell.execute_reply": "2023-02-25T19:48:41.714528Z"
    }
   },
   "outputs": [
    {
     "name": "stdout",
     "output_type": "stream",
     "text": [
      "852 ns ± 0.206 ns per loop (mean ± std. dev. of 7 runs, 1,000,000 loops each)\n"
     ]
    }
   ],
   "source": [
    "%timeit FastTreeValue(_TREE_DATA_1)"
   ]
  },
  {
   "cell_type": "markdown",
   "id": "24f3707b",
   "metadata": {},
   "source": [
    "### Tianshou Batch's Initialization"
   ]
  },
  {
   "cell_type": "code",
   "execution_count": 15,
   "id": "ac3958df",
   "metadata": {
    "execution": {
     "iopub.execute_input": "2023-02-25T19:48:41.718647Z",
     "iopub.status.busy": "2023-02-25T19:48:41.718163Z",
     "iopub.status.idle": "2023-02-25T19:48:50.556996Z",
     "shell.execute_reply": "2023-02-25T19:48:50.556101Z"
    }
   },
   "outputs": [
    {
     "name": "stdout",
     "output_type": "stream",
     "text": [
      "10.9 µs ± 12 ns per loop (mean ± std. dev. of 7 runs, 100,000 loops each)\n"
     ]
    }
   ],
   "source": [
    "%timeit Batch(**_TREE_DATA_1)"
   ]
  },
  {
   "cell_type": "markdown",
   "id": "1ab82e2d",
   "metadata": {},
   "source": [
    "## Deep Copy Operation"
   ]
  },
  {
   "cell_type": "code",
   "execution_count": 16,
   "id": "210a9442",
   "metadata": {
    "execution": {
     "iopub.execute_input": "2023-02-25T19:48:50.560815Z",
     "iopub.status.busy": "2023-02-25T19:48:50.560227Z",
     "iopub.status.idle": "2023-02-25T19:48:50.564448Z",
     "shell.execute_reply": "2023-02-25T19:48:50.563816Z"
    }
   },
   "outputs": [],
   "source": [
    "import copy"
   ]
  },
  {
   "cell_type": "markdown",
   "id": "5a736274",
   "metadata": {},
   "source": [
    "### Deep Copy of TreeValue"
   ]
  },
  {
   "cell_type": "code",
   "execution_count": 17,
   "id": "f9bcadd6",
   "metadata": {
    "execution": {
     "iopub.execute_input": "2023-02-25T19:48:50.567344Z",
     "iopub.status.busy": "2023-02-25T19:48:50.566758Z",
     "iopub.status.idle": "2023-02-25T19:49:02.311895Z",
     "shell.execute_reply": "2023-02-25T19:49:02.311257Z"
    }
   },
   "outputs": [
    {
     "name": "stdout",
     "output_type": "stream",
     "text": [
      "145 µs ± 523 ns per loop (mean ± std. dev. of 7 runs, 10,000 loops each)\n"
     ]
    }
   ],
   "source": [
    "t3 = FastTreeValue(_TREE_DATA_3)\n",
    "%timeit copy.deepcopy(t3)"
   ]
  },
  {
   "cell_type": "markdown",
   "id": "bf8be7ea",
   "metadata": {},
   "source": [
    "### Deep Copy of Tianshou Batch"
   ]
  },
  {
   "cell_type": "code",
   "execution_count": 18,
   "id": "91998e6f",
   "metadata": {
    "execution": {
     "iopub.execute_input": "2023-02-25T19:49:02.314818Z",
     "iopub.status.busy": "2023-02-25T19:49:02.314312Z",
     "iopub.status.idle": "2023-02-25T19:49:14.028665Z",
     "shell.execute_reply": "2023-02-25T19:49:14.027862Z"
    }
   },
   "outputs": [
    {
     "name": "stdout",
     "output_type": "stream",
     "text": [
      "144 µs ± 846 ns per loop (mean ± std. dev. of 7 runs, 10,000 loops each)\n"
     ]
    }
   ],
   "source": [
    "b3 = Batch(**_TREE_DATA_3)\n",
    "%timeit copy.deepcopy(b3)"
   ]
  },
  {
   "cell_type": "markdown",
   "id": "223162fb",
   "metadata": {},
   "source": [
    "## Stack, Concat and Split Operation"
   ]
  },
  {
   "cell_type": "markdown",
   "id": "85fa4a73",
   "metadata": {},
   "source": [
    "### Performance of TreeValue"
   ]
  },
  {
   "cell_type": "code",
   "execution_count": 19,
   "id": "a0c2b697",
   "metadata": {
    "execution": {
     "iopub.execute_input": "2023-02-25T19:49:14.031838Z",
     "iopub.status.busy": "2023-02-25T19:49:14.031431Z",
     "iopub.status.idle": "2023-02-25T19:49:14.035833Z",
     "shell.execute_reply": "2023-02-25T19:49:14.035206Z"
    }
   },
   "outputs": [],
   "source": [
    "trees = [FastTreeValue(_TREE_DATA_2) for _ in range(8)]"
   ]
  },
  {
   "cell_type": "code",
   "execution_count": 20,
   "id": "017ea5a5",
   "metadata": {
    "execution": {
     "iopub.execute_input": "2023-02-25T19:49:14.038428Z",
     "iopub.status.busy": "2023-02-25T19:49:14.038054Z",
     "iopub.status.idle": "2023-02-25T19:49:14.046233Z",
     "shell.execute_reply": "2023-02-25T19:49:14.045602Z"
    }
   },
   "outputs": [
    {
     "data": {
      "text/plain": [
       "<FastTreeValue 0x7f89344a0700>\n",
       "├── 'a' --> tensor([[[-0.1392, -1.0507,  0.2461],\n",
       "│                    [ 0.6169, -0.9462, -1.3576]],\n",
       "│           \n",
       "│                   [[-0.1392, -1.0507,  0.2461],\n",
       "│                    [ 0.6169, -0.9462, -1.3576]],\n",
       "│           \n",
       "│                   [[-0.1392, -1.0507,  0.2461],\n",
       "│                    [ 0.6169, -0.9462, -1.3576]],\n",
       "│           \n",
       "│                   [[-0.1392, -1.0507,  0.2461],\n",
       "│                    [ 0.6169, -0.9462, -1.3576]],\n",
       "│           \n",
       "│                   [[-0.1392, -1.0507,  0.2461],\n",
       "│                    [ 0.6169, -0.9462, -1.3576]],\n",
       "│           \n",
       "│                   [[-0.1392, -1.0507,  0.2461],\n",
       "│                    [ 0.6169, -0.9462, -1.3576]],\n",
       "│           \n",
       "│                   [[-0.1392, -1.0507,  0.2461],\n",
       "│                    [ 0.6169, -0.9462, -1.3576]],\n",
       "│           \n",
       "│                   [[-0.1392, -1.0507,  0.2461],\n",
       "│                    [ 0.6169, -0.9462, -1.3576]]])\n",
       "└── 'x' --> <FastTreeValue 0x7f8934498b20>\n",
       "    └── 'c' --> tensor([[[-0.0786,  1.0145, -0.3751, -1.8855],\n",
       "                         [ 1.2679,  0.6253,  0.5551, -0.4105],\n",
       "                         [ 2.0189, -0.1684,  0.0351, -0.0676]],\n",
       "                \n",
       "                        [[-0.0786,  1.0145, -0.3751, -1.8855],\n",
       "                         [ 1.2679,  0.6253,  0.5551, -0.4105],\n",
       "                         [ 2.0189, -0.1684,  0.0351, -0.0676]],\n",
       "                \n",
       "                        [[-0.0786,  1.0145, -0.3751, -1.8855],\n",
       "                         [ 1.2679,  0.6253,  0.5551, -0.4105],\n",
       "                         [ 2.0189, -0.1684,  0.0351, -0.0676]],\n",
       "                \n",
       "                        [[-0.0786,  1.0145, -0.3751, -1.8855],\n",
       "                         [ 1.2679,  0.6253,  0.5551, -0.4105],\n",
       "                         [ 2.0189, -0.1684,  0.0351, -0.0676]],\n",
       "                \n",
       "                        [[-0.0786,  1.0145, -0.3751, -1.8855],\n",
       "                         [ 1.2679,  0.6253,  0.5551, -0.4105],\n",
       "                         [ 2.0189, -0.1684,  0.0351, -0.0676]],\n",
       "                \n",
       "                        [[-0.0786,  1.0145, -0.3751, -1.8855],\n",
       "                         [ 1.2679,  0.6253,  0.5551, -0.4105],\n",
       "                         [ 2.0189, -0.1684,  0.0351, -0.0676]],\n",
       "                \n",
       "                        [[-0.0786,  1.0145, -0.3751, -1.8855],\n",
       "                         [ 1.2679,  0.6253,  0.5551, -0.4105],\n",
       "                         [ 2.0189, -0.1684,  0.0351, -0.0676]],\n",
       "                \n",
       "                        [[-0.0786,  1.0145, -0.3751, -1.8855],\n",
       "                         [ 1.2679,  0.6253,  0.5551, -0.4105],\n",
       "                         [ 2.0189, -0.1684,  0.0351, -0.0676]]])"
      ]
     },
     "execution_count": 20,
     "metadata": {},
     "output_type": "execute_result"
    }
   ],
   "source": [
    "t_stack = FastTreeValue.func(subside=True)(torch.stack)\n",
    "\n",
    "t_stack(trees)"
   ]
  },
  {
   "cell_type": "code",
   "execution_count": 21,
   "id": "f8b3f415",
   "metadata": {
    "execution": {
     "iopub.execute_input": "2023-02-25T19:49:14.048961Z",
     "iopub.status.busy": "2023-02-25T19:49:14.048592Z",
     "iopub.status.idle": "2023-02-25T19:49:16.680804Z",
     "shell.execute_reply": "2023-02-25T19:49:16.679970Z"
    }
   },
   "outputs": [
    {
     "name": "stdout",
     "output_type": "stream",
     "text": [
      "32.4 µs ± 30.1 ns per loop (mean ± std. dev. of 7 runs, 10,000 loops each)\n"
     ]
    }
   ],
   "source": [
    "%timeit t_stack(trees)"
   ]
  },
  {
   "cell_type": "code",
   "execution_count": 22,
   "id": "94b56771",
   "metadata": {
    "execution": {
     "iopub.execute_input": "2023-02-25T19:49:16.684102Z",
     "iopub.status.busy": "2023-02-25T19:49:16.683605Z",
     "iopub.status.idle": "2023-02-25T19:49:16.691983Z",
     "shell.execute_reply": "2023-02-25T19:49:16.691359Z"
    }
   },
   "outputs": [
    {
     "data": {
      "text/plain": [
       "<FastTreeValue 0x7f8934493340>\n",
       "├── 'a' --> tensor([[-0.1392, -1.0507,  0.2461],\n",
       "│                   [ 0.6169, -0.9462, -1.3576],\n",
       "│                   [-0.1392, -1.0507,  0.2461],\n",
       "│                   [ 0.6169, -0.9462, -1.3576],\n",
       "│                   [-0.1392, -1.0507,  0.2461],\n",
       "│                   [ 0.6169, -0.9462, -1.3576],\n",
       "│                   [-0.1392, -1.0507,  0.2461],\n",
       "│                   [ 0.6169, -0.9462, -1.3576],\n",
       "│                   [-0.1392, -1.0507,  0.2461],\n",
       "│                   [ 0.6169, -0.9462, -1.3576],\n",
       "│                   [-0.1392, -1.0507,  0.2461],\n",
       "│                   [ 0.6169, -0.9462, -1.3576],\n",
       "│                   [-0.1392, -1.0507,  0.2461],\n",
       "│                   [ 0.6169, -0.9462, -1.3576],\n",
       "│                   [-0.1392, -1.0507,  0.2461],\n",
       "│                   [ 0.6169, -0.9462, -1.3576]])\n",
       "└── 'x' --> <FastTreeValue 0x7f8889214700>\n",
       "    └── 'c' --> tensor([[-0.0786,  1.0145, -0.3751, -1.8855],\n",
       "                        [ 1.2679,  0.6253,  0.5551, -0.4105],\n",
       "                        [ 2.0189, -0.1684,  0.0351, -0.0676],\n",
       "                        [-0.0786,  1.0145, -0.3751, -1.8855],\n",
       "                        [ 1.2679,  0.6253,  0.5551, -0.4105],\n",
       "                        [ 2.0189, -0.1684,  0.0351, -0.0676],\n",
       "                        [-0.0786,  1.0145, -0.3751, -1.8855],\n",
       "                        [ 1.2679,  0.6253,  0.5551, -0.4105],\n",
       "                        [ 2.0189, -0.1684,  0.0351, -0.0676],\n",
       "                        [-0.0786,  1.0145, -0.3751, -1.8855],\n",
       "                        [ 1.2679,  0.6253,  0.5551, -0.4105],\n",
       "                        [ 2.0189, -0.1684,  0.0351, -0.0676],\n",
       "                        [-0.0786,  1.0145, -0.3751, -1.8855],\n",
       "                        [ 1.2679,  0.6253,  0.5551, -0.4105],\n",
       "                        [ 2.0189, -0.1684,  0.0351, -0.0676],\n",
       "                        [-0.0786,  1.0145, -0.3751, -1.8855],\n",
       "                        [ 1.2679,  0.6253,  0.5551, -0.4105],\n",
       "                        [ 2.0189, -0.1684,  0.0351, -0.0676],\n",
       "                        [-0.0786,  1.0145, -0.3751, -1.8855],\n",
       "                        [ 1.2679,  0.6253,  0.5551, -0.4105],\n",
       "                        [ 2.0189, -0.1684,  0.0351, -0.0676],\n",
       "                        [-0.0786,  1.0145, -0.3751, -1.8855],\n",
       "                        [ 1.2679,  0.6253,  0.5551, -0.4105],\n",
       "                        [ 2.0189, -0.1684,  0.0351, -0.0676]])"
      ]
     },
     "execution_count": 22,
     "metadata": {},
     "output_type": "execute_result"
    }
   ],
   "source": [
    "t_cat = FastTreeValue.func(subside=True)(torch.cat)\n",
    "\n",
    "t_cat(trees)"
   ]
  },
  {
   "cell_type": "code",
   "execution_count": 23,
   "id": "5e9c06a6",
   "metadata": {
    "execution": {
     "iopub.execute_input": "2023-02-25T19:49:16.694738Z",
     "iopub.status.busy": "2023-02-25T19:49:16.694282Z",
     "iopub.status.idle": "2023-02-25T19:49:19.116774Z",
     "shell.execute_reply": "2023-02-25T19:49:19.115821Z"
    }
   },
   "outputs": [
    {
     "name": "stdout",
     "output_type": "stream",
     "text": [
      "29.8 µs ± 79.7 ns per loop (mean ± std. dev. of 7 runs, 10,000 loops each)\n"
     ]
    }
   ],
   "source": [
    "%timeit t_cat(trees)"
   ]
  },
  {
   "cell_type": "code",
   "execution_count": 24,
   "id": "a3ab5c8f",
   "metadata": {
    "execution": {
     "iopub.execute_input": "2023-02-25T19:49:19.120365Z",
     "iopub.status.busy": "2023-02-25T19:49:19.119758Z",
     "iopub.status.idle": "2023-02-25T19:49:23.708097Z",
     "shell.execute_reply": "2023-02-25T19:49:23.707115Z"
    }
   },
   "outputs": [
    {
     "name": "stdout",
     "output_type": "stream",
     "text": [
      "56.4 µs ± 86.1 ns per loop (mean ± std. dev. of 7 runs, 10,000 loops each)\n"
     ]
    }
   ],
   "source": [
    "t_split = FastTreeValue.func(rise=True)(torch.split)\n",
    "tree = FastTreeValue({\n",
    "    'obs': torch.randn(8, 4, 84, 84),\n",
    "    'action': torch.randint(0, 6, size=(8, 1,)),\n",
    "    'reward': torch.rand(8, 1),\n",
    "})\n",
    "\n",
    "%timeit t_split(tree, 1)"
   ]
  },
  {
   "cell_type": "markdown",
   "id": "31c3ec0b",
   "metadata": {},
   "source": [
    "### Performance of Tianshou Batch"
   ]
  },
  {
   "cell_type": "code",
   "execution_count": 25,
   "id": "9ead828a",
   "metadata": {
    "execution": {
     "iopub.execute_input": "2023-02-25T19:49:23.711599Z",
     "iopub.status.busy": "2023-02-25T19:49:23.710948Z",
     "iopub.status.idle": "2023-02-25T19:49:23.722153Z",
     "shell.execute_reply": "2023-02-25T19:49:23.721475Z"
    }
   },
   "outputs": [
    {
     "data": {
      "text/plain": [
       "Batch(\n",
       "    x: Batch(\n",
       "           c: tensor([[[-0.0786,  1.0145, -0.3751, -1.8855],\n",
       "                       [ 1.2679,  0.6253,  0.5551, -0.4105],\n",
       "                       [ 2.0189, -0.1684,  0.0351, -0.0676]],\n",
       "              \n",
       "                      [[-0.0786,  1.0145, -0.3751, -1.8855],\n",
       "                       [ 1.2679,  0.6253,  0.5551, -0.4105],\n",
       "                       [ 2.0189, -0.1684,  0.0351, -0.0676]],\n",
       "              \n",
       "                      [[-0.0786,  1.0145, -0.3751, -1.8855],\n",
       "                       [ 1.2679,  0.6253,  0.5551, -0.4105],\n",
       "                       [ 2.0189, -0.1684,  0.0351, -0.0676]],\n",
       "              \n",
       "                      [[-0.0786,  1.0145, -0.3751, -1.8855],\n",
       "                       [ 1.2679,  0.6253,  0.5551, -0.4105],\n",
       "                       [ 2.0189, -0.1684,  0.0351, -0.0676]],\n",
       "              \n",
       "                      [[-0.0786,  1.0145, -0.3751, -1.8855],\n",
       "                       [ 1.2679,  0.6253,  0.5551, -0.4105],\n",
       "                       [ 2.0189, -0.1684,  0.0351, -0.0676]],\n",
       "              \n",
       "                      [[-0.0786,  1.0145, -0.3751, -1.8855],\n",
       "                       [ 1.2679,  0.6253,  0.5551, -0.4105],\n",
       "                       [ 2.0189, -0.1684,  0.0351, -0.0676]],\n",
       "              \n",
       "                      [[-0.0786,  1.0145, -0.3751, -1.8855],\n",
       "                       [ 1.2679,  0.6253,  0.5551, -0.4105],\n",
       "                       [ 2.0189, -0.1684,  0.0351, -0.0676]],\n",
       "              \n",
       "                      [[-0.0786,  1.0145, -0.3751, -1.8855],\n",
       "                       [ 1.2679,  0.6253,  0.5551, -0.4105],\n",
       "                       [ 2.0189, -0.1684,  0.0351, -0.0676]]]),\n",
       "       ),\n",
       "    a: tensor([[[-0.1392, -1.0507,  0.2461],\n",
       "                [ 0.6169, -0.9462, -1.3576]],\n",
       "       \n",
       "               [[-0.1392, -1.0507,  0.2461],\n",
       "                [ 0.6169, -0.9462, -1.3576]],\n",
       "       \n",
       "               [[-0.1392, -1.0507,  0.2461],\n",
       "                [ 0.6169, -0.9462, -1.3576]],\n",
       "       \n",
       "               [[-0.1392, -1.0507,  0.2461],\n",
       "                [ 0.6169, -0.9462, -1.3576]],\n",
       "       \n",
       "               [[-0.1392, -1.0507,  0.2461],\n",
       "                [ 0.6169, -0.9462, -1.3576]],\n",
       "       \n",
       "               [[-0.1392, -1.0507,  0.2461],\n",
       "                [ 0.6169, -0.9462, -1.3576]],\n",
       "       \n",
       "               [[-0.1392, -1.0507,  0.2461],\n",
       "                [ 0.6169, -0.9462, -1.3576]],\n",
       "       \n",
       "               [[-0.1392, -1.0507,  0.2461],\n",
       "                [ 0.6169, -0.9462, -1.3576]]]),\n",
       ")"
      ]
     },
     "execution_count": 25,
     "metadata": {},
     "output_type": "execute_result"
    }
   ],
   "source": [
    "batches = [Batch(**_TREE_DATA_2) for _ in range(8)]\n",
    "\n",
    "Batch.stack(batches)"
   ]
  },
  {
   "cell_type": "code",
   "execution_count": 26,
   "id": "ec9037a3",
   "metadata": {
    "execution": {
     "iopub.execute_input": "2023-02-25T19:49:23.725337Z",
     "iopub.status.busy": "2023-02-25T19:49:23.724771Z",
     "iopub.status.idle": "2023-02-25T19:49:30.039794Z",
     "shell.execute_reply": "2023-02-25T19:49:30.038916Z"
    }
   },
   "outputs": [
    {
     "name": "stdout",
     "output_type": "stream",
     "text": [
      "77.6 µs ± 229 ns per loop (mean ± std. dev. of 7 runs, 10,000 loops each)\n"
     ]
    }
   ],
   "source": [
    "%timeit Batch.stack(batches)"
   ]
  },
  {
   "cell_type": "code",
   "execution_count": 27,
   "id": "cb8ab77e",
   "metadata": {
    "execution": {
     "iopub.execute_input": "2023-02-25T19:49:30.043108Z",
     "iopub.status.busy": "2023-02-25T19:49:30.042706Z",
     "iopub.status.idle": "2023-02-25T19:49:30.050921Z",
     "shell.execute_reply": "2023-02-25T19:49:30.050298Z"
    }
   },
   "outputs": [
    {
     "data": {
      "text/plain": [
       "Batch(\n",
       "    x: Batch(\n",
       "           c: tensor([[-0.0786,  1.0145, -0.3751, -1.8855],\n",
       "                      [ 1.2679,  0.6253,  0.5551, -0.4105],\n",
       "                      [ 2.0189, -0.1684,  0.0351, -0.0676],\n",
       "                      [-0.0786,  1.0145, -0.3751, -1.8855],\n",
       "                      [ 1.2679,  0.6253,  0.5551, -0.4105],\n",
       "                      [ 2.0189, -0.1684,  0.0351, -0.0676],\n",
       "                      [-0.0786,  1.0145, -0.3751, -1.8855],\n",
       "                      [ 1.2679,  0.6253,  0.5551, -0.4105],\n",
       "                      [ 2.0189, -0.1684,  0.0351, -0.0676],\n",
       "                      [-0.0786,  1.0145, -0.3751, -1.8855],\n",
       "                      [ 1.2679,  0.6253,  0.5551, -0.4105],\n",
       "                      [ 2.0189, -0.1684,  0.0351, -0.0676],\n",
       "                      [-0.0786,  1.0145, -0.3751, -1.8855],\n",
       "                      [ 1.2679,  0.6253,  0.5551, -0.4105],\n",
       "                      [ 2.0189, -0.1684,  0.0351, -0.0676],\n",
       "                      [-0.0786,  1.0145, -0.3751, -1.8855],\n",
       "                      [ 1.2679,  0.6253,  0.5551, -0.4105],\n",
       "                      [ 2.0189, -0.1684,  0.0351, -0.0676],\n",
       "                      [-0.0786,  1.0145, -0.3751, -1.8855],\n",
       "                      [ 1.2679,  0.6253,  0.5551, -0.4105],\n",
       "                      [ 2.0189, -0.1684,  0.0351, -0.0676],\n",
       "                      [-0.0786,  1.0145, -0.3751, -1.8855],\n",
       "                      [ 1.2679,  0.6253,  0.5551, -0.4105],\n",
       "                      [ 2.0189, -0.1684,  0.0351, -0.0676]]),\n",
       "       ),\n",
       "    a: tensor([[-0.1392, -1.0507,  0.2461],\n",
       "               [ 0.6169, -0.9462, -1.3576],\n",
       "               [-0.1392, -1.0507,  0.2461],\n",
       "               [ 0.6169, -0.9462, -1.3576],\n",
       "               [-0.1392, -1.0507,  0.2461],\n",
       "               [ 0.6169, -0.9462, -1.3576],\n",
       "               [-0.1392, -1.0507,  0.2461],\n",
       "               [ 0.6169, -0.9462, -1.3576],\n",
       "               [-0.1392, -1.0507,  0.2461],\n",
       "               [ 0.6169, -0.9462, -1.3576],\n",
       "               [-0.1392, -1.0507,  0.2461],\n",
       "               [ 0.6169, -0.9462, -1.3576],\n",
       "               [-0.1392, -1.0507,  0.2461],\n",
       "               [ 0.6169, -0.9462, -1.3576],\n",
       "               [-0.1392, -1.0507,  0.2461],\n",
       "               [ 0.6169, -0.9462, -1.3576]]),\n",
       ")"
      ]
     },
     "execution_count": 27,
     "metadata": {},
     "output_type": "execute_result"
    }
   ],
   "source": [
    "Batch.cat(batches)"
   ]
  },
  {
   "cell_type": "code",
   "execution_count": 28,
   "id": "18dfb045",
   "metadata": {
    "execution": {
     "iopub.execute_input": "2023-02-25T19:49:30.053870Z",
     "iopub.status.busy": "2023-02-25T19:49:30.053295Z",
     "iopub.status.idle": "2023-02-25T19:49:41.710890Z",
     "shell.execute_reply": "2023-02-25T19:49:41.709936Z"
    }
   },
   "outputs": [
    {
     "name": "stdout",
     "output_type": "stream",
     "text": [
      "144 µs ± 260 ns per loop (mean ± std. dev. of 7 runs, 10,000 loops each)\n"
     ]
    }
   ],
   "source": [
    "%timeit Batch.cat(batches)"
   ]
  },
  {
   "cell_type": "code",
   "execution_count": 29,
   "id": "c6688e51",
   "metadata": {
    "execution": {
     "iopub.execute_input": "2023-02-25T19:49:41.714476Z",
     "iopub.status.busy": "2023-02-25T19:49:41.714060Z",
     "iopub.status.idle": "2023-02-25T19:49:44.535655Z",
     "shell.execute_reply": "2023-02-25T19:49:44.534842Z"
    }
   },
   "outputs": [
    {
     "name": "stdout",
     "output_type": "stream",
     "text": [
      "346 µs ± 16.2 µs per loop (mean ± std. dev. of 7 runs, 1,000 loops each)\n"
     ]
    }
   ],
   "source": [
    "batch = Batch({\n",
    "    'obs': torch.randn(8, 4, 84, 84),\n",
    "    'action': torch.randint(0, 6, size=(8, 1,)),\n",
    "    'reward': torch.rand(8, 1)}\n",
    ")\n",
    "\n",
    "%timeit list(Batch.split(batch, 1, shuffle=False, merge_last=True))"
   ]
  },
  {
   "cell_type": "code",
   "execution_count": null,
   "id": "2539fbd9",
   "metadata": {},
   "outputs": [],
   "source": []
  }
 ],
 "metadata": {
  "kernelspec": {
   "display_name": "Python 3 (ipykernel)",
   "language": "python",
   "name": "python3"
  },
  "language_info": {
   "codemirror_mode": {
    "name": "ipython",
    "version": 3
   },
   "file_extension": ".py",
   "mimetype": "text/x-python",
   "name": "python",
   "nbconvert_exporter": "python",
   "pygments_lexer": "ipython3",
   "version": "3.8.16"
  }
 },
 "nbformat": 4,
 "nbformat_minor": 5
}
