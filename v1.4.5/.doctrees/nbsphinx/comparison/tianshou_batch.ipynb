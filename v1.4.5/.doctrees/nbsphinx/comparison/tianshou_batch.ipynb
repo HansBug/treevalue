{
 "cells": [
  {
   "cell_type": "markdown",
   "id": "9d39d946",
   "metadata": {},
   "source": [
    "# Comparison Between TreeValue and Tianshou Batch"
   ]
  },
  {
   "cell_type": "markdown",
   "id": "3c6db2d4",
   "metadata": {},
   "source": [
    "In this section, we will take a look at the feature and performance of the [Tianshou Batch](https://github.com/thu-ml/tianshou) library, which is developed by Tsinghua Machine Learning Group."
   ]
  },
  {
   "cell_type": "markdown",
   "id": "069361b0",
   "metadata": {},
   "source": [
    "Before starting the comparison, let us define some thing."
   ]
  },
  {
   "cell_type": "code",
   "execution_count": 1,
   "id": "06fc8d26",
   "metadata": {
    "execution": {
     "iopub.execute_input": "2023-02-26T06:04:03.446746Z",
     "iopub.status.busy": "2023-02-26T06:04:03.446536Z",
     "iopub.status.idle": "2023-02-26T06:04:04.366649Z",
     "shell.execute_reply": "2023-02-26T06:04:04.365979Z"
    }
   },
   "outputs": [
    {
     "name": "stderr",
     "output_type": "stream",
     "text": [
      "/opt/hostedtoolcache/Python/3.8.16/x64/lib/python3.8/site-packages/tqdm/auto.py:22: TqdmWarning: IProgress not found. Please update jupyter and ipywidgets. See https://ipywidgets.readthedocs.io/en/stable/user_install.html\n",
      "  from .autonotebook import tqdm as notebook_tqdm\n"
     ]
    }
   ],
   "source": [
    "import torch \n",
    "\n",
    "_TREE_DATA_1 = {'a': 1, 'b': 2, 'x': {'c': 3, 'd': 4}}\n",
    "_TREE_DATA_2 = {\n",
    "    'a': torch.randn(2, 3), \n",
    "    'x': {\n",
    "        'c': torch.randn(3, 4)\n",
    "    },\n",
    "}\n",
    "_TREE_DATA_3 = {\n",
    "    'obs': torch.randn(4, 84, 84),\n",
    "    'action': torch.randint(0, 6, size=(1,)),\n",
    "    'reward': torch.rand(1),\n",
    "}"
   ]
  },
  {
   "cell_type": "markdown",
   "id": "83461b25",
   "metadata": {},
   "source": [
    "## Read and Write Operation"
   ]
  },
  {
   "cell_type": "markdown",
   "id": "067b3f73",
   "metadata": {},
   "source": [
    "Reading and writing are the two most common operations in the tree data structure based on the data model (TreeValue and Tianshou Batch both belong to this type), so this section will compare the reading and writing performance of these two libraries."
   ]
  },
  {
   "cell_type": "markdown",
   "id": "5d09a5b7",
   "metadata": {},
   "source": [
    "### TreeValue's Get and Set"
   ]
  },
  {
   "cell_type": "code",
   "execution_count": 2,
   "id": "9519c4bb",
   "metadata": {
    "execution": {
     "iopub.execute_input": "2023-02-26T06:04:04.369711Z",
     "iopub.status.busy": "2023-02-26T06:04:04.369296Z",
     "iopub.status.idle": "2023-02-26T06:04:04.402708Z",
     "shell.execute_reply": "2023-02-26T06:04:04.402111Z"
    }
   },
   "outputs": [],
   "source": [
    "from treevalue import FastTreeValue\n",
    "\n",
    "t = FastTreeValue(_TREE_DATA_2)"
   ]
  },
  {
   "cell_type": "code",
   "execution_count": 3,
   "id": "11c37677",
   "metadata": {
    "execution": {
     "iopub.execute_input": "2023-02-26T06:04:04.405506Z",
     "iopub.status.busy": "2023-02-26T06:04:04.404944Z",
     "iopub.status.idle": "2023-02-26T06:04:04.413257Z",
     "shell.execute_reply": "2023-02-26T06:04:04.412605Z"
    }
   },
   "outputs": [
    {
     "data": {
      "text/plain": [
       "<FastTreeValue 0x7f7e2c8a1e80>\n",
       "├── 'a' --> tensor([[-0.4931,  0.2570, -0.5540],\n",
       "│                   [-0.7806,  0.4787,  2.6710]])\n",
       "└── 'x' --> <FastTreeValue 0x7f7e2c8a1f70>\n",
       "    └── 'c' --> tensor([[-0.7748, -0.5670, -0.3421, -1.0476],\n",
       "                        [-1.1433,  1.4024,  1.2703, -0.2610],\n",
       "                        [-0.5595, -0.7062,  0.9987,  0.5466]])"
      ]
     },
     "execution_count": 3,
     "metadata": {},
     "output_type": "execute_result"
    }
   ],
   "source": [
    "t"
   ]
  },
  {
   "cell_type": "code",
   "execution_count": 4,
   "id": "fd70b0b9",
   "metadata": {
    "execution": {
     "iopub.execute_input": "2023-02-26T06:04:04.415718Z",
     "iopub.status.busy": "2023-02-26T06:04:04.415379Z",
     "iopub.status.idle": "2023-02-26T06:04:04.420038Z",
     "shell.execute_reply": "2023-02-26T06:04:04.419428Z"
    }
   },
   "outputs": [
    {
     "data": {
      "text/plain": [
       "tensor([[-0.4931,  0.2570, -0.5540],\n",
       "        [-0.7806,  0.4787,  2.6710]])"
      ]
     },
     "execution_count": 4,
     "metadata": {},
     "output_type": "execute_result"
    }
   ],
   "source": [
    "t.a"
   ]
  },
  {
   "cell_type": "code",
   "execution_count": 5,
   "id": "c18197bd",
   "metadata": {
    "execution": {
     "iopub.execute_input": "2023-02-26T06:04:04.422392Z",
     "iopub.status.busy": "2023-02-26T06:04:04.422043Z",
     "iopub.status.idle": "2023-02-26T06:04:09.575041Z",
     "shell.execute_reply": "2023-02-26T06:04:09.574297Z"
    }
   },
   "outputs": [
    {
     "name": "stdout",
     "output_type": "stream",
     "text": [
      "62.9 ns ± 0.045 ns per loop (mean ± std. dev. of 7 runs, 10,000,000 loops each)\n"
     ]
    }
   ],
   "source": [
    "%timeit t.a"
   ]
  },
  {
   "cell_type": "code",
   "execution_count": 6,
   "id": "bd52f867",
   "metadata": {
    "execution": {
     "iopub.execute_input": "2023-02-26T06:04:09.578008Z",
     "iopub.status.busy": "2023-02-26T06:04:09.577652Z",
     "iopub.status.idle": "2023-02-26T06:04:09.584525Z",
     "shell.execute_reply": "2023-02-26T06:04:09.583914Z"
    }
   },
   "outputs": [
    {
     "data": {
      "text/plain": [
       "<FastTreeValue 0x7f7e2c8a1e80>\n",
       "├── 'a' --> tensor([[ 1.1356,  0.4941, -2.0908],\n",
       "│                   [-0.0435, -0.3492, -1.2834]])\n",
       "└── 'x' --> <FastTreeValue 0x7f7e2c8a1f70>\n",
       "    └── 'c' --> tensor([[-0.7748, -0.5670, -0.3421, -1.0476],\n",
       "                        [-1.1433,  1.4024,  1.2703, -0.2610],\n",
       "                        [-0.5595, -0.7062,  0.9987,  0.5466]])"
      ]
     },
     "execution_count": 6,
     "metadata": {},
     "output_type": "execute_result"
    }
   ],
   "source": [
    "new_value = torch.randn(2, 3)\n",
    "t.a = new_value\n",
    "\n",
    "t"
   ]
  },
  {
   "cell_type": "code",
   "execution_count": 7,
   "id": "bbe04d1c",
   "metadata": {
    "execution": {
     "iopub.execute_input": "2023-02-26T06:04:09.587136Z",
     "iopub.status.busy": "2023-02-26T06:04:09.586795Z",
     "iopub.status.idle": "2023-02-26T06:04:15.123792Z",
     "shell.execute_reply": "2023-02-26T06:04:15.123043Z"
    }
   },
   "outputs": [
    {
     "name": "stdout",
     "output_type": "stream",
     "text": [
      "67.5 ns ± 0.0258 ns per loop (mean ± std. dev. of 7 runs, 10,000,000 loops each)\n"
     ]
    }
   ],
   "source": [
    "%timeit t.a = new_value"
   ]
  },
  {
   "cell_type": "markdown",
   "id": "48c49731",
   "metadata": {},
   "source": [
    "### Tianshou Batch's Get and Set"
   ]
  },
  {
   "cell_type": "code",
   "execution_count": 8,
   "id": "f1bb14c1",
   "metadata": {
    "execution": {
     "iopub.execute_input": "2023-02-26T06:04:15.127085Z",
     "iopub.status.busy": "2023-02-26T06:04:15.126488Z",
     "iopub.status.idle": "2023-02-26T06:04:15.460996Z",
     "shell.execute_reply": "2023-02-26T06:04:15.460330Z"
    }
   },
   "outputs": [],
   "source": [
    "from tianshou.data import Batch\n",
    "\n",
    "b = Batch(**_TREE_DATA_2)"
   ]
  },
  {
   "cell_type": "code",
   "execution_count": 9,
   "id": "cb0777c3",
   "metadata": {
    "execution": {
     "iopub.execute_input": "2023-02-26T06:04:15.463972Z",
     "iopub.status.busy": "2023-02-26T06:04:15.463456Z",
     "iopub.status.idle": "2023-02-26T06:04:15.469583Z",
     "shell.execute_reply": "2023-02-26T06:04:15.468988Z"
    }
   },
   "outputs": [
    {
     "data": {
      "text/plain": [
       "Batch(\n",
       "    a: tensor([[-0.4931,  0.2570, -0.5540],\n",
       "               [-0.7806,  0.4787,  2.6710]]),\n",
       "    x: Batch(\n",
       "           c: tensor([[-0.7748, -0.5670, -0.3421, -1.0476],\n",
       "                      [-1.1433,  1.4024,  1.2703, -0.2610],\n",
       "                      [-0.5595, -0.7062,  0.9987,  0.5466]]),\n",
       "       ),\n",
       ")"
      ]
     },
     "execution_count": 9,
     "metadata": {},
     "output_type": "execute_result"
    }
   ],
   "source": [
    "b"
   ]
  },
  {
   "cell_type": "code",
   "execution_count": 10,
   "id": "43ef8ea3",
   "metadata": {
    "execution": {
     "iopub.execute_input": "2023-02-26T06:04:15.472356Z",
     "iopub.status.busy": "2023-02-26T06:04:15.472018Z",
     "iopub.status.idle": "2023-02-26T06:04:15.477137Z",
     "shell.execute_reply": "2023-02-26T06:04:15.476476Z"
    }
   },
   "outputs": [
    {
     "data": {
      "text/plain": [
       "tensor([[-0.4931,  0.2570, -0.5540],\n",
       "        [-0.7806,  0.4787,  2.6710]])"
      ]
     },
     "execution_count": 10,
     "metadata": {},
     "output_type": "execute_result"
    }
   ],
   "source": [
    "b.a"
   ]
  },
  {
   "cell_type": "code",
   "execution_count": 11,
   "id": "b785ab72",
   "metadata": {
    "execution": {
     "iopub.execute_input": "2023-02-26T06:04:15.479652Z",
     "iopub.status.busy": "2023-02-26T06:04:15.479315Z",
     "iopub.status.idle": "2023-02-26T06:04:19.781128Z",
     "shell.execute_reply": "2023-02-26T06:04:19.780373Z"
    }
   },
   "outputs": [
    {
     "name": "stdout",
     "output_type": "stream",
     "text": [
      "53 ns ± 0.053 ns per loop (mean ± std. dev. of 7 runs, 10,000,000 loops each)\n"
     ]
    }
   ],
   "source": [
    "%timeit b.a"
   ]
  },
  {
   "cell_type": "code",
   "execution_count": 12,
   "id": "ad54dc69",
   "metadata": {
    "execution": {
     "iopub.execute_input": "2023-02-26T06:04:19.783833Z",
     "iopub.status.busy": "2023-02-26T06:04:19.783471Z",
     "iopub.status.idle": "2023-02-26T06:04:19.789285Z",
     "shell.execute_reply": "2023-02-26T06:04:19.788640Z"
    }
   },
   "outputs": [
    {
     "data": {
      "text/plain": [
       "Batch(\n",
       "    a: tensor([[ 0.5196,  0.6303,  0.3917],\n",
       "               [-0.6195,  0.2363,  0.3983]]),\n",
       "    x: Batch(\n",
       "           c: tensor([[-0.7748, -0.5670, -0.3421, -1.0476],\n",
       "                      [-1.1433,  1.4024,  1.2703, -0.2610],\n",
       "                      [-0.5595, -0.7062,  0.9987,  0.5466]]),\n",
       "       ),\n",
       ")"
      ]
     },
     "execution_count": 12,
     "metadata": {},
     "output_type": "execute_result"
    }
   ],
   "source": [
    "new_value = torch.randn(2, 3)\n",
    "b.a = new_value\n",
    "\n",
    "b"
   ]
  },
  {
   "cell_type": "code",
   "execution_count": 13,
   "id": "29b1d0bf",
   "metadata": {
    "execution": {
     "iopub.execute_input": "2023-02-26T06:04:19.791721Z",
     "iopub.status.busy": "2023-02-26T06:04:19.791378Z",
     "iopub.status.idle": "2023-02-26T06:04:23.731654Z",
     "shell.execute_reply": "2023-02-26T06:04:23.730915Z"
    }
   },
   "outputs": [
    {
     "name": "stdout",
     "output_type": "stream",
     "text": [
      "485 ns ± 0.707 ns per loop (mean ± std. dev. of 7 runs, 1,000,000 loops each)\n"
     ]
    }
   ],
   "source": [
    "%timeit b.a = new_value"
   ]
  },
  {
   "cell_type": "markdown",
   "id": "b61ad1d0",
   "metadata": {},
   "source": [
    "## Initialization"
   ]
  },
  {
   "cell_type": "markdown",
   "id": "d70f0d54",
   "metadata": {},
   "source": [
    "### TreeValue's Initialization"
   ]
  },
  {
   "cell_type": "code",
   "execution_count": 14,
   "id": "d32a679b",
   "metadata": {
    "execution": {
     "iopub.execute_input": "2023-02-26T06:04:23.735035Z",
     "iopub.status.busy": "2023-02-26T06:04:23.734446Z",
     "iopub.status.idle": "2023-02-26T06:04:30.734625Z",
     "shell.execute_reply": "2023-02-26T06:04:30.733889Z"
    }
   },
   "outputs": [
    {
     "name": "stdout",
     "output_type": "stream",
     "text": [
      "861 ns ± 0.976 ns per loop (mean ± std. dev. of 7 runs, 1,000,000 loops each)\n"
     ]
    }
   ],
   "source": [
    "%timeit FastTreeValue(_TREE_DATA_1)"
   ]
  },
  {
   "cell_type": "markdown",
   "id": "24f3707b",
   "metadata": {},
   "source": [
    "### Tianshou Batch's Initialization"
   ]
  },
  {
   "cell_type": "code",
   "execution_count": 15,
   "id": "ac3958df",
   "metadata": {
    "execution": {
     "iopub.execute_input": "2023-02-26T06:04:30.737480Z",
     "iopub.status.busy": "2023-02-26T06:04:30.736934Z",
     "iopub.status.idle": "2023-02-26T06:04:40.055466Z",
     "shell.execute_reply": "2023-02-26T06:04:40.054704Z"
    }
   },
   "outputs": [
    {
     "name": "stdout",
     "output_type": "stream",
     "text": [
      "11.5 µs ± 54.7 ns per loop (mean ± std. dev. of 7 runs, 100,000 loops each)\n"
     ]
    }
   ],
   "source": [
    "%timeit Batch(**_TREE_DATA_1)"
   ]
  },
  {
   "cell_type": "markdown",
   "id": "1ab82e2d",
   "metadata": {},
   "source": [
    "## Deep Copy Operation"
   ]
  },
  {
   "cell_type": "code",
   "execution_count": 16,
   "id": "210a9442",
   "metadata": {
    "execution": {
     "iopub.execute_input": "2023-02-26T06:04:40.058620Z",
     "iopub.status.busy": "2023-02-26T06:04:40.058234Z",
     "iopub.status.idle": "2023-02-26T06:04:40.062238Z",
     "shell.execute_reply": "2023-02-26T06:04:40.061647Z"
    }
   },
   "outputs": [],
   "source": [
    "import copy"
   ]
  },
  {
   "cell_type": "markdown",
   "id": "5a736274",
   "metadata": {},
   "source": [
    "### Deep Copy of TreeValue"
   ]
  },
  {
   "cell_type": "code",
   "execution_count": 17,
   "id": "f9bcadd6",
   "metadata": {
    "execution": {
     "iopub.execute_input": "2023-02-26T06:04:40.065247Z",
     "iopub.status.busy": "2023-02-26T06:04:40.064697Z",
     "iopub.status.idle": "2023-02-26T06:04:51.084504Z",
     "shell.execute_reply": "2023-02-26T06:04:51.083915Z"
    }
   },
   "outputs": [
    {
     "name": "stdout",
     "output_type": "stream",
     "text": [
      "136 µs ± 243 ns per loop (mean ± std. dev. of 7 runs, 10,000 loops each)\n"
     ]
    }
   ],
   "source": [
    "t3 = FastTreeValue(_TREE_DATA_3)\n",
    "%timeit copy.deepcopy(t3)"
   ]
  },
  {
   "cell_type": "markdown",
   "id": "bf8be7ea",
   "metadata": {},
   "source": [
    "### Deep Copy of Tianshou Batch"
   ]
  },
  {
   "cell_type": "code",
   "execution_count": 18,
   "id": "91998e6f",
   "metadata": {
    "execution": {
     "iopub.execute_input": "2023-02-26T06:04:51.087764Z",
     "iopub.status.busy": "2023-02-26T06:04:51.086806Z",
     "iopub.status.idle": "2023-02-26T06:05:02.295775Z",
     "shell.execute_reply": "2023-02-26T06:05:02.295198Z"
    }
   },
   "outputs": [
    {
     "name": "stdout",
     "output_type": "stream",
     "text": [
      "138 µs ± 536 ns per loop (mean ± std. dev. of 7 runs, 10,000 loops each)\n"
     ]
    }
   ],
   "source": [
    "b3 = Batch(**_TREE_DATA_3)\n",
    "%timeit copy.deepcopy(b3)"
   ]
  },
  {
   "cell_type": "markdown",
   "id": "223162fb",
   "metadata": {},
   "source": [
    "## Stack, Concat and Split Operation"
   ]
  },
  {
   "cell_type": "markdown",
   "id": "85fa4a73",
   "metadata": {},
   "source": [
    "### Performance of TreeValue"
   ]
  },
  {
   "cell_type": "code",
   "execution_count": 19,
   "id": "a0c2b697",
   "metadata": {
    "execution": {
     "iopub.execute_input": "2023-02-26T06:05:02.299207Z",
     "iopub.status.busy": "2023-02-26T06:05:02.298274Z",
     "iopub.status.idle": "2023-02-26T06:05:02.302522Z",
     "shell.execute_reply": "2023-02-26T06:05:02.301935Z"
    }
   },
   "outputs": [],
   "source": [
    "trees = [FastTreeValue(_TREE_DATA_2) for _ in range(8)]"
   ]
  },
  {
   "cell_type": "code",
   "execution_count": 20,
   "id": "017ea5a5",
   "metadata": {
    "execution": {
     "iopub.execute_input": "2023-02-26T06:05:02.304887Z",
     "iopub.status.busy": "2023-02-26T06:05:02.304543Z",
     "iopub.status.idle": "2023-02-26T06:05:02.312732Z",
     "shell.execute_reply": "2023-02-26T06:05:02.312150Z"
    }
   },
   "outputs": [
    {
     "data": {
      "text/plain": [
       "<FastTreeValue 0x7f7d8716ed00>\n",
       "├── 'a' --> tensor([[[-0.4931,  0.2570, -0.5540],\n",
       "│                    [-0.7806,  0.4787,  2.6710]],\n",
       "│           \n",
       "│                   [[-0.4931,  0.2570, -0.5540],\n",
       "│                    [-0.7806,  0.4787,  2.6710]],\n",
       "│           \n",
       "│                   [[-0.4931,  0.2570, -0.5540],\n",
       "│                    [-0.7806,  0.4787,  2.6710]],\n",
       "│           \n",
       "│                   [[-0.4931,  0.2570, -0.5540],\n",
       "│                    [-0.7806,  0.4787,  2.6710]],\n",
       "│           \n",
       "│                   [[-0.4931,  0.2570, -0.5540],\n",
       "│                    [-0.7806,  0.4787,  2.6710]],\n",
       "│           \n",
       "│                   [[-0.4931,  0.2570, -0.5540],\n",
       "│                    [-0.7806,  0.4787,  2.6710]],\n",
       "│           \n",
       "│                   [[-0.4931,  0.2570, -0.5540],\n",
       "│                    [-0.7806,  0.4787,  2.6710]],\n",
       "│           \n",
       "│                   [[-0.4931,  0.2570, -0.5540],\n",
       "│                    [-0.7806,  0.4787,  2.6710]]])\n",
       "└── 'x' --> <FastTreeValue 0x7f7d87158850>\n",
       "    └── 'c' --> tensor([[[-0.7748, -0.5670, -0.3421, -1.0476],\n",
       "                         [-1.1433,  1.4024,  1.2703, -0.2610],\n",
       "                         [-0.5595, -0.7062,  0.9987,  0.5466]],\n",
       "                \n",
       "                        [[-0.7748, -0.5670, -0.3421, -1.0476],\n",
       "                         [-1.1433,  1.4024,  1.2703, -0.2610],\n",
       "                         [-0.5595, -0.7062,  0.9987,  0.5466]],\n",
       "                \n",
       "                        [[-0.7748, -0.5670, -0.3421, -1.0476],\n",
       "                         [-1.1433,  1.4024,  1.2703, -0.2610],\n",
       "                         [-0.5595, -0.7062,  0.9987,  0.5466]],\n",
       "                \n",
       "                        [[-0.7748, -0.5670, -0.3421, -1.0476],\n",
       "                         [-1.1433,  1.4024,  1.2703, -0.2610],\n",
       "                         [-0.5595, -0.7062,  0.9987,  0.5466]],\n",
       "                \n",
       "                        [[-0.7748, -0.5670, -0.3421, -1.0476],\n",
       "                         [-1.1433,  1.4024,  1.2703, -0.2610],\n",
       "                         [-0.5595, -0.7062,  0.9987,  0.5466]],\n",
       "                \n",
       "                        [[-0.7748, -0.5670, -0.3421, -1.0476],\n",
       "                         [-1.1433,  1.4024,  1.2703, -0.2610],\n",
       "                         [-0.5595, -0.7062,  0.9987,  0.5466]],\n",
       "                \n",
       "                        [[-0.7748, -0.5670, -0.3421, -1.0476],\n",
       "                         [-1.1433,  1.4024,  1.2703, -0.2610],\n",
       "                         [-0.5595, -0.7062,  0.9987,  0.5466]],\n",
       "                \n",
       "                        [[-0.7748, -0.5670, -0.3421, -1.0476],\n",
       "                         [-1.1433,  1.4024,  1.2703, -0.2610],\n",
       "                         [-0.5595, -0.7062,  0.9987,  0.5466]]])"
      ]
     },
     "execution_count": 20,
     "metadata": {},
     "output_type": "execute_result"
    }
   ],
   "source": [
    "t_stack = FastTreeValue.func(subside=True)(torch.stack)\n",
    "\n",
    "t_stack(trees)"
   ]
  },
  {
   "cell_type": "code",
   "execution_count": 21,
   "id": "f8b3f415",
   "metadata": {
    "execution": {
     "iopub.execute_input": "2023-02-26T06:05:02.315089Z",
     "iopub.status.busy": "2023-02-26T06:05:02.314747Z",
     "iopub.status.idle": "2023-02-26T06:05:04.929671Z",
     "shell.execute_reply": "2023-02-26T06:05:04.928897Z"
    }
   },
   "outputs": [
    {
     "name": "stdout",
     "output_type": "stream",
     "text": [
      "32.1 µs ± 132 ns per loop (mean ± std. dev. of 7 runs, 10,000 loops each)\n"
     ]
    }
   ],
   "source": [
    "%timeit t_stack(trees)"
   ]
  },
  {
   "cell_type": "code",
   "execution_count": 22,
   "id": "94b56771",
   "metadata": {
    "execution": {
     "iopub.execute_input": "2023-02-26T06:05:04.932862Z",
     "iopub.status.busy": "2023-02-26T06:05:04.932353Z",
     "iopub.status.idle": "2023-02-26T06:05:04.941084Z",
     "shell.execute_reply": "2023-02-26T06:05:04.940476Z"
    }
   },
   "outputs": [
    {
     "data": {
      "text/plain": [
       "<FastTreeValue 0x7f7d80534f70>\n",
       "├── 'a' --> tensor([[-0.4931,  0.2570, -0.5540],\n",
       "│                   [-0.7806,  0.4787,  2.6710],\n",
       "│                   [-0.4931,  0.2570, -0.5540],\n",
       "│                   [-0.7806,  0.4787,  2.6710],\n",
       "│                   [-0.4931,  0.2570, -0.5540],\n",
       "│                   [-0.7806,  0.4787,  2.6710],\n",
       "│                   [-0.4931,  0.2570, -0.5540],\n",
       "│                   [-0.7806,  0.4787,  2.6710],\n",
       "│                   [-0.4931,  0.2570, -0.5540],\n",
       "│                   [-0.7806,  0.4787,  2.6710],\n",
       "│                   [-0.4931,  0.2570, -0.5540],\n",
       "│                   [-0.7806,  0.4787,  2.6710],\n",
       "│                   [-0.4931,  0.2570, -0.5540],\n",
       "│                   [-0.7806,  0.4787,  2.6710],\n",
       "│                   [-0.4931,  0.2570, -0.5540],\n",
       "│                   [-0.7806,  0.4787,  2.6710]])\n",
       "└── 'x' --> <FastTreeValue 0x7f7d8716ee50>\n",
       "    └── 'c' --> tensor([[-0.7748, -0.5670, -0.3421, -1.0476],\n",
       "                        [-1.1433,  1.4024,  1.2703, -0.2610],\n",
       "                        [-0.5595, -0.7062,  0.9987,  0.5466],\n",
       "                        [-0.7748, -0.5670, -0.3421, -1.0476],\n",
       "                        [-1.1433,  1.4024,  1.2703, -0.2610],\n",
       "                        [-0.5595, -0.7062,  0.9987,  0.5466],\n",
       "                        [-0.7748, -0.5670, -0.3421, -1.0476],\n",
       "                        [-1.1433,  1.4024,  1.2703, -0.2610],\n",
       "                        [-0.5595, -0.7062,  0.9987,  0.5466],\n",
       "                        [-0.7748, -0.5670, -0.3421, -1.0476],\n",
       "                        [-1.1433,  1.4024,  1.2703, -0.2610],\n",
       "                        [-0.5595, -0.7062,  0.9987,  0.5466],\n",
       "                        [-0.7748, -0.5670, -0.3421, -1.0476],\n",
       "                        [-1.1433,  1.4024,  1.2703, -0.2610],\n",
       "                        [-0.5595, -0.7062,  0.9987,  0.5466],\n",
       "                        [-0.7748, -0.5670, -0.3421, -1.0476],\n",
       "                        [-1.1433,  1.4024,  1.2703, -0.2610],\n",
       "                        [-0.5595, -0.7062,  0.9987,  0.5466],\n",
       "                        [-0.7748, -0.5670, -0.3421, -1.0476],\n",
       "                        [-1.1433,  1.4024,  1.2703, -0.2610],\n",
       "                        [-0.5595, -0.7062,  0.9987,  0.5466],\n",
       "                        [-0.7748, -0.5670, -0.3421, -1.0476],\n",
       "                        [-1.1433,  1.4024,  1.2703, -0.2610],\n",
       "                        [-0.5595, -0.7062,  0.9987,  0.5466]])"
      ]
     },
     "execution_count": 22,
     "metadata": {},
     "output_type": "execute_result"
    }
   ],
   "source": [
    "t_cat = FastTreeValue.func(subside=True)(torch.cat)\n",
    "\n",
    "t_cat(trees)"
   ]
  },
  {
   "cell_type": "code",
   "execution_count": 23,
   "id": "5e9c06a6",
   "metadata": {
    "execution": {
     "iopub.execute_input": "2023-02-26T06:05:04.943953Z",
     "iopub.status.busy": "2023-02-26T06:05:04.943495Z",
     "iopub.status.idle": "2023-02-26T06:05:07.391358Z",
     "shell.execute_reply": "2023-02-26T06:05:07.390678Z"
    }
   },
   "outputs": [
    {
     "name": "stdout",
     "output_type": "stream",
     "text": [
      "30.1 µs ± 48.1 ns per loop (mean ± std. dev. of 7 runs, 10,000 loops each)\n"
     ]
    }
   ],
   "source": [
    "%timeit t_cat(trees)"
   ]
  },
  {
   "cell_type": "code",
   "execution_count": 24,
   "id": "a3ab5c8f",
   "metadata": {
    "execution": {
     "iopub.execute_input": "2023-02-26T06:05:07.394546Z",
     "iopub.status.busy": "2023-02-26T06:05:07.393910Z",
     "iopub.status.idle": "2023-02-26T06:05:12.180845Z",
     "shell.execute_reply": "2023-02-26T06:05:12.180181Z"
    }
   },
   "outputs": [
    {
     "name": "stdout",
     "output_type": "stream",
     "text": [
      "58.8 µs ± 96.1 ns per loop (mean ± std. dev. of 7 runs, 10,000 loops each)\n"
     ]
    }
   ],
   "source": [
    "t_split = FastTreeValue.func(rise=True)(torch.split)\n",
    "tree = FastTreeValue({\n",
    "    'obs': torch.randn(8, 4, 84, 84),\n",
    "    'action': torch.randint(0, 6, size=(8, 1,)),\n",
    "    'reward': torch.rand(8, 1),\n",
    "})\n",
    "\n",
    "%timeit t_split(tree, 1)"
   ]
  },
  {
   "cell_type": "markdown",
   "id": "31c3ec0b",
   "metadata": {},
   "source": [
    "### Performance of Tianshou Batch"
   ]
  },
  {
   "cell_type": "code",
   "execution_count": 25,
   "id": "9ead828a",
   "metadata": {
    "execution": {
     "iopub.execute_input": "2023-02-26T06:05:12.183587Z",
     "iopub.status.busy": "2023-02-26T06:05:12.183198Z",
     "iopub.status.idle": "2023-02-26T06:05:12.191255Z",
     "shell.execute_reply": "2023-02-26T06:05:12.190661Z"
    }
   },
   "outputs": [
    {
     "data": {
      "text/plain": [
       "Batch(\n",
       "    x: Batch(\n",
       "           c: tensor([[[-0.7748, -0.5670, -0.3421, -1.0476],\n",
       "                       [-1.1433,  1.4024,  1.2703, -0.2610],\n",
       "                       [-0.5595, -0.7062,  0.9987,  0.5466]],\n",
       "              \n",
       "                      [[-0.7748, -0.5670, -0.3421, -1.0476],\n",
       "                       [-1.1433,  1.4024,  1.2703, -0.2610],\n",
       "                       [-0.5595, -0.7062,  0.9987,  0.5466]],\n",
       "              \n",
       "                      [[-0.7748, -0.5670, -0.3421, -1.0476],\n",
       "                       [-1.1433,  1.4024,  1.2703, -0.2610],\n",
       "                       [-0.5595, -0.7062,  0.9987,  0.5466]],\n",
       "              \n",
       "                      [[-0.7748, -0.5670, -0.3421, -1.0476],\n",
       "                       [-1.1433,  1.4024,  1.2703, -0.2610],\n",
       "                       [-0.5595, -0.7062,  0.9987,  0.5466]],\n",
       "              \n",
       "                      [[-0.7748, -0.5670, -0.3421, -1.0476],\n",
       "                       [-1.1433,  1.4024,  1.2703, -0.2610],\n",
       "                       [-0.5595, -0.7062,  0.9987,  0.5466]],\n",
       "              \n",
       "                      [[-0.7748, -0.5670, -0.3421, -1.0476],\n",
       "                       [-1.1433,  1.4024,  1.2703, -0.2610],\n",
       "                       [-0.5595, -0.7062,  0.9987,  0.5466]],\n",
       "              \n",
       "                      [[-0.7748, -0.5670, -0.3421, -1.0476],\n",
       "                       [-1.1433,  1.4024,  1.2703, -0.2610],\n",
       "                       [-0.5595, -0.7062,  0.9987,  0.5466]],\n",
       "              \n",
       "                      [[-0.7748, -0.5670, -0.3421, -1.0476],\n",
       "                       [-1.1433,  1.4024,  1.2703, -0.2610],\n",
       "                       [-0.5595, -0.7062,  0.9987,  0.5466]]]),\n",
       "       ),\n",
       "    a: tensor([[[-0.4931,  0.2570, -0.5540],\n",
       "                [-0.7806,  0.4787,  2.6710]],\n",
       "       \n",
       "               [[-0.4931,  0.2570, -0.5540],\n",
       "                [-0.7806,  0.4787,  2.6710]],\n",
       "       \n",
       "               [[-0.4931,  0.2570, -0.5540],\n",
       "                [-0.7806,  0.4787,  2.6710]],\n",
       "       \n",
       "               [[-0.4931,  0.2570, -0.5540],\n",
       "                [-0.7806,  0.4787,  2.6710]],\n",
       "       \n",
       "               [[-0.4931,  0.2570, -0.5540],\n",
       "                [-0.7806,  0.4787,  2.6710]],\n",
       "       \n",
       "               [[-0.4931,  0.2570, -0.5540],\n",
       "                [-0.7806,  0.4787,  2.6710]],\n",
       "       \n",
       "               [[-0.4931,  0.2570, -0.5540],\n",
       "                [-0.7806,  0.4787,  2.6710]],\n",
       "       \n",
       "               [[-0.4931,  0.2570, -0.5540],\n",
       "                [-0.7806,  0.4787,  2.6710]]]),\n",
       ")"
      ]
     },
     "execution_count": 25,
     "metadata": {},
     "output_type": "execute_result"
    }
   ],
   "source": [
    "batches = [Batch(**_TREE_DATA_2) for _ in range(8)]\n",
    "\n",
    "Batch.stack(batches)"
   ]
  },
  {
   "cell_type": "code",
   "execution_count": 26,
   "id": "ec9037a3",
   "metadata": {
    "execution": {
     "iopub.execute_input": "2023-02-26T06:05:12.193837Z",
     "iopub.status.busy": "2023-02-26T06:05:12.193603Z",
     "iopub.status.idle": "2023-02-26T06:05:18.498888Z",
     "shell.execute_reply": "2023-02-26T06:05:18.498191Z"
    }
   },
   "outputs": [
    {
     "name": "stdout",
     "output_type": "stream",
     "text": [
      "77.6 µs ± 117 ns per loop (mean ± std. dev. of 7 runs, 10,000 loops each)\n"
     ]
    }
   ],
   "source": [
    "%timeit Batch.stack(batches)"
   ]
  },
  {
   "cell_type": "code",
   "execution_count": 27,
   "id": "cb8ab77e",
   "metadata": {
    "execution": {
     "iopub.execute_input": "2023-02-26T06:05:18.501834Z",
     "iopub.status.busy": "2023-02-26T06:05:18.501477Z",
     "iopub.status.idle": "2023-02-26T06:05:18.509589Z",
     "shell.execute_reply": "2023-02-26T06:05:18.508993Z"
    }
   },
   "outputs": [
    {
     "data": {
      "text/plain": [
       "Batch(\n",
       "    x: Batch(\n",
       "           c: tensor([[-0.7748, -0.5670, -0.3421, -1.0476],\n",
       "                      [-1.1433,  1.4024,  1.2703, -0.2610],\n",
       "                      [-0.5595, -0.7062,  0.9987,  0.5466],\n",
       "                      [-0.7748, -0.5670, -0.3421, -1.0476],\n",
       "                      [-1.1433,  1.4024,  1.2703, -0.2610],\n",
       "                      [-0.5595, -0.7062,  0.9987,  0.5466],\n",
       "                      [-0.7748, -0.5670, -0.3421, -1.0476],\n",
       "                      [-1.1433,  1.4024,  1.2703, -0.2610],\n",
       "                      [-0.5595, -0.7062,  0.9987,  0.5466],\n",
       "                      [-0.7748, -0.5670, -0.3421, -1.0476],\n",
       "                      [-1.1433,  1.4024,  1.2703, -0.2610],\n",
       "                      [-0.5595, -0.7062,  0.9987,  0.5466],\n",
       "                      [-0.7748, -0.5670, -0.3421, -1.0476],\n",
       "                      [-1.1433,  1.4024,  1.2703, -0.2610],\n",
       "                      [-0.5595, -0.7062,  0.9987,  0.5466],\n",
       "                      [-0.7748, -0.5670, -0.3421, -1.0476],\n",
       "                      [-1.1433,  1.4024,  1.2703, -0.2610],\n",
       "                      [-0.5595, -0.7062,  0.9987,  0.5466],\n",
       "                      [-0.7748, -0.5670, -0.3421, -1.0476],\n",
       "                      [-1.1433,  1.4024,  1.2703, -0.2610],\n",
       "                      [-0.5595, -0.7062,  0.9987,  0.5466],\n",
       "                      [-0.7748, -0.5670, -0.3421, -1.0476],\n",
       "                      [-1.1433,  1.4024,  1.2703, -0.2610],\n",
       "                      [-0.5595, -0.7062,  0.9987,  0.5466]]),\n",
       "       ),\n",
       "    a: tensor([[-0.4931,  0.2570, -0.5540],\n",
       "               [-0.7806,  0.4787,  2.6710],\n",
       "               [-0.4931,  0.2570, -0.5540],\n",
       "               [-0.7806,  0.4787,  2.6710],\n",
       "               [-0.4931,  0.2570, -0.5540],\n",
       "               [-0.7806,  0.4787,  2.6710],\n",
       "               [-0.4931,  0.2570, -0.5540],\n",
       "               [-0.7806,  0.4787,  2.6710],\n",
       "               [-0.4931,  0.2570, -0.5540],\n",
       "               [-0.7806,  0.4787,  2.6710],\n",
       "               [-0.4931,  0.2570, -0.5540],\n",
       "               [-0.7806,  0.4787,  2.6710],\n",
       "               [-0.4931,  0.2570, -0.5540],\n",
       "               [-0.7806,  0.4787,  2.6710],\n",
       "               [-0.4931,  0.2570, -0.5540],\n",
       "               [-0.7806,  0.4787,  2.6710]]),\n",
       ")"
      ]
     },
     "execution_count": 27,
     "metadata": {},
     "output_type": "execute_result"
    }
   ],
   "source": [
    "Batch.cat(batches)"
   ]
  },
  {
   "cell_type": "code",
   "execution_count": 28,
   "id": "18dfb045",
   "metadata": {
    "execution": {
     "iopub.execute_input": "2023-02-26T06:05:18.512206Z",
     "iopub.status.busy": "2023-02-26T06:05:18.511882Z",
     "iopub.status.idle": "2023-02-26T06:05:30.087595Z",
     "shell.execute_reply": "2023-02-26T06:05:30.086920Z"
    }
   },
   "outputs": [
    {
     "name": "stdout",
     "output_type": "stream",
     "text": [
      "142 µs ± 413 ns per loop (mean ± std. dev. of 7 runs, 10,000 loops each)\n"
     ]
    }
   ],
   "source": [
    "%timeit Batch.cat(batches)"
   ]
  },
  {
   "cell_type": "code",
   "execution_count": 29,
   "id": "c6688e51",
   "metadata": {
    "execution": {
     "iopub.execute_input": "2023-02-26T06:05:30.090278Z",
     "iopub.status.busy": "2023-02-26T06:05:30.089838Z",
     "iopub.status.idle": "2023-02-26T06:05:32.642526Z",
     "shell.execute_reply": "2023-02-26T06:05:32.641844Z"
    }
   },
   "outputs": [
    {
     "name": "stdout",
     "output_type": "stream",
     "text": [
      "314 µs ± 2.5 µs per loop (mean ± std. dev. of 7 runs, 1,000 loops each)\n"
     ]
    }
   ],
   "source": [
    "batch = Batch({\n",
    "    'obs': torch.randn(8, 4, 84, 84),\n",
    "    'action': torch.randint(0, 6, size=(8, 1,)),\n",
    "    'reward': torch.rand(8, 1)}\n",
    ")\n",
    "\n",
    "%timeit list(Batch.split(batch, 1, shuffle=False, merge_last=True))"
   ]
  },
  {
   "cell_type": "code",
   "execution_count": null,
   "id": "2539fbd9",
   "metadata": {},
   "outputs": [],
   "source": []
  }
 ],
 "metadata": {
  "kernelspec": {
   "display_name": "Python 3 (ipykernel)",
   "language": "python",
   "name": "python3"
  },
  "language_info": {
   "codemirror_mode": {
    "name": "ipython",
    "version": 3
   },
   "file_extension": ".py",
   "mimetype": "text/x-python",
   "name": "python",
   "nbconvert_exporter": "python",
   "pygments_lexer": "ipython3",
   "version": "3.8.16"
  }
 },
 "nbformat": 4,
 "nbformat_minor": 5
}
