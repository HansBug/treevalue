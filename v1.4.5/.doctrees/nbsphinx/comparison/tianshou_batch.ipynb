{
 "cells": [
  {
   "cell_type": "markdown",
   "id": "9d39d946",
   "metadata": {},
   "source": [
    "# Comparison Between TreeValue and Tianshou Batch"
   ]
  },
  {
   "cell_type": "markdown",
   "id": "3c6db2d4",
   "metadata": {},
   "source": [
    "In this section, we will take a look at the feature and performance of the [Tianshou Batch](https://github.com/thu-ml/tianshou) library, which is developed by Tsinghua Machine Learning Group."
   ]
  },
  {
   "cell_type": "markdown",
   "id": "069361b0",
   "metadata": {},
   "source": [
    "Before starting the comparison, let us define some thing."
   ]
  },
  {
   "cell_type": "code",
   "execution_count": 1,
   "id": "06fc8d26",
   "metadata": {
    "execution": {
     "iopub.execute_input": "2023-02-25T18:59:03.382768Z",
     "iopub.status.busy": "2023-02-25T18:59:03.382189Z",
     "iopub.status.idle": "2023-02-25T18:59:04.324493Z",
     "shell.execute_reply": "2023-02-25T18:59:04.323759Z"
    }
   },
   "outputs": [
    {
     "name": "stderr",
     "output_type": "stream",
     "text": [
      "/opt/hostedtoolcache/Python/3.8.16/x64/lib/python3.8/site-packages/tqdm/auto.py:22: TqdmWarning: IProgress not found. Please update jupyter and ipywidgets. See https://ipywidgets.readthedocs.io/en/stable/user_install.html\n",
      "  from .autonotebook import tqdm as notebook_tqdm\n"
     ]
    }
   ],
   "source": [
    "import torch \n",
    "\n",
    "_TREE_DATA_1 = {'a': 1, 'b': 2, 'x': {'c': 3, 'd': 4}}\n",
    "_TREE_DATA_2 = {\n",
    "    'a': torch.randn(2, 3), \n",
    "    'x': {\n",
    "        'c': torch.randn(3, 4)\n",
    "    },\n",
    "}\n",
    "_TREE_DATA_3 = {\n",
    "    'obs': torch.randn(4, 84, 84),\n",
    "    'action': torch.randint(0, 6, size=(1,)),\n",
    "    'reward': torch.rand(1),\n",
    "}"
   ]
  },
  {
   "cell_type": "markdown",
   "id": "83461b25",
   "metadata": {},
   "source": [
    "## Read and Write Operation"
   ]
  },
  {
   "cell_type": "markdown",
   "id": "067b3f73",
   "metadata": {},
   "source": [
    "Reading and writing are the two most common operations in the tree data structure based on the data model (TreeValue and Tianshou Batch both belong to this type), so this section will compare the reading and writing performance of these two libraries."
   ]
  },
  {
   "cell_type": "markdown",
   "id": "5d09a5b7",
   "metadata": {},
   "source": [
    "### TreeValue's Get and Set"
   ]
  },
  {
   "cell_type": "code",
   "execution_count": 2,
   "id": "9519c4bb",
   "metadata": {
    "execution": {
     "iopub.execute_input": "2023-02-25T18:59:04.327939Z",
     "iopub.status.busy": "2023-02-25T18:59:04.327308Z",
     "iopub.status.idle": "2023-02-25T18:59:04.361470Z",
     "shell.execute_reply": "2023-02-25T18:59:04.360822Z"
    }
   },
   "outputs": [],
   "source": [
    "from treevalue import FastTreeValue\n",
    "\n",
    "t = FastTreeValue(_TREE_DATA_2)"
   ]
  },
  {
   "cell_type": "code",
   "execution_count": 3,
   "id": "11c37677",
   "metadata": {
    "execution": {
     "iopub.execute_input": "2023-02-25T18:59:04.364883Z",
     "iopub.status.busy": "2023-02-25T18:59:04.364313Z",
     "iopub.status.idle": "2023-02-25T18:59:04.373912Z",
     "shell.execute_reply": "2023-02-25T18:59:04.373290Z"
    }
   },
   "outputs": [
    {
     "data": {
      "text/plain": [
       "<FastTreeValue 0x7f2c000a2e20>\n",
       "├── 'a' --> tensor([[-0.3705, -1.9046, -0.2274],\n",
       "│                   [-0.4953, -0.2811, -0.5963]])\n",
       "└── 'x' --> <FastTreeValue 0x7f2c000a27f0>\n",
       "    └── 'c' --> tensor([[ 0.3642,  1.7805,  0.0168, -1.6110],\n",
       "                        [-1.7612, -0.0759,  0.5772,  0.0438],\n",
       "                        [-0.3412,  0.7690, -0.5320,  0.1889]])"
      ]
     },
     "execution_count": 3,
     "metadata": {},
     "output_type": "execute_result"
    }
   ],
   "source": [
    "t"
   ]
  },
  {
   "cell_type": "code",
   "execution_count": 4,
   "id": "fd70b0b9",
   "metadata": {
    "execution": {
     "iopub.execute_input": "2023-02-25T18:59:04.376847Z",
     "iopub.status.busy": "2023-02-25T18:59:04.376479Z",
     "iopub.status.idle": "2023-02-25T18:59:04.382370Z",
     "shell.execute_reply": "2023-02-25T18:59:04.381764Z"
    }
   },
   "outputs": [
    {
     "data": {
      "text/plain": [
       "tensor([[-0.3705, -1.9046, -0.2274],\n",
       "        [-0.4953, -0.2811, -0.5963]])"
      ]
     },
     "execution_count": 4,
     "metadata": {},
     "output_type": "execute_result"
    }
   ],
   "source": [
    "t.a"
   ]
  },
  {
   "cell_type": "code",
   "execution_count": 5,
   "id": "c18197bd",
   "metadata": {
    "execution": {
     "iopub.execute_input": "2023-02-25T18:59:04.385161Z",
     "iopub.status.busy": "2023-02-25T18:59:04.384806Z",
     "iopub.status.idle": "2023-02-25T18:59:09.439119Z",
     "shell.execute_reply": "2023-02-25T18:59:09.438362Z"
    }
   },
   "outputs": [
    {
     "name": "stdout",
     "output_type": "stream",
     "text": [
      "62.2 ns ± 0.0145 ns per loop (mean ± std. dev. of 7 runs, 10,000,000 loops each)\n"
     ]
    }
   ],
   "source": [
    "%timeit t.a"
   ]
  },
  {
   "cell_type": "code",
   "execution_count": 6,
   "id": "bd52f867",
   "metadata": {
    "execution": {
     "iopub.execute_input": "2023-02-25T18:59:09.441890Z",
     "iopub.status.busy": "2023-02-25T18:59:09.441537Z",
     "iopub.status.idle": "2023-02-25T18:59:09.448111Z",
     "shell.execute_reply": "2023-02-25T18:59:09.447527Z"
    }
   },
   "outputs": [
    {
     "data": {
      "text/plain": [
       "<FastTreeValue 0x7f2c000a2e20>\n",
       "├── 'a' --> tensor([[-1.7218, -0.4624,  0.8425],\n",
       "│                   [-0.6429,  0.7356, -1.2068]])\n",
       "└── 'x' --> <FastTreeValue 0x7f2c000a27f0>\n",
       "    └── 'c' --> tensor([[ 0.3642,  1.7805,  0.0168, -1.6110],\n",
       "                        [-1.7612, -0.0759,  0.5772,  0.0438],\n",
       "                        [-0.3412,  0.7690, -0.5320,  0.1889]])"
      ]
     },
     "execution_count": 6,
     "metadata": {},
     "output_type": "execute_result"
    }
   ],
   "source": [
    "new_value = torch.randn(2, 3)\n",
    "t.a = new_value\n",
    "\n",
    "t"
   ]
  },
  {
   "cell_type": "code",
   "execution_count": 7,
   "id": "bbe04d1c",
   "metadata": {
    "execution": {
     "iopub.execute_input": "2023-02-25T18:59:09.450723Z",
     "iopub.status.busy": "2023-02-25T18:59:09.450372Z",
     "iopub.status.idle": "2023-02-25T18:59:14.786541Z",
     "shell.execute_reply": "2023-02-25T18:59:14.785880Z"
    }
   },
   "outputs": [
    {
     "name": "stdout",
     "output_type": "stream",
     "text": [
      "65.7 ns ± 0.0543 ns per loop (mean ± std. dev. of 7 runs, 10,000,000 loops each)\n"
     ]
    }
   ],
   "source": [
    "%timeit t.a = new_value"
   ]
  },
  {
   "cell_type": "markdown",
   "id": "48c49731",
   "metadata": {},
   "source": [
    "### Tianshou Batch's Get and Set"
   ]
  },
  {
   "cell_type": "code",
   "execution_count": 8,
   "id": "f1bb14c1",
   "metadata": {
    "execution": {
     "iopub.execute_input": "2023-02-25T18:59:14.789485Z",
     "iopub.status.busy": "2023-02-25T18:59:14.788914Z",
     "iopub.status.idle": "2023-02-25T18:59:15.129624Z",
     "shell.execute_reply": "2023-02-25T18:59:15.128938Z"
    }
   },
   "outputs": [],
   "source": [
    "from tianshou.data import Batch\n",
    "\n",
    "b = Batch(**_TREE_DATA_2)"
   ]
  },
  {
   "cell_type": "code",
   "execution_count": 9,
   "id": "cb0777c3",
   "metadata": {
    "execution": {
     "iopub.execute_input": "2023-02-25T18:59:15.132839Z",
     "iopub.status.busy": "2023-02-25T18:59:15.132128Z",
     "iopub.status.idle": "2023-02-25T18:59:15.138375Z",
     "shell.execute_reply": "2023-02-25T18:59:15.137803Z"
    }
   },
   "outputs": [
    {
     "data": {
      "text/plain": [
       "Batch(\n",
       "    a: tensor([[-0.3705, -1.9046, -0.2274],\n",
       "               [-0.4953, -0.2811, -0.5963]]),\n",
       "    x: Batch(\n",
       "           c: tensor([[ 0.3642,  1.7805,  0.0168, -1.6110],\n",
       "                      [-1.7612, -0.0759,  0.5772,  0.0438],\n",
       "                      [-0.3412,  0.7690, -0.5320,  0.1889]]),\n",
       "       ),\n",
       ")"
      ]
     },
     "execution_count": 9,
     "metadata": {},
     "output_type": "execute_result"
    }
   ],
   "source": [
    "b"
   ]
  },
  {
   "cell_type": "code",
   "execution_count": 10,
   "id": "43ef8ea3",
   "metadata": {
    "execution": {
     "iopub.execute_input": "2023-02-25T18:59:15.141448Z",
     "iopub.status.busy": "2023-02-25T18:59:15.140837Z",
     "iopub.status.idle": "2023-02-25T18:59:15.146271Z",
     "shell.execute_reply": "2023-02-25T18:59:15.145696Z"
    }
   },
   "outputs": [
    {
     "data": {
      "text/plain": [
       "tensor([[-0.3705, -1.9046, -0.2274],\n",
       "        [-0.4953, -0.2811, -0.5963]])"
      ]
     },
     "execution_count": 10,
     "metadata": {},
     "output_type": "execute_result"
    }
   ],
   "source": [
    "b.a"
   ]
  },
  {
   "cell_type": "code",
   "execution_count": 11,
   "id": "b785ab72",
   "metadata": {
    "execution": {
     "iopub.execute_input": "2023-02-25T18:59:15.148783Z",
     "iopub.status.busy": "2023-02-25T18:59:15.148441Z",
     "iopub.status.idle": "2023-02-25T18:59:19.507001Z",
     "shell.execute_reply": "2023-02-25T18:59:19.506231Z"
    }
   },
   "outputs": [
    {
     "name": "stdout",
     "output_type": "stream",
     "text": [
      "53.7 ns ± 0.0362 ns per loop (mean ± std. dev. of 7 runs, 10,000,000 loops each)\n"
     ]
    }
   ],
   "source": [
    "%timeit b.a"
   ]
  },
  {
   "cell_type": "code",
   "execution_count": 12,
   "id": "ad54dc69",
   "metadata": {
    "execution": {
     "iopub.execute_input": "2023-02-25T18:59:19.509951Z",
     "iopub.status.busy": "2023-02-25T18:59:19.509592Z",
     "iopub.status.idle": "2023-02-25T18:59:19.515377Z",
     "shell.execute_reply": "2023-02-25T18:59:19.514728Z"
    }
   },
   "outputs": [
    {
     "data": {
      "text/plain": [
       "Batch(\n",
       "    a: tensor([[ 0.1982,  0.1704,  0.7231],\n",
       "               [ 1.5033, -0.0825,  2.2077]]),\n",
       "    x: Batch(\n",
       "           c: tensor([[ 0.3642,  1.7805,  0.0168, -1.6110],\n",
       "                      [-1.7612, -0.0759,  0.5772,  0.0438],\n",
       "                      [-0.3412,  0.7690, -0.5320,  0.1889]]),\n",
       "       ),\n",
       ")"
      ]
     },
     "execution_count": 12,
     "metadata": {},
     "output_type": "execute_result"
    }
   ],
   "source": [
    "new_value = torch.randn(2, 3)\n",
    "b.a = new_value\n",
    "\n",
    "b"
   ]
  },
  {
   "cell_type": "code",
   "execution_count": 13,
   "id": "29b1d0bf",
   "metadata": {
    "execution": {
     "iopub.execute_input": "2023-02-25T18:59:19.518054Z",
     "iopub.status.busy": "2023-02-25T18:59:19.517700Z",
     "iopub.status.idle": "2023-02-25T18:59:23.394393Z",
     "shell.execute_reply": "2023-02-25T18:59:23.393665Z"
    }
   },
   "outputs": [
    {
     "name": "stdout",
     "output_type": "stream",
     "text": [
      "477 ns ± 0.0628 ns per loop (mean ± std. dev. of 7 runs, 1,000,000 loops each)\n"
     ]
    }
   ],
   "source": [
    "%timeit b.a = new_value"
   ]
  },
  {
   "cell_type": "markdown",
   "id": "b61ad1d0",
   "metadata": {},
   "source": [
    "## Initialization"
   ]
  },
  {
   "cell_type": "markdown",
   "id": "d70f0d54",
   "metadata": {},
   "source": [
    "### TreeValue's Initialization"
   ]
  },
  {
   "cell_type": "code",
   "execution_count": 14,
   "id": "d32a679b",
   "metadata": {
    "execution": {
     "iopub.execute_input": "2023-02-25T18:59:23.397505Z",
     "iopub.status.busy": "2023-02-25T18:59:23.397113Z",
     "iopub.status.idle": "2023-02-25T18:59:30.472241Z",
     "shell.execute_reply": "2023-02-25T18:59:30.471471Z"
    }
   },
   "outputs": [
    {
     "name": "stdout",
     "output_type": "stream",
     "text": [
      "872 ns ± 15.4 ns per loop (mean ± std. dev. of 7 runs, 1,000,000 loops each)\n"
     ]
    }
   ],
   "source": [
    "%timeit FastTreeValue(_TREE_DATA_1)"
   ]
  },
  {
   "cell_type": "markdown",
   "id": "24f3707b",
   "metadata": {},
   "source": [
    "### Tianshou Batch's Initialization"
   ]
  },
  {
   "cell_type": "code",
   "execution_count": 15,
   "id": "ac3958df",
   "metadata": {
    "execution": {
     "iopub.execute_input": "2023-02-25T18:59:30.475033Z",
     "iopub.status.busy": "2023-02-25T18:59:30.474663Z",
     "iopub.status.idle": "2023-02-25T18:59:39.872404Z",
     "shell.execute_reply": "2023-02-25T18:59:39.871667Z"
    }
   },
   "outputs": [
    {
     "name": "stdout",
     "output_type": "stream",
     "text": [
      "11.6 µs ± 23.1 ns per loop (mean ± std. dev. of 7 runs, 100,000 loops each)\n"
     ]
    }
   ],
   "source": [
    "%timeit Batch(**_TREE_DATA_1)"
   ]
  },
  {
   "cell_type": "markdown",
   "id": "1ab82e2d",
   "metadata": {},
   "source": [
    "## Deep Copy Operation"
   ]
  },
  {
   "cell_type": "code",
   "execution_count": 16,
   "id": "210a9442",
   "metadata": {
    "execution": {
     "iopub.execute_input": "2023-02-25T18:59:39.875399Z",
     "iopub.status.busy": "2023-02-25T18:59:39.875003Z",
     "iopub.status.idle": "2023-02-25T18:59:39.878942Z",
     "shell.execute_reply": "2023-02-25T18:59:39.878328Z"
    }
   },
   "outputs": [],
   "source": [
    "import copy"
   ]
  },
  {
   "cell_type": "markdown",
   "id": "5a736274",
   "metadata": {},
   "source": [
    "### Deep Copy of TreeValue"
   ]
  },
  {
   "cell_type": "code",
   "execution_count": 17,
   "id": "f9bcadd6",
   "metadata": {
    "execution": {
     "iopub.execute_input": "2023-02-25T18:59:39.881851Z",
     "iopub.status.busy": "2023-02-25T18:59:39.881347Z",
     "iopub.status.idle": "2023-02-25T18:59:50.877645Z",
     "shell.execute_reply": "2023-02-25T18:59:50.877044Z"
    }
   },
   "outputs": [
    {
     "name": "stdout",
     "output_type": "stream",
     "text": [
      "136 µs ± 799 ns per loop (mean ± std. dev. of 7 runs, 10,000 loops each)\n"
     ]
    }
   ],
   "source": [
    "t3 = FastTreeValue(_TREE_DATA_3)\n",
    "%timeit copy.deepcopy(t3)"
   ]
  },
  {
   "cell_type": "markdown",
   "id": "bf8be7ea",
   "metadata": {},
   "source": [
    "### Deep Copy of Tianshou Batch"
   ]
  },
  {
   "cell_type": "code",
   "execution_count": 18,
   "id": "91998e6f",
   "metadata": {
    "execution": {
     "iopub.execute_input": "2023-02-25T18:59:50.880742Z",
     "iopub.status.busy": "2023-02-25T18:59:50.880258Z",
     "iopub.status.idle": "2023-02-25T19:00:02.296188Z",
     "shell.execute_reply": "2023-02-25T19:00:02.295620Z"
    }
   },
   "outputs": [
    {
     "name": "stdout",
     "output_type": "stream",
     "text": [
      "140 µs ± 304 ns per loop (mean ± std. dev. of 7 runs, 10,000 loops each)\n"
     ]
    }
   ],
   "source": [
    "b3 = Batch(**_TREE_DATA_3)\n",
    "%timeit copy.deepcopy(b3)"
   ]
  },
  {
   "cell_type": "markdown",
   "id": "223162fb",
   "metadata": {},
   "source": [
    "## Stack, Concat and Split Operation"
   ]
  },
  {
   "cell_type": "markdown",
   "id": "85fa4a73",
   "metadata": {},
   "source": [
    "### Performance of TreeValue"
   ]
  },
  {
   "cell_type": "code",
   "execution_count": 19,
   "id": "a0c2b697",
   "metadata": {
    "execution": {
     "iopub.execute_input": "2023-02-25T19:00:02.299644Z",
     "iopub.status.busy": "2023-02-25T19:00:02.299139Z",
     "iopub.status.idle": "2023-02-25T19:00:02.303559Z",
     "shell.execute_reply": "2023-02-25T19:00:02.302960Z"
    }
   },
   "outputs": [],
   "source": [
    "trees = [FastTreeValue(_TREE_DATA_2) for _ in range(8)]"
   ]
  },
  {
   "cell_type": "code",
   "execution_count": 20,
   "id": "017ea5a5",
   "metadata": {
    "execution": {
     "iopub.execute_input": "2023-02-25T19:00:02.306188Z",
     "iopub.status.busy": "2023-02-25T19:00:02.305961Z",
     "iopub.status.idle": "2023-02-25T19:00:02.313756Z",
     "shell.execute_reply": "2023-02-25T19:00:02.313154Z"
    }
   },
   "outputs": [
    {
     "data": {
      "text/plain": [
       "<FastTreeValue 0x7f2bd44bc7f0>\n",
       "├── 'a' --> tensor([[[-0.3705, -1.9046, -0.2274],\n",
       "│                    [-0.4953, -0.2811, -0.5963]],\n",
       "│           \n",
       "│                   [[-0.3705, -1.9046, -0.2274],\n",
       "│                    [-0.4953, -0.2811, -0.5963]],\n",
       "│           \n",
       "│                   [[-0.3705, -1.9046, -0.2274],\n",
       "│                    [-0.4953, -0.2811, -0.5963]],\n",
       "│           \n",
       "│                   [[-0.3705, -1.9046, -0.2274],\n",
       "│                    [-0.4953, -0.2811, -0.5963]],\n",
       "│           \n",
       "│                   [[-0.3705, -1.9046, -0.2274],\n",
       "│                    [-0.4953, -0.2811, -0.5963]],\n",
       "│           \n",
       "│                   [[-0.3705, -1.9046, -0.2274],\n",
       "│                    [-0.4953, -0.2811, -0.5963]],\n",
       "│           \n",
       "│                   [[-0.3705, -1.9046, -0.2274],\n",
       "│                    [-0.4953, -0.2811, -0.5963]],\n",
       "│           \n",
       "│                   [[-0.3705, -1.9046, -0.2274],\n",
       "│                    [-0.4953, -0.2811, -0.5963]]])\n",
       "└── 'x' --> <FastTreeValue 0x7f2c0005c460>\n",
       "    └── 'c' --> tensor([[[ 0.3642,  1.7805,  0.0168, -1.6110],\n",
       "                         [-1.7612, -0.0759,  0.5772,  0.0438],\n",
       "                         [-0.3412,  0.7690, -0.5320,  0.1889]],\n",
       "                \n",
       "                        [[ 0.3642,  1.7805,  0.0168, -1.6110],\n",
       "                         [-1.7612, -0.0759,  0.5772,  0.0438],\n",
       "                         [-0.3412,  0.7690, -0.5320,  0.1889]],\n",
       "                \n",
       "                        [[ 0.3642,  1.7805,  0.0168, -1.6110],\n",
       "                         [-1.7612, -0.0759,  0.5772,  0.0438],\n",
       "                         [-0.3412,  0.7690, -0.5320,  0.1889]],\n",
       "                \n",
       "                        [[ 0.3642,  1.7805,  0.0168, -1.6110],\n",
       "                         [-1.7612, -0.0759,  0.5772,  0.0438],\n",
       "                         [-0.3412,  0.7690, -0.5320,  0.1889]],\n",
       "                \n",
       "                        [[ 0.3642,  1.7805,  0.0168, -1.6110],\n",
       "                         [-1.7612, -0.0759,  0.5772,  0.0438],\n",
       "                         [-0.3412,  0.7690, -0.5320,  0.1889]],\n",
       "                \n",
       "                        [[ 0.3642,  1.7805,  0.0168, -1.6110],\n",
       "                         [-1.7612, -0.0759,  0.5772,  0.0438],\n",
       "                         [-0.3412,  0.7690, -0.5320,  0.1889]],\n",
       "                \n",
       "                        [[ 0.3642,  1.7805,  0.0168, -1.6110],\n",
       "                         [-1.7612, -0.0759,  0.5772,  0.0438],\n",
       "                         [-0.3412,  0.7690, -0.5320,  0.1889]],\n",
       "                \n",
       "                        [[ 0.3642,  1.7805,  0.0168, -1.6110],\n",
       "                         [-1.7612, -0.0759,  0.5772,  0.0438],\n",
       "                         [-0.3412,  0.7690, -0.5320,  0.1889]]])"
      ]
     },
     "execution_count": 20,
     "metadata": {},
     "output_type": "execute_result"
    }
   ],
   "source": [
    "t_stack = FastTreeValue.func(subside=True)(torch.stack)\n",
    "\n",
    "t_stack(trees)"
   ]
  },
  {
   "cell_type": "code",
   "execution_count": 21,
   "id": "f8b3f415",
   "metadata": {
    "execution": {
     "iopub.execute_input": "2023-02-25T19:00:02.316213Z",
     "iopub.status.busy": "2023-02-25T19:00:02.315990Z",
     "iopub.status.idle": "2023-02-25T19:00:04.892729Z",
     "shell.execute_reply": "2023-02-25T19:00:04.891942Z"
    }
   },
   "outputs": [
    {
     "name": "stdout",
     "output_type": "stream",
     "text": [
      "31.7 µs ± 78 ns per loop (mean ± std. dev. of 7 runs, 10,000 loops each)\n"
     ]
    }
   ],
   "source": [
    "%timeit t_stack(trees)"
   ]
  },
  {
   "cell_type": "code",
   "execution_count": 22,
   "id": "94b56771",
   "metadata": {
    "execution": {
     "iopub.execute_input": "2023-02-25T19:00:04.895722Z",
     "iopub.status.busy": "2023-02-25T19:00:04.895200Z",
     "iopub.status.idle": "2023-02-25T19:00:04.902294Z",
     "shell.execute_reply": "2023-02-25T19:00:04.901662Z"
    }
   },
   "outputs": [
    {
     "data": {
      "text/plain": [
       "<FastTreeValue 0x7f2bd47dc340>\n",
       "├── 'a' --> tensor([[-0.3705, -1.9046, -0.2274],\n",
       "│                   [-0.4953, -0.2811, -0.5963],\n",
       "│                   [-0.3705, -1.9046, -0.2274],\n",
       "│                   [-0.4953, -0.2811, -0.5963],\n",
       "│                   [-0.3705, -1.9046, -0.2274],\n",
       "│                   [-0.4953, -0.2811, -0.5963],\n",
       "│                   [-0.3705, -1.9046, -0.2274],\n",
       "│                   [-0.4953, -0.2811, -0.5963],\n",
       "│                   [-0.3705, -1.9046, -0.2274],\n",
       "│                   [-0.4953, -0.2811, -0.5963],\n",
       "│                   [-0.3705, -1.9046, -0.2274],\n",
       "│                   [-0.4953, -0.2811, -0.5963],\n",
       "│                   [-0.3705, -1.9046, -0.2274],\n",
       "│                   [-0.4953, -0.2811, -0.5963],\n",
       "│                   [-0.3705, -1.9046, -0.2274],\n",
       "│                   [-0.4953, -0.2811, -0.5963]])\n",
       "└── 'x' --> <FastTreeValue 0x7f2c00095340>\n",
       "    └── 'c' --> tensor([[ 0.3642,  1.7805,  0.0168, -1.6110],\n",
       "                        [-1.7612, -0.0759,  0.5772,  0.0438],\n",
       "                        [-0.3412,  0.7690, -0.5320,  0.1889],\n",
       "                        [ 0.3642,  1.7805,  0.0168, -1.6110],\n",
       "                        [-1.7612, -0.0759,  0.5772,  0.0438],\n",
       "                        [-0.3412,  0.7690, -0.5320,  0.1889],\n",
       "                        [ 0.3642,  1.7805,  0.0168, -1.6110],\n",
       "                        [-1.7612, -0.0759,  0.5772,  0.0438],\n",
       "                        [-0.3412,  0.7690, -0.5320,  0.1889],\n",
       "                        [ 0.3642,  1.7805,  0.0168, -1.6110],\n",
       "                        [-1.7612, -0.0759,  0.5772,  0.0438],\n",
       "                        [-0.3412,  0.7690, -0.5320,  0.1889],\n",
       "                        [ 0.3642,  1.7805,  0.0168, -1.6110],\n",
       "                        [-1.7612, -0.0759,  0.5772,  0.0438],\n",
       "                        [-0.3412,  0.7690, -0.5320,  0.1889],\n",
       "                        [ 0.3642,  1.7805,  0.0168, -1.6110],\n",
       "                        [-1.7612, -0.0759,  0.5772,  0.0438],\n",
       "                        [-0.3412,  0.7690, -0.5320,  0.1889],\n",
       "                        [ 0.3642,  1.7805,  0.0168, -1.6110],\n",
       "                        [-1.7612, -0.0759,  0.5772,  0.0438],\n",
       "                        [-0.3412,  0.7690, -0.5320,  0.1889],\n",
       "                        [ 0.3642,  1.7805,  0.0168, -1.6110],\n",
       "                        [-1.7612, -0.0759,  0.5772,  0.0438],\n",
       "                        [-0.3412,  0.7690, -0.5320,  0.1889]])"
      ]
     },
     "execution_count": 22,
     "metadata": {},
     "output_type": "execute_result"
    }
   ],
   "source": [
    "t_cat = FastTreeValue.func(subside=True)(torch.cat)\n",
    "\n",
    "t_cat(trees)"
   ]
  },
  {
   "cell_type": "code",
   "execution_count": 23,
   "id": "5e9c06a6",
   "metadata": {
    "execution": {
     "iopub.execute_input": "2023-02-25T19:00:04.904722Z",
     "iopub.status.busy": "2023-02-25T19:00:04.904378Z",
     "iopub.status.idle": "2023-02-25T19:00:07.333614Z",
     "shell.execute_reply": "2023-02-25T19:00:07.332941Z"
    }
   },
   "outputs": [
    {
     "name": "stdout",
     "output_type": "stream",
     "text": [
      "29.9 µs ± 25.4 ns per loop (mean ± std. dev. of 7 runs, 10,000 loops each)\n"
     ]
    }
   ],
   "source": [
    "%timeit t_cat(trees)"
   ]
  },
  {
   "cell_type": "code",
   "execution_count": 24,
   "id": "a3ab5c8f",
   "metadata": {
    "execution": {
     "iopub.execute_input": "2023-02-25T19:00:07.336376Z",
     "iopub.status.busy": "2023-02-25T19:00:07.335918Z",
     "iopub.status.idle": "2023-02-25T19:00:12.159016Z",
     "shell.execute_reply": "2023-02-25T19:00:12.158267Z"
    }
   },
   "outputs": [
    {
     "name": "stdout",
     "output_type": "stream",
     "text": [
      "59.3 µs ± 412 ns per loop (mean ± std. dev. of 7 runs, 10,000 loops each)\n"
     ]
    }
   ],
   "source": [
    "t_split = FastTreeValue.func(rise=True)(torch.split)\n",
    "tree = FastTreeValue({\n",
    "    'obs': torch.randn(8, 4, 84, 84),\n",
    "    'action': torch.randint(0, 6, size=(8, 1,)),\n",
    "    'reward': torch.rand(8, 1),\n",
    "})\n",
    "\n",
    "%timeit t_split(tree, 1)"
   ]
  },
  {
   "cell_type": "markdown",
   "id": "31c3ec0b",
   "metadata": {},
   "source": [
    "### Performance of Tianshou Batch"
   ]
  },
  {
   "cell_type": "code",
   "execution_count": 25,
   "id": "9ead828a",
   "metadata": {
    "execution": {
     "iopub.execute_input": "2023-02-25T19:00:12.162136Z",
     "iopub.status.busy": "2023-02-25T19:00:12.161760Z",
     "iopub.status.idle": "2023-02-25T19:00:12.169952Z",
     "shell.execute_reply": "2023-02-25T19:00:12.169344Z"
    }
   },
   "outputs": [
    {
     "data": {
      "text/plain": [
       "Batch(\n",
       "    x: Batch(\n",
       "           c: tensor([[[ 0.3642,  1.7805,  0.0168, -1.6110],\n",
       "                       [-1.7612, -0.0759,  0.5772,  0.0438],\n",
       "                       [-0.3412,  0.7690, -0.5320,  0.1889]],\n",
       "              \n",
       "                      [[ 0.3642,  1.7805,  0.0168, -1.6110],\n",
       "                       [-1.7612, -0.0759,  0.5772,  0.0438],\n",
       "                       [-0.3412,  0.7690, -0.5320,  0.1889]],\n",
       "              \n",
       "                      [[ 0.3642,  1.7805,  0.0168, -1.6110],\n",
       "                       [-1.7612, -0.0759,  0.5772,  0.0438],\n",
       "                       [-0.3412,  0.7690, -0.5320,  0.1889]],\n",
       "              \n",
       "                      [[ 0.3642,  1.7805,  0.0168, -1.6110],\n",
       "                       [-1.7612, -0.0759,  0.5772,  0.0438],\n",
       "                       [-0.3412,  0.7690, -0.5320,  0.1889]],\n",
       "              \n",
       "                      [[ 0.3642,  1.7805,  0.0168, -1.6110],\n",
       "                       [-1.7612, -0.0759,  0.5772,  0.0438],\n",
       "                       [-0.3412,  0.7690, -0.5320,  0.1889]],\n",
       "              \n",
       "                      [[ 0.3642,  1.7805,  0.0168, -1.6110],\n",
       "                       [-1.7612, -0.0759,  0.5772,  0.0438],\n",
       "                       [-0.3412,  0.7690, -0.5320,  0.1889]],\n",
       "              \n",
       "                      [[ 0.3642,  1.7805,  0.0168, -1.6110],\n",
       "                       [-1.7612, -0.0759,  0.5772,  0.0438],\n",
       "                       [-0.3412,  0.7690, -0.5320,  0.1889]],\n",
       "              \n",
       "                      [[ 0.3642,  1.7805,  0.0168, -1.6110],\n",
       "                       [-1.7612, -0.0759,  0.5772,  0.0438],\n",
       "                       [-0.3412,  0.7690, -0.5320,  0.1889]]]),\n",
       "       ),\n",
       "    a: tensor([[[-0.3705, -1.9046, -0.2274],\n",
       "                [-0.4953, -0.2811, -0.5963]],\n",
       "       \n",
       "               [[-0.3705, -1.9046, -0.2274],\n",
       "                [-0.4953, -0.2811, -0.5963]],\n",
       "       \n",
       "               [[-0.3705, -1.9046, -0.2274],\n",
       "                [-0.4953, -0.2811, -0.5963]],\n",
       "       \n",
       "               [[-0.3705, -1.9046, -0.2274],\n",
       "                [-0.4953, -0.2811, -0.5963]],\n",
       "       \n",
       "               [[-0.3705, -1.9046, -0.2274],\n",
       "                [-0.4953, -0.2811, -0.5963]],\n",
       "       \n",
       "               [[-0.3705, -1.9046, -0.2274],\n",
       "                [-0.4953, -0.2811, -0.5963]],\n",
       "       \n",
       "               [[-0.3705, -1.9046, -0.2274],\n",
       "                [-0.4953, -0.2811, -0.5963]],\n",
       "       \n",
       "               [[-0.3705, -1.9046, -0.2274],\n",
       "                [-0.4953, -0.2811, -0.5963]]]),\n",
       ")"
      ]
     },
     "execution_count": 25,
     "metadata": {},
     "output_type": "execute_result"
    }
   ],
   "source": [
    "batches = [Batch(**_TREE_DATA_2) for _ in range(8)]\n",
    "\n",
    "Batch.stack(batches)"
   ]
  },
  {
   "cell_type": "code",
   "execution_count": 26,
   "id": "ec9037a3",
   "metadata": {
    "execution": {
     "iopub.execute_input": "2023-02-25T19:00:12.172883Z",
     "iopub.status.busy": "2023-02-25T19:00:12.172366Z",
     "iopub.status.idle": "2023-02-25T19:00:18.620341Z",
     "shell.execute_reply": "2023-02-25T19:00:18.619646Z"
    }
   },
   "outputs": [
    {
     "name": "stdout",
     "output_type": "stream",
     "text": [
      "79.2 µs ± 205 ns per loop (mean ± std. dev. of 7 runs, 10,000 loops each)\n"
     ]
    }
   ],
   "source": [
    "%timeit Batch.stack(batches)"
   ]
  },
  {
   "cell_type": "code",
   "execution_count": 27,
   "id": "cb8ab77e",
   "metadata": {
    "execution": {
     "iopub.execute_input": "2023-02-25T19:00:18.623297Z",
     "iopub.status.busy": "2023-02-25T19:00:18.622920Z",
     "iopub.status.idle": "2023-02-25T19:00:18.630454Z",
     "shell.execute_reply": "2023-02-25T19:00:18.629865Z"
    }
   },
   "outputs": [
    {
     "data": {
      "text/plain": [
       "Batch(\n",
       "    x: Batch(\n",
       "           c: tensor([[ 0.3642,  1.7805,  0.0168, -1.6110],\n",
       "                      [-1.7612, -0.0759,  0.5772,  0.0438],\n",
       "                      [-0.3412,  0.7690, -0.5320,  0.1889],\n",
       "                      [ 0.3642,  1.7805,  0.0168, -1.6110],\n",
       "                      [-1.7612, -0.0759,  0.5772,  0.0438],\n",
       "                      [-0.3412,  0.7690, -0.5320,  0.1889],\n",
       "                      [ 0.3642,  1.7805,  0.0168, -1.6110],\n",
       "                      [-1.7612, -0.0759,  0.5772,  0.0438],\n",
       "                      [-0.3412,  0.7690, -0.5320,  0.1889],\n",
       "                      [ 0.3642,  1.7805,  0.0168, -1.6110],\n",
       "                      [-1.7612, -0.0759,  0.5772,  0.0438],\n",
       "                      [-0.3412,  0.7690, -0.5320,  0.1889],\n",
       "                      [ 0.3642,  1.7805,  0.0168, -1.6110],\n",
       "                      [-1.7612, -0.0759,  0.5772,  0.0438],\n",
       "                      [-0.3412,  0.7690, -0.5320,  0.1889],\n",
       "                      [ 0.3642,  1.7805,  0.0168, -1.6110],\n",
       "                      [-1.7612, -0.0759,  0.5772,  0.0438],\n",
       "                      [-0.3412,  0.7690, -0.5320,  0.1889],\n",
       "                      [ 0.3642,  1.7805,  0.0168, -1.6110],\n",
       "                      [-1.7612, -0.0759,  0.5772,  0.0438],\n",
       "                      [-0.3412,  0.7690, -0.5320,  0.1889],\n",
       "                      [ 0.3642,  1.7805,  0.0168, -1.6110],\n",
       "                      [-1.7612, -0.0759,  0.5772,  0.0438],\n",
       "                      [-0.3412,  0.7690, -0.5320,  0.1889]]),\n",
       "       ),\n",
       "    a: tensor([[-0.3705, -1.9046, -0.2274],\n",
       "               [-0.4953, -0.2811, -0.5963],\n",
       "               [-0.3705, -1.9046, -0.2274],\n",
       "               [-0.4953, -0.2811, -0.5963],\n",
       "               [-0.3705, -1.9046, -0.2274],\n",
       "               [-0.4953, -0.2811, -0.5963],\n",
       "               [-0.3705, -1.9046, -0.2274],\n",
       "               [-0.4953, -0.2811, -0.5963],\n",
       "               [-0.3705, -1.9046, -0.2274],\n",
       "               [-0.4953, -0.2811, -0.5963],\n",
       "               [-0.3705, -1.9046, -0.2274],\n",
       "               [-0.4953, -0.2811, -0.5963],\n",
       "               [-0.3705, -1.9046, -0.2274],\n",
       "               [-0.4953, -0.2811, -0.5963],\n",
       "               [-0.3705, -1.9046, -0.2274],\n",
       "               [-0.4953, -0.2811, -0.5963]]),\n",
       ")"
      ]
     },
     "execution_count": 27,
     "metadata": {},
     "output_type": "execute_result"
    }
   ],
   "source": [
    "Batch.cat(batches)"
   ]
  },
  {
   "cell_type": "code",
   "execution_count": 28,
   "id": "18dfb045",
   "metadata": {
    "execution": {
     "iopub.execute_input": "2023-02-25T19:00:18.633070Z",
     "iopub.status.busy": "2023-02-25T19:00:18.632845Z",
     "iopub.status.idle": "2023-02-25T19:00:30.328555Z",
     "shell.execute_reply": "2023-02-25T19:00:30.327800Z"
    }
   },
   "outputs": [
    {
     "name": "stdout",
     "output_type": "stream",
     "text": [
      "144 µs ± 214 ns per loop (mean ± std. dev. of 7 runs, 10,000 loops each)\n"
     ]
    }
   ],
   "source": [
    "%timeit Batch.cat(batches)"
   ]
  },
  {
   "cell_type": "code",
   "execution_count": 29,
   "id": "c6688e51",
   "metadata": {
    "execution": {
     "iopub.execute_input": "2023-02-25T19:00:30.331626Z",
     "iopub.status.busy": "2023-02-25T19:00:30.331258Z",
     "iopub.status.idle": "2023-02-25T19:00:32.826883Z",
     "shell.execute_reply": "2023-02-25T19:00:32.826287Z"
    }
   },
   "outputs": [
    {
     "name": "stdout",
     "output_type": "stream",
     "text": [
      "307 µs ± 8.29 µs per loop (mean ± std. dev. of 7 runs, 1,000 loops each)\n"
     ]
    }
   ],
   "source": [
    "batch = Batch({\n",
    "    'obs': torch.randn(8, 4, 84, 84),\n",
    "    'action': torch.randint(0, 6, size=(8, 1,)),\n",
    "    'reward': torch.rand(8, 1)}\n",
    ")\n",
    "\n",
    "%timeit list(Batch.split(batch, 1, shuffle=False, merge_last=True))"
   ]
  },
  {
   "cell_type": "code",
   "execution_count": null,
   "id": "2539fbd9",
   "metadata": {},
   "outputs": [],
   "source": []
  }
 ],
 "metadata": {
  "kernelspec": {
   "display_name": "Python 3 (ipykernel)",
   "language": "python",
   "name": "python3"
  },
  "language_info": {
   "codemirror_mode": {
    "name": "ipython",
    "version": 3
   },
   "file_extension": ".py",
   "mimetype": "text/x-python",
   "name": "python",
   "nbconvert_exporter": "python",
   "pygments_lexer": "ipython3",
   "version": "3.8.16"
  }
 },
 "nbformat": 4,
 "nbformat_minor": 5
}
