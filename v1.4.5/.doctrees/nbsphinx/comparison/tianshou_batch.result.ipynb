{
 "cells": [
  {
   "cell_type": "markdown",
   "id": "9d39d946",
   "metadata": {},
   "source": [
    "# Comparison Between TreeValue and Tianshou Batch"
   ]
  },
  {
   "cell_type": "markdown",
   "id": "3c6db2d4",
   "metadata": {},
   "source": [
    "In this section, we will take a look at the feature and performance of the [Tianshou Batch](https://github.com/thu-ml/tianshou) library, which is developed by Tsinghua Machine Learning Group."
   ]
  },
  {
   "cell_type": "markdown",
   "id": "069361b0",
   "metadata": {},
   "source": [
    "Before starting the comparison, let us define some thing."
   ]
  },
  {
   "cell_type": "code",
   "execution_count": 1,
   "id": "06fc8d26",
   "metadata": {
    "execution": {
     "iopub.execute_input": "2023-02-24T10:55:59.906878Z",
     "iopub.status.busy": "2023-02-24T10:55:59.906506Z",
     "iopub.status.idle": "2023-02-24T10:56:01.284394Z",
     "shell.execute_reply": "2023-02-24T10:56:01.279744Z"
    }
   },
   "outputs": [
    {
     "name": "stderr",
     "output_type": "stream",
     "text": [
      "/opt/hostedtoolcache/Python/3.8.16/x64/lib/python3.8/site-packages/tqdm/auto.py:22: TqdmWarning: IProgress not found. Please update jupyter and ipywidgets. See https://ipywidgets.readthedocs.io/en/stable/user_install.html\n",
      "  from .autonotebook import tqdm as notebook_tqdm\n"
     ]
    }
   ],
   "source": [
    "import torch \n",
    "\n",
    "_TREE_DATA_1 = {'a': 1, 'b': 2, 'x': {'c': 3, 'd': 4}}\n",
    "_TREE_DATA_2 = {\n",
    "    'a': torch.randn(2, 3), \n",
    "    'x': {\n",
    "        'c': torch.randn(3, 4)\n",
    "    },\n",
    "}\n",
    "_TREE_DATA_3 = {\n",
    "    'obs': torch.randn(4, 84, 84),\n",
    "    'action': torch.randint(0, 6, size=(1,)),\n",
    "    'reward': torch.rand(1),\n",
    "}"
   ]
  },
  {
   "cell_type": "markdown",
   "id": "83461b25",
   "metadata": {},
   "source": [
    "## Read and Write Operation"
   ]
  },
  {
   "cell_type": "markdown",
   "id": "067b3f73",
   "metadata": {},
   "source": [
    "Reading and writing are the two most common operations in the tree data structure based on the data model (TreeValue and Tianshou Batch both belong to this type), so this section will compare the reading and writing performance of these two libraries."
   ]
  },
  {
   "cell_type": "markdown",
   "id": "5d09a5b7",
   "metadata": {},
   "source": [
    "### TreeValue's Get and Set"
   ]
  },
  {
   "cell_type": "code",
   "execution_count": 2,
   "id": "9519c4bb",
   "metadata": {
    "execution": {
     "iopub.execute_input": "2023-02-24T10:56:01.294966Z",
     "iopub.status.busy": "2023-02-24T10:56:01.293511Z",
     "iopub.status.idle": "2023-02-24T10:56:01.341481Z",
     "shell.execute_reply": "2023-02-24T10:56:01.340298Z"
    }
   },
   "outputs": [],
   "source": [
    "from treevalue import FastTreeValue\n",
    "\n",
    "t = FastTreeValue(_TREE_DATA_2)"
   ]
  },
  {
   "cell_type": "code",
   "execution_count": 3,
   "id": "11c37677",
   "metadata": {
    "execution": {
     "iopub.execute_input": "2023-02-24T10:56:01.345861Z",
     "iopub.status.busy": "2023-02-24T10:56:01.345267Z",
     "iopub.status.idle": "2023-02-24T10:56:01.360631Z",
     "shell.execute_reply": "2023-02-24T10:56:01.359733Z"
    }
   },
   "outputs": [
    {
     "data": {
      "text/plain": [
       "<FastTreeValue 0x7fe9c09d3820>\n",
       "├── 'a' --> tensor([[-0.3428, -0.0762,  2.2447],\n",
       "│                   [ 0.1340, -0.2880, -0.7302]])\n",
       "└── 'x' --> <FastTreeValue 0x7fe9c09d3130>\n",
       "    └── 'c' --> tensor([[-0.1852,  1.9320,  0.4704, -0.1873],\n",
       "                        [ 1.0247,  0.8216, -0.2618,  0.5323],\n",
       "                        [-0.3700,  1.2967, -1.4689,  1.0519]])"
      ]
     },
     "execution_count": 3,
     "metadata": {},
     "output_type": "execute_result"
    }
   ],
   "source": [
    "t"
   ]
  },
  {
   "cell_type": "code",
   "execution_count": 4,
   "id": "fd70b0b9",
   "metadata": {
    "execution": {
     "iopub.execute_input": "2023-02-24T10:56:01.364764Z",
     "iopub.status.busy": "2023-02-24T10:56:01.364424Z",
     "iopub.status.idle": "2023-02-24T10:56:01.375761Z",
     "shell.execute_reply": "2023-02-24T10:56:01.374762Z"
    }
   },
   "outputs": [
    {
     "data": {
      "text/plain": [
       "tensor([[-0.3428, -0.0762,  2.2447],\n",
       "        [ 0.1340, -0.2880, -0.7302]])"
      ]
     },
     "execution_count": 4,
     "metadata": {},
     "output_type": "execute_result"
    }
   ],
   "source": [
    "t.a"
   ]
  },
  {
   "cell_type": "code",
   "execution_count": 5,
   "id": "c18197bd",
   "metadata": {
    "execution": {
     "iopub.execute_input": "2023-02-24T10:56:01.379535Z",
     "iopub.status.busy": "2023-02-24T10:56:01.379237Z",
     "iopub.status.idle": "2023-02-24T10:56:07.774329Z",
     "shell.execute_reply": "2023-02-24T10:56:07.773141Z"
    }
   },
   "outputs": [
    {
     "name": "stdout",
     "output_type": "stream",
     "text": [
      "78.6 ns ± 0.545 ns per loop (mean ± std. dev. of 7 runs, 10,000,000 loops each)\n"
     ]
    }
   ],
   "source": [
    "%timeit t.a"
   ]
  },
  {
   "cell_type": "code",
   "execution_count": 6,
   "id": "bd52f867",
   "metadata": {
    "execution": {
     "iopub.execute_input": "2023-02-24T10:56:07.778486Z",
     "iopub.status.busy": "2023-02-24T10:56:07.777800Z",
     "iopub.status.idle": "2023-02-24T10:56:07.787300Z",
     "shell.execute_reply": "2023-02-24T10:56:07.786299Z"
    }
   },
   "outputs": [
    {
     "data": {
      "text/plain": [
       "<FastTreeValue 0x7fe9c09d3820>\n",
       "├── 'a' --> tensor([[-1.0795, -0.7507, -0.2101],\n",
       "│                   [-0.0722, -0.1330,  0.4062]])\n",
       "└── 'x' --> <FastTreeValue 0x7fe9c09d3130>\n",
       "    └── 'c' --> tensor([[-0.1852,  1.9320,  0.4704, -0.1873],\n",
       "                        [ 1.0247,  0.8216, -0.2618,  0.5323],\n",
       "                        [-0.3700,  1.2967, -1.4689,  1.0519]])"
      ]
     },
     "execution_count": 6,
     "metadata": {},
     "output_type": "execute_result"
    }
   ],
   "source": [
    "new_value = torch.randn(2, 3)\n",
    "t.a = new_value\n",
    "\n",
    "t"
   ]
  },
  {
   "cell_type": "code",
   "execution_count": 7,
   "id": "bbe04d1c",
   "metadata": {
    "execution": {
     "iopub.execute_input": "2023-02-24T10:56:07.791621Z",
     "iopub.status.busy": "2023-02-24T10:56:07.790615Z",
     "iopub.status.idle": "2023-02-24T10:56:14.176969Z",
     "shell.execute_reply": "2023-02-24T10:56:14.175831Z"
    }
   },
   "outputs": [
    {
     "name": "stdout",
     "output_type": "stream",
     "text": [
      "78.4 ns ± 0.934 ns per loop (mean ± std. dev. of 7 runs, 10,000,000 loops each)\n"
     ]
    }
   ],
   "source": [
    "%timeit t.a = new_value"
   ]
  },
  {
   "cell_type": "markdown",
   "id": "48c49731",
   "metadata": {},
   "source": [
    "### Tianshou Batch's Get and Set"
   ]
  },
  {
   "cell_type": "code",
   "execution_count": 8,
   "id": "f1bb14c1",
   "metadata": {
    "execution": {
     "iopub.execute_input": "2023-02-24T10:56:14.181833Z",
     "iopub.status.busy": "2023-02-24T10:56:14.181180Z",
     "iopub.status.idle": "2023-02-24T10:56:14.716271Z",
     "shell.execute_reply": "2023-02-24T10:56:14.715176Z"
    }
   },
   "outputs": [],
   "source": [
    "from tianshou.data import Batch\n",
    "\n",
    "b = Batch(**_TREE_DATA_2)"
   ]
  },
  {
   "cell_type": "code",
   "execution_count": 9,
   "id": "cb0777c3",
   "metadata": {
    "execution": {
     "iopub.execute_input": "2023-02-24T10:56:14.721717Z",
     "iopub.status.busy": "2023-02-24T10:56:14.720534Z",
     "iopub.status.idle": "2023-02-24T10:56:14.732144Z",
     "shell.execute_reply": "2023-02-24T10:56:14.731056Z"
    }
   },
   "outputs": [
    {
     "data": {
      "text/plain": [
       "Batch(\n",
       "    a: tensor([[-0.3428, -0.0762,  2.2447],\n",
       "               [ 0.1340, -0.2880, -0.7302]]),\n",
       "    x: Batch(\n",
       "           c: tensor([[-0.1852,  1.9320,  0.4704, -0.1873],\n",
       "                      [ 1.0247,  0.8216, -0.2618,  0.5323],\n",
       "                      [-0.3700,  1.2967, -1.4689,  1.0519]]),\n",
       "       ),\n",
       ")"
      ]
     },
     "execution_count": 9,
     "metadata": {},
     "output_type": "execute_result"
    }
   ],
   "source": [
    "b"
   ]
  },
  {
   "cell_type": "code",
   "execution_count": 10,
   "id": "43ef8ea3",
   "metadata": {
    "execution": {
     "iopub.execute_input": "2023-02-24T10:56:14.738700Z",
     "iopub.status.busy": "2023-02-24T10:56:14.737352Z",
     "iopub.status.idle": "2023-02-24T10:56:14.747545Z",
     "shell.execute_reply": "2023-02-24T10:56:14.746451Z"
    }
   },
   "outputs": [
    {
     "data": {
      "text/plain": [
       "tensor([[-0.3428, -0.0762,  2.2447],\n",
       "        [ 0.1340, -0.2880, -0.7302]])"
      ]
     },
     "execution_count": 10,
     "metadata": {},
     "output_type": "execute_result"
    }
   ],
   "source": [
    "b.a"
   ]
  },
  {
   "cell_type": "code",
   "execution_count": 11,
   "id": "b785ab72",
   "metadata": {
    "execution": {
     "iopub.execute_input": "2023-02-24T10:56:14.751441Z",
     "iopub.status.busy": "2023-02-24T10:56:14.751122Z",
     "iopub.status.idle": "2023-02-24T10:56:20.954727Z",
     "shell.execute_reply": "2023-02-24T10:56:20.953671Z"
    }
   },
   "outputs": [
    {
     "name": "stdout",
     "output_type": "stream",
     "text": [
      "76.7 ns ± 0.518 ns per loop (mean ± std. dev. of 7 runs, 10,000,000 loops each)\n"
     ]
    }
   ],
   "source": [
    "%timeit b.a"
   ]
  },
  {
   "cell_type": "code",
   "execution_count": 12,
   "id": "ad54dc69",
   "metadata": {
    "execution": {
     "iopub.execute_input": "2023-02-24T10:56:20.960003Z",
     "iopub.status.busy": "2023-02-24T10:56:20.959114Z",
     "iopub.status.idle": "2023-02-24T10:56:20.971542Z",
     "shell.execute_reply": "2023-02-24T10:56:20.970208Z"
    }
   },
   "outputs": [
    {
     "data": {
      "text/plain": [
       "Batch(\n",
       "    a: tensor([[ 1.4258,  0.8455,  1.1242],\n",
       "               [-0.8521, -0.1673,  1.3374]]),\n",
       "    x: Batch(\n",
       "           c: tensor([[-0.1852,  1.9320,  0.4704, -0.1873],\n",
       "                      [ 1.0247,  0.8216, -0.2618,  0.5323],\n",
       "                      [-0.3700,  1.2967, -1.4689,  1.0519]]),\n",
       "       ),\n",
       ")"
      ]
     },
     "execution_count": 12,
     "metadata": {},
     "output_type": "execute_result"
    }
   ],
   "source": [
    "new_value = torch.randn(2, 3)\n",
    "b.a = new_value\n",
    "\n",
    "b"
   ]
  },
  {
   "cell_type": "code",
   "execution_count": 13,
   "id": "29b1d0bf",
   "metadata": {
    "execution": {
     "iopub.execute_input": "2023-02-24T10:56:20.978629Z",
     "iopub.status.busy": "2023-02-24T10:56:20.978305Z",
     "iopub.status.idle": "2023-02-24T10:56:26.360811Z",
     "shell.execute_reply": "2023-02-24T10:56:26.359897Z"
    }
   },
   "outputs": [
    {
     "name": "stdout",
     "output_type": "stream",
     "text": [
      "663 ns ± 6.76 ns per loop (mean ± std. dev. of 7 runs, 1,000,000 loops each)\n"
     ]
    }
   ],
   "source": [
    "%timeit b.a = new_value"
   ]
  },
  {
   "cell_type": "markdown",
   "id": "b61ad1d0",
   "metadata": {},
   "source": [
    "## Initialization"
   ]
  },
  {
   "cell_type": "markdown",
   "id": "d70f0d54",
   "metadata": {},
   "source": [
    "### TreeValue's Initialization"
   ]
  },
  {
   "cell_type": "code",
   "execution_count": 14,
   "id": "d32a679b",
   "metadata": {
    "execution": {
     "iopub.execute_input": "2023-02-24T10:56:26.365113Z",
     "iopub.status.busy": "2023-02-24T10:56:26.364419Z",
     "iopub.status.idle": "2023-02-24T10:56:35.322469Z",
     "shell.execute_reply": "2023-02-24T10:56:35.321048Z"
    }
   },
   "outputs": [
    {
     "name": "stdout",
     "output_type": "stream",
     "text": [
      "1.11 µs ± 20.4 ns per loop (mean ± std. dev. of 7 runs, 1,000,000 loops each)\n"
     ]
    }
   ],
   "source": [
    "%timeit FastTreeValue(_TREE_DATA_1)"
   ]
  },
  {
   "cell_type": "markdown",
   "id": "24f3707b",
   "metadata": {},
   "source": [
    "### Tianshou Batch's Initialization"
   ]
  },
  {
   "cell_type": "code",
   "execution_count": 15,
   "id": "ac3958df",
   "metadata": {
    "execution": {
     "iopub.execute_input": "2023-02-24T10:56:35.327007Z",
     "iopub.status.busy": "2023-02-24T10:56:35.326342Z",
     "iopub.status.idle": "2023-02-24T10:56:47.016662Z",
     "shell.execute_reply": "2023-02-24T10:56:47.015611Z"
    }
   },
   "outputs": [
    {
     "name": "stdout",
     "output_type": "stream",
     "text": [
      "14.4 µs ± 128 ns per loop (mean ± std. dev. of 7 runs, 100,000 loops each)\n"
     ]
    }
   ],
   "source": [
    "%timeit Batch(**_TREE_DATA_1)"
   ]
  },
  {
   "cell_type": "markdown",
   "id": "1ab82e2d",
   "metadata": {},
   "source": [
    "## Deep Copy Operation"
   ]
  },
  {
   "cell_type": "code",
   "execution_count": 16,
   "id": "210a9442",
   "metadata": {
    "execution": {
     "iopub.execute_input": "2023-02-24T10:56:47.020753Z",
     "iopub.status.busy": "2023-02-24T10:56:47.020086Z",
     "iopub.status.idle": "2023-02-24T10:56:47.025956Z",
     "shell.execute_reply": "2023-02-24T10:56:47.025040Z"
    }
   },
   "outputs": [],
   "source": [
    "import copy"
   ]
  },
  {
   "cell_type": "markdown",
   "id": "5a736274",
   "metadata": {},
   "source": [
    "### Deep Copy of TreeValue"
   ]
  },
  {
   "cell_type": "code",
   "execution_count": 17,
   "id": "f9bcadd6",
   "metadata": {
    "execution": {
     "iopub.execute_input": "2023-02-24T10:56:47.029852Z",
     "iopub.status.busy": "2023-02-24T10:56:47.029258Z",
     "iopub.status.idle": "2023-02-24T10:56:49.604918Z",
     "shell.execute_reply": "2023-02-24T10:56:49.604020Z"
    }
   },
   "outputs": [
    {
     "name": "stdout",
     "output_type": "stream",
     "text": [
      "322 µs ± 52.4 µs per loop (mean ± std. dev. of 7 runs, 1,000 loops each)\n"
     ]
    }
   ],
   "source": [
    "t3 = FastTreeValue(_TREE_DATA_3)\n",
    "%timeit copy.deepcopy(t3)"
   ]
  },
  {
   "cell_type": "markdown",
   "id": "bf8be7ea",
   "metadata": {},
   "source": [
    "### Deep Copy of Tianshou Batch"
   ]
  },
  {
   "cell_type": "code",
   "execution_count": 18,
   "id": "91998e6f",
   "metadata": {
    "execution": {
     "iopub.execute_input": "2023-02-24T10:56:49.608853Z",
     "iopub.status.busy": "2023-02-24T10:56:49.608344Z",
     "iopub.status.idle": "2023-02-24T10:56:51.901364Z",
     "shell.execute_reply": "2023-02-24T10:56:51.900435Z"
    }
   },
   "outputs": [
    {
     "name": "stdout",
     "output_type": "stream",
     "text": [
      "281 µs ± 15.4 µs per loop (mean ± std. dev. of 7 runs, 1,000 loops each)\n"
     ]
    }
   ],
   "source": [
    "b3 = Batch(**_TREE_DATA_3)\n",
    "%timeit copy.deepcopy(b3)"
   ]
  },
  {
   "cell_type": "markdown",
   "id": "223162fb",
   "metadata": {},
   "source": [
    "## Stack, Concat and Split Operation"
   ]
  },
  {
   "cell_type": "markdown",
   "id": "85fa4a73",
   "metadata": {},
   "source": [
    "### Performance of TreeValue"
   ]
  },
  {
   "cell_type": "code",
   "execution_count": 19,
   "id": "a0c2b697",
   "metadata": {
    "execution": {
     "iopub.execute_input": "2023-02-24T10:56:51.906041Z",
     "iopub.status.busy": "2023-02-24T10:56:51.905425Z",
     "iopub.status.idle": "2023-02-24T10:56:51.909856Z",
     "shell.execute_reply": "2023-02-24T10:56:51.908970Z"
    }
   },
   "outputs": [],
   "source": [
    "trees = [FastTreeValue(_TREE_DATA_2) for _ in range(8)]"
   ]
  },
  {
   "cell_type": "code",
   "execution_count": 20,
   "id": "017ea5a5",
   "metadata": {
    "execution": {
     "iopub.execute_input": "2023-02-24T10:56:51.913857Z",
     "iopub.status.busy": "2023-02-24T10:56:51.913312Z",
     "iopub.status.idle": "2023-02-24T10:56:51.922652Z",
     "shell.execute_reply": "2023-02-24T10:56:51.921709Z"
    }
   },
   "outputs": [
    {
     "data": {
      "text/plain": [
       "<FastTreeValue 0x7fe993ec1520>\n",
       "├── 'a' --> tensor([[[-0.3428, -0.0762,  2.2447],\n",
       "│                    [ 0.1340, -0.2880, -0.7302]],\n",
       "│           \n",
       "│                   [[-0.3428, -0.0762,  2.2447],\n",
       "│                    [ 0.1340, -0.2880, -0.7302]],\n",
       "│           \n",
       "│                   [[-0.3428, -0.0762,  2.2447],\n",
       "│                    [ 0.1340, -0.2880, -0.7302]],\n",
       "│           \n",
       "│                   [[-0.3428, -0.0762,  2.2447],\n",
       "│                    [ 0.1340, -0.2880, -0.7302]],\n",
       "│           \n",
       "│                   [[-0.3428, -0.0762,  2.2447],\n",
       "│                    [ 0.1340, -0.2880, -0.7302]],\n",
       "│           \n",
       "│                   [[-0.3428, -0.0762,  2.2447],\n",
       "│                    [ 0.1340, -0.2880, -0.7302]],\n",
       "│           \n",
       "│                   [[-0.3428, -0.0762,  2.2447],\n",
       "│                    [ 0.1340, -0.2880, -0.7302]],\n",
       "│           \n",
       "│                   [[-0.3428, -0.0762,  2.2447],\n",
       "│                    [ 0.1340, -0.2880, -0.7302]]])\n",
       "└── 'x' --> <FastTreeValue 0x7fe993ec1d30>\n",
       "    └── 'c' --> tensor([[[-0.1852,  1.9320,  0.4704, -0.1873],\n",
       "                         [ 1.0247,  0.8216, -0.2618,  0.5323],\n",
       "                         [-0.3700,  1.2967, -1.4689,  1.0519]],\n",
       "                \n",
       "                        [[-0.1852,  1.9320,  0.4704, -0.1873],\n",
       "                         [ 1.0247,  0.8216, -0.2618,  0.5323],\n",
       "                         [-0.3700,  1.2967, -1.4689,  1.0519]],\n",
       "                \n",
       "                        [[-0.1852,  1.9320,  0.4704, -0.1873],\n",
       "                         [ 1.0247,  0.8216, -0.2618,  0.5323],\n",
       "                         [-0.3700,  1.2967, -1.4689,  1.0519]],\n",
       "                \n",
       "                        [[-0.1852,  1.9320,  0.4704, -0.1873],\n",
       "                         [ 1.0247,  0.8216, -0.2618,  0.5323],\n",
       "                         [-0.3700,  1.2967, -1.4689,  1.0519]],\n",
       "                \n",
       "                        [[-0.1852,  1.9320,  0.4704, -0.1873],\n",
       "                         [ 1.0247,  0.8216, -0.2618,  0.5323],\n",
       "                         [-0.3700,  1.2967, -1.4689,  1.0519]],\n",
       "                \n",
       "                        [[-0.1852,  1.9320,  0.4704, -0.1873],\n",
       "                         [ 1.0247,  0.8216, -0.2618,  0.5323],\n",
       "                         [-0.3700,  1.2967, -1.4689,  1.0519]],\n",
       "                \n",
       "                        [[-0.1852,  1.9320,  0.4704, -0.1873],\n",
       "                         [ 1.0247,  0.8216, -0.2618,  0.5323],\n",
       "                         [-0.3700,  1.2967, -1.4689,  1.0519]],\n",
       "                \n",
       "                        [[-0.1852,  1.9320,  0.4704, -0.1873],\n",
       "                         [ 1.0247,  0.8216, -0.2618,  0.5323],\n",
       "                         [-0.3700,  1.2967, -1.4689,  1.0519]]])"
      ]
     },
     "execution_count": 20,
     "metadata": {},
     "output_type": "execute_result"
    }
   ],
   "source": [
    "t_stack = FastTreeValue.func(subside=True)(torch.stack)\n",
    "\n",
    "t_stack(trees)"
   ]
  },
  {
   "cell_type": "code",
   "execution_count": 21,
   "id": "f8b3f415",
   "metadata": {
    "execution": {
     "iopub.execute_input": "2023-02-24T10:56:51.926449Z",
     "iopub.status.busy": "2023-02-24T10:56:51.925930Z",
     "iopub.status.idle": "2023-02-24T10:56:56.192580Z",
     "shell.execute_reply": "2023-02-24T10:56:56.191512Z"
    }
   },
   "outputs": [
    {
     "name": "stdout",
     "output_type": "stream",
     "text": [
      "51.9 µs ± 2.81 µs per loop (mean ± std. dev. of 7 runs, 10,000 loops each)\n"
     ]
    }
   ],
   "source": [
    "%timeit t_stack(trees)"
   ]
  },
  {
   "cell_type": "code",
   "execution_count": 22,
   "id": "94b56771",
   "metadata": {
    "execution": {
     "iopub.execute_input": "2023-02-24T10:56:56.196671Z",
     "iopub.status.busy": "2023-02-24T10:56:56.196159Z",
     "iopub.status.idle": "2023-02-24T10:56:56.206812Z",
     "shell.execute_reply": "2023-02-24T10:56:56.205747Z"
    }
   },
   "outputs": [
    {
     "data": {
      "text/plain": [
       "<FastTreeValue 0x7fe9146a0160>\n",
       "├── 'a' --> tensor([[-0.3428, -0.0762,  2.2447],\n",
       "│                   [ 0.1340, -0.2880, -0.7302],\n",
       "│                   [-0.3428, -0.0762,  2.2447],\n",
       "│                   [ 0.1340, -0.2880, -0.7302],\n",
       "│                   [-0.3428, -0.0762,  2.2447],\n",
       "│                   [ 0.1340, -0.2880, -0.7302],\n",
       "│                   [-0.3428, -0.0762,  2.2447],\n",
       "│                   [ 0.1340, -0.2880, -0.7302],\n",
       "│                   [-0.3428, -0.0762,  2.2447],\n",
       "│                   [ 0.1340, -0.2880, -0.7302],\n",
       "│                   [-0.3428, -0.0762,  2.2447],\n",
       "│                   [ 0.1340, -0.2880, -0.7302],\n",
       "│                   [-0.3428, -0.0762,  2.2447],\n",
       "│                   [ 0.1340, -0.2880, -0.7302],\n",
       "│                   [-0.3428, -0.0762,  2.2447],\n",
       "│                   [ 0.1340, -0.2880, -0.7302]])\n",
       "└── 'x' --> <FastTreeValue 0x7fe9146a0610>\n",
       "    └── 'c' --> tensor([[-0.1852,  1.9320,  0.4704, -0.1873],\n",
       "                        [ 1.0247,  0.8216, -0.2618,  0.5323],\n",
       "                        [-0.3700,  1.2967, -1.4689,  1.0519],\n",
       "                        [-0.1852,  1.9320,  0.4704, -0.1873],\n",
       "                        [ 1.0247,  0.8216, -0.2618,  0.5323],\n",
       "                        [-0.3700,  1.2967, -1.4689,  1.0519],\n",
       "                        [-0.1852,  1.9320,  0.4704, -0.1873],\n",
       "                        [ 1.0247,  0.8216, -0.2618,  0.5323],\n",
       "                        [-0.3700,  1.2967, -1.4689,  1.0519],\n",
       "                        [-0.1852,  1.9320,  0.4704, -0.1873],\n",
       "                        [ 1.0247,  0.8216, -0.2618,  0.5323],\n",
       "                        [-0.3700,  1.2967, -1.4689,  1.0519],\n",
       "                        [-0.1852,  1.9320,  0.4704, -0.1873],\n",
       "                        [ 1.0247,  0.8216, -0.2618,  0.5323],\n",
       "                        [-0.3700,  1.2967, -1.4689,  1.0519],\n",
       "                        [-0.1852,  1.9320,  0.4704, -0.1873],\n",
       "                        [ 1.0247,  0.8216, -0.2618,  0.5323],\n",
       "                        [-0.3700,  1.2967, -1.4689,  1.0519],\n",
       "                        [-0.1852,  1.9320,  0.4704, -0.1873],\n",
       "                        [ 1.0247,  0.8216, -0.2618,  0.5323],\n",
       "                        [-0.3700,  1.2967, -1.4689,  1.0519],\n",
       "                        [-0.1852,  1.9320,  0.4704, -0.1873],\n",
       "                        [ 1.0247,  0.8216, -0.2618,  0.5323],\n",
       "                        [-0.3700,  1.2967, -1.4689,  1.0519]])"
      ]
     },
     "execution_count": 22,
     "metadata": {},
     "output_type": "execute_result"
    }
   ],
   "source": [
    "t_cat = FastTreeValue.func(subside=True)(torch.cat)\n",
    "\n",
    "t_cat(trees)"
   ]
  },
  {
   "cell_type": "code",
   "execution_count": 23,
   "id": "5e9c06a6",
   "metadata": {
    "execution": {
     "iopub.execute_input": "2023-02-24T10:56:56.210883Z",
     "iopub.status.busy": "2023-02-24T10:56:56.210559Z",
     "iopub.status.idle": "2023-02-24T10:56:59.838021Z",
     "shell.execute_reply": "2023-02-24T10:56:59.836903Z"
    }
   },
   "outputs": [
    {
     "name": "stdout",
     "output_type": "stream",
     "text": [
      "43 µs ± 1.12 µs per loop (mean ± std. dev. of 7 runs, 10,000 loops each)\n"
     ]
    }
   ],
   "source": [
    "%timeit t_cat(trees)"
   ]
  },
  {
   "cell_type": "code",
   "execution_count": 24,
   "id": "a3ab5c8f",
   "metadata": {
    "execution": {
     "iopub.execute_input": "2023-02-24T10:56:59.842424Z",
     "iopub.status.busy": "2023-02-24T10:56:59.841809Z",
     "iopub.status.idle": "2023-02-24T10:57:06.839701Z",
     "shell.execute_reply": "2023-02-24T10:57:06.838603Z"
    }
   },
   "outputs": [
    {
     "name": "stdout",
     "output_type": "stream",
     "text": [
      "85.6 µs ± 4.26 µs per loop (mean ± std. dev. of 7 runs, 10,000 loops each)\n"
     ]
    }
   ],
   "source": [
    "t_split = FastTreeValue.func(rise=True)(torch.split)\n",
    "tree = FastTreeValue({\n",
    "    'obs': torch.randn(8, 4, 84, 84),\n",
    "    'action': torch.randint(0, 6, size=(8, 1,)),\n",
    "    'reward': torch.rand(8, 1),\n",
    "})\n",
    "\n",
    "%timeit t_split(tree, 1)"
   ]
  },
  {
   "cell_type": "markdown",
   "id": "31c3ec0b",
   "metadata": {},
   "source": [
    "### Performance of Tianshou Batch"
   ]
  },
  {
   "cell_type": "code",
   "execution_count": 25,
   "id": "9ead828a",
   "metadata": {
    "execution": {
     "iopub.execute_input": "2023-02-24T10:57:06.845378Z",
     "iopub.status.busy": "2023-02-24T10:57:06.844978Z",
     "iopub.status.idle": "2023-02-24T10:57:06.855852Z",
     "shell.execute_reply": "2023-02-24T10:57:06.854796Z"
    }
   },
   "outputs": [
    {
     "data": {
      "text/plain": [
       "Batch(\n",
       "    a: tensor([[[-0.3428, -0.0762,  2.2447],\n",
       "                [ 0.1340, -0.2880, -0.7302]],\n",
       "       \n",
       "               [[-0.3428, -0.0762,  2.2447],\n",
       "                [ 0.1340, -0.2880, -0.7302]],\n",
       "       \n",
       "               [[-0.3428, -0.0762,  2.2447],\n",
       "                [ 0.1340, -0.2880, -0.7302]],\n",
       "       \n",
       "               [[-0.3428, -0.0762,  2.2447],\n",
       "                [ 0.1340, -0.2880, -0.7302]],\n",
       "       \n",
       "               [[-0.3428, -0.0762,  2.2447],\n",
       "                [ 0.1340, -0.2880, -0.7302]],\n",
       "       \n",
       "               [[-0.3428, -0.0762,  2.2447],\n",
       "                [ 0.1340, -0.2880, -0.7302]],\n",
       "       \n",
       "               [[-0.3428, -0.0762,  2.2447],\n",
       "                [ 0.1340, -0.2880, -0.7302]],\n",
       "       \n",
       "               [[-0.3428, -0.0762,  2.2447],\n",
       "                [ 0.1340, -0.2880, -0.7302]]]),\n",
       "    x: Batch(\n",
       "           c: tensor([[[-0.1852,  1.9320,  0.4704, -0.1873],\n",
       "                       [ 1.0247,  0.8216, -0.2618,  0.5323],\n",
       "                       [-0.3700,  1.2967, -1.4689,  1.0519]],\n",
       "              \n",
       "                      [[-0.1852,  1.9320,  0.4704, -0.1873],\n",
       "                       [ 1.0247,  0.8216, -0.2618,  0.5323],\n",
       "                       [-0.3700,  1.2967, -1.4689,  1.0519]],\n",
       "              \n",
       "                      [[-0.1852,  1.9320,  0.4704, -0.1873],\n",
       "                       [ 1.0247,  0.8216, -0.2618,  0.5323],\n",
       "                       [-0.3700,  1.2967, -1.4689,  1.0519]],\n",
       "              \n",
       "                      [[-0.1852,  1.9320,  0.4704, -0.1873],\n",
       "                       [ 1.0247,  0.8216, -0.2618,  0.5323],\n",
       "                       [-0.3700,  1.2967, -1.4689,  1.0519]],\n",
       "              \n",
       "                      [[-0.1852,  1.9320,  0.4704, -0.1873],\n",
       "                       [ 1.0247,  0.8216, -0.2618,  0.5323],\n",
       "                       [-0.3700,  1.2967, -1.4689,  1.0519]],\n",
       "              \n",
       "                      [[-0.1852,  1.9320,  0.4704, -0.1873],\n",
       "                       [ 1.0247,  0.8216, -0.2618,  0.5323],\n",
       "                       [-0.3700,  1.2967, -1.4689,  1.0519]],\n",
       "              \n",
       "                      [[-0.1852,  1.9320,  0.4704, -0.1873],\n",
       "                       [ 1.0247,  0.8216, -0.2618,  0.5323],\n",
       "                       [-0.3700,  1.2967, -1.4689,  1.0519]],\n",
       "              \n",
       "                      [[-0.1852,  1.9320,  0.4704, -0.1873],\n",
       "                       [ 1.0247,  0.8216, -0.2618,  0.5323],\n",
       "                       [-0.3700,  1.2967, -1.4689,  1.0519]]]),\n",
       "       ),\n",
       ")"
      ]
     },
     "execution_count": 25,
     "metadata": {},
     "output_type": "execute_result"
    }
   ],
   "source": [
    "batches = [Batch(**_TREE_DATA_2) for _ in range(8)]\n",
    "\n",
    "Batch.stack(batches)"
   ]
  },
  {
   "cell_type": "code",
   "execution_count": 26,
   "id": "ec9037a3",
   "metadata": {
    "execution": {
     "iopub.execute_input": "2023-02-24T10:57:06.860451Z",
     "iopub.status.busy": "2023-02-24T10:57:06.859858Z",
     "iopub.status.idle": "2023-02-24T10:57:16.016527Z",
     "shell.execute_reply": "2023-02-24T10:57:16.015371Z"
    }
   },
   "outputs": [
    {
     "name": "stdout",
     "output_type": "stream",
     "text": [
      "113 µs ± 4.38 µs per loop (mean ± std. dev. of 7 runs, 10,000 loops each)\n"
     ]
    }
   ],
   "source": [
    "%timeit Batch.stack(batches)"
   ]
  },
  {
   "cell_type": "code",
   "execution_count": 27,
   "id": "cb8ab77e",
   "metadata": {
    "execution": {
     "iopub.execute_input": "2023-02-24T10:57:16.020168Z",
     "iopub.status.busy": "2023-02-24T10:57:16.019852Z",
     "iopub.status.idle": "2023-02-24T10:57:16.031842Z",
     "shell.execute_reply": "2023-02-24T10:57:16.029595Z"
    }
   },
   "outputs": [
    {
     "data": {
      "text/plain": [
       "Batch(\n",
       "    a: tensor([[-0.3428, -0.0762,  2.2447],\n",
       "               [ 0.1340, -0.2880, -0.7302],\n",
       "               [-0.3428, -0.0762,  2.2447],\n",
       "               [ 0.1340, -0.2880, -0.7302],\n",
       "               [-0.3428, -0.0762,  2.2447],\n",
       "               [ 0.1340, -0.2880, -0.7302],\n",
       "               [-0.3428, -0.0762,  2.2447],\n",
       "               [ 0.1340, -0.2880, -0.7302],\n",
       "               [-0.3428, -0.0762,  2.2447],\n",
       "               [ 0.1340, -0.2880, -0.7302],\n",
       "               [-0.3428, -0.0762,  2.2447],\n",
       "               [ 0.1340, -0.2880, -0.7302],\n",
       "               [-0.3428, -0.0762,  2.2447],\n",
       "               [ 0.1340, -0.2880, -0.7302],\n",
       "               [-0.3428, -0.0762,  2.2447],\n",
       "               [ 0.1340, -0.2880, -0.7302]]),\n",
       "    x: Batch(\n",
       "           c: tensor([[-0.1852,  1.9320,  0.4704, -0.1873],\n",
       "                      [ 1.0247,  0.8216, -0.2618,  0.5323],\n",
       "                      [-0.3700,  1.2967, -1.4689,  1.0519],\n",
       "                      [-0.1852,  1.9320,  0.4704, -0.1873],\n",
       "                      [ 1.0247,  0.8216, -0.2618,  0.5323],\n",
       "                      [-0.3700,  1.2967, -1.4689,  1.0519],\n",
       "                      [-0.1852,  1.9320,  0.4704, -0.1873],\n",
       "                      [ 1.0247,  0.8216, -0.2618,  0.5323],\n",
       "                      [-0.3700,  1.2967, -1.4689,  1.0519],\n",
       "                      [-0.1852,  1.9320,  0.4704, -0.1873],\n",
       "                      [ 1.0247,  0.8216, -0.2618,  0.5323],\n",
       "                      [-0.3700,  1.2967, -1.4689,  1.0519],\n",
       "                      [-0.1852,  1.9320,  0.4704, -0.1873],\n",
       "                      [ 1.0247,  0.8216, -0.2618,  0.5323],\n",
       "                      [-0.3700,  1.2967, -1.4689,  1.0519],\n",
       "                      [-0.1852,  1.9320,  0.4704, -0.1873],\n",
       "                      [ 1.0247,  0.8216, -0.2618,  0.5323],\n",
       "                      [-0.3700,  1.2967, -1.4689,  1.0519],\n",
       "                      [-0.1852,  1.9320,  0.4704, -0.1873],\n",
       "                      [ 1.0247,  0.8216, -0.2618,  0.5323],\n",
       "                      [-0.3700,  1.2967, -1.4689,  1.0519],\n",
       "                      [-0.1852,  1.9320,  0.4704, -0.1873],\n",
       "                      [ 1.0247,  0.8216, -0.2618,  0.5323],\n",
       "                      [-0.3700,  1.2967, -1.4689,  1.0519]]),\n",
       "       ),\n",
       ")"
      ]
     },
     "execution_count": 27,
     "metadata": {},
     "output_type": "execute_result"
    }
   ],
   "source": [
    "Batch.cat(batches)"
   ]
  },
  {
   "cell_type": "code",
   "execution_count": 28,
   "id": "18dfb045",
   "metadata": {
    "execution": {
     "iopub.execute_input": "2023-02-24T10:57:16.036251Z",
     "iopub.status.busy": "2023-02-24T10:57:16.035892Z",
     "iopub.status.idle": "2023-02-24T10:57:32.238361Z",
     "shell.execute_reply": "2023-02-24T10:57:32.237177Z"
    }
   },
   "outputs": [
    {
     "name": "stdout",
     "output_type": "stream",
     "text": [
      "199 µs ± 5.12 µs per loop (mean ± std. dev. of 7 runs, 10,000 loops each)\n"
     ]
    }
   ],
   "source": [
    "%timeit Batch.cat(batches)"
   ]
  },
  {
   "cell_type": "code",
   "execution_count": 29,
   "id": "c6688e51",
   "metadata": {
    "execution": {
     "iopub.execute_input": "2023-02-24T10:57:32.244365Z",
     "iopub.status.busy": "2023-02-24T10:57:32.242489Z",
     "iopub.status.idle": "2023-02-24T10:57:37.552205Z",
     "shell.execute_reply": "2023-02-24T10:57:37.551343Z"
    }
   },
   "outputs": [
    {
     "name": "stdout",
     "output_type": "stream",
     "text": [
      "658 µs ± 60.6 µs per loop (mean ± std. dev. of 7 runs, 1,000 loops each)\n"
     ]
    }
   ],
   "source": [
    "batch = Batch({\n",
    "    'obs': torch.randn(8, 4, 84, 84),\n",
    "    'action': torch.randint(0, 6, size=(8, 1,)),\n",
    "    'reward': torch.rand(8, 1)}\n",
    ")\n",
    "\n",
    "%timeit list(Batch.split(batch, 1, shuffle=False, merge_last=True))"
   ]
  },
  {
   "cell_type": "code",
   "execution_count": null,
   "id": "2539fbd9",
   "metadata": {},
   "outputs": [],
   "source": []
  }
 ],
 "metadata": {
  "kernelspec": {
   "display_name": "Python 3 (ipykernel)",
   "language": "python",
   "name": "python3"
  },
  "language_info": {
   "codemirror_mode": {
    "name": "ipython",
    "version": 3
   },
   "file_extension": ".py",
   "mimetype": "text/x-python",
   "name": "python",
   "nbconvert_exporter": "python",
   "pygments_lexer": "ipython3",
   "version": "3.8.16"
  }
 },
 "nbformat": 4,
 "nbformat_minor": 5
}
