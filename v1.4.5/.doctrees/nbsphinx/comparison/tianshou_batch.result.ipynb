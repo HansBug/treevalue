{
 "cells": [
  {
   "cell_type": "markdown",
   "id": "9d39d946",
   "metadata": {},
   "source": [
    "# Comparison Between TreeValue and Tianshou Batch"
   ]
  },
  {
   "cell_type": "markdown",
   "id": "3c6db2d4",
   "metadata": {},
   "source": [
    "In this section, we will take a look at the feature and performance of the [Tianshou Batch](https://github.com/thu-ml/tianshou) library, which is developed by Tsinghua Machine Learning Group."
   ]
  },
  {
   "cell_type": "markdown",
   "id": "069361b0",
   "metadata": {},
   "source": [
    "Before starting the comparison, let us define some thing."
   ]
  },
  {
   "cell_type": "code",
   "execution_count": 1,
   "id": "06fc8d26",
   "metadata": {
    "execution": {
     "iopub.execute_input": "2023-05-26T05:53:28.602412Z",
     "iopub.status.busy": "2023-05-26T05:53:28.602144Z",
     "iopub.status.idle": "2023-05-26T05:53:29.947234Z",
     "shell.execute_reply": "2023-05-26T05:53:29.946465Z"
    }
   },
   "outputs": [],
   "source": [
    "import torch \n",
    "\n",
    "_TREE_DATA_1 = {'a': 1, 'b': 2, 'x': {'c': 3, 'd': 4}}\n",
    "_TREE_DATA_2 = {\n",
    "    'a': torch.randn(2, 3), \n",
    "    'x': {\n",
    "        'c': torch.randn(3, 4)\n",
    "    },\n",
    "}\n",
    "_TREE_DATA_3 = {\n",
    "    'obs': torch.randn(4, 84, 84),\n",
    "    'action': torch.randint(0, 6, size=(1,)),\n",
    "    'reward': torch.rand(1),\n",
    "}"
   ]
  },
  {
   "cell_type": "markdown",
   "id": "83461b25",
   "metadata": {},
   "source": [
    "## Read and Write Operation"
   ]
  },
  {
   "cell_type": "markdown",
   "id": "067b3f73",
   "metadata": {},
   "source": [
    "Reading and writing are the two most common operations in the tree data structure based on the data model (TreeValue and Tianshou Batch both belong to this type), so this section will compare the reading and writing performance of these two libraries."
   ]
  },
  {
   "cell_type": "markdown",
   "id": "5d09a5b7",
   "metadata": {},
   "source": [
    "### TreeValue's Get and Set"
   ]
  },
  {
   "cell_type": "code",
   "execution_count": 2,
   "id": "9519c4bb",
   "metadata": {
    "execution": {
     "iopub.execute_input": "2023-05-26T05:53:29.951544Z",
     "iopub.status.busy": "2023-05-26T05:53:29.951063Z",
     "iopub.status.idle": "2023-05-26T05:53:29.980089Z",
     "shell.execute_reply": "2023-05-26T05:53:29.979405Z"
    }
   },
   "outputs": [],
   "source": [
    "from treevalue import FastTreeValue\n",
    "\n",
    "t = FastTreeValue(_TREE_DATA_2)"
   ]
  },
  {
   "cell_type": "code",
   "execution_count": 3,
   "id": "11c37677",
   "metadata": {
    "execution": {
     "iopub.execute_input": "2023-05-26T05:53:29.983774Z",
     "iopub.status.busy": "2023-05-26T05:53:29.983381Z",
     "iopub.status.idle": "2023-05-26T05:53:29.992214Z",
     "shell.execute_reply": "2023-05-26T05:53:29.991528Z"
    }
   },
   "outputs": [
    {
     "data": {
      "text/plain": [
       "<FastTreeValue 0x7fa09c3f2f40>\n",
       "├── 'a' --> tensor([[ 0.6856,  1.0648, -0.8241],\n",
       "│                   [ 0.5070, -0.5600, -0.2682]])\n",
       "└── 'x' --> <FastTreeValue 0x7fa09c3f2e80>\n",
       "    └── 'c' --> tensor([[-1.3735, -0.6888,  1.2909,  1.3938],\n",
       "                        [ 0.5157,  1.1300,  0.6155, -0.0728],\n",
       "                        [ 0.4535,  1.7566, -0.3956,  1.2623]])"
      ]
     },
     "execution_count": 3,
     "metadata": {},
     "output_type": "execute_result"
    }
   ],
   "source": [
    "t"
   ]
  },
  {
   "cell_type": "code",
   "execution_count": 4,
   "id": "fd70b0b9",
   "metadata": {
    "execution": {
     "iopub.execute_input": "2023-05-26T05:53:29.996058Z",
     "iopub.status.busy": "2023-05-26T05:53:29.995833Z",
     "iopub.status.idle": "2023-05-26T05:53:30.002612Z",
     "shell.execute_reply": "2023-05-26T05:53:30.001853Z"
    }
   },
   "outputs": [
    {
     "data": {
      "text/plain": [
       "tensor([[ 0.6856,  1.0648, -0.8241],\n",
       "        [ 0.5070, -0.5600, -0.2682]])"
      ]
     },
     "execution_count": 4,
     "metadata": {},
     "output_type": "execute_result"
    }
   ],
   "source": [
    "t.a"
   ]
  },
  {
   "cell_type": "code",
   "execution_count": 5,
   "id": "c18197bd",
   "metadata": {
    "execution": {
     "iopub.execute_input": "2023-05-26T05:53:30.005691Z",
     "iopub.status.busy": "2023-05-26T05:53:30.005306Z",
     "iopub.status.idle": "2023-05-26T05:53:35.262879Z",
     "shell.execute_reply": "2023-05-26T05:53:35.262000Z"
    }
   },
   "outputs": [
    {
     "name": "stdout",
     "output_type": "stream",
     "text": [
      "64.2 ns ± 0.0837 ns per loop (mean ± std. dev. of 7 runs, 10,000,000 loops each)\n"
     ]
    }
   ],
   "source": [
    "%timeit t.a"
   ]
  },
  {
   "cell_type": "code",
   "execution_count": 6,
   "id": "bd52f867",
   "metadata": {
    "execution": {
     "iopub.execute_input": "2023-05-26T05:53:35.266793Z",
     "iopub.status.busy": "2023-05-26T05:53:35.266116Z",
     "iopub.status.idle": "2023-05-26T05:53:35.273663Z",
     "shell.execute_reply": "2023-05-26T05:53:35.273012Z"
    }
   },
   "outputs": [
    {
     "data": {
      "text/plain": [
       "<FastTreeValue 0x7fa09c3f2f40>\n",
       "├── 'a' --> tensor([[-0.4164,  0.4732, -2.2995],\n",
       "│                   [ 1.3633,  0.5062,  0.8104]])\n",
       "└── 'x' --> <FastTreeValue 0x7fa09c3f2e80>\n",
       "    └── 'c' --> tensor([[-1.3735, -0.6888,  1.2909,  1.3938],\n",
       "                        [ 0.5157,  1.1300,  0.6155, -0.0728],\n",
       "                        [ 0.4535,  1.7566, -0.3956,  1.2623]])"
      ]
     },
     "execution_count": 6,
     "metadata": {},
     "output_type": "execute_result"
    }
   ],
   "source": [
    "new_value = torch.randn(2, 3)\n",
    "t.a = new_value\n",
    "\n",
    "t"
   ]
  },
  {
   "cell_type": "code",
   "execution_count": 7,
   "id": "bbe04d1c",
   "metadata": {
    "execution": {
     "iopub.execute_input": "2023-05-26T05:53:35.276870Z",
     "iopub.status.busy": "2023-05-26T05:53:35.276315Z",
     "iopub.status.idle": "2023-05-26T05:53:42.413741Z",
     "shell.execute_reply": "2023-05-26T05:53:42.412823Z"
    }
   },
   "outputs": [
    {
     "name": "stdout",
     "output_type": "stream",
     "text": [
      "87.9 ns ± 0.156 ns per loop (mean ± std. dev. of 7 runs, 10,000,000 loops each)\n"
     ]
    }
   ],
   "source": [
    "%timeit t.a = new_value"
   ]
  },
  {
   "cell_type": "markdown",
   "id": "48c49731",
   "metadata": {},
   "source": [
    "### Tianshou Batch's Get and Set"
   ]
  },
  {
   "cell_type": "code",
   "execution_count": 8,
   "id": "f1bb14c1",
   "metadata": {
    "execution": {
     "iopub.execute_input": "2023-05-26T05:53:42.417606Z",
     "iopub.status.busy": "2023-05-26T05:53:42.417076Z",
     "iopub.status.idle": "2023-05-26T05:53:42.779663Z",
     "shell.execute_reply": "2023-05-26T05:53:42.778895Z"
    }
   },
   "outputs": [],
   "source": [
    "from tianshou.data import Batch\n",
    "\n",
    "b = Batch(**_TREE_DATA_2)"
   ]
  },
  {
   "cell_type": "code",
   "execution_count": 9,
   "id": "cb0777c3",
   "metadata": {
    "execution": {
     "iopub.execute_input": "2023-05-26T05:53:42.783509Z",
     "iopub.status.busy": "2023-05-26T05:53:42.783000Z",
     "iopub.status.idle": "2023-05-26T05:53:42.788926Z",
     "shell.execute_reply": "2023-05-26T05:53:42.788251Z"
    }
   },
   "outputs": [
    {
     "data": {
      "text/plain": [
       "Batch(\n",
       "    a: tensor([[ 0.6856,  1.0648, -0.8241],\n",
       "               [ 0.5070, -0.5600, -0.2682]]),\n",
       "    x: Batch(\n",
       "           c: tensor([[-1.3735, -0.6888,  1.2909,  1.3938],\n",
       "                      [ 0.5157,  1.1300,  0.6155, -0.0728],\n",
       "                      [ 0.4535,  1.7566, -0.3956,  1.2623]]),\n",
       "       ),\n",
       ")"
      ]
     },
     "execution_count": 9,
     "metadata": {},
     "output_type": "execute_result"
    }
   ],
   "source": [
    "b"
   ]
  },
  {
   "cell_type": "code",
   "execution_count": 10,
   "id": "43ef8ea3",
   "metadata": {
    "execution": {
     "iopub.execute_input": "2023-05-26T05:53:42.792087Z",
     "iopub.status.busy": "2023-05-26T05:53:42.791478Z",
     "iopub.status.idle": "2023-05-26T05:53:42.796510Z",
     "shell.execute_reply": "2023-05-26T05:53:42.795830Z"
    }
   },
   "outputs": [
    {
     "data": {
      "text/plain": [
       "tensor([[ 0.6856,  1.0648, -0.8241],\n",
       "        [ 0.5070, -0.5600, -0.2682]])"
      ]
     },
     "execution_count": 10,
     "metadata": {},
     "output_type": "execute_result"
    }
   ],
   "source": [
    "b.a"
   ]
  },
  {
   "cell_type": "code",
   "execution_count": 11,
   "id": "b785ab72",
   "metadata": {
    "execution": {
     "iopub.execute_input": "2023-05-26T05:53:42.799368Z",
     "iopub.status.busy": "2023-05-26T05:53:42.799010Z",
     "iopub.status.idle": "2023-05-26T05:53:48.301440Z",
     "shell.execute_reply": "2023-05-26T05:53:48.300676Z"
    }
   },
   "outputs": [
    {
     "name": "stdout",
     "output_type": "stream",
     "text": [
      "68.9 ns ± 7.77 ns per loop (mean ± std. dev. of 7 runs, 10,000,000 loops each)\n"
     ]
    }
   ],
   "source": [
    "%timeit b.a"
   ]
  },
  {
   "cell_type": "code",
   "execution_count": 12,
   "id": "ad54dc69",
   "metadata": {
    "execution": {
     "iopub.execute_input": "2023-05-26T05:53:48.305092Z",
     "iopub.status.busy": "2023-05-26T05:53:48.304622Z",
     "iopub.status.idle": "2023-05-26T05:53:48.310835Z",
     "shell.execute_reply": "2023-05-26T05:53:48.310124Z"
    }
   },
   "outputs": [
    {
     "data": {
      "text/plain": [
       "Batch(\n",
       "    a: tensor([[-0.1456,  0.5943, -0.4166],\n",
       "               [-0.6058,  0.7533, -0.2882]]),\n",
       "    x: Batch(\n",
       "           c: tensor([[-1.3735, -0.6888,  1.2909,  1.3938],\n",
       "                      [ 0.5157,  1.1300,  0.6155, -0.0728],\n",
       "                      [ 0.4535,  1.7566, -0.3956,  1.2623]]),\n",
       "       ),\n",
       ")"
      ]
     },
     "execution_count": 12,
     "metadata": {},
     "output_type": "execute_result"
    }
   ],
   "source": [
    "new_value = torch.randn(2, 3)\n",
    "b.a = new_value\n",
    "\n",
    "b"
   ]
  },
  {
   "cell_type": "code",
   "execution_count": 13,
   "id": "29b1d0bf",
   "metadata": {
    "execution": {
     "iopub.execute_input": "2023-05-26T05:53:48.313955Z",
     "iopub.status.busy": "2023-05-26T05:53:48.313512Z",
     "iopub.status.idle": "2023-05-26T05:53:53.292234Z",
     "shell.execute_reply": "2023-05-26T05:53:53.291499Z"
    }
   },
   "outputs": [
    {
     "name": "stdout",
     "output_type": "stream",
     "text": [
      "586 ns ± 69.6 ns per loop (mean ± std. dev. of 7 runs, 1,000,000 loops each)\n"
     ]
    }
   ],
   "source": [
    "%timeit b.a = new_value"
   ]
  },
  {
   "cell_type": "markdown",
   "id": "b61ad1d0",
   "metadata": {},
   "source": [
    "## Initialization"
   ]
  },
  {
   "cell_type": "markdown",
   "id": "d70f0d54",
   "metadata": {},
   "source": [
    "### TreeValue's Initialization"
   ]
  },
  {
   "cell_type": "code",
   "execution_count": 14,
   "id": "d32a679b",
   "metadata": {
    "execution": {
     "iopub.execute_input": "2023-05-26T05:53:53.296219Z",
     "iopub.status.busy": "2023-05-26T05:53:53.295518Z",
     "iopub.status.idle": "2023-05-26T05:54:00.959280Z",
     "shell.execute_reply": "2023-05-26T05:54:00.958517Z"
    }
   },
   "outputs": [
    {
     "name": "stdout",
     "output_type": "stream",
     "text": [
      "964 ns ± 50.2 ns per loop (mean ± std. dev. of 7 runs, 1,000,000 loops each)\n"
     ]
    }
   ],
   "source": [
    "%timeit FastTreeValue(_TREE_DATA_1)"
   ]
  },
  {
   "cell_type": "markdown",
   "id": "24f3707b",
   "metadata": {},
   "source": [
    "### Tianshou Batch's Initialization"
   ]
  },
  {
   "cell_type": "code",
   "execution_count": 15,
   "id": "ac3958df",
   "metadata": {
    "execution": {
     "iopub.execute_input": "2023-05-26T05:54:00.962987Z",
     "iopub.status.busy": "2023-05-26T05:54:00.962563Z",
     "iopub.status.idle": "2023-05-26T05:54:11.308635Z",
     "shell.execute_reply": "2023-05-26T05:54:11.307915Z"
    }
   },
   "outputs": [
    {
     "name": "stdout",
     "output_type": "stream",
     "text": [
      "12.8 µs ± 778 ns per loop (mean ± std. dev. of 7 runs, 100,000 loops each)\n"
     ]
    }
   ],
   "source": [
    "%timeit Batch(**_TREE_DATA_1)"
   ]
  },
  {
   "cell_type": "markdown",
   "id": "1ab82e2d",
   "metadata": {},
   "source": [
    "## Deep Copy Operation"
   ]
  },
  {
   "cell_type": "code",
   "execution_count": 16,
   "id": "210a9442",
   "metadata": {
    "execution": {
     "iopub.execute_input": "2023-05-26T05:54:11.312562Z",
     "iopub.status.busy": "2023-05-26T05:54:11.311852Z",
     "iopub.status.idle": "2023-05-26T05:54:11.315396Z",
     "shell.execute_reply": "2023-05-26T05:54:11.314802Z"
    }
   },
   "outputs": [],
   "source": [
    "import copy"
   ]
  },
  {
   "cell_type": "markdown",
   "id": "5a736274",
   "metadata": {},
   "source": [
    "### Deep Copy of TreeValue"
   ]
  },
  {
   "cell_type": "code",
   "execution_count": 17,
   "id": "f9bcadd6",
   "metadata": {
    "execution": {
     "iopub.execute_input": "2023-05-26T05:54:11.318469Z",
     "iopub.status.busy": "2023-05-26T05:54:11.318029Z",
     "iopub.status.idle": "2023-05-26T05:54:24.700772Z",
     "shell.execute_reply": "2023-05-26T05:54:24.700140Z"
    }
   },
   "outputs": [
    {
     "name": "stdout",
     "output_type": "stream",
     "text": [
      "166 µs ± 4.83 µs per loop (mean ± std. dev. of 7 runs, 10,000 loops each)\n"
     ]
    }
   ],
   "source": [
    "t3 = FastTreeValue(_TREE_DATA_3)\n",
    "%timeit copy.deepcopy(t3)"
   ]
  },
  {
   "cell_type": "markdown",
   "id": "bf8be7ea",
   "metadata": {},
   "source": [
    "### Deep Copy of Tianshou Batch"
   ]
  },
  {
   "cell_type": "code",
   "execution_count": 18,
   "id": "91998e6f",
   "metadata": {
    "execution": {
     "iopub.execute_input": "2023-05-26T05:54:24.704151Z",
     "iopub.status.busy": "2023-05-26T05:54:24.703752Z",
     "iopub.status.idle": "2023-05-26T05:54:38.198589Z",
     "shell.execute_reply": "2023-05-26T05:54:38.197932Z"
    }
   },
   "outputs": [
    {
     "name": "stdout",
     "output_type": "stream",
     "text": [
      "166 µs ± 7.51 µs per loop (mean ± std. dev. of 7 runs, 10,000 loops each)\n"
     ]
    }
   ],
   "source": [
    "b3 = Batch(**_TREE_DATA_3)\n",
    "%timeit copy.deepcopy(b3)"
   ]
  },
  {
   "cell_type": "markdown",
   "id": "223162fb",
   "metadata": {},
   "source": [
    "## Stack, Concat and Split Operation"
   ]
  },
  {
   "cell_type": "markdown",
   "id": "85fa4a73",
   "metadata": {},
   "source": [
    "### Performance of TreeValue"
   ]
  },
  {
   "cell_type": "code",
   "execution_count": 19,
   "id": "a0c2b697",
   "metadata": {
    "execution": {
     "iopub.execute_input": "2023-05-26T05:54:38.202052Z",
     "iopub.status.busy": "2023-05-26T05:54:38.201651Z",
     "iopub.status.idle": "2023-05-26T05:54:38.204897Z",
     "shell.execute_reply": "2023-05-26T05:54:38.204346Z"
    }
   },
   "outputs": [],
   "source": [
    "trees = [FastTreeValue(_TREE_DATA_2) for _ in range(8)]"
   ]
  },
  {
   "cell_type": "code",
   "execution_count": 20,
   "id": "017ea5a5",
   "metadata": {
    "execution": {
     "iopub.execute_input": "2023-05-26T05:54:38.208021Z",
     "iopub.status.busy": "2023-05-26T05:54:38.207326Z",
     "iopub.status.idle": "2023-05-26T05:54:38.215035Z",
     "shell.execute_reply": "2023-05-26T05:54:38.214481Z"
    }
   },
   "outputs": [
    {
     "data": {
      "text/plain": [
       "<FastTreeValue 0x7f9fce6aadc0>\n",
       "├── 'a' --> tensor([[[ 0.6856,  1.0648, -0.8241],\n",
       "│                    [ 0.5070, -0.5600, -0.2682]],\n",
       "│           \n",
       "│                   [[ 0.6856,  1.0648, -0.8241],\n",
       "│                    [ 0.5070, -0.5600, -0.2682]],\n",
       "│           \n",
       "│                   [[ 0.6856,  1.0648, -0.8241],\n",
       "│                    [ 0.5070, -0.5600, -0.2682]],\n",
       "│           \n",
       "│                   [[ 0.6856,  1.0648, -0.8241],\n",
       "│                    [ 0.5070, -0.5600, -0.2682]],\n",
       "│           \n",
       "│                   [[ 0.6856,  1.0648, -0.8241],\n",
       "│                    [ 0.5070, -0.5600, -0.2682]],\n",
       "│           \n",
       "│                   [[ 0.6856,  1.0648, -0.8241],\n",
       "│                    [ 0.5070, -0.5600, -0.2682]],\n",
       "│           \n",
       "│                   [[ 0.6856,  1.0648, -0.8241],\n",
       "│                    [ 0.5070, -0.5600, -0.2682]],\n",
       "│           \n",
       "│                   [[ 0.6856,  1.0648, -0.8241],\n",
       "│                    [ 0.5070, -0.5600, -0.2682]]])\n",
       "└── 'x' --> <FastTreeValue 0x7f9fce6aadf0>\n",
       "    └── 'c' --> tensor([[[-1.3735, -0.6888,  1.2909,  1.3938],\n",
       "                         [ 0.5157,  1.1300,  0.6155, -0.0728],\n",
       "                         [ 0.4535,  1.7566, -0.3956,  1.2623]],\n",
       "                \n",
       "                        [[-1.3735, -0.6888,  1.2909,  1.3938],\n",
       "                         [ 0.5157,  1.1300,  0.6155, -0.0728],\n",
       "                         [ 0.4535,  1.7566, -0.3956,  1.2623]],\n",
       "                \n",
       "                        [[-1.3735, -0.6888,  1.2909,  1.3938],\n",
       "                         [ 0.5157,  1.1300,  0.6155, -0.0728],\n",
       "                         [ 0.4535,  1.7566, -0.3956,  1.2623]],\n",
       "                \n",
       "                        [[-1.3735, -0.6888,  1.2909,  1.3938],\n",
       "                         [ 0.5157,  1.1300,  0.6155, -0.0728],\n",
       "                         [ 0.4535,  1.7566, -0.3956,  1.2623]],\n",
       "                \n",
       "                        [[-1.3735, -0.6888,  1.2909,  1.3938],\n",
       "                         [ 0.5157,  1.1300,  0.6155, -0.0728],\n",
       "                         [ 0.4535,  1.7566, -0.3956,  1.2623]],\n",
       "                \n",
       "                        [[-1.3735, -0.6888,  1.2909,  1.3938],\n",
       "                         [ 0.5157,  1.1300,  0.6155, -0.0728],\n",
       "                         [ 0.4535,  1.7566, -0.3956,  1.2623]],\n",
       "                \n",
       "                        [[-1.3735, -0.6888,  1.2909,  1.3938],\n",
       "                         [ 0.5157,  1.1300,  0.6155, -0.0728],\n",
       "                         [ 0.4535,  1.7566, -0.3956,  1.2623]],\n",
       "                \n",
       "                        [[-1.3735, -0.6888,  1.2909,  1.3938],\n",
       "                         [ 0.5157,  1.1300,  0.6155, -0.0728],\n",
       "                         [ 0.4535,  1.7566, -0.3956,  1.2623]]])"
      ]
     },
     "execution_count": 20,
     "metadata": {},
     "output_type": "execute_result"
    }
   ],
   "source": [
    "t_stack = FastTreeValue.func(subside=True)(torch.stack)\n",
    "\n",
    "t_stack(trees)"
   ]
  },
  {
   "cell_type": "code",
   "execution_count": 21,
   "id": "f8b3f415",
   "metadata": {
    "execution": {
     "iopub.execute_input": "2023-05-26T05:54:38.217898Z",
     "iopub.status.busy": "2023-05-26T05:54:38.217520Z",
     "iopub.status.idle": "2023-05-26T05:54:41.501781Z",
     "shell.execute_reply": "2023-05-26T05:54:41.500714Z"
    }
   },
   "outputs": [
    {
     "name": "stdout",
     "output_type": "stream",
     "text": [
      "41 µs ± 6.03 µs per loop (mean ± std. dev. of 7 runs, 10,000 loops each)\n"
     ]
    }
   ],
   "source": [
    "%timeit t_stack(trees)"
   ]
  },
  {
   "cell_type": "code",
   "execution_count": 22,
   "id": "94b56771",
   "metadata": {
    "execution": {
     "iopub.execute_input": "2023-05-26T05:54:41.505208Z",
     "iopub.status.busy": "2023-05-26T05:54:41.504795Z",
     "iopub.status.idle": "2023-05-26T05:54:41.511916Z",
     "shell.execute_reply": "2023-05-26T05:54:41.511315Z"
    }
   },
   "outputs": [
    {
     "data": {
      "text/plain": [
       "<FastTreeValue 0x7f9fce6aac70>\n",
       "├── 'a' --> tensor([[ 0.6856,  1.0648, -0.8241],\n",
       "│                   [ 0.5070, -0.5600, -0.2682],\n",
       "│                   [ 0.6856,  1.0648, -0.8241],\n",
       "│                   [ 0.5070, -0.5600, -0.2682],\n",
       "│                   [ 0.6856,  1.0648, -0.8241],\n",
       "│                   [ 0.5070, -0.5600, -0.2682],\n",
       "│                   [ 0.6856,  1.0648, -0.8241],\n",
       "│                   [ 0.5070, -0.5600, -0.2682],\n",
       "│                   [ 0.6856,  1.0648, -0.8241],\n",
       "│                   [ 0.5070, -0.5600, -0.2682],\n",
       "│                   [ 0.6856,  1.0648, -0.8241],\n",
       "│                   [ 0.5070, -0.5600, -0.2682],\n",
       "│                   [ 0.6856,  1.0648, -0.8241],\n",
       "│                   [ 0.5070, -0.5600, -0.2682],\n",
       "│                   [ 0.6856,  1.0648, -0.8241],\n",
       "│                   [ 0.5070, -0.5600, -0.2682]])\n",
       "└── 'x' --> <FastTreeValue 0x7f9fce6aac40>\n",
       "    └── 'c' --> tensor([[-1.3735, -0.6888,  1.2909,  1.3938],\n",
       "                        [ 0.5157,  1.1300,  0.6155, -0.0728],\n",
       "                        [ 0.4535,  1.7566, -0.3956,  1.2623],\n",
       "                        [-1.3735, -0.6888,  1.2909,  1.3938],\n",
       "                        [ 0.5157,  1.1300,  0.6155, -0.0728],\n",
       "                        [ 0.4535,  1.7566, -0.3956,  1.2623],\n",
       "                        [-1.3735, -0.6888,  1.2909,  1.3938],\n",
       "                        [ 0.5157,  1.1300,  0.6155, -0.0728],\n",
       "                        [ 0.4535,  1.7566, -0.3956,  1.2623],\n",
       "                        [-1.3735, -0.6888,  1.2909,  1.3938],\n",
       "                        [ 0.5157,  1.1300,  0.6155, -0.0728],\n",
       "                        [ 0.4535,  1.7566, -0.3956,  1.2623],\n",
       "                        [-1.3735, -0.6888,  1.2909,  1.3938],\n",
       "                        [ 0.5157,  1.1300,  0.6155, -0.0728],\n",
       "                        [ 0.4535,  1.7566, -0.3956,  1.2623],\n",
       "                        [-1.3735, -0.6888,  1.2909,  1.3938],\n",
       "                        [ 0.5157,  1.1300,  0.6155, -0.0728],\n",
       "                        [ 0.4535,  1.7566, -0.3956,  1.2623],\n",
       "                        [-1.3735, -0.6888,  1.2909,  1.3938],\n",
       "                        [ 0.5157,  1.1300,  0.6155, -0.0728],\n",
       "                        [ 0.4535,  1.7566, -0.3956,  1.2623],\n",
       "                        [-1.3735, -0.6888,  1.2909,  1.3938],\n",
       "                        [ 0.5157,  1.1300,  0.6155, -0.0728],\n",
       "                        [ 0.4535,  1.7566, -0.3956,  1.2623]])"
      ]
     },
     "execution_count": 22,
     "metadata": {},
     "output_type": "execute_result"
    }
   ],
   "source": [
    "t_cat = FastTreeValue.func(subside=True)(torch.cat)\n",
    "\n",
    "t_cat(trees)"
   ]
  },
  {
   "cell_type": "code",
   "execution_count": 23,
   "id": "5e9c06a6",
   "metadata": {
    "execution": {
     "iopub.execute_input": "2023-05-26T05:54:41.514838Z",
     "iopub.status.busy": "2023-05-26T05:54:41.514462Z",
     "iopub.status.idle": "2023-05-26T05:54:44.415806Z",
     "shell.execute_reply": "2023-05-26T05:54:44.415047Z"
    }
   },
   "outputs": [
    {
     "name": "stdout",
     "output_type": "stream",
     "text": [
      "35.5 µs ± 7.05 µs per loop (mean ± std. dev. of 7 runs, 10,000 loops each)\n"
     ]
    }
   ],
   "source": [
    "%timeit t_cat(trees)"
   ]
  },
  {
   "cell_type": "code",
   "execution_count": 24,
   "id": "a3ab5c8f",
   "metadata": {
    "execution": {
     "iopub.execute_input": "2023-05-26T05:54:44.419370Z",
     "iopub.status.busy": "2023-05-26T05:54:44.418973Z",
     "iopub.status.idle": "2023-05-26T05:54:50.606131Z",
     "shell.execute_reply": "2023-05-26T05:54:50.605404Z"
    }
   },
   "outputs": [
    {
     "name": "stdout",
     "output_type": "stream",
     "text": [
      "76.8 µs ± 6.86 µs per loop (mean ± std. dev. of 7 runs, 10,000 loops each)\n"
     ]
    }
   ],
   "source": [
    "t_split = FastTreeValue.func(rise=True)(torch.split)\n",
    "tree = FastTreeValue({\n",
    "    'obs': torch.randn(8, 4, 84, 84),\n",
    "    'action': torch.randint(0, 6, size=(8, 1,)),\n",
    "    'reward': torch.rand(8, 1),\n",
    "})\n",
    "\n",
    "%timeit t_split(tree, 1)"
   ]
  },
  {
   "cell_type": "markdown",
   "id": "31c3ec0b",
   "metadata": {},
   "source": [
    "### Performance of Tianshou Batch"
   ]
  },
  {
   "cell_type": "code",
   "execution_count": 25,
   "id": "9ead828a",
   "metadata": {
    "execution": {
     "iopub.execute_input": "2023-05-26T05:54:50.610028Z",
     "iopub.status.busy": "2023-05-26T05:54:50.609365Z",
     "iopub.status.idle": "2023-05-26T05:54:50.617444Z",
     "shell.execute_reply": "2023-05-26T05:54:50.616685Z"
    }
   },
   "outputs": [
    {
     "data": {
      "text/plain": [
       "Batch(\n",
       "    a: tensor([[[ 0.6856,  1.0648, -0.8241],\n",
       "                [ 0.5070, -0.5600, -0.2682]],\n",
       "       \n",
       "               [[ 0.6856,  1.0648, -0.8241],\n",
       "                [ 0.5070, -0.5600, -0.2682]],\n",
       "       \n",
       "               [[ 0.6856,  1.0648, -0.8241],\n",
       "                [ 0.5070, -0.5600, -0.2682]],\n",
       "       \n",
       "               [[ 0.6856,  1.0648, -0.8241],\n",
       "                [ 0.5070, -0.5600, -0.2682]],\n",
       "       \n",
       "               [[ 0.6856,  1.0648, -0.8241],\n",
       "                [ 0.5070, -0.5600, -0.2682]],\n",
       "       \n",
       "               [[ 0.6856,  1.0648, -0.8241],\n",
       "                [ 0.5070, -0.5600, -0.2682]],\n",
       "       \n",
       "               [[ 0.6856,  1.0648, -0.8241],\n",
       "                [ 0.5070, -0.5600, -0.2682]],\n",
       "       \n",
       "               [[ 0.6856,  1.0648, -0.8241],\n",
       "                [ 0.5070, -0.5600, -0.2682]]]),\n",
       "    x: Batch(\n",
       "           c: tensor([[[-1.3735, -0.6888,  1.2909,  1.3938],\n",
       "                       [ 0.5157,  1.1300,  0.6155, -0.0728],\n",
       "                       [ 0.4535,  1.7566, -0.3956,  1.2623]],\n",
       "              \n",
       "                      [[-1.3735, -0.6888,  1.2909,  1.3938],\n",
       "                       [ 0.5157,  1.1300,  0.6155, -0.0728],\n",
       "                       [ 0.4535,  1.7566, -0.3956,  1.2623]],\n",
       "              \n",
       "                      [[-1.3735, -0.6888,  1.2909,  1.3938],\n",
       "                       [ 0.5157,  1.1300,  0.6155, -0.0728],\n",
       "                       [ 0.4535,  1.7566, -0.3956,  1.2623]],\n",
       "              \n",
       "                      [[-1.3735, -0.6888,  1.2909,  1.3938],\n",
       "                       [ 0.5157,  1.1300,  0.6155, -0.0728],\n",
       "                       [ 0.4535,  1.7566, -0.3956,  1.2623]],\n",
       "              \n",
       "                      [[-1.3735, -0.6888,  1.2909,  1.3938],\n",
       "                       [ 0.5157,  1.1300,  0.6155, -0.0728],\n",
       "                       [ 0.4535,  1.7566, -0.3956,  1.2623]],\n",
       "              \n",
       "                      [[-1.3735, -0.6888,  1.2909,  1.3938],\n",
       "                       [ 0.5157,  1.1300,  0.6155, -0.0728],\n",
       "                       [ 0.4535,  1.7566, -0.3956,  1.2623]],\n",
       "              \n",
       "                      [[-1.3735, -0.6888,  1.2909,  1.3938],\n",
       "                       [ 0.5157,  1.1300,  0.6155, -0.0728],\n",
       "                       [ 0.4535,  1.7566, -0.3956,  1.2623]],\n",
       "              \n",
       "                      [[-1.3735, -0.6888,  1.2909,  1.3938],\n",
       "                       [ 0.5157,  1.1300,  0.6155, -0.0728],\n",
       "                       [ 0.4535,  1.7566, -0.3956,  1.2623]]]),\n",
       "       ),\n",
       ")"
      ]
     },
     "execution_count": 25,
     "metadata": {},
     "output_type": "execute_result"
    }
   ],
   "source": [
    "batches = [Batch(**_TREE_DATA_2) for _ in range(8)]\n",
    "\n",
    "Batch.stack(batches)"
   ]
  },
  {
   "cell_type": "code",
   "execution_count": 26,
   "id": "ec9037a3",
   "metadata": {
    "execution": {
     "iopub.execute_input": "2023-05-26T05:54:50.620477Z",
     "iopub.status.busy": "2023-05-26T05:54:50.620025Z",
     "iopub.status.idle": "2023-05-26T05:54:58.339433Z",
     "shell.execute_reply": "2023-05-26T05:54:58.338042Z"
    }
   },
   "outputs": [
    {
     "name": "stdout",
     "output_type": "stream",
     "text": [
      "94.9 µs ± 6.14 µs per loop (mean ± std. dev. of 7 runs, 10,000 loops each)\n"
     ]
    }
   ],
   "source": [
    "%timeit Batch.stack(batches)"
   ]
  },
  {
   "cell_type": "code",
   "execution_count": 27,
   "id": "cb8ab77e",
   "metadata": {
    "execution": {
     "iopub.execute_input": "2023-05-26T05:54:58.343007Z",
     "iopub.status.busy": "2023-05-26T05:54:58.342603Z",
     "iopub.status.idle": "2023-05-26T05:54:58.351045Z",
     "shell.execute_reply": "2023-05-26T05:54:58.350432Z"
    }
   },
   "outputs": [
    {
     "data": {
      "text/plain": [
       "Batch(\n",
       "    a: tensor([[ 0.6856,  1.0648, -0.8241],\n",
       "               [ 0.5070, -0.5600, -0.2682],\n",
       "               [ 0.6856,  1.0648, -0.8241],\n",
       "               [ 0.5070, -0.5600, -0.2682],\n",
       "               [ 0.6856,  1.0648, -0.8241],\n",
       "               [ 0.5070, -0.5600, -0.2682],\n",
       "               [ 0.6856,  1.0648, -0.8241],\n",
       "               [ 0.5070, -0.5600, -0.2682],\n",
       "               [ 0.6856,  1.0648, -0.8241],\n",
       "               [ 0.5070, -0.5600, -0.2682],\n",
       "               [ 0.6856,  1.0648, -0.8241],\n",
       "               [ 0.5070, -0.5600, -0.2682],\n",
       "               [ 0.6856,  1.0648, -0.8241],\n",
       "               [ 0.5070, -0.5600, -0.2682],\n",
       "               [ 0.6856,  1.0648, -0.8241],\n",
       "               [ 0.5070, -0.5600, -0.2682]]),\n",
       "    x: Batch(\n",
       "           c: tensor([[-1.3735, -0.6888,  1.2909,  1.3938],\n",
       "                      [ 0.5157,  1.1300,  0.6155, -0.0728],\n",
       "                      [ 0.4535,  1.7566, -0.3956,  1.2623],\n",
       "                      [-1.3735, -0.6888,  1.2909,  1.3938],\n",
       "                      [ 0.5157,  1.1300,  0.6155, -0.0728],\n",
       "                      [ 0.4535,  1.7566, -0.3956,  1.2623],\n",
       "                      [-1.3735, -0.6888,  1.2909,  1.3938],\n",
       "                      [ 0.5157,  1.1300,  0.6155, -0.0728],\n",
       "                      [ 0.4535,  1.7566, -0.3956,  1.2623],\n",
       "                      [-1.3735, -0.6888,  1.2909,  1.3938],\n",
       "                      [ 0.5157,  1.1300,  0.6155, -0.0728],\n",
       "                      [ 0.4535,  1.7566, -0.3956,  1.2623],\n",
       "                      [-1.3735, -0.6888,  1.2909,  1.3938],\n",
       "                      [ 0.5157,  1.1300,  0.6155, -0.0728],\n",
       "                      [ 0.4535,  1.7566, -0.3956,  1.2623],\n",
       "                      [-1.3735, -0.6888,  1.2909,  1.3938],\n",
       "                      [ 0.5157,  1.1300,  0.6155, -0.0728],\n",
       "                      [ 0.4535,  1.7566, -0.3956,  1.2623],\n",
       "                      [-1.3735, -0.6888,  1.2909,  1.3938],\n",
       "                      [ 0.5157,  1.1300,  0.6155, -0.0728],\n",
       "                      [ 0.4535,  1.7566, -0.3956,  1.2623],\n",
       "                      [-1.3735, -0.6888,  1.2909,  1.3938],\n",
       "                      [ 0.5157,  1.1300,  0.6155, -0.0728],\n",
       "                      [ 0.4535,  1.7566, -0.3956,  1.2623]]),\n",
       "       ),\n",
       ")"
      ]
     },
     "execution_count": 27,
     "metadata": {},
     "output_type": "execute_result"
    }
   ],
   "source": [
    "Batch.cat(batches)"
   ]
  },
  {
   "cell_type": "code",
   "execution_count": 28,
   "id": "18dfb045",
   "metadata": {
    "execution": {
     "iopub.execute_input": "2023-05-26T05:54:58.353894Z",
     "iopub.status.busy": "2023-05-26T05:54:58.353535Z",
     "iopub.status.idle": "2023-05-26T05:55:12.314393Z",
     "shell.execute_reply": "2023-05-26T05:55:12.313740Z"
    }
   },
   "outputs": [
    {
     "name": "stdout",
     "output_type": "stream",
     "text": [
      "173 µs ± 6.79 µs per loop (mean ± std. dev. of 7 runs, 10,000 loops each)\n"
     ]
    }
   ],
   "source": [
    "%timeit Batch.cat(batches)"
   ]
  },
  {
   "cell_type": "code",
   "execution_count": 29,
   "id": "c6688e51",
   "metadata": {
    "execution": {
     "iopub.execute_input": "2023-05-26T05:55:12.317823Z",
     "iopub.status.busy": "2023-05-26T05:55:12.317181Z",
     "iopub.status.idle": "2023-05-26T05:55:15.568815Z",
     "shell.execute_reply": "2023-05-26T05:55:15.568057Z"
    }
   },
   "outputs": [
    {
     "name": "stdout",
     "output_type": "stream",
     "text": [
      "396 µs ± 49.8 µs per loop (mean ± std. dev. of 7 runs, 1,000 loops each)\n"
     ]
    }
   ],
   "source": [
    "batch = Batch({\n",
    "    'obs': torch.randn(8, 4, 84, 84),\n",
    "    'action': torch.randint(0, 6, size=(8, 1,)),\n",
    "    'reward': torch.rand(8, 1)}\n",
    ")\n",
    "\n",
    "%timeit list(Batch.split(batch, 1, shuffle=False, merge_last=True))"
   ]
  },
  {
   "cell_type": "code",
   "execution_count": null,
   "id": "2539fbd9",
   "metadata": {},
   "outputs": [],
   "source": []
  }
 ],
 "metadata": {
  "kernelspec": {
   "display_name": "Python 3 (ipykernel)",
   "language": "python",
   "name": "python3"
  },
  "language_info": {
   "codemirror_mode": {
    "name": "ipython",
    "version": 3
   },
   "file_extension": ".py",
   "mimetype": "text/x-python",
   "name": "python",
   "nbconvert_exporter": "python",
   "pygments_lexer": "ipython3",
   "version": "3.8.16"
  }
 },
 "nbformat": 4,
 "nbformat_minor": 5
}
