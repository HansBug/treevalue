{
 "cells": [
  {
   "cell_type": "markdown",
   "id": "9d39d946",
   "metadata": {},
   "source": [
    "# Comparison Between TreeValue and Tianshou Batch"
   ]
  },
  {
   "cell_type": "markdown",
   "id": "3c6db2d4",
   "metadata": {},
   "source": [
    "In this section, we will take a look at the feature and performance of the [Tianshou Batch](https://github.com/thu-ml/tianshou) library, which is developed by Tsinghua Machine Learning Group."
   ]
  },
  {
   "cell_type": "markdown",
   "id": "069361b0",
   "metadata": {},
   "source": [
    "Before starting the comparison, let us define some thing."
   ]
  },
  {
   "cell_type": "code",
   "execution_count": 1,
   "id": "06fc8d26",
   "metadata": {
    "execution": {
     "iopub.execute_input": "2023-02-25T17:55:43.615354Z",
     "iopub.status.busy": "2023-02-25T17:55:43.614762Z",
     "iopub.status.idle": "2023-02-25T17:55:44.553440Z",
     "shell.execute_reply": "2023-02-25T17:55:44.552766Z"
    }
   },
   "outputs": [
    {
     "name": "stderr",
     "output_type": "stream",
     "text": [
      "/opt/hostedtoolcache/Python/3.8.16/x64/lib/python3.8/site-packages/tqdm/auto.py:22: TqdmWarning: IProgress not found. Please update jupyter and ipywidgets. See https://ipywidgets.readthedocs.io/en/stable/user_install.html\n",
      "  from .autonotebook import tqdm as notebook_tqdm\n"
     ]
    }
   ],
   "source": [
    "import torch \n",
    "\n",
    "_TREE_DATA_1 = {'a': 1, 'b': 2, 'x': {'c': 3, 'd': 4}}\n",
    "_TREE_DATA_2 = {\n",
    "    'a': torch.randn(2, 3), \n",
    "    'x': {\n",
    "        'c': torch.randn(3, 4)\n",
    "    },\n",
    "}\n",
    "_TREE_DATA_3 = {\n",
    "    'obs': torch.randn(4, 84, 84),\n",
    "    'action': torch.randint(0, 6, size=(1,)),\n",
    "    'reward': torch.rand(1),\n",
    "}"
   ]
  },
  {
   "cell_type": "markdown",
   "id": "83461b25",
   "metadata": {},
   "source": [
    "## Read and Write Operation"
   ]
  },
  {
   "cell_type": "markdown",
   "id": "067b3f73",
   "metadata": {},
   "source": [
    "Reading and writing are the two most common operations in the tree data structure based on the data model (TreeValue and Tianshou Batch both belong to this type), so this section will compare the reading and writing performance of these two libraries."
   ]
  },
  {
   "cell_type": "markdown",
   "id": "5d09a5b7",
   "metadata": {},
   "source": [
    "### TreeValue's Get and Set"
   ]
  },
  {
   "cell_type": "code",
   "execution_count": 2,
   "id": "9519c4bb",
   "metadata": {
    "execution": {
     "iopub.execute_input": "2023-02-25T17:55:44.556991Z",
     "iopub.status.busy": "2023-02-25T17:55:44.556562Z",
     "iopub.status.idle": "2023-02-25T17:55:44.590169Z",
     "shell.execute_reply": "2023-02-25T17:55:44.589502Z"
    }
   },
   "outputs": [],
   "source": [
    "from treevalue import FastTreeValue\n",
    "\n",
    "t = FastTreeValue(_TREE_DATA_2)"
   ]
  },
  {
   "cell_type": "code",
   "execution_count": 3,
   "id": "11c37677",
   "metadata": {
    "execution": {
     "iopub.execute_input": "2023-02-25T17:55:44.593571Z",
     "iopub.status.busy": "2023-02-25T17:55:44.593173Z",
     "iopub.status.idle": "2023-02-25T17:55:44.604123Z",
     "shell.execute_reply": "2023-02-25T17:55:44.603504Z"
    }
   },
   "outputs": [
    {
     "data": {
      "text/plain": [
       "<FastTreeValue 0x7f9204ca15b0>\n",
       "├── 'a' --> tensor([[-2.2184,  0.9926, -0.1057],\n",
       "│                   [-0.4250, -2.2181, -0.5031]])\n",
       "└── 'x' --> <FastTreeValue 0x7f9204ca1d00>\n",
       "    └── 'c' --> tensor([[-0.1600,  1.9821,  0.6223, -0.8881],\n",
       "                        [ 0.0814,  2.0722, -0.9121,  0.5785],\n",
       "                        [ 0.0909,  1.6903,  0.3983,  0.4189]])"
      ]
     },
     "execution_count": 3,
     "metadata": {},
     "output_type": "execute_result"
    }
   ],
   "source": [
    "t"
   ]
  },
  {
   "cell_type": "code",
   "execution_count": 4,
   "id": "fd70b0b9",
   "metadata": {
    "execution": {
     "iopub.execute_input": "2023-02-25T17:55:44.606823Z",
     "iopub.status.busy": "2023-02-25T17:55:44.606451Z",
     "iopub.status.idle": "2023-02-25T17:55:44.611282Z",
     "shell.execute_reply": "2023-02-25T17:55:44.610637Z"
    }
   },
   "outputs": [
    {
     "data": {
      "text/plain": [
       "tensor([[-2.2184,  0.9926, -0.1057],\n",
       "        [-0.4250, -2.2181, -0.5031]])"
      ]
     },
     "execution_count": 4,
     "metadata": {},
     "output_type": "execute_result"
    }
   ],
   "source": [
    "t.a"
   ]
  },
  {
   "cell_type": "code",
   "execution_count": 5,
   "id": "c18197bd",
   "metadata": {
    "execution": {
     "iopub.execute_input": "2023-02-25T17:55:44.613885Z",
     "iopub.status.busy": "2023-02-25T17:55:44.613555Z",
     "iopub.status.idle": "2023-02-25T17:55:50.023590Z",
     "shell.execute_reply": "2023-02-25T17:55:50.022869Z"
    }
   },
   "outputs": [
    {
     "name": "stdout",
     "output_type": "stream",
     "text": [
      "67.2 ns ± 0.0146 ns per loop (mean ± std. dev. of 7 runs, 10,000,000 loops each)\n"
     ]
    }
   ],
   "source": [
    "%timeit t.a"
   ]
  },
  {
   "cell_type": "code",
   "execution_count": 6,
   "id": "bd52f867",
   "metadata": {
    "execution": {
     "iopub.execute_input": "2023-02-25T17:55:50.026524Z",
     "iopub.status.busy": "2023-02-25T17:55:50.026011Z",
     "iopub.status.idle": "2023-02-25T17:55:50.032583Z",
     "shell.execute_reply": "2023-02-25T17:55:50.031989Z"
    }
   },
   "outputs": [
    {
     "data": {
      "text/plain": [
       "<FastTreeValue 0x7f9204ca15b0>\n",
       "├── 'a' --> tensor([[-0.4733,  0.4861, -1.0426],\n",
       "│                   [-0.3384, -0.3451,  0.4283]])\n",
       "└── 'x' --> <FastTreeValue 0x7f9204ca1d00>\n",
       "    └── 'c' --> tensor([[-0.1600,  1.9821,  0.6223, -0.8881],\n",
       "                        [ 0.0814,  2.0722, -0.9121,  0.5785],\n",
       "                        [ 0.0909,  1.6903,  0.3983,  0.4189]])"
      ]
     },
     "execution_count": 6,
     "metadata": {},
     "output_type": "execute_result"
    }
   ],
   "source": [
    "new_value = torch.randn(2, 3)\n",
    "t.a = new_value\n",
    "\n",
    "t"
   ]
  },
  {
   "cell_type": "code",
   "execution_count": 7,
   "id": "bbe04d1c",
   "metadata": {
    "execution": {
     "iopub.execute_input": "2023-02-25T17:55:50.035018Z",
     "iopub.status.busy": "2023-02-25T17:55:50.034669Z",
     "iopub.status.idle": "2023-02-25T17:55:54.901521Z",
     "shell.execute_reply": "2023-02-25T17:55:54.900799Z"
    }
   },
   "outputs": [
    {
     "name": "stdout",
     "output_type": "stream",
     "text": [
      "60 ns ± 0.034 ns per loop (mean ± std. dev. of 7 runs, 10,000,000 loops each)\n"
     ]
    }
   ],
   "source": [
    "%timeit t.a = new_value"
   ]
  },
  {
   "cell_type": "markdown",
   "id": "48c49731",
   "metadata": {},
   "source": [
    "### Tianshou Batch's Get and Set"
   ]
  },
  {
   "cell_type": "code",
   "execution_count": 8,
   "id": "f1bb14c1",
   "metadata": {
    "execution": {
     "iopub.execute_input": "2023-02-25T17:55:54.904451Z",
     "iopub.status.busy": "2023-02-25T17:55:54.903999Z",
     "iopub.status.idle": "2023-02-25T17:55:55.244322Z",
     "shell.execute_reply": "2023-02-25T17:55:55.243643Z"
    }
   },
   "outputs": [],
   "source": [
    "from tianshou.data import Batch\n",
    "\n",
    "b = Batch(**_TREE_DATA_2)"
   ]
  },
  {
   "cell_type": "code",
   "execution_count": 9,
   "id": "cb0777c3",
   "metadata": {
    "execution": {
     "iopub.execute_input": "2023-02-25T17:55:55.247889Z",
     "iopub.status.busy": "2023-02-25T17:55:55.247170Z",
     "iopub.status.idle": "2023-02-25T17:55:55.252750Z",
     "shell.execute_reply": "2023-02-25T17:55:55.252126Z"
    }
   },
   "outputs": [
    {
     "data": {
      "text/plain": [
       "Batch(\n",
       "    a: tensor([[-2.2184,  0.9926, -0.1057],\n",
       "               [-0.4250, -2.2181, -0.5031]]),\n",
       "    x: Batch(\n",
       "           c: tensor([[-0.1600,  1.9821,  0.6223, -0.8881],\n",
       "                      [ 0.0814,  2.0722, -0.9121,  0.5785],\n",
       "                      [ 0.0909,  1.6903,  0.3983,  0.4189]]),\n",
       "       ),\n",
       ")"
      ]
     },
     "execution_count": 9,
     "metadata": {},
     "output_type": "execute_result"
    }
   ],
   "source": [
    "b"
   ]
  },
  {
   "cell_type": "code",
   "execution_count": 10,
   "id": "43ef8ea3",
   "metadata": {
    "execution": {
     "iopub.execute_input": "2023-02-25T17:55:55.255813Z",
     "iopub.status.busy": "2023-02-25T17:55:55.255261Z",
     "iopub.status.idle": "2023-02-25T17:55:55.260059Z",
     "shell.execute_reply": "2023-02-25T17:55:55.259459Z"
    }
   },
   "outputs": [
    {
     "data": {
      "text/plain": [
       "tensor([[-2.2184,  0.9926, -0.1057],\n",
       "        [-0.4250, -2.2181, -0.5031]])"
      ]
     },
     "execution_count": 10,
     "metadata": {},
     "output_type": "execute_result"
    }
   ],
   "source": [
    "b.a"
   ]
  },
  {
   "cell_type": "code",
   "execution_count": 11,
   "id": "b785ab72",
   "metadata": {
    "execution": {
     "iopub.execute_input": "2023-02-25T17:55:55.262492Z",
     "iopub.status.busy": "2023-02-25T17:55:55.262152Z",
     "iopub.status.idle": "2023-02-25T17:55:59.574554Z",
     "shell.execute_reply": "2023-02-25T17:55:59.573832Z"
    }
   },
   "outputs": [
    {
     "name": "stdout",
     "output_type": "stream",
     "text": [
      "53 ns ± 0.055 ns per loop (mean ± std. dev. of 7 runs, 10,000,000 loops each)\n"
     ]
    }
   ],
   "source": [
    "%timeit b.a"
   ]
  },
  {
   "cell_type": "code",
   "execution_count": 12,
   "id": "ad54dc69",
   "metadata": {
    "execution": {
     "iopub.execute_input": "2023-02-25T17:55:59.577393Z",
     "iopub.status.busy": "2023-02-25T17:55:59.577038Z",
     "iopub.status.idle": "2023-02-25T17:55:59.582807Z",
     "shell.execute_reply": "2023-02-25T17:55:59.582161Z"
    }
   },
   "outputs": [
    {
     "data": {
      "text/plain": [
       "Batch(\n",
       "    a: tensor([[ 0.3452, -0.5744,  0.3755],\n",
       "               [-0.8024, -0.6832, -0.6237]]),\n",
       "    x: Batch(\n",
       "           c: tensor([[-0.1600,  1.9821,  0.6223, -0.8881],\n",
       "                      [ 0.0814,  2.0722, -0.9121,  0.5785],\n",
       "                      [ 0.0909,  1.6903,  0.3983,  0.4189]]),\n",
       "       ),\n",
       ")"
      ]
     },
     "execution_count": 12,
     "metadata": {},
     "output_type": "execute_result"
    }
   ],
   "source": [
    "new_value = torch.randn(2, 3)\n",
    "b.a = new_value\n",
    "\n",
    "b"
   ]
  },
  {
   "cell_type": "code",
   "execution_count": 13,
   "id": "29b1d0bf",
   "metadata": {
    "execution": {
     "iopub.execute_input": "2023-02-25T17:55:59.585202Z",
     "iopub.status.busy": "2023-02-25T17:55:59.584859Z",
     "iopub.status.idle": "2023-02-25T17:56:03.480171Z",
     "shell.execute_reply": "2023-02-25T17:56:03.479504Z"
    }
   },
   "outputs": [
    {
     "name": "stdout",
     "output_type": "stream",
     "text": [
      "479 ns ± 0.108 ns per loop (mean ± std. dev. of 7 runs, 1,000,000 loops each)\n"
     ]
    }
   ],
   "source": [
    "%timeit b.a = new_value"
   ]
  },
  {
   "cell_type": "markdown",
   "id": "b61ad1d0",
   "metadata": {},
   "source": [
    "## Initialization"
   ]
  },
  {
   "cell_type": "markdown",
   "id": "d70f0d54",
   "metadata": {},
   "source": [
    "### TreeValue's Initialization"
   ]
  },
  {
   "cell_type": "code",
   "execution_count": 14,
   "id": "d32a679b",
   "metadata": {
    "execution": {
     "iopub.execute_input": "2023-02-25T17:56:03.483277Z",
     "iopub.status.busy": "2023-02-25T17:56:03.483034Z",
     "iopub.status.idle": "2023-02-25T17:56:10.242688Z",
     "shell.execute_reply": "2023-02-25T17:56:10.242019Z"
    }
   },
   "outputs": [
    {
     "name": "stdout",
     "output_type": "stream",
     "text": [
      "832 ns ± 0.326 ns per loop (mean ± std. dev. of 7 runs, 1,000,000 loops each)\n"
     ]
    }
   ],
   "source": [
    "%timeit FastTreeValue(_TREE_DATA_1)"
   ]
  },
  {
   "cell_type": "markdown",
   "id": "24f3707b",
   "metadata": {},
   "source": [
    "### Tianshou Batch's Initialization"
   ]
  },
  {
   "cell_type": "code",
   "execution_count": 15,
   "id": "ac3958df",
   "metadata": {
    "execution": {
     "iopub.execute_input": "2023-02-25T17:56:10.245576Z",
     "iopub.status.busy": "2023-02-25T17:56:10.245240Z",
     "iopub.status.idle": "2023-02-25T17:56:19.645584Z",
     "shell.execute_reply": "2023-02-25T17:56:19.644870Z"
    }
   },
   "outputs": [
    {
     "name": "stdout",
     "output_type": "stream",
     "text": [
      "11.6 µs ± 63.3 ns per loop (mean ± std. dev. of 7 runs, 100,000 loops each)\n"
     ]
    }
   ],
   "source": [
    "%timeit Batch(**_TREE_DATA_1)"
   ]
  },
  {
   "cell_type": "markdown",
   "id": "1ab82e2d",
   "metadata": {},
   "source": [
    "## Deep Copy Operation"
   ]
  },
  {
   "cell_type": "code",
   "execution_count": 16,
   "id": "210a9442",
   "metadata": {
    "execution": {
     "iopub.execute_input": "2023-02-25T17:56:19.648773Z",
     "iopub.status.busy": "2023-02-25T17:56:19.648411Z",
     "iopub.status.idle": "2023-02-25T17:56:19.652311Z",
     "shell.execute_reply": "2023-02-25T17:56:19.651688Z"
    }
   },
   "outputs": [],
   "source": [
    "import copy"
   ]
  },
  {
   "cell_type": "markdown",
   "id": "5a736274",
   "metadata": {},
   "source": [
    "### Deep Copy of TreeValue"
   ]
  },
  {
   "cell_type": "code",
   "execution_count": 17,
   "id": "f9bcadd6",
   "metadata": {
    "execution": {
     "iopub.execute_input": "2023-02-25T17:56:19.655101Z",
     "iopub.status.busy": "2023-02-25T17:56:19.654751Z",
     "iopub.status.idle": "2023-02-25T17:56:30.825938Z",
     "shell.execute_reply": "2023-02-25T17:56:30.825353Z"
    }
   },
   "outputs": [
    {
     "name": "stdout",
     "output_type": "stream",
     "text": [
      "138 µs ± 417 ns per loop (mean ± std. dev. of 7 runs, 10,000 loops each)\n"
     ]
    }
   ],
   "source": [
    "t3 = FastTreeValue(_TREE_DATA_3)\n",
    "%timeit copy.deepcopy(t3)"
   ]
  },
  {
   "cell_type": "markdown",
   "id": "bf8be7ea",
   "metadata": {},
   "source": [
    "### Deep Copy of Tianshou Batch"
   ]
  },
  {
   "cell_type": "code",
   "execution_count": 18,
   "id": "91998e6f",
   "metadata": {
    "execution": {
     "iopub.execute_input": "2023-02-25T17:56:30.829124Z",
     "iopub.status.busy": "2023-02-25T17:56:30.828756Z",
     "iopub.status.idle": "2023-02-25T17:56:42.246780Z",
     "shell.execute_reply": "2023-02-25T17:56:42.246204Z"
    }
   },
   "outputs": [
    {
     "name": "stdout",
     "output_type": "stream",
     "text": [
      "141 µs ± 321 ns per loop (mean ± std. dev. of 7 runs, 10,000 loops each)\n"
     ]
    }
   ],
   "source": [
    "b3 = Batch(**_TREE_DATA_3)\n",
    "%timeit copy.deepcopy(b3)"
   ]
  },
  {
   "cell_type": "markdown",
   "id": "223162fb",
   "metadata": {},
   "source": [
    "## Stack, Concat and Split Operation"
   ]
  },
  {
   "cell_type": "markdown",
   "id": "85fa4a73",
   "metadata": {},
   "source": [
    "### Performance of TreeValue"
   ]
  },
  {
   "cell_type": "code",
   "execution_count": 19,
   "id": "a0c2b697",
   "metadata": {
    "execution": {
     "iopub.execute_input": "2023-02-25T17:56:42.249778Z",
     "iopub.status.busy": "2023-02-25T17:56:42.249416Z",
     "iopub.status.idle": "2023-02-25T17:56:42.252506Z",
     "shell.execute_reply": "2023-02-25T17:56:42.251979Z"
    }
   },
   "outputs": [],
   "source": [
    "trees = [FastTreeValue(_TREE_DATA_2) for _ in range(8)]"
   ]
  },
  {
   "cell_type": "code",
   "execution_count": 20,
   "id": "017ea5a5",
   "metadata": {
    "execution": {
     "iopub.execute_input": "2023-02-25T17:56:42.255117Z",
     "iopub.status.busy": "2023-02-25T17:56:42.254674Z",
     "iopub.status.idle": "2023-02-25T17:56:42.261744Z",
     "shell.execute_reply": "2023-02-25T17:56:42.261216Z"
    }
   },
   "outputs": [
    {
     "data": {
      "text/plain": [
       "<FastTreeValue 0x7f9158992eb0>\n",
       "├── 'a' --> tensor([[[-2.2184,  0.9926, -0.1057],\n",
       "│                    [-0.4250, -2.2181, -0.5031]],\n",
       "│           \n",
       "│                   [[-2.2184,  0.9926, -0.1057],\n",
       "│                    [-0.4250, -2.2181, -0.5031]],\n",
       "│           \n",
       "│                   [[-2.2184,  0.9926, -0.1057],\n",
       "│                    [-0.4250, -2.2181, -0.5031]],\n",
       "│           \n",
       "│                   [[-2.2184,  0.9926, -0.1057],\n",
       "│                    [-0.4250, -2.2181, -0.5031]],\n",
       "│           \n",
       "│                   [[-2.2184,  0.9926, -0.1057],\n",
       "│                    [-0.4250, -2.2181, -0.5031]],\n",
       "│           \n",
       "│                   [[-2.2184,  0.9926, -0.1057],\n",
       "│                    [-0.4250, -2.2181, -0.5031]],\n",
       "│           \n",
       "│                   [[-2.2184,  0.9926, -0.1057],\n",
       "│                    [-0.4250, -2.2181, -0.5031]],\n",
       "│           \n",
       "│                   [[-2.2184,  0.9926, -0.1057],\n",
       "│                    [-0.4250, -2.2181, -0.5031]]])\n",
       "└── 'x' --> <FastTreeValue 0x7f9158992df0>\n",
       "    └── 'c' --> tensor([[[-0.1600,  1.9821,  0.6223, -0.8881],\n",
       "                         [ 0.0814,  2.0722, -0.9121,  0.5785],\n",
       "                         [ 0.0909,  1.6903,  0.3983,  0.4189]],\n",
       "                \n",
       "                        [[-0.1600,  1.9821,  0.6223, -0.8881],\n",
       "                         [ 0.0814,  2.0722, -0.9121,  0.5785],\n",
       "                         [ 0.0909,  1.6903,  0.3983,  0.4189]],\n",
       "                \n",
       "                        [[-0.1600,  1.9821,  0.6223, -0.8881],\n",
       "                         [ 0.0814,  2.0722, -0.9121,  0.5785],\n",
       "                         [ 0.0909,  1.6903,  0.3983,  0.4189]],\n",
       "                \n",
       "                        [[-0.1600,  1.9821,  0.6223, -0.8881],\n",
       "                         [ 0.0814,  2.0722, -0.9121,  0.5785],\n",
       "                         [ 0.0909,  1.6903,  0.3983,  0.4189]],\n",
       "                \n",
       "                        [[-0.1600,  1.9821,  0.6223, -0.8881],\n",
       "                         [ 0.0814,  2.0722, -0.9121,  0.5785],\n",
       "                         [ 0.0909,  1.6903,  0.3983,  0.4189]],\n",
       "                \n",
       "                        [[-0.1600,  1.9821,  0.6223, -0.8881],\n",
       "                         [ 0.0814,  2.0722, -0.9121,  0.5785],\n",
       "                         [ 0.0909,  1.6903,  0.3983,  0.4189]],\n",
       "                \n",
       "                        [[-0.1600,  1.9821,  0.6223, -0.8881],\n",
       "                         [ 0.0814,  2.0722, -0.9121,  0.5785],\n",
       "                         [ 0.0909,  1.6903,  0.3983,  0.4189]],\n",
       "                \n",
       "                        [[-0.1600,  1.9821,  0.6223, -0.8881],\n",
       "                         [ 0.0814,  2.0722, -0.9121,  0.5785],\n",
       "                         [ 0.0909,  1.6903,  0.3983,  0.4189]]])"
      ]
     },
     "execution_count": 20,
     "metadata": {},
     "output_type": "execute_result"
    }
   ],
   "source": [
    "t_stack = FastTreeValue.func(subside=True)(torch.stack)\n",
    "\n",
    "t_stack(trees)"
   ]
  },
  {
   "cell_type": "code",
   "execution_count": 21,
   "id": "f8b3f415",
   "metadata": {
    "execution": {
     "iopub.execute_input": "2023-02-25T17:56:42.264286Z",
     "iopub.status.busy": "2023-02-25T17:56:42.263903Z",
     "iopub.status.idle": "2023-02-25T17:56:44.833252Z",
     "shell.execute_reply": "2023-02-25T17:56:44.832530Z"
    }
   },
   "outputs": [
    {
     "name": "stdout",
     "output_type": "stream",
     "text": [
      "31.5 µs ± 86.4 ns per loop (mean ± std. dev. of 7 runs, 10,000 loops each)\n"
     ]
    }
   ],
   "source": [
    "%timeit t_stack(trees)"
   ]
  },
  {
   "cell_type": "code",
   "execution_count": 22,
   "id": "94b56771",
   "metadata": {
    "execution": {
     "iopub.execute_input": "2023-02-25T17:56:44.836644Z",
     "iopub.status.busy": "2023-02-25T17:56:44.836055Z",
     "iopub.status.idle": "2023-02-25T17:56:44.844224Z",
     "shell.execute_reply": "2023-02-25T17:56:44.843579Z"
    }
   },
   "outputs": [
    {
     "data": {
      "text/plain": [
       "<FastTreeValue 0x7f91589750a0>\n",
       "├── 'a' --> tensor([[-2.2184,  0.9926, -0.1057],\n",
       "│                   [-0.4250, -2.2181, -0.5031],\n",
       "│                   [-2.2184,  0.9926, -0.1057],\n",
       "│                   [-0.4250, -2.2181, -0.5031],\n",
       "│                   [-2.2184,  0.9926, -0.1057],\n",
       "│                   [-0.4250, -2.2181, -0.5031],\n",
       "│                   [-2.2184,  0.9926, -0.1057],\n",
       "│                   [-0.4250, -2.2181, -0.5031],\n",
       "│                   [-2.2184,  0.9926, -0.1057],\n",
       "│                   [-0.4250, -2.2181, -0.5031],\n",
       "│                   [-2.2184,  0.9926, -0.1057],\n",
       "│                   [-0.4250, -2.2181, -0.5031],\n",
       "│                   [-2.2184,  0.9926, -0.1057],\n",
       "│                   [-0.4250, -2.2181, -0.5031],\n",
       "│                   [-2.2184,  0.9926, -0.1057],\n",
       "│                   [-0.4250, -2.2181, -0.5031]])\n",
       "└── 'x' --> <FastTreeValue 0x7f91dc44fb50>\n",
       "    └── 'c' --> tensor([[-0.1600,  1.9821,  0.6223, -0.8881],\n",
       "                        [ 0.0814,  2.0722, -0.9121,  0.5785],\n",
       "                        [ 0.0909,  1.6903,  0.3983,  0.4189],\n",
       "                        [-0.1600,  1.9821,  0.6223, -0.8881],\n",
       "                        [ 0.0814,  2.0722, -0.9121,  0.5785],\n",
       "                        [ 0.0909,  1.6903,  0.3983,  0.4189],\n",
       "                        [-0.1600,  1.9821,  0.6223, -0.8881],\n",
       "                        [ 0.0814,  2.0722, -0.9121,  0.5785],\n",
       "                        [ 0.0909,  1.6903,  0.3983,  0.4189],\n",
       "                        [-0.1600,  1.9821,  0.6223, -0.8881],\n",
       "                        [ 0.0814,  2.0722, -0.9121,  0.5785],\n",
       "                        [ 0.0909,  1.6903,  0.3983,  0.4189],\n",
       "                        [-0.1600,  1.9821,  0.6223, -0.8881],\n",
       "                        [ 0.0814,  2.0722, -0.9121,  0.5785],\n",
       "                        [ 0.0909,  1.6903,  0.3983,  0.4189],\n",
       "                        [-0.1600,  1.9821,  0.6223, -0.8881],\n",
       "                        [ 0.0814,  2.0722, -0.9121,  0.5785],\n",
       "                        [ 0.0909,  1.6903,  0.3983,  0.4189],\n",
       "                        [-0.1600,  1.9821,  0.6223, -0.8881],\n",
       "                        [ 0.0814,  2.0722, -0.9121,  0.5785],\n",
       "                        [ 0.0909,  1.6903,  0.3983,  0.4189],\n",
       "                        [-0.1600,  1.9821,  0.6223, -0.8881],\n",
       "                        [ 0.0814,  2.0722, -0.9121,  0.5785],\n",
       "                        [ 0.0909,  1.6903,  0.3983,  0.4189]])"
      ]
     },
     "execution_count": 22,
     "metadata": {},
     "output_type": "execute_result"
    }
   ],
   "source": [
    "t_cat = FastTreeValue.func(subside=True)(torch.cat)\n",
    "\n",
    "t_cat(trees)"
   ]
  },
  {
   "cell_type": "code",
   "execution_count": 23,
   "id": "5e9c06a6",
   "metadata": {
    "execution": {
     "iopub.execute_input": "2023-02-25T17:56:44.847345Z",
     "iopub.status.busy": "2023-02-25T17:56:44.846780Z",
     "iopub.status.idle": "2023-02-25T17:56:47.289200Z",
     "shell.execute_reply": "2023-02-25T17:56:47.288487Z"
    }
   },
   "outputs": [
    {
     "name": "stdout",
     "output_type": "stream",
     "text": [
      "30.1 µs ± 18 ns per loop (mean ± std. dev. of 7 runs, 10,000 loops each)\n"
     ]
    }
   ],
   "source": [
    "%timeit t_cat(trees)"
   ]
  },
  {
   "cell_type": "code",
   "execution_count": 24,
   "id": "a3ab5c8f",
   "metadata": {
    "execution": {
     "iopub.execute_input": "2023-02-25T17:56:47.292257Z",
     "iopub.status.busy": "2023-02-25T17:56:47.291699Z",
     "iopub.status.idle": "2023-02-25T17:56:51.973219Z",
     "shell.execute_reply": "2023-02-25T17:56:51.972506Z"
    }
   },
   "outputs": [
    {
     "name": "stdout",
     "output_type": "stream",
     "text": [
      "57.6 µs ± 45.2 ns per loop (mean ± std. dev. of 7 runs, 10,000 loops each)\n"
     ]
    }
   ],
   "source": [
    "t_split = FastTreeValue.func(rise=True)(torch.split)\n",
    "tree = FastTreeValue({\n",
    "    'obs': torch.randn(8, 4, 84, 84),\n",
    "    'action': torch.randint(0, 6, size=(8, 1,)),\n",
    "    'reward': torch.rand(8, 1),\n",
    "})\n",
    "\n",
    "%timeit t_split(tree, 1)"
   ]
  },
  {
   "cell_type": "markdown",
   "id": "31c3ec0b",
   "metadata": {},
   "source": [
    "### Performance of Tianshou Batch"
   ]
  },
  {
   "cell_type": "code",
   "execution_count": 25,
   "id": "9ead828a",
   "metadata": {
    "execution": {
     "iopub.execute_input": "2023-02-25T17:56:51.976124Z",
     "iopub.status.busy": "2023-02-25T17:56:51.975696Z",
     "iopub.status.idle": "2023-02-25T17:56:51.983635Z",
     "shell.execute_reply": "2023-02-25T17:56:51.983041Z"
    }
   },
   "outputs": [
    {
     "data": {
      "text/plain": [
       "Batch(\n",
       "    a: tensor([[[-2.2184,  0.9926, -0.1057],\n",
       "                [-0.4250, -2.2181, -0.5031]],\n",
       "       \n",
       "               [[-2.2184,  0.9926, -0.1057],\n",
       "                [-0.4250, -2.2181, -0.5031]],\n",
       "       \n",
       "               [[-2.2184,  0.9926, -0.1057],\n",
       "                [-0.4250, -2.2181, -0.5031]],\n",
       "       \n",
       "               [[-2.2184,  0.9926, -0.1057],\n",
       "                [-0.4250, -2.2181, -0.5031]],\n",
       "       \n",
       "               [[-2.2184,  0.9926, -0.1057],\n",
       "                [-0.4250, -2.2181, -0.5031]],\n",
       "       \n",
       "               [[-2.2184,  0.9926, -0.1057],\n",
       "                [-0.4250, -2.2181, -0.5031]],\n",
       "       \n",
       "               [[-2.2184,  0.9926, -0.1057],\n",
       "                [-0.4250, -2.2181, -0.5031]],\n",
       "       \n",
       "               [[-2.2184,  0.9926, -0.1057],\n",
       "                [-0.4250, -2.2181, -0.5031]]]),\n",
       "    x: Batch(\n",
       "           c: tensor([[[-0.1600,  1.9821,  0.6223, -0.8881],\n",
       "                       [ 0.0814,  2.0722, -0.9121,  0.5785],\n",
       "                       [ 0.0909,  1.6903,  0.3983,  0.4189]],\n",
       "              \n",
       "                      [[-0.1600,  1.9821,  0.6223, -0.8881],\n",
       "                       [ 0.0814,  2.0722, -0.9121,  0.5785],\n",
       "                       [ 0.0909,  1.6903,  0.3983,  0.4189]],\n",
       "              \n",
       "                      [[-0.1600,  1.9821,  0.6223, -0.8881],\n",
       "                       [ 0.0814,  2.0722, -0.9121,  0.5785],\n",
       "                       [ 0.0909,  1.6903,  0.3983,  0.4189]],\n",
       "              \n",
       "                      [[-0.1600,  1.9821,  0.6223, -0.8881],\n",
       "                       [ 0.0814,  2.0722, -0.9121,  0.5785],\n",
       "                       [ 0.0909,  1.6903,  0.3983,  0.4189]],\n",
       "              \n",
       "                      [[-0.1600,  1.9821,  0.6223, -0.8881],\n",
       "                       [ 0.0814,  2.0722, -0.9121,  0.5785],\n",
       "                       [ 0.0909,  1.6903,  0.3983,  0.4189]],\n",
       "              \n",
       "                      [[-0.1600,  1.9821,  0.6223, -0.8881],\n",
       "                       [ 0.0814,  2.0722, -0.9121,  0.5785],\n",
       "                       [ 0.0909,  1.6903,  0.3983,  0.4189]],\n",
       "              \n",
       "                      [[-0.1600,  1.9821,  0.6223, -0.8881],\n",
       "                       [ 0.0814,  2.0722, -0.9121,  0.5785],\n",
       "                       [ 0.0909,  1.6903,  0.3983,  0.4189]],\n",
       "              \n",
       "                      [[-0.1600,  1.9821,  0.6223, -0.8881],\n",
       "                       [ 0.0814,  2.0722, -0.9121,  0.5785],\n",
       "                       [ 0.0909,  1.6903,  0.3983,  0.4189]]]),\n",
       "       ),\n",
       ")"
      ]
     },
     "execution_count": 25,
     "metadata": {},
     "output_type": "execute_result"
    }
   ],
   "source": [
    "batches = [Batch(**_TREE_DATA_2) for _ in range(8)]\n",
    "\n",
    "Batch.stack(batches)"
   ]
  },
  {
   "cell_type": "code",
   "execution_count": 26,
   "id": "ec9037a3",
   "metadata": {
    "execution": {
     "iopub.execute_input": "2023-02-25T17:56:51.986113Z",
     "iopub.status.busy": "2023-02-25T17:56:51.985777Z",
     "iopub.status.idle": "2023-02-25T17:56:58.350045Z",
     "shell.execute_reply": "2023-02-25T17:56:58.349331Z"
    }
   },
   "outputs": [
    {
     "name": "stdout",
     "output_type": "stream",
     "text": [
      "78.3 µs ± 296 ns per loop (mean ± std. dev. of 7 runs, 10,000 loops each)\n"
     ]
    }
   ],
   "source": [
    "%timeit Batch.stack(batches)"
   ]
  },
  {
   "cell_type": "code",
   "execution_count": 27,
   "id": "cb8ab77e",
   "metadata": {
    "execution": {
     "iopub.execute_input": "2023-02-25T17:56:58.352840Z",
     "iopub.status.busy": "2023-02-25T17:56:58.352483Z",
     "iopub.status.idle": "2023-02-25T17:56:58.360014Z",
     "shell.execute_reply": "2023-02-25T17:56:58.359435Z"
    }
   },
   "outputs": [
    {
     "data": {
      "text/plain": [
       "Batch(\n",
       "    a: tensor([[-2.2184,  0.9926, -0.1057],\n",
       "               [-0.4250, -2.2181, -0.5031],\n",
       "               [-2.2184,  0.9926, -0.1057],\n",
       "               [-0.4250, -2.2181, -0.5031],\n",
       "               [-2.2184,  0.9926, -0.1057],\n",
       "               [-0.4250, -2.2181, -0.5031],\n",
       "               [-2.2184,  0.9926, -0.1057],\n",
       "               [-0.4250, -2.2181, -0.5031],\n",
       "               [-2.2184,  0.9926, -0.1057],\n",
       "               [-0.4250, -2.2181, -0.5031],\n",
       "               [-2.2184,  0.9926, -0.1057],\n",
       "               [-0.4250, -2.2181, -0.5031],\n",
       "               [-2.2184,  0.9926, -0.1057],\n",
       "               [-0.4250, -2.2181, -0.5031],\n",
       "               [-2.2184,  0.9926, -0.1057],\n",
       "               [-0.4250, -2.2181, -0.5031]]),\n",
       "    x: Batch(\n",
       "           c: tensor([[-0.1600,  1.9821,  0.6223, -0.8881],\n",
       "                      [ 0.0814,  2.0722, -0.9121,  0.5785],\n",
       "                      [ 0.0909,  1.6903,  0.3983,  0.4189],\n",
       "                      [-0.1600,  1.9821,  0.6223, -0.8881],\n",
       "                      [ 0.0814,  2.0722, -0.9121,  0.5785],\n",
       "                      [ 0.0909,  1.6903,  0.3983,  0.4189],\n",
       "                      [-0.1600,  1.9821,  0.6223, -0.8881],\n",
       "                      [ 0.0814,  2.0722, -0.9121,  0.5785],\n",
       "                      [ 0.0909,  1.6903,  0.3983,  0.4189],\n",
       "                      [-0.1600,  1.9821,  0.6223, -0.8881],\n",
       "                      [ 0.0814,  2.0722, -0.9121,  0.5785],\n",
       "                      [ 0.0909,  1.6903,  0.3983,  0.4189],\n",
       "                      [-0.1600,  1.9821,  0.6223, -0.8881],\n",
       "                      [ 0.0814,  2.0722, -0.9121,  0.5785],\n",
       "                      [ 0.0909,  1.6903,  0.3983,  0.4189],\n",
       "                      [-0.1600,  1.9821,  0.6223, -0.8881],\n",
       "                      [ 0.0814,  2.0722, -0.9121,  0.5785],\n",
       "                      [ 0.0909,  1.6903,  0.3983,  0.4189],\n",
       "                      [-0.1600,  1.9821,  0.6223, -0.8881],\n",
       "                      [ 0.0814,  2.0722, -0.9121,  0.5785],\n",
       "                      [ 0.0909,  1.6903,  0.3983,  0.4189],\n",
       "                      [-0.1600,  1.9821,  0.6223, -0.8881],\n",
       "                      [ 0.0814,  2.0722, -0.9121,  0.5785],\n",
       "                      [ 0.0909,  1.6903,  0.3983,  0.4189]]),\n",
       "       ),\n",
       ")"
      ]
     },
     "execution_count": 27,
     "metadata": {},
     "output_type": "execute_result"
    }
   ],
   "source": [
    "Batch.cat(batches)"
   ]
  },
  {
   "cell_type": "code",
   "execution_count": 28,
   "id": "18dfb045",
   "metadata": {
    "execution": {
     "iopub.execute_input": "2023-02-25T17:56:58.362602Z",
     "iopub.status.busy": "2023-02-25T17:56:58.362264Z",
     "iopub.status.idle": "2023-02-25T17:57:09.974514Z",
     "shell.execute_reply": "2023-02-25T17:57:09.973808Z"
    }
   },
   "outputs": [
    {
     "name": "stdout",
     "output_type": "stream",
     "text": [
      "143 µs ± 311 ns per loop (mean ± std. dev. of 7 runs, 10,000 loops each)\n"
     ]
    }
   ],
   "source": [
    "%timeit Batch.cat(batches)"
   ]
  },
  {
   "cell_type": "code",
   "execution_count": 29,
   "id": "c6688e51",
   "metadata": {
    "execution": {
     "iopub.execute_input": "2023-02-25T17:57:09.977385Z",
     "iopub.status.busy": "2023-02-25T17:57:09.977043Z",
     "iopub.status.idle": "2023-02-25T17:57:12.442964Z",
     "shell.execute_reply": "2023-02-25T17:57:12.442386Z"
    }
   },
   "outputs": [
    {
     "name": "stdout",
     "output_type": "stream",
     "text": [
      "303 µs ± 1.11 µs per loop (mean ± std. dev. of 7 runs, 1,000 loops each)\n"
     ]
    }
   ],
   "source": [
    "batch = Batch({\n",
    "    'obs': torch.randn(8, 4, 84, 84),\n",
    "    'action': torch.randint(0, 6, size=(8, 1,)),\n",
    "    'reward': torch.rand(8, 1)}\n",
    ")\n",
    "\n",
    "%timeit list(Batch.split(batch, 1, shuffle=False, merge_last=True))"
   ]
  },
  {
   "cell_type": "code",
   "execution_count": null,
   "id": "2539fbd9",
   "metadata": {},
   "outputs": [],
   "source": []
  }
 ],
 "metadata": {
  "kernelspec": {
   "display_name": "Python 3 (ipykernel)",
   "language": "python",
   "name": "python3"
  },
  "language_info": {
   "codemirror_mode": {
    "name": "ipython",
    "version": 3
   },
   "file_extension": ".py",
   "mimetype": "text/x-python",
   "name": "python",
   "nbconvert_exporter": "python",
   "pygments_lexer": "ipython3",
   "version": "3.8.16"
  }
 },
 "nbformat": 4,
 "nbformat_minor": 5
}
