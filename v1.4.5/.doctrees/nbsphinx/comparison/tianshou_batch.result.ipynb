{
 "cells": [
  {
   "cell_type": "markdown",
   "id": "9d39d946",
   "metadata": {},
   "source": [
    "# Comparison Between TreeValue and Tianshou Batch"
   ]
  },
  {
   "cell_type": "markdown",
   "id": "3c6db2d4",
   "metadata": {},
   "source": [
    "In this section, we will take a look at the feature and performance of the [Tianshou Batch](https://github.com/thu-ml/tianshou) library, which is developed by Tsinghua Machine Learning Group."
   ]
  },
  {
   "cell_type": "markdown",
   "id": "069361b0",
   "metadata": {},
   "source": [
    "Before starting the comparison, let us define some thing."
   ]
  },
  {
   "cell_type": "code",
   "execution_count": 1,
   "id": "06fc8d26",
   "metadata": {
    "execution": {
     "iopub.execute_input": "2023-03-06T19:11:02.412004Z",
     "iopub.status.busy": "2023-03-06T19:11:02.411713Z",
     "iopub.status.idle": "2023-03-06T19:11:03.693215Z",
     "shell.execute_reply": "2023-03-06T19:11:03.691916Z"
    }
   },
   "outputs": [
    {
     "name": "stderr",
     "output_type": "stream",
     "text": [
      "/opt/hostedtoolcache/Python/3.8.16/x64/lib/python3.8/site-packages/tqdm/auto.py:21: TqdmWarning: IProgress not found. Please update jupyter and ipywidgets. See https://ipywidgets.readthedocs.io/en/stable/user_install.html\n",
      "  from .autonotebook import tqdm as notebook_tqdm\n"
     ]
    }
   ],
   "source": [
    "import torch \n",
    "\n",
    "_TREE_DATA_1 = {'a': 1, 'b': 2, 'x': {'c': 3, 'd': 4}}\n",
    "_TREE_DATA_2 = {\n",
    "    'a': torch.randn(2, 3), \n",
    "    'x': {\n",
    "        'c': torch.randn(3, 4)\n",
    "    },\n",
    "}\n",
    "_TREE_DATA_3 = {\n",
    "    'obs': torch.randn(4, 84, 84),\n",
    "    'action': torch.randint(0, 6, size=(1,)),\n",
    "    'reward': torch.rand(1),\n",
    "}"
   ]
  },
  {
   "cell_type": "markdown",
   "id": "83461b25",
   "metadata": {},
   "source": [
    "## Read and Write Operation"
   ]
  },
  {
   "cell_type": "markdown",
   "id": "067b3f73",
   "metadata": {},
   "source": [
    "Reading and writing are the two most common operations in the tree data structure based on the data model (TreeValue and Tianshou Batch both belong to this type), so this section will compare the reading and writing performance of these two libraries."
   ]
  },
  {
   "cell_type": "markdown",
   "id": "5d09a5b7",
   "metadata": {},
   "source": [
    "### TreeValue's Get and Set"
   ]
  },
  {
   "cell_type": "code",
   "execution_count": 2,
   "id": "9519c4bb",
   "metadata": {
    "execution": {
     "iopub.execute_input": "2023-03-06T19:11:03.698322Z",
     "iopub.status.busy": "2023-03-06T19:11:03.697727Z",
     "iopub.status.idle": "2023-03-06T19:11:03.744527Z",
     "shell.execute_reply": "2023-03-06T19:11:03.743519Z"
    }
   },
   "outputs": [],
   "source": [
    "from treevalue import FastTreeValue\n",
    "\n",
    "t = FastTreeValue(_TREE_DATA_2)"
   ]
  },
  {
   "cell_type": "code",
   "execution_count": 3,
   "id": "11c37677",
   "metadata": {
    "execution": {
     "iopub.execute_input": "2023-03-06T19:11:03.748680Z",
     "iopub.status.busy": "2023-03-06T19:11:03.748300Z",
     "iopub.status.idle": "2023-03-06T19:11:03.762236Z",
     "shell.execute_reply": "2023-03-06T19:11:03.761189Z"
    }
   },
   "outputs": [
    {
     "data": {
      "text/plain": [
       "<FastTreeValue 0x7f4c31049c40>\n",
       "├── 'a' --> tensor([[ 0.9439,  0.6408, -0.8329],\n",
       "│                   [ 0.5009, -1.3121, -0.2734]])\n",
       "└── 'x' --> <FastTreeValue 0x7f4c31049f40>\n",
       "    └── 'c' --> tensor([[ 0.0862, -0.3897, -0.8018,  1.2213],\n",
       "                        [ 1.1840,  0.7789, -0.4008, -0.7288],\n",
       "                        [ 0.7409,  0.3764, -1.2956, -0.8829]])"
      ]
     },
     "execution_count": 3,
     "metadata": {},
     "output_type": "execute_result"
    }
   ],
   "source": [
    "t"
   ]
  },
  {
   "cell_type": "code",
   "execution_count": 4,
   "id": "fd70b0b9",
   "metadata": {
    "execution": {
     "iopub.execute_input": "2023-03-06T19:11:03.766965Z",
     "iopub.status.busy": "2023-03-06T19:11:03.766249Z",
     "iopub.status.idle": "2023-03-06T19:11:03.774642Z",
     "shell.execute_reply": "2023-03-06T19:11:03.773766Z"
    }
   },
   "outputs": [
    {
     "data": {
      "text/plain": [
       "tensor([[ 0.9439,  0.6408, -0.8329],\n",
       "        [ 0.5009, -1.3121, -0.2734]])"
      ]
     },
     "execution_count": 4,
     "metadata": {},
     "output_type": "execute_result"
    }
   ],
   "source": [
    "t.a"
   ]
  },
  {
   "cell_type": "code",
   "execution_count": 5,
   "id": "c18197bd",
   "metadata": {
    "execution": {
     "iopub.execute_input": "2023-03-06T19:11:03.778270Z",
     "iopub.status.busy": "2023-03-06T19:11:03.777915Z",
     "iopub.status.idle": "2023-03-06T19:11:10.138182Z",
     "shell.execute_reply": "2023-03-06T19:11:10.137167Z"
    }
   },
   "outputs": [
    {
     "name": "stdout",
     "output_type": "stream",
     "text": [
      "78.6 ns ± 2.77 ns per loop (mean ± std. dev. of 7 runs, 10,000,000 loops each)\n"
     ]
    }
   ],
   "source": [
    "%timeit t.a"
   ]
  },
  {
   "cell_type": "code",
   "execution_count": 6,
   "id": "bd52f867",
   "metadata": {
    "execution": {
     "iopub.execute_input": "2023-03-06T19:11:10.142515Z",
     "iopub.status.busy": "2023-03-06T19:11:10.142196Z",
     "iopub.status.idle": "2023-03-06T19:11:10.153301Z",
     "shell.execute_reply": "2023-03-06T19:11:10.152164Z"
    }
   },
   "outputs": [
    {
     "data": {
      "text/plain": [
       "<FastTreeValue 0x7f4c31049c40>\n",
       "├── 'a' --> tensor([[ 0.4507, -1.1594, -1.2880],\n",
       "│                   [ 0.2985,  0.3235,  0.9721]])\n",
       "└── 'x' --> <FastTreeValue 0x7f4c31049f40>\n",
       "    └── 'c' --> tensor([[ 0.0862, -0.3897, -0.8018,  1.2213],\n",
       "                        [ 1.1840,  0.7789, -0.4008, -0.7288],\n",
       "                        [ 0.7409,  0.3764, -1.2956, -0.8829]])"
      ]
     },
     "execution_count": 6,
     "metadata": {},
     "output_type": "execute_result"
    }
   ],
   "source": [
    "new_value = torch.randn(2, 3)\n",
    "t.a = new_value\n",
    "\n",
    "t"
   ]
  },
  {
   "cell_type": "code",
   "execution_count": 7,
   "id": "bbe04d1c",
   "metadata": {
    "execution": {
     "iopub.execute_input": "2023-03-06T19:11:10.158621Z",
     "iopub.status.busy": "2023-03-06T19:11:10.158039Z",
     "iopub.status.idle": "2023-03-06T19:11:16.322454Z",
     "shell.execute_reply": "2023-03-06T19:11:16.321042Z"
    }
   },
   "outputs": [
    {
     "name": "stdout",
     "output_type": "stream",
     "text": [
      "75.6 ns ± 2.05 ns per loop (mean ± std. dev. of 7 runs, 10,000,000 loops each)\n"
     ]
    }
   ],
   "source": [
    "%timeit t.a = new_value"
   ]
  },
  {
   "cell_type": "markdown",
   "id": "48c49731",
   "metadata": {},
   "source": [
    "### Tianshou Batch's Get and Set"
   ]
  },
  {
   "cell_type": "code",
   "execution_count": 8,
   "id": "f1bb14c1",
   "metadata": {
    "execution": {
     "iopub.execute_input": "2023-03-06T19:11:16.327191Z",
     "iopub.status.busy": "2023-03-06T19:11:16.326486Z",
     "iopub.status.idle": "2023-03-06T19:11:16.794115Z",
     "shell.execute_reply": "2023-03-06T19:11:16.792892Z"
    }
   },
   "outputs": [],
   "source": [
    "from tianshou.data import Batch\n",
    "\n",
    "b = Batch(**_TREE_DATA_2)"
   ]
  },
  {
   "cell_type": "code",
   "execution_count": 9,
   "id": "cb0777c3",
   "metadata": {
    "execution": {
     "iopub.execute_input": "2023-03-06T19:11:16.798669Z",
     "iopub.status.busy": "2023-03-06T19:11:16.797954Z",
     "iopub.status.idle": "2023-03-06T19:11:16.806352Z",
     "shell.execute_reply": "2023-03-06T19:11:16.805293Z"
    }
   },
   "outputs": [
    {
     "data": {
      "text/plain": [
       "Batch(\n",
       "    a: tensor([[ 0.9439,  0.6408, -0.8329],\n",
       "               [ 0.5009, -1.3121, -0.2734]]),\n",
       "    x: Batch(\n",
       "           c: tensor([[ 0.0862, -0.3897, -0.8018,  1.2213],\n",
       "                      [ 1.1840,  0.7789, -0.4008, -0.7288],\n",
       "                      [ 0.7409,  0.3764, -1.2956, -0.8829]]),\n",
       "       ),\n",
       ")"
      ]
     },
     "execution_count": 9,
     "metadata": {},
     "output_type": "execute_result"
    }
   ],
   "source": [
    "b"
   ]
  },
  {
   "cell_type": "code",
   "execution_count": 10,
   "id": "43ef8ea3",
   "metadata": {
    "execution": {
     "iopub.execute_input": "2023-03-06T19:11:16.810309Z",
     "iopub.status.busy": "2023-03-06T19:11:16.809748Z",
     "iopub.status.idle": "2023-03-06T19:11:16.816280Z",
     "shell.execute_reply": "2023-03-06T19:11:16.815194Z"
    }
   },
   "outputs": [
    {
     "data": {
      "text/plain": [
       "tensor([[ 0.9439,  0.6408, -0.8329],\n",
       "        [ 0.5009, -1.3121, -0.2734]])"
      ]
     },
     "execution_count": 10,
     "metadata": {},
     "output_type": "execute_result"
    }
   ],
   "source": [
    "b.a"
   ]
  },
  {
   "cell_type": "code",
   "execution_count": 11,
   "id": "b785ab72",
   "metadata": {
    "execution": {
     "iopub.execute_input": "2023-03-06T19:11:16.820003Z",
     "iopub.status.busy": "2023-03-06T19:11:16.819634Z",
     "iopub.status.idle": "2023-03-06T19:11:22.405818Z",
     "shell.execute_reply": "2023-03-06T19:11:22.404763Z"
    }
   },
   "outputs": [
    {
     "name": "stdout",
     "output_type": "stream",
     "text": [
      "68.4 ns ± 1.64 ns per loop (mean ± std. dev. of 7 runs, 10,000,000 loops each)\n"
     ]
    }
   ],
   "source": [
    "%timeit b.a"
   ]
  },
  {
   "cell_type": "code",
   "execution_count": 12,
   "id": "ad54dc69",
   "metadata": {
    "execution": {
     "iopub.execute_input": "2023-03-06T19:11:22.409961Z",
     "iopub.status.busy": "2023-03-06T19:11:22.409204Z",
     "iopub.status.idle": "2023-03-06T19:11:22.418304Z",
     "shell.execute_reply": "2023-03-06T19:11:22.417254Z"
    }
   },
   "outputs": [
    {
     "data": {
      "text/plain": [
       "Batch(\n",
       "    a: tensor([[-1.1274,  0.7511,  0.3929],\n",
       "               [ 0.4107, -0.9067, -0.7390]]),\n",
       "    x: Batch(\n",
       "           c: tensor([[ 0.0862, -0.3897, -0.8018,  1.2213],\n",
       "                      [ 1.1840,  0.7789, -0.4008, -0.7288],\n",
       "                      [ 0.7409,  0.3764, -1.2956, -0.8829]]),\n",
       "       ),\n",
       ")"
      ]
     },
     "execution_count": 12,
     "metadata": {},
     "output_type": "execute_result"
    }
   ],
   "source": [
    "new_value = torch.randn(2, 3)\n",
    "b.a = new_value\n",
    "\n",
    "b"
   ]
  },
  {
   "cell_type": "code",
   "execution_count": 13,
   "id": "29b1d0bf",
   "metadata": {
    "execution": {
     "iopub.execute_input": "2023-03-06T19:11:22.421490Z",
     "iopub.status.busy": "2023-03-06T19:11:22.421235Z",
     "iopub.status.idle": "2023-03-06T19:11:27.482842Z",
     "shell.execute_reply": "2023-03-06T19:11:27.481810Z"
    }
   },
   "outputs": [
    {
     "name": "stdout",
     "output_type": "stream",
     "text": [
      "626 ns ± 11.2 ns per loop (mean ± std. dev. of 7 runs, 1,000,000 loops each)\n"
     ]
    }
   ],
   "source": [
    "%timeit b.a = new_value"
   ]
  },
  {
   "cell_type": "markdown",
   "id": "b61ad1d0",
   "metadata": {},
   "source": [
    "## Initialization"
   ]
  },
  {
   "cell_type": "markdown",
   "id": "d70f0d54",
   "metadata": {},
   "source": [
    "### TreeValue's Initialization"
   ]
  },
  {
   "cell_type": "code",
   "execution_count": 14,
   "id": "d32a679b",
   "metadata": {
    "execution": {
     "iopub.execute_input": "2023-03-06T19:11:27.487113Z",
     "iopub.status.busy": "2023-03-06T19:11:27.486559Z",
     "iopub.status.idle": "2023-03-06T19:11:36.390494Z",
     "shell.execute_reply": "2023-03-06T19:11:36.389259Z"
    }
   },
   "outputs": [
    {
     "name": "stdout",
     "output_type": "stream",
     "text": [
      "1.11 µs ± 35.2 ns per loop (mean ± std. dev. of 7 runs, 1,000,000 loops each)\n"
     ]
    }
   ],
   "source": [
    "%timeit FastTreeValue(_TREE_DATA_1)"
   ]
  },
  {
   "cell_type": "markdown",
   "id": "24f3707b",
   "metadata": {},
   "source": [
    "### Tianshou Batch's Initialization"
   ]
  },
  {
   "cell_type": "code",
   "execution_count": 15,
   "id": "ac3958df",
   "metadata": {
    "execution": {
     "iopub.execute_input": "2023-03-06T19:11:36.394633Z",
     "iopub.status.busy": "2023-03-06T19:11:36.394276Z",
     "iopub.status.idle": "2023-03-06T19:11:48.609071Z",
     "shell.execute_reply": "2023-03-06T19:11:48.607955Z"
    }
   },
   "outputs": [
    {
     "name": "stdout",
     "output_type": "stream",
     "text": [
      "15 µs ± 308 ns per loop (mean ± std. dev. of 7 runs, 100,000 loops each)\n"
     ]
    }
   ],
   "source": [
    "%timeit Batch(**_TREE_DATA_1)"
   ]
  },
  {
   "cell_type": "markdown",
   "id": "1ab82e2d",
   "metadata": {},
   "source": [
    "## Deep Copy Operation"
   ]
  },
  {
   "cell_type": "code",
   "execution_count": 16,
   "id": "210a9442",
   "metadata": {
    "execution": {
     "iopub.execute_input": "2023-03-06T19:11:48.613737Z",
     "iopub.status.busy": "2023-03-06T19:11:48.613133Z",
     "iopub.status.idle": "2023-03-06T19:11:48.618808Z",
     "shell.execute_reply": "2023-03-06T19:11:48.617820Z"
    }
   },
   "outputs": [],
   "source": [
    "import copy"
   ]
  },
  {
   "cell_type": "markdown",
   "id": "5a736274",
   "metadata": {},
   "source": [
    "### Deep Copy of TreeValue"
   ]
  },
  {
   "cell_type": "code",
   "execution_count": 17,
   "id": "f9bcadd6",
   "metadata": {
    "execution": {
     "iopub.execute_input": "2023-03-06T19:11:48.622667Z",
     "iopub.status.busy": "2023-03-06T19:11:48.621922Z",
     "iopub.status.idle": "2023-03-06T19:11:51.040505Z",
     "shell.execute_reply": "2023-03-06T19:11:51.039630Z"
    }
   },
   "outputs": [
    {
     "name": "stdout",
     "output_type": "stream",
     "text": [
      "297 µs ± 20.8 µs per loop (mean ± std. dev. of 7 runs, 1,000 loops each)\n"
     ]
    }
   ],
   "source": [
    "t3 = FastTreeValue(_TREE_DATA_3)\n",
    "%timeit copy.deepcopy(t3)"
   ]
  },
  {
   "cell_type": "markdown",
   "id": "bf8be7ea",
   "metadata": {},
   "source": [
    "### Deep Copy of Tianshou Batch"
   ]
  },
  {
   "cell_type": "code",
   "execution_count": 18,
   "id": "91998e6f",
   "metadata": {
    "execution": {
     "iopub.execute_input": "2023-03-06T19:11:51.044786Z",
     "iopub.status.busy": "2023-03-06T19:11:51.043803Z",
     "iopub.status.idle": "2023-03-06T19:11:53.427142Z",
     "shell.execute_reply": "2023-03-06T19:11:53.426212Z"
    }
   },
   "outputs": [
    {
     "name": "stdout",
     "output_type": "stream",
     "text": [
      "288 µs ± 5.48 µs per loop (mean ± std. dev. of 7 runs, 1,000 loops each)\n"
     ]
    }
   ],
   "source": [
    "b3 = Batch(**_TREE_DATA_3)\n",
    "%timeit copy.deepcopy(b3)"
   ]
  },
  {
   "cell_type": "markdown",
   "id": "223162fb",
   "metadata": {},
   "source": [
    "## Stack, Concat and Split Operation"
   ]
  },
  {
   "cell_type": "markdown",
   "id": "85fa4a73",
   "metadata": {},
   "source": [
    "### Performance of TreeValue"
   ]
  },
  {
   "cell_type": "code",
   "execution_count": 19,
   "id": "a0c2b697",
   "metadata": {
    "execution": {
     "iopub.execute_input": "2023-03-06T19:11:53.432092Z",
     "iopub.status.busy": "2023-03-06T19:11:53.430392Z",
     "iopub.status.idle": "2023-03-06T19:11:53.435628Z",
     "shell.execute_reply": "2023-03-06T19:11:53.434809Z"
    }
   },
   "outputs": [],
   "source": [
    "trees = [FastTreeValue(_TREE_DATA_2) for _ in range(8)]"
   ]
  },
  {
   "cell_type": "code",
   "execution_count": 20,
   "id": "017ea5a5",
   "metadata": {
    "execution": {
     "iopub.execute_input": "2023-03-06T19:11:53.438963Z",
     "iopub.status.busy": "2023-03-06T19:11:53.438218Z",
     "iopub.status.idle": "2023-03-06T19:11:53.447640Z",
     "shell.execute_reply": "2023-03-06T19:11:53.446607Z"
    }
   },
   "outputs": [
    {
     "data": {
      "text/plain": [
       "<FastTreeValue 0x7f4b888b31c0>\n",
       "├── 'a' --> tensor([[[ 0.9439,  0.6408, -0.8329],\n",
       "│                    [ 0.5009, -1.3121, -0.2734]],\n",
       "│           \n",
       "│                   [[ 0.9439,  0.6408, -0.8329],\n",
       "│                    [ 0.5009, -1.3121, -0.2734]],\n",
       "│           \n",
       "│                   [[ 0.9439,  0.6408, -0.8329],\n",
       "│                    [ 0.5009, -1.3121, -0.2734]],\n",
       "│           \n",
       "│                   [[ 0.9439,  0.6408, -0.8329],\n",
       "│                    [ 0.5009, -1.3121, -0.2734]],\n",
       "│           \n",
       "│                   [[ 0.9439,  0.6408, -0.8329],\n",
       "│                    [ 0.5009, -1.3121, -0.2734]],\n",
       "│           \n",
       "│                   [[ 0.9439,  0.6408, -0.8329],\n",
       "│                    [ 0.5009, -1.3121, -0.2734]],\n",
       "│           \n",
       "│                   [[ 0.9439,  0.6408, -0.8329],\n",
       "│                    [ 0.5009, -1.3121, -0.2734]],\n",
       "│           \n",
       "│                   [[ 0.9439,  0.6408, -0.8329],\n",
       "│                    [ 0.5009, -1.3121, -0.2734]]])\n",
       "└── 'x' --> <FastTreeValue 0x7f4b888b36a0>\n",
       "    └── 'c' --> tensor([[[ 0.0862, -0.3897, -0.8018,  1.2213],\n",
       "                         [ 1.1840,  0.7789, -0.4008, -0.7288],\n",
       "                         [ 0.7409,  0.3764, -1.2956, -0.8829]],\n",
       "                \n",
       "                        [[ 0.0862, -0.3897, -0.8018,  1.2213],\n",
       "                         [ 1.1840,  0.7789, -0.4008, -0.7288],\n",
       "                         [ 0.7409,  0.3764, -1.2956, -0.8829]],\n",
       "                \n",
       "                        [[ 0.0862, -0.3897, -0.8018,  1.2213],\n",
       "                         [ 1.1840,  0.7789, -0.4008, -0.7288],\n",
       "                         [ 0.7409,  0.3764, -1.2956, -0.8829]],\n",
       "                \n",
       "                        [[ 0.0862, -0.3897, -0.8018,  1.2213],\n",
       "                         [ 1.1840,  0.7789, -0.4008, -0.7288],\n",
       "                         [ 0.7409,  0.3764, -1.2956, -0.8829]],\n",
       "                \n",
       "                        [[ 0.0862, -0.3897, -0.8018,  1.2213],\n",
       "                         [ 1.1840,  0.7789, -0.4008, -0.7288],\n",
       "                         [ 0.7409,  0.3764, -1.2956, -0.8829]],\n",
       "                \n",
       "                        [[ 0.0862, -0.3897, -0.8018,  1.2213],\n",
       "                         [ 1.1840,  0.7789, -0.4008, -0.7288],\n",
       "                         [ 0.7409,  0.3764, -1.2956, -0.8829]],\n",
       "                \n",
       "                        [[ 0.0862, -0.3897, -0.8018,  1.2213],\n",
       "                         [ 1.1840,  0.7789, -0.4008, -0.7288],\n",
       "                         [ 0.7409,  0.3764, -1.2956, -0.8829]],\n",
       "                \n",
       "                        [[ 0.0862, -0.3897, -0.8018,  1.2213],\n",
       "                         [ 1.1840,  0.7789, -0.4008, -0.7288],\n",
       "                         [ 0.7409,  0.3764, -1.2956, -0.8829]]])"
      ]
     },
     "execution_count": 20,
     "metadata": {},
     "output_type": "execute_result"
    }
   ],
   "source": [
    "t_stack = FastTreeValue.func(subside=True)(torch.stack)\n",
    "\n",
    "t_stack(trees)"
   ]
  },
  {
   "cell_type": "code",
   "execution_count": 21,
   "id": "f8b3f415",
   "metadata": {
    "execution": {
     "iopub.execute_input": "2023-03-06T19:11:53.450989Z",
     "iopub.status.busy": "2023-03-06T19:11:53.450375Z",
     "iopub.status.idle": "2023-03-06T19:11:57.296743Z",
     "shell.execute_reply": "2023-03-06T19:11:57.295734Z"
    }
   },
   "outputs": [
    {
     "name": "stdout",
     "output_type": "stream",
     "text": [
      "47.4 µs ± 2.39 µs per loop (mean ± std. dev. of 7 runs, 10,000 loops each)\n"
     ]
    }
   ],
   "source": [
    "%timeit t_stack(trees)"
   ]
  },
  {
   "cell_type": "code",
   "execution_count": 22,
   "id": "94b56771",
   "metadata": {
    "execution": {
     "iopub.execute_input": "2023-03-06T19:11:57.301037Z",
     "iopub.status.busy": "2023-03-06T19:11:57.300507Z",
     "iopub.status.idle": "2023-03-06T19:11:57.312540Z",
     "shell.execute_reply": "2023-03-06T19:11:57.311256Z"
    }
   },
   "outputs": [
    {
     "data": {
      "text/plain": [
       "<FastTreeValue 0x7f4b81c196a0>\n",
       "├── 'a' --> tensor([[ 0.9439,  0.6408, -0.8329],\n",
       "│                   [ 0.5009, -1.3121, -0.2734],\n",
       "│                   [ 0.9439,  0.6408, -0.8329],\n",
       "│                   [ 0.5009, -1.3121, -0.2734],\n",
       "│                   [ 0.9439,  0.6408, -0.8329],\n",
       "│                   [ 0.5009, -1.3121, -0.2734],\n",
       "│                   [ 0.9439,  0.6408, -0.8329],\n",
       "│                   [ 0.5009, -1.3121, -0.2734],\n",
       "│                   [ 0.9439,  0.6408, -0.8329],\n",
       "│                   [ 0.5009, -1.3121, -0.2734],\n",
       "│                   [ 0.9439,  0.6408, -0.8329],\n",
       "│                   [ 0.5009, -1.3121, -0.2734],\n",
       "│                   [ 0.9439,  0.6408, -0.8329],\n",
       "│                   [ 0.5009, -1.3121, -0.2734],\n",
       "│                   [ 0.9439,  0.6408, -0.8329],\n",
       "│                   [ 0.5009, -1.3121, -0.2734]])\n",
       "└── 'x' --> <FastTreeValue 0x7f4b81c19820>\n",
       "    └── 'c' --> tensor([[ 0.0862, -0.3897, -0.8018,  1.2213],\n",
       "                        [ 1.1840,  0.7789, -0.4008, -0.7288],\n",
       "                        [ 0.7409,  0.3764, -1.2956, -0.8829],\n",
       "                        [ 0.0862, -0.3897, -0.8018,  1.2213],\n",
       "                        [ 1.1840,  0.7789, -0.4008, -0.7288],\n",
       "                        [ 0.7409,  0.3764, -1.2956, -0.8829],\n",
       "                        [ 0.0862, -0.3897, -0.8018,  1.2213],\n",
       "                        [ 1.1840,  0.7789, -0.4008, -0.7288],\n",
       "                        [ 0.7409,  0.3764, -1.2956, -0.8829],\n",
       "                        [ 0.0862, -0.3897, -0.8018,  1.2213],\n",
       "                        [ 1.1840,  0.7789, -0.4008, -0.7288],\n",
       "                        [ 0.7409,  0.3764, -1.2956, -0.8829],\n",
       "                        [ 0.0862, -0.3897, -0.8018,  1.2213],\n",
       "                        [ 1.1840,  0.7789, -0.4008, -0.7288],\n",
       "                        [ 0.7409,  0.3764, -1.2956, -0.8829],\n",
       "                        [ 0.0862, -0.3897, -0.8018,  1.2213],\n",
       "                        [ 1.1840,  0.7789, -0.4008, -0.7288],\n",
       "                        [ 0.7409,  0.3764, -1.2956, -0.8829],\n",
       "                        [ 0.0862, -0.3897, -0.8018,  1.2213],\n",
       "                        [ 1.1840,  0.7789, -0.4008, -0.7288],\n",
       "                        [ 0.7409,  0.3764, -1.2956, -0.8829],\n",
       "                        [ 0.0862, -0.3897, -0.8018,  1.2213],\n",
       "                        [ 1.1840,  0.7789, -0.4008, -0.7288],\n",
       "                        [ 0.7409,  0.3764, -1.2956, -0.8829]])"
      ]
     },
     "execution_count": 22,
     "metadata": {},
     "output_type": "execute_result"
    }
   ],
   "source": [
    "t_cat = FastTreeValue.func(subside=True)(torch.cat)\n",
    "\n",
    "t_cat(trees)"
   ]
  },
  {
   "cell_type": "code",
   "execution_count": 23,
   "id": "5e9c06a6",
   "metadata": {
    "execution": {
     "iopub.execute_input": "2023-03-06T19:11:57.315702Z",
     "iopub.status.busy": "2023-03-06T19:11:57.315410Z",
     "iopub.status.idle": "2023-03-06T19:12:00.799612Z",
     "shell.execute_reply": "2023-03-06T19:12:00.798292Z"
    }
   },
   "outputs": [
    {
     "name": "stdout",
     "output_type": "stream",
     "text": [
      "43.1 µs ± 1.29 µs per loop (mean ± std. dev. of 7 runs, 10,000 loops each)\n"
     ]
    }
   ],
   "source": [
    "%timeit t_cat(trees)"
   ]
  },
  {
   "cell_type": "code",
   "execution_count": 24,
   "id": "a3ab5c8f",
   "metadata": {
    "execution": {
     "iopub.execute_input": "2023-03-06T19:12:00.803937Z",
     "iopub.status.busy": "2023-03-06T19:12:00.803362Z",
     "iopub.status.idle": "2023-03-06T19:12:08.025106Z",
     "shell.execute_reply": "2023-03-06T19:12:08.023694Z"
    }
   },
   "outputs": [
    {
     "name": "stdout",
     "output_type": "stream",
     "text": [
      "88.8 µs ± 1.37 µs per loop (mean ± std. dev. of 7 runs, 10,000 loops each)\n"
     ]
    }
   ],
   "source": [
    "t_split = FastTreeValue.func(rise=True)(torch.split)\n",
    "tree = FastTreeValue({\n",
    "    'obs': torch.randn(8, 4, 84, 84),\n",
    "    'action': torch.randint(0, 6, size=(8, 1,)),\n",
    "    'reward': torch.rand(8, 1),\n",
    "})\n",
    "\n",
    "%timeit t_split(tree, 1)"
   ]
  },
  {
   "cell_type": "markdown",
   "id": "31c3ec0b",
   "metadata": {},
   "source": [
    "### Performance of Tianshou Batch"
   ]
  },
  {
   "cell_type": "code",
   "execution_count": 25,
   "id": "9ead828a",
   "metadata": {
    "execution": {
     "iopub.execute_input": "2023-03-06T19:12:08.029553Z",
     "iopub.status.busy": "2023-03-06T19:12:08.029229Z",
     "iopub.status.idle": "2023-03-06T19:12:08.042356Z",
     "shell.execute_reply": "2023-03-06T19:12:08.041270Z"
    }
   },
   "outputs": [
    {
     "data": {
      "text/plain": [
       "Batch(\n",
       "    x: Batch(\n",
       "           c: tensor([[[ 0.0862, -0.3897, -0.8018,  1.2213],\n",
       "                       [ 1.1840,  0.7789, -0.4008, -0.7288],\n",
       "                       [ 0.7409,  0.3764, -1.2956, -0.8829]],\n",
       "              \n",
       "                      [[ 0.0862, -0.3897, -0.8018,  1.2213],\n",
       "                       [ 1.1840,  0.7789, -0.4008, -0.7288],\n",
       "                       [ 0.7409,  0.3764, -1.2956, -0.8829]],\n",
       "              \n",
       "                      [[ 0.0862, -0.3897, -0.8018,  1.2213],\n",
       "                       [ 1.1840,  0.7789, -0.4008, -0.7288],\n",
       "                       [ 0.7409,  0.3764, -1.2956, -0.8829]],\n",
       "              \n",
       "                      [[ 0.0862, -0.3897, -0.8018,  1.2213],\n",
       "                       [ 1.1840,  0.7789, -0.4008, -0.7288],\n",
       "                       [ 0.7409,  0.3764, -1.2956, -0.8829]],\n",
       "              \n",
       "                      [[ 0.0862, -0.3897, -0.8018,  1.2213],\n",
       "                       [ 1.1840,  0.7789, -0.4008, -0.7288],\n",
       "                       [ 0.7409,  0.3764, -1.2956, -0.8829]],\n",
       "              \n",
       "                      [[ 0.0862, -0.3897, -0.8018,  1.2213],\n",
       "                       [ 1.1840,  0.7789, -0.4008, -0.7288],\n",
       "                       [ 0.7409,  0.3764, -1.2956, -0.8829]],\n",
       "              \n",
       "                      [[ 0.0862, -0.3897, -0.8018,  1.2213],\n",
       "                       [ 1.1840,  0.7789, -0.4008, -0.7288],\n",
       "                       [ 0.7409,  0.3764, -1.2956, -0.8829]],\n",
       "              \n",
       "                      [[ 0.0862, -0.3897, -0.8018,  1.2213],\n",
       "                       [ 1.1840,  0.7789, -0.4008, -0.7288],\n",
       "                       [ 0.7409,  0.3764, -1.2956, -0.8829]]]),\n",
       "       ),\n",
       "    a: tensor([[[ 0.9439,  0.6408, -0.8329],\n",
       "                [ 0.5009, -1.3121, -0.2734]],\n",
       "       \n",
       "               [[ 0.9439,  0.6408, -0.8329],\n",
       "                [ 0.5009, -1.3121, -0.2734]],\n",
       "       \n",
       "               [[ 0.9439,  0.6408, -0.8329],\n",
       "                [ 0.5009, -1.3121, -0.2734]],\n",
       "       \n",
       "               [[ 0.9439,  0.6408, -0.8329],\n",
       "                [ 0.5009, -1.3121, -0.2734]],\n",
       "       \n",
       "               [[ 0.9439,  0.6408, -0.8329],\n",
       "                [ 0.5009, -1.3121, -0.2734]],\n",
       "       \n",
       "               [[ 0.9439,  0.6408, -0.8329],\n",
       "                [ 0.5009, -1.3121, -0.2734]],\n",
       "       \n",
       "               [[ 0.9439,  0.6408, -0.8329],\n",
       "                [ 0.5009, -1.3121, -0.2734]],\n",
       "       \n",
       "               [[ 0.9439,  0.6408, -0.8329],\n",
       "                [ 0.5009, -1.3121, -0.2734]]]),\n",
       ")"
      ]
     },
     "execution_count": 25,
     "metadata": {},
     "output_type": "execute_result"
    }
   ],
   "source": [
    "batches = [Batch(**_TREE_DATA_2) for _ in range(8)]\n",
    "\n",
    "Batch.stack(batches)"
   ]
  },
  {
   "cell_type": "code",
   "execution_count": 26,
   "id": "ec9037a3",
   "metadata": {
    "execution": {
     "iopub.execute_input": "2023-03-06T19:12:08.046379Z",
     "iopub.status.busy": "2023-03-06T19:12:08.046044Z",
     "iopub.status.idle": "2023-03-06T19:12:16.862393Z",
     "shell.execute_reply": "2023-03-06T19:12:16.860942Z"
    }
   },
   "outputs": [
    {
     "name": "stdout",
     "output_type": "stream",
     "text": [
      "108 µs ± 1.25 µs per loop (mean ± std. dev. of 7 runs, 10,000 loops each)\n"
     ]
    }
   ],
   "source": [
    "%timeit Batch.stack(batches)"
   ]
  },
  {
   "cell_type": "code",
   "execution_count": 27,
   "id": "cb8ab77e",
   "metadata": {
    "execution": {
     "iopub.execute_input": "2023-03-06T19:12:16.866524Z",
     "iopub.status.busy": "2023-03-06T19:12:16.866001Z",
     "iopub.status.idle": "2023-03-06T19:12:16.875886Z",
     "shell.execute_reply": "2023-03-06T19:12:16.874765Z"
    }
   },
   "outputs": [
    {
     "data": {
      "text/plain": [
       "Batch(\n",
       "    x: Batch(\n",
       "           c: tensor([[ 0.0862, -0.3897, -0.8018,  1.2213],\n",
       "                      [ 1.1840,  0.7789, -0.4008, -0.7288],\n",
       "                      [ 0.7409,  0.3764, -1.2956, -0.8829],\n",
       "                      [ 0.0862, -0.3897, -0.8018,  1.2213],\n",
       "                      [ 1.1840,  0.7789, -0.4008, -0.7288],\n",
       "                      [ 0.7409,  0.3764, -1.2956, -0.8829],\n",
       "                      [ 0.0862, -0.3897, -0.8018,  1.2213],\n",
       "                      [ 1.1840,  0.7789, -0.4008, -0.7288],\n",
       "                      [ 0.7409,  0.3764, -1.2956, -0.8829],\n",
       "                      [ 0.0862, -0.3897, -0.8018,  1.2213],\n",
       "                      [ 1.1840,  0.7789, -0.4008, -0.7288],\n",
       "                      [ 0.7409,  0.3764, -1.2956, -0.8829],\n",
       "                      [ 0.0862, -0.3897, -0.8018,  1.2213],\n",
       "                      [ 1.1840,  0.7789, -0.4008, -0.7288],\n",
       "                      [ 0.7409,  0.3764, -1.2956, -0.8829],\n",
       "                      [ 0.0862, -0.3897, -0.8018,  1.2213],\n",
       "                      [ 1.1840,  0.7789, -0.4008, -0.7288],\n",
       "                      [ 0.7409,  0.3764, -1.2956, -0.8829],\n",
       "                      [ 0.0862, -0.3897, -0.8018,  1.2213],\n",
       "                      [ 1.1840,  0.7789, -0.4008, -0.7288],\n",
       "                      [ 0.7409,  0.3764, -1.2956, -0.8829],\n",
       "                      [ 0.0862, -0.3897, -0.8018,  1.2213],\n",
       "                      [ 1.1840,  0.7789, -0.4008, -0.7288],\n",
       "                      [ 0.7409,  0.3764, -1.2956, -0.8829]]),\n",
       "       ),\n",
       "    a: tensor([[ 0.9439,  0.6408, -0.8329],\n",
       "               [ 0.5009, -1.3121, -0.2734],\n",
       "               [ 0.9439,  0.6408, -0.8329],\n",
       "               [ 0.5009, -1.3121, -0.2734],\n",
       "               [ 0.9439,  0.6408, -0.8329],\n",
       "               [ 0.5009, -1.3121, -0.2734],\n",
       "               [ 0.9439,  0.6408, -0.8329],\n",
       "               [ 0.5009, -1.3121, -0.2734],\n",
       "               [ 0.9439,  0.6408, -0.8329],\n",
       "               [ 0.5009, -1.3121, -0.2734],\n",
       "               [ 0.9439,  0.6408, -0.8329],\n",
       "               [ 0.5009, -1.3121, -0.2734],\n",
       "               [ 0.9439,  0.6408, -0.8329],\n",
       "               [ 0.5009, -1.3121, -0.2734],\n",
       "               [ 0.9439,  0.6408, -0.8329],\n",
       "               [ 0.5009, -1.3121, -0.2734]]),\n",
       ")"
      ]
     },
     "execution_count": 27,
     "metadata": {},
     "output_type": "execute_result"
    }
   ],
   "source": [
    "Batch.cat(batches)"
   ]
  },
  {
   "cell_type": "code",
   "execution_count": 28,
   "id": "18dfb045",
   "metadata": {
    "execution": {
     "iopub.execute_input": "2023-03-06T19:12:16.879724Z",
     "iopub.status.busy": "2023-03-06T19:12:16.879317Z",
     "iopub.status.idle": "2023-03-06T19:12:32.556102Z",
     "shell.execute_reply": "2023-03-06T19:12:32.555205Z"
    }
   },
   "outputs": [
    {
     "name": "stdout",
     "output_type": "stream",
     "text": [
      "193 µs ± 6.6 µs per loop (mean ± std. dev. of 7 runs, 10,000 loops each)\n"
     ]
    }
   ],
   "source": [
    "%timeit Batch.cat(batches)"
   ]
  },
  {
   "cell_type": "code",
   "execution_count": 29,
   "id": "c6688e51",
   "metadata": {
    "execution": {
     "iopub.execute_input": "2023-03-06T19:12:32.560506Z",
     "iopub.status.busy": "2023-03-06T19:12:32.559573Z",
     "iopub.status.idle": "2023-03-06T19:12:37.373393Z",
     "shell.execute_reply": "2023-03-06T19:12:37.372443Z"
    }
   },
   "outputs": [
    {
     "name": "stdout",
     "output_type": "stream",
     "text": [
      "591 µs ± 19.8 µs per loop (mean ± std. dev. of 7 runs, 1,000 loops each)\n"
     ]
    }
   ],
   "source": [
    "batch = Batch({\n",
    "    'obs': torch.randn(8, 4, 84, 84),\n",
    "    'action': torch.randint(0, 6, size=(8, 1,)),\n",
    "    'reward': torch.rand(8, 1)}\n",
    ")\n",
    "\n",
    "%timeit list(Batch.split(batch, 1, shuffle=False, merge_last=True))"
   ]
  },
  {
   "cell_type": "code",
   "execution_count": null,
   "id": "2539fbd9",
   "metadata": {},
   "outputs": [],
   "source": []
  }
 ],
 "metadata": {
  "kernelspec": {
   "display_name": "Python 3 (ipykernel)",
   "language": "python",
   "name": "python3"
  },
  "language_info": {
   "codemirror_mode": {
    "name": "ipython",
    "version": 3
   },
   "file_extension": ".py",
   "mimetype": "text/x-python",
   "name": "python",
   "nbconvert_exporter": "python",
   "pygments_lexer": "ipython3",
   "version": "3.8.16"
  }
 },
 "nbformat": 4,
 "nbformat_minor": 5
}
