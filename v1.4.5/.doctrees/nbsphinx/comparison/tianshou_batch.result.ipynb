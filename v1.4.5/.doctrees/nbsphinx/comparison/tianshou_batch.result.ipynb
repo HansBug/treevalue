{
 "cells": [
  {
   "cell_type": "markdown",
   "id": "9d39d946",
   "metadata": {},
   "source": [
    "# Comparison Between TreeValue and Tianshou Batch"
   ]
  },
  {
   "cell_type": "markdown",
   "id": "3c6db2d4",
   "metadata": {},
   "source": [
    "In this section, we will take a look at the feature and performance of the [Tianshou Batch](https://github.com/thu-ml/tianshou) library, which is developed by Tsinghua Machine Learning Group."
   ]
  },
  {
   "cell_type": "markdown",
   "id": "069361b0",
   "metadata": {},
   "source": [
    "Before starting the comparison, let us define some thing."
   ]
  },
  {
   "cell_type": "code",
   "execution_count": 1,
   "id": "06fc8d26",
   "metadata": {
    "execution": {
     "iopub.execute_input": "2023-08-11T04:22:49.681515Z",
     "iopub.status.busy": "2023-08-11T04:22:49.681209Z",
     "iopub.status.idle": "2023-08-11T04:22:51.173949Z",
     "shell.execute_reply": "2023-08-11T04:22:51.171855Z"
    }
   },
   "outputs": [],
   "source": [
    "import torch \n",
    "\n",
    "_TREE_DATA_1 = {'a': 1, 'b': 2, 'x': {'c': 3, 'd': 4}}\n",
    "_TREE_DATA_2 = {\n",
    "    'a': torch.randn(2, 3), \n",
    "    'x': {\n",
    "        'c': torch.randn(3, 4)\n",
    "    },\n",
    "}\n",
    "_TREE_DATA_3 = {\n",
    "    'obs': torch.randn(4, 84, 84),\n",
    "    'action': torch.randint(0, 6, size=(1,)),\n",
    "    'reward': torch.rand(1),\n",
    "}"
   ]
  },
  {
   "cell_type": "markdown",
   "id": "83461b25",
   "metadata": {},
   "source": [
    "## Read and Write Operation"
   ]
  },
  {
   "cell_type": "markdown",
   "id": "067b3f73",
   "metadata": {},
   "source": [
    "Reading and writing are the two most common operations in the tree data structure based on the data model (TreeValue and Tianshou Batch both belong to this type), so this section will compare the reading and writing performance of these two libraries."
   ]
  },
  {
   "cell_type": "markdown",
   "id": "5d09a5b7",
   "metadata": {},
   "source": [
    "### TreeValue's Get and Set"
   ]
  },
  {
   "cell_type": "code",
   "execution_count": 2,
   "id": "9519c4bb",
   "metadata": {
    "execution": {
     "iopub.execute_input": "2023-08-11T04:22:51.178580Z",
     "iopub.status.busy": "2023-08-11T04:22:51.177935Z",
     "iopub.status.idle": "2023-08-11T04:22:51.210084Z",
     "shell.execute_reply": "2023-08-11T04:22:51.209215Z"
    }
   },
   "outputs": [],
   "source": [
    "from treevalue import FastTreeValue\n",
    "\n",
    "t = FastTreeValue(_TREE_DATA_2)"
   ]
  },
  {
   "cell_type": "code",
   "execution_count": 3,
   "id": "11c37677",
   "metadata": {
    "execution": {
     "iopub.execute_input": "2023-08-11T04:22:51.214720Z",
     "iopub.status.busy": "2023-08-11T04:22:51.214270Z",
     "iopub.status.idle": "2023-08-11T04:22:51.225928Z",
     "shell.execute_reply": "2023-08-11T04:22:51.225174Z"
    }
   },
   "outputs": [
    {
     "data": {
      "text/plain": [
       "<FastTreeValue 0x7efe6cf7d9a0>\n",
       "├── 'a' --> tensor([[-0.2425,  1.4784,  0.1745],\n",
       "│                   [ 0.9078,  0.0636,  0.9765]])\n",
       "└── 'x' --> <FastTreeValue 0x7efe810ba760>\n",
       "    └── 'c' --> tensor([[ 1.5277, -0.8325,  0.1780,  1.0732],\n",
       "                        [-0.1768,  1.0798,  0.2224,  0.1723],\n",
       "                        [ 0.0393, -1.0571, -1.4041,  0.4009]])"
      ]
     },
     "execution_count": 3,
     "metadata": {},
     "output_type": "execute_result"
    }
   ],
   "source": [
    "t"
   ]
  },
  {
   "cell_type": "code",
   "execution_count": 4,
   "id": "fd70b0b9",
   "metadata": {
    "execution": {
     "iopub.execute_input": "2023-08-11T04:22:51.229657Z",
     "iopub.status.busy": "2023-08-11T04:22:51.229123Z",
     "iopub.status.idle": "2023-08-11T04:22:51.236906Z",
     "shell.execute_reply": "2023-08-11T04:22:51.236175Z"
    }
   },
   "outputs": [
    {
     "data": {
      "text/plain": [
       "tensor([[-0.2425,  1.4784,  0.1745],\n",
       "        [ 0.9078,  0.0636,  0.9765]])"
      ]
     },
     "execution_count": 4,
     "metadata": {},
     "output_type": "execute_result"
    }
   ],
   "source": [
    "t.a"
   ]
  },
  {
   "cell_type": "code",
   "execution_count": 5,
   "id": "c18197bd",
   "metadata": {
    "execution": {
     "iopub.execute_input": "2023-08-11T04:22:51.240711Z",
     "iopub.status.busy": "2023-08-11T04:22:51.240099Z",
     "iopub.status.idle": "2023-08-11T04:22:57.102833Z",
     "shell.execute_reply": "2023-08-11T04:22:57.101786Z"
    }
   },
   "outputs": [
    {
     "name": "stdout",
     "output_type": "stream",
     "text": [
      "72.1 ns ± 0.104 ns per loop (mean ± std. dev. of 7 runs, 10,000,000 loops each)\n"
     ]
    }
   ],
   "source": [
    "%timeit t.a"
   ]
  },
  {
   "cell_type": "code",
   "execution_count": 6,
   "id": "bd52f867",
   "metadata": {
    "execution": {
     "iopub.execute_input": "2023-08-11T04:22:57.107598Z",
     "iopub.status.busy": "2023-08-11T04:22:57.106886Z",
     "iopub.status.idle": "2023-08-11T04:22:57.115780Z",
     "shell.execute_reply": "2023-08-11T04:22:57.115011Z"
    }
   },
   "outputs": [
    {
     "data": {
      "text/plain": [
       "<FastTreeValue 0x7efe6cf7d9a0>\n",
       "├── 'a' --> tensor([[ 1.1347, -2.5695,  1.7699],\n",
       "│                   [-0.7178,  0.3784, -0.5087]])\n",
       "└── 'x' --> <FastTreeValue 0x7efe810ba760>\n",
       "    └── 'c' --> tensor([[ 1.5277, -0.8325,  0.1780,  1.0732],\n",
       "                        [-0.1768,  1.0798,  0.2224,  0.1723],\n",
       "                        [ 0.0393, -1.0571, -1.4041,  0.4009]])"
      ]
     },
     "execution_count": 6,
     "metadata": {},
     "output_type": "execute_result"
    }
   ],
   "source": [
    "new_value = torch.randn(2, 3)\n",
    "t.a = new_value\n",
    "\n",
    "t"
   ]
  },
  {
   "cell_type": "code",
   "execution_count": 7,
   "id": "bbe04d1c",
   "metadata": {
    "execution": {
     "iopub.execute_input": "2023-08-11T04:22:57.119259Z",
     "iopub.status.busy": "2023-08-11T04:22:57.118794Z",
     "iopub.status.idle": "2023-08-11T04:23:03.110711Z",
     "shell.execute_reply": "2023-08-11T04:23:03.109908Z"
    }
   },
   "outputs": [
    {
     "name": "stdout",
     "output_type": "stream",
     "text": [
      "73.7 ns ± 0.052 ns per loop (mean ± std. dev. of 7 runs, 10,000,000 loops each)\n"
     ]
    }
   ],
   "source": [
    "%timeit t.a = new_value"
   ]
  },
  {
   "cell_type": "markdown",
   "id": "48c49731",
   "metadata": {},
   "source": [
    "### Tianshou Batch's Get and Set"
   ]
  },
  {
   "cell_type": "code",
   "execution_count": 8,
   "id": "f1bb14c1",
   "metadata": {
    "execution": {
     "iopub.execute_input": "2023-08-11T04:23:03.114621Z",
     "iopub.status.busy": "2023-08-11T04:23:03.114046Z",
     "iopub.status.idle": "2023-08-11T04:23:03.519649Z",
     "shell.execute_reply": "2023-08-11T04:23:03.518814Z"
    }
   },
   "outputs": [],
   "source": [
    "from tianshou.data import Batch\n",
    "\n",
    "b = Batch(**_TREE_DATA_2)"
   ]
  },
  {
   "cell_type": "code",
   "execution_count": 9,
   "id": "cb0777c3",
   "metadata": {
    "execution": {
     "iopub.execute_input": "2023-08-11T04:23:03.524252Z",
     "iopub.status.busy": "2023-08-11T04:23:03.523612Z",
     "iopub.status.idle": "2023-08-11T04:23:03.530598Z",
     "shell.execute_reply": "2023-08-11T04:23:03.529775Z"
    }
   },
   "outputs": [
    {
     "data": {
      "text/plain": [
       "Batch(\n",
       "    a: tensor([[-0.2425,  1.4784,  0.1745],\n",
       "               [ 0.9078,  0.0636,  0.9765]]),\n",
       "    x: Batch(\n",
       "           c: tensor([[ 1.5277, -0.8325,  0.1780,  1.0732],\n",
       "                      [-0.1768,  1.0798,  0.2224,  0.1723],\n",
       "                      [ 0.0393, -1.0571, -1.4041,  0.4009]]),\n",
       "       ),\n",
       ")"
      ]
     },
     "execution_count": 9,
     "metadata": {},
     "output_type": "execute_result"
    }
   ],
   "source": [
    "b"
   ]
  },
  {
   "cell_type": "code",
   "execution_count": 10,
   "id": "43ef8ea3",
   "metadata": {
    "execution": {
     "iopub.execute_input": "2023-08-11T04:23:03.534111Z",
     "iopub.status.busy": "2023-08-11T04:23:03.533565Z",
     "iopub.status.idle": "2023-08-11T04:23:03.539172Z",
     "shell.execute_reply": "2023-08-11T04:23:03.538435Z"
    }
   },
   "outputs": [
    {
     "data": {
      "text/plain": [
       "tensor([[-0.2425,  1.4784,  0.1745],\n",
       "        [ 0.9078,  0.0636,  0.9765]])"
      ]
     },
     "execution_count": 10,
     "metadata": {},
     "output_type": "execute_result"
    }
   ],
   "source": [
    "b.a"
   ]
  },
  {
   "cell_type": "code",
   "execution_count": 11,
   "id": "b785ab72",
   "metadata": {
    "execution": {
     "iopub.execute_input": "2023-08-11T04:23:03.542450Z",
     "iopub.status.busy": "2023-08-11T04:23:03.541962Z",
     "iopub.status.idle": "2023-08-11T04:23:09.209312Z",
     "shell.execute_reply": "2023-08-11T04:23:09.208471Z"
    }
   },
   "outputs": [
    {
     "name": "stdout",
     "output_type": "stream",
     "text": [
      "69.9 ns ± 0.0582 ns per loop (mean ± std. dev. of 7 runs, 10,000,000 loops each)\n"
     ]
    }
   ],
   "source": [
    "%timeit b.a"
   ]
  },
  {
   "cell_type": "code",
   "execution_count": 12,
   "id": "ad54dc69",
   "metadata": {
    "execution": {
     "iopub.execute_input": "2023-08-11T04:23:09.212858Z",
     "iopub.status.busy": "2023-08-11T04:23:09.212325Z",
     "iopub.status.idle": "2023-08-11T04:23:09.218942Z",
     "shell.execute_reply": "2023-08-11T04:23:09.218172Z"
    }
   },
   "outputs": [
    {
     "data": {
      "text/plain": [
       "Batch(\n",
       "    a: tensor([[-2.0994, -0.4507,  0.5695],\n",
       "               [ 0.4978,  0.9433, -2.4549]]),\n",
       "    x: Batch(\n",
       "           c: tensor([[ 1.5277, -0.8325,  0.1780,  1.0732],\n",
       "                      [-0.1768,  1.0798,  0.2224,  0.1723],\n",
       "                      [ 0.0393, -1.0571, -1.4041,  0.4009]]),\n",
       "       ),\n",
       ")"
      ]
     },
     "execution_count": 12,
     "metadata": {},
     "output_type": "execute_result"
    }
   ],
   "source": [
    "new_value = torch.randn(2, 3)\n",
    "b.a = new_value\n",
    "\n",
    "b"
   ]
  },
  {
   "cell_type": "code",
   "execution_count": 13,
   "id": "29b1d0bf",
   "metadata": {
    "execution": {
     "iopub.execute_input": "2023-08-11T04:23:09.222285Z",
     "iopub.status.busy": "2023-08-11T04:23:09.221694Z",
     "iopub.status.idle": "2023-08-11T04:23:13.681604Z",
     "shell.execute_reply": "2023-08-11T04:23:13.679908Z"
    }
   },
   "outputs": [
    {
     "name": "stdout",
     "output_type": "stream",
     "text": [
      "549 ns ± 0.0874 ns per loop (mean ± std. dev. of 7 runs, 1,000,000 loops each)\n"
     ]
    }
   ],
   "source": [
    "%timeit b.a = new_value"
   ]
  },
  {
   "cell_type": "markdown",
   "id": "b61ad1d0",
   "metadata": {},
   "source": [
    "## Initialization"
   ]
  },
  {
   "cell_type": "markdown",
   "id": "d70f0d54",
   "metadata": {},
   "source": [
    "### TreeValue's Initialization"
   ]
  },
  {
   "cell_type": "code",
   "execution_count": 14,
   "id": "d32a679b",
   "metadata": {
    "execution": {
     "iopub.execute_input": "2023-08-11T04:23:13.685591Z",
     "iopub.status.busy": "2023-08-11T04:23:13.685125Z",
     "iopub.status.idle": "2023-08-11T04:23:21.143529Z",
     "shell.execute_reply": "2023-08-11T04:23:21.141950Z"
    }
   },
   "outputs": [
    {
     "name": "stdout",
     "output_type": "stream",
     "text": [
      "918 ns ± 6.94 ns per loop (mean ± std. dev. of 7 runs, 1,000,000 loops each)\n"
     ]
    }
   ],
   "source": [
    "%timeit FastTreeValue(_TREE_DATA_1)"
   ]
  },
  {
   "cell_type": "markdown",
   "id": "24f3707b",
   "metadata": {},
   "source": [
    "### Tianshou Batch's Initialization"
   ]
  },
  {
   "cell_type": "code",
   "execution_count": 15,
   "id": "ac3958df",
   "metadata": {
    "execution": {
     "iopub.execute_input": "2023-08-11T04:23:21.147366Z",
     "iopub.status.busy": "2023-08-11T04:23:21.146929Z",
     "iopub.status.idle": "2023-08-11T04:23:30.535709Z",
     "shell.execute_reply": "2023-08-11T04:23:30.534973Z"
    }
   },
   "outputs": [
    {
     "name": "stdout",
     "output_type": "stream",
     "text": [
      "11.6 µs ± 42.2 ns per loop (mean ± std. dev. of 7 runs, 100,000 loops each)\n"
     ]
    }
   ],
   "source": [
    "%timeit Batch(**_TREE_DATA_1)"
   ]
  },
  {
   "cell_type": "markdown",
   "id": "1ab82e2d",
   "metadata": {},
   "source": [
    "## Deep Copy Operation"
   ]
  },
  {
   "cell_type": "code",
   "execution_count": 16,
   "id": "210a9442",
   "metadata": {
    "execution": {
     "iopub.execute_input": "2023-08-11T04:23:30.539369Z",
     "iopub.status.busy": "2023-08-11T04:23:30.538857Z",
     "iopub.status.idle": "2023-08-11T04:23:30.542344Z",
     "shell.execute_reply": "2023-08-11T04:23:30.541596Z"
    }
   },
   "outputs": [],
   "source": [
    "import copy"
   ]
  },
  {
   "cell_type": "markdown",
   "id": "5a736274",
   "metadata": {},
   "source": [
    "### Deep Copy of TreeValue"
   ]
  },
  {
   "cell_type": "code",
   "execution_count": 17,
   "id": "f9bcadd6",
   "metadata": {
    "execution": {
     "iopub.execute_input": "2023-08-11T04:23:30.546057Z",
     "iopub.status.busy": "2023-08-11T04:23:30.545579Z",
     "iopub.status.idle": "2023-08-11T04:23:42.377555Z",
     "shell.execute_reply": "2023-08-11T04:23:42.376819Z"
    }
   },
   "outputs": [
    {
     "name": "stdout",
     "output_type": "stream",
     "text": [
      "146 µs ± 604 ns per loop (mean ± std. dev. of 7 runs, 10,000 loops each)\n"
     ]
    }
   ],
   "source": [
    "t3 = FastTreeValue(_TREE_DATA_3)\n",
    "%timeit copy.deepcopy(t3)"
   ]
  },
  {
   "cell_type": "markdown",
   "id": "bf8be7ea",
   "metadata": {},
   "source": [
    "### Deep Copy of Tianshou Batch"
   ]
  },
  {
   "cell_type": "code",
   "execution_count": 18,
   "id": "91998e6f",
   "metadata": {
    "execution": {
     "iopub.execute_input": "2023-08-11T04:23:42.382250Z",
     "iopub.status.busy": "2023-08-11T04:23:42.381507Z",
     "iopub.status.idle": "2023-08-11T04:23:54.213204Z",
     "shell.execute_reply": "2023-08-11T04:23:54.212474Z"
    }
   },
   "outputs": [
    {
     "name": "stdout",
     "output_type": "stream",
     "text": [
      "146 µs ± 928 ns per loop (mean ± std. dev. of 7 runs, 10,000 loops each)\n"
     ]
    }
   ],
   "source": [
    "b3 = Batch(**_TREE_DATA_3)\n",
    "%timeit copy.deepcopy(b3)"
   ]
  },
  {
   "cell_type": "markdown",
   "id": "223162fb",
   "metadata": {},
   "source": [
    "## Stack, Concat and Split Operation"
   ]
  },
  {
   "cell_type": "markdown",
   "id": "85fa4a73",
   "metadata": {},
   "source": [
    "### Performance of TreeValue"
   ]
  },
  {
   "cell_type": "code",
   "execution_count": 19,
   "id": "a0c2b697",
   "metadata": {
    "execution": {
     "iopub.execute_input": "2023-08-11T04:23:54.217199Z",
     "iopub.status.busy": "2023-08-11T04:23:54.216570Z",
     "iopub.status.idle": "2023-08-11T04:23:54.220456Z",
     "shell.execute_reply": "2023-08-11T04:23:54.219688Z"
    }
   },
   "outputs": [],
   "source": [
    "trees = [FastTreeValue(_TREE_DATA_2) for _ in range(8)]"
   ]
  },
  {
   "cell_type": "code",
   "execution_count": 20,
   "id": "017ea5a5",
   "metadata": {
    "execution": {
     "iopub.execute_input": "2023-08-11T04:23:54.224123Z",
     "iopub.status.busy": "2023-08-11T04:23:54.223468Z",
     "iopub.status.idle": "2023-08-11T04:23:54.231721Z",
     "shell.execute_reply": "2023-08-11T04:23:54.230993Z"
    }
   },
   "outputs": [
    {
     "data": {
      "text/plain": [
       "<FastTreeValue 0x7efdb95c40d0>\n",
       "├── 'a' --> tensor([[[-0.2425,  1.4784,  0.1745],\n",
       "│                    [ 0.9078,  0.0636,  0.9765]],\n",
       "│           \n",
       "│                   [[-0.2425,  1.4784,  0.1745],\n",
       "│                    [ 0.9078,  0.0636,  0.9765]],\n",
       "│           \n",
       "│                   [[-0.2425,  1.4784,  0.1745],\n",
       "│                    [ 0.9078,  0.0636,  0.9765]],\n",
       "│           \n",
       "│                   [[-0.2425,  1.4784,  0.1745],\n",
       "│                    [ 0.9078,  0.0636,  0.9765]],\n",
       "│           \n",
       "│                   [[-0.2425,  1.4784,  0.1745],\n",
       "│                    [ 0.9078,  0.0636,  0.9765]],\n",
       "│           \n",
       "│                   [[-0.2425,  1.4784,  0.1745],\n",
       "│                    [ 0.9078,  0.0636,  0.9765]],\n",
       "│           \n",
       "│                   [[-0.2425,  1.4784,  0.1745],\n",
       "│                    [ 0.9078,  0.0636,  0.9765]],\n",
       "│           \n",
       "│                   [[-0.2425,  1.4784,  0.1745],\n",
       "│                    [ 0.9078,  0.0636,  0.9765]]])\n",
       "└── 'x' --> <FastTreeValue 0x7efdb93c5670>\n",
       "    └── 'c' --> tensor([[[ 1.5277, -0.8325,  0.1780,  1.0732],\n",
       "                         [-0.1768,  1.0798,  0.2224,  0.1723],\n",
       "                         [ 0.0393, -1.0571, -1.4041,  0.4009]],\n",
       "                \n",
       "                        [[ 1.5277, -0.8325,  0.1780,  1.0732],\n",
       "                         [-0.1768,  1.0798,  0.2224,  0.1723],\n",
       "                         [ 0.0393, -1.0571, -1.4041,  0.4009]],\n",
       "                \n",
       "                        [[ 1.5277, -0.8325,  0.1780,  1.0732],\n",
       "                         [-0.1768,  1.0798,  0.2224,  0.1723],\n",
       "                         [ 0.0393, -1.0571, -1.4041,  0.4009]],\n",
       "                \n",
       "                        [[ 1.5277, -0.8325,  0.1780,  1.0732],\n",
       "                         [-0.1768,  1.0798,  0.2224,  0.1723],\n",
       "                         [ 0.0393, -1.0571, -1.4041,  0.4009]],\n",
       "                \n",
       "                        [[ 1.5277, -0.8325,  0.1780,  1.0732],\n",
       "                         [-0.1768,  1.0798,  0.2224,  0.1723],\n",
       "                         [ 0.0393, -1.0571, -1.4041,  0.4009]],\n",
       "                \n",
       "                        [[ 1.5277, -0.8325,  0.1780,  1.0732],\n",
       "                         [-0.1768,  1.0798,  0.2224,  0.1723],\n",
       "                         [ 0.0393, -1.0571, -1.4041,  0.4009]],\n",
       "                \n",
       "                        [[ 1.5277, -0.8325,  0.1780,  1.0732],\n",
       "                         [-0.1768,  1.0798,  0.2224,  0.1723],\n",
       "                         [ 0.0393, -1.0571, -1.4041,  0.4009]],\n",
       "                \n",
       "                        [[ 1.5277, -0.8325,  0.1780,  1.0732],\n",
       "                         [-0.1768,  1.0798,  0.2224,  0.1723],\n",
       "                         [ 0.0393, -1.0571, -1.4041,  0.4009]]])"
      ]
     },
     "execution_count": 20,
     "metadata": {},
     "output_type": "execute_result"
    }
   ],
   "source": [
    "t_stack = FastTreeValue.func(subside=True)(torch.stack)\n",
    "\n",
    "t_stack(trees)"
   ]
  },
  {
   "cell_type": "code",
   "execution_count": 21,
   "id": "f8b3f415",
   "metadata": {
    "execution": {
     "iopub.execute_input": "2023-08-11T04:23:54.235211Z",
     "iopub.status.busy": "2023-08-11T04:23:54.234544Z",
     "iopub.status.idle": "2023-08-11T04:23:56.944685Z",
     "shell.execute_reply": "2023-08-11T04:23:56.943744Z"
    }
   },
   "outputs": [
    {
     "name": "stdout",
     "output_type": "stream",
     "text": [
      "33.3 µs ± 19.5 ns per loop (mean ± std. dev. of 7 runs, 10,000 loops each)\n"
     ]
    }
   ],
   "source": [
    "%timeit t_stack(trees)"
   ]
  },
  {
   "cell_type": "code",
   "execution_count": 22,
   "id": "94b56771",
   "metadata": {
    "execution": {
     "iopub.execute_input": "2023-08-11T04:23:56.948624Z",
     "iopub.status.busy": "2023-08-11T04:23:56.948191Z",
     "iopub.status.idle": "2023-08-11T04:23:56.956382Z",
     "shell.execute_reply": "2023-08-11T04:23:56.955572Z"
    }
   },
   "outputs": [
    {
     "data": {
      "text/plain": [
       "<FastTreeValue 0x7efe810d2a90>\n",
       "├── 'a' --> tensor([[-0.2425,  1.4784,  0.1745],\n",
       "│                   [ 0.9078,  0.0636,  0.9765],\n",
       "│                   [-0.2425,  1.4784,  0.1745],\n",
       "│                   [ 0.9078,  0.0636,  0.9765],\n",
       "│                   [-0.2425,  1.4784,  0.1745],\n",
       "│                   [ 0.9078,  0.0636,  0.9765],\n",
       "│                   [-0.2425,  1.4784,  0.1745],\n",
       "│                   [ 0.9078,  0.0636,  0.9765],\n",
       "│                   [-0.2425,  1.4784,  0.1745],\n",
       "│                   [ 0.9078,  0.0636,  0.9765],\n",
       "│                   [-0.2425,  1.4784,  0.1745],\n",
       "│                   [ 0.9078,  0.0636,  0.9765],\n",
       "│                   [-0.2425,  1.4784,  0.1745],\n",
       "│                   [ 0.9078,  0.0636,  0.9765],\n",
       "│                   [-0.2425,  1.4784,  0.1745],\n",
       "│                   [ 0.9078,  0.0636,  0.9765]])\n",
       "└── 'x' --> <FastTreeValue 0x7efdb1213df0>\n",
       "    └── 'c' --> tensor([[ 1.5277, -0.8325,  0.1780,  1.0732],\n",
       "                        [-0.1768,  1.0798,  0.2224,  0.1723],\n",
       "                        [ 0.0393, -1.0571, -1.4041,  0.4009],\n",
       "                        [ 1.5277, -0.8325,  0.1780,  1.0732],\n",
       "                        [-0.1768,  1.0798,  0.2224,  0.1723],\n",
       "                        [ 0.0393, -1.0571, -1.4041,  0.4009],\n",
       "                        [ 1.5277, -0.8325,  0.1780,  1.0732],\n",
       "                        [-0.1768,  1.0798,  0.2224,  0.1723],\n",
       "                        [ 0.0393, -1.0571, -1.4041,  0.4009],\n",
       "                        [ 1.5277, -0.8325,  0.1780,  1.0732],\n",
       "                        [-0.1768,  1.0798,  0.2224,  0.1723],\n",
       "                        [ 0.0393, -1.0571, -1.4041,  0.4009],\n",
       "                        [ 1.5277, -0.8325,  0.1780,  1.0732],\n",
       "                        [-0.1768,  1.0798,  0.2224,  0.1723],\n",
       "                        [ 0.0393, -1.0571, -1.4041,  0.4009],\n",
       "                        [ 1.5277, -0.8325,  0.1780,  1.0732],\n",
       "                        [-0.1768,  1.0798,  0.2224,  0.1723],\n",
       "                        [ 0.0393, -1.0571, -1.4041,  0.4009],\n",
       "                        [ 1.5277, -0.8325,  0.1780,  1.0732],\n",
       "                        [-0.1768,  1.0798,  0.2224,  0.1723],\n",
       "                        [ 0.0393, -1.0571, -1.4041,  0.4009],\n",
       "                        [ 1.5277, -0.8325,  0.1780,  1.0732],\n",
       "                        [-0.1768,  1.0798,  0.2224,  0.1723],\n",
       "                        [ 0.0393, -1.0571, -1.4041,  0.4009]])"
      ]
     },
     "execution_count": 22,
     "metadata": {},
     "output_type": "execute_result"
    }
   ],
   "source": [
    "t_cat = FastTreeValue.func(subside=True)(torch.cat)\n",
    "\n",
    "t_cat(trees)"
   ]
  },
  {
   "cell_type": "code",
   "execution_count": 23,
   "id": "5e9c06a6",
   "metadata": {
    "execution": {
     "iopub.execute_input": "2023-08-11T04:23:56.959870Z",
     "iopub.status.busy": "2023-08-11T04:23:56.959330Z",
     "iopub.status.idle": "2023-08-11T04:23:59.522873Z",
     "shell.execute_reply": "2023-08-11T04:23:59.522089Z"
    }
   },
   "outputs": [
    {
     "name": "stdout",
     "output_type": "stream",
     "text": [
      "31.5 µs ± 58 ns per loop (mean ± std. dev. of 7 runs, 10,000 loops each)\n"
     ]
    }
   ],
   "source": [
    "%timeit t_cat(trees)"
   ]
  },
  {
   "cell_type": "code",
   "execution_count": 24,
   "id": "a3ab5c8f",
   "metadata": {
    "execution": {
     "iopub.execute_input": "2023-08-11T04:23:59.526578Z",
     "iopub.status.busy": "2023-08-11T04:23:59.526066Z",
     "iopub.status.idle": "2023-08-11T04:24:05.072620Z",
     "shell.execute_reply": "2023-08-11T04:24:05.071818Z"
    }
   },
   "outputs": [
    {
     "name": "stdout",
     "output_type": "stream",
     "text": [
      "68.2 µs ± 68.3 ns per loop (mean ± std. dev. of 7 runs, 10,000 loops each)\n"
     ]
    }
   ],
   "source": [
    "t_split = FastTreeValue.func(rise=True)(torch.split)\n",
    "tree = FastTreeValue({\n",
    "    'obs': torch.randn(8, 4, 84, 84),\n",
    "    'action': torch.randint(0, 6, size=(8, 1,)),\n",
    "    'reward': torch.rand(8, 1),\n",
    "})\n",
    "\n",
    "%timeit t_split(tree, 1)"
   ]
  },
  {
   "cell_type": "markdown",
   "id": "31c3ec0b",
   "metadata": {},
   "source": [
    "### Performance of Tianshou Batch"
   ]
  },
  {
   "cell_type": "code",
   "execution_count": 25,
   "id": "9ead828a",
   "metadata": {
    "execution": {
     "iopub.execute_input": "2023-08-11T04:24:05.076398Z",
     "iopub.status.busy": "2023-08-11T04:24:05.075835Z",
     "iopub.status.idle": "2023-08-11T04:24:05.084142Z",
     "shell.execute_reply": "2023-08-11T04:24:05.083391Z"
    }
   },
   "outputs": [
    {
     "data": {
      "text/plain": [
       "Batch(\n",
       "    a: tensor([[[-0.2425,  1.4784,  0.1745],\n",
       "                [ 0.9078,  0.0636,  0.9765]],\n",
       "       \n",
       "               [[-0.2425,  1.4784,  0.1745],\n",
       "                [ 0.9078,  0.0636,  0.9765]],\n",
       "       \n",
       "               [[-0.2425,  1.4784,  0.1745],\n",
       "                [ 0.9078,  0.0636,  0.9765]],\n",
       "       \n",
       "               [[-0.2425,  1.4784,  0.1745],\n",
       "                [ 0.9078,  0.0636,  0.9765]],\n",
       "       \n",
       "               [[-0.2425,  1.4784,  0.1745],\n",
       "                [ 0.9078,  0.0636,  0.9765]],\n",
       "       \n",
       "               [[-0.2425,  1.4784,  0.1745],\n",
       "                [ 0.9078,  0.0636,  0.9765]],\n",
       "       \n",
       "               [[-0.2425,  1.4784,  0.1745],\n",
       "                [ 0.9078,  0.0636,  0.9765]],\n",
       "       \n",
       "               [[-0.2425,  1.4784,  0.1745],\n",
       "                [ 0.9078,  0.0636,  0.9765]]]),\n",
       "    x: Batch(\n",
       "           c: tensor([[[ 1.5277, -0.8325,  0.1780,  1.0732],\n",
       "                       [-0.1768,  1.0798,  0.2224,  0.1723],\n",
       "                       [ 0.0393, -1.0571, -1.4041,  0.4009]],\n",
       "              \n",
       "                      [[ 1.5277, -0.8325,  0.1780,  1.0732],\n",
       "                       [-0.1768,  1.0798,  0.2224,  0.1723],\n",
       "                       [ 0.0393, -1.0571, -1.4041,  0.4009]],\n",
       "              \n",
       "                      [[ 1.5277, -0.8325,  0.1780,  1.0732],\n",
       "                       [-0.1768,  1.0798,  0.2224,  0.1723],\n",
       "                       [ 0.0393, -1.0571, -1.4041,  0.4009]],\n",
       "              \n",
       "                      [[ 1.5277, -0.8325,  0.1780,  1.0732],\n",
       "                       [-0.1768,  1.0798,  0.2224,  0.1723],\n",
       "                       [ 0.0393, -1.0571, -1.4041,  0.4009]],\n",
       "              \n",
       "                      [[ 1.5277, -0.8325,  0.1780,  1.0732],\n",
       "                       [-0.1768,  1.0798,  0.2224,  0.1723],\n",
       "                       [ 0.0393, -1.0571, -1.4041,  0.4009]],\n",
       "              \n",
       "                      [[ 1.5277, -0.8325,  0.1780,  1.0732],\n",
       "                       [-0.1768,  1.0798,  0.2224,  0.1723],\n",
       "                       [ 0.0393, -1.0571, -1.4041,  0.4009]],\n",
       "              \n",
       "                      [[ 1.5277, -0.8325,  0.1780,  1.0732],\n",
       "                       [-0.1768,  1.0798,  0.2224,  0.1723],\n",
       "                       [ 0.0393, -1.0571, -1.4041,  0.4009]],\n",
       "              \n",
       "                      [[ 1.5277, -0.8325,  0.1780,  1.0732],\n",
       "                       [-0.1768,  1.0798,  0.2224,  0.1723],\n",
       "                       [ 0.0393, -1.0571, -1.4041,  0.4009]]]),\n",
       "       ),\n",
       ")"
      ]
     },
     "execution_count": 25,
     "metadata": {},
     "output_type": "execute_result"
    }
   ],
   "source": [
    "batches = [Batch(**_TREE_DATA_2) for _ in range(8)]\n",
    "\n",
    "Batch.stack(batches)"
   ]
  },
  {
   "cell_type": "code",
   "execution_count": 26,
   "id": "ec9037a3",
   "metadata": {
    "execution": {
     "iopub.execute_input": "2023-08-11T04:24:05.087493Z",
     "iopub.status.busy": "2023-08-11T04:24:05.086930Z",
     "iopub.status.idle": "2023-08-11T04:24:11.845880Z",
     "shell.execute_reply": "2023-08-11T04:24:11.845198Z"
    }
   },
   "outputs": [
    {
     "name": "stdout",
     "output_type": "stream",
     "text": [
      "83.2 µs ± 163 ns per loop (mean ± std. dev. of 7 runs, 10,000 loops each)\n"
     ]
    }
   ],
   "source": [
    "%timeit Batch.stack(batches)"
   ]
  },
  {
   "cell_type": "code",
   "execution_count": 27,
   "id": "cb8ab77e",
   "metadata": {
    "execution": {
     "iopub.execute_input": "2023-08-11T04:24:11.849325Z",
     "iopub.status.busy": "2023-08-11T04:24:11.848787Z",
     "iopub.status.idle": "2023-08-11T04:24:11.856502Z",
     "shell.execute_reply": "2023-08-11T04:24:11.855717Z"
    }
   },
   "outputs": [
    {
     "data": {
      "text/plain": [
       "Batch(\n",
       "    a: tensor([[-0.2425,  1.4784,  0.1745],\n",
       "               [ 0.9078,  0.0636,  0.9765],\n",
       "               [-0.2425,  1.4784,  0.1745],\n",
       "               [ 0.9078,  0.0636,  0.9765],\n",
       "               [-0.2425,  1.4784,  0.1745],\n",
       "               [ 0.9078,  0.0636,  0.9765],\n",
       "               [-0.2425,  1.4784,  0.1745],\n",
       "               [ 0.9078,  0.0636,  0.9765],\n",
       "               [-0.2425,  1.4784,  0.1745],\n",
       "               [ 0.9078,  0.0636,  0.9765],\n",
       "               [-0.2425,  1.4784,  0.1745],\n",
       "               [ 0.9078,  0.0636,  0.9765],\n",
       "               [-0.2425,  1.4784,  0.1745],\n",
       "               [ 0.9078,  0.0636,  0.9765],\n",
       "               [-0.2425,  1.4784,  0.1745],\n",
       "               [ 0.9078,  0.0636,  0.9765]]),\n",
       "    x: Batch(\n",
       "           c: tensor([[ 1.5277, -0.8325,  0.1780,  1.0732],\n",
       "                      [-0.1768,  1.0798,  0.2224,  0.1723],\n",
       "                      [ 0.0393, -1.0571, -1.4041,  0.4009],\n",
       "                      [ 1.5277, -0.8325,  0.1780,  1.0732],\n",
       "                      [-0.1768,  1.0798,  0.2224,  0.1723],\n",
       "                      [ 0.0393, -1.0571, -1.4041,  0.4009],\n",
       "                      [ 1.5277, -0.8325,  0.1780,  1.0732],\n",
       "                      [-0.1768,  1.0798,  0.2224,  0.1723],\n",
       "                      [ 0.0393, -1.0571, -1.4041,  0.4009],\n",
       "                      [ 1.5277, -0.8325,  0.1780,  1.0732],\n",
       "                      [-0.1768,  1.0798,  0.2224,  0.1723],\n",
       "                      [ 0.0393, -1.0571, -1.4041,  0.4009],\n",
       "                      [ 1.5277, -0.8325,  0.1780,  1.0732],\n",
       "                      [-0.1768,  1.0798,  0.2224,  0.1723],\n",
       "                      [ 0.0393, -1.0571, -1.4041,  0.4009],\n",
       "                      [ 1.5277, -0.8325,  0.1780,  1.0732],\n",
       "                      [-0.1768,  1.0798,  0.2224,  0.1723],\n",
       "                      [ 0.0393, -1.0571, -1.4041,  0.4009],\n",
       "                      [ 1.5277, -0.8325,  0.1780,  1.0732],\n",
       "                      [-0.1768,  1.0798,  0.2224,  0.1723],\n",
       "                      [ 0.0393, -1.0571, -1.4041,  0.4009],\n",
       "                      [ 1.5277, -0.8325,  0.1780,  1.0732],\n",
       "                      [-0.1768,  1.0798,  0.2224,  0.1723],\n",
       "                      [ 0.0393, -1.0571, -1.4041,  0.4009]]),\n",
       "       ),\n",
       ")"
      ]
     },
     "execution_count": 27,
     "metadata": {},
     "output_type": "execute_result"
    }
   ],
   "source": [
    "Batch.cat(batches)"
   ]
  },
  {
   "cell_type": "code",
   "execution_count": 28,
   "id": "18dfb045",
   "metadata": {
    "execution": {
     "iopub.execute_input": "2023-08-11T04:24:11.860168Z",
     "iopub.status.busy": "2023-08-11T04:24:11.859651Z",
     "iopub.status.idle": "2023-08-11T04:24:24.298657Z",
     "shell.execute_reply": "2023-08-11T04:24:24.297908Z"
    }
   },
   "outputs": [
    {
     "name": "stdout",
     "output_type": "stream",
     "text": [
      "153 µs ± 520 ns per loop (mean ± std. dev. of 7 runs, 10,000 loops each)\n"
     ]
    }
   ],
   "source": [
    "%timeit Batch.cat(batches)"
   ]
  },
  {
   "cell_type": "code",
   "execution_count": 29,
   "id": "c6688e51",
   "metadata": {
    "execution": {
     "iopub.execute_input": "2023-08-11T04:24:24.302238Z",
     "iopub.status.busy": "2023-08-11T04:24:24.301693Z",
     "iopub.status.idle": "2023-08-11T04:24:31.169963Z",
     "shell.execute_reply": "2023-08-11T04:24:31.169277Z"
    }
   },
   "outputs": [
    {
     "name": "stdout",
     "output_type": "stream",
     "text": [
      "924 µs ± 336 µs per loop (mean ± std. dev. of 7 runs, 1,000 loops each)\n"
     ]
    }
   ],
   "source": [
    "batch = Batch({\n",
    "    'obs': torch.randn(8, 4, 84, 84),\n",
    "    'action': torch.randint(0, 6, size=(8, 1,)),\n",
    "    'reward': torch.rand(8, 1)}\n",
    ")\n",
    "\n",
    "%timeit list(Batch.split(batch, 1, shuffle=False, merge_last=True))"
   ]
  },
  {
   "cell_type": "code",
   "execution_count": null,
   "id": "2539fbd9",
   "metadata": {},
   "outputs": [],
   "source": []
  }
 ],
 "metadata": {
  "kernelspec": {
   "display_name": "Python 3 (ipykernel)",
   "language": "python",
   "name": "python3"
  },
  "language_info": {
   "codemirror_mode": {
    "name": "ipython",
    "version": 3
   },
   "file_extension": ".py",
   "mimetype": "text/x-python",
   "name": "python",
   "nbconvert_exporter": "python",
   "pygments_lexer": "ipython3",
   "version": "3.8.17"
  }
 },
 "nbformat": 4,
 "nbformat_minor": 5
}
