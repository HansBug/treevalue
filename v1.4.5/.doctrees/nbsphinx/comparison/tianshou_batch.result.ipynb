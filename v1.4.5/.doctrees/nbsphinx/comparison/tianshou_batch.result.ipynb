{
 "cells": [
  {
   "cell_type": "markdown",
   "id": "9d39d946",
   "metadata": {},
   "source": [
    "# Comparison Between TreeValue and Tianshou Batch"
   ]
  },
  {
   "cell_type": "markdown",
   "id": "3c6db2d4",
   "metadata": {},
   "source": [
    "In this section, we will take a look at the feature and performance of the [Tianshou Batch](https://github.com/thu-ml/tianshou) library, which is developed by Tsinghua Machine Learning Group."
   ]
  },
  {
   "cell_type": "markdown",
   "id": "069361b0",
   "metadata": {},
   "source": [
    "Before starting the comparison, let us define some thing."
   ]
  },
  {
   "cell_type": "code",
   "execution_count": 1,
   "id": "06fc8d26",
   "metadata": {
    "execution": {
     "iopub.execute_input": "2023-03-06T16:50:17.439992Z",
     "iopub.status.busy": "2023-03-06T16:50:17.439781Z",
     "iopub.status.idle": "2023-03-06T16:50:18.401408Z",
     "shell.execute_reply": "2023-03-06T16:50:18.400713Z"
    }
   },
   "outputs": [
    {
     "name": "stderr",
     "output_type": "stream",
     "text": [
      "/opt/hostedtoolcache/Python/3.8.16/x64/lib/python3.8/site-packages/tqdm/auto.py:21: TqdmWarning: IProgress not found. Please update jupyter and ipywidgets. See https://ipywidgets.readthedocs.io/en/stable/user_install.html\n",
      "  from .autonotebook import tqdm as notebook_tqdm\n"
     ]
    }
   ],
   "source": [
    "import torch \n",
    "\n",
    "_TREE_DATA_1 = {'a': 1, 'b': 2, 'x': {'c': 3, 'd': 4}}\n",
    "_TREE_DATA_2 = {\n",
    "    'a': torch.randn(2, 3), \n",
    "    'x': {\n",
    "        'c': torch.randn(3, 4)\n",
    "    },\n",
    "}\n",
    "_TREE_DATA_3 = {\n",
    "    'obs': torch.randn(4, 84, 84),\n",
    "    'action': torch.randint(0, 6, size=(1,)),\n",
    "    'reward': torch.rand(1),\n",
    "}"
   ]
  },
  {
   "cell_type": "markdown",
   "id": "83461b25",
   "metadata": {},
   "source": [
    "## Read and Write Operation"
   ]
  },
  {
   "cell_type": "markdown",
   "id": "067b3f73",
   "metadata": {},
   "source": [
    "Reading and writing are the two most common operations in the tree data structure based on the data model (TreeValue and Tianshou Batch both belong to this type), so this section will compare the reading and writing performance of these two libraries."
   ]
  },
  {
   "cell_type": "markdown",
   "id": "5d09a5b7",
   "metadata": {},
   "source": [
    "### TreeValue's Get and Set"
   ]
  },
  {
   "cell_type": "code",
   "execution_count": 2,
   "id": "9519c4bb",
   "metadata": {
    "execution": {
     "iopub.execute_input": "2023-03-06T16:50:18.405117Z",
     "iopub.status.busy": "2023-03-06T16:50:18.404678Z",
     "iopub.status.idle": "2023-03-06T16:50:18.438370Z",
     "shell.execute_reply": "2023-03-06T16:50:18.437726Z"
    }
   },
   "outputs": [],
   "source": [
    "from treevalue import FastTreeValue\n",
    "\n",
    "t = FastTreeValue(_TREE_DATA_2)"
   ]
  },
  {
   "cell_type": "code",
   "execution_count": 3,
   "id": "11c37677",
   "metadata": {
    "execution": {
     "iopub.execute_input": "2023-03-06T16:50:18.441521Z",
     "iopub.status.busy": "2023-03-06T16:50:18.440982Z",
     "iopub.status.idle": "2023-03-06T16:50:18.450647Z",
     "shell.execute_reply": "2023-03-06T16:50:18.450045Z"
    }
   },
   "outputs": [
    {
     "data": {
      "text/plain": [
       "<FastTreeValue 0x7f948c604b20>\n",
       "├── 'a' --> tensor([[0.1731, 1.2431, 1.0552],\n",
       "│                   [1.5882, 0.4496, 0.6490]])\n",
       "└── 'x' --> <FastTreeValue 0x7f948c6048e0>\n",
       "    └── 'c' --> tensor([[ 1.0403,  0.9743,  1.6760, -0.5513],\n",
       "                        [ 1.0968, -0.7212, -0.6190,  0.2492],\n",
       "                        [-0.3020, -0.3550, -1.5356,  1.5305]])"
      ]
     },
     "execution_count": 3,
     "metadata": {},
     "output_type": "execute_result"
    }
   ],
   "source": [
    "t"
   ]
  },
  {
   "cell_type": "code",
   "execution_count": 4,
   "id": "fd70b0b9",
   "metadata": {
    "execution": {
     "iopub.execute_input": "2023-03-06T16:50:18.453632Z",
     "iopub.status.busy": "2023-03-06T16:50:18.453136Z",
     "iopub.status.idle": "2023-03-06T16:50:18.459019Z",
     "shell.execute_reply": "2023-03-06T16:50:18.458420Z"
    }
   },
   "outputs": [
    {
     "data": {
      "text/plain": [
       "tensor([[0.1731, 1.2431, 1.0552],\n",
       "        [1.5882, 0.4496, 0.6490]])"
      ]
     },
     "execution_count": 4,
     "metadata": {},
     "output_type": "execute_result"
    }
   ],
   "source": [
    "t.a"
   ]
  },
  {
   "cell_type": "code",
   "execution_count": 5,
   "id": "c18197bd",
   "metadata": {
    "execution": {
     "iopub.execute_input": "2023-03-06T16:50:18.461872Z",
     "iopub.status.busy": "2023-03-06T16:50:18.461399Z",
     "iopub.status.idle": "2023-03-06T16:50:23.801684Z",
     "shell.execute_reply": "2023-03-06T16:50:23.800927Z"
    }
   },
   "outputs": [
    {
     "name": "stdout",
     "output_type": "stream",
     "text": [
      "65.8 ns ± 0.0434 ns per loop (mean ± std. dev. of 7 runs, 10,000,000 loops each)\n"
     ]
    }
   ],
   "source": [
    "%timeit t.a"
   ]
  },
  {
   "cell_type": "code",
   "execution_count": 6,
   "id": "bd52f867",
   "metadata": {
    "execution": {
     "iopub.execute_input": "2023-03-06T16:50:23.804512Z",
     "iopub.status.busy": "2023-03-06T16:50:23.804171Z",
     "iopub.status.idle": "2023-03-06T16:50:23.810834Z",
     "shell.execute_reply": "2023-03-06T16:50:23.810258Z"
    }
   },
   "outputs": [
    {
     "data": {
      "text/plain": [
       "<FastTreeValue 0x7f948c604b20>\n",
       "├── 'a' --> tensor([[ 1.4979, -0.1005, -0.2777],\n",
       "│                   [-0.3962,  1.7643,  1.6042]])\n",
       "└── 'x' --> <FastTreeValue 0x7f948c6048e0>\n",
       "    └── 'c' --> tensor([[ 1.0403,  0.9743,  1.6760, -0.5513],\n",
       "                        [ 1.0968, -0.7212, -0.6190,  0.2492],\n",
       "                        [-0.3020, -0.3550, -1.5356,  1.5305]])"
      ]
     },
     "execution_count": 6,
     "metadata": {},
     "output_type": "execute_result"
    }
   ],
   "source": [
    "new_value = torch.randn(2, 3)\n",
    "t.a = new_value\n",
    "\n",
    "t"
   ]
  },
  {
   "cell_type": "code",
   "execution_count": 7,
   "id": "bbe04d1c",
   "metadata": {
    "execution": {
     "iopub.execute_input": "2023-03-06T16:50:23.813354Z",
     "iopub.status.busy": "2023-03-06T16:50:23.813042Z",
     "iopub.status.idle": "2023-03-06T16:50:29.239630Z",
     "shell.execute_reply": "2023-03-06T16:50:29.238890Z"
    }
   },
   "outputs": [
    {
     "name": "stdout",
     "output_type": "stream",
     "text": [
      "67 ns ± 0.0542 ns per loop (mean ± std. dev. of 7 runs, 10,000,000 loops each)\n"
     ]
    }
   ],
   "source": [
    "%timeit t.a = new_value"
   ]
  },
  {
   "cell_type": "markdown",
   "id": "48c49731",
   "metadata": {},
   "source": [
    "### Tianshou Batch's Get and Set"
   ]
  },
  {
   "cell_type": "code",
   "execution_count": 8,
   "id": "f1bb14c1",
   "metadata": {
    "execution": {
     "iopub.execute_input": "2023-03-06T16:50:29.242589Z",
     "iopub.status.busy": "2023-03-06T16:50:29.242138Z",
     "iopub.status.idle": "2023-03-06T16:50:29.573199Z",
     "shell.execute_reply": "2023-03-06T16:50:29.572515Z"
    }
   },
   "outputs": [],
   "source": [
    "from tianshou.data import Batch\n",
    "\n",
    "b = Batch(**_TREE_DATA_2)"
   ]
  },
  {
   "cell_type": "code",
   "execution_count": 9,
   "id": "cb0777c3",
   "metadata": {
    "execution": {
     "iopub.execute_input": "2023-03-06T16:50:29.576832Z",
     "iopub.status.busy": "2023-03-06T16:50:29.576068Z",
     "iopub.status.idle": "2023-03-06T16:50:29.582370Z",
     "shell.execute_reply": "2023-03-06T16:50:29.581784Z"
    }
   },
   "outputs": [
    {
     "data": {
      "text/plain": [
       "Batch(\n",
       "    a: tensor([[0.1731, 1.2431, 1.0552],\n",
       "               [1.5882, 0.4496, 0.6490]]),\n",
       "    x: Batch(\n",
       "           c: tensor([[ 1.0403,  0.9743,  1.6760, -0.5513],\n",
       "                      [ 1.0968, -0.7212, -0.6190,  0.2492],\n",
       "                      [-0.3020, -0.3550, -1.5356,  1.5305]]),\n",
       "       ),\n",
       ")"
      ]
     },
     "execution_count": 9,
     "metadata": {},
     "output_type": "execute_result"
    }
   ],
   "source": [
    "b"
   ]
  },
  {
   "cell_type": "code",
   "execution_count": 10,
   "id": "43ef8ea3",
   "metadata": {
    "execution": {
     "iopub.execute_input": "2023-03-06T16:50:29.585290Z",
     "iopub.status.busy": "2023-03-06T16:50:29.584756Z",
     "iopub.status.idle": "2023-03-06T16:50:29.590665Z",
     "shell.execute_reply": "2023-03-06T16:50:29.590092Z"
    }
   },
   "outputs": [
    {
     "data": {
      "text/plain": [
       "tensor([[0.1731, 1.2431, 1.0552],\n",
       "        [1.5882, 0.4496, 0.6490]])"
      ]
     },
     "execution_count": 10,
     "metadata": {},
     "output_type": "execute_result"
    }
   ],
   "source": [
    "b.a"
   ]
  },
  {
   "cell_type": "code",
   "execution_count": 11,
   "id": "b785ab72",
   "metadata": {
    "execution": {
     "iopub.execute_input": "2023-03-06T16:50:29.593486Z",
     "iopub.status.busy": "2023-03-06T16:50:29.593023Z",
     "iopub.status.idle": "2023-03-06T16:50:34.038041Z",
     "shell.execute_reply": "2023-03-06T16:50:34.037363Z"
    }
   },
   "outputs": [
    {
     "name": "stdout",
     "output_type": "stream",
     "text": [
      "54.7 ns ± 0.0978 ns per loop (mean ± std. dev. of 7 runs, 10,000,000 loops each)\n"
     ]
    }
   ],
   "source": [
    "%timeit b.a"
   ]
  },
  {
   "cell_type": "code",
   "execution_count": 12,
   "id": "ad54dc69",
   "metadata": {
    "execution": {
     "iopub.execute_input": "2023-03-06T16:50:34.041850Z",
     "iopub.status.busy": "2023-03-06T16:50:34.040707Z",
     "iopub.status.idle": "2023-03-06T16:50:34.048287Z",
     "shell.execute_reply": "2023-03-06T16:50:34.047681Z"
    }
   },
   "outputs": [
    {
     "data": {
      "text/plain": [
       "Batch(\n",
       "    a: tensor([[ 1.8944,  1.2695,  0.0452],\n",
       "               [-1.0314, -1.7845, -0.4963]]),\n",
       "    x: Batch(\n",
       "           c: tensor([[ 1.0403,  0.9743,  1.6760, -0.5513],\n",
       "                      [ 1.0968, -0.7212, -0.6190,  0.2492],\n",
       "                      [-0.3020, -0.3550, -1.5356,  1.5305]]),\n",
       "       ),\n",
       ")"
      ]
     },
     "execution_count": 12,
     "metadata": {},
     "output_type": "execute_result"
    }
   ],
   "source": [
    "new_value = torch.randn(2, 3)\n",
    "b.a = new_value\n",
    "\n",
    "b"
   ]
  },
  {
   "cell_type": "code",
   "execution_count": 13,
   "id": "29b1d0bf",
   "metadata": {
    "execution": {
     "iopub.execute_input": "2023-03-06T16:50:34.051217Z",
     "iopub.status.busy": "2023-03-06T16:50:34.050737Z",
     "iopub.status.idle": "2023-03-06T16:50:37.946163Z",
     "shell.execute_reply": "2023-03-06T16:50:37.945427Z"
    }
   },
   "outputs": [
    {
     "name": "stdout",
     "output_type": "stream",
     "text": [
      "479 ns ± 0.143 ns per loop (mean ± std. dev. of 7 runs, 1,000,000 loops each)\n"
     ]
    }
   ],
   "source": [
    "%timeit b.a = new_value"
   ]
  },
  {
   "cell_type": "markdown",
   "id": "b61ad1d0",
   "metadata": {},
   "source": [
    "## Initialization"
   ]
  },
  {
   "cell_type": "markdown",
   "id": "d70f0d54",
   "metadata": {},
   "source": [
    "### TreeValue's Initialization"
   ]
  },
  {
   "cell_type": "code",
   "execution_count": 14,
   "id": "d32a679b",
   "metadata": {
    "execution": {
     "iopub.execute_input": "2023-03-06T16:50:37.949411Z",
     "iopub.status.busy": "2023-03-06T16:50:37.949047Z",
     "iopub.status.idle": "2023-03-06T16:50:44.721854Z",
     "shell.execute_reply": "2023-03-06T16:50:44.721263Z"
    }
   },
   "outputs": [
    {
     "name": "stdout",
     "output_type": "stream",
     "text": [
      "833 ns ± 0.193 ns per loop (mean ± std. dev. of 7 runs, 1,000,000 loops each)\n"
     ]
    }
   ],
   "source": [
    "%timeit FastTreeValue(_TREE_DATA_1)"
   ]
  },
  {
   "cell_type": "markdown",
   "id": "24f3707b",
   "metadata": {},
   "source": [
    "### Tianshou Batch's Initialization"
   ]
  },
  {
   "cell_type": "code",
   "execution_count": 15,
   "id": "ac3958df",
   "metadata": {
    "execution": {
     "iopub.execute_input": "2023-03-06T16:50:44.725024Z",
     "iopub.status.busy": "2023-03-06T16:50:44.724482Z",
     "iopub.status.idle": "2023-03-06T16:50:54.015288Z",
     "shell.execute_reply": "2023-03-06T16:50:54.014614Z"
    }
   },
   "outputs": [
    {
     "name": "stdout",
     "output_type": "stream",
     "text": [
      "11.4 µs ± 33.9 ns per loop (mean ± std. dev. of 7 runs, 100,000 loops each)\n"
     ]
    }
   ],
   "source": [
    "%timeit Batch(**_TREE_DATA_1)"
   ]
  },
  {
   "cell_type": "markdown",
   "id": "1ab82e2d",
   "metadata": {},
   "source": [
    "## Deep Copy Operation"
   ]
  },
  {
   "cell_type": "code",
   "execution_count": 16,
   "id": "210a9442",
   "metadata": {
    "execution": {
     "iopub.execute_input": "2023-03-06T16:50:54.018502Z",
     "iopub.status.busy": "2023-03-06T16:50:54.018135Z",
     "iopub.status.idle": "2023-03-06T16:50:54.022311Z",
     "shell.execute_reply": "2023-03-06T16:50:54.021713Z"
    }
   },
   "outputs": [],
   "source": [
    "import copy"
   ]
  },
  {
   "cell_type": "markdown",
   "id": "5a736274",
   "metadata": {},
   "source": [
    "### Deep Copy of TreeValue"
   ]
  },
  {
   "cell_type": "code",
   "execution_count": 17,
   "id": "f9bcadd6",
   "metadata": {
    "execution": {
     "iopub.execute_input": "2023-03-06T16:50:54.025377Z",
     "iopub.status.busy": "2023-03-06T16:50:54.024830Z",
     "iopub.status.idle": "2023-03-06T16:51:05.240872Z",
     "shell.execute_reply": "2023-03-06T16:51:05.240302Z"
    }
   },
   "outputs": [
    {
     "name": "stdout",
     "output_type": "stream",
     "text": [
      "138 µs ± 410 ns per loop (mean ± std. dev. of 7 runs, 10,000 loops each)\n"
     ]
    }
   ],
   "source": [
    "t3 = FastTreeValue(_TREE_DATA_3)\n",
    "%timeit copy.deepcopy(t3)"
   ]
  },
  {
   "cell_type": "markdown",
   "id": "bf8be7ea",
   "metadata": {},
   "source": [
    "### Deep Copy of Tianshou Batch"
   ]
  },
  {
   "cell_type": "code",
   "execution_count": 18,
   "id": "91998e6f",
   "metadata": {
    "execution": {
     "iopub.execute_input": "2023-03-06T16:51:05.243902Z",
     "iopub.status.busy": "2023-03-06T16:51:05.243279Z",
     "iopub.status.idle": "2023-03-06T16:51:16.674464Z",
     "shell.execute_reply": "2023-03-06T16:51:16.673703Z"
    }
   },
   "outputs": [
    {
     "name": "stdout",
     "output_type": "stream",
     "text": [
      "141 µs ± 721 ns per loop (mean ± std. dev. of 7 runs, 10,000 loops each)\n"
     ]
    }
   ],
   "source": [
    "b3 = Batch(**_TREE_DATA_3)\n",
    "%timeit copy.deepcopy(b3)"
   ]
  },
  {
   "cell_type": "markdown",
   "id": "223162fb",
   "metadata": {},
   "source": [
    "## Stack, Concat and Split Operation"
   ]
  },
  {
   "cell_type": "markdown",
   "id": "85fa4a73",
   "metadata": {},
   "source": [
    "### Performance of TreeValue"
   ]
  },
  {
   "cell_type": "code",
   "execution_count": 19,
   "id": "a0c2b697",
   "metadata": {
    "execution": {
     "iopub.execute_input": "2023-03-06T16:51:16.677839Z",
     "iopub.status.busy": "2023-03-06T16:51:16.677211Z",
     "iopub.status.idle": "2023-03-06T16:51:16.681251Z",
     "shell.execute_reply": "2023-03-06T16:51:16.680631Z"
    }
   },
   "outputs": [],
   "source": [
    "trees = [FastTreeValue(_TREE_DATA_2) for _ in range(8)]"
   ]
  },
  {
   "cell_type": "code",
   "execution_count": 20,
   "id": "017ea5a5",
   "metadata": {
    "execution": {
     "iopub.execute_input": "2023-03-06T16:51:16.683753Z",
     "iopub.status.busy": "2023-03-06T16:51:16.683403Z",
     "iopub.status.idle": "2023-03-06T16:51:16.691478Z",
     "shell.execute_reply": "2023-03-06T16:51:16.690873Z"
    }
   },
   "outputs": [
    {
     "data": {
      "text/plain": [
       "<FastTreeValue 0x7f93e6e99f10>\n",
       "├── 'a' --> tensor([[[0.1731, 1.2431, 1.0552],\n",
       "│                    [1.5882, 0.4496, 0.6490]],\n",
       "│           \n",
       "│                   [[0.1731, 1.2431, 1.0552],\n",
       "│                    [1.5882, 0.4496, 0.6490]],\n",
       "│           \n",
       "│                   [[0.1731, 1.2431, 1.0552],\n",
       "│                    [1.5882, 0.4496, 0.6490]],\n",
       "│           \n",
       "│                   [[0.1731, 1.2431, 1.0552],\n",
       "│                    [1.5882, 0.4496, 0.6490]],\n",
       "│           \n",
       "│                   [[0.1731, 1.2431, 1.0552],\n",
       "│                    [1.5882, 0.4496, 0.6490]],\n",
       "│           \n",
       "│                   [[0.1731, 1.2431, 1.0552],\n",
       "│                    [1.5882, 0.4496, 0.6490]],\n",
       "│           \n",
       "│                   [[0.1731, 1.2431, 1.0552],\n",
       "│                    [1.5882, 0.4496, 0.6490]],\n",
       "│           \n",
       "│                   [[0.1731, 1.2431, 1.0552],\n",
       "│                    [1.5882, 0.4496, 0.6490]]])\n",
       "└── 'x' --> <FastTreeValue 0x7f93e08a1bb0>\n",
       "    └── 'c' --> tensor([[[ 1.0403,  0.9743,  1.6760, -0.5513],\n",
       "                         [ 1.0968, -0.7212, -0.6190,  0.2492],\n",
       "                         [-0.3020, -0.3550, -1.5356,  1.5305]],\n",
       "                \n",
       "                        [[ 1.0403,  0.9743,  1.6760, -0.5513],\n",
       "                         [ 1.0968, -0.7212, -0.6190,  0.2492],\n",
       "                         [-0.3020, -0.3550, -1.5356,  1.5305]],\n",
       "                \n",
       "                        [[ 1.0403,  0.9743,  1.6760, -0.5513],\n",
       "                         [ 1.0968, -0.7212, -0.6190,  0.2492],\n",
       "                         [-0.3020, -0.3550, -1.5356,  1.5305]],\n",
       "                \n",
       "                        [[ 1.0403,  0.9743,  1.6760, -0.5513],\n",
       "                         [ 1.0968, -0.7212, -0.6190,  0.2492],\n",
       "                         [-0.3020, -0.3550, -1.5356,  1.5305]],\n",
       "                \n",
       "                        [[ 1.0403,  0.9743,  1.6760, -0.5513],\n",
       "                         [ 1.0968, -0.7212, -0.6190,  0.2492],\n",
       "                         [-0.3020, -0.3550, -1.5356,  1.5305]],\n",
       "                \n",
       "                        [[ 1.0403,  0.9743,  1.6760, -0.5513],\n",
       "                         [ 1.0968, -0.7212, -0.6190,  0.2492],\n",
       "                         [-0.3020, -0.3550, -1.5356,  1.5305]],\n",
       "                \n",
       "                        [[ 1.0403,  0.9743,  1.6760, -0.5513],\n",
       "                         [ 1.0968, -0.7212, -0.6190,  0.2492],\n",
       "                         [-0.3020, -0.3550, -1.5356,  1.5305]],\n",
       "                \n",
       "                        [[ 1.0403,  0.9743,  1.6760, -0.5513],\n",
       "                         [ 1.0968, -0.7212, -0.6190,  0.2492],\n",
       "                         [-0.3020, -0.3550, -1.5356,  1.5305]]])"
      ]
     },
     "execution_count": 20,
     "metadata": {},
     "output_type": "execute_result"
    }
   ],
   "source": [
    "t_stack = FastTreeValue.func(subside=True)(torch.stack)\n",
    "\n",
    "t_stack(trees)"
   ]
  },
  {
   "cell_type": "code",
   "execution_count": 21,
   "id": "f8b3f415",
   "metadata": {
    "execution": {
     "iopub.execute_input": "2023-03-06T16:51:16.693912Z",
     "iopub.status.busy": "2023-03-06T16:51:16.693573Z",
     "iopub.status.idle": "2023-03-06T16:51:19.230749Z",
     "shell.execute_reply": "2023-03-06T16:51:19.229891Z"
    }
   },
   "outputs": [
    {
     "name": "stdout",
     "output_type": "stream",
     "text": [
      "31.2 µs ± 54.9 ns per loop (mean ± std. dev. of 7 runs, 10,000 loops each)\n"
     ]
    }
   ],
   "source": [
    "%timeit t_stack(trees)"
   ]
  },
  {
   "cell_type": "code",
   "execution_count": 22,
   "id": "94b56771",
   "metadata": {
    "execution": {
     "iopub.execute_input": "2023-03-06T16:51:19.233769Z",
     "iopub.status.busy": "2023-03-06T16:51:19.233247Z",
     "iopub.status.idle": "2023-03-06T16:51:19.241032Z",
     "shell.execute_reply": "2023-03-06T16:51:19.240434Z"
    }
   },
   "outputs": [
    {
     "data": {
      "text/plain": [
       "<FastTreeValue 0x7f948c604430>\n",
       "├── 'a' --> tensor([[0.1731, 1.2431, 1.0552],\n",
       "│                   [1.5882, 0.4496, 0.6490],\n",
       "│                   [0.1731, 1.2431, 1.0552],\n",
       "│                   [1.5882, 0.4496, 0.6490],\n",
       "│                   [0.1731, 1.2431, 1.0552],\n",
       "│                   [1.5882, 0.4496, 0.6490],\n",
       "│                   [0.1731, 1.2431, 1.0552],\n",
       "│                   [1.5882, 0.4496, 0.6490],\n",
       "│                   [0.1731, 1.2431, 1.0552],\n",
       "│                   [1.5882, 0.4496, 0.6490],\n",
       "│                   [0.1731, 1.2431, 1.0552],\n",
       "│                   [1.5882, 0.4496, 0.6490],\n",
       "│                   [0.1731, 1.2431, 1.0552],\n",
       "│                   [1.5882, 0.4496, 0.6490],\n",
       "│                   [0.1731, 1.2431, 1.0552],\n",
       "│                   [1.5882, 0.4496, 0.6490]])\n",
       "└── 'x' --> <FastTreeValue 0x7f948c604c40>\n",
       "    └── 'c' --> tensor([[ 1.0403,  0.9743,  1.6760, -0.5513],\n",
       "                        [ 1.0968, -0.7212, -0.6190,  0.2492],\n",
       "                        [-0.3020, -0.3550, -1.5356,  1.5305],\n",
       "                        [ 1.0403,  0.9743,  1.6760, -0.5513],\n",
       "                        [ 1.0968, -0.7212, -0.6190,  0.2492],\n",
       "                        [-0.3020, -0.3550, -1.5356,  1.5305],\n",
       "                        [ 1.0403,  0.9743,  1.6760, -0.5513],\n",
       "                        [ 1.0968, -0.7212, -0.6190,  0.2492],\n",
       "                        [-0.3020, -0.3550, -1.5356,  1.5305],\n",
       "                        [ 1.0403,  0.9743,  1.6760, -0.5513],\n",
       "                        [ 1.0968, -0.7212, -0.6190,  0.2492],\n",
       "                        [-0.3020, -0.3550, -1.5356,  1.5305],\n",
       "                        [ 1.0403,  0.9743,  1.6760, -0.5513],\n",
       "                        [ 1.0968, -0.7212, -0.6190,  0.2492],\n",
       "                        [-0.3020, -0.3550, -1.5356,  1.5305],\n",
       "                        [ 1.0403,  0.9743,  1.6760, -0.5513],\n",
       "                        [ 1.0968, -0.7212, -0.6190,  0.2492],\n",
       "                        [-0.3020, -0.3550, -1.5356,  1.5305],\n",
       "                        [ 1.0403,  0.9743,  1.6760, -0.5513],\n",
       "                        [ 1.0968, -0.7212, -0.6190,  0.2492],\n",
       "                        [-0.3020, -0.3550, -1.5356,  1.5305],\n",
       "                        [ 1.0403,  0.9743,  1.6760, -0.5513],\n",
       "                        [ 1.0968, -0.7212, -0.6190,  0.2492],\n",
       "                        [-0.3020, -0.3550, -1.5356,  1.5305]])"
      ]
     },
     "execution_count": 22,
     "metadata": {},
     "output_type": "execute_result"
    }
   ],
   "source": [
    "t_cat = FastTreeValue.func(subside=True)(torch.cat)\n",
    "\n",
    "t_cat(trees)"
   ]
  },
  {
   "cell_type": "code",
   "execution_count": 23,
   "id": "5e9c06a6",
   "metadata": {
    "execution": {
     "iopub.execute_input": "2023-03-06T16:51:19.243721Z",
     "iopub.status.busy": "2023-03-06T16:51:19.243390Z",
     "iopub.status.idle": "2023-03-06T16:51:21.655719Z",
     "shell.execute_reply": "2023-03-06T16:51:21.654962Z"
    }
   },
   "outputs": [
    {
     "name": "stdout",
     "output_type": "stream",
     "text": [
      "29.7 µs ± 66.9 ns per loop (mean ± std. dev. of 7 runs, 10,000 loops each)\n"
     ]
    }
   ],
   "source": [
    "%timeit t_cat(trees)"
   ]
  },
  {
   "cell_type": "code",
   "execution_count": 24,
   "id": "a3ab5c8f",
   "metadata": {
    "execution": {
     "iopub.execute_input": "2023-03-06T16:51:21.658754Z",
     "iopub.status.busy": "2023-03-06T16:51:21.658208Z",
     "iopub.status.idle": "2023-03-06T16:51:26.284025Z",
     "shell.execute_reply": "2023-03-06T16:51:26.283265Z"
    }
   },
   "outputs": [
    {
     "name": "stdout",
     "output_type": "stream",
     "text": [
      "56.9 µs ± 91 ns per loop (mean ± std. dev. of 7 runs, 10,000 loops each)\n"
     ]
    }
   ],
   "source": [
    "t_split = FastTreeValue.func(rise=True)(torch.split)\n",
    "tree = FastTreeValue({\n",
    "    'obs': torch.randn(8, 4, 84, 84),\n",
    "    'action': torch.randint(0, 6, size=(8, 1,)),\n",
    "    'reward': torch.rand(8, 1),\n",
    "})\n",
    "\n",
    "%timeit t_split(tree, 1)"
   ]
  },
  {
   "cell_type": "markdown",
   "id": "31c3ec0b",
   "metadata": {},
   "source": [
    "### Performance of Tianshou Batch"
   ]
  },
  {
   "cell_type": "code",
   "execution_count": 25,
   "id": "9ead828a",
   "metadata": {
    "execution": {
     "iopub.execute_input": "2023-03-06T16:51:26.287198Z",
     "iopub.status.busy": "2023-03-06T16:51:26.286837Z",
     "iopub.status.idle": "2023-03-06T16:51:26.294336Z",
     "shell.execute_reply": "2023-03-06T16:51:26.293669Z"
    }
   },
   "outputs": [
    {
     "data": {
      "text/plain": [
       "Batch(\n",
       "    x: Batch(\n",
       "           c: tensor([[[ 1.0403,  0.9743,  1.6760, -0.5513],\n",
       "                       [ 1.0968, -0.7212, -0.6190,  0.2492],\n",
       "                       [-0.3020, -0.3550, -1.5356,  1.5305]],\n",
       "              \n",
       "                      [[ 1.0403,  0.9743,  1.6760, -0.5513],\n",
       "                       [ 1.0968, -0.7212, -0.6190,  0.2492],\n",
       "                       [-0.3020, -0.3550, -1.5356,  1.5305]],\n",
       "              \n",
       "                      [[ 1.0403,  0.9743,  1.6760, -0.5513],\n",
       "                       [ 1.0968, -0.7212, -0.6190,  0.2492],\n",
       "                       [-0.3020, -0.3550, -1.5356,  1.5305]],\n",
       "              \n",
       "                      [[ 1.0403,  0.9743,  1.6760, -0.5513],\n",
       "                       [ 1.0968, -0.7212, -0.6190,  0.2492],\n",
       "                       [-0.3020, -0.3550, -1.5356,  1.5305]],\n",
       "              \n",
       "                      [[ 1.0403,  0.9743,  1.6760, -0.5513],\n",
       "                       [ 1.0968, -0.7212, -0.6190,  0.2492],\n",
       "                       [-0.3020, -0.3550, -1.5356,  1.5305]],\n",
       "              \n",
       "                      [[ 1.0403,  0.9743,  1.6760, -0.5513],\n",
       "                       [ 1.0968, -0.7212, -0.6190,  0.2492],\n",
       "                       [-0.3020, -0.3550, -1.5356,  1.5305]],\n",
       "              \n",
       "                      [[ 1.0403,  0.9743,  1.6760, -0.5513],\n",
       "                       [ 1.0968, -0.7212, -0.6190,  0.2492],\n",
       "                       [-0.3020, -0.3550, -1.5356,  1.5305]],\n",
       "              \n",
       "                      [[ 1.0403,  0.9743,  1.6760, -0.5513],\n",
       "                       [ 1.0968, -0.7212, -0.6190,  0.2492],\n",
       "                       [-0.3020, -0.3550, -1.5356,  1.5305]]]),\n",
       "       ),\n",
       "    a: tensor([[[0.1731, 1.2431, 1.0552],\n",
       "                [1.5882, 0.4496, 0.6490]],\n",
       "       \n",
       "               [[0.1731, 1.2431, 1.0552],\n",
       "                [1.5882, 0.4496, 0.6490]],\n",
       "       \n",
       "               [[0.1731, 1.2431, 1.0552],\n",
       "                [1.5882, 0.4496, 0.6490]],\n",
       "       \n",
       "               [[0.1731, 1.2431, 1.0552],\n",
       "                [1.5882, 0.4496, 0.6490]],\n",
       "       \n",
       "               [[0.1731, 1.2431, 1.0552],\n",
       "                [1.5882, 0.4496, 0.6490]],\n",
       "       \n",
       "               [[0.1731, 1.2431, 1.0552],\n",
       "                [1.5882, 0.4496, 0.6490]],\n",
       "       \n",
       "               [[0.1731, 1.2431, 1.0552],\n",
       "                [1.5882, 0.4496, 0.6490]],\n",
       "       \n",
       "               [[0.1731, 1.2431, 1.0552],\n",
       "                [1.5882, 0.4496, 0.6490]]]),\n",
       ")"
      ]
     },
     "execution_count": 25,
     "metadata": {},
     "output_type": "execute_result"
    }
   ],
   "source": [
    "batches = [Batch(**_TREE_DATA_2) for _ in range(8)]\n",
    "\n",
    "Batch.stack(batches)"
   ]
  },
  {
   "cell_type": "code",
   "execution_count": 26,
   "id": "ec9037a3",
   "metadata": {
    "execution": {
     "iopub.execute_input": "2023-03-06T16:51:26.297203Z",
     "iopub.status.busy": "2023-03-06T16:51:26.296647Z",
     "iopub.status.idle": "2023-03-06T16:51:32.619101Z",
     "shell.execute_reply": "2023-03-06T16:51:32.618383Z"
    }
   },
   "outputs": [
    {
     "name": "stdout",
     "output_type": "stream",
     "text": [
      "77.7 µs ± 123 ns per loop (mean ± std. dev. of 7 runs, 10,000 loops each)\n"
     ]
    }
   ],
   "source": [
    "%timeit Batch.stack(batches)"
   ]
  },
  {
   "cell_type": "code",
   "execution_count": 27,
   "id": "cb8ab77e",
   "metadata": {
    "execution": {
     "iopub.execute_input": "2023-03-06T16:51:32.622102Z",
     "iopub.status.busy": "2023-03-06T16:51:32.621521Z",
     "iopub.status.idle": "2023-03-06T16:51:32.629359Z",
     "shell.execute_reply": "2023-03-06T16:51:32.628758Z"
    }
   },
   "outputs": [
    {
     "data": {
      "text/plain": [
       "Batch(\n",
       "    x: Batch(\n",
       "           c: tensor([[ 1.0403,  0.9743,  1.6760, -0.5513],\n",
       "                      [ 1.0968, -0.7212, -0.6190,  0.2492],\n",
       "                      [-0.3020, -0.3550, -1.5356,  1.5305],\n",
       "                      [ 1.0403,  0.9743,  1.6760, -0.5513],\n",
       "                      [ 1.0968, -0.7212, -0.6190,  0.2492],\n",
       "                      [-0.3020, -0.3550, -1.5356,  1.5305],\n",
       "                      [ 1.0403,  0.9743,  1.6760, -0.5513],\n",
       "                      [ 1.0968, -0.7212, -0.6190,  0.2492],\n",
       "                      [-0.3020, -0.3550, -1.5356,  1.5305],\n",
       "                      [ 1.0403,  0.9743,  1.6760, -0.5513],\n",
       "                      [ 1.0968, -0.7212, -0.6190,  0.2492],\n",
       "                      [-0.3020, -0.3550, -1.5356,  1.5305],\n",
       "                      [ 1.0403,  0.9743,  1.6760, -0.5513],\n",
       "                      [ 1.0968, -0.7212, -0.6190,  0.2492],\n",
       "                      [-0.3020, -0.3550, -1.5356,  1.5305],\n",
       "                      [ 1.0403,  0.9743,  1.6760, -0.5513],\n",
       "                      [ 1.0968, -0.7212, -0.6190,  0.2492],\n",
       "                      [-0.3020, -0.3550, -1.5356,  1.5305],\n",
       "                      [ 1.0403,  0.9743,  1.6760, -0.5513],\n",
       "                      [ 1.0968, -0.7212, -0.6190,  0.2492],\n",
       "                      [-0.3020, -0.3550, -1.5356,  1.5305],\n",
       "                      [ 1.0403,  0.9743,  1.6760, -0.5513],\n",
       "                      [ 1.0968, -0.7212, -0.6190,  0.2492],\n",
       "                      [-0.3020, -0.3550, -1.5356,  1.5305]]),\n",
       "       ),\n",
       "    a: tensor([[0.1731, 1.2431, 1.0552],\n",
       "               [1.5882, 0.4496, 0.6490],\n",
       "               [0.1731, 1.2431, 1.0552],\n",
       "               [1.5882, 0.4496, 0.6490],\n",
       "               [0.1731, 1.2431, 1.0552],\n",
       "               [1.5882, 0.4496, 0.6490],\n",
       "               [0.1731, 1.2431, 1.0552],\n",
       "               [1.5882, 0.4496, 0.6490],\n",
       "               [0.1731, 1.2431, 1.0552],\n",
       "               [1.5882, 0.4496, 0.6490],\n",
       "               [0.1731, 1.2431, 1.0552],\n",
       "               [1.5882, 0.4496, 0.6490],\n",
       "               [0.1731, 1.2431, 1.0552],\n",
       "               [1.5882, 0.4496, 0.6490],\n",
       "               [0.1731, 1.2431, 1.0552],\n",
       "               [1.5882, 0.4496, 0.6490]]),\n",
       ")"
      ]
     },
     "execution_count": 27,
     "metadata": {},
     "output_type": "execute_result"
    }
   ],
   "source": [
    "Batch.cat(batches)"
   ]
  },
  {
   "cell_type": "code",
   "execution_count": 28,
   "id": "18dfb045",
   "metadata": {
    "execution": {
     "iopub.execute_input": "2023-03-06T16:51:32.631790Z",
     "iopub.status.busy": "2023-03-06T16:51:32.631444Z",
     "iopub.status.idle": "2023-03-06T16:51:44.227969Z",
     "shell.execute_reply": "2023-03-06T16:51:44.227232Z"
    }
   },
   "outputs": [
    {
     "name": "stdout",
     "output_type": "stream",
     "text": [
      "143 µs ± 711 ns per loop (mean ± std. dev. of 7 runs, 10,000 loops each)\n"
     ]
    }
   ],
   "source": [
    "%timeit Batch.cat(batches)"
   ]
  },
  {
   "cell_type": "code",
   "execution_count": 29,
   "id": "c6688e51",
   "metadata": {
    "execution": {
     "iopub.execute_input": "2023-03-06T16:51:44.231035Z",
     "iopub.status.busy": "2023-03-06T16:51:44.230459Z",
     "iopub.status.idle": "2023-03-06T16:51:46.737910Z",
     "shell.execute_reply": "2023-03-06T16:51:46.737236Z"
    }
   },
   "outputs": [
    {
     "name": "stdout",
     "output_type": "stream",
     "text": [
      "308 µs ± 1.64 µs per loop (mean ± std. dev. of 7 runs, 1,000 loops each)\n"
     ]
    }
   ],
   "source": [
    "batch = Batch({\n",
    "    'obs': torch.randn(8, 4, 84, 84),\n",
    "    'action': torch.randint(0, 6, size=(8, 1,)),\n",
    "    'reward': torch.rand(8, 1)}\n",
    ")\n",
    "\n",
    "%timeit list(Batch.split(batch, 1, shuffle=False, merge_last=True))"
   ]
  },
  {
   "cell_type": "code",
   "execution_count": null,
   "id": "2539fbd9",
   "metadata": {},
   "outputs": [],
   "source": []
  }
 ],
 "metadata": {
  "kernelspec": {
   "display_name": "Python 3 (ipykernel)",
   "language": "python",
   "name": "python3"
  },
  "language_info": {
   "codemirror_mode": {
    "name": "ipython",
    "version": 3
   },
   "file_extension": ".py",
   "mimetype": "text/x-python",
   "name": "python",
   "nbconvert_exporter": "python",
   "pygments_lexer": "ipython3",
   "version": "3.8.16"
  }
 },
 "nbformat": 4,
 "nbformat_minor": 5
}
