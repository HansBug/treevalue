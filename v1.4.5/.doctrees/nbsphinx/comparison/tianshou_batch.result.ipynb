{
 "cells": [
  {
   "cell_type": "markdown",
   "id": "9d39d946",
   "metadata": {},
   "source": [
    "# Comparison Between TreeValue and Tianshou Batch"
   ]
  },
  {
   "cell_type": "markdown",
   "id": "3c6db2d4",
   "metadata": {},
   "source": [
    "In this section, we will take a look at the feature and performance of the [Tianshou Batch](https://github.com/thu-ml/tianshou) library, which is developed by Tsinghua Machine Learning Group."
   ]
  },
  {
   "cell_type": "markdown",
   "id": "069361b0",
   "metadata": {},
   "source": [
    "Before starting the comparison, let us define some thing."
   ]
  },
  {
   "cell_type": "code",
   "execution_count": 1,
   "id": "06fc8d26",
   "metadata": {
    "execution": {
     "iopub.execute_input": "2023-03-06T18:05:05.567944Z",
     "iopub.status.busy": "2023-03-06T18:05:05.567534Z",
     "iopub.status.idle": "2023-03-06T18:05:06.536974Z",
     "shell.execute_reply": "2023-03-06T18:05:06.536207Z"
    }
   },
   "outputs": [
    {
     "name": "stderr",
     "output_type": "stream",
     "text": [
      "/opt/hostedtoolcache/Python/3.8.16/x64/lib/python3.8/site-packages/tqdm/auto.py:21: TqdmWarning: IProgress not found. Please update jupyter and ipywidgets. See https://ipywidgets.readthedocs.io/en/stable/user_install.html\n",
      "  from .autonotebook import tqdm as notebook_tqdm\n"
     ]
    }
   ],
   "source": [
    "import torch \n",
    "\n",
    "_TREE_DATA_1 = {'a': 1, 'b': 2, 'x': {'c': 3, 'd': 4}}\n",
    "_TREE_DATA_2 = {\n",
    "    'a': torch.randn(2, 3), \n",
    "    'x': {\n",
    "        'c': torch.randn(3, 4)\n",
    "    },\n",
    "}\n",
    "_TREE_DATA_3 = {\n",
    "    'obs': torch.randn(4, 84, 84),\n",
    "    'action': torch.randint(0, 6, size=(1,)),\n",
    "    'reward': torch.rand(1),\n",
    "}"
   ]
  },
  {
   "cell_type": "markdown",
   "id": "83461b25",
   "metadata": {},
   "source": [
    "## Read and Write Operation"
   ]
  },
  {
   "cell_type": "markdown",
   "id": "067b3f73",
   "metadata": {},
   "source": [
    "Reading and writing are the two most common operations in the tree data structure based on the data model (TreeValue and Tianshou Batch both belong to this type), so this section will compare the reading and writing performance of these two libraries."
   ]
  },
  {
   "cell_type": "markdown",
   "id": "5d09a5b7",
   "metadata": {},
   "source": [
    "### TreeValue's Get and Set"
   ]
  },
  {
   "cell_type": "code",
   "execution_count": 2,
   "id": "9519c4bb",
   "metadata": {
    "execution": {
     "iopub.execute_input": "2023-03-06T18:05:06.541005Z",
     "iopub.status.busy": "2023-03-06T18:05:06.540239Z",
     "iopub.status.idle": "2023-03-06T18:05:06.574489Z",
     "shell.execute_reply": "2023-03-06T18:05:06.573810Z"
    }
   },
   "outputs": [],
   "source": [
    "from treevalue import FastTreeValue\n",
    "\n",
    "t = FastTreeValue(_TREE_DATA_2)"
   ]
  },
  {
   "cell_type": "code",
   "execution_count": 3,
   "id": "11c37677",
   "metadata": {
    "execution": {
     "iopub.execute_input": "2023-03-06T18:05:06.577642Z",
     "iopub.status.busy": "2023-03-06T18:05:06.577254Z",
     "iopub.status.idle": "2023-03-06T18:05:06.586744Z",
     "shell.execute_reply": "2023-03-06T18:05:06.586135Z"
    }
   },
   "outputs": [
    {
     "data": {
      "text/plain": [
       "<FastTreeValue 0x7f78148698b0>\n",
       "├── 'a' --> tensor([[-0.1889,  1.1145, -0.0769],\n",
       "│                   [ 0.6768,  0.3090, -1.1846]])\n",
       "└── 'x' --> <FastTreeValue 0x7f7814869ca0>\n",
       "    └── 'c' --> tensor([[ 0.6928, -1.4038,  1.6759, -0.2158],\n",
       "                        [-1.1650,  0.9554, -1.5304, -0.6807],\n",
       "                        [-0.2686, -0.6824,  0.6736, -0.9919]])"
      ]
     },
     "execution_count": 3,
     "metadata": {},
     "output_type": "execute_result"
    }
   ],
   "source": [
    "t"
   ]
  },
  {
   "cell_type": "code",
   "execution_count": 4,
   "id": "fd70b0b9",
   "metadata": {
    "execution": {
     "iopub.execute_input": "2023-03-06T18:05:06.589418Z",
     "iopub.status.busy": "2023-03-06T18:05:06.589057Z",
     "iopub.status.idle": "2023-03-06T18:05:06.594761Z",
     "shell.execute_reply": "2023-03-06T18:05:06.594157Z"
    }
   },
   "outputs": [
    {
     "data": {
      "text/plain": [
       "tensor([[-0.1889,  1.1145, -0.0769],\n",
       "        [ 0.6768,  0.3090, -1.1846]])"
      ]
     },
     "execution_count": 4,
     "metadata": {},
     "output_type": "execute_result"
    }
   ],
   "source": [
    "t.a"
   ]
  },
  {
   "cell_type": "code",
   "execution_count": 5,
   "id": "c18197bd",
   "metadata": {
    "execution": {
     "iopub.execute_input": "2023-03-06T18:05:06.597432Z",
     "iopub.status.busy": "2023-03-06T18:05:06.597072Z",
     "iopub.status.idle": "2023-03-06T18:05:11.786589Z",
     "shell.execute_reply": "2023-03-06T18:05:11.785627Z"
    }
   },
   "outputs": [
    {
     "name": "stdout",
     "output_type": "stream",
     "text": [
      "63.9 ns ± 0.0673 ns per loop (mean ± std. dev. of 7 runs, 10,000,000 loops each)\n"
     ]
    }
   ],
   "source": [
    "%timeit t.a"
   ]
  },
  {
   "cell_type": "code",
   "execution_count": 6,
   "id": "bd52f867",
   "metadata": {
    "execution": {
     "iopub.execute_input": "2023-03-06T18:05:11.790177Z",
     "iopub.status.busy": "2023-03-06T18:05:11.789773Z",
     "iopub.status.idle": "2023-03-06T18:05:11.797744Z",
     "shell.execute_reply": "2023-03-06T18:05:11.797128Z"
    }
   },
   "outputs": [
    {
     "data": {
      "text/plain": [
       "<FastTreeValue 0x7f78148698b0>\n",
       "├── 'a' --> tensor([[ 0.5283, -2.2388, -0.7592],\n",
       "│                   [ 0.9483, -0.6588, -1.2057]])\n",
       "└── 'x' --> <FastTreeValue 0x7f7814869ca0>\n",
       "    └── 'c' --> tensor([[ 0.6928, -1.4038,  1.6759, -0.2158],\n",
       "                        [-1.1650,  0.9554, -1.5304, -0.6807],\n",
       "                        [-0.2686, -0.6824,  0.6736, -0.9919]])"
      ]
     },
     "execution_count": 6,
     "metadata": {},
     "output_type": "execute_result"
    }
   ],
   "source": [
    "new_value = torch.randn(2, 3)\n",
    "t.a = new_value\n",
    "\n",
    "t"
   ]
  },
  {
   "cell_type": "code",
   "execution_count": 7,
   "id": "bbe04d1c",
   "metadata": {
    "execution": {
     "iopub.execute_input": "2023-03-06T18:05:11.800718Z",
     "iopub.status.busy": "2023-03-06T18:05:11.800278Z",
     "iopub.status.idle": "2023-03-06T18:05:17.413834Z",
     "shell.execute_reply": "2023-03-06T18:05:17.412980Z"
    }
   },
   "outputs": [
    {
     "name": "stdout",
     "output_type": "stream",
     "text": [
      "69.1 ns ± 0.0735 ns per loop (mean ± std. dev. of 7 runs, 10,000,000 loops each)\n"
     ]
    }
   ],
   "source": [
    "%timeit t.a = new_value"
   ]
  },
  {
   "cell_type": "markdown",
   "id": "48c49731",
   "metadata": {},
   "source": [
    "### Tianshou Batch's Get and Set"
   ]
  },
  {
   "cell_type": "code",
   "execution_count": 8,
   "id": "f1bb14c1",
   "metadata": {
    "execution": {
     "iopub.execute_input": "2023-03-06T18:05:17.417494Z",
     "iopub.status.busy": "2023-03-06T18:05:17.416991Z",
     "iopub.status.idle": "2023-03-06T18:05:17.777394Z",
     "shell.execute_reply": "2023-03-06T18:05:17.776614Z"
    }
   },
   "outputs": [],
   "source": [
    "from tianshou.data import Batch\n",
    "\n",
    "b = Batch(**_TREE_DATA_2)"
   ]
  },
  {
   "cell_type": "code",
   "execution_count": 9,
   "id": "cb0777c3",
   "metadata": {
    "execution": {
     "iopub.execute_input": "2023-03-06T18:05:17.781171Z",
     "iopub.status.busy": "2023-03-06T18:05:17.780675Z",
     "iopub.status.idle": "2023-03-06T18:05:17.787225Z",
     "shell.execute_reply": "2023-03-06T18:05:17.786614Z"
    }
   },
   "outputs": [
    {
     "data": {
      "text/plain": [
       "Batch(\n",
       "    a: tensor([[-0.1889,  1.1145, -0.0769],\n",
       "               [ 0.6768,  0.3090, -1.1846]]),\n",
       "    x: Batch(\n",
       "           c: tensor([[ 0.6928, -1.4038,  1.6759, -0.2158],\n",
       "                      [-1.1650,  0.9554, -1.5304, -0.6807],\n",
       "                      [-0.2686, -0.6824,  0.6736, -0.9919]]),\n",
       "       ),\n",
       ")"
      ]
     },
     "execution_count": 9,
     "metadata": {},
     "output_type": "execute_result"
    }
   ],
   "source": [
    "b"
   ]
  },
  {
   "cell_type": "code",
   "execution_count": 10,
   "id": "43ef8ea3",
   "metadata": {
    "execution": {
     "iopub.execute_input": "2023-03-06T18:05:17.790010Z",
     "iopub.status.busy": "2023-03-06T18:05:17.789610Z",
     "iopub.status.idle": "2023-03-06T18:05:17.794388Z",
     "shell.execute_reply": "2023-03-06T18:05:17.793713Z"
    }
   },
   "outputs": [
    {
     "data": {
      "text/plain": [
       "tensor([[-0.1889,  1.1145, -0.0769],\n",
       "        [ 0.6768,  0.3090, -1.1846]])"
      ]
     },
     "execution_count": 10,
     "metadata": {},
     "output_type": "execute_result"
    }
   ],
   "source": [
    "b.a"
   ]
  },
  {
   "cell_type": "code",
   "execution_count": 11,
   "id": "b785ab72",
   "metadata": {
    "execution": {
     "iopub.execute_input": "2023-03-06T18:05:17.797562Z",
     "iopub.status.busy": "2023-03-06T18:05:17.797001Z",
     "iopub.status.idle": "2023-03-06T18:05:22.710176Z",
     "shell.execute_reply": "2023-03-06T18:05:22.709360Z"
    }
   },
   "outputs": [
    {
     "name": "stdout",
     "output_type": "stream",
     "text": [
      "60.6 ns ± 0.075 ns per loop (mean ± std. dev. of 7 runs, 10,000,000 loops each)\n"
     ]
    }
   ],
   "source": [
    "%timeit b.a"
   ]
  },
  {
   "cell_type": "code",
   "execution_count": 12,
   "id": "ad54dc69",
   "metadata": {
    "execution": {
     "iopub.execute_input": "2023-03-06T18:05:22.713569Z",
     "iopub.status.busy": "2023-03-06T18:05:22.712912Z",
     "iopub.status.idle": "2023-03-06T18:05:22.719957Z",
     "shell.execute_reply": "2023-03-06T18:05:22.719336Z"
    }
   },
   "outputs": [
    {
     "data": {
      "text/plain": [
       "Batch(\n",
       "    a: tensor([[-0.9380, -0.2270,  1.0033],\n",
       "               [-0.0183,  0.2787, -0.2312]]),\n",
       "    x: Batch(\n",
       "           c: tensor([[ 0.6928, -1.4038,  1.6759, -0.2158],\n",
       "                      [-1.1650,  0.9554, -1.5304, -0.6807],\n",
       "                      [-0.2686, -0.6824,  0.6736, -0.9919]]),\n",
       "       ),\n",
       ")"
      ]
     },
     "execution_count": 12,
     "metadata": {},
     "output_type": "execute_result"
    }
   ],
   "source": [
    "new_value = torch.randn(2, 3)\n",
    "b.a = new_value\n",
    "\n",
    "b"
   ]
  },
  {
   "cell_type": "code",
   "execution_count": 13,
   "id": "29b1d0bf",
   "metadata": {
    "execution": {
     "iopub.execute_input": "2023-03-06T18:05:22.722864Z",
     "iopub.status.busy": "2023-03-06T18:05:22.722343Z",
     "iopub.status.idle": "2023-03-06T18:05:26.793927Z",
     "shell.execute_reply": "2023-03-06T18:05:26.793137Z"
    }
   },
   "outputs": [
    {
     "name": "stdout",
     "output_type": "stream",
     "text": [
      "501 ns ± 0.125 ns per loop (mean ± std. dev. of 7 runs, 1,000,000 loops each)\n"
     ]
    }
   ],
   "source": [
    "%timeit b.a = new_value"
   ]
  },
  {
   "cell_type": "markdown",
   "id": "b61ad1d0",
   "metadata": {},
   "source": [
    "## Initialization"
   ]
  },
  {
   "cell_type": "markdown",
   "id": "d70f0d54",
   "metadata": {},
   "source": [
    "### TreeValue's Initialization"
   ]
  },
  {
   "cell_type": "code",
   "execution_count": 14,
   "id": "d32a679b",
   "metadata": {
    "execution": {
     "iopub.execute_input": "2023-03-06T18:05:26.797590Z",
     "iopub.status.busy": "2023-03-06T18:05:26.797098Z",
     "iopub.status.idle": "2023-03-06T18:05:33.502083Z",
     "shell.execute_reply": "2023-03-06T18:05:33.501351Z"
    }
   },
   "outputs": [
    {
     "name": "stdout",
     "output_type": "stream",
     "text": [
      "826 ns ± 0.899 ns per loop (mean ± std. dev. of 7 runs, 1,000,000 loops each)\n"
     ]
    }
   ],
   "source": [
    "%timeit FastTreeValue(_TREE_DATA_1)"
   ]
  },
  {
   "cell_type": "markdown",
   "id": "24f3707b",
   "metadata": {},
   "source": [
    "### Tianshou Batch's Initialization"
   ]
  },
  {
   "cell_type": "code",
   "execution_count": 15,
   "id": "ac3958df",
   "metadata": {
    "execution": {
     "iopub.execute_input": "2023-03-06T18:05:33.505786Z",
     "iopub.status.busy": "2023-03-06T18:05:33.505127Z",
     "iopub.status.idle": "2023-03-06T18:05:42.416352Z",
     "shell.execute_reply": "2023-03-06T18:05:42.415474Z"
    }
   },
   "outputs": [
    {
     "name": "stdout",
     "output_type": "stream",
     "text": [
      "11 µs ± 22 ns per loop (mean ± std. dev. of 7 runs, 100,000 loops each)\n"
     ]
    }
   ],
   "source": [
    "%timeit Batch(**_TREE_DATA_1)"
   ]
  },
  {
   "cell_type": "markdown",
   "id": "1ab82e2d",
   "metadata": {},
   "source": [
    "## Deep Copy Operation"
   ]
  },
  {
   "cell_type": "code",
   "execution_count": 16,
   "id": "210a9442",
   "metadata": {
    "execution": {
     "iopub.execute_input": "2023-03-06T18:05:42.420228Z",
     "iopub.status.busy": "2023-03-06T18:05:42.419804Z",
     "iopub.status.idle": "2023-03-06T18:05:42.423659Z",
     "shell.execute_reply": "2023-03-06T18:05:42.422963Z"
    }
   },
   "outputs": [],
   "source": [
    "import copy"
   ]
  },
  {
   "cell_type": "markdown",
   "id": "5a736274",
   "metadata": {},
   "source": [
    "### Deep Copy of TreeValue"
   ]
  },
  {
   "cell_type": "code",
   "execution_count": 17,
   "id": "f9bcadd6",
   "metadata": {
    "execution": {
     "iopub.execute_input": "2023-03-06T18:05:42.426654Z",
     "iopub.status.busy": "2023-03-06T18:05:42.426214Z",
     "iopub.status.idle": "2023-03-06T18:05:54.203466Z",
     "shell.execute_reply": "2023-03-06T18:05:54.202805Z"
    }
   },
   "outputs": [
    {
     "name": "stdout",
     "output_type": "stream",
     "text": [
      "145 µs ± 2.07 µs per loop (mean ± std. dev. of 7 runs, 10,000 loops each)\n"
     ]
    }
   ],
   "source": [
    "t3 = FastTreeValue(_TREE_DATA_3)\n",
    "%timeit copy.deepcopy(t3)"
   ]
  },
  {
   "cell_type": "markdown",
   "id": "bf8be7ea",
   "metadata": {},
   "source": [
    "### Deep Copy of Tianshou Batch"
   ]
  },
  {
   "cell_type": "code",
   "execution_count": 18,
   "id": "91998e6f",
   "metadata": {
    "execution": {
     "iopub.execute_input": "2023-03-06T18:05:54.206573Z",
     "iopub.status.busy": "2023-03-06T18:05:54.206051Z",
     "iopub.status.idle": "2023-03-06T18:06:05.694604Z",
     "shell.execute_reply": "2023-03-06T18:06:05.693749Z"
    }
   },
   "outputs": [
    {
     "name": "stdout",
     "output_type": "stream",
     "text": [
      "142 µs ± 782 ns per loop (mean ± std. dev. of 7 runs, 10,000 loops each)\n"
     ]
    }
   ],
   "source": [
    "b3 = Batch(**_TREE_DATA_3)\n",
    "%timeit copy.deepcopy(b3)"
   ]
  },
  {
   "cell_type": "markdown",
   "id": "223162fb",
   "metadata": {},
   "source": [
    "## Stack, Concat and Split Operation"
   ]
  },
  {
   "cell_type": "markdown",
   "id": "85fa4a73",
   "metadata": {},
   "source": [
    "### Performance of TreeValue"
   ]
  },
  {
   "cell_type": "code",
   "execution_count": 19,
   "id": "a0c2b697",
   "metadata": {
    "execution": {
     "iopub.execute_input": "2023-03-06T18:06:05.698183Z",
     "iopub.status.busy": "2023-03-06T18:06:05.697592Z",
     "iopub.status.idle": "2023-03-06T18:06:05.702510Z",
     "shell.execute_reply": "2023-03-06T18:06:05.701576Z"
    }
   },
   "outputs": [],
   "source": [
    "trees = [FastTreeValue(_TREE_DATA_2) for _ in range(8)]"
   ]
  },
  {
   "cell_type": "code",
   "execution_count": 20,
   "id": "017ea5a5",
   "metadata": {
    "execution": {
     "iopub.execute_input": "2023-03-06T18:06:05.705294Z",
     "iopub.status.busy": "2023-03-06T18:06:05.704936Z",
     "iopub.status.idle": "2023-03-06T18:06:05.713192Z",
     "shell.execute_reply": "2023-03-06T18:06:05.712594Z"
    }
   },
   "outputs": [
    {
     "data": {
      "text/plain": [
       "<FastTreeValue 0x7f7770157f10>\n",
       "├── 'a' --> tensor([[[-0.1889,  1.1145, -0.0769],\n",
       "│                    [ 0.6768,  0.3090, -1.1846]],\n",
       "│           \n",
       "│                   [[-0.1889,  1.1145, -0.0769],\n",
       "│                    [ 0.6768,  0.3090, -1.1846]],\n",
       "│           \n",
       "│                   [[-0.1889,  1.1145, -0.0769],\n",
       "│                    [ 0.6768,  0.3090, -1.1846]],\n",
       "│           \n",
       "│                   [[-0.1889,  1.1145, -0.0769],\n",
       "│                    [ 0.6768,  0.3090, -1.1846]],\n",
       "│           \n",
       "│                   [[-0.1889,  1.1145, -0.0769],\n",
       "│                    [ 0.6768,  0.3090, -1.1846]],\n",
       "│           \n",
       "│                   [[-0.1889,  1.1145, -0.0769],\n",
       "│                    [ 0.6768,  0.3090, -1.1846]],\n",
       "│           \n",
       "│                   [[-0.1889,  1.1145, -0.0769],\n",
       "│                    [ 0.6768,  0.3090, -1.1846]],\n",
       "│           \n",
       "│                   [[-0.1889,  1.1145, -0.0769],\n",
       "│                    [ 0.6768,  0.3090, -1.1846]]])\n",
       "└── 'x' --> <FastTreeValue 0x7f7814862790>\n",
       "    └── 'c' --> tensor([[[ 0.6928, -1.4038,  1.6759, -0.2158],\n",
       "                         [-1.1650,  0.9554, -1.5304, -0.6807],\n",
       "                         [-0.2686, -0.6824,  0.6736, -0.9919]],\n",
       "                \n",
       "                        [[ 0.6928, -1.4038,  1.6759, -0.2158],\n",
       "                         [-1.1650,  0.9554, -1.5304, -0.6807],\n",
       "                         [-0.2686, -0.6824,  0.6736, -0.9919]],\n",
       "                \n",
       "                        [[ 0.6928, -1.4038,  1.6759, -0.2158],\n",
       "                         [-1.1650,  0.9554, -1.5304, -0.6807],\n",
       "                         [-0.2686, -0.6824,  0.6736, -0.9919]],\n",
       "                \n",
       "                        [[ 0.6928, -1.4038,  1.6759, -0.2158],\n",
       "                         [-1.1650,  0.9554, -1.5304, -0.6807],\n",
       "                         [-0.2686, -0.6824,  0.6736, -0.9919]],\n",
       "                \n",
       "                        [[ 0.6928, -1.4038,  1.6759, -0.2158],\n",
       "                         [-1.1650,  0.9554, -1.5304, -0.6807],\n",
       "                         [-0.2686, -0.6824,  0.6736, -0.9919]],\n",
       "                \n",
       "                        [[ 0.6928, -1.4038,  1.6759, -0.2158],\n",
       "                         [-1.1650,  0.9554, -1.5304, -0.6807],\n",
       "                         [-0.2686, -0.6824,  0.6736, -0.9919]],\n",
       "                \n",
       "                        [[ 0.6928, -1.4038,  1.6759, -0.2158],\n",
       "                         [-1.1650,  0.9554, -1.5304, -0.6807],\n",
       "                         [-0.2686, -0.6824,  0.6736, -0.9919]],\n",
       "                \n",
       "                        [[ 0.6928, -1.4038,  1.6759, -0.2158],\n",
       "                         [-1.1650,  0.9554, -1.5304, -0.6807],\n",
       "                         [-0.2686, -0.6824,  0.6736, -0.9919]]])"
      ]
     },
     "execution_count": 20,
     "metadata": {},
     "output_type": "execute_result"
    }
   ],
   "source": [
    "t_stack = FastTreeValue.func(subside=True)(torch.stack)\n",
    "\n",
    "t_stack(trees)"
   ]
  },
  {
   "cell_type": "code",
   "execution_count": 21,
   "id": "f8b3f415",
   "metadata": {
    "execution": {
     "iopub.execute_input": "2023-03-06T18:06:05.716143Z",
     "iopub.status.busy": "2023-03-06T18:06:05.715640Z",
     "iopub.status.idle": "2023-03-06T18:06:08.345326Z",
     "shell.execute_reply": "2023-03-06T18:06:08.344420Z"
    }
   },
   "outputs": [
    {
     "name": "stdout",
     "output_type": "stream",
     "text": [
      "32.3 µs ± 71.5 ns per loop (mean ± std. dev. of 7 runs, 10,000 loops each)\n"
     ]
    }
   ],
   "source": [
    "%timeit t_stack(trees)"
   ]
  },
  {
   "cell_type": "code",
   "execution_count": 22,
   "id": "94b56771",
   "metadata": {
    "execution": {
     "iopub.execute_input": "2023-03-06T18:06:08.348853Z",
     "iopub.status.busy": "2023-03-06T18:06:08.348259Z",
     "iopub.status.idle": "2023-03-06T18:06:08.356745Z",
     "shell.execute_reply": "2023-03-06T18:06:08.356127Z"
    }
   },
   "outputs": [
    {
     "data": {
      "text/plain": [
       "<FastTreeValue 0x7f7769534e20>\n",
       "├── 'a' --> tensor([[-0.1889,  1.1145, -0.0769],\n",
       "│                   [ 0.6768,  0.3090, -1.1846],\n",
       "│                   [-0.1889,  1.1145, -0.0769],\n",
       "│                   [ 0.6768,  0.3090, -1.1846],\n",
       "│                   [-0.1889,  1.1145, -0.0769],\n",
       "│                   [ 0.6768,  0.3090, -1.1846],\n",
       "│                   [-0.1889,  1.1145, -0.0769],\n",
       "│                   [ 0.6768,  0.3090, -1.1846],\n",
       "│                   [-0.1889,  1.1145, -0.0769],\n",
       "│                   [ 0.6768,  0.3090, -1.1846],\n",
       "│                   [-0.1889,  1.1145, -0.0769],\n",
       "│                   [ 0.6768,  0.3090, -1.1846],\n",
       "│                   [-0.1889,  1.1145, -0.0769],\n",
       "│                   [ 0.6768,  0.3090, -1.1846],\n",
       "│                   [-0.1889,  1.1145, -0.0769],\n",
       "│                   [ 0.6768,  0.3090, -1.1846]])\n",
       "└── 'x' --> <FastTreeValue 0x7f7769534f10>\n",
       "    └── 'c' --> tensor([[ 0.6928, -1.4038,  1.6759, -0.2158],\n",
       "                        [-1.1650,  0.9554, -1.5304, -0.6807],\n",
       "                        [-0.2686, -0.6824,  0.6736, -0.9919],\n",
       "                        [ 0.6928, -1.4038,  1.6759, -0.2158],\n",
       "                        [-1.1650,  0.9554, -1.5304, -0.6807],\n",
       "                        [-0.2686, -0.6824,  0.6736, -0.9919],\n",
       "                        [ 0.6928, -1.4038,  1.6759, -0.2158],\n",
       "                        [-1.1650,  0.9554, -1.5304, -0.6807],\n",
       "                        [-0.2686, -0.6824,  0.6736, -0.9919],\n",
       "                        [ 0.6928, -1.4038,  1.6759, -0.2158],\n",
       "                        [-1.1650,  0.9554, -1.5304, -0.6807],\n",
       "                        [-0.2686, -0.6824,  0.6736, -0.9919],\n",
       "                        [ 0.6928, -1.4038,  1.6759, -0.2158],\n",
       "                        [-1.1650,  0.9554, -1.5304, -0.6807],\n",
       "                        [-0.2686, -0.6824,  0.6736, -0.9919],\n",
       "                        [ 0.6928, -1.4038,  1.6759, -0.2158],\n",
       "                        [-1.1650,  0.9554, -1.5304, -0.6807],\n",
       "                        [-0.2686, -0.6824,  0.6736, -0.9919],\n",
       "                        [ 0.6928, -1.4038,  1.6759, -0.2158],\n",
       "                        [-1.1650,  0.9554, -1.5304, -0.6807],\n",
       "                        [-0.2686, -0.6824,  0.6736, -0.9919],\n",
       "                        [ 0.6928, -1.4038,  1.6759, -0.2158],\n",
       "                        [-1.1650,  0.9554, -1.5304, -0.6807],\n",
       "                        [-0.2686, -0.6824,  0.6736, -0.9919]])"
      ]
     },
     "execution_count": 22,
     "metadata": {},
     "output_type": "execute_result"
    }
   ],
   "source": [
    "t_cat = FastTreeValue.func(subside=True)(torch.cat)\n",
    "\n",
    "t_cat(trees)"
   ]
  },
  {
   "cell_type": "code",
   "execution_count": 23,
   "id": "5e9c06a6",
   "metadata": {
    "execution": {
     "iopub.execute_input": "2023-03-06T18:06:08.359749Z",
     "iopub.status.busy": "2023-03-06T18:06:08.359400Z",
     "iopub.status.idle": "2023-03-06T18:06:10.808927Z",
     "shell.execute_reply": "2023-03-06T18:06:10.808006Z"
    }
   },
   "outputs": [
    {
     "name": "stdout",
     "output_type": "stream",
     "text": [
      "30.1 µs ± 57.1 ns per loop (mean ± std. dev. of 7 runs, 10,000 loops each)\n"
     ]
    }
   ],
   "source": [
    "%timeit t_cat(trees)"
   ]
  },
  {
   "cell_type": "code",
   "execution_count": 24,
   "id": "a3ab5c8f",
   "metadata": {
    "execution": {
     "iopub.execute_input": "2023-03-06T18:06:10.812452Z",
     "iopub.status.busy": "2023-03-06T18:06:10.811948Z",
     "iopub.status.idle": "2023-03-06T18:06:15.482846Z",
     "shell.execute_reply": "2023-03-06T18:06:15.481930Z"
    }
   },
   "outputs": [
    {
     "name": "stdout",
     "output_type": "stream",
     "text": [
      "57.4 µs ± 46.4 ns per loop (mean ± std. dev. of 7 runs, 10,000 loops each)\n"
     ]
    }
   ],
   "source": [
    "t_split = FastTreeValue.func(rise=True)(torch.split)\n",
    "tree = FastTreeValue({\n",
    "    'obs': torch.randn(8, 4, 84, 84),\n",
    "    'action': torch.randint(0, 6, size=(8, 1,)),\n",
    "    'reward': torch.rand(8, 1),\n",
    "})\n",
    "\n",
    "%timeit t_split(tree, 1)"
   ]
  },
  {
   "cell_type": "markdown",
   "id": "31c3ec0b",
   "metadata": {},
   "source": [
    "### Performance of Tianshou Batch"
   ]
  },
  {
   "cell_type": "code",
   "execution_count": 25,
   "id": "9ead828a",
   "metadata": {
    "execution": {
     "iopub.execute_input": "2023-03-06T18:06:15.486727Z",
     "iopub.status.busy": "2023-03-06T18:06:15.485984Z",
     "iopub.status.idle": "2023-03-06T18:06:15.494785Z",
     "shell.execute_reply": "2023-03-06T18:06:15.494164Z"
    }
   },
   "outputs": [
    {
     "data": {
      "text/plain": [
       "Batch(\n",
       "    x: Batch(\n",
       "           c: tensor([[[ 0.6928, -1.4038,  1.6759, -0.2158],\n",
       "                       [-1.1650,  0.9554, -1.5304, -0.6807],\n",
       "                       [-0.2686, -0.6824,  0.6736, -0.9919]],\n",
       "              \n",
       "                      [[ 0.6928, -1.4038,  1.6759, -0.2158],\n",
       "                       [-1.1650,  0.9554, -1.5304, -0.6807],\n",
       "                       [-0.2686, -0.6824,  0.6736, -0.9919]],\n",
       "              \n",
       "                      [[ 0.6928, -1.4038,  1.6759, -0.2158],\n",
       "                       [-1.1650,  0.9554, -1.5304, -0.6807],\n",
       "                       [-0.2686, -0.6824,  0.6736, -0.9919]],\n",
       "              \n",
       "                      [[ 0.6928, -1.4038,  1.6759, -0.2158],\n",
       "                       [-1.1650,  0.9554, -1.5304, -0.6807],\n",
       "                       [-0.2686, -0.6824,  0.6736, -0.9919]],\n",
       "              \n",
       "                      [[ 0.6928, -1.4038,  1.6759, -0.2158],\n",
       "                       [-1.1650,  0.9554, -1.5304, -0.6807],\n",
       "                       [-0.2686, -0.6824,  0.6736, -0.9919]],\n",
       "              \n",
       "                      [[ 0.6928, -1.4038,  1.6759, -0.2158],\n",
       "                       [-1.1650,  0.9554, -1.5304, -0.6807],\n",
       "                       [-0.2686, -0.6824,  0.6736, -0.9919]],\n",
       "              \n",
       "                      [[ 0.6928, -1.4038,  1.6759, -0.2158],\n",
       "                       [-1.1650,  0.9554, -1.5304, -0.6807],\n",
       "                       [-0.2686, -0.6824,  0.6736, -0.9919]],\n",
       "              \n",
       "                      [[ 0.6928, -1.4038,  1.6759, -0.2158],\n",
       "                       [-1.1650,  0.9554, -1.5304, -0.6807],\n",
       "                       [-0.2686, -0.6824,  0.6736, -0.9919]]]),\n",
       "       ),\n",
       "    a: tensor([[[-0.1889,  1.1145, -0.0769],\n",
       "                [ 0.6768,  0.3090, -1.1846]],\n",
       "       \n",
       "               [[-0.1889,  1.1145, -0.0769],\n",
       "                [ 0.6768,  0.3090, -1.1846]],\n",
       "       \n",
       "               [[-0.1889,  1.1145, -0.0769],\n",
       "                [ 0.6768,  0.3090, -1.1846]],\n",
       "       \n",
       "               [[-0.1889,  1.1145, -0.0769],\n",
       "                [ 0.6768,  0.3090, -1.1846]],\n",
       "       \n",
       "               [[-0.1889,  1.1145, -0.0769],\n",
       "                [ 0.6768,  0.3090, -1.1846]],\n",
       "       \n",
       "               [[-0.1889,  1.1145, -0.0769],\n",
       "                [ 0.6768,  0.3090, -1.1846]],\n",
       "       \n",
       "               [[-0.1889,  1.1145, -0.0769],\n",
       "                [ 0.6768,  0.3090, -1.1846]],\n",
       "       \n",
       "               [[-0.1889,  1.1145, -0.0769],\n",
       "                [ 0.6768,  0.3090, -1.1846]]]),\n",
       ")"
      ]
     },
     "execution_count": 25,
     "metadata": {},
     "output_type": "execute_result"
    }
   ],
   "source": [
    "batches = [Batch(**_TREE_DATA_2) for _ in range(8)]\n",
    "\n",
    "Batch.stack(batches)"
   ]
  },
  {
   "cell_type": "code",
   "execution_count": 26,
   "id": "ec9037a3",
   "metadata": {
    "execution": {
     "iopub.execute_input": "2023-03-06T18:06:15.497622Z",
     "iopub.status.busy": "2023-03-06T18:06:15.497255Z",
     "iopub.status.idle": "2023-03-06T18:06:21.744608Z",
     "shell.execute_reply": "2023-03-06T18:06:21.743796Z"
    }
   },
   "outputs": [
    {
     "name": "stdout",
     "output_type": "stream",
     "text": [
      "76.8 µs ± 40.3 ns per loop (mean ± std. dev. of 7 runs, 10,000 loops each)\n"
     ]
    }
   ],
   "source": [
    "%timeit Batch.stack(batches)"
   ]
  },
  {
   "cell_type": "code",
   "execution_count": 27,
   "id": "cb8ab77e",
   "metadata": {
    "execution": {
     "iopub.execute_input": "2023-03-06T18:06:21.748297Z",
     "iopub.status.busy": "2023-03-06T18:06:21.747708Z",
     "iopub.status.idle": "2023-03-06T18:06:21.755709Z",
     "shell.execute_reply": "2023-03-06T18:06:21.754972Z"
    }
   },
   "outputs": [
    {
     "data": {
      "text/plain": [
       "Batch(\n",
       "    x: Batch(\n",
       "           c: tensor([[ 0.6928, -1.4038,  1.6759, -0.2158],\n",
       "                      [-1.1650,  0.9554, -1.5304, -0.6807],\n",
       "                      [-0.2686, -0.6824,  0.6736, -0.9919],\n",
       "                      [ 0.6928, -1.4038,  1.6759, -0.2158],\n",
       "                      [-1.1650,  0.9554, -1.5304, -0.6807],\n",
       "                      [-0.2686, -0.6824,  0.6736, -0.9919],\n",
       "                      [ 0.6928, -1.4038,  1.6759, -0.2158],\n",
       "                      [-1.1650,  0.9554, -1.5304, -0.6807],\n",
       "                      [-0.2686, -0.6824,  0.6736, -0.9919],\n",
       "                      [ 0.6928, -1.4038,  1.6759, -0.2158],\n",
       "                      [-1.1650,  0.9554, -1.5304, -0.6807],\n",
       "                      [-0.2686, -0.6824,  0.6736, -0.9919],\n",
       "                      [ 0.6928, -1.4038,  1.6759, -0.2158],\n",
       "                      [-1.1650,  0.9554, -1.5304, -0.6807],\n",
       "                      [-0.2686, -0.6824,  0.6736, -0.9919],\n",
       "                      [ 0.6928, -1.4038,  1.6759, -0.2158],\n",
       "                      [-1.1650,  0.9554, -1.5304, -0.6807],\n",
       "                      [-0.2686, -0.6824,  0.6736, -0.9919],\n",
       "                      [ 0.6928, -1.4038,  1.6759, -0.2158],\n",
       "                      [-1.1650,  0.9554, -1.5304, -0.6807],\n",
       "                      [-0.2686, -0.6824,  0.6736, -0.9919],\n",
       "                      [ 0.6928, -1.4038,  1.6759, -0.2158],\n",
       "                      [-1.1650,  0.9554, -1.5304, -0.6807],\n",
       "                      [-0.2686, -0.6824,  0.6736, -0.9919]]),\n",
       "       ),\n",
       "    a: tensor([[-0.1889,  1.1145, -0.0769],\n",
       "               [ 0.6768,  0.3090, -1.1846],\n",
       "               [-0.1889,  1.1145, -0.0769],\n",
       "               [ 0.6768,  0.3090, -1.1846],\n",
       "               [-0.1889,  1.1145, -0.0769],\n",
       "               [ 0.6768,  0.3090, -1.1846],\n",
       "               [-0.1889,  1.1145, -0.0769],\n",
       "               [ 0.6768,  0.3090, -1.1846],\n",
       "               [-0.1889,  1.1145, -0.0769],\n",
       "               [ 0.6768,  0.3090, -1.1846],\n",
       "               [-0.1889,  1.1145, -0.0769],\n",
       "               [ 0.6768,  0.3090, -1.1846],\n",
       "               [-0.1889,  1.1145, -0.0769],\n",
       "               [ 0.6768,  0.3090, -1.1846],\n",
       "               [-0.1889,  1.1145, -0.0769],\n",
       "               [ 0.6768,  0.3090, -1.1846]]),\n",
       ")"
      ]
     },
     "execution_count": 27,
     "metadata": {},
     "output_type": "execute_result"
    }
   ],
   "source": [
    "Batch.cat(batches)"
   ]
  },
  {
   "cell_type": "code",
   "execution_count": 28,
   "id": "18dfb045",
   "metadata": {
    "execution": {
     "iopub.execute_input": "2023-03-06T18:06:21.759151Z",
     "iopub.status.busy": "2023-03-06T18:06:21.758743Z",
     "iopub.status.idle": "2023-03-06T18:06:33.481179Z",
     "shell.execute_reply": "2023-03-06T18:06:33.480281Z"
    }
   },
   "outputs": [
    {
     "name": "stdout",
     "output_type": "stream",
     "text": [
      "144 µs ± 412 ns per loop (mean ± std. dev. of 7 runs, 10,000 loops each)\n"
     ]
    }
   ],
   "source": [
    "%timeit Batch.cat(batches)"
   ]
  },
  {
   "cell_type": "code",
   "execution_count": 29,
   "id": "c6688e51",
   "metadata": {
    "execution": {
     "iopub.execute_input": "2023-03-06T18:06:33.484642Z",
     "iopub.status.busy": "2023-03-06T18:06:33.484366Z",
     "iopub.status.idle": "2023-03-06T18:06:36.164897Z",
     "shell.execute_reply": "2023-03-06T18:06:36.164209Z"
    }
   },
   "outputs": [
    {
     "name": "stdout",
     "output_type": "stream",
     "text": [
      "329 µs ± 2.14 µs per loop (mean ± std. dev. of 7 runs, 1,000 loops each)\n"
     ]
    }
   ],
   "source": [
    "batch = Batch({\n",
    "    'obs': torch.randn(8, 4, 84, 84),\n",
    "    'action': torch.randint(0, 6, size=(8, 1,)),\n",
    "    'reward': torch.rand(8, 1)}\n",
    ")\n",
    "\n",
    "%timeit list(Batch.split(batch, 1, shuffle=False, merge_last=True))"
   ]
  },
  {
   "cell_type": "code",
   "execution_count": null,
   "id": "2539fbd9",
   "metadata": {},
   "outputs": [],
   "source": []
  }
 ],
 "metadata": {
  "kernelspec": {
   "display_name": "Python 3 (ipykernel)",
   "language": "python",
   "name": "python3"
  },
  "language_info": {
   "codemirror_mode": {
    "name": "ipython",
    "version": 3
   },
   "file_extension": ".py",
   "mimetype": "text/x-python",
   "name": "python",
   "nbconvert_exporter": "python",
   "pygments_lexer": "ipython3",
   "version": "3.8.16"
  }
 },
 "nbformat": 4,
 "nbformat_minor": 5
}
