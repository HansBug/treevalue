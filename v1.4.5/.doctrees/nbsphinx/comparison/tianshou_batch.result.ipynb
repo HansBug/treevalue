{
 "cells": [
  {
   "cell_type": "markdown",
   "id": "9d39d946",
   "metadata": {},
   "source": [
    "# Comparison Between TreeValue and Tianshou Batch"
   ]
  },
  {
   "cell_type": "markdown",
   "id": "3c6db2d4",
   "metadata": {},
   "source": [
    "In this section, we will take a look at the feature and performance of the [Tianshou Batch](https://github.com/thu-ml/tianshou) library, which is developed by Tsinghua Machine Learning Group."
   ]
  },
  {
   "cell_type": "markdown",
   "id": "069361b0",
   "metadata": {},
   "source": [
    "Before starting the comparison, let us define some thing."
   ]
  },
  {
   "cell_type": "code",
   "execution_count": 1,
   "id": "06fc8d26",
   "metadata": {
    "execution": {
     "iopub.execute_input": "2023-02-25T18:44:06.391659Z",
     "iopub.status.busy": "2023-02-25T18:44:06.390708Z",
     "iopub.status.idle": "2023-02-25T18:44:07.369547Z",
     "shell.execute_reply": "2023-02-25T18:44:07.368668Z"
    }
   },
   "outputs": [
    {
     "name": "stderr",
     "output_type": "stream",
     "text": [
      "/opt/hostedtoolcache/Python/3.8.16/x64/lib/python3.8/site-packages/tqdm/auto.py:22: TqdmWarning: IProgress not found. Please update jupyter and ipywidgets. See https://ipywidgets.readthedocs.io/en/stable/user_install.html\n",
      "  from .autonotebook import tqdm as notebook_tqdm\n"
     ]
    }
   ],
   "source": [
    "import torch \n",
    "\n",
    "_TREE_DATA_1 = {'a': 1, 'b': 2, 'x': {'c': 3, 'd': 4}}\n",
    "_TREE_DATA_2 = {\n",
    "    'a': torch.randn(2, 3), \n",
    "    'x': {\n",
    "        'c': torch.randn(3, 4)\n",
    "    },\n",
    "}\n",
    "_TREE_DATA_3 = {\n",
    "    'obs': torch.randn(4, 84, 84),\n",
    "    'action': torch.randint(0, 6, size=(1,)),\n",
    "    'reward': torch.rand(1),\n",
    "}"
   ]
  },
  {
   "cell_type": "markdown",
   "id": "83461b25",
   "metadata": {},
   "source": [
    "## Read and Write Operation"
   ]
  },
  {
   "cell_type": "markdown",
   "id": "067b3f73",
   "metadata": {},
   "source": [
    "Reading and writing are the two most common operations in the tree data structure based on the data model (TreeValue and Tianshou Batch both belong to this type), so this section will compare the reading and writing performance of these two libraries."
   ]
  },
  {
   "cell_type": "markdown",
   "id": "5d09a5b7",
   "metadata": {},
   "source": [
    "### TreeValue's Get and Set"
   ]
  },
  {
   "cell_type": "code",
   "execution_count": 2,
   "id": "9519c4bb",
   "metadata": {
    "execution": {
     "iopub.execute_input": "2023-02-25T18:44:07.373444Z",
     "iopub.status.busy": "2023-02-25T18:44:07.372927Z",
     "iopub.status.idle": "2023-02-25T18:44:07.407872Z",
     "shell.execute_reply": "2023-02-25T18:44:07.407139Z"
    }
   },
   "outputs": [],
   "source": [
    "from treevalue import FastTreeValue\n",
    "\n",
    "t = FastTreeValue(_TREE_DATA_2)"
   ]
  },
  {
   "cell_type": "code",
   "execution_count": 3,
   "id": "11c37677",
   "metadata": {
    "execution": {
     "iopub.execute_input": "2023-02-25T18:44:07.411514Z",
     "iopub.status.busy": "2023-02-25T18:44:07.410844Z",
     "iopub.status.idle": "2023-02-25T18:44:07.421478Z",
     "shell.execute_reply": "2023-02-25T18:44:07.420272Z"
    }
   },
   "outputs": [
    {
     "data": {
      "text/plain": [
       "<FastTreeValue 0x7f7d14a57970>\n",
       "├── 'a' --> tensor([[ 1.2364, -1.1034, -0.6518],\n",
       "│                   [-0.8774,  0.0566, -1.0533]])\n",
       "└── 'x' --> <FastTreeValue 0x7f7d14a57340>\n",
       "    └── 'c' --> tensor([[-0.0288, -2.4260, -0.4094,  1.3185],\n",
       "                        [-0.0968, -0.7687, -0.7208, -0.0608],\n",
       "                        [ 0.2771,  0.9496,  0.5076, -0.4765]])"
      ]
     },
     "execution_count": 3,
     "metadata": {},
     "output_type": "execute_result"
    }
   ],
   "source": [
    "t"
   ]
  },
  {
   "cell_type": "code",
   "execution_count": 4,
   "id": "fd70b0b9",
   "metadata": {
    "execution": {
     "iopub.execute_input": "2023-02-25T18:44:07.424685Z",
     "iopub.status.busy": "2023-02-25T18:44:07.424143Z",
     "iopub.status.idle": "2023-02-25T18:44:07.430380Z",
     "shell.execute_reply": "2023-02-25T18:44:07.429577Z"
    }
   },
   "outputs": [
    {
     "data": {
      "text/plain": [
       "tensor([[ 1.2364, -1.1034, -0.6518],\n",
       "        [-0.8774,  0.0566, -1.0533]])"
      ]
     },
     "execution_count": 4,
     "metadata": {},
     "output_type": "execute_result"
    }
   ],
   "source": [
    "t.a"
   ]
  },
  {
   "cell_type": "code",
   "execution_count": 5,
   "id": "c18197bd",
   "metadata": {
    "execution": {
     "iopub.execute_input": "2023-02-25T18:44:07.433245Z",
     "iopub.status.busy": "2023-02-25T18:44:07.432878Z",
     "iopub.status.idle": "2023-02-25T18:44:12.626166Z",
     "shell.execute_reply": "2023-02-25T18:44:12.625405Z"
    }
   },
   "outputs": [
    {
     "name": "stdout",
     "output_type": "stream",
     "text": [
      "63.8 ns ± 0.0801 ns per loop (mean ± std. dev. of 7 runs, 10,000,000 loops each)\n"
     ]
    }
   ],
   "source": [
    "%timeit t.a"
   ]
  },
  {
   "cell_type": "code",
   "execution_count": 6,
   "id": "bd52f867",
   "metadata": {
    "execution": {
     "iopub.execute_input": "2023-02-25T18:44:12.629701Z",
     "iopub.status.busy": "2023-02-25T18:44:12.628911Z",
     "iopub.status.idle": "2023-02-25T18:44:12.635162Z",
     "shell.execute_reply": "2023-02-25T18:44:12.634584Z"
    }
   },
   "outputs": [
    {
     "data": {
      "text/plain": [
       "<FastTreeValue 0x7f7d14a57970>\n",
       "├── 'a' --> tensor([[-0.6656, -0.0113,  0.3428],\n",
       "│                   [ 1.2313,  0.1045,  0.0771]])\n",
       "└── 'x' --> <FastTreeValue 0x7f7d14a57340>\n",
       "    └── 'c' --> tensor([[-0.0288, -2.4260, -0.4094,  1.3185],\n",
       "                        [-0.0968, -0.7687, -0.7208, -0.0608],\n",
       "                        [ 0.2771,  0.9496,  0.5076, -0.4765]])"
      ]
     },
     "execution_count": 6,
     "metadata": {},
     "output_type": "execute_result"
    }
   ],
   "source": [
    "new_value = torch.randn(2, 3)\n",
    "t.a = new_value\n",
    "\n",
    "t"
   ]
  },
  {
   "cell_type": "code",
   "execution_count": 7,
   "id": "bbe04d1c",
   "metadata": {
    "execution": {
     "iopub.execute_input": "2023-02-25T18:44:12.637832Z",
     "iopub.status.busy": "2023-02-25T18:44:12.637348Z",
     "iopub.status.idle": "2023-02-25T18:44:17.999789Z",
     "shell.execute_reply": "2023-02-25T18:44:17.998874Z"
    }
   },
   "outputs": [
    {
     "name": "stdout",
     "output_type": "stream",
     "text": [
      "66.1 ns ± 0.0997 ns per loop (mean ± std. dev. of 7 runs, 10,000,000 loops each)\n"
     ]
    }
   ],
   "source": [
    "%timeit t.a = new_value"
   ]
  },
  {
   "cell_type": "markdown",
   "id": "48c49731",
   "metadata": {},
   "source": [
    "### Tianshou Batch's Get and Set"
   ]
  },
  {
   "cell_type": "code",
   "execution_count": 8,
   "id": "f1bb14c1",
   "metadata": {
    "execution": {
     "iopub.execute_input": "2023-02-25T18:44:18.003842Z",
     "iopub.status.busy": "2023-02-25T18:44:18.003266Z",
     "iopub.status.idle": "2023-02-25T18:44:18.376476Z",
     "shell.execute_reply": "2023-02-25T18:44:18.373488Z"
    }
   },
   "outputs": [],
   "source": [
    "from tianshou.data import Batch\n",
    "\n",
    "b = Batch(**_TREE_DATA_2)"
   ]
  },
  {
   "cell_type": "code",
   "execution_count": 9,
   "id": "cb0777c3",
   "metadata": {
    "execution": {
     "iopub.execute_input": "2023-02-25T18:44:18.380553Z",
     "iopub.status.busy": "2023-02-25T18:44:18.379915Z",
     "iopub.status.idle": "2023-02-25T18:44:18.386163Z",
     "shell.execute_reply": "2023-02-25T18:44:18.385438Z"
    }
   },
   "outputs": [
    {
     "data": {
      "text/plain": [
       "Batch(\n",
       "    a: tensor([[ 1.2364, -1.1034, -0.6518],\n",
       "               [-0.8774,  0.0566, -1.0533]]),\n",
       "    x: Batch(\n",
       "           c: tensor([[-0.0288, -2.4260, -0.4094,  1.3185],\n",
       "                      [-0.0968, -0.7687, -0.7208, -0.0608],\n",
       "                      [ 0.2771,  0.9496,  0.5076, -0.4765]]),\n",
       "       ),\n",
       ")"
      ]
     },
     "execution_count": 9,
     "metadata": {},
     "output_type": "execute_result"
    }
   ],
   "source": [
    "b"
   ]
  },
  {
   "cell_type": "code",
   "execution_count": 10,
   "id": "43ef8ea3",
   "metadata": {
    "execution": {
     "iopub.execute_input": "2023-02-25T18:44:18.389411Z",
     "iopub.status.busy": "2023-02-25T18:44:18.388760Z",
     "iopub.status.idle": "2023-02-25T18:44:18.393870Z",
     "shell.execute_reply": "2023-02-25T18:44:18.393189Z"
    }
   },
   "outputs": [
    {
     "data": {
      "text/plain": [
       "tensor([[ 1.2364, -1.1034, -0.6518],\n",
       "        [-0.8774,  0.0566, -1.0533]])"
      ]
     },
     "execution_count": 10,
     "metadata": {},
     "output_type": "execute_result"
    }
   ],
   "source": [
    "b.a"
   ]
  },
  {
   "cell_type": "code",
   "execution_count": 11,
   "id": "b785ab72",
   "metadata": {
    "execution": {
     "iopub.execute_input": "2023-02-25T18:44:18.396754Z",
     "iopub.status.busy": "2023-02-25T18:44:18.396401Z",
     "iopub.status.idle": "2023-02-25T18:44:23.434192Z",
     "shell.execute_reply": "2023-02-25T18:44:23.433354Z"
    }
   },
   "outputs": [
    {
     "name": "stdout",
     "output_type": "stream",
     "text": [
      "62.1 ns ± 0.0171 ns per loop (mean ± std. dev. of 7 runs, 10,000,000 loops each)\n"
     ]
    }
   ],
   "source": [
    "%timeit b.a"
   ]
  },
  {
   "cell_type": "code",
   "execution_count": 12,
   "id": "ad54dc69",
   "metadata": {
    "execution": {
     "iopub.execute_input": "2023-02-25T18:44:23.437449Z",
     "iopub.status.busy": "2023-02-25T18:44:23.437059Z",
     "iopub.status.idle": "2023-02-25T18:44:23.444278Z",
     "shell.execute_reply": "2023-02-25T18:44:23.443659Z"
    }
   },
   "outputs": [
    {
     "data": {
      "text/plain": [
       "Batch(\n",
       "    a: tensor([[ 1.5364,  0.3528,  0.2772],\n",
       "               [-0.6556, -1.3578, -0.0943]]),\n",
       "    x: Batch(\n",
       "           c: tensor([[-0.0288, -2.4260, -0.4094,  1.3185],\n",
       "                      [-0.0968, -0.7687, -0.7208, -0.0608],\n",
       "                      [ 0.2771,  0.9496,  0.5076, -0.4765]]),\n",
       "       ),\n",
       ")"
      ]
     },
     "execution_count": 12,
     "metadata": {},
     "output_type": "execute_result"
    }
   ],
   "source": [
    "new_value = torch.randn(2, 3)\n",
    "b.a = new_value\n",
    "\n",
    "b"
   ]
  },
  {
   "cell_type": "code",
   "execution_count": 13,
   "id": "29b1d0bf",
   "metadata": {
    "execution": {
     "iopub.execute_input": "2023-02-25T18:44:23.447054Z",
     "iopub.status.busy": "2023-02-25T18:44:23.446671Z",
     "iopub.status.idle": "2023-02-25T18:44:27.538741Z",
     "shell.execute_reply": "2023-02-25T18:44:27.537900Z"
    }
   },
   "outputs": [
    {
     "name": "stdout",
     "output_type": "stream",
     "text": [
      "503 ns ± 1.04 ns per loop (mean ± std. dev. of 7 runs, 1,000,000 loops each)\n"
     ]
    }
   ],
   "source": [
    "%timeit b.a = new_value"
   ]
  },
  {
   "cell_type": "markdown",
   "id": "b61ad1d0",
   "metadata": {},
   "source": [
    "## Initialization"
   ]
  },
  {
   "cell_type": "markdown",
   "id": "d70f0d54",
   "metadata": {},
   "source": [
    "### TreeValue's Initialization"
   ]
  },
  {
   "cell_type": "code",
   "execution_count": 14,
   "id": "d32a679b",
   "metadata": {
    "execution": {
     "iopub.execute_input": "2023-02-25T18:44:27.542284Z",
     "iopub.status.busy": "2023-02-25T18:44:27.541858Z",
     "iopub.status.idle": "2023-02-25T18:44:34.289545Z",
     "shell.execute_reply": "2023-02-25T18:44:34.288661Z"
    }
   },
   "outputs": [
    {
     "name": "stdout",
     "output_type": "stream",
     "text": [
      "829 ns ± 4.58 ns per loop (mean ± std. dev. of 7 runs, 1,000,000 loops each)\n"
     ]
    }
   ],
   "source": [
    "%timeit FastTreeValue(_TREE_DATA_1)"
   ]
  },
  {
   "cell_type": "markdown",
   "id": "24f3707b",
   "metadata": {},
   "source": [
    "### Tianshou Batch's Initialization"
   ]
  },
  {
   "cell_type": "code",
   "execution_count": 15,
   "id": "ac3958df",
   "metadata": {
    "execution": {
     "iopub.execute_input": "2023-02-25T18:44:34.293149Z",
     "iopub.status.busy": "2023-02-25T18:44:34.292559Z",
     "iopub.status.idle": "2023-02-25T18:44:43.024332Z",
     "shell.execute_reply": "2023-02-25T18:44:43.023485Z"
    }
   },
   "outputs": [
    {
     "name": "stdout",
     "output_type": "stream",
     "text": [
      "10.8 µs ± 20.7 ns per loop (mean ± std. dev. of 7 runs, 100,000 loops each)\n"
     ]
    }
   ],
   "source": [
    "%timeit Batch(**_TREE_DATA_1)"
   ]
  },
  {
   "cell_type": "markdown",
   "id": "1ab82e2d",
   "metadata": {},
   "source": [
    "## Deep Copy Operation"
   ]
  },
  {
   "cell_type": "code",
   "execution_count": 16,
   "id": "210a9442",
   "metadata": {
    "execution": {
     "iopub.execute_input": "2023-02-25T18:44:43.028420Z",
     "iopub.status.busy": "2023-02-25T18:44:43.027772Z",
     "iopub.status.idle": "2023-02-25T18:44:43.031940Z",
     "shell.execute_reply": "2023-02-25T18:44:43.031208Z"
    }
   },
   "outputs": [],
   "source": [
    "import copy"
   ]
  },
  {
   "cell_type": "markdown",
   "id": "5a736274",
   "metadata": {},
   "source": [
    "### Deep Copy of TreeValue"
   ]
  },
  {
   "cell_type": "code",
   "execution_count": 17,
   "id": "f9bcadd6",
   "metadata": {
    "execution": {
     "iopub.execute_input": "2023-02-25T18:44:43.035100Z",
     "iopub.status.busy": "2023-02-25T18:44:43.034542Z",
     "iopub.status.idle": "2023-02-25T18:44:54.642657Z",
     "shell.execute_reply": "2023-02-25T18:44:54.642021Z"
    }
   },
   "outputs": [
    {
     "name": "stdout",
     "output_type": "stream",
     "text": [
      "143 µs ± 1.48 µs per loop (mean ± std. dev. of 7 runs, 10,000 loops each)\n"
     ]
    }
   ],
   "source": [
    "t3 = FastTreeValue(_TREE_DATA_3)\n",
    "%timeit copy.deepcopy(t3)"
   ]
  },
  {
   "cell_type": "markdown",
   "id": "bf8be7ea",
   "metadata": {},
   "source": [
    "### Deep Copy of Tianshou Batch"
   ]
  },
  {
   "cell_type": "code",
   "execution_count": 18,
   "id": "91998e6f",
   "metadata": {
    "execution": {
     "iopub.execute_input": "2023-02-25T18:44:54.645737Z",
     "iopub.status.busy": "2023-02-25T18:44:54.645309Z",
     "iopub.status.idle": "2023-02-25T18:45:06.141728Z",
     "shell.execute_reply": "2023-02-25T18:45:06.141075Z"
    }
   },
   "outputs": [
    {
     "name": "stdout",
     "output_type": "stream",
     "text": [
      "142 µs ± 438 ns per loop (mean ± std. dev. of 7 runs, 10,000 loops each)\n"
     ]
    }
   ],
   "source": [
    "b3 = Batch(**_TREE_DATA_3)\n",
    "%timeit copy.deepcopy(b3)"
   ]
  },
  {
   "cell_type": "markdown",
   "id": "223162fb",
   "metadata": {},
   "source": [
    "## Stack, Concat and Split Operation"
   ]
  },
  {
   "cell_type": "markdown",
   "id": "85fa4a73",
   "metadata": {},
   "source": [
    "### Performance of TreeValue"
   ]
  },
  {
   "cell_type": "code",
   "execution_count": 19,
   "id": "a0c2b697",
   "metadata": {
    "execution": {
     "iopub.execute_input": "2023-02-25T18:45:06.144844Z",
     "iopub.status.busy": "2023-02-25T18:45:06.144383Z",
     "iopub.status.idle": "2023-02-25T18:45:06.147844Z",
     "shell.execute_reply": "2023-02-25T18:45:06.147271Z"
    }
   },
   "outputs": [],
   "source": [
    "trees = [FastTreeValue(_TREE_DATA_2) for _ in range(8)]"
   ]
  },
  {
   "cell_type": "code",
   "execution_count": 20,
   "id": "017ea5a5",
   "metadata": {
    "execution": {
     "iopub.execute_input": "2023-02-25T18:45:06.150486Z",
     "iopub.status.busy": "2023-02-25T18:45:06.150059Z",
     "iopub.status.idle": "2023-02-25T18:45:06.157168Z",
     "shell.execute_reply": "2023-02-25T18:45:06.156619Z"
    }
   },
   "outputs": [
    {
     "data": {
      "text/plain": [
       "<FastTreeValue 0x7f7c6a723550>\n",
       "├── 'a' --> tensor([[[ 1.2364, -1.1034, -0.6518],\n",
       "│                    [-0.8774,  0.0566, -1.0533]],\n",
       "│           \n",
       "│                   [[ 1.2364, -1.1034, -0.6518],\n",
       "│                    [-0.8774,  0.0566, -1.0533]],\n",
       "│           \n",
       "│                   [[ 1.2364, -1.1034, -0.6518],\n",
       "│                    [-0.8774,  0.0566, -1.0533]],\n",
       "│           \n",
       "│                   [[ 1.2364, -1.1034, -0.6518],\n",
       "│                    [-0.8774,  0.0566, -1.0533]],\n",
       "│           \n",
       "│                   [[ 1.2364, -1.1034, -0.6518],\n",
       "│                    [-0.8774,  0.0566, -1.0533]],\n",
       "│           \n",
       "│                   [[ 1.2364, -1.1034, -0.6518],\n",
       "│                    [-0.8774,  0.0566, -1.0533]],\n",
       "│           \n",
       "│                   [[ 1.2364, -1.1034, -0.6518],\n",
       "│                    [-0.8774,  0.0566, -1.0533]],\n",
       "│           \n",
       "│                   [[ 1.2364, -1.1034, -0.6518],\n",
       "│                    [-0.8774,  0.0566, -1.0533]]])\n",
       "└── 'x' --> <FastTreeValue 0x7f7c6a723430>\n",
       "    └── 'c' --> tensor([[[-0.0288, -2.4260, -0.4094,  1.3185],\n",
       "                         [-0.0968, -0.7687, -0.7208, -0.0608],\n",
       "                         [ 0.2771,  0.9496,  0.5076, -0.4765]],\n",
       "                \n",
       "                        [[-0.0288, -2.4260, -0.4094,  1.3185],\n",
       "                         [-0.0968, -0.7687, -0.7208, -0.0608],\n",
       "                         [ 0.2771,  0.9496,  0.5076, -0.4765]],\n",
       "                \n",
       "                        [[-0.0288, -2.4260, -0.4094,  1.3185],\n",
       "                         [-0.0968, -0.7687, -0.7208, -0.0608],\n",
       "                         [ 0.2771,  0.9496,  0.5076, -0.4765]],\n",
       "                \n",
       "                        [[-0.0288, -2.4260, -0.4094,  1.3185],\n",
       "                         [-0.0968, -0.7687, -0.7208, -0.0608],\n",
       "                         [ 0.2771,  0.9496,  0.5076, -0.4765]],\n",
       "                \n",
       "                        [[-0.0288, -2.4260, -0.4094,  1.3185],\n",
       "                         [-0.0968, -0.7687, -0.7208, -0.0608],\n",
       "                         [ 0.2771,  0.9496,  0.5076, -0.4765]],\n",
       "                \n",
       "                        [[-0.0288, -2.4260, -0.4094,  1.3185],\n",
       "                         [-0.0968, -0.7687, -0.7208, -0.0608],\n",
       "                         [ 0.2771,  0.9496,  0.5076, -0.4765]],\n",
       "                \n",
       "                        [[-0.0288, -2.4260, -0.4094,  1.3185],\n",
       "                         [-0.0968, -0.7687, -0.7208, -0.0608],\n",
       "                         [ 0.2771,  0.9496,  0.5076, -0.4765]],\n",
       "                \n",
       "                        [[-0.0288, -2.4260, -0.4094,  1.3185],\n",
       "                         [-0.0968, -0.7687, -0.7208, -0.0608],\n",
       "                         [ 0.2771,  0.9496,  0.5076, -0.4765]]])"
      ]
     },
     "execution_count": 20,
     "metadata": {},
     "output_type": "execute_result"
    }
   ],
   "source": [
    "t_stack = FastTreeValue.func(subside=True)(torch.stack)\n",
    "\n",
    "t_stack(trees)"
   ]
  },
  {
   "cell_type": "code",
   "execution_count": 21,
   "id": "f8b3f415",
   "metadata": {
    "execution": {
     "iopub.execute_input": "2023-02-25T18:45:06.159746Z",
     "iopub.status.busy": "2023-02-25T18:45:06.159326Z",
     "iopub.status.idle": "2023-02-25T18:45:08.736178Z",
     "shell.execute_reply": "2023-02-25T18:45:08.735324Z"
    }
   },
   "outputs": [
    {
     "name": "stdout",
     "output_type": "stream",
     "text": [
      "31.7 µs ± 68.6 ns per loop (mean ± std. dev. of 7 runs, 10,000 loops each)\n"
     ]
    }
   ],
   "source": [
    "%timeit t_stack(trees)"
   ]
  },
  {
   "cell_type": "code",
   "execution_count": 22,
   "id": "94b56771",
   "metadata": {
    "execution": {
     "iopub.execute_input": "2023-02-25T18:45:08.739414Z",
     "iopub.status.busy": "2023-02-25T18:45:08.738919Z",
     "iopub.status.idle": "2023-02-25T18:45:08.746398Z",
     "shell.execute_reply": "2023-02-25T18:45:08.745712Z"
    }
   },
   "outputs": [
    {
     "data": {
      "text/plain": [
       "<FastTreeValue 0x7f7c6a740d30>\n",
       "├── 'a' --> tensor([[ 1.2364, -1.1034, -0.6518],\n",
       "│                   [-0.8774,  0.0566, -1.0533],\n",
       "│                   [ 1.2364, -1.1034, -0.6518],\n",
       "│                   [-0.8774,  0.0566, -1.0533],\n",
       "│                   [ 1.2364, -1.1034, -0.6518],\n",
       "│                   [-0.8774,  0.0566, -1.0533],\n",
       "│                   [ 1.2364, -1.1034, -0.6518],\n",
       "│                   [-0.8774,  0.0566, -1.0533],\n",
       "│                   [ 1.2364, -1.1034, -0.6518],\n",
       "│                   [-0.8774,  0.0566, -1.0533],\n",
       "│                   [ 1.2364, -1.1034, -0.6518],\n",
       "│                   [-0.8774,  0.0566, -1.0533],\n",
       "│                   [ 1.2364, -1.1034, -0.6518],\n",
       "│                   [-0.8774,  0.0566, -1.0533],\n",
       "│                   [ 1.2364, -1.1034, -0.6518],\n",
       "│                   [-0.8774,  0.0566, -1.0533]])\n",
       "└── 'x' --> <FastTreeValue 0x7f7c6a78cfd0>\n",
       "    └── 'c' --> tensor([[-0.0288, -2.4260, -0.4094,  1.3185],\n",
       "                        [-0.0968, -0.7687, -0.7208, -0.0608],\n",
       "                        [ 0.2771,  0.9496,  0.5076, -0.4765],\n",
       "                        [-0.0288, -2.4260, -0.4094,  1.3185],\n",
       "                        [-0.0968, -0.7687, -0.7208, -0.0608],\n",
       "                        [ 0.2771,  0.9496,  0.5076, -0.4765],\n",
       "                        [-0.0288, -2.4260, -0.4094,  1.3185],\n",
       "                        [-0.0968, -0.7687, -0.7208, -0.0608],\n",
       "                        [ 0.2771,  0.9496,  0.5076, -0.4765],\n",
       "                        [-0.0288, -2.4260, -0.4094,  1.3185],\n",
       "                        [-0.0968, -0.7687, -0.7208, -0.0608],\n",
       "                        [ 0.2771,  0.9496,  0.5076, -0.4765],\n",
       "                        [-0.0288, -2.4260, -0.4094,  1.3185],\n",
       "                        [-0.0968, -0.7687, -0.7208, -0.0608],\n",
       "                        [ 0.2771,  0.9496,  0.5076, -0.4765],\n",
       "                        [-0.0288, -2.4260, -0.4094,  1.3185],\n",
       "                        [-0.0968, -0.7687, -0.7208, -0.0608],\n",
       "                        [ 0.2771,  0.9496,  0.5076, -0.4765],\n",
       "                        [-0.0288, -2.4260, -0.4094,  1.3185],\n",
       "                        [-0.0968, -0.7687, -0.7208, -0.0608],\n",
       "                        [ 0.2771,  0.9496,  0.5076, -0.4765],\n",
       "                        [-0.0288, -2.4260, -0.4094,  1.3185],\n",
       "                        [-0.0968, -0.7687, -0.7208, -0.0608],\n",
       "                        [ 0.2771,  0.9496,  0.5076, -0.4765]])"
      ]
     },
     "execution_count": 22,
     "metadata": {},
     "output_type": "execute_result"
    }
   ],
   "source": [
    "t_cat = FastTreeValue.func(subside=True)(torch.cat)\n",
    "\n",
    "t_cat(trees)"
   ]
  },
  {
   "cell_type": "code",
   "execution_count": 23,
   "id": "5e9c06a6",
   "metadata": {
    "execution": {
     "iopub.execute_input": "2023-02-25T18:45:08.749173Z",
     "iopub.status.busy": "2023-02-25T18:45:08.748634Z",
     "iopub.status.idle": "2023-02-25T18:45:11.157224Z",
     "shell.execute_reply": "2023-02-25T18:45:11.156358Z"
    }
   },
   "outputs": [
    {
     "name": "stdout",
     "output_type": "stream",
     "text": [
      "29.6 µs ± 53 ns per loop (mean ± std. dev. of 7 runs, 10,000 loops each)\n"
     ]
    }
   ],
   "source": [
    "%timeit t_cat(trees)"
   ]
  },
  {
   "cell_type": "code",
   "execution_count": 24,
   "id": "a3ab5c8f",
   "metadata": {
    "execution": {
     "iopub.execute_input": "2023-02-25T18:45:11.160567Z",
     "iopub.status.busy": "2023-02-25T18:45:11.160167Z",
     "iopub.status.idle": "2023-02-25T18:45:15.678948Z",
     "shell.execute_reply": "2023-02-25T18:45:15.678072Z"
    }
   },
   "outputs": [
    {
     "name": "stdout",
     "output_type": "stream",
     "text": [
      "55.5 µs ± 83.9 ns per loop (mean ± std. dev. of 7 runs, 10,000 loops each)\n"
     ]
    }
   ],
   "source": [
    "t_split = FastTreeValue.func(rise=True)(torch.split)\n",
    "tree = FastTreeValue({\n",
    "    'obs': torch.randn(8, 4, 84, 84),\n",
    "    'action': torch.randint(0, 6, size=(8, 1,)),\n",
    "    'reward': torch.rand(8, 1),\n",
    "})\n",
    "\n",
    "%timeit t_split(tree, 1)"
   ]
  },
  {
   "cell_type": "markdown",
   "id": "31c3ec0b",
   "metadata": {},
   "source": [
    "### Performance of Tianshou Batch"
   ]
  },
  {
   "cell_type": "code",
   "execution_count": 25,
   "id": "9ead828a",
   "metadata": {
    "execution": {
     "iopub.execute_input": "2023-02-25T18:45:15.682363Z",
     "iopub.status.busy": "2023-02-25T18:45:15.681940Z",
     "iopub.status.idle": "2023-02-25T18:45:15.690148Z",
     "shell.execute_reply": "2023-02-25T18:45:15.689400Z"
    }
   },
   "outputs": [
    {
     "data": {
      "text/plain": [
       "Batch(\n",
       "    x: Batch(\n",
       "           c: tensor([[[-0.0288, -2.4260, -0.4094,  1.3185],\n",
       "                       [-0.0968, -0.7687, -0.7208, -0.0608],\n",
       "                       [ 0.2771,  0.9496,  0.5076, -0.4765]],\n",
       "              \n",
       "                      [[-0.0288, -2.4260, -0.4094,  1.3185],\n",
       "                       [-0.0968, -0.7687, -0.7208, -0.0608],\n",
       "                       [ 0.2771,  0.9496,  0.5076, -0.4765]],\n",
       "              \n",
       "                      [[-0.0288, -2.4260, -0.4094,  1.3185],\n",
       "                       [-0.0968, -0.7687, -0.7208, -0.0608],\n",
       "                       [ 0.2771,  0.9496,  0.5076, -0.4765]],\n",
       "              \n",
       "                      [[-0.0288, -2.4260, -0.4094,  1.3185],\n",
       "                       [-0.0968, -0.7687, -0.7208, -0.0608],\n",
       "                       [ 0.2771,  0.9496,  0.5076, -0.4765]],\n",
       "              \n",
       "                      [[-0.0288, -2.4260, -0.4094,  1.3185],\n",
       "                       [-0.0968, -0.7687, -0.7208, -0.0608],\n",
       "                       [ 0.2771,  0.9496,  0.5076, -0.4765]],\n",
       "              \n",
       "                      [[-0.0288, -2.4260, -0.4094,  1.3185],\n",
       "                       [-0.0968, -0.7687, -0.7208, -0.0608],\n",
       "                       [ 0.2771,  0.9496,  0.5076, -0.4765]],\n",
       "              \n",
       "                      [[-0.0288, -2.4260, -0.4094,  1.3185],\n",
       "                       [-0.0968, -0.7687, -0.7208, -0.0608],\n",
       "                       [ 0.2771,  0.9496,  0.5076, -0.4765]],\n",
       "              \n",
       "                      [[-0.0288, -2.4260, -0.4094,  1.3185],\n",
       "                       [-0.0968, -0.7687, -0.7208, -0.0608],\n",
       "                       [ 0.2771,  0.9496,  0.5076, -0.4765]]]),\n",
       "       ),\n",
       "    a: tensor([[[ 1.2364, -1.1034, -0.6518],\n",
       "                [-0.8774,  0.0566, -1.0533]],\n",
       "       \n",
       "               [[ 1.2364, -1.1034, -0.6518],\n",
       "                [-0.8774,  0.0566, -1.0533]],\n",
       "       \n",
       "               [[ 1.2364, -1.1034, -0.6518],\n",
       "                [-0.8774,  0.0566, -1.0533]],\n",
       "       \n",
       "               [[ 1.2364, -1.1034, -0.6518],\n",
       "                [-0.8774,  0.0566, -1.0533]],\n",
       "       \n",
       "               [[ 1.2364, -1.1034, -0.6518],\n",
       "                [-0.8774,  0.0566, -1.0533]],\n",
       "       \n",
       "               [[ 1.2364, -1.1034, -0.6518],\n",
       "                [-0.8774,  0.0566, -1.0533]],\n",
       "       \n",
       "               [[ 1.2364, -1.1034, -0.6518],\n",
       "                [-0.8774,  0.0566, -1.0533]],\n",
       "       \n",
       "               [[ 1.2364, -1.1034, -0.6518],\n",
       "                [-0.8774,  0.0566, -1.0533]]]),\n",
       ")"
      ]
     },
     "execution_count": 25,
     "metadata": {},
     "output_type": "execute_result"
    }
   ],
   "source": [
    "batches = [Batch(**_TREE_DATA_2) for _ in range(8)]\n",
    "\n",
    "Batch.stack(batches)"
   ]
  },
  {
   "cell_type": "code",
   "execution_count": 26,
   "id": "ec9037a3",
   "metadata": {
    "execution": {
     "iopub.execute_input": "2023-02-25T18:45:15.693199Z",
     "iopub.status.busy": "2023-02-25T18:45:15.692829Z",
     "iopub.status.idle": "2023-02-25T18:45:22.003290Z",
     "shell.execute_reply": "2023-02-25T18:45:22.002394Z"
    }
   },
   "outputs": [
    {
     "name": "stdout",
     "output_type": "stream",
     "text": [
      "77.7 µs ± 69.4 ns per loop (mean ± std. dev. of 7 runs, 10,000 loops each)\n"
     ]
    }
   ],
   "source": [
    "%timeit Batch.stack(batches)"
   ]
  },
  {
   "cell_type": "code",
   "execution_count": 27,
   "id": "cb8ab77e",
   "metadata": {
    "execution": {
     "iopub.execute_input": "2023-02-25T18:45:22.006584Z",
     "iopub.status.busy": "2023-02-25T18:45:22.006191Z",
     "iopub.status.idle": "2023-02-25T18:45:22.014203Z",
     "shell.execute_reply": "2023-02-25T18:45:22.013572Z"
    }
   },
   "outputs": [
    {
     "data": {
      "text/plain": [
       "Batch(\n",
       "    x: Batch(\n",
       "           c: tensor([[-0.0288, -2.4260, -0.4094,  1.3185],\n",
       "                      [-0.0968, -0.7687, -0.7208, -0.0608],\n",
       "                      [ 0.2771,  0.9496,  0.5076, -0.4765],\n",
       "                      [-0.0288, -2.4260, -0.4094,  1.3185],\n",
       "                      [-0.0968, -0.7687, -0.7208, -0.0608],\n",
       "                      [ 0.2771,  0.9496,  0.5076, -0.4765],\n",
       "                      [-0.0288, -2.4260, -0.4094,  1.3185],\n",
       "                      [-0.0968, -0.7687, -0.7208, -0.0608],\n",
       "                      [ 0.2771,  0.9496,  0.5076, -0.4765],\n",
       "                      [-0.0288, -2.4260, -0.4094,  1.3185],\n",
       "                      [-0.0968, -0.7687, -0.7208, -0.0608],\n",
       "                      [ 0.2771,  0.9496,  0.5076, -0.4765],\n",
       "                      [-0.0288, -2.4260, -0.4094,  1.3185],\n",
       "                      [-0.0968, -0.7687, -0.7208, -0.0608],\n",
       "                      [ 0.2771,  0.9496,  0.5076, -0.4765],\n",
       "                      [-0.0288, -2.4260, -0.4094,  1.3185],\n",
       "                      [-0.0968, -0.7687, -0.7208, -0.0608],\n",
       "                      [ 0.2771,  0.9496,  0.5076, -0.4765],\n",
       "                      [-0.0288, -2.4260, -0.4094,  1.3185],\n",
       "                      [-0.0968, -0.7687, -0.7208, -0.0608],\n",
       "                      [ 0.2771,  0.9496,  0.5076, -0.4765],\n",
       "                      [-0.0288, -2.4260, -0.4094,  1.3185],\n",
       "                      [-0.0968, -0.7687, -0.7208, -0.0608],\n",
       "                      [ 0.2771,  0.9496,  0.5076, -0.4765]]),\n",
       "       ),\n",
       "    a: tensor([[ 1.2364, -1.1034, -0.6518],\n",
       "               [-0.8774,  0.0566, -1.0533],\n",
       "               [ 1.2364, -1.1034, -0.6518],\n",
       "               [-0.8774,  0.0566, -1.0533],\n",
       "               [ 1.2364, -1.1034, -0.6518],\n",
       "               [-0.8774,  0.0566, -1.0533],\n",
       "               [ 1.2364, -1.1034, -0.6518],\n",
       "               [-0.8774,  0.0566, -1.0533],\n",
       "               [ 1.2364, -1.1034, -0.6518],\n",
       "               [-0.8774,  0.0566, -1.0533],\n",
       "               [ 1.2364, -1.1034, -0.6518],\n",
       "               [-0.8774,  0.0566, -1.0533],\n",
       "               [ 1.2364, -1.1034, -0.6518],\n",
       "               [-0.8774,  0.0566, -1.0533],\n",
       "               [ 1.2364, -1.1034, -0.6518],\n",
       "               [-0.8774,  0.0566, -1.0533]]),\n",
       ")"
      ]
     },
     "execution_count": 27,
     "metadata": {},
     "output_type": "execute_result"
    }
   ],
   "source": [
    "Batch.cat(batches)"
   ]
  },
  {
   "cell_type": "code",
   "execution_count": 28,
   "id": "18dfb045",
   "metadata": {
    "execution": {
     "iopub.execute_input": "2023-02-25T18:45:22.017159Z",
     "iopub.status.busy": "2023-02-25T18:45:22.016788Z",
     "iopub.status.idle": "2023-02-25T18:45:33.629479Z",
     "shell.execute_reply": "2023-02-25T18:45:33.628534Z"
    }
   },
   "outputs": [
    {
     "name": "stdout",
     "output_type": "stream",
     "text": [
      "143 µs ± 412 ns per loop (mean ± std. dev. of 7 runs, 10,000 loops each)\n"
     ]
    }
   ],
   "source": [
    "%timeit Batch.cat(batches)"
   ]
  },
  {
   "cell_type": "code",
   "execution_count": 29,
   "id": "c6688e51",
   "metadata": {
    "execution": {
     "iopub.execute_input": "2023-02-25T18:45:33.632748Z",
     "iopub.status.busy": "2023-02-25T18:45:33.632362Z",
     "iopub.status.idle": "2023-02-25T18:45:36.322607Z",
     "shell.execute_reply": "2023-02-25T18:45:36.321780Z"
    }
   },
   "outputs": [
    {
     "name": "stdout",
     "output_type": "stream",
     "text": [
      "330 µs ± 3.58 µs per loop (mean ± std. dev. of 7 runs, 1,000 loops each)\n"
     ]
    }
   ],
   "source": [
    "batch = Batch({\n",
    "    'obs': torch.randn(8, 4, 84, 84),\n",
    "    'action': torch.randint(0, 6, size=(8, 1,)),\n",
    "    'reward': torch.rand(8, 1)}\n",
    ")\n",
    "\n",
    "%timeit list(Batch.split(batch, 1, shuffle=False, merge_last=True))"
   ]
  },
  {
   "cell_type": "code",
   "execution_count": null,
   "id": "2539fbd9",
   "metadata": {},
   "outputs": [],
   "source": []
  }
 ],
 "metadata": {
  "kernelspec": {
   "display_name": "Python 3 (ipykernel)",
   "language": "python",
   "name": "python3"
  },
  "language_info": {
   "codemirror_mode": {
    "name": "ipython",
    "version": 3
   },
   "file_extension": ".py",
   "mimetype": "text/x-python",
   "name": "python",
   "nbconvert_exporter": "python",
   "pygments_lexer": "ipython3",
   "version": "3.8.16"
  }
 },
 "nbformat": 4,
 "nbformat_minor": 5
}
