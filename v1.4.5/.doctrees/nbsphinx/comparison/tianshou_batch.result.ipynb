{
 "cells": [
  {
   "cell_type": "markdown",
   "id": "9d39d946",
   "metadata": {},
   "source": [
    "# Comparison Between TreeValue and Tianshou Batch"
   ]
  },
  {
   "cell_type": "markdown",
   "id": "3c6db2d4",
   "metadata": {},
   "source": [
    "In this section, we will take a look at the feature and performance of the [Tianshou Batch](https://github.com/thu-ml/tianshou) library, which is developed by Tsinghua Machine Learning Group."
   ]
  },
  {
   "cell_type": "markdown",
   "id": "069361b0",
   "metadata": {},
   "source": [
    "Before starting the comparison, let us define some thing."
   ]
  },
  {
   "cell_type": "code",
   "execution_count": 1,
   "id": "06fc8d26",
   "metadata": {
    "execution": {
     "iopub.execute_input": "2023-03-05T08:11:53.786378Z",
     "iopub.status.busy": "2023-03-05T08:11:53.786114Z",
     "iopub.status.idle": "2023-03-05T08:11:54.790804Z",
     "shell.execute_reply": "2023-03-05T08:11:54.790014Z"
    }
   },
   "outputs": [
    {
     "name": "stderr",
     "output_type": "stream",
     "text": [
      "/opt/hostedtoolcache/Python/3.8.16/x64/lib/python3.8/site-packages/tqdm/auto.py:21: TqdmWarning: IProgress not found. Please update jupyter and ipywidgets. See https://ipywidgets.readthedocs.io/en/stable/user_install.html\n",
      "  from .autonotebook import tqdm as notebook_tqdm\n"
     ]
    }
   ],
   "source": [
    "import torch \n",
    "\n",
    "_TREE_DATA_1 = {'a': 1, 'b': 2, 'x': {'c': 3, 'd': 4}}\n",
    "_TREE_DATA_2 = {\n",
    "    'a': torch.randn(2, 3), \n",
    "    'x': {\n",
    "        'c': torch.randn(3, 4)\n",
    "    },\n",
    "}\n",
    "_TREE_DATA_3 = {\n",
    "    'obs': torch.randn(4, 84, 84),\n",
    "    'action': torch.randint(0, 6, size=(1,)),\n",
    "    'reward': torch.rand(1),\n",
    "}"
   ]
  },
  {
   "cell_type": "markdown",
   "id": "83461b25",
   "metadata": {},
   "source": [
    "## Read and Write Operation"
   ]
  },
  {
   "cell_type": "markdown",
   "id": "067b3f73",
   "metadata": {},
   "source": [
    "Reading and writing are the two most common operations in the tree data structure based on the data model (TreeValue and Tianshou Batch both belong to this type), so this section will compare the reading and writing performance of these two libraries."
   ]
  },
  {
   "cell_type": "markdown",
   "id": "5d09a5b7",
   "metadata": {},
   "source": [
    "### TreeValue's Get and Set"
   ]
  },
  {
   "cell_type": "code",
   "execution_count": 2,
   "id": "9519c4bb",
   "metadata": {
    "execution": {
     "iopub.execute_input": "2023-03-05T08:11:54.795066Z",
     "iopub.status.busy": "2023-03-05T08:11:54.794542Z",
     "iopub.status.idle": "2023-03-05T08:11:54.829121Z",
     "shell.execute_reply": "2023-03-05T08:11:54.828417Z"
    }
   },
   "outputs": [],
   "source": [
    "from treevalue import FastTreeValue\n",
    "\n",
    "t = FastTreeValue(_TREE_DATA_2)"
   ]
  },
  {
   "cell_type": "code",
   "execution_count": 3,
   "id": "11c37677",
   "metadata": {
    "execution": {
     "iopub.execute_input": "2023-03-05T08:11:54.832614Z",
     "iopub.status.busy": "2023-03-05T08:11:54.832154Z",
     "iopub.status.idle": "2023-03-05T08:11:54.841870Z",
     "shell.execute_reply": "2023-03-05T08:11:54.841259Z"
    }
   },
   "outputs": [
    {
     "data": {
      "text/plain": [
       "<FastTreeValue 0x7f9dd64f29d0>\n",
       "├── 'a' --> tensor([[-2.2093,  0.9755, -1.5850],\n",
       "│                   [ 0.4887,  1.0629, -0.5890]])\n",
       "└── 'x' --> <FastTreeValue 0x7f9dd64f2b80>\n",
       "    └── 'c' --> tensor([[ 0.0284,  0.0632,  1.1628,  1.2552],\n",
       "                        [ 0.1224, -0.4259,  1.9420, -0.4451],\n",
       "                        [ 0.1487,  1.7391, -0.0879, -0.2843]])"
      ]
     },
     "execution_count": 3,
     "metadata": {},
     "output_type": "execute_result"
    }
   ],
   "source": [
    "t"
   ]
  },
  {
   "cell_type": "code",
   "execution_count": 4,
   "id": "fd70b0b9",
   "metadata": {
    "execution": {
     "iopub.execute_input": "2023-03-05T08:11:54.844694Z",
     "iopub.status.busy": "2023-03-05T08:11:54.844329Z",
     "iopub.status.idle": "2023-03-05T08:11:54.849715Z",
     "shell.execute_reply": "2023-03-05T08:11:54.849063Z"
    }
   },
   "outputs": [
    {
     "data": {
      "text/plain": [
       "tensor([[-2.2093,  0.9755, -1.5850],\n",
       "        [ 0.4887,  1.0629, -0.5890]])"
      ]
     },
     "execution_count": 4,
     "metadata": {},
     "output_type": "execute_result"
    }
   ],
   "source": [
    "t.a"
   ]
  },
  {
   "cell_type": "code",
   "execution_count": 5,
   "id": "c18197bd",
   "metadata": {
    "execution": {
     "iopub.execute_input": "2023-03-05T08:11:54.852545Z",
     "iopub.status.busy": "2023-03-05T08:11:54.852159Z",
     "iopub.status.idle": "2023-03-05T08:12:00.035421Z",
     "shell.execute_reply": "2023-03-05T08:12:00.034725Z"
    }
   },
   "outputs": [
    {
     "name": "stdout",
     "output_type": "stream",
     "text": [
      "63.8 ns ± 0.0702 ns per loop (mean ± std. dev. of 7 runs, 10,000,000 loops each)\n"
     ]
    }
   ],
   "source": [
    "%timeit t.a"
   ]
  },
  {
   "cell_type": "code",
   "execution_count": 6,
   "id": "bd52f867",
   "metadata": {
    "execution": {
     "iopub.execute_input": "2023-03-05T08:12:00.038874Z",
     "iopub.status.busy": "2023-03-05T08:12:00.038475Z",
     "iopub.status.idle": "2023-03-05T08:12:00.045183Z",
     "shell.execute_reply": "2023-03-05T08:12:00.044457Z"
    }
   },
   "outputs": [
    {
     "data": {
      "text/plain": [
       "<FastTreeValue 0x7f9dd64f29d0>\n",
       "├── 'a' --> tensor([[-0.3334,  1.2884, -0.3426],\n",
       "│                   [ 0.9516,  0.1538,  0.9026]])\n",
       "└── 'x' --> <FastTreeValue 0x7f9dd64f2b80>\n",
       "    └── 'c' --> tensor([[ 0.0284,  0.0632,  1.1628,  1.2552],\n",
       "                        [ 0.1224, -0.4259,  1.9420, -0.4451],\n",
       "                        [ 0.1487,  1.7391, -0.0879, -0.2843]])"
      ]
     },
     "execution_count": 6,
     "metadata": {},
     "output_type": "execute_result"
    }
   ],
   "source": [
    "new_value = torch.randn(2, 3)\n",
    "t.a = new_value\n",
    "\n",
    "t"
   ]
  },
  {
   "cell_type": "code",
   "execution_count": 7,
   "id": "bbe04d1c",
   "metadata": {
    "execution": {
     "iopub.execute_input": "2023-03-05T08:12:00.048539Z",
     "iopub.status.busy": "2023-03-05T08:12:00.047872Z",
     "iopub.status.idle": "2023-03-05T08:12:05.418238Z",
     "shell.execute_reply": "2023-03-05T08:12:05.417554Z"
    }
   },
   "outputs": [
    {
     "name": "stdout",
     "output_type": "stream",
     "text": [
      "66.2 ns ± 0.208 ns per loop (mean ± std. dev. of 7 runs, 10,000,000 loops each)\n"
     ]
    }
   ],
   "source": [
    "%timeit t.a = new_value"
   ]
  },
  {
   "cell_type": "markdown",
   "id": "48c49731",
   "metadata": {},
   "source": [
    "### Tianshou Batch's Get and Set"
   ]
  },
  {
   "cell_type": "code",
   "execution_count": 8,
   "id": "f1bb14c1",
   "metadata": {
    "execution": {
     "iopub.execute_input": "2023-03-05T08:12:05.421893Z",
     "iopub.status.busy": "2023-03-05T08:12:05.421189Z",
     "iopub.status.idle": "2023-03-05T08:12:05.806594Z",
     "shell.execute_reply": "2023-03-05T08:12:05.805781Z"
    }
   },
   "outputs": [],
   "source": [
    "from tianshou.data import Batch\n",
    "\n",
    "b = Batch(**_TREE_DATA_2)"
   ]
  },
  {
   "cell_type": "code",
   "execution_count": 9,
   "id": "cb0777c3",
   "metadata": {
    "execution": {
     "iopub.execute_input": "2023-03-05T08:12:05.810776Z",
     "iopub.status.busy": "2023-03-05T08:12:05.810130Z",
     "iopub.status.idle": "2023-03-05T08:12:05.816186Z",
     "shell.execute_reply": "2023-03-05T08:12:05.815503Z"
    }
   },
   "outputs": [
    {
     "data": {
      "text/plain": [
       "Batch(\n",
       "    a: tensor([[-2.2093,  0.9755, -1.5850],\n",
       "               [ 0.4887,  1.0629, -0.5890]]),\n",
       "    x: Batch(\n",
       "           c: tensor([[ 0.0284,  0.0632,  1.1628,  1.2552],\n",
       "                      [ 0.1224, -0.4259,  1.9420, -0.4451],\n",
       "                      [ 0.1487,  1.7391, -0.0879, -0.2843]]),\n",
       "       ),\n",
       ")"
      ]
     },
     "execution_count": 9,
     "metadata": {},
     "output_type": "execute_result"
    }
   ],
   "source": [
    "b"
   ]
  },
  {
   "cell_type": "code",
   "execution_count": 10,
   "id": "43ef8ea3",
   "metadata": {
    "execution": {
     "iopub.execute_input": "2023-03-05T08:12:05.819500Z",
     "iopub.status.busy": "2023-03-05T08:12:05.818934Z",
     "iopub.status.idle": "2023-03-05T08:12:05.823958Z",
     "shell.execute_reply": "2023-03-05T08:12:05.823257Z"
    }
   },
   "outputs": [
    {
     "data": {
      "text/plain": [
       "tensor([[-2.2093,  0.9755, -1.5850],\n",
       "        [ 0.4887,  1.0629, -0.5890]])"
      ]
     },
     "execution_count": 10,
     "metadata": {},
     "output_type": "execute_result"
    }
   ],
   "source": [
    "b.a"
   ]
  },
  {
   "cell_type": "code",
   "execution_count": 11,
   "id": "b785ab72",
   "metadata": {
    "execution": {
     "iopub.execute_input": "2023-03-05T08:12:05.826908Z",
     "iopub.status.busy": "2023-03-05T08:12:05.826280Z",
     "iopub.status.idle": "2023-03-05T08:12:10.542346Z",
     "shell.execute_reply": "2023-03-05T08:12:10.541456Z"
    }
   },
   "outputs": [
    {
     "name": "stdout",
     "output_type": "stream",
     "text": [
      "58.1 ns ± 0.044 ns per loop (mean ± std. dev. of 7 runs, 10,000,000 loops each)\n"
     ]
    }
   ],
   "source": [
    "%timeit b.a"
   ]
  },
  {
   "cell_type": "code",
   "execution_count": 12,
   "id": "ad54dc69",
   "metadata": {
    "execution": {
     "iopub.execute_input": "2023-03-05T08:12:10.545626Z",
     "iopub.status.busy": "2023-03-05T08:12:10.545353Z",
     "iopub.status.idle": "2023-03-05T08:12:10.551544Z",
     "shell.execute_reply": "2023-03-05T08:12:10.550844Z"
    }
   },
   "outputs": [
    {
     "data": {
      "text/plain": [
       "Batch(\n",
       "    a: tensor([[ 0.3829, -1.1096,  1.4416],\n",
       "               [-0.4802, -1.6285, -0.5414]]),\n",
       "    x: Batch(\n",
       "           c: tensor([[ 0.0284,  0.0632,  1.1628,  1.2552],\n",
       "                      [ 0.1224, -0.4259,  1.9420, -0.4451],\n",
       "                      [ 0.1487,  1.7391, -0.0879, -0.2843]]),\n",
       "       ),\n",
       ")"
      ]
     },
     "execution_count": 12,
     "metadata": {},
     "output_type": "execute_result"
    }
   ],
   "source": [
    "new_value = torch.randn(2, 3)\n",
    "b.a = new_value\n",
    "\n",
    "b"
   ]
  },
  {
   "cell_type": "code",
   "execution_count": 13,
   "id": "29b1d0bf",
   "metadata": {
    "execution": {
     "iopub.execute_input": "2023-03-05T08:12:10.554845Z",
     "iopub.status.busy": "2023-03-05T08:12:10.554289Z",
     "iopub.status.idle": "2023-03-05T08:12:14.580756Z",
     "shell.execute_reply": "2023-03-05T08:12:14.579844Z"
    }
   },
   "outputs": [
    {
     "name": "stdout",
     "output_type": "stream",
     "text": [
      "494 ns ± 0.0995 ns per loop (mean ± std. dev. of 7 runs, 1,000,000 loops each)\n"
     ]
    }
   ],
   "source": [
    "%timeit b.a = new_value"
   ]
  },
  {
   "cell_type": "markdown",
   "id": "b61ad1d0",
   "metadata": {},
   "source": [
    "## Initialization"
   ]
  },
  {
   "cell_type": "markdown",
   "id": "d70f0d54",
   "metadata": {},
   "source": [
    "### TreeValue's Initialization"
   ]
  },
  {
   "cell_type": "code",
   "execution_count": 14,
   "id": "d32a679b",
   "metadata": {
    "execution": {
     "iopub.execute_input": "2023-03-05T08:12:14.584785Z",
     "iopub.status.busy": "2023-03-05T08:12:14.584100Z",
     "iopub.status.idle": "2023-03-05T08:12:21.248878Z",
     "shell.execute_reply": "2023-03-05T08:12:21.247823Z"
    }
   },
   "outputs": [
    {
     "name": "stdout",
     "output_type": "stream",
     "text": [
      "819 ns ± 4.08 ns per loop (mean ± std. dev. of 7 runs, 1,000,000 loops each)\n"
     ]
    }
   ],
   "source": [
    "%timeit FastTreeValue(_TREE_DATA_1)"
   ]
  },
  {
   "cell_type": "markdown",
   "id": "24f3707b",
   "metadata": {},
   "source": [
    "### Tianshou Batch's Initialization"
   ]
  },
  {
   "cell_type": "code",
   "execution_count": 15,
   "id": "ac3958df",
   "metadata": {
    "execution": {
     "iopub.execute_input": "2023-03-05T08:12:21.252997Z",
     "iopub.status.busy": "2023-03-05T08:12:21.252304Z",
     "iopub.status.idle": "2023-03-05T08:12:30.161964Z",
     "shell.execute_reply": "2023-03-05T08:12:30.161071Z"
    }
   },
   "outputs": [
    {
     "name": "stdout",
     "output_type": "stream",
     "text": [
      "11 µs ± 4.47 ns per loop (mean ± std. dev. of 7 runs, 100,000 loops each)\n"
     ]
    }
   ],
   "source": [
    "%timeit Batch(**_TREE_DATA_1)"
   ]
  },
  {
   "cell_type": "markdown",
   "id": "1ab82e2d",
   "metadata": {},
   "source": [
    "## Deep Copy Operation"
   ]
  },
  {
   "cell_type": "code",
   "execution_count": 16,
   "id": "210a9442",
   "metadata": {
    "execution": {
     "iopub.execute_input": "2023-03-05T08:12:30.165447Z",
     "iopub.status.busy": "2023-03-05T08:12:30.164954Z",
     "iopub.status.idle": "2023-03-05T08:12:30.169247Z",
     "shell.execute_reply": "2023-03-05T08:12:30.168597Z"
    }
   },
   "outputs": [],
   "source": [
    "import copy"
   ]
  },
  {
   "cell_type": "markdown",
   "id": "5a736274",
   "metadata": {},
   "source": [
    "### Deep Copy of TreeValue"
   ]
  },
  {
   "cell_type": "code",
   "execution_count": 17,
   "id": "f9bcadd6",
   "metadata": {
    "execution": {
     "iopub.execute_input": "2023-03-05T08:12:30.172143Z",
     "iopub.status.busy": "2023-03-05T08:12:30.171768Z",
     "iopub.status.idle": "2023-03-05T08:12:41.925284Z",
     "shell.execute_reply": "2023-03-05T08:12:41.924585Z"
    }
   },
   "outputs": [
    {
     "name": "stdout",
     "output_type": "stream",
     "text": [
      "145 µs ± 132 ns per loop (mean ± std. dev. of 7 runs, 10,000 loops each)\n"
     ]
    }
   ],
   "source": [
    "t3 = FastTreeValue(_TREE_DATA_3)\n",
    "%timeit copy.deepcopy(t3)"
   ]
  },
  {
   "cell_type": "markdown",
   "id": "bf8be7ea",
   "metadata": {},
   "source": [
    "### Deep Copy of Tianshou Batch"
   ]
  },
  {
   "cell_type": "code",
   "execution_count": 18,
   "id": "91998e6f",
   "metadata": {
    "execution": {
     "iopub.execute_input": "2023-03-05T08:12:41.928833Z",
     "iopub.status.busy": "2023-03-05T08:12:41.928359Z",
     "iopub.status.idle": "2023-03-05T08:12:53.696313Z",
     "shell.execute_reply": "2023-03-05T08:12:53.695603Z"
    }
   },
   "outputs": [
    {
     "name": "stdout",
     "output_type": "stream",
     "text": [
      "145 µs ± 1.62 µs per loop (mean ± std. dev. of 7 runs, 10,000 loops each)\n"
     ]
    }
   ],
   "source": [
    "b3 = Batch(**_TREE_DATA_3)\n",
    "%timeit copy.deepcopy(b3)"
   ]
  },
  {
   "cell_type": "markdown",
   "id": "223162fb",
   "metadata": {},
   "source": [
    "## Stack, Concat and Split Operation"
   ]
  },
  {
   "cell_type": "markdown",
   "id": "85fa4a73",
   "metadata": {},
   "source": [
    "### Performance of TreeValue"
   ]
  },
  {
   "cell_type": "code",
   "execution_count": 19,
   "id": "a0c2b697",
   "metadata": {
    "execution": {
     "iopub.execute_input": "2023-03-05T08:12:53.699735Z",
     "iopub.status.busy": "2023-03-05T08:12:53.699471Z",
     "iopub.status.idle": "2023-03-05T08:12:53.702806Z",
     "shell.execute_reply": "2023-03-05T08:12:53.702240Z"
    }
   },
   "outputs": [],
   "source": [
    "trees = [FastTreeValue(_TREE_DATA_2) for _ in range(8)]"
   ]
  },
  {
   "cell_type": "code",
   "execution_count": 20,
   "id": "017ea5a5",
   "metadata": {
    "execution": {
     "iopub.execute_input": "2023-03-05T08:12:53.705608Z",
     "iopub.status.busy": "2023-03-05T08:12:53.704973Z",
     "iopub.status.idle": "2023-03-05T08:12:53.712328Z",
     "shell.execute_reply": "2023-03-05T08:12:53.711756Z"
    }
   },
   "outputs": [
    {
     "data": {
      "text/plain": [
       "<FastTreeValue 0x7f9d2710d700>\n",
       "├── 'a' --> tensor([[[-2.2093,  0.9755, -1.5850],\n",
       "│                    [ 0.4887,  1.0629, -0.5890]],\n",
       "│           \n",
       "│                   [[-2.2093,  0.9755, -1.5850],\n",
       "│                    [ 0.4887,  1.0629, -0.5890]],\n",
       "│           \n",
       "│                   [[-2.2093,  0.9755, -1.5850],\n",
       "│                    [ 0.4887,  1.0629, -0.5890]],\n",
       "│           \n",
       "│                   [[-2.2093,  0.9755, -1.5850],\n",
       "│                    [ 0.4887,  1.0629, -0.5890]],\n",
       "│           \n",
       "│                   [[-2.2093,  0.9755, -1.5850],\n",
       "│                    [ 0.4887,  1.0629, -0.5890]],\n",
       "│           \n",
       "│                   [[-2.2093,  0.9755, -1.5850],\n",
       "│                    [ 0.4887,  1.0629, -0.5890]],\n",
       "│           \n",
       "│                   [[-2.2093,  0.9755, -1.5850],\n",
       "│                    [ 0.4887,  1.0629, -0.5890]],\n",
       "│           \n",
       "│                   [[-2.2093,  0.9755, -1.5850],\n",
       "│                    [ 0.4887,  1.0629, -0.5890]]])\n",
       "└── 'x' --> <FastTreeValue 0x7f9d2710deb0>\n",
       "    └── 'c' --> tensor([[[ 0.0284,  0.0632,  1.1628,  1.2552],\n",
       "                         [ 0.1224, -0.4259,  1.9420, -0.4451],\n",
       "                         [ 0.1487,  1.7391, -0.0879, -0.2843]],\n",
       "                \n",
       "                        [[ 0.0284,  0.0632,  1.1628,  1.2552],\n",
       "                         [ 0.1224, -0.4259,  1.9420, -0.4451],\n",
       "                         [ 0.1487,  1.7391, -0.0879, -0.2843]],\n",
       "                \n",
       "                        [[ 0.0284,  0.0632,  1.1628,  1.2552],\n",
       "                         [ 0.1224, -0.4259,  1.9420, -0.4451],\n",
       "                         [ 0.1487,  1.7391, -0.0879, -0.2843]],\n",
       "                \n",
       "                        [[ 0.0284,  0.0632,  1.1628,  1.2552],\n",
       "                         [ 0.1224, -0.4259,  1.9420, -0.4451],\n",
       "                         [ 0.1487,  1.7391, -0.0879, -0.2843]],\n",
       "                \n",
       "                        [[ 0.0284,  0.0632,  1.1628,  1.2552],\n",
       "                         [ 0.1224, -0.4259,  1.9420, -0.4451],\n",
       "                         [ 0.1487,  1.7391, -0.0879, -0.2843]],\n",
       "                \n",
       "                        [[ 0.0284,  0.0632,  1.1628,  1.2552],\n",
       "                         [ 0.1224, -0.4259,  1.9420, -0.4451],\n",
       "                         [ 0.1487,  1.7391, -0.0879, -0.2843]],\n",
       "                \n",
       "                        [[ 0.0284,  0.0632,  1.1628,  1.2552],\n",
       "                         [ 0.1224, -0.4259,  1.9420, -0.4451],\n",
       "                         [ 0.1487,  1.7391, -0.0879, -0.2843]],\n",
       "                \n",
       "                        [[ 0.0284,  0.0632,  1.1628,  1.2552],\n",
       "                         [ 0.1224, -0.4259,  1.9420, -0.4451],\n",
       "                         [ 0.1487,  1.7391, -0.0879, -0.2843]]])"
      ]
     },
     "execution_count": 20,
     "metadata": {},
     "output_type": "execute_result"
    }
   ],
   "source": [
    "t_stack = FastTreeValue.func(subside=True)(torch.stack)\n",
    "\n",
    "t_stack(trees)"
   ]
  },
  {
   "cell_type": "code",
   "execution_count": 21,
   "id": "f8b3f415",
   "metadata": {
    "execution": {
     "iopub.execute_input": "2023-03-05T08:12:53.714975Z",
     "iopub.status.busy": "2023-03-05T08:12:53.714381Z",
     "iopub.status.idle": "2023-03-05T08:12:56.308151Z",
     "shell.execute_reply": "2023-03-05T08:12:56.307216Z"
    }
   },
   "outputs": [
    {
     "name": "stdout",
     "output_type": "stream",
     "text": [
      "31.9 µs ± 60.2 ns per loop (mean ± std. dev. of 7 runs, 10,000 loops each)\n"
     ]
    }
   ],
   "source": [
    "%timeit t_stack(trees)"
   ]
  },
  {
   "cell_type": "code",
   "execution_count": 22,
   "id": "94b56771",
   "metadata": {
    "execution": {
     "iopub.execute_input": "2023-03-05T08:12:56.311829Z",
     "iopub.status.busy": "2023-03-05T08:12:56.311281Z",
     "iopub.status.idle": "2023-03-05T08:12:56.319331Z",
     "shell.execute_reply": "2023-03-05T08:12:56.318602Z"
    }
   },
   "outputs": [
    {
     "data": {
      "text/plain": [
       "<FastTreeValue 0x7f9dd445a4f0>\n",
       "├── 'a' --> tensor([[-2.2093,  0.9755, -1.5850],\n",
       "│                   [ 0.4887,  1.0629, -0.5890],\n",
       "│                   [-2.2093,  0.9755, -1.5850],\n",
       "│                   [ 0.4887,  1.0629, -0.5890],\n",
       "│                   [-2.2093,  0.9755, -1.5850],\n",
       "│                   [ 0.4887,  1.0629, -0.5890],\n",
       "│                   [-2.2093,  0.9755, -1.5850],\n",
       "│                   [ 0.4887,  1.0629, -0.5890],\n",
       "│                   [-2.2093,  0.9755, -1.5850],\n",
       "│                   [ 0.4887,  1.0629, -0.5890],\n",
       "│                   [-2.2093,  0.9755, -1.5850],\n",
       "│                   [ 0.4887,  1.0629, -0.5890],\n",
       "│                   [-2.2093,  0.9755, -1.5850],\n",
       "│                   [ 0.4887,  1.0629, -0.5890],\n",
       "│                   [-2.2093,  0.9755, -1.5850],\n",
       "│                   [ 0.4887,  1.0629, -0.5890]])\n",
       "└── 'x' --> <FastTreeValue 0x7f9d2710dc70>\n",
       "    └── 'c' --> tensor([[ 0.0284,  0.0632,  1.1628,  1.2552],\n",
       "                        [ 0.1224, -0.4259,  1.9420, -0.4451],\n",
       "                        [ 0.1487,  1.7391, -0.0879, -0.2843],\n",
       "                        [ 0.0284,  0.0632,  1.1628,  1.2552],\n",
       "                        [ 0.1224, -0.4259,  1.9420, -0.4451],\n",
       "                        [ 0.1487,  1.7391, -0.0879, -0.2843],\n",
       "                        [ 0.0284,  0.0632,  1.1628,  1.2552],\n",
       "                        [ 0.1224, -0.4259,  1.9420, -0.4451],\n",
       "                        [ 0.1487,  1.7391, -0.0879, -0.2843],\n",
       "                        [ 0.0284,  0.0632,  1.1628,  1.2552],\n",
       "                        [ 0.1224, -0.4259,  1.9420, -0.4451],\n",
       "                        [ 0.1487,  1.7391, -0.0879, -0.2843],\n",
       "                        [ 0.0284,  0.0632,  1.1628,  1.2552],\n",
       "                        [ 0.1224, -0.4259,  1.9420, -0.4451],\n",
       "                        [ 0.1487,  1.7391, -0.0879, -0.2843],\n",
       "                        [ 0.0284,  0.0632,  1.1628,  1.2552],\n",
       "                        [ 0.1224, -0.4259,  1.9420, -0.4451],\n",
       "                        [ 0.1487,  1.7391, -0.0879, -0.2843],\n",
       "                        [ 0.0284,  0.0632,  1.1628,  1.2552],\n",
       "                        [ 0.1224, -0.4259,  1.9420, -0.4451],\n",
       "                        [ 0.1487,  1.7391, -0.0879, -0.2843],\n",
       "                        [ 0.0284,  0.0632,  1.1628,  1.2552],\n",
       "                        [ 0.1224, -0.4259,  1.9420, -0.4451],\n",
       "                        [ 0.1487,  1.7391, -0.0879, -0.2843]])"
      ]
     },
     "execution_count": 22,
     "metadata": {},
     "output_type": "execute_result"
    }
   ],
   "source": [
    "t_cat = FastTreeValue.func(subside=True)(torch.cat)\n",
    "\n",
    "t_cat(trees)"
   ]
  },
  {
   "cell_type": "code",
   "execution_count": 23,
   "id": "5e9c06a6",
   "metadata": {
    "execution": {
     "iopub.execute_input": "2023-03-05T08:12:56.322412Z",
     "iopub.status.busy": "2023-03-05T08:12:56.321826Z",
     "iopub.status.idle": "2023-03-05T08:12:58.750576Z",
     "shell.execute_reply": "2023-03-05T08:12:58.749681Z"
    }
   },
   "outputs": [
    {
     "name": "stdout",
     "output_type": "stream",
     "text": [
      "29.9 µs ± 55.6 ns per loop (mean ± std. dev. of 7 runs, 10,000 loops each)\n"
     ]
    }
   ],
   "source": [
    "%timeit t_cat(trees)"
   ]
  },
  {
   "cell_type": "code",
   "execution_count": 24,
   "id": "a3ab5c8f",
   "metadata": {
    "execution": {
     "iopub.execute_input": "2023-03-05T08:12:58.754709Z",
     "iopub.status.busy": "2023-03-05T08:12:58.754134Z",
     "iopub.status.idle": "2023-03-05T08:13:03.419217Z",
     "shell.execute_reply": "2023-03-05T08:13:03.418070Z"
    }
   },
   "outputs": [
    {
     "name": "stdout",
     "output_type": "stream",
     "text": [
      "57.4 µs ± 74.5 ns per loop (mean ± std. dev. of 7 runs, 10,000 loops each)\n"
     ]
    }
   ],
   "source": [
    "t_split = FastTreeValue.func(rise=True)(torch.split)\n",
    "tree = FastTreeValue({\n",
    "    'obs': torch.randn(8, 4, 84, 84),\n",
    "    'action': torch.randint(0, 6, size=(8, 1,)),\n",
    "    'reward': torch.rand(8, 1),\n",
    "})\n",
    "\n",
    "%timeit t_split(tree, 1)"
   ]
  },
  {
   "cell_type": "markdown",
   "id": "31c3ec0b",
   "metadata": {},
   "source": [
    "### Performance of Tianshou Batch"
   ]
  },
  {
   "cell_type": "code",
   "execution_count": 25,
   "id": "9ead828a",
   "metadata": {
    "execution": {
     "iopub.execute_input": "2023-03-05T08:13:03.422690Z",
     "iopub.status.busy": "2023-03-05T08:13:03.422247Z",
     "iopub.status.idle": "2023-03-05T08:13:03.431275Z",
     "shell.execute_reply": "2023-03-05T08:13:03.430623Z"
    }
   },
   "outputs": [
    {
     "data": {
      "text/plain": [
       "Batch(\n",
       "    x: Batch(\n",
       "           c: tensor([[[ 0.0284,  0.0632,  1.1628,  1.2552],\n",
       "                       [ 0.1224, -0.4259,  1.9420, -0.4451],\n",
       "                       [ 0.1487,  1.7391, -0.0879, -0.2843]],\n",
       "              \n",
       "                      [[ 0.0284,  0.0632,  1.1628,  1.2552],\n",
       "                       [ 0.1224, -0.4259,  1.9420, -0.4451],\n",
       "                       [ 0.1487,  1.7391, -0.0879, -0.2843]],\n",
       "              \n",
       "                      [[ 0.0284,  0.0632,  1.1628,  1.2552],\n",
       "                       [ 0.1224, -0.4259,  1.9420, -0.4451],\n",
       "                       [ 0.1487,  1.7391, -0.0879, -0.2843]],\n",
       "              \n",
       "                      [[ 0.0284,  0.0632,  1.1628,  1.2552],\n",
       "                       [ 0.1224, -0.4259,  1.9420, -0.4451],\n",
       "                       [ 0.1487,  1.7391, -0.0879, -0.2843]],\n",
       "              \n",
       "                      [[ 0.0284,  0.0632,  1.1628,  1.2552],\n",
       "                       [ 0.1224, -0.4259,  1.9420, -0.4451],\n",
       "                       [ 0.1487,  1.7391, -0.0879, -0.2843]],\n",
       "              \n",
       "                      [[ 0.0284,  0.0632,  1.1628,  1.2552],\n",
       "                       [ 0.1224, -0.4259,  1.9420, -0.4451],\n",
       "                       [ 0.1487,  1.7391, -0.0879, -0.2843]],\n",
       "              \n",
       "                      [[ 0.0284,  0.0632,  1.1628,  1.2552],\n",
       "                       [ 0.1224, -0.4259,  1.9420, -0.4451],\n",
       "                       [ 0.1487,  1.7391, -0.0879, -0.2843]],\n",
       "              \n",
       "                      [[ 0.0284,  0.0632,  1.1628,  1.2552],\n",
       "                       [ 0.1224, -0.4259,  1.9420, -0.4451],\n",
       "                       [ 0.1487,  1.7391, -0.0879, -0.2843]]]),\n",
       "       ),\n",
       "    a: tensor([[[-2.2093,  0.9755, -1.5850],\n",
       "                [ 0.4887,  1.0629, -0.5890]],\n",
       "       \n",
       "               [[-2.2093,  0.9755, -1.5850],\n",
       "                [ 0.4887,  1.0629, -0.5890]],\n",
       "       \n",
       "               [[-2.2093,  0.9755, -1.5850],\n",
       "                [ 0.4887,  1.0629, -0.5890]],\n",
       "       \n",
       "               [[-2.2093,  0.9755, -1.5850],\n",
       "                [ 0.4887,  1.0629, -0.5890]],\n",
       "       \n",
       "               [[-2.2093,  0.9755, -1.5850],\n",
       "                [ 0.4887,  1.0629, -0.5890]],\n",
       "       \n",
       "               [[-2.2093,  0.9755, -1.5850],\n",
       "                [ 0.4887,  1.0629, -0.5890]],\n",
       "       \n",
       "               [[-2.2093,  0.9755, -1.5850],\n",
       "                [ 0.4887,  1.0629, -0.5890]],\n",
       "       \n",
       "               [[-2.2093,  0.9755, -1.5850],\n",
       "                [ 0.4887,  1.0629, -0.5890]]]),\n",
       ")"
      ]
     },
     "execution_count": 25,
     "metadata": {},
     "output_type": "execute_result"
    }
   ],
   "source": [
    "batches = [Batch(**_TREE_DATA_2) for _ in range(8)]\n",
    "\n",
    "Batch.stack(batches)"
   ]
  },
  {
   "cell_type": "code",
   "execution_count": 26,
   "id": "ec9037a3",
   "metadata": {
    "execution": {
     "iopub.execute_input": "2023-03-05T08:13:03.434547Z",
     "iopub.status.busy": "2023-03-05T08:13:03.434105Z",
     "iopub.status.idle": "2023-03-05T08:13:15.020046Z",
     "shell.execute_reply": "2023-03-05T08:13:15.019129Z"
    }
   },
   "outputs": [
    {
     "name": "stdout",
     "output_type": "stream",
     "text": [
      "143 µs ± 411 ns per loop (mean ± std. dev. of 7 runs, 10,000 loops each)\n"
     ]
    }
   ],
   "source": [
    "%timeit Batch.stack(batches)"
   ]
  },
  {
   "cell_type": "code",
   "execution_count": 27,
   "id": "cb8ab77e",
   "metadata": {
    "execution": {
     "iopub.execute_input": "2023-03-05T08:13:15.023757Z",
     "iopub.status.busy": "2023-03-05T08:13:15.023177Z",
     "iopub.status.idle": "2023-03-05T08:13:15.031548Z",
     "shell.execute_reply": "2023-03-05T08:13:15.030924Z"
    }
   },
   "outputs": [
    {
     "data": {
      "text/plain": [
       "Batch(\n",
       "    x: Batch(\n",
       "           c: tensor([[ 0.0284,  0.0632,  1.1628,  1.2552],\n",
       "                      [ 0.1224, -0.4259,  1.9420, -0.4451],\n",
       "                      [ 0.1487,  1.7391, -0.0879, -0.2843],\n",
       "                      [ 0.0284,  0.0632,  1.1628,  1.2552],\n",
       "                      [ 0.1224, -0.4259,  1.9420, -0.4451],\n",
       "                      [ 0.1487,  1.7391, -0.0879, -0.2843],\n",
       "                      [ 0.0284,  0.0632,  1.1628,  1.2552],\n",
       "                      [ 0.1224, -0.4259,  1.9420, -0.4451],\n",
       "                      [ 0.1487,  1.7391, -0.0879, -0.2843],\n",
       "                      [ 0.0284,  0.0632,  1.1628,  1.2552],\n",
       "                      [ 0.1224, -0.4259,  1.9420, -0.4451],\n",
       "                      [ 0.1487,  1.7391, -0.0879, -0.2843],\n",
       "                      [ 0.0284,  0.0632,  1.1628,  1.2552],\n",
       "                      [ 0.1224, -0.4259,  1.9420, -0.4451],\n",
       "                      [ 0.1487,  1.7391, -0.0879, -0.2843],\n",
       "                      [ 0.0284,  0.0632,  1.1628,  1.2552],\n",
       "                      [ 0.1224, -0.4259,  1.9420, -0.4451],\n",
       "                      [ 0.1487,  1.7391, -0.0879, -0.2843],\n",
       "                      [ 0.0284,  0.0632,  1.1628,  1.2552],\n",
       "                      [ 0.1224, -0.4259,  1.9420, -0.4451],\n",
       "                      [ 0.1487,  1.7391, -0.0879, -0.2843],\n",
       "                      [ 0.0284,  0.0632,  1.1628,  1.2552],\n",
       "                      [ 0.1224, -0.4259,  1.9420, -0.4451],\n",
       "                      [ 0.1487,  1.7391, -0.0879, -0.2843]]),\n",
       "       ),\n",
       "    a: tensor([[-2.2093,  0.9755, -1.5850],\n",
       "               [ 0.4887,  1.0629, -0.5890],\n",
       "               [-2.2093,  0.9755, -1.5850],\n",
       "               [ 0.4887,  1.0629, -0.5890],\n",
       "               [-2.2093,  0.9755, -1.5850],\n",
       "               [ 0.4887,  1.0629, -0.5890],\n",
       "               [-2.2093,  0.9755, -1.5850],\n",
       "               [ 0.4887,  1.0629, -0.5890],\n",
       "               [-2.2093,  0.9755, -1.5850],\n",
       "               [ 0.4887,  1.0629, -0.5890],\n",
       "               [-2.2093,  0.9755, -1.5850],\n",
       "               [ 0.4887,  1.0629, -0.5890],\n",
       "               [-2.2093,  0.9755, -1.5850],\n",
       "               [ 0.4887,  1.0629, -0.5890],\n",
       "               [-2.2093,  0.9755, -1.5850],\n",
       "               [ 0.4887,  1.0629, -0.5890]]),\n",
       ")"
      ]
     },
     "execution_count": 27,
     "metadata": {},
     "output_type": "execute_result"
    }
   ],
   "source": [
    "Batch.cat(batches)"
   ]
  },
  {
   "cell_type": "code",
   "execution_count": 28,
   "id": "18dfb045",
   "metadata": {
    "execution": {
     "iopub.execute_input": "2023-03-05T08:13:15.034567Z",
     "iopub.status.busy": "2023-03-05T08:13:15.034192Z",
     "iopub.status.idle": "2023-03-05T08:13:26.715406Z",
     "shell.execute_reply": "2023-03-05T08:13:26.714429Z"
    }
   },
   "outputs": [
    {
     "name": "stdout",
     "output_type": "stream",
     "text": [
      "144 µs ± 303 ns per loop (mean ± std. dev. of 7 runs, 10,000 loops each)\n"
     ]
    }
   ],
   "source": [
    "%timeit Batch.cat(batches)"
   ]
  },
  {
   "cell_type": "code",
   "execution_count": 29,
   "id": "c6688e51",
   "metadata": {
    "execution": {
     "iopub.execute_input": "2023-03-05T08:13:26.718959Z",
     "iopub.status.busy": "2023-03-05T08:13:26.718373Z",
     "iopub.status.idle": "2023-03-05T08:13:29.368380Z",
     "shell.execute_reply": "2023-03-05T08:13:29.367365Z"
    }
   },
   "outputs": [
    {
     "name": "stdout",
     "output_type": "stream",
     "text": [
      "325 µs ± 3.23 µs per loop (mean ± std. dev. of 7 runs, 1,000 loops each)\n"
     ]
    }
   ],
   "source": [
    "batch = Batch({\n",
    "    'obs': torch.randn(8, 4, 84, 84),\n",
    "    'action': torch.randint(0, 6, size=(8, 1,)),\n",
    "    'reward': torch.rand(8, 1)}\n",
    ")\n",
    "\n",
    "%timeit list(Batch.split(batch, 1, shuffle=False, merge_last=True))"
   ]
  },
  {
   "cell_type": "code",
   "execution_count": null,
   "id": "2539fbd9",
   "metadata": {},
   "outputs": [],
   "source": []
  }
 ],
 "metadata": {
  "kernelspec": {
   "display_name": "Python 3 (ipykernel)",
   "language": "python",
   "name": "python3"
  },
  "language_info": {
   "codemirror_mode": {
    "name": "ipython",
    "version": 3
   },
   "file_extension": ".py",
   "mimetype": "text/x-python",
   "name": "python",
   "nbconvert_exporter": "python",
   "pygments_lexer": "ipython3",
   "version": "3.8.16"
  }
 },
 "nbformat": 4,
 "nbformat_minor": 5
}
