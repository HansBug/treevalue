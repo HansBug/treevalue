{
 "cells": [
  {
   "cell_type": "markdown",
   "id": "9d39d946",
   "metadata": {},
   "source": [
    "# Comparison Between TreeValue and Tianshou Batch"
   ]
  },
  {
   "cell_type": "markdown",
   "id": "3c6db2d4",
   "metadata": {},
   "source": [
    "In this section, we will take a look at the feature and performance of the [Tianshou Batch](https://github.com/thu-ml/tianshou) library, which is developed by Tsinghua Machine Learning Group."
   ]
  },
  {
   "cell_type": "markdown",
   "id": "069361b0",
   "metadata": {},
   "source": [
    "Before starting the comparison, let us define some thing."
   ]
  },
  {
   "cell_type": "code",
   "execution_count": 1,
   "id": "06fc8d26",
   "metadata": {
    "execution": {
     "iopub.execute_input": "2023-02-28T04:06:02.225907Z",
     "iopub.status.busy": "2023-02-28T04:06:02.225497Z",
     "iopub.status.idle": "2023-02-28T04:06:03.216215Z",
     "shell.execute_reply": "2023-02-28T04:06:03.215432Z"
    }
   },
   "outputs": [
    {
     "name": "stderr",
     "output_type": "stream",
     "text": [
      "/opt/hostedtoolcache/Python/3.8.16/x64/lib/python3.8/site-packages/tqdm/auto.py:22: TqdmWarning: IProgress not found. Please update jupyter and ipywidgets. See https://ipywidgets.readthedocs.io/en/stable/user_install.html\n",
      "  from .autonotebook import tqdm as notebook_tqdm\n"
     ]
    }
   ],
   "source": [
    "import torch \n",
    "\n",
    "_TREE_DATA_1 = {'a': 1, 'b': 2, 'x': {'c': 3, 'd': 4}}\n",
    "_TREE_DATA_2 = {\n",
    "    'a': torch.randn(2, 3), \n",
    "    'x': {\n",
    "        'c': torch.randn(3, 4)\n",
    "    },\n",
    "}\n",
    "_TREE_DATA_3 = {\n",
    "    'obs': torch.randn(4, 84, 84),\n",
    "    'action': torch.randint(0, 6, size=(1,)),\n",
    "    'reward': torch.rand(1),\n",
    "}"
   ]
  },
  {
   "cell_type": "markdown",
   "id": "83461b25",
   "metadata": {},
   "source": [
    "## Read and Write Operation"
   ]
  },
  {
   "cell_type": "markdown",
   "id": "067b3f73",
   "metadata": {},
   "source": [
    "Reading and writing are the two most common operations in the tree data structure based on the data model (TreeValue and Tianshou Batch both belong to this type), so this section will compare the reading and writing performance of these two libraries."
   ]
  },
  {
   "cell_type": "markdown",
   "id": "5d09a5b7",
   "metadata": {},
   "source": [
    "### TreeValue's Get and Set"
   ]
  },
  {
   "cell_type": "code",
   "execution_count": 2,
   "id": "9519c4bb",
   "metadata": {
    "execution": {
     "iopub.execute_input": "2023-02-28T04:06:03.220585Z",
     "iopub.status.busy": "2023-02-28T04:06:03.219763Z",
     "iopub.status.idle": "2023-02-28T04:06:03.254403Z",
     "shell.execute_reply": "2023-02-28T04:06:03.253683Z"
    }
   },
   "outputs": [],
   "source": [
    "from treevalue import FastTreeValue\n",
    "\n",
    "t = FastTreeValue(_TREE_DATA_2)"
   ]
  },
  {
   "cell_type": "code",
   "execution_count": 3,
   "id": "11c37677",
   "metadata": {
    "execution": {
     "iopub.execute_input": "2023-02-28T04:06:03.257988Z",
     "iopub.status.busy": "2023-02-28T04:06:03.257572Z",
     "iopub.status.idle": "2023-02-28T04:06:03.268813Z",
     "shell.execute_reply": "2023-02-28T04:06:03.268168Z"
    }
   },
   "outputs": [
    {
     "data": {
      "text/plain": [
       "<FastTreeValue 0x7f7d98ed75e0>\n",
       "├── 'a' --> tensor([[-0.5268, -1.3699,  0.6357],\n",
       "│                   [ 0.9015,  0.4279,  0.9879]])\n",
       "└── 'x' --> <FastTreeValue 0x7f7d98ed74f0>\n",
       "    └── 'c' --> tensor([[-0.8814, -1.1687,  0.2131,  0.5581],\n",
       "                        [-0.9686, -0.4543, -0.8380, -1.2562],\n",
       "                        [ 0.0797, -0.3318, -1.3079, -0.8710]])"
      ]
     },
     "execution_count": 3,
     "metadata": {},
     "output_type": "execute_result"
    }
   ],
   "source": [
    "t"
   ]
  },
  {
   "cell_type": "code",
   "execution_count": 4,
   "id": "fd70b0b9",
   "metadata": {
    "execution": {
     "iopub.execute_input": "2023-02-28T04:06:03.272042Z",
     "iopub.status.busy": "2023-02-28T04:06:03.271567Z",
     "iopub.status.idle": "2023-02-28T04:06:03.277537Z",
     "shell.execute_reply": "2023-02-28T04:06:03.276906Z"
    }
   },
   "outputs": [
    {
     "data": {
      "text/plain": [
       "tensor([[-0.5268, -1.3699,  0.6357],\n",
       "        [ 0.9015,  0.4279,  0.9879]])"
      ]
     },
     "execution_count": 4,
     "metadata": {},
     "output_type": "execute_result"
    }
   ],
   "source": [
    "t.a"
   ]
  },
  {
   "cell_type": "code",
   "execution_count": 5,
   "id": "c18197bd",
   "metadata": {
    "execution": {
     "iopub.execute_input": "2023-02-28T04:06:03.280508Z",
     "iopub.status.busy": "2023-02-28T04:06:03.279944Z",
     "iopub.status.idle": "2023-02-28T04:06:09.420504Z",
     "shell.execute_reply": "2023-02-28T04:06:09.419626Z"
    }
   },
   "outputs": [
    {
     "name": "stdout",
     "output_type": "stream",
     "text": [
      "75.7 ns ± 0.0283 ns per loop (mean ± std. dev. of 7 runs, 10,000,000 loops each)\n"
     ]
    }
   ],
   "source": [
    "%timeit t.a"
   ]
  },
  {
   "cell_type": "code",
   "execution_count": 6,
   "id": "bd52f867",
   "metadata": {
    "execution": {
     "iopub.execute_input": "2023-02-28T04:06:09.424232Z",
     "iopub.status.busy": "2023-02-28T04:06:09.423605Z",
     "iopub.status.idle": "2023-02-28T04:06:09.430402Z",
     "shell.execute_reply": "2023-02-28T04:06:09.429718Z"
    }
   },
   "outputs": [
    {
     "data": {
      "text/plain": [
       "<FastTreeValue 0x7f7d98ed75e0>\n",
       "├── 'a' --> tensor([[-0.6373, -0.4900, -0.2376],\n",
       "│                   [-0.4853,  0.9092, -1.3758]])\n",
       "└── 'x' --> <FastTreeValue 0x7f7d98ed74f0>\n",
       "    └── 'c' --> tensor([[-0.8814, -1.1687,  0.2131,  0.5581],\n",
       "                        [-0.9686, -0.4543, -0.8380, -1.2562],\n",
       "                        [ 0.0797, -0.3318, -1.3079, -0.8710]])"
      ]
     },
     "execution_count": 6,
     "metadata": {},
     "output_type": "execute_result"
    }
   ],
   "source": [
    "new_value = torch.randn(2, 3)\n",
    "t.a = new_value\n",
    "\n",
    "t"
   ]
  },
  {
   "cell_type": "code",
   "execution_count": 7,
   "id": "bbe04d1c",
   "metadata": {
    "execution": {
     "iopub.execute_input": "2023-02-28T04:06:09.433195Z",
     "iopub.status.busy": "2023-02-28T04:06:09.432731Z",
     "iopub.status.idle": "2023-02-28T04:06:15.737339Z",
     "shell.execute_reply": "2023-02-28T04:06:15.736449Z"
    }
   },
   "outputs": [
    {
     "name": "stdout",
     "output_type": "stream",
     "text": [
      "77.6 ns ± 0.216 ns per loop (mean ± std. dev. of 7 runs, 10,000,000 loops each)\n"
     ]
    }
   ],
   "source": [
    "%timeit t.a = new_value"
   ]
  },
  {
   "cell_type": "markdown",
   "id": "48c49731",
   "metadata": {},
   "source": [
    "### Tianshou Batch's Get and Set"
   ]
  },
  {
   "cell_type": "code",
   "execution_count": 8,
   "id": "f1bb14c1",
   "metadata": {
    "execution": {
     "iopub.execute_input": "2023-02-28T04:06:15.740973Z",
     "iopub.status.busy": "2023-02-28T04:06:15.740482Z",
     "iopub.status.idle": "2023-02-28T04:06:16.109579Z",
     "shell.execute_reply": "2023-02-28T04:06:16.108809Z"
    }
   },
   "outputs": [],
   "source": [
    "from tianshou.data import Batch\n",
    "\n",
    "b = Batch(**_TREE_DATA_2)"
   ]
  },
  {
   "cell_type": "code",
   "execution_count": 9,
   "id": "cb0777c3",
   "metadata": {
    "execution": {
     "iopub.execute_input": "2023-02-28T04:06:16.113134Z",
     "iopub.status.busy": "2023-02-28T04:06:16.112649Z",
     "iopub.status.idle": "2023-02-28T04:06:16.119226Z",
     "shell.execute_reply": "2023-02-28T04:06:16.118610Z"
    }
   },
   "outputs": [
    {
     "data": {
      "text/plain": [
       "Batch(\n",
       "    a: tensor([[-0.5268, -1.3699,  0.6357],\n",
       "               [ 0.9015,  0.4279,  0.9879]]),\n",
       "    x: Batch(\n",
       "           c: tensor([[-0.8814, -1.1687,  0.2131,  0.5581],\n",
       "                      [-0.9686, -0.4543, -0.8380, -1.2562],\n",
       "                      [ 0.0797, -0.3318, -1.3079, -0.8710]]),\n",
       "       ),\n",
       ")"
      ]
     },
     "execution_count": 9,
     "metadata": {},
     "output_type": "execute_result"
    }
   ],
   "source": [
    "b"
   ]
  },
  {
   "cell_type": "code",
   "execution_count": 10,
   "id": "43ef8ea3",
   "metadata": {
    "execution": {
     "iopub.execute_input": "2023-02-28T04:06:16.122127Z",
     "iopub.status.busy": "2023-02-28T04:06:16.121673Z",
     "iopub.status.idle": "2023-02-28T04:06:16.126669Z",
     "shell.execute_reply": "2023-02-28T04:06:16.125980Z"
    }
   },
   "outputs": [
    {
     "data": {
      "text/plain": [
       "tensor([[-0.5268, -1.3699,  0.6357],\n",
       "        [ 0.9015,  0.4279,  0.9879]])"
      ]
     },
     "execution_count": 10,
     "metadata": {},
     "output_type": "execute_result"
    }
   ],
   "source": [
    "b.a"
   ]
  },
  {
   "cell_type": "code",
   "execution_count": 11,
   "id": "b785ab72",
   "metadata": {
    "execution": {
     "iopub.execute_input": "2023-02-28T04:06:16.129929Z",
     "iopub.status.busy": "2023-02-28T04:06:16.129368Z",
     "iopub.status.idle": "2023-02-28T04:06:20.978483Z",
     "shell.execute_reply": "2023-02-28T04:06:20.977638Z"
    }
   },
   "outputs": [
    {
     "name": "stdout",
     "output_type": "stream",
     "text": [
      "59.7 ns ± 0.0447 ns per loop (mean ± std. dev. of 7 runs, 10,000,000 loops each)\n"
     ]
    }
   ],
   "source": [
    "%timeit b.a"
   ]
  },
  {
   "cell_type": "code",
   "execution_count": 12,
   "id": "ad54dc69",
   "metadata": {
    "execution": {
     "iopub.execute_input": "2023-02-28T04:06:20.981721Z",
     "iopub.status.busy": "2023-02-28T04:06:20.981217Z",
     "iopub.status.idle": "2023-02-28T04:06:20.987496Z",
     "shell.execute_reply": "2023-02-28T04:06:20.986813Z"
    }
   },
   "outputs": [
    {
     "data": {
      "text/plain": [
       "Batch(\n",
       "    a: tensor([[-1.1073, -0.1042,  0.9332],\n",
       "               [ 0.4432, -0.0116,  0.8417]]),\n",
       "    x: Batch(\n",
       "           c: tensor([[-0.8814, -1.1687,  0.2131,  0.5581],\n",
       "                      [-0.9686, -0.4543, -0.8380, -1.2562],\n",
       "                      [ 0.0797, -0.3318, -1.3079, -0.8710]]),\n",
       "       ),\n",
       ")"
      ]
     },
     "execution_count": 12,
     "metadata": {},
     "output_type": "execute_result"
    }
   ],
   "source": [
    "new_value = torch.randn(2, 3)\n",
    "b.a = new_value\n",
    "\n",
    "b"
   ]
  },
  {
   "cell_type": "code",
   "execution_count": 13,
   "id": "29b1d0bf",
   "metadata": {
    "execution": {
     "iopub.execute_input": "2023-02-28T04:06:20.990595Z",
     "iopub.status.busy": "2023-02-28T04:06:20.990145Z",
     "iopub.status.idle": "2023-02-28T04:06:25.002522Z",
     "shell.execute_reply": "2023-02-28T04:06:25.001661Z"
    }
   },
   "outputs": [
    {
     "name": "stdout",
     "output_type": "stream",
     "text": [
      "494 ns ± 0.0736 ns per loop (mean ± std. dev. of 7 runs, 1,000,000 loops each)\n"
     ]
    }
   ],
   "source": [
    "%timeit b.a = new_value"
   ]
  },
  {
   "cell_type": "markdown",
   "id": "b61ad1d0",
   "metadata": {},
   "source": [
    "## Initialization"
   ]
  },
  {
   "cell_type": "markdown",
   "id": "d70f0d54",
   "metadata": {},
   "source": [
    "### TreeValue's Initialization"
   ]
  },
  {
   "cell_type": "code",
   "execution_count": 14,
   "id": "d32a679b",
   "metadata": {
    "execution": {
     "iopub.execute_input": "2023-02-28T04:06:25.005907Z",
     "iopub.status.busy": "2023-02-28T04:06:25.005486Z",
     "iopub.status.idle": "2023-02-28T04:06:31.555989Z",
     "shell.execute_reply": "2023-02-28T04:06:31.555118Z"
    }
   },
   "outputs": [
    {
     "name": "stdout",
     "output_type": "stream",
     "text": [
      "806 ns ± 0.127 ns per loop (mean ± std. dev. of 7 runs, 1,000,000 loops each)\n"
     ]
    }
   ],
   "source": [
    "%timeit FastTreeValue(_TREE_DATA_1)"
   ]
  },
  {
   "cell_type": "markdown",
   "id": "24f3707b",
   "metadata": {},
   "source": [
    "### Tianshou Batch's Initialization"
   ]
  },
  {
   "cell_type": "code",
   "execution_count": 15,
   "id": "ac3958df",
   "metadata": {
    "execution": {
     "iopub.execute_input": "2023-02-28T04:06:31.559425Z",
     "iopub.status.busy": "2023-02-28T04:06:31.559011Z",
     "iopub.status.idle": "2023-02-28T04:06:40.262630Z",
     "shell.execute_reply": "2023-02-28T04:06:40.261753Z"
    }
   },
   "outputs": [
    {
     "name": "stdout",
     "output_type": "stream",
     "text": [
      "10.7 µs ± 26.6 ns per loop (mean ± std. dev. of 7 runs, 100,000 loops each)\n"
     ]
    }
   ],
   "source": [
    "%timeit Batch(**_TREE_DATA_1)"
   ]
  },
  {
   "cell_type": "markdown",
   "id": "1ab82e2d",
   "metadata": {},
   "source": [
    "## Deep Copy Operation"
   ]
  },
  {
   "cell_type": "code",
   "execution_count": 16,
   "id": "210a9442",
   "metadata": {
    "execution": {
     "iopub.execute_input": "2023-02-28T04:06:40.266164Z",
     "iopub.status.busy": "2023-02-28T04:06:40.265449Z",
     "iopub.status.idle": "2023-02-28T04:06:40.269059Z",
     "shell.execute_reply": "2023-02-28T04:06:40.268340Z"
    }
   },
   "outputs": [],
   "source": [
    "import copy"
   ]
  },
  {
   "cell_type": "markdown",
   "id": "5a736274",
   "metadata": {},
   "source": [
    "### Deep Copy of TreeValue"
   ]
  },
  {
   "cell_type": "code",
   "execution_count": 17,
   "id": "f9bcadd6",
   "metadata": {
    "execution": {
     "iopub.execute_input": "2023-02-28T04:06:40.272119Z",
     "iopub.status.busy": "2023-02-28T04:06:40.271494Z",
     "iopub.status.idle": "2023-02-28T04:06:51.905692Z",
     "shell.execute_reply": "2023-02-28T04:06:51.905056Z"
    }
   },
   "outputs": [
    {
     "name": "stdout",
     "output_type": "stream",
     "text": [
      "143 µs ± 201 ns per loop (mean ± std. dev. of 7 runs, 10,000 loops each)\n"
     ]
    }
   ],
   "source": [
    "t3 = FastTreeValue(_TREE_DATA_3)\n",
    "%timeit copy.deepcopy(t3)"
   ]
  },
  {
   "cell_type": "markdown",
   "id": "bf8be7ea",
   "metadata": {},
   "source": [
    "### Deep Copy of Tianshou Batch"
   ]
  },
  {
   "cell_type": "code",
   "execution_count": 18,
   "id": "91998e6f",
   "metadata": {
    "execution": {
     "iopub.execute_input": "2023-02-28T04:06:51.908629Z",
     "iopub.status.busy": "2023-02-28T04:06:51.908200Z",
     "iopub.status.idle": "2023-02-28T04:07:03.566694Z",
     "shell.execute_reply": "2023-02-28T04:07:03.565899Z"
    }
   },
   "outputs": [
    {
     "name": "stdout",
     "output_type": "stream",
     "text": [
      "144 µs ± 715 ns per loop (mean ± std. dev. of 7 runs, 10,000 loops each)\n"
     ]
    }
   ],
   "source": [
    "b3 = Batch(**_TREE_DATA_3)\n",
    "%timeit copy.deepcopy(b3)"
   ]
  },
  {
   "cell_type": "markdown",
   "id": "223162fb",
   "metadata": {},
   "source": [
    "## Stack, Concat and Split Operation"
   ]
  },
  {
   "cell_type": "markdown",
   "id": "85fa4a73",
   "metadata": {},
   "source": [
    "### Performance of TreeValue"
   ]
  },
  {
   "cell_type": "code",
   "execution_count": 19,
   "id": "a0c2b697",
   "metadata": {
    "execution": {
     "iopub.execute_input": "2023-02-28T04:07:03.570033Z",
     "iopub.status.busy": "2023-02-28T04:07:03.569537Z",
     "iopub.status.idle": "2023-02-28T04:07:03.574061Z",
     "shell.execute_reply": "2023-02-28T04:07:03.573442Z"
    }
   },
   "outputs": [],
   "source": [
    "trees = [FastTreeValue(_TREE_DATA_2) for _ in range(8)]"
   ]
  },
  {
   "cell_type": "code",
   "execution_count": 20,
   "id": "017ea5a5",
   "metadata": {
    "execution": {
     "iopub.execute_input": "2023-02-28T04:07:03.576982Z",
     "iopub.status.busy": "2023-02-28T04:07:03.576625Z",
     "iopub.status.idle": "2023-02-28T04:07:03.585653Z",
     "shell.execute_reply": "2023-02-28T04:07:03.585043Z"
    }
   },
   "outputs": [
    {
     "data": {
      "text/plain": [
       "<FastTreeValue 0x7f7cee336bb0>\n",
       "├── 'a' --> tensor([[[-0.5268, -1.3699,  0.6357],\n",
       "│                    [ 0.9015,  0.4279,  0.9879]],\n",
       "│           \n",
       "│                   [[-0.5268, -1.3699,  0.6357],\n",
       "│                    [ 0.9015,  0.4279,  0.9879]],\n",
       "│           \n",
       "│                   [[-0.5268, -1.3699,  0.6357],\n",
       "│                    [ 0.9015,  0.4279,  0.9879]],\n",
       "│           \n",
       "│                   [[-0.5268, -1.3699,  0.6357],\n",
       "│                    [ 0.9015,  0.4279,  0.9879]],\n",
       "│           \n",
       "│                   [[-0.5268, -1.3699,  0.6357],\n",
       "│                    [ 0.9015,  0.4279,  0.9879]],\n",
       "│           \n",
       "│                   [[-0.5268, -1.3699,  0.6357],\n",
       "│                    [ 0.9015,  0.4279,  0.9879]],\n",
       "│           \n",
       "│                   [[-0.5268, -1.3699,  0.6357],\n",
       "│                    [ 0.9015,  0.4279,  0.9879]],\n",
       "│           \n",
       "│                   [[-0.5268, -1.3699,  0.6357],\n",
       "│                    [ 0.9015,  0.4279,  0.9879]]])\n",
       "└── 'x' --> <FastTreeValue 0x7f7d98ea5130>\n",
       "    └── 'c' --> tensor([[[-0.8814, -1.1687,  0.2131,  0.5581],\n",
       "                         [-0.9686, -0.4543, -0.8380, -1.2562],\n",
       "                         [ 0.0797, -0.3318, -1.3079, -0.8710]],\n",
       "                \n",
       "                        [[-0.8814, -1.1687,  0.2131,  0.5581],\n",
       "                         [-0.9686, -0.4543, -0.8380, -1.2562],\n",
       "                         [ 0.0797, -0.3318, -1.3079, -0.8710]],\n",
       "                \n",
       "                        [[-0.8814, -1.1687,  0.2131,  0.5581],\n",
       "                         [-0.9686, -0.4543, -0.8380, -1.2562],\n",
       "                         [ 0.0797, -0.3318, -1.3079, -0.8710]],\n",
       "                \n",
       "                        [[-0.8814, -1.1687,  0.2131,  0.5581],\n",
       "                         [-0.9686, -0.4543, -0.8380, -1.2562],\n",
       "                         [ 0.0797, -0.3318, -1.3079, -0.8710]],\n",
       "                \n",
       "                        [[-0.8814, -1.1687,  0.2131,  0.5581],\n",
       "                         [-0.9686, -0.4543, -0.8380, -1.2562],\n",
       "                         [ 0.0797, -0.3318, -1.3079, -0.8710]],\n",
       "                \n",
       "                        [[-0.8814, -1.1687,  0.2131,  0.5581],\n",
       "                         [-0.9686, -0.4543, -0.8380, -1.2562],\n",
       "                         [ 0.0797, -0.3318, -1.3079, -0.8710]],\n",
       "                \n",
       "                        [[-0.8814, -1.1687,  0.2131,  0.5581],\n",
       "                         [-0.9686, -0.4543, -0.8380, -1.2562],\n",
       "                         [ 0.0797, -0.3318, -1.3079, -0.8710]],\n",
       "                \n",
       "                        [[-0.8814, -1.1687,  0.2131,  0.5581],\n",
       "                         [-0.9686, -0.4543, -0.8380, -1.2562],\n",
       "                         [ 0.0797, -0.3318, -1.3079, -0.8710]]])"
      ]
     },
     "execution_count": 20,
     "metadata": {},
     "output_type": "execute_result"
    }
   ],
   "source": [
    "t_stack = FastTreeValue.func(subside=True)(torch.stack)\n",
    "\n",
    "t_stack(trees)"
   ]
  },
  {
   "cell_type": "code",
   "execution_count": 21,
   "id": "f8b3f415",
   "metadata": {
    "execution": {
     "iopub.execute_input": "2023-02-28T04:07:03.588422Z",
     "iopub.status.busy": "2023-02-28T04:07:03.587942Z",
     "iopub.status.idle": "2023-02-28T04:07:06.199376Z",
     "shell.execute_reply": "2023-02-28T04:07:06.198350Z"
    }
   },
   "outputs": [
    {
     "name": "stdout",
     "output_type": "stream",
     "text": [
      "32.1 µs ± 52.6 ns per loop (mean ± std. dev. of 7 runs, 10,000 loops each)\n"
     ]
    }
   ],
   "source": [
    "%timeit t_stack(trees)"
   ]
  },
  {
   "cell_type": "code",
   "execution_count": 22,
   "id": "94b56771",
   "metadata": {
    "execution": {
     "iopub.execute_input": "2023-02-28T04:07:06.202771Z",
     "iopub.status.busy": "2023-02-28T04:07:06.202299Z",
     "iopub.status.idle": "2023-02-28T04:07:06.210646Z",
     "shell.execute_reply": "2023-02-28T04:07:06.210004Z"
    }
   },
   "outputs": [
    {
     "data": {
      "text/plain": [
       "<FastTreeValue 0x7f7cedbc9700>\n",
       "├── 'a' --> tensor([[-0.5268, -1.3699,  0.6357],\n",
       "│                   [ 0.9015,  0.4279,  0.9879],\n",
       "│                   [-0.5268, -1.3699,  0.6357],\n",
       "│                   [ 0.9015,  0.4279,  0.9879],\n",
       "│                   [-0.5268, -1.3699,  0.6357],\n",
       "│                   [ 0.9015,  0.4279,  0.9879],\n",
       "│                   [-0.5268, -1.3699,  0.6357],\n",
       "│                   [ 0.9015,  0.4279,  0.9879],\n",
       "│                   [-0.5268, -1.3699,  0.6357],\n",
       "│                   [ 0.9015,  0.4279,  0.9879],\n",
       "│                   [-0.5268, -1.3699,  0.6357],\n",
       "│                   [ 0.9015,  0.4279,  0.9879],\n",
       "│                   [-0.5268, -1.3699,  0.6357],\n",
       "│                   [ 0.9015,  0.4279,  0.9879],\n",
       "│                   [-0.5268, -1.3699,  0.6357],\n",
       "│                   [ 0.9015,  0.4279,  0.9879]])\n",
       "└── 'x' --> <FastTreeValue 0x7f7cedc301f0>\n",
       "    └── 'c' --> tensor([[-0.8814, -1.1687,  0.2131,  0.5581],\n",
       "                        [-0.9686, -0.4543, -0.8380, -1.2562],\n",
       "                        [ 0.0797, -0.3318, -1.3079, -0.8710],\n",
       "                        [-0.8814, -1.1687,  0.2131,  0.5581],\n",
       "                        [-0.9686, -0.4543, -0.8380, -1.2562],\n",
       "                        [ 0.0797, -0.3318, -1.3079, -0.8710],\n",
       "                        [-0.8814, -1.1687,  0.2131,  0.5581],\n",
       "                        [-0.9686, -0.4543, -0.8380, -1.2562],\n",
       "                        [ 0.0797, -0.3318, -1.3079, -0.8710],\n",
       "                        [-0.8814, -1.1687,  0.2131,  0.5581],\n",
       "                        [-0.9686, -0.4543, -0.8380, -1.2562],\n",
       "                        [ 0.0797, -0.3318, -1.3079, -0.8710],\n",
       "                        [-0.8814, -1.1687,  0.2131,  0.5581],\n",
       "                        [-0.9686, -0.4543, -0.8380, -1.2562],\n",
       "                        [ 0.0797, -0.3318, -1.3079, -0.8710],\n",
       "                        [-0.8814, -1.1687,  0.2131,  0.5581],\n",
       "                        [-0.9686, -0.4543, -0.8380, -1.2562],\n",
       "                        [ 0.0797, -0.3318, -1.3079, -0.8710],\n",
       "                        [-0.8814, -1.1687,  0.2131,  0.5581],\n",
       "                        [-0.9686, -0.4543, -0.8380, -1.2562],\n",
       "                        [ 0.0797, -0.3318, -1.3079, -0.8710],\n",
       "                        [-0.8814, -1.1687,  0.2131,  0.5581],\n",
       "                        [-0.9686, -0.4543, -0.8380, -1.2562],\n",
       "                        [ 0.0797, -0.3318, -1.3079, -0.8710]])"
      ]
     },
     "execution_count": 22,
     "metadata": {},
     "output_type": "execute_result"
    }
   ],
   "source": [
    "t_cat = FastTreeValue.func(subside=True)(torch.cat)\n",
    "\n",
    "t_cat(trees)"
   ]
  },
  {
   "cell_type": "code",
   "execution_count": 23,
   "id": "5e9c06a6",
   "metadata": {
    "execution": {
     "iopub.execute_input": "2023-02-28T04:07:06.213904Z",
     "iopub.status.busy": "2023-02-28T04:07:06.213434Z",
     "iopub.status.idle": "2023-02-28T04:07:08.658815Z",
     "shell.execute_reply": "2023-02-28T04:07:08.657979Z"
    }
   },
   "outputs": [
    {
     "name": "stdout",
     "output_type": "stream",
     "text": [
      "30.1 µs ± 35.3 ns per loop (mean ± std. dev. of 7 runs, 10,000 loops each)\n"
     ]
    }
   ],
   "source": [
    "%timeit t_cat(trees)"
   ]
  },
  {
   "cell_type": "code",
   "execution_count": 24,
   "id": "a3ab5c8f",
   "metadata": {
    "execution": {
     "iopub.execute_input": "2023-02-28T04:07:08.662868Z",
     "iopub.status.busy": "2023-02-28T04:07:08.662206Z",
     "iopub.status.idle": "2023-02-28T04:07:13.269791Z",
     "shell.execute_reply": "2023-02-28T04:07:13.268762Z"
    }
   },
   "outputs": [
    {
     "name": "stdout",
     "output_type": "stream",
     "text": [
      "56.7 µs ± 50 ns per loop (mean ± std. dev. of 7 runs, 10,000 loops each)\n"
     ]
    }
   ],
   "source": [
    "t_split = FastTreeValue.func(rise=True)(torch.split)\n",
    "tree = FastTreeValue({\n",
    "    'obs': torch.randn(8, 4, 84, 84),\n",
    "    'action': torch.randint(0, 6, size=(8, 1,)),\n",
    "    'reward': torch.rand(8, 1),\n",
    "})\n",
    "\n",
    "%timeit t_split(tree, 1)"
   ]
  },
  {
   "cell_type": "markdown",
   "id": "31c3ec0b",
   "metadata": {},
   "source": [
    "### Performance of Tianshou Batch"
   ]
  },
  {
   "cell_type": "code",
   "execution_count": 25,
   "id": "9ead828a",
   "metadata": {
    "execution": {
     "iopub.execute_input": "2023-02-28T04:07:13.273278Z",
     "iopub.status.busy": "2023-02-28T04:07:13.272775Z",
     "iopub.status.idle": "2023-02-28T04:07:13.280888Z",
     "shell.execute_reply": "2023-02-28T04:07:13.280168Z"
    }
   },
   "outputs": [
    {
     "data": {
      "text/plain": [
       "Batch(\n",
       "    a: tensor([[[-0.5268, -1.3699,  0.6357],\n",
       "                [ 0.9015,  0.4279,  0.9879]],\n",
       "       \n",
       "               [[-0.5268, -1.3699,  0.6357],\n",
       "                [ 0.9015,  0.4279,  0.9879]],\n",
       "       \n",
       "               [[-0.5268, -1.3699,  0.6357],\n",
       "                [ 0.9015,  0.4279,  0.9879]],\n",
       "       \n",
       "               [[-0.5268, -1.3699,  0.6357],\n",
       "                [ 0.9015,  0.4279,  0.9879]],\n",
       "       \n",
       "               [[-0.5268, -1.3699,  0.6357],\n",
       "                [ 0.9015,  0.4279,  0.9879]],\n",
       "       \n",
       "               [[-0.5268, -1.3699,  0.6357],\n",
       "                [ 0.9015,  0.4279,  0.9879]],\n",
       "       \n",
       "               [[-0.5268, -1.3699,  0.6357],\n",
       "                [ 0.9015,  0.4279,  0.9879]],\n",
       "       \n",
       "               [[-0.5268, -1.3699,  0.6357],\n",
       "                [ 0.9015,  0.4279,  0.9879]]]),\n",
       "    x: Batch(\n",
       "           c: tensor([[[-0.8814, -1.1687,  0.2131,  0.5581],\n",
       "                       [-0.9686, -0.4543, -0.8380, -1.2562],\n",
       "                       [ 0.0797, -0.3318, -1.3079, -0.8710]],\n",
       "              \n",
       "                      [[-0.8814, -1.1687,  0.2131,  0.5581],\n",
       "                       [-0.9686, -0.4543, -0.8380, -1.2562],\n",
       "                       [ 0.0797, -0.3318, -1.3079, -0.8710]],\n",
       "              \n",
       "                      [[-0.8814, -1.1687,  0.2131,  0.5581],\n",
       "                       [-0.9686, -0.4543, -0.8380, -1.2562],\n",
       "                       [ 0.0797, -0.3318, -1.3079, -0.8710]],\n",
       "              \n",
       "                      [[-0.8814, -1.1687,  0.2131,  0.5581],\n",
       "                       [-0.9686, -0.4543, -0.8380, -1.2562],\n",
       "                       [ 0.0797, -0.3318, -1.3079, -0.8710]],\n",
       "              \n",
       "                      [[-0.8814, -1.1687,  0.2131,  0.5581],\n",
       "                       [-0.9686, -0.4543, -0.8380, -1.2562],\n",
       "                       [ 0.0797, -0.3318, -1.3079, -0.8710]],\n",
       "              \n",
       "                      [[-0.8814, -1.1687,  0.2131,  0.5581],\n",
       "                       [-0.9686, -0.4543, -0.8380, -1.2562],\n",
       "                       [ 0.0797, -0.3318, -1.3079, -0.8710]],\n",
       "              \n",
       "                      [[-0.8814, -1.1687,  0.2131,  0.5581],\n",
       "                       [-0.9686, -0.4543, -0.8380, -1.2562],\n",
       "                       [ 0.0797, -0.3318, -1.3079, -0.8710]],\n",
       "              \n",
       "                      [[-0.8814, -1.1687,  0.2131,  0.5581],\n",
       "                       [-0.9686, -0.4543, -0.8380, -1.2562],\n",
       "                       [ 0.0797, -0.3318, -1.3079, -0.8710]]]),\n",
       "       ),\n",
       ")"
      ]
     },
     "execution_count": 25,
     "metadata": {},
     "output_type": "execute_result"
    }
   ],
   "source": [
    "batches = [Batch(**_TREE_DATA_2) for _ in range(8)]\n",
    "\n",
    "Batch.stack(batches)"
   ]
  },
  {
   "cell_type": "code",
   "execution_count": 26,
   "id": "ec9037a3",
   "metadata": {
    "execution": {
     "iopub.execute_input": "2023-02-28T04:07:13.284040Z",
     "iopub.status.busy": "2023-02-28T04:07:13.283555Z",
     "iopub.status.idle": "2023-02-28T04:07:19.645860Z",
     "shell.execute_reply": "2023-02-28T04:07:19.644971Z"
    }
   },
   "outputs": [
    {
     "name": "stdout",
     "output_type": "stream",
     "text": [
      "78.3 µs ± 211 ns per loop (mean ± std. dev. of 7 runs, 10,000 loops each)\n"
     ]
    }
   ],
   "source": [
    "%timeit Batch.stack(batches)"
   ]
  },
  {
   "cell_type": "code",
   "execution_count": 27,
   "id": "cb8ab77e",
   "metadata": {
    "execution": {
     "iopub.execute_input": "2023-02-28T04:07:19.649652Z",
     "iopub.status.busy": "2023-02-28T04:07:19.649186Z",
     "iopub.status.idle": "2023-02-28T04:07:19.657198Z",
     "shell.execute_reply": "2023-02-28T04:07:19.656554Z"
    }
   },
   "outputs": [
    {
     "data": {
      "text/plain": [
       "Batch(\n",
       "    a: tensor([[-0.5268, -1.3699,  0.6357],\n",
       "               [ 0.9015,  0.4279,  0.9879],\n",
       "               [-0.5268, -1.3699,  0.6357],\n",
       "               [ 0.9015,  0.4279,  0.9879],\n",
       "               [-0.5268, -1.3699,  0.6357],\n",
       "               [ 0.9015,  0.4279,  0.9879],\n",
       "               [-0.5268, -1.3699,  0.6357],\n",
       "               [ 0.9015,  0.4279,  0.9879],\n",
       "               [-0.5268, -1.3699,  0.6357],\n",
       "               [ 0.9015,  0.4279,  0.9879],\n",
       "               [-0.5268, -1.3699,  0.6357],\n",
       "               [ 0.9015,  0.4279,  0.9879],\n",
       "               [-0.5268, -1.3699,  0.6357],\n",
       "               [ 0.9015,  0.4279,  0.9879],\n",
       "               [-0.5268, -1.3699,  0.6357],\n",
       "               [ 0.9015,  0.4279,  0.9879]]),\n",
       "    x: Batch(\n",
       "           c: tensor([[-0.8814, -1.1687,  0.2131,  0.5581],\n",
       "                      [-0.9686, -0.4543, -0.8380, -1.2562],\n",
       "                      [ 0.0797, -0.3318, -1.3079, -0.8710],\n",
       "                      [-0.8814, -1.1687,  0.2131,  0.5581],\n",
       "                      [-0.9686, -0.4543, -0.8380, -1.2562],\n",
       "                      [ 0.0797, -0.3318, -1.3079, -0.8710],\n",
       "                      [-0.8814, -1.1687,  0.2131,  0.5581],\n",
       "                      [-0.9686, -0.4543, -0.8380, -1.2562],\n",
       "                      [ 0.0797, -0.3318, -1.3079, -0.8710],\n",
       "                      [-0.8814, -1.1687,  0.2131,  0.5581],\n",
       "                      [-0.9686, -0.4543, -0.8380, -1.2562],\n",
       "                      [ 0.0797, -0.3318, -1.3079, -0.8710],\n",
       "                      [-0.8814, -1.1687,  0.2131,  0.5581],\n",
       "                      [-0.9686, -0.4543, -0.8380, -1.2562],\n",
       "                      [ 0.0797, -0.3318, -1.3079, -0.8710],\n",
       "                      [-0.8814, -1.1687,  0.2131,  0.5581],\n",
       "                      [-0.9686, -0.4543, -0.8380, -1.2562],\n",
       "                      [ 0.0797, -0.3318, -1.3079, -0.8710],\n",
       "                      [-0.8814, -1.1687,  0.2131,  0.5581],\n",
       "                      [-0.9686, -0.4543, -0.8380, -1.2562],\n",
       "                      [ 0.0797, -0.3318, -1.3079, -0.8710],\n",
       "                      [-0.8814, -1.1687,  0.2131,  0.5581],\n",
       "                      [-0.9686, -0.4543, -0.8380, -1.2562],\n",
       "                      [ 0.0797, -0.3318, -1.3079, -0.8710]]),\n",
       "       ),\n",
       ")"
      ]
     },
     "execution_count": 27,
     "metadata": {},
     "output_type": "execute_result"
    }
   ],
   "source": [
    "Batch.cat(batches)"
   ]
  },
  {
   "cell_type": "code",
   "execution_count": 28,
   "id": "18dfb045",
   "metadata": {
    "execution": {
     "iopub.execute_input": "2023-02-28T04:07:19.660151Z",
     "iopub.status.busy": "2023-02-28T04:07:19.659747Z",
     "iopub.status.idle": "2023-02-28T04:07:31.324931Z",
     "shell.execute_reply": "2023-02-28T04:07:31.324059Z"
    }
   },
   "outputs": [
    {
     "name": "stdout",
     "output_type": "stream",
     "text": [
      "143 µs ± 343 ns per loop (mean ± std. dev. of 7 runs, 10,000 loops each)\n"
     ]
    }
   ],
   "source": [
    "%timeit Batch.cat(batches)"
   ]
  },
  {
   "cell_type": "code",
   "execution_count": 29,
   "id": "c6688e51",
   "metadata": {
    "execution": {
     "iopub.execute_input": "2023-02-28T04:07:31.328969Z",
     "iopub.status.busy": "2023-02-28T04:07:31.328273Z",
     "iopub.status.idle": "2023-02-28T04:07:33.994271Z",
     "shell.execute_reply": "2023-02-28T04:07:33.993219Z"
    }
   },
   "outputs": [
    {
     "name": "stdout",
     "output_type": "stream",
     "text": [
      "327 µs ± 964 ns per loop (mean ± std. dev. of 7 runs, 1,000 loops each)\n"
     ]
    }
   ],
   "source": [
    "batch = Batch({\n",
    "    'obs': torch.randn(8, 4, 84, 84),\n",
    "    'action': torch.randint(0, 6, size=(8, 1,)),\n",
    "    'reward': torch.rand(8, 1)}\n",
    ")\n",
    "\n",
    "%timeit list(Batch.split(batch, 1, shuffle=False, merge_last=True))"
   ]
  },
  {
   "cell_type": "code",
   "execution_count": null,
   "id": "2539fbd9",
   "metadata": {},
   "outputs": [],
   "source": []
  }
 ],
 "metadata": {
  "kernelspec": {
   "display_name": "Python 3 (ipykernel)",
   "language": "python",
   "name": "python3"
  },
  "language_info": {
   "codemirror_mode": {
    "name": "ipython",
    "version": 3
   },
   "file_extension": ".py",
   "mimetype": "text/x-python",
   "name": "python",
   "nbconvert_exporter": "python",
   "pygments_lexer": "ipython3",
   "version": "3.8.16"
  }
 },
 "nbformat": 4,
 "nbformat_minor": 5
}
