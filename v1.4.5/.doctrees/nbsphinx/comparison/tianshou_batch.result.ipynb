{
 "cells": [
  {
   "cell_type": "markdown",
   "id": "9d39d946",
   "metadata": {},
   "source": [
    "# Comparison Between TreeValue and Tianshou Batch"
   ]
  },
  {
   "cell_type": "markdown",
   "id": "3c6db2d4",
   "metadata": {},
   "source": [
    "In this section, we will take a look at the feature and performance of the [Tianshou Batch](https://github.com/thu-ml/tianshou) library, which is developed by Tsinghua Machine Learning Group."
   ]
  },
  {
   "cell_type": "markdown",
   "id": "069361b0",
   "metadata": {},
   "source": [
    "Before starting the comparison, let us define some thing."
   ]
  },
  {
   "cell_type": "code",
   "execution_count": 1,
   "id": "06fc8d26",
   "metadata": {
    "execution": {
     "iopub.execute_input": "2023-02-23T08:28:18.157314Z",
     "iopub.status.busy": "2023-02-23T08:28:18.156786Z",
     "iopub.status.idle": "2023-02-23T08:28:19.285287Z",
     "shell.execute_reply": "2023-02-23T08:28:19.284368Z"
    }
   },
   "outputs": [
    {
     "name": "stderr",
     "output_type": "stream",
     "text": [
      "/opt/hostedtoolcache/Python/3.8.16/x64/lib/python3.8/site-packages/tqdm/auto.py:22: TqdmWarning: IProgress not found. Please update jupyter and ipywidgets. See https://ipywidgets.readthedocs.io/en/stable/user_install.html\n",
      "  from .autonotebook import tqdm as notebook_tqdm\n"
     ]
    }
   ],
   "source": [
    "import torch \n",
    "\n",
    "_TREE_DATA_1 = {'a': 1, 'b': 2, 'x': {'c': 3, 'd': 4}}\n",
    "_TREE_DATA_2 = {\n",
    "    'a': torch.randn(2, 3), \n",
    "    'x': {\n",
    "        'c': torch.randn(3, 4)\n",
    "    },\n",
    "}\n",
    "_TREE_DATA_3 = {\n",
    "    'obs': torch.randn(4, 84, 84),\n",
    "    'action': torch.randint(0, 6, size=(1,)),\n",
    "    'reward': torch.rand(1),\n",
    "}"
   ]
  },
  {
   "cell_type": "markdown",
   "id": "83461b25",
   "metadata": {},
   "source": [
    "## Read and Write Operation"
   ]
  },
  {
   "cell_type": "markdown",
   "id": "067b3f73",
   "metadata": {},
   "source": [
    "Reading and writing are the two most common operations in the tree data structure based on the data model (TreeValue and Tianshou Batch both belong to this type), so this section will compare the reading and writing performance of these two libraries."
   ]
  },
  {
   "cell_type": "markdown",
   "id": "5d09a5b7",
   "metadata": {},
   "source": [
    "### TreeValue's Get and Set"
   ]
  },
  {
   "cell_type": "code",
   "execution_count": 2,
   "id": "9519c4bb",
   "metadata": {
    "execution": {
     "iopub.execute_input": "2023-02-23T08:28:19.289859Z",
     "iopub.status.busy": "2023-02-23T08:28:19.289269Z",
     "iopub.status.idle": "2023-02-23T08:28:19.333690Z",
     "shell.execute_reply": "2023-02-23T08:28:19.332615Z"
    }
   },
   "outputs": [],
   "source": [
    "from treevalue import FastTreeValue\n",
    "\n",
    "t = FastTreeValue(_TREE_DATA_2)"
   ]
  },
  {
   "cell_type": "code",
   "execution_count": 3,
   "id": "11c37677",
   "metadata": {
    "execution": {
     "iopub.execute_input": "2023-02-23T08:28:19.338699Z",
     "iopub.status.busy": "2023-02-23T08:28:19.338151Z",
     "iopub.status.idle": "2023-02-23T08:28:19.350140Z",
     "shell.execute_reply": "2023-02-23T08:28:19.349243Z"
    }
   },
   "outputs": [
    {
     "data": {
      "text/plain": [
       "<FastTreeValue 0x7f930ccda9a0>\n",
       "├── 'a' --> tensor([[ 0.0962,  1.2162,  1.6858],\n",
       "│                   [ 1.5490, -0.6782, -1.1283]])\n",
       "└── 'x' --> <FastTreeValue 0x7f930ccdac10>\n",
       "    └── 'c' --> tensor([[-0.7926,  0.5028, -1.5390,  0.6423],\n",
       "                        [-0.7281,  0.4362,  1.3483,  0.7270],\n",
       "                        [-1.0876, -1.2192,  0.4863, -1.8572]])"
      ]
     },
     "execution_count": 3,
     "metadata": {},
     "output_type": "execute_result"
    }
   ],
   "source": [
    "t"
   ]
  },
  {
   "cell_type": "code",
   "execution_count": 4,
   "id": "fd70b0b9",
   "metadata": {
    "execution": {
     "iopub.execute_input": "2023-02-23T08:28:19.353612Z",
     "iopub.status.busy": "2023-02-23T08:28:19.352954Z",
     "iopub.status.idle": "2023-02-23T08:28:19.359631Z",
     "shell.execute_reply": "2023-02-23T08:28:19.358879Z"
    }
   },
   "outputs": [
    {
     "data": {
      "text/plain": [
       "tensor([[ 0.0962,  1.2162,  1.6858],\n",
       "        [ 1.5490, -0.6782, -1.1283]])"
      ]
     },
     "execution_count": 4,
     "metadata": {},
     "output_type": "execute_result"
    }
   ],
   "source": [
    "t.a"
   ]
  },
  {
   "cell_type": "code",
   "execution_count": 5,
   "id": "c18197bd",
   "metadata": {
    "execution": {
     "iopub.execute_input": "2023-02-23T08:28:19.362755Z",
     "iopub.status.busy": "2023-02-23T08:28:19.362216Z",
     "iopub.status.idle": "2023-02-23T08:28:25.832679Z",
     "shell.execute_reply": "2023-02-23T08:28:25.831766Z"
    }
   },
   "outputs": [
    {
     "name": "stdout",
     "output_type": "stream",
     "text": [
      "79.6 ns ± 0.235 ns per loop (mean ± std. dev. of 7 runs, 10,000,000 loops each)\n"
     ]
    }
   ],
   "source": [
    "%timeit t.a"
   ]
  },
  {
   "cell_type": "code",
   "execution_count": 6,
   "id": "bd52f867",
   "metadata": {
    "execution": {
     "iopub.execute_input": "2023-02-23T08:28:25.836762Z",
     "iopub.status.busy": "2023-02-23T08:28:25.836081Z",
     "iopub.status.idle": "2023-02-23T08:28:25.844066Z",
     "shell.execute_reply": "2023-02-23T08:28:25.843339Z"
    }
   },
   "outputs": [
    {
     "data": {
      "text/plain": [
       "<FastTreeValue 0x7f930ccda9a0>\n",
       "├── 'a' --> tensor([[ 0.8836, -0.2391, -0.0963],\n",
       "│                   [ 2.2318,  0.1842,  0.2478]])\n",
       "└── 'x' --> <FastTreeValue 0x7f930ccdac10>\n",
       "    └── 'c' --> tensor([[-0.7926,  0.5028, -1.5390,  0.6423],\n",
       "                        [-0.7281,  0.4362,  1.3483,  0.7270],\n",
       "                        [-1.0876, -1.2192,  0.4863, -1.8572]])"
      ]
     },
     "execution_count": 6,
     "metadata": {},
     "output_type": "execute_result"
    }
   ],
   "source": [
    "new_value = torch.randn(2, 3)\n",
    "t.a = new_value\n",
    "\n",
    "t"
   ]
  },
  {
   "cell_type": "code",
   "execution_count": 7,
   "id": "bbe04d1c",
   "metadata": {
    "execution": {
     "iopub.execute_input": "2023-02-23T08:28:25.847301Z",
     "iopub.status.busy": "2023-02-23T08:28:25.846869Z",
     "iopub.status.idle": "2023-02-23T08:28:32.576335Z",
     "shell.execute_reply": "2023-02-23T08:28:32.575263Z"
    }
   },
   "outputs": [
    {
     "name": "stdout",
     "output_type": "stream",
     "text": [
      "82.9 ns ± 0.0513 ns per loop (mean ± std. dev. of 7 runs, 10,000,000 loops each)\n"
     ]
    }
   ],
   "source": [
    "%timeit t.a = new_value"
   ]
  },
  {
   "cell_type": "markdown",
   "id": "48c49731",
   "metadata": {},
   "source": [
    "### Tianshou Batch's Get and Set"
   ]
  },
  {
   "cell_type": "code",
   "execution_count": 8,
   "id": "f1bb14c1",
   "metadata": {
    "execution": {
     "iopub.execute_input": "2023-02-23T08:28:32.580739Z",
     "iopub.status.busy": "2023-02-23T08:28:32.579893Z",
     "iopub.status.idle": "2023-02-23T08:28:32.993163Z",
     "shell.execute_reply": "2023-02-23T08:28:32.992139Z"
    }
   },
   "outputs": [],
   "source": [
    "from tianshou.data import Batch\n",
    "\n",
    "b = Batch(**_TREE_DATA_2)"
   ]
  },
  {
   "cell_type": "code",
   "execution_count": 9,
   "id": "cb0777c3",
   "metadata": {
    "execution": {
     "iopub.execute_input": "2023-02-23T08:28:32.997312Z",
     "iopub.status.busy": "2023-02-23T08:28:32.996774Z",
     "iopub.status.idle": "2023-02-23T08:28:33.004731Z",
     "shell.execute_reply": "2023-02-23T08:28:33.004010Z"
    }
   },
   "outputs": [
    {
     "data": {
      "text/plain": [
       "Batch(\n",
       "    a: tensor([[ 0.0962,  1.2162,  1.6858],\n",
       "               [ 1.5490, -0.6782, -1.1283]]),\n",
       "    x: Batch(\n",
       "           c: tensor([[-0.7926,  0.5028, -1.5390,  0.6423],\n",
       "                      [-0.7281,  0.4362,  1.3483,  0.7270],\n",
       "                      [-1.0876, -1.2192,  0.4863, -1.8572]]),\n",
       "       ),\n",
       ")"
      ]
     },
     "execution_count": 9,
     "metadata": {},
     "output_type": "execute_result"
    }
   ],
   "source": [
    "b"
   ]
  },
  {
   "cell_type": "code",
   "execution_count": 10,
   "id": "43ef8ea3",
   "metadata": {
    "execution": {
     "iopub.execute_input": "2023-02-23T08:28:33.008024Z",
     "iopub.status.busy": "2023-02-23T08:28:33.007396Z",
     "iopub.status.idle": "2023-02-23T08:28:33.014092Z",
     "shell.execute_reply": "2023-02-23T08:28:33.013392Z"
    }
   },
   "outputs": [
    {
     "data": {
      "text/plain": [
       "tensor([[ 0.0962,  1.2162,  1.6858],\n",
       "        [ 1.5490, -0.6782, -1.1283]])"
      ]
     },
     "execution_count": 10,
     "metadata": {},
     "output_type": "execute_result"
    }
   ],
   "source": [
    "b.a"
   ]
  },
  {
   "cell_type": "code",
   "execution_count": 11,
   "id": "b785ab72",
   "metadata": {
    "execution": {
     "iopub.execute_input": "2023-02-23T08:28:33.017387Z",
     "iopub.status.busy": "2023-02-23T08:28:33.016962Z",
     "iopub.status.idle": "2023-02-23T08:28:38.789288Z",
     "shell.execute_reply": "2023-02-23T08:28:38.788118Z"
    }
   },
   "outputs": [
    {
     "name": "stdout",
     "output_type": "stream",
     "text": [
      "71.1 ns ± 0.0698 ns per loop (mean ± std. dev. of 7 runs, 10,000,000 loops each)\n"
     ]
    }
   ],
   "source": [
    "%timeit b.a"
   ]
  },
  {
   "cell_type": "code",
   "execution_count": 12,
   "id": "ad54dc69",
   "metadata": {
    "execution": {
     "iopub.execute_input": "2023-02-23T08:28:38.793534Z",
     "iopub.status.busy": "2023-02-23T08:28:38.792804Z",
     "iopub.status.idle": "2023-02-23T08:28:38.801591Z",
     "shell.execute_reply": "2023-02-23T08:28:38.800732Z"
    }
   },
   "outputs": [
    {
     "data": {
      "text/plain": [
       "Batch(\n",
       "    a: tensor([[-1.5134,  0.7193, -0.5079],\n",
       "               [-0.0279, -0.3575,  0.9507]]),\n",
       "    x: Batch(\n",
       "           c: tensor([[-0.7926,  0.5028, -1.5390,  0.6423],\n",
       "                      [-0.7281,  0.4362,  1.3483,  0.7270],\n",
       "                      [-1.0876, -1.2192,  0.4863, -1.8572]]),\n",
       "       ),\n",
       ")"
      ]
     },
     "execution_count": 12,
     "metadata": {},
     "output_type": "execute_result"
    }
   ],
   "source": [
    "new_value = torch.randn(2, 3)\n",
    "b.a = new_value\n",
    "\n",
    "b"
   ]
  },
  {
   "cell_type": "code",
   "execution_count": 13,
   "id": "29b1d0bf",
   "metadata": {
    "execution": {
     "iopub.execute_input": "2023-02-23T08:28:38.805302Z",
     "iopub.status.busy": "2023-02-23T08:28:38.804501Z",
     "iopub.status.idle": "2023-02-23T08:28:43.674393Z",
     "shell.execute_reply": "2023-02-23T08:28:43.673165Z"
    }
   },
   "outputs": [
    {
     "name": "stdout",
     "output_type": "stream",
     "text": [
      "598 ns ± 1.09 ns per loop (mean ± std. dev. of 7 runs, 1,000,000 loops each)\n"
     ]
    }
   ],
   "source": [
    "%timeit b.a = new_value"
   ]
  },
  {
   "cell_type": "markdown",
   "id": "b61ad1d0",
   "metadata": {},
   "source": [
    "## Initialization"
   ]
  },
  {
   "cell_type": "markdown",
   "id": "d70f0d54",
   "metadata": {},
   "source": [
    "### TreeValue's Initialization"
   ]
  },
  {
   "cell_type": "code",
   "execution_count": 14,
   "id": "d32a679b",
   "metadata": {
    "execution": {
     "iopub.execute_input": "2023-02-23T08:28:43.677981Z",
     "iopub.status.busy": "2023-02-23T08:28:43.677694Z",
     "iopub.status.idle": "2023-02-23T08:28:51.806750Z",
     "shell.execute_reply": "2023-02-23T08:28:51.805488Z"
    }
   },
   "outputs": [
    {
     "name": "stdout",
     "output_type": "stream",
     "text": [
      "1 µs ± 1.74 ns per loop (mean ± std. dev. of 7 runs, 1,000,000 loops each)\n"
     ]
    }
   ],
   "source": [
    "%timeit FastTreeValue(_TREE_DATA_1)"
   ]
  },
  {
   "cell_type": "markdown",
   "id": "24f3707b",
   "metadata": {},
   "source": [
    "### Tianshou Batch's Initialization"
   ]
  },
  {
   "cell_type": "code",
   "execution_count": 15,
   "id": "ac3958df",
   "metadata": {
    "execution": {
     "iopub.execute_input": "2023-02-23T08:28:51.810619Z",
     "iopub.status.busy": "2023-02-23T08:28:51.809956Z",
     "iopub.status.idle": "2023-02-23T08:29:01.510919Z",
     "shell.execute_reply": "2023-02-23T08:29:01.509937Z"
    }
   },
   "outputs": [
    {
     "name": "stdout",
     "output_type": "stream",
     "text": [
      "12 µs ± 86.6 ns per loop (mean ± std. dev. of 7 runs, 100,000 loops each)\n"
     ]
    }
   ],
   "source": [
    "%timeit Batch(**_TREE_DATA_1)"
   ]
  },
  {
   "cell_type": "markdown",
   "id": "1ab82e2d",
   "metadata": {},
   "source": [
    "## Deep Copy Operation"
   ]
  },
  {
   "cell_type": "code",
   "execution_count": 16,
   "id": "210a9442",
   "metadata": {
    "execution": {
     "iopub.execute_input": "2023-02-23T08:29:01.515053Z",
     "iopub.status.busy": "2023-02-23T08:29:01.514375Z",
     "iopub.status.idle": "2023-02-23T08:29:01.518654Z",
     "shell.execute_reply": "2023-02-23T08:29:01.517385Z"
    }
   },
   "outputs": [],
   "source": [
    "import copy"
   ]
  },
  {
   "cell_type": "markdown",
   "id": "5a736274",
   "metadata": {},
   "source": [
    "### Deep Copy of TreeValue"
   ]
  },
  {
   "cell_type": "code",
   "execution_count": 17,
   "id": "f9bcadd6",
   "metadata": {
    "execution": {
     "iopub.execute_input": "2023-02-23T08:29:01.522093Z",
     "iopub.status.busy": "2023-02-23T08:29:01.521670Z",
     "iopub.status.idle": "2023-02-23T08:29:15.072264Z",
     "shell.execute_reply": "2023-02-23T08:29:15.071353Z"
    }
   },
   "outputs": [
    {
     "name": "stdout",
     "output_type": "stream",
     "text": [
      "167 µs ± 1.99 µs per loop (mean ± std. dev. of 7 runs, 10,000 loops each)\n"
     ]
    }
   ],
   "source": [
    "t3 = FastTreeValue(_TREE_DATA_3)\n",
    "%timeit copy.deepcopy(t3)"
   ]
  },
  {
   "cell_type": "markdown",
   "id": "bf8be7ea",
   "metadata": {},
   "source": [
    "### Deep Copy of Tianshou Batch"
   ]
  },
  {
   "cell_type": "code",
   "execution_count": 18,
   "id": "91998e6f",
   "metadata": {
    "execution": {
     "iopub.execute_input": "2023-02-23T08:29:15.076258Z",
     "iopub.status.busy": "2023-02-23T08:29:15.075495Z",
     "iopub.status.idle": "2023-02-23T08:29:28.459528Z",
     "shell.execute_reply": "2023-02-23T08:29:28.458636Z"
    }
   },
   "outputs": [
    {
     "name": "stdout",
     "output_type": "stream",
     "text": [
      "165 µs ± 844 ns per loop (mean ± std. dev. of 7 runs, 10,000 loops each)\n"
     ]
    }
   ],
   "source": [
    "b3 = Batch(**_TREE_DATA_3)\n",
    "%timeit copy.deepcopy(b3)"
   ]
  },
  {
   "cell_type": "markdown",
   "id": "223162fb",
   "metadata": {},
   "source": [
    "## Stack, Concat and Split Operation"
   ]
  },
  {
   "cell_type": "markdown",
   "id": "85fa4a73",
   "metadata": {},
   "source": [
    "### Performance of TreeValue"
   ]
  },
  {
   "cell_type": "code",
   "execution_count": 19,
   "id": "a0c2b697",
   "metadata": {
    "execution": {
     "iopub.execute_input": "2023-02-23T08:29:28.463475Z",
     "iopub.status.busy": "2023-02-23T08:29:28.463187Z",
     "iopub.status.idle": "2023-02-23T08:29:28.468042Z",
     "shell.execute_reply": "2023-02-23T08:29:28.467313Z"
    }
   },
   "outputs": [],
   "source": [
    "trees = [FastTreeValue(_TREE_DATA_2) for _ in range(8)]"
   ]
  },
  {
   "cell_type": "code",
   "execution_count": 20,
   "id": "017ea5a5",
   "metadata": {
    "execution": {
     "iopub.execute_input": "2023-02-23T08:29:28.471017Z",
     "iopub.status.busy": "2023-02-23T08:29:28.470593Z",
     "iopub.status.idle": "2023-02-23T08:29:28.479263Z",
     "shell.execute_reply": "2023-02-23T08:29:28.478470Z"
    }
   },
   "outputs": [
    {
     "data": {
      "text/plain": [
       "<FastTreeValue 0x7f925f9a7f10>\n",
       "├── 'a' --> tensor([[[ 0.0962,  1.2162,  1.6858],\n",
       "│                    [ 1.5490, -0.6782, -1.1283]],\n",
       "│           \n",
       "│                   [[ 0.0962,  1.2162,  1.6858],\n",
       "│                    [ 1.5490, -0.6782, -1.1283]],\n",
       "│           \n",
       "│                   [[ 0.0962,  1.2162,  1.6858],\n",
       "│                    [ 1.5490, -0.6782, -1.1283]],\n",
       "│           \n",
       "│                   [[ 0.0962,  1.2162,  1.6858],\n",
       "│                    [ 1.5490, -0.6782, -1.1283]],\n",
       "│           \n",
       "│                   [[ 0.0962,  1.2162,  1.6858],\n",
       "│                    [ 1.5490, -0.6782, -1.1283]],\n",
       "│           \n",
       "│                   [[ 0.0962,  1.2162,  1.6858],\n",
       "│                    [ 1.5490, -0.6782, -1.1283]],\n",
       "│           \n",
       "│                   [[ 0.0962,  1.2162,  1.6858],\n",
       "│                    [ 1.5490, -0.6782, -1.1283]],\n",
       "│           \n",
       "│                   [[ 0.0962,  1.2162,  1.6858],\n",
       "│                    [ 1.5490, -0.6782, -1.1283]]])\n",
       "└── 'x' --> <FastTreeValue 0x7f930cd3bd90>\n",
       "    └── 'c' --> tensor([[[-0.7926,  0.5028, -1.5390,  0.6423],\n",
       "                         [-0.7281,  0.4362,  1.3483,  0.7270],\n",
       "                         [-1.0876, -1.2192,  0.4863, -1.8572]],\n",
       "                \n",
       "                        [[-0.7926,  0.5028, -1.5390,  0.6423],\n",
       "                         [-0.7281,  0.4362,  1.3483,  0.7270],\n",
       "                         [-1.0876, -1.2192,  0.4863, -1.8572]],\n",
       "                \n",
       "                        [[-0.7926,  0.5028, -1.5390,  0.6423],\n",
       "                         [-0.7281,  0.4362,  1.3483,  0.7270],\n",
       "                         [-1.0876, -1.2192,  0.4863, -1.8572]],\n",
       "                \n",
       "                        [[-0.7926,  0.5028, -1.5390,  0.6423],\n",
       "                         [-0.7281,  0.4362,  1.3483,  0.7270],\n",
       "                         [-1.0876, -1.2192,  0.4863, -1.8572]],\n",
       "                \n",
       "                        [[-0.7926,  0.5028, -1.5390,  0.6423],\n",
       "                         [-0.7281,  0.4362,  1.3483,  0.7270],\n",
       "                         [-1.0876, -1.2192,  0.4863, -1.8572]],\n",
       "                \n",
       "                        [[-0.7926,  0.5028, -1.5390,  0.6423],\n",
       "                         [-0.7281,  0.4362,  1.3483,  0.7270],\n",
       "                         [-1.0876, -1.2192,  0.4863, -1.8572]],\n",
       "                \n",
       "                        [[-0.7926,  0.5028, -1.5390,  0.6423],\n",
       "                         [-0.7281,  0.4362,  1.3483,  0.7270],\n",
       "                         [-1.0876, -1.2192,  0.4863, -1.8572]],\n",
       "                \n",
       "                        [[-0.7926,  0.5028, -1.5390,  0.6423],\n",
       "                         [-0.7281,  0.4362,  1.3483,  0.7270],\n",
       "                         [-1.0876, -1.2192,  0.4863, -1.8572]]])"
      ]
     },
     "execution_count": 20,
     "metadata": {},
     "output_type": "execute_result"
    }
   ],
   "source": [
    "t_stack = FastTreeValue.func(subside=True)(torch.stack)\n",
    "\n",
    "t_stack(trees)"
   ]
  },
  {
   "cell_type": "code",
   "execution_count": 21,
   "id": "f8b3f415",
   "metadata": {
    "execution": {
     "iopub.execute_input": "2023-02-23T08:29:28.482549Z",
     "iopub.status.busy": "2023-02-23T08:29:28.481790Z",
     "iopub.status.idle": "2023-02-23T08:29:31.609780Z",
     "shell.execute_reply": "2023-02-23T08:29:31.608848Z"
    }
   },
   "outputs": [
    {
     "name": "stdout",
     "output_type": "stream",
     "text": [
      "38.5 µs ± 59.9 ns per loop (mean ± std. dev. of 7 runs, 10,000 loops each)\n"
     ]
    }
   ],
   "source": [
    "%timeit t_stack(trees)"
   ]
  },
  {
   "cell_type": "code",
   "execution_count": 22,
   "id": "94b56771",
   "metadata": {
    "execution": {
     "iopub.execute_input": "2023-02-23T08:29:31.613487Z",
     "iopub.status.busy": "2023-02-23T08:29:31.612868Z",
     "iopub.status.idle": "2023-02-23T08:29:31.622976Z",
     "shell.execute_reply": "2023-02-23T08:29:31.622232Z"
    }
   },
   "outputs": [
    {
     "data": {
      "text/plain": [
       "<FastTreeValue 0x7f930ccd57f0>\n",
       "├── 'a' --> tensor([[ 0.0962,  1.2162,  1.6858],\n",
       "│                   [ 1.5490, -0.6782, -1.1283],\n",
       "│                   [ 0.0962,  1.2162,  1.6858],\n",
       "│                   [ 1.5490, -0.6782, -1.1283],\n",
       "│                   [ 0.0962,  1.2162,  1.6858],\n",
       "│                   [ 1.5490, -0.6782, -1.1283],\n",
       "│                   [ 0.0962,  1.2162,  1.6858],\n",
       "│                   [ 1.5490, -0.6782, -1.1283],\n",
       "│                   [ 0.0962,  1.2162,  1.6858],\n",
       "│                   [ 1.5490, -0.6782, -1.1283],\n",
       "│                   [ 0.0962,  1.2162,  1.6858],\n",
       "│                   [ 1.5490, -0.6782, -1.1283],\n",
       "│                   [ 0.0962,  1.2162,  1.6858],\n",
       "│                   [ 1.5490, -0.6782, -1.1283],\n",
       "│                   [ 0.0962,  1.2162,  1.6858],\n",
       "│                   [ 1.5490, -0.6782, -1.1283]])\n",
       "└── 'x' --> <FastTreeValue 0x7f930ccd5190>\n",
       "    └── 'c' --> tensor([[-0.7926,  0.5028, -1.5390,  0.6423],\n",
       "                        [-0.7281,  0.4362,  1.3483,  0.7270],\n",
       "                        [-1.0876, -1.2192,  0.4863, -1.8572],\n",
       "                        [-0.7926,  0.5028, -1.5390,  0.6423],\n",
       "                        [-0.7281,  0.4362,  1.3483,  0.7270],\n",
       "                        [-1.0876, -1.2192,  0.4863, -1.8572],\n",
       "                        [-0.7926,  0.5028, -1.5390,  0.6423],\n",
       "                        [-0.7281,  0.4362,  1.3483,  0.7270],\n",
       "                        [-1.0876, -1.2192,  0.4863, -1.8572],\n",
       "                        [-0.7926,  0.5028, -1.5390,  0.6423],\n",
       "                        [-0.7281,  0.4362,  1.3483,  0.7270],\n",
       "                        [-1.0876, -1.2192,  0.4863, -1.8572],\n",
       "                        [-0.7926,  0.5028, -1.5390,  0.6423],\n",
       "                        [-0.7281,  0.4362,  1.3483,  0.7270],\n",
       "                        [-1.0876, -1.2192,  0.4863, -1.8572],\n",
       "                        [-0.7926,  0.5028, -1.5390,  0.6423],\n",
       "                        [-0.7281,  0.4362,  1.3483,  0.7270],\n",
       "                        [-1.0876, -1.2192,  0.4863, -1.8572],\n",
       "                        [-0.7926,  0.5028, -1.5390,  0.6423],\n",
       "                        [-0.7281,  0.4362,  1.3483,  0.7270],\n",
       "                        [-1.0876, -1.2192,  0.4863, -1.8572],\n",
       "                        [-0.7926,  0.5028, -1.5390,  0.6423],\n",
       "                        [-0.7281,  0.4362,  1.3483,  0.7270],\n",
       "                        [-1.0876, -1.2192,  0.4863, -1.8572]])"
      ]
     },
     "execution_count": 22,
     "metadata": {},
     "output_type": "execute_result"
    }
   ],
   "source": [
    "t_cat = FastTreeValue.func(subside=True)(torch.cat)\n",
    "\n",
    "t_cat(trees)"
   ]
  },
  {
   "cell_type": "code",
   "execution_count": 23,
   "id": "5e9c06a6",
   "metadata": {
    "execution": {
     "iopub.execute_input": "2023-02-23T08:29:31.626297Z",
     "iopub.status.busy": "2023-02-23T08:29:31.625873Z",
     "iopub.status.idle": "2023-02-23T08:29:34.535933Z",
     "shell.execute_reply": "2023-02-23T08:29:34.534989Z"
    }
   },
   "outputs": [
    {
     "name": "stdout",
     "output_type": "stream",
     "text": [
      "35.8 µs ± 69.3 ns per loop (mean ± std. dev. of 7 runs, 10,000 loops each)\n"
     ]
    }
   ],
   "source": [
    "%timeit t_cat(trees)"
   ]
  },
  {
   "cell_type": "code",
   "execution_count": 24,
   "id": "a3ab5c8f",
   "metadata": {
    "execution": {
     "iopub.execute_input": "2023-02-23T08:29:34.539860Z",
     "iopub.status.busy": "2023-02-23T08:29:34.539395Z",
     "iopub.status.idle": "2023-02-23T08:29:39.794731Z",
     "shell.execute_reply": "2023-02-23T08:29:39.793560Z"
    }
   },
   "outputs": [
    {
     "name": "stdout",
     "output_type": "stream",
     "text": [
      "64.6 µs ± 103 ns per loop (mean ± std. dev. of 7 runs, 10,000 loops each)\n"
     ]
    }
   ],
   "source": [
    "t_split = FastTreeValue.func(rise=True)(torch.split)\n",
    "tree = FastTreeValue({\n",
    "    'obs': torch.randn(8, 4, 84, 84),\n",
    "    'action': torch.randint(0, 6, size=(8, 1,)),\n",
    "    'reward': torch.rand(8, 1),\n",
    "})\n",
    "\n",
    "%timeit t_split(tree, 1)"
   ]
  },
  {
   "cell_type": "markdown",
   "id": "31c3ec0b",
   "metadata": {},
   "source": [
    "### Performance of Tianshou Batch"
   ]
  },
  {
   "cell_type": "code",
   "execution_count": 25,
   "id": "9ead828a",
   "metadata": {
    "execution": {
     "iopub.execute_input": "2023-02-23T08:29:39.799022Z",
     "iopub.status.busy": "2023-02-23T08:29:39.798280Z",
     "iopub.status.idle": "2023-02-23T08:29:39.808399Z",
     "shell.execute_reply": "2023-02-23T08:29:39.807673Z"
    }
   },
   "outputs": [
    {
     "data": {
      "text/plain": [
       "Batch(\n",
       "    a: tensor([[[ 0.0962,  1.2162,  1.6858],\n",
       "                [ 1.5490, -0.6782, -1.1283]],\n",
       "       \n",
       "               [[ 0.0962,  1.2162,  1.6858],\n",
       "                [ 1.5490, -0.6782, -1.1283]],\n",
       "       \n",
       "               [[ 0.0962,  1.2162,  1.6858],\n",
       "                [ 1.5490, -0.6782, -1.1283]],\n",
       "       \n",
       "               [[ 0.0962,  1.2162,  1.6858],\n",
       "                [ 1.5490, -0.6782, -1.1283]],\n",
       "       \n",
       "               [[ 0.0962,  1.2162,  1.6858],\n",
       "                [ 1.5490, -0.6782, -1.1283]],\n",
       "       \n",
       "               [[ 0.0962,  1.2162,  1.6858],\n",
       "                [ 1.5490, -0.6782, -1.1283]],\n",
       "       \n",
       "               [[ 0.0962,  1.2162,  1.6858],\n",
       "                [ 1.5490, -0.6782, -1.1283]],\n",
       "       \n",
       "               [[ 0.0962,  1.2162,  1.6858],\n",
       "                [ 1.5490, -0.6782, -1.1283]]]),\n",
       "    x: Batch(\n",
       "           c: tensor([[[-0.7926,  0.5028, -1.5390,  0.6423],\n",
       "                       [-0.7281,  0.4362,  1.3483,  0.7270],\n",
       "                       [-1.0876, -1.2192,  0.4863, -1.8572]],\n",
       "              \n",
       "                      [[-0.7926,  0.5028, -1.5390,  0.6423],\n",
       "                       [-0.7281,  0.4362,  1.3483,  0.7270],\n",
       "                       [-1.0876, -1.2192,  0.4863, -1.8572]],\n",
       "              \n",
       "                      [[-0.7926,  0.5028, -1.5390,  0.6423],\n",
       "                       [-0.7281,  0.4362,  1.3483,  0.7270],\n",
       "                       [-1.0876, -1.2192,  0.4863, -1.8572]],\n",
       "              \n",
       "                      [[-0.7926,  0.5028, -1.5390,  0.6423],\n",
       "                       [-0.7281,  0.4362,  1.3483,  0.7270],\n",
       "                       [-1.0876, -1.2192,  0.4863, -1.8572]],\n",
       "              \n",
       "                      [[-0.7926,  0.5028, -1.5390,  0.6423],\n",
       "                       [-0.7281,  0.4362,  1.3483,  0.7270],\n",
       "                       [-1.0876, -1.2192,  0.4863, -1.8572]],\n",
       "              \n",
       "                      [[-0.7926,  0.5028, -1.5390,  0.6423],\n",
       "                       [-0.7281,  0.4362,  1.3483,  0.7270],\n",
       "                       [-1.0876, -1.2192,  0.4863, -1.8572]],\n",
       "              \n",
       "                      [[-0.7926,  0.5028, -1.5390,  0.6423],\n",
       "                       [-0.7281,  0.4362,  1.3483,  0.7270],\n",
       "                       [-1.0876, -1.2192,  0.4863, -1.8572]],\n",
       "              \n",
       "                      [[-0.7926,  0.5028, -1.5390,  0.6423],\n",
       "                       [-0.7281,  0.4362,  1.3483,  0.7270],\n",
       "                       [-1.0876, -1.2192,  0.4863, -1.8572]]]),\n",
       "       ),\n",
       ")"
      ]
     },
     "execution_count": 25,
     "metadata": {},
     "output_type": "execute_result"
    }
   ],
   "source": [
    "batches = [Batch(**_TREE_DATA_2) for _ in range(8)]\n",
    "\n",
    "Batch.stack(batches)"
   ]
  },
  {
   "cell_type": "code",
   "execution_count": 26,
   "id": "ec9037a3",
   "metadata": {
    "execution": {
     "iopub.execute_input": "2023-02-23T08:29:39.812005Z",
     "iopub.status.busy": "2023-02-23T08:29:39.811287Z",
     "iopub.status.idle": "2023-02-23T08:29:47.328761Z",
     "shell.execute_reply": "2023-02-23T08:29:47.327667Z"
    }
   },
   "outputs": [
    {
     "name": "stdout",
     "output_type": "stream",
     "text": [
      "92.5 µs ± 66.8 ns per loop (mean ± std. dev. of 7 runs, 10,000 loops each)\n"
     ]
    }
   ],
   "source": [
    "%timeit Batch.stack(batches)"
   ]
  },
  {
   "cell_type": "code",
   "execution_count": 27,
   "id": "cb8ab77e",
   "metadata": {
    "execution": {
     "iopub.execute_input": "2023-02-23T08:29:47.332760Z",
     "iopub.status.busy": "2023-02-23T08:29:47.332049Z",
     "iopub.status.idle": "2023-02-23T08:29:47.341266Z",
     "shell.execute_reply": "2023-02-23T08:29:47.340436Z"
    }
   },
   "outputs": [
    {
     "data": {
      "text/plain": [
       "Batch(\n",
       "    a: tensor([[ 0.0962,  1.2162,  1.6858],\n",
       "               [ 1.5490, -0.6782, -1.1283],\n",
       "               [ 0.0962,  1.2162,  1.6858],\n",
       "               [ 1.5490, -0.6782, -1.1283],\n",
       "               [ 0.0962,  1.2162,  1.6858],\n",
       "               [ 1.5490, -0.6782, -1.1283],\n",
       "               [ 0.0962,  1.2162,  1.6858],\n",
       "               [ 1.5490, -0.6782, -1.1283],\n",
       "               [ 0.0962,  1.2162,  1.6858],\n",
       "               [ 1.5490, -0.6782, -1.1283],\n",
       "               [ 0.0962,  1.2162,  1.6858],\n",
       "               [ 1.5490, -0.6782, -1.1283],\n",
       "               [ 0.0962,  1.2162,  1.6858],\n",
       "               [ 1.5490, -0.6782, -1.1283],\n",
       "               [ 0.0962,  1.2162,  1.6858],\n",
       "               [ 1.5490, -0.6782, -1.1283]]),\n",
       "    x: Batch(\n",
       "           c: tensor([[-0.7926,  0.5028, -1.5390,  0.6423],\n",
       "                      [-0.7281,  0.4362,  1.3483,  0.7270],\n",
       "                      [-1.0876, -1.2192,  0.4863, -1.8572],\n",
       "                      [-0.7926,  0.5028, -1.5390,  0.6423],\n",
       "                      [-0.7281,  0.4362,  1.3483,  0.7270],\n",
       "                      [-1.0876, -1.2192,  0.4863, -1.8572],\n",
       "                      [-0.7926,  0.5028, -1.5390,  0.6423],\n",
       "                      [-0.7281,  0.4362,  1.3483,  0.7270],\n",
       "                      [-1.0876, -1.2192,  0.4863, -1.8572],\n",
       "                      [-0.7926,  0.5028, -1.5390,  0.6423],\n",
       "                      [-0.7281,  0.4362,  1.3483,  0.7270],\n",
       "                      [-1.0876, -1.2192,  0.4863, -1.8572],\n",
       "                      [-0.7926,  0.5028, -1.5390,  0.6423],\n",
       "                      [-0.7281,  0.4362,  1.3483,  0.7270],\n",
       "                      [-1.0876, -1.2192,  0.4863, -1.8572],\n",
       "                      [-0.7926,  0.5028, -1.5390,  0.6423],\n",
       "                      [-0.7281,  0.4362,  1.3483,  0.7270],\n",
       "                      [-1.0876, -1.2192,  0.4863, -1.8572],\n",
       "                      [-0.7926,  0.5028, -1.5390,  0.6423],\n",
       "                      [-0.7281,  0.4362,  1.3483,  0.7270],\n",
       "                      [-1.0876, -1.2192,  0.4863, -1.8572],\n",
       "                      [-0.7926,  0.5028, -1.5390,  0.6423],\n",
       "                      [-0.7281,  0.4362,  1.3483,  0.7270],\n",
       "                      [-1.0876, -1.2192,  0.4863, -1.8572]]),\n",
       "       ),\n",
       ")"
      ]
     },
     "execution_count": 27,
     "metadata": {},
     "output_type": "execute_result"
    }
   ],
   "source": [
    "Batch.cat(batches)"
   ]
  },
  {
   "cell_type": "code",
   "execution_count": 28,
   "id": "18dfb045",
   "metadata": {
    "execution": {
     "iopub.execute_input": "2023-02-23T08:29:47.344583Z",
     "iopub.status.busy": "2023-02-23T08:29:47.344305Z",
     "iopub.status.idle": "2023-02-23T08:30:01.023023Z",
     "shell.execute_reply": "2023-02-23T08:30:01.022021Z"
    }
   },
   "outputs": [
    {
     "name": "stdout",
     "output_type": "stream",
     "text": [
      "168 µs ± 225 ns per loop (mean ± std. dev. of 7 runs, 10,000 loops each)\n"
     ]
    }
   ],
   "source": [
    "%timeit Batch.cat(batches)"
   ]
  },
  {
   "cell_type": "code",
   "execution_count": 29,
   "id": "c6688e51",
   "metadata": {
    "execution": {
     "iopub.execute_input": "2023-02-23T08:30:01.027162Z",
     "iopub.status.busy": "2023-02-23T08:30:01.026436Z",
     "iopub.status.idle": "2023-02-23T08:30:04.614007Z",
     "shell.execute_reply": "2023-02-23T08:30:04.613249Z"
    }
   },
   "outputs": [
    {
     "name": "stdout",
     "output_type": "stream",
     "text": [
      "444 µs ± 26.3 µs per loop (mean ± std. dev. of 7 runs, 1,000 loops each)\n"
     ]
    }
   ],
   "source": [
    "batch = Batch({\n",
    "    'obs': torch.randn(8, 4, 84, 84),\n",
    "    'action': torch.randint(0, 6, size=(8, 1,)),\n",
    "    'reward': torch.rand(8, 1)}\n",
    ")\n",
    "\n",
    "%timeit list(Batch.split(batch, 1, shuffle=False, merge_last=True))"
   ]
  },
  {
   "cell_type": "code",
   "execution_count": null,
   "id": "2539fbd9",
   "metadata": {},
   "outputs": [],
   "source": []
  }
 ],
 "metadata": {
  "kernelspec": {
   "display_name": "Python 3 (ipykernel)",
   "language": "python",
   "name": "python3"
  },
  "language_info": {
   "codemirror_mode": {
    "name": "ipython",
    "version": 3
   },
   "file_extension": ".py",
   "mimetype": "text/x-python",
   "name": "python",
   "nbconvert_exporter": "python",
   "pygments_lexer": "ipython3",
   "version": "3.8.16"
  }
 },
 "nbformat": 4,
 "nbformat_minor": 5
}
