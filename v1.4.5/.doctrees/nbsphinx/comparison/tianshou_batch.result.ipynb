{
 "cells": [
  {
   "cell_type": "markdown",
   "id": "9d39d946",
   "metadata": {},
   "source": [
    "# Comparison Between TreeValue and Tianshou Batch"
   ]
  },
  {
   "cell_type": "markdown",
   "id": "3c6db2d4",
   "metadata": {},
   "source": [
    "In this section, we will take a look at the feature and performance of the [Tianshou Batch](https://github.com/thu-ml/tianshou) library, which is developed by Tsinghua Machine Learning Group."
   ]
  },
  {
   "cell_type": "markdown",
   "id": "069361b0",
   "metadata": {},
   "source": [
    "Before starting the comparison, let us define some thing."
   ]
  },
  {
   "cell_type": "code",
   "execution_count": 1,
   "id": "06fc8d26",
   "metadata": {
    "execution": {
     "iopub.execute_input": "2023-04-16T15:19:34.433623Z",
     "iopub.status.busy": "2023-04-16T15:19:34.432981Z",
     "iopub.status.idle": "2023-04-16T15:19:35.842728Z",
     "shell.execute_reply": "2023-04-16T15:19:35.841703Z"
    }
   },
   "outputs": [],
   "source": [
    "import torch \n",
    "\n",
    "_TREE_DATA_1 = {'a': 1, 'b': 2, 'x': {'c': 3, 'd': 4}}\n",
    "_TREE_DATA_2 = {\n",
    "    'a': torch.randn(2, 3), \n",
    "    'x': {\n",
    "        'c': torch.randn(3, 4)\n",
    "    },\n",
    "}\n",
    "_TREE_DATA_3 = {\n",
    "    'obs': torch.randn(4, 84, 84),\n",
    "    'action': torch.randint(0, 6, size=(1,)),\n",
    "    'reward': torch.rand(1),\n",
    "}"
   ]
  },
  {
   "cell_type": "markdown",
   "id": "83461b25",
   "metadata": {},
   "source": [
    "## Read and Write Operation"
   ]
  },
  {
   "cell_type": "markdown",
   "id": "067b3f73",
   "metadata": {},
   "source": [
    "Reading and writing are the two most common operations in the tree data structure based on the data model (TreeValue and Tianshou Batch both belong to this type), so this section will compare the reading and writing performance of these two libraries."
   ]
  },
  {
   "cell_type": "markdown",
   "id": "5d09a5b7",
   "metadata": {},
   "source": [
    "### TreeValue's Get and Set"
   ]
  },
  {
   "cell_type": "code",
   "execution_count": 2,
   "id": "9519c4bb",
   "metadata": {
    "execution": {
     "iopub.execute_input": "2023-04-16T15:19:35.847598Z",
     "iopub.status.busy": "2023-04-16T15:19:35.847066Z",
     "iopub.status.idle": "2023-04-16T15:19:35.876256Z",
     "shell.execute_reply": "2023-04-16T15:19:35.875574Z"
    }
   },
   "outputs": [],
   "source": [
    "from treevalue import FastTreeValue\n",
    "\n",
    "t = FastTreeValue(_TREE_DATA_2)"
   ]
  },
  {
   "cell_type": "code",
   "execution_count": 3,
   "id": "11c37677",
   "metadata": {
    "execution": {
     "iopub.execute_input": "2023-04-16T15:19:35.879927Z",
     "iopub.status.busy": "2023-04-16T15:19:35.879448Z",
     "iopub.status.idle": "2023-04-16T15:19:35.888503Z",
     "shell.execute_reply": "2023-04-16T15:19:35.887812Z"
    }
   },
   "outputs": [
    {
     "data": {
      "text/plain": [
       "<FastTreeValue 0x7f213c9a2c70>\n",
       "├── 'a' --> tensor([[-0.1007,  1.4888, -0.1834],\n",
       "│                   [-1.1105, -1.5042,  0.1515]])\n",
       "└── 'x' --> <FastTreeValue 0x7f2140a91790>\n",
       "    └── 'c' --> tensor([[-0.6514,  0.2834,  0.9189,  0.1129],\n",
       "                        [-2.0834, -0.0438,  1.8263, -0.8225],\n",
       "                        [ 0.8366, -1.6965, -1.3708,  1.6592]])"
      ]
     },
     "execution_count": 3,
     "metadata": {},
     "output_type": "execute_result"
    }
   ],
   "source": [
    "t"
   ]
  },
  {
   "cell_type": "code",
   "execution_count": 4,
   "id": "fd70b0b9",
   "metadata": {
    "execution": {
     "iopub.execute_input": "2023-04-16T15:19:35.892487Z",
     "iopub.status.busy": "2023-04-16T15:19:35.892120Z",
     "iopub.status.idle": "2023-04-16T15:19:35.896780Z",
     "shell.execute_reply": "2023-04-16T15:19:35.896251Z"
    }
   },
   "outputs": [
    {
     "data": {
      "text/plain": [
       "tensor([[-0.1007,  1.4888, -0.1834],\n",
       "        [-1.1105, -1.5042,  0.1515]])"
      ]
     },
     "execution_count": 4,
     "metadata": {},
     "output_type": "execute_result"
    }
   ],
   "source": [
    "t.a"
   ]
  },
  {
   "cell_type": "code",
   "execution_count": 5,
   "id": "c18197bd",
   "metadata": {
    "execution": {
     "iopub.execute_input": "2023-04-16T15:19:35.899847Z",
     "iopub.status.busy": "2023-04-16T15:19:35.899486Z",
     "iopub.status.idle": "2023-04-16T15:19:41.056472Z",
     "shell.execute_reply": "2023-04-16T15:19:41.054617Z"
    }
   },
   "outputs": [
    {
     "name": "stdout",
     "output_type": "stream",
     "text": [
      "63.5 ns ± 0.103 ns per loop (mean ± std. dev. of 7 runs, 10,000,000 loops each)\n"
     ]
    }
   ],
   "source": [
    "%timeit t.a"
   ]
  },
  {
   "cell_type": "code",
   "execution_count": 6,
   "id": "bd52f867",
   "metadata": {
    "execution": {
     "iopub.execute_input": "2023-04-16T15:19:41.060376Z",
     "iopub.status.busy": "2023-04-16T15:19:41.059682Z",
     "iopub.status.idle": "2023-04-16T15:19:41.067664Z",
     "shell.execute_reply": "2023-04-16T15:19:41.067006Z"
    }
   },
   "outputs": [
    {
     "data": {
      "text/plain": [
       "<FastTreeValue 0x7f213c9a2c70>\n",
       "├── 'a' --> tensor([[-1.1484, -0.2408, -0.4860],\n",
       "│                   [-0.3185, -1.5533, -1.9912]])\n",
       "└── 'x' --> <FastTreeValue 0x7f2140a91790>\n",
       "    └── 'c' --> tensor([[-0.6514,  0.2834,  0.9189,  0.1129],\n",
       "                        [-2.0834, -0.0438,  1.8263, -0.8225],\n",
       "                        [ 0.8366, -1.6965, -1.3708,  1.6592]])"
      ]
     },
     "execution_count": 6,
     "metadata": {},
     "output_type": "execute_result"
    }
   ],
   "source": [
    "new_value = torch.randn(2, 3)\n",
    "t.a = new_value\n",
    "\n",
    "t"
   ]
  },
  {
   "cell_type": "code",
   "execution_count": 7,
   "id": "bbe04d1c",
   "metadata": {
    "execution": {
     "iopub.execute_input": "2023-04-16T15:19:41.070924Z",
     "iopub.status.busy": "2023-04-16T15:19:41.070431Z",
     "iopub.status.idle": "2023-04-16T15:19:47.244428Z",
     "shell.execute_reply": "2023-04-16T15:19:47.243671Z"
    }
   },
   "outputs": [
    {
     "name": "stdout",
     "output_type": "stream",
     "text": [
      "76 ns ± 0.143 ns per loop (mean ± std. dev. of 7 runs, 10,000,000 loops each)\n"
     ]
    }
   ],
   "source": [
    "%timeit t.a = new_value"
   ]
  },
  {
   "cell_type": "markdown",
   "id": "48c49731",
   "metadata": {},
   "source": [
    "### Tianshou Batch's Get and Set"
   ]
  },
  {
   "cell_type": "code",
   "execution_count": 8,
   "id": "f1bb14c1",
   "metadata": {
    "execution": {
     "iopub.execute_input": "2023-04-16T15:19:47.248273Z",
     "iopub.status.busy": "2023-04-16T15:19:47.247536Z",
     "iopub.status.idle": "2023-04-16T15:19:47.649686Z",
     "shell.execute_reply": "2023-04-16T15:19:47.648919Z"
    }
   },
   "outputs": [],
   "source": [
    "from tianshou.data import Batch\n",
    "\n",
    "b = Batch(**_TREE_DATA_2)"
   ]
  },
  {
   "cell_type": "code",
   "execution_count": 9,
   "id": "cb0777c3",
   "metadata": {
    "execution": {
     "iopub.execute_input": "2023-04-16T15:19:47.653976Z",
     "iopub.status.busy": "2023-04-16T15:19:47.653427Z",
     "iopub.status.idle": "2023-04-16T15:19:47.659880Z",
     "shell.execute_reply": "2023-04-16T15:19:47.659172Z"
    }
   },
   "outputs": [
    {
     "data": {
      "text/plain": [
       "Batch(\n",
       "    a: tensor([[-0.1007,  1.4888, -0.1834],\n",
       "               [-1.1105, -1.5042,  0.1515]]),\n",
       "    x: Batch(\n",
       "           c: tensor([[-0.6514,  0.2834,  0.9189,  0.1129],\n",
       "                      [-2.0834, -0.0438,  1.8263, -0.8225],\n",
       "                      [ 0.8366, -1.6965, -1.3708,  1.6592]]),\n",
       "       ),\n",
       ")"
      ]
     },
     "execution_count": 9,
     "metadata": {},
     "output_type": "execute_result"
    }
   ],
   "source": [
    "b"
   ]
  },
  {
   "cell_type": "code",
   "execution_count": 10,
   "id": "43ef8ea3",
   "metadata": {
    "execution": {
     "iopub.execute_input": "2023-04-16T15:19:47.662844Z",
     "iopub.status.busy": "2023-04-16T15:19:47.662411Z",
     "iopub.status.idle": "2023-04-16T15:19:47.667376Z",
     "shell.execute_reply": "2023-04-16T15:19:47.666666Z"
    }
   },
   "outputs": [
    {
     "data": {
      "text/plain": [
       "tensor([[-0.1007,  1.4888, -0.1834],\n",
       "        [-1.1105, -1.5042,  0.1515]])"
      ]
     },
     "execution_count": 10,
     "metadata": {},
     "output_type": "execute_result"
    }
   ],
   "source": [
    "b.a"
   ]
  },
  {
   "cell_type": "code",
   "execution_count": 11,
   "id": "b785ab72",
   "metadata": {
    "execution": {
     "iopub.execute_input": "2023-04-16T15:19:47.670548Z",
     "iopub.status.busy": "2023-04-16T15:19:47.670114Z",
     "iopub.status.idle": "2023-04-16T15:19:52.405074Z",
     "shell.execute_reply": "2023-04-16T15:19:52.404315Z"
    }
   },
   "outputs": [
    {
     "name": "stdout",
     "output_type": "stream",
     "text": [
      "58.3 ns ± 0.156 ns per loop (mean ± std. dev. of 7 runs, 10,000,000 loops each)\n"
     ]
    }
   ],
   "source": [
    "%timeit b.a"
   ]
  },
  {
   "cell_type": "code",
   "execution_count": 12,
   "id": "ad54dc69",
   "metadata": {
    "execution": {
     "iopub.execute_input": "2023-04-16T15:19:52.408848Z",
     "iopub.status.busy": "2023-04-16T15:19:52.408106Z",
     "iopub.status.idle": "2023-04-16T15:19:52.414731Z",
     "shell.execute_reply": "2023-04-16T15:19:52.414013Z"
    }
   },
   "outputs": [
    {
     "data": {
      "text/plain": [
       "Batch(\n",
       "    a: tensor([[ 0.7434, -0.5176, -0.2237],\n",
       "               [ 0.2344, -0.2908, -0.9556]]),\n",
       "    x: Batch(\n",
       "           c: tensor([[-0.6514,  0.2834,  0.9189,  0.1129],\n",
       "                      [-2.0834, -0.0438,  1.8263, -0.8225],\n",
       "                      [ 0.8366, -1.6965, -1.3708,  1.6592]]),\n",
       "       ),\n",
       ")"
      ]
     },
     "execution_count": 12,
     "metadata": {},
     "output_type": "execute_result"
    }
   ],
   "source": [
    "new_value = torch.randn(2, 3)\n",
    "b.a = new_value\n",
    "\n",
    "b"
   ]
  },
  {
   "cell_type": "code",
   "execution_count": 13,
   "id": "29b1d0bf",
   "metadata": {
    "execution": {
     "iopub.execute_input": "2023-04-16T15:19:52.417955Z",
     "iopub.status.busy": "2023-04-16T15:19:52.417302Z",
     "iopub.status.idle": "2023-04-16T15:19:56.444387Z",
     "shell.execute_reply": "2023-04-16T15:19:56.443628Z"
    }
   },
   "outputs": [
    {
     "name": "stdout",
     "output_type": "stream",
     "text": [
      "494 ns ± 0.0498 ns per loop (mean ± std. dev. of 7 runs, 1,000,000 loops each)\n"
     ]
    }
   ],
   "source": [
    "%timeit b.a = new_value"
   ]
  },
  {
   "cell_type": "markdown",
   "id": "b61ad1d0",
   "metadata": {},
   "source": [
    "## Initialization"
   ]
  },
  {
   "cell_type": "markdown",
   "id": "d70f0d54",
   "metadata": {},
   "source": [
    "### TreeValue's Initialization"
   ]
  },
  {
   "cell_type": "code",
   "execution_count": 14,
   "id": "d32a679b",
   "metadata": {
    "execution": {
     "iopub.execute_input": "2023-04-16T15:19:56.448347Z",
     "iopub.status.busy": "2023-04-16T15:19:56.447855Z",
     "iopub.status.idle": "2023-04-16T15:20:03.049074Z",
     "shell.execute_reply": "2023-04-16T15:20:03.048332Z"
    }
   },
   "outputs": [
    {
     "name": "stdout",
     "output_type": "stream",
     "text": [
      "813 ns ± 0.184 ns per loop (mean ± std. dev. of 7 runs, 1,000,000 loops each)\n"
     ]
    }
   ],
   "source": [
    "%timeit FastTreeValue(_TREE_DATA_1)"
   ]
  },
  {
   "cell_type": "markdown",
   "id": "24f3707b",
   "metadata": {},
   "source": [
    "### Tianshou Batch's Initialization"
   ]
  },
  {
   "cell_type": "code",
   "execution_count": 15,
   "id": "ac3958df",
   "metadata": {
    "execution": {
     "iopub.execute_input": "2023-04-16T15:20:03.052635Z",
     "iopub.status.busy": "2023-04-16T15:20:03.052068Z",
     "iopub.status.idle": "2023-04-16T15:20:11.795662Z",
     "shell.execute_reply": "2023-04-16T15:20:11.794920Z"
    }
   },
   "outputs": [
    {
     "name": "stdout",
     "output_type": "stream",
     "text": [
      "10.8 µs ± 18.9 ns per loop (mean ± std. dev. of 7 runs, 100,000 loops each)\n"
     ]
    }
   ],
   "source": [
    "%timeit Batch(**_TREE_DATA_1)"
   ]
  },
  {
   "cell_type": "markdown",
   "id": "1ab82e2d",
   "metadata": {},
   "source": [
    "## Deep Copy Operation"
   ]
  },
  {
   "cell_type": "code",
   "execution_count": 16,
   "id": "210a9442",
   "metadata": {
    "execution": {
     "iopub.execute_input": "2023-04-16T15:20:11.799431Z",
     "iopub.status.busy": "2023-04-16T15:20:11.798695Z",
     "iopub.status.idle": "2023-04-16T15:20:11.802403Z",
     "shell.execute_reply": "2023-04-16T15:20:11.801685Z"
    }
   },
   "outputs": [],
   "source": [
    "import copy"
   ]
  },
  {
   "cell_type": "markdown",
   "id": "5a736274",
   "metadata": {},
   "source": [
    "### Deep Copy of TreeValue"
   ]
  },
  {
   "cell_type": "code",
   "execution_count": 17,
   "id": "f9bcadd6",
   "metadata": {
    "execution": {
     "iopub.execute_input": "2023-04-16T15:20:11.805747Z",
     "iopub.status.busy": "2023-04-16T15:20:11.805200Z",
     "iopub.status.idle": "2023-04-16T15:20:23.374336Z",
     "shell.execute_reply": "2023-04-16T15:20:23.373674Z"
    }
   },
   "outputs": [
    {
     "name": "stdout",
     "output_type": "stream",
     "text": [
      "142 µs ± 255 ns per loop (mean ± std. dev. of 7 runs, 10,000 loops each)\n"
     ]
    }
   ],
   "source": [
    "t3 = FastTreeValue(_TREE_DATA_3)\n",
    "%timeit copy.deepcopy(t3)"
   ]
  },
  {
   "cell_type": "markdown",
   "id": "bf8be7ea",
   "metadata": {},
   "source": [
    "### Deep Copy of Tianshou Batch"
   ]
  },
  {
   "cell_type": "code",
   "execution_count": 18,
   "id": "91998e6f",
   "metadata": {
    "execution": {
     "iopub.execute_input": "2023-04-16T15:20:23.378102Z",
     "iopub.status.busy": "2023-04-16T15:20:23.377654Z",
     "iopub.status.idle": "2023-04-16T15:20:34.833056Z",
     "shell.execute_reply": "2023-04-16T15:20:34.832217Z"
    }
   },
   "outputs": [
    {
     "name": "stdout",
     "output_type": "stream",
     "text": [
      "141 µs ± 583 ns per loop (mean ± std. dev. of 7 runs, 10,000 loops each)\n"
     ]
    }
   ],
   "source": [
    "b3 = Batch(**_TREE_DATA_3)\n",
    "%timeit copy.deepcopy(b3)"
   ]
  },
  {
   "cell_type": "markdown",
   "id": "223162fb",
   "metadata": {},
   "source": [
    "## Stack, Concat and Split Operation"
   ]
  },
  {
   "cell_type": "markdown",
   "id": "85fa4a73",
   "metadata": {},
   "source": [
    "### Performance of TreeValue"
   ]
  },
  {
   "cell_type": "code",
   "execution_count": 19,
   "id": "a0c2b697",
   "metadata": {
    "execution": {
     "iopub.execute_input": "2023-04-16T15:20:34.836769Z",
     "iopub.status.busy": "2023-04-16T15:20:34.836250Z",
     "iopub.status.idle": "2023-04-16T15:20:34.840093Z",
     "shell.execute_reply": "2023-04-16T15:20:34.839346Z"
    }
   },
   "outputs": [],
   "source": [
    "trees = [FastTreeValue(_TREE_DATA_2) for _ in range(8)]"
   ]
  },
  {
   "cell_type": "code",
   "execution_count": 20,
   "id": "017ea5a5",
   "metadata": {
    "execution": {
     "iopub.execute_input": "2023-04-16T15:20:34.843553Z",
     "iopub.status.busy": "2023-04-16T15:20:34.842943Z",
     "iopub.status.idle": "2023-04-16T15:20:34.850953Z",
     "shell.execute_reply": "2023-04-16T15:20:34.850224Z"
    }
   },
   "outputs": [
    {
     "data": {
      "text/plain": [
       "<FastTreeValue 0x7f213c964040>\n",
       "├── 'a' --> tensor([[[-0.1007,  1.4888, -0.1834],\n",
       "│                    [-1.1105, -1.5042,  0.1515]],\n",
       "│           \n",
       "│                   [[-0.1007,  1.4888, -0.1834],\n",
       "│                    [-1.1105, -1.5042,  0.1515]],\n",
       "│           \n",
       "│                   [[-0.1007,  1.4888, -0.1834],\n",
       "│                    [-1.1105, -1.5042,  0.1515]],\n",
       "│           \n",
       "│                   [[-0.1007,  1.4888, -0.1834],\n",
       "│                    [-1.1105, -1.5042,  0.1515]],\n",
       "│           \n",
       "│                   [[-0.1007,  1.4888, -0.1834],\n",
       "│                    [-1.1105, -1.5042,  0.1515]],\n",
       "│           \n",
       "│                   [[-0.1007,  1.4888, -0.1834],\n",
       "│                    [-1.1105, -1.5042,  0.1515]],\n",
       "│           \n",
       "│                   [[-0.1007,  1.4888, -0.1834],\n",
       "│                    [-1.1105, -1.5042,  0.1515]],\n",
       "│           \n",
       "│                   [[-0.1007,  1.4888, -0.1834],\n",
       "│                    [-1.1105, -1.5042,  0.1515]]])\n",
       "└── 'x' --> <FastTreeValue 0x7f207a85daf0>\n",
       "    └── 'c' --> tensor([[[-0.6514,  0.2834,  0.9189,  0.1129],\n",
       "                         [-2.0834, -0.0438,  1.8263, -0.8225],\n",
       "                         [ 0.8366, -1.6965, -1.3708,  1.6592]],\n",
       "                \n",
       "                        [[-0.6514,  0.2834,  0.9189,  0.1129],\n",
       "                         [-2.0834, -0.0438,  1.8263, -0.8225],\n",
       "                         [ 0.8366, -1.6965, -1.3708,  1.6592]],\n",
       "                \n",
       "                        [[-0.6514,  0.2834,  0.9189,  0.1129],\n",
       "                         [-2.0834, -0.0438,  1.8263, -0.8225],\n",
       "                         [ 0.8366, -1.6965, -1.3708,  1.6592]],\n",
       "                \n",
       "                        [[-0.6514,  0.2834,  0.9189,  0.1129],\n",
       "                         [-2.0834, -0.0438,  1.8263, -0.8225],\n",
       "                         [ 0.8366, -1.6965, -1.3708,  1.6592]],\n",
       "                \n",
       "                        [[-0.6514,  0.2834,  0.9189,  0.1129],\n",
       "                         [-2.0834, -0.0438,  1.8263, -0.8225],\n",
       "                         [ 0.8366, -1.6965, -1.3708,  1.6592]],\n",
       "                \n",
       "                        [[-0.6514,  0.2834,  0.9189,  0.1129],\n",
       "                         [-2.0834, -0.0438,  1.8263, -0.8225],\n",
       "                         [ 0.8366, -1.6965, -1.3708,  1.6592]],\n",
       "                \n",
       "                        [[-0.6514,  0.2834,  0.9189,  0.1129],\n",
       "                         [-2.0834, -0.0438,  1.8263, -0.8225],\n",
       "                         [ 0.8366, -1.6965, -1.3708,  1.6592]],\n",
       "                \n",
       "                        [[-0.6514,  0.2834,  0.9189,  0.1129],\n",
       "                         [-2.0834, -0.0438,  1.8263, -0.8225],\n",
       "                         [ 0.8366, -1.6965, -1.3708,  1.6592]]])"
      ]
     },
     "execution_count": 20,
     "metadata": {},
     "output_type": "execute_result"
    }
   ],
   "source": [
    "t_stack = FastTreeValue.func(subside=True)(torch.stack)\n",
    "\n",
    "t_stack(trees)"
   ]
  },
  {
   "cell_type": "code",
   "execution_count": 21,
   "id": "f8b3f415",
   "metadata": {
    "execution": {
     "iopub.execute_input": "2023-04-16T15:20:34.854143Z",
     "iopub.status.busy": "2023-04-16T15:20:34.853483Z",
     "iopub.status.idle": "2023-04-16T15:20:37.523962Z",
     "shell.execute_reply": "2023-04-16T15:20:37.523220Z"
    }
   },
   "outputs": [
    {
     "name": "stdout",
     "output_type": "stream",
     "text": [
      "32.8 µs ± 70.5 ns per loop (mean ± std. dev. of 7 runs, 10,000 loops each)\n"
     ]
    }
   ],
   "source": [
    "%timeit t_stack(trees)"
   ]
  },
  {
   "cell_type": "code",
   "execution_count": 22,
   "id": "94b56771",
   "metadata": {
    "execution": {
     "iopub.execute_input": "2023-04-16T15:20:37.527694Z",
     "iopub.status.busy": "2023-04-16T15:20:37.527066Z",
     "iopub.status.idle": "2023-04-16T15:20:37.536046Z",
     "shell.execute_reply": "2023-04-16T15:20:37.535333Z"
    }
   },
   "outputs": [
    {
     "data": {
      "text/plain": [
       "<FastTreeValue 0x7f2071fa0640>\n",
       "├── 'a' --> tensor([[-0.1007,  1.4888, -0.1834],\n",
       "│                   [-1.1105, -1.5042,  0.1515],\n",
       "│                   [-0.1007,  1.4888, -0.1834],\n",
       "│                   [-1.1105, -1.5042,  0.1515],\n",
       "│                   [-0.1007,  1.4888, -0.1834],\n",
       "│                   [-1.1105, -1.5042,  0.1515],\n",
       "│                   [-0.1007,  1.4888, -0.1834],\n",
       "│                   [-1.1105, -1.5042,  0.1515],\n",
       "│                   [-0.1007,  1.4888, -0.1834],\n",
       "│                   [-1.1105, -1.5042,  0.1515],\n",
       "│                   [-0.1007,  1.4888, -0.1834],\n",
       "│                   [-1.1105, -1.5042,  0.1515],\n",
       "│                   [-0.1007,  1.4888, -0.1834],\n",
       "│                   [-1.1105, -1.5042,  0.1515],\n",
       "│                   [-0.1007,  1.4888, -0.1834],\n",
       "│                   [-1.1105, -1.5042,  0.1515]])\n",
       "└── 'x' --> <FastTreeValue 0x7f2071fa0280>\n",
       "    └── 'c' --> tensor([[-0.6514,  0.2834,  0.9189,  0.1129],\n",
       "                        [-2.0834, -0.0438,  1.8263, -0.8225],\n",
       "                        [ 0.8366, -1.6965, -1.3708,  1.6592],\n",
       "                        [-0.6514,  0.2834,  0.9189,  0.1129],\n",
       "                        [-2.0834, -0.0438,  1.8263, -0.8225],\n",
       "                        [ 0.8366, -1.6965, -1.3708,  1.6592],\n",
       "                        [-0.6514,  0.2834,  0.9189,  0.1129],\n",
       "                        [-2.0834, -0.0438,  1.8263, -0.8225],\n",
       "                        [ 0.8366, -1.6965, -1.3708,  1.6592],\n",
       "                        [-0.6514,  0.2834,  0.9189,  0.1129],\n",
       "                        [-2.0834, -0.0438,  1.8263, -0.8225],\n",
       "                        [ 0.8366, -1.6965, -1.3708,  1.6592],\n",
       "                        [-0.6514,  0.2834,  0.9189,  0.1129],\n",
       "                        [-2.0834, -0.0438,  1.8263, -0.8225],\n",
       "                        [ 0.8366, -1.6965, -1.3708,  1.6592],\n",
       "                        [-0.6514,  0.2834,  0.9189,  0.1129],\n",
       "                        [-2.0834, -0.0438,  1.8263, -0.8225],\n",
       "                        [ 0.8366, -1.6965, -1.3708,  1.6592],\n",
       "                        [-0.6514,  0.2834,  0.9189,  0.1129],\n",
       "                        [-2.0834, -0.0438,  1.8263, -0.8225],\n",
       "                        [ 0.8366, -1.6965, -1.3708,  1.6592],\n",
       "                        [-0.6514,  0.2834,  0.9189,  0.1129],\n",
       "                        [-2.0834, -0.0438,  1.8263, -0.8225],\n",
       "                        [ 0.8366, -1.6965, -1.3708,  1.6592]])"
      ]
     },
     "execution_count": 22,
     "metadata": {},
     "output_type": "execute_result"
    }
   ],
   "source": [
    "t_cat = FastTreeValue.func(subside=True)(torch.cat)\n",
    "\n",
    "t_cat(trees)"
   ]
  },
  {
   "cell_type": "code",
   "execution_count": 23,
   "id": "5e9c06a6",
   "metadata": {
    "execution": {
     "iopub.execute_input": "2023-04-16T15:20:37.539119Z",
     "iopub.status.busy": "2023-04-16T15:20:37.538729Z",
     "iopub.status.idle": "2023-04-16T15:20:40.019675Z",
     "shell.execute_reply": "2023-04-16T15:20:40.018917Z"
    }
   },
   "outputs": [
    {
     "name": "stdout",
     "output_type": "stream",
     "text": [
      "30.5 µs ± 108 ns per loop (mean ± std. dev. of 7 runs, 10,000 loops each)\n"
     ]
    }
   ],
   "source": [
    "%timeit t_cat(trees)"
   ]
  },
  {
   "cell_type": "code",
   "execution_count": 24,
   "id": "a3ab5c8f",
   "metadata": {
    "execution": {
     "iopub.execute_input": "2023-04-16T15:20:40.023233Z",
     "iopub.status.busy": "2023-04-16T15:20:40.022690Z",
     "iopub.status.idle": "2023-04-16T15:20:45.293373Z",
     "shell.execute_reply": "2023-04-16T15:20:45.292596Z"
    }
   },
   "outputs": [
    {
     "name": "stdout",
     "output_type": "stream",
     "text": [
      "64.8 µs ± 79.5 ns per loop (mean ± std. dev. of 7 runs, 10,000 loops each)\n"
     ]
    }
   ],
   "source": [
    "t_split = FastTreeValue.func(rise=True)(torch.split)\n",
    "tree = FastTreeValue({\n",
    "    'obs': torch.randn(8, 4, 84, 84),\n",
    "    'action': torch.randint(0, 6, size=(8, 1,)),\n",
    "    'reward': torch.rand(8, 1),\n",
    "})\n",
    "\n",
    "%timeit t_split(tree, 1)"
   ]
  },
  {
   "cell_type": "markdown",
   "id": "31c3ec0b",
   "metadata": {},
   "source": [
    "### Performance of Tianshou Batch"
   ]
  },
  {
   "cell_type": "code",
   "execution_count": 25,
   "id": "9ead828a",
   "metadata": {
    "execution": {
     "iopub.execute_input": "2023-04-16T15:20:45.297036Z",
     "iopub.status.busy": "2023-04-16T15:20:45.296504Z",
     "iopub.status.idle": "2023-04-16T15:20:45.304973Z",
     "shell.execute_reply": "2023-04-16T15:20:45.304237Z"
    }
   },
   "outputs": [
    {
     "data": {
      "text/plain": [
       "Batch(\n",
       "    x: Batch(\n",
       "           c: tensor([[[-0.6514,  0.2834,  0.9189,  0.1129],\n",
       "                       [-2.0834, -0.0438,  1.8263, -0.8225],\n",
       "                       [ 0.8366, -1.6965, -1.3708,  1.6592]],\n",
       "              \n",
       "                      [[-0.6514,  0.2834,  0.9189,  0.1129],\n",
       "                       [-2.0834, -0.0438,  1.8263, -0.8225],\n",
       "                       [ 0.8366, -1.6965, -1.3708,  1.6592]],\n",
       "              \n",
       "                      [[-0.6514,  0.2834,  0.9189,  0.1129],\n",
       "                       [-2.0834, -0.0438,  1.8263, -0.8225],\n",
       "                       [ 0.8366, -1.6965, -1.3708,  1.6592]],\n",
       "              \n",
       "                      [[-0.6514,  0.2834,  0.9189,  0.1129],\n",
       "                       [-2.0834, -0.0438,  1.8263, -0.8225],\n",
       "                       [ 0.8366, -1.6965, -1.3708,  1.6592]],\n",
       "              \n",
       "                      [[-0.6514,  0.2834,  0.9189,  0.1129],\n",
       "                       [-2.0834, -0.0438,  1.8263, -0.8225],\n",
       "                       [ 0.8366, -1.6965, -1.3708,  1.6592]],\n",
       "              \n",
       "                      [[-0.6514,  0.2834,  0.9189,  0.1129],\n",
       "                       [-2.0834, -0.0438,  1.8263, -0.8225],\n",
       "                       [ 0.8366, -1.6965, -1.3708,  1.6592]],\n",
       "              \n",
       "                      [[-0.6514,  0.2834,  0.9189,  0.1129],\n",
       "                       [-2.0834, -0.0438,  1.8263, -0.8225],\n",
       "                       [ 0.8366, -1.6965, -1.3708,  1.6592]],\n",
       "              \n",
       "                      [[-0.6514,  0.2834,  0.9189,  0.1129],\n",
       "                       [-2.0834, -0.0438,  1.8263, -0.8225],\n",
       "                       [ 0.8366, -1.6965, -1.3708,  1.6592]]]),\n",
       "       ),\n",
       "    a: tensor([[[-0.1007,  1.4888, -0.1834],\n",
       "                [-1.1105, -1.5042,  0.1515]],\n",
       "       \n",
       "               [[-0.1007,  1.4888, -0.1834],\n",
       "                [-1.1105, -1.5042,  0.1515]],\n",
       "       \n",
       "               [[-0.1007,  1.4888, -0.1834],\n",
       "                [-1.1105, -1.5042,  0.1515]],\n",
       "       \n",
       "               [[-0.1007,  1.4888, -0.1834],\n",
       "                [-1.1105, -1.5042,  0.1515]],\n",
       "       \n",
       "               [[-0.1007,  1.4888, -0.1834],\n",
       "                [-1.1105, -1.5042,  0.1515]],\n",
       "       \n",
       "               [[-0.1007,  1.4888, -0.1834],\n",
       "                [-1.1105, -1.5042,  0.1515]],\n",
       "       \n",
       "               [[-0.1007,  1.4888, -0.1834],\n",
       "                [-1.1105, -1.5042,  0.1515]],\n",
       "       \n",
       "               [[-0.1007,  1.4888, -0.1834],\n",
       "                [-1.1105, -1.5042,  0.1515]]]),\n",
       ")"
      ]
     },
     "execution_count": 25,
     "metadata": {},
     "output_type": "execute_result"
    }
   ],
   "source": [
    "batches = [Batch(**_TREE_DATA_2) for _ in range(8)]\n",
    "\n",
    "Batch.stack(batches)"
   ]
  },
  {
   "cell_type": "code",
   "execution_count": 26,
   "id": "ec9037a3",
   "metadata": {
    "execution": {
     "iopub.execute_input": "2023-04-16T15:20:45.308060Z",
     "iopub.status.busy": "2023-04-16T15:20:45.307673Z",
     "iopub.status.idle": "2023-04-16T15:20:51.718382Z",
     "shell.execute_reply": "2023-04-16T15:20:51.717628Z"
    }
   },
   "outputs": [
    {
     "name": "stdout",
     "output_type": "stream",
     "text": [
      "78.9 µs ± 142 ns per loop (mean ± std. dev. of 7 runs, 10,000 loops each)\n"
     ]
    }
   ],
   "source": [
    "%timeit Batch.stack(batches)"
   ]
  },
  {
   "cell_type": "code",
   "execution_count": 27,
   "id": "cb8ab77e",
   "metadata": {
    "execution": {
     "iopub.execute_input": "2023-04-16T15:20:51.721993Z",
     "iopub.status.busy": "2023-04-16T15:20:51.721296Z",
     "iopub.status.idle": "2023-04-16T15:20:51.729122Z",
     "shell.execute_reply": "2023-04-16T15:20:51.728400Z"
    }
   },
   "outputs": [
    {
     "data": {
      "text/plain": [
       "Batch(\n",
       "    x: Batch(\n",
       "           c: tensor([[-0.6514,  0.2834,  0.9189,  0.1129],\n",
       "                      [-2.0834, -0.0438,  1.8263, -0.8225],\n",
       "                      [ 0.8366, -1.6965, -1.3708,  1.6592],\n",
       "                      [-0.6514,  0.2834,  0.9189,  0.1129],\n",
       "                      [-2.0834, -0.0438,  1.8263, -0.8225],\n",
       "                      [ 0.8366, -1.6965, -1.3708,  1.6592],\n",
       "                      [-0.6514,  0.2834,  0.9189,  0.1129],\n",
       "                      [-2.0834, -0.0438,  1.8263, -0.8225],\n",
       "                      [ 0.8366, -1.6965, -1.3708,  1.6592],\n",
       "                      [-0.6514,  0.2834,  0.9189,  0.1129],\n",
       "                      [-2.0834, -0.0438,  1.8263, -0.8225],\n",
       "                      [ 0.8366, -1.6965, -1.3708,  1.6592],\n",
       "                      [-0.6514,  0.2834,  0.9189,  0.1129],\n",
       "                      [-2.0834, -0.0438,  1.8263, -0.8225],\n",
       "                      [ 0.8366, -1.6965, -1.3708,  1.6592],\n",
       "                      [-0.6514,  0.2834,  0.9189,  0.1129],\n",
       "                      [-2.0834, -0.0438,  1.8263, -0.8225],\n",
       "                      [ 0.8366, -1.6965, -1.3708,  1.6592],\n",
       "                      [-0.6514,  0.2834,  0.9189,  0.1129],\n",
       "                      [-2.0834, -0.0438,  1.8263, -0.8225],\n",
       "                      [ 0.8366, -1.6965, -1.3708,  1.6592],\n",
       "                      [-0.6514,  0.2834,  0.9189,  0.1129],\n",
       "                      [-2.0834, -0.0438,  1.8263, -0.8225],\n",
       "                      [ 0.8366, -1.6965, -1.3708,  1.6592]]),\n",
       "       ),\n",
       "    a: tensor([[-0.1007,  1.4888, -0.1834],\n",
       "               [-1.1105, -1.5042,  0.1515],\n",
       "               [-0.1007,  1.4888, -0.1834],\n",
       "               [-1.1105, -1.5042,  0.1515],\n",
       "               [-0.1007,  1.4888, -0.1834],\n",
       "               [-1.1105, -1.5042,  0.1515],\n",
       "               [-0.1007,  1.4888, -0.1834],\n",
       "               [-1.1105, -1.5042,  0.1515],\n",
       "               [-0.1007,  1.4888, -0.1834],\n",
       "               [-1.1105, -1.5042,  0.1515],\n",
       "               [-0.1007,  1.4888, -0.1834],\n",
       "               [-1.1105, -1.5042,  0.1515],\n",
       "               [-0.1007,  1.4888, -0.1834],\n",
       "               [-1.1105, -1.5042,  0.1515],\n",
       "               [-0.1007,  1.4888, -0.1834],\n",
       "               [-1.1105, -1.5042,  0.1515]]),\n",
       ")"
      ]
     },
     "execution_count": 27,
     "metadata": {},
     "output_type": "execute_result"
    }
   ],
   "source": [
    "Batch.cat(batches)"
   ]
  },
  {
   "cell_type": "code",
   "execution_count": 28,
   "id": "18dfb045",
   "metadata": {
    "execution": {
     "iopub.execute_input": "2023-04-16T15:20:51.732579Z",
     "iopub.status.busy": "2023-04-16T15:20:51.732019Z",
     "iopub.status.idle": "2023-04-16T15:21:03.724437Z",
     "shell.execute_reply": "2023-04-16T15:21:03.723529Z"
    }
   },
   "outputs": [
    {
     "name": "stdout",
     "output_type": "stream",
     "text": [
      "148 µs ± 221 ns per loop (mean ± std. dev. of 7 runs, 10,000 loops each)\n"
     ]
    }
   ],
   "source": [
    "%timeit Batch.cat(batches)"
   ]
  },
  {
   "cell_type": "code",
   "execution_count": 29,
   "id": "c6688e51",
   "metadata": {
    "execution": {
     "iopub.execute_input": "2023-04-16T15:21:03.728342Z",
     "iopub.status.busy": "2023-04-16T15:21:03.727899Z",
     "iopub.status.idle": "2023-04-16T15:21:06.483080Z",
     "shell.execute_reply": "2023-04-16T15:21:06.482310Z"
    }
   },
   "outputs": [
    {
     "name": "stdout",
     "output_type": "stream",
     "text": [
      "338 µs ± 2.25 µs per loop (mean ± std. dev. of 7 runs, 1,000 loops each)\n"
     ]
    }
   ],
   "source": [
    "batch = Batch({\n",
    "    'obs': torch.randn(8, 4, 84, 84),\n",
    "    'action': torch.randint(0, 6, size=(8, 1,)),\n",
    "    'reward': torch.rand(8, 1)}\n",
    ")\n",
    "\n",
    "%timeit list(Batch.split(batch, 1, shuffle=False, merge_last=True))"
   ]
  },
  {
   "cell_type": "code",
   "execution_count": null,
   "id": "2539fbd9",
   "metadata": {},
   "outputs": [],
   "source": []
  }
 ],
 "metadata": {
  "kernelspec": {
   "display_name": "Python 3 (ipykernel)",
   "language": "python",
   "name": "python3"
  },
  "language_info": {
   "codemirror_mode": {
    "name": "ipython",
    "version": 3
   },
   "file_extension": ".py",
   "mimetype": "text/x-python",
   "name": "python",
   "nbconvert_exporter": "python",
   "pygments_lexer": "ipython3",
   "version": "3.8.16"
  }
 },
 "nbformat": 4,
 "nbformat_minor": 5
}
