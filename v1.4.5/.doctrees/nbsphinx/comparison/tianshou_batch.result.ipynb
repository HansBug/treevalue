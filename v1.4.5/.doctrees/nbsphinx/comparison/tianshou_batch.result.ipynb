{
 "cells": [
  {
   "cell_type": "markdown",
   "id": "9d39d946",
   "metadata": {},
   "source": [
    "# Comparison Between TreeValue and Tianshou Batch"
   ]
  },
  {
   "cell_type": "markdown",
   "id": "3c6db2d4",
   "metadata": {},
   "source": [
    "In this section, we will take a look at the feature and performance of the [Tianshou Batch](https://github.com/thu-ml/tianshou) library, which is developed by Tsinghua Machine Learning Group."
   ]
  },
  {
   "cell_type": "markdown",
   "id": "069361b0",
   "metadata": {},
   "source": [
    "Before starting the comparison, let us define some thing."
   ]
  },
  {
   "cell_type": "code",
   "execution_count": 1,
   "id": "06fc8d26",
   "metadata": {
    "execution": {
     "iopub.execute_input": "2023-02-27T08:10:22.402964Z",
     "iopub.status.busy": "2023-02-27T08:10:22.402648Z",
     "iopub.status.idle": "2023-02-27T08:10:23.921083Z",
     "shell.execute_reply": "2023-02-27T08:10:23.919947Z"
    }
   },
   "outputs": [
    {
     "name": "stderr",
     "output_type": "stream",
     "text": [
      "/opt/hostedtoolcache/Python/3.8.16/x64/lib/python3.8/site-packages/tqdm/auto.py:22: TqdmWarning: IProgress not found. Please update jupyter and ipywidgets. See https://ipywidgets.readthedocs.io/en/stable/user_install.html\n",
      "  from .autonotebook import tqdm as notebook_tqdm\n"
     ]
    }
   ],
   "source": [
    "import torch \n",
    "\n",
    "_TREE_DATA_1 = {'a': 1, 'b': 2, 'x': {'c': 3, 'd': 4}}\n",
    "_TREE_DATA_2 = {\n",
    "    'a': torch.randn(2, 3), \n",
    "    'x': {\n",
    "        'c': torch.randn(3, 4)\n",
    "    },\n",
    "}\n",
    "_TREE_DATA_3 = {\n",
    "    'obs': torch.randn(4, 84, 84),\n",
    "    'action': torch.randint(0, 6, size=(1,)),\n",
    "    'reward': torch.rand(1),\n",
    "}"
   ]
  },
  {
   "cell_type": "markdown",
   "id": "83461b25",
   "metadata": {},
   "source": [
    "## Read and Write Operation"
   ]
  },
  {
   "cell_type": "markdown",
   "id": "067b3f73",
   "metadata": {},
   "source": [
    "Reading and writing are the two most common operations in the tree data structure based on the data model (TreeValue and Tianshou Batch both belong to this type), so this section will compare the reading and writing performance of these two libraries."
   ]
  },
  {
   "cell_type": "markdown",
   "id": "5d09a5b7",
   "metadata": {},
   "source": [
    "### TreeValue's Get and Set"
   ]
  },
  {
   "cell_type": "code",
   "execution_count": 2,
   "id": "9519c4bb",
   "metadata": {
    "execution": {
     "iopub.execute_input": "2023-02-27T08:10:23.925835Z",
     "iopub.status.busy": "2023-02-27T08:10:23.925416Z",
     "iopub.status.idle": "2023-02-27T08:10:23.976906Z",
     "shell.execute_reply": "2023-02-27T08:10:23.975668Z"
    }
   },
   "outputs": [],
   "source": [
    "from treevalue import FastTreeValue\n",
    "\n",
    "t = FastTreeValue(_TREE_DATA_2)"
   ]
  },
  {
   "cell_type": "code",
   "execution_count": 3,
   "id": "11c37677",
   "metadata": {
    "execution": {
     "iopub.execute_input": "2023-02-27T08:10:23.982607Z",
     "iopub.status.busy": "2023-02-27T08:10:23.982140Z",
     "iopub.status.idle": "2023-02-27T08:10:23.999238Z",
     "shell.execute_reply": "2023-02-27T08:10:23.997985Z"
    }
   },
   "outputs": [
    {
     "data": {
      "text/plain": [
       "<FastTreeValue 0x7f2f301a0dc0>\n",
       "├── 'a' --> tensor([[ 1.7465,  1.4108, -0.5674],\n",
       "│                   [ 0.1525,  0.6671, -1.4880]])\n",
       "└── 'x' --> <FastTreeValue 0x7f2f301a0fd0>\n",
       "    └── 'c' --> tensor([[ 1.4667, -0.7995, -0.8379,  0.3497],\n",
       "                        [-1.4732,  1.7046, -0.2569,  0.6856],\n",
       "                        [ 0.4399, -1.3090,  1.2203,  0.5383]])"
      ]
     },
     "execution_count": 3,
     "metadata": {},
     "output_type": "execute_result"
    }
   ],
   "source": [
    "t"
   ]
  },
  {
   "cell_type": "code",
   "execution_count": 4,
   "id": "fd70b0b9",
   "metadata": {
    "execution": {
     "iopub.execute_input": "2023-02-27T08:10:24.004471Z",
     "iopub.status.busy": "2023-02-27T08:10:24.004070Z",
     "iopub.status.idle": "2023-02-27T08:10:24.016156Z",
     "shell.execute_reply": "2023-02-27T08:10:24.014492Z"
    }
   },
   "outputs": [
    {
     "data": {
      "text/plain": [
       "tensor([[ 1.7465,  1.4108, -0.5674],\n",
       "        [ 0.1525,  0.6671, -1.4880]])"
      ]
     },
     "execution_count": 4,
     "metadata": {},
     "output_type": "execute_result"
    }
   ],
   "source": [
    "t.a"
   ]
  },
  {
   "cell_type": "code",
   "execution_count": 5,
   "id": "c18197bd",
   "metadata": {
    "execution": {
     "iopub.execute_input": "2023-02-27T08:10:24.021813Z",
     "iopub.status.busy": "2023-02-27T08:10:24.020984Z",
     "iopub.status.idle": "2023-02-27T08:10:30.389210Z",
     "shell.execute_reply": "2023-02-27T08:10:30.388045Z"
    }
   },
   "outputs": [
    {
     "name": "stdout",
     "output_type": "stream",
     "text": [
      "78.3 ns ± 0.566 ns per loop (mean ± std. dev. of 7 runs, 10,000,000 loops each)\n"
     ]
    }
   ],
   "source": [
    "%timeit t.a"
   ]
  },
  {
   "cell_type": "code",
   "execution_count": 6,
   "id": "bd52f867",
   "metadata": {
    "execution": {
     "iopub.execute_input": "2023-02-27T08:10:30.393837Z",
     "iopub.status.busy": "2023-02-27T08:10:30.392950Z",
     "iopub.status.idle": "2023-02-27T08:10:30.402590Z",
     "shell.execute_reply": "2023-02-27T08:10:30.401646Z"
    }
   },
   "outputs": [
    {
     "data": {
      "text/plain": [
       "<FastTreeValue 0x7f2f301a0dc0>\n",
       "├── 'a' --> tensor([[-0.3370,  0.0364,  0.7381],\n",
       "│                   [ 0.3024, -1.5486,  0.6221]])\n",
       "└── 'x' --> <FastTreeValue 0x7f2f301a0fd0>\n",
       "    └── 'c' --> tensor([[ 1.4667, -0.7995, -0.8379,  0.3497],\n",
       "                        [-1.4732,  1.7046, -0.2569,  0.6856],\n",
       "                        [ 0.4399, -1.3090,  1.2203,  0.5383]])"
      ]
     },
     "execution_count": 6,
     "metadata": {},
     "output_type": "execute_result"
    }
   ],
   "source": [
    "new_value = torch.randn(2, 3)\n",
    "t.a = new_value\n",
    "\n",
    "t"
   ]
  },
  {
   "cell_type": "code",
   "execution_count": 7,
   "id": "bbe04d1c",
   "metadata": {
    "execution": {
     "iopub.execute_input": "2023-02-27T08:10:30.406624Z",
     "iopub.status.busy": "2023-02-27T08:10:30.406074Z",
     "iopub.status.idle": "2023-02-27T08:10:36.795925Z",
     "shell.execute_reply": "2023-02-27T08:10:36.794832Z"
    }
   },
   "outputs": [
    {
     "name": "stdout",
     "output_type": "stream",
     "text": [
      "78.4 ns ± 0.521 ns per loop (mean ± std. dev. of 7 runs, 10,000,000 loops each)\n"
     ]
    }
   ],
   "source": [
    "%timeit t.a = new_value"
   ]
  },
  {
   "cell_type": "markdown",
   "id": "48c49731",
   "metadata": {},
   "source": [
    "### Tianshou Batch's Get and Set"
   ]
  },
  {
   "cell_type": "code",
   "execution_count": 8,
   "id": "f1bb14c1",
   "metadata": {
    "execution": {
     "iopub.execute_input": "2023-02-27T08:10:36.800090Z",
     "iopub.status.busy": "2023-02-27T08:10:36.799729Z",
     "iopub.status.idle": "2023-02-27T08:10:37.325041Z",
     "shell.execute_reply": "2023-02-27T08:10:37.323873Z"
    }
   },
   "outputs": [],
   "source": [
    "from tianshou.data import Batch\n",
    "\n",
    "b = Batch(**_TREE_DATA_2)"
   ]
  },
  {
   "cell_type": "code",
   "execution_count": 9,
   "id": "cb0777c3",
   "metadata": {
    "execution": {
     "iopub.execute_input": "2023-02-27T08:10:37.329642Z",
     "iopub.status.busy": "2023-02-27T08:10:37.329106Z",
     "iopub.status.idle": "2023-02-27T08:10:37.338431Z",
     "shell.execute_reply": "2023-02-27T08:10:37.337450Z"
    }
   },
   "outputs": [
    {
     "data": {
      "text/plain": [
       "Batch(\n",
       "    a: tensor([[ 1.7465,  1.4108, -0.5674],\n",
       "               [ 0.1525,  0.6671, -1.4880]]),\n",
       "    x: Batch(\n",
       "           c: tensor([[ 1.4667, -0.7995, -0.8379,  0.3497],\n",
       "                      [-1.4732,  1.7046, -0.2569,  0.6856],\n",
       "                      [ 0.4399, -1.3090,  1.2203,  0.5383]]),\n",
       "       ),\n",
       ")"
      ]
     },
     "execution_count": 9,
     "metadata": {},
     "output_type": "execute_result"
    }
   ],
   "source": [
    "b"
   ]
  },
  {
   "cell_type": "code",
   "execution_count": 10,
   "id": "43ef8ea3",
   "metadata": {
    "execution": {
     "iopub.execute_input": "2023-02-27T08:10:37.343137Z",
     "iopub.status.busy": "2023-02-27T08:10:37.342386Z",
     "iopub.status.idle": "2023-02-27T08:10:37.352816Z",
     "shell.execute_reply": "2023-02-27T08:10:37.351846Z"
    }
   },
   "outputs": [
    {
     "data": {
      "text/plain": [
       "tensor([[ 1.7465,  1.4108, -0.5674],\n",
       "        [ 0.1525,  0.6671, -1.4880]])"
      ]
     },
     "execution_count": 10,
     "metadata": {},
     "output_type": "execute_result"
    }
   ],
   "source": [
    "b.a"
   ]
  },
  {
   "cell_type": "code",
   "execution_count": 11,
   "id": "b785ab72",
   "metadata": {
    "execution": {
     "iopub.execute_input": "2023-02-27T08:10:37.357510Z",
     "iopub.status.busy": "2023-02-27T08:10:37.356865Z",
     "iopub.status.idle": "2023-02-27T08:10:43.155529Z",
     "shell.execute_reply": "2023-02-27T08:10:43.154423Z"
    }
   },
   "outputs": [
    {
     "name": "stdout",
     "output_type": "stream",
     "text": [
      "71.4 ns ± 0.957 ns per loop (mean ± std. dev. of 7 runs, 10,000,000 loops each)\n"
     ]
    }
   ],
   "source": [
    "%timeit b.a"
   ]
  },
  {
   "cell_type": "code",
   "execution_count": 12,
   "id": "ad54dc69",
   "metadata": {
    "execution": {
     "iopub.execute_input": "2023-02-27T08:10:43.160533Z",
     "iopub.status.busy": "2023-02-27T08:10:43.159594Z",
     "iopub.status.idle": "2023-02-27T08:10:43.172921Z",
     "shell.execute_reply": "2023-02-27T08:10:43.171888Z"
    }
   },
   "outputs": [
    {
     "data": {
      "text/plain": [
       "Batch(\n",
       "    a: tensor([[-1.5007,  0.0067, -1.7459],\n",
       "               [-0.6597,  1.3801,  1.2005]]),\n",
       "    x: Batch(\n",
       "           c: tensor([[ 1.4667, -0.7995, -0.8379,  0.3497],\n",
       "                      [-1.4732,  1.7046, -0.2569,  0.6856],\n",
       "                      [ 0.4399, -1.3090,  1.2203,  0.5383]]),\n",
       "       ),\n",
       ")"
      ]
     },
     "execution_count": 12,
     "metadata": {},
     "output_type": "execute_result"
    }
   ],
   "source": [
    "new_value = torch.randn(2, 3)\n",
    "b.a = new_value\n",
    "\n",
    "b"
   ]
  },
  {
   "cell_type": "code",
   "execution_count": 13,
   "id": "29b1d0bf",
   "metadata": {
    "execution": {
     "iopub.execute_input": "2023-02-27T08:10:43.178855Z",
     "iopub.status.busy": "2023-02-27T08:10:43.177889Z",
     "iopub.status.idle": "2023-02-27T08:10:48.595568Z",
     "shell.execute_reply": "2023-02-27T08:10:48.594002Z"
    }
   },
   "outputs": [
    {
     "name": "stdout",
     "output_type": "stream",
     "text": [
      "667 ns ± 9.85 ns per loop (mean ± std. dev. of 7 runs, 1,000,000 loops each)\n"
     ]
    }
   ],
   "source": [
    "%timeit b.a = new_value"
   ]
  },
  {
   "cell_type": "markdown",
   "id": "b61ad1d0",
   "metadata": {},
   "source": [
    "## Initialization"
   ]
  },
  {
   "cell_type": "markdown",
   "id": "d70f0d54",
   "metadata": {},
   "source": [
    "### TreeValue's Initialization"
   ]
  },
  {
   "cell_type": "code",
   "execution_count": 14,
   "id": "d32a679b",
   "metadata": {
    "execution": {
     "iopub.execute_input": "2023-02-27T08:10:48.602155Z",
     "iopub.status.busy": "2023-02-27T08:10:48.601706Z",
     "iopub.status.idle": "2023-02-27T08:10:57.998555Z",
     "shell.execute_reply": "2023-02-27T08:10:57.997472Z"
    }
   },
   "outputs": [
    {
     "name": "stdout",
     "output_type": "stream",
     "text": [
      "1.16 µs ± 11.7 ns per loop (mean ± std. dev. of 7 runs, 1,000,000 loops each)\n"
     ]
    }
   ],
   "source": [
    "%timeit FastTreeValue(_TREE_DATA_1)"
   ]
  },
  {
   "cell_type": "markdown",
   "id": "24f3707b",
   "metadata": {},
   "source": [
    "### Tianshou Batch's Initialization"
   ]
  },
  {
   "cell_type": "code",
   "execution_count": 15,
   "id": "ac3958df",
   "metadata": {
    "execution": {
     "iopub.execute_input": "2023-02-27T08:10:58.003373Z",
     "iopub.status.busy": "2023-02-27T08:10:58.002575Z",
     "iopub.status.idle": "2023-02-27T08:11:09.858803Z",
     "shell.execute_reply": "2023-02-27T08:11:09.857732Z"
    }
   },
   "outputs": [
    {
     "name": "stdout",
     "output_type": "stream",
     "text": [
      "14.6 µs ± 253 ns per loop (mean ± std. dev. of 7 runs, 100,000 loops each)\n"
     ]
    }
   ],
   "source": [
    "%timeit Batch(**_TREE_DATA_1)"
   ]
  },
  {
   "cell_type": "markdown",
   "id": "1ab82e2d",
   "metadata": {},
   "source": [
    "## Deep Copy Operation"
   ]
  },
  {
   "cell_type": "code",
   "execution_count": 16,
   "id": "210a9442",
   "metadata": {
    "execution": {
     "iopub.execute_input": "2023-02-27T08:11:09.863557Z",
     "iopub.status.busy": "2023-02-27T08:11:09.862653Z",
     "iopub.status.idle": "2023-02-27T08:11:09.868108Z",
     "shell.execute_reply": "2023-02-27T08:11:09.866934Z"
    }
   },
   "outputs": [],
   "source": [
    "import copy"
   ]
  },
  {
   "cell_type": "markdown",
   "id": "5a736274",
   "metadata": {},
   "source": [
    "### Deep Copy of TreeValue"
   ]
  },
  {
   "cell_type": "code",
   "execution_count": 17,
   "id": "f9bcadd6",
   "metadata": {
    "execution": {
     "iopub.execute_input": "2023-02-27T08:11:09.872533Z",
     "iopub.status.busy": "2023-02-27T08:11:09.871800Z",
     "iopub.status.idle": "2023-02-27T08:11:12.093709Z",
     "shell.execute_reply": "2023-02-27T08:11:12.092527Z"
    }
   },
   "outputs": [
    {
     "name": "stdout",
     "output_type": "stream",
     "text": [
      "273 µs ± 16.7 µs per loop (mean ± std. dev. of 7 runs, 1,000 loops each)\n"
     ]
    }
   ],
   "source": [
    "t3 = FastTreeValue(_TREE_DATA_3)\n",
    "%timeit copy.deepcopy(t3)"
   ]
  },
  {
   "cell_type": "markdown",
   "id": "bf8be7ea",
   "metadata": {},
   "source": [
    "### Deep Copy of Tianshou Batch"
   ]
  },
  {
   "cell_type": "code",
   "execution_count": 18,
   "id": "91998e6f",
   "metadata": {
    "execution": {
     "iopub.execute_input": "2023-02-27T08:11:12.098286Z",
     "iopub.status.busy": "2023-02-27T08:11:12.097880Z",
     "iopub.status.idle": "2023-02-27T08:11:14.216719Z",
     "shell.execute_reply": "2023-02-27T08:11:14.215827Z"
    }
   },
   "outputs": [
    {
     "name": "stdout",
     "output_type": "stream",
     "text": [
      "261 µs ± 10.2 µs per loop (mean ± std. dev. of 7 runs, 1,000 loops each)\n"
     ]
    }
   ],
   "source": [
    "b3 = Batch(**_TREE_DATA_3)\n",
    "%timeit copy.deepcopy(b3)"
   ]
  },
  {
   "cell_type": "markdown",
   "id": "223162fb",
   "metadata": {},
   "source": [
    "## Stack, Concat and Split Operation"
   ]
  },
  {
   "cell_type": "markdown",
   "id": "85fa4a73",
   "metadata": {},
   "source": [
    "### Performance of TreeValue"
   ]
  },
  {
   "cell_type": "code",
   "execution_count": 19,
   "id": "a0c2b697",
   "metadata": {
    "execution": {
     "iopub.execute_input": "2023-02-27T08:11:14.220941Z",
     "iopub.status.busy": "2023-02-27T08:11:14.220323Z",
     "iopub.status.idle": "2023-02-27T08:11:14.225034Z",
     "shell.execute_reply": "2023-02-27T08:11:14.224170Z"
    }
   },
   "outputs": [],
   "source": [
    "trees = [FastTreeValue(_TREE_DATA_2) for _ in range(8)]"
   ]
  },
  {
   "cell_type": "code",
   "execution_count": 20,
   "id": "017ea5a5",
   "metadata": {
    "execution": {
     "iopub.execute_input": "2023-02-27T08:11:14.228574Z",
     "iopub.status.busy": "2023-02-27T08:11:14.228072Z",
     "iopub.status.idle": "2023-02-27T08:11:14.237974Z",
     "shell.execute_reply": "2023-02-27T08:11:14.236935Z"
    }
   },
   "outputs": [
    {
     "data": {
      "text/plain": [
       "<FastTreeValue 0x7f2e8bac16a0>\n",
       "├── 'a' --> tensor([[[ 1.7465,  1.4108, -0.5674],\n",
       "│                    [ 0.1525,  0.6671, -1.4880]],\n",
       "│           \n",
       "│                   [[ 1.7465,  1.4108, -0.5674],\n",
       "│                    [ 0.1525,  0.6671, -1.4880]],\n",
       "│           \n",
       "│                   [[ 1.7465,  1.4108, -0.5674],\n",
       "│                    [ 0.1525,  0.6671, -1.4880]],\n",
       "│           \n",
       "│                   [[ 1.7465,  1.4108, -0.5674],\n",
       "│                    [ 0.1525,  0.6671, -1.4880]],\n",
       "│           \n",
       "│                   [[ 1.7465,  1.4108, -0.5674],\n",
       "│                    [ 0.1525,  0.6671, -1.4880]],\n",
       "│           \n",
       "│                   [[ 1.7465,  1.4108, -0.5674],\n",
       "│                    [ 0.1525,  0.6671, -1.4880]],\n",
       "│           \n",
       "│                   [[ 1.7465,  1.4108, -0.5674],\n",
       "│                    [ 0.1525,  0.6671, -1.4880]],\n",
       "│           \n",
       "│                   [[ 1.7465,  1.4108, -0.5674],\n",
       "│                    [ 0.1525,  0.6671, -1.4880]]])\n",
       "└── 'x' --> <FastTreeValue 0x7f2e8bac1d00>\n",
       "    └── 'c' --> tensor([[[ 1.4667, -0.7995, -0.8379,  0.3497],\n",
       "                         [-1.4732,  1.7046, -0.2569,  0.6856],\n",
       "                         [ 0.4399, -1.3090,  1.2203,  0.5383]],\n",
       "                \n",
       "                        [[ 1.4667, -0.7995, -0.8379,  0.3497],\n",
       "                         [-1.4732,  1.7046, -0.2569,  0.6856],\n",
       "                         [ 0.4399, -1.3090,  1.2203,  0.5383]],\n",
       "                \n",
       "                        [[ 1.4667, -0.7995, -0.8379,  0.3497],\n",
       "                         [-1.4732,  1.7046, -0.2569,  0.6856],\n",
       "                         [ 0.4399, -1.3090,  1.2203,  0.5383]],\n",
       "                \n",
       "                        [[ 1.4667, -0.7995, -0.8379,  0.3497],\n",
       "                         [-1.4732,  1.7046, -0.2569,  0.6856],\n",
       "                         [ 0.4399, -1.3090,  1.2203,  0.5383]],\n",
       "                \n",
       "                        [[ 1.4667, -0.7995, -0.8379,  0.3497],\n",
       "                         [-1.4732,  1.7046, -0.2569,  0.6856],\n",
       "                         [ 0.4399, -1.3090,  1.2203,  0.5383]],\n",
       "                \n",
       "                        [[ 1.4667, -0.7995, -0.8379,  0.3497],\n",
       "                         [-1.4732,  1.7046, -0.2569,  0.6856],\n",
       "                         [ 0.4399, -1.3090,  1.2203,  0.5383]],\n",
       "                \n",
       "                        [[ 1.4667, -0.7995, -0.8379,  0.3497],\n",
       "                         [-1.4732,  1.7046, -0.2569,  0.6856],\n",
       "                         [ 0.4399, -1.3090,  1.2203,  0.5383]],\n",
       "                \n",
       "                        [[ 1.4667, -0.7995, -0.8379,  0.3497],\n",
       "                         [-1.4732,  1.7046, -0.2569,  0.6856],\n",
       "                         [ 0.4399, -1.3090,  1.2203,  0.5383]]])"
      ]
     },
     "execution_count": 20,
     "metadata": {},
     "output_type": "execute_result"
    }
   ],
   "source": [
    "t_stack = FastTreeValue.func(subside=True)(torch.stack)\n",
    "\n",
    "t_stack(trees)"
   ]
  },
  {
   "cell_type": "code",
   "execution_count": 21,
   "id": "f8b3f415",
   "metadata": {
    "execution": {
     "iopub.execute_input": "2023-02-27T08:11:14.242421Z",
     "iopub.status.busy": "2023-02-27T08:11:14.241905Z",
     "iopub.status.idle": "2023-02-27T08:11:18.131860Z",
     "shell.execute_reply": "2023-02-27T08:11:18.129806Z"
    }
   },
   "outputs": [
    {
     "name": "stdout",
     "output_type": "stream",
     "text": [
      "47.8 µs ± 1.44 µs per loop (mean ± std. dev. of 7 runs, 10,000 loops each)\n"
     ]
    }
   ],
   "source": [
    "%timeit t_stack(trees)"
   ]
  },
  {
   "cell_type": "code",
   "execution_count": 22,
   "id": "94b56771",
   "metadata": {
    "execution": {
     "iopub.execute_input": "2023-02-27T08:11:18.135962Z",
     "iopub.status.busy": "2023-02-27T08:11:18.135622Z",
     "iopub.status.idle": "2023-02-27T08:11:18.147213Z",
     "shell.execute_reply": "2023-02-27T08:11:18.146179Z"
    }
   },
   "outputs": [
    {
     "data": {
      "text/plain": [
       "<FastTreeValue 0x7f2e85599a00>\n",
       "├── 'a' --> tensor([[ 1.7465,  1.4108, -0.5674],\n",
       "│                   [ 0.1525,  0.6671, -1.4880],\n",
       "│                   [ 1.7465,  1.4108, -0.5674],\n",
       "│                   [ 0.1525,  0.6671, -1.4880],\n",
       "│                   [ 1.7465,  1.4108, -0.5674],\n",
       "│                   [ 0.1525,  0.6671, -1.4880],\n",
       "│                   [ 1.7465,  1.4108, -0.5674],\n",
       "│                   [ 0.1525,  0.6671, -1.4880],\n",
       "│                   [ 1.7465,  1.4108, -0.5674],\n",
       "│                   [ 0.1525,  0.6671, -1.4880],\n",
       "│                   [ 1.7465,  1.4108, -0.5674],\n",
       "│                   [ 0.1525,  0.6671, -1.4880],\n",
       "│                   [ 1.7465,  1.4108, -0.5674],\n",
       "│                   [ 0.1525,  0.6671, -1.4880],\n",
       "│                   [ 1.7465,  1.4108, -0.5674],\n",
       "│                   [ 0.1525,  0.6671, -1.4880]])\n",
       "└── 'x' --> <FastTreeValue 0x7f2e854b6fa0>\n",
       "    └── 'c' --> tensor([[ 1.4667, -0.7995, -0.8379,  0.3497],\n",
       "                        [-1.4732,  1.7046, -0.2569,  0.6856],\n",
       "                        [ 0.4399, -1.3090,  1.2203,  0.5383],\n",
       "                        [ 1.4667, -0.7995, -0.8379,  0.3497],\n",
       "                        [-1.4732,  1.7046, -0.2569,  0.6856],\n",
       "                        [ 0.4399, -1.3090,  1.2203,  0.5383],\n",
       "                        [ 1.4667, -0.7995, -0.8379,  0.3497],\n",
       "                        [-1.4732,  1.7046, -0.2569,  0.6856],\n",
       "                        [ 0.4399, -1.3090,  1.2203,  0.5383],\n",
       "                        [ 1.4667, -0.7995, -0.8379,  0.3497],\n",
       "                        [-1.4732,  1.7046, -0.2569,  0.6856],\n",
       "                        [ 0.4399, -1.3090,  1.2203,  0.5383],\n",
       "                        [ 1.4667, -0.7995, -0.8379,  0.3497],\n",
       "                        [-1.4732,  1.7046, -0.2569,  0.6856],\n",
       "                        [ 0.4399, -1.3090,  1.2203,  0.5383],\n",
       "                        [ 1.4667, -0.7995, -0.8379,  0.3497],\n",
       "                        [-1.4732,  1.7046, -0.2569,  0.6856],\n",
       "                        [ 0.4399, -1.3090,  1.2203,  0.5383],\n",
       "                        [ 1.4667, -0.7995, -0.8379,  0.3497],\n",
       "                        [-1.4732,  1.7046, -0.2569,  0.6856],\n",
       "                        [ 0.4399, -1.3090,  1.2203,  0.5383],\n",
       "                        [ 1.4667, -0.7995, -0.8379,  0.3497],\n",
       "                        [-1.4732,  1.7046, -0.2569,  0.6856],\n",
       "                        [ 0.4399, -1.3090,  1.2203,  0.5383]])"
      ]
     },
     "execution_count": 22,
     "metadata": {},
     "output_type": "execute_result"
    }
   ],
   "source": [
    "t_cat = FastTreeValue.func(subside=True)(torch.cat)\n",
    "\n",
    "t_cat(trees)"
   ]
  },
  {
   "cell_type": "code",
   "execution_count": 23,
   "id": "5e9c06a6",
   "metadata": {
    "execution": {
     "iopub.execute_input": "2023-02-27T08:11:18.151242Z",
     "iopub.status.busy": "2023-02-27T08:11:18.150484Z",
     "iopub.status.idle": "2023-02-27T08:11:21.723120Z",
     "shell.execute_reply": "2023-02-27T08:11:21.721981Z"
    }
   },
   "outputs": [
    {
     "name": "stdout",
     "output_type": "stream",
     "text": [
      "43.7 µs ± 1.06 µs per loop (mean ± std. dev. of 7 runs, 10,000 loops each)\n"
     ]
    }
   ],
   "source": [
    "%timeit t_cat(trees)"
   ]
  },
  {
   "cell_type": "code",
   "execution_count": 24,
   "id": "a3ab5c8f",
   "metadata": {
    "execution": {
     "iopub.execute_input": "2023-02-27T08:11:21.727286Z",
     "iopub.status.busy": "2023-02-27T08:11:21.726492Z",
     "iopub.status.idle": "2023-02-27T08:11:28.844013Z",
     "shell.execute_reply": "2023-02-27T08:11:28.842921Z"
    }
   },
   "outputs": [
    {
     "name": "stdout",
     "output_type": "stream",
     "text": [
      "87.9 µs ± 1.72 µs per loop (mean ± std. dev. of 7 runs, 10,000 loops each)\n"
     ]
    }
   ],
   "source": [
    "t_split = FastTreeValue.func(rise=True)(torch.split)\n",
    "tree = FastTreeValue({\n",
    "    'obs': torch.randn(8, 4, 84, 84),\n",
    "    'action': torch.randint(0, 6, size=(8, 1,)),\n",
    "    'reward': torch.rand(8, 1),\n",
    "})\n",
    "\n",
    "%timeit t_split(tree, 1)"
   ]
  },
  {
   "cell_type": "markdown",
   "id": "31c3ec0b",
   "metadata": {},
   "source": [
    "### Performance of Tianshou Batch"
   ]
  },
  {
   "cell_type": "code",
   "execution_count": 25,
   "id": "9ead828a",
   "metadata": {
    "execution": {
     "iopub.execute_input": "2023-02-27T08:11:28.848731Z",
     "iopub.status.busy": "2023-02-27T08:11:28.848040Z",
     "iopub.status.idle": "2023-02-27T08:11:28.859457Z",
     "shell.execute_reply": "2023-02-27T08:11:28.858439Z"
    }
   },
   "outputs": [
    {
     "data": {
      "text/plain": [
       "Batch(\n",
       "    a: tensor([[[ 1.7465,  1.4108, -0.5674],\n",
       "                [ 0.1525,  0.6671, -1.4880]],\n",
       "       \n",
       "               [[ 1.7465,  1.4108, -0.5674],\n",
       "                [ 0.1525,  0.6671, -1.4880]],\n",
       "       \n",
       "               [[ 1.7465,  1.4108, -0.5674],\n",
       "                [ 0.1525,  0.6671, -1.4880]],\n",
       "       \n",
       "               [[ 1.7465,  1.4108, -0.5674],\n",
       "                [ 0.1525,  0.6671, -1.4880]],\n",
       "       \n",
       "               [[ 1.7465,  1.4108, -0.5674],\n",
       "                [ 0.1525,  0.6671, -1.4880]],\n",
       "       \n",
       "               [[ 1.7465,  1.4108, -0.5674],\n",
       "                [ 0.1525,  0.6671, -1.4880]],\n",
       "       \n",
       "               [[ 1.7465,  1.4108, -0.5674],\n",
       "                [ 0.1525,  0.6671, -1.4880]],\n",
       "       \n",
       "               [[ 1.7465,  1.4108, -0.5674],\n",
       "                [ 0.1525,  0.6671, -1.4880]]]),\n",
       "    x: Batch(\n",
       "           c: tensor([[[ 1.4667, -0.7995, -0.8379,  0.3497],\n",
       "                       [-1.4732,  1.7046, -0.2569,  0.6856],\n",
       "                       [ 0.4399, -1.3090,  1.2203,  0.5383]],\n",
       "              \n",
       "                      [[ 1.4667, -0.7995, -0.8379,  0.3497],\n",
       "                       [-1.4732,  1.7046, -0.2569,  0.6856],\n",
       "                       [ 0.4399, -1.3090,  1.2203,  0.5383]],\n",
       "              \n",
       "                      [[ 1.4667, -0.7995, -0.8379,  0.3497],\n",
       "                       [-1.4732,  1.7046, -0.2569,  0.6856],\n",
       "                       [ 0.4399, -1.3090,  1.2203,  0.5383]],\n",
       "              \n",
       "                      [[ 1.4667, -0.7995, -0.8379,  0.3497],\n",
       "                       [-1.4732,  1.7046, -0.2569,  0.6856],\n",
       "                       [ 0.4399, -1.3090,  1.2203,  0.5383]],\n",
       "              \n",
       "                      [[ 1.4667, -0.7995, -0.8379,  0.3497],\n",
       "                       [-1.4732,  1.7046, -0.2569,  0.6856],\n",
       "                       [ 0.4399, -1.3090,  1.2203,  0.5383]],\n",
       "              \n",
       "                      [[ 1.4667, -0.7995, -0.8379,  0.3497],\n",
       "                       [-1.4732,  1.7046, -0.2569,  0.6856],\n",
       "                       [ 0.4399, -1.3090,  1.2203,  0.5383]],\n",
       "              \n",
       "                      [[ 1.4667, -0.7995, -0.8379,  0.3497],\n",
       "                       [-1.4732,  1.7046, -0.2569,  0.6856],\n",
       "                       [ 0.4399, -1.3090,  1.2203,  0.5383]],\n",
       "              \n",
       "                      [[ 1.4667, -0.7995, -0.8379,  0.3497],\n",
       "                       [-1.4732,  1.7046, -0.2569,  0.6856],\n",
       "                       [ 0.4399, -1.3090,  1.2203,  0.5383]]]),\n",
       "       ),\n",
       ")"
      ]
     },
     "execution_count": 25,
     "metadata": {},
     "output_type": "execute_result"
    }
   ],
   "source": [
    "batches = [Batch(**_TREE_DATA_2) for _ in range(8)]\n",
    "\n",
    "Batch.stack(batches)"
   ]
  },
  {
   "cell_type": "code",
   "execution_count": 26,
   "id": "ec9037a3",
   "metadata": {
    "execution": {
     "iopub.execute_input": "2023-02-27T08:11:28.863111Z",
     "iopub.status.busy": "2023-02-27T08:11:28.862812Z",
     "iopub.status.idle": "2023-02-27T08:11:37.699320Z",
     "shell.execute_reply": "2023-02-27T08:11:37.698091Z"
    }
   },
   "outputs": [
    {
     "name": "stdout",
     "output_type": "stream",
     "text": [
      "109 µs ± 1.48 µs per loop (mean ± std. dev. of 7 runs, 10,000 loops each)\n"
     ]
    }
   ],
   "source": [
    "%timeit Batch.stack(batches)"
   ]
  },
  {
   "cell_type": "code",
   "execution_count": 27,
   "id": "cb8ab77e",
   "metadata": {
    "execution": {
     "iopub.execute_input": "2023-02-27T08:11:37.703883Z",
     "iopub.status.busy": "2023-02-27T08:11:37.703243Z",
     "iopub.status.idle": "2023-02-27T08:11:37.714188Z",
     "shell.execute_reply": "2023-02-27T08:11:37.713142Z"
    }
   },
   "outputs": [
    {
     "data": {
      "text/plain": [
       "Batch(\n",
       "    a: tensor([[ 1.7465,  1.4108, -0.5674],\n",
       "               [ 0.1525,  0.6671, -1.4880],\n",
       "               [ 1.7465,  1.4108, -0.5674],\n",
       "               [ 0.1525,  0.6671, -1.4880],\n",
       "               [ 1.7465,  1.4108, -0.5674],\n",
       "               [ 0.1525,  0.6671, -1.4880],\n",
       "               [ 1.7465,  1.4108, -0.5674],\n",
       "               [ 0.1525,  0.6671, -1.4880],\n",
       "               [ 1.7465,  1.4108, -0.5674],\n",
       "               [ 0.1525,  0.6671, -1.4880],\n",
       "               [ 1.7465,  1.4108, -0.5674],\n",
       "               [ 0.1525,  0.6671, -1.4880],\n",
       "               [ 1.7465,  1.4108, -0.5674],\n",
       "               [ 0.1525,  0.6671, -1.4880],\n",
       "               [ 1.7465,  1.4108, -0.5674],\n",
       "               [ 0.1525,  0.6671, -1.4880]]),\n",
       "    x: Batch(\n",
       "           c: tensor([[ 1.4667, -0.7995, -0.8379,  0.3497],\n",
       "                      [-1.4732,  1.7046, -0.2569,  0.6856],\n",
       "                      [ 0.4399, -1.3090,  1.2203,  0.5383],\n",
       "                      [ 1.4667, -0.7995, -0.8379,  0.3497],\n",
       "                      [-1.4732,  1.7046, -0.2569,  0.6856],\n",
       "                      [ 0.4399, -1.3090,  1.2203,  0.5383],\n",
       "                      [ 1.4667, -0.7995, -0.8379,  0.3497],\n",
       "                      [-1.4732,  1.7046, -0.2569,  0.6856],\n",
       "                      [ 0.4399, -1.3090,  1.2203,  0.5383],\n",
       "                      [ 1.4667, -0.7995, -0.8379,  0.3497],\n",
       "                      [-1.4732,  1.7046, -0.2569,  0.6856],\n",
       "                      [ 0.4399, -1.3090,  1.2203,  0.5383],\n",
       "                      [ 1.4667, -0.7995, -0.8379,  0.3497],\n",
       "                      [-1.4732,  1.7046, -0.2569,  0.6856],\n",
       "                      [ 0.4399, -1.3090,  1.2203,  0.5383],\n",
       "                      [ 1.4667, -0.7995, -0.8379,  0.3497],\n",
       "                      [-1.4732,  1.7046, -0.2569,  0.6856],\n",
       "                      [ 0.4399, -1.3090,  1.2203,  0.5383],\n",
       "                      [ 1.4667, -0.7995, -0.8379,  0.3497],\n",
       "                      [-1.4732,  1.7046, -0.2569,  0.6856],\n",
       "                      [ 0.4399, -1.3090,  1.2203,  0.5383],\n",
       "                      [ 1.4667, -0.7995, -0.8379,  0.3497],\n",
       "                      [-1.4732,  1.7046, -0.2569,  0.6856],\n",
       "                      [ 0.4399, -1.3090,  1.2203,  0.5383]]),\n",
       "       ),\n",
       ")"
      ]
     },
     "execution_count": 27,
     "metadata": {},
     "output_type": "execute_result"
    }
   ],
   "source": [
    "Batch.cat(batches)"
   ]
  },
  {
   "cell_type": "code",
   "execution_count": 28,
   "id": "18dfb045",
   "metadata": {
    "execution": {
     "iopub.execute_input": "2023-02-27T08:11:37.718402Z",
     "iopub.status.busy": "2023-02-27T08:11:37.717667Z",
     "iopub.status.idle": "2023-02-27T08:11:54.028161Z",
     "shell.execute_reply": "2023-02-27T08:11:54.027150Z"
    }
   },
   "outputs": [
    {
     "name": "stdout",
     "output_type": "stream",
     "text": [
      "201 µs ± 1.93 µs per loop (mean ± std. dev. of 7 runs, 10,000 loops each)\n"
     ]
    }
   ],
   "source": [
    "%timeit Batch.cat(batches)"
   ]
  },
  {
   "cell_type": "code",
   "execution_count": 29,
   "id": "c6688e51",
   "metadata": {
    "execution": {
     "iopub.execute_input": "2023-02-27T08:11:54.033050Z",
     "iopub.status.busy": "2023-02-27T08:11:54.031732Z",
     "iopub.status.idle": "2023-02-27T08:11:58.750849Z",
     "shell.execute_reply": "2023-02-27T08:11:58.749933Z"
    }
   },
   "outputs": [
    {
     "name": "stdout",
     "output_type": "stream",
     "text": [
      "581 µs ± 24.7 µs per loop (mean ± std. dev. of 7 runs, 1,000 loops each)\n"
     ]
    }
   ],
   "source": [
    "batch = Batch({\n",
    "    'obs': torch.randn(8, 4, 84, 84),\n",
    "    'action': torch.randint(0, 6, size=(8, 1,)),\n",
    "    'reward': torch.rand(8, 1)}\n",
    ")\n",
    "\n",
    "%timeit list(Batch.split(batch, 1, shuffle=False, merge_last=True))"
   ]
  },
  {
   "cell_type": "code",
   "execution_count": null,
   "id": "2539fbd9",
   "metadata": {},
   "outputs": [],
   "source": []
  }
 ],
 "metadata": {
  "kernelspec": {
   "display_name": "Python 3 (ipykernel)",
   "language": "python",
   "name": "python3"
  },
  "language_info": {
   "codemirror_mode": {
    "name": "ipython",
    "version": 3
   },
   "file_extension": ".py",
   "mimetype": "text/x-python",
   "name": "python",
   "nbconvert_exporter": "python",
   "pygments_lexer": "ipython3",
   "version": "3.8.16"
  }
 },
 "nbformat": 4,
 "nbformat_minor": 5
}
