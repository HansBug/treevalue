{
 "cells": [
  {
   "cell_type": "markdown",
   "id": "9d39d946",
   "metadata": {},
   "source": [
    "# Comparison Between TreeValue and Tianshou Batch"
   ]
  },
  {
   "cell_type": "markdown",
   "id": "3c6db2d4",
   "metadata": {},
   "source": [
    "In this section, we will take a look at the feature and performance of the [Tianshou Batch](https://github.com/thu-ml/tianshou) library, which is developed by Tsinghua Machine Learning Group."
   ]
  },
  {
   "cell_type": "markdown",
   "id": "069361b0",
   "metadata": {},
   "source": [
    "Before starting the comparison, let us define some thing."
   ]
  },
  {
   "cell_type": "code",
   "execution_count": 1,
   "id": "06fc8d26",
   "metadata": {
    "execution": {
     "iopub.execute_input": "2023-02-24T10:58:00.970886Z",
     "iopub.status.busy": "2023-02-24T10:58:00.970168Z",
     "iopub.status.idle": "2023-02-24T10:58:01.944348Z",
     "shell.execute_reply": "2023-02-24T10:58:01.943574Z"
    }
   },
   "outputs": [
    {
     "name": "stderr",
     "output_type": "stream",
     "text": [
      "/opt/hostedtoolcache/Python/3.8.16/x64/lib/python3.8/site-packages/tqdm/auto.py:22: TqdmWarning: IProgress not found. Please update jupyter and ipywidgets. See https://ipywidgets.readthedocs.io/en/stable/user_install.html\n",
      "  from .autonotebook import tqdm as notebook_tqdm\n"
     ]
    }
   ],
   "source": [
    "import torch \n",
    "\n",
    "_TREE_DATA_1 = {'a': 1, 'b': 2, 'x': {'c': 3, 'd': 4}}\n",
    "_TREE_DATA_2 = {\n",
    "    'a': torch.randn(2, 3), \n",
    "    'x': {\n",
    "        'c': torch.randn(3, 4)\n",
    "    },\n",
    "}\n",
    "_TREE_DATA_3 = {\n",
    "    'obs': torch.randn(4, 84, 84),\n",
    "    'action': torch.randint(0, 6, size=(1,)),\n",
    "    'reward': torch.rand(1),\n",
    "}"
   ]
  },
  {
   "cell_type": "markdown",
   "id": "83461b25",
   "metadata": {},
   "source": [
    "## Read and Write Operation"
   ]
  },
  {
   "cell_type": "markdown",
   "id": "067b3f73",
   "metadata": {},
   "source": [
    "Reading and writing are the two most common operations in the tree data structure based on the data model (TreeValue and Tianshou Batch both belong to this type), so this section will compare the reading and writing performance of these two libraries."
   ]
  },
  {
   "cell_type": "markdown",
   "id": "5d09a5b7",
   "metadata": {},
   "source": [
    "### TreeValue's Get and Set"
   ]
  },
  {
   "cell_type": "code",
   "execution_count": 2,
   "id": "9519c4bb",
   "metadata": {
    "execution": {
     "iopub.execute_input": "2023-02-24T10:58:01.948734Z",
     "iopub.status.busy": "2023-02-24T10:58:01.947990Z",
     "iopub.status.idle": "2023-02-24T10:58:01.983454Z",
     "shell.execute_reply": "2023-02-24T10:58:01.982715Z"
    }
   },
   "outputs": [],
   "source": [
    "from treevalue import FastTreeValue\n",
    "\n",
    "t = FastTreeValue(_TREE_DATA_2)"
   ]
  },
  {
   "cell_type": "code",
   "execution_count": 3,
   "id": "11c37677",
   "metadata": {
    "execution": {
     "iopub.execute_input": "2023-02-24T10:58:01.987073Z",
     "iopub.status.busy": "2023-02-24T10:58:01.986593Z",
     "iopub.status.idle": "2023-02-24T10:58:01.997902Z",
     "shell.execute_reply": "2023-02-24T10:58:01.997251Z"
    }
   },
   "outputs": [
    {
     "data": {
      "text/plain": [
       "<FastTreeValue 0x7f5058f62670>\n",
       "├── 'a' --> tensor([[-0.5279, -0.9637,  0.3995],\n",
       "│                   [ 0.4365,  1.7275, -0.4130]])\n",
       "└── 'x' --> <FastTreeValue 0x7f5058f62e50>\n",
       "    └── 'c' --> tensor([[ 0.6316,  0.6617, -0.3891,  0.0374],\n",
       "                        [ 0.2490, -0.5090, -0.8779, -1.3474],\n",
       "                        [ 0.5837, -0.0588,  1.4873, -0.1726]])"
      ]
     },
     "execution_count": 3,
     "metadata": {},
     "output_type": "execute_result"
    }
   ],
   "source": [
    "t"
   ]
  },
  {
   "cell_type": "code",
   "execution_count": 4,
   "id": "fd70b0b9",
   "metadata": {
    "execution": {
     "iopub.execute_input": "2023-02-24T10:58:02.001293Z",
     "iopub.status.busy": "2023-02-24T10:58:02.000682Z",
     "iopub.status.idle": "2023-02-24T10:58:02.006272Z",
     "shell.execute_reply": "2023-02-24T10:58:02.005628Z"
    }
   },
   "outputs": [
    {
     "data": {
      "text/plain": [
       "tensor([[-0.5279, -0.9637,  0.3995],\n",
       "        [ 0.4365,  1.7275, -0.4130]])"
      ]
     },
     "execution_count": 4,
     "metadata": {},
     "output_type": "execute_result"
    }
   ],
   "source": [
    "t.a"
   ]
  },
  {
   "cell_type": "code",
   "execution_count": 5,
   "id": "c18197bd",
   "metadata": {
    "execution": {
     "iopub.execute_input": "2023-02-24T10:58:02.009232Z",
     "iopub.status.busy": "2023-02-24T10:58:02.008882Z",
     "iopub.status.idle": "2023-02-24T10:58:07.202183Z",
     "shell.execute_reply": "2023-02-24T10:58:07.201380Z"
    }
   },
   "outputs": [
    {
     "name": "stdout",
     "output_type": "stream",
     "text": [
      "63.9 ns ± 0.0605 ns per loop (mean ± std. dev. of 7 runs, 10,000,000 loops each)\n"
     ]
    }
   ],
   "source": [
    "%timeit t.a"
   ]
  },
  {
   "cell_type": "code",
   "execution_count": 6,
   "id": "bd52f867",
   "metadata": {
    "execution": {
     "iopub.execute_input": "2023-02-24T10:58:07.205930Z",
     "iopub.status.busy": "2023-02-24T10:58:07.205413Z",
     "iopub.status.idle": "2023-02-24T10:58:07.212581Z",
     "shell.execute_reply": "2023-02-24T10:58:07.211950Z"
    }
   },
   "outputs": [
    {
     "data": {
      "text/plain": [
       "<FastTreeValue 0x7f5058f62670>\n",
       "├── 'a' --> tensor([[-1.3464,  1.1725,  0.4144],\n",
       "│                   [-0.1977, -0.2944, -1.1320]])\n",
       "└── 'x' --> <FastTreeValue 0x7f5058f62e50>\n",
       "    └── 'c' --> tensor([[ 0.6316,  0.6617, -0.3891,  0.0374],\n",
       "                        [ 0.2490, -0.5090, -0.8779, -1.3474],\n",
       "                        [ 0.5837, -0.0588,  1.4873, -0.1726]])"
      ]
     },
     "execution_count": 6,
     "metadata": {},
     "output_type": "execute_result"
    }
   ],
   "source": [
    "new_value = torch.randn(2, 3)\n",
    "t.a = new_value\n",
    "\n",
    "t"
   ]
  },
  {
   "cell_type": "code",
   "execution_count": 7,
   "id": "bbe04d1c",
   "metadata": {
    "execution": {
     "iopub.execute_input": "2023-02-24T10:58:07.215885Z",
     "iopub.status.busy": "2023-02-24T10:58:07.215325Z",
     "iopub.status.idle": "2023-02-24T10:58:12.802138Z",
     "shell.execute_reply": "2023-02-24T10:58:12.801265Z"
    }
   },
   "outputs": [
    {
     "name": "stdout",
     "output_type": "stream",
     "text": [
      "68.8 ns ± 0.0979 ns per loop (mean ± std. dev. of 7 runs, 10,000,000 loops each)\n"
     ]
    }
   ],
   "source": [
    "%timeit t.a = new_value"
   ]
  },
  {
   "cell_type": "markdown",
   "id": "48c49731",
   "metadata": {},
   "source": [
    "### Tianshou Batch's Get and Set"
   ]
  },
  {
   "cell_type": "code",
   "execution_count": 8,
   "id": "f1bb14c1",
   "metadata": {
    "execution": {
     "iopub.execute_input": "2023-02-24T10:58:12.805530Z",
     "iopub.status.busy": "2023-02-24T10:58:12.805099Z",
     "iopub.status.idle": "2023-02-24T10:58:13.176694Z",
     "shell.execute_reply": "2023-02-24T10:58:13.175900Z"
    }
   },
   "outputs": [],
   "source": [
    "from tianshou.data import Batch\n",
    "\n",
    "b = Batch(**_TREE_DATA_2)"
   ]
  },
  {
   "cell_type": "code",
   "execution_count": 9,
   "id": "cb0777c3",
   "metadata": {
    "execution": {
     "iopub.execute_input": "2023-02-24T10:58:13.180628Z",
     "iopub.status.busy": "2023-02-24T10:58:13.180011Z",
     "iopub.status.idle": "2023-02-24T10:58:13.187651Z",
     "shell.execute_reply": "2023-02-24T10:58:13.187035Z"
    }
   },
   "outputs": [
    {
     "data": {
      "text/plain": [
       "Batch(\n",
       "    a: tensor([[-0.5279, -0.9637,  0.3995],\n",
       "               [ 0.4365,  1.7275, -0.4130]]),\n",
       "    x: Batch(\n",
       "           c: tensor([[ 0.6316,  0.6617, -0.3891,  0.0374],\n",
       "                      [ 0.2490, -0.5090, -0.8779, -1.3474],\n",
       "                      [ 0.5837, -0.0588,  1.4873, -0.1726]]),\n",
       "       ),\n",
       ")"
      ]
     },
     "execution_count": 9,
     "metadata": {},
     "output_type": "execute_result"
    }
   ],
   "source": [
    "b"
   ]
  },
  {
   "cell_type": "code",
   "execution_count": 10,
   "id": "43ef8ea3",
   "metadata": {
    "execution": {
     "iopub.execute_input": "2023-02-24T10:58:13.190737Z",
     "iopub.status.busy": "2023-02-24T10:58:13.190299Z",
     "iopub.status.idle": "2023-02-24T10:58:13.196541Z",
     "shell.execute_reply": "2023-02-24T10:58:13.195943Z"
    }
   },
   "outputs": [
    {
     "data": {
      "text/plain": [
       "tensor([[-0.5279, -0.9637,  0.3995],\n",
       "        [ 0.4365,  1.7275, -0.4130]])"
      ]
     },
     "execution_count": 10,
     "metadata": {},
     "output_type": "execute_result"
    }
   ],
   "source": [
    "b.a"
   ]
  },
  {
   "cell_type": "code",
   "execution_count": 11,
   "id": "b785ab72",
   "metadata": {
    "execution": {
     "iopub.execute_input": "2023-02-24T10:58:13.199319Z",
     "iopub.status.busy": "2023-02-24T10:58:13.198764Z",
     "iopub.status.idle": "2023-02-24T10:58:17.989919Z",
     "shell.execute_reply": "2023-02-24T10:58:17.989038Z"
    }
   },
   "outputs": [
    {
     "name": "stdout",
     "output_type": "stream",
     "text": [
      "59 ns ± 0.0591 ns per loop (mean ± std. dev. of 7 runs, 10,000,000 loops each)\n"
     ]
    }
   ],
   "source": [
    "%timeit b.a"
   ]
  },
  {
   "cell_type": "code",
   "execution_count": 12,
   "id": "ad54dc69",
   "metadata": {
    "execution": {
     "iopub.execute_input": "2023-02-24T10:58:17.993298Z",
     "iopub.status.busy": "2023-02-24T10:58:17.992882Z",
     "iopub.status.idle": "2023-02-24T10:58:18.000024Z",
     "shell.execute_reply": "2023-02-24T10:58:17.999405Z"
    }
   },
   "outputs": [
    {
     "data": {
      "text/plain": [
       "Batch(\n",
       "    a: tensor([[-0.4713, -0.3044,  0.3199],\n",
       "               [ 1.0105, -1.9800, -0.6669]]),\n",
       "    x: Batch(\n",
       "           c: tensor([[ 0.6316,  0.6617, -0.3891,  0.0374],\n",
       "                      [ 0.2490, -0.5090, -0.8779, -1.3474],\n",
       "                      [ 0.5837, -0.0588,  1.4873, -0.1726]]),\n",
       "       ),\n",
       ")"
      ]
     },
     "execution_count": 12,
     "metadata": {},
     "output_type": "execute_result"
    }
   ],
   "source": [
    "new_value = torch.randn(2, 3)\n",
    "b.a = new_value\n",
    "\n",
    "b"
   ]
  },
  {
   "cell_type": "code",
   "execution_count": 13,
   "id": "29b1d0bf",
   "metadata": {
    "execution": {
     "iopub.execute_input": "2023-02-24T10:58:18.003008Z",
     "iopub.status.busy": "2023-02-24T10:58:18.002373Z",
     "iopub.status.idle": "2023-02-24T10:58:22.062366Z",
     "shell.execute_reply": "2023-02-24T10:58:22.061465Z"
    }
   },
   "outputs": [
    {
     "name": "stdout",
     "output_type": "stream",
     "text": [
      "501 ns ± 4.34 ns per loop (mean ± std. dev. of 7 runs, 1,000,000 loops each)\n"
     ]
    }
   ],
   "source": [
    "%timeit b.a = new_value"
   ]
  },
  {
   "cell_type": "markdown",
   "id": "b61ad1d0",
   "metadata": {},
   "source": [
    "## Initialization"
   ]
  },
  {
   "cell_type": "markdown",
   "id": "d70f0d54",
   "metadata": {},
   "source": [
    "### TreeValue's Initialization"
   ]
  },
  {
   "cell_type": "code",
   "execution_count": 14,
   "id": "d32a679b",
   "metadata": {
    "execution": {
     "iopub.execute_input": "2023-02-24T10:58:22.065910Z",
     "iopub.status.busy": "2023-02-24T10:58:22.065471Z",
     "iopub.status.idle": "2023-02-24T10:58:28.716999Z",
     "shell.execute_reply": "2023-02-24T10:58:28.716060Z"
    }
   },
   "outputs": [
    {
     "name": "stdout",
     "output_type": "stream",
     "text": [
      "819 ns ± 1 ns per loop (mean ± std. dev. of 7 runs, 1,000,000 loops each)\n"
     ]
    }
   ],
   "source": [
    "%timeit FastTreeValue(_TREE_DATA_1)"
   ]
  },
  {
   "cell_type": "markdown",
   "id": "24f3707b",
   "metadata": {},
   "source": [
    "### Tianshou Batch's Initialization"
   ]
  },
  {
   "cell_type": "code",
   "execution_count": 15,
   "id": "ac3958df",
   "metadata": {
    "execution": {
     "iopub.execute_input": "2023-02-24T10:58:28.720504Z",
     "iopub.status.busy": "2023-02-24T10:58:28.719997Z",
     "iopub.status.idle": "2023-02-24T10:58:37.417278Z",
     "shell.execute_reply": "2023-02-24T10:58:37.416368Z"
    }
   },
   "outputs": [
    {
     "name": "stdout",
     "output_type": "stream",
     "text": [
      "10.7 µs ± 12 ns per loop (mean ± std. dev. of 7 runs, 100,000 loops each)\n"
     ]
    }
   ],
   "source": [
    "%timeit Batch(**_TREE_DATA_1)"
   ]
  },
  {
   "cell_type": "markdown",
   "id": "1ab82e2d",
   "metadata": {},
   "source": [
    "## Deep Copy Operation"
   ]
  },
  {
   "cell_type": "code",
   "execution_count": 16,
   "id": "210a9442",
   "metadata": {
    "execution": {
     "iopub.execute_input": "2023-02-24T10:58:37.420643Z",
     "iopub.status.busy": "2023-02-24T10:58:37.420164Z",
     "iopub.status.idle": "2023-02-24T10:58:37.423910Z",
     "shell.execute_reply": "2023-02-24T10:58:37.423103Z"
    }
   },
   "outputs": [],
   "source": [
    "import copy"
   ]
  },
  {
   "cell_type": "markdown",
   "id": "5a736274",
   "metadata": {},
   "source": [
    "### Deep Copy of TreeValue"
   ]
  },
  {
   "cell_type": "code",
   "execution_count": 17,
   "id": "f9bcadd6",
   "metadata": {
    "execution": {
     "iopub.execute_input": "2023-02-24T10:58:37.426787Z",
     "iopub.status.busy": "2023-02-24T10:58:37.426328Z",
     "iopub.status.idle": "2023-02-24T10:58:49.278607Z",
     "shell.execute_reply": "2023-02-24T10:58:49.277978Z"
    }
   },
   "outputs": [
    {
     "name": "stdout",
     "output_type": "stream",
     "text": [
      "146 µs ± 405 ns per loop (mean ± std. dev. of 7 runs, 10,000 loops each)\n"
     ]
    }
   ],
   "source": [
    "t3 = FastTreeValue(_TREE_DATA_3)\n",
    "%timeit copy.deepcopy(t3)"
   ]
  },
  {
   "cell_type": "markdown",
   "id": "bf8be7ea",
   "metadata": {},
   "source": [
    "### Deep Copy of Tianshou Batch"
   ]
  },
  {
   "cell_type": "code",
   "execution_count": 18,
   "id": "91998e6f",
   "metadata": {
    "execution": {
     "iopub.execute_input": "2023-02-24T10:58:49.281594Z",
     "iopub.status.busy": "2023-02-24T10:58:49.281167Z",
     "iopub.status.idle": "2023-02-24T10:59:01.066037Z",
     "shell.execute_reply": "2023-02-24T10:59:01.065389Z"
    }
   },
   "outputs": [
    {
     "name": "stdout",
     "output_type": "stream",
     "text": [
      "145 µs ± 216 ns per loop (mean ± std. dev. of 7 runs, 10,000 loops each)\n"
     ]
    }
   ],
   "source": [
    "b3 = Batch(**_TREE_DATA_3)\n",
    "%timeit copy.deepcopy(b3)"
   ]
  },
  {
   "cell_type": "markdown",
   "id": "223162fb",
   "metadata": {},
   "source": [
    "## Stack, Concat and Split Operation"
   ]
  },
  {
   "cell_type": "markdown",
   "id": "85fa4a73",
   "metadata": {},
   "source": [
    "### Performance of TreeValue"
   ]
  },
  {
   "cell_type": "code",
   "execution_count": 19,
   "id": "a0c2b697",
   "metadata": {
    "execution": {
     "iopub.execute_input": "2023-02-24T10:59:01.069342Z",
     "iopub.status.busy": "2023-02-24T10:59:01.068792Z",
     "iopub.status.idle": "2023-02-24T10:59:01.072570Z",
     "shell.execute_reply": "2023-02-24T10:59:01.071832Z"
    }
   },
   "outputs": [],
   "source": [
    "trees = [FastTreeValue(_TREE_DATA_2) for _ in range(8)]"
   ]
  },
  {
   "cell_type": "code",
   "execution_count": 20,
   "id": "017ea5a5",
   "metadata": {
    "execution": {
     "iopub.execute_input": "2023-02-24T10:59:01.075757Z",
     "iopub.status.busy": "2023-02-24T10:59:01.075218Z",
     "iopub.status.idle": "2023-02-24T10:59:01.083002Z",
     "shell.execute_reply": "2023-02-24T10:59:01.082308Z"
    }
   },
   "outputs": [
    {
     "data": {
      "text/plain": [
       "<FastTreeValue 0x7f5034441b50>\n",
       "├── 'a' --> tensor([[[-0.5279, -0.9637,  0.3995],\n",
       "│                    [ 0.4365,  1.7275, -0.4130]],\n",
       "│           \n",
       "│                   [[-0.5279, -0.9637,  0.3995],\n",
       "│                    [ 0.4365,  1.7275, -0.4130]],\n",
       "│           \n",
       "│                   [[-0.5279, -0.9637,  0.3995],\n",
       "│                    [ 0.4365,  1.7275, -0.4130]],\n",
       "│           \n",
       "│                   [[-0.5279, -0.9637,  0.3995],\n",
       "│                    [ 0.4365,  1.7275, -0.4130]],\n",
       "│           \n",
       "│                   [[-0.5279, -0.9637,  0.3995],\n",
       "│                    [ 0.4365,  1.7275, -0.4130]],\n",
       "│           \n",
       "│                   [[-0.5279, -0.9637,  0.3995],\n",
       "│                    [ 0.4365,  1.7275, -0.4130]],\n",
       "│           \n",
       "│                   [[-0.5279, -0.9637,  0.3995],\n",
       "│                    [ 0.4365,  1.7275, -0.4130]],\n",
       "│           \n",
       "│                   [[-0.5279, -0.9637,  0.3995],\n",
       "│                    [ 0.4365,  1.7275, -0.4130]]])\n",
       "└── 'x' --> <FastTreeValue 0x7f50344417f0>\n",
       "    └── 'c' --> tensor([[[ 0.6316,  0.6617, -0.3891,  0.0374],\n",
       "                         [ 0.2490, -0.5090, -0.8779, -1.3474],\n",
       "                         [ 0.5837, -0.0588,  1.4873, -0.1726]],\n",
       "                \n",
       "                        [[ 0.6316,  0.6617, -0.3891,  0.0374],\n",
       "                         [ 0.2490, -0.5090, -0.8779, -1.3474],\n",
       "                         [ 0.5837, -0.0588,  1.4873, -0.1726]],\n",
       "                \n",
       "                        [[ 0.6316,  0.6617, -0.3891,  0.0374],\n",
       "                         [ 0.2490, -0.5090, -0.8779, -1.3474],\n",
       "                         [ 0.5837, -0.0588,  1.4873, -0.1726]],\n",
       "                \n",
       "                        [[ 0.6316,  0.6617, -0.3891,  0.0374],\n",
       "                         [ 0.2490, -0.5090, -0.8779, -1.3474],\n",
       "                         [ 0.5837, -0.0588,  1.4873, -0.1726]],\n",
       "                \n",
       "                        [[ 0.6316,  0.6617, -0.3891,  0.0374],\n",
       "                         [ 0.2490, -0.5090, -0.8779, -1.3474],\n",
       "                         [ 0.5837, -0.0588,  1.4873, -0.1726]],\n",
       "                \n",
       "                        [[ 0.6316,  0.6617, -0.3891,  0.0374],\n",
       "                         [ 0.2490, -0.5090, -0.8779, -1.3474],\n",
       "                         [ 0.5837, -0.0588,  1.4873, -0.1726]],\n",
       "                \n",
       "                        [[ 0.6316,  0.6617, -0.3891,  0.0374],\n",
       "                         [ 0.2490, -0.5090, -0.8779, -1.3474],\n",
       "                         [ 0.5837, -0.0588,  1.4873, -0.1726]],\n",
       "                \n",
       "                        [[ 0.6316,  0.6617, -0.3891,  0.0374],\n",
       "                         [ 0.2490, -0.5090, -0.8779, -1.3474],\n",
       "                         [ 0.5837, -0.0588,  1.4873, -0.1726]]])"
      ]
     },
     "execution_count": 20,
     "metadata": {},
     "output_type": "execute_result"
    }
   ],
   "source": [
    "t_stack = FastTreeValue.func(subside=True)(torch.stack)\n",
    "\n",
    "t_stack(trees)"
   ]
  },
  {
   "cell_type": "code",
   "execution_count": 21,
   "id": "f8b3f415",
   "metadata": {
    "execution": {
     "iopub.execute_input": "2023-02-24T10:59:01.085717Z",
     "iopub.status.busy": "2023-02-24T10:59:01.085351Z",
     "iopub.status.idle": "2023-02-24T10:59:03.718216Z",
     "shell.execute_reply": "2023-02-24T10:59:03.717196Z"
    }
   },
   "outputs": [
    {
     "name": "stdout",
     "output_type": "stream",
     "text": [
      "32.4 µs ± 69.5 ns per loop (mean ± std. dev. of 7 runs, 10,000 loops each)\n"
     ]
    }
   ],
   "source": [
    "%timeit t_stack(trees)"
   ]
  },
  {
   "cell_type": "code",
   "execution_count": 22,
   "id": "94b56771",
   "metadata": {
    "execution": {
     "iopub.execute_input": "2023-02-24T10:59:03.721408Z",
     "iopub.status.busy": "2023-02-24T10:59:03.720993Z",
     "iopub.status.idle": "2023-02-24T10:59:03.728644Z",
     "shell.execute_reply": "2023-02-24T10:59:03.727938Z"
    }
   },
   "outputs": [
    {
     "data": {
      "text/plain": [
       "<FastTreeValue 0x7f5058f55310>\n",
       "├── 'a' --> tensor([[-0.5279, -0.9637,  0.3995],\n",
       "│                   [ 0.4365,  1.7275, -0.4130],\n",
       "│                   [-0.5279, -0.9637,  0.3995],\n",
       "│                   [ 0.4365,  1.7275, -0.4130],\n",
       "│                   [-0.5279, -0.9637,  0.3995],\n",
       "│                   [ 0.4365,  1.7275, -0.4130],\n",
       "│                   [-0.5279, -0.9637,  0.3995],\n",
       "│                   [ 0.4365,  1.7275, -0.4130],\n",
       "│                   [-0.5279, -0.9637,  0.3995],\n",
       "│                   [ 0.4365,  1.7275, -0.4130],\n",
       "│                   [-0.5279, -0.9637,  0.3995],\n",
       "│                   [ 0.4365,  1.7275, -0.4130],\n",
       "│                   [-0.5279, -0.9637,  0.3995],\n",
       "│                   [ 0.4365,  1.7275, -0.4130],\n",
       "│                   [-0.5279, -0.9637,  0.3995],\n",
       "│                   [ 0.4365,  1.7275, -0.4130]])\n",
       "└── 'x' --> <FastTreeValue 0x7f50344410a0>\n",
       "    └── 'c' --> tensor([[ 0.6316,  0.6617, -0.3891,  0.0374],\n",
       "                        [ 0.2490, -0.5090, -0.8779, -1.3474],\n",
       "                        [ 0.5837, -0.0588,  1.4873, -0.1726],\n",
       "                        [ 0.6316,  0.6617, -0.3891,  0.0374],\n",
       "                        [ 0.2490, -0.5090, -0.8779, -1.3474],\n",
       "                        [ 0.5837, -0.0588,  1.4873, -0.1726],\n",
       "                        [ 0.6316,  0.6617, -0.3891,  0.0374],\n",
       "                        [ 0.2490, -0.5090, -0.8779, -1.3474],\n",
       "                        [ 0.5837, -0.0588,  1.4873, -0.1726],\n",
       "                        [ 0.6316,  0.6617, -0.3891,  0.0374],\n",
       "                        [ 0.2490, -0.5090, -0.8779, -1.3474],\n",
       "                        [ 0.5837, -0.0588,  1.4873, -0.1726],\n",
       "                        [ 0.6316,  0.6617, -0.3891,  0.0374],\n",
       "                        [ 0.2490, -0.5090, -0.8779, -1.3474],\n",
       "                        [ 0.5837, -0.0588,  1.4873, -0.1726],\n",
       "                        [ 0.6316,  0.6617, -0.3891,  0.0374],\n",
       "                        [ 0.2490, -0.5090, -0.8779, -1.3474],\n",
       "                        [ 0.5837, -0.0588,  1.4873, -0.1726],\n",
       "                        [ 0.6316,  0.6617, -0.3891,  0.0374],\n",
       "                        [ 0.2490, -0.5090, -0.8779, -1.3474],\n",
       "                        [ 0.5837, -0.0588,  1.4873, -0.1726],\n",
       "                        [ 0.6316,  0.6617, -0.3891,  0.0374],\n",
       "                        [ 0.2490, -0.5090, -0.8779, -1.3474],\n",
       "                        [ 0.5837, -0.0588,  1.4873, -0.1726]])"
      ]
     },
     "execution_count": 22,
     "metadata": {},
     "output_type": "execute_result"
    }
   ],
   "source": [
    "t_cat = FastTreeValue.func(subside=True)(torch.cat)\n",
    "\n",
    "t_cat(trees)"
   ]
  },
  {
   "cell_type": "code",
   "execution_count": 23,
   "id": "5e9c06a6",
   "metadata": {
    "execution": {
     "iopub.execute_input": "2023-02-24T10:59:03.731296Z",
     "iopub.status.busy": "2023-02-24T10:59:03.730920Z",
     "iopub.status.idle": "2023-02-24T10:59:06.165682Z",
     "shell.execute_reply": "2023-02-24T10:59:06.164789Z"
    }
   },
   "outputs": [
    {
     "name": "stdout",
     "output_type": "stream",
     "text": [
      "29.9 µs ± 49.5 ns per loop (mean ± std. dev. of 7 runs, 10,000 loops each)\n"
     ]
    }
   ],
   "source": [
    "%timeit t_cat(trees)"
   ]
  },
  {
   "cell_type": "code",
   "execution_count": 24,
   "id": "a3ab5c8f",
   "metadata": {
    "execution": {
     "iopub.execute_input": "2023-02-24T10:59:06.169143Z",
     "iopub.status.busy": "2023-02-24T10:59:06.168526Z",
     "iopub.status.idle": "2023-02-24T10:59:10.850276Z",
     "shell.execute_reply": "2023-02-24T10:59:10.849436Z"
    }
   },
   "outputs": [
    {
     "name": "stdout",
     "output_type": "stream",
     "text": [
      "57.6 µs ± 47.2 ns per loop (mean ± std. dev. of 7 runs, 10,000 loops each)\n"
     ]
    }
   ],
   "source": [
    "t_split = FastTreeValue.func(rise=True)(torch.split)\n",
    "tree = FastTreeValue({\n",
    "    'obs': torch.randn(8, 4, 84, 84),\n",
    "    'action': torch.randint(0, 6, size=(8, 1,)),\n",
    "    'reward': torch.rand(8, 1),\n",
    "})\n",
    "\n",
    "%timeit t_split(tree, 1)"
   ]
  },
  {
   "cell_type": "markdown",
   "id": "31c3ec0b",
   "metadata": {},
   "source": [
    "### Performance of Tianshou Batch"
   ]
  },
  {
   "cell_type": "code",
   "execution_count": 25,
   "id": "9ead828a",
   "metadata": {
    "execution": {
     "iopub.execute_input": "2023-02-24T10:59:10.853650Z",
     "iopub.status.busy": "2023-02-24T10:59:10.853215Z",
     "iopub.status.idle": "2023-02-24T10:59:10.861123Z",
     "shell.execute_reply": "2023-02-24T10:59:10.860413Z"
    }
   },
   "outputs": [
    {
     "data": {
      "text/plain": [
       "Batch(\n",
       "    a: tensor([[[-0.5279, -0.9637,  0.3995],\n",
       "                [ 0.4365,  1.7275, -0.4130]],\n",
       "       \n",
       "               [[-0.5279, -0.9637,  0.3995],\n",
       "                [ 0.4365,  1.7275, -0.4130]],\n",
       "       \n",
       "               [[-0.5279, -0.9637,  0.3995],\n",
       "                [ 0.4365,  1.7275, -0.4130]],\n",
       "       \n",
       "               [[-0.5279, -0.9637,  0.3995],\n",
       "                [ 0.4365,  1.7275, -0.4130]],\n",
       "       \n",
       "               [[-0.5279, -0.9637,  0.3995],\n",
       "                [ 0.4365,  1.7275, -0.4130]],\n",
       "       \n",
       "               [[-0.5279, -0.9637,  0.3995],\n",
       "                [ 0.4365,  1.7275, -0.4130]],\n",
       "       \n",
       "               [[-0.5279, -0.9637,  0.3995],\n",
       "                [ 0.4365,  1.7275, -0.4130]],\n",
       "       \n",
       "               [[-0.5279, -0.9637,  0.3995],\n",
       "                [ 0.4365,  1.7275, -0.4130]]]),\n",
       "    x: Batch(\n",
       "           c: tensor([[[ 0.6316,  0.6617, -0.3891,  0.0374],\n",
       "                       [ 0.2490, -0.5090, -0.8779, -1.3474],\n",
       "                       [ 0.5837, -0.0588,  1.4873, -0.1726]],\n",
       "              \n",
       "                      [[ 0.6316,  0.6617, -0.3891,  0.0374],\n",
       "                       [ 0.2490, -0.5090, -0.8779, -1.3474],\n",
       "                       [ 0.5837, -0.0588,  1.4873, -0.1726]],\n",
       "              \n",
       "                      [[ 0.6316,  0.6617, -0.3891,  0.0374],\n",
       "                       [ 0.2490, -0.5090, -0.8779, -1.3474],\n",
       "                       [ 0.5837, -0.0588,  1.4873, -0.1726]],\n",
       "              \n",
       "                      [[ 0.6316,  0.6617, -0.3891,  0.0374],\n",
       "                       [ 0.2490, -0.5090, -0.8779, -1.3474],\n",
       "                       [ 0.5837, -0.0588,  1.4873, -0.1726]],\n",
       "              \n",
       "                      [[ 0.6316,  0.6617, -0.3891,  0.0374],\n",
       "                       [ 0.2490, -0.5090, -0.8779, -1.3474],\n",
       "                       [ 0.5837, -0.0588,  1.4873, -0.1726]],\n",
       "              \n",
       "                      [[ 0.6316,  0.6617, -0.3891,  0.0374],\n",
       "                       [ 0.2490, -0.5090, -0.8779, -1.3474],\n",
       "                       [ 0.5837, -0.0588,  1.4873, -0.1726]],\n",
       "              \n",
       "                      [[ 0.6316,  0.6617, -0.3891,  0.0374],\n",
       "                       [ 0.2490, -0.5090, -0.8779, -1.3474],\n",
       "                       [ 0.5837, -0.0588,  1.4873, -0.1726]],\n",
       "              \n",
       "                      [[ 0.6316,  0.6617, -0.3891,  0.0374],\n",
       "                       [ 0.2490, -0.5090, -0.8779, -1.3474],\n",
       "                       [ 0.5837, -0.0588,  1.4873, -0.1726]]]),\n",
       "       ),\n",
       ")"
      ]
     },
     "execution_count": 25,
     "metadata": {},
     "output_type": "execute_result"
    }
   ],
   "source": [
    "batches = [Batch(**_TREE_DATA_2) for _ in range(8)]\n",
    "\n",
    "Batch.stack(batches)"
   ]
  },
  {
   "cell_type": "code",
   "execution_count": 26,
   "id": "ec9037a3",
   "metadata": {
    "execution": {
     "iopub.execute_input": "2023-02-24T10:59:10.864157Z",
     "iopub.status.busy": "2023-02-24T10:59:10.863597Z",
     "iopub.status.idle": "2023-02-24T10:59:17.414154Z",
     "shell.execute_reply": "2023-02-24T10:59:17.413263Z"
    }
   },
   "outputs": [
    {
     "name": "stdout",
     "output_type": "stream",
     "text": [
      "80.6 µs ± 114 ns per loop (mean ± std. dev. of 7 runs, 10,000 loops each)\n"
     ]
    }
   ],
   "source": [
    "%timeit Batch.stack(batches)"
   ]
  },
  {
   "cell_type": "code",
   "execution_count": 27,
   "id": "cb8ab77e",
   "metadata": {
    "execution": {
     "iopub.execute_input": "2023-02-24T10:59:17.417905Z",
     "iopub.status.busy": "2023-02-24T10:59:17.417480Z",
     "iopub.status.idle": "2023-02-24T10:59:17.424737Z",
     "shell.execute_reply": "2023-02-24T10:59:17.424062Z"
    }
   },
   "outputs": [
    {
     "data": {
      "text/plain": [
       "Batch(\n",
       "    a: tensor([[-0.5279, -0.9637,  0.3995],\n",
       "               [ 0.4365,  1.7275, -0.4130],\n",
       "               [-0.5279, -0.9637,  0.3995],\n",
       "               [ 0.4365,  1.7275, -0.4130],\n",
       "               [-0.5279, -0.9637,  0.3995],\n",
       "               [ 0.4365,  1.7275, -0.4130],\n",
       "               [-0.5279, -0.9637,  0.3995],\n",
       "               [ 0.4365,  1.7275, -0.4130],\n",
       "               [-0.5279, -0.9637,  0.3995],\n",
       "               [ 0.4365,  1.7275, -0.4130],\n",
       "               [-0.5279, -0.9637,  0.3995],\n",
       "               [ 0.4365,  1.7275, -0.4130],\n",
       "               [-0.5279, -0.9637,  0.3995],\n",
       "               [ 0.4365,  1.7275, -0.4130],\n",
       "               [-0.5279, -0.9637,  0.3995],\n",
       "               [ 0.4365,  1.7275, -0.4130]]),\n",
       "    x: Batch(\n",
       "           c: tensor([[ 0.6316,  0.6617, -0.3891,  0.0374],\n",
       "                      [ 0.2490, -0.5090, -0.8779, -1.3474],\n",
       "                      [ 0.5837, -0.0588,  1.4873, -0.1726],\n",
       "                      [ 0.6316,  0.6617, -0.3891,  0.0374],\n",
       "                      [ 0.2490, -0.5090, -0.8779, -1.3474],\n",
       "                      [ 0.5837, -0.0588,  1.4873, -0.1726],\n",
       "                      [ 0.6316,  0.6617, -0.3891,  0.0374],\n",
       "                      [ 0.2490, -0.5090, -0.8779, -1.3474],\n",
       "                      [ 0.5837, -0.0588,  1.4873, -0.1726],\n",
       "                      [ 0.6316,  0.6617, -0.3891,  0.0374],\n",
       "                      [ 0.2490, -0.5090, -0.8779, -1.3474],\n",
       "                      [ 0.5837, -0.0588,  1.4873, -0.1726],\n",
       "                      [ 0.6316,  0.6617, -0.3891,  0.0374],\n",
       "                      [ 0.2490, -0.5090, -0.8779, -1.3474],\n",
       "                      [ 0.5837, -0.0588,  1.4873, -0.1726],\n",
       "                      [ 0.6316,  0.6617, -0.3891,  0.0374],\n",
       "                      [ 0.2490, -0.5090, -0.8779, -1.3474],\n",
       "                      [ 0.5837, -0.0588,  1.4873, -0.1726],\n",
       "                      [ 0.6316,  0.6617, -0.3891,  0.0374],\n",
       "                      [ 0.2490, -0.5090, -0.8779, -1.3474],\n",
       "                      [ 0.5837, -0.0588,  1.4873, -0.1726],\n",
       "                      [ 0.6316,  0.6617, -0.3891,  0.0374],\n",
       "                      [ 0.2490, -0.5090, -0.8779, -1.3474],\n",
       "                      [ 0.5837, -0.0588,  1.4873, -0.1726]]),\n",
       "       ),\n",
       ")"
      ]
     },
     "execution_count": 27,
     "metadata": {},
     "output_type": "execute_result"
    }
   ],
   "source": [
    "Batch.cat(batches)"
   ]
  },
  {
   "cell_type": "code",
   "execution_count": 28,
   "id": "18dfb045",
   "metadata": {
    "execution": {
     "iopub.execute_input": "2023-02-24T10:59:17.427895Z",
     "iopub.status.busy": "2023-02-24T10:59:17.427437Z",
     "iopub.status.idle": "2023-02-24T10:59:29.311025Z",
     "shell.execute_reply": "2023-02-24T10:59:29.310140Z"
    }
   },
   "outputs": [
    {
     "name": "stdout",
     "output_type": "stream",
     "text": [
      "146 µs ± 226 ns per loop (mean ± std. dev. of 7 runs, 10,000 loops each)\n"
     ]
    }
   ],
   "source": [
    "%timeit Batch.cat(batches)"
   ]
  },
  {
   "cell_type": "code",
   "execution_count": 29,
   "id": "c6688e51",
   "metadata": {
    "execution": {
     "iopub.execute_input": "2023-02-24T10:59:29.314808Z",
     "iopub.status.busy": "2023-02-24T10:59:29.314324Z",
     "iopub.status.idle": "2023-02-24T10:59:31.982853Z",
     "shell.execute_reply": "2023-02-24T10:59:31.982012Z"
    }
   },
   "outputs": [
    {
     "name": "stdout",
     "output_type": "stream",
     "text": [
      "328 µs ± 1.21 µs per loop (mean ± std. dev. of 7 runs, 1,000 loops each)\n"
     ]
    }
   ],
   "source": [
    "batch = Batch({\n",
    "    'obs': torch.randn(8, 4, 84, 84),\n",
    "    'action': torch.randint(0, 6, size=(8, 1,)),\n",
    "    'reward': torch.rand(8, 1)}\n",
    ")\n",
    "\n",
    "%timeit list(Batch.split(batch, 1, shuffle=False, merge_last=True))"
   ]
  },
  {
   "cell_type": "code",
   "execution_count": null,
   "id": "2539fbd9",
   "metadata": {},
   "outputs": [],
   "source": []
  }
 ],
 "metadata": {
  "kernelspec": {
   "display_name": "Python 3 (ipykernel)",
   "language": "python",
   "name": "python3"
  },
  "language_info": {
   "codemirror_mode": {
    "name": "ipython",
    "version": 3
   },
   "file_extension": ".py",
   "mimetype": "text/x-python",
   "name": "python",
   "nbconvert_exporter": "python",
   "pygments_lexer": "ipython3",
   "version": "3.8.16"
  }
 },
 "nbformat": 4,
 "nbformat_minor": 5
}
