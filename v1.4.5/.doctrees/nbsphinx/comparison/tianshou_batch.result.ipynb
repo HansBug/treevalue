{
 "cells": [
  {
   "cell_type": "markdown",
   "id": "9d39d946",
   "metadata": {},
   "source": [
    "# Comparison Between TreeValue and Tianshou Batch"
   ]
  },
  {
   "cell_type": "markdown",
   "id": "3c6db2d4",
   "metadata": {},
   "source": [
    "In this section, we will take a look at the feature and performance of the [Tianshou Batch](https://github.com/thu-ml/tianshou) library, which is developed by Tsinghua Machine Learning Group."
   ]
  },
  {
   "cell_type": "markdown",
   "id": "069361b0",
   "metadata": {},
   "source": [
    "Before starting the comparison, let us define some thing."
   ]
  },
  {
   "cell_type": "code",
   "execution_count": 1,
   "id": "06fc8d26",
   "metadata": {
    "execution": {
     "iopub.execute_input": "2023-02-23T14:05:32.339737Z",
     "iopub.status.busy": "2023-02-23T14:05:32.338429Z",
     "iopub.status.idle": "2023-02-23T14:05:33.348544Z",
     "shell.execute_reply": "2023-02-23T14:05:33.347722Z"
    }
   },
   "outputs": [
    {
     "name": "stderr",
     "output_type": "stream",
     "text": [
      "/opt/hostedtoolcache/Python/3.8.16/x64/lib/python3.8/site-packages/tqdm/auto.py:22: TqdmWarning: IProgress not found. Please update jupyter and ipywidgets. See https://ipywidgets.readthedocs.io/en/stable/user_install.html\n",
      "  from .autonotebook import tqdm as notebook_tqdm\n"
     ]
    }
   ],
   "source": [
    "import torch \n",
    "\n",
    "_TREE_DATA_1 = {'a': 1, 'b': 2, 'x': {'c': 3, 'd': 4}}\n",
    "_TREE_DATA_2 = {\n",
    "    'a': torch.randn(2, 3), \n",
    "    'x': {\n",
    "        'c': torch.randn(3, 4)\n",
    "    },\n",
    "}\n",
    "_TREE_DATA_3 = {\n",
    "    'obs': torch.randn(4, 84, 84),\n",
    "    'action': torch.randint(0, 6, size=(1,)),\n",
    "    'reward': torch.rand(1),\n",
    "}"
   ]
  },
  {
   "cell_type": "markdown",
   "id": "83461b25",
   "metadata": {},
   "source": [
    "## Read and Write Operation"
   ]
  },
  {
   "cell_type": "markdown",
   "id": "067b3f73",
   "metadata": {},
   "source": [
    "Reading and writing are the two most common operations in the tree data structure based on the data model (TreeValue and Tianshou Batch both belong to this type), so this section will compare the reading and writing performance of these two libraries."
   ]
  },
  {
   "cell_type": "markdown",
   "id": "5d09a5b7",
   "metadata": {},
   "source": [
    "### TreeValue's Get and Set"
   ]
  },
  {
   "cell_type": "code",
   "execution_count": 2,
   "id": "9519c4bb",
   "metadata": {
    "execution": {
     "iopub.execute_input": "2023-02-23T14:05:33.353030Z",
     "iopub.status.busy": "2023-02-23T14:05:33.352160Z",
     "iopub.status.idle": "2023-02-23T14:05:33.387399Z",
     "shell.execute_reply": "2023-02-23T14:05:33.386645Z"
    }
   },
   "outputs": [],
   "source": [
    "from treevalue import FastTreeValue\n",
    "\n",
    "t = FastTreeValue(_TREE_DATA_2)"
   ]
  },
  {
   "cell_type": "code",
   "execution_count": 3,
   "id": "11c37677",
   "metadata": {
    "execution": {
     "iopub.execute_input": "2023-02-23T14:05:33.390889Z",
     "iopub.status.busy": "2023-02-23T14:05:33.390416Z",
     "iopub.status.idle": "2023-02-23T14:05:33.400626Z",
     "shell.execute_reply": "2023-02-23T14:05:33.399943Z"
    }
   },
   "outputs": [
    {
     "data": {
      "text/plain": [
       "<FastTreeValue 0x7f87209d9b20>\n",
       "├── 'a' --> tensor([[ 0.1419,  0.4819, -0.3666],\n",
       "│                   [ 0.7945,  1.1199, -0.6234]])\n",
       "└── 'x' --> <FastTreeValue 0x7f87209d97c0>\n",
       "    └── 'c' --> tensor([[-0.6200,  0.9693, -1.9223, -0.2201],\n",
       "                        [-0.2874,  0.0637, -1.5766,  0.8183],\n",
       "                        [ 1.8783, -0.5559, -0.0795, -0.3217]])"
      ]
     },
     "execution_count": 3,
     "metadata": {},
     "output_type": "execute_result"
    }
   ],
   "source": [
    "t"
   ]
  },
  {
   "cell_type": "code",
   "execution_count": 4,
   "id": "fd70b0b9",
   "metadata": {
    "execution": {
     "iopub.execute_input": "2023-02-23T14:05:33.403603Z",
     "iopub.status.busy": "2023-02-23T14:05:33.403227Z",
     "iopub.status.idle": "2023-02-23T14:05:33.409774Z",
     "shell.execute_reply": "2023-02-23T14:05:33.409182Z"
    }
   },
   "outputs": [
    {
     "data": {
      "text/plain": [
       "tensor([[ 0.1419,  0.4819, -0.3666],\n",
       "        [ 0.7945,  1.1199, -0.6234]])"
      ]
     },
     "execution_count": 4,
     "metadata": {},
     "output_type": "execute_result"
    }
   ],
   "source": [
    "t.a"
   ]
  },
  {
   "cell_type": "code",
   "execution_count": 5,
   "id": "c18197bd",
   "metadata": {
    "execution": {
     "iopub.execute_input": "2023-02-23T14:05:33.413028Z",
     "iopub.status.busy": "2023-02-23T14:05:33.412451Z",
     "iopub.status.idle": "2023-02-23T14:05:38.600091Z",
     "shell.execute_reply": "2023-02-23T14:05:38.599220Z"
    }
   },
   "outputs": [
    {
     "name": "stdout",
     "output_type": "stream",
     "text": [
      "63.9 ns ± 0.0388 ns per loop (mean ± std. dev. of 7 runs, 10,000,000 loops each)\n"
     ]
    }
   ],
   "source": [
    "%timeit t.a"
   ]
  },
  {
   "cell_type": "code",
   "execution_count": 6,
   "id": "bd52f867",
   "metadata": {
    "execution": {
     "iopub.execute_input": "2023-02-23T14:05:38.603323Z",
     "iopub.status.busy": "2023-02-23T14:05:38.602921Z",
     "iopub.status.idle": "2023-02-23T14:05:38.610298Z",
     "shell.execute_reply": "2023-02-23T14:05:38.609673Z"
    }
   },
   "outputs": [
    {
     "data": {
      "text/plain": [
       "<FastTreeValue 0x7f87209d9b20>\n",
       "├── 'a' --> tensor([[ 0.1757,  0.3606, -1.5256],\n",
       "│                   [-0.1950,  0.5269,  0.6023]])\n",
       "└── 'x' --> <FastTreeValue 0x7f87209d97c0>\n",
       "    └── 'c' --> tensor([[-0.6200,  0.9693, -1.9223, -0.2201],\n",
       "                        [-0.2874,  0.0637, -1.5766,  0.8183],\n",
       "                        [ 1.8783, -0.5559, -0.0795, -0.3217]])"
      ]
     },
     "execution_count": 6,
     "metadata": {},
     "output_type": "execute_result"
    }
   ],
   "source": [
    "new_value = torch.randn(2, 3)\n",
    "t.a = new_value\n",
    "\n",
    "t"
   ]
  },
  {
   "cell_type": "code",
   "execution_count": 7,
   "id": "bbe04d1c",
   "metadata": {
    "execution": {
     "iopub.execute_input": "2023-02-23T14:05:38.613089Z",
     "iopub.status.busy": "2023-02-23T14:05:38.612712Z",
     "iopub.status.idle": "2023-02-23T14:05:44.015620Z",
     "shell.execute_reply": "2023-02-23T14:05:44.014734Z"
    }
   },
   "outputs": [
    {
     "name": "stdout",
     "output_type": "stream",
     "text": [
      "66.5 ns ± 0.0734 ns per loop (mean ± std. dev. of 7 runs, 10,000,000 loops each)\n"
     ]
    }
   ],
   "source": [
    "%timeit t.a = new_value"
   ]
  },
  {
   "cell_type": "markdown",
   "id": "48c49731",
   "metadata": {},
   "source": [
    "### Tianshou Batch's Get and Set"
   ]
  },
  {
   "cell_type": "code",
   "execution_count": 8,
   "id": "f1bb14c1",
   "metadata": {
    "execution": {
     "iopub.execute_input": "2023-02-23T14:05:44.019210Z",
     "iopub.status.busy": "2023-02-23T14:05:44.018769Z",
     "iopub.status.idle": "2023-02-23T14:05:44.384272Z",
     "shell.execute_reply": "2023-02-23T14:05:44.383507Z"
    }
   },
   "outputs": [],
   "source": [
    "from tianshou.data import Batch\n",
    "\n",
    "b = Batch(**_TREE_DATA_2)"
   ]
  },
  {
   "cell_type": "code",
   "execution_count": 9,
   "id": "cb0777c3",
   "metadata": {
    "execution": {
     "iopub.execute_input": "2023-02-23T14:05:44.387954Z",
     "iopub.status.busy": "2023-02-23T14:05:44.387455Z",
     "iopub.status.idle": "2023-02-23T14:05:44.393993Z",
     "shell.execute_reply": "2023-02-23T14:05:44.393392Z"
    }
   },
   "outputs": [
    {
     "data": {
      "text/plain": [
       "Batch(\n",
       "    a: tensor([[ 0.1419,  0.4819, -0.3666],\n",
       "               [ 0.7945,  1.1199, -0.6234]]),\n",
       "    x: Batch(\n",
       "           c: tensor([[-0.6200,  0.9693, -1.9223, -0.2201],\n",
       "                      [-0.2874,  0.0637, -1.5766,  0.8183],\n",
       "                      [ 1.8783, -0.5559, -0.0795, -0.3217]]),\n",
       "       ),\n",
       ")"
      ]
     },
     "execution_count": 9,
     "metadata": {},
     "output_type": "execute_result"
    }
   ],
   "source": [
    "b"
   ]
  },
  {
   "cell_type": "code",
   "execution_count": 10,
   "id": "43ef8ea3",
   "metadata": {
    "execution": {
     "iopub.execute_input": "2023-02-23T14:05:44.397001Z",
     "iopub.status.busy": "2023-02-23T14:05:44.396596Z",
     "iopub.status.idle": "2023-02-23T14:05:44.402283Z",
     "shell.execute_reply": "2023-02-23T14:05:44.401686Z"
    }
   },
   "outputs": [
    {
     "data": {
      "text/plain": [
       "tensor([[ 0.1419,  0.4819, -0.3666],\n",
       "        [ 0.7945,  1.1199, -0.6234]])"
      ]
     },
     "execution_count": 10,
     "metadata": {},
     "output_type": "execute_result"
    }
   ],
   "source": [
    "b.a"
   ]
  },
  {
   "cell_type": "code",
   "execution_count": 11,
   "id": "b785ab72",
   "metadata": {
    "execution": {
     "iopub.execute_input": "2023-02-23T14:05:44.404978Z",
     "iopub.status.busy": "2023-02-23T14:05:44.404752Z",
     "iopub.status.idle": "2023-02-23T14:05:49.204610Z",
     "shell.execute_reply": "2023-02-23T14:05:49.203796Z"
    }
   },
   "outputs": [
    {
     "name": "stdout",
     "output_type": "stream",
     "text": [
      "59.1 ns ± 0.0227 ns per loop (mean ± std. dev. of 7 runs, 10,000,000 loops each)\n"
     ]
    }
   ],
   "source": [
    "%timeit b.a"
   ]
  },
  {
   "cell_type": "code",
   "execution_count": 12,
   "id": "ad54dc69",
   "metadata": {
    "execution": {
     "iopub.execute_input": "2023-02-23T14:05:49.208455Z",
     "iopub.status.busy": "2023-02-23T14:05:49.207798Z",
     "iopub.status.idle": "2023-02-23T14:05:49.215969Z",
     "shell.execute_reply": "2023-02-23T14:05:49.215355Z"
    }
   },
   "outputs": [
    {
     "data": {
      "text/plain": [
       "Batch(\n",
       "    a: tensor([[-1.2322,  0.2796, -1.3125],\n",
       "               [-0.0539, -1.2644, -0.9046]]),\n",
       "    x: Batch(\n",
       "           c: tensor([[-0.6200,  0.9693, -1.9223, -0.2201],\n",
       "                      [-0.2874,  0.0637, -1.5766,  0.8183],\n",
       "                      [ 1.8783, -0.5559, -0.0795, -0.3217]]),\n",
       "       ),\n",
       ")"
      ]
     },
     "execution_count": 12,
     "metadata": {},
     "output_type": "execute_result"
    }
   ],
   "source": [
    "new_value = torch.randn(2, 3)\n",
    "b.a = new_value\n",
    "\n",
    "b"
   ]
  },
  {
   "cell_type": "code",
   "execution_count": 13,
   "id": "29b1d0bf",
   "metadata": {
    "execution": {
     "iopub.execute_input": "2023-02-23T14:05:49.219064Z",
     "iopub.status.busy": "2023-02-23T14:05:49.218540Z",
     "iopub.status.idle": "2023-02-23T14:05:53.326592Z",
     "shell.execute_reply": "2023-02-23T14:05:53.325711Z"
    }
   },
   "outputs": [
    {
     "name": "stdout",
     "output_type": "stream",
     "text": [
      "507 ns ± 0.2 ns per loop (mean ± std. dev. of 7 runs, 1,000,000 loops each)\n"
     ]
    }
   ],
   "source": [
    "%timeit b.a = new_value"
   ]
  },
  {
   "cell_type": "markdown",
   "id": "b61ad1d0",
   "metadata": {},
   "source": [
    "## Initialization"
   ]
  },
  {
   "cell_type": "markdown",
   "id": "d70f0d54",
   "metadata": {},
   "source": [
    "### TreeValue's Initialization"
   ]
  },
  {
   "cell_type": "code",
   "execution_count": 14,
   "id": "d32a679b",
   "metadata": {
    "execution": {
     "iopub.execute_input": "2023-02-23T14:05:53.330592Z",
     "iopub.status.busy": "2023-02-23T14:05:53.329999Z",
     "iopub.status.idle": "2023-02-23T14:05:59.969484Z",
     "shell.execute_reply": "2023-02-23T14:05:59.968618Z"
    }
   },
   "outputs": [
    {
     "name": "stdout",
     "output_type": "stream",
     "text": [
      "815 ns ± 4.97 ns per loop (mean ± std. dev. of 7 runs, 1,000,000 loops each)\n"
     ]
    }
   ],
   "source": [
    "%timeit FastTreeValue(_TREE_DATA_1)"
   ]
  },
  {
   "cell_type": "markdown",
   "id": "24f3707b",
   "metadata": {},
   "source": [
    "### Tianshou Batch's Initialization"
   ]
  },
  {
   "cell_type": "code",
   "execution_count": 15,
   "id": "ac3958df",
   "metadata": {
    "execution": {
     "iopub.execute_input": "2023-02-23T14:05:59.973196Z",
     "iopub.status.busy": "2023-02-23T14:05:59.972750Z",
     "iopub.status.idle": "2023-02-23T14:06:08.860825Z",
     "shell.execute_reply": "2023-02-23T14:06:08.859962Z"
    }
   },
   "outputs": [
    {
     "name": "stdout",
     "output_type": "stream",
     "text": [
      "11 µs ± 32.1 ns per loop (mean ± std. dev. of 7 runs, 100,000 loops each)\n"
     ]
    }
   ],
   "source": [
    "%timeit Batch(**_TREE_DATA_1)"
   ]
  },
  {
   "cell_type": "markdown",
   "id": "1ab82e2d",
   "metadata": {},
   "source": [
    "## Deep Copy Operation"
   ]
  },
  {
   "cell_type": "code",
   "execution_count": 16,
   "id": "210a9442",
   "metadata": {
    "execution": {
     "iopub.execute_input": "2023-02-23T14:06:08.864619Z",
     "iopub.status.busy": "2023-02-23T14:06:08.864199Z",
     "iopub.status.idle": "2023-02-23T14:06:08.868635Z",
     "shell.execute_reply": "2023-02-23T14:06:08.867979Z"
    }
   },
   "outputs": [],
   "source": [
    "import copy"
   ]
  },
  {
   "cell_type": "markdown",
   "id": "5a736274",
   "metadata": {},
   "source": [
    "### Deep Copy of TreeValue"
   ]
  },
  {
   "cell_type": "code",
   "execution_count": 17,
   "id": "f9bcadd6",
   "metadata": {
    "execution": {
     "iopub.execute_input": "2023-02-23T14:06:08.871671Z",
     "iopub.status.busy": "2023-02-23T14:06:08.871025Z",
     "iopub.status.idle": "2023-02-23T14:06:20.267913Z",
     "shell.execute_reply": "2023-02-23T14:06:20.267164Z"
    }
   },
   "outputs": [
    {
     "name": "stdout",
     "output_type": "stream",
     "text": [
      "140 µs ± 286 ns per loop (mean ± std. dev. of 7 runs, 10,000 loops each)\n"
     ]
    }
   ],
   "source": [
    "t3 = FastTreeValue(_TREE_DATA_3)\n",
    "%timeit copy.deepcopy(t3)"
   ]
  },
  {
   "cell_type": "markdown",
   "id": "bf8be7ea",
   "metadata": {},
   "source": [
    "### Deep Copy of Tianshou Batch"
   ]
  },
  {
   "cell_type": "code",
   "execution_count": 18,
   "id": "91998e6f",
   "metadata": {
    "execution": {
     "iopub.execute_input": "2023-02-23T14:06:20.271628Z",
     "iopub.status.busy": "2023-02-23T14:06:20.271040Z",
     "iopub.status.idle": "2023-02-23T14:06:31.869633Z",
     "shell.execute_reply": "2023-02-23T14:06:31.869016Z"
    }
   },
   "outputs": [
    {
     "name": "stdout",
     "output_type": "stream",
     "text": [
      "142 µs ± 473 ns per loop (mean ± std. dev. of 7 runs, 10,000 loops each)\n"
     ]
    }
   ],
   "source": [
    "b3 = Batch(**_TREE_DATA_3)\n",
    "%timeit copy.deepcopy(b3)"
   ]
  },
  {
   "cell_type": "markdown",
   "id": "223162fb",
   "metadata": {},
   "source": [
    "## Stack, Concat and Split Operation"
   ]
  },
  {
   "cell_type": "markdown",
   "id": "85fa4a73",
   "metadata": {},
   "source": [
    "### Performance of TreeValue"
   ]
  },
  {
   "cell_type": "code",
   "execution_count": 19,
   "id": "a0c2b697",
   "metadata": {
    "execution": {
     "iopub.execute_input": "2023-02-23T14:06:31.872945Z",
     "iopub.status.busy": "2023-02-23T14:06:31.872268Z",
     "iopub.status.idle": "2023-02-23T14:06:31.875779Z",
     "shell.execute_reply": "2023-02-23T14:06:31.875229Z"
    }
   },
   "outputs": [],
   "source": [
    "trees = [FastTreeValue(_TREE_DATA_2) for _ in range(8)]"
   ]
  },
  {
   "cell_type": "code",
   "execution_count": 20,
   "id": "017ea5a5",
   "metadata": {
    "execution": {
     "iopub.execute_input": "2023-02-23T14:06:31.878484Z",
     "iopub.status.busy": "2023-02-23T14:06:31.877838Z",
     "iopub.status.idle": "2023-02-23T14:06:31.884949Z",
     "shell.execute_reply": "2023-02-23T14:06:31.884409Z"
    }
   },
   "outputs": [
    {
     "data": {
      "text/plain": [
       "<FastTreeValue 0x7f86f7edea30>\n",
       "├── 'a' --> tensor([[[ 0.1419,  0.4819, -0.3666],\n",
       "│                    [ 0.7945,  1.1199, -0.6234]],\n",
       "│           \n",
       "│                   [[ 0.1419,  0.4819, -0.3666],\n",
       "│                    [ 0.7945,  1.1199, -0.6234]],\n",
       "│           \n",
       "│                   [[ 0.1419,  0.4819, -0.3666],\n",
       "│                    [ 0.7945,  1.1199, -0.6234]],\n",
       "│           \n",
       "│                   [[ 0.1419,  0.4819, -0.3666],\n",
       "│                    [ 0.7945,  1.1199, -0.6234]],\n",
       "│           \n",
       "│                   [[ 0.1419,  0.4819, -0.3666],\n",
       "│                    [ 0.7945,  1.1199, -0.6234]],\n",
       "│           \n",
       "│                   [[ 0.1419,  0.4819, -0.3666],\n",
       "│                    [ 0.7945,  1.1199, -0.6234]],\n",
       "│           \n",
       "│                   [[ 0.1419,  0.4819, -0.3666],\n",
       "│                    [ 0.7945,  1.1199, -0.6234]],\n",
       "│           \n",
       "│                   [[ 0.1419,  0.4819, -0.3666],\n",
       "│                    [ 0.7945,  1.1199, -0.6234]]])\n",
       "└── 'x' --> <FastTreeValue 0x7f86f7ede3d0>\n",
       "    └── 'c' --> tensor([[[-0.6200,  0.9693, -1.9223, -0.2201],\n",
       "                         [-0.2874,  0.0637, -1.5766,  0.8183],\n",
       "                         [ 1.8783, -0.5559, -0.0795, -0.3217]],\n",
       "                \n",
       "                        [[-0.6200,  0.9693, -1.9223, -0.2201],\n",
       "                         [-0.2874,  0.0637, -1.5766,  0.8183],\n",
       "                         [ 1.8783, -0.5559, -0.0795, -0.3217]],\n",
       "                \n",
       "                        [[-0.6200,  0.9693, -1.9223, -0.2201],\n",
       "                         [-0.2874,  0.0637, -1.5766,  0.8183],\n",
       "                         [ 1.8783, -0.5559, -0.0795, -0.3217]],\n",
       "                \n",
       "                        [[-0.6200,  0.9693, -1.9223, -0.2201],\n",
       "                         [-0.2874,  0.0637, -1.5766,  0.8183],\n",
       "                         [ 1.8783, -0.5559, -0.0795, -0.3217]],\n",
       "                \n",
       "                        [[-0.6200,  0.9693, -1.9223, -0.2201],\n",
       "                         [-0.2874,  0.0637, -1.5766,  0.8183],\n",
       "                         [ 1.8783, -0.5559, -0.0795, -0.3217]],\n",
       "                \n",
       "                        [[-0.6200,  0.9693, -1.9223, -0.2201],\n",
       "                         [-0.2874,  0.0637, -1.5766,  0.8183],\n",
       "                         [ 1.8783, -0.5559, -0.0795, -0.3217]],\n",
       "                \n",
       "                        [[-0.6200,  0.9693, -1.9223, -0.2201],\n",
       "                         [-0.2874,  0.0637, -1.5766,  0.8183],\n",
       "                         [ 1.8783, -0.5559, -0.0795, -0.3217]],\n",
       "                \n",
       "                        [[-0.6200,  0.9693, -1.9223, -0.2201],\n",
       "                         [-0.2874,  0.0637, -1.5766,  0.8183],\n",
       "                         [ 1.8783, -0.5559, -0.0795, -0.3217]]])"
      ]
     },
     "execution_count": 20,
     "metadata": {},
     "output_type": "execute_result"
    }
   ],
   "source": [
    "t_stack = FastTreeValue.func(subside=True)(torch.stack)\n",
    "\n",
    "t_stack(trees)"
   ]
  },
  {
   "cell_type": "code",
   "execution_count": 21,
   "id": "f8b3f415",
   "metadata": {
    "execution": {
     "iopub.execute_input": "2023-02-23T14:06:31.887447Z",
     "iopub.status.busy": "2023-02-23T14:06:31.886990Z",
     "iopub.status.idle": "2023-02-23T14:06:34.455756Z",
     "shell.execute_reply": "2023-02-23T14:06:34.454848Z"
    }
   },
   "outputs": [
    {
     "name": "stdout",
     "output_type": "stream",
     "text": [
      "31.6 µs ± 40.5 ns per loop (mean ± std. dev. of 7 runs, 10,000 loops each)\n"
     ]
    }
   ],
   "source": [
    "%timeit t_stack(trees)"
   ]
  },
  {
   "cell_type": "code",
   "execution_count": 22,
   "id": "94b56771",
   "metadata": {
    "execution": {
     "iopub.execute_input": "2023-02-23T14:06:34.459473Z",
     "iopub.status.busy": "2023-02-23T14:06:34.458938Z",
     "iopub.status.idle": "2023-02-23T14:06:34.467200Z",
     "shell.execute_reply": "2023-02-23T14:06:34.466461Z"
    }
   },
   "outputs": [
    {
     "data": {
      "text/plain": [
       "<FastTreeValue 0x7f867368bb20>\n",
       "├── 'a' --> tensor([[ 0.1419,  0.4819, -0.3666],\n",
       "│                   [ 0.7945,  1.1199, -0.6234],\n",
       "│                   [ 0.1419,  0.4819, -0.3666],\n",
       "│                   [ 0.7945,  1.1199, -0.6234],\n",
       "│                   [ 0.1419,  0.4819, -0.3666],\n",
       "│                   [ 0.7945,  1.1199, -0.6234],\n",
       "│                   [ 0.1419,  0.4819, -0.3666],\n",
       "│                   [ 0.7945,  1.1199, -0.6234],\n",
       "│                   [ 0.1419,  0.4819, -0.3666],\n",
       "│                   [ 0.7945,  1.1199, -0.6234],\n",
       "│                   [ 0.1419,  0.4819, -0.3666],\n",
       "│                   [ 0.7945,  1.1199, -0.6234],\n",
       "│                   [ 0.1419,  0.4819, -0.3666],\n",
       "│                   [ 0.7945,  1.1199, -0.6234],\n",
       "│                   [ 0.1419,  0.4819, -0.3666],\n",
       "│                   [ 0.7945,  1.1199, -0.6234]])\n",
       "└── 'x' --> <FastTreeValue 0x7f867368b5e0>\n",
       "    └── 'c' --> tensor([[-0.6200,  0.9693, -1.9223, -0.2201],\n",
       "                        [-0.2874,  0.0637, -1.5766,  0.8183],\n",
       "                        [ 1.8783, -0.5559, -0.0795, -0.3217],\n",
       "                        [-0.6200,  0.9693, -1.9223, -0.2201],\n",
       "                        [-0.2874,  0.0637, -1.5766,  0.8183],\n",
       "                        [ 1.8783, -0.5559, -0.0795, -0.3217],\n",
       "                        [-0.6200,  0.9693, -1.9223, -0.2201],\n",
       "                        [-0.2874,  0.0637, -1.5766,  0.8183],\n",
       "                        [ 1.8783, -0.5559, -0.0795, -0.3217],\n",
       "                        [-0.6200,  0.9693, -1.9223, -0.2201],\n",
       "                        [-0.2874,  0.0637, -1.5766,  0.8183],\n",
       "                        [ 1.8783, -0.5559, -0.0795, -0.3217],\n",
       "                        [-0.6200,  0.9693, -1.9223, -0.2201],\n",
       "                        [-0.2874,  0.0637, -1.5766,  0.8183],\n",
       "                        [ 1.8783, -0.5559, -0.0795, -0.3217],\n",
       "                        [-0.6200,  0.9693, -1.9223, -0.2201],\n",
       "                        [-0.2874,  0.0637, -1.5766,  0.8183],\n",
       "                        [ 1.8783, -0.5559, -0.0795, -0.3217],\n",
       "                        [-0.6200,  0.9693, -1.9223, -0.2201],\n",
       "                        [-0.2874,  0.0637, -1.5766,  0.8183],\n",
       "                        [ 1.8783, -0.5559, -0.0795, -0.3217],\n",
       "                        [-0.6200,  0.9693, -1.9223, -0.2201],\n",
       "                        [-0.2874,  0.0637, -1.5766,  0.8183],\n",
       "                        [ 1.8783, -0.5559, -0.0795, -0.3217]])"
      ]
     },
     "execution_count": 22,
     "metadata": {},
     "output_type": "execute_result"
    }
   ],
   "source": [
    "t_cat = FastTreeValue.func(subside=True)(torch.cat)\n",
    "\n",
    "t_cat(trees)"
   ]
  },
  {
   "cell_type": "code",
   "execution_count": 23,
   "id": "5e9c06a6",
   "metadata": {
    "execution": {
     "iopub.execute_input": "2023-02-23T14:06:34.470603Z",
     "iopub.status.busy": "2023-02-23T14:06:34.470217Z",
     "iopub.status.idle": "2023-02-23T14:06:36.877936Z",
     "shell.execute_reply": "2023-02-23T14:06:36.877067Z"
    }
   },
   "outputs": [
    {
     "name": "stdout",
     "output_type": "stream",
     "text": [
      "29.6 µs ± 51.6 ns per loop (mean ± std. dev. of 7 runs, 10,000 loops each)\n"
     ]
    }
   ],
   "source": [
    "%timeit t_cat(trees)"
   ]
  },
  {
   "cell_type": "code",
   "execution_count": 24,
   "id": "a3ab5c8f",
   "metadata": {
    "execution": {
     "iopub.execute_input": "2023-02-23T14:06:36.881340Z",
     "iopub.status.busy": "2023-02-23T14:06:36.880832Z",
     "iopub.status.idle": "2023-02-23T14:06:41.425881Z",
     "shell.execute_reply": "2023-02-23T14:06:41.424995Z"
    }
   },
   "outputs": [
    {
     "name": "stdout",
     "output_type": "stream",
     "text": [
      "55.9 µs ± 62.4 ns per loop (mean ± std. dev. of 7 runs, 10,000 loops each)\n"
     ]
    }
   ],
   "source": [
    "t_split = FastTreeValue.func(rise=True)(torch.split)\n",
    "tree = FastTreeValue({\n",
    "    'obs': torch.randn(8, 4, 84, 84),\n",
    "    'action': torch.randint(0, 6, size=(8, 1,)),\n",
    "    'reward': torch.rand(8, 1),\n",
    "})\n",
    "\n",
    "%timeit t_split(tree, 1)"
   ]
  },
  {
   "cell_type": "markdown",
   "id": "31c3ec0b",
   "metadata": {},
   "source": [
    "### Performance of Tianshou Batch"
   ]
  },
  {
   "cell_type": "code",
   "execution_count": 25,
   "id": "9ead828a",
   "metadata": {
    "execution": {
     "iopub.execute_input": "2023-02-23T14:06:41.429147Z",
     "iopub.status.busy": "2023-02-23T14:06:41.428657Z",
     "iopub.status.idle": "2023-02-23T14:06:41.437150Z",
     "shell.execute_reply": "2023-02-23T14:06:41.436520Z"
    }
   },
   "outputs": [
    {
     "data": {
      "text/plain": [
       "Batch(\n",
       "    a: tensor([[[ 0.1419,  0.4819, -0.3666],\n",
       "                [ 0.7945,  1.1199, -0.6234]],\n",
       "       \n",
       "               [[ 0.1419,  0.4819, -0.3666],\n",
       "                [ 0.7945,  1.1199, -0.6234]],\n",
       "       \n",
       "               [[ 0.1419,  0.4819, -0.3666],\n",
       "                [ 0.7945,  1.1199, -0.6234]],\n",
       "       \n",
       "               [[ 0.1419,  0.4819, -0.3666],\n",
       "                [ 0.7945,  1.1199, -0.6234]],\n",
       "       \n",
       "               [[ 0.1419,  0.4819, -0.3666],\n",
       "                [ 0.7945,  1.1199, -0.6234]],\n",
       "       \n",
       "               [[ 0.1419,  0.4819, -0.3666],\n",
       "                [ 0.7945,  1.1199, -0.6234]],\n",
       "       \n",
       "               [[ 0.1419,  0.4819, -0.3666],\n",
       "                [ 0.7945,  1.1199, -0.6234]],\n",
       "       \n",
       "               [[ 0.1419,  0.4819, -0.3666],\n",
       "                [ 0.7945,  1.1199, -0.6234]]]),\n",
       "    x: Batch(\n",
       "           c: tensor([[[-0.6200,  0.9693, -1.9223, -0.2201],\n",
       "                       [-0.2874,  0.0637, -1.5766,  0.8183],\n",
       "                       [ 1.8783, -0.5559, -0.0795, -0.3217]],\n",
       "              \n",
       "                      [[-0.6200,  0.9693, -1.9223, -0.2201],\n",
       "                       [-0.2874,  0.0637, -1.5766,  0.8183],\n",
       "                       [ 1.8783, -0.5559, -0.0795, -0.3217]],\n",
       "              \n",
       "                      [[-0.6200,  0.9693, -1.9223, -0.2201],\n",
       "                       [-0.2874,  0.0637, -1.5766,  0.8183],\n",
       "                       [ 1.8783, -0.5559, -0.0795, -0.3217]],\n",
       "              \n",
       "                      [[-0.6200,  0.9693, -1.9223, -0.2201],\n",
       "                       [-0.2874,  0.0637, -1.5766,  0.8183],\n",
       "                       [ 1.8783, -0.5559, -0.0795, -0.3217]],\n",
       "              \n",
       "                      [[-0.6200,  0.9693, -1.9223, -0.2201],\n",
       "                       [-0.2874,  0.0637, -1.5766,  0.8183],\n",
       "                       [ 1.8783, -0.5559, -0.0795, -0.3217]],\n",
       "              \n",
       "                      [[-0.6200,  0.9693, -1.9223, -0.2201],\n",
       "                       [-0.2874,  0.0637, -1.5766,  0.8183],\n",
       "                       [ 1.8783, -0.5559, -0.0795, -0.3217]],\n",
       "              \n",
       "                      [[-0.6200,  0.9693, -1.9223, -0.2201],\n",
       "                       [-0.2874,  0.0637, -1.5766,  0.8183],\n",
       "                       [ 1.8783, -0.5559, -0.0795, -0.3217]],\n",
       "              \n",
       "                      [[-0.6200,  0.9693, -1.9223, -0.2201],\n",
       "                       [-0.2874,  0.0637, -1.5766,  0.8183],\n",
       "                       [ 1.8783, -0.5559, -0.0795, -0.3217]]]),\n",
       "       ),\n",
       ")"
      ]
     },
     "execution_count": 25,
     "metadata": {},
     "output_type": "execute_result"
    }
   ],
   "source": [
    "batches = [Batch(**_TREE_DATA_2) for _ in range(8)]\n",
    "\n",
    "Batch.stack(batches)"
   ]
  },
  {
   "cell_type": "code",
   "execution_count": 26,
   "id": "ec9037a3",
   "metadata": {
    "execution": {
     "iopub.execute_input": "2023-02-23T14:06:41.440303Z",
     "iopub.status.busy": "2023-02-23T14:06:41.439850Z",
     "iopub.status.idle": "2023-02-23T14:06:47.735431Z",
     "shell.execute_reply": "2023-02-23T14:06:47.734455Z"
    }
   },
   "outputs": [
    {
     "name": "stdout",
     "output_type": "stream",
     "text": [
      "77.4 µs ± 318 ns per loop (mean ± std. dev. of 7 runs, 10,000 loops each)\n"
     ]
    }
   ],
   "source": [
    "%timeit Batch.stack(batches)"
   ]
  },
  {
   "cell_type": "code",
   "execution_count": 27,
   "id": "cb8ab77e",
   "metadata": {
    "execution": {
     "iopub.execute_input": "2023-02-23T14:06:47.738629Z",
     "iopub.status.busy": "2023-02-23T14:06:47.738240Z",
     "iopub.status.idle": "2023-02-23T14:06:47.746188Z",
     "shell.execute_reply": "2023-02-23T14:06:47.745564Z"
    }
   },
   "outputs": [
    {
     "data": {
      "text/plain": [
       "Batch(\n",
       "    a: tensor([[ 0.1419,  0.4819, -0.3666],\n",
       "               [ 0.7945,  1.1199, -0.6234],\n",
       "               [ 0.1419,  0.4819, -0.3666],\n",
       "               [ 0.7945,  1.1199, -0.6234],\n",
       "               [ 0.1419,  0.4819, -0.3666],\n",
       "               [ 0.7945,  1.1199, -0.6234],\n",
       "               [ 0.1419,  0.4819, -0.3666],\n",
       "               [ 0.7945,  1.1199, -0.6234],\n",
       "               [ 0.1419,  0.4819, -0.3666],\n",
       "               [ 0.7945,  1.1199, -0.6234],\n",
       "               [ 0.1419,  0.4819, -0.3666],\n",
       "               [ 0.7945,  1.1199, -0.6234],\n",
       "               [ 0.1419,  0.4819, -0.3666],\n",
       "               [ 0.7945,  1.1199, -0.6234],\n",
       "               [ 0.1419,  0.4819, -0.3666],\n",
       "               [ 0.7945,  1.1199, -0.6234]]),\n",
       "    x: Batch(\n",
       "           c: tensor([[-0.6200,  0.9693, -1.9223, -0.2201],\n",
       "                      [-0.2874,  0.0637, -1.5766,  0.8183],\n",
       "                      [ 1.8783, -0.5559, -0.0795, -0.3217],\n",
       "                      [-0.6200,  0.9693, -1.9223, -0.2201],\n",
       "                      [-0.2874,  0.0637, -1.5766,  0.8183],\n",
       "                      [ 1.8783, -0.5559, -0.0795, -0.3217],\n",
       "                      [-0.6200,  0.9693, -1.9223, -0.2201],\n",
       "                      [-0.2874,  0.0637, -1.5766,  0.8183],\n",
       "                      [ 1.8783, -0.5559, -0.0795, -0.3217],\n",
       "                      [-0.6200,  0.9693, -1.9223, -0.2201],\n",
       "                      [-0.2874,  0.0637, -1.5766,  0.8183],\n",
       "                      [ 1.8783, -0.5559, -0.0795, -0.3217],\n",
       "                      [-0.6200,  0.9693, -1.9223, -0.2201],\n",
       "                      [-0.2874,  0.0637, -1.5766,  0.8183],\n",
       "                      [ 1.8783, -0.5559, -0.0795, -0.3217],\n",
       "                      [-0.6200,  0.9693, -1.9223, -0.2201],\n",
       "                      [-0.2874,  0.0637, -1.5766,  0.8183],\n",
       "                      [ 1.8783, -0.5559, -0.0795, -0.3217],\n",
       "                      [-0.6200,  0.9693, -1.9223, -0.2201],\n",
       "                      [-0.2874,  0.0637, -1.5766,  0.8183],\n",
       "                      [ 1.8783, -0.5559, -0.0795, -0.3217],\n",
       "                      [-0.6200,  0.9693, -1.9223, -0.2201],\n",
       "                      [-0.2874,  0.0637, -1.5766,  0.8183],\n",
       "                      [ 1.8783, -0.5559, -0.0795, -0.3217]]),\n",
       "       ),\n",
       ")"
      ]
     },
     "execution_count": 27,
     "metadata": {},
     "output_type": "execute_result"
    }
   ],
   "source": [
    "Batch.cat(batches)"
   ]
  },
  {
   "cell_type": "code",
   "execution_count": 28,
   "id": "18dfb045",
   "metadata": {
    "execution": {
     "iopub.execute_input": "2023-02-23T14:06:47.749587Z",
     "iopub.status.busy": "2023-02-23T14:06:47.748929Z",
     "iopub.status.idle": "2023-02-23T14:06:59.437403Z",
     "shell.execute_reply": "2023-02-23T14:06:59.436522Z"
    }
   },
   "outputs": [
    {
     "name": "stdout",
     "output_type": "stream",
     "text": [
      "144 µs ± 462 ns per loop (mean ± std. dev. of 7 runs, 10,000 loops each)\n"
     ]
    }
   ],
   "source": [
    "%timeit Batch.cat(batches)"
   ]
  },
  {
   "cell_type": "code",
   "execution_count": 29,
   "id": "c6688e51",
   "metadata": {
    "execution": {
     "iopub.execute_input": "2023-02-23T14:06:59.441273Z",
     "iopub.status.busy": "2023-02-23T14:06:59.440822Z",
     "iopub.status.idle": "2023-02-23T14:07:02.082036Z",
     "shell.execute_reply": "2023-02-23T14:07:02.081229Z"
    }
   },
   "outputs": [
    {
     "name": "stdout",
     "output_type": "stream",
     "text": [
      "324 µs ± 1.08 µs per loop (mean ± std. dev. of 7 runs, 1,000 loops each)\n"
     ]
    }
   ],
   "source": [
    "batch = Batch({\n",
    "    'obs': torch.randn(8, 4, 84, 84),\n",
    "    'action': torch.randint(0, 6, size=(8, 1,)),\n",
    "    'reward': torch.rand(8, 1)}\n",
    ")\n",
    "\n",
    "%timeit list(Batch.split(batch, 1, shuffle=False, merge_last=True))"
   ]
  },
  {
   "cell_type": "code",
   "execution_count": null,
   "id": "2539fbd9",
   "metadata": {},
   "outputs": [],
   "source": []
  }
 ],
 "metadata": {
  "kernelspec": {
   "display_name": "Python 3 (ipykernel)",
   "language": "python",
   "name": "python3"
  },
  "language_info": {
   "codemirror_mode": {
    "name": "ipython",
    "version": 3
   },
   "file_extension": ".py",
   "mimetype": "text/x-python",
   "name": "python",
   "nbconvert_exporter": "python",
   "pygments_lexer": "ipython3",
   "version": "3.8.16"
  }
 },
 "nbformat": 4,
 "nbformat_minor": 5
}
