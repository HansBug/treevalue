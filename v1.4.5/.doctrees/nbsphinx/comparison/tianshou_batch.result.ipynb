{
 "cells": [
  {
   "cell_type": "markdown",
   "id": "9d39d946",
   "metadata": {},
   "source": [
    "# Comparison Between TreeValue and Tianshou Batch"
   ]
  },
  {
   "cell_type": "markdown",
   "id": "3c6db2d4",
   "metadata": {},
   "source": [
    "In this section, we will take a look at the feature and performance of the [Tianshou Batch](https://github.com/thu-ml/tianshou) library, which is developed by Tsinghua Machine Learning Group."
   ]
  },
  {
   "cell_type": "markdown",
   "id": "069361b0",
   "metadata": {},
   "source": [
    "Before starting the comparison, let us define some thing."
   ]
  },
  {
   "cell_type": "code",
   "execution_count": 1,
   "id": "06fc8d26",
   "metadata": {
    "execution": {
     "iopub.execute_input": "2023-08-14T05:23:39.652804Z",
     "iopub.status.busy": "2023-08-14T05:23:39.652411Z",
     "iopub.status.idle": "2023-08-14T05:23:40.979560Z",
     "shell.execute_reply": "2023-08-14T05:23:40.978832Z"
    }
   },
   "outputs": [],
   "source": [
    "import torch \n",
    "\n",
    "_TREE_DATA_1 = {'a': 1, 'b': 2, 'x': {'c': 3, 'd': 4}}\n",
    "_TREE_DATA_2 = {\n",
    "    'a': torch.randn(2, 3), \n",
    "    'x': {\n",
    "        'c': torch.randn(3, 4)\n",
    "    },\n",
    "}\n",
    "_TREE_DATA_3 = {\n",
    "    'obs': torch.randn(4, 84, 84),\n",
    "    'action': torch.randint(0, 6, size=(1,)),\n",
    "    'reward': torch.rand(1),\n",
    "}"
   ]
  },
  {
   "cell_type": "markdown",
   "id": "83461b25",
   "metadata": {},
   "source": [
    "## Read and Write Operation"
   ]
  },
  {
   "cell_type": "markdown",
   "id": "067b3f73",
   "metadata": {},
   "source": [
    "Reading and writing are the two most common operations in the tree data structure based on the data model (TreeValue and Tianshou Batch both belong to this type), so this section will compare the reading and writing performance of these two libraries."
   ]
  },
  {
   "cell_type": "markdown",
   "id": "5d09a5b7",
   "metadata": {},
   "source": [
    "### TreeValue's Get and Set"
   ]
  },
  {
   "cell_type": "code",
   "execution_count": 2,
   "id": "9519c4bb",
   "metadata": {
    "execution": {
     "iopub.execute_input": "2023-08-14T05:23:40.984061Z",
     "iopub.status.busy": "2023-08-14T05:23:40.983425Z",
     "iopub.status.idle": "2023-08-14T05:23:41.012250Z",
     "shell.execute_reply": "2023-08-14T05:23:41.011547Z"
    }
   },
   "outputs": [],
   "source": [
    "from treevalue import FastTreeValue\n",
    "\n",
    "t = FastTreeValue(_TREE_DATA_2)"
   ]
  },
  {
   "cell_type": "code",
   "execution_count": 3,
   "id": "11c37677",
   "metadata": {
    "execution": {
     "iopub.execute_input": "2023-08-14T05:23:41.015893Z",
     "iopub.status.busy": "2023-08-14T05:23:41.015297Z",
     "iopub.status.idle": "2023-08-14T05:23:41.025726Z",
     "shell.execute_reply": "2023-08-14T05:23:41.025056Z"
    }
   },
   "outputs": [
    {
     "data": {
      "text/plain": [
       "<FastTreeValue 0x7f2808a7e1f0>\n",
       "├── 'a' --> tensor([[-0.3720,  0.3143,  0.2521],\n",
       "│                   [ 1.2026, -0.7291, -1.7998]])\n",
       "└── 'x' --> <FastTreeValue 0x7f2808a7e310>\n",
       "    └── 'c' --> tensor([[ 0.2339,  0.1445,  1.7674,  0.3716],\n",
       "                        [-0.8949, -1.0599, -1.3579, -0.3213],\n",
       "                        [ 0.6218, -0.6165, -0.8225, -0.0922]])"
      ]
     },
     "execution_count": 3,
     "metadata": {},
     "output_type": "execute_result"
    }
   ],
   "source": [
    "t"
   ]
  },
  {
   "cell_type": "code",
   "execution_count": 4,
   "id": "fd70b0b9",
   "metadata": {
    "execution": {
     "iopub.execute_input": "2023-08-14T05:23:41.028851Z",
     "iopub.status.busy": "2023-08-14T05:23:41.028428Z",
     "iopub.status.idle": "2023-08-14T05:23:41.033567Z",
     "shell.execute_reply": "2023-08-14T05:23:41.032901Z"
    }
   },
   "outputs": [
    {
     "data": {
      "text/plain": [
       "tensor([[-0.3720,  0.3143,  0.2521],\n",
       "        [ 1.2026, -0.7291, -1.7998]])"
      ]
     },
     "execution_count": 4,
     "metadata": {},
     "output_type": "execute_result"
    }
   ],
   "source": [
    "t.a"
   ]
  },
  {
   "cell_type": "code",
   "execution_count": 5,
   "id": "c18197bd",
   "metadata": {
    "execution": {
     "iopub.execute_input": "2023-08-14T05:23:41.037158Z",
     "iopub.status.busy": "2023-08-14T05:23:41.036693Z",
     "iopub.status.idle": "2023-08-14T05:23:45.878741Z",
     "shell.execute_reply": "2023-08-14T05:23:45.878080Z"
    }
   },
   "outputs": [
    {
     "name": "stdout",
     "output_type": "stream",
     "text": [
      "59.3 ns ± 0.0845 ns per loop (mean ± std. dev. of 7 runs, 10,000,000 loops each)\n"
     ]
    }
   ],
   "source": [
    "%timeit t.a"
   ]
  },
  {
   "cell_type": "code",
   "execution_count": 6,
   "id": "bd52f867",
   "metadata": {
    "execution": {
     "iopub.execute_input": "2023-08-14T05:23:45.882173Z",
     "iopub.status.busy": "2023-08-14T05:23:45.881654Z",
     "iopub.status.idle": "2023-08-14T05:23:45.888203Z",
     "shell.execute_reply": "2023-08-14T05:23:45.887496Z"
    }
   },
   "outputs": [
    {
     "data": {
      "text/plain": [
       "<FastTreeValue 0x7f2808a7e1f0>\n",
       "├── 'a' --> tensor([[-2.5856, -1.7035, -2.2327],\n",
       "│                   [-0.3427,  0.0471,  1.2558]])\n",
       "└── 'x' --> <FastTreeValue 0x7f2808a7e310>\n",
       "    └── 'c' --> tensor([[ 0.2339,  0.1445,  1.7674,  0.3716],\n",
       "                        [-0.8949, -1.0599, -1.3579, -0.3213],\n",
       "                        [ 0.6218, -0.6165, -0.8225, -0.0922]])"
      ]
     },
     "execution_count": 6,
     "metadata": {},
     "output_type": "execute_result"
    }
   ],
   "source": [
    "new_value = torch.randn(2, 3)\n",
    "t.a = new_value\n",
    "\n",
    "t"
   ]
  },
  {
   "cell_type": "code",
   "execution_count": 7,
   "id": "bbe04d1c",
   "metadata": {
    "execution": {
     "iopub.execute_input": "2023-08-14T05:23:45.891447Z",
     "iopub.status.busy": "2023-08-14T05:23:45.891028Z",
     "iopub.status.idle": "2023-08-14T05:23:50.838054Z",
     "shell.execute_reply": "2023-08-14T05:23:50.837456Z"
    }
   },
   "outputs": [
    {
     "name": "stdout",
     "output_type": "stream",
     "text": [
      "60.9 ns ± 0.0205 ns per loop (mean ± std. dev. of 7 runs, 10,000,000 loops each)\n"
     ]
    }
   ],
   "source": [
    "%timeit t.a = new_value"
   ]
  },
  {
   "cell_type": "markdown",
   "id": "48c49731",
   "metadata": {},
   "source": [
    "### Tianshou Batch's Get and Set"
   ]
  },
  {
   "cell_type": "code",
   "execution_count": 8,
   "id": "f1bb14c1",
   "metadata": {
    "execution": {
     "iopub.execute_input": "2023-08-14T05:23:50.841413Z",
     "iopub.status.busy": "2023-08-14T05:23:50.841018Z",
     "iopub.status.idle": "2023-08-14T05:23:51.200506Z",
     "shell.execute_reply": "2023-08-14T05:23:51.199814Z"
    }
   },
   "outputs": [],
   "source": [
    "from tianshou.data import Batch\n",
    "\n",
    "b = Batch(**_TREE_DATA_2)"
   ]
  },
  {
   "cell_type": "code",
   "execution_count": 9,
   "id": "cb0777c3",
   "metadata": {
    "execution": {
     "iopub.execute_input": "2023-08-14T05:23:51.204238Z",
     "iopub.status.busy": "2023-08-14T05:23:51.203683Z",
     "iopub.status.idle": "2023-08-14T05:23:51.209390Z",
     "shell.execute_reply": "2023-08-14T05:23:51.208750Z"
    }
   },
   "outputs": [
    {
     "data": {
      "text/plain": [
       "Batch(\n",
       "    a: tensor([[-0.3720,  0.3143,  0.2521],\n",
       "               [ 1.2026, -0.7291, -1.7998]]),\n",
       "    x: Batch(\n",
       "           c: tensor([[ 0.2339,  0.1445,  1.7674,  0.3716],\n",
       "                      [-0.8949, -1.0599, -1.3579, -0.3213],\n",
       "                      [ 0.6218, -0.6165, -0.8225, -0.0922]]),\n",
       "       ),\n",
       ")"
      ]
     },
     "execution_count": 9,
     "metadata": {},
     "output_type": "execute_result"
    }
   ],
   "source": [
    "b"
   ]
  },
  {
   "cell_type": "code",
   "execution_count": 10,
   "id": "43ef8ea3",
   "metadata": {
    "execution": {
     "iopub.execute_input": "2023-08-14T05:23:51.212555Z",
     "iopub.status.busy": "2023-08-14T05:23:51.211958Z",
     "iopub.status.idle": "2023-08-14T05:23:51.216905Z",
     "shell.execute_reply": "2023-08-14T05:23:51.216269Z"
    }
   },
   "outputs": [
    {
     "data": {
      "text/plain": [
       "tensor([[-0.3720,  0.3143,  0.2521],\n",
       "        [ 1.2026, -0.7291, -1.7998]])"
      ]
     },
     "execution_count": 10,
     "metadata": {},
     "output_type": "execute_result"
    }
   ],
   "source": [
    "b.a"
   ]
  },
  {
   "cell_type": "code",
   "execution_count": 11,
   "id": "b785ab72",
   "metadata": {
    "execution": {
     "iopub.execute_input": "2023-08-14T05:23:51.219681Z",
     "iopub.status.busy": "2023-08-14T05:23:51.219327Z",
     "iopub.status.idle": "2023-08-14T05:23:55.891285Z",
     "shell.execute_reply": "2023-08-14T05:23:55.890154Z"
    }
   },
   "outputs": [
    {
     "name": "stdout",
     "output_type": "stream",
     "text": [
      "57.4 ns ± 0.0402 ns per loop (mean ± std. dev. of 7 runs, 10,000,000 loops each)\n"
     ]
    }
   ],
   "source": [
    "%timeit b.a"
   ]
  },
  {
   "cell_type": "code",
   "execution_count": 12,
   "id": "ad54dc69",
   "metadata": {
    "execution": {
     "iopub.execute_input": "2023-08-14T05:23:55.894821Z",
     "iopub.status.busy": "2023-08-14T05:23:55.894252Z",
     "iopub.status.idle": "2023-08-14T05:23:55.900254Z",
     "shell.execute_reply": "2023-08-14T05:23:55.899593Z"
    }
   },
   "outputs": [
    {
     "data": {
      "text/plain": [
       "Batch(\n",
       "    a: tensor([[ 0.3776, -0.7225,  0.2771],\n",
       "               [ 0.6263,  0.2961,  0.3730]]),\n",
       "    x: Batch(\n",
       "           c: tensor([[ 0.2339,  0.1445,  1.7674,  0.3716],\n",
       "                      [-0.8949, -1.0599, -1.3579, -0.3213],\n",
       "                      [ 0.6218, -0.6165, -0.8225, -0.0922]]),\n",
       "       ),\n",
       ")"
      ]
     },
     "execution_count": 12,
     "metadata": {},
     "output_type": "execute_result"
    }
   ],
   "source": [
    "new_value = torch.randn(2, 3)\n",
    "b.a = new_value\n",
    "\n",
    "b"
   ]
  },
  {
   "cell_type": "code",
   "execution_count": 13,
   "id": "29b1d0bf",
   "metadata": {
    "execution": {
     "iopub.execute_input": "2023-08-14T05:23:55.903172Z",
     "iopub.status.busy": "2023-08-14T05:23:55.902800Z",
     "iopub.status.idle": "2023-08-14T05:23:59.921153Z",
     "shell.execute_reply": "2023-08-14T05:23:59.920002Z"
    }
   },
   "outputs": [
    {
     "name": "stdout",
     "output_type": "stream",
     "text": [
      "495 ns ± 0.242 ns per loop (mean ± std. dev. of 7 runs, 1,000,000 loops each)\n"
     ]
    }
   ],
   "source": [
    "%timeit b.a = new_value"
   ]
  },
  {
   "cell_type": "markdown",
   "id": "b61ad1d0",
   "metadata": {},
   "source": [
    "## Initialization"
   ]
  },
  {
   "cell_type": "markdown",
   "id": "d70f0d54",
   "metadata": {},
   "source": [
    "### TreeValue's Initialization"
   ]
  },
  {
   "cell_type": "code",
   "execution_count": 14,
   "id": "d32a679b",
   "metadata": {
    "execution": {
     "iopub.execute_input": "2023-08-14T05:23:59.924780Z",
     "iopub.status.busy": "2023-08-14T05:23:59.924237Z",
     "iopub.status.idle": "2023-08-14T05:24:06.761719Z",
     "shell.execute_reply": "2023-08-14T05:24:06.761096Z"
    }
   },
   "outputs": [
    {
     "name": "stdout",
     "output_type": "stream",
     "text": [
      "841 ns ± 0.428 ns per loop (mean ± std. dev. of 7 runs, 1,000,000 loops each)\n"
     ]
    }
   ],
   "source": [
    "%timeit FastTreeValue(_TREE_DATA_1)"
   ]
  },
  {
   "cell_type": "markdown",
   "id": "24f3707b",
   "metadata": {},
   "source": [
    "### Tianshou Batch's Initialization"
   ]
  },
  {
   "cell_type": "code",
   "execution_count": 15,
   "id": "ac3958df",
   "metadata": {
    "execution": {
     "iopub.execute_input": "2023-08-14T05:24:06.765068Z",
     "iopub.status.busy": "2023-08-14T05:24:06.764571Z",
     "iopub.status.idle": "2023-08-14T05:24:16.047337Z",
     "shell.execute_reply": "2023-08-14T05:24:16.046663Z"
    }
   },
   "outputs": [
    {
     "name": "stdout",
     "output_type": "stream",
     "text": [
      "11.4 µs ± 7.8 ns per loop (mean ± std. dev. of 7 runs, 100,000 loops each)\n"
     ]
    }
   ],
   "source": [
    "%timeit Batch(**_TREE_DATA_1)"
   ]
  },
  {
   "cell_type": "markdown",
   "id": "1ab82e2d",
   "metadata": {},
   "source": [
    "## Deep Copy Operation"
   ]
  },
  {
   "cell_type": "code",
   "execution_count": 16,
   "id": "210a9442",
   "metadata": {
    "execution": {
     "iopub.execute_input": "2023-08-14T05:24:16.050797Z",
     "iopub.status.busy": "2023-08-14T05:24:16.050147Z",
     "iopub.status.idle": "2023-08-14T05:24:16.056178Z",
     "shell.execute_reply": "2023-08-14T05:24:16.055594Z"
    }
   },
   "outputs": [],
   "source": [
    "import copy"
   ]
  },
  {
   "cell_type": "markdown",
   "id": "5a736274",
   "metadata": {},
   "source": [
    "### Deep Copy of TreeValue"
   ]
  },
  {
   "cell_type": "code",
   "execution_count": 17,
   "id": "f9bcadd6",
   "metadata": {
    "execution": {
     "iopub.execute_input": "2023-08-14T05:24:16.059631Z",
     "iopub.status.busy": "2023-08-14T05:24:16.059397Z",
     "iopub.status.idle": "2023-08-14T05:24:27.580796Z",
     "shell.execute_reply": "2023-08-14T05:24:27.580059Z"
    }
   },
   "outputs": [
    {
     "name": "stdout",
     "output_type": "stream",
     "text": [
      "142 µs ± 582 ns per loop (mean ± std. dev. of 7 runs, 10,000 loops each)\n"
     ]
    }
   ],
   "source": [
    "t3 = FastTreeValue(_TREE_DATA_3)\n",
    "%timeit copy.deepcopy(t3)"
   ]
  },
  {
   "cell_type": "markdown",
   "id": "bf8be7ea",
   "metadata": {},
   "source": [
    "### Deep Copy of Tianshou Batch"
   ]
  },
  {
   "cell_type": "code",
   "execution_count": 18,
   "id": "91998e6f",
   "metadata": {
    "execution": {
     "iopub.execute_input": "2023-08-14T05:24:27.584648Z",
     "iopub.status.busy": "2023-08-14T05:24:27.584270Z",
     "iopub.status.idle": "2023-08-14T05:24:39.043070Z",
     "shell.execute_reply": "2023-08-14T05:24:39.042303Z"
    }
   },
   "outputs": [
    {
     "name": "stdout",
     "output_type": "stream",
     "text": [
      "141 µs ± 313 ns per loop (mean ± std. dev. of 7 runs, 10,000 loops each)\n"
     ]
    }
   ],
   "source": [
    "b3 = Batch(**_TREE_DATA_3)\n",
    "%timeit copy.deepcopy(b3)"
   ]
  },
  {
   "cell_type": "markdown",
   "id": "223162fb",
   "metadata": {},
   "source": [
    "## Stack, Concat and Split Operation"
   ]
  },
  {
   "cell_type": "markdown",
   "id": "85fa4a73",
   "metadata": {},
   "source": [
    "### Performance of TreeValue"
   ]
  },
  {
   "cell_type": "code",
   "execution_count": 19,
   "id": "a0c2b697",
   "metadata": {
    "execution": {
     "iopub.execute_input": "2023-08-14T05:24:39.047029Z",
     "iopub.status.busy": "2023-08-14T05:24:39.046569Z",
     "iopub.status.idle": "2023-08-14T05:24:39.049951Z",
     "shell.execute_reply": "2023-08-14T05:24:39.049408Z"
    }
   },
   "outputs": [],
   "source": [
    "trees = [FastTreeValue(_TREE_DATA_2) for _ in range(8)]"
   ]
  },
  {
   "cell_type": "code",
   "execution_count": 20,
   "id": "017ea5a5",
   "metadata": {
    "execution": {
     "iopub.execute_input": "2023-08-14T05:24:39.052941Z",
     "iopub.status.busy": "2023-08-14T05:24:39.052307Z",
     "iopub.status.idle": "2023-08-14T05:24:39.060050Z",
     "shell.execute_reply": "2023-08-14T05:24:39.059409Z"
    }
   },
   "outputs": [
    {
     "data": {
      "text/plain": [
       "<FastTreeValue 0x7f273bc56880>\n",
       "├── 'a' --> tensor([[[-0.3720,  0.3143,  0.2521],\n",
       "│                    [ 1.2026, -0.7291, -1.7998]],\n",
       "│           \n",
       "│                   [[-0.3720,  0.3143,  0.2521],\n",
       "│                    [ 1.2026, -0.7291, -1.7998]],\n",
       "│           \n",
       "│                   [[-0.3720,  0.3143,  0.2521],\n",
       "│                    [ 1.2026, -0.7291, -1.7998]],\n",
       "│           \n",
       "│                   [[-0.3720,  0.3143,  0.2521],\n",
       "│                    [ 1.2026, -0.7291, -1.7998]],\n",
       "│           \n",
       "│                   [[-0.3720,  0.3143,  0.2521],\n",
       "│                    [ 1.2026, -0.7291, -1.7998]],\n",
       "│           \n",
       "│                   [[-0.3720,  0.3143,  0.2521],\n",
       "│                    [ 1.2026, -0.7291, -1.7998]],\n",
       "│           \n",
       "│                   [[-0.3720,  0.3143,  0.2521],\n",
       "│                    [ 1.2026, -0.7291, -1.7998]],\n",
       "│           \n",
       "│                   [[-0.3720,  0.3143,  0.2521],\n",
       "│                    [ 1.2026, -0.7291, -1.7998]]])\n",
       "└── 'x' --> <FastTreeValue 0x7f273bc56f10>\n",
       "    └── 'c' --> tensor([[[ 0.2339,  0.1445,  1.7674,  0.3716],\n",
       "                         [-0.8949, -1.0599, -1.3579, -0.3213],\n",
       "                         [ 0.6218, -0.6165, -0.8225, -0.0922]],\n",
       "                \n",
       "                        [[ 0.2339,  0.1445,  1.7674,  0.3716],\n",
       "                         [-0.8949, -1.0599, -1.3579, -0.3213],\n",
       "                         [ 0.6218, -0.6165, -0.8225, -0.0922]],\n",
       "                \n",
       "                        [[ 0.2339,  0.1445,  1.7674,  0.3716],\n",
       "                         [-0.8949, -1.0599, -1.3579, -0.3213],\n",
       "                         [ 0.6218, -0.6165, -0.8225, -0.0922]],\n",
       "                \n",
       "                        [[ 0.2339,  0.1445,  1.7674,  0.3716],\n",
       "                         [-0.8949, -1.0599, -1.3579, -0.3213],\n",
       "                         [ 0.6218, -0.6165, -0.8225, -0.0922]],\n",
       "                \n",
       "                        [[ 0.2339,  0.1445,  1.7674,  0.3716],\n",
       "                         [-0.8949, -1.0599, -1.3579, -0.3213],\n",
       "                         [ 0.6218, -0.6165, -0.8225, -0.0922]],\n",
       "                \n",
       "                        [[ 0.2339,  0.1445,  1.7674,  0.3716],\n",
       "                         [-0.8949, -1.0599, -1.3579, -0.3213],\n",
       "                         [ 0.6218, -0.6165, -0.8225, -0.0922]],\n",
       "                \n",
       "                        [[ 0.2339,  0.1445,  1.7674,  0.3716],\n",
       "                         [-0.8949, -1.0599, -1.3579, -0.3213],\n",
       "                         [ 0.6218, -0.6165, -0.8225, -0.0922]],\n",
       "                \n",
       "                        [[ 0.2339,  0.1445,  1.7674,  0.3716],\n",
       "                         [-0.8949, -1.0599, -1.3579, -0.3213],\n",
       "                         [ 0.6218, -0.6165, -0.8225, -0.0922]]])"
      ]
     },
     "execution_count": 20,
     "metadata": {},
     "output_type": "execute_result"
    }
   ],
   "source": [
    "t_stack = FastTreeValue.func(subside=True)(torch.stack)\n",
    "\n",
    "t_stack(trees)"
   ]
  },
  {
   "cell_type": "code",
   "execution_count": 21,
   "id": "f8b3f415",
   "metadata": {
    "execution": {
     "iopub.execute_input": "2023-08-14T05:24:39.063401Z",
     "iopub.status.busy": "2023-08-14T05:24:39.062665Z",
     "iopub.status.idle": "2023-08-14T05:24:41.691671Z",
     "shell.execute_reply": "2023-08-14T05:24:41.690926Z"
    }
   },
   "outputs": [
    {
     "name": "stdout",
     "output_type": "stream",
     "text": [
      "32.3 µs ± 73.2 ns per loop (mean ± std. dev. of 7 runs, 10,000 loops each)\n"
     ]
    }
   ],
   "source": [
    "%timeit t_stack(trees)"
   ]
  },
  {
   "cell_type": "code",
   "execution_count": 22,
   "id": "94b56771",
   "metadata": {
    "execution": {
     "iopub.execute_input": "2023-08-14T05:24:41.694944Z",
     "iopub.status.busy": "2023-08-14T05:24:41.694677Z",
     "iopub.status.idle": "2023-08-14T05:24:41.703287Z",
     "shell.execute_reply": "2023-08-14T05:24:41.702615Z"
    }
   },
   "outputs": [
    {
     "data": {
      "text/plain": [
       "<FastTreeValue 0x7f2808a843d0>\n",
       "├── 'a' --> tensor([[-0.3720,  0.3143,  0.2521],\n",
       "│                   [ 1.2026, -0.7291, -1.7998],\n",
       "│                   [-0.3720,  0.3143,  0.2521],\n",
       "│                   [ 1.2026, -0.7291, -1.7998],\n",
       "│                   [-0.3720,  0.3143,  0.2521],\n",
       "│                   [ 1.2026, -0.7291, -1.7998],\n",
       "│                   [-0.3720,  0.3143,  0.2521],\n",
       "│                   [ 1.2026, -0.7291, -1.7998],\n",
       "│                   [-0.3720,  0.3143,  0.2521],\n",
       "│                   [ 1.2026, -0.7291, -1.7998],\n",
       "│                   [-0.3720,  0.3143,  0.2521],\n",
       "│                   [ 1.2026, -0.7291, -1.7998],\n",
       "│                   [-0.3720,  0.3143,  0.2521],\n",
       "│                   [ 1.2026, -0.7291, -1.7998],\n",
       "│                   [-0.3720,  0.3143,  0.2521],\n",
       "│                   [ 1.2026, -0.7291, -1.7998]])\n",
       "└── 'x' --> <FastTreeValue 0x7f273bc56be0>\n",
       "    └── 'c' --> tensor([[ 0.2339,  0.1445,  1.7674,  0.3716],\n",
       "                        [-0.8949, -1.0599, -1.3579, -0.3213],\n",
       "                        [ 0.6218, -0.6165, -0.8225, -0.0922],\n",
       "                        [ 0.2339,  0.1445,  1.7674,  0.3716],\n",
       "                        [-0.8949, -1.0599, -1.3579, -0.3213],\n",
       "                        [ 0.6218, -0.6165, -0.8225, -0.0922],\n",
       "                        [ 0.2339,  0.1445,  1.7674,  0.3716],\n",
       "                        [-0.8949, -1.0599, -1.3579, -0.3213],\n",
       "                        [ 0.6218, -0.6165, -0.8225, -0.0922],\n",
       "                        [ 0.2339,  0.1445,  1.7674,  0.3716],\n",
       "                        [-0.8949, -1.0599, -1.3579, -0.3213],\n",
       "                        [ 0.6218, -0.6165, -0.8225, -0.0922],\n",
       "                        [ 0.2339,  0.1445,  1.7674,  0.3716],\n",
       "                        [-0.8949, -1.0599, -1.3579, -0.3213],\n",
       "                        [ 0.6218, -0.6165, -0.8225, -0.0922],\n",
       "                        [ 0.2339,  0.1445,  1.7674,  0.3716],\n",
       "                        [-0.8949, -1.0599, -1.3579, -0.3213],\n",
       "                        [ 0.6218, -0.6165, -0.8225, -0.0922],\n",
       "                        [ 0.2339,  0.1445,  1.7674,  0.3716],\n",
       "                        [-0.8949, -1.0599, -1.3579, -0.3213],\n",
       "                        [ 0.6218, -0.6165, -0.8225, -0.0922],\n",
       "                        [ 0.2339,  0.1445,  1.7674,  0.3716],\n",
       "                        [-0.8949, -1.0599, -1.3579, -0.3213],\n",
       "                        [ 0.6218, -0.6165, -0.8225, -0.0922]])"
      ]
     },
     "execution_count": 22,
     "metadata": {},
     "output_type": "execute_result"
    }
   ],
   "source": [
    "t_cat = FastTreeValue.func(subside=True)(torch.cat)\n",
    "\n",
    "t_cat(trees)"
   ]
  },
  {
   "cell_type": "code",
   "execution_count": 23,
   "id": "5e9c06a6",
   "metadata": {
    "execution": {
     "iopub.execute_input": "2023-08-14T05:24:41.706661Z",
     "iopub.status.busy": "2023-08-14T05:24:41.706271Z",
     "iopub.status.idle": "2023-08-14T05:24:44.183066Z",
     "shell.execute_reply": "2023-08-14T05:24:44.182440Z"
    }
   },
   "outputs": [
    {
     "name": "stdout",
     "output_type": "stream",
     "text": [
      "30.5 µs ± 40.2 ns per loop (mean ± std. dev. of 7 runs, 10,000 loops each)\n"
     ]
    }
   ],
   "source": [
    "%timeit t_cat(trees)"
   ]
  },
  {
   "cell_type": "code",
   "execution_count": 24,
   "id": "a3ab5c8f",
   "metadata": {
    "execution": {
     "iopub.execute_input": "2023-08-14T05:24:44.186313Z",
     "iopub.status.busy": "2023-08-14T05:24:44.185705Z",
     "iopub.status.idle": "2023-08-14T05:24:49.791071Z",
     "shell.execute_reply": "2023-08-14T05:24:49.790339Z"
    }
   },
   "outputs": [
    {
     "name": "stdout",
     "output_type": "stream",
     "text": [
      "68.9 µs ± 67.9 ns per loop (mean ± std. dev. of 7 runs, 10,000 loops each)\n"
     ]
    }
   ],
   "source": [
    "t_split = FastTreeValue.func(rise=True)(torch.split)\n",
    "tree = FastTreeValue({\n",
    "    'obs': torch.randn(8, 4, 84, 84),\n",
    "    'action': torch.randint(0, 6, size=(8, 1,)),\n",
    "    'reward': torch.rand(8, 1),\n",
    "})\n",
    "\n",
    "%timeit t_split(tree, 1)"
   ]
  },
  {
   "cell_type": "markdown",
   "id": "31c3ec0b",
   "metadata": {},
   "source": [
    "### Performance of Tianshou Batch"
   ]
  },
  {
   "cell_type": "code",
   "execution_count": 25,
   "id": "9ead828a",
   "metadata": {
    "execution": {
     "iopub.execute_input": "2023-08-14T05:24:49.794435Z",
     "iopub.status.busy": "2023-08-14T05:24:49.794171Z",
     "iopub.status.idle": "2023-08-14T05:24:49.802862Z",
     "shell.execute_reply": "2023-08-14T05:24:49.802197Z"
    }
   },
   "outputs": [
    {
     "data": {
      "text/plain": [
       "Batch(\n",
       "    a: tensor([[[-0.3720,  0.3143,  0.2521],\n",
       "                [ 1.2026, -0.7291, -1.7998]],\n",
       "       \n",
       "               [[-0.3720,  0.3143,  0.2521],\n",
       "                [ 1.2026, -0.7291, -1.7998]],\n",
       "       \n",
       "               [[-0.3720,  0.3143,  0.2521],\n",
       "                [ 1.2026, -0.7291, -1.7998]],\n",
       "       \n",
       "               [[-0.3720,  0.3143,  0.2521],\n",
       "                [ 1.2026, -0.7291, -1.7998]],\n",
       "       \n",
       "               [[-0.3720,  0.3143,  0.2521],\n",
       "                [ 1.2026, -0.7291, -1.7998]],\n",
       "       \n",
       "               [[-0.3720,  0.3143,  0.2521],\n",
       "                [ 1.2026, -0.7291, -1.7998]],\n",
       "       \n",
       "               [[-0.3720,  0.3143,  0.2521],\n",
       "                [ 1.2026, -0.7291, -1.7998]],\n",
       "       \n",
       "               [[-0.3720,  0.3143,  0.2521],\n",
       "                [ 1.2026, -0.7291, -1.7998]]]),\n",
       "    x: Batch(\n",
       "           c: tensor([[[ 0.2339,  0.1445,  1.7674,  0.3716],\n",
       "                       [-0.8949, -1.0599, -1.3579, -0.3213],\n",
       "                       [ 0.6218, -0.6165, -0.8225, -0.0922]],\n",
       "              \n",
       "                      [[ 0.2339,  0.1445,  1.7674,  0.3716],\n",
       "                       [-0.8949, -1.0599, -1.3579, -0.3213],\n",
       "                       [ 0.6218, -0.6165, -0.8225, -0.0922]],\n",
       "              \n",
       "                      [[ 0.2339,  0.1445,  1.7674,  0.3716],\n",
       "                       [-0.8949, -1.0599, -1.3579, -0.3213],\n",
       "                       [ 0.6218, -0.6165, -0.8225, -0.0922]],\n",
       "              \n",
       "                      [[ 0.2339,  0.1445,  1.7674,  0.3716],\n",
       "                       [-0.8949, -1.0599, -1.3579, -0.3213],\n",
       "                       [ 0.6218, -0.6165, -0.8225, -0.0922]],\n",
       "              \n",
       "                      [[ 0.2339,  0.1445,  1.7674,  0.3716],\n",
       "                       [-0.8949, -1.0599, -1.3579, -0.3213],\n",
       "                       [ 0.6218, -0.6165, -0.8225, -0.0922]],\n",
       "              \n",
       "                      [[ 0.2339,  0.1445,  1.7674,  0.3716],\n",
       "                       [-0.8949, -1.0599, -1.3579, -0.3213],\n",
       "                       [ 0.6218, -0.6165, -0.8225, -0.0922]],\n",
       "              \n",
       "                      [[ 0.2339,  0.1445,  1.7674,  0.3716],\n",
       "                       [-0.8949, -1.0599, -1.3579, -0.3213],\n",
       "                       [ 0.6218, -0.6165, -0.8225, -0.0922]],\n",
       "              \n",
       "                      [[ 0.2339,  0.1445,  1.7674,  0.3716],\n",
       "                       [-0.8949, -1.0599, -1.3579, -0.3213],\n",
       "                       [ 0.6218, -0.6165, -0.8225, -0.0922]]]),\n",
       "       ),\n",
       ")"
      ]
     },
     "execution_count": 25,
     "metadata": {},
     "output_type": "execute_result"
    }
   ],
   "source": [
    "batches = [Batch(**_TREE_DATA_2) for _ in range(8)]\n",
    "\n",
    "Batch.stack(batches)"
   ]
  },
  {
   "cell_type": "code",
   "execution_count": 26,
   "id": "ec9037a3",
   "metadata": {
    "execution": {
     "iopub.execute_input": "2023-08-14T05:24:49.806202Z",
     "iopub.status.busy": "2023-08-14T05:24:49.805819Z",
     "iopub.status.idle": "2023-08-14T05:24:56.309243Z",
     "shell.execute_reply": "2023-08-14T05:24:56.308607Z"
    }
   },
   "outputs": [
    {
     "name": "stdout",
     "output_type": "stream",
     "text": [
      "80 µs ± 355 ns per loop (mean ± std. dev. of 7 runs, 10,000 loops each)\n"
     ]
    }
   ],
   "source": [
    "%timeit Batch.stack(batches)"
   ]
  },
  {
   "cell_type": "code",
   "execution_count": 27,
   "id": "cb8ab77e",
   "metadata": {
    "execution": {
     "iopub.execute_input": "2023-08-14T05:24:56.312573Z",
     "iopub.status.busy": "2023-08-14T05:24:56.311973Z",
     "iopub.status.idle": "2023-08-14T05:24:56.320225Z",
     "shell.execute_reply": "2023-08-14T05:24:56.319568Z"
    }
   },
   "outputs": [
    {
     "data": {
      "text/plain": [
       "Batch(\n",
       "    a: tensor([[-0.3720,  0.3143,  0.2521],\n",
       "               [ 1.2026, -0.7291, -1.7998],\n",
       "               [-0.3720,  0.3143,  0.2521],\n",
       "               [ 1.2026, -0.7291, -1.7998],\n",
       "               [-0.3720,  0.3143,  0.2521],\n",
       "               [ 1.2026, -0.7291, -1.7998],\n",
       "               [-0.3720,  0.3143,  0.2521],\n",
       "               [ 1.2026, -0.7291, -1.7998],\n",
       "               [-0.3720,  0.3143,  0.2521],\n",
       "               [ 1.2026, -0.7291, -1.7998],\n",
       "               [-0.3720,  0.3143,  0.2521],\n",
       "               [ 1.2026, -0.7291, -1.7998],\n",
       "               [-0.3720,  0.3143,  0.2521],\n",
       "               [ 1.2026, -0.7291, -1.7998],\n",
       "               [-0.3720,  0.3143,  0.2521],\n",
       "               [ 1.2026, -0.7291, -1.7998]]),\n",
       "    x: Batch(\n",
       "           c: tensor([[ 0.2339,  0.1445,  1.7674,  0.3716],\n",
       "                      [-0.8949, -1.0599, -1.3579, -0.3213],\n",
       "                      [ 0.6218, -0.6165, -0.8225, -0.0922],\n",
       "                      [ 0.2339,  0.1445,  1.7674,  0.3716],\n",
       "                      [-0.8949, -1.0599, -1.3579, -0.3213],\n",
       "                      [ 0.6218, -0.6165, -0.8225, -0.0922],\n",
       "                      [ 0.2339,  0.1445,  1.7674,  0.3716],\n",
       "                      [-0.8949, -1.0599, -1.3579, -0.3213],\n",
       "                      [ 0.6218, -0.6165, -0.8225, -0.0922],\n",
       "                      [ 0.2339,  0.1445,  1.7674,  0.3716],\n",
       "                      [-0.8949, -1.0599, -1.3579, -0.3213],\n",
       "                      [ 0.6218, -0.6165, -0.8225, -0.0922],\n",
       "                      [ 0.2339,  0.1445,  1.7674,  0.3716],\n",
       "                      [-0.8949, -1.0599, -1.3579, -0.3213],\n",
       "                      [ 0.6218, -0.6165, -0.8225, -0.0922],\n",
       "                      [ 0.2339,  0.1445,  1.7674,  0.3716],\n",
       "                      [-0.8949, -1.0599, -1.3579, -0.3213],\n",
       "                      [ 0.6218, -0.6165, -0.8225, -0.0922],\n",
       "                      [ 0.2339,  0.1445,  1.7674,  0.3716],\n",
       "                      [-0.8949, -1.0599, -1.3579, -0.3213],\n",
       "                      [ 0.6218, -0.6165, -0.8225, -0.0922],\n",
       "                      [ 0.2339,  0.1445,  1.7674,  0.3716],\n",
       "                      [-0.8949, -1.0599, -1.3579, -0.3213],\n",
       "                      [ 0.6218, -0.6165, -0.8225, -0.0922]]),\n",
       "       ),\n",
       ")"
      ]
     },
     "execution_count": 27,
     "metadata": {},
     "output_type": "execute_result"
    }
   ],
   "source": [
    "Batch.cat(batches)"
   ]
  },
  {
   "cell_type": "code",
   "execution_count": 28,
   "id": "18dfb045",
   "metadata": {
    "execution": {
     "iopub.execute_input": "2023-08-14T05:24:56.323430Z",
     "iopub.status.busy": "2023-08-14T05:24:56.322850Z",
     "iopub.status.idle": "2023-08-14T05:25:08.501098Z",
     "shell.execute_reply": "2023-08-14T05:25:08.499862Z"
    }
   },
   "outputs": [
    {
     "name": "stdout",
     "output_type": "stream",
     "text": [
      "150 µs ± 195 ns per loop (mean ± std. dev. of 7 runs, 10,000 loops each)\n"
     ]
    }
   ],
   "source": [
    "%timeit Batch.cat(batches)"
   ]
  },
  {
   "cell_type": "code",
   "execution_count": 29,
   "id": "c6688e51",
   "metadata": {
    "execution": {
     "iopub.execute_input": "2023-08-14T05:25:08.504804Z",
     "iopub.status.busy": "2023-08-14T05:25:08.504421Z",
     "iopub.status.idle": "2023-08-14T05:25:11.149032Z",
     "shell.execute_reply": "2023-08-14T05:25:11.148420Z"
    }
   },
   "outputs": [
    {
     "name": "stdout",
     "output_type": "stream",
     "text": [
      "325 µs ± 3.03 µs per loop (mean ± std. dev. of 7 runs, 1,000 loops each)\n"
     ]
    }
   ],
   "source": [
    "batch = Batch({\n",
    "    'obs': torch.randn(8, 4, 84, 84),\n",
    "    'action': torch.randint(0, 6, size=(8, 1,)),\n",
    "    'reward': torch.rand(8, 1)}\n",
    ")\n",
    "\n",
    "%timeit list(Batch.split(batch, 1, shuffle=False, merge_last=True))"
   ]
  },
  {
   "cell_type": "code",
   "execution_count": null,
   "id": "2539fbd9",
   "metadata": {},
   "outputs": [],
   "source": []
  }
 ],
 "metadata": {
  "kernelspec": {
   "display_name": "Python 3 (ipykernel)",
   "language": "python",
   "name": "python3"
  },
  "language_info": {
   "codemirror_mode": {
    "name": "ipython",
    "version": 3
   },
   "file_extension": ".py",
   "mimetype": "text/x-python",
   "name": "python",
   "nbconvert_exporter": "python",
   "pygments_lexer": "ipython3",
   "version": "3.8.17"
  }
 },
 "nbformat": 4,
 "nbformat_minor": 5
}
