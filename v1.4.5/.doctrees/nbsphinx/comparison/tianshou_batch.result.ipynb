{
 "cells": [
  {
   "cell_type": "markdown",
   "id": "9d39d946",
   "metadata": {},
   "source": [
    "# Comparison Between TreeValue and Tianshou Batch"
   ]
  },
  {
   "cell_type": "markdown",
   "id": "3c6db2d4",
   "metadata": {},
   "source": [
    "In this section, we will take a look at the feature and performance of the [Tianshou Batch](https://github.com/thu-ml/tianshou) library, which is developed by Tsinghua Machine Learning Group."
   ]
  },
  {
   "cell_type": "markdown",
   "id": "069361b0",
   "metadata": {},
   "source": [
    "Before starting the comparison, let us define some thing."
   ]
  },
  {
   "cell_type": "code",
   "execution_count": 1,
   "id": "06fc8d26",
   "metadata": {
    "execution": {
     "iopub.execute_input": "2023-02-27T12:58:12.694649Z",
     "iopub.status.busy": "2023-02-27T12:58:12.694150Z",
     "iopub.status.idle": "2023-02-27T12:58:13.616697Z",
     "shell.execute_reply": "2023-02-27T12:58:13.616015Z"
    }
   },
   "outputs": [
    {
     "name": "stderr",
     "output_type": "stream",
     "text": [
      "/opt/hostedtoolcache/Python/3.8.16/x64/lib/python3.8/site-packages/tqdm/auto.py:22: TqdmWarning: IProgress not found. Please update jupyter and ipywidgets. See https://ipywidgets.readthedocs.io/en/stable/user_install.html\n",
      "  from .autonotebook import tqdm as notebook_tqdm\n"
     ]
    }
   ],
   "source": [
    "import torch \n",
    "\n",
    "_TREE_DATA_1 = {'a': 1, 'b': 2, 'x': {'c': 3, 'd': 4}}\n",
    "_TREE_DATA_2 = {\n",
    "    'a': torch.randn(2, 3), \n",
    "    'x': {\n",
    "        'c': torch.randn(3, 4)\n",
    "    },\n",
    "}\n",
    "_TREE_DATA_3 = {\n",
    "    'obs': torch.randn(4, 84, 84),\n",
    "    'action': torch.randint(0, 6, size=(1,)),\n",
    "    'reward': torch.rand(1),\n",
    "}"
   ]
  },
  {
   "cell_type": "markdown",
   "id": "83461b25",
   "metadata": {},
   "source": [
    "## Read and Write Operation"
   ]
  },
  {
   "cell_type": "markdown",
   "id": "067b3f73",
   "metadata": {},
   "source": [
    "Reading and writing are the two most common operations in the tree data structure based on the data model (TreeValue and Tianshou Batch both belong to this type), so this section will compare the reading and writing performance of these two libraries."
   ]
  },
  {
   "cell_type": "markdown",
   "id": "5d09a5b7",
   "metadata": {},
   "source": [
    "### TreeValue's Get and Set"
   ]
  },
  {
   "cell_type": "code",
   "execution_count": 2,
   "id": "9519c4bb",
   "metadata": {
    "execution": {
     "iopub.execute_input": "2023-02-27T12:58:13.620136Z",
     "iopub.status.busy": "2023-02-27T12:58:13.619734Z",
     "iopub.status.idle": "2023-02-27T12:58:13.652515Z",
     "shell.execute_reply": "2023-02-27T12:58:13.651894Z"
    }
   },
   "outputs": [],
   "source": [
    "from treevalue import FastTreeValue\n",
    "\n",
    "t = FastTreeValue(_TREE_DATA_2)"
   ]
  },
  {
   "cell_type": "code",
   "execution_count": 3,
   "id": "11c37677",
   "metadata": {
    "execution": {
     "iopub.execute_input": "2023-02-27T12:58:13.655575Z",
     "iopub.status.busy": "2023-02-27T12:58:13.655221Z",
     "iopub.status.idle": "2023-02-27T12:58:13.664407Z",
     "shell.execute_reply": "2023-02-27T12:58:13.663829Z"
    }
   },
   "outputs": [
    {
     "data": {
      "text/plain": [
       "<FastTreeValue 0x7f763c5b8e50>\n",
       "├── 'a' --> tensor([[ 1.7684,  0.6979, -0.9201],\n",
       "│                   [-0.5249, -1.0979, -0.4504]])\n",
       "└── 'x' --> <FastTreeValue 0x7f763c557b80>\n",
       "    └── 'c' --> tensor([[-0.3935,  1.0797,  2.2171, -0.2648],\n",
       "                        [ 1.0158,  1.9922,  1.3555, -0.0059],\n",
       "                        [-0.8977,  0.6875,  0.7914,  0.8611]])"
      ]
     },
     "execution_count": 3,
     "metadata": {},
     "output_type": "execute_result"
    }
   ],
   "source": [
    "t"
   ]
  },
  {
   "cell_type": "code",
   "execution_count": 4,
   "id": "fd70b0b9",
   "metadata": {
    "execution": {
     "iopub.execute_input": "2023-02-27T12:58:13.667399Z",
     "iopub.status.busy": "2023-02-27T12:58:13.666921Z",
     "iopub.status.idle": "2023-02-27T12:58:13.672545Z",
     "shell.execute_reply": "2023-02-27T12:58:13.671967Z"
    }
   },
   "outputs": [
    {
     "data": {
      "text/plain": [
       "tensor([[ 1.7684,  0.6979, -0.9201],\n",
       "        [-0.5249, -1.0979, -0.4504]])"
      ]
     },
     "execution_count": 4,
     "metadata": {},
     "output_type": "execute_result"
    }
   ],
   "source": [
    "t.a"
   ]
  },
  {
   "cell_type": "code",
   "execution_count": 5,
   "id": "c18197bd",
   "metadata": {
    "execution": {
     "iopub.execute_input": "2023-02-27T12:58:13.674934Z",
     "iopub.status.busy": "2023-02-27T12:58:13.674577Z",
     "iopub.status.idle": "2023-02-27T12:58:19.281545Z",
     "shell.execute_reply": "2023-02-27T12:58:19.280828Z"
    }
   },
   "outputs": [
    {
     "name": "stdout",
     "output_type": "stream",
     "text": [
      "69.4 ns ± 0.0165 ns per loop (mean ± std. dev. of 7 runs, 10,000,000 loops each)\n"
     ]
    }
   ],
   "source": [
    "%timeit t.a"
   ]
  },
  {
   "cell_type": "code",
   "execution_count": 6,
   "id": "bd52f867",
   "metadata": {
    "execution": {
     "iopub.execute_input": "2023-02-27T12:58:19.284712Z",
     "iopub.status.busy": "2023-02-27T12:58:19.284255Z",
     "iopub.status.idle": "2023-02-27T12:58:19.290771Z",
     "shell.execute_reply": "2023-02-27T12:58:19.290202Z"
    }
   },
   "outputs": [
    {
     "data": {
      "text/plain": [
       "<FastTreeValue 0x7f763c5b8e50>\n",
       "├── 'a' --> tensor([[-0.6247,  1.1244, -0.9386],\n",
       "│                   [-0.0660, -1.7112, -2.0395]])\n",
       "└── 'x' --> <FastTreeValue 0x7f763c557b80>\n",
       "    └── 'c' --> tensor([[-0.3935,  1.0797,  2.2171, -0.2648],\n",
       "                        [ 1.0158,  1.9922,  1.3555, -0.0059],\n",
       "                        [-0.8977,  0.6875,  0.7914,  0.8611]])"
      ]
     },
     "execution_count": 6,
     "metadata": {},
     "output_type": "execute_result"
    }
   ],
   "source": [
    "new_value = torch.randn(2, 3)\n",
    "t.a = new_value\n",
    "\n",
    "t"
   ]
  },
  {
   "cell_type": "code",
   "execution_count": 7,
   "id": "bbe04d1c",
   "metadata": {
    "execution": {
     "iopub.execute_input": "2023-02-27T12:58:19.293217Z",
     "iopub.status.busy": "2023-02-27T12:58:19.292877Z",
     "iopub.status.idle": "2023-02-27T12:58:24.126550Z",
     "shell.execute_reply": "2023-02-27T12:58:24.125821Z"
    }
   },
   "outputs": [
    {
     "name": "stdout",
     "output_type": "stream",
     "text": [
      "59.6 ns ± 0.0423 ns per loop (mean ± std. dev. of 7 runs, 10,000,000 loops each)\n"
     ]
    }
   ],
   "source": [
    "%timeit t.a = new_value"
   ]
  },
  {
   "cell_type": "markdown",
   "id": "48c49731",
   "metadata": {},
   "source": [
    "### Tianshou Batch's Get and Set"
   ]
  },
  {
   "cell_type": "code",
   "execution_count": 8,
   "id": "f1bb14c1",
   "metadata": {
    "execution": {
     "iopub.execute_input": "2023-02-27T12:58:24.129908Z",
     "iopub.status.busy": "2023-02-27T12:58:24.129326Z",
     "iopub.status.idle": "2023-02-27T12:58:24.460316Z",
     "shell.execute_reply": "2023-02-27T12:58:24.459641Z"
    }
   },
   "outputs": [],
   "source": [
    "from tianshou.data import Batch\n",
    "\n",
    "b = Batch(**_TREE_DATA_2)"
   ]
  },
  {
   "cell_type": "code",
   "execution_count": 9,
   "id": "cb0777c3",
   "metadata": {
    "execution": {
     "iopub.execute_input": "2023-02-27T12:58:24.463380Z",
     "iopub.status.busy": "2023-02-27T12:58:24.462859Z",
     "iopub.status.idle": "2023-02-27T12:58:24.468954Z",
     "shell.execute_reply": "2023-02-27T12:58:24.468383Z"
    }
   },
   "outputs": [
    {
     "data": {
      "text/plain": [
       "Batch(\n",
       "    a: tensor([[ 1.7684,  0.6979, -0.9201],\n",
       "               [-0.5249, -1.0979, -0.4504]]),\n",
       "    x: Batch(\n",
       "           c: tensor([[-0.3935,  1.0797,  2.2171, -0.2648],\n",
       "                      [ 1.0158,  1.9922,  1.3555, -0.0059],\n",
       "                      [-0.8977,  0.6875,  0.7914,  0.8611]]),\n",
       "       ),\n",
       ")"
      ]
     },
     "execution_count": 9,
     "metadata": {},
     "output_type": "execute_result"
    }
   ],
   "source": [
    "b"
   ]
  },
  {
   "cell_type": "code",
   "execution_count": 10,
   "id": "43ef8ea3",
   "metadata": {
    "execution": {
     "iopub.execute_input": "2023-02-27T12:58:24.471679Z",
     "iopub.status.busy": "2023-02-27T12:58:24.471086Z",
     "iopub.status.idle": "2023-02-27T12:58:24.476448Z",
     "shell.execute_reply": "2023-02-27T12:58:24.475889Z"
    }
   },
   "outputs": [
    {
     "data": {
      "text/plain": [
       "tensor([[ 1.7684,  0.6979, -0.9201],\n",
       "        [-0.5249, -1.0979, -0.4504]])"
      ]
     },
     "execution_count": 10,
     "metadata": {},
     "output_type": "execute_result"
    }
   ],
   "source": [
    "b.a"
   ]
  },
  {
   "cell_type": "code",
   "execution_count": 11,
   "id": "b785ab72",
   "metadata": {
    "execution": {
     "iopub.execute_input": "2023-02-27T12:58:24.479312Z",
     "iopub.status.busy": "2023-02-27T12:58:24.478827Z",
     "iopub.status.idle": "2023-02-27T12:58:29.129034Z",
     "shell.execute_reply": "2023-02-27T12:58:29.128364Z"
    }
   },
   "outputs": [
    {
     "name": "stdout",
     "output_type": "stream",
     "text": [
      "57.3 ns ± 0.0112 ns per loop (mean ± std. dev. of 7 runs, 10,000,000 loops each)\n"
     ]
    }
   ],
   "source": [
    "%timeit b.a"
   ]
  },
  {
   "cell_type": "code",
   "execution_count": 12,
   "id": "ad54dc69",
   "metadata": {
    "execution": {
     "iopub.execute_input": "2023-02-27T12:58:29.132028Z",
     "iopub.status.busy": "2023-02-27T12:58:29.131440Z",
     "iopub.status.idle": "2023-02-27T12:58:29.137881Z",
     "shell.execute_reply": "2023-02-27T12:58:29.137288Z"
    }
   },
   "outputs": [
    {
     "data": {
      "text/plain": [
       "Batch(\n",
       "    a: tensor([[-0.4352,  0.3558,  1.5319],\n",
       "               [ 0.7519, -0.1134, -0.3102]]),\n",
       "    x: Batch(\n",
       "           c: tensor([[-0.3935,  1.0797,  2.2171, -0.2648],\n",
       "                      [ 1.0158,  1.9922,  1.3555, -0.0059],\n",
       "                      [-0.8977,  0.6875,  0.7914,  0.8611]]),\n",
       "       ),\n",
       ")"
      ]
     },
     "execution_count": 12,
     "metadata": {},
     "output_type": "execute_result"
    }
   ],
   "source": [
    "new_value = torch.randn(2, 3)\n",
    "b.a = new_value\n",
    "\n",
    "b"
   ]
  },
  {
   "cell_type": "code",
   "execution_count": 13,
   "id": "29b1d0bf",
   "metadata": {
    "execution": {
     "iopub.execute_input": "2023-02-27T12:58:29.141477Z",
     "iopub.status.busy": "2023-02-27T12:58:29.140395Z",
     "iopub.status.idle": "2023-02-27T12:58:33.102532Z",
     "shell.execute_reply": "2023-02-27T12:58:33.101795Z"
    }
   },
   "outputs": [
    {
     "name": "stdout",
     "output_type": "stream",
     "text": [
      "488 ns ± 0.191 ns per loop (mean ± std. dev. of 7 runs, 1,000,000 loops each)\n"
     ]
    }
   ],
   "source": [
    "%timeit b.a = new_value"
   ]
  },
  {
   "cell_type": "markdown",
   "id": "b61ad1d0",
   "metadata": {},
   "source": [
    "## Initialization"
   ]
  },
  {
   "cell_type": "markdown",
   "id": "d70f0d54",
   "metadata": {},
   "source": [
    "### TreeValue's Initialization"
   ]
  },
  {
   "cell_type": "code",
   "execution_count": 14,
   "id": "d32a679b",
   "metadata": {
    "execution": {
     "iopub.execute_input": "2023-02-27T12:58:33.105893Z",
     "iopub.status.busy": "2023-02-27T12:58:33.105413Z",
     "iopub.status.idle": "2023-02-27T12:58:39.918931Z",
     "shell.execute_reply": "2023-02-27T12:58:39.918213Z"
    }
   },
   "outputs": [
    {
     "name": "stdout",
     "output_type": "stream",
     "text": [
      "840 ns ± 0.781 ns per loop (mean ± std. dev. of 7 runs, 1,000,000 loops each)\n"
     ]
    }
   ],
   "source": [
    "%timeit FastTreeValue(_TREE_DATA_1)"
   ]
  },
  {
   "cell_type": "markdown",
   "id": "24f3707b",
   "metadata": {},
   "source": [
    "### Tianshou Batch's Initialization"
   ]
  },
  {
   "cell_type": "code",
   "execution_count": 15,
   "id": "ac3958df",
   "metadata": {
    "execution": {
     "iopub.execute_input": "2023-02-27T12:58:39.921967Z",
     "iopub.status.busy": "2023-02-27T12:58:39.921417Z",
     "iopub.status.idle": "2023-02-27T12:58:49.392140Z",
     "shell.execute_reply": "2023-02-27T12:58:49.391445Z"
    }
   },
   "outputs": [
    {
     "name": "stdout",
     "output_type": "stream",
     "text": [
      "11.7 µs ± 29.3 ns per loop (mean ± std. dev. of 7 runs, 100,000 loops each)\n"
     ]
    }
   ],
   "source": [
    "%timeit Batch(**_TREE_DATA_1)"
   ]
  },
  {
   "cell_type": "markdown",
   "id": "1ab82e2d",
   "metadata": {},
   "source": [
    "## Deep Copy Operation"
   ]
  },
  {
   "cell_type": "code",
   "execution_count": 16,
   "id": "210a9442",
   "metadata": {
    "execution": {
     "iopub.execute_input": "2023-02-27T12:58:49.395119Z",
     "iopub.status.busy": "2023-02-27T12:58:49.394761Z",
     "iopub.status.idle": "2023-02-27T12:58:49.398685Z",
     "shell.execute_reply": "2023-02-27T12:58:49.398089Z"
    }
   },
   "outputs": [],
   "source": [
    "import copy"
   ]
  },
  {
   "cell_type": "markdown",
   "id": "5a736274",
   "metadata": {},
   "source": [
    "### Deep Copy of TreeValue"
   ]
  },
  {
   "cell_type": "code",
   "execution_count": 17,
   "id": "f9bcadd6",
   "metadata": {
    "execution": {
     "iopub.execute_input": "2023-02-27T12:58:49.401263Z",
     "iopub.status.busy": "2023-02-27T12:58:49.400912Z",
     "iopub.status.idle": "2023-02-27T12:59:00.456222Z",
     "shell.execute_reply": "2023-02-27T12:59:00.455654Z"
    }
   },
   "outputs": [
    {
     "name": "stdout",
     "output_type": "stream",
     "text": [
      "136 µs ± 417 ns per loop (mean ± std. dev. of 7 runs, 10,000 loops each)\n"
     ]
    }
   ],
   "source": [
    "t3 = FastTreeValue(_TREE_DATA_3)\n",
    "%timeit copy.deepcopy(t3)"
   ]
  },
  {
   "cell_type": "markdown",
   "id": "bf8be7ea",
   "metadata": {},
   "source": [
    "### Deep Copy of Tianshou Batch"
   ]
  },
  {
   "cell_type": "code",
   "execution_count": 18,
   "id": "91998e6f",
   "metadata": {
    "execution": {
     "iopub.execute_input": "2023-02-27T12:59:00.460347Z",
     "iopub.status.busy": "2023-02-27T12:59:00.459353Z",
     "iopub.status.idle": "2023-02-27T12:59:11.839431Z",
     "shell.execute_reply": "2023-02-27T12:59:11.838796Z"
    }
   },
   "outputs": [
    {
     "name": "stdout",
     "output_type": "stream",
     "text": [
      "140 µs ± 628 ns per loop (mean ± std. dev. of 7 runs, 10,000 loops each)\n"
     ]
    }
   ],
   "source": [
    "b3 = Batch(**_TREE_DATA_3)\n",
    "%timeit copy.deepcopy(b3)"
   ]
  },
  {
   "cell_type": "markdown",
   "id": "223162fb",
   "metadata": {},
   "source": [
    "## Stack, Concat and Split Operation"
   ]
  },
  {
   "cell_type": "markdown",
   "id": "85fa4a73",
   "metadata": {},
   "source": [
    "### Performance of TreeValue"
   ]
  },
  {
   "cell_type": "code",
   "execution_count": 19,
   "id": "a0c2b697",
   "metadata": {
    "execution": {
     "iopub.execute_input": "2023-02-27T12:59:11.843039Z",
     "iopub.status.busy": "2023-02-27T12:59:11.842448Z",
     "iopub.status.idle": "2023-02-27T12:59:11.846916Z",
     "shell.execute_reply": "2023-02-27T12:59:11.846278Z"
    }
   },
   "outputs": [],
   "source": [
    "trees = [FastTreeValue(_TREE_DATA_2) for _ in range(8)]"
   ]
  },
  {
   "cell_type": "code",
   "execution_count": 20,
   "id": "017ea5a5",
   "metadata": {
    "execution": {
     "iopub.execute_input": "2023-02-27T12:59:11.849647Z",
     "iopub.status.busy": "2023-02-27T12:59:11.849108Z",
     "iopub.status.idle": "2023-02-27T12:59:11.856558Z",
     "shell.execute_reply": "2023-02-27T12:59:11.855888Z"
    }
   },
   "outputs": [
    {
     "data": {
      "text/plain": [
       "<FastTreeValue 0x7f763c552220>\n",
       "├── 'a' --> tensor([[[ 1.7684,  0.6979, -0.9201],\n",
       "│                    [-0.5249, -1.0979, -0.4504]],\n",
       "│           \n",
       "│                   [[ 1.7684,  0.6979, -0.9201],\n",
       "│                    [-0.5249, -1.0979, -0.4504]],\n",
       "│           \n",
       "│                   [[ 1.7684,  0.6979, -0.9201],\n",
       "│                    [-0.5249, -1.0979, -0.4504]],\n",
       "│           \n",
       "│                   [[ 1.7684,  0.6979, -0.9201],\n",
       "│                    [-0.5249, -1.0979, -0.4504]],\n",
       "│           \n",
       "│                   [[ 1.7684,  0.6979, -0.9201],\n",
       "│                    [-0.5249, -1.0979, -0.4504]],\n",
       "│           \n",
       "│                   [[ 1.7684,  0.6979, -0.9201],\n",
       "│                    [-0.5249, -1.0979, -0.4504]],\n",
       "│           \n",
       "│                   [[ 1.7684,  0.6979, -0.9201],\n",
       "│                    [-0.5249, -1.0979, -0.4504]],\n",
       "│           \n",
       "│                   [[ 1.7684,  0.6979, -0.9201],\n",
       "│                    [-0.5249, -1.0979, -0.4504]]])\n",
       "└── 'x' --> <FastTreeValue 0x7f763c552250>\n",
       "    └── 'c' --> tensor([[[-0.3935,  1.0797,  2.2171, -0.2648],\n",
       "                         [ 1.0158,  1.9922,  1.3555, -0.0059],\n",
       "                         [-0.8977,  0.6875,  0.7914,  0.8611]],\n",
       "                \n",
       "                        [[-0.3935,  1.0797,  2.2171, -0.2648],\n",
       "                         [ 1.0158,  1.9922,  1.3555, -0.0059],\n",
       "                         [-0.8977,  0.6875,  0.7914,  0.8611]],\n",
       "                \n",
       "                        [[-0.3935,  1.0797,  2.2171, -0.2648],\n",
       "                         [ 1.0158,  1.9922,  1.3555, -0.0059],\n",
       "                         [-0.8977,  0.6875,  0.7914,  0.8611]],\n",
       "                \n",
       "                        [[-0.3935,  1.0797,  2.2171, -0.2648],\n",
       "                         [ 1.0158,  1.9922,  1.3555, -0.0059],\n",
       "                         [-0.8977,  0.6875,  0.7914,  0.8611]],\n",
       "                \n",
       "                        [[-0.3935,  1.0797,  2.2171, -0.2648],\n",
       "                         [ 1.0158,  1.9922,  1.3555, -0.0059],\n",
       "                         [-0.8977,  0.6875,  0.7914,  0.8611]],\n",
       "                \n",
       "                        [[-0.3935,  1.0797,  2.2171, -0.2648],\n",
       "                         [ 1.0158,  1.9922,  1.3555, -0.0059],\n",
       "                         [-0.8977,  0.6875,  0.7914,  0.8611]],\n",
       "                \n",
       "                        [[-0.3935,  1.0797,  2.2171, -0.2648],\n",
       "                         [ 1.0158,  1.9922,  1.3555, -0.0059],\n",
       "                         [-0.8977,  0.6875,  0.7914,  0.8611]],\n",
       "                \n",
       "                        [[-0.3935,  1.0797,  2.2171, -0.2648],\n",
       "                         [ 1.0158,  1.9922,  1.3555, -0.0059],\n",
       "                         [-0.8977,  0.6875,  0.7914,  0.8611]]])"
      ]
     },
     "execution_count": 20,
     "metadata": {},
     "output_type": "execute_result"
    }
   ],
   "source": [
    "t_stack = FastTreeValue.func(subside=True)(torch.stack)\n",
    "\n",
    "t_stack(trees)"
   ]
  },
  {
   "cell_type": "code",
   "execution_count": 21,
   "id": "f8b3f415",
   "metadata": {
    "execution": {
     "iopub.execute_input": "2023-02-27T12:59:11.859231Z",
     "iopub.status.busy": "2023-02-27T12:59:11.858717Z",
     "iopub.status.idle": "2023-02-27T12:59:14.526064Z",
     "shell.execute_reply": "2023-02-27T12:59:14.525315Z"
    }
   },
   "outputs": [
    {
     "name": "stdout",
     "output_type": "stream",
     "text": [
      "32.8 µs ± 25.8 ns per loop (mean ± std. dev. of 7 runs, 10,000 loops each)\n"
     ]
    }
   ],
   "source": [
    "%timeit t_stack(trees)"
   ]
  },
  {
   "cell_type": "code",
   "execution_count": 22,
   "id": "94b56771",
   "metadata": {
    "execution": {
     "iopub.execute_input": "2023-02-27T12:59:14.528917Z",
     "iopub.status.busy": "2023-02-27T12:59:14.528692Z",
     "iopub.status.idle": "2023-02-27T12:59:14.536326Z",
     "shell.execute_reply": "2023-02-27T12:59:14.535714Z"
    }
   },
   "outputs": [
    {
     "data": {
      "text/plain": [
       "<FastTreeValue 0x7f763c557850>\n",
       "├── 'a' --> tensor([[ 1.7684,  0.6979, -0.9201],\n",
       "│                   [-0.5249, -1.0979, -0.4504],\n",
       "│                   [ 1.7684,  0.6979, -0.9201],\n",
       "│                   [-0.5249, -1.0979, -0.4504],\n",
       "│                   [ 1.7684,  0.6979, -0.9201],\n",
       "│                   [-0.5249, -1.0979, -0.4504],\n",
       "│                   [ 1.7684,  0.6979, -0.9201],\n",
       "│                   [-0.5249, -1.0979, -0.4504],\n",
       "│                   [ 1.7684,  0.6979, -0.9201],\n",
       "│                   [-0.5249, -1.0979, -0.4504],\n",
       "│                   [ 1.7684,  0.6979, -0.9201],\n",
       "│                   [-0.5249, -1.0979, -0.4504],\n",
       "│                   [ 1.7684,  0.6979, -0.9201],\n",
       "│                   [-0.5249, -1.0979, -0.4504],\n",
       "│                   [ 1.7684,  0.6979, -0.9201],\n",
       "│                   [-0.5249, -1.0979, -0.4504]])\n",
       "└── 'x' --> <FastTreeValue 0x7f763c5578e0>\n",
       "    └── 'c' --> tensor([[-0.3935,  1.0797,  2.2171, -0.2648],\n",
       "                        [ 1.0158,  1.9922,  1.3555, -0.0059],\n",
       "                        [-0.8977,  0.6875,  0.7914,  0.8611],\n",
       "                        [-0.3935,  1.0797,  2.2171, -0.2648],\n",
       "                        [ 1.0158,  1.9922,  1.3555, -0.0059],\n",
       "                        [-0.8977,  0.6875,  0.7914,  0.8611],\n",
       "                        [-0.3935,  1.0797,  2.2171, -0.2648],\n",
       "                        [ 1.0158,  1.9922,  1.3555, -0.0059],\n",
       "                        [-0.8977,  0.6875,  0.7914,  0.8611],\n",
       "                        [-0.3935,  1.0797,  2.2171, -0.2648],\n",
       "                        [ 1.0158,  1.9922,  1.3555, -0.0059],\n",
       "                        [-0.8977,  0.6875,  0.7914,  0.8611],\n",
       "                        [-0.3935,  1.0797,  2.2171, -0.2648],\n",
       "                        [ 1.0158,  1.9922,  1.3555, -0.0059],\n",
       "                        [-0.8977,  0.6875,  0.7914,  0.8611],\n",
       "                        [-0.3935,  1.0797,  2.2171, -0.2648],\n",
       "                        [ 1.0158,  1.9922,  1.3555, -0.0059],\n",
       "                        [-0.8977,  0.6875,  0.7914,  0.8611],\n",
       "                        [-0.3935,  1.0797,  2.2171, -0.2648],\n",
       "                        [ 1.0158,  1.9922,  1.3555, -0.0059],\n",
       "                        [-0.8977,  0.6875,  0.7914,  0.8611],\n",
       "                        [-0.3935,  1.0797,  2.2171, -0.2648],\n",
       "                        [ 1.0158,  1.9922,  1.3555, -0.0059],\n",
       "                        [-0.8977,  0.6875,  0.7914,  0.8611]])"
      ]
     },
     "execution_count": 22,
     "metadata": {},
     "output_type": "execute_result"
    }
   ],
   "source": [
    "t_cat = FastTreeValue.func(subside=True)(torch.cat)\n",
    "\n",
    "t_cat(trees)"
   ]
  },
  {
   "cell_type": "code",
   "execution_count": 23,
   "id": "5e9c06a6",
   "metadata": {
    "execution": {
     "iopub.execute_input": "2023-02-27T12:59:14.538984Z",
     "iopub.status.busy": "2023-02-27T12:59:14.538533Z",
     "iopub.status.idle": "2023-02-27T12:59:17.024724Z",
     "shell.execute_reply": "2023-02-27T12:59:17.023999Z"
    }
   },
   "outputs": [
    {
     "name": "stdout",
     "output_type": "stream",
     "text": [
      "30.6 µs ± 66.5 ns per loop (mean ± std. dev. of 7 runs, 10,000 loops each)\n"
     ]
    }
   ],
   "source": [
    "%timeit t_cat(trees)"
   ]
  },
  {
   "cell_type": "code",
   "execution_count": 24,
   "id": "a3ab5c8f",
   "metadata": {
    "execution": {
     "iopub.execute_input": "2023-02-27T12:59:17.027749Z",
     "iopub.status.busy": "2023-02-27T12:59:17.027170Z",
     "iopub.status.idle": "2023-02-27T12:59:21.778693Z",
     "shell.execute_reply": "2023-02-27T12:59:21.778004Z"
    }
   },
   "outputs": [
    {
     "name": "stdout",
     "output_type": "stream",
     "text": [
      "58.5 µs ± 181 ns per loop (mean ± std. dev. of 7 runs, 10,000 loops each)\n"
     ]
    }
   ],
   "source": [
    "t_split = FastTreeValue.func(rise=True)(torch.split)\n",
    "tree = FastTreeValue({\n",
    "    'obs': torch.randn(8, 4, 84, 84),\n",
    "    'action': torch.randint(0, 6, size=(8, 1,)),\n",
    "    'reward': torch.rand(8, 1),\n",
    "})\n",
    "\n",
    "%timeit t_split(tree, 1)"
   ]
  },
  {
   "cell_type": "markdown",
   "id": "31c3ec0b",
   "metadata": {},
   "source": [
    "### Performance of Tianshou Batch"
   ]
  },
  {
   "cell_type": "code",
   "execution_count": 25,
   "id": "9ead828a",
   "metadata": {
    "execution": {
     "iopub.execute_input": "2023-02-27T12:59:21.781866Z",
     "iopub.status.busy": "2023-02-27T12:59:21.781492Z",
     "iopub.status.idle": "2023-02-27T12:59:21.789481Z",
     "shell.execute_reply": "2023-02-27T12:59:21.788898Z"
    }
   },
   "outputs": [
    {
     "data": {
      "text/plain": [
       "Batch(\n",
       "    a: tensor([[[ 1.7684,  0.6979, -0.9201],\n",
       "                [-0.5249, -1.0979, -0.4504]],\n",
       "       \n",
       "               [[ 1.7684,  0.6979, -0.9201],\n",
       "                [-0.5249, -1.0979, -0.4504]],\n",
       "       \n",
       "               [[ 1.7684,  0.6979, -0.9201],\n",
       "                [-0.5249, -1.0979, -0.4504]],\n",
       "       \n",
       "               [[ 1.7684,  0.6979, -0.9201],\n",
       "                [-0.5249, -1.0979, -0.4504]],\n",
       "       \n",
       "               [[ 1.7684,  0.6979, -0.9201],\n",
       "                [-0.5249, -1.0979, -0.4504]],\n",
       "       \n",
       "               [[ 1.7684,  0.6979, -0.9201],\n",
       "                [-0.5249, -1.0979, -0.4504]],\n",
       "       \n",
       "               [[ 1.7684,  0.6979, -0.9201],\n",
       "                [-0.5249, -1.0979, -0.4504]],\n",
       "       \n",
       "               [[ 1.7684,  0.6979, -0.9201],\n",
       "                [-0.5249, -1.0979, -0.4504]]]),\n",
       "    x: Batch(\n",
       "           c: tensor([[[-0.3935,  1.0797,  2.2171, -0.2648],\n",
       "                       [ 1.0158,  1.9922,  1.3555, -0.0059],\n",
       "                       [-0.8977,  0.6875,  0.7914,  0.8611]],\n",
       "              \n",
       "                      [[-0.3935,  1.0797,  2.2171, -0.2648],\n",
       "                       [ 1.0158,  1.9922,  1.3555, -0.0059],\n",
       "                       [-0.8977,  0.6875,  0.7914,  0.8611]],\n",
       "              \n",
       "                      [[-0.3935,  1.0797,  2.2171, -0.2648],\n",
       "                       [ 1.0158,  1.9922,  1.3555, -0.0059],\n",
       "                       [-0.8977,  0.6875,  0.7914,  0.8611]],\n",
       "              \n",
       "                      [[-0.3935,  1.0797,  2.2171, -0.2648],\n",
       "                       [ 1.0158,  1.9922,  1.3555, -0.0059],\n",
       "                       [-0.8977,  0.6875,  0.7914,  0.8611]],\n",
       "              \n",
       "                      [[-0.3935,  1.0797,  2.2171, -0.2648],\n",
       "                       [ 1.0158,  1.9922,  1.3555, -0.0059],\n",
       "                       [-0.8977,  0.6875,  0.7914,  0.8611]],\n",
       "              \n",
       "                      [[-0.3935,  1.0797,  2.2171, -0.2648],\n",
       "                       [ 1.0158,  1.9922,  1.3555, -0.0059],\n",
       "                       [-0.8977,  0.6875,  0.7914,  0.8611]],\n",
       "              \n",
       "                      [[-0.3935,  1.0797,  2.2171, -0.2648],\n",
       "                       [ 1.0158,  1.9922,  1.3555, -0.0059],\n",
       "                       [-0.8977,  0.6875,  0.7914,  0.8611]],\n",
       "              \n",
       "                      [[-0.3935,  1.0797,  2.2171, -0.2648],\n",
       "                       [ 1.0158,  1.9922,  1.3555, -0.0059],\n",
       "                       [-0.8977,  0.6875,  0.7914,  0.8611]]]),\n",
       "       ),\n",
       ")"
      ]
     },
     "execution_count": 25,
     "metadata": {},
     "output_type": "execute_result"
    }
   ],
   "source": [
    "batches = [Batch(**_TREE_DATA_2) for _ in range(8)]\n",
    "\n",
    "Batch.stack(batches)"
   ]
  },
  {
   "cell_type": "code",
   "execution_count": 26,
   "id": "ec9037a3",
   "metadata": {
    "execution": {
     "iopub.execute_input": "2023-02-27T12:59:21.792210Z",
     "iopub.status.busy": "2023-02-27T12:59:21.791875Z",
     "iopub.status.idle": "2023-02-27T12:59:28.218378Z",
     "shell.execute_reply": "2023-02-27T12:59:28.217679Z"
    }
   },
   "outputs": [
    {
     "name": "stdout",
     "output_type": "stream",
     "text": [
      "79.1 µs ± 253 ns per loop (mean ± std. dev. of 7 runs, 10,000 loops each)\n"
     ]
    }
   ],
   "source": [
    "%timeit Batch.stack(batches)"
   ]
  },
  {
   "cell_type": "code",
   "execution_count": 27,
   "id": "cb8ab77e",
   "metadata": {
    "execution": {
     "iopub.execute_input": "2023-02-27T12:59:28.221761Z",
     "iopub.status.busy": "2023-02-27T12:59:28.221223Z",
     "iopub.status.idle": "2023-02-27T12:59:28.228710Z",
     "shell.execute_reply": "2023-02-27T12:59:28.228112Z"
    }
   },
   "outputs": [
    {
     "data": {
      "text/plain": [
       "Batch(\n",
       "    a: tensor([[ 1.7684,  0.6979, -0.9201],\n",
       "               [-0.5249, -1.0979, -0.4504],\n",
       "               [ 1.7684,  0.6979, -0.9201],\n",
       "               [-0.5249, -1.0979, -0.4504],\n",
       "               [ 1.7684,  0.6979, -0.9201],\n",
       "               [-0.5249, -1.0979, -0.4504],\n",
       "               [ 1.7684,  0.6979, -0.9201],\n",
       "               [-0.5249, -1.0979, -0.4504],\n",
       "               [ 1.7684,  0.6979, -0.9201],\n",
       "               [-0.5249, -1.0979, -0.4504],\n",
       "               [ 1.7684,  0.6979, -0.9201],\n",
       "               [-0.5249, -1.0979, -0.4504],\n",
       "               [ 1.7684,  0.6979, -0.9201],\n",
       "               [-0.5249, -1.0979, -0.4504],\n",
       "               [ 1.7684,  0.6979, -0.9201],\n",
       "               [-0.5249, -1.0979, -0.4504]]),\n",
       "    x: Batch(\n",
       "           c: tensor([[-0.3935,  1.0797,  2.2171, -0.2648],\n",
       "                      [ 1.0158,  1.9922,  1.3555, -0.0059],\n",
       "                      [-0.8977,  0.6875,  0.7914,  0.8611],\n",
       "                      [-0.3935,  1.0797,  2.2171, -0.2648],\n",
       "                      [ 1.0158,  1.9922,  1.3555, -0.0059],\n",
       "                      [-0.8977,  0.6875,  0.7914,  0.8611],\n",
       "                      [-0.3935,  1.0797,  2.2171, -0.2648],\n",
       "                      [ 1.0158,  1.9922,  1.3555, -0.0059],\n",
       "                      [-0.8977,  0.6875,  0.7914,  0.8611],\n",
       "                      [-0.3935,  1.0797,  2.2171, -0.2648],\n",
       "                      [ 1.0158,  1.9922,  1.3555, -0.0059],\n",
       "                      [-0.8977,  0.6875,  0.7914,  0.8611],\n",
       "                      [-0.3935,  1.0797,  2.2171, -0.2648],\n",
       "                      [ 1.0158,  1.9922,  1.3555, -0.0059],\n",
       "                      [-0.8977,  0.6875,  0.7914,  0.8611],\n",
       "                      [-0.3935,  1.0797,  2.2171, -0.2648],\n",
       "                      [ 1.0158,  1.9922,  1.3555, -0.0059],\n",
       "                      [-0.8977,  0.6875,  0.7914,  0.8611],\n",
       "                      [-0.3935,  1.0797,  2.2171, -0.2648],\n",
       "                      [ 1.0158,  1.9922,  1.3555, -0.0059],\n",
       "                      [-0.8977,  0.6875,  0.7914,  0.8611],\n",
       "                      [-0.3935,  1.0797,  2.2171, -0.2648],\n",
       "                      [ 1.0158,  1.9922,  1.3555, -0.0059],\n",
       "                      [-0.8977,  0.6875,  0.7914,  0.8611]]),\n",
       "       ),\n",
       ")"
      ]
     },
     "execution_count": 27,
     "metadata": {},
     "output_type": "execute_result"
    }
   ],
   "source": [
    "Batch.cat(batches)"
   ]
  },
  {
   "cell_type": "code",
   "execution_count": 28,
   "id": "18dfb045",
   "metadata": {
    "execution": {
     "iopub.execute_input": "2023-02-27T12:59:28.231667Z",
     "iopub.status.busy": "2023-02-27T12:59:28.231086Z",
     "iopub.status.idle": "2023-02-27T12:59:39.810146Z",
     "shell.execute_reply": "2023-02-27T12:59:39.809400Z"
    }
   },
   "outputs": [
    {
     "name": "stdout",
     "output_type": "stream",
     "text": [
      "142 µs ± 363 ns per loop (mean ± std. dev. of 7 runs, 10,000 loops each)\n"
     ]
    }
   ],
   "source": [
    "%timeit Batch.cat(batches)"
   ]
  },
  {
   "cell_type": "code",
   "execution_count": 29,
   "id": "c6688e51",
   "metadata": {
    "execution": {
     "iopub.execute_input": "2023-02-27T12:59:39.813156Z",
     "iopub.status.busy": "2023-02-27T12:59:39.812794Z",
     "iopub.status.idle": "2023-02-27T12:59:42.345544Z",
     "shell.execute_reply": "2023-02-27T12:59:42.344966Z"
    }
   },
   "outputs": [
    {
     "name": "stdout",
     "output_type": "stream",
     "text": [
      "312 µs ± 6.39 µs per loop (mean ± std. dev. of 7 runs, 1,000 loops each)\n"
     ]
    }
   ],
   "source": [
    "batch = Batch({\n",
    "    'obs': torch.randn(8, 4, 84, 84),\n",
    "    'action': torch.randint(0, 6, size=(8, 1,)),\n",
    "    'reward': torch.rand(8, 1)}\n",
    ")\n",
    "\n",
    "%timeit list(Batch.split(batch, 1, shuffle=False, merge_last=True))"
   ]
  },
  {
   "cell_type": "code",
   "execution_count": null,
   "id": "2539fbd9",
   "metadata": {},
   "outputs": [],
   "source": []
  }
 ],
 "metadata": {
  "kernelspec": {
   "display_name": "Python 3 (ipykernel)",
   "language": "python",
   "name": "python3"
  },
  "language_info": {
   "codemirror_mode": {
    "name": "ipython",
    "version": 3
   },
   "file_extension": ".py",
   "mimetype": "text/x-python",
   "name": "python",
   "nbconvert_exporter": "python",
   "pygments_lexer": "ipython3",
   "version": "3.8.16"
  }
 },
 "nbformat": 4,
 "nbformat_minor": 5
}
