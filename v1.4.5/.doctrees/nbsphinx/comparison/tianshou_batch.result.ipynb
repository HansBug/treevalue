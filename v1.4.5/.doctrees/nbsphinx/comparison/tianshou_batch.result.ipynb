{
 "cells": [
  {
   "cell_type": "markdown",
   "id": "9d39d946",
   "metadata": {},
   "source": [
    "# Comparison Between TreeValue and Tianshou Batch"
   ]
  },
  {
   "cell_type": "markdown",
   "id": "3c6db2d4",
   "metadata": {},
   "source": [
    "In this section, we will take a look at the feature and performance of the [Tianshou Batch](https://github.com/thu-ml/tianshou) library, which is developed by Tsinghua Machine Learning Group."
   ]
  },
  {
   "cell_type": "markdown",
   "id": "069361b0",
   "metadata": {},
   "source": [
    "Before starting the comparison, let us define some thing."
   ]
  },
  {
   "cell_type": "code",
   "execution_count": 1,
   "id": "06fc8d26",
   "metadata": {
    "execution": {
     "iopub.execute_input": "2023-10-22T15:57:29.413808Z",
     "iopub.status.busy": "2023-10-22T15:57:29.413333Z",
     "iopub.status.idle": "2023-10-22T15:57:31.434038Z",
     "shell.execute_reply": "2023-10-22T15:57:31.432684Z"
    }
   },
   "outputs": [],
   "source": [
    "import torch \n",
    "\n",
    "_TREE_DATA_1 = {'a': 1, 'b': 2, 'x': {'c': 3, 'd': 4}}\n",
    "_TREE_DATA_2 = {\n",
    "    'a': torch.randn(2, 3), \n",
    "    'x': {\n",
    "        'c': torch.randn(3, 4)\n",
    "    },\n",
    "}\n",
    "_TREE_DATA_3 = {\n",
    "    'obs': torch.randn(4, 84, 84),\n",
    "    'action': torch.randint(0, 6, size=(1,)),\n",
    "    'reward': torch.rand(1),\n",
    "}"
   ]
  },
  {
   "cell_type": "markdown",
   "id": "83461b25",
   "metadata": {},
   "source": [
    "## Read and Write Operation"
   ]
  },
  {
   "cell_type": "markdown",
   "id": "067b3f73",
   "metadata": {},
   "source": [
    "Reading and writing are the two most common operations in the tree data structure based on the data model (TreeValue and Tianshou Batch both belong to this type), so this section will compare the reading and writing performance of these two libraries."
   ]
  },
  {
   "cell_type": "markdown",
   "id": "5d09a5b7",
   "metadata": {},
   "source": [
    "### TreeValue's Get and Set"
   ]
  },
  {
   "cell_type": "code",
   "execution_count": 2,
   "id": "9519c4bb",
   "metadata": {
    "execution": {
     "iopub.execute_input": "2023-10-22T15:57:31.438994Z",
     "iopub.status.busy": "2023-10-22T15:57:31.438635Z",
     "iopub.status.idle": "2023-10-22T15:57:31.479236Z",
     "shell.execute_reply": "2023-10-22T15:57:31.478262Z"
    }
   },
   "outputs": [],
   "source": [
    "from treevalue import FastTreeValue\n",
    "\n",
    "t = FastTreeValue(_TREE_DATA_2)"
   ]
  },
  {
   "cell_type": "code",
   "execution_count": 3,
   "id": "11c37677",
   "metadata": {
    "execution": {
     "iopub.execute_input": "2023-10-22T15:57:31.484406Z",
     "iopub.status.busy": "2023-10-22T15:57:31.483635Z",
     "iopub.status.idle": "2023-10-22T15:57:31.496082Z",
     "shell.execute_reply": "2023-10-22T15:57:31.495332Z"
    }
   },
   "outputs": [
    {
     "data": {
      "text/plain": [
       "<FastTreeValue 0x7fba60294130>\n",
       "├── 'a' --> tensor([[-1.0393, -1.1451, -1.3067],\n",
       "│                   [-0.9535, -0.3275,  0.0452]])\n",
       "└── 'x' --> <FastTreeValue 0x7fb98896f9d0>\n",
       "    └── 'c' --> tensor([[ 0.8386,  0.7699, -0.3062, -0.2319],\n",
       "                        [-0.7522,  0.6208, -1.8580, -0.2801],\n",
       "                        [ 0.2884, -0.3771,  1.6102, -0.1751]])"
      ]
     },
     "execution_count": 3,
     "metadata": {},
     "output_type": "execute_result"
    }
   ],
   "source": [
    "t"
   ]
  },
  {
   "cell_type": "code",
   "execution_count": 4,
   "id": "fd70b0b9",
   "metadata": {
    "execution": {
     "iopub.execute_input": "2023-10-22T15:57:31.500011Z",
     "iopub.status.busy": "2023-10-22T15:57:31.499466Z",
     "iopub.status.idle": "2023-10-22T15:57:31.507469Z",
     "shell.execute_reply": "2023-10-22T15:57:31.506647Z"
    }
   },
   "outputs": [
    {
     "data": {
      "text/plain": [
       "tensor([[-1.0393, -1.1451, -1.3067],\n",
       "        [-0.9535, -0.3275,  0.0452]])"
      ]
     },
     "execution_count": 4,
     "metadata": {},
     "output_type": "execute_result"
    }
   ],
   "source": [
    "t.a"
   ]
  },
  {
   "cell_type": "code",
   "execution_count": 5,
   "id": "c18197bd",
   "metadata": {
    "execution": {
     "iopub.execute_input": "2023-10-22T15:57:31.511256Z",
     "iopub.status.busy": "2023-10-22T15:57:31.510767Z",
     "iopub.status.idle": "2023-10-22T15:57:38.514184Z",
     "shell.execute_reply": "2023-10-22T15:57:38.512880Z"
    }
   },
   "outputs": [
    {
     "name": "stdout",
     "output_type": "stream",
     "text": [
      "85.9 ns ± 0.6 ns per loop (mean ± std. dev. of 7 runs, 10,000,000 loops each)\n"
     ]
    }
   ],
   "source": [
    "%timeit t.a"
   ]
  },
  {
   "cell_type": "code",
   "execution_count": 6,
   "id": "bd52f867",
   "metadata": {
    "execution": {
     "iopub.execute_input": "2023-10-22T15:57:38.519365Z",
     "iopub.status.busy": "2023-10-22T15:57:38.518568Z",
     "iopub.status.idle": "2023-10-22T15:57:38.531108Z",
     "shell.execute_reply": "2023-10-22T15:57:38.529892Z"
    }
   },
   "outputs": [
    {
     "data": {
      "text/plain": [
       "<FastTreeValue 0x7fba60294130>\n",
       "├── 'a' --> tensor([[ 0.0715, -0.3541, -2.5739],\n",
       "│                   [ 1.4846, -0.0583,  0.3116]])\n",
       "└── 'x' --> <FastTreeValue 0x7fb98896f9d0>\n",
       "    └── 'c' --> tensor([[ 0.8386,  0.7699, -0.3062, -0.2319],\n",
       "                        [-0.7522,  0.6208, -1.8580, -0.2801],\n",
       "                        [ 0.2884, -0.3771,  1.6102, -0.1751]])"
      ]
     },
     "execution_count": 6,
     "metadata": {},
     "output_type": "execute_result"
    }
   ],
   "source": [
    "new_value = torch.randn(2, 3)\n",
    "t.a = new_value\n",
    "\n",
    "t"
   ]
  },
  {
   "cell_type": "code",
   "execution_count": 7,
   "id": "bbe04d1c",
   "metadata": {
    "execution": {
     "iopub.execute_input": "2023-10-22T15:57:38.537201Z",
     "iopub.status.busy": "2023-10-22T15:57:38.535140Z",
     "iopub.status.idle": "2023-10-22T15:57:46.039102Z",
     "shell.execute_reply": "2023-10-22T15:57:46.037757Z"
    }
   },
   "outputs": [
    {
     "name": "stdout",
     "output_type": "stream",
     "text": [
      "91.9 ns ± 0.27 ns per loop (mean ± std. dev. of 7 runs, 10,000,000 loops each)\n"
     ]
    }
   ],
   "source": [
    "%timeit t.a = new_value"
   ]
  },
  {
   "cell_type": "markdown",
   "id": "48c49731",
   "metadata": {},
   "source": [
    "### Tianshou Batch's Get and Set"
   ]
  },
  {
   "cell_type": "code",
   "execution_count": 8,
   "id": "f1bb14c1",
   "metadata": {
    "execution": {
     "iopub.execute_input": "2023-10-22T15:57:46.047109Z",
     "iopub.status.busy": "2023-10-22T15:57:46.046589Z",
     "iopub.status.idle": "2023-10-22T15:57:46.532864Z",
     "shell.execute_reply": "2023-10-22T15:57:46.531963Z"
    }
   },
   "outputs": [],
   "source": [
    "from tianshou.data import Batch\n",
    "\n",
    "b = Batch(**_TREE_DATA_2)"
   ]
  },
  {
   "cell_type": "code",
   "execution_count": 9,
   "id": "cb0777c3",
   "metadata": {
    "execution": {
     "iopub.execute_input": "2023-10-22T15:57:46.537930Z",
     "iopub.status.busy": "2023-10-22T15:57:46.537237Z",
     "iopub.status.idle": "2023-10-22T15:57:46.545541Z",
     "shell.execute_reply": "2023-10-22T15:57:46.544797Z"
    }
   },
   "outputs": [
    {
     "data": {
      "text/plain": [
       "Batch(\n",
       "    a: tensor([[-1.0393, -1.1451, -1.3067],\n",
       "               [-0.9535, -0.3275,  0.0452]]),\n",
       "    x: Batch(\n",
       "           c: tensor([[ 0.8386,  0.7699, -0.3062, -0.2319],\n",
       "                      [-0.7522,  0.6208, -1.8580, -0.2801],\n",
       "                      [ 0.2884, -0.3771,  1.6102, -0.1751]]),\n",
       "       ),\n",
       ")"
      ]
     },
     "execution_count": 9,
     "metadata": {},
     "output_type": "execute_result"
    }
   ],
   "source": [
    "b"
   ]
  },
  {
   "cell_type": "code",
   "execution_count": 10,
   "id": "43ef8ea3",
   "metadata": {
    "execution": {
     "iopub.execute_input": "2023-10-22T15:57:46.549453Z",
     "iopub.status.busy": "2023-10-22T15:57:46.548916Z",
     "iopub.status.idle": "2023-10-22T15:57:46.558137Z",
     "shell.execute_reply": "2023-10-22T15:57:46.556935Z"
    }
   },
   "outputs": [
    {
     "data": {
      "text/plain": [
       "tensor([[-1.0393, -1.1451, -1.3067],\n",
       "        [-0.9535, -0.3275,  0.0452]])"
      ]
     },
     "execution_count": 10,
     "metadata": {},
     "output_type": "execute_result"
    }
   ],
   "source": [
    "b.a"
   ]
  },
  {
   "cell_type": "code",
   "execution_count": 11,
   "id": "b785ab72",
   "metadata": {
    "execution": {
     "iopub.execute_input": "2023-10-22T15:57:46.561673Z",
     "iopub.status.busy": "2023-10-22T15:57:46.561173Z",
     "iopub.status.idle": "2023-10-22T15:57:52.973532Z",
     "shell.execute_reply": "2023-10-22T15:57:52.972487Z"
    }
   },
   "outputs": [
    {
     "name": "stdout",
     "output_type": "stream",
     "text": [
      "78.9 ns ± 0.244 ns per loop (mean ± std. dev. of 7 runs, 10,000,000 loops each)\n"
     ]
    }
   ],
   "source": [
    "%timeit b.a"
   ]
  },
  {
   "cell_type": "code",
   "execution_count": 12,
   "id": "ad54dc69",
   "metadata": {
    "execution": {
     "iopub.execute_input": "2023-10-22T15:57:52.977589Z",
     "iopub.status.busy": "2023-10-22T15:57:52.977017Z",
     "iopub.status.idle": "2023-10-22T15:57:52.985090Z",
     "shell.execute_reply": "2023-10-22T15:57:52.984251Z"
    }
   },
   "outputs": [
    {
     "data": {
      "text/plain": [
       "Batch(\n",
       "    a: tensor([[-1.1510,  0.5349,  0.3226],\n",
       "               [ 0.4907,  1.1867, -1.3963]]),\n",
       "    x: Batch(\n",
       "           c: tensor([[ 0.8386,  0.7699, -0.3062, -0.2319],\n",
       "                      [-0.7522,  0.6208, -1.8580, -0.2801],\n",
       "                      [ 0.2884, -0.3771,  1.6102, -0.1751]]),\n",
       "       ),\n",
       ")"
      ]
     },
     "execution_count": 12,
     "metadata": {},
     "output_type": "execute_result"
    }
   ],
   "source": [
    "new_value = torch.randn(2, 3)\n",
    "b.a = new_value\n",
    "\n",
    "b"
   ]
  },
  {
   "cell_type": "code",
   "execution_count": 13,
   "id": "29b1d0bf",
   "metadata": {
    "execution": {
     "iopub.execute_input": "2023-10-22T15:57:52.988737Z",
     "iopub.status.busy": "2023-10-22T15:57:52.988176Z",
     "iopub.status.idle": "2023-10-22T15:57:58.291209Z",
     "shell.execute_reply": "2023-10-22T15:57:58.290254Z"
    }
   },
   "outputs": [
    {
     "name": "stdout",
     "output_type": "stream",
     "text": [
      "653 ns ± 3.85 ns per loop (mean ± std. dev. of 7 runs, 1,000,000 loops each)\n"
     ]
    }
   ],
   "source": [
    "%timeit b.a = new_value"
   ]
  },
  {
   "cell_type": "markdown",
   "id": "b61ad1d0",
   "metadata": {},
   "source": [
    "## Initialization"
   ]
  },
  {
   "cell_type": "markdown",
   "id": "d70f0d54",
   "metadata": {},
   "source": [
    "### TreeValue's Initialization"
   ]
  },
  {
   "cell_type": "code",
   "execution_count": 14,
   "id": "d32a679b",
   "metadata": {
    "execution": {
     "iopub.execute_input": "2023-10-22T15:57:58.295619Z",
     "iopub.status.busy": "2023-10-22T15:57:58.294877Z",
     "iopub.status.idle": "2023-10-22T15:58:06.737780Z",
     "shell.execute_reply": "2023-10-22T15:58:06.736498Z"
    }
   },
   "outputs": [
    {
     "name": "stdout",
     "output_type": "stream",
     "text": [
      "1.03 µs ± 9.67 ns per loop (mean ± std. dev. of 7 runs, 1,000,000 loops each)\n"
     ]
    }
   ],
   "source": [
    "%timeit FastTreeValue(_TREE_DATA_1)"
   ]
  },
  {
   "cell_type": "markdown",
   "id": "24f3707b",
   "metadata": {},
   "source": [
    "### Tianshou Batch's Initialization"
   ]
  },
  {
   "cell_type": "code",
   "execution_count": 15,
   "id": "ac3958df",
   "metadata": {
    "execution": {
     "iopub.execute_input": "2023-10-22T15:58:06.742719Z",
     "iopub.status.busy": "2023-10-22T15:58:06.741983Z",
     "iopub.status.idle": "2023-10-22T15:58:16.804108Z",
     "shell.execute_reply": "2023-10-22T15:58:16.803216Z"
    }
   },
   "outputs": [
    {
     "name": "stdout",
     "output_type": "stream",
     "text": [
      "12.4 µs ± 93.1 ns per loop (mean ± std. dev. of 7 runs, 100,000 loops each)\n"
     ]
    }
   ],
   "source": [
    "%timeit Batch(**_TREE_DATA_1)"
   ]
  },
  {
   "cell_type": "markdown",
   "id": "1ab82e2d",
   "metadata": {},
   "source": [
    "## Deep Copy Operation"
   ]
  },
  {
   "cell_type": "code",
   "execution_count": 16,
   "id": "210a9442",
   "metadata": {
    "execution": {
     "iopub.execute_input": "2023-10-22T15:58:16.808365Z",
     "iopub.status.busy": "2023-10-22T15:58:16.807771Z",
     "iopub.status.idle": "2023-10-22T15:58:16.813304Z",
     "shell.execute_reply": "2023-10-22T15:58:16.812524Z"
    }
   },
   "outputs": [],
   "source": [
    "import copy"
   ]
  },
  {
   "cell_type": "markdown",
   "id": "5a736274",
   "metadata": {},
   "source": [
    "### Deep Copy of TreeValue"
   ]
  },
  {
   "cell_type": "code",
   "execution_count": 17,
   "id": "f9bcadd6",
   "metadata": {
    "execution": {
     "iopub.execute_input": "2023-10-22T15:58:16.817152Z",
     "iopub.status.busy": "2023-10-22T15:58:16.816591Z",
     "iopub.status.idle": "2023-10-22T15:58:30.886493Z",
     "shell.execute_reply": "2023-10-22T15:58:30.885590Z"
    }
   },
   "outputs": [
    {
     "name": "stdout",
     "output_type": "stream",
     "text": [
      "174 µs ± 1.02 µs per loop (mean ± std. dev. of 7 runs, 10,000 loops each)\n"
     ]
    }
   ],
   "source": [
    "t3 = FastTreeValue(_TREE_DATA_3)\n",
    "%timeit copy.deepcopy(t3)"
   ]
  },
  {
   "cell_type": "markdown",
   "id": "bf8be7ea",
   "metadata": {},
   "source": [
    "### Deep Copy of Tianshou Batch"
   ]
  },
  {
   "cell_type": "code",
   "execution_count": 18,
   "id": "91998e6f",
   "metadata": {
    "execution": {
     "iopub.execute_input": "2023-10-22T15:58:30.890650Z",
     "iopub.status.busy": "2023-10-22T15:58:30.890044Z",
     "iopub.status.idle": "2023-10-22T15:58:45.315101Z",
     "shell.execute_reply": "2023-10-22T15:58:45.314320Z"
    }
   },
   "outputs": [
    {
     "name": "stdout",
     "output_type": "stream",
     "text": [
      "178 µs ± 4.45 µs per loop (mean ± std. dev. of 7 runs, 10,000 loops each)\n"
     ]
    }
   ],
   "source": [
    "b3 = Batch(**_TREE_DATA_3)\n",
    "%timeit copy.deepcopy(b3)"
   ]
  },
  {
   "cell_type": "markdown",
   "id": "223162fb",
   "metadata": {},
   "source": [
    "## Stack, Concat and Split Operation"
   ]
  },
  {
   "cell_type": "markdown",
   "id": "85fa4a73",
   "metadata": {},
   "source": [
    "### Performance of TreeValue"
   ]
  },
  {
   "cell_type": "code",
   "execution_count": 19,
   "id": "a0c2b697",
   "metadata": {
    "execution": {
     "iopub.execute_input": "2023-10-22T15:58:45.319140Z",
     "iopub.status.busy": "2023-10-22T15:58:45.318534Z",
     "iopub.status.idle": "2023-10-22T15:58:45.322815Z",
     "shell.execute_reply": "2023-10-22T15:58:45.322087Z"
    }
   },
   "outputs": [],
   "source": [
    "trees = [FastTreeValue(_TREE_DATA_2) for _ in range(8)]"
   ]
  },
  {
   "cell_type": "code",
   "execution_count": 20,
   "id": "017ea5a5",
   "metadata": {
    "execution": {
     "iopub.execute_input": "2023-10-22T15:58:45.326638Z",
     "iopub.status.busy": "2023-10-22T15:58:45.325786Z",
     "iopub.status.idle": "2023-10-22T15:58:45.334928Z",
     "shell.execute_reply": "2023-10-22T15:58:45.334230Z"
    }
   },
   "outputs": [
    {
     "data": {
      "text/plain": [
       "<FastTreeValue 0x7fba602e4a60>\n",
       "├── 'a' --> tensor([[[-1.0393, -1.1451, -1.3067],\n",
       "│                    [-0.9535, -0.3275,  0.0452]],\n",
       "│           \n",
       "│                   [[-1.0393, -1.1451, -1.3067],\n",
       "│                    [-0.9535, -0.3275,  0.0452]],\n",
       "│           \n",
       "│                   [[-1.0393, -1.1451, -1.3067],\n",
       "│                    [-0.9535, -0.3275,  0.0452]],\n",
       "│           \n",
       "│                   [[-1.0393, -1.1451, -1.3067],\n",
       "│                    [-0.9535, -0.3275,  0.0452]],\n",
       "│           \n",
       "│                   [[-1.0393, -1.1451, -1.3067],\n",
       "│                    [-0.9535, -0.3275,  0.0452]],\n",
       "│           \n",
       "│                   [[-1.0393, -1.1451, -1.3067],\n",
       "│                    [-0.9535, -0.3275,  0.0452]],\n",
       "│           \n",
       "│                   [[-1.0393, -1.1451, -1.3067],\n",
       "│                    [-0.9535, -0.3275,  0.0452]],\n",
       "│           \n",
       "│                   [[-1.0393, -1.1451, -1.3067],\n",
       "│                    [-0.9535, -0.3275,  0.0452]]])\n",
       "└── 'x' --> <FastTreeValue 0x7fba602e4a00>\n",
       "    └── 'c' --> tensor([[[ 0.8386,  0.7699, -0.3062, -0.2319],\n",
       "                         [-0.7522,  0.6208, -1.8580, -0.2801],\n",
       "                         [ 0.2884, -0.3771,  1.6102, -0.1751]],\n",
       "                \n",
       "                        [[ 0.8386,  0.7699, -0.3062, -0.2319],\n",
       "                         [-0.7522,  0.6208, -1.8580, -0.2801],\n",
       "                         [ 0.2884, -0.3771,  1.6102, -0.1751]],\n",
       "                \n",
       "                        [[ 0.8386,  0.7699, -0.3062, -0.2319],\n",
       "                         [-0.7522,  0.6208, -1.8580, -0.2801],\n",
       "                         [ 0.2884, -0.3771,  1.6102, -0.1751]],\n",
       "                \n",
       "                        [[ 0.8386,  0.7699, -0.3062, -0.2319],\n",
       "                         [-0.7522,  0.6208, -1.8580, -0.2801],\n",
       "                         [ 0.2884, -0.3771,  1.6102, -0.1751]],\n",
       "                \n",
       "                        [[ 0.8386,  0.7699, -0.3062, -0.2319],\n",
       "                         [-0.7522,  0.6208, -1.8580, -0.2801],\n",
       "                         [ 0.2884, -0.3771,  1.6102, -0.1751]],\n",
       "                \n",
       "                        [[ 0.8386,  0.7699, -0.3062, -0.2319],\n",
       "                         [-0.7522,  0.6208, -1.8580, -0.2801],\n",
       "                         [ 0.2884, -0.3771,  1.6102, -0.1751]],\n",
       "                \n",
       "                        [[ 0.8386,  0.7699, -0.3062, -0.2319],\n",
       "                         [-0.7522,  0.6208, -1.8580, -0.2801],\n",
       "                         [ 0.2884, -0.3771,  1.6102, -0.1751]],\n",
       "                \n",
       "                        [[ 0.8386,  0.7699, -0.3062, -0.2319],\n",
       "                         [-0.7522,  0.6208, -1.8580, -0.2801],\n",
       "                         [ 0.2884, -0.3771,  1.6102, -0.1751]]])"
      ]
     },
     "execution_count": 20,
     "metadata": {},
     "output_type": "execute_result"
    }
   ],
   "source": [
    "t_stack = FastTreeValue.func(subside=True)(torch.stack)\n",
    "\n",
    "t_stack(trees)"
   ]
  },
  {
   "cell_type": "code",
   "execution_count": 21,
   "id": "f8b3f415",
   "metadata": {
    "execution": {
     "iopub.execute_input": "2023-10-22T15:58:45.338820Z",
     "iopub.status.busy": "2023-10-22T15:58:45.337997Z",
     "iopub.status.idle": "2023-10-22T15:58:48.521942Z",
     "shell.execute_reply": "2023-10-22T15:58:48.520718Z"
    }
   },
   "outputs": [
    {
     "name": "stdout",
     "output_type": "stream",
     "text": [
      "39.1 µs ± 299 ns per loop (mean ± std. dev. of 7 runs, 10,000 loops each)\n"
     ]
    }
   ],
   "source": [
    "%timeit t_stack(trees)"
   ]
  },
  {
   "cell_type": "code",
   "execution_count": 22,
   "id": "94b56771",
   "metadata": {
    "execution": {
     "iopub.execute_input": "2023-10-22T15:58:48.527108Z",
     "iopub.status.busy": "2023-10-22T15:58:48.526338Z",
     "iopub.status.idle": "2023-10-22T15:58:48.536001Z",
     "shell.execute_reply": "2023-10-22T15:58:48.535239Z"
    }
   },
   "outputs": [
    {
     "data": {
      "text/plain": [
       "<FastTreeValue 0x7fb9887a6e20>\n",
       "├── 'a' --> tensor([[-1.0393, -1.1451, -1.3067],\n",
       "│                   [-0.9535, -0.3275,  0.0452],\n",
       "│                   [-1.0393, -1.1451, -1.3067],\n",
       "│                   [-0.9535, -0.3275,  0.0452],\n",
       "│                   [-1.0393, -1.1451, -1.3067],\n",
       "│                   [-0.9535, -0.3275,  0.0452],\n",
       "│                   [-1.0393, -1.1451, -1.3067],\n",
       "│                   [-0.9535, -0.3275,  0.0452],\n",
       "│                   [-1.0393, -1.1451, -1.3067],\n",
       "│                   [-0.9535, -0.3275,  0.0452],\n",
       "│                   [-1.0393, -1.1451, -1.3067],\n",
       "│                   [-0.9535, -0.3275,  0.0452],\n",
       "│                   [-1.0393, -1.1451, -1.3067],\n",
       "│                   [-0.9535, -0.3275,  0.0452],\n",
       "│                   [-1.0393, -1.1451, -1.3067],\n",
       "│                   [-0.9535, -0.3275,  0.0452]])\n",
       "└── 'x' --> <FastTreeValue 0x7fb9803dc4c0>\n",
       "    └── 'c' --> tensor([[ 0.8386,  0.7699, -0.3062, -0.2319],\n",
       "                        [-0.7522,  0.6208, -1.8580, -0.2801],\n",
       "                        [ 0.2884, -0.3771,  1.6102, -0.1751],\n",
       "                        [ 0.8386,  0.7699, -0.3062, -0.2319],\n",
       "                        [-0.7522,  0.6208, -1.8580, -0.2801],\n",
       "                        [ 0.2884, -0.3771,  1.6102, -0.1751],\n",
       "                        [ 0.8386,  0.7699, -0.3062, -0.2319],\n",
       "                        [-0.7522,  0.6208, -1.8580, -0.2801],\n",
       "                        [ 0.2884, -0.3771,  1.6102, -0.1751],\n",
       "                        [ 0.8386,  0.7699, -0.3062, -0.2319],\n",
       "                        [-0.7522,  0.6208, -1.8580, -0.2801],\n",
       "                        [ 0.2884, -0.3771,  1.6102, -0.1751],\n",
       "                        [ 0.8386,  0.7699, -0.3062, -0.2319],\n",
       "                        [-0.7522,  0.6208, -1.8580, -0.2801],\n",
       "                        [ 0.2884, -0.3771,  1.6102, -0.1751],\n",
       "                        [ 0.8386,  0.7699, -0.3062, -0.2319],\n",
       "                        [-0.7522,  0.6208, -1.8580, -0.2801],\n",
       "                        [ 0.2884, -0.3771,  1.6102, -0.1751],\n",
       "                        [ 0.8386,  0.7699, -0.3062, -0.2319],\n",
       "                        [-0.7522,  0.6208, -1.8580, -0.2801],\n",
       "                        [ 0.2884, -0.3771,  1.6102, -0.1751],\n",
       "                        [ 0.8386,  0.7699, -0.3062, -0.2319],\n",
       "                        [-0.7522,  0.6208, -1.8580, -0.2801],\n",
       "                        [ 0.2884, -0.3771,  1.6102, -0.1751]])"
      ]
     },
     "execution_count": 22,
     "metadata": {},
     "output_type": "execute_result"
    }
   ],
   "source": [
    "t_cat = FastTreeValue.func(subside=True)(torch.cat)\n",
    "\n",
    "t_cat(trees)"
   ]
  },
  {
   "cell_type": "code",
   "execution_count": 23,
   "id": "5e9c06a6",
   "metadata": {
    "execution": {
     "iopub.execute_input": "2023-10-22T15:58:48.539777Z",
     "iopub.status.busy": "2023-10-22T15:58:48.539229Z",
     "iopub.status.idle": "2023-10-22T15:58:51.564003Z",
     "shell.execute_reply": "2023-10-22T15:58:51.562868Z"
    }
   },
   "outputs": [
    {
     "name": "stdout",
     "output_type": "stream",
     "text": [
      "37.3 µs ± 702 ns per loop (mean ± std. dev. of 7 runs, 10,000 loops each)\n"
     ]
    }
   ],
   "source": [
    "%timeit t_cat(trees)"
   ]
  },
  {
   "cell_type": "code",
   "execution_count": 24,
   "id": "a3ab5c8f",
   "metadata": {
    "execution": {
     "iopub.execute_input": "2023-10-22T15:58:51.568719Z",
     "iopub.status.busy": "2023-10-22T15:58:51.568132Z",
     "iopub.status.idle": "2023-10-22T15:58:57.619076Z",
     "shell.execute_reply": "2023-10-22T15:58:57.617963Z"
    }
   },
   "outputs": [
    {
     "name": "stdout",
     "output_type": "stream",
     "text": [
      "74.4 µs ± 595 ns per loop (mean ± std. dev. of 7 runs, 10,000 loops each)\n"
     ]
    }
   ],
   "source": [
    "t_split = FastTreeValue.func(rise=True)(torch.split)\n",
    "tree = FastTreeValue({\n",
    "    'obs': torch.randn(8, 4, 84, 84),\n",
    "    'action': torch.randint(0, 6, size=(8, 1,)),\n",
    "    'reward': torch.rand(8, 1),\n",
    "})\n",
    "\n",
    "%timeit t_split(tree, 1)"
   ]
  },
  {
   "cell_type": "markdown",
   "id": "31c3ec0b",
   "metadata": {},
   "source": [
    "### Performance of Tianshou Batch"
   ]
  },
  {
   "cell_type": "code",
   "execution_count": 25,
   "id": "9ead828a",
   "metadata": {
    "execution": {
     "iopub.execute_input": "2023-10-22T15:58:57.623713Z",
     "iopub.status.busy": "2023-10-22T15:58:57.622962Z",
     "iopub.status.idle": "2023-10-22T15:58:57.633740Z",
     "shell.execute_reply": "2023-10-22T15:58:57.632977Z"
    }
   },
   "outputs": [
    {
     "data": {
      "text/plain": [
       "Batch(\n",
       "    a: tensor([[[-1.0393, -1.1451, -1.3067],\n",
       "                [-0.9535, -0.3275,  0.0452]],\n",
       "       \n",
       "               [[-1.0393, -1.1451, -1.3067],\n",
       "                [-0.9535, -0.3275,  0.0452]],\n",
       "       \n",
       "               [[-1.0393, -1.1451, -1.3067],\n",
       "                [-0.9535, -0.3275,  0.0452]],\n",
       "       \n",
       "               [[-1.0393, -1.1451, -1.3067],\n",
       "                [-0.9535, -0.3275,  0.0452]],\n",
       "       \n",
       "               [[-1.0393, -1.1451, -1.3067],\n",
       "                [-0.9535, -0.3275,  0.0452]],\n",
       "       \n",
       "               [[-1.0393, -1.1451, -1.3067],\n",
       "                [-0.9535, -0.3275,  0.0452]],\n",
       "       \n",
       "               [[-1.0393, -1.1451, -1.3067],\n",
       "                [-0.9535, -0.3275,  0.0452]],\n",
       "       \n",
       "               [[-1.0393, -1.1451, -1.3067],\n",
       "                [-0.9535, -0.3275,  0.0452]]]),\n",
       "    x: Batch(\n",
       "           c: tensor([[[ 0.8386,  0.7699, -0.3062, -0.2319],\n",
       "                       [-0.7522,  0.6208, -1.8580, -0.2801],\n",
       "                       [ 0.2884, -0.3771,  1.6102, -0.1751]],\n",
       "              \n",
       "                      [[ 0.8386,  0.7699, -0.3062, -0.2319],\n",
       "                       [-0.7522,  0.6208, -1.8580, -0.2801],\n",
       "                       [ 0.2884, -0.3771,  1.6102, -0.1751]],\n",
       "              \n",
       "                      [[ 0.8386,  0.7699, -0.3062, -0.2319],\n",
       "                       [-0.7522,  0.6208, -1.8580, -0.2801],\n",
       "                       [ 0.2884, -0.3771,  1.6102, -0.1751]],\n",
       "              \n",
       "                      [[ 0.8386,  0.7699, -0.3062, -0.2319],\n",
       "                       [-0.7522,  0.6208, -1.8580, -0.2801],\n",
       "                       [ 0.2884, -0.3771,  1.6102, -0.1751]],\n",
       "              \n",
       "                      [[ 0.8386,  0.7699, -0.3062, -0.2319],\n",
       "                       [-0.7522,  0.6208, -1.8580, -0.2801],\n",
       "                       [ 0.2884, -0.3771,  1.6102, -0.1751]],\n",
       "              \n",
       "                      [[ 0.8386,  0.7699, -0.3062, -0.2319],\n",
       "                       [-0.7522,  0.6208, -1.8580, -0.2801],\n",
       "                       [ 0.2884, -0.3771,  1.6102, -0.1751]],\n",
       "              \n",
       "                      [[ 0.8386,  0.7699, -0.3062, -0.2319],\n",
       "                       [-0.7522,  0.6208, -1.8580, -0.2801],\n",
       "                       [ 0.2884, -0.3771,  1.6102, -0.1751]],\n",
       "              \n",
       "                      [[ 0.8386,  0.7699, -0.3062, -0.2319],\n",
       "                       [-0.7522,  0.6208, -1.8580, -0.2801],\n",
       "                       [ 0.2884, -0.3771,  1.6102, -0.1751]]]),\n",
       "       ),\n",
       ")"
      ]
     },
     "execution_count": 25,
     "metadata": {},
     "output_type": "execute_result"
    }
   ],
   "source": [
    "batches = [Batch(**_TREE_DATA_2) for _ in range(8)]\n",
    "\n",
    "Batch.stack(batches)"
   ]
  },
  {
   "cell_type": "code",
   "execution_count": 26,
   "id": "ec9037a3",
   "metadata": {
    "execution": {
     "iopub.execute_input": "2023-10-22T15:58:57.638047Z",
     "iopub.status.busy": "2023-10-22T15:58:57.637458Z",
     "iopub.status.idle": "2023-10-22T15:59:05.655966Z",
     "shell.execute_reply": "2023-10-22T15:59:05.655074Z"
    }
   },
   "outputs": [
    {
     "name": "stdout",
     "output_type": "stream",
     "text": [
      "98.6 µs ± 579 ns per loop (mean ± std. dev. of 7 runs, 10,000 loops each)\n"
     ]
    }
   ],
   "source": [
    "%timeit Batch.stack(batches)"
   ]
  },
  {
   "cell_type": "code",
   "execution_count": 27,
   "id": "cb8ab77e",
   "metadata": {
    "execution": {
     "iopub.execute_input": "2023-10-22T15:59:05.660262Z",
     "iopub.status.busy": "2023-10-22T15:59:05.659545Z",
     "iopub.status.idle": "2023-10-22T15:59:05.670186Z",
     "shell.execute_reply": "2023-10-22T15:59:05.669298Z"
    }
   },
   "outputs": [
    {
     "data": {
      "text/plain": [
       "Batch(\n",
       "    a: tensor([[-1.0393, -1.1451, -1.3067],\n",
       "               [-0.9535, -0.3275,  0.0452],\n",
       "               [-1.0393, -1.1451, -1.3067],\n",
       "               [-0.9535, -0.3275,  0.0452],\n",
       "               [-1.0393, -1.1451, -1.3067],\n",
       "               [-0.9535, -0.3275,  0.0452],\n",
       "               [-1.0393, -1.1451, -1.3067],\n",
       "               [-0.9535, -0.3275,  0.0452],\n",
       "               [-1.0393, -1.1451, -1.3067],\n",
       "               [-0.9535, -0.3275,  0.0452],\n",
       "               [-1.0393, -1.1451, -1.3067],\n",
       "               [-0.9535, -0.3275,  0.0452],\n",
       "               [-1.0393, -1.1451, -1.3067],\n",
       "               [-0.9535, -0.3275,  0.0452],\n",
       "               [-1.0393, -1.1451, -1.3067],\n",
       "               [-0.9535, -0.3275,  0.0452]]),\n",
       "    x: Batch(\n",
       "           c: tensor([[ 0.8386,  0.7699, -0.3062, -0.2319],\n",
       "                      [-0.7522,  0.6208, -1.8580, -0.2801],\n",
       "                      [ 0.2884, -0.3771,  1.6102, -0.1751],\n",
       "                      [ 0.8386,  0.7699, -0.3062, -0.2319],\n",
       "                      [-0.7522,  0.6208, -1.8580, -0.2801],\n",
       "                      [ 0.2884, -0.3771,  1.6102, -0.1751],\n",
       "                      [ 0.8386,  0.7699, -0.3062, -0.2319],\n",
       "                      [-0.7522,  0.6208, -1.8580, -0.2801],\n",
       "                      [ 0.2884, -0.3771,  1.6102, -0.1751],\n",
       "                      [ 0.8386,  0.7699, -0.3062, -0.2319],\n",
       "                      [-0.7522,  0.6208, -1.8580, -0.2801],\n",
       "                      [ 0.2884, -0.3771,  1.6102, -0.1751],\n",
       "                      [ 0.8386,  0.7699, -0.3062, -0.2319],\n",
       "                      [-0.7522,  0.6208, -1.8580, -0.2801],\n",
       "                      [ 0.2884, -0.3771,  1.6102, -0.1751],\n",
       "                      [ 0.8386,  0.7699, -0.3062, -0.2319],\n",
       "                      [-0.7522,  0.6208, -1.8580, -0.2801],\n",
       "                      [ 0.2884, -0.3771,  1.6102, -0.1751],\n",
       "                      [ 0.8386,  0.7699, -0.3062, -0.2319],\n",
       "                      [-0.7522,  0.6208, -1.8580, -0.2801],\n",
       "                      [ 0.2884, -0.3771,  1.6102, -0.1751],\n",
       "                      [ 0.8386,  0.7699, -0.3062, -0.2319],\n",
       "                      [-0.7522,  0.6208, -1.8580, -0.2801],\n",
       "                      [ 0.2884, -0.3771,  1.6102, -0.1751]]),\n",
       "       ),\n",
       ")"
      ]
     },
     "execution_count": 27,
     "metadata": {},
     "output_type": "execute_result"
    }
   ],
   "source": [
    "Batch.cat(batches)"
   ]
  },
  {
   "cell_type": "code",
   "execution_count": 28,
   "id": "18dfb045",
   "metadata": {
    "execution": {
     "iopub.execute_input": "2023-10-22T15:59:05.673887Z",
     "iopub.status.busy": "2023-10-22T15:59:05.673343Z",
     "iopub.status.idle": "2023-10-22T15:59:20.340376Z",
     "shell.execute_reply": "2023-10-22T15:59:20.339445Z"
    }
   },
   "outputs": [
    {
     "name": "stdout",
     "output_type": "stream",
     "text": [
      "181 µs ± 673 ns per loop (mean ± std. dev. of 7 runs, 10,000 loops each)\n"
     ]
    }
   ],
   "source": [
    "%timeit Batch.cat(batches)"
   ]
  },
  {
   "cell_type": "code",
   "execution_count": 29,
   "id": "c6688e51",
   "metadata": {
    "execution": {
     "iopub.execute_input": "2023-10-22T15:59:20.344085Z",
     "iopub.status.busy": "2023-10-22T15:59:20.343786Z",
     "iopub.status.idle": "2023-10-22T15:59:23.977924Z",
     "shell.execute_reply": "2023-10-22T15:59:23.977014Z"
    }
   },
   "outputs": [
    {
     "name": "stdout",
     "output_type": "stream",
     "text": [
      "448 µs ± 10.4 µs per loop (mean ± std. dev. of 7 runs, 1,000 loops each)\n"
     ]
    }
   ],
   "source": [
    "batch = Batch({\n",
    "    'obs': torch.randn(8, 4, 84, 84),\n",
    "    'action': torch.randint(0, 6, size=(8, 1,)),\n",
    "    'reward': torch.rand(8, 1)}\n",
    ")\n",
    "\n",
    "%timeit list(Batch.split(batch, 1, shuffle=False, merge_last=True))"
   ]
  },
  {
   "cell_type": "code",
   "execution_count": null,
   "id": "2539fbd9",
   "metadata": {},
   "outputs": [],
   "source": []
  }
 ],
 "metadata": {
  "kernelspec": {
   "display_name": "Python 3 (ipykernel)",
   "language": "python",
   "name": "python3"
  },
  "language_info": {
   "codemirror_mode": {
    "name": "ipython",
    "version": 3
   },
   "file_extension": ".py",
   "mimetype": "text/x-python",
   "name": "python",
   "nbconvert_exporter": "python",
   "pygments_lexer": "ipython3",
   "version": "3.8.18"
  }
 },
 "nbformat": 4,
 "nbformat_minor": 5
}
