{
 "cells": [
  {
   "cell_type": "markdown",
   "id": "9d39d946",
   "metadata": {},
   "source": [
    "# Comparison Between TreeValue and Tianshou Batch"
   ]
  },
  {
   "cell_type": "markdown",
   "id": "3c6db2d4",
   "metadata": {},
   "source": [
    "In this section, we will take a look at the feature and performance of the [Tianshou Batch](https://github.com/thu-ml/tianshou) library, which is developed by Tsinghua Machine Learning Group."
   ]
  },
  {
   "cell_type": "markdown",
   "id": "069361b0",
   "metadata": {},
   "source": [
    "Before starting the comparison, let us define some thing."
   ]
  },
  {
   "cell_type": "code",
   "execution_count": 1,
   "id": "06fc8d26",
   "metadata": {
    "execution": {
     "iopub.execute_input": "2023-08-10T15:03:58.118629Z",
     "iopub.status.busy": "2023-08-10T15:03:58.118302Z",
     "iopub.status.idle": "2023-08-10T15:03:59.785135Z",
     "shell.execute_reply": "2023-08-10T15:03:59.784043Z"
    }
   },
   "outputs": [],
   "source": [
    "import torch \n",
    "\n",
    "_TREE_DATA_1 = {'a': 1, 'b': 2, 'x': {'c': 3, 'd': 4}}\n",
    "_TREE_DATA_2 = {\n",
    "    'a': torch.randn(2, 3), \n",
    "    'x': {\n",
    "        'c': torch.randn(3, 4)\n",
    "    },\n",
    "}\n",
    "_TREE_DATA_3 = {\n",
    "    'obs': torch.randn(4, 84, 84),\n",
    "    'action': torch.randint(0, 6, size=(1,)),\n",
    "    'reward': torch.rand(1),\n",
    "}"
   ]
  },
  {
   "cell_type": "markdown",
   "id": "83461b25",
   "metadata": {},
   "source": [
    "## Read and Write Operation"
   ]
  },
  {
   "cell_type": "markdown",
   "id": "067b3f73",
   "metadata": {},
   "source": [
    "Reading and writing are the two most common operations in the tree data structure based on the data model (TreeValue and Tianshou Batch both belong to this type), so this section will compare the reading and writing performance of these two libraries."
   ]
  },
  {
   "cell_type": "markdown",
   "id": "5d09a5b7",
   "metadata": {},
   "source": [
    "### TreeValue's Get and Set"
   ]
  },
  {
   "cell_type": "code",
   "execution_count": 2,
   "id": "9519c4bb",
   "metadata": {
    "execution": {
     "iopub.execute_input": "2023-08-10T15:03:59.789477Z",
     "iopub.status.busy": "2023-08-10T15:03:59.789093Z",
     "iopub.status.idle": "2023-08-10T15:03:59.826335Z",
     "shell.execute_reply": "2023-08-10T15:03:59.825235Z"
    }
   },
   "outputs": [],
   "source": [
    "from treevalue import FastTreeValue\n",
    "\n",
    "t = FastTreeValue(_TREE_DATA_2)"
   ]
  },
  {
   "cell_type": "code",
   "execution_count": 3,
   "id": "11c37677",
   "metadata": {
    "execution": {
     "iopub.execute_input": "2023-08-10T15:03:59.830919Z",
     "iopub.status.busy": "2023-08-10T15:03:59.830359Z",
     "iopub.status.idle": "2023-08-10T15:03:59.845455Z",
     "shell.execute_reply": "2023-08-10T15:03:59.844640Z"
    }
   },
   "outputs": [
    {
     "data": {
      "text/plain": [
       "<FastTreeValue 0x7fee0d67aa60>\n",
       "├── 'a' --> tensor([[-0.9584,  1.1344,  0.1895],\n",
       "│                   [-0.4369, -2.1558, -1.7903]])\n",
       "└── 'x' --> <FastTreeValue 0x7fee085fc940>\n",
       "    └── 'c' --> tensor([[-0.8380, -0.9573,  0.9886, -1.1453],\n",
       "                        [-0.2568, -0.1171,  0.4791,  0.4327],\n",
       "                        [ 0.2909, -0.2474,  0.5359,  0.8001]])"
      ]
     },
     "execution_count": 3,
     "metadata": {},
     "output_type": "execute_result"
    }
   ],
   "source": [
    "t"
   ]
  },
  {
   "cell_type": "code",
   "execution_count": 4,
   "id": "fd70b0b9",
   "metadata": {
    "execution": {
     "iopub.execute_input": "2023-08-10T15:03:59.849199Z",
     "iopub.status.busy": "2023-08-10T15:03:59.848637Z",
     "iopub.status.idle": "2023-08-10T15:03:59.854799Z",
     "shell.execute_reply": "2023-08-10T15:03:59.853952Z"
    }
   },
   "outputs": [
    {
     "data": {
      "text/plain": [
       "tensor([[-0.9584,  1.1344,  0.1895],\n",
       "        [-0.4369, -2.1558, -1.7903]])"
      ]
     },
     "execution_count": 4,
     "metadata": {},
     "output_type": "execute_result"
    }
   ],
   "source": [
    "t.a"
   ]
  },
  {
   "cell_type": "code",
   "execution_count": 5,
   "id": "c18197bd",
   "metadata": {
    "execution": {
     "iopub.execute_input": "2023-08-10T15:03:59.859496Z",
     "iopub.status.busy": "2023-08-10T15:03:59.858961Z",
     "iopub.status.idle": "2023-08-10T15:04:06.840793Z",
     "shell.execute_reply": "2023-08-10T15:04:06.839902Z"
    }
   },
   "outputs": [
    {
     "name": "stdout",
     "output_type": "stream",
     "text": [
      "86 ns ± 0.16 ns per loop (mean ± std. dev. of 7 runs, 10,000,000 loops each)\n"
     ]
    }
   ],
   "source": [
    "%timeit t.a"
   ]
  },
  {
   "cell_type": "code",
   "execution_count": 6,
   "id": "bd52f867",
   "metadata": {
    "execution": {
     "iopub.execute_input": "2023-08-10T15:04:06.845099Z",
     "iopub.status.busy": "2023-08-10T15:04:06.844409Z",
     "iopub.status.idle": "2023-08-10T15:04:06.852121Z",
     "shell.execute_reply": "2023-08-10T15:04:06.851206Z"
    }
   },
   "outputs": [
    {
     "data": {
      "text/plain": [
       "<FastTreeValue 0x7fee0d67aa60>\n",
       "├── 'a' --> tensor([[ 0.0491,  0.1547,  0.5780],\n",
       "│                   [-0.6319,  1.0889, -0.0507]])\n",
       "└── 'x' --> <FastTreeValue 0x7fee085fc940>\n",
       "    └── 'c' --> tensor([[-0.8380, -0.9573,  0.9886, -1.1453],\n",
       "                        [-0.2568, -0.1171,  0.4791,  0.4327],\n",
       "                        [ 0.2909, -0.2474,  0.5359,  0.8001]])"
      ]
     },
     "execution_count": 6,
     "metadata": {},
     "output_type": "execute_result"
    }
   ],
   "source": [
    "new_value = torch.randn(2, 3)\n",
    "t.a = new_value\n",
    "\n",
    "t"
   ]
  },
  {
   "cell_type": "code",
   "execution_count": 7,
   "id": "bbe04d1c",
   "metadata": {
    "execution": {
     "iopub.execute_input": "2023-08-10T15:04:06.855793Z",
     "iopub.status.busy": "2023-08-10T15:04:06.855345Z",
     "iopub.status.idle": "2023-08-10T15:04:13.704409Z",
     "shell.execute_reply": "2023-08-10T15:04:13.703297Z"
    }
   },
   "outputs": [
    {
     "name": "stdout",
     "output_type": "stream",
     "text": [
      "83.9 ns ± 0.853 ns per loop (mean ± std. dev. of 7 runs, 10,000,000 loops each)\n"
     ]
    }
   ],
   "source": [
    "%timeit t.a = new_value"
   ]
  },
  {
   "cell_type": "markdown",
   "id": "48c49731",
   "metadata": {},
   "source": [
    "### Tianshou Batch's Get and Set"
   ]
  },
  {
   "cell_type": "code",
   "execution_count": 8,
   "id": "f1bb14c1",
   "metadata": {
    "execution": {
     "iopub.execute_input": "2023-08-10T15:04:13.708419Z",
     "iopub.status.busy": "2023-08-10T15:04:13.708117Z",
     "iopub.status.idle": "2023-08-10T15:04:14.168153Z",
     "shell.execute_reply": "2023-08-10T15:04:14.167254Z"
    }
   },
   "outputs": [],
   "source": [
    "from tianshou.data import Batch\n",
    "\n",
    "b = Batch(**_TREE_DATA_2)"
   ]
  },
  {
   "cell_type": "code",
   "execution_count": 9,
   "id": "cb0777c3",
   "metadata": {
    "execution": {
     "iopub.execute_input": "2023-08-10T15:04:14.172770Z",
     "iopub.status.busy": "2023-08-10T15:04:14.171773Z",
     "iopub.status.idle": "2023-08-10T15:04:14.178657Z",
     "shell.execute_reply": "2023-08-10T15:04:14.177823Z"
    }
   },
   "outputs": [
    {
     "data": {
      "text/plain": [
       "Batch(\n",
       "    a: tensor([[-0.9584,  1.1344,  0.1895],\n",
       "               [-0.4369, -2.1558, -1.7903]]),\n",
       "    x: Batch(\n",
       "           c: tensor([[-0.8380, -0.9573,  0.9886, -1.1453],\n",
       "                      [-0.2568, -0.1171,  0.4791,  0.4327],\n",
       "                      [ 0.2909, -0.2474,  0.5359,  0.8001]]),\n",
       "       ),\n",
       ")"
      ]
     },
     "execution_count": 9,
     "metadata": {},
     "output_type": "execute_result"
    }
   ],
   "source": [
    "b"
   ]
  },
  {
   "cell_type": "code",
   "execution_count": 10,
   "id": "43ef8ea3",
   "metadata": {
    "execution": {
     "iopub.execute_input": "2023-08-10T15:04:14.182489Z",
     "iopub.status.busy": "2023-08-10T15:04:14.181965Z",
     "iopub.status.idle": "2023-08-10T15:04:14.187869Z",
     "shell.execute_reply": "2023-08-10T15:04:14.187063Z"
    }
   },
   "outputs": [
    {
     "data": {
      "text/plain": [
       "tensor([[-0.9584,  1.1344,  0.1895],\n",
       "        [-0.4369, -2.1558, -1.7903]])"
      ]
     },
     "execution_count": 10,
     "metadata": {},
     "output_type": "execute_result"
    }
   ],
   "source": [
    "b.a"
   ]
  },
  {
   "cell_type": "code",
   "execution_count": 11,
   "id": "b785ab72",
   "metadata": {
    "execution": {
     "iopub.execute_input": "2023-08-10T15:04:14.192037Z",
     "iopub.status.busy": "2023-08-10T15:04:14.191619Z",
     "iopub.status.idle": "2023-08-10T15:04:20.399315Z",
     "shell.execute_reply": "2023-08-10T15:04:20.397386Z"
    }
   },
   "outputs": [
    {
     "name": "stdout",
     "output_type": "stream",
     "text": [
      "76.3 ns ± 0.638 ns per loop (mean ± std. dev. of 7 runs, 10,000,000 loops each)\n"
     ]
    }
   ],
   "source": [
    "%timeit b.a"
   ]
  },
  {
   "cell_type": "code",
   "execution_count": 12,
   "id": "ad54dc69",
   "metadata": {
    "execution": {
     "iopub.execute_input": "2023-08-10T15:04:20.403409Z",
     "iopub.status.busy": "2023-08-10T15:04:20.403105Z",
     "iopub.status.idle": "2023-08-10T15:04:20.410300Z",
     "shell.execute_reply": "2023-08-10T15:04:20.409492Z"
    }
   },
   "outputs": [
    {
     "data": {
      "text/plain": [
       "Batch(\n",
       "    a: tensor([[-0.9439,  0.3156,  0.7804],\n",
       "               [ 0.6786, -0.9633,  0.2760]]),\n",
       "    x: Batch(\n",
       "           c: tensor([[-0.8380, -0.9573,  0.9886, -1.1453],\n",
       "                      [-0.2568, -0.1171,  0.4791,  0.4327],\n",
       "                      [ 0.2909, -0.2474,  0.5359,  0.8001]]),\n",
       "       ),\n",
       ")"
      ]
     },
     "execution_count": 12,
     "metadata": {},
     "output_type": "execute_result"
    }
   ],
   "source": [
    "new_value = torch.randn(2, 3)\n",
    "b.a = new_value\n",
    "\n",
    "b"
   ]
  },
  {
   "cell_type": "code",
   "execution_count": 13,
   "id": "29b1d0bf",
   "metadata": {
    "execution": {
     "iopub.execute_input": "2023-08-10T15:04:20.414274Z",
     "iopub.status.busy": "2023-08-10T15:04:20.413536Z",
     "iopub.status.idle": "2023-08-10T15:04:25.591036Z",
     "shell.execute_reply": "2023-08-10T15:04:25.590264Z"
    }
   },
   "outputs": [
    {
     "name": "stdout",
     "output_type": "stream",
     "text": [
      "638 ns ± 3.23 ns per loop (mean ± std. dev. of 7 runs, 1,000,000 loops each)\n"
     ]
    }
   ],
   "source": [
    "%timeit b.a = new_value"
   ]
  },
  {
   "cell_type": "markdown",
   "id": "b61ad1d0",
   "metadata": {},
   "source": [
    "## Initialization"
   ]
  },
  {
   "cell_type": "markdown",
   "id": "d70f0d54",
   "metadata": {},
   "source": [
    "### TreeValue's Initialization"
   ]
  },
  {
   "cell_type": "code",
   "execution_count": 14,
   "id": "d32a679b",
   "metadata": {
    "execution": {
     "iopub.execute_input": "2023-08-10T15:04:25.594951Z",
     "iopub.status.busy": "2023-08-10T15:04:25.594383Z",
     "iopub.status.idle": "2023-08-10T15:04:34.150511Z",
     "shell.execute_reply": "2023-08-10T15:04:34.148673Z"
    }
   },
   "outputs": [
    {
     "name": "stdout",
     "output_type": "stream",
     "text": [
      "1.06 µs ± 7.3 ns per loop (mean ± std. dev. of 7 runs, 1,000,000 loops each)\n"
     ]
    }
   ],
   "source": [
    "%timeit FastTreeValue(_TREE_DATA_1)"
   ]
  },
  {
   "cell_type": "markdown",
   "id": "24f3707b",
   "metadata": {},
   "source": [
    "### Tianshou Batch's Initialization"
   ]
  },
  {
   "cell_type": "code",
   "execution_count": 15,
   "id": "ac3958df",
   "metadata": {
    "execution": {
     "iopub.execute_input": "2023-08-10T15:04:34.155181Z",
     "iopub.status.busy": "2023-08-10T15:04:34.154618Z",
     "iopub.status.idle": "2023-08-10T15:04:44.450551Z",
     "shell.execute_reply": "2023-08-10T15:04:44.449774Z"
    }
   },
   "outputs": [
    {
     "name": "stdout",
     "output_type": "stream",
     "text": [
      "12.6 µs ± 98.4 ns per loop (mean ± std. dev. of 7 runs, 100,000 loops each)\n"
     ]
    }
   ],
   "source": [
    "%timeit Batch(**_TREE_DATA_1)"
   ]
  },
  {
   "cell_type": "markdown",
   "id": "1ab82e2d",
   "metadata": {},
   "source": [
    "## Deep Copy Operation"
   ]
  },
  {
   "cell_type": "code",
   "execution_count": 16,
   "id": "210a9442",
   "metadata": {
    "execution": {
     "iopub.execute_input": "2023-08-10T15:04:44.454407Z",
     "iopub.status.busy": "2023-08-10T15:04:44.453873Z",
     "iopub.status.idle": "2023-08-10T15:04:44.457714Z",
     "shell.execute_reply": "2023-08-10T15:04:44.456770Z"
    }
   },
   "outputs": [],
   "source": [
    "import copy"
   ]
  },
  {
   "cell_type": "markdown",
   "id": "5a736274",
   "metadata": {},
   "source": [
    "### Deep Copy of TreeValue"
   ]
  },
  {
   "cell_type": "code",
   "execution_count": 17,
   "id": "f9bcadd6",
   "metadata": {
    "execution": {
     "iopub.execute_input": "2023-08-10T15:04:44.462037Z",
     "iopub.status.busy": "2023-08-10T15:04:44.461579Z",
     "iopub.status.idle": "2023-08-10T15:04:58.001863Z",
     "shell.execute_reply": "2023-08-10T15:04:58.000935Z"
    }
   },
   "outputs": [
    {
     "name": "stdout",
     "output_type": "stream",
     "text": [
      "166 µs ± 1.86 µs per loop (mean ± std. dev. of 7 runs, 10,000 loops each)\n"
     ]
    }
   ],
   "source": [
    "t3 = FastTreeValue(_TREE_DATA_3)\n",
    "%timeit copy.deepcopy(t3)"
   ]
  },
  {
   "cell_type": "markdown",
   "id": "bf8be7ea",
   "metadata": {},
   "source": [
    "### Deep Copy of Tianshou Batch"
   ]
  },
  {
   "cell_type": "code",
   "execution_count": 18,
   "id": "91998e6f",
   "metadata": {
    "execution": {
     "iopub.execute_input": "2023-08-10T15:04:58.005655Z",
     "iopub.status.busy": "2023-08-10T15:04:58.005342Z",
     "iopub.status.idle": "2023-08-10T15:05:11.595162Z",
     "shell.execute_reply": "2023-08-10T15:05:11.594405Z"
    }
   },
   "outputs": [
    {
     "name": "stdout",
     "output_type": "stream",
     "text": [
      "167 µs ± 1.41 µs per loop (mean ± std. dev. of 7 runs, 10,000 loops each)\n"
     ]
    }
   ],
   "source": [
    "b3 = Batch(**_TREE_DATA_3)\n",
    "%timeit copy.deepcopy(b3)"
   ]
  },
  {
   "cell_type": "markdown",
   "id": "223162fb",
   "metadata": {},
   "source": [
    "## Stack, Concat and Split Operation"
   ]
  },
  {
   "cell_type": "markdown",
   "id": "85fa4a73",
   "metadata": {},
   "source": [
    "### Performance of TreeValue"
   ]
  },
  {
   "cell_type": "code",
   "execution_count": 19,
   "id": "a0c2b697",
   "metadata": {
    "execution": {
     "iopub.execute_input": "2023-08-10T15:05:11.599210Z",
     "iopub.status.busy": "2023-08-10T15:05:11.598911Z",
     "iopub.status.idle": "2023-08-10T15:05:11.604482Z",
     "shell.execute_reply": "2023-08-10T15:05:11.603699Z"
    }
   },
   "outputs": [],
   "source": [
    "trees = [FastTreeValue(_TREE_DATA_2) for _ in range(8)]"
   ]
  },
  {
   "cell_type": "code",
   "execution_count": 20,
   "id": "017ea5a5",
   "metadata": {
    "execution": {
     "iopub.execute_input": "2023-08-10T15:05:11.608379Z",
     "iopub.status.busy": "2023-08-10T15:05:11.607857Z",
     "iopub.status.idle": "2023-08-10T15:05:11.620272Z",
     "shell.execute_reply": "2023-08-10T15:05:11.619511Z"
    }
   },
   "outputs": [
    {
     "data": {
      "text/plain": [
       "<FastTreeValue 0x7fee0d63e100>\n",
       "├── 'a' --> tensor([[[-0.9584,  1.1344,  0.1895],\n",
       "│                    [-0.4369, -2.1558, -1.7903]],\n",
       "│           \n",
       "│                   [[-0.9584,  1.1344,  0.1895],\n",
       "│                    [-0.4369, -2.1558, -1.7903]],\n",
       "│           \n",
       "│                   [[-0.9584,  1.1344,  0.1895],\n",
       "│                    [-0.4369, -2.1558, -1.7903]],\n",
       "│           \n",
       "│                   [[-0.9584,  1.1344,  0.1895],\n",
       "│                    [-0.4369, -2.1558, -1.7903]],\n",
       "│           \n",
       "│                   [[-0.9584,  1.1344,  0.1895],\n",
       "│                    [-0.4369, -2.1558, -1.7903]],\n",
       "│           \n",
       "│                   [[-0.9584,  1.1344,  0.1895],\n",
       "│                    [-0.4369, -2.1558, -1.7903]],\n",
       "│           \n",
       "│                   [[-0.9584,  1.1344,  0.1895],\n",
       "│                    [-0.4369, -2.1558, -1.7903]],\n",
       "│           \n",
       "│                   [[-0.9584,  1.1344,  0.1895],\n",
       "│                    [-0.4369, -2.1558, -1.7903]]])\n",
       "└── 'x' --> <FastTreeValue 0x7fed3d817910>\n",
       "    └── 'c' --> tensor([[[-0.8380, -0.9573,  0.9886, -1.1453],\n",
       "                         [-0.2568, -0.1171,  0.4791,  0.4327],\n",
       "                         [ 0.2909, -0.2474,  0.5359,  0.8001]],\n",
       "                \n",
       "                        [[-0.8380, -0.9573,  0.9886, -1.1453],\n",
       "                         [-0.2568, -0.1171,  0.4791,  0.4327],\n",
       "                         [ 0.2909, -0.2474,  0.5359,  0.8001]],\n",
       "                \n",
       "                        [[-0.8380, -0.9573,  0.9886, -1.1453],\n",
       "                         [-0.2568, -0.1171,  0.4791,  0.4327],\n",
       "                         [ 0.2909, -0.2474,  0.5359,  0.8001]],\n",
       "                \n",
       "                        [[-0.8380, -0.9573,  0.9886, -1.1453],\n",
       "                         [-0.2568, -0.1171,  0.4791,  0.4327],\n",
       "                         [ 0.2909, -0.2474,  0.5359,  0.8001]],\n",
       "                \n",
       "                        [[-0.8380, -0.9573,  0.9886, -1.1453],\n",
       "                         [-0.2568, -0.1171,  0.4791,  0.4327],\n",
       "                         [ 0.2909, -0.2474,  0.5359,  0.8001]],\n",
       "                \n",
       "                        [[-0.8380, -0.9573,  0.9886, -1.1453],\n",
       "                         [-0.2568, -0.1171,  0.4791,  0.4327],\n",
       "                         [ 0.2909, -0.2474,  0.5359,  0.8001]],\n",
       "                \n",
       "                        [[-0.8380, -0.9573,  0.9886, -1.1453],\n",
       "                         [-0.2568, -0.1171,  0.4791,  0.4327],\n",
       "                         [ 0.2909, -0.2474,  0.5359,  0.8001]],\n",
       "                \n",
       "                        [[-0.8380, -0.9573,  0.9886, -1.1453],\n",
       "                         [-0.2568, -0.1171,  0.4791,  0.4327],\n",
       "                         [ 0.2909, -0.2474,  0.5359,  0.8001]]])"
      ]
     },
     "execution_count": 20,
     "metadata": {},
     "output_type": "execute_result"
    }
   ],
   "source": [
    "t_stack = FastTreeValue.func(subside=True)(torch.stack)\n",
    "\n",
    "t_stack(trees)"
   ]
  },
  {
   "cell_type": "code",
   "execution_count": 21,
   "id": "f8b3f415",
   "metadata": {
    "execution": {
     "iopub.execute_input": "2023-08-10T15:05:11.624252Z",
     "iopub.status.busy": "2023-08-10T15:05:11.623843Z",
     "iopub.status.idle": "2023-08-10T15:05:14.703361Z",
     "shell.execute_reply": "2023-08-10T15:05:14.702426Z"
    }
   },
   "outputs": [
    {
     "name": "stdout",
     "output_type": "stream",
     "text": [
      "37.9 µs ± 283 ns per loop (mean ± std. dev. of 7 runs, 10,000 loops each)\n"
     ]
    }
   ],
   "source": [
    "%timeit t_stack(trees)"
   ]
  },
  {
   "cell_type": "code",
   "execution_count": 22,
   "id": "94b56771",
   "metadata": {
    "execution": {
     "iopub.execute_input": "2023-08-10T15:05:14.708001Z",
     "iopub.status.busy": "2023-08-10T15:05:14.707376Z",
     "iopub.status.idle": "2023-08-10T15:05:14.717006Z",
     "shell.execute_reply": "2023-08-10T15:05:14.716033Z"
    }
   },
   "outputs": [
    {
     "data": {
      "text/plain": [
       "<FastTreeValue 0x7fed3d7a7880>\n",
       "├── 'a' --> tensor([[-0.9584,  1.1344,  0.1895],\n",
       "│                   [-0.4369, -2.1558, -1.7903],\n",
       "│                   [-0.9584,  1.1344,  0.1895],\n",
       "│                   [-0.4369, -2.1558, -1.7903],\n",
       "│                   [-0.9584,  1.1344,  0.1895],\n",
       "│                   [-0.4369, -2.1558, -1.7903],\n",
       "│                   [-0.9584,  1.1344,  0.1895],\n",
       "│                   [-0.4369, -2.1558, -1.7903],\n",
       "│                   [-0.9584,  1.1344,  0.1895],\n",
       "│                   [-0.4369, -2.1558, -1.7903],\n",
       "│                   [-0.9584,  1.1344,  0.1895],\n",
       "│                   [-0.4369, -2.1558, -1.7903],\n",
       "│                   [-0.9584,  1.1344,  0.1895],\n",
       "│                   [-0.4369, -2.1558, -1.7903],\n",
       "│                   [-0.9584,  1.1344,  0.1895],\n",
       "│                   [-0.4369, -2.1558, -1.7903]])\n",
       "└── 'x' --> <FastTreeValue 0x7fed3d7a7a60>\n",
       "    └── 'c' --> tensor([[-0.8380, -0.9573,  0.9886, -1.1453],\n",
       "                        [-0.2568, -0.1171,  0.4791,  0.4327],\n",
       "                        [ 0.2909, -0.2474,  0.5359,  0.8001],\n",
       "                        [-0.8380, -0.9573,  0.9886, -1.1453],\n",
       "                        [-0.2568, -0.1171,  0.4791,  0.4327],\n",
       "                        [ 0.2909, -0.2474,  0.5359,  0.8001],\n",
       "                        [-0.8380, -0.9573,  0.9886, -1.1453],\n",
       "                        [-0.2568, -0.1171,  0.4791,  0.4327],\n",
       "                        [ 0.2909, -0.2474,  0.5359,  0.8001],\n",
       "                        [-0.8380, -0.9573,  0.9886, -1.1453],\n",
       "                        [-0.2568, -0.1171,  0.4791,  0.4327],\n",
       "                        [ 0.2909, -0.2474,  0.5359,  0.8001],\n",
       "                        [-0.8380, -0.9573,  0.9886, -1.1453],\n",
       "                        [-0.2568, -0.1171,  0.4791,  0.4327],\n",
       "                        [ 0.2909, -0.2474,  0.5359,  0.8001],\n",
       "                        [-0.8380, -0.9573,  0.9886, -1.1453],\n",
       "                        [-0.2568, -0.1171,  0.4791,  0.4327],\n",
       "                        [ 0.2909, -0.2474,  0.5359,  0.8001],\n",
       "                        [-0.8380, -0.9573,  0.9886, -1.1453],\n",
       "                        [-0.2568, -0.1171,  0.4791,  0.4327],\n",
       "                        [ 0.2909, -0.2474,  0.5359,  0.8001],\n",
       "                        [-0.8380, -0.9573,  0.9886, -1.1453],\n",
       "                        [-0.2568, -0.1171,  0.4791,  0.4327],\n",
       "                        [ 0.2909, -0.2474,  0.5359,  0.8001]])"
      ]
     },
     "execution_count": 22,
     "metadata": {},
     "output_type": "execute_result"
    }
   ],
   "source": [
    "t_cat = FastTreeValue.func(subside=True)(torch.cat)\n",
    "\n",
    "t_cat(trees)"
   ]
  },
  {
   "cell_type": "code",
   "execution_count": 23,
   "id": "5e9c06a6",
   "metadata": {
    "execution": {
     "iopub.execute_input": "2023-08-10T15:05:14.721010Z",
     "iopub.status.busy": "2023-08-10T15:05:14.720553Z",
     "iopub.status.idle": "2023-08-10T15:05:17.678823Z",
     "shell.execute_reply": "2023-08-10T15:05:17.677919Z"
    }
   },
   "outputs": [
    {
     "name": "stdout",
     "output_type": "stream",
     "text": [
      "36.3 µs ± 245 ns per loop (mean ± std. dev. of 7 runs, 10,000 loops each)\n"
     ]
    }
   ],
   "source": [
    "%timeit t_cat(trees)"
   ]
  },
  {
   "cell_type": "code",
   "execution_count": 24,
   "id": "a3ab5c8f",
   "metadata": {
    "execution": {
     "iopub.execute_input": "2023-08-10T15:05:17.683528Z",
     "iopub.status.busy": "2023-08-10T15:05:17.682745Z",
     "iopub.status.idle": "2023-08-10T15:05:24.095313Z",
     "shell.execute_reply": "2023-08-10T15:05:24.094542Z"
    }
   },
   "outputs": [
    {
     "name": "stdout",
     "output_type": "stream",
     "text": [
      "78.9 µs ± 658 ns per loop (mean ± std. dev. of 7 runs, 10,000 loops each)\n"
     ]
    }
   ],
   "source": [
    "t_split = FastTreeValue.func(rise=True)(torch.split)\n",
    "tree = FastTreeValue({\n",
    "    'obs': torch.randn(8, 4, 84, 84),\n",
    "    'action': torch.randint(0, 6, size=(8, 1,)),\n",
    "    'reward': torch.rand(8, 1),\n",
    "})\n",
    "\n",
    "%timeit t_split(tree, 1)"
   ]
  },
  {
   "cell_type": "markdown",
   "id": "31c3ec0b",
   "metadata": {},
   "source": [
    "### Performance of Tianshou Batch"
   ]
  },
  {
   "cell_type": "code",
   "execution_count": 25,
   "id": "9ead828a",
   "metadata": {
    "execution": {
     "iopub.execute_input": "2023-08-10T15:05:24.099464Z",
     "iopub.status.busy": "2023-08-10T15:05:24.098745Z",
     "iopub.status.idle": "2023-08-10T15:05:24.108034Z",
     "shell.execute_reply": "2023-08-10T15:05:24.107187Z"
    }
   },
   "outputs": [
    {
     "data": {
      "text/plain": [
       "Batch(\n",
       "    a: tensor([[[-0.9584,  1.1344,  0.1895],\n",
       "                [-0.4369, -2.1558, -1.7903]],\n",
       "       \n",
       "               [[-0.9584,  1.1344,  0.1895],\n",
       "                [-0.4369, -2.1558, -1.7903]],\n",
       "       \n",
       "               [[-0.9584,  1.1344,  0.1895],\n",
       "                [-0.4369, -2.1558, -1.7903]],\n",
       "       \n",
       "               [[-0.9584,  1.1344,  0.1895],\n",
       "                [-0.4369, -2.1558, -1.7903]],\n",
       "       \n",
       "               [[-0.9584,  1.1344,  0.1895],\n",
       "                [-0.4369, -2.1558, -1.7903]],\n",
       "       \n",
       "               [[-0.9584,  1.1344,  0.1895],\n",
       "                [-0.4369, -2.1558, -1.7903]],\n",
       "       \n",
       "               [[-0.9584,  1.1344,  0.1895],\n",
       "                [-0.4369, -2.1558, -1.7903]],\n",
       "       \n",
       "               [[-0.9584,  1.1344,  0.1895],\n",
       "                [-0.4369, -2.1558, -1.7903]]]),\n",
       "    x: Batch(\n",
       "           c: tensor([[[-0.8380, -0.9573,  0.9886, -1.1453],\n",
       "                       [-0.2568, -0.1171,  0.4791,  0.4327],\n",
       "                       [ 0.2909, -0.2474,  0.5359,  0.8001]],\n",
       "              \n",
       "                      [[-0.8380, -0.9573,  0.9886, -1.1453],\n",
       "                       [-0.2568, -0.1171,  0.4791,  0.4327],\n",
       "                       [ 0.2909, -0.2474,  0.5359,  0.8001]],\n",
       "              \n",
       "                      [[-0.8380, -0.9573,  0.9886, -1.1453],\n",
       "                       [-0.2568, -0.1171,  0.4791,  0.4327],\n",
       "                       [ 0.2909, -0.2474,  0.5359,  0.8001]],\n",
       "              \n",
       "                      [[-0.8380, -0.9573,  0.9886, -1.1453],\n",
       "                       [-0.2568, -0.1171,  0.4791,  0.4327],\n",
       "                       [ 0.2909, -0.2474,  0.5359,  0.8001]],\n",
       "              \n",
       "                      [[-0.8380, -0.9573,  0.9886, -1.1453],\n",
       "                       [-0.2568, -0.1171,  0.4791,  0.4327],\n",
       "                       [ 0.2909, -0.2474,  0.5359,  0.8001]],\n",
       "              \n",
       "                      [[-0.8380, -0.9573,  0.9886, -1.1453],\n",
       "                       [-0.2568, -0.1171,  0.4791,  0.4327],\n",
       "                       [ 0.2909, -0.2474,  0.5359,  0.8001]],\n",
       "              \n",
       "                      [[-0.8380, -0.9573,  0.9886, -1.1453],\n",
       "                       [-0.2568, -0.1171,  0.4791,  0.4327],\n",
       "                       [ 0.2909, -0.2474,  0.5359,  0.8001]],\n",
       "              \n",
       "                      [[-0.8380, -0.9573,  0.9886, -1.1453],\n",
       "                       [-0.2568, -0.1171,  0.4791,  0.4327],\n",
       "                       [ 0.2909, -0.2474,  0.5359,  0.8001]]]),\n",
       "       ),\n",
       ")"
      ]
     },
     "execution_count": 25,
     "metadata": {},
     "output_type": "execute_result"
    }
   ],
   "source": [
    "batches = [Batch(**_TREE_DATA_2) for _ in range(8)]\n",
    "\n",
    "Batch.stack(batches)"
   ]
  },
  {
   "cell_type": "code",
   "execution_count": 26,
   "id": "ec9037a3",
   "metadata": {
    "execution": {
     "iopub.execute_input": "2023-08-10T15:05:24.111827Z",
     "iopub.status.busy": "2023-08-10T15:05:24.111289Z",
     "iopub.status.idle": "2023-08-10T15:05:31.942117Z",
     "shell.execute_reply": "2023-08-10T15:05:31.941222Z"
    }
   },
   "outputs": [
    {
     "name": "stdout",
     "output_type": "stream",
     "text": [
      "96.5 µs ± 440 ns per loop (mean ± std. dev. of 7 runs, 10,000 loops each)\n"
     ]
    }
   ],
   "source": [
    "%timeit Batch.stack(batches)"
   ]
  },
  {
   "cell_type": "code",
   "execution_count": 27,
   "id": "cb8ab77e",
   "metadata": {
    "execution": {
     "iopub.execute_input": "2023-08-10T15:05:31.946388Z",
     "iopub.status.busy": "2023-08-10T15:05:31.945630Z",
     "iopub.status.idle": "2023-08-10T15:05:31.954418Z",
     "shell.execute_reply": "2023-08-10T15:05:31.953565Z"
    }
   },
   "outputs": [
    {
     "data": {
      "text/plain": [
       "Batch(\n",
       "    a: tensor([[-0.9584,  1.1344,  0.1895],\n",
       "               [-0.4369, -2.1558, -1.7903],\n",
       "               [-0.9584,  1.1344,  0.1895],\n",
       "               [-0.4369, -2.1558, -1.7903],\n",
       "               [-0.9584,  1.1344,  0.1895],\n",
       "               [-0.4369, -2.1558, -1.7903],\n",
       "               [-0.9584,  1.1344,  0.1895],\n",
       "               [-0.4369, -2.1558, -1.7903],\n",
       "               [-0.9584,  1.1344,  0.1895],\n",
       "               [-0.4369, -2.1558, -1.7903],\n",
       "               [-0.9584,  1.1344,  0.1895],\n",
       "               [-0.4369, -2.1558, -1.7903],\n",
       "               [-0.9584,  1.1344,  0.1895],\n",
       "               [-0.4369, -2.1558, -1.7903],\n",
       "               [-0.9584,  1.1344,  0.1895],\n",
       "               [-0.4369, -2.1558, -1.7903]]),\n",
       "    x: Batch(\n",
       "           c: tensor([[-0.8380, -0.9573,  0.9886, -1.1453],\n",
       "                      [-0.2568, -0.1171,  0.4791,  0.4327],\n",
       "                      [ 0.2909, -0.2474,  0.5359,  0.8001],\n",
       "                      [-0.8380, -0.9573,  0.9886, -1.1453],\n",
       "                      [-0.2568, -0.1171,  0.4791,  0.4327],\n",
       "                      [ 0.2909, -0.2474,  0.5359,  0.8001],\n",
       "                      [-0.8380, -0.9573,  0.9886, -1.1453],\n",
       "                      [-0.2568, -0.1171,  0.4791,  0.4327],\n",
       "                      [ 0.2909, -0.2474,  0.5359,  0.8001],\n",
       "                      [-0.8380, -0.9573,  0.9886, -1.1453],\n",
       "                      [-0.2568, -0.1171,  0.4791,  0.4327],\n",
       "                      [ 0.2909, -0.2474,  0.5359,  0.8001],\n",
       "                      [-0.8380, -0.9573,  0.9886, -1.1453],\n",
       "                      [-0.2568, -0.1171,  0.4791,  0.4327],\n",
       "                      [ 0.2909, -0.2474,  0.5359,  0.8001],\n",
       "                      [-0.8380, -0.9573,  0.9886, -1.1453],\n",
       "                      [-0.2568, -0.1171,  0.4791,  0.4327],\n",
       "                      [ 0.2909, -0.2474,  0.5359,  0.8001],\n",
       "                      [-0.8380, -0.9573,  0.9886, -1.1453],\n",
       "                      [-0.2568, -0.1171,  0.4791,  0.4327],\n",
       "                      [ 0.2909, -0.2474,  0.5359,  0.8001],\n",
       "                      [-0.8380, -0.9573,  0.9886, -1.1453],\n",
       "                      [-0.2568, -0.1171,  0.4791,  0.4327],\n",
       "                      [ 0.2909, -0.2474,  0.5359,  0.8001]]),\n",
       "       ),\n",
       ")"
      ]
     },
     "execution_count": 27,
     "metadata": {},
     "output_type": "execute_result"
    }
   ],
   "source": [
    "Batch.cat(batches)"
   ]
  },
  {
   "cell_type": "code",
   "execution_count": 28,
   "id": "18dfb045",
   "metadata": {
    "execution": {
     "iopub.execute_input": "2023-08-10T15:05:31.958326Z",
     "iopub.status.busy": "2023-08-10T15:05:31.957780Z",
     "iopub.status.idle": "2023-08-10T15:05:46.521782Z",
     "shell.execute_reply": "2023-08-10T15:05:46.521009Z"
    }
   },
   "outputs": [
    {
     "name": "stdout",
     "output_type": "stream",
     "text": [
      "179 µs ± 1.23 µs per loop (mean ± std. dev. of 7 runs, 10,000 loops each)\n"
     ]
    }
   ],
   "source": [
    "%timeit Batch.cat(batches)"
   ]
  },
  {
   "cell_type": "code",
   "execution_count": 29,
   "id": "c6688e51",
   "metadata": {
    "execution": {
     "iopub.execute_input": "2023-08-10T15:05:46.525519Z",
     "iopub.status.busy": "2023-08-10T15:05:46.525218Z",
     "iopub.status.idle": "2023-08-10T15:05:49.912439Z",
     "shell.execute_reply": "2023-08-10T15:05:49.911415Z"
    }
   },
   "outputs": [
    {
     "name": "stdout",
     "output_type": "stream",
     "text": [
      "415 µs ± 4.86 µs per loop (mean ± std. dev. of 7 runs, 1,000 loops each)\n"
     ]
    }
   ],
   "source": [
    "batch = Batch({\n",
    "    'obs': torch.randn(8, 4, 84, 84),\n",
    "    'action': torch.randint(0, 6, size=(8, 1,)),\n",
    "    'reward': torch.rand(8, 1)}\n",
    ")\n",
    "\n",
    "%timeit list(Batch.split(batch, 1, shuffle=False, merge_last=True))"
   ]
  },
  {
   "cell_type": "code",
   "execution_count": null,
   "id": "2539fbd9",
   "metadata": {},
   "outputs": [],
   "source": []
  }
 ],
 "metadata": {
  "kernelspec": {
   "display_name": "Python 3 (ipykernel)",
   "language": "python",
   "name": "python3"
  },
  "language_info": {
   "codemirror_mode": {
    "name": "ipython",
    "version": 3
   },
   "file_extension": ".py",
   "mimetype": "text/x-python",
   "name": "python",
   "nbconvert_exporter": "python",
   "pygments_lexer": "ipython3",
   "version": "3.8.17"
  }
 },
 "nbformat": 4,
 "nbformat_minor": 5
}
