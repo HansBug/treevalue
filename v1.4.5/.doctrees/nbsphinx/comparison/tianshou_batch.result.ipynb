{
 "cells": [
  {
   "cell_type": "markdown",
   "id": "9d39d946",
   "metadata": {},
   "source": [
    "# Comparison Between TreeValue and Tianshou Batch"
   ]
  },
  {
   "cell_type": "markdown",
   "id": "3c6db2d4",
   "metadata": {},
   "source": [
    "In this section, we will take a look at the feature and performance of the [Tianshou Batch](https://github.com/thu-ml/tianshou) library, which is developed by Tsinghua Machine Learning Group."
   ]
  },
  {
   "cell_type": "markdown",
   "id": "069361b0",
   "metadata": {},
   "source": [
    "Before starting the comparison, let us define some thing."
   ]
  },
  {
   "cell_type": "code",
   "execution_count": 1,
   "id": "06fc8d26",
   "metadata": {
    "execution": {
     "iopub.execute_input": "2023-02-27T11:11:56.641099Z",
     "iopub.status.busy": "2023-02-27T11:11:56.640469Z",
     "iopub.status.idle": "2023-02-27T11:11:57.537252Z",
     "shell.execute_reply": "2023-02-27T11:11:57.536597Z"
    }
   },
   "outputs": [
    {
     "name": "stderr",
     "output_type": "stream",
     "text": [
      "/opt/hostedtoolcache/Python/3.8.16/x64/lib/python3.8/site-packages/tqdm/auto.py:22: TqdmWarning: IProgress not found. Please update jupyter and ipywidgets. See https://ipywidgets.readthedocs.io/en/stable/user_install.html\n",
      "  from .autonotebook import tqdm as notebook_tqdm\n"
     ]
    }
   ],
   "source": [
    "import torch \n",
    "\n",
    "_TREE_DATA_1 = {'a': 1, 'b': 2, 'x': {'c': 3, 'd': 4}}\n",
    "_TREE_DATA_2 = {\n",
    "    'a': torch.randn(2, 3), \n",
    "    'x': {\n",
    "        'c': torch.randn(3, 4)\n",
    "    },\n",
    "}\n",
    "_TREE_DATA_3 = {\n",
    "    'obs': torch.randn(4, 84, 84),\n",
    "    'action': torch.randint(0, 6, size=(1,)),\n",
    "    'reward': torch.rand(1),\n",
    "}"
   ]
  },
  {
   "cell_type": "markdown",
   "id": "83461b25",
   "metadata": {},
   "source": [
    "## Read and Write Operation"
   ]
  },
  {
   "cell_type": "markdown",
   "id": "067b3f73",
   "metadata": {},
   "source": [
    "Reading and writing are the two most common operations in the tree data structure based on the data model (TreeValue and Tianshou Batch both belong to this type), so this section will compare the reading and writing performance of these two libraries."
   ]
  },
  {
   "cell_type": "markdown",
   "id": "5d09a5b7",
   "metadata": {},
   "source": [
    "### TreeValue's Get and Set"
   ]
  },
  {
   "cell_type": "code",
   "execution_count": 2,
   "id": "9519c4bb",
   "metadata": {
    "execution": {
     "iopub.execute_input": "2023-02-27T11:11:57.540609Z",
     "iopub.status.busy": "2023-02-27T11:11:57.540203Z",
     "iopub.status.idle": "2023-02-27T11:11:57.573096Z",
     "shell.execute_reply": "2023-02-27T11:11:57.572482Z"
    }
   },
   "outputs": [],
   "source": [
    "from treevalue import FastTreeValue\n",
    "\n",
    "t = FastTreeValue(_TREE_DATA_2)"
   ]
  },
  {
   "cell_type": "code",
   "execution_count": 3,
   "id": "11c37677",
   "metadata": {
    "execution": {
     "iopub.execute_input": "2023-02-27T11:11:57.575612Z",
     "iopub.status.busy": "2023-02-27T11:11:57.575288Z",
     "iopub.status.idle": "2023-02-27T11:11:57.584307Z",
     "shell.execute_reply": "2023-02-27T11:11:57.583735Z"
    }
   },
   "outputs": [
    {
     "data": {
      "text/plain": [
       "<FastTreeValue 0x7f8e80662700>\n",
       "├── 'a' --> tensor([[-0.3369, -0.2854,  0.6170],\n",
       "│                   [-0.4820,  1.1594, -0.4530]])\n",
       "└── 'x' --> <FastTreeValue 0x7f8e80662ca0>\n",
       "    └── 'c' --> tensor([[-1.0254, -0.4978,  0.2666, -0.7970],\n",
       "                        [ 0.7406, -1.2392, -0.6167,  0.7308],\n",
       "                        [-0.7619, -0.4397, -0.1032, -0.3533]])"
      ]
     },
     "execution_count": 3,
     "metadata": {},
     "output_type": "execute_result"
    }
   ],
   "source": [
    "t"
   ]
  },
  {
   "cell_type": "code",
   "execution_count": 4,
   "id": "fd70b0b9",
   "metadata": {
    "execution": {
     "iopub.execute_input": "2023-02-27T11:11:57.587006Z",
     "iopub.status.busy": "2023-02-27T11:11:57.586675Z",
     "iopub.status.idle": "2023-02-27T11:11:57.592182Z",
     "shell.execute_reply": "2023-02-27T11:11:57.591620Z"
    }
   },
   "outputs": [
    {
     "data": {
      "text/plain": [
       "tensor([[-0.3369, -0.2854,  0.6170],\n",
       "        [-0.4820,  1.1594, -0.4530]])"
      ]
     },
     "execution_count": 4,
     "metadata": {},
     "output_type": "execute_result"
    }
   ],
   "source": [
    "t.a"
   ]
  },
  {
   "cell_type": "code",
   "execution_count": 5,
   "id": "c18197bd",
   "metadata": {
    "execution": {
     "iopub.execute_input": "2023-02-27T11:11:57.594840Z",
     "iopub.status.busy": "2023-02-27T11:11:57.594308Z",
     "iopub.status.idle": "2023-02-27T11:12:02.751653Z",
     "shell.execute_reply": "2023-02-27T11:12:02.750930Z"
    }
   },
   "outputs": [
    {
     "name": "stdout",
     "output_type": "stream",
     "text": [
      "62.1 ns ± 0.0207 ns per loop (mean ± std. dev. of 7 runs, 10,000,000 loops each)\n"
     ]
    }
   ],
   "source": [
    "%timeit t.a"
   ]
  },
  {
   "cell_type": "code",
   "execution_count": 6,
   "id": "bd52f867",
   "metadata": {
    "execution": {
     "iopub.execute_input": "2023-02-27T11:12:02.754975Z",
     "iopub.status.busy": "2023-02-27T11:12:02.754343Z",
     "iopub.status.idle": "2023-02-27T11:12:02.760910Z",
     "shell.execute_reply": "2023-02-27T11:12:02.760343Z"
    }
   },
   "outputs": [
    {
     "data": {
      "text/plain": [
       "<FastTreeValue 0x7f8e80662700>\n",
       "├── 'a' --> tensor([[-0.3978, -0.4928, -0.0220],\n",
       "│                   [ 0.3820, -0.6545, -0.0639]])\n",
       "└── 'x' --> <FastTreeValue 0x7f8e80662ca0>\n",
       "    └── 'c' --> tensor([[-1.0254, -0.4978,  0.2666, -0.7970],\n",
       "                        [ 0.7406, -1.2392, -0.6167,  0.7308],\n",
       "                        [-0.7619, -0.4397, -0.1032, -0.3533]])"
      ]
     },
     "execution_count": 6,
     "metadata": {},
     "output_type": "execute_result"
    }
   ],
   "source": [
    "new_value = torch.randn(2, 3)\n",
    "t.a = new_value\n",
    "\n",
    "t"
   ]
  },
  {
   "cell_type": "code",
   "execution_count": 7,
   "id": "bbe04d1c",
   "metadata": {
    "execution": {
     "iopub.execute_input": "2023-02-27T11:12:02.763365Z",
     "iopub.status.busy": "2023-02-27T11:12:02.763033Z",
     "iopub.status.idle": "2023-02-27T11:12:07.657873Z",
     "shell.execute_reply": "2023-02-27T11:12:07.656905Z"
    }
   },
   "outputs": [
    {
     "name": "stdout",
     "output_type": "stream",
     "text": [
      "60.3 ns ± 0.0695 ns per loop (mean ± std. dev. of 7 runs, 10,000,000 loops each)\n"
     ]
    }
   ],
   "source": [
    "%timeit t.a = new_value"
   ]
  },
  {
   "cell_type": "markdown",
   "id": "48c49731",
   "metadata": {},
   "source": [
    "### Tianshou Batch's Get and Set"
   ]
  },
  {
   "cell_type": "code",
   "execution_count": 8,
   "id": "f1bb14c1",
   "metadata": {
    "execution": {
     "iopub.execute_input": "2023-02-27T11:12:07.661129Z",
     "iopub.status.busy": "2023-02-27T11:12:07.660634Z",
     "iopub.status.idle": "2023-02-27T11:12:07.984750Z",
     "shell.execute_reply": "2023-02-27T11:12:07.984109Z"
    }
   },
   "outputs": [],
   "source": [
    "from tianshou.data import Batch\n",
    "\n",
    "b = Batch(**_TREE_DATA_2)"
   ]
  },
  {
   "cell_type": "code",
   "execution_count": 9,
   "id": "cb0777c3",
   "metadata": {
    "execution": {
     "iopub.execute_input": "2023-02-27T11:12:07.987940Z",
     "iopub.status.busy": "2023-02-27T11:12:07.987265Z",
     "iopub.status.idle": "2023-02-27T11:12:07.993551Z",
     "shell.execute_reply": "2023-02-27T11:12:07.992947Z"
    }
   },
   "outputs": [
    {
     "data": {
      "text/plain": [
       "Batch(\n",
       "    a: tensor([[-0.3369, -0.2854,  0.6170],\n",
       "               [-0.4820,  1.1594, -0.4530]]),\n",
       "    x: Batch(\n",
       "           c: tensor([[-1.0254, -0.4978,  0.2666, -0.7970],\n",
       "                      [ 0.7406, -1.2392, -0.6167,  0.7308],\n",
       "                      [-0.7619, -0.4397, -0.1032, -0.3533]]),\n",
       "       ),\n",
       ")"
      ]
     },
     "execution_count": 9,
     "metadata": {},
     "output_type": "execute_result"
    }
   ],
   "source": [
    "b"
   ]
  },
  {
   "cell_type": "code",
   "execution_count": 10,
   "id": "43ef8ea3",
   "metadata": {
    "execution": {
     "iopub.execute_input": "2023-02-27T11:12:07.996188Z",
     "iopub.status.busy": "2023-02-27T11:12:07.995860Z",
     "iopub.status.idle": "2023-02-27T11:12:08.000374Z",
     "shell.execute_reply": "2023-02-27T11:12:07.999749Z"
    }
   },
   "outputs": [
    {
     "data": {
      "text/plain": [
       "tensor([[-0.3369, -0.2854,  0.6170],\n",
       "        [-0.4820,  1.1594, -0.4530]])"
      ]
     },
     "execution_count": 10,
     "metadata": {},
     "output_type": "execute_result"
    }
   ],
   "source": [
    "b.a"
   ]
  },
  {
   "cell_type": "code",
   "execution_count": 11,
   "id": "b785ab72",
   "metadata": {
    "execution": {
     "iopub.execute_input": "2023-02-27T11:12:08.003076Z",
     "iopub.status.busy": "2023-02-27T11:12:08.002747Z",
     "iopub.status.idle": "2023-02-27T11:12:12.485812Z",
     "shell.execute_reply": "2023-02-27T11:12:12.485096Z"
    }
   },
   "outputs": [
    {
     "name": "stdout",
     "output_type": "stream",
     "text": [
      "55.3 ns ± 0.107 ns per loop (mean ± std. dev. of 7 runs, 10,000,000 loops each)\n"
     ]
    }
   ],
   "source": [
    "%timeit b.a"
   ]
  },
  {
   "cell_type": "code",
   "execution_count": 12,
   "id": "ad54dc69",
   "metadata": {
    "execution": {
     "iopub.execute_input": "2023-02-27T11:12:12.489120Z",
     "iopub.status.busy": "2023-02-27T11:12:12.488523Z",
     "iopub.status.idle": "2023-02-27T11:12:12.495658Z",
     "shell.execute_reply": "2023-02-27T11:12:12.495076Z"
    }
   },
   "outputs": [
    {
     "data": {
      "text/plain": [
       "Batch(\n",
       "    a: tensor([[-1.2008, -0.3591, -1.0047],\n",
       "               [ 0.8309,  1.0417, -0.5664]]),\n",
       "    x: Batch(\n",
       "           c: tensor([[-1.0254, -0.4978,  0.2666, -0.7970],\n",
       "                      [ 0.7406, -1.2392, -0.6167,  0.7308],\n",
       "                      [-0.7619, -0.4397, -0.1032, -0.3533]]),\n",
       "       ),\n",
       ")"
      ]
     },
     "execution_count": 12,
     "metadata": {},
     "output_type": "execute_result"
    }
   ],
   "source": [
    "new_value = torch.randn(2, 3)\n",
    "b.a = new_value\n",
    "\n",
    "b"
   ]
  },
  {
   "cell_type": "code",
   "execution_count": 13,
   "id": "29b1d0bf",
   "metadata": {
    "execution": {
     "iopub.execute_input": "2023-02-27T11:12:12.498361Z",
     "iopub.status.busy": "2023-02-27T11:12:12.497790Z",
     "iopub.status.idle": "2023-02-27T11:12:16.413899Z",
     "shell.execute_reply": "2023-02-27T11:12:16.413173Z"
    }
   },
   "outputs": [
    {
     "name": "stdout",
     "output_type": "stream",
     "text": [
      "482 ns ± 0.154 ns per loop (mean ± std. dev. of 7 runs, 1,000,000 loops each)\n"
     ]
    }
   ],
   "source": [
    "%timeit b.a = new_value"
   ]
  },
  {
   "cell_type": "markdown",
   "id": "b61ad1d0",
   "metadata": {},
   "source": [
    "## Initialization"
   ]
  },
  {
   "cell_type": "markdown",
   "id": "d70f0d54",
   "metadata": {},
   "source": [
    "### TreeValue's Initialization"
   ]
  },
  {
   "cell_type": "code",
   "execution_count": 14,
   "id": "d32a679b",
   "metadata": {
    "execution": {
     "iopub.execute_input": "2023-02-27T11:12:16.416807Z",
     "iopub.status.busy": "2023-02-27T11:12:16.416453Z",
     "iopub.status.idle": "2023-02-27T11:12:23.163799Z",
     "shell.execute_reply": "2023-02-27T11:12:23.163095Z"
    }
   },
   "outputs": [
    {
     "name": "stdout",
     "output_type": "stream",
     "text": [
      "831 ns ± 0.109 ns per loop (mean ± std. dev. of 7 runs, 1,000,000 loops each)\n"
     ]
    }
   ],
   "source": [
    "%timeit FastTreeValue(_TREE_DATA_1)"
   ]
  },
  {
   "cell_type": "markdown",
   "id": "24f3707b",
   "metadata": {},
   "source": [
    "### Tianshou Batch's Initialization"
   ]
  },
  {
   "cell_type": "code",
   "execution_count": 15,
   "id": "ac3958df",
   "metadata": {
    "execution": {
     "iopub.execute_input": "2023-02-27T11:12:23.166749Z",
     "iopub.status.busy": "2023-02-27T11:12:23.166208Z",
     "iopub.status.idle": "2023-02-27T11:12:32.270660Z",
     "shell.execute_reply": "2023-02-27T11:12:32.269941Z"
    }
   },
   "outputs": [
    {
     "name": "stdout",
     "output_type": "stream",
     "text": [
      "11.2 µs ± 39.4 ns per loop (mean ± std. dev. of 7 runs, 100,000 loops each)\n"
     ]
    }
   ],
   "source": [
    "%timeit Batch(**_TREE_DATA_1)"
   ]
  },
  {
   "cell_type": "markdown",
   "id": "1ab82e2d",
   "metadata": {},
   "source": [
    "## Deep Copy Operation"
   ]
  },
  {
   "cell_type": "code",
   "execution_count": 16,
   "id": "210a9442",
   "metadata": {
    "execution": {
     "iopub.execute_input": "2023-02-27T11:12:32.273967Z",
     "iopub.status.busy": "2023-02-27T11:12:32.273453Z",
     "iopub.status.idle": "2023-02-27T11:12:32.277429Z",
     "shell.execute_reply": "2023-02-27T11:12:32.276815Z"
    }
   },
   "outputs": [],
   "source": [
    "import copy"
   ]
  },
  {
   "cell_type": "markdown",
   "id": "5a736274",
   "metadata": {},
   "source": [
    "### Deep Copy of TreeValue"
   ]
  },
  {
   "cell_type": "code",
   "execution_count": 17,
   "id": "f9bcadd6",
   "metadata": {
    "execution": {
     "iopub.execute_input": "2023-02-27T11:12:32.280315Z",
     "iopub.status.busy": "2023-02-27T11:12:32.279840Z",
     "iopub.status.idle": "2023-02-27T11:12:43.371070Z",
     "shell.execute_reply": "2023-02-27T11:12:43.370507Z"
    }
   },
   "outputs": [
    {
     "name": "stdout",
     "output_type": "stream",
     "text": [
      "137 µs ± 241 ns per loop (mean ± std. dev. of 7 runs, 10,000 loops each)\n"
     ]
    }
   ],
   "source": [
    "t3 = FastTreeValue(_TREE_DATA_3)\n",
    "%timeit copy.deepcopy(t3)"
   ]
  },
  {
   "cell_type": "markdown",
   "id": "bf8be7ea",
   "metadata": {},
   "source": [
    "### Deep Copy of Tianshou Batch"
   ]
  },
  {
   "cell_type": "code",
   "execution_count": 18,
   "id": "91998e6f",
   "metadata": {
    "execution": {
     "iopub.execute_input": "2023-02-27T11:12:43.374385Z",
     "iopub.status.busy": "2023-02-27T11:12:43.373752Z",
     "iopub.status.idle": "2023-02-27T11:12:54.620340Z",
     "shell.execute_reply": "2023-02-27T11:12:54.619787Z"
    }
   },
   "outputs": [
    {
     "name": "stdout",
     "output_type": "stream",
     "text": [
      "139 µs ± 355 ns per loop (mean ± std. dev. of 7 runs, 10,000 loops each)\n"
     ]
    }
   ],
   "source": [
    "b3 = Batch(**_TREE_DATA_3)\n",
    "%timeit copy.deepcopy(b3)"
   ]
  },
  {
   "cell_type": "markdown",
   "id": "223162fb",
   "metadata": {},
   "source": [
    "## Stack, Concat and Split Operation"
   ]
  },
  {
   "cell_type": "markdown",
   "id": "85fa4a73",
   "metadata": {},
   "source": [
    "### Performance of TreeValue"
   ]
  },
  {
   "cell_type": "code",
   "execution_count": 19,
   "id": "a0c2b697",
   "metadata": {
    "execution": {
     "iopub.execute_input": "2023-02-27T11:12:54.626425Z",
     "iopub.status.busy": "2023-02-27T11:12:54.625803Z",
     "iopub.status.idle": "2023-02-27T11:12:54.629132Z",
     "shell.execute_reply": "2023-02-27T11:12:54.628593Z"
    }
   },
   "outputs": [],
   "source": [
    "trees = [FastTreeValue(_TREE_DATA_2) for _ in range(8)]"
   ]
  },
  {
   "cell_type": "code",
   "execution_count": 20,
   "id": "017ea5a5",
   "metadata": {
    "execution": {
     "iopub.execute_input": "2023-02-27T11:12:54.631626Z",
     "iopub.status.busy": "2023-02-27T11:12:54.631051Z",
     "iopub.status.idle": "2023-02-27T11:12:54.637834Z",
     "shell.execute_reply": "2023-02-27T11:12:54.637329Z"
    }
   },
   "outputs": [
    {
     "data": {
      "text/plain": [
       "<FastTreeValue 0x7f8e80662670>\n",
       "├── 'a' --> tensor([[[-0.3369, -0.2854,  0.6170],\n",
       "│                    [-0.4820,  1.1594, -0.4530]],\n",
       "│           \n",
       "│                   [[-0.3369, -0.2854,  0.6170],\n",
       "│                    [-0.4820,  1.1594, -0.4530]],\n",
       "│           \n",
       "│                   [[-0.3369, -0.2854,  0.6170],\n",
       "│                    [-0.4820,  1.1594, -0.4530]],\n",
       "│           \n",
       "│                   [[-0.3369, -0.2854,  0.6170],\n",
       "│                    [-0.4820,  1.1594, -0.4530]],\n",
       "│           \n",
       "│                   [[-0.3369, -0.2854,  0.6170],\n",
       "│                    [-0.4820,  1.1594, -0.4530]],\n",
       "│           \n",
       "│                   [[-0.3369, -0.2854,  0.6170],\n",
       "│                    [-0.4820,  1.1594, -0.4530]],\n",
       "│           \n",
       "│                   [[-0.3369, -0.2854,  0.6170],\n",
       "│                    [-0.4820,  1.1594, -0.4530]],\n",
       "│           \n",
       "│                   [[-0.3369, -0.2854,  0.6170],\n",
       "│                    [-0.4820,  1.1594, -0.4530]]])\n",
       "└── 'x' --> <FastTreeValue 0x7f8e806623d0>\n",
       "    └── 'c' --> tensor([[[-1.0254, -0.4978,  0.2666, -0.7970],\n",
       "                         [ 0.7406, -1.2392, -0.6167,  0.7308],\n",
       "                         [-0.7619, -0.4397, -0.1032, -0.3533]],\n",
       "                \n",
       "                        [[-1.0254, -0.4978,  0.2666, -0.7970],\n",
       "                         [ 0.7406, -1.2392, -0.6167,  0.7308],\n",
       "                         [-0.7619, -0.4397, -0.1032, -0.3533]],\n",
       "                \n",
       "                        [[-1.0254, -0.4978,  0.2666, -0.7970],\n",
       "                         [ 0.7406, -1.2392, -0.6167,  0.7308],\n",
       "                         [-0.7619, -0.4397, -0.1032, -0.3533]],\n",
       "                \n",
       "                        [[-1.0254, -0.4978,  0.2666, -0.7970],\n",
       "                         [ 0.7406, -1.2392, -0.6167,  0.7308],\n",
       "                         [-0.7619, -0.4397, -0.1032, -0.3533]],\n",
       "                \n",
       "                        [[-1.0254, -0.4978,  0.2666, -0.7970],\n",
       "                         [ 0.7406, -1.2392, -0.6167,  0.7308],\n",
       "                         [-0.7619, -0.4397, -0.1032, -0.3533]],\n",
       "                \n",
       "                        [[-1.0254, -0.4978,  0.2666, -0.7970],\n",
       "                         [ 0.7406, -1.2392, -0.6167,  0.7308],\n",
       "                         [-0.7619, -0.4397, -0.1032, -0.3533]],\n",
       "                \n",
       "                        [[-1.0254, -0.4978,  0.2666, -0.7970],\n",
       "                         [ 0.7406, -1.2392, -0.6167,  0.7308],\n",
       "                         [-0.7619, -0.4397, -0.1032, -0.3533]],\n",
       "                \n",
       "                        [[-1.0254, -0.4978,  0.2666, -0.7970],\n",
       "                         [ 0.7406, -1.2392, -0.6167,  0.7308],\n",
       "                         [-0.7619, -0.4397, -0.1032, -0.3533]]])"
      ]
     },
     "execution_count": 20,
     "metadata": {},
     "output_type": "execute_result"
    }
   ],
   "source": [
    "t_stack = FastTreeValue.func(subside=True)(torch.stack)\n",
    "\n",
    "t_stack(trees)"
   ]
  },
  {
   "cell_type": "code",
   "execution_count": 21,
   "id": "f8b3f415",
   "metadata": {
    "execution": {
     "iopub.execute_input": "2023-02-27T11:12:54.640272Z",
     "iopub.status.busy": "2023-02-27T11:12:54.639715Z",
     "iopub.status.idle": "2023-02-27T11:12:57.229307Z",
     "shell.execute_reply": "2023-02-27T11:12:57.228595Z"
    }
   },
   "outputs": [
    {
     "name": "stdout",
     "output_type": "stream",
     "text": [
      "31.9 µs ± 54.9 ns per loop (mean ± std. dev. of 7 runs, 10,000 loops each)\n"
     ]
    }
   ],
   "source": [
    "%timeit t_stack(trees)"
   ]
  },
  {
   "cell_type": "code",
   "execution_count": 22,
   "id": "94b56771",
   "metadata": {
    "execution": {
     "iopub.execute_input": "2023-02-27T11:12:57.232245Z",
     "iopub.status.busy": "2023-02-27T11:12:57.231699Z",
     "iopub.status.idle": "2023-02-27T11:12:57.239370Z",
     "shell.execute_reply": "2023-02-27T11:12:57.238770Z"
    }
   },
   "outputs": [
    {
     "data": {
      "text/plain": [
       "<FastTreeValue 0x7f8e806550a0>\n",
       "├── 'a' --> tensor([[-0.3369, -0.2854,  0.6170],\n",
       "│                   [-0.4820,  1.1594, -0.4530],\n",
       "│                   [-0.3369, -0.2854,  0.6170],\n",
       "│                   [-0.4820,  1.1594, -0.4530],\n",
       "│                   [-0.3369, -0.2854,  0.6170],\n",
       "│                   [-0.4820,  1.1594, -0.4530],\n",
       "│                   [-0.3369, -0.2854,  0.6170],\n",
       "│                   [-0.4820,  1.1594, -0.4530],\n",
       "│                   [-0.3369, -0.2854,  0.6170],\n",
       "│                   [-0.4820,  1.1594, -0.4530],\n",
       "│                   [-0.3369, -0.2854,  0.6170],\n",
       "│                   [-0.4820,  1.1594, -0.4530],\n",
       "│                   [-0.3369, -0.2854,  0.6170],\n",
       "│                   [-0.4820,  1.1594, -0.4530],\n",
       "│                   [-0.3369, -0.2854,  0.6170],\n",
       "│                   [-0.4820,  1.1594, -0.4530]])\n",
       "└── 'x' --> <FastTreeValue 0x7f8e806bbd60>\n",
       "    └── 'c' --> tensor([[-1.0254, -0.4978,  0.2666, -0.7970],\n",
       "                        [ 0.7406, -1.2392, -0.6167,  0.7308],\n",
       "                        [-0.7619, -0.4397, -0.1032, -0.3533],\n",
       "                        [-1.0254, -0.4978,  0.2666, -0.7970],\n",
       "                        [ 0.7406, -1.2392, -0.6167,  0.7308],\n",
       "                        [-0.7619, -0.4397, -0.1032, -0.3533],\n",
       "                        [-1.0254, -0.4978,  0.2666, -0.7970],\n",
       "                        [ 0.7406, -1.2392, -0.6167,  0.7308],\n",
       "                        [-0.7619, -0.4397, -0.1032, -0.3533],\n",
       "                        [-1.0254, -0.4978,  0.2666, -0.7970],\n",
       "                        [ 0.7406, -1.2392, -0.6167,  0.7308],\n",
       "                        [-0.7619, -0.4397, -0.1032, -0.3533],\n",
       "                        [-1.0254, -0.4978,  0.2666, -0.7970],\n",
       "                        [ 0.7406, -1.2392, -0.6167,  0.7308],\n",
       "                        [-0.7619, -0.4397, -0.1032, -0.3533],\n",
       "                        [-1.0254, -0.4978,  0.2666, -0.7970],\n",
       "                        [ 0.7406, -1.2392, -0.6167,  0.7308],\n",
       "                        [-0.7619, -0.4397, -0.1032, -0.3533],\n",
       "                        [-1.0254, -0.4978,  0.2666, -0.7970],\n",
       "                        [ 0.7406, -1.2392, -0.6167,  0.7308],\n",
       "                        [-0.7619, -0.4397, -0.1032, -0.3533],\n",
       "                        [-1.0254, -0.4978,  0.2666, -0.7970],\n",
       "                        [ 0.7406, -1.2392, -0.6167,  0.7308],\n",
       "                        [-0.7619, -0.4397, -0.1032, -0.3533]])"
      ]
     },
     "execution_count": 22,
     "metadata": {},
     "output_type": "execute_result"
    }
   ],
   "source": [
    "t_cat = FastTreeValue.func(subside=True)(torch.cat)\n",
    "\n",
    "t_cat(trees)"
   ]
  },
  {
   "cell_type": "code",
   "execution_count": 23,
   "id": "5e9c06a6",
   "metadata": {
    "execution": {
     "iopub.execute_input": "2023-02-27T11:12:57.241723Z",
     "iopub.status.busy": "2023-02-27T11:12:57.241510Z",
     "iopub.status.idle": "2023-02-27T11:12:59.706384Z",
     "shell.execute_reply": "2023-02-27T11:12:59.705665Z"
    }
   },
   "outputs": [
    {
     "name": "stdout",
     "output_type": "stream",
     "text": [
      "30.3 µs ± 51.4 ns per loop (mean ± std. dev. of 7 runs, 10,000 loops each)\n"
     ]
    }
   ],
   "source": [
    "%timeit t_cat(trees)"
   ]
  },
  {
   "cell_type": "code",
   "execution_count": 24,
   "id": "a3ab5c8f",
   "metadata": {
    "execution": {
     "iopub.execute_input": "2023-02-27T11:12:59.709598Z",
     "iopub.status.busy": "2023-02-27T11:12:59.709090Z",
     "iopub.status.idle": "2023-02-27T11:13:04.501159Z",
     "shell.execute_reply": "2023-02-27T11:13:04.500408Z"
    }
   },
   "outputs": [
    {
     "name": "stdout",
     "output_type": "stream",
     "text": [
      "59 µs ± 39.9 ns per loop (mean ± std. dev. of 7 runs, 10,000 loops each)\n"
     ]
    }
   ],
   "source": [
    "t_split = FastTreeValue.func(rise=True)(torch.split)\n",
    "tree = FastTreeValue({\n",
    "    'obs': torch.randn(8, 4, 84, 84),\n",
    "    'action': torch.randint(0, 6, size=(8, 1,)),\n",
    "    'reward': torch.rand(8, 1),\n",
    "})\n",
    "\n",
    "%timeit t_split(tree, 1)"
   ]
  },
  {
   "cell_type": "markdown",
   "id": "31c3ec0b",
   "metadata": {},
   "source": [
    "### Performance of Tianshou Batch"
   ]
  },
  {
   "cell_type": "code",
   "execution_count": 25,
   "id": "9ead828a",
   "metadata": {
    "execution": {
     "iopub.execute_input": "2023-02-27T11:13:04.504281Z",
     "iopub.status.busy": "2023-02-27T11:13:04.503922Z",
     "iopub.status.idle": "2023-02-27T11:13:04.511786Z",
     "shell.execute_reply": "2023-02-27T11:13:04.511206Z"
    }
   },
   "outputs": [
    {
     "data": {
      "text/plain": [
       "Batch(\n",
       "    a: tensor([[[-0.3369, -0.2854,  0.6170],\n",
       "                [-0.4820,  1.1594, -0.4530]],\n",
       "       \n",
       "               [[-0.3369, -0.2854,  0.6170],\n",
       "                [-0.4820,  1.1594, -0.4530]],\n",
       "       \n",
       "               [[-0.3369, -0.2854,  0.6170],\n",
       "                [-0.4820,  1.1594, -0.4530]],\n",
       "       \n",
       "               [[-0.3369, -0.2854,  0.6170],\n",
       "                [-0.4820,  1.1594, -0.4530]],\n",
       "       \n",
       "               [[-0.3369, -0.2854,  0.6170],\n",
       "                [-0.4820,  1.1594, -0.4530]],\n",
       "       \n",
       "               [[-0.3369, -0.2854,  0.6170],\n",
       "                [-0.4820,  1.1594, -0.4530]],\n",
       "       \n",
       "               [[-0.3369, -0.2854,  0.6170],\n",
       "                [-0.4820,  1.1594, -0.4530]],\n",
       "       \n",
       "               [[-0.3369, -0.2854,  0.6170],\n",
       "                [-0.4820,  1.1594, -0.4530]]]),\n",
       "    x: Batch(\n",
       "           c: tensor([[[-1.0254, -0.4978,  0.2666, -0.7970],\n",
       "                       [ 0.7406, -1.2392, -0.6167,  0.7308],\n",
       "                       [-0.7619, -0.4397, -0.1032, -0.3533]],\n",
       "              \n",
       "                      [[-1.0254, -0.4978,  0.2666, -0.7970],\n",
       "                       [ 0.7406, -1.2392, -0.6167,  0.7308],\n",
       "                       [-0.7619, -0.4397, -0.1032, -0.3533]],\n",
       "              \n",
       "                      [[-1.0254, -0.4978,  0.2666, -0.7970],\n",
       "                       [ 0.7406, -1.2392, -0.6167,  0.7308],\n",
       "                       [-0.7619, -0.4397, -0.1032, -0.3533]],\n",
       "              \n",
       "                      [[-1.0254, -0.4978,  0.2666, -0.7970],\n",
       "                       [ 0.7406, -1.2392, -0.6167,  0.7308],\n",
       "                       [-0.7619, -0.4397, -0.1032, -0.3533]],\n",
       "              \n",
       "                      [[-1.0254, -0.4978,  0.2666, -0.7970],\n",
       "                       [ 0.7406, -1.2392, -0.6167,  0.7308],\n",
       "                       [-0.7619, -0.4397, -0.1032, -0.3533]],\n",
       "              \n",
       "                      [[-1.0254, -0.4978,  0.2666, -0.7970],\n",
       "                       [ 0.7406, -1.2392, -0.6167,  0.7308],\n",
       "                       [-0.7619, -0.4397, -0.1032, -0.3533]],\n",
       "              \n",
       "                      [[-1.0254, -0.4978,  0.2666, -0.7970],\n",
       "                       [ 0.7406, -1.2392, -0.6167,  0.7308],\n",
       "                       [-0.7619, -0.4397, -0.1032, -0.3533]],\n",
       "              \n",
       "                      [[-1.0254, -0.4978,  0.2666, -0.7970],\n",
       "                       [ 0.7406, -1.2392, -0.6167,  0.7308],\n",
       "                       [-0.7619, -0.4397, -0.1032, -0.3533]]]),\n",
       "       ),\n",
       ")"
      ]
     },
     "execution_count": 25,
     "metadata": {},
     "output_type": "execute_result"
    }
   ],
   "source": [
    "batches = [Batch(**_TREE_DATA_2) for _ in range(8)]\n",
    "\n",
    "Batch.stack(batches)"
   ]
  },
  {
   "cell_type": "code",
   "execution_count": 26,
   "id": "ec9037a3",
   "metadata": {
    "execution": {
     "iopub.execute_input": "2023-02-27T11:13:04.514392Z",
     "iopub.status.busy": "2023-02-27T11:13:04.513825Z",
     "iopub.status.idle": "2023-02-27T11:13:10.904816Z",
     "shell.execute_reply": "2023-02-27T11:13:10.904071Z"
    }
   },
   "outputs": [
    {
     "name": "stdout",
     "output_type": "stream",
     "text": [
      "78.6 µs ± 158 ns per loop (mean ± std. dev. of 7 runs, 10,000 loops each)\n"
     ]
    }
   ],
   "source": [
    "%timeit Batch.stack(batches)"
   ]
  },
  {
   "cell_type": "code",
   "execution_count": 27,
   "id": "cb8ab77e",
   "metadata": {
    "execution": {
     "iopub.execute_input": "2023-02-27T11:13:10.907860Z",
     "iopub.status.busy": "2023-02-27T11:13:10.907509Z",
     "iopub.status.idle": "2023-02-27T11:13:10.915065Z",
     "shell.execute_reply": "2023-02-27T11:13:10.914490Z"
    }
   },
   "outputs": [
    {
     "data": {
      "text/plain": [
       "Batch(\n",
       "    a: tensor([[-0.3369, -0.2854,  0.6170],\n",
       "               [-0.4820,  1.1594, -0.4530],\n",
       "               [-0.3369, -0.2854,  0.6170],\n",
       "               [-0.4820,  1.1594, -0.4530],\n",
       "               [-0.3369, -0.2854,  0.6170],\n",
       "               [-0.4820,  1.1594, -0.4530],\n",
       "               [-0.3369, -0.2854,  0.6170],\n",
       "               [-0.4820,  1.1594, -0.4530],\n",
       "               [-0.3369, -0.2854,  0.6170],\n",
       "               [-0.4820,  1.1594, -0.4530],\n",
       "               [-0.3369, -0.2854,  0.6170],\n",
       "               [-0.4820,  1.1594, -0.4530],\n",
       "               [-0.3369, -0.2854,  0.6170],\n",
       "               [-0.4820,  1.1594, -0.4530],\n",
       "               [-0.3369, -0.2854,  0.6170],\n",
       "               [-0.4820,  1.1594, -0.4530]]),\n",
       "    x: Batch(\n",
       "           c: tensor([[-1.0254, -0.4978,  0.2666, -0.7970],\n",
       "                      [ 0.7406, -1.2392, -0.6167,  0.7308],\n",
       "                      [-0.7619, -0.4397, -0.1032, -0.3533],\n",
       "                      [-1.0254, -0.4978,  0.2666, -0.7970],\n",
       "                      [ 0.7406, -1.2392, -0.6167,  0.7308],\n",
       "                      [-0.7619, -0.4397, -0.1032, -0.3533],\n",
       "                      [-1.0254, -0.4978,  0.2666, -0.7970],\n",
       "                      [ 0.7406, -1.2392, -0.6167,  0.7308],\n",
       "                      [-0.7619, -0.4397, -0.1032, -0.3533],\n",
       "                      [-1.0254, -0.4978,  0.2666, -0.7970],\n",
       "                      [ 0.7406, -1.2392, -0.6167,  0.7308],\n",
       "                      [-0.7619, -0.4397, -0.1032, -0.3533],\n",
       "                      [-1.0254, -0.4978,  0.2666, -0.7970],\n",
       "                      [ 0.7406, -1.2392, -0.6167,  0.7308],\n",
       "                      [-0.7619, -0.4397, -0.1032, -0.3533],\n",
       "                      [-1.0254, -0.4978,  0.2666, -0.7970],\n",
       "                      [ 0.7406, -1.2392, -0.6167,  0.7308],\n",
       "                      [-0.7619, -0.4397, -0.1032, -0.3533],\n",
       "                      [-1.0254, -0.4978,  0.2666, -0.7970],\n",
       "                      [ 0.7406, -1.2392, -0.6167,  0.7308],\n",
       "                      [-0.7619, -0.4397, -0.1032, -0.3533],\n",
       "                      [-1.0254, -0.4978,  0.2666, -0.7970],\n",
       "                      [ 0.7406, -1.2392, -0.6167,  0.7308],\n",
       "                      [-0.7619, -0.4397, -0.1032, -0.3533]]),\n",
       "       ),\n",
       ")"
      ]
     },
     "execution_count": 27,
     "metadata": {},
     "output_type": "execute_result"
    }
   ],
   "source": [
    "Batch.cat(batches)"
   ]
  },
  {
   "cell_type": "code",
   "execution_count": 28,
   "id": "18dfb045",
   "metadata": {
    "execution": {
     "iopub.execute_input": "2023-02-27T11:13:10.917711Z",
     "iopub.status.busy": "2023-02-27T11:13:10.917385Z",
     "iopub.status.idle": "2023-02-27T11:13:22.689648Z",
     "shell.execute_reply": "2023-02-27T11:13:22.688354Z"
    }
   },
   "outputs": [
    {
     "name": "stdout",
     "output_type": "stream",
     "text": [
      "145 µs ± 625 ns per loop (mean ± std. dev. of 7 runs, 10,000 loops each)\n"
     ]
    }
   ],
   "source": [
    "%timeit Batch.cat(batches)"
   ]
  },
  {
   "cell_type": "code",
   "execution_count": 29,
   "id": "c6688e51",
   "metadata": {
    "execution": {
     "iopub.execute_input": "2023-02-27T11:13:22.692624Z",
     "iopub.status.busy": "2023-02-27T11:13:22.691997Z",
     "iopub.status.idle": "2023-02-27T11:13:25.170803Z",
     "shell.execute_reply": "2023-02-27T11:13:25.170124Z"
    }
   },
   "outputs": [
    {
     "name": "stdout",
     "output_type": "stream",
     "text": [
      "304 µs ± 641 ns per loop (mean ± std. dev. of 7 runs, 1,000 loops each)\n"
     ]
    }
   ],
   "source": [
    "batch = Batch({\n",
    "    'obs': torch.randn(8, 4, 84, 84),\n",
    "    'action': torch.randint(0, 6, size=(8, 1,)),\n",
    "    'reward': torch.rand(8, 1)}\n",
    ")\n",
    "\n",
    "%timeit list(Batch.split(batch, 1, shuffle=False, merge_last=True))"
   ]
  },
  {
   "cell_type": "code",
   "execution_count": null,
   "id": "2539fbd9",
   "metadata": {},
   "outputs": [],
   "source": []
  }
 ],
 "metadata": {
  "kernelspec": {
   "display_name": "Python 3 (ipykernel)",
   "language": "python",
   "name": "python3"
  },
  "language_info": {
   "codemirror_mode": {
    "name": "ipython",
    "version": 3
   },
   "file_extension": ".py",
   "mimetype": "text/x-python",
   "name": "python",
   "nbconvert_exporter": "python",
   "pygments_lexer": "ipython3",
   "version": "3.8.16"
  }
 },
 "nbformat": 4,
 "nbformat_minor": 5
}
