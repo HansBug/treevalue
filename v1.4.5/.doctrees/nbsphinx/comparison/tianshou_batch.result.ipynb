{
 "cells": [
  {
   "cell_type": "markdown",
   "id": "9d39d946",
   "metadata": {},
   "source": [
    "# Comparison Between TreeValue and Tianshou Batch"
   ]
  },
  {
   "cell_type": "markdown",
   "id": "3c6db2d4",
   "metadata": {},
   "source": [
    "In this section, we will take a look at the feature and performance of the [Tianshou Batch](https://github.com/thu-ml/tianshou) library, which is developed by Tsinghua Machine Learning Group."
   ]
  },
  {
   "cell_type": "markdown",
   "id": "069361b0",
   "metadata": {},
   "source": [
    "Before starting the comparison, let us define some thing."
   ]
  },
  {
   "cell_type": "code",
   "execution_count": 1,
   "id": "06fc8d26",
   "metadata": {
    "execution": {
     "iopub.execute_input": "2023-02-27T12:04:06.643171Z",
     "iopub.status.busy": "2023-02-27T12:04:06.642608Z",
     "iopub.status.idle": "2023-02-27T12:04:07.684656Z",
     "shell.execute_reply": "2023-02-27T12:04:07.683856Z"
    }
   },
   "outputs": [
    {
     "name": "stderr",
     "output_type": "stream",
     "text": [
      "/opt/hostedtoolcache/Python/3.8.16/x64/lib/python3.8/site-packages/tqdm/auto.py:22: TqdmWarning: IProgress not found. Please update jupyter and ipywidgets. See https://ipywidgets.readthedocs.io/en/stable/user_install.html\n",
      "  from .autonotebook import tqdm as notebook_tqdm\n"
     ]
    }
   ],
   "source": [
    "import torch \n",
    "\n",
    "_TREE_DATA_1 = {'a': 1, 'b': 2, 'x': {'c': 3, 'd': 4}}\n",
    "_TREE_DATA_2 = {\n",
    "    'a': torch.randn(2, 3), \n",
    "    'x': {\n",
    "        'c': torch.randn(3, 4)\n",
    "    },\n",
    "}\n",
    "_TREE_DATA_3 = {\n",
    "    'obs': torch.randn(4, 84, 84),\n",
    "    'action': torch.randint(0, 6, size=(1,)),\n",
    "    'reward': torch.rand(1),\n",
    "}"
   ]
  },
  {
   "cell_type": "markdown",
   "id": "83461b25",
   "metadata": {},
   "source": [
    "## Read and Write Operation"
   ]
  },
  {
   "cell_type": "markdown",
   "id": "067b3f73",
   "metadata": {},
   "source": [
    "Reading and writing are the two most common operations in the tree data structure based on the data model (TreeValue and Tianshou Batch both belong to this type), so this section will compare the reading and writing performance of these two libraries."
   ]
  },
  {
   "cell_type": "markdown",
   "id": "5d09a5b7",
   "metadata": {},
   "source": [
    "### TreeValue's Get and Set"
   ]
  },
  {
   "cell_type": "code",
   "execution_count": 2,
   "id": "9519c4bb",
   "metadata": {
    "execution": {
     "iopub.execute_input": "2023-02-27T12:04:07.689038Z",
     "iopub.status.busy": "2023-02-27T12:04:07.688414Z",
     "iopub.status.idle": "2023-02-27T12:04:07.725053Z",
     "shell.execute_reply": "2023-02-27T12:04:07.724292Z"
    }
   },
   "outputs": [],
   "source": [
    "from treevalue import FastTreeValue\n",
    "\n",
    "t = FastTreeValue(_TREE_DATA_2)"
   ]
  },
  {
   "cell_type": "code",
   "execution_count": 3,
   "id": "11c37677",
   "metadata": {
    "execution": {
     "iopub.execute_input": "2023-02-27T12:04:07.728935Z",
     "iopub.status.busy": "2023-02-27T12:04:07.728446Z",
     "iopub.status.idle": "2023-02-27T12:04:07.738561Z",
     "shell.execute_reply": "2023-02-27T12:04:07.737915Z"
    }
   },
   "outputs": [
    {
     "data": {
      "text/plain": [
       "<FastTreeValue 0x7fdccc49fbb0>\n",
       "├── 'a' --> tensor([[-0.4667, -0.4830, -0.0972],\n",
       "│                   [ 0.7158, -1.7944,  1.3706]])\n",
       "└── 'x' --> <FastTreeValue 0x7fdccc492370>\n",
       "    └── 'c' --> tensor([[ 0.6759, -0.4700, -0.1132, -1.5012],\n",
       "                        [-0.4585,  1.8002, -0.2085, -0.2673],\n",
       "                        [-1.1971, -1.4469,  1.7908, -0.1042]])"
      ]
     },
     "execution_count": 3,
     "metadata": {},
     "output_type": "execute_result"
    }
   ],
   "source": [
    "t"
   ]
  },
  {
   "cell_type": "code",
   "execution_count": 4,
   "id": "fd70b0b9",
   "metadata": {
    "execution": {
     "iopub.execute_input": "2023-02-27T12:04:07.741485Z",
     "iopub.status.busy": "2023-02-27T12:04:07.741025Z",
     "iopub.status.idle": "2023-02-27T12:04:07.746301Z",
     "shell.execute_reply": "2023-02-27T12:04:07.745596Z"
    }
   },
   "outputs": [
    {
     "data": {
      "text/plain": [
       "tensor([[-0.4667, -0.4830, -0.0972],\n",
       "        [ 0.7158, -1.7944,  1.3706]])"
      ]
     },
     "execution_count": 4,
     "metadata": {},
     "output_type": "execute_result"
    }
   ],
   "source": [
    "t.a"
   ]
  },
  {
   "cell_type": "code",
   "execution_count": 5,
   "id": "c18197bd",
   "metadata": {
    "execution": {
     "iopub.execute_input": "2023-02-27T12:04:07.749456Z",
     "iopub.status.busy": "2023-02-27T12:04:07.748896Z",
     "iopub.status.idle": "2023-02-27T12:04:12.931090Z",
     "shell.execute_reply": "2023-02-27T12:04:12.930142Z"
    }
   },
   "outputs": [
    {
     "name": "stdout",
     "output_type": "stream",
     "text": [
      "63.8 ns ± 0.0398 ns per loop (mean ± std. dev. of 7 runs, 10,000,000 loops each)\n"
     ]
    }
   ],
   "source": [
    "%timeit t.a"
   ]
  },
  {
   "cell_type": "code",
   "execution_count": 6,
   "id": "bd52f867",
   "metadata": {
    "execution": {
     "iopub.execute_input": "2023-02-27T12:04:12.934822Z",
     "iopub.status.busy": "2023-02-27T12:04:12.934301Z",
     "iopub.status.idle": "2023-02-27T12:04:12.941521Z",
     "shell.execute_reply": "2023-02-27T12:04:12.940860Z"
    }
   },
   "outputs": [
    {
     "data": {
      "text/plain": [
       "<FastTreeValue 0x7fdccc49fbb0>\n",
       "├── 'a' --> tensor([[0.2326, 0.3944, 1.0796],\n",
       "│                   [1.6243, 1.0636, 0.7587]])\n",
       "└── 'x' --> <FastTreeValue 0x7fdccc492370>\n",
       "    └── 'c' --> tensor([[ 0.6759, -0.4700, -0.1132, -1.5012],\n",
       "                        [-0.4585,  1.8002, -0.2085, -0.2673],\n",
       "                        [-1.1971, -1.4469,  1.7908, -0.1042]])"
      ]
     },
     "execution_count": 6,
     "metadata": {},
     "output_type": "execute_result"
    }
   ],
   "source": [
    "new_value = torch.randn(2, 3)\n",
    "t.a = new_value\n",
    "\n",
    "t"
   ]
  },
  {
   "cell_type": "code",
   "execution_count": 7,
   "id": "bbe04d1c",
   "metadata": {
    "execution": {
     "iopub.execute_input": "2023-02-27T12:04:12.944668Z",
     "iopub.status.busy": "2023-02-27T12:04:12.944088Z",
     "iopub.status.idle": "2023-02-27T12:04:18.510068Z",
     "shell.execute_reply": "2023-02-27T12:04:18.509208Z"
    }
   },
   "outputs": [
    {
     "name": "stdout",
     "output_type": "stream",
     "text": [
      "68.5 ns ± 0.0827 ns per loop (mean ± std. dev. of 7 runs, 10,000,000 loops each)\n"
     ]
    }
   ],
   "source": [
    "%timeit t.a = new_value"
   ]
  },
  {
   "cell_type": "markdown",
   "id": "48c49731",
   "metadata": {},
   "source": [
    "### Tianshou Batch's Get and Set"
   ]
  },
  {
   "cell_type": "code",
   "execution_count": 8,
   "id": "f1bb14c1",
   "metadata": {
    "execution": {
     "iopub.execute_input": "2023-02-27T12:04:18.513773Z",
     "iopub.status.busy": "2023-02-27T12:04:18.513266Z",
     "iopub.status.idle": "2023-02-27T12:04:18.897700Z",
     "shell.execute_reply": "2023-02-27T12:04:18.896901Z"
    }
   },
   "outputs": [],
   "source": [
    "from tianshou.data import Batch\n",
    "\n",
    "b = Batch(**_TREE_DATA_2)"
   ]
  },
  {
   "cell_type": "code",
   "execution_count": 9,
   "id": "cb0777c3",
   "metadata": {
    "execution": {
     "iopub.execute_input": "2023-02-27T12:04:18.901894Z",
     "iopub.status.busy": "2023-02-27T12:04:18.901200Z",
     "iopub.status.idle": "2023-02-27T12:04:18.907596Z",
     "shell.execute_reply": "2023-02-27T12:04:18.906882Z"
    }
   },
   "outputs": [
    {
     "data": {
      "text/plain": [
       "Batch(\n",
       "    a: tensor([[-0.4667, -0.4830, -0.0972],\n",
       "               [ 0.7158, -1.7944,  1.3706]]),\n",
       "    x: Batch(\n",
       "           c: tensor([[ 0.6759, -0.4700, -0.1132, -1.5012],\n",
       "                      [-0.4585,  1.8002, -0.2085, -0.2673],\n",
       "                      [-1.1971, -1.4469,  1.7908, -0.1042]]),\n",
       "       ),\n",
       ")"
      ]
     },
     "execution_count": 9,
     "metadata": {},
     "output_type": "execute_result"
    }
   ],
   "source": [
    "b"
   ]
  },
  {
   "cell_type": "code",
   "execution_count": 10,
   "id": "43ef8ea3",
   "metadata": {
    "execution": {
     "iopub.execute_input": "2023-02-27T12:04:18.910491Z",
     "iopub.status.busy": "2023-02-27T12:04:18.910013Z",
     "iopub.status.idle": "2023-02-27T12:04:18.915129Z",
     "shell.execute_reply": "2023-02-27T12:04:18.914426Z"
    }
   },
   "outputs": [
    {
     "data": {
      "text/plain": [
       "tensor([[-0.4667, -0.4830, -0.0972],\n",
       "        [ 0.7158, -1.7944,  1.3706]])"
      ]
     },
     "execution_count": 10,
     "metadata": {},
     "output_type": "execute_result"
    }
   ],
   "source": [
    "b.a"
   ]
  },
  {
   "cell_type": "code",
   "execution_count": 11,
   "id": "b785ab72",
   "metadata": {
    "execution": {
     "iopub.execute_input": "2023-02-27T12:04:18.918008Z",
     "iopub.status.busy": "2023-02-27T12:04:18.917444Z",
     "iopub.status.idle": "2023-02-27T12:04:23.799607Z",
     "shell.execute_reply": "2023-02-27T12:04:23.798701Z"
    }
   },
   "outputs": [
    {
     "name": "stdout",
     "output_type": "stream",
     "text": [
      "59.8 ns ± 0.0309 ns per loop (mean ± std. dev. of 7 runs, 10,000,000 loops each)\n"
     ]
    }
   ],
   "source": [
    "%timeit b.a"
   ]
  },
  {
   "cell_type": "code",
   "execution_count": 12,
   "id": "ad54dc69",
   "metadata": {
    "execution": {
     "iopub.execute_input": "2023-02-27T12:04:23.803186Z",
     "iopub.status.busy": "2023-02-27T12:04:23.802520Z",
     "iopub.status.idle": "2023-02-27T12:04:23.808842Z",
     "shell.execute_reply": "2023-02-27T12:04:23.808164Z"
    }
   },
   "outputs": [
    {
     "data": {
      "text/plain": [
       "Batch(\n",
       "    a: tensor([[-0.0485,  0.1640, -1.2017],\n",
       "               [ 0.0734, -0.9911, -0.2694]]),\n",
       "    x: Batch(\n",
       "           c: tensor([[ 0.6759, -0.4700, -0.1132, -1.5012],\n",
       "                      [-0.4585,  1.8002, -0.2085, -0.2673],\n",
       "                      [-1.1971, -1.4469,  1.7908, -0.1042]]),\n",
       "       ),\n",
       ")"
      ]
     },
     "execution_count": 12,
     "metadata": {},
     "output_type": "execute_result"
    }
   ],
   "source": [
    "new_value = torch.randn(2, 3)\n",
    "b.a = new_value\n",
    "\n",
    "b"
   ]
  },
  {
   "cell_type": "code",
   "execution_count": 13,
   "id": "29b1d0bf",
   "metadata": {
    "execution": {
     "iopub.execute_input": "2023-02-27T12:04:23.811615Z",
     "iopub.status.busy": "2023-02-27T12:04:23.811170Z",
     "iopub.status.idle": "2023-02-27T12:04:27.867114Z",
     "shell.execute_reply": "2023-02-27T12:04:27.866208Z"
    }
   },
   "outputs": [
    {
     "name": "stdout",
     "output_type": "stream",
     "text": [
      "500 ns ± 0.182 ns per loop (mean ± std. dev. of 7 runs, 1,000,000 loops each)\n"
     ]
    }
   ],
   "source": [
    "%timeit b.a = new_value"
   ]
  },
  {
   "cell_type": "markdown",
   "id": "b61ad1d0",
   "metadata": {},
   "source": [
    "## Initialization"
   ]
  },
  {
   "cell_type": "markdown",
   "id": "d70f0d54",
   "metadata": {},
   "source": [
    "### TreeValue's Initialization"
   ]
  },
  {
   "cell_type": "code",
   "execution_count": 14,
   "id": "d32a679b",
   "metadata": {
    "execution": {
     "iopub.execute_input": "2023-02-27T12:04:27.870906Z",
     "iopub.status.busy": "2023-02-27T12:04:27.870427Z",
     "iopub.status.idle": "2023-02-27T12:04:34.422705Z",
     "shell.execute_reply": "2023-02-27T12:04:34.422007Z"
    }
   },
   "outputs": [
    {
     "name": "stdout",
     "output_type": "stream",
     "text": [
      "806 ns ± 0.845 ns per loop (mean ± std. dev. of 7 runs, 1,000,000 loops each)\n"
     ]
    }
   ],
   "source": [
    "%timeit FastTreeValue(_TREE_DATA_1)"
   ]
  },
  {
   "cell_type": "markdown",
   "id": "24f3707b",
   "metadata": {},
   "source": [
    "### Tianshou Batch's Initialization"
   ]
  },
  {
   "cell_type": "code",
   "execution_count": 15,
   "id": "ac3958df",
   "metadata": {
    "execution": {
     "iopub.execute_input": "2023-02-27T12:04:34.426393Z",
     "iopub.status.busy": "2023-02-27T12:04:34.425991Z",
     "iopub.status.idle": "2023-02-27T12:04:43.197514Z",
     "shell.execute_reply": "2023-02-27T12:04:43.196621Z"
    }
   },
   "outputs": [
    {
     "name": "stdout",
     "output_type": "stream",
     "text": [
      "10.8 µs ± 17.3 ns per loop (mean ± std. dev. of 7 runs, 100,000 loops each)\n"
     ]
    }
   ],
   "source": [
    "%timeit Batch(**_TREE_DATA_1)"
   ]
  },
  {
   "cell_type": "markdown",
   "id": "1ab82e2d",
   "metadata": {},
   "source": [
    "## Deep Copy Operation"
   ]
  },
  {
   "cell_type": "code",
   "execution_count": 16,
   "id": "210a9442",
   "metadata": {
    "execution": {
     "iopub.execute_input": "2023-02-27T12:04:43.200855Z",
     "iopub.status.busy": "2023-02-27T12:04:43.200360Z",
     "iopub.status.idle": "2023-02-27T12:04:43.204651Z",
     "shell.execute_reply": "2023-02-27T12:04:43.204011Z"
    }
   },
   "outputs": [],
   "source": [
    "import copy"
   ]
  },
  {
   "cell_type": "markdown",
   "id": "5a736274",
   "metadata": {},
   "source": [
    "### Deep Copy of TreeValue"
   ]
  },
  {
   "cell_type": "code",
   "execution_count": 17,
   "id": "f9bcadd6",
   "metadata": {
    "execution": {
     "iopub.execute_input": "2023-02-27T12:04:43.207873Z",
     "iopub.status.busy": "2023-02-27T12:04:43.207244Z",
     "iopub.status.idle": "2023-02-27T12:04:55.033929Z",
     "shell.execute_reply": "2023-02-27T12:04:55.033268Z"
    }
   },
   "outputs": [
    {
     "name": "stdout",
     "output_type": "stream",
     "text": [
      "146 µs ± 809 ns per loop (mean ± std. dev. of 7 runs, 10,000 loops each)\n"
     ]
    }
   ],
   "source": [
    "t3 = FastTreeValue(_TREE_DATA_3)\n",
    "%timeit copy.deepcopy(t3)"
   ]
  },
  {
   "cell_type": "markdown",
   "id": "bf8be7ea",
   "metadata": {},
   "source": [
    "### Deep Copy of Tianshou Batch"
   ]
  },
  {
   "cell_type": "code",
   "execution_count": 18,
   "id": "91998e6f",
   "metadata": {
    "execution": {
     "iopub.execute_input": "2023-02-27T12:04:55.037038Z",
     "iopub.status.busy": "2023-02-27T12:04:55.036509Z",
     "iopub.status.idle": "2023-02-27T12:05:06.975936Z",
     "shell.execute_reply": "2023-02-27T12:05:06.975097Z"
    }
   },
   "outputs": [
    {
     "name": "stdout",
     "output_type": "stream",
     "text": [
      "147 µs ± 2.33 µs per loop (mean ± std. dev. of 7 runs, 10,000 loops each)\n"
     ]
    }
   ],
   "source": [
    "b3 = Batch(**_TREE_DATA_3)\n",
    "%timeit copy.deepcopy(b3)"
   ]
  },
  {
   "cell_type": "markdown",
   "id": "223162fb",
   "metadata": {},
   "source": [
    "## Stack, Concat and Split Operation"
   ]
  },
  {
   "cell_type": "markdown",
   "id": "85fa4a73",
   "metadata": {},
   "source": [
    "### Performance of TreeValue"
   ]
  },
  {
   "cell_type": "code",
   "execution_count": 19,
   "id": "a0c2b697",
   "metadata": {
    "execution": {
     "iopub.execute_input": "2023-02-27T12:05:06.979885Z",
     "iopub.status.busy": "2023-02-27T12:05:06.979259Z",
     "iopub.status.idle": "2023-02-27T12:05:06.983890Z",
     "shell.execute_reply": "2023-02-27T12:05:06.983207Z"
    }
   },
   "outputs": [],
   "source": [
    "trees = [FastTreeValue(_TREE_DATA_2) for _ in range(8)]"
   ]
  },
  {
   "cell_type": "code",
   "execution_count": 20,
   "id": "017ea5a5",
   "metadata": {
    "execution": {
     "iopub.execute_input": "2023-02-27T12:05:06.986998Z",
     "iopub.status.busy": "2023-02-27T12:05:06.986535Z",
     "iopub.status.idle": "2023-02-27T12:05:06.995240Z",
     "shell.execute_reply": "2023-02-27T12:05:06.994567Z"
    }
   },
   "outputs": [
    {
     "data": {
      "text/plain": [
       "<FastTreeValue 0x7fdc22162340>\n",
       "├── 'a' --> tensor([[[-0.4667, -0.4830, -0.0972],\n",
       "│                    [ 0.7158, -1.7944,  1.3706]],\n",
       "│           \n",
       "│                   [[-0.4667, -0.4830, -0.0972],\n",
       "│                    [ 0.7158, -1.7944,  1.3706]],\n",
       "│           \n",
       "│                   [[-0.4667, -0.4830, -0.0972],\n",
       "│                    [ 0.7158, -1.7944,  1.3706]],\n",
       "│           \n",
       "│                   [[-0.4667, -0.4830, -0.0972],\n",
       "│                    [ 0.7158, -1.7944,  1.3706]],\n",
       "│           \n",
       "│                   [[-0.4667, -0.4830, -0.0972],\n",
       "│                    [ 0.7158, -1.7944,  1.3706]],\n",
       "│           \n",
       "│                   [[-0.4667, -0.4830, -0.0972],\n",
       "│                    [ 0.7158, -1.7944,  1.3706]],\n",
       "│           \n",
       "│                   [[-0.4667, -0.4830, -0.0972],\n",
       "│                    [ 0.7158, -1.7944,  1.3706]],\n",
       "│           \n",
       "│                   [[-0.4667, -0.4830, -0.0972],\n",
       "│                    [ 0.7158, -1.7944,  1.3706]]])\n",
       "└── 'x' --> <FastTreeValue 0x7fdc22162760>\n",
       "    └── 'c' --> tensor([[[ 0.6759, -0.4700, -0.1132, -1.5012],\n",
       "                         [-0.4585,  1.8002, -0.2085, -0.2673],\n",
       "                         [-1.1971, -1.4469,  1.7908, -0.1042]],\n",
       "                \n",
       "                        [[ 0.6759, -0.4700, -0.1132, -1.5012],\n",
       "                         [-0.4585,  1.8002, -0.2085, -0.2673],\n",
       "                         [-1.1971, -1.4469,  1.7908, -0.1042]],\n",
       "                \n",
       "                        [[ 0.6759, -0.4700, -0.1132, -1.5012],\n",
       "                         [-0.4585,  1.8002, -0.2085, -0.2673],\n",
       "                         [-1.1971, -1.4469,  1.7908, -0.1042]],\n",
       "                \n",
       "                        [[ 0.6759, -0.4700, -0.1132, -1.5012],\n",
       "                         [-0.4585,  1.8002, -0.2085, -0.2673],\n",
       "                         [-1.1971, -1.4469,  1.7908, -0.1042]],\n",
       "                \n",
       "                        [[ 0.6759, -0.4700, -0.1132, -1.5012],\n",
       "                         [-0.4585,  1.8002, -0.2085, -0.2673],\n",
       "                         [-1.1971, -1.4469,  1.7908, -0.1042]],\n",
       "                \n",
       "                        [[ 0.6759, -0.4700, -0.1132, -1.5012],\n",
       "                         [-0.4585,  1.8002, -0.2085, -0.2673],\n",
       "                         [-1.1971, -1.4469,  1.7908, -0.1042]],\n",
       "                \n",
       "                        [[ 0.6759, -0.4700, -0.1132, -1.5012],\n",
       "                         [-0.4585,  1.8002, -0.2085, -0.2673],\n",
       "                         [-1.1971, -1.4469,  1.7908, -0.1042]],\n",
       "                \n",
       "                        [[ 0.6759, -0.4700, -0.1132, -1.5012],\n",
       "                         [-0.4585,  1.8002, -0.2085, -0.2673],\n",
       "                         [-1.1971, -1.4469,  1.7908, -0.1042]]])"
      ]
     },
     "execution_count": 20,
     "metadata": {},
     "output_type": "execute_result"
    }
   ],
   "source": [
    "t_stack = FastTreeValue.func(subside=True)(torch.stack)\n",
    "\n",
    "t_stack(trees)"
   ]
  },
  {
   "cell_type": "code",
   "execution_count": 21,
   "id": "f8b3f415",
   "metadata": {
    "execution": {
     "iopub.execute_input": "2023-02-27T12:05:06.999397Z",
     "iopub.status.busy": "2023-02-27T12:05:06.998147Z",
     "iopub.status.idle": "2023-02-27T12:05:09.679541Z",
     "shell.execute_reply": "2023-02-27T12:05:09.678573Z"
    }
   },
   "outputs": [
    {
     "name": "stdout",
     "output_type": "stream",
     "text": [
      "32.9 µs ± 56 ns per loop (mean ± std. dev. of 7 runs, 10,000 loops each)\n"
     ]
    }
   ],
   "source": [
    "%timeit t_stack(trees)"
   ]
  },
  {
   "cell_type": "code",
   "execution_count": 22,
   "id": "94b56771",
   "metadata": {
    "execution": {
     "iopub.execute_input": "2023-02-27T12:05:09.683364Z",
     "iopub.status.busy": "2023-02-27T12:05:09.682782Z",
     "iopub.status.idle": "2023-02-27T12:05:09.691309Z",
     "shell.execute_reply": "2023-02-27T12:05:09.690627Z"
    }
   },
   "outputs": [
    {
     "data": {
      "text/plain": [
       "<FastTreeValue 0x7fdccc50c5b0>\n",
       "├── 'a' --> tensor([[-0.4667, -0.4830, -0.0972],\n",
       "│                   [ 0.7158, -1.7944,  1.3706],\n",
       "│                   [-0.4667, -0.4830, -0.0972],\n",
       "│                   [ 0.7158, -1.7944,  1.3706],\n",
       "│                   [-0.4667, -0.4830, -0.0972],\n",
       "│                   [ 0.7158, -1.7944,  1.3706],\n",
       "│                   [-0.4667, -0.4830, -0.0972],\n",
       "│                   [ 0.7158, -1.7944,  1.3706],\n",
       "│                   [-0.4667, -0.4830, -0.0972],\n",
       "│                   [ 0.7158, -1.7944,  1.3706],\n",
       "│                   [-0.4667, -0.4830, -0.0972],\n",
       "│                   [ 0.7158, -1.7944,  1.3706],\n",
       "│                   [-0.4667, -0.4830, -0.0972],\n",
       "│                   [ 0.7158, -1.7944,  1.3706],\n",
       "│                   [-0.4667, -0.4830, -0.0972],\n",
       "│                   [ 0.7158, -1.7944,  1.3706]])\n",
       "└── 'x' --> <FastTreeValue 0x7fdccc50c190>\n",
       "    └── 'c' --> tensor([[ 0.6759, -0.4700, -0.1132, -1.5012],\n",
       "                        [-0.4585,  1.8002, -0.2085, -0.2673],\n",
       "                        [-1.1971, -1.4469,  1.7908, -0.1042],\n",
       "                        [ 0.6759, -0.4700, -0.1132, -1.5012],\n",
       "                        [-0.4585,  1.8002, -0.2085, -0.2673],\n",
       "                        [-1.1971, -1.4469,  1.7908, -0.1042],\n",
       "                        [ 0.6759, -0.4700, -0.1132, -1.5012],\n",
       "                        [-0.4585,  1.8002, -0.2085, -0.2673],\n",
       "                        [-1.1971, -1.4469,  1.7908, -0.1042],\n",
       "                        [ 0.6759, -0.4700, -0.1132, -1.5012],\n",
       "                        [-0.4585,  1.8002, -0.2085, -0.2673],\n",
       "                        [-1.1971, -1.4469,  1.7908, -0.1042],\n",
       "                        [ 0.6759, -0.4700, -0.1132, -1.5012],\n",
       "                        [-0.4585,  1.8002, -0.2085, -0.2673],\n",
       "                        [-1.1971, -1.4469,  1.7908, -0.1042],\n",
       "                        [ 0.6759, -0.4700, -0.1132, -1.5012],\n",
       "                        [-0.4585,  1.8002, -0.2085, -0.2673],\n",
       "                        [-1.1971, -1.4469,  1.7908, -0.1042],\n",
       "                        [ 0.6759, -0.4700, -0.1132, -1.5012],\n",
       "                        [-0.4585,  1.8002, -0.2085, -0.2673],\n",
       "                        [-1.1971, -1.4469,  1.7908, -0.1042],\n",
       "                        [ 0.6759, -0.4700, -0.1132, -1.5012],\n",
       "                        [-0.4585,  1.8002, -0.2085, -0.2673],\n",
       "                        [-1.1971, -1.4469,  1.7908, -0.1042]])"
      ]
     },
     "execution_count": 22,
     "metadata": {},
     "output_type": "execute_result"
    }
   ],
   "source": [
    "t_cat = FastTreeValue.func(subside=True)(torch.cat)\n",
    "\n",
    "t_cat(trees)"
   ]
  },
  {
   "cell_type": "code",
   "execution_count": 23,
   "id": "5e9c06a6",
   "metadata": {
    "execution": {
     "iopub.execute_input": "2023-02-27T12:05:09.694514Z",
     "iopub.status.busy": "2023-02-27T12:05:09.693945Z",
     "iopub.status.idle": "2023-02-27T12:05:12.190705Z",
     "shell.execute_reply": "2023-02-27T12:05:12.189742Z"
    }
   },
   "outputs": [
    {
     "name": "stdout",
     "output_type": "stream",
     "text": [
      "30.6 µs ± 41.7 ns per loop (mean ± std. dev. of 7 runs, 10,000 loops each)\n"
     ]
    }
   ],
   "source": [
    "%timeit t_cat(trees)"
   ]
  },
  {
   "cell_type": "code",
   "execution_count": 24,
   "id": "a3ab5c8f",
   "metadata": {
    "execution": {
     "iopub.execute_input": "2023-02-27T12:05:12.194408Z",
     "iopub.status.busy": "2023-02-27T12:05:12.193867Z",
     "iopub.status.idle": "2023-02-27T12:05:16.720133Z",
     "shell.execute_reply": "2023-02-27T12:05:16.718789Z"
    }
   },
   "outputs": [
    {
     "name": "stdout",
     "output_type": "stream",
     "text": [
      "55.7 µs ± 81.9 ns per loop (mean ± std. dev. of 7 runs, 10,000 loops each)\n"
     ]
    }
   ],
   "source": [
    "t_split = FastTreeValue.func(rise=True)(torch.split)\n",
    "tree = FastTreeValue({\n",
    "    'obs': torch.randn(8, 4, 84, 84),\n",
    "    'action': torch.randint(0, 6, size=(8, 1,)),\n",
    "    'reward': torch.rand(8, 1),\n",
    "})\n",
    "\n",
    "%timeit t_split(tree, 1)"
   ]
  },
  {
   "cell_type": "markdown",
   "id": "31c3ec0b",
   "metadata": {},
   "source": [
    "### Performance of Tianshou Batch"
   ]
  },
  {
   "cell_type": "code",
   "execution_count": 25,
   "id": "9ead828a",
   "metadata": {
    "execution": {
     "iopub.execute_input": "2023-02-27T12:05:16.723730Z",
     "iopub.status.busy": "2023-02-27T12:05:16.723243Z",
     "iopub.status.idle": "2023-02-27T12:05:16.732361Z",
     "shell.execute_reply": "2023-02-27T12:05:16.731548Z"
    }
   },
   "outputs": [
    {
     "data": {
      "text/plain": [
       "Batch(\n",
       "    a: tensor([[[-0.4667, -0.4830, -0.0972],\n",
       "                [ 0.7158, -1.7944,  1.3706]],\n",
       "       \n",
       "               [[-0.4667, -0.4830, -0.0972],\n",
       "                [ 0.7158, -1.7944,  1.3706]],\n",
       "       \n",
       "               [[-0.4667, -0.4830, -0.0972],\n",
       "                [ 0.7158, -1.7944,  1.3706]],\n",
       "       \n",
       "               [[-0.4667, -0.4830, -0.0972],\n",
       "                [ 0.7158, -1.7944,  1.3706]],\n",
       "       \n",
       "               [[-0.4667, -0.4830, -0.0972],\n",
       "                [ 0.7158, -1.7944,  1.3706]],\n",
       "       \n",
       "               [[-0.4667, -0.4830, -0.0972],\n",
       "                [ 0.7158, -1.7944,  1.3706]],\n",
       "       \n",
       "               [[-0.4667, -0.4830, -0.0972],\n",
       "                [ 0.7158, -1.7944,  1.3706]],\n",
       "       \n",
       "               [[-0.4667, -0.4830, -0.0972],\n",
       "                [ 0.7158, -1.7944,  1.3706]]]),\n",
       "    x: Batch(\n",
       "           c: tensor([[[ 0.6759, -0.4700, -0.1132, -1.5012],\n",
       "                       [-0.4585,  1.8002, -0.2085, -0.2673],\n",
       "                       [-1.1971, -1.4469,  1.7908, -0.1042]],\n",
       "              \n",
       "                      [[ 0.6759, -0.4700, -0.1132, -1.5012],\n",
       "                       [-0.4585,  1.8002, -0.2085, -0.2673],\n",
       "                       [-1.1971, -1.4469,  1.7908, -0.1042]],\n",
       "              \n",
       "                      [[ 0.6759, -0.4700, -0.1132, -1.5012],\n",
       "                       [-0.4585,  1.8002, -0.2085, -0.2673],\n",
       "                       [-1.1971, -1.4469,  1.7908, -0.1042]],\n",
       "              \n",
       "                      [[ 0.6759, -0.4700, -0.1132, -1.5012],\n",
       "                       [-0.4585,  1.8002, -0.2085, -0.2673],\n",
       "                       [-1.1971, -1.4469,  1.7908, -0.1042]],\n",
       "              \n",
       "                      [[ 0.6759, -0.4700, -0.1132, -1.5012],\n",
       "                       [-0.4585,  1.8002, -0.2085, -0.2673],\n",
       "                       [-1.1971, -1.4469,  1.7908, -0.1042]],\n",
       "              \n",
       "                      [[ 0.6759, -0.4700, -0.1132, -1.5012],\n",
       "                       [-0.4585,  1.8002, -0.2085, -0.2673],\n",
       "                       [-1.1971, -1.4469,  1.7908, -0.1042]],\n",
       "              \n",
       "                      [[ 0.6759, -0.4700, -0.1132, -1.5012],\n",
       "                       [-0.4585,  1.8002, -0.2085, -0.2673],\n",
       "                       [-1.1971, -1.4469,  1.7908, -0.1042]],\n",
       "              \n",
       "                      [[ 0.6759, -0.4700, -0.1132, -1.5012],\n",
       "                       [-0.4585,  1.8002, -0.2085, -0.2673],\n",
       "                       [-1.1971, -1.4469,  1.7908, -0.1042]]]),\n",
       "       ),\n",
       ")"
      ]
     },
     "execution_count": 25,
     "metadata": {},
     "output_type": "execute_result"
    }
   ],
   "source": [
    "batches = [Batch(**_TREE_DATA_2) for _ in range(8)]\n",
    "\n",
    "Batch.stack(batches)"
   ]
  },
  {
   "cell_type": "code",
   "execution_count": 26,
   "id": "ec9037a3",
   "metadata": {
    "execution": {
     "iopub.execute_input": "2023-02-27T12:05:16.735934Z",
     "iopub.status.busy": "2023-02-27T12:05:16.735228Z",
     "iopub.status.idle": "2023-02-27T12:05:23.050919Z",
     "shell.execute_reply": "2023-02-27T12:05:23.049946Z"
    }
   },
   "outputs": [
    {
     "name": "stdout",
     "output_type": "stream",
     "text": [
      "77.7 µs ± 156 ns per loop (mean ± std. dev. of 7 runs, 10,000 loops each)\n"
     ]
    }
   ],
   "source": [
    "%timeit Batch.stack(batches)"
   ]
  },
  {
   "cell_type": "code",
   "execution_count": 27,
   "id": "cb8ab77e",
   "metadata": {
    "execution": {
     "iopub.execute_input": "2023-02-27T12:05:23.054938Z",
     "iopub.status.busy": "2023-02-27T12:05:23.054339Z",
     "iopub.status.idle": "2023-02-27T12:05:23.063459Z",
     "shell.execute_reply": "2023-02-27T12:05:23.062664Z"
    }
   },
   "outputs": [
    {
     "data": {
      "text/plain": [
       "Batch(\n",
       "    a: tensor([[-0.4667, -0.4830, -0.0972],\n",
       "               [ 0.7158, -1.7944,  1.3706],\n",
       "               [-0.4667, -0.4830, -0.0972],\n",
       "               [ 0.7158, -1.7944,  1.3706],\n",
       "               [-0.4667, -0.4830, -0.0972],\n",
       "               [ 0.7158, -1.7944,  1.3706],\n",
       "               [-0.4667, -0.4830, -0.0972],\n",
       "               [ 0.7158, -1.7944,  1.3706],\n",
       "               [-0.4667, -0.4830, -0.0972],\n",
       "               [ 0.7158, -1.7944,  1.3706],\n",
       "               [-0.4667, -0.4830, -0.0972],\n",
       "               [ 0.7158, -1.7944,  1.3706],\n",
       "               [-0.4667, -0.4830, -0.0972],\n",
       "               [ 0.7158, -1.7944,  1.3706],\n",
       "               [-0.4667, -0.4830, -0.0972],\n",
       "               [ 0.7158, -1.7944,  1.3706]]),\n",
       "    x: Batch(\n",
       "           c: tensor([[ 0.6759, -0.4700, -0.1132, -1.5012],\n",
       "                      [-0.4585,  1.8002, -0.2085, -0.2673],\n",
       "                      [-1.1971, -1.4469,  1.7908, -0.1042],\n",
       "                      [ 0.6759, -0.4700, -0.1132, -1.5012],\n",
       "                      [-0.4585,  1.8002, -0.2085, -0.2673],\n",
       "                      [-1.1971, -1.4469,  1.7908, -0.1042],\n",
       "                      [ 0.6759, -0.4700, -0.1132, -1.5012],\n",
       "                      [-0.4585,  1.8002, -0.2085, -0.2673],\n",
       "                      [-1.1971, -1.4469,  1.7908, -0.1042],\n",
       "                      [ 0.6759, -0.4700, -0.1132, -1.5012],\n",
       "                      [-0.4585,  1.8002, -0.2085, -0.2673],\n",
       "                      [-1.1971, -1.4469,  1.7908, -0.1042],\n",
       "                      [ 0.6759, -0.4700, -0.1132, -1.5012],\n",
       "                      [-0.4585,  1.8002, -0.2085, -0.2673],\n",
       "                      [-1.1971, -1.4469,  1.7908, -0.1042],\n",
       "                      [ 0.6759, -0.4700, -0.1132, -1.5012],\n",
       "                      [-0.4585,  1.8002, -0.2085, -0.2673],\n",
       "                      [-1.1971, -1.4469,  1.7908, -0.1042],\n",
       "                      [ 0.6759, -0.4700, -0.1132, -1.5012],\n",
       "                      [-0.4585,  1.8002, -0.2085, -0.2673],\n",
       "                      [-1.1971, -1.4469,  1.7908, -0.1042],\n",
       "                      [ 0.6759, -0.4700, -0.1132, -1.5012],\n",
       "                      [-0.4585,  1.8002, -0.2085, -0.2673],\n",
       "                      [-1.1971, -1.4469,  1.7908, -0.1042]]),\n",
       "       ),\n",
       ")"
      ]
     },
     "execution_count": 27,
     "metadata": {},
     "output_type": "execute_result"
    }
   ],
   "source": [
    "Batch.cat(batches)"
   ]
  },
  {
   "cell_type": "code",
   "execution_count": 28,
   "id": "18dfb045",
   "metadata": {
    "execution": {
     "iopub.execute_input": "2023-02-27T12:05:23.067489Z",
     "iopub.status.busy": "2023-02-27T12:05:23.066767Z",
     "iopub.status.idle": "2023-02-27T12:05:34.740015Z",
     "shell.execute_reply": "2023-02-27T12:05:34.739058Z"
    }
   },
   "outputs": [
    {
     "name": "stdout",
     "output_type": "stream",
     "text": [
      "144 µs ± 222 ns per loop (mean ± std. dev. of 7 runs, 10,000 loops each)\n"
     ]
    }
   ],
   "source": [
    "%timeit Batch.cat(batches)"
   ]
  },
  {
   "cell_type": "code",
   "execution_count": 29,
   "id": "c6688e51",
   "metadata": {
    "execution": {
     "iopub.execute_input": "2023-02-27T12:05:34.743808Z",
     "iopub.status.busy": "2023-02-27T12:05:34.743160Z",
     "iopub.status.idle": "2023-02-27T12:05:37.425196Z",
     "shell.execute_reply": "2023-02-27T12:05:37.424395Z"
    }
   },
   "outputs": [
    {
     "name": "stdout",
     "output_type": "stream",
     "text": [
      "329 µs ± 2.78 µs per loop (mean ± std. dev. of 7 runs, 1,000 loops each)\n"
     ]
    }
   ],
   "source": [
    "batch = Batch({\n",
    "    'obs': torch.randn(8, 4, 84, 84),\n",
    "    'action': torch.randint(0, 6, size=(8, 1,)),\n",
    "    'reward': torch.rand(8, 1)}\n",
    ")\n",
    "\n",
    "%timeit list(Batch.split(batch, 1, shuffle=False, merge_last=True))"
   ]
  },
  {
   "cell_type": "code",
   "execution_count": null,
   "id": "2539fbd9",
   "metadata": {},
   "outputs": [],
   "source": []
  }
 ],
 "metadata": {
  "kernelspec": {
   "display_name": "Python 3 (ipykernel)",
   "language": "python",
   "name": "python3"
  },
  "language_info": {
   "codemirror_mode": {
    "name": "ipython",
    "version": 3
   },
   "file_extension": ".py",
   "mimetype": "text/x-python",
   "name": "python",
   "nbconvert_exporter": "python",
   "pygments_lexer": "ipython3",
   "version": "3.8.16"
  }
 },
 "nbformat": 4,
 "nbformat_minor": 5
}
