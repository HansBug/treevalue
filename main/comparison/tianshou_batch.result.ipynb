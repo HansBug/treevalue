{
 "cells": [
  {
   "cell_type": "markdown",
   "id": "9d39d946",
   "metadata": {},
   "source": [
    "# Comparison Between TreeValue and Tianshou Batch"
   ]
  },
  {
   "cell_type": "markdown",
   "id": "3c6db2d4",
   "metadata": {},
   "source": [
    "In this section, we will take a look at the feature and performance of the [Tianshou Batch](https://github.com/thu-ml/tianshou) library, which is developed by Tsinghua Machine Learning Group."
   ]
  },
  {
   "cell_type": "markdown",
   "id": "069361b0",
   "metadata": {},
   "source": [
    "Before starting the comparison, let us define some thing."
   ]
  },
  {
   "cell_type": "code",
   "execution_count": 1,
   "id": "06fc8d26",
   "metadata": {
    "execution": {
     "iopub.execute_input": "2023-03-06T17:21:41.830041Z",
     "iopub.status.busy": "2023-03-06T17:21:41.829475Z",
     "iopub.status.idle": "2023-03-06T17:21:42.757036Z",
     "shell.execute_reply": "2023-03-06T17:21:42.756324Z"
    }
   },
   "outputs": [
    {
     "name": "stderr",
     "output_type": "stream",
     "text": [
      "/opt/hostedtoolcache/Python/3.8.16/x64/lib/python3.8/site-packages/tqdm/auto.py:21: TqdmWarning: IProgress not found. Please update jupyter and ipywidgets. See https://ipywidgets.readthedocs.io/en/stable/user_install.html\n",
      "  from .autonotebook import tqdm as notebook_tqdm\n"
     ]
    }
   ],
   "source": [
    "import torch \n",
    "\n",
    "_TREE_DATA_1 = {'a': 1, 'b': 2, 'x': {'c': 3, 'd': 4}}\n",
    "_TREE_DATA_2 = {\n",
    "    'a': torch.randn(2, 3), \n",
    "    'x': {\n",
    "        'c': torch.randn(3, 4)\n",
    "    },\n",
    "}\n",
    "_TREE_DATA_3 = {\n",
    "    'obs': torch.randn(4, 84, 84),\n",
    "    'action': torch.randint(0, 6, size=(1,)),\n",
    "    'reward': torch.rand(1),\n",
    "}"
   ]
  },
  {
   "cell_type": "markdown",
   "id": "83461b25",
   "metadata": {},
   "source": [
    "## Read and Write Operation"
   ]
  },
  {
   "cell_type": "markdown",
   "id": "067b3f73",
   "metadata": {},
   "source": [
    "Reading and writing are the two most common operations in the tree data structure based on the data model (TreeValue and Tianshou Batch both belong to this type), so this section will compare the reading and writing performance of these two libraries."
   ]
  },
  {
   "cell_type": "markdown",
   "id": "5d09a5b7",
   "metadata": {},
   "source": [
    "### TreeValue's Get and Set"
   ]
  },
  {
   "cell_type": "code",
   "execution_count": 2,
   "id": "9519c4bb",
   "metadata": {
    "execution": {
     "iopub.execute_input": "2023-03-06T17:21:42.760718Z",
     "iopub.status.busy": "2023-03-06T17:21:42.760079Z",
     "iopub.status.idle": "2023-03-06T17:21:43.045389Z",
     "shell.execute_reply": "2023-03-06T17:21:43.044695Z"
    }
   },
   "outputs": [],
   "source": [
    "from treevalue import FastTreeValue\n",
    "\n",
    "t = FastTreeValue(_TREE_DATA_2)"
   ]
  },
  {
   "cell_type": "code",
   "execution_count": 3,
   "id": "11c37677",
   "metadata": {
    "execution": {
     "iopub.execute_input": "2023-03-06T17:21:43.048992Z",
     "iopub.status.busy": "2023-03-06T17:21:43.048368Z",
     "iopub.status.idle": "2023-03-06T17:21:43.058257Z",
     "shell.execute_reply": "2023-03-06T17:21:43.057583Z"
    }
   },
   "outputs": [
    {
     "data": {
      "text/plain": [
       "<FastTreeValue 0x7f221cb45eb0>\n",
       "├── 'a' --> tensor([[ 1.2228e-03,  4.7870e-01, -6.9829e-01],\n",
       "│                   [-5.2456e-01, -1.2414e+00,  1.0046e+00]])\n",
       "└── 'x' --> <FastTreeValue 0x7f221cb45e80>\n",
       "    └── 'c' --> tensor([[-0.6458,  0.3453,  0.5015, -1.4360],\n",
       "                        [ 1.1610,  1.8588, -1.5224,  0.7069],\n",
       "                        [ 0.1793,  0.7413,  0.7598,  1.2943]])"
      ]
     },
     "execution_count": 3,
     "metadata": {},
     "output_type": "execute_result"
    }
   ],
   "source": [
    "t"
   ]
  },
  {
   "cell_type": "code",
   "execution_count": 4,
   "id": "fd70b0b9",
   "metadata": {
    "execution": {
     "iopub.execute_input": "2023-03-06T17:21:43.061247Z",
     "iopub.status.busy": "2023-03-06T17:21:43.060745Z",
     "iopub.status.idle": "2023-03-06T17:21:43.066700Z",
     "shell.execute_reply": "2023-03-06T17:21:43.066134Z"
    }
   },
   "outputs": [
    {
     "data": {
      "text/plain": [
       "tensor([[ 1.2228e-03,  4.7870e-01, -6.9829e-01],\n",
       "        [-5.2456e-01, -1.2414e+00,  1.0046e+00]])"
      ]
     },
     "execution_count": 4,
     "metadata": {},
     "output_type": "execute_result"
    }
   ],
   "source": [
    "t.a"
   ]
  },
  {
   "cell_type": "code",
   "execution_count": 5,
   "id": "c18197bd",
   "metadata": {
    "execution": {
     "iopub.execute_input": "2023-03-06T17:21:43.070070Z",
     "iopub.status.busy": "2023-03-06T17:21:43.069057Z",
     "iopub.status.idle": "2023-03-06T17:21:48.592244Z",
     "shell.execute_reply": "2023-03-06T17:21:48.591204Z"
    }
   },
   "outputs": [
    {
     "name": "stdout",
     "output_type": "stream",
     "text": [
      "68 ns ± 0.041 ns per loop (mean ± std. dev. of 7 runs, 10,000,000 loops each)\n"
     ]
    }
   ],
   "source": [
    "%timeit t.a"
   ]
  },
  {
   "cell_type": "code",
   "execution_count": 6,
   "id": "bd52f867",
   "metadata": {
    "execution": {
     "iopub.execute_input": "2023-03-06T17:21:48.595606Z",
     "iopub.status.busy": "2023-03-06T17:21:48.595156Z",
     "iopub.status.idle": "2023-03-06T17:21:48.602244Z",
     "shell.execute_reply": "2023-03-06T17:21:48.601590Z"
    }
   },
   "outputs": [
    {
     "data": {
      "text/plain": [
       "<FastTreeValue 0x7f221cb45eb0>\n",
       "├── 'a' --> tensor([[-0.0043,  1.5404, -2.0569],\n",
       "│                   [-0.1538,  0.3693,  1.2714]])\n",
       "└── 'x' --> <FastTreeValue 0x7f221cb45e80>\n",
       "    └── 'c' --> tensor([[-0.6458,  0.3453,  0.5015, -1.4360],\n",
       "                        [ 1.1610,  1.8588, -1.5224,  0.7069],\n",
       "                        [ 0.1793,  0.7413,  0.7598,  1.2943]])"
      ]
     },
     "execution_count": 6,
     "metadata": {},
     "output_type": "execute_result"
    }
   ],
   "source": [
    "new_value = torch.randn(2, 3)\n",
    "t.a = new_value\n",
    "\n",
    "t"
   ]
  },
  {
   "cell_type": "code",
   "execution_count": 7,
   "id": "bbe04d1c",
   "metadata": {
    "execution": {
     "iopub.execute_input": "2023-03-06T17:21:48.605583Z",
     "iopub.status.busy": "2023-03-06T17:21:48.605247Z",
     "iopub.status.idle": "2023-03-06T17:21:53.926757Z",
     "shell.execute_reply": "2023-03-06T17:21:53.926043Z"
    }
   },
   "outputs": [
    {
     "name": "stdout",
     "output_type": "stream",
     "text": [
      "65.6 ns ± 0.0269 ns per loop (mean ± std. dev. of 7 runs, 10,000,000 loops each)\n"
     ]
    }
   ],
   "source": [
    "%timeit t.a = new_value"
   ]
  },
  {
   "cell_type": "markdown",
   "id": "48c49731",
   "metadata": {},
   "source": [
    "### Tianshou Batch's Get and Set"
   ]
  },
  {
   "cell_type": "code",
   "execution_count": 8,
   "id": "f1bb14c1",
   "metadata": {
    "execution": {
     "iopub.execute_input": "2023-03-06T17:21:53.930055Z",
     "iopub.status.busy": "2023-03-06T17:21:53.929491Z",
     "iopub.status.idle": "2023-03-06T17:21:54.262120Z",
     "shell.execute_reply": "2023-03-06T17:21:54.261429Z"
    }
   },
   "outputs": [],
   "source": [
    "from tianshou.data import Batch\n",
    "\n",
    "b = Batch(**_TREE_DATA_2)"
   ]
  },
  {
   "cell_type": "code",
   "execution_count": 9,
   "id": "cb0777c3",
   "metadata": {
    "execution": {
     "iopub.execute_input": "2023-03-06T17:21:54.265432Z",
     "iopub.status.busy": "2023-03-06T17:21:54.264836Z",
     "iopub.status.idle": "2023-03-06T17:21:54.271045Z",
     "shell.execute_reply": "2023-03-06T17:21:54.270475Z"
    }
   },
   "outputs": [
    {
     "data": {
      "text/plain": [
       "Batch(\n",
       "    a: tensor([[ 1.2228e-03,  4.7870e-01, -6.9829e-01],\n",
       "               [-5.2456e-01, -1.2414e+00,  1.0046e+00]]),\n",
       "    x: Batch(\n",
       "           c: tensor([[-0.6458,  0.3453,  0.5015, -1.4360],\n",
       "                      [ 1.1610,  1.8588, -1.5224,  0.7069],\n",
       "                      [ 0.1793,  0.7413,  0.7598,  1.2943]]),\n",
       "       ),\n",
       ")"
      ]
     },
     "execution_count": 9,
     "metadata": {},
     "output_type": "execute_result"
    }
   ],
   "source": [
    "b"
   ]
  },
  {
   "cell_type": "code",
   "execution_count": 10,
   "id": "43ef8ea3",
   "metadata": {
    "execution": {
     "iopub.execute_input": "2023-03-06T17:21:54.273772Z",
     "iopub.status.busy": "2023-03-06T17:21:54.273180Z",
     "iopub.status.idle": "2023-03-06T17:21:54.278569Z",
     "shell.execute_reply": "2023-03-06T17:21:54.277995Z"
    }
   },
   "outputs": [
    {
     "data": {
      "text/plain": [
       "tensor([[ 1.2228e-03,  4.7870e-01, -6.9829e-01],\n",
       "        [-5.2456e-01, -1.2414e+00,  1.0046e+00]])"
      ]
     },
     "execution_count": 10,
     "metadata": {},
     "output_type": "execute_result"
    }
   ],
   "source": [
    "b.a"
   ]
  },
  {
   "cell_type": "code",
   "execution_count": 11,
   "id": "b785ab72",
   "metadata": {
    "execution": {
     "iopub.execute_input": "2023-03-06T17:21:54.281055Z",
     "iopub.status.busy": "2023-03-06T17:21:54.280618Z",
     "iopub.status.idle": "2023-03-06T17:21:59.333690Z",
     "shell.execute_reply": "2023-03-06T17:21:59.332925Z"
    }
   },
   "outputs": [
    {
     "name": "stdout",
     "output_type": "stream",
     "text": [
      "62.8 ns ± 0.0119 ns per loop (mean ± std. dev. of 7 runs, 10,000,000 loops each)\n"
     ]
    }
   ],
   "source": [
    "%timeit b.a"
   ]
  },
  {
   "cell_type": "code",
   "execution_count": 12,
   "id": "ad54dc69",
   "metadata": {
    "execution": {
     "iopub.execute_input": "2023-03-06T17:21:59.336905Z",
     "iopub.status.busy": "2023-03-06T17:21:59.336375Z",
     "iopub.status.idle": "2023-03-06T17:21:59.343883Z",
     "shell.execute_reply": "2023-03-06T17:21:59.343289Z"
    }
   },
   "outputs": [
    {
     "data": {
      "text/plain": [
       "Batch(\n",
       "    a: tensor([[ 1.8646, -2.1097,  0.1872],\n",
       "               [-1.1104, -0.2046, -1.8591]]),\n",
       "    x: Batch(\n",
       "           c: tensor([[-0.6458,  0.3453,  0.5015, -1.4360],\n",
       "                      [ 1.1610,  1.8588, -1.5224,  0.7069],\n",
       "                      [ 0.1793,  0.7413,  0.7598,  1.2943]]),\n",
       "       ),\n",
       ")"
      ]
     },
     "execution_count": 12,
     "metadata": {},
     "output_type": "execute_result"
    }
   ],
   "source": [
    "new_value = torch.randn(2, 3)\n",
    "b.a = new_value\n",
    "\n",
    "b"
   ]
  },
  {
   "cell_type": "code",
   "execution_count": 13,
   "id": "29b1d0bf",
   "metadata": {
    "execution": {
     "iopub.execute_input": "2023-03-06T17:21:59.346673Z",
     "iopub.status.busy": "2023-03-06T17:21:59.346128Z",
     "iopub.status.idle": "2023-03-06T17:22:03.262503Z",
     "shell.execute_reply": "2023-03-06T17:22:03.261607Z"
    }
   },
   "outputs": [
    {
     "name": "stdout",
     "output_type": "stream",
     "text": [
      "482 ns ± 0.177 ns per loop (mean ± std. dev. of 7 runs, 1,000,000 loops each)\n"
     ]
    }
   ],
   "source": [
    "%timeit b.a = new_value"
   ]
  },
  {
   "cell_type": "markdown",
   "id": "b61ad1d0",
   "metadata": {},
   "source": [
    "## Initialization"
   ]
  },
  {
   "cell_type": "markdown",
   "id": "d70f0d54",
   "metadata": {},
   "source": [
    "### TreeValue's Initialization"
   ]
  },
  {
   "cell_type": "code",
   "execution_count": 14,
   "id": "d32a679b",
   "metadata": {
    "execution": {
     "iopub.execute_input": "2023-03-06T17:22:03.265714Z",
     "iopub.status.busy": "2023-03-06T17:22:03.265209Z",
     "iopub.status.idle": "2023-03-06T17:22:10.145965Z",
     "shell.execute_reply": "2023-03-06T17:22:10.145248Z"
    }
   },
   "outputs": [
    {
     "name": "stdout",
     "output_type": "stream",
     "text": [
      "848 ns ± 14.3 ns per loop (mean ± std. dev. of 7 runs, 1,000,000 loops each)\n"
     ]
    }
   ],
   "source": [
    "%timeit FastTreeValue(_TREE_DATA_1)"
   ]
  },
  {
   "cell_type": "markdown",
   "id": "24f3707b",
   "metadata": {},
   "source": [
    "### Tianshou Batch's Initialization"
   ]
  },
  {
   "cell_type": "code",
   "execution_count": 15,
   "id": "ac3958df",
   "metadata": {
    "execution": {
     "iopub.execute_input": "2023-03-06T17:22:10.149346Z",
     "iopub.status.busy": "2023-03-06T17:22:10.148770Z",
     "iopub.status.idle": "2023-03-06T17:22:19.502576Z",
     "shell.execute_reply": "2023-03-06T17:22:19.501846Z"
    }
   },
   "outputs": [
    {
     "name": "stdout",
     "output_type": "stream",
     "text": [
      "11.5 µs ± 19.5 ns per loop (mean ± std. dev. of 7 runs, 100,000 loops each)\n"
     ]
    }
   ],
   "source": [
    "%timeit Batch(**_TREE_DATA_1)"
   ]
  },
  {
   "cell_type": "markdown",
   "id": "1ab82e2d",
   "metadata": {},
   "source": [
    "## Deep Copy Operation"
   ]
  },
  {
   "cell_type": "code",
   "execution_count": 16,
   "id": "210a9442",
   "metadata": {
    "execution": {
     "iopub.execute_input": "2023-03-06T17:22:19.505747Z",
     "iopub.status.busy": "2023-03-06T17:22:19.505106Z",
     "iopub.status.idle": "2023-03-06T17:22:19.508766Z",
     "shell.execute_reply": "2023-03-06T17:22:19.508181Z"
    }
   },
   "outputs": [],
   "source": [
    "import copy"
   ]
  },
  {
   "cell_type": "markdown",
   "id": "5a736274",
   "metadata": {},
   "source": [
    "### Deep Copy of TreeValue"
   ]
  },
  {
   "cell_type": "code",
   "execution_count": 17,
   "id": "f9bcadd6",
   "metadata": {
    "execution": {
     "iopub.execute_input": "2023-03-06T17:22:19.511464Z",
     "iopub.status.busy": "2023-03-06T17:22:19.511143Z",
     "iopub.status.idle": "2023-03-06T17:22:30.581828Z",
     "shell.execute_reply": "2023-03-06T17:22:30.581165Z"
    }
   },
   "outputs": [
    {
     "name": "stdout",
     "output_type": "stream",
     "text": [
      "136 µs ± 296 ns per loop (mean ± std. dev. of 7 runs, 10,000 loops each)\n"
     ]
    }
   ],
   "source": [
    "t3 = FastTreeValue(_TREE_DATA_3)\n",
    "%timeit copy.deepcopy(t3)"
   ]
  },
  {
   "cell_type": "markdown",
   "id": "bf8be7ea",
   "metadata": {},
   "source": [
    "### Deep Copy of Tianshou Batch"
   ]
  },
  {
   "cell_type": "code",
   "execution_count": 18,
   "id": "91998e6f",
   "metadata": {
    "execution": {
     "iopub.execute_input": "2023-03-06T17:22:30.584982Z",
     "iopub.status.busy": "2023-03-06T17:22:30.584724Z",
     "iopub.status.idle": "2023-03-06T17:22:41.971416Z",
     "shell.execute_reply": "2023-03-06T17:22:41.970599Z"
    }
   },
   "outputs": [
    {
     "name": "stdout",
     "output_type": "stream",
     "text": [
      "140 µs ± 1.58 µs per loop (mean ± std. dev. of 7 runs, 10,000 loops each)\n"
     ]
    }
   ],
   "source": [
    "b3 = Batch(**_TREE_DATA_3)\n",
    "%timeit copy.deepcopy(b3)"
   ]
  },
  {
   "cell_type": "markdown",
   "id": "223162fb",
   "metadata": {},
   "source": [
    "## Stack, Concat and Split Operation"
   ]
  },
  {
   "cell_type": "markdown",
   "id": "85fa4a73",
   "metadata": {},
   "source": [
    "### Performance of TreeValue"
   ]
  },
  {
   "cell_type": "code",
   "execution_count": 19,
   "id": "a0c2b697",
   "metadata": {
    "execution": {
     "iopub.execute_input": "2023-03-06T17:22:41.975176Z",
     "iopub.status.busy": "2023-03-06T17:22:41.974210Z",
     "iopub.status.idle": "2023-03-06T17:22:41.978468Z",
     "shell.execute_reply": "2023-03-06T17:22:41.977937Z"
    }
   },
   "outputs": [],
   "source": [
    "trees = [FastTreeValue(_TREE_DATA_2) for _ in range(8)]"
   ]
  },
  {
   "cell_type": "code",
   "execution_count": 20,
   "id": "017ea5a5",
   "metadata": {
    "execution": {
     "iopub.execute_input": "2023-03-06T17:22:41.982022Z",
     "iopub.status.busy": "2023-03-06T17:22:41.981096Z",
     "iopub.status.idle": "2023-03-06T17:22:41.989840Z",
     "shell.execute_reply": "2023-03-06T17:22:41.989308Z"
    }
   },
   "outputs": [
    {
     "data": {
      "text/plain": [
       "<FastTreeValue 0x7f221cb458b0>\n",
       "├── 'a' --> tensor([[[ 1.2228e-03,  4.7870e-01, -6.9829e-01],\n",
       "│                    [-5.2456e-01, -1.2414e+00,  1.0046e+00]],\n",
       "│           \n",
       "│                   [[ 1.2228e-03,  4.7870e-01, -6.9829e-01],\n",
       "│                    [-5.2456e-01, -1.2414e+00,  1.0046e+00]],\n",
       "│           \n",
       "│                   [[ 1.2228e-03,  4.7870e-01, -6.9829e-01],\n",
       "│                    [-5.2456e-01, -1.2414e+00,  1.0046e+00]],\n",
       "│           \n",
       "│                   [[ 1.2228e-03,  4.7870e-01, -6.9829e-01],\n",
       "│                    [-5.2456e-01, -1.2414e+00,  1.0046e+00]],\n",
       "│           \n",
       "│                   [[ 1.2228e-03,  4.7870e-01, -6.9829e-01],\n",
       "│                    [-5.2456e-01, -1.2414e+00,  1.0046e+00]],\n",
       "│           \n",
       "│                   [[ 1.2228e-03,  4.7870e-01, -6.9829e-01],\n",
       "│                    [-5.2456e-01, -1.2414e+00,  1.0046e+00]],\n",
       "│           \n",
       "│                   [[ 1.2228e-03,  4.7870e-01, -6.9829e-01],\n",
       "│                    [-5.2456e-01, -1.2414e+00,  1.0046e+00]],\n",
       "│           \n",
       "│                   [[ 1.2228e-03,  4.7870e-01, -6.9829e-01],\n",
       "│                    [-5.2456e-01, -1.2414e+00,  1.0046e+00]]])\n",
       "└── 'x' --> <FastTreeValue 0x7f221cb45580>\n",
       "    └── 'c' --> tensor([[[-0.6458,  0.3453,  0.5015, -1.4360],\n",
       "                         [ 1.1610,  1.8588, -1.5224,  0.7069],\n",
       "                         [ 0.1793,  0.7413,  0.7598,  1.2943]],\n",
       "                \n",
       "                        [[-0.6458,  0.3453,  0.5015, -1.4360],\n",
       "                         [ 1.1610,  1.8588, -1.5224,  0.7069],\n",
       "                         [ 0.1793,  0.7413,  0.7598,  1.2943]],\n",
       "                \n",
       "                        [[-0.6458,  0.3453,  0.5015, -1.4360],\n",
       "                         [ 1.1610,  1.8588, -1.5224,  0.7069],\n",
       "                         [ 0.1793,  0.7413,  0.7598,  1.2943]],\n",
       "                \n",
       "                        [[-0.6458,  0.3453,  0.5015, -1.4360],\n",
       "                         [ 1.1610,  1.8588, -1.5224,  0.7069],\n",
       "                         [ 0.1793,  0.7413,  0.7598,  1.2943]],\n",
       "                \n",
       "                        [[-0.6458,  0.3453,  0.5015, -1.4360],\n",
       "                         [ 1.1610,  1.8588, -1.5224,  0.7069],\n",
       "                         [ 0.1793,  0.7413,  0.7598,  1.2943]],\n",
       "                \n",
       "                        [[-0.6458,  0.3453,  0.5015, -1.4360],\n",
       "                         [ 1.1610,  1.8588, -1.5224,  0.7069],\n",
       "                         [ 0.1793,  0.7413,  0.7598,  1.2943]],\n",
       "                \n",
       "                        [[-0.6458,  0.3453,  0.5015, -1.4360],\n",
       "                         [ 1.1610,  1.8588, -1.5224,  0.7069],\n",
       "                         [ 0.1793,  0.7413,  0.7598,  1.2943]],\n",
       "                \n",
       "                        [[-0.6458,  0.3453,  0.5015, -1.4360],\n",
       "                         [ 1.1610,  1.8588, -1.5224,  0.7069],\n",
       "                         [ 0.1793,  0.7413,  0.7598,  1.2943]]])"
      ]
     },
     "execution_count": 20,
     "metadata": {},
     "output_type": "execute_result"
    }
   ],
   "source": [
    "t_stack = FastTreeValue.func(subside=True)(torch.stack)\n",
    "\n",
    "t_stack(trees)"
   ]
  },
  {
   "cell_type": "code",
   "execution_count": 21,
   "id": "f8b3f415",
   "metadata": {
    "execution": {
     "iopub.execute_input": "2023-03-06T17:22:41.993304Z",
     "iopub.status.busy": "2023-03-06T17:22:41.992371Z",
     "iopub.status.idle": "2023-03-06T17:22:44.635194Z",
     "shell.execute_reply": "2023-03-06T17:22:44.634519Z"
    }
   },
   "outputs": [
    {
     "name": "stdout",
     "output_type": "stream",
     "text": [
      "32.5 µs ± 74.3 ns per loop (mean ± std. dev. of 7 runs, 10,000 loops each)\n"
     ]
    }
   ],
   "source": [
    "%timeit t_stack(trees)"
   ]
  },
  {
   "cell_type": "code",
   "execution_count": 22,
   "id": "94b56771",
   "metadata": {
    "execution": {
     "iopub.execute_input": "2023-03-06T17:22:44.638084Z",
     "iopub.status.busy": "2023-03-06T17:22:44.637546Z",
     "iopub.status.idle": "2023-03-06T17:22:44.645497Z",
     "shell.execute_reply": "2023-03-06T17:22:44.644909Z"
    }
   },
   "outputs": [
    {
     "data": {
      "text/plain": [
       "<FastTreeValue 0x7f221db55460>\n",
       "├── 'a' --> tensor([[ 1.2228e-03,  4.7870e-01, -6.9829e-01],\n",
       "│                   [-5.2456e-01, -1.2414e+00,  1.0046e+00],\n",
       "│                   [ 1.2228e-03,  4.7870e-01, -6.9829e-01],\n",
       "│                   [-5.2456e-01, -1.2414e+00,  1.0046e+00],\n",
       "│                   [ 1.2228e-03,  4.7870e-01, -6.9829e-01],\n",
       "│                   [-5.2456e-01, -1.2414e+00,  1.0046e+00],\n",
       "│                   [ 1.2228e-03,  4.7870e-01, -6.9829e-01],\n",
       "│                   [-5.2456e-01, -1.2414e+00,  1.0046e+00],\n",
       "│                   [ 1.2228e-03,  4.7870e-01, -6.9829e-01],\n",
       "│                   [-5.2456e-01, -1.2414e+00,  1.0046e+00],\n",
       "│                   [ 1.2228e-03,  4.7870e-01, -6.9829e-01],\n",
       "│                   [-5.2456e-01, -1.2414e+00,  1.0046e+00],\n",
       "│                   [ 1.2228e-03,  4.7870e-01, -6.9829e-01],\n",
       "│                   [-5.2456e-01, -1.2414e+00,  1.0046e+00],\n",
       "│                   [ 1.2228e-03,  4.7870e-01, -6.9829e-01],\n",
       "│                   [-5.2456e-01, -1.2414e+00,  1.0046e+00]])\n",
       "└── 'x' --> <FastTreeValue 0x7f21f406feb0>\n",
       "    └── 'c' --> tensor([[-0.6458,  0.3453,  0.5015, -1.4360],\n",
       "                        [ 1.1610,  1.8588, -1.5224,  0.7069],\n",
       "                        [ 0.1793,  0.7413,  0.7598,  1.2943],\n",
       "                        [-0.6458,  0.3453,  0.5015, -1.4360],\n",
       "                        [ 1.1610,  1.8588, -1.5224,  0.7069],\n",
       "                        [ 0.1793,  0.7413,  0.7598,  1.2943],\n",
       "                        [-0.6458,  0.3453,  0.5015, -1.4360],\n",
       "                        [ 1.1610,  1.8588, -1.5224,  0.7069],\n",
       "                        [ 0.1793,  0.7413,  0.7598,  1.2943],\n",
       "                        [-0.6458,  0.3453,  0.5015, -1.4360],\n",
       "                        [ 1.1610,  1.8588, -1.5224,  0.7069],\n",
       "                        [ 0.1793,  0.7413,  0.7598,  1.2943],\n",
       "                        [-0.6458,  0.3453,  0.5015, -1.4360],\n",
       "                        [ 1.1610,  1.8588, -1.5224,  0.7069],\n",
       "                        [ 0.1793,  0.7413,  0.7598,  1.2943],\n",
       "                        [-0.6458,  0.3453,  0.5015, -1.4360],\n",
       "                        [ 1.1610,  1.8588, -1.5224,  0.7069],\n",
       "                        [ 0.1793,  0.7413,  0.7598,  1.2943],\n",
       "                        [-0.6458,  0.3453,  0.5015, -1.4360],\n",
       "                        [ 1.1610,  1.8588, -1.5224,  0.7069],\n",
       "                        [ 0.1793,  0.7413,  0.7598,  1.2943],\n",
       "                        [-0.6458,  0.3453,  0.5015, -1.4360],\n",
       "                        [ 1.1610,  1.8588, -1.5224,  0.7069],\n",
       "                        [ 0.1793,  0.7413,  0.7598,  1.2943]])"
      ]
     },
     "execution_count": 22,
     "metadata": {},
     "output_type": "execute_result"
    }
   ],
   "source": [
    "t_cat = FastTreeValue.func(subside=True)(torch.cat)\n",
    "\n",
    "t_cat(trees)"
   ]
  },
  {
   "cell_type": "code",
   "execution_count": 23,
   "id": "5e9c06a6",
   "metadata": {
    "execution": {
     "iopub.execute_input": "2023-03-06T17:22:44.648119Z",
     "iopub.status.busy": "2023-03-06T17:22:44.647897Z",
     "iopub.status.idle": "2023-03-06T17:22:47.099983Z",
     "shell.execute_reply": "2023-03-06T17:22:47.099319Z"
    }
   },
   "outputs": [
    {
     "name": "stdout",
     "output_type": "stream",
     "text": [
      "30.1 µs ± 56.7 ns per loop (mean ± std. dev. of 7 runs, 10,000 loops each)\n"
     ]
    }
   ],
   "source": [
    "%timeit t_cat(trees)"
   ]
  },
  {
   "cell_type": "code",
   "execution_count": 24,
   "id": "a3ab5c8f",
   "metadata": {
    "execution": {
     "iopub.execute_input": "2023-03-06T17:22:47.102903Z",
     "iopub.status.busy": "2023-03-06T17:22:47.102438Z",
     "iopub.status.idle": "2023-03-06T17:22:51.889614Z",
     "shell.execute_reply": "2023-03-06T17:22:51.888853Z"
    }
   },
   "outputs": [
    {
     "name": "stdout",
     "output_type": "stream",
     "text": [
      "58.9 µs ± 76.7 ns per loop (mean ± std. dev. of 7 runs, 10,000 loops each)\n"
     ]
    }
   ],
   "source": [
    "t_split = FastTreeValue.func(rise=True)(torch.split)\n",
    "tree = FastTreeValue({\n",
    "    'obs': torch.randn(8, 4, 84, 84),\n",
    "    'action': torch.randint(0, 6, size=(8, 1,)),\n",
    "    'reward': torch.rand(8, 1),\n",
    "})\n",
    "\n",
    "%timeit t_split(tree, 1)"
   ]
  },
  {
   "cell_type": "markdown",
   "id": "31c3ec0b",
   "metadata": {},
   "source": [
    "### Performance of Tianshou Batch"
   ]
  },
  {
   "cell_type": "code",
   "execution_count": 25,
   "id": "9ead828a",
   "metadata": {
    "execution": {
     "iopub.execute_input": "2023-03-06T17:22:51.892702Z",
     "iopub.status.busy": "2023-03-06T17:22:51.892340Z",
     "iopub.status.idle": "2023-03-06T17:22:51.900218Z",
     "shell.execute_reply": "2023-03-06T17:22:51.899621Z"
    }
   },
   "outputs": [
    {
     "data": {
      "text/plain": [
       "Batch(\n",
       "    x: Batch(\n",
       "           c: tensor([[[-0.6458,  0.3453,  0.5015, -1.4360],\n",
       "                       [ 1.1610,  1.8588, -1.5224,  0.7069],\n",
       "                       [ 0.1793,  0.7413,  0.7598,  1.2943]],\n",
       "              \n",
       "                      [[-0.6458,  0.3453,  0.5015, -1.4360],\n",
       "                       [ 1.1610,  1.8588, -1.5224,  0.7069],\n",
       "                       [ 0.1793,  0.7413,  0.7598,  1.2943]],\n",
       "              \n",
       "                      [[-0.6458,  0.3453,  0.5015, -1.4360],\n",
       "                       [ 1.1610,  1.8588, -1.5224,  0.7069],\n",
       "                       [ 0.1793,  0.7413,  0.7598,  1.2943]],\n",
       "              \n",
       "                      [[-0.6458,  0.3453,  0.5015, -1.4360],\n",
       "                       [ 1.1610,  1.8588, -1.5224,  0.7069],\n",
       "                       [ 0.1793,  0.7413,  0.7598,  1.2943]],\n",
       "              \n",
       "                      [[-0.6458,  0.3453,  0.5015, -1.4360],\n",
       "                       [ 1.1610,  1.8588, -1.5224,  0.7069],\n",
       "                       [ 0.1793,  0.7413,  0.7598,  1.2943]],\n",
       "              \n",
       "                      [[-0.6458,  0.3453,  0.5015, -1.4360],\n",
       "                       [ 1.1610,  1.8588, -1.5224,  0.7069],\n",
       "                       [ 0.1793,  0.7413,  0.7598,  1.2943]],\n",
       "              \n",
       "                      [[-0.6458,  0.3453,  0.5015, -1.4360],\n",
       "                       [ 1.1610,  1.8588, -1.5224,  0.7069],\n",
       "                       [ 0.1793,  0.7413,  0.7598,  1.2943]],\n",
       "              \n",
       "                      [[-0.6458,  0.3453,  0.5015, -1.4360],\n",
       "                       [ 1.1610,  1.8588, -1.5224,  0.7069],\n",
       "                       [ 0.1793,  0.7413,  0.7598,  1.2943]]]),\n",
       "       ),\n",
       "    a: tensor([[[ 1.2228e-03,  4.7870e-01, -6.9829e-01],\n",
       "                [-5.2456e-01, -1.2414e+00,  1.0046e+00]],\n",
       "       \n",
       "               [[ 1.2228e-03,  4.7870e-01, -6.9829e-01],\n",
       "                [-5.2456e-01, -1.2414e+00,  1.0046e+00]],\n",
       "       \n",
       "               [[ 1.2228e-03,  4.7870e-01, -6.9829e-01],\n",
       "                [-5.2456e-01, -1.2414e+00,  1.0046e+00]],\n",
       "       \n",
       "               [[ 1.2228e-03,  4.7870e-01, -6.9829e-01],\n",
       "                [-5.2456e-01, -1.2414e+00,  1.0046e+00]],\n",
       "       \n",
       "               [[ 1.2228e-03,  4.7870e-01, -6.9829e-01],\n",
       "                [-5.2456e-01, -1.2414e+00,  1.0046e+00]],\n",
       "       \n",
       "               [[ 1.2228e-03,  4.7870e-01, -6.9829e-01],\n",
       "                [-5.2456e-01, -1.2414e+00,  1.0046e+00]],\n",
       "       \n",
       "               [[ 1.2228e-03,  4.7870e-01, -6.9829e-01],\n",
       "                [-5.2456e-01, -1.2414e+00,  1.0046e+00]],\n",
       "       \n",
       "               [[ 1.2228e-03,  4.7870e-01, -6.9829e-01],\n",
       "                [-5.2456e-01, -1.2414e+00,  1.0046e+00]]]),\n",
       ")"
      ]
     },
     "execution_count": 25,
     "metadata": {},
     "output_type": "execute_result"
    }
   ],
   "source": [
    "batches = [Batch(**_TREE_DATA_2) for _ in range(8)]\n",
    "\n",
    "Batch.stack(batches)"
   ]
  },
  {
   "cell_type": "code",
   "execution_count": 26,
   "id": "ec9037a3",
   "metadata": {
    "execution": {
     "iopub.execute_input": "2023-03-06T17:22:51.902929Z",
     "iopub.status.busy": "2023-03-06T17:22:51.902599Z",
     "iopub.status.idle": "2023-03-06T17:22:58.229869Z",
     "shell.execute_reply": "2023-03-06T17:22:58.229159Z"
    }
   },
   "outputs": [
    {
     "name": "stdout",
     "output_type": "stream",
     "text": [
      "77.9 µs ± 135 ns per loop (mean ± std. dev. of 7 runs, 10,000 loops each)\n"
     ]
    }
   ],
   "source": [
    "%timeit Batch.stack(batches)"
   ]
  },
  {
   "cell_type": "code",
   "execution_count": 27,
   "id": "cb8ab77e",
   "metadata": {
    "execution": {
     "iopub.execute_input": "2023-03-06T17:22:58.232869Z",
     "iopub.status.busy": "2023-03-06T17:22:58.232498Z",
     "iopub.status.idle": "2023-03-06T17:22:58.240812Z",
     "shell.execute_reply": "2023-03-06T17:22:58.240238Z"
    }
   },
   "outputs": [
    {
     "data": {
      "text/plain": [
       "Batch(\n",
       "    x: Batch(\n",
       "           c: tensor([[-0.6458,  0.3453,  0.5015, -1.4360],\n",
       "                      [ 1.1610,  1.8588, -1.5224,  0.7069],\n",
       "                      [ 0.1793,  0.7413,  0.7598,  1.2943],\n",
       "                      [-0.6458,  0.3453,  0.5015, -1.4360],\n",
       "                      [ 1.1610,  1.8588, -1.5224,  0.7069],\n",
       "                      [ 0.1793,  0.7413,  0.7598,  1.2943],\n",
       "                      [-0.6458,  0.3453,  0.5015, -1.4360],\n",
       "                      [ 1.1610,  1.8588, -1.5224,  0.7069],\n",
       "                      [ 0.1793,  0.7413,  0.7598,  1.2943],\n",
       "                      [-0.6458,  0.3453,  0.5015, -1.4360],\n",
       "                      [ 1.1610,  1.8588, -1.5224,  0.7069],\n",
       "                      [ 0.1793,  0.7413,  0.7598,  1.2943],\n",
       "                      [-0.6458,  0.3453,  0.5015, -1.4360],\n",
       "                      [ 1.1610,  1.8588, -1.5224,  0.7069],\n",
       "                      [ 0.1793,  0.7413,  0.7598,  1.2943],\n",
       "                      [-0.6458,  0.3453,  0.5015, -1.4360],\n",
       "                      [ 1.1610,  1.8588, -1.5224,  0.7069],\n",
       "                      [ 0.1793,  0.7413,  0.7598,  1.2943],\n",
       "                      [-0.6458,  0.3453,  0.5015, -1.4360],\n",
       "                      [ 1.1610,  1.8588, -1.5224,  0.7069],\n",
       "                      [ 0.1793,  0.7413,  0.7598,  1.2943],\n",
       "                      [-0.6458,  0.3453,  0.5015, -1.4360],\n",
       "                      [ 1.1610,  1.8588, -1.5224,  0.7069],\n",
       "                      [ 0.1793,  0.7413,  0.7598,  1.2943]]),\n",
       "       ),\n",
       "    a: tensor([[ 1.2228e-03,  4.7870e-01, -6.9829e-01],\n",
       "               [-5.2456e-01, -1.2414e+00,  1.0046e+00],\n",
       "               [ 1.2228e-03,  4.7870e-01, -6.9829e-01],\n",
       "               [-5.2456e-01, -1.2414e+00,  1.0046e+00],\n",
       "               [ 1.2228e-03,  4.7870e-01, -6.9829e-01],\n",
       "               [-5.2456e-01, -1.2414e+00,  1.0046e+00],\n",
       "               [ 1.2228e-03,  4.7870e-01, -6.9829e-01],\n",
       "               [-5.2456e-01, -1.2414e+00,  1.0046e+00],\n",
       "               [ 1.2228e-03,  4.7870e-01, -6.9829e-01],\n",
       "               [-5.2456e-01, -1.2414e+00,  1.0046e+00],\n",
       "               [ 1.2228e-03,  4.7870e-01, -6.9829e-01],\n",
       "               [-5.2456e-01, -1.2414e+00,  1.0046e+00],\n",
       "               [ 1.2228e-03,  4.7870e-01, -6.9829e-01],\n",
       "               [-5.2456e-01, -1.2414e+00,  1.0046e+00],\n",
       "               [ 1.2228e-03,  4.7870e-01, -6.9829e-01],\n",
       "               [-5.2456e-01, -1.2414e+00,  1.0046e+00]]),\n",
       ")"
      ]
     },
     "execution_count": 27,
     "metadata": {},
     "output_type": "execute_result"
    }
   ],
   "source": [
    "Batch.cat(batches)"
   ]
  },
  {
   "cell_type": "code",
   "execution_count": 28,
   "id": "18dfb045",
   "metadata": {
    "execution": {
     "iopub.execute_input": "2023-03-06T17:22:58.243475Z",
     "iopub.status.busy": "2023-03-06T17:22:58.243155Z",
     "iopub.status.idle": "2023-03-06T17:23:09.803245Z",
     "shell.execute_reply": "2023-03-06T17:23:09.802532Z"
    }
   },
   "outputs": [
    {
     "name": "stdout",
     "output_type": "stream",
     "text": [
      "142 µs ± 1.15 µs per loop (mean ± std. dev. of 7 runs, 10,000 loops each)\n"
     ]
    }
   ],
   "source": [
    "%timeit Batch.cat(batches)"
   ]
  },
  {
   "cell_type": "code",
   "execution_count": 29,
   "id": "c6688e51",
   "metadata": {
    "execution": {
     "iopub.execute_input": "2023-03-06T17:23:09.806081Z",
     "iopub.status.busy": "2023-03-06T17:23:09.805726Z",
     "iopub.status.idle": "2023-03-06T17:23:12.371124Z",
     "shell.execute_reply": "2023-03-06T17:23:12.370447Z"
    }
   },
   "outputs": [
    {
     "name": "stdout",
     "output_type": "stream",
     "text": [
      "315 µs ± 449 ns per loop (mean ± std. dev. of 7 runs, 1,000 loops each)\n"
     ]
    }
   ],
   "source": [
    "batch = Batch({\n",
    "    'obs': torch.randn(8, 4, 84, 84),\n",
    "    'action': torch.randint(0, 6, size=(8, 1,)),\n",
    "    'reward': torch.rand(8, 1)}\n",
    ")\n",
    "\n",
    "%timeit list(Batch.split(batch, 1, shuffle=False, merge_last=True))"
   ]
  },
  {
   "cell_type": "code",
   "execution_count": null,
   "id": "2539fbd9",
   "metadata": {},
   "outputs": [],
   "source": []
  }
 ],
 "metadata": {
  "kernelspec": {
   "display_name": "Python 3 (ipykernel)",
   "language": "python",
   "name": "python3"
  },
  "language_info": {
   "codemirror_mode": {
    "name": "ipython",
    "version": 3
   },
   "file_extension": ".py",
   "mimetype": "text/x-python",
   "name": "python",
   "nbconvert_exporter": "python",
   "pygments_lexer": "ipython3",
   "version": "3.8.16"
  }
 },
 "nbformat": 4,
 "nbformat_minor": 5
}
