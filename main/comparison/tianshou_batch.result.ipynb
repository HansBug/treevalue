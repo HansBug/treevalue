{
 "cells": [
  {
   "cell_type": "markdown",
   "id": "9d39d946",
   "metadata": {},
   "source": [
    "# Comparison Between TreeValue and Tianshou Batch"
   ]
  },
  {
   "cell_type": "markdown",
   "id": "3c6db2d4",
   "metadata": {},
   "source": [
    "In this section, we will take a look at the feature and performance of the [Tianshou Batch](https://github.com/thu-ml/tianshou) library, which is developed by Tsinghua Machine Learning Group."
   ]
  },
  {
   "cell_type": "markdown",
   "id": "069361b0",
   "metadata": {},
   "source": [
    "Before starting the comparison, let us define some thing."
   ]
  },
  {
   "cell_type": "code",
   "execution_count": 1,
   "id": "06fc8d26",
   "metadata": {
    "execution": {
     "iopub.execute_input": "2023-02-24T08:45:37.636480Z",
     "iopub.status.busy": "2023-02-24T08:45:37.636190Z",
     "iopub.status.idle": "2023-02-24T08:45:38.888805Z",
     "shell.execute_reply": "2023-02-24T08:45:38.887553Z"
    }
   },
   "outputs": [
    {
     "name": "stderr",
     "output_type": "stream",
     "text": [
      "/opt/hostedtoolcache/Python/3.8.16/x64/lib/python3.8/site-packages/tqdm/auto.py:22: TqdmWarning: IProgress not found. Please update jupyter and ipywidgets. See https://ipywidgets.readthedocs.io/en/stable/user_install.html\n",
      "  from .autonotebook import tqdm as notebook_tqdm\n"
     ]
    }
   ],
   "source": [
    "import torch \n",
    "\n",
    "_TREE_DATA_1 = {'a': 1, 'b': 2, 'x': {'c': 3, 'd': 4}}\n",
    "_TREE_DATA_2 = {\n",
    "    'a': torch.randn(2, 3), \n",
    "    'x': {\n",
    "        'c': torch.randn(3, 4)\n",
    "    },\n",
    "}\n",
    "_TREE_DATA_3 = {\n",
    "    'obs': torch.randn(4, 84, 84),\n",
    "    'action': torch.randint(0, 6, size=(1,)),\n",
    "    'reward': torch.rand(1),\n",
    "}"
   ]
  },
  {
   "cell_type": "markdown",
   "id": "83461b25",
   "metadata": {},
   "source": [
    "## Read and Write Operation"
   ]
  },
  {
   "cell_type": "markdown",
   "id": "067b3f73",
   "metadata": {},
   "source": [
    "Reading and writing are the two most common operations in the tree data structure based on the data model (TreeValue and Tianshou Batch both belong to this type), so this section will compare the reading and writing performance of these two libraries."
   ]
  },
  {
   "cell_type": "markdown",
   "id": "5d09a5b7",
   "metadata": {},
   "source": [
    "### TreeValue's Get and Set"
   ]
  },
  {
   "cell_type": "code",
   "execution_count": 2,
   "id": "9519c4bb",
   "metadata": {
    "execution": {
     "iopub.execute_input": "2023-02-24T08:45:38.893382Z",
     "iopub.status.busy": "2023-02-24T08:45:38.893017Z",
     "iopub.status.idle": "2023-02-24T08:45:38.937942Z",
     "shell.execute_reply": "2023-02-24T08:45:38.936929Z"
    }
   },
   "outputs": [],
   "source": [
    "from treevalue import FastTreeValue\n",
    "\n",
    "t = FastTreeValue(_TREE_DATA_2)"
   ]
  },
  {
   "cell_type": "code",
   "execution_count": 3,
   "id": "11c37677",
   "metadata": {
    "execution": {
     "iopub.execute_input": "2023-02-24T08:45:38.941914Z",
     "iopub.status.busy": "2023-02-24T08:45:38.941612Z",
     "iopub.status.idle": "2023-02-24T08:45:38.954193Z",
     "shell.execute_reply": "2023-02-24T08:45:38.953222Z"
    }
   },
   "outputs": [
    {
     "data": {
      "text/plain": [
       "<FastTreeValue 0x7f1dd8d0c190>\n",
       "├── 'a' --> tensor([[-1.3698,  0.6199,  1.1989],\n",
       "│                   [-1.2224,  0.7763,  0.3758]])\n",
       "└── 'x' --> <FastTreeValue 0x7f1dd8d0ca00>\n",
       "    └── 'c' --> tensor([[ 0.5072,  0.3080,  0.2307, -0.4351],\n",
       "                        [ 0.2413, -0.4560, -0.9637,  0.7452],\n",
       "                        [-0.2740,  0.2297,  2.2098,  1.0574]])"
      ]
     },
     "execution_count": 3,
     "metadata": {},
     "output_type": "execute_result"
    }
   ],
   "source": [
    "t"
   ]
  },
  {
   "cell_type": "code",
   "execution_count": 4,
   "id": "fd70b0b9",
   "metadata": {
    "execution": {
     "iopub.execute_input": "2023-02-24T08:45:38.957523Z",
     "iopub.status.busy": "2023-02-24T08:45:38.957232Z",
     "iopub.status.idle": "2023-02-24T08:45:38.965123Z",
     "shell.execute_reply": "2023-02-24T08:45:38.964146Z"
    }
   },
   "outputs": [
    {
     "data": {
      "text/plain": [
       "tensor([[-1.3698,  0.6199,  1.1989],\n",
       "        [-1.2224,  0.7763,  0.3758]])"
      ]
     },
     "execution_count": 4,
     "metadata": {},
     "output_type": "execute_result"
    }
   ],
   "source": [
    "t.a"
   ]
  },
  {
   "cell_type": "code",
   "execution_count": 5,
   "id": "c18197bd",
   "metadata": {
    "execution": {
     "iopub.execute_input": "2023-02-24T08:45:38.969118Z",
     "iopub.status.busy": "2023-02-24T08:45:38.968426Z",
     "iopub.status.idle": "2023-02-24T08:45:45.407528Z",
     "shell.execute_reply": "2023-02-24T08:45:45.406302Z"
    }
   },
   "outputs": [
    {
     "name": "stdout",
     "output_type": "stream",
     "text": [
      "79.6 ns ± 0.494 ns per loop (mean ± std. dev. of 7 runs, 10,000,000 loops each)\n"
     ]
    }
   ],
   "source": [
    "%timeit t.a"
   ]
  },
  {
   "cell_type": "code",
   "execution_count": 6,
   "id": "bd52f867",
   "metadata": {
    "execution": {
     "iopub.execute_input": "2023-02-24T08:45:45.411583Z",
     "iopub.status.busy": "2023-02-24T08:45:45.411277Z",
     "iopub.status.idle": "2023-02-24T08:45:45.420352Z",
     "shell.execute_reply": "2023-02-24T08:45:45.419345Z"
    }
   },
   "outputs": [
    {
     "data": {
      "text/plain": [
       "<FastTreeValue 0x7f1dd8d0c190>\n",
       "├── 'a' --> tensor([[-0.5738,  0.5888, -0.4699],\n",
       "│                   [ 1.9128, -0.2771, -0.2830]])\n",
       "└── 'x' --> <FastTreeValue 0x7f1dd8d0ca00>\n",
       "    └── 'c' --> tensor([[ 0.5072,  0.3080,  0.2307, -0.4351],\n",
       "                        [ 0.2413, -0.4560, -0.9637,  0.7452],\n",
       "                        [-0.2740,  0.2297,  2.2098,  1.0574]])"
      ]
     },
     "execution_count": 6,
     "metadata": {},
     "output_type": "execute_result"
    }
   ],
   "source": [
    "new_value = torch.randn(2, 3)\n",
    "t.a = new_value\n",
    "\n",
    "t"
   ]
  },
  {
   "cell_type": "code",
   "execution_count": 7,
   "id": "bbe04d1c",
   "metadata": {
    "execution": {
     "iopub.execute_input": "2023-02-24T08:45:45.424808Z",
     "iopub.status.busy": "2023-02-24T08:45:45.424040Z",
     "iopub.status.idle": "2023-02-24T08:45:51.560346Z",
     "shell.execute_reply": "2023-02-24T08:45:51.559286Z"
    }
   },
   "outputs": [
    {
     "name": "stdout",
     "output_type": "stream",
     "text": [
      "75.6 ns ± 0.687 ns per loop (mean ± std. dev. of 7 runs, 10,000,000 loops each)\n"
     ]
    }
   ],
   "source": [
    "%timeit t.a = new_value"
   ]
  },
  {
   "cell_type": "markdown",
   "id": "48c49731",
   "metadata": {},
   "source": [
    "### Tianshou Batch's Get and Set"
   ]
  },
  {
   "cell_type": "code",
   "execution_count": 8,
   "id": "f1bb14c1",
   "metadata": {
    "execution": {
     "iopub.execute_input": "2023-02-24T08:45:51.564401Z",
     "iopub.status.busy": "2023-02-24T08:45:51.563848Z",
     "iopub.status.idle": "2023-02-24T08:45:52.022342Z",
     "shell.execute_reply": "2023-02-24T08:45:52.021265Z"
    }
   },
   "outputs": [],
   "source": [
    "from tianshou.data import Batch\n",
    "\n",
    "b = Batch(**_TREE_DATA_2)"
   ]
  },
  {
   "cell_type": "code",
   "execution_count": 9,
   "id": "cb0777c3",
   "metadata": {
    "execution": {
     "iopub.execute_input": "2023-02-24T08:45:52.026358Z",
     "iopub.status.busy": "2023-02-24T08:45:52.025911Z",
     "iopub.status.idle": "2023-02-24T08:45:52.034700Z",
     "shell.execute_reply": "2023-02-24T08:45:52.033754Z"
    }
   },
   "outputs": [
    {
     "data": {
      "text/plain": [
       "Batch(\n",
       "    a: tensor([[-1.3698,  0.6199,  1.1989],\n",
       "               [-1.2224,  0.7763,  0.3758]]),\n",
       "    x: Batch(\n",
       "           c: tensor([[ 0.5072,  0.3080,  0.2307, -0.4351],\n",
       "                      [ 0.2413, -0.4560, -0.9637,  0.7452],\n",
       "                      [-0.2740,  0.2297,  2.2098,  1.0574]]),\n",
       "       ),\n",
       ")"
      ]
     },
     "execution_count": 9,
     "metadata": {},
     "output_type": "execute_result"
    }
   ],
   "source": [
    "b"
   ]
  },
  {
   "cell_type": "code",
   "execution_count": 10,
   "id": "43ef8ea3",
   "metadata": {
    "execution": {
     "iopub.execute_input": "2023-02-24T08:45:52.038460Z",
     "iopub.status.busy": "2023-02-24T08:45:52.038157Z",
     "iopub.status.idle": "2023-02-24T08:45:52.045917Z",
     "shell.execute_reply": "2023-02-24T08:45:52.044942Z"
    }
   },
   "outputs": [
    {
     "data": {
      "text/plain": [
       "tensor([[-1.3698,  0.6199,  1.1989],\n",
       "        [-1.2224,  0.7763,  0.3758]])"
      ]
     },
     "execution_count": 10,
     "metadata": {},
     "output_type": "execute_result"
    }
   ],
   "source": [
    "b.a"
   ]
  },
  {
   "cell_type": "code",
   "execution_count": 11,
   "id": "b785ab72",
   "metadata": {
    "execution": {
     "iopub.execute_input": "2023-02-24T08:45:52.049480Z",
     "iopub.status.busy": "2023-02-24T08:45:52.049180Z",
     "iopub.status.idle": "2023-02-24T08:45:57.361535Z",
     "shell.execute_reply": "2023-02-24T08:45:57.360471Z"
    }
   },
   "outputs": [
    {
     "name": "stdout",
     "output_type": "stream",
     "text": [
      "65.4 ns ± 0.411 ns per loop (mean ± std. dev. of 7 runs, 10,000,000 loops each)\n"
     ]
    }
   ],
   "source": [
    "%timeit b.a"
   ]
  },
  {
   "cell_type": "code",
   "execution_count": 12,
   "id": "ad54dc69",
   "metadata": {
    "execution": {
     "iopub.execute_input": "2023-02-24T08:45:57.365214Z",
     "iopub.status.busy": "2023-02-24T08:45:57.364735Z",
     "iopub.status.idle": "2023-02-24T08:45:57.372854Z",
     "shell.execute_reply": "2023-02-24T08:45:57.371863Z"
    }
   },
   "outputs": [
    {
     "data": {
      "text/plain": [
       "Batch(\n",
       "    a: tensor([[ 0.1392,  0.3793, -0.9528],\n",
       "               [-0.3242,  0.0473,  0.3563]]),\n",
       "    x: Batch(\n",
       "           c: tensor([[ 0.5072,  0.3080,  0.2307, -0.4351],\n",
       "                      [ 0.2413, -0.4560, -0.9637,  0.7452],\n",
       "                      [-0.2740,  0.2297,  2.2098,  1.0574]]),\n",
       "       ),\n",
       ")"
      ]
     },
     "execution_count": 12,
     "metadata": {},
     "output_type": "execute_result"
    }
   ],
   "source": [
    "new_value = torch.randn(2, 3)\n",
    "b.a = new_value\n",
    "\n",
    "b"
   ]
  },
  {
   "cell_type": "code",
   "execution_count": 13,
   "id": "29b1d0bf",
   "metadata": {
    "execution": {
     "iopub.execute_input": "2023-02-24T08:45:57.376597Z",
     "iopub.status.busy": "2023-02-24T08:45:57.376243Z",
     "iopub.status.idle": "2023-02-24T08:46:02.457534Z",
     "shell.execute_reply": "2023-02-24T08:46:02.456417Z"
    }
   },
   "outputs": [
    {
     "name": "stdout",
     "output_type": "stream",
     "text": [
      "626 ns ± 3.03 ns per loop (mean ± std. dev. of 7 runs, 1,000,000 loops each)\n"
     ]
    }
   ],
   "source": [
    "%timeit b.a = new_value"
   ]
  },
  {
   "cell_type": "markdown",
   "id": "b61ad1d0",
   "metadata": {},
   "source": [
    "## Initialization"
   ]
  },
  {
   "cell_type": "markdown",
   "id": "d70f0d54",
   "metadata": {},
   "source": [
    "### TreeValue's Initialization"
   ]
  },
  {
   "cell_type": "code",
   "execution_count": 14,
   "id": "d32a679b",
   "metadata": {
    "execution": {
     "iopub.execute_input": "2023-02-24T08:46:02.461394Z",
     "iopub.status.busy": "2023-02-24T08:46:02.460930Z",
     "iopub.status.idle": "2023-02-24T08:46:10.747101Z",
     "shell.execute_reply": "2023-02-24T08:46:10.745981Z"
    }
   },
   "outputs": [
    {
     "name": "stdout",
     "output_type": "stream",
     "text": [
      "1.02 µs ± 7.8 ns per loop (mean ± std. dev. of 7 runs, 1,000,000 loops each)\n"
     ]
    }
   ],
   "source": [
    "%timeit FastTreeValue(_TREE_DATA_1)"
   ]
  },
  {
   "cell_type": "markdown",
   "id": "24f3707b",
   "metadata": {},
   "source": [
    "### Tianshou Batch's Initialization"
   ]
  },
  {
   "cell_type": "code",
   "execution_count": 15,
   "id": "ac3958df",
   "metadata": {
    "execution": {
     "iopub.execute_input": "2023-02-24T08:46:10.750940Z",
     "iopub.status.busy": "2023-02-24T08:46:10.750472Z",
     "iopub.status.idle": "2023-02-24T08:46:21.979921Z",
     "shell.execute_reply": "2023-02-24T08:46:21.978861Z"
    }
   },
   "outputs": [
    {
     "name": "stdout",
     "output_type": "stream",
     "text": [
      "13.8 µs ± 102 ns per loop (mean ± std. dev. of 7 runs, 100,000 loops each)\n"
     ]
    }
   ],
   "source": [
    "%timeit Batch(**_TREE_DATA_1)"
   ]
  },
  {
   "cell_type": "markdown",
   "id": "1ab82e2d",
   "metadata": {},
   "source": [
    "## Deep Copy Operation"
   ]
  },
  {
   "cell_type": "code",
   "execution_count": 16,
   "id": "210a9442",
   "metadata": {
    "execution": {
     "iopub.execute_input": "2023-02-24T08:46:21.983977Z",
     "iopub.status.busy": "2023-02-24T08:46:21.983646Z",
     "iopub.status.idle": "2023-02-24T08:46:21.990091Z",
     "shell.execute_reply": "2023-02-24T08:46:21.989058Z"
    }
   },
   "outputs": [],
   "source": [
    "import copy"
   ]
  },
  {
   "cell_type": "markdown",
   "id": "5a736274",
   "metadata": {},
   "source": [
    "### Deep Copy of TreeValue"
   ]
  },
  {
   "cell_type": "code",
   "execution_count": 17,
   "id": "f9bcadd6",
   "metadata": {
    "execution": {
     "iopub.execute_input": "2023-02-24T08:46:21.995165Z",
     "iopub.status.busy": "2023-02-24T08:46:21.993881Z",
     "iopub.status.idle": "2023-02-24T08:46:24.429820Z",
     "shell.execute_reply": "2023-02-24T08:46:24.428899Z"
    }
   },
   "outputs": [
    {
     "name": "stdout",
     "output_type": "stream",
     "text": [
      "303 µs ± 21.2 µs per loop (mean ± std. dev. of 7 runs, 1,000 loops each)\n"
     ]
    }
   ],
   "source": [
    "t3 = FastTreeValue(_TREE_DATA_3)\n",
    "%timeit copy.deepcopy(t3)"
   ]
  },
  {
   "cell_type": "markdown",
   "id": "bf8be7ea",
   "metadata": {},
   "source": [
    "### Deep Copy of Tianshou Batch"
   ]
  },
  {
   "cell_type": "code",
   "execution_count": 18,
   "id": "91998e6f",
   "metadata": {
    "execution": {
     "iopub.execute_input": "2023-02-24T08:46:24.433620Z",
     "iopub.status.busy": "2023-02-24T08:46:24.433126Z",
     "iopub.status.idle": "2023-02-24T08:46:26.634858Z",
     "shell.execute_reply": "2023-02-24T08:46:26.633994Z"
    }
   },
   "outputs": [
    {
     "name": "stdout",
     "output_type": "stream",
     "text": [
      "269 µs ± 5.35 µs per loop (mean ± std. dev. of 7 runs, 1,000 loops each)\n"
     ]
    }
   ],
   "source": [
    "b3 = Batch(**_TREE_DATA_3)\n",
    "%timeit copy.deepcopy(b3)"
   ]
  },
  {
   "cell_type": "markdown",
   "id": "223162fb",
   "metadata": {},
   "source": [
    "## Stack, Concat and Split Operation"
   ]
  },
  {
   "cell_type": "markdown",
   "id": "85fa4a73",
   "metadata": {},
   "source": [
    "### Performance of TreeValue"
   ]
  },
  {
   "cell_type": "code",
   "execution_count": 19,
   "id": "a0c2b697",
   "metadata": {
    "execution": {
     "iopub.execute_input": "2023-02-24T08:46:26.638823Z",
     "iopub.status.busy": "2023-02-24T08:46:26.638009Z",
     "iopub.status.idle": "2023-02-24T08:46:26.644124Z",
     "shell.execute_reply": "2023-02-24T08:46:26.643045Z"
    }
   },
   "outputs": [],
   "source": [
    "trees = [FastTreeValue(_TREE_DATA_2) for _ in range(8)]"
   ]
  },
  {
   "cell_type": "code",
   "execution_count": 20,
   "id": "017ea5a5",
   "metadata": {
    "execution": {
     "iopub.execute_input": "2023-02-24T08:46:26.647971Z",
     "iopub.status.busy": "2023-02-24T08:46:26.647679Z",
     "iopub.status.idle": "2023-02-24T08:46:26.660061Z",
     "shell.execute_reply": "2023-02-24T08:46:26.659149Z"
    }
   },
   "outputs": [
    {
     "data": {
      "text/plain": [
       "<FastTreeValue 0x7f1d345a65e0>\n",
       "├── 'a' --> tensor([[[-1.3698,  0.6199,  1.1989],\n",
       "│                    [-1.2224,  0.7763,  0.3758]],\n",
       "│           \n",
       "│                   [[-1.3698,  0.6199,  1.1989],\n",
       "│                    [-1.2224,  0.7763,  0.3758]],\n",
       "│           \n",
       "│                   [[-1.3698,  0.6199,  1.1989],\n",
       "│                    [-1.2224,  0.7763,  0.3758]],\n",
       "│           \n",
       "│                   [[-1.3698,  0.6199,  1.1989],\n",
       "│                    [-1.2224,  0.7763,  0.3758]],\n",
       "│           \n",
       "│                   [[-1.3698,  0.6199,  1.1989],\n",
       "│                    [-1.2224,  0.7763,  0.3758]],\n",
       "│           \n",
       "│                   [[-1.3698,  0.6199,  1.1989],\n",
       "│                    [-1.2224,  0.7763,  0.3758]],\n",
       "│           \n",
       "│                   [[-1.3698,  0.6199,  1.1989],\n",
       "│                    [-1.2224,  0.7763,  0.3758]],\n",
       "│           \n",
       "│                   [[-1.3698,  0.6199,  1.1989],\n",
       "│                    [-1.2224,  0.7763,  0.3758]]])\n",
       "└── 'x' --> <FastTreeValue 0x7f1d2d981130>\n",
       "    └── 'c' --> tensor([[[ 0.5072,  0.3080,  0.2307, -0.4351],\n",
       "                         [ 0.2413, -0.4560, -0.9637,  0.7452],\n",
       "                         [-0.2740,  0.2297,  2.2098,  1.0574]],\n",
       "                \n",
       "                        [[ 0.5072,  0.3080,  0.2307, -0.4351],\n",
       "                         [ 0.2413, -0.4560, -0.9637,  0.7452],\n",
       "                         [-0.2740,  0.2297,  2.2098,  1.0574]],\n",
       "                \n",
       "                        [[ 0.5072,  0.3080,  0.2307, -0.4351],\n",
       "                         [ 0.2413, -0.4560, -0.9637,  0.7452],\n",
       "                         [-0.2740,  0.2297,  2.2098,  1.0574]],\n",
       "                \n",
       "                        [[ 0.5072,  0.3080,  0.2307, -0.4351],\n",
       "                         [ 0.2413, -0.4560, -0.9637,  0.7452],\n",
       "                         [-0.2740,  0.2297,  2.2098,  1.0574]],\n",
       "                \n",
       "                        [[ 0.5072,  0.3080,  0.2307, -0.4351],\n",
       "                         [ 0.2413, -0.4560, -0.9637,  0.7452],\n",
       "                         [-0.2740,  0.2297,  2.2098,  1.0574]],\n",
       "                \n",
       "                        [[ 0.5072,  0.3080,  0.2307, -0.4351],\n",
       "                         [ 0.2413, -0.4560, -0.9637,  0.7452],\n",
       "                         [-0.2740,  0.2297,  2.2098,  1.0574]],\n",
       "                \n",
       "                        [[ 0.5072,  0.3080,  0.2307, -0.4351],\n",
       "                         [ 0.2413, -0.4560, -0.9637,  0.7452],\n",
       "                         [-0.2740,  0.2297,  2.2098,  1.0574]],\n",
       "                \n",
       "                        [[ 0.5072,  0.3080,  0.2307, -0.4351],\n",
       "                         [ 0.2413, -0.4560, -0.9637,  0.7452],\n",
       "                         [-0.2740,  0.2297,  2.2098,  1.0574]]])"
      ]
     },
     "execution_count": 20,
     "metadata": {},
     "output_type": "execute_result"
    }
   ],
   "source": [
    "t_stack = FastTreeValue.func(subside=True)(torch.stack)\n",
    "\n",
    "t_stack(trees)"
   ]
  },
  {
   "cell_type": "code",
   "execution_count": 21,
   "id": "f8b3f415",
   "metadata": {
    "execution": {
     "iopub.execute_input": "2023-02-24T08:46:26.664097Z",
     "iopub.status.busy": "2023-02-24T08:46:26.663802Z",
     "iopub.status.idle": "2023-02-24T08:46:30.445696Z",
     "shell.execute_reply": "2023-02-24T08:46:30.444625Z"
    }
   },
   "outputs": [
    {
     "name": "stdout",
     "output_type": "stream",
     "text": [
      "45.1 µs ± 2.14 µs per loop (mean ± std. dev. of 7 runs, 10,000 loops each)\n"
     ]
    }
   ],
   "source": [
    "%timeit t_stack(trees)"
   ]
  },
  {
   "cell_type": "code",
   "execution_count": 22,
   "id": "94b56771",
   "metadata": {
    "execution": {
     "iopub.execute_input": "2023-02-24T08:46:30.449621Z",
     "iopub.status.busy": "2023-02-24T08:46:30.449311Z",
     "iopub.status.idle": "2023-02-24T08:46:30.460915Z",
     "shell.execute_reply": "2023-02-24T08:46:30.459867Z"
    }
   },
   "outputs": [
    {
     "data": {
      "text/plain": [
       "<FastTreeValue 0x7f1d2d964280>\n",
       "├── 'a' --> tensor([[-1.3698,  0.6199,  1.1989],\n",
       "│                   [-1.2224,  0.7763,  0.3758],\n",
       "│                   [-1.3698,  0.6199,  1.1989],\n",
       "│                   [-1.2224,  0.7763,  0.3758],\n",
       "│                   [-1.3698,  0.6199,  1.1989],\n",
       "│                   [-1.2224,  0.7763,  0.3758],\n",
       "│                   [-1.3698,  0.6199,  1.1989],\n",
       "│                   [-1.2224,  0.7763,  0.3758],\n",
       "│                   [-1.3698,  0.6199,  1.1989],\n",
       "│                   [-1.2224,  0.7763,  0.3758],\n",
       "│                   [-1.3698,  0.6199,  1.1989],\n",
       "│                   [-1.2224,  0.7763,  0.3758],\n",
       "│                   [-1.3698,  0.6199,  1.1989],\n",
       "│                   [-1.2224,  0.7763,  0.3758],\n",
       "│                   [-1.3698,  0.6199,  1.1989],\n",
       "│                   [-1.2224,  0.7763,  0.3758]])\n",
       "└── 'x' --> <FastTreeValue 0x7f1d2d9647c0>\n",
       "    └── 'c' --> tensor([[ 0.5072,  0.3080,  0.2307, -0.4351],\n",
       "                        [ 0.2413, -0.4560, -0.9637,  0.7452],\n",
       "                        [-0.2740,  0.2297,  2.2098,  1.0574],\n",
       "                        [ 0.5072,  0.3080,  0.2307, -0.4351],\n",
       "                        [ 0.2413, -0.4560, -0.9637,  0.7452],\n",
       "                        [-0.2740,  0.2297,  2.2098,  1.0574],\n",
       "                        [ 0.5072,  0.3080,  0.2307, -0.4351],\n",
       "                        [ 0.2413, -0.4560, -0.9637,  0.7452],\n",
       "                        [-0.2740,  0.2297,  2.2098,  1.0574],\n",
       "                        [ 0.5072,  0.3080,  0.2307, -0.4351],\n",
       "                        [ 0.2413, -0.4560, -0.9637,  0.7452],\n",
       "                        [-0.2740,  0.2297,  2.2098,  1.0574],\n",
       "                        [ 0.5072,  0.3080,  0.2307, -0.4351],\n",
       "                        [ 0.2413, -0.4560, -0.9637,  0.7452],\n",
       "                        [-0.2740,  0.2297,  2.2098,  1.0574],\n",
       "                        [ 0.5072,  0.3080,  0.2307, -0.4351],\n",
       "                        [ 0.2413, -0.4560, -0.9637,  0.7452],\n",
       "                        [-0.2740,  0.2297,  2.2098,  1.0574],\n",
       "                        [ 0.5072,  0.3080,  0.2307, -0.4351],\n",
       "                        [ 0.2413, -0.4560, -0.9637,  0.7452],\n",
       "                        [-0.2740,  0.2297,  2.2098,  1.0574],\n",
       "                        [ 0.5072,  0.3080,  0.2307, -0.4351],\n",
       "                        [ 0.2413, -0.4560, -0.9637,  0.7452],\n",
       "                        [-0.2740,  0.2297,  2.2098,  1.0574]])"
      ]
     },
     "execution_count": 22,
     "metadata": {},
     "output_type": "execute_result"
    }
   ],
   "source": [
    "t_cat = FastTreeValue.func(subside=True)(torch.cat)\n",
    "\n",
    "t_cat(trees)"
   ]
  },
  {
   "cell_type": "code",
   "execution_count": 23,
   "id": "5e9c06a6",
   "metadata": {
    "execution": {
     "iopub.execute_input": "2023-02-24T08:46:30.464311Z",
     "iopub.status.busy": "2023-02-24T08:46:30.464010Z",
     "iopub.status.idle": "2023-02-24T08:46:34.190737Z",
     "shell.execute_reply": "2023-02-24T08:46:34.189626Z"
    }
   },
   "outputs": [
    {
     "name": "stdout",
     "output_type": "stream",
     "text": [
      "45.1 µs ± 4.95 µs per loop (mean ± std. dev. of 7 runs, 10,000 loops each)\n"
     ]
    }
   ],
   "source": [
    "%timeit t_cat(trees)"
   ]
  },
  {
   "cell_type": "code",
   "execution_count": 24,
   "id": "a3ab5c8f",
   "metadata": {
    "execution": {
     "iopub.execute_input": "2023-02-24T08:46:34.194709Z",
     "iopub.status.busy": "2023-02-24T08:46:34.194072Z",
     "iopub.status.idle": "2023-02-24T08:46:40.679901Z",
     "shell.execute_reply": "2023-02-24T08:46:40.678800Z"
    }
   },
   "outputs": [
    {
     "name": "stdout",
     "output_type": "stream",
     "text": [
      "80 µs ± 1.23 µs per loop (mean ± std. dev. of 7 runs, 10,000 loops each)\n"
     ]
    }
   ],
   "source": [
    "t_split = FastTreeValue.func(rise=True)(torch.split)\n",
    "tree = FastTreeValue({\n",
    "    'obs': torch.randn(8, 4, 84, 84),\n",
    "    'action': torch.randint(0, 6, size=(8, 1,)),\n",
    "    'reward': torch.rand(8, 1),\n",
    "})\n",
    "\n",
    "%timeit t_split(tree, 1)"
   ]
  },
  {
   "cell_type": "markdown",
   "id": "31c3ec0b",
   "metadata": {},
   "source": [
    "### Performance of Tianshou Batch"
   ]
  },
  {
   "cell_type": "code",
   "execution_count": 25,
   "id": "9ead828a",
   "metadata": {
    "execution": {
     "iopub.execute_input": "2023-02-24T08:46:40.684267Z",
     "iopub.status.busy": "2023-02-24T08:46:40.683979Z",
     "iopub.status.idle": "2023-02-24T08:46:40.694649Z",
     "shell.execute_reply": "2023-02-24T08:46:40.693665Z"
    }
   },
   "outputs": [
    {
     "data": {
      "text/plain": [
       "Batch(\n",
       "    x: Batch(\n",
       "           c: tensor([[[ 0.5072,  0.3080,  0.2307, -0.4351],\n",
       "                       [ 0.2413, -0.4560, -0.9637,  0.7452],\n",
       "                       [-0.2740,  0.2297,  2.2098,  1.0574]],\n",
       "              \n",
       "                      [[ 0.5072,  0.3080,  0.2307, -0.4351],\n",
       "                       [ 0.2413, -0.4560, -0.9637,  0.7452],\n",
       "                       [-0.2740,  0.2297,  2.2098,  1.0574]],\n",
       "              \n",
       "                      [[ 0.5072,  0.3080,  0.2307, -0.4351],\n",
       "                       [ 0.2413, -0.4560, -0.9637,  0.7452],\n",
       "                       [-0.2740,  0.2297,  2.2098,  1.0574]],\n",
       "              \n",
       "                      [[ 0.5072,  0.3080,  0.2307, -0.4351],\n",
       "                       [ 0.2413, -0.4560, -0.9637,  0.7452],\n",
       "                       [-0.2740,  0.2297,  2.2098,  1.0574]],\n",
       "              \n",
       "                      [[ 0.5072,  0.3080,  0.2307, -0.4351],\n",
       "                       [ 0.2413, -0.4560, -0.9637,  0.7452],\n",
       "                       [-0.2740,  0.2297,  2.2098,  1.0574]],\n",
       "              \n",
       "                      [[ 0.5072,  0.3080,  0.2307, -0.4351],\n",
       "                       [ 0.2413, -0.4560, -0.9637,  0.7452],\n",
       "                       [-0.2740,  0.2297,  2.2098,  1.0574]],\n",
       "              \n",
       "                      [[ 0.5072,  0.3080,  0.2307, -0.4351],\n",
       "                       [ 0.2413, -0.4560, -0.9637,  0.7452],\n",
       "                       [-0.2740,  0.2297,  2.2098,  1.0574]],\n",
       "              \n",
       "                      [[ 0.5072,  0.3080,  0.2307, -0.4351],\n",
       "                       [ 0.2413, -0.4560, -0.9637,  0.7452],\n",
       "                       [-0.2740,  0.2297,  2.2098,  1.0574]]]),\n",
       "       ),\n",
       "    a: tensor([[[-1.3698,  0.6199,  1.1989],\n",
       "                [-1.2224,  0.7763,  0.3758]],\n",
       "       \n",
       "               [[-1.3698,  0.6199,  1.1989],\n",
       "                [-1.2224,  0.7763,  0.3758]],\n",
       "       \n",
       "               [[-1.3698,  0.6199,  1.1989],\n",
       "                [-1.2224,  0.7763,  0.3758]],\n",
       "       \n",
       "               [[-1.3698,  0.6199,  1.1989],\n",
       "                [-1.2224,  0.7763,  0.3758]],\n",
       "       \n",
       "               [[-1.3698,  0.6199,  1.1989],\n",
       "                [-1.2224,  0.7763,  0.3758]],\n",
       "       \n",
       "               [[-1.3698,  0.6199,  1.1989],\n",
       "                [-1.2224,  0.7763,  0.3758]],\n",
       "       \n",
       "               [[-1.3698,  0.6199,  1.1989],\n",
       "                [-1.2224,  0.7763,  0.3758]],\n",
       "       \n",
       "               [[-1.3698,  0.6199,  1.1989],\n",
       "                [-1.2224,  0.7763,  0.3758]]]),\n",
       ")"
      ]
     },
     "execution_count": 25,
     "metadata": {},
     "output_type": "execute_result"
    }
   ],
   "source": [
    "batches = [Batch(**_TREE_DATA_2) for _ in range(8)]\n",
    "\n",
    "Batch.stack(batches)"
   ]
  },
  {
   "cell_type": "code",
   "execution_count": 26,
   "id": "ec9037a3",
   "metadata": {
    "execution": {
     "iopub.execute_input": "2023-02-24T08:46:40.698895Z",
     "iopub.status.busy": "2023-02-24T08:46:40.698094Z",
     "iopub.status.idle": "2023-02-24T08:46:49.171286Z",
     "shell.execute_reply": "2023-02-24T08:46:49.170195Z"
    }
   },
   "outputs": [
    {
     "name": "stdout",
     "output_type": "stream",
     "text": [
      "104 µs ± 1.41 µs per loop (mean ± std. dev. of 7 runs, 10,000 loops each)\n"
     ]
    }
   ],
   "source": [
    "%timeit Batch.stack(batches)"
   ]
  },
  {
   "cell_type": "code",
   "execution_count": 27,
   "id": "cb8ab77e",
   "metadata": {
    "execution": {
     "iopub.execute_input": "2023-02-24T08:46:49.175175Z",
     "iopub.status.busy": "2023-02-24T08:46:49.174512Z",
     "iopub.status.idle": "2023-02-24T08:46:49.184570Z",
     "shell.execute_reply": "2023-02-24T08:46:49.183630Z"
    }
   },
   "outputs": [
    {
     "data": {
      "text/plain": [
       "Batch(\n",
       "    x: Batch(\n",
       "           c: tensor([[ 0.5072,  0.3080,  0.2307, -0.4351],\n",
       "                      [ 0.2413, -0.4560, -0.9637,  0.7452],\n",
       "                      [-0.2740,  0.2297,  2.2098,  1.0574],\n",
       "                      [ 0.5072,  0.3080,  0.2307, -0.4351],\n",
       "                      [ 0.2413, -0.4560, -0.9637,  0.7452],\n",
       "                      [-0.2740,  0.2297,  2.2098,  1.0574],\n",
       "                      [ 0.5072,  0.3080,  0.2307, -0.4351],\n",
       "                      [ 0.2413, -0.4560, -0.9637,  0.7452],\n",
       "                      [-0.2740,  0.2297,  2.2098,  1.0574],\n",
       "                      [ 0.5072,  0.3080,  0.2307, -0.4351],\n",
       "                      [ 0.2413, -0.4560, -0.9637,  0.7452],\n",
       "                      [-0.2740,  0.2297,  2.2098,  1.0574],\n",
       "                      [ 0.5072,  0.3080,  0.2307, -0.4351],\n",
       "                      [ 0.2413, -0.4560, -0.9637,  0.7452],\n",
       "                      [-0.2740,  0.2297,  2.2098,  1.0574],\n",
       "                      [ 0.5072,  0.3080,  0.2307, -0.4351],\n",
       "                      [ 0.2413, -0.4560, -0.9637,  0.7452],\n",
       "                      [-0.2740,  0.2297,  2.2098,  1.0574],\n",
       "                      [ 0.5072,  0.3080,  0.2307, -0.4351],\n",
       "                      [ 0.2413, -0.4560, -0.9637,  0.7452],\n",
       "                      [-0.2740,  0.2297,  2.2098,  1.0574],\n",
       "                      [ 0.5072,  0.3080,  0.2307, -0.4351],\n",
       "                      [ 0.2413, -0.4560, -0.9637,  0.7452],\n",
       "                      [-0.2740,  0.2297,  2.2098,  1.0574]]),\n",
       "       ),\n",
       "    a: tensor([[-1.3698,  0.6199,  1.1989],\n",
       "               [-1.2224,  0.7763,  0.3758],\n",
       "               [-1.3698,  0.6199,  1.1989],\n",
       "               [-1.2224,  0.7763,  0.3758],\n",
       "               [-1.3698,  0.6199,  1.1989],\n",
       "               [-1.2224,  0.7763,  0.3758],\n",
       "               [-1.3698,  0.6199,  1.1989],\n",
       "               [-1.2224,  0.7763,  0.3758],\n",
       "               [-1.3698,  0.6199,  1.1989],\n",
       "               [-1.2224,  0.7763,  0.3758],\n",
       "               [-1.3698,  0.6199,  1.1989],\n",
       "               [-1.2224,  0.7763,  0.3758],\n",
       "               [-1.3698,  0.6199,  1.1989],\n",
       "               [-1.2224,  0.7763,  0.3758],\n",
       "               [-1.3698,  0.6199,  1.1989],\n",
       "               [-1.2224,  0.7763,  0.3758]]),\n",
       ")"
      ]
     },
     "execution_count": 27,
     "metadata": {},
     "output_type": "execute_result"
    }
   ],
   "source": [
    "Batch.cat(batches)"
   ]
  },
  {
   "cell_type": "code",
   "execution_count": 28,
   "id": "18dfb045",
   "metadata": {
    "execution": {
     "iopub.execute_input": "2023-02-24T08:46:49.188180Z",
     "iopub.status.busy": "2023-02-24T08:46:49.187650Z",
     "iopub.status.idle": "2023-02-24T08:47:04.335148Z",
     "shell.execute_reply": "2023-02-24T08:47:04.334132Z"
    }
   },
   "outputs": [
    {
     "name": "stdout",
     "output_type": "stream",
     "text": [
      "187 µs ± 1.24 µs per loop (mean ± std. dev. of 7 runs, 10,000 loops each)\n"
     ]
    }
   ],
   "source": [
    "%timeit Batch.cat(batches)"
   ]
  },
  {
   "cell_type": "code",
   "execution_count": 29,
   "id": "c6688e51",
   "metadata": {
    "execution": {
     "iopub.execute_input": "2023-02-24T08:47:04.344162Z",
     "iopub.status.busy": "2023-02-24T08:47:04.343675Z",
     "iopub.status.idle": "2023-02-24T08:47:09.143931Z",
     "shell.execute_reply": "2023-02-24T08:47:09.143059Z"
    }
   },
   "outputs": [
    {
     "name": "stdout",
     "output_type": "stream",
     "text": [
      "592 µs ± 63.5 µs per loop (mean ± std. dev. of 7 runs, 1,000 loops each)\n"
     ]
    }
   ],
   "source": [
    "batch = Batch({\n",
    "    'obs': torch.randn(8, 4, 84, 84),\n",
    "    'action': torch.randint(0, 6, size=(8, 1,)),\n",
    "    'reward': torch.rand(8, 1)}\n",
    ")\n",
    "\n",
    "%timeit list(Batch.split(batch, 1, shuffle=False, merge_last=True))"
   ]
  },
  {
   "cell_type": "code",
   "execution_count": null,
   "id": "2539fbd9",
   "metadata": {},
   "outputs": [],
   "source": []
  }
 ],
 "metadata": {
  "kernelspec": {
   "display_name": "Python 3 (ipykernel)",
   "language": "python",
   "name": "python3"
  },
  "language_info": {
   "codemirror_mode": {
    "name": "ipython",
    "version": 3
   },
   "file_extension": ".py",
   "mimetype": "text/x-python",
   "name": "python",
   "nbconvert_exporter": "python",
   "pygments_lexer": "ipython3",
   "version": "3.8.16"
  }
 },
 "nbformat": 4,
 "nbformat_minor": 5
}
