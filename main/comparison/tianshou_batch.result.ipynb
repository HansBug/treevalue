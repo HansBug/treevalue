{
 "cells": [
  {
   "cell_type": "markdown",
   "id": "9d39d946",
   "metadata": {},
   "source": [
    "# Comparison Between TreeValue and Tianshou Batch"
   ]
  },
  {
   "cell_type": "markdown",
   "id": "3c6db2d4",
   "metadata": {},
   "source": [
    "In this section, we will take a look at the feature and performance of the [Tianshou Batch](https://github.com/thu-ml/tianshou) library, which is developed by Tsinghua Machine Learning Group."
   ]
  },
  {
   "cell_type": "markdown",
   "id": "069361b0",
   "metadata": {},
   "source": [
    "Before starting the comparison, let us define some thing."
   ]
  },
  {
   "cell_type": "code",
   "execution_count": 1,
   "id": "06fc8d26",
   "metadata": {
    "execution": {
     "iopub.execute_input": "2023-02-23T08:37:34.385035Z",
     "iopub.status.busy": "2023-02-23T08:37:34.384484Z",
     "iopub.status.idle": "2023-02-23T08:37:35.286083Z",
     "shell.execute_reply": "2023-02-23T08:37:35.285025Z"
    }
   },
   "outputs": [
    {
     "name": "stderr",
     "output_type": "stream",
     "text": [
      "/opt/hostedtoolcache/Python/3.8.16/x64/lib/python3.8/site-packages/tqdm/auto.py:22: TqdmWarning: IProgress not found. Please update jupyter and ipywidgets. See https://ipywidgets.readthedocs.io/en/stable/user_install.html\n",
      "  from .autonotebook import tqdm as notebook_tqdm\n"
     ]
    }
   ],
   "source": [
    "import torch \n",
    "\n",
    "_TREE_DATA_1 = {'a': 1, 'b': 2, 'x': {'c': 3, 'd': 4}}\n",
    "_TREE_DATA_2 = {\n",
    "    'a': torch.randn(2, 3), \n",
    "    'x': {\n",
    "        'c': torch.randn(3, 4)\n",
    "    },\n",
    "}\n",
    "_TREE_DATA_3 = {\n",
    "    'obs': torch.randn(4, 84, 84),\n",
    "    'action': torch.randint(0, 6, size=(1,)),\n",
    "    'reward': torch.rand(1),\n",
    "}"
   ]
  },
  {
   "cell_type": "markdown",
   "id": "83461b25",
   "metadata": {},
   "source": [
    "## Read and Write Operation"
   ]
  },
  {
   "cell_type": "markdown",
   "id": "067b3f73",
   "metadata": {},
   "source": [
    "Reading and writing are the two most common operations in the tree data structure based on the data model (TreeValue and Tianshou Batch both belong to this type), so this section will compare the reading and writing performance of these two libraries."
   ]
  },
  {
   "cell_type": "markdown",
   "id": "5d09a5b7",
   "metadata": {},
   "source": [
    "### TreeValue's Get and Set"
   ]
  },
  {
   "cell_type": "code",
   "execution_count": 2,
   "id": "9519c4bb",
   "metadata": {
    "execution": {
     "iopub.execute_input": "2023-02-23T08:37:35.289574Z",
     "iopub.status.busy": "2023-02-23T08:37:35.288939Z",
     "iopub.status.idle": "2023-02-23T08:37:35.321316Z",
     "shell.execute_reply": "2023-02-23T08:37:35.320729Z"
    }
   },
   "outputs": [],
   "source": [
    "from treevalue import FastTreeValue\n",
    "\n",
    "t = FastTreeValue(_TREE_DATA_2)"
   ]
  },
  {
   "cell_type": "code",
   "execution_count": 3,
   "id": "11c37677",
   "metadata": {
    "execution": {
     "iopub.execute_input": "2023-02-23T08:37:35.323835Z",
     "iopub.status.busy": "2023-02-23T08:37:35.323610Z",
     "iopub.status.idle": "2023-02-23T08:37:35.332743Z",
     "shell.execute_reply": "2023-02-23T08:37:35.331956Z"
    }
   },
   "outputs": [
    {
     "data": {
      "text/plain": [
       "<FastTreeValue 0x7ff6c4c9b9a0>\n",
       "├── 'a' --> tensor([[-1.0137, -1.5753, -1.5998],\n",
       "│                   [-1.7802,  1.4487, -0.4156]])\n",
       "└── 'x' --> <FastTreeValue 0x7ff6c4c9b820>\n",
       "    └── 'c' --> tensor([[ 0.0316,  1.0273, -1.2041,  2.1715],\n",
       "                        [-2.3469,  0.2098,  0.2584,  0.2096],\n",
       "                        [-1.1947,  1.1794,  1.1791,  0.1100]])"
      ]
     },
     "execution_count": 3,
     "metadata": {},
     "output_type": "execute_result"
    }
   ],
   "source": [
    "t"
   ]
  },
  {
   "cell_type": "code",
   "execution_count": 4,
   "id": "fd70b0b9",
   "metadata": {
    "execution": {
     "iopub.execute_input": "2023-02-23T08:37:35.335683Z",
     "iopub.status.busy": "2023-02-23T08:37:35.335190Z",
     "iopub.status.idle": "2023-02-23T08:37:35.340284Z",
     "shell.execute_reply": "2023-02-23T08:37:35.339721Z"
    }
   },
   "outputs": [
    {
     "data": {
      "text/plain": [
       "tensor([[-1.0137, -1.5753, -1.5998],\n",
       "        [-1.7802,  1.4487, -0.4156]])"
      ]
     },
     "execution_count": 4,
     "metadata": {},
     "output_type": "execute_result"
    }
   ],
   "source": [
    "t.a"
   ]
  },
  {
   "cell_type": "code",
   "execution_count": 5,
   "id": "c18197bd",
   "metadata": {
    "execution": {
     "iopub.execute_input": "2023-02-23T08:37:35.342849Z",
     "iopub.status.busy": "2023-02-23T08:37:35.342355Z",
     "iopub.status.idle": "2023-02-23T08:37:40.066862Z",
     "shell.execute_reply": "2023-02-23T08:37:40.066159Z"
    }
   },
   "outputs": [
    {
     "name": "stdout",
     "output_type": "stream",
     "text": [
      "58.2 ns ± 0.0659 ns per loop (mean ± std. dev. of 7 runs, 10,000,000 loops each)\n"
     ]
    }
   ],
   "source": [
    "%timeit t.a"
   ]
  },
  {
   "cell_type": "code",
   "execution_count": 6,
   "id": "bd52f867",
   "metadata": {
    "execution": {
     "iopub.execute_input": "2023-02-23T08:37:40.070038Z",
     "iopub.status.busy": "2023-02-23T08:37:40.069531Z",
     "iopub.status.idle": "2023-02-23T08:37:40.076966Z",
     "shell.execute_reply": "2023-02-23T08:37:40.076386Z"
    }
   },
   "outputs": [
    {
     "data": {
      "text/plain": [
       "<FastTreeValue 0x7ff6c4c9b9a0>\n",
       "├── 'a' --> tensor([[-0.5715, -2.5684,  0.1855],\n",
       "│                   [ 0.5856, -1.4528, -0.0561]])\n",
       "└── 'x' --> <FastTreeValue 0x7ff6c4c9b820>\n",
       "    └── 'c' --> tensor([[ 0.0316,  1.0273, -1.2041,  2.1715],\n",
       "                        [-2.3469,  0.2098,  0.2584,  0.2096],\n",
       "                        [-1.1947,  1.1794,  1.1791,  0.1100]])"
      ]
     },
     "execution_count": 6,
     "metadata": {},
     "output_type": "execute_result"
    }
   ],
   "source": [
    "new_value = torch.randn(2, 3)\n",
    "t.a = new_value\n",
    "\n",
    "t"
   ]
  },
  {
   "cell_type": "code",
   "execution_count": 7,
   "id": "bbe04d1c",
   "metadata": {
    "execution": {
     "iopub.execute_input": "2023-02-23T08:37:40.079651Z",
     "iopub.status.busy": "2023-02-23T08:37:40.079343Z",
     "iopub.status.idle": "2023-02-23T08:37:44.759179Z",
     "shell.execute_reply": "2023-02-23T08:37:44.758458Z"
    }
   },
   "outputs": [
    {
     "name": "stdout",
     "output_type": "stream",
     "text": [
      "57.7 ns ± 0.0214 ns per loop (mean ± std. dev. of 7 runs, 10,000,000 loops each)\n"
     ]
    }
   ],
   "source": [
    "%timeit t.a = new_value"
   ]
  },
  {
   "cell_type": "markdown",
   "id": "48c49731",
   "metadata": {},
   "source": [
    "### Tianshou Batch's Get and Set"
   ]
  },
  {
   "cell_type": "code",
   "execution_count": 8,
   "id": "f1bb14c1",
   "metadata": {
    "execution": {
     "iopub.execute_input": "2023-02-23T08:37:44.763071Z",
     "iopub.status.busy": "2023-02-23T08:37:44.761927Z",
     "iopub.status.idle": "2023-02-23T08:37:45.087486Z",
     "shell.execute_reply": "2023-02-23T08:37:45.086831Z"
    }
   },
   "outputs": [],
   "source": [
    "from tianshou.data import Batch\n",
    "\n",
    "b = Batch(**_TREE_DATA_2)"
   ]
  },
  {
   "cell_type": "code",
   "execution_count": 9,
   "id": "cb0777c3",
   "metadata": {
    "execution": {
     "iopub.execute_input": "2023-02-23T08:37:45.091036Z",
     "iopub.status.busy": "2023-02-23T08:37:45.090379Z",
     "iopub.status.idle": "2023-02-23T08:37:45.096450Z",
     "shell.execute_reply": "2023-02-23T08:37:45.095879Z"
    }
   },
   "outputs": [
    {
     "data": {
      "text/plain": [
       "Batch(\n",
       "    a: tensor([[-1.0137, -1.5753, -1.5998],\n",
       "               [-1.7802,  1.4487, -0.4156]]),\n",
       "    x: Batch(\n",
       "           c: tensor([[ 0.0316,  1.0273, -1.2041,  2.1715],\n",
       "                      [-2.3469,  0.2098,  0.2584,  0.2096],\n",
       "                      [-1.1947,  1.1794,  1.1791,  0.1100]]),\n",
       "       ),\n",
       ")"
      ]
     },
     "execution_count": 9,
     "metadata": {},
     "output_type": "execute_result"
    }
   ],
   "source": [
    "b"
   ]
  },
  {
   "cell_type": "code",
   "execution_count": 10,
   "id": "43ef8ea3",
   "metadata": {
    "execution": {
     "iopub.execute_input": "2023-02-23T08:37:45.099265Z",
     "iopub.status.busy": "2023-02-23T08:37:45.098731Z",
     "iopub.status.idle": "2023-02-23T08:37:45.104436Z",
     "shell.execute_reply": "2023-02-23T08:37:45.103891Z"
    }
   },
   "outputs": [
    {
     "data": {
      "text/plain": [
       "tensor([[-1.0137, -1.5753, -1.5998],\n",
       "        [-1.7802,  1.4487, -0.4156]])"
      ]
     },
     "execution_count": 10,
     "metadata": {},
     "output_type": "execute_result"
    }
   ],
   "source": [
    "b.a"
   ]
  },
  {
   "cell_type": "code",
   "execution_count": 11,
   "id": "b785ab72",
   "metadata": {
    "execution": {
     "iopub.execute_input": "2023-02-23T08:37:45.106886Z",
     "iopub.status.busy": "2023-02-23T08:37:45.106551Z",
     "iopub.status.idle": "2023-02-23T08:37:49.749444Z",
     "shell.execute_reply": "2023-02-23T08:37:49.748715Z"
    }
   },
   "outputs": [
    {
     "name": "stdout",
     "output_type": "stream",
     "text": [
      "57.4 ns ± 0.0443 ns per loop (mean ± std. dev. of 7 runs, 10,000,000 loops each)\n"
     ]
    }
   ],
   "source": [
    "%timeit b.a"
   ]
  },
  {
   "cell_type": "code",
   "execution_count": 12,
   "id": "ad54dc69",
   "metadata": {
    "execution": {
     "iopub.execute_input": "2023-02-23T08:37:49.752736Z",
     "iopub.status.busy": "2023-02-23T08:37:49.752144Z",
     "iopub.status.idle": "2023-02-23T08:37:49.758517Z",
     "shell.execute_reply": "2023-02-23T08:37:49.757945Z"
    }
   },
   "outputs": [
    {
     "data": {
      "text/plain": [
       "Batch(\n",
       "    a: tensor([[-1.4485, -1.0035, -0.1931],\n",
       "               [ 1.4863,  0.9830,  0.6620]]),\n",
       "    x: Batch(\n",
       "           c: tensor([[ 0.0316,  1.0273, -1.2041,  2.1715],\n",
       "                      [-2.3469,  0.2098,  0.2584,  0.2096],\n",
       "                      [-1.1947,  1.1794,  1.1791,  0.1100]]),\n",
       "       ),\n",
       ")"
      ]
     },
     "execution_count": 12,
     "metadata": {},
     "output_type": "execute_result"
    }
   ],
   "source": [
    "new_value = torch.randn(2, 3)\n",
    "b.a = new_value\n",
    "\n",
    "b"
   ]
  },
  {
   "cell_type": "code",
   "execution_count": 13,
   "id": "29b1d0bf",
   "metadata": {
    "execution": {
     "iopub.execute_input": "2023-02-23T08:37:49.760794Z",
     "iopub.status.busy": "2023-02-23T08:37:49.760585Z",
     "iopub.status.idle": "2023-02-23T08:37:53.694526Z",
     "shell.execute_reply": "2023-02-23T08:37:53.693832Z"
    }
   },
   "outputs": [
    {
     "name": "stdout",
     "output_type": "stream",
     "text": [
      "484 ns ± 0.215 ns per loop (mean ± std. dev. of 7 runs, 1,000,000 loops each)\n"
     ]
    }
   ],
   "source": [
    "%timeit b.a = new_value"
   ]
  },
  {
   "cell_type": "markdown",
   "id": "b61ad1d0",
   "metadata": {},
   "source": [
    "## Initialization"
   ]
  },
  {
   "cell_type": "markdown",
   "id": "d70f0d54",
   "metadata": {},
   "source": [
    "### TreeValue's Initialization"
   ]
  },
  {
   "cell_type": "code",
   "execution_count": 14,
   "id": "d32a679b",
   "metadata": {
    "execution": {
     "iopub.execute_input": "2023-02-23T08:37:53.697691Z",
     "iopub.status.busy": "2023-02-23T08:37:53.697317Z",
     "iopub.status.idle": "2023-02-23T08:38:00.422075Z",
     "shell.execute_reply": "2023-02-23T08:38:00.421328Z"
    }
   },
   "outputs": [
    {
     "name": "stdout",
     "output_type": "stream",
     "text": [
      "828 ns ± 0.133 ns per loop (mean ± std. dev. of 7 runs, 1,000,000 loops each)\n"
     ]
    }
   ],
   "source": [
    "%timeit FastTreeValue(_TREE_DATA_1)"
   ]
  },
  {
   "cell_type": "markdown",
   "id": "24f3707b",
   "metadata": {},
   "source": [
    "### Tianshou Batch's Initialization"
   ]
  },
  {
   "cell_type": "code",
   "execution_count": 15,
   "id": "ac3958df",
   "metadata": {
    "execution": {
     "iopub.execute_input": "2023-02-23T08:38:00.424751Z",
     "iopub.status.busy": "2023-02-23T08:38:00.424402Z",
     "iopub.status.idle": "2023-02-23T08:38:09.737333Z",
     "shell.execute_reply": "2023-02-23T08:38:09.736611Z"
    }
   },
   "outputs": [
    {
     "name": "stdout",
     "output_type": "stream",
     "text": [
      "11.5 µs ± 19 ns per loop (mean ± std. dev. of 7 runs, 100,000 loops each)\n"
     ]
    }
   ],
   "source": [
    "%timeit Batch(**_TREE_DATA_1)"
   ]
  },
  {
   "cell_type": "markdown",
   "id": "1ab82e2d",
   "metadata": {},
   "source": [
    "## Deep Copy Operation"
   ]
  },
  {
   "cell_type": "code",
   "execution_count": 16,
   "id": "210a9442",
   "metadata": {
    "execution": {
     "iopub.execute_input": "2023-02-23T08:38:09.740532Z",
     "iopub.status.busy": "2023-02-23T08:38:09.740042Z",
     "iopub.status.idle": "2023-02-23T08:38:09.744039Z",
     "shell.execute_reply": "2023-02-23T08:38:09.743469Z"
    }
   },
   "outputs": [],
   "source": [
    "import copy"
   ]
  },
  {
   "cell_type": "markdown",
   "id": "5a736274",
   "metadata": {},
   "source": [
    "### Deep Copy of TreeValue"
   ]
  },
  {
   "cell_type": "code",
   "execution_count": 17,
   "id": "f9bcadd6",
   "metadata": {
    "execution": {
     "iopub.execute_input": "2023-02-23T08:38:09.746917Z",
     "iopub.status.busy": "2023-02-23T08:38:09.746432Z",
     "iopub.status.idle": "2023-02-23T08:38:20.715234Z",
     "shell.execute_reply": "2023-02-23T08:38:20.714656Z"
    }
   },
   "outputs": [
    {
     "name": "stdout",
     "output_type": "stream",
     "text": [
      "135 µs ± 282 ns per loop (mean ± std. dev. of 7 runs, 10,000 loops each)\n"
     ]
    }
   ],
   "source": [
    "t3 = FastTreeValue(_TREE_DATA_3)\n",
    "%timeit copy.deepcopy(t3)"
   ]
  },
  {
   "cell_type": "markdown",
   "id": "bf8be7ea",
   "metadata": {},
   "source": [
    "### Deep Copy of Tianshou Batch"
   ]
  },
  {
   "cell_type": "code",
   "execution_count": 18,
   "id": "91998e6f",
   "metadata": {
    "execution": {
     "iopub.execute_input": "2023-02-23T08:38:20.718157Z",
     "iopub.status.busy": "2023-02-23T08:38:20.717702Z",
     "iopub.status.idle": "2023-02-23T08:38:31.967010Z",
     "shell.execute_reply": "2023-02-23T08:38:31.966463Z"
    }
   },
   "outputs": [
    {
     "name": "stdout",
     "output_type": "stream",
     "text": [
      "139 µs ± 1.18 µs per loop (mean ± std. dev. of 7 runs, 10,000 loops each)\n"
     ]
    }
   ],
   "source": [
    "b3 = Batch(**_TREE_DATA_3)\n",
    "%timeit copy.deepcopy(b3)"
   ]
  },
  {
   "cell_type": "markdown",
   "id": "223162fb",
   "metadata": {},
   "source": [
    "## Stack, Concat and Split Operation"
   ]
  },
  {
   "cell_type": "markdown",
   "id": "85fa4a73",
   "metadata": {},
   "source": [
    "### Performance of TreeValue"
   ]
  },
  {
   "cell_type": "code",
   "execution_count": 19,
   "id": "a0c2b697",
   "metadata": {
    "execution": {
     "iopub.execute_input": "2023-02-23T08:38:31.970039Z",
     "iopub.status.busy": "2023-02-23T08:38:31.969424Z",
     "iopub.status.idle": "2023-02-23T08:38:31.972709Z",
     "shell.execute_reply": "2023-02-23T08:38:31.972191Z"
    }
   },
   "outputs": [],
   "source": [
    "trees = [FastTreeValue(_TREE_DATA_2) for _ in range(8)]"
   ]
  },
  {
   "cell_type": "code",
   "execution_count": 20,
   "id": "017ea5a5",
   "metadata": {
    "execution": {
     "iopub.execute_input": "2023-02-23T08:38:31.975144Z",
     "iopub.status.busy": "2023-02-23T08:38:31.974911Z",
     "iopub.status.idle": "2023-02-23T08:38:31.983350Z",
     "shell.execute_reply": "2023-02-23T08:38:31.982768Z"
    }
   },
   "outputs": [
    {
     "data": {
      "text/plain": [
       "<FastTreeValue 0x7ff6a01b9cd0>\n",
       "├── 'a' --> tensor([[[-1.0137, -1.5753, -1.5998],\n",
       "│                    [-1.7802,  1.4487, -0.4156]],\n",
       "│           \n",
       "│                   [[-1.0137, -1.5753, -1.5998],\n",
       "│                    [-1.7802,  1.4487, -0.4156]],\n",
       "│           \n",
       "│                   [[-1.0137, -1.5753, -1.5998],\n",
       "│                    [-1.7802,  1.4487, -0.4156]],\n",
       "│           \n",
       "│                   [[-1.0137, -1.5753, -1.5998],\n",
       "│                    [-1.7802,  1.4487, -0.4156]],\n",
       "│           \n",
       "│                   [[-1.0137, -1.5753, -1.5998],\n",
       "│                    [-1.7802,  1.4487, -0.4156]],\n",
       "│           \n",
       "│                   [[-1.0137, -1.5753, -1.5998],\n",
       "│                    [-1.7802,  1.4487, -0.4156]],\n",
       "│           \n",
       "│                   [[-1.0137, -1.5753, -1.5998],\n",
       "│                    [-1.7802,  1.4487, -0.4156]],\n",
       "│           \n",
       "│                   [[-1.0137, -1.5753, -1.5998],\n",
       "│                    [-1.7802,  1.4487, -0.4156]]])\n",
       "└── 'x' --> <FastTreeValue 0x7ff6a01b9b50>\n",
       "    └── 'c' --> tensor([[[ 0.0316,  1.0273, -1.2041,  2.1715],\n",
       "                         [-2.3469,  0.2098,  0.2584,  0.2096],\n",
       "                         [-1.1947,  1.1794,  1.1791,  0.1100]],\n",
       "                \n",
       "                        [[ 0.0316,  1.0273, -1.2041,  2.1715],\n",
       "                         [-2.3469,  0.2098,  0.2584,  0.2096],\n",
       "                         [-1.1947,  1.1794,  1.1791,  0.1100]],\n",
       "                \n",
       "                        [[ 0.0316,  1.0273, -1.2041,  2.1715],\n",
       "                         [-2.3469,  0.2098,  0.2584,  0.2096],\n",
       "                         [-1.1947,  1.1794,  1.1791,  0.1100]],\n",
       "                \n",
       "                        [[ 0.0316,  1.0273, -1.2041,  2.1715],\n",
       "                         [-2.3469,  0.2098,  0.2584,  0.2096],\n",
       "                         [-1.1947,  1.1794,  1.1791,  0.1100]],\n",
       "                \n",
       "                        [[ 0.0316,  1.0273, -1.2041,  2.1715],\n",
       "                         [-2.3469,  0.2098,  0.2584,  0.2096],\n",
       "                         [-1.1947,  1.1794,  1.1791,  0.1100]],\n",
       "                \n",
       "                        [[ 0.0316,  1.0273, -1.2041,  2.1715],\n",
       "                         [-2.3469,  0.2098,  0.2584,  0.2096],\n",
       "                         [-1.1947,  1.1794,  1.1791,  0.1100]],\n",
       "                \n",
       "                        [[ 0.0316,  1.0273, -1.2041,  2.1715],\n",
       "                         [-2.3469,  0.2098,  0.2584,  0.2096],\n",
       "                         [-1.1947,  1.1794,  1.1791,  0.1100]],\n",
       "                \n",
       "                        [[ 0.0316,  1.0273, -1.2041,  2.1715],\n",
       "                         [-2.3469,  0.2098,  0.2584,  0.2096],\n",
       "                         [-1.1947,  1.1794,  1.1791,  0.1100]]])"
      ]
     },
     "execution_count": 20,
     "metadata": {},
     "output_type": "execute_result"
    }
   ],
   "source": [
    "t_stack = FastTreeValue.func(subside=True)(torch.stack)\n",
    "\n",
    "t_stack(trees)"
   ]
  },
  {
   "cell_type": "code",
   "execution_count": 21,
   "id": "f8b3f415",
   "metadata": {
    "execution": {
     "iopub.execute_input": "2023-02-23T08:38:31.986009Z",
     "iopub.status.busy": "2023-02-23T08:38:31.985791Z",
     "iopub.status.idle": "2023-02-23T08:38:34.654407Z",
     "shell.execute_reply": "2023-02-23T08:38:34.653692Z"
    }
   },
   "outputs": [
    {
     "name": "stdout",
     "output_type": "stream",
     "text": [
      "32.8 µs ± 44 ns per loop (mean ± std. dev. of 7 runs, 10,000 loops each)\n"
     ]
    }
   ],
   "source": [
    "%timeit t_stack(trees)"
   ]
  },
  {
   "cell_type": "code",
   "execution_count": 22,
   "id": "94b56771",
   "metadata": {
    "execution": {
     "iopub.execute_input": "2023-02-23T08:38:34.657182Z",
     "iopub.status.busy": "2023-02-23T08:38:34.656826Z",
     "iopub.status.idle": "2023-02-23T08:38:34.665194Z",
     "shell.execute_reply": "2023-02-23T08:38:34.664613Z"
    }
   },
   "outputs": [
    {
     "data": {
      "text/plain": [
       "<FastTreeValue 0x7ff6a01b99a0>\n",
       "├── 'a' --> tensor([[-1.0137, -1.5753, -1.5998],\n",
       "│                   [-1.7802,  1.4487, -0.4156],\n",
       "│                   [-1.0137, -1.5753, -1.5998],\n",
       "│                   [-1.7802,  1.4487, -0.4156],\n",
       "│                   [-1.0137, -1.5753, -1.5998],\n",
       "│                   [-1.7802,  1.4487, -0.4156],\n",
       "│                   [-1.0137, -1.5753, -1.5998],\n",
       "│                   [-1.7802,  1.4487, -0.4156],\n",
       "│                   [-1.0137, -1.5753, -1.5998],\n",
       "│                   [-1.7802,  1.4487, -0.4156],\n",
       "│                   [-1.0137, -1.5753, -1.5998],\n",
       "│                   [-1.7802,  1.4487, -0.4156],\n",
       "│                   [-1.0137, -1.5753, -1.5998],\n",
       "│                   [-1.7802,  1.4487, -0.4156],\n",
       "│                   [-1.0137, -1.5753, -1.5998],\n",
       "│                   [-1.7802,  1.4487, -0.4156]])\n",
       "└── 'x' --> <FastTreeValue 0x7ff6a01b9670>\n",
       "    └── 'c' --> tensor([[ 0.0316,  1.0273, -1.2041,  2.1715],\n",
       "                        [-2.3469,  0.2098,  0.2584,  0.2096],\n",
       "                        [-1.1947,  1.1794,  1.1791,  0.1100],\n",
       "                        [ 0.0316,  1.0273, -1.2041,  2.1715],\n",
       "                        [-2.3469,  0.2098,  0.2584,  0.2096],\n",
       "                        [-1.1947,  1.1794,  1.1791,  0.1100],\n",
       "                        [ 0.0316,  1.0273, -1.2041,  2.1715],\n",
       "                        [-2.3469,  0.2098,  0.2584,  0.2096],\n",
       "                        [-1.1947,  1.1794,  1.1791,  0.1100],\n",
       "                        [ 0.0316,  1.0273, -1.2041,  2.1715],\n",
       "                        [-2.3469,  0.2098,  0.2584,  0.2096],\n",
       "                        [-1.1947,  1.1794,  1.1791,  0.1100],\n",
       "                        [ 0.0316,  1.0273, -1.2041,  2.1715],\n",
       "                        [-2.3469,  0.2098,  0.2584,  0.2096],\n",
       "                        [-1.1947,  1.1794,  1.1791,  0.1100],\n",
       "                        [ 0.0316,  1.0273, -1.2041,  2.1715],\n",
       "                        [-2.3469,  0.2098,  0.2584,  0.2096],\n",
       "                        [-1.1947,  1.1794,  1.1791,  0.1100],\n",
       "                        [ 0.0316,  1.0273, -1.2041,  2.1715],\n",
       "                        [-2.3469,  0.2098,  0.2584,  0.2096],\n",
       "                        [-1.1947,  1.1794,  1.1791,  0.1100],\n",
       "                        [ 0.0316,  1.0273, -1.2041,  2.1715],\n",
       "                        [-2.3469,  0.2098,  0.2584,  0.2096],\n",
       "                        [-1.1947,  1.1794,  1.1791,  0.1100]])"
      ]
     },
     "execution_count": 22,
     "metadata": {},
     "output_type": "execute_result"
    }
   ],
   "source": [
    "t_cat = FastTreeValue.func(subside=True)(torch.cat)\n",
    "\n",
    "t_cat(trees)"
   ]
  },
  {
   "cell_type": "code",
   "execution_count": 23,
   "id": "5e9c06a6",
   "metadata": {
    "execution": {
     "iopub.execute_input": "2023-02-23T08:38:34.667889Z",
     "iopub.status.busy": "2023-02-23T08:38:34.667665Z",
     "iopub.status.idle": "2023-02-23T08:38:37.174725Z",
     "shell.execute_reply": "2023-02-23T08:38:37.174085Z"
    }
   },
   "outputs": [
    {
     "name": "stdout",
     "output_type": "stream",
     "text": [
      "30.8 µs ± 29.9 ns per loop (mean ± std. dev. of 7 runs, 10,000 loops each)\n"
     ]
    }
   ],
   "source": [
    "%timeit t_cat(trees)"
   ]
  },
  {
   "cell_type": "code",
   "execution_count": 24,
   "id": "a3ab5c8f",
   "metadata": {
    "execution": {
     "iopub.execute_input": "2023-02-23T08:38:37.177834Z",
     "iopub.status.busy": "2023-02-23T08:38:37.177469Z",
     "iopub.status.idle": "2023-02-23T08:38:41.856352Z",
     "shell.execute_reply": "2023-02-23T08:38:41.855635Z"
    }
   },
   "outputs": [
    {
     "name": "stdout",
     "output_type": "stream",
     "text": [
      "57.6 µs ± 229 ns per loop (mean ± std. dev. of 7 runs, 10,000 loops each)\n"
     ]
    }
   ],
   "source": [
    "t_split = FastTreeValue.func(rise=True)(torch.split)\n",
    "tree = FastTreeValue({\n",
    "    'obs': torch.randn(8, 4, 84, 84),\n",
    "    'action': torch.randint(0, 6, size=(8, 1,)),\n",
    "    'reward': torch.rand(8, 1),\n",
    "})\n",
    "\n",
    "%timeit t_split(tree, 1)"
   ]
  },
  {
   "cell_type": "markdown",
   "id": "31c3ec0b",
   "metadata": {},
   "source": [
    "### Performance of Tianshou Batch"
   ]
  },
  {
   "cell_type": "code",
   "execution_count": 25,
   "id": "9ead828a",
   "metadata": {
    "execution": {
     "iopub.execute_input": "2023-02-23T08:38:41.859478Z",
     "iopub.status.busy": "2023-02-23T08:38:41.859127Z",
     "iopub.status.idle": "2023-02-23T08:38:41.867018Z",
     "shell.execute_reply": "2023-02-23T08:38:41.866431Z"
    }
   },
   "outputs": [
    {
     "data": {
      "text/plain": [
       "Batch(\n",
       "    a: tensor([[[-1.0137, -1.5753, -1.5998],\n",
       "                [-1.7802,  1.4487, -0.4156]],\n",
       "       \n",
       "               [[-1.0137, -1.5753, -1.5998],\n",
       "                [-1.7802,  1.4487, -0.4156]],\n",
       "       \n",
       "               [[-1.0137, -1.5753, -1.5998],\n",
       "                [-1.7802,  1.4487, -0.4156]],\n",
       "       \n",
       "               [[-1.0137, -1.5753, -1.5998],\n",
       "                [-1.7802,  1.4487, -0.4156]],\n",
       "       \n",
       "               [[-1.0137, -1.5753, -1.5998],\n",
       "                [-1.7802,  1.4487, -0.4156]],\n",
       "       \n",
       "               [[-1.0137, -1.5753, -1.5998],\n",
       "                [-1.7802,  1.4487, -0.4156]],\n",
       "       \n",
       "               [[-1.0137, -1.5753, -1.5998],\n",
       "                [-1.7802,  1.4487, -0.4156]],\n",
       "       \n",
       "               [[-1.0137, -1.5753, -1.5998],\n",
       "                [-1.7802,  1.4487, -0.4156]]]),\n",
       "    x: Batch(\n",
       "           c: tensor([[[ 0.0316,  1.0273, -1.2041,  2.1715],\n",
       "                       [-2.3469,  0.2098,  0.2584,  0.2096],\n",
       "                       [-1.1947,  1.1794,  1.1791,  0.1100]],\n",
       "              \n",
       "                      [[ 0.0316,  1.0273, -1.2041,  2.1715],\n",
       "                       [-2.3469,  0.2098,  0.2584,  0.2096],\n",
       "                       [-1.1947,  1.1794,  1.1791,  0.1100]],\n",
       "              \n",
       "                      [[ 0.0316,  1.0273, -1.2041,  2.1715],\n",
       "                       [-2.3469,  0.2098,  0.2584,  0.2096],\n",
       "                       [-1.1947,  1.1794,  1.1791,  0.1100]],\n",
       "              \n",
       "                      [[ 0.0316,  1.0273, -1.2041,  2.1715],\n",
       "                       [-2.3469,  0.2098,  0.2584,  0.2096],\n",
       "                       [-1.1947,  1.1794,  1.1791,  0.1100]],\n",
       "              \n",
       "                      [[ 0.0316,  1.0273, -1.2041,  2.1715],\n",
       "                       [-2.3469,  0.2098,  0.2584,  0.2096],\n",
       "                       [-1.1947,  1.1794,  1.1791,  0.1100]],\n",
       "              \n",
       "                      [[ 0.0316,  1.0273, -1.2041,  2.1715],\n",
       "                       [-2.3469,  0.2098,  0.2584,  0.2096],\n",
       "                       [-1.1947,  1.1794,  1.1791,  0.1100]],\n",
       "              \n",
       "                      [[ 0.0316,  1.0273, -1.2041,  2.1715],\n",
       "                       [-2.3469,  0.2098,  0.2584,  0.2096],\n",
       "                       [-1.1947,  1.1794,  1.1791,  0.1100]],\n",
       "              \n",
       "                      [[ 0.0316,  1.0273, -1.2041,  2.1715],\n",
       "                       [-2.3469,  0.2098,  0.2584,  0.2096],\n",
       "                       [-1.1947,  1.1794,  1.1791,  0.1100]]]),\n",
       "       ),\n",
       ")"
      ]
     },
     "execution_count": 25,
     "metadata": {},
     "output_type": "execute_result"
    }
   ],
   "source": [
    "batches = [Batch(**_TREE_DATA_2) for _ in range(8)]\n",
    "\n",
    "Batch.stack(batches)"
   ]
  },
  {
   "cell_type": "code",
   "execution_count": 26,
   "id": "ec9037a3",
   "metadata": {
    "execution": {
     "iopub.execute_input": "2023-02-23T08:38:41.869884Z",
     "iopub.status.busy": "2023-02-23T08:38:41.869396Z",
     "iopub.status.idle": "2023-02-23T08:38:48.219874Z",
     "shell.execute_reply": "2023-02-23T08:38:48.219166Z"
    }
   },
   "outputs": [
    {
     "name": "stdout",
     "output_type": "stream",
     "text": [
      "78.2 µs ± 455 ns per loop (mean ± std. dev. of 7 runs, 10,000 loops each)\n"
     ]
    }
   ],
   "source": [
    "%timeit Batch.stack(batches)"
   ]
  },
  {
   "cell_type": "code",
   "execution_count": 27,
   "id": "cb8ab77e",
   "metadata": {
    "execution": {
     "iopub.execute_input": "2023-02-23T08:38:48.223130Z",
     "iopub.status.busy": "2023-02-23T08:38:48.222632Z",
     "iopub.status.idle": "2023-02-23T08:38:48.229998Z",
     "shell.execute_reply": "2023-02-23T08:38:48.229407Z"
    }
   },
   "outputs": [
    {
     "data": {
      "text/plain": [
       "Batch(\n",
       "    a: tensor([[-1.0137, -1.5753, -1.5998],\n",
       "               [-1.7802,  1.4487, -0.4156],\n",
       "               [-1.0137, -1.5753, -1.5998],\n",
       "               [-1.7802,  1.4487, -0.4156],\n",
       "               [-1.0137, -1.5753, -1.5998],\n",
       "               [-1.7802,  1.4487, -0.4156],\n",
       "               [-1.0137, -1.5753, -1.5998],\n",
       "               [-1.7802,  1.4487, -0.4156],\n",
       "               [-1.0137, -1.5753, -1.5998],\n",
       "               [-1.7802,  1.4487, -0.4156],\n",
       "               [-1.0137, -1.5753, -1.5998],\n",
       "               [-1.7802,  1.4487, -0.4156],\n",
       "               [-1.0137, -1.5753, -1.5998],\n",
       "               [-1.7802,  1.4487, -0.4156],\n",
       "               [-1.0137, -1.5753, -1.5998],\n",
       "               [-1.7802,  1.4487, -0.4156]]),\n",
       "    x: Batch(\n",
       "           c: tensor([[ 0.0316,  1.0273, -1.2041,  2.1715],\n",
       "                      [-2.3469,  0.2098,  0.2584,  0.2096],\n",
       "                      [-1.1947,  1.1794,  1.1791,  0.1100],\n",
       "                      [ 0.0316,  1.0273, -1.2041,  2.1715],\n",
       "                      [-2.3469,  0.2098,  0.2584,  0.2096],\n",
       "                      [-1.1947,  1.1794,  1.1791,  0.1100],\n",
       "                      [ 0.0316,  1.0273, -1.2041,  2.1715],\n",
       "                      [-2.3469,  0.2098,  0.2584,  0.2096],\n",
       "                      [-1.1947,  1.1794,  1.1791,  0.1100],\n",
       "                      [ 0.0316,  1.0273, -1.2041,  2.1715],\n",
       "                      [-2.3469,  0.2098,  0.2584,  0.2096],\n",
       "                      [-1.1947,  1.1794,  1.1791,  0.1100],\n",
       "                      [ 0.0316,  1.0273, -1.2041,  2.1715],\n",
       "                      [-2.3469,  0.2098,  0.2584,  0.2096],\n",
       "                      [-1.1947,  1.1794,  1.1791,  0.1100],\n",
       "                      [ 0.0316,  1.0273, -1.2041,  2.1715],\n",
       "                      [-2.3469,  0.2098,  0.2584,  0.2096],\n",
       "                      [-1.1947,  1.1794,  1.1791,  0.1100],\n",
       "                      [ 0.0316,  1.0273, -1.2041,  2.1715],\n",
       "                      [-2.3469,  0.2098,  0.2584,  0.2096],\n",
       "                      [-1.1947,  1.1794,  1.1791,  0.1100],\n",
       "                      [ 0.0316,  1.0273, -1.2041,  2.1715],\n",
       "                      [-2.3469,  0.2098,  0.2584,  0.2096],\n",
       "                      [-1.1947,  1.1794,  1.1791,  0.1100]]),\n",
       "       ),\n",
       ")"
      ]
     },
     "execution_count": 27,
     "metadata": {},
     "output_type": "execute_result"
    }
   ],
   "source": [
    "Batch.cat(batches)"
   ]
  },
  {
   "cell_type": "code",
   "execution_count": 28,
   "id": "18dfb045",
   "metadata": {
    "execution": {
     "iopub.execute_input": "2023-02-23T08:38:48.232364Z",
     "iopub.status.busy": "2023-02-23T08:38:48.232038Z",
     "iopub.status.idle": "2023-02-23T08:38:59.780092Z",
     "shell.execute_reply": "2023-02-23T08:38:59.779388Z"
    }
   },
   "outputs": [
    {
     "name": "stdout",
     "output_type": "stream",
     "text": [
      "142 µs ± 350 ns per loop (mean ± std. dev. of 7 runs, 10,000 loops each)\n"
     ]
    }
   ],
   "source": [
    "%timeit Batch.cat(batches)"
   ]
  },
  {
   "cell_type": "code",
   "execution_count": 29,
   "id": "c6688e51",
   "metadata": {
    "execution": {
     "iopub.execute_input": "2023-02-23T08:38:59.782877Z",
     "iopub.status.busy": "2023-02-23T08:38:59.782528Z",
     "iopub.status.idle": "2023-02-23T08:39:02.261817Z",
     "shell.execute_reply": "2023-02-23T08:39:02.261115Z"
    }
   },
   "outputs": [
    {
     "name": "stdout",
     "output_type": "stream",
     "text": [
      "305 µs ± 1.93 µs per loop (mean ± std. dev. of 7 runs, 1,000 loops each)\n"
     ]
    }
   ],
   "source": [
    "batch = Batch({\n",
    "    'obs': torch.randn(8, 4, 84, 84),\n",
    "    'action': torch.randint(0, 6, size=(8, 1,)),\n",
    "    'reward': torch.rand(8, 1)}\n",
    ")\n",
    "\n",
    "%timeit list(Batch.split(batch, 1, shuffle=False, merge_last=True))"
   ]
  },
  {
   "cell_type": "code",
   "execution_count": null,
   "id": "2539fbd9",
   "metadata": {},
   "outputs": [],
   "source": []
  }
 ],
 "metadata": {
  "kernelspec": {
   "display_name": "Python 3 (ipykernel)",
   "language": "python",
   "name": "python3"
  },
  "language_info": {
   "codemirror_mode": {
    "name": "ipython",
    "version": 3
   },
   "file_extension": ".py",
   "mimetype": "text/x-python",
   "name": "python",
   "nbconvert_exporter": "python",
   "pygments_lexer": "ipython3",
   "version": "3.8.16"
  }
 },
 "nbformat": 4,
 "nbformat_minor": 5
}
