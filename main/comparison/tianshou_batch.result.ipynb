{
 "cells": [
  {
   "cell_type": "markdown",
   "id": "9d39d946",
   "metadata": {},
   "source": [
    "# Comparison Between TreeValue and Tianshou Batch"
   ]
  },
  {
   "cell_type": "markdown",
   "id": "3c6db2d4",
   "metadata": {},
   "source": [
    "In this section, we will take a look at the feature and performance of the [Tianshou Batch](https://github.com/thu-ml/tianshou) library, which is developed by Tsinghua Machine Learning Group."
   ]
  },
  {
   "cell_type": "markdown",
   "id": "069361b0",
   "metadata": {},
   "source": [
    "Before starting the comparison, let us define some thing."
   ]
  },
  {
   "cell_type": "code",
   "execution_count": 1,
   "id": "06fc8d26",
   "metadata": {
    "execution": {
     "iopub.execute_input": "2023-03-06T09:32:49.780469Z",
     "iopub.status.busy": "2023-03-06T09:32:49.780255Z",
     "iopub.status.idle": "2023-03-06T09:32:50.682815Z",
     "shell.execute_reply": "2023-03-06T09:32:50.682150Z"
    }
   },
   "outputs": [
    {
     "name": "stderr",
     "output_type": "stream",
     "text": [
      "/opt/hostedtoolcache/Python/3.8.16/x64/lib/python3.8/site-packages/tqdm/auto.py:21: TqdmWarning: IProgress not found. Please update jupyter and ipywidgets. See https://ipywidgets.readthedocs.io/en/stable/user_install.html\n",
      "  from .autonotebook import tqdm as notebook_tqdm\n"
     ]
    }
   ],
   "source": [
    "import torch \n",
    "\n",
    "_TREE_DATA_1 = {'a': 1, 'b': 2, 'x': {'c': 3, 'd': 4}}\n",
    "_TREE_DATA_2 = {\n",
    "    'a': torch.randn(2, 3), \n",
    "    'x': {\n",
    "        'c': torch.randn(3, 4)\n",
    "    },\n",
    "}\n",
    "_TREE_DATA_3 = {\n",
    "    'obs': torch.randn(4, 84, 84),\n",
    "    'action': torch.randint(0, 6, size=(1,)),\n",
    "    'reward': torch.rand(1),\n",
    "}"
   ]
  },
  {
   "cell_type": "markdown",
   "id": "83461b25",
   "metadata": {},
   "source": [
    "## Read and Write Operation"
   ]
  },
  {
   "cell_type": "markdown",
   "id": "067b3f73",
   "metadata": {},
   "source": [
    "Reading and writing are the two most common operations in the tree data structure based on the data model (TreeValue and Tianshou Batch both belong to this type), so this section will compare the reading and writing performance of these two libraries."
   ]
  },
  {
   "cell_type": "markdown",
   "id": "5d09a5b7",
   "metadata": {},
   "source": [
    "### TreeValue's Get and Set"
   ]
  },
  {
   "cell_type": "code",
   "execution_count": 2,
   "id": "9519c4bb",
   "metadata": {
    "execution": {
     "iopub.execute_input": "2023-03-06T09:32:50.686465Z",
     "iopub.status.busy": "2023-03-06T09:32:50.685862Z",
     "iopub.status.idle": "2023-03-06T09:32:50.966804Z",
     "shell.execute_reply": "2023-03-06T09:32:50.966091Z"
    }
   },
   "outputs": [],
   "source": [
    "from treevalue import FastTreeValue\n",
    "\n",
    "t = FastTreeValue(_TREE_DATA_2)"
   ]
  },
  {
   "cell_type": "code",
   "execution_count": 3,
   "id": "11c37677",
   "metadata": {
    "execution": {
     "iopub.execute_input": "2023-03-06T09:32:50.970224Z",
     "iopub.status.busy": "2023-03-06T09:32:50.969605Z",
     "iopub.status.idle": "2023-03-06T09:32:50.979302Z",
     "shell.execute_reply": "2023-03-06T09:32:50.978677Z"
    }
   },
   "outputs": [
    {
     "data": {
      "text/plain": [
       "<FastTreeValue 0x7fe688c6a250>\n",
       "├── 'a' --> tensor([[-0.9634,  0.4240, -1.3390],\n",
       "│                   [-0.0619,  0.5273, -0.3809]])\n",
       "└── 'x' --> <FastTreeValue 0x7fe688c6a370>\n",
       "    └── 'c' --> tensor([[ 2.3221, -0.7659, -0.3737,  0.1301],\n",
       "                        [ 0.7361, -0.0727, -0.2247,  0.3612],\n",
       "                        [ 1.0653,  0.7350,  2.2299,  1.2176]])"
      ]
     },
     "execution_count": 3,
     "metadata": {},
     "output_type": "execute_result"
    }
   ],
   "source": [
    "t"
   ]
  },
  {
   "cell_type": "code",
   "execution_count": 4,
   "id": "fd70b0b9",
   "metadata": {
    "execution": {
     "iopub.execute_input": "2023-03-06T09:32:50.982064Z",
     "iopub.status.busy": "2023-03-06T09:32:50.981508Z",
     "iopub.status.idle": "2023-03-06T09:32:50.987037Z",
     "shell.execute_reply": "2023-03-06T09:32:50.986432Z"
    }
   },
   "outputs": [
    {
     "data": {
      "text/plain": [
       "tensor([[-0.9634,  0.4240, -1.3390],\n",
       "        [-0.0619,  0.5273, -0.3809]])"
      ]
     },
     "execution_count": 4,
     "metadata": {},
     "output_type": "execute_result"
    }
   ],
   "source": [
    "t.a"
   ]
  },
  {
   "cell_type": "code",
   "execution_count": 5,
   "id": "c18197bd",
   "metadata": {
    "execution": {
     "iopub.execute_input": "2023-03-06T09:32:50.990039Z",
     "iopub.status.busy": "2023-03-06T09:32:50.989534Z",
     "iopub.status.idle": "2023-03-06T09:32:56.160649Z",
     "shell.execute_reply": "2023-03-06T09:32:56.159903Z"
    }
   },
   "outputs": [
    {
     "name": "stdout",
     "output_type": "stream",
     "text": [
      "63.7 ns ± 0.0584 ns per loop (mean ± std. dev. of 7 runs, 10,000,000 loops each)\n"
     ]
    }
   ],
   "source": [
    "%timeit t.a"
   ]
  },
  {
   "cell_type": "code",
   "execution_count": 6,
   "id": "bd52f867",
   "metadata": {
    "execution": {
     "iopub.execute_input": "2023-03-06T09:32:56.163331Z",
     "iopub.status.busy": "2023-03-06T09:32:56.163084Z",
     "iopub.status.idle": "2023-03-06T09:32:56.169945Z",
     "shell.execute_reply": "2023-03-06T09:32:56.169352Z"
    }
   },
   "outputs": [
    {
     "data": {
      "text/plain": [
       "<FastTreeValue 0x7fe688c6a250>\n",
       "├── 'a' --> tensor([[0.7551, 0.6618, 0.9277],\n",
       "│                   [1.1065, 1.2684, 1.5656]])\n",
       "└── 'x' --> <FastTreeValue 0x7fe688c6a370>\n",
       "    └── 'c' --> tensor([[ 2.3221, -0.7659, -0.3737,  0.1301],\n",
       "                        [ 0.7361, -0.0727, -0.2247,  0.3612],\n",
       "                        [ 1.0653,  0.7350,  2.2299,  1.2176]])"
      ]
     },
     "execution_count": 6,
     "metadata": {},
     "output_type": "execute_result"
    }
   ],
   "source": [
    "new_value = torch.randn(2, 3)\n",
    "t.a = new_value\n",
    "\n",
    "t"
   ]
  },
  {
   "cell_type": "code",
   "execution_count": 7,
   "id": "bbe04d1c",
   "metadata": {
    "execution": {
     "iopub.execute_input": "2023-03-06T09:32:56.172890Z",
     "iopub.status.busy": "2023-03-06T09:32:56.172302Z",
     "iopub.status.idle": "2023-03-06T09:33:01.088791Z",
     "shell.execute_reply": "2023-03-06T09:33:01.088086Z"
    }
   },
   "outputs": [
    {
     "name": "stdout",
     "output_type": "stream",
     "text": [
      "60.6 ns ± 0.0358 ns per loop (mean ± std. dev. of 7 runs, 10,000,000 loops each)\n"
     ]
    }
   ],
   "source": [
    "%timeit t.a = new_value"
   ]
  },
  {
   "cell_type": "markdown",
   "id": "48c49731",
   "metadata": {},
   "source": [
    "### Tianshou Batch's Get and Set"
   ]
  },
  {
   "cell_type": "code",
   "execution_count": 8,
   "id": "f1bb14c1",
   "metadata": {
    "execution": {
     "iopub.execute_input": "2023-03-06T09:33:01.091896Z",
     "iopub.status.busy": "2023-03-06T09:33:01.091532Z",
     "iopub.status.idle": "2023-03-06T09:33:01.423276Z",
     "shell.execute_reply": "2023-03-06T09:33:01.422579Z"
    }
   },
   "outputs": [],
   "source": [
    "from tianshou.data import Batch\n",
    "\n",
    "b = Batch(**_TREE_DATA_2)"
   ]
  },
  {
   "cell_type": "code",
   "execution_count": 9,
   "id": "cb0777c3",
   "metadata": {
    "execution": {
     "iopub.execute_input": "2023-03-06T09:33:01.426733Z",
     "iopub.status.busy": "2023-03-06T09:33:01.426188Z",
     "iopub.status.idle": "2023-03-06T09:33:01.431627Z",
     "shell.execute_reply": "2023-03-06T09:33:01.431017Z"
    }
   },
   "outputs": [
    {
     "data": {
      "text/plain": [
       "Batch(\n",
       "    a: tensor([[-0.9634,  0.4240, -1.3390],\n",
       "               [-0.0619,  0.5273, -0.3809]]),\n",
       "    x: Batch(\n",
       "           c: tensor([[ 2.3221, -0.7659, -0.3737,  0.1301],\n",
       "                      [ 0.7361, -0.0727, -0.2247,  0.3612],\n",
       "                      [ 1.0653,  0.7350,  2.2299,  1.2176]]),\n",
       "       ),\n",
       ")"
      ]
     },
     "execution_count": 9,
     "metadata": {},
     "output_type": "execute_result"
    }
   ],
   "source": [
    "b"
   ]
  },
  {
   "cell_type": "code",
   "execution_count": 10,
   "id": "43ef8ea3",
   "metadata": {
    "execution": {
     "iopub.execute_input": "2023-03-06T09:33:01.434258Z",
     "iopub.status.busy": "2023-03-06T09:33:01.433928Z",
     "iopub.status.idle": "2023-03-06T09:33:01.438408Z",
     "shell.execute_reply": "2023-03-06T09:33:01.437785Z"
    }
   },
   "outputs": [
    {
     "data": {
      "text/plain": [
       "tensor([[-0.9634,  0.4240, -1.3390],\n",
       "        [-0.0619,  0.5273, -0.3809]])"
      ]
     },
     "execution_count": 10,
     "metadata": {},
     "output_type": "execute_result"
    }
   ],
   "source": [
    "b.a"
   ]
  },
  {
   "cell_type": "code",
   "execution_count": 11,
   "id": "b785ab72",
   "metadata": {
    "execution": {
     "iopub.execute_input": "2023-03-06T09:33:01.440867Z",
     "iopub.status.busy": "2023-03-06T09:33:01.440523Z",
     "iopub.status.idle": "2023-03-06T09:33:05.963486Z",
     "shell.execute_reply": "2023-03-06T09:33:05.962761Z"
    }
   },
   "outputs": [
    {
     "name": "stdout",
     "output_type": "stream",
     "text": [
      "55.6 ns ± 0.0598 ns per loop (mean ± std. dev. of 7 runs, 10,000,000 loops each)\n"
     ]
    }
   ],
   "source": [
    "%timeit b.a"
   ]
  },
  {
   "cell_type": "code",
   "execution_count": 12,
   "id": "ad54dc69",
   "metadata": {
    "execution": {
     "iopub.execute_input": "2023-03-06T09:33:05.966191Z",
     "iopub.status.busy": "2023-03-06T09:33:05.965838Z",
     "iopub.status.idle": "2023-03-06T09:33:05.972184Z",
     "shell.execute_reply": "2023-03-06T09:33:05.971601Z"
    }
   },
   "outputs": [
    {
     "data": {
      "text/plain": [
       "Batch(\n",
       "    a: tensor([[ 0.8077, -1.1382, -0.9368],\n",
       "               [ 1.5722, -0.8105,  0.8320]]),\n",
       "    x: Batch(\n",
       "           c: tensor([[ 2.3221, -0.7659, -0.3737,  0.1301],\n",
       "                      [ 0.7361, -0.0727, -0.2247,  0.3612],\n",
       "                      [ 1.0653,  0.7350,  2.2299,  1.2176]]),\n",
       "       ),\n",
       ")"
      ]
     },
     "execution_count": 12,
     "metadata": {},
     "output_type": "execute_result"
    }
   ],
   "source": [
    "new_value = torch.randn(2, 3)\n",
    "b.a = new_value\n",
    "\n",
    "b"
   ]
  },
  {
   "cell_type": "code",
   "execution_count": 13,
   "id": "29b1d0bf",
   "metadata": {
    "execution": {
     "iopub.execute_input": "2023-03-06T09:33:05.974548Z",
     "iopub.status.busy": "2023-03-06T09:33:05.974217Z",
     "iopub.status.idle": "2023-03-06T09:33:09.932477Z",
     "shell.execute_reply": "2023-03-06T09:33:09.931770Z"
    }
   },
   "outputs": [
    {
     "name": "stdout",
     "output_type": "stream",
     "text": [
      "487 ns ± 0.0912 ns per loop (mean ± std. dev. of 7 runs, 1,000,000 loops each)\n"
     ]
    }
   ],
   "source": [
    "%timeit b.a = new_value"
   ]
  },
  {
   "cell_type": "markdown",
   "id": "b61ad1d0",
   "metadata": {},
   "source": [
    "## Initialization"
   ]
  },
  {
   "cell_type": "markdown",
   "id": "d70f0d54",
   "metadata": {},
   "source": [
    "### TreeValue's Initialization"
   ]
  },
  {
   "cell_type": "code",
   "execution_count": 14,
   "id": "d32a679b",
   "metadata": {
    "execution": {
     "iopub.execute_input": "2023-03-06T09:33:09.936426Z",
     "iopub.status.busy": "2023-03-06T09:33:09.935269Z",
     "iopub.status.idle": "2023-03-06T09:33:17.731250Z",
     "shell.execute_reply": "2023-03-06T09:33:17.730517Z"
    }
   },
   "outputs": [
    {
     "name": "stdout",
     "output_type": "stream",
     "text": [
      "959 ns ± 12.1 ns per loop (mean ± std. dev. of 7 runs, 1,000,000 loops each)\n"
     ]
    }
   ],
   "source": [
    "%timeit FastTreeValue(_TREE_DATA_1)"
   ]
  },
  {
   "cell_type": "markdown",
   "id": "24f3707b",
   "metadata": {},
   "source": [
    "### Tianshou Batch's Initialization"
   ]
  },
  {
   "cell_type": "code",
   "execution_count": 15,
   "id": "ac3958df",
   "metadata": {
    "execution": {
     "iopub.execute_input": "2023-03-06T09:33:17.734146Z",
     "iopub.status.busy": "2023-03-06T09:33:17.733790Z",
     "iopub.status.idle": "2023-03-06T09:33:27.205844Z",
     "shell.execute_reply": "2023-03-06T09:33:27.204998Z"
    }
   },
   "outputs": [
    {
     "name": "stdout",
     "output_type": "stream",
     "text": [
      "11.7 µs ± 24.4 ns per loop (mean ± std. dev. of 7 runs, 100,000 loops each)\n"
     ]
    }
   ],
   "source": [
    "%timeit Batch(**_TREE_DATA_1)"
   ]
  },
  {
   "cell_type": "markdown",
   "id": "1ab82e2d",
   "metadata": {},
   "source": [
    "## Deep Copy Operation"
   ]
  },
  {
   "cell_type": "code",
   "execution_count": 16,
   "id": "210a9442",
   "metadata": {
    "execution": {
     "iopub.execute_input": "2023-03-06T09:33:27.208992Z",
     "iopub.status.busy": "2023-03-06T09:33:27.208392Z",
     "iopub.status.idle": "2023-03-06T09:33:27.211959Z",
     "shell.execute_reply": "2023-03-06T09:33:27.211387Z"
    }
   },
   "outputs": [],
   "source": [
    "import copy"
   ]
  },
  {
   "cell_type": "markdown",
   "id": "5a736274",
   "metadata": {},
   "source": [
    "### Deep Copy of TreeValue"
   ]
  },
  {
   "cell_type": "code",
   "execution_count": 17,
   "id": "f9bcadd6",
   "metadata": {
    "execution": {
     "iopub.execute_input": "2023-03-06T09:33:27.214663Z",
     "iopub.status.busy": "2023-03-06T09:33:27.214072Z",
     "iopub.status.idle": "2023-03-06T09:33:38.201276Z",
     "shell.execute_reply": "2023-03-06T09:33:38.200684Z"
    }
   },
   "outputs": [
    {
     "name": "stdout",
     "output_type": "stream",
     "text": [
      "135 µs ± 854 ns per loop (mean ± std. dev. of 7 runs, 10,000 loops each)\n"
     ]
    }
   ],
   "source": [
    "t3 = FastTreeValue(_TREE_DATA_3)\n",
    "%timeit copy.deepcopy(t3)"
   ]
  },
  {
   "cell_type": "markdown",
   "id": "bf8be7ea",
   "metadata": {},
   "source": [
    "### Deep Copy of Tianshou Batch"
   ]
  },
  {
   "cell_type": "code",
   "execution_count": 18,
   "id": "91998e6f",
   "metadata": {
    "execution": {
     "iopub.execute_input": "2023-03-06T09:33:38.204469Z",
     "iopub.status.busy": "2023-03-06T09:33:38.204097Z",
     "iopub.status.idle": "2023-03-06T09:33:49.298019Z",
     "shell.execute_reply": "2023-03-06T09:33:49.297421Z"
    }
   },
   "outputs": [
    {
     "name": "stdout",
     "output_type": "stream",
     "text": [
      "137 µs ± 658 ns per loop (mean ± std. dev. of 7 runs, 10,000 loops each)\n"
     ]
    }
   ],
   "source": [
    "b3 = Batch(**_TREE_DATA_3)\n",
    "%timeit copy.deepcopy(b3)"
   ]
  },
  {
   "cell_type": "markdown",
   "id": "223162fb",
   "metadata": {},
   "source": [
    "## Stack, Concat and Split Operation"
   ]
  },
  {
   "cell_type": "markdown",
   "id": "85fa4a73",
   "metadata": {},
   "source": [
    "### Performance of TreeValue"
   ]
  },
  {
   "cell_type": "code",
   "execution_count": 19,
   "id": "a0c2b697",
   "metadata": {
    "execution": {
     "iopub.execute_input": "2023-03-06T09:33:49.301480Z",
     "iopub.status.busy": "2023-03-06T09:33:49.300865Z",
     "iopub.status.idle": "2023-03-06T09:33:49.305138Z",
     "shell.execute_reply": "2023-03-06T09:33:49.304525Z"
    }
   },
   "outputs": [],
   "source": [
    "trees = [FastTreeValue(_TREE_DATA_2) for _ in range(8)]"
   ]
  },
  {
   "cell_type": "code",
   "execution_count": 20,
   "id": "017ea5a5",
   "metadata": {
    "execution": {
     "iopub.execute_input": "2023-03-06T09:33:49.307777Z",
     "iopub.status.busy": "2023-03-06T09:33:49.307436Z",
     "iopub.status.idle": "2023-03-06T09:33:49.314470Z",
     "shell.execute_reply": "2023-03-06T09:33:49.313958Z"
    }
   },
   "outputs": [
    {
     "data": {
      "text/plain": [
       "<FastTreeValue 0x7fe5d9ea1a30>\n",
       "├── 'a' --> tensor([[[-0.9634,  0.4240, -1.3390],\n",
       "│                    [-0.0619,  0.5273, -0.3809]],\n",
       "│           \n",
       "│                   [[-0.9634,  0.4240, -1.3390],\n",
       "│                    [-0.0619,  0.5273, -0.3809]],\n",
       "│           \n",
       "│                   [[-0.9634,  0.4240, -1.3390],\n",
       "│                    [-0.0619,  0.5273, -0.3809]],\n",
       "│           \n",
       "│                   [[-0.9634,  0.4240, -1.3390],\n",
       "│                    [-0.0619,  0.5273, -0.3809]],\n",
       "│           \n",
       "│                   [[-0.9634,  0.4240, -1.3390],\n",
       "│                    [-0.0619,  0.5273, -0.3809]],\n",
       "│           \n",
       "│                   [[-0.9634,  0.4240, -1.3390],\n",
       "│                    [-0.0619,  0.5273, -0.3809]],\n",
       "│           \n",
       "│                   [[-0.9634,  0.4240, -1.3390],\n",
       "│                    [-0.0619,  0.5273, -0.3809]],\n",
       "│           \n",
       "│                   [[-0.9634,  0.4240, -1.3390],\n",
       "│                    [-0.0619,  0.5273, -0.3809]]])\n",
       "└── 'x' --> <FastTreeValue 0x7fe5e45cdfa0>\n",
       "    └── 'c' --> tensor([[[ 2.3221, -0.7659, -0.3737,  0.1301],\n",
       "                         [ 0.7361, -0.0727, -0.2247,  0.3612],\n",
       "                         [ 1.0653,  0.7350,  2.2299,  1.2176]],\n",
       "                \n",
       "                        [[ 2.3221, -0.7659, -0.3737,  0.1301],\n",
       "                         [ 0.7361, -0.0727, -0.2247,  0.3612],\n",
       "                         [ 1.0653,  0.7350,  2.2299,  1.2176]],\n",
       "                \n",
       "                        [[ 2.3221, -0.7659, -0.3737,  0.1301],\n",
       "                         [ 0.7361, -0.0727, -0.2247,  0.3612],\n",
       "                         [ 1.0653,  0.7350,  2.2299,  1.2176]],\n",
       "                \n",
       "                        [[ 2.3221, -0.7659, -0.3737,  0.1301],\n",
       "                         [ 0.7361, -0.0727, -0.2247,  0.3612],\n",
       "                         [ 1.0653,  0.7350,  2.2299,  1.2176]],\n",
       "                \n",
       "                        [[ 2.3221, -0.7659, -0.3737,  0.1301],\n",
       "                         [ 0.7361, -0.0727, -0.2247,  0.3612],\n",
       "                         [ 1.0653,  0.7350,  2.2299,  1.2176]],\n",
       "                \n",
       "                        [[ 2.3221, -0.7659, -0.3737,  0.1301],\n",
       "                         [ 0.7361, -0.0727, -0.2247,  0.3612],\n",
       "                         [ 1.0653,  0.7350,  2.2299,  1.2176]],\n",
       "                \n",
       "                        [[ 2.3221, -0.7659, -0.3737,  0.1301],\n",
       "                         [ 0.7361, -0.0727, -0.2247,  0.3612],\n",
       "                         [ 1.0653,  0.7350,  2.2299,  1.2176]],\n",
       "                \n",
       "                        [[ 2.3221, -0.7659, -0.3737,  0.1301],\n",
       "                         [ 0.7361, -0.0727, -0.2247,  0.3612],\n",
       "                         [ 1.0653,  0.7350,  2.2299,  1.2176]]])"
      ]
     },
     "execution_count": 20,
     "metadata": {},
     "output_type": "execute_result"
    }
   ],
   "source": [
    "t_stack = FastTreeValue.func(subside=True)(torch.stack)\n",
    "\n",
    "t_stack(trees)"
   ]
  },
  {
   "cell_type": "code",
   "execution_count": 21,
   "id": "f8b3f415",
   "metadata": {
    "execution": {
     "iopub.execute_input": "2023-03-06T09:33:49.316993Z",
     "iopub.status.busy": "2023-03-06T09:33:49.316394Z",
     "iopub.status.idle": "2023-03-06T09:33:51.931804Z",
     "shell.execute_reply": "2023-03-06T09:33:51.931101Z"
    }
   },
   "outputs": [
    {
     "name": "stdout",
     "output_type": "stream",
     "text": [
      "32.2 µs ± 72.4 ns per loop (mean ± std. dev. of 7 runs, 10,000 loops each)\n"
     ]
    }
   ],
   "source": [
    "%timeit t_stack(trees)"
   ]
  },
  {
   "cell_type": "code",
   "execution_count": 22,
   "id": "94b56771",
   "metadata": {
    "execution": {
     "iopub.execute_input": "2023-03-06T09:33:51.934984Z",
     "iopub.status.busy": "2023-03-06T09:33:51.934473Z",
     "iopub.status.idle": "2023-03-06T09:33:51.943326Z",
     "shell.execute_reply": "2023-03-06T09:33:51.942736Z"
    }
   },
   "outputs": [
    {
     "data": {
      "text/plain": [
       "<FastTreeValue 0x7fe5d9b890a0>\n",
       "├── 'a' --> tensor([[-0.9634,  0.4240, -1.3390],\n",
       "│                   [-0.0619,  0.5273, -0.3809],\n",
       "│                   [-0.9634,  0.4240, -1.3390],\n",
       "│                   [-0.0619,  0.5273, -0.3809],\n",
       "│                   [-0.9634,  0.4240, -1.3390],\n",
       "│                   [-0.0619,  0.5273, -0.3809],\n",
       "│                   [-0.9634,  0.4240, -1.3390],\n",
       "│                   [-0.0619,  0.5273, -0.3809],\n",
       "│                   [-0.9634,  0.4240, -1.3390],\n",
       "│                   [-0.0619,  0.5273, -0.3809],\n",
       "│                   [-0.9634,  0.4240, -1.3390],\n",
       "│                   [-0.0619,  0.5273, -0.3809],\n",
       "│                   [-0.9634,  0.4240, -1.3390],\n",
       "│                   [-0.0619,  0.5273, -0.3809],\n",
       "│                   [-0.9634,  0.4240, -1.3390],\n",
       "│                   [-0.0619,  0.5273, -0.3809]])\n",
       "└── 'x' --> <FastTreeValue 0x7fe5d9b89a60>\n",
       "    └── 'c' --> tensor([[ 2.3221, -0.7659, -0.3737,  0.1301],\n",
       "                        [ 0.7361, -0.0727, -0.2247,  0.3612],\n",
       "                        [ 1.0653,  0.7350,  2.2299,  1.2176],\n",
       "                        [ 2.3221, -0.7659, -0.3737,  0.1301],\n",
       "                        [ 0.7361, -0.0727, -0.2247,  0.3612],\n",
       "                        [ 1.0653,  0.7350,  2.2299,  1.2176],\n",
       "                        [ 2.3221, -0.7659, -0.3737,  0.1301],\n",
       "                        [ 0.7361, -0.0727, -0.2247,  0.3612],\n",
       "                        [ 1.0653,  0.7350,  2.2299,  1.2176],\n",
       "                        [ 2.3221, -0.7659, -0.3737,  0.1301],\n",
       "                        [ 0.7361, -0.0727, -0.2247,  0.3612],\n",
       "                        [ 1.0653,  0.7350,  2.2299,  1.2176],\n",
       "                        [ 2.3221, -0.7659, -0.3737,  0.1301],\n",
       "                        [ 0.7361, -0.0727, -0.2247,  0.3612],\n",
       "                        [ 1.0653,  0.7350,  2.2299,  1.2176],\n",
       "                        [ 2.3221, -0.7659, -0.3737,  0.1301],\n",
       "                        [ 0.7361, -0.0727, -0.2247,  0.3612],\n",
       "                        [ 1.0653,  0.7350,  2.2299,  1.2176],\n",
       "                        [ 2.3221, -0.7659, -0.3737,  0.1301],\n",
       "                        [ 0.7361, -0.0727, -0.2247,  0.3612],\n",
       "                        [ 1.0653,  0.7350,  2.2299,  1.2176],\n",
       "                        [ 2.3221, -0.7659, -0.3737,  0.1301],\n",
       "                        [ 0.7361, -0.0727, -0.2247,  0.3612],\n",
       "                        [ 1.0653,  0.7350,  2.2299,  1.2176]])"
      ]
     },
     "execution_count": 22,
     "metadata": {},
     "output_type": "execute_result"
    }
   ],
   "source": [
    "t_cat = FastTreeValue.func(subside=True)(torch.cat)\n",
    "\n",
    "t_cat(trees)"
   ]
  },
  {
   "cell_type": "code",
   "execution_count": 23,
   "id": "5e9c06a6",
   "metadata": {
    "execution": {
     "iopub.execute_input": "2023-03-06T09:33:51.946752Z",
     "iopub.status.busy": "2023-03-06T09:33:51.945737Z",
     "iopub.status.idle": "2023-03-06T09:33:54.405489Z",
     "shell.execute_reply": "2023-03-06T09:33:54.404781Z"
    }
   },
   "outputs": [
    {
     "name": "stdout",
     "output_type": "stream",
     "text": [
      "30.2 µs ± 62 ns per loop (mean ± std. dev. of 7 runs, 10,000 loops each)\n"
     ]
    }
   ],
   "source": [
    "%timeit t_cat(trees)"
   ]
  },
  {
   "cell_type": "code",
   "execution_count": 24,
   "id": "a3ab5c8f",
   "metadata": {
    "execution": {
     "iopub.execute_input": "2023-03-06T09:33:54.408667Z",
     "iopub.status.busy": "2023-03-06T09:33:54.408218Z",
     "iopub.status.idle": "2023-03-06T09:33:59.088152Z",
     "shell.execute_reply": "2023-03-06T09:33:59.087388Z"
    }
   },
   "outputs": [
    {
     "name": "stdout",
     "output_type": "stream",
     "text": [
      "57.5 µs ± 58.8 ns per loop (mean ± std. dev. of 7 runs, 10,000 loops each)\n"
     ]
    }
   ],
   "source": [
    "t_split = FastTreeValue.func(rise=True)(torch.split)\n",
    "tree = FastTreeValue({\n",
    "    'obs': torch.randn(8, 4, 84, 84),\n",
    "    'action': torch.randint(0, 6, size=(8, 1,)),\n",
    "    'reward': torch.rand(8, 1),\n",
    "})\n",
    "\n",
    "%timeit t_split(tree, 1)"
   ]
  },
  {
   "cell_type": "markdown",
   "id": "31c3ec0b",
   "metadata": {},
   "source": [
    "### Performance of Tianshou Batch"
   ]
  },
  {
   "cell_type": "code",
   "execution_count": 25,
   "id": "9ead828a",
   "metadata": {
    "execution": {
     "iopub.execute_input": "2023-03-06T09:33:59.091315Z",
     "iopub.status.busy": "2023-03-06T09:33:59.090958Z",
     "iopub.status.idle": "2023-03-06T09:33:59.099444Z",
     "shell.execute_reply": "2023-03-06T09:33:59.098831Z"
    }
   },
   "outputs": [
    {
     "data": {
      "text/plain": [
       "Batch(\n",
       "    a: tensor([[[-0.9634,  0.4240, -1.3390],\n",
       "                [-0.0619,  0.5273, -0.3809]],\n",
       "       \n",
       "               [[-0.9634,  0.4240, -1.3390],\n",
       "                [-0.0619,  0.5273, -0.3809]],\n",
       "       \n",
       "               [[-0.9634,  0.4240, -1.3390],\n",
       "                [-0.0619,  0.5273, -0.3809]],\n",
       "       \n",
       "               [[-0.9634,  0.4240, -1.3390],\n",
       "                [-0.0619,  0.5273, -0.3809]],\n",
       "       \n",
       "               [[-0.9634,  0.4240, -1.3390],\n",
       "                [-0.0619,  0.5273, -0.3809]],\n",
       "       \n",
       "               [[-0.9634,  0.4240, -1.3390],\n",
       "                [-0.0619,  0.5273, -0.3809]],\n",
       "       \n",
       "               [[-0.9634,  0.4240, -1.3390],\n",
       "                [-0.0619,  0.5273, -0.3809]],\n",
       "       \n",
       "               [[-0.9634,  0.4240, -1.3390],\n",
       "                [-0.0619,  0.5273, -0.3809]]]),\n",
       "    x: Batch(\n",
       "           c: tensor([[[ 2.3221, -0.7659, -0.3737,  0.1301],\n",
       "                       [ 0.7361, -0.0727, -0.2247,  0.3612],\n",
       "                       [ 1.0653,  0.7350,  2.2299,  1.2176]],\n",
       "              \n",
       "                      [[ 2.3221, -0.7659, -0.3737,  0.1301],\n",
       "                       [ 0.7361, -0.0727, -0.2247,  0.3612],\n",
       "                       [ 1.0653,  0.7350,  2.2299,  1.2176]],\n",
       "              \n",
       "                      [[ 2.3221, -0.7659, -0.3737,  0.1301],\n",
       "                       [ 0.7361, -0.0727, -0.2247,  0.3612],\n",
       "                       [ 1.0653,  0.7350,  2.2299,  1.2176]],\n",
       "              \n",
       "                      [[ 2.3221, -0.7659, -0.3737,  0.1301],\n",
       "                       [ 0.7361, -0.0727, -0.2247,  0.3612],\n",
       "                       [ 1.0653,  0.7350,  2.2299,  1.2176]],\n",
       "              \n",
       "                      [[ 2.3221, -0.7659, -0.3737,  0.1301],\n",
       "                       [ 0.7361, -0.0727, -0.2247,  0.3612],\n",
       "                       [ 1.0653,  0.7350,  2.2299,  1.2176]],\n",
       "              \n",
       "                      [[ 2.3221, -0.7659, -0.3737,  0.1301],\n",
       "                       [ 0.7361, -0.0727, -0.2247,  0.3612],\n",
       "                       [ 1.0653,  0.7350,  2.2299,  1.2176]],\n",
       "              \n",
       "                      [[ 2.3221, -0.7659, -0.3737,  0.1301],\n",
       "                       [ 0.7361, -0.0727, -0.2247,  0.3612],\n",
       "                       [ 1.0653,  0.7350,  2.2299,  1.2176]],\n",
       "              \n",
       "                      [[ 2.3221, -0.7659, -0.3737,  0.1301],\n",
       "                       [ 0.7361, -0.0727, -0.2247,  0.3612],\n",
       "                       [ 1.0653,  0.7350,  2.2299,  1.2176]]]),\n",
       "       ),\n",
       ")"
      ]
     },
     "execution_count": 25,
     "metadata": {},
     "output_type": "execute_result"
    }
   ],
   "source": [
    "batches = [Batch(**_TREE_DATA_2) for _ in range(8)]\n",
    "\n",
    "Batch.stack(batches)"
   ]
  },
  {
   "cell_type": "code",
   "execution_count": 26,
   "id": "ec9037a3",
   "metadata": {
    "execution": {
     "iopub.execute_input": "2023-03-06T09:33:59.102366Z",
     "iopub.status.busy": "2023-03-06T09:33:59.101872Z",
     "iopub.status.idle": "2023-03-06T09:34:05.499297Z",
     "shell.execute_reply": "2023-03-06T09:34:05.498573Z"
    }
   },
   "outputs": [
    {
     "name": "stdout",
     "output_type": "stream",
     "text": [
      "78.8 µs ± 95 ns per loop (mean ± std. dev. of 7 runs, 10,000 loops each)\n"
     ]
    }
   ],
   "source": [
    "%timeit Batch.stack(batches)"
   ]
  },
  {
   "cell_type": "code",
   "execution_count": 27,
   "id": "cb8ab77e",
   "metadata": {
    "execution": {
     "iopub.execute_input": "2023-03-06T09:34:05.502198Z",
     "iopub.status.busy": "2023-03-06T09:34:05.501702Z",
     "iopub.status.idle": "2023-03-06T09:34:05.509103Z",
     "shell.execute_reply": "2023-03-06T09:34:05.508535Z"
    }
   },
   "outputs": [
    {
     "data": {
      "text/plain": [
       "Batch(\n",
       "    a: tensor([[-0.9634,  0.4240, -1.3390],\n",
       "               [-0.0619,  0.5273, -0.3809],\n",
       "               [-0.9634,  0.4240, -1.3390],\n",
       "               [-0.0619,  0.5273, -0.3809],\n",
       "               [-0.9634,  0.4240, -1.3390],\n",
       "               [-0.0619,  0.5273, -0.3809],\n",
       "               [-0.9634,  0.4240, -1.3390],\n",
       "               [-0.0619,  0.5273, -0.3809],\n",
       "               [-0.9634,  0.4240, -1.3390],\n",
       "               [-0.0619,  0.5273, -0.3809],\n",
       "               [-0.9634,  0.4240, -1.3390],\n",
       "               [-0.0619,  0.5273, -0.3809],\n",
       "               [-0.9634,  0.4240, -1.3390],\n",
       "               [-0.0619,  0.5273, -0.3809],\n",
       "               [-0.9634,  0.4240, -1.3390],\n",
       "               [-0.0619,  0.5273, -0.3809]]),\n",
       "    x: Batch(\n",
       "           c: tensor([[ 2.3221, -0.7659, -0.3737,  0.1301],\n",
       "                      [ 0.7361, -0.0727, -0.2247,  0.3612],\n",
       "                      [ 1.0653,  0.7350,  2.2299,  1.2176],\n",
       "                      [ 2.3221, -0.7659, -0.3737,  0.1301],\n",
       "                      [ 0.7361, -0.0727, -0.2247,  0.3612],\n",
       "                      [ 1.0653,  0.7350,  2.2299,  1.2176],\n",
       "                      [ 2.3221, -0.7659, -0.3737,  0.1301],\n",
       "                      [ 0.7361, -0.0727, -0.2247,  0.3612],\n",
       "                      [ 1.0653,  0.7350,  2.2299,  1.2176],\n",
       "                      [ 2.3221, -0.7659, -0.3737,  0.1301],\n",
       "                      [ 0.7361, -0.0727, -0.2247,  0.3612],\n",
       "                      [ 1.0653,  0.7350,  2.2299,  1.2176],\n",
       "                      [ 2.3221, -0.7659, -0.3737,  0.1301],\n",
       "                      [ 0.7361, -0.0727, -0.2247,  0.3612],\n",
       "                      [ 1.0653,  0.7350,  2.2299,  1.2176],\n",
       "                      [ 2.3221, -0.7659, -0.3737,  0.1301],\n",
       "                      [ 0.7361, -0.0727, -0.2247,  0.3612],\n",
       "                      [ 1.0653,  0.7350,  2.2299,  1.2176],\n",
       "                      [ 2.3221, -0.7659, -0.3737,  0.1301],\n",
       "                      [ 0.7361, -0.0727, -0.2247,  0.3612],\n",
       "                      [ 1.0653,  0.7350,  2.2299,  1.2176],\n",
       "                      [ 2.3221, -0.7659, -0.3737,  0.1301],\n",
       "                      [ 0.7361, -0.0727, -0.2247,  0.3612],\n",
       "                      [ 1.0653,  0.7350,  2.2299,  1.2176]]),\n",
       "       ),\n",
       ")"
      ]
     },
     "execution_count": 27,
     "metadata": {},
     "output_type": "execute_result"
    }
   ],
   "source": [
    "Batch.cat(batches)"
   ]
  },
  {
   "cell_type": "code",
   "execution_count": 28,
   "id": "18dfb045",
   "metadata": {
    "execution": {
     "iopub.execute_input": "2023-03-06T09:34:05.511792Z",
     "iopub.status.busy": "2023-03-06T09:34:05.511478Z",
     "iopub.status.idle": "2023-03-06T09:34:17.033108Z",
     "shell.execute_reply": "2023-03-06T09:34:17.032466Z"
    }
   },
   "outputs": [
    {
     "name": "stdout",
     "output_type": "stream",
     "text": [
      "142 µs ± 346 ns per loop (mean ± std. dev. of 7 runs, 10,000 loops each)\n"
     ]
    }
   ],
   "source": [
    "%timeit Batch.cat(batches)"
   ]
  },
  {
   "cell_type": "code",
   "execution_count": 29,
   "id": "c6688e51",
   "metadata": {
    "execution": {
     "iopub.execute_input": "2023-03-06T09:34:17.035790Z",
     "iopub.status.busy": "2023-03-06T09:34:17.035570Z",
     "iopub.status.idle": "2023-03-06T09:34:19.560044Z",
     "shell.execute_reply": "2023-03-06T09:34:19.559458Z"
    }
   },
   "outputs": [
    {
     "name": "stdout",
     "output_type": "stream",
     "text": [
      "310 µs ± 4.19 µs per loop (mean ± std. dev. of 7 runs, 1,000 loops each)\n"
     ]
    }
   ],
   "source": [
    "batch = Batch({\n",
    "    'obs': torch.randn(8, 4, 84, 84),\n",
    "    'action': torch.randint(0, 6, size=(8, 1,)),\n",
    "    'reward': torch.rand(8, 1)}\n",
    ")\n",
    "\n",
    "%timeit list(Batch.split(batch, 1, shuffle=False, merge_last=True))"
   ]
  },
  {
   "cell_type": "code",
   "execution_count": null,
   "id": "2539fbd9",
   "metadata": {},
   "outputs": [],
   "source": []
  }
 ],
 "metadata": {
  "kernelspec": {
   "display_name": "Python 3 (ipykernel)",
   "language": "python",
   "name": "python3"
  },
  "language_info": {
   "codemirror_mode": {
    "name": "ipython",
    "version": 3
   },
   "file_extension": ".py",
   "mimetype": "text/x-python",
   "name": "python",
   "nbconvert_exporter": "python",
   "pygments_lexer": "ipython3",
   "version": "3.8.16"
  }
 },
 "nbformat": 4,
 "nbformat_minor": 5
}
