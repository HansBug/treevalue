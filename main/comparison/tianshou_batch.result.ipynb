{
 "cells": [
  {
   "cell_type": "markdown",
   "id": "9d39d946",
   "metadata": {},
   "source": [
    "# Comparison Between TreeValue and Tianshou Batch"
   ]
  },
  {
   "cell_type": "markdown",
   "id": "3c6db2d4",
   "metadata": {},
   "source": [
    "In this section, we will take a look at the feature and performance of the [Tianshou Batch](https://github.com/thu-ml/tianshou) library, which is developed by Tsinghua Machine Learning Group."
   ]
  },
  {
   "cell_type": "markdown",
   "id": "069361b0",
   "metadata": {},
   "source": [
    "Before starting the comparison, let us define some thing."
   ]
  },
  {
   "cell_type": "code",
   "execution_count": 1,
   "id": "06fc8d26",
   "metadata": {
    "execution": {
     "iopub.execute_input": "2023-01-25T10:37:02.235961Z",
     "iopub.status.busy": "2023-01-25T10:37:02.235146Z",
     "iopub.status.idle": "2023-01-25T10:37:03.392365Z",
     "shell.execute_reply": "2023-01-25T10:37:03.391290Z"
    }
   },
   "outputs": [
    {
     "name": "stderr",
     "output_type": "stream",
     "text": [
      "/opt/hostedtoolcache/Python/3.8.16/x64/lib/python3.8/site-packages/tqdm/auto.py:22: TqdmWarning: IProgress not found. Please update jupyter and ipywidgets. See https://ipywidgets.readthedocs.io/en/stable/user_install.html\n",
      "  from .autonotebook import tqdm as notebook_tqdm\n"
     ]
    }
   ],
   "source": [
    "import torch \n",
    "\n",
    "_TREE_DATA_1 = {'a': 1, 'b': 2, 'x': {'c': 3, 'd': 4}}\n",
    "_TREE_DATA_2 = {\n",
    "    'a': torch.randn(2, 3), \n",
    "    'x': {\n",
    "        'c': torch.randn(3, 4)\n",
    "    },\n",
    "}\n",
    "_TREE_DATA_3 = {\n",
    "    'obs': torch.randn(4, 84, 84),\n",
    "    'action': torch.randint(0, 6, size=(1,)),\n",
    "    'reward': torch.rand(1),\n",
    "}"
   ]
  },
  {
   "cell_type": "markdown",
   "id": "83461b25",
   "metadata": {},
   "source": [
    "## Read and Write Operation"
   ]
  },
  {
   "cell_type": "markdown",
   "id": "067b3f73",
   "metadata": {},
   "source": [
    "Reading and writing are the two most common operations in the tree data structure based on the data model (TreeValue and Tianshou Batch both belong to this type), so this section will compare the reading and writing performance of these two libraries."
   ]
  },
  {
   "cell_type": "markdown",
   "id": "5d09a5b7",
   "metadata": {},
   "source": [
    "### TreeValue's Get and Set"
   ]
  },
  {
   "cell_type": "code",
   "execution_count": 2,
   "id": "9519c4bb",
   "metadata": {
    "execution": {
     "iopub.execute_input": "2023-01-25T10:37:03.397201Z",
     "iopub.status.busy": "2023-01-25T10:37:03.396571Z",
     "iopub.status.idle": "2023-01-25T10:37:03.435426Z",
     "shell.execute_reply": "2023-01-25T10:37:03.434610Z"
    }
   },
   "outputs": [],
   "source": [
    "from treevalue import FastTreeValue\n",
    "\n",
    "t = FastTreeValue(_TREE_DATA_2)"
   ]
  },
  {
   "cell_type": "code",
   "execution_count": 3,
   "id": "11c37677",
   "metadata": {
    "execution": {
     "iopub.execute_input": "2023-01-25T10:37:03.439668Z",
     "iopub.status.busy": "2023-01-25T10:37:03.439210Z",
     "iopub.status.idle": "2023-01-25T10:37:03.449458Z",
     "shell.execute_reply": "2023-01-25T10:37:03.448613Z"
    }
   },
   "outputs": [
    {
     "data": {
      "text/plain": [
       "<FastTreeValue 0x7f306099c1f0>\n",
       "├── 'a' --> tensor([[ 1.4126,  0.7742,  0.0023],\n",
       "│                   [ 1.5242, -0.4225,  0.5120]])\n",
       "└── 'x' --> <FastTreeValue 0x7f306099c5e0>\n",
       "    └── 'c' --> tensor([[-0.5477, -1.8098,  0.0351, -0.4242],\n",
       "                        [-1.9209,  0.1798,  0.7683, -1.1547],\n",
       "                        [ 0.7718,  0.4371,  0.8036, -0.2444]])"
      ]
     },
     "execution_count": 3,
     "metadata": {},
     "output_type": "execute_result"
    }
   ],
   "source": [
    "t"
   ]
  },
  {
   "cell_type": "code",
   "execution_count": 4,
   "id": "fd70b0b9",
   "metadata": {
    "execution": {
     "iopub.execute_input": "2023-01-25T10:37:03.455168Z",
     "iopub.status.busy": "2023-01-25T10:37:03.454856Z",
     "iopub.status.idle": "2023-01-25T10:37:03.463011Z",
     "shell.execute_reply": "2023-01-25T10:37:03.462179Z"
    }
   },
   "outputs": [
    {
     "data": {
      "text/plain": [
       "tensor([[ 1.4126,  0.7742,  0.0023],\n",
       "        [ 1.5242, -0.4225,  0.5120]])"
      ]
     },
     "execution_count": 4,
     "metadata": {},
     "output_type": "execute_result"
    }
   ],
   "source": [
    "t.a"
   ]
  },
  {
   "cell_type": "code",
   "execution_count": 5,
   "id": "c18197bd",
   "metadata": {
    "execution": {
     "iopub.execute_input": "2023-01-25T10:37:03.468404Z",
     "iopub.status.busy": "2023-01-25T10:37:03.467826Z",
     "iopub.status.idle": "2023-01-25T10:37:09.967380Z",
     "shell.execute_reply": "2023-01-25T10:37:09.965984Z"
    }
   },
   "outputs": [
    {
     "name": "stdout",
     "output_type": "stream",
     "text": [
      "80 ns ± 0.111 ns per loop (mean ± std. dev. of 7 runs, 10,000,000 loops each)\n"
     ]
    }
   ],
   "source": [
    "%timeit t.a"
   ]
  },
  {
   "cell_type": "code",
   "execution_count": 6,
   "id": "bd52f867",
   "metadata": {
    "execution": {
     "iopub.execute_input": "2023-01-25T10:37:09.972982Z",
     "iopub.status.busy": "2023-01-25T10:37:09.971651Z",
     "iopub.status.idle": "2023-01-25T10:37:09.983417Z",
     "shell.execute_reply": "2023-01-25T10:37:09.982654Z"
    }
   },
   "outputs": [
    {
     "data": {
      "text/plain": [
       "<FastTreeValue 0x7f306099c1f0>\n",
       "├── 'a' --> tensor([[0.3196, 1.5749, 1.1784],\n",
       "│                   [0.0320, 1.1575, 0.0840]])\n",
       "└── 'x' --> <FastTreeValue 0x7f306099c5e0>\n",
       "    └── 'c' --> tensor([[-0.5477, -1.8098,  0.0351, -0.4242],\n",
       "                        [-1.9209,  0.1798,  0.7683, -1.1547],\n",
       "                        [ 0.7718,  0.4371,  0.8036, -0.2444]])"
      ]
     },
     "execution_count": 6,
     "metadata": {},
     "output_type": "execute_result"
    }
   ],
   "source": [
    "new_value = torch.randn(2, 3)\n",
    "t.a = new_value\n",
    "\n",
    "t"
   ]
  },
  {
   "cell_type": "code",
   "execution_count": 7,
   "id": "bbe04d1c",
   "metadata": {
    "execution": {
     "iopub.execute_input": "2023-01-25T10:37:09.987104Z",
     "iopub.status.busy": "2023-01-25T10:37:09.986555Z",
     "iopub.status.idle": "2023-01-25T10:37:16.951024Z",
     "shell.execute_reply": "2023-01-25T10:37:16.950242Z"
    }
   },
   "outputs": [
    {
     "name": "stdout",
     "output_type": "stream",
     "text": [
      "85.7 ns ± 0.241 ns per loop (mean ± std. dev. of 7 runs, 10,000,000 loops each)\n"
     ]
    }
   ],
   "source": [
    "%timeit t.a = new_value"
   ]
  },
  {
   "cell_type": "markdown",
   "id": "48c49731",
   "metadata": {},
   "source": [
    "### Tianshou Batch's Get and Set"
   ]
  },
  {
   "cell_type": "code",
   "execution_count": 8,
   "id": "f1bb14c1",
   "metadata": {
    "execution": {
     "iopub.execute_input": "2023-01-25T10:37:16.955023Z",
     "iopub.status.busy": "2023-01-25T10:37:16.954424Z",
     "iopub.status.idle": "2023-01-25T10:37:17.383206Z",
     "shell.execute_reply": "2023-01-25T10:37:17.382118Z"
    }
   },
   "outputs": [],
   "source": [
    "from tianshou.data import Batch\n",
    "\n",
    "b = Batch(**_TREE_DATA_2)"
   ]
  },
  {
   "cell_type": "code",
   "execution_count": 9,
   "id": "cb0777c3",
   "metadata": {
    "execution": {
     "iopub.execute_input": "2023-01-25T10:37:17.388897Z",
     "iopub.status.busy": "2023-01-25T10:37:17.388515Z",
     "iopub.status.idle": "2023-01-25T10:37:17.395625Z",
     "shell.execute_reply": "2023-01-25T10:37:17.394804Z"
    }
   },
   "outputs": [
    {
     "data": {
      "text/plain": [
       "Batch(\n",
       "    a: tensor([[ 1.4126,  0.7742,  0.0023],\n",
       "               [ 1.5242, -0.4225,  0.5120]]),\n",
       "    x: Batch(\n",
       "           c: tensor([[-0.5477, -1.8098,  0.0351, -0.4242],\n",
       "                      [-1.9209,  0.1798,  0.7683, -1.1547],\n",
       "                      [ 0.7718,  0.4371,  0.8036, -0.2444]]),\n",
       "       ),\n",
       ")"
      ]
     },
     "execution_count": 9,
     "metadata": {},
     "output_type": "execute_result"
    }
   ],
   "source": [
    "b"
   ]
  },
  {
   "cell_type": "code",
   "execution_count": 10,
   "id": "43ef8ea3",
   "metadata": {
    "execution": {
     "iopub.execute_input": "2023-01-25T10:37:17.399417Z",
     "iopub.status.busy": "2023-01-25T10:37:17.398771Z",
     "iopub.status.idle": "2023-01-25T10:37:17.404598Z",
     "shell.execute_reply": "2023-01-25T10:37:17.403753Z"
    }
   },
   "outputs": [
    {
     "data": {
      "text/plain": [
       "tensor([[ 1.4126,  0.7742,  0.0023],\n",
       "        [ 1.5242, -0.4225,  0.5120]])"
      ]
     },
     "execution_count": 10,
     "metadata": {},
     "output_type": "execute_result"
    }
   ],
   "source": [
    "b.a"
   ]
  },
  {
   "cell_type": "code",
   "execution_count": 11,
   "id": "b785ab72",
   "metadata": {
    "execution": {
     "iopub.execute_input": "2023-01-25T10:37:17.408602Z",
     "iopub.status.busy": "2023-01-25T10:37:17.408064Z",
     "iopub.status.idle": "2023-01-25T10:37:23.233201Z",
     "shell.execute_reply": "2023-01-25T10:37:23.232216Z"
    }
   },
   "outputs": [
    {
     "name": "stdout",
     "output_type": "stream",
     "text": [
      "71.8 ns ± 0.998 ns per loop (mean ± std. dev. of 7 runs, 10,000,000 loops each)\n"
     ]
    }
   ],
   "source": [
    "%timeit b.a"
   ]
  },
  {
   "cell_type": "code",
   "execution_count": 12,
   "id": "ad54dc69",
   "metadata": {
    "execution": {
     "iopub.execute_input": "2023-01-25T10:37:23.237767Z",
     "iopub.status.busy": "2023-01-25T10:37:23.237203Z",
     "iopub.status.idle": "2023-01-25T10:37:23.244822Z",
     "shell.execute_reply": "2023-01-25T10:37:23.243950Z"
    }
   },
   "outputs": [
    {
     "data": {
      "text/plain": [
       "Batch(\n",
       "    a: tensor([[ 0.8520,  0.6893,  0.3145],\n",
       "               [-0.3388,  0.8294,  1.5606]]),\n",
       "    x: Batch(\n",
       "           c: tensor([[-0.5477, -1.8098,  0.0351, -0.4242],\n",
       "                      [-1.9209,  0.1798,  0.7683, -1.1547],\n",
       "                      [ 0.7718,  0.4371,  0.8036, -0.2444]]),\n",
       "       ),\n",
       ")"
      ]
     },
     "execution_count": 12,
     "metadata": {},
     "output_type": "execute_result"
    }
   ],
   "source": [
    "new_value = torch.randn(2, 3)\n",
    "b.a = new_value\n",
    "\n",
    "b"
   ]
  },
  {
   "cell_type": "code",
   "execution_count": 13,
   "id": "29b1d0bf",
   "metadata": {
    "execution": {
     "iopub.execute_input": "2023-01-25T10:37:23.248578Z",
     "iopub.status.busy": "2023-01-25T10:37:23.247892Z",
     "iopub.status.idle": "2023-01-25T10:37:28.120090Z",
     "shell.execute_reply": "2023-01-25T10:37:28.118693Z"
    }
   },
   "outputs": [
    {
     "name": "stdout",
     "output_type": "stream",
     "text": [
      "598 ns ± 11.8 ns per loop (mean ± std. dev. of 7 runs, 1,000,000 loops each)\n"
     ]
    }
   ],
   "source": [
    "%timeit b.a = new_value"
   ]
  },
  {
   "cell_type": "markdown",
   "id": "b61ad1d0",
   "metadata": {},
   "source": [
    "## Initialization"
   ]
  },
  {
   "cell_type": "markdown",
   "id": "d70f0d54",
   "metadata": {},
   "source": [
    "### TreeValue's Initialization"
   ]
  },
  {
   "cell_type": "code",
   "execution_count": 14,
   "id": "d32a679b",
   "metadata": {
    "execution": {
     "iopub.execute_input": "2023-01-25T10:37:28.124575Z",
     "iopub.status.busy": "2023-01-25T10:37:28.123866Z",
     "iopub.status.idle": "2023-01-25T10:37:35.984856Z",
     "shell.execute_reply": "2023-01-25T10:37:35.984064Z"
    }
   },
   "outputs": [
    {
     "name": "stdout",
     "output_type": "stream",
     "text": [
      "969 ns ± 4.23 ns per loop (mean ± std. dev. of 7 runs, 1,000,000 loops each)\n"
     ]
    }
   ],
   "source": [
    "%timeit FastTreeValue(_TREE_DATA_1)"
   ]
  },
  {
   "cell_type": "markdown",
   "id": "24f3707b",
   "metadata": {},
   "source": [
    "### Tianshou Batch's Initialization"
   ]
  },
  {
   "cell_type": "code",
   "execution_count": 15,
   "id": "ac3958df",
   "metadata": {
    "execution": {
     "iopub.execute_input": "2023-01-25T10:37:35.990309Z",
     "iopub.status.busy": "2023-01-25T10:37:35.989727Z",
     "iopub.status.idle": "2023-01-25T10:37:45.787431Z",
     "shell.execute_reply": "2023-01-25T10:37:45.786590Z"
    }
   },
   "outputs": [
    {
     "name": "stdout",
     "output_type": "stream",
     "text": [
      "11.9 µs ± 256 ns per loop (mean ± std. dev. of 7 runs, 100,000 loops each)\n"
     ]
    }
   ],
   "source": [
    "%timeit Batch(**_TREE_DATA_1)"
   ]
  },
  {
   "cell_type": "markdown",
   "id": "1ab82e2d",
   "metadata": {},
   "source": [
    "## Deep Copy Operation"
   ]
  },
  {
   "cell_type": "code",
   "execution_count": 16,
   "id": "210a9442",
   "metadata": {
    "execution": {
     "iopub.execute_input": "2023-01-25T10:37:45.791430Z",
     "iopub.status.busy": "2023-01-25T10:37:45.790861Z",
     "iopub.status.idle": "2023-01-25T10:37:45.794717Z",
     "shell.execute_reply": "2023-01-25T10:37:45.793854Z"
    }
   },
   "outputs": [],
   "source": [
    "import copy"
   ]
  },
  {
   "cell_type": "markdown",
   "id": "5a736274",
   "metadata": {},
   "source": [
    "### Deep Copy of TreeValue"
   ]
  },
  {
   "cell_type": "code",
   "execution_count": 17,
   "id": "f9bcadd6",
   "metadata": {
    "execution": {
     "iopub.execute_input": "2023-01-25T10:37:45.799117Z",
     "iopub.status.busy": "2023-01-25T10:37:45.798335Z",
     "iopub.status.idle": "2023-01-25T10:37:59.230083Z",
     "shell.execute_reply": "2023-01-25T10:37:59.229339Z"
    }
   },
   "outputs": [
    {
     "name": "stdout",
     "output_type": "stream",
     "text": [
      "165 µs ± 1.16 µs per loop (mean ± std. dev. of 7 runs, 10,000 loops each)\n"
     ]
    }
   ],
   "source": [
    "t3 = FastTreeValue(_TREE_DATA_3)\n",
    "%timeit copy.deepcopy(t3)"
   ]
  },
  {
   "cell_type": "markdown",
   "id": "bf8be7ea",
   "metadata": {},
   "source": [
    "### Deep Copy of Tianshou Batch"
   ]
  },
  {
   "cell_type": "code",
   "execution_count": 18,
   "id": "91998e6f",
   "metadata": {
    "execution": {
     "iopub.execute_input": "2023-01-25T10:37:59.233920Z",
     "iopub.status.busy": "2023-01-25T10:37:59.233338Z",
     "iopub.status.idle": "2023-01-25T10:38:12.699189Z",
     "shell.execute_reply": "2023-01-25T10:38:12.698433Z"
    }
   },
   "outputs": [
    {
     "name": "stdout",
     "output_type": "stream",
     "text": [
      "165 µs ± 1.02 µs per loop (mean ± std. dev. of 7 runs, 10,000 loops each)\n"
     ]
    }
   ],
   "source": [
    "b3 = Batch(**_TREE_DATA_3)\n",
    "%timeit copy.deepcopy(b3)"
   ]
  },
  {
   "cell_type": "markdown",
   "id": "223162fb",
   "metadata": {},
   "source": [
    "## Stack, Concat and Split Operation"
   ]
  },
  {
   "cell_type": "markdown",
   "id": "85fa4a73",
   "metadata": {},
   "source": [
    "### Performance of TreeValue"
   ]
  },
  {
   "cell_type": "code",
   "execution_count": 19,
   "id": "a0c2b697",
   "metadata": {
    "execution": {
     "iopub.execute_input": "2023-01-25T10:38:12.703094Z",
     "iopub.status.busy": "2023-01-25T10:38:12.702506Z",
     "iopub.status.idle": "2023-01-25T10:38:12.706644Z",
     "shell.execute_reply": "2023-01-25T10:38:12.705983Z"
    }
   },
   "outputs": [],
   "source": [
    "trees = [FastTreeValue(_TREE_DATA_2) for _ in range(8)]"
   ]
  },
  {
   "cell_type": "code",
   "execution_count": 20,
   "id": "017ea5a5",
   "metadata": {
    "execution": {
     "iopub.execute_input": "2023-01-25T10:38:12.710288Z",
     "iopub.status.busy": "2023-01-25T10:38:12.709480Z",
     "iopub.status.idle": "2023-01-25T10:38:12.717892Z",
     "shell.execute_reply": "2023-01-25T10:38:12.717235Z"
    }
   },
   "outputs": [
    {
     "data": {
      "text/plain": [
       "<FastTreeValue 0x7f2fb66c8cd0>\n",
       "├── 'a' --> tensor([[[ 1.4126,  0.7742,  0.0023],\n",
       "│                    [ 1.5242, -0.4225,  0.5120]],\n",
       "│           \n",
       "│                   [[ 1.4126,  0.7742,  0.0023],\n",
       "│                    [ 1.5242, -0.4225,  0.5120]],\n",
       "│           \n",
       "│                   [[ 1.4126,  0.7742,  0.0023],\n",
       "│                    [ 1.5242, -0.4225,  0.5120]],\n",
       "│           \n",
       "│                   [[ 1.4126,  0.7742,  0.0023],\n",
       "│                    [ 1.5242, -0.4225,  0.5120]],\n",
       "│           \n",
       "│                   [[ 1.4126,  0.7742,  0.0023],\n",
       "│                    [ 1.5242, -0.4225,  0.5120]],\n",
       "│           \n",
       "│                   [[ 1.4126,  0.7742,  0.0023],\n",
       "│                    [ 1.5242, -0.4225,  0.5120]],\n",
       "│           \n",
       "│                   [[ 1.4126,  0.7742,  0.0023],\n",
       "│                    [ 1.5242, -0.4225,  0.5120]],\n",
       "│           \n",
       "│                   [[ 1.4126,  0.7742,  0.0023],\n",
       "│                    [ 1.5242, -0.4225,  0.5120]]])\n",
       "└── 'x' --> <FastTreeValue 0x7f2fb66c8c10>\n",
       "    └── 'c' --> tensor([[[-0.5477, -1.8098,  0.0351, -0.4242],\n",
       "                         [-1.9209,  0.1798,  0.7683, -1.1547],\n",
       "                         [ 0.7718,  0.4371,  0.8036, -0.2444]],\n",
       "                \n",
       "                        [[-0.5477, -1.8098,  0.0351, -0.4242],\n",
       "                         [-1.9209,  0.1798,  0.7683, -1.1547],\n",
       "                         [ 0.7718,  0.4371,  0.8036, -0.2444]],\n",
       "                \n",
       "                        [[-0.5477, -1.8098,  0.0351, -0.4242],\n",
       "                         [-1.9209,  0.1798,  0.7683, -1.1547],\n",
       "                         [ 0.7718,  0.4371,  0.8036, -0.2444]],\n",
       "                \n",
       "                        [[-0.5477, -1.8098,  0.0351, -0.4242],\n",
       "                         [-1.9209,  0.1798,  0.7683, -1.1547],\n",
       "                         [ 0.7718,  0.4371,  0.8036, -0.2444]],\n",
       "                \n",
       "                        [[-0.5477, -1.8098,  0.0351, -0.4242],\n",
       "                         [-1.9209,  0.1798,  0.7683, -1.1547],\n",
       "                         [ 0.7718,  0.4371,  0.8036, -0.2444]],\n",
       "                \n",
       "                        [[-0.5477, -1.8098,  0.0351, -0.4242],\n",
       "                         [-1.9209,  0.1798,  0.7683, -1.1547],\n",
       "                         [ 0.7718,  0.4371,  0.8036, -0.2444]],\n",
       "                \n",
       "                        [[-0.5477, -1.8098,  0.0351, -0.4242],\n",
       "                         [-1.9209,  0.1798,  0.7683, -1.1547],\n",
       "                         [ 0.7718,  0.4371,  0.8036, -0.2444]],\n",
       "                \n",
       "                        [[-0.5477, -1.8098,  0.0351, -0.4242],\n",
       "                         [-1.9209,  0.1798,  0.7683, -1.1547],\n",
       "                         [ 0.7718,  0.4371,  0.8036, -0.2444]]])"
      ]
     },
     "execution_count": 20,
     "metadata": {},
     "output_type": "execute_result"
    }
   ],
   "source": [
    "t_stack = FastTreeValue.func(subside=True)(torch.stack)\n",
    "\n",
    "t_stack(trees)"
   ]
  },
  {
   "cell_type": "code",
   "execution_count": 21,
   "id": "f8b3f415",
   "metadata": {
    "execution": {
     "iopub.execute_input": "2023-01-25T10:38:12.721745Z",
     "iopub.status.busy": "2023-01-25T10:38:12.720729Z",
     "iopub.status.idle": "2023-01-25T10:38:15.712740Z",
     "shell.execute_reply": "2023-01-25T10:38:15.711932Z"
    }
   },
   "outputs": [
    {
     "name": "stdout",
     "output_type": "stream",
     "text": [
      "36.8 µs ± 238 ns per loop (mean ± std. dev. of 7 runs, 10,000 loops each)\n"
     ]
    }
   ],
   "source": [
    "%timeit t_stack(trees)"
   ]
  },
  {
   "cell_type": "code",
   "execution_count": 22,
   "id": "94b56771",
   "metadata": {
    "execution": {
     "iopub.execute_input": "2023-01-25T10:38:15.716936Z",
     "iopub.status.busy": "2023-01-25T10:38:15.716340Z",
     "iopub.status.idle": "2023-01-25T10:38:15.725140Z",
     "shell.execute_reply": "2023-01-25T10:38:15.724180Z"
    }
   },
   "outputs": [
    {
     "data": {
      "text/plain": [
       "<FastTreeValue 0x7f2fbd28b2b0>\n",
       "├── 'a' --> tensor([[ 1.4126,  0.7742,  0.0023],\n",
       "│                   [ 1.5242, -0.4225,  0.5120],\n",
       "│                   [ 1.4126,  0.7742,  0.0023],\n",
       "│                   [ 1.5242, -0.4225,  0.5120],\n",
       "│                   [ 1.4126,  0.7742,  0.0023],\n",
       "│                   [ 1.5242, -0.4225,  0.5120],\n",
       "│                   [ 1.4126,  0.7742,  0.0023],\n",
       "│                   [ 1.5242, -0.4225,  0.5120],\n",
       "│                   [ 1.4126,  0.7742,  0.0023],\n",
       "│                   [ 1.5242, -0.4225,  0.5120],\n",
       "│                   [ 1.4126,  0.7742,  0.0023],\n",
       "│                   [ 1.5242, -0.4225,  0.5120],\n",
       "│                   [ 1.4126,  0.7742,  0.0023],\n",
       "│                   [ 1.5242, -0.4225,  0.5120],\n",
       "│                   [ 1.4126,  0.7742,  0.0023],\n",
       "│                   [ 1.5242, -0.4225,  0.5120]])\n",
       "└── 'x' --> <FastTreeValue 0x7f2fb66c8ca0>\n",
       "    └── 'c' --> tensor([[-0.5477, -1.8098,  0.0351, -0.4242],\n",
       "                        [-1.9209,  0.1798,  0.7683, -1.1547],\n",
       "                        [ 0.7718,  0.4371,  0.8036, -0.2444],\n",
       "                        [-0.5477, -1.8098,  0.0351, -0.4242],\n",
       "                        [-1.9209,  0.1798,  0.7683, -1.1547],\n",
       "                        [ 0.7718,  0.4371,  0.8036, -0.2444],\n",
       "                        [-0.5477, -1.8098,  0.0351, -0.4242],\n",
       "                        [-1.9209,  0.1798,  0.7683, -1.1547],\n",
       "                        [ 0.7718,  0.4371,  0.8036, -0.2444],\n",
       "                        [-0.5477, -1.8098,  0.0351, -0.4242],\n",
       "                        [-1.9209,  0.1798,  0.7683, -1.1547],\n",
       "                        [ 0.7718,  0.4371,  0.8036, -0.2444],\n",
       "                        [-0.5477, -1.8098,  0.0351, -0.4242],\n",
       "                        [-1.9209,  0.1798,  0.7683, -1.1547],\n",
       "                        [ 0.7718,  0.4371,  0.8036, -0.2444],\n",
       "                        [-0.5477, -1.8098,  0.0351, -0.4242],\n",
       "                        [-1.9209,  0.1798,  0.7683, -1.1547],\n",
       "                        [ 0.7718,  0.4371,  0.8036, -0.2444],\n",
       "                        [-0.5477, -1.8098,  0.0351, -0.4242],\n",
       "                        [-1.9209,  0.1798,  0.7683, -1.1547],\n",
       "                        [ 0.7718,  0.4371,  0.8036, -0.2444],\n",
       "                        [-0.5477, -1.8098,  0.0351, -0.4242],\n",
       "                        [-1.9209,  0.1798,  0.7683, -1.1547],\n",
       "                        [ 0.7718,  0.4371,  0.8036, -0.2444]])"
      ]
     },
     "execution_count": 22,
     "metadata": {},
     "output_type": "execute_result"
    }
   ],
   "source": [
    "t_cat = FastTreeValue.func(subside=True)(torch.cat)\n",
    "\n",
    "t_cat(trees)"
   ]
  },
  {
   "cell_type": "code",
   "execution_count": 23,
   "id": "5e9c06a6",
   "metadata": {
    "execution": {
     "iopub.execute_input": "2023-01-25T10:38:15.729460Z",
     "iopub.status.busy": "2023-01-25T10:38:15.728815Z",
     "iopub.status.idle": "2023-01-25T10:38:18.709239Z",
     "shell.execute_reply": "2023-01-25T10:38:18.708429Z"
    }
   },
   "outputs": [
    {
     "name": "stdout",
     "output_type": "stream",
     "text": [
      "36.6 µs ± 615 ns per loop (mean ± std. dev. of 7 runs, 10,000 loops each)\n"
     ]
    }
   ],
   "source": [
    "%timeit t_cat(trees)"
   ]
  },
  {
   "cell_type": "code",
   "execution_count": 24,
   "id": "a3ab5c8f",
   "metadata": {
    "execution": {
     "iopub.execute_input": "2023-01-25T10:38:18.713556Z",
     "iopub.status.busy": "2023-01-25T10:38:18.712732Z",
     "iopub.status.idle": "2023-01-25T10:38:24.192312Z",
     "shell.execute_reply": "2023-01-25T10:38:24.191494Z"
    }
   },
   "outputs": [
    {
     "name": "stdout",
     "output_type": "stream",
     "text": [
      "67 µs ± 1.66 µs per loop (mean ± std. dev. of 7 runs, 10,000 loops each)\n"
     ]
    }
   ],
   "source": [
    "t_split = FastTreeValue.func(rise=True)(torch.split)\n",
    "tree = FastTreeValue({\n",
    "    'obs': torch.randn(8, 4, 84, 84),\n",
    "    'action': torch.randint(0, 6, size=(8, 1,)),\n",
    "    'reward': torch.rand(8, 1),\n",
    "})\n",
    "\n",
    "%timeit t_split(tree, 1)"
   ]
  },
  {
   "cell_type": "markdown",
   "id": "31c3ec0b",
   "metadata": {},
   "source": [
    "### Performance of Tianshou Batch"
   ]
  },
  {
   "cell_type": "code",
   "execution_count": 25,
   "id": "9ead828a",
   "metadata": {
    "execution": {
     "iopub.execute_input": "2023-01-25T10:38:24.196490Z",
     "iopub.status.busy": "2023-01-25T10:38:24.195728Z",
     "iopub.status.idle": "2023-01-25T10:38:24.205110Z",
     "shell.execute_reply": "2023-01-25T10:38:24.204309Z"
    }
   },
   "outputs": [
    {
     "data": {
      "text/plain": [
       "Batch(\n",
       "    a: tensor([[[ 1.4126,  0.7742,  0.0023],\n",
       "                [ 1.5242, -0.4225,  0.5120]],\n",
       "       \n",
       "               [[ 1.4126,  0.7742,  0.0023],\n",
       "                [ 1.5242, -0.4225,  0.5120]],\n",
       "       \n",
       "               [[ 1.4126,  0.7742,  0.0023],\n",
       "                [ 1.5242, -0.4225,  0.5120]],\n",
       "       \n",
       "               [[ 1.4126,  0.7742,  0.0023],\n",
       "                [ 1.5242, -0.4225,  0.5120]],\n",
       "       \n",
       "               [[ 1.4126,  0.7742,  0.0023],\n",
       "                [ 1.5242, -0.4225,  0.5120]],\n",
       "       \n",
       "               [[ 1.4126,  0.7742,  0.0023],\n",
       "                [ 1.5242, -0.4225,  0.5120]],\n",
       "       \n",
       "               [[ 1.4126,  0.7742,  0.0023],\n",
       "                [ 1.5242, -0.4225,  0.5120]],\n",
       "       \n",
       "               [[ 1.4126,  0.7742,  0.0023],\n",
       "                [ 1.5242, -0.4225,  0.5120]]]),\n",
       "    x: Batch(\n",
       "           c: tensor([[[-0.5477, -1.8098,  0.0351, -0.4242],\n",
       "                       [-1.9209,  0.1798,  0.7683, -1.1547],\n",
       "                       [ 0.7718,  0.4371,  0.8036, -0.2444]],\n",
       "              \n",
       "                      [[-0.5477, -1.8098,  0.0351, -0.4242],\n",
       "                       [-1.9209,  0.1798,  0.7683, -1.1547],\n",
       "                       [ 0.7718,  0.4371,  0.8036, -0.2444]],\n",
       "              \n",
       "                      [[-0.5477, -1.8098,  0.0351, -0.4242],\n",
       "                       [-1.9209,  0.1798,  0.7683, -1.1547],\n",
       "                       [ 0.7718,  0.4371,  0.8036, -0.2444]],\n",
       "              \n",
       "                      [[-0.5477, -1.8098,  0.0351, -0.4242],\n",
       "                       [-1.9209,  0.1798,  0.7683, -1.1547],\n",
       "                       [ 0.7718,  0.4371,  0.8036, -0.2444]],\n",
       "              \n",
       "                      [[-0.5477, -1.8098,  0.0351, -0.4242],\n",
       "                       [-1.9209,  0.1798,  0.7683, -1.1547],\n",
       "                       [ 0.7718,  0.4371,  0.8036, -0.2444]],\n",
       "              \n",
       "                      [[-0.5477, -1.8098,  0.0351, -0.4242],\n",
       "                       [-1.9209,  0.1798,  0.7683, -1.1547],\n",
       "                       [ 0.7718,  0.4371,  0.8036, -0.2444]],\n",
       "              \n",
       "                      [[-0.5477, -1.8098,  0.0351, -0.4242],\n",
       "                       [-1.9209,  0.1798,  0.7683, -1.1547],\n",
       "                       [ 0.7718,  0.4371,  0.8036, -0.2444]],\n",
       "              \n",
       "                      [[-0.5477, -1.8098,  0.0351, -0.4242],\n",
       "                       [-1.9209,  0.1798,  0.7683, -1.1547],\n",
       "                       [ 0.7718,  0.4371,  0.8036, -0.2444]]]),\n",
       "       ),\n",
       ")"
      ]
     },
     "execution_count": 25,
     "metadata": {},
     "output_type": "execute_result"
    }
   ],
   "source": [
    "batches = [Batch(**_TREE_DATA_2) for _ in range(8)]\n",
    "\n",
    "Batch.stack(batches)"
   ]
  },
  {
   "cell_type": "code",
   "execution_count": 26,
   "id": "ec9037a3",
   "metadata": {
    "execution": {
     "iopub.execute_input": "2023-01-25T10:38:24.209086Z",
     "iopub.status.busy": "2023-01-25T10:38:24.208579Z",
     "iopub.status.idle": "2023-01-25T10:38:31.636741Z",
     "shell.execute_reply": "2023-01-25T10:38:31.635919Z"
    }
   },
   "outputs": [
    {
     "name": "stdout",
     "output_type": "stream",
     "text": [
      "91.6 µs ± 331 ns per loop (mean ± std. dev. of 7 runs, 10,000 loops each)\n"
     ]
    }
   ],
   "source": [
    "%timeit Batch.stack(batches)"
   ]
  },
  {
   "cell_type": "code",
   "execution_count": 27,
   "id": "cb8ab77e",
   "metadata": {
    "execution": {
     "iopub.execute_input": "2023-01-25T10:38:31.640623Z",
     "iopub.status.busy": "2023-01-25T10:38:31.640016Z",
     "iopub.status.idle": "2023-01-25T10:38:31.648266Z",
     "shell.execute_reply": "2023-01-25T10:38:31.647370Z"
    }
   },
   "outputs": [
    {
     "data": {
      "text/plain": [
       "Batch(\n",
       "    a: tensor([[ 1.4126,  0.7742,  0.0023],\n",
       "               [ 1.5242, -0.4225,  0.5120],\n",
       "               [ 1.4126,  0.7742,  0.0023],\n",
       "               [ 1.5242, -0.4225,  0.5120],\n",
       "               [ 1.4126,  0.7742,  0.0023],\n",
       "               [ 1.5242, -0.4225,  0.5120],\n",
       "               [ 1.4126,  0.7742,  0.0023],\n",
       "               [ 1.5242, -0.4225,  0.5120],\n",
       "               [ 1.4126,  0.7742,  0.0023],\n",
       "               [ 1.5242, -0.4225,  0.5120],\n",
       "               [ 1.4126,  0.7742,  0.0023],\n",
       "               [ 1.5242, -0.4225,  0.5120],\n",
       "               [ 1.4126,  0.7742,  0.0023],\n",
       "               [ 1.5242, -0.4225,  0.5120],\n",
       "               [ 1.4126,  0.7742,  0.0023],\n",
       "               [ 1.5242, -0.4225,  0.5120]]),\n",
       "    x: Batch(\n",
       "           c: tensor([[-0.5477, -1.8098,  0.0351, -0.4242],\n",
       "                      [-1.9209,  0.1798,  0.7683, -1.1547],\n",
       "                      [ 0.7718,  0.4371,  0.8036, -0.2444],\n",
       "                      [-0.5477, -1.8098,  0.0351, -0.4242],\n",
       "                      [-1.9209,  0.1798,  0.7683, -1.1547],\n",
       "                      [ 0.7718,  0.4371,  0.8036, -0.2444],\n",
       "                      [-0.5477, -1.8098,  0.0351, -0.4242],\n",
       "                      [-1.9209,  0.1798,  0.7683, -1.1547],\n",
       "                      [ 0.7718,  0.4371,  0.8036, -0.2444],\n",
       "                      [-0.5477, -1.8098,  0.0351, -0.4242],\n",
       "                      [-1.9209,  0.1798,  0.7683, -1.1547],\n",
       "                      [ 0.7718,  0.4371,  0.8036, -0.2444],\n",
       "                      [-0.5477, -1.8098,  0.0351, -0.4242],\n",
       "                      [-1.9209,  0.1798,  0.7683, -1.1547],\n",
       "                      [ 0.7718,  0.4371,  0.8036, -0.2444],\n",
       "                      [-0.5477, -1.8098,  0.0351, -0.4242],\n",
       "                      [-1.9209,  0.1798,  0.7683, -1.1547],\n",
       "                      [ 0.7718,  0.4371,  0.8036, -0.2444],\n",
       "                      [-0.5477, -1.8098,  0.0351, -0.4242],\n",
       "                      [-1.9209,  0.1798,  0.7683, -1.1547],\n",
       "                      [ 0.7718,  0.4371,  0.8036, -0.2444],\n",
       "                      [-0.5477, -1.8098,  0.0351, -0.4242],\n",
       "                      [-1.9209,  0.1798,  0.7683, -1.1547],\n",
       "                      [ 0.7718,  0.4371,  0.8036, -0.2444]]),\n",
       "       ),\n",
       ")"
      ]
     },
     "execution_count": 27,
     "metadata": {},
     "output_type": "execute_result"
    }
   ],
   "source": [
    "Batch.cat(batches)"
   ]
  },
  {
   "cell_type": "code",
   "execution_count": 28,
   "id": "18dfb045",
   "metadata": {
    "execution": {
     "iopub.execute_input": "2023-01-25T10:38:31.652196Z",
     "iopub.status.busy": "2023-01-25T10:38:31.651453Z",
     "iopub.status.idle": "2023-01-25T10:38:45.106818Z",
     "shell.execute_reply": "2023-01-25T10:38:45.105472Z"
    }
   },
   "outputs": [
    {
     "name": "stdout",
     "output_type": "stream",
     "text": [
      "166 µs ± 672 ns per loop (mean ± std. dev. of 7 runs, 10,000 loops each)\n"
     ]
    }
   ],
   "source": [
    "%timeit Batch.cat(batches)"
   ]
  },
  {
   "cell_type": "code",
   "execution_count": 29,
   "id": "c6688e51",
   "metadata": {
    "execution": {
     "iopub.execute_input": "2023-01-25T10:38:45.111245Z",
     "iopub.status.busy": "2023-01-25T10:38:45.110701Z",
     "iopub.status.idle": "2023-01-25T10:38:48.226206Z",
     "shell.execute_reply": "2023-01-25T10:38:48.225463Z"
    }
   },
   "outputs": [
    {
     "name": "stdout",
     "output_type": "stream",
     "text": [
      "383 µs ± 1.01 µs per loop (mean ± std. dev. of 7 runs, 1,000 loops each)\n"
     ]
    }
   ],
   "source": [
    "batch = Batch({\n",
    "    'obs': torch.randn(8, 4, 84, 84),\n",
    "    'action': torch.randint(0, 6, size=(8, 1,)),\n",
    "    'reward': torch.rand(8, 1)}\n",
    ")\n",
    "\n",
    "%timeit list(Batch.split(batch, 1, shuffle=False, merge_last=True))"
   ]
  },
  {
   "cell_type": "code",
   "execution_count": null,
   "id": "2539fbd9",
   "metadata": {},
   "outputs": [],
   "source": []
  }
 ],
 "metadata": {
  "kernelspec": {
   "display_name": "Python 3 (ipykernel)",
   "language": "python",
   "name": "python3"
  },
  "language_info": {
   "codemirror_mode": {
    "name": "ipython",
    "version": 3
   },
   "file_extension": ".py",
   "mimetype": "text/x-python",
   "name": "python",
   "nbconvert_exporter": "python",
   "pygments_lexer": "ipython3",
   "version": "3.8.16"
  }
 },
 "nbformat": 4,
 "nbformat_minor": 5
}
