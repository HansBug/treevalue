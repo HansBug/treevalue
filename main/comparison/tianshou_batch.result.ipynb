{
 "cells": [
  {
   "cell_type": "markdown",
   "id": "9d39d946",
   "metadata": {},
   "source": [
    "# Comparison Between TreeValue and Tianshou Batch"
   ]
  },
  {
   "cell_type": "markdown",
   "id": "3c6db2d4",
   "metadata": {},
   "source": [
    "In this section, we will take a look at the feature and performance of the [Tianshou Batch](https://github.com/thu-ml/tianshou) library, which is developed by Tsinghua Machine Learning Group."
   ]
  },
  {
   "cell_type": "markdown",
   "id": "069361b0",
   "metadata": {},
   "source": [
    "Before starting the comparison, let us define some thing."
   ]
  },
  {
   "cell_type": "code",
   "execution_count": 1,
   "id": "06fc8d26",
   "metadata": {
    "execution": {
     "iopub.execute_input": "2023-01-20T13:02:53.740358Z",
     "iopub.status.busy": "2023-01-20T13:02:53.740086Z",
     "iopub.status.idle": "2023-01-20T13:02:54.731042Z",
     "shell.execute_reply": "2023-01-20T13:02:54.730267Z"
    }
   },
   "outputs": [
    {
     "name": "stderr",
     "output_type": "stream",
     "text": [
      "/opt/hostedtoolcache/Python/3.8.16/x64/lib/python3.8/site-packages/tqdm/auto.py:22: TqdmWarning: IProgress not found. Please update jupyter and ipywidgets. See https://ipywidgets.readthedocs.io/en/stable/user_install.html\n",
      "  from .autonotebook import tqdm as notebook_tqdm\n"
     ]
    }
   ],
   "source": [
    "import torch \n",
    "\n",
    "_TREE_DATA_1 = {'a': 1, 'b': 2, 'x': {'c': 3, 'd': 4}}\n",
    "_TREE_DATA_2 = {\n",
    "    'a': torch.randn(2, 3), \n",
    "    'x': {\n",
    "        'c': torch.randn(3, 4)\n",
    "    },\n",
    "}\n",
    "_TREE_DATA_3 = {\n",
    "    'obs': torch.randn(4, 84, 84),\n",
    "    'action': torch.randint(0, 6, size=(1,)),\n",
    "    'reward': torch.rand(1),\n",
    "}"
   ]
  },
  {
   "cell_type": "markdown",
   "id": "83461b25",
   "metadata": {},
   "source": [
    "## Read and Write Operation"
   ]
  },
  {
   "cell_type": "markdown",
   "id": "067b3f73",
   "metadata": {},
   "source": [
    "Reading and writing are the two most common operations in the tree data structure based on the data model (TreeValue and Tianshou Batch both belong to this type), so this section will compare the reading and writing performance of these two libraries."
   ]
  },
  {
   "cell_type": "markdown",
   "id": "5d09a5b7",
   "metadata": {},
   "source": [
    "### TreeValue's Get and Set"
   ]
  },
  {
   "cell_type": "code",
   "execution_count": 2,
   "id": "9519c4bb",
   "metadata": {
    "execution": {
     "iopub.execute_input": "2023-01-20T13:02:54.735552Z",
     "iopub.status.busy": "2023-01-20T13:02:54.735232Z",
     "iopub.status.idle": "2023-01-20T13:02:54.768926Z",
     "shell.execute_reply": "2023-01-20T13:02:54.768245Z"
    }
   },
   "outputs": [],
   "source": [
    "from treevalue import FastTreeValue\n",
    "\n",
    "t = FastTreeValue(_TREE_DATA_2)"
   ]
  },
  {
   "cell_type": "code",
   "execution_count": 3,
   "id": "11c37677",
   "metadata": {
    "execution": {
     "iopub.execute_input": "2023-01-20T13:02:54.772698Z",
     "iopub.status.busy": "2023-01-20T13:02:54.772454Z",
     "iopub.status.idle": "2023-01-20T13:02:54.781024Z",
     "shell.execute_reply": "2023-01-20T13:02:54.780333Z"
    }
   },
   "outputs": [
    {
     "data": {
      "text/plain": [
       "<FastTreeValue 0x7f89f4bb2760>\n",
       "├── 'a' --> tensor([[ 1.1360, -1.3562,  0.7570],\n",
       "│                   [ 0.1985,  0.3819,  0.4078]])\n",
       "└── 'x' --> <FastTreeValue 0x7f89f4bb2eb0>\n",
       "    └── 'c' --> tensor([[-1.6698,  0.6880,  0.9833, -0.6469],\n",
       "                        [-0.3844, -0.0697, -1.7715,  0.8377],\n",
       "                        [-0.9949, -0.8132, -1.0637, -0.1916]])"
      ]
     },
     "execution_count": 3,
     "metadata": {},
     "output_type": "execute_result"
    }
   ],
   "source": [
    "t"
   ]
  },
  {
   "cell_type": "code",
   "execution_count": 4,
   "id": "fd70b0b9",
   "metadata": {
    "execution": {
     "iopub.execute_input": "2023-01-20T13:02:54.784311Z",
     "iopub.status.busy": "2023-01-20T13:02:54.784087Z",
     "iopub.status.idle": "2023-01-20T13:02:54.788678Z",
     "shell.execute_reply": "2023-01-20T13:02:54.788017Z"
    }
   },
   "outputs": [
    {
     "data": {
      "text/plain": [
       "tensor([[ 1.1360, -1.3562,  0.7570],\n",
       "        [ 0.1985,  0.3819,  0.4078]])"
      ]
     },
     "execution_count": 4,
     "metadata": {},
     "output_type": "execute_result"
    }
   ],
   "source": [
    "t.a"
   ]
  },
  {
   "cell_type": "code",
   "execution_count": 5,
   "id": "c18197bd",
   "metadata": {
    "execution": {
     "iopub.execute_input": "2023-01-20T13:02:54.792106Z",
     "iopub.status.busy": "2023-01-20T13:02:54.791744Z",
     "iopub.status.idle": "2023-01-20T13:03:00.455904Z",
     "shell.execute_reply": "2023-01-20T13:03:00.455134Z"
    }
   },
   "outputs": [
    {
     "name": "stdout",
     "output_type": "stream",
     "text": [
      "69.8 ns ± 0.108 ns per loop (mean ± std. dev. of 7 runs, 10,000,000 loops each)\n"
     ]
    }
   ],
   "source": [
    "%timeit t.a"
   ]
  },
  {
   "cell_type": "code",
   "execution_count": 6,
   "id": "bd52f867",
   "metadata": {
    "execution": {
     "iopub.execute_input": "2023-01-20T13:03:00.459448Z",
     "iopub.status.busy": "2023-01-20T13:03:00.458941Z",
     "iopub.status.idle": "2023-01-20T13:03:00.465546Z",
     "shell.execute_reply": "2023-01-20T13:03:00.464827Z"
    }
   },
   "outputs": [
    {
     "data": {
      "text/plain": [
       "<FastTreeValue 0x7f89f4bb2760>\n",
       "├── 'a' --> tensor([[ 0.8064,  0.7053, -0.0670],\n",
       "│                   [ 0.6001,  0.2123, -0.5559]])\n",
       "└── 'x' --> <FastTreeValue 0x7f89f4bb2eb0>\n",
       "    └── 'c' --> tensor([[-1.6698,  0.6880,  0.9833, -0.6469],\n",
       "                        [-0.3844, -0.0697, -1.7715,  0.8377],\n",
       "                        [-0.9949, -0.8132, -1.0637, -0.1916]])"
      ]
     },
     "execution_count": 6,
     "metadata": {},
     "output_type": "execute_result"
    }
   ],
   "source": [
    "new_value = torch.randn(2, 3)\n",
    "t.a = new_value\n",
    "\n",
    "t"
   ]
  },
  {
   "cell_type": "code",
   "execution_count": 7,
   "id": "bbe04d1c",
   "metadata": {
    "execution": {
     "iopub.execute_input": "2023-01-20T13:03:00.468524Z",
     "iopub.status.busy": "2023-01-20T13:03:00.468154Z",
     "iopub.status.idle": "2023-01-20T13:03:05.845857Z",
     "shell.execute_reply": "2023-01-20T13:03:05.845174Z"
    }
   },
   "outputs": [
    {
     "name": "stdout",
     "output_type": "stream",
     "text": [
      "66.2 ns ± 0.0581 ns per loop (mean ± std. dev. of 7 runs, 10,000,000 loops each)\n"
     ]
    }
   ],
   "source": [
    "%timeit t.a = new_value"
   ]
  },
  {
   "cell_type": "markdown",
   "id": "48c49731",
   "metadata": {},
   "source": [
    "### Tianshou Batch's Get and Set"
   ]
  },
  {
   "cell_type": "code",
   "execution_count": 8,
   "id": "f1bb14c1",
   "metadata": {
    "execution": {
     "iopub.execute_input": "2023-01-20T13:03:05.849452Z",
     "iopub.status.busy": "2023-01-20T13:03:05.848961Z",
     "iopub.status.idle": "2023-01-20T13:03:06.227849Z",
     "shell.execute_reply": "2023-01-20T13:03:06.226712Z"
    }
   },
   "outputs": [],
   "source": [
    "from tianshou.data import Batch\n",
    "\n",
    "b = Batch(**_TREE_DATA_2)"
   ]
  },
  {
   "cell_type": "code",
   "execution_count": 9,
   "id": "cb0777c3",
   "metadata": {
    "execution": {
     "iopub.execute_input": "2023-01-20T13:03:06.232072Z",
     "iopub.status.busy": "2023-01-20T13:03:06.231500Z",
     "iopub.status.idle": "2023-01-20T13:03:06.237633Z",
     "shell.execute_reply": "2023-01-20T13:03:06.236944Z"
    }
   },
   "outputs": [
    {
     "data": {
      "text/plain": [
       "Batch(\n",
       "    a: tensor([[ 1.1360, -1.3562,  0.7570],\n",
       "               [ 0.1985,  0.3819,  0.4078]]),\n",
       "    x: Batch(\n",
       "           c: tensor([[-1.6698,  0.6880,  0.9833, -0.6469],\n",
       "                      [-0.3844, -0.0697, -1.7715,  0.8377],\n",
       "                      [-0.9949, -0.8132, -1.0637, -0.1916]]),\n",
       "       ),\n",
       ")"
      ]
     },
     "execution_count": 9,
     "metadata": {},
     "output_type": "execute_result"
    }
   ],
   "source": [
    "b"
   ]
  },
  {
   "cell_type": "code",
   "execution_count": 10,
   "id": "43ef8ea3",
   "metadata": {
    "execution": {
     "iopub.execute_input": "2023-01-20T13:03:06.240706Z",
     "iopub.status.busy": "2023-01-20T13:03:06.240327Z",
     "iopub.status.idle": "2023-01-20T13:03:06.245159Z",
     "shell.execute_reply": "2023-01-20T13:03:06.244493Z"
    }
   },
   "outputs": [
    {
     "data": {
      "text/plain": [
       "tensor([[ 1.1360, -1.3562,  0.7570],\n",
       "        [ 0.1985,  0.3819,  0.4078]])"
      ]
     },
     "execution_count": 10,
     "metadata": {},
     "output_type": "execute_result"
    }
   ],
   "source": [
    "b.a"
   ]
  },
  {
   "cell_type": "code",
   "execution_count": 11,
   "id": "b785ab72",
   "metadata": {
    "execution": {
     "iopub.execute_input": "2023-01-20T13:03:06.248377Z",
     "iopub.status.busy": "2023-01-20T13:03:06.248008Z",
     "iopub.status.idle": "2023-01-20T13:03:10.967869Z",
     "shell.execute_reply": "2023-01-20T13:03:10.967123Z"
    }
   },
   "outputs": [
    {
     "name": "stdout",
     "output_type": "stream",
     "text": [
      "58.1 ns ± 0.15 ns per loop (mean ± std. dev. of 7 runs, 10,000,000 loops each)\n"
     ]
    }
   ],
   "source": [
    "%timeit b.a"
   ]
  },
  {
   "cell_type": "code",
   "execution_count": 12,
   "id": "ad54dc69",
   "metadata": {
    "execution": {
     "iopub.execute_input": "2023-01-20T13:03:10.971331Z",
     "iopub.status.busy": "2023-01-20T13:03:10.970826Z",
     "iopub.status.idle": "2023-01-20T13:03:10.977131Z",
     "shell.execute_reply": "2023-01-20T13:03:10.976416Z"
    }
   },
   "outputs": [
    {
     "data": {
      "text/plain": [
       "Batch(\n",
       "    a: tensor([[ 1.5689, -0.1487,  0.0797],\n",
       "               [ 0.0402,  0.8077,  1.2883]]),\n",
       "    x: Batch(\n",
       "           c: tensor([[-1.6698,  0.6880,  0.9833, -0.6469],\n",
       "                      [-0.3844, -0.0697, -1.7715,  0.8377],\n",
       "                      [-0.9949, -0.8132, -1.0637, -0.1916]]),\n",
       "       ),\n",
       ")"
      ]
     },
     "execution_count": 12,
     "metadata": {},
     "output_type": "execute_result"
    }
   ],
   "source": [
    "new_value = torch.randn(2, 3)\n",
    "b.a = new_value\n",
    "\n",
    "b"
   ]
  },
  {
   "cell_type": "code",
   "execution_count": 13,
   "id": "29b1d0bf",
   "metadata": {
    "execution": {
     "iopub.execute_input": "2023-01-20T13:03:10.980274Z",
     "iopub.status.busy": "2023-01-20T13:03:10.979826Z",
     "iopub.status.idle": "2023-01-20T13:03:14.936518Z",
     "shell.execute_reply": "2023-01-20T13:03:14.935767Z"
    }
   },
   "outputs": [
    {
     "name": "stdout",
     "output_type": "stream",
     "text": [
      "487 ns ± 0.139 ns per loop (mean ± std. dev. of 7 runs, 1,000,000 loops each)\n"
     ]
    }
   ],
   "source": [
    "%timeit b.a = new_value"
   ]
  },
  {
   "cell_type": "markdown",
   "id": "b61ad1d0",
   "metadata": {},
   "source": [
    "## Initialization"
   ]
  },
  {
   "cell_type": "markdown",
   "id": "d70f0d54",
   "metadata": {},
   "source": [
    "### TreeValue's Initialization"
   ]
  },
  {
   "cell_type": "code",
   "execution_count": 14,
   "id": "d32a679b",
   "metadata": {
    "execution": {
     "iopub.execute_input": "2023-01-20T13:03:14.940284Z",
     "iopub.status.busy": "2023-01-20T13:03:14.939790Z",
     "iopub.status.idle": "2023-01-20T13:03:21.706135Z",
     "shell.execute_reply": "2023-01-20T13:03:21.705370Z"
    }
   },
   "outputs": [
    {
     "name": "stdout",
     "output_type": "stream",
     "text": [
      "833 ns ± 0.671 ns per loop (mean ± std. dev. of 7 runs, 1,000,000 loops each)\n"
     ]
    }
   ],
   "source": [
    "%timeit FastTreeValue(_TREE_DATA_1)"
   ]
  },
  {
   "cell_type": "markdown",
   "id": "24f3707b",
   "metadata": {},
   "source": [
    "### Tianshou Batch's Initialization"
   ]
  },
  {
   "cell_type": "code",
   "execution_count": 15,
   "id": "ac3958df",
   "metadata": {
    "execution": {
     "iopub.execute_input": "2023-01-20T13:03:21.709708Z",
     "iopub.status.busy": "2023-01-20T13:03:21.709215Z",
     "iopub.status.idle": "2023-01-20T13:03:30.489176Z",
     "shell.execute_reply": "2023-01-20T13:03:30.488423Z"
    }
   },
   "outputs": [
    {
     "name": "stdout",
     "output_type": "stream",
     "text": [
      "10.8 µs ± 20 ns per loop (mean ± std. dev. of 7 runs, 100,000 loops each)\n"
     ]
    }
   ],
   "source": [
    "%timeit Batch(**_TREE_DATA_1)"
   ]
  },
  {
   "cell_type": "markdown",
   "id": "1ab82e2d",
   "metadata": {},
   "source": [
    "## Deep Copy Operation"
   ]
  },
  {
   "cell_type": "code",
   "execution_count": 16,
   "id": "210a9442",
   "metadata": {
    "execution": {
     "iopub.execute_input": "2023-01-20T13:03:30.493168Z",
     "iopub.status.busy": "2023-01-20T13:03:30.492432Z",
     "iopub.status.idle": "2023-01-20T13:03:30.496186Z",
     "shell.execute_reply": "2023-01-20T13:03:30.495454Z"
    }
   },
   "outputs": [],
   "source": [
    "import copy"
   ]
  },
  {
   "cell_type": "markdown",
   "id": "5a736274",
   "metadata": {},
   "source": [
    "### Deep Copy of TreeValue"
   ]
  },
  {
   "cell_type": "code",
   "execution_count": 17,
   "id": "f9bcadd6",
   "metadata": {
    "execution": {
     "iopub.execute_input": "2023-01-20T13:03:30.499742Z",
     "iopub.status.busy": "2023-01-20T13:03:30.499179Z",
     "iopub.status.idle": "2023-01-20T13:03:42.298717Z",
     "shell.execute_reply": "2023-01-20T13:03:42.298085Z"
    }
   },
   "outputs": [
    {
     "name": "stdout",
     "output_type": "stream",
     "text": [
      "144 µs ± 623 ns per loop (mean ± std. dev. of 7 runs, 10,000 loops each)\n"
     ]
    }
   ],
   "source": [
    "t3 = FastTreeValue(_TREE_DATA_3)\n",
    "%timeit copy.deepcopy(t3)"
   ]
  },
  {
   "cell_type": "markdown",
   "id": "bf8be7ea",
   "metadata": {},
   "source": [
    "### Deep Copy of Tianshou Batch"
   ]
  },
  {
   "cell_type": "code",
   "execution_count": 18,
   "id": "91998e6f",
   "metadata": {
    "execution": {
     "iopub.execute_input": "2023-01-20T13:03:42.302231Z",
     "iopub.status.busy": "2023-01-20T13:03:42.301714Z",
     "iopub.status.idle": "2023-01-20T13:03:54.041600Z",
     "shell.execute_reply": "2023-01-20T13:03:54.040948Z"
    }
   },
   "outputs": [
    {
     "name": "stdout",
     "output_type": "stream",
     "text": [
      "145 µs ± 579 ns per loop (mean ± std. dev. of 7 runs, 10,000 loops each)\n"
     ]
    }
   ],
   "source": [
    "b3 = Batch(**_TREE_DATA_3)\n",
    "%timeit copy.deepcopy(b3)"
   ]
  },
  {
   "cell_type": "markdown",
   "id": "223162fb",
   "metadata": {},
   "source": [
    "## Stack, Concat and Split Operation"
   ]
  },
  {
   "cell_type": "markdown",
   "id": "85fa4a73",
   "metadata": {},
   "source": [
    "### Performance of TreeValue"
   ]
  },
  {
   "cell_type": "code",
   "execution_count": 19,
   "id": "a0c2b697",
   "metadata": {
    "execution": {
     "iopub.execute_input": "2023-01-20T13:03:54.045279Z",
     "iopub.status.busy": "2023-01-20T13:03:54.044703Z",
     "iopub.status.idle": "2023-01-20T13:03:54.048414Z",
     "shell.execute_reply": "2023-01-20T13:03:54.047839Z"
    }
   },
   "outputs": [],
   "source": [
    "trees = [FastTreeValue(_TREE_DATA_2) for _ in range(8)]"
   ]
  },
  {
   "cell_type": "code",
   "execution_count": 20,
   "id": "017ea5a5",
   "metadata": {
    "execution": {
     "iopub.execute_input": "2023-01-20T13:03:54.051614Z",
     "iopub.status.busy": "2023-01-20T13:03:54.050901Z",
     "iopub.status.idle": "2023-01-20T13:03:54.058772Z",
     "shell.execute_reply": "2023-01-20T13:03:54.058070Z"
    }
   },
   "outputs": [
    {
     "data": {
      "text/plain": [
       "<FastTreeValue 0x7f894d1003a0>\n",
       "├── 'a' --> tensor([[[ 1.1360, -1.3562,  0.7570],\n",
       "│                    [ 0.1985,  0.3819,  0.4078]],\n",
       "│           \n",
       "│                   [[ 1.1360, -1.3562,  0.7570],\n",
       "│                    [ 0.1985,  0.3819,  0.4078]],\n",
       "│           \n",
       "│                   [[ 1.1360, -1.3562,  0.7570],\n",
       "│                    [ 0.1985,  0.3819,  0.4078]],\n",
       "│           \n",
       "│                   [[ 1.1360, -1.3562,  0.7570],\n",
       "│                    [ 0.1985,  0.3819,  0.4078]],\n",
       "│           \n",
       "│                   [[ 1.1360, -1.3562,  0.7570],\n",
       "│                    [ 0.1985,  0.3819,  0.4078]],\n",
       "│           \n",
       "│                   [[ 1.1360, -1.3562,  0.7570],\n",
       "│                    [ 0.1985,  0.3819,  0.4078]],\n",
       "│           \n",
       "│                   [[ 1.1360, -1.3562,  0.7570],\n",
       "│                    [ 0.1985,  0.3819,  0.4078]],\n",
       "│           \n",
       "│                   [[ 1.1360, -1.3562,  0.7570],\n",
       "│                    [ 0.1985,  0.3819,  0.4078]]])\n",
       "└── 'x' --> <FastTreeValue 0x7f894d1007f0>\n",
       "    └── 'c' --> tensor([[[-1.6698,  0.6880,  0.9833, -0.6469],\n",
       "                         [-0.3844, -0.0697, -1.7715,  0.8377],\n",
       "                         [-0.9949, -0.8132, -1.0637, -0.1916]],\n",
       "                \n",
       "                        [[-1.6698,  0.6880,  0.9833, -0.6469],\n",
       "                         [-0.3844, -0.0697, -1.7715,  0.8377],\n",
       "                         [-0.9949, -0.8132, -1.0637, -0.1916]],\n",
       "                \n",
       "                        [[-1.6698,  0.6880,  0.9833, -0.6469],\n",
       "                         [-0.3844, -0.0697, -1.7715,  0.8377],\n",
       "                         [-0.9949, -0.8132, -1.0637, -0.1916]],\n",
       "                \n",
       "                        [[-1.6698,  0.6880,  0.9833, -0.6469],\n",
       "                         [-0.3844, -0.0697, -1.7715,  0.8377],\n",
       "                         [-0.9949, -0.8132, -1.0637, -0.1916]],\n",
       "                \n",
       "                        [[-1.6698,  0.6880,  0.9833, -0.6469],\n",
       "                         [-0.3844, -0.0697, -1.7715,  0.8377],\n",
       "                         [-0.9949, -0.8132, -1.0637, -0.1916]],\n",
       "                \n",
       "                        [[-1.6698,  0.6880,  0.9833, -0.6469],\n",
       "                         [-0.3844, -0.0697, -1.7715,  0.8377],\n",
       "                         [-0.9949, -0.8132, -1.0637, -0.1916]],\n",
       "                \n",
       "                        [[-1.6698,  0.6880,  0.9833, -0.6469],\n",
       "                         [-0.3844, -0.0697, -1.7715,  0.8377],\n",
       "                         [-0.9949, -0.8132, -1.0637, -0.1916]],\n",
       "                \n",
       "                        [[-1.6698,  0.6880,  0.9833, -0.6469],\n",
       "                         [-0.3844, -0.0697, -1.7715,  0.8377],\n",
       "                         [-0.9949, -0.8132, -1.0637, -0.1916]]])"
      ]
     },
     "execution_count": 20,
     "metadata": {},
     "output_type": "execute_result"
    }
   ],
   "source": [
    "t_stack = FastTreeValue.func(subside=True)(torch.stack)\n",
    "\n",
    "t_stack(trees)"
   ]
  },
  {
   "cell_type": "code",
   "execution_count": 21,
   "id": "f8b3f415",
   "metadata": {
    "execution": {
     "iopub.execute_input": "2023-01-20T13:03:54.061699Z",
     "iopub.status.busy": "2023-01-20T13:03:54.061464Z",
     "iopub.status.idle": "2023-01-20T13:03:56.648866Z",
     "shell.execute_reply": "2023-01-20T13:03:56.648116Z"
    }
   },
   "outputs": [
    {
     "name": "stdout",
     "output_type": "stream",
     "text": [
      "31.8 µs ± 70.7 ns per loop (mean ± std. dev. of 7 runs, 10,000 loops each)\n"
     ]
    }
   ],
   "source": [
    "%timeit t_stack(trees)"
   ]
  },
  {
   "cell_type": "code",
   "execution_count": 22,
   "id": "94b56771",
   "metadata": {
    "execution": {
     "iopub.execute_input": "2023-01-20T13:03:56.652610Z",
     "iopub.status.busy": "2023-01-20T13:03:56.652060Z",
     "iopub.status.idle": "2023-01-20T13:03:56.659875Z",
     "shell.execute_reply": "2023-01-20T13:03:56.659155Z"
    }
   },
   "outputs": [
    {
     "data": {
      "text/plain": [
       "<FastTreeValue 0x7f89f4ba7550>\n",
       "├── 'a' --> tensor([[ 1.1360, -1.3562,  0.7570],\n",
       "│                   [ 0.1985,  0.3819,  0.4078],\n",
       "│                   [ 1.1360, -1.3562,  0.7570],\n",
       "│                   [ 0.1985,  0.3819,  0.4078],\n",
       "│                   [ 1.1360, -1.3562,  0.7570],\n",
       "│                   [ 0.1985,  0.3819,  0.4078],\n",
       "│                   [ 1.1360, -1.3562,  0.7570],\n",
       "│                   [ 0.1985,  0.3819,  0.4078],\n",
       "│                   [ 1.1360, -1.3562,  0.7570],\n",
       "│                   [ 0.1985,  0.3819,  0.4078],\n",
       "│                   [ 1.1360, -1.3562,  0.7570],\n",
       "│                   [ 0.1985,  0.3819,  0.4078],\n",
       "│                   [ 1.1360, -1.3562,  0.7570],\n",
       "│                   [ 0.1985,  0.3819,  0.4078],\n",
       "│                   [ 1.1360, -1.3562,  0.7570],\n",
       "│                   [ 0.1985,  0.3819,  0.4078]])\n",
       "└── 'x' --> <FastTreeValue 0x7f89f4ba77c0>\n",
       "    └── 'c' --> tensor([[-1.6698,  0.6880,  0.9833, -0.6469],\n",
       "                        [-0.3844, -0.0697, -1.7715,  0.8377],\n",
       "                        [-0.9949, -0.8132, -1.0637, -0.1916],\n",
       "                        [-1.6698,  0.6880,  0.9833, -0.6469],\n",
       "                        [-0.3844, -0.0697, -1.7715,  0.8377],\n",
       "                        [-0.9949, -0.8132, -1.0637, -0.1916],\n",
       "                        [-1.6698,  0.6880,  0.9833, -0.6469],\n",
       "                        [-0.3844, -0.0697, -1.7715,  0.8377],\n",
       "                        [-0.9949, -0.8132, -1.0637, -0.1916],\n",
       "                        [-1.6698,  0.6880,  0.9833, -0.6469],\n",
       "                        [-0.3844, -0.0697, -1.7715,  0.8377],\n",
       "                        [-0.9949, -0.8132, -1.0637, -0.1916],\n",
       "                        [-1.6698,  0.6880,  0.9833, -0.6469],\n",
       "                        [-0.3844, -0.0697, -1.7715,  0.8377],\n",
       "                        [-0.9949, -0.8132, -1.0637, -0.1916],\n",
       "                        [-1.6698,  0.6880,  0.9833, -0.6469],\n",
       "                        [-0.3844, -0.0697, -1.7715,  0.8377],\n",
       "                        [-0.9949, -0.8132, -1.0637, -0.1916],\n",
       "                        [-1.6698,  0.6880,  0.9833, -0.6469],\n",
       "                        [-0.3844, -0.0697, -1.7715,  0.8377],\n",
       "                        [-0.9949, -0.8132, -1.0637, -0.1916],\n",
       "                        [-1.6698,  0.6880,  0.9833, -0.6469],\n",
       "                        [-0.3844, -0.0697, -1.7715,  0.8377],\n",
       "                        [-0.9949, -0.8132, -1.0637, -0.1916]])"
      ]
     },
     "execution_count": 22,
     "metadata": {},
     "output_type": "execute_result"
    }
   ],
   "source": [
    "t_cat = FastTreeValue.func(subside=True)(torch.cat)\n",
    "\n",
    "t_cat(trees)"
   ]
  },
  {
   "cell_type": "code",
   "execution_count": 23,
   "id": "5e9c06a6",
   "metadata": {
    "execution": {
     "iopub.execute_input": "2023-01-20T13:03:56.663243Z",
     "iopub.status.busy": "2023-01-20T13:03:56.662674Z",
     "iopub.status.idle": "2023-01-20T13:03:59.075509Z",
     "shell.execute_reply": "2023-01-20T13:03:59.074434Z"
    }
   },
   "outputs": [
    {
     "name": "stdout",
     "output_type": "stream",
     "text": [
      "29.7 µs ± 72.5 ns per loop (mean ± std. dev. of 7 runs, 10,000 loops each)\n"
     ]
    }
   ],
   "source": [
    "%timeit t_cat(trees)"
   ]
  },
  {
   "cell_type": "code",
   "execution_count": 24,
   "id": "a3ab5c8f",
   "metadata": {
    "execution": {
     "iopub.execute_input": "2023-01-20T13:03:59.079104Z",
     "iopub.status.busy": "2023-01-20T13:03:59.078530Z",
     "iopub.status.idle": "2023-01-20T13:04:03.536024Z",
     "shell.execute_reply": "2023-01-20T13:04:03.535343Z"
    }
   },
   "outputs": [
    {
     "name": "stdout",
     "output_type": "stream",
     "text": [
      "54.8 µs ± 60.1 ns per loop (mean ± std. dev. of 7 runs, 10,000 loops each)\n"
     ]
    }
   ],
   "source": [
    "t_split = FastTreeValue.func(rise=True)(torch.split)\n",
    "tree = FastTreeValue({\n",
    "    'obs': torch.randn(8, 4, 84, 84),\n",
    "    'action': torch.randint(0, 6, size=(8, 1,)),\n",
    "    'reward': torch.rand(8, 1),\n",
    "})\n",
    "\n",
    "%timeit t_split(tree, 1)"
   ]
  },
  {
   "cell_type": "markdown",
   "id": "31c3ec0b",
   "metadata": {},
   "source": [
    "### Performance of Tianshou Batch"
   ]
  },
  {
   "cell_type": "code",
   "execution_count": 25,
   "id": "9ead828a",
   "metadata": {
    "execution": {
     "iopub.execute_input": "2023-01-20T13:04:03.539731Z",
     "iopub.status.busy": "2023-01-20T13:04:03.539037Z",
     "iopub.status.idle": "2023-01-20T13:04:03.546985Z",
     "shell.execute_reply": "2023-01-20T13:04:03.546260Z"
    }
   },
   "outputs": [
    {
     "data": {
      "text/plain": [
       "Batch(\n",
       "    x: Batch(\n",
       "           c: tensor([[[-1.6698,  0.6880,  0.9833, -0.6469],\n",
       "                       [-0.3844, -0.0697, -1.7715,  0.8377],\n",
       "                       [-0.9949, -0.8132, -1.0637, -0.1916]],\n",
       "              \n",
       "                      [[-1.6698,  0.6880,  0.9833, -0.6469],\n",
       "                       [-0.3844, -0.0697, -1.7715,  0.8377],\n",
       "                       [-0.9949, -0.8132, -1.0637, -0.1916]],\n",
       "              \n",
       "                      [[-1.6698,  0.6880,  0.9833, -0.6469],\n",
       "                       [-0.3844, -0.0697, -1.7715,  0.8377],\n",
       "                       [-0.9949, -0.8132, -1.0637, -0.1916]],\n",
       "              \n",
       "                      [[-1.6698,  0.6880,  0.9833, -0.6469],\n",
       "                       [-0.3844, -0.0697, -1.7715,  0.8377],\n",
       "                       [-0.9949, -0.8132, -1.0637, -0.1916]],\n",
       "              \n",
       "                      [[-1.6698,  0.6880,  0.9833, -0.6469],\n",
       "                       [-0.3844, -0.0697, -1.7715,  0.8377],\n",
       "                       [-0.9949, -0.8132, -1.0637, -0.1916]],\n",
       "              \n",
       "                      [[-1.6698,  0.6880,  0.9833, -0.6469],\n",
       "                       [-0.3844, -0.0697, -1.7715,  0.8377],\n",
       "                       [-0.9949, -0.8132, -1.0637, -0.1916]],\n",
       "              \n",
       "                      [[-1.6698,  0.6880,  0.9833, -0.6469],\n",
       "                       [-0.3844, -0.0697, -1.7715,  0.8377],\n",
       "                       [-0.9949, -0.8132, -1.0637, -0.1916]],\n",
       "              \n",
       "                      [[-1.6698,  0.6880,  0.9833, -0.6469],\n",
       "                       [-0.3844, -0.0697, -1.7715,  0.8377],\n",
       "                       [-0.9949, -0.8132, -1.0637, -0.1916]]]),\n",
       "       ),\n",
       "    a: tensor([[[ 1.1360, -1.3562,  0.7570],\n",
       "                [ 0.1985,  0.3819,  0.4078]],\n",
       "       \n",
       "               [[ 1.1360, -1.3562,  0.7570],\n",
       "                [ 0.1985,  0.3819,  0.4078]],\n",
       "       \n",
       "               [[ 1.1360, -1.3562,  0.7570],\n",
       "                [ 0.1985,  0.3819,  0.4078]],\n",
       "       \n",
       "               [[ 1.1360, -1.3562,  0.7570],\n",
       "                [ 0.1985,  0.3819,  0.4078]],\n",
       "       \n",
       "               [[ 1.1360, -1.3562,  0.7570],\n",
       "                [ 0.1985,  0.3819,  0.4078]],\n",
       "       \n",
       "               [[ 1.1360, -1.3562,  0.7570],\n",
       "                [ 0.1985,  0.3819,  0.4078]],\n",
       "       \n",
       "               [[ 1.1360, -1.3562,  0.7570],\n",
       "                [ 0.1985,  0.3819,  0.4078]],\n",
       "       \n",
       "               [[ 1.1360, -1.3562,  0.7570],\n",
       "                [ 0.1985,  0.3819,  0.4078]]]),\n",
       ")"
      ]
     },
     "execution_count": 25,
     "metadata": {},
     "output_type": "execute_result"
    }
   ],
   "source": [
    "batches = [Batch(**_TREE_DATA_2) for _ in range(8)]\n",
    "\n",
    "Batch.stack(batches)"
   ]
  },
  {
   "cell_type": "code",
   "execution_count": 26,
   "id": "ec9037a3",
   "metadata": {
    "execution": {
     "iopub.execute_input": "2023-01-20T13:04:03.550238Z",
     "iopub.status.busy": "2023-01-20T13:04:03.549679Z",
     "iopub.status.idle": "2023-01-20T13:04:09.798928Z",
     "shell.execute_reply": "2023-01-20T13:04:09.798176Z"
    }
   },
   "outputs": [
    {
     "name": "stdout",
     "output_type": "stream",
     "text": [
      "77 µs ± 164 ns per loop (mean ± std. dev. of 7 runs, 10,000 loops each)\n"
     ]
    }
   ],
   "source": [
    "%timeit Batch.stack(batches)"
   ]
  },
  {
   "cell_type": "code",
   "execution_count": 27,
   "id": "cb8ab77e",
   "metadata": {
    "execution": {
     "iopub.execute_input": "2023-01-20T13:04:09.802578Z",
     "iopub.status.busy": "2023-01-20T13:04:09.802002Z",
     "iopub.status.idle": "2023-01-20T13:04:09.809405Z",
     "shell.execute_reply": "2023-01-20T13:04:09.808692Z"
    }
   },
   "outputs": [
    {
     "data": {
      "text/plain": [
       "Batch(\n",
       "    x: Batch(\n",
       "           c: tensor([[-1.6698,  0.6880,  0.9833, -0.6469],\n",
       "                      [-0.3844, -0.0697, -1.7715,  0.8377],\n",
       "                      [-0.9949, -0.8132, -1.0637, -0.1916],\n",
       "                      [-1.6698,  0.6880,  0.9833, -0.6469],\n",
       "                      [-0.3844, -0.0697, -1.7715,  0.8377],\n",
       "                      [-0.9949, -0.8132, -1.0637, -0.1916],\n",
       "                      [-1.6698,  0.6880,  0.9833, -0.6469],\n",
       "                      [-0.3844, -0.0697, -1.7715,  0.8377],\n",
       "                      [-0.9949, -0.8132, -1.0637, -0.1916],\n",
       "                      [-1.6698,  0.6880,  0.9833, -0.6469],\n",
       "                      [-0.3844, -0.0697, -1.7715,  0.8377],\n",
       "                      [-0.9949, -0.8132, -1.0637, -0.1916],\n",
       "                      [-1.6698,  0.6880,  0.9833, -0.6469],\n",
       "                      [-0.3844, -0.0697, -1.7715,  0.8377],\n",
       "                      [-0.9949, -0.8132, -1.0637, -0.1916],\n",
       "                      [-1.6698,  0.6880,  0.9833, -0.6469],\n",
       "                      [-0.3844, -0.0697, -1.7715,  0.8377],\n",
       "                      [-0.9949, -0.8132, -1.0637, -0.1916],\n",
       "                      [-1.6698,  0.6880,  0.9833, -0.6469],\n",
       "                      [-0.3844, -0.0697, -1.7715,  0.8377],\n",
       "                      [-0.9949, -0.8132, -1.0637, -0.1916],\n",
       "                      [-1.6698,  0.6880,  0.9833, -0.6469],\n",
       "                      [-0.3844, -0.0697, -1.7715,  0.8377],\n",
       "                      [-0.9949, -0.8132, -1.0637, -0.1916]]),\n",
       "       ),\n",
       "    a: tensor([[ 1.1360, -1.3562,  0.7570],\n",
       "               [ 0.1985,  0.3819,  0.4078],\n",
       "               [ 1.1360, -1.3562,  0.7570],\n",
       "               [ 0.1985,  0.3819,  0.4078],\n",
       "               [ 1.1360, -1.3562,  0.7570],\n",
       "               [ 0.1985,  0.3819,  0.4078],\n",
       "               [ 1.1360, -1.3562,  0.7570],\n",
       "               [ 0.1985,  0.3819,  0.4078],\n",
       "               [ 1.1360, -1.3562,  0.7570],\n",
       "               [ 0.1985,  0.3819,  0.4078],\n",
       "               [ 1.1360, -1.3562,  0.7570],\n",
       "               [ 0.1985,  0.3819,  0.4078],\n",
       "               [ 1.1360, -1.3562,  0.7570],\n",
       "               [ 0.1985,  0.3819,  0.4078],\n",
       "               [ 1.1360, -1.3562,  0.7570],\n",
       "               [ 0.1985,  0.3819,  0.4078]]),\n",
       ")"
      ]
     },
     "execution_count": 27,
     "metadata": {},
     "output_type": "execute_result"
    }
   ],
   "source": [
    "Batch.cat(batches)"
   ]
  },
  {
   "cell_type": "code",
   "execution_count": 28,
   "id": "18dfb045",
   "metadata": {
    "execution": {
     "iopub.execute_input": "2023-01-20T13:04:09.812643Z",
     "iopub.status.busy": "2023-01-20T13:04:09.812018Z",
     "iopub.status.idle": "2023-01-20T13:04:21.395054Z",
     "shell.execute_reply": "2023-01-20T13:04:21.394318Z"
    }
   },
   "outputs": [
    {
     "name": "stdout",
     "output_type": "stream",
     "text": [
      "143 µs ± 210 ns per loop (mean ± std. dev. of 7 runs, 10,000 loops each)\n"
     ]
    }
   ],
   "source": [
    "%timeit Batch.cat(batches)"
   ]
  },
  {
   "cell_type": "code",
   "execution_count": 29,
   "id": "c6688e51",
   "metadata": {
    "execution": {
     "iopub.execute_input": "2023-01-20T13:04:21.398765Z",
     "iopub.status.busy": "2023-01-20T13:04:21.398101Z",
     "iopub.status.idle": "2023-01-20T13:04:24.062920Z",
     "shell.execute_reply": "2023-01-20T13:04:24.062215Z"
    }
   },
   "outputs": [
    {
     "name": "stdout",
     "output_type": "stream",
     "text": [
      "328 µs ± 1.93 µs per loop (mean ± std. dev. of 7 runs, 1,000 loops each)\n"
     ]
    }
   ],
   "source": [
    "batch = Batch({\n",
    "    'obs': torch.randn(8, 4, 84, 84),\n",
    "    'action': torch.randint(0, 6, size=(8, 1,)),\n",
    "    'reward': torch.rand(8, 1)}\n",
    ")\n",
    "\n",
    "%timeit list(Batch.split(batch, 1, shuffle=False, merge_last=True))"
   ]
  },
  {
   "cell_type": "code",
   "execution_count": null,
   "id": "2539fbd9",
   "metadata": {},
   "outputs": [],
   "source": []
  }
 ],
 "metadata": {
  "kernelspec": {
   "display_name": "Python 3 (ipykernel)",
   "language": "python",
   "name": "python3"
  },
  "language_info": {
   "codemirror_mode": {
    "name": "ipython",
    "version": 3
   },
   "file_extension": ".py",
   "mimetype": "text/x-python",
   "name": "python",
   "nbconvert_exporter": "python",
   "pygments_lexer": "ipython3",
   "version": "3.8.16"
  }
 },
 "nbformat": 4,
 "nbformat_minor": 5
}
