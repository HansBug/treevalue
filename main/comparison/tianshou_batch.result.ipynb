{
 "cells": [
  {
   "cell_type": "markdown",
   "id": "9d39d946",
   "metadata": {},
   "source": [
    "# Comparison Between TreeValue and Tianshou Batch"
   ]
  },
  {
   "cell_type": "markdown",
   "id": "3c6db2d4",
   "metadata": {},
   "source": [
    "In this section, we will take a look at the feature and performance of the [Tianshou Batch](https://github.com/thu-ml/tianshou) library, which is developed by Tsinghua Machine Learning Group."
   ]
  },
  {
   "cell_type": "markdown",
   "id": "069361b0",
   "metadata": {},
   "source": [
    "Before starting the comparison, let us define some thing."
   ]
  },
  {
   "cell_type": "code",
   "execution_count": 1,
   "id": "06fc8d26",
   "metadata": {
    "execution": {
     "iopub.execute_input": "2023-03-05T08:44:18.143351Z",
     "iopub.status.busy": "2023-03-05T08:44:18.142933Z",
     "iopub.status.idle": "2023-03-05T08:44:19.223725Z",
     "shell.execute_reply": "2023-03-05T08:44:19.222935Z"
    }
   },
   "outputs": [
    {
     "name": "stderr",
     "output_type": "stream",
     "text": [
      "/opt/hostedtoolcache/Python/3.8.16/x64/lib/python3.8/site-packages/tqdm/auto.py:21: TqdmWarning: IProgress not found. Please update jupyter and ipywidgets. See https://ipywidgets.readthedocs.io/en/stable/user_install.html\n",
      "  from .autonotebook import tqdm as notebook_tqdm\n"
     ]
    }
   ],
   "source": [
    "import torch \n",
    "\n",
    "_TREE_DATA_1 = {'a': 1, 'b': 2, 'x': {'c': 3, 'd': 4}}\n",
    "_TREE_DATA_2 = {\n",
    "    'a': torch.randn(2, 3), \n",
    "    'x': {\n",
    "        'c': torch.randn(3, 4)\n",
    "    },\n",
    "}\n",
    "_TREE_DATA_3 = {\n",
    "    'obs': torch.randn(4, 84, 84),\n",
    "    'action': torch.randint(0, 6, size=(1,)),\n",
    "    'reward': torch.rand(1),\n",
    "}"
   ]
  },
  {
   "cell_type": "markdown",
   "id": "83461b25",
   "metadata": {},
   "source": [
    "## Read and Write Operation"
   ]
  },
  {
   "cell_type": "markdown",
   "id": "067b3f73",
   "metadata": {},
   "source": [
    "Reading and writing are the two most common operations in the tree data structure based on the data model (TreeValue and Tianshou Batch both belong to this type), so this section will compare the reading and writing performance of these two libraries."
   ]
  },
  {
   "cell_type": "markdown",
   "id": "5d09a5b7",
   "metadata": {},
   "source": [
    "### TreeValue's Get and Set"
   ]
  },
  {
   "cell_type": "code",
   "execution_count": 2,
   "id": "9519c4bb",
   "metadata": {
    "execution": {
     "iopub.execute_input": "2023-03-05T08:44:19.228050Z",
     "iopub.status.busy": "2023-03-05T08:44:19.227570Z",
     "iopub.status.idle": "2023-03-05T08:44:19.535574Z",
     "shell.execute_reply": "2023-03-05T08:44:19.534775Z"
    }
   },
   "outputs": [],
   "source": [
    "from treevalue import FastTreeValue\n",
    "\n",
    "t = FastTreeValue(_TREE_DATA_2)"
   ]
  },
  {
   "cell_type": "code",
   "execution_count": 3,
   "id": "11c37677",
   "metadata": {
    "execution": {
     "iopub.execute_input": "2023-03-05T08:44:19.539480Z",
     "iopub.status.busy": "2023-03-05T08:44:19.538997Z",
     "iopub.status.idle": "2023-03-05T08:44:19.551188Z",
     "shell.execute_reply": "2023-03-05T08:44:19.550497Z"
    }
   },
   "outputs": [
    {
     "data": {
      "text/plain": [
       "<FastTreeValue 0x7f05049e9d90>\n",
       "├── 'a' --> tensor([[-0.1412,  1.3471, -1.1001],\n",
       "│                   [ 0.1245, -0.0482,  0.3471]])\n",
       "└── 'x' --> <FastTreeValue 0x7f05049e9970>\n",
       "    └── 'c' --> tensor([[-0.2984, -0.1797, -0.1971,  1.1798],\n",
       "                        [ 0.3865, -0.3010, -0.0750,  0.8125],\n",
       "                        [-0.1364, -0.3591,  0.1179,  0.1970]])"
      ]
     },
     "execution_count": 3,
     "metadata": {},
     "output_type": "execute_result"
    }
   ],
   "source": [
    "t"
   ]
  },
  {
   "cell_type": "code",
   "execution_count": 4,
   "id": "fd70b0b9",
   "metadata": {
    "execution": {
     "iopub.execute_input": "2023-03-05T08:44:19.554331Z",
     "iopub.status.busy": "2023-03-05T08:44:19.553842Z",
     "iopub.status.idle": "2023-03-05T08:44:19.560135Z",
     "shell.execute_reply": "2023-03-05T08:44:19.559505Z"
    }
   },
   "outputs": [
    {
     "data": {
      "text/plain": [
       "tensor([[-0.1412,  1.3471, -1.1001],\n",
       "        [ 0.1245, -0.0482,  0.3471]])"
      ]
     },
     "execution_count": 4,
     "metadata": {},
     "output_type": "execute_result"
    }
   ],
   "source": [
    "t.a"
   ]
  },
  {
   "cell_type": "code",
   "execution_count": 5,
   "id": "c18197bd",
   "metadata": {
    "execution": {
     "iopub.execute_input": "2023-03-05T08:44:19.563139Z",
     "iopub.status.busy": "2023-03-05T08:44:19.562765Z",
     "iopub.status.idle": "2023-03-05T08:44:24.957702Z",
     "shell.execute_reply": "2023-03-05T08:44:24.956784Z"
    }
   },
   "outputs": [
    {
     "name": "stdout",
     "output_type": "stream",
     "text": [
      "66.1 ns ± 0.0593 ns per loop (mean ± std. dev. of 7 runs, 10,000,000 loops each)\n"
     ]
    }
   ],
   "source": [
    "%timeit t.a"
   ]
  },
  {
   "cell_type": "code",
   "execution_count": 6,
   "id": "bd52f867",
   "metadata": {
    "execution": {
     "iopub.execute_input": "2023-03-05T08:44:24.961225Z",
     "iopub.status.busy": "2023-03-05T08:44:24.960776Z",
     "iopub.status.idle": "2023-03-05T08:44:24.968635Z",
     "shell.execute_reply": "2023-03-05T08:44:24.967964Z"
    }
   },
   "outputs": [
    {
     "data": {
      "text/plain": [
       "<FastTreeValue 0x7f05049e9d90>\n",
       "├── 'a' --> tensor([[ 0.8380,  0.0300, -0.5472],\n",
       "│                   [ 0.1472, -2.6357, -0.2420]])\n",
       "└── 'x' --> <FastTreeValue 0x7f05049e9970>\n",
       "    └── 'c' --> tensor([[-0.2984, -0.1797, -0.1971,  1.1798],\n",
       "                        [ 0.3865, -0.3010, -0.0750,  0.8125],\n",
       "                        [-0.1364, -0.3591,  0.1179,  0.1970]])"
      ]
     },
     "execution_count": 6,
     "metadata": {},
     "output_type": "execute_result"
    }
   ],
   "source": [
    "new_value = torch.randn(2, 3)\n",
    "t.a = new_value\n",
    "\n",
    "t"
   ]
  },
  {
   "cell_type": "code",
   "execution_count": 7,
   "id": "bbe04d1c",
   "metadata": {
    "execution": {
     "iopub.execute_input": "2023-03-05T08:44:24.971766Z",
     "iopub.status.busy": "2023-03-05T08:44:24.971194Z",
     "iopub.status.idle": "2023-03-05T08:44:30.940763Z",
     "shell.execute_reply": "2023-03-05T08:44:30.939577Z"
    }
   },
   "outputs": [
    {
     "name": "stdout",
     "output_type": "stream",
     "text": [
      "73.5 ns ± 0.0544 ns per loop (mean ± std. dev. of 7 runs, 10,000,000 loops each)\n"
     ]
    }
   ],
   "source": [
    "%timeit t.a = new_value"
   ]
  },
  {
   "cell_type": "markdown",
   "id": "48c49731",
   "metadata": {},
   "source": [
    "### Tianshou Batch's Get and Set"
   ]
  },
  {
   "cell_type": "code",
   "execution_count": 8,
   "id": "f1bb14c1",
   "metadata": {
    "execution": {
     "iopub.execute_input": "2023-03-05T08:44:30.944164Z",
     "iopub.status.busy": "2023-03-05T08:44:30.943737Z",
     "iopub.status.idle": "2023-03-05T08:44:31.334072Z",
     "shell.execute_reply": "2023-03-05T08:44:31.333272Z"
    }
   },
   "outputs": [],
   "source": [
    "from tianshou.data import Batch\n",
    "\n",
    "b = Batch(**_TREE_DATA_2)"
   ]
  },
  {
   "cell_type": "code",
   "execution_count": 9,
   "id": "cb0777c3",
   "metadata": {
    "execution": {
     "iopub.execute_input": "2023-03-05T08:44:31.337925Z",
     "iopub.status.busy": "2023-03-05T08:44:31.337420Z",
     "iopub.status.idle": "2023-03-05T08:44:31.344409Z",
     "shell.execute_reply": "2023-03-05T08:44:31.343732Z"
    }
   },
   "outputs": [
    {
     "data": {
      "text/plain": [
       "Batch(\n",
       "    a: tensor([[-0.1412,  1.3471, -1.1001],\n",
       "               [ 0.1245, -0.0482,  0.3471]]),\n",
       "    x: Batch(\n",
       "           c: tensor([[-0.2984, -0.1797, -0.1971,  1.1798],\n",
       "                      [ 0.3865, -0.3010, -0.0750,  0.8125],\n",
       "                      [-0.1364, -0.3591,  0.1179,  0.1970]]),\n",
       "       ),\n",
       ")"
      ]
     },
     "execution_count": 9,
     "metadata": {},
     "output_type": "execute_result"
    }
   ],
   "source": [
    "b"
   ]
  },
  {
   "cell_type": "code",
   "execution_count": 10,
   "id": "43ef8ea3",
   "metadata": {
    "execution": {
     "iopub.execute_input": "2023-03-05T08:44:31.347635Z",
     "iopub.status.busy": "2023-03-05T08:44:31.347246Z",
     "iopub.status.idle": "2023-03-05T08:44:31.352635Z",
     "shell.execute_reply": "2023-03-05T08:44:31.351947Z"
    }
   },
   "outputs": [
    {
     "data": {
      "text/plain": [
       "tensor([[-0.1412,  1.3471, -1.1001],\n",
       "        [ 0.1245, -0.0482,  0.3471]])"
      ]
     },
     "execution_count": 10,
     "metadata": {},
     "output_type": "execute_result"
    }
   ],
   "source": [
    "b.a"
   ]
  },
  {
   "cell_type": "code",
   "execution_count": 11,
   "id": "b785ab72",
   "metadata": {
    "execution": {
     "iopub.execute_input": "2023-03-05T08:44:31.355620Z",
     "iopub.status.busy": "2023-03-05T08:44:31.355256Z",
     "iopub.status.idle": "2023-03-05T08:44:36.247552Z",
     "shell.execute_reply": "2023-03-05T08:44:36.246648Z"
    }
   },
   "outputs": [
    {
     "name": "stdout",
     "output_type": "stream",
     "text": [
      "60.2 ns ± 0.0199 ns per loop (mean ± std. dev. of 7 runs, 10,000,000 loops each)\n"
     ]
    }
   ],
   "source": [
    "%timeit b.a"
   ]
  },
  {
   "cell_type": "code",
   "execution_count": 12,
   "id": "ad54dc69",
   "metadata": {
    "execution": {
     "iopub.execute_input": "2023-03-05T08:44:36.250901Z",
     "iopub.status.busy": "2023-03-05T08:44:36.250473Z",
     "iopub.status.idle": "2023-03-05T08:44:36.257723Z",
     "shell.execute_reply": "2023-03-05T08:44:36.257103Z"
    }
   },
   "outputs": [
    {
     "data": {
      "text/plain": [
       "Batch(\n",
       "    a: tensor([[-0.5728,  0.1775, -0.4862],\n",
       "               [ 0.3594,  0.8024, -0.6150]]),\n",
       "    x: Batch(\n",
       "           c: tensor([[-0.2984, -0.1797, -0.1971,  1.1798],\n",
       "                      [ 0.3865, -0.3010, -0.0750,  0.8125],\n",
       "                      [-0.1364, -0.3591,  0.1179,  0.1970]]),\n",
       "       ),\n",
       ")"
      ]
     },
     "execution_count": 12,
     "metadata": {},
     "output_type": "execute_result"
    }
   ],
   "source": [
    "new_value = torch.randn(2, 3)\n",
    "b.a = new_value\n",
    "\n",
    "b"
   ]
  },
  {
   "cell_type": "code",
   "execution_count": 13,
   "id": "29b1d0bf",
   "metadata": {
    "execution": {
     "iopub.execute_input": "2023-03-05T08:44:36.260658Z",
     "iopub.status.busy": "2023-03-05T08:44:36.260318Z",
     "iopub.status.idle": "2023-03-05T08:44:40.299084Z",
     "shell.execute_reply": "2023-03-05T08:44:40.298207Z"
    }
   },
   "outputs": [
    {
     "name": "stdout",
     "output_type": "stream",
     "text": [
      "497 ns ± 0.0884 ns per loop (mean ± std. dev. of 7 runs, 1,000,000 loops each)\n"
     ]
    }
   ],
   "source": [
    "%timeit b.a = new_value"
   ]
  },
  {
   "cell_type": "markdown",
   "id": "b61ad1d0",
   "metadata": {},
   "source": [
    "## Initialization"
   ]
  },
  {
   "cell_type": "markdown",
   "id": "d70f0d54",
   "metadata": {},
   "source": [
    "### TreeValue's Initialization"
   ]
  },
  {
   "cell_type": "code",
   "execution_count": 14,
   "id": "d32a679b",
   "metadata": {
    "execution": {
     "iopub.execute_input": "2023-03-05T08:44:40.302735Z",
     "iopub.status.busy": "2023-03-05T08:44:40.302214Z",
     "iopub.status.idle": "2023-03-05T08:44:47.116300Z",
     "shell.execute_reply": "2023-03-05T08:44:47.115586Z"
    }
   },
   "outputs": [
    {
     "name": "stdout",
     "output_type": "stream",
     "text": [
      "838 ns ± 0.566 ns per loop (mean ± std. dev. of 7 runs, 1,000,000 loops each)\n"
     ]
    }
   ],
   "source": [
    "%timeit FastTreeValue(_TREE_DATA_1)"
   ]
  },
  {
   "cell_type": "markdown",
   "id": "24f3707b",
   "metadata": {},
   "source": [
    "### Tianshou Batch's Initialization"
   ]
  },
  {
   "cell_type": "code",
   "execution_count": 15,
   "id": "ac3958df",
   "metadata": {
    "execution": {
     "iopub.execute_input": "2023-03-05T08:44:47.120008Z",
     "iopub.status.busy": "2023-03-05T08:44:47.119332Z",
     "iopub.status.idle": "2023-03-05T08:44:56.036083Z",
     "shell.execute_reply": "2023-03-05T08:44:56.035208Z"
    }
   },
   "outputs": [
    {
     "name": "stdout",
     "output_type": "stream",
     "text": [
      "11 µs ± 37.1 ns per loop (mean ± std. dev. of 7 runs, 100,000 loops each)\n"
     ]
    }
   ],
   "source": [
    "%timeit Batch(**_TREE_DATA_1)"
   ]
  },
  {
   "cell_type": "markdown",
   "id": "1ab82e2d",
   "metadata": {},
   "source": [
    "## Deep Copy Operation"
   ]
  },
  {
   "cell_type": "code",
   "execution_count": 16,
   "id": "210a9442",
   "metadata": {
    "execution": {
     "iopub.execute_input": "2023-03-05T08:44:56.039552Z",
     "iopub.status.busy": "2023-03-05T08:44:56.039137Z",
     "iopub.status.idle": "2023-03-05T08:44:56.043652Z",
     "shell.execute_reply": "2023-03-05T08:44:56.042981Z"
    }
   },
   "outputs": [],
   "source": [
    "import copy"
   ]
  },
  {
   "cell_type": "markdown",
   "id": "5a736274",
   "metadata": {},
   "source": [
    "### Deep Copy of TreeValue"
   ]
  },
  {
   "cell_type": "code",
   "execution_count": 17,
   "id": "f9bcadd6",
   "metadata": {
    "execution": {
     "iopub.execute_input": "2023-03-05T08:44:56.046824Z",
     "iopub.status.busy": "2023-03-05T08:44:56.046178Z",
     "iopub.status.idle": "2023-03-05T08:45:07.945402Z",
     "shell.execute_reply": "2023-03-05T08:45:07.944561Z"
    }
   },
   "outputs": [
    {
     "name": "stdout",
     "output_type": "stream",
     "text": [
      "147 µs ± 1.17 µs per loop (mean ± std. dev. of 7 runs, 10,000 loops each)\n"
     ]
    }
   ],
   "source": [
    "t3 = FastTreeValue(_TREE_DATA_3)\n",
    "%timeit copy.deepcopy(t3)"
   ]
  },
  {
   "cell_type": "markdown",
   "id": "bf8be7ea",
   "metadata": {},
   "source": [
    "### Deep Copy of Tianshou Batch"
   ]
  },
  {
   "cell_type": "code",
   "execution_count": 18,
   "id": "91998e6f",
   "metadata": {
    "execution": {
     "iopub.execute_input": "2023-03-05T08:45:07.948950Z",
     "iopub.status.busy": "2023-03-05T08:45:07.948447Z",
     "iopub.status.idle": "2023-03-05T08:45:19.456702Z",
     "shell.execute_reply": "2023-03-05T08:45:19.456026Z"
    }
   },
   "outputs": [
    {
     "name": "stdout",
     "output_type": "stream",
     "text": [
      "142 µs ± 533 ns per loop (mean ± std. dev. of 7 runs, 10,000 loops each)\n"
     ]
    }
   ],
   "source": [
    "b3 = Batch(**_TREE_DATA_3)\n",
    "%timeit copy.deepcopy(b3)"
   ]
  },
  {
   "cell_type": "markdown",
   "id": "223162fb",
   "metadata": {},
   "source": [
    "## Stack, Concat and Split Operation"
   ]
  },
  {
   "cell_type": "markdown",
   "id": "85fa4a73",
   "metadata": {},
   "source": [
    "### Performance of TreeValue"
   ]
  },
  {
   "cell_type": "code",
   "execution_count": 19,
   "id": "a0c2b697",
   "metadata": {
    "execution": {
     "iopub.execute_input": "2023-03-05T08:45:19.459878Z",
     "iopub.status.busy": "2023-03-05T08:45:19.459442Z",
     "iopub.status.idle": "2023-03-05T08:45:19.463125Z",
     "shell.execute_reply": "2023-03-05T08:45:19.462551Z"
    }
   },
   "outputs": [],
   "source": [
    "trees = [FastTreeValue(_TREE_DATA_2) for _ in range(8)]"
   ]
  },
  {
   "cell_type": "code",
   "execution_count": 20,
   "id": "017ea5a5",
   "metadata": {
    "execution": {
     "iopub.execute_input": "2023-03-05T08:45:19.465950Z",
     "iopub.status.busy": "2023-03-05T08:45:19.465336Z",
     "iopub.status.idle": "2023-03-05T08:45:19.472821Z",
     "shell.execute_reply": "2023-03-05T08:45:19.472259Z"
    }
   },
   "outputs": [
    {
     "data": {
      "text/plain": [
       "<FastTreeValue 0x7f044ec81dc0>\n",
       "├── 'a' --> tensor([[[-0.1412,  1.3471, -1.1001],\n",
       "│                    [ 0.1245, -0.0482,  0.3471]],\n",
       "│           \n",
       "│                   [[-0.1412,  1.3471, -1.1001],\n",
       "│                    [ 0.1245, -0.0482,  0.3471]],\n",
       "│           \n",
       "│                   [[-0.1412,  1.3471, -1.1001],\n",
       "│                    [ 0.1245, -0.0482,  0.3471]],\n",
       "│           \n",
       "│                   [[-0.1412,  1.3471, -1.1001],\n",
       "│                    [ 0.1245, -0.0482,  0.3471]],\n",
       "│           \n",
       "│                   [[-0.1412,  1.3471, -1.1001],\n",
       "│                    [ 0.1245, -0.0482,  0.3471]],\n",
       "│           \n",
       "│                   [[-0.1412,  1.3471, -1.1001],\n",
       "│                    [ 0.1245, -0.0482,  0.3471]],\n",
       "│           \n",
       "│                   [[-0.1412,  1.3471, -1.1001],\n",
       "│                    [ 0.1245, -0.0482,  0.3471]],\n",
       "│           \n",
       "│                   [[-0.1412,  1.3471, -1.1001],\n",
       "│                    [ 0.1245, -0.0482,  0.3471]]])\n",
       "└── 'x' --> <FastTreeValue 0x7f044ec81fd0>\n",
       "    └── 'c' --> tensor([[[-0.2984, -0.1797, -0.1971,  1.1798],\n",
       "                         [ 0.3865, -0.3010, -0.0750,  0.8125],\n",
       "                         [-0.1364, -0.3591,  0.1179,  0.1970]],\n",
       "                \n",
       "                        [[-0.2984, -0.1797, -0.1971,  1.1798],\n",
       "                         [ 0.3865, -0.3010, -0.0750,  0.8125],\n",
       "                         [-0.1364, -0.3591,  0.1179,  0.1970]],\n",
       "                \n",
       "                        [[-0.2984, -0.1797, -0.1971,  1.1798],\n",
       "                         [ 0.3865, -0.3010, -0.0750,  0.8125],\n",
       "                         [-0.1364, -0.3591,  0.1179,  0.1970]],\n",
       "                \n",
       "                        [[-0.2984, -0.1797, -0.1971,  1.1798],\n",
       "                         [ 0.3865, -0.3010, -0.0750,  0.8125],\n",
       "                         [-0.1364, -0.3591,  0.1179,  0.1970]],\n",
       "                \n",
       "                        [[-0.2984, -0.1797, -0.1971,  1.1798],\n",
       "                         [ 0.3865, -0.3010, -0.0750,  0.8125],\n",
       "                         [-0.1364, -0.3591,  0.1179,  0.1970]],\n",
       "                \n",
       "                        [[-0.2984, -0.1797, -0.1971,  1.1798],\n",
       "                         [ 0.3865, -0.3010, -0.0750,  0.8125],\n",
       "                         [-0.1364, -0.3591,  0.1179,  0.1970]],\n",
       "                \n",
       "                        [[-0.2984, -0.1797, -0.1971,  1.1798],\n",
       "                         [ 0.3865, -0.3010, -0.0750,  0.8125],\n",
       "                         [-0.1364, -0.3591,  0.1179,  0.1970]],\n",
       "                \n",
       "                        [[-0.2984, -0.1797, -0.1971,  1.1798],\n",
       "                         [ 0.3865, -0.3010, -0.0750,  0.8125],\n",
       "                         [-0.1364, -0.3591,  0.1179,  0.1970]]])"
      ]
     },
     "execution_count": 20,
     "metadata": {},
     "output_type": "execute_result"
    }
   ],
   "source": [
    "t_stack = FastTreeValue.func(subside=True)(torch.stack)\n",
    "\n",
    "t_stack(trees)"
   ]
  },
  {
   "cell_type": "code",
   "execution_count": 21,
   "id": "f8b3f415",
   "metadata": {
    "execution": {
     "iopub.execute_input": "2023-03-05T08:45:19.475573Z",
     "iopub.status.busy": "2023-03-05T08:45:19.475005Z",
     "iopub.status.idle": "2023-03-05T08:45:22.163230Z",
     "shell.execute_reply": "2023-03-05T08:45:22.162381Z"
    }
   },
   "outputs": [
    {
     "name": "stdout",
     "output_type": "stream",
     "text": [
      "33.1 µs ± 72.8 ns per loop (mean ± std. dev. of 7 runs, 10,000 loops each)\n"
     ]
    }
   ],
   "source": [
    "%timeit t_stack(trees)"
   ]
  },
  {
   "cell_type": "code",
   "execution_count": 22,
   "id": "94b56771",
   "metadata": {
    "execution": {
     "iopub.execute_input": "2023-03-05T08:45:22.166970Z",
     "iopub.status.busy": "2023-03-05T08:45:22.166369Z",
     "iopub.status.idle": "2023-03-05T08:45:22.174282Z",
     "shell.execute_reply": "2023-03-05T08:45:22.173557Z"
    }
   },
   "outputs": [
    {
     "data": {
      "text/plain": [
       "<FastTreeValue 0x7f044ec81c10>\n",
       "├── 'a' --> tensor([[-0.1412,  1.3471, -1.1001],\n",
       "│                   [ 0.1245, -0.0482,  0.3471],\n",
       "│                   [-0.1412,  1.3471, -1.1001],\n",
       "│                   [ 0.1245, -0.0482,  0.3471],\n",
       "│                   [-0.1412,  1.3471, -1.1001],\n",
       "│                   [ 0.1245, -0.0482,  0.3471],\n",
       "│                   [-0.1412,  1.3471, -1.1001],\n",
       "│                   [ 0.1245, -0.0482,  0.3471],\n",
       "│                   [-0.1412,  1.3471, -1.1001],\n",
       "│                   [ 0.1245, -0.0482,  0.3471],\n",
       "│                   [-0.1412,  1.3471, -1.1001],\n",
       "│                   [ 0.1245, -0.0482,  0.3471],\n",
       "│                   [-0.1412,  1.3471, -1.1001],\n",
       "│                   [ 0.1245, -0.0482,  0.3471],\n",
       "│                   [-0.1412,  1.3471, -1.1001],\n",
       "│                   [ 0.1245, -0.0482,  0.3471]])\n",
       "└── 'x' --> <FastTreeValue 0x7f0508a761f0>\n",
       "    └── 'c' --> tensor([[-0.2984, -0.1797, -0.1971,  1.1798],\n",
       "                        [ 0.3865, -0.3010, -0.0750,  0.8125],\n",
       "                        [-0.1364, -0.3591,  0.1179,  0.1970],\n",
       "                        [-0.2984, -0.1797, -0.1971,  1.1798],\n",
       "                        [ 0.3865, -0.3010, -0.0750,  0.8125],\n",
       "                        [-0.1364, -0.3591,  0.1179,  0.1970],\n",
       "                        [-0.2984, -0.1797, -0.1971,  1.1798],\n",
       "                        [ 0.3865, -0.3010, -0.0750,  0.8125],\n",
       "                        [-0.1364, -0.3591,  0.1179,  0.1970],\n",
       "                        [-0.2984, -0.1797, -0.1971,  1.1798],\n",
       "                        [ 0.3865, -0.3010, -0.0750,  0.8125],\n",
       "                        [-0.1364, -0.3591,  0.1179,  0.1970],\n",
       "                        [-0.2984, -0.1797, -0.1971,  1.1798],\n",
       "                        [ 0.3865, -0.3010, -0.0750,  0.8125],\n",
       "                        [-0.1364, -0.3591,  0.1179,  0.1970],\n",
       "                        [-0.2984, -0.1797, -0.1971,  1.1798],\n",
       "                        [ 0.3865, -0.3010, -0.0750,  0.8125],\n",
       "                        [-0.1364, -0.3591,  0.1179,  0.1970],\n",
       "                        [-0.2984, -0.1797, -0.1971,  1.1798],\n",
       "                        [ 0.3865, -0.3010, -0.0750,  0.8125],\n",
       "                        [-0.1364, -0.3591,  0.1179,  0.1970],\n",
       "                        [-0.2984, -0.1797, -0.1971,  1.1798],\n",
       "                        [ 0.3865, -0.3010, -0.0750,  0.8125],\n",
       "                        [-0.1364, -0.3591,  0.1179,  0.1970]])"
      ]
     },
     "execution_count": 22,
     "metadata": {},
     "output_type": "execute_result"
    }
   ],
   "source": [
    "t_cat = FastTreeValue.func(subside=True)(torch.cat)\n",
    "\n",
    "t_cat(trees)"
   ]
  },
  {
   "cell_type": "code",
   "execution_count": 23,
   "id": "5e9c06a6",
   "metadata": {
    "execution": {
     "iopub.execute_input": "2023-03-05T08:45:22.177325Z",
     "iopub.status.busy": "2023-03-05T08:45:22.176856Z",
     "iopub.status.idle": "2023-03-05T08:45:24.691542Z",
     "shell.execute_reply": "2023-03-05T08:45:24.690685Z"
    }
   },
   "outputs": [
    {
     "name": "stdout",
     "output_type": "stream",
     "text": [
      "30.9 µs ± 55.8 ns per loop (mean ± std. dev. of 7 runs, 10,000 loops each)\n"
     ]
    }
   ],
   "source": [
    "%timeit t_cat(trees)"
   ]
  },
  {
   "cell_type": "code",
   "execution_count": 24,
   "id": "a3ab5c8f",
   "metadata": {
    "execution": {
     "iopub.execute_input": "2023-03-05T08:45:24.694794Z",
     "iopub.status.busy": "2023-03-05T08:45:24.694400Z",
     "iopub.status.idle": "2023-03-05T08:45:29.406883Z",
     "shell.execute_reply": "2023-03-05T08:45:29.406004Z"
    }
   },
   "outputs": [
    {
     "name": "stdout",
     "output_type": "stream",
     "text": [
      "57.9 µs ± 51.2 ns per loop (mean ± std. dev. of 7 runs, 10,000 loops each)\n"
     ]
    }
   ],
   "source": [
    "t_split = FastTreeValue.func(rise=True)(torch.split)\n",
    "tree = FastTreeValue({\n",
    "    'obs': torch.randn(8, 4, 84, 84),\n",
    "    'action': torch.randint(0, 6, size=(8, 1,)),\n",
    "    'reward': torch.rand(8, 1),\n",
    "})\n",
    "\n",
    "%timeit t_split(tree, 1)"
   ]
  },
  {
   "cell_type": "markdown",
   "id": "31c3ec0b",
   "metadata": {},
   "source": [
    "### Performance of Tianshou Batch"
   ]
  },
  {
   "cell_type": "code",
   "execution_count": 25,
   "id": "9ead828a",
   "metadata": {
    "execution": {
     "iopub.execute_input": "2023-03-05T08:45:29.410585Z",
     "iopub.status.busy": "2023-03-05T08:45:29.409778Z",
     "iopub.status.idle": "2023-03-05T08:45:29.417858Z",
     "shell.execute_reply": "2023-03-05T08:45:29.417141Z"
    }
   },
   "outputs": [
    {
     "data": {
      "text/plain": [
       "Batch(\n",
       "    a: tensor([[[-0.1412,  1.3471, -1.1001],\n",
       "                [ 0.1245, -0.0482,  0.3471]],\n",
       "       \n",
       "               [[-0.1412,  1.3471, -1.1001],\n",
       "                [ 0.1245, -0.0482,  0.3471]],\n",
       "       \n",
       "               [[-0.1412,  1.3471, -1.1001],\n",
       "                [ 0.1245, -0.0482,  0.3471]],\n",
       "       \n",
       "               [[-0.1412,  1.3471, -1.1001],\n",
       "                [ 0.1245, -0.0482,  0.3471]],\n",
       "       \n",
       "               [[-0.1412,  1.3471, -1.1001],\n",
       "                [ 0.1245, -0.0482,  0.3471]],\n",
       "       \n",
       "               [[-0.1412,  1.3471, -1.1001],\n",
       "                [ 0.1245, -0.0482,  0.3471]],\n",
       "       \n",
       "               [[-0.1412,  1.3471, -1.1001],\n",
       "                [ 0.1245, -0.0482,  0.3471]],\n",
       "       \n",
       "               [[-0.1412,  1.3471, -1.1001],\n",
       "                [ 0.1245, -0.0482,  0.3471]]]),\n",
       "    x: Batch(\n",
       "           c: tensor([[[-0.2984, -0.1797, -0.1971,  1.1798],\n",
       "                       [ 0.3865, -0.3010, -0.0750,  0.8125],\n",
       "                       [-0.1364, -0.3591,  0.1179,  0.1970]],\n",
       "              \n",
       "                      [[-0.2984, -0.1797, -0.1971,  1.1798],\n",
       "                       [ 0.3865, -0.3010, -0.0750,  0.8125],\n",
       "                       [-0.1364, -0.3591,  0.1179,  0.1970]],\n",
       "              \n",
       "                      [[-0.2984, -0.1797, -0.1971,  1.1798],\n",
       "                       [ 0.3865, -0.3010, -0.0750,  0.8125],\n",
       "                       [-0.1364, -0.3591,  0.1179,  0.1970]],\n",
       "              \n",
       "                      [[-0.2984, -0.1797, -0.1971,  1.1798],\n",
       "                       [ 0.3865, -0.3010, -0.0750,  0.8125],\n",
       "                       [-0.1364, -0.3591,  0.1179,  0.1970]],\n",
       "              \n",
       "                      [[-0.2984, -0.1797, -0.1971,  1.1798],\n",
       "                       [ 0.3865, -0.3010, -0.0750,  0.8125],\n",
       "                       [-0.1364, -0.3591,  0.1179,  0.1970]],\n",
       "              \n",
       "                      [[-0.2984, -0.1797, -0.1971,  1.1798],\n",
       "                       [ 0.3865, -0.3010, -0.0750,  0.8125],\n",
       "                       [-0.1364, -0.3591,  0.1179,  0.1970]],\n",
       "              \n",
       "                      [[-0.2984, -0.1797, -0.1971,  1.1798],\n",
       "                       [ 0.3865, -0.3010, -0.0750,  0.8125],\n",
       "                       [-0.1364, -0.3591,  0.1179,  0.1970]],\n",
       "              \n",
       "                      [[-0.2984, -0.1797, -0.1971,  1.1798],\n",
       "                       [ 0.3865, -0.3010, -0.0750,  0.8125],\n",
       "                       [-0.1364, -0.3591,  0.1179,  0.1970]]]),\n",
       "       ),\n",
       ")"
      ]
     },
     "execution_count": 25,
     "metadata": {},
     "output_type": "execute_result"
    }
   ],
   "source": [
    "batches = [Batch(**_TREE_DATA_2) for _ in range(8)]\n",
    "\n",
    "Batch.stack(batches)"
   ]
  },
  {
   "cell_type": "code",
   "execution_count": 26,
   "id": "ec9037a3",
   "metadata": {
    "execution": {
     "iopub.execute_input": "2023-03-05T08:45:29.420723Z",
     "iopub.status.busy": "2023-03-05T08:45:29.420272Z",
     "iopub.status.idle": "2023-03-05T08:45:35.726430Z",
     "shell.execute_reply": "2023-03-05T08:45:35.725508Z"
    }
   },
   "outputs": [
    {
     "name": "stdout",
     "output_type": "stream",
     "text": [
      "77.6 µs ± 170 ns per loop (mean ± std. dev. of 7 runs, 10,000 loops each)\n"
     ]
    }
   ],
   "source": [
    "%timeit Batch.stack(batches)"
   ]
  },
  {
   "cell_type": "code",
   "execution_count": 27,
   "id": "cb8ab77e",
   "metadata": {
    "execution": {
     "iopub.execute_input": "2023-03-05T08:45:35.729875Z",
     "iopub.status.busy": "2023-03-05T08:45:35.729207Z",
     "iopub.status.idle": "2023-03-05T08:45:35.736736Z",
     "shell.execute_reply": "2023-03-05T08:45:35.736046Z"
    }
   },
   "outputs": [
    {
     "data": {
      "text/plain": [
       "Batch(\n",
       "    a: tensor([[-0.1412,  1.3471, -1.1001],\n",
       "               [ 0.1245, -0.0482,  0.3471],\n",
       "               [-0.1412,  1.3471, -1.1001],\n",
       "               [ 0.1245, -0.0482,  0.3471],\n",
       "               [-0.1412,  1.3471, -1.1001],\n",
       "               [ 0.1245, -0.0482,  0.3471],\n",
       "               [-0.1412,  1.3471, -1.1001],\n",
       "               [ 0.1245, -0.0482,  0.3471],\n",
       "               [-0.1412,  1.3471, -1.1001],\n",
       "               [ 0.1245, -0.0482,  0.3471],\n",
       "               [-0.1412,  1.3471, -1.1001],\n",
       "               [ 0.1245, -0.0482,  0.3471],\n",
       "               [-0.1412,  1.3471, -1.1001],\n",
       "               [ 0.1245, -0.0482,  0.3471],\n",
       "               [-0.1412,  1.3471, -1.1001],\n",
       "               [ 0.1245, -0.0482,  0.3471]]),\n",
       "    x: Batch(\n",
       "           c: tensor([[-0.2984, -0.1797, -0.1971,  1.1798],\n",
       "                      [ 0.3865, -0.3010, -0.0750,  0.8125],\n",
       "                      [-0.1364, -0.3591,  0.1179,  0.1970],\n",
       "                      [-0.2984, -0.1797, -0.1971,  1.1798],\n",
       "                      [ 0.3865, -0.3010, -0.0750,  0.8125],\n",
       "                      [-0.1364, -0.3591,  0.1179,  0.1970],\n",
       "                      [-0.2984, -0.1797, -0.1971,  1.1798],\n",
       "                      [ 0.3865, -0.3010, -0.0750,  0.8125],\n",
       "                      [-0.1364, -0.3591,  0.1179,  0.1970],\n",
       "                      [-0.2984, -0.1797, -0.1971,  1.1798],\n",
       "                      [ 0.3865, -0.3010, -0.0750,  0.8125],\n",
       "                      [-0.1364, -0.3591,  0.1179,  0.1970],\n",
       "                      [-0.2984, -0.1797, -0.1971,  1.1798],\n",
       "                      [ 0.3865, -0.3010, -0.0750,  0.8125],\n",
       "                      [-0.1364, -0.3591,  0.1179,  0.1970],\n",
       "                      [-0.2984, -0.1797, -0.1971,  1.1798],\n",
       "                      [ 0.3865, -0.3010, -0.0750,  0.8125],\n",
       "                      [-0.1364, -0.3591,  0.1179,  0.1970],\n",
       "                      [-0.2984, -0.1797, -0.1971,  1.1798],\n",
       "                      [ 0.3865, -0.3010, -0.0750,  0.8125],\n",
       "                      [-0.1364, -0.3591,  0.1179,  0.1970],\n",
       "                      [-0.2984, -0.1797, -0.1971,  1.1798],\n",
       "                      [ 0.3865, -0.3010, -0.0750,  0.8125],\n",
       "                      [-0.1364, -0.3591,  0.1179,  0.1970]]),\n",
       "       ),\n",
       ")"
      ]
     },
     "execution_count": 27,
     "metadata": {},
     "output_type": "execute_result"
    }
   ],
   "source": [
    "Batch.cat(batches)"
   ]
  },
  {
   "cell_type": "code",
   "execution_count": 28,
   "id": "18dfb045",
   "metadata": {
    "execution": {
     "iopub.execute_input": "2023-03-05T08:45:35.739428Z",
     "iopub.status.busy": "2023-03-05T08:45:35.739052Z",
     "iopub.status.idle": "2023-03-05T08:45:47.413372Z",
     "shell.execute_reply": "2023-03-05T08:45:47.412102Z"
    }
   },
   "outputs": [
    {
     "name": "stdout",
     "output_type": "stream",
     "text": [
      "144 µs ± 273 ns per loop (mean ± std. dev. of 7 runs, 10,000 loops each)\n"
     ]
    }
   ],
   "source": [
    "%timeit Batch.cat(batches)"
   ]
  },
  {
   "cell_type": "code",
   "execution_count": 29,
   "id": "c6688e51",
   "metadata": {
    "execution": {
     "iopub.execute_input": "2023-03-05T08:45:47.417065Z",
     "iopub.status.busy": "2023-03-05T08:45:47.416359Z",
     "iopub.status.idle": "2023-03-05T08:45:50.051936Z",
     "shell.execute_reply": "2023-03-05T08:45:50.051262Z"
    }
   },
   "outputs": [
    {
     "name": "stdout",
     "output_type": "stream",
     "text": [
      "323 µs ± 2.4 µs per loop (mean ± std. dev. of 7 runs, 1,000 loops each)\n"
     ]
    }
   ],
   "source": [
    "batch = Batch({\n",
    "    'obs': torch.randn(8, 4, 84, 84),\n",
    "    'action': torch.randint(0, 6, size=(8, 1,)),\n",
    "    'reward': torch.rand(8, 1)}\n",
    ")\n",
    "\n",
    "%timeit list(Batch.split(batch, 1, shuffle=False, merge_last=True))"
   ]
  },
  {
   "cell_type": "code",
   "execution_count": null,
   "id": "2539fbd9",
   "metadata": {},
   "outputs": [],
   "source": []
  }
 ],
 "metadata": {
  "kernelspec": {
   "display_name": "Python 3 (ipykernel)",
   "language": "python",
   "name": "python3"
  },
  "language_info": {
   "codemirror_mode": {
    "name": "ipython",
    "version": 3
   },
   "file_extension": ".py",
   "mimetype": "text/x-python",
   "name": "python",
   "nbconvert_exporter": "python",
   "pygments_lexer": "ipython3",
   "version": "3.8.16"
  }
 },
 "nbformat": 4,
 "nbformat_minor": 5
}
