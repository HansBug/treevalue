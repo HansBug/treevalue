{
 "cells": [
  {
   "cell_type": "markdown",
   "id": "9d39d946",
   "metadata": {},
   "source": [
    "# Comparison Between TreeValue and Tianshou Batch"
   ]
  },
  {
   "cell_type": "markdown",
   "id": "3c6db2d4",
   "metadata": {},
   "source": [
    "In this section, we will take a look at the feature and performance of the [Tianshou Batch](https://github.com/thu-ml/tianshou) library, which is developed by Tsinghua Machine Learning Group."
   ]
  },
  {
   "cell_type": "markdown",
   "id": "069361b0",
   "metadata": {},
   "source": [
    "Before starting the comparison, let us define some thing."
   ]
  },
  {
   "cell_type": "code",
   "execution_count": 1,
   "id": "06fc8d26",
   "metadata": {
    "execution": {
     "iopub.execute_input": "2023-02-24T06:54:44.061682Z",
     "iopub.status.busy": "2023-02-24T06:54:44.061013Z",
     "iopub.status.idle": "2023-02-24T06:54:44.993425Z",
     "shell.execute_reply": "2023-02-24T06:54:44.992716Z"
    }
   },
   "outputs": [
    {
     "name": "stderr",
     "output_type": "stream",
     "text": [
      "/opt/hostedtoolcache/Python/3.8.16/x64/lib/python3.8/site-packages/tqdm/auto.py:22: TqdmWarning: IProgress not found. Please update jupyter and ipywidgets. See https://ipywidgets.readthedocs.io/en/stable/user_install.html\n",
      "  from .autonotebook import tqdm as notebook_tqdm\n"
     ]
    }
   ],
   "source": [
    "import torch \n",
    "\n",
    "_TREE_DATA_1 = {'a': 1, 'b': 2, 'x': {'c': 3, 'd': 4}}\n",
    "_TREE_DATA_2 = {\n",
    "    'a': torch.randn(2, 3), \n",
    "    'x': {\n",
    "        'c': torch.randn(3, 4)\n",
    "    },\n",
    "}\n",
    "_TREE_DATA_3 = {\n",
    "    'obs': torch.randn(4, 84, 84),\n",
    "    'action': torch.randint(0, 6, size=(1,)),\n",
    "    'reward': torch.rand(1),\n",
    "}"
   ]
  },
  {
   "cell_type": "markdown",
   "id": "83461b25",
   "metadata": {},
   "source": [
    "## Read and Write Operation"
   ]
  },
  {
   "cell_type": "markdown",
   "id": "067b3f73",
   "metadata": {},
   "source": [
    "Reading and writing are the two most common operations in the tree data structure based on the data model (TreeValue and Tianshou Batch both belong to this type), so this section will compare the reading and writing performance of these two libraries."
   ]
  },
  {
   "cell_type": "markdown",
   "id": "5d09a5b7",
   "metadata": {},
   "source": [
    "### TreeValue's Get and Set"
   ]
  },
  {
   "cell_type": "code",
   "execution_count": 2,
   "id": "9519c4bb",
   "metadata": {
    "execution": {
     "iopub.execute_input": "2023-02-24T06:54:44.997046Z",
     "iopub.status.busy": "2023-02-24T06:54:44.996476Z",
     "iopub.status.idle": "2023-02-24T06:54:45.029265Z",
     "shell.execute_reply": "2023-02-24T06:54:45.028617Z"
    }
   },
   "outputs": [],
   "source": [
    "from treevalue import FastTreeValue\n",
    "\n",
    "t = FastTreeValue(_TREE_DATA_2)"
   ]
  },
  {
   "cell_type": "code",
   "execution_count": 3,
   "id": "11c37677",
   "metadata": {
    "execution": {
     "iopub.execute_input": "2023-02-24T06:54:45.032194Z",
     "iopub.status.busy": "2023-02-24T06:54:45.031635Z",
     "iopub.status.idle": "2023-02-24T06:54:45.040016Z",
     "shell.execute_reply": "2023-02-24T06:54:45.039384Z"
    }
   },
   "outputs": [
    {
     "data": {
      "text/plain": [
       "<FastTreeValue 0x7fe6b8f5e7f0>\n",
       "├── 'a' --> tensor([[-0.4175,  0.2473,  0.6786],\n",
       "│                   [-2.8303, -0.1946, -0.0074]])\n",
       "└── 'x' --> <FastTreeValue 0x7fe6b8f5ea90>\n",
       "    └── 'c' --> tensor([[-1.1471,  0.7792,  0.2892, -0.6883],\n",
       "                        [ 0.1448, -1.3231,  0.2050, -0.3475],\n",
       "                        [-0.5098, -2.1972, -0.1330,  1.1255]])"
      ]
     },
     "execution_count": 3,
     "metadata": {},
     "output_type": "execute_result"
    }
   ],
   "source": [
    "t"
   ]
  },
  {
   "cell_type": "code",
   "execution_count": 4,
   "id": "fd70b0b9",
   "metadata": {
    "execution": {
     "iopub.execute_input": "2023-02-24T06:54:45.042705Z",
     "iopub.status.busy": "2023-02-24T06:54:45.042361Z",
     "iopub.status.idle": "2023-02-24T06:54:45.047180Z",
     "shell.execute_reply": "2023-02-24T06:54:45.046538Z"
    }
   },
   "outputs": [
    {
     "data": {
      "text/plain": [
       "tensor([[-0.4175,  0.2473,  0.6786],\n",
       "        [-2.8303, -0.1946, -0.0074]])"
      ]
     },
     "execution_count": 4,
     "metadata": {},
     "output_type": "execute_result"
    }
   ],
   "source": [
    "t.a"
   ]
  },
  {
   "cell_type": "code",
   "execution_count": 5,
   "id": "c18197bd",
   "metadata": {
    "execution": {
     "iopub.execute_input": "2023-02-24T06:54:45.050061Z",
     "iopub.status.busy": "2023-02-24T06:54:45.049575Z",
     "iopub.status.idle": "2023-02-24T06:54:49.913196Z",
     "shell.execute_reply": "2023-02-24T06:54:49.912367Z"
    }
   },
   "outputs": [
    {
     "name": "stdout",
     "output_type": "stream",
     "text": [
      "59.9 ns ± 0.0459 ns per loop (mean ± std. dev. of 7 runs, 10,000,000 loops each)\n"
     ]
    }
   ],
   "source": [
    "%timeit t.a"
   ]
  },
  {
   "cell_type": "code",
   "execution_count": 6,
   "id": "bd52f867",
   "metadata": {
    "execution": {
     "iopub.execute_input": "2023-02-24T06:54:49.916309Z",
     "iopub.status.busy": "2023-02-24T06:54:49.915903Z",
     "iopub.status.idle": "2023-02-24T06:54:49.922025Z",
     "shell.execute_reply": "2023-02-24T06:54:49.921347Z"
    }
   },
   "outputs": [
    {
     "data": {
      "text/plain": [
       "<FastTreeValue 0x7fe6b8f5e7f0>\n",
       "├── 'a' --> tensor([[-0.5542,  1.0444, -1.3078],\n",
       "│                   [-0.5230, -1.2510,  1.9229]])\n",
       "└── 'x' --> <FastTreeValue 0x7fe6b8f5ea90>\n",
       "    └── 'c' --> tensor([[-1.1471,  0.7792,  0.2892, -0.6883],\n",
       "                        [ 0.1448, -1.3231,  0.2050, -0.3475],\n",
       "                        [-0.5098, -2.1972, -0.1330,  1.1255]])"
      ]
     },
     "execution_count": 6,
     "metadata": {},
     "output_type": "execute_result"
    }
   ],
   "source": [
    "new_value = torch.randn(2, 3)\n",
    "t.a = new_value\n",
    "\n",
    "t"
   ]
  },
  {
   "cell_type": "code",
   "execution_count": 7,
   "id": "bbe04d1c",
   "metadata": {
    "execution": {
     "iopub.execute_input": "2023-02-24T06:54:49.924845Z",
     "iopub.status.busy": "2023-02-24T06:54:49.924504Z",
     "iopub.status.idle": "2023-02-24T06:54:54.947557Z",
     "shell.execute_reply": "2023-02-24T06:54:54.946821Z"
    }
   },
   "outputs": [
    {
     "name": "stdout",
     "output_type": "stream",
     "text": [
      "61.9 ns ± 0.0533 ns per loop (mean ± std. dev. of 7 runs, 10,000,000 loops each)\n"
     ]
    }
   ],
   "source": [
    "%timeit t.a = new_value"
   ]
  },
  {
   "cell_type": "markdown",
   "id": "48c49731",
   "metadata": {},
   "source": [
    "### Tianshou Batch's Get and Set"
   ]
  },
  {
   "cell_type": "code",
   "execution_count": 8,
   "id": "f1bb14c1",
   "metadata": {
    "execution": {
     "iopub.execute_input": "2023-02-24T06:54:54.950973Z",
     "iopub.status.busy": "2023-02-24T06:54:54.950378Z",
     "iopub.status.idle": "2023-02-24T06:54:55.281177Z",
     "shell.execute_reply": "2023-02-24T06:54:55.280485Z"
    }
   },
   "outputs": [],
   "source": [
    "from tianshou.data import Batch\n",
    "\n",
    "b = Batch(**_TREE_DATA_2)"
   ]
  },
  {
   "cell_type": "code",
   "execution_count": 9,
   "id": "cb0777c3",
   "metadata": {
    "execution": {
     "iopub.execute_input": "2023-02-24T06:54:55.284334Z",
     "iopub.status.busy": "2023-02-24T06:54:55.283782Z",
     "iopub.status.idle": "2023-02-24T06:54:55.290026Z",
     "shell.execute_reply": "2023-02-24T06:54:55.289435Z"
    }
   },
   "outputs": [
    {
     "data": {
      "text/plain": [
       "Batch(\n",
       "    a: tensor([[-0.4175,  0.2473,  0.6786],\n",
       "               [-2.8303, -0.1946, -0.0074]]),\n",
       "    x: Batch(\n",
       "           c: tensor([[-1.1471,  0.7792,  0.2892, -0.6883],\n",
       "                      [ 0.1448, -1.3231,  0.2050, -0.3475],\n",
       "                      [-0.5098, -2.1972, -0.1330,  1.1255]]),\n",
       "       ),\n",
       ")"
      ]
     },
     "execution_count": 9,
     "metadata": {},
     "output_type": "execute_result"
    }
   ],
   "source": [
    "b"
   ]
  },
  {
   "cell_type": "code",
   "execution_count": 10,
   "id": "43ef8ea3",
   "metadata": {
    "execution": {
     "iopub.execute_input": "2023-02-24T06:54:55.292494Z",
     "iopub.status.busy": "2023-02-24T06:54:55.292154Z",
     "iopub.status.idle": "2023-02-24T06:54:55.297295Z",
     "shell.execute_reply": "2023-02-24T06:54:55.296752Z"
    }
   },
   "outputs": [
    {
     "data": {
      "text/plain": [
       "tensor([[-0.4175,  0.2473,  0.6786],\n",
       "        [-2.8303, -0.1946, -0.0074]])"
      ]
     },
     "execution_count": 10,
     "metadata": {},
     "output_type": "execute_result"
    }
   ],
   "source": [
    "b.a"
   ]
  },
  {
   "cell_type": "code",
   "execution_count": 11,
   "id": "b785ab72",
   "metadata": {
    "execution": {
     "iopub.execute_input": "2023-02-24T06:54:55.299871Z",
     "iopub.status.busy": "2023-02-24T06:54:55.299303Z",
     "iopub.status.idle": "2023-02-24T06:55:00.147551Z",
     "shell.execute_reply": "2023-02-24T06:55:00.146691Z"
    }
   },
   "outputs": [
    {
     "name": "stdout",
     "output_type": "stream",
     "text": [
      "59.7 ns ± 0.0213 ns per loop (mean ± std. dev. of 7 runs, 10,000,000 loops each)\n"
     ]
    }
   ],
   "source": [
    "%timeit b.a"
   ]
  },
  {
   "cell_type": "code",
   "execution_count": 12,
   "id": "ad54dc69",
   "metadata": {
    "execution": {
     "iopub.execute_input": "2023-02-24T06:55:00.150607Z",
     "iopub.status.busy": "2023-02-24T06:55:00.150057Z",
     "iopub.status.idle": "2023-02-24T06:55:00.156569Z",
     "shell.execute_reply": "2023-02-24T06:55:00.155980Z"
    }
   },
   "outputs": [
    {
     "data": {
      "text/plain": [
       "Batch(\n",
       "    a: tensor([[-0.8666,  1.0278,  0.4811],\n",
       "               [-0.6435,  0.5205, -0.0104]]),\n",
       "    x: Batch(\n",
       "           c: tensor([[-1.1471,  0.7792,  0.2892, -0.6883],\n",
       "                      [ 0.1448, -1.3231,  0.2050, -0.3475],\n",
       "                      [-0.5098, -2.1972, -0.1330,  1.1255]]),\n",
       "       ),\n",
       ")"
      ]
     },
     "execution_count": 12,
     "metadata": {},
     "output_type": "execute_result"
    }
   ],
   "source": [
    "new_value = torch.randn(2, 3)\n",
    "b.a = new_value\n",
    "\n",
    "b"
   ]
  },
  {
   "cell_type": "code",
   "execution_count": 13,
   "id": "29b1d0bf",
   "metadata": {
    "execution": {
     "iopub.execute_input": "2023-02-24T06:55:00.159180Z",
     "iopub.status.busy": "2023-02-24T06:55:00.158853Z",
     "iopub.status.idle": "2023-02-24T06:55:04.075704Z",
     "shell.execute_reply": "2023-02-24T06:55:04.075036Z"
    }
   },
   "outputs": [
    {
     "name": "stdout",
     "output_type": "stream",
     "text": [
      "482 ns ± 1.82 ns per loop (mean ± std. dev. of 7 runs, 1,000,000 loops each)\n"
     ]
    }
   ],
   "source": [
    "%timeit b.a = new_value"
   ]
  },
  {
   "cell_type": "markdown",
   "id": "b61ad1d0",
   "metadata": {},
   "source": [
    "## Initialization"
   ]
  },
  {
   "cell_type": "markdown",
   "id": "d70f0d54",
   "metadata": {},
   "source": [
    "### TreeValue's Initialization"
   ]
  },
  {
   "cell_type": "code",
   "execution_count": 14,
   "id": "d32a679b",
   "metadata": {
    "execution": {
     "iopub.execute_input": "2023-02-24T06:55:04.078865Z",
     "iopub.status.busy": "2023-02-24T06:55:04.078282Z",
     "iopub.status.idle": "2023-02-24T06:55:10.948053Z",
     "shell.execute_reply": "2023-02-24T06:55:10.947211Z"
    }
   },
   "outputs": [
    {
     "name": "stdout",
     "output_type": "stream",
     "text": [
      "845 ns ± 0.301 ns per loop (mean ± std. dev. of 7 runs, 1,000,000 loops each)\n"
     ]
    }
   ],
   "source": [
    "%timeit FastTreeValue(_TREE_DATA_1)"
   ]
  },
  {
   "cell_type": "markdown",
   "id": "24f3707b",
   "metadata": {},
   "source": [
    "### Tianshou Batch's Initialization"
   ]
  },
  {
   "cell_type": "code",
   "execution_count": 15,
   "id": "ac3958df",
   "metadata": {
    "execution": {
     "iopub.execute_input": "2023-02-24T06:55:10.951344Z",
     "iopub.status.busy": "2023-02-24T06:55:10.950775Z",
     "iopub.status.idle": "2023-02-24T06:55:20.251948Z",
     "shell.execute_reply": "2023-02-24T06:55:20.251190Z"
    }
   },
   "outputs": [
    {
     "name": "stdout",
     "output_type": "stream",
     "text": [
      "11.5 µs ± 36.3 ns per loop (mean ± std. dev. of 7 runs, 100,000 loops each)\n"
     ]
    }
   ],
   "source": [
    "%timeit Batch(**_TREE_DATA_1)"
   ]
  },
  {
   "cell_type": "markdown",
   "id": "1ab82e2d",
   "metadata": {},
   "source": [
    "## Deep Copy Operation"
   ]
  },
  {
   "cell_type": "code",
   "execution_count": 16,
   "id": "210a9442",
   "metadata": {
    "execution": {
     "iopub.execute_input": "2023-02-24T06:55:20.255221Z",
     "iopub.status.busy": "2023-02-24T06:55:20.254686Z",
     "iopub.status.idle": "2023-02-24T06:55:20.258531Z",
     "shell.execute_reply": "2023-02-24T06:55:20.257873Z"
    }
   },
   "outputs": [],
   "source": [
    "import copy"
   ]
  },
  {
   "cell_type": "markdown",
   "id": "5a736274",
   "metadata": {},
   "source": [
    "### Deep Copy of TreeValue"
   ]
  },
  {
   "cell_type": "code",
   "execution_count": 17,
   "id": "f9bcadd6",
   "metadata": {
    "execution": {
     "iopub.execute_input": "2023-02-24T06:55:20.261208Z",
     "iopub.status.busy": "2023-02-24T06:55:20.260922Z",
     "iopub.status.idle": "2023-02-24T06:55:31.336042Z",
     "shell.execute_reply": "2023-02-24T06:55:31.335432Z"
    }
   },
   "outputs": [
    {
     "name": "stdout",
     "output_type": "stream",
     "text": [
      "136 µs ± 223 ns per loop (mean ± std. dev. of 7 runs, 10,000 loops each)\n"
     ]
    }
   ],
   "source": [
    "t3 = FastTreeValue(_TREE_DATA_3)\n",
    "%timeit copy.deepcopy(t3)"
   ]
  },
  {
   "cell_type": "markdown",
   "id": "bf8be7ea",
   "metadata": {},
   "source": [
    "### Deep Copy of Tianshou Batch"
   ]
  },
  {
   "cell_type": "code",
   "execution_count": 18,
   "id": "91998e6f",
   "metadata": {
    "execution": {
     "iopub.execute_input": "2023-02-24T06:55:31.340102Z",
     "iopub.status.busy": "2023-02-24T06:55:31.339127Z",
     "iopub.status.idle": "2023-02-24T06:55:42.930417Z",
     "shell.execute_reply": "2023-02-24T06:55:42.929738Z"
    }
   },
   "outputs": [
    {
     "name": "stdout",
     "output_type": "stream",
     "text": [
      "143 µs ± 4.34 µs per loop (mean ± std. dev. of 7 runs, 10,000 loops each)\n"
     ]
    }
   ],
   "source": [
    "b3 = Batch(**_TREE_DATA_3)\n",
    "%timeit copy.deepcopy(b3)"
   ]
  },
  {
   "cell_type": "markdown",
   "id": "223162fb",
   "metadata": {},
   "source": [
    "## Stack, Concat and Split Operation"
   ]
  },
  {
   "cell_type": "markdown",
   "id": "85fa4a73",
   "metadata": {},
   "source": [
    "### Performance of TreeValue"
   ]
  },
  {
   "cell_type": "code",
   "execution_count": 19,
   "id": "a0c2b697",
   "metadata": {
    "execution": {
     "iopub.execute_input": "2023-02-24T06:55:42.934124Z",
     "iopub.status.busy": "2023-02-24T06:55:42.933501Z",
     "iopub.status.idle": "2023-02-24T06:55:42.938138Z",
     "shell.execute_reply": "2023-02-24T06:55:42.937502Z"
    }
   },
   "outputs": [],
   "source": [
    "trees = [FastTreeValue(_TREE_DATA_2) for _ in range(8)]"
   ]
  },
  {
   "cell_type": "code",
   "execution_count": 20,
   "id": "017ea5a5",
   "metadata": {
    "execution": {
     "iopub.execute_input": "2023-02-24T06:55:42.941056Z",
     "iopub.status.busy": "2023-02-24T06:55:42.940817Z",
     "iopub.status.idle": "2023-02-24T06:55:42.948732Z",
     "shell.execute_reply": "2023-02-24T06:55:42.948163Z"
    }
   },
   "outputs": [
    {
     "data": {
      "text/plain": [
       "<FastTreeValue 0x7fe60ebf9310>\n",
       "├── 'a' --> tensor([[[-0.4175,  0.2473,  0.6786],\n",
       "│                    [-2.8303, -0.1946, -0.0074]],\n",
       "│           \n",
       "│                   [[-0.4175,  0.2473,  0.6786],\n",
       "│                    [-2.8303, -0.1946, -0.0074]],\n",
       "│           \n",
       "│                   [[-0.4175,  0.2473,  0.6786],\n",
       "│                    [-2.8303, -0.1946, -0.0074]],\n",
       "│           \n",
       "│                   [[-0.4175,  0.2473,  0.6786],\n",
       "│                    [-2.8303, -0.1946, -0.0074]],\n",
       "│           \n",
       "│                   [[-0.4175,  0.2473,  0.6786],\n",
       "│                    [-2.8303, -0.1946, -0.0074]],\n",
       "│           \n",
       "│                   [[-0.4175,  0.2473,  0.6786],\n",
       "│                    [-2.8303, -0.1946, -0.0074]],\n",
       "│           \n",
       "│                   [[-0.4175,  0.2473,  0.6786],\n",
       "│                    [-2.8303, -0.1946, -0.0074]],\n",
       "│           \n",
       "│                   [[-0.4175,  0.2473,  0.6786],\n",
       "│                    [-2.8303, -0.1946, -0.0074]]])\n",
       "└── 'x' --> <FastTreeValue 0x7fe60ec11f40>\n",
       "    └── 'c' --> tensor([[[-1.1471,  0.7792,  0.2892, -0.6883],\n",
       "                         [ 0.1448, -1.3231,  0.2050, -0.3475],\n",
       "                         [-0.5098, -2.1972, -0.1330,  1.1255]],\n",
       "                \n",
       "                        [[-1.1471,  0.7792,  0.2892, -0.6883],\n",
       "                         [ 0.1448, -1.3231,  0.2050, -0.3475],\n",
       "                         [-0.5098, -2.1972, -0.1330,  1.1255]],\n",
       "                \n",
       "                        [[-1.1471,  0.7792,  0.2892, -0.6883],\n",
       "                         [ 0.1448, -1.3231,  0.2050, -0.3475],\n",
       "                         [-0.5098, -2.1972, -0.1330,  1.1255]],\n",
       "                \n",
       "                        [[-1.1471,  0.7792,  0.2892, -0.6883],\n",
       "                         [ 0.1448, -1.3231,  0.2050, -0.3475],\n",
       "                         [-0.5098, -2.1972, -0.1330,  1.1255]],\n",
       "                \n",
       "                        [[-1.1471,  0.7792,  0.2892, -0.6883],\n",
       "                         [ 0.1448, -1.3231,  0.2050, -0.3475],\n",
       "                         [-0.5098, -2.1972, -0.1330,  1.1255]],\n",
       "                \n",
       "                        [[-1.1471,  0.7792,  0.2892, -0.6883],\n",
       "                         [ 0.1448, -1.3231,  0.2050, -0.3475],\n",
       "                         [-0.5098, -2.1972, -0.1330,  1.1255]],\n",
       "                \n",
       "                        [[-1.1471,  0.7792,  0.2892, -0.6883],\n",
       "                         [ 0.1448, -1.3231,  0.2050, -0.3475],\n",
       "                         [-0.5098, -2.1972, -0.1330,  1.1255]],\n",
       "                \n",
       "                        [[-1.1471,  0.7792,  0.2892, -0.6883],\n",
       "                         [ 0.1448, -1.3231,  0.2050, -0.3475],\n",
       "                         [-0.5098, -2.1972, -0.1330,  1.1255]]])"
      ]
     },
     "execution_count": 20,
     "metadata": {},
     "output_type": "execute_result"
    }
   ],
   "source": [
    "t_stack = FastTreeValue.func(subside=True)(torch.stack)\n",
    "\n",
    "t_stack(trees)"
   ]
  },
  {
   "cell_type": "code",
   "execution_count": 21,
   "id": "f8b3f415",
   "metadata": {
    "execution": {
     "iopub.execute_input": "2023-02-24T06:55:42.951285Z",
     "iopub.status.busy": "2023-02-24T06:55:42.951072Z",
     "iopub.status.idle": "2023-02-24T06:55:45.569645Z",
     "shell.execute_reply": "2023-02-24T06:55:45.568930Z"
    }
   },
   "outputs": [
    {
     "name": "stdout",
     "output_type": "stream",
     "text": [
      "32.2 µs ± 40.4 ns per loop (mean ± std. dev. of 7 runs, 10,000 loops each)\n"
     ]
    }
   ],
   "source": [
    "%timeit t_stack(trees)"
   ]
  },
  {
   "cell_type": "code",
   "execution_count": 22,
   "id": "94b56771",
   "metadata": {
    "execution": {
     "iopub.execute_input": "2023-02-24T06:55:45.572962Z",
     "iopub.status.busy": "2023-02-24T06:55:45.572405Z",
     "iopub.status.idle": "2023-02-24T06:55:45.580408Z",
     "shell.execute_reply": "2023-02-24T06:55:45.579808Z"
    }
   },
   "outputs": [
    {
     "data": {
      "text/plain": [
       "<FastTreeValue 0x7fe60ebf95e0>\n",
       "├── 'a' --> tensor([[-0.4175,  0.2473,  0.6786],\n",
       "│                   [-2.8303, -0.1946, -0.0074],\n",
       "│                   [-0.4175,  0.2473,  0.6786],\n",
       "│                   [-2.8303, -0.1946, -0.0074],\n",
       "│                   [-0.4175,  0.2473,  0.6786],\n",
       "│                   [-2.8303, -0.1946, -0.0074],\n",
       "│                   [-0.4175,  0.2473,  0.6786],\n",
       "│                   [-2.8303, -0.1946, -0.0074],\n",
       "│                   [-0.4175,  0.2473,  0.6786],\n",
       "│                   [-2.8303, -0.1946, -0.0074],\n",
       "│                   [-0.4175,  0.2473,  0.6786],\n",
       "│                   [-2.8303, -0.1946, -0.0074],\n",
       "│                   [-0.4175,  0.2473,  0.6786],\n",
       "│                   [-2.8303, -0.1946, -0.0074],\n",
       "│                   [-0.4175,  0.2473,  0.6786],\n",
       "│                   [-2.8303, -0.1946, -0.0074]])\n",
       "└── 'x' --> <FastTreeValue 0x7fe60ebf9760>\n",
       "    └── 'c' --> tensor([[-1.1471,  0.7792,  0.2892, -0.6883],\n",
       "                        [ 0.1448, -1.3231,  0.2050, -0.3475],\n",
       "                        [-0.5098, -2.1972, -0.1330,  1.1255],\n",
       "                        [-1.1471,  0.7792,  0.2892, -0.6883],\n",
       "                        [ 0.1448, -1.3231,  0.2050, -0.3475],\n",
       "                        [-0.5098, -2.1972, -0.1330,  1.1255],\n",
       "                        [-1.1471,  0.7792,  0.2892, -0.6883],\n",
       "                        [ 0.1448, -1.3231,  0.2050, -0.3475],\n",
       "                        [-0.5098, -2.1972, -0.1330,  1.1255],\n",
       "                        [-1.1471,  0.7792,  0.2892, -0.6883],\n",
       "                        [ 0.1448, -1.3231,  0.2050, -0.3475],\n",
       "                        [-0.5098, -2.1972, -0.1330,  1.1255],\n",
       "                        [-1.1471,  0.7792,  0.2892, -0.6883],\n",
       "                        [ 0.1448, -1.3231,  0.2050, -0.3475],\n",
       "                        [-0.5098, -2.1972, -0.1330,  1.1255],\n",
       "                        [-1.1471,  0.7792,  0.2892, -0.6883],\n",
       "                        [ 0.1448, -1.3231,  0.2050, -0.3475],\n",
       "                        [-0.5098, -2.1972, -0.1330,  1.1255],\n",
       "                        [-1.1471,  0.7792,  0.2892, -0.6883],\n",
       "                        [ 0.1448, -1.3231,  0.2050, -0.3475],\n",
       "                        [-0.5098, -2.1972, -0.1330,  1.1255],\n",
       "                        [-1.1471,  0.7792,  0.2892, -0.6883],\n",
       "                        [ 0.1448, -1.3231,  0.2050, -0.3475],\n",
       "                        [-0.5098, -2.1972, -0.1330,  1.1255]])"
      ]
     },
     "execution_count": 22,
     "metadata": {},
     "output_type": "execute_result"
    }
   ],
   "source": [
    "t_cat = FastTreeValue.func(subside=True)(torch.cat)\n",
    "\n",
    "t_cat(trees)"
   ]
  },
  {
   "cell_type": "code",
   "execution_count": 23,
   "id": "5e9c06a6",
   "metadata": {
    "execution": {
     "iopub.execute_input": "2023-02-24T06:55:45.583047Z",
     "iopub.status.busy": "2023-02-24T06:55:45.582821Z",
     "iopub.status.idle": "2023-02-24T06:55:48.005531Z",
     "shell.execute_reply": "2023-02-24T06:55:48.004862Z"
    }
   },
   "outputs": [
    {
     "name": "stdout",
     "output_type": "stream",
     "text": [
      "29.8 µs ± 59.5 ns per loop (mean ± std. dev. of 7 runs, 10,000 loops each)\n"
     ]
    }
   ],
   "source": [
    "%timeit t_cat(trees)"
   ]
  },
  {
   "cell_type": "code",
   "execution_count": 24,
   "id": "a3ab5c8f",
   "metadata": {
    "execution": {
     "iopub.execute_input": "2023-02-24T06:55:48.008258Z",
     "iopub.status.busy": "2023-02-24T06:55:48.008027Z",
     "iopub.status.idle": "2023-02-24T06:55:52.739785Z",
     "shell.execute_reply": "2023-02-24T06:55:52.739055Z"
    }
   },
   "outputs": [
    {
     "name": "stdout",
     "output_type": "stream",
     "text": [
      "58.2 µs ± 104 ns per loop (mean ± std. dev. of 7 runs, 10,000 loops each)\n"
     ]
    }
   ],
   "source": [
    "t_split = FastTreeValue.func(rise=True)(torch.split)\n",
    "tree = FastTreeValue({\n",
    "    'obs': torch.randn(8, 4, 84, 84),\n",
    "    'action': torch.randint(0, 6, size=(8, 1,)),\n",
    "    'reward': torch.rand(8, 1),\n",
    "})\n",
    "\n",
    "%timeit t_split(tree, 1)"
   ]
  },
  {
   "cell_type": "markdown",
   "id": "31c3ec0b",
   "metadata": {},
   "source": [
    "### Performance of Tianshou Batch"
   ]
  },
  {
   "cell_type": "code",
   "execution_count": 25,
   "id": "9ead828a",
   "metadata": {
    "execution": {
     "iopub.execute_input": "2023-02-24T06:55:52.743176Z",
     "iopub.status.busy": "2023-02-24T06:55:52.742811Z",
     "iopub.status.idle": "2023-02-24T06:55:52.751076Z",
     "shell.execute_reply": "2023-02-24T06:55:52.750496Z"
    }
   },
   "outputs": [
    {
     "data": {
      "text/plain": [
       "Batch(\n",
       "    x: Batch(\n",
       "           c: tensor([[[-1.1471,  0.7792,  0.2892, -0.6883],\n",
       "                       [ 0.1448, -1.3231,  0.2050, -0.3475],\n",
       "                       [-0.5098, -2.1972, -0.1330,  1.1255]],\n",
       "              \n",
       "                      [[-1.1471,  0.7792,  0.2892, -0.6883],\n",
       "                       [ 0.1448, -1.3231,  0.2050, -0.3475],\n",
       "                       [-0.5098, -2.1972, -0.1330,  1.1255]],\n",
       "              \n",
       "                      [[-1.1471,  0.7792,  0.2892, -0.6883],\n",
       "                       [ 0.1448, -1.3231,  0.2050, -0.3475],\n",
       "                       [-0.5098, -2.1972, -0.1330,  1.1255]],\n",
       "              \n",
       "                      [[-1.1471,  0.7792,  0.2892, -0.6883],\n",
       "                       [ 0.1448, -1.3231,  0.2050, -0.3475],\n",
       "                       [-0.5098, -2.1972, -0.1330,  1.1255]],\n",
       "              \n",
       "                      [[-1.1471,  0.7792,  0.2892, -0.6883],\n",
       "                       [ 0.1448, -1.3231,  0.2050, -0.3475],\n",
       "                       [-0.5098, -2.1972, -0.1330,  1.1255]],\n",
       "              \n",
       "                      [[-1.1471,  0.7792,  0.2892, -0.6883],\n",
       "                       [ 0.1448, -1.3231,  0.2050, -0.3475],\n",
       "                       [-0.5098, -2.1972, -0.1330,  1.1255]],\n",
       "              \n",
       "                      [[-1.1471,  0.7792,  0.2892, -0.6883],\n",
       "                       [ 0.1448, -1.3231,  0.2050, -0.3475],\n",
       "                       [-0.5098, -2.1972, -0.1330,  1.1255]],\n",
       "              \n",
       "                      [[-1.1471,  0.7792,  0.2892, -0.6883],\n",
       "                       [ 0.1448, -1.3231,  0.2050, -0.3475],\n",
       "                       [-0.5098, -2.1972, -0.1330,  1.1255]]]),\n",
       "       ),\n",
       "    a: tensor([[[-0.4175,  0.2473,  0.6786],\n",
       "                [-2.8303, -0.1946, -0.0074]],\n",
       "       \n",
       "               [[-0.4175,  0.2473,  0.6786],\n",
       "                [-2.8303, -0.1946, -0.0074]],\n",
       "       \n",
       "               [[-0.4175,  0.2473,  0.6786],\n",
       "                [-2.8303, -0.1946, -0.0074]],\n",
       "       \n",
       "               [[-0.4175,  0.2473,  0.6786],\n",
       "                [-2.8303, -0.1946, -0.0074]],\n",
       "       \n",
       "               [[-0.4175,  0.2473,  0.6786],\n",
       "                [-2.8303, -0.1946, -0.0074]],\n",
       "       \n",
       "               [[-0.4175,  0.2473,  0.6786],\n",
       "                [-2.8303, -0.1946, -0.0074]],\n",
       "       \n",
       "               [[-0.4175,  0.2473,  0.6786],\n",
       "                [-2.8303, -0.1946, -0.0074]],\n",
       "       \n",
       "               [[-0.4175,  0.2473,  0.6786],\n",
       "                [-2.8303, -0.1946, -0.0074]]]),\n",
       ")"
      ]
     },
     "execution_count": 25,
     "metadata": {},
     "output_type": "execute_result"
    }
   ],
   "source": [
    "batches = [Batch(**_TREE_DATA_2) for _ in range(8)]\n",
    "\n",
    "Batch.stack(batches)"
   ]
  },
  {
   "cell_type": "code",
   "execution_count": 26,
   "id": "ec9037a3",
   "metadata": {
    "execution": {
     "iopub.execute_input": "2023-02-24T06:55:52.753455Z",
     "iopub.status.busy": "2023-02-24T06:55:52.753241Z",
     "iopub.status.idle": "2023-02-24T06:55:59.109398Z",
     "shell.execute_reply": "2023-02-24T06:55:59.108653Z"
    }
   },
   "outputs": [
    {
     "name": "stdout",
     "output_type": "stream",
     "text": [
      "78.2 µs ± 256 ns per loop (mean ± std. dev. of 7 runs, 10,000 loops each)\n"
     ]
    }
   ],
   "source": [
    "%timeit Batch.stack(batches)"
   ]
  },
  {
   "cell_type": "code",
   "execution_count": 27,
   "id": "cb8ab77e",
   "metadata": {
    "execution": {
     "iopub.execute_input": "2023-02-24T06:55:59.112459Z",
     "iopub.status.busy": "2023-02-24T06:55:59.112096Z",
     "iopub.status.idle": "2023-02-24T06:55:59.120513Z",
     "shell.execute_reply": "2023-02-24T06:55:59.119913Z"
    }
   },
   "outputs": [
    {
     "data": {
      "text/plain": [
       "Batch(\n",
       "    x: Batch(\n",
       "           c: tensor([[-1.1471,  0.7792,  0.2892, -0.6883],\n",
       "                      [ 0.1448, -1.3231,  0.2050, -0.3475],\n",
       "                      [-0.5098, -2.1972, -0.1330,  1.1255],\n",
       "                      [-1.1471,  0.7792,  0.2892, -0.6883],\n",
       "                      [ 0.1448, -1.3231,  0.2050, -0.3475],\n",
       "                      [-0.5098, -2.1972, -0.1330,  1.1255],\n",
       "                      [-1.1471,  0.7792,  0.2892, -0.6883],\n",
       "                      [ 0.1448, -1.3231,  0.2050, -0.3475],\n",
       "                      [-0.5098, -2.1972, -0.1330,  1.1255],\n",
       "                      [-1.1471,  0.7792,  0.2892, -0.6883],\n",
       "                      [ 0.1448, -1.3231,  0.2050, -0.3475],\n",
       "                      [-0.5098, -2.1972, -0.1330,  1.1255],\n",
       "                      [-1.1471,  0.7792,  0.2892, -0.6883],\n",
       "                      [ 0.1448, -1.3231,  0.2050, -0.3475],\n",
       "                      [-0.5098, -2.1972, -0.1330,  1.1255],\n",
       "                      [-1.1471,  0.7792,  0.2892, -0.6883],\n",
       "                      [ 0.1448, -1.3231,  0.2050, -0.3475],\n",
       "                      [-0.5098, -2.1972, -0.1330,  1.1255],\n",
       "                      [-1.1471,  0.7792,  0.2892, -0.6883],\n",
       "                      [ 0.1448, -1.3231,  0.2050, -0.3475],\n",
       "                      [-0.5098, -2.1972, -0.1330,  1.1255],\n",
       "                      [-1.1471,  0.7792,  0.2892, -0.6883],\n",
       "                      [ 0.1448, -1.3231,  0.2050, -0.3475],\n",
       "                      [-0.5098, -2.1972, -0.1330,  1.1255]]),\n",
       "       ),\n",
       "    a: tensor([[-0.4175,  0.2473,  0.6786],\n",
       "               [-2.8303, -0.1946, -0.0074],\n",
       "               [-0.4175,  0.2473,  0.6786],\n",
       "               [-2.8303, -0.1946, -0.0074],\n",
       "               [-0.4175,  0.2473,  0.6786],\n",
       "               [-2.8303, -0.1946, -0.0074],\n",
       "               [-0.4175,  0.2473,  0.6786],\n",
       "               [-2.8303, -0.1946, -0.0074],\n",
       "               [-0.4175,  0.2473,  0.6786],\n",
       "               [-2.8303, -0.1946, -0.0074],\n",
       "               [-0.4175,  0.2473,  0.6786],\n",
       "               [-2.8303, -0.1946, -0.0074],\n",
       "               [-0.4175,  0.2473,  0.6786],\n",
       "               [-2.8303, -0.1946, -0.0074],\n",
       "               [-0.4175,  0.2473,  0.6786],\n",
       "               [-2.8303, -0.1946, -0.0074]]),\n",
       ")"
      ]
     },
     "execution_count": 27,
     "metadata": {},
     "output_type": "execute_result"
    }
   ],
   "source": [
    "Batch.cat(batches)"
   ]
  },
  {
   "cell_type": "code",
   "execution_count": 28,
   "id": "18dfb045",
   "metadata": {
    "execution": {
     "iopub.execute_input": "2023-02-24T06:55:59.123440Z",
     "iopub.status.busy": "2023-02-24T06:55:59.122934Z",
     "iopub.status.idle": "2023-02-24T06:56:10.699411Z",
     "shell.execute_reply": "2023-02-24T06:56:10.698615Z"
    }
   },
   "outputs": [
    {
     "name": "stdout",
     "output_type": "stream",
     "text": [
      "142 µs ± 180 ns per loop (mean ± std. dev. of 7 runs, 10,000 loops each)\n"
     ]
    }
   ],
   "source": [
    "%timeit Batch.cat(batches)"
   ]
  },
  {
   "cell_type": "code",
   "execution_count": 29,
   "id": "c6688e51",
   "metadata": {
    "execution": {
     "iopub.execute_input": "2023-02-24T06:56:10.702279Z",
     "iopub.status.busy": "2023-02-24T06:56:10.701899Z",
     "iopub.status.idle": "2023-02-24T06:56:13.168286Z",
     "shell.execute_reply": "2023-02-24T06:56:13.167662Z"
    }
   },
   "outputs": [
    {
     "name": "stdout",
     "output_type": "stream",
     "text": [
      "303 µs ± 871 ns per loop (mean ± std. dev. of 7 runs, 1,000 loops each)\n"
     ]
    }
   ],
   "source": [
    "batch = Batch({\n",
    "    'obs': torch.randn(8, 4, 84, 84),\n",
    "    'action': torch.randint(0, 6, size=(8, 1,)),\n",
    "    'reward': torch.rand(8, 1)}\n",
    ")\n",
    "\n",
    "%timeit list(Batch.split(batch, 1, shuffle=False, merge_last=True))"
   ]
  },
  {
   "cell_type": "code",
   "execution_count": null,
   "id": "2539fbd9",
   "metadata": {},
   "outputs": [],
   "source": []
  }
 ],
 "metadata": {
  "kernelspec": {
   "display_name": "Python 3 (ipykernel)",
   "language": "python",
   "name": "python3"
  },
  "language_info": {
   "codemirror_mode": {
    "name": "ipython",
    "version": 3
   },
   "file_extension": ".py",
   "mimetype": "text/x-python",
   "name": "python",
   "nbconvert_exporter": "python",
   "pygments_lexer": "ipython3",
   "version": "3.8.16"
  }
 },
 "nbformat": 4,
 "nbformat_minor": 5
}
