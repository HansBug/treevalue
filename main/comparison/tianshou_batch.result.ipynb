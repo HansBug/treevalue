{
 "cells": [
  {
   "cell_type": "markdown",
   "id": "9d39d946",
   "metadata": {},
   "source": [
    "# Comparison Between TreeValue and Tianshou Batch"
   ]
  },
  {
   "cell_type": "markdown",
   "id": "3c6db2d4",
   "metadata": {},
   "source": [
    "In this section, we will take a look at the feature and performance of the [Tianshou Batch](https://github.com/thu-ml/tianshou) library, which is developed by Tsinghua Machine Learning Group."
   ]
  },
  {
   "cell_type": "markdown",
   "id": "069361b0",
   "metadata": {},
   "source": [
    "Before starting the comparison, let us define some thing."
   ]
  },
  {
   "cell_type": "code",
   "execution_count": 1,
   "id": "06fc8d26",
   "metadata": {
    "execution": {
     "iopub.execute_input": "2023-02-25T07:53:17.815338Z",
     "iopub.status.busy": "2023-02-25T07:53:17.815079Z",
     "iopub.status.idle": "2023-02-25T07:53:18.940852Z",
     "shell.execute_reply": "2023-02-25T07:53:18.939491Z"
    }
   },
   "outputs": [
    {
     "name": "stderr",
     "output_type": "stream",
     "text": [
      "/opt/hostedtoolcache/Python/3.8.16/x64/lib/python3.8/site-packages/tqdm/auto.py:22: TqdmWarning: IProgress not found. Please update jupyter and ipywidgets. See https://ipywidgets.readthedocs.io/en/stable/user_install.html\n",
      "  from .autonotebook import tqdm as notebook_tqdm\n"
     ]
    }
   ],
   "source": [
    "import torch \n",
    "\n",
    "_TREE_DATA_1 = {'a': 1, 'b': 2, 'x': {'c': 3, 'd': 4}}\n",
    "_TREE_DATA_2 = {\n",
    "    'a': torch.randn(2, 3), \n",
    "    'x': {\n",
    "        'c': torch.randn(3, 4)\n",
    "    },\n",
    "}\n",
    "_TREE_DATA_3 = {\n",
    "    'obs': torch.randn(4, 84, 84),\n",
    "    'action': torch.randint(0, 6, size=(1,)),\n",
    "    'reward': torch.rand(1),\n",
    "}"
   ]
  },
  {
   "cell_type": "markdown",
   "id": "83461b25",
   "metadata": {},
   "source": [
    "## Read and Write Operation"
   ]
  },
  {
   "cell_type": "markdown",
   "id": "067b3f73",
   "metadata": {},
   "source": [
    "Reading and writing are the two most common operations in the tree data structure based on the data model (TreeValue and Tianshou Batch both belong to this type), so this section will compare the reading and writing performance of these two libraries."
   ]
  },
  {
   "cell_type": "markdown",
   "id": "5d09a5b7",
   "metadata": {},
   "source": [
    "### TreeValue's Get and Set"
   ]
  },
  {
   "cell_type": "code",
   "execution_count": 2,
   "id": "9519c4bb",
   "metadata": {
    "execution": {
     "iopub.execute_input": "2023-02-25T07:53:18.946380Z",
     "iopub.status.busy": "2023-02-25T07:53:18.945752Z",
     "iopub.status.idle": "2023-02-25T07:53:18.986486Z",
     "shell.execute_reply": "2023-02-25T07:53:18.985562Z"
    }
   },
   "outputs": [],
   "source": [
    "from treevalue import FastTreeValue\n",
    "\n",
    "t = FastTreeValue(_TREE_DATA_2)"
   ]
  },
  {
   "cell_type": "code",
   "execution_count": 3,
   "id": "11c37677",
   "metadata": {
    "execution": {
     "iopub.execute_input": "2023-02-25T07:53:18.990184Z",
     "iopub.status.busy": "2023-02-25T07:53:18.989691Z",
     "iopub.status.idle": "2023-02-25T07:53:19.000575Z",
     "shell.execute_reply": "2023-02-25T07:53:18.999892Z"
    }
   },
   "outputs": [
    {
     "data": {
      "text/plain": [
       "<FastTreeValue 0x7f15f8c1ff70>\n",
       "├── 'a' --> tensor([[ 0.0998, -0.5788,  0.4494],\n",
       "│                   [ 1.8641,  0.5057,  0.6929]])\n",
       "└── 'x' --> <FastTreeValue 0x7f15f8c78df0>\n",
       "    └── 'c' --> tensor([[ 0.5706,  0.7665, -0.9097, -1.1767],\n",
       "                        [ 0.4324,  0.6304, -1.9714, -0.8295],\n",
       "                        [-0.2734,  1.0736, -2.5486, -0.1443]])"
      ]
     },
     "execution_count": 3,
     "metadata": {},
     "output_type": "execute_result"
    }
   ],
   "source": [
    "t"
   ]
  },
  {
   "cell_type": "code",
   "execution_count": 4,
   "id": "fd70b0b9",
   "metadata": {
    "execution": {
     "iopub.execute_input": "2023-02-25T07:53:19.004055Z",
     "iopub.status.busy": "2023-02-25T07:53:19.003627Z",
     "iopub.status.idle": "2023-02-25T07:53:19.008967Z",
     "shell.execute_reply": "2023-02-25T07:53:19.008183Z"
    }
   },
   "outputs": [
    {
     "data": {
      "text/plain": [
       "tensor([[ 0.0998, -0.5788,  0.4494],\n",
       "        [ 1.8641,  0.5057,  0.6929]])"
      ]
     },
     "execution_count": 4,
     "metadata": {},
     "output_type": "execute_result"
    }
   ],
   "source": [
    "t.a"
   ]
  },
  {
   "cell_type": "code",
   "execution_count": 5,
   "id": "c18197bd",
   "metadata": {
    "execution": {
     "iopub.execute_input": "2023-02-25T07:53:19.011982Z",
     "iopub.status.busy": "2023-02-25T07:53:19.011638Z",
     "iopub.status.idle": "2023-02-25T07:53:25.286221Z",
     "shell.execute_reply": "2023-02-25T07:53:25.284438Z"
    }
   },
   "outputs": [
    {
     "name": "stdout",
     "output_type": "stream",
     "text": [
      "77.2 ns ± 1.61 ns per loop (mean ± std. dev. of 7 runs, 10,000,000 loops each)\n"
     ]
    }
   ],
   "source": [
    "%timeit t.a"
   ]
  },
  {
   "cell_type": "code",
   "execution_count": 6,
   "id": "bd52f867",
   "metadata": {
    "execution": {
     "iopub.execute_input": "2023-02-25T07:53:25.290422Z",
     "iopub.status.busy": "2023-02-25T07:53:25.289850Z",
     "iopub.status.idle": "2023-02-25T07:53:25.296663Z",
     "shell.execute_reply": "2023-02-25T07:53:25.295998Z"
    }
   },
   "outputs": [
    {
     "data": {
      "text/plain": [
       "<FastTreeValue 0x7f15f8c1ff70>\n",
       "├── 'a' --> tensor([[ 0.2423,  2.5487,  0.1126],\n",
       "│                   [ 0.3788,  0.5232, -0.3321]])\n",
       "└── 'x' --> <FastTreeValue 0x7f15f8c78df0>\n",
       "    └── 'c' --> tensor([[ 0.5706,  0.7665, -0.9097, -1.1767],\n",
       "                        [ 0.4324,  0.6304, -1.9714, -0.8295],\n",
       "                        [-0.2734,  1.0736, -2.5486, -0.1443]])"
      ]
     },
     "execution_count": 6,
     "metadata": {},
     "output_type": "execute_result"
    }
   ],
   "source": [
    "new_value = torch.randn(2, 3)\n",
    "t.a = new_value\n",
    "\n",
    "t"
   ]
  },
  {
   "cell_type": "code",
   "execution_count": 7,
   "id": "bbe04d1c",
   "metadata": {
    "execution": {
     "iopub.execute_input": "2023-02-25T07:53:25.299667Z",
     "iopub.status.busy": "2023-02-25T07:53:25.299163Z",
     "iopub.status.idle": "2023-02-25T07:53:31.599582Z",
     "shell.execute_reply": "2023-02-25T07:53:31.597655Z"
    }
   },
   "outputs": [
    {
     "name": "stdout",
     "output_type": "stream",
     "text": [
      "77.6 ns ± 0.222 ns per loop (mean ± std. dev. of 7 runs, 10,000,000 loops each)\n"
     ]
    }
   ],
   "source": [
    "%timeit t.a = new_value"
   ]
  },
  {
   "cell_type": "markdown",
   "id": "48c49731",
   "metadata": {},
   "source": [
    "### Tianshou Batch's Get and Set"
   ]
  },
  {
   "cell_type": "code",
   "execution_count": 8,
   "id": "f1bb14c1",
   "metadata": {
    "execution": {
     "iopub.execute_input": "2023-02-25T07:53:31.604186Z",
     "iopub.status.busy": "2023-02-25T07:53:31.603723Z",
     "iopub.status.idle": "2023-02-25T07:53:32.009545Z",
     "shell.execute_reply": "2023-02-25T07:53:32.008345Z"
    }
   },
   "outputs": [],
   "source": [
    "from tianshou.data import Batch\n",
    "\n",
    "b = Batch(**_TREE_DATA_2)"
   ]
  },
  {
   "cell_type": "code",
   "execution_count": 9,
   "id": "cb0777c3",
   "metadata": {
    "execution": {
     "iopub.execute_input": "2023-02-25T07:53:32.014518Z",
     "iopub.status.busy": "2023-02-25T07:53:32.014125Z",
     "iopub.status.idle": "2023-02-25T07:53:32.021255Z",
     "shell.execute_reply": "2023-02-25T07:53:32.020456Z"
    }
   },
   "outputs": [
    {
     "data": {
      "text/plain": [
       "Batch(\n",
       "    a: tensor([[ 0.0998, -0.5788,  0.4494],\n",
       "               [ 1.8641,  0.5057,  0.6929]]),\n",
       "    x: Batch(\n",
       "           c: tensor([[ 0.5706,  0.7665, -0.9097, -1.1767],\n",
       "                      [ 0.4324,  0.6304, -1.9714, -0.8295],\n",
       "                      [-0.2734,  1.0736, -2.5486, -0.1443]]),\n",
       "       ),\n",
       ")"
      ]
     },
     "execution_count": 9,
     "metadata": {},
     "output_type": "execute_result"
    }
   ],
   "source": [
    "b"
   ]
  },
  {
   "cell_type": "code",
   "execution_count": 10,
   "id": "43ef8ea3",
   "metadata": {
    "execution": {
     "iopub.execute_input": "2023-02-25T07:53:32.024626Z",
     "iopub.status.busy": "2023-02-25T07:53:32.023977Z",
     "iopub.status.idle": "2023-02-25T07:53:32.029615Z",
     "shell.execute_reply": "2023-02-25T07:53:32.028807Z"
    }
   },
   "outputs": [
    {
     "data": {
      "text/plain": [
       "tensor([[ 0.0998, -0.5788,  0.4494],\n",
       "        [ 1.8641,  0.5057,  0.6929]])"
      ]
     },
     "execution_count": 10,
     "metadata": {},
     "output_type": "execute_result"
    }
   ],
   "source": [
    "b.a"
   ]
  },
  {
   "cell_type": "code",
   "execution_count": 11,
   "id": "b785ab72",
   "metadata": {
    "execution": {
     "iopub.execute_input": "2023-02-25T07:53:32.032701Z",
     "iopub.status.busy": "2023-02-25T07:53:32.032189Z",
     "iopub.status.idle": "2023-02-25T07:53:37.885152Z",
     "shell.execute_reply": "2023-02-25T07:53:37.883704Z"
    }
   },
   "outputs": [
    {
     "name": "stdout",
     "output_type": "stream",
     "text": [
      "71.9 ns ± 0.206 ns per loop (mean ± std. dev. of 7 runs, 10,000,000 loops each)\n"
     ]
    }
   ],
   "source": [
    "%timeit b.a"
   ]
  },
  {
   "cell_type": "code",
   "execution_count": 12,
   "id": "ad54dc69",
   "metadata": {
    "execution": {
     "iopub.execute_input": "2023-02-25T07:53:37.889800Z",
     "iopub.status.busy": "2023-02-25T07:53:37.888945Z",
     "iopub.status.idle": "2023-02-25T07:53:37.897473Z",
     "shell.execute_reply": "2023-02-25T07:53:37.896667Z"
    }
   },
   "outputs": [
    {
     "data": {
      "text/plain": [
       "Batch(\n",
       "    a: tensor([[-2.8043,  0.0860,  0.5400],\n",
       "               [-0.4397, -1.2389, -0.0896]]),\n",
       "    x: Batch(\n",
       "           c: tensor([[ 0.5706,  0.7665, -0.9097, -1.1767],\n",
       "                      [ 0.4324,  0.6304, -1.9714, -0.8295],\n",
       "                      [-0.2734,  1.0736, -2.5486, -0.1443]]),\n",
       "       ),\n",
       ")"
      ]
     },
     "execution_count": 12,
     "metadata": {},
     "output_type": "execute_result"
    }
   ],
   "source": [
    "new_value = torch.randn(2, 3)\n",
    "b.a = new_value\n",
    "\n",
    "b"
   ]
  },
  {
   "cell_type": "code",
   "execution_count": 13,
   "id": "29b1d0bf",
   "metadata": {
    "execution": {
     "iopub.execute_input": "2023-02-25T07:53:37.900899Z",
     "iopub.status.busy": "2023-02-25T07:53:37.900373Z",
     "iopub.status.idle": "2023-02-25T07:53:42.593795Z",
     "shell.execute_reply": "2023-02-25T07:53:42.592438Z"
    }
   },
   "outputs": [
    {
     "name": "stdout",
     "output_type": "stream",
     "text": [
      "578 ns ± 1.91 ns per loop (mean ± std. dev. of 7 runs, 1,000,000 loops each)\n"
     ]
    }
   ],
   "source": [
    "%timeit b.a = new_value"
   ]
  },
  {
   "cell_type": "markdown",
   "id": "b61ad1d0",
   "metadata": {},
   "source": [
    "## Initialization"
   ]
  },
  {
   "cell_type": "markdown",
   "id": "d70f0d54",
   "metadata": {},
   "source": [
    "### TreeValue's Initialization"
   ]
  },
  {
   "cell_type": "code",
   "execution_count": 14,
   "id": "d32a679b",
   "metadata": {
    "execution": {
     "iopub.execute_input": "2023-02-25T07:53:42.598418Z",
     "iopub.status.busy": "2023-02-25T07:53:42.597478Z",
     "iopub.status.idle": "2023-02-25T07:53:50.204743Z",
     "shell.execute_reply": "2023-02-25T07:53:50.203895Z"
    }
   },
   "outputs": [
    {
     "name": "stdout",
     "output_type": "stream",
     "text": [
      "938 ns ± 3.68 ns per loop (mean ± std. dev. of 7 runs, 1,000,000 loops each)\n"
     ]
    }
   ],
   "source": [
    "%timeit FastTreeValue(_TREE_DATA_1)"
   ]
  },
  {
   "cell_type": "markdown",
   "id": "24f3707b",
   "metadata": {},
   "source": [
    "### Tianshou Batch's Initialization"
   ]
  },
  {
   "cell_type": "code",
   "execution_count": 15,
   "id": "ac3958df",
   "metadata": {
    "execution": {
     "iopub.execute_input": "2023-02-25T07:53:50.208888Z",
     "iopub.status.busy": "2023-02-25T07:53:50.208152Z",
     "iopub.status.idle": "2023-02-25T07:54:00.139292Z",
     "shell.execute_reply": "2023-02-25T07:54:00.137926Z"
    }
   },
   "outputs": [
    {
     "name": "stdout",
     "output_type": "stream",
     "text": [
      "12.2 µs ± 52.1 ns per loop (mean ± std. dev. of 7 runs, 100,000 loops each)\n"
     ]
    }
   ],
   "source": [
    "%timeit Batch(**_TREE_DATA_1)"
   ]
  },
  {
   "cell_type": "markdown",
   "id": "1ab82e2d",
   "metadata": {},
   "source": [
    "## Deep Copy Operation"
   ]
  },
  {
   "cell_type": "code",
   "execution_count": 16,
   "id": "210a9442",
   "metadata": {
    "execution": {
     "iopub.execute_input": "2023-02-25T07:54:00.143300Z",
     "iopub.status.busy": "2023-02-25T07:54:00.142613Z",
     "iopub.status.idle": "2023-02-25T07:54:00.147694Z",
     "shell.execute_reply": "2023-02-25T07:54:00.146728Z"
    }
   },
   "outputs": [],
   "source": [
    "import copy"
   ]
  },
  {
   "cell_type": "markdown",
   "id": "5a736274",
   "metadata": {},
   "source": [
    "### Deep Copy of TreeValue"
   ]
  },
  {
   "cell_type": "code",
   "execution_count": 17,
   "id": "f9bcadd6",
   "metadata": {
    "execution": {
     "iopub.execute_input": "2023-02-25T07:54:00.150919Z",
     "iopub.status.busy": "2023-02-25T07:54:00.150485Z",
     "iopub.status.idle": "2023-02-25T07:54:13.660272Z",
     "shell.execute_reply": "2023-02-25T07:54:13.658915Z"
    }
   },
   "outputs": [
    {
     "name": "stdout",
     "output_type": "stream",
     "text": [
      "166 µs ± 1.03 µs per loop (mean ± std. dev. of 7 runs, 10,000 loops each)\n"
     ]
    }
   ],
   "source": [
    "t3 = FastTreeValue(_TREE_DATA_3)\n",
    "%timeit copy.deepcopy(t3)"
   ]
  },
  {
   "cell_type": "markdown",
   "id": "bf8be7ea",
   "metadata": {},
   "source": [
    "### Deep Copy of Tianshou Batch"
   ]
  },
  {
   "cell_type": "code",
   "execution_count": 18,
   "id": "91998e6f",
   "metadata": {
    "execution": {
     "iopub.execute_input": "2023-02-25T07:54:13.663986Z",
     "iopub.status.busy": "2023-02-25T07:54:13.663420Z",
     "iopub.status.idle": "2023-02-25T07:54:26.957783Z",
     "shell.execute_reply": "2023-02-25T07:54:26.956892Z"
    }
   },
   "outputs": [
    {
     "name": "stdout",
     "output_type": "stream",
     "text": [
      "164 µs ± 421 ns per loop (mean ± std. dev. of 7 runs, 10,000 loops each)\n"
     ]
    }
   ],
   "source": [
    "b3 = Batch(**_TREE_DATA_3)\n",
    "%timeit copy.deepcopy(b3)"
   ]
  },
  {
   "cell_type": "markdown",
   "id": "223162fb",
   "metadata": {},
   "source": [
    "## Stack, Concat and Split Operation"
   ]
  },
  {
   "cell_type": "markdown",
   "id": "85fa4a73",
   "metadata": {},
   "source": [
    "### Performance of TreeValue"
   ]
  },
  {
   "cell_type": "code",
   "execution_count": 19,
   "id": "a0c2b697",
   "metadata": {
    "execution": {
     "iopub.execute_input": "2023-02-25T07:54:26.962496Z",
     "iopub.status.busy": "2023-02-25T07:54:26.961108Z",
     "iopub.status.idle": "2023-02-25T07:54:26.966612Z",
     "shell.execute_reply": "2023-02-25T07:54:26.965874Z"
    }
   },
   "outputs": [],
   "source": [
    "trees = [FastTreeValue(_TREE_DATA_2) for _ in range(8)]"
   ]
  },
  {
   "cell_type": "code",
   "execution_count": 20,
   "id": "017ea5a5",
   "metadata": {
    "execution": {
     "iopub.execute_input": "2023-02-25T07:54:26.969947Z",
     "iopub.status.busy": "2023-02-25T07:54:26.969448Z",
     "iopub.status.idle": "2023-02-25T07:54:26.979639Z",
     "shell.execute_reply": "2023-02-25T07:54:26.978929Z"
    }
   },
   "outputs": [
    {
     "data": {
      "text/plain": [
       "<FastTreeValue 0x7f154e9d5370>\n",
       "├── 'a' --> tensor([[[ 0.0998, -0.5788,  0.4494],\n",
       "│                    [ 1.8641,  0.5057,  0.6929]],\n",
       "│           \n",
       "│                   [[ 0.0998, -0.5788,  0.4494],\n",
       "│                    [ 1.8641,  0.5057,  0.6929]],\n",
       "│           \n",
       "│                   [[ 0.0998, -0.5788,  0.4494],\n",
       "│                    [ 1.8641,  0.5057,  0.6929]],\n",
       "│           \n",
       "│                   [[ 0.0998, -0.5788,  0.4494],\n",
       "│                    [ 1.8641,  0.5057,  0.6929]],\n",
       "│           \n",
       "│                   [[ 0.0998, -0.5788,  0.4494],\n",
       "│                    [ 1.8641,  0.5057,  0.6929]],\n",
       "│           \n",
       "│                   [[ 0.0998, -0.5788,  0.4494],\n",
       "│                    [ 1.8641,  0.5057,  0.6929]],\n",
       "│           \n",
       "│                   [[ 0.0998, -0.5788,  0.4494],\n",
       "│                    [ 1.8641,  0.5057,  0.6929]],\n",
       "│           \n",
       "│                   [[ 0.0998, -0.5788,  0.4494],\n",
       "│                    [ 1.8641,  0.5057,  0.6929]]])\n",
       "└── 'x' --> <FastTreeValue 0x7f154e9d5490>\n",
       "    └── 'c' --> tensor([[[ 0.5706,  0.7665, -0.9097, -1.1767],\n",
       "                         [ 0.4324,  0.6304, -1.9714, -0.8295],\n",
       "                         [-0.2734,  1.0736, -2.5486, -0.1443]],\n",
       "                \n",
       "                        [[ 0.5706,  0.7665, -0.9097, -1.1767],\n",
       "                         [ 0.4324,  0.6304, -1.9714, -0.8295],\n",
       "                         [-0.2734,  1.0736, -2.5486, -0.1443]],\n",
       "                \n",
       "                        [[ 0.5706,  0.7665, -0.9097, -1.1767],\n",
       "                         [ 0.4324,  0.6304, -1.9714, -0.8295],\n",
       "                         [-0.2734,  1.0736, -2.5486, -0.1443]],\n",
       "                \n",
       "                        [[ 0.5706,  0.7665, -0.9097, -1.1767],\n",
       "                         [ 0.4324,  0.6304, -1.9714, -0.8295],\n",
       "                         [-0.2734,  1.0736, -2.5486, -0.1443]],\n",
       "                \n",
       "                        [[ 0.5706,  0.7665, -0.9097, -1.1767],\n",
       "                         [ 0.4324,  0.6304, -1.9714, -0.8295],\n",
       "                         [-0.2734,  1.0736, -2.5486, -0.1443]],\n",
       "                \n",
       "                        [[ 0.5706,  0.7665, -0.9097, -1.1767],\n",
       "                         [ 0.4324,  0.6304, -1.9714, -0.8295],\n",
       "                         [-0.2734,  1.0736, -2.5486, -0.1443]],\n",
       "                \n",
       "                        [[ 0.5706,  0.7665, -0.9097, -1.1767],\n",
       "                         [ 0.4324,  0.6304, -1.9714, -0.8295],\n",
       "                         [-0.2734,  1.0736, -2.5486, -0.1443]],\n",
       "                \n",
       "                        [[ 0.5706,  0.7665, -0.9097, -1.1767],\n",
       "                         [ 0.4324,  0.6304, -1.9714, -0.8295],\n",
       "                         [-0.2734,  1.0736, -2.5486, -0.1443]]])"
      ]
     },
     "execution_count": 20,
     "metadata": {},
     "output_type": "execute_result"
    }
   ],
   "source": [
    "t_stack = FastTreeValue.func(subside=True)(torch.stack)\n",
    "\n",
    "t_stack(trees)"
   ]
  },
  {
   "cell_type": "code",
   "execution_count": 21,
   "id": "f8b3f415",
   "metadata": {
    "execution": {
     "iopub.execute_input": "2023-02-25T07:54:26.982973Z",
     "iopub.status.busy": "2023-02-25T07:54:26.982457Z",
     "iopub.status.idle": "2023-02-25T07:54:29.995712Z",
     "shell.execute_reply": "2023-02-25T07:54:29.994381Z"
    }
   },
   "outputs": [
    {
     "name": "stdout",
     "output_type": "stream",
     "text": [
      "37 µs ± 120 ns per loop (mean ± std. dev. of 7 runs, 10,000 loops each)\n"
     ]
    }
   ],
   "source": [
    "%timeit t_stack(trees)"
   ]
  },
  {
   "cell_type": "code",
   "execution_count": 22,
   "id": "94b56771",
   "metadata": {
    "execution": {
     "iopub.execute_input": "2023-02-25T07:54:30.000353Z",
     "iopub.status.busy": "2023-02-25T07:54:29.999065Z",
     "iopub.status.idle": "2023-02-25T07:54:30.009854Z",
     "shell.execute_reply": "2023-02-25T07:54:30.008702Z"
    }
   },
   "outputs": [
    {
     "data": {
      "text/plain": [
       "<FastTreeValue 0x7f154e8ffd30>\n",
       "├── 'a' --> tensor([[ 0.0998, -0.5788,  0.4494],\n",
       "│                   [ 1.8641,  0.5057,  0.6929],\n",
       "│                   [ 0.0998, -0.5788,  0.4494],\n",
       "│                   [ 1.8641,  0.5057,  0.6929],\n",
       "│                   [ 0.0998, -0.5788,  0.4494],\n",
       "│                   [ 1.8641,  0.5057,  0.6929],\n",
       "│                   [ 0.0998, -0.5788,  0.4494],\n",
       "│                   [ 1.8641,  0.5057,  0.6929],\n",
       "│                   [ 0.0998, -0.5788,  0.4494],\n",
       "│                   [ 1.8641,  0.5057,  0.6929],\n",
       "│                   [ 0.0998, -0.5788,  0.4494],\n",
       "│                   [ 1.8641,  0.5057,  0.6929],\n",
       "│                   [ 0.0998, -0.5788,  0.4494],\n",
       "│                   [ 1.8641,  0.5057,  0.6929],\n",
       "│                   [ 0.0998, -0.5788,  0.4494],\n",
       "│                   [ 1.8641,  0.5057,  0.6929]])\n",
       "└── 'x' --> <FastTreeValue 0x7f154e8fffa0>\n",
       "    └── 'c' --> tensor([[ 0.5706,  0.7665, -0.9097, -1.1767],\n",
       "                        [ 0.4324,  0.6304, -1.9714, -0.8295],\n",
       "                        [-0.2734,  1.0736, -2.5486, -0.1443],\n",
       "                        [ 0.5706,  0.7665, -0.9097, -1.1767],\n",
       "                        [ 0.4324,  0.6304, -1.9714, -0.8295],\n",
       "                        [-0.2734,  1.0736, -2.5486, -0.1443],\n",
       "                        [ 0.5706,  0.7665, -0.9097, -1.1767],\n",
       "                        [ 0.4324,  0.6304, -1.9714, -0.8295],\n",
       "                        [-0.2734,  1.0736, -2.5486, -0.1443],\n",
       "                        [ 0.5706,  0.7665, -0.9097, -1.1767],\n",
       "                        [ 0.4324,  0.6304, -1.9714, -0.8295],\n",
       "                        [-0.2734,  1.0736, -2.5486, -0.1443],\n",
       "                        [ 0.5706,  0.7665, -0.9097, -1.1767],\n",
       "                        [ 0.4324,  0.6304, -1.9714, -0.8295],\n",
       "                        [-0.2734,  1.0736, -2.5486, -0.1443],\n",
       "                        [ 0.5706,  0.7665, -0.9097, -1.1767],\n",
       "                        [ 0.4324,  0.6304, -1.9714, -0.8295],\n",
       "                        [-0.2734,  1.0736, -2.5486, -0.1443],\n",
       "                        [ 0.5706,  0.7665, -0.9097, -1.1767],\n",
       "                        [ 0.4324,  0.6304, -1.9714, -0.8295],\n",
       "                        [-0.2734,  1.0736, -2.5486, -0.1443],\n",
       "                        [ 0.5706,  0.7665, -0.9097, -1.1767],\n",
       "                        [ 0.4324,  0.6304, -1.9714, -0.8295],\n",
       "                        [-0.2734,  1.0736, -2.5486, -0.1443]])"
      ]
     },
     "execution_count": 22,
     "metadata": {},
     "output_type": "execute_result"
    }
   ],
   "source": [
    "t_cat = FastTreeValue.func(subside=True)(torch.cat)\n",
    "\n",
    "t_cat(trees)"
   ]
  },
  {
   "cell_type": "code",
   "execution_count": 23,
   "id": "5e9c06a6",
   "metadata": {
    "execution": {
     "iopub.execute_input": "2023-02-25T07:54:30.013109Z",
     "iopub.status.busy": "2023-02-25T07:54:30.012507Z",
     "iopub.status.idle": "2023-02-25T07:54:32.807035Z",
     "shell.execute_reply": "2023-02-25T07:54:32.806154Z"
    }
   },
   "outputs": [
    {
     "name": "stdout",
     "output_type": "stream",
     "text": [
      "34.4 µs ± 446 ns per loop (mean ± std. dev. of 7 runs, 10,000 loops each)\n"
     ]
    }
   ],
   "source": [
    "%timeit t_cat(trees)"
   ]
  },
  {
   "cell_type": "code",
   "execution_count": 24,
   "id": "a3ab5c8f",
   "metadata": {
    "execution": {
     "iopub.execute_input": "2023-02-25T07:54:32.810628Z",
     "iopub.status.busy": "2023-02-25T07:54:32.810179Z",
     "iopub.status.idle": "2023-02-25T07:54:38.073967Z",
     "shell.execute_reply": "2023-02-25T07:54:38.072629Z"
    }
   },
   "outputs": [
    {
     "name": "stdout",
     "output_type": "stream",
     "text": [
      "64.3 µs ± 465 ns per loop (mean ± std. dev. of 7 runs, 10,000 loops each)\n"
     ]
    }
   ],
   "source": [
    "t_split = FastTreeValue.func(rise=True)(torch.split)\n",
    "tree = FastTreeValue({\n",
    "    'obs': torch.randn(8, 4, 84, 84),\n",
    "    'action': torch.randint(0, 6, size=(8, 1,)),\n",
    "    'reward': torch.rand(8, 1),\n",
    "})\n",
    "\n",
    "%timeit t_split(tree, 1)"
   ]
  },
  {
   "cell_type": "markdown",
   "id": "31c3ec0b",
   "metadata": {},
   "source": [
    "### Performance of Tianshou Batch"
   ]
  },
  {
   "cell_type": "code",
   "execution_count": 25,
   "id": "9ead828a",
   "metadata": {
    "execution": {
     "iopub.execute_input": "2023-02-25T07:54:38.078714Z",
     "iopub.status.busy": "2023-02-25T07:54:38.077844Z",
     "iopub.status.idle": "2023-02-25T07:54:38.087959Z",
     "shell.execute_reply": "2023-02-25T07:54:38.087266Z"
    }
   },
   "outputs": [
    {
     "data": {
      "text/plain": [
       "Batch(\n",
       "    x: Batch(\n",
       "           c: tensor([[[ 0.5706,  0.7665, -0.9097, -1.1767],\n",
       "                       [ 0.4324,  0.6304, -1.9714, -0.8295],\n",
       "                       [-0.2734,  1.0736, -2.5486, -0.1443]],\n",
       "              \n",
       "                      [[ 0.5706,  0.7665, -0.9097, -1.1767],\n",
       "                       [ 0.4324,  0.6304, -1.9714, -0.8295],\n",
       "                       [-0.2734,  1.0736, -2.5486, -0.1443]],\n",
       "              \n",
       "                      [[ 0.5706,  0.7665, -0.9097, -1.1767],\n",
       "                       [ 0.4324,  0.6304, -1.9714, -0.8295],\n",
       "                       [-0.2734,  1.0736, -2.5486, -0.1443]],\n",
       "              \n",
       "                      [[ 0.5706,  0.7665, -0.9097, -1.1767],\n",
       "                       [ 0.4324,  0.6304, -1.9714, -0.8295],\n",
       "                       [-0.2734,  1.0736, -2.5486, -0.1443]],\n",
       "              \n",
       "                      [[ 0.5706,  0.7665, -0.9097, -1.1767],\n",
       "                       [ 0.4324,  0.6304, -1.9714, -0.8295],\n",
       "                       [-0.2734,  1.0736, -2.5486, -0.1443]],\n",
       "              \n",
       "                      [[ 0.5706,  0.7665, -0.9097, -1.1767],\n",
       "                       [ 0.4324,  0.6304, -1.9714, -0.8295],\n",
       "                       [-0.2734,  1.0736, -2.5486, -0.1443]],\n",
       "              \n",
       "                      [[ 0.5706,  0.7665, -0.9097, -1.1767],\n",
       "                       [ 0.4324,  0.6304, -1.9714, -0.8295],\n",
       "                       [-0.2734,  1.0736, -2.5486, -0.1443]],\n",
       "              \n",
       "                      [[ 0.5706,  0.7665, -0.9097, -1.1767],\n",
       "                       [ 0.4324,  0.6304, -1.9714, -0.8295],\n",
       "                       [-0.2734,  1.0736, -2.5486, -0.1443]]]),\n",
       "       ),\n",
       "    a: tensor([[[ 0.0998, -0.5788,  0.4494],\n",
       "                [ 1.8641,  0.5057,  0.6929]],\n",
       "       \n",
       "               [[ 0.0998, -0.5788,  0.4494],\n",
       "                [ 1.8641,  0.5057,  0.6929]],\n",
       "       \n",
       "               [[ 0.0998, -0.5788,  0.4494],\n",
       "                [ 1.8641,  0.5057,  0.6929]],\n",
       "       \n",
       "               [[ 0.0998, -0.5788,  0.4494],\n",
       "                [ 1.8641,  0.5057,  0.6929]],\n",
       "       \n",
       "               [[ 0.0998, -0.5788,  0.4494],\n",
       "                [ 1.8641,  0.5057,  0.6929]],\n",
       "       \n",
       "               [[ 0.0998, -0.5788,  0.4494],\n",
       "                [ 1.8641,  0.5057,  0.6929]],\n",
       "       \n",
       "               [[ 0.0998, -0.5788,  0.4494],\n",
       "                [ 1.8641,  0.5057,  0.6929]],\n",
       "       \n",
       "               [[ 0.0998, -0.5788,  0.4494],\n",
       "                [ 1.8641,  0.5057,  0.6929]]]),\n",
       ")"
      ]
     },
     "execution_count": 25,
     "metadata": {},
     "output_type": "execute_result"
    }
   ],
   "source": [
    "batches = [Batch(**_TREE_DATA_2) for _ in range(8)]\n",
    "\n",
    "Batch.stack(batches)"
   ]
  },
  {
   "cell_type": "code",
   "execution_count": 26,
   "id": "ec9037a3",
   "metadata": {
    "execution": {
     "iopub.execute_input": "2023-02-25T07:54:38.091210Z",
     "iopub.status.busy": "2023-02-25T07:54:38.090597Z",
     "iopub.status.idle": "2023-02-25T07:54:45.423586Z",
     "shell.execute_reply": "2023-02-25T07:54:45.422482Z"
    }
   },
   "outputs": [
    {
     "name": "stdout",
     "output_type": "stream",
     "text": [
      "90.2 µs ± 530 ns per loop (mean ± std. dev. of 7 runs, 10,000 loops each)\n"
     ]
    }
   ],
   "source": [
    "%timeit Batch.stack(batches)"
   ]
  },
  {
   "cell_type": "code",
   "execution_count": 27,
   "id": "cb8ab77e",
   "metadata": {
    "execution": {
     "iopub.execute_input": "2023-02-25T07:54:45.427816Z",
     "iopub.status.busy": "2023-02-25T07:54:45.427023Z",
     "iopub.status.idle": "2023-02-25T07:54:45.436674Z",
     "shell.execute_reply": "2023-02-25T07:54:45.435767Z"
    }
   },
   "outputs": [
    {
     "data": {
      "text/plain": [
       "Batch(\n",
       "    x: Batch(\n",
       "           c: tensor([[ 0.5706,  0.7665, -0.9097, -1.1767],\n",
       "                      [ 0.4324,  0.6304, -1.9714, -0.8295],\n",
       "                      [-0.2734,  1.0736, -2.5486, -0.1443],\n",
       "                      [ 0.5706,  0.7665, -0.9097, -1.1767],\n",
       "                      [ 0.4324,  0.6304, -1.9714, -0.8295],\n",
       "                      [-0.2734,  1.0736, -2.5486, -0.1443],\n",
       "                      [ 0.5706,  0.7665, -0.9097, -1.1767],\n",
       "                      [ 0.4324,  0.6304, -1.9714, -0.8295],\n",
       "                      [-0.2734,  1.0736, -2.5486, -0.1443],\n",
       "                      [ 0.5706,  0.7665, -0.9097, -1.1767],\n",
       "                      [ 0.4324,  0.6304, -1.9714, -0.8295],\n",
       "                      [-0.2734,  1.0736, -2.5486, -0.1443],\n",
       "                      [ 0.5706,  0.7665, -0.9097, -1.1767],\n",
       "                      [ 0.4324,  0.6304, -1.9714, -0.8295],\n",
       "                      [-0.2734,  1.0736, -2.5486, -0.1443],\n",
       "                      [ 0.5706,  0.7665, -0.9097, -1.1767],\n",
       "                      [ 0.4324,  0.6304, -1.9714, -0.8295],\n",
       "                      [-0.2734,  1.0736, -2.5486, -0.1443],\n",
       "                      [ 0.5706,  0.7665, -0.9097, -1.1767],\n",
       "                      [ 0.4324,  0.6304, -1.9714, -0.8295],\n",
       "                      [-0.2734,  1.0736, -2.5486, -0.1443],\n",
       "                      [ 0.5706,  0.7665, -0.9097, -1.1767],\n",
       "                      [ 0.4324,  0.6304, -1.9714, -0.8295],\n",
       "                      [-0.2734,  1.0736, -2.5486, -0.1443]]),\n",
       "       ),\n",
       "    a: tensor([[ 0.0998, -0.5788,  0.4494],\n",
       "               [ 1.8641,  0.5057,  0.6929],\n",
       "               [ 0.0998, -0.5788,  0.4494],\n",
       "               [ 1.8641,  0.5057,  0.6929],\n",
       "               [ 0.0998, -0.5788,  0.4494],\n",
       "               [ 1.8641,  0.5057,  0.6929],\n",
       "               [ 0.0998, -0.5788,  0.4494],\n",
       "               [ 1.8641,  0.5057,  0.6929],\n",
       "               [ 0.0998, -0.5788,  0.4494],\n",
       "               [ 1.8641,  0.5057,  0.6929],\n",
       "               [ 0.0998, -0.5788,  0.4494],\n",
       "               [ 1.8641,  0.5057,  0.6929],\n",
       "               [ 0.0998, -0.5788,  0.4494],\n",
       "               [ 1.8641,  0.5057,  0.6929],\n",
       "               [ 0.0998, -0.5788,  0.4494],\n",
       "               [ 1.8641,  0.5057,  0.6929]]),\n",
       ")"
      ]
     },
     "execution_count": 27,
     "metadata": {},
     "output_type": "execute_result"
    }
   ],
   "source": [
    "Batch.cat(batches)"
   ]
  },
  {
   "cell_type": "code",
   "execution_count": 28,
   "id": "18dfb045",
   "metadata": {
    "execution": {
     "iopub.execute_input": "2023-02-25T07:54:45.439963Z",
     "iopub.status.busy": "2023-02-25T07:54:45.439310Z",
     "iopub.status.idle": "2023-02-25T07:54:58.934670Z",
     "shell.execute_reply": "2023-02-25T07:54:58.933675Z"
    }
   },
   "outputs": [
    {
     "name": "stdout",
     "output_type": "stream",
     "text": [
      "166 µs ± 3.51 µs per loop (mean ± std. dev. of 7 runs, 10,000 loops each)\n"
     ]
    }
   ],
   "source": [
    "%timeit Batch.cat(batches)"
   ]
  },
  {
   "cell_type": "code",
   "execution_count": 29,
   "id": "c6688e51",
   "metadata": {
    "execution": {
     "iopub.execute_input": "2023-02-25T07:54:58.938839Z",
     "iopub.status.busy": "2023-02-25T07:54:58.938116Z",
     "iopub.status.idle": "2023-02-25T07:55:02.176426Z",
     "shell.execute_reply": "2023-02-25T07:55:02.175685Z"
    }
   },
   "outputs": [
    {
     "name": "stdout",
     "output_type": "stream",
     "text": [
      "398 µs ± 7.16 µs per loop (mean ± std. dev. of 7 runs, 1,000 loops each)\n"
     ]
    }
   ],
   "source": [
    "batch = Batch({\n",
    "    'obs': torch.randn(8, 4, 84, 84),\n",
    "    'action': torch.randint(0, 6, size=(8, 1,)),\n",
    "    'reward': torch.rand(8, 1)}\n",
    ")\n",
    "\n",
    "%timeit list(Batch.split(batch, 1, shuffle=False, merge_last=True))"
   ]
  },
  {
   "cell_type": "code",
   "execution_count": null,
   "id": "2539fbd9",
   "metadata": {},
   "outputs": [],
   "source": []
  }
 ],
 "metadata": {
  "kernelspec": {
   "display_name": "Python 3 (ipykernel)",
   "language": "python",
   "name": "python3"
  },
  "language_info": {
   "codemirror_mode": {
    "name": "ipython",
    "version": 3
   },
   "file_extension": ".py",
   "mimetype": "text/x-python",
   "name": "python",
   "nbconvert_exporter": "python",
   "pygments_lexer": "ipython3",
   "version": "3.8.16"
  }
 },
 "nbformat": 4,
 "nbformat_minor": 5
}
