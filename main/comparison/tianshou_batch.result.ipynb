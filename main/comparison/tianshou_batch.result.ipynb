{
 "cells": [
  {
   "cell_type": "markdown",
   "id": "9d39d946",
   "metadata": {},
   "source": [
    "# Comparison Between TreeValue and Tianshou Batch"
   ]
  },
  {
   "cell_type": "markdown",
   "id": "3c6db2d4",
   "metadata": {},
   "source": [
    "In this section, we will take a look at the feature and performance of the [Tianshou Batch](https://github.com/thu-ml/tianshou) library, which is developed by Tsinghua Machine Learning Group."
   ]
  },
  {
   "cell_type": "markdown",
   "id": "069361b0",
   "metadata": {},
   "source": [
    "Before starting the comparison, let us define some thing."
   ]
  },
  {
   "cell_type": "code",
   "execution_count": 1,
   "id": "06fc8d26",
   "metadata": {
    "execution": {
     "iopub.execute_input": "2023-02-27T11:47:16.364728Z",
     "iopub.status.busy": "2023-02-27T11:47:16.364489Z",
     "iopub.status.idle": "2023-02-27T11:47:17.345940Z",
     "shell.execute_reply": "2023-02-27T11:47:17.345175Z"
    }
   },
   "outputs": [
    {
     "name": "stderr",
     "output_type": "stream",
     "text": [
      "/opt/hostedtoolcache/Python/3.8.16/x64/lib/python3.8/site-packages/tqdm/auto.py:22: TqdmWarning: IProgress not found. Please update jupyter and ipywidgets. See https://ipywidgets.readthedocs.io/en/stable/user_install.html\n",
      "  from .autonotebook import tqdm as notebook_tqdm\n"
     ]
    }
   ],
   "source": [
    "import torch \n",
    "\n",
    "_TREE_DATA_1 = {'a': 1, 'b': 2, 'x': {'c': 3, 'd': 4}}\n",
    "_TREE_DATA_2 = {\n",
    "    'a': torch.randn(2, 3), \n",
    "    'x': {\n",
    "        'c': torch.randn(3, 4)\n",
    "    },\n",
    "}\n",
    "_TREE_DATA_3 = {\n",
    "    'obs': torch.randn(4, 84, 84),\n",
    "    'action': torch.randint(0, 6, size=(1,)),\n",
    "    'reward': torch.rand(1),\n",
    "}"
   ]
  },
  {
   "cell_type": "markdown",
   "id": "83461b25",
   "metadata": {},
   "source": [
    "## Read and Write Operation"
   ]
  },
  {
   "cell_type": "markdown",
   "id": "067b3f73",
   "metadata": {},
   "source": [
    "Reading and writing are the two most common operations in the tree data structure based on the data model (TreeValue and Tianshou Batch both belong to this type), so this section will compare the reading and writing performance of these two libraries."
   ]
  },
  {
   "cell_type": "markdown",
   "id": "5d09a5b7",
   "metadata": {},
   "source": [
    "### TreeValue's Get and Set"
   ]
  },
  {
   "cell_type": "code",
   "execution_count": 2,
   "id": "9519c4bb",
   "metadata": {
    "execution": {
     "iopub.execute_input": "2023-02-27T11:47:17.350286Z",
     "iopub.status.busy": "2023-02-27T11:47:17.349700Z",
     "iopub.status.idle": "2023-02-27T11:47:17.637901Z",
     "shell.execute_reply": "2023-02-27T11:47:17.637099Z"
    }
   },
   "outputs": [],
   "source": [
    "from treevalue import FastTreeValue\n",
    "\n",
    "t = FastTreeValue(_TREE_DATA_2)"
   ]
  },
  {
   "cell_type": "code",
   "execution_count": 3,
   "id": "11c37677",
   "metadata": {
    "execution": {
     "iopub.execute_input": "2023-02-27T11:47:17.641705Z",
     "iopub.status.busy": "2023-02-27T11:47:17.641243Z",
     "iopub.status.idle": "2023-02-27T11:47:17.651490Z",
     "shell.execute_reply": "2023-02-27T11:47:17.650860Z"
    }
   },
   "outputs": [
    {
     "data": {
      "text/plain": [
       "<FastTreeValue 0x7f473890c580>\n",
       "├── 'a' --> tensor([[-0.1020,  0.2347,  0.3972],\n",
       "│                   [ 1.3855, -0.7387,  1.4258]])\n",
       "└── 'x' --> <FastTreeValue 0x7f473890ceb0>\n",
       "    └── 'c' --> tensor([[-1.3142, -0.7945,  0.0425,  0.0593],\n",
       "                        [-1.1762,  1.9423, -0.9816, -0.1268],\n",
       "                        [-0.0992, -0.3811, -1.4791, -0.7830]])"
      ]
     },
     "execution_count": 3,
     "metadata": {},
     "output_type": "execute_result"
    }
   ],
   "source": [
    "t"
   ]
  },
  {
   "cell_type": "code",
   "execution_count": 4,
   "id": "fd70b0b9",
   "metadata": {
    "execution": {
     "iopub.execute_input": "2023-02-27T11:47:17.654704Z",
     "iopub.status.busy": "2023-02-27T11:47:17.654133Z",
     "iopub.status.idle": "2023-02-27T11:47:17.660442Z",
     "shell.execute_reply": "2023-02-27T11:47:17.659845Z"
    }
   },
   "outputs": [
    {
     "data": {
      "text/plain": [
       "tensor([[-0.1020,  0.2347,  0.3972],\n",
       "        [ 1.3855, -0.7387,  1.4258]])"
      ]
     },
     "execution_count": 4,
     "metadata": {},
     "output_type": "execute_result"
    }
   ],
   "source": [
    "t.a"
   ]
  },
  {
   "cell_type": "code",
   "execution_count": 5,
   "id": "c18197bd",
   "metadata": {
    "execution": {
     "iopub.execute_input": "2023-02-27T11:47:17.663351Z",
     "iopub.status.busy": "2023-02-27T11:47:17.662812Z",
     "iopub.status.idle": "2023-02-27T11:47:22.911862Z",
     "shell.execute_reply": "2023-02-27T11:47:22.910917Z"
    }
   },
   "outputs": [
    {
     "name": "stdout",
     "output_type": "stream",
     "text": [
      "64.6 ns ± 0.0448 ns per loop (mean ± std. dev. of 7 runs, 10,000,000 loops each)\n"
     ]
    }
   ],
   "source": [
    "%timeit t.a"
   ]
  },
  {
   "cell_type": "code",
   "execution_count": 6,
   "id": "bd52f867",
   "metadata": {
    "execution": {
     "iopub.execute_input": "2023-02-27T11:47:22.915545Z",
     "iopub.status.busy": "2023-02-27T11:47:22.915057Z",
     "iopub.status.idle": "2023-02-27T11:47:22.921533Z",
     "shell.execute_reply": "2023-02-27T11:47:22.920852Z"
    }
   },
   "outputs": [
    {
     "data": {
      "text/plain": [
       "<FastTreeValue 0x7f473890c580>\n",
       "├── 'a' --> tensor([[ 0.4173,  0.2181,  1.1964],\n",
       "│                   [ 1.4881, -1.3061, -0.9865]])\n",
       "└── 'x' --> <FastTreeValue 0x7f473890ceb0>\n",
       "    └── 'c' --> tensor([[-1.3142, -0.7945,  0.0425,  0.0593],\n",
       "                        [-1.1762,  1.9423, -0.9816, -0.1268],\n",
       "                        [-0.0992, -0.3811, -1.4791, -0.7830]])"
      ]
     },
     "execution_count": 6,
     "metadata": {},
     "output_type": "execute_result"
    }
   ],
   "source": [
    "new_value = torch.randn(2, 3)\n",
    "t.a = new_value\n",
    "\n",
    "t"
   ]
  },
  {
   "cell_type": "code",
   "execution_count": 7,
   "id": "bbe04d1c",
   "metadata": {
    "execution": {
     "iopub.execute_input": "2023-02-27T11:47:22.924453Z",
     "iopub.status.busy": "2023-02-27T11:47:22.923834Z",
     "iopub.status.idle": "2023-02-27T11:47:28.395550Z",
     "shell.execute_reply": "2023-02-27T11:47:28.394661Z"
    }
   },
   "outputs": [
    {
     "name": "stdout",
     "output_type": "stream",
     "text": [
      "67.4 ns ± 0.0453 ns per loop (mean ± std. dev. of 7 runs, 10,000,000 loops each)\n"
     ]
    }
   ],
   "source": [
    "%timeit t.a = new_value"
   ]
  },
  {
   "cell_type": "markdown",
   "id": "48c49731",
   "metadata": {},
   "source": [
    "### Tianshou Batch's Get and Set"
   ]
  },
  {
   "cell_type": "code",
   "execution_count": 8,
   "id": "f1bb14c1",
   "metadata": {
    "execution": {
     "iopub.execute_input": "2023-02-27T11:47:28.399567Z",
     "iopub.status.busy": "2023-02-27T11:47:28.398898Z",
     "iopub.status.idle": "2023-02-27T11:47:28.773047Z",
     "shell.execute_reply": "2023-02-27T11:47:28.772234Z"
    }
   },
   "outputs": [],
   "source": [
    "from tianshou.data import Batch\n",
    "\n",
    "b = Batch(**_TREE_DATA_2)"
   ]
  },
  {
   "cell_type": "code",
   "execution_count": 9,
   "id": "cb0777c3",
   "metadata": {
    "execution": {
     "iopub.execute_input": "2023-02-27T11:47:28.777153Z",
     "iopub.status.busy": "2023-02-27T11:47:28.776605Z",
     "iopub.status.idle": "2023-02-27T11:47:28.782879Z",
     "shell.execute_reply": "2023-02-27T11:47:28.782159Z"
    }
   },
   "outputs": [
    {
     "data": {
      "text/plain": [
       "Batch(\n",
       "    a: tensor([[-0.1020,  0.2347,  0.3972],\n",
       "               [ 1.3855, -0.7387,  1.4258]]),\n",
       "    x: Batch(\n",
       "           c: tensor([[-1.3142, -0.7945,  0.0425,  0.0593],\n",
       "                      [-1.1762,  1.9423, -0.9816, -0.1268],\n",
       "                      [-0.0992, -0.3811, -1.4791, -0.7830]]),\n",
       "       ),\n",
       ")"
      ]
     },
     "execution_count": 9,
     "metadata": {},
     "output_type": "execute_result"
    }
   ],
   "source": [
    "b"
   ]
  },
  {
   "cell_type": "code",
   "execution_count": 10,
   "id": "43ef8ea3",
   "metadata": {
    "execution": {
     "iopub.execute_input": "2023-02-27T11:47:28.785769Z",
     "iopub.status.busy": "2023-02-27T11:47:28.785400Z",
     "iopub.status.idle": "2023-02-27T11:47:28.791333Z",
     "shell.execute_reply": "2023-02-27T11:47:28.790657Z"
    }
   },
   "outputs": [
    {
     "data": {
      "text/plain": [
       "tensor([[-0.1020,  0.2347,  0.3972],\n",
       "        [ 1.3855, -0.7387,  1.4258]])"
      ]
     },
     "execution_count": 10,
     "metadata": {},
     "output_type": "execute_result"
    }
   ],
   "source": [
    "b.a"
   ]
  },
  {
   "cell_type": "code",
   "execution_count": 11,
   "id": "b785ab72",
   "metadata": {
    "execution": {
     "iopub.execute_input": "2023-02-27T11:47:28.794309Z",
     "iopub.status.busy": "2023-02-27T11:47:28.793939Z",
     "iopub.status.idle": "2023-02-27T11:47:33.526939Z",
     "shell.execute_reply": "2023-02-27T11:47:33.526017Z"
    }
   },
   "outputs": [
    {
     "name": "stdout",
     "output_type": "stream",
     "text": [
      "58.3 ns ± 0.0932 ns per loop (mean ± std. dev. of 7 runs, 10,000,000 loops each)\n"
     ]
    }
   ],
   "source": [
    "%timeit b.a"
   ]
  },
  {
   "cell_type": "code",
   "execution_count": 12,
   "id": "ad54dc69",
   "metadata": {
    "execution": {
     "iopub.execute_input": "2023-02-27T11:47:33.530361Z",
     "iopub.status.busy": "2023-02-27T11:47:33.529949Z",
     "iopub.status.idle": "2023-02-27T11:47:33.537665Z",
     "shell.execute_reply": "2023-02-27T11:47:33.536664Z"
    }
   },
   "outputs": [
    {
     "data": {
      "text/plain": [
       "Batch(\n",
       "    a: tensor([[ 0.0168, -0.0196,  1.2651],\n",
       "               [ 0.2143,  0.5465, -1.4070]]),\n",
       "    x: Batch(\n",
       "           c: tensor([[-1.3142, -0.7945,  0.0425,  0.0593],\n",
       "                      [-1.1762,  1.9423, -0.9816, -0.1268],\n",
       "                      [-0.0992, -0.3811, -1.4791, -0.7830]]),\n",
       "       ),\n",
       ")"
      ]
     },
     "execution_count": 12,
     "metadata": {},
     "output_type": "execute_result"
    }
   ],
   "source": [
    "new_value = torch.randn(2, 3)\n",
    "b.a = new_value\n",
    "\n",
    "b"
   ]
  },
  {
   "cell_type": "code",
   "execution_count": 13,
   "id": "29b1d0bf",
   "metadata": {
    "execution": {
     "iopub.execute_input": "2023-02-27T11:47:33.540815Z",
     "iopub.status.busy": "2023-02-27T11:47:33.540383Z",
     "iopub.status.idle": "2023-02-27T11:47:37.578221Z",
     "shell.execute_reply": "2023-02-27T11:47:37.577338Z"
    }
   },
   "outputs": [
    {
     "name": "stdout",
     "output_type": "stream",
     "text": [
      "498 ns ± 6.54 ns per loop (mean ± std. dev. of 7 runs, 1,000,000 loops each)\n"
     ]
    }
   ],
   "source": [
    "%timeit b.a = new_value"
   ]
  },
  {
   "cell_type": "markdown",
   "id": "b61ad1d0",
   "metadata": {},
   "source": [
    "## Initialization"
   ]
  },
  {
   "cell_type": "markdown",
   "id": "d70f0d54",
   "metadata": {},
   "source": [
    "### TreeValue's Initialization"
   ]
  },
  {
   "cell_type": "code",
   "execution_count": 14,
   "id": "d32a679b",
   "metadata": {
    "execution": {
     "iopub.execute_input": "2023-02-27T11:47:37.581994Z",
     "iopub.status.busy": "2023-02-27T11:47:37.581348Z",
     "iopub.status.idle": "2023-02-27T11:47:44.218720Z",
     "shell.execute_reply": "2023-02-27T11:47:44.217933Z"
    }
   },
   "outputs": [
    {
     "name": "stdout",
     "output_type": "stream",
     "text": [
      "818 ns ± 0.694 ns per loop (mean ± std. dev. of 7 runs, 1,000,000 loops each)\n"
     ]
    }
   ],
   "source": [
    "%timeit FastTreeValue(_TREE_DATA_1)"
   ]
  },
  {
   "cell_type": "markdown",
   "id": "24f3707b",
   "metadata": {},
   "source": [
    "### Tianshou Batch's Initialization"
   ]
  },
  {
   "cell_type": "code",
   "execution_count": 15,
   "id": "ac3958df",
   "metadata": {
    "execution": {
     "iopub.execute_input": "2023-02-27T11:47:44.222444Z",
     "iopub.status.busy": "2023-02-27T11:47:44.221983Z",
     "iopub.status.idle": "2023-02-27T11:47:52.957485Z",
     "shell.execute_reply": "2023-02-27T11:47:52.956578Z"
    }
   },
   "outputs": [
    {
     "name": "stdout",
     "output_type": "stream",
     "text": [
      "10.8 µs ± 19.2 ns per loop (mean ± std. dev. of 7 runs, 100,000 loops each)\n"
     ]
    }
   ],
   "source": [
    "%timeit Batch(**_TREE_DATA_1)"
   ]
  },
  {
   "cell_type": "markdown",
   "id": "1ab82e2d",
   "metadata": {},
   "source": [
    "## Deep Copy Operation"
   ]
  },
  {
   "cell_type": "code",
   "execution_count": 16,
   "id": "210a9442",
   "metadata": {
    "execution": {
     "iopub.execute_input": "2023-02-27T11:47:52.961311Z",
     "iopub.status.busy": "2023-02-27T11:47:52.960764Z",
     "iopub.status.idle": "2023-02-27T11:47:52.965367Z",
     "shell.execute_reply": "2023-02-27T11:47:52.964721Z"
    }
   },
   "outputs": [],
   "source": [
    "import copy"
   ]
  },
  {
   "cell_type": "markdown",
   "id": "5a736274",
   "metadata": {},
   "source": [
    "### Deep Copy of TreeValue"
   ]
  },
  {
   "cell_type": "code",
   "execution_count": 17,
   "id": "f9bcadd6",
   "metadata": {
    "execution": {
     "iopub.execute_input": "2023-02-27T11:47:52.968605Z",
     "iopub.status.busy": "2023-02-27T11:47:52.968152Z",
     "iopub.status.idle": "2023-02-27T11:48:04.822627Z",
     "shell.execute_reply": "2023-02-27T11:48:04.821955Z"
    }
   },
   "outputs": [
    {
     "name": "stdout",
     "output_type": "stream",
     "text": [
      "146 µs ± 367 ns per loop (mean ± std. dev. of 7 runs, 10,000 loops each)\n"
     ]
    }
   ],
   "source": [
    "t3 = FastTreeValue(_TREE_DATA_3)\n",
    "%timeit copy.deepcopy(t3)"
   ]
  },
  {
   "cell_type": "markdown",
   "id": "bf8be7ea",
   "metadata": {},
   "source": [
    "### Deep Copy of Tianshou Batch"
   ]
  },
  {
   "cell_type": "code",
   "execution_count": 18,
   "id": "91998e6f",
   "metadata": {
    "execution": {
     "iopub.execute_input": "2023-02-27T11:48:04.825936Z",
     "iopub.status.busy": "2023-02-27T11:48:04.825428Z",
     "iopub.status.idle": "2023-02-27T11:48:16.653884Z",
     "shell.execute_reply": "2023-02-27T11:48:16.653239Z"
    }
   },
   "outputs": [
    {
     "name": "stdout",
     "output_type": "stream",
     "text": [
      "146 µs ± 535 ns per loop (mean ± std. dev. of 7 runs, 10,000 loops each)\n"
     ]
    }
   ],
   "source": [
    "b3 = Batch(**_TREE_DATA_3)\n",
    "%timeit copy.deepcopy(b3)"
   ]
  },
  {
   "cell_type": "markdown",
   "id": "223162fb",
   "metadata": {},
   "source": [
    "## Stack, Concat and Split Operation"
   ]
  },
  {
   "cell_type": "markdown",
   "id": "85fa4a73",
   "metadata": {},
   "source": [
    "### Performance of TreeValue"
   ]
  },
  {
   "cell_type": "code",
   "execution_count": 19,
   "id": "a0c2b697",
   "metadata": {
    "execution": {
     "iopub.execute_input": "2023-02-27T11:48:16.657177Z",
     "iopub.status.busy": "2023-02-27T11:48:16.656673Z",
     "iopub.status.idle": "2023-02-27T11:48:16.660622Z",
     "shell.execute_reply": "2023-02-27T11:48:16.660066Z"
    }
   },
   "outputs": [],
   "source": [
    "trees = [FastTreeValue(_TREE_DATA_2) for _ in range(8)]"
   ]
  },
  {
   "cell_type": "code",
   "execution_count": 20,
   "id": "017ea5a5",
   "metadata": {
    "execution": {
     "iopub.execute_input": "2023-02-27T11:48:16.663356Z",
     "iopub.status.busy": "2023-02-27T11:48:16.662750Z",
     "iopub.status.idle": "2023-02-27T11:48:16.669840Z",
     "shell.execute_reply": "2023-02-27T11:48:16.669298Z"
    }
   },
   "outputs": [
    {
     "data": {
      "text/plain": [
       "<FastTreeValue 0x7f47388f8d90>\n",
       "├── 'a' --> tensor([[[-0.1020,  0.2347,  0.3972],\n",
       "│                    [ 1.3855, -0.7387,  1.4258]],\n",
       "│           \n",
       "│                   [[-0.1020,  0.2347,  0.3972],\n",
       "│                    [ 1.3855, -0.7387,  1.4258]],\n",
       "│           \n",
       "│                   [[-0.1020,  0.2347,  0.3972],\n",
       "│                    [ 1.3855, -0.7387,  1.4258]],\n",
       "│           \n",
       "│                   [[-0.1020,  0.2347,  0.3972],\n",
       "│                    [ 1.3855, -0.7387,  1.4258]],\n",
       "│           \n",
       "│                   [[-0.1020,  0.2347,  0.3972],\n",
       "│                    [ 1.3855, -0.7387,  1.4258]],\n",
       "│           \n",
       "│                   [[-0.1020,  0.2347,  0.3972],\n",
       "│                    [ 1.3855, -0.7387,  1.4258]],\n",
       "│           \n",
       "│                   [[-0.1020,  0.2347,  0.3972],\n",
       "│                    [ 1.3855, -0.7387,  1.4258]],\n",
       "│           \n",
       "│                   [[-0.1020,  0.2347,  0.3972],\n",
       "│                    [ 1.3855, -0.7387,  1.4258]]])\n",
       "└── 'x' --> <FastTreeValue 0x7f47388f8f70>\n",
       "    └── 'c' --> tensor([[[-1.3142, -0.7945,  0.0425,  0.0593],\n",
       "                         [-1.1762,  1.9423, -0.9816, -0.1268],\n",
       "                         [-0.0992, -0.3811, -1.4791, -0.7830]],\n",
       "                \n",
       "                        [[-1.3142, -0.7945,  0.0425,  0.0593],\n",
       "                         [-1.1762,  1.9423, -0.9816, -0.1268],\n",
       "                         [-0.0992, -0.3811, -1.4791, -0.7830]],\n",
       "                \n",
       "                        [[-1.3142, -0.7945,  0.0425,  0.0593],\n",
       "                         [-1.1762,  1.9423, -0.9816, -0.1268],\n",
       "                         [-0.0992, -0.3811, -1.4791, -0.7830]],\n",
       "                \n",
       "                        [[-1.3142, -0.7945,  0.0425,  0.0593],\n",
       "                         [-1.1762,  1.9423, -0.9816, -0.1268],\n",
       "                         [-0.0992, -0.3811, -1.4791, -0.7830]],\n",
       "                \n",
       "                        [[-1.3142, -0.7945,  0.0425,  0.0593],\n",
       "                         [-1.1762,  1.9423, -0.9816, -0.1268],\n",
       "                         [-0.0992, -0.3811, -1.4791, -0.7830]],\n",
       "                \n",
       "                        [[-1.3142, -0.7945,  0.0425,  0.0593],\n",
       "                         [-1.1762,  1.9423, -0.9816, -0.1268],\n",
       "                         [-0.0992, -0.3811, -1.4791, -0.7830]],\n",
       "                \n",
       "                        [[-1.3142, -0.7945,  0.0425,  0.0593],\n",
       "                         [-1.1762,  1.9423, -0.9816, -0.1268],\n",
       "                         [-0.0992, -0.3811, -1.4791, -0.7830]],\n",
       "                \n",
       "                        [[-1.3142, -0.7945,  0.0425,  0.0593],\n",
       "                         [-1.1762,  1.9423, -0.9816, -0.1268],\n",
       "                         [-0.0992, -0.3811, -1.4791, -0.7830]]])"
      ]
     },
     "execution_count": 20,
     "metadata": {},
     "output_type": "execute_result"
    }
   ],
   "source": [
    "t_stack = FastTreeValue.func(subside=True)(torch.stack)\n",
    "\n",
    "t_stack(trees)"
   ]
  },
  {
   "cell_type": "code",
   "execution_count": 21,
   "id": "f8b3f415",
   "metadata": {
    "execution": {
     "iopub.execute_input": "2023-02-27T11:48:16.672474Z",
     "iopub.status.busy": "2023-02-27T11:48:16.671877Z",
     "iopub.status.idle": "2023-02-27T11:48:19.286466Z",
     "shell.execute_reply": "2023-02-27T11:48:19.285129Z"
    }
   },
   "outputs": [
    {
     "name": "stdout",
     "output_type": "stream",
     "text": [
      "32.2 µs ± 114 ns per loop (mean ± std. dev. of 7 runs, 10,000 loops each)\n"
     ]
    }
   ],
   "source": [
    "%timeit t_stack(trees)"
   ]
  },
  {
   "cell_type": "code",
   "execution_count": 22,
   "id": "94b56771",
   "metadata": {
    "execution": {
     "iopub.execute_input": "2023-02-27T11:48:19.289985Z",
     "iopub.status.busy": "2023-02-27T11:48:19.289366Z",
     "iopub.status.idle": "2023-02-27T11:48:19.297860Z",
     "shell.execute_reply": "2023-02-27T11:48:19.297194Z"
    }
   },
   "outputs": [
    {
     "data": {
      "text/plain": [
       "<FastTreeValue 0x7f4683b69f40>\n",
       "├── 'a' --> tensor([[-0.1020,  0.2347,  0.3972],\n",
       "│                   [ 1.3855, -0.7387,  1.4258],\n",
       "│                   [-0.1020,  0.2347,  0.3972],\n",
       "│                   [ 1.3855, -0.7387,  1.4258],\n",
       "│                   [-0.1020,  0.2347,  0.3972],\n",
       "│                   [ 1.3855, -0.7387,  1.4258],\n",
       "│                   [-0.1020,  0.2347,  0.3972],\n",
       "│                   [ 1.3855, -0.7387,  1.4258],\n",
       "│                   [-0.1020,  0.2347,  0.3972],\n",
       "│                   [ 1.3855, -0.7387,  1.4258],\n",
       "│                   [-0.1020,  0.2347,  0.3972],\n",
       "│                   [ 1.3855, -0.7387,  1.4258],\n",
       "│                   [-0.1020,  0.2347,  0.3972],\n",
       "│                   [ 1.3855, -0.7387,  1.4258],\n",
       "│                   [-0.1020,  0.2347,  0.3972],\n",
       "│                   [ 1.3855, -0.7387,  1.4258]])\n",
       "└── 'x' --> <FastTreeValue 0x7f473889fe80>\n",
       "    └── 'c' --> tensor([[-1.3142, -0.7945,  0.0425,  0.0593],\n",
       "                        [-1.1762,  1.9423, -0.9816, -0.1268],\n",
       "                        [-0.0992, -0.3811, -1.4791, -0.7830],\n",
       "                        [-1.3142, -0.7945,  0.0425,  0.0593],\n",
       "                        [-1.1762,  1.9423, -0.9816, -0.1268],\n",
       "                        [-0.0992, -0.3811, -1.4791, -0.7830],\n",
       "                        [-1.3142, -0.7945,  0.0425,  0.0593],\n",
       "                        [-1.1762,  1.9423, -0.9816, -0.1268],\n",
       "                        [-0.0992, -0.3811, -1.4791, -0.7830],\n",
       "                        [-1.3142, -0.7945,  0.0425,  0.0593],\n",
       "                        [-1.1762,  1.9423, -0.9816, -0.1268],\n",
       "                        [-0.0992, -0.3811, -1.4791, -0.7830],\n",
       "                        [-1.3142, -0.7945,  0.0425,  0.0593],\n",
       "                        [-1.1762,  1.9423, -0.9816, -0.1268],\n",
       "                        [-0.0992, -0.3811, -1.4791, -0.7830],\n",
       "                        [-1.3142, -0.7945,  0.0425,  0.0593],\n",
       "                        [-1.1762,  1.9423, -0.9816, -0.1268],\n",
       "                        [-0.0992, -0.3811, -1.4791, -0.7830],\n",
       "                        [-1.3142, -0.7945,  0.0425,  0.0593],\n",
       "                        [-1.1762,  1.9423, -0.9816, -0.1268],\n",
       "                        [-0.0992, -0.3811, -1.4791, -0.7830],\n",
       "                        [-1.3142, -0.7945,  0.0425,  0.0593],\n",
       "                        [-1.1762,  1.9423, -0.9816, -0.1268],\n",
       "                        [-0.0992, -0.3811, -1.4791, -0.7830]])"
      ]
     },
     "execution_count": 22,
     "metadata": {},
     "output_type": "execute_result"
    }
   ],
   "source": [
    "t_cat = FastTreeValue.func(subside=True)(torch.cat)\n",
    "\n",
    "t_cat(trees)"
   ]
  },
  {
   "cell_type": "code",
   "execution_count": 23,
   "id": "5e9c06a6",
   "metadata": {
    "execution": {
     "iopub.execute_input": "2023-02-27T11:48:19.300990Z",
     "iopub.status.busy": "2023-02-27T11:48:19.300536Z",
     "iopub.status.idle": "2023-02-27T11:48:21.756720Z",
     "shell.execute_reply": "2023-02-27T11:48:21.755823Z"
    }
   },
   "outputs": [
    {
     "name": "stdout",
     "output_type": "stream",
     "text": [
      "30.2 µs ± 56.3 ns per loop (mean ± std. dev. of 7 runs, 10,000 loops each)\n"
     ]
    }
   ],
   "source": [
    "%timeit t_cat(trees)"
   ]
  },
  {
   "cell_type": "code",
   "execution_count": 24,
   "id": "a3ab5c8f",
   "metadata": {
    "execution": {
     "iopub.execute_input": "2023-02-27T11:48:21.760642Z",
     "iopub.status.busy": "2023-02-27T11:48:21.760187Z",
     "iopub.status.idle": "2023-02-27T11:48:26.401435Z",
     "shell.execute_reply": "2023-02-27T11:48:26.400617Z"
    }
   },
   "outputs": [
    {
     "name": "stdout",
     "output_type": "stream",
     "text": [
      "57 µs ± 160 ns per loop (mean ± std. dev. of 7 runs, 10,000 loops each)\n"
     ]
    }
   ],
   "source": [
    "t_split = FastTreeValue.func(rise=True)(torch.split)\n",
    "tree = FastTreeValue({\n",
    "    'obs': torch.randn(8, 4, 84, 84),\n",
    "    'action': torch.randint(0, 6, size=(8, 1,)),\n",
    "    'reward': torch.rand(8, 1),\n",
    "})\n",
    "\n",
    "%timeit t_split(tree, 1)"
   ]
  },
  {
   "cell_type": "markdown",
   "id": "31c3ec0b",
   "metadata": {},
   "source": [
    "### Performance of Tianshou Batch"
   ]
  },
  {
   "cell_type": "code",
   "execution_count": 25,
   "id": "9ead828a",
   "metadata": {
    "execution": {
     "iopub.execute_input": "2023-02-27T11:48:26.405277Z",
     "iopub.status.busy": "2023-02-27T11:48:26.404690Z",
     "iopub.status.idle": "2023-02-27T11:48:26.413126Z",
     "shell.execute_reply": "2023-02-27T11:48:26.412495Z"
    }
   },
   "outputs": [
    {
     "data": {
      "text/plain": [
       "Batch(\n",
       "    x: Batch(\n",
       "           c: tensor([[[-1.3142, -0.7945,  0.0425,  0.0593],\n",
       "                       [-1.1762,  1.9423, -0.9816, -0.1268],\n",
       "                       [-0.0992, -0.3811, -1.4791, -0.7830]],\n",
       "              \n",
       "                      [[-1.3142, -0.7945,  0.0425,  0.0593],\n",
       "                       [-1.1762,  1.9423, -0.9816, -0.1268],\n",
       "                       [-0.0992, -0.3811, -1.4791, -0.7830]],\n",
       "              \n",
       "                      [[-1.3142, -0.7945,  0.0425,  0.0593],\n",
       "                       [-1.1762,  1.9423, -0.9816, -0.1268],\n",
       "                       [-0.0992, -0.3811, -1.4791, -0.7830]],\n",
       "              \n",
       "                      [[-1.3142, -0.7945,  0.0425,  0.0593],\n",
       "                       [-1.1762,  1.9423, -0.9816, -0.1268],\n",
       "                       [-0.0992, -0.3811, -1.4791, -0.7830]],\n",
       "              \n",
       "                      [[-1.3142, -0.7945,  0.0425,  0.0593],\n",
       "                       [-1.1762,  1.9423, -0.9816, -0.1268],\n",
       "                       [-0.0992, -0.3811, -1.4791, -0.7830]],\n",
       "              \n",
       "                      [[-1.3142, -0.7945,  0.0425,  0.0593],\n",
       "                       [-1.1762,  1.9423, -0.9816, -0.1268],\n",
       "                       [-0.0992, -0.3811, -1.4791, -0.7830]],\n",
       "              \n",
       "                      [[-1.3142, -0.7945,  0.0425,  0.0593],\n",
       "                       [-1.1762,  1.9423, -0.9816, -0.1268],\n",
       "                       [-0.0992, -0.3811, -1.4791, -0.7830]],\n",
       "              \n",
       "                      [[-1.3142, -0.7945,  0.0425,  0.0593],\n",
       "                       [-1.1762,  1.9423, -0.9816, -0.1268],\n",
       "                       [-0.0992, -0.3811, -1.4791, -0.7830]]]),\n",
       "       ),\n",
       "    a: tensor([[[-0.1020,  0.2347,  0.3972],\n",
       "                [ 1.3855, -0.7387,  1.4258]],\n",
       "       \n",
       "               [[-0.1020,  0.2347,  0.3972],\n",
       "                [ 1.3855, -0.7387,  1.4258]],\n",
       "       \n",
       "               [[-0.1020,  0.2347,  0.3972],\n",
       "                [ 1.3855, -0.7387,  1.4258]],\n",
       "       \n",
       "               [[-0.1020,  0.2347,  0.3972],\n",
       "                [ 1.3855, -0.7387,  1.4258]],\n",
       "       \n",
       "               [[-0.1020,  0.2347,  0.3972],\n",
       "                [ 1.3855, -0.7387,  1.4258]],\n",
       "       \n",
       "               [[-0.1020,  0.2347,  0.3972],\n",
       "                [ 1.3855, -0.7387,  1.4258]],\n",
       "       \n",
       "               [[-0.1020,  0.2347,  0.3972],\n",
       "                [ 1.3855, -0.7387,  1.4258]],\n",
       "       \n",
       "               [[-0.1020,  0.2347,  0.3972],\n",
       "                [ 1.3855, -0.7387,  1.4258]]]),\n",
       ")"
      ]
     },
     "execution_count": 25,
     "metadata": {},
     "output_type": "execute_result"
    }
   ],
   "source": [
    "batches = [Batch(**_TREE_DATA_2) for _ in range(8)]\n",
    "\n",
    "Batch.stack(batches)"
   ]
  },
  {
   "cell_type": "code",
   "execution_count": 26,
   "id": "ec9037a3",
   "metadata": {
    "execution": {
     "iopub.execute_input": "2023-02-27T11:48:26.416039Z",
     "iopub.status.busy": "2023-02-27T11:48:26.415461Z",
     "iopub.status.idle": "2023-02-27T11:48:32.787036Z",
     "shell.execute_reply": "2023-02-27T11:48:32.786131Z"
    }
   },
   "outputs": [
    {
     "name": "stdout",
     "output_type": "stream",
     "text": [
      "78.4 µs ± 432 ns per loop (mean ± std. dev. of 7 runs, 10,000 loops each)\n"
     ]
    }
   ],
   "source": [
    "%timeit Batch.stack(batches)"
   ]
  },
  {
   "cell_type": "code",
   "execution_count": 27,
   "id": "cb8ab77e",
   "metadata": {
    "execution": {
     "iopub.execute_input": "2023-02-27T11:48:32.790838Z",
     "iopub.status.busy": "2023-02-27T11:48:32.790337Z",
     "iopub.status.idle": "2023-02-27T11:48:32.798391Z",
     "shell.execute_reply": "2023-02-27T11:48:32.797759Z"
    }
   },
   "outputs": [
    {
     "data": {
      "text/plain": [
       "Batch(\n",
       "    x: Batch(\n",
       "           c: tensor([[-1.3142, -0.7945,  0.0425,  0.0593],\n",
       "                      [-1.1762,  1.9423, -0.9816, -0.1268],\n",
       "                      [-0.0992, -0.3811, -1.4791, -0.7830],\n",
       "                      [-1.3142, -0.7945,  0.0425,  0.0593],\n",
       "                      [-1.1762,  1.9423, -0.9816, -0.1268],\n",
       "                      [-0.0992, -0.3811, -1.4791, -0.7830],\n",
       "                      [-1.3142, -0.7945,  0.0425,  0.0593],\n",
       "                      [-1.1762,  1.9423, -0.9816, -0.1268],\n",
       "                      [-0.0992, -0.3811, -1.4791, -0.7830],\n",
       "                      [-1.3142, -0.7945,  0.0425,  0.0593],\n",
       "                      [-1.1762,  1.9423, -0.9816, -0.1268],\n",
       "                      [-0.0992, -0.3811, -1.4791, -0.7830],\n",
       "                      [-1.3142, -0.7945,  0.0425,  0.0593],\n",
       "                      [-1.1762,  1.9423, -0.9816, -0.1268],\n",
       "                      [-0.0992, -0.3811, -1.4791, -0.7830],\n",
       "                      [-1.3142, -0.7945,  0.0425,  0.0593],\n",
       "                      [-1.1762,  1.9423, -0.9816, -0.1268],\n",
       "                      [-0.0992, -0.3811, -1.4791, -0.7830],\n",
       "                      [-1.3142, -0.7945,  0.0425,  0.0593],\n",
       "                      [-1.1762,  1.9423, -0.9816, -0.1268],\n",
       "                      [-0.0992, -0.3811, -1.4791, -0.7830],\n",
       "                      [-1.3142, -0.7945,  0.0425,  0.0593],\n",
       "                      [-1.1762,  1.9423, -0.9816, -0.1268],\n",
       "                      [-0.0992, -0.3811, -1.4791, -0.7830]]),\n",
       "       ),\n",
       "    a: tensor([[-0.1020,  0.2347,  0.3972],\n",
       "               [ 1.3855, -0.7387,  1.4258],\n",
       "               [-0.1020,  0.2347,  0.3972],\n",
       "               [ 1.3855, -0.7387,  1.4258],\n",
       "               [-0.1020,  0.2347,  0.3972],\n",
       "               [ 1.3855, -0.7387,  1.4258],\n",
       "               [-0.1020,  0.2347,  0.3972],\n",
       "               [ 1.3855, -0.7387,  1.4258],\n",
       "               [-0.1020,  0.2347,  0.3972],\n",
       "               [ 1.3855, -0.7387,  1.4258],\n",
       "               [-0.1020,  0.2347,  0.3972],\n",
       "               [ 1.3855, -0.7387,  1.4258],\n",
       "               [-0.1020,  0.2347,  0.3972],\n",
       "               [ 1.3855, -0.7387,  1.4258],\n",
       "               [-0.1020,  0.2347,  0.3972],\n",
       "               [ 1.3855, -0.7387,  1.4258]]),\n",
       ")"
      ]
     },
     "execution_count": 27,
     "metadata": {},
     "output_type": "execute_result"
    }
   ],
   "source": [
    "Batch.cat(batches)"
   ]
  },
  {
   "cell_type": "code",
   "execution_count": 28,
   "id": "18dfb045",
   "metadata": {
    "execution": {
     "iopub.execute_input": "2023-02-27T11:48:32.801573Z",
     "iopub.status.busy": "2023-02-27T11:48:32.801023Z",
     "iopub.status.idle": "2023-02-27T11:48:44.766157Z",
     "shell.execute_reply": "2023-02-27T11:48:44.765274Z"
    }
   },
   "outputs": [
    {
     "name": "stdout",
     "output_type": "stream",
     "text": [
      "147 µs ± 988 ns per loop (mean ± std. dev. of 7 runs, 10,000 loops each)\n"
     ]
    }
   ],
   "source": [
    "%timeit Batch.cat(batches)"
   ]
  },
  {
   "cell_type": "code",
   "execution_count": 29,
   "id": "c6688e51",
   "metadata": {
    "execution": {
     "iopub.execute_input": "2023-02-27T11:48:44.769751Z",
     "iopub.status.busy": "2023-02-27T11:48:44.769111Z",
     "iopub.status.idle": "2023-02-27T11:48:47.448257Z",
     "shell.execute_reply": "2023-02-27T11:48:47.447112Z"
    }
   },
   "outputs": [
    {
     "name": "stdout",
     "output_type": "stream",
     "text": [
      "329 µs ± 2.22 µs per loop (mean ± std. dev. of 7 runs, 1,000 loops each)\n"
     ]
    }
   ],
   "source": [
    "batch = Batch({\n",
    "    'obs': torch.randn(8, 4, 84, 84),\n",
    "    'action': torch.randint(0, 6, size=(8, 1,)),\n",
    "    'reward': torch.rand(8, 1)}\n",
    ")\n",
    "\n",
    "%timeit list(Batch.split(batch, 1, shuffle=False, merge_last=True))"
   ]
  },
  {
   "cell_type": "code",
   "execution_count": null,
   "id": "2539fbd9",
   "metadata": {},
   "outputs": [],
   "source": []
  }
 ],
 "metadata": {
  "kernelspec": {
   "display_name": "Python 3 (ipykernel)",
   "language": "python",
   "name": "python3"
  },
  "language_info": {
   "codemirror_mode": {
    "name": "ipython",
    "version": 3
   },
   "file_extension": ".py",
   "mimetype": "text/x-python",
   "name": "python",
   "nbconvert_exporter": "python",
   "pygments_lexer": "ipython3",
   "version": "3.8.16"
  }
 },
 "nbformat": 4,
 "nbformat_minor": 5
}
