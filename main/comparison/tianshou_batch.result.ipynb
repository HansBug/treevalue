{
 "cells": [
  {
   "cell_type": "markdown",
   "id": "9d39d946",
   "metadata": {},
   "source": [
    "# Comparison Between TreeValue and Tianshou Batch"
   ]
  },
  {
   "cell_type": "markdown",
   "id": "3c6db2d4",
   "metadata": {},
   "source": [
    "In this section, we will take a look at the feature and performance of the [Tianshou Batch](https://github.com/thu-ml/tianshou) library, which is developed by Tsinghua Machine Learning Group."
   ]
  },
  {
   "cell_type": "markdown",
   "id": "069361b0",
   "metadata": {},
   "source": [
    "Before starting the comparison, let us define some thing."
   ]
  },
  {
   "cell_type": "code",
   "execution_count": 1,
   "id": "06fc8d26",
   "metadata": {
    "execution": {
     "iopub.execute_input": "2023-02-23T09:44:30.334442Z",
     "iopub.status.busy": "2023-02-23T09:44:30.333557Z",
     "iopub.status.idle": "2023-02-23T09:44:31.595095Z",
     "shell.execute_reply": "2023-02-23T09:44:31.593956Z"
    }
   },
   "outputs": [
    {
     "name": "stderr",
     "output_type": "stream",
     "text": [
      "/opt/hostedtoolcache/Python/3.8.16/x64/lib/python3.8/site-packages/tqdm/auto.py:22: TqdmWarning: IProgress not found. Please update jupyter and ipywidgets. See https://ipywidgets.readthedocs.io/en/stable/user_install.html\n",
      "  from .autonotebook import tqdm as notebook_tqdm\n"
     ]
    }
   ],
   "source": [
    "import torch \n",
    "\n",
    "_TREE_DATA_1 = {'a': 1, 'b': 2, 'x': {'c': 3, 'd': 4}}\n",
    "_TREE_DATA_2 = {\n",
    "    'a': torch.randn(2, 3), \n",
    "    'x': {\n",
    "        'c': torch.randn(3, 4)\n",
    "    },\n",
    "}\n",
    "_TREE_DATA_3 = {\n",
    "    'obs': torch.randn(4, 84, 84),\n",
    "    'action': torch.randint(0, 6, size=(1,)),\n",
    "    'reward': torch.rand(1),\n",
    "}"
   ]
  },
  {
   "cell_type": "markdown",
   "id": "83461b25",
   "metadata": {},
   "source": [
    "## Read and Write Operation"
   ]
  },
  {
   "cell_type": "markdown",
   "id": "067b3f73",
   "metadata": {},
   "source": [
    "Reading and writing are the two most common operations in the tree data structure based on the data model (TreeValue and Tianshou Batch both belong to this type), so this section will compare the reading and writing performance of these two libraries."
   ]
  },
  {
   "cell_type": "markdown",
   "id": "5d09a5b7",
   "metadata": {},
   "source": [
    "### TreeValue's Get and Set"
   ]
  },
  {
   "cell_type": "code",
   "execution_count": 2,
   "id": "9519c4bb",
   "metadata": {
    "execution": {
     "iopub.execute_input": "2023-02-23T09:44:31.599671Z",
     "iopub.status.busy": "2023-02-23T09:44:31.599240Z",
     "iopub.status.idle": "2023-02-23T09:44:31.642712Z",
     "shell.execute_reply": "2023-02-23T09:44:31.641568Z"
    }
   },
   "outputs": [],
   "source": [
    "from treevalue import FastTreeValue\n",
    "\n",
    "t = FastTreeValue(_TREE_DATA_2)"
   ]
  },
  {
   "cell_type": "code",
   "execution_count": 3,
   "id": "11c37677",
   "metadata": {
    "execution": {
     "iopub.execute_input": "2023-02-23T09:44:31.646407Z",
     "iopub.status.busy": "2023-02-23T09:44:31.646120Z",
     "iopub.status.idle": "2023-02-23T09:44:31.658385Z",
     "shell.execute_reply": "2023-02-23T09:44:31.657482Z"
    }
   },
   "outputs": [
    {
     "data": {
      "text/plain": [
       "<FastTreeValue 0x7f5380858b80>\n",
       "├── 'a' --> tensor([[-0.5408,  1.2824, -3.0254],\n",
       "│                   [-0.3561,  0.5099, -1.3856]])\n",
       "└── 'x' --> <FastTreeValue 0x7f5380858c70>\n",
       "    └── 'c' --> tensor([[-1.4677,  0.1053, -2.2673,  1.0475],\n",
       "                        [-1.1240,  1.2008,  1.7960,  0.2016],\n",
       "                        [ 0.4194, -1.5117,  0.3400, -2.8646]])"
      ]
     },
     "execution_count": 3,
     "metadata": {},
     "output_type": "execute_result"
    }
   ],
   "source": [
    "t"
   ]
  },
  {
   "cell_type": "code",
   "execution_count": 4,
   "id": "fd70b0b9",
   "metadata": {
    "execution": {
     "iopub.execute_input": "2023-02-23T09:44:31.662524Z",
     "iopub.status.busy": "2023-02-23T09:44:31.661913Z",
     "iopub.status.idle": "2023-02-23T09:44:31.669415Z",
     "shell.execute_reply": "2023-02-23T09:44:31.668327Z"
    }
   },
   "outputs": [
    {
     "data": {
      "text/plain": [
       "tensor([[-0.5408,  1.2824, -3.0254],\n",
       "        [-0.3561,  0.5099, -1.3856]])"
      ]
     },
     "execution_count": 4,
     "metadata": {},
     "output_type": "execute_result"
    }
   ],
   "source": [
    "t.a"
   ]
  },
  {
   "cell_type": "code",
   "execution_count": 5,
   "id": "c18197bd",
   "metadata": {
    "execution": {
     "iopub.execute_input": "2023-02-23T09:44:31.672596Z",
     "iopub.status.busy": "2023-02-23T09:44:31.672256Z",
     "iopub.status.idle": "2023-02-23T09:44:37.481641Z",
     "shell.execute_reply": "2023-02-23T09:44:37.480359Z"
    }
   },
   "outputs": [
    {
     "name": "stdout",
     "output_type": "stream",
     "text": [
      "72 ns ± 3.32 ns per loop (mean ± std. dev. of 7 runs, 10,000,000 loops each)\n"
     ]
    }
   ],
   "source": [
    "%timeit t.a"
   ]
  },
  {
   "cell_type": "code",
   "execution_count": 6,
   "id": "bd52f867",
   "metadata": {
    "execution": {
     "iopub.execute_input": "2023-02-23T09:44:37.485119Z",
     "iopub.status.busy": "2023-02-23T09:44:37.484821Z",
     "iopub.status.idle": "2023-02-23T09:44:37.493385Z",
     "shell.execute_reply": "2023-02-23T09:44:37.492417Z"
    }
   },
   "outputs": [
    {
     "data": {
      "text/plain": [
       "<FastTreeValue 0x7f5380858b80>\n",
       "├── 'a' --> tensor([[ 1.1376,  1.6752,  0.6943],\n",
       "│                   [ 0.9414, -1.2118, -0.4436]])\n",
       "└── 'x' --> <FastTreeValue 0x7f5380858c70>\n",
       "    └── 'c' --> tensor([[-1.4677,  0.1053, -2.2673,  1.0475],\n",
       "                        [-1.1240,  1.2008,  1.7960,  0.2016],\n",
       "                        [ 0.4194, -1.5117,  0.3400, -2.8646]])"
      ]
     },
     "execution_count": 6,
     "metadata": {},
     "output_type": "execute_result"
    }
   ],
   "source": [
    "new_value = torch.randn(2, 3)\n",
    "t.a = new_value\n",
    "\n",
    "t"
   ]
  },
  {
   "cell_type": "code",
   "execution_count": 7,
   "id": "bbe04d1c",
   "metadata": {
    "execution": {
     "iopub.execute_input": "2023-02-23T09:44:37.497089Z",
     "iopub.status.busy": "2023-02-23T09:44:37.496800Z",
     "iopub.status.idle": "2023-02-23T09:44:43.424996Z",
     "shell.execute_reply": "2023-02-23T09:44:43.423960Z"
    }
   },
   "outputs": [
    {
     "name": "stdout",
     "output_type": "stream",
     "text": [
      "73.4 ns ± 1.82 ns per loop (mean ± std. dev. of 7 runs, 10,000,000 loops each)\n"
     ]
    }
   ],
   "source": [
    "%timeit t.a = new_value"
   ]
  },
  {
   "cell_type": "markdown",
   "id": "48c49731",
   "metadata": {},
   "source": [
    "### Tianshou Batch's Get and Set"
   ]
  },
  {
   "cell_type": "code",
   "execution_count": 8,
   "id": "f1bb14c1",
   "metadata": {
    "execution": {
     "iopub.execute_input": "2023-02-23T09:44:43.429154Z",
     "iopub.status.busy": "2023-02-23T09:44:43.428270Z",
     "iopub.status.idle": "2023-02-23T09:44:43.865703Z",
     "shell.execute_reply": "2023-02-23T09:44:43.864658Z"
    }
   },
   "outputs": [],
   "source": [
    "from tianshou.data import Batch\n",
    "\n",
    "b = Batch(**_TREE_DATA_2)"
   ]
  },
  {
   "cell_type": "code",
   "execution_count": 9,
   "id": "cb0777c3",
   "metadata": {
    "execution": {
     "iopub.execute_input": "2023-02-23T09:44:43.869934Z",
     "iopub.status.busy": "2023-02-23T09:44:43.869476Z",
     "iopub.status.idle": "2023-02-23T09:44:43.877211Z",
     "shell.execute_reply": "2023-02-23T09:44:43.876220Z"
    }
   },
   "outputs": [
    {
     "data": {
      "text/plain": [
       "Batch(\n",
       "    a: tensor([[-0.5408,  1.2824, -3.0254],\n",
       "               [-0.3561,  0.5099, -1.3856]]),\n",
       "    x: Batch(\n",
       "           c: tensor([[-1.4677,  0.1053, -2.2673,  1.0475],\n",
       "                      [-1.1240,  1.2008,  1.7960,  0.2016],\n",
       "                      [ 0.4194, -1.5117,  0.3400, -2.8646]]),\n",
       "       ),\n",
       ")"
      ]
     },
     "execution_count": 9,
     "metadata": {},
     "output_type": "execute_result"
    }
   ],
   "source": [
    "b"
   ]
  },
  {
   "cell_type": "code",
   "execution_count": 10,
   "id": "43ef8ea3",
   "metadata": {
    "execution": {
     "iopub.execute_input": "2023-02-23T09:44:43.880569Z",
     "iopub.status.busy": "2023-02-23T09:44:43.880288Z",
     "iopub.status.idle": "2023-02-23T09:44:43.886845Z",
     "shell.execute_reply": "2023-02-23T09:44:43.885947Z"
    }
   },
   "outputs": [
    {
     "data": {
      "text/plain": [
       "tensor([[-0.5408,  1.2824, -3.0254],\n",
       "        [-0.3561,  0.5099, -1.3856]])"
      ]
     },
     "execution_count": 10,
     "metadata": {},
     "output_type": "execute_result"
    }
   ],
   "source": [
    "b.a"
   ]
  },
  {
   "cell_type": "code",
   "execution_count": 11,
   "id": "b785ab72",
   "metadata": {
    "execution": {
     "iopub.execute_input": "2023-02-23T09:44:43.890938Z",
     "iopub.status.busy": "2023-02-23T09:44:43.890354Z",
     "iopub.status.idle": "2023-02-23T09:44:50.145400Z",
     "shell.execute_reply": "2023-02-23T09:44:50.144188Z"
    }
   },
   "outputs": [
    {
     "name": "stdout",
     "output_type": "stream",
     "text": [
      "77.8 ns ± 2.32 ns per loop (mean ± std. dev. of 7 runs, 10,000,000 loops each)\n"
     ]
    }
   ],
   "source": [
    "%timeit b.a"
   ]
  },
  {
   "cell_type": "code",
   "execution_count": 12,
   "id": "ad54dc69",
   "metadata": {
    "execution": {
     "iopub.execute_input": "2023-02-23T09:44:50.149635Z",
     "iopub.status.busy": "2023-02-23T09:44:50.149190Z",
     "iopub.status.idle": "2023-02-23T09:44:50.158386Z",
     "shell.execute_reply": "2023-02-23T09:44:50.157243Z"
    }
   },
   "outputs": [
    {
     "data": {
      "text/plain": [
       "Batch(\n",
       "    a: tensor([[-0.0920, -0.2527, -1.4278],\n",
       "               [-0.1100,  0.6860, -0.5857]]),\n",
       "    x: Batch(\n",
       "           c: tensor([[-1.4677,  0.1053, -2.2673,  1.0475],\n",
       "                      [-1.1240,  1.2008,  1.7960,  0.2016],\n",
       "                      [ 0.4194, -1.5117,  0.3400, -2.8646]]),\n",
       "       ),\n",
       ")"
      ]
     },
     "execution_count": 12,
     "metadata": {},
     "output_type": "execute_result"
    }
   ],
   "source": [
    "new_value = torch.randn(2, 3)\n",
    "b.a = new_value\n",
    "\n",
    "b"
   ]
  },
  {
   "cell_type": "code",
   "execution_count": 13,
   "id": "29b1d0bf",
   "metadata": {
    "execution": {
     "iopub.execute_input": "2023-02-23T09:44:50.174319Z",
     "iopub.status.busy": "2023-02-23T09:44:50.173960Z",
     "iopub.status.idle": "2023-02-23T09:44:55.498025Z",
     "shell.execute_reply": "2023-02-23T09:44:55.496572Z"
    }
   },
   "outputs": [
    {
     "name": "stdout",
     "output_type": "stream",
     "text": [
      "651 ns ± 19.6 ns per loop (mean ± std. dev. of 7 runs, 1,000,000 loops each)\n"
     ]
    }
   ],
   "source": [
    "%timeit b.a = new_value"
   ]
  },
  {
   "cell_type": "markdown",
   "id": "b61ad1d0",
   "metadata": {},
   "source": [
    "## Initialization"
   ]
  },
  {
   "cell_type": "markdown",
   "id": "d70f0d54",
   "metadata": {},
   "source": [
    "### TreeValue's Initialization"
   ]
  },
  {
   "cell_type": "code",
   "execution_count": 14,
   "id": "d32a679b",
   "metadata": {
    "execution": {
     "iopub.execute_input": "2023-02-23T09:44:55.502116Z",
     "iopub.status.busy": "2023-02-23T09:44:55.501646Z",
     "iopub.status.idle": "2023-02-23T09:45:04.071290Z",
     "shell.execute_reply": "2023-02-23T09:45:04.070336Z"
    }
   },
   "outputs": [
    {
     "name": "stdout",
     "output_type": "stream",
     "text": [
      "1.04 µs ± 22.1 ns per loop (mean ± std. dev. of 7 runs, 1,000,000 loops each)\n"
     ]
    }
   ],
   "source": [
    "%timeit FastTreeValue(_TREE_DATA_1)"
   ]
  },
  {
   "cell_type": "markdown",
   "id": "24f3707b",
   "metadata": {},
   "source": [
    "### Tianshou Batch's Initialization"
   ]
  },
  {
   "cell_type": "code",
   "execution_count": 15,
   "id": "ac3958df",
   "metadata": {
    "execution": {
     "iopub.execute_input": "2023-02-23T09:45:04.076448Z",
     "iopub.status.busy": "2023-02-23T09:45:04.075200Z",
     "iopub.status.idle": "2023-02-23T09:45:15.299463Z",
     "shell.execute_reply": "2023-02-23T09:45:15.298348Z"
    }
   },
   "outputs": [
    {
     "name": "stdout",
     "output_type": "stream",
     "text": [
      "13.9 µs ± 905 ns per loop (mean ± std. dev. of 7 runs, 100,000 loops each)\n"
     ]
    }
   ],
   "source": [
    "%timeit Batch(**_TREE_DATA_1)"
   ]
  },
  {
   "cell_type": "markdown",
   "id": "1ab82e2d",
   "metadata": {},
   "source": [
    "## Deep Copy Operation"
   ]
  },
  {
   "cell_type": "code",
   "execution_count": 16,
   "id": "210a9442",
   "metadata": {
    "execution": {
     "iopub.execute_input": "2023-02-23T09:45:15.303552Z",
     "iopub.status.busy": "2023-02-23T09:45:15.303191Z",
     "iopub.status.idle": "2023-02-23T09:45:15.309067Z",
     "shell.execute_reply": "2023-02-23T09:45:15.307943Z"
    }
   },
   "outputs": [],
   "source": [
    "import copy"
   ]
  },
  {
   "cell_type": "markdown",
   "id": "5a736274",
   "metadata": {},
   "source": [
    "### Deep Copy of TreeValue"
   ]
  },
  {
   "cell_type": "code",
   "execution_count": 17,
   "id": "f9bcadd6",
   "metadata": {
    "execution": {
     "iopub.execute_input": "2023-02-23T09:45:15.313057Z",
     "iopub.status.busy": "2023-02-23T09:45:15.312765Z",
     "iopub.status.idle": "2023-02-23T09:45:17.832992Z",
     "shell.execute_reply": "2023-02-23T09:45:17.832114Z"
    }
   },
   "outputs": [
    {
     "name": "stdout",
     "output_type": "stream",
     "text": [
      "310 µs ± 17.7 µs per loop (mean ± std. dev. of 7 runs, 1,000 loops each)\n"
     ]
    }
   ],
   "source": [
    "t3 = FastTreeValue(_TREE_DATA_3)\n",
    "%timeit copy.deepcopy(t3)"
   ]
  },
  {
   "cell_type": "markdown",
   "id": "bf8be7ea",
   "metadata": {},
   "source": [
    "### Deep Copy of Tianshou Batch"
   ]
  },
  {
   "cell_type": "code",
   "execution_count": 18,
   "id": "91998e6f",
   "metadata": {
    "execution": {
     "iopub.execute_input": "2023-02-23T09:45:17.837042Z",
     "iopub.status.busy": "2023-02-23T09:45:17.836702Z",
     "iopub.status.idle": "2023-02-23T09:45:20.215881Z",
     "shell.execute_reply": "2023-02-23T09:45:20.214857Z"
    }
   },
   "outputs": [
    {
     "name": "stdout",
     "output_type": "stream",
     "text": [
      "290 µs ± 8.75 µs per loop (mean ± std. dev. of 7 runs, 1,000 loops each)\n"
     ]
    }
   ],
   "source": [
    "b3 = Batch(**_TREE_DATA_3)\n",
    "%timeit copy.deepcopy(b3)"
   ]
  },
  {
   "cell_type": "markdown",
   "id": "223162fb",
   "metadata": {},
   "source": [
    "## Stack, Concat and Split Operation"
   ]
  },
  {
   "cell_type": "markdown",
   "id": "85fa4a73",
   "metadata": {},
   "source": [
    "### Performance of TreeValue"
   ]
  },
  {
   "cell_type": "code",
   "execution_count": 19,
   "id": "a0c2b697",
   "metadata": {
    "execution": {
     "iopub.execute_input": "2023-02-23T09:45:20.219866Z",
     "iopub.status.busy": "2023-02-23T09:45:20.219543Z",
     "iopub.status.idle": "2023-02-23T09:45:20.224955Z",
     "shell.execute_reply": "2023-02-23T09:45:20.224075Z"
    }
   },
   "outputs": [],
   "source": [
    "trees = [FastTreeValue(_TREE_DATA_2) for _ in range(8)]"
   ]
  },
  {
   "cell_type": "code",
   "execution_count": 20,
   "id": "017ea5a5",
   "metadata": {
    "execution": {
     "iopub.execute_input": "2023-02-23T09:45:20.228518Z",
     "iopub.status.busy": "2023-02-23T09:45:20.228229Z",
     "iopub.status.idle": "2023-02-23T09:45:20.238102Z",
     "shell.execute_reply": "2023-02-23T09:45:20.236748Z"
    }
   },
   "outputs": [
    {
     "data": {
      "text/plain": [
       "<FastTreeValue 0x7f52d6522610>\n",
       "├── 'a' --> tensor([[[-0.5408,  1.2824, -3.0254],\n",
       "│                    [-0.3561,  0.5099, -1.3856]],\n",
       "│           \n",
       "│                   [[-0.5408,  1.2824, -3.0254],\n",
       "│                    [-0.3561,  0.5099, -1.3856]],\n",
       "│           \n",
       "│                   [[-0.5408,  1.2824, -3.0254],\n",
       "│                    [-0.3561,  0.5099, -1.3856]],\n",
       "│           \n",
       "│                   [[-0.5408,  1.2824, -3.0254],\n",
       "│                    [-0.3561,  0.5099, -1.3856]],\n",
       "│           \n",
       "│                   [[-0.5408,  1.2824, -3.0254],\n",
       "│                    [-0.3561,  0.5099, -1.3856]],\n",
       "│           \n",
       "│                   [[-0.5408,  1.2824, -3.0254],\n",
       "│                    [-0.3561,  0.5099, -1.3856]],\n",
       "│           \n",
       "│                   [[-0.5408,  1.2824, -3.0254],\n",
       "│                    [-0.3561,  0.5099, -1.3856]],\n",
       "│           \n",
       "│                   [[-0.5408,  1.2824, -3.0254],\n",
       "│                    [-0.3561,  0.5099, -1.3856]]])\n",
       "└── 'x' --> <FastTreeValue 0x7f52dd15f1c0>\n",
       "    └── 'c' --> tensor([[[-1.4677,  0.1053, -2.2673,  1.0475],\n",
       "                         [-1.1240,  1.2008,  1.7960,  0.2016],\n",
       "                         [ 0.4194, -1.5117,  0.3400, -2.8646]],\n",
       "                \n",
       "                        [[-1.4677,  0.1053, -2.2673,  1.0475],\n",
       "                         [-1.1240,  1.2008,  1.7960,  0.2016],\n",
       "                         [ 0.4194, -1.5117,  0.3400, -2.8646]],\n",
       "                \n",
       "                        [[-1.4677,  0.1053, -2.2673,  1.0475],\n",
       "                         [-1.1240,  1.2008,  1.7960,  0.2016],\n",
       "                         [ 0.4194, -1.5117,  0.3400, -2.8646]],\n",
       "                \n",
       "                        [[-1.4677,  0.1053, -2.2673,  1.0475],\n",
       "                         [-1.1240,  1.2008,  1.7960,  0.2016],\n",
       "                         [ 0.4194, -1.5117,  0.3400, -2.8646]],\n",
       "                \n",
       "                        [[-1.4677,  0.1053, -2.2673,  1.0475],\n",
       "                         [-1.1240,  1.2008,  1.7960,  0.2016],\n",
       "                         [ 0.4194, -1.5117,  0.3400, -2.8646]],\n",
       "                \n",
       "                        [[-1.4677,  0.1053, -2.2673,  1.0475],\n",
       "                         [-1.1240,  1.2008,  1.7960,  0.2016],\n",
       "                         [ 0.4194, -1.5117,  0.3400, -2.8646]],\n",
       "                \n",
       "                        [[-1.4677,  0.1053, -2.2673,  1.0475],\n",
       "                         [-1.1240,  1.2008,  1.7960,  0.2016],\n",
       "                         [ 0.4194, -1.5117,  0.3400, -2.8646]],\n",
       "                \n",
       "                        [[-1.4677,  0.1053, -2.2673,  1.0475],\n",
       "                         [-1.1240,  1.2008,  1.7960,  0.2016],\n",
       "                         [ 0.4194, -1.5117,  0.3400, -2.8646]]])"
      ]
     },
     "execution_count": 20,
     "metadata": {},
     "output_type": "execute_result"
    }
   ],
   "source": [
    "t_stack = FastTreeValue.func(subside=True)(torch.stack)\n",
    "\n",
    "t_stack(trees)"
   ]
  },
  {
   "cell_type": "code",
   "execution_count": 21,
   "id": "f8b3f415",
   "metadata": {
    "execution": {
     "iopub.execute_input": "2023-02-23T09:45:20.243252Z",
     "iopub.status.busy": "2023-02-23T09:45:20.242957Z",
     "iopub.status.idle": "2023-02-23T09:45:24.080063Z",
     "shell.execute_reply": "2023-02-23T09:45:24.078993Z"
    }
   },
   "outputs": [
    {
     "name": "stdout",
     "output_type": "stream",
     "text": [
      "47.1 µs ± 1.54 µs per loop (mean ± std. dev. of 7 runs, 10,000 loops each)\n"
     ]
    }
   ],
   "source": [
    "%timeit t_stack(trees)"
   ]
  },
  {
   "cell_type": "code",
   "execution_count": 22,
   "id": "94b56771",
   "metadata": {
    "execution": {
     "iopub.execute_input": "2023-02-23T09:45:24.083858Z",
     "iopub.status.busy": "2023-02-23T09:45:24.083542Z",
     "iopub.status.idle": "2023-02-23T09:45:24.095678Z",
     "shell.execute_reply": "2023-02-23T09:45:24.094352Z"
    }
   },
   "outputs": [
    {
     "data": {
      "text/plain": [
       "<FastTreeValue 0x7f52d658a4f0>\n",
       "├── 'a' --> tensor([[-0.5408,  1.2824, -3.0254],\n",
       "│                   [-0.3561,  0.5099, -1.3856],\n",
       "│                   [-0.5408,  1.2824, -3.0254],\n",
       "│                   [-0.3561,  0.5099, -1.3856],\n",
       "│                   [-0.5408,  1.2824, -3.0254],\n",
       "│                   [-0.3561,  0.5099, -1.3856],\n",
       "│                   [-0.5408,  1.2824, -3.0254],\n",
       "│                   [-0.3561,  0.5099, -1.3856],\n",
       "│                   [-0.5408,  1.2824, -3.0254],\n",
       "│                   [-0.3561,  0.5099, -1.3856],\n",
       "│                   [-0.5408,  1.2824, -3.0254],\n",
       "│                   [-0.3561,  0.5099, -1.3856],\n",
       "│                   [-0.5408,  1.2824, -3.0254],\n",
       "│                   [-0.3561,  0.5099, -1.3856],\n",
       "│                   [-0.5408,  1.2824, -3.0254],\n",
       "│                   [-0.3561,  0.5099, -1.3856]])\n",
       "└── 'x' --> <FastTreeValue 0x7f52d658afa0>\n",
       "    └── 'c' --> tensor([[-1.4677,  0.1053, -2.2673,  1.0475],\n",
       "                        [-1.1240,  1.2008,  1.7960,  0.2016],\n",
       "                        [ 0.4194, -1.5117,  0.3400, -2.8646],\n",
       "                        [-1.4677,  0.1053, -2.2673,  1.0475],\n",
       "                        [-1.1240,  1.2008,  1.7960,  0.2016],\n",
       "                        [ 0.4194, -1.5117,  0.3400, -2.8646],\n",
       "                        [-1.4677,  0.1053, -2.2673,  1.0475],\n",
       "                        [-1.1240,  1.2008,  1.7960,  0.2016],\n",
       "                        [ 0.4194, -1.5117,  0.3400, -2.8646],\n",
       "                        [-1.4677,  0.1053, -2.2673,  1.0475],\n",
       "                        [-1.1240,  1.2008,  1.7960,  0.2016],\n",
       "                        [ 0.4194, -1.5117,  0.3400, -2.8646],\n",
       "                        [-1.4677,  0.1053, -2.2673,  1.0475],\n",
       "                        [-1.1240,  1.2008,  1.7960,  0.2016],\n",
       "                        [ 0.4194, -1.5117,  0.3400, -2.8646],\n",
       "                        [-1.4677,  0.1053, -2.2673,  1.0475],\n",
       "                        [-1.1240,  1.2008,  1.7960,  0.2016],\n",
       "                        [ 0.4194, -1.5117,  0.3400, -2.8646],\n",
       "                        [-1.4677,  0.1053, -2.2673,  1.0475],\n",
       "                        [-1.1240,  1.2008,  1.7960,  0.2016],\n",
       "                        [ 0.4194, -1.5117,  0.3400, -2.8646],\n",
       "                        [-1.4677,  0.1053, -2.2673,  1.0475],\n",
       "                        [-1.1240,  1.2008,  1.7960,  0.2016],\n",
       "                        [ 0.4194, -1.5117,  0.3400, -2.8646]])"
      ]
     },
     "execution_count": 22,
     "metadata": {},
     "output_type": "execute_result"
    }
   ],
   "source": [
    "t_cat = FastTreeValue.func(subside=True)(torch.cat)\n",
    "\n",
    "t_cat(trees)"
   ]
  },
  {
   "cell_type": "code",
   "execution_count": 23,
   "id": "5e9c06a6",
   "metadata": {
    "execution": {
     "iopub.execute_input": "2023-02-23T09:45:24.098939Z",
     "iopub.status.busy": "2023-02-23T09:45:24.098643Z",
     "iopub.status.idle": "2023-02-23T09:45:27.448287Z",
     "shell.execute_reply": "2023-02-23T09:45:27.447315Z"
    }
   },
   "outputs": [
    {
     "name": "stdout",
     "output_type": "stream",
     "text": [
      "41.1 µs ± 1.34 µs per loop (mean ± std. dev. of 7 runs, 10,000 loops each)\n"
     ]
    }
   ],
   "source": [
    "%timeit t_cat(trees)"
   ]
  },
  {
   "cell_type": "code",
   "execution_count": 24,
   "id": "a3ab5c8f",
   "metadata": {
    "execution": {
     "iopub.execute_input": "2023-02-23T09:45:27.451983Z",
     "iopub.status.busy": "2023-02-23T09:45:27.451431Z",
     "iopub.status.idle": "2023-02-23T09:45:33.760640Z",
     "shell.execute_reply": "2023-02-23T09:45:33.759562Z"
    }
   },
   "outputs": [
    {
     "name": "stdout",
     "output_type": "stream",
     "text": [
      "77.5 µs ± 2.23 µs per loop (mean ± std. dev. of 7 runs, 10,000 loops each)\n"
     ]
    }
   ],
   "source": [
    "t_split = FastTreeValue.func(rise=True)(torch.split)\n",
    "tree = FastTreeValue({\n",
    "    'obs': torch.randn(8, 4, 84, 84),\n",
    "    'action': torch.randint(0, 6, size=(8, 1,)),\n",
    "    'reward': torch.rand(8, 1),\n",
    "})\n",
    "\n",
    "%timeit t_split(tree, 1)"
   ]
  },
  {
   "cell_type": "markdown",
   "id": "31c3ec0b",
   "metadata": {},
   "source": [
    "### Performance of Tianshou Batch"
   ]
  },
  {
   "cell_type": "code",
   "execution_count": 25,
   "id": "9ead828a",
   "metadata": {
    "execution": {
     "iopub.execute_input": "2023-02-23T09:45:33.764554Z",
     "iopub.status.busy": "2023-02-23T09:45:33.763910Z",
     "iopub.status.idle": "2023-02-23T09:45:33.774257Z",
     "shell.execute_reply": "2023-02-23T09:45:33.773383Z"
    }
   },
   "outputs": [
    {
     "data": {
      "text/plain": [
       "Batch(\n",
       "    a: tensor([[[-0.5408,  1.2824, -3.0254],\n",
       "                [-0.3561,  0.5099, -1.3856]],\n",
       "       \n",
       "               [[-0.5408,  1.2824, -3.0254],\n",
       "                [-0.3561,  0.5099, -1.3856]],\n",
       "       \n",
       "               [[-0.5408,  1.2824, -3.0254],\n",
       "                [-0.3561,  0.5099, -1.3856]],\n",
       "       \n",
       "               [[-0.5408,  1.2824, -3.0254],\n",
       "                [-0.3561,  0.5099, -1.3856]],\n",
       "       \n",
       "               [[-0.5408,  1.2824, -3.0254],\n",
       "                [-0.3561,  0.5099, -1.3856]],\n",
       "       \n",
       "               [[-0.5408,  1.2824, -3.0254],\n",
       "                [-0.3561,  0.5099, -1.3856]],\n",
       "       \n",
       "               [[-0.5408,  1.2824, -3.0254],\n",
       "                [-0.3561,  0.5099, -1.3856]],\n",
       "       \n",
       "               [[-0.5408,  1.2824, -3.0254],\n",
       "                [-0.3561,  0.5099, -1.3856]]]),\n",
       "    x: Batch(\n",
       "           c: tensor([[[-1.4677,  0.1053, -2.2673,  1.0475],\n",
       "                       [-1.1240,  1.2008,  1.7960,  0.2016],\n",
       "                       [ 0.4194, -1.5117,  0.3400, -2.8646]],\n",
       "              \n",
       "                      [[-1.4677,  0.1053, -2.2673,  1.0475],\n",
       "                       [-1.1240,  1.2008,  1.7960,  0.2016],\n",
       "                       [ 0.4194, -1.5117,  0.3400, -2.8646]],\n",
       "              \n",
       "                      [[-1.4677,  0.1053, -2.2673,  1.0475],\n",
       "                       [-1.1240,  1.2008,  1.7960,  0.2016],\n",
       "                       [ 0.4194, -1.5117,  0.3400, -2.8646]],\n",
       "              \n",
       "                      [[-1.4677,  0.1053, -2.2673,  1.0475],\n",
       "                       [-1.1240,  1.2008,  1.7960,  0.2016],\n",
       "                       [ 0.4194, -1.5117,  0.3400, -2.8646]],\n",
       "              \n",
       "                      [[-1.4677,  0.1053, -2.2673,  1.0475],\n",
       "                       [-1.1240,  1.2008,  1.7960,  0.2016],\n",
       "                       [ 0.4194, -1.5117,  0.3400, -2.8646]],\n",
       "              \n",
       "                      [[-1.4677,  0.1053, -2.2673,  1.0475],\n",
       "                       [-1.1240,  1.2008,  1.7960,  0.2016],\n",
       "                       [ 0.4194, -1.5117,  0.3400, -2.8646]],\n",
       "              \n",
       "                      [[-1.4677,  0.1053, -2.2673,  1.0475],\n",
       "                       [-1.1240,  1.2008,  1.7960,  0.2016],\n",
       "                       [ 0.4194, -1.5117,  0.3400, -2.8646]],\n",
       "              \n",
       "                      [[-1.4677,  0.1053, -2.2673,  1.0475],\n",
       "                       [-1.1240,  1.2008,  1.7960,  0.2016],\n",
       "                       [ 0.4194, -1.5117,  0.3400, -2.8646]]]),\n",
       "       ),\n",
       ")"
      ]
     },
     "execution_count": 25,
     "metadata": {},
     "output_type": "execute_result"
    }
   ],
   "source": [
    "batches = [Batch(**_TREE_DATA_2) for _ in range(8)]\n",
    "\n",
    "Batch.stack(batches)"
   ]
  },
  {
   "cell_type": "code",
   "execution_count": 26,
   "id": "ec9037a3",
   "metadata": {
    "execution": {
     "iopub.execute_input": "2023-02-23T09:45:33.777691Z",
     "iopub.status.busy": "2023-02-23T09:45:33.777186Z",
     "iopub.status.idle": "2023-02-23T09:45:42.120470Z",
     "shell.execute_reply": "2023-02-23T09:45:42.119160Z"
    }
   },
   "outputs": [
    {
     "name": "stdout",
     "output_type": "stream",
     "text": [
      "103 µs ± 1.75 µs per loop (mean ± std. dev. of 7 runs, 10,000 loops each)\n"
     ]
    }
   ],
   "source": [
    "%timeit Batch.stack(batches)"
   ]
  },
  {
   "cell_type": "code",
   "execution_count": 27,
   "id": "cb8ab77e",
   "metadata": {
    "execution": {
     "iopub.execute_input": "2023-02-23T09:45:42.124324Z",
     "iopub.status.busy": "2023-02-23T09:45:42.123886Z",
     "iopub.status.idle": "2023-02-23T09:45:42.134001Z",
     "shell.execute_reply": "2023-02-23T09:45:42.133067Z"
    }
   },
   "outputs": [
    {
     "data": {
      "text/plain": [
       "Batch(\n",
       "    a: tensor([[-0.5408,  1.2824, -3.0254],\n",
       "               [-0.3561,  0.5099, -1.3856],\n",
       "               [-0.5408,  1.2824, -3.0254],\n",
       "               [-0.3561,  0.5099, -1.3856],\n",
       "               [-0.5408,  1.2824, -3.0254],\n",
       "               [-0.3561,  0.5099, -1.3856],\n",
       "               [-0.5408,  1.2824, -3.0254],\n",
       "               [-0.3561,  0.5099, -1.3856],\n",
       "               [-0.5408,  1.2824, -3.0254],\n",
       "               [-0.3561,  0.5099, -1.3856],\n",
       "               [-0.5408,  1.2824, -3.0254],\n",
       "               [-0.3561,  0.5099, -1.3856],\n",
       "               [-0.5408,  1.2824, -3.0254],\n",
       "               [-0.3561,  0.5099, -1.3856],\n",
       "               [-0.5408,  1.2824, -3.0254],\n",
       "               [-0.3561,  0.5099, -1.3856]]),\n",
       "    x: Batch(\n",
       "           c: tensor([[-1.4677,  0.1053, -2.2673,  1.0475],\n",
       "                      [-1.1240,  1.2008,  1.7960,  0.2016],\n",
       "                      [ 0.4194, -1.5117,  0.3400, -2.8646],\n",
       "                      [-1.4677,  0.1053, -2.2673,  1.0475],\n",
       "                      [-1.1240,  1.2008,  1.7960,  0.2016],\n",
       "                      [ 0.4194, -1.5117,  0.3400, -2.8646],\n",
       "                      [-1.4677,  0.1053, -2.2673,  1.0475],\n",
       "                      [-1.1240,  1.2008,  1.7960,  0.2016],\n",
       "                      [ 0.4194, -1.5117,  0.3400, -2.8646],\n",
       "                      [-1.4677,  0.1053, -2.2673,  1.0475],\n",
       "                      [-1.1240,  1.2008,  1.7960,  0.2016],\n",
       "                      [ 0.4194, -1.5117,  0.3400, -2.8646],\n",
       "                      [-1.4677,  0.1053, -2.2673,  1.0475],\n",
       "                      [-1.1240,  1.2008,  1.7960,  0.2016],\n",
       "                      [ 0.4194, -1.5117,  0.3400, -2.8646],\n",
       "                      [-1.4677,  0.1053, -2.2673,  1.0475],\n",
       "                      [-1.1240,  1.2008,  1.7960,  0.2016],\n",
       "                      [ 0.4194, -1.5117,  0.3400, -2.8646],\n",
       "                      [-1.4677,  0.1053, -2.2673,  1.0475],\n",
       "                      [-1.1240,  1.2008,  1.7960,  0.2016],\n",
       "                      [ 0.4194, -1.5117,  0.3400, -2.8646],\n",
       "                      [-1.4677,  0.1053, -2.2673,  1.0475],\n",
       "                      [-1.1240,  1.2008,  1.7960,  0.2016],\n",
       "                      [ 0.4194, -1.5117,  0.3400, -2.8646]]),\n",
       "       ),\n",
       ")"
      ]
     },
     "execution_count": 27,
     "metadata": {},
     "output_type": "execute_result"
    }
   ],
   "source": [
    "Batch.cat(batches)"
   ]
  },
  {
   "cell_type": "code",
   "execution_count": 28,
   "id": "18dfb045",
   "metadata": {
    "execution": {
     "iopub.execute_input": "2023-02-23T09:45:42.137458Z",
     "iopub.status.busy": "2023-02-23T09:45:42.136980Z",
     "iopub.status.idle": "2023-02-23T09:45:57.258010Z",
     "shell.execute_reply": "2023-02-23T09:45:57.256933Z"
    }
   },
   "outputs": [
    {
     "name": "stdout",
     "output_type": "stream",
     "text": [
      "185 µs ± 2.12 µs per loop (mean ± std. dev. of 7 runs, 10,000 loops each)\n"
     ]
    }
   ],
   "source": [
    "%timeit Batch.cat(batches)"
   ]
  },
  {
   "cell_type": "code",
   "execution_count": 29,
   "id": "c6688e51",
   "metadata": {
    "execution": {
     "iopub.execute_input": "2023-02-23T09:45:57.262107Z",
     "iopub.status.busy": "2023-02-23T09:45:57.261270Z",
     "iopub.status.idle": "2023-02-23T09:46:02.039778Z",
     "shell.execute_reply": "2023-02-23T09:46:02.038951Z"
    }
   },
   "outputs": [
    {
     "name": "stdout",
     "output_type": "stream",
     "text": [
      "586 µs ± 18.8 µs per loop (mean ± std. dev. of 7 runs, 1,000 loops each)\n"
     ]
    }
   ],
   "source": [
    "batch = Batch({\n",
    "    'obs': torch.randn(8, 4, 84, 84),\n",
    "    'action': torch.randint(0, 6, size=(8, 1,)),\n",
    "    'reward': torch.rand(8, 1)}\n",
    ")\n",
    "\n",
    "%timeit list(Batch.split(batch, 1, shuffle=False, merge_last=True))"
   ]
  },
  {
   "cell_type": "code",
   "execution_count": null,
   "id": "2539fbd9",
   "metadata": {},
   "outputs": [],
   "source": []
  }
 ],
 "metadata": {
  "kernelspec": {
   "display_name": "Python 3 (ipykernel)",
   "language": "python",
   "name": "python3"
  },
  "language_info": {
   "codemirror_mode": {
    "name": "ipython",
    "version": 3
   },
   "file_extension": ".py",
   "mimetype": "text/x-python",
   "name": "python",
   "nbconvert_exporter": "python",
   "pygments_lexer": "ipython3",
   "version": "3.8.16"
  }
 },
 "nbformat": 4,
 "nbformat_minor": 5
}
