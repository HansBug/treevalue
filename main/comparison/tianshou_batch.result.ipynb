{
 "cells": [
  {
   "cell_type": "markdown",
   "id": "9d39d946",
   "metadata": {},
   "source": [
    "# Comparison Between TreeValue and Tianshou Batch"
   ]
  },
  {
   "cell_type": "markdown",
   "id": "3c6db2d4",
   "metadata": {},
   "source": [
    "In this section, we will take a look at the feature and performance of the [Tianshou Batch](https://github.com/thu-ml/tianshou) library, which is developed by Tsinghua Machine Learning Group."
   ]
  },
  {
   "cell_type": "markdown",
   "id": "069361b0",
   "metadata": {},
   "source": [
    "Before starting the comparison, let us define some thing."
   ]
  },
  {
   "cell_type": "code",
   "execution_count": 1,
   "id": "06fc8d26",
   "metadata": {
    "execution": {
     "iopub.execute_input": "2023-02-25T18:22:43.623664Z",
     "iopub.status.busy": "2023-02-25T18:22:43.623339Z",
     "iopub.status.idle": "2023-02-25T18:22:44.545988Z",
     "shell.execute_reply": "2023-02-25T18:22:44.545303Z"
    }
   },
   "outputs": [
    {
     "name": "stderr",
     "output_type": "stream",
     "text": [
      "/opt/hostedtoolcache/Python/3.8.16/x64/lib/python3.8/site-packages/tqdm/auto.py:22: TqdmWarning: IProgress not found. Please update jupyter and ipywidgets. See https://ipywidgets.readthedocs.io/en/stable/user_install.html\n",
      "  from .autonotebook import tqdm as notebook_tqdm\n"
     ]
    }
   ],
   "source": [
    "import torch \n",
    "\n",
    "_TREE_DATA_1 = {'a': 1, 'b': 2, 'x': {'c': 3, 'd': 4}}\n",
    "_TREE_DATA_2 = {\n",
    "    'a': torch.randn(2, 3), \n",
    "    'x': {\n",
    "        'c': torch.randn(3, 4)\n",
    "    },\n",
    "}\n",
    "_TREE_DATA_3 = {\n",
    "    'obs': torch.randn(4, 84, 84),\n",
    "    'action': torch.randint(0, 6, size=(1,)),\n",
    "    'reward': torch.rand(1),\n",
    "}"
   ]
  },
  {
   "cell_type": "markdown",
   "id": "83461b25",
   "metadata": {},
   "source": [
    "## Read and Write Operation"
   ]
  },
  {
   "cell_type": "markdown",
   "id": "067b3f73",
   "metadata": {},
   "source": [
    "Reading and writing are the two most common operations in the tree data structure based on the data model (TreeValue and Tianshou Batch both belong to this type), so this section will compare the reading and writing performance of these two libraries."
   ]
  },
  {
   "cell_type": "markdown",
   "id": "5d09a5b7",
   "metadata": {},
   "source": [
    "### TreeValue's Get and Set"
   ]
  },
  {
   "cell_type": "code",
   "execution_count": 2,
   "id": "9519c4bb",
   "metadata": {
    "execution": {
     "iopub.execute_input": "2023-02-25T18:22:44.549428Z",
     "iopub.status.busy": "2023-02-25T18:22:44.548841Z",
     "iopub.status.idle": "2023-02-25T18:22:44.582168Z",
     "shell.execute_reply": "2023-02-25T18:22:44.581509Z"
    }
   },
   "outputs": [],
   "source": [
    "from treevalue import FastTreeValue\n",
    "\n",
    "t = FastTreeValue(_TREE_DATA_2)"
   ]
  },
  {
   "cell_type": "code",
   "execution_count": 3,
   "id": "11c37677",
   "metadata": {
    "execution": {
     "iopub.execute_input": "2023-02-25T18:22:44.585490Z",
     "iopub.status.busy": "2023-02-25T18:22:44.585110Z",
     "iopub.status.idle": "2023-02-25T18:22:44.594358Z",
     "shell.execute_reply": "2023-02-25T18:22:44.593664Z"
    }
   },
   "outputs": [
    {
     "data": {
      "text/plain": [
       "<FastTreeValue 0x7fba08dbbf70>\n",
       "├── 'a' --> tensor([[ 0.9744, -0.0388, -2.8178],\n",
       "│                   [ 0.1900,  0.7581,  0.9392]])\n",
       "└── 'x' --> <FastTreeValue 0x7fba08dbbe50>\n",
       "    └── 'c' --> tensor([[-1.0762, -0.0587, -0.4884,  0.7352],\n",
       "                        [ 0.6031,  1.4878,  0.2406,  0.2176],\n",
       "                        [-0.7667, -0.2524,  0.0169, -0.8929]])"
      ]
     },
     "execution_count": 3,
     "metadata": {},
     "output_type": "execute_result"
    }
   ],
   "source": [
    "t"
   ]
  },
  {
   "cell_type": "code",
   "execution_count": 4,
   "id": "fd70b0b9",
   "metadata": {
    "execution": {
     "iopub.execute_input": "2023-02-25T18:22:44.597295Z",
     "iopub.status.busy": "2023-02-25T18:22:44.596938Z",
     "iopub.status.idle": "2023-02-25T18:22:44.601749Z",
     "shell.execute_reply": "2023-02-25T18:22:44.601091Z"
    }
   },
   "outputs": [
    {
     "data": {
      "text/plain": [
       "tensor([[ 0.9744, -0.0388, -2.8178],\n",
       "        [ 0.1900,  0.7581,  0.9392]])"
      ]
     },
     "execution_count": 4,
     "metadata": {},
     "output_type": "execute_result"
    }
   ],
   "source": [
    "t.a"
   ]
  },
  {
   "cell_type": "code",
   "execution_count": 5,
   "id": "c18197bd",
   "metadata": {
    "execution": {
     "iopub.execute_input": "2023-02-25T18:22:44.604848Z",
     "iopub.status.busy": "2023-02-25T18:22:44.604320Z",
     "iopub.status.idle": "2023-02-25T18:22:49.674701Z",
     "shell.execute_reply": "2023-02-25T18:22:49.673222Z"
    }
   },
   "outputs": [
    {
     "name": "stdout",
     "output_type": "stream",
     "text": [
      "62.5 ns ± 0.0553 ns per loop (mean ± std. dev. of 7 runs, 10,000,000 loops each)\n"
     ]
    }
   ],
   "source": [
    "%timeit t.a"
   ]
  },
  {
   "cell_type": "code",
   "execution_count": 6,
   "id": "bd52f867",
   "metadata": {
    "execution": {
     "iopub.execute_input": "2023-02-25T18:22:49.678025Z",
     "iopub.status.busy": "2023-02-25T18:22:49.677449Z",
     "iopub.status.idle": "2023-02-25T18:22:49.684049Z",
     "shell.execute_reply": "2023-02-25T18:22:49.683467Z"
    }
   },
   "outputs": [
    {
     "data": {
      "text/plain": [
       "<FastTreeValue 0x7fba08dbbf70>\n",
       "├── 'a' --> tensor([[ 0.3637, -0.3247, -0.1585],\n",
       "│                   [ 0.7339, -0.8902,  0.8039]])\n",
       "└── 'x' --> <FastTreeValue 0x7fba08dbbe50>\n",
       "    └── 'c' --> tensor([[-1.0762, -0.0587, -0.4884,  0.7352],\n",
       "                        [ 0.6031,  1.4878,  0.2406,  0.2176],\n",
       "                        [-0.7667, -0.2524,  0.0169, -0.8929]])"
      ]
     },
     "execution_count": 6,
     "metadata": {},
     "output_type": "execute_result"
    }
   ],
   "source": [
    "new_value = torch.randn(2, 3)\n",
    "t.a = new_value\n",
    "\n",
    "t"
   ]
  },
  {
   "cell_type": "code",
   "execution_count": 7,
   "id": "bbe04d1c",
   "metadata": {
    "execution": {
     "iopub.execute_input": "2023-02-25T18:22:49.686485Z",
     "iopub.status.busy": "2023-02-25T18:22:49.686141Z",
     "iopub.status.idle": "2023-02-25T18:22:54.500744Z",
     "shell.execute_reply": "2023-02-25T18:22:54.499998Z"
    }
   },
   "outputs": [
    {
     "name": "stdout",
     "output_type": "stream",
     "text": [
      "59.4 ns ± 0.0351 ns per loop (mean ± std. dev. of 7 runs, 10,000,000 loops each)\n"
     ]
    }
   ],
   "source": [
    "%timeit t.a = new_value"
   ]
  },
  {
   "cell_type": "markdown",
   "id": "48c49731",
   "metadata": {},
   "source": [
    "### Tianshou Batch's Get and Set"
   ]
  },
  {
   "cell_type": "code",
   "execution_count": 8,
   "id": "f1bb14c1",
   "metadata": {
    "execution": {
     "iopub.execute_input": "2023-02-25T18:22:54.504028Z",
     "iopub.status.busy": "2023-02-25T18:22:54.503546Z",
     "iopub.status.idle": "2023-02-25T18:22:54.840820Z",
     "shell.execute_reply": "2023-02-25T18:22:54.840152Z"
    }
   },
   "outputs": [],
   "source": [
    "from tianshou.data import Batch\n",
    "\n",
    "b = Batch(**_TREE_DATA_2)"
   ]
  },
  {
   "cell_type": "code",
   "execution_count": 9,
   "id": "cb0777c3",
   "metadata": {
    "execution": {
     "iopub.execute_input": "2023-02-25T18:22:54.843856Z",
     "iopub.status.busy": "2023-02-25T18:22:54.843405Z",
     "iopub.status.idle": "2023-02-25T18:22:54.849993Z",
     "shell.execute_reply": "2023-02-25T18:22:54.849326Z"
    }
   },
   "outputs": [
    {
     "data": {
      "text/plain": [
       "Batch(\n",
       "    a: tensor([[ 0.9744, -0.0388, -2.8178],\n",
       "               [ 0.1900,  0.7581,  0.9392]]),\n",
       "    x: Batch(\n",
       "           c: tensor([[-1.0762, -0.0587, -0.4884,  0.7352],\n",
       "                      [ 0.6031,  1.4878,  0.2406,  0.2176],\n",
       "                      [-0.7667, -0.2524,  0.0169, -0.8929]]),\n",
       "       ),\n",
       ")"
      ]
     },
     "execution_count": 9,
     "metadata": {},
     "output_type": "execute_result"
    }
   ],
   "source": [
    "b"
   ]
  },
  {
   "cell_type": "code",
   "execution_count": 10,
   "id": "43ef8ea3",
   "metadata": {
    "execution": {
     "iopub.execute_input": "2023-02-25T18:22:54.852407Z",
     "iopub.status.busy": "2023-02-25T18:22:54.852198Z",
     "iopub.status.idle": "2023-02-25T18:22:54.857633Z",
     "shell.execute_reply": "2023-02-25T18:22:54.857051Z"
    }
   },
   "outputs": [
    {
     "data": {
      "text/plain": [
       "tensor([[ 0.9744, -0.0388, -2.8178],\n",
       "        [ 0.1900,  0.7581,  0.9392]])"
      ]
     },
     "execution_count": 10,
     "metadata": {},
     "output_type": "execute_result"
    }
   ],
   "source": [
    "b.a"
   ]
  },
  {
   "cell_type": "code",
   "execution_count": 11,
   "id": "b785ab72",
   "metadata": {
    "execution": {
     "iopub.execute_input": "2023-02-25T18:22:54.860560Z",
     "iopub.status.busy": "2023-02-25T18:22:54.860057Z",
     "iopub.status.idle": "2023-02-25T18:22:59.553724Z",
     "shell.execute_reply": "2023-02-25T18:22:59.552996Z"
    }
   },
   "outputs": [
    {
     "name": "stdout",
     "output_type": "stream",
     "text": [
      "57.7 ns ± 0.0241 ns per loop (mean ± std. dev. of 7 runs, 10,000,000 loops each)\n"
     ]
    }
   ],
   "source": [
    "%timeit b.a"
   ]
  },
  {
   "cell_type": "code",
   "execution_count": 12,
   "id": "ad54dc69",
   "metadata": {
    "execution": {
     "iopub.execute_input": "2023-02-25T18:22:59.557050Z",
     "iopub.status.busy": "2023-02-25T18:22:59.556419Z",
     "iopub.status.idle": "2023-02-25T18:22:59.562915Z",
     "shell.execute_reply": "2023-02-25T18:22:59.562312Z"
    }
   },
   "outputs": [
    {
     "data": {
      "text/plain": [
       "Batch(\n",
       "    a: tensor([[ 0.9947,  0.1729,  0.8225],\n",
       "               [ 1.3930, -0.4951, -1.2064]]),\n",
       "    x: Batch(\n",
       "           c: tensor([[-1.0762, -0.0587, -0.4884,  0.7352],\n",
       "                      [ 0.6031,  1.4878,  0.2406,  0.2176],\n",
       "                      [-0.7667, -0.2524,  0.0169, -0.8929]]),\n",
       "       ),\n",
       ")"
      ]
     },
     "execution_count": 12,
     "metadata": {},
     "output_type": "execute_result"
    }
   ],
   "source": [
    "new_value = torch.randn(2, 3)\n",
    "b.a = new_value\n",
    "\n",
    "b"
   ]
  },
  {
   "cell_type": "code",
   "execution_count": 13,
   "id": "29b1d0bf",
   "metadata": {
    "execution": {
     "iopub.execute_input": "2023-02-25T18:22:59.565400Z",
     "iopub.status.busy": "2023-02-25T18:22:59.565057Z",
     "iopub.status.idle": "2023-02-25T18:23:03.577173Z",
     "shell.execute_reply": "2023-02-25T18:23:03.576425Z"
    }
   },
   "outputs": [
    {
     "name": "stdout",
     "output_type": "stream",
     "text": [
      "495 ns ± 0.326 ns per loop (mean ± std. dev. of 7 runs, 1,000,000 loops each)\n"
     ]
    }
   ],
   "source": [
    "%timeit b.a = new_value"
   ]
  },
  {
   "cell_type": "markdown",
   "id": "b61ad1d0",
   "metadata": {},
   "source": [
    "## Initialization"
   ]
  },
  {
   "cell_type": "markdown",
   "id": "d70f0d54",
   "metadata": {},
   "source": [
    "### TreeValue's Initialization"
   ]
  },
  {
   "cell_type": "code",
   "execution_count": 14,
   "id": "d32a679b",
   "metadata": {
    "execution": {
     "iopub.execute_input": "2023-02-25T18:23:03.580502Z",
     "iopub.status.busy": "2023-02-25T18:23:03.579970Z",
     "iopub.status.idle": "2023-02-25T18:23:10.374200Z",
     "shell.execute_reply": "2023-02-25T18:23:10.373488Z"
    }
   },
   "outputs": [
    {
     "name": "stdout",
     "output_type": "stream",
     "text": [
      "837 ns ± 0.973 ns per loop (mean ± std. dev. of 7 runs, 1,000,000 loops each)\n"
     ]
    }
   ],
   "source": [
    "%timeit FastTreeValue(_TREE_DATA_1)"
   ]
  },
  {
   "cell_type": "markdown",
   "id": "24f3707b",
   "metadata": {},
   "source": [
    "### Tianshou Batch's Initialization"
   ]
  },
  {
   "cell_type": "code",
   "execution_count": 15,
   "id": "ac3958df",
   "metadata": {
    "execution": {
     "iopub.execute_input": "2023-02-25T18:23:10.377420Z",
     "iopub.status.busy": "2023-02-25T18:23:10.376840Z",
     "iopub.status.idle": "2023-02-25T18:23:19.683159Z",
     "shell.execute_reply": "2023-02-25T18:23:19.682479Z"
    }
   },
   "outputs": [
    {
     "name": "stdout",
     "output_type": "stream",
     "text": [
      "11.5 µs ± 25.4 ns per loop (mean ± std. dev. of 7 runs, 100,000 loops each)\n"
     ]
    }
   ],
   "source": [
    "%timeit Batch(**_TREE_DATA_1)"
   ]
  },
  {
   "cell_type": "markdown",
   "id": "1ab82e2d",
   "metadata": {},
   "source": [
    "## Deep Copy Operation"
   ]
  },
  {
   "cell_type": "code",
   "execution_count": 16,
   "id": "210a9442",
   "metadata": {
    "execution": {
     "iopub.execute_input": "2023-02-25T18:23:19.686112Z",
     "iopub.status.busy": "2023-02-25T18:23:19.685569Z",
     "iopub.status.idle": "2023-02-25T18:23:19.689950Z",
     "shell.execute_reply": "2023-02-25T18:23:19.689031Z"
    }
   },
   "outputs": [],
   "source": [
    "import copy"
   ]
  },
  {
   "cell_type": "markdown",
   "id": "5a736274",
   "metadata": {},
   "source": [
    "### Deep Copy of TreeValue"
   ]
  },
  {
   "cell_type": "code",
   "execution_count": 17,
   "id": "f9bcadd6",
   "metadata": {
    "execution": {
     "iopub.execute_input": "2023-02-25T18:23:19.692479Z",
     "iopub.status.busy": "2023-02-25T18:23:19.692173Z",
     "iopub.status.idle": "2023-02-25T18:23:30.862945Z",
     "shell.execute_reply": "2023-02-25T18:23:30.862357Z"
    }
   },
   "outputs": [
    {
     "name": "stdout",
     "output_type": "stream",
     "text": [
      "138 µs ± 410 ns per loop (mean ± std. dev. of 7 runs, 10,000 loops each)\n"
     ]
    }
   ],
   "source": [
    "t3 = FastTreeValue(_TREE_DATA_3)\n",
    "%timeit copy.deepcopy(t3)"
   ]
  },
  {
   "cell_type": "markdown",
   "id": "bf8be7ea",
   "metadata": {},
   "source": [
    "### Deep Copy of Tianshou Batch"
   ]
  },
  {
   "cell_type": "code",
   "execution_count": 18,
   "id": "91998e6f",
   "metadata": {
    "execution": {
     "iopub.execute_input": "2023-02-25T18:23:30.867699Z",
     "iopub.status.busy": "2023-02-25T18:23:30.867328Z",
     "iopub.status.idle": "2023-02-25T18:23:42.316439Z",
     "shell.execute_reply": "2023-02-25T18:23:42.315888Z"
    }
   },
   "outputs": [
    {
     "name": "stdout",
     "output_type": "stream",
     "text": [
      "141 µs ± 431 ns per loop (mean ± std. dev. of 7 runs, 10,000 loops each)\n"
     ]
    }
   ],
   "source": [
    "b3 = Batch(**_TREE_DATA_3)\n",
    "%timeit copy.deepcopy(b3)"
   ]
  },
  {
   "cell_type": "markdown",
   "id": "223162fb",
   "metadata": {},
   "source": [
    "## Stack, Concat and Split Operation"
   ]
  },
  {
   "cell_type": "markdown",
   "id": "85fa4a73",
   "metadata": {},
   "source": [
    "### Performance of TreeValue"
   ]
  },
  {
   "cell_type": "code",
   "execution_count": 19,
   "id": "a0c2b697",
   "metadata": {
    "execution": {
     "iopub.execute_input": "2023-02-25T18:23:42.319346Z",
     "iopub.status.busy": "2023-02-25T18:23:42.318995Z",
     "iopub.status.idle": "2023-02-25T18:23:42.322049Z",
     "shell.execute_reply": "2023-02-25T18:23:42.321523Z"
    }
   },
   "outputs": [],
   "source": [
    "trees = [FastTreeValue(_TREE_DATA_2) for _ in range(8)]"
   ]
  },
  {
   "cell_type": "code",
   "execution_count": 20,
   "id": "017ea5a5",
   "metadata": {
    "execution": {
     "iopub.execute_input": "2023-02-25T18:23:42.324508Z",
     "iopub.status.busy": "2023-02-25T18:23:42.324160Z",
     "iopub.status.idle": "2023-02-25T18:23:42.330880Z",
     "shell.execute_reply": "2023-02-25T18:23:42.330369Z"
    }
   },
   "outputs": [
    {
     "data": {
      "text/plain": [
       "<FastTreeValue 0x7fba08d5ac70>\n",
       "├── 'a' --> tensor([[[ 0.9744, -0.0388, -2.8178],\n",
       "│                    [ 0.1900,  0.7581,  0.9392]],\n",
       "│           \n",
       "│                   [[ 0.9744, -0.0388, -2.8178],\n",
       "│                    [ 0.1900,  0.7581,  0.9392]],\n",
       "│           \n",
       "│                   [[ 0.9744, -0.0388, -2.8178],\n",
       "│                    [ 0.1900,  0.7581,  0.9392]],\n",
       "│           \n",
       "│                   [[ 0.9744, -0.0388, -2.8178],\n",
       "│                    [ 0.1900,  0.7581,  0.9392]],\n",
       "│           \n",
       "│                   [[ 0.9744, -0.0388, -2.8178],\n",
       "│                    [ 0.1900,  0.7581,  0.9392]],\n",
       "│           \n",
       "│                   [[ 0.9744, -0.0388, -2.8178],\n",
       "│                    [ 0.1900,  0.7581,  0.9392]],\n",
       "│           \n",
       "│                   [[ 0.9744, -0.0388, -2.8178],\n",
       "│                    [ 0.1900,  0.7581,  0.9392]],\n",
       "│           \n",
       "│                   [[ 0.9744, -0.0388, -2.8178],\n",
       "│                    [ 0.1900,  0.7581,  0.9392]]])\n",
       "└── 'x' --> <FastTreeValue 0x7fba08d5abb0>\n",
       "    └── 'c' --> tensor([[[-1.0762, -0.0587, -0.4884,  0.7352],\n",
       "                         [ 0.6031,  1.4878,  0.2406,  0.2176],\n",
       "                         [-0.7667, -0.2524,  0.0169, -0.8929]],\n",
       "                \n",
       "                        [[-1.0762, -0.0587, -0.4884,  0.7352],\n",
       "                         [ 0.6031,  1.4878,  0.2406,  0.2176],\n",
       "                         [-0.7667, -0.2524,  0.0169, -0.8929]],\n",
       "                \n",
       "                        [[-1.0762, -0.0587, -0.4884,  0.7352],\n",
       "                         [ 0.6031,  1.4878,  0.2406,  0.2176],\n",
       "                         [-0.7667, -0.2524,  0.0169, -0.8929]],\n",
       "                \n",
       "                        [[-1.0762, -0.0587, -0.4884,  0.7352],\n",
       "                         [ 0.6031,  1.4878,  0.2406,  0.2176],\n",
       "                         [-0.7667, -0.2524,  0.0169, -0.8929]],\n",
       "                \n",
       "                        [[-1.0762, -0.0587, -0.4884,  0.7352],\n",
       "                         [ 0.6031,  1.4878,  0.2406,  0.2176],\n",
       "                         [-0.7667, -0.2524,  0.0169, -0.8929]],\n",
       "                \n",
       "                        [[-1.0762, -0.0587, -0.4884,  0.7352],\n",
       "                         [ 0.6031,  1.4878,  0.2406,  0.2176],\n",
       "                         [-0.7667, -0.2524,  0.0169, -0.8929]],\n",
       "                \n",
       "                        [[-1.0762, -0.0587, -0.4884,  0.7352],\n",
       "                         [ 0.6031,  1.4878,  0.2406,  0.2176],\n",
       "                         [-0.7667, -0.2524,  0.0169, -0.8929]],\n",
       "                \n",
       "                        [[-1.0762, -0.0587, -0.4884,  0.7352],\n",
       "                         [ 0.6031,  1.4878,  0.2406,  0.2176],\n",
       "                         [-0.7667, -0.2524,  0.0169, -0.8929]]])"
      ]
     },
     "execution_count": 20,
     "metadata": {},
     "output_type": "execute_result"
    }
   ],
   "source": [
    "t_stack = FastTreeValue.func(subside=True)(torch.stack)\n",
    "\n",
    "t_stack(trees)"
   ]
  },
  {
   "cell_type": "code",
   "execution_count": 21,
   "id": "f8b3f415",
   "metadata": {
    "execution": {
     "iopub.execute_input": "2023-02-25T18:23:42.333312Z",
     "iopub.status.busy": "2023-02-25T18:23:42.332978Z",
     "iopub.status.idle": "2023-02-25T18:23:44.976457Z",
     "shell.execute_reply": "2023-02-25T18:23:44.975696Z"
    }
   },
   "outputs": [
    {
     "name": "stdout",
     "output_type": "stream",
     "text": [
      "32.5 µs ± 92.8 ns per loop (mean ± std. dev. of 7 runs, 10,000 loops each)\n"
     ]
    }
   ],
   "source": [
    "%timeit t_stack(trees)"
   ]
  },
  {
   "cell_type": "code",
   "execution_count": 22,
   "id": "94b56771",
   "metadata": {
    "execution": {
     "iopub.execute_input": "2023-02-25T18:23:44.979772Z",
     "iopub.status.busy": "2023-02-25T18:23:44.979173Z",
     "iopub.status.idle": "2023-02-25T18:23:44.987049Z",
     "shell.execute_reply": "2023-02-25T18:23:44.986471Z"
    }
   },
   "outputs": [
    {
     "data": {
      "text/plain": [
       "<FastTreeValue 0x7fb95ba0da00>\n",
       "├── 'a' --> tensor([[ 0.9744, -0.0388, -2.8178],\n",
       "│                   [ 0.1900,  0.7581,  0.9392],\n",
       "│                   [ 0.9744, -0.0388, -2.8178],\n",
       "│                   [ 0.1900,  0.7581,  0.9392],\n",
       "│                   [ 0.9744, -0.0388, -2.8178],\n",
       "│                   [ 0.1900,  0.7581,  0.9392],\n",
       "│                   [ 0.9744, -0.0388, -2.8178],\n",
       "│                   [ 0.1900,  0.7581,  0.9392],\n",
       "│                   [ 0.9744, -0.0388, -2.8178],\n",
       "│                   [ 0.1900,  0.7581,  0.9392],\n",
       "│                   [ 0.9744, -0.0388, -2.8178],\n",
       "│                   [ 0.1900,  0.7581,  0.9392],\n",
       "│                   [ 0.9744, -0.0388, -2.8178],\n",
       "│                   [ 0.1900,  0.7581,  0.9392],\n",
       "│                   [ 0.9744, -0.0388, -2.8178],\n",
       "│                   [ 0.1900,  0.7581,  0.9392]])\n",
       "└── 'x' --> <FastTreeValue 0x7fb9e4276d30>\n",
       "    └── 'c' --> tensor([[-1.0762, -0.0587, -0.4884,  0.7352],\n",
       "                        [ 0.6031,  1.4878,  0.2406,  0.2176],\n",
       "                        [-0.7667, -0.2524,  0.0169, -0.8929],\n",
       "                        [-1.0762, -0.0587, -0.4884,  0.7352],\n",
       "                        [ 0.6031,  1.4878,  0.2406,  0.2176],\n",
       "                        [-0.7667, -0.2524,  0.0169, -0.8929],\n",
       "                        [-1.0762, -0.0587, -0.4884,  0.7352],\n",
       "                        [ 0.6031,  1.4878,  0.2406,  0.2176],\n",
       "                        [-0.7667, -0.2524,  0.0169, -0.8929],\n",
       "                        [-1.0762, -0.0587, -0.4884,  0.7352],\n",
       "                        [ 0.6031,  1.4878,  0.2406,  0.2176],\n",
       "                        [-0.7667, -0.2524,  0.0169, -0.8929],\n",
       "                        [-1.0762, -0.0587, -0.4884,  0.7352],\n",
       "                        [ 0.6031,  1.4878,  0.2406,  0.2176],\n",
       "                        [-0.7667, -0.2524,  0.0169, -0.8929],\n",
       "                        [-1.0762, -0.0587, -0.4884,  0.7352],\n",
       "                        [ 0.6031,  1.4878,  0.2406,  0.2176],\n",
       "                        [-0.7667, -0.2524,  0.0169, -0.8929],\n",
       "                        [-1.0762, -0.0587, -0.4884,  0.7352],\n",
       "                        [ 0.6031,  1.4878,  0.2406,  0.2176],\n",
       "                        [-0.7667, -0.2524,  0.0169, -0.8929],\n",
       "                        [-1.0762, -0.0587, -0.4884,  0.7352],\n",
       "                        [ 0.6031,  1.4878,  0.2406,  0.2176],\n",
       "                        [-0.7667, -0.2524,  0.0169, -0.8929]])"
      ]
     },
     "execution_count": 22,
     "metadata": {},
     "output_type": "execute_result"
    }
   ],
   "source": [
    "t_cat = FastTreeValue.func(subside=True)(torch.cat)\n",
    "\n",
    "t_cat(trees)"
   ]
  },
  {
   "cell_type": "code",
   "execution_count": 23,
   "id": "5e9c06a6",
   "metadata": {
    "execution": {
     "iopub.execute_input": "2023-02-25T18:23:44.989881Z",
     "iopub.status.busy": "2023-02-25T18:23:44.989554Z",
     "iopub.status.idle": "2023-02-25T18:23:47.438934Z",
     "shell.execute_reply": "2023-02-25T18:23:47.438204Z"
    }
   },
   "outputs": [
    {
     "name": "stdout",
     "output_type": "stream",
     "text": [
      "30.1 µs ± 60 ns per loop (mean ± std. dev. of 7 runs, 10,000 loops each)\n"
     ]
    }
   ],
   "source": [
    "%timeit t_cat(trees)"
   ]
  },
  {
   "cell_type": "code",
   "execution_count": 24,
   "id": "a3ab5c8f",
   "metadata": {
    "execution": {
     "iopub.execute_input": "2023-02-25T18:23:47.441975Z",
     "iopub.status.busy": "2023-02-25T18:23:47.441611Z",
     "iopub.status.idle": "2023-02-25T18:23:52.306648Z",
     "shell.execute_reply": "2023-02-25T18:23:52.305924Z"
    }
   },
   "outputs": [
    {
     "name": "stdout",
     "output_type": "stream",
     "text": [
      "59.9 µs ± 67.4 ns per loop (mean ± std. dev. of 7 runs, 10,000 loops each)\n"
     ]
    }
   ],
   "source": [
    "t_split = FastTreeValue.func(rise=True)(torch.split)\n",
    "tree = FastTreeValue({\n",
    "    'obs': torch.randn(8, 4, 84, 84),\n",
    "    'action': torch.randint(0, 6, size=(8, 1,)),\n",
    "    'reward': torch.rand(8, 1),\n",
    "})\n",
    "\n",
    "%timeit t_split(tree, 1)"
   ]
  },
  {
   "cell_type": "markdown",
   "id": "31c3ec0b",
   "metadata": {},
   "source": [
    "### Performance of Tianshou Batch"
   ]
  },
  {
   "cell_type": "code",
   "execution_count": 25,
   "id": "9ead828a",
   "metadata": {
    "execution": {
     "iopub.execute_input": "2023-02-25T18:23:52.309981Z",
     "iopub.status.busy": "2023-02-25T18:23:52.309440Z",
     "iopub.status.idle": "2023-02-25T18:23:52.317342Z",
     "shell.execute_reply": "2023-02-25T18:23:52.316731Z"
    }
   },
   "outputs": [
    {
     "data": {
      "text/plain": [
       "Batch(\n",
       "    x: Batch(\n",
       "           c: tensor([[[-1.0762, -0.0587, -0.4884,  0.7352],\n",
       "                       [ 0.6031,  1.4878,  0.2406,  0.2176],\n",
       "                       [-0.7667, -0.2524,  0.0169, -0.8929]],\n",
       "              \n",
       "                      [[-1.0762, -0.0587, -0.4884,  0.7352],\n",
       "                       [ 0.6031,  1.4878,  0.2406,  0.2176],\n",
       "                       [-0.7667, -0.2524,  0.0169, -0.8929]],\n",
       "              \n",
       "                      [[-1.0762, -0.0587, -0.4884,  0.7352],\n",
       "                       [ 0.6031,  1.4878,  0.2406,  0.2176],\n",
       "                       [-0.7667, -0.2524,  0.0169, -0.8929]],\n",
       "              \n",
       "                      [[-1.0762, -0.0587, -0.4884,  0.7352],\n",
       "                       [ 0.6031,  1.4878,  0.2406,  0.2176],\n",
       "                       [-0.7667, -0.2524,  0.0169, -0.8929]],\n",
       "              \n",
       "                      [[-1.0762, -0.0587, -0.4884,  0.7352],\n",
       "                       [ 0.6031,  1.4878,  0.2406,  0.2176],\n",
       "                       [-0.7667, -0.2524,  0.0169, -0.8929]],\n",
       "              \n",
       "                      [[-1.0762, -0.0587, -0.4884,  0.7352],\n",
       "                       [ 0.6031,  1.4878,  0.2406,  0.2176],\n",
       "                       [-0.7667, -0.2524,  0.0169, -0.8929]],\n",
       "              \n",
       "                      [[-1.0762, -0.0587, -0.4884,  0.7352],\n",
       "                       [ 0.6031,  1.4878,  0.2406,  0.2176],\n",
       "                       [-0.7667, -0.2524,  0.0169, -0.8929]],\n",
       "              \n",
       "                      [[-1.0762, -0.0587, -0.4884,  0.7352],\n",
       "                       [ 0.6031,  1.4878,  0.2406,  0.2176],\n",
       "                       [-0.7667, -0.2524,  0.0169, -0.8929]]]),\n",
       "       ),\n",
       "    a: tensor([[[ 0.9744, -0.0388, -2.8178],\n",
       "                [ 0.1900,  0.7581,  0.9392]],\n",
       "       \n",
       "               [[ 0.9744, -0.0388, -2.8178],\n",
       "                [ 0.1900,  0.7581,  0.9392]],\n",
       "       \n",
       "               [[ 0.9744, -0.0388, -2.8178],\n",
       "                [ 0.1900,  0.7581,  0.9392]],\n",
       "       \n",
       "               [[ 0.9744, -0.0388, -2.8178],\n",
       "                [ 0.1900,  0.7581,  0.9392]],\n",
       "       \n",
       "               [[ 0.9744, -0.0388, -2.8178],\n",
       "                [ 0.1900,  0.7581,  0.9392]],\n",
       "       \n",
       "               [[ 0.9744, -0.0388, -2.8178],\n",
       "                [ 0.1900,  0.7581,  0.9392]],\n",
       "       \n",
       "               [[ 0.9744, -0.0388, -2.8178],\n",
       "                [ 0.1900,  0.7581,  0.9392]],\n",
       "       \n",
       "               [[ 0.9744, -0.0388, -2.8178],\n",
       "                [ 0.1900,  0.7581,  0.9392]]]),\n",
       ")"
      ]
     },
     "execution_count": 25,
     "metadata": {},
     "output_type": "execute_result"
    }
   ],
   "source": [
    "batches = [Batch(**_TREE_DATA_2) for _ in range(8)]\n",
    "\n",
    "Batch.stack(batches)"
   ]
  },
  {
   "cell_type": "code",
   "execution_count": 26,
   "id": "ec9037a3",
   "metadata": {
    "execution": {
     "iopub.execute_input": "2023-02-25T18:23:52.319834Z",
     "iopub.status.busy": "2023-02-25T18:23:52.319492Z",
     "iopub.status.idle": "2023-02-25T18:23:58.744415Z",
     "shell.execute_reply": "2023-02-25T18:23:58.743697Z"
    }
   },
   "outputs": [
    {
     "name": "stdout",
     "output_type": "stream",
     "text": [
      "79.1 µs ± 102 ns per loop (mean ± std. dev. of 7 runs, 10,000 loops each)\n"
     ]
    }
   ],
   "source": [
    "%timeit Batch.stack(batches)"
   ]
  },
  {
   "cell_type": "code",
   "execution_count": 27,
   "id": "cb8ab77e",
   "metadata": {
    "execution": {
     "iopub.execute_input": "2023-02-25T18:23:58.747621Z",
     "iopub.status.busy": "2023-02-25T18:23:58.747112Z",
     "iopub.status.idle": "2023-02-25T18:23:58.754293Z",
     "shell.execute_reply": "2023-02-25T18:23:58.753665Z"
    }
   },
   "outputs": [
    {
     "data": {
      "text/plain": [
       "Batch(\n",
       "    x: Batch(\n",
       "           c: tensor([[-1.0762, -0.0587, -0.4884,  0.7352],\n",
       "                      [ 0.6031,  1.4878,  0.2406,  0.2176],\n",
       "                      [-0.7667, -0.2524,  0.0169, -0.8929],\n",
       "                      [-1.0762, -0.0587, -0.4884,  0.7352],\n",
       "                      [ 0.6031,  1.4878,  0.2406,  0.2176],\n",
       "                      [-0.7667, -0.2524,  0.0169, -0.8929],\n",
       "                      [-1.0762, -0.0587, -0.4884,  0.7352],\n",
       "                      [ 0.6031,  1.4878,  0.2406,  0.2176],\n",
       "                      [-0.7667, -0.2524,  0.0169, -0.8929],\n",
       "                      [-1.0762, -0.0587, -0.4884,  0.7352],\n",
       "                      [ 0.6031,  1.4878,  0.2406,  0.2176],\n",
       "                      [-0.7667, -0.2524,  0.0169, -0.8929],\n",
       "                      [-1.0762, -0.0587, -0.4884,  0.7352],\n",
       "                      [ 0.6031,  1.4878,  0.2406,  0.2176],\n",
       "                      [-0.7667, -0.2524,  0.0169, -0.8929],\n",
       "                      [-1.0762, -0.0587, -0.4884,  0.7352],\n",
       "                      [ 0.6031,  1.4878,  0.2406,  0.2176],\n",
       "                      [-0.7667, -0.2524,  0.0169, -0.8929],\n",
       "                      [-1.0762, -0.0587, -0.4884,  0.7352],\n",
       "                      [ 0.6031,  1.4878,  0.2406,  0.2176],\n",
       "                      [-0.7667, -0.2524,  0.0169, -0.8929],\n",
       "                      [-1.0762, -0.0587, -0.4884,  0.7352],\n",
       "                      [ 0.6031,  1.4878,  0.2406,  0.2176],\n",
       "                      [-0.7667, -0.2524,  0.0169, -0.8929]]),\n",
       "       ),\n",
       "    a: tensor([[ 0.9744, -0.0388, -2.8178],\n",
       "               [ 0.1900,  0.7581,  0.9392],\n",
       "               [ 0.9744, -0.0388, -2.8178],\n",
       "               [ 0.1900,  0.7581,  0.9392],\n",
       "               [ 0.9744, -0.0388, -2.8178],\n",
       "               [ 0.1900,  0.7581,  0.9392],\n",
       "               [ 0.9744, -0.0388, -2.8178],\n",
       "               [ 0.1900,  0.7581,  0.9392],\n",
       "               [ 0.9744, -0.0388, -2.8178],\n",
       "               [ 0.1900,  0.7581,  0.9392],\n",
       "               [ 0.9744, -0.0388, -2.8178],\n",
       "               [ 0.1900,  0.7581,  0.9392],\n",
       "               [ 0.9744, -0.0388, -2.8178],\n",
       "               [ 0.1900,  0.7581,  0.9392],\n",
       "               [ 0.9744, -0.0388, -2.8178],\n",
       "               [ 0.1900,  0.7581,  0.9392]]),\n",
       ")"
      ]
     },
     "execution_count": 27,
     "metadata": {},
     "output_type": "execute_result"
    }
   ],
   "source": [
    "Batch.cat(batches)"
   ]
  },
  {
   "cell_type": "code",
   "execution_count": 28,
   "id": "18dfb045",
   "metadata": {
    "execution": {
     "iopub.execute_input": "2023-02-25T18:23:58.756599Z",
     "iopub.status.busy": "2023-02-25T18:23:58.756396Z",
     "iopub.status.idle": "2023-02-25T18:24:10.190521Z",
     "shell.execute_reply": "2023-02-25T18:24:10.189815Z"
    }
   },
   "outputs": [
    {
     "name": "stdout",
     "output_type": "stream",
     "text": [
      "141 µs ± 460 ns per loop (mean ± std. dev. of 7 runs, 10,000 loops each)\n"
     ]
    }
   ],
   "source": [
    "%timeit Batch.cat(batches)"
   ]
  },
  {
   "cell_type": "code",
   "execution_count": 29,
   "id": "c6688e51",
   "metadata": {
    "execution": {
     "iopub.execute_input": "2023-02-25T18:24:10.193793Z",
     "iopub.status.busy": "2023-02-25T18:24:10.193375Z",
     "iopub.status.idle": "2023-02-25T18:24:12.667693Z",
     "shell.execute_reply": "2023-02-25T18:24:12.667144Z"
    }
   },
   "outputs": [
    {
     "name": "stdout",
     "output_type": "stream",
     "text": [
      "304 µs ± 496 ns per loop (mean ± std. dev. of 7 runs, 1,000 loops each)\n"
     ]
    }
   ],
   "source": [
    "batch = Batch({\n",
    "    'obs': torch.randn(8, 4, 84, 84),\n",
    "    'action': torch.randint(0, 6, size=(8, 1,)),\n",
    "    'reward': torch.rand(8, 1)}\n",
    ")\n",
    "\n",
    "%timeit list(Batch.split(batch, 1, shuffle=False, merge_last=True))"
   ]
  },
  {
   "cell_type": "code",
   "execution_count": null,
   "id": "2539fbd9",
   "metadata": {},
   "outputs": [],
   "source": []
  }
 ],
 "metadata": {
  "kernelspec": {
   "display_name": "Python 3 (ipykernel)",
   "language": "python",
   "name": "python3"
  },
  "language_info": {
   "codemirror_mode": {
    "name": "ipython",
    "version": 3
   },
   "file_extension": ".py",
   "mimetype": "text/x-python",
   "name": "python",
   "nbconvert_exporter": "python",
   "pygments_lexer": "ipython3",
   "version": "3.8.16"
  }
 },
 "nbformat": 4,
 "nbformat_minor": 5
}
