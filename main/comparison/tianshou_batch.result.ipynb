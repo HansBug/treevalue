{
 "cells": [
  {
   "cell_type": "markdown",
   "id": "9d39d946",
   "metadata": {},
   "source": [
    "# Comparison Between TreeValue and Tianshou Batch"
   ]
  },
  {
   "cell_type": "markdown",
   "id": "3c6db2d4",
   "metadata": {},
   "source": [
    "In this section, we will take a look at the feature and performance of the [Tianshou Batch](https://github.com/thu-ml/tianshou) library, which is developed by Tsinghua Machine Learning Group."
   ]
  },
  {
   "cell_type": "markdown",
   "id": "069361b0",
   "metadata": {},
   "source": [
    "Before starting the comparison, let us define some thing."
   ]
  },
  {
   "cell_type": "code",
   "execution_count": 1,
   "id": "06fc8d26",
   "metadata": {
    "execution": {
     "iopub.execute_input": "2023-02-27T11:36:56.009966Z",
     "iopub.status.busy": "2023-02-27T11:36:56.009728Z",
     "iopub.status.idle": "2023-02-27T11:36:56.954006Z",
     "shell.execute_reply": "2023-02-27T11:36:56.953236Z"
    }
   },
   "outputs": [
    {
     "name": "stderr",
     "output_type": "stream",
     "text": [
      "/opt/hostedtoolcache/Python/3.8.16/x64/lib/python3.8/site-packages/tqdm/auto.py:22: TqdmWarning: IProgress not found. Please update jupyter and ipywidgets. See https://ipywidgets.readthedocs.io/en/stable/user_install.html\n",
      "  from .autonotebook import tqdm as notebook_tqdm\n"
     ]
    }
   ],
   "source": [
    "import torch \n",
    "\n",
    "_TREE_DATA_1 = {'a': 1, 'b': 2, 'x': {'c': 3, 'd': 4}}\n",
    "_TREE_DATA_2 = {\n",
    "    'a': torch.randn(2, 3), \n",
    "    'x': {\n",
    "        'c': torch.randn(3, 4)\n",
    "    },\n",
    "}\n",
    "_TREE_DATA_3 = {\n",
    "    'obs': torch.randn(4, 84, 84),\n",
    "    'action': torch.randint(0, 6, size=(1,)),\n",
    "    'reward': torch.rand(1),\n",
    "}"
   ]
  },
  {
   "cell_type": "markdown",
   "id": "83461b25",
   "metadata": {},
   "source": [
    "## Read and Write Operation"
   ]
  },
  {
   "cell_type": "markdown",
   "id": "067b3f73",
   "metadata": {},
   "source": [
    "Reading and writing are the two most common operations in the tree data structure based on the data model (TreeValue and Tianshou Batch both belong to this type), so this section will compare the reading and writing performance of these two libraries."
   ]
  },
  {
   "cell_type": "markdown",
   "id": "5d09a5b7",
   "metadata": {},
   "source": [
    "### TreeValue's Get and Set"
   ]
  },
  {
   "cell_type": "code",
   "execution_count": 2,
   "id": "9519c4bb",
   "metadata": {
    "execution": {
     "iopub.execute_input": "2023-02-27T11:36:56.957949Z",
     "iopub.status.busy": "2023-02-27T11:36:56.957477Z",
     "iopub.status.idle": "2023-02-27T11:36:57.249430Z",
     "shell.execute_reply": "2023-02-27T11:36:57.248356Z"
    }
   },
   "outputs": [],
   "source": [
    "from treevalue import FastTreeValue\n",
    "\n",
    "t = FastTreeValue(_TREE_DATA_2)"
   ]
  },
  {
   "cell_type": "code",
   "execution_count": 3,
   "id": "11c37677",
   "metadata": {
    "execution": {
     "iopub.execute_input": "2023-02-27T11:36:57.253244Z",
     "iopub.status.busy": "2023-02-27T11:36:57.252763Z",
     "iopub.status.idle": "2023-02-27T11:36:57.261694Z",
     "shell.execute_reply": "2023-02-27T11:36:57.261040Z"
    }
   },
   "outputs": [
    {
     "data": {
      "text/plain": [
       "<FastTreeValue 0x7f4ec06941f0>\n",
       "├── 'a' --> tensor([[ 0.0700,  1.2872, -0.1570],\n",
       "│                   [-0.9522,  0.9468, -0.4784]])\n",
       "└── 'x' --> <FastTreeValue 0x7f4ec06fbe20>\n",
       "    └── 'c' --> tensor([[-1.0942, -0.2883, -0.0287, -1.9157],\n",
       "                        [-1.2797, -1.1890, -1.4070, -0.8795],\n",
       "                        [ 1.3458,  0.2088,  1.3505,  1.4118]])"
      ]
     },
     "execution_count": 3,
     "metadata": {},
     "output_type": "execute_result"
    }
   ],
   "source": [
    "t"
   ]
  },
  {
   "cell_type": "code",
   "execution_count": 4,
   "id": "fd70b0b9",
   "metadata": {
    "execution": {
     "iopub.execute_input": "2023-02-27T11:36:57.264336Z",
     "iopub.status.busy": "2023-02-27T11:36:57.263911Z",
     "iopub.status.idle": "2023-02-27T11:36:57.268557Z",
     "shell.execute_reply": "2023-02-27T11:36:57.267932Z"
    }
   },
   "outputs": [
    {
     "data": {
      "text/plain": [
       "tensor([[ 0.0700,  1.2872, -0.1570],\n",
       "        [-0.9522,  0.9468, -0.4784]])"
      ]
     },
     "execution_count": 4,
     "metadata": {},
     "output_type": "execute_result"
    }
   ],
   "source": [
    "t.a"
   ]
  },
  {
   "cell_type": "code",
   "execution_count": 5,
   "id": "c18197bd",
   "metadata": {
    "execution": {
     "iopub.execute_input": "2023-02-27T11:36:57.271403Z",
     "iopub.status.busy": "2023-02-27T11:36:57.270996Z",
     "iopub.status.idle": "2023-02-27T11:37:01.942257Z",
     "shell.execute_reply": "2023-02-27T11:37:01.941348Z"
    }
   },
   "outputs": [
    {
     "name": "stdout",
     "output_type": "stream",
     "text": [
      "57.6 ns ± 1.33 ns per loop (mean ± std. dev. of 7 runs, 10,000,000 loops each)\n"
     ]
    }
   ],
   "source": [
    "%timeit t.a"
   ]
  },
  {
   "cell_type": "code",
   "execution_count": 6,
   "id": "bd52f867",
   "metadata": {
    "execution": {
     "iopub.execute_input": "2023-02-27T11:37:01.945921Z",
     "iopub.status.busy": "2023-02-27T11:37:01.945317Z",
     "iopub.status.idle": "2023-02-27T11:37:01.953051Z",
     "shell.execute_reply": "2023-02-27T11:37:01.952458Z"
    }
   },
   "outputs": [
    {
     "data": {
      "text/plain": [
       "<FastTreeValue 0x7f4ec06941f0>\n",
       "├── 'a' --> tensor([[-0.4652,  0.3360, -0.4944],\n",
       "│                   [-1.6189, -1.3267,  1.8182]])\n",
       "└── 'x' --> <FastTreeValue 0x7f4ec06fbe20>\n",
       "    └── 'c' --> tensor([[-1.0942, -0.2883, -0.0287, -1.9157],\n",
       "                        [-1.2797, -1.1890, -1.4070, -0.8795],\n",
       "                        [ 1.3458,  0.2088,  1.3505,  1.4118]])"
      ]
     },
     "execution_count": 6,
     "metadata": {},
     "output_type": "execute_result"
    }
   ],
   "source": [
    "new_value = torch.randn(2, 3)\n",
    "t.a = new_value\n",
    "\n",
    "t"
   ]
  },
  {
   "cell_type": "code",
   "execution_count": 7,
   "id": "bbe04d1c",
   "metadata": {
    "execution": {
     "iopub.execute_input": "2023-02-27T11:37:01.956147Z",
     "iopub.status.busy": "2023-02-27T11:37:01.955703Z",
     "iopub.status.idle": "2023-02-27T11:37:06.958963Z",
     "shell.execute_reply": "2023-02-27T11:37:06.958065Z"
    }
   },
   "outputs": [
    {
     "name": "stdout",
     "output_type": "stream",
     "text": [
      "61.6 ns ± 0.191 ns per loop (mean ± std. dev. of 7 runs, 10,000,000 loops each)\n"
     ]
    }
   ],
   "source": [
    "%timeit t.a = new_value"
   ]
  },
  {
   "cell_type": "markdown",
   "id": "48c49731",
   "metadata": {},
   "source": [
    "### Tianshou Batch's Get and Set"
   ]
  },
  {
   "cell_type": "code",
   "execution_count": 8,
   "id": "f1bb14c1",
   "metadata": {
    "execution": {
     "iopub.execute_input": "2023-02-27T11:37:06.962339Z",
     "iopub.status.busy": "2023-02-27T11:37:06.961805Z",
     "iopub.status.idle": "2023-02-27T11:37:07.327796Z",
     "shell.execute_reply": "2023-02-27T11:37:07.327008Z"
    }
   },
   "outputs": [],
   "source": [
    "from tianshou.data import Batch\n",
    "\n",
    "b = Batch(**_TREE_DATA_2)"
   ]
  },
  {
   "cell_type": "code",
   "execution_count": 9,
   "id": "cb0777c3",
   "metadata": {
    "execution": {
     "iopub.execute_input": "2023-02-27T11:37:07.331784Z",
     "iopub.status.busy": "2023-02-27T11:37:07.331245Z",
     "iopub.status.idle": "2023-02-27T11:37:07.338416Z",
     "shell.execute_reply": "2023-02-27T11:37:07.337659Z"
    }
   },
   "outputs": [
    {
     "data": {
      "text/plain": [
       "Batch(\n",
       "    a: tensor([[ 0.0700,  1.2872, -0.1570],\n",
       "               [-0.9522,  0.9468, -0.4784]]),\n",
       "    x: Batch(\n",
       "           c: tensor([[-1.0942, -0.2883, -0.0287, -1.9157],\n",
       "                      [-1.2797, -1.1890, -1.4070, -0.8795],\n",
       "                      [ 1.3458,  0.2088,  1.3505,  1.4118]]),\n",
       "       ),\n",
       ")"
      ]
     },
     "execution_count": 9,
     "metadata": {},
     "output_type": "execute_result"
    }
   ],
   "source": [
    "b"
   ]
  },
  {
   "cell_type": "code",
   "execution_count": 10,
   "id": "43ef8ea3",
   "metadata": {
    "execution": {
     "iopub.execute_input": "2023-02-27T11:37:07.341110Z",
     "iopub.status.busy": "2023-02-27T11:37:07.340747Z",
     "iopub.status.idle": "2023-02-27T11:37:07.345680Z",
     "shell.execute_reply": "2023-02-27T11:37:07.345047Z"
    }
   },
   "outputs": [
    {
     "data": {
      "text/plain": [
       "tensor([[ 0.0700,  1.2872, -0.1570],\n",
       "        [-0.9522,  0.9468, -0.4784]])"
      ]
     },
     "execution_count": 10,
     "metadata": {},
     "output_type": "execute_result"
    }
   ],
   "source": [
    "b.a"
   ]
  },
  {
   "cell_type": "code",
   "execution_count": 11,
   "id": "b785ab72",
   "metadata": {
    "execution": {
     "iopub.execute_input": "2023-02-27T11:37:07.348616Z",
     "iopub.status.busy": "2023-02-27T11:37:07.348184Z",
     "iopub.status.idle": "2023-02-27T11:37:11.490932Z",
     "shell.execute_reply": "2023-02-27T11:37:11.490030Z"
    }
   },
   "outputs": [
    {
     "name": "stdout",
     "output_type": "stream",
     "text": [
      "51 ns ± 0.265 ns per loop (mean ± std. dev. of 7 runs, 10,000,000 loops each)\n"
     ]
    }
   ],
   "source": [
    "%timeit b.a"
   ]
  },
  {
   "cell_type": "code",
   "execution_count": 12,
   "id": "ad54dc69",
   "metadata": {
    "execution": {
     "iopub.execute_input": "2023-02-27T11:37:11.494399Z",
     "iopub.status.busy": "2023-02-27T11:37:11.493753Z",
     "iopub.status.idle": "2023-02-27T11:37:11.500745Z",
     "shell.execute_reply": "2023-02-27T11:37:11.500125Z"
    }
   },
   "outputs": [
    {
     "data": {
      "text/plain": [
       "Batch(\n",
       "    a: tensor([[ 0.9628, -0.4238,  1.0286],\n",
       "               [ 0.9440, -0.0190,  0.0432]]),\n",
       "    x: Batch(\n",
       "           c: tensor([[-1.0942, -0.2883, -0.0287, -1.9157],\n",
       "                      [-1.2797, -1.1890, -1.4070, -0.8795],\n",
       "                      [ 1.3458,  0.2088,  1.3505,  1.4118]]),\n",
       "       ),\n",
       ")"
      ]
     },
     "execution_count": 12,
     "metadata": {},
     "output_type": "execute_result"
    }
   ],
   "source": [
    "new_value = torch.randn(2, 3)\n",
    "b.a = new_value\n",
    "\n",
    "b"
   ]
  },
  {
   "cell_type": "code",
   "execution_count": 13,
   "id": "29b1d0bf",
   "metadata": {
    "execution": {
     "iopub.execute_input": "2023-02-27T11:37:11.503354Z",
     "iopub.status.busy": "2023-02-27T11:37:11.503011Z",
     "iopub.status.idle": "2023-02-27T11:37:15.503256Z",
     "shell.execute_reply": "2023-02-27T11:37:15.502332Z"
    }
   },
   "outputs": [
    {
     "name": "stdout",
     "output_type": "stream",
     "text": [
      "492 ns ± 0.541 ns per loop (mean ± std. dev. of 7 runs, 1,000,000 loops each)\n"
     ]
    }
   ],
   "source": [
    "%timeit b.a = new_value"
   ]
  },
  {
   "cell_type": "markdown",
   "id": "b61ad1d0",
   "metadata": {},
   "source": [
    "## Initialization"
   ]
  },
  {
   "cell_type": "markdown",
   "id": "d70f0d54",
   "metadata": {},
   "source": [
    "### TreeValue's Initialization"
   ]
  },
  {
   "cell_type": "code",
   "execution_count": 14,
   "id": "d32a679b",
   "metadata": {
    "execution": {
     "iopub.execute_input": "2023-02-27T11:37:15.506851Z",
     "iopub.status.busy": "2023-02-27T11:37:15.506326Z",
     "iopub.status.idle": "2023-02-27T11:37:22.044169Z",
     "shell.execute_reply": "2023-02-27T11:37:22.043367Z"
    }
   },
   "outputs": [
    {
     "name": "stdout",
     "output_type": "stream",
     "text": [
      "802 ns ± 1.16 ns per loop (mean ± std. dev. of 7 runs, 1,000,000 loops each)\n"
     ]
    }
   ],
   "source": [
    "%timeit FastTreeValue(_TREE_DATA_1)"
   ]
  },
  {
   "cell_type": "markdown",
   "id": "24f3707b",
   "metadata": {},
   "source": [
    "### Tianshou Batch's Initialization"
   ]
  },
  {
   "cell_type": "code",
   "execution_count": 15,
   "id": "ac3958df",
   "metadata": {
    "execution": {
     "iopub.execute_input": "2023-02-27T11:37:22.047633Z",
     "iopub.status.busy": "2023-02-27T11:37:22.047168Z",
     "iopub.status.idle": "2023-02-27T11:37:29.619442Z",
     "shell.execute_reply": "2023-02-27T11:37:29.618544Z"
    }
   },
   "outputs": [
    {
     "name": "stdout",
     "output_type": "stream",
     "text": [
      "9.32 µs ± 25.3 ns per loop (mean ± std. dev. of 7 runs, 100,000 loops each)\n"
     ]
    }
   ],
   "source": [
    "%timeit Batch(**_TREE_DATA_1)"
   ]
  },
  {
   "cell_type": "markdown",
   "id": "1ab82e2d",
   "metadata": {},
   "source": [
    "## Deep Copy Operation"
   ]
  },
  {
   "cell_type": "code",
   "execution_count": 16,
   "id": "210a9442",
   "metadata": {
    "execution": {
     "iopub.execute_input": "2023-02-27T11:37:29.622714Z",
     "iopub.status.busy": "2023-02-27T11:37:29.622199Z",
     "iopub.status.idle": "2023-02-27T11:37:29.625451Z",
     "shell.execute_reply": "2023-02-27T11:37:29.624792Z"
    }
   },
   "outputs": [],
   "source": [
    "import copy"
   ]
  },
  {
   "cell_type": "markdown",
   "id": "5a736274",
   "metadata": {},
   "source": [
    "### Deep Copy of TreeValue"
   ]
  },
  {
   "cell_type": "code",
   "execution_count": 17,
   "id": "f9bcadd6",
   "metadata": {
    "execution": {
     "iopub.execute_input": "2023-02-27T11:37:29.628599Z",
     "iopub.status.busy": "2023-02-27T11:37:29.628094Z",
     "iopub.status.idle": "2023-02-27T11:37:41.382754Z",
     "shell.execute_reply": "2023-02-27T11:37:41.382099Z"
    }
   },
   "outputs": [
    {
     "name": "stdout",
     "output_type": "stream",
     "text": [
      "145 µs ± 3.9 µs per loop (mean ± std. dev. of 7 runs, 10,000 loops each)\n"
     ]
    }
   ],
   "source": [
    "t3 = FastTreeValue(_TREE_DATA_3)\n",
    "%timeit copy.deepcopy(t3)"
   ]
  },
  {
   "cell_type": "markdown",
   "id": "bf8be7ea",
   "metadata": {},
   "source": [
    "### Deep Copy of Tianshou Batch"
   ]
  },
  {
   "cell_type": "code",
   "execution_count": 18,
   "id": "91998e6f",
   "metadata": {
    "execution": {
     "iopub.execute_input": "2023-02-27T11:37:41.385733Z",
     "iopub.status.busy": "2023-02-27T11:37:41.385233Z",
     "iopub.status.idle": "2023-02-27T11:37:51.820363Z",
     "shell.execute_reply": "2023-02-27T11:37:51.819663Z"
    }
   },
   "outputs": [
    {
     "name": "stdout",
     "output_type": "stream",
     "text": [
      "128 µs ± 346 ns per loop (mean ± std. dev. of 7 runs, 10,000 loops each)\n"
     ]
    }
   ],
   "source": [
    "b3 = Batch(**_TREE_DATA_3)\n",
    "%timeit copy.deepcopy(b3)"
   ]
  },
  {
   "cell_type": "markdown",
   "id": "223162fb",
   "metadata": {},
   "source": [
    "## Stack, Concat and Split Operation"
   ]
  },
  {
   "cell_type": "markdown",
   "id": "85fa4a73",
   "metadata": {},
   "source": [
    "### Performance of TreeValue"
   ]
  },
  {
   "cell_type": "code",
   "execution_count": 19,
   "id": "a0c2b697",
   "metadata": {
    "execution": {
     "iopub.execute_input": "2023-02-27T11:37:51.823586Z",
     "iopub.status.busy": "2023-02-27T11:37:51.823082Z",
     "iopub.status.idle": "2023-02-27T11:37:51.827535Z",
     "shell.execute_reply": "2023-02-27T11:37:51.826916Z"
    }
   },
   "outputs": [],
   "source": [
    "trees = [FastTreeValue(_TREE_DATA_2) for _ in range(8)]"
   ]
  },
  {
   "cell_type": "code",
   "execution_count": 20,
   "id": "017ea5a5",
   "metadata": {
    "execution": {
     "iopub.execute_input": "2023-02-27T11:37:51.830420Z",
     "iopub.status.busy": "2023-02-27T11:37:51.829923Z",
     "iopub.status.idle": "2023-02-27T11:37:51.838700Z",
     "shell.execute_reply": "2023-02-27T11:37:51.838103Z"
    }
   },
   "outputs": [
    {
     "data": {
      "text/plain": [
       "<FastTreeValue 0x7f4e105b6ac0>\n",
       "├── 'a' --> tensor([[[ 0.0700,  1.2872, -0.1570],\n",
       "│                    [-0.9522,  0.9468, -0.4784]],\n",
       "│           \n",
       "│                   [[ 0.0700,  1.2872, -0.1570],\n",
       "│                    [-0.9522,  0.9468, -0.4784]],\n",
       "│           \n",
       "│                   [[ 0.0700,  1.2872, -0.1570],\n",
       "│                    [-0.9522,  0.9468, -0.4784]],\n",
       "│           \n",
       "│                   [[ 0.0700,  1.2872, -0.1570],\n",
       "│                    [-0.9522,  0.9468, -0.4784]],\n",
       "│           \n",
       "│                   [[ 0.0700,  1.2872, -0.1570],\n",
       "│                    [-0.9522,  0.9468, -0.4784]],\n",
       "│           \n",
       "│                   [[ 0.0700,  1.2872, -0.1570],\n",
       "│                    [-0.9522,  0.9468, -0.4784]],\n",
       "│           \n",
       "│                   [[ 0.0700,  1.2872, -0.1570],\n",
       "│                    [-0.9522,  0.9468, -0.4784]],\n",
       "│           \n",
       "│                   [[ 0.0700,  1.2872, -0.1570],\n",
       "│                    [-0.9522,  0.9468, -0.4784]]])\n",
       "└── 'x' --> <FastTreeValue 0x7f4e93f41d90>\n",
       "    └── 'c' --> tensor([[[-1.0942, -0.2883, -0.0287, -1.9157],\n",
       "                         [-1.2797, -1.1890, -1.4070, -0.8795],\n",
       "                         [ 1.3458,  0.2088,  1.3505,  1.4118]],\n",
       "                \n",
       "                        [[-1.0942, -0.2883, -0.0287, -1.9157],\n",
       "                         [-1.2797, -1.1890, -1.4070, -0.8795],\n",
       "                         [ 1.3458,  0.2088,  1.3505,  1.4118]],\n",
       "                \n",
       "                        [[-1.0942, -0.2883, -0.0287, -1.9157],\n",
       "                         [-1.2797, -1.1890, -1.4070, -0.8795],\n",
       "                         [ 1.3458,  0.2088,  1.3505,  1.4118]],\n",
       "                \n",
       "                        [[-1.0942, -0.2883, -0.0287, -1.9157],\n",
       "                         [-1.2797, -1.1890, -1.4070, -0.8795],\n",
       "                         [ 1.3458,  0.2088,  1.3505,  1.4118]],\n",
       "                \n",
       "                        [[-1.0942, -0.2883, -0.0287, -1.9157],\n",
       "                         [-1.2797, -1.1890, -1.4070, -0.8795],\n",
       "                         [ 1.3458,  0.2088,  1.3505,  1.4118]],\n",
       "                \n",
       "                        [[-1.0942, -0.2883, -0.0287, -1.9157],\n",
       "                         [-1.2797, -1.1890, -1.4070, -0.8795],\n",
       "                         [ 1.3458,  0.2088,  1.3505,  1.4118]],\n",
       "                \n",
       "                        [[-1.0942, -0.2883, -0.0287, -1.9157],\n",
       "                         [-1.2797, -1.1890, -1.4070, -0.8795],\n",
       "                         [ 1.3458,  0.2088,  1.3505,  1.4118]],\n",
       "                \n",
       "                        [[-1.0942, -0.2883, -0.0287, -1.9157],\n",
       "                         [-1.2797, -1.1890, -1.4070, -0.8795],\n",
       "                         [ 1.3458,  0.2088,  1.3505,  1.4118]]])"
      ]
     },
     "execution_count": 20,
     "metadata": {},
     "output_type": "execute_result"
    }
   ],
   "source": [
    "t_stack = FastTreeValue.func(subside=True)(torch.stack)\n",
    "\n",
    "t_stack(trees)"
   ]
  },
  {
   "cell_type": "code",
   "execution_count": 21,
   "id": "f8b3f415",
   "metadata": {
    "execution": {
     "iopub.execute_input": "2023-02-27T11:37:51.841281Z",
     "iopub.status.busy": "2023-02-27T11:37:51.840863Z",
     "iopub.status.idle": "2023-02-27T11:37:54.216139Z",
     "shell.execute_reply": "2023-02-27T11:37:54.215267Z"
    }
   },
   "outputs": [
    {
     "name": "stdout",
     "output_type": "stream",
     "text": [
      "29.2 µs ± 61.7 ns per loop (mean ± std. dev. of 7 runs, 10,000 loops each)\n"
     ]
    }
   ],
   "source": [
    "%timeit t_stack(trees)"
   ]
  },
  {
   "cell_type": "code",
   "execution_count": 22,
   "id": "94b56771",
   "metadata": {
    "execution": {
     "iopub.execute_input": "2023-02-27T11:37:54.219420Z",
     "iopub.status.busy": "2023-02-27T11:37:54.219055Z",
     "iopub.status.idle": "2023-02-27T11:37:54.227434Z",
     "shell.execute_reply": "2023-02-27T11:37:54.226796Z"
    }
   },
   "outputs": [
    {
     "data": {
      "text/plain": [
       "<FastTreeValue 0x7f4e1afd4eb0>\n",
       "├── 'a' --> tensor([[ 0.0700,  1.2872, -0.1570],\n",
       "│                   [-0.9522,  0.9468, -0.4784],\n",
       "│                   [ 0.0700,  1.2872, -0.1570],\n",
       "│                   [-0.9522,  0.9468, -0.4784],\n",
       "│                   [ 0.0700,  1.2872, -0.1570],\n",
       "│                   [-0.9522,  0.9468, -0.4784],\n",
       "│                   [ 0.0700,  1.2872, -0.1570],\n",
       "│                   [-0.9522,  0.9468, -0.4784],\n",
       "│                   [ 0.0700,  1.2872, -0.1570],\n",
       "│                   [-0.9522,  0.9468, -0.4784],\n",
       "│                   [ 0.0700,  1.2872, -0.1570],\n",
       "│                   [-0.9522,  0.9468, -0.4784],\n",
       "│                   [ 0.0700,  1.2872, -0.1570],\n",
       "│                   [-0.9522,  0.9468, -0.4784],\n",
       "│                   [ 0.0700,  1.2872, -0.1570],\n",
       "│                   [-0.9522,  0.9468, -0.4784]])\n",
       "└── 'x' --> <FastTreeValue 0x7f4e099cf6a0>\n",
       "    └── 'c' --> tensor([[-1.0942, -0.2883, -0.0287, -1.9157],\n",
       "                        [-1.2797, -1.1890, -1.4070, -0.8795],\n",
       "                        [ 1.3458,  0.2088,  1.3505,  1.4118],\n",
       "                        [-1.0942, -0.2883, -0.0287, -1.9157],\n",
       "                        [-1.2797, -1.1890, -1.4070, -0.8795],\n",
       "                        [ 1.3458,  0.2088,  1.3505,  1.4118],\n",
       "                        [-1.0942, -0.2883, -0.0287, -1.9157],\n",
       "                        [-1.2797, -1.1890, -1.4070, -0.8795],\n",
       "                        [ 1.3458,  0.2088,  1.3505,  1.4118],\n",
       "                        [-1.0942, -0.2883, -0.0287, -1.9157],\n",
       "                        [-1.2797, -1.1890, -1.4070, -0.8795],\n",
       "                        [ 1.3458,  0.2088,  1.3505,  1.4118],\n",
       "                        [-1.0942, -0.2883, -0.0287, -1.9157],\n",
       "                        [-1.2797, -1.1890, -1.4070, -0.8795],\n",
       "                        [ 1.3458,  0.2088,  1.3505,  1.4118],\n",
       "                        [-1.0942, -0.2883, -0.0287, -1.9157],\n",
       "                        [-1.2797, -1.1890, -1.4070, -0.8795],\n",
       "                        [ 1.3458,  0.2088,  1.3505,  1.4118],\n",
       "                        [-1.0942, -0.2883, -0.0287, -1.9157],\n",
       "                        [-1.2797, -1.1890, -1.4070, -0.8795],\n",
       "                        [ 1.3458,  0.2088,  1.3505,  1.4118],\n",
       "                        [-1.0942, -0.2883, -0.0287, -1.9157],\n",
       "                        [-1.2797, -1.1890, -1.4070, -0.8795],\n",
       "                        [ 1.3458,  0.2088,  1.3505,  1.4118]])"
      ]
     },
     "execution_count": 22,
     "metadata": {},
     "output_type": "execute_result"
    }
   ],
   "source": [
    "t_cat = FastTreeValue.func(subside=True)(torch.cat)\n",
    "\n",
    "t_cat(trees)"
   ]
  },
  {
   "cell_type": "code",
   "execution_count": 23,
   "id": "5e9c06a6",
   "metadata": {
    "execution": {
     "iopub.execute_input": "2023-02-27T11:37:54.230415Z",
     "iopub.status.busy": "2023-02-27T11:37:54.229938Z",
     "iopub.status.idle": "2023-02-27T11:37:56.688168Z",
     "shell.execute_reply": "2023-02-27T11:37:56.687363Z"
    }
   },
   "outputs": [
    {
     "name": "stdout",
     "output_type": "stream",
     "text": [
      "30.1 µs ± 1.29 µs per loop (mean ± std. dev. of 7 runs, 10,000 loops each)\n"
     ]
    }
   ],
   "source": [
    "%timeit t_cat(trees)"
   ]
  },
  {
   "cell_type": "code",
   "execution_count": 24,
   "id": "a3ab5c8f",
   "metadata": {
    "execution": {
     "iopub.execute_input": "2023-02-27T11:37:56.691692Z",
     "iopub.status.busy": "2023-02-27T11:37:56.691108Z",
     "iopub.status.idle": "2023-02-27T11:38:01.266043Z",
     "shell.execute_reply": "2023-02-27T11:38:01.265155Z"
    }
   },
   "outputs": [
    {
     "name": "stdout",
     "output_type": "stream",
     "text": [
      "56.3 µs ± 79.3 ns per loop (mean ± std. dev. of 7 runs, 10,000 loops each)\n"
     ]
    }
   ],
   "source": [
    "t_split = FastTreeValue.func(rise=True)(torch.split)\n",
    "tree = FastTreeValue({\n",
    "    'obs': torch.randn(8, 4, 84, 84),\n",
    "    'action': torch.randint(0, 6, size=(8, 1,)),\n",
    "    'reward': torch.rand(8, 1),\n",
    "})\n",
    "\n",
    "%timeit t_split(tree, 1)"
   ]
  },
  {
   "cell_type": "markdown",
   "id": "31c3ec0b",
   "metadata": {},
   "source": [
    "### Performance of Tianshou Batch"
   ]
  },
  {
   "cell_type": "code",
   "execution_count": 25,
   "id": "9ead828a",
   "metadata": {
    "execution": {
     "iopub.execute_input": "2023-02-27T11:38:01.269910Z",
     "iopub.status.busy": "2023-02-27T11:38:01.269492Z",
     "iopub.status.idle": "2023-02-27T11:38:01.279040Z",
     "shell.execute_reply": "2023-02-27T11:38:01.278430Z"
    }
   },
   "outputs": [
    {
     "data": {
      "text/plain": [
       "Batch(\n",
       "    a: tensor([[[ 0.0700,  1.2872, -0.1570],\n",
       "                [-0.9522,  0.9468, -0.4784]],\n",
       "       \n",
       "               [[ 0.0700,  1.2872, -0.1570],\n",
       "                [-0.9522,  0.9468, -0.4784]],\n",
       "       \n",
       "               [[ 0.0700,  1.2872, -0.1570],\n",
       "                [-0.9522,  0.9468, -0.4784]],\n",
       "       \n",
       "               [[ 0.0700,  1.2872, -0.1570],\n",
       "                [-0.9522,  0.9468, -0.4784]],\n",
       "       \n",
       "               [[ 0.0700,  1.2872, -0.1570],\n",
       "                [-0.9522,  0.9468, -0.4784]],\n",
       "       \n",
       "               [[ 0.0700,  1.2872, -0.1570],\n",
       "                [-0.9522,  0.9468, -0.4784]],\n",
       "       \n",
       "               [[ 0.0700,  1.2872, -0.1570],\n",
       "                [-0.9522,  0.9468, -0.4784]],\n",
       "       \n",
       "               [[ 0.0700,  1.2872, -0.1570],\n",
       "                [-0.9522,  0.9468, -0.4784]]]),\n",
       "    x: Batch(\n",
       "           c: tensor([[[-1.0942, -0.2883, -0.0287, -1.9157],\n",
       "                       [-1.2797, -1.1890, -1.4070, -0.8795],\n",
       "                       [ 1.3458,  0.2088,  1.3505,  1.4118]],\n",
       "              \n",
       "                      [[-1.0942, -0.2883, -0.0287, -1.9157],\n",
       "                       [-1.2797, -1.1890, -1.4070, -0.8795],\n",
       "                       [ 1.3458,  0.2088,  1.3505,  1.4118]],\n",
       "              \n",
       "                      [[-1.0942, -0.2883, -0.0287, -1.9157],\n",
       "                       [-1.2797, -1.1890, -1.4070, -0.8795],\n",
       "                       [ 1.3458,  0.2088,  1.3505,  1.4118]],\n",
       "              \n",
       "                      [[-1.0942, -0.2883, -0.0287, -1.9157],\n",
       "                       [-1.2797, -1.1890, -1.4070, -0.8795],\n",
       "                       [ 1.3458,  0.2088,  1.3505,  1.4118]],\n",
       "              \n",
       "                      [[-1.0942, -0.2883, -0.0287, -1.9157],\n",
       "                       [-1.2797, -1.1890, -1.4070, -0.8795],\n",
       "                       [ 1.3458,  0.2088,  1.3505,  1.4118]],\n",
       "              \n",
       "                      [[-1.0942, -0.2883, -0.0287, -1.9157],\n",
       "                       [-1.2797, -1.1890, -1.4070, -0.8795],\n",
       "                       [ 1.3458,  0.2088,  1.3505,  1.4118]],\n",
       "              \n",
       "                      [[-1.0942, -0.2883, -0.0287, -1.9157],\n",
       "                       [-1.2797, -1.1890, -1.4070, -0.8795],\n",
       "                       [ 1.3458,  0.2088,  1.3505,  1.4118]],\n",
       "              \n",
       "                      [[-1.0942, -0.2883, -0.0287, -1.9157],\n",
       "                       [-1.2797, -1.1890, -1.4070, -0.8795],\n",
       "                       [ 1.3458,  0.2088,  1.3505,  1.4118]]]),\n",
       "       ),\n",
       ")"
      ]
     },
     "execution_count": 25,
     "metadata": {},
     "output_type": "execute_result"
    }
   ],
   "source": [
    "batches = [Batch(**_TREE_DATA_2) for _ in range(8)]\n",
    "\n",
    "Batch.stack(batches)"
   ]
  },
  {
   "cell_type": "code",
   "execution_count": 26,
   "id": "ec9037a3",
   "metadata": {
    "execution": {
     "iopub.execute_input": "2023-02-27T11:38:01.282437Z",
     "iopub.status.busy": "2023-02-27T11:38:01.281443Z",
     "iopub.status.idle": "2023-02-27T11:38:06.881824Z",
     "shell.execute_reply": "2023-02-27T11:38:06.880959Z"
    }
   },
   "outputs": [
    {
     "name": "stdout",
     "output_type": "stream",
     "text": [
      "69 µs ± 157 ns per loop (mean ± std. dev. of 7 runs, 10,000 loops each)\n"
     ]
    }
   ],
   "source": [
    "%timeit Batch.stack(batches)"
   ]
  },
  {
   "cell_type": "code",
   "execution_count": 27,
   "id": "cb8ab77e",
   "metadata": {
    "execution": {
     "iopub.execute_input": "2023-02-27T11:38:06.884968Z",
     "iopub.status.busy": "2023-02-27T11:38:06.884585Z",
     "iopub.status.idle": "2023-02-27T11:38:06.892158Z",
     "shell.execute_reply": "2023-02-27T11:38:06.891504Z"
    }
   },
   "outputs": [
    {
     "data": {
      "text/plain": [
       "Batch(\n",
       "    a: tensor([[ 0.0700,  1.2872, -0.1570],\n",
       "               [-0.9522,  0.9468, -0.4784],\n",
       "               [ 0.0700,  1.2872, -0.1570],\n",
       "               [-0.9522,  0.9468, -0.4784],\n",
       "               [ 0.0700,  1.2872, -0.1570],\n",
       "               [-0.9522,  0.9468, -0.4784],\n",
       "               [ 0.0700,  1.2872, -0.1570],\n",
       "               [-0.9522,  0.9468, -0.4784],\n",
       "               [ 0.0700,  1.2872, -0.1570],\n",
       "               [-0.9522,  0.9468, -0.4784],\n",
       "               [ 0.0700,  1.2872, -0.1570],\n",
       "               [-0.9522,  0.9468, -0.4784],\n",
       "               [ 0.0700,  1.2872, -0.1570],\n",
       "               [-0.9522,  0.9468, -0.4784],\n",
       "               [ 0.0700,  1.2872, -0.1570],\n",
       "               [-0.9522,  0.9468, -0.4784]]),\n",
       "    x: Batch(\n",
       "           c: tensor([[-1.0942, -0.2883, -0.0287, -1.9157],\n",
       "                      [-1.2797, -1.1890, -1.4070, -0.8795],\n",
       "                      [ 1.3458,  0.2088,  1.3505,  1.4118],\n",
       "                      [-1.0942, -0.2883, -0.0287, -1.9157],\n",
       "                      [-1.2797, -1.1890, -1.4070, -0.8795],\n",
       "                      [ 1.3458,  0.2088,  1.3505,  1.4118],\n",
       "                      [-1.0942, -0.2883, -0.0287, -1.9157],\n",
       "                      [-1.2797, -1.1890, -1.4070, -0.8795],\n",
       "                      [ 1.3458,  0.2088,  1.3505,  1.4118],\n",
       "                      [-1.0942, -0.2883, -0.0287, -1.9157],\n",
       "                      [-1.2797, -1.1890, -1.4070, -0.8795],\n",
       "                      [ 1.3458,  0.2088,  1.3505,  1.4118],\n",
       "                      [-1.0942, -0.2883, -0.0287, -1.9157],\n",
       "                      [-1.2797, -1.1890, -1.4070, -0.8795],\n",
       "                      [ 1.3458,  0.2088,  1.3505,  1.4118],\n",
       "                      [-1.0942, -0.2883, -0.0287, -1.9157],\n",
       "                      [-1.2797, -1.1890, -1.4070, -0.8795],\n",
       "                      [ 1.3458,  0.2088,  1.3505,  1.4118],\n",
       "                      [-1.0942, -0.2883, -0.0287, -1.9157],\n",
       "                      [-1.2797, -1.1890, -1.4070, -0.8795],\n",
       "                      [ 1.3458,  0.2088,  1.3505,  1.4118],\n",
       "                      [-1.0942, -0.2883, -0.0287, -1.9157],\n",
       "                      [-1.2797, -1.1890, -1.4070, -0.8795],\n",
       "                      [ 1.3458,  0.2088,  1.3505,  1.4118]]),\n",
       "       ),\n",
       ")"
      ]
     },
     "execution_count": 27,
     "metadata": {},
     "output_type": "execute_result"
    }
   ],
   "source": [
    "Batch.cat(batches)"
   ]
  },
  {
   "cell_type": "code",
   "execution_count": 28,
   "id": "18dfb045",
   "metadata": {
    "execution": {
     "iopub.execute_input": "2023-02-27T11:38:06.895002Z",
     "iopub.status.busy": "2023-02-27T11:38:06.894461Z",
     "iopub.status.idle": "2023-02-27T11:38:18.381357Z",
     "shell.execute_reply": "2023-02-27T11:38:18.380493Z"
    }
   },
   "outputs": [
    {
     "name": "stdout",
     "output_type": "stream",
     "text": [
      "142 µs ± 283 ns per loop (mean ± std. dev. of 7 runs, 10,000 loops each)\n"
     ]
    }
   ],
   "source": [
    "%timeit Batch.cat(batches)"
   ]
  },
  {
   "cell_type": "code",
   "execution_count": 29,
   "id": "c6688e51",
   "metadata": {
    "execution": {
     "iopub.execute_input": "2023-02-27T11:38:18.384495Z",
     "iopub.status.busy": "2023-02-27T11:38:18.384109Z",
     "iopub.status.idle": "2023-02-27T11:38:20.767878Z",
     "shell.execute_reply": "2023-02-27T11:38:20.767106Z"
    }
   },
   "outputs": [
    {
     "name": "stdout",
     "output_type": "stream",
     "text": [
      "293 µs ± 522 ns per loop (mean ± std. dev. of 7 runs, 1,000 loops each)\n"
     ]
    }
   ],
   "source": [
    "batch = Batch({\n",
    "    'obs': torch.randn(8, 4, 84, 84),\n",
    "    'action': torch.randint(0, 6, size=(8, 1,)),\n",
    "    'reward': torch.rand(8, 1)}\n",
    ")\n",
    "\n",
    "%timeit list(Batch.split(batch, 1, shuffle=False, merge_last=True))"
   ]
  },
  {
   "cell_type": "code",
   "execution_count": null,
   "id": "2539fbd9",
   "metadata": {},
   "outputs": [],
   "source": []
  }
 ],
 "metadata": {
  "kernelspec": {
   "display_name": "Python 3 (ipykernel)",
   "language": "python",
   "name": "python3"
  },
  "language_info": {
   "codemirror_mode": {
    "name": "ipython",
    "version": 3
   },
   "file_extension": ".py",
   "mimetype": "text/x-python",
   "name": "python",
   "nbconvert_exporter": "python",
   "pygments_lexer": "ipython3",
   "version": "3.8.16"
  }
 },
 "nbformat": 4,
 "nbformat_minor": 5
}
