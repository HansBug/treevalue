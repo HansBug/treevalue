{
 "cells": [
  {
   "cell_type": "markdown",
   "id": "1a1cab6c",
   "metadata": {},
   "source": [
    "# Comparison Between TreeValue and Jax LibTree"
   ]
  },
  {
   "cell_type": "markdown",
   "id": "a9426f1e",
   "metadata": {},
   "source": [
    "In this section, we will take a look at the feature and performance of the [jax-libtree](https://jax.readthedocs.io/en/latest/pytrees.html) library, which is developed by Google."
   ]
  },
  {
   "cell_type": "code",
   "execution_count": 1,
   "id": "0f4b6d16",
   "metadata": {
    "execution": {
     "iopub.execute_input": "2023-03-06T11:09:02.882654Z",
     "iopub.status.busy": "2023-03-06T11:09:02.882400Z",
     "iopub.status.idle": "2023-03-06T11:09:02.892996Z",
     "shell.execute_reply": "2023-03-06T11:09:02.892128Z"
    }
   },
   "outputs": [],
   "source": [
    "_TREE_DATA_1 = {'a': 1, 'b': 2, 'x': {'c': 3, 'd': 4}}"
   ]
  },
  {
   "cell_type": "markdown",
   "id": "b1085059",
   "metadata": {},
   "source": [
    "## Mapping Operation"
   ]
  },
  {
   "cell_type": "markdown",
   "id": "4ded33f7",
   "metadata": {},
   "source": [
    "### TreeValue's Mapping"
   ]
  },
  {
   "cell_type": "code",
   "execution_count": 2,
   "id": "aa9abbed",
   "metadata": {
    "execution": {
     "iopub.execute_input": "2023-03-06T11:09:02.896454Z",
     "iopub.status.busy": "2023-03-06T11:09:02.895824Z",
     "iopub.status.idle": "2023-03-06T11:09:04.380692Z",
     "shell.execute_reply": "2023-03-06T11:09:04.379663Z"
    }
   },
   "outputs": [
    {
     "name": "stderr",
     "output_type": "stream",
     "text": [
      "/opt/hostedtoolcache/Python/3.8.16/x64/lib/python3.8/site-packages/tqdm/auto.py:21: TqdmWarning: IProgress not found. Please update jupyter and ipywidgets. See https://ipywidgets.readthedocs.io/en/stable/user_install.html\n",
      "  from .autonotebook import tqdm as notebook_tqdm\n"
     ]
    },
    {
     "data": {
      "text/plain": [
       "<FastTreeValue 0x7fc44026bcd0>\n",
       "├── 'a' --> 1\n",
       "├── 'b' --> 4\n",
       "└── 'x' --> <FastTreeValue 0x7fc44026bca0>\n",
       "    ├── 'c' --> 9\n",
       "    └── 'd' --> 16"
      ]
     },
     "execution_count": 2,
     "metadata": {},
     "output_type": "execute_result"
    }
   ],
   "source": [
    "from treevalue import mapping, FastTreeValue\n",
    "\n",
    "t = FastTreeValue(_TREE_DATA_1)\n",
    "mapping(t, lambda x: x ** 2)"
   ]
  },
  {
   "cell_type": "code",
   "execution_count": 3,
   "id": "4dc3420b",
   "metadata": {
    "execution": {
     "iopub.execute_input": "2023-03-06T11:09:04.384485Z",
     "iopub.status.busy": "2023-03-06T11:09:04.384171Z",
     "iopub.status.idle": "2023-03-06T11:09:07.331472Z",
     "shell.execute_reply": "2023-03-06T11:09:07.330242Z"
    }
   },
   "outputs": [
    {
     "name": "stdout",
     "output_type": "stream",
     "text": [
      "3.61 µs ± 107 ns per loop (mean ± std. dev. of 7 runs, 100,000 loops each)\n"
     ]
    }
   ],
   "source": [
    "%timeit mapping(t, lambda x: x ** 2)"
   ]
  },
  {
   "cell_type": "code",
   "execution_count": 4,
   "id": "289e14c6",
   "metadata": {
    "execution": {
     "iopub.execute_input": "2023-03-06T11:09:07.335314Z",
     "iopub.status.busy": "2023-03-06T11:09:07.334975Z",
     "iopub.status.idle": "2023-03-06T11:09:07.342072Z",
     "shell.execute_reply": "2023-03-06T11:09:07.341123Z"
    }
   },
   "outputs": [
    {
     "data": {
      "text/plain": [
       "<FastTreeValue 0x7fc44026b490>\n",
       "├── 'a' --> (1, ('a',))\n",
       "├── 'b' --> (4, ('b',))\n",
       "└── 'x' --> <FastTreeValue 0x7fc44026bd60>\n",
       "    ├── 'c' --> (9, ('x', 'c'))\n",
       "    └── 'd' --> (16, ('x', 'd'))"
      ]
     },
     "execution_count": 4,
     "metadata": {},
     "output_type": "execute_result"
    }
   ],
   "source": [
    "mapping(t, lambda x, p: (x ** 2, p))"
   ]
  },
  {
   "cell_type": "code",
   "execution_count": 5,
   "id": "fce10189",
   "metadata": {
    "execution": {
     "iopub.execute_input": "2023-03-06T11:09:07.345525Z",
     "iopub.status.busy": "2023-03-06T11:09:07.345240Z",
     "iopub.status.idle": "2023-03-06T11:09:10.469263Z",
     "shell.execute_reply": "2023-03-06T11:09:10.468291Z"
    }
   },
   "outputs": [
    {
     "name": "stdout",
     "output_type": "stream",
     "text": [
      "3.85 µs ± 151 ns per loop (mean ± std. dev. of 7 runs, 100,000 loops each)\n"
     ]
    }
   ],
   "source": [
    "%timeit mapping(t, lambda x, p: (x ** 2, p))"
   ]
  },
  {
   "cell_type": "markdown",
   "id": "18d4346d",
   "metadata": {},
   "source": [
    "### pytree's tree_map"
   ]
  },
  {
   "cell_type": "code",
   "execution_count": 6,
   "id": "91b8e706",
   "metadata": {
    "execution": {
     "iopub.execute_input": "2023-03-06T11:09:10.473542Z",
     "iopub.status.busy": "2023-03-06T11:09:10.472842Z",
     "iopub.status.idle": "2023-03-06T11:09:10.483009Z",
     "shell.execute_reply": "2023-03-06T11:09:10.480717Z"
    }
   },
   "outputs": [
    {
     "data": {
      "text/plain": [
       "{'a': 1, 'b': 4, 'x': {'c': 9, 'd': 16}}"
      ]
     },
     "execution_count": 6,
     "metadata": {},
     "output_type": "execute_result"
    }
   ],
   "source": [
    "from jax.tree_util import tree_map\n",
    "\n",
    "tree_map(lambda x: x ** 2, _TREE_DATA_1)"
   ]
  },
  {
   "cell_type": "code",
   "execution_count": 7,
   "id": "41fa094b",
   "metadata": {
    "execution": {
     "iopub.execute_input": "2023-03-06T11:09:10.486908Z",
     "iopub.status.busy": "2023-03-06T11:09:10.486643Z",
     "iopub.status.idle": "2023-03-06T11:09:15.952381Z",
     "shell.execute_reply": "2023-03-06T11:09:15.951451Z"
    }
   },
   "outputs": [
    {
     "name": "stdout",
     "output_type": "stream",
     "text": [
      "6.69 µs ± 191 ns per loop (mean ± std. dev. of 7 runs, 100,000 loops each)\n"
     ]
    }
   ],
   "source": [
    "%timeit tree_map(lambda x: x ** 2, _TREE_DATA_1)"
   ]
  },
  {
   "cell_type": "markdown",
   "id": "36191201",
   "metadata": {},
   "source": [
    "## Flatten and Unflatten Operation"
   ]
  },
  {
   "cell_type": "markdown",
   "id": "a733f250",
   "metadata": {},
   "source": [
    "### TreeValue's Performance"
   ]
  },
  {
   "cell_type": "code",
   "execution_count": 8,
   "id": "676f03c0",
   "metadata": {
    "execution": {
     "iopub.execute_input": "2023-03-06T11:09:15.956038Z",
     "iopub.status.busy": "2023-03-06T11:09:15.955589Z",
     "iopub.status.idle": "2023-03-06T11:09:15.963575Z",
     "shell.execute_reply": "2023-03-06T11:09:15.962722Z"
    }
   },
   "outputs": [
    {
     "data": {
      "text/plain": [
       "[(('a',), 1), (('b',), 2), (('x', 'c'), 3), (('x', 'd'), 4)]"
      ]
     },
     "execution_count": 8,
     "metadata": {},
     "output_type": "execute_result"
    }
   ],
   "source": [
    "from treevalue import flatten, flatten_keys, flatten_values\n",
    "\n",
    "t_flatted = flatten(t)\n",
    "t_flatted"
   ]
  },
  {
   "cell_type": "code",
   "execution_count": 9,
   "id": "7ca0363d",
   "metadata": {
    "execution": {
     "iopub.execute_input": "2023-03-06T11:09:15.967344Z",
     "iopub.status.busy": "2023-03-06T11:09:15.966836Z",
     "iopub.status.idle": "2023-03-06T11:09:23.199545Z",
     "shell.execute_reply": "2023-03-06T11:09:23.198695Z"
    }
   },
   "outputs": [
    {
     "name": "stdout",
     "output_type": "stream",
     "text": [
      "881 ns ± 13.4 ns per loop (mean ± std. dev. of 7 runs, 1,000,000 loops each)\n"
     ]
    }
   ],
   "source": [
    "%timeit flatten(t)"
   ]
  },
  {
   "cell_type": "code",
   "execution_count": 10,
   "id": "62d3bd2d",
   "metadata": {
    "execution": {
     "iopub.execute_input": "2023-03-06T11:09:23.204411Z",
     "iopub.status.busy": "2023-03-06T11:09:23.203998Z",
     "iopub.status.idle": "2023-03-06T11:09:23.209979Z",
     "shell.execute_reply": "2023-03-06T11:09:23.209046Z"
    }
   },
   "outputs": [
    {
     "data": {
      "text/plain": [
       "[('a',), ('b',), ('x', 'c'), ('x', 'd')]"
      ]
     },
     "execution_count": 10,
     "metadata": {},
     "output_type": "execute_result"
    }
   ],
   "source": [
    "from treevalue import flatten_keys\n",
    "\n",
    "flatten_keys(t)"
   ]
  },
  {
   "cell_type": "code",
   "execution_count": 11,
   "id": "58fbf8c4",
   "metadata": {
    "execution": {
     "iopub.execute_input": "2023-03-06T11:09:23.212927Z",
     "iopub.status.busy": "2023-03-06T11:09:23.212687Z",
     "iopub.status.idle": "2023-03-06T11:09:29.815743Z",
     "shell.execute_reply": "2023-03-06T11:09:29.814826Z"
    }
   },
   "outputs": [
    {
     "name": "stdout",
     "output_type": "stream",
     "text": [
      "816 ns ± 10.1 ns per loop (mean ± std. dev. of 7 runs, 1,000,000 loops each)\n"
     ]
    }
   ],
   "source": [
    "%timeit flatten_keys(t)"
   ]
  },
  {
   "cell_type": "code",
   "execution_count": 12,
   "id": "1448e341",
   "metadata": {
    "execution": {
     "iopub.execute_input": "2023-03-06T11:09:29.819063Z",
     "iopub.status.busy": "2023-03-06T11:09:29.818626Z",
     "iopub.status.idle": "2023-03-06T11:09:29.825773Z",
     "shell.execute_reply": "2023-03-06T11:09:29.824713Z"
    }
   },
   "outputs": [
    {
     "data": {
      "text/plain": [
       "[1, 2, 3, 4]"
      ]
     },
     "execution_count": 12,
     "metadata": {},
     "output_type": "execute_result"
    }
   ],
   "source": [
    "from treevalue import flatten_values\n",
    "\n",
    "flatten_values(t)"
   ]
  },
  {
   "cell_type": "code",
   "execution_count": 13,
   "id": "956cf1c1",
   "metadata": {
    "execution": {
     "iopub.execute_input": "2023-03-06T11:09:29.829145Z",
     "iopub.status.busy": "2023-03-06T11:09:29.828684Z",
     "iopub.status.idle": "2023-03-06T11:09:34.908050Z",
     "shell.execute_reply": "2023-03-06T11:09:34.906883Z"
    }
   },
   "outputs": [
    {
     "name": "stdout",
     "output_type": "stream",
     "text": [
      "625 ns ± 13.2 ns per loop (mean ± std. dev. of 7 runs, 1,000,000 loops each)\n"
     ]
    }
   ],
   "source": [
    "%timeit flatten_values(t)"
   ]
  },
  {
   "cell_type": "code",
   "execution_count": 14,
   "id": "f35e3a6d",
   "metadata": {
    "execution": {
     "iopub.execute_input": "2023-03-06T11:09:34.912007Z",
     "iopub.status.busy": "2023-03-06T11:09:34.911724Z",
     "iopub.status.idle": "2023-03-06T11:09:34.917107Z",
     "shell.execute_reply": "2023-03-06T11:09:34.916313Z"
    }
   },
   "outputs": [
    {
     "data": {
      "text/plain": [
       "<TreeValue 0x7fc44026ba00>\n",
       "├── 'a' --> 1\n",
       "├── 'b' --> 2\n",
       "└── 'x' --> <TreeValue 0x7fc44026bb20>\n",
       "    ├── 'c' --> 3\n",
       "    └── 'd' --> 4"
      ]
     },
     "execution_count": 14,
     "metadata": {},
     "output_type": "execute_result"
    }
   ],
   "source": [
    "from treevalue import unflatten\n",
    "\n",
    "unflatten(t_flatted)"
   ]
  },
  {
   "cell_type": "code",
   "execution_count": 15,
   "id": "52980ab8",
   "metadata": {
    "execution": {
     "iopub.execute_input": "2023-03-06T11:09:34.920642Z",
     "iopub.status.busy": "2023-03-06T11:09:34.920391Z",
     "iopub.status.idle": "2023-03-06T11:09:42.806725Z",
     "shell.execute_reply": "2023-03-06T11:09:42.805832Z"
    }
   },
   "outputs": [
    {
     "name": "stdout",
     "output_type": "stream",
     "text": [
      "974 ns ± 48 ns per loop (mean ± std. dev. of 7 runs, 1,000,000 loops each)\n"
     ]
    }
   ],
   "source": [
    "%timeit unflatten(t_flatted)"
   ]
  },
  {
   "cell_type": "markdown",
   "id": "0ff80a6c",
   "metadata": {},
   "source": [
    "### pytree's Performance"
   ]
  },
  {
   "cell_type": "code",
   "execution_count": 16,
   "id": "e89fc565",
   "metadata": {
    "execution": {
     "iopub.execute_input": "2023-03-06T11:09:42.811405Z",
     "iopub.status.busy": "2023-03-06T11:09:42.809961Z",
     "iopub.status.idle": "2023-03-06T11:09:42.816104Z",
     "shell.execute_reply": "2023-03-06T11:09:42.815398Z"
    }
   },
   "outputs": [
    {
     "name": "stdout",
     "output_type": "stream",
     "text": [
      "Leaves: [1, 2, 3, 4]\n",
      "Treedef: PyTreeDef({'a': *, 'b': *, 'x': {'c': *, 'd': *}})\n"
     ]
    }
   ],
   "source": [
    "from jax.tree_util import tree_flatten\n",
    "\n",
    "leaves, treedef = tree_flatten(_TREE_DATA_1)\n",
    "print('Leaves:', leaves)\n",
    "print('Treedef:', treedef)"
   ]
  },
  {
   "cell_type": "code",
   "execution_count": 17,
   "id": "5d59c4d3",
   "metadata": {
    "execution": {
     "iopub.execute_input": "2023-03-06T11:09:42.819396Z",
     "iopub.status.busy": "2023-03-06T11:09:42.818564Z",
     "iopub.status.idle": "2023-03-06T11:09:44.647091Z",
     "shell.execute_reply": "2023-03-06T11:09:44.646113Z"
    }
   },
   "outputs": [
    {
     "name": "stdout",
     "output_type": "stream",
     "text": [
      "2.24 µs ± 89.8 ns per loop (mean ± std. dev. of 7 runs, 100,000 loops each)\n"
     ]
    }
   ],
   "source": [
    "%timeit tree_flatten(_TREE_DATA_1)"
   ]
  },
  {
   "cell_type": "code",
   "execution_count": 18,
   "id": "bcb1318c",
   "metadata": {
    "execution": {
     "iopub.execute_input": "2023-03-06T11:09:44.650865Z",
     "iopub.status.busy": "2023-03-06T11:09:44.650143Z",
     "iopub.status.idle": "2023-03-06T11:09:44.656325Z",
     "shell.execute_reply": "2023-03-06T11:09:44.655533Z"
    }
   },
   "outputs": [
    {
     "data": {
      "text/plain": [
       "{'a': 1, 'b': 2, 'x': {'c': 3, 'd': 4}}"
      ]
     },
     "execution_count": 18,
     "metadata": {},
     "output_type": "execute_result"
    }
   ],
   "source": [
    "from jax.tree_util import tree_unflatten\n",
    "\n",
    "tree_unflatten(treedef, leaves)"
   ]
  },
  {
   "cell_type": "code",
   "execution_count": 19,
   "id": "638b5144",
   "metadata": {
    "execution": {
     "iopub.execute_input": "2023-03-06T11:09:44.659277Z",
     "iopub.status.busy": "2023-03-06T11:09:44.658907Z",
     "iopub.status.idle": "2023-03-06T11:09:52.594843Z",
     "shell.execute_reply": "2023-03-06T11:09:52.593832Z"
    }
   },
   "outputs": [
    {
     "name": "stdout",
     "output_type": "stream",
     "text": [
      "978 ns ± 22.5 ns per loop (mean ± std. dev. of 7 runs, 1,000,000 loops each)\n"
     ]
    }
   ],
   "source": [
    "%timeit tree_unflatten(treedef, leaves)"
   ]
  },
  {
   "cell_type": "markdown",
   "id": "ffd1522b",
   "metadata": {},
   "source": [
    "## All Operation"
   ]
  },
  {
   "cell_type": "markdown",
   "id": "112c91a1",
   "metadata": {},
   "source": [
    "### TreeValue's Performance"
   ]
  },
  {
   "cell_type": "code",
   "execution_count": 20,
   "id": "1b9c1c51",
   "metadata": {
    "execution": {
     "iopub.execute_input": "2023-03-06T11:09:52.599051Z",
     "iopub.status.busy": "2023-03-06T11:09:52.598387Z",
     "iopub.status.idle": "2023-03-06T11:09:52.605161Z",
     "shell.execute_reply": "2023-03-06T11:09:52.604075Z"
    }
   },
   "outputs": [
    {
     "data": {
      "text/plain": [
       "True"
      ]
     },
     "execution_count": 20,
     "metadata": {},
     "output_type": "execute_result"
    }
   ],
   "source": [
    "all(flatten_values(t))"
   ]
  },
  {
   "cell_type": "code",
   "execution_count": 21,
   "id": "fb8b0b2d",
   "metadata": {
    "execution": {
     "iopub.execute_input": "2023-03-06T11:09:52.608200Z",
     "iopub.status.busy": "2023-03-06T11:09:52.607919Z",
     "iopub.status.idle": "2023-03-06T11:09:58.781078Z",
     "shell.execute_reply": "2023-03-06T11:09:58.780080Z"
    }
   },
   "outputs": [
    {
     "name": "stdout",
     "output_type": "stream",
     "text": [
      "767 ns ± 20.8 ns per loop (mean ± std. dev. of 7 runs, 1,000,000 loops each)\n"
     ]
    }
   ],
   "source": [
    "%timeit all(flatten_values(t))"
   ]
  },
  {
   "cell_type": "markdown",
   "id": "86462abd",
   "metadata": {},
   "source": [
    "### pytree.tree_all's performance"
   ]
  },
  {
   "cell_type": "code",
   "execution_count": 22,
   "id": "64d39484",
   "metadata": {
    "execution": {
     "iopub.execute_input": "2023-03-06T11:09:58.784642Z",
     "iopub.status.busy": "2023-03-06T11:09:58.784139Z",
     "iopub.status.idle": "2023-03-06T11:09:58.788337Z",
     "shell.execute_reply": "2023-03-06T11:09:58.787263Z"
    }
   },
   "outputs": [],
   "source": [
    "from jax.tree_util import tree_all"
   ]
  },
  {
   "cell_type": "code",
   "execution_count": 23,
   "id": "6a8427db",
   "metadata": {
    "execution": {
     "iopub.execute_input": "2023-03-06T11:09:58.796029Z",
     "iopub.status.busy": "2023-03-06T11:09:58.791225Z",
     "iopub.status.idle": "2023-03-06T11:09:58.802598Z",
     "shell.execute_reply": "2023-03-06T11:09:58.801777Z"
    }
   },
   "outputs": [
    {
     "data": {
      "text/plain": [
       "True"
      ]
     },
     "execution_count": 23,
     "metadata": {},
     "output_type": "execute_result"
    }
   ],
   "source": [
    "tree_all(_TREE_DATA_1)"
   ]
  },
  {
   "cell_type": "code",
   "execution_count": 24,
   "id": "e4a4cd59",
   "metadata": {
    "execution": {
     "iopub.execute_input": "2023-03-06T11:09:58.805717Z",
     "iopub.status.busy": "2023-03-06T11:09:58.805415Z",
     "iopub.status.idle": "2023-03-06T11:10:00.760677Z",
     "shell.execute_reply": "2023-03-06T11:10:00.759650Z"
    }
   },
   "outputs": [
    {
     "name": "stdout",
     "output_type": "stream",
     "text": [
      "2.4 µs ± 89 ns per loop (mean ± std. dev. of 7 runs, 100,000 loops each)\n"
     ]
    }
   ],
   "source": [
    "%timeit tree_all(_TREE_DATA_1)"
   ]
  },
  {
   "cell_type": "markdown",
   "id": "f0221182",
   "metadata": {},
   "source": [
    "## Reduce Operation"
   ]
  },
  {
   "cell_type": "markdown",
   "id": "646b4a2e",
   "metadata": {},
   "source": [
    "### TreeValue's Reduce"
   ]
  },
  {
   "cell_type": "code",
   "execution_count": 25,
   "id": "105e9001",
   "metadata": {
    "execution": {
     "iopub.execute_input": "2023-03-06T11:10:00.764833Z",
     "iopub.status.busy": "2023-03-06T11:10:00.764526Z",
     "iopub.status.idle": "2023-03-06T11:10:00.770951Z",
     "shell.execute_reply": "2023-03-06T11:10:00.770110Z"
    }
   },
   "outputs": [
    {
     "data": {
      "text/plain": [
       "10"
      ]
     },
     "execution_count": 25,
     "metadata": {},
     "output_type": "execute_result"
    }
   ],
   "source": [
    "from functools import reduce\n",
    "\n",
    "def _flatten_reduce(tree):\n",
    "    values = flatten_values(tree)\n",
    "    return reduce(lambda x, y: x + y, values)\n",
    "\n",
    "_flatten_reduce(t)"
   ]
  },
  {
   "cell_type": "code",
   "execution_count": 26,
   "id": "71c145c0",
   "metadata": {
    "execution": {
     "iopub.execute_input": "2023-03-06T11:10:00.774073Z",
     "iopub.status.busy": "2023-03-06T11:10:00.773738Z",
     "iopub.status.idle": "2023-03-06T11:10:12.368800Z",
     "shell.execute_reply": "2023-03-06T11:10:12.367242Z"
    }
   },
   "outputs": [
    {
     "name": "stdout",
     "output_type": "stream",
     "text": [
      "1.43 µs ± 26.3 ns per loop (mean ± std. dev. of 7 runs, 1,000,000 loops each)\n"
     ]
    }
   ],
   "source": [
    "%timeit _flatten_reduce(t)"
   ]
  },
  {
   "cell_type": "code",
   "execution_count": 27,
   "id": "20b34964",
   "metadata": {
    "execution": {
     "iopub.execute_input": "2023-03-06T11:10:12.373261Z",
     "iopub.status.busy": "2023-03-06T11:10:12.372715Z",
     "iopub.status.idle": "2023-03-06T11:10:12.380965Z",
     "shell.execute_reply": "2023-03-06T11:10:12.380027Z"
    }
   },
   "outputs": [
    {
     "data": {
      "text/plain": [
       "10"
      ]
     },
     "execution_count": 27,
     "metadata": {},
     "output_type": "execute_result"
    }
   ],
   "source": [
    "def _flatten_reduce_with_init(tree):\n",
    "    values = flatten_values(tree)\n",
    "    return reduce(lambda x, y: x + y, values, 0)\n",
    "\n",
    "_flatten_reduce_with_init(t)"
   ]
  },
  {
   "cell_type": "code",
   "execution_count": 28,
   "id": "ca8562c5",
   "metadata": {
    "execution": {
     "iopub.execute_input": "2023-03-06T11:10:12.384164Z",
     "iopub.status.busy": "2023-03-06T11:10:12.383781Z",
     "iopub.status.idle": "2023-03-06T11:10:24.881804Z",
     "shell.execute_reply": "2023-03-06T11:10:24.880702Z"
    }
   },
   "outputs": [
    {
     "name": "stdout",
     "output_type": "stream",
     "text": [
      "1.53 µs ± 24.9 ns per loop (mean ± std. dev. of 7 runs, 1,000,000 loops each)\n"
     ]
    }
   ],
   "source": [
    "%timeit _flatten_reduce_with_init(t)"
   ]
  },
  {
   "cell_type": "markdown",
   "id": "12b2a28a",
   "metadata": {},
   "source": [
    "### pytree.tree_reduce"
   ]
  },
  {
   "cell_type": "code",
   "execution_count": 29,
   "id": "14e9237e",
   "metadata": {
    "execution": {
     "iopub.execute_input": "2023-03-06T11:10:24.885898Z",
     "iopub.status.busy": "2023-03-06T11:10:24.885494Z",
     "iopub.status.idle": "2023-03-06T11:10:24.892952Z",
     "shell.execute_reply": "2023-03-06T11:10:24.892100Z"
    }
   },
   "outputs": [
    {
     "data": {
      "text/plain": [
       "10"
      ]
     },
     "execution_count": 29,
     "metadata": {},
     "output_type": "execute_result"
    }
   ],
   "source": [
    "from jax.tree_util import tree_reduce\n",
    "\n",
    "tree_reduce(lambda x, y: x + y, _TREE_DATA_1)"
   ]
  },
  {
   "cell_type": "code",
   "execution_count": 30,
   "id": "f6c5cfda",
   "metadata": {
    "execution": {
     "iopub.execute_input": "2023-03-06T11:10:24.896245Z",
     "iopub.status.busy": "2023-03-06T11:10:24.896000Z",
     "iopub.status.idle": "2023-03-06T11:10:27.533501Z",
     "shell.execute_reply": "2023-03-06T11:10:27.532586Z"
    }
   },
   "outputs": [
    {
     "name": "stdout",
     "output_type": "stream",
     "text": [
      "3.24 µs ± 52.9 ns per loop (mean ± std. dev. of 7 runs, 100,000 loops each)\n"
     ]
    }
   ],
   "source": [
    "%timeit tree_reduce(lambda x, y: x + y, _TREE_DATA_1)"
   ]
  },
  {
   "cell_type": "code",
   "execution_count": 31,
   "id": "e79fb73b",
   "metadata": {
    "execution": {
     "iopub.execute_input": "2023-03-06T11:10:27.537273Z",
     "iopub.status.busy": "2023-03-06T11:10:27.536841Z",
     "iopub.status.idle": "2023-03-06T11:10:27.545360Z",
     "shell.execute_reply": "2023-03-06T11:10:27.544436Z"
    }
   },
   "outputs": [
    {
     "data": {
      "text/plain": [
       "10"
      ]
     },
     "execution_count": 31,
     "metadata": {},
     "output_type": "execute_result"
    }
   ],
   "source": [
    "tree_reduce(lambda x, y: x + y, _TREE_DATA_1, 0)"
   ]
  },
  {
   "cell_type": "code",
   "execution_count": 32,
   "id": "af47dd74",
   "metadata": {
    "execution": {
     "iopub.execute_input": "2023-03-06T11:10:27.548928Z",
     "iopub.status.busy": "2023-03-06T11:10:27.548266Z",
     "iopub.status.idle": "2023-03-06T11:10:30.244557Z",
     "shell.execute_reply": "2023-03-06T11:10:30.243712Z"
    }
   },
   "outputs": [
    {
     "name": "stdout",
     "output_type": "stream",
     "text": [
      "3.29 µs ± 162 ns per loop (mean ± std. dev. of 7 runs, 100,000 loops each)\n"
     ]
    }
   ],
   "source": [
    "%timeit tree_reduce(lambda x, y: x + y, _TREE_DATA_1, 0)"
   ]
  },
  {
   "cell_type": "markdown",
   "id": "6e58b70f",
   "metadata": {},
   "source": [
    "## Structure Transpose"
   ]
  },
  {
   "cell_type": "markdown",
   "id": "a4a31f9e",
   "metadata": {},
   "source": [
    "### Subside and Rise in TreeValue"
   ]
  },
  {
   "cell_type": "code",
   "execution_count": 33,
   "id": "b6af689f",
   "metadata": {
    "execution": {
     "iopub.execute_input": "2023-03-06T11:10:30.248370Z",
     "iopub.status.busy": "2023-03-06T11:10:30.247948Z",
     "iopub.status.idle": "2023-03-06T11:10:30.259398Z",
     "shell.execute_reply": "2023-03-06T11:10:30.258502Z"
    }
   },
   "outputs": [
    {
     "data": {
      "text/plain": [
       "<FastTreeValue 0x7fc4422f7910>\n",
       "├── 'a' --> {'a': 1, 'b': 10, 'c': {'x': 100, 'y': 400}}\n",
       "└── 'b' --> <FastTreeValue 0x7fc44026b460>\n",
       "    ├── 'x' --> {'a': 2, 'b': 20, 'c': {'x': 200, 'y': 500}}\n",
       "    └── 'y' --> {'a': 3, 'b': 30, 'c': {'x': 300, 'y': 600}}"
      ]
     },
     "execution_count": 33,
     "metadata": {},
     "output_type": "execute_result"
    }
   ],
   "source": [
    "from treevalue import subside\n",
    "\n",
    "value = {\n",
    "    'a': FastTreeValue({'a': 1, 'b': {'x': 2, 'y': 3}}),\n",
    "    'b': FastTreeValue({'a': 10, 'b': {'x': 20, 'y': 30}}),\n",
    "    'c': {\n",
    "        'x': FastTreeValue({'a': 100, 'b': {'x': 200, 'y': 300}}),\n",
    "        'y': FastTreeValue({'a': 400, 'b': {'x': 500, 'y': 600}}),\n",
    "    },\n",
    "}\n",
    "subside(value)"
   ]
  },
  {
   "cell_type": "code",
   "execution_count": 34,
   "id": "b85caa84",
   "metadata": {
    "execution": {
     "iopub.execute_input": "2023-03-06T11:10:30.262884Z",
     "iopub.status.busy": "2023-03-06T11:10:30.262631Z",
     "iopub.status.idle": "2023-03-06T11:10:42.942877Z",
     "shell.execute_reply": "2023-03-06T11:10:42.941913Z"
    }
   },
   "outputs": [
    {
     "name": "stdout",
     "output_type": "stream",
     "text": [
      "15.7 µs ± 319 ns per loop (mean ± std. dev. of 7 runs, 100,000 loops each)\n"
     ]
    }
   ],
   "source": [
    "%timeit subside(value)"
   ]
  },
  {
   "cell_type": "code",
   "execution_count": 35,
   "id": "f304d286",
   "metadata": {
    "execution": {
     "iopub.execute_input": "2023-03-06T11:10:42.946410Z",
     "iopub.status.busy": "2023-03-06T11:10:42.945951Z",
     "iopub.status.idle": "2023-03-06T11:10:42.956339Z",
     "shell.execute_reply": "2023-03-06T11:10:42.955512Z"
    }
   },
   "outputs": [
    {
     "data": {
      "text/plain": [
       "{'b': {'x': <FastTreeValue 0x7fc38f0b35e0>\n",
       "  ├── 'a' --> 2\n",
       "  ├── 'b' --> 20\n",
       "  └── 'c' --> <FastTreeValue 0x7fc38f0b3520>\n",
       "      ├── 'x' --> 200\n",
       "      └── 'y' --> 500,\n",
       "  'y': <FastTreeValue 0x7fc38f5ad5e0>\n",
       "  ├── 'a' --> 3\n",
       "  ├── 'b' --> 30\n",
       "  └── 'c' --> <FastTreeValue 0x7fc38f5ad520>\n",
       "      ├── 'x' --> 300\n",
       "      └── 'y' --> 600},\n",
       " 'a': <FastTreeValue 0x7fc440272040>\n",
       " ├── 'a' --> 1\n",
       " ├── 'b' --> 10\n",
       " └── 'c' --> <FastTreeValue 0x7fc44026b2b0>\n",
       "     ├── 'x' --> 100\n",
       "     └── 'y' --> 400}"
      ]
     },
     "execution_count": 35,
     "metadata": {},
     "output_type": "execute_result"
    }
   ],
   "source": [
    "from treevalue import raw, rise\n",
    "\n",
    "value = FastTreeValue({\n",
    "    'a': raw({'a': 1, 'b': {'x': 2, 'y': 3}}),\n",
    "    'b': raw({'a': 10, 'b': {'x': 20, 'y': 30}}),\n",
    "    'c': {\n",
    "        'x': raw({'a': 100, 'b': {'x': 200, 'y': 300}}),\n",
    "        'y': raw({'a': 400, 'b': {'x': 500, 'y': 600}}),\n",
    "    },\n",
    "})\n",
    "rise(value)"
   ]
  },
  {
   "cell_type": "code",
   "execution_count": 36,
   "id": "62d34321",
   "metadata": {
    "execution": {
     "iopub.execute_input": "2023-03-06T11:10:42.959596Z",
     "iopub.status.busy": "2023-03-06T11:10:42.959302Z",
     "iopub.status.idle": "2023-03-06T11:10:56.972594Z",
     "shell.execute_reply": "2023-03-06T11:10:56.971607Z"
    }
   },
   "outputs": [
    {
     "name": "stdout",
     "output_type": "stream",
     "text": [
      "17.3 µs ± 483 ns per loop (mean ± std. dev. of 7 runs, 100,000 loops each)\n"
     ]
    }
   ],
   "source": [
    "%timeit rise(value)"
   ]
  },
  {
   "cell_type": "code",
   "execution_count": 37,
   "id": "f0ed4793",
   "metadata": {
    "execution": {
     "iopub.execute_input": "2023-03-06T11:10:56.977024Z",
     "iopub.status.busy": "2023-03-06T11:10:56.976496Z",
     "iopub.status.idle": "2023-03-06T11:10:56.984847Z",
     "shell.execute_reply": "2023-03-06T11:10:56.984076Z"
    }
   },
   "outputs": [
    {
     "data": {
      "text/plain": [
       "{'a': <FastTreeValue 0x7fc38f0b3df0>\n",
       " ├── 'a' --> 1\n",
       " ├── 'b' --> 10\n",
       " └── 'c' --> <FastTreeValue 0x7fc38f0b3970>\n",
       "     ├── 'x' --> 100\n",
       "     └── 'y' --> 400,\n",
       " 'b': {'x': <FastTreeValue 0x7fc38f0b3b80>\n",
       "  ├── 'a' --> 2\n",
       "  ├── 'b' --> 20\n",
       "  └── 'c' --> <FastTreeValue 0x7fc38f0b39d0>\n",
       "      ├── 'x' --> 200\n",
       "      └── 'y' --> 500,\n",
       "  'y': <FastTreeValue 0x7fc38f0b37c0>\n",
       "  ├── 'a' --> 3\n",
       "  ├── 'b' --> 30\n",
       "  └── 'c' --> <FastTreeValue 0x7fc38f0b39a0>\n",
       "      ├── 'x' --> 300\n",
       "      └── 'y' --> 600}}"
      ]
     },
     "execution_count": 37,
     "metadata": {},
     "output_type": "execute_result"
    }
   ],
   "source": [
    "vt = {'a': None, 'b': {'x': None, 'y': None}}\n",
    "rise(value, template=vt)"
   ]
  },
  {
   "cell_type": "code",
   "execution_count": 38,
   "id": "a6ad3639",
   "metadata": {
    "execution": {
     "iopub.execute_input": "2023-03-06T11:10:56.987954Z",
     "iopub.status.busy": "2023-03-06T11:10:56.987707Z",
     "iopub.status.idle": "2023-03-06T11:11:08.464199Z",
     "shell.execute_reply": "2023-03-06T11:11:08.463212Z"
    }
   },
   "outputs": [
    {
     "name": "stdout",
     "output_type": "stream",
     "text": [
      "14.1 µs ± 347 ns per loop (mean ± std. dev. of 7 runs, 100,000 loops each)\n"
     ]
    }
   ],
   "source": [
    "%timeit rise(value, template=vt)"
   ]
  },
  {
   "cell_type": "markdown",
   "id": "19ee26c6",
   "metadata": {},
   "source": [
    "### pytree.tree_transpose"
   ]
  },
  {
   "cell_type": "code",
   "execution_count": 39,
   "id": "7f24f0f6",
   "metadata": {
    "execution": {
     "iopub.execute_input": "2023-03-06T11:11:08.467644Z",
     "iopub.status.busy": "2023-03-06T11:11:08.467026Z",
     "iopub.status.idle": "2023-03-06T11:11:08.477821Z",
     "shell.execute_reply": "2023-03-06T11:11:08.476938Z"
    }
   },
   "outputs": [
    {
     "data": {
      "text/plain": [
       "{'a': {'a': 1, 'b': 10, 'c': {'x': 100, 'y': 400}},\n",
       " 'b': {'x': {'a': 2, 'b': 20, 'c': {'x': 200, 'y': 500}},\n",
       "  'y': {'a': 3, 'b': 30, 'c': {'x': 300, 'y': 600}}}}"
      ]
     },
     "execution_count": 39,
     "metadata": {},
     "output_type": "execute_result"
    }
   ],
   "source": [
    "from jax.tree_util import tree_structure, tree_transpose\n",
    "\n",
    "sto = tree_structure({'a': 1, 'b': 2, 'c': {'x': 3, 'y': 4}})\n",
    "sti = tree_structure({'a': 1, 'b': {'x': 2, 'y': 3}})\n",
    "\n",
    "value = (\n",
    "    {'a': 1, 'b': {'x': 2, 'y': 3}},\n",
    "    {\n",
    "        'a': {'a': 10, 'b': {'x': 20, 'y': 30}},\n",
    "        'b': [\n",
    "            {'a': 100, 'b': {'x': 200, 'y': 300}},\n",
    "            {'a': 400, 'b': {'x': 500, 'y': 600}},\n",
    "        ],\n",
    "    }\n",
    ")\n",
    "tree_transpose(sto, sti, value)"
   ]
  },
  {
   "cell_type": "code",
   "execution_count": 40,
   "id": "d04072f3",
   "metadata": {
    "execution": {
     "iopub.execute_input": "2023-03-06T11:11:08.481088Z",
     "iopub.status.busy": "2023-03-06T11:11:08.480309Z",
     "iopub.status.idle": "2023-03-06T11:11:22.367679Z",
     "shell.execute_reply": "2023-03-06T11:11:22.366642Z"
    }
   },
   "outputs": [
    {
     "name": "stdout",
     "output_type": "stream",
     "text": [
      "17.1 µs ± 354 ns per loop (mean ± std. dev. of 7 runs, 100,000 loops each)\n"
     ]
    }
   ],
   "source": [
    "%timeit tree_transpose(sto, sti, value)"
   ]
  },
  {
   "cell_type": "code",
   "execution_count": null,
   "id": "f2a580a3",
   "metadata": {},
   "outputs": [],
   "source": []
  }
 ],
 "metadata": {
  "kernelspec": {
   "display_name": "Python 3 (ipykernel)",
   "language": "python",
   "name": "python3"
  },
  "language_info": {
   "codemirror_mode": {
    "name": "ipython",
    "version": 3
   },
   "file_extension": ".py",
   "mimetype": "text/x-python",
   "name": "python",
   "nbconvert_exporter": "python",
   "pygments_lexer": "ipython3",
   "version": "3.8.16"
  }
 },
 "nbformat": 4,
 "nbformat_minor": 5
}
