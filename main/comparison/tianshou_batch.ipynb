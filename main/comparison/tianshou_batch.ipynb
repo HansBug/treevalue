{
 "cells": [
  {
   "cell_type": "markdown",
   "id": "9d39d946",
   "metadata": {},
   "source": [
    "# Comparison Between TreeValue and Tianshou Batch"
   ]
  },
  {
   "cell_type": "markdown",
   "id": "3c6db2d4",
   "metadata": {},
   "source": [
    "In this section, we will take a look at the feature and performance of the [Tianshou Batch](https://github.com/thu-ml/tianshou) library, which is developed by Tsinghua Machine Learning Group."
   ]
  },
  {
   "cell_type": "markdown",
   "id": "069361b0",
   "metadata": {},
   "source": [
    "Before starting the comparison, let us define some thing."
   ]
  },
  {
   "cell_type": "code",
   "execution_count": 1,
   "id": "06fc8d26",
   "metadata": {
    "execution": {
     "iopub.execute_input": "2023-02-27T12:41:13.497134Z",
     "iopub.status.busy": "2023-02-27T12:41:13.496741Z",
     "iopub.status.idle": "2023-02-27T12:41:14.413993Z",
     "shell.execute_reply": "2023-02-27T12:41:14.413297Z"
    }
   },
   "outputs": [
    {
     "name": "stderr",
     "output_type": "stream",
     "text": [
      "/opt/hostedtoolcache/Python/3.8.16/x64/lib/python3.8/site-packages/tqdm/auto.py:22: TqdmWarning: IProgress not found. Please update jupyter and ipywidgets. See https://ipywidgets.readthedocs.io/en/stable/user_install.html\n",
      "  from .autonotebook import tqdm as notebook_tqdm\n"
     ]
    }
   ],
   "source": [
    "import torch \n",
    "\n",
    "_TREE_DATA_1 = {'a': 1, 'b': 2, 'x': {'c': 3, 'd': 4}}\n",
    "_TREE_DATA_2 = {\n",
    "    'a': torch.randn(2, 3), \n",
    "    'x': {\n",
    "        'c': torch.randn(3, 4)\n",
    "    },\n",
    "}\n",
    "_TREE_DATA_3 = {\n",
    "    'obs': torch.randn(4, 84, 84),\n",
    "    'action': torch.randint(0, 6, size=(1,)),\n",
    "    'reward': torch.rand(1),\n",
    "}"
   ]
  },
  {
   "cell_type": "markdown",
   "id": "83461b25",
   "metadata": {},
   "source": [
    "## Read and Write Operation"
   ]
  },
  {
   "cell_type": "markdown",
   "id": "067b3f73",
   "metadata": {},
   "source": [
    "Reading and writing are the two most common operations in the tree data structure based on the data model (TreeValue and Tianshou Batch both belong to this type), so this section will compare the reading and writing performance of these two libraries."
   ]
  },
  {
   "cell_type": "markdown",
   "id": "5d09a5b7",
   "metadata": {},
   "source": [
    "### TreeValue's Get and Set"
   ]
  },
  {
   "cell_type": "code",
   "execution_count": 2,
   "id": "9519c4bb",
   "metadata": {
    "execution": {
     "iopub.execute_input": "2023-02-27T12:41:14.417262Z",
     "iopub.status.busy": "2023-02-27T12:41:14.416644Z",
     "iopub.status.idle": "2023-02-27T12:41:14.698144Z",
     "shell.execute_reply": "2023-02-27T12:41:14.697453Z"
    }
   },
   "outputs": [],
   "source": [
    "from treevalue import FastTreeValue\n",
    "\n",
    "t = FastTreeValue(_TREE_DATA_2)"
   ]
  },
  {
   "cell_type": "code",
   "execution_count": 3,
   "id": "11c37677",
   "metadata": {
    "execution": {
     "iopub.execute_input": "2023-02-27T12:41:14.701517Z",
     "iopub.status.busy": "2023-02-27T12:41:14.700915Z",
     "iopub.status.idle": "2023-02-27T12:41:14.710251Z",
     "shell.execute_reply": "2023-02-27T12:41:14.709667Z"
    }
   },
   "outputs": [
    {
     "data": {
      "text/plain": [
       "<FastTreeValue 0x7fae0804c550>\n",
       "├── 'a' --> tensor([[ 0.5409, -0.3825,  0.2127],\n",
       "│                   [ 0.1611,  0.1480, -0.2696]])\n",
       "└── 'x' --> <FastTreeValue 0x7fae0804cf70>\n",
       "    └── 'c' --> tensor([[ 0.3072, -1.1103, -0.6346, -0.7643],\n",
       "                        [-0.0895,  0.1214,  0.2436,  1.0044],\n",
       "                        [ 0.0679, -0.1757,  0.1821,  0.6198]])"
      ]
     },
     "execution_count": 3,
     "metadata": {},
     "output_type": "execute_result"
    }
   ],
   "source": [
    "t"
   ]
  },
  {
   "cell_type": "code",
   "execution_count": 4,
   "id": "fd70b0b9",
   "metadata": {
    "execution": {
     "iopub.execute_input": "2023-02-27T12:41:14.712758Z",
     "iopub.status.busy": "2023-02-27T12:41:14.712414Z",
     "iopub.status.idle": "2023-02-27T12:41:14.717275Z",
     "shell.execute_reply": "2023-02-27T12:41:14.716661Z"
    }
   },
   "outputs": [
    {
     "data": {
      "text/plain": [
       "tensor([[ 0.5409, -0.3825,  0.2127],\n",
       "        [ 0.1611,  0.1480, -0.2696]])"
      ]
     },
     "execution_count": 4,
     "metadata": {},
     "output_type": "execute_result"
    }
   ],
   "source": [
    "t.a"
   ]
  },
  {
   "cell_type": "code",
   "execution_count": 5,
   "id": "c18197bd",
   "metadata": {
    "execution": {
     "iopub.execute_input": "2023-02-27T12:41:14.720145Z",
     "iopub.status.busy": "2023-02-27T12:41:14.719648Z",
     "iopub.status.idle": "2023-02-27T12:41:19.934681Z",
     "shell.execute_reply": "2023-02-27T12:41:19.933978Z"
    }
   },
   "outputs": [
    {
     "name": "stdout",
     "output_type": "stream",
     "text": [
      "64.6 ns ± 0.0257 ns per loop (mean ± std. dev. of 7 runs, 10,000,000 loops each)\n"
     ]
    }
   ],
   "source": [
    "%timeit t.a"
   ]
  },
  {
   "cell_type": "code",
   "execution_count": 6,
   "id": "bd52f867",
   "metadata": {
    "execution": {
     "iopub.execute_input": "2023-02-27T12:41:19.937904Z",
     "iopub.status.busy": "2023-02-27T12:41:19.937385Z",
     "iopub.status.idle": "2023-02-27T12:41:19.944102Z",
     "shell.execute_reply": "2023-02-27T12:41:19.943481Z"
    }
   },
   "outputs": [
    {
     "data": {
      "text/plain": [
       "<FastTreeValue 0x7fae0804c550>\n",
       "├── 'a' --> tensor([[ 1.1810,  0.3039,  0.9946],\n",
       "│                   [-0.8064,  0.3696, -0.0132]])\n",
       "└── 'x' --> <FastTreeValue 0x7fae0804cf70>\n",
       "    └── 'c' --> tensor([[ 0.3072, -1.1103, -0.6346, -0.7643],\n",
       "                        [-0.0895,  0.1214,  0.2436,  1.0044],\n",
       "                        [ 0.0679, -0.1757,  0.1821,  0.6198]])"
      ]
     },
     "execution_count": 6,
     "metadata": {},
     "output_type": "execute_result"
    }
   ],
   "source": [
    "new_value = torch.randn(2, 3)\n",
    "t.a = new_value\n",
    "\n",
    "t"
   ]
  },
  {
   "cell_type": "code",
   "execution_count": 7,
   "id": "bbe04d1c",
   "metadata": {
    "execution": {
     "iopub.execute_input": "2023-02-27T12:41:19.946796Z",
     "iopub.status.busy": "2023-02-27T12:41:19.946450Z",
     "iopub.status.idle": "2023-02-27T12:41:25.148513Z",
     "shell.execute_reply": "2023-02-27T12:41:25.147631Z"
    }
   },
   "outputs": [
    {
     "name": "stdout",
     "output_type": "stream",
     "text": [
      "64.4 ns ± 0.0263 ns per loop (mean ± std. dev. of 7 runs, 10,000,000 loops each)\n"
     ]
    }
   ],
   "source": [
    "%timeit t.a = new_value"
   ]
  },
  {
   "cell_type": "markdown",
   "id": "48c49731",
   "metadata": {},
   "source": [
    "### Tianshou Batch's Get and Set"
   ]
  },
  {
   "cell_type": "code",
   "execution_count": 8,
   "id": "f1bb14c1",
   "metadata": {
    "execution": {
     "iopub.execute_input": "2023-02-27T12:41:25.151669Z",
     "iopub.status.busy": "2023-02-27T12:41:25.151055Z",
     "iopub.status.idle": "2023-02-27T12:41:25.483631Z",
     "shell.execute_reply": "2023-02-27T12:41:25.482916Z"
    }
   },
   "outputs": [],
   "source": [
    "from tianshou.data import Batch\n",
    "\n",
    "b = Batch(**_TREE_DATA_2)"
   ]
  },
  {
   "cell_type": "code",
   "execution_count": 9,
   "id": "cb0777c3",
   "metadata": {
    "execution": {
     "iopub.execute_input": "2023-02-27T12:41:25.486996Z",
     "iopub.status.busy": "2023-02-27T12:41:25.486296Z",
     "iopub.status.idle": "2023-02-27T12:41:25.492679Z",
     "shell.execute_reply": "2023-02-27T12:41:25.492091Z"
    }
   },
   "outputs": [
    {
     "data": {
      "text/plain": [
       "Batch(\n",
       "    a: tensor([[ 0.5409, -0.3825,  0.2127],\n",
       "               [ 0.1611,  0.1480, -0.2696]]),\n",
       "    x: Batch(\n",
       "           c: tensor([[ 0.3072, -1.1103, -0.6346, -0.7643],\n",
       "                      [-0.0895,  0.1214,  0.2436,  1.0044],\n",
       "                      [ 0.0679, -0.1757,  0.1821,  0.6198]]),\n",
       "       ),\n",
       ")"
      ]
     },
     "execution_count": 9,
     "metadata": {},
     "output_type": "execute_result"
    }
   ],
   "source": [
    "b"
   ]
  },
  {
   "cell_type": "code",
   "execution_count": 10,
   "id": "43ef8ea3",
   "metadata": {
    "execution": {
     "iopub.execute_input": "2023-02-27T12:41:25.495333Z",
     "iopub.status.busy": "2023-02-27T12:41:25.495013Z",
     "iopub.status.idle": "2023-02-27T12:41:25.500550Z",
     "shell.execute_reply": "2023-02-27T12:41:25.499392Z"
    }
   },
   "outputs": [
    {
     "data": {
      "text/plain": [
       "tensor([[ 0.5409, -0.3825,  0.2127],\n",
       "        [ 0.1611,  0.1480, -0.2696]])"
      ]
     },
     "execution_count": 10,
     "metadata": {},
     "output_type": "execute_result"
    }
   ],
   "source": [
    "b.a"
   ]
  },
  {
   "cell_type": "code",
   "execution_count": 11,
   "id": "b785ab72",
   "metadata": {
    "execution": {
     "iopub.execute_input": "2023-02-27T12:41:25.503405Z",
     "iopub.status.busy": "2023-02-27T12:41:25.502931Z",
     "iopub.status.idle": "2023-02-27T12:41:29.990176Z",
     "shell.execute_reply": "2023-02-27T12:41:29.989402Z"
    }
   },
   "outputs": [
    {
     "name": "stdout",
     "output_type": "stream",
     "text": [
      "55.1 ns ± 0.0347 ns per loop (mean ± std. dev. of 7 runs, 10,000,000 loops each)\n"
     ]
    }
   ],
   "source": [
    "%timeit b.a"
   ]
  },
  {
   "cell_type": "code",
   "execution_count": 12,
   "id": "ad54dc69",
   "metadata": {
    "execution": {
     "iopub.execute_input": "2023-02-27T12:41:29.993426Z",
     "iopub.status.busy": "2023-02-27T12:41:29.992867Z",
     "iopub.status.idle": "2023-02-27T12:41:29.999223Z",
     "shell.execute_reply": "2023-02-27T12:41:29.998645Z"
    }
   },
   "outputs": [
    {
     "data": {
      "text/plain": [
       "Batch(\n",
       "    a: tensor([[-0.3924, -0.3521, -0.3187],\n",
       "               [-0.2780, -1.9680,  0.1789]]),\n",
       "    x: Batch(\n",
       "           c: tensor([[ 0.3072, -1.1103, -0.6346, -0.7643],\n",
       "                      [-0.0895,  0.1214,  0.2436,  1.0044],\n",
       "                      [ 0.0679, -0.1757,  0.1821,  0.6198]]),\n",
       "       ),\n",
       ")"
      ]
     },
     "execution_count": 12,
     "metadata": {},
     "output_type": "execute_result"
    }
   ],
   "source": [
    "new_value = torch.randn(2, 3)\n",
    "b.a = new_value\n",
    "\n",
    "b"
   ]
  },
  {
   "cell_type": "code",
   "execution_count": 13,
   "id": "29b1d0bf",
   "metadata": {
    "execution": {
     "iopub.execute_input": "2023-02-27T12:41:30.001860Z",
     "iopub.status.busy": "2023-02-27T12:41:30.001514Z",
     "iopub.status.idle": "2023-02-27T12:41:34.006818Z",
     "shell.execute_reply": "2023-02-27T12:41:34.006092Z"
    }
   },
   "outputs": [
    {
     "name": "stdout",
     "output_type": "stream",
     "text": [
      "492 ns ± 0.23 ns per loop (mean ± std. dev. of 7 runs, 1,000,000 loops each)\n"
     ]
    }
   ],
   "source": [
    "%timeit b.a = new_value"
   ]
  },
  {
   "cell_type": "markdown",
   "id": "b61ad1d0",
   "metadata": {},
   "source": [
    "## Initialization"
   ]
  },
  {
   "cell_type": "markdown",
   "id": "d70f0d54",
   "metadata": {},
   "source": [
    "### TreeValue's Initialization"
   ]
  },
  {
   "cell_type": "code",
   "execution_count": 14,
   "id": "d32a679b",
   "metadata": {
    "execution": {
     "iopub.execute_input": "2023-02-27T12:41:34.009762Z",
     "iopub.status.busy": "2023-02-27T12:41:34.009519Z",
     "iopub.status.idle": "2023-02-27T12:41:40.882781Z",
     "shell.execute_reply": "2023-02-27T12:41:40.881942Z"
    }
   },
   "outputs": [
    {
     "name": "stdout",
     "output_type": "stream",
     "text": [
      "846 ns ± 0.259 ns per loop (mean ± std. dev. of 7 runs, 1,000,000 loops each)\n"
     ]
    }
   ],
   "source": [
    "%timeit FastTreeValue(_TREE_DATA_1)"
   ]
  },
  {
   "cell_type": "markdown",
   "id": "24f3707b",
   "metadata": {},
   "source": [
    "### Tianshou Batch's Initialization"
   ]
  },
  {
   "cell_type": "code",
   "execution_count": 15,
   "id": "ac3958df",
   "metadata": {
    "execution": {
     "iopub.execute_input": "2023-02-27T12:41:40.885596Z",
     "iopub.status.busy": "2023-02-27T12:41:40.885361Z",
     "iopub.status.idle": "2023-02-27T12:41:50.073976Z",
     "shell.execute_reply": "2023-02-27T12:41:50.073266Z"
    }
   },
   "outputs": [
    {
     "name": "stdout",
     "output_type": "stream",
     "text": [
      "11.3 µs ± 74.8 ns per loop (mean ± std. dev. of 7 runs, 100,000 loops each)\n"
     ]
    }
   ],
   "source": [
    "%timeit Batch(**_TREE_DATA_1)"
   ]
  },
  {
   "cell_type": "markdown",
   "id": "1ab82e2d",
   "metadata": {},
   "source": [
    "## Deep Copy Operation"
   ]
  },
  {
   "cell_type": "code",
   "execution_count": 16,
   "id": "210a9442",
   "metadata": {
    "execution": {
     "iopub.execute_input": "2023-02-27T12:41:50.077281Z",
     "iopub.status.busy": "2023-02-27T12:41:50.076752Z",
     "iopub.status.idle": "2023-02-27T12:41:50.080680Z",
     "shell.execute_reply": "2023-02-27T12:41:50.080083Z"
    }
   },
   "outputs": [],
   "source": [
    "import copy"
   ]
  },
  {
   "cell_type": "markdown",
   "id": "5a736274",
   "metadata": {},
   "source": [
    "### Deep Copy of TreeValue"
   ]
  },
  {
   "cell_type": "code",
   "execution_count": 17,
   "id": "f9bcadd6",
   "metadata": {
    "execution": {
     "iopub.execute_input": "2023-02-27T12:41:50.083546Z",
     "iopub.status.busy": "2023-02-27T12:41:50.083054Z",
     "iopub.status.idle": "2023-02-27T12:42:01.391828Z",
     "shell.execute_reply": "2023-02-27T12:42:01.391164Z"
    }
   },
   "outputs": [
    {
     "name": "stdout",
     "output_type": "stream",
     "text": [
      "139 µs ± 280 ns per loop (mean ± std. dev. of 7 runs, 10,000 loops each)\n"
     ]
    }
   ],
   "source": [
    "t3 = FastTreeValue(_TREE_DATA_3)\n",
    "%timeit copy.deepcopy(t3)"
   ]
  },
  {
   "cell_type": "markdown",
   "id": "bf8be7ea",
   "metadata": {},
   "source": [
    "### Deep Copy of Tianshou Batch"
   ]
  },
  {
   "cell_type": "code",
   "execution_count": 18,
   "id": "91998e6f",
   "metadata": {
    "execution": {
     "iopub.execute_input": "2023-02-27T12:42:01.395087Z",
     "iopub.status.busy": "2023-02-27T12:42:01.394416Z",
     "iopub.status.idle": "2023-02-27T12:42:12.665795Z",
     "shell.execute_reply": "2023-02-27T12:42:12.665111Z"
    }
   },
   "outputs": [
    {
     "name": "stdout",
     "output_type": "stream",
     "text": [
      "139 µs ± 424 ns per loop (mean ± std. dev. of 7 runs, 10,000 loops each)\n"
     ]
    }
   ],
   "source": [
    "b3 = Batch(**_TREE_DATA_3)\n",
    "%timeit copy.deepcopy(b3)"
   ]
  },
  {
   "cell_type": "markdown",
   "id": "223162fb",
   "metadata": {},
   "source": [
    "## Stack, Concat and Split Operation"
   ]
  },
  {
   "cell_type": "markdown",
   "id": "85fa4a73",
   "metadata": {},
   "source": [
    "### Performance of TreeValue"
   ]
  },
  {
   "cell_type": "code",
   "execution_count": 19,
   "id": "a0c2b697",
   "metadata": {
    "execution": {
     "iopub.execute_input": "2023-02-27T12:42:12.669677Z",
     "iopub.status.busy": "2023-02-27T12:42:12.668713Z",
     "iopub.status.idle": "2023-02-27T12:42:12.673078Z",
     "shell.execute_reply": "2023-02-27T12:42:12.672413Z"
    }
   },
   "outputs": [],
   "source": [
    "trees = [FastTreeValue(_TREE_DATA_2) for _ in range(8)]"
   ]
  },
  {
   "cell_type": "code",
   "execution_count": 20,
   "id": "017ea5a5",
   "metadata": {
    "execution": {
     "iopub.execute_input": "2023-02-27T12:42:12.676067Z",
     "iopub.status.busy": "2023-02-27T12:42:12.675454Z",
     "iopub.status.idle": "2023-02-27T12:42:12.682772Z",
     "shell.execute_reply": "2023-02-27T12:42:12.682169Z"
    }
   },
   "outputs": [
    {
     "data": {
      "text/plain": [
       "<FastTreeValue 0x7fadf8fcde20>\n",
       "├── 'a' --> tensor([[[ 0.5409, -0.3825,  0.2127],\n",
       "│                    [ 0.1611,  0.1480, -0.2696]],\n",
       "│           \n",
       "│                   [[ 0.5409, -0.3825,  0.2127],\n",
       "│                    [ 0.1611,  0.1480, -0.2696]],\n",
       "│           \n",
       "│                   [[ 0.5409, -0.3825,  0.2127],\n",
       "│                    [ 0.1611,  0.1480, -0.2696]],\n",
       "│           \n",
       "│                   [[ 0.5409, -0.3825,  0.2127],\n",
       "│                    [ 0.1611,  0.1480, -0.2696]],\n",
       "│           \n",
       "│                   [[ 0.5409, -0.3825,  0.2127],\n",
       "│                    [ 0.1611,  0.1480, -0.2696]],\n",
       "│           \n",
       "│                   [[ 0.5409, -0.3825,  0.2127],\n",
       "│                    [ 0.1611,  0.1480, -0.2696]],\n",
       "│           \n",
       "│                   [[ 0.5409, -0.3825,  0.2127],\n",
       "│                    [ 0.1611,  0.1480, -0.2696]],\n",
       "│           \n",
       "│                   [[ 0.5409, -0.3825,  0.2127],\n",
       "│                    [ 0.1611,  0.1480, -0.2696]]])\n",
       "└── 'x' --> <FastTreeValue 0x7fadf8fc6b50>\n",
       "    └── 'c' --> tensor([[[ 0.3072, -1.1103, -0.6346, -0.7643],\n",
       "                         [-0.0895,  0.1214,  0.2436,  1.0044],\n",
       "                         [ 0.0679, -0.1757,  0.1821,  0.6198]],\n",
       "                \n",
       "                        [[ 0.3072, -1.1103, -0.6346, -0.7643],\n",
       "                         [-0.0895,  0.1214,  0.2436,  1.0044],\n",
       "                         [ 0.0679, -0.1757,  0.1821,  0.6198]],\n",
       "                \n",
       "                        [[ 0.3072, -1.1103, -0.6346, -0.7643],\n",
       "                         [-0.0895,  0.1214,  0.2436,  1.0044],\n",
       "                         [ 0.0679, -0.1757,  0.1821,  0.6198]],\n",
       "                \n",
       "                        [[ 0.3072, -1.1103, -0.6346, -0.7643],\n",
       "                         [-0.0895,  0.1214,  0.2436,  1.0044],\n",
       "                         [ 0.0679, -0.1757,  0.1821,  0.6198]],\n",
       "                \n",
       "                        [[ 0.3072, -1.1103, -0.6346, -0.7643],\n",
       "                         [-0.0895,  0.1214,  0.2436,  1.0044],\n",
       "                         [ 0.0679, -0.1757,  0.1821,  0.6198]],\n",
       "                \n",
       "                        [[ 0.3072, -1.1103, -0.6346, -0.7643],\n",
       "                         [-0.0895,  0.1214,  0.2436,  1.0044],\n",
       "                         [ 0.0679, -0.1757,  0.1821,  0.6198]],\n",
       "                \n",
       "                        [[ 0.3072, -1.1103, -0.6346, -0.7643],\n",
       "                         [-0.0895,  0.1214,  0.2436,  1.0044],\n",
       "                         [ 0.0679, -0.1757,  0.1821,  0.6198]],\n",
       "                \n",
       "                        [[ 0.3072, -1.1103, -0.6346, -0.7643],\n",
       "                         [-0.0895,  0.1214,  0.2436,  1.0044],\n",
       "                         [ 0.0679, -0.1757,  0.1821,  0.6198]]])"
      ]
     },
     "execution_count": 20,
     "metadata": {},
     "output_type": "execute_result"
    }
   ],
   "source": [
    "t_stack = FastTreeValue.func(subside=True)(torch.stack)\n",
    "\n",
    "t_stack(trees)"
   ]
  },
  {
   "cell_type": "code",
   "execution_count": 21,
   "id": "f8b3f415",
   "metadata": {
    "execution": {
     "iopub.execute_input": "2023-02-27T12:42:12.685407Z",
     "iopub.status.busy": "2023-02-27T12:42:12.685059Z",
     "iopub.status.idle": "2023-02-27T12:42:15.380086Z",
     "shell.execute_reply": "2023-02-27T12:42:15.379323Z"
    }
   },
   "outputs": [
    {
     "name": "stdout",
     "output_type": "stream",
     "text": [
      "33.2 µs ± 59.6 ns per loop (mean ± std. dev. of 7 runs, 10,000 loops each)\n"
     ]
    }
   ],
   "source": [
    "%timeit t_stack(trees)"
   ]
  },
  {
   "cell_type": "code",
   "execution_count": 22,
   "id": "94b56771",
   "metadata": {
    "execution": {
     "iopub.execute_input": "2023-02-27T12:42:15.382821Z",
     "iopub.status.busy": "2023-02-27T12:42:15.382597Z",
     "iopub.status.idle": "2023-02-27T12:42:15.390432Z",
     "shell.execute_reply": "2023-02-27T12:42:15.389797Z"
    }
   },
   "outputs": [
    {
     "data": {
      "text/plain": [
       "<FastTreeValue 0x7fad53295f40>\n",
       "├── 'a' --> tensor([[ 0.5409, -0.3825,  0.2127],\n",
       "│                   [ 0.1611,  0.1480, -0.2696],\n",
       "│                   [ 0.5409, -0.3825,  0.2127],\n",
       "│                   [ 0.1611,  0.1480, -0.2696],\n",
       "│                   [ 0.5409, -0.3825,  0.2127],\n",
       "│                   [ 0.1611,  0.1480, -0.2696],\n",
       "│                   [ 0.5409, -0.3825,  0.2127],\n",
       "│                   [ 0.1611,  0.1480, -0.2696],\n",
       "│                   [ 0.5409, -0.3825,  0.2127],\n",
       "│                   [ 0.1611,  0.1480, -0.2696],\n",
       "│                   [ 0.5409, -0.3825,  0.2127],\n",
       "│                   [ 0.1611,  0.1480, -0.2696],\n",
       "│                   [ 0.5409, -0.3825,  0.2127],\n",
       "│                   [ 0.1611,  0.1480, -0.2696],\n",
       "│                   [ 0.5409, -0.3825,  0.2127],\n",
       "│                   [ 0.1611,  0.1480, -0.2696]])\n",
       "└── 'x' --> <FastTreeValue 0x7fad53872b20>\n",
       "    └── 'c' --> tensor([[ 0.3072, -1.1103, -0.6346, -0.7643],\n",
       "                        [-0.0895,  0.1214,  0.2436,  1.0044],\n",
       "                        [ 0.0679, -0.1757,  0.1821,  0.6198],\n",
       "                        [ 0.3072, -1.1103, -0.6346, -0.7643],\n",
       "                        [-0.0895,  0.1214,  0.2436,  1.0044],\n",
       "                        [ 0.0679, -0.1757,  0.1821,  0.6198],\n",
       "                        [ 0.3072, -1.1103, -0.6346, -0.7643],\n",
       "                        [-0.0895,  0.1214,  0.2436,  1.0044],\n",
       "                        [ 0.0679, -0.1757,  0.1821,  0.6198],\n",
       "                        [ 0.3072, -1.1103, -0.6346, -0.7643],\n",
       "                        [-0.0895,  0.1214,  0.2436,  1.0044],\n",
       "                        [ 0.0679, -0.1757,  0.1821,  0.6198],\n",
       "                        [ 0.3072, -1.1103, -0.6346, -0.7643],\n",
       "                        [-0.0895,  0.1214,  0.2436,  1.0044],\n",
       "                        [ 0.0679, -0.1757,  0.1821,  0.6198],\n",
       "                        [ 0.3072, -1.1103, -0.6346, -0.7643],\n",
       "                        [-0.0895,  0.1214,  0.2436,  1.0044],\n",
       "                        [ 0.0679, -0.1757,  0.1821,  0.6198],\n",
       "                        [ 0.3072, -1.1103, -0.6346, -0.7643],\n",
       "                        [-0.0895,  0.1214,  0.2436,  1.0044],\n",
       "                        [ 0.0679, -0.1757,  0.1821,  0.6198],\n",
       "                        [ 0.3072, -1.1103, -0.6346, -0.7643],\n",
       "                        [-0.0895,  0.1214,  0.2436,  1.0044],\n",
       "                        [ 0.0679, -0.1757,  0.1821,  0.6198]])"
      ]
     },
     "execution_count": 22,
     "metadata": {},
     "output_type": "execute_result"
    }
   ],
   "source": [
    "t_cat = FastTreeValue.func(subside=True)(torch.cat)\n",
    "\n",
    "t_cat(trees)"
   ]
  },
  {
   "cell_type": "code",
   "execution_count": 23,
   "id": "5e9c06a6",
   "metadata": {
    "execution": {
     "iopub.execute_input": "2023-02-27T12:42:15.393226Z",
     "iopub.status.busy": "2023-02-27T12:42:15.392741Z",
     "iopub.status.idle": "2023-02-27T12:42:17.878705Z",
     "shell.execute_reply": "2023-02-27T12:42:17.878000Z"
    }
   },
   "outputs": [
    {
     "name": "stdout",
     "output_type": "stream",
     "text": [
      "30.6 µs ± 52.9 ns per loop (mean ± std. dev. of 7 runs, 10,000 loops each)\n"
     ]
    }
   ],
   "source": [
    "%timeit t_cat(trees)"
   ]
  },
  {
   "cell_type": "code",
   "execution_count": 24,
   "id": "a3ab5c8f",
   "metadata": {
    "execution": {
     "iopub.execute_input": "2023-02-27T12:42:17.881933Z",
     "iopub.status.busy": "2023-02-27T12:42:17.881403Z",
     "iopub.status.idle": "2023-02-27T12:42:22.709271Z",
     "shell.execute_reply": "2023-02-27T12:42:22.708547Z"
    }
   },
   "outputs": [
    {
     "name": "stdout",
     "output_type": "stream",
     "text": [
      "59.4 µs ± 91.3 ns per loop (mean ± std. dev. of 7 runs, 10,000 loops each)\n"
     ]
    }
   ],
   "source": [
    "t_split = FastTreeValue.func(rise=True)(torch.split)\n",
    "tree = FastTreeValue({\n",
    "    'obs': torch.randn(8, 4, 84, 84),\n",
    "    'action': torch.randint(0, 6, size=(8, 1,)),\n",
    "    'reward': torch.rand(8, 1),\n",
    "})\n",
    "\n",
    "%timeit t_split(tree, 1)"
   ]
  },
  {
   "cell_type": "markdown",
   "id": "31c3ec0b",
   "metadata": {},
   "source": [
    "### Performance of Tianshou Batch"
   ]
  },
  {
   "cell_type": "code",
   "execution_count": 25,
   "id": "9ead828a",
   "metadata": {
    "execution": {
     "iopub.execute_input": "2023-02-27T12:42:22.712388Z",
     "iopub.status.busy": "2023-02-27T12:42:22.712000Z",
     "iopub.status.idle": "2023-02-27T12:42:22.720149Z",
     "shell.execute_reply": "2023-02-27T12:42:22.719555Z"
    }
   },
   "outputs": [
    {
     "data": {
      "text/plain": [
       "Batch(\n",
       "    a: tensor([[[ 0.5409, -0.3825,  0.2127],\n",
       "                [ 0.1611,  0.1480, -0.2696]],\n",
       "       \n",
       "               [[ 0.5409, -0.3825,  0.2127],\n",
       "                [ 0.1611,  0.1480, -0.2696]],\n",
       "       \n",
       "               [[ 0.5409, -0.3825,  0.2127],\n",
       "                [ 0.1611,  0.1480, -0.2696]],\n",
       "       \n",
       "               [[ 0.5409, -0.3825,  0.2127],\n",
       "                [ 0.1611,  0.1480, -0.2696]],\n",
       "       \n",
       "               [[ 0.5409, -0.3825,  0.2127],\n",
       "                [ 0.1611,  0.1480, -0.2696]],\n",
       "       \n",
       "               [[ 0.5409, -0.3825,  0.2127],\n",
       "                [ 0.1611,  0.1480, -0.2696]],\n",
       "       \n",
       "               [[ 0.5409, -0.3825,  0.2127],\n",
       "                [ 0.1611,  0.1480, -0.2696]],\n",
       "       \n",
       "               [[ 0.5409, -0.3825,  0.2127],\n",
       "                [ 0.1611,  0.1480, -0.2696]]]),\n",
       "    x: Batch(\n",
       "           c: tensor([[[ 0.3072, -1.1103, -0.6346, -0.7643],\n",
       "                       [-0.0895,  0.1214,  0.2436,  1.0044],\n",
       "                       [ 0.0679, -0.1757,  0.1821,  0.6198]],\n",
       "              \n",
       "                      [[ 0.3072, -1.1103, -0.6346, -0.7643],\n",
       "                       [-0.0895,  0.1214,  0.2436,  1.0044],\n",
       "                       [ 0.0679, -0.1757,  0.1821,  0.6198]],\n",
       "              \n",
       "                      [[ 0.3072, -1.1103, -0.6346, -0.7643],\n",
       "                       [-0.0895,  0.1214,  0.2436,  1.0044],\n",
       "                       [ 0.0679, -0.1757,  0.1821,  0.6198]],\n",
       "              \n",
       "                      [[ 0.3072, -1.1103, -0.6346, -0.7643],\n",
       "                       [-0.0895,  0.1214,  0.2436,  1.0044],\n",
       "                       [ 0.0679, -0.1757,  0.1821,  0.6198]],\n",
       "              \n",
       "                      [[ 0.3072, -1.1103, -0.6346, -0.7643],\n",
       "                       [-0.0895,  0.1214,  0.2436,  1.0044],\n",
       "                       [ 0.0679, -0.1757,  0.1821,  0.6198]],\n",
       "              \n",
       "                      [[ 0.3072, -1.1103, -0.6346, -0.7643],\n",
       "                       [-0.0895,  0.1214,  0.2436,  1.0044],\n",
       "                       [ 0.0679, -0.1757,  0.1821,  0.6198]],\n",
       "              \n",
       "                      [[ 0.3072, -1.1103, -0.6346, -0.7643],\n",
       "                       [-0.0895,  0.1214,  0.2436,  1.0044],\n",
       "                       [ 0.0679, -0.1757,  0.1821,  0.6198]],\n",
       "              \n",
       "                      [[ 0.3072, -1.1103, -0.6346, -0.7643],\n",
       "                       [-0.0895,  0.1214,  0.2436,  1.0044],\n",
       "                       [ 0.0679, -0.1757,  0.1821,  0.6198]]]),\n",
       "       ),\n",
       ")"
      ]
     },
     "execution_count": 25,
     "metadata": {},
     "output_type": "execute_result"
    }
   ],
   "source": [
    "batches = [Batch(**_TREE_DATA_2) for _ in range(8)]\n",
    "\n",
    "Batch.stack(batches)"
   ]
  },
  {
   "cell_type": "code",
   "execution_count": 26,
   "id": "ec9037a3",
   "metadata": {
    "execution": {
     "iopub.execute_input": "2023-02-27T12:42:22.722860Z",
     "iopub.status.busy": "2023-02-27T12:42:22.722629Z",
     "iopub.status.idle": "2023-02-27T12:42:29.132130Z",
     "shell.execute_reply": "2023-02-27T12:42:29.131414Z"
    }
   },
   "outputs": [
    {
     "name": "stdout",
     "output_type": "stream",
     "text": [
      "78.8 µs ± 93.6 ns per loop (mean ± std. dev. of 7 runs, 10,000 loops each)\n"
     ]
    }
   ],
   "source": [
    "%timeit Batch.stack(batches)"
   ]
  },
  {
   "cell_type": "code",
   "execution_count": 27,
   "id": "cb8ab77e",
   "metadata": {
    "execution": {
     "iopub.execute_input": "2023-02-27T12:42:29.135134Z",
     "iopub.status.busy": "2023-02-27T12:42:29.134760Z",
     "iopub.status.idle": "2023-02-27T12:42:29.142575Z",
     "shell.execute_reply": "2023-02-27T12:42:29.141877Z"
    }
   },
   "outputs": [
    {
     "data": {
      "text/plain": [
       "Batch(\n",
       "    a: tensor([[ 0.5409, -0.3825,  0.2127],\n",
       "               [ 0.1611,  0.1480, -0.2696],\n",
       "               [ 0.5409, -0.3825,  0.2127],\n",
       "               [ 0.1611,  0.1480, -0.2696],\n",
       "               [ 0.5409, -0.3825,  0.2127],\n",
       "               [ 0.1611,  0.1480, -0.2696],\n",
       "               [ 0.5409, -0.3825,  0.2127],\n",
       "               [ 0.1611,  0.1480, -0.2696],\n",
       "               [ 0.5409, -0.3825,  0.2127],\n",
       "               [ 0.1611,  0.1480, -0.2696],\n",
       "               [ 0.5409, -0.3825,  0.2127],\n",
       "               [ 0.1611,  0.1480, -0.2696],\n",
       "               [ 0.5409, -0.3825,  0.2127],\n",
       "               [ 0.1611,  0.1480, -0.2696],\n",
       "               [ 0.5409, -0.3825,  0.2127],\n",
       "               [ 0.1611,  0.1480, -0.2696]]),\n",
       "    x: Batch(\n",
       "           c: tensor([[ 0.3072, -1.1103, -0.6346, -0.7643],\n",
       "                      [-0.0895,  0.1214,  0.2436,  1.0044],\n",
       "                      [ 0.0679, -0.1757,  0.1821,  0.6198],\n",
       "                      [ 0.3072, -1.1103, -0.6346, -0.7643],\n",
       "                      [-0.0895,  0.1214,  0.2436,  1.0044],\n",
       "                      [ 0.0679, -0.1757,  0.1821,  0.6198],\n",
       "                      [ 0.3072, -1.1103, -0.6346, -0.7643],\n",
       "                      [-0.0895,  0.1214,  0.2436,  1.0044],\n",
       "                      [ 0.0679, -0.1757,  0.1821,  0.6198],\n",
       "                      [ 0.3072, -1.1103, -0.6346, -0.7643],\n",
       "                      [-0.0895,  0.1214,  0.2436,  1.0044],\n",
       "                      [ 0.0679, -0.1757,  0.1821,  0.6198],\n",
       "                      [ 0.3072, -1.1103, -0.6346, -0.7643],\n",
       "                      [-0.0895,  0.1214,  0.2436,  1.0044],\n",
       "                      [ 0.0679, -0.1757,  0.1821,  0.6198],\n",
       "                      [ 0.3072, -1.1103, -0.6346, -0.7643],\n",
       "                      [-0.0895,  0.1214,  0.2436,  1.0044],\n",
       "                      [ 0.0679, -0.1757,  0.1821,  0.6198],\n",
       "                      [ 0.3072, -1.1103, -0.6346, -0.7643],\n",
       "                      [-0.0895,  0.1214,  0.2436,  1.0044],\n",
       "                      [ 0.0679, -0.1757,  0.1821,  0.6198],\n",
       "                      [ 0.3072, -1.1103, -0.6346, -0.7643],\n",
       "                      [-0.0895,  0.1214,  0.2436,  1.0044],\n",
       "                      [ 0.0679, -0.1757,  0.1821,  0.6198]]),\n",
       "       ),\n",
       ")"
      ]
     },
     "execution_count": 27,
     "metadata": {},
     "output_type": "execute_result"
    }
   ],
   "source": [
    "Batch.cat(batches)"
   ]
  },
  {
   "cell_type": "code",
   "execution_count": 28,
   "id": "18dfb045",
   "metadata": {
    "execution": {
     "iopub.execute_input": "2023-02-27T12:42:29.145390Z",
     "iopub.status.busy": "2023-02-27T12:42:29.145056Z",
     "iopub.status.idle": "2023-02-27T12:42:40.844694Z",
     "shell.execute_reply": "2023-02-27T12:42:40.843856Z"
    }
   },
   "outputs": [
    {
     "name": "stdout",
     "output_type": "stream",
     "text": [
      "144 µs ± 462 ns per loop (mean ± std. dev. of 7 runs, 10,000 loops each)\n"
     ]
    }
   ],
   "source": [
    "%timeit Batch.cat(batches)"
   ]
  },
  {
   "cell_type": "code",
   "execution_count": 29,
   "id": "c6688e51",
   "metadata": {
    "execution": {
     "iopub.execute_input": "2023-02-27T12:42:40.847691Z",
     "iopub.status.busy": "2023-02-27T12:42:40.847127Z",
     "iopub.status.idle": "2023-02-27T12:42:43.385978Z",
     "shell.execute_reply": "2023-02-27T12:42:43.385293Z"
    }
   },
   "outputs": [
    {
     "name": "stdout",
     "output_type": "stream",
     "text": [
      "311 µs ± 1.04 µs per loop (mean ± std. dev. of 7 runs, 1,000 loops each)\n"
     ]
    }
   ],
   "source": [
    "batch = Batch({\n",
    "    'obs': torch.randn(8, 4, 84, 84),\n",
    "    'action': torch.randint(0, 6, size=(8, 1,)),\n",
    "    'reward': torch.rand(8, 1)}\n",
    ")\n",
    "\n",
    "%timeit list(Batch.split(batch, 1, shuffle=False, merge_last=True))"
   ]
  },
  {
   "cell_type": "code",
   "execution_count": null,
   "id": "2539fbd9",
   "metadata": {},
   "outputs": [],
   "source": []
  }
 ],
 "metadata": {
  "kernelspec": {
   "display_name": "Python 3 (ipykernel)",
   "language": "python",
   "name": "python3"
  },
  "language_info": {
   "codemirror_mode": {
    "name": "ipython",
    "version": 3
   },
   "file_extension": ".py",
   "mimetype": "text/x-python",
   "name": "python",
   "nbconvert_exporter": "python",
   "pygments_lexer": "ipython3",
   "version": "3.8.16"
  }
 },
 "nbformat": 4,
 "nbformat_minor": 5
}
