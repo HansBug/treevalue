{
 "cells": [
  {
   "cell_type": "markdown",
   "id": "9d39d946",
   "metadata": {},
   "source": [
    "# Comparison Between TreeValue and Tianshou Batch"
   ]
  },
  {
   "cell_type": "markdown",
   "id": "3c6db2d4",
   "metadata": {},
   "source": [
    "In this section, we will take a look at the feature and performance of the [Tianshou Batch](https://github.com/thu-ml/tianshou) library, which is developed by Tsinghua Machine Learning Group."
   ]
  },
  {
   "cell_type": "markdown",
   "id": "069361b0",
   "metadata": {},
   "source": [
    "Before starting the comparison, let us define some thing."
   ]
  },
  {
   "cell_type": "code",
   "execution_count": 1,
   "id": "06fc8d26",
   "metadata": {
    "execution": {
     "iopub.execute_input": "2023-02-27T13:45:16.828451Z",
     "iopub.status.busy": "2023-02-27T13:45:16.828110Z",
     "iopub.status.idle": "2023-02-27T13:45:18.015118Z",
     "shell.execute_reply": "2023-02-27T13:45:18.014108Z"
    }
   },
   "outputs": [
    {
     "name": "stderr",
     "output_type": "stream",
     "text": [
      "/opt/hostedtoolcache/Python/3.8.16/x64/lib/python3.8/site-packages/tqdm/auto.py:22: TqdmWarning: IProgress not found. Please update jupyter and ipywidgets. See https://ipywidgets.readthedocs.io/en/stable/user_install.html\n",
      "  from .autonotebook import tqdm as notebook_tqdm\n"
     ]
    }
   ],
   "source": [
    "import torch \n",
    "\n",
    "_TREE_DATA_1 = {'a': 1, 'b': 2, 'x': {'c': 3, 'd': 4}}\n",
    "_TREE_DATA_2 = {\n",
    "    'a': torch.randn(2, 3), \n",
    "    'x': {\n",
    "        'c': torch.randn(3, 4)\n",
    "    },\n",
    "}\n",
    "_TREE_DATA_3 = {\n",
    "    'obs': torch.randn(4, 84, 84),\n",
    "    'action': torch.randint(0, 6, size=(1,)),\n",
    "    'reward': torch.rand(1),\n",
    "}"
   ]
  },
  {
   "cell_type": "markdown",
   "id": "83461b25",
   "metadata": {},
   "source": [
    "## Read and Write Operation"
   ]
  },
  {
   "cell_type": "markdown",
   "id": "067b3f73",
   "metadata": {},
   "source": [
    "Reading and writing are the two most common operations in the tree data structure based on the data model (TreeValue and Tianshou Batch both belong to this type), so this section will compare the reading and writing performance of these two libraries."
   ]
  },
  {
   "cell_type": "markdown",
   "id": "5d09a5b7",
   "metadata": {},
   "source": [
    "### TreeValue's Get and Set"
   ]
  },
  {
   "cell_type": "code",
   "execution_count": 2,
   "id": "9519c4bb",
   "metadata": {
    "execution": {
     "iopub.execute_input": "2023-02-27T13:45:18.020110Z",
     "iopub.status.busy": "2023-02-27T13:45:18.019733Z",
     "iopub.status.idle": "2023-02-27T13:45:18.399670Z",
     "shell.execute_reply": "2023-02-27T13:45:18.398392Z"
    }
   },
   "outputs": [],
   "source": [
    "from treevalue import FastTreeValue\n",
    "\n",
    "t = FastTreeValue(_TREE_DATA_2)"
   ]
  },
  {
   "cell_type": "code",
   "execution_count": 3,
   "id": "11c37677",
   "metadata": {
    "execution": {
     "iopub.execute_input": "2023-02-27T13:45:18.403637Z",
     "iopub.status.busy": "2023-02-27T13:45:18.403295Z",
     "iopub.status.idle": "2023-02-27T13:45:18.413746Z",
     "shell.execute_reply": "2023-02-27T13:45:18.412832Z"
    }
   },
   "outputs": [
    {
     "data": {
      "text/plain": [
       "<FastTreeValue 0x7f69f4555280>\n",
       "├── 'a' --> tensor([[ 0.8343,  0.4898, -1.5337],\n",
       "│                   [-1.6319,  0.7745,  1.4248]])\n",
       "└── 'x' --> <FastTreeValue 0x7f69f4555040>\n",
       "    └── 'c' --> tensor([[ 0.6849, -0.6786, -1.2493, -1.3095],\n",
       "                        [ 0.0337, -0.7136,  0.5151,  1.6843],\n",
       "                        [-0.5719, -0.4093, -0.3818,  1.1745]])"
      ]
     },
     "execution_count": 3,
     "metadata": {},
     "output_type": "execute_result"
    }
   ],
   "source": [
    "t"
   ]
  },
  {
   "cell_type": "code",
   "execution_count": 4,
   "id": "fd70b0b9",
   "metadata": {
    "execution": {
     "iopub.execute_input": "2023-02-27T13:45:18.418395Z",
     "iopub.status.busy": "2023-02-27T13:45:18.418085Z",
     "iopub.status.idle": "2023-02-27T13:45:18.424570Z",
     "shell.execute_reply": "2023-02-27T13:45:18.423676Z"
    }
   },
   "outputs": [
    {
     "data": {
      "text/plain": [
       "tensor([[ 0.8343,  0.4898, -1.5337],\n",
       "        [-1.6319,  0.7745,  1.4248]])"
      ]
     },
     "execution_count": 4,
     "metadata": {},
     "output_type": "execute_result"
    }
   ],
   "source": [
    "t.a"
   ]
  },
  {
   "cell_type": "code",
   "execution_count": 5,
   "id": "c18197bd",
   "metadata": {
    "execution": {
     "iopub.execute_input": "2023-02-27T13:45:18.427991Z",
     "iopub.status.busy": "2023-02-27T13:45:18.427546Z",
     "iopub.status.idle": "2023-02-27T13:45:24.576222Z",
     "shell.execute_reply": "2023-02-27T13:45:24.575274Z"
    }
   },
   "outputs": [
    {
     "name": "stdout",
     "output_type": "stream",
     "text": [
      "76 ns ± 1.37 ns per loop (mean ± std. dev. of 7 runs, 10,000,000 loops each)\n"
     ]
    }
   ],
   "source": [
    "%timeit t.a"
   ]
  },
  {
   "cell_type": "code",
   "execution_count": 6,
   "id": "bd52f867",
   "metadata": {
    "execution": {
     "iopub.execute_input": "2023-02-27T13:45:24.580163Z",
     "iopub.status.busy": "2023-02-27T13:45:24.579641Z",
     "iopub.status.idle": "2023-02-27T13:45:24.588085Z",
     "shell.execute_reply": "2023-02-27T13:45:24.586630Z"
    }
   },
   "outputs": [
    {
     "data": {
      "text/plain": [
       "<FastTreeValue 0x7f69f4555280>\n",
       "├── 'a' --> tensor([[-0.4342,  0.4469, -1.0358],\n",
       "│                   [-0.7354, -0.9062, -0.7942]])\n",
       "└── 'x' --> <FastTreeValue 0x7f69f4555040>\n",
       "    └── 'c' --> tensor([[ 0.6849, -0.6786, -1.2493, -1.3095],\n",
       "                        [ 0.0337, -0.7136,  0.5151,  1.6843],\n",
       "                        [-0.5719, -0.4093, -0.3818,  1.1745]])"
      ]
     },
     "execution_count": 6,
     "metadata": {},
     "output_type": "execute_result"
    }
   ],
   "source": [
    "new_value = torch.randn(2, 3)\n",
    "t.a = new_value\n",
    "\n",
    "t"
   ]
  },
  {
   "cell_type": "code",
   "execution_count": 7,
   "id": "bbe04d1c",
   "metadata": {
    "execution": {
     "iopub.execute_input": "2023-02-27T13:45:24.593112Z",
     "iopub.status.busy": "2023-02-27T13:45:24.592646Z",
     "iopub.status.idle": "2023-02-27T13:45:31.089597Z",
     "shell.execute_reply": "2023-02-27T13:45:31.088574Z"
    }
   },
   "outputs": [
    {
     "name": "stdout",
     "output_type": "stream",
     "text": [
      "79.7 ns ± 1.65 ns per loop (mean ± std. dev. of 7 runs, 10,000,000 loops each)\n"
     ]
    }
   ],
   "source": [
    "%timeit t.a = new_value"
   ]
  },
  {
   "cell_type": "markdown",
   "id": "48c49731",
   "metadata": {},
   "source": [
    "### Tianshou Batch's Get and Set"
   ]
  },
  {
   "cell_type": "code",
   "execution_count": 8,
   "id": "f1bb14c1",
   "metadata": {
    "execution": {
     "iopub.execute_input": "2023-02-27T13:45:31.093029Z",
     "iopub.status.busy": "2023-02-27T13:45:31.092692Z",
     "iopub.status.idle": "2023-02-27T13:45:31.544959Z",
     "shell.execute_reply": "2023-02-27T13:45:31.543915Z"
    }
   },
   "outputs": [],
   "source": [
    "from tianshou.data import Batch\n",
    "\n",
    "b = Batch(**_TREE_DATA_2)"
   ]
  },
  {
   "cell_type": "code",
   "execution_count": 9,
   "id": "cb0777c3",
   "metadata": {
    "execution": {
     "iopub.execute_input": "2023-02-27T13:45:31.548916Z",
     "iopub.status.busy": "2023-02-27T13:45:31.548469Z",
     "iopub.status.idle": "2023-02-27T13:45:31.556984Z",
     "shell.execute_reply": "2023-02-27T13:45:31.555768Z"
    }
   },
   "outputs": [
    {
     "data": {
      "text/plain": [
       "Batch(\n",
       "    a: tensor([[ 0.8343,  0.4898, -1.5337],\n",
       "               [-1.6319,  0.7745,  1.4248]]),\n",
       "    x: Batch(\n",
       "           c: tensor([[ 0.6849, -0.6786, -1.2493, -1.3095],\n",
       "                      [ 0.0337, -0.7136,  0.5151,  1.6843],\n",
       "                      [-0.5719, -0.4093, -0.3818,  1.1745]]),\n",
       "       ),\n",
       ")"
      ]
     },
     "execution_count": 9,
     "metadata": {},
     "output_type": "execute_result"
    }
   ],
   "source": [
    "b"
   ]
  },
  {
   "cell_type": "code",
   "execution_count": 10,
   "id": "43ef8ea3",
   "metadata": {
    "execution": {
     "iopub.execute_input": "2023-02-27T13:45:31.560586Z",
     "iopub.status.busy": "2023-02-27T13:45:31.560294Z",
     "iopub.status.idle": "2023-02-27T13:45:31.567698Z",
     "shell.execute_reply": "2023-02-27T13:45:31.566810Z"
    }
   },
   "outputs": [
    {
     "data": {
      "text/plain": [
       "tensor([[ 0.8343,  0.4898, -1.5337],\n",
       "        [-1.6319,  0.7745,  1.4248]])"
      ]
     },
     "execution_count": 10,
     "metadata": {},
     "output_type": "execute_result"
    }
   ],
   "source": [
    "b.a"
   ]
  },
  {
   "cell_type": "code",
   "execution_count": 11,
   "id": "b785ab72",
   "metadata": {
    "execution": {
     "iopub.execute_input": "2023-02-27T13:45:31.570825Z",
     "iopub.status.busy": "2023-02-27T13:45:31.570541Z",
     "iopub.status.idle": "2023-02-27T13:45:37.083059Z",
     "shell.execute_reply": "2023-02-27T13:45:37.082180Z"
    }
   },
   "outputs": [
    {
     "name": "stdout",
     "output_type": "stream",
     "text": [
      "67.7 ns ± 0.92 ns per loop (mean ± std. dev. of 7 runs, 10,000,000 loops each)\n"
     ]
    }
   ],
   "source": [
    "%timeit b.a"
   ]
  },
  {
   "cell_type": "code",
   "execution_count": 12,
   "id": "ad54dc69",
   "metadata": {
    "execution": {
     "iopub.execute_input": "2023-02-27T13:45:37.086631Z",
     "iopub.status.busy": "2023-02-27T13:45:37.086162Z",
     "iopub.status.idle": "2023-02-27T13:45:37.094299Z",
     "shell.execute_reply": "2023-02-27T13:45:37.093535Z"
    }
   },
   "outputs": [
    {
     "data": {
      "text/plain": [
       "Batch(\n",
       "    a: tensor([[-0.8528,  1.0403, -0.3512],\n",
       "               [ 0.3105, -0.7269,  0.8902]]),\n",
       "    x: Batch(\n",
       "           c: tensor([[ 0.6849, -0.6786, -1.2493, -1.3095],\n",
       "                      [ 0.0337, -0.7136,  0.5151,  1.6843],\n",
       "                      [-0.5719, -0.4093, -0.3818,  1.1745]]),\n",
       "       ),\n",
       ")"
      ]
     },
     "execution_count": 12,
     "metadata": {},
     "output_type": "execute_result"
    }
   ],
   "source": [
    "new_value = torch.randn(2, 3)\n",
    "b.a = new_value\n",
    "\n",
    "b"
   ]
  },
  {
   "cell_type": "code",
   "execution_count": 13,
   "id": "29b1d0bf",
   "metadata": {
    "execution": {
     "iopub.execute_input": "2023-02-27T13:45:37.097670Z",
     "iopub.status.busy": "2023-02-27T13:45:37.097136Z",
     "iopub.status.idle": "2023-02-27T13:45:42.193972Z",
     "shell.execute_reply": "2023-02-27T13:45:42.193096Z"
    }
   },
   "outputs": [
    {
     "name": "stdout",
     "output_type": "stream",
     "text": [
      "626 ns ± 13.8 ns per loop (mean ± std. dev. of 7 runs, 1,000,000 loops each)\n"
     ]
    }
   ],
   "source": [
    "%timeit b.a = new_value"
   ]
  },
  {
   "cell_type": "markdown",
   "id": "b61ad1d0",
   "metadata": {},
   "source": [
    "## Initialization"
   ]
  },
  {
   "cell_type": "markdown",
   "id": "d70f0d54",
   "metadata": {},
   "source": [
    "### TreeValue's Initialization"
   ]
  },
  {
   "cell_type": "code",
   "execution_count": 14,
   "id": "d32a679b",
   "metadata": {
    "execution": {
     "iopub.execute_input": "2023-02-27T13:45:42.197493Z",
     "iopub.status.busy": "2023-02-27T13:45:42.197007Z",
     "iopub.status.idle": "2023-02-27T13:45:50.118449Z",
     "shell.execute_reply": "2023-02-27T13:45:50.117444Z"
    }
   },
   "outputs": [
    {
     "name": "stdout",
     "output_type": "stream",
     "text": [
      "975 ns ± 14.2 ns per loop (mean ± std. dev. of 7 runs, 1,000,000 loops each)\n"
     ]
    }
   ],
   "source": [
    "%timeit FastTreeValue(_TREE_DATA_1)"
   ]
  },
  {
   "cell_type": "markdown",
   "id": "24f3707b",
   "metadata": {},
   "source": [
    "### Tianshou Batch's Initialization"
   ]
  },
  {
   "cell_type": "code",
   "execution_count": 15,
   "id": "ac3958df",
   "metadata": {
    "execution": {
     "iopub.execute_input": "2023-02-27T13:45:50.122353Z",
     "iopub.status.busy": "2023-02-27T13:45:50.121819Z",
     "iopub.status.idle": "2023-02-27T13:46:01.060896Z",
     "shell.execute_reply": "2023-02-27T13:46:01.059785Z"
    }
   },
   "outputs": [
    {
     "name": "stdout",
     "output_type": "stream",
     "text": [
      "13.5 µs ± 166 ns per loop (mean ± std. dev. of 7 runs, 100,000 loops each)\n"
     ]
    }
   ],
   "source": [
    "%timeit Batch(**_TREE_DATA_1)"
   ]
  },
  {
   "cell_type": "markdown",
   "id": "1ab82e2d",
   "metadata": {},
   "source": [
    "## Deep Copy Operation"
   ]
  },
  {
   "cell_type": "code",
   "execution_count": 16,
   "id": "210a9442",
   "metadata": {
    "execution": {
     "iopub.execute_input": "2023-02-27T13:46:01.064630Z",
     "iopub.status.busy": "2023-02-27T13:46:01.064176Z",
     "iopub.status.idle": "2023-02-27T13:46:01.069333Z",
     "shell.execute_reply": "2023-02-27T13:46:01.068293Z"
    }
   },
   "outputs": [],
   "source": [
    "import copy"
   ]
  },
  {
   "cell_type": "markdown",
   "id": "5a736274",
   "metadata": {},
   "source": [
    "### Deep Copy of TreeValue"
   ]
  },
  {
   "cell_type": "code",
   "execution_count": 17,
   "id": "f9bcadd6",
   "metadata": {
    "execution": {
     "iopub.execute_input": "2023-02-27T13:46:01.072230Z",
     "iopub.status.busy": "2023-02-27T13:46:01.071796Z",
     "iopub.status.idle": "2023-02-27T13:46:03.417895Z",
     "shell.execute_reply": "2023-02-27T13:46:03.416845Z"
    }
   },
   "outputs": [
    {
     "name": "stdout",
     "output_type": "stream",
     "text": [
      "289 µs ± 5.57 µs per loop (mean ± std. dev. of 7 runs, 1,000 loops each)\n"
     ]
    }
   ],
   "source": [
    "t3 = FastTreeValue(_TREE_DATA_3)\n",
    "%timeit copy.deepcopy(t3)"
   ]
  },
  {
   "cell_type": "markdown",
   "id": "bf8be7ea",
   "metadata": {},
   "source": [
    "### Deep Copy of Tianshou Batch"
   ]
  },
  {
   "cell_type": "code",
   "execution_count": 18,
   "id": "91998e6f",
   "metadata": {
    "execution": {
     "iopub.execute_input": "2023-02-27T13:46:03.421808Z",
     "iopub.status.busy": "2023-02-27T13:46:03.421530Z",
     "iopub.status.idle": "2023-02-27T13:46:05.648019Z",
     "shell.execute_reply": "2023-02-27T13:46:05.647111Z"
    }
   },
   "outputs": [
    {
     "name": "stdout",
     "output_type": "stream",
     "text": [
      "272 µs ± 8.73 µs per loop (mean ± std. dev. of 7 runs, 1,000 loops each)\n"
     ]
    }
   ],
   "source": [
    "b3 = Batch(**_TREE_DATA_3)\n",
    "%timeit copy.deepcopy(b3)"
   ]
  },
  {
   "cell_type": "markdown",
   "id": "223162fb",
   "metadata": {},
   "source": [
    "## Stack, Concat and Split Operation"
   ]
  },
  {
   "cell_type": "markdown",
   "id": "85fa4a73",
   "metadata": {},
   "source": [
    "### Performance of TreeValue"
   ]
  },
  {
   "cell_type": "code",
   "execution_count": 19,
   "id": "a0c2b697",
   "metadata": {
    "execution": {
     "iopub.execute_input": "2023-02-27T13:46:05.651696Z",
     "iopub.status.busy": "2023-02-27T13:46:05.651104Z",
     "iopub.status.idle": "2023-02-27T13:46:05.655639Z",
     "shell.execute_reply": "2023-02-27T13:46:05.654741Z"
    }
   },
   "outputs": [],
   "source": [
    "trees = [FastTreeValue(_TREE_DATA_2) for _ in range(8)]"
   ]
  },
  {
   "cell_type": "code",
   "execution_count": 20,
   "id": "017ea5a5",
   "metadata": {
    "execution": {
     "iopub.execute_input": "2023-02-27T13:46:05.659223Z",
     "iopub.status.busy": "2023-02-27T13:46:05.658383Z",
     "iopub.status.idle": "2023-02-27T13:46:05.667378Z",
     "shell.execute_reply": "2023-02-27T13:46:05.666651Z"
    }
   },
   "outputs": [
    {
     "data": {
      "text/plain": [
       "<FastTreeValue 0x7f69f4555100>\n",
       "├── 'a' --> tensor([[[ 0.8343,  0.4898, -1.5337],\n",
       "│                    [-1.6319,  0.7745,  1.4248]],\n",
       "│           \n",
       "│                   [[ 0.8343,  0.4898, -1.5337],\n",
       "│                    [-1.6319,  0.7745,  1.4248]],\n",
       "│           \n",
       "│                   [[ 0.8343,  0.4898, -1.5337],\n",
       "│                    [-1.6319,  0.7745,  1.4248]],\n",
       "│           \n",
       "│                   [[ 0.8343,  0.4898, -1.5337],\n",
       "│                    [-1.6319,  0.7745,  1.4248]],\n",
       "│           \n",
       "│                   [[ 0.8343,  0.4898, -1.5337],\n",
       "│                    [-1.6319,  0.7745,  1.4248]],\n",
       "│           \n",
       "│                   [[ 0.8343,  0.4898, -1.5337],\n",
       "│                    [-1.6319,  0.7745,  1.4248]],\n",
       "│           \n",
       "│                   [[ 0.8343,  0.4898, -1.5337],\n",
       "│                    [-1.6319,  0.7745,  1.4248]],\n",
       "│           \n",
       "│                   [[ 0.8343,  0.4898, -1.5337],\n",
       "│                    [-1.6319,  0.7745,  1.4248]]])\n",
       "└── 'x' --> <FastTreeValue 0x7f69f4555220>\n",
       "    └── 'c' --> tensor([[[ 0.6849, -0.6786, -1.2493, -1.3095],\n",
       "                         [ 0.0337, -0.7136,  0.5151,  1.6843],\n",
       "                         [-0.5719, -0.4093, -0.3818,  1.1745]],\n",
       "                \n",
       "                        [[ 0.6849, -0.6786, -1.2493, -1.3095],\n",
       "                         [ 0.0337, -0.7136,  0.5151,  1.6843],\n",
       "                         [-0.5719, -0.4093, -0.3818,  1.1745]],\n",
       "                \n",
       "                        [[ 0.6849, -0.6786, -1.2493, -1.3095],\n",
       "                         [ 0.0337, -0.7136,  0.5151,  1.6843],\n",
       "                         [-0.5719, -0.4093, -0.3818,  1.1745]],\n",
       "                \n",
       "                        [[ 0.6849, -0.6786, -1.2493, -1.3095],\n",
       "                         [ 0.0337, -0.7136,  0.5151,  1.6843],\n",
       "                         [-0.5719, -0.4093, -0.3818,  1.1745]],\n",
       "                \n",
       "                        [[ 0.6849, -0.6786, -1.2493, -1.3095],\n",
       "                         [ 0.0337, -0.7136,  0.5151,  1.6843],\n",
       "                         [-0.5719, -0.4093, -0.3818,  1.1745]],\n",
       "                \n",
       "                        [[ 0.6849, -0.6786, -1.2493, -1.3095],\n",
       "                         [ 0.0337, -0.7136,  0.5151,  1.6843],\n",
       "                         [-0.5719, -0.4093, -0.3818,  1.1745]],\n",
       "                \n",
       "                        [[ 0.6849, -0.6786, -1.2493, -1.3095],\n",
       "                         [ 0.0337, -0.7136,  0.5151,  1.6843],\n",
       "                         [-0.5719, -0.4093, -0.3818,  1.1745]],\n",
       "                \n",
       "                        [[ 0.6849, -0.6786, -1.2493, -1.3095],\n",
       "                         [ 0.0337, -0.7136,  0.5151,  1.6843],\n",
       "                         [-0.5719, -0.4093, -0.3818,  1.1745]]])"
      ]
     },
     "execution_count": 20,
     "metadata": {},
     "output_type": "execute_result"
    }
   ],
   "source": [
    "t_stack = FastTreeValue.func(subside=True)(torch.stack)\n",
    "\n",
    "t_stack(trees)"
   ]
  },
  {
   "cell_type": "code",
   "execution_count": 21,
   "id": "f8b3f415",
   "metadata": {
    "execution": {
     "iopub.execute_input": "2023-02-27T13:46:05.670576Z",
     "iopub.status.busy": "2023-02-27T13:46:05.669812Z",
     "iopub.status.idle": "2023-02-27T13:46:09.551575Z",
     "shell.execute_reply": "2023-02-27T13:46:09.550574Z"
    }
   },
   "outputs": [
    {
     "name": "stdout",
     "output_type": "stream",
     "text": [
      "47.9 µs ± 1.86 µs per loop (mean ± std. dev. of 7 runs, 10,000 loops each)\n"
     ]
    }
   ],
   "source": [
    "%timeit t_stack(trees)"
   ]
  },
  {
   "cell_type": "code",
   "execution_count": 22,
   "id": "94b56771",
   "metadata": {
    "execution": {
     "iopub.execute_input": "2023-02-27T13:46:09.555254Z",
     "iopub.status.busy": "2023-02-27T13:46:09.554537Z",
     "iopub.status.idle": "2023-02-27T13:46:09.566067Z",
     "shell.execute_reply": "2023-02-27T13:46:09.565115Z"
    }
   },
   "outputs": [
    {
     "data": {
      "text/plain": [
       "<FastTreeValue 0x7f69f4559430>\n",
       "├── 'a' --> tensor([[ 0.8343,  0.4898, -1.5337],\n",
       "│                   [-1.6319,  0.7745,  1.4248],\n",
       "│                   [ 0.8343,  0.4898, -1.5337],\n",
       "│                   [-1.6319,  0.7745,  1.4248],\n",
       "│                   [ 0.8343,  0.4898, -1.5337],\n",
       "│                   [-1.6319,  0.7745,  1.4248],\n",
       "│                   [ 0.8343,  0.4898, -1.5337],\n",
       "│                   [-1.6319,  0.7745,  1.4248],\n",
       "│                   [ 0.8343,  0.4898, -1.5337],\n",
       "│                   [-1.6319,  0.7745,  1.4248],\n",
       "│                   [ 0.8343,  0.4898, -1.5337],\n",
       "│                   [-1.6319,  0.7745,  1.4248],\n",
       "│                   [ 0.8343,  0.4898, -1.5337],\n",
       "│                   [-1.6319,  0.7745,  1.4248],\n",
       "│                   [ 0.8343,  0.4898, -1.5337],\n",
       "│                   [-1.6319,  0.7745,  1.4248]])\n",
       "└── 'x' --> <FastTreeValue 0x7f69f4559b20>\n",
       "    └── 'c' --> tensor([[ 0.6849, -0.6786, -1.2493, -1.3095],\n",
       "                        [ 0.0337, -0.7136,  0.5151,  1.6843],\n",
       "                        [-0.5719, -0.4093, -0.3818,  1.1745],\n",
       "                        [ 0.6849, -0.6786, -1.2493, -1.3095],\n",
       "                        [ 0.0337, -0.7136,  0.5151,  1.6843],\n",
       "                        [-0.5719, -0.4093, -0.3818,  1.1745],\n",
       "                        [ 0.6849, -0.6786, -1.2493, -1.3095],\n",
       "                        [ 0.0337, -0.7136,  0.5151,  1.6843],\n",
       "                        [-0.5719, -0.4093, -0.3818,  1.1745],\n",
       "                        [ 0.6849, -0.6786, -1.2493, -1.3095],\n",
       "                        [ 0.0337, -0.7136,  0.5151,  1.6843],\n",
       "                        [-0.5719, -0.4093, -0.3818,  1.1745],\n",
       "                        [ 0.6849, -0.6786, -1.2493, -1.3095],\n",
       "                        [ 0.0337, -0.7136,  0.5151,  1.6843],\n",
       "                        [-0.5719, -0.4093, -0.3818,  1.1745],\n",
       "                        [ 0.6849, -0.6786, -1.2493, -1.3095],\n",
       "                        [ 0.0337, -0.7136,  0.5151,  1.6843],\n",
       "                        [-0.5719, -0.4093, -0.3818,  1.1745],\n",
       "                        [ 0.6849, -0.6786, -1.2493, -1.3095],\n",
       "                        [ 0.0337, -0.7136,  0.5151,  1.6843],\n",
       "                        [-0.5719, -0.4093, -0.3818,  1.1745],\n",
       "                        [ 0.6849, -0.6786, -1.2493, -1.3095],\n",
       "                        [ 0.0337, -0.7136,  0.5151,  1.6843],\n",
       "                        [-0.5719, -0.4093, -0.3818,  1.1745]])"
      ]
     },
     "execution_count": 22,
     "metadata": {},
     "output_type": "execute_result"
    }
   ],
   "source": [
    "t_cat = FastTreeValue.func(subside=True)(torch.cat)\n",
    "\n",
    "t_cat(trees)"
   ]
  },
  {
   "cell_type": "code",
   "execution_count": 23,
   "id": "5e9c06a6",
   "metadata": {
    "execution": {
     "iopub.execute_input": "2023-02-27T13:46:09.569443Z",
     "iopub.status.busy": "2023-02-27T13:46:09.569163Z",
     "iopub.status.idle": "2023-02-27T13:46:12.987431Z",
     "shell.execute_reply": "2023-02-27T13:46:12.986485Z"
    }
   },
   "outputs": [
    {
     "name": "stdout",
     "output_type": "stream",
     "text": [
      "42.2 µs ± 828 ns per loop (mean ± std. dev. of 7 runs, 10,000 loops each)\n"
     ]
    }
   ],
   "source": [
    "%timeit t_cat(trees)"
   ]
  },
  {
   "cell_type": "code",
   "execution_count": 24,
   "id": "a3ab5c8f",
   "metadata": {
    "execution": {
     "iopub.execute_input": "2023-02-27T13:46:12.991252Z",
     "iopub.status.busy": "2023-02-27T13:46:12.990691Z",
     "iopub.status.idle": "2023-02-27T13:46:19.470423Z",
     "shell.execute_reply": "2023-02-27T13:46:19.469440Z"
    }
   },
   "outputs": [
    {
     "name": "stdout",
     "output_type": "stream",
     "text": [
      "79.8 µs ± 1.8 µs per loop (mean ± std. dev. of 7 runs, 10,000 loops each)\n"
     ]
    }
   ],
   "source": [
    "t_split = FastTreeValue.func(rise=True)(torch.split)\n",
    "tree = FastTreeValue({\n",
    "    'obs': torch.randn(8, 4, 84, 84),\n",
    "    'action': torch.randint(0, 6, size=(8, 1,)),\n",
    "    'reward': torch.rand(8, 1),\n",
    "})\n",
    "\n",
    "%timeit t_split(tree, 1)"
   ]
  },
  {
   "cell_type": "markdown",
   "id": "31c3ec0b",
   "metadata": {},
   "source": [
    "### Performance of Tianshou Batch"
   ]
  },
  {
   "cell_type": "code",
   "execution_count": 25,
   "id": "9ead828a",
   "metadata": {
    "execution": {
     "iopub.execute_input": "2023-02-27T13:46:19.474476Z",
     "iopub.status.busy": "2023-02-27T13:46:19.473918Z",
     "iopub.status.idle": "2023-02-27T13:46:19.483984Z",
     "shell.execute_reply": "2023-02-27T13:46:19.483083Z"
    }
   },
   "outputs": [
    {
     "data": {
      "text/plain": [
       "Batch(\n",
       "    a: tensor([[[ 0.8343,  0.4898, -1.5337],\n",
       "                [-1.6319,  0.7745,  1.4248]],\n",
       "       \n",
       "               [[ 0.8343,  0.4898, -1.5337],\n",
       "                [-1.6319,  0.7745,  1.4248]],\n",
       "       \n",
       "               [[ 0.8343,  0.4898, -1.5337],\n",
       "                [-1.6319,  0.7745,  1.4248]],\n",
       "       \n",
       "               [[ 0.8343,  0.4898, -1.5337],\n",
       "                [-1.6319,  0.7745,  1.4248]],\n",
       "       \n",
       "               [[ 0.8343,  0.4898, -1.5337],\n",
       "                [-1.6319,  0.7745,  1.4248]],\n",
       "       \n",
       "               [[ 0.8343,  0.4898, -1.5337],\n",
       "                [-1.6319,  0.7745,  1.4248]],\n",
       "       \n",
       "               [[ 0.8343,  0.4898, -1.5337],\n",
       "                [-1.6319,  0.7745,  1.4248]],\n",
       "       \n",
       "               [[ 0.8343,  0.4898, -1.5337],\n",
       "                [-1.6319,  0.7745,  1.4248]]]),\n",
       "    x: Batch(\n",
       "           c: tensor([[[ 0.6849, -0.6786, -1.2493, -1.3095],\n",
       "                       [ 0.0337, -0.7136,  0.5151,  1.6843],\n",
       "                       [-0.5719, -0.4093, -0.3818,  1.1745]],\n",
       "              \n",
       "                      [[ 0.6849, -0.6786, -1.2493, -1.3095],\n",
       "                       [ 0.0337, -0.7136,  0.5151,  1.6843],\n",
       "                       [-0.5719, -0.4093, -0.3818,  1.1745]],\n",
       "              \n",
       "                      [[ 0.6849, -0.6786, -1.2493, -1.3095],\n",
       "                       [ 0.0337, -0.7136,  0.5151,  1.6843],\n",
       "                       [-0.5719, -0.4093, -0.3818,  1.1745]],\n",
       "              \n",
       "                      [[ 0.6849, -0.6786, -1.2493, -1.3095],\n",
       "                       [ 0.0337, -0.7136,  0.5151,  1.6843],\n",
       "                       [-0.5719, -0.4093, -0.3818,  1.1745]],\n",
       "              \n",
       "                      [[ 0.6849, -0.6786, -1.2493, -1.3095],\n",
       "                       [ 0.0337, -0.7136,  0.5151,  1.6843],\n",
       "                       [-0.5719, -0.4093, -0.3818,  1.1745]],\n",
       "              \n",
       "                      [[ 0.6849, -0.6786, -1.2493, -1.3095],\n",
       "                       [ 0.0337, -0.7136,  0.5151,  1.6843],\n",
       "                       [-0.5719, -0.4093, -0.3818,  1.1745]],\n",
       "              \n",
       "                      [[ 0.6849, -0.6786, -1.2493, -1.3095],\n",
       "                       [ 0.0337, -0.7136,  0.5151,  1.6843],\n",
       "                       [-0.5719, -0.4093, -0.3818,  1.1745]],\n",
       "              \n",
       "                      [[ 0.6849, -0.6786, -1.2493, -1.3095],\n",
       "                       [ 0.0337, -0.7136,  0.5151,  1.6843],\n",
       "                       [-0.5719, -0.4093, -0.3818,  1.1745]]]),\n",
       "       ),\n",
       ")"
      ]
     },
     "execution_count": 25,
     "metadata": {},
     "output_type": "execute_result"
    }
   ],
   "source": [
    "batches = [Batch(**_TREE_DATA_2) for _ in range(8)]\n",
    "\n",
    "Batch.stack(batches)"
   ]
  },
  {
   "cell_type": "code",
   "execution_count": 26,
   "id": "ec9037a3",
   "metadata": {
    "execution": {
     "iopub.execute_input": "2023-02-27T13:46:19.487140Z",
     "iopub.status.busy": "2023-02-27T13:46:19.486679Z",
     "iopub.status.idle": "2023-02-27T13:46:28.008497Z",
     "shell.execute_reply": "2023-02-27T13:46:28.007342Z"
    }
   },
   "outputs": [
    {
     "name": "stdout",
     "output_type": "stream",
     "text": [
      "105 µs ± 3.22 µs per loop (mean ± std. dev. of 7 runs, 10,000 loops each)\n"
     ]
    }
   ],
   "source": [
    "%timeit Batch.stack(batches)"
   ]
  },
  {
   "cell_type": "code",
   "execution_count": 27,
   "id": "cb8ab77e",
   "metadata": {
    "execution": {
     "iopub.execute_input": "2023-02-27T13:46:28.012254Z",
     "iopub.status.busy": "2023-02-27T13:46:28.011704Z",
     "iopub.status.idle": "2023-02-27T13:46:28.021657Z",
     "shell.execute_reply": "2023-02-27T13:46:28.020697Z"
    }
   },
   "outputs": [
    {
     "data": {
      "text/plain": [
       "Batch(\n",
       "    a: tensor([[ 0.8343,  0.4898, -1.5337],\n",
       "               [-1.6319,  0.7745,  1.4248],\n",
       "               [ 0.8343,  0.4898, -1.5337],\n",
       "               [-1.6319,  0.7745,  1.4248],\n",
       "               [ 0.8343,  0.4898, -1.5337],\n",
       "               [-1.6319,  0.7745,  1.4248],\n",
       "               [ 0.8343,  0.4898, -1.5337],\n",
       "               [-1.6319,  0.7745,  1.4248],\n",
       "               [ 0.8343,  0.4898, -1.5337],\n",
       "               [-1.6319,  0.7745,  1.4248],\n",
       "               [ 0.8343,  0.4898, -1.5337],\n",
       "               [-1.6319,  0.7745,  1.4248],\n",
       "               [ 0.8343,  0.4898, -1.5337],\n",
       "               [-1.6319,  0.7745,  1.4248],\n",
       "               [ 0.8343,  0.4898, -1.5337],\n",
       "               [-1.6319,  0.7745,  1.4248]]),\n",
       "    x: Batch(\n",
       "           c: tensor([[ 0.6849, -0.6786, -1.2493, -1.3095],\n",
       "                      [ 0.0337, -0.7136,  0.5151,  1.6843],\n",
       "                      [-0.5719, -0.4093, -0.3818,  1.1745],\n",
       "                      [ 0.6849, -0.6786, -1.2493, -1.3095],\n",
       "                      [ 0.0337, -0.7136,  0.5151,  1.6843],\n",
       "                      [-0.5719, -0.4093, -0.3818,  1.1745],\n",
       "                      [ 0.6849, -0.6786, -1.2493, -1.3095],\n",
       "                      [ 0.0337, -0.7136,  0.5151,  1.6843],\n",
       "                      [-0.5719, -0.4093, -0.3818,  1.1745],\n",
       "                      [ 0.6849, -0.6786, -1.2493, -1.3095],\n",
       "                      [ 0.0337, -0.7136,  0.5151,  1.6843],\n",
       "                      [-0.5719, -0.4093, -0.3818,  1.1745],\n",
       "                      [ 0.6849, -0.6786, -1.2493, -1.3095],\n",
       "                      [ 0.0337, -0.7136,  0.5151,  1.6843],\n",
       "                      [-0.5719, -0.4093, -0.3818,  1.1745],\n",
       "                      [ 0.6849, -0.6786, -1.2493, -1.3095],\n",
       "                      [ 0.0337, -0.7136,  0.5151,  1.6843],\n",
       "                      [-0.5719, -0.4093, -0.3818,  1.1745],\n",
       "                      [ 0.6849, -0.6786, -1.2493, -1.3095],\n",
       "                      [ 0.0337, -0.7136,  0.5151,  1.6843],\n",
       "                      [-0.5719, -0.4093, -0.3818,  1.1745],\n",
       "                      [ 0.6849, -0.6786, -1.2493, -1.3095],\n",
       "                      [ 0.0337, -0.7136,  0.5151,  1.6843],\n",
       "                      [-0.5719, -0.4093, -0.3818,  1.1745]]),\n",
       "       ),\n",
       ")"
      ]
     },
     "execution_count": 27,
     "metadata": {},
     "output_type": "execute_result"
    }
   ],
   "source": [
    "Batch.cat(batches)"
   ]
  },
  {
   "cell_type": "code",
   "execution_count": 28,
   "id": "18dfb045",
   "metadata": {
    "execution": {
     "iopub.execute_input": "2023-02-27T13:46:28.025101Z",
     "iopub.status.busy": "2023-02-27T13:46:28.024584Z",
     "iopub.status.idle": "2023-02-27T13:46:43.053097Z",
     "shell.execute_reply": "2023-02-27T13:46:43.052081Z"
    }
   },
   "outputs": [
    {
     "name": "stdout",
     "output_type": "stream",
     "text": [
      "185 µs ± 2.29 µs per loop (mean ± std. dev. of 7 runs, 10,000 loops each)\n"
     ]
    }
   ],
   "source": [
    "%timeit Batch.cat(batches)"
   ]
  },
  {
   "cell_type": "code",
   "execution_count": 29,
   "id": "c6688e51",
   "metadata": {
    "execution": {
     "iopub.execute_input": "2023-02-27T13:46:43.057375Z",
     "iopub.status.busy": "2023-02-27T13:46:43.056595Z",
     "iopub.status.idle": "2023-02-27T13:46:47.879562Z",
     "shell.execute_reply": "2023-02-27T13:46:47.878780Z"
    }
   },
   "outputs": [
    {
     "name": "stdout",
     "output_type": "stream",
     "text": [
      "591 µs ± 13 µs per loop (mean ± std. dev. of 7 runs, 1,000 loops each)\n"
     ]
    }
   ],
   "source": [
    "batch = Batch({\n",
    "    'obs': torch.randn(8, 4, 84, 84),\n",
    "    'action': torch.randint(0, 6, size=(8, 1,)),\n",
    "    'reward': torch.rand(8, 1)}\n",
    ")\n",
    "\n",
    "%timeit list(Batch.split(batch, 1, shuffle=False, merge_last=True))"
   ]
  },
  {
   "cell_type": "code",
   "execution_count": null,
   "id": "2539fbd9",
   "metadata": {},
   "outputs": [],
   "source": []
  }
 ],
 "metadata": {
  "kernelspec": {
   "display_name": "Python 3 (ipykernel)",
   "language": "python",
   "name": "python3"
  },
  "language_info": {
   "codemirror_mode": {
    "name": "ipython",
    "version": 3
   },
   "file_extension": ".py",
   "mimetype": "text/x-python",
   "name": "python",
   "nbconvert_exporter": "python",
   "pygments_lexer": "ipython3",
   "version": "3.8.16"
  }
 },
 "nbformat": 4,
 "nbformat_minor": 5
}
