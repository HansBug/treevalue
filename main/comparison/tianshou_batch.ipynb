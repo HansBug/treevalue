{
 "cells": [
  {
   "cell_type": "markdown",
   "id": "9d39d946",
   "metadata": {},
   "source": [
    "# Comparison Between TreeValue and Tianshou Batch"
   ]
  },
  {
   "cell_type": "markdown",
   "id": "3c6db2d4",
   "metadata": {},
   "source": [
    "In this section, we will take a look at the feature and performance of the [Tianshou Batch](https://github.com/thu-ml/tianshou) library, which is developed by Tsinghua Machine Learning Group."
   ]
  },
  {
   "cell_type": "markdown",
   "id": "069361b0",
   "metadata": {},
   "source": [
    "Before starting the comparison, let us define some thing."
   ]
  },
  {
   "cell_type": "code",
   "execution_count": 1,
   "id": "06fc8d26",
   "metadata": {
    "execution": {
     "iopub.execute_input": "2023-02-23T09:41:31.079051Z",
     "iopub.status.busy": "2023-02-23T09:41:31.078837Z",
     "iopub.status.idle": "2023-02-23T09:41:31.979250Z",
     "shell.execute_reply": "2023-02-23T09:41:31.978622Z"
    }
   },
   "outputs": [
    {
     "name": "stderr",
     "output_type": "stream",
     "text": [
      "/opt/hostedtoolcache/Python/3.8.16/x64/lib/python3.8/site-packages/tqdm/auto.py:22: TqdmWarning: IProgress not found. Please update jupyter and ipywidgets. See https://ipywidgets.readthedocs.io/en/stable/user_install.html\n",
      "  from .autonotebook import tqdm as notebook_tqdm\n"
     ]
    }
   ],
   "source": [
    "import torch \n",
    "\n",
    "_TREE_DATA_1 = {'a': 1, 'b': 2, 'x': {'c': 3, 'd': 4}}\n",
    "_TREE_DATA_2 = {\n",
    "    'a': torch.randn(2, 3), \n",
    "    'x': {\n",
    "        'c': torch.randn(3, 4)\n",
    "    },\n",
    "}\n",
    "_TREE_DATA_3 = {\n",
    "    'obs': torch.randn(4, 84, 84),\n",
    "    'action': torch.randint(0, 6, size=(1,)),\n",
    "    'reward': torch.rand(1),\n",
    "}"
   ]
  },
  {
   "cell_type": "markdown",
   "id": "83461b25",
   "metadata": {},
   "source": [
    "## Read and Write Operation"
   ]
  },
  {
   "cell_type": "markdown",
   "id": "067b3f73",
   "metadata": {},
   "source": [
    "Reading and writing are the two most common operations in the tree data structure based on the data model (TreeValue and Tianshou Batch both belong to this type), so this section will compare the reading and writing performance of these two libraries."
   ]
  },
  {
   "cell_type": "markdown",
   "id": "5d09a5b7",
   "metadata": {},
   "source": [
    "### TreeValue's Get and Set"
   ]
  },
  {
   "cell_type": "code",
   "execution_count": 2,
   "id": "9519c4bb",
   "metadata": {
    "execution": {
     "iopub.execute_input": "2023-02-23T09:41:31.982202Z",
     "iopub.status.busy": "2023-02-23T09:41:31.981945Z",
     "iopub.status.idle": "2023-02-23T09:41:32.013996Z",
     "shell.execute_reply": "2023-02-23T09:41:32.013392Z"
    }
   },
   "outputs": [],
   "source": [
    "from treevalue import FastTreeValue\n",
    "\n",
    "t = FastTreeValue(_TREE_DATA_2)"
   ]
  },
  {
   "cell_type": "code",
   "execution_count": 3,
   "id": "11c37677",
   "metadata": {
    "execution": {
     "iopub.execute_input": "2023-02-23T09:41:32.016929Z",
     "iopub.status.busy": "2023-02-23T09:41:32.016320Z",
     "iopub.status.idle": "2023-02-23T09:41:32.025542Z",
     "shell.execute_reply": "2023-02-23T09:41:32.024947Z"
    }
   },
   "outputs": [
    {
     "data": {
      "text/plain": [
       "<FastTreeValue 0x7fb1dc497b20>\n",
       "├── 'a' --> tensor([[ 0.8304, -0.2322,  1.8142],\n",
       "│                   [-0.4266, -0.6264, -0.9341]])\n",
       "└── 'x' --> <FastTreeValue 0x7fb1dc4f7c70>\n",
       "    └── 'c' --> tensor([[-1.2538, -0.8776,  1.3843, -0.0242],\n",
       "                        [ 0.5980, -1.7951, -0.4449,  0.0772],\n",
       "                        [ 0.3038, -0.0385,  0.0639,  0.6546]])"
      ]
     },
     "execution_count": 3,
     "metadata": {},
     "output_type": "execute_result"
    }
   ],
   "source": [
    "t"
   ]
  },
  {
   "cell_type": "code",
   "execution_count": 4,
   "id": "fd70b0b9",
   "metadata": {
    "execution": {
     "iopub.execute_input": "2023-02-23T09:41:32.028113Z",
     "iopub.status.busy": "2023-02-23T09:41:32.027545Z",
     "iopub.status.idle": "2023-02-23T09:41:32.032676Z",
     "shell.execute_reply": "2023-02-23T09:41:32.032122Z"
    }
   },
   "outputs": [
    {
     "data": {
      "text/plain": [
       "tensor([[ 0.8304, -0.2322,  1.8142],\n",
       "        [-0.4266, -0.6264, -0.9341]])"
      ]
     },
     "execution_count": 4,
     "metadata": {},
     "output_type": "execute_result"
    }
   ],
   "source": [
    "t.a"
   ]
  },
  {
   "cell_type": "code",
   "execution_count": 5,
   "id": "c18197bd",
   "metadata": {
    "execution": {
     "iopub.execute_input": "2023-02-23T09:41:32.035374Z",
     "iopub.status.busy": "2023-02-23T09:41:32.034918Z",
     "iopub.status.idle": "2023-02-23T09:41:37.168792Z",
     "shell.execute_reply": "2023-02-23T09:41:37.168057Z"
    }
   },
   "outputs": [
    {
     "name": "stdout",
     "output_type": "stream",
     "text": [
      "63.3 ns ± 0.115 ns per loop (mean ± std. dev. of 7 runs, 10,000,000 loops each)\n"
     ]
    }
   ],
   "source": [
    "%timeit t.a"
   ]
  },
  {
   "cell_type": "code",
   "execution_count": 6,
   "id": "bd52f867",
   "metadata": {
    "execution": {
     "iopub.execute_input": "2023-02-23T09:41:37.171846Z",
     "iopub.status.busy": "2023-02-23T09:41:37.171393Z",
     "iopub.status.idle": "2023-02-23T09:41:37.177906Z",
     "shell.execute_reply": "2023-02-23T09:41:37.177312Z"
    }
   },
   "outputs": [
    {
     "data": {
      "text/plain": [
       "<FastTreeValue 0x7fb1dc497b20>\n",
       "├── 'a' --> tensor([[-0.8462, -0.9601, -1.1699],\n",
       "│                   [ 0.1563, -2.3115, -1.2033]])\n",
       "└── 'x' --> <FastTreeValue 0x7fb1dc4f7c70>\n",
       "    └── 'c' --> tensor([[-1.2538, -0.8776,  1.3843, -0.0242],\n",
       "                        [ 0.5980, -1.7951, -0.4449,  0.0772],\n",
       "                        [ 0.3038, -0.0385,  0.0639,  0.6546]])"
      ]
     },
     "execution_count": 6,
     "metadata": {},
     "output_type": "execute_result"
    }
   ],
   "source": [
    "new_value = torch.randn(2, 3)\n",
    "t.a = new_value\n",
    "\n",
    "t"
   ]
  },
  {
   "cell_type": "code",
   "execution_count": 7,
   "id": "bbe04d1c",
   "metadata": {
    "execution": {
     "iopub.execute_input": "2023-02-23T09:41:37.180087Z",
     "iopub.status.busy": "2023-02-23T09:41:37.179885Z",
     "iopub.status.idle": "2023-02-23T09:41:42.358382Z",
     "shell.execute_reply": "2023-02-23T09:41:42.357625Z"
    }
   },
   "outputs": [
    {
     "name": "stdout",
     "output_type": "stream",
     "text": [
      "63.9 ns ± 0.0339 ns per loop (mean ± std. dev. of 7 runs, 10,000,000 loops each)\n"
     ]
    }
   ],
   "source": [
    "%timeit t.a = new_value"
   ]
  },
  {
   "cell_type": "markdown",
   "id": "48c49731",
   "metadata": {},
   "source": [
    "### Tianshou Batch's Get and Set"
   ]
  },
  {
   "cell_type": "code",
   "execution_count": 8,
   "id": "f1bb14c1",
   "metadata": {
    "execution": {
     "iopub.execute_input": "2023-02-23T09:41:42.361099Z",
     "iopub.status.busy": "2023-02-23T09:41:42.360728Z",
     "iopub.status.idle": "2023-02-23T09:41:42.681003Z",
     "shell.execute_reply": "2023-02-23T09:41:42.680357Z"
    }
   },
   "outputs": [],
   "source": [
    "from tianshou.data import Batch\n",
    "\n",
    "b = Batch(**_TREE_DATA_2)"
   ]
  },
  {
   "cell_type": "code",
   "execution_count": 9,
   "id": "cb0777c3",
   "metadata": {
    "execution": {
     "iopub.execute_input": "2023-02-23T09:41:42.684311Z",
     "iopub.status.busy": "2023-02-23T09:41:42.683752Z",
     "iopub.status.idle": "2023-02-23T09:41:42.689153Z",
     "shell.execute_reply": "2023-02-23T09:41:42.688545Z"
    }
   },
   "outputs": [
    {
     "data": {
      "text/plain": [
       "Batch(\n",
       "    a: tensor([[ 0.8304, -0.2322,  1.8142],\n",
       "               [-0.4266, -0.6264, -0.9341]]),\n",
       "    x: Batch(\n",
       "           c: tensor([[-1.2538, -0.8776,  1.3843, -0.0242],\n",
       "                      [ 0.5980, -1.7951, -0.4449,  0.0772],\n",
       "                      [ 0.3038, -0.0385,  0.0639,  0.6546]]),\n",
       "       ),\n",
       ")"
      ]
     },
     "execution_count": 9,
     "metadata": {},
     "output_type": "execute_result"
    }
   ],
   "source": [
    "b"
   ]
  },
  {
   "cell_type": "code",
   "execution_count": 10,
   "id": "43ef8ea3",
   "metadata": {
    "execution": {
     "iopub.execute_input": "2023-02-23T09:41:42.691595Z",
     "iopub.status.busy": "2023-02-23T09:41:42.691256Z",
     "iopub.status.idle": "2023-02-23T09:41:42.695968Z",
     "shell.execute_reply": "2023-02-23T09:41:42.695348Z"
    }
   },
   "outputs": [
    {
     "data": {
      "text/plain": [
       "tensor([[ 0.8304, -0.2322,  1.8142],\n",
       "        [-0.4266, -0.6264, -0.9341]])"
      ]
     },
     "execution_count": 10,
     "metadata": {},
     "output_type": "execute_result"
    }
   ],
   "source": [
    "b.a"
   ]
  },
  {
   "cell_type": "code",
   "execution_count": 11,
   "id": "b785ab72",
   "metadata": {
    "execution": {
     "iopub.execute_input": "2023-02-23T09:41:42.698316Z",
     "iopub.status.busy": "2023-02-23T09:41:42.697989Z",
     "iopub.status.idle": "2023-02-23T09:41:46.892128Z",
     "shell.execute_reply": "2023-02-23T09:41:46.891370Z"
    }
   },
   "outputs": [
    {
     "name": "stdout",
     "output_type": "stream",
     "text": [
      "51.7 ns ± 0.0758 ns per loop (mean ± std. dev. of 7 runs, 10,000,000 loops each)\n"
     ]
    }
   ],
   "source": [
    "%timeit b.a"
   ]
  },
  {
   "cell_type": "code",
   "execution_count": 12,
   "id": "ad54dc69",
   "metadata": {
    "execution": {
     "iopub.execute_input": "2023-02-23T09:41:46.894869Z",
     "iopub.status.busy": "2023-02-23T09:41:46.894502Z",
     "iopub.status.idle": "2023-02-23T09:41:46.901018Z",
     "shell.execute_reply": "2023-02-23T09:41:46.900431Z"
    }
   },
   "outputs": [
    {
     "data": {
      "text/plain": [
       "Batch(\n",
       "    a: tensor([[-0.5277, -1.1084, -0.4141],\n",
       "               [ 0.1018, -0.1248,  1.2147]]),\n",
       "    x: Batch(\n",
       "           c: tensor([[-1.2538, -0.8776,  1.3843, -0.0242],\n",
       "                      [ 0.5980, -1.7951, -0.4449,  0.0772],\n",
       "                      [ 0.3038, -0.0385,  0.0639,  0.6546]]),\n",
       "       ),\n",
       ")"
      ]
     },
     "execution_count": 12,
     "metadata": {},
     "output_type": "execute_result"
    }
   ],
   "source": [
    "new_value = torch.randn(2, 3)\n",
    "b.a = new_value\n",
    "\n",
    "b"
   ]
  },
  {
   "cell_type": "code",
   "execution_count": 13,
   "id": "29b1d0bf",
   "metadata": {
    "execution": {
     "iopub.execute_input": "2023-02-23T09:41:46.903885Z",
     "iopub.status.busy": "2023-02-23T09:41:46.903378Z",
     "iopub.status.idle": "2023-02-23T09:41:50.800935Z",
     "shell.execute_reply": "2023-02-23T09:41:50.800198Z"
    }
   },
   "outputs": [
    {
     "name": "stdout",
     "output_type": "stream",
     "text": [
      "480 ns ± 0.107 ns per loop (mean ± std. dev. of 7 runs, 1,000,000 loops each)\n"
     ]
    }
   ],
   "source": [
    "%timeit b.a = new_value"
   ]
  },
  {
   "cell_type": "markdown",
   "id": "b61ad1d0",
   "metadata": {},
   "source": [
    "## Initialization"
   ]
  },
  {
   "cell_type": "markdown",
   "id": "d70f0d54",
   "metadata": {},
   "source": [
    "### TreeValue's Initialization"
   ]
  },
  {
   "cell_type": "code",
   "execution_count": 14,
   "id": "d32a679b",
   "metadata": {
    "execution": {
     "iopub.execute_input": "2023-02-23T09:41:50.804202Z",
     "iopub.status.busy": "2023-02-23T09:41:50.803617Z",
     "iopub.status.idle": "2023-02-23T09:41:57.594850Z",
     "shell.execute_reply": "2023-02-23T09:41:57.594088Z"
    }
   },
   "outputs": [
    {
     "name": "stdout",
     "output_type": "stream",
     "text": [
      "835 ns ± 0.168 ns per loop (mean ± std. dev. of 7 runs, 1,000,000 loops each)\n"
     ]
    }
   ],
   "source": [
    "%timeit FastTreeValue(_TREE_DATA_1)"
   ]
  },
  {
   "cell_type": "markdown",
   "id": "24f3707b",
   "metadata": {},
   "source": [
    "### Tianshou Batch's Initialization"
   ]
  },
  {
   "cell_type": "code",
   "execution_count": 15,
   "id": "ac3958df",
   "metadata": {
    "execution": {
     "iopub.execute_input": "2023-02-23T09:41:57.597598Z",
     "iopub.status.busy": "2023-02-23T09:41:57.597248Z",
     "iopub.status.idle": "2023-02-23T09:42:06.986133Z",
     "shell.execute_reply": "2023-02-23T09:42:06.985383Z"
    }
   },
   "outputs": [
    {
     "name": "stdout",
     "output_type": "stream",
     "text": [
      "11.6 µs ± 26.1 ns per loop (mean ± std. dev. of 7 runs, 100,000 loops each)\n"
     ]
    }
   ],
   "source": [
    "%timeit Batch(**_TREE_DATA_1)"
   ]
  },
  {
   "cell_type": "markdown",
   "id": "1ab82e2d",
   "metadata": {},
   "source": [
    "## Deep Copy Operation"
   ]
  },
  {
   "cell_type": "code",
   "execution_count": 16,
   "id": "210a9442",
   "metadata": {
    "execution": {
     "iopub.execute_input": "2023-02-23T09:42:06.989296Z",
     "iopub.status.busy": "2023-02-23T09:42:06.988799Z",
     "iopub.status.idle": "2023-02-23T09:42:06.993019Z",
     "shell.execute_reply": "2023-02-23T09:42:06.992120Z"
    }
   },
   "outputs": [],
   "source": [
    "import copy"
   ]
  },
  {
   "cell_type": "markdown",
   "id": "5a736274",
   "metadata": {},
   "source": [
    "### Deep Copy of TreeValue"
   ]
  },
  {
   "cell_type": "code",
   "execution_count": 17,
   "id": "f9bcadd6",
   "metadata": {
    "execution": {
     "iopub.execute_input": "2023-02-23T09:42:06.996287Z",
     "iopub.status.busy": "2023-02-23T09:42:06.995801Z",
     "iopub.status.idle": "2023-02-23T09:42:18.002136Z",
     "shell.execute_reply": "2023-02-23T09:42:18.001548Z"
    }
   },
   "outputs": [
    {
     "name": "stdout",
     "output_type": "stream",
     "text": [
      "136 µs ± 366 ns per loop (mean ± std. dev. of 7 runs, 10,000 loops each)\n"
     ]
    }
   ],
   "source": [
    "t3 = FastTreeValue(_TREE_DATA_3)\n",
    "%timeit copy.deepcopy(t3)"
   ]
  },
  {
   "cell_type": "markdown",
   "id": "bf8be7ea",
   "metadata": {},
   "source": [
    "### Deep Copy of Tianshou Batch"
   ]
  },
  {
   "cell_type": "code",
   "execution_count": 18,
   "id": "91998e6f",
   "metadata": {
    "execution": {
     "iopub.execute_input": "2023-02-23T09:42:18.005480Z",
     "iopub.status.busy": "2023-02-23T09:42:18.005003Z",
     "iopub.status.idle": "2023-02-23T09:42:29.537693Z",
     "shell.execute_reply": "2023-02-23T09:42:29.537090Z"
    }
   },
   "outputs": [
    {
     "name": "stdout",
     "output_type": "stream",
     "text": [
      "143 µs ± 916 ns per loop (mean ± std. dev. of 7 runs, 10,000 loops each)\n"
     ]
    }
   ],
   "source": [
    "b3 = Batch(**_TREE_DATA_3)\n",
    "%timeit copy.deepcopy(b3)"
   ]
  },
  {
   "cell_type": "markdown",
   "id": "223162fb",
   "metadata": {},
   "source": [
    "## Stack, Concat and Split Operation"
   ]
  },
  {
   "cell_type": "markdown",
   "id": "85fa4a73",
   "metadata": {},
   "source": [
    "### Performance of TreeValue"
   ]
  },
  {
   "cell_type": "code",
   "execution_count": 19,
   "id": "a0c2b697",
   "metadata": {
    "execution": {
     "iopub.execute_input": "2023-02-23T09:42:29.541049Z",
     "iopub.status.busy": "2023-02-23T09:42:29.540443Z",
     "iopub.status.idle": "2023-02-23T09:42:29.544559Z",
     "shell.execute_reply": "2023-02-23T09:42:29.543974Z"
    }
   },
   "outputs": [],
   "source": [
    "trees = [FastTreeValue(_TREE_DATA_2) for _ in range(8)]"
   ]
  },
  {
   "cell_type": "code",
   "execution_count": 20,
   "id": "017ea5a5",
   "metadata": {
    "execution": {
     "iopub.execute_input": "2023-02-23T09:42:29.547059Z",
     "iopub.status.busy": "2023-02-23T09:42:29.546712Z",
     "iopub.status.idle": "2023-02-23T09:42:29.558203Z",
     "shell.execute_reply": "2023-02-23T09:42:29.556812Z"
    }
   },
   "outputs": [
    {
     "data": {
      "text/plain": [
       "<FastTreeValue 0x7fb132774ac0>\n",
       "├── 'a' --> tensor([[[ 0.8304, -0.2322,  1.8142],\n",
       "│                    [-0.4266, -0.6264, -0.9341]],\n",
       "│           \n",
       "│                   [[ 0.8304, -0.2322,  1.8142],\n",
       "│                    [-0.4266, -0.6264, -0.9341]],\n",
       "│           \n",
       "│                   [[ 0.8304, -0.2322,  1.8142],\n",
       "│                    [-0.4266, -0.6264, -0.9341]],\n",
       "│           \n",
       "│                   [[ 0.8304, -0.2322,  1.8142],\n",
       "│                    [-0.4266, -0.6264, -0.9341]],\n",
       "│           \n",
       "│                   [[ 0.8304, -0.2322,  1.8142],\n",
       "│                    [-0.4266, -0.6264, -0.9341]],\n",
       "│           \n",
       "│                   [[ 0.8304, -0.2322,  1.8142],\n",
       "│                    [-0.4266, -0.6264, -0.9341]],\n",
       "│           \n",
       "│                   [[ 0.8304, -0.2322,  1.8142],\n",
       "│                    [-0.4266, -0.6264, -0.9341]],\n",
       "│           \n",
       "│                   [[ 0.8304, -0.2322,  1.8142],\n",
       "│                    [-0.4266, -0.6264, -0.9341]]])\n",
       "└── 'x' --> <FastTreeValue 0x7fb13273abe0>\n",
       "    └── 'c' --> tensor([[[-1.2538, -0.8776,  1.3843, -0.0242],\n",
       "                         [ 0.5980, -1.7951, -0.4449,  0.0772],\n",
       "                         [ 0.3038, -0.0385,  0.0639,  0.6546]],\n",
       "                \n",
       "                        [[-1.2538, -0.8776,  1.3843, -0.0242],\n",
       "                         [ 0.5980, -1.7951, -0.4449,  0.0772],\n",
       "                         [ 0.3038, -0.0385,  0.0639,  0.6546]],\n",
       "                \n",
       "                        [[-1.2538, -0.8776,  1.3843, -0.0242],\n",
       "                         [ 0.5980, -1.7951, -0.4449,  0.0772],\n",
       "                         [ 0.3038, -0.0385,  0.0639,  0.6546]],\n",
       "                \n",
       "                        [[-1.2538, -0.8776,  1.3843, -0.0242],\n",
       "                         [ 0.5980, -1.7951, -0.4449,  0.0772],\n",
       "                         [ 0.3038, -0.0385,  0.0639,  0.6546]],\n",
       "                \n",
       "                        [[-1.2538, -0.8776,  1.3843, -0.0242],\n",
       "                         [ 0.5980, -1.7951, -0.4449,  0.0772],\n",
       "                         [ 0.3038, -0.0385,  0.0639,  0.6546]],\n",
       "                \n",
       "                        [[-1.2538, -0.8776,  1.3843, -0.0242],\n",
       "                         [ 0.5980, -1.7951, -0.4449,  0.0772],\n",
       "                         [ 0.3038, -0.0385,  0.0639,  0.6546]],\n",
       "                \n",
       "                        [[-1.2538, -0.8776,  1.3843, -0.0242],\n",
       "                         [ 0.5980, -1.7951, -0.4449,  0.0772],\n",
       "                         [ 0.3038, -0.0385,  0.0639,  0.6546]],\n",
       "                \n",
       "                        [[-1.2538, -0.8776,  1.3843, -0.0242],\n",
       "                         [ 0.5980, -1.7951, -0.4449,  0.0772],\n",
       "                         [ 0.3038, -0.0385,  0.0639,  0.6546]]])"
      ]
     },
     "execution_count": 20,
     "metadata": {},
     "output_type": "execute_result"
    }
   ],
   "source": [
    "t_stack = FastTreeValue.func(subside=True)(torch.stack)\n",
    "\n",
    "t_stack(trees)"
   ]
  },
  {
   "cell_type": "code",
   "execution_count": 21,
   "id": "f8b3f415",
   "metadata": {
    "execution": {
     "iopub.execute_input": "2023-02-23T09:42:29.561107Z",
     "iopub.status.busy": "2023-02-23T09:42:29.560891Z",
     "iopub.status.idle": "2023-02-23T09:42:32.174909Z",
     "shell.execute_reply": "2023-02-23T09:42:32.174166Z"
    }
   },
   "outputs": [
    {
     "name": "stdout",
     "output_type": "stream",
     "text": [
      "32.1 µs ± 116 ns per loop (mean ± std. dev. of 7 runs, 10,000 loops each)\n"
     ]
    }
   ],
   "source": [
    "%timeit t_stack(trees)"
   ]
  },
  {
   "cell_type": "code",
   "execution_count": 22,
   "id": "94b56771",
   "metadata": {
    "execution": {
     "iopub.execute_input": "2023-02-23T09:42:32.177822Z",
     "iopub.status.busy": "2023-02-23T09:42:32.177456Z",
     "iopub.status.idle": "2023-02-23T09:42:32.185991Z",
     "shell.execute_reply": "2023-02-23T09:42:32.185400Z"
    }
   },
   "outputs": [
    {
     "data": {
      "text/plain": [
       "<FastTreeValue 0x7fb138d8d130>\n",
       "├── 'a' --> tensor([[ 0.8304, -0.2322,  1.8142],\n",
       "│                   [-0.4266, -0.6264, -0.9341],\n",
       "│                   [ 0.8304, -0.2322,  1.8142],\n",
       "│                   [-0.4266, -0.6264, -0.9341],\n",
       "│                   [ 0.8304, -0.2322,  1.8142],\n",
       "│                   [-0.4266, -0.6264, -0.9341],\n",
       "│                   [ 0.8304, -0.2322,  1.8142],\n",
       "│                   [-0.4266, -0.6264, -0.9341],\n",
       "│                   [ 0.8304, -0.2322,  1.8142],\n",
       "│                   [-0.4266, -0.6264, -0.9341],\n",
       "│                   [ 0.8304, -0.2322,  1.8142],\n",
       "│                   [-0.4266, -0.6264, -0.9341],\n",
       "│                   [ 0.8304, -0.2322,  1.8142],\n",
       "│                   [-0.4266, -0.6264, -0.9341],\n",
       "│                   [ 0.8304, -0.2322,  1.8142],\n",
       "│                   [-0.4266, -0.6264, -0.9341]])\n",
       "└── 'x' --> <FastTreeValue 0x7fb13902bac0>\n",
       "    └── 'c' --> tensor([[-1.2538, -0.8776,  1.3843, -0.0242],\n",
       "                        [ 0.5980, -1.7951, -0.4449,  0.0772],\n",
       "                        [ 0.3038, -0.0385,  0.0639,  0.6546],\n",
       "                        [-1.2538, -0.8776,  1.3843, -0.0242],\n",
       "                        [ 0.5980, -1.7951, -0.4449,  0.0772],\n",
       "                        [ 0.3038, -0.0385,  0.0639,  0.6546],\n",
       "                        [-1.2538, -0.8776,  1.3843, -0.0242],\n",
       "                        [ 0.5980, -1.7951, -0.4449,  0.0772],\n",
       "                        [ 0.3038, -0.0385,  0.0639,  0.6546],\n",
       "                        [-1.2538, -0.8776,  1.3843, -0.0242],\n",
       "                        [ 0.5980, -1.7951, -0.4449,  0.0772],\n",
       "                        [ 0.3038, -0.0385,  0.0639,  0.6546],\n",
       "                        [-1.2538, -0.8776,  1.3843, -0.0242],\n",
       "                        [ 0.5980, -1.7951, -0.4449,  0.0772],\n",
       "                        [ 0.3038, -0.0385,  0.0639,  0.6546],\n",
       "                        [-1.2538, -0.8776,  1.3843, -0.0242],\n",
       "                        [ 0.5980, -1.7951, -0.4449,  0.0772],\n",
       "                        [ 0.3038, -0.0385,  0.0639,  0.6546],\n",
       "                        [-1.2538, -0.8776,  1.3843, -0.0242],\n",
       "                        [ 0.5980, -1.7951, -0.4449,  0.0772],\n",
       "                        [ 0.3038, -0.0385,  0.0639,  0.6546],\n",
       "                        [-1.2538, -0.8776,  1.3843, -0.0242],\n",
       "                        [ 0.5980, -1.7951, -0.4449,  0.0772],\n",
       "                        [ 0.3038, -0.0385,  0.0639,  0.6546]])"
      ]
     },
     "execution_count": 22,
     "metadata": {},
     "output_type": "execute_result"
    }
   ],
   "source": [
    "t_cat = FastTreeValue.func(subside=True)(torch.cat)\n",
    "\n",
    "t_cat(trees)"
   ]
  },
  {
   "cell_type": "code",
   "execution_count": 23,
   "id": "5e9c06a6",
   "metadata": {
    "execution": {
     "iopub.execute_input": "2023-02-23T09:42:32.189265Z",
     "iopub.status.busy": "2023-02-23T09:42:32.188263Z",
     "iopub.status.idle": "2023-02-23T09:42:34.649177Z",
     "shell.execute_reply": "2023-02-23T09:42:34.648502Z"
    }
   },
   "outputs": [
    {
     "name": "stdout",
     "output_type": "stream",
     "text": [
      "30.2 µs ± 40.5 ns per loop (mean ± std. dev. of 7 runs, 10,000 loops each)\n"
     ]
    }
   ],
   "source": [
    "%timeit t_cat(trees)"
   ]
  },
  {
   "cell_type": "code",
   "execution_count": 24,
   "id": "a3ab5c8f",
   "metadata": {
    "execution": {
     "iopub.execute_input": "2023-02-23T09:42:34.652063Z",
     "iopub.status.busy": "2023-02-23T09:42:34.651714Z",
     "iopub.status.idle": "2023-02-23T09:42:39.471690Z",
     "shell.execute_reply": "2023-02-23T09:42:39.470964Z"
    }
   },
   "outputs": [
    {
     "name": "stdout",
     "output_type": "stream",
     "text": [
      "59.3 µs ± 153 ns per loop (mean ± std. dev. of 7 runs, 10,000 loops each)\n"
     ]
    }
   ],
   "source": [
    "t_split = FastTreeValue.func(rise=True)(torch.split)\n",
    "tree = FastTreeValue({\n",
    "    'obs': torch.randn(8, 4, 84, 84),\n",
    "    'action': torch.randint(0, 6, size=(8, 1,)),\n",
    "    'reward': torch.rand(8, 1),\n",
    "})\n",
    "\n",
    "%timeit t_split(tree, 1)"
   ]
  },
  {
   "cell_type": "markdown",
   "id": "31c3ec0b",
   "metadata": {},
   "source": [
    "### Performance of Tianshou Batch"
   ]
  },
  {
   "cell_type": "code",
   "execution_count": 25,
   "id": "9ead828a",
   "metadata": {
    "execution": {
     "iopub.execute_input": "2023-02-23T09:42:39.474677Z",
     "iopub.status.busy": "2023-02-23T09:42:39.474314Z",
     "iopub.status.idle": "2023-02-23T09:42:39.482135Z",
     "shell.execute_reply": "2023-02-23T09:42:39.481533Z"
    }
   },
   "outputs": [
    {
     "data": {
      "text/plain": [
       "Batch(\n",
       "    x: Batch(\n",
       "           c: tensor([[[-1.2538, -0.8776,  1.3843, -0.0242],\n",
       "                       [ 0.5980, -1.7951, -0.4449,  0.0772],\n",
       "                       [ 0.3038, -0.0385,  0.0639,  0.6546]],\n",
       "              \n",
       "                      [[-1.2538, -0.8776,  1.3843, -0.0242],\n",
       "                       [ 0.5980, -1.7951, -0.4449,  0.0772],\n",
       "                       [ 0.3038, -0.0385,  0.0639,  0.6546]],\n",
       "              \n",
       "                      [[-1.2538, -0.8776,  1.3843, -0.0242],\n",
       "                       [ 0.5980, -1.7951, -0.4449,  0.0772],\n",
       "                       [ 0.3038, -0.0385,  0.0639,  0.6546]],\n",
       "              \n",
       "                      [[-1.2538, -0.8776,  1.3843, -0.0242],\n",
       "                       [ 0.5980, -1.7951, -0.4449,  0.0772],\n",
       "                       [ 0.3038, -0.0385,  0.0639,  0.6546]],\n",
       "              \n",
       "                      [[-1.2538, -0.8776,  1.3843, -0.0242],\n",
       "                       [ 0.5980, -1.7951, -0.4449,  0.0772],\n",
       "                       [ 0.3038, -0.0385,  0.0639,  0.6546]],\n",
       "              \n",
       "                      [[-1.2538, -0.8776,  1.3843, -0.0242],\n",
       "                       [ 0.5980, -1.7951, -0.4449,  0.0772],\n",
       "                       [ 0.3038, -0.0385,  0.0639,  0.6546]],\n",
       "              \n",
       "                      [[-1.2538, -0.8776,  1.3843, -0.0242],\n",
       "                       [ 0.5980, -1.7951, -0.4449,  0.0772],\n",
       "                       [ 0.3038, -0.0385,  0.0639,  0.6546]],\n",
       "              \n",
       "                      [[-1.2538, -0.8776,  1.3843, -0.0242],\n",
       "                       [ 0.5980, -1.7951, -0.4449,  0.0772],\n",
       "                       [ 0.3038, -0.0385,  0.0639,  0.6546]]]),\n",
       "       ),\n",
       "    a: tensor([[[ 0.8304, -0.2322,  1.8142],\n",
       "                [-0.4266, -0.6264, -0.9341]],\n",
       "       \n",
       "               [[ 0.8304, -0.2322,  1.8142],\n",
       "                [-0.4266, -0.6264, -0.9341]],\n",
       "       \n",
       "               [[ 0.8304, -0.2322,  1.8142],\n",
       "                [-0.4266, -0.6264, -0.9341]],\n",
       "       \n",
       "               [[ 0.8304, -0.2322,  1.8142],\n",
       "                [-0.4266, -0.6264, -0.9341]],\n",
       "       \n",
       "               [[ 0.8304, -0.2322,  1.8142],\n",
       "                [-0.4266, -0.6264, -0.9341]],\n",
       "       \n",
       "               [[ 0.8304, -0.2322,  1.8142],\n",
       "                [-0.4266, -0.6264, -0.9341]],\n",
       "       \n",
       "               [[ 0.8304, -0.2322,  1.8142],\n",
       "                [-0.4266, -0.6264, -0.9341]],\n",
       "       \n",
       "               [[ 0.8304, -0.2322,  1.8142],\n",
       "                [-0.4266, -0.6264, -0.9341]]]),\n",
       ")"
      ]
     },
     "execution_count": 25,
     "metadata": {},
     "output_type": "execute_result"
    }
   ],
   "source": [
    "batches = [Batch(**_TREE_DATA_2) for _ in range(8)]\n",
    "\n",
    "Batch.stack(batches)"
   ]
  },
  {
   "cell_type": "code",
   "execution_count": 26,
   "id": "ec9037a3",
   "metadata": {
    "execution": {
     "iopub.execute_input": "2023-02-23T09:42:39.484664Z",
     "iopub.status.busy": "2023-02-23T09:42:39.484345Z",
     "iopub.status.idle": "2023-02-23T09:42:45.883093Z",
     "shell.execute_reply": "2023-02-23T09:42:45.882449Z"
    }
   },
   "outputs": [
    {
     "name": "stdout",
     "output_type": "stream",
     "text": [
      "78.8 µs ± 424 ns per loop (mean ± std. dev. of 7 runs, 10,000 loops each)\n"
     ]
    }
   ],
   "source": [
    "%timeit Batch.stack(batches)"
   ]
  },
  {
   "cell_type": "code",
   "execution_count": 27,
   "id": "cb8ab77e",
   "metadata": {
    "execution": {
     "iopub.execute_input": "2023-02-23T09:42:45.885968Z",
     "iopub.status.busy": "2023-02-23T09:42:45.885321Z",
     "iopub.status.idle": "2023-02-23T09:42:45.893171Z",
     "shell.execute_reply": "2023-02-23T09:42:45.892231Z"
    }
   },
   "outputs": [
    {
     "data": {
      "text/plain": [
       "Batch(\n",
       "    x: Batch(\n",
       "           c: tensor([[-1.2538, -0.8776,  1.3843, -0.0242],\n",
       "                      [ 0.5980, -1.7951, -0.4449,  0.0772],\n",
       "                      [ 0.3038, -0.0385,  0.0639,  0.6546],\n",
       "                      [-1.2538, -0.8776,  1.3843, -0.0242],\n",
       "                      [ 0.5980, -1.7951, -0.4449,  0.0772],\n",
       "                      [ 0.3038, -0.0385,  0.0639,  0.6546],\n",
       "                      [-1.2538, -0.8776,  1.3843, -0.0242],\n",
       "                      [ 0.5980, -1.7951, -0.4449,  0.0772],\n",
       "                      [ 0.3038, -0.0385,  0.0639,  0.6546],\n",
       "                      [-1.2538, -0.8776,  1.3843, -0.0242],\n",
       "                      [ 0.5980, -1.7951, -0.4449,  0.0772],\n",
       "                      [ 0.3038, -0.0385,  0.0639,  0.6546],\n",
       "                      [-1.2538, -0.8776,  1.3843, -0.0242],\n",
       "                      [ 0.5980, -1.7951, -0.4449,  0.0772],\n",
       "                      [ 0.3038, -0.0385,  0.0639,  0.6546],\n",
       "                      [-1.2538, -0.8776,  1.3843, -0.0242],\n",
       "                      [ 0.5980, -1.7951, -0.4449,  0.0772],\n",
       "                      [ 0.3038, -0.0385,  0.0639,  0.6546],\n",
       "                      [-1.2538, -0.8776,  1.3843, -0.0242],\n",
       "                      [ 0.5980, -1.7951, -0.4449,  0.0772],\n",
       "                      [ 0.3038, -0.0385,  0.0639,  0.6546],\n",
       "                      [-1.2538, -0.8776,  1.3843, -0.0242],\n",
       "                      [ 0.5980, -1.7951, -0.4449,  0.0772],\n",
       "                      [ 0.3038, -0.0385,  0.0639,  0.6546]]),\n",
       "       ),\n",
       "    a: tensor([[ 0.8304, -0.2322,  1.8142],\n",
       "               [-0.4266, -0.6264, -0.9341],\n",
       "               [ 0.8304, -0.2322,  1.8142],\n",
       "               [-0.4266, -0.6264, -0.9341],\n",
       "               [ 0.8304, -0.2322,  1.8142],\n",
       "               [-0.4266, -0.6264, -0.9341],\n",
       "               [ 0.8304, -0.2322,  1.8142],\n",
       "               [-0.4266, -0.6264, -0.9341],\n",
       "               [ 0.8304, -0.2322,  1.8142],\n",
       "               [-0.4266, -0.6264, -0.9341],\n",
       "               [ 0.8304, -0.2322,  1.8142],\n",
       "               [-0.4266, -0.6264, -0.9341],\n",
       "               [ 0.8304, -0.2322,  1.8142],\n",
       "               [-0.4266, -0.6264, -0.9341],\n",
       "               [ 0.8304, -0.2322,  1.8142],\n",
       "               [-0.4266, -0.6264, -0.9341]]),\n",
       ")"
      ]
     },
     "execution_count": 27,
     "metadata": {},
     "output_type": "execute_result"
    }
   ],
   "source": [
    "Batch.cat(batches)"
   ]
  },
  {
   "cell_type": "code",
   "execution_count": 28,
   "id": "18dfb045",
   "metadata": {
    "execution": {
     "iopub.execute_input": "2023-02-23T09:42:45.895394Z",
     "iopub.status.busy": "2023-02-23T09:42:45.895190Z",
     "iopub.status.idle": "2023-02-23T09:42:57.541340Z",
     "shell.execute_reply": "2023-02-23T09:42:57.540661Z"
    }
   },
   "outputs": [
    {
     "name": "stdout",
     "output_type": "stream",
     "text": [
      "143 µs ± 122 ns per loop (mean ± std. dev. of 7 runs, 10,000 loops each)\n"
     ]
    }
   ],
   "source": [
    "%timeit Batch.cat(batches)"
   ]
  },
  {
   "cell_type": "code",
   "execution_count": 29,
   "id": "c6688e51",
   "metadata": {
    "execution": {
     "iopub.execute_input": "2023-02-23T09:42:57.544123Z",
     "iopub.status.busy": "2023-02-23T09:42:57.543596Z",
     "iopub.status.idle": "2023-02-23T09:43:00.060377Z",
     "shell.execute_reply": "2023-02-23T09:43:00.059810Z"
    }
   },
   "outputs": [
    {
     "name": "stdout",
     "output_type": "stream",
     "text": [
      "309 µs ± 537 ns per loop (mean ± std. dev. of 7 runs, 1,000 loops each)\n"
     ]
    }
   ],
   "source": [
    "batch = Batch({\n",
    "    'obs': torch.randn(8, 4, 84, 84),\n",
    "    'action': torch.randint(0, 6, size=(8, 1,)),\n",
    "    'reward': torch.rand(8, 1)}\n",
    ")\n",
    "\n",
    "%timeit list(Batch.split(batch, 1, shuffle=False, merge_last=True))"
   ]
  },
  {
   "cell_type": "code",
   "execution_count": null,
   "id": "2539fbd9",
   "metadata": {},
   "outputs": [],
   "source": []
  }
 ],
 "metadata": {
  "kernelspec": {
   "display_name": "Python 3 (ipykernel)",
   "language": "python",
   "name": "python3"
  },
  "language_info": {
   "codemirror_mode": {
    "name": "ipython",
    "version": 3
   },
   "file_extension": ".py",
   "mimetype": "text/x-python",
   "name": "python",
   "nbconvert_exporter": "python",
   "pygments_lexer": "ipython3",
   "version": "3.8.16"
  }
 },
 "nbformat": 4,
 "nbformat_minor": 5
}
