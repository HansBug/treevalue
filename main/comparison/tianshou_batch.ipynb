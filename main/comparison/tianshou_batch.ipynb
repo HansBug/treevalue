{
 "cells": [
  {
   "cell_type": "markdown",
   "id": "9d39d946",
   "metadata": {},
   "source": [
    "# Comparison Between TreeValue and Tianshou Batch"
   ]
  },
  {
   "cell_type": "markdown",
   "id": "3c6db2d4",
   "metadata": {},
   "source": [
    "In this section, we will take a look at the feature and performance of the [Tianshou Batch](https://github.com/thu-ml/tianshou) library, which is developed by Tsinghua Machine Learning Group."
   ]
  },
  {
   "cell_type": "markdown",
   "id": "069361b0",
   "metadata": {},
   "source": [
    "Before starting the comparison, let us define some thing."
   ]
  },
  {
   "cell_type": "code",
   "execution_count": 1,
   "id": "06fc8d26",
   "metadata": {
    "execution": {
     "iopub.execute_input": "2023-02-26T16:02:07.797735Z",
     "iopub.status.busy": "2023-02-26T16:02:07.797420Z",
     "iopub.status.idle": "2023-02-26T16:02:09.068118Z",
     "shell.execute_reply": "2023-02-26T16:02:09.066996Z"
    }
   },
   "outputs": [
    {
     "name": "stderr",
     "output_type": "stream",
     "text": [
      "/opt/hostedtoolcache/Python/3.8.16/x64/lib/python3.8/site-packages/tqdm/auto.py:22: TqdmWarning: IProgress not found. Please update jupyter and ipywidgets. See https://ipywidgets.readthedocs.io/en/stable/user_install.html\n",
      "  from .autonotebook import tqdm as notebook_tqdm\n"
     ]
    }
   ],
   "source": [
    "import torch \n",
    "\n",
    "_TREE_DATA_1 = {'a': 1, 'b': 2, 'x': {'c': 3, 'd': 4}}\n",
    "_TREE_DATA_2 = {\n",
    "    'a': torch.randn(2, 3), \n",
    "    'x': {\n",
    "        'c': torch.randn(3, 4)\n",
    "    },\n",
    "}\n",
    "_TREE_DATA_3 = {\n",
    "    'obs': torch.randn(4, 84, 84),\n",
    "    'action': torch.randint(0, 6, size=(1,)),\n",
    "    'reward': torch.rand(1),\n",
    "}"
   ]
  },
  {
   "cell_type": "markdown",
   "id": "83461b25",
   "metadata": {},
   "source": [
    "## Read and Write Operation"
   ]
  },
  {
   "cell_type": "markdown",
   "id": "067b3f73",
   "metadata": {},
   "source": [
    "Reading and writing are the two most common operations in the tree data structure based on the data model (TreeValue and Tianshou Batch both belong to this type), so this section will compare the reading and writing performance of these two libraries."
   ]
  },
  {
   "cell_type": "markdown",
   "id": "5d09a5b7",
   "metadata": {},
   "source": [
    "### TreeValue's Get and Set"
   ]
  },
  {
   "cell_type": "code",
   "execution_count": 2,
   "id": "9519c4bb",
   "metadata": {
    "execution": {
     "iopub.execute_input": "2023-02-26T16:02:09.072793Z",
     "iopub.status.busy": "2023-02-26T16:02:09.072430Z",
     "iopub.status.idle": "2023-02-26T16:02:09.457548Z",
     "shell.execute_reply": "2023-02-26T16:02:09.456493Z"
    }
   },
   "outputs": [],
   "source": [
    "from treevalue import FastTreeValue\n",
    "\n",
    "t = FastTreeValue(_TREE_DATA_2)"
   ]
  },
  {
   "cell_type": "code",
   "execution_count": 3,
   "id": "11c37677",
   "metadata": {
    "execution": {
     "iopub.execute_input": "2023-02-26T16:02:09.461656Z",
     "iopub.status.busy": "2023-02-26T16:02:09.461019Z",
     "iopub.status.idle": "2023-02-26T16:02:09.476419Z",
     "shell.execute_reply": "2023-02-26T16:02:09.475278Z"
    }
   },
   "outputs": [
    {
     "data": {
      "text/plain": [
       "<FastTreeValue 0x7ffa38e259d0>\n",
       "├── 'a' --> tensor([[-0.1960,  0.2083,  1.5424],\n",
       "│                   [-0.1976, -1.3767,  0.1774]])\n",
       "└── 'x' --> <FastTreeValue 0x7ffa38ebac70>\n",
       "    └── 'c' --> tensor([[ 0.9793,  0.3693, -0.3448,  0.7939],\n",
       "                        [-0.7109, -0.5054,  0.7105, -0.4517],\n",
       "                        [-1.5664, -1.1374,  0.7007,  0.3352]])"
      ]
     },
     "execution_count": 3,
     "metadata": {},
     "output_type": "execute_result"
    }
   ],
   "source": [
    "t"
   ]
  },
  {
   "cell_type": "code",
   "execution_count": 4,
   "id": "fd70b0b9",
   "metadata": {
    "execution": {
     "iopub.execute_input": "2023-02-26T16:02:09.479764Z",
     "iopub.status.busy": "2023-02-26T16:02:09.479488Z",
     "iopub.status.idle": "2023-02-26T16:02:09.487275Z",
     "shell.execute_reply": "2023-02-26T16:02:09.486052Z"
    }
   },
   "outputs": [
    {
     "data": {
      "text/plain": [
       "tensor([[-0.1960,  0.2083,  1.5424],\n",
       "        [-0.1976, -1.3767,  0.1774]])"
      ]
     },
     "execution_count": 4,
     "metadata": {},
     "output_type": "execute_result"
    }
   ],
   "source": [
    "t.a"
   ]
  },
  {
   "cell_type": "code",
   "execution_count": 5,
   "id": "c18197bd",
   "metadata": {
    "execution": {
     "iopub.execute_input": "2023-02-26T16:02:09.490821Z",
     "iopub.status.busy": "2023-02-26T16:02:09.490493Z",
     "iopub.status.idle": "2023-02-26T16:02:16.152355Z",
     "shell.execute_reply": "2023-02-26T16:02:16.151244Z"
    }
   },
   "outputs": [
    {
     "name": "stdout",
     "output_type": "stream",
     "text": [
      "81.9 ns ± 2.05 ns per loop (mean ± std. dev. of 7 runs, 10,000,000 loops each)\n"
     ]
    }
   ],
   "source": [
    "%timeit t.a"
   ]
  },
  {
   "cell_type": "code",
   "execution_count": 6,
   "id": "bd52f867",
   "metadata": {
    "execution": {
     "iopub.execute_input": "2023-02-26T16:02:16.156247Z",
     "iopub.status.busy": "2023-02-26T16:02:16.155769Z",
     "iopub.status.idle": "2023-02-26T16:02:16.165120Z",
     "shell.execute_reply": "2023-02-26T16:02:16.164178Z"
    }
   },
   "outputs": [
    {
     "data": {
      "text/plain": [
       "<FastTreeValue 0x7ffa38e259d0>\n",
       "├── 'a' --> tensor([[ 0.4051, -0.8287,  0.8245],\n",
       "│                   [-0.5784, -0.1190,  1.6041]])\n",
       "└── 'x' --> <FastTreeValue 0x7ffa38ebac70>\n",
       "    └── 'c' --> tensor([[ 0.9793,  0.3693, -0.3448,  0.7939],\n",
       "                        [-0.7109, -0.5054,  0.7105, -0.4517],\n",
       "                        [-1.5664, -1.1374,  0.7007,  0.3352]])"
      ]
     },
     "execution_count": 6,
     "metadata": {},
     "output_type": "execute_result"
    }
   ],
   "source": [
    "new_value = torch.randn(2, 3)\n",
    "t.a = new_value\n",
    "\n",
    "t"
   ]
  },
  {
   "cell_type": "code",
   "execution_count": 7,
   "id": "bbe04d1c",
   "metadata": {
    "execution": {
     "iopub.execute_input": "2023-02-26T16:02:16.168946Z",
     "iopub.status.busy": "2023-02-26T16:02:16.168115Z",
     "iopub.status.idle": "2023-02-26T16:02:22.853460Z",
     "shell.execute_reply": "2023-02-26T16:02:22.852360Z"
    }
   },
   "outputs": [
    {
     "name": "stdout",
     "output_type": "stream",
     "text": [
      "82.3 ns ± 1.01 ns per loop (mean ± std. dev. of 7 runs, 10,000,000 loops each)\n"
     ]
    }
   ],
   "source": [
    "%timeit t.a = new_value"
   ]
  },
  {
   "cell_type": "markdown",
   "id": "48c49731",
   "metadata": {},
   "source": [
    "### Tianshou Batch's Get and Set"
   ]
  },
  {
   "cell_type": "code",
   "execution_count": 8,
   "id": "f1bb14c1",
   "metadata": {
    "execution": {
     "iopub.execute_input": "2023-02-26T16:02:22.857279Z",
     "iopub.status.busy": "2023-02-26T16:02:22.856787Z",
     "iopub.status.idle": "2023-02-26T16:02:23.323603Z",
     "shell.execute_reply": "2023-02-26T16:02:23.322506Z"
    }
   },
   "outputs": [],
   "source": [
    "from tianshou.data import Batch\n",
    "\n",
    "b = Batch(**_TREE_DATA_2)"
   ]
  },
  {
   "cell_type": "code",
   "execution_count": 9,
   "id": "cb0777c3",
   "metadata": {
    "execution": {
     "iopub.execute_input": "2023-02-26T16:02:23.327834Z",
     "iopub.status.busy": "2023-02-26T16:02:23.327399Z",
     "iopub.status.idle": "2023-02-26T16:02:23.335985Z",
     "shell.execute_reply": "2023-02-26T16:02:23.335108Z"
    }
   },
   "outputs": [
    {
     "data": {
      "text/plain": [
       "Batch(\n",
       "    a: tensor([[-0.1960,  0.2083,  1.5424],\n",
       "               [-0.1976, -1.3767,  0.1774]]),\n",
       "    x: Batch(\n",
       "           c: tensor([[ 0.9793,  0.3693, -0.3448,  0.7939],\n",
       "                      [-0.7109, -0.5054,  0.7105, -0.4517],\n",
       "                      [-1.5664, -1.1374,  0.7007,  0.3352]]),\n",
       "       ),\n",
       ")"
      ]
     },
     "execution_count": 9,
     "metadata": {},
     "output_type": "execute_result"
    }
   ],
   "source": [
    "b"
   ]
  },
  {
   "cell_type": "code",
   "execution_count": 10,
   "id": "43ef8ea3",
   "metadata": {
    "execution": {
     "iopub.execute_input": "2023-02-26T16:02:23.339367Z",
     "iopub.status.busy": "2023-02-26T16:02:23.338883Z",
     "iopub.status.idle": "2023-02-26T16:02:23.345512Z",
     "shell.execute_reply": "2023-02-26T16:02:23.344571Z"
    }
   },
   "outputs": [
    {
     "data": {
      "text/plain": [
       "tensor([[-0.1960,  0.2083,  1.5424],\n",
       "        [-0.1976, -1.3767,  0.1774]])"
      ]
     },
     "execution_count": 10,
     "metadata": {},
     "output_type": "execute_result"
    }
   ],
   "source": [
    "b.a"
   ]
  },
  {
   "cell_type": "code",
   "execution_count": 11,
   "id": "b785ab72",
   "metadata": {
    "execution": {
     "iopub.execute_input": "2023-02-26T16:02:23.348671Z",
     "iopub.status.busy": "2023-02-26T16:02:23.348382Z",
     "iopub.status.idle": "2023-02-26T16:02:29.310156Z",
     "shell.execute_reply": "2023-02-26T16:02:29.309098Z"
    }
   },
   "outputs": [
    {
     "name": "stdout",
     "output_type": "stream",
     "text": [
      "73.3 ns ± 0.724 ns per loop (mean ± std. dev. of 7 runs, 10,000,000 loops each)\n"
     ]
    }
   ],
   "source": [
    "%timeit b.a"
   ]
  },
  {
   "cell_type": "code",
   "execution_count": 12,
   "id": "ad54dc69",
   "metadata": {
    "execution": {
     "iopub.execute_input": "2023-02-26T16:02:29.314096Z",
     "iopub.status.busy": "2023-02-26T16:02:29.313528Z",
     "iopub.status.idle": "2023-02-26T16:02:29.322687Z",
     "shell.execute_reply": "2023-02-26T16:02:29.321772Z"
    }
   },
   "outputs": [
    {
     "data": {
      "text/plain": [
       "Batch(\n",
       "    a: tensor([[ 0.2604, -2.5086, -0.5025],\n",
       "               [-1.6990,  0.5346, -0.1405]]),\n",
       "    x: Batch(\n",
       "           c: tensor([[ 0.9793,  0.3693, -0.3448,  0.7939],\n",
       "                      [-0.7109, -0.5054,  0.7105, -0.4517],\n",
       "                      [-1.5664, -1.1374,  0.7007,  0.3352]]),\n",
       "       ),\n",
       ")"
      ]
     },
     "execution_count": 12,
     "metadata": {},
     "output_type": "execute_result"
    }
   ],
   "source": [
    "new_value = torch.randn(2, 3)\n",
    "b.a = new_value\n",
    "\n",
    "b"
   ]
  },
  {
   "cell_type": "code",
   "execution_count": 13,
   "id": "29b1d0bf",
   "metadata": {
    "execution": {
     "iopub.execute_input": "2023-02-26T16:02:29.326340Z",
     "iopub.status.busy": "2023-02-26T16:02:29.325751Z",
     "iopub.status.idle": "2023-02-26T16:02:34.513550Z",
     "shell.execute_reply": "2023-02-26T16:02:34.512412Z"
    }
   },
   "outputs": [
    {
     "name": "stdout",
     "output_type": "stream",
     "text": [
      "640 ns ± 8.12 ns per loop (mean ± std. dev. of 7 runs, 1,000,000 loops each)\n"
     ]
    }
   ],
   "source": [
    "%timeit b.a = new_value"
   ]
  },
  {
   "cell_type": "markdown",
   "id": "b61ad1d0",
   "metadata": {},
   "source": [
    "## Initialization"
   ]
  },
  {
   "cell_type": "markdown",
   "id": "d70f0d54",
   "metadata": {},
   "source": [
    "### TreeValue's Initialization"
   ]
  },
  {
   "cell_type": "code",
   "execution_count": 14,
   "id": "d32a679b",
   "metadata": {
    "execution": {
     "iopub.execute_input": "2023-02-26T16:02:34.517673Z",
     "iopub.status.busy": "2023-02-26T16:02:34.517156Z",
     "iopub.status.idle": "2023-02-26T16:02:43.005774Z",
     "shell.execute_reply": "2023-02-26T16:02:43.004610Z"
    }
   },
   "outputs": [
    {
     "name": "stdout",
     "output_type": "stream",
     "text": [
      "1.05 µs ± 10.7 ns per loop (mean ± std. dev. of 7 runs, 1,000,000 loops each)\n"
     ]
    }
   ],
   "source": [
    "%timeit FastTreeValue(_TREE_DATA_1)"
   ]
  },
  {
   "cell_type": "markdown",
   "id": "24f3707b",
   "metadata": {},
   "source": [
    "### Tianshou Batch's Initialization"
   ]
  },
  {
   "cell_type": "code",
   "execution_count": 15,
   "id": "ac3958df",
   "metadata": {
    "execution": {
     "iopub.execute_input": "2023-02-26T16:02:43.009969Z",
     "iopub.status.busy": "2023-02-26T16:02:43.009478Z",
     "iopub.status.idle": "2023-02-26T16:02:54.830859Z",
     "shell.execute_reply": "2023-02-26T16:02:54.829630Z"
    }
   },
   "outputs": [
    {
     "name": "stdout",
     "output_type": "stream",
     "text": [
      "14.6 µs ± 127 ns per loop (mean ± std. dev. of 7 runs, 100,000 loops each)\n"
     ]
    }
   ],
   "source": [
    "%timeit Batch(**_TREE_DATA_1)"
   ]
  },
  {
   "cell_type": "markdown",
   "id": "1ab82e2d",
   "metadata": {},
   "source": [
    "## Deep Copy Operation"
   ]
  },
  {
   "cell_type": "code",
   "execution_count": 16,
   "id": "210a9442",
   "metadata": {
    "execution": {
     "iopub.execute_input": "2023-02-26T16:02:54.834762Z",
     "iopub.status.busy": "2023-02-26T16:02:54.834163Z",
     "iopub.status.idle": "2023-02-26T16:02:54.839584Z",
     "shell.execute_reply": "2023-02-26T16:02:54.838623Z"
    }
   },
   "outputs": [],
   "source": [
    "import copy"
   ]
  },
  {
   "cell_type": "markdown",
   "id": "5a736274",
   "metadata": {},
   "source": [
    "### Deep Copy of TreeValue"
   ]
  },
  {
   "cell_type": "code",
   "execution_count": 17,
   "id": "f9bcadd6",
   "metadata": {
    "execution": {
     "iopub.execute_input": "2023-02-26T16:02:54.843281Z",
     "iopub.status.busy": "2023-02-26T16:02:54.842417Z",
     "iopub.status.idle": "2023-02-26T16:02:57.352713Z",
     "shell.execute_reply": "2023-02-26T16:02:57.351604Z"
    }
   },
   "outputs": [
    {
     "name": "stdout",
     "output_type": "stream",
     "text": [
      "298 µs ± 6.68 µs per loop (mean ± std. dev. of 7 runs, 1,000 loops each)\n"
     ]
    }
   ],
   "source": [
    "t3 = FastTreeValue(_TREE_DATA_3)\n",
    "%timeit copy.deepcopy(t3)"
   ]
  },
  {
   "cell_type": "markdown",
   "id": "bf8be7ea",
   "metadata": {},
   "source": [
    "### Deep Copy of Tianshou Batch"
   ]
  },
  {
   "cell_type": "code",
   "execution_count": 18,
   "id": "91998e6f",
   "metadata": {
    "execution": {
     "iopub.execute_input": "2023-02-26T16:02:57.356625Z",
     "iopub.status.busy": "2023-02-26T16:02:57.356107Z",
     "iopub.status.idle": "2023-02-26T16:02:59.632038Z",
     "shell.execute_reply": "2023-02-26T16:02:59.630964Z"
    }
   },
   "outputs": [
    {
     "name": "stdout",
     "output_type": "stream",
     "text": [
      "278 µs ± 12 µs per loop (mean ± std. dev. of 7 runs, 1,000 loops each)\n"
     ]
    }
   ],
   "source": [
    "b3 = Batch(**_TREE_DATA_3)\n",
    "%timeit copy.deepcopy(b3)"
   ]
  },
  {
   "cell_type": "markdown",
   "id": "223162fb",
   "metadata": {},
   "source": [
    "## Stack, Concat and Split Operation"
   ]
  },
  {
   "cell_type": "markdown",
   "id": "85fa4a73",
   "metadata": {},
   "source": [
    "### Performance of TreeValue"
   ]
  },
  {
   "cell_type": "code",
   "execution_count": 19,
   "id": "a0c2b697",
   "metadata": {
    "execution": {
     "iopub.execute_input": "2023-02-26T16:02:59.637749Z",
     "iopub.status.busy": "2023-02-26T16:02:59.637141Z",
     "iopub.status.idle": "2023-02-26T16:02:59.642171Z",
     "shell.execute_reply": "2023-02-26T16:02:59.641077Z"
    }
   },
   "outputs": [],
   "source": [
    "trees = [FastTreeValue(_TREE_DATA_2) for _ in range(8)]"
   ]
  },
  {
   "cell_type": "code",
   "execution_count": 20,
   "id": "017ea5a5",
   "metadata": {
    "execution": {
     "iopub.execute_input": "2023-02-26T16:02:59.645535Z",
     "iopub.status.busy": "2023-02-26T16:02:59.645069Z",
     "iopub.status.idle": "2023-02-26T16:02:59.657166Z",
     "shell.execute_reply": "2023-02-26T16:02:59.656099Z"
    }
   },
   "outputs": [
    {
     "data": {
      "text/plain": [
       "<FastTreeValue 0x7ff98115cb50>\n",
       "├── 'a' --> tensor([[[-0.1960,  0.2083,  1.5424],\n",
       "│                    [-0.1976, -1.3767,  0.1774]],\n",
       "│           \n",
       "│                   [[-0.1960,  0.2083,  1.5424],\n",
       "│                    [-0.1976, -1.3767,  0.1774]],\n",
       "│           \n",
       "│                   [[-0.1960,  0.2083,  1.5424],\n",
       "│                    [-0.1976, -1.3767,  0.1774]],\n",
       "│           \n",
       "│                   [[-0.1960,  0.2083,  1.5424],\n",
       "│                    [-0.1976, -1.3767,  0.1774]],\n",
       "│           \n",
       "│                   [[-0.1960,  0.2083,  1.5424],\n",
       "│                    [-0.1976, -1.3767,  0.1774]],\n",
       "│           \n",
       "│                   [[-0.1960,  0.2083,  1.5424],\n",
       "│                    [-0.1976, -1.3767,  0.1774]],\n",
       "│           \n",
       "│                   [[-0.1960,  0.2083,  1.5424],\n",
       "│                    [-0.1976, -1.3767,  0.1774]],\n",
       "│           \n",
       "│                   [[-0.1960,  0.2083,  1.5424],\n",
       "│                    [-0.1976, -1.3767,  0.1774]]])\n",
       "└── 'x' --> <FastTreeValue 0x7ff98115c730>\n",
       "    └── 'c' --> tensor([[[ 0.9793,  0.3693, -0.3448,  0.7939],\n",
       "                         [-0.7109, -0.5054,  0.7105, -0.4517],\n",
       "                         [-1.5664, -1.1374,  0.7007,  0.3352]],\n",
       "                \n",
       "                        [[ 0.9793,  0.3693, -0.3448,  0.7939],\n",
       "                         [-0.7109, -0.5054,  0.7105, -0.4517],\n",
       "                         [-1.5664, -1.1374,  0.7007,  0.3352]],\n",
       "                \n",
       "                        [[ 0.9793,  0.3693, -0.3448,  0.7939],\n",
       "                         [-0.7109, -0.5054,  0.7105, -0.4517],\n",
       "                         [-1.5664, -1.1374,  0.7007,  0.3352]],\n",
       "                \n",
       "                        [[ 0.9793,  0.3693, -0.3448,  0.7939],\n",
       "                         [-0.7109, -0.5054,  0.7105, -0.4517],\n",
       "                         [-1.5664, -1.1374,  0.7007,  0.3352]],\n",
       "                \n",
       "                        [[ 0.9793,  0.3693, -0.3448,  0.7939],\n",
       "                         [-0.7109, -0.5054,  0.7105, -0.4517],\n",
       "                         [-1.5664, -1.1374,  0.7007,  0.3352]],\n",
       "                \n",
       "                        [[ 0.9793,  0.3693, -0.3448,  0.7939],\n",
       "                         [-0.7109, -0.5054,  0.7105, -0.4517],\n",
       "                         [-1.5664, -1.1374,  0.7007,  0.3352]],\n",
       "                \n",
       "                        [[ 0.9793,  0.3693, -0.3448,  0.7939],\n",
       "                         [-0.7109, -0.5054,  0.7105, -0.4517],\n",
       "                         [-1.5664, -1.1374,  0.7007,  0.3352]],\n",
       "                \n",
       "                        [[ 0.9793,  0.3693, -0.3448,  0.7939],\n",
       "                         [-0.7109, -0.5054,  0.7105, -0.4517],\n",
       "                         [-1.5664, -1.1374,  0.7007,  0.3352]]])"
      ]
     },
     "execution_count": 20,
     "metadata": {},
     "output_type": "execute_result"
    }
   ],
   "source": [
    "t_stack = FastTreeValue.func(subside=True)(torch.stack)\n",
    "\n",
    "t_stack(trees)"
   ]
  },
  {
   "cell_type": "code",
   "execution_count": 21,
   "id": "f8b3f415",
   "metadata": {
    "execution": {
     "iopub.execute_input": "2023-02-26T16:02:59.660507Z",
     "iopub.status.busy": "2023-02-26T16:02:59.660066Z",
     "iopub.status.idle": "2023-02-26T16:03:03.466242Z",
     "shell.execute_reply": "2023-02-26T16:03:03.464176Z"
    }
   },
   "outputs": [
    {
     "name": "stdout",
     "output_type": "stream",
     "text": [
      "46.7 µs ± 614 ns per loop (mean ± std. dev. of 7 runs, 10,000 loops each)\n"
     ]
    }
   ],
   "source": [
    "%timeit t_stack(trees)"
   ]
  },
  {
   "cell_type": "code",
   "execution_count": 22,
   "id": "94b56771",
   "metadata": {
    "execution": {
     "iopub.execute_input": "2023-02-26T16:03:03.470438Z",
     "iopub.status.busy": "2023-02-26T16:03:03.469582Z",
     "iopub.status.idle": "2023-02-26T16:03:03.479918Z",
     "shell.execute_reply": "2023-02-26T16:03:03.478652Z"
    }
   },
   "outputs": [
    {
     "data": {
      "text/plain": [
       "<FastTreeValue 0x7ff9800ec280>\n",
       "├── 'a' --> tensor([[-0.1960,  0.2083,  1.5424],\n",
       "│                   [-0.1976, -1.3767,  0.1774],\n",
       "│                   [-0.1960,  0.2083,  1.5424],\n",
       "│                   [-0.1976, -1.3767,  0.1774],\n",
       "│                   [-0.1960,  0.2083,  1.5424],\n",
       "│                   [-0.1976, -1.3767,  0.1774],\n",
       "│                   [-0.1960,  0.2083,  1.5424],\n",
       "│                   [-0.1976, -1.3767,  0.1774],\n",
       "│                   [-0.1960,  0.2083,  1.5424],\n",
       "│                   [-0.1976, -1.3767,  0.1774],\n",
       "│                   [-0.1960,  0.2083,  1.5424],\n",
       "│                   [-0.1976, -1.3767,  0.1774],\n",
       "│                   [-0.1960,  0.2083,  1.5424],\n",
       "│                   [-0.1976, -1.3767,  0.1774],\n",
       "│                   [-0.1960,  0.2083,  1.5424],\n",
       "│                   [-0.1976, -1.3767,  0.1774]])\n",
       "└── 'x' --> <FastTreeValue 0x7ff9800ec130>\n",
       "    └── 'c' --> tensor([[ 0.9793,  0.3693, -0.3448,  0.7939],\n",
       "                        [-0.7109, -0.5054,  0.7105, -0.4517],\n",
       "                        [-1.5664, -1.1374,  0.7007,  0.3352],\n",
       "                        [ 0.9793,  0.3693, -0.3448,  0.7939],\n",
       "                        [-0.7109, -0.5054,  0.7105, -0.4517],\n",
       "                        [-1.5664, -1.1374,  0.7007,  0.3352],\n",
       "                        [ 0.9793,  0.3693, -0.3448,  0.7939],\n",
       "                        [-0.7109, -0.5054,  0.7105, -0.4517],\n",
       "                        [-1.5664, -1.1374,  0.7007,  0.3352],\n",
       "                        [ 0.9793,  0.3693, -0.3448,  0.7939],\n",
       "                        [-0.7109, -0.5054,  0.7105, -0.4517],\n",
       "                        [-1.5664, -1.1374,  0.7007,  0.3352],\n",
       "                        [ 0.9793,  0.3693, -0.3448,  0.7939],\n",
       "                        [-0.7109, -0.5054,  0.7105, -0.4517],\n",
       "                        [-1.5664, -1.1374,  0.7007,  0.3352],\n",
       "                        [ 0.9793,  0.3693, -0.3448,  0.7939],\n",
       "                        [-0.7109, -0.5054,  0.7105, -0.4517],\n",
       "                        [-1.5664, -1.1374,  0.7007,  0.3352],\n",
       "                        [ 0.9793,  0.3693, -0.3448,  0.7939],\n",
       "                        [-0.7109, -0.5054,  0.7105, -0.4517],\n",
       "                        [-1.5664, -1.1374,  0.7007,  0.3352],\n",
       "                        [ 0.9793,  0.3693, -0.3448,  0.7939],\n",
       "                        [-0.7109, -0.5054,  0.7105, -0.4517],\n",
       "                        [-1.5664, -1.1374,  0.7007,  0.3352]])"
      ]
     },
     "execution_count": 22,
     "metadata": {},
     "output_type": "execute_result"
    }
   ],
   "source": [
    "t_cat = FastTreeValue.func(subside=True)(torch.cat)\n",
    "\n",
    "t_cat(trees)"
   ]
  },
  {
   "cell_type": "code",
   "execution_count": 23,
   "id": "5e9c06a6",
   "metadata": {
    "execution": {
     "iopub.execute_input": "2023-02-26T16:03:03.483572Z",
     "iopub.status.busy": "2023-02-26T16:03:03.483273Z",
     "iopub.status.idle": "2023-02-26T16:03:06.921947Z",
     "shell.execute_reply": "2023-02-26T16:03:06.920976Z"
    }
   },
   "outputs": [
    {
     "name": "stdout",
     "output_type": "stream",
     "text": [
      "42.1 µs ± 484 ns per loop (mean ± std. dev. of 7 runs, 10,000 loops each)\n"
     ]
    }
   ],
   "source": [
    "%timeit t_cat(trees)"
   ]
  },
  {
   "cell_type": "code",
   "execution_count": 24,
   "id": "a3ab5c8f",
   "metadata": {
    "execution": {
     "iopub.execute_input": "2023-02-26T16:03:06.925565Z",
     "iopub.status.busy": "2023-02-26T16:03:06.925078Z",
     "iopub.status.idle": "2023-02-26T16:03:13.788949Z",
     "shell.execute_reply": "2023-02-26T16:03:13.787717Z"
    }
   },
   "outputs": [
    {
     "name": "stdout",
     "output_type": "stream",
     "text": [
      "84.4 µs ± 2.74 µs per loop (mean ± std. dev. of 7 runs, 10,000 loops each)\n"
     ]
    }
   ],
   "source": [
    "t_split = FastTreeValue.func(rise=True)(torch.split)\n",
    "tree = FastTreeValue({\n",
    "    'obs': torch.randn(8, 4, 84, 84),\n",
    "    'action': torch.randint(0, 6, size=(8, 1,)),\n",
    "    'reward': torch.rand(8, 1),\n",
    "})\n",
    "\n",
    "%timeit t_split(tree, 1)"
   ]
  },
  {
   "cell_type": "markdown",
   "id": "31c3ec0b",
   "metadata": {},
   "source": [
    "### Performance of Tianshou Batch"
   ]
  },
  {
   "cell_type": "code",
   "execution_count": 25,
   "id": "9ead828a",
   "metadata": {
    "execution": {
     "iopub.execute_input": "2023-02-26T16:03:13.792640Z",
     "iopub.status.busy": "2023-02-26T16:03:13.792105Z",
     "iopub.status.idle": "2023-02-26T16:03:13.802959Z",
     "shell.execute_reply": "2023-02-26T16:03:13.801995Z"
    }
   },
   "outputs": [
    {
     "data": {
      "text/plain": [
       "Batch(\n",
       "    x: Batch(\n",
       "           c: tensor([[[ 0.9793,  0.3693, -0.3448,  0.7939],\n",
       "                       [-0.7109, -0.5054,  0.7105, -0.4517],\n",
       "                       [-1.5664, -1.1374,  0.7007,  0.3352]],\n",
       "              \n",
       "                      [[ 0.9793,  0.3693, -0.3448,  0.7939],\n",
       "                       [-0.7109, -0.5054,  0.7105, -0.4517],\n",
       "                       [-1.5664, -1.1374,  0.7007,  0.3352]],\n",
       "              \n",
       "                      [[ 0.9793,  0.3693, -0.3448,  0.7939],\n",
       "                       [-0.7109, -0.5054,  0.7105, -0.4517],\n",
       "                       [-1.5664, -1.1374,  0.7007,  0.3352]],\n",
       "              \n",
       "                      [[ 0.9793,  0.3693, -0.3448,  0.7939],\n",
       "                       [-0.7109, -0.5054,  0.7105, -0.4517],\n",
       "                       [-1.5664, -1.1374,  0.7007,  0.3352]],\n",
       "              \n",
       "                      [[ 0.9793,  0.3693, -0.3448,  0.7939],\n",
       "                       [-0.7109, -0.5054,  0.7105, -0.4517],\n",
       "                       [-1.5664, -1.1374,  0.7007,  0.3352]],\n",
       "              \n",
       "                      [[ 0.9793,  0.3693, -0.3448,  0.7939],\n",
       "                       [-0.7109, -0.5054,  0.7105, -0.4517],\n",
       "                       [-1.5664, -1.1374,  0.7007,  0.3352]],\n",
       "              \n",
       "                      [[ 0.9793,  0.3693, -0.3448,  0.7939],\n",
       "                       [-0.7109, -0.5054,  0.7105, -0.4517],\n",
       "                       [-1.5664, -1.1374,  0.7007,  0.3352]],\n",
       "              \n",
       "                      [[ 0.9793,  0.3693, -0.3448,  0.7939],\n",
       "                       [-0.7109, -0.5054,  0.7105, -0.4517],\n",
       "                       [-1.5664, -1.1374,  0.7007,  0.3352]]]),\n",
       "       ),\n",
       "    a: tensor([[[-0.1960,  0.2083,  1.5424],\n",
       "                [-0.1976, -1.3767,  0.1774]],\n",
       "       \n",
       "               [[-0.1960,  0.2083,  1.5424],\n",
       "                [-0.1976, -1.3767,  0.1774]],\n",
       "       \n",
       "               [[-0.1960,  0.2083,  1.5424],\n",
       "                [-0.1976, -1.3767,  0.1774]],\n",
       "       \n",
       "               [[-0.1960,  0.2083,  1.5424],\n",
       "                [-0.1976, -1.3767,  0.1774]],\n",
       "       \n",
       "               [[-0.1960,  0.2083,  1.5424],\n",
       "                [-0.1976, -1.3767,  0.1774]],\n",
       "       \n",
       "               [[-0.1960,  0.2083,  1.5424],\n",
       "                [-0.1976, -1.3767,  0.1774]],\n",
       "       \n",
       "               [[-0.1960,  0.2083,  1.5424],\n",
       "                [-0.1976, -1.3767,  0.1774]],\n",
       "       \n",
       "               [[-0.1960,  0.2083,  1.5424],\n",
       "                [-0.1976, -1.3767,  0.1774]]]),\n",
       ")"
      ]
     },
     "execution_count": 25,
     "metadata": {},
     "output_type": "execute_result"
    }
   ],
   "source": [
    "batches = [Batch(**_TREE_DATA_2) for _ in range(8)]\n",
    "\n",
    "Batch.stack(batches)"
   ]
  },
  {
   "cell_type": "code",
   "execution_count": 26,
   "id": "ec9037a3",
   "metadata": {
    "execution": {
     "iopub.execute_input": "2023-02-26T16:03:13.805934Z",
     "iopub.status.busy": "2023-02-26T16:03:13.805642Z",
     "iopub.status.idle": "2023-02-26T16:03:22.434565Z",
     "shell.execute_reply": "2023-02-26T16:03:22.433523Z"
    }
   },
   "outputs": [
    {
     "name": "stdout",
     "output_type": "stream",
     "text": [
      "106 µs ± 974 ns per loop (mean ± std. dev. of 7 runs, 10,000 loops each)\n"
     ]
    }
   ],
   "source": [
    "%timeit Batch.stack(batches)"
   ]
  },
  {
   "cell_type": "code",
   "execution_count": 27,
   "id": "cb8ab77e",
   "metadata": {
    "execution": {
     "iopub.execute_input": "2023-02-26T16:03:22.438274Z",
     "iopub.status.busy": "2023-02-26T16:03:22.437772Z",
     "iopub.status.idle": "2023-02-26T16:03:22.447959Z",
     "shell.execute_reply": "2023-02-26T16:03:22.447028Z"
    }
   },
   "outputs": [
    {
     "data": {
      "text/plain": [
       "Batch(\n",
       "    x: Batch(\n",
       "           c: tensor([[ 0.9793,  0.3693, -0.3448,  0.7939],\n",
       "                      [-0.7109, -0.5054,  0.7105, -0.4517],\n",
       "                      [-1.5664, -1.1374,  0.7007,  0.3352],\n",
       "                      [ 0.9793,  0.3693, -0.3448,  0.7939],\n",
       "                      [-0.7109, -0.5054,  0.7105, -0.4517],\n",
       "                      [-1.5664, -1.1374,  0.7007,  0.3352],\n",
       "                      [ 0.9793,  0.3693, -0.3448,  0.7939],\n",
       "                      [-0.7109, -0.5054,  0.7105, -0.4517],\n",
       "                      [-1.5664, -1.1374,  0.7007,  0.3352],\n",
       "                      [ 0.9793,  0.3693, -0.3448,  0.7939],\n",
       "                      [-0.7109, -0.5054,  0.7105, -0.4517],\n",
       "                      [-1.5664, -1.1374,  0.7007,  0.3352],\n",
       "                      [ 0.9793,  0.3693, -0.3448,  0.7939],\n",
       "                      [-0.7109, -0.5054,  0.7105, -0.4517],\n",
       "                      [-1.5664, -1.1374,  0.7007,  0.3352],\n",
       "                      [ 0.9793,  0.3693, -0.3448,  0.7939],\n",
       "                      [-0.7109, -0.5054,  0.7105, -0.4517],\n",
       "                      [-1.5664, -1.1374,  0.7007,  0.3352],\n",
       "                      [ 0.9793,  0.3693, -0.3448,  0.7939],\n",
       "                      [-0.7109, -0.5054,  0.7105, -0.4517],\n",
       "                      [-1.5664, -1.1374,  0.7007,  0.3352],\n",
       "                      [ 0.9793,  0.3693, -0.3448,  0.7939],\n",
       "                      [-0.7109, -0.5054,  0.7105, -0.4517],\n",
       "                      [-1.5664, -1.1374,  0.7007,  0.3352]]),\n",
       "       ),\n",
       "    a: tensor([[-0.1960,  0.2083,  1.5424],\n",
       "               [-0.1976, -1.3767,  0.1774],\n",
       "               [-0.1960,  0.2083,  1.5424],\n",
       "               [-0.1976, -1.3767,  0.1774],\n",
       "               [-0.1960,  0.2083,  1.5424],\n",
       "               [-0.1976, -1.3767,  0.1774],\n",
       "               [-0.1960,  0.2083,  1.5424],\n",
       "               [-0.1976, -1.3767,  0.1774],\n",
       "               [-0.1960,  0.2083,  1.5424],\n",
       "               [-0.1976, -1.3767,  0.1774],\n",
       "               [-0.1960,  0.2083,  1.5424],\n",
       "               [-0.1976, -1.3767,  0.1774],\n",
       "               [-0.1960,  0.2083,  1.5424],\n",
       "               [-0.1976, -1.3767,  0.1774],\n",
       "               [-0.1960,  0.2083,  1.5424],\n",
       "               [-0.1976, -1.3767,  0.1774]]),\n",
       ")"
      ]
     },
     "execution_count": 27,
     "metadata": {},
     "output_type": "execute_result"
    }
   ],
   "source": [
    "Batch.cat(batches)"
   ]
  },
  {
   "cell_type": "code",
   "execution_count": 28,
   "id": "18dfb045",
   "metadata": {
    "execution": {
     "iopub.execute_input": "2023-02-26T16:03:22.451437Z",
     "iopub.status.busy": "2023-02-26T16:03:22.450950Z",
     "iopub.status.idle": "2023-02-26T16:03:37.687985Z",
     "shell.execute_reply": "2023-02-26T16:03:37.686902Z"
    }
   },
   "outputs": [
    {
     "name": "stdout",
     "output_type": "stream",
     "text": [
      "188 µs ± 1.86 µs per loop (mean ± std. dev. of 7 runs, 10,000 loops each)\n"
     ]
    }
   ],
   "source": [
    "%timeit Batch.cat(batches)"
   ]
  },
  {
   "cell_type": "code",
   "execution_count": 29,
   "id": "c6688e51",
   "metadata": {
    "execution": {
     "iopub.execute_input": "2023-02-26T16:03:37.692018Z",
     "iopub.status.busy": "2023-02-26T16:03:37.691458Z",
     "iopub.status.idle": "2023-02-26T16:03:42.681762Z",
     "shell.execute_reply": "2023-02-26T16:03:42.680799Z"
    }
   },
   "outputs": [
    {
     "name": "stdout",
     "output_type": "stream",
     "text": [
      "609 µs ± 12 µs per loop (mean ± std. dev. of 7 runs, 1,000 loops each)\n"
     ]
    }
   ],
   "source": [
    "batch = Batch({\n",
    "    'obs': torch.randn(8, 4, 84, 84),\n",
    "    'action': torch.randint(0, 6, size=(8, 1,)),\n",
    "    'reward': torch.rand(8, 1)}\n",
    ")\n",
    "\n",
    "%timeit list(Batch.split(batch, 1, shuffle=False, merge_last=True))"
   ]
  },
  {
   "cell_type": "code",
   "execution_count": null,
   "id": "2539fbd9",
   "metadata": {},
   "outputs": [],
   "source": []
  }
 ],
 "metadata": {
  "kernelspec": {
   "display_name": "Python 3 (ipykernel)",
   "language": "python",
   "name": "python3"
  },
  "language_info": {
   "codemirror_mode": {
    "name": "ipython",
    "version": 3
   },
   "file_extension": ".py",
   "mimetype": "text/x-python",
   "name": "python",
   "nbconvert_exporter": "python",
   "pygments_lexer": "ipython3",
   "version": "3.8.16"
  }
 },
 "nbformat": 4,
 "nbformat_minor": 5
}
