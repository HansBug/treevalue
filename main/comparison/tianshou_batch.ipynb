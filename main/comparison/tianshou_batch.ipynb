{
 "cells": [
  {
   "cell_type": "markdown",
   "id": "9d39d946",
   "metadata": {},
   "source": [
    "# Comparison Between TreeValue and Tianshou Batch"
   ]
  },
  {
   "cell_type": "markdown",
   "id": "3c6db2d4",
   "metadata": {},
   "source": [
    "In this section, we will take a look at the feature and performance of the [Tianshou Batch](https://github.com/thu-ml/tianshou) library, which is developed by Tsinghua Machine Learning Group."
   ]
  },
  {
   "cell_type": "markdown",
   "id": "069361b0",
   "metadata": {},
   "source": [
    "Before starting the comparison, let us define some thing."
   ]
  },
  {
   "cell_type": "code",
   "execution_count": 1,
   "id": "06fc8d26",
   "metadata": {
    "execution": {
     "iopub.execute_input": "2023-02-27T14:49:08.718759Z",
     "iopub.status.busy": "2023-02-27T14:49:08.718393Z",
     "iopub.status.idle": "2023-02-27T14:49:09.632048Z",
     "shell.execute_reply": "2023-02-27T14:49:09.631376Z"
    }
   },
   "outputs": [
    {
     "name": "stderr",
     "output_type": "stream",
     "text": [
      "/opt/hostedtoolcache/Python/3.8.16/x64/lib/python3.8/site-packages/tqdm/auto.py:22: TqdmWarning: IProgress not found. Please update jupyter and ipywidgets. See https://ipywidgets.readthedocs.io/en/stable/user_install.html\n",
      "  from .autonotebook import tqdm as notebook_tqdm\n"
     ]
    }
   ],
   "source": [
    "import torch \n",
    "\n",
    "_TREE_DATA_1 = {'a': 1, 'b': 2, 'x': {'c': 3, 'd': 4}}\n",
    "_TREE_DATA_2 = {\n",
    "    'a': torch.randn(2, 3), \n",
    "    'x': {\n",
    "        'c': torch.randn(3, 4)\n",
    "    },\n",
    "}\n",
    "_TREE_DATA_3 = {\n",
    "    'obs': torch.randn(4, 84, 84),\n",
    "    'action': torch.randint(0, 6, size=(1,)),\n",
    "    'reward': torch.rand(1),\n",
    "}"
   ]
  },
  {
   "cell_type": "markdown",
   "id": "83461b25",
   "metadata": {},
   "source": [
    "## Read and Write Operation"
   ]
  },
  {
   "cell_type": "markdown",
   "id": "067b3f73",
   "metadata": {},
   "source": [
    "Reading and writing are the two most common operations in the tree data structure based on the data model (TreeValue and Tianshou Batch both belong to this type), so this section will compare the reading and writing performance of these two libraries."
   ]
  },
  {
   "cell_type": "markdown",
   "id": "5d09a5b7",
   "metadata": {},
   "source": [
    "### TreeValue's Get and Set"
   ]
  },
  {
   "cell_type": "code",
   "execution_count": 2,
   "id": "9519c4bb",
   "metadata": {
    "execution": {
     "iopub.execute_input": "2023-02-27T14:49:09.635151Z",
     "iopub.status.busy": "2023-02-27T14:49:09.634669Z",
     "iopub.status.idle": "2023-02-27T14:49:09.912693Z",
     "shell.execute_reply": "2023-02-27T14:49:09.912009Z"
    }
   },
   "outputs": [],
   "source": [
    "from treevalue import FastTreeValue\n",
    "\n",
    "t = FastTreeValue(_TREE_DATA_2)"
   ]
  },
  {
   "cell_type": "code",
   "execution_count": 3,
   "id": "11c37677",
   "metadata": {
    "execution": {
     "iopub.execute_input": "2023-02-27T14:49:09.916006Z",
     "iopub.status.busy": "2023-02-27T14:49:09.915387Z",
     "iopub.status.idle": "2023-02-27T14:49:09.927716Z",
     "shell.execute_reply": "2023-02-27T14:49:09.927077Z"
    }
   },
   "outputs": [
    {
     "data": {
      "text/plain": [
       "<FastTreeValue 0x7fcac0a18850>\n",
       "├── 'a' --> tensor([[ 0.0834,  0.4345,  0.3227],\n",
       "│                   [-1.7807, -0.9803, -2.5430]])\n",
       "└── 'x' --> <FastTreeValue 0x7fcac0a18490>\n",
       "    └── 'c' --> tensor([[-0.8729, -0.7575,  1.5053,  0.2012],\n",
       "                        [ 0.6696,  1.5430, -0.7437, -0.5160],\n",
       "                        [-0.8160, -0.3840, -0.0750,  1.0428]])"
      ]
     },
     "execution_count": 3,
     "metadata": {},
     "output_type": "execute_result"
    }
   ],
   "source": [
    "t"
   ]
  },
  {
   "cell_type": "code",
   "execution_count": 4,
   "id": "fd70b0b9",
   "metadata": {
    "execution": {
     "iopub.execute_input": "2023-02-27T14:49:09.930426Z",
     "iopub.status.busy": "2023-02-27T14:49:09.929909Z",
     "iopub.status.idle": "2023-02-27T14:49:09.934406Z",
     "shell.execute_reply": "2023-02-27T14:49:09.933815Z"
    }
   },
   "outputs": [
    {
     "data": {
      "text/plain": [
       "tensor([[ 0.0834,  0.4345,  0.3227],\n",
       "        [-1.7807, -0.9803, -2.5430]])"
      ]
     },
     "execution_count": 4,
     "metadata": {},
     "output_type": "execute_result"
    }
   ],
   "source": [
    "t.a"
   ]
  },
  {
   "cell_type": "code",
   "execution_count": 5,
   "id": "c18197bd",
   "metadata": {
    "execution": {
     "iopub.execute_input": "2023-02-27T14:49:09.937013Z",
     "iopub.status.busy": "2023-02-27T14:49:09.936421Z",
     "iopub.status.idle": "2023-02-27T14:49:14.726578Z",
     "shell.execute_reply": "2023-02-27T14:49:14.725863Z"
    }
   },
   "outputs": [
    {
     "name": "stdout",
     "output_type": "stream",
     "text": [
      "59.1 ns ± 0.00924 ns per loop (mean ± std. dev. of 7 runs, 10,000,000 loops each)\n"
     ]
    }
   ],
   "source": [
    "%timeit t.a"
   ]
  },
  {
   "cell_type": "code",
   "execution_count": 6,
   "id": "bd52f867",
   "metadata": {
    "execution": {
     "iopub.execute_input": "2023-02-27T14:49:14.729814Z",
     "iopub.status.busy": "2023-02-27T14:49:14.729225Z",
     "iopub.status.idle": "2023-02-27T14:49:14.735243Z",
     "shell.execute_reply": "2023-02-27T14:49:14.734618Z"
    }
   },
   "outputs": [
    {
     "data": {
      "text/plain": [
       "<FastTreeValue 0x7fcac0a18850>\n",
       "├── 'a' --> tensor([[1.4466, 0.6280, 0.0753],\n",
       "│                   [1.3692, 0.5717, 0.4973]])\n",
       "└── 'x' --> <FastTreeValue 0x7fcac0a18490>\n",
       "    └── 'c' --> tensor([[-0.8729, -0.7575,  1.5053,  0.2012],\n",
       "                        [ 0.6696,  1.5430, -0.7437, -0.5160],\n",
       "                        [-0.8160, -0.3840, -0.0750,  1.0428]])"
      ]
     },
     "execution_count": 6,
     "metadata": {},
     "output_type": "execute_result"
    }
   ],
   "source": [
    "new_value = torch.randn(2, 3)\n",
    "t.a = new_value\n",
    "\n",
    "t"
   ]
  },
  {
   "cell_type": "code",
   "execution_count": 7,
   "id": "bbe04d1c",
   "metadata": {
    "execution": {
     "iopub.execute_input": "2023-02-27T14:49:14.737996Z",
     "iopub.status.busy": "2023-02-27T14:49:14.737362Z",
     "iopub.status.idle": "2023-02-27T14:49:19.565535Z",
     "shell.execute_reply": "2023-02-27T14:49:19.564797Z"
    }
   },
   "outputs": [
    {
     "name": "stdout",
     "output_type": "stream",
     "text": [
      "59.2 ns ± 0.0491 ns per loop (mean ± std. dev. of 7 runs, 10,000,000 loops each)\n"
     ]
    }
   ],
   "source": [
    "%timeit t.a = new_value"
   ]
  },
  {
   "cell_type": "markdown",
   "id": "48c49731",
   "metadata": {},
   "source": [
    "### Tianshou Batch's Get and Set"
   ]
  },
  {
   "cell_type": "code",
   "execution_count": 8,
   "id": "f1bb14c1",
   "metadata": {
    "execution": {
     "iopub.execute_input": "2023-02-27T14:49:19.568670Z",
     "iopub.status.busy": "2023-02-27T14:49:19.568300Z",
     "iopub.status.idle": "2023-02-27T14:49:19.911120Z",
     "shell.execute_reply": "2023-02-27T14:49:19.910420Z"
    }
   },
   "outputs": [],
   "source": [
    "from tianshou.data import Batch\n",
    "\n",
    "b = Batch(**_TREE_DATA_2)"
   ]
  },
  {
   "cell_type": "code",
   "execution_count": 9,
   "id": "cb0777c3",
   "metadata": {
    "execution": {
     "iopub.execute_input": "2023-02-27T14:49:19.915301Z",
     "iopub.status.busy": "2023-02-27T14:49:19.914119Z",
     "iopub.status.idle": "2023-02-27T14:49:19.921279Z",
     "shell.execute_reply": "2023-02-27T14:49:19.920702Z"
    }
   },
   "outputs": [
    {
     "data": {
      "text/plain": [
       "Batch(\n",
       "    a: tensor([[ 0.0834,  0.4345,  0.3227],\n",
       "               [-1.7807, -0.9803, -2.5430]]),\n",
       "    x: Batch(\n",
       "           c: tensor([[-0.8729, -0.7575,  1.5053,  0.2012],\n",
       "                      [ 0.6696,  1.5430, -0.7437, -0.5160],\n",
       "                      [-0.8160, -0.3840, -0.0750,  1.0428]]),\n",
       "       ),\n",
       ")"
      ]
     },
     "execution_count": 9,
     "metadata": {},
     "output_type": "execute_result"
    }
   ],
   "source": [
    "b"
   ]
  },
  {
   "cell_type": "code",
   "execution_count": 10,
   "id": "43ef8ea3",
   "metadata": {
    "execution": {
     "iopub.execute_input": "2023-02-27T14:49:19.924196Z",
     "iopub.status.busy": "2023-02-27T14:49:19.923722Z",
     "iopub.status.idle": "2023-02-27T14:49:19.928706Z",
     "shell.execute_reply": "2023-02-27T14:49:19.928207Z"
    }
   },
   "outputs": [
    {
     "data": {
      "text/plain": [
       "tensor([[ 0.0834,  0.4345,  0.3227],\n",
       "        [-1.7807, -0.9803, -2.5430]])"
      ]
     },
     "execution_count": 10,
     "metadata": {},
     "output_type": "execute_result"
    }
   ],
   "source": [
    "b.a"
   ]
  },
  {
   "cell_type": "code",
   "execution_count": 11,
   "id": "b785ab72",
   "metadata": {
    "execution": {
     "iopub.execute_input": "2023-02-27T14:49:19.932734Z",
     "iopub.status.busy": "2023-02-27T14:49:19.932319Z",
     "iopub.status.idle": "2023-02-27T14:49:24.100160Z",
     "shell.execute_reply": "2023-02-27T14:49:24.099447Z"
    }
   },
   "outputs": [
    {
     "name": "stdout",
     "output_type": "stream",
     "text": [
      "51.2 ns ± 0.0614 ns per loop (mean ± std. dev. of 7 runs, 10,000,000 loops each)\n"
     ]
    }
   ],
   "source": [
    "%timeit b.a"
   ]
  },
  {
   "cell_type": "code",
   "execution_count": 12,
   "id": "ad54dc69",
   "metadata": {
    "execution": {
     "iopub.execute_input": "2023-02-27T14:49:24.102940Z",
     "iopub.status.busy": "2023-02-27T14:49:24.102586Z",
     "iopub.status.idle": "2023-02-27T14:49:24.109033Z",
     "shell.execute_reply": "2023-02-27T14:49:24.108450Z"
    }
   },
   "outputs": [
    {
     "data": {
      "text/plain": [
       "Batch(\n",
       "    a: tensor([[-0.5890,  0.9104,  0.0503],\n",
       "               [ 1.1886, -0.0129, -0.9002]]),\n",
       "    x: Batch(\n",
       "           c: tensor([[-0.8729, -0.7575,  1.5053,  0.2012],\n",
       "                      [ 0.6696,  1.5430, -0.7437, -0.5160],\n",
       "                      [-0.8160, -0.3840, -0.0750,  1.0428]]),\n",
       "       ),\n",
       ")"
      ]
     },
     "execution_count": 12,
     "metadata": {},
     "output_type": "execute_result"
    }
   ],
   "source": [
    "new_value = torch.randn(2, 3)\n",
    "b.a = new_value\n",
    "\n",
    "b"
   ]
  },
  {
   "cell_type": "code",
   "execution_count": 13,
   "id": "29b1d0bf",
   "metadata": {
    "execution": {
     "iopub.execute_input": "2023-02-27T14:49:24.111663Z",
     "iopub.status.busy": "2023-02-27T14:49:24.111096Z",
     "iopub.status.idle": "2023-02-27T14:49:28.004417Z",
     "shell.execute_reply": "2023-02-27T14:49:28.003668Z"
    }
   },
   "outputs": [
    {
     "name": "stdout",
     "output_type": "stream",
     "text": [
      "480 ns ± 0.152 ns per loop (mean ± std. dev. of 7 runs, 1,000,000 loops each)\n"
     ]
    }
   ],
   "source": [
    "%timeit b.a = new_value"
   ]
  },
  {
   "cell_type": "markdown",
   "id": "b61ad1d0",
   "metadata": {},
   "source": [
    "## Initialization"
   ]
  },
  {
   "cell_type": "markdown",
   "id": "d70f0d54",
   "metadata": {},
   "source": [
    "### TreeValue's Initialization"
   ]
  },
  {
   "cell_type": "code",
   "execution_count": 14,
   "id": "d32a679b",
   "metadata": {
    "execution": {
     "iopub.execute_input": "2023-02-27T14:49:28.007620Z",
     "iopub.status.busy": "2023-02-27T14:49:28.007249Z",
     "iopub.status.idle": "2023-02-27T14:49:34.970357Z",
     "shell.execute_reply": "2023-02-27T14:49:34.969622Z"
    }
   },
   "outputs": [
    {
     "name": "stdout",
     "output_type": "stream",
     "text": [
      "861 ns ± 0.295 ns per loop (mean ± std. dev. of 7 runs, 1,000,000 loops each)\n"
     ]
    }
   ],
   "source": [
    "%timeit FastTreeValue(_TREE_DATA_1)"
   ]
  },
  {
   "cell_type": "markdown",
   "id": "24f3707b",
   "metadata": {},
   "source": [
    "### Tianshou Batch's Initialization"
   ]
  },
  {
   "cell_type": "code",
   "execution_count": 15,
   "id": "ac3958df",
   "metadata": {
    "execution": {
     "iopub.execute_input": "2023-02-27T14:49:34.973414Z",
     "iopub.status.busy": "2023-02-27T14:49:34.973052Z",
     "iopub.status.idle": "2023-02-27T14:49:44.280124Z",
     "shell.execute_reply": "2023-02-27T14:49:44.279398Z"
    }
   },
   "outputs": [
    {
     "name": "stdout",
     "output_type": "stream",
     "text": [
      "11.5 µs ± 24.1 ns per loop (mean ± std. dev. of 7 runs, 100,000 loops each)\n"
     ]
    }
   ],
   "source": [
    "%timeit Batch(**_TREE_DATA_1)"
   ]
  },
  {
   "cell_type": "markdown",
   "id": "1ab82e2d",
   "metadata": {},
   "source": [
    "## Deep Copy Operation"
   ]
  },
  {
   "cell_type": "code",
   "execution_count": 16,
   "id": "210a9442",
   "metadata": {
    "execution": {
     "iopub.execute_input": "2023-02-27T14:49:44.283166Z",
     "iopub.status.busy": "2023-02-27T14:49:44.282815Z",
     "iopub.status.idle": "2023-02-27T14:49:44.286752Z",
     "shell.execute_reply": "2023-02-27T14:49:44.286148Z"
    }
   },
   "outputs": [],
   "source": [
    "import copy"
   ]
  },
  {
   "cell_type": "markdown",
   "id": "5a736274",
   "metadata": {},
   "source": [
    "### Deep Copy of TreeValue"
   ]
  },
  {
   "cell_type": "code",
   "execution_count": 17,
   "id": "f9bcadd6",
   "metadata": {
    "execution": {
     "iopub.execute_input": "2023-02-27T14:49:44.289554Z",
     "iopub.status.busy": "2023-02-27T14:49:44.289072Z",
     "iopub.status.idle": "2023-02-27T14:49:55.153796Z",
     "shell.execute_reply": "2023-02-27T14:49:55.153249Z"
    }
   },
   "outputs": [
    {
     "name": "stdout",
     "output_type": "stream",
     "text": [
      "134 µs ± 267 ns per loop (mean ± std. dev. of 7 runs, 10,000 loops each)\n"
     ]
    }
   ],
   "source": [
    "t3 = FastTreeValue(_TREE_DATA_3)\n",
    "%timeit copy.deepcopy(t3)"
   ]
  },
  {
   "cell_type": "markdown",
   "id": "bf8be7ea",
   "metadata": {},
   "source": [
    "### Deep Copy of Tianshou Batch"
   ]
  },
  {
   "cell_type": "code",
   "execution_count": 18,
   "id": "91998e6f",
   "metadata": {
    "execution": {
     "iopub.execute_input": "2023-02-27T14:49:55.156734Z",
     "iopub.status.busy": "2023-02-27T14:49:55.156119Z",
     "iopub.status.idle": "2023-02-27T14:50:06.327135Z",
     "shell.execute_reply": "2023-02-27T14:50:06.326580Z"
    }
   },
   "outputs": [
    {
     "name": "stdout",
     "output_type": "stream",
     "text": [
      "138 µs ± 1.44 µs per loop (mean ± std. dev. of 7 runs, 10,000 loops each)\n"
     ]
    }
   ],
   "source": [
    "b3 = Batch(**_TREE_DATA_3)\n",
    "%timeit copy.deepcopy(b3)"
   ]
  },
  {
   "cell_type": "markdown",
   "id": "223162fb",
   "metadata": {},
   "source": [
    "## Stack, Concat and Split Operation"
   ]
  },
  {
   "cell_type": "markdown",
   "id": "85fa4a73",
   "metadata": {},
   "source": [
    "### Performance of TreeValue"
   ]
  },
  {
   "cell_type": "code",
   "execution_count": 19,
   "id": "a0c2b697",
   "metadata": {
    "execution": {
     "iopub.execute_input": "2023-02-27T14:50:06.329944Z",
     "iopub.status.busy": "2023-02-27T14:50:06.329576Z",
     "iopub.status.idle": "2023-02-27T14:50:06.332705Z",
     "shell.execute_reply": "2023-02-27T14:50:06.332177Z"
    }
   },
   "outputs": [],
   "source": [
    "trees = [FastTreeValue(_TREE_DATA_2) for _ in range(8)]"
   ]
  },
  {
   "cell_type": "code",
   "execution_count": 20,
   "id": "017ea5a5",
   "metadata": {
    "execution": {
     "iopub.execute_input": "2023-02-27T14:50:06.335307Z",
     "iopub.status.busy": "2023-02-27T14:50:06.334740Z",
     "iopub.status.idle": "2023-02-27T14:50:06.341600Z",
     "shell.execute_reply": "2023-02-27T14:50:06.341092Z"
    }
   },
   "outputs": [
    {
     "data": {
      "text/plain": [
       "<FastTreeValue 0x7fca0bcb71f0>\n",
       "├── 'a' --> tensor([[[ 0.0834,  0.4345,  0.3227],\n",
       "│                    [-1.7807, -0.9803, -2.5430]],\n",
       "│           \n",
       "│                   [[ 0.0834,  0.4345,  0.3227],\n",
       "│                    [-1.7807, -0.9803, -2.5430]],\n",
       "│           \n",
       "│                   [[ 0.0834,  0.4345,  0.3227],\n",
       "│                    [-1.7807, -0.9803, -2.5430]],\n",
       "│           \n",
       "│                   [[ 0.0834,  0.4345,  0.3227],\n",
       "│                    [-1.7807, -0.9803, -2.5430]],\n",
       "│           \n",
       "│                   [[ 0.0834,  0.4345,  0.3227],\n",
       "│                    [-1.7807, -0.9803, -2.5430]],\n",
       "│           \n",
       "│                   [[ 0.0834,  0.4345,  0.3227],\n",
       "│                    [-1.7807, -0.9803, -2.5430]],\n",
       "│           \n",
       "│                   [[ 0.0834,  0.4345,  0.3227],\n",
       "│                    [-1.7807, -0.9803, -2.5430]],\n",
       "│           \n",
       "│                   [[ 0.0834,  0.4345,  0.3227],\n",
       "│                    [-1.7807, -0.9803, -2.5430]]])\n",
       "└── 'x' --> <FastTreeValue 0x7fca0bcb7280>\n",
       "    └── 'c' --> tensor([[[-0.8729, -0.7575,  1.5053,  0.2012],\n",
       "                         [ 0.6696,  1.5430, -0.7437, -0.5160],\n",
       "                         [-0.8160, -0.3840, -0.0750,  1.0428]],\n",
       "                \n",
       "                        [[-0.8729, -0.7575,  1.5053,  0.2012],\n",
       "                         [ 0.6696,  1.5430, -0.7437, -0.5160],\n",
       "                         [-0.8160, -0.3840, -0.0750,  1.0428]],\n",
       "                \n",
       "                        [[-0.8729, -0.7575,  1.5053,  0.2012],\n",
       "                         [ 0.6696,  1.5430, -0.7437, -0.5160],\n",
       "                         [-0.8160, -0.3840, -0.0750,  1.0428]],\n",
       "                \n",
       "                        [[-0.8729, -0.7575,  1.5053,  0.2012],\n",
       "                         [ 0.6696,  1.5430, -0.7437, -0.5160],\n",
       "                         [-0.8160, -0.3840, -0.0750,  1.0428]],\n",
       "                \n",
       "                        [[-0.8729, -0.7575,  1.5053,  0.2012],\n",
       "                         [ 0.6696,  1.5430, -0.7437, -0.5160],\n",
       "                         [-0.8160, -0.3840, -0.0750,  1.0428]],\n",
       "                \n",
       "                        [[-0.8729, -0.7575,  1.5053,  0.2012],\n",
       "                         [ 0.6696,  1.5430, -0.7437, -0.5160],\n",
       "                         [-0.8160, -0.3840, -0.0750,  1.0428]],\n",
       "                \n",
       "                        [[-0.8729, -0.7575,  1.5053,  0.2012],\n",
       "                         [ 0.6696,  1.5430, -0.7437, -0.5160],\n",
       "                         [-0.8160, -0.3840, -0.0750,  1.0428]],\n",
       "                \n",
       "                        [[-0.8729, -0.7575,  1.5053,  0.2012],\n",
       "                         [ 0.6696,  1.5430, -0.7437, -0.5160],\n",
       "                         [-0.8160, -0.3840, -0.0750,  1.0428]]])"
      ]
     },
     "execution_count": 20,
     "metadata": {},
     "output_type": "execute_result"
    }
   ],
   "source": [
    "t_stack = FastTreeValue.func(subside=True)(torch.stack)\n",
    "\n",
    "t_stack(trees)"
   ]
  },
  {
   "cell_type": "code",
   "execution_count": 21,
   "id": "f8b3f415",
   "metadata": {
    "execution": {
     "iopub.execute_input": "2023-02-27T14:50:06.344024Z",
     "iopub.status.busy": "2023-02-27T14:50:06.343461Z",
     "iopub.status.idle": "2023-02-27T14:50:08.989012Z",
     "shell.execute_reply": "2023-02-27T14:50:08.988268Z"
    }
   },
   "outputs": [
    {
     "name": "stdout",
     "output_type": "stream",
     "text": [
      "32.6 µs ± 35.9 ns per loop (mean ± std. dev. of 7 runs, 10,000 loops each)\n"
     ]
    }
   ],
   "source": [
    "%timeit t_stack(trees)"
   ]
  },
  {
   "cell_type": "code",
   "execution_count": 22,
   "id": "94b56771",
   "metadata": {
    "execution": {
     "iopub.execute_input": "2023-02-27T14:50:08.992033Z",
     "iopub.status.busy": "2023-02-27T14:50:08.991676Z",
     "iopub.status.idle": "2023-02-27T14:50:08.999685Z",
     "shell.execute_reply": "2023-02-27T14:50:08.999090Z"
    }
   },
   "outputs": [
    {
     "data": {
      "text/plain": [
       "<FastTreeValue 0x7fca0bc9ec70>\n",
       "├── 'a' --> tensor([[ 0.0834,  0.4345,  0.3227],\n",
       "│                   [-1.7807, -0.9803, -2.5430],\n",
       "│                   [ 0.0834,  0.4345,  0.3227],\n",
       "│                   [-1.7807, -0.9803, -2.5430],\n",
       "│                   [ 0.0834,  0.4345,  0.3227],\n",
       "│                   [-1.7807, -0.9803, -2.5430],\n",
       "│                   [ 0.0834,  0.4345,  0.3227],\n",
       "│                   [-1.7807, -0.9803, -2.5430],\n",
       "│                   [ 0.0834,  0.4345,  0.3227],\n",
       "│                   [-1.7807, -0.9803, -2.5430],\n",
       "│                   [ 0.0834,  0.4345,  0.3227],\n",
       "│                   [-1.7807, -0.9803, -2.5430],\n",
       "│                   [ 0.0834,  0.4345,  0.3227],\n",
       "│                   [-1.7807, -0.9803, -2.5430],\n",
       "│                   [ 0.0834,  0.4345,  0.3227],\n",
       "│                   [-1.7807, -0.9803, -2.5430]])\n",
       "└── 'x' --> <FastTreeValue 0x7fca0bc9edc0>\n",
       "    └── 'c' --> tensor([[-0.8729, -0.7575,  1.5053,  0.2012],\n",
       "                        [ 0.6696,  1.5430, -0.7437, -0.5160],\n",
       "                        [-0.8160, -0.3840, -0.0750,  1.0428],\n",
       "                        [-0.8729, -0.7575,  1.5053,  0.2012],\n",
       "                        [ 0.6696,  1.5430, -0.7437, -0.5160],\n",
       "                        [-0.8160, -0.3840, -0.0750,  1.0428],\n",
       "                        [-0.8729, -0.7575,  1.5053,  0.2012],\n",
       "                        [ 0.6696,  1.5430, -0.7437, -0.5160],\n",
       "                        [-0.8160, -0.3840, -0.0750,  1.0428],\n",
       "                        [-0.8729, -0.7575,  1.5053,  0.2012],\n",
       "                        [ 0.6696,  1.5430, -0.7437, -0.5160],\n",
       "                        [-0.8160, -0.3840, -0.0750,  1.0428],\n",
       "                        [-0.8729, -0.7575,  1.5053,  0.2012],\n",
       "                        [ 0.6696,  1.5430, -0.7437, -0.5160],\n",
       "                        [-0.8160, -0.3840, -0.0750,  1.0428],\n",
       "                        [-0.8729, -0.7575,  1.5053,  0.2012],\n",
       "                        [ 0.6696,  1.5430, -0.7437, -0.5160],\n",
       "                        [-0.8160, -0.3840, -0.0750,  1.0428],\n",
       "                        [-0.8729, -0.7575,  1.5053,  0.2012],\n",
       "                        [ 0.6696,  1.5430, -0.7437, -0.5160],\n",
       "                        [-0.8160, -0.3840, -0.0750,  1.0428],\n",
       "                        [-0.8729, -0.7575,  1.5053,  0.2012],\n",
       "                        [ 0.6696,  1.5430, -0.7437, -0.5160],\n",
       "                        [-0.8160, -0.3840, -0.0750,  1.0428]])"
      ]
     },
     "execution_count": 22,
     "metadata": {},
     "output_type": "execute_result"
    }
   ],
   "source": [
    "t_cat = FastTreeValue.func(subside=True)(torch.cat)\n",
    "\n",
    "t_cat(trees)"
   ]
  },
  {
   "cell_type": "code",
   "execution_count": 23,
   "id": "5e9c06a6",
   "metadata": {
    "execution": {
     "iopub.execute_input": "2023-02-27T14:50:09.002277Z",
     "iopub.status.busy": "2023-02-27T14:50:09.001938Z",
     "iopub.status.idle": "2023-02-27T14:50:11.474103Z",
     "shell.execute_reply": "2023-02-27T14:50:11.473335Z"
    }
   },
   "outputs": [
    {
     "name": "stdout",
     "output_type": "stream",
     "text": [
      "30.4 µs ± 137 ns per loop (mean ± std. dev. of 7 runs, 10,000 loops each)\n"
     ]
    }
   ],
   "source": [
    "%timeit t_cat(trees)"
   ]
  },
  {
   "cell_type": "code",
   "execution_count": 24,
   "id": "a3ab5c8f",
   "metadata": {
    "execution": {
     "iopub.execute_input": "2023-02-27T14:50:11.477063Z",
     "iopub.status.busy": "2023-02-27T14:50:11.476505Z",
     "iopub.status.idle": "2023-02-27T14:50:17.006794Z",
     "shell.execute_reply": "2023-02-27T14:50:17.006067Z"
    }
   },
   "outputs": [
    {
     "name": "stdout",
     "output_type": "stream",
     "text": [
      "68.3 µs ± 205 ns per loop (mean ± std. dev. of 7 runs, 10,000 loops each)\n"
     ]
    }
   ],
   "source": [
    "t_split = FastTreeValue.func(rise=True)(torch.split)\n",
    "tree = FastTreeValue({\n",
    "    'obs': torch.randn(8, 4, 84, 84),\n",
    "    'action': torch.randint(0, 6, size=(8, 1,)),\n",
    "    'reward': torch.rand(8, 1),\n",
    "})\n",
    "\n",
    "%timeit t_split(tree, 1)"
   ]
  },
  {
   "cell_type": "markdown",
   "id": "31c3ec0b",
   "metadata": {},
   "source": [
    "### Performance of Tianshou Batch"
   ]
  },
  {
   "cell_type": "code",
   "execution_count": 25,
   "id": "9ead828a",
   "metadata": {
    "execution": {
     "iopub.execute_input": "2023-02-27T14:50:17.009820Z",
     "iopub.status.busy": "2023-02-27T14:50:17.009469Z",
     "iopub.status.idle": "2023-02-27T14:50:17.017448Z",
     "shell.execute_reply": "2023-02-27T14:50:17.016874Z"
    }
   },
   "outputs": [
    {
     "data": {
      "text/plain": [
       "Batch(\n",
       "    a: tensor([[[ 0.0834,  0.4345,  0.3227],\n",
       "                [-1.7807, -0.9803, -2.5430]],\n",
       "       \n",
       "               [[ 0.0834,  0.4345,  0.3227],\n",
       "                [-1.7807, -0.9803, -2.5430]],\n",
       "       \n",
       "               [[ 0.0834,  0.4345,  0.3227],\n",
       "                [-1.7807, -0.9803, -2.5430]],\n",
       "       \n",
       "               [[ 0.0834,  0.4345,  0.3227],\n",
       "                [-1.7807, -0.9803, -2.5430]],\n",
       "       \n",
       "               [[ 0.0834,  0.4345,  0.3227],\n",
       "                [-1.7807, -0.9803, -2.5430]],\n",
       "       \n",
       "               [[ 0.0834,  0.4345,  0.3227],\n",
       "                [-1.7807, -0.9803, -2.5430]],\n",
       "       \n",
       "               [[ 0.0834,  0.4345,  0.3227],\n",
       "                [-1.7807, -0.9803, -2.5430]],\n",
       "       \n",
       "               [[ 0.0834,  0.4345,  0.3227],\n",
       "                [-1.7807, -0.9803, -2.5430]]]),\n",
       "    x: Batch(\n",
       "           c: tensor([[[-0.8729, -0.7575,  1.5053,  0.2012],\n",
       "                       [ 0.6696,  1.5430, -0.7437, -0.5160],\n",
       "                       [-0.8160, -0.3840, -0.0750,  1.0428]],\n",
       "              \n",
       "                      [[-0.8729, -0.7575,  1.5053,  0.2012],\n",
       "                       [ 0.6696,  1.5430, -0.7437, -0.5160],\n",
       "                       [-0.8160, -0.3840, -0.0750,  1.0428]],\n",
       "              \n",
       "                      [[-0.8729, -0.7575,  1.5053,  0.2012],\n",
       "                       [ 0.6696,  1.5430, -0.7437, -0.5160],\n",
       "                       [-0.8160, -0.3840, -0.0750,  1.0428]],\n",
       "              \n",
       "                      [[-0.8729, -0.7575,  1.5053,  0.2012],\n",
       "                       [ 0.6696,  1.5430, -0.7437, -0.5160],\n",
       "                       [-0.8160, -0.3840, -0.0750,  1.0428]],\n",
       "              \n",
       "                      [[-0.8729, -0.7575,  1.5053,  0.2012],\n",
       "                       [ 0.6696,  1.5430, -0.7437, -0.5160],\n",
       "                       [-0.8160, -0.3840, -0.0750,  1.0428]],\n",
       "              \n",
       "                      [[-0.8729, -0.7575,  1.5053,  0.2012],\n",
       "                       [ 0.6696,  1.5430, -0.7437, -0.5160],\n",
       "                       [-0.8160, -0.3840, -0.0750,  1.0428]],\n",
       "              \n",
       "                      [[-0.8729, -0.7575,  1.5053,  0.2012],\n",
       "                       [ 0.6696,  1.5430, -0.7437, -0.5160],\n",
       "                       [-0.8160, -0.3840, -0.0750,  1.0428]],\n",
       "              \n",
       "                      [[-0.8729, -0.7575,  1.5053,  0.2012],\n",
       "                       [ 0.6696,  1.5430, -0.7437, -0.5160],\n",
       "                       [-0.8160, -0.3840, -0.0750,  1.0428]]]),\n",
       "       ),\n",
       ")"
      ]
     },
     "execution_count": 25,
     "metadata": {},
     "output_type": "execute_result"
    }
   ],
   "source": [
    "batches = [Batch(**_TREE_DATA_2) for _ in range(8)]\n",
    "\n",
    "Batch.stack(batches)"
   ]
  },
  {
   "cell_type": "code",
   "execution_count": 26,
   "id": "ec9037a3",
   "metadata": {
    "execution": {
     "iopub.execute_input": "2023-02-27T14:50:17.020233Z",
     "iopub.status.busy": "2023-02-27T14:50:17.019753Z",
     "iopub.status.idle": "2023-02-27T14:50:23.379164Z",
     "shell.execute_reply": "2023-02-27T14:50:23.378456Z"
    }
   },
   "outputs": [
    {
     "name": "stdout",
     "output_type": "stream",
     "text": [
      "78.3 µs ± 270 ns per loop (mean ± std. dev. of 7 runs, 10,000 loops each)\n"
     ]
    }
   ],
   "source": [
    "%timeit Batch.stack(batches)"
   ]
  },
  {
   "cell_type": "code",
   "execution_count": 27,
   "id": "cb8ab77e",
   "metadata": {
    "execution": {
     "iopub.execute_input": "2023-02-27T14:50:23.382315Z",
     "iopub.status.busy": "2023-02-27T14:50:23.381789Z",
     "iopub.status.idle": "2023-02-27T14:50:23.389194Z",
     "shell.execute_reply": "2023-02-27T14:50:23.388626Z"
    }
   },
   "outputs": [
    {
     "data": {
      "text/plain": [
       "Batch(\n",
       "    a: tensor([[ 0.0834,  0.4345,  0.3227],\n",
       "               [-1.7807, -0.9803, -2.5430],\n",
       "               [ 0.0834,  0.4345,  0.3227],\n",
       "               [-1.7807, -0.9803, -2.5430],\n",
       "               [ 0.0834,  0.4345,  0.3227],\n",
       "               [-1.7807, -0.9803, -2.5430],\n",
       "               [ 0.0834,  0.4345,  0.3227],\n",
       "               [-1.7807, -0.9803, -2.5430],\n",
       "               [ 0.0834,  0.4345,  0.3227],\n",
       "               [-1.7807, -0.9803, -2.5430],\n",
       "               [ 0.0834,  0.4345,  0.3227],\n",
       "               [-1.7807, -0.9803, -2.5430],\n",
       "               [ 0.0834,  0.4345,  0.3227],\n",
       "               [-1.7807, -0.9803, -2.5430],\n",
       "               [ 0.0834,  0.4345,  0.3227],\n",
       "               [-1.7807, -0.9803, -2.5430]]),\n",
       "    x: Batch(\n",
       "           c: tensor([[-0.8729, -0.7575,  1.5053,  0.2012],\n",
       "                      [ 0.6696,  1.5430, -0.7437, -0.5160],\n",
       "                      [-0.8160, -0.3840, -0.0750,  1.0428],\n",
       "                      [-0.8729, -0.7575,  1.5053,  0.2012],\n",
       "                      [ 0.6696,  1.5430, -0.7437, -0.5160],\n",
       "                      [-0.8160, -0.3840, -0.0750,  1.0428],\n",
       "                      [-0.8729, -0.7575,  1.5053,  0.2012],\n",
       "                      [ 0.6696,  1.5430, -0.7437, -0.5160],\n",
       "                      [-0.8160, -0.3840, -0.0750,  1.0428],\n",
       "                      [-0.8729, -0.7575,  1.5053,  0.2012],\n",
       "                      [ 0.6696,  1.5430, -0.7437, -0.5160],\n",
       "                      [-0.8160, -0.3840, -0.0750,  1.0428],\n",
       "                      [-0.8729, -0.7575,  1.5053,  0.2012],\n",
       "                      [ 0.6696,  1.5430, -0.7437, -0.5160],\n",
       "                      [-0.8160, -0.3840, -0.0750,  1.0428],\n",
       "                      [-0.8729, -0.7575,  1.5053,  0.2012],\n",
       "                      [ 0.6696,  1.5430, -0.7437, -0.5160],\n",
       "                      [-0.8160, -0.3840, -0.0750,  1.0428],\n",
       "                      [-0.8729, -0.7575,  1.5053,  0.2012],\n",
       "                      [ 0.6696,  1.5430, -0.7437, -0.5160],\n",
       "                      [-0.8160, -0.3840, -0.0750,  1.0428],\n",
       "                      [-0.8729, -0.7575,  1.5053,  0.2012],\n",
       "                      [ 0.6696,  1.5430, -0.7437, -0.5160],\n",
       "                      [-0.8160, -0.3840, -0.0750,  1.0428]]),\n",
       "       ),\n",
       ")"
      ]
     },
     "execution_count": 27,
     "metadata": {},
     "output_type": "execute_result"
    }
   ],
   "source": [
    "Batch.cat(batches)"
   ]
  },
  {
   "cell_type": "code",
   "execution_count": 28,
   "id": "18dfb045",
   "metadata": {
    "execution": {
     "iopub.execute_input": "2023-02-27T14:50:23.391815Z",
     "iopub.status.busy": "2023-02-27T14:50:23.391491Z",
     "iopub.status.idle": "2023-02-27T14:50:34.928320Z",
     "shell.execute_reply": "2023-02-27T14:50:34.927572Z"
    }
   },
   "outputs": [
    {
     "name": "stdout",
     "output_type": "stream",
     "text": [
      "142 µs ± 271 ns per loop (mean ± std. dev. of 7 runs, 10,000 loops each)\n"
     ]
    }
   ],
   "source": [
    "%timeit Batch.cat(batches)"
   ]
  },
  {
   "cell_type": "code",
   "execution_count": 29,
   "id": "c6688e51",
   "metadata": {
    "execution": {
     "iopub.execute_input": "2023-02-27T14:50:34.931253Z",
     "iopub.status.busy": "2023-02-27T14:50:34.930621Z",
     "iopub.status.idle": "2023-02-27T14:50:37.419868Z",
     "shell.execute_reply": "2023-02-27T14:50:37.419173Z"
    }
   },
   "outputs": [
    {
     "name": "stdout",
     "output_type": "stream",
     "text": [
      "306 µs ± 1.82 µs per loop (mean ± std. dev. of 7 runs, 1,000 loops each)\n"
     ]
    }
   ],
   "source": [
    "batch = Batch({\n",
    "    'obs': torch.randn(8, 4, 84, 84),\n",
    "    'action': torch.randint(0, 6, size=(8, 1,)),\n",
    "    'reward': torch.rand(8, 1)}\n",
    ")\n",
    "\n",
    "%timeit list(Batch.split(batch, 1, shuffle=False, merge_last=True))"
   ]
  },
  {
   "cell_type": "code",
   "execution_count": null,
   "id": "2539fbd9",
   "metadata": {},
   "outputs": [],
   "source": []
  }
 ],
 "metadata": {
  "kernelspec": {
   "display_name": "Python 3 (ipykernel)",
   "language": "python",
   "name": "python3"
  },
  "language_info": {
   "codemirror_mode": {
    "name": "ipython",
    "version": 3
   },
   "file_extension": ".py",
   "mimetype": "text/x-python",
   "name": "python",
   "nbconvert_exporter": "python",
   "pygments_lexer": "ipython3",
   "version": "3.8.16"
  }
 },
 "nbformat": 4,
 "nbformat_minor": 5
}
