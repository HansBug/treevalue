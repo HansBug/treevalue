{
 "cells": [
  {
   "cell_type": "markdown",
   "id": "9d39d946",
   "metadata": {},
   "source": [
    "# Comparison Between TreeValue and Tianshou Batch"
   ]
  },
  {
   "cell_type": "markdown",
   "id": "3c6db2d4",
   "metadata": {},
   "source": [
    "In this section, we will take a look at the feature and performance of the [Tianshou Batch](https://github.com/thu-ml/tianshou) library, which is developed by Tsinghua Machine Learning Group."
   ]
  },
  {
   "cell_type": "markdown",
   "id": "069361b0",
   "metadata": {},
   "source": [
    "Before starting the comparison, let us define some thing."
   ]
  },
  {
   "cell_type": "code",
   "execution_count": 1,
   "id": "06fc8d26",
   "metadata": {
    "execution": {
     "iopub.execute_input": "2023-02-12T18:42:13.103773Z",
     "iopub.status.busy": "2023-02-12T18:42:13.103565Z",
     "iopub.status.idle": "2023-02-12T18:42:14.009137Z",
     "shell.execute_reply": "2023-02-12T18:42:14.008485Z"
    }
   },
   "outputs": [
    {
     "name": "stderr",
     "output_type": "stream",
     "text": [
      "/opt/hostedtoolcache/Python/3.8.16/x64/lib/python3.8/site-packages/tqdm/auto.py:22: TqdmWarning: IProgress not found. Please update jupyter and ipywidgets. See https://ipywidgets.readthedocs.io/en/stable/user_install.html\n",
      "  from .autonotebook import tqdm as notebook_tqdm\n"
     ]
    }
   ],
   "source": [
    "import torch \n",
    "\n",
    "_TREE_DATA_1 = {'a': 1, 'b': 2, 'x': {'c': 3, 'd': 4}}\n",
    "_TREE_DATA_2 = {\n",
    "    'a': torch.randn(2, 3), \n",
    "    'x': {\n",
    "        'c': torch.randn(3, 4)\n",
    "    },\n",
    "}\n",
    "_TREE_DATA_3 = {\n",
    "    'obs': torch.randn(4, 84, 84),\n",
    "    'action': torch.randint(0, 6, size=(1,)),\n",
    "    'reward': torch.rand(1),\n",
    "}"
   ]
  },
  {
   "cell_type": "markdown",
   "id": "83461b25",
   "metadata": {},
   "source": [
    "## Read and Write Operation"
   ]
  },
  {
   "cell_type": "markdown",
   "id": "067b3f73",
   "metadata": {},
   "source": [
    "Reading and writing are the two most common operations in the tree data structure based on the data model (TreeValue and Tianshou Batch both belong to this type), so this section will compare the reading and writing performance of these two libraries."
   ]
  },
  {
   "cell_type": "markdown",
   "id": "5d09a5b7",
   "metadata": {},
   "source": [
    "### TreeValue's Get and Set"
   ]
  },
  {
   "cell_type": "code",
   "execution_count": 2,
   "id": "9519c4bb",
   "metadata": {
    "execution": {
     "iopub.execute_input": "2023-02-12T18:42:14.012242Z",
     "iopub.status.busy": "2023-02-12T18:42:14.011863Z",
     "iopub.status.idle": "2023-02-12T18:42:14.044362Z",
     "shell.execute_reply": "2023-02-12T18:42:14.043743Z"
    }
   },
   "outputs": [],
   "source": [
    "from treevalue import FastTreeValue\n",
    "\n",
    "t = FastTreeValue(_TREE_DATA_2)"
   ]
  },
  {
   "cell_type": "code",
   "execution_count": 3,
   "id": "11c37677",
   "metadata": {
    "execution": {
     "iopub.execute_input": "2023-02-12T18:42:14.046915Z",
     "iopub.status.busy": "2023-02-12T18:42:14.046689Z",
     "iopub.status.idle": "2023-02-12T18:42:14.055639Z",
     "shell.execute_reply": "2023-02-12T18:42:14.055078Z"
    }
   },
   "outputs": [
    {
     "data": {
      "text/plain": [
       "<FastTreeValue 0x7f7f607eeca0>\n",
       "├── 'a' --> tensor([[-0.5353,  1.4278,  1.2774],\n",
       "│                   [ 1.5311, -0.0027,  0.7318]])\n",
       "└── 'x' --> <FastTreeValue 0x7f7f607eec40>\n",
       "    └── 'c' --> tensor([[-0.1010,  0.4470, -1.4695,  0.5388],\n",
       "                        [ 0.5886, -0.8190,  0.3321, -0.2638],\n",
       "                        [-0.0428, -0.3900,  0.7487,  2.0655]])"
      ]
     },
     "execution_count": 3,
     "metadata": {},
     "output_type": "execute_result"
    }
   ],
   "source": [
    "t"
   ]
  },
  {
   "cell_type": "code",
   "execution_count": 4,
   "id": "fd70b0b9",
   "metadata": {
    "execution": {
     "iopub.execute_input": "2023-02-12T18:42:14.058069Z",
     "iopub.status.busy": "2023-02-12T18:42:14.057747Z",
     "iopub.status.idle": "2023-02-12T18:42:14.063208Z",
     "shell.execute_reply": "2023-02-12T18:42:14.062609Z"
    }
   },
   "outputs": [
    {
     "data": {
      "text/plain": [
       "tensor([[-0.5353,  1.4278,  1.2774],\n",
       "        [ 1.5311, -0.0027,  0.7318]])"
      ]
     },
     "execution_count": 4,
     "metadata": {},
     "output_type": "execute_result"
    }
   ],
   "source": [
    "t.a"
   ]
  },
  {
   "cell_type": "code",
   "execution_count": 5,
   "id": "c18197bd",
   "metadata": {
    "execution": {
     "iopub.execute_input": "2023-02-12T18:42:14.065959Z",
     "iopub.status.busy": "2023-02-12T18:42:14.065501Z",
     "iopub.status.idle": "2023-02-12T18:42:18.982293Z",
     "shell.execute_reply": "2023-02-12T18:42:18.981638Z"
    }
   },
   "outputs": [
    {
     "name": "stdout",
     "output_type": "stream",
     "text": [
      "60.3 ns ± 0.0553 ns per loop (mean ± std. dev. of 7 runs, 10,000,000 loops each)\n"
     ]
    }
   ],
   "source": [
    "%timeit t.a"
   ]
  },
  {
   "cell_type": "code",
   "execution_count": 6,
   "id": "bd52f867",
   "metadata": {
    "execution": {
     "iopub.execute_input": "2023-02-12T18:42:18.985376Z",
     "iopub.status.busy": "2023-02-12T18:42:18.984861Z",
     "iopub.status.idle": "2023-02-12T18:42:18.992100Z",
     "shell.execute_reply": "2023-02-12T18:42:18.991519Z"
    }
   },
   "outputs": [
    {
     "data": {
      "text/plain": [
       "<FastTreeValue 0x7f7f607eeca0>\n",
       "├── 'a' --> tensor([[-1.6235,  0.3010,  0.4985],\n",
       "│                   [ 0.7015,  1.5882,  1.0499]])\n",
       "└── 'x' --> <FastTreeValue 0x7f7f607eec40>\n",
       "    └── 'c' --> tensor([[-0.1010,  0.4470, -1.4695,  0.5388],\n",
       "                        [ 0.5886, -0.8190,  0.3321, -0.2638],\n",
       "                        [-0.0428, -0.3900,  0.7487,  2.0655]])"
      ]
     },
     "execution_count": 6,
     "metadata": {},
     "output_type": "execute_result"
    }
   ],
   "source": [
    "new_value = torch.randn(2, 3)\n",
    "t.a = new_value\n",
    "\n",
    "t"
   ]
  },
  {
   "cell_type": "code",
   "execution_count": 7,
   "id": "bbe04d1c",
   "metadata": {
    "execution": {
     "iopub.execute_input": "2023-02-12T18:42:18.994548Z",
     "iopub.status.busy": "2023-02-12T18:42:18.994232Z",
     "iopub.status.idle": "2023-02-12T18:42:24.490126Z",
     "shell.execute_reply": "2023-02-12T18:42:24.489392Z"
    }
   },
   "outputs": [
    {
     "name": "stdout",
     "output_type": "stream",
     "text": [
      "66.9 ns ± 0.024 ns per loop (mean ± std. dev. of 7 runs, 10,000,000 loops each)\n"
     ]
    }
   ],
   "source": [
    "%timeit t.a = new_value"
   ]
  },
  {
   "cell_type": "markdown",
   "id": "48c49731",
   "metadata": {},
   "source": [
    "### Tianshou Batch's Get and Set"
   ]
  },
  {
   "cell_type": "code",
   "execution_count": 8,
   "id": "f1bb14c1",
   "metadata": {
    "execution": {
     "iopub.execute_input": "2023-02-12T18:42:24.493033Z",
     "iopub.status.busy": "2023-02-12T18:42:24.492706Z",
     "iopub.status.idle": "2023-02-12T18:42:24.833267Z",
     "shell.execute_reply": "2023-02-12T18:42:24.832543Z"
    }
   },
   "outputs": [],
   "source": [
    "from tianshou.data import Batch\n",
    "\n",
    "b = Batch(**_TREE_DATA_2)"
   ]
  },
  {
   "cell_type": "code",
   "execution_count": 9,
   "id": "cb0777c3",
   "metadata": {
    "execution": {
     "iopub.execute_input": "2023-02-12T18:42:24.836348Z",
     "iopub.status.busy": "2023-02-12T18:42:24.835907Z",
     "iopub.status.idle": "2023-02-12T18:42:24.842092Z",
     "shell.execute_reply": "2023-02-12T18:42:24.841526Z"
    }
   },
   "outputs": [
    {
     "data": {
      "text/plain": [
       "Batch(\n",
       "    a: tensor([[-0.5353,  1.4278,  1.2774],\n",
       "               [ 1.5311, -0.0027,  0.7318]]),\n",
       "    x: Batch(\n",
       "           c: tensor([[-0.1010,  0.4470, -1.4695,  0.5388],\n",
       "                      [ 0.5886, -0.8190,  0.3321, -0.2638],\n",
       "                      [-0.0428, -0.3900,  0.7487,  2.0655]]),\n",
       "       ),\n",
       ")"
      ]
     },
     "execution_count": 9,
     "metadata": {},
     "output_type": "execute_result"
    }
   ],
   "source": [
    "b"
   ]
  },
  {
   "cell_type": "code",
   "execution_count": 10,
   "id": "43ef8ea3",
   "metadata": {
    "execution": {
     "iopub.execute_input": "2023-02-12T18:42:24.844921Z",
     "iopub.status.busy": "2023-02-12T18:42:24.844442Z",
     "iopub.status.idle": "2023-02-12T18:42:24.849806Z",
     "shell.execute_reply": "2023-02-12T18:42:24.849238Z"
    }
   },
   "outputs": [
    {
     "data": {
      "text/plain": [
       "tensor([[-0.5353,  1.4278,  1.2774],\n",
       "        [ 1.5311, -0.0027,  0.7318]])"
      ]
     },
     "execution_count": 10,
     "metadata": {},
     "output_type": "execute_result"
    }
   ],
   "source": [
    "b.a"
   ]
  },
  {
   "cell_type": "code",
   "execution_count": 11,
   "id": "b785ab72",
   "metadata": {
    "execution": {
     "iopub.execute_input": "2023-02-12T18:42:24.852534Z",
     "iopub.status.busy": "2023-02-12T18:42:24.852055Z",
     "iopub.status.idle": "2023-02-12T18:42:29.414842Z",
     "shell.execute_reply": "2023-02-12T18:42:29.414100Z"
    }
   },
   "outputs": [
    {
     "name": "stdout",
     "output_type": "stream",
     "text": [
      "56.1 ns ± 0.0273 ns per loop (mean ± std. dev. of 7 runs, 10,000,000 loops each)\n"
     ]
    }
   ],
   "source": [
    "%timeit b.a"
   ]
  },
  {
   "cell_type": "code",
   "execution_count": 12,
   "id": "ad54dc69",
   "metadata": {
    "execution": {
     "iopub.execute_input": "2023-02-12T18:42:29.417498Z",
     "iopub.status.busy": "2023-02-12T18:42:29.417153Z",
     "iopub.status.idle": "2023-02-12T18:42:29.423463Z",
     "shell.execute_reply": "2023-02-12T18:42:29.422893Z"
    }
   },
   "outputs": [
    {
     "data": {
      "text/plain": [
       "Batch(\n",
       "    a: tensor([[-0.0681, -0.3653, -0.4329],\n",
       "               [ 0.8683, -1.3407, -0.4207]]),\n",
       "    x: Batch(\n",
       "           c: tensor([[-0.1010,  0.4470, -1.4695,  0.5388],\n",
       "                      [ 0.5886, -0.8190,  0.3321, -0.2638],\n",
       "                      [-0.0428, -0.3900,  0.7487,  2.0655]]),\n",
       "       ),\n",
       ")"
      ]
     },
     "execution_count": 12,
     "metadata": {},
     "output_type": "execute_result"
    }
   ],
   "source": [
    "new_value = torch.randn(2, 3)\n",
    "b.a = new_value\n",
    "\n",
    "b"
   ]
  },
  {
   "cell_type": "code",
   "execution_count": 13,
   "id": "29b1d0bf",
   "metadata": {
    "execution": {
     "iopub.execute_input": "2023-02-12T18:42:29.426193Z",
     "iopub.status.busy": "2023-02-12T18:42:29.425727Z",
     "iopub.status.idle": "2023-02-12T18:42:33.378491Z",
     "shell.execute_reply": "2023-02-12T18:42:33.377788Z"
    }
   },
   "outputs": [
    {
     "name": "stdout",
     "output_type": "stream",
     "text": [
      "487 ns ± 0.122 ns per loop (mean ± std. dev. of 7 runs, 1,000,000 loops each)\n"
     ]
    }
   ],
   "source": [
    "%timeit b.a = new_value"
   ]
  },
  {
   "cell_type": "markdown",
   "id": "b61ad1d0",
   "metadata": {},
   "source": [
    "## Initialization"
   ]
  },
  {
   "cell_type": "markdown",
   "id": "d70f0d54",
   "metadata": {},
   "source": [
    "### TreeValue's Initialization"
   ]
  },
  {
   "cell_type": "code",
   "execution_count": 14,
   "id": "d32a679b",
   "metadata": {
    "execution": {
     "iopub.execute_input": "2023-02-12T18:42:33.381467Z",
     "iopub.status.busy": "2023-02-12T18:42:33.381128Z",
     "iopub.status.idle": "2023-02-12T18:42:40.153773Z",
     "shell.execute_reply": "2023-02-12T18:42:40.153124Z"
    }
   },
   "outputs": [
    {
     "name": "stdout",
     "output_type": "stream",
     "text": [
      "833 ns ± 3.14 ns per loop (mean ± std. dev. of 7 runs, 1,000,000 loops each)\n"
     ]
    }
   ],
   "source": [
    "%timeit FastTreeValue(_TREE_DATA_1)"
   ]
  },
  {
   "cell_type": "markdown",
   "id": "24f3707b",
   "metadata": {},
   "source": [
    "### Tianshou Batch's Initialization"
   ]
  },
  {
   "cell_type": "code",
   "execution_count": 15,
   "id": "ac3958df",
   "metadata": {
    "execution": {
     "iopub.execute_input": "2023-02-12T18:42:40.156872Z",
     "iopub.status.busy": "2023-02-12T18:42:40.156350Z",
     "iopub.status.idle": "2023-02-12T18:42:49.355360Z",
     "shell.execute_reply": "2023-02-12T18:42:49.354577Z"
    }
   },
   "outputs": [
    {
     "name": "stdout",
     "output_type": "stream",
     "text": [
      "11.3 µs ± 49.6 ns per loop (mean ± std. dev. of 7 runs, 100,000 loops each)\n"
     ]
    }
   ],
   "source": [
    "%timeit Batch(**_TREE_DATA_1)"
   ]
  },
  {
   "cell_type": "markdown",
   "id": "1ab82e2d",
   "metadata": {},
   "source": [
    "## Deep Copy Operation"
   ]
  },
  {
   "cell_type": "code",
   "execution_count": 16,
   "id": "210a9442",
   "metadata": {
    "execution": {
     "iopub.execute_input": "2023-02-12T18:42:49.358070Z",
     "iopub.status.busy": "2023-02-12T18:42:49.357738Z",
     "iopub.status.idle": "2023-02-12T18:42:49.361513Z",
     "shell.execute_reply": "2023-02-12T18:42:49.360928Z"
    }
   },
   "outputs": [],
   "source": [
    "import copy"
   ]
  },
  {
   "cell_type": "markdown",
   "id": "5a736274",
   "metadata": {},
   "source": [
    "### Deep Copy of TreeValue"
   ]
  },
  {
   "cell_type": "code",
   "execution_count": 17,
   "id": "f9bcadd6",
   "metadata": {
    "execution": {
     "iopub.execute_input": "2023-02-12T18:42:49.363997Z",
     "iopub.status.busy": "2023-02-12T18:42:49.363524Z",
     "iopub.status.idle": "2023-02-12T18:43:00.676176Z",
     "shell.execute_reply": "2023-02-12T18:43:00.675596Z"
    }
   },
   "outputs": [
    {
     "name": "stdout",
     "output_type": "stream",
     "text": [
      "139 µs ± 758 ns per loop (mean ± std. dev. of 7 runs, 10,000 loops each)\n"
     ]
    }
   ],
   "source": [
    "t3 = FastTreeValue(_TREE_DATA_3)\n",
    "%timeit copy.deepcopy(t3)"
   ]
  },
  {
   "cell_type": "markdown",
   "id": "bf8be7ea",
   "metadata": {},
   "source": [
    "### Deep Copy of Tianshou Batch"
   ]
  },
  {
   "cell_type": "code",
   "execution_count": 18,
   "id": "91998e6f",
   "metadata": {
    "execution": {
     "iopub.execute_input": "2023-02-12T18:43:00.679928Z",
     "iopub.status.busy": "2023-02-12T18:43:00.678829Z",
     "iopub.status.idle": "2023-02-12T18:43:12.106386Z",
     "shell.execute_reply": "2023-02-12T18:43:12.105807Z"
    }
   },
   "outputs": [
    {
     "name": "stdout",
     "output_type": "stream",
     "text": [
      "141 µs ± 367 ns per loop (mean ± std. dev. of 7 runs, 10,000 loops each)\n"
     ]
    }
   ],
   "source": [
    "b3 = Batch(**_TREE_DATA_3)\n",
    "%timeit copy.deepcopy(b3)"
   ]
  },
  {
   "cell_type": "markdown",
   "id": "223162fb",
   "metadata": {},
   "source": [
    "## Stack, Concat and Split Operation"
   ]
  },
  {
   "cell_type": "markdown",
   "id": "85fa4a73",
   "metadata": {},
   "source": [
    "### Performance of TreeValue"
   ]
  },
  {
   "cell_type": "code",
   "execution_count": 19,
   "id": "a0c2b697",
   "metadata": {
    "execution": {
     "iopub.execute_input": "2023-02-12T18:43:12.109566Z",
     "iopub.status.busy": "2023-02-12T18:43:12.109092Z",
     "iopub.status.idle": "2023-02-12T18:43:12.113183Z",
     "shell.execute_reply": "2023-02-12T18:43:12.112610Z"
    }
   },
   "outputs": [],
   "source": [
    "trees = [FastTreeValue(_TREE_DATA_2) for _ in range(8)]"
   ]
  },
  {
   "cell_type": "code",
   "execution_count": 20,
   "id": "017ea5a5",
   "metadata": {
    "execution": {
     "iopub.execute_input": "2023-02-12T18:43:12.115915Z",
     "iopub.status.busy": "2023-02-12T18:43:12.115480Z",
     "iopub.status.idle": "2023-02-12T18:43:12.123845Z",
     "shell.execute_reply": "2023-02-12T18:43:12.123279Z"
    }
   },
   "outputs": [
    {
     "data": {
      "text/plain": [
       "<FastTreeValue 0x7f7f607e7a60>\n",
       "├── 'a' --> tensor([[[-0.5353,  1.4278,  1.2774],\n",
       "│                    [ 1.5311, -0.0027,  0.7318]],\n",
       "│           \n",
       "│                   [[-0.5353,  1.4278,  1.2774],\n",
       "│                    [ 1.5311, -0.0027,  0.7318]],\n",
       "│           \n",
       "│                   [[-0.5353,  1.4278,  1.2774],\n",
       "│                    [ 1.5311, -0.0027,  0.7318]],\n",
       "│           \n",
       "│                   [[-0.5353,  1.4278,  1.2774],\n",
       "│                    [ 1.5311, -0.0027,  0.7318]],\n",
       "│           \n",
       "│                   [[-0.5353,  1.4278,  1.2774],\n",
       "│                    [ 1.5311, -0.0027,  0.7318]],\n",
       "│           \n",
       "│                   [[-0.5353,  1.4278,  1.2774],\n",
       "│                    [ 1.5311, -0.0027,  0.7318]],\n",
       "│           \n",
       "│                   [[-0.5353,  1.4278,  1.2774],\n",
       "│                    [ 1.5311, -0.0027,  0.7318]],\n",
       "│           \n",
       "│                   [[-0.5353,  1.4278,  1.2774],\n",
       "│                    [ 1.5311, -0.0027,  0.7318]]])\n",
       "└── 'x' --> <FastTreeValue 0x7f7eb4a8ebe0>\n",
       "    └── 'c' --> tensor([[[-0.1010,  0.4470, -1.4695,  0.5388],\n",
       "                         [ 0.5886, -0.8190,  0.3321, -0.2638],\n",
       "                         [-0.0428, -0.3900,  0.7487,  2.0655]],\n",
       "                \n",
       "                        [[-0.1010,  0.4470, -1.4695,  0.5388],\n",
       "                         [ 0.5886, -0.8190,  0.3321, -0.2638],\n",
       "                         [-0.0428, -0.3900,  0.7487,  2.0655]],\n",
       "                \n",
       "                        [[-0.1010,  0.4470, -1.4695,  0.5388],\n",
       "                         [ 0.5886, -0.8190,  0.3321, -0.2638],\n",
       "                         [-0.0428, -0.3900,  0.7487,  2.0655]],\n",
       "                \n",
       "                        [[-0.1010,  0.4470, -1.4695,  0.5388],\n",
       "                         [ 0.5886, -0.8190,  0.3321, -0.2638],\n",
       "                         [-0.0428, -0.3900,  0.7487,  2.0655]],\n",
       "                \n",
       "                        [[-0.1010,  0.4470, -1.4695,  0.5388],\n",
       "                         [ 0.5886, -0.8190,  0.3321, -0.2638],\n",
       "                         [-0.0428, -0.3900,  0.7487,  2.0655]],\n",
       "                \n",
       "                        [[-0.1010,  0.4470, -1.4695,  0.5388],\n",
       "                         [ 0.5886, -0.8190,  0.3321, -0.2638],\n",
       "                         [-0.0428, -0.3900,  0.7487,  2.0655]],\n",
       "                \n",
       "                        [[-0.1010,  0.4470, -1.4695,  0.5388],\n",
       "                         [ 0.5886, -0.8190,  0.3321, -0.2638],\n",
       "                         [-0.0428, -0.3900,  0.7487,  2.0655]],\n",
       "                \n",
       "                        [[-0.1010,  0.4470, -1.4695,  0.5388],\n",
       "                         [ 0.5886, -0.8190,  0.3321, -0.2638],\n",
       "                         [-0.0428, -0.3900,  0.7487,  2.0655]]])"
      ]
     },
     "execution_count": 20,
     "metadata": {},
     "output_type": "execute_result"
    }
   ],
   "source": [
    "t_stack = FastTreeValue.func(subside=True)(torch.stack)\n",
    "\n",
    "t_stack(trees)"
   ]
  },
  {
   "cell_type": "code",
   "execution_count": 21,
   "id": "f8b3f415",
   "metadata": {
    "execution": {
     "iopub.execute_input": "2023-02-12T18:43:12.126473Z",
     "iopub.status.busy": "2023-02-12T18:43:12.126034Z",
     "iopub.status.idle": "2023-02-12T18:43:14.760212Z",
     "shell.execute_reply": "2023-02-12T18:43:14.759584Z"
    }
   },
   "outputs": [
    {
     "name": "stdout",
     "output_type": "stream",
     "text": [
      "32.4 µs ± 81.5 ns per loop (mean ± std. dev. of 7 runs, 10,000 loops each)\n"
     ]
    }
   ],
   "source": [
    "%timeit t_stack(trees)"
   ]
  },
  {
   "cell_type": "code",
   "execution_count": 22,
   "id": "94b56771",
   "metadata": {
    "execution": {
     "iopub.execute_input": "2023-02-12T18:43:14.762798Z",
     "iopub.status.busy": "2023-02-12T18:43:14.762559Z",
     "iopub.status.idle": "2023-02-12T18:43:14.770256Z",
     "shell.execute_reply": "2023-02-12T18:43:14.769698Z"
    }
   },
   "outputs": [
    {
     "data": {
      "text/plain": [
       "<FastTreeValue 0x7f7ebb0c4910>\n",
       "├── 'a' --> tensor([[-0.5353,  1.4278,  1.2774],\n",
       "│                   [ 1.5311, -0.0027,  0.7318],\n",
       "│                   [-0.5353,  1.4278,  1.2774],\n",
       "│                   [ 1.5311, -0.0027,  0.7318],\n",
       "│                   [-0.5353,  1.4278,  1.2774],\n",
       "│                   [ 1.5311, -0.0027,  0.7318],\n",
       "│                   [-0.5353,  1.4278,  1.2774],\n",
       "│                   [ 1.5311, -0.0027,  0.7318],\n",
       "│                   [-0.5353,  1.4278,  1.2774],\n",
       "│                   [ 1.5311, -0.0027,  0.7318],\n",
       "│                   [-0.5353,  1.4278,  1.2774],\n",
       "│                   [ 1.5311, -0.0027,  0.7318],\n",
       "│                   [-0.5353,  1.4278,  1.2774],\n",
       "│                   [ 1.5311, -0.0027,  0.7318],\n",
       "│                   [-0.5353,  1.4278,  1.2774],\n",
       "│                   [ 1.5311, -0.0027,  0.7318]])\n",
       "└── 'x' --> <FastTreeValue 0x7f7ebb0c4760>\n",
       "    └── 'c' --> tensor([[-0.1010,  0.4470, -1.4695,  0.5388],\n",
       "                        [ 0.5886, -0.8190,  0.3321, -0.2638],\n",
       "                        [-0.0428, -0.3900,  0.7487,  2.0655],\n",
       "                        [-0.1010,  0.4470, -1.4695,  0.5388],\n",
       "                        [ 0.5886, -0.8190,  0.3321, -0.2638],\n",
       "                        [-0.0428, -0.3900,  0.7487,  2.0655],\n",
       "                        [-0.1010,  0.4470, -1.4695,  0.5388],\n",
       "                        [ 0.5886, -0.8190,  0.3321, -0.2638],\n",
       "                        [-0.0428, -0.3900,  0.7487,  2.0655],\n",
       "                        [-0.1010,  0.4470, -1.4695,  0.5388],\n",
       "                        [ 0.5886, -0.8190,  0.3321, -0.2638],\n",
       "                        [-0.0428, -0.3900,  0.7487,  2.0655],\n",
       "                        [-0.1010,  0.4470, -1.4695,  0.5388],\n",
       "                        [ 0.5886, -0.8190,  0.3321, -0.2638],\n",
       "                        [-0.0428, -0.3900,  0.7487,  2.0655],\n",
       "                        [-0.1010,  0.4470, -1.4695,  0.5388],\n",
       "                        [ 0.5886, -0.8190,  0.3321, -0.2638],\n",
       "                        [-0.0428, -0.3900,  0.7487,  2.0655],\n",
       "                        [-0.1010,  0.4470, -1.4695,  0.5388],\n",
       "                        [ 0.5886, -0.8190,  0.3321, -0.2638],\n",
       "                        [-0.0428, -0.3900,  0.7487,  2.0655],\n",
       "                        [-0.1010,  0.4470, -1.4695,  0.5388],\n",
       "                        [ 0.5886, -0.8190,  0.3321, -0.2638],\n",
       "                        [-0.0428, -0.3900,  0.7487,  2.0655]])"
      ]
     },
     "execution_count": 22,
     "metadata": {},
     "output_type": "execute_result"
    }
   ],
   "source": [
    "t_cat = FastTreeValue.func(subside=True)(torch.cat)\n",
    "\n",
    "t_cat(trees)"
   ]
  },
  {
   "cell_type": "code",
   "execution_count": 23,
   "id": "5e9c06a6",
   "metadata": {
    "execution": {
     "iopub.execute_input": "2023-02-12T18:43:14.772790Z",
     "iopub.status.busy": "2023-02-12T18:43:14.772469Z",
     "iopub.status.idle": "2023-02-12T18:43:17.242771Z",
     "shell.execute_reply": "2023-02-12T18:43:17.242024Z"
    }
   },
   "outputs": [
    {
     "name": "stdout",
     "output_type": "stream",
     "text": [
      "30.4 µs ± 40.1 ns per loop (mean ± std. dev. of 7 runs, 10,000 loops each)\n"
     ]
    }
   ],
   "source": [
    "%timeit t_cat(trees)"
   ]
  },
  {
   "cell_type": "code",
   "execution_count": 24,
   "id": "a3ab5c8f",
   "metadata": {
    "execution": {
     "iopub.execute_input": "2023-02-12T18:43:17.245469Z",
     "iopub.status.busy": "2023-02-12T18:43:17.245118Z",
     "iopub.status.idle": "2023-02-12T18:43:21.929963Z",
     "shell.execute_reply": "2023-02-12T18:43:21.929257Z"
    }
   },
   "outputs": [
    {
     "name": "stdout",
     "output_type": "stream",
     "text": [
      "57.7 µs ± 894 ns per loop (mean ± std. dev. of 7 runs, 10,000 loops each)\n"
     ]
    }
   ],
   "source": [
    "t_split = FastTreeValue.func(rise=True)(torch.split)\n",
    "tree = FastTreeValue({\n",
    "    'obs': torch.randn(8, 4, 84, 84),\n",
    "    'action': torch.randint(0, 6, size=(8, 1,)),\n",
    "    'reward': torch.rand(8, 1),\n",
    "})\n",
    "\n",
    "%timeit t_split(tree, 1)"
   ]
  },
  {
   "cell_type": "markdown",
   "id": "31c3ec0b",
   "metadata": {},
   "source": [
    "### Performance of Tianshou Batch"
   ]
  },
  {
   "cell_type": "code",
   "execution_count": 25,
   "id": "9ead828a",
   "metadata": {
    "execution": {
     "iopub.execute_input": "2023-02-12T18:43:21.932972Z",
     "iopub.status.busy": "2023-02-12T18:43:21.932442Z",
     "iopub.status.idle": "2023-02-12T18:43:21.940269Z",
     "shell.execute_reply": "2023-02-12T18:43:21.939677Z"
    }
   },
   "outputs": [
    {
     "data": {
      "text/plain": [
       "Batch(\n",
       "    a: tensor([[[-0.5353,  1.4278,  1.2774],\n",
       "                [ 1.5311, -0.0027,  0.7318]],\n",
       "       \n",
       "               [[-0.5353,  1.4278,  1.2774],\n",
       "                [ 1.5311, -0.0027,  0.7318]],\n",
       "       \n",
       "               [[-0.5353,  1.4278,  1.2774],\n",
       "                [ 1.5311, -0.0027,  0.7318]],\n",
       "       \n",
       "               [[-0.5353,  1.4278,  1.2774],\n",
       "                [ 1.5311, -0.0027,  0.7318]],\n",
       "       \n",
       "               [[-0.5353,  1.4278,  1.2774],\n",
       "                [ 1.5311, -0.0027,  0.7318]],\n",
       "       \n",
       "               [[-0.5353,  1.4278,  1.2774],\n",
       "                [ 1.5311, -0.0027,  0.7318]],\n",
       "       \n",
       "               [[-0.5353,  1.4278,  1.2774],\n",
       "                [ 1.5311, -0.0027,  0.7318]],\n",
       "       \n",
       "               [[-0.5353,  1.4278,  1.2774],\n",
       "                [ 1.5311, -0.0027,  0.7318]]]),\n",
       "    x: Batch(\n",
       "           c: tensor([[[-0.1010,  0.4470, -1.4695,  0.5388],\n",
       "                       [ 0.5886, -0.8190,  0.3321, -0.2638],\n",
       "                       [-0.0428, -0.3900,  0.7487,  2.0655]],\n",
       "              \n",
       "                      [[-0.1010,  0.4470, -1.4695,  0.5388],\n",
       "                       [ 0.5886, -0.8190,  0.3321, -0.2638],\n",
       "                       [-0.0428, -0.3900,  0.7487,  2.0655]],\n",
       "              \n",
       "                      [[-0.1010,  0.4470, -1.4695,  0.5388],\n",
       "                       [ 0.5886, -0.8190,  0.3321, -0.2638],\n",
       "                       [-0.0428, -0.3900,  0.7487,  2.0655]],\n",
       "              \n",
       "                      [[-0.1010,  0.4470, -1.4695,  0.5388],\n",
       "                       [ 0.5886, -0.8190,  0.3321, -0.2638],\n",
       "                       [-0.0428, -0.3900,  0.7487,  2.0655]],\n",
       "              \n",
       "                      [[-0.1010,  0.4470, -1.4695,  0.5388],\n",
       "                       [ 0.5886, -0.8190,  0.3321, -0.2638],\n",
       "                       [-0.0428, -0.3900,  0.7487,  2.0655]],\n",
       "              \n",
       "                      [[-0.1010,  0.4470, -1.4695,  0.5388],\n",
       "                       [ 0.5886, -0.8190,  0.3321, -0.2638],\n",
       "                       [-0.0428, -0.3900,  0.7487,  2.0655]],\n",
       "              \n",
       "                      [[-0.1010,  0.4470, -1.4695,  0.5388],\n",
       "                       [ 0.5886, -0.8190,  0.3321, -0.2638],\n",
       "                       [-0.0428, -0.3900,  0.7487,  2.0655]],\n",
       "              \n",
       "                      [[-0.1010,  0.4470, -1.4695,  0.5388],\n",
       "                       [ 0.5886, -0.8190,  0.3321, -0.2638],\n",
       "                       [-0.0428, -0.3900,  0.7487,  2.0655]]]),\n",
       "       ),\n",
       ")"
      ]
     },
     "execution_count": 25,
     "metadata": {},
     "output_type": "execute_result"
    }
   ],
   "source": [
    "batches = [Batch(**_TREE_DATA_2) for _ in range(8)]\n",
    "\n",
    "Batch.stack(batches)"
   ]
  },
  {
   "cell_type": "code",
   "execution_count": 26,
   "id": "ec9037a3",
   "metadata": {
    "execution": {
     "iopub.execute_input": "2023-02-12T18:43:21.942680Z",
     "iopub.status.busy": "2023-02-12T18:43:21.942452Z",
     "iopub.status.idle": "2023-02-12T18:43:28.316020Z",
     "shell.execute_reply": "2023-02-12T18:43:28.315311Z"
    }
   },
   "outputs": [
    {
     "name": "stdout",
     "output_type": "stream",
     "text": [
      "78.5 µs ± 372 ns per loop (mean ± std. dev. of 7 runs, 10,000 loops each)\n"
     ]
    }
   ],
   "source": [
    "%timeit Batch.stack(batches)"
   ]
  },
  {
   "cell_type": "code",
   "execution_count": 27,
   "id": "cb8ab77e",
   "metadata": {
    "execution": {
     "iopub.execute_input": "2023-02-12T18:43:28.318760Z",
     "iopub.status.busy": "2023-02-12T18:43:28.318241Z",
     "iopub.status.idle": "2023-02-12T18:43:28.325573Z",
     "shell.execute_reply": "2023-02-12T18:43:28.325006Z"
    }
   },
   "outputs": [
    {
     "data": {
      "text/plain": [
       "Batch(\n",
       "    a: tensor([[-0.5353,  1.4278,  1.2774],\n",
       "               [ 1.5311, -0.0027,  0.7318],\n",
       "               [-0.5353,  1.4278,  1.2774],\n",
       "               [ 1.5311, -0.0027,  0.7318],\n",
       "               [-0.5353,  1.4278,  1.2774],\n",
       "               [ 1.5311, -0.0027,  0.7318],\n",
       "               [-0.5353,  1.4278,  1.2774],\n",
       "               [ 1.5311, -0.0027,  0.7318],\n",
       "               [-0.5353,  1.4278,  1.2774],\n",
       "               [ 1.5311, -0.0027,  0.7318],\n",
       "               [-0.5353,  1.4278,  1.2774],\n",
       "               [ 1.5311, -0.0027,  0.7318],\n",
       "               [-0.5353,  1.4278,  1.2774],\n",
       "               [ 1.5311, -0.0027,  0.7318],\n",
       "               [-0.5353,  1.4278,  1.2774],\n",
       "               [ 1.5311, -0.0027,  0.7318]]),\n",
       "    x: Batch(\n",
       "           c: tensor([[-0.1010,  0.4470, -1.4695,  0.5388],\n",
       "                      [ 0.5886, -0.8190,  0.3321, -0.2638],\n",
       "                      [-0.0428, -0.3900,  0.7487,  2.0655],\n",
       "                      [-0.1010,  0.4470, -1.4695,  0.5388],\n",
       "                      [ 0.5886, -0.8190,  0.3321, -0.2638],\n",
       "                      [-0.0428, -0.3900,  0.7487,  2.0655],\n",
       "                      [-0.1010,  0.4470, -1.4695,  0.5388],\n",
       "                      [ 0.5886, -0.8190,  0.3321, -0.2638],\n",
       "                      [-0.0428, -0.3900,  0.7487,  2.0655],\n",
       "                      [-0.1010,  0.4470, -1.4695,  0.5388],\n",
       "                      [ 0.5886, -0.8190,  0.3321, -0.2638],\n",
       "                      [-0.0428, -0.3900,  0.7487,  2.0655],\n",
       "                      [-0.1010,  0.4470, -1.4695,  0.5388],\n",
       "                      [ 0.5886, -0.8190,  0.3321, -0.2638],\n",
       "                      [-0.0428, -0.3900,  0.7487,  2.0655],\n",
       "                      [-0.1010,  0.4470, -1.4695,  0.5388],\n",
       "                      [ 0.5886, -0.8190,  0.3321, -0.2638],\n",
       "                      [-0.0428, -0.3900,  0.7487,  2.0655],\n",
       "                      [-0.1010,  0.4470, -1.4695,  0.5388],\n",
       "                      [ 0.5886, -0.8190,  0.3321, -0.2638],\n",
       "                      [-0.0428, -0.3900,  0.7487,  2.0655],\n",
       "                      [-0.1010,  0.4470, -1.4695,  0.5388],\n",
       "                      [ 0.5886, -0.8190,  0.3321, -0.2638],\n",
       "                      [-0.0428, -0.3900,  0.7487,  2.0655]]),\n",
       "       ),\n",
       ")"
      ]
     },
     "execution_count": 27,
     "metadata": {},
     "output_type": "execute_result"
    }
   ],
   "source": [
    "Batch.cat(batches)"
   ]
  },
  {
   "cell_type": "code",
   "execution_count": 28,
   "id": "18dfb045",
   "metadata": {
    "execution": {
     "iopub.execute_input": "2023-02-12T18:43:28.327983Z",
     "iopub.status.busy": "2023-02-12T18:43:28.327643Z",
     "iopub.status.idle": "2023-02-12T18:43:39.961010Z",
     "shell.execute_reply": "2023-02-12T18:43:39.960364Z"
    }
   },
   "outputs": [
    {
     "name": "stdout",
     "output_type": "stream",
     "text": [
      "143 µs ± 287 ns per loop (mean ± std. dev. of 7 runs, 10,000 loops each)\n"
     ]
    }
   ],
   "source": [
    "%timeit Batch.cat(batches)"
   ]
  },
  {
   "cell_type": "code",
   "execution_count": 29,
   "id": "c6688e51",
   "metadata": {
    "execution": {
     "iopub.execute_input": "2023-02-12T18:43:39.963980Z",
     "iopub.status.busy": "2023-02-12T18:43:39.963635Z",
     "iopub.status.idle": "2023-02-12T18:43:42.441783Z",
     "shell.execute_reply": "2023-02-12T18:43:42.441210Z"
    }
   },
   "outputs": [
    {
     "name": "stdout",
     "output_type": "stream",
     "text": [
      "304 µs ± 1.51 µs per loop (mean ± std. dev. of 7 runs, 1,000 loops each)\n"
     ]
    }
   ],
   "source": [
    "batch = Batch({\n",
    "    'obs': torch.randn(8, 4, 84, 84),\n",
    "    'action': torch.randint(0, 6, size=(8, 1,)),\n",
    "    'reward': torch.rand(8, 1)}\n",
    ")\n",
    "\n",
    "%timeit list(Batch.split(batch, 1, shuffle=False, merge_last=True))"
   ]
  },
  {
   "cell_type": "code",
   "execution_count": null,
   "id": "2539fbd9",
   "metadata": {},
   "outputs": [],
   "source": []
  }
 ],
 "metadata": {
  "kernelspec": {
   "display_name": "Python 3 (ipykernel)",
   "language": "python",
   "name": "python3"
  },
  "language_info": {
   "codemirror_mode": {
    "name": "ipython",
    "version": 3
   },
   "file_extension": ".py",
   "mimetype": "text/x-python",
   "name": "python",
   "nbconvert_exporter": "python",
   "pygments_lexer": "ipython3",
   "version": "3.8.16"
  }
 },
 "nbformat": 4,
 "nbformat_minor": 5
}
