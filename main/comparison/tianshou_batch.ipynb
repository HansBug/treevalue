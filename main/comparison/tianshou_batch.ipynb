{
 "cells": [
  {
   "cell_type": "markdown",
   "id": "9d39d946",
   "metadata": {},
   "source": [
    "# Comparison Between TreeValue and Tianshou Batch"
   ]
  },
  {
   "cell_type": "markdown",
   "id": "3c6db2d4",
   "metadata": {},
   "source": [
    "In this section, we will take a look at the feature and performance of the [Tianshou Batch](https://github.com/thu-ml/tianshou) library, which is developed by Tsinghua Machine Learning Group."
   ]
  },
  {
   "cell_type": "markdown",
   "id": "069361b0",
   "metadata": {},
   "source": [
    "Before starting the comparison, let us define some thing."
   ]
  },
  {
   "cell_type": "code",
   "execution_count": 1,
   "id": "06fc8d26",
   "metadata": {
    "execution": {
     "iopub.execute_input": "2023-01-29T04:16:14.402785Z",
     "iopub.status.busy": "2023-01-29T04:16:14.402390Z",
     "iopub.status.idle": "2023-01-29T04:16:15.292813Z",
     "shell.execute_reply": "2023-01-29T04:16:15.291432Z"
    }
   },
   "outputs": [
    {
     "name": "stderr",
     "output_type": "stream",
     "text": [
      "/opt/hostedtoolcache/Python/3.8.16/x64/lib/python3.8/site-packages/tqdm/auto.py:22: TqdmWarning: IProgress not found. Please update jupyter and ipywidgets. See https://ipywidgets.readthedocs.io/en/stable/user_install.html\n",
      "  from .autonotebook import tqdm as notebook_tqdm\n"
     ]
    }
   ],
   "source": [
    "import torch \n",
    "\n",
    "_TREE_DATA_1 = {'a': 1, 'b': 2, 'x': {'c': 3, 'd': 4}}\n",
    "_TREE_DATA_2 = {\n",
    "    'a': torch.randn(2, 3), \n",
    "    'x': {\n",
    "        'c': torch.randn(3, 4)\n",
    "    },\n",
    "}\n",
    "_TREE_DATA_3 = {\n",
    "    'obs': torch.randn(4, 84, 84),\n",
    "    'action': torch.randint(0, 6, size=(1,)),\n",
    "    'reward': torch.rand(1),\n",
    "}"
   ]
  },
  {
   "cell_type": "markdown",
   "id": "83461b25",
   "metadata": {},
   "source": [
    "## Read and Write Operation"
   ]
  },
  {
   "cell_type": "markdown",
   "id": "067b3f73",
   "metadata": {},
   "source": [
    "Reading and writing are the two most common operations in the tree data structure based on the data model (TreeValue and Tianshou Batch both belong to this type), so this section will compare the reading and writing performance of these two libraries."
   ]
  },
  {
   "cell_type": "markdown",
   "id": "5d09a5b7",
   "metadata": {},
   "source": [
    "### TreeValue's Get and Set"
   ]
  },
  {
   "cell_type": "code",
   "execution_count": 2,
   "id": "9519c4bb",
   "metadata": {
    "execution": {
     "iopub.execute_input": "2023-01-29T04:16:15.296064Z",
     "iopub.status.busy": "2023-01-29T04:16:15.295487Z",
     "iopub.status.idle": "2023-01-29T04:16:15.327785Z",
     "shell.execute_reply": "2023-01-29T04:16:15.327196Z"
    }
   },
   "outputs": [],
   "source": [
    "from treevalue import FastTreeValue\n",
    "\n",
    "t = FastTreeValue(_TREE_DATA_2)"
   ]
  },
  {
   "cell_type": "code",
   "execution_count": 3,
   "id": "11c37677",
   "metadata": {
    "execution": {
     "iopub.execute_input": "2023-01-29T04:16:15.330356Z",
     "iopub.status.busy": "2023-01-29T04:16:15.330019Z",
     "iopub.status.idle": "2023-01-29T04:16:15.339198Z",
     "shell.execute_reply": "2023-01-29T04:16:15.338274Z"
    }
   },
   "outputs": [
    {
     "data": {
      "text/plain": [
       "<FastTreeValue 0x7f62583a04c0>\n",
       "├── 'a' --> tensor([[ 0.3255,  0.9593, -0.2690],\n",
       "│                   [-1.0058,  0.6567,  0.1336]])\n",
       "└── 'x' --> <FastTreeValue 0x7f62583a06a0>\n",
       "    └── 'c' --> tensor([[ 0.3571,  0.2290, -0.3192,  0.4842],\n",
       "                        [-0.1499, -0.1265,  0.7953, -1.0303],\n",
       "                        [-1.0464, -0.5841,  0.0530,  1.9354]])"
      ]
     },
     "execution_count": 3,
     "metadata": {},
     "output_type": "execute_result"
    }
   ],
   "source": [
    "t"
   ]
  },
  {
   "cell_type": "code",
   "execution_count": 4,
   "id": "fd70b0b9",
   "metadata": {
    "execution": {
     "iopub.execute_input": "2023-01-29T04:16:15.341581Z",
     "iopub.status.busy": "2023-01-29T04:16:15.341248Z",
     "iopub.status.idle": "2023-01-29T04:16:15.345840Z",
     "shell.execute_reply": "2023-01-29T04:16:15.345214Z"
    }
   },
   "outputs": [
    {
     "data": {
      "text/plain": [
       "tensor([[ 0.3255,  0.9593, -0.2690],\n",
       "        [-1.0058,  0.6567,  0.1336]])"
      ]
     },
     "execution_count": 4,
     "metadata": {},
     "output_type": "execute_result"
    }
   ],
   "source": [
    "t.a"
   ]
  },
  {
   "cell_type": "code",
   "execution_count": 5,
   "id": "c18197bd",
   "metadata": {
    "execution": {
     "iopub.execute_input": "2023-01-29T04:16:15.348462Z",
     "iopub.status.busy": "2023-01-29T04:16:15.347951Z",
     "iopub.status.idle": "2023-01-29T04:16:20.432908Z",
     "shell.execute_reply": "2023-01-29T04:16:20.432133Z"
    }
   },
   "outputs": [
    {
     "name": "stdout",
     "output_type": "stream",
     "text": [
      "62.4 ns ± 0.0507 ns per loop (mean ± std. dev. of 7 runs, 10,000,000 loops each)\n"
     ]
    }
   ],
   "source": [
    "%timeit t.a"
   ]
  },
  {
   "cell_type": "code",
   "execution_count": 6,
   "id": "bd52f867",
   "metadata": {
    "execution": {
     "iopub.execute_input": "2023-01-29T04:16:20.436083Z",
     "iopub.status.busy": "2023-01-29T04:16:20.435605Z",
     "iopub.status.idle": "2023-01-29T04:16:20.443951Z",
     "shell.execute_reply": "2023-01-29T04:16:20.442953Z"
    }
   },
   "outputs": [
    {
     "data": {
      "text/plain": [
       "<FastTreeValue 0x7f62583a04c0>\n",
       "├── 'a' --> tensor([[-0.0868,  0.8232, -0.8263],\n",
       "│                   [-0.2500,  0.2756,  1.4317]])\n",
       "└── 'x' --> <FastTreeValue 0x7f62583a06a0>\n",
       "    └── 'c' --> tensor([[ 0.3571,  0.2290, -0.3192,  0.4842],\n",
       "                        [-0.1499, -0.1265,  0.7953, -1.0303],\n",
       "                        [-1.0464, -0.5841,  0.0530,  1.9354]])"
      ]
     },
     "execution_count": 6,
     "metadata": {},
     "output_type": "execute_result"
    }
   ],
   "source": [
    "new_value = torch.randn(2, 3)\n",
    "t.a = new_value\n",
    "\n",
    "t"
   ]
  },
  {
   "cell_type": "code",
   "execution_count": 7,
   "id": "bbe04d1c",
   "metadata": {
    "execution": {
     "iopub.execute_input": "2023-01-29T04:16:20.446856Z",
     "iopub.status.busy": "2023-01-29T04:16:20.446393Z",
     "iopub.status.idle": "2023-01-29T04:16:26.192198Z",
     "shell.execute_reply": "2023-01-29T04:16:26.190896Z"
    }
   },
   "outputs": [
    {
     "name": "stdout",
     "output_type": "stream",
     "text": [
      "71 ns ± 0.029 ns per loop (mean ± std. dev. of 7 runs, 10,000,000 loops each)\n"
     ]
    }
   ],
   "source": [
    "%timeit t.a = new_value"
   ]
  },
  {
   "cell_type": "markdown",
   "id": "48c49731",
   "metadata": {},
   "source": [
    "### Tianshou Batch's Get and Set"
   ]
  },
  {
   "cell_type": "code",
   "execution_count": 8,
   "id": "f1bb14c1",
   "metadata": {
    "execution": {
     "iopub.execute_input": "2023-01-29T04:16:26.195405Z",
     "iopub.status.busy": "2023-01-29T04:16:26.194814Z",
     "iopub.status.idle": "2023-01-29T04:16:26.515109Z",
     "shell.execute_reply": "2023-01-29T04:16:26.514458Z"
    }
   },
   "outputs": [],
   "source": [
    "from tianshou.data import Batch\n",
    "\n",
    "b = Batch(**_TREE_DATA_2)"
   ]
  },
  {
   "cell_type": "code",
   "execution_count": 9,
   "id": "cb0777c3",
   "metadata": {
    "execution": {
     "iopub.execute_input": "2023-01-29T04:16:26.518510Z",
     "iopub.status.busy": "2023-01-29T04:16:26.517910Z",
     "iopub.status.idle": "2023-01-29T04:16:26.523917Z",
     "shell.execute_reply": "2023-01-29T04:16:26.523336Z"
    }
   },
   "outputs": [
    {
     "data": {
      "text/plain": [
       "Batch(\n",
       "    a: tensor([[ 0.3255,  0.9593, -0.2690],\n",
       "               [-1.0058,  0.6567,  0.1336]]),\n",
       "    x: Batch(\n",
       "           c: tensor([[ 0.3571,  0.2290, -0.3192,  0.4842],\n",
       "                      [-0.1499, -0.1265,  0.7953, -1.0303],\n",
       "                      [-1.0464, -0.5841,  0.0530,  1.9354]]),\n",
       "       ),\n",
       ")"
      ]
     },
     "execution_count": 9,
     "metadata": {},
     "output_type": "execute_result"
    }
   ],
   "source": [
    "b"
   ]
  },
  {
   "cell_type": "code",
   "execution_count": 10,
   "id": "43ef8ea3",
   "metadata": {
    "execution": {
     "iopub.execute_input": "2023-01-29T04:16:26.526431Z",
     "iopub.status.busy": "2023-01-29T04:16:26.526007Z",
     "iopub.status.idle": "2023-01-29T04:16:26.532102Z",
     "shell.execute_reply": "2023-01-29T04:16:26.530770Z"
    }
   },
   "outputs": [
    {
     "data": {
      "text/plain": [
       "tensor([[ 0.3255,  0.9593, -0.2690],\n",
       "        [-1.0058,  0.6567,  0.1336]])"
      ]
     },
     "execution_count": 10,
     "metadata": {},
     "output_type": "execute_result"
    }
   ],
   "source": [
    "b.a"
   ]
  },
  {
   "cell_type": "code",
   "execution_count": 11,
   "id": "b785ab72",
   "metadata": {
    "execution": {
     "iopub.execute_input": "2023-01-29T04:16:26.534428Z",
     "iopub.status.busy": "2023-01-29T04:16:26.534093Z",
     "iopub.status.idle": "2023-01-29T04:16:31.056126Z",
     "shell.execute_reply": "2023-01-29T04:16:31.055364Z"
    }
   },
   "outputs": [
    {
     "name": "stdout",
     "output_type": "stream",
     "text": [
      "55.7 ns ± 0.0715 ns per loop (mean ± std. dev. of 7 runs, 10,000,000 loops each)\n"
     ]
    }
   ],
   "source": [
    "%timeit b.a"
   ]
  },
  {
   "cell_type": "code",
   "execution_count": 12,
   "id": "ad54dc69",
   "metadata": {
    "execution": {
     "iopub.execute_input": "2023-01-29T04:16:31.058880Z",
     "iopub.status.busy": "2023-01-29T04:16:31.058512Z",
     "iopub.status.idle": "2023-01-29T04:16:31.064234Z",
     "shell.execute_reply": "2023-01-29T04:16:31.063613Z"
    }
   },
   "outputs": [
    {
     "data": {
      "text/plain": [
       "Batch(\n",
       "    a: tensor([[-0.7705,  0.8923,  0.1426],\n",
       "               [ 0.5218,  0.2810, -0.1168]]),\n",
       "    x: Batch(\n",
       "           c: tensor([[ 0.3571,  0.2290, -0.3192,  0.4842],\n",
       "                      [-0.1499, -0.1265,  0.7953, -1.0303],\n",
       "                      [-1.0464, -0.5841,  0.0530,  1.9354]]),\n",
       "       ),\n",
       ")"
      ]
     },
     "execution_count": 12,
     "metadata": {},
     "output_type": "execute_result"
    }
   ],
   "source": [
    "new_value = torch.randn(2, 3)\n",
    "b.a = new_value\n",
    "\n",
    "b"
   ]
  },
  {
   "cell_type": "code",
   "execution_count": 13,
   "id": "29b1d0bf",
   "metadata": {
    "execution": {
     "iopub.execute_input": "2023-01-29T04:16:31.066642Z",
     "iopub.status.busy": "2023-01-29T04:16:31.066308Z",
     "iopub.status.idle": "2023-01-29T04:16:35.063814Z",
     "shell.execute_reply": "2023-01-29T04:16:35.063060Z"
    }
   },
   "outputs": [
    {
     "name": "stdout",
     "output_type": "stream",
     "text": [
      "492 ns ± 0.111 ns per loop (mean ± std. dev. of 7 runs, 1,000,000 loops each)\n"
     ]
    }
   ],
   "source": [
    "%timeit b.a = new_value"
   ]
  },
  {
   "cell_type": "markdown",
   "id": "b61ad1d0",
   "metadata": {},
   "source": [
    "## Initialization"
   ]
  },
  {
   "cell_type": "markdown",
   "id": "d70f0d54",
   "metadata": {},
   "source": [
    "### TreeValue's Initialization"
   ]
  },
  {
   "cell_type": "code",
   "execution_count": 14,
   "id": "d32a679b",
   "metadata": {
    "execution": {
     "iopub.execute_input": "2023-01-29T04:16:35.067110Z",
     "iopub.status.busy": "2023-01-29T04:16:35.066551Z",
     "iopub.status.idle": "2023-01-29T04:16:42.154949Z",
     "shell.execute_reply": "2023-01-29T04:16:42.154182Z"
    }
   },
   "outputs": [
    {
     "name": "stdout",
     "output_type": "stream",
     "text": [
      "873 ns ± 0.163 ns per loop (mean ± std. dev. of 7 runs, 1,000,000 loops each)\n"
     ]
    }
   ],
   "source": [
    "%timeit FastTreeValue(_TREE_DATA_1)"
   ]
  },
  {
   "cell_type": "markdown",
   "id": "24f3707b",
   "metadata": {},
   "source": [
    "### Tianshou Batch's Initialization"
   ]
  },
  {
   "cell_type": "code",
   "execution_count": 15,
   "id": "ac3958df",
   "metadata": {
    "execution": {
     "iopub.execute_input": "2023-01-29T04:16:42.158021Z",
     "iopub.status.busy": "2023-01-29T04:16:42.157658Z",
     "iopub.status.idle": "2023-01-29T04:16:51.493391Z",
     "shell.execute_reply": "2023-01-29T04:16:51.492629Z"
    }
   },
   "outputs": [
    {
     "name": "stdout",
     "output_type": "stream",
     "text": [
      "11.5 µs ± 27.5 ns per loop (mean ± std. dev. of 7 runs, 100,000 loops each)\n"
     ]
    }
   ],
   "source": [
    "%timeit Batch(**_TREE_DATA_1)"
   ]
  },
  {
   "cell_type": "markdown",
   "id": "1ab82e2d",
   "metadata": {},
   "source": [
    "## Deep Copy Operation"
   ]
  },
  {
   "cell_type": "code",
   "execution_count": 16,
   "id": "210a9442",
   "metadata": {
    "execution": {
     "iopub.execute_input": "2023-01-29T04:16:51.496603Z",
     "iopub.status.busy": "2023-01-29T04:16:51.496084Z",
     "iopub.status.idle": "2023-01-29T04:16:51.500594Z",
     "shell.execute_reply": "2023-01-29T04:16:51.499450Z"
    }
   },
   "outputs": [],
   "source": [
    "import copy"
   ]
  },
  {
   "cell_type": "markdown",
   "id": "5a736274",
   "metadata": {},
   "source": [
    "### Deep Copy of TreeValue"
   ]
  },
  {
   "cell_type": "code",
   "execution_count": 17,
   "id": "f9bcadd6",
   "metadata": {
    "execution": {
     "iopub.execute_input": "2023-01-29T04:16:51.503388Z",
     "iopub.status.busy": "2023-01-29T04:16:51.502912Z",
     "iopub.status.idle": "2023-01-29T04:17:02.560024Z",
     "shell.execute_reply": "2023-01-29T04:17:02.559464Z"
    }
   },
   "outputs": [
    {
     "name": "stdout",
     "output_type": "stream",
     "text": [
      "136 µs ± 284 ns per loop (mean ± std. dev. of 7 runs, 10,000 loops each)\n"
     ]
    }
   ],
   "source": [
    "t3 = FastTreeValue(_TREE_DATA_3)\n",
    "%timeit copy.deepcopy(t3)"
   ]
  },
  {
   "cell_type": "markdown",
   "id": "bf8be7ea",
   "metadata": {},
   "source": [
    "### Deep Copy of Tianshou Batch"
   ]
  },
  {
   "cell_type": "code",
   "execution_count": 18,
   "id": "91998e6f",
   "metadata": {
    "execution": {
     "iopub.execute_input": "2023-01-29T04:17:02.563269Z",
     "iopub.status.busy": "2023-01-29T04:17:02.562571Z",
     "iopub.status.idle": "2023-01-29T04:17:13.677519Z",
     "shell.execute_reply": "2023-01-29T04:17:13.676932Z"
    }
   },
   "outputs": [
    {
     "name": "stdout",
     "output_type": "stream",
     "text": [
      "137 µs ± 303 ns per loop (mean ± std. dev. of 7 runs, 10,000 loops each)\n"
     ]
    }
   ],
   "source": [
    "b3 = Batch(**_TREE_DATA_3)\n",
    "%timeit copy.deepcopy(b3)"
   ]
  },
  {
   "cell_type": "markdown",
   "id": "223162fb",
   "metadata": {},
   "source": [
    "## Stack, Concat and Split Operation"
   ]
  },
  {
   "cell_type": "markdown",
   "id": "85fa4a73",
   "metadata": {},
   "source": [
    "### Performance of TreeValue"
   ]
  },
  {
   "cell_type": "code",
   "execution_count": 19,
   "id": "a0c2b697",
   "metadata": {
    "execution": {
     "iopub.execute_input": "2023-01-29T04:17:13.681543Z",
     "iopub.status.busy": "2023-01-29T04:17:13.680377Z",
     "iopub.status.idle": "2023-01-29T04:17:13.685206Z",
     "shell.execute_reply": "2023-01-29T04:17:13.684246Z"
    }
   },
   "outputs": [],
   "source": [
    "trees = [FastTreeValue(_TREE_DATA_2) for _ in range(8)]"
   ]
  },
  {
   "cell_type": "code",
   "execution_count": 20,
   "id": "017ea5a5",
   "metadata": {
    "execution": {
     "iopub.execute_input": "2023-01-29T04:17:13.688078Z",
     "iopub.status.busy": "2023-01-29T04:17:13.687598Z",
     "iopub.status.idle": "2023-01-29T04:17:13.696101Z",
     "shell.execute_reply": "2023-01-29T04:17:13.695538Z"
    }
   },
   "outputs": [
    {
     "data": {
      "text/plain": [
       "<FastTreeValue 0x7f61b3cf5460>\n",
       "├── 'a' --> tensor([[[ 0.3255,  0.9593, -0.2690],\n",
       "│                    [-1.0058,  0.6567,  0.1336]],\n",
       "│           \n",
       "│                   [[ 0.3255,  0.9593, -0.2690],\n",
       "│                    [-1.0058,  0.6567,  0.1336]],\n",
       "│           \n",
       "│                   [[ 0.3255,  0.9593, -0.2690],\n",
       "│                    [-1.0058,  0.6567,  0.1336]],\n",
       "│           \n",
       "│                   [[ 0.3255,  0.9593, -0.2690],\n",
       "│                    [-1.0058,  0.6567,  0.1336]],\n",
       "│           \n",
       "│                   [[ 0.3255,  0.9593, -0.2690],\n",
       "│                    [-1.0058,  0.6567,  0.1336]],\n",
       "│           \n",
       "│                   [[ 0.3255,  0.9593, -0.2690],\n",
       "│                    [-1.0058,  0.6567,  0.1336]],\n",
       "│           \n",
       "│                   [[ 0.3255,  0.9593, -0.2690],\n",
       "│                    [-1.0058,  0.6567,  0.1336]],\n",
       "│           \n",
       "│                   [[ 0.3255,  0.9593, -0.2690],\n",
       "│                    [-1.0058,  0.6567,  0.1336]]])\n",
       "└── 'x' --> <FastTreeValue 0x7f61b7cfc6d0>\n",
       "    └── 'c' --> tensor([[[ 0.3571,  0.2290, -0.3192,  0.4842],\n",
       "                         [-0.1499, -0.1265,  0.7953, -1.0303],\n",
       "                         [-1.0464, -0.5841,  0.0530,  1.9354]],\n",
       "                \n",
       "                        [[ 0.3571,  0.2290, -0.3192,  0.4842],\n",
       "                         [-0.1499, -0.1265,  0.7953, -1.0303],\n",
       "                         [-1.0464, -0.5841,  0.0530,  1.9354]],\n",
       "                \n",
       "                        [[ 0.3571,  0.2290, -0.3192,  0.4842],\n",
       "                         [-0.1499, -0.1265,  0.7953, -1.0303],\n",
       "                         [-1.0464, -0.5841,  0.0530,  1.9354]],\n",
       "                \n",
       "                        [[ 0.3571,  0.2290, -0.3192,  0.4842],\n",
       "                         [-0.1499, -0.1265,  0.7953, -1.0303],\n",
       "                         [-1.0464, -0.5841,  0.0530,  1.9354]],\n",
       "                \n",
       "                        [[ 0.3571,  0.2290, -0.3192,  0.4842],\n",
       "                         [-0.1499, -0.1265,  0.7953, -1.0303],\n",
       "                         [-1.0464, -0.5841,  0.0530,  1.9354]],\n",
       "                \n",
       "                        [[ 0.3571,  0.2290, -0.3192,  0.4842],\n",
       "                         [-0.1499, -0.1265,  0.7953, -1.0303],\n",
       "                         [-1.0464, -0.5841,  0.0530,  1.9354]],\n",
       "                \n",
       "                        [[ 0.3571,  0.2290, -0.3192,  0.4842],\n",
       "                         [-0.1499, -0.1265,  0.7953, -1.0303],\n",
       "                         [-1.0464, -0.5841,  0.0530,  1.9354]],\n",
       "                \n",
       "                        [[ 0.3571,  0.2290, -0.3192,  0.4842],\n",
       "                         [-0.1499, -0.1265,  0.7953, -1.0303],\n",
       "                         [-1.0464, -0.5841,  0.0530,  1.9354]]])"
      ]
     },
     "execution_count": 20,
     "metadata": {},
     "output_type": "execute_result"
    }
   ],
   "source": [
    "t_stack = FastTreeValue.func(subside=True)(torch.stack)\n",
    "\n",
    "t_stack(trees)"
   ]
  },
  {
   "cell_type": "code",
   "execution_count": 21,
   "id": "f8b3f415",
   "metadata": {
    "execution": {
     "iopub.execute_input": "2023-01-29T04:17:13.698801Z",
     "iopub.status.busy": "2023-01-29T04:17:13.698369Z",
     "iopub.status.idle": "2023-01-29T04:17:16.282099Z",
     "shell.execute_reply": "2023-01-29T04:17:16.281326Z"
    }
   },
   "outputs": [
    {
     "name": "stdout",
     "output_type": "stream",
     "text": [
      "31.8 µs ± 69.4 ns per loop (mean ± std. dev. of 7 runs, 10,000 loops each)\n"
     ]
    }
   ],
   "source": [
    "%timeit t_stack(trees)"
   ]
  },
  {
   "cell_type": "code",
   "execution_count": 22,
   "id": "94b56771",
   "metadata": {
    "execution": {
     "iopub.execute_input": "2023-01-29T04:17:16.285311Z",
     "iopub.status.busy": "2023-01-29T04:17:16.284736Z",
     "iopub.status.idle": "2023-01-29T04:17:16.294027Z",
     "shell.execute_reply": "2023-01-29T04:17:16.293013Z"
    }
   },
   "outputs": [
    {
     "data": {
      "text/plain": [
       "<FastTreeValue 0x7f61b3cdbac0>\n",
       "├── 'a' --> tensor([[ 0.3255,  0.9593, -0.2690],\n",
       "│                   [-1.0058,  0.6567,  0.1336],\n",
       "│                   [ 0.3255,  0.9593, -0.2690],\n",
       "│                   [-1.0058,  0.6567,  0.1336],\n",
       "│                   [ 0.3255,  0.9593, -0.2690],\n",
       "│                   [-1.0058,  0.6567,  0.1336],\n",
       "│                   [ 0.3255,  0.9593, -0.2690],\n",
       "│                   [-1.0058,  0.6567,  0.1336],\n",
       "│                   [ 0.3255,  0.9593, -0.2690],\n",
       "│                   [-1.0058,  0.6567,  0.1336],\n",
       "│                   [ 0.3255,  0.9593, -0.2690],\n",
       "│                   [-1.0058,  0.6567,  0.1336],\n",
       "│                   [ 0.3255,  0.9593, -0.2690],\n",
       "│                   [-1.0058,  0.6567,  0.1336],\n",
       "│                   [ 0.3255,  0.9593, -0.2690],\n",
       "│                   [-1.0058,  0.6567,  0.1336]])\n",
       "└── 'x' --> <FastTreeValue 0x7f61ad0c0f70>\n",
       "    └── 'c' --> tensor([[ 0.3571,  0.2290, -0.3192,  0.4842],\n",
       "                        [-0.1499, -0.1265,  0.7953, -1.0303],\n",
       "                        [-1.0464, -0.5841,  0.0530,  1.9354],\n",
       "                        [ 0.3571,  0.2290, -0.3192,  0.4842],\n",
       "                        [-0.1499, -0.1265,  0.7953, -1.0303],\n",
       "                        [-1.0464, -0.5841,  0.0530,  1.9354],\n",
       "                        [ 0.3571,  0.2290, -0.3192,  0.4842],\n",
       "                        [-0.1499, -0.1265,  0.7953, -1.0303],\n",
       "                        [-1.0464, -0.5841,  0.0530,  1.9354],\n",
       "                        [ 0.3571,  0.2290, -0.3192,  0.4842],\n",
       "                        [-0.1499, -0.1265,  0.7953, -1.0303],\n",
       "                        [-1.0464, -0.5841,  0.0530,  1.9354],\n",
       "                        [ 0.3571,  0.2290, -0.3192,  0.4842],\n",
       "                        [-0.1499, -0.1265,  0.7953, -1.0303],\n",
       "                        [-1.0464, -0.5841,  0.0530,  1.9354],\n",
       "                        [ 0.3571,  0.2290, -0.3192,  0.4842],\n",
       "                        [-0.1499, -0.1265,  0.7953, -1.0303],\n",
       "                        [-1.0464, -0.5841,  0.0530,  1.9354],\n",
       "                        [ 0.3571,  0.2290, -0.3192,  0.4842],\n",
       "                        [-0.1499, -0.1265,  0.7953, -1.0303],\n",
       "                        [-1.0464, -0.5841,  0.0530,  1.9354],\n",
       "                        [ 0.3571,  0.2290, -0.3192,  0.4842],\n",
       "                        [-0.1499, -0.1265,  0.7953, -1.0303],\n",
       "                        [-1.0464, -0.5841,  0.0530,  1.9354]])"
      ]
     },
     "execution_count": 22,
     "metadata": {},
     "output_type": "execute_result"
    }
   ],
   "source": [
    "t_cat = FastTreeValue.func(subside=True)(torch.cat)\n",
    "\n",
    "t_cat(trees)"
   ]
  },
  {
   "cell_type": "code",
   "execution_count": 23,
   "id": "5e9c06a6",
   "metadata": {
    "execution": {
     "iopub.execute_input": "2023-01-29T04:17:16.296891Z",
     "iopub.status.busy": "2023-01-29T04:17:16.296424Z",
     "iopub.status.idle": "2023-01-29T04:17:18.707057Z",
     "shell.execute_reply": "2023-01-29T04:17:18.706056Z"
    }
   },
   "outputs": [
    {
     "name": "stdout",
     "output_type": "stream",
     "text": [
      "29.6 µs ± 49.7 ns per loop (mean ± std. dev. of 7 runs, 10,000 loops each)\n"
     ]
    }
   ],
   "source": [
    "%timeit t_cat(trees)"
   ]
  },
  {
   "cell_type": "code",
   "execution_count": 24,
   "id": "a3ab5c8f",
   "metadata": {
    "execution": {
     "iopub.execute_input": "2023-01-29T04:17:18.710154Z",
     "iopub.status.busy": "2023-01-29T04:17:18.709655Z",
     "iopub.status.idle": "2023-01-29T04:17:23.637710Z",
     "shell.execute_reply": "2023-01-29T04:17:23.636958Z"
    }
   },
   "outputs": [
    {
     "name": "stdout",
     "output_type": "stream",
     "text": [
      "60.7 µs ± 547 ns per loop (mean ± std. dev. of 7 runs, 10,000 loops each)\n"
     ]
    }
   ],
   "source": [
    "t_split = FastTreeValue.func(rise=True)(torch.split)\n",
    "tree = FastTreeValue({\n",
    "    'obs': torch.randn(8, 4, 84, 84),\n",
    "    'action': torch.randint(0, 6, size=(8, 1,)),\n",
    "    'reward': torch.rand(8, 1),\n",
    "})\n",
    "\n",
    "%timeit t_split(tree, 1)"
   ]
  },
  {
   "cell_type": "markdown",
   "id": "31c3ec0b",
   "metadata": {},
   "source": [
    "### Performance of Tianshou Batch"
   ]
  },
  {
   "cell_type": "code",
   "execution_count": 25,
   "id": "9ead828a",
   "metadata": {
    "execution": {
     "iopub.execute_input": "2023-01-29T04:17:23.640477Z",
     "iopub.status.busy": "2023-01-29T04:17:23.640100Z",
     "iopub.status.idle": "2023-01-29T04:17:23.648138Z",
     "shell.execute_reply": "2023-01-29T04:17:23.647551Z"
    }
   },
   "outputs": [
    {
     "data": {
      "text/plain": [
       "Batch(\n",
       "    x: Batch(\n",
       "           c: tensor([[[ 0.3571,  0.2290, -0.3192,  0.4842],\n",
       "                       [-0.1499, -0.1265,  0.7953, -1.0303],\n",
       "                       [-1.0464, -0.5841,  0.0530,  1.9354]],\n",
       "              \n",
       "                      [[ 0.3571,  0.2290, -0.3192,  0.4842],\n",
       "                       [-0.1499, -0.1265,  0.7953, -1.0303],\n",
       "                       [-1.0464, -0.5841,  0.0530,  1.9354]],\n",
       "              \n",
       "                      [[ 0.3571,  0.2290, -0.3192,  0.4842],\n",
       "                       [-0.1499, -0.1265,  0.7953, -1.0303],\n",
       "                       [-1.0464, -0.5841,  0.0530,  1.9354]],\n",
       "              \n",
       "                      [[ 0.3571,  0.2290, -0.3192,  0.4842],\n",
       "                       [-0.1499, -0.1265,  0.7953, -1.0303],\n",
       "                       [-1.0464, -0.5841,  0.0530,  1.9354]],\n",
       "              \n",
       "                      [[ 0.3571,  0.2290, -0.3192,  0.4842],\n",
       "                       [-0.1499, -0.1265,  0.7953, -1.0303],\n",
       "                       [-1.0464, -0.5841,  0.0530,  1.9354]],\n",
       "              \n",
       "                      [[ 0.3571,  0.2290, -0.3192,  0.4842],\n",
       "                       [-0.1499, -0.1265,  0.7953, -1.0303],\n",
       "                       [-1.0464, -0.5841,  0.0530,  1.9354]],\n",
       "              \n",
       "                      [[ 0.3571,  0.2290, -0.3192,  0.4842],\n",
       "                       [-0.1499, -0.1265,  0.7953, -1.0303],\n",
       "                       [-1.0464, -0.5841,  0.0530,  1.9354]],\n",
       "              \n",
       "                      [[ 0.3571,  0.2290, -0.3192,  0.4842],\n",
       "                       [-0.1499, -0.1265,  0.7953, -1.0303],\n",
       "                       [-1.0464, -0.5841,  0.0530,  1.9354]]]),\n",
       "       ),\n",
       "    a: tensor([[[ 0.3255,  0.9593, -0.2690],\n",
       "                [-1.0058,  0.6567,  0.1336]],\n",
       "       \n",
       "               [[ 0.3255,  0.9593, -0.2690],\n",
       "                [-1.0058,  0.6567,  0.1336]],\n",
       "       \n",
       "               [[ 0.3255,  0.9593, -0.2690],\n",
       "                [-1.0058,  0.6567,  0.1336]],\n",
       "       \n",
       "               [[ 0.3255,  0.9593, -0.2690],\n",
       "                [-1.0058,  0.6567,  0.1336]],\n",
       "       \n",
       "               [[ 0.3255,  0.9593, -0.2690],\n",
       "                [-1.0058,  0.6567,  0.1336]],\n",
       "       \n",
       "               [[ 0.3255,  0.9593, -0.2690],\n",
       "                [-1.0058,  0.6567,  0.1336]],\n",
       "       \n",
       "               [[ 0.3255,  0.9593, -0.2690],\n",
       "                [-1.0058,  0.6567,  0.1336]],\n",
       "       \n",
       "               [[ 0.3255,  0.9593, -0.2690],\n",
       "                [-1.0058,  0.6567,  0.1336]]]),\n",
       ")"
      ]
     },
     "execution_count": 25,
     "metadata": {},
     "output_type": "execute_result"
    }
   ],
   "source": [
    "batches = [Batch(**_TREE_DATA_2) for _ in range(8)]\n",
    "\n",
    "Batch.stack(batches)"
   ]
  },
  {
   "cell_type": "code",
   "execution_count": 26,
   "id": "ec9037a3",
   "metadata": {
    "execution": {
     "iopub.execute_input": "2023-01-29T04:17:23.650375Z",
     "iopub.status.busy": "2023-01-29T04:17:23.650166Z",
     "iopub.status.idle": "2023-01-29T04:17:29.975622Z",
     "shell.execute_reply": "2023-01-29T04:17:29.974935Z"
    }
   },
   "outputs": [
    {
     "name": "stdout",
     "output_type": "stream",
     "text": [
      "77.9 µs ± 131 ns per loop (mean ± std. dev. of 7 runs, 10,000 loops each)\n"
     ]
    }
   ],
   "source": [
    "%timeit Batch.stack(batches)"
   ]
  },
  {
   "cell_type": "code",
   "execution_count": 27,
   "id": "cb8ab77e",
   "metadata": {
    "execution": {
     "iopub.execute_input": "2023-01-29T04:17:29.978426Z",
     "iopub.status.busy": "2023-01-29T04:17:29.977983Z",
     "iopub.status.idle": "2023-01-29T04:17:29.985681Z",
     "shell.execute_reply": "2023-01-29T04:17:29.984790Z"
    }
   },
   "outputs": [
    {
     "data": {
      "text/plain": [
       "Batch(\n",
       "    x: Batch(\n",
       "           c: tensor([[ 0.3571,  0.2290, -0.3192,  0.4842],\n",
       "                      [-0.1499, -0.1265,  0.7953, -1.0303],\n",
       "                      [-1.0464, -0.5841,  0.0530,  1.9354],\n",
       "                      [ 0.3571,  0.2290, -0.3192,  0.4842],\n",
       "                      [-0.1499, -0.1265,  0.7953, -1.0303],\n",
       "                      [-1.0464, -0.5841,  0.0530,  1.9354],\n",
       "                      [ 0.3571,  0.2290, -0.3192,  0.4842],\n",
       "                      [-0.1499, -0.1265,  0.7953, -1.0303],\n",
       "                      [-1.0464, -0.5841,  0.0530,  1.9354],\n",
       "                      [ 0.3571,  0.2290, -0.3192,  0.4842],\n",
       "                      [-0.1499, -0.1265,  0.7953, -1.0303],\n",
       "                      [-1.0464, -0.5841,  0.0530,  1.9354],\n",
       "                      [ 0.3571,  0.2290, -0.3192,  0.4842],\n",
       "                      [-0.1499, -0.1265,  0.7953, -1.0303],\n",
       "                      [-1.0464, -0.5841,  0.0530,  1.9354],\n",
       "                      [ 0.3571,  0.2290, -0.3192,  0.4842],\n",
       "                      [-0.1499, -0.1265,  0.7953, -1.0303],\n",
       "                      [-1.0464, -0.5841,  0.0530,  1.9354],\n",
       "                      [ 0.3571,  0.2290, -0.3192,  0.4842],\n",
       "                      [-0.1499, -0.1265,  0.7953, -1.0303],\n",
       "                      [-1.0464, -0.5841,  0.0530,  1.9354],\n",
       "                      [ 0.3571,  0.2290, -0.3192,  0.4842],\n",
       "                      [-0.1499, -0.1265,  0.7953, -1.0303],\n",
       "                      [-1.0464, -0.5841,  0.0530,  1.9354]]),\n",
       "       ),\n",
       "    a: tensor([[ 0.3255,  0.9593, -0.2690],\n",
       "               [-1.0058,  0.6567,  0.1336],\n",
       "               [ 0.3255,  0.9593, -0.2690],\n",
       "               [-1.0058,  0.6567,  0.1336],\n",
       "               [ 0.3255,  0.9593, -0.2690],\n",
       "               [-1.0058,  0.6567,  0.1336],\n",
       "               [ 0.3255,  0.9593, -0.2690],\n",
       "               [-1.0058,  0.6567,  0.1336],\n",
       "               [ 0.3255,  0.9593, -0.2690],\n",
       "               [-1.0058,  0.6567,  0.1336],\n",
       "               [ 0.3255,  0.9593, -0.2690],\n",
       "               [-1.0058,  0.6567,  0.1336],\n",
       "               [ 0.3255,  0.9593, -0.2690],\n",
       "               [-1.0058,  0.6567,  0.1336],\n",
       "               [ 0.3255,  0.9593, -0.2690],\n",
       "               [-1.0058,  0.6567,  0.1336]]),\n",
       ")"
      ]
     },
     "execution_count": 27,
     "metadata": {},
     "output_type": "execute_result"
    }
   ],
   "source": [
    "Batch.cat(batches)"
   ]
  },
  {
   "cell_type": "code",
   "execution_count": 28,
   "id": "18dfb045",
   "metadata": {
    "execution": {
     "iopub.execute_input": "2023-01-29T04:17:29.988471Z",
     "iopub.status.busy": "2023-01-29T04:17:29.987986Z",
     "iopub.status.idle": "2023-01-29T04:17:41.467021Z",
     "shell.execute_reply": "2023-01-29T04:17:41.466264Z"
    }
   },
   "outputs": [
    {
     "name": "stdout",
     "output_type": "stream",
     "text": [
      "141 µs ± 231 ns per loop (mean ± std. dev. of 7 runs, 10,000 loops each)\n"
     ]
    }
   ],
   "source": [
    "%timeit Batch.cat(batches)"
   ]
  },
  {
   "cell_type": "code",
   "execution_count": 29,
   "id": "c6688e51",
   "metadata": {
    "execution": {
     "iopub.execute_input": "2023-01-29T04:17:41.470014Z",
     "iopub.status.busy": "2023-01-29T04:17:41.469363Z",
     "iopub.status.idle": "2023-01-29T04:17:44.019053Z",
     "shell.execute_reply": "2023-01-29T04:17:44.018368Z"
    }
   },
   "outputs": [
    {
     "name": "stdout",
     "output_type": "stream",
     "text": [
      "313 µs ± 3.97 µs per loop (mean ± std. dev. of 7 runs, 1,000 loops each)\n"
     ]
    }
   ],
   "source": [
    "batch = Batch({\n",
    "    'obs': torch.randn(8, 4, 84, 84),\n",
    "    'action': torch.randint(0, 6, size=(8, 1,)),\n",
    "    'reward': torch.rand(8, 1)}\n",
    ")\n",
    "\n",
    "%timeit list(Batch.split(batch, 1, shuffle=False, merge_last=True))"
   ]
  },
  {
   "cell_type": "code",
   "execution_count": null,
   "id": "2539fbd9",
   "metadata": {},
   "outputs": [],
   "source": []
  }
 ],
 "metadata": {
  "kernelspec": {
   "display_name": "Python 3 (ipykernel)",
   "language": "python",
   "name": "python3"
  },
  "language_info": {
   "codemirror_mode": {
    "name": "ipython",
    "version": 3
   },
   "file_extension": ".py",
   "mimetype": "text/x-python",
   "name": "python",
   "nbconvert_exporter": "python",
   "pygments_lexer": "ipython3",
   "version": "3.8.16"
  }
 },
 "nbformat": 4,
 "nbformat_minor": 5
}
