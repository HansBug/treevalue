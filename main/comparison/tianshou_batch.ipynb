{
 "cells": [
  {
   "cell_type": "markdown",
   "id": "9d39d946",
   "metadata": {},
   "source": [
    "# Comparison Between TreeValue and Tianshou Batch"
   ]
  },
  {
   "cell_type": "markdown",
   "id": "3c6db2d4",
   "metadata": {},
   "source": [
    "In this section, we will take a look at the feature and performance of the [Tianshou Batch](https://github.com/thu-ml/tianshou) library, which is developed by Tsinghua Machine Learning Group."
   ]
  },
  {
   "cell_type": "markdown",
   "id": "069361b0",
   "metadata": {},
   "source": [
    "Before starting the comparison, let us define some thing."
   ]
  },
  {
   "cell_type": "code",
   "execution_count": 1,
   "id": "06fc8d26",
   "metadata": {
    "execution": {
     "iopub.execute_input": "2023-02-27T10:22:36.629044Z",
     "iopub.status.busy": "2023-02-27T10:22:36.628822Z",
     "iopub.status.idle": "2023-02-27T10:22:37.539933Z",
     "shell.execute_reply": "2023-02-27T10:22:37.539258Z"
    }
   },
   "outputs": [
    {
     "name": "stderr",
     "output_type": "stream",
     "text": [
      "/opt/hostedtoolcache/Python/3.8.16/x64/lib/python3.8/site-packages/tqdm/auto.py:22: TqdmWarning: IProgress not found. Please update jupyter and ipywidgets. See https://ipywidgets.readthedocs.io/en/stable/user_install.html\n",
      "  from .autonotebook import tqdm as notebook_tqdm\n"
     ]
    }
   ],
   "source": [
    "import torch \n",
    "\n",
    "_TREE_DATA_1 = {'a': 1, 'b': 2, 'x': {'c': 3, 'd': 4}}\n",
    "_TREE_DATA_2 = {\n",
    "    'a': torch.randn(2, 3), \n",
    "    'x': {\n",
    "        'c': torch.randn(3, 4)\n",
    "    },\n",
    "}\n",
    "_TREE_DATA_3 = {\n",
    "    'obs': torch.randn(4, 84, 84),\n",
    "    'action': torch.randint(0, 6, size=(1,)),\n",
    "    'reward': torch.rand(1),\n",
    "}"
   ]
  },
  {
   "cell_type": "markdown",
   "id": "83461b25",
   "metadata": {},
   "source": [
    "## Read and Write Operation"
   ]
  },
  {
   "cell_type": "markdown",
   "id": "067b3f73",
   "metadata": {},
   "source": [
    "Reading and writing are the two most common operations in the tree data structure based on the data model (TreeValue and Tianshou Batch both belong to this type), so this section will compare the reading and writing performance of these two libraries."
   ]
  },
  {
   "cell_type": "markdown",
   "id": "5d09a5b7",
   "metadata": {},
   "source": [
    "### TreeValue's Get and Set"
   ]
  },
  {
   "cell_type": "code",
   "execution_count": 2,
   "id": "9519c4bb",
   "metadata": {
    "execution": {
     "iopub.execute_input": "2023-02-27T10:22:37.543083Z",
     "iopub.status.busy": "2023-02-27T10:22:37.542679Z",
     "iopub.status.idle": "2023-02-27T10:22:37.822190Z",
     "shell.execute_reply": "2023-02-27T10:22:37.821500Z"
    }
   },
   "outputs": [],
   "source": [
    "from treevalue import FastTreeValue\n",
    "\n",
    "t = FastTreeValue(_TREE_DATA_2)"
   ]
  },
  {
   "cell_type": "code",
   "execution_count": 3,
   "id": "11c37677",
   "metadata": {
    "execution": {
     "iopub.execute_input": "2023-02-27T10:22:37.825562Z",
     "iopub.status.busy": "2023-02-27T10:22:37.825143Z",
     "iopub.status.idle": "2023-02-27T10:22:37.835119Z",
     "shell.execute_reply": "2023-02-27T10:22:37.834518Z"
    }
   },
   "outputs": [
    {
     "data": {
      "text/plain": [
       "<FastTreeValue 0x7f9fe844e070>\n",
       "├── 'a' --> tensor([[-1.7311,  0.2431,  1.6695],\n",
       "│                   [ 0.5082,  0.0604, -0.8887]])\n",
       "└── 'x' --> <FastTreeValue 0x7f9fe83a51f0>\n",
       "    └── 'c' --> tensor([[-1.4322, -0.8014, -0.1613, -1.8809],\n",
       "                        [ 1.1446, -0.3739, -0.7056, -3.0979],\n",
       "                        [-0.7701, -0.2804,  0.3893,  0.9793]])"
      ]
     },
     "execution_count": 3,
     "metadata": {},
     "output_type": "execute_result"
    }
   ],
   "source": [
    "t"
   ]
  },
  {
   "cell_type": "code",
   "execution_count": 4,
   "id": "fd70b0b9",
   "metadata": {
    "execution": {
     "iopub.execute_input": "2023-02-27T10:22:37.837890Z",
     "iopub.status.busy": "2023-02-27T10:22:37.837560Z",
     "iopub.status.idle": "2023-02-27T10:22:37.842101Z",
     "shell.execute_reply": "2023-02-27T10:22:37.841477Z"
    }
   },
   "outputs": [
    {
     "data": {
      "text/plain": [
       "tensor([[-1.7311,  0.2431,  1.6695],\n",
       "        [ 0.5082,  0.0604, -0.8887]])"
      ]
     },
     "execution_count": 4,
     "metadata": {},
     "output_type": "execute_result"
    }
   ],
   "source": [
    "t.a"
   ]
  },
  {
   "cell_type": "code",
   "execution_count": 5,
   "id": "c18197bd",
   "metadata": {
    "execution": {
     "iopub.execute_input": "2023-02-27T10:22:37.844376Z",
     "iopub.status.busy": "2023-02-27T10:22:37.844164Z",
     "iopub.status.idle": "2023-02-27T10:22:43.128406Z",
     "shell.execute_reply": "2023-02-27T10:22:43.127736Z"
    }
   },
   "outputs": [
    {
     "name": "stdout",
     "output_type": "stream",
     "text": [
      "65.1 ns ± 0.0331 ns per loop (mean ± std. dev. of 7 runs, 10,000,000 loops each)\n"
     ]
    }
   ],
   "source": [
    "%timeit t.a"
   ]
  },
  {
   "cell_type": "code",
   "execution_count": 6,
   "id": "bd52f867",
   "metadata": {
    "execution": {
     "iopub.execute_input": "2023-02-27T10:22:43.131243Z",
     "iopub.status.busy": "2023-02-27T10:22:43.131003Z",
     "iopub.status.idle": "2023-02-27T10:22:43.138056Z",
     "shell.execute_reply": "2023-02-27T10:22:43.137485Z"
    }
   },
   "outputs": [
    {
     "data": {
      "text/plain": [
       "<FastTreeValue 0x7f9fe844e070>\n",
       "├── 'a' --> tensor([[-0.2117, -0.3795,  0.4265],\n",
       "│                   [-1.0136,  0.3527, -0.6198]])\n",
       "└── 'x' --> <FastTreeValue 0x7f9fe83a51f0>\n",
       "    └── 'c' --> tensor([[-1.4322, -0.8014, -0.1613, -1.8809],\n",
       "                        [ 1.1446, -0.3739, -0.7056, -3.0979],\n",
       "                        [-0.7701, -0.2804,  0.3893,  0.9793]])"
      ]
     },
     "execution_count": 6,
     "metadata": {},
     "output_type": "execute_result"
    }
   ],
   "source": [
    "new_value = torch.randn(2, 3)\n",
    "t.a = new_value\n",
    "\n",
    "t"
   ]
  },
  {
   "cell_type": "code",
   "execution_count": 7,
   "id": "bbe04d1c",
   "metadata": {
    "execution": {
     "iopub.execute_input": "2023-02-27T10:22:43.140919Z",
     "iopub.status.busy": "2023-02-27T10:22:43.140329Z",
     "iopub.status.idle": "2023-02-27T10:22:48.667144Z",
     "shell.execute_reply": "2023-02-27T10:22:48.666406Z"
    }
   },
   "outputs": [
    {
     "name": "stdout",
     "output_type": "stream",
     "text": [
      "68.1 ns ± 0.0386 ns per loop (mean ± std. dev. of 7 runs, 10,000,000 loops each)\n"
     ]
    }
   ],
   "source": [
    "%timeit t.a = new_value"
   ]
  },
  {
   "cell_type": "markdown",
   "id": "48c49731",
   "metadata": {},
   "source": [
    "### Tianshou Batch's Get and Set"
   ]
  },
  {
   "cell_type": "code",
   "execution_count": 8,
   "id": "f1bb14c1",
   "metadata": {
    "execution": {
     "iopub.execute_input": "2023-02-27T10:22:48.669883Z",
     "iopub.status.busy": "2023-02-27T10:22:48.669535Z",
     "iopub.status.idle": "2023-02-27T10:22:48.999188Z",
     "shell.execute_reply": "2023-02-27T10:22:48.998496Z"
    }
   },
   "outputs": [],
   "source": [
    "from tianshou.data import Batch\n",
    "\n",
    "b = Batch(**_TREE_DATA_2)"
   ]
  },
  {
   "cell_type": "code",
   "execution_count": 9,
   "id": "cb0777c3",
   "metadata": {
    "execution": {
     "iopub.execute_input": "2023-02-27T10:22:49.002567Z",
     "iopub.status.busy": "2023-02-27T10:22:49.002091Z",
     "iopub.status.idle": "2023-02-27T10:22:49.008270Z",
     "shell.execute_reply": "2023-02-27T10:22:49.007699Z"
    }
   },
   "outputs": [
    {
     "data": {
      "text/plain": [
       "Batch(\n",
       "    a: tensor([[-1.7311,  0.2431,  1.6695],\n",
       "               [ 0.5082,  0.0604, -0.8887]]),\n",
       "    x: Batch(\n",
       "           c: tensor([[-1.4322, -0.8014, -0.1613, -1.8809],\n",
       "                      [ 1.1446, -0.3739, -0.7056, -3.0979],\n",
       "                      [-0.7701, -0.2804,  0.3893,  0.9793]]),\n",
       "       ),\n",
       ")"
      ]
     },
     "execution_count": 9,
     "metadata": {},
     "output_type": "execute_result"
    }
   ],
   "source": [
    "b"
   ]
  },
  {
   "cell_type": "code",
   "execution_count": 10,
   "id": "43ef8ea3",
   "metadata": {
    "execution": {
     "iopub.execute_input": "2023-02-27T10:22:49.011120Z",
     "iopub.status.busy": "2023-02-27T10:22:49.010581Z",
     "iopub.status.idle": "2023-02-27T10:22:49.015581Z",
     "shell.execute_reply": "2023-02-27T10:22:49.014942Z"
    }
   },
   "outputs": [
    {
     "data": {
      "text/plain": [
       "tensor([[-1.7311,  0.2431,  1.6695],\n",
       "        [ 0.5082,  0.0604, -0.8887]])"
      ]
     },
     "execution_count": 10,
     "metadata": {},
     "output_type": "execute_result"
    }
   ],
   "source": [
    "b.a"
   ]
  },
  {
   "cell_type": "code",
   "execution_count": 11,
   "id": "b785ab72",
   "metadata": {
    "execution": {
     "iopub.execute_input": "2023-02-27T10:22:49.018432Z",
     "iopub.status.busy": "2023-02-27T10:22:49.017948Z",
     "iopub.status.idle": "2023-02-27T10:22:54.172568Z",
     "shell.execute_reply": "2023-02-27T10:22:54.171879Z"
    }
   },
   "outputs": [
    {
     "name": "stdout",
     "output_type": "stream",
     "text": [
      "64.2 ns ± 0.0295 ns per loop (mean ± std. dev. of 7 runs, 10,000,000 loops each)\n"
     ]
    }
   ],
   "source": [
    "%timeit b.a"
   ]
  },
  {
   "cell_type": "code",
   "execution_count": 12,
   "id": "ad54dc69",
   "metadata": {
    "execution": {
     "iopub.execute_input": "2023-02-27T10:22:54.175629Z",
     "iopub.status.busy": "2023-02-27T10:22:54.175262Z",
     "iopub.status.idle": "2023-02-27T10:22:54.182535Z",
     "shell.execute_reply": "2023-02-27T10:22:54.181935Z"
    }
   },
   "outputs": [
    {
     "data": {
      "text/plain": [
       "Batch(\n",
       "    a: tensor([[0.3471, 1.0012, 0.1091],\n",
       "               [1.4917, 1.2688, 0.4042]]),\n",
       "    x: Batch(\n",
       "           c: tensor([[-1.4322, -0.8014, -0.1613, -1.8809],\n",
       "                      [ 1.1446, -0.3739, -0.7056, -3.0979],\n",
       "                      [-0.7701, -0.2804,  0.3893,  0.9793]]),\n",
       "       ),\n",
       ")"
      ]
     },
     "execution_count": 12,
     "metadata": {},
     "output_type": "execute_result"
    }
   ],
   "source": [
    "new_value = torch.randn(2, 3)\n",
    "b.a = new_value\n",
    "\n",
    "b"
   ]
  },
  {
   "cell_type": "code",
   "execution_count": 13,
   "id": "29b1d0bf",
   "metadata": {
    "execution": {
     "iopub.execute_input": "2023-02-27T10:22:54.185477Z",
     "iopub.status.busy": "2023-02-27T10:22:54.184935Z",
     "iopub.status.idle": "2023-02-27T10:22:58.149689Z",
     "shell.execute_reply": "2023-02-27T10:22:58.149049Z"
    }
   },
   "outputs": [
    {
     "name": "stdout",
     "output_type": "stream",
     "text": [
      "488 ns ± 0.0829 ns per loop (mean ± std. dev. of 7 runs, 1,000,000 loops each)\n"
     ]
    }
   ],
   "source": [
    "%timeit b.a = new_value"
   ]
  },
  {
   "cell_type": "markdown",
   "id": "b61ad1d0",
   "metadata": {},
   "source": [
    "## Initialization"
   ]
  },
  {
   "cell_type": "markdown",
   "id": "d70f0d54",
   "metadata": {},
   "source": [
    "### TreeValue's Initialization"
   ]
  },
  {
   "cell_type": "code",
   "execution_count": 14,
   "id": "d32a679b",
   "metadata": {
    "execution": {
     "iopub.execute_input": "2023-02-27T10:22:58.152462Z",
     "iopub.status.busy": "2023-02-27T10:22:58.152087Z",
     "iopub.status.idle": "2023-02-27T10:23:05.827751Z",
     "shell.execute_reply": "2023-02-27T10:23:05.826992Z"
    }
   },
   "outputs": [
    {
     "name": "stdout",
     "output_type": "stream",
     "text": [
      "949 ns ± 31 ns per loop (mean ± std. dev. of 7 runs, 1,000,000 loops each)\n"
     ]
    }
   ],
   "source": [
    "%timeit FastTreeValue(_TREE_DATA_1)"
   ]
  },
  {
   "cell_type": "markdown",
   "id": "24f3707b",
   "metadata": {},
   "source": [
    "### Tianshou Batch's Initialization"
   ]
  },
  {
   "cell_type": "code",
   "execution_count": 15,
   "id": "ac3958df",
   "metadata": {
    "execution": {
     "iopub.execute_input": "2023-02-27T10:23:05.830543Z",
     "iopub.status.busy": "2023-02-27T10:23:05.830201Z",
     "iopub.status.idle": "2023-02-27T10:23:14.961010Z",
     "shell.execute_reply": "2023-02-27T10:23:14.960337Z"
    }
   },
   "outputs": [
    {
     "name": "stdout",
     "output_type": "stream",
     "text": [
      "11.2 µs ± 28.4 ns per loop (mean ± std. dev. of 7 runs, 100,000 loops each)\n"
     ]
    }
   ],
   "source": [
    "%timeit Batch(**_TREE_DATA_1)"
   ]
  },
  {
   "cell_type": "markdown",
   "id": "1ab82e2d",
   "metadata": {},
   "source": [
    "## Deep Copy Operation"
   ]
  },
  {
   "cell_type": "code",
   "execution_count": 16,
   "id": "210a9442",
   "metadata": {
    "execution": {
     "iopub.execute_input": "2023-02-27T10:23:14.963694Z",
     "iopub.status.busy": "2023-02-27T10:23:14.963323Z",
     "iopub.status.idle": "2023-02-27T10:23:14.966429Z",
     "shell.execute_reply": "2023-02-27T10:23:14.965765Z"
    }
   },
   "outputs": [],
   "source": [
    "import copy"
   ]
  },
  {
   "cell_type": "markdown",
   "id": "5a736274",
   "metadata": {},
   "source": [
    "### Deep Copy of TreeValue"
   ]
  },
  {
   "cell_type": "code",
   "execution_count": 17,
   "id": "f9bcadd6",
   "metadata": {
    "execution": {
     "iopub.execute_input": "2023-02-27T10:23:14.968792Z",
     "iopub.status.busy": "2023-02-27T10:23:14.968459Z",
     "iopub.status.idle": "2023-02-27T10:23:26.064486Z",
     "shell.execute_reply": "2023-02-27T10:23:26.063918Z"
    }
   },
   "outputs": [
    {
     "name": "stdout",
     "output_type": "stream",
     "text": [
      "137 µs ± 1.25 µs per loop (mean ± std. dev. of 7 runs, 10,000 loops each)\n"
     ]
    }
   ],
   "source": [
    "t3 = FastTreeValue(_TREE_DATA_3)\n",
    "%timeit copy.deepcopy(t3)"
   ]
  },
  {
   "cell_type": "markdown",
   "id": "bf8be7ea",
   "metadata": {},
   "source": [
    "### Deep Copy of Tianshou Batch"
   ]
  },
  {
   "cell_type": "code",
   "execution_count": 18,
   "id": "91998e6f",
   "metadata": {
    "execution": {
     "iopub.execute_input": "2023-02-27T10:23:26.067243Z",
     "iopub.status.busy": "2023-02-27T10:23:26.066847Z",
     "iopub.status.idle": "2023-02-27T10:23:37.315462Z",
     "shell.execute_reply": "2023-02-27T10:23:37.314892Z"
    }
   },
   "outputs": [
    {
     "name": "stdout",
     "output_type": "stream",
     "text": [
      "139 µs ± 539 ns per loop (mean ± std. dev. of 7 runs, 10,000 loops each)\n"
     ]
    }
   ],
   "source": [
    "b3 = Batch(**_TREE_DATA_3)\n",
    "%timeit copy.deepcopy(b3)"
   ]
  },
  {
   "cell_type": "markdown",
   "id": "223162fb",
   "metadata": {},
   "source": [
    "## Stack, Concat and Split Operation"
   ]
  },
  {
   "cell_type": "markdown",
   "id": "85fa4a73",
   "metadata": {},
   "source": [
    "### Performance of TreeValue"
   ]
  },
  {
   "cell_type": "code",
   "execution_count": 19,
   "id": "a0c2b697",
   "metadata": {
    "execution": {
     "iopub.execute_input": "2023-02-27T10:23:37.319474Z",
     "iopub.status.busy": "2023-02-27T10:23:37.318531Z",
     "iopub.status.idle": "2023-02-27T10:23:37.322732Z",
     "shell.execute_reply": "2023-02-27T10:23:37.322208Z"
    }
   },
   "outputs": [],
   "source": [
    "trees = [FastTreeValue(_TREE_DATA_2) for _ in range(8)]"
   ]
  },
  {
   "cell_type": "code",
   "execution_count": 20,
   "id": "017ea5a5",
   "metadata": {
    "execution": {
     "iopub.execute_input": "2023-02-27T10:23:37.326252Z",
     "iopub.status.busy": "2023-02-27T10:23:37.325346Z",
     "iopub.status.idle": "2023-02-27T10:23:37.333988Z",
     "shell.execute_reply": "2023-02-27T10:23:37.333472Z"
    }
   },
   "outputs": [
    {
     "data": {
      "text/plain": [
       "<FastTreeValue 0x7f9f306941f0>\n",
       "├── 'a' --> tensor([[[-1.7311,  0.2431,  1.6695],\n",
       "│                    [ 0.5082,  0.0604, -0.8887]],\n",
       "│           \n",
       "│                   [[-1.7311,  0.2431,  1.6695],\n",
       "│                    [ 0.5082,  0.0604, -0.8887]],\n",
       "│           \n",
       "│                   [[-1.7311,  0.2431,  1.6695],\n",
       "│                    [ 0.5082,  0.0604, -0.8887]],\n",
       "│           \n",
       "│                   [[-1.7311,  0.2431,  1.6695],\n",
       "│                    [ 0.5082,  0.0604, -0.8887]],\n",
       "│           \n",
       "│                   [[-1.7311,  0.2431,  1.6695],\n",
       "│                    [ 0.5082,  0.0604, -0.8887]],\n",
       "│           \n",
       "│                   [[-1.7311,  0.2431,  1.6695],\n",
       "│                    [ 0.5082,  0.0604, -0.8887]],\n",
       "│           \n",
       "│                   [[-1.7311,  0.2431,  1.6695],\n",
       "│                    [ 0.5082,  0.0604, -0.8887]],\n",
       "│           \n",
       "│                   [[-1.7311,  0.2431,  1.6695],\n",
       "│                    [ 0.5082,  0.0604, -0.8887]]])\n",
       "└── 'x' --> <FastTreeValue 0x7f9f306943a0>\n",
       "    └── 'c' --> tensor([[[-1.4322, -0.8014, -0.1613, -1.8809],\n",
       "                         [ 1.1446, -0.3739, -0.7056, -3.0979],\n",
       "                         [-0.7701, -0.2804,  0.3893,  0.9793]],\n",
       "                \n",
       "                        [[-1.4322, -0.8014, -0.1613, -1.8809],\n",
       "                         [ 1.1446, -0.3739, -0.7056, -3.0979],\n",
       "                         [-0.7701, -0.2804,  0.3893,  0.9793]],\n",
       "                \n",
       "                        [[-1.4322, -0.8014, -0.1613, -1.8809],\n",
       "                         [ 1.1446, -0.3739, -0.7056, -3.0979],\n",
       "                         [-0.7701, -0.2804,  0.3893,  0.9793]],\n",
       "                \n",
       "                        [[-1.4322, -0.8014, -0.1613, -1.8809],\n",
       "                         [ 1.1446, -0.3739, -0.7056, -3.0979],\n",
       "                         [-0.7701, -0.2804,  0.3893,  0.9793]],\n",
       "                \n",
       "                        [[-1.4322, -0.8014, -0.1613, -1.8809],\n",
       "                         [ 1.1446, -0.3739, -0.7056, -3.0979],\n",
       "                         [-0.7701, -0.2804,  0.3893,  0.9793]],\n",
       "                \n",
       "                        [[-1.4322, -0.8014, -0.1613, -1.8809],\n",
       "                         [ 1.1446, -0.3739, -0.7056, -3.0979],\n",
       "                         [-0.7701, -0.2804,  0.3893,  0.9793]],\n",
       "                \n",
       "                        [[-1.4322, -0.8014, -0.1613, -1.8809],\n",
       "                         [ 1.1446, -0.3739, -0.7056, -3.0979],\n",
       "                         [-0.7701, -0.2804,  0.3893,  0.9793]],\n",
       "                \n",
       "                        [[-1.4322, -0.8014, -0.1613, -1.8809],\n",
       "                         [ 1.1446, -0.3739, -0.7056, -3.0979],\n",
       "                         [-0.7701, -0.2804,  0.3893,  0.9793]]])"
      ]
     },
     "execution_count": 20,
     "metadata": {},
     "output_type": "execute_result"
    }
   ],
   "source": [
    "t_stack = FastTreeValue.func(subside=True)(torch.stack)\n",
    "\n",
    "t_stack(trees)"
   ]
  },
  {
   "cell_type": "code",
   "execution_count": 21,
   "id": "f8b3f415",
   "metadata": {
    "execution": {
     "iopub.execute_input": "2023-02-27T10:23:37.336882Z",
     "iopub.status.busy": "2023-02-27T10:23:37.336513Z",
     "iopub.status.idle": "2023-02-27T10:23:39.964641Z",
     "shell.execute_reply": "2023-02-27T10:23:39.963892Z"
    }
   },
   "outputs": [
    {
     "name": "stdout",
     "output_type": "stream",
     "text": [
      "32.3 µs ± 95.6 ns per loop (mean ± std. dev. of 7 runs, 10,000 loops each)\n"
     ]
    }
   ],
   "source": [
    "%timeit t_stack(trees)"
   ]
  },
  {
   "cell_type": "code",
   "execution_count": 22,
   "id": "94b56771",
   "metadata": {
    "execution": {
     "iopub.execute_input": "2023-02-27T10:23:39.967645Z",
     "iopub.status.busy": "2023-02-27T10:23:39.967290Z",
     "iopub.status.idle": "2023-02-27T10:23:39.975772Z",
     "shell.execute_reply": "2023-02-27T10:23:39.975161Z"
    }
   },
   "outputs": [
    {
     "data": {
      "text/plain": [
       "<FastTreeValue 0x7f9fbc837be0>\n",
       "├── 'a' --> tensor([[-1.7311,  0.2431,  1.6695],\n",
       "│                   [ 0.5082,  0.0604, -0.8887],\n",
       "│                   [-1.7311,  0.2431,  1.6695],\n",
       "│                   [ 0.5082,  0.0604, -0.8887],\n",
       "│                   [-1.7311,  0.2431,  1.6695],\n",
       "│                   [ 0.5082,  0.0604, -0.8887],\n",
       "│                   [-1.7311,  0.2431,  1.6695],\n",
       "│                   [ 0.5082,  0.0604, -0.8887],\n",
       "│                   [-1.7311,  0.2431,  1.6695],\n",
       "│                   [ 0.5082,  0.0604, -0.8887],\n",
       "│                   [-1.7311,  0.2431,  1.6695],\n",
       "│                   [ 0.5082,  0.0604, -0.8887],\n",
       "│                   [-1.7311,  0.2431,  1.6695],\n",
       "│                   [ 0.5082,  0.0604, -0.8887],\n",
       "│                   [-1.7311,  0.2431,  1.6695],\n",
       "│                   [ 0.5082,  0.0604, -0.8887]])\n",
       "└── 'x' --> <FastTreeValue 0x7f9fbc837c10>\n",
       "    └── 'c' --> tensor([[-1.4322, -0.8014, -0.1613, -1.8809],\n",
       "                        [ 1.1446, -0.3739, -0.7056, -3.0979],\n",
       "                        [-0.7701, -0.2804,  0.3893,  0.9793],\n",
       "                        [-1.4322, -0.8014, -0.1613, -1.8809],\n",
       "                        [ 1.1446, -0.3739, -0.7056, -3.0979],\n",
       "                        [-0.7701, -0.2804,  0.3893,  0.9793],\n",
       "                        [-1.4322, -0.8014, -0.1613, -1.8809],\n",
       "                        [ 1.1446, -0.3739, -0.7056, -3.0979],\n",
       "                        [-0.7701, -0.2804,  0.3893,  0.9793],\n",
       "                        [-1.4322, -0.8014, -0.1613, -1.8809],\n",
       "                        [ 1.1446, -0.3739, -0.7056, -3.0979],\n",
       "                        [-0.7701, -0.2804,  0.3893,  0.9793],\n",
       "                        [-1.4322, -0.8014, -0.1613, -1.8809],\n",
       "                        [ 1.1446, -0.3739, -0.7056, -3.0979],\n",
       "                        [-0.7701, -0.2804,  0.3893,  0.9793],\n",
       "                        [-1.4322, -0.8014, -0.1613, -1.8809],\n",
       "                        [ 1.1446, -0.3739, -0.7056, -3.0979],\n",
       "                        [-0.7701, -0.2804,  0.3893,  0.9793],\n",
       "                        [-1.4322, -0.8014, -0.1613, -1.8809],\n",
       "                        [ 1.1446, -0.3739, -0.7056, -3.0979],\n",
       "                        [-0.7701, -0.2804,  0.3893,  0.9793],\n",
       "                        [-1.4322, -0.8014, -0.1613, -1.8809],\n",
       "                        [ 1.1446, -0.3739, -0.7056, -3.0979],\n",
       "                        [-0.7701, -0.2804,  0.3893,  0.9793]])"
      ]
     },
     "execution_count": 22,
     "metadata": {},
     "output_type": "execute_result"
    }
   ],
   "source": [
    "t_cat = FastTreeValue.func(subside=True)(torch.cat)\n",
    "\n",
    "t_cat(trees)"
   ]
  },
  {
   "cell_type": "code",
   "execution_count": 23,
   "id": "5e9c06a6",
   "metadata": {
    "execution": {
     "iopub.execute_input": "2023-02-27T10:23:39.978359Z",
     "iopub.status.busy": "2023-02-27T10:23:39.978021Z",
     "iopub.status.idle": "2023-02-27T10:23:42.447789Z",
     "shell.execute_reply": "2023-02-27T10:23:42.447021Z"
    }
   },
   "outputs": [
    {
     "name": "stdout",
     "output_type": "stream",
     "text": [
      "30.4 µs ± 46.1 ns per loop (mean ± std. dev. of 7 runs, 10,000 loops each)\n"
     ]
    }
   ],
   "source": [
    "%timeit t_cat(trees)"
   ]
  },
  {
   "cell_type": "code",
   "execution_count": 24,
   "id": "a3ab5c8f",
   "metadata": {
    "execution": {
     "iopub.execute_input": "2023-02-27T10:23:42.451154Z",
     "iopub.status.busy": "2023-02-27T10:23:42.450547Z",
     "iopub.status.idle": "2023-02-27T10:23:47.219535Z",
     "shell.execute_reply": "2023-02-27T10:23:47.218872Z"
    }
   },
   "outputs": [
    {
     "name": "stdout",
     "output_type": "stream",
     "text": [
      "58.6 µs ± 78 ns per loop (mean ± std. dev. of 7 runs, 10,000 loops each)\n"
     ]
    }
   ],
   "source": [
    "t_split = FastTreeValue.func(rise=True)(torch.split)\n",
    "tree = FastTreeValue({\n",
    "    'obs': torch.randn(8, 4, 84, 84),\n",
    "    'action': torch.randint(0, 6, size=(8, 1,)),\n",
    "    'reward': torch.rand(8, 1),\n",
    "})\n",
    "\n",
    "%timeit t_split(tree, 1)"
   ]
  },
  {
   "cell_type": "markdown",
   "id": "31c3ec0b",
   "metadata": {},
   "source": [
    "### Performance of Tianshou Batch"
   ]
  },
  {
   "cell_type": "code",
   "execution_count": 25,
   "id": "9ead828a",
   "metadata": {
    "execution": {
     "iopub.execute_input": "2023-02-27T10:23:47.222695Z",
     "iopub.status.busy": "2023-02-27T10:23:47.222120Z",
     "iopub.status.idle": "2023-02-27T10:23:47.230048Z",
     "shell.execute_reply": "2023-02-27T10:23:47.229475Z"
    }
   },
   "outputs": [
    {
     "data": {
      "text/plain": [
       "Batch(\n",
       "    a: tensor([[[-1.7311,  0.2431,  1.6695],\n",
       "                [ 0.5082,  0.0604, -0.8887]],\n",
       "       \n",
       "               [[-1.7311,  0.2431,  1.6695],\n",
       "                [ 0.5082,  0.0604, -0.8887]],\n",
       "       \n",
       "               [[-1.7311,  0.2431,  1.6695],\n",
       "                [ 0.5082,  0.0604, -0.8887]],\n",
       "       \n",
       "               [[-1.7311,  0.2431,  1.6695],\n",
       "                [ 0.5082,  0.0604, -0.8887]],\n",
       "       \n",
       "               [[-1.7311,  0.2431,  1.6695],\n",
       "                [ 0.5082,  0.0604, -0.8887]],\n",
       "       \n",
       "               [[-1.7311,  0.2431,  1.6695],\n",
       "                [ 0.5082,  0.0604, -0.8887]],\n",
       "       \n",
       "               [[-1.7311,  0.2431,  1.6695],\n",
       "                [ 0.5082,  0.0604, -0.8887]],\n",
       "       \n",
       "               [[-1.7311,  0.2431,  1.6695],\n",
       "                [ 0.5082,  0.0604, -0.8887]]]),\n",
       "    x: Batch(\n",
       "           c: tensor([[[-1.4322, -0.8014, -0.1613, -1.8809],\n",
       "                       [ 1.1446, -0.3739, -0.7056, -3.0979],\n",
       "                       [-0.7701, -0.2804,  0.3893,  0.9793]],\n",
       "              \n",
       "                      [[-1.4322, -0.8014, -0.1613, -1.8809],\n",
       "                       [ 1.1446, -0.3739, -0.7056, -3.0979],\n",
       "                       [-0.7701, -0.2804,  0.3893,  0.9793]],\n",
       "              \n",
       "                      [[-1.4322, -0.8014, -0.1613, -1.8809],\n",
       "                       [ 1.1446, -0.3739, -0.7056, -3.0979],\n",
       "                       [-0.7701, -0.2804,  0.3893,  0.9793]],\n",
       "              \n",
       "                      [[-1.4322, -0.8014, -0.1613, -1.8809],\n",
       "                       [ 1.1446, -0.3739, -0.7056, -3.0979],\n",
       "                       [-0.7701, -0.2804,  0.3893,  0.9793]],\n",
       "              \n",
       "                      [[-1.4322, -0.8014, -0.1613, -1.8809],\n",
       "                       [ 1.1446, -0.3739, -0.7056, -3.0979],\n",
       "                       [-0.7701, -0.2804,  0.3893,  0.9793]],\n",
       "              \n",
       "                      [[-1.4322, -0.8014, -0.1613, -1.8809],\n",
       "                       [ 1.1446, -0.3739, -0.7056, -3.0979],\n",
       "                       [-0.7701, -0.2804,  0.3893,  0.9793]],\n",
       "              \n",
       "                      [[-1.4322, -0.8014, -0.1613, -1.8809],\n",
       "                       [ 1.1446, -0.3739, -0.7056, -3.0979],\n",
       "                       [-0.7701, -0.2804,  0.3893,  0.9793]],\n",
       "              \n",
       "                      [[-1.4322, -0.8014, -0.1613, -1.8809],\n",
       "                       [ 1.1446, -0.3739, -0.7056, -3.0979],\n",
       "                       [-0.7701, -0.2804,  0.3893,  0.9793]]]),\n",
       "       ),\n",
       ")"
      ]
     },
     "execution_count": 25,
     "metadata": {},
     "output_type": "execute_result"
    }
   ],
   "source": [
    "batches = [Batch(**_TREE_DATA_2) for _ in range(8)]\n",
    "\n",
    "Batch.stack(batches)"
   ]
  },
  {
   "cell_type": "code",
   "execution_count": 26,
   "id": "ec9037a3",
   "metadata": {
    "execution": {
     "iopub.execute_input": "2023-02-27T10:23:47.232481Z",
     "iopub.status.busy": "2023-02-27T10:23:47.232166Z",
     "iopub.status.idle": "2023-02-27T10:23:53.690617Z",
     "shell.execute_reply": "2023-02-27T10:23:53.689928Z"
    }
   },
   "outputs": [
    {
     "name": "stdout",
     "output_type": "stream",
     "text": [
      "79.5 µs ± 164 ns per loop (mean ± std. dev. of 7 runs, 10,000 loops each)\n"
     ]
    }
   ],
   "source": [
    "%timeit Batch.stack(batches)"
   ]
  },
  {
   "cell_type": "code",
   "execution_count": 27,
   "id": "cb8ab77e",
   "metadata": {
    "execution": {
     "iopub.execute_input": "2023-02-27T10:23:53.693754Z",
     "iopub.status.busy": "2023-02-27T10:23:53.693258Z",
     "iopub.status.idle": "2023-02-27T10:23:53.700548Z",
     "shell.execute_reply": "2023-02-27T10:23:53.699975Z"
    }
   },
   "outputs": [
    {
     "data": {
      "text/plain": [
       "Batch(\n",
       "    a: tensor([[-1.7311,  0.2431,  1.6695],\n",
       "               [ 0.5082,  0.0604, -0.8887],\n",
       "               [-1.7311,  0.2431,  1.6695],\n",
       "               [ 0.5082,  0.0604, -0.8887],\n",
       "               [-1.7311,  0.2431,  1.6695],\n",
       "               [ 0.5082,  0.0604, -0.8887],\n",
       "               [-1.7311,  0.2431,  1.6695],\n",
       "               [ 0.5082,  0.0604, -0.8887],\n",
       "               [-1.7311,  0.2431,  1.6695],\n",
       "               [ 0.5082,  0.0604, -0.8887],\n",
       "               [-1.7311,  0.2431,  1.6695],\n",
       "               [ 0.5082,  0.0604, -0.8887],\n",
       "               [-1.7311,  0.2431,  1.6695],\n",
       "               [ 0.5082,  0.0604, -0.8887],\n",
       "               [-1.7311,  0.2431,  1.6695],\n",
       "               [ 0.5082,  0.0604, -0.8887]]),\n",
       "    x: Batch(\n",
       "           c: tensor([[-1.4322, -0.8014, -0.1613, -1.8809],\n",
       "                      [ 1.1446, -0.3739, -0.7056, -3.0979],\n",
       "                      [-0.7701, -0.2804,  0.3893,  0.9793],\n",
       "                      [-1.4322, -0.8014, -0.1613, -1.8809],\n",
       "                      [ 1.1446, -0.3739, -0.7056, -3.0979],\n",
       "                      [-0.7701, -0.2804,  0.3893,  0.9793],\n",
       "                      [-1.4322, -0.8014, -0.1613, -1.8809],\n",
       "                      [ 1.1446, -0.3739, -0.7056, -3.0979],\n",
       "                      [-0.7701, -0.2804,  0.3893,  0.9793],\n",
       "                      [-1.4322, -0.8014, -0.1613, -1.8809],\n",
       "                      [ 1.1446, -0.3739, -0.7056, -3.0979],\n",
       "                      [-0.7701, -0.2804,  0.3893,  0.9793],\n",
       "                      [-1.4322, -0.8014, -0.1613, -1.8809],\n",
       "                      [ 1.1446, -0.3739, -0.7056, -3.0979],\n",
       "                      [-0.7701, -0.2804,  0.3893,  0.9793],\n",
       "                      [-1.4322, -0.8014, -0.1613, -1.8809],\n",
       "                      [ 1.1446, -0.3739, -0.7056, -3.0979],\n",
       "                      [-0.7701, -0.2804,  0.3893,  0.9793],\n",
       "                      [-1.4322, -0.8014, -0.1613, -1.8809],\n",
       "                      [ 1.1446, -0.3739, -0.7056, -3.0979],\n",
       "                      [-0.7701, -0.2804,  0.3893,  0.9793],\n",
       "                      [-1.4322, -0.8014, -0.1613, -1.8809],\n",
       "                      [ 1.1446, -0.3739, -0.7056, -3.0979],\n",
       "                      [-0.7701, -0.2804,  0.3893,  0.9793]]),\n",
       "       ),\n",
       ")"
      ]
     },
     "execution_count": 27,
     "metadata": {},
     "output_type": "execute_result"
    }
   ],
   "source": [
    "Batch.cat(batches)"
   ]
  },
  {
   "cell_type": "code",
   "execution_count": 28,
   "id": "18dfb045",
   "metadata": {
    "execution": {
     "iopub.execute_input": "2023-02-27T10:23:53.703415Z",
     "iopub.status.busy": "2023-02-27T10:23:53.702797Z",
     "iopub.status.idle": "2023-02-27T10:24:05.282179Z",
     "shell.execute_reply": "2023-02-27T10:24:05.281410Z"
    }
   },
   "outputs": [
    {
     "name": "stdout",
     "output_type": "stream",
     "text": [
      "143 µs ± 435 ns per loop (mean ± std. dev. of 7 runs, 10,000 loops each)\n"
     ]
    }
   ],
   "source": [
    "%timeit Batch.cat(batches)"
   ]
  },
  {
   "cell_type": "code",
   "execution_count": 29,
   "id": "c6688e51",
   "metadata": {
    "execution": {
     "iopub.execute_input": "2023-02-27T10:24:05.285129Z",
     "iopub.status.busy": "2023-02-27T10:24:05.284618Z",
     "iopub.status.idle": "2023-02-27T10:24:07.785348Z",
     "shell.execute_reply": "2023-02-27T10:24:07.784673Z"
    }
   },
   "outputs": [
    {
     "name": "stdout",
     "output_type": "stream",
     "text": [
      "307 µs ± 1.51 µs per loop (mean ± std. dev. of 7 runs, 1,000 loops each)\n"
     ]
    }
   ],
   "source": [
    "batch = Batch({\n",
    "    'obs': torch.randn(8, 4, 84, 84),\n",
    "    'action': torch.randint(0, 6, size=(8, 1,)),\n",
    "    'reward': torch.rand(8, 1)}\n",
    ")\n",
    "\n",
    "%timeit list(Batch.split(batch, 1, shuffle=False, merge_last=True))"
   ]
  },
  {
   "cell_type": "code",
   "execution_count": null,
   "id": "2539fbd9",
   "metadata": {},
   "outputs": [],
   "source": []
  }
 ],
 "metadata": {
  "kernelspec": {
   "display_name": "Python 3 (ipykernel)",
   "language": "python",
   "name": "python3"
  },
  "language_info": {
   "codemirror_mode": {
    "name": "ipython",
    "version": 3
   },
   "file_extension": ".py",
   "mimetype": "text/x-python",
   "name": "python",
   "nbconvert_exporter": "python",
   "pygments_lexer": "ipython3",
   "version": "3.8.16"
  }
 },
 "nbformat": 4,
 "nbformat_minor": 5
}
