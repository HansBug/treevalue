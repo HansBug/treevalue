{
 "cells": [
  {
   "cell_type": "markdown",
   "id": "9d39d946",
   "metadata": {},
   "source": [
    "# Comparison Between TreeValue and Tianshou Batch"
   ]
  },
  {
   "cell_type": "markdown",
   "id": "3c6db2d4",
   "metadata": {},
   "source": [
    "In this section, we will take a look at the feature and performance of the [Tianshou Batch](https://github.com/thu-ml/tianshou) library, which is developed by Tsinghua Machine Learning Group."
   ]
  },
  {
   "cell_type": "markdown",
   "id": "069361b0",
   "metadata": {},
   "source": [
    "Before starting the comparison, let us define some thing."
   ]
  },
  {
   "cell_type": "code",
   "execution_count": 1,
   "id": "06fc8d26",
   "metadata": {
    "execution": {
     "iopub.execute_input": "2023-02-23T09:42:45.719854Z",
     "iopub.status.busy": "2023-02-23T09:42:45.719414Z",
     "iopub.status.idle": "2023-02-23T09:42:46.840230Z",
     "shell.execute_reply": "2023-02-23T09:42:46.839112Z"
    }
   },
   "outputs": [
    {
     "name": "stderr",
     "output_type": "stream",
     "text": [
      "/opt/hostedtoolcache/Python/3.8.16/x64/lib/python3.8/site-packages/tqdm/auto.py:22: TqdmWarning: IProgress not found. Please update jupyter and ipywidgets. See https://ipywidgets.readthedocs.io/en/stable/user_install.html\n",
      "  from .autonotebook import tqdm as notebook_tqdm\n"
     ]
    }
   ],
   "source": [
    "import torch \n",
    "\n",
    "_TREE_DATA_1 = {'a': 1, 'b': 2, 'x': {'c': 3, 'd': 4}}\n",
    "_TREE_DATA_2 = {\n",
    "    'a': torch.randn(2, 3), \n",
    "    'x': {\n",
    "        'c': torch.randn(3, 4)\n",
    "    },\n",
    "}\n",
    "_TREE_DATA_3 = {\n",
    "    'obs': torch.randn(4, 84, 84),\n",
    "    'action': torch.randint(0, 6, size=(1,)),\n",
    "    'reward': torch.rand(1),\n",
    "}"
   ]
  },
  {
   "cell_type": "markdown",
   "id": "83461b25",
   "metadata": {},
   "source": [
    "## Read and Write Operation"
   ]
  },
  {
   "cell_type": "markdown",
   "id": "067b3f73",
   "metadata": {},
   "source": [
    "Reading and writing are the two most common operations in the tree data structure based on the data model (TreeValue and Tianshou Batch both belong to this type), so this section will compare the reading and writing performance of these two libraries."
   ]
  },
  {
   "cell_type": "markdown",
   "id": "5d09a5b7",
   "metadata": {},
   "source": [
    "### TreeValue's Get and Set"
   ]
  },
  {
   "cell_type": "code",
   "execution_count": 2,
   "id": "9519c4bb",
   "metadata": {
    "execution": {
     "iopub.execute_input": "2023-02-23T09:42:46.845191Z",
     "iopub.status.busy": "2023-02-23T09:42:46.844279Z",
     "iopub.status.idle": "2023-02-23T09:42:46.885197Z",
     "shell.execute_reply": "2023-02-23T09:42:46.884250Z"
    }
   },
   "outputs": [],
   "source": [
    "from treevalue import FastTreeValue\n",
    "\n",
    "t = FastTreeValue(_TREE_DATA_2)"
   ]
  },
  {
   "cell_type": "code",
   "execution_count": 3,
   "id": "11c37677",
   "metadata": {
    "execution": {
     "iopub.execute_input": "2023-02-23T09:42:46.888544Z",
     "iopub.status.busy": "2023-02-23T09:42:46.888265Z",
     "iopub.status.idle": "2023-02-23T09:42:46.898973Z",
     "shell.execute_reply": "2023-02-23T09:42:46.898257Z"
    }
   },
   "outputs": [
    {
     "data": {
      "text/plain": [
       "<FastTreeValue 0x7fd9300d9760>\n",
       "├── 'a' --> tensor([[ 0.5375,  0.1991,  0.7136],\n",
       "│                   [ 1.0259, -0.3141,  1.7013]])\n",
       "└── 'x' --> <FastTreeValue 0x7fd9300d9b50>\n",
       "    └── 'c' --> tensor([[-0.1177,  0.2996, -0.3899, -0.0568],\n",
       "                        [ 1.9513,  0.0644,  1.0288, -1.8989],\n",
       "                        [ 0.3587, -1.0831, -0.7567, -0.3360]])"
      ]
     },
     "execution_count": 3,
     "metadata": {},
     "output_type": "execute_result"
    }
   ],
   "source": [
    "t"
   ]
  },
  {
   "cell_type": "code",
   "execution_count": 4,
   "id": "fd70b0b9",
   "metadata": {
    "execution": {
     "iopub.execute_input": "2023-02-23T09:42:46.901802Z",
     "iopub.status.busy": "2023-02-23T09:42:46.901532Z",
     "iopub.status.idle": "2023-02-23T09:42:46.908077Z",
     "shell.execute_reply": "2023-02-23T09:42:46.907389Z"
    }
   },
   "outputs": [
    {
     "data": {
      "text/plain": [
       "tensor([[ 0.5375,  0.1991,  0.7136],\n",
       "        [ 1.0259, -0.3141,  1.7013]])"
      ]
     },
     "execution_count": 4,
     "metadata": {},
     "output_type": "execute_result"
    }
   ],
   "source": [
    "t.a"
   ]
  },
  {
   "cell_type": "code",
   "execution_count": 5,
   "id": "c18197bd",
   "metadata": {
    "execution": {
     "iopub.execute_input": "2023-02-23T09:42:46.911435Z",
     "iopub.status.busy": "2023-02-23T09:42:46.910794Z",
     "iopub.status.idle": "2023-02-23T09:42:53.242678Z",
     "shell.execute_reply": "2023-02-23T09:42:53.241514Z"
    }
   },
   "outputs": [
    {
     "name": "stdout",
     "output_type": "stream",
     "text": [
      "78 ns ± 0.141 ns per loop (mean ± std. dev. of 7 runs, 10,000,000 loops each)\n"
     ]
    }
   ],
   "source": [
    "%timeit t.a"
   ]
  },
  {
   "cell_type": "code",
   "execution_count": 6,
   "id": "bd52f867",
   "metadata": {
    "execution": {
     "iopub.execute_input": "2023-02-23T09:42:53.246798Z",
     "iopub.status.busy": "2023-02-23T09:42:53.246040Z",
     "iopub.status.idle": "2023-02-23T09:42:53.254908Z",
     "shell.execute_reply": "2023-02-23T09:42:53.253387Z"
    }
   },
   "outputs": [
    {
     "data": {
      "text/plain": [
       "<FastTreeValue 0x7fd9300d9760>\n",
       "├── 'a' --> tensor([[ 8.7054e-01,  3.7311e-01, -1.9478e+00],\n",
       "│                   [-2.2847e-02, -1.9015e-03, -5.5027e-01]])\n",
       "└── 'x' --> <FastTreeValue 0x7fd9300d9b50>\n",
       "    └── 'c' --> tensor([[-0.1177,  0.2996, -0.3899, -0.0568],\n",
       "                        [ 1.9513,  0.0644,  1.0288, -1.8989],\n",
       "                        [ 0.3587, -1.0831, -0.7567, -0.3360]])"
      ]
     },
     "execution_count": 6,
     "metadata": {},
     "output_type": "execute_result"
    }
   ],
   "source": [
    "new_value = torch.randn(2, 3)\n",
    "t.a = new_value\n",
    "\n",
    "t"
   ]
  },
  {
   "cell_type": "code",
   "execution_count": 7,
   "id": "bbe04d1c",
   "metadata": {
    "execution": {
     "iopub.execute_input": "2023-02-23T09:42:53.259041Z",
     "iopub.status.busy": "2023-02-23T09:42:53.258448Z",
     "iopub.status.idle": "2023-02-23T09:42:59.887888Z",
     "shell.execute_reply": "2023-02-23T09:42:59.886946Z"
    }
   },
   "outputs": [
    {
     "name": "stdout",
     "output_type": "stream",
     "text": [
      "81.6 ns ± 0.436 ns per loop (mean ± std. dev. of 7 runs, 10,000,000 loops each)\n"
     ]
    }
   ],
   "source": [
    "%timeit t.a = new_value"
   ]
  },
  {
   "cell_type": "markdown",
   "id": "48c49731",
   "metadata": {},
   "source": [
    "### Tianshou Batch's Get and Set"
   ]
  },
  {
   "cell_type": "code",
   "execution_count": 8,
   "id": "f1bb14c1",
   "metadata": {
    "execution": {
     "iopub.execute_input": "2023-02-23T09:42:59.891972Z",
     "iopub.status.busy": "2023-02-23T09:42:59.891302Z",
     "iopub.status.idle": "2023-02-23T09:43:00.303572Z",
     "shell.execute_reply": "2023-02-23T09:43:00.302523Z"
    }
   },
   "outputs": [],
   "source": [
    "from tianshou.data import Batch\n",
    "\n",
    "b = Batch(**_TREE_DATA_2)"
   ]
  },
  {
   "cell_type": "code",
   "execution_count": 9,
   "id": "cb0777c3",
   "metadata": {
    "execution": {
     "iopub.execute_input": "2023-02-23T09:43:00.307738Z",
     "iopub.status.busy": "2023-02-23T09:43:00.307082Z",
     "iopub.status.idle": "2023-02-23T09:43:00.314527Z",
     "shell.execute_reply": "2023-02-23T09:43:00.313754Z"
    }
   },
   "outputs": [
    {
     "data": {
      "text/plain": [
       "Batch(\n",
       "    a: tensor([[ 0.5375,  0.1991,  0.7136],\n",
       "               [ 1.0259, -0.3141,  1.7013]]),\n",
       "    x: Batch(\n",
       "           c: tensor([[-0.1177,  0.2996, -0.3899, -0.0568],\n",
       "                      [ 1.9513,  0.0644,  1.0288, -1.8989],\n",
       "                      [ 0.3587, -1.0831, -0.7567, -0.3360]]),\n",
       "       ),\n",
       ")"
      ]
     },
     "execution_count": 9,
     "metadata": {},
     "output_type": "execute_result"
    }
   ],
   "source": [
    "b"
   ]
  },
  {
   "cell_type": "code",
   "execution_count": 10,
   "id": "43ef8ea3",
   "metadata": {
    "execution": {
     "iopub.execute_input": "2023-02-23T09:43:00.317519Z",
     "iopub.status.busy": "2023-02-23T09:43:00.317019Z",
     "iopub.status.idle": "2023-02-23T09:43:00.323667Z",
     "shell.execute_reply": "2023-02-23T09:43:00.322901Z"
    }
   },
   "outputs": [
    {
     "data": {
      "text/plain": [
       "tensor([[ 0.5375,  0.1991,  0.7136],\n",
       "        [ 1.0259, -0.3141,  1.7013]])"
      ]
     },
     "execution_count": 10,
     "metadata": {},
     "output_type": "execute_result"
    }
   ],
   "source": [
    "b.a"
   ]
  },
  {
   "cell_type": "code",
   "execution_count": 11,
   "id": "b785ab72",
   "metadata": {
    "execution": {
     "iopub.execute_input": "2023-02-23T09:43:00.326589Z",
     "iopub.status.busy": "2023-02-23T09:43:00.326164Z",
     "iopub.status.idle": "2023-02-23T09:43:06.585243Z",
     "shell.execute_reply": "2023-02-23T09:43:06.584092Z"
    }
   },
   "outputs": [
    {
     "name": "stdout",
     "output_type": "stream",
     "text": [
      "77 ns ± 0.128 ns per loop (mean ± std. dev. of 7 runs, 10,000,000 loops each)\n"
     ]
    }
   ],
   "source": [
    "%timeit b.a"
   ]
  },
  {
   "cell_type": "code",
   "execution_count": 12,
   "id": "ad54dc69",
   "metadata": {
    "execution": {
     "iopub.execute_input": "2023-02-23T09:43:06.589617Z",
     "iopub.status.busy": "2023-02-23T09:43:06.588877Z",
     "iopub.status.idle": "2023-02-23T09:43:06.597281Z",
     "shell.execute_reply": "2023-02-23T09:43:06.596504Z"
    }
   },
   "outputs": [
    {
     "data": {
      "text/plain": [
       "Batch(\n",
       "    a: tensor([[-1.2737,  0.3487, -1.2324],\n",
       "               [-1.2704, -0.8477,  0.8558]]),\n",
       "    x: Batch(\n",
       "           c: tensor([[-0.1177,  0.2996, -0.3899, -0.0568],\n",
       "                      [ 1.9513,  0.0644,  1.0288, -1.8989],\n",
       "                      [ 0.3587, -1.0831, -0.7567, -0.3360]]),\n",
       "       ),\n",
       ")"
      ]
     },
     "execution_count": 12,
     "metadata": {},
     "output_type": "execute_result"
    }
   ],
   "source": [
    "new_value = torch.randn(2, 3)\n",
    "b.a = new_value\n",
    "\n",
    "b"
   ]
  },
  {
   "cell_type": "code",
   "execution_count": 13,
   "id": "29b1d0bf",
   "metadata": {
    "execution": {
     "iopub.execute_input": "2023-02-23T09:43:06.600696Z",
     "iopub.status.busy": "2023-02-23T09:43:06.600284Z",
     "iopub.status.idle": "2023-02-23T09:43:11.473654Z",
     "shell.execute_reply": "2023-02-23T09:43:11.472570Z"
    }
   },
   "outputs": [
    {
     "name": "stdout",
     "output_type": "stream",
     "text": [
      "599 ns ± 0.285 ns per loop (mean ± std. dev. of 7 runs, 1,000,000 loops each)\n"
     ]
    }
   ],
   "source": [
    "%timeit b.a = new_value"
   ]
  },
  {
   "cell_type": "markdown",
   "id": "b61ad1d0",
   "metadata": {},
   "source": [
    "## Initialization"
   ]
  },
  {
   "cell_type": "markdown",
   "id": "d70f0d54",
   "metadata": {},
   "source": [
    "### TreeValue's Initialization"
   ]
  },
  {
   "cell_type": "code",
   "execution_count": 14,
   "id": "d32a679b",
   "metadata": {
    "execution": {
     "iopub.execute_input": "2023-02-23T09:43:11.477559Z",
     "iopub.status.busy": "2023-02-23T09:43:11.476850Z",
     "iopub.status.idle": "2023-02-23T09:43:19.316552Z",
     "shell.execute_reply": "2023-02-23T09:43:19.315195Z"
    }
   },
   "outputs": [
    {
     "name": "stdout",
     "output_type": "stream",
     "text": [
      "965 ns ± 3.85 ns per loop (mean ± std. dev. of 7 runs, 1,000,000 loops each)\n"
     ]
    }
   ],
   "source": [
    "%timeit FastTreeValue(_TREE_DATA_1)"
   ]
  },
  {
   "cell_type": "markdown",
   "id": "24f3707b",
   "metadata": {},
   "source": [
    "### Tianshou Batch's Initialization"
   ]
  },
  {
   "cell_type": "code",
   "execution_count": 15,
   "id": "ac3958df",
   "metadata": {
    "execution": {
     "iopub.execute_input": "2023-02-23T09:43:19.320215Z",
     "iopub.status.busy": "2023-02-23T09:43:19.319510Z",
     "iopub.status.idle": "2023-02-23T09:43:28.890909Z",
     "shell.execute_reply": "2023-02-23T09:43:28.889696Z"
    }
   },
   "outputs": [
    {
     "name": "stdout",
     "output_type": "stream",
     "text": [
      "11.8 µs ± 67.6 ns per loop (mean ± std. dev. of 7 runs, 100,000 loops each)\n"
     ]
    }
   ],
   "source": [
    "%timeit Batch(**_TREE_DATA_1)"
   ]
  },
  {
   "cell_type": "markdown",
   "id": "1ab82e2d",
   "metadata": {},
   "source": [
    "## Deep Copy Operation"
   ]
  },
  {
   "cell_type": "code",
   "execution_count": 16,
   "id": "210a9442",
   "metadata": {
    "execution": {
     "iopub.execute_input": "2023-02-23T09:43:28.894721Z",
     "iopub.status.busy": "2023-02-23T09:43:28.894216Z",
     "iopub.status.idle": "2023-02-23T09:43:28.899208Z",
     "shell.execute_reply": "2023-02-23T09:43:28.898315Z"
    }
   },
   "outputs": [],
   "source": [
    "import copy"
   ]
  },
  {
   "cell_type": "markdown",
   "id": "5a736274",
   "metadata": {},
   "source": [
    "### Deep Copy of TreeValue"
   ]
  },
  {
   "cell_type": "code",
   "execution_count": 17,
   "id": "f9bcadd6",
   "metadata": {
    "execution": {
     "iopub.execute_input": "2023-02-23T09:43:28.902505Z",
     "iopub.status.busy": "2023-02-23T09:43:28.901808Z",
     "iopub.status.idle": "2023-02-23T09:43:42.260410Z",
     "shell.execute_reply": "2023-02-23T09:43:42.259685Z"
    }
   },
   "outputs": [
    {
     "name": "stdout",
     "output_type": "stream",
     "text": [
      "165 µs ± 372 ns per loop (mean ± std. dev. of 7 runs, 10,000 loops each)\n"
     ]
    }
   ],
   "source": [
    "t3 = FastTreeValue(_TREE_DATA_3)\n",
    "%timeit copy.deepcopy(t3)"
   ]
  },
  {
   "cell_type": "markdown",
   "id": "bf8be7ea",
   "metadata": {},
   "source": [
    "### Deep Copy of Tianshou Batch"
   ]
  },
  {
   "cell_type": "code",
   "execution_count": 18,
   "id": "91998e6f",
   "metadata": {
    "execution": {
     "iopub.execute_input": "2023-02-23T09:43:42.263857Z",
     "iopub.status.busy": "2023-02-23T09:43:42.263392Z",
     "iopub.status.idle": "2023-02-23T09:43:55.579168Z",
     "shell.execute_reply": "2023-02-23T09:43:55.578222Z"
    }
   },
   "outputs": [
    {
     "name": "stdout",
     "output_type": "stream",
     "text": [
      "164 µs ± 742 ns per loop (mean ± std. dev. of 7 runs, 10,000 loops each)\n"
     ]
    }
   ],
   "source": [
    "b3 = Batch(**_TREE_DATA_3)\n",
    "%timeit copy.deepcopy(b3)"
   ]
  },
  {
   "cell_type": "markdown",
   "id": "223162fb",
   "metadata": {},
   "source": [
    "## Stack, Concat and Split Operation"
   ]
  },
  {
   "cell_type": "markdown",
   "id": "85fa4a73",
   "metadata": {},
   "source": [
    "### Performance of TreeValue"
   ]
  },
  {
   "cell_type": "code",
   "execution_count": 19,
   "id": "a0c2b697",
   "metadata": {
    "execution": {
     "iopub.execute_input": "2023-02-23T09:43:55.583116Z",
     "iopub.status.busy": "2023-02-23T09:43:55.582662Z",
     "iopub.status.idle": "2023-02-23T09:43:55.587537Z",
     "shell.execute_reply": "2023-02-23T09:43:55.586786Z"
    }
   },
   "outputs": [],
   "source": [
    "trees = [FastTreeValue(_TREE_DATA_2) for _ in range(8)]"
   ]
  },
  {
   "cell_type": "code",
   "execution_count": 20,
   "id": "017ea5a5",
   "metadata": {
    "execution": {
     "iopub.execute_input": "2023-02-23T09:43:55.590689Z",
     "iopub.status.busy": "2023-02-23T09:43:55.590296Z",
     "iopub.status.idle": "2023-02-23T09:43:55.599518Z",
     "shell.execute_reply": "2023-02-23T09:43:55.598800Z"
    }
   },
   "outputs": [
    {
     "data": {
      "text/plain": [
       "<FastTreeValue 0x7fd9300d31f0>\n",
       "├── 'a' --> tensor([[[ 0.5375,  0.1991,  0.7136],\n",
       "│                    [ 1.0259, -0.3141,  1.7013]],\n",
       "│           \n",
       "│                   [[ 0.5375,  0.1991,  0.7136],\n",
       "│                    [ 1.0259, -0.3141,  1.7013]],\n",
       "│           \n",
       "│                   [[ 0.5375,  0.1991,  0.7136],\n",
       "│                    [ 1.0259, -0.3141,  1.7013]],\n",
       "│           \n",
       "│                   [[ 0.5375,  0.1991,  0.7136],\n",
       "│                    [ 1.0259, -0.3141,  1.7013]],\n",
       "│           \n",
       "│                   [[ 0.5375,  0.1991,  0.7136],\n",
       "│                    [ 1.0259, -0.3141,  1.7013]],\n",
       "│           \n",
       "│                   [[ 0.5375,  0.1991,  0.7136],\n",
       "│                    [ 1.0259, -0.3141,  1.7013]],\n",
       "│           \n",
       "│                   [[ 0.5375,  0.1991,  0.7136],\n",
       "│                    [ 1.0259, -0.3141,  1.7013]],\n",
       "│           \n",
       "│                   [[ 0.5375,  0.1991,  0.7136],\n",
       "│                    [ 1.0259, -0.3141,  1.7013]]])\n",
       "└── 'x' --> <FastTreeValue 0x7fd884da7f40>\n",
       "    └── 'c' --> tensor([[[-0.1177,  0.2996, -0.3899, -0.0568],\n",
       "                         [ 1.9513,  0.0644,  1.0288, -1.8989],\n",
       "                         [ 0.3587, -1.0831, -0.7567, -0.3360]],\n",
       "                \n",
       "                        [[-0.1177,  0.2996, -0.3899, -0.0568],\n",
       "                         [ 1.9513,  0.0644,  1.0288, -1.8989],\n",
       "                         [ 0.3587, -1.0831, -0.7567, -0.3360]],\n",
       "                \n",
       "                        [[-0.1177,  0.2996, -0.3899, -0.0568],\n",
       "                         [ 1.9513,  0.0644,  1.0288, -1.8989],\n",
       "                         [ 0.3587, -1.0831, -0.7567, -0.3360]],\n",
       "                \n",
       "                        [[-0.1177,  0.2996, -0.3899, -0.0568],\n",
       "                         [ 1.9513,  0.0644,  1.0288, -1.8989],\n",
       "                         [ 0.3587, -1.0831, -0.7567, -0.3360]],\n",
       "                \n",
       "                        [[-0.1177,  0.2996, -0.3899, -0.0568],\n",
       "                         [ 1.9513,  0.0644,  1.0288, -1.8989],\n",
       "                         [ 0.3587, -1.0831, -0.7567, -0.3360]],\n",
       "                \n",
       "                        [[-0.1177,  0.2996, -0.3899, -0.0568],\n",
       "                         [ 1.9513,  0.0644,  1.0288, -1.8989],\n",
       "                         [ 0.3587, -1.0831, -0.7567, -0.3360]],\n",
       "                \n",
       "                        [[-0.1177,  0.2996, -0.3899, -0.0568],\n",
       "                         [ 1.9513,  0.0644,  1.0288, -1.8989],\n",
       "                         [ 0.3587, -1.0831, -0.7567, -0.3360]],\n",
       "                \n",
       "                        [[-0.1177,  0.2996, -0.3899, -0.0568],\n",
       "                         [ 1.9513,  0.0644,  1.0288, -1.8989],\n",
       "                         [ 0.3587, -1.0831, -0.7567, -0.3360]]])"
      ]
     },
     "execution_count": 20,
     "metadata": {},
     "output_type": "execute_result"
    }
   ],
   "source": [
    "t_stack = FastTreeValue.func(subside=True)(torch.stack)\n",
    "\n",
    "t_stack(trees)"
   ]
  },
  {
   "cell_type": "code",
   "execution_count": 21,
   "id": "f8b3f415",
   "metadata": {
    "execution": {
     "iopub.execute_input": "2023-02-23T09:43:55.602608Z",
     "iopub.status.busy": "2023-02-23T09:43:55.602206Z",
     "iopub.status.idle": "2023-02-23T09:43:58.639620Z",
     "shell.execute_reply": "2023-02-23T09:43:58.638733Z"
    }
   },
   "outputs": [
    {
     "name": "stdout",
     "output_type": "stream",
     "text": [
      "37.3 µs ± 188 ns per loop (mean ± std. dev. of 7 runs, 10,000 loops each)\n"
     ]
    }
   ],
   "source": [
    "%timeit t_stack(trees)"
   ]
  },
  {
   "cell_type": "code",
   "execution_count": 22,
   "id": "94b56771",
   "metadata": {
    "execution": {
     "iopub.execute_input": "2023-02-23T09:43:58.643762Z",
     "iopub.status.busy": "2023-02-23T09:43:58.643102Z",
     "iopub.status.idle": "2023-02-23T09:43:58.653394Z",
     "shell.execute_reply": "2023-02-23T09:43:58.652661Z"
    }
   },
   "outputs": [
    {
     "data": {
      "text/plain": [
       "<FastTreeValue 0x7fd884d8a670>\n",
       "├── 'a' --> tensor([[ 0.5375,  0.1991,  0.7136],\n",
       "│                   [ 1.0259, -0.3141,  1.7013],\n",
       "│                   [ 0.5375,  0.1991,  0.7136],\n",
       "│                   [ 1.0259, -0.3141,  1.7013],\n",
       "│                   [ 0.5375,  0.1991,  0.7136],\n",
       "│                   [ 1.0259, -0.3141,  1.7013],\n",
       "│                   [ 0.5375,  0.1991,  0.7136],\n",
       "│                   [ 1.0259, -0.3141,  1.7013],\n",
       "│                   [ 0.5375,  0.1991,  0.7136],\n",
       "│                   [ 1.0259, -0.3141,  1.7013],\n",
       "│                   [ 0.5375,  0.1991,  0.7136],\n",
       "│                   [ 1.0259, -0.3141,  1.7013],\n",
       "│                   [ 0.5375,  0.1991,  0.7136],\n",
       "│                   [ 1.0259, -0.3141,  1.7013],\n",
       "│                   [ 0.5375,  0.1991,  0.7136],\n",
       "│                   [ 1.0259, -0.3141,  1.7013]])\n",
       "└── 'x' --> <FastTreeValue 0x7fd884d8a400>\n",
       "    └── 'c' --> tensor([[-0.1177,  0.2996, -0.3899, -0.0568],\n",
       "                        [ 1.9513,  0.0644,  1.0288, -1.8989],\n",
       "                        [ 0.3587, -1.0831, -0.7567, -0.3360],\n",
       "                        [-0.1177,  0.2996, -0.3899, -0.0568],\n",
       "                        [ 1.9513,  0.0644,  1.0288, -1.8989],\n",
       "                        [ 0.3587, -1.0831, -0.7567, -0.3360],\n",
       "                        [-0.1177,  0.2996, -0.3899, -0.0568],\n",
       "                        [ 1.9513,  0.0644,  1.0288, -1.8989],\n",
       "                        [ 0.3587, -1.0831, -0.7567, -0.3360],\n",
       "                        [-0.1177,  0.2996, -0.3899, -0.0568],\n",
       "                        [ 1.9513,  0.0644,  1.0288, -1.8989],\n",
       "                        [ 0.3587, -1.0831, -0.7567, -0.3360],\n",
       "                        [-0.1177,  0.2996, -0.3899, -0.0568],\n",
       "                        [ 1.9513,  0.0644,  1.0288, -1.8989],\n",
       "                        [ 0.3587, -1.0831, -0.7567, -0.3360],\n",
       "                        [-0.1177,  0.2996, -0.3899, -0.0568],\n",
       "                        [ 1.9513,  0.0644,  1.0288, -1.8989],\n",
       "                        [ 0.3587, -1.0831, -0.7567, -0.3360],\n",
       "                        [-0.1177,  0.2996, -0.3899, -0.0568],\n",
       "                        [ 1.9513,  0.0644,  1.0288, -1.8989],\n",
       "                        [ 0.3587, -1.0831, -0.7567, -0.3360],\n",
       "                        [-0.1177,  0.2996, -0.3899, -0.0568],\n",
       "                        [ 1.9513,  0.0644,  1.0288, -1.8989],\n",
       "                        [ 0.3587, -1.0831, -0.7567, -0.3360]])"
      ]
     },
     "execution_count": 22,
     "metadata": {},
     "output_type": "execute_result"
    }
   ],
   "source": [
    "t_cat = FastTreeValue.func(subside=True)(torch.cat)\n",
    "\n",
    "t_cat(trees)"
   ]
  },
  {
   "cell_type": "code",
   "execution_count": 23,
   "id": "5e9c06a6",
   "metadata": {
    "execution": {
     "iopub.execute_input": "2023-02-23T09:43:58.656829Z",
     "iopub.status.busy": "2023-02-23T09:43:58.656215Z",
     "iopub.status.idle": "2023-02-23T09:44:01.501144Z",
     "shell.execute_reply": "2023-02-23T09:44:01.499843Z"
    }
   },
   "outputs": [
    {
     "name": "stdout",
     "output_type": "stream",
     "text": [
      "35 µs ± 72.5 ns per loop (mean ± std. dev. of 7 runs, 10,000 loops each)\n"
     ]
    }
   ],
   "source": [
    "%timeit t_cat(trees)"
   ]
  },
  {
   "cell_type": "code",
   "execution_count": 24,
   "id": "a3ab5c8f",
   "metadata": {
    "execution": {
     "iopub.execute_input": "2023-02-23T09:44:01.505101Z",
     "iopub.status.busy": "2023-02-23T09:44:01.504451Z",
     "iopub.status.idle": "2023-02-23T09:44:06.644502Z",
     "shell.execute_reply": "2023-02-23T09:44:06.643301Z"
    }
   },
   "outputs": [
    {
     "name": "stdout",
     "output_type": "stream",
     "text": [
      "63.1 µs ± 190 ns per loop (mean ± std. dev. of 7 runs, 10,000 loops each)\n"
     ]
    }
   ],
   "source": [
    "t_split = FastTreeValue.func(rise=True)(torch.split)\n",
    "tree = FastTreeValue({\n",
    "    'obs': torch.randn(8, 4, 84, 84),\n",
    "    'action': torch.randint(0, 6, size=(8, 1,)),\n",
    "    'reward': torch.rand(8, 1),\n",
    "})\n",
    "\n",
    "%timeit t_split(tree, 1)"
   ]
  },
  {
   "cell_type": "markdown",
   "id": "31c3ec0b",
   "metadata": {},
   "source": [
    "### Performance of Tianshou Batch"
   ]
  },
  {
   "cell_type": "code",
   "execution_count": 25,
   "id": "9ead828a",
   "metadata": {
    "execution": {
     "iopub.execute_input": "2023-02-23T09:44:06.649120Z",
     "iopub.status.busy": "2023-02-23T09:44:06.648482Z",
     "iopub.status.idle": "2023-02-23T09:44:06.657774Z",
     "shell.execute_reply": "2023-02-23T09:44:06.657045Z"
    }
   },
   "outputs": [
    {
     "data": {
      "text/plain": [
       "Batch(\n",
       "    a: tensor([[[ 0.5375,  0.1991,  0.7136],\n",
       "                [ 1.0259, -0.3141,  1.7013]],\n",
       "       \n",
       "               [[ 0.5375,  0.1991,  0.7136],\n",
       "                [ 1.0259, -0.3141,  1.7013]],\n",
       "       \n",
       "               [[ 0.5375,  0.1991,  0.7136],\n",
       "                [ 1.0259, -0.3141,  1.7013]],\n",
       "       \n",
       "               [[ 0.5375,  0.1991,  0.7136],\n",
       "                [ 1.0259, -0.3141,  1.7013]],\n",
       "       \n",
       "               [[ 0.5375,  0.1991,  0.7136],\n",
       "                [ 1.0259, -0.3141,  1.7013]],\n",
       "       \n",
       "               [[ 0.5375,  0.1991,  0.7136],\n",
       "                [ 1.0259, -0.3141,  1.7013]],\n",
       "       \n",
       "               [[ 0.5375,  0.1991,  0.7136],\n",
       "                [ 1.0259, -0.3141,  1.7013]],\n",
       "       \n",
       "               [[ 0.5375,  0.1991,  0.7136],\n",
       "                [ 1.0259, -0.3141,  1.7013]]]),\n",
       "    x: Batch(\n",
       "           c: tensor([[[-0.1177,  0.2996, -0.3899, -0.0568],\n",
       "                       [ 1.9513,  0.0644,  1.0288, -1.8989],\n",
       "                       [ 0.3587, -1.0831, -0.7567, -0.3360]],\n",
       "              \n",
       "                      [[-0.1177,  0.2996, -0.3899, -0.0568],\n",
       "                       [ 1.9513,  0.0644,  1.0288, -1.8989],\n",
       "                       [ 0.3587, -1.0831, -0.7567, -0.3360]],\n",
       "              \n",
       "                      [[-0.1177,  0.2996, -0.3899, -0.0568],\n",
       "                       [ 1.9513,  0.0644,  1.0288, -1.8989],\n",
       "                       [ 0.3587, -1.0831, -0.7567, -0.3360]],\n",
       "              \n",
       "                      [[-0.1177,  0.2996, -0.3899, -0.0568],\n",
       "                       [ 1.9513,  0.0644,  1.0288, -1.8989],\n",
       "                       [ 0.3587, -1.0831, -0.7567, -0.3360]],\n",
       "              \n",
       "                      [[-0.1177,  0.2996, -0.3899, -0.0568],\n",
       "                       [ 1.9513,  0.0644,  1.0288, -1.8989],\n",
       "                       [ 0.3587, -1.0831, -0.7567, -0.3360]],\n",
       "              \n",
       "                      [[-0.1177,  0.2996, -0.3899, -0.0568],\n",
       "                       [ 1.9513,  0.0644,  1.0288, -1.8989],\n",
       "                       [ 0.3587, -1.0831, -0.7567, -0.3360]],\n",
       "              \n",
       "                      [[-0.1177,  0.2996, -0.3899, -0.0568],\n",
       "                       [ 1.9513,  0.0644,  1.0288, -1.8989],\n",
       "                       [ 0.3587, -1.0831, -0.7567, -0.3360]],\n",
       "              \n",
       "                      [[-0.1177,  0.2996, -0.3899, -0.0568],\n",
       "                       [ 1.9513,  0.0644,  1.0288, -1.8989],\n",
       "                       [ 0.3587, -1.0831, -0.7567, -0.3360]]]),\n",
       "       ),\n",
       ")"
      ]
     },
     "execution_count": 25,
     "metadata": {},
     "output_type": "execute_result"
    }
   ],
   "source": [
    "batches = [Batch(**_TREE_DATA_2) for _ in range(8)]\n",
    "\n",
    "Batch.stack(batches)"
   ]
  },
  {
   "cell_type": "code",
   "execution_count": 26,
   "id": "ec9037a3",
   "metadata": {
    "execution": {
     "iopub.execute_input": "2023-02-23T09:44:06.661261Z",
     "iopub.status.busy": "2023-02-23T09:44:06.660593Z",
     "iopub.status.idle": "2023-02-23T09:44:14.051227Z",
     "shell.execute_reply": "2023-02-23T09:44:14.049936Z"
    }
   },
   "outputs": [
    {
     "name": "stdout",
     "output_type": "stream",
     "text": [
      "90.9 µs ± 251 ns per loop (mean ± std. dev. of 7 runs, 10,000 loops each)\n"
     ]
    }
   ],
   "source": [
    "%timeit Batch.stack(batches)"
   ]
  },
  {
   "cell_type": "code",
   "execution_count": 27,
   "id": "cb8ab77e",
   "metadata": {
    "execution": {
     "iopub.execute_input": "2023-02-23T09:44:14.055433Z",
     "iopub.status.busy": "2023-02-23T09:44:14.054760Z",
     "iopub.status.idle": "2023-02-23T09:44:14.063721Z",
     "shell.execute_reply": "2023-02-23T09:44:14.062964Z"
    }
   },
   "outputs": [
    {
     "data": {
      "text/plain": [
       "Batch(\n",
       "    a: tensor([[ 0.5375,  0.1991,  0.7136],\n",
       "               [ 1.0259, -0.3141,  1.7013],\n",
       "               [ 0.5375,  0.1991,  0.7136],\n",
       "               [ 1.0259, -0.3141,  1.7013],\n",
       "               [ 0.5375,  0.1991,  0.7136],\n",
       "               [ 1.0259, -0.3141,  1.7013],\n",
       "               [ 0.5375,  0.1991,  0.7136],\n",
       "               [ 1.0259, -0.3141,  1.7013],\n",
       "               [ 0.5375,  0.1991,  0.7136],\n",
       "               [ 1.0259, -0.3141,  1.7013],\n",
       "               [ 0.5375,  0.1991,  0.7136],\n",
       "               [ 1.0259, -0.3141,  1.7013],\n",
       "               [ 0.5375,  0.1991,  0.7136],\n",
       "               [ 1.0259, -0.3141,  1.7013],\n",
       "               [ 0.5375,  0.1991,  0.7136],\n",
       "               [ 1.0259, -0.3141,  1.7013]]),\n",
       "    x: Batch(\n",
       "           c: tensor([[-0.1177,  0.2996, -0.3899, -0.0568],\n",
       "                      [ 1.9513,  0.0644,  1.0288, -1.8989],\n",
       "                      [ 0.3587, -1.0831, -0.7567, -0.3360],\n",
       "                      [-0.1177,  0.2996, -0.3899, -0.0568],\n",
       "                      [ 1.9513,  0.0644,  1.0288, -1.8989],\n",
       "                      [ 0.3587, -1.0831, -0.7567, -0.3360],\n",
       "                      [-0.1177,  0.2996, -0.3899, -0.0568],\n",
       "                      [ 1.9513,  0.0644,  1.0288, -1.8989],\n",
       "                      [ 0.3587, -1.0831, -0.7567, -0.3360],\n",
       "                      [-0.1177,  0.2996, -0.3899, -0.0568],\n",
       "                      [ 1.9513,  0.0644,  1.0288, -1.8989],\n",
       "                      [ 0.3587, -1.0831, -0.7567, -0.3360],\n",
       "                      [-0.1177,  0.2996, -0.3899, -0.0568],\n",
       "                      [ 1.9513,  0.0644,  1.0288, -1.8989],\n",
       "                      [ 0.3587, -1.0831, -0.7567, -0.3360],\n",
       "                      [-0.1177,  0.2996, -0.3899, -0.0568],\n",
       "                      [ 1.9513,  0.0644,  1.0288, -1.8989],\n",
       "                      [ 0.3587, -1.0831, -0.7567, -0.3360],\n",
       "                      [-0.1177,  0.2996, -0.3899, -0.0568],\n",
       "                      [ 1.9513,  0.0644,  1.0288, -1.8989],\n",
       "                      [ 0.3587, -1.0831, -0.7567, -0.3360],\n",
       "                      [-0.1177,  0.2996, -0.3899, -0.0568],\n",
       "                      [ 1.9513,  0.0644,  1.0288, -1.8989],\n",
       "                      [ 0.3587, -1.0831, -0.7567, -0.3360]]),\n",
       "       ),\n",
       ")"
      ]
     },
     "execution_count": 27,
     "metadata": {},
     "output_type": "execute_result"
    }
   ],
   "source": [
    "Batch.cat(batches)"
   ]
  },
  {
   "cell_type": "code",
   "execution_count": 28,
   "id": "18dfb045",
   "metadata": {
    "execution": {
     "iopub.execute_input": "2023-02-23T09:44:14.066972Z",
     "iopub.status.busy": "2023-02-23T09:44:14.066551Z",
     "iopub.status.idle": "2023-02-23T09:44:27.690413Z",
     "shell.execute_reply": "2023-02-23T09:44:27.689199Z"
    }
   },
   "outputs": [
    {
     "name": "stdout",
     "output_type": "stream",
     "text": [
      "168 µs ± 242 ns per loop (mean ± std. dev. of 7 runs, 10,000 loops each)\n"
     ]
    }
   ],
   "source": [
    "%timeit Batch.cat(batches)"
   ]
  },
  {
   "cell_type": "code",
   "execution_count": 29,
   "id": "c6688e51",
   "metadata": {
    "execution": {
     "iopub.execute_input": "2023-02-23T09:44:27.694579Z",
     "iopub.status.busy": "2023-02-23T09:44:27.693866Z",
     "iopub.status.idle": "2023-02-23T09:44:30.835103Z",
     "shell.execute_reply": "2023-02-23T09:44:30.833924Z"
    }
   },
   "outputs": [
    {
     "name": "stdout",
     "output_type": "stream",
     "text": [
      "385 µs ± 935 ns per loop (mean ± std. dev. of 7 runs, 1,000 loops each)\n"
     ]
    }
   ],
   "source": [
    "batch = Batch({\n",
    "    'obs': torch.randn(8, 4, 84, 84),\n",
    "    'action': torch.randint(0, 6, size=(8, 1,)),\n",
    "    'reward': torch.rand(8, 1)}\n",
    ")\n",
    "\n",
    "%timeit list(Batch.split(batch, 1, shuffle=False, merge_last=True))"
   ]
  },
  {
   "cell_type": "code",
   "execution_count": null,
   "id": "2539fbd9",
   "metadata": {},
   "outputs": [],
   "source": []
  }
 ],
 "metadata": {
  "kernelspec": {
   "display_name": "Python 3 (ipykernel)",
   "language": "python",
   "name": "python3"
  },
  "language_info": {
   "codemirror_mode": {
    "name": "ipython",
    "version": 3
   },
   "file_extension": ".py",
   "mimetype": "text/x-python",
   "name": "python",
   "nbconvert_exporter": "python",
   "pygments_lexer": "ipython3",
   "version": "3.8.16"
  }
 },
 "nbformat": 4,
 "nbformat_minor": 5
}
