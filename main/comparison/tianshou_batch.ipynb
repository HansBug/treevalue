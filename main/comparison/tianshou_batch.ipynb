{
 "cells": [
  {
   "cell_type": "markdown",
   "id": "9d39d946",
   "metadata": {},
   "source": [
    "# Comparison Between TreeValue and Tianshou Batch"
   ]
  },
  {
   "cell_type": "markdown",
   "id": "3c6db2d4",
   "metadata": {},
   "source": [
    "In this section, we will take a look at the feature and performance of the [Tianshou Batch](https://github.com/thu-ml/tianshou) library, which is developed by Tsinghua Machine Learning Group."
   ]
  },
  {
   "cell_type": "markdown",
   "id": "069361b0",
   "metadata": {},
   "source": [
    "Before starting the comparison, let us define some thing."
   ]
  },
  {
   "cell_type": "code",
   "execution_count": 1,
   "id": "06fc8d26",
   "metadata": {
    "execution": {
     "iopub.execute_input": "2023-02-25T20:04:09.010174Z",
     "iopub.status.busy": "2023-02-25T20:04:09.009880Z",
     "iopub.status.idle": "2023-02-25T20:04:10.005292Z",
     "shell.execute_reply": "2023-02-25T20:04:10.004488Z"
    }
   },
   "outputs": [
    {
     "name": "stderr",
     "output_type": "stream",
     "text": [
      "/opt/hostedtoolcache/Python/3.8.16/x64/lib/python3.8/site-packages/tqdm/auto.py:22: TqdmWarning: IProgress not found. Please update jupyter and ipywidgets. See https://ipywidgets.readthedocs.io/en/stable/user_install.html\n",
      "  from .autonotebook import tqdm as notebook_tqdm\n"
     ]
    }
   ],
   "source": [
    "import torch \n",
    "\n",
    "_TREE_DATA_1 = {'a': 1, 'b': 2, 'x': {'c': 3, 'd': 4}}\n",
    "_TREE_DATA_2 = {\n",
    "    'a': torch.randn(2, 3), \n",
    "    'x': {\n",
    "        'c': torch.randn(3, 4)\n",
    "    },\n",
    "}\n",
    "_TREE_DATA_3 = {\n",
    "    'obs': torch.randn(4, 84, 84),\n",
    "    'action': torch.randint(0, 6, size=(1,)),\n",
    "    'reward': torch.rand(1),\n",
    "}"
   ]
  },
  {
   "cell_type": "markdown",
   "id": "83461b25",
   "metadata": {},
   "source": [
    "## Read and Write Operation"
   ]
  },
  {
   "cell_type": "markdown",
   "id": "067b3f73",
   "metadata": {},
   "source": [
    "Reading and writing are the two most common operations in the tree data structure based on the data model (TreeValue and Tianshou Batch both belong to this type), so this section will compare the reading and writing performance of these two libraries."
   ]
  },
  {
   "cell_type": "markdown",
   "id": "5d09a5b7",
   "metadata": {},
   "source": [
    "### TreeValue's Get and Set"
   ]
  },
  {
   "cell_type": "code",
   "execution_count": 2,
   "id": "9519c4bb",
   "metadata": {
    "execution": {
     "iopub.execute_input": "2023-02-25T20:04:10.009057Z",
     "iopub.status.busy": "2023-02-25T20:04:10.008612Z",
     "iopub.status.idle": "2023-02-25T20:04:10.044848Z",
     "shell.execute_reply": "2023-02-25T20:04:10.044137Z"
    }
   },
   "outputs": [],
   "source": [
    "from treevalue import FastTreeValue\n",
    "\n",
    "t = FastTreeValue(_TREE_DATA_2)"
   ]
  },
  {
   "cell_type": "code",
   "execution_count": 3,
   "id": "11c37677",
   "metadata": {
    "execution": {
     "iopub.execute_input": "2023-02-25T20:04:10.048074Z",
     "iopub.status.busy": "2023-02-25T20:04:10.047653Z",
     "iopub.status.idle": "2023-02-25T20:04:10.058555Z",
     "shell.execute_reply": "2023-02-25T20:04:10.057960Z"
    }
   },
   "outputs": [
    {
     "data": {
      "text/plain": [
       "<FastTreeValue 0x7fb8f4152310>\n",
       "├── 'a' --> tensor([[-0.4014, -0.9856, -1.0800],\n",
       "│                   [-0.3798, -1.1935, -2.4475]])\n",
       "└── 'x' --> <FastTreeValue 0x7fb8f4152190>\n",
       "    └── 'c' --> tensor([[-0.7724,  0.6396,  1.0891, -0.0686],\n",
       "                        [ 0.6082,  0.2599,  0.4382, -0.6928],\n",
       "                        [ 0.3257, -0.0069,  0.2315, -0.1226]])"
      ]
     },
     "execution_count": 3,
     "metadata": {},
     "output_type": "execute_result"
    }
   ],
   "source": [
    "t"
   ]
  },
  {
   "cell_type": "code",
   "execution_count": 4,
   "id": "fd70b0b9",
   "metadata": {
    "execution": {
     "iopub.execute_input": "2023-02-25T20:04:10.061574Z",
     "iopub.status.busy": "2023-02-25T20:04:10.060976Z",
     "iopub.status.idle": "2023-02-25T20:04:10.067202Z",
     "shell.execute_reply": "2023-02-25T20:04:10.066589Z"
    }
   },
   "outputs": [
    {
     "data": {
      "text/plain": [
       "tensor([[-0.4014, -0.9856, -1.0800],\n",
       "        [-0.3798, -1.1935, -2.4475]])"
      ]
     },
     "execution_count": 4,
     "metadata": {},
     "output_type": "execute_result"
    }
   ],
   "source": [
    "t.a"
   ]
  },
  {
   "cell_type": "code",
   "execution_count": 5,
   "id": "c18197bd",
   "metadata": {
    "execution": {
     "iopub.execute_input": "2023-02-25T20:04:10.070103Z",
     "iopub.status.busy": "2023-02-25T20:04:10.069748Z",
     "iopub.status.idle": "2023-02-25T20:04:15.386950Z",
     "shell.execute_reply": "2023-02-25T20:04:15.385989Z"
    }
   },
   "outputs": [
    {
     "name": "stdout",
     "output_type": "stream",
     "text": [
      "65.3 ns ± 0.0447 ns per loop (mean ± std. dev. of 7 runs, 10,000,000 loops each)\n"
     ]
    }
   ],
   "source": [
    "%timeit t.a"
   ]
  },
  {
   "cell_type": "code",
   "execution_count": 6,
   "id": "bd52f867",
   "metadata": {
    "execution": {
     "iopub.execute_input": "2023-02-25T20:04:15.390157Z",
     "iopub.status.busy": "2023-02-25T20:04:15.389781Z",
     "iopub.status.idle": "2023-02-25T20:04:15.397867Z",
     "shell.execute_reply": "2023-02-25T20:04:15.396842Z"
    }
   },
   "outputs": [
    {
     "data": {
      "text/plain": [
       "<FastTreeValue 0x7fb8f4152310>\n",
       "├── 'a' --> tensor([[-1.5062, -0.8381, -0.9479],\n",
       "│                   [-1.0839,  0.7562, -1.7068]])\n",
       "└── 'x' --> <FastTreeValue 0x7fb8f4152190>\n",
       "    └── 'c' --> tensor([[-0.7724,  0.6396,  1.0891, -0.0686],\n",
       "                        [ 0.6082,  0.2599,  0.4382, -0.6928],\n",
       "                        [ 0.3257, -0.0069,  0.2315, -0.1226]])"
      ]
     },
     "execution_count": 6,
     "metadata": {},
     "output_type": "execute_result"
    }
   ],
   "source": [
    "new_value = torch.randn(2, 3)\n",
    "t.a = new_value\n",
    "\n",
    "t"
   ]
  },
  {
   "cell_type": "code",
   "execution_count": 7,
   "id": "bbe04d1c",
   "metadata": {
    "execution": {
     "iopub.execute_input": "2023-02-25T20:04:15.400743Z",
     "iopub.status.busy": "2023-02-25T20:04:15.400385Z",
     "iopub.status.idle": "2023-02-25T20:04:21.444915Z",
     "shell.execute_reply": "2023-02-25T20:04:21.444093Z"
    }
   },
   "outputs": [
    {
     "name": "stdout",
     "output_type": "stream",
     "text": [
      "74.3 ns ± 0.0294 ns per loop (mean ± std. dev. of 7 runs, 10,000,000 loops each)\n"
     ]
    }
   ],
   "source": [
    "%timeit t.a = new_value"
   ]
  },
  {
   "cell_type": "markdown",
   "id": "48c49731",
   "metadata": {},
   "source": [
    "### Tianshou Batch's Get and Set"
   ]
  },
  {
   "cell_type": "code",
   "execution_count": 8,
   "id": "f1bb14c1",
   "metadata": {
    "execution": {
     "iopub.execute_input": "2023-02-25T20:04:21.448038Z",
     "iopub.status.busy": "2023-02-25T20:04:21.447583Z",
     "iopub.status.idle": "2023-02-25T20:04:21.814205Z",
     "shell.execute_reply": "2023-02-25T20:04:21.813451Z"
    }
   },
   "outputs": [],
   "source": [
    "from tianshou.data import Batch\n",
    "\n",
    "b = Batch(**_TREE_DATA_2)"
   ]
  },
  {
   "cell_type": "code",
   "execution_count": 9,
   "id": "cb0777c3",
   "metadata": {
    "execution": {
     "iopub.execute_input": "2023-02-25T20:04:21.817518Z",
     "iopub.status.busy": "2023-02-25T20:04:21.817014Z",
     "iopub.status.idle": "2023-02-25T20:04:21.822946Z",
     "shell.execute_reply": "2023-02-25T20:04:21.822261Z"
    }
   },
   "outputs": [
    {
     "data": {
      "text/plain": [
       "Batch(\n",
       "    a: tensor([[-0.4014, -0.9856, -1.0800],\n",
       "               [-0.3798, -1.1935, -2.4475]]),\n",
       "    x: Batch(\n",
       "           c: tensor([[-0.7724,  0.6396,  1.0891, -0.0686],\n",
       "                      [ 0.6082,  0.2599,  0.4382, -0.6928],\n",
       "                      [ 0.3257, -0.0069,  0.2315, -0.1226]]),\n",
       "       ),\n",
       ")"
      ]
     },
     "execution_count": 9,
     "metadata": {},
     "output_type": "execute_result"
    }
   ],
   "source": [
    "b"
   ]
  },
  {
   "cell_type": "code",
   "execution_count": 10,
   "id": "43ef8ea3",
   "metadata": {
    "execution": {
     "iopub.execute_input": "2023-02-25T20:04:21.826062Z",
     "iopub.status.busy": "2023-02-25T20:04:21.825613Z",
     "iopub.status.idle": "2023-02-25T20:04:21.831468Z",
     "shell.execute_reply": "2023-02-25T20:04:21.830863Z"
    }
   },
   "outputs": [
    {
     "data": {
      "text/plain": [
       "tensor([[-0.4014, -0.9856, -1.0800],\n",
       "        [-0.3798, -1.1935, -2.4475]])"
      ]
     },
     "execution_count": 10,
     "metadata": {},
     "output_type": "execute_result"
    }
   ],
   "source": [
    "b.a"
   ]
  },
  {
   "cell_type": "code",
   "execution_count": 11,
   "id": "b785ab72",
   "metadata": {
    "execution": {
     "iopub.execute_input": "2023-02-25T20:04:21.834091Z",
     "iopub.status.busy": "2023-02-25T20:04:21.833749Z",
     "iopub.status.idle": "2023-02-25T20:04:26.560891Z",
     "shell.execute_reply": "2023-02-25T20:04:26.560066Z"
    }
   },
   "outputs": [
    {
     "name": "stdout",
     "output_type": "stream",
     "text": [
      "58.2 ns ± 0.105 ns per loop (mean ± std. dev. of 7 runs, 10,000,000 loops each)\n"
     ]
    }
   ],
   "source": [
    "%timeit b.a"
   ]
  },
  {
   "cell_type": "code",
   "execution_count": 12,
   "id": "ad54dc69",
   "metadata": {
    "execution": {
     "iopub.execute_input": "2023-02-25T20:04:26.564042Z",
     "iopub.status.busy": "2023-02-25T20:04:26.563573Z",
     "iopub.status.idle": "2023-02-25T20:04:26.570506Z",
     "shell.execute_reply": "2023-02-25T20:04:26.569879Z"
    }
   },
   "outputs": [
    {
     "data": {
      "text/plain": [
       "Batch(\n",
       "    a: tensor([[ 0.7499, -0.4032,  1.7621],\n",
       "               [-1.5287, -0.1927,  0.2334]]),\n",
       "    x: Batch(\n",
       "           c: tensor([[-0.7724,  0.6396,  1.0891, -0.0686],\n",
       "                      [ 0.6082,  0.2599,  0.4382, -0.6928],\n",
       "                      [ 0.3257, -0.0069,  0.2315, -0.1226]]),\n",
       "       ),\n",
       ")"
      ]
     },
     "execution_count": 12,
     "metadata": {},
     "output_type": "execute_result"
    }
   ],
   "source": [
    "new_value = torch.randn(2, 3)\n",
    "b.a = new_value\n",
    "\n",
    "b"
   ]
  },
  {
   "cell_type": "code",
   "execution_count": 13,
   "id": "29b1d0bf",
   "metadata": {
    "execution": {
     "iopub.execute_input": "2023-02-25T20:04:26.573589Z",
     "iopub.status.busy": "2023-02-25T20:04:26.573110Z",
     "iopub.status.idle": "2023-02-25T20:04:30.584534Z",
     "shell.execute_reply": "2023-02-25T20:04:30.583676Z"
    }
   },
   "outputs": [
    {
     "name": "stdout",
     "output_type": "stream",
     "text": [
      "494 ns ± 0.114 ns per loop (mean ± std. dev. of 7 runs, 1,000,000 loops each)\n"
     ]
    }
   ],
   "source": [
    "%timeit b.a = new_value"
   ]
  },
  {
   "cell_type": "markdown",
   "id": "b61ad1d0",
   "metadata": {},
   "source": [
    "## Initialization"
   ]
  },
  {
   "cell_type": "markdown",
   "id": "d70f0d54",
   "metadata": {},
   "source": [
    "### TreeValue's Initialization"
   ]
  },
  {
   "cell_type": "code",
   "execution_count": 14,
   "id": "d32a679b",
   "metadata": {
    "execution": {
     "iopub.execute_input": "2023-02-25T20:04:30.587703Z",
     "iopub.status.busy": "2023-02-25T20:04:30.587213Z",
     "iopub.status.idle": "2023-02-25T20:04:37.918154Z",
     "shell.execute_reply": "2023-02-25T20:04:37.917199Z"
    }
   },
   "outputs": [
    {
     "name": "stdout",
     "output_type": "stream",
     "text": [
      "904 ns ± 6.27 ns per loop (mean ± std. dev. of 7 runs, 1,000,000 loops each)\n"
     ]
    }
   ],
   "source": [
    "%timeit FastTreeValue(_TREE_DATA_1)"
   ]
  },
  {
   "cell_type": "markdown",
   "id": "24f3707b",
   "metadata": {},
   "source": [
    "### Tianshou Batch's Initialization"
   ]
  },
  {
   "cell_type": "code",
   "execution_count": 15,
   "id": "ac3958df",
   "metadata": {
    "execution": {
     "iopub.execute_input": "2023-02-25T20:04:37.922064Z",
     "iopub.status.busy": "2023-02-25T20:04:37.921424Z",
     "iopub.status.idle": "2023-02-25T20:04:46.748485Z",
     "shell.execute_reply": "2023-02-25T20:04:46.747344Z"
    }
   },
   "outputs": [
    {
     "name": "stdout",
     "output_type": "stream",
     "text": [
      "10.9 µs ± 18.8 ns per loop (mean ± std. dev. of 7 runs, 100,000 loops each)\n"
     ]
    }
   ],
   "source": [
    "%timeit Batch(**_TREE_DATA_1)"
   ]
  },
  {
   "cell_type": "markdown",
   "id": "1ab82e2d",
   "metadata": {},
   "source": [
    "## Deep Copy Operation"
   ]
  },
  {
   "cell_type": "code",
   "execution_count": 16,
   "id": "210a9442",
   "metadata": {
    "execution": {
     "iopub.execute_input": "2023-02-25T20:04:46.752072Z",
     "iopub.status.busy": "2023-02-25T20:04:46.751436Z",
     "iopub.status.idle": "2023-02-25T20:04:46.755326Z",
     "shell.execute_reply": "2023-02-25T20:04:46.754654Z"
    }
   },
   "outputs": [],
   "source": [
    "import copy"
   ]
  },
  {
   "cell_type": "markdown",
   "id": "5a736274",
   "metadata": {},
   "source": [
    "### Deep Copy of TreeValue"
   ]
  },
  {
   "cell_type": "code",
   "execution_count": 17,
   "id": "f9bcadd6",
   "metadata": {
    "execution": {
     "iopub.execute_input": "2023-02-25T20:04:46.757980Z",
     "iopub.status.busy": "2023-02-25T20:04:46.757755Z",
     "iopub.status.idle": "2023-02-25T20:04:58.499826Z",
     "shell.execute_reply": "2023-02-25T20:04:58.499204Z"
    }
   },
   "outputs": [
    {
     "name": "stdout",
     "output_type": "stream",
     "text": [
      "145 µs ± 258 ns per loop (mean ± std. dev. of 7 runs, 10,000 loops each)\n"
     ]
    }
   ],
   "source": [
    "t3 = FastTreeValue(_TREE_DATA_3)\n",
    "%timeit copy.deepcopy(t3)"
   ]
  },
  {
   "cell_type": "markdown",
   "id": "bf8be7ea",
   "metadata": {},
   "source": [
    "### Deep Copy of Tianshou Batch"
   ]
  },
  {
   "cell_type": "code",
   "execution_count": 18,
   "id": "91998e6f",
   "metadata": {
    "execution": {
     "iopub.execute_input": "2023-02-25T20:04:58.502689Z",
     "iopub.status.busy": "2023-02-25T20:04:58.502193Z",
     "iopub.status.idle": "2023-02-25T20:05:10.218744Z",
     "shell.execute_reply": "2023-02-25T20:05:10.217988Z"
    }
   },
   "outputs": [
    {
     "name": "stdout",
     "output_type": "stream",
     "text": [
      "144 µs ± 386 ns per loop (mean ± std. dev. of 7 runs, 10,000 loops each)\n"
     ]
    }
   ],
   "source": [
    "b3 = Batch(**_TREE_DATA_3)\n",
    "%timeit copy.deepcopy(b3)"
   ]
  },
  {
   "cell_type": "markdown",
   "id": "223162fb",
   "metadata": {},
   "source": [
    "## Stack, Concat and Split Operation"
   ]
  },
  {
   "cell_type": "markdown",
   "id": "85fa4a73",
   "metadata": {},
   "source": [
    "### Performance of TreeValue"
   ]
  },
  {
   "cell_type": "code",
   "execution_count": 19,
   "id": "a0c2b697",
   "metadata": {
    "execution": {
     "iopub.execute_input": "2023-02-25T20:05:10.222185Z",
     "iopub.status.busy": "2023-02-25T20:05:10.221933Z",
     "iopub.status.idle": "2023-02-25T20:05:10.226224Z",
     "shell.execute_reply": "2023-02-25T20:05:10.225599Z"
    }
   },
   "outputs": [],
   "source": [
    "trees = [FastTreeValue(_TREE_DATA_2) for _ in range(8)]"
   ]
  },
  {
   "cell_type": "code",
   "execution_count": 20,
   "id": "017ea5a5",
   "metadata": {
    "execution": {
     "iopub.execute_input": "2023-02-25T20:05:10.229043Z",
     "iopub.status.busy": "2023-02-25T20:05:10.228806Z",
     "iopub.status.idle": "2023-02-25T20:05:10.237216Z",
     "shell.execute_reply": "2023-02-25T20:05:10.236597Z"
    }
   },
   "outputs": [
    {
     "data": {
      "text/plain": [
       "<FastTreeValue 0x7fb849dfbf40>\n",
       "├── 'a' --> tensor([[[-0.4014, -0.9856, -1.0800],\n",
       "│                    [-0.3798, -1.1935, -2.4475]],\n",
       "│           \n",
       "│                   [[-0.4014, -0.9856, -1.0800],\n",
       "│                    [-0.3798, -1.1935, -2.4475]],\n",
       "│           \n",
       "│                   [[-0.4014, -0.9856, -1.0800],\n",
       "│                    [-0.3798, -1.1935, -2.4475]],\n",
       "│           \n",
       "│                   [[-0.4014, -0.9856, -1.0800],\n",
       "│                    [-0.3798, -1.1935, -2.4475]],\n",
       "│           \n",
       "│                   [[-0.4014, -0.9856, -1.0800],\n",
       "│                    [-0.3798, -1.1935, -2.4475]],\n",
       "│           \n",
       "│                   [[-0.4014, -0.9856, -1.0800],\n",
       "│                    [-0.3798, -1.1935, -2.4475]],\n",
       "│           \n",
       "│                   [[-0.4014, -0.9856, -1.0800],\n",
       "│                    [-0.3798, -1.1935, -2.4475]],\n",
       "│           \n",
       "│                   [[-0.4014, -0.9856, -1.0800],\n",
       "│                    [-0.3798, -1.1935, -2.4475]]])\n",
       "└── 'x' --> <FastTreeValue 0x7fb850a1f250>\n",
       "    └── 'c' --> tensor([[[-0.7724,  0.6396,  1.0891, -0.0686],\n",
       "                         [ 0.6082,  0.2599,  0.4382, -0.6928],\n",
       "                         [ 0.3257, -0.0069,  0.2315, -0.1226]],\n",
       "                \n",
       "                        [[-0.7724,  0.6396,  1.0891, -0.0686],\n",
       "                         [ 0.6082,  0.2599,  0.4382, -0.6928],\n",
       "                         [ 0.3257, -0.0069,  0.2315, -0.1226]],\n",
       "                \n",
       "                        [[-0.7724,  0.6396,  1.0891, -0.0686],\n",
       "                         [ 0.6082,  0.2599,  0.4382, -0.6928],\n",
       "                         [ 0.3257, -0.0069,  0.2315, -0.1226]],\n",
       "                \n",
       "                        [[-0.7724,  0.6396,  1.0891, -0.0686],\n",
       "                         [ 0.6082,  0.2599,  0.4382, -0.6928],\n",
       "                         [ 0.3257, -0.0069,  0.2315, -0.1226]],\n",
       "                \n",
       "                        [[-0.7724,  0.6396,  1.0891, -0.0686],\n",
       "                         [ 0.6082,  0.2599,  0.4382, -0.6928],\n",
       "                         [ 0.3257, -0.0069,  0.2315, -0.1226]],\n",
       "                \n",
       "                        [[-0.7724,  0.6396,  1.0891, -0.0686],\n",
       "                         [ 0.6082,  0.2599,  0.4382, -0.6928],\n",
       "                         [ 0.3257, -0.0069,  0.2315, -0.1226]],\n",
       "                \n",
       "                        [[-0.7724,  0.6396,  1.0891, -0.0686],\n",
       "                         [ 0.6082,  0.2599,  0.4382, -0.6928],\n",
       "                         [ 0.3257, -0.0069,  0.2315, -0.1226]],\n",
       "                \n",
       "                        [[-0.7724,  0.6396,  1.0891, -0.0686],\n",
       "                         [ 0.6082,  0.2599,  0.4382, -0.6928],\n",
       "                         [ 0.3257, -0.0069,  0.2315, -0.1226]]])"
      ]
     },
     "execution_count": 20,
     "metadata": {},
     "output_type": "execute_result"
    }
   ],
   "source": [
    "t_stack = FastTreeValue.func(subside=True)(torch.stack)\n",
    "\n",
    "t_stack(trees)"
   ]
  },
  {
   "cell_type": "code",
   "execution_count": 21,
   "id": "f8b3f415",
   "metadata": {
    "execution": {
     "iopub.execute_input": "2023-02-25T20:05:10.239948Z",
     "iopub.status.busy": "2023-02-25T20:05:10.239709Z",
     "iopub.status.idle": "2023-02-25T20:05:12.827902Z",
     "shell.execute_reply": "2023-02-25T20:05:12.826925Z"
    }
   },
   "outputs": [
    {
     "name": "stdout",
     "output_type": "stream",
     "text": [
      "31.8 µs ± 49.9 ns per loop (mean ± std. dev. of 7 runs, 10,000 loops each)\n"
     ]
    }
   ],
   "source": [
    "%timeit t_stack(trees)"
   ]
  },
  {
   "cell_type": "code",
   "execution_count": 22,
   "id": "94b56771",
   "metadata": {
    "execution": {
     "iopub.execute_input": "2023-02-25T20:05:12.831348Z",
     "iopub.status.busy": "2023-02-25T20:05:12.830685Z",
     "iopub.status.idle": "2023-02-25T20:05:12.840158Z",
     "shell.execute_reply": "2023-02-25T20:05:12.839510Z"
    }
   },
   "outputs": [
    {
     "data": {
      "text/plain": [
       "<FastTreeValue 0x7fb850a1fa00>\n",
       "├── 'a' --> tensor([[-0.4014, -0.9856, -1.0800],\n",
       "│                   [-0.3798, -1.1935, -2.4475],\n",
       "│                   [-0.4014, -0.9856, -1.0800],\n",
       "│                   [-0.3798, -1.1935, -2.4475],\n",
       "│                   [-0.4014, -0.9856, -1.0800],\n",
       "│                   [-0.3798, -1.1935, -2.4475],\n",
       "│                   [-0.4014, -0.9856, -1.0800],\n",
       "│                   [-0.3798, -1.1935, -2.4475],\n",
       "│                   [-0.4014, -0.9856, -1.0800],\n",
       "│                   [-0.3798, -1.1935, -2.4475],\n",
       "│                   [-0.4014, -0.9856, -1.0800],\n",
       "│                   [-0.3798, -1.1935, -2.4475],\n",
       "│                   [-0.4014, -0.9856, -1.0800],\n",
       "│                   [-0.3798, -1.1935, -2.4475],\n",
       "│                   [-0.4014, -0.9856, -1.0800],\n",
       "│                   [-0.3798, -1.1935, -2.4475]])\n",
       "└── 'x' --> <FastTreeValue 0x7fb84a549070>\n",
       "    └── 'c' --> tensor([[-0.7724,  0.6396,  1.0891, -0.0686],\n",
       "                        [ 0.6082,  0.2599,  0.4382, -0.6928],\n",
       "                        [ 0.3257, -0.0069,  0.2315, -0.1226],\n",
       "                        [-0.7724,  0.6396,  1.0891, -0.0686],\n",
       "                        [ 0.6082,  0.2599,  0.4382, -0.6928],\n",
       "                        [ 0.3257, -0.0069,  0.2315, -0.1226],\n",
       "                        [-0.7724,  0.6396,  1.0891, -0.0686],\n",
       "                        [ 0.6082,  0.2599,  0.4382, -0.6928],\n",
       "                        [ 0.3257, -0.0069,  0.2315, -0.1226],\n",
       "                        [-0.7724,  0.6396,  1.0891, -0.0686],\n",
       "                        [ 0.6082,  0.2599,  0.4382, -0.6928],\n",
       "                        [ 0.3257, -0.0069,  0.2315, -0.1226],\n",
       "                        [-0.7724,  0.6396,  1.0891, -0.0686],\n",
       "                        [ 0.6082,  0.2599,  0.4382, -0.6928],\n",
       "                        [ 0.3257, -0.0069,  0.2315, -0.1226],\n",
       "                        [-0.7724,  0.6396,  1.0891, -0.0686],\n",
       "                        [ 0.6082,  0.2599,  0.4382, -0.6928],\n",
       "                        [ 0.3257, -0.0069,  0.2315, -0.1226],\n",
       "                        [-0.7724,  0.6396,  1.0891, -0.0686],\n",
       "                        [ 0.6082,  0.2599,  0.4382, -0.6928],\n",
       "                        [ 0.3257, -0.0069,  0.2315, -0.1226],\n",
       "                        [-0.7724,  0.6396,  1.0891, -0.0686],\n",
       "                        [ 0.6082,  0.2599,  0.4382, -0.6928],\n",
       "                        [ 0.3257, -0.0069,  0.2315, -0.1226]])"
      ]
     },
     "execution_count": 22,
     "metadata": {},
     "output_type": "execute_result"
    }
   ],
   "source": [
    "t_cat = FastTreeValue.func(subside=True)(torch.cat)\n",
    "\n",
    "t_cat(trees)"
   ]
  },
  {
   "cell_type": "code",
   "execution_count": 23,
   "id": "5e9c06a6",
   "metadata": {
    "execution": {
     "iopub.execute_input": "2023-02-25T20:05:12.843168Z",
     "iopub.status.busy": "2023-02-25T20:05:12.842794Z",
     "iopub.status.idle": "2023-02-25T20:05:15.246069Z",
     "shell.execute_reply": "2023-02-25T20:05:15.245162Z"
    }
   },
   "outputs": [
    {
     "name": "stdout",
     "output_type": "stream",
     "text": [
      "29.5 µs ± 166 ns per loop (mean ± std. dev. of 7 runs, 10,000 loops each)\n"
     ]
    }
   ],
   "source": [
    "%timeit t_cat(trees)"
   ]
  },
  {
   "cell_type": "code",
   "execution_count": 24,
   "id": "a3ab5c8f",
   "metadata": {
    "execution": {
     "iopub.execute_input": "2023-02-25T20:05:15.250058Z",
     "iopub.status.busy": "2023-02-25T20:05:15.249396Z",
     "iopub.status.idle": "2023-02-25T20:05:19.853200Z",
     "shell.execute_reply": "2023-02-25T20:05:19.852320Z"
    }
   },
   "outputs": [
    {
     "name": "stdout",
     "output_type": "stream",
     "text": [
      "56.6 µs ± 65.3 ns per loop (mean ± std. dev. of 7 runs, 10,000 loops each)\n"
     ]
    }
   ],
   "source": [
    "t_split = FastTreeValue.func(rise=True)(torch.split)\n",
    "tree = FastTreeValue({\n",
    "    'obs': torch.randn(8, 4, 84, 84),\n",
    "    'action': torch.randint(0, 6, size=(8, 1,)),\n",
    "    'reward': torch.rand(8, 1),\n",
    "})\n",
    "\n",
    "%timeit t_split(tree, 1)"
   ]
  },
  {
   "cell_type": "markdown",
   "id": "31c3ec0b",
   "metadata": {},
   "source": [
    "### Performance of Tianshou Batch"
   ]
  },
  {
   "cell_type": "code",
   "execution_count": 25,
   "id": "9ead828a",
   "metadata": {
    "execution": {
     "iopub.execute_input": "2023-02-25T20:05:19.856570Z",
     "iopub.status.busy": "2023-02-25T20:05:19.856021Z",
     "iopub.status.idle": "2023-02-25T20:05:19.864998Z",
     "shell.execute_reply": "2023-02-25T20:05:19.864364Z"
    }
   },
   "outputs": [
    {
     "data": {
      "text/plain": [
       "Batch(\n",
       "    x: Batch(\n",
       "           c: tensor([[[-0.7724,  0.6396,  1.0891, -0.0686],\n",
       "                       [ 0.6082,  0.2599,  0.4382, -0.6928],\n",
       "                       [ 0.3257, -0.0069,  0.2315, -0.1226]],\n",
       "              \n",
       "                      [[-0.7724,  0.6396,  1.0891, -0.0686],\n",
       "                       [ 0.6082,  0.2599,  0.4382, -0.6928],\n",
       "                       [ 0.3257, -0.0069,  0.2315, -0.1226]],\n",
       "              \n",
       "                      [[-0.7724,  0.6396,  1.0891, -0.0686],\n",
       "                       [ 0.6082,  0.2599,  0.4382, -0.6928],\n",
       "                       [ 0.3257, -0.0069,  0.2315, -0.1226]],\n",
       "              \n",
       "                      [[-0.7724,  0.6396,  1.0891, -0.0686],\n",
       "                       [ 0.6082,  0.2599,  0.4382, -0.6928],\n",
       "                       [ 0.3257, -0.0069,  0.2315, -0.1226]],\n",
       "              \n",
       "                      [[-0.7724,  0.6396,  1.0891, -0.0686],\n",
       "                       [ 0.6082,  0.2599,  0.4382, -0.6928],\n",
       "                       [ 0.3257, -0.0069,  0.2315, -0.1226]],\n",
       "              \n",
       "                      [[-0.7724,  0.6396,  1.0891, -0.0686],\n",
       "                       [ 0.6082,  0.2599,  0.4382, -0.6928],\n",
       "                       [ 0.3257, -0.0069,  0.2315, -0.1226]],\n",
       "              \n",
       "                      [[-0.7724,  0.6396,  1.0891, -0.0686],\n",
       "                       [ 0.6082,  0.2599,  0.4382, -0.6928],\n",
       "                       [ 0.3257, -0.0069,  0.2315, -0.1226]],\n",
       "              \n",
       "                      [[-0.7724,  0.6396,  1.0891, -0.0686],\n",
       "                       [ 0.6082,  0.2599,  0.4382, -0.6928],\n",
       "                       [ 0.3257, -0.0069,  0.2315, -0.1226]]]),\n",
       "       ),\n",
       "    a: tensor([[[-0.4014, -0.9856, -1.0800],\n",
       "                [-0.3798, -1.1935, -2.4475]],\n",
       "       \n",
       "               [[-0.4014, -0.9856, -1.0800],\n",
       "                [-0.3798, -1.1935, -2.4475]],\n",
       "       \n",
       "               [[-0.4014, -0.9856, -1.0800],\n",
       "                [-0.3798, -1.1935, -2.4475]],\n",
       "       \n",
       "               [[-0.4014, -0.9856, -1.0800],\n",
       "                [-0.3798, -1.1935, -2.4475]],\n",
       "       \n",
       "               [[-0.4014, -0.9856, -1.0800],\n",
       "                [-0.3798, -1.1935, -2.4475]],\n",
       "       \n",
       "               [[-0.4014, -0.9856, -1.0800],\n",
       "                [-0.3798, -1.1935, -2.4475]],\n",
       "       \n",
       "               [[-0.4014, -0.9856, -1.0800],\n",
       "                [-0.3798, -1.1935, -2.4475]],\n",
       "       \n",
       "               [[-0.4014, -0.9856, -1.0800],\n",
       "                [-0.3798, -1.1935, -2.4475]]]),\n",
       ")"
      ]
     },
     "execution_count": 25,
     "metadata": {},
     "output_type": "execute_result"
    }
   ],
   "source": [
    "batches = [Batch(**_TREE_DATA_2) for _ in range(8)]\n",
    "\n",
    "Batch.stack(batches)"
   ]
  },
  {
   "cell_type": "code",
   "execution_count": 26,
   "id": "ec9037a3",
   "metadata": {
    "execution": {
     "iopub.execute_input": "2023-02-25T20:05:19.867973Z",
     "iopub.status.busy": "2023-02-25T20:05:19.867528Z",
     "iopub.status.idle": "2023-02-25T20:05:26.197759Z",
     "shell.execute_reply": "2023-02-25T20:05:26.196860Z"
    }
   },
   "outputs": [
    {
     "name": "stdout",
     "output_type": "stream",
     "text": [
      "78 µs ± 243 ns per loop (mean ± std. dev. of 7 runs, 10,000 loops each)\n"
     ]
    }
   ],
   "source": [
    "%timeit Batch.stack(batches)"
   ]
  },
  {
   "cell_type": "code",
   "execution_count": 27,
   "id": "cb8ab77e",
   "metadata": {
    "execution": {
     "iopub.execute_input": "2023-02-25T20:05:26.201287Z",
     "iopub.status.busy": "2023-02-25T20:05:26.200891Z",
     "iopub.status.idle": "2023-02-25T20:05:26.209252Z",
     "shell.execute_reply": "2023-02-25T20:05:26.208599Z"
    }
   },
   "outputs": [
    {
     "data": {
      "text/plain": [
       "Batch(\n",
       "    x: Batch(\n",
       "           c: tensor([[-0.7724,  0.6396,  1.0891, -0.0686],\n",
       "                      [ 0.6082,  0.2599,  0.4382, -0.6928],\n",
       "                      [ 0.3257, -0.0069,  0.2315, -0.1226],\n",
       "                      [-0.7724,  0.6396,  1.0891, -0.0686],\n",
       "                      [ 0.6082,  0.2599,  0.4382, -0.6928],\n",
       "                      [ 0.3257, -0.0069,  0.2315, -0.1226],\n",
       "                      [-0.7724,  0.6396,  1.0891, -0.0686],\n",
       "                      [ 0.6082,  0.2599,  0.4382, -0.6928],\n",
       "                      [ 0.3257, -0.0069,  0.2315, -0.1226],\n",
       "                      [-0.7724,  0.6396,  1.0891, -0.0686],\n",
       "                      [ 0.6082,  0.2599,  0.4382, -0.6928],\n",
       "                      [ 0.3257, -0.0069,  0.2315, -0.1226],\n",
       "                      [-0.7724,  0.6396,  1.0891, -0.0686],\n",
       "                      [ 0.6082,  0.2599,  0.4382, -0.6928],\n",
       "                      [ 0.3257, -0.0069,  0.2315, -0.1226],\n",
       "                      [-0.7724,  0.6396,  1.0891, -0.0686],\n",
       "                      [ 0.6082,  0.2599,  0.4382, -0.6928],\n",
       "                      [ 0.3257, -0.0069,  0.2315, -0.1226],\n",
       "                      [-0.7724,  0.6396,  1.0891, -0.0686],\n",
       "                      [ 0.6082,  0.2599,  0.4382, -0.6928],\n",
       "                      [ 0.3257, -0.0069,  0.2315, -0.1226],\n",
       "                      [-0.7724,  0.6396,  1.0891, -0.0686],\n",
       "                      [ 0.6082,  0.2599,  0.4382, -0.6928],\n",
       "                      [ 0.3257, -0.0069,  0.2315, -0.1226]]),\n",
       "       ),\n",
       "    a: tensor([[-0.4014, -0.9856, -1.0800],\n",
       "               [-0.3798, -1.1935, -2.4475],\n",
       "               [-0.4014, -0.9856, -1.0800],\n",
       "               [-0.3798, -1.1935, -2.4475],\n",
       "               [-0.4014, -0.9856, -1.0800],\n",
       "               [-0.3798, -1.1935, -2.4475],\n",
       "               [-0.4014, -0.9856, -1.0800],\n",
       "               [-0.3798, -1.1935, -2.4475],\n",
       "               [-0.4014, -0.9856, -1.0800],\n",
       "               [-0.3798, -1.1935, -2.4475],\n",
       "               [-0.4014, -0.9856, -1.0800],\n",
       "               [-0.3798, -1.1935, -2.4475],\n",
       "               [-0.4014, -0.9856, -1.0800],\n",
       "               [-0.3798, -1.1935, -2.4475],\n",
       "               [-0.4014, -0.9856, -1.0800],\n",
       "               [-0.3798, -1.1935, -2.4475]]),\n",
       ")"
      ]
     },
     "execution_count": 27,
     "metadata": {},
     "output_type": "execute_result"
    }
   ],
   "source": [
    "Batch.cat(batches)"
   ]
  },
  {
   "cell_type": "code",
   "execution_count": 28,
   "id": "18dfb045",
   "metadata": {
    "execution": {
     "iopub.execute_input": "2023-02-25T20:05:26.212152Z",
     "iopub.status.busy": "2023-02-25T20:05:26.211684Z",
     "iopub.status.idle": "2023-02-25T20:05:37.849970Z",
     "shell.execute_reply": "2023-02-25T20:05:37.849086Z"
    }
   },
   "outputs": [
    {
     "name": "stdout",
     "output_type": "stream",
     "text": [
      "143 µs ± 338 ns per loop (mean ± std. dev. of 7 runs, 10,000 loops each)\n"
     ]
    }
   ],
   "source": [
    "%timeit Batch.cat(batches)"
   ]
  },
  {
   "cell_type": "code",
   "execution_count": 29,
   "id": "c6688e51",
   "metadata": {
    "execution": {
     "iopub.execute_input": "2023-02-25T20:05:37.853487Z",
     "iopub.status.busy": "2023-02-25T20:05:37.852914Z",
     "iopub.status.idle": "2023-02-25T20:05:40.548347Z",
     "shell.execute_reply": "2023-02-25T20:05:40.547549Z"
    }
   },
   "outputs": [
    {
     "name": "stdout",
     "output_type": "stream",
     "text": [
      "331 µs ± 795 ns per loop (mean ± std. dev. of 7 runs, 1,000 loops each)\n"
     ]
    }
   ],
   "source": [
    "batch = Batch({\n",
    "    'obs': torch.randn(8, 4, 84, 84),\n",
    "    'action': torch.randint(0, 6, size=(8, 1,)),\n",
    "    'reward': torch.rand(8, 1)}\n",
    ")\n",
    "\n",
    "%timeit list(Batch.split(batch, 1, shuffle=False, merge_last=True))"
   ]
  },
  {
   "cell_type": "code",
   "execution_count": null,
   "id": "2539fbd9",
   "metadata": {},
   "outputs": [],
   "source": []
  }
 ],
 "metadata": {
  "kernelspec": {
   "display_name": "Python 3 (ipykernel)",
   "language": "python",
   "name": "python3"
  },
  "language_info": {
   "codemirror_mode": {
    "name": "ipython",
    "version": 3
   },
   "file_extension": ".py",
   "mimetype": "text/x-python",
   "name": "python",
   "nbconvert_exporter": "python",
   "pygments_lexer": "ipython3",
   "version": "3.8.16"
  }
 },
 "nbformat": 4,
 "nbformat_minor": 5
}
