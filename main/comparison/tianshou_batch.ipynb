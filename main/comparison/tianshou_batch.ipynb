{
 "cells": [
  {
   "cell_type": "markdown",
   "id": "9d39d946",
   "metadata": {},
   "source": [
    "# Comparison Between TreeValue and Tianshou Batch"
   ]
  },
  {
   "cell_type": "markdown",
   "id": "3c6db2d4",
   "metadata": {},
   "source": [
    "In this section, we will take a look at the feature and performance of the [Tianshou Batch](https://github.com/thu-ml/tianshou) library, which is developed by Tsinghua Machine Learning Group."
   ]
  },
  {
   "cell_type": "markdown",
   "id": "069361b0",
   "metadata": {},
   "source": [
    "Before starting the comparison, let us define some thing."
   ]
  },
  {
   "cell_type": "code",
   "execution_count": 1,
   "id": "06fc8d26",
   "metadata": {
    "execution": {
     "iopub.execute_input": "2023-02-27T10:14:38.626398Z",
     "iopub.status.busy": "2023-02-27T10:14:38.626004Z",
     "iopub.status.idle": "2023-02-27T10:14:39.998460Z",
     "shell.execute_reply": "2023-02-27T10:14:39.997298Z"
    }
   },
   "outputs": [
    {
     "name": "stderr",
     "output_type": "stream",
     "text": [
      "/opt/hostedtoolcache/Python/3.8.16/x64/lib/python3.8/site-packages/tqdm/auto.py:22: TqdmWarning: IProgress not found. Please update jupyter and ipywidgets. See https://ipywidgets.readthedocs.io/en/stable/user_install.html\n",
      "  from .autonotebook import tqdm as notebook_tqdm\n"
     ]
    }
   ],
   "source": [
    "import torch \n",
    "\n",
    "_TREE_DATA_1 = {'a': 1, 'b': 2, 'x': {'c': 3, 'd': 4}}\n",
    "_TREE_DATA_2 = {\n",
    "    'a': torch.randn(2, 3), \n",
    "    'x': {\n",
    "        'c': torch.randn(3, 4)\n",
    "    },\n",
    "}\n",
    "_TREE_DATA_3 = {\n",
    "    'obs': torch.randn(4, 84, 84),\n",
    "    'action': torch.randint(0, 6, size=(1,)),\n",
    "    'reward': torch.rand(1),\n",
    "}"
   ]
  },
  {
   "cell_type": "markdown",
   "id": "83461b25",
   "metadata": {},
   "source": [
    "## Read and Write Operation"
   ]
  },
  {
   "cell_type": "markdown",
   "id": "067b3f73",
   "metadata": {},
   "source": [
    "Reading and writing are the two most common operations in the tree data structure based on the data model (TreeValue and Tianshou Batch both belong to this type), so this section will compare the reading and writing performance of these two libraries."
   ]
  },
  {
   "cell_type": "markdown",
   "id": "5d09a5b7",
   "metadata": {},
   "source": [
    "### TreeValue's Get and Set"
   ]
  },
  {
   "cell_type": "code",
   "execution_count": 2,
   "id": "9519c4bb",
   "metadata": {
    "execution": {
     "iopub.execute_input": "2023-02-27T10:14:40.003184Z",
     "iopub.status.busy": "2023-02-27T10:14:40.002771Z",
     "iopub.status.idle": "2023-02-27T10:14:40.412300Z",
     "shell.execute_reply": "2023-02-27T10:14:40.411118Z"
    }
   },
   "outputs": [],
   "source": [
    "from treevalue import FastTreeValue\n",
    "\n",
    "t = FastTreeValue(_TREE_DATA_2)"
   ]
  },
  {
   "cell_type": "code",
   "execution_count": 3,
   "id": "11c37677",
   "metadata": {
    "execution": {
     "iopub.execute_input": "2023-02-27T10:14:40.417031Z",
     "iopub.status.busy": "2023-02-27T10:14:40.416335Z",
     "iopub.status.idle": "2023-02-27T10:14:40.430357Z",
     "shell.execute_reply": "2023-02-27T10:14:40.429233Z"
    }
   },
   "outputs": [
    {
     "data": {
      "text/plain": [
       "<FastTreeValue 0x7f68e4ca1b20>\n",
       "├── 'a' --> tensor([[ 0.1980,  1.3459, -1.1448],\n",
       "│                   [-1.7813,  0.6081, -0.4162]])\n",
       "└── 'x' --> <FastTreeValue 0x7f68e4ca1f40>\n",
       "    └── 'c' --> tensor([[ 1.0442, -1.3419, -1.3608,  1.8621],\n",
       "                        [ 0.2126,  0.3855,  0.7497,  0.3247],\n",
       "                        [-0.4739,  0.4981,  0.6090, -0.5094]])"
      ]
     },
     "execution_count": 3,
     "metadata": {},
     "output_type": "execute_result"
    }
   ],
   "source": [
    "t"
   ]
  },
  {
   "cell_type": "code",
   "execution_count": 4,
   "id": "fd70b0b9",
   "metadata": {
    "execution": {
     "iopub.execute_input": "2023-02-27T10:14:40.434811Z",
     "iopub.status.busy": "2023-02-27T10:14:40.434461Z",
     "iopub.status.idle": "2023-02-27T10:14:40.443179Z",
     "shell.execute_reply": "2023-02-27T10:14:40.442149Z"
    }
   },
   "outputs": [
    {
     "data": {
      "text/plain": [
       "tensor([[ 0.1980,  1.3459, -1.1448],\n",
       "        [-1.7813,  0.6081, -0.4162]])"
      ]
     },
     "execution_count": 4,
     "metadata": {},
     "output_type": "execute_result"
    }
   ],
   "source": [
    "t.a"
   ]
  },
  {
   "cell_type": "code",
   "execution_count": 5,
   "id": "c18197bd",
   "metadata": {
    "execution": {
     "iopub.execute_input": "2023-02-27T10:14:40.447060Z",
     "iopub.status.busy": "2023-02-27T10:14:40.446458Z",
     "iopub.status.idle": "2023-02-27T10:14:46.590178Z",
     "shell.execute_reply": "2023-02-27T10:14:46.589075Z"
    }
   },
   "outputs": [
    {
     "name": "stdout",
     "output_type": "stream",
     "text": [
      "75.5 ns ± 0.761 ns per loop (mean ± std. dev. of 7 runs, 10,000,000 loops each)\n"
     ]
    }
   ],
   "source": [
    "%timeit t.a"
   ]
  },
  {
   "cell_type": "code",
   "execution_count": 6,
   "id": "bd52f867",
   "metadata": {
    "execution": {
     "iopub.execute_input": "2023-02-27T10:14:46.594461Z",
     "iopub.status.busy": "2023-02-27T10:14:46.593799Z",
     "iopub.status.idle": "2023-02-27T10:14:46.603551Z",
     "shell.execute_reply": "2023-02-27T10:14:46.602482Z"
    }
   },
   "outputs": [
    {
     "data": {
      "text/plain": [
       "<FastTreeValue 0x7f68e4ca1b20>\n",
       "├── 'a' --> tensor([[ 0.2912, -0.4848, -1.7786],\n",
       "│                   [ 1.7867, -0.4711,  0.4483]])\n",
       "└── 'x' --> <FastTreeValue 0x7f68e4ca1f40>\n",
       "    └── 'c' --> tensor([[ 1.0442, -1.3419, -1.3608,  1.8621],\n",
       "                        [ 0.2126,  0.3855,  0.7497,  0.3247],\n",
       "                        [-0.4739,  0.4981,  0.6090, -0.5094]])"
      ]
     },
     "execution_count": 6,
     "metadata": {},
     "output_type": "execute_result"
    }
   ],
   "source": [
    "new_value = torch.randn(2, 3)\n",
    "t.a = new_value\n",
    "\n",
    "t"
   ]
  },
  {
   "cell_type": "code",
   "execution_count": 7,
   "id": "bbe04d1c",
   "metadata": {
    "execution": {
     "iopub.execute_input": "2023-02-27T10:14:46.608132Z",
     "iopub.status.busy": "2023-02-27T10:14:46.607737Z",
     "iopub.status.idle": "2023-02-27T10:14:52.822414Z",
     "shell.execute_reply": "2023-02-27T10:14:52.821451Z"
    }
   },
   "outputs": [
    {
     "name": "stdout",
     "output_type": "stream",
     "text": [
      "76.4 ns ± 0.612 ns per loop (mean ± std. dev. of 7 runs, 10,000,000 loops each)\n"
     ]
    }
   ],
   "source": [
    "%timeit t.a = new_value"
   ]
  },
  {
   "cell_type": "markdown",
   "id": "48c49731",
   "metadata": {},
   "source": [
    "### Tianshou Batch's Get and Set"
   ]
  },
  {
   "cell_type": "code",
   "execution_count": 8,
   "id": "f1bb14c1",
   "metadata": {
    "execution": {
     "iopub.execute_input": "2023-02-27T10:14:52.827926Z",
     "iopub.status.busy": "2023-02-27T10:14:52.827178Z",
     "iopub.status.idle": "2023-02-27T10:14:53.345003Z",
     "shell.execute_reply": "2023-02-27T10:14:53.343698Z"
    }
   },
   "outputs": [],
   "source": [
    "from tianshou.data import Batch\n",
    "\n",
    "b = Batch(**_TREE_DATA_2)"
   ]
  },
  {
   "cell_type": "code",
   "execution_count": 9,
   "id": "cb0777c3",
   "metadata": {
    "execution": {
     "iopub.execute_input": "2023-02-27T10:14:53.350773Z",
     "iopub.status.busy": "2023-02-27T10:14:53.350098Z",
     "iopub.status.idle": "2023-02-27T10:14:53.359346Z",
     "shell.execute_reply": "2023-02-27T10:14:53.357884Z"
    }
   },
   "outputs": [
    {
     "data": {
      "text/plain": [
       "Batch(\n",
       "    a: tensor([[ 0.1980,  1.3459, -1.1448],\n",
       "               [-1.7813,  0.6081, -0.4162]]),\n",
       "    x: Batch(\n",
       "           c: tensor([[ 1.0442, -1.3419, -1.3608,  1.8621],\n",
       "                      [ 0.2126,  0.3855,  0.7497,  0.3247],\n",
       "                      [-0.4739,  0.4981,  0.6090, -0.5094]]),\n",
       "       ),\n",
       ")"
      ]
     },
     "execution_count": 9,
     "metadata": {},
     "output_type": "execute_result"
    }
   ],
   "source": [
    "b"
   ]
  },
  {
   "cell_type": "code",
   "execution_count": 10,
   "id": "43ef8ea3",
   "metadata": {
    "execution": {
     "iopub.execute_input": "2023-02-27T10:14:53.363484Z",
     "iopub.status.busy": "2023-02-27T10:14:53.362685Z",
     "iopub.status.idle": "2023-02-27T10:14:53.369882Z",
     "shell.execute_reply": "2023-02-27T10:14:53.368884Z"
    }
   },
   "outputs": [
    {
     "data": {
      "text/plain": [
       "tensor([[ 0.1980,  1.3459, -1.1448],\n",
       "        [-1.7813,  0.6081, -0.4162]])"
      ]
     },
     "execution_count": 10,
     "metadata": {},
     "output_type": "execute_result"
    }
   ],
   "source": [
    "b.a"
   ]
  },
  {
   "cell_type": "code",
   "execution_count": 11,
   "id": "b785ab72",
   "metadata": {
    "execution": {
     "iopub.execute_input": "2023-02-27T10:14:53.373730Z",
     "iopub.status.busy": "2023-02-27T10:14:53.373409Z",
     "iopub.status.idle": "2023-02-27T10:14:58.954286Z",
     "shell.execute_reply": "2023-02-27T10:14:58.953146Z"
    }
   },
   "outputs": [
    {
     "name": "stdout",
     "output_type": "stream",
     "text": [
      "68.7 ns ± 0.344 ns per loop (mean ± std. dev. of 7 runs, 10,000,000 loops each)\n"
     ]
    }
   ],
   "source": [
    "%timeit b.a"
   ]
  },
  {
   "cell_type": "code",
   "execution_count": 12,
   "id": "ad54dc69",
   "metadata": {
    "execution": {
     "iopub.execute_input": "2023-02-27T10:14:58.958550Z",
     "iopub.status.busy": "2023-02-27T10:14:58.958212Z",
     "iopub.status.idle": "2023-02-27T10:14:58.968687Z",
     "shell.execute_reply": "2023-02-27T10:14:58.967636Z"
    }
   },
   "outputs": [
    {
     "data": {
      "text/plain": [
       "Batch(\n",
       "    a: tensor([[ 0.6717, -1.0541, -0.0569],\n",
       "               [ 1.4706,  0.2650,  0.6625]]),\n",
       "    x: Batch(\n",
       "           c: tensor([[ 1.0442, -1.3419, -1.3608,  1.8621],\n",
       "                      [ 0.2126,  0.3855,  0.7497,  0.3247],\n",
       "                      [-0.4739,  0.4981,  0.6090, -0.5094]]),\n",
       "       ),\n",
       ")"
      ]
     },
     "execution_count": 12,
     "metadata": {},
     "output_type": "execute_result"
    }
   ],
   "source": [
    "new_value = torch.randn(2, 3)\n",
    "b.a = new_value\n",
    "\n",
    "b"
   ]
  },
  {
   "cell_type": "code",
   "execution_count": 13,
   "id": "29b1d0bf",
   "metadata": {
    "execution": {
     "iopub.execute_input": "2023-02-27T10:14:58.972753Z",
     "iopub.status.busy": "2023-02-27T10:14:58.972163Z",
     "iopub.status.idle": "2023-02-27T10:15:04.378437Z",
     "shell.execute_reply": "2023-02-27T10:15:04.377417Z"
    }
   },
   "outputs": [
    {
     "name": "stdout",
     "output_type": "stream",
     "text": [
      "664 ns ± 7.68 ns per loop (mean ± std. dev. of 7 runs, 1,000,000 loops each)\n"
     ]
    }
   ],
   "source": [
    "%timeit b.a = new_value"
   ]
  },
  {
   "cell_type": "markdown",
   "id": "b61ad1d0",
   "metadata": {},
   "source": [
    "## Initialization"
   ]
  },
  {
   "cell_type": "markdown",
   "id": "d70f0d54",
   "metadata": {},
   "source": [
    "### TreeValue's Initialization"
   ]
  },
  {
   "cell_type": "code",
   "execution_count": 14,
   "id": "d32a679b",
   "metadata": {
    "execution": {
     "iopub.execute_input": "2023-02-27T10:15:04.383238Z",
     "iopub.status.busy": "2023-02-27T10:15:04.382428Z",
     "iopub.status.idle": "2023-02-27T10:15:13.128025Z",
     "shell.execute_reply": "2023-02-27T10:15:13.126097Z"
    }
   },
   "outputs": [
    {
     "name": "stdout",
     "output_type": "stream",
     "text": [
      "1.08 µs ± 14.5 ns per loop (mean ± std. dev. of 7 runs, 1,000,000 loops each)\n"
     ]
    }
   ],
   "source": [
    "%timeit FastTreeValue(_TREE_DATA_1)"
   ]
  },
  {
   "cell_type": "markdown",
   "id": "24f3707b",
   "metadata": {},
   "source": [
    "### Tianshou Batch's Initialization"
   ]
  },
  {
   "cell_type": "code",
   "execution_count": 15,
   "id": "ac3958df",
   "metadata": {
    "execution": {
     "iopub.execute_input": "2023-02-27T10:15:13.134379Z",
     "iopub.status.busy": "2023-02-27T10:15:13.133700Z",
     "iopub.status.idle": "2023-02-27T10:15:24.698316Z",
     "shell.execute_reply": "2023-02-27T10:15:24.697121Z"
    }
   },
   "outputs": [
    {
     "name": "stdout",
     "output_type": "stream",
     "text": [
      "14.3 µs ± 249 ns per loop (mean ± std. dev. of 7 runs, 100,000 loops each)\n"
     ]
    }
   ],
   "source": [
    "%timeit Batch(**_TREE_DATA_1)"
   ]
  },
  {
   "cell_type": "markdown",
   "id": "1ab82e2d",
   "metadata": {},
   "source": [
    "## Deep Copy Operation"
   ]
  },
  {
   "cell_type": "code",
   "execution_count": 16,
   "id": "210a9442",
   "metadata": {
    "execution": {
     "iopub.execute_input": "2023-02-27T10:15:24.702469Z",
     "iopub.status.busy": "2023-02-27T10:15:24.701853Z",
     "iopub.status.idle": "2023-02-27T10:15:24.707212Z",
     "shell.execute_reply": "2023-02-27T10:15:24.706276Z"
    }
   },
   "outputs": [],
   "source": [
    "import copy"
   ]
  },
  {
   "cell_type": "markdown",
   "id": "5a736274",
   "metadata": {},
   "source": [
    "### Deep Copy of TreeValue"
   ]
  },
  {
   "cell_type": "code",
   "execution_count": 17,
   "id": "f9bcadd6",
   "metadata": {
    "execution": {
     "iopub.execute_input": "2023-02-27T10:15:24.710552Z",
     "iopub.status.busy": "2023-02-27T10:15:24.710237Z",
     "iopub.status.idle": "2023-02-27T10:15:26.972058Z",
     "shell.execute_reply": "2023-02-27T10:15:26.970903Z"
    }
   },
   "outputs": [
    {
     "name": "stdout",
     "output_type": "stream",
     "text": [
      "275 µs ± 8 µs per loop (mean ± std. dev. of 7 runs, 1,000 loops each)\n"
     ]
    }
   ],
   "source": [
    "t3 = FastTreeValue(_TREE_DATA_3)\n",
    "%timeit copy.deepcopy(t3)"
   ]
  },
  {
   "cell_type": "markdown",
   "id": "bf8be7ea",
   "metadata": {},
   "source": [
    "### Deep Copy of Tianshou Batch"
   ]
  },
  {
   "cell_type": "code",
   "execution_count": 18,
   "id": "91998e6f",
   "metadata": {
    "execution": {
     "iopub.execute_input": "2023-02-27T10:15:26.976085Z",
     "iopub.status.busy": "2023-02-27T10:15:26.975749Z",
     "iopub.status.idle": "2023-02-27T10:15:29.169496Z",
     "shell.execute_reply": "2023-02-27T10:15:29.168507Z"
    }
   },
   "outputs": [
    {
     "name": "stdout",
     "output_type": "stream",
     "text": [
      "267 µs ± 12.5 µs per loop (mean ± std. dev. of 7 runs, 1,000 loops each)\n"
     ]
    }
   ],
   "source": [
    "b3 = Batch(**_TREE_DATA_3)\n",
    "%timeit copy.deepcopy(b3)"
   ]
  },
  {
   "cell_type": "markdown",
   "id": "223162fb",
   "metadata": {},
   "source": [
    "## Stack, Concat and Split Operation"
   ]
  },
  {
   "cell_type": "markdown",
   "id": "85fa4a73",
   "metadata": {},
   "source": [
    "### Performance of TreeValue"
   ]
  },
  {
   "cell_type": "code",
   "execution_count": 19,
   "id": "a0c2b697",
   "metadata": {
    "execution": {
     "iopub.execute_input": "2023-02-27T10:15:29.174792Z",
     "iopub.status.busy": "2023-02-27T10:15:29.174060Z",
     "iopub.status.idle": "2023-02-27T10:15:29.179212Z",
     "shell.execute_reply": "2023-02-27T10:15:29.178279Z"
    }
   },
   "outputs": [],
   "source": [
    "trees = [FastTreeValue(_TREE_DATA_2) for _ in range(8)]"
   ]
  },
  {
   "cell_type": "code",
   "execution_count": 20,
   "id": "017ea5a5",
   "metadata": {
    "execution": {
     "iopub.execute_input": "2023-02-27T10:15:29.183685Z",
     "iopub.status.busy": "2023-02-27T10:15:29.182887Z",
     "iopub.status.idle": "2023-02-27T10:15:29.193782Z",
     "shell.execute_reply": "2023-02-27T10:15:29.192704Z"
    }
   },
   "outputs": [
    {
     "data": {
      "text/plain": [
       "<FastTreeValue 0x7f682df5e700>\n",
       "├── 'a' --> tensor([[[ 0.1980,  1.3459, -1.1448],\n",
       "│                    [-1.7813,  0.6081, -0.4162]],\n",
       "│           \n",
       "│                   [[ 0.1980,  1.3459, -1.1448],\n",
       "│                    [-1.7813,  0.6081, -0.4162]],\n",
       "│           \n",
       "│                   [[ 0.1980,  1.3459, -1.1448],\n",
       "│                    [-1.7813,  0.6081, -0.4162]],\n",
       "│           \n",
       "│                   [[ 0.1980,  1.3459, -1.1448],\n",
       "│                    [-1.7813,  0.6081, -0.4162]],\n",
       "│           \n",
       "│                   [[ 0.1980,  1.3459, -1.1448],\n",
       "│                    [-1.7813,  0.6081, -0.4162]],\n",
       "│           \n",
       "│                   [[ 0.1980,  1.3459, -1.1448],\n",
       "│                    [-1.7813,  0.6081, -0.4162]],\n",
       "│           \n",
       "│                   [[ 0.1980,  1.3459, -1.1448],\n",
       "│                    [-1.7813,  0.6081, -0.4162]],\n",
       "│           \n",
       "│                   [[ 0.1980,  1.3459, -1.1448],\n",
       "│                    [-1.7813,  0.6081, -0.4162]]])\n",
       "└── 'x' --> <FastTreeValue 0x7f682df5e2b0>\n",
       "    └── 'c' --> tensor([[[ 1.0442, -1.3419, -1.3608,  1.8621],\n",
       "                         [ 0.2126,  0.3855,  0.7497,  0.3247],\n",
       "                         [-0.4739,  0.4981,  0.6090, -0.5094]],\n",
       "                \n",
       "                        [[ 1.0442, -1.3419, -1.3608,  1.8621],\n",
       "                         [ 0.2126,  0.3855,  0.7497,  0.3247],\n",
       "                         [-0.4739,  0.4981,  0.6090, -0.5094]],\n",
       "                \n",
       "                        [[ 1.0442, -1.3419, -1.3608,  1.8621],\n",
       "                         [ 0.2126,  0.3855,  0.7497,  0.3247],\n",
       "                         [-0.4739,  0.4981,  0.6090, -0.5094]],\n",
       "                \n",
       "                        [[ 1.0442, -1.3419, -1.3608,  1.8621],\n",
       "                         [ 0.2126,  0.3855,  0.7497,  0.3247],\n",
       "                         [-0.4739,  0.4981,  0.6090, -0.5094]],\n",
       "                \n",
       "                        [[ 1.0442, -1.3419, -1.3608,  1.8621],\n",
       "                         [ 0.2126,  0.3855,  0.7497,  0.3247],\n",
       "                         [-0.4739,  0.4981,  0.6090, -0.5094]],\n",
       "                \n",
       "                        [[ 1.0442, -1.3419, -1.3608,  1.8621],\n",
       "                         [ 0.2126,  0.3855,  0.7497,  0.3247],\n",
       "                         [-0.4739,  0.4981,  0.6090, -0.5094]],\n",
       "                \n",
       "                        [[ 1.0442, -1.3419, -1.3608,  1.8621],\n",
       "                         [ 0.2126,  0.3855,  0.7497,  0.3247],\n",
       "                         [-0.4739,  0.4981,  0.6090, -0.5094]],\n",
       "                \n",
       "                        [[ 1.0442, -1.3419, -1.3608,  1.8621],\n",
       "                         [ 0.2126,  0.3855,  0.7497,  0.3247],\n",
       "                         [-0.4739,  0.4981,  0.6090, -0.5094]]])"
      ]
     },
     "execution_count": 20,
     "metadata": {},
     "output_type": "execute_result"
    }
   ],
   "source": [
    "t_stack = FastTreeValue.func(subside=True)(torch.stack)\n",
    "\n",
    "t_stack(trees)"
   ]
  },
  {
   "cell_type": "code",
   "execution_count": 21,
   "id": "f8b3f415",
   "metadata": {
    "execution": {
     "iopub.execute_input": "2023-02-27T10:15:29.198404Z",
     "iopub.status.busy": "2023-02-27T10:15:29.197830Z",
     "iopub.status.idle": "2023-02-27T10:15:33.041694Z",
     "shell.execute_reply": "2023-02-27T10:15:33.040413Z"
    }
   },
   "outputs": [
    {
     "name": "stdout",
     "output_type": "stream",
     "text": [
      "47.5 µs ± 1.18 µs per loop (mean ± std. dev. of 7 runs, 10,000 loops each)\n"
     ]
    }
   ],
   "source": [
    "%timeit t_stack(trees)"
   ]
  },
  {
   "cell_type": "code",
   "execution_count": 22,
   "id": "94b56771",
   "metadata": {
    "execution": {
     "iopub.execute_input": "2023-02-27T10:15:33.045955Z",
     "iopub.status.busy": "2023-02-27T10:15:33.045576Z",
     "iopub.status.idle": "2023-02-27T10:15:33.057973Z",
     "shell.execute_reply": "2023-02-27T10:15:33.056978Z"
    }
   },
   "outputs": [
    {
     "data": {
      "text/plain": [
       "<FastTreeValue 0x7f6834bcf550>\n",
       "├── 'a' --> tensor([[ 0.1980,  1.3459, -1.1448],\n",
       "│                   [-1.7813,  0.6081, -0.4162],\n",
       "│                   [ 0.1980,  1.3459, -1.1448],\n",
       "│                   [-1.7813,  0.6081, -0.4162],\n",
       "│                   [ 0.1980,  1.3459, -1.1448],\n",
       "│                   [-1.7813,  0.6081, -0.4162],\n",
       "│                   [ 0.1980,  1.3459, -1.1448],\n",
       "│                   [-1.7813,  0.6081, -0.4162],\n",
       "│                   [ 0.1980,  1.3459, -1.1448],\n",
       "│                   [-1.7813,  0.6081, -0.4162],\n",
       "│                   [ 0.1980,  1.3459, -1.1448],\n",
       "│                   [-1.7813,  0.6081, -0.4162],\n",
       "│                   [ 0.1980,  1.3459, -1.1448],\n",
       "│                   [-1.7813,  0.6081, -0.4162],\n",
       "│                   [ 0.1980,  1.3459, -1.1448],\n",
       "│                   [-1.7813,  0.6081, -0.4162]])\n",
       "└── 'x' --> <FastTreeValue 0x7f6834bcf3d0>\n",
       "    └── 'c' --> tensor([[ 1.0442, -1.3419, -1.3608,  1.8621],\n",
       "                        [ 0.2126,  0.3855,  0.7497,  0.3247],\n",
       "                        [-0.4739,  0.4981,  0.6090, -0.5094],\n",
       "                        [ 1.0442, -1.3419, -1.3608,  1.8621],\n",
       "                        [ 0.2126,  0.3855,  0.7497,  0.3247],\n",
       "                        [-0.4739,  0.4981,  0.6090, -0.5094],\n",
       "                        [ 1.0442, -1.3419, -1.3608,  1.8621],\n",
       "                        [ 0.2126,  0.3855,  0.7497,  0.3247],\n",
       "                        [-0.4739,  0.4981,  0.6090, -0.5094],\n",
       "                        [ 1.0442, -1.3419, -1.3608,  1.8621],\n",
       "                        [ 0.2126,  0.3855,  0.7497,  0.3247],\n",
       "                        [-0.4739,  0.4981,  0.6090, -0.5094],\n",
       "                        [ 1.0442, -1.3419, -1.3608,  1.8621],\n",
       "                        [ 0.2126,  0.3855,  0.7497,  0.3247],\n",
       "                        [-0.4739,  0.4981,  0.6090, -0.5094],\n",
       "                        [ 1.0442, -1.3419, -1.3608,  1.8621],\n",
       "                        [ 0.2126,  0.3855,  0.7497,  0.3247],\n",
       "                        [-0.4739,  0.4981,  0.6090, -0.5094],\n",
       "                        [ 1.0442, -1.3419, -1.3608,  1.8621],\n",
       "                        [ 0.2126,  0.3855,  0.7497,  0.3247],\n",
       "                        [-0.4739,  0.4981,  0.6090, -0.5094],\n",
       "                        [ 1.0442, -1.3419, -1.3608,  1.8621],\n",
       "                        [ 0.2126,  0.3855,  0.7497,  0.3247],\n",
       "                        [-0.4739,  0.4981,  0.6090, -0.5094]])"
      ]
     },
     "execution_count": 22,
     "metadata": {},
     "output_type": "execute_result"
    }
   ],
   "source": [
    "t_cat = FastTreeValue.func(subside=True)(torch.cat)\n",
    "\n",
    "t_cat(trees)"
   ]
  },
  {
   "cell_type": "code",
   "execution_count": 23,
   "id": "5e9c06a6",
   "metadata": {
    "execution": {
     "iopub.execute_input": "2023-02-27T10:15:33.062156Z",
     "iopub.status.busy": "2023-02-27T10:15:33.061718Z",
     "iopub.status.idle": "2023-02-27T10:15:36.675187Z",
     "shell.execute_reply": "2023-02-27T10:15:36.674097Z"
    }
   },
   "outputs": [
    {
     "name": "stdout",
     "output_type": "stream",
     "text": [
      "44.3 µs ± 433 ns per loop (mean ± std. dev. of 7 runs, 10,000 loops each)\n"
     ]
    }
   ],
   "source": [
    "%timeit t_cat(trees)"
   ]
  },
  {
   "cell_type": "code",
   "execution_count": 24,
   "id": "a3ab5c8f",
   "metadata": {
    "execution": {
     "iopub.execute_input": "2023-02-27T10:15:36.681131Z",
     "iopub.status.busy": "2023-02-27T10:15:36.680426Z",
     "iopub.status.idle": "2023-02-27T10:15:43.446573Z",
     "shell.execute_reply": "2023-02-27T10:15:43.445406Z"
    }
   },
   "outputs": [
    {
     "name": "stdout",
     "output_type": "stream",
     "text": [
      "83.3 µs ± 1.39 µs per loop (mean ± std. dev. of 7 runs, 10,000 loops each)\n"
     ]
    }
   ],
   "source": [
    "t_split = FastTreeValue.func(rise=True)(torch.split)\n",
    "tree = FastTreeValue({\n",
    "    'obs': torch.randn(8, 4, 84, 84),\n",
    "    'action': torch.randint(0, 6, size=(8, 1,)),\n",
    "    'reward': torch.rand(8, 1),\n",
    "})\n",
    "\n",
    "%timeit t_split(tree, 1)"
   ]
  },
  {
   "cell_type": "markdown",
   "id": "31c3ec0b",
   "metadata": {},
   "source": [
    "### Performance of Tianshou Batch"
   ]
  },
  {
   "cell_type": "code",
   "execution_count": 25,
   "id": "9ead828a",
   "metadata": {
    "execution": {
     "iopub.execute_input": "2023-02-27T10:15:43.451150Z",
     "iopub.status.busy": "2023-02-27T10:15:43.450589Z",
     "iopub.status.idle": "2023-02-27T10:15:43.462465Z",
     "shell.execute_reply": "2023-02-27T10:15:43.461280Z"
    }
   },
   "outputs": [
    {
     "data": {
      "text/plain": [
       "Batch(\n",
       "    a: tensor([[[ 0.1980,  1.3459, -1.1448],\n",
       "                [-1.7813,  0.6081, -0.4162]],\n",
       "       \n",
       "               [[ 0.1980,  1.3459, -1.1448],\n",
       "                [-1.7813,  0.6081, -0.4162]],\n",
       "       \n",
       "               [[ 0.1980,  1.3459, -1.1448],\n",
       "                [-1.7813,  0.6081, -0.4162]],\n",
       "       \n",
       "               [[ 0.1980,  1.3459, -1.1448],\n",
       "                [-1.7813,  0.6081, -0.4162]],\n",
       "       \n",
       "               [[ 0.1980,  1.3459, -1.1448],\n",
       "                [-1.7813,  0.6081, -0.4162]],\n",
       "       \n",
       "               [[ 0.1980,  1.3459, -1.1448],\n",
       "                [-1.7813,  0.6081, -0.4162]],\n",
       "       \n",
       "               [[ 0.1980,  1.3459, -1.1448],\n",
       "                [-1.7813,  0.6081, -0.4162]],\n",
       "       \n",
       "               [[ 0.1980,  1.3459, -1.1448],\n",
       "                [-1.7813,  0.6081, -0.4162]]]),\n",
       "    x: Batch(\n",
       "           c: tensor([[[ 1.0442, -1.3419, -1.3608,  1.8621],\n",
       "                       [ 0.2126,  0.3855,  0.7497,  0.3247],\n",
       "                       [-0.4739,  0.4981,  0.6090, -0.5094]],\n",
       "              \n",
       "                      [[ 1.0442, -1.3419, -1.3608,  1.8621],\n",
       "                       [ 0.2126,  0.3855,  0.7497,  0.3247],\n",
       "                       [-0.4739,  0.4981,  0.6090, -0.5094]],\n",
       "              \n",
       "                      [[ 1.0442, -1.3419, -1.3608,  1.8621],\n",
       "                       [ 0.2126,  0.3855,  0.7497,  0.3247],\n",
       "                       [-0.4739,  0.4981,  0.6090, -0.5094]],\n",
       "              \n",
       "                      [[ 1.0442, -1.3419, -1.3608,  1.8621],\n",
       "                       [ 0.2126,  0.3855,  0.7497,  0.3247],\n",
       "                       [-0.4739,  0.4981,  0.6090, -0.5094]],\n",
       "              \n",
       "                      [[ 1.0442, -1.3419, -1.3608,  1.8621],\n",
       "                       [ 0.2126,  0.3855,  0.7497,  0.3247],\n",
       "                       [-0.4739,  0.4981,  0.6090, -0.5094]],\n",
       "              \n",
       "                      [[ 1.0442, -1.3419, -1.3608,  1.8621],\n",
       "                       [ 0.2126,  0.3855,  0.7497,  0.3247],\n",
       "                       [-0.4739,  0.4981,  0.6090, -0.5094]],\n",
       "              \n",
       "                      [[ 1.0442, -1.3419, -1.3608,  1.8621],\n",
       "                       [ 0.2126,  0.3855,  0.7497,  0.3247],\n",
       "                       [-0.4739,  0.4981,  0.6090, -0.5094]],\n",
       "              \n",
       "                      [[ 1.0442, -1.3419, -1.3608,  1.8621],\n",
       "                       [ 0.2126,  0.3855,  0.7497,  0.3247],\n",
       "                       [-0.4739,  0.4981,  0.6090, -0.5094]]]),\n",
       "       ),\n",
       ")"
      ]
     },
     "execution_count": 25,
     "metadata": {},
     "output_type": "execute_result"
    }
   ],
   "source": [
    "batches = [Batch(**_TREE_DATA_2) for _ in range(8)]\n",
    "\n",
    "Batch.stack(batches)"
   ]
  },
  {
   "cell_type": "code",
   "execution_count": 26,
   "id": "ec9037a3",
   "metadata": {
    "execution": {
     "iopub.execute_input": "2023-02-27T10:15:43.467408Z",
     "iopub.status.busy": "2023-02-27T10:15:43.466659Z",
     "iopub.status.idle": "2023-02-27T10:15:52.455529Z",
     "shell.execute_reply": "2023-02-27T10:15:52.454171Z"
    }
   },
   "outputs": [
    {
     "name": "stdout",
     "output_type": "stream",
     "text": [
      "111 µs ± 788 ns per loop (mean ± std. dev. of 7 runs, 10,000 loops each)\n"
     ]
    }
   ],
   "source": [
    "%timeit Batch.stack(batches)"
   ]
  },
  {
   "cell_type": "code",
   "execution_count": 27,
   "id": "cb8ab77e",
   "metadata": {
    "execution": {
     "iopub.execute_input": "2023-02-27T10:15:52.459878Z",
     "iopub.status.busy": "2023-02-27T10:15:52.459540Z",
     "iopub.status.idle": "2023-02-27T10:15:52.475746Z",
     "shell.execute_reply": "2023-02-27T10:15:52.474527Z"
    }
   },
   "outputs": [
    {
     "data": {
      "text/plain": [
       "Batch(\n",
       "    a: tensor([[ 0.1980,  1.3459, -1.1448],\n",
       "               [-1.7813,  0.6081, -0.4162],\n",
       "               [ 0.1980,  1.3459, -1.1448],\n",
       "               [-1.7813,  0.6081, -0.4162],\n",
       "               [ 0.1980,  1.3459, -1.1448],\n",
       "               [-1.7813,  0.6081, -0.4162],\n",
       "               [ 0.1980,  1.3459, -1.1448],\n",
       "               [-1.7813,  0.6081, -0.4162],\n",
       "               [ 0.1980,  1.3459, -1.1448],\n",
       "               [-1.7813,  0.6081, -0.4162],\n",
       "               [ 0.1980,  1.3459, -1.1448],\n",
       "               [-1.7813,  0.6081, -0.4162],\n",
       "               [ 0.1980,  1.3459, -1.1448],\n",
       "               [-1.7813,  0.6081, -0.4162],\n",
       "               [ 0.1980,  1.3459, -1.1448],\n",
       "               [-1.7813,  0.6081, -0.4162]]),\n",
       "    x: Batch(\n",
       "           c: tensor([[ 1.0442, -1.3419, -1.3608,  1.8621],\n",
       "                      [ 0.2126,  0.3855,  0.7497,  0.3247],\n",
       "                      [-0.4739,  0.4981,  0.6090, -0.5094],\n",
       "                      [ 1.0442, -1.3419, -1.3608,  1.8621],\n",
       "                      [ 0.2126,  0.3855,  0.7497,  0.3247],\n",
       "                      [-0.4739,  0.4981,  0.6090, -0.5094],\n",
       "                      [ 1.0442, -1.3419, -1.3608,  1.8621],\n",
       "                      [ 0.2126,  0.3855,  0.7497,  0.3247],\n",
       "                      [-0.4739,  0.4981,  0.6090, -0.5094],\n",
       "                      [ 1.0442, -1.3419, -1.3608,  1.8621],\n",
       "                      [ 0.2126,  0.3855,  0.7497,  0.3247],\n",
       "                      [-0.4739,  0.4981,  0.6090, -0.5094],\n",
       "                      [ 1.0442, -1.3419, -1.3608,  1.8621],\n",
       "                      [ 0.2126,  0.3855,  0.7497,  0.3247],\n",
       "                      [-0.4739,  0.4981,  0.6090, -0.5094],\n",
       "                      [ 1.0442, -1.3419, -1.3608,  1.8621],\n",
       "                      [ 0.2126,  0.3855,  0.7497,  0.3247],\n",
       "                      [-0.4739,  0.4981,  0.6090, -0.5094],\n",
       "                      [ 1.0442, -1.3419, -1.3608,  1.8621],\n",
       "                      [ 0.2126,  0.3855,  0.7497,  0.3247],\n",
       "                      [-0.4739,  0.4981,  0.6090, -0.5094],\n",
       "                      [ 1.0442, -1.3419, -1.3608,  1.8621],\n",
       "                      [ 0.2126,  0.3855,  0.7497,  0.3247],\n",
       "                      [-0.4739,  0.4981,  0.6090, -0.5094]]),\n",
       "       ),\n",
       ")"
      ]
     },
     "execution_count": 27,
     "metadata": {},
     "output_type": "execute_result"
    }
   ],
   "source": [
    "Batch.cat(batches)"
   ]
  },
  {
   "cell_type": "code",
   "execution_count": 28,
   "id": "18dfb045",
   "metadata": {
    "execution": {
     "iopub.execute_input": "2023-02-27T10:15:52.480485Z",
     "iopub.status.busy": "2023-02-27T10:15:52.480100Z",
     "iopub.status.idle": "2023-02-27T10:15:54.125247Z",
     "shell.execute_reply": "2023-02-27T10:15:54.124116Z"
    }
   },
   "outputs": [
    {
     "name": "stdout",
     "output_type": "stream",
     "text": [
      "200 µs ± 1.66 µs per loop (mean ± std. dev. of 7 runs, 1,000 loops each)\n"
     ]
    }
   ],
   "source": [
    "%timeit Batch.cat(batches)"
   ]
  },
  {
   "cell_type": "code",
   "execution_count": 29,
   "id": "c6688e51",
   "metadata": {
    "execution": {
     "iopub.execute_input": "2023-02-27T10:15:54.130520Z",
     "iopub.status.busy": "2023-02-27T10:15:54.129044Z",
     "iopub.status.idle": "2023-02-27T10:15:58.650210Z",
     "shell.execute_reply": "2023-02-27T10:15:58.649056Z"
    }
   },
   "outputs": [
    {
     "name": "stdout",
     "output_type": "stream",
     "text": [
      "553 µs ± 16.6 µs per loop (mean ± std. dev. of 7 runs, 1,000 loops each)\n"
     ]
    }
   ],
   "source": [
    "batch = Batch({\n",
    "    'obs': torch.randn(8, 4, 84, 84),\n",
    "    'action': torch.randint(0, 6, size=(8, 1,)),\n",
    "    'reward': torch.rand(8, 1)}\n",
    ")\n",
    "\n",
    "%timeit list(Batch.split(batch, 1, shuffle=False, merge_last=True))"
   ]
  },
  {
   "cell_type": "code",
   "execution_count": null,
   "id": "2539fbd9",
   "metadata": {},
   "outputs": [],
   "source": []
  }
 ],
 "metadata": {
  "kernelspec": {
   "display_name": "Python 3 (ipykernel)",
   "language": "python",
   "name": "python3"
  },
  "language_info": {
   "codemirror_mode": {
    "name": "ipython",
    "version": 3
   },
   "file_extension": ".py",
   "mimetype": "text/x-python",
   "name": "python",
   "nbconvert_exporter": "python",
   "pygments_lexer": "ipython3",
   "version": "3.8.16"
  }
 },
 "nbformat": 4,
 "nbformat_minor": 5
}
