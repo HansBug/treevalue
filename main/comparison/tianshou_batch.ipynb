{
 "cells": [
  {
   "cell_type": "markdown",
   "id": "9d39d946",
   "metadata": {},
   "source": [
    "# Comparison Between TreeValue and Tianshou Batch"
   ]
  },
  {
   "cell_type": "markdown",
   "id": "3c6db2d4",
   "metadata": {},
   "source": [
    "In this section, we will take a look at the feature and performance of the [Tianshou Batch](https://github.com/thu-ml/tianshou) library, which is developed by Tsinghua Machine Learning Group."
   ]
  },
  {
   "cell_type": "markdown",
   "id": "069361b0",
   "metadata": {},
   "source": [
    "Before starting the comparison, let us define some thing."
   ]
  },
  {
   "cell_type": "code",
   "execution_count": 1,
   "id": "06fc8d26",
   "metadata": {
    "execution": {
     "iopub.execute_input": "2023-02-12T17:49:51.271382Z",
     "iopub.status.busy": "2023-02-12T17:49:51.270860Z",
     "iopub.status.idle": "2023-02-12T17:49:52.171614Z",
     "shell.execute_reply": "2023-02-12T17:49:52.170978Z"
    }
   },
   "outputs": [
    {
     "name": "stderr",
     "output_type": "stream",
     "text": [
      "/opt/hostedtoolcache/Python/3.8.16/x64/lib/python3.8/site-packages/tqdm/auto.py:22: TqdmWarning: IProgress not found. Please update jupyter and ipywidgets. See https://ipywidgets.readthedocs.io/en/stable/user_install.html\n",
      "  from .autonotebook import tqdm as notebook_tqdm\n"
     ]
    }
   ],
   "source": [
    "import torch \n",
    "\n",
    "_TREE_DATA_1 = {'a': 1, 'b': 2, 'x': {'c': 3, 'd': 4}}\n",
    "_TREE_DATA_2 = {\n",
    "    'a': torch.randn(2, 3), \n",
    "    'x': {\n",
    "        'c': torch.randn(3, 4)\n",
    "    },\n",
    "}\n",
    "_TREE_DATA_3 = {\n",
    "    'obs': torch.randn(4, 84, 84),\n",
    "    'action': torch.randint(0, 6, size=(1,)),\n",
    "    'reward': torch.rand(1),\n",
    "}"
   ]
  },
  {
   "cell_type": "markdown",
   "id": "83461b25",
   "metadata": {},
   "source": [
    "## Read and Write Operation"
   ]
  },
  {
   "cell_type": "markdown",
   "id": "067b3f73",
   "metadata": {},
   "source": [
    "Reading and writing are the two most common operations in the tree data structure based on the data model (TreeValue and Tianshou Batch both belong to this type), so this section will compare the reading and writing performance of these two libraries."
   ]
  },
  {
   "cell_type": "markdown",
   "id": "5d09a5b7",
   "metadata": {},
   "source": [
    "### TreeValue's Get and Set"
   ]
  },
  {
   "cell_type": "code",
   "execution_count": 2,
   "id": "9519c4bb",
   "metadata": {
    "execution": {
     "iopub.execute_input": "2023-02-12T17:49:52.174797Z",
     "iopub.status.busy": "2023-02-12T17:49:52.174230Z",
     "iopub.status.idle": "2023-02-12T17:49:52.206507Z",
     "shell.execute_reply": "2023-02-12T17:49:52.205927Z"
    }
   },
   "outputs": [],
   "source": [
    "from treevalue import FastTreeValue\n",
    "\n",
    "t = FastTreeValue(_TREE_DATA_2)"
   ]
  },
  {
   "cell_type": "code",
   "execution_count": 3,
   "id": "11c37677",
   "metadata": {
    "execution": {
     "iopub.execute_input": "2023-02-12T17:49:52.209422Z",
     "iopub.status.busy": "2023-02-12T17:49:52.208878Z",
     "iopub.status.idle": "2023-02-12T17:49:52.217759Z",
     "shell.execute_reply": "2023-02-12T17:49:52.217181Z"
    }
   },
   "outputs": [
    {
     "data": {
      "text/plain": [
       "<FastTreeValue 0x7fddfd46faf0>\n",
       "├── 'a' --> tensor([[-0.4015,  1.0968, -0.2711],\n",
       "│                   [ 1.0180,  1.2828, -0.0234]])\n",
       "└── 'x' --> <FastTreeValue 0x7fddfd46fa30>\n",
       "    └── 'c' --> tensor([[-0.2001,  2.5697,  1.7138,  1.9889],\n",
       "                        [ 1.1140, -0.3160, -0.0552,  1.4725],\n",
       "                        [ 0.9332, -0.0205,  2.5310,  0.1004]])"
      ]
     },
     "execution_count": 3,
     "metadata": {},
     "output_type": "execute_result"
    }
   ],
   "source": [
    "t"
   ]
  },
  {
   "cell_type": "code",
   "execution_count": 4,
   "id": "fd70b0b9",
   "metadata": {
    "execution": {
     "iopub.execute_input": "2023-02-12T17:49:52.220210Z",
     "iopub.status.busy": "2023-02-12T17:49:52.219873Z",
     "iopub.status.idle": "2023-02-12T17:49:52.225625Z",
     "shell.execute_reply": "2023-02-12T17:49:52.224786Z"
    }
   },
   "outputs": [
    {
     "data": {
      "text/plain": [
       "tensor([[-0.4015,  1.0968, -0.2711],\n",
       "        [ 1.0180,  1.2828, -0.0234]])"
      ]
     },
     "execution_count": 4,
     "metadata": {},
     "output_type": "execute_result"
    }
   ],
   "source": [
    "t.a"
   ]
  },
  {
   "cell_type": "code",
   "execution_count": 5,
   "id": "c18197bd",
   "metadata": {
    "execution": {
     "iopub.execute_input": "2023-02-12T17:49:52.228445Z",
     "iopub.status.busy": "2023-02-12T17:49:52.227894Z",
     "iopub.status.idle": "2023-02-12T17:49:57.635522Z",
     "shell.execute_reply": "2023-02-12T17:49:57.634792Z"
    }
   },
   "outputs": [
    {
     "name": "stdout",
     "output_type": "stream",
     "text": [
      "65.9 ns ± 0.0374 ns per loop (mean ± std. dev. of 7 runs, 10,000,000 loops each)\n"
     ]
    }
   ],
   "source": [
    "%timeit t.a"
   ]
  },
  {
   "cell_type": "code",
   "execution_count": 6,
   "id": "bd52f867",
   "metadata": {
    "execution": {
     "iopub.execute_input": "2023-02-12T17:49:57.638776Z",
     "iopub.status.busy": "2023-02-12T17:49:57.638151Z",
     "iopub.status.idle": "2023-02-12T17:49:57.644061Z",
     "shell.execute_reply": "2023-02-12T17:49:57.643451Z"
    }
   },
   "outputs": [
    {
     "data": {
      "text/plain": [
       "<FastTreeValue 0x7fddfd46faf0>\n",
       "├── 'a' --> tensor([[ 1.5211, -0.3718, -1.0555],\n",
       "│                   [ 1.8466,  0.1353,  0.3143]])\n",
       "└── 'x' --> <FastTreeValue 0x7fddfd46fa30>\n",
       "    └── 'c' --> tensor([[-0.2001,  2.5697,  1.7138,  1.9889],\n",
       "                        [ 1.1140, -0.3160, -0.0552,  1.4725],\n",
       "                        [ 0.9332, -0.0205,  2.5310,  0.1004]])"
      ]
     },
     "execution_count": 6,
     "metadata": {},
     "output_type": "execute_result"
    }
   ],
   "source": [
    "new_value = torch.randn(2, 3)\n",
    "t.a = new_value\n",
    "\n",
    "t"
   ]
  },
  {
   "cell_type": "code",
   "execution_count": 7,
   "id": "bbe04d1c",
   "metadata": {
    "execution": {
     "iopub.execute_input": "2023-02-12T17:49:57.646626Z",
     "iopub.status.busy": "2023-02-12T17:49:57.646069Z",
     "iopub.status.idle": "2023-02-12T17:50:03.847602Z",
     "shell.execute_reply": "2023-02-12T17:50:03.846860Z"
    }
   },
   "outputs": [
    {
     "name": "stdout",
     "output_type": "stream",
     "text": [
      "76.3 ns ± 0.0202 ns per loop (mean ± std. dev. of 7 runs, 10,000,000 loops each)\n"
     ]
    }
   ],
   "source": [
    "%timeit t.a = new_value"
   ]
  },
  {
   "cell_type": "markdown",
   "id": "48c49731",
   "metadata": {},
   "source": [
    "### Tianshou Batch's Get and Set"
   ]
  },
  {
   "cell_type": "code",
   "execution_count": 8,
   "id": "f1bb14c1",
   "metadata": {
    "execution": {
     "iopub.execute_input": "2023-02-12T17:50:03.850858Z",
     "iopub.status.busy": "2023-02-12T17:50:03.850288Z",
     "iopub.status.idle": "2023-02-12T17:50:04.173405Z",
     "shell.execute_reply": "2023-02-12T17:50:04.172300Z"
    }
   },
   "outputs": [],
   "source": [
    "from tianshou.data import Batch\n",
    "\n",
    "b = Batch(**_TREE_DATA_2)"
   ]
  },
  {
   "cell_type": "code",
   "execution_count": 9,
   "id": "cb0777c3",
   "metadata": {
    "execution": {
     "iopub.execute_input": "2023-02-12T17:50:04.176303Z",
     "iopub.status.busy": "2023-02-12T17:50:04.175830Z",
     "iopub.status.idle": "2023-02-12T17:50:04.182447Z",
     "shell.execute_reply": "2023-02-12T17:50:04.181262Z"
    }
   },
   "outputs": [
    {
     "data": {
      "text/plain": [
       "Batch(\n",
       "    a: tensor([[-0.4015,  1.0968, -0.2711],\n",
       "               [ 1.0180,  1.2828, -0.0234]]),\n",
       "    x: Batch(\n",
       "           c: tensor([[-0.2001,  2.5697,  1.7138,  1.9889],\n",
       "                      [ 1.1140, -0.3160, -0.0552,  1.4725],\n",
       "                      [ 0.9332, -0.0205,  2.5310,  0.1004]]),\n",
       "       ),\n",
       ")"
      ]
     },
     "execution_count": 9,
     "metadata": {},
     "output_type": "execute_result"
    }
   ],
   "source": [
    "b"
   ]
  },
  {
   "cell_type": "code",
   "execution_count": 10,
   "id": "43ef8ea3",
   "metadata": {
    "execution": {
     "iopub.execute_input": "2023-02-12T17:50:04.184950Z",
     "iopub.status.busy": "2023-02-12T17:50:04.184630Z",
     "iopub.status.idle": "2023-02-12T17:50:04.189122Z",
     "shell.execute_reply": "2023-02-12T17:50:04.188501Z"
    }
   },
   "outputs": [
    {
     "data": {
      "text/plain": [
       "tensor([[-0.4015,  1.0968, -0.2711],\n",
       "        [ 1.0180,  1.2828, -0.0234]])"
      ]
     },
     "execution_count": 10,
     "metadata": {},
     "output_type": "execute_result"
    }
   ],
   "source": [
    "b.a"
   ]
  },
  {
   "cell_type": "code",
   "execution_count": 11,
   "id": "b785ab72",
   "metadata": {
    "execution": {
     "iopub.execute_input": "2023-02-12T17:50:04.191773Z",
     "iopub.status.busy": "2023-02-12T17:50:04.191295Z",
     "iopub.status.idle": "2023-02-12T17:50:08.769217Z",
     "shell.execute_reply": "2023-02-12T17:50:08.768482Z"
    }
   },
   "outputs": [
    {
     "name": "stdout",
     "output_type": "stream",
     "text": [
      "56.3 ns ± 0.0604 ns per loop (mean ± std. dev. of 7 runs, 10,000,000 loops each)\n"
     ]
    }
   ],
   "source": [
    "%timeit b.a"
   ]
  },
  {
   "cell_type": "code",
   "execution_count": 12,
   "id": "ad54dc69",
   "metadata": {
    "execution": {
     "iopub.execute_input": "2023-02-12T17:50:08.772060Z",
     "iopub.status.busy": "2023-02-12T17:50:08.771544Z",
     "iopub.status.idle": "2023-02-12T17:50:08.777242Z",
     "shell.execute_reply": "2023-02-12T17:50:08.776633Z"
    }
   },
   "outputs": [
    {
     "data": {
      "text/plain": [
       "Batch(\n",
       "    a: tensor([[-9.8588e-01, -1.6748e+00, -5.1293e-01],\n",
       "               [-1.4814e+00,  1.0296e-03,  1.4556e-02]]),\n",
       "    x: Batch(\n",
       "           c: tensor([[-0.2001,  2.5697,  1.7138,  1.9889],\n",
       "                      [ 1.1140, -0.3160, -0.0552,  1.4725],\n",
       "                      [ 0.9332, -0.0205,  2.5310,  0.1004]]),\n",
       "       ),\n",
       ")"
      ]
     },
     "execution_count": 12,
     "metadata": {},
     "output_type": "execute_result"
    }
   ],
   "source": [
    "new_value = torch.randn(2, 3)\n",
    "b.a = new_value\n",
    "\n",
    "b"
   ]
  },
  {
   "cell_type": "code",
   "execution_count": 13,
   "id": "29b1d0bf",
   "metadata": {
    "execution": {
     "iopub.execute_input": "2023-02-12T17:50:08.779622Z",
     "iopub.status.busy": "2023-02-12T17:50:08.779288Z",
     "iopub.status.idle": "2023-02-12T17:50:12.731318Z",
     "shell.execute_reply": "2023-02-12T17:50:12.730567Z"
    }
   },
   "outputs": [
    {
     "name": "stdout",
     "output_type": "stream",
     "text": [
      "487 ns ± 0.176 ns per loop (mean ± std. dev. of 7 runs, 1,000,000 loops each)\n"
     ]
    }
   ],
   "source": [
    "%timeit b.a = new_value"
   ]
  },
  {
   "cell_type": "markdown",
   "id": "b61ad1d0",
   "metadata": {},
   "source": [
    "## Initialization"
   ]
  },
  {
   "cell_type": "markdown",
   "id": "d70f0d54",
   "metadata": {},
   "source": [
    "### TreeValue's Initialization"
   ]
  },
  {
   "cell_type": "code",
   "execution_count": 14,
   "id": "d32a679b",
   "metadata": {
    "execution": {
     "iopub.execute_input": "2023-02-12T17:50:12.734532Z",
     "iopub.status.busy": "2023-02-12T17:50:12.733921Z",
     "iopub.status.idle": "2023-02-12T17:50:19.499955Z",
     "shell.execute_reply": "2023-02-12T17:50:19.499216Z"
    }
   },
   "outputs": [
    {
     "name": "stdout",
     "output_type": "stream",
     "text": [
      "834 ns ± 0.203 ns per loop (mean ± std. dev. of 7 runs, 1,000,000 loops each)\n"
     ]
    }
   ],
   "source": [
    "%timeit FastTreeValue(_TREE_DATA_1)"
   ]
  },
  {
   "cell_type": "markdown",
   "id": "24f3707b",
   "metadata": {},
   "source": [
    "### Tianshou Batch's Initialization"
   ]
  },
  {
   "cell_type": "code",
   "execution_count": 15,
   "id": "ac3958df",
   "metadata": {
    "execution": {
     "iopub.execute_input": "2023-02-12T17:50:19.503203Z",
     "iopub.status.busy": "2023-02-12T17:50:19.502575Z",
     "iopub.status.idle": "2023-02-12T17:50:28.761779Z",
     "shell.execute_reply": "2023-02-12T17:50:28.761049Z"
    }
   },
   "outputs": [
    {
     "name": "stdout",
     "output_type": "stream",
     "text": [
      "11.4 µs ± 54.6 ns per loop (mean ± std. dev. of 7 runs, 100,000 loops each)\n"
     ]
    }
   ],
   "source": [
    "%timeit Batch(**_TREE_DATA_1)"
   ]
  },
  {
   "cell_type": "markdown",
   "id": "1ab82e2d",
   "metadata": {},
   "source": [
    "## Deep Copy Operation"
   ]
  },
  {
   "cell_type": "code",
   "execution_count": 16,
   "id": "210a9442",
   "metadata": {
    "execution": {
     "iopub.execute_input": "2023-02-12T17:50:28.764942Z",
     "iopub.status.busy": "2023-02-12T17:50:28.764411Z",
     "iopub.status.idle": "2023-02-12T17:50:28.768310Z",
     "shell.execute_reply": "2023-02-12T17:50:28.767721Z"
    }
   },
   "outputs": [],
   "source": [
    "import copy"
   ]
  },
  {
   "cell_type": "markdown",
   "id": "5a736274",
   "metadata": {},
   "source": [
    "### Deep Copy of TreeValue"
   ]
  },
  {
   "cell_type": "code",
   "execution_count": 17,
   "id": "f9bcadd6",
   "metadata": {
    "execution": {
     "iopub.execute_input": "2023-02-12T17:50:28.771197Z",
     "iopub.status.busy": "2023-02-12T17:50:28.770735Z",
     "iopub.status.idle": "2023-02-12T17:50:39.891840Z",
     "shell.execute_reply": "2023-02-12T17:50:39.891178Z"
    }
   },
   "outputs": [
    {
     "name": "stdout",
     "output_type": "stream",
     "text": [
      "137 µs ± 929 ns per loop (mean ± std. dev. of 7 runs, 10,000 loops each)\n"
     ]
    }
   ],
   "source": [
    "t3 = FastTreeValue(_TREE_DATA_3)\n",
    "%timeit copy.deepcopy(t3)"
   ]
  },
  {
   "cell_type": "markdown",
   "id": "bf8be7ea",
   "metadata": {},
   "source": [
    "### Deep Copy of Tianshou Batch"
   ]
  },
  {
   "cell_type": "code",
   "execution_count": 18,
   "id": "91998e6f",
   "metadata": {
    "execution": {
     "iopub.execute_input": "2023-02-12T17:50:39.895050Z",
     "iopub.status.busy": "2023-02-12T17:50:39.894812Z",
     "iopub.status.idle": "2023-02-12T17:50:51.182584Z",
     "shell.execute_reply": "2023-02-12T17:50:51.181995Z"
    }
   },
   "outputs": [
    {
     "name": "stdout",
     "output_type": "stream",
     "text": [
      "139 µs ± 301 ns per loop (mean ± std. dev. of 7 runs, 10,000 loops each)\n"
     ]
    }
   ],
   "source": [
    "b3 = Batch(**_TREE_DATA_3)\n",
    "%timeit copy.deepcopy(b3)"
   ]
  },
  {
   "cell_type": "markdown",
   "id": "223162fb",
   "metadata": {},
   "source": [
    "## Stack, Concat and Split Operation"
   ]
  },
  {
   "cell_type": "markdown",
   "id": "85fa4a73",
   "metadata": {},
   "source": [
    "### Performance of TreeValue"
   ]
  },
  {
   "cell_type": "code",
   "execution_count": 19,
   "id": "a0c2b697",
   "metadata": {
    "execution": {
     "iopub.execute_input": "2023-02-12T17:50:51.186407Z",
     "iopub.status.busy": "2023-02-12T17:50:51.185501Z",
     "iopub.status.idle": "2023-02-12T17:50:51.189692Z",
     "shell.execute_reply": "2023-02-12T17:50:51.189171Z"
    }
   },
   "outputs": [],
   "source": [
    "trees = [FastTreeValue(_TREE_DATA_2) for _ in range(8)]"
   ]
  },
  {
   "cell_type": "code",
   "execution_count": 20,
   "id": "017ea5a5",
   "metadata": {
    "execution": {
     "iopub.execute_input": "2023-02-12T17:50:51.193131Z",
     "iopub.status.busy": "2023-02-12T17:50:51.192232Z",
     "iopub.status.idle": "2023-02-12T17:50:51.201299Z",
     "shell.execute_reply": "2023-02-12T17:50:51.200447Z"
    }
   },
   "outputs": [
    {
     "data": {
      "text/plain": [
       "<FastTreeValue 0x7fdd4e0b99a0>\n",
       "├── 'a' --> tensor([[[-0.4015,  1.0968, -0.2711],\n",
       "│                    [ 1.0180,  1.2828, -0.0234]],\n",
       "│           \n",
       "│                   [[-0.4015,  1.0968, -0.2711],\n",
       "│                    [ 1.0180,  1.2828, -0.0234]],\n",
       "│           \n",
       "│                   [[-0.4015,  1.0968, -0.2711],\n",
       "│                    [ 1.0180,  1.2828, -0.0234]],\n",
       "│           \n",
       "│                   [[-0.4015,  1.0968, -0.2711],\n",
       "│                    [ 1.0180,  1.2828, -0.0234]],\n",
       "│           \n",
       "│                   [[-0.4015,  1.0968, -0.2711],\n",
       "│                    [ 1.0180,  1.2828, -0.0234]],\n",
       "│           \n",
       "│                   [[-0.4015,  1.0968, -0.2711],\n",
       "│                    [ 1.0180,  1.2828, -0.0234]],\n",
       "│           \n",
       "│                   [[-0.4015,  1.0968, -0.2711],\n",
       "│                    [ 1.0180,  1.2828, -0.0234]],\n",
       "│           \n",
       "│                   [[-0.4015,  1.0968, -0.2711],\n",
       "│                    [ 1.0180,  1.2828, -0.0234]]])\n",
       "└── 'x' --> <FastTreeValue 0x7fdd4e0b99d0>\n",
       "    └── 'c' --> tensor([[[-0.2001,  2.5697,  1.7138,  1.9889],\n",
       "                         [ 1.1140, -0.3160, -0.0552,  1.4725],\n",
       "                         [ 0.9332, -0.0205,  2.5310,  0.1004]],\n",
       "                \n",
       "                        [[-0.2001,  2.5697,  1.7138,  1.9889],\n",
       "                         [ 1.1140, -0.3160, -0.0552,  1.4725],\n",
       "                         [ 0.9332, -0.0205,  2.5310,  0.1004]],\n",
       "                \n",
       "                        [[-0.2001,  2.5697,  1.7138,  1.9889],\n",
       "                         [ 1.1140, -0.3160, -0.0552,  1.4725],\n",
       "                         [ 0.9332, -0.0205,  2.5310,  0.1004]],\n",
       "                \n",
       "                        [[-0.2001,  2.5697,  1.7138,  1.9889],\n",
       "                         [ 1.1140, -0.3160, -0.0552,  1.4725],\n",
       "                         [ 0.9332, -0.0205,  2.5310,  0.1004]],\n",
       "                \n",
       "                        [[-0.2001,  2.5697,  1.7138,  1.9889],\n",
       "                         [ 1.1140, -0.3160, -0.0552,  1.4725],\n",
       "                         [ 0.9332, -0.0205,  2.5310,  0.1004]],\n",
       "                \n",
       "                        [[-0.2001,  2.5697,  1.7138,  1.9889],\n",
       "                         [ 1.1140, -0.3160, -0.0552,  1.4725],\n",
       "                         [ 0.9332, -0.0205,  2.5310,  0.1004]],\n",
       "                \n",
       "                        [[-0.2001,  2.5697,  1.7138,  1.9889],\n",
       "                         [ 1.1140, -0.3160, -0.0552,  1.4725],\n",
       "                         [ 0.9332, -0.0205,  2.5310,  0.1004]],\n",
       "                \n",
       "                        [[-0.2001,  2.5697,  1.7138,  1.9889],\n",
       "                         [ 1.1140, -0.3160, -0.0552,  1.4725],\n",
       "                         [ 0.9332, -0.0205,  2.5310,  0.1004]]])"
      ]
     },
     "execution_count": 20,
     "metadata": {},
     "output_type": "execute_result"
    }
   ],
   "source": [
    "t_stack = FastTreeValue.func(subside=True)(torch.stack)\n",
    "\n",
    "t_stack(trees)"
   ]
  },
  {
   "cell_type": "code",
   "execution_count": 21,
   "id": "f8b3f415",
   "metadata": {
    "execution": {
     "iopub.execute_input": "2023-02-12T17:50:51.204659Z",
     "iopub.status.busy": "2023-02-12T17:50:51.203789Z",
     "iopub.status.idle": "2023-02-12T17:50:53.832164Z",
     "shell.execute_reply": "2023-02-12T17:50:53.831194Z"
    }
   },
   "outputs": [
    {
     "name": "stdout",
     "output_type": "stream",
     "text": [
      "32.3 µs ± 29.2 ns per loop (mean ± std. dev. of 7 runs, 10,000 loops each)\n"
     ]
    }
   ],
   "source": [
    "%timeit t_stack(trees)"
   ]
  },
  {
   "cell_type": "code",
   "execution_count": 22,
   "id": "94b56771",
   "metadata": {
    "execution": {
     "iopub.execute_input": "2023-02-12T17:50:53.835298Z",
     "iopub.status.busy": "2023-02-12T17:50:53.834802Z",
     "iopub.status.idle": "2023-02-12T17:50:53.842593Z",
     "shell.execute_reply": "2023-02-12T17:50:53.842001Z"
    }
   },
   "outputs": [
    {
     "data": {
      "text/plain": [
       "<FastTreeValue 0x7fdd4e0b9730>\n",
       "├── 'a' --> tensor([[-0.4015,  1.0968, -0.2711],\n",
       "│                   [ 1.0180,  1.2828, -0.0234],\n",
       "│                   [-0.4015,  1.0968, -0.2711],\n",
       "│                   [ 1.0180,  1.2828, -0.0234],\n",
       "│                   [-0.4015,  1.0968, -0.2711],\n",
       "│                   [ 1.0180,  1.2828, -0.0234],\n",
       "│                   [-0.4015,  1.0968, -0.2711],\n",
       "│                   [ 1.0180,  1.2828, -0.0234],\n",
       "│                   [-0.4015,  1.0968, -0.2711],\n",
       "│                   [ 1.0180,  1.2828, -0.0234],\n",
       "│                   [-0.4015,  1.0968, -0.2711],\n",
       "│                   [ 1.0180,  1.2828, -0.0234],\n",
       "│                   [-0.4015,  1.0968, -0.2711],\n",
       "│                   [ 1.0180,  1.2828, -0.0234],\n",
       "│                   [-0.4015,  1.0968, -0.2711],\n",
       "│                   [ 1.0180,  1.2828, -0.0234]])\n",
       "└── 'x' --> <FastTreeValue 0x7fdd4e0b9af0>\n",
       "    └── 'c' --> tensor([[-0.2001,  2.5697,  1.7138,  1.9889],\n",
       "                        [ 1.1140, -0.3160, -0.0552,  1.4725],\n",
       "                        [ 0.9332, -0.0205,  2.5310,  0.1004],\n",
       "                        [-0.2001,  2.5697,  1.7138,  1.9889],\n",
       "                        [ 1.1140, -0.3160, -0.0552,  1.4725],\n",
       "                        [ 0.9332, -0.0205,  2.5310,  0.1004],\n",
       "                        [-0.2001,  2.5697,  1.7138,  1.9889],\n",
       "                        [ 1.1140, -0.3160, -0.0552,  1.4725],\n",
       "                        [ 0.9332, -0.0205,  2.5310,  0.1004],\n",
       "                        [-0.2001,  2.5697,  1.7138,  1.9889],\n",
       "                        [ 1.1140, -0.3160, -0.0552,  1.4725],\n",
       "                        [ 0.9332, -0.0205,  2.5310,  0.1004],\n",
       "                        [-0.2001,  2.5697,  1.7138,  1.9889],\n",
       "                        [ 1.1140, -0.3160, -0.0552,  1.4725],\n",
       "                        [ 0.9332, -0.0205,  2.5310,  0.1004],\n",
       "                        [-0.2001,  2.5697,  1.7138,  1.9889],\n",
       "                        [ 1.1140, -0.3160, -0.0552,  1.4725],\n",
       "                        [ 0.9332, -0.0205,  2.5310,  0.1004],\n",
       "                        [-0.2001,  2.5697,  1.7138,  1.9889],\n",
       "                        [ 1.1140, -0.3160, -0.0552,  1.4725],\n",
       "                        [ 0.9332, -0.0205,  2.5310,  0.1004],\n",
       "                        [-0.2001,  2.5697,  1.7138,  1.9889],\n",
       "                        [ 1.1140, -0.3160, -0.0552,  1.4725],\n",
       "                        [ 0.9332, -0.0205,  2.5310,  0.1004]])"
      ]
     },
     "execution_count": 22,
     "metadata": {},
     "output_type": "execute_result"
    }
   ],
   "source": [
    "t_cat = FastTreeValue.func(subside=True)(torch.cat)\n",
    "\n",
    "t_cat(trees)"
   ]
  },
  {
   "cell_type": "code",
   "execution_count": 23,
   "id": "5e9c06a6",
   "metadata": {
    "execution": {
     "iopub.execute_input": "2023-02-12T17:50:53.845372Z",
     "iopub.status.busy": "2023-02-12T17:50:53.844834Z",
     "iopub.status.idle": "2023-02-12T17:50:56.322039Z",
     "shell.execute_reply": "2023-02-12T17:50:56.321332Z"
    }
   },
   "outputs": [
    {
     "name": "stdout",
     "output_type": "stream",
     "text": [
      "30.5 µs ± 40.2 ns per loop (mean ± std. dev. of 7 runs, 10,000 loops each)\n"
     ]
    }
   ],
   "source": [
    "%timeit t_cat(trees)"
   ]
  },
  {
   "cell_type": "code",
   "execution_count": 24,
   "id": "a3ab5c8f",
   "metadata": {
    "execution": {
     "iopub.execute_input": "2023-02-12T17:50:56.324855Z",
     "iopub.status.busy": "2023-02-12T17:50:56.324246Z",
     "iopub.status.idle": "2023-02-12T17:51:01.194224Z",
     "shell.execute_reply": "2023-02-12T17:51:01.193495Z"
    }
   },
   "outputs": [
    {
     "name": "stdout",
     "output_type": "stream",
     "text": [
      "59.9 µs ± 72.8 ns per loop (mean ± std. dev. of 7 runs, 10,000 loops each)\n"
     ]
    }
   ],
   "source": [
    "t_split = FastTreeValue.func(rise=True)(torch.split)\n",
    "tree = FastTreeValue({\n",
    "    'obs': torch.randn(8, 4, 84, 84),\n",
    "    'action': torch.randint(0, 6, size=(8, 1,)),\n",
    "    'reward': torch.rand(8, 1),\n",
    "})\n",
    "\n",
    "%timeit t_split(tree, 1)"
   ]
  },
  {
   "cell_type": "markdown",
   "id": "31c3ec0b",
   "metadata": {},
   "source": [
    "### Performance of Tianshou Batch"
   ]
  },
  {
   "cell_type": "code",
   "execution_count": 25,
   "id": "9ead828a",
   "metadata": {
    "execution": {
     "iopub.execute_input": "2023-02-12T17:51:01.197120Z",
     "iopub.status.busy": "2023-02-12T17:51:01.196581Z",
     "iopub.status.idle": "2023-02-12T17:51:01.204377Z",
     "shell.execute_reply": "2023-02-12T17:51:01.203795Z"
    }
   },
   "outputs": [
    {
     "data": {
      "text/plain": [
       "Batch(\n",
       "    x: Batch(\n",
       "           c: tensor([[[-0.2001,  2.5697,  1.7138,  1.9889],\n",
       "                       [ 1.1140, -0.3160, -0.0552,  1.4725],\n",
       "                       [ 0.9332, -0.0205,  2.5310,  0.1004]],\n",
       "              \n",
       "                      [[-0.2001,  2.5697,  1.7138,  1.9889],\n",
       "                       [ 1.1140, -0.3160, -0.0552,  1.4725],\n",
       "                       [ 0.9332, -0.0205,  2.5310,  0.1004]],\n",
       "              \n",
       "                      [[-0.2001,  2.5697,  1.7138,  1.9889],\n",
       "                       [ 1.1140, -0.3160, -0.0552,  1.4725],\n",
       "                       [ 0.9332, -0.0205,  2.5310,  0.1004]],\n",
       "              \n",
       "                      [[-0.2001,  2.5697,  1.7138,  1.9889],\n",
       "                       [ 1.1140, -0.3160, -0.0552,  1.4725],\n",
       "                       [ 0.9332, -0.0205,  2.5310,  0.1004]],\n",
       "              \n",
       "                      [[-0.2001,  2.5697,  1.7138,  1.9889],\n",
       "                       [ 1.1140, -0.3160, -0.0552,  1.4725],\n",
       "                       [ 0.9332, -0.0205,  2.5310,  0.1004]],\n",
       "              \n",
       "                      [[-0.2001,  2.5697,  1.7138,  1.9889],\n",
       "                       [ 1.1140, -0.3160, -0.0552,  1.4725],\n",
       "                       [ 0.9332, -0.0205,  2.5310,  0.1004]],\n",
       "              \n",
       "                      [[-0.2001,  2.5697,  1.7138,  1.9889],\n",
       "                       [ 1.1140, -0.3160, -0.0552,  1.4725],\n",
       "                       [ 0.9332, -0.0205,  2.5310,  0.1004]],\n",
       "              \n",
       "                      [[-0.2001,  2.5697,  1.7138,  1.9889],\n",
       "                       [ 1.1140, -0.3160, -0.0552,  1.4725],\n",
       "                       [ 0.9332, -0.0205,  2.5310,  0.1004]]]),\n",
       "       ),\n",
       "    a: tensor([[[-0.4015,  1.0968, -0.2711],\n",
       "                [ 1.0180,  1.2828, -0.0234]],\n",
       "       \n",
       "               [[-0.4015,  1.0968, -0.2711],\n",
       "                [ 1.0180,  1.2828, -0.0234]],\n",
       "       \n",
       "               [[-0.4015,  1.0968, -0.2711],\n",
       "                [ 1.0180,  1.2828, -0.0234]],\n",
       "       \n",
       "               [[-0.4015,  1.0968, -0.2711],\n",
       "                [ 1.0180,  1.2828, -0.0234]],\n",
       "       \n",
       "               [[-0.4015,  1.0968, -0.2711],\n",
       "                [ 1.0180,  1.2828, -0.0234]],\n",
       "       \n",
       "               [[-0.4015,  1.0968, -0.2711],\n",
       "                [ 1.0180,  1.2828, -0.0234]],\n",
       "       \n",
       "               [[-0.4015,  1.0968, -0.2711],\n",
       "                [ 1.0180,  1.2828, -0.0234]],\n",
       "       \n",
       "               [[-0.4015,  1.0968, -0.2711],\n",
       "                [ 1.0180,  1.2828, -0.0234]]]),\n",
       ")"
      ]
     },
     "execution_count": 25,
     "metadata": {},
     "output_type": "execute_result"
    }
   ],
   "source": [
    "batches = [Batch(**_TREE_DATA_2) for _ in range(8)]\n",
    "\n",
    "Batch.stack(batches)"
   ]
  },
  {
   "cell_type": "code",
   "execution_count": 26,
   "id": "ec9037a3",
   "metadata": {
    "execution": {
     "iopub.execute_input": "2023-02-12T17:51:01.206765Z",
     "iopub.status.busy": "2023-02-12T17:51:01.206436Z",
     "iopub.status.idle": "2023-02-12T17:51:07.549792Z",
     "shell.execute_reply": "2023-02-12T17:51:07.549053Z"
    }
   },
   "outputs": [
    {
     "name": "stdout",
     "output_type": "stream",
     "text": [
      "78.1 µs ± 133 ns per loop (mean ± std. dev. of 7 runs, 10,000 loops each)\n"
     ]
    }
   ],
   "source": [
    "%timeit Batch.stack(batches)"
   ]
  },
  {
   "cell_type": "code",
   "execution_count": 27,
   "id": "cb8ab77e",
   "metadata": {
    "execution": {
     "iopub.execute_input": "2023-02-12T17:51:07.552944Z",
     "iopub.status.busy": "2023-02-12T17:51:07.552433Z",
     "iopub.status.idle": "2023-02-12T17:51:07.559997Z",
     "shell.execute_reply": "2023-02-12T17:51:07.559408Z"
    }
   },
   "outputs": [
    {
     "data": {
      "text/plain": [
       "Batch(\n",
       "    x: Batch(\n",
       "           c: tensor([[-0.2001,  2.5697,  1.7138,  1.9889],\n",
       "                      [ 1.1140, -0.3160, -0.0552,  1.4725],\n",
       "                      [ 0.9332, -0.0205,  2.5310,  0.1004],\n",
       "                      [-0.2001,  2.5697,  1.7138,  1.9889],\n",
       "                      [ 1.1140, -0.3160, -0.0552,  1.4725],\n",
       "                      [ 0.9332, -0.0205,  2.5310,  0.1004],\n",
       "                      [-0.2001,  2.5697,  1.7138,  1.9889],\n",
       "                      [ 1.1140, -0.3160, -0.0552,  1.4725],\n",
       "                      [ 0.9332, -0.0205,  2.5310,  0.1004],\n",
       "                      [-0.2001,  2.5697,  1.7138,  1.9889],\n",
       "                      [ 1.1140, -0.3160, -0.0552,  1.4725],\n",
       "                      [ 0.9332, -0.0205,  2.5310,  0.1004],\n",
       "                      [-0.2001,  2.5697,  1.7138,  1.9889],\n",
       "                      [ 1.1140, -0.3160, -0.0552,  1.4725],\n",
       "                      [ 0.9332, -0.0205,  2.5310,  0.1004],\n",
       "                      [-0.2001,  2.5697,  1.7138,  1.9889],\n",
       "                      [ 1.1140, -0.3160, -0.0552,  1.4725],\n",
       "                      [ 0.9332, -0.0205,  2.5310,  0.1004],\n",
       "                      [-0.2001,  2.5697,  1.7138,  1.9889],\n",
       "                      [ 1.1140, -0.3160, -0.0552,  1.4725],\n",
       "                      [ 0.9332, -0.0205,  2.5310,  0.1004],\n",
       "                      [-0.2001,  2.5697,  1.7138,  1.9889],\n",
       "                      [ 1.1140, -0.3160, -0.0552,  1.4725],\n",
       "                      [ 0.9332, -0.0205,  2.5310,  0.1004]]),\n",
       "       ),\n",
       "    a: tensor([[-0.4015,  1.0968, -0.2711],\n",
       "               [ 1.0180,  1.2828, -0.0234],\n",
       "               [-0.4015,  1.0968, -0.2711],\n",
       "               [ 1.0180,  1.2828, -0.0234],\n",
       "               [-0.4015,  1.0968, -0.2711],\n",
       "               [ 1.0180,  1.2828, -0.0234],\n",
       "               [-0.4015,  1.0968, -0.2711],\n",
       "               [ 1.0180,  1.2828, -0.0234],\n",
       "               [-0.4015,  1.0968, -0.2711],\n",
       "               [ 1.0180,  1.2828, -0.0234],\n",
       "               [-0.4015,  1.0968, -0.2711],\n",
       "               [ 1.0180,  1.2828, -0.0234],\n",
       "               [-0.4015,  1.0968, -0.2711],\n",
       "               [ 1.0180,  1.2828, -0.0234],\n",
       "               [-0.4015,  1.0968, -0.2711],\n",
       "               [ 1.0180,  1.2828, -0.0234]]),\n",
       ")"
      ]
     },
     "execution_count": 27,
     "metadata": {},
     "output_type": "execute_result"
    }
   ],
   "source": [
    "Batch.cat(batches)"
   ]
  },
  {
   "cell_type": "code",
   "execution_count": 28,
   "id": "18dfb045",
   "metadata": {
    "execution": {
     "iopub.execute_input": "2023-02-12T17:51:07.562588Z",
     "iopub.status.busy": "2023-02-12T17:51:07.562259Z",
     "iopub.status.idle": "2023-02-12T17:51:19.212188Z",
     "shell.execute_reply": "2023-02-12T17:51:19.211468Z"
    }
   },
   "outputs": [
    {
     "name": "stdout",
     "output_type": "stream",
     "text": [
      "143 µs ± 187 ns per loop (mean ± std. dev. of 7 runs, 10,000 loops each)\n"
     ]
    }
   ],
   "source": [
    "%timeit Batch.cat(batches)"
   ]
  },
  {
   "cell_type": "code",
   "execution_count": 29,
   "id": "c6688e51",
   "metadata": {
    "execution": {
     "iopub.execute_input": "2023-02-12T17:51:19.215167Z",
     "iopub.status.busy": "2023-02-12T17:51:19.214819Z",
     "iopub.status.idle": "2023-02-12T17:51:21.704638Z",
     "shell.execute_reply": "2023-02-12T17:51:21.704065Z"
    }
   },
   "outputs": [
    {
     "name": "stdout",
     "output_type": "stream",
     "text": [
      "306 µs ± 1.73 µs per loop (mean ± std. dev. of 7 runs, 1,000 loops each)\n"
     ]
    }
   ],
   "source": [
    "batch = Batch({\n",
    "    'obs': torch.randn(8, 4, 84, 84),\n",
    "    'action': torch.randint(0, 6, size=(8, 1,)),\n",
    "    'reward': torch.rand(8, 1)}\n",
    ")\n",
    "\n",
    "%timeit list(Batch.split(batch, 1, shuffle=False, merge_last=True))"
   ]
  },
  {
   "cell_type": "code",
   "execution_count": null,
   "id": "2539fbd9",
   "metadata": {},
   "outputs": [],
   "source": []
  }
 ],
 "metadata": {
  "kernelspec": {
   "display_name": "Python 3 (ipykernel)",
   "language": "python",
   "name": "python3"
  },
  "language_info": {
   "codemirror_mode": {
    "name": "ipython",
    "version": 3
   },
   "file_extension": ".py",
   "mimetype": "text/x-python",
   "name": "python",
   "nbconvert_exporter": "python",
   "pygments_lexer": "ipython3",
   "version": "3.8.16"
  }
 },
 "nbformat": 4,
 "nbformat_minor": 5
}
