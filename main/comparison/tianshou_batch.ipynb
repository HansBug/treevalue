{
 "cells": [
  {
   "cell_type": "markdown",
   "id": "9d39d946",
   "metadata": {},
   "source": [
    "# Comparison Between TreeValue and Tianshou Batch"
   ]
  },
  {
   "cell_type": "markdown",
   "id": "3c6db2d4",
   "metadata": {},
   "source": [
    "In this section, we will take a look at the feature and performance of the [Tianshou Batch](https://github.com/thu-ml/tianshou) library, which is developed by Tsinghua Machine Learning Group."
   ]
  },
  {
   "cell_type": "markdown",
   "id": "069361b0",
   "metadata": {},
   "source": [
    "Before starting the comparison, let us define some thing."
   ]
  },
  {
   "cell_type": "code",
   "execution_count": 1,
   "id": "06fc8d26",
   "metadata": {
    "execution": {
     "iopub.execute_input": "2023-01-24T18:00:55.074239Z",
     "iopub.status.busy": "2023-01-24T18:00:55.074033Z",
     "iopub.status.idle": "2023-01-24T18:00:56.018469Z",
     "shell.execute_reply": "2023-01-24T18:00:56.017765Z"
    }
   },
   "outputs": [
    {
     "name": "stderr",
     "output_type": "stream",
     "text": [
      "/opt/hostedtoolcache/Python/3.8.16/x64/lib/python3.8/site-packages/tqdm/auto.py:22: TqdmWarning: IProgress not found. Please update jupyter and ipywidgets. See https://ipywidgets.readthedocs.io/en/stable/user_install.html\n",
      "  from .autonotebook import tqdm as notebook_tqdm\n"
     ]
    }
   ],
   "source": [
    "import torch \n",
    "\n",
    "_TREE_DATA_1 = {'a': 1, 'b': 2, 'x': {'c': 3, 'd': 4}}\n",
    "_TREE_DATA_2 = {\n",
    "    'a': torch.randn(2, 3), \n",
    "    'x': {\n",
    "        'c': torch.randn(3, 4)\n",
    "    },\n",
    "}\n",
    "_TREE_DATA_3 = {\n",
    "    'obs': torch.randn(4, 84, 84),\n",
    "    'action': torch.randint(0, 6, size=(1,)),\n",
    "    'reward': torch.rand(1),\n",
    "}"
   ]
  },
  {
   "cell_type": "markdown",
   "id": "83461b25",
   "metadata": {},
   "source": [
    "## Read and Write Operation"
   ]
  },
  {
   "cell_type": "markdown",
   "id": "067b3f73",
   "metadata": {},
   "source": [
    "Reading and writing are the two most common operations in the tree data structure based on the data model (TreeValue and Tianshou Batch both belong to this type), so this section will compare the reading and writing performance of these two libraries."
   ]
  },
  {
   "cell_type": "markdown",
   "id": "5d09a5b7",
   "metadata": {},
   "source": [
    "### TreeValue's Get and Set"
   ]
  },
  {
   "cell_type": "code",
   "execution_count": 2,
   "id": "9519c4bb",
   "metadata": {
    "execution": {
     "iopub.execute_input": "2023-01-24T18:00:56.022088Z",
     "iopub.status.busy": "2023-01-24T18:00:56.021553Z",
     "iopub.status.idle": "2023-01-24T18:00:56.054720Z",
     "shell.execute_reply": "2023-01-24T18:00:56.054072Z"
    }
   },
   "outputs": [],
   "source": [
    "from treevalue import FastTreeValue\n",
    "\n",
    "t = FastTreeValue(_TREE_DATA_2)"
   ]
  },
  {
   "cell_type": "code",
   "execution_count": 3,
   "id": "11c37677",
   "metadata": {
    "execution": {
     "iopub.execute_input": "2023-01-24T18:00:56.057744Z",
     "iopub.status.busy": "2023-01-24T18:00:56.057516Z",
     "iopub.status.idle": "2023-01-24T18:00:56.065937Z",
     "shell.execute_reply": "2023-01-24T18:00:56.065248Z"
    }
   },
   "outputs": [
    {
     "data": {
      "text/plain": [
       "<FastTreeValue 0x7f3248c66f10>\n",
       "├── 'a' --> tensor([[-2.3859, -0.3395,  0.0179],\n",
       "│                   [ 0.8434, -0.7572, -0.6326]])\n",
       "└── 'x' --> <FastTreeValue 0x7f3248c66d00>\n",
       "    └── 'c' --> tensor([[-1.5038,  1.2319, -1.3567,  1.3304],\n",
       "                        [ 0.0822, -0.9802, -1.5036, -0.0740],\n",
       "                        [-0.3451,  1.8868,  0.3188, -1.0186]])"
      ]
     },
     "execution_count": 3,
     "metadata": {},
     "output_type": "execute_result"
    }
   ],
   "source": [
    "t"
   ]
  },
  {
   "cell_type": "code",
   "execution_count": 4,
   "id": "fd70b0b9",
   "metadata": {
    "execution": {
     "iopub.execute_input": "2023-01-24T18:00:56.069145Z",
     "iopub.status.busy": "2023-01-24T18:00:56.068929Z",
     "iopub.status.idle": "2023-01-24T18:00:56.073831Z",
     "shell.execute_reply": "2023-01-24T18:00:56.073177Z"
    }
   },
   "outputs": [
    {
     "data": {
      "text/plain": [
       "tensor([[-2.3859, -0.3395,  0.0179],\n",
       "        [ 0.8434, -0.7572, -0.6326]])"
      ]
     },
     "execution_count": 4,
     "metadata": {},
     "output_type": "execute_result"
    }
   ],
   "source": [
    "t.a"
   ]
  },
  {
   "cell_type": "code",
   "execution_count": 5,
   "id": "c18197bd",
   "metadata": {
    "execution": {
     "iopub.execute_input": "2023-01-24T18:00:56.076476Z",
     "iopub.status.busy": "2023-01-24T18:00:56.076251Z",
     "iopub.status.idle": "2023-01-24T18:01:01.068402Z",
     "shell.execute_reply": "2023-01-24T18:01:01.067807Z"
    }
   },
   "outputs": [
    {
     "name": "stdout",
     "output_type": "stream",
     "text": [
      "61.6 ns ± 0.0318 ns per loop (mean ± std. dev. of 7 runs, 10,000,000 loops each)\n"
     ]
    }
   ],
   "source": [
    "%timeit t.a"
   ]
  },
  {
   "cell_type": "code",
   "execution_count": 6,
   "id": "bd52f867",
   "metadata": {
    "execution": {
     "iopub.execute_input": "2023-01-24T18:01:01.071851Z",
     "iopub.status.busy": "2023-01-24T18:01:01.071210Z",
     "iopub.status.idle": "2023-01-24T18:01:01.078540Z",
     "shell.execute_reply": "2023-01-24T18:01:01.077871Z"
    }
   },
   "outputs": [
    {
     "data": {
      "text/plain": [
       "<FastTreeValue 0x7f3248c66f10>\n",
       "├── 'a' --> tensor([[ 0.1982, -0.2652, -1.6321],\n",
       "│                   [-1.4441, -1.2793,  0.8600]])\n",
       "└── 'x' --> <FastTreeValue 0x7f3248c66d00>\n",
       "    └── 'c' --> tensor([[-1.5038,  1.2319, -1.3567,  1.3304],\n",
       "                        [ 0.0822, -0.9802, -1.5036, -0.0740],\n",
       "                        [-0.3451,  1.8868,  0.3188, -1.0186]])"
      ]
     },
     "execution_count": 6,
     "metadata": {},
     "output_type": "execute_result"
    }
   ],
   "source": [
    "new_value = torch.randn(2, 3)\n",
    "t.a = new_value\n",
    "\n",
    "t"
   ]
  },
  {
   "cell_type": "code",
   "execution_count": 7,
   "id": "bbe04d1c",
   "metadata": {
    "execution": {
     "iopub.execute_input": "2023-01-24T18:01:01.081542Z",
     "iopub.status.busy": "2023-01-24T18:01:01.081149Z",
     "iopub.status.idle": "2023-01-24T18:01:06.026159Z",
     "shell.execute_reply": "2023-01-24T18:01:06.025064Z"
    }
   },
   "outputs": [
    {
     "name": "stdout",
     "output_type": "stream",
     "text": [
      "61.4 ns ± 0.0741 ns per loop (mean ± std. dev. of 7 runs, 10,000,000 loops each)\n"
     ]
    }
   ],
   "source": [
    "%timeit t.a = new_value"
   ]
  },
  {
   "cell_type": "markdown",
   "id": "48c49731",
   "metadata": {},
   "source": [
    "### Tianshou Batch's Get and Set"
   ]
  },
  {
   "cell_type": "code",
   "execution_count": 8,
   "id": "f1bb14c1",
   "metadata": {
    "execution": {
     "iopub.execute_input": "2023-01-24T18:01:06.029852Z",
     "iopub.status.busy": "2023-01-24T18:01:06.029209Z",
     "iopub.status.idle": "2023-01-24T18:01:06.384403Z",
     "shell.execute_reply": "2023-01-24T18:01:06.383703Z"
    }
   },
   "outputs": [],
   "source": [
    "from tianshou.data import Batch\n",
    "\n",
    "b = Batch(**_TREE_DATA_2)"
   ]
  },
  {
   "cell_type": "code",
   "execution_count": 9,
   "id": "cb0777c3",
   "metadata": {
    "execution": {
     "iopub.execute_input": "2023-01-24T18:01:06.388924Z",
     "iopub.status.busy": "2023-01-24T18:01:06.387381Z",
     "iopub.status.idle": "2023-01-24T18:01:06.394046Z",
     "shell.execute_reply": "2023-01-24T18:01:06.393391Z"
    }
   },
   "outputs": [
    {
     "data": {
      "text/plain": [
       "Batch(\n",
       "    a: tensor([[-2.3859, -0.3395,  0.0179],\n",
       "               [ 0.8434, -0.7572, -0.6326]]),\n",
       "    x: Batch(\n",
       "           c: tensor([[-1.5038,  1.2319, -1.3567,  1.3304],\n",
       "                      [ 0.0822, -0.9802, -1.5036, -0.0740],\n",
       "                      [-0.3451,  1.8868,  0.3188, -1.0186]]),\n",
       "       ),\n",
       ")"
      ]
     },
     "execution_count": 9,
     "metadata": {},
     "output_type": "execute_result"
    }
   ],
   "source": [
    "b"
   ]
  },
  {
   "cell_type": "code",
   "execution_count": 10,
   "id": "43ef8ea3",
   "metadata": {
    "execution": {
     "iopub.execute_input": "2023-01-24T18:01:06.397220Z",
     "iopub.status.busy": "2023-01-24T18:01:06.396599Z",
     "iopub.status.idle": "2023-01-24T18:01:06.401593Z",
     "shell.execute_reply": "2023-01-24T18:01:06.400957Z"
    }
   },
   "outputs": [
    {
     "data": {
      "text/plain": [
       "tensor([[-2.3859, -0.3395,  0.0179],\n",
       "        [ 0.8434, -0.7572, -0.6326]])"
      ]
     },
     "execution_count": 10,
     "metadata": {},
     "output_type": "execute_result"
    }
   ],
   "source": [
    "b.a"
   ]
  },
  {
   "cell_type": "code",
   "execution_count": 11,
   "id": "b785ab72",
   "metadata": {
    "execution": {
     "iopub.execute_input": "2023-01-24T18:01:06.404381Z",
     "iopub.status.busy": "2023-01-24T18:01:06.404029Z",
     "iopub.status.idle": "2023-01-24T18:01:11.044497Z",
     "shell.execute_reply": "2023-01-24T18:01:11.043724Z"
    }
   },
   "outputs": [
    {
     "name": "stdout",
     "output_type": "stream",
     "text": [
      "57.3 ns ± 0.0214 ns per loop (mean ± std. dev. of 7 runs, 10,000,000 loops each)\n"
     ]
    }
   ],
   "source": [
    "%timeit b.a"
   ]
  },
  {
   "cell_type": "code",
   "execution_count": 12,
   "id": "ad54dc69",
   "metadata": {
    "execution": {
     "iopub.execute_input": "2023-01-24T18:01:11.048082Z",
     "iopub.status.busy": "2023-01-24T18:01:11.047439Z",
     "iopub.status.idle": "2023-01-24T18:01:11.053786Z",
     "shell.execute_reply": "2023-01-24T18:01:11.053020Z"
    }
   },
   "outputs": [
    {
     "data": {
      "text/plain": [
       "Batch(\n",
       "    a: tensor([[0.0195, 0.9483, 0.3936],\n",
       "               [0.8272, 0.8528, 0.1719]]),\n",
       "    x: Batch(\n",
       "           c: tensor([[-1.5038,  1.2319, -1.3567,  1.3304],\n",
       "                      [ 0.0822, -0.9802, -1.5036, -0.0740],\n",
       "                      [-0.3451,  1.8868,  0.3188, -1.0186]]),\n",
       "       ),\n",
       ")"
      ]
     },
     "execution_count": 12,
     "metadata": {},
     "output_type": "execute_result"
    }
   ],
   "source": [
    "new_value = torch.randn(2, 3)\n",
    "b.a = new_value\n",
    "\n",
    "b"
   ]
  },
  {
   "cell_type": "code",
   "execution_count": 13,
   "id": "29b1d0bf",
   "metadata": {
    "execution": {
     "iopub.execute_input": "2023-01-24T18:01:11.057067Z",
     "iopub.status.busy": "2023-01-24T18:01:11.056443Z",
     "iopub.status.idle": "2023-01-24T18:01:15.011542Z",
     "shell.execute_reply": "2023-01-24T18:01:15.010870Z"
    }
   },
   "outputs": [
    {
     "name": "stdout",
     "output_type": "stream",
     "text": [
      "487 ns ± 0.144 ns per loop (mean ± std. dev. of 7 runs, 1,000,000 loops each)\n"
     ]
    }
   ],
   "source": [
    "%timeit b.a = new_value"
   ]
  },
  {
   "cell_type": "markdown",
   "id": "b61ad1d0",
   "metadata": {},
   "source": [
    "## Initialization"
   ]
  },
  {
   "cell_type": "markdown",
   "id": "d70f0d54",
   "metadata": {},
   "source": [
    "### TreeValue's Initialization"
   ]
  },
  {
   "cell_type": "code",
   "execution_count": 14,
   "id": "d32a679b",
   "metadata": {
    "execution": {
     "iopub.execute_input": "2023-01-24T18:01:15.015297Z",
     "iopub.status.busy": "2023-01-24T18:01:15.014677Z",
     "iopub.status.idle": "2023-01-24T18:01:21.880941Z",
     "shell.execute_reply": "2023-01-24T18:01:21.880343Z"
    }
   },
   "outputs": [
    {
     "name": "stdout",
     "output_type": "stream",
     "text": [
      "845 ns ± 1.41 ns per loop (mean ± std. dev. of 7 runs, 1,000,000 loops each)\n"
     ]
    }
   ],
   "source": [
    "%timeit FastTreeValue(_TREE_DATA_1)"
   ]
  },
  {
   "cell_type": "markdown",
   "id": "24f3707b",
   "metadata": {},
   "source": [
    "### Tianshou Batch's Initialization"
   ]
  },
  {
   "cell_type": "code",
   "execution_count": 15,
   "id": "ac3958df",
   "metadata": {
    "execution": {
     "iopub.execute_input": "2023-01-24T18:01:21.884152Z",
     "iopub.status.busy": "2023-01-24T18:01:21.883899Z",
     "iopub.status.idle": "2023-01-24T18:01:31.115682Z",
     "shell.execute_reply": "2023-01-24T18:01:31.115028Z"
    }
   },
   "outputs": [
    {
     "name": "stdout",
     "output_type": "stream",
     "text": [
      "11.4 µs ± 28.8 ns per loop (mean ± std. dev. of 7 runs, 100,000 loops each)\n"
     ]
    }
   ],
   "source": [
    "%timeit Batch(**_TREE_DATA_1)"
   ]
  },
  {
   "cell_type": "markdown",
   "id": "1ab82e2d",
   "metadata": {},
   "source": [
    "## Deep Copy Operation"
   ]
  },
  {
   "cell_type": "code",
   "execution_count": 16,
   "id": "210a9442",
   "metadata": {
    "execution": {
     "iopub.execute_input": "2023-01-24T18:01:31.119187Z",
     "iopub.status.busy": "2023-01-24T18:01:31.118594Z",
     "iopub.status.idle": "2023-01-24T18:01:31.123246Z",
     "shell.execute_reply": "2023-01-24T18:01:31.122579Z"
    }
   },
   "outputs": [],
   "source": [
    "import copy"
   ]
  },
  {
   "cell_type": "markdown",
   "id": "5a736274",
   "metadata": {},
   "source": [
    "### Deep Copy of TreeValue"
   ]
  },
  {
   "cell_type": "code",
   "execution_count": 17,
   "id": "f9bcadd6",
   "metadata": {
    "execution": {
     "iopub.execute_input": "2023-01-24T18:01:31.126749Z",
     "iopub.status.busy": "2023-01-24T18:01:31.126369Z",
     "iopub.status.idle": "2023-01-24T18:01:42.249382Z",
     "shell.execute_reply": "2023-01-24T18:01:42.248820Z"
    }
   },
   "outputs": [
    {
     "name": "stdout",
     "output_type": "stream",
     "text": [
      "137 µs ± 505 ns per loop (mean ± std. dev. of 7 runs, 10,000 loops each)\n"
     ]
    }
   ],
   "source": [
    "t3 = FastTreeValue(_TREE_DATA_3)\n",
    "%timeit copy.deepcopy(t3)"
   ]
  },
  {
   "cell_type": "markdown",
   "id": "bf8be7ea",
   "metadata": {},
   "source": [
    "### Deep Copy of Tianshou Batch"
   ]
  },
  {
   "cell_type": "code",
   "execution_count": 18,
   "id": "91998e6f",
   "metadata": {
    "execution": {
     "iopub.execute_input": "2023-01-24T18:01:42.252400Z",
     "iopub.status.busy": "2023-01-24T18:01:42.252027Z",
     "iopub.status.idle": "2023-01-24T18:01:53.440949Z",
     "shell.execute_reply": "2023-01-24T18:01:53.440386Z"
    }
   },
   "outputs": [
    {
     "name": "stdout",
     "output_type": "stream",
     "text": [
      "138 µs ± 365 ns per loop (mean ± std. dev. of 7 runs, 10,000 loops each)\n"
     ]
    }
   ],
   "source": [
    "b3 = Batch(**_TREE_DATA_3)\n",
    "%timeit copy.deepcopy(b3)"
   ]
  },
  {
   "cell_type": "markdown",
   "id": "223162fb",
   "metadata": {},
   "source": [
    "## Stack, Concat and Split Operation"
   ]
  },
  {
   "cell_type": "markdown",
   "id": "85fa4a73",
   "metadata": {},
   "source": [
    "### Performance of TreeValue"
   ]
  },
  {
   "cell_type": "code",
   "execution_count": 19,
   "id": "a0c2b697",
   "metadata": {
    "execution": {
     "iopub.execute_input": "2023-01-24T18:01:53.444041Z",
     "iopub.status.busy": "2023-01-24T18:01:53.443611Z",
     "iopub.status.idle": "2023-01-24T18:01:53.446855Z",
     "shell.execute_reply": "2023-01-24T18:01:53.446318Z"
    }
   },
   "outputs": [],
   "source": [
    "trees = [FastTreeValue(_TREE_DATA_2) for _ in range(8)]"
   ]
  },
  {
   "cell_type": "code",
   "execution_count": 20,
   "id": "017ea5a5",
   "metadata": {
    "execution": {
     "iopub.execute_input": "2023-01-24T18:01:53.449565Z",
     "iopub.status.busy": "2023-01-24T18:01:53.449143Z",
     "iopub.status.idle": "2023-01-24T18:01:53.456073Z",
     "shell.execute_reply": "2023-01-24T18:01:53.455548Z"
    }
   },
   "outputs": [
    {
     "data": {
      "text/plain": [
       "<FastTreeValue 0x7f319b978d30>\n",
       "├── 'a' --> tensor([[[-2.3859, -0.3395,  0.0179],\n",
       "│                    [ 0.8434, -0.7572, -0.6326]],\n",
       "│           \n",
       "│                   [[-2.3859, -0.3395,  0.0179],\n",
       "│                    [ 0.8434, -0.7572, -0.6326]],\n",
       "│           \n",
       "│                   [[-2.3859, -0.3395,  0.0179],\n",
       "│                    [ 0.8434, -0.7572, -0.6326]],\n",
       "│           \n",
       "│                   [[-2.3859, -0.3395,  0.0179],\n",
       "│                    [ 0.8434, -0.7572, -0.6326]],\n",
       "│           \n",
       "│                   [[-2.3859, -0.3395,  0.0179],\n",
       "│                    [ 0.8434, -0.7572, -0.6326]],\n",
       "│           \n",
       "│                   [[-2.3859, -0.3395,  0.0179],\n",
       "│                    [ 0.8434, -0.7572, -0.6326]],\n",
       "│           \n",
       "│                   [[-2.3859, -0.3395,  0.0179],\n",
       "│                    [ 0.8434, -0.7572, -0.6326]],\n",
       "│           \n",
       "│                   [[-2.3859, -0.3395,  0.0179],\n",
       "│                    [ 0.8434, -0.7572, -0.6326]]])\n",
       "└── 'x' --> <FastTreeValue 0x7f319b978bb0>\n",
       "    └── 'c' --> tensor([[[-1.5038,  1.2319, -1.3567,  1.3304],\n",
       "                         [ 0.0822, -0.9802, -1.5036, -0.0740],\n",
       "                         [-0.3451,  1.8868,  0.3188, -1.0186]],\n",
       "                \n",
       "                        [[-1.5038,  1.2319, -1.3567,  1.3304],\n",
       "                         [ 0.0822, -0.9802, -1.5036, -0.0740],\n",
       "                         [-0.3451,  1.8868,  0.3188, -1.0186]],\n",
       "                \n",
       "                        [[-1.5038,  1.2319, -1.3567,  1.3304],\n",
       "                         [ 0.0822, -0.9802, -1.5036, -0.0740],\n",
       "                         [-0.3451,  1.8868,  0.3188, -1.0186]],\n",
       "                \n",
       "                        [[-1.5038,  1.2319, -1.3567,  1.3304],\n",
       "                         [ 0.0822, -0.9802, -1.5036, -0.0740],\n",
       "                         [-0.3451,  1.8868,  0.3188, -1.0186]],\n",
       "                \n",
       "                        [[-1.5038,  1.2319, -1.3567,  1.3304],\n",
       "                         [ 0.0822, -0.9802, -1.5036, -0.0740],\n",
       "                         [-0.3451,  1.8868,  0.3188, -1.0186]],\n",
       "                \n",
       "                        [[-1.5038,  1.2319, -1.3567,  1.3304],\n",
       "                         [ 0.0822, -0.9802, -1.5036, -0.0740],\n",
       "                         [-0.3451,  1.8868,  0.3188, -1.0186]],\n",
       "                \n",
       "                        [[-1.5038,  1.2319, -1.3567,  1.3304],\n",
       "                         [ 0.0822, -0.9802, -1.5036, -0.0740],\n",
       "                         [-0.3451,  1.8868,  0.3188, -1.0186]],\n",
       "                \n",
       "                        [[-1.5038,  1.2319, -1.3567,  1.3304],\n",
       "                         [ 0.0822, -0.9802, -1.5036, -0.0740],\n",
       "                         [-0.3451,  1.8868,  0.3188, -1.0186]]])"
      ]
     },
     "execution_count": 20,
     "metadata": {},
     "output_type": "execute_result"
    }
   ],
   "source": [
    "t_stack = FastTreeValue.func(subside=True)(torch.stack)\n",
    "\n",
    "t_stack(trees)"
   ]
  },
  {
   "cell_type": "code",
   "execution_count": 21,
   "id": "f8b3f415",
   "metadata": {
    "execution": {
     "iopub.execute_input": "2023-01-24T18:01:53.458735Z",
     "iopub.status.busy": "2023-01-24T18:01:53.458332Z",
     "iopub.status.idle": "2023-01-24T18:01:56.095930Z",
     "shell.execute_reply": "2023-01-24T18:01:56.095333Z"
    }
   },
   "outputs": [
    {
     "name": "stdout",
     "output_type": "stream",
     "text": [
      "32.4 µs ± 24.8 ns per loop (mean ± std. dev. of 7 runs, 10,000 loops each)\n"
     ]
    }
   ],
   "source": [
    "%timeit t_stack(trees)"
   ]
  },
  {
   "cell_type": "code",
   "execution_count": 22,
   "id": "94b56771",
   "metadata": {
    "execution": {
     "iopub.execute_input": "2023-01-24T18:01:56.098983Z",
     "iopub.status.busy": "2023-01-24T18:01:56.098745Z",
     "iopub.status.idle": "2023-01-24T18:01:56.106281Z",
     "shell.execute_reply": "2023-01-24T18:01:56.105594Z"
    }
   },
   "outputs": [
    {
     "data": {
      "text/plain": [
       "<FastTreeValue 0x7f319b928b80>\n",
       "├── 'a' --> tensor([[-2.3859, -0.3395,  0.0179],\n",
       "│                   [ 0.8434, -0.7572, -0.6326],\n",
       "│                   [-2.3859, -0.3395,  0.0179],\n",
       "│                   [ 0.8434, -0.7572, -0.6326],\n",
       "│                   [-2.3859, -0.3395,  0.0179],\n",
       "│                   [ 0.8434, -0.7572, -0.6326],\n",
       "│                   [-2.3859, -0.3395,  0.0179],\n",
       "│                   [ 0.8434, -0.7572, -0.6326],\n",
       "│                   [-2.3859, -0.3395,  0.0179],\n",
       "│                   [ 0.8434, -0.7572, -0.6326],\n",
       "│                   [-2.3859, -0.3395,  0.0179],\n",
       "│                   [ 0.8434, -0.7572, -0.6326],\n",
       "│                   [-2.3859, -0.3395,  0.0179],\n",
       "│                   [ 0.8434, -0.7572, -0.6326],\n",
       "│                   [-2.3859, -0.3395,  0.0179],\n",
       "│                   [ 0.8434, -0.7572, -0.6326]])\n",
       "└── 'x' --> <FastTreeValue 0x7f319b928c40>\n",
       "    └── 'c' --> tensor([[-1.5038,  1.2319, -1.3567,  1.3304],\n",
       "                        [ 0.0822, -0.9802, -1.5036, -0.0740],\n",
       "                        [-0.3451,  1.8868,  0.3188, -1.0186],\n",
       "                        [-1.5038,  1.2319, -1.3567,  1.3304],\n",
       "                        [ 0.0822, -0.9802, -1.5036, -0.0740],\n",
       "                        [-0.3451,  1.8868,  0.3188, -1.0186],\n",
       "                        [-1.5038,  1.2319, -1.3567,  1.3304],\n",
       "                        [ 0.0822, -0.9802, -1.5036, -0.0740],\n",
       "                        [-0.3451,  1.8868,  0.3188, -1.0186],\n",
       "                        [-1.5038,  1.2319, -1.3567,  1.3304],\n",
       "                        [ 0.0822, -0.9802, -1.5036, -0.0740],\n",
       "                        [-0.3451,  1.8868,  0.3188, -1.0186],\n",
       "                        [-1.5038,  1.2319, -1.3567,  1.3304],\n",
       "                        [ 0.0822, -0.9802, -1.5036, -0.0740],\n",
       "                        [-0.3451,  1.8868,  0.3188, -1.0186],\n",
       "                        [-1.5038,  1.2319, -1.3567,  1.3304],\n",
       "                        [ 0.0822, -0.9802, -1.5036, -0.0740],\n",
       "                        [-0.3451,  1.8868,  0.3188, -1.0186],\n",
       "                        [-1.5038,  1.2319, -1.3567,  1.3304],\n",
       "                        [ 0.0822, -0.9802, -1.5036, -0.0740],\n",
       "                        [-0.3451,  1.8868,  0.3188, -1.0186],\n",
       "                        [-1.5038,  1.2319, -1.3567,  1.3304],\n",
       "                        [ 0.0822, -0.9802, -1.5036, -0.0740],\n",
       "                        [-0.3451,  1.8868,  0.3188, -1.0186]])"
      ]
     },
     "execution_count": 22,
     "metadata": {},
     "output_type": "execute_result"
    }
   ],
   "source": [
    "t_cat = FastTreeValue.func(subside=True)(torch.cat)\n",
    "\n",
    "t_cat(trees)"
   ]
  },
  {
   "cell_type": "code",
   "execution_count": 23,
   "id": "5e9c06a6",
   "metadata": {
    "execution": {
     "iopub.execute_input": "2023-01-24T18:01:56.109945Z",
     "iopub.status.busy": "2023-01-24T18:01:56.109553Z",
     "iopub.status.idle": "2023-01-24T18:01:58.575065Z",
     "shell.execute_reply": "2023-01-24T18:01:58.574085Z"
    }
   },
   "outputs": [
    {
     "name": "stdout",
     "output_type": "stream",
     "text": [
      "30.3 µs ± 61.7 ns per loop (mean ± std. dev. of 7 runs, 10,000 loops each)\n"
     ]
    }
   ],
   "source": [
    "%timeit t_cat(trees)"
   ]
  },
  {
   "cell_type": "code",
   "execution_count": 24,
   "id": "a3ab5c8f",
   "metadata": {
    "execution": {
     "iopub.execute_input": "2023-01-24T18:01:58.578842Z",
     "iopub.status.busy": "2023-01-24T18:01:58.578283Z",
     "iopub.status.idle": "2023-01-24T18:02:03.223941Z",
     "shell.execute_reply": "2023-01-24T18:02:03.223331Z"
    }
   },
   "outputs": [
    {
     "name": "stdout",
     "output_type": "stream",
     "text": [
      "57 µs ± 115 ns per loop (mean ± std. dev. of 7 runs, 10,000 loops each)\n"
     ]
    }
   ],
   "source": [
    "t_split = FastTreeValue.func(rise=True)(torch.split)\n",
    "tree = FastTreeValue({\n",
    "    'obs': torch.randn(8, 4, 84, 84),\n",
    "    'action': torch.randint(0, 6, size=(8, 1,)),\n",
    "    'reward': torch.rand(8, 1),\n",
    "})\n",
    "\n",
    "%timeit t_split(tree, 1)"
   ]
  },
  {
   "cell_type": "markdown",
   "id": "31c3ec0b",
   "metadata": {},
   "source": [
    "### Performance of Tianshou Batch"
   ]
  },
  {
   "cell_type": "code",
   "execution_count": 25,
   "id": "9ead828a",
   "metadata": {
    "execution": {
     "iopub.execute_input": "2023-01-24T18:02:03.227343Z",
     "iopub.status.busy": "2023-01-24T18:02:03.226741Z",
     "iopub.status.idle": "2023-01-24T18:02:03.234511Z",
     "shell.execute_reply": "2023-01-24T18:02:03.233853Z"
    }
   },
   "outputs": [
    {
     "data": {
      "text/plain": [
       "Batch(\n",
       "    a: tensor([[[-2.3859, -0.3395,  0.0179],\n",
       "                [ 0.8434, -0.7572, -0.6326]],\n",
       "       \n",
       "               [[-2.3859, -0.3395,  0.0179],\n",
       "                [ 0.8434, -0.7572, -0.6326]],\n",
       "       \n",
       "               [[-2.3859, -0.3395,  0.0179],\n",
       "                [ 0.8434, -0.7572, -0.6326]],\n",
       "       \n",
       "               [[-2.3859, -0.3395,  0.0179],\n",
       "                [ 0.8434, -0.7572, -0.6326]],\n",
       "       \n",
       "               [[-2.3859, -0.3395,  0.0179],\n",
       "                [ 0.8434, -0.7572, -0.6326]],\n",
       "       \n",
       "               [[-2.3859, -0.3395,  0.0179],\n",
       "                [ 0.8434, -0.7572, -0.6326]],\n",
       "       \n",
       "               [[-2.3859, -0.3395,  0.0179],\n",
       "                [ 0.8434, -0.7572, -0.6326]],\n",
       "       \n",
       "               [[-2.3859, -0.3395,  0.0179],\n",
       "                [ 0.8434, -0.7572, -0.6326]]]),\n",
       "    x: Batch(\n",
       "           c: tensor([[[-1.5038,  1.2319, -1.3567,  1.3304],\n",
       "                       [ 0.0822, -0.9802, -1.5036, -0.0740],\n",
       "                       [-0.3451,  1.8868,  0.3188, -1.0186]],\n",
       "              \n",
       "                      [[-1.5038,  1.2319, -1.3567,  1.3304],\n",
       "                       [ 0.0822, -0.9802, -1.5036, -0.0740],\n",
       "                       [-0.3451,  1.8868,  0.3188, -1.0186]],\n",
       "              \n",
       "                      [[-1.5038,  1.2319, -1.3567,  1.3304],\n",
       "                       [ 0.0822, -0.9802, -1.5036, -0.0740],\n",
       "                       [-0.3451,  1.8868,  0.3188, -1.0186]],\n",
       "              \n",
       "                      [[-1.5038,  1.2319, -1.3567,  1.3304],\n",
       "                       [ 0.0822, -0.9802, -1.5036, -0.0740],\n",
       "                       [-0.3451,  1.8868,  0.3188, -1.0186]],\n",
       "              \n",
       "                      [[-1.5038,  1.2319, -1.3567,  1.3304],\n",
       "                       [ 0.0822, -0.9802, -1.5036, -0.0740],\n",
       "                       [-0.3451,  1.8868,  0.3188, -1.0186]],\n",
       "              \n",
       "                      [[-1.5038,  1.2319, -1.3567,  1.3304],\n",
       "                       [ 0.0822, -0.9802, -1.5036, -0.0740],\n",
       "                       [-0.3451,  1.8868,  0.3188, -1.0186]],\n",
       "              \n",
       "                      [[-1.5038,  1.2319, -1.3567,  1.3304],\n",
       "                       [ 0.0822, -0.9802, -1.5036, -0.0740],\n",
       "                       [-0.3451,  1.8868,  0.3188, -1.0186]],\n",
       "              \n",
       "                      [[-1.5038,  1.2319, -1.3567,  1.3304],\n",
       "                       [ 0.0822, -0.9802, -1.5036, -0.0740],\n",
       "                       [-0.3451,  1.8868,  0.3188, -1.0186]]]),\n",
       "       ),\n",
       ")"
      ]
     },
     "execution_count": 25,
     "metadata": {},
     "output_type": "execute_result"
    }
   ],
   "source": [
    "batches = [Batch(**_TREE_DATA_2) for _ in range(8)]\n",
    "\n",
    "Batch.stack(batches)"
   ]
  },
  {
   "cell_type": "code",
   "execution_count": 26,
   "id": "ec9037a3",
   "metadata": {
    "execution": {
     "iopub.execute_input": "2023-01-24T18:02:03.237726Z",
     "iopub.status.busy": "2023-01-24T18:02:03.237338Z",
     "iopub.status.idle": "2023-01-24T18:02:09.659089Z",
     "shell.execute_reply": "2023-01-24T18:02:09.658501Z"
    }
   },
   "outputs": [
    {
     "name": "stdout",
     "output_type": "stream",
     "text": [
      "79.1 µs ± 115 ns per loop (mean ± std. dev. of 7 runs, 10,000 loops each)\n"
     ]
    }
   ],
   "source": [
    "%timeit Batch.stack(batches)"
   ]
  },
  {
   "cell_type": "code",
   "execution_count": 27,
   "id": "cb8ab77e",
   "metadata": {
    "execution": {
     "iopub.execute_input": "2023-01-24T18:02:09.662106Z",
     "iopub.status.busy": "2023-01-24T18:02:09.661648Z",
     "iopub.status.idle": "2023-01-24T18:02:09.668539Z",
     "shell.execute_reply": "2023-01-24T18:02:09.667861Z"
    }
   },
   "outputs": [
    {
     "data": {
      "text/plain": [
       "Batch(\n",
       "    a: tensor([[-2.3859, -0.3395,  0.0179],\n",
       "               [ 0.8434, -0.7572, -0.6326],\n",
       "               [-2.3859, -0.3395,  0.0179],\n",
       "               [ 0.8434, -0.7572, -0.6326],\n",
       "               [-2.3859, -0.3395,  0.0179],\n",
       "               [ 0.8434, -0.7572, -0.6326],\n",
       "               [-2.3859, -0.3395,  0.0179],\n",
       "               [ 0.8434, -0.7572, -0.6326],\n",
       "               [-2.3859, -0.3395,  0.0179],\n",
       "               [ 0.8434, -0.7572, -0.6326],\n",
       "               [-2.3859, -0.3395,  0.0179],\n",
       "               [ 0.8434, -0.7572, -0.6326],\n",
       "               [-2.3859, -0.3395,  0.0179],\n",
       "               [ 0.8434, -0.7572, -0.6326],\n",
       "               [-2.3859, -0.3395,  0.0179],\n",
       "               [ 0.8434, -0.7572, -0.6326]]),\n",
       "    x: Batch(\n",
       "           c: tensor([[-1.5038,  1.2319, -1.3567,  1.3304],\n",
       "                      [ 0.0822, -0.9802, -1.5036, -0.0740],\n",
       "                      [-0.3451,  1.8868,  0.3188, -1.0186],\n",
       "                      [-1.5038,  1.2319, -1.3567,  1.3304],\n",
       "                      [ 0.0822, -0.9802, -1.5036, -0.0740],\n",
       "                      [-0.3451,  1.8868,  0.3188, -1.0186],\n",
       "                      [-1.5038,  1.2319, -1.3567,  1.3304],\n",
       "                      [ 0.0822, -0.9802, -1.5036, -0.0740],\n",
       "                      [-0.3451,  1.8868,  0.3188, -1.0186],\n",
       "                      [-1.5038,  1.2319, -1.3567,  1.3304],\n",
       "                      [ 0.0822, -0.9802, -1.5036, -0.0740],\n",
       "                      [-0.3451,  1.8868,  0.3188, -1.0186],\n",
       "                      [-1.5038,  1.2319, -1.3567,  1.3304],\n",
       "                      [ 0.0822, -0.9802, -1.5036, -0.0740],\n",
       "                      [-0.3451,  1.8868,  0.3188, -1.0186],\n",
       "                      [-1.5038,  1.2319, -1.3567,  1.3304],\n",
       "                      [ 0.0822, -0.9802, -1.5036, -0.0740],\n",
       "                      [-0.3451,  1.8868,  0.3188, -1.0186],\n",
       "                      [-1.5038,  1.2319, -1.3567,  1.3304],\n",
       "                      [ 0.0822, -0.9802, -1.5036, -0.0740],\n",
       "                      [-0.3451,  1.8868,  0.3188, -1.0186],\n",
       "                      [-1.5038,  1.2319, -1.3567,  1.3304],\n",
       "                      [ 0.0822, -0.9802, -1.5036, -0.0740],\n",
       "                      [-0.3451,  1.8868,  0.3188, -1.0186]]),\n",
       "       ),\n",
       ")"
      ]
     },
     "execution_count": 27,
     "metadata": {},
     "output_type": "execute_result"
    }
   ],
   "source": [
    "Batch.cat(batches)"
   ]
  },
  {
   "cell_type": "code",
   "execution_count": 28,
   "id": "18dfb045",
   "metadata": {
    "execution": {
     "iopub.execute_input": "2023-01-24T18:02:09.671661Z",
     "iopub.status.busy": "2023-01-24T18:02:09.671406Z",
     "iopub.status.idle": "2023-01-24T18:02:21.149990Z",
     "shell.execute_reply": "2023-01-24T18:02:21.149297Z"
    }
   },
   "outputs": [
    {
     "name": "stdout",
     "output_type": "stream",
     "text": [
      "141 µs ± 205 ns per loop (mean ± std. dev. of 7 runs, 10,000 loops each)\n"
     ]
    }
   ],
   "source": [
    "%timeit Batch.cat(batches)"
   ]
  },
  {
   "cell_type": "code",
   "execution_count": 29,
   "id": "c6688e51",
   "metadata": {
    "execution": {
     "iopub.execute_input": "2023-01-24T18:02:21.153518Z",
     "iopub.status.busy": "2023-01-24T18:02:21.153149Z",
     "iopub.status.idle": "2023-01-24T18:02:23.643293Z",
     "shell.execute_reply": "2023-01-24T18:02:23.642670Z"
    }
   },
   "outputs": [
    {
     "name": "stdout",
     "output_type": "stream",
     "text": [
      "306 µs ± 817 ns per loop (mean ± std. dev. of 7 runs, 1,000 loops each)\n"
     ]
    }
   ],
   "source": [
    "batch = Batch({\n",
    "    'obs': torch.randn(8, 4, 84, 84),\n",
    "    'action': torch.randint(0, 6, size=(8, 1,)),\n",
    "    'reward': torch.rand(8, 1)}\n",
    ")\n",
    "\n",
    "%timeit list(Batch.split(batch, 1, shuffle=False, merge_last=True))"
   ]
  },
  {
   "cell_type": "code",
   "execution_count": null,
   "id": "2539fbd9",
   "metadata": {},
   "outputs": [],
   "source": []
  }
 ],
 "metadata": {
  "kernelspec": {
   "display_name": "Python 3 (ipykernel)",
   "language": "python",
   "name": "python3"
  },
  "language_info": {
   "codemirror_mode": {
    "name": "ipython",
    "version": 3
   },
   "file_extension": ".py",
   "mimetype": "text/x-python",
   "name": "python",
   "nbconvert_exporter": "python",
   "pygments_lexer": "ipython3",
   "version": "3.8.16"
  }
 },
 "nbformat": 4,
 "nbformat_minor": 5
}
