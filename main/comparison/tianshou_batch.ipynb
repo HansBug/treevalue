{
 "cells": [
  {
   "cell_type": "markdown",
   "id": "9d39d946",
   "metadata": {},
   "source": [
    "# Comparison Between TreeValue and Tianshou Batch"
   ]
  },
  {
   "cell_type": "markdown",
   "id": "3c6db2d4",
   "metadata": {},
   "source": [
    "In this section, we will take a look at the feature and performance of the [Tianshou Batch](https://github.com/thu-ml/tianshou) library, which is developed by Tsinghua Machine Learning Group."
   ]
  },
  {
   "cell_type": "markdown",
   "id": "069361b0",
   "metadata": {},
   "source": [
    "Before starting the comparison, let us define some thing."
   ]
  },
  {
   "cell_type": "code",
   "execution_count": 1,
   "id": "06fc8d26",
   "metadata": {
    "execution": {
     "iopub.execute_input": "2023-02-26T17:10:39.146183Z",
     "iopub.status.busy": "2023-02-26T17:10:39.145971Z",
     "iopub.status.idle": "2023-02-26T17:10:40.047734Z",
     "shell.execute_reply": "2023-02-26T17:10:40.047081Z"
    }
   },
   "outputs": [
    {
     "name": "stderr",
     "output_type": "stream",
     "text": [
      "/opt/hostedtoolcache/Python/3.8.16/x64/lib/python3.8/site-packages/tqdm/auto.py:22: TqdmWarning: IProgress not found. Please update jupyter and ipywidgets. See https://ipywidgets.readthedocs.io/en/stable/user_install.html\n",
      "  from .autonotebook import tqdm as notebook_tqdm\n"
     ]
    }
   ],
   "source": [
    "import torch \n",
    "\n",
    "_TREE_DATA_1 = {'a': 1, 'b': 2, 'x': {'c': 3, 'd': 4}}\n",
    "_TREE_DATA_2 = {\n",
    "    'a': torch.randn(2, 3), \n",
    "    'x': {\n",
    "        'c': torch.randn(3, 4)\n",
    "    },\n",
    "}\n",
    "_TREE_DATA_3 = {\n",
    "    'obs': torch.randn(4, 84, 84),\n",
    "    'action': torch.randint(0, 6, size=(1,)),\n",
    "    'reward': torch.rand(1),\n",
    "}"
   ]
  },
  {
   "cell_type": "markdown",
   "id": "83461b25",
   "metadata": {},
   "source": [
    "## Read and Write Operation"
   ]
  },
  {
   "cell_type": "markdown",
   "id": "067b3f73",
   "metadata": {},
   "source": [
    "Reading and writing are the two most common operations in the tree data structure based on the data model (TreeValue and Tianshou Batch both belong to this type), so this section will compare the reading and writing performance of these two libraries."
   ]
  },
  {
   "cell_type": "markdown",
   "id": "5d09a5b7",
   "metadata": {},
   "source": [
    "### TreeValue's Get and Set"
   ]
  },
  {
   "cell_type": "code",
   "execution_count": 2,
   "id": "9519c4bb",
   "metadata": {
    "execution": {
     "iopub.execute_input": "2023-02-26T17:10:40.051052Z",
     "iopub.status.busy": "2023-02-26T17:10:40.050638Z",
     "iopub.status.idle": "2023-02-26T17:10:40.327381Z",
     "shell.execute_reply": "2023-02-26T17:10:40.326715Z"
    }
   },
   "outputs": [],
   "source": [
    "from treevalue import FastTreeValue\n",
    "\n",
    "t = FastTreeValue(_TREE_DATA_2)"
   ]
  },
  {
   "cell_type": "code",
   "execution_count": 3,
   "id": "11c37677",
   "metadata": {
    "execution": {
     "iopub.execute_input": "2023-02-26T17:10:40.330642Z",
     "iopub.status.busy": "2023-02-26T17:10:40.330238Z",
     "iopub.status.idle": "2023-02-26T17:10:40.338617Z",
     "shell.execute_reply": "2023-02-26T17:10:40.337968Z"
    }
   },
   "outputs": [
    {
     "data": {
      "text/plain": [
       "<FastTreeValue 0x7f87dc79a8b0>\n",
       "├── 'a' --> tensor([[-2.9016,  0.6439,  1.7135],\n",
       "│                   [-1.1963,  1.1351,  0.4819]])\n",
       "└── 'x' --> <FastTreeValue 0x7f87dc79a820>\n",
       "    └── 'c' --> tensor([[ 0.1617,  0.3107, -0.3233,  1.0049],\n",
       "                        [-0.0978, -0.5819, -0.1908,  0.4174],\n",
       "                        [-0.8782, -2.3492,  0.2004,  0.2164]])"
      ]
     },
     "execution_count": 3,
     "metadata": {},
     "output_type": "execute_result"
    }
   ],
   "source": [
    "t"
   ]
  },
  {
   "cell_type": "code",
   "execution_count": 4,
   "id": "fd70b0b9",
   "metadata": {
    "execution": {
     "iopub.execute_input": "2023-02-26T17:10:40.341112Z",
     "iopub.status.busy": "2023-02-26T17:10:40.340793Z",
     "iopub.status.idle": "2023-02-26T17:10:40.346239Z",
     "shell.execute_reply": "2023-02-26T17:10:40.345622Z"
    }
   },
   "outputs": [
    {
     "data": {
      "text/plain": [
       "tensor([[-2.9016,  0.6439,  1.7135],\n",
       "        [-1.1963,  1.1351,  0.4819]])"
      ]
     },
     "execution_count": 4,
     "metadata": {},
     "output_type": "execute_result"
    }
   ],
   "source": [
    "t.a"
   ]
  },
  {
   "cell_type": "code",
   "execution_count": 5,
   "id": "c18197bd",
   "metadata": {
    "execution": {
     "iopub.execute_input": "2023-02-26T17:10:40.348455Z",
     "iopub.status.busy": "2023-02-26T17:10:40.348253Z",
     "iopub.status.idle": "2023-02-26T17:10:45.208430Z",
     "shell.execute_reply": "2023-02-26T17:10:45.207492Z"
    }
   },
   "outputs": [
    {
     "name": "stdout",
     "output_type": "stream",
     "text": [
      "59.8 ns ± 0.081 ns per loop (mean ± std. dev. of 7 runs, 10,000,000 loops each)\n"
     ]
    }
   ],
   "source": [
    "%timeit t.a"
   ]
  },
  {
   "cell_type": "code",
   "execution_count": 6,
   "id": "bd52f867",
   "metadata": {
    "execution": {
     "iopub.execute_input": "2023-02-26T17:10:45.211841Z",
     "iopub.status.busy": "2023-02-26T17:10:45.211479Z",
     "iopub.status.idle": "2023-02-26T17:10:45.218309Z",
     "shell.execute_reply": "2023-02-26T17:10:45.217718Z"
    }
   },
   "outputs": [
    {
     "data": {
      "text/plain": [
       "<FastTreeValue 0x7f87dc79a8b0>\n",
       "├── 'a' --> tensor([[-0.3378, -0.3343, -0.7482],\n",
       "│                   [-0.9541, -0.2262, -1.0163]])\n",
       "└── 'x' --> <FastTreeValue 0x7f87dc79a820>\n",
       "    └── 'c' --> tensor([[ 0.1617,  0.3107, -0.3233,  1.0049],\n",
       "                        [-0.0978, -0.5819, -0.1908,  0.4174],\n",
       "                        [-0.8782, -2.3492,  0.2004,  0.2164]])"
      ]
     },
     "execution_count": 6,
     "metadata": {},
     "output_type": "execute_result"
    }
   ],
   "source": [
    "new_value = torch.randn(2, 3)\n",
    "t.a = new_value\n",
    "\n",
    "t"
   ]
  },
  {
   "cell_type": "code",
   "execution_count": 7,
   "id": "bbe04d1c",
   "metadata": {
    "execution": {
     "iopub.execute_input": "2023-02-26T17:10:45.220939Z",
     "iopub.status.busy": "2023-02-26T17:10:45.220612Z",
     "iopub.status.idle": "2023-02-26T17:10:49.896658Z",
     "shell.execute_reply": "2023-02-26T17:10:49.895623Z"
    }
   },
   "outputs": [
    {
     "name": "stdout",
     "output_type": "stream",
     "text": [
      "57.6 ns ± 0.0477 ns per loop (mean ± std. dev. of 7 runs, 10,000,000 loops each)\n"
     ]
    }
   ],
   "source": [
    "%timeit t.a = new_value"
   ]
  },
  {
   "cell_type": "markdown",
   "id": "48c49731",
   "metadata": {},
   "source": [
    "### Tianshou Batch's Get and Set"
   ]
  },
  {
   "cell_type": "code",
   "execution_count": 8,
   "id": "f1bb14c1",
   "metadata": {
    "execution": {
     "iopub.execute_input": "2023-02-26T17:10:49.899707Z",
     "iopub.status.busy": "2023-02-26T17:10:49.899338Z",
     "iopub.status.idle": "2023-02-26T17:10:50.222793Z",
     "shell.execute_reply": "2023-02-26T17:10:50.222124Z"
    }
   },
   "outputs": [],
   "source": [
    "from tianshou.data import Batch\n",
    "\n",
    "b = Batch(**_TREE_DATA_2)"
   ]
  },
  {
   "cell_type": "code",
   "execution_count": 9,
   "id": "cb0777c3",
   "metadata": {
    "execution": {
     "iopub.execute_input": "2023-02-26T17:10:50.225719Z",
     "iopub.status.busy": "2023-02-26T17:10:50.225397Z",
     "iopub.status.idle": "2023-02-26T17:10:50.231414Z",
     "shell.execute_reply": "2023-02-26T17:10:50.230850Z"
    }
   },
   "outputs": [
    {
     "data": {
      "text/plain": [
       "Batch(\n",
       "    a: tensor([[-2.9016,  0.6439,  1.7135],\n",
       "               [-1.1963,  1.1351,  0.4819]]),\n",
       "    x: Batch(\n",
       "           c: tensor([[ 0.1617,  0.3107, -0.3233,  1.0049],\n",
       "                      [-0.0978, -0.5819, -0.1908,  0.4174],\n",
       "                      [-0.8782, -2.3492,  0.2004,  0.2164]]),\n",
       "       ),\n",
       ")"
      ]
     },
     "execution_count": 9,
     "metadata": {},
     "output_type": "execute_result"
    }
   ],
   "source": [
    "b"
   ]
  },
  {
   "cell_type": "code",
   "execution_count": 10,
   "id": "43ef8ea3",
   "metadata": {
    "execution": {
     "iopub.execute_input": "2023-02-26T17:10:50.233964Z",
     "iopub.status.busy": "2023-02-26T17:10:50.233400Z",
     "iopub.status.idle": "2023-02-26T17:10:50.239275Z",
     "shell.execute_reply": "2023-02-26T17:10:50.238707Z"
    }
   },
   "outputs": [
    {
     "data": {
      "text/plain": [
       "tensor([[-2.9016,  0.6439,  1.7135],\n",
       "        [-1.1963,  1.1351,  0.4819]])"
      ]
     },
     "execution_count": 10,
     "metadata": {},
     "output_type": "execute_result"
    }
   ],
   "source": [
    "b.a"
   ]
  },
  {
   "cell_type": "code",
   "execution_count": 11,
   "id": "b785ab72",
   "metadata": {
    "execution": {
     "iopub.execute_input": "2023-02-26T17:10:50.242023Z",
     "iopub.status.busy": "2023-02-26T17:10:50.241516Z",
     "iopub.status.idle": "2023-02-26T17:10:54.718115Z",
     "shell.execute_reply": "2023-02-26T17:10:54.717398Z"
    }
   },
   "outputs": [
    {
     "name": "stdout",
     "output_type": "stream",
     "text": [
      "55.3 ns ± 0.0638 ns per loop (mean ± std. dev. of 7 runs, 10,000,000 loops each)\n"
     ]
    }
   ],
   "source": [
    "%timeit b.a"
   ]
  },
  {
   "cell_type": "code",
   "execution_count": 12,
   "id": "ad54dc69",
   "metadata": {
    "execution": {
     "iopub.execute_input": "2023-02-26T17:10:54.721027Z",
     "iopub.status.busy": "2023-02-26T17:10:54.720659Z",
     "iopub.status.idle": "2023-02-26T17:10:54.727370Z",
     "shell.execute_reply": "2023-02-26T17:10:54.726397Z"
    }
   },
   "outputs": [
    {
     "data": {
      "text/plain": [
       "Batch(\n",
       "    a: tensor([[ 0.6719, -1.2582, -1.1667],\n",
       "               [ 0.2363,  0.3939,  0.3682]]),\n",
       "    x: Batch(\n",
       "           c: tensor([[ 0.1617,  0.3107, -0.3233,  1.0049],\n",
       "                      [-0.0978, -0.5819, -0.1908,  0.4174],\n",
       "                      [-0.8782, -2.3492,  0.2004,  0.2164]]),\n",
       "       ),\n",
       ")"
      ]
     },
     "execution_count": 12,
     "metadata": {},
     "output_type": "execute_result"
    }
   ],
   "source": [
    "new_value = torch.randn(2, 3)\n",
    "b.a = new_value\n",
    "\n",
    "b"
   ]
  },
  {
   "cell_type": "code",
   "execution_count": 13,
   "id": "29b1d0bf",
   "metadata": {
    "execution": {
     "iopub.execute_input": "2023-02-26T17:10:54.729875Z",
     "iopub.status.busy": "2023-02-26T17:10:54.729518Z",
     "iopub.status.idle": "2023-02-26T17:10:58.643887Z",
     "shell.execute_reply": "2023-02-26T17:10:58.643179Z"
    }
   },
   "outputs": [
    {
     "name": "stdout",
     "output_type": "stream",
     "text": [
      "482 ns ± 0.0819 ns per loop (mean ± std. dev. of 7 runs, 1,000,000 loops each)\n"
     ]
    }
   ],
   "source": [
    "%timeit b.a = new_value"
   ]
  },
  {
   "cell_type": "markdown",
   "id": "b61ad1d0",
   "metadata": {},
   "source": [
    "## Initialization"
   ]
  },
  {
   "cell_type": "markdown",
   "id": "d70f0d54",
   "metadata": {},
   "source": [
    "### TreeValue's Initialization"
   ]
  },
  {
   "cell_type": "code",
   "execution_count": 14,
   "id": "d32a679b",
   "metadata": {
    "execution": {
     "iopub.execute_input": "2023-02-26T17:10:58.646926Z",
     "iopub.status.busy": "2023-02-26T17:10:58.646575Z",
     "iopub.status.idle": "2023-02-26T17:11:05.507423Z",
     "shell.execute_reply": "2023-02-26T17:11:05.506719Z"
    }
   },
   "outputs": [
    {
     "name": "stdout",
     "output_type": "stream",
     "text": [
      "845 ns ± 0.15 ns per loop (mean ± std. dev. of 7 runs, 1,000,000 loops each)\n"
     ]
    }
   ],
   "source": [
    "%timeit FastTreeValue(_TREE_DATA_1)"
   ]
  },
  {
   "cell_type": "markdown",
   "id": "24f3707b",
   "metadata": {},
   "source": [
    "### Tianshou Batch's Initialization"
   ]
  },
  {
   "cell_type": "code",
   "execution_count": 15,
   "id": "ac3958df",
   "metadata": {
    "execution": {
     "iopub.execute_input": "2023-02-26T17:11:05.510404Z",
     "iopub.status.busy": "2023-02-26T17:11:05.510056Z",
     "iopub.status.idle": "2023-02-26T17:11:14.822366Z",
     "shell.execute_reply": "2023-02-26T17:11:14.821650Z"
    }
   },
   "outputs": [
    {
     "name": "stdout",
     "output_type": "stream",
     "text": [
      "11.5 µs ± 22.6 ns per loop (mean ± std. dev. of 7 runs, 100,000 loops each)\n"
     ]
    }
   ],
   "source": [
    "%timeit Batch(**_TREE_DATA_1)"
   ]
  },
  {
   "cell_type": "markdown",
   "id": "1ab82e2d",
   "metadata": {},
   "source": [
    "## Deep Copy Operation"
   ]
  },
  {
   "cell_type": "code",
   "execution_count": 16,
   "id": "210a9442",
   "metadata": {
    "execution": {
     "iopub.execute_input": "2023-02-26T17:11:14.825262Z",
     "iopub.status.busy": "2023-02-26T17:11:14.824747Z",
     "iopub.status.idle": "2023-02-26T17:11:14.829300Z",
     "shell.execute_reply": "2023-02-26T17:11:14.828075Z"
    }
   },
   "outputs": [],
   "source": [
    "import copy"
   ]
  },
  {
   "cell_type": "markdown",
   "id": "5a736274",
   "metadata": {},
   "source": [
    "### Deep Copy of TreeValue"
   ]
  },
  {
   "cell_type": "code",
   "execution_count": 17,
   "id": "f9bcadd6",
   "metadata": {
    "execution": {
     "iopub.execute_input": "2023-02-26T17:11:14.831638Z",
     "iopub.status.busy": "2023-02-26T17:11:14.831313Z",
     "iopub.status.idle": "2023-02-26T17:11:26.149959Z",
     "shell.execute_reply": "2023-02-26T17:11:26.149367Z"
    }
   },
   "outputs": [
    {
     "name": "stdout",
     "output_type": "stream",
     "text": [
      "139 µs ± 1.31 µs per loop (mean ± std. dev. of 7 runs, 10,000 loops each)\n"
     ]
    }
   ],
   "source": [
    "t3 = FastTreeValue(_TREE_DATA_3)\n",
    "%timeit copy.deepcopy(t3)"
   ]
  },
  {
   "cell_type": "markdown",
   "id": "bf8be7ea",
   "metadata": {},
   "source": [
    "### Deep Copy of Tianshou Batch"
   ]
  },
  {
   "cell_type": "code",
   "execution_count": 18,
   "id": "91998e6f",
   "metadata": {
    "execution": {
     "iopub.execute_input": "2023-02-26T17:11:26.153739Z",
     "iopub.status.busy": "2023-02-26T17:11:26.152786Z",
     "iopub.status.idle": "2023-02-26T17:11:37.622239Z",
     "shell.execute_reply": "2023-02-26T17:11:37.621652Z"
    }
   },
   "outputs": [
    {
     "name": "stdout",
     "output_type": "stream",
     "text": [
      "141 µs ± 264 ns per loop (mean ± std. dev. of 7 runs, 10,000 loops each)\n"
     ]
    }
   ],
   "source": [
    "b3 = Batch(**_TREE_DATA_3)\n",
    "%timeit copy.deepcopy(b3)"
   ]
  },
  {
   "cell_type": "markdown",
   "id": "223162fb",
   "metadata": {},
   "source": [
    "## Stack, Concat and Split Operation"
   ]
  },
  {
   "cell_type": "markdown",
   "id": "85fa4a73",
   "metadata": {},
   "source": [
    "### Performance of TreeValue"
   ]
  },
  {
   "cell_type": "code",
   "execution_count": 19,
   "id": "a0c2b697",
   "metadata": {
    "execution": {
     "iopub.execute_input": "2023-02-26T17:11:37.626000Z",
     "iopub.status.busy": "2023-02-26T17:11:37.625056Z",
     "iopub.status.idle": "2023-02-26T17:11:37.629243Z",
     "shell.execute_reply": "2023-02-26T17:11:37.628728Z"
    }
   },
   "outputs": [],
   "source": [
    "trees = [FastTreeValue(_TREE_DATA_2) for _ in range(8)]"
   ]
  },
  {
   "cell_type": "code",
   "execution_count": 20,
   "id": "017ea5a5",
   "metadata": {
    "execution": {
     "iopub.execute_input": "2023-02-26T17:11:37.632711Z",
     "iopub.status.busy": "2023-02-26T17:11:37.631827Z",
     "iopub.status.idle": "2023-02-26T17:11:37.640947Z",
     "shell.execute_reply": "2023-02-26T17:11:37.639939Z"
    }
   },
   "outputs": [
    {
     "data": {
      "text/plain": [
       "<FastTreeValue 0x7f8725ab1af0>\n",
       "├── 'a' --> tensor([[[-2.9016,  0.6439,  1.7135],\n",
       "│                    [-1.1963,  1.1351,  0.4819]],\n",
       "│           \n",
       "│                   [[-2.9016,  0.6439,  1.7135],\n",
       "│                    [-1.1963,  1.1351,  0.4819]],\n",
       "│           \n",
       "│                   [[-2.9016,  0.6439,  1.7135],\n",
       "│                    [-1.1963,  1.1351,  0.4819]],\n",
       "│           \n",
       "│                   [[-2.9016,  0.6439,  1.7135],\n",
       "│                    [-1.1963,  1.1351,  0.4819]],\n",
       "│           \n",
       "│                   [[-2.9016,  0.6439,  1.7135],\n",
       "│                    [-1.1963,  1.1351,  0.4819]],\n",
       "│           \n",
       "│                   [[-2.9016,  0.6439,  1.7135],\n",
       "│                    [-1.1963,  1.1351,  0.4819]],\n",
       "│           \n",
       "│                   [[-2.9016,  0.6439,  1.7135],\n",
       "│                    [-1.1963,  1.1351,  0.4819]],\n",
       "│           \n",
       "│                   [[-2.9016,  0.6439,  1.7135],\n",
       "│                    [-1.1963,  1.1351,  0.4819]]])\n",
       "└── 'x' --> <FastTreeValue 0x7f8725ab16d0>\n",
       "    └── 'c' --> tensor([[[ 0.1617,  0.3107, -0.3233,  1.0049],\n",
       "                         [-0.0978, -0.5819, -0.1908,  0.4174],\n",
       "                         [-0.8782, -2.3492,  0.2004,  0.2164]],\n",
       "                \n",
       "                        [[ 0.1617,  0.3107, -0.3233,  1.0049],\n",
       "                         [-0.0978, -0.5819, -0.1908,  0.4174],\n",
       "                         [-0.8782, -2.3492,  0.2004,  0.2164]],\n",
       "                \n",
       "                        [[ 0.1617,  0.3107, -0.3233,  1.0049],\n",
       "                         [-0.0978, -0.5819, -0.1908,  0.4174],\n",
       "                         [-0.8782, -2.3492,  0.2004,  0.2164]],\n",
       "                \n",
       "                        [[ 0.1617,  0.3107, -0.3233,  1.0049],\n",
       "                         [-0.0978, -0.5819, -0.1908,  0.4174],\n",
       "                         [-0.8782, -2.3492,  0.2004,  0.2164]],\n",
       "                \n",
       "                        [[ 0.1617,  0.3107, -0.3233,  1.0049],\n",
       "                         [-0.0978, -0.5819, -0.1908,  0.4174],\n",
       "                         [-0.8782, -2.3492,  0.2004,  0.2164]],\n",
       "                \n",
       "                        [[ 0.1617,  0.3107, -0.3233,  1.0049],\n",
       "                         [-0.0978, -0.5819, -0.1908,  0.4174],\n",
       "                         [-0.8782, -2.3492,  0.2004,  0.2164]],\n",
       "                \n",
       "                        [[ 0.1617,  0.3107, -0.3233,  1.0049],\n",
       "                         [-0.0978, -0.5819, -0.1908,  0.4174],\n",
       "                         [-0.8782, -2.3492,  0.2004,  0.2164]],\n",
       "                \n",
       "                        [[ 0.1617,  0.3107, -0.3233,  1.0049],\n",
       "                         [-0.0978, -0.5819, -0.1908,  0.4174],\n",
       "                         [-0.8782, -2.3492,  0.2004,  0.2164]]])"
      ]
     },
     "execution_count": 20,
     "metadata": {},
     "output_type": "execute_result"
    }
   ],
   "source": [
    "t_stack = FastTreeValue.func(subside=True)(torch.stack)\n",
    "\n",
    "t_stack(trees)"
   ]
  },
  {
   "cell_type": "code",
   "execution_count": 21,
   "id": "f8b3f415",
   "metadata": {
    "execution": {
     "iopub.execute_input": "2023-02-26T17:11:37.643575Z",
     "iopub.status.busy": "2023-02-26T17:11:37.643193Z",
     "iopub.status.idle": "2023-02-26T17:11:40.348682Z",
     "shell.execute_reply": "2023-02-26T17:11:40.347945Z"
    }
   },
   "outputs": [
    {
     "name": "stdout",
     "output_type": "stream",
     "text": [
      "33.3 µs ± 152 ns per loop (mean ± std. dev. of 7 runs, 10,000 loops each)\n"
     ]
    }
   ],
   "source": [
    "%timeit t_stack(trees)"
   ]
  },
  {
   "cell_type": "code",
   "execution_count": 22,
   "id": "94b56771",
   "metadata": {
    "execution": {
     "iopub.execute_input": "2023-02-26T17:11:40.351400Z",
     "iopub.status.busy": "2023-02-26T17:11:40.350974Z",
     "iopub.status.idle": "2023-02-26T17:11:40.358085Z",
     "shell.execute_reply": "2023-02-26T17:11:40.357450Z"
    }
   },
   "outputs": [
    {
     "data": {
      "text/plain": [
       "<FastTreeValue 0x7f87dc80d550>\n",
       "├── 'a' --> tensor([[-2.9016,  0.6439,  1.7135],\n",
       "│                   [-1.1963,  1.1351,  0.4819],\n",
       "│                   [-2.9016,  0.6439,  1.7135],\n",
       "│                   [-1.1963,  1.1351,  0.4819],\n",
       "│                   [-2.9016,  0.6439,  1.7135],\n",
       "│                   [-1.1963,  1.1351,  0.4819],\n",
       "│                   [-2.9016,  0.6439,  1.7135],\n",
       "│                   [-1.1963,  1.1351,  0.4819],\n",
       "│                   [-2.9016,  0.6439,  1.7135],\n",
       "│                   [-1.1963,  1.1351,  0.4819],\n",
       "│                   [-2.9016,  0.6439,  1.7135],\n",
       "│                   [-1.1963,  1.1351,  0.4819],\n",
       "│                   [-2.9016,  0.6439,  1.7135],\n",
       "│                   [-1.1963,  1.1351,  0.4819],\n",
       "│                   [-2.9016,  0.6439,  1.7135],\n",
       "│                   [-1.1963,  1.1351,  0.4819]])\n",
       "└── 'x' --> <FastTreeValue 0x7f87dc80df70>\n",
       "    └── 'c' --> tensor([[ 0.1617,  0.3107, -0.3233,  1.0049],\n",
       "                        [-0.0978, -0.5819, -0.1908,  0.4174],\n",
       "                        [-0.8782, -2.3492,  0.2004,  0.2164],\n",
       "                        [ 0.1617,  0.3107, -0.3233,  1.0049],\n",
       "                        [-0.0978, -0.5819, -0.1908,  0.4174],\n",
       "                        [-0.8782, -2.3492,  0.2004,  0.2164],\n",
       "                        [ 0.1617,  0.3107, -0.3233,  1.0049],\n",
       "                        [-0.0978, -0.5819, -0.1908,  0.4174],\n",
       "                        [-0.8782, -2.3492,  0.2004,  0.2164],\n",
       "                        [ 0.1617,  0.3107, -0.3233,  1.0049],\n",
       "                        [-0.0978, -0.5819, -0.1908,  0.4174],\n",
       "                        [-0.8782, -2.3492,  0.2004,  0.2164],\n",
       "                        [ 0.1617,  0.3107, -0.3233,  1.0049],\n",
       "                        [-0.0978, -0.5819, -0.1908,  0.4174],\n",
       "                        [-0.8782, -2.3492,  0.2004,  0.2164],\n",
       "                        [ 0.1617,  0.3107, -0.3233,  1.0049],\n",
       "                        [-0.0978, -0.5819, -0.1908,  0.4174],\n",
       "                        [-0.8782, -2.3492,  0.2004,  0.2164],\n",
       "                        [ 0.1617,  0.3107, -0.3233,  1.0049],\n",
       "                        [-0.0978, -0.5819, -0.1908,  0.4174],\n",
       "                        [-0.8782, -2.3492,  0.2004,  0.2164],\n",
       "                        [ 0.1617,  0.3107, -0.3233,  1.0049],\n",
       "                        [-0.0978, -0.5819, -0.1908,  0.4174],\n",
       "                        [-0.8782, -2.3492,  0.2004,  0.2164]])"
      ]
     },
     "execution_count": 22,
     "metadata": {},
     "output_type": "execute_result"
    }
   ],
   "source": [
    "t_cat = FastTreeValue.func(subside=True)(torch.cat)\n",
    "\n",
    "t_cat(trees)"
   ]
  },
  {
   "cell_type": "code",
   "execution_count": 23,
   "id": "5e9c06a6",
   "metadata": {
    "execution": {
     "iopub.execute_input": "2023-02-26T17:11:40.360438Z",
     "iopub.status.busy": "2023-02-26T17:11:40.360106Z",
     "iopub.status.idle": "2023-02-26T17:11:42.884720Z",
     "shell.execute_reply": "2023-02-26T17:11:42.884008Z"
    }
   },
   "outputs": [
    {
     "name": "stdout",
     "output_type": "stream",
     "text": [
      "31 µs ± 58 ns per loop (mean ± std. dev. of 7 runs, 10,000 loops each)\n"
     ]
    }
   ],
   "source": [
    "%timeit t_cat(trees)"
   ]
  },
  {
   "cell_type": "code",
   "execution_count": 24,
   "id": "a3ab5c8f",
   "metadata": {
    "execution": {
     "iopub.execute_input": "2023-02-26T17:11:42.887576Z",
     "iopub.status.busy": "2023-02-26T17:11:42.886986Z",
     "iopub.status.idle": "2023-02-26T17:11:47.699459Z",
     "shell.execute_reply": "2023-02-26T17:11:47.698707Z"
    }
   },
   "outputs": [
    {
     "name": "stdout",
     "output_type": "stream",
     "text": [
      "59.2 µs ± 59.8 ns per loop (mean ± std. dev. of 7 runs, 10,000 loops each)\n"
     ]
    }
   ],
   "source": [
    "t_split = FastTreeValue.func(rise=True)(torch.split)\n",
    "tree = FastTreeValue({\n",
    "    'obs': torch.randn(8, 4, 84, 84),\n",
    "    'action': torch.randint(0, 6, size=(8, 1,)),\n",
    "    'reward': torch.rand(8, 1),\n",
    "})\n",
    "\n",
    "%timeit t_split(tree, 1)"
   ]
  },
  {
   "cell_type": "markdown",
   "id": "31c3ec0b",
   "metadata": {},
   "source": [
    "### Performance of Tianshou Batch"
   ]
  },
  {
   "cell_type": "code",
   "execution_count": 25,
   "id": "9ead828a",
   "metadata": {
    "execution": {
     "iopub.execute_input": "2023-02-26T17:11:47.702280Z",
     "iopub.status.busy": "2023-02-26T17:11:47.701939Z",
     "iopub.status.idle": "2023-02-26T17:11:47.709755Z",
     "shell.execute_reply": "2023-02-26T17:11:47.709164Z"
    }
   },
   "outputs": [
    {
     "data": {
      "text/plain": [
       "Batch(\n",
       "    x: Batch(\n",
       "           c: tensor([[[ 0.1617,  0.3107, -0.3233,  1.0049],\n",
       "                       [-0.0978, -0.5819, -0.1908,  0.4174],\n",
       "                       [-0.8782, -2.3492,  0.2004,  0.2164]],\n",
       "              \n",
       "                      [[ 0.1617,  0.3107, -0.3233,  1.0049],\n",
       "                       [-0.0978, -0.5819, -0.1908,  0.4174],\n",
       "                       [-0.8782, -2.3492,  0.2004,  0.2164]],\n",
       "              \n",
       "                      [[ 0.1617,  0.3107, -0.3233,  1.0049],\n",
       "                       [-0.0978, -0.5819, -0.1908,  0.4174],\n",
       "                       [-0.8782, -2.3492,  0.2004,  0.2164]],\n",
       "              \n",
       "                      [[ 0.1617,  0.3107, -0.3233,  1.0049],\n",
       "                       [-0.0978, -0.5819, -0.1908,  0.4174],\n",
       "                       [-0.8782, -2.3492,  0.2004,  0.2164]],\n",
       "              \n",
       "                      [[ 0.1617,  0.3107, -0.3233,  1.0049],\n",
       "                       [-0.0978, -0.5819, -0.1908,  0.4174],\n",
       "                       [-0.8782, -2.3492,  0.2004,  0.2164]],\n",
       "              \n",
       "                      [[ 0.1617,  0.3107, -0.3233,  1.0049],\n",
       "                       [-0.0978, -0.5819, -0.1908,  0.4174],\n",
       "                       [-0.8782, -2.3492,  0.2004,  0.2164]],\n",
       "              \n",
       "                      [[ 0.1617,  0.3107, -0.3233,  1.0049],\n",
       "                       [-0.0978, -0.5819, -0.1908,  0.4174],\n",
       "                       [-0.8782, -2.3492,  0.2004,  0.2164]],\n",
       "              \n",
       "                      [[ 0.1617,  0.3107, -0.3233,  1.0049],\n",
       "                       [-0.0978, -0.5819, -0.1908,  0.4174],\n",
       "                       [-0.8782, -2.3492,  0.2004,  0.2164]]]),\n",
       "       ),\n",
       "    a: tensor([[[-2.9016,  0.6439,  1.7135],\n",
       "                [-1.1963,  1.1351,  0.4819]],\n",
       "       \n",
       "               [[-2.9016,  0.6439,  1.7135],\n",
       "                [-1.1963,  1.1351,  0.4819]],\n",
       "       \n",
       "               [[-2.9016,  0.6439,  1.7135],\n",
       "                [-1.1963,  1.1351,  0.4819]],\n",
       "       \n",
       "               [[-2.9016,  0.6439,  1.7135],\n",
       "                [-1.1963,  1.1351,  0.4819]],\n",
       "       \n",
       "               [[-2.9016,  0.6439,  1.7135],\n",
       "                [-1.1963,  1.1351,  0.4819]],\n",
       "       \n",
       "               [[-2.9016,  0.6439,  1.7135],\n",
       "                [-1.1963,  1.1351,  0.4819]],\n",
       "       \n",
       "               [[-2.9016,  0.6439,  1.7135],\n",
       "                [-1.1963,  1.1351,  0.4819]],\n",
       "       \n",
       "               [[-2.9016,  0.6439,  1.7135],\n",
       "                [-1.1963,  1.1351,  0.4819]]]),\n",
       ")"
      ]
     },
     "execution_count": 25,
     "metadata": {},
     "output_type": "execute_result"
    }
   ],
   "source": [
    "batches = [Batch(**_TREE_DATA_2) for _ in range(8)]\n",
    "\n",
    "Batch.stack(batches)"
   ]
  },
  {
   "cell_type": "code",
   "execution_count": 26,
   "id": "ec9037a3",
   "metadata": {
    "execution": {
     "iopub.execute_input": "2023-02-26T17:11:47.712580Z",
     "iopub.status.busy": "2023-02-26T17:11:47.712107Z",
     "iopub.status.idle": "2023-02-26T17:11:54.029661Z",
     "shell.execute_reply": "2023-02-26T17:11:54.028993Z"
    }
   },
   "outputs": [
    {
     "name": "stdout",
     "output_type": "stream",
     "text": [
      "77.7 µs ± 189 ns per loop (mean ± std. dev. of 7 runs, 10,000 loops each)\n"
     ]
    }
   ],
   "source": [
    "%timeit Batch.stack(batches)"
   ]
  },
  {
   "cell_type": "code",
   "execution_count": 27,
   "id": "cb8ab77e",
   "metadata": {
    "execution": {
     "iopub.execute_input": "2023-02-26T17:11:54.032473Z",
     "iopub.status.busy": "2023-02-26T17:11:54.032099Z",
     "iopub.status.idle": "2023-02-26T17:11:54.039405Z",
     "shell.execute_reply": "2023-02-26T17:11:54.038824Z"
    }
   },
   "outputs": [
    {
     "data": {
      "text/plain": [
       "Batch(\n",
       "    x: Batch(\n",
       "           c: tensor([[ 0.1617,  0.3107, -0.3233,  1.0049],\n",
       "                      [-0.0978, -0.5819, -0.1908,  0.4174],\n",
       "                      [-0.8782, -2.3492,  0.2004,  0.2164],\n",
       "                      [ 0.1617,  0.3107, -0.3233,  1.0049],\n",
       "                      [-0.0978, -0.5819, -0.1908,  0.4174],\n",
       "                      [-0.8782, -2.3492,  0.2004,  0.2164],\n",
       "                      [ 0.1617,  0.3107, -0.3233,  1.0049],\n",
       "                      [-0.0978, -0.5819, -0.1908,  0.4174],\n",
       "                      [-0.8782, -2.3492,  0.2004,  0.2164],\n",
       "                      [ 0.1617,  0.3107, -0.3233,  1.0049],\n",
       "                      [-0.0978, -0.5819, -0.1908,  0.4174],\n",
       "                      [-0.8782, -2.3492,  0.2004,  0.2164],\n",
       "                      [ 0.1617,  0.3107, -0.3233,  1.0049],\n",
       "                      [-0.0978, -0.5819, -0.1908,  0.4174],\n",
       "                      [-0.8782, -2.3492,  0.2004,  0.2164],\n",
       "                      [ 0.1617,  0.3107, -0.3233,  1.0049],\n",
       "                      [-0.0978, -0.5819, -0.1908,  0.4174],\n",
       "                      [-0.8782, -2.3492,  0.2004,  0.2164],\n",
       "                      [ 0.1617,  0.3107, -0.3233,  1.0049],\n",
       "                      [-0.0978, -0.5819, -0.1908,  0.4174],\n",
       "                      [-0.8782, -2.3492,  0.2004,  0.2164],\n",
       "                      [ 0.1617,  0.3107, -0.3233,  1.0049],\n",
       "                      [-0.0978, -0.5819, -0.1908,  0.4174],\n",
       "                      [-0.8782, -2.3492,  0.2004,  0.2164]]),\n",
       "       ),\n",
       "    a: tensor([[-2.9016,  0.6439,  1.7135],\n",
       "               [-1.1963,  1.1351,  0.4819],\n",
       "               [-2.9016,  0.6439,  1.7135],\n",
       "               [-1.1963,  1.1351,  0.4819],\n",
       "               [-2.9016,  0.6439,  1.7135],\n",
       "               [-1.1963,  1.1351,  0.4819],\n",
       "               [-2.9016,  0.6439,  1.7135],\n",
       "               [-1.1963,  1.1351,  0.4819],\n",
       "               [-2.9016,  0.6439,  1.7135],\n",
       "               [-1.1963,  1.1351,  0.4819],\n",
       "               [-2.9016,  0.6439,  1.7135],\n",
       "               [-1.1963,  1.1351,  0.4819],\n",
       "               [-2.9016,  0.6439,  1.7135],\n",
       "               [-1.1963,  1.1351,  0.4819],\n",
       "               [-2.9016,  0.6439,  1.7135],\n",
       "               [-1.1963,  1.1351,  0.4819]]),\n",
       ")"
      ]
     },
     "execution_count": 27,
     "metadata": {},
     "output_type": "execute_result"
    }
   ],
   "source": [
    "Batch.cat(batches)"
   ]
  },
  {
   "cell_type": "code",
   "execution_count": 28,
   "id": "18dfb045",
   "metadata": {
    "execution": {
     "iopub.execute_input": "2023-02-26T17:11:54.041950Z",
     "iopub.status.busy": "2023-02-26T17:11:54.041391Z",
     "iopub.status.idle": "2023-02-26T17:12:05.579874Z",
     "shell.execute_reply": "2023-02-26T17:12:05.579153Z"
    }
   },
   "outputs": [
    {
     "name": "stdout",
     "output_type": "stream",
     "text": [
      "142 µs ± 475 ns per loop (mean ± std. dev. of 7 runs, 10,000 loops each)\n"
     ]
    }
   ],
   "source": [
    "%timeit Batch.cat(batches)"
   ]
  },
  {
   "cell_type": "code",
   "execution_count": 29,
   "id": "c6688e51",
   "metadata": {
    "execution": {
     "iopub.execute_input": "2023-02-26T17:12:05.582909Z",
     "iopub.status.busy": "2023-02-26T17:12:05.582540Z",
     "iopub.status.idle": "2023-02-26T17:12:08.061461Z",
     "shell.execute_reply": "2023-02-26T17:12:08.060903Z"
    }
   },
   "outputs": [
    {
     "name": "stdout",
     "output_type": "stream",
     "text": [
      "305 µs ± 2.05 µs per loop (mean ± std. dev. of 7 runs, 1,000 loops each)\n"
     ]
    }
   ],
   "source": [
    "batch = Batch({\n",
    "    'obs': torch.randn(8, 4, 84, 84),\n",
    "    'action': torch.randint(0, 6, size=(8, 1,)),\n",
    "    'reward': torch.rand(8, 1)}\n",
    ")\n",
    "\n",
    "%timeit list(Batch.split(batch, 1, shuffle=False, merge_last=True))"
   ]
  },
  {
   "cell_type": "code",
   "execution_count": null,
   "id": "2539fbd9",
   "metadata": {},
   "outputs": [],
   "source": []
  }
 ],
 "metadata": {
  "kernelspec": {
   "display_name": "Python 3 (ipykernel)",
   "language": "python",
   "name": "python3"
  },
  "language_info": {
   "codemirror_mode": {
    "name": "ipython",
    "version": 3
   },
   "file_extension": ".py",
   "mimetype": "text/x-python",
   "name": "python",
   "nbconvert_exporter": "python",
   "pygments_lexer": "ipython3",
   "version": "3.8.16"
  }
 },
 "nbformat": 4,
 "nbformat_minor": 5
}
