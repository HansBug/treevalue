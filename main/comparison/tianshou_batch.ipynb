{
 "cells": [
  {
   "cell_type": "markdown",
   "id": "9d39d946",
   "metadata": {},
   "source": [
    "# Comparison Between TreeValue and Tianshou Batch"
   ]
  },
  {
   "cell_type": "markdown",
   "id": "3c6db2d4",
   "metadata": {},
   "source": [
    "In this section, we will take a look at the feature and performance of the [Tianshou Batch](https://github.com/thu-ml/tianshou) library, which is developed by Tsinghua Machine Learning Group."
   ]
  },
  {
   "cell_type": "markdown",
   "id": "069361b0",
   "metadata": {},
   "source": [
    "Before starting the comparison, let us define some thing."
   ]
  },
  {
   "cell_type": "code",
   "execution_count": 1,
   "id": "06fc8d26",
   "metadata": {
    "execution": {
     "iopub.execute_input": "2023-03-06T11:11:27.144710Z",
     "iopub.status.busy": "2023-03-06T11:11:27.144084Z",
     "iopub.status.idle": "2023-03-06T11:11:28.319588Z",
     "shell.execute_reply": "2023-03-06T11:11:28.318435Z"
    }
   },
   "outputs": [
    {
     "name": "stderr",
     "output_type": "stream",
     "text": [
      "/opt/hostedtoolcache/Python/3.8.16/x64/lib/python3.8/site-packages/tqdm/auto.py:21: TqdmWarning: IProgress not found. Please update jupyter and ipywidgets. See https://ipywidgets.readthedocs.io/en/stable/user_install.html\n",
      "  from .autonotebook import tqdm as notebook_tqdm\n"
     ]
    }
   ],
   "source": [
    "import torch \n",
    "\n",
    "_TREE_DATA_1 = {'a': 1, 'b': 2, 'x': {'c': 3, 'd': 4}}\n",
    "_TREE_DATA_2 = {\n",
    "    'a': torch.randn(2, 3), \n",
    "    'x': {\n",
    "        'c': torch.randn(3, 4)\n",
    "    },\n",
    "}\n",
    "_TREE_DATA_3 = {\n",
    "    'obs': torch.randn(4, 84, 84),\n",
    "    'action': torch.randint(0, 6, size=(1,)),\n",
    "    'reward': torch.rand(1),\n",
    "}"
   ]
  },
  {
   "cell_type": "markdown",
   "id": "83461b25",
   "metadata": {},
   "source": [
    "## Read and Write Operation"
   ]
  },
  {
   "cell_type": "markdown",
   "id": "067b3f73",
   "metadata": {},
   "source": [
    "Reading and writing are the two most common operations in the tree data structure based on the data model (TreeValue and Tianshou Batch both belong to this type), so this section will compare the reading and writing performance of these two libraries."
   ]
  },
  {
   "cell_type": "markdown",
   "id": "5d09a5b7",
   "metadata": {},
   "source": [
    "### TreeValue's Get and Set"
   ]
  },
  {
   "cell_type": "code",
   "execution_count": 2,
   "id": "9519c4bb",
   "metadata": {
    "execution": {
     "iopub.execute_input": "2023-03-06T11:11:28.323753Z",
     "iopub.status.busy": "2023-03-06T11:11:28.323398Z",
     "iopub.status.idle": "2023-03-06T11:11:28.678874Z",
     "shell.execute_reply": "2023-03-06T11:11:28.677713Z"
    }
   },
   "outputs": [],
   "source": [
    "from treevalue import FastTreeValue\n",
    "\n",
    "t = FastTreeValue(_TREE_DATA_2)"
   ]
  },
  {
   "cell_type": "code",
   "execution_count": 3,
   "id": "11c37677",
   "metadata": {
    "execution": {
     "iopub.execute_input": "2023-03-06T11:11:28.682551Z",
     "iopub.status.busy": "2023-03-06T11:11:28.682240Z",
     "iopub.status.idle": "2023-03-06T11:11:28.695699Z",
     "shell.execute_reply": "2023-03-06T11:11:28.694911Z"
    }
   },
   "outputs": [
    {
     "data": {
      "text/plain": [
       "<FastTreeValue 0x7f29693f2460>\n",
       "├── 'a' --> tensor([[-0.0997, -1.1201,  1.3680],\n",
       "│                   [-0.1333,  0.9772,  0.9405]])\n",
       "└── 'x' --> <FastTreeValue 0x7f29693f23a0>\n",
       "    └── 'c' --> tensor([[-1.0892, -0.1569, -0.0499,  0.1720],\n",
       "                        [ 1.2973, -1.1874,  0.6996,  0.0174],\n",
       "                        [ 0.5678, -1.1513,  1.1284, -0.2079]])"
      ]
     },
     "execution_count": 3,
     "metadata": {},
     "output_type": "execute_result"
    }
   ],
   "source": [
    "t"
   ]
  },
  {
   "cell_type": "code",
   "execution_count": 4,
   "id": "fd70b0b9",
   "metadata": {
    "execution": {
     "iopub.execute_input": "2023-03-06T11:11:28.699365Z",
     "iopub.status.busy": "2023-03-06T11:11:28.699013Z",
     "iopub.status.idle": "2023-03-06T11:11:28.708078Z",
     "shell.execute_reply": "2023-03-06T11:11:28.707019Z"
    }
   },
   "outputs": [
    {
     "data": {
      "text/plain": [
       "tensor([[-0.0997, -1.1201,  1.3680],\n",
       "        [-0.1333,  0.9772,  0.9405]])"
      ]
     },
     "execution_count": 4,
     "metadata": {},
     "output_type": "execute_result"
    }
   ],
   "source": [
    "t.a"
   ]
  },
  {
   "cell_type": "code",
   "execution_count": 5,
   "id": "c18197bd",
   "metadata": {
    "execution": {
     "iopub.execute_input": "2023-03-06T11:11:28.711541Z",
     "iopub.status.busy": "2023-03-06T11:11:28.711290Z",
     "iopub.status.idle": "2023-03-06T11:11:34.262248Z",
     "shell.execute_reply": "2023-03-06T11:11:34.261138Z"
    }
   },
   "outputs": [
    {
     "name": "stdout",
     "output_type": "stream",
     "text": [
      "68.3 ns ± 1.02 ns per loop (mean ± std. dev. of 7 runs, 10,000,000 loops each)\n"
     ]
    }
   ],
   "source": [
    "%timeit t.a"
   ]
  },
  {
   "cell_type": "code",
   "execution_count": 6,
   "id": "bd52f867",
   "metadata": {
    "execution": {
     "iopub.execute_input": "2023-03-06T11:11:34.266280Z",
     "iopub.status.busy": "2023-03-06T11:11:34.265946Z",
     "iopub.status.idle": "2023-03-06T11:11:34.275856Z",
     "shell.execute_reply": "2023-03-06T11:11:34.275021Z"
    }
   },
   "outputs": [
    {
     "data": {
      "text/plain": [
       "<FastTreeValue 0x7f29693f2460>\n",
       "├── 'a' --> tensor([[ 0.2624,  1.4128, -0.0393],\n",
       "│                   [ 0.5302, -0.0597, -0.8609]])\n",
       "└── 'x' --> <FastTreeValue 0x7f29693f23a0>\n",
       "    └── 'c' --> tensor([[-1.0892, -0.1569, -0.0499,  0.1720],\n",
       "                        [ 1.2973, -1.1874,  0.6996,  0.0174],\n",
       "                        [ 0.5678, -1.1513,  1.1284, -0.2079]])"
      ]
     },
     "execution_count": 6,
     "metadata": {},
     "output_type": "execute_result"
    }
   ],
   "source": [
    "new_value = torch.randn(2, 3)\n",
    "t.a = new_value\n",
    "\n",
    "t"
   ]
  },
  {
   "cell_type": "code",
   "execution_count": 7,
   "id": "bbe04d1c",
   "metadata": {
    "execution": {
     "iopub.execute_input": "2023-03-06T11:11:34.279310Z",
     "iopub.status.busy": "2023-03-06T11:11:34.278992Z",
     "iopub.status.idle": "2023-03-06T11:11:40.009129Z",
     "shell.execute_reply": "2023-03-06T11:11:40.007974Z"
    }
   },
   "outputs": [
    {
     "name": "stdout",
     "output_type": "stream",
     "text": [
      "70.6 ns ± 2.78 ns per loop (mean ± std. dev. of 7 runs, 10,000,000 loops each)\n"
     ]
    }
   ],
   "source": [
    "%timeit t.a = new_value"
   ]
  },
  {
   "cell_type": "markdown",
   "id": "48c49731",
   "metadata": {},
   "source": [
    "### Tianshou Batch's Get and Set"
   ]
  },
  {
   "cell_type": "code",
   "execution_count": 8,
   "id": "f1bb14c1",
   "metadata": {
    "execution": {
     "iopub.execute_input": "2023-03-06T11:11:40.012245Z",
     "iopub.status.busy": "2023-03-06T11:11:40.011949Z",
     "iopub.status.idle": "2023-03-06T11:11:40.437907Z",
     "shell.execute_reply": "2023-03-06T11:11:40.437033Z"
    }
   },
   "outputs": [],
   "source": [
    "from tianshou.data import Batch\n",
    "\n",
    "b = Batch(**_TREE_DATA_2)"
   ]
  },
  {
   "cell_type": "code",
   "execution_count": 9,
   "id": "cb0777c3",
   "metadata": {
    "execution": {
     "iopub.execute_input": "2023-03-06T11:11:40.441586Z",
     "iopub.status.busy": "2023-03-06T11:11:40.441234Z",
     "iopub.status.idle": "2023-03-06T11:11:40.448550Z",
     "shell.execute_reply": "2023-03-06T11:11:40.447773Z"
    }
   },
   "outputs": [
    {
     "data": {
      "text/plain": [
       "Batch(\n",
       "    a: tensor([[-0.0997, -1.1201,  1.3680],\n",
       "               [-0.1333,  0.9772,  0.9405]]),\n",
       "    x: Batch(\n",
       "           c: tensor([[-1.0892, -0.1569, -0.0499,  0.1720],\n",
       "                      [ 1.2973, -1.1874,  0.6996,  0.0174],\n",
       "                      [ 0.5678, -1.1513,  1.1284, -0.2079]]),\n",
       "       ),\n",
       ")"
      ]
     },
     "execution_count": 9,
     "metadata": {},
     "output_type": "execute_result"
    }
   ],
   "source": [
    "b"
   ]
  },
  {
   "cell_type": "code",
   "execution_count": 10,
   "id": "43ef8ea3",
   "metadata": {
    "execution": {
     "iopub.execute_input": "2023-03-06T11:11:40.451686Z",
     "iopub.status.busy": "2023-03-06T11:11:40.451234Z",
     "iopub.status.idle": "2023-03-06T11:11:40.457437Z",
     "shell.execute_reply": "2023-03-06T11:11:40.456676Z"
    }
   },
   "outputs": [
    {
     "data": {
      "text/plain": [
       "tensor([[-0.0997, -1.1201,  1.3680],\n",
       "        [-0.1333,  0.9772,  0.9405]])"
      ]
     },
     "execution_count": 10,
     "metadata": {},
     "output_type": "execute_result"
    }
   ],
   "source": [
    "b.a"
   ]
  },
  {
   "cell_type": "code",
   "execution_count": 11,
   "id": "b785ab72",
   "metadata": {
    "execution": {
     "iopub.execute_input": "2023-03-06T11:11:40.461405Z",
     "iopub.status.busy": "2023-03-06T11:11:40.461094Z",
     "iopub.status.idle": "2023-03-06T11:11:45.442141Z",
     "shell.execute_reply": "2023-03-06T11:11:45.441211Z"
    }
   },
   "outputs": [
    {
     "name": "stdout",
     "output_type": "stream",
     "text": [
      "60.7 ns ± 2.43 ns per loop (mean ± std. dev. of 7 runs, 10,000,000 loops each)\n"
     ]
    }
   ],
   "source": [
    "%timeit b.a"
   ]
  },
  {
   "cell_type": "code",
   "execution_count": 12,
   "id": "ad54dc69",
   "metadata": {
    "execution": {
     "iopub.execute_input": "2023-03-06T11:11:45.445732Z",
     "iopub.status.busy": "2023-03-06T11:11:45.445488Z",
     "iopub.status.idle": "2023-03-06T11:11:45.452776Z",
     "shell.execute_reply": "2023-03-06T11:11:45.451892Z"
    }
   },
   "outputs": [
    {
     "data": {
      "text/plain": [
       "Batch(\n",
       "    a: tensor([[-0.4612, -1.1346, -0.3292],\n",
       "               [-1.8448, -1.0110,  1.0477]]),\n",
       "    x: Batch(\n",
       "           c: tensor([[-1.0892, -0.1569, -0.0499,  0.1720],\n",
       "                      [ 1.2973, -1.1874,  0.6996,  0.0174],\n",
       "                      [ 0.5678, -1.1513,  1.1284, -0.2079]]),\n",
       "       ),\n",
       ")"
      ]
     },
     "execution_count": 12,
     "metadata": {},
     "output_type": "execute_result"
    }
   ],
   "source": [
    "new_value = torch.randn(2, 3)\n",
    "b.a = new_value\n",
    "\n",
    "b"
   ]
  },
  {
   "cell_type": "code",
   "execution_count": 13,
   "id": "29b1d0bf",
   "metadata": {
    "execution": {
     "iopub.execute_input": "2023-03-06T11:11:45.455624Z",
     "iopub.status.busy": "2023-03-06T11:11:45.455383Z",
     "iopub.status.idle": "2023-03-06T11:11:50.206070Z",
     "shell.execute_reply": "2023-03-06T11:11:50.204881Z"
    }
   },
   "outputs": [
    {
     "name": "stdout",
     "output_type": "stream",
     "text": [
      "588 ns ± 18.7 ns per loop (mean ± std. dev. of 7 runs, 1,000,000 loops each)\n"
     ]
    }
   ],
   "source": [
    "%timeit b.a = new_value"
   ]
  },
  {
   "cell_type": "markdown",
   "id": "b61ad1d0",
   "metadata": {},
   "source": [
    "## Initialization"
   ]
  },
  {
   "cell_type": "markdown",
   "id": "d70f0d54",
   "metadata": {},
   "source": [
    "### TreeValue's Initialization"
   ]
  },
  {
   "cell_type": "code",
   "execution_count": 14,
   "id": "d32a679b",
   "metadata": {
    "execution": {
     "iopub.execute_input": "2023-03-06T11:11:50.209873Z",
     "iopub.status.busy": "2023-03-06T11:11:50.209408Z",
     "iopub.status.idle": "2023-03-06T11:11:57.738989Z",
     "shell.execute_reply": "2023-03-06T11:11:57.738135Z"
    }
   },
   "outputs": [
    {
     "name": "stdout",
     "output_type": "stream",
     "text": [
      "924 ns ± 21.5 ns per loop (mean ± std. dev. of 7 runs, 1,000,000 loops each)\n"
     ]
    }
   ],
   "source": [
    "%timeit FastTreeValue(_TREE_DATA_1)"
   ]
  },
  {
   "cell_type": "markdown",
   "id": "24f3707b",
   "metadata": {},
   "source": [
    "### Tianshou Batch's Initialization"
   ]
  },
  {
   "cell_type": "code",
   "execution_count": 15,
   "id": "ac3958df",
   "metadata": {
    "execution": {
     "iopub.execute_input": "2023-03-06T11:11:57.742962Z",
     "iopub.status.busy": "2023-03-06T11:11:57.742302Z",
     "iopub.status.idle": "2023-03-06T11:12:07.826253Z",
     "shell.execute_reply": "2023-03-06T11:12:07.825434Z"
    }
   },
   "outputs": [
    {
     "name": "stdout",
     "output_type": "stream",
     "text": [
      "12.4 µs ± 169 ns per loop (mean ± std. dev. of 7 runs, 100,000 loops each)\n"
     ]
    }
   ],
   "source": [
    "%timeit Batch(**_TREE_DATA_1)"
   ]
  },
  {
   "cell_type": "markdown",
   "id": "1ab82e2d",
   "metadata": {},
   "source": [
    "## Deep Copy Operation"
   ]
  },
  {
   "cell_type": "code",
   "execution_count": 16,
   "id": "210a9442",
   "metadata": {
    "execution": {
     "iopub.execute_input": "2023-03-06T11:12:07.829789Z",
     "iopub.status.busy": "2023-03-06T11:12:07.829166Z",
     "iopub.status.idle": "2023-03-06T11:12:07.834189Z",
     "shell.execute_reply": "2023-03-06T11:12:07.833481Z"
    }
   },
   "outputs": [],
   "source": [
    "import copy"
   ]
  },
  {
   "cell_type": "markdown",
   "id": "5a736274",
   "metadata": {},
   "source": [
    "### Deep Copy of TreeValue"
   ]
  },
  {
   "cell_type": "code",
   "execution_count": 17,
   "id": "f9bcadd6",
   "metadata": {
    "execution": {
     "iopub.execute_input": "2023-03-06T11:12:07.837246Z",
     "iopub.status.busy": "2023-03-06T11:12:07.836792Z",
     "iopub.status.idle": "2023-03-06T11:12:09.995813Z",
     "shell.execute_reply": "2023-03-06T11:12:09.995115Z"
    }
   },
   "outputs": [
    {
     "name": "stdout",
     "output_type": "stream",
     "text": [
      "266 µs ± 15.7 µs per loop (mean ± std. dev. of 7 runs, 1,000 loops each)\n"
     ]
    }
   ],
   "source": [
    "t3 = FastTreeValue(_TREE_DATA_3)\n",
    "%timeit copy.deepcopy(t3)"
   ]
  },
  {
   "cell_type": "markdown",
   "id": "bf8be7ea",
   "metadata": {},
   "source": [
    "### Deep Copy of Tianshou Batch"
   ]
  },
  {
   "cell_type": "code",
   "execution_count": 18,
   "id": "91998e6f",
   "metadata": {
    "execution": {
     "iopub.execute_input": "2023-03-06T11:12:09.999498Z",
     "iopub.status.busy": "2023-03-06T11:12:09.998551Z",
     "iopub.status.idle": "2023-03-06T11:12:12.148599Z",
     "shell.execute_reply": "2023-03-06T11:12:12.147636Z"
    }
   },
   "outputs": [
    {
     "name": "stdout",
     "output_type": "stream",
     "text": [
      "266 µs ± 20.4 µs per loop (mean ± std. dev. of 7 runs, 1,000 loops each)\n"
     ]
    }
   ],
   "source": [
    "b3 = Batch(**_TREE_DATA_3)\n",
    "%timeit copy.deepcopy(b3)"
   ]
  },
  {
   "cell_type": "markdown",
   "id": "223162fb",
   "metadata": {},
   "source": [
    "## Stack, Concat and Split Operation"
   ]
  },
  {
   "cell_type": "markdown",
   "id": "85fa4a73",
   "metadata": {},
   "source": [
    "### Performance of TreeValue"
   ]
  },
  {
   "cell_type": "code",
   "execution_count": 19,
   "id": "a0c2b697",
   "metadata": {
    "execution": {
     "iopub.execute_input": "2023-03-06T11:12:12.151936Z",
     "iopub.status.busy": "2023-03-06T11:12:12.151510Z",
     "iopub.status.idle": "2023-03-06T11:12:12.156318Z",
     "shell.execute_reply": "2023-03-06T11:12:12.155524Z"
    }
   },
   "outputs": [],
   "source": [
    "trees = [FastTreeValue(_TREE_DATA_2) for _ in range(8)]"
   ]
  },
  {
   "cell_type": "code",
   "execution_count": 20,
   "id": "017ea5a5",
   "metadata": {
    "execution": {
     "iopub.execute_input": "2023-03-06T11:12:12.160215Z",
     "iopub.status.busy": "2023-03-06T11:12:12.159744Z",
     "iopub.status.idle": "2023-03-06T11:12:12.169958Z",
     "shell.execute_reply": "2023-03-06T11:12:12.169176Z"
    }
   },
   "outputs": [
    {
     "data": {
      "text/plain": [
       "<FastTreeValue 0x7f2964317520>\n",
       "├── 'a' --> tensor([[[-0.0997, -1.1201,  1.3680],\n",
       "│                    [-0.1333,  0.9772,  0.9405]],\n",
       "│           \n",
       "│                   [[-0.0997, -1.1201,  1.3680],\n",
       "│                    [-0.1333,  0.9772,  0.9405]],\n",
       "│           \n",
       "│                   [[-0.0997, -1.1201,  1.3680],\n",
       "│                    [-0.1333,  0.9772,  0.9405]],\n",
       "│           \n",
       "│                   [[-0.0997, -1.1201,  1.3680],\n",
       "│                    [-0.1333,  0.9772,  0.9405]],\n",
       "│           \n",
       "│                   [[-0.0997, -1.1201,  1.3680],\n",
       "│                    [-0.1333,  0.9772,  0.9405]],\n",
       "│           \n",
       "│                   [[-0.0997, -1.1201,  1.3680],\n",
       "│                    [-0.1333,  0.9772,  0.9405]],\n",
       "│           \n",
       "│                   [[-0.0997, -1.1201,  1.3680],\n",
       "│                    [-0.1333,  0.9772,  0.9405]],\n",
       "│           \n",
       "│                   [[-0.0997, -1.1201,  1.3680],\n",
       "│                    [-0.1333,  0.9772,  0.9405]]])\n",
       "└── 'x' --> <FastTreeValue 0x7f28afbe3bb0>\n",
       "    └── 'c' --> tensor([[[-1.0892, -0.1569, -0.0499,  0.1720],\n",
       "                         [ 1.2973, -1.1874,  0.6996,  0.0174],\n",
       "                         [ 0.5678, -1.1513,  1.1284, -0.2079]],\n",
       "                \n",
       "                        [[-1.0892, -0.1569, -0.0499,  0.1720],\n",
       "                         [ 1.2973, -1.1874,  0.6996,  0.0174],\n",
       "                         [ 0.5678, -1.1513,  1.1284, -0.2079]],\n",
       "                \n",
       "                        [[-1.0892, -0.1569, -0.0499,  0.1720],\n",
       "                         [ 1.2973, -1.1874,  0.6996,  0.0174],\n",
       "                         [ 0.5678, -1.1513,  1.1284, -0.2079]],\n",
       "                \n",
       "                        [[-1.0892, -0.1569, -0.0499,  0.1720],\n",
       "                         [ 1.2973, -1.1874,  0.6996,  0.0174],\n",
       "                         [ 0.5678, -1.1513,  1.1284, -0.2079]],\n",
       "                \n",
       "                        [[-1.0892, -0.1569, -0.0499,  0.1720],\n",
       "                         [ 1.2973, -1.1874,  0.6996,  0.0174],\n",
       "                         [ 0.5678, -1.1513,  1.1284, -0.2079]],\n",
       "                \n",
       "                        [[-1.0892, -0.1569, -0.0499,  0.1720],\n",
       "                         [ 1.2973, -1.1874,  0.6996,  0.0174],\n",
       "                         [ 0.5678, -1.1513,  1.1284, -0.2079]],\n",
       "                \n",
       "                        [[-1.0892, -0.1569, -0.0499,  0.1720],\n",
       "                         [ 1.2973, -1.1874,  0.6996,  0.0174],\n",
       "                         [ 0.5678, -1.1513,  1.1284, -0.2079]],\n",
       "                \n",
       "                        [[-1.0892, -0.1569, -0.0499,  0.1720],\n",
       "                         [ 1.2973, -1.1874,  0.6996,  0.0174],\n",
       "                         [ 0.5678, -1.1513,  1.1284, -0.2079]]])"
      ]
     },
     "execution_count": 20,
     "metadata": {},
     "output_type": "execute_result"
    }
   ],
   "source": [
    "t_stack = FastTreeValue.func(subside=True)(torch.stack)\n",
    "\n",
    "t_stack(trees)"
   ]
  },
  {
   "cell_type": "code",
   "execution_count": 21,
   "id": "f8b3f415",
   "metadata": {
    "execution": {
     "iopub.execute_input": "2023-03-06T11:12:12.173290Z",
     "iopub.status.busy": "2023-03-06T11:12:12.173004Z",
     "iopub.status.idle": "2023-03-06T11:12:15.657142Z",
     "shell.execute_reply": "2023-03-06T11:12:15.656218Z"
    }
   },
   "outputs": [
    {
     "name": "stdout",
     "output_type": "stream",
     "text": [
      "42.7 µs ± 1.51 µs per loop (mean ± std. dev. of 7 runs, 10,000 loops each)\n"
     ]
    }
   ],
   "source": [
    "%timeit t_stack(trees)"
   ]
  },
  {
   "cell_type": "code",
   "execution_count": 22,
   "id": "94b56771",
   "metadata": {
    "execution": {
     "iopub.execute_input": "2023-03-06T11:12:15.660435Z",
     "iopub.status.busy": "2023-03-06T11:12:15.659900Z",
     "iopub.status.idle": "2023-03-06T11:12:15.669908Z",
     "shell.execute_reply": "2023-03-06T11:12:15.669104Z"
    }
   },
   "outputs": [
    {
     "data": {
      "text/plain": [
       "<FastTreeValue 0x7f29643607c0>\n",
       "├── 'a' --> tensor([[-0.0997, -1.1201,  1.3680],\n",
       "│                   [-0.1333,  0.9772,  0.9405],\n",
       "│                   [-0.0997, -1.1201,  1.3680],\n",
       "│                   [-0.1333,  0.9772,  0.9405],\n",
       "│                   [-0.0997, -1.1201,  1.3680],\n",
       "│                   [-0.1333,  0.9772,  0.9405],\n",
       "│                   [-0.0997, -1.1201,  1.3680],\n",
       "│                   [-0.1333,  0.9772,  0.9405],\n",
       "│                   [-0.0997, -1.1201,  1.3680],\n",
       "│                   [-0.1333,  0.9772,  0.9405],\n",
       "│                   [-0.0997, -1.1201,  1.3680],\n",
       "│                   [-0.1333,  0.9772,  0.9405],\n",
       "│                   [-0.0997, -1.1201,  1.3680],\n",
       "│                   [-0.1333,  0.9772,  0.9405],\n",
       "│                   [-0.0997, -1.1201,  1.3680],\n",
       "│                   [-0.1333,  0.9772,  0.9405]])\n",
       "└── 'x' --> <FastTreeValue 0x7f28b625df70>\n",
       "    └── 'c' --> tensor([[-1.0892, -0.1569, -0.0499,  0.1720],\n",
       "                        [ 1.2973, -1.1874,  0.6996,  0.0174],\n",
       "                        [ 0.5678, -1.1513,  1.1284, -0.2079],\n",
       "                        [-1.0892, -0.1569, -0.0499,  0.1720],\n",
       "                        [ 1.2973, -1.1874,  0.6996,  0.0174],\n",
       "                        [ 0.5678, -1.1513,  1.1284, -0.2079],\n",
       "                        [-1.0892, -0.1569, -0.0499,  0.1720],\n",
       "                        [ 1.2973, -1.1874,  0.6996,  0.0174],\n",
       "                        [ 0.5678, -1.1513,  1.1284, -0.2079],\n",
       "                        [-1.0892, -0.1569, -0.0499,  0.1720],\n",
       "                        [ 1.2973, -1.1874,  0.6996,  0.0174],\n",
       "                        [ 0.5678, -1.1513,  1.1284, -0.2079],\n",
       "                        [-1.0892, -0.1569, -0.0499,  0.1720],\n",
       "                        [ 1.2973, -1.1874,  0.6996,  0.0174],\n",
       "                        [ 0.5678, -1.1513,  1.1284, -0.2079],\n",
       "                        [-1.0892, -0.1569, -0.0499,  0.1720],\n",
       "                        [ 1.2973, -1.1874,  0.6996,  0.0174],\n",
       "                        [ 0.5678, -1.1513,  1.1284, -0.2079],\n",
       "                        [-1.0892, -0.1569, -0.0499,  0.1720],\n",
       "                        [ 1.2973, -1.1874,  0.6996,  0.0174],\n",
       "                        [ 0.5678, -1.1513,  1.1284, -0.2079],\n",
       "                        [-1.0892, -0.1569, -0.0499,  0.1720],\n",
       "                        [ 1.2973, -1.1874,  0.6996,  0.0174],\n",
       "                        [ 0.5678, -1.1513,  1.1284, -0.2079]])"
      ]
     },
     "execution_count": 22,
     "metadata": {},
     "output_type": "execute_result"
    }
   ],
   "source": [
    "t_cat = FastTreeValue.func(subside=True)(torch.cat)\n",
    "\n",
    "t_cat(trees)"
   ]
  },
  {
   "cell_type": "code",
   "execution_count": 23,
   "id": "5e9c06a6",
   "metadata": {
    "execution": {
     "iopub.execute_input": "2023-03-06T11:12:15.673573Z",
     "iopub.status.busy": "2023-03-06T11:12:15.673277Z",
     "iopub.status.idle": "2023-03-06T11:12:18.937632Z",
     "shell.execute_reply": "2023-03-06T11:12:18.936461Z"
    }
   },
   "outputs": [
    {
     "name": "stdout",
     "output_type": "stream",
     "text": [
      "40.3 µs ± 1.64 µs per loop (mean ± std. dev. of 7 runs, 10,000 loops each)\n"
     ]
    }
   ],
   "source": [
    "%timeit t_cat(trees)"
   ]
  },
  {
   "cell_type": "code",
   "execution_count": 24,
   "id": "a3ab5c8f",
   "metadata": {
    "execution": {
     "iopub.execute_input": "2023-03-06T11:12:18.940870Z",
     "iopub.status.busy": "2023-03-06T11:12:18.940420Z",
     "iopub.status.idle": "2023-03-06T11:12:24.945006Z",
     "shell.execute_reply": "2023-03-06T11:12:24.943924Z"
    }
   },
   "outputs": [
    {
     "name": "stdout",
     "output_type": "stream",
     "text": [
      "74.1 µs ± 2.73 µs per loop (mean ± std. dev. of 7 runs, 10,000 loops each)\n"
     ]
    }
   ],
   "source": [
    "t_split = FastTreeValue.func(rise=True)(torch.split)\n",
    "tree = FastTreeValue({\n",
    "    'obs': torch.randn(8, 4, 84, 84),\n",
    "    'action': torch.randint(0, 6, size=(8, 1,)),\n",
    "    'reward': torch.rand(8, 1),\n",
    "})\n",
    "\n",
    "%timeit t_split(tree, 1)"
   ]
  },
  {
   "cell_type": "markdown",
   "id": "31c3ec0b",
   "metadata": {},
   "source": [
    "### Performance of Tianshou Batch"
   ]
  },
  {
   "cell_type": "code",
   "execution_count": 25,
   "id": "9ead828a",
   "metadata": {
    "execution": {
     "iopub.execute_input": "2023-03-06T11:12:24.948695Z",
     "iopub.status.busy": "2023-03-06T11:12:24.948324Z",
     "iopub.status.idle": "2023-03-06T11:12:24.958500Z",
     "shell.execute_reply": "2023-03-06T11:12:24.957639Z"
    }
   },
   "outputs": [
    {
     "data": {
      "text/plain": [
       "Batch(\n",
       "    x: Batch(\n",
       "           c: tensor([[[-1.0892, -0.1569, -0.0499,  0.1720],\n",
       "                       [ 1.2973, -1.1874,  0.6996,  0.0174],\n",
       "                       [ 0.5678, -1.1513,  1.1284, -0.2079]],\n",
       "              \n",
       "                      [[-1.0892, -0.1569, -0.0499,  0.1720],\n",
       "                       [ 1.2973, -1.1874,  0.6996,  0.0174],\n",
       "                       [ 0.5678, -1.1513,  1.1284, -0.2079]],\n",
       "              \n",
       "                      [[-1.0892, -0.1569, -0.0499,  0.1720],\n",
       "                       [ 1.2973, -1.1874,  0.6996,  0.0174],\n",
       "                       [ 0.5678, -1.1513,  1.1284, -0.2079]],\n",
       "              \n",
       "                      [[-1.0892, -0.1569, -0.0499,  0.1720],\n",
       "                       [ 1.2973, -1.1874,  0.6996,  0.0174],\n",
       "                       [ 0.5678, -1.1513,  1.1284, -0.2079]],\n",
       "              \n",
       "                      [[-1.0892, -0.1569, -0.0499,  0.1720],\n",
       "                       [ 1.2973, -1.1874,  0.6996,  0.0174],\n",
       "                       [ 0.5678, -1.1513,  1.1284, -0.2079]],\n",
       "              \n",
       "                      [[-1.0892, -0.1569, -0.0499,  0.1720],\n",
       "                       [ 1.2973, -1.1874,  0.6996,  0.0174],\n",
       "                       [ 0.5678, -1.1513,  1.1284, -0.2079]],\n",
       "              \n",
       "                      [[-1.0892, -0.1569, -0.0499,  0.1720],\n",
       "                       [ 1.2973, -1.1874,  0.6996,  0.0174],\n",
       "                       [ 0.5678, -1.1513,  1.1284, -0.2079]],\n",
       "              \n",
       "                      [[-1.0892, -0.1569, -0.0499,  0.1720],\n",
       "                       [ 1.2973, -1.1874,  0.6996,  0.0174],\n",
       "                       [ 0.5678, -1.1513,  1.1284, -0.2079]]]),\n",
       "       ),\n",
       "    a: tensor([[[-0.0997, -1.1201,  1.3680],\n",
       "                [-0.1333,  0.9772,  0.9405]],\n",
       "       \n",
       "               [[-0.0997, -1.1201,  1.3680],\n",
       "                [-0.1333,  0.9772,  0.9405]],\n",
       "       \n",
       "               [[-0.0997, -1.1201,  1.3680],\n",
       "                [-0.1333,  0.9772,  0.9405]],\n",
       "       \n",
       "               [[-0.0997, -1.1201,  1.3680],\n",
       "                [-0.1333,  0.9772,  0.9405]],\n",
       "       \n",
       "               [[-0.0997, -1.1201,  1.3680],\n",
       "                [-0.1333,  0.9772,  0.9405]],\n",
       "       \n",
       "               [[-0.0997, -1.1201,  1.3680],\n",
       "                [-0.1333,  0.9772,  0.9405]],\n",
       "       \n",
       "               [[-0.0997, -1.1201,  1.3680],\n",
       "                [-0.1333,  0.9772,  0.9405]],\n",
       "       \n",
       "               [[-0.0997, -1.1201,  1.3680],\n",
       "                [-0.1333,  0.9772,  0.9405]]]),\n",
       ")"
      ]
     },
     "execution_count": 25,
     "metadata": {},
     "output_type": "execute_result"
    }
   ],
   "source": [
    "batches = [Batch(**_TREE_DATA_2) for _ in range(8)]\n",
    "\n",
    "Batch.stack(batches)"
   ]
  },
  {
   "cell_type": "code",
   "execution_count": 26,
   "id": "ec9037a3",
   "metadata": {
    "execution": {
     "iopub.execute_input": "2023-03-06T11:12:24.961916Z",
     "iopub.status.busy": "2023-03-06T11:12:24.961624Z",
     "iopub.status.idle": "2023-03-06T11:12:32.989430Z",
     "shell.execute_reply": "2023-03-06T11:12:32.987251Z"
    }
   },
   "outputs": [
    {
     "name": "stdout",
     "output_type": "stream",
     "text": [
      "99.2 µs ± 1.63 µs per loop (mean ± std. dev. of 7 runs, 10,000 loops each)\n"
     ]
    }
   ],
   "source": [
    "%timeit Batch.stack(batches)"
   ]
  },
  {
   "cell_type": "code",
   "execution_count": 27,
   "id": "cb8ab77e",
   "metadata": {
    "execution": {
     "iopub.execute_input": "2023-03-06T11:12:32.993617Z",
     "iopub.status.busy": "2023-03-06T11:12:32.992961Z",
     "iopub.status.idle": "2023-03-06T11:12:33.002972Z",
     "shell.execute_reply": "2023-03-06T11:12:33.002199Z"
    }
   },
   "outputs": [
    {
     "data": {
      "text/plain": [
       "Batch(\n",
       "    x: Batch(\n",
       "           c: tensor([[-1.0892, -0.1569, -0.0499,  0.1720],\n",
       "                      [ 1.2973, -1.1874,  0.6996,  0.0174],\n",
       "                      [ 0.5678, -1.1513,  1.1284, -0.2079],\n",
       "                      [-1.0892, -0.1569, -0.0499,  0.1720],\n",
       "                      [ 1.2973, -1.1874,  0.6996,  0.0174],\n",
       "                      [ 0.5678, -1.1513,  1.1284, -0.2079],\n",
       "                      [-1.0892, -0.1569, -0.0499,  0.1720],\n",
       "                      [ 1.2973, -1.1874,  0.6996,  0.0174],\n",
       "                      [ 0.5678, -1.1513,  1.1284, -0.2079],\n",
       "                      [-1.0892, -0.1569, -0.0499,  0.1720],\n",
       "                      [ 1.2973, -1.1874,  0.6996,  0.0174],\n",
       "                      [ 0.5678, -1.1513,  1.1284, -0.2079],\n",
       "                      [-1.0892, -0.1569, -0.0499,  0.1720],\n",
       "                      [ 1.2973, -1.1874,  0.6996,  0.0174],\n",
       "                      [ 0.5678, -1.1513,  1.1284, -0.2079],\n",
       "                      [-1.0892, -0.1569, -0.0499,  0.1720],\n",
       "                      [ 1.2973, -1.1874,  0.6996,  0.0174],\n",
       "                      [ 0.5678, -1.1513,  1.1284, -0.2079],\n",
       "                      [-1.0892, -0.1569, -0.0499,  0.1720],\n",
       "                      [ 1.2973, -1.1874,  0.6996,  0.0174],\n",
       "                      [ 0.5678, -1.1513,  1.1284, -0.2079],\n",
       "                      [-1.0892, -0.1569, -0.0499,  0.1720],\n",
       "                      [ 1.2973, -1.1874,  0.6996,  0.0174],\n",
       "                      [ 0.5678, -1.1513,  1.1284, -0.2079]]),\n",
       "       ),\n",
       "    a: tensor([[-0.0997, -1.1201,  1.3680],\n",
       "               [-0.1333,  0.9772,  0.9405],\n",
       "               [-0.0997, -1.1201,  1.3680],\n",
       "               [-0.1333,  0.9772,  0.9405],\n",
       "               [-0.0997, -1.1201,  1.3680],\n",
       "               [-0.1333,  0.9772,  0.9405],\n",
       "               [-0.0997, -1.1201,  1.3680],\n",
       "               [-0.1333,  0.9772,  0.9405],\n",
       "               [-0.0997, -1.1201,  1.3680],\n",
       "               [-0.1333,  0.9772,  0.9405],\n",
       "               [-0.0997, -1.1201,  1.3680],\n",
       "               [-0.1333,  0.9772,  0.9405],\n",
       "               [-0.0997, -1.1201,  1.3680],\n",
       "               [-0.1333,  0.9772,  0.9405],\n",
       "               [-0.0997, -1.1201,  1.3680],\n",
       "               [-0.1333,  0.9772,  0.9405]]),\n",
       ")"
      ]
     },
     "execution_count": 27,
     "metadata": {},
     "output_type": "execute_result"
    }
   ],
   "source": [
    "Batch.cat(batches)"
   ]
  },
  {
   "cell_type": "code",
   "execution_count": 28,
   "id": "18dfb045",
   "metadata": {
    "execution": {
     "iopub.execute_input": "2023-03-06T11:12:33.006429Z",
     "iopub.status.busy": "2023-03-06T11:12:33.006098Z",
     "iopub.status.idle": "2023-03-06T11:12:47.269000Z",
     "shell.execute_reply": "2023-03-06T11:12:47.268027Z"
    }
   },
   "outputs": [
    {
     "name": "stdout",
     "output_type": "stream",
     "text": [
      "175 µs ± 3.17 µs per loop (mean ± std. dev. of 7 runs, 10,000 loops each)\n"
     ]
    }
   ],
   "source": [
    "%timeit Batch.cat(batches)"
   ]
  },
  {
   "cell_type": "code",
   "execution_count": 29,
   "id": "c6688e51",
   "metadata": {
    "execution": {
     "iopub.execute_input": "2023-03-06T11:12:47.272115Z",
     "iopub.status.busy": "2023-03-06T11:12:47.271852Z",
     "iopub.status.idle": "2023-03-06T11:12:51.650094Z",
     "shell.execute_reply": "2023-03-06T11:12:51.649250Z"
    }
   },
   "outputs": [
    {
     "name": "stdout",
     "output_type": "stream",
     "text": [
      "539 µs ± 11.7 µs per loop (mean ± std. dev. of 7 runs, 1,000 loops each)\n"
     ]
    }
   ],
   "source": [
    "batch = Batch({\n",
    "    'obs': torch.randn(8, 4, 84, 84),\n",
    "    'action': torch.randint(0, 6, size=(8, 1,)),\n",
    "    'reward': torch.rand(8, 1)}\n",
    ")\n",
    "\n",
    "%timeit list(Batch.split(batch, 1, shuffle=False, merge_last=True))"
   ]
  },
  {
   "cell_type": "code",
   "execution_count": null,
   "id": "2539fbd9",
   "metadata": {},
   "outputs": [],
   "source": []
  }
 ],
 "metadata": {
  "kernelspec": {
   "display_name": "Python 3 (ipykernel)",
   "language": "python",
   "name": "python3"
  },
  "language_info": {
   "codemirror_mode": {
    "name": "ipython",
    "version": 3
   },
   "file_extension": ".py",
   "mimetype": "text/x-python",
   "name": "python",
   "nbconvert_exporter": "python",
   "pygments_lexer": "ipython3",
   "version": "3.8.16"
  }
 },
 "nbformat": 4,
 "nbformat_minor": 5
}
