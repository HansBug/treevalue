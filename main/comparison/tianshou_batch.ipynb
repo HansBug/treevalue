{
 "cells": [
  {
   "cell_type": "markdown",
   "id": "9d39d946",
   "metadata": {},
   "source": [
    "# Comparison Between TreeValue and Tianshou Batch"
   ]
  },
  {
   "cell_type": "markdown",
   "id": "3c6db2d4",
   "metadata": {},
   "source": [
    "In this section, we will take a look at the feature and performance of the [Tianshou Batch](https://github.com/thu-ml/tianshou) library, which is developed by Tsinghua Machine Learning Group."
   ]
  },
  {
   "cell_type": "markdown",
   "id": "069361b0",
   "metadata": {},
   "source": [
    "Before starting the comparison, let us define some thing."
   ]
  },
  {
   "cell_type": "code",
   "execution_count": 1,
   "id": "06fc8d26",
   "metadata": {
    "execution": {
     "iopub.execute_input": "2023-02-25T19:14:51.354162Z",
     "iopub.status.busy": "2023-02-25T19:14:51.353746Z",
     "iopub.status.idle": "2023-02-25T19:14:52.303219Z",
     "shell.execute_reply": "2023-02-25T19:14:52.302481Z"
    }
   },
   "outputs": [
    {
     "name": "stderr",
     "output_type": "stream",
     "text": [
      "/opt/hostedtoolcache/Python/3.8.16/x64/lib/python3.8/site-packages/tqdm/auto.py:22: TqdmWarning: IProgress not found. Please update jupyter and ipywidgets. See https://ipywidgets.readthedocs.io/en/stable/user_install.html\n",
      "  from .autonotebook import tqdm as notebook_tqdm\n"
     ]
    }
   ],
   "source": [
    "import torch \n",
    "\n",
    "_TREE_DATA_1 = {'a': 1, 'b': 2, 'x': {'c': 3, 'd': 4}}\n",
    "_TREE_DATA_2 = {\n",
    "    'a': torch.randn(2, 3), \n",
    "    'x': {\n",
    "        'c': torch.randn(3, 4)\n",
    "    },\n",
    "}\n",
    "_TREE_DATA_3 = {\n",
    "    'obs': torch.randn(4, 84, 84),\n",
    "    'action': torch.randint(0, 6, size=(1,)),\n",
    "    'reward': torch.rand(1),\n",
    "}"
   ]
  },
  {
   "cell_type": "markdown",
   "id": "83461b25",
   "metadata": {},
   "source": [
    "## Read and Write Operation"
   ]
  },
  {
   "cell_type": "markdown",
   "id": "067b3f73",
   "metadata": {},
   "source": [
    "Reading and writing are the two most common operations in the tree data structure based on the data model (TreeValue and Tianshou Batch both belong to this type), so this section will compare the reading and writing performance of these two libraries."
   ]
  },
  {
   "cell_type": "markdown",
   "id": "5d09a5b7",
   "metadata": {},
   "source": [
    "### TreeValue's Get and Set"
   ]
  },
  {
   "cell_type": "code",
   "execution_count": 2,
   "id": "9519c4bb",
   "metadata": {
    "execution": {
     "iopub.execute_input": "2023-02-25T19:14:52.306864Z",
     "iopub.status.busy": "2023-02-25T19:14:52.306262Z",
     "iopub.status.idle": "2023-02-25T19:14:52.340256Z",
     "shell.execute_reply": "2023-02-25T19:14:52.339607Z"
    }
   },
   "outputs": [],
   "source": [
    "from treevalue import FastTreeValue\n",
    "\n",
    "t = FastTreeValue(_TREE_DATA_2)"
   ]
  },
  {
   "cell_type": "code",
   "execution_count": 3,
   "id": "11c37677",
   "metadata": {
    "execution": {
     "iopub.execute_input": "2023-02-25T19:14:52.343321Z",
     "iopub.status.busy": "2023-02-25T19:14:52.342742Z",
     "iopub.status.idle": "2023-02-25T19:14:52.352087Z",
     "shell.execute_reply": "2023-02-25T19:14:52.351477Z"
    }
   },
   "outputs": [
    {
     "data": {
      "text/plain": [
       "<FastTreeValue 0x7f9e88847160>\n",
       "├── 'a' --> tensor([[-1.3231,  0.0383,  0.0237],\n",
       "│                   [-0.5559, -0.9390,  0.3594]])\n",
       "└── 'x' --> <FastTreeValue 0x7f9e88847070>\n",
       "    └── 'c' --> tensor([[ 0.9274,  1.2868,  0.0517, -0.3390],\n",
       "                        [ 1.5586,  0.1712,  1.1923, -0.6800],\n",
       "                        [-0.0963, -0.1006,  0.3206, -1.0464]])"
      ]
     },
     "execution_count": 3,
     "metadata": {},
     "output_type": "execute_result"
    }
   ],
   "source": [
    "t"
   ]
  },
  {
   "cell_type": "code",
   "execution_count": 4,
   "id": "fd70b0b9",
   "metadata": {
    "execution": {
     "iopub.execute_input": "2023-02-25T19:14:52.355083Z",
     "iopub.status.busy": "2023-02-25T19:14:52.354569Z",
     "iopub.status.idle": "2023-02-25T19:14:52.360678Z",
     "shell.execute_reply": "2023-02-25T19:14:52.360086Z"
    }
   },
   "outputs": [
    {
     "data": {
      "text/plain": [
       "tensor([[-1.3231,  0.0383,  0.0237],\n",
       "        [-0.5559, -0.9390,  0.3594]])"
      ]
     },
     "execution_count": 4,
     "metadata": {},
     "output_type": "execute_result"
    }
   ],
   "source": [
    "t.a"
   ]
  },
  {
   "cell_type": "code",
   "execution_count": 5,
   "id": "c18197bd",
   "metadata": {
    "execution": {
     "iopub.execute_input": "2023-02-25T19:14:52.363571Z",
     "iopub.status.busy": "2023-02-25T19:14:52.363088Z",
     "iopub.status.idle": "2023-02-25T19:14:57.538106Z",
     "shell.execute_reply": "2023-02-25T19:14:57.537421Z"
    }
   },
   "outputs": [
    {
     "name": "stdout",
     "output_type": "stream",
     "text": [
      "63.9 ns ± 0.0189 ns per loop (mean ± std. dev. of 7 runs, 10,000,000 loops each)\n"
     ]
    }
   ],
   "source": [
    "%timeit t.a"
   ]
  },
  {
   "cell_type": "code",
   "execution_count": 6,
   "id": "bd52f867",
   "metadata": {
    "execution": {
     "iopub.execute_input": "2023-02-25T19:14:57.540974Z",
     "iopub.status.busy": "2023-02-25T19:14:57.540591Z",
     "iopub.status.idle": "2023-02-25T19:14:57.547436Z",
     "shell.execute_reply": "2023-02-25T19:14:57.546826Z"
    }
   },
   "outputs": [
    {
     "data": {
      "text/plain": [
       "<FastTreeValue 0x7f9e88847160>\n",
       "├── 'a' --> tensor([[-0.8165, -0.3284,  0.0015],\n",
       "│                   [-0.8182, -0.4041, -0.0124]])\n",
       "└── 'x' --> <FastTreeValue 0x7f9e88847070>\n",
       "    └── 'c' --> tensor([[ 0.9274,  1.2868,  0.0517, -0.3390],\n",
       "                        [ 1.5586,  0.1712,  1.1923, -0.6800],\n",
       "                        [-0.0963, -0.1006,  0.3206, -1.0464]])"
      ]
     },
     "execution_count": 6,
     "metadata": {},
     "output_type": "execute_result"
    }
   ],
   "source": [
    "new_value = torch.randn(2, 3)\n",
    "t.a = new_value\n",
    "\n",
    "t"
   ]
  },
  {
   "cell_type": "code",
   "execution_count": 7,
   "id": "bbe04d1c",
   "metadata": {
    "execution": {
     "iopub.execute_input": "2023-02-25T19:14:57.549888Z",
     "iopub.status.busy": "2023-02-25T19:14:57.549530Z",
     "iopub.status.idle": "2023-02-25T19:15:03.119423Z",
     "shell.execute_reply": "2023-02-25T19:15:03.118667Z"
    }
   },
   "outputs": [
    {
     "name": "stdout",
     "output_type": "stream",
     "text": [
      "68.5 ns ± 0.0579 ns per loop (mean ± std. dev. of 7 runs, 10,000,000 loops each)\n"
     ]
    }
   ],
   "source": [
    "%timeit t.a = new_value"
   ]
  },
  {
   "cell_type": "markdown",
   "id": "48c49731",
   "metadata": {},
   "source": [
    "### Tianshou Batch's Get and Set"
   ]
  },
  {
   "cell_type": "code",
   "execution_count": 8,
   "id": "f1bb14c1",
   "metadata": {
    "execution": {
     "iopub.execute_input": "2023-02-25T19:15:03.122369Z",
     "iopub.status.busy": "2023-02-25T19:15:03.121830Z",
     "iopub.status.idle": "2023-02-25T19:15:03.460070Z",
     "shell.execute_reply": "2023-02-25T19:15:03.459389Z"
    }
   },
   "outputs": [],
   "source": [
    "from tianshou.data import Batch\n",
    "\n",
    "b = Batch(**_TREE_DATA_2)"
   ]
  },
  {
   "cell_type": "code",
   "execution_count": 9,
   "id": "cb0777c3",
   "metadata": {
    "execution": {
     "iopub.execute_input": "2023-02-25T19:15:03.463704Z",
     "iopub.status.busy": "2023-02-25T19:15:03.463003Z",
     "iopub.status.idle": "2023-02-25T19:15:03.469136Z",
     "shell.execute_reply": "2023-02-25T19:15:03.468552Z"
    }
   },
   "outputs": [
    {
     "data": {
      "text/plain": [
       "Batch(\n",
       "    a: tensor([[-1.3231,  0.0383,  0.0237],\n",
       "               [-0.5559, -0.9390,  0.3594]]),\n",
       "    x: Batch(\n",
       "           c: tensor([[ 0.9274,  1.2868,  0.0517, -0.3390],\n",
       "                      [ 1.5586,  0.1712,  1.1923, -0.6800],\n",
       "                      [-0.0963, -0.1006,  0.3206, -1.0464]]),\n",
       "       ),\n",
       ")"
      ]
     },
     "execution_count": 9,
     "metadata": {},
     "output_type": "execute_result"
    }
   ],
   "source": [
    "b"
   ]
  },
  {
   "cell_type": "code",
   "execution_count": 10,
   "id": "43ef8ea3",
   "metadata": {
    "execution": {
     "iopub.execute_input": "2023-02-25T19:15:03.471637Z",
     "iopub.status.busy": "2023-02-25T19:15:03.471290Z",
     "iopub.status.idle": "2023-02-25T19:15:03.476639Z",
     "shell.execute_reply": "2023-02-25T19:15:03.476068Z"
    }
   },
   "outputs": [
    {
     "data": {
      "text/plain": [
       "tensor([[-1.3231,  0.0383,  0.0237],\n",
       "        [-0.5559, -0.9390,  0.3594]])"
      ]
     },
     "execution_count": 10,
     "metadata": {},
     "output_type": "execute_result"
    }
   ],
   "source": [
    "b.a"
   ]
  },
  {
   "cell_type": "code",
   "execution_count": 11,
   "id": "b785ab72",
   "metadata": {
    "execution": {
     "iopub.execute_input": "2023-02-25T19:15:03.478844Z",
     "iopub.status.busy": "2023-02-25T19:15:03.478642Z",
     "iopub.status.idle": "2023-02-25T19:15:07.896028Z",
     "shell.execute_reply": "2023-02-25T19:15:07.895279Z"
    }
   },
   "outputs": [
    {
     "name": "stdout",
     "output_type": "stream",
     "text": [
      "54.4 ns ± 0.0412 ns per loop (mean ± std. dev. of 7 runs, 10,000,000 loops each)\n"
     ]
    }
   ],
   "source": [
    "%timeit b.a"
   ]
  },
  {
   "cell_type": "code",
   "execution_count": 12,
   "id": "ad54dc69",
   "metadata": {
    "execution": {
     "iopub.execute_input": "2023-02-25T19:15:07.898807Z",
     "iopub.status.busy": "2023-02-25T19:15:07.898417Z",
     "iopub.status.idle": "2023-02-25T19:15:07.904946Z",
     "shell.execute_reply": "2023-02-25T19:15:07.904342Z"
    }
   },
   "outputs": [
    {
     "data": {
      "text/plain": [
       "Batch(\n",
       "    a: tensor([[ 1.2632, -0.6425, -0.1998],\n",
       "               [ 0.1101,  1.3349,  0.4263]]),\n",
       "    x: Batch(\n",
       "           c: tensor([[ 0.9274,  1.2868,  0.0517, -0.3390],\n",
       "                      [ 1.5586,  0.1712,  1.1923, -0.6800],\n",
       "                      [-0.0963, -0.1006,  0.3206, -1.0464]]),\n",
       "       ),\n",
       ")"
      ]
     },
     "execution_count": 12,
     "metadata": {},
     "output_type": "execute_result"
    }
   ],
   "source": [
    "new_value = torch.randn(2, 3)\n",
    "b.a = new_value\n",
    "\n",
    "b"
   ]
  },
  {
   "cell_type": "code",
   "execution_count": 13,
   "id": "29b1d0bf",
   "metadata": {
    "execution": {
     "iopub.execute_input": "2023-02-25T19:15:07.907530Z",
     "iopub.status.busy": "2023-02-25T19:15:07.907182Z",
     "iopub.status.idle": "2023-02-25T19:15:11.824169Z",
     "shell.execute_reply": "2023-02-25T19:15:11.823453Z"
    }
   },
   "outputs": [
    {
     "name": "stdout",
     "output_type": "stream",
     "text": [
      "482 ns ± 0.426 ns per loop (mean ± std. dev. of 7 runs, 1,000,000 loops each)\n"
     ]
    }
   ],
   "source": [
    "%timeit b.a = new_value"
   ]
  },
  {
   "cell_type": "markdown",
   "id": "b61ad1d0",
   "metadata": {},
   "source": [
    "## Initialization"
   ]
  },
  {
   "cell_type": "markdown",
   "id": "d70f0d54",
   "metadata": {},
   "source": [
    "### TreeValue's Initialization"
   ]
  },
  {
   "cell_type": "code",
   "execution_count": 14,
   "id": "d32a679b",
   "metadata": {
    "execution": {
     "iopub.execute_input": "2023-02-25T19:15:11.827293Z",
     "iopub.status.busy": "2023-02-25T19:15:11.826921Z",
     "iopub.status.idle": "2023-02-25T19:15:18.769664Z",
     "shell.execute_reply": "2023-02-25T19:15:18.768907Z"
    }
   },
   "outputs": [
    {
     "name": "stdout",
     "output_type": "stream",
     "text": [
      "855 ns ± 0.148 ns per loop (mean ± std. dev. of 7 runs, 1,000,000 loops each)\n"
     ]
    }
   ],
   "source": [
    "%timeit FastTreeValue(_TREE_DATA_1)"
   ]
  },
  {
   "cell_type": "markdown",
   "id": "24f3707b",
   "metadata": {},
   "source": [
    "### Tianshou Batch's Initialization"
   ]
  },
  {
   "cell_type": "code",
   "execution_count": 15,
   "id": "ac3958df",
   "metadata": {
    "execution": {
     "iopub.execute_input": "2023-02-25T19:15:18.772916Z",
     "iopub.status.busy": "2023-02-25T19:15:18.772403Z",
     "iopub.status.idle": "2023-02-25T19:15:27.937403Z",
     "shell.execute_reply": "2023-02-25T19:15:27.936694Z"
    }
   },
   "outputs": [
    {
     "name": "stdout",
     "output_type": "stream",
     "text": [
      "11.3 µs ± 16.2 ns per loop (mean ± std. dev. of 7 runs, 100,000 loops each)\n"
     ]
    }
   ],
   "source": [
    "%timeit Batch(**_TREE_DATA_1)"
   ]
  },
  {
   "cell_type": "markdown",
   "id": "1ab82e2d",
   "metadata": {},
   "source": [
    "## Deep Copy Operation"
   ]
  },
  {
   "cell_type": "code",
   "execution_count": 16,
   "id": "210a9442",
   "metadata": {
    "execution": {
     "iopub.execute_input": "2023-02-25T19:15:27.940194Z",
     "iopub.status.busy": "2023-02-25T19:15:27.939824Z",
     "iopub.status.idle": "2023-02-25T19:15:27.943711Z",
     "shell.execute_reply": "2023-02-25T19:15:27.943081Z"
    }
   },
   "outputs": [],
   "source": [
    "import copy"
   ]
  },
  {
   "cell_type": "markdown",
   "id": "5a736274",
   "metadata": {},
   "source": [
    "### Deep Copy of TreeValue"
   ]
  },
  {
   "cell_type": "code",
   "execution_count": 17,
   "id": "f9bcadd6",
   "metadata": {
    "execution": {
     "iopub.execute_input": "2023-02-25T19:15:27.946295Z",
     "iopub.status.busy": "2023-02-25T19:15:27.945957Z",
     "iopub.status.idle": "2023-02-25T19:15:39.125582Z",
     "shell.execute_reply": "2023-02-25T19:15:39.125020Z"
    }
   },
   "outputs": [
    {
     "name": "stdout",
     "output_type": "stream",
     "text": [
      "138 µs ± 423 ns per loop (mean ± std. dev. of 7 runs, 10,000 loops each)\n"
     ]
    }
   ],
   "source": [
    "t3 = FastTreeValue(_TREE_DATA_3)\n",
    "%timeit copy.deepcopy(t3)"
   ]
  },
  {
   "cell_type": "markdown",
   "id": "bf8be7ea",
   "metadata": {},
   "source": [
    "### Deep Copy of Tianshou Batch"
   ]
  },
  {
   "cell_type": "code",
   "execution_count": 18,
   "id": "91998e6f",
   "metadata": {
    "execution": {
     "iopub.execute_input": "2023-02-25T19:15:39.129563Z",
     "iopub.status.busy": "2023-02-25T19:15:39.128612Z",
     "iopub.status.idle": "2023-02-25T19:15:50.459101Z",
     "shell.execute_reply": "2023-02-25T19:15:50.458469Z"
    }
   },
   "outputs": [
    {
     "name": "stdout",
     "output_type": "stream",
     "text": [
      "140 µs ± 312 ns per loop (mean ± std. dev. of 7 runs, 10,000 loops each)\n"
     ]
    }
   ],
   "source": [
    "b3 = Batch(**_TREE_DATA_3)\n",
    "%timeit copy.deepcopy(b3)"
   ]
  },
  {
   "cell_type": "markdown",
   "id": "223162fb",
   "metadata": {},
   "source": [
    "## Stack, Concat and Split Operation"
   ]
  },
  {
   "cell_type": "markdown",
   "id": "85fa4a73",
   "metadata": {},
   "source": [
    "### Performance of TreeValue"
   ]
  },
  {
   "cell_type": "code",
   "execution_count": 19,
   "id": "a0c2b697",
   "metadata": {
    "execution": {
     "iopub.execute_input": "2023-02-25T19:15:50.462969Z",
     "iopub.status.busy": "2023-02-25T19:15:50.461975Z",
     "iopub.status.idle": "2023-02-25T19:15:50.465843Z",
     "shell.execute_reply": "2023-02-25T19:15:50.465298Z"
    }
   },
   "outputs": [],
   "source": [
    "trees = [FastTreeValue(_TREE_DATA_2) for _ in range(8)]"
   ]
  },
  {
   "cell_type": "code",
   "execution_count": 20,
   "id": "017ea5a5",
   "metadata": {
    "execution": {
     "iopub.execute_input": "2023-02-25T19:15:50.468326Z",
     "iopub.status.busy": "2023-02-25T19:15:50.467912Z",
     "iopub.status.idle": "2023-02-25T19:15:50.474889Z",
     "shell.execute_reply": "2023-02-25T19:15:50.474368Z"
    }
   },
   "outputs": [
    {
     "data": {
      "text/plain": [
       "<FastTreeValue 0x7f9ddc52aca0>\n",
       "├── 'a' --> tensor([[[-1.3231,  0.0383,  0.0237],\n",
       "│                    [-0.5559, -0.9390,  0.3594]],\n",
       "│           \n",
       "│                   [[-1.3231,  0.0383,  0.0237],\n",
       "│                    [-0.5559, -0.9390,  0.3594]],\n",
       "│           \n",
       "│                   [[-1.3231,  0.0383,  0.0237],\n",
       "│                    [-0.5559, -0.9390,  0.3594]],\n",
       "│           \n",
       "│                   [[-1.3231,  0.0383,  0.0237],\n",
       "│                    [-0.5559, -0.9390,  0.3594]],\n",
       "│           \n",
       "│                   [[-1.3231,  0.0383,  0.0237],\n",
       "│                    [-0.5559, -0.9390,  0.3594]],\n",
       "│           \n",
       "│                   [[-1.3231,  0.0383,  0.0237],\n",
       "│                    [-0.5559, -0.9390,  0.3594]],\n",
       "│           \n",
       "│                   [[-1.3231,  0.0383,  0.0237],\n",
       "│                    [-0.5559, -0.9390,  0.3594]],\n",
       "│           \n",
       "│                   [[-1.3231,  0.0383,  0.0237],\n",
       "│                    [-0.5559, -0.9390,  0.3594]]])\n",
       "└── 'x' --> <FastTreeValue 0x7f9ddc52a580>\n",
       "    └── 'c' --> tensor([[[ 0.9274,  1.2868,  0.0517, -0.3390],\n",
       "                         [ 1.5586,  0.1712,  1.1923, -0.6800],\n",
       "                         [-0.0963, -0.1006,  0.3206, -1.0464]],\n",
       "                \n",
       "                        [[ 0.9274,  1.2868,  0.0517, -0.3390],\n",
       "                         [ 1.5586,  0.1712,  1.1923, -0.6800],\n",
       "                         [-0.0963, -0.1006,  0.3206, -1.0464]],\n",
       "                \n",
       "                        [[ 0.9274,  1.2868,  0.0517, -0.3390],\n",
       "                         [ 1.5586,  0.1712,  1.1923, -0.6800],\n",
       "                         [-0.0963, -0.1006,  0.3206, -1.0464]],\n",
       "                \n",
       "                        [[ 0.9274,  1.2868,  0.0517, -0.3390],\n",
       "                         [ 1.5586,  0.1712,  1.1923, -0.6800],\n",
       "                         [-0.0963, -0.1006,  0.3206, -1.0464]],\n",
       "                \n",
       "                        [[ 0.9274,  1.2868,  0.0517, -0.3390],\n",
       "                         [ 1.5586,  0.1712,  1.1923, -0.6800],\n",
       "                         [-0.0963, -0.1006,  0.3206, -1.0464]],\n",
       "                \n",
       "                        [[ 0.9274,  1.2868,  0.0517, -0.3390],\n",
       "                         [ 1.5586,  0.1712,  1.1923, -0.6800],\n",
       "                         [-0.0963, -0.1006,  0.3206, -1.0464]],\n",
       "                \n",
       "                        [[ 0.9274,  1.2868,  0.0517, -0.3390],\n",
       "                         [ 1.5586,  0.1712,  1.1923, -0.6800],\n",
       "                         [-0.0963, -0.1006,  0.3206, -1.0464]],\n",
       "                \n",
       "                        [[ 0.9274,  1.2868,  0.0517, -0.3390],\n",
       "                         [ 1.5586,  0.1712,  1.1923, -0.6800],\n",
       "                         [-0.0963, -0.1006,  0.3206, -1.0464]]])"
      ]
     },
     "execution_count": 20,
     "metadata": {},
     "output_type": "execute_result"
    }
   ],
   "source": [
    "t_stack = FastTreeValue.func(subside=True)(torch.stack)\n",
    "\n",
    "t_stack(trees)"
   ]
  },
  {
   "cell_type": "code",
   "execution_count": 21,
   "id": "f8b3f415",
   "metadata": {
    "execution": {
     "iopub.execute_input": "2023-02-25T19:15:50.477340Z",
     "iopub.status.busy": "2023-02-25T19:15:50.476957Z",
     "iopub.status.idle": "2023-02-25T19:15:53.029011Z",
     "shell.execute_reply": "2023-02-25T19:15:53.028264Z"
    }
   },
   "outputs": [
    {
     "name": "stdout",
     "output_type": "stream",
     "text": [
      "31.4 µs ± 82.9 ns per loop (mean ± std. dev. of 7 runs, 10,000 loops each)\n"
     ]
    }
   ],
   "source": [
    "%timeit t_stack(trees)"
   ]
  },
  {
   "cell_type": "code",
   "execution_count": 22,
   "id": "94b56771",
   "metadata": {
    "execution": {
     "iopub.execute_input": "2023-02-25T19:15:53.031796Z",
     "iopub.status.busy": "2023-02-25T19:15:53.031432Z",
     "iopub.status.idle": "2023-02-25T19:15:53.038696Z",
     "shell.execute_reply": "2023-02-25T19:15:53.038047Z"
    }
   },
   "outputs": [
    {
     "data": {
      "text/plain": [
       "<FastTreeValue 0x7f9ddc4cdf40>\n",
       "├── 'a' --> tensor([[-1.3231,  0.0383,  0.0237],\n",
       "│                   [-0.5559, -0.9390,  0.3594],\n",
       "│                   [-1.3231,  0.0383,  0.0237],\n",
       "│                   [-0.5559, -0.9390,  0.3594],\n",
       "│                   [-1.3231,  0.0383,  0.0237],\n",
       "│                   [-0.5559, -0.9390,  0.3594],\n",
       "│                   [-1.3231,  0.0383,  0.0237],\n",
       "│                   [-0.5559, -0.9390,  0.3594],\n",
       "│                   [-1.3231,  0.0383,  0.0237],\n",
       "│                   [-0.5559, -0.9390,  0.3594],\n",
       "│                   [-1.3231,  0.0383,  0.0237],\n",
       "│                   [-0.5559, -0.9390,  0.3594],\n",
       "│                   [-1.3231,  0.0383,  0.0237],\n",
       "│                   [-0.5559, -0.9390,  0.3594],\n",
       "│                   [-1.3231,  0.0383,  0.0237],\n",
       "│                   [-0.5559, -0.9390,  0.3594]])\n",
       "└── 'x' --> <FastTreeValue 0x7f9ddc4ccf40>\n",
       "    └── 'c' --> tensor([[ 0.9274,  1.2868,  0.0517, -0.3390],\n",
       "                        [ 1.5586,  0.1712,  1.1923, -0.6800],\n",
       "                        [-0.0963, -0.1006,  0.3206, -1.0464],\n",
       "                        [ 0.9274,  1.2868,  0.0517, -0.3390],\n",
       "                        [ 1.5586,  0.1712,  1.1923, -0.6800],\n",
       "                        [-0.0963, -0.1006,  0.3206, -1.0464],\n",
       "                        [ 0.9274,  1.2868,  0.0517, -0.3390],\n",
       "                        [ 1.5586,  0.1712,  1.1923, -0.6800],\n",
       "                        [-0.0963, -0.1006,  0.3206, -1.0464],\n",
       "                        [ 0.9274,  1.2868,  0.0517, -0.3390],\n",
       "                        [ 1.5586,  0.1712,  1.1923, -0.6800],\n",
       "                        [-0.0963, -0.1006,  0.3206, -1.0464],\n",
       "                        [ 0.9274,  1.2868,  0.0517, -0.3390],\n",
       "                        [ 1.5586,  0.1712,  1.1923, -0.6800],\n",
       "                        [-0.0963, -0.1006,  0.3206, -1.0464],\n",
       "                        [ 0.9274,  1.2868,  0.0517, -0.3390],\n",
       "                        [ 1.5586,  0.1712,  1.1923, -0.6800],\n",
       "                        [-0.0963, -0.1006,  0.3206, -1.0464],\n",
       "                        [ 0.9274,  1.2868,  0.0517, -0.3390],\n",
       "                        [ 1.5586,  0.1712,  1.1923, -0.6800],\n",
       "                        [-0.0963, -0.1006,  0.3206, -1.0464],\n",
       "                        [ 0.9274,  1.2868,  0.0517, -0.3390],\n",
       "                        [ 1.5586,  0.1712,  1.1923, -0.6800],\n",
       "                        [-0.0963, -0.1006,  0.3206, -1.0464]])"
      ]
     },
     "execution_count": 22,
     "metadata": {},
     "output_type": "execute_result"
    }
   ],
   "source": [
    "t_cat = FastTreeValue.func(subside=True)(torch.cat)\n",
    "\n",
    "t_cat(trees)"
   ]
  },
  {
   "cell_type": "code",
   "execution_count": 23,
   "id": "5e9c06a6",
   "metadata": {
    "execution": {
     "iopub.execute_input": "2023-02-25T19:15:53.041492Z",
     "iopub.status.busy": "2023-02-25T19:15:53.041123Z",
     "iopub.status.idle": "2023-02-25T19:15:55.438992Z",
     "shell.execute_reply": "2023-02-25T19:15:55.438212Z"
    }
   },
   "outputs": [
    {
     "name": "stdout",
     "output_type": "stream",
     "text": [
      "29.5 µs ± 130 ns per loop (mean ± std. dev. of 7 runs, 10,000 loops each)\n"
     ]
    }
   ],
   "source": [
    "%timeit t_cat(trees)"
   ]
  },
  {
   "cell_type": "code",
   "execution_count": 24,
   "id": "a3ab5c8f",
   "metadata": {
    "execution": {
     "iopub.execute_input": "2023-02-25T19:15:55.441961Z",
     "iopub.status.busy": "2023-02-25T19:15:55.441565Z",
     "iopub.status.idle": "2023-02-25T19:16:00.157429Z",
     "shell.execute_reply": "2023-02-25T19:16:00.156633Z"
    }
   },
   "outputs": [
    {
     "name": "stdout",
     "output_type": "stream",
     "text": [
      "58 µs ± 924 ns per loop (mean ± std. dev. of 7 runs, 10,000 loops each)\n"
     ]
    }
   ],
   "source": [
    "t_split = FastTreeValue.func(rise=True)(torch.split)\n",
    "tree = FastTreeValue({\n",
    "    'obs': torch.randn(8, 4, 84, 84),\n",
    "    'action': torch.randint(0, 6, size=(8, 1,)),\n",
    "    'reward': torch.rand(8, 1),\n",
    "})\n",
    "\n",
    "%timeit t_split(tree, 1)"
   ]
  },
  {
   "cell_type": "markdown",
   "id": "31c3ec0b",
   "metadata": {},
   "source": [
    "### Performance of Tianshou Batch"
   ]
  },
  {
   "cell_type": "code",
   "execution_count": 25,
   "id": "9ead828a",
   "metadata": {
    "execution": {
     "iopub.execute_input": "2023-02-25T19:16:00.160551Z",
     "iopub.status.busy": "2023-02-25T19:16:00.159878Z",
     "iopub.status.idle": "2023-02-25T19:16:00.168060Z",
     "shell.execute_reply": "2023-02-25T19:16:00.167468Z"
    }
   },
   "outputs": [
    {
     "data": {
      "text/plain": [
       "Batch(\n",
       "    x: Batch(\n",
       "           c: tensor([[[ 0.9274,  1.2868,  0.0517, -0.3390],\n",
       "                       [ 1.5586,  0.1712,  1.1923, -0.6800],\n",
       "                       [-0.0963, -0.1006,  0.3206, -1.0464]],\n",
       "              \n",
       "                      [[ 0.9274,  1.2868,  0.0517, -0.3390],\n",
       "                       [ 1.5586,  0.1712,  1.1923, -0.6800],\n",
       "                       [-0.0963, -0.1006,  0.3206, -1.0464]],\n",
       "              \n",
       "                      [[ 0.9274,  1.2868,  0.0517, -0.3390],\n",
       "                       [ 1.5586,  0.1712,  1.1923, -0.6800],\n",
       "                       [-0.0963, -0.1006,  0.3206, -1.0464]],\n",
       "              \n",
       "                      [[ 0.9274,  1.2868,  0.0517, -0.3390],\n",
       "                       [ 1.5586,  0.1712,  1.1923, -0.6800],\n",
       "                       [-0.0963, -0.1006,  0.3206, -1.0464]],\n",
       "              \n",
       "                      [[ 0.9274,  1.2868,  0.0517, -0.3390],\n",
       "                       [ 1.5586,  0.1712,  1.1923, -0.6800],\n",
       "                       [-0.0963, -0.1006,  0.3206, -1.0464]],\n",
       "              \n",
       "                      [[ 0.9274,  1.2868,  0.0517, -0.3390],\n",
       "                       [ 1.5586,  0.1712,  1.1923, -0.6800],\n",
       "                       [-0.0963, -0.1006,  0.3206, -1.0464]],\n",
       "              \n",
       "                      [[ 0.9274,  1.2868,  0.0517, -0.3390],\n",
       "                       [ 1.5586,  0.1712,  1.1923, -0.6800],\n",
       "                       [-0.0963, -0.1006,  0.3206, -1.0464]],\n",
       "              \n",
       "                      [[ 0.9274,  1.2868,  0.0517, -0.3390],\n",
       "                       [ 1.5586,  0.1712,  1.1923, -0.6800],\n",
       "                       [-0.0963, -0.1006,  0.3206, -1.0464]]]),\n",
       "       ),\n",
       "    a: tensor([[[-1.3231,  0.0383,  0.0237],\n",
       "                [-0.5559, -0.9390,  0.3594]],\n",
       "       \n",
       "               [[-1.3231,  0.0383,  0.0237],\n",
       "                [-0.5559, -0.9390,  0.3594]],\n",
       "       \n",
       "               [[-1.3231,  0.0383,  0.0237],\n",
       "                [-0.5559, -0.9390,  0.3594]],\n",
       "       \n",
       "               [[-1.3231,  0.0383,  0.0237],\n",
       "                [-0.5559, -0.9390,  0.3594]],\n",
       "       \n",
       "               [[-1.3231,  0.0383,  0.0237],\n",
       "                [-0.5559, -0.9390,  0.3594]],\n",
       "       \n",
       "               [[-1.3231,  0.0383,  0.0237],\n",
       "                [-0.5559, -0.9390,  0.3594]],\n",
       "       \n",
       "               [[-1.3231,  0.0383,  0.0237],\n",
       "                [-0.5559, -0.9390,  0.3594]],\n",
       "       \n",
       "               [[-1.3231,  0.0383,  0.0237],\n",
       "                [-0.5559, -0.9390,  0.3594]]]),\n",
       ")"
      ]
     },
     "execution_count": 25,
     "metadata": {},
     "output_type": "execute_result"
    }
   ],
   "source": [
    "batches = [Batch(**_TREE_DATA_2) for _ in range(8)]\n",
    "\n",
    "Batch.stack(batches)"
   ]
  },
  {
   "cell_type": "code",
   "execution_count": 26,
   "id": "ec9037a3",
   "metadata": {
    "execution": {
     "iopub.execute_input": "2023-02-25T19:16:00.170620Z",
     "iopub.status.busy": "2023-02-25T19:16:00.170287Z",
     "iopub.status.idle": "2023-02-25T19:16:06.571820Z",
     "shell.execute_reply": "2023-02-25T19:16:06.571119Z"
    }
   },
   "outputs": [
    {
     "name": "stdout",
     "output_type": "stream",
     "text": [
      "78.8 µs ± 265 ns per loop (mean ± std. dev. of 7 runs, 10,000 loops each)\n"
     ]
    }
   ],
   "source": [
    "%timeit Batch.stack(batches)"
   ]
  },
  {
   "cell_type": "code",
   "execution_count": 27,
   "id": "cb8ab77e",
   "metadata": {
    "execution": {
     "iopub.execute_input": "2023-02-25T19:16:06.574851Z",
     "iopub.status.busy": "2023-02-25T19:16:06.574484Z",
     "iopub.status.idle": "2023-02-25T19:16:06.582583Z",
     "shell.execute_reply": "2023-02-25T19:16:06.581984Z"
    }
   },
   "outputs": [
    {
     "data": {
      "text/plain": [
       "Batch(\n",
       "    x: Batch(\n",
       "           c: tensor([[ 0.9274,  1.2868,  0.0517, -0.3390],\n",
       "                      [ 1.5586,  0.1712,  1.1923, -0.6800],\n",
       "                      [-0.0963, -0.1006,  0.3206, -1.0464],\n",
       "                      [ 0.9274,  1.2868,  0.0517, -0.3390],\n",
       "                      [ 1.5586,  0.1712,  1.1923, -0.6800],\n",
       "                      [-0.0963, -0.1006,  0.3206, -1.0464],\n",
       "                      [ 0.9274,  1.2868,  0.0517, -0.3390],\n",
       "                      [ 1.5586,  0.1712,  1.1923, -0.6800],\n",
       "                      [-0.0963, -0.1006,  0.3206, -1.0464],\n",
       "                      [ 0.9274,  1.2868,  0.0517, -0.3390],\n",
       "                      [ 1.5586,  0.1712,  1.1923, -0.6800],\n",
       "                      [-0.0963, -0.1006,  0.3206, -1.0464],\n",
       "                      [ 0.9274,  1.2868,  0.0517, -0.3390],\n",
       "                      [ 1.5586,  0.1712,  1.1923, -0.6800],\n",
       "                      [-0.0963, -0.1006,  0.3206, -1.0464],\n",
       "                      [ 0.9274,  1.2868,  0.0517, -0.3390],\n",
       "                      [ 1.5586,  0.1712,  1.1923, -0.6800],\n",
       "                      [-0.0963, -0.1006,  0.3206, -1.0464],\n",
       "                      [ 0.9274,  1.2868,  0.0517, -0.3390],\n",
       "                      [ 1.5586,  0.1712,  1.1923, -0.6800],\n",
       "                      [-0.0963, -0.1006,  0.3206, -1.0464],\n",
       "                      [ 0.9274,  1.2868,  0.0517, -0.3390],\n",
       "                      [ 1.5586,  0.1712,  1.1923, -0.6800],\n",
       "                      [-0.0963, -0.1006,  0.3206, -1.0464]]),\n",
       "       ),\n",
       "    a: tensor([[-1.3231,  0.0383,  0.0237],\n",
       "               [-0.5559, -0.9390,  0.3594],\n",
       "               [-1.3231,  0.0383,  0.0237],\n",
       "               [-0.5559, -0.9390,  0.3594],\n",
       "               [-1.3231,  0.0383,  0.0237],\n",
       "               [-0.5559, -0.9390,  0.3594],\n",
       "               [-1.3231,  0.0383,  0.0237],\n",
       "               [-0.5559, -0.9390,  0.3594],\n",
       "               [-1.3231,  0.0383,  0.0237],\n",
       "               [-0.5559, -0.9390,  0.3594],\n",
       "               [-1.3231,  0.0383,  0.0237],\n",
       "               [-0.5559, -0.9390,  0.3594],\n",
       "               [-1.3231,  0.0383,  0.0237],\n",
       "               [-0.5559, -0.9390,  0.3594],\n",
       "               [-1.3231,  0.0383,  0.0237],\n",
       "               [-0.5559, -0.9390,  0.3594]]),\n",
       ")"
      ]
     },
     "execution_count": 27,
     "metadata": {},
     "output_type": "execute_result"
    }
   ],
   "source": [
    "Batch.cat(batches)"
   ]
  },
  {
   "cell_type": "code",
   "execution_count": 28,
   "id": "18dfb045",
   "metadata": {
    "execution": {
     "iopub.execute_input": "2023-02-25T19:16:06.585356Z",
     "iopub.status.busy": "2023-02-25T19:16:06.585001Z",
     "iopub.status.idle": "2023-02-25T19:16:18.289491Z",
     "shell.execute_reply": "2023-02-25T19:16:18.288769Z"
    }
   },
   "outputs": [
    {
     "name": "stdout",
     "output_type": "stream",
     "text": [
      "144 µs ± 380 ns per loop (mean ± std. dev. of 7 runs, 10,000 loops each)\n"
     ]
    }
   ],
   "source": [
    "%timeit Batch.cat(batches)"
   ]
  },
  {
   "cell_type": "code",
   "execution_count": 29,
   "id": "c6688e51",
   "metadata": {
    "execution": {
     "iopub.execute_input": "2023-02-25T19:16:18.292469Z",
     "iopub.status.busy": "2023-02-25T19:16:18.291823Z",
     "iopub.status.idle": "2023-02-25T19:16:20.818241Z",
     "shell.execute_reply": "2023-02-25T19:16:20.817537Z"
    }
   },
   "outputs": [
    {
     "name": "stdout",
     "output_type": "stream",
     "text": [
      "310 µs ± 6.16 µs per loop (mean ± std. dev. of 7 runs, 1,000 loops each)\n"
     ]
    }
   ],
   "source": [
    "batch = Batch({\n",
    "    'obs': torch.randn(8, 4, 84, 84),\n",
    "    'action': torch.randint(0, 6, size=(8, 1,)),\n",
    "    'reward': torch.rand(8, 1)}\n",
    ")\n",
    "\n",
    "%timeit list(Batch.split(batch, 1, shuffle=False, merge_last=True))"
   ]
  },
  {
   "cell_type": "code",
   "execution_count": null,
   "id": "2539fbd9",
   "metadata": {},
   "outputs": [],
   "source": []
  }
 ],
 "metadata": {
  "kernelspec": {
   "display_name": "Python 3 (ipykernel)",
   "language": "python",
   "name": "python3"
  },
  "language_info": {
   "codemirror_mode": {
    "name": "ipython",
    "version": 3
   },
   "file_extension": ".py",
   "mimetype": "text/x-python",
   "name": "python",
   "nbconvert_exporter": "python",
   "pygments_lexer": "ipython3",
   "version": "3.8.16"
  }
 },
 "nbformat": 4,
 "nbformat_minor": 5
}
