{
 "cells": [
  {
   "cell_type": "markdown",
   "id": "9d39d946",
   "metadata": {},
   "source": [
    "# Comparison Between TreeValue and Tianshou Batch"
   ]
  },
  {
   "cell_type": "markdown",
   "id": "3c6db2d4",
   "metadata": {},
   "source": [
    "In this section, we will take a look at the feature and performance of the [Tianshou Batch](https://github.com/thu-ml/tianshou) library, which is developed by Tsinghua Machine Learning Group."
   ]
  },
  {
   "cell_type": "markdown",
   "id": "069361b0",
   "metadata": {},
   "source": [
    "Before starting the comparison, let us define some thing."
   ]
  },
  {
   "cell_type": "code",
   "execution_count": 1,
   "id": "06fc8d26",
   "metadata": {
    "execution": {
     "iopub.execute_input": "2023-02-27T13:15:23.015004Z",
     "iopub.status.busy": "2023-02-27T13:15:23.014721Z",
     "iopub.status.idle": "2023-02-27T13:15:24.035373Z",
     "shell.execute_reply": "2023-02-27T13:15:24.034504Z"
    }
   },
   "outputs": [
    {
     "name": "stderr",
     "output_type": "stream",
     "text": [
      "/opt/hostedtoolcache/Python/3.8.16/x64/lib/python3.8/site-packages/tqdm/auto.py:22: TqdmWarning: IProgress not found. Please update jupyter and ipywidgets. See https://ipywidgets.readthedocs.io/en/stable/user_install.html\n",
      "  from .autonotebook import tqdm as notebook_tqdm\n"
     ]
    }
   ],
   "source": [
    "import torch \n",
    "\n",
    "_TREE_DATA_1 = {'a': 1, 'b': 2, 'x': {'c': 3, 'd': 4}}\n",
    "_TREE_DATA_2 = {\n",
    "    'a': torch.randn(2, 3), \n",
    "    'x': {\n",
    "        'c': torch.randn(3, 4)\n",
    "    },\n",
    "}\n",
    "_TREE_DATA_3 = {\n",
    "    'obs': torch.randn(4, 84, 84),\n",
    "    'action': torch.randint(0, 6, size=(1,)),\n",
    "    'reward': torch.rand(1),\n",
    "}"
   ]
  },
  {
   "cell_type": "markdown",
   "id": "83461b25",
   "metadata": {},
   "source": [
    "## Read and Write Operation"
   ]
  },
  {
   "cell_type": "markdown",
   "id": "067b3f73",
   "metadata": {},
   "source": [
    "Reading and writing are the two most common operations in the tree data structure based on the data model (TreeValue and Tianshou Batch both belong to this type), so this section will compare the reading and writing performance of these two libraries."
   ]
  },
  {
   "cell_type": "markdown",
   "id": "5d09a5b7",
   "metadata": {},
   "source": [
    "### TreeValue's Get and Set"
   ]
  },
  {
   "cell_type": "code",
   "execution_count": 2,
   "id": "9519c4bb",
   "metadata": {
    "execution": {
     "iopub.execute_input": "2023-02-27T13:15:24.039443Z",
     "iopub.status.busy": "2023-02-27T13:15:24.039101Z",
     "iopub.status.idle": "2023-02-27T13:15:24.337135Z",
     "shell.execute_reply": "2023-02-27T13:15:24.336288Z"
    }
   },
   "outputs": [],
   "source": [
    "from treevalue import FastTreeValue\n",
    "\n",
    "t = FastTreeValue(_TREE_DATA_2)"
   ]
  },
  {
   "cell_type": "code",
   "execution_count": 3,
   "id": "11c37677",
   "metadata": {
    "execution": {
     "iopub.execute_input": "2023-02-27T13:15:24.341375Z",
     "iopub.status.busy": "2023-02-27T13:15:24.340565Z",
     "iopub.status.idle": "2023-02-27T13:15:24.349937Z",
     "shell.execute_reply": "2023-02-27T13:15:24.349218Z"
    }
   },
   "outputs": [
    {
     "data": {
      "text/plain": [
       "<FastTreeValue 0x7f00acae1850>\n",
       "├── 'a' --> tensor([[-1.2664, -0.4659,  0.2130],\n",
       "│                   [-1.0781, -0.0200,  0.4618]])\n",
       "└── 'x' --> <FastTreeValue 0x7f00acae1f70>\n",
       "    └── 'c' --> tensor([[-0.5143, -2.0262, -0.3854,  0.6029],\n",
       "                        [ 0.7358, -1.8799,  0.1225, -1.2607],\n",
       "                        [-0.3302, -0.8050, -2.1470,  0.9154]])"
      ]
     },
     "execution_count": 3,
     "metadata": {},
     "output_type": "execute_result"
    }
   ],
   "source": [
    "t"
   ]
  },
  {
   "cell_type": "code",
   "execution_count": 4,
   "id": "fd70b0b9",
   "metadata": {
    "execution": {
     "iopub.execute_input": "2023-02-27T13:15:24.353020Z",
     "iopub.status.busy": "2023-02-27T13:15:24.352623Z",
     "iopub.status.idle": "2023-02-27T13:15:24.357821Z",
     "shell.execute_reply": "2023-02-27T13:15:24.357127Z"
    }
   },
   "outputs": [
    {
     "data": {
      "text/plain": [
       "tensor([[-1.2664, -0.4659,  0.2130],\n",
       "        [-1.0781, -0.0200,  0.4618]])"
      ]
     },
     "execution_count": 4,
     "metadata": {},
     "output_type": "execute_result"
    }
   ],
   "source": [
    "t.a"
   ]
  },
  {
   "cell_type": "code",
   "execution_count": 5,
   "id": "c18197bd",
   "metadata": {
    "execution": {
     "iopub.execute_input": "2023-02-27T13:15:24.360716Z",
     "iopub.status.busy": "2023-02-27T13:15:24.360156Z",
     "iopub.status.idle": "2023-02-27T13:15:29.437343Z",
     "shell.execute_reply": "2023-02-27T13:15:29.436450Z"
    }
   },
   "outputs": [
    {
     "name": "stdout",
     "output_type": "stream",
     "text": [
      "62.5 ns ± 0.0816 ns per loop (mean ± std. dev. of 7 runs, 10,000,000 loops each)\n"
     ]
    }
   ],
   "source": [
    "%timeit t.a"
   ]
  },
  {
   "cell_type": "code",
   "execution_count": 6,
   "id": "bd52f867",
   "metadata": {
    "execution": {
     "iopub.execute_input": "2023-02-27T13:15:29.441063Z",
     "iopub.status.busy": "2023-02-27T13:15:29.440630Z",
     "iopub.status.idle": "2023-02-27T13:15:29.447529Z",
     "shell.execute_reply": "2023-02-27T13:15:29.446840Z"
    }
   },
   "outputs": [
    {
     "data": {
      "text/plain": [
       "<FastTreeValue 0x7f00acae1850>\n",
       "├── 'a' --> tensor([[ 0.8505, -0.3396,  0.4772],\n",
       "│                   [ 0.0310, -0.9491,  0.1629]])\n",
       "└── 'x' --> <FastTreeValue 0x7f00acae1f70>\n",
       "    └── 'c' --> tensor([[-0.5143, -2.0262, -0.3854,  0.6029],\n",
       "                        [ 0.7358, -1.8799,  0.1225, -1.2607],\n",
       "                        [-0.3302, -0.8050, -2.1470,  0.9154]])"
      ]
     },
     "execution_count": 6,
     "metadata": {},
     "output_type": "execute_result"
    }
   ],
   "source": [
    "new_value = torch.randn(2, 3)\n",
    "t.a = new_value\n",
    "\n",
    "t"
   ]
  },
  {
   "cell_type": "code",
   "execution_count": 7,
   "id": "bbe04d1c",
   "metadata": {
    "execution": {
     "iopub.execute_input": "2023-02-27T13:15:29.450703Z",
     "iopub.status.busy": "2023-02-27T13:15:29.450133Z",
     "iopub.status.idle": "2023-02-27T13:15:34.827466Z",
     "shell.execute_reply": "2023-02-27T13:15:34.826565Z"
    }
   },
   "outputs": [
    {
     "name": "stdout",
     "output_type": "stream",
     "text": [
      "66.2 ns ± 0.153 ns per loop (mean ± std. dev. of 7 runs, 10,000,000 loops each)\n"
     ]
    }
   ],
   "source": [
    "%timeit t.a = new_value"
   ]
  },
  {
   "cell_type": "markdown",
   "id": "48c49731",
   "metadata": {},
   "source": [
    "### Tianshou Batch's Get and Set"
   ]
  },
  {
   "cell_type": "code",
   "execution_count": 8,
   "id": "f1bb14c1",
   "metadata": {
    "execution": {
     "iopub.execute_input": "2023-02-27T13:15:34.831239Z",
     "iopub.status.busy": "2023-02-27T13:15:34.830713Z",
     "iopub.status.idle": "2023-02-27T13:15:35.206831Z",
     "shell.execute_reply": "2023-02-27T13:15:35.206016Z"
    }
   },
   "outputs": [],
   "source": [
    "from tianshou.data import Batch\n",
    "\n",
    "b = Batch(**_TREE_DATA_2)"
   ]
  },
  {
   "cell_type": "code",
   "execution_count": 9,
   "id": "cb0777c3",
   "metadata": {
    "execution": {
     "iopub.execute_input": "2023-02-27T13:15:35.210742Z",
     "iopub.status.busy": "2023-02-27T13:15:35.210199Z",
     "iopub.status.idle": "2023-02-27T13:15:35.216167Z",
     "shell.execute_reply": "2023-02-27T13:15:35.215496Z"
    }
   },
   "outputs": [
    {
     "data": {
      "text/plain": [
       "Batch(\n",
       "    a: tensor([[-1.2664, -0.4659,  0.2130],\n",
       "               [-1.0781, -0.0200,  0.4618]]),\n",
       "    x: Batch(\n",
       "           c: tensor([[-0.5143, -2.0262, -0.3854,  0.6029],\n",
       "                      [ 0.7358, -1.8799,  0.1225, -1.2607],\n",
       "                      [-0.3302, -0.8050, -2.1470,  0.9154]]),\n",
       "       ),\n",
       ")"
      ]
     },
     "execution_count": 9,
     "metadata": {},
     "output_type": "execute_result"
    }
   ],
   "source": [
    "b"
   ]
  },
  {
   "cell_type": "code",
   "execution_count": 10,
   "id": "43ef8ea3",
   "metadata": {
    "execution": {
     "iopub.execute_input": "2023-02-27T13:15:35.219026Z",
     "iopub.status.busy": "2023-02-27T13:15:35.218584Z",
     "iopub.status.idle": "2023-02-27T13:15:35.223360Z",
     "shell.execute_reply": "2023-02-27T13:15:35.222678Z"
    }
   },
   "outputs": [
    {
     "data": {
      "text/plain": [
       "tensor([[-1.2664, -0.4659,  0.2130],\n",
       "        [-1.0781, -0.0200,  0.4618]])"
      ]
     },
     "execution_count": 10,
     "metadata": {},
     "output_type": "execute_result"
    }
   ],
   "source": [
    "b.a"
   ]
  },
  {
   "cell_type": "code",
   "execution_count": 11,
   "id": "b785ab72",
   "metadata": {
    "execution": {
     "iopub.execute_input": "2023-02-27T13:15:35.226223Z",
     "iopub.status.busy": "2023-02-27T13:15:35.225790Z",
     "iopub.status.idle": "2023-02-27T13:15:40.215246Z",
     "shell.execute_reply": "2023-02-27T13:15:40.214388Z"
    }
   },
   "outputs": [
    {
     "name": "stdout",
     "output_type": "stream",
     "text": [
      "61.5 ns ± 0.0383 ns per loop (mean ± std. dev. of 7 runs, 10,000,000 loops each)\n"
     ]
    }
   ],
   "source": [
    "%timeit b.a"
   ]
  },
  {
   "cell_type": "code",
   "execution_count": 12,
   "id": "ad54dc69",
   "metadata": {
    "execution": {
     "iopub.execute_input": "2023-02-27T13:15:40.218842Z",
     "iopub.status.busy": "2023-02-27T13:15:40.218308Z",
     "iopub.status.idle": "2023-02-27T13:15:40.225423Z",
     "shell.execute_reply": "2023-02-27T13:15:40.224806Z"
    }
   },
   "outputs": [
    {
     "data": {
      "text/plain": [
       "Batch(\n",
       "    a: tensor([[ 1.4565, -0.5508,  0.2961],\n",
       "               [ 0.4107, -3.9786,  0.9531]]),\n",
       "    x: Batch(\n",
       "           c: tensor([[-0.5143, -2.0262, -0.3854,  0.6029],\n",
       "                      [ 0.7358, -1.8799,  0.1225, -1.2607],\n",
       "                      [-0.3302, -0.8050, -2.1470,  0.9154]]),\n",
       "       ),\n",
       ")"
      ]
     },
     "execution_count": 12,
     "metadata": {},
     "output_type": "execute_result"
    }
   ],
   "source": [
    "new_value = torch.randn(2, 3)\n",
    "b.a = new_value\n",
    "\n",
    "b"
   ]
  },
  {
   "cell_type": "code",
   "execution_count": 13,
   "id": "29b1d0bf",
   "metadata": {
    "execution": {
     "iopub.execute_input": "2023-02-27T13:15:40.228461Z",
     "iopub.status.busy": "2023-02-27T13:15:40.227863Z",
     "iopub.status.idle": "2023-02-27T13:15:44.285055Z",
     "shell.execute_reply": "2023-02-27T13:15:44.284168Z"
    }
   },
   "outputs": [
    {
     "name": "stdout",
     "output_type": "stream",
     "text": [
      "500 ns ± 0.107 ns per loop (mean ± std. dev. of 7 runs, 1,000,000 loops each)\n"
     ]
    }
   ],
   "source": [
    "%timeit b.a = new_value"
   ]
  },
  {
   "cell_type": "markdown",
   "id": "b61ad1d0",
   "metadata": {},
   "source": [
    "## Initialization"
   ]
  },
  {
   "cell_type": "markdown",
   "id": "d70f0d54",
   "metadata": {},
   "source": [
    "### TreeValue's Initialization"
   ]
  },
  {
   "cell_type": "code",
   "execution_count": 14,
   "id": "d32a679b",
   "metadata": {
    "execution": {
     "iopub.execute_input": "2023-02-27T13:15:44.288944Z",
     "iopub.status.busy": "2023-02-27T13:15:44.288421Z",
     "iopub.status.idle": "2023-02-27T13:15:51.016421Z",
     "shell.execute_reply": "2023-02-27T13:15:51.015531Z"
    }
   },
   "outputs": [
    {
     "name": "stdout",
     "output_type": "stream",
     "text": [
      "829 ns ± 0.628 ns per loop (mean ± std. dev. of 7 runs, 1,000,000 loops each)\n"
     ]
    }
   ],
   "source": [
    "%timeit FastTreeValue(_TREE_DATA_1)"
   ]
  },
  {
   "cell_type": "markdown",
   "id": "24f3707b",
   "metadata": {},
   "source": [
    "### Tianshou Batch's Initialization"
   ]
  },
  {
   "cell_type": "code",
   "execution_count": 15,
   "id": "ac3958df",
   "metadata": {
    "execution": {
     "iopub.execute_input": "2023-02-27T13:15:51.020453Z",
     "iopub.status.busy": "2023-02-27T13:15:51.019727Z",
     "iopub.status.idle": "2023-02-27T13:15:59.805704Z",
     "shell.execute_reply": "2023-02-27T13:15:59.804816Z"
    }
   },
   "outputs": [
    {
     "name": "stdout",
     "output_type": "stream",
     "text": [
      "10.8 µs ± 7.95 ns per loop (mean ± std. dev. of 7 runs, 100,000 loops each)\n"
     ]
    }
   ],
   "source": [
    "%timeit Batch(**_TREE_DATA_1)"
   ]
  },
  {
   "cell_type": "markdown",
   "id": "1ab82e2d",
   "metadata": {},
   "source": [
    "## Deep Copy Operation"
   ]
  },
  {
   "cell_type": "code",
   "execution_count": 16,
   "id": "210a9442",
   "metadata": {
    "execution": {
     "iopub.execute_input": "2023-02-27T13:15:59.809226Z",
     "iopub.status.busy": "2023-02-27T13:15:59.808601Z",
     "iopub.status.idle": "2023-02-27T13:15:59.812484Z",
     "shell.execute_reply": "2023-02-27T13:15:59.811850Z"
    }
   },
   "outputs": [],
   "source": [
    "import copy"
   ]
  },
  {
   "cell_type": "markdown",
   "id": "5a736274",
   "metadata": {},
   "source": [
    "### Deep Copy of TreeValue"
   ]
  },
  {
   "cell_type": "code",
   "execution_count": 17,
   "id": "f9bcadd6",
   "metadata": {
    "execution": {
     "iopub.execute_input": "2023-02-27T13:15:59.815222Z",
     "iopub.status.busy": "2023-02-27T13:15:59.814872Z",
     "iopub.status.idle": "2023-02-27T13:16:11.495888Z",
     "shell.execute_reply": "2023-02-27T13:16:11.495173Z"
    }
   },
   "outputs": [
    {
     "name": "stdout",
     "output_type": "stream",
     "text": [
      "144 µs ± 1.17 µs per loop (mean ± std. dev. of 7 runs, 10,000 loops each)\n"
     ]
    }
   ],
   "source": [
    "t3 = FastTreeValue(_TREE_DATA_3)\n",
    "%timeit copy.deepcopy(t3)"
   ]
  },
  {
   "cell_type": "markdown",
   "id": "bf8be7ea",
   "metadata": {},
   "source": [
    "### Deep Copy of Tianshou Batch"
   ]
  },
  {
   "cell_type": "code",
   "execution_count": 18,
   "id": "91998e6f",
   "metadata": {
    "execution": {
     "iopub.execute_input": "2023-02-27T13:16:11.499106Z",
     "iopub.status.busy": "2023-02-27T13:16:11.498657Z",
     "iopub.status.idle": "2023-02-27T13:16:23.269284Z",
     "shell.execute_reply": "2023-02-27T13:16:23.268631Z"
    }
   },
   "outputs": [
    {
     "name": "stdout",
     "output_type": "stream",
     "text": [
      "145 µs ± 1.63 µs per loop (mean ± std. dev. of 7 runs, 10,000 loops each)\n"
     ]
    }
   ],
   "source": [
    "b3 = Batch(**_TREE_DATA_3)\n",
    "%timeit copy.deepcopy(b3)"
   ]
  },
  {
   "cell_type": "markdown",
   "id": "223162fb",
   "metadata": {},
   "source": [
    "## Stack, Concat and Split Operation"
   ]
  },
  {
   "cell_type": "markdown",
   "id": "85fa4a73",
   "metadata": {},
   "source": [
    "### Performance of TreeValue"
   ]
  },
  {
   "cell_type": "code",
   "execution_count": 19,
   "id": "a0c2b697",
   "metadata": {
    "execution": {
     "iopub.execute_input": "2023-02-27T13:16:23.272506Z",
     "iopub.status.busy": "2023-02-27T13:16:23.272093Z",
     "iopub.status.idle": "2023-02-27T13:16:23.275479Z",
     "shell.execute_reply": "2023-02-27T13:16:23.274913Z"
    }
   },
   "outputs": [],
   "source": [
    "trees = [FastTreeValue(_TREE_DATA_2) for _ in range(8)]"
   ]
  },
  {
   "cell_type": "code",
   "execution_count": 20,
   "id": "017ea5a5",
   "metadata": {
    "execution": {
     "iopub.execute_input": "2023-02-27T13:16:23.278088Z",
     "iopub.status.busy": "2023-02-27T13:16:23.277705Z",
     "iopub.status.idle": "2023-02-27T13:16:23.284779Z",
     "shell.execute_reply": "2023-02-27T13:16:23.284237Z"
    }
   },
   "outputs": [
    {
     "data": {
      "text/plain": [
       "<FastTreeValue 0x7efff5d85fd0>\n",
       "├── 'a' --> tensor([[[-1.2664, -0.4659,  0.2130],\n",
       "│                    [-1.0781, -0.0200,  0.4618]],\n",
       "│           \n",
       "│                   [[-1.2664, -0.4659,  0.2130],\n",
       "│                    [-1.0781, -0.0200,  0.4618]],\n",
       "│           \n",
       "│                   [[-1.2664, -0.4659,  0.2130],\n",
       "│                    [-1.0781, -0.0200,  0.4618]],\n",
       "│           \n",
       "│                   [[-1.2664, -0.4659,  0.2130],\n",
       "│                    [-1.0781, -0.0200,  0.4618]],\n",
       "│           \n",
       "│                   [[-1.2664, -0.4659,  0.2130],\n",
       "│                    [-1.0781, -0.0200,  0.4618]],\n",
       "│           \n",
       "│                   [[-1.2664, -0.4659,  0.2130],\n",
       "│                    [-1.0781, -0.0200,  0.4618]],\n",
       "│           \n",
       "│                   [[-1.2664, -0.4659,  0.2130],\n",
       "│                    [-1.0781, -0.0200,  0.4618]],\n",
       "│           \n",
       "│                   [[-1.2664, -0.4659,  0.2130],\n",
       "│                    [-1.0781, -0.0200,  0.4618]]])\n",
       "└── 'x' --> <FastTreeValue 0x7efff5d85a00>\n",
       "    └── 'c' --> tensor([[[-0.5143, -2.0262, -0.3854,  0.6029],\n",
       "                         [ 0.7358, -1.8799,  0.1225, -1.2607],\n",
       "                         [-0.3302, -0.8050, -2.1470,  0.9154]],\n",
       "                \n",
       "                        [[-0.5143, -2.0262, -0.3854,  0.6029],\n",
       "                         [ 0.7358, -1.8799,  0.1225, -1.2607],\n",
       "                         [-0.3302, -0.8050, -2.1470,  0.9154]],\n",
       "                \n",
       "                        [[-0.5143, -2.0262, -0.3854,  0.6029],\n",
       "                         [ 0.7358, -1.8799,  0.1225, -1.2607],\n",
       "                         [-0.3302, -0.8050, -2.1470,  0.9154]],\n",
       "                \n",
       "                        [[-0.5143, -2.0262, -0.3854,  0.6029],\n",
       "                         [ 0.7358, -1.8799,  0.1225, -1.2607],\n",
       "                         [-0.3302, -0.8050, -2.1470,  0.9154]],\n",
       "                \n",
       "                        [[-0.5143, -2.0262, -0.3854,  0.6029],\n",
       "                         [ 0.7358, -1.8799,  0.1225, -1.2607],\n",
       "                         [-0.3302, -0.8050, -2.1470,  0.9154]],\n",
       "                \n",
       "                        [[-0.5143, -2.0262, -0.3854,  0.6029],\n",
       "                         [ 0.7358, -1.8799,  0.1225, -1.2607],\n",
       "                         [-0.3302, -0.8050, -2.1470,  0.9154]],\n",
       "                \n",
       "                        [[-0.5143, -2.0262, -0.3854,  0.6029],\n",
       "                         [ 0.7358, -1.8799,  0.1225, -1.2607],\n",
       "                         [-0.3302, -0.8050, -2.1470,  0.9154]],\n",
       "                \n",
       "                        [[-0.5143, -2.0262, -0.3854,  0.6029],\n",
       "                         [ 0.7358, -1.8799,  0.1225, -1.2607],\n",
       "                         [-0.3302, -0.8050, -2.1470,  0.9154]]])"
      ]
     },
     "execution_count": 20,
     "metadata": {},
     "output_type": "execute_result"
    }
   ],
   "source": [
    "t_stack = FastTreeValue.func(subside=True)(torch.stack)\n",
    "\n",
    "t_stack(trees)"
   ]
  },
  {
   "cell_type": "code",
   "execution_count": 21,
   "id": "f8b3f415",
   "metadata": {
    "execution": {
     "iopub.execute_input": "2023-02-27T13:16:23.287342Z",
     "iopub.status.busy": "2023-02-27T13:16:23.286955Z",
     "iopub.status.idle": "2023-02-27T13:16:25.944176Z",
     "shell.execute_reply": "2023-02-27T13:16:25.943218Z"
    }
   },
   "outputs": [
    {
     "name": "stdout",
     "output_type": "stream",
     "text": [
      "32.7 µs ± 58.4 ns per loop (mean ± std. dev. of 7 runs, 10,000 loops each)\n"
     ]
    }
   ],
   "source": [
    "%timeit t_stack(trees)"
   ]
  },
  {
   "cell_type": "code",
   "execution_count": 22,
   "id": "94b56771",
   "metadata": {
    "execution": {
     "iopub.execute_input": "2023-02-27T13:16:25.947345Z",
     "iopub.status.busy": "2023-02-27T13:16:25.946928Z",
     "iopub.status.idle": "2023-02-27T13:16:25.955065Z",
     "shell.execute_reply": "2023-02-27T13:16:25.954336Z"
    }
   },
   "outputs": [
    {
     "data": {
      "text/plain": [
       "<FastTreeValue 0x7efffc9feca0>\n",
       "├── 'a' --> tensor([[-1.2664, -0.4659,  0.2130],\n",
       "│                   [-1.0781, -0.0200,  0.4618],\n",
       "│                   [-1.2664, -0.4659,  0.2130],\n",
       "│                   [-1.0781, -0.0200,  0.4618],\n",
       "│                   [-1.2664, -0.4659,  0.2130],\n",
       "│                   [-1.0781, -0.0200,  0.4618],\n",
       "│                   [-1.2664, -0.4659,  0.2130],\n",
       "│                   [-1.0781, -0.0200,  0.4618],\n",
       "│                   [-1.2664, -0.4659,  0.2130],\n",
       "│                   [-1.0781, -0.0200,  0.4618],\n",
       "│                   [-1.2664, -0.4659,  0.2130],\n",
       "│                   [-1.0781, -0.0200,  0.4618],\n",
       "│                   [-1.2664, -0.4659,  0.2130],\n",
       "│                   [-1.0781, -0.0200,  0.4618],\n",
       "│                   [-1.2664, -0.4659,  0.2130],\n",
       "│                   [-1.0781, -0.0200,  0.4618]])\n",
       "└── 'x' --> <FastTreeValue 0x7efff5d85940>\n",
       "    └── 'c' --> tensor([[-0.5143, -2.0262, -0.3854,  0.6029],\n",
       "                        [ 0.7358, -1.8799,  0.1225, -1.2607],\n",
       "                        [-0.3302, -0.8050, -2.1470,  0.9154],\n",
       "                        [-0.5143, -2.0262, -0.3854,  0.6029],\n",
       "                        [ 0.7358, -1.8799,  0.1225, -1.2607],\n",
       "                        [-0.3302, -0.8050, -2.1470,  0.9154],\n",
       "                        [-0.5143, -2.0262, -0.3854,  0.6029],\n",
       "                        [ 0.7358, -1.8799,  0.1225, -1.2607],\n",
       "                        [-0.3302, -0.8050, -2.1470,  0.9154],\n",
       "                        [-0.5143, -2.0262, -0.3854,  0.6029],\n",
       "                        [ 0.7358, -1.8799,  0.1225, -1.2607],\n",
       "                        [-0.3302, -0.8050, -2.1470,  0.9154],\n",
       "                        [-0.5143, -2.0262, -0.3854,  0.6029],\n",
       "                        [ 0.7358, -1.8799,  0.1225, -1.2607],\n",
       "                        [-0.3302, -0.8050, -2.1470,  0.9154],\n",
       "                        [-0.5143, -2.0262, -0.3854,  0.6029],\n",
       "                        [ 0.7358, -1.8799,  0.1225, -1.2607],\n",
       "                        [-0.3302, -0.8050, -2.1470,  0.9154],\n",
       "                        [-0.5143, -2.0262, -0.3854,  0.6029],\n",
       "                        [ 0.7358, -1.8799,  0.1225, -1.2607],\n",
       "                        [-0.3302, -0.8050, -2.1470,  0.9154],\n",
       "                        [-0.5143, -2.0262, -0.3854,  0.6029],\n",
       "                        [ 0.7358, -1.8799,  0.1225, -1.2607],\n",
       "                        [-0.3302, -0.8050, -2.1470,  0.9154]])"
      ]
     },
     "execution_count": 22,
     "metadata": {},
     "output_type": "execute_result"
    }
   ],
   "source": [
    "t_cat = FastTreeValue.func(subside=True)(torch.cat)\n",
    "\n",
    "t_cat(trees)"
   ]
  },
  {
   "cell_type": "code",
   "execution_count": 23,
   "id": "5e9c06a6",
   "metadata": {
    "execution": {
     "iopub.execute_input": "2023-02-27T13:16:25.957953Z",
     "iopub.status.busy": "2023-02-27T13:16:25.957369Z",
     "iopub.status.idle": "2023-02-27T13:16:28.425540Z",
     "shell.execute_reply": "2023-02-27T13:16:28.424615Z"
    }
   },
   "outputs": [
    {
     "name": "stdout",
     "output_type": "stream",
     "text": [
      "30.4 µs ± 41.3 ns per loop (mean ± std. dev. of 7 runs, 10,000 loops each)\n"
     ]
    }
   ],
   "source": [
    "%timeit t_cat(trees)"
   ]
  },
  {
   "cell_type": "code",
   "execution_count": 24,
   "id": "a3ab5c8f",
   "metadata": {
    "execution": {
     "iopub.execute_input": "2023-02-27T13:16:28.429039Z",
     "iopub.status.busy": "2023-02-27T13:16:28.428449Z",
     "iopub.status.idle": "2023-02-27T13:16:33.145322Z",
     "shell.execute_reply": "2023-02-27T13:16:33.144412Z"
    }
   },
   "outputs": [
    {
     "name": "stdout",
     "output_type": "stream",
     "text": [
      "58 µs ± 68.3 ns per loop (mean ± std. dev. of 7 runs, 10,000 loops each)\n"
     ]
    }
   ],
   "source": [
    "t_split = FastTreeValue.func(rise=True)(torch.split)\n",
    "tree = FastTreeValue({\n",
    "    'obs': torch.randn(8, 4, 84, 84),\n",
    "    'action': torch.randint(0, 6, size=(8, 1,)),\n",
    "    'reward': torch.rand(8, 1),\n",
    "})\n",
    "\n",
    "%timeit t_split(tree, 1)"
   ]
  },
  {
   "cell_type": "markdown",
   "id": "31c3ec0b",
   "metadata": {},
   "source": [
    "### Performance of Tianshou Batch"
   ]
  },
  {
   "cell_type": "code",
   "execution_count": 25,
   "id": "9ead828a",
   "metadata": {
    "execution": {
     "iopub.execute_input": "2023-02-27T13:16:33.148812Z",
     "iopub.status.busy": "2023-02-27T13:16:33.148293Z",
     "iopub.status.idle": "2023-02-27T13:16:33.157249Z",
     "shell.execute_reply": "2023-02-27T13:16:33.156583Z"
    }
   },
   "outputs": [
    {
     "data": {
      "text/plain": [
       "Batch(\n",
       "    x: Batch(\n",
       "           c: tensor([[[-0.5143, -2.0262, -0.3854,  0.6029],\n",
       "                       [ 0.7358, -1.8799,  0.1225, -1.2607],\n",
       "                       [-0.3302, -0.8050, -2.1470,  0.9154]],\n",
       "              \n",
       "                      [[-0.5143, -2.0262, -0.3854,  0.6029],\n",
       "                       [ 0.7358, -1.8799,  0.1225, -1.2607],\n",
       "                       [-0.3302, -0.8050, -2.1470,  0.9154]],\n",
       "              \n",
       "                      [[-0.5143, -2.0262, -0.3854,  0.6029],\n",
       "                       [ 0.7358, -1.8799,  0.1225, -1.2607],\n",
       "                       [-0.3302, -0.8050, -2.1470,  0.9154]],\n",
       "              \n",
       "                      [[-0.5143, -2.0262, -0.3854,  0.6029],\n",
       "                       [ 0.7358, -1.8799,  0.1225, -1.2607],\n",
       "                       [-0.3302, -0.8050, -2.1470,  0.9154]],\n",
       "              \n",
       "                      [[-0.5143, -2.0262, -0.3854,  0.6029],\n",
       "                       [ 0.7358, -1.8799,  0.1225, -1.2607],\n",
       "                       [-0.3302, -0.8050, -2.1470,  0.9154]],\n",
       "              \n",
       "                      [[-0.5143, -2.0262, -0.3854,  0.6029],\n",
       "                       [ 0.7358, -1.8799,  0.1225, -1.2607],\n",
       "                       [-0.3302, -0.8050, -2.1470,  0.9154]],\n",
       "              \n",
       "                      [[-0.5143, -2.0262, -0.3854,  0.6029],\n",
       "                       [ 0.7358, -1.8799,  0.1225, -1.2607],\n",
       "                       [-0.3302, -0.8050, -2.1470,  0.9154]],\n",
       "              \n",
       "                      [[-0.5143, -2.0262, -0.3854,  0.6029],\n",
       "                       [ 0.7358, -1.8799,  0.1225, -1.2607],\n",
       "                       [-0.3302, -0.8050, -2.1470,  0.9154]]]),\n",
       "       ),\n",
       "    a: tensor([[[-1.2664, -0.4659,  0.2130],\n",
       "                [-1.0781, -0.0200,  0.4618]],\n",
       "       \n",
       "               [[-1.2664, -0.4659,  0.2130],\n",
       "                [-1.0781, -0.0200,  0.4618]],\n",
       "       \n",
       "               [[-1.2664, -0.4659,  0.2130],\n",
       "                [-1.0781, -0.0200,  0.4618]],\n",
       "       \n",
       "               [[-1.2664, -0.4659,  0.2130],\n",
       "                [-1.0781, -0.0200,  0.4618]],\n",
       "       \n",
       "               [[-1.2664, -0.4659,  0.2130],\n",
       "                [-1.0781, -0.0200,  0.4618]],\n",
       "       \n",
       "               [[-1.2664, -0.4659,  0.2130],\n",
       "                [-1.0781, -0.0200,  0.4618]],\n",
       "       \n",
       "               [[-1.2664, -0.4659,  0.2130],\n",
       "                [-1.0781, -0.0200,  0.4618]],\n",
       "       \n",
       "               [[-1.2664, -0.4659,  0.2130],\n",
       "                [-1.0781, -0.0200,  0.4618]]]),\n",
       ")"
      ]
     },
     "execution_count": 25,
     "metadata": {},
     "output_type": "execute_result"
    }
   ],
   "source": [
    "batches = [Batch(**_TREE_DATA_2) for _ in range(8)]\n",
    "\n",
    "Batch.stack(batches)"
   ]
  },
  {
   "cell_type": "code",
   "execution_count": 26,
   "id": "ec9037a3",
   "metadata": {
    "execution": {
     "iopub.execute_input": "2023-02-27T13:16:33.160271Z",
     "iopub.status.busy": "2023-02-27T13:16:33.159637Z",
     "iopub.status.idle": "2023-02-27T13:16:39.698840Z",
     "shell.execute_reply": "2023-02-27T13:16:39.697886Z"
    }
   },
   "outputs": [
    {
     "name": "stdout",
     "output_type": "stream",
     "text": [
      "80.7 µs ± 1.99 µs per loop (mean ± std. dev. of 7 runs, 10,000 loops each)\n"
     ]
    }
   ],
   "source": [
    "%timeit Batch.stack(batches)"
   ]
  },
  {
   "cell_type": "code",
   "execution_count": 27,
   "id": "cb8ab77e",
   "metadata": {
    "execution": {
     "iopub.execute_input": "2023-02-27T13:16:39.702466Z",
     "iopub.status.busy": "2023-02-27T13:16:39.701875Z",
     "iopub.status.idle": "2023-02-27T13:16:39.709989Z",
     "shell.execute_reply": "2023-02-27T13:16:39.709333Z"
    }
   },
   "outputs": [
    {
     "data": {
      "text/plain": [
       "Batch(\n",
       "    x: Batch(\n",
       "           c: tensor([[-0.5143, -2.0262, -0.3854,  0.6029],\n",
       "                      [ 0.7358, -1.8799,  0.1225, -1.2607],\n",
       "                      [-0.3302, -0.8050, -2.1470,  0.9154],\n",
       "                      [-0.5143, -2.0262, -0.3854,  0.6029],\n",
       "                      [ 0.7358, -1.8799,  0.1225, -1.2607],\n",
       "                      [-0.3302, -0.8050, -2.1470,  0.9154],\n",
       "                      [-0.5143, -2.0262, -0.3854,  0.6029],\n",
       "                      [ 0.7358, -1.8799,  0.1225, -1.2607],\n",
       "                      [-0.3302, -0.8050, -2.1470,  0.9154],\n",
       "                      [-0.5143, -2.0262, -0.3854,  0.6029],\n",
       "                      [ 0.7358, -1.8799,  0.1225, -1.2607],\n",
       "                      [-0.3302, -0.8050, -2.1470,  0.9154],\n",
       "                      [-0.5143, -2.0262, -0.3854,  0.6029],\n",
       "                      [ 0.7358, -1.8799,  0.1225, -1.2607],\n",
       "                      [-0.3302, -0.8050, -2.1470,  0.9154],\n",
       "                      [-0.5143, -2.0262, -0.3854,  0.6029],\n",
       "                      [ 0.7358, -1.8799,  0.1225, -1.2607],\n",
       "                      [-0.3302, -0.8050, -2.1470,  0.9154],\n",
       "                      [-0.5143, -2.0262, -0.3854,  0.6029],\n",
       "                      [ 0.7358, -1.8799,  0.1225, -1.2607],\n",
       "                      [-0.3302, -0.8050, -2.1470,  0.9154],\n",
       "                      [-0.5143, -2.0262, -0.3854,  0.6029],\n",
       "                      [ 0.7358, -1.8799,  0.1225, -1.2607],\n",
       "                      [-0.3302, -0.8050, -2.1470,  0.9154]]),\n",
       "       ),\n",
       "    a: tensor([[-1.2664, -0.4659,  0.2130],\n",
       "               [-1.0781, -0.0200,  0.4618],\n",
       "               [-1.2664, -0.4659,  0.2130],\n",
       "               [-1.0781, -0.0200,  0.4618],\n",
       "               [-1.2664, -0.4659,  0.2130],\n",
       "               [-1.0781, -0.0200,  0.4618],\n",
       "               [-1.2664, -0.4659,  0.2130],\n",
       "               [-1.0781, -0.0200,  0.4618],\n",
       "               [-1.2664, -0.4659,  0.2130],\n",
       "               [-1.0781, -0.0200,  0.4618],\n",
       "               [-1.2664, -0.4659,  0.2130],\n",
       "               [-1.0781, -0.0200,  0.4618],\n",
       "               [-1.2664, -0.4659,  0.2130],\n",
       "               [-1.0781, -0.0200,  0.4618],\n",
       "               [-1.2664, -0.4659,  0.2130],\n",
       "               [-1.0781, -0.0200,  0.4618]]),\n",
       ")"
      ]
     },
     "execution_count": 27,
     "metadata": {},
     "output_type": "execute_result"
    }
   ],
   "source": [
    "Batch.cat(batches)"
   ]
  },
  {
   "cell_type": "code",
   "execution_count": 28,
   "id": "18dfb045",
   "metadata": {
    "execution": {
     "iopub.execute_input": "2023-02-27T13:16:39.713040Z",
     "iopub.status.busy": "2023-02-27T13:16:39.712658Z",
     "iopub.status.idle": "2023-02-27T13:16:51.523421Z",
     "shell.execute_reply": "2023-02-27T13:16:51.522473Z"
    }
   },
   "outputs": [
    {
     "name": "stdout",
     "output_type": "stream",
     "text": [
      "146 µs ± 1.28 µs per loop (mean ± std. dev. of 7 runs, 10,000 loops each)\n"
     ]
    }
   ],
   "source": [
    "%timeit Batch.cat(batches)"
   ]
  },
  {
   "cell_type": "code",
   "execution_count": 29,
   "id": "c6688e51",
   "metadata": {
    "execution": {
     "iopub.execute_input": "2023-02-27T13:16:51.527305Z",
     "iopub.status.busy": "2023-02-27T13:16:51.526700Z",
     "iopub.status.idle": "2023-02-27T13:16:54.173459Z",
     "shell.execute_reply": "2023-02-27T13:16:54.172750Z"
    }
   },
   "outputs": [
    {
     "name": "stdout",
     "output_type": "stream",
     "text": [
      "325 µs ± 2.09 µs per loop (mean ± std. dev. of 7 runs, 1,000 loops each)\n"
     ]
    }
   ],
   "source": [
    "batch = Batch({\n",
    "    'obs': torch.randn(8, 4, 84, 84),\n",
    "    'action': torch.randint(0, 6, size=(8, 1,)),\n",
    "    'reward': torch.rand(8, 1)}\n",
    ")\n",
    "\n",
    "%timeit list(Batch.split(batch, 1, shuffle=False, merge_last=True))"
   ]
  },
  {
   "cell_type": "code",
   "execution_count": null,
   "id": "2539fbd9",
   "metadata": {},
   "outputs": [],
   "source": []
  }
 ],
 "metadata": {
  "kernelspec": {
   "display_name": "Python 3 (ipykernel)",
   "language": "python",
   "name": "python3"
  },
  "language_info": {
   "codemirror_mode": {
    "name": "ipython",
    "version": 3
   },
   "file_extension": ".py",
   "mimetype": "text/x-python",
   "name": "python",
   "nbconvert_exporter": "python",
   "pygments_lexer": "ipython3",
   "version": "3.8.16"
  }
 },
 "nbformat": 4,
 "nbformat_minor": 5
}
