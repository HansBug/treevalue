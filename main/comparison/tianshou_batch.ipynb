{
 "cells": [
  {
   "cell_type": "markdown",
   "id": "9d39d946",
   "metadata": {},
   "source": [
    "# Comparison Between TreeValue and Tianshou Batch"
   ]
  },
  {
   "cell_type": "markdown",
   "id": "3c6db2d4",
   "metadata": {},
   "source": [
    "In this section, we will take a look at the feature and performance of the [Tianshou Batch](https://github.com/thu-ml/tianshou) library, which is developed by Tsinghua Machine Learning Group."
   ]
  },
  {
   "cell_type": "markdown",
   "id": "069361b0",
   "metadata": {},
   "source": [
    "Before starting the comparison, let us define some thing."
   ]
  },
  {
   "cell_type": "code",
   "execution_count": 1,
   "id": "06fc8d26",
   "metadata": {
    "execution": {
     "iopub.execute_input": "2023-02-25T19:26:58.242932Z",
     "iopub.status.busy": "2023-02-25T19:26:58.242471Z",
     "iopub.status.idle": "2023-02-25T19:26:59.163710Z",
     "shell.execute_reply": "2023-02-25T19:26:59.163016Z"
    }
   },
   "outputs": [
    {
     "name": "stderr",
     "output_type": "stream",
     "text": [
      "/opt/hostedtoolcache/Python/3.8.16/x64/lib/python3.8/site-packages/tqdm/auto.py:22: TqdmWarning: IProgress not found. Please update jupyter and ipywidgets. See https://ipywidgets.readthedocs.io/en/stable/user_install.html\n",
      "  from .autonotebook import tqdm as notebook_tqdm\n"
     ]
    }
   ],
   "source": [
    "import torch \n",
    "\n",
    "_TREE_DATA_1 = {'a': 1, 'b': 2, 'x': {'c': 3, 'd': 4}}\n",
    "_TREE_DATA_2 = {\n",
    "    'a': torch.randn(2, 3), \n",
    "    'x': {\n",
    "        'c': torch.randn(3, 4)\n",
    "    },\n",
    "}\n",
    "_TREE_DATA_3 = {\n",
    "    'obs': torch.randn(4, 84, 84),\n",
    "    'action': torch.randint(0, 6, size=(1,)),\n",
    "    'reward': torch.rand(1),\n",
    "}"
   ]
  },
  {
   "cell_type": "markdown",
   "id": "83461b25",
   "metadata": {},
   "source": [
    "## Read and Write Operation"
   ]
  },
  {
   "cell_type": "markdown",
   "id": "067b3f73",
   "metadata": {},
   "source": [
    "Reading and writing are the two most common operations in the tree data structure based on the data model (TreeValue and Tianshou Batch both belong to this type), so this section will compare the reading and writing performance of these two libraries."
   ]
  },
  {
   "cell_type": "markdown",
   "id": "5d09a5b7",
   "metadata": {},
   "source": [
    "### TreeValue's Get and Set"
   ]
  },
  {
   "cell_type": "code",
   "execution_count": 2,
   "id": "9519c4bb",
   "metadata": {
    "execution": {
     "iopub.execute_input": "2023-02-25T19:26:59.166838Z",
     "iopub.status.busy": "2023-02-25T19:26:59.166427Z",
     "iopub.status.idle": "2023-02-25T19:26:59.200132Z",
     "shell.execute_reply": "2023-02-25T19:26:59.199503Z"
    }
   },
   "outputs": [],
   "source": [
    "from treevalue import FastTreeValue\n",
    "\n",
    "t = FastTreeValue(_TREE_DATA_2)"
   ]
  },
  {
   "cell_type": "code",
   "execution_count": 3,
   "id": "11c37677",
   "metadata": {
    "execution": {
     "iopub.execute_input": "2023-02-25T19:26:59.202970Z",
     "iopub.status.busy": "2023-02-25T19:26:59.202626Z",
     "iopub.status.idle": "2023-02-25T19:26:59.212189Z",
     "shell.execute_reply": "2023-02-25T19:26:59.211605Z"
    }
   },
   "outputs": [
    {
     "data": {
      "text/plain": [
       "<FastTreeValue 0x7f29809d3190>\n",
       "├── 'a' --> tensor([[ 0.4394,  0.1628,  0.8419],\n",
       "│                   [-0.6039, -1.8460, -0.1923]])\n",
       "└── 'x' --> <FastTreeValue 0x7f2980a38dc0>\n",
       "    └── 'c' --> tensor([[ 0.5131,  0.3777, -1.3274, -0.5428],\n",
       "                        [-2.0245,  0.4623,  0.0510,  0.2346],\n",
       "                        [ 1.1759,  1.1160,  0.5754,  0.3365]])"
      ]
     },
     "execution_count": 3,
     "metadata": {},
     "output_type": "execute_result"
    }
   ],
   "source": [
    "t"
   ]
  },
  {
   "cell_type": "code",
   "execution_count": 4,
   "id": "fd70b0b9",
   "metadata": {
    "execution": {
     "iopub.execute_input": "2023-02-25T19:26:59.214992Z",
     "iopub.status.busy": "2023-02-25T19:26:59.214761Z",
     "iopub.status.idle": "2023-02-25T19:26:59.220004Z",
     "shell.execute_reply": "2023-02-25T19:26:59.219429Z"
    }
   },
   "outputs": [
    {
     "data": {
      "text/plain": [
       "tensor([[ 0.4394,  0.1628,  0.8419],\n",
       "        [-0.6039, -1.8460, -0.1923]])"
      ]
     },
     "execution_count": 4,
     "metadata": {},
     "output_type": "execute_result"
    }
   ],
   "source": [
    "t.a"
   ]
  },
  {
   "cell_type": "code",
   "execution_count": 5,
   "id": "c18197bd",
   "metadata": {
    "execution": {
     "iopub.execute_input": "2023-02-25T19:26:59.222588Z",
     "iopub.status.busy": "2023-02-25T19:26:59.222247Z",
     "iopub.status.idle": "2023-02-25T19:27:04.519478Z",
     "shell.execute_reply": "2023-02-25T19:27:04.518791Z"
    }
   },
   "outputs": [
    {
     "name": "stdout",
     "output_type": "stream",
     "text": [
      "65.2 ns ± 0.0168 ns per loop (mean ± std. dev. of 7 runs, 10,000,000 loops each)\n"
     ]
    }
   ],
   "source": [
    "%timeit t.a"
   ]
  },
  {
   "cell_type": "code",
   "execution_count": 6,
   "id": "bd52f867",
   "metadata": {
    "execution": {
     "iopub.execute_input": "2023-02-25T19:27:04.522614Z",
     "iopub.status.busy": "2023-02-25T19:27:04.522170Z",
     "iopub.status.idle": "2023-02-25T19:27:04.528732Z",
     "shell.execute_reply": "2023-02-25T19:27:04.528147Z"
    }
   },
   "outputs": [
    {
     "data": {
      "text/plain": [
       "<FastTreeValue 0x7f29809d3190>\n",
       "├── 'a' --> tensor([[ 0.9763, -0.1104, -0.9499],\n",
       "│                   [-1.8339,  2.2687, -1.1935]])\n",
       "└── 'x' --> <FastTreeValue 0x7f2980a38dc0>\n",
       "    └── 'c' --> tensor([[ 0.5131,  0.3777, -1.3274, -0.5428],\n",
       "                        [-2.0245,  0.4623,  0.0510,  0.2346],\n",
       "                        [ 1.1759,  1.1160,  0.5754,  0.3365]])"
      ]
     },
     "execution_count": 6,
     "metadata": {},
     "output_type": "execute_result"
    }
   ],
   "source": [
    "new_value = torch.randn(2, 3)\n",
    "t.a = new_value\n",
    "\n",
    "t"
   ]
  },
  {
   "cell_type": "code",
   "execution_count": 7,
   "id": "bbe04d1c",
   "metadata": {
    "execution": {
     "iopub.execute_input": "2023-02-25T19:27:04.531058Z",
     "iopub.status.busy": "2023-02-25T19:27:04.530853Z",
     "iopub.status.idle": "2023-02-25T19:27:09.921971Z",
     "shell.execute_reply": "2023-02-25T19:27:09.921244Z"
    }
   },
   "outputs": [
    {
     "name": "stdout",
     "output_type": "stream",
     "text": [
      "66.4 ns ± 0.0213 ns per loop (mean ± std. dev. of 7 runs, 10,000,000 loops each)\n"
     ]
    }
   ],
   "source": [
    "%timeit t.a = new_value"
   ]
  },
  {
   "cell_type": "markdown",
   "id": "48c49731",
   "metadata": {},
   "source": [
    "### Tianshou Batch's Get and Set"
   ]
  },
  {
   "cell_type": "code",
   "execution_count": 8,
   "id": "f1bb14c1",
   "metadata": {
    "execution": {
     "iopub.execute_input": "2023-02-25T19:27:09.925035Z",
     "iopub.status.busy": "2023-02-25T19:27:09.924560Z",
     "iopub.status.idle": "2023-02-25T19:27:10.252828Z",
     "shell.execute_reply": "2023-02-25T19:27:10.252169Z"
    }
   },
   "outputs": [],
   "source": [
    "from tianshou.data import Batch\n",
    "\n",
    "b = Batch(**_TREE_DATA_2)"
   ]
  },
  {
   "cell_type": "code",
   "execution_count": 9,
   "id": "cb0777c3",
   "metadata": {
    "execution": {
     "iopub.execute_input": "2023-02-25T19:27:10.255904Z",
     "iopub.status.busy": "2023-02-25T19:27:10.255393Z",
     "iopub.status.idle": "2023-02-25T19:27:10.260699Z",
     "shell.execute_reply": "2023-02-25T19:27:10.260084Z"
    }
   },
   "outputs": [
    {
     "data": {
      "text/plain": [
       "Batch(\n",
       "    a: tensor([[ 0.4394,  0.1628,  0.8419],\n",
       "               [-0.6039, -1.8460, -0.1923]]),\n",
       "    x: Batch(\n",
       "           c: tensor([[ 0.5131,  0.3777, -1.3274, -0.5428],\n",
       "                      [-2.0245,  0.4623,  0.0510,  0.2346],\n",
       "                      [ 1.1759,  1.1160,  0.5754,  0.3365]]),\n",
       "       ),\n",
       ")"
      ]
     },
     "execution_count": 9,
     "metadata": {},
     "output_type": "execute_result"
    }
   ],
   "source": [
    "b"
   ]
  },
  {
   "cell_type": "code",
   "execution_count": 10,
   "id": "43ef8ea3",
   "metadata": {
    "execution": {
     "iopub.execute_input": "2023-02-25T19:27:10.263239Z",
     "iopub.status.busy": "2023-02-25T19:27:10.262899Z",
     "iopub.status.idle": "2023-02-25T19:27:10.267603Z",
     "shell.execute_reply": "2023-02-25T19:27:10.267013Z"
    }
   },
   "outputs": [
    {
     "data": {
      "text/plain": [
       "tensor([[ 0.4394,  0.1628,  0.8419],\n",
       "        [-0.6039, -1.8460, -0.1923]])"
      ]
     },
     "execution_count": 10,
     "metadata": {},
     "output_type": "execute_result"
    }
   ],
   "source": [
    "b.a"
   ]
  },
  {
   "cell_type": "code",
   "execution_count": 11,
   "id": "b785ab72",
   "metadata": {
    "execution": {
     "iopub.execute_input": "2023-02-25T19:27:10.270010Z",
     "iopub.status.busy": "2023-02-25T19:27:10.269647Z",
     "iopub.status.idle": "2023-02-25T19:27:14.657467Z",
     "shell.execute_reply": "2023-02-25T19:27:14.656683Z"
    }
   },
   "outputs": [
    {
     "name": "stdout",
     "output_type": "stream",
     "text": [
      "54.1 ns ± 0.068 ns per loop (mean ± std. dev. of 7 runs, 10,000,000 loops each)\n"
     ]
    }
   ],
   "source": [
    "%timeit b.a"
   ]
  },
  {
   "cell_type": "code",
   "execution_count": 12,
   "id": "ad54dc69",
   "metadata": {
    "execution": {
     "iopub.execute_input": "2023-02-25T19:27:14.660167Z",
     "iopub.status.busy": "2023-02-25T19:27:14.659827Z",
     "iopub.status.idle": "2023-02-25T19:27:14.665495Z",
     "shell.execute_reply": "2023-02-25T19:27:14.664849Z"
    }
   },
   "outputs": [
    {
     "data": {
      "text/plain": [
       "Batch(\n",
       "    a: tensor([[-0.1948,  0.1656,  0.5722],\n",
       "               [ 0.7992, -0.5875, -0.0680]]),\n",
       "    x: Batch(\n",
       "           c: tensor([[ 0.5131,  0.3777, -1.3274, -0.5428],\n",
       "                      [-2.0245,  0.4623,  0.0510,  0.2346],\n",
       "                      [ 1.1759,  1.1160,  0.5754,  0.3365]]),\n",
       "       ),\n",
       ")"
      ]
     },
     "execution_count": 12,
     "metadata": {},
     "output_type": "execute_result"
    }
   ],
   "source": [
    "new_value = torch.randn(2, 3)\n",
    "b.a = new_value\n",
    "\n",
    "b"
   ]
  },
  {
   "cell_type": "code",
   "execution_count": 13,
   "id": "29b1d0bf",
   "metadata": {
    "execution": {
     "iopub.execute_input": "2023-02-25T19:27:14.668077Z",
     "iopub.status.busy": "2023-02-25T19:27:14.667745Z",
     "iopub.status.idle": "2023-02-25T19:27:18.587107Z",
     "shell.execute_reply": "2023-02-25T19:27:18.586354Z"
    }
   },
   "outputs": [
    {
     "name": "stdout",
     "output_type": "stream",
     "text": [
      "483 ns ± 0.243 ns per loop (mean ± std. dev. of 7 runs, 1,000,000 loops each)\n"
     ]
    }
   ],
   "source": [
    "%timeit b.a = new_value"
   ]
  },
  {
   "cell_type": "markdown",
   "id": "b61ad1d0",
   "metadata": {},
   "source": [
    "## Initialization"
   ]
  },
  {
   "cell_type": "markdown",
   "id": "d70f0d54",
   "metadata": {},
   "source": [
    "### TreeValue's Initialization"
   ]
  },
  {
   "cell_type": "code",
   "execution_count": 14,
   "id": "d32a679b",
   "metadata": {
    "execution": {
     "iopub.execute_input": "2023-02-25T19:27:18.590372Z",
     "iopub.status.busy": "2023-02-25T19:27:18.589792Z",
     "iopub.status.idle": "2023-02-25T19:27:25.537310Z",
     "shell.execute_reply": "2023-02-25T19:27:25.536555Z"
    }
   },
   "outputs": [
    {
     "name": "stdout",
     "output_type": "stream",
     "text": [
      "856 ns ± 0.129 ns per loop (mean ± std. dev. of 7 runs, 1,000,000 loops each)\n"
     ]
    }
   ],
   "source": [
    "%timeit FastTreeValue(_TREE_DATA_1)"
   ]
  },
  {
   "cell_type": "markdown",
   "id": "24f3707b",
   "metadata": {},
   "source": [
    "### Tianshou Batch's Initialization"
   ]
  },
  {
   "cell_type": "code",
   "execution_count": 15,
   "id": "ac3958df",
   "metadata": {
    "execution": {
     "iopub.execute_input": "2023-02-25T19:27:25.540506Z",
     "iopub.status.busy": "2023-02-25T19:27:25.539939Z",
     "iopub.status.idle": "2023-02-25T19:27:34.940979Z",
     "shell.execute_reply": "2023-02-25T19:27:34.940309Z"
    }
   },
   "outputs": [
    {
     "name": "stdout",
     "output_type": "stream",
     "text": [
      "11.6 µs ± 48.3 ns per loop (mean ± std. dev. of 7 runs, 100,000 loops each)\n"
     ]
    }
   ],
   "source": [
    "%timeit Batch(**_TREE_DATA_1)"
   ]
  },
  {
   "cell_type": "markdown",
   "id": "1ab82e2d",
   "metadata": {},
   "source": [
    "## Deep Copy Operation"
   ]
  },
  {
   "cell_type": "code",
   "execution_count": 16,
   "id": "210a9442",
   "metadata": {
    "execution": {
     "iopub.execute_input": "2023-02-25T19:27:34.943654Z",
     "iopub.status.busy": "2023-02-25T19:27:34.943291Z",
     "iopub.status.idle": "2023-02-25T19:27:34.947340Z",
     "shell.execute_reply": "2023-02-25T19:27:34.946677Z"
    }
   },
   "outputs": [],
   "source": [
    "import copy"
   ]
  },
  {
   "cell_type": "markdown",
   "id": "5a736274",
   "metadata": {},
   "source": [
    "### Deep Copy of TreeValue"
   ]
  },
  {
   "cell_type": "code",
   "execution_count": 17,
   "id": "f9bcadd6",
   "metadata": {
    "execution": {
     "iopub.execute_input": "2023-02-25T19:27:34.950239Z",
     "iopub.status.busy": "2023-02-25T19:27:34.949763Z",
     "iopub.status.idle": "2023-02-25T19:27:46.029016Z",
     "shell.execute_reply": "2023-02-25T19:27:46.028415Z"
    }
   },
   "outputs": [
    {
     "name": "stdout",
     "output_type": "stream",
     "text": [
      "136 µs ± 417 ns per loop (mean ± std. dev. of 7 runs, 10,000 loops each)\n"
     ]
    }
   ],
   "source": [
    "t3 = FastTreeValue(_TREE_DATA_3)\n",
    "%timeit copy.deepcopy(t3)"
   ]
  },
  {
   "cell_type": "markdown",
   "id": "bf8be7ea",
   "metadata": {},
   "source": [
    "### Deep Copy of Tianshou Batch"
   ]
  },
  {
   "cell_type": "code",
   "execution_count": 18,
   "id": "91998e6f",
   "metadata": {
    "execution": {
     "iopub.execute_input": "2023-02-25T19:27:46.032248Z",
     "iopub.status.busy": "2023-02-25T19:27:46.031603Z",
     "iopub.status.idle": "2023-02-25T19:27:57.411038Z",
     "shell.execute_reply": "2023-02-25T19:27:57.410372Z"
    }
   },
   "outputs": [
    {
     "name": "stdout",
     "output_type": "stream",
     "text": [
      "140 µs ± 415 ns per loop (mean ± std. dev. of 7 runs, 10,000 loops each)\n"
     ]
    }
   ],
   "source": [
    "b3 = Batch(**_TREE_DATA_3)\n",
    "%timeit copy.deepcopy(b3)"
   ]
  },
  {
   "cell_type": "markdown",
   "id": "223162fb",
   "metadata": {},
   "source": [
    "## Stack, Concat and Split Operation"
   ]
  },
  {
   "cell_type": "markdown",
   "id": "85fa4a73",
   "metadata": {},
   "source": [
    "### Performance of TreeValue"
   ]
  },
  {
   "cell_type": "code",
   "execution_count": 19,
   "id": "a0c2b697",
   "metadata": {
    "execution": {
     "iopub.execute_input": "2023-02-25T19:27:57.414248Z",
     "iopub.status.busy": "2023-02-25T19:27:57.414009Z",
     "iopub.status.idle": "2023-02-25T19:27:57.417787Z",
     "shell.execute_reply": "2023-02-25T19:27:57.417205Z"
    }
   },
   "outputs": [],
   "source": [
    "trees = [FastTreeValue(_TREE_DATA_2) for _ in range(8)]"
   ]
  },
  {
   "cell_type": "code",
   "execution_count": 20,
   "id": "017ea5a5",
   "metadata": {
    "execution": {
     "iopub.execute_input": "2023-02-25T19:27:57.420496Z",
     "iopub.status.busy": "2023-02-25T19:27:57.420275Z",
     "iopub.status.idle": "2023-02-25T19:27:57.427071Z",
     "shell.execute_reply": "2023-02-25T19:27:57.426559Z"
    }
   },
   "outputs": [
    {
     "data": {
      "text/plain": [
       "<FastTreeValue 0x7f28d56e8c10>\n",
       "├── 'a' --> tensor([[[ 0.4394,  0.1628,  0.8419],\n",
       "│                    [-0.6039, -1.8460, -0.1923]],\n",
       "│           \n",
       "│                   [[ 0.4394,  0.1628,  0.8419],\n",
       "│                    [-0.6039, -1.8460, -0.1923]],\n",
       "│           \n",
       "│                   [[ 0.4394,  0.1628,  0.8419],\n",
       "│                    [-0.6039, -1.8460, -0.1923]],\n",
       "│           \n",
       "│                   [[ 0.4394,  0.1628,  0.8419],\n",
       "│                    [-0.6039, -1.8460, -0.1923]],\n",
       "│           \n",
       "│                   [[ 0.4394,  0.1628,  0.8419],\n",
       "│                    [-0.6039, -1.8460, -0.1923]],\n",
       "│           \n",
       "│                   [[ 0.4394,  0.1628,  0.8419],\n",
       "│                    [-0.6039, -1.8460, -0.1923]],\n",
       "│           \n",
       "│                   [[ 0.4394,  0.1628,  0.8419],\n",
       "│                    [-0.6039, -1.8460, -0.1923]],\n",
       "│           \n",
       "│                   [[ 0.4394,  0.1628,  0.8419],\n",
       "│                    [-0.6039, -1.8460, -0.1923]]])\n",
       "└── 'x' --> <FastTreeValue 0x7f28d56d5400>\n",
       "    └── 'c' --> tensor([[[ 0.5131,  0.3777, -1.3274, -0.5428],\n",
       "                         [-2.0245,  0.4623,  0.0510,  0.2346],\n",
       "                         [ 1.1759,  1.1160,  0.5754,  0.3365]],\n",
       "                \n",
       "                        [[ 0.5131,  0.3777, -1.3274, -0.5428],\n",
       "                         [-2.0245,  0.4623,  0.0510,  0.2346],\n",
       "                         [ 1.1759,  1.1160,  0.5754,  0.3365]],\n",
       "                \n",
       "                        [[ 0.5131,  0.3777, -1.3274, -0.5428],\n",
       "                         [-2.0245,  0.4623,  0.0510,  0.2346],\n",
       "                         [ 1.1759,  1.1160,  0.5754,  0.3365]],\n",
       "                \n",
       "                        [[ 0.5131,  0.3777, -1.3274, -0.5428],\n",
       "                         [-2.0245,  0.4623,  0.0510,  0.2346],\n",
       "                         [ 1.1759,  1.1160,  0.5754,  0.3365]],\n",
       "                \n",
       "                        [[ 0.5131,  0.3777, -1.3274, -0.5428],\n",
       "                         [-2.0245,  0.4623,  0.0510,  0.2346],\n",
       "                         [ 1.1759,  1.1160,  0.5754,  0.3365]],\n",
       "                \n",
       "                        [[ 0.5131,  0.3777, -1.3274, -0.5428],\n",
       "                         [-2.0245,  0.4623,  0.0510,  0.2346],\n",
       "                         [ 1.1759,  1.1160,  0.5754,  0.3365]],\n",
       "                \n",
       "                        [[ 0.5131,  0.3777, -1.3274, -0.5428],\n",
       "                         [-2.0245,  0.4623,  0.0510,  0.2346],\n",
       "                         [ 1.1759,  1.1160,  0.5754,  0.3365]],\n",
       "                \n",
       "                        [[ 0.5131,  0.3777, -1.3274, -0.5428],\n",
       "                         [-2.0245,  0.4623,  0.0510,  0.2346],\n",
       "                         [ 1.1759,  1.1160,  0.5754,  0.3365]]])"
      ]
     },
     "execution_count": 20,
     "metadata": {},
     "output_type": "execute_result"
    }
   ],
   "source": [
    "t_stack = FastTreeValue.func(subside=True)(torch.stack)\n",
    "\n",
    "t_stack(trees)"
   ]
  },
  {
   "cell_type": "code",
   "execution_count": 21,
   "id": "f8b3f415",
   "metadata": {
    "execution": {
     "iopub.execute_input": "2023-02-25T19:27:57.429438Z",
     "iopub.status.busy": "2023-02-25T19:27:57.429051Z",
     "iopub.status.idle": "2023-02-25T19:28:00.067367Z",
     "shell.execute_reply": "2023-02-25T19:28:00.066611Z"
    }
   },
   "outputs": [
    {
     "name": "stdout",
     "output_type": "stream",
     "text": [
      "32.4 µs ± 17.9 ns per loop (mean ± std. dev. of 7 runs, 10,000 loops each)\n"
     ]
    }
   ],
   "source": [
    "%timeit t_stack(trees)"
   ]
  },
  {
   "cell_type": "code",
   "execution_count": 22,
   "id": "94b56771",
   "metadata": {
    "execution": {
     "iopub.execute_input": "2023-02-25T19:28:00.070100Z",
     "iopub.status.busy": "2023-02-25T19:28:00.069744Z",
     "iopub.status.idle": "2023-02-25T19:28:00.077515Z",
     "shell.execute_reply": "2023-02-25T19:28:00.076931Z"
    }
   },
   "outputs": [
    {
     "data": {
      "text/plain": [
       "<FastTreeValue 0x7f28d5d8dcd0>\n",
       "├── 'a' --> tensor([[ 0.4394,  0.1628,  0.8419],\n",
       "│                   [-0.6039, -1.8460, -0.1923],\n",
       "│                   [ 0.4394,  0.1628,  0.8419],\n",
       "│                   [-0.6039, -1.8460, -0.1923],\n",
       "│                   [ 0.4394,  0.1628,  0.8419],\n",
       "│                   [-0.6039, -1.8460, -0.1923],\n",
       "│                   [ 0.4394,  0.1628,  0.8419],\n",
       "│                   [-0.6039, -1.8460, -0.1923],\n",
       "│                   [ 0.4394,  0.1628,  0.8419],\n",
       "│                   [-0.6039, -1.8460, -0.1923],\n",
       "│                   [ 0.4394,  0.1628,  0.8419],\n",
       "│                   [-0.6039, -1.8460, -0.1923],\n",
       "│                   [ 0.4394,  0.1628,  0.8419],\n",
       "│                   [-0.6039, -1.8460, -0.1923],\n",
       "│                   [ 0.4394,  0.1628,  0.8419],\n",
       "│                   [-0.6039, -1.8460, -0.1923]])\n",
       "└── 'x' --> <FastTreeValue 0x7f29809e0c10>\n",
       "    └── 'c' --> tensor([[ 0.5131,  0.3777, -1.3274, -0.5428],\n",
       "                        [-2.0245,  0.4623,  0.0510,  0.2346],\n",
       "                        [ 1.1759,  1.1160,  0.5754,  0.3365],\n",
       "                        [ 0.5131,  0.3777, -1.3274, -0.5428],\n",
       "                        [-2.0245,  0.4623,  0.0510,  0.2346],\n",
       "                        [ 1.1759,  1.1160,  0.5754,  0.3365],\n",
       "                        [ 0.5131,  0.3777, -1.3274, -0.5428],\n",
       "                        [-2.0245,  0.4623,  0.0510,  0.2346],\n",
       "                        [ 1.1759,  1.1160,  0.5754,  0.3365],\n",
       "                        [ 0.5131,  0.3777, -1.3274, -0.5428],\n",
       "                        [-2.0245,  0.4623,  0.0510,  0.2346],\n",
       "                        [ 1.1759,  1.1160,  0.5754,  0.3365],\n",
       "                        [ 0.5131,  0.3777, -1.3274, -0.5428],\n",
       "                        [-2.0245,  0.4623,  0.0510,  0.2346],\n",
       "                        [ 1.1759,  1.1160,  0.5754,  0.3365],\n",
       "                        [ 0.5131,  0.3777, -1.3274, -0.5428],\n",
       "                        [-2.0245,  0.4623,  0.0510,  0.2346],\n",
       "                        [ 1.1759,  1.1160,  0.5754,  0.3365],\n",
       "                        [ 0.5131,  0.3777, -1.3274, -0.5428],\n",
       "                        [-2.0245,  0.4623,  0.0510,  0.2346],\n",
       "                        [ 1.1759,  1.1160,  0.5754,  0.3365],\n",
       "                        [ 0.5131,  0.3777, -1.3274, -0.5428],\n",
       "                        [-2.0245,  0.4623,  0.0510,  0.2346],\n",
       "                        [ 1.1759,  1.1160,  0.5754,  0.3365]])"
      ]
     },
     "execution_count": 22,
     "metadata": {},
     "output_type": "execute_result"
    }
   ],
   "source": [
    "t_cat = FastTreeValue.func(subside=True)(torch.cat)\n",
    "\n",
    "t_cat(trees)"
   ]
  },
  {
   "cell_type": "code",
   "execution_count": 23,
   "id": "5e9c06a6",
   "metadata": {
    "execution": {
     "iopub.execute_input": "2023-02-25T19:28:00.079950Z",
     "iopub.status.busy": "2023-02-25T19:28:00.079637Z",
     "iopub.status.idle": "2023-02-25T19:28:02.572964Z",
     "shell.execute_reply": "2023-02-25T19:28:02.572218Z"
    }
   },
   "outputs": [
    {
     "name": "stdout",
     "output_type": "stream",
     "text": [
      "30.7 µs ± 44.8 ns per loop (mean ± std. dev. of 7 runs, 10,000 loops each)\n"
     ]
    }
   ],
   "source": [
    "%timeit t_cat(trees)"
   ]
  },
  {
   "cell_type": "code",
   "execution_count": 24,
   "id": "a3ab5c8f",
   "metadata": {
    "execution": {
     "iopub.execute_input": "2023-02-25T19:28:02.575896Z",
     "iopub.status.busy": "2023-02-25T19:28:02.575345Z",
     "iopub.status.idle": "2023-02-25T19:28:07.250510Z",
     "shell.execute_reply": "2023-02-25T19:28:07.249752Z"
    }
   },
   "outputs": [
    {
     "name": "stdout",
     "output_type": "stream",
     "text": [
      "57.5 µs ± 54.1 ns per loop (mean ± std. dev. of 7 runs, 10,000 loops each)\n"
     ]
    }
   ],
   "source": [
    "t_split = FastTreeValue.func(rise=True)(torch.split)\n",
    "tree = FastTreeValue({\n",
    "    'obs': torch.randn(8, 4, 84, 84),\n",
    "    'action': torch.randint(0, 6, size=(8, 1,)),\n",
    "    'reward': torch.rand(8, 1),\n",
    "})\n",
    "\n",
    "%timeit t_split(tree, 1)"
   ]
  },
  {
   "cell_type": "markdown",
   "id": "31c3ec0b",
   "metadata": {},
   "source": [
    "### Performance of Tianshou Batch"
   ]
  },
  {
   "cell_type": "code",
   "execution_count": 25,
   "id": "9ead828a",
   "metadata": {
    "execution": {
     "iopub.execute_input": "2023-02-25T19:28:07.253279Z",
     "iopub.status.busy": "2023-02-25T19:28:07.252918Z",
     "iopub.status.idle": "2023-02-25T19:28:07.260812Z",
     "shell.execute_reply": "2023-02-25T19:28:07.260224Z"
    }
   },
   "outputs": [
    {
     "data": {
      "text/plain": [
       "Batch(\n",
       "    x: Batch(\n",
       "           c: tensor([[[ 0.5131,  0.3777, -1.3274, -0.5428],\n",
       "                       [-2.0245,  0.4623,  0.0510,  0.2346],\n",
       "                       [ 1.1759,  1.1160,  0.5754,  0.3365]],\n",
       "              \n",
       "                      [[ 0.5131,  0.3777, -1.3274, -0.5428],\n",
       "                       [-2.0245,  0.4623,  0.0510,  0.2346],\n",
       "                       [ 1.1759,  1.1160,  0.5754,  0.3365]],\n",
       "              \n",
       "                      [[ 0.5131,  0.3777, -1.3274, -0.5428],\n",
       "                       [-2.0245,  0.4623,  0.0510,  0.2346],\n",
       "                       [ 1.1759,  1.1160,  0.5754,  0.3365]],\n",
       "              \n",
       "                      [[ 0.5131,  0.3777, -1.3274, -0.5428],\n",
       "                       [-2.0245,  0.4623,  0.0510,  0.2346],\n",
       "                       [ 1.1759,  1.1160,  0.5754,  0.3365]],\n",
       "              \n",
       "                      [[ 0.5131,  0.3777, -1.3274, -0.5428],\n",
       "                       [-2.0245,  0.4623,  0.0510,  0.2346],\n",
       "                       [ 1.1759,  1.1160,  0.5754,  0.3365]],\n",
       "              \n",
       "                      [[ 0.5131,  0.3777, -1.3274, -0.5428],\n",
       "                       [-2.0245,  0.4623,  0.0510,  0.2346],\n",
       "                       [ 1.1759,  1.1160,  0.5754,  0.3365]],\n",
       "              \n",
       "                      [[ 0.5131,  0.3777, -1.3274, -0.5428],\n",
       "                       [-2.0245,  0.4623,  0.0510,  0.2346],\n",
       "                       [ 1.1759,  1.1160,  0.5754,  0.3365]],\n",
       "              \n",
       "                      [[ 0.5131,  0.3777, -1.3274, -0.5428],\n",
       "                       [-2.0245,  0.4623,  0.0510,  0.2346],\n",
       "                       [ 1.1759,  1.1160,  0.5754,  0.3365]]]),\n",
       "       ),\n",
       "    a: tensor([[[ 0.4394,  0.1628,  0.8419],\n",
       "                [-0.6039, -1.8460, -0.1923]],\n",
       "       \n",
       "               [[ 0.4394,  0.1628,  0.8419],\n",
       "                [-0.6039, -1.8460, -0.1923]],\n",
       "       \n",
       "               [[ 0.4394,  0.1628,  0.8419],\n",
       "                [-0.6039, -1.8460, -0.1923]],\n",
       "       \n",
       "               [[ 0.4394,  0.1628,  0.8419],\n",
       "                [-0.6039, -1.8460, -0.1923]],\n",
       "       \n",
       "               [[ 0.4394,  0.1628,  0.8419],\n",
       "                [-0.6039, -1.8460, -0.1923]],\n",
       "       \n",
       "               [[ 0.4394,  0.1628,  0.8419],\n",
       "                [-0.6039, -1.8460, -0.1923]],\n",
       "       \n",
       "               [[ 0.4394,  0.1628,  0.8419],\n",
       "                [-0.6039, -1.8460, -0.1923]],\n",
       "       \n",
       "               [[ 0.4394,  0.1628,  0.8419],\n",
       "                [-0.6039, -1.8460, -0.1923]]]),\n",
       ")"
      ]
     },
     "execution_count": 25,
     "metadata": {},
     "output_type": "execute_result"
    }
   ],
   "source": [
    "batches = [Batch(**_TREE_DATA_2) for _ in range(8)]\n",
    "\n",
    "Batch.stack(batches)"
   ]
  },
  {
   "cell_type": "code",
   "execution_count": 26,
   "id": "ec9037a3",
   "metadata": {
    "execution": {
     "iopub.execute_input": "2023-02-25T19:28:07.263711Z",
     "iopub.status.busy": "2023-02-25T19:28:07.263227Z",
     "iopub.status.idle": "2023-02-25T19:28:13.610758Z",
     "shell.execute_reply": "2023-02-25T19:28:13.610018Z"
    }
   },
   "outputs": [
    {
     "name": "stdout",
     "output_type": "stream",
     "text": [
      "78.2 µs ± 281 ns per loop (mean ± std. dev. of 7 runs, 10,000 loops each)\n"
     ]
    }
   ],
   "source": [
    "%timeit Batch.stack(batches)"
   ]
  },
  {
   "cell_type": "code",
   "execution_count": 27,
   "id": "cb8ab77e",
   "metadata": {
    "execution": {
     "iopub.execute_input": "2023-02-25T19:28:13.613948Z",
     "iopub.status.busy": "2023-02-25T19:28:13.613440Z",
     "iopub.status.idle": "2023-02-25T19:28:13.620742Z",
     "shell.execute_reply": "2023-02-25T19:28:13.620163Z"
    }
   },
   "outputs": [
    {
     "data": {
      "text/plain": [
       "Batch(\n",
       "    x: Batch(\n",
       "           c: tensor([[ 0.5131,  0.3777, -1.3274, -0.5428],\n",
       "                      [-2.0245,  0.4623,  0.0510,  0.2346],\n",
       "                      [ 1.1759,  1.1160,  0.5754,  0.3365],\n",
       "                      [ 0.5131,  0.3777, -1.3274, -0.5428],\n",
       "                      [-2.0245,  0.4623,  0.0510,  0.2346],\n",
       "                      [ 1.1759,  1.1160,  0.5754,  0.3365],\n",
       "                      [ 0.5131,  0.3777, -1.3274, -0.5428],\n",
       "                      [-2.0245,  0.4623,  0.0510,  0.2346],\n",
       "                      [ 1.1759,  1.1160,  0.5754,  0.3365],\n",
       "                      [ 0.5131,  0.3777, -1.3274, -0.5428],\n",
       "                      [-2.0245,  0.4623,  0.0510,  0.2346],\n",
       "                      [ 1.1759,  1.1160,  0.5754,  0.3365],\n",
       "                      [ 0.5131,  0.3777, -1.3274, -0.5428],\n",
       "                      [-2.0245,  0.4623,  0.0510,  0.2346],\n",
       "                      [ 1.1759,  1.1160,  0.5754,  0.3365],\n",
       "                      [ 0.5131,  0.3777, -1.3274, -0.5428],\n",
       "                      [-2.0245,  0.4623,  0.0510,  0.2346],\n",
       "                      [ 1.1759,  1.1160,  0.5754,  0.3365],\n",
       "                      [ 0.5131,  0.3777, -1.3274, -0.5428],\n",
       "                      [-2.0245,  0.4623,  0.0510,  0.2346],\n",
       "                      [ 1.1759,  1.1160,  0.5754,  0.3365],\n",
       "                      [ 0.5131,  0.3777, -1.3274, -0.5428],\n",
       "                      [-2.0245,  0.4623,  0.0510,  0.2346],\n",
       "                      [ 1.1759,  1.1160,  0.5754,  0.3365]]),\n",
       "       ),\n",
       "    a: tensor([[ 0.4394,  0.1628,  0.8419],\n",
       "               [-0.6039, -1.8460, -0.1923],\n",
       "               [ 0.4394,  0.1628,  0.8419],\n",
       "               [-0.6039, -1.8460, -0.1923],\n",
       "               [ 0.4394,  0.1628,  0.8419],\n",
       "               [-0.6039, -1.8460, -0.1923],\n",
       "               [ 0.4394,  0.1628,  0.8419],\n",
       "               [-0.6039, -1.8460, -0.1923],\n",
       "               [ 0.4394,  0.1628,  0.8419],\n",
       "               [-0.6039, -1.8460, -0.1923],\n",
       "               [ 0.4394,  0.1628,  0.8419],\n",
       "               [-0.6039, -1.8460, -0.1923],\n",
       "               [ 0.4394,  0.1628,  0.8419],\n",
       "               [-0.6039, -1.8460, -0.1923],\n",
       "               [ 0.4394,  0.1628,  0.8419],\n",
       "               [-0.6039, -1.8460, -0.1923]]),\n",
       ")"
      ]
     },
     "execution_count": 27,
     "metadata": {},
     "output_type": "execute_result"
    }
   ],
   "source": [
    "Batch.cat(batches)"
   ]
  },
  {
   "cell_type": "code",
   "execution_count": 28,
   "id": "18dfb045",
   "metadata": {
    "execution": {
     "iopub.execute_input": "2023-02-25T19:28:13.623341Z",
     "iopub.status.busy": "2023-02-25T19:28:13.623016Z",
     "iopub.status.idle": "2023-02-25T19:28:25.160776Z",
     "shell.execute_reply": "2023-02-25T19:28:25.159993Z"
    }
   },
   "outputs": [
    {
     "name": "stdout",
     "output_type": "stream",
     "text": [
      "142 µs ± 261 ns per loop (mean ± std. dev. of 7 runs, 10,000 loops each)\n"
     ]
    }
   ],
   "source": [
    "%timeit Batch.cat(batches)"
   ]
  },
  {
   "cell_type": "code",
   "execution_count": 29,
   "id": "c6688e51",
   "metadata": {
    "execution": {
     "iopub.execute_input": "2023-02-25T19:28:25.163948Z",
     "iopub.status.busy": "2023-02-25T19:28:25.163435Z",
     "iopub.status.idle": "2023-02-25T19:28:27.651073Z",
     "shell.execute_reply": "2023-02-25T19:28:27.650519Z"
    }
   },
   "outputs": [
    {
     "name": "stdout",
     "output_type": "stream",
     "text": [
      "306 µs ± 867 ns per loop (mean ± std. dev. of 7 runs, 1,000 loops each)\n"
     ]
    }
   ],
   "source": [
    "batch = Batch({\n",
    "    'obs': torch.randn(8, 4, 84, 84),\n",
    "    'action': torch.randint(0, 6, size=(8, 1,)),\n",
    "    'reward': torch.rand(8, 1)}\n",
    ")\n",
    "\n",
    "%timeit list(Batch.split(batch, 1, shuffle=False, merge_last=True))"
   ]
  },
  {
   "cell_type": "code",
   "execution_count": null,
   "id": "2539fbd9",
   "metadata": {},
   "outputs": [],
   "source": []
  }
 ],
 "metadata": {
  "kernelspec": {
   "display_name": "Python 3 (ipykernel)",
   "language": "python",
   "name": "python3"
  },
  "language_info": {
   "codemirror_mode": {
    "name": "ipython",
    "version": 3
   },
   "file_extension": ".py",
   "mimetype": "text/x-python",
   "name": "python",
   "nbconvert_exporter": "python",
   "pygments_lexer": "ipython3",
   "version": "3.8.16"
  }
 },
 "nbformat": 4,
 "nbformat_minor": 5
}
