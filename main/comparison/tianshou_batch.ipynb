{
 "cells": [
  {
   "cell_type": "markdown",
   "id": "9d39d946",
   "metadata": {},
   "source": [
    "# Comparison Between TreeValue and Tianshou Batch"
   ]
  },
  {
   "cell_type": "markdown",
   "id": "3c6db2d4",
   "metadata": {},
   "source": [
    "In this section, we will take a look at the feature and performance of the [Tianshou Batch](https://github.com/thu-ml/tianshou) library, which is developed by Tsinghua Machine Learning Group."
   ]
  },
  {
   "cell_type": "markdown",
   "id": "069361b0",
   "metadata": {},
   "source": [
    "Before starting the comparison, let us define some thing."
   ]
  },
  {
   "cell_type": "code",
   "execution_count": 1,
   "id": "06fc8d26",
   "metadata": {
    "execution": {
     "iopub.execute_input": "2023-01-29T04:03:10.084391Z",
     "iopub.status.busy": "2023-01-29T04:03:10.083844Z",
     "iopub.status.idle": "2023-01-29T04:03:11.007067Z",
     "shell.execute_reply": "2023-01-29T04:03:11.006392Z"
    }
   },
   "outputs": [
    {
     "name": "stderr",
     "output_type": "stream",
     "text": [
      "/opt/hostedtoolcache/Python/3.8.16/x64/lib/python3.8/site-packages/tqdm/auto.py:22: TqdmWarning: IProgress not found. Please update jupyter and ipywidgets. See https://ipywidgets.readthedocs.io/en/stable/user_install.html\n",
      "  from .autonotebook import tqdm as notebook_tqdm\n"
     ]
    }
   ],
   "source": [
    "import torch \n",
    "\n",
    "_TREE_DATA_1 = {'a': 1, 'b': 2, 'x': {'c': 3, 'd': 4}}\n",
    "_TREE_DATA_2 = {\n",
    "    'a': torch.randn(2, 3), \n",
    "    'x': {\n",
    "        'c': torch.randn(3, 4)\n",
    "    },\n",
    "}\n",
    "_TREE_DATA_3 = {\n",
    "    'obs': torch.randn(4, 84, 84),\n",
    "    'action': torch.randint(0, 6, size=(1,)),\n",
    "    'reward': torch.rand(1),\n",
    "}"
   ]
  },
  {
   "cell_type": "markdown",
   "id": "83461b25",
   "metadata": {},
   "source": [
    "## Read and Write Operation"
   ]
  },
  {
   "cell_type": "markdown",
   "id": "067b3f73",
   "metadata": {},
   "source": [
    "Reading and writing are the two most common operations in the tree data structure based on the data model (TreeValue and Tianshou Batch both belong to this type), so this section will compare the reading and writing performance of these two libraries."
   ]
  },
  {
   "cell_type": "markdown",
   "id": "5d09a5b7",
   "metadata": {},
   "source": [
    "### TreeValue's Get and Set"
   ]
  },
  {
   "cell_type": "code",
   "execution_count": 2,
   "id": "9519c4bb",
   "metadata": {
    "execution": {
     "iopub.execute_input": "2023-01-29T04:03:11.010715Z",
     "iopub.status.busy": "2023-01-29T04:03:11.010132Z",
     "iopub.status.idle": "2023-01-29T04:03:11.042930Z",
     "shell.execute_reply": "2023-01-29T04:03:11.042308Z"
    }
   },
   "outputs": [],
   "source": [
    "from treevalue import FastTreeValue\n",
    "\n",
    "t = FastTreeValue(_TREE_DATA_2)"
   ]
  },
  {
   "cell_type": "code",
   "execution_count": 3,
   "id": "11c37677",
   "metadata": {
    "execution": {
     "iopub.execute_input": "2023-01-29T04:03:11.045878Z",
     "iopub.status.busy": "2023-01-29T04:03:11.045526Z",
     "iopub.status.idle": "2023-01-29T04:03:11.054883Z",
     "shell.execute_reply": "2023-01-29T04:03:11.054309Z"
    }
   },
   "outputs": [
    {
     "data": {
      "text/plain": [
       "<FastTreeValue 0x7f2b1c8fc880>\n",
       "├── 'a' --> tensor([[-1.0470, -0.2211, -0.2071],\n",
       "│                   [ 2.0724,  1.4919, -0.7305]])\n",
       "└── 'x' --> <FastTreeValue 0x7f2b1c8fcfa0>\n",
       "    └── 'c' --> tensor([[ 0.7541, -1.7117,  1.5779,  0.6308],\n",
       "                        [ 0.0764, -1.1738,  0.0334,  0.2999],\n",
       "                        [ 0.2222,  0.7057, -0.2765,  1.3476]])"
      ]
     },
     "execution_count": 3,
     "metadata": {},
     "output_type": "execute_result"
    }
   ],
   "source": [
    "t"
   ]
  },
  {
   "cell_type": "code",
   "execution_count": 4,
   "id": "fd70b0b9",
   "metadata": {
    "execution": {
     "iopub.execute_input": "2023-01-29T04:03:11.057820Z",
     "iopub.status.busy": "2023-01-29T04:03:11.057336Z",
     "iopub.status.idle": "2023-01-29T04:03:11.063138Z",
     "shell.execute_reply": "2023-01-29T04:03:11.062584Z"
    }
   },
   "outputs": [
    {
     "data": {
      "text/plain": [
       "tensor([[-1.0470, -0.2211, -0.2071],\n",
       "        [ 2.0724,  1.4919, -0.7305]])"
      ]
     },
     "execution_count": 4,
     "metadata": {},
     "output_type": "execute_result"
    }
   ],
   "source": [
    "t.a"
   ]
  },
  {
   "cell_type": "code",
   "execution_count": 5,
   "id": "c18197bd",
   "metadata": {
    "execution": {
     "iopub.execute_input": "2023-01-29T04:03:11.065801Z",
     "iopub.status.busy": "2023-01-29T04:03:11.065474Z",
     "iopub.status.idle": "2023-01-29T04:03:16.511635Z",
     "shell.execute_reply": "2023-01-29T04:03:16.510888Z"
    }
   },
   "outputs": [
    {
     "name": "stdout",
     "output_type": "stream",
     "text": [
      "67.2 ns ± 0.088 ns per loop (mean ± std. dev. of 7 runs, 10,000,000 loops each)\n"
     ]
    }
   ],
   "source": [
    "%timeit t.a"
   ]
  },
  {
   "cell_type": "code",
   "execution_count": 6,
   "id": "bd52f867",
   "metadata": {
    "execution": {
     "iopub.execute_input": "2023-01-29T04:03:16.514695Z",
     "iopub.status.busy": "2023-01-29T04:03:16.514201Z",
     "iopub.status.idle": "2023-01-29T04:03:16.520950Z",
     "shell.execute_reply": "2023-01-29T04:03:16.520365Z"
    }
   },
   "outputs": [
    {
     "data": {
      "text/plain": [
       "<FastTreeValue 0x7f2b1c8fc880>\n",
       "├── 'a' --> tensor([[ 1.4961,  0.6228, -2.0567],\n",
       "│                   [ 0.2532,  0.2260,  0.3338]])\n",
       "└── 'x' --> <FastTreeValue 0x7f2b1c8fcfa0>\n",
       "    └── 'c' --> tensor([[ 0.7541, -1.7117,  1.5779,  0.6308],\n",
       "                        [ 0.0764, -1.1738,  0.0334,  0.2999],\n",
       "                        [ 0.2222,  0.7057, -0.2765,  1.3476]])"
      ]
     },
     "execution_count": 6,
     "metadata": {},
     "output_type": "execute_result"
    }
   ],
   "source": [
    "new_value = torch.randn(2, 3)\n",
    "t.a = new_value\n",
    "\n",
    "t"
   ]
  },
  {
   "cell_type": "code",
   "execution_count": 7,
   "id": "bbe04d1c",
   "metadata": {
    "execution": {
     "iopub.execute_input": "2023-01-29T04:03:16.523327Z",
     "iopub.status.busy": "2023-01-29T04:03:16.522983Z",
     "iopub.status.idle": "2023-01-29T04:03:22.062797Z",
     "shell.execute_reply": "2023-01-29T04:03:22.062055Z"
    }
   },
   "outputs": [
    {
     "name": "stdout",
     "output_type": "stream",
     "text": [
      "68.1 ns ± 0.11 ns per loop (mean ± std. dev. of 7 runs, 10,000,000 loops each)\n"
     ]
    }
   ],
   "source": [
    "%timeit t.a = new_value"
   ]
  },
  {
   "cell_type": "markdown",
   "id": "48c49731",
   "metadata": {},
   "source": [
    "### Tianshou Batch's Get and Set"
   ]
  },
  {
   "cell_type": "code",
   "execution_count": 8,
   "id": "f1bb14c1",
   "metadata": {
    "execution": {
     "iopub.execute_input": "2023-01-29T04:03:22.065698Z",
     "iopub.status.busy": "2023-01-29T04:03:22.065344Z",
     "iopub.status.idle": "2023-01-29T04:03:22.390956Z",
     "shell.execute_reply": "2023-01-29T04:03:22.390290Z"
    }
   },
   "outputs": [],
   "source": [
    "from tianshou.data import Batch\n",
    "\n",
    "b = Batch(**_TREE_DATA_2)"
   ]
  },
  {
   "cell_type": "code",
   "execution_count": 9,
   "id": "cb0777c3",
   "metadata": {
    "execution": {
     "iopub.execute_input": "2023-01-29T04:03:22.394505Z",
     "iopub.status.busy": "2023-01-29T04:03:22.393799Z",
     "iopub.status.idle": "2023-01-29T04:03:22.399316Z",
     "shell.execute_reply": "2023-01-29T04:03:22.398708Z"
    }
   },
   "outputs": [
    {
     "data": {
      "text/plain": [
       "Batch(\n",
       "    a: tensor([[-1.0470, -0.2211, -0.2071],\n",
       "               [ 2.0724,  1.4919, -0.7305]]),\n",
       "    x: Batch(\n",
       "           c: tensor([[ 0.7541, -1.7117,  1.5779,  0.6308],\n",
       "                      [ 0.0764, -1.1738,  0.0334,  0.2999],\n",
       "                      [ 0.2222,  0.7057, -0.2765,  1.3476]]),\n",
       "       ),\n",
       ")"
      ]
     },
     "execution_count": 9,
     "metadata": {},
     "output_type": "execute_result"
    }
   ],
   "source": [
    "b"
   ]
  },
  {
   "cell_type": "code",
   "execution_count": 10,
   "id": "43ef8ea3",
   "metadata": {
    "execution": {
     "iopub.execute_input": "2023-01-29T04:03:22.401692Z",
     "iopub.status.busy": "2023-01-29T04:03:22.401357Z",
     "iopub.status.idle": "2023-01-29T04:03:22.405910Z",
     "shell.execute_reply": "2023-01-29T04:03:22.405312Z"
    }
   },
   "outputs": [
    {
     "data": {
      "text/plain": [
       "tensor([[-1.0470, -0.2211, -0.2071],\n",
       "        [ 2.0724,  1.4919, -0.7305]])"
      ]
     },
     "execution_count": 10,
     "metadata": {},
     "output_type": "execute_result"
    }
   ],
   "source": [
    "b.a"
   ]
  },
  {
   "cell_type": "code",
   "execution_count": 11,
   "id": "b785ab72",
   "metadata": {
    "execution": {
     "iopub.execute_input": "2023-01-29T04:03:22.408248Z",
     "iopub.status.busy": "2023-01-29T04:03:22.407912Z",
     "iopub.status.idle": "2023-01-29T04:03:27.420547Z",
     "shell.execute_reply": "2023-01-29T04:03:27.419808Z"
    }
   },
   "outputs": [
    {
     "name": "stdout",
     "output_type": "stream",
     "text": [
      "62.1 ns ± 0.0165 ns per loop (mean ± std. dev. of 7 runs, 10,000,000 loops each)\n"
     ]
    }
   ],
   "source": [
    "%timeit b.a"
   ]
  },
  {
   "cell_type": "code",
   "execution_count": 12,
   "id": "ad54dc69",
   "metadata": {
    "execution": {
     "iopub.execute_input": "2023-01-29T04:03:27.423390Z",
     "iopub.status.busy": "2023-01-29T04:03:27.422876Z",
     "iopub.status.idle": "2023-01-29T04:03:27.428554Z",
     "shell.execute_reply": "2023-01-29T04:03:27.427937Z"
    }
   },
   "outputs": [
    {
     "data": {
      "text/plain": [
       "Batch(\n",
       "    a: tensor([[ 0.7030, -0.7632, -1.6972],\n",
       "               [ 1.2143,  0.3952, -0.7108]]),\n",
       "    x: Batch(\n",
       "           c: tensor([[ 0.7541, -1.7117,  1.5779,  0.6308],\n",
       "                      [ 0.0764, -1.1738,  0.0334,  0.2999],\n",
       "                      [ 0.2222,  0.7057, -0.2765,  1.3476]]),\n",
       "       ),\n",
       ")"
      ]
     },
     "execution_count": 12,
     "metadata": {},
     "output_type": "execute_result"
    }
   ],
   "source": [
    "new_value = torch.randn(2, 3)\n",
    "b.a = new_value\n",
    "\n",
    "b"
   ]
  },
  {
   "cell_type": "code",
   "execution_count": 13,
   "id": "29b1d0bf",
   "metadata": {
    "execution": {
     "iopub.execute_input": "2023-01-29T04:03:27.430963Z",
     "iopub.status.busy": "2023-01-29T04:03:27.430623Z",
     "iopub.status.idle": "2023-01-29T04:03:31.386040Z",
     "shell.execute_reply": "2023-01-29T04:03:31.385370Z"
    }
   },
   "outputs": [
    {
     "name": "stdout",
     "output_type": "stream",
     "text": [
      "487 ns ± 0.121 ns per loop (mean ± std. dev. of 7 runs, 1,000,000 loops each)\n"
     ]
    }
   ],
   "source": [
    "%timeit b.a = new_value"
   ]
  },
  {
   "cell_type": "markdown",
   "id": "b61ad1d0",
   "metadata": {},
   "source": [
    "## Initialization"
   ]
  },
  {
   "cell_type": "markdown",
   "id": "d70f0d54",
   "metadata": {},
   "source": [
    "### TreeValue's Initialization"
   ]
  },
  {
   "cell_type": "code",
   "execution_count": 14,
   "id": "d32a679b",
   "metadata": {
    "execution": {
     "iopub.execute_input": "2023-01-29T04:03:31.388728Z",
     "iopub.status.busy": "2023-01-29T04:03:31.388358Z",
     "iopub.status.idle": "2023-01-29T04:03:38.296655Z",
     "shell.execute_reply": "2023-01-29T04:03:38.295980Z"
    }
   },
   "outputs": [
    {
     "name": "stdout",
     "output_type": "stream",
     "text": [
      "850 ns ± 0.0647 ns per loop (mean ± std. dev. of 7 runs, 1,000,000 loops each)\n"
     ]
    }
   ],
   "source": [
    "%timeit FastTreeValue(_TREE_DATA_1)"
   ]
  },
  {
   "cell_type": "markdown",
   "id": "24f3707b",
   "metadata": {},
   "source": [
    "### Tianshou Batch's Initialization"
   ]
  },
  {
   "cell_type": "code",
   "execution_count": 15,
   "id": "ac3958df",
   "metadata": {
    "execution": {
     "iopub.execute_input": "2023-01-29T04:03:38.299300Z",
     "iopub.status.busy": "2023-01-29T04:03:38.298933Z",
     "iopub.status.idle": "2023-01-29T04:03:47.640190Z",
     "shell.execute_reply": "2023-01-29T04:03:47.639517Z"
    }
   },
   "outputs": [
    {
     "name": "stdout",
     "output_type": "stream",
     "text": [
      "11.5 µs ± 13.8 ns per loop (mean ± std. dev. of 7 runs, 100,000 loops each)\n"
     ]
    }
   ],
   "source": [
    "%timeit Batch(**_TREE_DATA_1)"
   ]
  },
  {
   "cell_type": "markdown",
   "id": "1ab82e2d",
   "metadata": {},
   "source": [
    "## Deep Copy Operation"
   ]
  },
  {
   "cell_type": "code",
   "execution_count": 16,
   "id": "210a9442",
   "metadata": {
    "execution": {
     "iopub.execute_input": "2023-01-29T04:03:47.643029Z",
     "iopub.status.busy": "2023-01-29T04:03:47.642447Z",
     "iopub.status.idle": "2023-01-29T04:03:47.645681Z",
     "shell.execute_reply": "2023-01-29T04:03:47.645029Z"
    }
   },
   "outputs": [],
   "source": [
    "import copy"
   ]
  },
  {
   "cell_type": "markdown",
   "id": "5a736274",
   "metadata": {},
   "source": [
    "### Deep Copy of TreeValue"
   ]
  },
  {
   "cell_type": "code",
   "execution_count": 17,
   "id": "f9bcadd6",
   "metadata": {
    "execution": {
     "iopub.execute_input": "2023-01-29T04:03:47.648142Z",
     "iopub.status.busy": "2023-01-29T04:03:47.647822Z",
     "iopub.status.idle": "2023-01-29T04:03:58.828159Z",
     "shell.execute_reply": "2023-01-29T04:03:58.827618Z"
    }
   },
   "outputs": [
    {
     "name": "stdout",
     "output_type": "stream",
     "text": [
      "138 µs ± 565 ns per loop (mean ± std. dev. of 7 runs, 10,000 loops each)\n"
     ]
    }
   ],
   "source": [
    "t3 = FastTreeValue(_TREE_DATA_3)\n",
    "%timeit copy.deepcopy(t3)"
   ]
  },
  {
   "cell_type": "markdown",
   "id": "bf8be7ea",
   "metadata": {},
   "source": [
    "### Deep Copy of Tianshou Batch"
   ]
  },
  {
   "cell_type": "code",
   "execution_count": 18,
   "id": "91998e6f",
   "metadata": {
    "execution": {
     "iopub.execute_input": "2023-01-29T04:03:58.831657Z",
     "iopub.status.busy": "2023-01-29T04:03:58.830705Z",
     "iopub.status.idle": "2023-01-29T04:04:10.227077Z",
     "shell.execute_reply": "2023-01-29T04:04:10.226488Z"
    }
   },
   "outputs": [
    {
     "name": "stdout",
     "output_type": "stream",
     "text": [
      "140 µs ± 486 ns per loop (mean ± std. dev. of 7 runs, 10,000 loops each)\n"
     ]
    }
   ],
   "source": [
    "b3 = Batch(**_TREE_DATA_3)\n",
    "%timeit copy.deepcopy(b3)"
   ]
  },
  {
   "cell_type": "markdown",
   "id": "223162fb",
   "metadata": {},
   "source": [
    "## Stack, Concat and Split Operation"
   ]
  },
  {
   "cell_type": "markdown",
   "id": "85fa4a73",
   "metadata": {},
   "source": [
    "### Performance of TreeValue"
   ]
  },
  {
   "cell_type": "code",
   "execution_count": 19,
   "id": "a0c2b697",
   "metadata": {
    "execution": {
     "iopub.execute_input": "2023-01-29T04:04:10.230364Z",
     "iopub.status.busy": "2023-01-29T04:04:10.229860Z",
     "iopub.status.idle": "2023-01-29T04:04:10.234166Z",
     "shell.execute_reply": "2023-01-29T04:04:10.233648Z"
    }
   },
   "outputs": [],
   "source": [
    "trees = [FastTreeValue(_TREE_DATA_2) for _ in range(8)]"
   ]
  },
  {
   "cell_type": "code",
   "execution_count": 20,
   "id": "017ea5a5",
   "metadata": {
    "execution": {
     "iopub.execute_input": "2023-01-29T04:04:10.237037Z",
     "iopub.status.busy": "2023-01-29T04:04:10.236629Z",
     "iopub.status.idle": "2023-01-29T04:04:10.245370Z",
     "shell.execute_reply": "2023-01-29T04:04:10.244837Z"
    }
   },
   "outputs": [
    {
     "data": {
      "text/plain": [
       "<FastTreeValue 0x7f2a6d5949a0>\n",
       "├── 'a' --> tensor([[[-1.0470, -0.2211, -0.2071],\n",
       "│                    [ 2.0724,  1.4919, -0.7305]],\n",
       "│           \n",
       "│                   [[-1.0470, -0.2211, -0.2071],\n",
       "│                    [ 2.0724,  1.4919, -0.7305]],\n",
       "│           \n",
       "│                   [[-1.0470, -0.2211, -0.2071],\n",
       "│                    [ 2.0724,  1.4919, -0.7305]],\n",
       "│           \n",
       "│                   [[-1.0470, -0.2211, -0.2071],\n",
       "│                    [ 2.0724,  1.4919, -0.7305]],\n",
       "│           \n",
       "│                   [[-1.0470, -0.2211, -0.2071],\n",
       "│                    [ 2.0724,  1.4919, -0.7305]],\n",
       "│           \n",
       "│                   [[-1.0470, -0.2211, -0.2071],\n",
       "│                    [ 2.0724,  1.4919, -0.7305]],\n",
       "│           \n",
       "│                   [[-1.0470, -0.2211, -0.2071],\n",
       "│                    [ 2.0724,  1.4919, -0.7305]],\n",
       "│           \n",
       "│                   [[-1.0470, -0.2211, -0.2071],\n",
       "│                    [ 2.0724,  1.4919, -0.7305]]])\n",
       "└── 'x' --> <FastTreeValue 0x7f2a6d594940>\n",
       "    └── 'c' --> tensor([[[ 0.7541, -1.7117,  1.5779,  0.6308],\n",
       "                         [ 0.0764, -1.1738,  0.0334,  0.2999],\n",
       "                         [ 0.2222,  0.7057, -0.2765,  1.3476]],\n",
       "                \n",
       "                        [[ 0.7541, -1.7117,  1.5779,  0.6308],\n",
       "                         [ 0.0764, -1.1738,  0.0334,  0.2999],\n",
       "                         [ 0.2222,  0.7057, -0.2765,  1.3476]],\n",
       "                \n",
       "                        [[ 0.7541, -1.7117,  1.5779,  0.6308],\n",
       "                         [ 0.0764, -1.1738,  0.0334,  0.2999],\n",
       "                         [ 0.2222,  0.7057, -0.2765,  1.3476]],\n",
       "                \n",
       "                        [[ 0.7541, -1.7117,  1.5779,  0.6308],\n",
       "                         [ 0.0764, -1.1738,  0.0334,  0.2999],\n",
       "                         [ 0.2222,  0.7057, -0.2765,  1.3476]],\n",
       "                \n",
       "                        [[ 0.7541, -1.7117,  1.5779,  0.6308],\n",
       "                         [ 0.0764, -1.1738,  0.0334,  0.2999],\n",
       "                         [ 0.2222,  0.7057, -0.2765,  1.3476]],\n",
       "                \n",
       "                        [[ 0.7541, -1.7117,  1.5779,  0.6308],\n",
       "                         [ 0.0764, -1.1738,  0.0334,  0.2999],\n",
       "                         [ 0.2222,  0.7057, -0.2765,  1.3476]],\n",
       "                \n",
       "                        [[ 0.7541, -1.7117,  1.5779,  0.6308],\n",
       "                         [ 0.0764, -1.1738,  0.0334,  0.2999],\n",
       "                         [ 0.2222,  0.7057, -0.2765,  1.3476]],\n",
       "                \n",
       "                        [[ 0.7541, -1.7117,  1.5779,  0.6308],\n",
       "                         [ 0.0764, -1.1738,  0.0334,  0.2999],\n",
       "                         [ 0.2222,  0.7057, -0.2765,  1.3476]]])"
      ]
     },
     "execution_count": 20,
     "metadata": {},
     "output_type": "execute_result"
    }
   ],
   "source": [
    "t_stack = FastTreeValue.func(subside=True)(torch.stack)\n",
    "\n",
    "t_stack(trees)"
   ]
  },
  {
   "cell_type": "code",
   "execution_count": 21,
   "id": "f8b3f415",
   "metadata": {
    "execution": {
     "iopub.execute_input": "2023-01-29T04:04:10.248252Z",
     "iopub.status.busy": "2023-01-29T04:04:10.247842Z",
     "iopub.status.idle": "2023-01-29T04:04:12.844938Z",
     "shell.execute_reply": "2023-01-29T04:04:12.843102Z"
    }
   },
   "outputs": [
    {
     "name": "stdout",
     "output_type": "stream",
     "text": [
      "31.9 µs ± 75.6 ns per loop (mean ± std. dev. of 7 runs, 10,000 loops each)\n"
     ]
    }
   ],
   "source": [
    "%timeit t_stack(trees)"
   ]
  },
  {
   "cell_type": "code",
   "execution_count": 22,
   "id": "94b56771",
   "metadata": {
    "execution": {
     "iopub.execute_input": "2023-01-29T04:04:12.848002Z",
     "iopub.status.busy": "2023-01-29T04:04:12.847463Z",
     "iopub.status.idle": "2023-01-29T04:04:12.855983Z",
     "shell.execute_reply": "2023-01-29T04:04:12.855338Z"
    }
   },
   "outputs": [
    {
     "data": {
      "text/plain": [
       "<FastTreeValue 0x7f2a7419baf0>\n",
       "├── 'a' --> tensor([[-1.0470, -0.2211, -0.2071],\n",
       "│                   [ 2.0724,  1.4919, -0.7305],\n",
       "│                   [-1.0470, -0.2211, -0.2071],\n",
       "│                   [ 2.0724,  1.4919, -0.7305],\n",
       "│                   [-1.0470, -0.2211, -0.2071],\n",
       "│                   [ 2.0724,  1.4919, -0.7305],\n",
       "│                   [-1.0470, -0.2211, -0.2071],\n",
       "│                   [ 2.0724,  1.4919, -0.7305],\n",
       "│                   [-1.0470, -0.2211, -0.2071],\n",
       "│                   [ 2.0724,  1.4919, -0.7305],\n",
       "│                   [-1.0470, -0.2211, -0.2071],\n",
       "│                   [ 2.0724,  1.4919, -0.7305],\n",
       "│                   [-1.0470, -0.2211, -0.2071],\n",
       "│                   [ 2.0724,  1.4919, -0.7305],\n",
       "│                   [-1.0470, -0.2211, -0.2071],\n",
       "│                   [ 2.0724,  1.4919, -0.7305]])\n",
       "└── 'x' --> <FastTreeValue 0x7f2b18871ee0>\n",
       "    └── 'c' --> tensor([[ 0.7541, -1.7117,  1.5779,  0.6308],\n",
       "                        [ 0.0764, -1.1738,  0.0334,  0.2999],\n",
       "                        [ 0.2222,  0.7057, -0.2765,  1.3476],\n",
       "                        [ 0.7541, -1.7117,  1.5779,  0.6308],\n",
       "                        [ 0.0764, -1.1738,  0.0334,  0.2999],\n",
       "                        [ 0.2222,  0.7057, -0.2765,  1.3476],\n",
       "                        [ 0.7541, -1.7117,  1.5779,  0.6308],\n",
       "                        [ 0.0764, -1.1738,  0.0334,  0.2999],\n",
       "                        [ 0.2222,  0.7057, -0.2765,  1.3476],\n",
       "                        [ 0.7541, -1.7117,  1.5779,  0.6308],\n",
       "                        [ 0.0764, -1.1738,  0.0334,  0.2999],\n",
       "                        [ 0.2222,  0.7057, -0.2765,  1.3476],\n",
       "                        [ 0.7541, -1.7117,  1.5779,  0.6308],\n",
       "                        [ 0.0764, -1.1738,  0.0334,  0.2999],\n",
       "                        [ 0.2222,  0.7057, -0.2765,  1.3476],\n",
       "                        [ 0.7541, -1.7117,  1.5779,  0.6308],\n",
       "                        [ 0.0764, -1.1738,  0.0334,  0.2999],\n",
       "                        [ 0.2222,  0.7057, -0.2765,  1.3476],\n",
       "                        [ 0.7541, -1.7117,  1.5779,  0.6308],\n",
       "                        [ 0.0764, -1.1738,  0.0334,  0.2999],\n",
       "                        [ 0.2222,  0.7057, -0.2765,  1.3476],\n",
       "                        [ 0.7541, -1.7117,  1.5779,  0.6308],\n",
       "                        [ 0.0764, -1.1738,  0.0334,  0.2999],\n",
       "                        [ 0.2222,  0.7057, -0.2765,  1.3476]])"
      ]
     },
     "execution_count": 22,
     "metadata": {},
     "output_type": "execute_result"
    }
   ],
   "source": [
    "t_cat = FastTreeValue.func(subside=True)(torch.cat)\n",
    "\n",
    "t_cat(trees)"
   ]
  },
  {
   "cell_type": "code",
   "execution_count": 23,
   "id": "5e9c06a6",
   "metadata": {
    "execution": {
     "iopub.execute_input": "2023-01-29T04:04:12.858806Z",
     "iopub.status.busy": "2023-01-29T04:04:12.858172Z",
     "iopub.status.idle": "2023-01-29T04:04:15.321596Z",
     "shell.execute_reply": "2023-01-29T04:04:15.320835Z"
    }
   },
   "outputs": [
    {
     "name": "stdout",
     "output_type": "stream",
     "text": [
      "30.3 µs ± 98.7 ns per loop (mean ± std. dev. of 7 runs, 10,000 loops each)\n"
     ]
    }
   ],
   "source": [
    "%timeit t_cat(trees)"
   ]
  },
  {
   "cell_type": "code",
   "execution_count": 24,
   "id": "a3ab5c8f",
   "metadata": {
    "execution": {
     "iopub.execute_input": "2023-01-29T04:04:15.324331Z",
     "iopub.status.busy": "2023-01-29T04:04:15.323978Z",
     "iopub.status.idle": "2023-01-29T04:04:19.909419Z",
     "shell.execute_reply": "2023-01-29T04:04:19.908673Z"
    }
   },
   "outputs": [
    {
     "name": "stdout",
     "output_type": "stream",
     "text": [
      "56.4 µs ± 326 ns per loop (mean ± std. dev. of 7 runs, 10,000 loops each)\n"
     ]
    }
   ],
   "source": [
    "t_split = FastTreeValue.func(rise=True)(torch.split)\n",
    "tree = FastTreeValue({\n",
    "    'obs': torch.randn(8, 4, 84, 84),\n",
    "    'action': torch.randint(0, 6, size=(8, 1,)),\n",
    "    'reward': torch.rand(8, 1),\n",
    "})\n",
    "\n",
    "%timeit t_split(tree, 1)"
   ]
  },
  {
   "cell_type": "markdown",
   "id": "31c3ec0b",
   "metadata": {},
   "source": [
    "### Performance of Tianshou Batch"
   ]
  },
  {
   "cell_type": "code",
   "execution_count": 25,
   "id": "9ead828a",
   "metadata": {
    "execution": {
     "iopub.execute_input": "2023-01-29T04:04:19.912466Z",
     "iopub.status.busy": "2023-01-29T04:04:19.912100Z",
     "iopub.status.idle": "2023-01-29T04:04:19.920941Z",
     "shell.execute_reply": "2023-01-29T04:04:19.920326Z"
    }
   },
   "outputs": [
    {
     "data": {
      "text/plain": [
       "Batch(\n",
       "    a: tensor([[[-1.0470, -0.2211, -0.2071],\n",
       "                [ 2.0724,  1.4919, -0.7305]],\n",
       "       \n",
       "               [[-1.0470, -0.2211, -0.2071],\n",
       "                [ 2.0724,  1.4919, -0.7305]],\n",
       "       \n",
       "               [[-1.0470, -0.2211, -0.2071],\n",
       "                [ 2.0724,  1.4919, -0.7305]],\n",
       "       \n",
       "               [[-1.0470, -0.2211, -0.2071],\n",
       "                [ 2.0724,  1.4919, -0.7305]],\n",
       "       \n",
       "               [[-1.0470, -0.2211, -0.2071],\n",
       "                [ 2.0724,  1.4919, -0.7305]],\n",
       "       \n",
       "               [[-1.0470, -0.2211, -0.2071],\n",
       "                [ 2.0724,  1.4919, -0.7305]],\n",
       "       \n",
       "               [[-1.0470, -0.2211, -0.2071],\n",
       "                [ 2.0724,  1.4919, -0.7305]],\n",
       "       \n",
       "               [[-1.0470, -0.2211, -0.2071],\n",
       "                [ 2.0724,  1.4919, -0.7305]]]),\n",
       "    x: Batch(\n",
       "           c: tensor([[[ 0.7541, -1.7117,  1.5779,  0.6308],\n",
       "                       [ 0.0764, -1.1738,  0.0334,  0.2999],\n",
       "                       [ 0.2222,  0.7057, -0.2765,  1.3476]],\n",
       "              \n",
       "                      [[ 0.7541, -1.7117,  1.5779,  0.6308],\n",
       "                       [ 0.0764, -1.1738,  0.0334,  0.2999],\n",
       "                       [ 0.2222,  0.7057, -0.2765,  1.3476]],\n",
       "              \n",
       "                      [[ 0.7541, -1.7117,  1.5779,  0.6308],\n",
       "                       [ 0.0764, -1.1738,  0.0334,  0.2999],\n",
       "                       [ 0.2222,  0.7057, -0.2765,  1.3476]],\n",
       "              \n",
       "                      [[ 0.7541, -1.7117,  1.5779,  0.6308],\n",
       "                       [ 0.0764, -1.1738,  0.0334,  0.2999],\n",
       "                       [ 0.2222,  0.7057, -0.2765,  1.3476]],\n",
       "              \n",
       "                      [[ 0.7541, -1.7117,  1.5779,  0.6308],\n",
       "                       [ 0.0764, -1.1738,  0.0334,  0.2999],\n",
       "                       [ 0.2222,  0.7057, -0.2765,  1.3476]],\n",
       "              \n",
       "                      [[ 0.7541, -1.7117,  1.5779,  0.6308],\n",
       "                       [ 0.0764, -1.1738,  0.0334,  0.2999],\n",
       "                       [ 0.2222,  0.7057, -0.2765,  1.3476]],\n",
       "              \n",
       "                      [[ 0.7541, -1.7117,  1.5779,  0.6308],\n",
       "                       [ 0.0764, -1.1738,  0.0334,  0.2999],\n",
       "                       [ 0.2222,  0.7057, -0.2765,  1.3476]],\n",
       "              \n",
       "                      [[ 0.7541, -1.7117,  1.5779,  0.6308],\n",
       "                       [ 0.0764, -1.1738,  0.0334,  0.2999],\n",
       "                       [ 0.2222,  0.7057, -0.2765,  1.3476]]]),\n",
       "       ),\n",
       ")"
      ]
     },
     "execution_count": 25,
     "metadata": {},
     "output_type": "execute_result"
    }
   ],
   "source": [
    "batches = [Batch(**_TREE_DATA_2) for _ in range(8)]\n",
    "\n",
    "Batch.stack(batches)"
   ]
  },
  {
   "cell_type": "code",
   "execution_count": 26,
   "id": "ec9037a3",
   "metadata": {
    "execution": {
     "iopub.execute_input": "2023-01-29T04:04:19.923919Z",
     "iopub.status.busy": "2023-01-29T04:04:19.923427Z",
     "iopub.status.idle": "2023-01-29T04:04:26.311045Z",
     "shell.execute_reply": "2023-01-29T04:04:26.310299Z"
    }
   },
   "outputs": [
    {
     "name": "stdout",
     "output_type": "stream",
     "text": [
      "78.6 µs ± 111 ns per loop (mean ± std. dev. of 7 runs, 10,000 loops each)\n"
     ]
    }
   ],
   "source": [
    "%timeit Batch.stack(batches)"
   ]
  },
  {
   "cell_type": "code",
   "execution_count": 27,
   "id": "cb8ab77e",
   "metadata": {
    "execution": {
     "iopub.execute_input": "2023-01-29T04:04:26.313785Z",
     "iopub.status.busy": "2023-01-29T04:04:26.313441Z",
     "iopub.status.idle": "2023-01-29T04:04:26.320790Z",
     "shell.execute_reply": "2023-01-29T04:04:26.320212Z"
    }
   },
   "outputs": [
    {
     "data": {
      "text/plain": [
       "Batch(\n",
       "    a: tensor([[-1.0470, -0.2211, -0.2071],\n",
       "               [ 2.0724,  1.4919, -0.7305],\n",
       "               [-1.0470, -0.2211, -0.2071],\n",
       "               [ 2.0724,  1.4919, -0.7305],\n",
       "               [-1.0470, -0.2211, -0.2071],\n",
       "               [ 2.0724,  1.4919, -0.7305],\n",
       "               [-1.0470, -0.2211, -0.2071],\n",
       "               [ 2.0724,  1.4919, -0.7305],\n",
       "               [-1.0470, -0.2211, -0.2071],\n",
       "               [ 2.0724,  1.4919, -0.7305],\n",
       "               [-1.0470, -0.2211, -0.2071],\n",
       "               [ 2.0724,  1.4919, -0.7305],\n",
       "               [-1.0470, -0.2211, -0.2071],\n",
       "               [ 2.0724,  1.4919, -0.7305],\n",
       "               [-1.0470, -0.2211, -0.2071],\n",
       "               [ 2.0724,  1.4919, -0.7305]]),\n",
       "    x: Batch(\n",
       "           c: tensor([[ 0.7541, -1.7117,  1.5779,  0.6308],\n",
       "                      [ 0.0764, -1.1738,  0.0334,  0.2999],\n",
       "                      [ 0.2222,  0.7057, -0.2765,  1.3476],\n",
       "                      [ 0.7541, -1.7117,  1.5779,  0.6308],\n",
       "                      [ 0.0764, -1.1738,  0.0334,  0.2999],\n",
       "                      [ 0.2222,  0.7057, -0.2765,  1.3476],\n",
       "                      [ 0.7541, -1.7117,  1.5779,  0.6308],\n",
       "                      [ 0.0764, -1.1738,  0.0334,  0.2999],\n",
       "                      [ 0.2222,  0.7057, -0.2765,  1.3476],\n",
       "                      [ 0.7541, -1.7117,  1.5779,  0.6308],\n",
       "                      [ 0.0764, -1.1738,  0.0334,  0.2999],\n",
       "                      [ 0.2222,  0.7057, -0.2765,  1.3476],\n",
       "                      [ 0.7541, -1.7117,  1.5779,  0.6308],\n",
       "                      [ 0.0764, -1.1738,  0.0334,  0.2999],\n",
       "                      [ 0.2222,  0.7057, -0.2765,  1.3476],\n",
       "                      [ 0.7541, -1.7117,  1.5779,  0.6308],\n",
       "                      [ 0.0764, -1.1738,  0.0334,  0.2999],\n",
       "                      [ 0.2222,  0.7057, -0.2765,  1.3476],\n",
       "                      [ 0.7541, -1.7117,  1.5779,  0.6308],\n",
       "                      [ 0.0764, -1.1738,  0.0334,  0.2999],\n",
       "                      [ 0.2222,  0.7057, -0.2765,  1.3476],\n",
       "                      [ 0.7541, -1.7117,  1.5779,  0.6308],\n",
       "                      [ 0.0764, -1.1738,  0.0334,  0.2999],\n",
       "                      [ 0.2222,  0.7057, -0.2765,  1.3476]]),\n",
       "       ),\n",
       ")"
      ]
     },
     "execution_count": 27,
     "metadata": {},
     "output_type": "execute_result"
    }
   ],
   "source": [
    "Batch.cat(batches)"
   ]
  },
  {
   "cell_type": "code",
   "execution_count": 28,
   "id": "18dfb045",
   "metadata": {
    "execution": {
     "iopub.execute_input": "2023-01-29T04:04:26.323203Z",
     "iopub.status.busy": "2023-01-29T04:04:26.322848Z",
     "iopub.status.idle": "2023-01-29T04:04:37.965310Z",
     "shell.execute_reply": "2023-01-29T04:04:37.964560Z"
    }
   },
   "outputs": [
    {
     "name": "stdout",
     "output_type": "stream",
     "text": [
      "143 µs ± 201 ns per loop (mean ± std. dev. of 7 runs, 10,000 loops each)\n"
     ]
    }
   ],
   "source": [
    "%timeit Batch.cat(batches)"
   ]
  },
  {
   "cell_type": "code",
   "execution_count": 29,
   "id": "c6688e51",
   "metadata": {
    "execution": {
     "iopub.execute_input": "2023-01-29T04:04:37.968255Z",
     "iopub.status.busy": "2023-01-29T04:04:37.967907Z",
     "iopub.status.idle": "2023-01-29T04:04:40.539158Z",
     "shell.execute_reply": "2023-01-29T04:04:40.538588Z"
    }
   },
   "outputs": [
    {
     "name": "stdout",
     "output_type": "stream",
     "text": [
      "314 µs ± 953 ns per loop (mean ± std. dev. of 7 runs, 1,000 loops each)\n"
     ]
    }
   ],
   "source": [
    "batch = Batch({\n",
    "    'obs': torch.randn(8, 4, 84, 84),\n",
    "    'action': torch.randint(0, 6, size=(8, 1,)),\n",
    "    'reward': torch.rand(8, 1)}\n",
    ")\n",
    "\n",
    "%timeit list(Batch.split(batch, 1, shuffle=False, merge_last=True))"
   ]
  },
  {
   "cell_type": "code",
   "execution_count": null,
   "id": "2539fbd9",
   "metadata": {},
   "outputs": [],
   "source": []
  }
 ],
 "metadata": {
  "kernelspec": {
   "display_name": "Python 3 (ipykernel)",
   "language": "python",
   "name": "python3"
  },
  "language_info": {
   "codemirror_mode": {
    "name": "ipython",
    "version": 3
   },
   "file_extension": ".py",
   "mimetype": "text/x-python",
   "name": "python",
   "nbconvert_exporter": "python",
   "pygments_lexer": "ipython3",
   "version": "3.8.16"
  }
 },
 "nbformat": 4,
 "nbformat_minor": 5
}
