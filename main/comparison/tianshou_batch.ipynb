{
 "cells": [
  {
   "cell_type": "markdown",
   "id": "9d39d946",
   "metadata": {},
   "source": [
    "# Comparison Between TreeValue and Tianshou Batch"
   ]
  },
  {
   "cell_type": "markdown",
   "id": "3c6db2d4",
   "metadata": {},
   "source": [
    "In this section, we will take a look at the feature and performance of the [Tianshou Batch](https://github.com/thu-ml/tianshou) library, which is developed by Tsinghua Machine Learning Group."
   ]
  },
  {
   "cell_type": "markdown",
   "id": "069361b0",
   "metadata": {},
   "source": [
    "Before starting the comparison, let us define some thing."
   ]
  },
  {
   "cell_type": "code",
   "execution_count": 1,
   "id": "06fc8d26",
   "metadata": {
    "execution": {
     "iopub.execute_input": "2023-02-27T13:34:57.118527Z",
     "iopub.status.busy": "2023-02-27T13:34:57.117782Z",
     "iopub.status.idle": "2023-02-27T13:34:58.268495Z",
     "shell.execute_reply": "2023-02-27T13:34:58.267515Z"
    }
   },
   "outputs": [
    {
     "name": "stderr",
     "output_type": "stream",
     "text": [
      "/opt/hostedtoolcache/Python/3.8.16/x64/lib/python3.8/site-packages/tqdm/auto.py:22: TqdmWarning: IProgress not found. Please update jupyter and ipywidgets. See https://ipywidgets.readthedocs.io/en/stable/user_install.html\n",
      "  from .autonotebook import tqdm as notebook_tqdm\n"
     ]
    }
   ],
   "source": [
    "import torch \n",
    "\n",
    "_TREE_DATA_1 = {'a': 1, 'b': 2, 'x': {'c': 3, 'd': 4}}\n",
    "_TREE_DATA_2 = {\n",
    "    'a': torch.randn(2, 3), \n",
    "    'x': {\n",
    "        'c': torch.randn(3, 4)\n",
    "    },\n",
    "}\n",
    "_TREE_DATA_3 = {\n",
    "    'obs': torch.randn(4, 84, 84),\n",
    "    'action': torch.randint(0, 6, size=(1,)),\n",
    "    'reward': torch.rand(1),\n",
    "}"
   ]
  },
  {
   "cell_type": "markdown",
   "id": "83461b25",
   "metadata": {},
   "source": [
    "## Read and Write Operation"
   ]
  },
  {
   "cell_type": "markdown",
   "id": "067b3f73",
   "metadata": {},
   "source": [
    "Reading and writing are the two most common operations in the tree data structure based on the data model (TreeValue and Tianshou Batch both belong to this type), so this section will compare the reading and writing performance of these two libraries."
   ]
  },
  {
   "cell_type": "markdown",
   "id": "5d09a5b7",
   "metadata": {},
   "source": [
    "### TreeValue's Get and Set"
   ]
  },
  {
   "cell_type": "code",
   "execution_count": 2,
   "id": "9519c4bb",
   "metadata": {
    "execution": {
     "iopub.execute_input": "2023-02-27T13:34:58.272904Z",
     "iopub.status.busy": "2023-02-27T13:34:58.272289Z",
     "iopub.status.idle": "2023-02-27T13:34:58.615520Z",
     "shell.execute_reply": "2023-02-27T13:34:58.614402Z"
    }
   },
   "outputs": [],
   "source": [
    "from treevalue import FastTreeValue\n",
    "\n",
    "t = FastTreeValue(_TREE_DATA_2)"
   ]
  },
  {
   "cell_type": "code",
   "execution_count": 3,
   "id": "11c37677",
   "metadata": {
    "execution": {
     "iopub.execute_input": "2023-02-27T13:34:58.620536Z",
     "iopub.status.busy": "2023-02-27T13:34:58.620168Z",
     "iopub.status.idle": "2023-02-27T13:34:58.632050Z",
     "shell.execute_reply": "2023-02-27T13:34:58.631258Z"
    }
   },
   "outputs": [
    {
     "data": {
      "text/plain": [
       "<FastTreeValue 0x7ff63ffdc280>\n",
       "├── 'a' --> tensor([[ 0.1310, -0.4369,  1.1909],\n",
       "│                   [-0.9809,  0.1708, -0.9018]])\n",
       "└── 'x' --> <FastTreeValue 0x7ff66c9061f0>\n",
       "    └── 'c' --> tensor([[-0.2818,  0.3983,  0.9330,  0.6824],\n",
       "                        [-1.1731, -0.1371, -0.5604, -0.9793],\n",
       "                        [ 1.2938,  0.1326,  1.0591, -0.7810]])"
      ]
     },
     "execution_count": 3,
     "metadata": {},
     "output_type": "execute_result"
    }
   ],
   "source": [
    "t"
   ]
  },
  {
   "cell_type": "code",
   "execution_count": 4,
   "id": "fd70b0b9",
   "metadata": {
    "execution": {
     "iopub.execute_input": "2023-02-27T13:34:58.635462Z",
     "iopub.status.busy": "2023-02-27T13:34:58.634922Z",
     "iopub.status.idle": "2023-02-27T13:34:58.641177Z",
     "shell.execute_reply": "2023-02-27T13:34:58.639844Z"
    }
   },
   "outputs": [
    {
     "data": {
      "text/plain": [
       "tensor([[ 0.1310, -0.4369,  1.1909],\n",
       "        [-0.9809,  0.1708, -0.9018]])"
      ]
     },
     "execution_count": 4,
     "metadata": {},
     "output_type": "execute_result"
    }
   ],
   "source": [
    "t.a"
   ]
  },
  {
   "cell_type": "code",
   "execution_count": 5,
   "id": "c18197bd",
   "metadata": {
    "execution": {
     "iopub.execute_input": "2023-02-27T13:34:58.644798Z",
     "iopub.status.busy": "2023-02-27T13:34:58.644269Z",
     "iopub.status.idle": "2023-02-27T13:35:04.691557Z",
     "shell.execute_reply": "2023-02-27T13:35:04.690618Z"
    }
   },
   "outputs": [
    {
     "name": "stdout",
     "output_type": "stream",
     "text": [
      "74.5 ns ± 0.173 ns per loop (mean ± std. dev. of 7 runs, 10,000,000 loops each)\n"
     ]
    }
   ],
   "source": [
    "%timeit t.a"
   ]
  },
  {
   "cell_type": "code",
   "execution_count": 6,
   "id": "bd52f867",
   "metadata": {
    "execution": {
     "iopub.execute_input": "2023-02-27T13:35:04.695973Z",
     "iopub.status.busy": "2023-02-27T13:35:04.695028Z",
     "iopub.status.idle": "2023-02-27T13:35:04.703509Z",
     "shell.execute_reply": "2023-02-27T13:35:04.702725Z"
    }
   },
   "outputs": [
    {
     "data": {
      "text/plain": [
       "<FastTreeValue 0x7ff63ffdc280>\n",
       "├── 'a' --> tensor([[-0.9938,  0.0575,  1.5686],\n",
       "│                   [ 0.7634,  0.0952, -0.6779]])\n",
       "└── 'x' --> <FastTreeValue 0x7ff66c9061f0>\n",
       "    └── 'c' --> tensor([[-0.2818,  0.3983,  0.9330,  0.6824],\n",
       "                        [-1.1731, -0.1371, -0.5604, -0.9793],\n",
       "                        [ 1.2938,  0.1326,  1.0591, -0.7810]])"
      ]
     },
     "execution_count": 6,
     "metadata": {},
     "output_type": "execute_result"
    }
   ],
   "source": [
    "new_value = torch.randn(2, 3)\n",
    "t.a = new_value\n",
    "\n",
    "t"
   ]
  },
  {
   "cell_type": "code",
   "execution_count": 7,
   "id": "bbe04d1c",
   "metadata": {
    "execution": {
     "iopub.execute_input": "2023-02-27T13:35:04.706944Z",
     "iopub.status.busy": "2023-02-27T13:35:04.706271Z",
     "iopub.status.idle": "2023-02-27T13:35:11.122496Z",
     "shell.execute_reply": "2023-02-27T13:35:11.121593Z"
    }
   },
   "outputs": [
    {
     "name": "stdout",
     "output_type": "stream",
     "text": [
      "79.1 ns ± 0.33 ns per loop (mean ± std. dev. of 7 runs, 10,000,000 loops each)\n"
     ]
    }
   ],
   "source": [
    "%timeit t.a = new_value"
   ]
  },
  {
   "cell_type": "markdown",
   "id": "48c49731",
   "metadata": {},
   "source": [
    "### Tianshou Batch's Get and Set"
   ]
  },
  {
   "cell_type": "code",
   "execution_count": 8,
   "id": "f1bb14c1",
   "metadata": {
    "execution": {
     "iopub.execute_input": "2023-02-27T13:35:11.126087Z",
     "iopub.status.busy": "2023-02-27T13:35:11.125610Z",
     "iopub.status.idle": "2023-02-27T13:35:11.558608Z",
     "shell.execute_reply": "2023-02-27T13:35:11.557493Z"
    }
   },
   "outputs": [],
   "source": [
    "from tianshou.data import Batch\n",
    "\n",
    "b = Batch(**_TREE_DATA_2)"
   ]
  },
  {
   "cell_type": "code",
   "execution_count": 9,
   "id": "cb0777c3",
   "metadata": {
    "execution": {
     "iopub.execute_input": "2023-02-27T13:35:11.562995Z",
     "iopub.status.busy": "2023-02-27T13:35:11.562307Z",
     "iopub.status.idle": "2023-02-27T13:35:11.568869Z",
     "shell.execute_reply": "2023-02-27T13:35:11.568066Z"
    }
   },
   "outputs": [
    {
     "data": {
      "text/plain": [
       "Batch(\n",
       "    a: tensor([[ 0.1310, -0.4369,  1.1909],\n",
       "               [-0.9809,  0.1708, -0.9018]]),\n",
       "    x: Batch(\n",
       "           c: tensor([[-0.2818,  0.3983,  0.9330,  0.6824],\n",
       "                      [-1.1731, -0.1371, -0.5604, -0.9793],\n",
       "                      [ 1.2938,  0.1326,  1.0591, -0.7810]]),\n",
       "       ),\n",
       ")"
      ]
     },
     "execution_count": 9,
     "metadata": {},
     "output_type": "execute_result"
    }
   ],
   "source": [
    "b"
   ]
  },
  {
   "cell_type": "code",
   "execution_count": 10,
   "id": "43ef8ea3",
   "metadata": {
    "execution": {
     "iopub.execute_input": "2023-02-27T13:35:11.572407Z",
     "iopub.status.busy": "2023-02-27T13:35:11.571670Z",
     "iopub.status.idle": "2023-02-27T13:35:11.577292Z",
     "shell.execute_reply": "2023-02-27T13:35:11.576532Z"
    }
   },
   "outputs": [
    {
     "data": {
      "text/plain": [
       "tensor([[ 0.1310, -0.4369,  1.1909],\n",
       "        [-0.9809,  0.1708, -0.9018]])"
      ]
     },
     "execution_count": 10,
     "metadata": {},
     "output_type": "execute_result"
    }
   ],
   "source": [
    "b.a"
   ]
  },
  {
   "cell_type": "code",
   "execution_count": 11,
   "id": "b785ab72",
   "metadata": {
    "execution": {
     "iopub.execute_input": "2023-02-27T13:35:11.580497Z",
     "iopub.status.busy": "2023-02-27T13:35:11.580071Z",
     "iopub.status.idle": "2023-02-27T13:35:17.175137Z",
     "shell.execute_reply": "2023-02-27T13:35:17.174171Z"
    }
   },
   "outputs": [
    {
     "name": "stdout",
     "output_type": "stream",
     "text": [
      "68.9 ns ± 0.113 ns per loop (mean ± std. dev. of 7 runs, 10,000,000 loops each)\n"
     ]
    }
   ],
   "source": [
    "%timeit b.a"
   ]
  },
  {
   "cell_type": "code",
   "execution_count": 12,
   "id": "ad54dc69",
   "metadata": {
    "execution": {
     "iopub.execute_input": "2023-02-27T13:35:17.179256Z",
     "iopub.status.busy": "2023-02-27T13:35:17.178592Z",
     "iopub.status.idle": "2023-02-27T13:35:17.185670Z",
     "shell.execute_reply": "2023-02-27T13:35:17.184872Z"
    }
   },
   "outputs": [
    {
     "data": {
      "text/plain": [
       "Batch(\n",
       "    a: tensor([[ 1.7970, -0.3021, -0.1870],\n",
       "               [ 0.7489, -0.5244, -0.6330]]),\n",
       "    x: Batch(\n",
       "           c: tensor([[-0.2818,  0.3983,  0.9330,  0.6824],\n",
       "                      [-1.1731, -0.1371, -0.5604, -0.9793],\n",
       "                      [ 1.2938,  0.1326,  1.0591, -0.7810]]),\n",
       "       ),\n",
       ")"
      ]
     },
     "execution_count": 12,
     "metadata": {},
     "output_type": "execute_result"
    }
   ],
   "source": [
    "new_value = torch.randn(2, 3)\n",
    "b.a = new_value\n",
    "\n",
    "b"
   ]
  },
  {
   "cell_type": "code",
   "execution_count": 13,
   "id": "29b1d0bf",
   "metadata": {
    "execution": {
     "iopub.execute_input": "2023-02-27T13:35:17.189095Z",
     "iopub.status.busy": "2023-02-27T13:35:17.188659Z",
     "iopub.status.idle": "2023-02-27T13:35:21.901249Z",
     "shell.execute_reply": "2023-02-27T13:35:21.899973Z"
    }
   },
   "outputs": [
    {
     "name": "stdout",
     "output_type": "stream",
     "text": [
      "580 ns ± 1.32 ns per loop (mean ± std. dev. of 7 runs, 1,000,000 loops each)\n"
     ]
    }
   ],
   "source": [
    "%timeit b.a = new_value"
   ]
  },
  {
   "cell_type": "markdown",
   "id": "b61ad1d0",
   "metadata": {},
   "source": [
    "## Initialization"
   ]
  },
  {
   "cell_type": "markdown",
   "id": "d70f0d54",
   "metadata": {},
   "source": [
    "### TreeValue's Initialization"
   ]
  },
  {
   "cell_type": "code",
   "execution_count": 14,
   "id": "d32a679b",
   "metadata": {
    "execution": {
     "iopub.execute_input": "2023-02-27T13:35:21.905934Z",
     "iopub.status.busy": "2023-02-27T13:35:21.905081Z",
     "iopub.status.idle": "2023-02-27T13:35:29.815125Z",
     "shell.execute_reply": "2023-02-27T13:35:29.813837Z"
    }
   },
   "outputs": [
    {
     "name": "stdout",
     "output_type": "stream",
     "text": [
      "974 ns ± 4.58 ns per loop (mean ± std. dev. of 7 runs, 1,000,000 loops each)\n"
     ]
    }
   ],
   "source": [
    "%timeit FastTreeValue(_TREE_DATA_1)"
   ]
  },
  {
   "cell_type": "markdown",
   "id": "24f3707b",
   "metadata": {},
   "source": [
    "### Tianshou Batch's Initialization"
   ]
  },
  {
   "cell_type": "code",
   "execution_count": 15,
   "id": "ac3958df",
   "metadata": {
    "execution": {
     "iopub.execute_input": "2023-02-27T13:35:29.818863Z",
     "iopub.status.busy": "2023-02-27T13:35:29.818429Z",
     "iopub.status.idle": "2023-02-27T13:35:39.732157Z",
     "shell.execute_reply": "2023-02-27T13:35:39.730858Z"
    }
   },
   "outputs": [
    {
     "name": "stdout",
     "output_type": "stream",
     "text": [
      "12.2 µs ± 112 ns per loop (mean ± std. dev. of 7 runs, 100,000 loops each)\n"
     ]
    }
   ],
   "source": [
    "%timeit Batch(**_TREE_DATA_1)"
   ]
  },
  {
   "cell_type": "markdown",
   "id": "1ab82e2d",
   "metadata": {},
   "source": [
    "## Deep Copy Operation"
   ]
  },
  {
   "cell_type": "code",
   "execution_count": 16,
   "id": "210a9442",
   "metadata": {
    "execution": {
     "iopub.execute_input": "2023-02-27T13:35:39.736490Z",
     "iopub.status.busy": "2023-02-27T13:35:39.735841Z",
     "iopub.status.idle": "2023-02-27T13:35:39.740627Z",
     "shell.execute_reply": "2023-02-27T13:35:39.739789Z"
    }
   },
   "outputs": [],
   "source": [
    "import copy"
   ]
  },
  {
   "cell_type": "markdown",
   "id": "5a736274",
   "metadata": {},
   "source": [
    "### Deep Copy of TreeValue"
   ]
  },
  {
   "cell_type": "code",
   "execution_count": 17,
   "id": "f9bcadd6",
   "metadata": {
    "execution": {
     "iopub.execute_input": "2023-02-27T13:35:39.744088Z",
     "iopub.status.busy": "2023-02-27T13:35:39.743654Z",
     "iopub.status.idle": "2023-02-27T13:35:53.237907Z",
     "shell.execute_reply": "2023-02-27T13:35:53.236982Z"
    }
   },
   "outputs": [
    {
     "name": "stdout",
     "output_type": "stream",
     "text": [
      "166 µs ± 679 ns per loop (mean ± std. dev. of 7 runs, 10,000 loops each)\n"
     ]
    }
   ],
   "source": [
    "t3 = FastTreeValue(_TREE_DATA_3)\n",
    "%timeit copy.deepcopy(t3)"
   ]
  },
  {
   "cell_type": "markdown",
   "id": "bf8be7ea",
   "metadata": {},
   "source": [
    "### Deep Copy of Tianshou Batch"
   ]
  },
  {
   "cell_type": "code",
   "execution_count": 18,
   "id": "91998e6f",
   "metadata": {
    "execution": {
     "iopub.execute_input": "2023-02-27T13:35:53.241403Z",
     "iopub.status.busy": "2023-02-27T13:35:53.240813Z",
     "iopub.status.idle": "2023-02-27T13:36:06.697302Z",
     "shell.execute_reply": "2023-02-27T13:36:06.696530Z"
    }
   },
   "outputs": [
    {
     "name": "stdout",
     "output_type": "stream",
     "text": [
      "166 µs ± 768 ns per loop (mean ± std. dev. of 7 runs, 10,000 loops each)\n"
     ]
    }
   ],
   "source": [
    "b3 = Batch(**_TREE_DATA_3)\n",
    "%timeit copy.deepcopy(b3)"
   ]
  },
  {
   "cell_type": "markdown",
   "id": "223162fb",
   "metadata": {},
   "source": [
    "## Stack, Concat and Split Operation"
   ]
  },
  {
   "cell_type": "markdown",
   "id": "85fa4a73",
   "metadata": {},
   "source": [
    "### Performance of TreeValue"
   ]
  },
  {
   "cell_type": "code",
   "execution_count": 19,
   "id": "a0c2b697",
   "metadata": {
    "execution": {
     "iopub.execute_input": "2023-02-27T13:36:06.700911Z",
     "iopub.status.busy": "2023-02-27T13:36:06.700335Z",
     "iopub.status.idle": "2023-02-27T13:36:06.705624Z",
     "shell.execute_reply": "2023-02-27T13:36:06.704882Z"
    }
   },
   "outputs": [],
   "source": [
    "trees = [FastTreeValue(_TREE_DATA_2) for _ in range(8)]"
   ]
  },
  {
   "cell_type": "code",
   "execution_count": 20,
   "id": "017ea5a5",
   "metadata": {
    "execution": {
     "iopub.execute_input": "2023-02-27T13:36:06.709795Z",
     "iopub.status.busy": "2023-02-27T13:36:06.708571Z",
     "iopub.status.idle": "2023-02-27T13:36:06.718555Z",
     "shell.execute_reply": "2023-02-27T13:36:06.717806Z"
    }
   },
   "outputs": [
    {
     "data": {
      "text/plain": [
       "<FastTreeValue 0x7ff5b7b96f40>\n",
       "├── 'a' --> tensor([[[ 0.1310, -0.4369,  1.1909],\n",
       "│                    [-0.9809,  0.1708, -0.9018]],\n",
       "│           \n",
       "│                   [[ 0.1310, -0.4369,  1.1909],\n",
       "│                    [-0.9809,  0.1708, -0.9018]],\n",
       "│           \n",
       "│                   [[ 0.1310, -0.4369,  1.1909],\n",
       "│                    [-0.9809,  0.1708, -0.9018]],\n",
       "│           \n",
       "│                   [[ 0.1310, -0.4369,  1.1909],\n",
       "│                    [-0.9809,  0.1708, -0.9018]],\n",
       "│           \n",
       "│                   [[ 0.1310, -0.4369,  1.1909],\n",
       "│                    [-0.9809,  0.1708, -0.9018]],\n",
       "│           \n",
       "│                   [[ 0.1310, -0.4369,  1.1909],\n",
       "│                    [-0.9809,  0.1708, -0.9018]],\n",
       "│           \n",
       "│                   [[ 0.1310, -0.4369,  1.1909],\n",
       "│                    [-0.9809,  0.1708, -0.9018]],\n",
       "│           \n",
       "│                   [[ 0.1310, -0.4369,  1.1909],\n",
       "│                    [-0.9809,  0.1708, -0.9018]]])\n",
       "└── 'x' --> <FastTreeValue 0x7ff6441c1e80>\n",
       "    └── 'c' --> tensor([[[-0.2818,  0.3983,  0.9330,  0.6824],\n",
       "                         [-1.1731, -0.1371, -0.5604, -0.9793],\n",
       "                         [ 1.2938,  0.1326,  1.0591, -0.7810]],\n",
       "                \n",
       "                        [[-0.2818,  0.3983,  0.9330,  0.6824],\n",
       "                         [-1.1731, -0.1371, -0.5604, -0.9793],\n",
       "                         [ 1.2938,  0.1326,  1.0591, -0.7810]],\n",
       "                \n",
       "                        [[-0.2818,  0.3983,  0.9330,  0.6824],\n",
       "                         [-1.1731, -0.1371, -0.5604, -0.9793],\n",
       "                         [ 1.2938,  0.1326,  1.0591, -0.7810]],\n",
       "                \n",
       "                        [[-0.2818,  0.3983,  0.9330,  0.6824],\n",
       "                         [-1.1731, -0.1371, -0.5604, -0.9793],\n",
       "                         [ 1.2938,  0.1326,  1.0591, -0.7810]],\n",
       "                \n",
       "                        [[-0.2818,  0.3983,  0.9330,  0.6824],\n",
       "                         [-1.1731, -0.1371, -0.5604, -0.9793],\n",
       "                         [ 1.2938,  0.1326,  1.0591, -0.7810]],\n",
       "                \n",
       "                        [[-0.2818,  0.3983,  0.9330,  0.6824],\n",
       "                         [-1.1731, -0.1371, -0.5604, -0.9793],\n",
       "                         [ 1.2938,  0.1326,  1.0591, -0.7810]],\n",
       "                \n",
       "                        [[-0.2818,  0.3983,  0.9330,  0.6824],\n",
       "                         [-1.1731, -0.1371, -0.5604, -0.9793],\n",
       "                         [ 1.2938,  0.1326,  1.0591, -0.7810]],\n",
       "                \n",
       "                        [[-0.2818,  0.3983,  0.9330,  0.6824],\n",
       "                         [-1.1731, -0.1371, -0.5604, -0.9793],\n",
       "                         [ 1.2938,  0.1326,  1.0591, -0.7810]]])"
      ]
     },
     "execution_count": 20,
     "metadata": {},
     "output_type": "execute_result"
    }
   ],
   "source": [
    "t_stack = FastTreeValue.func(subside=True)(torch.stack)\n",
    "\n",
    "t_stack(trees)"
   ]
  },
  {
   "cell_type": "code",
   "execution_count": 21,
   "id": "f8b3f415",
   "metadata": {
    "execution": {
     "iopub.execute_input": "2023-02-27T13:36:06.721991Z",
     "iopub.status.busy": "2023-02-27T13:36:06.721582Z",
     "iopub.status.idle": "2023-02-27T13:36:09.819318Z",
     "shell.execute_reply": "2023-02-27T13:36:09.818121Z"
    }
   },
   "outputs": [
    {
     "name": "stdout",
     "output_type": "stream",
     "text": [
      "38.1 µs ± 234 ns per loop (mean ± std. dev. of 7 runs, 10,000 loops each)\n"
     ]
    }
   ],
   "source": [
    "%timeit t_stack(trees)"
   ]
  },
  {
   "cell_type": "code",
   "execution_count": 22,
   "id": "94b56771",
   "metadata": {
    "execution": {
     "iopub.execute_input": "2023-02-27T13:36:09.823474Z",
     "iopub.status.busy": "2023-02-27T13:36:09.822731Z",
     "iopub.status.idle": "2023-02-27T13:36:09.832717Z",
     "shell.execute_reply": "2023-02-27T13:36:09.831961Z"
    }
   },
   "outputs": [
    {
     "data": {
      "text/plain": [
       "<FastTreeValue 0x7ff5b7be6820>\n",
       "├── 'a' --> tensor([[ 0.1310, -0.4369,  1.1909],\n",
       "│                   [-0.9809,  0.1708, -0.9018],\n",
       "│                   [ 0.1310, -0.4369,  1.1909],\n",
       "│                   [-0.9809,  0.1708, -0.9018],\n",
       "│                   [ 0.1310, -0.4369,  1.1909],\n",
       "│                   [-0.9809,  0.1708, -0.9018],\n",
       "│                   [ 0.1310, -0.4369,  1.1909],\n",
       "│                   [-0.9809,  0.1708, -0.9018],\n",
       "│                   [ 0.1310, -0.4369,  1.1909],\n",
       "│                   [-0.9809,  0.1708, -0.9018],\n",
       "│                   [ 0.1310, -0.4369,  1.1909],\n",
       "│                   [-0.9809,  0.1708, -0.9018],\n",
       "│                   [ 0.1310, -0.4369,  1.1909],\n",
       "│                   [-0.9809,  0.1708, -0.9018],\n",
       "│                   [ 0.1310, -0.4369,  1.1909],\n",
       "│                   [-0.9809,  0.1708, -0.9018]])\n",
       "└── 'x' --> <FastTreeValue 0x7ff5c926d6d0>\n",
       "    └── 'c' --> tensor([[-0.2818,  0.3983,  0.9330,  0.6824],\n",
       "                        [-1.1731, -0.1371, -0.5604, -0.9793],\n",
       "                        [ 1.2938,  0.1326,  1.0591, -0.7810],\n",
       "                        [-0.2818,  0.3983,  0.9330,  0.6824],\n",
       "                        [-1.1731, -0.1371, -0.5604, -0.9793],\n",
       "                        [ 1.2938,  0.1326,  1.0591, -0.7810],\n",
       "                        [-0.2818,  0.3983,  0.9330,  0.6824],\n",
       "                        [-1.1731, -0.1371, -0.5604, -0.9793],\n",
       "                        [ 1.2938,  0.1326,  1.0591, -0.7810],\n",
       "                        [-0.2818,  0.3983,  0.9330,  0.6824],\n",
       "                        [-1.1731, -0.1371, -0.5604, -0.9793],\n",
       "                        [ 1.2938,  0.1326,  1.0591, -0.7810],\n",
       "                        [-0.2818,  0.3983,  0.9330,  0.6824],\n",
       "                        [-1.1731, -0.1371, -0.5604, -0.9793],\n",
       "                        [ 1.2938,  0.1326,  1.0591, -0.7810],\n",
       "                        [-0.2818,  0.3983,  0.9330,  0.6824],\n",
       "                        [-1.1731, -0.1371, -0.5604, -0.9793],\n",
       "                        [ 1.2938,  0.1326,  1.0591, -0.7810],\n",
       "                        [-0.2818,  0.3983,  0.9330,  0.6824],\n",
       "                        [-1.1731, -0.1371, -0.5604, -0.9793],\n",
       "                        [ 1.2938,  0.1326,  1.0591, -0.7810],\n",
       "                        [-0.2818,  0.3983,  0.9330,  0.6824],\n",
       "                        [-1.1731, -0.1371, -0.5604, -0.9793],\n",
       "                        [ 1.2938,  0.1326,  1.0591, -0.7810]])"
      ]
     },
     "execution_count": 22,
     "metadata": {},
     "output_type": "execute_result"
    }
   ],
   "source": [
    "t_cat = FastTreeValue.func(subside=True)(torch.cat)\n",
    "\n",
    "t_cat(trees)"
   ]
  },
  {
   "cell_type": "code",
   "execution_count": 23,
   "id": "5e9c06a6",
   "metadata": {
    "execution": {
     "iopub.execute_input": "2023-02-27T13:36:09.835895Z",
     "iopub.status.busy": "2023-02-27T13:36:09.835494Z",
     "iopub.status.idle": "2023-02-27T13:36:12.894650Z",
     "shell.execute_reply": "2023-02-27T13:36:12.893637Z"
    }
   },
   "outputs": [
    {
     "name": "stdout",
     "output_type": "stream",
     "text": [
      "37.9 µs ± 1.02 µs per loop (mean ± std. dev. of 7 runs, 10,000 loops each)\n"
     ]
    }
   ],
   "source": [
    "%timeit t_cat(trees)"
   ]
  },
  {
   "cell_type": "code",
   "execution_count": 24,
   "id": "a3ab5c8f",
   "metadata": {
    "execution": {
     "iopub.execute_input": "2023-02-27T13:36:12.898839Z",
     "iopub.status.busy": "2023-02-27T13:36:12.898106Z",
     "iopub.status.idle": "2023-02-27T13:36:19.190164Z",
     "shell.execute_reply": "2023-02-27T13:36:19.189206Z"
    }
   },
   "outputs": [
    {
     "name": "stdout",
     "output_type": "stream",
     "text": [
      "77.7 µs ± 403 ns per loop (mean ± std. dev. of 7 runs, 10,000 loops each)\n"
     ]
    }
   ],
   "source": [
    "t_split = FastTreeValue.func(rise=True)(torch.split)\n",
    "tree = FastTreeValue({\n",
    "    'obs': torch.randn(8, 4, 84, 84),\n",
    "    'action': torch.randint(0, 6, size=(8, 1,)),\n",
    "    'reward': torch.rand(8, 1),\n",
    "})\n",
    "\n",
    "%timeit t_split(tree, 1)"
   ]
  },
  {
   "cell_type": "markdown",
   "id": "31c3ec0b",
   "metadata": {},
   "source": [
    "### Performance of Tianshou Batch"
   ]
  },
  {
   "cell_type": "code",
   "execution_count": 25,
   "id": "9ead828a",
   "metadata": {
    "execution": {
     "iopub.execute_input": "2023-02-27T13:36:19.194226Z",
     "iopub.status.busy": "2023-02-27T13:36:19.193648Z",
     "iopub.status.idle": "2023-02-27T13:36:19.203132Z",
     "shell.execute_reply": "2023-02-27T13:36:19.202410Z"
    }
   },
   "outputs": [
    {
     "data": {
      "text/plain": [
       "Batch(\n",
       "    a: tensor([[[ 0.1310, -0.4369,  1.1909],\n",
       "                [-0.9809,  0.1708, -0.9018]],\n",
       "       \n",
       "               [[ 0.1310, -0.4369,  1.1909],\n",
       "                [-0.9809,  0.1708, -0.9018]],\n",
       "       \n",
       "               [[ 0.1310, -0.4369,  1.1909],\n",
       "                [-0.9809,  0.1708, -0.9018]],\n",
       "       \n",
       "               [[ 0.1310, -0.4369,  1.1909],\n",
       "                [-0.9809,  0.1708, -0.9018]],\n",
       "       \n",
       "               [[ 0.1310, -0.4369,  1.1909],\n",
       "                [-0.9809,  0.1708, -0.9018]],\n",
       "       \n",
       "               [[ 0.1310, -0.4369,  1.1909],\n",
       "                [-0.9809,  0.1708, -0.9018]],\n",
       "       \n",
       "               [[ 0.1310, -0.4369,  1.1909],\n",
       "                [-0.9809,  0.1708, -0.9018]],\n",
       "       \n",
       "               [[ 0.1310, -0.4369,  1.1909],\n",
       "                [-0.9809,  0.1708, -0.9018]]]),\n",
       "    x: Batch(\n",
       "           c: tensor([[[-0.2818,  0.3983,  0.9330,  0.6824],\n",
       "                       [-1.1731, -0.1371, -0.5604, -0.9793],\n",
       "                       [ 1.2938,  0.1326,  1.0591, -0.7810]],\n",
       "              \n",
       "                      [[-0.2818,  0.3983,  0.9330,  0.6824],\n",
       "                       [-1.1731, -0.1371, -0.5604, -0.9793],\n",
       "                       [ 1.2938,  0.1326,  1.0591, -0.7810]],\n",
       "              \n",
       "                      [[-0.2818,  0.3983,  0.9330,  0.6824],\n",
       "                       [-1.1731, -0.1371, -0.5604, -0.9793],\n",
       "                       [ 1.2938,  0.1326,  1.0591, -0.7810]],\n",
       "              \n",
       "                      [[-0.2818,  0.3983,  0.9330,  0.6824],\n",
       "                       [-1.1731, -0.1371, -0.5604, -0.9793],\n",
       "                       [ 1.2938,  0.1326,  1.0591, -0.7810]],\n",
       "              \n",
       "                      [[-0.2818,  0.3983,  0.9330,  0.6824],\n",
       "                       [-1.1731, -0.1371, -0.5604, -0.9793],\n",
       "                       [ 1.2938,  0.1326,  1.0591, -0.7810]],\n",
       "              \n",
       "                      [[-0.2818,  0.3983,  0.9330,  0.6824],\n",
       "                       [-1.1731, -0.1371, -0.5604, -0.9793],\n",
       "                       [ 1.2938,  0.1326,  1.0591, -0.7810]],\n",
       "              \n",
       "                      [[-0.2818,  0.3983,  0.9330,  0.6824],\n",
       "                       [-1.1731, -0.1371, -0.5604, -0.9793],\n",
       "                       [ 1.2938,  0.1326,  1.0591, -0.7810]],\n",
       "              \n",
       "                      [[-0.2818,  0.3983,  0.9330,  0.6824],\n",
       "                       [-1.1731, -0.1371, -0.5604, -0.9793],\n",
       "                       [ 1.2938,  0.1326,  1.0591, -0.7810]]]),\n",
       "       ),\n",
       ")"
      ]
     },
     "execution_count": 25,
     "metadata": {},
     "output_type": "execute_result"
    }
   ],
   "source": [
    "batches = [Batch(**_TREE_DATA_2) for _ in range(8)]\n",
    "\n",
    "Batch.stack(batches)"
   ]
  },
  {
   "cell_type": "code",
   "execution_count": 26,
   "id": "ec9037a3",
   "metadata": {
    "execution": {
     "iopub.execute_input": "2023-02-27T13:36:19.206552Z",
     "iopub.status.busy": "2023-02-27T13:36:19.206129Z",
     "iopub.status.idle": "2023-02-27T13:36:26.479152Z",
     "shell.execute_reply": "2023-02-27T13:36:26.478263Z"
    }
   },
   "outputs": [
    {
     "name": "stdout",
     "output_type": "stream",
     "text": [
      "89.5 µs ± 698 ns per loop (mean ± std. dev. of 7 runs, 10,000 loops each)\n"
     ]
    }
   ],
   "source": [
    "%timeit Batch.stack(batches)"
   ]
  },
  {
   "cell_type": "code",
   "execution_count": 27,
   "id": "cb8ab77e",
   "metadata": {
    "execution": {
     "iopub.execute_input": "2023-02-27T13:36:26.482840Z",
     "iopub.status.busy": "2023-02-27T13:36:26.482226Z",
     "iopub.status.idle": "2023-02-27T13:36:26.492635Z",
     "shell.execute_reply": "2023-02-27T13:36:26.490442Z"
    }
   },
   "outputs": [
    {
     "data": {
      "text/plain": [
       "Batch(\n",
       "    a: tensor([[ 0.1310, -0.4369,  1.1909],\n",
       "               [-0.9809,  0.1708, -0.9018],\n",
       "               [ 0.1310, -0.4369,  1.1909],\n",
       "               [-0.9809,  0.1708, -0.9018],\n",
       "               [ 0.1310, -0.4369,  1.1909],\n",
       "               [-0.9809,  0.1708, -0.9018],\n",
       "               [ 0.1310, -0.4369,  1.1909],\n",
       "               [-0.9809,  0.1708, -0.9018],\n",
       "               [ 0.1310, -0.4369,  1.1909],\n",
       "               [-0.9809,  0.1708, -0.9018],\n",
       "               [ 0.1310, -0.4369,  1.1909],\n",
       "               [-0.9809,  0.1708, -0.9018],\n",
       "               [ 0.1310, -0.4369,  1.1909],\n",
       "               [-0.9809,  0.1708, -0.9018],\n",
       "               [ 0.1310, -0.4369,  1.1909],\n",
       "               [-0.9809,  0.1708, -0.9018]]),\n",
       "    x: Batch(\n",
       "           c: tensor([[-0.2818,  0.3983,  0.9330,  0.6824],\n",
       "                      [-1.1731, -0.1371, -0.5604, -0.9793],\n",
       "                      [ 1.2938,  0.1326,  1.0591, -0.7810],\n",
       "                      [-0.2818,  0.3983,  0.9330,  0.6824],\n",
       "                      [-1.1731, -0.1371, -0.5604, -0.9793],\n",
       "                      [ 1.2938,  0.1326,  1.0591, -0.7810],\n",
       "                      [-0.2818,  0.3983,  0.9330,  0.6824],\n",
       "                      [-1.1731, -0.1371, -0.5604, -0.9793],\n",
       "                      [ 1.2938,  0.1326,  1.0591, -0.7810],\n",
       "                      [-0.2818,  0.3983,  0.9330,  0.6824],\n",
       "                      [-1.1731, -0.1371, -0.5604, -0.9793],\n",
       "                      [ 1.2938,  0.1326,  1.0591, -0.7810],\n",
       "                      [-0.2818,  0.3983,  0.9330,  0.6824],\n",
       "                      [-1.1731, -0.1371, -0.5604, -0.9793],\n",
       "                      [ 1.2938,  0.1326,  1.0591, -0.7810],\n",
       "                      [-0.2818,  0.3983,  0.9330,  0.6824],\n",
       "                      [-1.1731, -0.1371, -0.5604, -0.9793],\n",
       "                      [ 1.2938,  0.1326,  1.0591, -0.7810],\n",
       "                      [-0.2818,  0.3983,  0.9330,  0.6824],\n",
       "                      [-1.1731, -0.1371, -0.5604, -0.9793],\n",
       "                      [ 1.2938,  0.1326,  1.0591, -0.7810],\n",
       "                      [-0.2818,  0.3983,  0.9330,  0.6824],\n",
       "                      [-1.1731, -0.1371, -0.5604, -0.9793],\n",
       "                      [ 1.2938,  0.1326,  1.0591, -0.7810]]),\n",
       "       ),\n",
       ")"
      ]
     },
     "execution_count": 27,
     "metadata": {},
     "output_type": "execute_result"
    }
   ],
   "source": [
    "Batch.cat(batches)"
   ]
  },
  {
   "cell_type": "code",
   "execution_count": 28,
   "id": "18dfb045",
   "metadata": {
    "execution": {
     "iopub.execute_input": "2023-02-27T13:36:26.496190Z",
     "iopub.status.busy": "2023-02-27T13:36:26.495526Z",
     "iopub.status.idle": "2023-02-27T13:36:40.138288Z",
     "shell.execute_reply": "2023-02-27T13:36:40.137374Z"
    }
   },
   "outputs": [
    {
     "name": "stdout",
     "output_type": "stream",
     "text": [
      "168 µs ± 614 ns per loop (mean ± std. dev. of 7 runs, 10,000 loops each)\n"
     ]
    }
   ],
   "source": [
    "%timeit Batch.cat(batches)"
   ]
  },
  {
   "cell_type": "code",
   "execution_count": 29,
   "id": "c6688e51",
   "metadata": {
    "execution": {
     "iopub.execute_input": "2023-02-27T13:36:40.142236Z",
     "iopub.status.busy": "2023-02-27T13:36:40.141563Z",
     "iopub.status.idle": "2023-02-27T13:36:43.323718Z",
     "shell.execute_reply": "2023-02-27T13:36:43.323002Z"
    }
   },
   "outputs": [
    {
     "name": "stdout",
     "output_type": "stream",
     "text": [
      "385 µs ± 13.8 µs per loop (mean ± std. dev. of 7 runs, 1,000 loops each)\n"
     ]
    }
   ],
   "source": [
    "batch = Batch({\n",
    "    'obs': torch.randn(8, 4, 84, 84),\n",
    "    'action': torch.randint(0, 6, size=(8, 1,)),\n",
    "    'reward': torch.rand(8, 1)}\n",
    ")\n",
    "\n",
    "%timeit list(Batch.split(batch, 1, shuffle=False, merge_last=True))"
   ]
  },
  {
   "cell_type": "code",
   "execution_count": null,
   "id": "2539fbd9",
   "metadata": {},
   "outputs": [],
   "source": []
  }
 ],
 "metadata": {
  "kernelspec": {
   "display_name": "Python 3 (ipykernel)",
   "language": "python",
   "name": "python3"
  },
  "language_info": {
   "codemirror_mode": {
    "name": "ipython",
    "version": 3
   },
   "file_extension": ".py",
   "mimetype": "text/x-python",
   "name": "python",
   "nbconvert_exporter": "python",
   "pygments_lexer": "ipython3",
   "version": "3.8.16"
  }
 },
 "nbformat": 4,
 "nbformat_minor": 5
}
