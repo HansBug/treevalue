{
 "cells": [
  {
   "cell_type": "markdown",
   "id": "9d39d946",
   "metadata": {},
   "source": [
    "# Comparison Between TreeValue and Tianshou Batch"
   ]
  },
  {
   "cell_type": "markdown",
   "id": "3c6db2d4",
   "metadata": {},
   "source": [
    "In this section, we will take a look at the feature and performance of the [Tianshou Batch](https://github.com/thu-ml/tianshou) library, which is developed by Tsinghua Machine Learning Group."
   ]
  },
  {
   "cell_type": "markdown",
   "id": "069361b0",
   "metadata": {},
   "source": [
    "Before starting the comparison, let us define some thing."
   ]
  },
  {
   "cell_type": "code",
   "execution_count": 1,
   "id": "06fc8d26",
   "metadata": {
    "execution": {
     "iopub.execute_input": "2023-02-27T11:53:49.103295Z",
     "iopub.status.busy": "2023-02-27T11:53:49.103102Z",
     "iopub.status.idle": "2023-02-27T11:53:49.990820Z",
     "shell.execute_reply": "2023-02-27T11:53:49.990187Z"
    }
   },
   "outputs": [
    {
     "name": "stderr",
     "output_type": "stream",
     "text": [
      "/opt/hostedtoolcache/Python/3.8.16/x64/lib/python3.8/site-packages/tqdm/auto.py:22: TqdmWarning: IProgress not found. Please update jupyter and ipywidgets. See https://ipywidgets.readthedocs.io/en/stable/user_install.html\n",
      "  from .autonotebook import tqdm as notebook_tqdm\n"
     ]
    }
   ],
   "source": [
    "import torch \n",
    "\n",
    "_TREE_DATA_1 = {'a': 1, 'b': 2, 'x': {'c': 3, 'd': 4}}\n",
    "_TREE_DATA_2 = {\n",
    "    'a': torch.randn(2, 3), \n",
    "    'x': {\n",
    "        'c': torch.randn(3, 4)\n",
    "    },\n",
    "}\n",
    "_TREE_DATA_3 = {\n",
    "    'obs': torch.randn(4, 84, 84),\n",
    "    'action': torch.randint(0, 6, size=(1,)),\n",
    "    'reward': torch.rand(1),\n",
    "}"
   ]
  },
  {
   "cell_type": "markdown",
   "id": "83461b25",
   "metadata": {},
   "source": [
    "## Read and Write Operation"
   ]
  },
  {
   "cell_type": "markdown",
   "id": "067b3f73",
   "metadata": {},
   "source": [
    "Reading and writing are the two most common operations in the tree data structure based on the data model (TreeValue and Tianshou Batch both belong to this type), so this section will compare the reading and writing performance of these two libraries."
   ]
  },
  {
   "cell_type": "markdown",
   "id": "5d09a5b7",
   "metadata": {},
   "source": [
    "### TreeValue's Get and Set"
   ]
  },
  {
   "cell_type": "code",
   "execution_count": 2,
   "id": "9519c4bb",
   "metadata": {
    "execution": {
     "iopub.execute_input": "2023-02-27T11:53:49.993810Z",
     "iopub.status.busy": "2023-02-27T11:53:49.993442Z",
     "iopub.status.idle": "2023-02-27T11:53:50.268646Z",
     "shell.execute_reply": "2023-02-27T11:53:50.267617Z"
    }
   },
   "outputs": [],
   "source": [
    "from treevalue import FastTreeValue\n",
    "\n",
    "t = FastTreeValue(_TREE_DATA_2)"
   ]
  },
  {
   "cell_type": "code",
   "execution_count": 3,
   "id": "11c37677",
   "metadata": {
    "execution": {
     "iopub.execute_input": "2023-02-27T11:53:50.271979Z",
     "iopub.status.busy": "2023-02-27T11:53:50.271359Z",
     "iopub.status.idle": "2023-02-27T11:53:50.281072Z",
     "shell.execute_reply": "2023-02-27T11:53:50.280033Z"
    }
   },
   "outputs": [
    {
     "data": {
      "text/plain": [
       "<FastTreeValue 0x7f84d8795220>\n",
       "├── 'a' --> tensor([[ 0.1657,  0.7004, -0.0305],\n",
       "│                   [-0.7508,  0.0089, -0.5143]])\n",
       "└── 'x' --> <FastTreeValue 0x7f84d8795100>\n",
       "    └── 'c' --> tensor([[ 0.8369,  1.1530, -0.6796,  0.2164],\n",
       "                        [-1.1411,  0.6350,  2.4495,  0.8238],\n",
       "                        [ 0.7780,  0.8311,  1.4110,  0.6833]])"
      ]
     },
     "execution_count": 3,
     "metadata": {},
     "output_type": "execute_result"
    }
   ],
   "source": [
    "t"
   ]
  },
  {
   "cell_type": "code",
   "execution_count": 4,
   "id": "fd70b0b9",
   "metadata": {
    "execution": {
     "iopub.execute_input": "2023-02-27T11:53:50.283888Z",
     "iopub.status.busy": "2023-02-27T11:53:50.283421Z",
     "iopub.status.idle": "2023-02-27T11:53:50.289152Z",
     "shell.execute_reply": "2023-02-27T11:53:50.288566Z"
    }
   },
   "outputs": [
    {
     "data": {
      "text/plain": [
       "tensor([[ 0.1657,  0.7004, -0.0305],\n",
       "        [-0.7508,  0.0089, -0.5143]])"
      ]
     },
     "execution_count": 4,
     "metadata": {},
     "output_type": "execute_result"
    }
   ],
   "source": [
    "t.a"
   ]
  },
  {
   "cell_type": "code",
   "execution_count": 5,
   "id": "c18197bd",
   "metadata": {
    "execution": {
     "iopub.execute_input": "2023-02-27T11:53:50.291817Z",
     "iopub.status.busy": "2023-02-27T11:53:50.291354Z",
     "iopub.status.idle": "2023-02-27T11:53:55.120532Z",
     "shell.execute_reply": "2023-02-27T11:53:55.119404Z"
    }
   },
   "outputs": [
    {
     "name": "stdout",
     "output_type": "stream",
     "text": [
      "59.4 ns ± 0.064 ns per loop (mean ± std. dev. of 7 runs, 10,000,000 loops each)\n"
     ]
    }
   ],
   "source": [
    "%timeit t.a"
   ]
  },
  {
   "cell_type": "code",
   "execution_count": 6,
   "id": "bd52f867",
   "metadata": {
    "execution": {
     "iopub.execute_input": "2023-02-27T11:53:55.123400Z",
     "iopub.status.busy": "2023-02-27T11:53:55.123067Z",
     "iopub.status.idle": "2023-02-27T11:53:55.130764Z",
     "shell.execute_reply": "2023-02-27T11:53:55.129585Z"
    }
   },
   "outputs": [
    {
     "data": {
      "text/plain": [
       "<FastTreeValue 0x7f84d8795220>\n",
       "├── 'a' --> tensor([[-0.5466, -0.5771,  1.0889],\n",
       "│                   [-0.9778, -1.0110,  0.4463]])\n",
       "└── 'x' --> <FastTreeValue 0x7f84d8795100>\n",
       "    └── 'c' --> tensor([[ 0.8369,  1.1530, -0.6796,  0.2164],\n",
       "                        [-1.1411,  0.6350,  2.4495,  0.8238],\n",
       "                        [ 0.7780,  0.8311,  1.4110,  0.6833]])"
      ]
     },
     "execution_count": 6,
     "metadata": {},
     "output_type": "execute_result"
    }
   ],
   "source": [
    "new_value = torch.randn(2, 3)\n",
    "t.a = new_value\n",
    "\n",
    "t"
   ]
  },
  {
   "cell_type": "code",
   "execution_count": 7,
   "id": "bbe04d1c",
   "metadata": {
    "execution": {
     "iopub.execute_input": "2023-02-27T11:53:55.133518Z",
     "iopub.status.busy": "2023-02-27T11:53:55.132969Z",
     "iopub.status.idle": "2023-02-27T11:53:59.921709Z",
     "shell.execute_reply": "2023-02-27T11:53:59.920952Z"
    }
   },
   "outputs": [
    {
     "name": "stdout",
     "output_type": "stream",
     "text": [
      "58.8 ns ± 0.0492 ns per loop (mean ± std. dev. of 7 runs, 10,000,000 loops each)\n"
     ]
    }
   ],
   "source": [
    "%timeit t.a = new_value"
   ]
  },
  {
   "cell_type": "markdown",
   "id": "48c49731",
   "metadata": {},
   "source": [
    "### Tianshou Batch's Get and Set"
   ]
  },
  {
   "cell_type": "code",
   "execution_count": 8,
   "id": "f1bb14c1",
   "metadata": {
    "execution": {
     "iopub.execute_input": "2023-02-27T11:53:59.924810Z",
     "iopub.status.busy": "2023-02-27T11:53:59.924359Z",
     "iopub.status.idle": "2023-02-27T11:54:00.247205Z",
     "shell.execute_reply": "2023-02-27T11:54:00.246253Z"
    }
   },
   "outputs": [],
   "source": [
    "from tianshou.data import Batch\n",
    "\n",
    "b = Batch(**_TREE_DATA_2)"
   ]
  },
  {
   "cell_type": "code",
   "execution_count": 9,
   "id": "cb0777c3",
   "metadata": {
    "execution": {
     "iopub.execute_input": "2023-02-27T11:54:00.250698Z",
     "iopub.status.busy": "2023-02-27T11:54:00.249990Z",
     "iopub.status.idle": "2023-02-27T11:54:00.255410Z",
     "shell.execute_reply": "2023-02-27T11:54:00.254812Z"
    }
   },
   "outputs": [
    {
     "data": {
      "text/plain": [
       "Batch(\n",
       "    a: tensor([[ 0.1657,  0.7004, -0.0305],\n",
       "               [-0.7508,  0.0089, -0.5143]]),\n",
       "    x: Batch(\n",
       "           c: tensor([[ 0.8369,  1.1530, -0.6796,  0.2164],\n",
       "                      [-1.1411,  0.6350,  2.4495,  0.8238],\n",
       "                      [ 0.7780,  0.8311,  1.4110,  0.6833]]),\n",
       "       ),\n",
       ")"
      ]
     },
     "execution_count": 9,
     "metadata": {},
     "output_type": "execute_result"
    }
   ],
   "source": [
    "b"
   ]
  },
  {
   "cell_type": "code",
   "execution_count": 10,
   "id": "43ef8ea3",
   "metadata": {
    "execution": {
     "iopub.execute_input": "2023-02-27T11:54:00.257997Z",
     "iopub.status.busy": "2023-02-27T11:54:00.257420Z",
     "iopub.status.idle": "2023-02-27T11:54:00.262820Z",
     "shell.execute_reply": "2023-02-27T11:54:00.261866Z"
    }
   },
   "outputs": [
    {
     "data": {
      "text/plain": [
       "tensor([[ 0.1657,  0.7004, -0.0305],\n",
       "        [-0.7508,  0.0089, -0.5143]])"
      ]
     },
     "execution_count": 10,
     "metadata": {},
     "output_type": "execute_result"
    }
   ],
   "source": [
    "b.a"
   ]
  },
  {
   "cell_type": "code",
   "execution_count": 11,
   "id": "b785ab72",
   "metadata": {
    "execution": {
     "iopub.execute_input": "2023-02-27T11:54:00.265285Z",
     "iopub.status.busy": "2023-02-27T11:54:00.264933Z",
     "iopub.status.idle": "2023-02-27T11:54:04.864377Z",
     "shell.execute_reply": "2023-02-27T11:54:04.863623Z"
    }
   },
   "outputs": [
    {
     "name": "stdout",
     "output_type": "stream",
     "text": [
      "56.6 ns ± 0.0483 ns per loop (mean ± std. dev. of 7 runs, 10,000,000 loops each)\n"
     ]
    }
   ],
   "source": [
    "%timeit b.a"
   ]
  },
  {
   "cell_type": "code",
   "execution_count": 12,
   "id": "ad54dc69",
   "metadata": {
    "execution": {
     "iopub.execute_input": "2023-02-27T11:54:04.867123Z",
     "iopub.status.busy": "2023-02-27T11:54:04.866786Z",
     "iopub.status.idle": "2023-02-27T11:54:04.873322Z",
     "shell.execute_reply": "2023-02-27T11:54:04.872462Z"
    }
   },
   "outputs": [
    {
     "data": {
      "text/plain": [
       "Batch(\n",
       "    a: tensor([[ 0.7126, -0.5419,  0.8370],\n",
       "               [-0.3626,  0.8733, -0.1049]]),\n",
       "    x: Batch(\n",
       "           c: tensor([[ 0.8369,  1.1530, -0.6796,  0.2164],\n",
       "                      [-1.1411,  0.6350,  2.4495,  0.8238],\n",
       "                      [ 0.7780,  0.8311,  1.4110,  0.6833]]),\n",
       "       ),\n",
       ")"
      ]
     },
     "execution_count": 12,
     "metadata": {},
     "output_type": "execute_result"
    }
   ],
   "source": [
    "new_value = torch.randn(2, 3)\n",
    "b.a = new_value\n",
    "\n",
    "b"
   ]
  },
  {
   "cell_type": "code",
   "execution_count": 13,
   "id": "29b1d0bf",
   "metadata": {
    "execution": {
     "iopub.execute_input": "2023-02-27T11:54:04.875652Z",
     "iopub.status.busy": "2023-02-27T11:54:04.875312Z",
     "iopub.status.idle": "2023-02-27T11:54:08.761786Z",
     "shell.execute_reply": "2023-02-27T11:54:08.760762Z"
    }
   },
   "outputs": [
    {
     "name": "stdout",
     "output_type": "stream",
     "text": [
      "478 ns ± 2.47 ns per loop (mean ± std. dev. of 7 runs, 1,000,000 loops each)\n"
     ]
    }
   ],
   "source": [
    "%timeit b.a = new_value"
   ]
  },
  {
   "cell_type": "markdown",
   "id": "b61ad1d0",
   "metadata": {},
   "source": [
    "## Initialization"
   ]
  },
  {
   "cell_type": "markdown",
   "id": "d70f0d54",
   "metadata": {},
   "source": [
    "### TreeValue's Initialization"
   ]
  },
  {
   "cell_type": "code",
   "execution_count": 14,
   "id": "d32a679b",
   "metadata": {
    "execution": {
     "iopub.execute_input": "2023-02-27T11:54:08.764857Z",
     "iopub.status.busy": "2023-02-27T11:54:08.764357Z",
     "iopub.status.idle": "2023-02-27T11:54:15.537127Z",
     "shell.execute_reply": "2023-02-27T11:54:15.536402Z"
    }
   },
   "outputs": [
    {
     "name": "stdout",
     "output_type": "stream",
     "text": [
      "835 ns ± 2.11 ns per loop (mean ± std. dev. of 7 runs, 1,000,000 loops each)\n"
     ]
    }
   ],
   "source": [
    "%timeit FastTreeValue(_TREE_DATA_1)"
   ]
  },
  {
   "cell_type": "markdown",
   "id": "24f3707b",
   "metadata": {},
   "source": [
    "### Tianshou Batch's Initialization"
   ]
  },
  {
   "cell_type": "code",
   "execution_count": 15,
   "id": "ac3958df",
   "metadata": {
    "execution": {
     "iopub.execute_input": "2023-02-27T11:54:15.540262Z",
     "iopub.status.busy": "2023-02-27T11:54:15.539749Z",
     "iopub.status.idle": "2023-02-27T11:54:24.614696Z",
     "shell.execute_reply": "2023-02-27T11:54:24.613964Z"
    }
   },
   "outputs": [
    {
     "name": "stdout",
     "output_type": "stream",
     "text": [
      "11.2 µs ± 40.2 ns per loop (mean ± std. dev. of 7 runs, 100,000 loops each)\n"
     ]
    }
   ],
   "source": [
    "%timeit Batch(**_TREE_DATA_1)"
   ]
  },
  {
   "cell_type": "markdown",
   "id": "1ab82e2d",
   "metadata": {},
   "source": [
    "## Deep Copy Operation"
   ]
  },
  {
   "cell_type": "code",
   "execution_count": 16,
   "id": "210a9442",
   "metadata": {
    "execution": {
     "iopub.execute_input": "2023-02-27T11:54:24.617731Z",
     "iopub.status.busy": "2023-02-27T11:54:24.617381Z",
     "iopub.status.idle": "2023-02-27T11:54:24.621268Z",
     "shell.execute_reply": "2023-02-27T11:54:24.620662Z"
    }
   },
   "outputs": [],
   "source": [
    "import copy"
   ]
  },
  {
   "cell_type": "markdown",
   "id": "5a736274",
   "metadata": {},
   "source": [
    "### Deep Copy of TreeValue"
   ]
  },
  {
   "cell_type": "code",
   "execution_count": 17,
   "id": "f9bcadd6",
   "metadata": {
    "execution": {
     "iopub.execute_input": "2023-02-27T11:54:24.623878Z",
     "iopub.status.busy": "2023-02-27T11:54:24.623573Z",
     "iopub.status.idle": "2023-02-27T11:54:35.556995Z",
     "shell.execute_reply": "2023-02-27T11:54:35.556427Z"
    }
   },
   "outputs": [
    {
     "name": "stdout",
     "output_type": "stream",
     "text": [
      "135 µs ± 315 ns per loop (mean ± std. dev. of 7 runs, 10,000 loops each)\n"
     ]
    }
   ],
   "source": [
    "t3 = FastTreeValue(_TREE_DATA_3)\n",
    "%timeit copy.deepcopy(t3)"
   ]
  },
  {
   "cell_type": "markdown",
   "id": "bf8be7ea",
   "metadata": {},
   "source": [
    "### Deep Copy of Tianshou Batch"
   ]
  },
  {
   "cell_type": "code",
   "execution_count": 18,
   "id": "91998e6f",
   "metadata": {
    "execution": {
     "iopub.execute_input": "2023-02-27T11:54:35.560739Z",
     "iopub.status.busy": "2023-02-27T11:54:35.559819Z",
     "iopub.status.idle": "2023-02-27T11:54:46.722015Z",
     "shell.execute_reply": "2023-02-27T11:54:46.721441Z"
    }
   },
   "outputs": [
    {
     "name": "stdout",
     "output_type": "stream",
     "text": [
      "137 µs ± 132 ns per loop (mean ± std. dev. of 7 runs, 10,000 loops each)\n"
     ]
    }
   ],
   "source": [
    "b3 = Batch(**_TREE_DATA_3)\n",
    "%timeit copy.deepcopy(b3)"
   ]
  },
  {
   "cell_type": "markdown",
   "id": "223162fb",
   "metadata": {},
   "source": [
    "## Stack, Concat and Split Operation"
   ]
  },
  {
   "cell_type": "markdown",
   "id": "85fa4a73",
   "metadata": {},
   "source": [
    "### Performance of TreeValue"
   ]
  },
  {
   "cell_type": "code",
   "execution_count": 19,
   "id": "a0c2b697",
   "metadata": {
    "execution": {
     "iopub.execute_input": "2023-02-27T11:54:46.725850Z",
     "iopub.status.busy": "2023-02-27T11:54:46.724881Z",
     "iopub.status.idle": "2023-02-27T11:54:46.729674Z",
     "shell.execute_reply": "2023-02-27T11:54:46.728737Z"
    }
   },
   "outputs": [],
   "source": [
    "trees = [FastTreeValue(_TREE_DATA_2) for _ in range(8)]"
   ]
  },
  {
   "cell_type": "code",
   "execution_count": 20,
   "id": "017ea5a5",
   "metadata": {
    "execution": {
     "iopub.execute_input": "2023-02-27T11:54:46.733144Z",
     "iopub.status.busy": "2023-02-27T11:54:46.732247Z",
     "iopub.status.idle": "2023-02-27T11:54:46.741343Z",
     "shell.execute_reply": "2023-02-27T11:54:46.740394Z"
    }
   },
   "outputs": [
    {
     "data": {
      "text/plain": [
       "<FastTreeValue 0x7f8420a51d30>\n",
       "├── 'a' --> tensor([[[ 0.1657,  0.7004, -0.0305],\n",
       "│                    [-0.7508,  0.0089, -0.5143]],\n",
       "│           \n",
       "│                   [[ 0.1657,  0.7004, -0.0305],\n",
       "│                    [-0.7508,  0.0089, -0.5143]],\n",
       "│           \n",
       "│                   [[ 0.1657,  0.7004, -0.0305],\n",
       "│                    [-0.7508,  0.0089, -0.5143]],\n",
       "│           \n",
       "│                   [[ 0.1657,  0.7004, -0.0305],\n",
       "│                    [-0.7508,  0.0089, -0.5143]],\n",
       "│           \n",
       "│                   [[ 0.1657,  0.7004, -0.0305],\n",
       "│                    [-0.7508,  0.0089, -0.5143]],\n",
       "│           \n",
       "│                   [[ 0.1657,  0.7004, -0.0305],\n",
       "│                    [-0.7508,  0.0089, -0.5143]],\n",
       "│           \n",
       "│                   [[ 0.1657,  0.7004, -0.0305],\n",
       "│                    [-0.7508,  0.0089, -0.5143]],\n",
       "│           \n",
       "│                   [[ 0.1657,  0.7004, -0.0305],\n",
       "│                    [-0.7508,  0.0089, -0.5143]]])\n",
       "└── 'x' --> <FastTreeValue 0x7f8420a518e0>\n",
       "    └── 'c' --> tensor([[[ 0.8369,  1.1530, -0.6796,  0.2164],\n",
       "                         [-1.1411,  0.6350,  2.4495,  0.8238],\n",
       "                         [ 0.7780,  0.8311,  1.4110,  0.6833]],\n",
       "                \n",
       "                        [[ 0.8369,  1.1530, -0.6796,  0.2164],\n",
       "                         [-1.1411,  0.6350,  2.4495,  0.8238],\n",
       "                         [ 0.7780,  0.8311,  1.4110,  0.6833]],\n",
       "                \n",
       "                        [[ 0.8369,  1.1530, -0.6796,  0.2164],\n",
       "                         [-1.1411,  0.6350,  2.4495,  0.8238],\n",
       "                         [ 0.7780,  0.8311,  1.4110,  0.6833]],\n",
       "                \n",
       "                        [[ 0.8369,  1.1530, -0.6796,  0.2164],\n",
       "                         [-1.1411,  0.6350,  2.4495,  0.8238],\n",
       "                         [ 0.7780,  0.8311,  1.4110,  0.6833]],\n",
       "                \n",
       "                        [[ 0.8369,  1.1530, -0.6796,  0.2164],\n",
       "                         [-1.1411,  0.6350,  2.4495,  0.8238],\n",
       "                         [ 0.7780,  0.8311,  1.4110,  0.6833]],\n",
       "                \n",
       "                        [[ 0.8369,  1.1530, -0.6796,  0.2164],\n",
       "                         [-1.1411,  0.6350,  2.4495,  0.8238],\n",
       "                         [ 0.7780,  0.8311,  1.4110,  0.6833]],\n",
       "                \n",
       "                        [[ 0.8369,  1.1530, -0.6796,  0.2164],\n",
       "                         [-1.1411,  0.6350,  2.4495,  0.8238],\n",
       "                         [ 0.7780,  0.8311,  1.4110,  0.6833]],\n",
       "                \n",
       "                        [[ 0.8369,  1.1530, -0.6796,  0.2164],\n",
       "                         [-1.1411,  0.6350,  2.4495,  0.8238],\n",
       "                         [ 0.7780,  0.8311,  1.4110,  0.6833]]])"
      ]
     },
     "execution_count": 20,
     "metadata": {},
     "output_type": "execute_result"
    }
   ],
   "source": [
    "t_stack = FastTreeValue.func(subside=True)(torch.stack)\n",
    "\n",
    "t_stack(trees)"
   ]
  },
  {
   "cell_type": "code",
   "execution_count": 21,
   "id": "f8b3f415",
   "metadata": {
    "execution": {
     "iopub.execute_input": "2023-02-27T11:54:46.744684Z",
     "iopub.status.busy": "2023-02-27T11:54:46.743808Z",
     "iopub.status.idle": "2023-02-27T11:54:49.364025Z",
     "shell.execute_reply": "2023-02-27T11:54:49.363284Z"
    }
   },
   "outputs": [
    {
     "name": "stdout",
     "output_type": "stream",
     "text": [
      "32.2 µs ± 40.4 ns per loop (mean ± std. dev. of 7 runs, 10,000 loops each)\n"
     ]
    }
   ],
   "source": [
    "%timeit t_stack(trees)"
   ]
  },
  {
   "cell_type": "code",
   "execution_count": 22,
   "id": "94b56771",
   "metadata": {
    "execution": {
     "iopub.execute_input": "2023-02-27T11:54:49.367019Z",
     "iopub.status.busy": "2023-02-27T11:54:49.366668Z",
     "iopub.status.idle": "2023-02-27T11:54:49.375292Z",
     "shell.execute_reply": "2023-02-27T11:54:49.374384Z"
    }
   },
   "outputs": [
    {
     "data": {
      "text/plain": [
       "<FastTreeValue 0x7f84d880e070>\n",
       "├── 'a' --> tensor([[ 0.1657,  0.7004, -0.0305],\n",
       "│                   [-0.7508,  0.0089, -0.5143],\n",
       "│                   [ 0.1657,  0.7004, -0.0305],\n",
       "│                   [-0.7508,  0.0089, -0.5143],\n",
       "│                   [ 0.1657,  0.7004, -0.0305],\n",
       "│                   [-0.7508,  0.0089, -0.5143],\n",
       "│                   [ 0.1657,  0.7004, -0.0305],\n",
       "│                   [-0.7508,  0.0089, -0.5143],\n",
       "│                   [ 0.1657,  0.7004, -0.0305],\n",
       "│                   [-0.7508,  0.0089, -0.5143],\n",
       "│                   [ 0.1657,  0.7004, -0.0305],\n",
       "│                   [-0.7508,  0.0089, -0.5143],\n",
       "│                   [ 0.1657,  0.7004, -0.0305],\n",
       "│                   [-0.7508,  0.0089, -0.5143],\n",
       "│                   [ 0.1657,  0.7004, -0.0305],\n",
       "│                   [-0.7508,  0.0089, -0.5143]])\n",
       "└── 'x' --> <FastTreeValue 0x7f84d880e9a0>\n",
       "    └── 'c' --> tensor([[ 0.8369,  1.1530, -0.6796,  0.2164],\n",
       "                        [-1.1411,  0.6350,  2.4495,  0.8238],\n",
       "                        [ 0.7780,  0.8311,  1.4110,  0.6833],\n",
       "                        [ 0.8369,  1.1530, -0.6796,  0.2164],\n",
       "                        [-1.1411,  0.6350,  2.4495,  0.8238],\n",
       "                        [ 0.7780,  0.8311,  1.4110,  0.6833],\n",
       "                        [ 0.8369,  1.1530, -0.6796,  0.2164],\n",
       "                        [-1.1411,  0.6350,  2.4495,  0.8238],\n",
       "                        [ 0.7780,  0.8311,  1.4110,  0.6833],\n",
       "                        [ 0.8369,  1.1530, -0.6796,  0.2164],\n",
       "                        [-1.1411,  0.6350,  2.4495,  0.8238],\n",
       "                        [ 0.7780,  0.8311,  1.4110,  0.6833],\n",
       "                        [ 0.8369,  1.1530, -0.6796,  0.2164],\n",
       "                        [-1.1411,  0.6350,  2.4495,  0.8238],\n",
       "                        [ 0.7780,  0.8311,  1.4110,  0.6833],\n",
       "                        [ 0.8369,  1.1530, -0.6796,  0.2164],\n",
       "                        [-1.1411,  0.6350,  2.4495,  0.8238],\n",
       "                        [ 0.7780,  0.8311,  1.4110,  0.6833],\n",
       "                        [ 0.8369,  1.1530, -0.6796,  0.2164],\n",
       "                        [-1.1411,  0.6350,  2.4495,  0.8238],\n",
       "                        [ 0.7780,  0.8311,  1.4110,  0.6833],\n",
       "                        [ 0.8369,  1.1530, -0.6796,  0.2164],\n",
       "                        [-1.1411,  0.6350,  2.4495,  0.8238],\n",
       "                        [ 0.7780,  0.8311,  1.4110,  0.6833]])"
      ]
     },
     "execution_count": 22,
     "metadata": {},
     "output_type": "execute_result"
    }
   ],
   "source": [
    "t_cat = FastTreeValue.func(subside=True)(torch.cat)\n",
    "\n",
    "t_cat(trees)"
   ]
  },
  {
   "cell_type": "code",
   "execution_count": 23,
   "id": "5e9c06a6",
   "metadata": {
    "execution": {
     "iopub.execute_input": "2023-02-27T11:54:49.377663Z",
     "iopub.status.busy": "2023-02-27T11:54:49.377354Z",
     "iopub.status.idle": "2023-02-27T11:54:51.859410Z",
     "shell.execute_reply": "2023-02-27T11:54:51.858672Z"
    }
   },
   "outputs": [
    {
     "name": "stdout",
     "output_type": "stream",
     "text": [
      "30.5 µs ± 35.2 ns per loop (mean ± std. dev. of 7 runs, 10,000 loops each)\n"
     ]
    }
   ],
   "source": [
    "%timeit t_cat(trees)"
   ]
  },
  {
   "cell_type": "code",
   "execution_count": 24,
   "id": "a3ab5c8f",
   "metadata": {
    "execution": {
     "iopub.execute_input": "2023-02-27T11:54:51.862690Z",
     "iopub.status.busy": "2023-02-27T11:54:51.862023Z",
     "iopub.status.idle": "2023-02-27T11:54:56.644754Z",
     "shell.execute_reply": "2023-02-27T11:54:56.644012Z"
    }
   },
   "outputs": [
    {
     "name": "stdout",
     "output_type": "stream",
     "text": [
      "58.8 µs ± 349 ns per loop (mean ± std. dev. of 7 runs, 10,000 loops each)\n"
     ]
    }
   ],
   "source": [
    "t_split = FastTreeValue.func(rise=True)(torch.split)\n",
    "tree = FastTreeValue({\n",
    "    'obs': torch.randn(8, 4, 84, 84),\n",
    "    'action': torch.randint(0, 6, size=(8, 1,)),\n",
    "    'reward': torch.rand(8, 1),\n",
    "})\n",
    "\n",
    "%timeit t_split(tree, 1)"
   ]
  },
  {
   "cell_type": "markdown",
   "id": "31c3ec0b",
   "metadata": {},
   "source": [
    "### Performance of Tianshou Batch"
   ]
  },
  {
   "cell_type": "code",
   "execution_count": 25,
   "id": "9ead828a",
   "metadata": {
    "execution": {
     "iopub.execute_input": "2023-02-27T11:54:56.647816Z",
     "iopub.status.busy": "2023-02-27T11:54:56.647224Z",
     "iopub.status.idle": "2023-02-27T11:54:56.655996Z",
     "shell.execute_reply": "2023-02-27T11:54:56.654519Z"
    }
   },
   "outputs": [
    {
     "data": {
      "text/plain": [
       "Batch(\n",
       "    x: Batch(\n",
       "           c: tensor([[[ 0.8369,  1.1530, -0.6796,  0.2164],\n",
       "                       [-1.1411,  0.6350,  2.4495,  0.8238],\n",
       "                       [ 0.7780,  0.8311,  1.4110,  0.6833]],\n",
       "              \n",
       "                      [[ 0.8369,  1.1530, -0.6796,  0.2164],\n",
       "                       [-1.1411,  0.6350,  2.4495,  0.8238],\n",
       "                       [ 0.7780,  0.8311,  1.4110,  0.6833]],\n",
       "              \n",
       "                      [[ 0.8369,  1.1530, -0.6796,  0.2164],\n",
       "                       [-1.1411,  0.6350,  2.4495,  0.8238],\n",
       "                       [ 0.7780,  0.8311,  1.4110,  0.6833]],\n",
       "              \n",
       "                      [[ 0.8369,  1.1530, -0.6796,  0.2164],\n",
       "                       [-1.1411,  0.6350,  2.4495,  0.8238],\n",
       "                       [ 0.7780,  0.8311,  1.4110,  0.6833]],\n",
       "              \n",
       "                      [[ 0.8369,  1.1530, -0.6796,  0.2164],\n",
       "                       [-1.1411,  0.6350,  2.4495,  0.8238],\n",
       "                       [ 0.7780,  0.8311,  1.4110,  0.6833]],\n",
       "              \n",
       "                      [[ 0.8369,  1.1530, -0.6796,  0.2164],\n",
       "                       [-1.1411,  0.6350,  2.4495,  0.8238],\n",
       "                       [ 0.7780,  0.8311,  1.4110,  0.6833]],\n",
       "              \n",
       "                      [[ 0.8369,  1.1530, -0.6796,  0.2164],\n",
       "                       [-1.1411,  0.6350,  2.4495,  0.8238],\n",
       "                       [ 0.7780,  0.8311,  1.4110,  0.6833]],\n",
       "              \n",
       "                      [[ 0.8369,  1.1530, -0.6796,  0.2164],\n",
       "                       [-1.1411,  0.6350,  2.4495,  0.8238],\n",
       "                       [ 0.7780,  0.8311,  1.4110,  0.6833]]]),\n",
       "       ),\n",
       "    a: tensor([[[ 0.1657,  0.7004, -0.0305],\n",
       "                [-0.7508,  0.0089, -0.5143]],\n",
       "       \n",
       "               [[ 0.1657,  0.7004, -0.0305],\n",
       "                [-0.7508,  0.0089, -0.5143]],\n",
       "       \n",
       "               [[ 0.1657,  0.7004, -0.0305],\n",
       "                [-0.7508,  0.0089, -0.5143]],\n",
       "       \n",
       "               [[ 0.1657,  0.7004, -0.0305],\n",
       "                [-0.7508,  0.0089, -0.5143]],\n",
       "       \n",
       "               [[ 0.1657,  0.7004, -0.0305],\n",
       "                [-0.7508,  0.0089, -0.5143]],\n",
       "       \n",
       "               [[ 0.1657,  0.7004, -0.0305],\n",
       "                [-0.7508,  0.0089, -0.5143]],\n",
       "       \n",
       "               [[ 0.1657,  0.7004, -0.0305],\n",
       "                [-0.7508,  0.0089, -0.5143]],\n",
       "       \n",
       "               [[ 0.1657,  0.7004, -0.0305],\n",
       "                [-0.7508,  0.0089, -0.5143]]]),\n",
       ")"
      ]
     },
     "execution_count": 25,
     "metadata": {},
     "output_type": "execute_result"
    }
   ],
   "source": [
    "batches = [Batch(**_TREE_DATA_2) for _ in range(8)]\n",
    "\n",
    "Batch.stack(batches)"
   ]
  },
  {
   "cell_type": "code",
   "execution_count": 26,
   "id": "ec9037a3",
   "metadata": {
    "execution": {
     "iopub.execute_input": "2023-02-27T11:54:56.658514Z",
     "iopub.status.busy": "2023-02-27T11:54:56.657953Z",
     "iopub.status.idle": "2023-02-27T11:55:02.936749Z",
     "shell.execute_reply": "2023-02-27T11:55:02.935979Z"
    }
   },
   "outputs": [
    {
     "name": "stdout",
     "output_type": "stream",
     "text": [
      "77.2 µs ± 180 ns per loop (mean ± std. dev. of 7 runs, 10,000 loops each)\n"
     ]
    }
   ],
   "source": [
    "%timeit Batch.stack(batches)"
   ]
  },
  {
   "cell_type": "code",
   "execution_count": 27,
   "id": "cb8ab77e",
   "metadata": {
    "execution": {
     "iopub.execute_input": "2023-02-27T11:55:02.939914Z",
     "iopub.status.busy": "2023-02-27T11:55:02.939392Z",
     "iopub.status.idle": "2023-02-27T11:55:02.947076Z",
     "shell.execute_reply": "2023-02-27T11:55:02.946124Z"
    }
   },
   "outputs": [
    {
     "data": {
      "text/plain": [
       "Batch(\n",
       "    x: Batch(\n",
       "           c: tensor([[ 0.8369,  1.1530, -0.6796,  0.2164],\n",
       "                      [-1.1411,  0.6350,  2.4495,  0.8238],\n",
       "                      [ 0.7780,  0.8311,  1.4110,  0.6833],\n",
       "                      [ 0.8369,  1.1530, -0.6796,  0.2164],\n",
       "                      [-1.1411,  0.6350,  2.4495,  0.8238],\n",
       "                      [ 0.7780,  0.8311,  1.4110,  0.6833],\n",
       "                      [ 0.8369,  1.1530, -0.6796,  0.2164],\n",
       "                      [-1.1411,  0.6350,  2.4495,  0.8238],\n",
       "                      [ 0.7780,  0.8311,  1.4110,  0.6833],\n",
       "                      [ 0.8369,  1.1530, -0.6796,  0.2164],\n",
       "                      [-1.1411,  0.6350,  2.4495,  0.8238],\n",
       "                      [ 0.7780,  0.8311,  1.4110,  0.6833],\n",
       "                      [ 0.8369,  1.1530, -0.6796,  0.2164],\n",
       "                      [-1.1411,  0.6350,  2.4495,  0.8238],\n",
       "                      [ 0.7780,  0.8311,  1.4110,  0.6833],\n",
       "                      [ 0.8369,  1.1530, -0.6796,  0.2164],\n",
       "                      [-1.1411,  0.6350,  2.4495,  0.8238],\n",
       "                      [ 0.7780,  0.8311,  1.4110,  0.6833],\n",
       "                      [ 0.8369,  1.1530, -0.6796,  0.2164],\n",
       "                      [-1.1411,  0.6350,  2.4495,  0.8238],\n",
       "                      [ 0.7780,  0.8311,  1.4110,  0.6833],\n",
       "                      [ 0.8369,  1.1530, -0.6796,  0.2164],\n",
       "                      [-1.1411,  0.6350,  2.4495,  0.8238],\n",
       "                      [ 0.7780,  0.8311,  1.4110,  0.6833]]),\n",
       "       ),\n",
       "    a: tensor([[ 0.1657,  0.7004, -0.0305],\n",
       "               [-0.7508,  0.0089, -0.5143],\n",
       "               [ 0.1657,  0.7004, -0.0305],\n",
       "               [-0.7508,  0.0089, -0.5143],\n",
       "               [ 0.1657,  0.7004, -0.0305],\n",
       "               [-0.7508,  0.0089, -0.5143],\n",
       "               [ 0.1657,  0.7004, -0.0305],\n",
       "               [-0.7508,  0.0089, -0.5143],\n",
       "               [ 0.1657,  0.7004, -0.0305],\n",
       "               [-0.7508,  0.0089, -0.5143],\n",
       "               [ 0.1657,  0.7004, -0.0305],\n",
       "               [-0.7508,  0.0089, -0.5143],\n",
       "               [ 0.1657,  0.7004, -0.0305],\n",
       "               [-0.7508,  0.0089, -0.5143],\n",
       "               [ 0.1657,  0.7004, -0.0305],\n",
       "               [-0.7508,  0.0089, -0.5143]]),\n",
       ")"
      ]
     },
     "execution_count": 27,
     "metadata": {},
     "output_type": "execute_result"
    }
   ],
   "source": [
    "Batch.cat(batches)"
   ]
  },
  {
   "cell_type": "code",
   "execution_count": 28,
   "id": "18dfb045",
   "metadata": {
    "execution": {
     "iopub.execute_input": "2023-02-27T11:55:02.949550Z",
     "iopub.status.busy": "2023-02-27T11:55:02.949081Z",
     "iopub.status.idle": "2023-02-27T11:55:14.564476Z",
     "shell.execute_reply": "2023-02-27T11:55:14.563727Z"
    }
   },
   "outputs": [
    {
     "name": "stdout",
     "output_type": "stream",
     "text": [
      "143 µs ± 375 ns per loop (mean ± std. dev. of 7 runs, 10,000 loops each)\n"
     ]
    }
   ],
   "source": [
    "%timeit Batch.cat(batches)"
   ]
  },
  {
   "cell_type": "code",
   "execution_count": 29,
   "id": "c6688e51",
   "metadata": {
    "execution": {
     "iopub.execute_input": "2023-02-27T11:55:14.567164Z",
     "iopub.status.busy": "2023-02-27T11:55:14.566814Z",
     "iopub.status.idle": "2023-02-27T11:55:17.068919Z",
     "shell.execute_reply": "2023-02-27T11:55:17.068257Z"
    }
   },
   "outputs": [
    {
     "name": "stdout",
     "output_type": "stream",
     "text": [
      "307 µs ± 1.91 µs per loop (mean ± std. dev. of 7 runs, 1,000 loops each)\n"
     ]
    }
   ],
   "source": [
    "batch = Batch({\n",
    "    'obs': torch.randn(8, 4, 84, 84),\n",
    "    'action': torch.randint(0, 6, size=(8, 1,)),\n",
    "    'reward': torch.rand(8, 1)}\n",
    ")\n",
    "\n",
    "%timeit list(Batch.split(batch, 1, shuffle=False, merge_last=True))"
   ]
  },
  {
   "cell_type": "code",
   "execution_count": null,
   "id": "2539fbd9",
   "metadata": {},
   "outputs": [],
   "source": []
  }
 ],
 "metadata": {
  "kernelspec": {
   "display_name": "Python 3 (ipykernel)",
   "language": "python",
   "name": "python3"
  },
  "language_info": {
   "codemirror_mode": {
    "name": "ipython",
    "version": 3
   },
   "file_extension": ".py",
   "mimetype": "text/x-python",
   "name": "python",
   "nbconvert_exporter": "python",
   "pygments_lexer": "ipython3",
   "version": "3.8.16"
  }
 },
 "nbformat": 4,
 "nbformat_minor": 5
}
