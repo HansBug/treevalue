{
 "cells": [
  {
   "cell_type": "markdown",
   "id": "9d39d946",
   "metadata": {},
   "source": [
    "# Comparison Between TreeValue and Tianshou Batch"
   ]
  },
  {
   "cell_type": "markdown",
   "id": "3c6db2d4",
   "metadata": {},
   "source": [
    "In this section, we will take a look at the feature and performance of the [Tianshou Batch](https://github.com/thu-ml/tianshou) library, which is developed by Tsinghua Machine Learning Group."
   ]
  },
  {
   "cell_type": "markdown",
   "id": "069361b0",
   "metadata": {},
   "source": [
    "Before starting the comparison, let us define some thing."
   ]
  },
  {
   "cell_type": "code",
   "execution_count": 1,
   "id": "06fc8d26",
   "metadata": {
    "execution": {
     "iopub.execute_input": "2023-01-20T13:34:15.245393Z",
     "iopub.status.busy": "2023-01-20T13:34:15.244950Z",
     "iopub.status.idle": "2023-01-20T13:34:16.320133Z",
     "shell.execute_reply": "2023-01-20T13:34:16.319321Z"
    }
   },
   "outputs": [
    {
     "name": "stderr",
     "output_type": "stream",
     "text": [
      "/opt/hostedtoolcache/Python/3.8.16/x64/lib/python3.8/site-packages/tqdm/auto.py:22: TqdmWarning: IProgress not found. Please update jupyter and ipywidgets. See https://ipywidgets.readthedocs.io/en/stable/user_install.html\n",
      "  from .autonotebook import tqdm as notebook_tqdm\n"
     ]
    }
   ],
   "source": [
    "import torch \n",
    "\n",
    "_TREE_DATA_1 = {'a': 1, 'b': 2, 'x': {'c': 3, 'd': 4}}\n",
    "_TREE_DATA_2 = {\n",
    "    'a': torch.randn(2, 3), \n",
    "    'x': {\n",
    "        'c': torch.randn(3, 4)\n",
    "    },\n",
    "}\n",
    "_TREE_DATA_3 = {\n",
    "    'obs': torch.randn(4, 84, 84),\n",
    "    'action': torch.randint(0, 6, size=(1,)),\n",
    "    'reward': torch.rand(1),\n",
    "}"
   ]
  },
  {
   "cell_type": "markdown",
   "id": "83461b25",
   "metadata": {},
   "source": [
    "## Read and Write Operation"
   ]
  },
  {
   "cell_type": "markdown",
   "id": "067b3f73",
   "metadata": {},
   "source": [
    "Reading and writing are the two most common operations in the tree data structure based on the data model (TreeValue and Tianshou Batch both belong to this type), so this section will compare the reading and writing performance of these two libraries."
   ]
  },
  {
   "cell_type": "markdown",
   "id": "5d09a5b7",
   "metadata": {},
   "source": [
    "### TreeValue's Get and Set"
   ]
  },
  {
   "cell_type": "code",
   "execution_count": 2,
   "id": "9519c4bb",
   "metadata": {
    "execution": {
     "iopub.execute_input": "2023-01-20T13:34:16.325193Z",
     "iopub.status.busy": "2023-01-20T13:34:16.324660Z",
     "iopub.status.idle": "2023-01-20T13:34:16.361380Z",
     "shell.execute_reply": "2023-01-20T13:34:16.360608Z"
    }
   },
   "outputs": [],
   "source": [
    "from treevalue import FastTreeValue\n",
    "\n",
    "t = FastTreeValue(_TREE_DATA_2)"
   ]
  },
  {
   "cell_type": "code",
   "execution_count": 3,
   "id": "11c37677",
   "metadata": {
    "execution": {
     "iopub.execute_input": "2023-01-20T13:34:16.366701Z",
     "iopub.status.busy": "2023-01-20T13:34:16.366380Z",
     "iopub.status.idle": "2023-01-20T13:34:16.377987Z",
     "shell.execute_reply": "2023-01-20T13:34:16.377265Z"
    }
   },
   "outputs": [
    {
     "data": {
      "text/plain": [
       "<FastTreeValue 0x7fbb586eed60>\n",
       "├── 'a' --> tensor([[ 0.0049,  0.7568,  0.7674],\n",
       "│                   [ 0.2551,  0.3819, -0.1944]])\n",
       "└── 'x' --> <FastTreeValue 0x7fbb586b20a0>\n",
       "    └── 'c' --> tensor([[ 0.9028,  0.6061,  0.1398,  1.2202],\n",
       "                        [-1.1538, -0.2589, -1.1863, -0.0037],\n",
       "                        [-1.9665, -0.0657, -0.9069,  1.3180]])"
      ]
     },
     "execution_count": 3,
     "metadata": {},
     "output_type": "execute_result"
    }
   ],
   "source": [
    "t"
   ]
  },
  {
   "cell_type": "code",
   "execution_count": 4,
   "id": "fd70b0b9",
   "metadata": {
    "execution": {
     "iopub.execute_input": "2023-01-20T13:34:16.381448Z",
     "iopub.status.busy": "2023-01-20T13:34:16.381166Z",
     "iopub.status.idle": "2023-01-20T13:34:16.387708Z",
     "shell.execute_reply": "2023-01-20T13:34:16.386957Z"
    }
   },
   "outputs": [
    {
     "data": {
      "text/plain": [
       "tensor([[ 0.0049,  0.7568,  0.7674],\n",
       "        [ 0.2551,  0.3819, -0.1944]])"
      ]
     },
     "execution_count": 4,
     "metadata": {},
     "output_type": "execute_result"
    }
   ],
   "source": [
    "t.a"
   ]
  },
  {
   "cell_type": "code",
   "execution_count": 5,
   "id": "c18197bd",
   "metadata": {
    "execution": {
     "iopub.execute_input": "2023-01-20T13:34:16.391432Z",
     "iopub.status.busy": "2023-01-20T13:34:16.391170Z",
     "iopub.status.idle": "2023-01-20T13:34:21.627590Z",
     "shell.execute_reply": "2023-01-20T13:34:21.626850Z"
    }
   },
   "outputs": [
    {
     "name": "stdout",
     "output_type": "stream",
     "text": [
      "64.5 ns ± 0.0402 ns per loop (mean ± std. dev. of 7 runs, 10,000,000 loops each)\n"
     ]
    }
   ],
   "source": [
    "%timeit t.a"
   ]
  },
  {
   "cell_type": "code",
   "execution_count": 6,
   "id": "bd52f867",
   "metadata": {
    "execution": {
     "iopub.execute_input": "2023-01-20T13:34:21.631196Z",
     "iopub.status.busy": "2023-01-20T13:34:21.630613Z",
     "iopub.status.idle": "2023-01-20T13:34:21.637752Z",
     "shell.execute_reply": "2023-01-20T13:34:21.636984Z"
    }
   },
   "outputs": [
    {
     "data": {
      "text/plain": [
       "<FastTreeValue 0x7fbb586eed60>\n",
       "├── 'a' --> tensor([[ 0.9355,  2.5355, -0.1965],\n",
       "│                   [-0.4760, -0.1809,  0.9122]])\n",
       "└── 'x' --> <FastTreeValue 0x7fbb586b20a0>\n",
       "    └── 'c' --> tensor([[ 0.9028,  0.6061,  0.1398,  1.2202],\n",
       "                        [-1.1538, -0.2589, -1.1863, -0.0037],\n",
       "                        [-1.9665, -0.0657, -0.9069,  1.3180]])"
      ]
     },
     "execution_count": 6,
     "metadata": {},
     "output_type": "execute_result"
    }
   ],
   "source": [
    "new_value = torch.randn(2, 3)\n",
    "t.a = new_value\n",
    "\n",
    "t"
   ]
  },
  {
   "cell_type": "code",
   "execution_count": 7,
   "id": "bbe04d1c",
   "metadata": {
    "execution": {
     "iopub.execute_input": "2023-01-20T13:34:21.641257Z",
     "iopub.status.busy": "2023-01-20T13:34:21.640643Z",
     "iopub.status.idle": "2023-01-20T13:34:27.103041Z",
     "shell.execute_reply": "2023-01-20T13:34:27.102214Z"
    }
   },
   "outputs": [
    {
     "name": "stdout",
     "output_type": "stream",
     "text": [
      "67.1 ns ± 0.0527 ns per loop (mean ± std. dev. of 7 runs, 10,000,000 loops each)\n"
     ]
    }
   ],
   "source": [
    "%timeit t.a = new_value"
   ]
  },
  {
   "cell_type": "markdown",
   "id": "48c49731",
   "metadata": {},
   "source": [
    "### Tianshou Batch's Get and Set"
   ]
  },
  {
   "cell_type": "code",
   "execution_count": 8,
   "id": "f1bb14c1",
   "metadata": {
    "execution": {
     "iopub.execute_input": "2023-01-20T13:34:27.110369Z",
     "iopub.status.busy": "2023-01-20T13:34:27.109330Z",
     "iopub.status.idle": "2023-01-20T13:34:27.528143Z",
     "shell.execute_reply": "2023-01-20T13:34:27.527231Z"
    }
   },
   "outputs": [],
   "source": [
    "from tianshou.data import Batch\n",
    "\n",
    "b = Batch(**_TREE_DATA_2)"
   ]
  },
  {
   "cell_type": "code",
   "execution_count": 9,
   "id": "cb0777c3",
   "metadata": {
    "execution": {
     "iopub.execute_input": "2023-01-20T13:34:27.532606Z",
     "iopub.status.busy": "2023-01-20T13:34:27.532006Z",
     "iopub.status.idle": "2023-01-20T13:34:27.538783Z",
     "shell.execute_reply": "2023-01-20T13:34:27.537992Z"
    }
   },
   "outputs": [
    {
     "data": {
      "text/plain": [
       "Batch(\n",
       "    a: tensor([[ 0.0049,  0.7568,  0.7674],\n",
       "               [ 0.2551,  0.3819, -0.1944]]),\n",
       "    x: Batch(\n",
       "           c: tensor([[ 0.9028,  0.6061,  0.1398,  1.2202],\n",
       "                      [-1.1538, -0.2589, -1.1863, -0.0037],\n",
       "                      [-1.9665, -0.0657, -0.9069,  1.3180]]),\n",
       "       ),\n",
       ")"
      ]
     },
     "execution_count": 9,
     "metadata": {},
     "output_type": "execute_result"
    }
   ],
   "source": [
    "b"
   ]
  },
  {
   "cell_type": "code",
   "execution_count": 10,
   "id": "43ef8ea3",
   "metadata": {
    "execution": {
     "iopub.execute_input": "2023-01-20T13:34:27.542212Z",
     "iopub.status.busy": "2023-01-20T13:34:27.541779Z",
     "iopub.status.idle": "2023-01-20T13:34:27.547840Z",
     "shell.execute_reply": "2023-01-20T13:34:27.547069Z"
    }
   },
   "outputs": [
    {
     "data": {
      "text/plain": [
       "tensor([[ 0.0049,  0.7568,  0.7674],\n",
       "        [ 0.2551,  0.3819, -0.1944]])"
      ]
     },
     "execution_count": 10,
     "metadata": {},
     "output_type": "execute_result"
    }
   ],
   "source": [
    "b.a"
   ]
  },
  {
   "cell_type": "code",
   "execution_count": 11,
   "id": "b785ab72",
   "metadata": {
    "execution": {
     "iopub.execute_input": "2023-01-20T13:34:27.551432Z",
     "iopub.status.busy": "2023-01-20T13:34:27.550761Z",
     "iopub.status.idle": "2023-01-20T13:34:32.212282Z",
     "shell.execute_reply": "2023-01-20T13:34:32.211484Z"
    }
   },
   "outputs": [
    {
     "name": "stdout",
     "output_type": "stream",
     "text": [
      "57.4 ns ± 0.0759 ns per loop (mean ± std. dev. of 7 runs, 10,000,000 loops each)\n"
     ]
    }
   ],
   "source": [
    "%timeit b.a"
   ]
  },
  {
   "cell_type": "code",
   "execution_count": 12,
   "id": "ad54dc69",
   "metadata": {
    "execution": {
     "iopub.execute_input": "2023-01-20T13:34:32.216351Z",
     "iopub.status.busy": "2023-01-20T13:34:32.215554Z",
     "iopub.status.idle": "2023-01-20T13:34:32.223300Z",
     "shell.execute_reply": "2023-01-20T13:34:32.222454Z"
    }
   },
   "outputs": [
    {
     "data": {
      "text/plain": [
       "Batch(\n",
       "    a: tensor([[-1.1042,  1.9066, -1.4315],\n",
       "               [-1.2867, -0.6361, -1.6067]]),\n",
       "    x: Batch(\n",
       "           c: tensor([[ 0.9028,  0.6061,  0.1398,  1.2202],\n",
       "                      [-1.1538, -0.2589, -1.1863, -0.0037],\n",
       "                      [-1.9665, -0.0657, -0.9069,  1.3180]]),\n",
       "       ),\n",
       ")"
      ]
     },
     "execution_count": 12,
     "metadata": {},
     "output_type": "execute_result"
    }
   ],
   "source": [
    "new_value = torch.randn(2, 3)\n",
    "b.a = new_value\n",
    "\n",
    "b"
   ]
  },
  {
   "cell_type": "code",
   "execution_count": 13,
   "id": "29b1d0bf",
   "metadata": {
    "execution": {
     "iopub.execute_input": "2023-01-20T13:34:32.226890Z",
     "iopub.status.busy": "2023-01-20T13:34:32.226430Z",
     "iopub.status.idle": "2023-01-20T13:34:36.213850Z",
     "shell.execute_reply": "2023-01-20T13:34:36.213047Z"
    }
   },
   "outputs": [
    {
     "name": "stdout",
     "output_type": "stream",
     "text": [
      "490 ns ± 0.127 ns per loop (mean ± std. dev. of 7 runs, 1,000,000 loops each)\n"
     ]
    }
   ],
   "source": [
    "%timeit b.a = new_value"
   ]
  },
  {
   "cell_type": "markdown",
   "id": "b61ad1d0",
   "metadata": {},
   "source": [
    "## Initialization"
   ]
  },
  {
   "cell_type": "markdown",
   "id": "d70f0d54",
   "metadata": {},
   "source": [
    "### TreeValue's Initialization"
   ]
  },
  {
   "cell_type": "code",
   "execution_count": 14,
   "id": "d32a679b",
   "metadata": {
    "execution": {
     "iopub.execute_input": "2023-01-20T13:34:36.217837Z",
     "iopub.status.busy": "2023-01-20T13:34:36.217360Z",
     "iopub.status.idle": "2023-01-20T13:34:42.973461Z",
     "shell.execute_reply": "2023-01-20T13:34:42.971869Z"
    }
   },
   "outputs": [
    {
     "name": "stdout",
     "output_type": "stream",
     "text": [
      "835 ns ± 2.44 ns per loop (mean ± std. dev. of 7 runs, 1,000,000 loops each)\n"
     ]
    }
   ],
   "source": [
    "%timeit FastTreeValue(_TREE_DATA_1)"
   ]
  },
  {
   "cell_type": "markdown",
   "id": "24f3707b",
   "metadata": {},
   "source": [
    "### Tianshou Batch's Initialization"
   ]
  },
  {
   "cell_type": "code",
   "execution_count": 15,
   "id": "ac3958df",
   "metadata": {
    "execution": {
     "iopub.execute_input": "2023-01-20T13:34:42.977779Z",
     "iopub.status.busy": "2023-01-20T13:34:42.977300Z",
     "iopub.status.idle": "2023-01-20T13:34:51.667271Z",
     "shell.execute_reply": "2023-01-20T13:34:51.666383Z"
    }
   },
   "outputs": [
    {
     "name": "stdout",
     "output_type": "stream",
     "text": [
      "10.7 µs ± 18.8 ns per loop (mean ± std. dev. of 7 runs, 100,000 loops each)\n"
     ]
    }
   ],
   "source": [
    "%timeit Batch(**_TREE_DATA_1)"
   ]
  },
  {
   "cell_type": "markdown",
   "id": "1ab82e2d",
   "metadata": {},
   "source": [
    "## Deep Copy Operation"
   ]
  },
  {
   "cell_type": "code",
   "execution_count": 16,
   "id": "210a9442",
   "metadata": {
    "execution": {
     "iopub.execute_input": "2023-01-20T13:34:51.671497Z",
     "iopub.status.busy": "2023-01-20T13:34:51.670722Z",
     "iopub.status.idle": "2023-01-20T13:34:51.674603Z",
     "shell.execute_reply": "2023-01-20T13:34:51.673834Z"
    }
   },
   "outputs": [],
   "source": [
    "import copy"
   ]
  },
  {
   "cell_type": "markdown",
   "id": "5a736274",
   "metadata": {},
   "source": [
    "### Deep Copy of TreeValue"
   ]
  },
  {
   "cell_type": "code",
   "execution_count": 17,
   "id": "f9bcadd6",
   "metadata": {
    "execution": {
     "iopub.execute_input": "2023-01-20T13:34:51.678452Z",
     "iopub.status.busy": "2023-01-20T13:34:51.677809Z",
     "iopub.status.idle": "2023-01-20T13:35:03.518165Z",
     "shell.execute_reply": "2023-01-20T13:35:03.517470Z"
    }
   },
   "outputs": [
    {
     "name": "stdout",
     "output_type": "stream",
     "text": [
      "146 µs ± 560 ns per loop (mean ± std. dev. of 7 runs, 10,000 loops each)\n"
     ]
    }
   ],
   "source": [
    "t3 = FastTreeValue(_TREE_DATA_3)\n",
    "%timeit copy.deepcopy(t3)"
   ]
  },
  {
   "cell_type": "markdown",
   "id": "bf8be7ea",
   "metadata": {},
   "source": [
    "### Deep Copy of Tianshou Batch"
   ]
  },
  {
   "cell_type": "code",
   "execution_count": 18,
   "id": "91998e6f",
   "metadata": {
    "execution": {
     "iopub.execute_input": "2023-01-20T13:35:03.521751Z",
     "iopub.status.busy": "2023-01-20T13:35:03.521259Z",
     "iopub.status.idle": "2023-01-20T13:35:15.382239Z",
     "shell.execute_reply": "2023-01-20T13:35:15.381317Z"
    }
   },
   "outputs": [
    {
     "name": "stdout",
     "output_type": "stream",
     "text": [
      "146 µs ± 1.81 µs per loop (mean ± std. dev. of 7 runs, 10,000 loops each)\n"
     ]
    }
   ],
   "source": [
    "b3 = Batch(**_TREE_DATA_3)\n",
    "%timeit copy.deepcopy(b3)"
   ]
  },
  {
   "cell_type": "markdown",
   "id": "223162fb",
   "metadata": {},
   "source": [
    "## Stack, Concat and Split Operation"
   ]
  },
  {
   "cell_type": "markdown",
   "id": "85fa4a73",
   "metadata": {},
   "source": [
    "### Performance of TreeValue"
   ]
  },
  {
   "cell_type": "code",
   "execution_count": 19,
   "id": "a0c2b697",
   "metadata": {
    "execution": {
     "iopub.execute_input": "2023-01-20T13:35:15.386362Z",
     "iopub.status.busy": "2023-01-20T13:35:15.385790Z",
     "iopub.status.idle": "2023-01-20T13:35:15.389834Z",
     "shell.execute_reply": "2023-01-20T13:35:15.389050Z"
    }
   },
   "outputs": [],
   "source": [
    "trees = [FastTreeValue(_TREE_DATA_2) for _ in range(8)]"
   ]
  },
  {
   "cell_type": "code",
   "execution_count": 20,
   "id": "017ea5a5",
   "metadata": {
    "execution": {
     "iopub.execute_input": "2023-01-20T13:35:15.393389Z",
     "iopub.status.busy": "2023-01-20T13:35:15.392856Z",
     "iopub.status.idle": "2023-01-20T13:35:15.401410Z",
     "shell.execute_reply": "2023-01-20T13:35:15.400610Z"
    }
   },
   "outputs": [
    {
     "data": {
      "text/plain": [
       "<FastTreeValue 0x7fbaaffbb6d0>\n",
       "├── 'a' --> tensor([[[ 0.0049,  0.7568,  0.7674],\n",
       "│                    [ 0.2551,  0.3819, -0.1944]],\n",
       "│           \n",
       "│                   [[ 0.0049,  0.7568,  0.7674],\n",
       "│                    [ 0.2551,  0.3819, -0.1944]],\n",
       "│           \n",
       "│                   [[ 0.0049,  0.7568,  0.7674],\n",
       "│                    [ 0.2551,  0.3819, -0.1944]],\n",
       "│           \n",
       "│                   [[ 0.0049,  0.7568,  0.7674],\n",
       "│                    [ 0.2551,  0.3819, -0.1944]],\n",
       "│           \n",
       "│                   [[ 0.0049,  0.7568,  0.7674],\n",
       "│                    [ 0.2551,  0.3819, -0.1944]],\n",
       "│           \n",
       "│                   [[ 0.0049,  0.7568,  0.7674],\n",
       "│                    [ 0.2551,  0.3819, -0.1944]],\n",
       "│           \n",
       "│                   [[ 0.0049,  0.7568,  0.7674],\n",
       "│                    [ 0.2551,  0.3819, -0.1944]],\n",
       "│           \n",
       "│                   [[ 0.0049,  0.7568,  0.7674],\n",
       "│                    [ 0.2551,  0.3819, -0.1944]]])\n",
       "└── 'x' --> <FastTreeValue 0x7fbaafec1b80>\n",
       "    └── 'c' --> tensor([[[ 0.9028,  0.6061,  0.1398,  1.2202],\n",
       "                         [-1.1538, -0.2589, -1.1863, -0.0037],\n",
       "                         [-1.9665, -0.0657, -0.9069,  1.3180]],\n",
       "                \n",
       "                        [[ 0.9028,  0.6061,  0.1398,  1.2202],\n",
       "                         [-1.1538, -0.2589, -1.1863, -0.0037],\n",
       "                         [-1.9665, -0.0657, -0.9069,  1.3180]],\n",
       "                \n",
       "                        [[ 0.9028,  0.6061,  0.1398,  1.2202],\n",
       "                         [-1.1538, -0.2589, -1.1863, -0.0037],\n",
       "                         [-1.9665, -0.0657, -0.9069,  1.3180]],\n",
       "                \n",
       "                        [[ 0.9028,  0.6061,  0.1398,  1.2202],\n",
       "                         [-1.1538, -0.2589, -1.1863, -0.0037],\n",
       "                         [-1.9665, -0.0657, -0.9069,  1.3180]],\n",
       "                \n",
       "                        [[ 0.9028,  0.6061,  0.1398,  1.2202],\n",
       "                         [-1.1538, -0.2589, -1.1863, -0.0037],\n",
       "                         [-1.9665, -0.0657, -0.9069,  1.3180]],\n",
       "                \n",
       "                        [[ 0.9028,  0.6061,  0.1398,  1.2202],\n",
       "                         [-1.1538, -0.2589, -1.1863, -0.0037],\n",
       "                         [-1.9665, -0.0657, -0.9069,  1.3180]],\n",
       "                \n",
       "                        [[ 0.9028,  0.6061,  0.1398,  1.2202],\n",
       "                         [-1.1538, -0.2589, -1.1863, -0.0037],\n",
       "                         [-1.9665, -0.0657, -0.9069,  1.3180]],\n",
       "                \n",
       "                        [[ 0.9028,  0.6061,  0.1398,  1.2202],\n",
       "                         [-1.1538, -0.2589, -1.1863, -0.0037],\n",
       "                         [-1.9665, -0.0657, -0.9069,  1.3180]]])"
      ]
     },
     "execution_count": 20,
     "metadata": {},
     "output_type": "execute_result"
    }
   ],
   "source": [
    "t_stack = FastTreeValue.func(subside=True)(torch.stack)\n",
    "\n",
    "t_stack(trees)"
   ]
  },
  {
   "cell_type": "code",
   "execution_count": 21,
   "id": "f8b3f415",
   "metadata": {
    "execution": {
     "iopub.execute_input": "2023-01-20T13:35:15.404985Z",
     "iopub.status.busy": "2023-01-20T13:35:15.404284Z",
     "iopub.status.idle": "2023-01-20T13:35:18.023292Z",
     "shell.execute_reply": "2023-01-20T13:35:18.022460Z"
    }
   },
   "outputs": [
    {
     "name": "stdout",
     "output_type": "stream",
     "text": [
      "32.2 µs ± 48.5 ns per loop (mean ± std. dev. of 7 runs, 10,000 loops each)\n"
     ]
    }
   ],
   "source": [
    "%timeit t_stack(trees)"
   ]
  },
  {
   "cell_type": "code",
   "execution_count": 22,
   "id": "94b56771",
   "metadata": {
    "execution": {
     "iopub.execute_input": "2023-01-20T13:35:18.027136Z",
     "iopub.status.busy": "2023-01-20T13:35:18.026563Z",
     "iopub.status.idle": "2023-01-20T13:35:18.035159Z",
     "shell.execute_reply": "2023-01-20T13:35:18.034314Z"
    }
   },
   "outputs": [
    {
     "data": {
      "text/plain": [
       "<FastTreeValue 0x7fbaaffbb910>\n",
       "├── 'a' --> tensor([[ 0.0049,  0.7568,  0.7674],\n",
       "│                   [ 0.2551,  0.3819, -0.1944],\n",
       "│                   [ 0.0049,  0.7568,  0.7674],\n",
       "│                   [ 0.2551,  0.3819, -0.1944],\n",
       "│                   [ 0.0049,  0.7568,  0.7674],\n",
       "│                   [ 0.2551,  0.3819, -0.1944],\n",
       "│                   [ 0.0049,  0.7568,  0.7674],\n",
       "│                   [ 0.2551,  0.3819, -0.1944],\n",
       "│                   [ 0.0049,  0.7568,  0.7674],\n",
       "│                   [ 0.2551,  0.3819, -0.1944],\n",
       "│                   [ 0.0049,  0.7568,  0.7674],\n",
       "│                   [ 0.2551,  0.3819, -0.1944],\n",
       "│                   [ 0.0049,  0.7568,  0.7674],\n",
       "│                   [ 0.2551,  0.3819, -0.1944],\n",
       "│                   [ 0.0049,  0.7568,  0.7674],\n",
       "│                   [ 0.2551,  0.3819, -0.1944]])\n",
       "└── 'x' --> <FastTreeValue 0x7fbb2cb7f580>\n",
       "    └── 'c' --> tensor([[ 0.9028,  0.6061,  0.1398,  1.2202],\n",
       "                        [-1.1538, -0.2589, -1.1863, -0.0037],\n",
       "                        [-1.9665, -0.0657, -0.9069,  1.3180],\n",
       "                        [ 0.9028,  0.6061,  0.1398,  1.2202],\n",
       "                        [-1.1538, -0.2589, -1.1863, -0.0037],\n",
       "                        [-1.9665, -0.0657, -0.9069,  1.3180],\n",
       "                        [ 0.9028,  0.6061,  0.1398,  1.2202],\n",
       "                        [-1.1538, -0.2589, -1.1863, -0.0037],\n",
       "                        [-1.9665, -0.0657, -0.9069,  1.3180],\n",
       "                        [ 0.9028,  0.6061,  0.1398,  1.2202],\n",
       "                        [-1.1538, -0.2589, -1.1863, -0.0037],\n",
       "                        [-1.9665, -0.0657, -0.9069,  1.3180],\n",
       "                        [ 0.9028,  0.6061,  0.1398,  1.2202],\n",
       "                        [-1.1538, -0.2589, -1.1863, -0.0037],\n",
       "                        [-1.9665, -0.0657, -0.9069,  1.3180],\n",
       "                        [ 0.9028,  0.6061,  0.1398,  1.2202],\n",
       "                        [-1.1538, -0.2589, -1.1863, -0.0037],\n",
       "                        [-1.9665, -0.0657, -0.9069,  1.3180],\n",
       "                        [ 0.9028,  0.6061,  0.1398,  1.2202],\n",
       "                        [-1.1538, -0.2589, -1.1863, -0.0037],\n",
       "                        [-1.9665, -0.0657, -0.9069,  1.3180],\n",
       "                        [ 0.9028,  0.6061,  0.1398,  1.2202],\n",
       "                        [-1.1538, -0.2589, -1.1863, -0.0037],\n",
       "                        [-1.9665, -0.0657, -0.9069,  1.3180]])"
      ]
     },
     "execution_count": 22,
     "metadata": {},
     "output_type": "execute_result"
    }
   ],
   "source": [
    "t_cat = FastTreeValue.func(subside=True)(torch.cat)\n",
    "\n",
    "t_cat(trees)"
   ]
  },
  {
   "cell_type": "code",
   "execution_count": 23,
   "id": "5e9c06a6",
   "metadata": {
    "execution": {
     "iopub.execute_input": "2023-01-20T13:35:18.038875Z",
     "iopub.status.busy": "2023-01-20T13:35:18.038227Z",
     "iopub.status.idle": "2023-01-20T13:35:20.466744Z",
     "shell.execute_reply": "2023-01-20T13:35:20.465851Z"
    }
   },
   "outputs": [
    {
     "name": "stdout",
     "output_type": "stream",
     "text": [
      "29.9 µs ± 48.3 ns per loop (mean ± std. dev. of 7 runs, 10,000 loops each)\n"
     ]
    }
   ],
   "source": [
    "%timeit t_cat(trees)"
   ]
  },
  {
   "cell_type": "code",
   "execution_count": 24,
   "id": "a3ab5c8f",
   "metadata": {
    "execution": {
     "iopub.execute_input": "2023-01-20T13:35:20.470681Z",
     "iopub.status.busy": "2023-01-20T13:35:20.470023Z",
     "iopub.status.idle": "2023-01-20T13:35:25.070339Z",
     "shell.execute_reply": "2023-01-20T13:35:25.069626Z"
    }
   },
   "outputs": [
    {
     "name": "stdout",
     "output_type": "stream",
     "text": [
      "56.6 µs ± 112 ns per loop (mean ± std. dev. of 7 runs, 10,000 loops each)\n"
     ]
    }
   ],
   "source": [
    "t_split = FastTreeValue.func(rise=True)(torch.split)\n",
    "tree = FastTreeValue({\n",
    "    'obs': torch.randn(8, 4, 84, 84),\n",
    "    'action': torch.randint(0, 6, size=(8, 1,)),\n",
    "    'reward': torch.rand(8, 1),\n",
    "})\n",
    "\n",
    "%timeit t_split(tree, 1)"
   ]
  },
  {
   "cell_type": "markdown",
   "id": "31c3ec0b",
   "metadata": {},
   "source": [
    "### Performance of Tianshou Batch"
   ]
  },
  {
   "cell_type": "code",
   "execution_count": 25,
   "id": "9ead828a",
   "metadata": {
    "execution": {
     "iopub.execute_input": "2023-01-20T13:35:25.073941Z",
     "iopub.status.busy": "2023-01-20T13:35:25.073395Z",
     "iopub.status.idle": "2023-01-20T13:35:25.081557Z",
     "shell.execute_reply": "2023-01-20T13:35:25.080784Z"
    }
   },
   "outputs": [
    {
     "data": {
      "text/plain": [
       "Batch(\n",
       "    x: Batch(\n",
       "           c: tensor([[[ 0.9028,  0.6061,  0.1398,  1.2202],\n",
       "                       [-1.1538, -0.2589, -1.1863, -0.0037],\n",
       "                       [-1.9665, -0.0657, -0.9069,  1.3180]],\n",
       "              \n",
       "                      [[ 0.9028,  0.6061,  0.1398,  1.2202],\n",
       "                       [-1.1538, -0.2589, -1.1863, -0.0037],\n",
       "                       [-1.9665, -0.0657, -0.9069,  1.3180]],\n",
       "              \n",
       "                      [[ 0.9028,  0.6061,  0.1398,  1.2202],\n",
       "                       [-1.1538, -0.2589, -1.1863, -0.0037],\n",
       "                       [-1.9665, -0.0657, -0.9069,  1.3180]],\n",
       "              \n",
       "                      [[ 0.9028,  0.6061,  0.1398,  1.2202],\n",
       "                       [-1.1538, -0.2589, -1.1863, -0.0037],\n",
       "                       [-1.9665, -0.0657, -0.9069,  1.3180]],\n",
       "              \n",
       "                      [[ 0.9028,  0.6061,  0.1398,  1.2202],\n",
       "                       [-1.1538, -0.2589, -1.1863, -0.0037],\n",
       "                       [-1.9665, -0.0657, -0.9069,  1.3180]],\n",
       "              \n",
       "                      [[ 0.9028,  0.6061,  0.1398,  1.2202],\n",
       "                       [-1.1538, -0.2589, -1.1863, -0.0037],\n",
       "                       [-1.9665, -0.0657, -0.9069,  1.3180]],\n",
       "              \n",
       "                      [[ 0.9028,  0.6061,  0.1398,  1.2202],\n",
       "                       [-1.1538, -0.2589, -1.1863, -0.0037],\n",
       "                       [-1.9665, -0.0657, -0.9069,  1.3180]],\n",
       "              \n",
       "                      [[ 0.9028,  0.6061,  0.1398,  1.2202],\n",
       "                       [-1.1538, -0.2589, -1.1863, -0.0037],\n",
       "                       [-1.9665, -0.0657, -0.9069,  1.3180]]]),\n",
       "       ),\n",
       "    a: tensor([[[ 0.0049,  0.7568,  0.7674],\n",
       "                [ 0.2551,  0.3819, -0.1944]],\n",
       "       \n",
       "               [[ 0.0049,  0.7568,  0.7674],\n",
       "                [ 0.2551,  0.3819, -0.1944]],\n",
       "       \n",
       "               [[ 0.0049,  0.7568,  0.7674],\n",
       "                [ 0.2551,  0.3819, -0.1944]],\n",
       "       \n",
       "               [[ 0.0049,  0.7568,  0.7674],\n",
       "                [ 0.2551,  0.3819, -0.1944]],\n",
       "       \n",
       "               [[ 0.0049,  0.7568,  0.7674],\n",
       "                [ 0.2551,  0.3819, -0.1944]],\n",
       "       \n",
       "               [[ 0.0049,  0.7568,  0.7674],\n",
       "                [ 0.2551,  0.3819, -0.1944]],\n",
       "       \n",
       "               [[ 0.0049,  0.7568,  0.7674],\n",
       "                [ 0.2551,  0.3819, -0.1944]],\n",
       "       \n",
       "               [[ 0.0049,  0.7568,  0.7674],\n",
       "                [ 0.2551,  0.3819, -0.1944]]]),\n",
       ")"
      ]
     },
     "execution_count": 25,
     "metadata": {},
     "output_type": "execute_result"
    }
   ],
   "source": [
    "batches = [Batch(**_TREE_DATA_2) for _ in range(8)]\n",
    "\n",
    "Batch.stack(batches)"
   ]
  },
  {
   "cell_type": "code",
   "execution_count": 26,
   "id": "ec9037a3",
   "metadata": {
    "execution": {
     "iopub.execute_input": "2023-01-20T13:35:25.085188Z",
     "iopub.status.busy": "2023-01-20T13:35:25.084468Z",
     "iopub.status.idle": "2023-01-20T13:35:31.476443Z",
     "shell.execute_reply": "2023-01-20T13:35:31.475640Z"
    }
   },
   "outputs": [
    {
     "name": "stdout",
     "output_type": "stream",
     "text": [
      "78.7 µs ± 156 ns per loop (mean ± std. dev. of 7 runs, 10,000 loops each)\n"
     ]
    }
   ],
   "source": [
    "%timeit Batch.stack(batches)"
   ]
  },
  {
   "cell_type": "code",
   "execution_count": 27,
   "id": "cb8ab77e",
   "metadata": {
    "execution": {
     "iopub.execute_input": "2023-01-20T13:35:31.480588Z",
     "iopub.status.busy": "2023-01-20T13:35:31.479899Z",
     "iopub.status.idle": "2023-01-20T13:35:31.487945Z",
     "shell.execute_reply": "2023-01-20T13:35:31.487121Z"
    }
   },
   "outputs": [
    {
     "data": {
      "text/plain": [
       "Batch(\n",
       "    x: Batch(\n",
       "           c: tensor([[ 0.9028,  0.6061,  0.1398,  1.2202],\n",
       "                      [-1.1538, -0.2589, -1.1863, -0.0037],\n",
       "                      [-1.9665, -0.0657, -0.9069,  1.3180],\n",
       "                      [ 0.9028,  0.6061,  0.1398,  1.2202],\n",
       "                      [-1.1538, -0.2589, -1.1863, -0.0037],\n",
       "                      [-1.9665, -0.0657, -0.9069,  1.3180],\n",
       "                      [ 0.9028,  0.6061,  0.1398,  1.2202],\n",
       "                      [-1.1538, -0.2589, -1.1863, -0.0037],\n",
       "                      [-1.9665, -0.0657, -0.9069,  1.3180],\n",
       "                      [ 0.9028,  0.6061,  0.1398,  1.2202],\n",
       "                      [-1.1538, -0.2589, -1.1863, -0.0037],\n",
       "                      [-1.9665, -0.0657, -0.9069,  1.3180],\n",
       "                      [ 0.9028,  0.6061,  0.1398,  1.2202],\n",
       "                      [-1.1538, -0.2589, -1.1863, -0.0037],\n",
       "                      [-1.9665, -0.0657, -0.9069,  1.3180],\n",
       "                      [ 0.9028,  0.6061,  0.1398,  1.2202],\n",
       "                      [-1.1538, -0.2589, -1.1863, -0.0037],\n",
       "                      [-1.9665, -0.0657, -0.9069,  1.3180],\n",
       "                      [ 0.9028,  0.6061,  0.1398,  1.2202],\n",
       "                      [-1.1538, -0.2589, -1.1863, -0.0037],\n",
       "                      [-1.9665, -0.0657, -0.9069,  1.3180],\n",
       "                      [ 0.9028,  0.6061,  0.1398,  1.2202],\n",
       "                      [-1.1538, -0.2589, -1.1863, -0.0037],\n",
       "                      [-1.9665, -0.0657, -0.9069,  1.3180]]),\n",
       "       ),\n",
       "    a: tensor([[ 0.0049,  0.7568,  0.7674],\n",
       "               [ 0.2551,  0.3819, -0.1944],\n",
       "               [ 0.0049,  0.7568,  0.7674],\n",
       "               [ 0.2551,  0.3819, -0.1944],\n",
       "               [ 0.0049,  0.7568,  0.7674],\n",
       "               [ 0.2551,  0.3819, -0.1944],\n",
       "               [ 0.0049,  0.7568,  0.7674],\n",
       "               [ 0.2551,  0.3819, -0.1944],\n",
       "               [ 0.0049,  0.7568,  0.7674],\n",
       "               [ 0.2551,  0.3819, -0.1944],\n",
       "               [ 0.0049,  0.7568,  0.7674],\n",
       "               [ 0.2551,  0.3819, -0.1944],\n",
       "               [ 0.0049,  0.7568,  0.7674],\n",
       "               [ 0.2551,  0.3819, -0.1944],\n",
       "               [ 0.0049,  0.7568,  0.7674],\n",
       "               [ 0.2551,  0.3819, -0.1944]]),\n",
       ")"
      ]
     },
     "execution_count": 27,
     "metadata": {},
     "output_type": "execute_result"
    }
   ],
   "source": [
    "Batch.cat(batches)"
   ]
  },
  {
   "cell_type": "code",
   "execution_count": 28,
   "id": "18dfb045",
   "metadata": {
    "execution": {
     "iopub.execute_input": "2023-01-20T13:35:31.491514Z",
     "iopub.status.busy": "2023-01-20T13:35:31.490983Z",
     "iopub.status.idle": "2023-01-20T13:35:43.140991Z",
     "shell.execute_reply": "2023-01-20T13:35:43.140165Z"
    }
   },
   "outputs": [
    {
     "name": "stdout",
     "output_type": "stream",
     "text": [
      "143 µs ± 1.03 µs per loop (mean ± std. dev. of 7 runs, 10,000 loops each)\n"
     ]
    }
   ],
   "source": [
    "%timeit Batch.cat(batches)"
   ]
  },
  {
   "cell_type": "code",
   "execution_count": 29,
   "id": "c6688e51",
   "metadata": {
    "execution": {
     "iopub.execute_input": "2023-01-20T13:35:43.145094Z",
     "iopub.status.busy": "2023-01-20T13:35:43.144562Z",
     "iopub.status.idle": "2023-01-20T13:35:45.782969Z",
     "shell.execute_reply": "2023-01-20T13:35:45.782131Z"
    }
   },
   "outputs": [
    {
     "name": "stdout",
     "output_type": "stream",
     "text": [
      "323 µs ± 1.39 µs per loop (mean ± std. dev. of 7 runs, 1,000 loops each)\n"
     ]
    }
   ],
   "source": [
    "batch = Batch({\n",
    "    'obs': torch.randn(8, 4, 84, 84),\n",
    "    'action': torch.randint(0, 6, size=(8, 1,)),\n",
    "    'reward': torch.rand(8, 1)}\n",
    ")\n",
    "\n",
    "%timeit list(Batch.split(batch, 1, shuffle=False, merge_last=True))"
   ]
  },
  {
   "cell_type": "code",
   "execution_count": null,
   "id": "2539fbd9",
   "metadata": {},
   "outputs": [],
   "source": []
  }
 ],
 "metadata": {
  "kernelspec": {
   "display_name": "Python 3 (ipykernel)",
   "language": "python",
   "name": "python3"
  },
  "language_info": {
   "codemirror_mode": {
    "name": "ipython",
    "version": 3
   },
   "file_extension": ".py",
   "mimetype": "text/x-python",
   "name": "python",
   "nbconvert_exporter": "python",
   "pygments_lexer": "ipython3",
   "version": "3.8.16"
  }
 },
 "nbformat": 4,
 "nbformat_minor": 5
}
