{
 "cells": [
  {
   "cell_type": "markdown",
   "id": "9d39d946",
   "metadata": {},
   "source": [
    "# Comparison Between TreeValue and Tianshou Batch"
   ]
  },
  {
   "cell_type": "markdown",
   "id": "3c6db2d4",
   "metadata": {},
   "source": [
    "In this section, we will take a look at the feature and performance of the [Tianshou Batch](https://github.com/thu-ml/tianshou) library, which is developed by Tsinghua Machine Learning Group."
   ]
  },
  {
   "cell_type": "markdown",
   "id": "069361b0",
   "metadata": {},
   "source": [
    "Before starting the comparison, let us define some thing."
   ]
  },
  {
   "cell_type": "code",
   "execution_count": 1,
   "id": "06fc8d26",
   "metadata": {
    "execution": {
     "iopub.execute_input": "2023-01-20T05:43:34.131480Z",
     "iopub.status.busy": "2023-01-20T05:43:34.131270Z",
     "iopub.status.idle": "2023-01-20T05:43:35.036524Z",
     "shell.execute_reply": "2023-01-20T05:43:35.035872Z"
    }
   },
   "outputs": [
    {
     "name": "stderr",
     "output_type": "stream",
     "text": [
      "/opt/hostedtoolcache/Python/3.8.16/x64/lib/python3.8/site-packages/tqdm/auto.py:22: TqdmWarning: IProgress not found. Please update jupyter and ipywidgets. See https://ipywidgets.readthedocs.io/en/stable/user_install.html\n",
      "  from .autonotebook import tqdm as notebook_tqdm\n"
     ]
    }
   ],
   "source": [
    "import torch \n",
    "\n",
    "_TREE_DATA_1 = {'a': 1, 'b': 2, 'x': {'c': 3, 'd': 4}}\n",
    "_TREE_DATA_2 = {\n",
    "    'a': torch.randn(2, 3), \n",
    "    'x': {\n",
    "        'c': torch.randn(3, 4)\n",
    "    },\n",
    "}\n",
    "_TREE_DATA_3 = {\n",
    "    'obs': torch.randn(4, 84, 84),\n",
    "    'action': torch.randint(0, 6, size=(1,)),\n",
    "    'reward': torch.rand(1),\n",
    "}"
   ]
  },
  {
   "cell_type": "markdown",
   "id": "83461b25",
   "metadata": {},
   "source": [
    "## Read and Write Operation"
   ]
  },
  {
   "cell_type": "markdown",
   "id": "067b3f73",
   "metadata": {},
   "source": [
    "Reading and writing are the two most common operations in the tree data structure based on the data model (TreeValue and Tianshou Batch both belong to this type), so this section will compare the reading and writing performance of these two libraries."
   ]
  },
  {
   "cell_type": "markdown",
   "id": "5d09a5b7",
   "metadata": {},
   "source": [
    "### TreeValue's Get and Set"
   ]
  },
  {
   "cell_type": "code",
   "execution_count": 2,
   "id": "9519c4bb",
   "metadata": {
    "execution": {
     "iopub.execute_input": "2023-01-20T05:43:35.039851Z",
     "iopub.status.busy": "2023-01-20T05:43:35.039565Z",
     "iopub.status.idle": "2023-01-20T05:43:35.071741Z",
     "shell.execute_reply": "2023-01-20T05:43:35.071115Z"
    }
   },
   "outputs": [],
   "source": [
    "from treevalue import FastTreeValue\n",
    "\n",
    "t = FastTreeValue(_TREE_DATA_2)"
   ]
  },
  {
   "cell_type": "code",
   "execution_count": 3,
   "id": "11c37677",
   "metadata": {
    "execution": {
     "iopub.execute_input": "2023-01-20T05:43:35.074931Z",
     "iopub.status.busy": "2023-01-20T05:43:35.074695Z",
     "iopub.status.idle": "2023-01-20T05:43:35.082700Z",
     "shell.execute_reply": "2023-01-20T05:43:35.082066Z"
    }
   },
   "outputs": [
    {
     "data": {
      "text/plain": [
       "<FastTreeValue 0x7f5c9cde5610>\n",
       "├── 'a' --> tensor([[0.8128, 0.3382, 0.2277],\n",
       "│                   [1.8020, 0.8064, 1.2160]])\n",
       "└── 'x' --> <FastTreeValue 0x7f5c9ee49e50>\n",
       "    └── 'c' --> tensor([[ 1.1000,  0.0676, -1.7964, -1.8103],\n",
       "                        [-0.4342, -0.7713,  0.4494,  0.0354],\n",
       "                        [-0.3950,  0.4301, -0.1572, -0.3377]])"
      ]
     },
     "execution_count": 3,
     "metadata": {},
     "output_type": "execute_result"
    }
   ],
   "source": [
    "t"
   ]
  },
  {
   "cell_type": "code",
   "execution_count": 4,
   "id": "fd70b0b9",
   "metadata": {
    "execution": {
     "iopub.execute_input": "2023-01-20T05:43:35.085423Z",
     "iopub.status.busy": "2023-01-20T05:43:35.085200Z",
     "iopub.status.idle": "2023-01-20T05:43:35.089856Z",
     "shell.execute_reply": "2023-01-20T05:43:35.089250Z"
    }
   },
   "outputs": [
    {
     "data": {
      "text/plain": [
       "tensor([[0.8128, 0.3382, 0.2277],\n",
       "        [1.8020, 0.8064, 1.2160]])"
      ]
     },
     "execution_count": 4,
     "metadata": {},
     "output_type": "execute_result"
    }
   ],
   "source": [
    "t.a"
   ]
  },
  {
   "cell_type": "code",
   "execution_count": 5,
   "id": "c18197bd",
   "metadata": {
    "execution": {
     "iopub.execute_input": "2023-01-20T05:43:35.092437Z",
     "iopub.status.busy": "2023-01-20T05:43:35.092221Z",
     "iopub.status.idle": "2023-01-20T05:43:39.950813Z",
     "shell.execute_reply": "2023-01-20T05:43:39.950244Z"
    }
   },
   "outputs": [
    {
     "name": "stdout",
     "output_type": "stream",
     "text": [
      "60 ns ± 0.243 ns per loop (mean ± std. dev. of 7 runs, 10,000,000 loops each)\n"
     ]
    }
   ],
   "source": [
    "%timeit t.a"
   ]
  },
  {
   "cell_type": "code",
   "execution_count": 6,
   "id": "bd52f867",
   "metadata": {
    "execution": {
     "iopub.execute_input": "2023-01-20T05:43:39.953932Z",
     "iopub.status.busy": "2023-01-20T05:43:39.953272Z",
     "iopub.status.idle": "2023-01-20T05:43:39.959327Z",
     "shell.execute_reply": "2023-01-20T05:43:39.958683Z"
    }
   },
   "outputs": [
    {
     "data": {
      "text/plain": [
       "<FastTreeValue 0x7f5c9cde5610>\n",
       "├── 'a' --> tensor([[-0.7481,  0.9970,  1.1108],\n",
       "│                   [-1.3213, -1.1791, -0.5648]])\n",
       "└── 'x' --> <FastTreeValue 0x7f5c9ee49e50>\n",
       "    └── 'c' --> tensor([[ 1.1000,  0.0676, -1.7964, -1.8103],\n",
       "                        [-0.4342, -0.7713,  0.4494,  0.0354],\n",
       "                        [-0.3950,  0.4301, -0.1572, -0.3377]])"
      ]
     },
     "execution_count": 6,
     "metadata": {},
     "output_type": "execute_result"
    }
   ],
   "source": [
    "new_value = torch.randn(2, 3)\n",
    "t.a = new_value\n",
    "\n",
    "t"
   ]
  },
  {
   "cell_type": "code",
   "execution_count": 7,
   "id": "bbe04d1c",
   "metadata": {
    "execution": {
     "iopub.execute_input": "2023-01-20T05:43:39.961962Z",
     "iopub.status.busy": "2023-01-20T05:43:39.961742Z",
     "iopub.status.idle": "2023-01-20T05:43:44.625977Z",
     "shell.execute_reply": "2023-01-20T05:43:44.625388Z"
    }
   },
   "outputs": [
    {
     "name": "stdout",
     "output_type": "stream",
     "text": [
      "57.4 ns ± 0.042 ns per loop (mean ± std. dev. of 7 runs, 10,000,000 loops each)\n"
     ]
    }
   ],
   "source": [
    "%timeit t.a = new_value"
   ]
  },
  {
   "cell_type": "markdown",
   "id": "48c49731",
   "metadata": {},
   "source": [
    "### Tianshou Batch's Get and Set"
   ]
  },
  {
   "cell_type": "code",
   "execution_count": 8,
   "id": "f1bb14c1",
   "metadata": {
    "execution": {
     "iopub.execute_input": "2023-01-20T05:43:44.628961Z",
     "iopub.status.busy": "2023-01-20T05:43:44.628741Z",
     "iopub.status.idle": "2023-01-20T05:43:44.953976Z",
     "shell.execute_reply": "2023-01-20T05:43:44.953306Z"
    }
   },
   "outputs": [],
   "source": [
    "from tianshou.data import Batch\n",
    "\n",
    "b = Batch(**_TREE_DATA_2)"
   ]
  },
  {
   "cell_type": "code",
   "execution_count": 9,
   "id": "cb0777c3",
   "metadata": {
    "execution": {
     "iopub.execute_input": "2023-01-20T05:43:44.957306Z",
     "iopub.status.busy": "2023-01-20T05:43:44.956877Z",
     "iopub.status.idle": "2023-01-20T05:43:44.962359Z",
     "shell.execute_reply": "2023-01-20T05:43:44.961719Z"
    }
   },
   "outputs": [
    {
     "data": {
      "text/plain": [
       "Batch(\n",
       "    a: tensor([[0.8128, 0.3382, 0.2277],\n",
       "               [1.8020, 0.8064, 1.2160]]),\n",
       "    x: Batch(\n",
       "           c: tensor([[ 1.1000,  0.0676, -1.7964, -1.8103],\n",
       "                      [-0.4342, -0.7713,  0.4494,  0.0354],\n",
       "                      [-0.3950,  0.4301, -0.1572, -0.3377]]),\n",
       "       ),\n",
       ")"
      ]
     },
     "execution_count": 9,
     "metadata": {},
     "output_type": "execute_result"
    }
   ],
   "source": [
    "b"
   ]
  },
  {
   "cell_type": "code",
   "execution_count": 10,
   "id": "43ef8ea3",
   "metadata": {
    "execution": {
     "iopub.execute_input": "2023-01-20T05:43:44.965190Z",
     "iopub.status.busy": "2023-01-20T05:43:44.964985Z",
     "iopub.status.idle": "2023-01-20T05:43:44.969390Z",
     "shell.execute_reply": "2023-01-20T05:43:44.968790Z"
    }
   },
   "outputs": [
    {
     "data": {
      "text/plain": [
       "tensor([[0.8128, 0.3382, 0.2277],\n",
       "        [1.8020, 0.8064, 1.2160]])"
      ]
     },
     "execution_count": 10,
     "metadata": {},
     "output_type": "execute_result"
    }
   ],
   "source": [
    "b.a"
   ]
  },
  {
   "cell_type": "code",
   "execution_count": 11,
   "id": "b785ab72",
   "metadata": {
    "execution": {
     "iopub.execute_input": "2023-01-20T05:43:44.972463Z",
     "iopub.status.busy": "2023-01-20T05:43:44.971883Z",
     "iopub.status.idle": "2023-01-20T05:43:49.392559Z",
     "shell.execute_reply": "2023-01-20T05:43:49.391840Z"
    }
   },
   "outputs": [
    {
     "name": "stdout",
     "output_type": "stream",
     "text": [
      "54.4 ns ± 0.606 ns per loop (mean ± std. dev. of 7 runs, 10,000,000 loops each)\n"
     ]
    }
   ],
   "source": [
    "%timeit b.a"
   ]
  },
  {
   "cell_type": "code",
   "execution_count": 12,
   "id": "ad54dc69",
   "metadata": {
    "execution": {
     "iopub.execute_input": "2023-01-20T05:43:49.395384Z",
     "iopub.status.busy": "2023-01-20T05:43:49.395154Z",
     "iopub.status.idle": "2023-01-20T05:43:49.400807Z",
     "shell.execute_reply": "2023-01-20T05:43:49.400185Z"
    }
   },
   "outputs": [
    {
     "data": {
      "text/plain": [
       "Batch(\n",
       "    a: tensor([[ 1.4071, -0.3780,  0.3133],\n",
       "               [-2.0053, -0.6846, -0.8265]]),\n",
       "    x: Batch(\n",
       "           c: tensor([[ 1.1000,  0.0676, -1.7964, -1.8103],\n",
       "                      [-0.4342, -0.7713,  0.4494,  0.0354],\n",
       "                      [-0.3950,  0.4301, -0.1572, -0.3377]]),\n",
       "       ),\n",
       ")"
      ]
     },
     "execution_count": 12,
     "metadata": {},
     "output_type": "execute_result"
    }
   ],
   "source": [
    "new_value = torch.randn(2, 3)\n",
    "b.a = new_value\n",
    "\n",
    "b"
   ]
  },
  {
   "cell_type": "code",
   "execution_count": 13,
   "id": "29b1d0bf",
   "metadata": {
    "execution": {
     "iopub.execute_input": "2023-01-20T05:43:49.403445Z",
     "iopub.status.busy": "2023-01-20T05:43:49.403237Z",
     "iopub.status.idle": "2023-01-20T05:43:53.356457Z",
     "shell.execute_reply": "2023-01-20T05:43:53.355881Z"
    }
   },
   "outputs": [
    {
     "name": "stdout",
     "output_type": "stream",
     "text": [
      "487 ns ± 0.399 ns per loop (mean ± std. dev. of 7 runs, 1,000,000 loops each)\n"
     ]
    }
   ],
   "source": [
    "%timeit b.a = new_value"
   ]
  },
  {
   "cell_type": "markdown",
   "id": "b61ad1d0",
   "metadata": {},
   "source": [
    "## Initialization"
   ]
  },
  {
   "cell_type": "markdown",
   "id": "d70f0d54",
   "metadata": {},
   "source": [
    "### TreeValue's Initialization"
   ]
  },
  {
   "cell_type": "code",
   "execution_count": 14,
   "id": "d32a679b",
   "metadata": {
    "execution": {
     "iopub.execute_input": "2023-01-20T05:43:53.359742Z",
     "iopub.status.busy": "2023-01-20T05:43:53.359168Z",
     "iopub.status.idle": "2023-01-20T05:44:00.365753Z",
     "shell.execute_reply": "2023-01-20T05:44:00.365095Z"
    }
   },
   "outputs": [
    {
     "name": "stdout",
     "output_type": "stream",
     "text": [
      "863 ns ± 0.485 ns per loop (mean ± std. dev. of 7 runs, 1,000,000 loops each)\n"
     ]
    }
   ],
   "source": [
    "%timeit FastTreeValue(_TREE_DATA_1)"
   ]
  },
  {
   "cell_type": "markdown",
   "id": "24f3707b",
   "metadata": {},
   "source": [
    "### Tianshou Batch's Initialization"
   ]
  },
  {
   "cell_type": "code",
   "execution_count": 15,
   "id": "ac3958df",
   "metadata": {
    "execution": {
     "iopub.execute_input": "2023-01-20T05:44:00.369187Z",
     "iopub.status.busy": "2023-01-20T05:44:00.368718Z",
     "iopub.status.idle": "2023-01-20T05:44:09.674345Z",
     "shell.execute_reply": "2023-01-20T05:44:09.673401Z"
    }
   },
   "outputs": [
    {
     "name": "stdout",
     "output_type": "stream",
     "text": [
      "11.4 µs ± 29.5 ns per loop (mean ± std. dev. of 7 runs, 100,000 loops each)\n"
     ]
    }
   ],
   "source": [
    "%timeit Batch(**_TREE_DATA_1)"
   ]
  },
  {
   "cell_type": "markdown",
   "id": "1ab82e2d",
   "metadata": {},
   "source": [
    "## Deep Copy Operation"
   ]
  },
  {
   "cell_type": "code",
   "execution_count": 16,
   "id": "210a9442",
   "metadata": {
    "execution": {
     "iopub.execute_input": "2023-01-20T05:44:09.677260Z",
     "iopub.status.busy": "2023-01-20T05:44:09.677041Z",
     "iopub.status.idle": "2023-01-20T05:44:09.681288Z",
     "shell.execute_reply": "2023-01-20T05:44:09.680715Z"
    }
   },
   "outputs": [],
   "source": [
    "import copy"
   ]
  },
  {
   "cell_type": "markdown",
   "id": "5a736274",
   "metadata": {},
   "source": [
    "### Deep Copy of TreeValue"
   ]
  },
  {
   "cell_type": "code",
   "execution_count": 17,
   "id": "f9bcadd6",
   "metadata": {
    "execution": {
     "iopub.execute_input": "2023-01-20T05:44:09.684042Z",
     "iopub.status.busy": "2023-01-20T05:44:09.683838Z",
     "iopub.status.idle": "2023-01-20T05:44:20.919852Z",
     "shell.execute_reply": "2023-01-20T05:44:20.919295Z"
    }
   },
   "outputs": [
    {
     "name": "stdout",
     "output_type": "stream",
     "text": [
      "138 µs ± 228 ns per loop (mean ± std. dev. of 7 runs, 10,000 loops each)\n"
     ]
    }
   ],
   "source": [
    "t3 = FastTreeValue(_TREE_DATA_3)\n",
    "%timeit copy.deepcopy(t3)"
   ]
  },
  {
   "cell_type": "markdown",
   "id": "bf8be7ea",
   "metadata": {},
   "source": [
    "### Deep Copy of Tianshou Batch"
   ]
  },
  {
   "cell_type": "code",
   "execution_count": 18,
   "id": "91998e6f",
   "metadata": {
    "execution": {
     "iopub.execute_input": "2023-01-20T05:44:20.924449Z",
     "iopub.status.busy": "2023-01-20T05:44:20.923303Z",
     "iopub.status.idle": "2023-01-20T05:44:32.407435Z",
     "shell.execute_reply": "2023-01-20T05:44:32.406865Z"
    }
   },
   "outputs": [
    {
     "name": "stdout",
     "output_type": "stream",
     "text": [
      "141 µs ± 285 ns per loop (mean ± std. dev. of 7 runs, 10,000 loops each)\n"
     ]
    }
   ],
   "source": [
    "b3 = Batch(**_TREE_DATA_3)\n",
    "%timeit copy.deepcopy(b3)"
   ]
  },
  {
   "cell_type": "markdown",
   "id": "223162fb",
   "metadata": {},
   "source": [
    "## Stack, Concat and Split Operation"
   ]
  },
  {
   "cell_type": "markdown",
   "id": "85fa4a73",
   "metadata": {},
   "source": [
    "### Performance of TreeValue"
   ]
  },
  {
   "cell_type": "code",
   "execution_count": 19,
   "id": "a0c2b697",
   "metadata": {
    "execution": {
     "iopub.execute_input": "2023-01-20T05:44:32.411265Z",
     "iopub.status.busy": "2023-01-20T05:44:32.410060Z",
     "iopub.status.idle": "2023-01-20T05:44:32.415107Z",
     "shell.execute_reply": "2023-01-20T05:44:32.414227Z"
    }
   },
   "outputs": [],
   "source": [
    "trees = [FastTreeValue(_TREE_DATA_2) for _ in range(8)]"
   ]
  },
  {
   "cell_type": "code",
   "execution_count": 20,
   "id": "017ea5a5",
   "metadata": {
    "execution": {
     "iopub.execute_input": "2023-01-20T05:44:32.419301Z",
     "iopub.status.busy": "2023-01-20T05:44:32.418172Z",
     "iopub.status.idle": "2023-01-20T05:44:32.426260Z",
     "shell.execute_reply": "2023-01-20T05:44:32.425740Z"
    }
   },
   "outputs": [
    {
     "data": {
      "text/plain": [
       "<FastTreeValue 0x7f5bf5f41640>\n",
       "├── 'a' --> tensor([[[0.8128, 0.3382, 0.2277],\n",
       "│                    [1.8020, 0.8064, 1.2160]],\n",
       "│           \n",
       "│                   [[0.8128, 0.3382, 0.2277],\n",
       "│                    [1.8020, 0.8064, 1.2160]],\n",
       "│           \n",
       "│                   [[0.8128, 0.3382, 0.2277],\n",
       "│                    [1.8020, 0.8064, 1.2160]],\n",
       "│           \n",
       "│                   [[0.8128, 0.3382, 0.2277],\n",
       "│                    [1.8020, 0.8064, 1.2160]],\n",
       "│           \n",
       "│                   [[0.8128, 0.3382, 0.2277],\n",
       "│                    [1.8020, 0.8064, 1.2160]],\n",
       "│           \n",
       "│                   [[0.8128, 0.3382, 0.2277],\n",
       "│                    [1.8020, 0.8064, 1.2160]],\n",
       "│           \n",
       "│                   [[0.8128, 0.3382, 0.2277],\n",
       "│                    [1.8020, 0.8064, 1.2160]],\n",
       "│           \n",
       "│                   [[0.8128, 0.3382, 0.2277],\n",
       "│                    [1.8020, 0.8064, 1.2160]]])\n",
       "└── 'x' --> <FastTreeValue 0x7f5bf5f41970>\n",
       "    └── 'c' --> tensor([[[ 1.1000,  0.0676, -1.7964, -1.8103],\n",
       "                         [-0.4342, -0.7713,  0.4494,  0.0354],\n",
       "                         [-0.3950,  0.4301, -0.1572, -0.3377]],\n",
       "                \n",
       "                        [[ 1.1000,  0.0676, -1.7964, -1.8103],\n",
       "                         [-0.4342, -0.7713,  0.4494,  0.0354],\n",
       "                         [-0.3950,  0.4301, -0.1572, -0.3377]],\n",
       "                \n",
       "                        [[ 1.1000,  0.0676, -1.7964, -1.8103],\n",
       "                         [-0.4342, -0.7713,  0.4494,  0.0354],\n",
       "                         [-0.3950,  0.4301, -0.1572, -0.3377]],\n",
       "                \n",
       "                        [[ 1.1000,  0.0676, -1.7964, -1.8103],\n",
       "                         [-0.4342, -0.7713,  0.4494,  0.0354],\n",
       "                         [-0.3950,  0.4301, -0.1572, -0.3377]],\n",
       "                \n",
       "                        [[ 1.1000,  0.0676, -1.7964, -1.8103],\n",
       "                         [-0.4342, -0.7713,  0.4494,  0.0354],\n",
       "                         [-0.3950,  0.4301, -0.1572, -0.3377]],\n",
       "                \n",
       "                        [[ 1.1000,  0.0676, -1.7964, -1.8103],\n",
       "                         [-0.4342, -0.7713,  0.4494,  0.0354],\n",
       "                         [-0.3950,  0.4301, -0.1572, -0.3377]],\n",
       "                \n",
       "                        [[ 1.1000,  0.0676, -1.7964, -1.8103],\n",
       "                         [-0.4342, -0.7713,  0.4494,  0.0354],\n",
       "                         [-0.3950,  0.4301, -0.1572, -0.3377]],\n",
       "                \n",
       "                        [[ 1.1000,  0.0676, -1.7964, -1.8103],\n",
       "                         [-0.4342, -0.7713,  0.4494,  0.0354],\n",
       "                         [-0.3950,  0.4301, -0.1572, -0.3377]]])"
      ]
     },
     "execution_count": 20,
     "metadata": {},
     "output_type": "execute_result"
    }
   ],
   "source": [
    "t_stack = FastTreeValue.func(subside=True)(torch.stack)\n",
    "\n",
    "t_stack(trees)"
   ]
  },
  {
   "cell_type": "code",
   "execution_count": 21,
   "id": "f8b3f415",
   "metadata": {
    "execution": {
     "iopub.execute_input": "2023-01-20T05:44:32.428936Z",
     "iopub.status.busy": "2023-01-20T05:44:32.428608Z",
     "iopub.status.idle": "2023-01-20T05:44:35.032550Z",
     "shell.execute_reply": "2023-01-20T05:44:35.031574Z"
    }
   },
   "outputs": [
    {
     "name": "stdout",
     "output_type": "stream",
     "text": [
      "32.1 µs ± 36.3 ns per loop (mean ± std. dev. of 7 runs, 10,000 loops each)\n"
     ]
    }
   ],
   "source": [
    "%timeit t_stack(trees)"
   ]
  },
  {
   "cell_type": "code",
   "execution_count": 22,
   "id": "94b56771",
   "metadata": {
    "execution": {
     "iopub.execute_input": "2023-01-20T05:44:35.035556Z",
     "iopub.status.busy": "2023-01-20T05:44:35.035336Z",
     "iopub.status.idle": "2023-01-20T05:44:35.043483Z",
     "shell.execute_reply": "2023-01-20T05:44:35.042553Z"
    }
   },
   "outputs": [
    {
     "data": {
      "text/plain": [
       "<FastTreeValue 0x7f5bf874aaf0>\n",
       "├── 'a' --> tensor([[0.8128, 0.3382, 0.2277],\n",
       "│                   [1.8020, 0.8064, 1.2160],\n",
       "│                   [0.8128, 0.3382, 0.2277],\n",
       "│                   [1.8020, 0.8064, 1.2160],\n",
       "│                   [0.8128, 0.3382, 0.2277],\n",
       "│                   [1.8020, 0.8064, 1.2160],\n",
       "│                   [0.8128, 0.3382, 0.2277],\n",
       "│                   [1.8020, 0.8064, 1.2160],\n",
       "│                   [0.8128, 0.3382, 0.2277],\n",
       "│                   [1.8020, 0.8064, 1.2160],\n",
       "│                   [0.8128, 0.3382, 0.2277],\n",
       "│                   [1.8020, 0.8064, 1.2160],\n",
       "│                   [0.8128, 0.3382, 0.2277],\n",
       "│                   [1.8020, 0.8064, 1.2160],\n",
       "│                   [0.8128, 0.3382, 0.2277],\n",
       "│                   [1.8020, 0.8064, 1.2160]])\n",
       "└── 'x' --> <FastTreeValue 0x7f5bf874abb0>\n",
       "    └── 'c' --> tensor([[ 1.1000,  0.0676, -1.7964, -1.8103],\n",
       "                        [-0.4342, -0.7713,  0.4494,  0.0354],\n",
       "                        [-0.3950,  0.4301, -0.1572, -0.3377],\n",
       "                        [ 1.1000,  0.0676, -1.7964, -1.8103],\n",
       "                        [-0.4342, -0.7713,  0.4494,  0.0354],\n",
       "                        [-0.3950,  0.4301, -0.1572, -0.3377],\n",
       "                        [ 1.1000,  0.0676, -1.7964, -1.8103],\n",
       "                        [-0.4342, -0.7713,  0.4494,  0.0354],\n",
       "                        [-0.3950,  0.4301, -0.1572, -0.3377],\n",
       "                        [ 1.1000,  0.0676, -1.7964, -1.8103],\n",
       "                        [-0.4342, -0.7713,  0.4494,  0.0354],\n",
       "                        [-0.3950,  0.4301, -0.1572, -0.3377],\n",
       "                        [ 1.1000,  0.0676, -1.7964, -1.8103],\n",
       "                        [-0.4342, -0.7713,  0.4494,  0.0354],\n",
       "                        [-0.3950,  0.4301, -0.1572, -0.3377],\n",
       "                        [ 1.1000,  0.0676, -1.7964, -1.8103],\n",
       "                        [-0.4342, -0.7713,  0.4494,  0.0354],\n",
       "                        [-0.3950,  0.4301, -0.1572, -0.3377],\n",
       "                        [ 1.1000,  0.0676, -1.7964, -1.8103],\n",
       "                        [-0.4342, -0.7713,  0.4494,  0.0354],\n",
       "                        [-0.3950,  0.4301, -0.1572, -0.3377],\n",
       "                        [ 1.1000,  0.0676, -1.7964, -1.8103],\n",
       "                        [-0.4342, -0.7713,  0.4494,  0.0354],\n",
       "                        [-0.3950,  0.4301, -0.1572, -0.3377]])"
      ]
     },
     "execution_count": 22,
     "metadata": {},
     "output_type": "execute_result"
    }
   ],
   "source": [
    "t_cat = FastTreeValue.func(subside=True)(torch.cat)\n",
    "\n",
    "t_cat(trees)"
   ]
  },
  {
   "cell_type": "code",
   "execution_count": 23,
   "id": "5e9c06a6",
   "metadata": {
    "execution": {
     "iopub.execute_input": "2023-01-20T05:44:35.046141Z",
     "iopub.status.busy": "2023-01-20T05:44:35.045929Z",
     "iopub.status.idle": "2023-01-20T05:44:37.496572Z",
     "shell.execute_reply": "2023-01-20T05:44:37.495581Z"
    }
   },
   "outputs": [
    {
     "name": "stdout",
     "output_type": "stream",
     "text": [
      "30.1 µs ± 48.2 ns per loop (mean ± std. dev. of 7 runs, 10,000 loops each)\n"
     ]
    }
   ],
   "source": [
    "%timeit t_cat(trees)"
   ]
  },
  {
   "cell_type": "code",
   "execution_count": 24,
   "id": "a3ab5c8f",
   "metadata": {
    "execution": {
     "iopub.execute_input": "2023-01-20T05:44:37.499543Z",
     "iopub.status.busy": "2023-01-20T05:44:37.499320Z",
     "iopub.status.idle": "2023-01-20T05:44:42.313102Z",
     "shell.execute_reply": "2023-01-20T05:44:42.312526Z"
    }
   },
   "outputs": [
    {
     "name": "stdout",
     "output_type": "stream",
     "text": [
      "59.3 µs ± 50.5 ns per loop (mean ± std. dev. of 7 runs, 10,000 loops each)\n"
     ]
    }
   ],
   "source": [
    "t_split = FastTreeValue.func(rise=True)(torch.split)\n",
    "tree = FastTreeValue({\n",
    "    'obs': torch.randn(8, 4, 84, 84),\n",
    "    'action': torch.randint(0, 6, size=(8, 1,)),\n",
    "    'reward': torch.rand(8, 1),\n",
    "})\n",
    "\n",
    "%timeit t_split(tree, 1)"
   ]
  },
  {
   "cell_type": "markdown",
   "id": "31c3ec0b",
   "metadata": {},
   "source": [
    "### Performance of Tianshou Batch"
   ]
  },
  {
   "cell_type": "code",
   "execution_count": 25,
   "id": "9ead828a",
   "metadata": {
    "execution": {
     "iopub.execute_input": "2023-01-20T05:44:42.316074Z",
     "iopub.status.busy": "2023-01-20T05:44:42.315717Z",
     "iopub.status.idle": "2023-01-20T05:44:42.322907Z",
     "shell.execute_reply": "2023-01-20T05:44:42.322272Z"
    }
   },
   "outputs": [
    {
     "data": {
      "text/plain": [
       "Batch(\n",
       "    a: tensor([[[0.8128, 0.3382, 0.2277],\n",
       "                [1.8020, 0.8064, 1.2160]],\n",
       "       \n",
       "               [[0.8128, 0.3382, 0.2277],\n",
       "                [1.8020, 0.8064, 1.2160]],\n",
       "       \n",
       "               [[0.8128, 0.3382, 0.2277],\n",
       "                [1.8020, 0.8064, 1.2160]],\n",
       "       \n",
       "               [[0.8128, 0.3382, 0.2277],\n",
       "                [1.8020, 0.8064, 1.2160]],\n",
       "       \n",
       "               [[0.8128, 0.3382, 0.2277],\n",
       "                [1.8020, 0.8064, 1.2160]],\n",
       "       \n",
       "               [[0.8128, 0.3382, 0.2277],\n",
       "                [1.8020, 0.8064, 1.2160]],\n",
       "       \n",
       "               [[0.8128, 0.3382, 0.2277],\n",
       "                [1.8020, 0.8064, 1.2160]],\n",
       "       \n",
       "               [[0.8128, 0.3382, 0.2277],\n",
       "                [1.8020, 0.8064, 1.2160]]]),\n",
       "    x: Batch(\n",
       "           c: tensor([[[ 1.1000,  0.0676, -1.7964, -1.8103],\n",
       "                       [-0.4342, -0.7713,  0.4494,  0.0354],\n",
       "                       [-0.3950,  0.4301, -0.1572, -0.3377]],\n",
       "              \n",
       "                      [[ 1.1000,  0.0676, -1.7964, -1.8103],\n",
       "                       [-0.4342, -0.7713,  0.4494,  0.0354],\n",
       "                       [-0.3950,  0.4301, -0.1572, -0.3377]],\n",
       "              \n",
       "                      [[ 1.1000,  0.0676, -1.7964, -1.8103],\n",
       "                       [-0.4342, -0.7713,  0.4494,  0.0354],\n",
       "                       [-0.3950,  0.4301, -0.1572, -0.3377]],\n",
       "              \n",
       "                      [[ 1.1000,  0.0676, -1.7964, -1.8103],\n",
       "                       [-0.4342, -0.7713,  0.4494,  0.0354],\n",
       "                       [-0.3950,  0.4301, -0.1572, -0.3377]],\n",
       "              \n",
       "                      [[ 1.1000,  0.0676, -1.7964, -1.8103],\n",
       "                       [-0.4342, -0.7713,  0.4494,  0.0354],\n",
       "                       [-0.3950,  0.4301, -0.1572, -0.3377]],\n",
       "              \n",
       "                      [[ 1.1000,  0.0676, -1.7964, -1.8103],\n",
       "                       [-0.4342, -0.7713,  0.4494,  0.0354],\n",
       "                       [-0.3950,  0.4301, -0.1572, -0.3377]],\n",
       "              \n",
       "                      [[ 1.1000,  0.0676, -1.7964, -1.8103],\n",
       "                       [-0.4342, -0.7713,  0.4494,  0.0354],\n",
       "                       [-0.3950,  0.4301, -0.1572, -0.3377]],\n",
       "              \n",
       "                      [[ 1.1000,  0.0676, -1.7964, -1.8103],\n",
       "                       [-0.4342, -0.7713,  0.4494,  0.0354],\n",
       "                       [-0.3950,  0.4301, -0.1572, -0.3377]]]),\n",
       "       ),\n",
       ")"
      ]
     },
     "execution_count": 25,
     "metadata": {},
     "output_type": "execute_result"
    }
   ],
   "source": [
    "batches = [Batch(**_TREE_DATA_2) for _ in range(8)]\n",
    "\n",
    "Batch.stack(batches)"
   ]
  },
  {
   "cell_type": "code",
   "execution_count": 26,
   "id": "ec9037a3",
   "metadata": {
    "execution": {
     "iopub.execute_input": "2023-01-20T05:44:42.325500Z",
     "iopub.status.busy": "2023-01-20T05:44:42.325280Z",
     "iopub.status.idle": "2023-01-20T05:44:48.884144Z",
     "shell.execute_reply": "2023-01-20T05:44:48.883570Z"
    }
   },
   "outputs": [
    {
     "name": "stdout",
     "output_type": "stream",
     "text": [
      "80.7 µs ± 201 ns per loop (mean ± std. dev. of 7 runs, 10,000 loops each)\n"
     ]
    }
   ],
   "source": [
    "%timeit Batch.stack(batches)"
   ]
  },
  {
   "cell_type": "code",
   "execution_count": 27,
   "id": "cb8ab77e",
   "metadata": {
    "execution": {
     "iopub.execute_input": "2023-01-20T05:44:48.887158Z",
     "iopub.status.busy": "2023-01-20T05:44:48.886942Z",
     "iopub.status.idle": "2023-01-20T05:44:48.893408Z",
     "shell.execute_reply": "2023-01-20T05:44:48.892780Z"
    }
   },
   "outputs": [
    {
     "data": {
      "text/plain": [
       "Batch(\n",
       "    a: tensor([[0.8128, 0.3382, 0.2277],\n",
       "               [1.8020, 0.8064, 1.2160],\n",
       "               [0.8128, 0.3382, 0.2277],\n",
       "               [1.8020, 0.8064, 1.2160],\n",
       "               [0.8128, 0.3382, 0.2277],\n",
       "               [1.8020, 0.8064, 1.2160],\n",
       "               [0.8128, 0.3382, 0.2277],\n",
       "               [1.8020, 0.8064, 1.2160],\n",
       "               [0.8128, 0.3382, 0.2277],\n",
       "               [1.8020, 0.8064, 1.2160],\n",
       "               [0.8128, 0.3382, 0.2277],\n",
       "               [1.8020, 0.8064, 1.2160],\n",
       "               [0.8128, 0.3382, 0.2277],\n",
       "               [1.8020, 0.8064, 1.2160],\n",
       "               [0.8128, 0.3382, 0.2277],\n",
       "               [1.8020, 0.8064, 1.2160]]),\n",
       "    x: Batch(\n",
       "           c: tensor([[ 1.1000,  0.0676, -1.7964, -1.8103],\n",
       "                      [-0.4342, -0.7713,  0.4494,  0.0354],\n",
       "                      [-0.3950,  0.4301, -0.1572, -0.3377],\n",
       "                      [ 1.1000,  0.0676, -1.7964, -1.8103],\n",
       "                      [-0.4342, -0.7713,  0.4494,  0.0354],\n",
       "                      [-0.3950,  0.4301, -0.1572, -0.3377],\n",
       "                      [ 1.1000,  0.0676, -1.7964, -1.8103],\n",
       "                      [-0.4342, -0.7713,  0.4494,  0.0354],\n",
       "                      [-0.3950,  0.4301, -0.1572, -0.3377],\n",
       "                      [ 1.1000,  0.0676, -1.7964, -1.8103],\n",
       "                      [-0.4342, -0.7713,  0.4494,  0.0354],\n",
       "                      [-0.3950,  0.4301, -0.1572, -0.3377],\n",
       "                      [ 1.1000,  0.0676, -1.7964, -1.8103],\n",
       "                      [-0.4342, -0.7713,  0.4494,  0.0354],\n",
       "                      [-0.3950,  0.4301, -0.1572, -0.3377],\n",
       "                      [ 1.1000,  0.0676, -1.7964, -1.8103],\n",
       "                      [-0.4342, -0.7713,  0.4494,  0.0354],\n",
       "                      [-0.3950,  0.4301, -0.1572, -0.3377],\n",
       "                      [ 1.1000,  0.0676, -1.7964, -1.8103],\n",
       "                      [-0.4342, -0.7713,  0.4494,  0.0354],\n",
       "                      [-0.3950,  0.4301, -0.1572, -0.3377],\n",
       "                      [ 1.1000,  0.0676, -1.7964, -1.8103],\n",
       "                      [-0.4342, -0.7713,  0.4494,  0.0354],\n",
       "                      [-0.3950,  0.4301, -0.1572, -0.3377]]),\n",
       "       ),\n",
       ")"
      ]
     },
     "execution_count": 27,
     "metadata": {},
     "output_type": "execute_result"
    }
   ],
   "source": [
    "Batch.cat(batches)"
   ]
  },
  {
   "cell_type": "code",
   "execution_count": 28,
   "id": "18dfb045",
   "metadata": {
    "execution": {
     "iopub.execute_input": "2023-01-20T05:44:48.895970Z",
     "iopub.status.busy": "2023-01-20T05:44:48.895762Z",
     "iopub.status.idle": "2023-01-20T05:45:01.162168Z",
     "shell.execute_reply": "2023-01-20T05:45:01.161570Z"
    }
   },
   "outputs": [
    {
     "name": "stdout",
     "output_type": "stream",
     "text": [
      "151 µs ± 1.48 µs per loop (mean ± std. dev. of 7 runs, 10,000 loops each)\n"
     ]
    }
   ],
   "source": [
    "%timeit Batch.cat(batches)"
   ]
  },
  {
   "cell_type": "code",
   "execution_count": 29,
   "id": "c6688e51",
   "metadata": {
    "execution": {
     "iopub.execute_input": "2023-01-20T05:45:01.165212Z",
     "iopub.status.busy": "2023-01-20T05:45:01.164993Z",
     "iopub.status.idle": "2023-01-20T05:45:03.818026Z",
     "shell.execute_reply": "2023-01-20T05:45:03.817330Z"
    }
   },
   "outputs": [
    {
     "name": "stdout",
     "output_type": "stream",
     "text": [
      "325 µs ± 4.73 µs per loop (mean ± std. dev. of 7 runs, 1,000 loops each)\n"
     ]
    }
   ],
   "source": [
    "batch = Batch({\n",
    "    'obs': torch.randn(8, 4, 84, 84),\n",
    "    'action': torch.randint(0, 6, size=(8, 1,)),\n",
    "    'reward': torch.rand(8, 1)}\n",
    ")\n",
    "\n",
    "%timeit list(Batch.split(batch, 1, shuffle=False, merge_last=True))"
   ]
  },
  {
   "cell_type": "code",
   "execution_count": null,
   "id": "2539fbd9",
   "metadata": {},
   "outputs": [],
   "source": []
  }
 ],
 "metadata": {
  "kernelspec": {
   "display_name": "Python 3 (ipykernel)",
   "language": "python",
   "name": "python3"
  },
  "language_info": {
   "codemirror_mode": {
    "name": "ipython",
    "version": 3
   },
   "file_extension": ".py",
   "mimetype": "text/x-python",
   "name": "python",
   "nbconvert_exporter": "python",
   "pygments_lexer": "ipython3",
   "version": "3.8.16"
  }
 },
 "nbformat": 4,
 "nbformat_minor": 5
}
