{
 "cells": [
  {
   "cell_type": "markdown",
   "metadata": {
    "collapsed": false,
    "pycharm": {
     "name": "#%% md\n"
    }
   },
   "source": [
    "# Comparison Between TreeValue and DM-Tree"
   ]
  },
  {
   "cell_type": "markdown",
   "metadata": {
    "collapsed": false,
    "pycharm": {
     "name": "#%% md\n"
    }
   },
   "source": [
    "In this section, we will compare the feature and performance of the [dm-tree](https://github.com/deepmind/tree) library, which is developed by deepmind."
   ]
  },
  {
   "cell_type": "markdown",
   "metadata": {
    "collapsed": false,
    "pycharm": {
     "name": "#%% md\n"
    }
   },
   "source": [
    "Before starting the comparison, let us define some thing."
   ]
  },
  {
   "cell_type": "code",
   "execution_count": 1,
   "metadata": {
    "execution": {
     "iopub.execute_input": "2023-03-06T11:28:40.577805Z",
     "iopub.status.busy": "2023-03-06T11:28:40.577602Z",
     "iopub.status.idle": "2023-03-06T11:28:40.586512Z",
     "shell.execute_reply": "2023-03-06T11:28:40.585951Z"
    },
    "pycharm": {
     "name": "#%%\n"
    }
   },
   "outputs": [],
   "source": [
    "origin = {'a': 1, 'b': 2, 'c': {'x': 3, 'y': 4}}"
   ]
  },
  {
   "cell_type": "markdown",
   "metadata": {
    "collapsed": false,
    "pycharm": {
     "name": "#%% md\n"
    }
   },
   "source": [
    "## Mapping Operation"
   ]
  },
  {
   "cell_type": "markdown",
   "metadata": {
    "collapsed": false,
    "pycharm": {
     "name": "#%% md\n"
    }
   },
   "source": [
    "Mapping operation is quite common in the processing of trees. A mapping function should be provided to create a new tree based on the mapped tree."
   ]
  },
  {
   "cell_type": "markdown",
   "metadata": {
    "collapsed": false,
    "pycharm": {
     "name": "#%% md\n"
    }
   },
   "source": [
    "### TreeValue's mapping"
   ]
  },
  {
   "cell_type": "markdown",
   "metadata": {
    "collapsed": false,
    "pycharm": {
     "name": "#%% md\n"
    }
   },
   "source": [
    "In TreeValue, mapping is provided to simply create a new tree."
   ]
  },
  {
   "cell_type": "code",
   "execution_count": 2,
   "metadata": {
    "execution": {
     "iopub.execute_input": "2023-03-06T11:28:40.589232Z",
     "iopub.status.busy": "2023-03-06T11:28:40.588909Z",
     "iopub.status.idle": "2023-03-06T11:28:41.764444Z",
     "shell.execute_reply": "2023-03-06T11:28:41.763871Z"
    },
    "pycharm": {
     "name": "#%%\n"
    }
   },
   "outputs": [
    {
     "name": "stderr",
     "output_type": "stream",
     "text": [
      "/opt/hostedtoolcache/Python/3.8.16/x64/lib/python3.8/site-packages/tqdm/auto.py:21: TqdmWarning: IProgress not found. Please update jupyter and ipywidgets. See https://ipywidgets.readthedocs.io/en/stable/user_install.html\n",
      "  from .autonotebook import tqdm as notebook_tqdm\n"
     ]
    },
    {
     "data": {
      "text/plain": [
       "<FastTreeValue 0x7f803c797eb0>\n",
       "├── 'a' --> 1\n",
       "├── 'b' --> 2\n",
       "└── 'c' --> <FastTreeValue 0x7f803c797fd0>\n",
       "    ├── 'x' --> 3\n",
       "    └── 'y' --> 4"
      ]
     },
     "execution_count": 2,
     "metadata": {},
     "output_type": "execute_result"
    }
   ],
   "source": [
    "from treevalue import FastTreeValue, mapping\n",
    "\n",
    "tv = FastTreeValue(origin)\n",
    "tv"
   ]
  },
  {
   "cell_type": "code",
   "execution_count": 3,
   "metadata": {
    "execution": {
     "iopub.execute_input": "2023-03-06T11:28:41.803885Z",
     "iopub.status.busy": "2023-03-06T11:28:41.803325Z",
     "iopub.status.idle": "2023-03-06T11:28:41.808124Z",
     "shell.execute_reply": "2023-03-06T11:28:41.807626Z"
    },
    "pycharm": {
     "name": "#%%\n"
    }
   },
   "outputs": [
    {
     "data": {
      "text/plain": [
       "<FastTreeValue 0x7f8040837220>\n",
       "├── 'a' --> 2\n",
       "├── 'b' --> 4\n",
       "└── 'c' --> <FastTreeValue 0x7f8040837460>\n",
       "    ├── 'x' --> 6\n",
       "    └── 'y' --> 8"
      ]
     },
     "execution_count": 3,
     "metadata": {},
     "output_type": "execute_result"
    }
   ],
   "source": [
    "mapping(tv, lambda x: x * 2)"
   ]
  },
  {
   "cell_type": "markdown",
   "metadata": {
    "collapsed": false,
    "pycharm": {
     "name": "#%% md\n"
    }
   },
   "source": [
    "Here is the performance test."
   ]
  },
  {
   "cell_type": "code",
   "execution_count": 4,
   "metadata": {
    "execution": {
     "iopub.execute_input": "2023-03-06T11:28:41.810815Z",
     "iopub.status.busy": "2023-03-06T11:28:41.810187Z",
     "iopub.status.idle": "2023-03-06T11:28:43.721163Z",
     "shell.execute_reply": "2023-03-06T11:28:43.720403Z"
    },
    "pycharm": {
     "name": "#%%\n"
    }
   },
   "outputs": [
    {
     "name": "stdout",
     "output_type": "stream",
     "text": [
      "2.35 µs ± 13 ns per loop (mean ± std. dev. of 7 runs, 100,000 loops each)\n"
     ]
    }
   ],
   "source": [
    "%timeit mapping(tv, lambda x: x * 2)"
   ]
  },
  {
   "cell_type": "markdown",
   "metadata": {
    "collapsed": false,
    "pycharm": {
     "name": "#%% md\n"
    }
   },
   "source": [
    "In order to support the cased that the mapped value is related to both path and value of each node, we can use the 'path mapping mode' by simply use the second parameter of the mapping function."
   ]
  },
  {
   "cell_type": "code",
   "execution_count": 5,
   "metadata": {
    "execution": {
     "iopub.execute_input": "2023-03-06T11:28:43.724323Z",
     "iopub.status.busy": "2023-03-06T11:28:43.723966Z",
     "iopub.status.idle": "2023-03-06T11:28:43.728828Z",
     "shell.execute_reply": "2023-03-06T11:28:43.728205Z"
    },
    "pycharm": {
     "name": "#%%\n"
    }
   },
   "outputs": [
    {
     "data": {
      "text/plain": [
       "<FastTreeValue 0x7f7f8d5f1580>\n",
       "├── 'a' --> ('path', ('a',), 'value', 1)\n",
       "├── 'b' --> ('path', ('b',), 'value', 2)\n",
       "└── 'c' --> <FastTreeValue 0x7f7f8d5f14f0>\n",
       "    ├── 'x' --> ('path', ('c', 'x'), 'value', 3)\n",
       "    └── 'y' --> ('path', ('c', 'y'), 'value', 4)"
      ]
     },
     "execution_count": 5,
     "metadata": {},
     "output_type": "execute_result"
    }
   ],
   "source": [
    "mapping(tv, lambda x, p: ('path', p, 'value', x))"
   ]
  },
  {
   "cell_type": "markdown",
   "metadata": {
    "collapsed": false,
    "pycharm": {
     "name": "#%% md\n"
    }
   },
   "source": [
    "And here is the performance"
   ]
  },
  {
   "cell_type": "code",
   "execution_count": 6,
   "metadata": {
    "execution": {
     "iopub.execute_input": "2023-03-06T11:28:43.731838Z",
     "iopub.status.busy": "2023-03-06T11:28:43.731502Z",
     "iopub.status.idle": "2023-03-06T11:28:45.706591Z",
     "shell.execute_reply": "2023-03-06T11:28:45.705866Z"
    },
    "pycharm": {
     "name": "#%%\n"
    }
   },
   "outputs": [
    {
     "name": "stdout",
     "output_type": "stream",
     "text": [
      "2.43 µs ± 16.3 ns per loop (mean ± std. dev. of 7 runs, 100,000 loops each)\n"
     ]
    }
   ],
   "source": [
    "%timeit mapping(tv, lambda x, p: ('path', p, 'value', x))"
   ]
  },
  {
   "cell_type": "markdown",
   "metadata": {
    "collapsed": false,
    "pycharm": {
     "name": "#%% md\n"
    }
   },
   "source": [
    "### DM-Tree's mapping"
   ]
  },
  {
   "cell_type": "markdown",
   "metadata": {
    "collapsed": false,
    "pycharm": {
     "name": "#%% md\n"
    }
   },
   "source": [
    "In DM-Tree, mapping operation is supported by [map_structure](https://tree.readthedocs.io/en/latest/api.html#tree.map_structure) function."
   ]
  },
  {
   "cell_type": "code",
   "execution_count": 7,
   "metadata": {
    "execution": {
     "iopub.execute_input": "2023-03-06T11:28:45.709483Z",
     "iopub.status.busy": "2023-03-06T11:28:45.709146Z",
     "iopub.status.idle": "2023-03-06T11:28:45.714465Z",
     "shell.execute_reply": "2023-03-06T11:28:45.713865Z"
    },
    "pycharm": {
     "name": "#%%\n"
    }
   },
   "outputs": [],
   "source": [
    "from tree import map_structure"
   ]
  },
  {
   "cell_type": "code",
   "execution_count": 8,
   "metadata": {
    "execution": {
     "iopub.execute_input": "2023-03-06T11:28:45.717239Z",
     "iopub.status.busy": "2023-03-06T11:28:45.716911Z",
     "iopub.status.idle": "2023-03-06T11:28:45.722840Z",
     "shell.execute_reply": "2023-03-06T11:28:45.722275Z"
    },
    "pycharm": {
     "name": "#%%\n"
    }
   },
   "outputs": [
    {
     "data": {
      "text/plain": [
       "{'a': 2, 'b': 4, 'c': {'x': 6, 'y': 8}}"
      ]
     },
     "execution_count": 8,
     "metadata": {},
     "output_type": "execute_result"
    }
   ],
   "source": [
    "map_structure(lambda x: x * 2, origin)"
   ]
  },
  {
   "cell_type": "markdown",
   "metadata": {
    "collapsed": false,
    "pycharm": {
     "name": "#%% md\n"
    }
   },
   "source": [
    "This is the performance of `map_structure`, obviously much slower than `mapping` in TreeValue."
   ]
  },
  {
   "cell_type": "code",
   "execution_count": 9,
   "metadata": {
    "execution": {
     "iopub.execute_input": "2023-03-06T11:28:45.725524Z",
     "iopub.status.busy": "2023-03-06T11:28:45.725202Z",
     "iopub.status.idle": "2023-03-06T11:28:58.662353Z",
     "shell.execute_reply": "2023-03-06T11:28:58.661619Z"
    },
    "pycharm": {
     "name": "#%%\n"
    }
   },
   "outputs": [
    {
     "name": "stdout",
     "output_type": "stream",
     "text": [
      "15.9 µs ± 47.1 ns per loop (mean ± std. dev. of 7 runs, 100,000 loops each)\n"
     ]
    }
   ],
   "source": [
    "%timeit map_structure(lambda x: x * 2, origin)"
   ]
  },
  {
   "cell_type": "markdown",
   "metadata": {
    "collapsed": false,
    "pycharm": {
     "name": "#%% md\n"
    }
   },
   "source": [
    "To supported the second situation in the last section, [map_structure_with_path](https://tree.readthedocs.io/en/latest/api.html#tree.map_structure_with_path) can be used."
   ]
  },
  {
   "cell_type": "code",
   "execution_count": 10,
   "metadata": {
    "execution": {
     "iopub.execute_input": "2023-03-06T11:28:58.665753Z",
     "iopub.status.busy": "2023-03-06T11:28:58.665112Z",
     "iopub.status.idle": "2023-03-06T11:28:58.668894Z",
     "shell.execute_reply": "2023-03-06T11:28:58.668300Z"
    },
    "pycharm": {
     "name": "#%%\n"
    }
   },
   "outputs": [],
   "source": [
    "from tree import map_structure_with_path"
   ]
  },
  {
   "cell_type": "code",
   "execution_count": 11,
   "metadata": {
    "execution": {
     "iopub.execute_input": "2023-03-06T11:28:58.671181Z",
     "iopub.status.busy": "2023-03-06T11:28:58.670971Z",
     "iopub.status.idle": "2023-03-06T11:28:58.676387Z",
     "shell.execute_reply": "2023-03-06T11:28:58.675751Z"
    },
    "pycharm": {
     "name": "#%%\n"
    }
   },
   "outputs": [
    {
     "data": {
      "text/plain": [
       "{'a': ('path', ('a',), 'value', 1),\n",
       " 'b': ('path', ('b',), 'value', 2),\n",
       " 'c': {'x': ('path', ('c', 'x'), 'value', 3),\n",
       "  'y': ('path', ('c', 'y'), 'value', 4)}}"
      ]
     },
     "execution_count": 11,
     "metadata": {},
     "output_type": "execute_result"
    }
   ],
   "source": [
    "map_structure_with_path(lambda path, x: ('path', path, 'value', x), origin)"
   ]
  },
  {
   "cell_type": "markdown",
   "metadata": {
    "collapsed": false,
    "pycharm": {
     "name": "#%% md\n"
    }
   },
   "source": [
    "Here is the performance."
   ]
  },
  {
   "cell_type": "code",
   "execution_count": 12,
   "metadata": {
    "execution": {
     "iopub.execute_input": "2023-03-06T11:28:58.679179Z",
     "iopub.status.busy": "2023-03-06T11:28:58.678849Z",
     "iopub.status.idle": "2023-03-06T11:29:01.462470Z",
     "shell.execute_reply": "2023-03-06T11:29:01.461709Z"
    },
    "pycharm": {
     "name": "#%%\n"
    }
   },
   "outputs": [
    {
     "name": "stdout",
     "output_type": "stream",
     "text": [
      "34.2 µs ± 83.2 ns per loop (mean ± std. dev. of 7 runs, 10,000 loops each)\n"
     ]
    }
   ],
   "source": [
    "%timeit map_structure_with_path(lambda path, x: ('path', path, 'value', x), origin)"
   ]
  },
  {
   "cell_type": "markdown",
   "metadata": {
    "collapsed": false,
    "pycharm": {
     "name": "#%% md\n"
    }
   },
   "source": [
    "## Flatten and Unflatten"
   ]
  },
  {
   "cell_type": "markdown",
   "metadata": {
    "collapsed": false,
    "pycharm": {
     "name": "#%% md\n"
    }
   },
   "source": [
    "In tree operations, flatten is often used to linearly expand the tree structure for operations such as parallel processing. Based on flatten, unflatten is its inverse operation, which can recover the tree structure from the linear data."
   ]
  },
  {
   "cell_type": "markdown",
   "metadata": {
    "collapsed": false,
    "pycharm": {
     "name": "#%% md\n"
    }
   },
   "source": [
    "### TreeValue's Performance"
   ]
  },
  {
   "cell_type": "markdown",
   "metadata": {
    "collapsed": false,
    "pycharm": {
     "name": "#%% md\n"
    }
   },
   "source": [
    "In TreeValue, flatten and unflatten are provided, which usage are simple."
   ]
  },
  {
   "cell_type": "code",
   "execution_count": 13,
   "metadata": {
    "execution": {
     "iopub.execute_input": "2023-03-06T11:29:01.465748Z",
     "iopub.status.busy": "2023-03-06T11:29:01.465133Z",
     "iopub.status.idle": "2023-03-06T11:29:01.470003Z",
     "shell.execute_reply": "2023-03-06T11:29:01.469353Z"
    },
    "pycharm": {
     "name": "#%%\n"
    }
   },
   "outputs": [
    {
     "data": {
      "text/plain": [
       "<FastTreeValue 0x7f7f8d5f1bb0>\n",
       "├── 'a' --> 1\n",
       "├── 'b' --> 2\n",
       "└── 'c' --> <FastTreeValue 0x7f7f8d5f1670>\n",
       "    ├── 'x' --> 3\n",
       "    └── 'y' --> 4"
      ]
     },
     "execution_count": 13,
     "metadata": {},
     "output_type": "execute_result"
    }
   ],
   "source": [
    "from treevalue import FastTreeValue, flatten, unflatten\n",
    "\n",
    "origin_tree = FastTreeValue(origin)\n",
    "origin_tree"
   ]
  },
  {
   "cell_type": "code",
   "execution_count": 14,
   "metadata": {
    "execution": {
     "iopub.execute_input": "2023-03-06T11:29:01.472471Z",
     "iopub.status.busy": "2023-03-06T11:29:01.472136Z",
     "iopub.status.idle": "2023-03-06T11:29:01.476627Z",
     "shell.execute_reply": "2023-03-06T11:29:01.475986Z"
    },
    "pycharm": {
     "name": "#%%\n"
    }
   },
   "outputs": [
    {
     "data": {
      "text/plain": [
       "[(('a',), 1), (('b',), 2), (('c', 'x'), 3), (('c', 'y'), 4)]"
      ]
     },
     "execution_count": 14,
     "metadata": {},
     "output_type": "execute_result"
    }
   ],
   "source": [
    "flatted = flatten(origin_tree)\n",
    "flatted"
   ]
  },
  {
   "cell_type": "markdown",
   "metadata": {
    "collapsed": false,
    "pycharm": {
     "name": "#%% md\n"
    }
   },
   "source": [
    "Here is the performance of `flatten`"
   ]
  },
  {
   "cell_type": "code",
   "execution_count": 15,
   "metadata": {
    "execution": {
     "iopub.execute_input": "2023-03-06T11:29:01.479572Z",
     "iopub.status.busy": "2023-03-06T11:29:01.479071Z",
     "iopub.status.idle": "2023-03-06T11:29:07.861720Z",
     "shell.execute_reply": "2023-03-06T11:29:07.861008Z"
    },
    "pycharm": {
     "name": "#%%\n"
    }
   },
   "outputs": [
    {
     "name": "stdout",
     "output_type": "stream",
     "text": [
      "784 ns ± 28.1 ns per loop (mean ± std. dev. of 7 runs, 1,000,000 loops each)\n"
     ]
    }
   ],
   "source": [
    "%timeit flatten(origin_tree)"
   ]
  },
  {
   "cell_type": "markdown",
   "metadata": {
    "collapsed": false,
    "pycharm": {
     "name": "#%% md\n"
    }
   },
   "source": [
    "The tree can be re-created from `flatted` with function `unflatten`."
   ]
  },
  {
   "cell_type": "code",
   "execution_count": 16,
   "metadata": {
    "execution": {
     "iopub.execute_input": "2023-03-06T11:29:07.864855Z",
     "iopub.status.busy": "2023-03-06T11:29:07.864403Z",
     "iopub.status.idle": "2023-03-06T11:29:07.868884Z",
     "shell.execute_reply": "2023-03-06T11:29:07.868248Z"
    },
    "pycharm": {
     "name": "#%%\n"
    }
   },
   "outputs": [
    {
     "data": {
      "text/plain": [
       "<TreeValue 0x7f7f8d5f1d30>\n",
       "├── 'a' --> 1\n",
       "├── 'b' --> 2\n",
       "└── 'c' --> <TreeValue 0x7f7f8d5f1ca0>\n",
       "    ├── 'x' --> 3\n",
       "    └── 'y' --> 4"
      ]
     },
     "execution_count": 16,
     "metadata": {},
     "output_type": "execute_result"
    }
   ],
   "source": [
    "unflatten(flatted)"
   ]
  },
  {
   "cell_type": "markdown",
   "metadata": {
    "collapsed": false,
    "pycharm": {
     "name": "#%% md\n"
    }
   },
   "source": [
    "And here is the performance."
   ]
  },
  {
   "cell_type": "code",
   "execution_count": 17,
   "metadata": {
    "execution": {
     "iopub.execute_input": "2023-03-06T11:29:07.871701Z",
     "iopub.status.busy": "2023-03-06T11:29:07.871356Z",
     "iopub.status.idle": "2023-03-06T11:29:14.576920Z",
     "shell.execute_reply": "2023-03-06T11:29:14.576239Z"
    },
    "pycharm": {
     "name": "#%%\n"
    }
   },
   "outputs": [
    {
     "name": "stdout",
     "output_type": "stream",
     "text": [
      "823 ns ± 9.17 ns per loop (mean ± std. dev. of 7 runs, 1,000,000 loops each)\n"
     ]
    }
   ],
   "source": [
    "%timeit unflatten(flatted)"
   ]
  },
  {
   "cell_type": "markdown",
   "metadata": {
    "collapsed": false,
    "pycharm": {
     "name": "#%% md\n"
    }
   },
   "source": [
    "### DM-Tree's Performance"
   ]
  },
  {
   "cell_type": "markdown",
   "metadata": {
    "collapsed": false,
    "pycharm": {
     "name": "#%% md\n"
    }
   },
   "source": [
    "[Flatten](https://tree.readthedocs.io/en/latest/api.html#tree.flatten) is provided in DM-Tree as well, but it differs from that in TreeValue, as the following"
   ]
  },
  {
   "cell_type": "code",
   "execution_count": 18,
   "metadata": {
    "execution": {
     "iopub.execute_input": "2023-03-06T11:29:14.580208Z",
     "iopub.status.busy": "2023-03-06T11:29:14.579648Z",
     "iopub.status.idle": "2023-03-06T11:29:14.585762Z",
     "shell.execute_reply": "2023-03-06T11:29:14.585192Z"
    },
    "pycharm": {
     "name": "#%%\n"
    }
   },
   "outputs": [
    {
     "data": {
      "text/plain": [
       "[1, 2, 3, 4]"
      ]
     },
     "execution_count": 18,
     "metadata": {},
     "output_type": "execute_result"
    }
   ],
   "source": [
    "from tree import flatten\n",
    "\n",
    "flatten(origin)"
   ]
  },
  {
   "cell_type": "markdown",
   "metadata": {
    "collapsed": false,
    "pycharm": {
     "name": "#%% md\n"
    }
   },
   "source": [
    "Here is the performance"
   ]
  },
  {
   "cell_type": "code",
   "execution_count": 19,
   "metadata": {
    "execution": {
     "iopub.execute_input": "2023-03-06T11:29:14.588417Z",
     "iopub.status.busy": "2023-03-06T11:29:14.588084Z",
     "iopub.status.idle": "2023-03-06T11:29:22.292881Z",
     "shell.execute_reply": "2023-03-06T11:29:22.292182Z"
    },
    "pycharm": {
     "name": "#%%\n"
    }
   },
   "outputs": [
    {
     "name": "stdout",
     "output_type": "stream",
     "text": [
      "947 ns ± 5.23 ns per loop (mean ± std. dev. of 7 runs, 1,000,000 loops each)\n"
     ]
    }
   ],
   "source": [
    "%timeit flatten(origin)"
   ]
  },
  {
   "cell_type": "markdown",
   "metadata": {
    "collapsed": false,
    "pycharm": {
     "name": "#%% md\n"
    }
   },
   "source": [
    "The structure of the tree is dropped, only the data is extracted from the tree. This means the `flatten` function in DM-Tree is irreversible, we can not recover the original tree with the result above."
   ]
  },
  {
   "cell_type": "markdown",
   "metadata": {
    "collapsed": false,
    "pycharm": {
     "name": "#%% md\n"
    }
   },
   "source": [
    "The reversible resolution provided in DM-Tree is [flatten_with_path](https://tree.readthedocs.io/en/latest/api.html#tree.flatten_with_path)"
   ]
  },
  {
   "cell_type": "code",
   "execution_count": 20,
   "metadata": {
    "execution": {
     "iopub.execute_input": "2023-03-06T11:29:22.295774Z",
     "iopub.status.busy": "2023-03-06T11:29:22.295439Z",
     "iopub.status.idle": "2023-03-06T11:29:22.301546Z",
     "shell.execute_reply": "2023-03-06T11:29:22.300961Z"
    },
    "pycharm": {
     "name": "#%%\n"
    }
   },
   "outputs": [
    {
     "data": {
      "text/plain": [
       "[(('a',), 1), (('b',), 2), (('c', 'x'), 3), (('c', 'y'), 4)]"
      ]
     },
     "execution_count": 20,
     "metadata": {},
     "output_type": "execute_result"
    }
   ],
   "source": [
    "from tree import flatten_with_path\n",
    "\n",
    "flatten_with_path(origin)"
   ]
  },
  {
   "cell_type": "markdown",
   "metadata": {
    "collapsed": false,
    "pycharm": {
     "name": "#%% md\n"
    }
   },
   "source": [
    "Here is the performance, much slower than `flatten` in TreeValue."
   ]
  },
  {
   "cell_type": "code",
   "execution_count": 21,
   "metadata": {
    "execution": {
     "iopub.execute_input": "2023-03-06T11:29:22.304024Z",
     "iopub.status.busy": "2023-03-06T11:29:22.303689Z",
     "iopub.status.idle": "2023-03-06T11:29:35.960292Z",
     "shell.execute_reply": "2023-03-06T11:29:35.959589Z"
    },
    "pycharm": {
     "name": "#%%\n"
    }
   },
   "outputs": [
    {
     "name": "stdout",
     "output_type": "stream",
     "text": [
      "16.8 µs ± 154 ns per loop (mean ± std. dev. of 7 runs, 100,000 loops each)\n"
     ]
    }
   ],
   "source": [
    "%timeit flatten_with_path(origin)"
   ]
  },
  {
   "cell_type": "markdown",
   "metadata": {
    "collapsed": false,
    "pycharm": {
     "name": "#%% md\n"
    }
   },
   "source": [
    "To re-create the original tree, we need a tree structure with any objects filled inside. Use the [unflatten_as](https://tree.readthedocs.io/en/latest/api.html#tree.unflatten_as) to archive this goal."
   ]
  },
  {
   "cell_type": "code",
   "execution_count": 22,
   "metadata": {
    "execution": {
     "iopub.execute_input": "2023-03-06T11:29:35.963368Z",
     "iopub.status.busy": "2023-03-06T11:29:35.962787Z",
     "iopub.status.idle": "2023-03-06T11:29:35.969064Z",
     "shell.execute_reply": "2023-03-06T11:29:35.968478Z"
    },
    "pycharm": {
     "name": "#%%\n"
    }
   },
   "outputs": [
    {
     "data": {
      "text/plain": [
       "{'a': 1, 'b': 2, 'c': {'x': 3, 'y': 4}}"
      ]
     },
     "execution_count": 22,
     "metadata": {},
     "output_type": "execute_result"
    }
   ],
   "source": [
    "from tree import unflatten_as\n",
    "\n",
    "unflatten_as({'a': None, 'b': None, 'c': {'x': None, 'y': None}}, [1, 2, 3, 4])"
   ]
  },
  {
   "cell_type": "markdown",
   "metadata": {
    "collapsed": false,
    "pycharm": {
     "name": "#%% md\n"
    }
   },
   "source": [
    "Here is the performance."
   ]
  },
  {
   "cell_type": "code",
   "execution_count": 23,
   "metadata": {
    "execution": {
     "iopub.execute_input": "2023-03-06T11:29:35.971765Z",
     "iopub.status.busy": "2023-03-06T11:29:35.971277Z",
     "iopub.status.idle": "2023-03-06T11:29:46.623329Z",
     "shell.execute_reply": "2023-03-06T11:29:46.622604Z"
    },
    "pycharm": {
     "name": "#%%\n"
    }
   },
   "outputs": [
    {
     "name": "stdout",
     "output_type": "stream",
     "text": [
      "13.1 µs ± 51.2 ns per loop (mean ± std. dev. of 7 runs, 100,000 loops each)\n"
     ]
    }
   ],
   "source": [
    "%timeit unflatten_as({'a': None, 'b': None, 'c': {'x': None, 'y': None}}, [1, 2, 3, 4])"
   ]
  },
  {
   "cell_type": "markdown",
   "metadata": {
    "collapsed": false,
    "pycharm": {
     "name": "#%% md\n"
    }
   },
   "source": [
    "### Positional Replacement"
   ]
  },
  {
   "cell_type": "markdown",
   "metadata": {
    "collapsed": false,
    "pycharm": {
     "name": "#%% md\n"
    }
   },
   "source": [
    "It is obvious that the `unflatten_as` in DM-Tree is quite different from `unflatten` in TreeValue, for the former one is `replacing` and the latter one is `constructing`. This means the `unflatten_as` in DM-Tree may supported some more features, such as creating a new tree with another tree's structure and the given values. So we need an experiment on this, called 'positional replacement'."
   ]
  },
  {
   "cell_type": "markdown",
   "metadata": {
    "collapsed": false,
    "pycharm": {
     "name": "#%% md\n"
    }
   },
   "source": [
    "First, in TreeValue, we can build a function named `replace` to realize this."
   ]
  },
  {
   "cell_type": "code",
   "execution_count": 24,
   "metadata": {
    "execution": {
     "iopub.execute_input": "2023-03-06T11:29:46.626278Z",
     "iopub.status.busy": "2023-03-06T11:29:46.625918Z",
     "iopub.status.idle": "2023-03-06T11:29:46.630679Z",
     "shell.execute_reply": "2023-03-06T11:29:46.630070Z"
    },
    "pycharm": {
     "name": "#%%\n"
    }
   },
   "outputs": [],
   "source": [
    "from treevalue import flatten, unflatten\n",
    "\n",
    "def replace(t, v):\n",
    "    pairs = flatten(t)\n",
    "    return unflatten([(path, vi) for (path, _), vi in zip(pairs, v)])"
   ]
  },
  {
   "cell_type": "markdown",
   "metadata": {
    "collapsed": false,
    "pycharm": {
     "name": "#%% md\n"
    }
   },
   "source": [
    "Create a new tree based on `origin_tree`'s structure and new values."
   ]
  },
  {
   "cell_type": "code",
   "execution_count": 25,
   "metadata": {
    "execution": {
     "iopub.execute_input": "2023-03-06T11:29:46.633346Z",
     "iopub.status.busy": "2023-03-06T11:29:46.633118Z",
     "iopub.status.idle": "2023-03-06T11:29:46.639094Z",
     "shell.execute_reply": "2023-03-06T11:29:46.638514Z"
    },
    "pycharm": {
     "name": "#%%\n"
    }
   },
   "outputs": [
    {
     "data": {
      "text/plain": [
       "<TreeValue 0x7f7f8d5f1790>\n",
       "├── 'a' --> 3\n",
       "├── 'b' --> 5\n",
       "└── 'c' --> <TreeValue 0x7f7f8d5f1c10>\n",
       "    ├── 'x' --> 7\n",
       "    └── 'y' --> 9"
      ]
     },
     "execution_count": 25,
     "metadata": {},
     "output_type": "execute_result"
    }
   ],
   "source": [
    "replace(origin_tree, [3, 5, 7, 9])"
   ]
  },
  {
   "cell_type": "markdown",
   "metadata": {
    "collapsed": false,
    "pycharm": {
     "name": "#%% md\n"
    }
   },
   "source": [
    "Here is the performance."
   ]
  },
  {
   "cell_type": "code",
   "execution_count": 26,
   "metadata": {
    "execution": {
     "iopub.execute_input": "2023-03-06T11:29:46.641817Z",
     "iopub.status.busy": "2023-03-06T11:29:46.641478Z",
     "iopub.status.idle": "2023-03-06T11:29:48.735275Z",
     "shell.execute_reply": "2023-03-06T11:29:48.734528Z"
    },
    "pycharm": {
     "name": "#%%\n"
    }
   },
   "outputs": [
    {
     "name": "stdout",
     "output_type": "stream",
     "text": [
      "2.57 µs ± 14.8 ns per loop (mean ± std. dev. of 7 runs, 100,000 loops each)\n"
     ]
    }
   ],
   "source": [
    "%timeit replace(origin_tree, [3, 5, 7, 9])"
   ]
  },
  {
   "cell_type": "markdown",
   "metadata": {
    "collapsed": false,
    "pycharm": {
     "name": "#%% md\n"
    }
   },
   "source": [
    "In DM-Tree, `unflatten_as` can be directly used."
   ]
  },
  {
   "cell_type": "code",
   "execution_count": 27,
   "metadata": {
    "execution": {
     "iopub.execute_input": "2023-03-06T11:29:48.738085Z",
     "iopub.status.busy": "2023-03-06T11:29:48.737731Z",
     "iopub.status.idle": "2023-03-06T11:29:48.743214Z",
     "shell.execute_reply": "2023-03-06T11:29:48.742603Z"
    },
    "pycharm": {
     "name": "#%%\n"
    }
   },
   "outputs": [
    {
     "data": {
      "text/plain": [
       "{'a': 3, 'b': 5, 'c': {'x': 7, 'y': 9}}"
      ]
     },
     "execution_count": 27,
     "metadata": {},
     "output_type": "execute_result"
    }
   ],
   "source": [
    "from tree import unflatten_as\n",
    "\n",
    "unflatten_as(origin, [3, 5, 7, 9])"
   ]
  },
  {
   "cell_type": "markdown",
   "metadata": {
    "collapsed": false,
    "pycharm": {
     "name": "#%% md\n"
    }
   },
   "source": [
    "Here is the performance, even much slower than the `replace` function for integration."
   ]
  },
  {
   "cell_type": "code",
   "execution_count": 28,
   "metadata": {
    "execution": {
     "iopub.execute_input": "2023-03-06T11:29:48.745868Z",
     "iopub.status.busy": "2023-03-06T11:29:48.745531Z",
     "iopub.status.idle": "2023-03-06T11:29:59.099992Z",
     "shell.execute_reply": "2023-03-06T11:29:59.099295Z"
    },
    "pycharm": {
     "name": "#%%\n"
    }
   },
   "outputs": [
    {
     "name": "stdout",
     "output_type": "stream",
     "text": [
      "12.8 µs ± 35.8 ns per loop (mean ± std. dev. of 7 runs, 100,000 loops each)\n"
     ]
    }
   ],
   "source": [
    "%timeit unflatten_as(origin, [3, 5, 7, 9])"
   ]
  },
  {
   "cell_type": "markdown",
   "metadata": {
    "collapsed": false,
    "pycharm": {
     "name": "#%% md\n"
    }
   },
   "source": [
    "## Conclusion"
   ]
  },
  {
   "cell_type": "markdown",
   "metadata": {
    "collapsed": false,
    "pycharm": {
     "name": "#%% md\n"
    }
   },
   "source": [
    "The mapping operation is supported by both library, and `mapping` in TreeValue's performance is significantly higher than the `map_structure` and `map_structure_with_path` in DM-Tree."
   ]
  },
  {
   "cell_type": "markdown",
   "metadata": {
    "collapsed": false,
    "pycharm": {
     "name": "#%% md\n"
    }
   },
   "source": [
    "The `flatten` and `unflatten` in TreeValue is reversible, but in DM-Tree not. DM-Tree's performance on flatten and unflatten operation is lower than that in TreeValue in all aspects."
   ]
  }
 ],
 "metadata": {
  "kernelspec": {
   "display_name": "Python 3",
   "language": "python",
   "name": "python3"
  },
  "language_info": {
   "codemirror_mode": {
    "name": "ipython",
    "version": 3
   },
   "file_extension": ".py",
   "mimetype": "text/x-python",
   "name": "python",
   "nbconvert_exporter": "python",
   "pygments_lexer": "ipython3",
   "version": "3.8.16"
  }
 },
 "nbformat": 4,
 "nbformat_minor": 0
}
