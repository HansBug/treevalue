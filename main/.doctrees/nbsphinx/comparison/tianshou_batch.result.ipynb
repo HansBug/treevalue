{
 "cells": [
  {
   "cell_type": "markdown",
   "id": "9d39d946",
   "metadata": {},
   "source": [
    "# Comparison Between TreeValue and Tianshou Batch"
   ]
  },
  {
   "cell_type": "markdown",
   "id": "3c6db2d4",
   "metadata": {},
   "source": [
    "In this section, we will take a look at the feature and performance of the [Tianshou Batch](https://github.com/thu-ml/tianshou) library, which is developed by Tsinghua Machine Learning Group."
   ]
  },
  {
   "cell_type": "markdown",
   "id": "069361b0",
   "metadata": {},
   "source": [
    "Before starting the comparison, let us define some thing."
   ]
  },
  {
   "cell_type": "code",
   "execution_count": 1,
   "id": "06fc8d26",
   "metadata": {
    "execution": {
     "iopub.execute_input": "2023-02-26T05:15:04.848162Z",
     "iopub.status.busy": "2023-02-26T05:15:04.847948Z",
     "iopub.status.idle": "2023-02-26T05:15:05.768236Z",
     "shell.execute_reply": "2023-02-26T05:15:05.767559Z"
    }
   },
   "outputs": [
    {
     "name": "stderr",
     "output_type": "stream",
     "text": [
      "/opt/hostedtoolcache/Python/3.8.16/x64/lib/python3.8/site-packages/tqdm/auto.py:22: TqdmWarning: IProgress not found. Please update jupyter and ipywidgets. See https://ipywidgets.readthedocs.io/en/stable/user_install.html\n",
      "  from .autonotebook import tqdm as notebook_tqdm\n"
     ]
    }
   ],
   "source": [
    "import torch \n",
    "\n",
    "_TREE_DATA_1 = {'a': 1, 'b': 2, 'x': {'c': 3, 'd': 4}}\n",
    "_TREE_DATA_2 = {\n",
    "    'a': torch.randn(2, 3), \n",
    "    'x': {\n",
    "        'c': torch.randn(3, 4)\n",
    "    },\n",
    "}\n",
    "_TREE_DATA_3 = {\n",
    "    'obs': torch.randn(4, 84, 84),\n",
    "    'action': torch.randint(0, 6, size=(1,)),\n",
    "    'reward': torch.rand(1),\n",
    "}"
   ]
  },
  {
   "cell_type": "markdown",
   "id": "83461b25",
   "metadata": {},
   "source": [
    "## Read and Write Operation"
   ]
  },
  {
   "cell_type": "markdown",
   "id": "067b3f73",
   "metadata": {},
   "source": [
    "Reading and writing are the two most common operations in the tree data structure based on the data model (TreeValue and Tianshou Batch both belong to this type), so this section will compare the reading and writing performance of these two libraries."
   ]
  },
  {
   "cell_type": "markdown",
   "id": "5d09a5b7",
   "metadata": {},
   "source": [
    "### TreeValue's Get and Set"
   ]
  },
  {
   "cell_type": "code",
   "execution_count": 2,
   "id": "9519c4bb",
   "metadata": {
    "execution": {
     "iopub.execute_input": "2023-02-26T05:15:05.771910Z",
     "iopub.status.busy": "2023-02-26T05:15:05.771310Z",
     "iopub.status.idle": "2023-02-26T05:15:05.804331Z",
     "shell.execute_reply": "2023-02-26T05:15:05.803706Z"
    }
   },
   "outputs": [],
   "source": [
    "from treevalue import FastTreeValue\n",
    "\n",
    "t = FastTreeValue(_TREE_DATA_2)"
   ]
  },
  {
   "cell_type": "code",
   "execution_count": 3,
   "id": "11c37677",
   "metadata": {
    "execution": {
     "iopub.execute_input": "2023-02-26T05:15:05.807304Z",
     "iopub.status.busy": "2023-02-26T05:15:05.806768Z",
     "iopub.status.idle": "2023-02-26T05:15:05.816200Z",
     "shell.execute_reply": "2023-02-26T05:15:05.815611Z"
    }
   },
   "outputs": [
    {
     "data": {
      "text/plain": [
       "<FastTreeValue 0x7f5d3c361e20>\n",
       "├── 'a' --> tensor([[-0.6719,  0.1360,  0.5594],\n",
       "│                   [ 0.3111,  1.4062, -1.0429]])\n",
       "└── 'x' --> <FastTreeValue 0x7f5d3c361f40>\n",
       "    └── 'c' --> tensor([[-0.0389, -0.0852, -2.0472, -1.0704],\n",
       "                        [-0.4161,  0.9798,  0.5030, -0.2292],\n",
       "                        [-2.2833,  0.4552, -0.3767,  0.7829]])"
      ]
     },
     "execution_count": 3,
     "metadata": {},
     "output_type": "execute_result"
    }
   ],
   "source": [
    "t"
   ]
  },
  {
   "cell_type": "code",
   "execution_count": 4,
   "id": "fd70b0b9",
   "metadata": {
    "execution": {
     "iopub.execute_input": "2023-02-26T05:15:05.819153Z",
     "iopub.status.busy": "2023-02-26T05:15:05.818653Z",
     "iopub.status.idle": "2023-02-26T05:15:05.824386Z",
     "shell.execute_reply": "2023-02-26T05:15:05.823785Z"
    }
   },
   "outputs": [
    {
     "data": {
      "text/plain": [
       "tensor([[-0.6719,  0.1360,  0.5594],\n",
       "        [ 0.3111,  1.4062, -1.0429]])"
      ]
     },
     "execution_count": 4,
     "metadata": {},
     "output_type": "execute_result"
    }
   ],
   "source": [
    "t.a"
   ]
  },
  {
   "cell_type": "code",
   "execution_count": 5,
   "id": "c18197bd",
   "metadata": {
    "execution": {
     "iopub.execute_input": "2023-02-26T05:15:05.827291Z",
     "iopub.status.busy": "2023-02-26T05:15:05.826815Z",
     "iopub.status.idle": "2023-02-26T05:15:10.931490Z",
     "shell.execute_reply": "2023-02-26T05:15:10.930744Z"
    }
   },
   "outputs": [
    {
     "name": "stdout",
     "output_type": "stream",
     "text": [
      "62.5 ns ± 0.0695 ns per loop (mean ± std. dev. of 7 runs, 10,000,000 loops each)\n"
     ]
    }
   ],
   "source": [
    "%timeit t.a"
   ]
  },
  {
   "cell_type": "code",
   "execution_count": 6,
   "id": "bd52f867",
   "metadata": {
    "execution": {
     "iopub.execute_input": "2023-02-26T05:15:10.934644Z",
     "iopub.status.busy": "2023-02-26T05:15:10.934189Z",
     "iopub.status.idle": "2023-02-26T05:15:10.940864Z",
     "shell.execute_reply": "2023-02-26T05:15:10.940256Z"
    }
   },
   "outputs": [
    {
     "data": {
      "text/plain": [
       "<FastTreeValue 0x7f5d3c361e20>\n",
       "├── 'a' --> tensor([[-1.0375, -1.3922,  2.0296],\n",
       "│                   [ 1.0804,  0.7428, -0.5160]])\n",
       "└── 'x' --> <FastTreeValue 0x7f5d3c361f40>\n",
       "    └── 'c' --> tensor([[-0.0389, -0.0852, -2.0472, -1.0704],\n",
       "                        [-0.4161,  0.9798,  0.5030, -0.2292],\n",
       "                        [-2.2833,  0.4552, -0.3767,  0.7829]])"
      ]
     },
     "execution_count": 6,
     "metadata": {},
     "output_type": "execute_result"
    }
   ],
   "source": [
    "new_value = torch.randn(2, 3)\n",
    "t.a = new_value\n",
    "\n",
    "t"
   ]
  },
  {
   "cell_type": "code",
   "execution_count": 7,
   "id": "bbe04d1c",
   "metadata": {
    "execution": {
     "iopub.execute_input": "2023-02-26T05:15:10.943469Z",
     "iopub.status.busy": "2023-02-26T05:15:10.943142Z",
     "iopub.status.idle": "2023-02-26T05:15:15.938746Z",
     "shell.execute_reply": "2023-02-26T05:15:15.938010Z"
    }
   },
   "outputs": [
    {
     "name": "stdout",
     "output_type": "stream",
     "text": [
      "61.3 ns ± 0.0431 ns per loop (mean ± std. dev. of 7 runs, 10,000,000 loops each)\n"
     ]
    }
   ],
   "source": [
    "%timeit t.a = new_value"
   ]
  },
  {
   "cell_type": "markdown",
   "id": "48c49731",
   "metadata": {},
   "source": [
    "### Tianshou Batch's Get and Set"
   ]
  },
  {
   "cell_type": "code",
   "execution_count": 8,
   "id": "f1bb14c1",
   "metadata": {
    "execution": {
     "iopub.execute_input": "2023-02-26T05:15:15.941980Z",
     "iopub.status.busy": "2023-02-26T05:15:15.941479Z",
     "iopub.status.idle": "2023-02-26T05:15:16.272719Z",
     "shell.execute_reply": "2023-02-26T05:15:16.272046Z"
    }
   },
   "outputs": [],
   "source": [
    "from tianshou.data import Batch\n",
    "\n",
    "b = Batch(**_TREE_DATA_2)"
   ]
  },
  {
   "cell_type": "code",
   "execution_count": 9,
   "id": "cb0777c3",
   "metadata": {
    "execution": {
     "iopub.execute_input": "2023-02-26T05:15:16.275795Z",
     "iopub.status.busy": "2023-02-26T05:15:16.275356Z",
     "iopub.status.idle": "2023-02-26T05:15:16.281467Z",
     "shell.execute_reply": "2023-02-26T05:15:16.280870Z"
    }
   },
   "outputs": [
    {
     "data": {
      "text/plain": [
       "Batch(\n",
       "    a: tensor([[-0.6719,  0.1360,  0.5594],\n",
       "               [ 0.3111,  1.4062, -1.0429]]),\n",
       "    x: Batch(\n",
       "           c: tensor([[-0.0389, -0.0852, -2.0472, -1.0704],\n",
       "                      [-0.4161,  0.9798,  0.5030, -0.2292],\n",
       "                      [-2.2833,  0.4552, -0.3767,  0.7829]]),\n",
       "       ),\n",
       ")"
      ]
     },
     "execution_count": 9,
     "metadata": {},
     "output_type": "execute_result"
    }
   ],
   "source": [
    "b"
   ]
  },
  {
   "cell_type": "code",
   "execution_count": 10,
   "id": "43ef8ea3",
   "metadata": {
    "execution": {
     "iopub.execute_input": "2023-02-26T05:15:16.284236Z",
     "iopub.status.busy": "2023-02-26T05:15:16.283902Z",
     "iopub.status.idle": "2023-02-26T05:15:16.289389Z",
     "shell.execute_reply": "2023-02-26T05:15:16.288784Z"
    }
   },
   "outputs": [
    {
     "data": {
      "text/plain": [
       "tensor([[-0.6719,  0.1360,  0.5594],\n",
       "        [ 0.3111,  1.4062, -1.0429]])"
      ]
     },
     "execution_count": 10,
     "metadata": {},
     "output_type": "execute_result"
    }
   ],
   "source": [
    "b.a"
   ]
  },
  {
   "cell_type": "code",
   "execution_count": 11,
   "id": "b785ab72",
   "metadata": {
    "execution": {
     "iopub.execute_input": "2023-02-26T05:15:16.292138Z",
     "iopub.status.busy": "2023-02-26T05:15:16.291673Z",
     "iopub.status.idle": "2023-02-26T05:15:21.016779Z",
     "shell.execute_reply": "2023-02-26T05:15:21.016018Z"
    }
   },
   "outputs": [
    {
     "name": "stdout",
     "output_type": "stream",
     "text": [
      "58.1 ns ± 0.0326 ns per loop (mean ± std. dev. of 7 runs, 10,000,000 loops each)\n"
     ]
    }
   ],
   "source": [
    "%timeit b.a"
   ]
  },
  {
   "cell_type": "code",
   "execution_count": 12,
   "id": "ad54dc69",
   "metadata": {
    "execution": {
     "iopub.execute_input": "2023-02-26T05:15:21.019600Z",
     "iopub.status.busy": "2023-02-26T05:15:21.019363Z",
     "iopub.status.idle": "2023-02-26T05:15:21.025571Z",
     "shell.execute_reply": "2023-02-26T05:15:21.024942Z"
    }
   },
   "outputs": [
    {
     "data": {
      "text/plain": [
       "Batch(\n",
       "    a: tensor([[ 0.7318,  0.3256,  1.2091],\n",
       "               [ 0.3324, -0.5042,  0.5991]]),\n",
       "    x: Batch(\n",
       "           c: tensor([[-0.0389, -0.0852, -2.0472, -1.0704],\n",
       "                      [-0.4161,  0.9798,  0.5030, -0.2292],\n",
       "                      [-2.2833,  0.4552, -0.3767,  0.7829]]),\n",
       "       ),\n",
       ")"
      ]
     },
     "execution_count": 12,
     "metadata": {},
     "output_type": "execute_result"
    }
   ],
   "source": [
    "new_value = torch.randn(2, 3)\n",
    "b.a = new_value\n",
    "\n",
    "b"
   ]
  },
  {
   "cell_type": "code",
   "execution_count": 13,
   "id": "29b1d0bf",
   "metadata": {
    "execution": {
     "iopub.execute_input": "2023-02-26T05:15:21.028112Z",
     "iopub.status.busy": "2023-02-26T05:15:21.027757Z",
     "iopub.status.idle": "2023-02-26T05:15:24.982355Z",
     "shell.execute_reply": "2023-02-26T05:15:24.981686Z"
    }
   },
   "outputs": [
    {
     "name": "stdout",
     "output_type": "stream",
     "text": [
      "487 ns ± 0.044 ns per loop (mean ± std. dev. of 7 runs, 1,000,000 loops each)\n"
     ]
    }
   ],
   "source": [
    "%timeit b.a = new_value"
   ]
  },
  {
   "cell_type": "markdown",
   "id": "b61ad1d0",
   "metadata": {},
   "source": [
    "## Initialization"
   ]
  },
  {
   "cell_type": "markdown",
   "id": "d70f0d54",
   "metadata": {},
   "source": [
    "### TreeValue's Initialization"
   ]
  },
  {
   "cell_type": "code",
   "execution_count": 14,
   "id": "d32a679b",
   "metadata": {
    "execution": {
     "iopub.execute_input": "2023-02-26T05:15:24.985121Z",
     "iopub.status.busy": "2023-02-26T05:15:24.984796Z",
     "iopub.status.idle": "2023-02-26T05:15:31.890659Z",
     "shell.execute_reply": "2023-02-26T05:15:31.889971Z"
    }
   },
   "outputs": [
    {
     "name": "stdout",
     "output_type": "stream",
     "text": [
      "849 ns ± 33.6 ns per loop (mean ± std. dev. of 7 runs, 1,000,000 loops each)\n"
     ]
    }
   ],
   "source": [
    "%timeit FastTreeValue(_TREE_DATA_1)"
   ]
  },
  {
   "cell_type": "markdown",
   "id": "24f3707b",
   "metadata": {},
   "source": [
    "### Tianshou Batch's Initialization"
   ]
  },
  {
   "cell_type": "code",
   "execution_count": 15,
   "id": "ac3958df",
   "metadata": {
    "execution": {
     "iopub.execute_input": "2023-02-26T05:15:31.893819Z",
     "iopub.status.busy": "2023-02-26T05:15:31.893369Z",
     "iopub.status.idle": "2023-02-26T05:15:41.214325Z",
     "shell.execute_reply": "2023-02-26T05:15:41.213606Z"
    }
   },
   "outputs": [
    {
     "name": "stdout",
     "output_type": "stream",
     "text": [
      "11.5 µs ± 35.4 ns per loop (mean ± std. dev. of 7 runs, 100,000 loops each)\n"
     ]
    }
   ],
   "source": [
    "%timeit Batch(**_TREE_DATA_1)"
   ]
  },
  {
   "cell_type": "markdown",
   "id": "1ab82e2d",
   "metadata": {},
   "source": [
    "## Deep Copy Operation"
   ]
  },
  {
   "cell_type": "code",
   "execution_count": 16,
   "id": "210a9442",
   "metadata": {
    "execution": {
     "iopub.execute_input": "2023-02-26T05:15:41.217572Z",
     "iopub.status.busy": "2023-02-26T05:15:41.217054Z",
     "iopub.status.idle": "2023-02-26T05:15:41.221047Z",
     "shell.execute_reply": "2023-02-26T05:15:41.220442Z"
    }
   },
   "outputs": [],
   "source": [
    "import copy"
   ]
  },
  {
   "cell_type": "markdown",
   "id": "5a736274",
   "metadata": {},
   "source": [
    "### Deep Copy of TreeValue"
   ]
  },
  {
   "cell_type": "code",
   "execution_count": 17,
   "id": "f9bcadd6",
   "metadata": {
    "execution": {
     "iopub.execute_input": "2023-02-26T05:15:41.223792Z",
     "iopub.status.busy": "2023-02-26T05:15:41.223464Z",
     "iopub.status.idle": "2023-02-26T05:15:52.207474Z",
     "shell.execute_reply": "2023-02-26T05:15:52.206873Z"
    }
   },
   "outputs": [
    {
     "name": "stdout",
     "output_type": "stream",
     "text": [
      "135 µs ± 341 ns per loop (mean ± std. dev. of 7 runs, 10,000 loops each)\n"
     ]
    }
   ],
   "source": [
    "t3 = FastTreeValue(_TREE_DATA_3)\n",
    "%timeit copy.deepcopy(t3)"
   ]
  },
  {
   "cell_type": "markdown",
   "id": "bf8be7ea",
   "metadata": {},
   "source": [
    "### Deep Copy of Tianshou Batch"
   ]
  },
  {
   "cell_type": "code",
   "execution_count": 18,
   "id": "91998e6f",
   "metadata": {
    "execution": {
     "iopub.execute_input": "2023-02-26T05:15:52.211452Z",
     "iopub.status.busy": "2023-02-26T05:15:52.210486Z",
     "iopub.status.idle": "2023-02-26T05:16:03.363086Z",
     "shell.execute_reply": "2023-02-26T05:16:03.362505Z"
    }
   },
   "outputs": [
    {
     "name": "stdout",
     "output_type": "stream",
     "text": [
      "137 µs ± 374 ns per loop (mean ± std. dev. of 7 runs, 10,000 loops each)\n"
     ]
    }
   ],
   "source": [
    "b3 = Batch(**_TREE_DATA_3)\n",
    "%timeit copy.deepcopy(b3)"
   ]
  },
  {
   "cell_type": "markdown",
   "id": "223162fb",
   "metadata": {},
   "source": [
    "## Stack, Concat and Split Operation"
   ]
  },
  {
   "cell_type": "markdown",
   "id": "85fa4a73",
   "metadata": {},
   "source": [
    "### Performance of TreeValue"
   ]
  },
  {
   "cell_type": "code",
   "execution_count": 19,
   "id": "a0c2b697",
   "metadata": {
    "execution": {
     "iopub.execute_input": "2023-02-26T05:16:03.366996Z",
     "iopub.status.busy": "2023-02-26T05:16:03.366048Z",
     "iopub.status.idle": "2023-02-26T05:16:03.370287Z",
     "shell.execute_reply": "2023-02-26T05:16:03.369768Z"
    }
   },
   "outputs": [],
   "source": [
    "trees = [FastTreeValue(_TREE_DATA_2) for _ in range(8)]"
   ]
  },
  {
   "cell_type": "code",
   "execution_count": 20,
   "id": "017ea5a5",
   "metadata": {
    "execution": {
     "iopub.execute_input": "2023-02-26T05:16:03.374198Z",
     "iopub.status.busy": "2023-02-26T05:16:03.373269Z",
     "iopub.status.idle": "2023-02-26T05:16:03.381908Z",
     "shell.execute_reply": "2023-02-26T05:16:03.381392Z"
    }
   },
   "outputs": [
    {
     "data": {
      "text/plain": [
       "<FastTreeValue 0x7f5c90011580>\n",
       "├── 'a' --> tensor([[[-0.6719,  0.1360,  0.5594],\n",
       "│                    [ 0.3111,  1.4062, -1.0429]],\n",
       "│           \n",
       "│                   [[-0.6719,  0.1360,  0.5594],\n",
       "│                    [ 0.3111,  1.4062, -1.0429]],\n",
       "│           \n",
       "│                   [[-0.6719,  0.1360,  0.5594],\n",
       "│                    [ 0.3111,  1.4062, -1.0429]],\n",
       "│           \n",
       "│                   [[-0.6719,  0.1360,  0.5594],\n",
       "│                    [ 0.3111,  1.4062, -1.0429]],\n",
       "│           \n",
       "│                   [[-0.6719,  0.1360,  0.5594],\n",
       "│                    [ 0.3111,  1.4062, -1.0429]],\n",
       "│           \n",
       "│                   [[-0.6719,  0.1360,  0.5594],\n",
       "│                    [ 0.3111,  1.4062, -1.0429]],\n",
       "│           \n",
       "│                   [[-0.6719,  0.1360,  0.5594],\n",
       "│                    [ 0.3111,  1.4062, -1.0429]],\n",
       "│           \n",
       "│                   [[-0.6719,  0.1360,  0.5594],\n",
       "│                    [ 0.3111,  1.4062, -1.0429]]])\n",
       "└── 'x' --> <FastTreeValue 0x7f5c90011310>\n",
       "    └── 'c' --> tensor([[[-0.0389, -0.0852, -2.0472, -1.0704],\n",
       "                         [-0.4161,  0.9798,  0.5030, -0.2292],\n",
       "                         [-2.2833,  0.4552, -0.3767,  0.7829]],\n",
       "                \n",
       "                        [[-0.0389, -0.0852, -2.0472, -1.0704],\n",
       "                         [-0.4161,  0.9798,  0.5030, -0.2292],\n",
       "                         [-2.2833,  0.4552, -0.3767,  0.7829]],\n",
       "                \n",
       "                        [[-0.0389, -0.0852, -2.0472, -1.0704],\n",
       "                         [-0.4161,  0.9798,  0.5030, -0.2292],\n",
       "                         [-2.2833,  0.4552, -0.3767,  0.7829]],\n",
       "                \n",
       "                        [[-0.0389, -0.0852, -2.0472, -1.0704],\n",
       "                         [-0.4161,  0.9798,  0.5030, -0.2292],\n",
       "                         [-2.2833,  0.4552, -0.3767,  0.7829]],\n",
       "                \n",
       "                        [[-0.0389, -0.0852, -2.0472, -1.0704],\n",
       "                         [-0.4161,  0.9798,  0.5030, -0.2292],\n",
       "                         [-2.2833,  0.4552, -0.3767,  0.7829]],\n",
       "                \n",
       "                        [[-0.0389, -0.0852, -2.0472, -1.0704],\n",
       "                         [-0.4161,  0.9798,  0.5030, -0.2292],\n",
       "                         [-2.2833,  0.4552, -0.3767,  0.7829]],\n",
       "                \n",
       "                        [[-0.0389, -0.0852, -2.0472, -1.0704],\n",
       "                         [-0.4161,  0.9798,  0.5030, -0.2292],\n",
       "                         [-2.2833,  0.4552, -0.3767,  0.7829]],\n",
       "                \n",
       "                        [[-0.0389, -0.0852, -2.0472, -1.0704],\n",
       "                         [-0.4161,  0.9798,  0.5030, -0.2292],\n",
       "                         [-2.2833,  0.4552, -0.3767,  0.7829]]])"
      ]
     },
     "execution_count": 20,
     "metadata": {},
     "output_type": "execute_result"
    }
   ],
   "source": [
    "t_stack = FastTreeValue.func(subside=True)(torch.stack)\n",
    "\n",
    "t_stack(trees)"
   ]
  },
  {
   "cell_type": "code",
   "execution_count": 21,
   "id": "f8b3f415",
   "metadata": {
    "execution": {
     "iopub.execute_input": "2023-02-26T05:16:03.385411Z",
     "iopub.status.busy": "2023-02-26T05:16:03.384451Z",
     "iopub.status.idle": "2023-02-26T05:16:05.965656Z",
     "shell.execute_reply": "2023-02-26T05:16:05.964843Z"
    }
   },
   "outputs": [
    {
     "name": "stdout",
     "output_type": "stream",
     "text": [
      "31.7 µs ± 69.7 ns per loop (mean ± std. dev. of 7 runs, 10,000 loops each)\n"
     ]
    }
   ],
   "source": [
    "%timeit t_stack(trees)"
   ]
  },
  {
   "cell_type": "code",
   "execution_count": 22,
   "id": "94b56771",
   "metadata": {
    "execution": {
     "iopub.execute_input": "2023-02-26T05:16:05.968720Z",
     "iopub.status.busy": "2023-02-26T05:16:05.968354Z",
     "iopub.status.idle": "2023-02-26T05:16:05.976280Z",
     "shell.execute_reply": "2023-02-26T05:16:05.975672Z"
    }
   },
   "outputs": [
    {
     "data": {
      "text/plain": [
       "<FastTreeValue 0x7f5c96c4e910>\n",
       "├── 'a' --> tensor([[-0.6719,  0.1360,  0.5594],\n",
       "│                   [ 0.3111,  1.4062, -1.0429],\n",
       "│                   [-0.6719,  0.1360,  0.5594],\n",
       "│                   [ 0.3111,  1.4062, -1.0429],\n",
       "│                   [-0.6719,  0.1360,  0.5594],\n",
       "│                   [ 0.3111,  1.4062, -1.0429],\n",
       "│                   [-0.6719,  0.1360,  0.5594],\n",
       "│                   [ 0.3111,  1.4062, -1.0429],\n",
       "│                   [-0.6719,  0.1360,  0.5594],\n",
       "│                   [ 0.3111,  1.4062, -1.0429],\n",
       "│                   [-0.6719,  0.1360,  0.5594],\n",
       "│                   [ 0.3111,  1.4062, -1.0429],\n",
       "│                   [-0.6719,  0.1360,  0.5594],\n",
       "│                   [ 0.3111,  1.4062, -1.0429],\n",
       "│                   [-0.6719,  0.1360,  0.5594],\n",
       "│                   [ 0.3111,  1.4062, -1.0429]])\n",
       "└── 'x' --> <FastTreeValue 0x7f5c96c651c0>\n",
       "    └── 'c' --> tensor([[-0.0389, -0.0852, -2.0472, -1.0704],\n",
       "                        [-0.4161,  0.9798,  0.5030, -0.2292],\n",
       "                        [-2.2833,  0.4552, -0.3767,  0.7829],\n",
       "                        [-0.0389, -0.0852, -2.0472, -1.0704],\n",
       "                        [-0.4161,  0.9798,  0.5030, -0.2292],\n",
       "                        [-2.2833,  0.4552, -0.3767,  0.7829],\n",
       "                        [-0.0389, -0.0852, -2.0472, -1.0704],\n",
       "                        [-0.4161,  0.9798,  0.5030, -0.2292],\n",
       "                        [-2.2833,  0.4552, -0.3767,  0.7829],\n",
       "                        [-0.0389, -0.0852, -2.0472, -1.0704],\n",
       "                        [-0.4161,  0.9798,  0.5030, -0.2292],\n",
       "                        [-2.2833,  0.4552, -0.3767,  0.7829],\n",
       "                        [-0.0389, -0.0852, -2.0472, -1.0704],\n",
       "                        [-0.4161,  0.9798,  0.5030, -0.2292],\n",
       "                        [-2.2833,  0.4552, -0.3767,  0.7829],\n",
       "                        [-0.0389, -0.0852, -2.0472, -1.0704],\n",
       "                        [-0.4161,  0.9798,  0.5030, -0.2292],\n",
       "                        [-2.2833,  0.4552, -0.3767,  0.7829],\n",
       "                        [-0.0389, -0.0852, -2.0472, -1.0704],\n",
       "                        [-0.4161,  0.9798,  0.5030, -0.2292],\n",
       "                        [-2.2833,  0.4552, -0.3767,  0.7829],\n",
       "                        [-0.0389, -0.0852, -2.0472, -1.0704],\n",
       "                        [-0.4161,  0.9798,  0.5030, -0.2292],\n",
       "                        [-2.2833,  0.4552, -0.3767,  0.7829]])"
      ]
     },
     "execution_count": 22,
     "metadata": {},
     "output_type": "execute_result"
    }
   ],
   "source": [
    "t_cat = FastTreeValue.func(subside=True)(torch.cat)\n",
    "\n",
    "t_cat(trees)"
   ]
  },
  {
   "cell_type": "code",
   "execution_count": 23,
   "id": "5e9c06a6",
   "metadata": {
    "execution": {
     "iopub.execute_input": "2023-02-26T05:16:05.979015Z",
     "iopub.status.busy": "2023-02-26T05:16:05.978689Z",
     "iopub.status.idle": "2023-02-26T05:16:08.396717Z",
     "shell.execute_reply": "2023-02-26T05:16:08.396013Z"
    }
   },
   "outputs": [
    {
     "name": "stdout",
     "output_type": "stream",
     "text": [
      "29.7 µs ± 45.6 ns per loop (mean ± std. dev. of 7 runs, 10,000 loops each)\n"
     ]
    }
   ],
   "source": [
    "%timeit t_cat(trees)"
   ]
  },
  {
   "cell_type": "code",
   "execution_count": 24,
   "id": "a3ab5c8f",
   "metadata": {
    "execution": {
     "iopub.execute_input": "2023-02-26T05:16:08.399963Z",
     "iopub.status.busy": "2023-02-26T05:16:08.399327Z",
     "iopub.status.idle": "2023-02-26T05:16:13.084568Z",
     "shell.execute_reply": "2023-02-26T05:16:13.083884Z"
    }
   },
   "outputs": [
    {
     "name": "stdout",
     "output_type": "stream",
     "text": [
      "57.6 µs ± 79.6 ns per loop (mean ± std. dev. of 7 runs, 10,000 loops each)\n"
     ]
    }
   ],
   "source": [
    "t_split = FastTreeValue.func(rise=True)(torch.split)\n",
    "tree = FastTreeValue({\n",
    "    'obs': torch.randn(8, 4, 84, 84),\n",
    "    'action': torch.randint(0, 6, size=(8, 1,)),\n",
    "    'reward': torch.rand(8, 1),\n",
    "})\n",
    "\n",
    "%timeit t_split(tree, 1)"
   ]
  },
  {
   "cell_type": "markdown",
   "id": "31c3ec0b",
   "metadata": {},
   "source": [
    "### Performance of Tianshou Batch"
   ]
  },
  {
   "cell_type": "code",
   "execution_count": 25,
   "id": "9ead828a",
   "metadata": {
    "execution": {
     "iopub.execute_input": "2023-02-26T05:16:13.087429Z",
     "iopub.status.busy": "2023-02-26T05:16:13.087050Z",
     "iopub.status.idle": "2023-02-26T05:16:13.095886Z",
     "shell.execute_reply": "2023-02-26T05:16:13.095280Z"
    }
   },
   "outputs": [
    {
     "data": {
      "text/plain": [
       "Batch(\n",
       "    x: Batch(\n",
       "           c: tensor([[[-0.0389, -0.0852, -2.0472, -1.0704],\n",
       "                       [-0.4161,  0.9798,  0.5030, -0.2292],\n",
       "                       [-2.2833,  0.4552, -0.3767,  0.7829]],\n",
       "              \n",
       "                      [[-0.0389, -0.0852, -2.0472, -1.0704],\n",
       "                       [-0.4161,  0.9798,  0.5030, -0.2292],\n",
       "                       [-2.2833,  0.4552, -0.3767,  0.7829]],\n",
       "              \n",
       "                      [[-0.0389, -0.0852, -2.0472, -1.0704],\n",
       "                       [-0.4161,  0.9798,  0.5030, -0.2292],\n",
       "                       [-2.2833,  0.4552, -0.3767,  0.7829]],\n",
       "              \n",
       "                      [[-0.0389, -0.0852, -2.0472, -1.0704],\n",
       "                       [-0.4161,  0.9798,  0.5030, -0.2292],\n",
       "                       [-2.2833,  0.4552, -0.3767,  0.7829]],\n",
       "              \n",
       "                      [[-0.0389, -0.0852, -2.0472, -1.0704],\n",
       "                       [-0.4161,  0.9798,  0.5030, -0.2292],\n",
       "                       [-2.2833,  0.4552, -0.3767,  0.7829]],\n",
       "              \n",
       "                      [[-0.0389, -0.0852, -2.0472, -1.0704],\n",
       "                       [-0.4161,  0.9798,  0.5030, -0.2292],\n",
       "                       [-2.2833,  0.4552, -0.3767,  0.7829]],\n",
       "              \n",
       "                      [[-0.0389, -0.0852, -2.0472, -1.0704],\n",
       "                       [-0.4161,  0.9798,  0.5030, -0.2292],\n",
       "                       [-2.2833,  0.4552, -0.3767,  0.7829]],\n",
       "              \n",
       "                      [[-0.0389, -0.0852, -2.0472, -1.0704],\n",
       "                       [-0.4161,  0.9798,  0.5030, -0.2292],\n",
       "                       [-2.2833,  0.4552, -0.3767,  0.7829]]]),\n",
       "       ),\n",
       "    a: tensor([[[-0.6719,  0.1360,  0.5594],\n",
       "                [ 0.3111,  1.4062, -1.0429]],\n",
       "       \n",
       "               [[-0.6719,  0.1360,  0.5594],\n",
       "                [ 0.3111,  1.4062, -1.0429]],\n",
       "       \n",
       "               [[-0.6719,  0.1360,  0.5594],\n",
       "                [ 0.3111,  1.4062, -1.0429]],\n",
       "       \n",
       "               [[-0.6719,  0.1360,  0.5594],\n",
       "                [ 0.3111,  1.4062, -1.0429]],\n",
       "       \n",
       "               [[-0.6719,  0.1360,  0.5594],\n",
       "                [ 0.3111,  1.4062, -1.0429]],\n",
       "       \n",
       "               [[-0.6719,  0.1360,  0.5594],\n",
       "                [ 0.3111,  1.4062, -1.0429]],\n",
       "       \n",
       "               [[-0.6719,  0.1360,  0.5594],\n",
       "                [ 0.3111,  1.4062, -1.0429]],\n",
       "       \n",
       "               [[-0.6719,  0.1360,  0.5594],\n",
       "                [ 0.3111,  1.4062, -1.0429]]]),\n",
       ")"
      ]
     },
     "execution_count": 25,
     "metadata": {},
     "output_type": "execute_result"
    }
   ],
   "source": [
    "batches = [Batch(**_TREE_DATA_2) for _ in range(8)]\n",
    "\n",
    "Batch.stack(batches)"
   ]
  },
  {
   "cell_type": "code",
   "execution_count": 26,
   "id": "ec9037a3",
   "metadata": {
    "execution": {
     "iopub.execute_input": "2023-02-26T05:16:13.098858Z",
     "iopub.status.busy": "2023-02-26T05:16:13.098504Z",
     "iopub.status.idle": "2023-02-26T05:16:19.443246Z",
     "shell.execute_reply": "2023-02-26T05:16:19.442539Z"
    }
   },
   "outputs": [
    {
     "name": "stdout",
     "output_type": "stream",
     "text": [
      "77.9 µs ± 108 ns per loop (mean ± std. dev. of 7 runs, 10,000 loops each)\n"
     ]
    }
   ],
   "source": [
    "%timeit Batch.stack(batches)"
   ]
  },
  {
   "cell_type": "code",
   "execution_count": 27,
   "id": "cb8ab77e",
   "metadata": {
    "execution": {
     "iopub.execute_input": "2023-02-26T05:16:19.446379Z",
     "iopub.status.busy": "2023-02-26T05:16:19.446016Z",
     "iopub.status.idle": "2023-02-26T05:16:19.454347Z",
     "shell.execute_reply": "2023-02-26T05:16:19.453772Z"
    }
   },
   "outputs": [
    {
     "data": {
      "text/plain": [
       "Batch(\n",
       "    x: Batch(\n",
       "           c: tensor([[-0.0389, -0.0852, -2.0472, -1.0704],\n",
       "                      [-0.4161,  0.9798,  0.5030, -0.2292],\n",
       "                      [-2.2833,  0.4552, -0.3767,  0.7829],\n",
       "                      [-0.0389, -0.0852, -2.0472, -1.0704],\n",
       "                      [-0.4161,  0.9798,  0.5030, -0.2292],\n",
       "                      [-2.2833,  0.4552, -0.3767,  0.7829],\n",
       "                      [-0.0389, -0.0852, -2.0472, -1.0704],\n",
       "                      [-0.4161,  0.9798,  0.5030, -0.2292],\n",
       "                      [-2.2833,  0.4552, -0.3767,  0.7829],\n",
       "                      [-0.0389, -0.0852, -2.0472, -1.0704],\n",
       "                      [-0.4161,  0.9798,  0.5030, -0.2292],\n",
       "                      [-2.2833,  0.4552, -0.3767,  0.7829],\n",
       "                      [-0.0389, -0.0852, -2.0472, -1.0704],\n",
       "                      [-0.4161,  0.9798,  0.5030, -0.2292],\n",
       "                      [-2.2833,  0.4552, -0.3767,  0.7829],\n",
       "                      [-0.0389, -0.0852, -2.0472, -1.0704],\n",
       "                      [-0.4161,  0.9798,  0.5030, -0.2292],\n",
       "                      [-2.2833,  0.4552, -0.3767,  0.7829],\n",
       "                      [-0.0389, -0.0852, -2.0472, -1.0704],\n",
       "                      [-0.4161,  0.9798,  0.5030, -0.2292],\n",
       "                      [-2.2833,  0.4552, -0.3767,  0.7829],\n",
       "                      [-0.0389, -0.0852, -2.0472, -1.0704],\n",
       "                      [-0.4161,  0.9798,  0.5030, -0.2292],\n",
       "                      [-2.2833,  0.4552, -0.3767,  0.7829]]),\n",
       "       ),\n",
       "    a: tensor([[-0.6719,  0.1360,  0.5594],\n",
       "               [ 0.3111,  1.4062, -1.0429],\n",
       "               [-0.6719,  0.1360,  0.5594],\n",
       "               [ 0.3111,  1.4062, -1.0429],\n",
       "               [-0.6719,  0.1360,  0.5594],\n",
       "               [ 0.3111,  1.4062, -1.0429],\n",
       "               [-0.6719,  0.1360,  0.5594],\n",
       "               [ 0.3111,  1.4062, -1.0429],\n",
       "               [-0.6719,  0.1360,  0.5594],\n",
       "               [ 0.3111,  1.4062, -1.0429],\n",
       "               [-0.6719,  0.1360,  0.5594],\n",
       "               [ 0.3111,  1.4062, -1.0429],\n",
       "               [-0.6719,  0.1360,  0.5594],\n",
       "               [ 0.3111,  1.4062, -1.0429],\n",
       "               [-0.6719,  0.1360,  0.5594],\n",
       "               [ 0.3111,  1.4062, -1.0429]]),\n",
       ")"
      ]
     },
     "execution_count": 27,
     "metadata": {},
     "output_type": "execute_result"
    }
   ],
   "source": [
    "Batch.cat(batches)"
   ]
  },
  {
   "cell_type": "code",
   "execution_count": 28,
   "id": "18dfb045",
   "metadata": {
    "execution": {
     "iopub.execute_input": "2023-02-26T05:16:19.457057Z",
     "iopub.status.busy": "2023-02-26T05:16:19.456713Z",
     "iopub.status.idle": "2023-02-26T05:16:31.088201Z",
     "shell.execute_reply": "2023-02-26T05:16:31.087493Z"
    }
   },
   "outputs": [
    {
     "name": "stdout",
     "output_type": "stream",
     "text": [
      "143 µs ± 286 ns per loop (mean ± std. dev. of 7 runs, 10,000 loops each)\n"
     ]
    }
   ],
   "source": [
    "%timeit Batch.cat(batches)"
   ]
  },
  {
   "cell_type": "code",
   "execution_count": 29,
   "id": "c6688e51",
   "metadata": {
    "execution": {
     "iopub.execute_input": "2023-02-26T05:16:31.091362Z",
     "iopub.status.busy": "2023-02-26T05:16:31.090862Z",
     "iopub.status.idle": "2023-02-26T05:16:33.633236Z",
     "shell.execute_reply": "2023-02-26T05:16:33.632664Z"
    }
   },
   "outputs": [
    {
     "name": "stdout",
     "output_type": "stream",
     "text": [
      "312 µs ± 3.93 µs per loop (mean ± std. dev. of 7 runs, 1,000 loops each)\n"
     ]
    }
   ],
   "source": [
    "batch = Batch({\n",
    "    'obs': torch.randn(8, 4, 84, 84),\n",
    "    'action': torch.randint(0, 6, size=(8, 1,)),\n",
    "    'reward': torch.rand(8, 1)}\n",
    ")\n",
    "\n",
    "%timeit list(Batch.split(batch, 1, shuffle=False, merge_last=True))"
   ]
  },
  {
   "cell_type": "code",
   "execution_count": null,
   "id": "2539fbd9",
   "metadata": {},
   "outputs": [],
   "source": []
  }
 ],
 "metadata": {
  "kernelspec": {
   "display_name": "Python 3 (ipykernel)",
   "language": "python",
   "name": "python3"
  },
  "language_info": {
   "codemirror_mode": {
    "name": "ipython",
    "version": 3
   },
   "file_extension": ".py",
   "mimetype": "text/x-python",
   "name": "python",
   "nbconvert_exporter": "python",
   "pygments_lexer": "ipython3",
   "version": "3.8.16"
  }
 },
 "nbformat": 4,
 "nbformat_minor": 5
}
