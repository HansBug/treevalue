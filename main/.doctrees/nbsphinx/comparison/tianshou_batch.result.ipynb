{
 "cells": [
  {
   "cell_type": "markdown",
   "id": "9d39d946",
   "metadata": {},
   "source": [
    "# Comparison Between TreeValue and Tianshou Batch"
   ]
  },
  {
   "cell_type": "markdown",
   "id": "3c6db2d4",
   "metadata": {},
   "source": [
    "In this section, we will take a look at the feature and performance of the [Tianshou Batch](https://github.com/thu-ml/tianshou) library, which is developed by Tsinghua Machine Learning Group."
   ]
  },
  {
   "cell_type": "markdown",
   "id": "069361b0",
   "metadata": {},
   "source": [
    "Before starting the comparison, let us define some thing."
   ]
  },
  {
   "cell_type": "code",
   "execution_count": 1,
   "id": "06fc8d26",
   "metadata": {
    "execution": {
     "iopub.execute_input": "2023-02-26T16:52:55.823500Z",
     "iopub.status.busy": "2023-02-26T16:52:55.823237Z",
     "iopub.status.idle": "2023-02-26T16:52:56.843956Z",
     "shell.execute_reply": "2023-02-26T16:52:56.843136Z"
    }
   },
   "outputs": [
    {
     "name": "stderr",
     "output_type": "stream",
     "text": [
      "/opt/hostedtoolcache/Python/3.8.16/x64/lib/python3.8/site-packages/tqdm/auto.py:22: TqdmWarning: IProgress not found. Please update jupyter and ipywidgets. See https://ipywidgets.readthedocs.io/en/stable/user_install.html\n",
      "  from .autonotebook import tqdm as notebook_tqdm\n"
     ]
    }
   ],
   "source": [
    "import torch \n",
    "\n",
    "_TREE_DATA_1 = {'a': 1, 'b': 2, 'x': {'c': 3, 'd': 4}}\n",
    "_TREE_DATA_2 = {\n",
    "    'a': torch.randn(2, 3), \n",
    "    'x': {\n",
    "        'c': torch.randn(3, 4)\n",
    "    },\n",
    "}\n",
    "_TREE_DATA_3 = {\n",
    "    'obs': torch.randn(4, 84, 84),\n",
    "    'action': torch.randint(0, 6, size=(1,)),\n",
    "    'reward': torch.rand(1),\n",
    "}"
   ]
  },
  {
   "cell_type": "markdown",
   "id": "83461b25",
   "metadata": {},
   "source": [
    "## Read and Write Operation"
   ]
  },
  {
   "cell_type": "markdown",
   "id": "067b3f73",
   "metadata": {},
   "source": [
    "Reading and writing are the two most common operations in the tree data structure based on the data model (TreeValue and Tianshou Batch both belong to this type), so this section will compare the reading and writing performance of these two libraries."
   ]
  },
  {
   "cell_type": "markdown",
   "id": "5d09a5b7",
   "metadata": {},
   "source": [
    "### TreeValue's Get and Set"
   ]
  },
  {
   "cell_type": "code",
   "execution_count": 2,
   "id": "9519c4bb",
   "metadata": {
    "execution": {
     "iopub.execute_input": "2023-02-26T16:52:56.848594Z",
     "iopub.status.busy": "2023-02-26T16:52:56.847787Z",
     "iopub.status.idle": "2023-02-26T16:52:57.150097Z",
     "shell.execute_reply": "2023-02-26T16:52:57.149257Z"
    }
   },
   "outputs": [],
   "source": [
    "from treevalue import FastTreeValue\n",
    "\n",
    "t = FastTreeValue(_TREE_DATA_2)"
   ]
  },
  {
   "cell_type": "code",
   "execution_count": 3,
   "id": "11c37677",
   "metadata": {
    "execution": {
     "iopub.execute_input": "2023-02-26T16:52:57.154045Z",
     "iopub.status.busy": "2023-02-26T16:52:57.153527Z",
     "iopub.status.idle": "2023-02-26T16:52:57.165711Z",
     "shell.execute_reply": "2023-02-26T16:52:57.165003Z"
    }
   },
   "outputs": [
    {
     "data": {
      "text/plain": [
       "<FastTreeValue 0x7fc168398940>\n",
       "├── 'a' --> tensor([[ 0.5924, -0.5358, -0.4666],\n",
       "│                   [-1.1082,  0.4625,  0.0257]])\n",
       "└── 'x' --> <FastTreeValue 0x7fc0c507ae80>\n",
       "    └── 'c' --> tensor([[ 0.2256,  0.3302, -0.0040,  1.1393],\n",
       "                        [-1.8591, -1.5914, -1.5168,  2.5324],\n",
       "                        [-1.4130, -0.3377,  0.2326,  0.0091]])"
      ]
     },
     "execution_count": 3,
     "metadata": {},
     "output_type": "execute_result"
    }
   ],
   "source": [
    "t"
   ]
  },
  {
   "cell_type": "code",
   "execution_count": 4,
   "id": "fd70b0b9",
   "metadata": {
    "execution": {
     "iopub.execute_input": "2023-02-26T16:52:57.168991Z",
     "iopub.status.busy": "2023-02-26T16:52:57.168483Z",
     "iopub.status.idle": "2023-02-26T16:52:57.175003Z",
     "shell.execute_reply": "2023-02-26T16:52:57.174329Z"
    }
   },
   "outputs": [
    {
     "data": {
      "text/plain": [
       "tensor([[ 0.5924, -0.5358, -0.4666],\n",
       "        [-1.1082,  0.4625,  0.0257]])"
      ]
     },
     "execution_count": 4,
     "metadata": {},
     "output_type": "execute_result"
    }
   ],
   "source": [
    "t.a"
   ]
  },
  {
   "cell_type": "code",
   "execution_count": 5,
   "id": "c18197bd",
   "metadata": {
    "execution": {
     "iopub.execute_input": "2023-02-26T16:52:57.178436Z",
     "iopub.status.busy": "2023-02-26T16:52:57.177807Z",
     "iopub.status.idle": "2023-02-26T16:53:02.355570Z",
     "shell.execute_reply": "2023-02-26T16:53:02.354648Z"
    }
   },
   "outputs": [
    {
     "name": "stdout",
     "output_type": "stream",
     "text": [
      "63.7 ns ± 0.0591 ns per loop (mean ± std. dev. of 7 runs, 10,000,000 loops each)\n"
     ]
    }
   ],
   "source": [
    "%timeit t.a"
   ]
  },
  {
   "cell_type": "code",
   "execution_count": 6,
   "id": "bd52f867",
   "metadata": {
    "execution": {
     "iopub.execute_input": "2023-02-26T16:53:02.359135Z",
     "iopub.status.busy": "2023-02-26T16:53:02.358729Z",
     "iopub.status.idle": "2023-02-26T16:53:02.367162Z",
     "shell.execute_reply": "2023-02-26T16:53:02.366495Z"
    }
   },
   "outputs": [
    {
     "data": {
      "text/plain": [
       "<FastTreeValue 0x7fc168398940>\n",
       "├── 'a' --> tensor([[-0.6935, -0.6065, -0.5212],\n",
       "│                   [ 0.3373,  0.6014, -0.2533]])\n",
       "└── 'x' --> <FastTreeValue 0x7fc0c507ae80>\n",
       "    └── 'c' --> tensor([[ 0.2256,  0.3302, -0.0040,  1.1393],\n",
       "                        [-1.8591, -1.5914, -1.5168,  2.5324],\n",
       "                        [-1.4130, -0.3377,  0.2326,  0.0091]])"
      ]
     },
     "execution_count": 6,
     "metadata": {},
     "output_type": "execute_result"
    }
   ],
   "source": [
    "new_value = torch.randn(2, 3)\n",
    "t.a = new_value\n",
    "\n",
    "t"
   ]
  },
  {
   "cell_type": "code",
   "execution_count": 7,
   "id": "bbe04d1c",
   "metadata": {
    "execution": {
     "iopub.execute_input": "2023-02-26T16:53:02.371281Z",
     "iopub.status.busy": "2023-02-26T16:53:02.369999Z",
     "iopub.status.idle": "2023-02-26T16:53:07.751478Z",
     "shell.execute_reply": "2023-02-26T16:53:07.750455Z"
    }
   },
   "outputs": [
    {
     "name": "stdout",
     "output_type": "stream",
     "text": [
      "66.2 ns ± 0.0787 ns per loop (mean ± std. dev. of 7 runs, 10,000,000 loops each)\n"
     ]
    }
   ],
   "source": [
    "%timeit t.a = new_value"
   ]
  },
  {
   "cell_type": "markdown",
   "id": "48c49731",
   "metadata": {},
   "source": [
    "### Tianshou Batch's Get and Set"
   ]
  },
  {
   "cell_type": "code",
   "execution_count": 8,
   "id": "f1bb14c1",
   "metadata": {
    "execution": {
     "iopub.execute_input": "2023-02-26T16:53:07.755302Z",
     "iopub.status.busy": "2023-02-26T16:53:07.754863Z",
     "iopub.status.idle": "2023-02-26T16:53:08.131321Z",
     "shell.execute_reply": "2023-02-26T16:53:08.130535Z"
    }
   },
   "outputs": [],
   "source": [
    "from tianshou.data import Batch\n",
    "\n",
    "b = Batch(**_TREE_DATA_2)"
   ]
  },
  {
   "cell_type": "code",
   "execution_count": 9,
   "id": "cb0777c3",
   "metadata": {
    "execution": {
     "iopub.execute_input": "2023-02-26T16:53:08.134654Z",
     "iopub.status.busy": "2023-02-26T16:53:08.134251Z",
     "iopub.status.idle": "2023-02-26T16:53:08.141270Z",
     "shell.execute_reply": "2023-02-26T16:53:08.140615Z"
    }
   },
   "outputs": [
    {
     "data": {
      "text/plain": [
       "Batch(\n",
       "    a: tensor([[ 0.5924, -0.5358, -0.4666],\n",
       "               [-1.1082,  0.4625,  0.0257]]),\n",
       "    x: Batch(\n",
       "           c: tensor([[ 0.2256,  0.3302, -0.0040,  1.1393],\n",
       "                      [-1.8591, -1.5914, -1.5168,  2.5324],\n",
       "                      [-1.4130, -0.3377,  0.2326,  0.0091]]),\n",
       "       ),\n",
       ")"
      ]
     },
     "execution_count": 9,
     "metadata": {},
     "output_type": "execute_result"
    }
   ],
   "source": [
    "b"
   ]
  },
  {
   "cell_type": "code",
   "execution_count": 10,
   "id": "43ef8ea3",
   "metadata": {
    "execution": {
     "iopub.execute_input": "2023-02-26T16:53:08.144276Z",
     "iopub.status.busy": "2023-02-26T16:53:08.143757Z",
     "iopub.status.idle": "2023-02-26T16:53:08.149001Z",
     "shell.execute_reply": "2023-02-26T16:53:08.148319Z"
    }
   },
   "outputs": [
    {
     "data": {
      "text/plain": [
       "tensor([[ 0.5924, -0.5358, -0.4666],\n",
       "        [-1.1082,  0.4625,  0.0257]])"
      ]
     },
     "execution_count": 10,
     "metadata": {},
     "output_type": "execute_result"
    }
   ],
   "source": [
    "b.a"
   ]
  },
  {
   "cell_type": "code",
   "execution_count": 11,
   "id": "b785ab72",
   "metadata": {
    "execution": {
     "iopub.execute_input": "2023-02-26T16:53:08.152165Z",
     "iopub.status.busy": "2023-02-26T16:53:08.151696Z",
     "iopub.status.idle": "2023-02-26T16:53:13.442386Z",
     "shell.execute_reply": "2023-02-26T16:53:13.441537Z"
    }
   },
   "outputs": [
    {
     "name": "stdout",
     "output_type": "stream",
     "text": [
      "65.2 ns ± 0.044 ns per loop (mean ± std. dev. of 7 runs, 10,000,000 loops each)\n"
     ]
    }
   ],
   "source": [
    "%timeit b.a"
   ]
  },
  {
   "cell_type": "code",
   "execution_count": 12,
   "id": "ad54dc69",
   "metadata": {
    "execution": {
     "iopub.execute_input": "2023-02-26T16:53:13.445694Z",
     "iopub.status.busy": "2023-02-26T16:53:13.445254Z",
     "iopub.status.idle": "2023-02-26T16:53:13.452688Z",
     "shell.execute_reply": "2023-02-26T16:53:13.452003Z"
    }
   },
   "outputs": [
    {
     "data": {
      "text/plain": [
       "Batch(\n",
       "    a: tensor([[ 1.1281,  1.0167,  0.3518],\n",
       "               [-0.0946,  0.7074, -1.0512]]),\n",
       "    x: Batch(\n",
       "           c: tensor([[ 0.2256,  0.3302, -0.0040,  1.1393],\n",
       "                      [-1.8591, -1.5914, -1.5168,  2.5324],\n",
       "                      [-1.4130, -0.3377,  0.2326,  0.0091]]),\n",
       "       ),\n",
       ")"
      ]
     },
     "execution_count": 12,
     "metadata": {},
     "output_type": "execute_result"
    }
   ],
   "source": [
    "new_value = torch.randn(2, 3)\n",
    "b.a = new_value\n",
    "\n",
    "b"
   ]
  },
  {
   "cell_type": "code",
   "execution_count": 13,
   "id": "29b1d0bf",
   "metadata": {
    "execution": {
     "iopub.execute_input": "2023-02-26T16:53:13.455800Z",
     "iopub.status.busy": "2023-02-26T16:53:13.455521Z",
     "iopub.status.idle": "2023-02-26T16:53:17.493602Z",
     "shell.execute_reply": "2023-02-26T16:53:17.492785Z"
    }
   },
   "outputs": [
    {
     "name": "stdout",
     "output_type": "stream",
     "text": [
      "497 ns ± 0.186 ns per loop (mean ± std. dev. of 7 runs, 1,000,000 loops each)\n"
     ]
    }
   ],
   "source": [
    "%timeit b.a = new_value"
   ]
  },
  {
   "cell_type": "markdown",
   "id": "b61ad1d0",
   "metadata": {},
   "source": [
    "## Initialization"
   ]
  },
  {
   "cell_type": "markdown",
   "id": "d70f0d54",
   "metadata": {},
   "source": [
    "### TreeValue's Initialization"
   ]
  },
  {
   "cell_type": "code",
   "execution_count": 14,
   "id": "d32a679b",
   "metadata": {
    "execution": {
     "iopub.execute_input": "2023-02-26T16:53:17.497366Z",
     "iopub.status.busy": "2023-02-26T16:53:17.496756Z",
     "iopub.status.idle": "2023-02-26T16:53:24.121358Z",
     "shell.execute_reply": "2023-02-26T16:53:24.120471Z"
    }
   },
   "outputs": [
    {
     "name": "stdout",
     "output_type": "stream",
     "text": [
      "813 ns ± 1.3 ns per loop (mean ± std. dev. of 7 runs, 1,000,000 loops each)\n"
     ]
    }
   ],
   "source": [
    "%timeit FastTreeValue(_TREE_DATA_1)"
   ]
  },
  {
   "cell_type": "markdown",
   "id": "24f3707b",
   "metadata": {},
   "source": [
    "### Tianshou Batch's Initialization"
   ]
  },
  {
   "cell_type": "code",
   "execution_count": 15,
   "id": "ac3958df",
   "metadata": {
    "execution": {
     "iopub.execute_input": "2023-02-26T16:53:24.124990Z",
     "iopub.status.busy": "2023-02-26T16:53:24.124357Z",
     "iopub.status.idle": "2023-02-26T16:53:33.020989Z",
     "shell.execute_reply": "2023-02-26T16:53:33.020097Z"
    }
   },
   "outputs": [
    {
     "name": "stdout",
     "output_type": "stream",
     "text": [
      "11 µs ± 18.5 ns per loop (mean ± std. dev. of 7 runs, 100,000 loops each)\n"
     ]
    }
   ],
   "source": [
    "%timeit Batch(**_TREE_DATA_1)"
   ]
  },
  {
   "cell_type": "markdown",
   "id": "1ab82e2d",
   "metadata": {},
   "source": [
    "## Deep Copy Operation"
   ]
  },
  {
   "cell_type": "code",
   "execution_count": 16,
   "id": "210a9442",
   "metadata": {
    "execution": {
     "iopub.execute_input": "2023-02-26T16:53:33.024971Z",
     "iopub.status.busy": "2023-02-26T16:53:33.024308Z",
     "iopub.status.idle": "2023-02-26T16:53:33.028331Z",
     "shell.execute_reply": "2023-02-26T16:53:33.027667Z"
    }
   },
   "outputs": [],
   "source": [
    "import copy"
   ]
  },
  {
   "cell_type": "markdown",
   "id": "5a736274",
   "metadata": {},
   "source": [
    "### Deep Copy of TreeValue"
   ]
  },
  {
   "cell_type": "code",
   "execution_count": 17,
   "id": "f9bcadd6",
   "metadata": {
    "execution": {
     "iopub.execute_input": "2023-02-26T16:53:33.031472Z",
     "iopub.status.busy": "2023-02-26T16:53:33.030867Z",
     "iopub.status.idle": "2023-02-26T16:53:44.676564Z",
     "shell.execute_reply": "2023-02-26T16:53:44.675911Z"
    }
   },
   "outputs": [
    {
     "name": "stdout",
     "output_type": "stream",
     "text": [
      "143 µs ± 252 ns per loop (mean ± std. dev. of 7 runs, 10,000 loops each)\n"
     ]
    }
   ],
   "source": [
    "t3 = FastTreeValue(_TREE_DATA_3)\n",
    "%timeit copy.deepcopy(t3)"
   ]
  },
  {
   "cell_type": "markdown",
   "id": "bf8be7ea",
   "metadata": {},
   "source": [
    "### Deep Copy of Tianshou Batch"
   ]
  },
  {
   "cell_type": "code",
   "execution_count": 18,
   "id": "91998e6f",
   "metadata": {
    "execution": {
     "iopub.execute_input": "2023-02-26T16:53:44.680454Z",
     "iopub.status.busy": "2023-02-26T16:53:44.679264Z",
     "iopub.status.idle": "2023-02-26T16:53:56.456329Z",
     "shell.execute_reply": "2023-02-26T16:53:56.455688Z"
    }
   },
   "outputs": [
    {
     "name": "stdout",
     "output_type": "stream",
     "text": [
      "145 µs ± 791 ns per loop (mean ± std. dev. of 7 runs, 10,000 loops each)\n"
     ]
    }
   ],
   "source": [
    "b3 = Batch(**_TREE_DATA_3)\n",
    "%timeit copy.deepcopy(b3)"
   ]
  },
  {
   "cell_type": "markdown",
   "id": "223162fb",
   "metadata": {},
   "source": [
    "## Stack, Concat and Split Operation"
   ]
  },
  {
   "cell_type": "markdown",
   "id": "85fa4a73",
   "metadata": {},
   "source": [
    "### Performance of TreeValue"
   ]
  },
  {
   "cell_type": "code",
   "execution_count": 19,
   "id": "a0c2b697",
   "metadata": {
    "execution": {
     "iopub.execute_input": "2023-02-26T16:53:56.459529Z",
     "iopub.status.busy": "2023-02-26T16:53:56.458977Z",
     "iopub.status.idle": "2023-02-26T16:53:56.462666Z",
     "shell.execute_reply": "2023-02-26T16:53:56.462078Z"
    }
   },
   "outputs": [],
   "source": [
    "trees = [FastTreeValue(_TREE_DATA_2) for _ in range(8)]"
   ]
  },
  {
   "cell_type": "code",
   "execution_count": 20,
   "id": "017ea5a5",
   "metadata": {
    "execution": {
     "iopub.execute_input": "2023-02-26T16:53:56.465491Z",
     "iopub.status.busy": "2023-02-26T16:53:56.464772Z",
     "iopub.status.idle": "2023-02-26T16:53:56.472431Z",
     "shell.execute_reply": "2023-02-26T16:53:56.471865Z"
    }
   },
   "outputs": [
    {
     "data": {
      "text/plain": [
       "<FastTreeValue 0x7fc0b36c2b50>\n",
       "├── 'a' --> tensor([[[ 0.5924, -0.5358, -0.4666],\n",
       "│                    [-1.1082,  0.4625,  0.0257]],\n",
       "│           \n",
       "│                   [[ 0.5924, -0.5358, -0.4666],\n",
       "│                    [-1.1082,  0.4625,  0.0257]],\n",
       "│           \n",
       "│                   [[ 0.5924, -0.5358, -0.4666],\n",
       "│                    [-1.1082,  0.4625,  0.0257]],\n",
       "│           \n",
       "│                   [[ 0.5924, -0.5358, -0.4666],\n",
       "│                    [-1.1082,  0.4625,  0.0257]],\n",
       "│           \n",
       "│                   [[ 0.5924, -0.5358, -0.4666],\n",
       "│                    [-1.1082,  0.4625,  0.0257]],\n",
       "│           \n",
       "│                   [[ 0.5924, -0.5358, -0.4666],\n",
       "│                    [-1.1082,  0.4625,  0.0257]],\n",
       "│           \n",
       "│                   [[ 0.5924, -0.5358, -0.4666],\n",
       "│                    [-1.1082,  0.4625,  0.0257]],\n",
       "│           \n",
       "│                   [[ 0.5924, -0.5358, -0.4666],\n",
       "│                    [-1.1082,  0.4625,  0.0257]]])\n",
       "└── 'x' --> <FastTreeValue 0x7fc0b36c2be0>\n",
       "    └── 'c' --> tensor([[[ 0.2256,  0.3302, -0.0040,  1.1393],\n",
       "                         [-1.8591, -1.5914, -1.5168,  2.5324],\n",
       "                         [-1.4130, -0.3377,  0.2326,  0.0091]],\n",
       "                \n",
       "                        [[ 0.2256,  0.3302, -0.0040,  1.1393],\n",
       "                         [-1.8591, -1.5914, -1.5168,  2.5324],\n",
       "                         [-1.4130, -0.3377,  0.2326,  0.0091]],\n",
       "                \n",
       "                        [[ 0.2256,  0.3302, -0.0040,  1.1393],\n",
       "                         [-1.8591, -1.5914, -1.5168,  2.5324],\n",
       "                         [-1.4130, -0.3377,  0.2326,  0.0091]],\n",
       "                \n",
       "                        [[ 0.2256,  0.3302, -0.0040,  1.1393],\n",
       "                         [-1.8591, -1.5914, -1.5168,  2.5324],\n",
       "                         [-1.4130, -0.3377,  0.2326,  0.0091]],\n",
       "                \n",
       "                        [[ 0.2256,  0.3302, -0.0040,  1.1393],\n",
       "                         [-1.8591, -1.5914, -1.5168,  2.5324],\n",
       "                         [-1.4130, -0.3377,  0.2326,  0.0091]],\n",
       "                \n",
       "                        [[ 0.2256,  0.3302, -0.0040,  1.1393],\n",
       "                         [-1.8591, -1.5914, -1.5168,  2.5324],\n",
       "                         [-1.4130, -0.3377,  0.2326,  0.0091]],\n",
       "                \n",
       "                        [[ 0.2256,  0.3302, -0.0040,  1.1393],\n",
       "                         [-1.8591, -1.5914, -1.5168,  2.5324],\n",
       "                         [-1.4130, -0.3377,  0.2326,  0.0091]],\n",
       "                \n",
       "                        [[ 0.2256,  0.3302, -0.0040,  1.1393],\n",
       "                         [-1.8591, -1.5914, -1.5168,  2.5324],\n",
       "                         [-1.4130, -0.3377,  0.2326,  0.0091]]])"
      ]
     },
     "execution_count": 20,
     "metadata": {},
     "output_type": "execute_result"
    }
   ],
   "source": [
    "t_stack = FastTreeValue.func(subside=True)(torch.stack)\n",
    "\n",
    "t_stack(trees)"
   ]
  },
  {
   "cell_type": "code",
   "execution_count": 21,
   "id": "f8b3f415",
   "metadata": {
    "execution": {
     "iopub.execute_input": "2023-02-26T16:53:56.475043Z",
     "iopub.status.busy": "2023-02-26T16:53:56.474580Z",
     "iopub.status.idle": "2023-02-26T16:53:59.097253Z",
     "shell.execute_reply": "2023-02-26T16:53:59.096385Z"
    }
   },
   "outputs": [
    {
     "name": "stdout",
     "output_type": "stream",
     "text": [
      "32.3 µs ± 44.7 ns per loop (mean ± std. dev. of 7 runs, 10,000 loops each)\n"
     ]
    }
   ],
   "source": [
    "%timeit t_stack(trees)"
   ]
  },
  {
   "cell_type": "code",
   "execution_count": 22,
   "id": "94b56771",
   "metadata": {
    "execution": {
     "iopub.execute_input": "2023-02-26T16:53:59.100535Z",
     "iopub.status.busy": "2023-02-26T16:53:59.100110Z",
     "iopub.status.idle": "2023-02-26T16:53:59.113096Z",
     "shell.execute_reply": "2023-02-26T16:53:59.112354Z"
    }
   },
   "outputs": [
    {
     "data": {
      "text/plain": [
       "<FastTreeValue 0x7fc0b36c2a60>\n",
       "├── 'a' --> tensor([[ 0.5924, -0.5358, -0.4666],\n",
       "│                   [-1.1082,  0.4625,  0.0257],\n",
       "│                   [ 0.5924, -0.5358, -0.4666],\n",
       "│                   [-1.1082,  0.4625,  0.0257],\n",
       "│                   [ 0.5924, -0.5358, -0.4666],\n",
       "│                   [-1.1082,  0.4625,  0.0257],\n",
       "│                   [ 0.5924, -0.5358, -0.4666],\n",
       "│                   [-1.1082,  0.4625,  0.0257],\n",
       "│                   [ 0.5924, -0.5358, -0.4666],\n",
       "│                   [-1.1082,  0.4625,  0.0257],\n",
       "│                   [ 0.5924, -0.5358, -0.4666],\n",
       "│                   [-1.1082,  0.4625,  0.0257],\n",
       "│                   [ 0.5924, -0.5358, -0.4666],\n",
       "│                   [-1.1082,  0.4625,  0.0257],\n",
       "│                   [ 0.5924, -0.5358, -0.4666],\n",
       "│                   [-1.1082,  0.4625,  0.0257]])\n",
       "└── 'x' --> <FastTreeValue 0x7fc0b36c2c70>\n",
       "    └── 'c' --> tensor([[ 0.2256,  0.3302, -0.0040,  1.1393],\n",
       "                        [-1.8591, -1.5914, -1.5168,  2.5324],\n",
       "                        [-1.4130, -0.3377,  0.2326,  0.0091],\n",
       "                        [ 0.2256,  0.3302, -0.0040,  1.1393],\n",
       "                        [-1.8591, -1.5914, -1.5168,  2.5324],\n",
       "                        [-1.4130, -0.3377,  0.2326,  0.0091],\n",
       "                        [ 0.2256,  0.3302, -0.0040,  1.1393],\n",
       "                        [-1.8591, -1.5914, -1.5168,  2.5324],\n",
       "                        [-1.4130, -0.3377,  0.2326,  0.0091],\n",
       "                        [ 0.2256,  0.3302, -0.0040,  1.1393],\n",
       "                        [-1.8591, -1.5914, -1.5168,  2.5324],\n",
       "                        [-1.4130, -0.3377,  0.2326,  0.0091],\n",
       "                        [ 0.2256,  0.3302, -0.0040,  1.1393],\n",
       "                        [-1.8591, -1.5914, -1.5168,  2.5324],\n",
       "                        [-1.4130, -0.3377,  0.2326,  0.0091],\n",
       "                        [ 0.2256,  0.3302, -0.0040,  1.1393],\n",
       "                        [-1.8591, -1.5914, -1.5168,  2.5324],\n",
       "                        [-1.4130, -0.3377,  0.2326,  0.0091],\n",
       "                        [ 0.2256,  0.3302, -0.0040,  1.1393],\n",
       "                        [-1.8591, -1.5914, -1.5168,  2.5324],\n",
       "                        [-1.4130, -0.3377,  0.2326,  0.0091],\n",
       "                        [ 0.2256,  0.3302, -0.0040,  1.1393],\n",
       "                        [-1.8591, -1.5914, -1.5168,  2.5324],\n",
       "                        [-1.4130, -0.3377,  0.2326,  0.0091]])"
      ]
     },
     "execution_count": 22,
     "metadata": {},
     "output_type": "execute_result"
    }
   ],
   "source": [
    "t_cat = FastTreeValue.func(subside=True)(torch.cat)\n",
    "\n",
    "t_cat(trees)"
   ]
  },
  {
   "cell_type": "code",
   "execution_count": 23,
   "id": "5e9c06a6",
   "metadata": {
    "execution": {
     "iopub.execute_input": "2023-02-26T16:53:59.116931Z",
     "iopub.status.busy": "2023-02-26T16:53:59.115677Z",
     "iopub.status.idle": "2023-02-26T16:54:01.551805Z",
     "shell.execute_reply": "2023-02-26T16:54:01.550853Z"
    }
   },
   "outputs": [
    {
     "name": "stdout",
     "output_type": "stream",
     "text": [
      "30 µs ± 61.6 ns per loop (mean ± std. dev. of 7 runs, 10,000 loops each)\n"
     ]
    }
   ],
   "source": [
    "%timeit t_cat(trees)"
   ]
  },
  {
   "cell_type": "code",
   "execution_count": 24,
   "id": "a3ab5c8f",
   "metadata": {
    "execution": {
     "iopub.execute_input": "2023-02-26T16:54:01.555318Z",
     "iopub.status.busy": "2023-02-26T16:54:01.554909Z",
     "iopub.status.idle": "2023-02-26T16:54:06.177172Z",
     "shell.execute_reply": "2023-02-26T16:54:06.176383Z"
    }
   },
   "outputs": [
    {
     "name": "stdout",
     "output_type": "stream",
     "text": [
      "56.8 µs ± 80.6 ns per loop (mean ± std. dev. of 7 runs, 10,000 loops each)\n"
     ]
    }
   ],
   "source": [
    "t_split = FastTreeValue.func(rise=True)(torch.split)\n",
    "tree = FastTreeValue({\n",
    "    'obs': torch.randn(8, 4, 84, 84),\n",
    "    'action': torch.randint(0, 6, size=(8, 1,)),\n",
    "    'reward': torch.rand(8, 1),\n",
    "})\n",
    "\n",
    "%timeit t_split(tree, 1)"
   ]
  },
  {
   "cell_type": "markdown",
   "id": "31c3ec0b",
   "metadata": {},
   "source": [
    "### Performance of Tianshou Batch"
   ]
  },
  {
   "cell_type": "code",
   "execution_count": 25,
   "id": "9ead828a",
   "metadata": {
    "execution": {
     "iopub.execute_input": "2023-02-26T16:54:06.180611Z",
     "iopub.status.busy": "2023-02-26T16:54:06.180184Z",
     "iopub.status.idle": "2023-02-26T16:54:06.188968Z",
     "shell.execute_reply": "2023-02-26T16:54:06.188326Z"
    }
   },
   "outputs": [
    {
     "data": {
      "text/plain": [
       "Batch(\n",
       "    x: Batch(\n",
       "           c: tensor([[[ 0.2256,  0.3302, -0.0040,  1.1393],\n",
       "                       [-1.8591, -1.5914, -1.5168,  2.5324],\n",
       "                       [-1.4130, -0.3377,  0.2326,  0.0091]],\n",
       "              \n",
       "                      [[ 0.2256,  0.3302, -0.0040,  1.1393],\n",
       "                       [-1.8591, -1.5914, -1.5168,  2.5324],\n",
       "                       [-1.4130, -0.3377,  0.2326,  0.0091]],\n",
       "              \n",
       "                      [[ 0.2256,  0.3302, -0.0040,  1.1393],\n",
       "                       [-1.8591, -1.5914, -1.5168,  2.5324],\n",
       "                       [-1.4130, -0.3377,  0.2326,  0.0091]],\n",
       "              \n",
       "                      [[ 0.2256,  0.3302, -0.0040,  1.1393],\n",
       "                       [-1.8591, -1.5914, -1.5168,  2.5324],\n",
       "                       [-1.4130, -0.3377,  0.2326,  0.0091]],\n",
       "              \n",
       "                      [[ 0.2256,  0.3302, -0.0040,  1.1393],\n",
       "                       [-1.8591, -1.5914, -1.5168,  2.5324],\n",
       "                       [-1.4130, -0.3377,  0.2326,  0.0091]],\n",
       "              \n",
       "                      [[ 0.2256,  0.3302, -0.0040,  1.1393],\n",
       "                       [-1.8591, -1.5914, -1.5168,  2.5324],\n",
       "                       [-1.4130, -0.3377,  0.2326,  0.0091]],\n",
       "              \n",
       "                      [[ 0.2256,  0.3302, -0.0040,  1.1393],\n",
       "                       [-1.8591, -1.5914, -1.5168,  2.5324],\n",
       "                       [-1.4130, -0.3377,  0.2326,  0.0091]],\n",
       "              \n",
       "                      [[ 0.2256,  0.3302, -0.0040,  1.1393],\n",
       "                       [-1.8591, -1.5914, -1.5168,  2.5324],\n",
       "                       [-1.4130, -0.3377,  0.2326,  0.0091]]]),\n",
       "       ),\n",
       "    a: tensor([[[ 0.5924, -0.5358, -0.4666],\n",
       "                [-1.1082,  0.4625,  0.0257]],\n",
       "       \n",
       "               [[ 0.5924, -0.5358, -0.4666],\n",
       "                [-1.1082,  0.4625,  0.0257]],\n",
       "       \n",
       "               [[ 0.5924, -0.5358, -0.4666],\n",
       "                [-1.1082,  0.4625,  0.0257]],\n",
       "       \n",
       "               [[ 0.5924, -0.5358, -0.4666],\n",
       "                [-1.1082,  0.4625,  0.0257]],\n",
       "       \n",
       "               [[ 0.5924, -0.5358, -0.4666],\n",
       "                [-1.1082,  0.4625,  0.0257]],\n",
       "       \n",
       "               [[ 0.5924, -0.5358, -0.4666],\n",
       "                [-1.1082,  0.4625,  0.0257]],\n",
       "       \n",
       "               [[ 0.5924, -0.5358, -0.4666],\n",
       "                [-1.1082,  0.4625,  0.0257]],\n",
       "       \n",
       "               [[ 0.5924, -0.5358, -0.4666],\n",
       "                [-1.1082,  0.4625,  0.0257]]]),\n",
       ")"
      ]
     },
     "execution_count": 25,
     "metadata": {},
     "output_type": "execute_result"
    }
   ],
   "source": [
    "batches = [Batch(**_TREE_DATA_2) for _ in range(8)]\n",
    "\n",
    "Batch.stack(batches)"
   ]
  },
  {
   "cell_type": "code",
   "execution_count": 26,
   "id": "ec9037a3",
   "metadata": {
    "execution": {
     "iopub.execute_input": "2023-02-26T16:54:06.192294Z",
     "iopub.status.busy": "2023-02-26T16:54:06.191630Z",
     "iopub.status.idle": "2023-02-26T16:54:12.520392Z",
     "shell.execute_reply": "2023-02-26T16:54:12.519472Z"
    }
   },
   "outputs": [
    {
     "name": "stdout",
     "output_type": "stream",
     "text": [
      "77.9 µs ± 187 ns per loop (mean ± std. dev. of 7 runs, 10,000 loops each)\n"
     ]
    }
   ],
   "source": [
    "%timeit Batch.stack(batches)"
   ]
  },
  {
   "cell_type": "code",
   "execution_count": 27,
   "id": "cb8ab77e",
   "metadata": {
    "execution": {
     "iopub.execute_input": "2023-02-26T16:54:12.524157Z",
     "iopub.status.busy": "2023-02-26T16:54:12.523292Z",
     "iopub.status.idle": "2023-02-26T16:54:12.531188Z",
     "shell.execute_reply": "2023-02-26T16:54:12.530419Z"
    }
   },
   "outputs": [
    {
     "data": {
      "text/plain": [
       "Batch(\n",
       "    x: Batch(\n",
       "           c: tensor([[ 0.2256,  0.3302, -0.0040,  1.1393],\n",
       "                      [-1.8591, -1.5914, -1.5168,  2.5324],\n",
       "                      [-1.4130, -0.3377,  0.2326,  0.0091],\n",
       "                      [ 0.2256,  0.3302, -0.0040,  1.1393],\n",
       "                      [-1.8591, -1.5914, -1.5168,  2.5324],\n",
       "                      [-1.4130, -0.3377,  0.2326,  0.0091],\n",
       "                      [ 0.2256,  0.3302, -0.0040,  1.1393],\n",
       "                      [-1.8591, -1.5914, -1.5168,  2.5324],\n",
       "                      [-1.4130, -0.3377,  0.2326,  0.0091],\n",
       "                      [ 0.2256,  0.3302, -0.0040,  1.1393],\n",
       "                      [-1.8591, -1.5914, -1.5168,  2.5324],\n",
       "                      [-1.4130, -0.3377,  0.2326,  0.0091],\n",
       "                      [ 0.2256,  0.3302, -0.0040,  1.1393],\n",
       "                      [-1.8591, -1.5914, -1.5168,  2.5324],\n",
       "                      [-1.4130, -0.3377,  0.2326,  0.0091],\n",
       "                      [ 0.2256,  0.3302, -0.0040,  1.1393],\n",
       "                      [-1.8591, -1.5914, -1.5168,  2.5324],\n",
       "                      [-1.4130, -0.3377,  0.2326,  0.0091],\n",
       "                      [ 0.2256,  0.3302, -0.0040,  1.1393],\n",
       "                      [-1.8591, -1.5914, -1.5168,  2.5324],\n",
       "                      [-1.4130, -0.3377,  0.2326,  0.0091],\n",
       "                      [ 0.2256,  0.3302, -0.0040,  1.1393],\n",
       "                      [-1.8591, -1.5914, -1.5168,  2.5324],\n",
       "                      [-1.4130, -0.3377,  0.2326,  0.0091]]),\n",
       "       ),\n",
       "    a: tensor([[ 0.5924, -0.5358, -0.4666],\n",
       "               [-1.1082,  0.4625,  0.0257],\n",
       "               [ 0.5924, -0.5358, -0.4666],\n",
       "               [-1.1082,  0.4625,  0.0257],\n",
       "               [ 0.5924, -0.5358, -0.4666],\n",
       "               [-1.1082,  0.4625,  0.0257],\n",
       "               [ 0.5924, -0.5358, -0.4666],\n",
       "               [-1.1082,  0.4625,  0.0257],\n",
       "               [ 0.5924, -0.5358, -0.4666],\n",
       "               [-1.1082,  0.4625,  0.0257],\n",
       "               [ 0.5924, -0.5358, -0.4666],\n",
       "               [-1.1082,  0.4625,  0.0257],\n",
       "               [ 0.5924, -0.5358, -0.4666],\n",
       "               [-1.1082,  0.4625,  0.0257],\n",
       "               [ 0.5924, -0.5358, -0.4666],\n",
       "               [-1.1082,  0.4625,  0.0257]]),\n",
       ")"
      ]
     },
     "execution_count": 27,
     "metadata": {},
     "output_type": "execute_result"
    }
   ],
   "source": [
    "Batch.cat(batches)"
   ]
  },
  {
   "cell_type": "code",
   "execution_count": 28,
   "id": "18dfb045",
   "metadata": {
    "execution": {
     "iopub.execute_input": "2023-02-26T16:54:12.534563Z",
     "iopub.status.busy": "2023-02-26T16:54:12.534061Z",
     "iopub.status.idle": "2023-02-26T16:54:24.147957Z",
     "shell.execute_reply": "2023-02-26T16:54:24.147131Z"
    }
   },
   "outputs": [
    {
     "name": "stdout",
     "output_type": "stream",
     "text": [
      "143 µs ± 185 ns per loop (mean ± std. dev. of 7 runs, 10,000 loops each)\n"
     ]
    }
   ],
   "source": [
    "%timeit Batch.cat(batches)"
   ]
  },
  {
   "cell_type": "code",
   "execution_count": 29,
   "id": "c6688e51",
   "metadata": {
    "execution": {
     "iopub.execute_input": "2023-02-26T16:54:24.151562Z",
     "iopub.status.busy": "2023-02-26T16:54:24.151126Z",
     "iopub.status.idle": "2023-02-26T16:54:26.834856Z",
     "shell.execute_reply": "2023-02-26T16:54:26.834217Z"
    }
   },
   "outputs": [
    {
     "name": "stdout",
     "output_type": "stream",
     "text": [
      "330 µs ± 15.5 µs per loop (mean ± std. dev. of 7 runs, 1,000 loops each)\n"
     ]
    }
   ],
   "source": [
    "batch = Batch({\n",
    "    'obs': torch.randn(8, 4, 84, 84),\n",
    "    'action': torch.randint(0, 6, size=(8, 1,)),\n",
    "    'reward': torch.rand(8, 1)}\n",
    ")\n",
    "\n",
    "%timeit list(Batch.split(batch, 1, shuffle=False, merge_last=True))"
   ]
  },
  {
   "cell_type": "code",
   "execution_count": null,
   "id": "2539fbd9",
   "metadata": {},
   "outputs": [],
   "source": []
  }
 ],
 "metadata": {
  "kernelspec": {
   "display_name": "Python 3 (ipykernel)",
   "language": "python",
   "name": "python3"
  },
  "language_info": {
   "codemirror_mode": {
    "name": "ipython",
    "version": 3
   },
   "file_extension": ".py",
   "mimetype": "text/x-python",
   "name": "python",
   "nbconvert_exporter": "python",
   "pygments_lexer": "ipython3",
   "version": "3.8.16"
  }
 },
 "nbformat": 4,
 "nbformat_minor": 5
}
