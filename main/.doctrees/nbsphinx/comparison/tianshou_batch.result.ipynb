{
 "cells": [
  {
   "cell_type": "markdown",
   "id": "9d39d946",
   "metadata": {},
   "source": [
    "# Comparison Between TreeValue and Tianshou Batch"
   ]
  },
  {
   "cell_type": "markdown",
   "id": "3c6db2d4",
   "metadata": {},
   "source": [
    "In this section, we will take a look at the feature and performance of the [Tianshou Batch](https://github.com/thu-ml/tianshou) library, which is developed by Tsinghua Machine Learning Group."
   ]
  },
  {
   "cell_type": "markdown",
   "id": "069361b0",
   "metadata": {},
   "source": [
    "Before starting the comparison, let us define some thing."
   ]
  },
  {
   "cell_type": "code",
   "execution_count": 1,
   "id": "06fc8d26",
   "metadata": {
    "execution": {
     "iopub.execute_input": "2023-02-28T03:39:25.161378Z",
     "iopub.status.busy": "2023-02-28T03:39:25.160892Z",
     "iopub.status.idle": "2023-02-28T03:39:26.165451Z",
     "shell.execute_reply": "2023-02-28T03:39:26.164621Z"
    }
   },
   "outputs": [
    {
     "name": "stderr",
     "output_type": "stream",
     "text": [
      "/opt/hostedtoolcache/Python/3.8.16/x64/lib/python3.8/site-packages/tqdm/auto.py:22: TqdmWarning: IProgress not found. Please update jupyter and ipywidgets. See https://ipywidgets.readthedocs.io/en/stable/user_install.html\n",
      "  from .autonotebook import tqdm as notebook_tqdm\n"
     ]
    }
   ],
   "source": [
    "import torch \n",
    "\n",
    "_TREE_DATA_1 = {'a': 1, 'b': 2, 'x': {'c': 3, 'd': 4}}\n",
    "_TREE_DATA_2 = {\n",
    "    'a': torch.randn(2, 3), \n",
    "    'x': {\n",
    "        'c': torch.randn(3, 4)\n",
    "    },\n",
    "}\n",
    "_TREE_DATA_3 = {\n",
    "    'obs': torch.randn(4, 84, 84),\n",
    "    'action': torch.randint(0, 6, size=(1,)),\n",
    "    'reward': torch.rand(1),\n",
    "}"
   ]
  },
  {
   "cell_type": "markdown",
   "id": "83461b25",
   "metadata": {},
   "source": [
    "## Read and Write Operation"
   ]
  },
  {
   "cell_type": "markdown",
   "id": "067b3f73",
   "metadata": {},
   "source": [
    "Reading and writing are the two most common operations in the tree data structure based on the data model (TreeValue and Tianshou Batch both belong to this type), so this section will compare the reading and writing performance of these two libraries."
   ]
  },
  {
   "cell_type": "markdown",
   "id": "5d09a5b7",
   "metadata": {},
   "source": [
    "### TreeValue's Get and Set"
   ]
  },
  {
   "cell_type": "code",
   "execution_count": 2,
   "id": "9519c4bb",
   "metadata": {
    "execution": {
     "iopub.execute_input": "2023-02-28T03:39:26.169652Z",
     "iopub.status.busy": "2023-02-28T03:39:26.169141Z",
     "iopub.status.idle": "2023-02-28T03:39:26.471504Z",
     "shell.execute_reply": "2023-02-28T03:39:26.470711Z"
    }
   },
   "outputs": [],
   "source": [
    "from treevalue import FastTreeValue\n",
    "\n",
    "t = FastTreeValue(_TREE_DATA_2)"
   ]
  },
  {
   "cell_type": "code",
   "execution_count": 3,
   "id": "11c37677",
   "metadata": {
    "execution": {
     "iopub.execute_input": "2023-02-28T03:39:26.475393Z",
     "iopub.status.busy": "2023-02-28T03:39:26.474841Z",
     "iopub.status.idle": "2023-02-28T03:39:26.484800Z",
     "shell.execute_reply": "2023-02-28T03:39:26.484048Z"
    }
   },
   "outputs": [
    {
     "data": {
      "text/plain": [
       "<FastTreeValue 0x7ff3d8d17a60>\n",
       "├── 'a' --> tensor([[ 0.7776,  0.5591,  0.5727],\n",
       "│                   [ 0.4101, -0.2861, -0.1770]])\n",
       "└── 'x' --> <FastTreeValue 0x7ff3d8d11160>\n",
       "    └── 'c' --> tensor([[-0.9040,  1.0121,  0.3857,  0.2476],\n",
       "                        [ 1.4982, -0.4532, -1.7826, -0.0595],\n",
       "                        [-0.5794,  0.6884, -0.9104,  0.3354]])"
      ]
     },
     "execution_count": 3,
     "metadata": {},
     "output_type": "execute_result"
    }
   ],
   "source": [
    "t"
   ]
  },
  {
   "cell_type": "code",
   "execution_count": 4,
   "id": "fd70b0b9",
   "metadata": {
    "execution": {
     "iopub.execute_input": "2023-02-28T03:39:26.488029Z",
     "iopub.status.busy": "2023-02-28T03:39:26.487618Z",
     "iopub.status.idle": "2023-02-28T03:39:26.492726Z",
     "shell.execute_reply": "2023-02-28T03:39:26.492051Z"
    }
   },
   "outputs": [
    {
     "data": {
      "text/plain": [
       "tensor([[ 0.7776,  0.5591,  0.5727],\n",
       "        [ 0.4101, -0.2861, -0.1770]])"
      ]
     },
     "execution_count": 4,
     "metadata": {},
     "output_type": "execute_result"
    }
   ],
   "source": [
    "t.a"
   ]
  },
  {
   "cell_type": "code",
   "execution_count": 5,
   "id": "c18197bd",
   "metadata": {
    "execution": {
     "iopub.execute_input": "2023-02-28T03:39:26.495645Z",
     "iopub.status.busy": "2023-02-28T03:39:26.495215Z",
     "iopub.status.idle": "2023-02-28T03:39:32.041413Z",
     "shell.execute_reply": "2023-02-28T03:39:32.040544Z"
    }
   },
   "outputs": [
    {
     "name": "stdout",
     "output_type": "stream",
     "text": [
      "68.3 ns ± 0.0142 ns per loop (mean ± std. dev. of 7 runs, 10,000,000 loops each)\n"
     ]
    }
   ],
   "source": [
    "%timeit t.a"
   ]
  },
  {
   "cell_type": "code",
   "execution_count": 6,
   "id": "bd52f867",
   "metadata": {
    "execution": {
     "iopub.execute_input": "2023-02-28T03:39:32.044557Z",
     "iopub.status.busy": "2023-02-28T03:39:32.044143Z",
     "iopub.status.idle": "2023-02-28T03:39:32.050776Z",
     "shell.execute_reply": "2023-02-28T03:39:32.050077Z"
    }
   },
   "outputs": [
    {
     "data": {
      "text/plain": [
       "<FastTreeValue 0x7ff3d8d17a60>\n",
       "├── 'a' --> tensor([[ 0.7294,  0.3860, -0.3280],\n",
       "│                   [-1.5708, -1.8527,  1.2502]])\n",
       "└── 'x' --> <FastTreeValue 0x7ff3d8d11160>\n",
       "    └── 'c' --> tensor([[-0.9040,  1.0121,  0.3857,  0.2476],\n",
       "                        [ 1.4982, -0.4532, -1.7826, -0.0595],\n",
       "                        [-0.5794,  0.6884, -0.9104,  0.3354]])"
      ]
     },
     "execution_count": 6,
     "metadata": {},
     "output_type": "execute_result"
    }
   ],
   "source": [
    "new_value = torch.randn(2, 3)\n",
    "t.a = new_value\n",
    "\n",
    "t"
   ]
  },
  {
   "cell_type": "code",
   "execution_count": 7,
   "id": "bbe04d1c",
   "metadata": {
    "execution": {
     "iopub.execute_input": "2023-02-28T03:39:32.054110Z",
     "iopub.status.busy": "2023-02-28T03:39:32.053527Z",
     "iopub.status.idle": "2023-02-28T03:39:37.568904Z",
     "shell.execute_reply": "2023-02-28T03:39:37.567996Z"
    }
   },
   "outputs": [
    {
     "name": "stdout",
     "output_type": "stream",
     "text": [
      "67.9 ns ± 0.0516 ns per loop (mean ± std. dev. of 7 runs, 10,000,000 loops each)\n"
     ]
    }
   ],
   "source": [
    "%timeit t.a = new_value"
   ]
  },
  {
   "cell_type": "markdown",
   "id": "48c49731",
   "metadata": {},
   "source": [
    "### Tianshou Batch's Get and Set"
   ]
  },
  {
   "cell_type": "code",
   "execution_count": 8,
   "id": "f1bb14c1",
   "metadata": {
    "execution": {
     "iopub.execute_input": "2023-02-28T03:39:37.572362Z",
     "iopub.status.busy": "2023-02-28T03:39:37.571907Z",
     "iopub.status.idle": "2023-02-28T03:39:37.949707Z",
     "shell.execute_reply": "2023-02-28T03:39:37.948905Z"
    }
   },
   "outputs": [],
   "source": [
    "from tianshou.data import Batch\n",
    "\n",
    "b = Batch(**_TREE_DATA_2)"
   ]
  },
  {
   "cell_type": "code",
   "execution_count": 9,
   "id": "cb0777c3",
   "metadata": {
    "execution": {
     "iopub.execute_input": "2023-02-28T03:39:37.953781Z",
     "iopub.status.busy": "2023-02-28T03:39:37.953148Z",
     "iopub.status.idle": "2023-02-28T03:39:37.959191Z",
     "shell.execute_reply": "2023-02-28T03:39:37.958501Z"
    }
   },
   "outputs": [
    {
     "data": {
      "text/plain": [
       "Batch(\n",
       "    a: tensor([[ 0.7776,  0.5591,  0.5727],\n",
       "               [ 0.4101, -0.2861, -0.1770]]),\n",
       "    x: Batch(\n",
       "           c: tensor([[-0.9040,  1.0121,  0.3857,  0.2476],\n",
       "                      [ 1.4982, -0.4532, -1.7826, -0.0595],\n",
       "                      [-0.5794,  0.6884, -0.9104,  0.3354]]),\n",
       "       ),\n",
       ")"
      ]
     },
     "execution_count": 9,
     "metadata": {},
     "output_type": "execute_result"
    }
   ],
   "source": [
    "b"
   ]
  },
  {
   "cell_type": "code",
   "execution_count": 10,
   "id": "43ef8ea3",
   "metadata": {
    "execution": {
     "iopub.execute_input": "2023-02-28T03:39:37.961974Z",
     "iopub.status.busy": "2023-02-28T03:39:37.961595Z",
     "iopub.status.idle": "2023-02-28T03:39:37.966713Z",
     "shell.execute_reply": "2023-02-28T03:39:37.966047Z"
    }
   },
   "outputs": [
    {
     "data": {
      "text/plain": [
       "tensor([[ 0.7776,  0.5591,  0.5727],\n",
       "        [ 0.4101, -0.2861, -0.1770]])"
      ]
     },
     "execution_count": 10,
     "metadata": {},
     "output_type": "execute_result"
    }
   ],
   "source": [
    "b.a"
   ]
  },
  {
   "cell_type": "code",
   "execution_count": 11,
   "id": "b785ab72",
   "metadata": {
    "execution": {
     "iopub.execute_input": "2023-02-28T03:39:37.969687Z",
     "iopub.status.busy": "2023-02-28T03:39:37.969138Z",
     "iopub.status.idle": "2023-02-28T03:39:42.813276Z",
     "shell.execute_reply": "2023-02-28T03:39:42.812391Z"
    }
   },
   "outputs": [
    {
     "name": "stdout",
     "output_type": "stream",
     "text": [
      "59.7 ns ± 0.0262 ns per loop (mean ± std. dev. of 7 runs, 10,000,000 loops each)\n"
     ]
    }
   ],
   "source": [
    "%timeit b.a"
   ]
  },
  {
   "cell_type": "code",
   "execution_count": 12,
   "id": "ad54dc69",
   "metadata": {
    "execution": {
     "iopub.execute_input": "2023-02-28T03:39:42.816590Z",
     "iopub.status.busy": "2023-02-28T03:39:42.816180Z",
     "iopub.status.idle": "2023-02-28T03:39:42.823196Z",
     "shell.execute_reply": "2023-02-28T03:39:42.822565Z"
    }
   },
   "outputs": [
    {
     "data": {
      "text/plain": [
       "Batch(\n",
       "    a: tensor([[ 0.3196,  0.4706, -0.5300],\n",
       "               [ 0.2355, -0.9630,  0.6525]]),\n",
       "    x: Batch(\n",
       "           c: tensor([[-0.9040,  1.0121,  0.3857,  0.2476],\n",
       "                      [ 1.4982, -0.4532, -1.7826, -0.0595],\n",
       "                      [-0.5794,  0.6884, -0.9104,  0.3354]]),\n",
       "       ),\n",
       ")"
      ]
     },
     "execution_count": 12,
     "metadata": {},
     "output_type": "execute_result"
    }
   ],
   "source": [
    "new_value = torch.randn(2, 3)\n",
    "b.a = new_value\n",
    "\n",
    "b"
   ]
  },
  {
   "cell_type": "code",
   "execution_count": 13,
   "id": "29b1d0bf",
   "metadata": {
    "execution": {
     "iopub.execute_input": "2023-02-28T03:39:42.826084Z",
     "iopub.status.busy": "2023-02-28T03:39:42.825621Z",
     "iopub.status.idle": "2023-02-28T03:39:46.828539Z",
     "shell.execute_reply": "2023-02-28T03:39:46.827629Z"
    }
   },
   "outputs": [
    {
     "name": "stdout",
     "output_type": "stream",
     "text": [
      "493 ns ± 0.104 ns per loop (mean ± std. dev. of 7 runs, 1,000,000 loops each)\n"
     ]
    }
   ],
   "source": [
    "%timeit b.a = new_value"
   ]
  },
  {
   "cell_type": "markdown",
   "id": "b61ad1d0",
   "metadata": {},
   "source": [
    "## Initialization"
   ]
  },
  {
   "cell_type": "markdown",
   "id": "d70f0d54",
   "metadata": {},
   "source": [
    "### TreeValue's Initialization"
   ]
  },
  {
   "cell_type": "code",
   "execution_count": 14,
   "id": "d32a679b",
   "metadata": {
    "execution": {
     "iopub.execute_input": "2023-02-28T03:39:46.831891Z",
     "iopub.status.busy": "2023-02-28T03:39:46.831503Z",
     "iopub.status.idle": "2023-02-28T03:39:53.540187Z",
     "shell.execute_reply": "2023-02-28T03:39:53.539297Z"
    }
   },
   "outputs": [
    {
     "name": "stdout",
     "output_type": "stream",
     "text": [
      "826 ns ± 3.56 ns per loop (mean ± std. dev. of 7 runs, 1,000,000 loops each)\n"
     ]
    }
   ],
   "source": [
    "%timeit FastTreeValue(_TREE_DATA_1)"
   ]
  },
  {
   "cell_type": "markdown",
   "id": "24f3707b",
   "metadata": {},
   "source": [
    "### Tianshou Batch's Initialization"
   ]
  },
  {
   "cell_type": "code",
   "execution_count": 15,
   "id": "ac3958df",
   "metadata": {
    "execution": {
     "iopub.execute_input": "2023-02-28T03:39:53.543772Z",
     "iopub.status.busy": "2023-02-28T03:39:53.543128Z",
     "iopub.status.idle": "2023-02-28T03:40:02.239263Z",
     "shell.execute_reply": "2023-02-28T03:40:02.238466Z"
    }
   },
   "outputs": [
    {
     "name": "stdout",
     "output_type": "stream",
     "text": [
      "10.7 µs ± 22.6 ns per loop (mean ± std. dev. of 7 runs, 100,000 loops each)\n"
     ]
    }
   ],
   "source": [
    "%timeit Batch(**_TREE_DATA_1)"
   ]
  },
  {
   "cell_type": "markdown",
   "id": "1ab82e2d",
   "metadata": {},
   "source": [
    "## Deep Copy Operation"
   ]
  },
  {
   "cell_type": "code",
   "execution_count": 16,
   "id": "210a9442",
   "metadata": {
    "execution": {
     "iopub.execute_input": "2023-02-28T03:40:02.242565Z",
     "iopub.status.busy": "2023-02-28T03:40:02.242120Z",
     "iopub.status.idle": "2023-02-28T03:40:02.246622Z",
     "shell.execute_reply": "2023-02-28T03:40:02.245966Z"
    }
   },
   "outputs": [],
   "source": [
    "import copy"
   ]
  },
  {
   "cell_type": "markdown",
   "id": "5a736274",
   "metadata": {},
   "source": [
    "### Deep Copy of TreeValue"
   ]
  },
  {
   "cell_type": "code",
   "execution_count": 17,
   "id": "f9bcadd6",
   "metadata": {
    "execution": {
     "iopub.execute_input": "2023-02-28T03:40:02.250035Z",
     "iopub.status.busy": "2023-02-28T03:40:02.249550Z",
     "iopub.status.idle": "2023-02-28T03:40:13.964436Z",
     "shell.execute_reply": "2023-02-28T03:40:13.963761Z"
    }
   },
   "outputs": [
    {
     "name": "stdout",
     "output_type": "stream",
     "text": [
      "144 µs ± 1.36 µs per loop (mean ± std. dev. of 7 runs, 10,000 loops each)\n"
     ]
    }
   ],
   "source": [
    "t3 = FastTreeValue(_TREE_DATA_3)\n",
    "%timeit copy.deepcopy(t3)"
   ]
  },
  {
   "cell_type": "markdown",
   "id": "bf8be7ea",
   "metadata": {},
   "source": [
    "### Deep Copy of Tianshou Batch"
   ]
  },
  {
   "cell_type": "code",
   "execution_count": 18,
   "id": "91998e6f",
   "metadata": {
    "execution": {
     "iopub.execute_input": "2023-02-28T03:40:13.967610Z",
     "iopub.status.busy": "2023-02-28T03:40:13.967078Z",
     "iopub.status.idle": "2023-02-28T03:40:25.557656Z",
     "shell.execute_reply": "2023-02-28T03:40:25.557024Z"
    }
   },
   "outputs": [
    {
     "name": "stdout",
     "output_type": "stream",
     "text": [
      "143 µs ± 1.13 µs per loop (mean ± std. dev. of 7 runs, 10,000 loops each)\n"
     ]
    }
   ],
   "source": [
    "b3 = Batch(**_TREE_DATA_3)\n",
    "%timeit copy.deepcopy(b3)"
   ]
  },
  {
   "cell_type": "markdown",
   "id": "223162fb",
   "metadata": {},
   "source": [
    "## Stack, Concat and Split Operation"
   ]
  },
  {
   "cell_type": "markdown",
   "id": "85fa4a73",
   "metadata": {},
   "source": [
    "### Performance of TreeValue"
   ]
  },
  {
   "cell_type": "code",
   "execution_count": 19,
   "id": "a0c2b697",
   "metadata": {
    "execution": {
     "iopub.execute_input": "2023-02-28T03:40:25.560796Z",
     "iopub.status.busy": "2023-02-28T03:40:25.560292Z",
     "iopub.status.idle": "2023-02-28T03:40:25.563804Z",
     "shell.execute_reply": "2023-02-28T03:40:25.563234Z"
    }
   },
   "outputs": [],
   "source": [
    "trees = [FastTreeValue(_TREE_DATA_2) for _ in range(8)]"
   ]
  },
  {
   "cell_type": "code",
   "execution_count": 20,
   "id": "017ea5a5",
   "metadata": {
    "execution": {
     "iopub.execute_input": "2023-02-28T03:40:25.566552Z",
     "iopub.status.busy": "2023-02-28T03:40:25.565924Z",
     "iopub.status.idle": "2023-02-28T03:40:25.573344Z",
     "shell.execute_reply": "2023-02-28T03:40:25.572775Z"
    }
   },
   "outputs": [
    {
     "data": {
      "text/plain": [
       "<FastTreeValue 0x7ff32400ed00>\n",
       "├── 'a' --> tensor([[[ 0.7776,  0.5591,  0.5727],\n",
       "│                    [ 0.4101, -0.2861, -0.1770]],\n",
       "│           \n",
       "│                   [[ 0.7776,  0.5591,  0.5727],\n",
       "│                    [ 0.4101, -0.2861, -0.1770]],\n",
       "│           \n",
       "│                   [[ 0.7776,  0.5591,  0.5727],\n",
       "│                    [ 0.4101, -0.2861, -0.1770]],\n",
       "│           \n",
       "│                   [[ 0.7776,  0.5591,  0.5727],\n",
       "│                    [ 0.4101, -0.2861, -0.1770]],\n",
       "│           \n",
       "│                   [[ 0.7776,  0.5591,  0.5727],\n",
       "│                    [ 0.4101, -0.2861, -0.1770]],\n",
       "│           \n",
       "│                   [[ 0.7776,  0.5591,  0.5727],\n",
       "│                    [ 0.4101, -0.2861, -0.1770]],\n",
       "│           \n",
       "│                   [[ 0.7776,  0.5591,  0.5727],\n",
       "│                    [ 0.4101, -0.2861, -0.1770]],\n",
       "│           \n",
       "│                   [[ 0.7776,  0.5591,  0.5727],\n",
       "│                    [ 0.4101, -0.2861, -0.1770]]])\n",
       "└── 'x' --> <FastTreeValue 0x7ff32400ecd0>\n",
       "    └── 'c' --> tensor([[[-0.9040,  1.0121,  0.3857,  0.2476],\n",
       "                         [ 1.4982, -0.4532, -1.7826, -0.0595],\n",
       "                         [-0.5794,  0.6884, -0.9104,  0.3354]],\n",
       "                \n",
       "                        [[-0.9040,  1.0121,  0.3857,  0.2476],\n",
       "                         [ 1.4982, -0.4532, -1.7826, -0.0595],\n",
       "                         [-0.5794,  0.6884, -0.9104,  0.3354]],\n",
       "                \n",
       "                        [[-0.9040,  1.0121,  0.3857,  0.2476],\n",
       "                         [ 1.4982, -0.4532, -1.7826, -0.0595],\n",
       "                         [-0.5794,  0.6884, -0.9104,  0.3354]],\n",
       "                \n",
       "                        [[-0.9040,  1.0121,  0.3857,  0.2476],\n",
       "                         [ 1.4982, -0.4532, -1.7826, -0.0595],\n",
       "                         [-0.5794,  0.6884, -0.9104,  0.3354]],\n",
       "                \n",
       "                        [[-0.9040,  1.0121,  0.3857,  0.2476],\n",
       "                         [ 1.4982, -0.4532, -1.7826, -0.0595],\n",
       "                         [-0.5794,  0.6884, -0.9104,  0.3354]],\n",
       "                \n",
       "                        [[-0.9040,  1.0121,  0.3857,  0.2476],\n",
       "                         [ 1.4982, -0.4532, -1.7826, -0.0595],\n",
       "                         [-0.5794,  0.6884, -0.9104,  0.3354]],\n",
       "                \n",
       "                        [[-0.9040,  1.0121,  0.3857,  0.2476],\n",
       "                         [ 1.4982, -0.4532, -1.7826, -0.0595],\n",
       "                         [-0.5794,  0.6884, -0.9104,  0.3354]],\n",
       "                \n",
       "                        [[-0.9040,  1.0121,  0.3857,  0.2476],\n",
       "                         [ 1.4982, -0.4532, -1.7826, -0.0595],\n",
       "                         [-0.5794,  0.6884, -0.9104,  0.3354]]])"
      ]
     },
     "execution_count": 20,
     "metadata": {},
     "output_type": "execute_result"
    }
   ],
   "source": [
    "t_stack = FastTreeValue.func(subside=True)(torch.stack)\n",
    "\n",
    "t_stack(trees)"
   ]
  },
  {
   "cell_type": "code",
   "execution_count": 21,
   "id": "f8b3f415",
   "metadata": {
    "execution": {
     "iopub.execute_input": "2023-02-28T03:40:25.575962Z",
     "iopub.status.busy": "2023-02-28T03:40:25.575496Z",
     "iopub.status.idle": "2023-02-28T03:40:28.180814Z",
     "shell.execute_reply": "2023-02-28T03:40:28.179979Z"
    }
   },
   "outputs": [
    {
     "name": "stdout",
     "output_type": "stream",
     "text": [
      "32 µs ± 60.6 ns per loop (mean ± std. dev. of 7 runs, 10,000 loops each)\n"
     ]
    }
   ],
   "source": [
    "%timeit t_stack(trees)"
   ]
  },
  {
   "cell_type": "code",
   "execution_count": 22,
   "id": "94b56771",
   "metadata": {
    "execution": {
     "iopub.execute_input": "2023-02-28T03:40:28.184046Z",
     "iopub.status.busy": "2023-02-28T03:40:28.183628Z",
     "iopub.status.idle": "2023-02-28T03:40:28.191303Z",
     "shell.execute_reply": "2023-02-28T03:40:28.190583Z"
    }
   },
   "outputs": [
    {
     "data": {
      "text/plain": [
       "<FastTreeValue 0x7ff32ac0bc10>\n",
       "├── 'a' --> tensor([[ 0.7776,  0.5591,  0.5727],\n",
       "│                   [ 0.4101, -0.2861, -0.1770],\n",
       "│                   [ 0.7776,  0.5591,  0.5727],\n",
       "│                   [ 0.4101, -0.2861, -0.1770],\n",
       "│                   [ 0.7776,  0.5591,  0.5727],\n",
       "│                   [ 0.4101, -0.2861, -0.1770],\n",
       "│                   [ 0.7776,  0.5591,  0.5727],\n",
       "│                   [ 0.4101, -0.2861, -0.1770],\n",
       "│                   [ 0.7776,  0.5591,  0.5727],\n",
       "│                   [ 0.4101, -0.2861, -0.1770],\n",
       "│                   [ 0.7776,  0.5591,  0.5727],\n",
       "│                   [ 0.4101, -0.2861, -0.1770],\n",
       "│                   [ 0.7776,  0.5591,  0.5727],\n",
       "│                   [ 0.4101, -0.2861, -0.1770],\n",
       "│                   [ 0.7776,  0.5591,  0.5727],\n",
       "│                   [ 0.4101, -0.2861, -0.1770]])\n",
       "└── 'x' --> <FastTreeValue 0x7ff32400eac0>\n",
       "    └── 'c' --> tensor([[-0.9040,  1.0121,  0.3857,  0.2476],\n",
       "                        [ 1.4982, -0.4532, -1.7826, -0.0595],\n",
       "                        [-0.5794,  0.6884, -0.9104,  0.3354],\n",
       "                        [-0.9040,  1.0121,  0.3857,  0.2476],\n",
       "                        [ 1.4982, -0.4532, -1.7826, -0.0595],\n",
       "                        [-0.5794,  0.6884, -0.9104,  0.3354],\n",
       "                        [-0.9040,  1.0121,  0.3857,  0.2476],\n",
       "                        [ 1.4982, -0.4532, -1.7826, -0.0595],\n",
       "                        [-0.5794,  0.6884, -0.9104,  0.3354],\n",
       "                        [-0.9040,  1.0121,  0.3857,  0.2476],\n",
       "                        [ 1.4982, -0.4532, -1.7826, -0.0595],\n",
       "                        [-0.5794,  0.6884, -0.9104,  0.3354],\n",
       "                        [-0.9040,  1.0121,  0.3857,  0.2476],\n",
       "                        [ 1.4982, -0.4532, -1.7826, -0.0595],\n",
       "                        [-0.5794,  0.6884, -0.9104,  0.3354],\n",
       "                        [-0.9040,  1.0121,  0.3857,  0.2476],\n",
       "                        [ 1.4982, -0.4532, -1.7826, -0.0595],\n",
       "                        [-0.5794,  0.6884, -0.9104,  0.3354],\n",
       "                        [-0.9040,  1.0121,  0.3857,  0.2476],\n",
       "                        [ 1.4982, -0.4532, -1.7826, -0.0595],\n",
       "                        [-0.5794,  0.6884, -0.9104,  0.3354],\n",
       "                        [-0.9040,  1.0121,  0.3857,  0.2476],\n",
       "                        [ 1.4982, -0.4532, -1.7826, -0.0595],\n",
       "                        [-0.5794,  0.6884, -0.9104,  0.3354]])"
      ]
     },
     "execution_count": 22,
     "metadata": {},
     "output_type": "execute_result"
    }
   ],
   "source": [
    "t_cat = FastTreeValue.func(subside=True)(torch.cat)\n",
    "\n",
    "t_cat(trees)"
   ]
  },
  {
   "cell_type": "code",
   "execution_count": 23,
   "id": "5e9c06a6",
   "metadata": {
    "execution": {
     "iopub.execute_input": "2023-02-28T03:40:28.194269Z",
     "iopub.status.busy": "2023-02-28T03:40:28.193700Z",
     "iopub.status.idle": "2023-02-28T03:40:30.645219Z",
     "shell.execute_reply": "2023-02-28T03:40:30.644316Z"
    }
   },
   "outputs": [
    {
     "name": "stdout",
     "output_type": "stream",
     "text": [
      "30.1 µs ± 61.8 ns per loop (mean ± std. dev. of 7 runs, 10,000 loops each)\n"
     ]
    }
   ],
   "source": [
    "%timeit t_cat(trees)"
   ]
  },
  {
   "cell_type": "code",
   "execution_count": 24,
   "id": "a3ab5c8f",
   "metadata": {
    "execution": {
     "iopub.execute_input": "2023-02-28T03:40:30.648807Z",
     "iopub.status.busy": "2023-02-28T03:40:30.648332Z",
     "iopub.status.idle": "2023-02-28T03:40:35.319907Z",
     "shell.execute_reply": "2023-02-28T03:40:35.319038Z"
    }
   },
   "outputs": [
    {
     "name": "stdout",
     "output_type": "stream",
     "text": [
      "57.5 µs ± 66 ns per loop (mean ± std. dev. of 7 runs, 10,000 loops each)\n"
     ]
    }
   ],
   "source": [
    "t_split = FastTreeValue.func(rise=True)(torch.split)\n",
    "tree = FastTreeValue({\n",
    "    'obs': torch.randn(8, 4, 84, 84),\n",
    "    'action': torch.randint(0, 6, size=(8, 1,)),\n",
    "    'reward': torch.rand(8, 1),\n",
    "})\n",
    "\n",
    "%timeit t_split(tree, 1)"
   ]
  },
  {
   "cell_type": "markdown",
   "id": "31c3ec0b",
   "metadata": {},
   "source": [
    "### Performance of Tianshou Batch"
   ]
  },
  {
   "cell_type": "code",
   "execution_count": 25,
   "id": "9ead828a",
   "metadata": {
    "execution": {
     "iopub.execute_input": "2023-02-28T03:40:35.323678Z",
     "iopub.status.busy": "2023-02-28T03:40:35.323097Z",
     "iopub.status.idle": "2023-02-28T03:40:35.331518Z",
     "shell.execute_reply": "2023-02-28T03:40:35.330872Z"
    }
   },
   "outputs": [
    {
     "data": {
      "text/plain": [
       "Batch(\n",
       "    a: tensor([[[ 0.7776,  0.5591,  0.5727],\n",
       "                [ 0.4101, -0.2861, -0.1770]],\n",
       "       \n",
       "               [[ 0.7776,  0.5591,  0.5727],\n",
       "                [ 0.4101, -0.2861, -0.1770]],\n",
       "       \n",
       "               [[ 0.7776,  0.5591,  0.5727],\n",
       "                [ 0.4101, -0.2861, -0.1770]],\n",
       "       \n",
       "               [[ 0.7776,  0.5591,  0.5727],\n",
       "                [ 0.4101, -0.2861, -0.1770]],\n",
       "       \n",
       "               [[ 0.7776,  0.5591,  0.5727],\n",
       "                [ 0.4101, -0.2861, -0.1770]],\n",
       "       \n",
       "               [[ 0.7776,  0.5591,  0.5727],\n",
       "                [ 0.4101, -0.2861, -0.1770]],\n",
       "       \n",
       "               [[ 0.7776,  0.5591,  0.5727],\n",
       "                [ 0.4101, -0.2861, -0.1770]],\n",
       "       \n",
       "               [[ 0.7776,  0.5591,  0.5727],\n",
       "                [ 0.4101, -0.2861, -0.1770]]]),\n",
       "    x: Batch(\n",
       "           c: tensor([[[-0.9040,  1.0121,  0.3857,  0.2476],\n",
       "                       [ 1.4982, -0.4532, -1.7826, -0.0595],\n",
       "                       [-0.5794,  0.6884, -0.9104,  0.3354]],\n",
       "              \n",
       "                      [[-0.9040,  1.0121,  0.3857,  0.2476],\n",
       "                       [ 1.4982, -0.4532, -1.7826, -0.0595],\n",
       "                       [-0.5794,  0.6884, -0.9104,  0.3354]],\n",
       "              \n",
       "                      [[-0.9040,  1.0121,  0.3857,  0.2476],\n",
       "                       [ 1.4982, -0.4532, -1.7826, -0.0595],\n",
       "                       [-0.5794,  0.6884, -0.9104,  0.3354]],\n",
       "              \n",
       "                      [[-0.9040,  1.0121,  0.3857,  0.2476],\n",
       "                       [ 1.4982, -0.4532, -1.7826, -0.0595],\n",
       "                       [-0.5794,  0.6884, -0.9104,  0.3354]],\n",
       "              \n",
       "                      [[-0.9040,  1.0121,  0.3857,  0.2476],\n",
       "                       [ 1.4982, -0.4532, -1.7826, -0.0595],\n",
       "                       [-0.5794,  0.6884, -0.9104,  0.3354]],\n",
       "              \n",
       "                      [[-0.9040,  1.0121,  0.3857,  0.2476],\n",
       "                       [ 1.4982, -0.4532, -1.7826, -0.0595],\n",
       "                       [-0.5794,  0.6884, -0.9104,  0.3354]],\n",
       "              \n",
       "                      [[-0.9040,  1.0121,  0.3857,  0.2476],\n",
       "                       [ 1.4982, -0.4532, -1.7826, -0.0595],\n",
       "                       [-0.5794,  0.6884, -0.9104,  0.3354]],\n",
       "              \n",
       "                      [[-0.9040,  1.0121,  0.3857,  0.2476],\n",
       "                       [ 1.4982, -0.4532, -1.7826, -0.0595],\n",
       "                       [-0.5794,  0.6884, -0.9104,  0.3354]]]),\n",
       "       ),\n",
       ")"
      ]
     },
     "execution_count": 25,
     "metadata": {},
     "output_type": "execute_result"
    }
   ],
   "source": [
    "batches = [Batch(**_TREE_DATA_2) for _ in range(8)]\n",
    "\n",
    "Batch.stack(batches)"
   ]
  },
  {
   "cell_type": "code",
   "execution_count": 26,
   "id": "ec9037a3",
   "metadata": {
    "execution": {
     "iopub.execute_input": "2023-02-28T03:40:35.334807Z",
     "iopub.status.busy": "2023-02-28T03:40:35.334270Z",
     "iopub.status.idle": "2023-02-28T03:40:41.691879Z",
     "shell.execute_reply": "2023-02-28T03:40:41.690992Z"
    }
   },
   "outputs": [
    {
     "name": "stdout",
     "output_type": "stream",
     "text": [
      "78.1 µs ± 162 ns per loop (mean ± std. dev. of 7 runs, 10,000 loops each)\n"
     ]
    }
   ],
   "source": [
    "%timeit Batch.stack(batches)"
   ]
  },
  {
   "cell_type": "code",
   "execution_count": 27,
   "id": "cb8ab77e",
   "metadata": {
    "execution": {
     "iopub.execute_input": "2023-02-28T03:40:41.695753Z",
     "iopub.status.busy": "2023-02-28T03:40:41.695151Z",
     "iopub.status.idle": "2023-02-28T03:40:41.703272Z",
     "shell.execute_reply": "2023-02-28T03:40:41.702630Z"
    }
   },
   "outputs": [
    {
     "data": {
      "text/plain": [
       "Batch(\n",
       "    a: tensor([[ 0.7776,  0.5591,  0.5727],\n",
       "               [ 0.4101, -0.2861, -0.1770],\n",
       "               [ 0.7776,  0.5591,  0.5727],\n",
       "               [ 0.4101, -0.2861, -0.1770],\n",
       "               [ 0.7776,  0.5591,  0.5727],\n",
       "               [ 0.4101, -0.2861, -0.1770],\n",
       "               [ 0.7776,  0.5591,  0.5727],\n",
       "               [ 0.4101, -0.2861, -0.1770],\n",
       "               [ 0.7776,  0.5591,  0.5727],\n",
       "               [ 0.4101, -0.2861, -0.1770],\n",
       "               [ 0.7776,  0.5591,  0.5727],\n",
       "               [ 0.4101, -0.2861, -0.1770],\n",
       "               [ 0.7776,  0.5591,  0.5727],\n",
       "               [ 0.4101, -0.2861, -0.1770],\n",
       "               [ 0.7776,  0.5591,  0.5727],\n",
       "               [ 0.4101, -0.2861, -0.1770]]),\n",
       "    x: Batch(\n",
       "           c: tensor([[-0.9040,  1.0121,  0.3857,  0.2476],\n",
       "                      [ 1.4982, -0.4532, -1.7826, -0.0595],\n",
       "                      [-0.5794,  0.6884, -0.9104,  0.3354],\n",
       "                      [-0.9040,  1.0121,  0.3857,  0.2476],\n",
       "                      [ 1.4982, -0.4532, -1.7826, -0.0595],\n",
       "                      [-0.5794,  0.6884, -0.9104,  0.3354],\n",
       "                      [-0.9040,  1.0121,  0.3857,  0.2476],\n",
       "                      [ 1.4982, -0.4532, -1.7826, -0.0595],\n",
       "                      [-0.5794,  0.6884, -0.9104,  0.3354],\n",
       "                      [-0.9040,  1.0121,  0.3857,  0.2476],\n",
       "                      [ 1.4982, -0.4532, -1.7826, -0.0595],\n",
       "                      [-0.5794,  0.6884, -0.9104,  0.3354],\n",
       "                      [-0.9040,  1.0121,  0.3857,  0.2476],\n",
       "                      [ 1.4982, -0.4532, -1.7826, -0.0595],\n",
       "                      [-0.5794,  0.6884, -0.9104,  0.3354],\n",
       "                      [-0.9040,  1.0121,  0.3857,  0.2476],\n",
       "                      [ 1.4982, -0.4532, -1.7826, -0.0595],\n",
       "                      [-0.5794,  0.6884, -0.9104,  0.3354],\n",
       "                      [-0.9040,  1.0121,  0.3857,  0.2476],\n",
       "                      [ 1.4982, -0.4532, -1.7826, -0.0595],\n",
       "                      [-0.5794,  0.6884, -0.9104,  0.3354],\n",
       "                      [-0.9040,  1.0121,  0.3857,  0.2476],\n",
       "                      [ 1.4982, -0.4532, -1.7826, -0.0595],\n",
       "                      [-0.5794,  0.6884, -0.9104,  0.3354]]),\n",
       "       ),\n",
       ")"
      ]
     },
     "execution_count": 27,
     "metadata": {},
     "output_type": "execute_result"
    }
   ],
   "source": [
    "Batch.cat(batches)"
   ]
  },
  {
   "cell_type": "code",
   "execution_count": 28,
   "id": "18dfb045",
   "metadata": {
    "execution": {
     "iopub.execute_input": "2023-02-28T03:40:41.706495Z",
     "iopub.status.busy": "2023-02-28T03:40:41.705956Z",
     "iopub.status.idle": "2023-02-28T03:40:53.300052Z",
     "shell.execute_reply": "2023-02-28T03:40:53.299162Z"
    }
   },
   "outputs": [
    {
     "name": "stdout",
     "output_type": "stream",
     "text": [
      "142 µs ± 259 ns per loop (mean ± std. dev. of 7 runs, 10,000 loops each)\n"
     ]
    }
   ],
   "source": [
    "%timeit Batch.cat(batches)"
   ]
  },
  {
   "cell_type": "code",
   "execution_count": 29,
   "id": "c6688e51",
   "metadata": {
    "execution": {
     "iopub.execute_input": "2023-02-28T03:40:53.304095Z",
     "iopub.status.busy": "2023-02-28T03:40:53.303423Z",
     "iopub.status.idle": "2023-02-28T03:40:55.999333Z",
     "shell.execute_reply": "2023-02-28T03:40:55.998508Z"
    }
   },
   "outputs": [
    {
     "name": "stdout",
     "output_type": "stream",
     "text": [
      "331 µs ± 2.77 µs per loop (mean ± std. dev. of 7 runs, 1,000 loops each)\n"
     ]
    }
   ],
   "source": [
    "batch = Batch({\n",
    "    'obs': torch.randn(8, 4, 84, 84),\n",
    "    'action': torch.randint(0, 6, size=(8, 1,)),\n",
    "    'reward': torch.rand(8, 1)}\n",
    ")\n",
    "\n",
    "%timeit list(Batch.split(batch, 1, shuffle=False, merge_last=True))"
   ]
  },
  {
   "cell_type": "code",
   "execution_count": null,
   "id": "2539fbd9",
   "metadata": {},
   "outputs": [],
   "source": []
  }
 ],
 "metadata": {
  "kernelspec": {
   "display_name": "Python 3 (ipykernel)",
   "language": "python",
   "name": "python3"
  },
  "language_info": {
   "codemirror_mode": {
    "name": "ipython",
    "version": 3
   },
   "file_extension": ".py",
   "mimetype": "text/x-python",
   "name": "python",
   "nbconvert_exporter": "python",
   "pygments_lexer": "ipython3",
   "version": "3.8.16"
  }
 },
 "nbformat": 4,
 "nbformat_minor": 5
}
