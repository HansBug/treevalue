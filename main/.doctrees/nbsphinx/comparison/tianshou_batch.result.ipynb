{
 "cells": [
  {
   "cell_type": "markdown",
   "id": "9d39d946",
   "metadata": {},
   "source": [
    "# Comparison Between TreeValue and Tianshou Batch"
   ]
  },
  {
   "cell_type": "markdown",
   "id": "3c6db2d4",
   "metadata": {},
   "source": [
    "In this section, we will take a look at the feature and performance of the [Tianshou Batch](https://github.com/thu-ml/tianshou) library, which is developed by Tsinghua Machine Learning Group."
   ]
  },
  {
   "cell_type": "markdown",
   "id": "069361b0",
   "metadata": {},
   "source": [
    "Before starting the comparison, let us define some thing."
   ]
  },
  {
   "cell_type": "code",
   "execution_count": 1,
   "id": "06fc8d26",
   "metadata": {
    "execution": {
     "iopub.execute_input": "2023-02-26T14:52:53.095237Z",
     "iopub.status.busy": "2023-02-26T14:52:53.094951Z",
     "iopub.status.idle": "2023-02-26T14:52:54.333161Z",
     "shell.execute_reply": "2023-02-26T14:52:54.332045Z"
    }
   },
   "outputs": [
    {
     "name": "stderr",
     "output_type": "stream",
     "text": [
      "/opt/hostedtoolcache/Python/3.8.16/x64/lib/python3.8/site-packages/tqdm/auto.py:22: TqdmWarning: IProgress not found. Please update jupyter and ipywidgets. See https://ipywidgets.readthedocs.io/en/stable/user_install.html\n",
      "  from .autonotebook import tqdm as notebook_tqdm\n"
     ]
    }
   ],
   "source": [
    "import torch \n",
    "\n",
    "_TREE_DATA_1 = {'a': 1, 'b': 2, 'x': {'c': 3, 'd': 4}}\n",
    "_TREE_DATA_2 = {\n",
    "    'a': torch.randn(2, 3), \n",
    "    'x': {\n",
    "        'c': torch.randn(3, 4)\n",
    "    },\n",
    "}\n",
    "_TREE_DATA_3 = {\n",
    "    'obs': torch.randn(4, 84, 84),\n",
    "    'action': torch.randint(0, 6, size=(1,)),\n",
    "    'reward': torch.rand(1),\n",
    "}"
   ]
  },
  {
   "cell_type": "markdown",
   "id": "83461b25",
   "metadata": {},
   "source": [
    "## Read and Write Operation"
   ]
  },
  {
   "cell_type": "markdown",
   "id": "067b3f73",
   "metadata": {},
   "source": [
    "Reading and writing are the two most common operations in the tree data structure based on the data model (TreeValue and Tianshou Batch both belong to this type), so this section will compare the reading and writing performance of these two libraries."
   ]
  },
  {
   "cell_type": "markdown",
   "id": "5d09a5b7",
   "metadata": {},
   "source": [
    "### TreeValue's Get and Set"
   ]
  },
  {
   "cell_type": "code",
   "execution_count": 2,
   "id": "9519c4bb",
   "metadata": {
    "execution": {
     "iopub.execute_input": "2023-02-26T14:52:54.337686Z",
     "iopub.status.busy": "2023-02-26T14:52:54.337297Z",
     "iopub.status.idle": "2023-02-26T14:52:54.385905Z",
     "shell.execute_reply": "2023-02-26T14:52:54.384640Z"
    }
   },
   "outputs": [],
   "source": [
    "from treevalue import FastTreeValue\n",
    "\n",
    "t = FastTreeValue(_TREE_DATA_2)"
   ]
  },
  {
   "cell_type": "code",
   "execution_count": 3,
   "id": "11c37677",
   "metadata": {
    "execution": {
     "iopub.execute_input": "2023-02-26T14:52:54.391536Z",
     "iopub.status.busy": "2023-02-26T14:52:54.389902Z",
     "iopub.status.idle": "2023-02-26T14:52:54.402706Z",
     "shell.execute_reply": "2023-02-26T14:52:54.401744Z"
    }
   },
   "outputs": [
    {
     "data": {
      "text/plain": [
       "<FastTreeValue 0x7f3984722df0>\n",
       "├── 'a' --> tensor([[ 0.0681, -0.7896, -0.1176],\n",
       "│                   [-1.0033, -0.3225, -0.5124]])\n",
       "└── 'x' --> <FastTreeValue 0x7f3984722dc0>\n",
       "    └── 'c' --> tensor([[ 0.5641,  0.1643,  0.4523,  1.2227],\n",
       "                        [-1.4184,  0.3431, -0.4516,  0.7327],\n",
       "                        [ 0.5444,  0.2494,  0.5621,  0.0514]])"
      ]
     },
     "execution_count": 3,
     "metadata": {},
     "output_type": "execute_result"
    }
   ],
   "source": [
    "t"
   ]
  },
  {
   "cell_type": "code",
   "execution_count": 4,
   "id": "fd70b0b9",
   "metadata": {
    "execution": {
     "iopub.execute_input": "2023-02-26T14:52:54.406828Z",
     "iopub.status.busy": "2023-02-26T14:52:54.406535Z",
     "iopub.status.idle": "2023-02-26T14:52:54.412739Z",
     "shell.execute_reply": "2023-02-26T14:52:54.411827Z"
    }
   },
   "outputs": [
    {
     "data": {
      "text/plain": [
       "tensor([[ 0.0681, -0.7896, -0.1176],\n",
       "        [-1.0033, -0.3225, -0.5124]])"
      ]
     },
     "execution_count": 4,
     "metadata": {},
     "output_type": "execute_result"
    }
   ],
   "source": [
    "t.a"
   ]
  },
  {
   "cell_type": "code",
   "execution_count": 5,
   "id": "c18197bd",
   "metadata": {
    "execution": {
     "iopub.execute_input": "2023-02-26T14:52:54.416317Z",
     "iopub.status.busy": "2023-02-26T14:52:54.415692Z",
     "iopub.status.idle": "2023-02-26T14:53:00.283343Z",
     "shell.execute_reply": "2023-02-26T14:53:00.282298Z"
    }
   },
   "outputs": [
    {
     "name": "stdout",
     "output_type": "stream",
     "text": [
      "72.2 ns ± 0.793 ns per loop (mean ± std. dev. of 7 runs, 10,000,000 loops each)\n"
     ]
    }
   ],
   "source": [
    "%timeit t.a"
   ]
  },
  {
   "cell_type": "code",
   "execution_count": 6,
   "id": "bd52f867",
   "metadata": {
    "execution": {
     "iopub.execute_input": "2023-02-26T14:53:00.287020Z",
     "iopub.status.busy": "2023-02-26T14:53:00.286580Z",
     "iopub.status.idle": "2023-02-26T14:53:00.294484Z",
     "shell.execute_reply": "2023-02-26T14:53:00.293558Z"
    }
   },
   "outputs": [
    {
     "data": {
      "text/plain": [
       "<FastTreeValue 0x7f3984722df0>\n",
       "├── 'a' --> tensor([[-0.5006,  0.7959,  1.3841],\n",
       "│                   [-0.3916, -0.5306,  0.8064]])\n",
       "└── 'x' --> <FastTreeValue 0x7f3984722dc0>\n",
       "    └── 'c' --> tensor([[ 0.5641,  0.1643,  0.4523,  1.2227],\n",
       "                        [-1.4184,  0.3431, -0.4516,  0.7327],\n",
       "                        [ 0.5444,  0.2494,  0.5621,  0.0514]])"
      ]
     },
     "execution_count": 6,
     "metadata": {},
     "output_type": "execute_result"
    }
   ],
   "source": [
    "new_value = torch.randn(2, 3)\n",
    "t.a = new_value\n",
    "\n",
    "t"
   ]
  },
  {
   "cell_type": "code",
   "execution_count": 7,
   "id": "bbe04d1c",
   "metadata": {
    "execution": {
     "iopub.execute_input": "2023-02-26T14:53:00.298365Z",
     "iopub.status.busy": "2023-02-26T14:53:00.297820Z",
     "iopub.status.idle": "2023-02-26T14:53:06.148018Z",
     "shell.execute_reply": "2023-02-26T14:53:06.146823Z"
    }
   },
   "outputs": [
    {
     "name": "stdout",
     "output_type": "stream",
     "text": [
      "72.2 ns ± 1.53 ns per loop (mean ± std. dev. of 7 runs, 10,000,000 loops each)\n"
     ]
    }
   ],
   "source": [
    "%timeit t.a = new_value"
   ]
  },
  {
   "cell_type": "markdown",
   "id": "48c49731",
   "metadata": {},
   "source": [
    "### Tianshou Batch's Get and Set"
   ]
  },
  {
   "cell_type": "code",
   "execution_count": 8,
   "id": "f1bb14c1",
   "metadata": {
    "execution": {
     "iopub.execute_input": "2023-02-26T14:53:06.151726Z",
     "iopub.status.busy": "2023-02-26T14:53:06.151412Z",
     "iopub.status.idle": "2023-02-26T14:53:06.608274Z",
     "shell.execute_reply": "2023-02-26T14:53:06.607235Z"
    }
   },
   "outputs": [],
   "source": [
    "from tianshou.data import Batch\n",
    "\n",
    "b = Batch(**_TREE_DATA_2)"
   ]
  },
  {
   "cell_type": "code",
   "execution_count": 9,
   "id": "cb0777c3",
   "metadata": {
    "execution": {
     "iopub.execute_input": "2023-02-26T14:53:06.612366Z",
     "iopub.status.busy": "2023-02-26T14:53:06.611966Z",
     "iopub.status.idle": "2023-02-26T14:53:06.620331Z",
     "shell.execute_reply": "2023-02-26T14:53:06.619385Z"
    }
   },
   "outputs": [
    {
     "data": {
      "text/plain": [
       "Batch(\n",
       "    a: tensor([[ 0.0681, -0.7896, -0.1176],\n",
       "               [-1.0033, -0.3225, -0.5124]]),\n",
       "    x: Batch(\n",
       "           c: tensor([[ 0.5641,  0.1643,  0.4523,  1.2227],\n",
       "                      [-1.4184,  0.3431, -0.4516,  0.7327],\n",
       "                      [ 0.5444,  0.2494,  0.5621,  0.0514]]),\n",
       "       ),\n",
       ")"
      ]
     },
     "execution_count": 9,
     "metadata": {},
     "output_type": "execute_result"
    }
   ],
   "source": [
    "b"
   ]
  },
  {
   "cell_type": "code",
   "execution_count": 10,
   "id": "43ef8ea3",
   "metadata": {
    "execution": {
     "iopub.execute_input": "2023-02-26T14:53:06.623897Z",
     "iopub.status.busy": "2023-02-26T14:53:06.623617Z",
     "iopub.status.idle": "2023-02-26T14:53:06.630513Z",
     "shell.execute_reply": "2023-02-26T14:53:06.629424Z"
    }
   },
   "outputs": [
    {
     "data": {
      "text/plain": [
       "tensor([[ 0.0681, -0.7896, -0.1176],\n",
       "        [-1.0033, -0.3225, -0.5124]])"
      ]
     },
     "execution_count": 10,
     "metadata": {},
     "output_type": "execute_result"
    }
   ],
   "source": [
    "b.a"
   ]
  },
  {
   "cell_type": "code",
   "execution_count": 11,
   "id": "b785ab72",
   "metadata": {
    "execution": {
     "iopub.execute_input": "2023-02-26T14:53:06.633525Z",
     "iopub.status.busy": "2023-02-26T14:53:06.633222Z",
     "iopub.status.idle": "2023-02-26T14:53:12.060386Z",
     "shell.execute_reply": "2023-02-26T14:53:12.059035Z"
    }
   },
   "outputs": [
    {
     "name": "stdout",
     "output_type": "stream",
     "text": [
      "66.6 ns ± 0.993 ns per loop (mean ± std. dev. of 7 runs, 10,000,000 loops each)\n"
     ]
    }
   ],
   "source": [
    "%timeit b.a"
   ]
  },
  {
   "cell_type": "code",
   "execution_count": 12,
   "id": "ad54dc69",
   "metadata": {
    "execution": {
     "iopub.execute_input": "2023-02-26T14:53:12.064086Z",
     "iopub.status.busy": "2023-02-26T14:53:12.063797Z",
     "iopub.status.idle": "2023-02-26T14:53:12.072520Z",
     "shell.execute_reply": "2023-02-26T14:53:12.071600Z"
    }
   },
   "outputs": [
    {
     "data": {
      "text/plain": [
       "Batch(\n",
       "    a: tensor([[-0.3508, -0.8219, -0.1764],\n",
       "               [-0.1567, -0.7645,  0.6253]]),\n",
       "    x: Batch(\n",
       "           c: tensor([[ 0.5641,  0.1643,  0.4523,  1.2227],\n",
       "                      [-1.4184,  0.3431, -0.4516,  0.7327],\n",
       "                      [ 0.5444,  0.2494,  0.5621,  0.0514]]),\n",
       "       ),\n",
       ")"
      ]
     },
     "execution_count": 12,
     "metadata": {},
     "output_type": "execute_result"
    }
   ],
   "source": [
    "new_value = torch.randn(2, 3)\n",
    "b.a = new_value\n",
    "\n",
    "b"
   ]
  },
  {
   "cell_type": "code",
   "execution_count": 13,
   "id": "29b1d0bf",
   "metadata": {
    "execution": {
     "iopub.execute_input": "2023-02-26T14:53:12.076266Z",
     "iopub.status.busy": "2023-02-26T14:53:12.075953Z",
     "iopub.status.idle": "2023-02-26T14:53:17.118089Z",
     "shell.execute_reply": "2023-02-26T14:53:17.117178Z"
    }
   },
   "outputs": [
    {
     "name": "stdout",
     "output_type": "stream",
     "text": [
      "621 ns ± 7.71 ns per loop (mean ± std. dev. of 7 runs, 1,000,000 loops each)\n"
     ]
    }
   ],
   "source": [
    "%timeit b.a = new_value"
   ]
  },
  {
   "cell_type": "markdown",
   "id": "b61ad1d0",
   "metadata": {},
   "source": [
    "## Initialization"
   ]
  },
  {
   "cell_type": "markdown",
   "id": "d70f0d54",
   "metadata": {},
   "source": [
    "### TreeValue's Initialization"
   ]
  },
  {
   "cell_type": "code",
   "execution_count": 14,
   "id": "d32a679b",
   "metadata": {
    "execution": {
     "iopub.execute_input": "2023-02-26T14:53:17.122495Z",
     "iopub.status.busy": "2023-02-26T14:53:17.121771Z",
     "iopub.status.idle": "2023-02-26T14:53:25.342835Z",
     "shell.execute_reply": "2023-02-26T14:53:25.341382Z"
    }
   },
   "outputs": [
    {
     "name": "stdout",
     "output_type": "stream",
     "text": [
      "1.01 µs ± 9.92 ns per loop (mean ± std. dev. of 7 runs, 1,000,000 loops each)\n"
     ]
    }
   ],
   "source": [
    "%timeit FastTreeValue(_TREE_DATA_1)"
   ]
  },
  {
   "cell_type": "markdown",
   "id": "24f3707b",
   "metadata": {},
   "source": [
    "### Tianshou Batch's Initialization"
   ]
  },
  {
   "cell_type": "code",
   "execution_count": 15,
   "id": "ac3958df",
   "metadata": {
    "execution": {
     "iopub.execute_input": "2023-02-26T14:53:25.346491Z",
     "iopub.status.busy": "2023-02-26T14:53:25.346212Z",
     "iopub.status.idle": "2023-02-26T14:53:36.193535Z",
     "shell.execute_reply": "2023-02-26T14:53:36.192519Z"
    }
   },
   "outputs": [
    {
     "name": "stdout",
     "output_type": "stream",
     "text": [
      "13.3 µs ± 139 ns per loop (mean ± std. dev. of 7 runs, 100,000 loops each)\n"
     ]
    }
   ],
   "source": [
    "%timeit Batch(**_TREE_DATA_1)"
   ]
  },
  {
   "cell_type": "markdown",
   "id": "1ab82e2d",
   "metadata": {},
   "source": [
    "## Deep Copy Operation"
   ]
  },
  {
   "cell_type": "code",
   "execution_count": 16,
   "id": "210a9442",
   "metadata": {
    "execution": {
     "iopub.execute_input": "2023-02-26T14:53:36.197165Z",
     "iopub.status.busy": "2023-02-26T14:53:36.196865Z",
     "iopub.status.idle": "2023-02-26T14:53:36.202390Z",
     "shell.execute_reply": "2023-02-26T14:53:36.201439Z"
    }
   },
   "outputs": [],
   "source": [
    "import copy"
   ]
  },
  {
   "cell_type": "markdown",
   "id": "5a736274",
   "metadata": {},
   "source": [
    "### Deep Copy of TreeValue"
   ]
  },
  {
   "cell_type": "code",
   "execution_count": 17,
   "id": "f9bcadd6",
   "metadata": {
    "execution": {
     "iopub.execute_input": "2023-02-26T14:53:36.205900Z",
     "iopub.status.busy": "2023-02-26T14:53:36.205362Z",
     "iopub.status.idle": "2023-02-26T14:53:38.638728Z",
     "shell.execute_reply": "2023-02-26T14:53:38.637893Z"
    }
   },
   "outputs": [
    {
     "name": "stdout",
     "output_type": "stream",
     "text": [
      "301 µs ± 13.7 µs per loop (mean ± std. dev. of 7 runs, 1,000 loops each)\n"
     ]
    }
   ],
   "source": [
    "t3 = FastTreeValue(_TREE_DATA_3)\n",
    "%timeit copy.deepcopy(t3)"
   ]
  },
  {
   "cell_type": "markdown",
   "id": "bf8be7ea",
   "metadata": {},
   "source": [
    "### Deep Copy of Tianshou Batch"
   ]
  },
  {
   "cell_type": "code",
   "execution_count": 18,
   "id": "91998e6f",
   "metadata": {
    "execution": {
     "iopub.execute_input": "2023-02-26T14:53:38.642702Z",
     "iopub.status.busy": "2023-02-26T14:53:38.641841Z",
     "iopub.status.idle": "2023-02-26T14:53:40.952201Z",
     "shell.execute_reply": "2023-02-26T14:53:40.951353Z"
    }
   },
   "outputs": [
    {
     "name": "stdout",
     "output_type": "stream",
     "text": [
      "284 µs ± 3.81 µs per loop (mean ± std. dev. of 7 runs, 1,000 loops each)\n"
     ]
    }
   ],
   "source": [
    "b3 = Batch(**_TREE_DATA_3)\n",
    "%timeit copy.deepcopy(b3)"
   ]
  },
  {
   "cell_type": "markdown",
   "id": "223162fb",
   "metadata": {},
   "source": [
    "## Stack, Concat and Split Operation"
   ]
  },
  {
   "cell_type": "markdown",
   "id": "85fa4a73",
   "metadata": {},
   "source": [
    "### Performance of TreeValue"
   ]
  },
  {
   "cell_type": "code",
   "execution_count": 19,
   "id": "a0c2b697",
   "metadata": {
    "execution": {
     "iopub.execute_input": "2023-02-26T14:53:40.955778Z",
     "iopub.status.busy": "2023-02-26T14:53:40.955289Z",
     "iopub.status.idle": "2023-02-26T14:53:40.960376Z",
     "shell.execute_reply": "2023-02-26T14:53:40.959442Z"
    }
   },
   "outputs": [],
   "source": [
    "trees = [FastTreeValue(_TREE_DATA_2) for _ in range(8)]"
   ]
  },
  {
   "cell_type": "code",
   "execution_count": 20,
   "id": "017ea5a5",
   "metadata": {
    "execution": {
     "iopub.execute_input": "2023-02-26T14:53:40.963874Z",
     "iopub.status.busy": "2023-02-26T14:53:40.963363Z",
     "iopub.status.idle": "2023-02-26T14:53:40.974610Z",
     "shell.execute_reply": "2023-02-26T14:53:40.973673Z"
    }
   },
   "outputs": [
    {
     "data": {
      "text/plain": [
       "<FastTreeValue 0x7f38d73e7f40>\n",
       "├── 'a' --> tensor([[[ 0.0681, -0.7896, -0.1176],\n",
       "│                    [-1.0033, -0.3225, -0.5124]],\n",
       "│           \n",
       "│                   [[ 0.0681, -0.7896, -0.1176],\n",
       "│                    [-1.0033, -0.3225, -0.5124]],\n",
       "│           \n",
       "│                   [[ 0.0681, -0.7896, -0.1176],\n",
       "│                    [-1.0033, -0.3225, -0.5124]],\n",
       "│           \n",
       "│                   [[ 0.0681, -0.7896, -0.1176],\n",
       "│                    [-1.0033, -0.3225, -0.5124]],\n",
       "│           \n",
       "│                   [[ 0.0681, -0.7896, -0.1176],\n",
       "│                    [-1.0033, -0.3225, -0.5124]],\n",
       "│           \n",
       "│                   [[ 0.0681, -0.7896, -0.1176],\n",
       "│                    [-1.0033, -0.3225, -0.5124]],\n",
       "│           \n",
       "│                   [[ 0.0681, -0.7896, -0.1176],\n",
       "│                    [-1.0033, -0.3225, -0.5124]],\n",
       "│           \n",
       "│                   [[ 0.0681, -0.7896, -0.1176],\n",
       "│                    [-1.0033, -0.3225, -0.5124]]])\n",
       "└── 'x' --> <FastTreeValue 0x7f38d73cc2e0>\n",
       "    └── 'c' --> tensor([[[ 0.5641,  0.1643,  0.4523,  1.2227],\n",
       "                         [-1.4184,  0.3431, -0.4516,  0.7327],\n",
       "                         [ 0.5444,  0.2494,  0.5621,  0.0514]],\n",
       "                \n",
       "                        [[ 0.5641,  0.1643,  0.4523,  1.2227],\n",
       "                         [-1.4184,  0.3431, -0.4516,  0.7327],\n",
       "                         [ 0.5444,  0.2494,  0.5621,  0.0514]],\n",
       "                \n",
       "                        [[ 0.5641,  0.1643,  0.4523,  1.2227],\n",
       "                         [-1.4184,  0.3431, -0.4516,  0.7327],\n",
       "                         [ 0.5444,  0.2494,  0.5621,  0.0514]],\n",
       "                \n",
       "                        [[ 0.5641,  0.1643,  0.4523,  1.2227],\n",
       "                         [-1.4184,  0.3431, -0.4516,  0.7327],\n",
       "                         [ 0.5444,  0.2494,  0.5621,  0.0514]],\n",
       "                \n",
       "                        [[ 0.5641,  0.1643,  0.4523,  1.2227],\n",
       "                         [-1.4184,  0.3431, -0.4516,  0.7327],\n",
       "                         [ 0.5444,  0.2494,  0.5621,  0.0514]],\n",
       "                \n",
       "                        [[ 0.5641,  0.1643,  0.4523,  1.2227],\n",
       "                         [-1.4184,  0.3431, -0.4516,  0.7327],\n",
       "                         [ 0.5444,  0.2494,  0.5621,  0.0514]],\n",
       "                \n",
       "                        [[ 0.5641,  0.1643,  0.4523,  1.2227],\n",
       "                         [-1.4184,  0.3431, -0.4516,  0.7327],\n",
       "                         [ 0.5444,  0.2494,  0.5621,  0.0514]],\n",
       "                \n",
       "                        [[ 0.5641,  0.1643,  0.4523,  1.2227],\n",
       "                         [-1.4184,  0.3431, -0.4516,  0.7327],\n",
       "                         [ 0.5444,  0.2494,  0.5621,  0.0514]]])"
      ]
     },
     "execution_count": 20,
     "metadata": {},
     "output_type": "execute_result"
    }
   ],
   "source": [
    "t_stack = FastTreeValue.func(subside=True)(torch.stack)\n",
    "\n",
    "t_stack(trees)"
   ]
  },
  {
   "cell_type": "code",
   "execution_count": 21,
   "id": "f8b3f415",
   "metadata": {
    "execution": {
     "iopub.execute_input": "2023-02-26T14:53:40.978317Z",
     "iopub.status.busy": "2023-02-26T14:53:40.977686Z",
     "iopub.status.idle": "2023-02-26T14:53:44.676518Z",
     "shell.execute_reply": "2023-02-26T14:53:44.675570Z"
    }
   },
   "outputs": [
    {
     "name": "stdout",
     "output_type": "stream",
     "text": [
      "45.5 µs ± 742 ns per loop (mean ± std. dev. of 7 runs, 10,000 loops each)\n"
     ]
    }
   ],
   "source": [
    "%timeit t_stack(trees)"
   ]
  },
  {
   "cell_type": "code",
   "execution_count": 22,
   "id": "94b56771",
   "metadata": {
    "execution": {
     "iopub.execute_input": "2023-02-26T14:53:44.680294Z",
     "iopub.status.busy": "2023-02-26T14:53:44.679765Z",
     "iopub.status.idle": "2023-02-26T14:53:44.689122Z",
     "shell.execute_reply": "2023-02-26T14:53:44.688151Z"
    }
   },
   "outputs": [
    {
     "data": {
      "text/plain": [
       "<FastTreeValue 0x7f3960743b80>\n",
       "├── 'a' --> tensor([[ 0.0681, -0.7896, -0.1176],\n",
       "│                   [-1.0033, -0.3225, -0.5124],\n",
       "│                   [ 0.0681, -0.7896, -0.1176],\n",
       "│                   [-1.0033, -0.3225, -0.5124],\n",
       "│                   [ 0.0681, -0.7896, -0.1176],\n",
       "│                   [-1.0033, -0.3225, -0.5124],\n",
       "│                   [ 0.0681, -0.7896, -0.1176],\n",
       "│                   [-1.0033, -0.3225, -0.5124],\n",
       "│                   [ 0.0681, -0.7896, -0.1176],\n",
       "│                   [-1.0033, -0.3225, -0.5124],\n",
       "│                   [ 0.0681, -0.7896, -0.1176],\n",
       "│                   [-1.0033, -0.3225, -0.5124],\n",
       "│                   [ 0.0681, -0.7896, -0.1176],\n",
       "│                   [-1.0033, -0.3225, -0.5124],\n",
       "│                   [ 0.0681, -0.7896, -0.1176],\n",
       "│                   [-1.0033, -0.3225, -0.5124]])\n",
       "└── 'x' --> <FastTreeValue 0x7f38d7bae7f0>\n",
       "    └── 'c' --> tensor([[ 0.5641,  0.1643,  0.4523,  1.2227],\n",
       "                        [-1.4184,  0.3431, -0.4516,  0.7327],\n",
       "                        [ 0.5444,  0.2494,  0.5621,  0.0514],\n",
       "                        [ 0.5641,  0.1643,  0.4523,  1.2227],\n",
       "                        [-1.4184,  0.3431, -0.4516,  0.7327],\n",
       "                        [ 0.5444,  0.2494,  0.5621,  0.0514],\n",
       "                        [ 0.5641,  0.1643,  0.4523,  1.2227],\n",
       "                        [-1.4184,  0.3431, -0.4516,  0.7327],\n",
       "                        [ 0.5444,  0.2494,  0.5621,  0.0514],\n",
       "                        [ 0.5641,  0.1643,  0.4523,  1.2227],\n",
       "                        [-1.4184,  0.3431, -0.4516,  0.7327],\n",
       "                        [ 0.5444,  0.2494,  0.5621,  0.0514],\n",
       "                        [ 0.5641,  0.1643,  0.4523,  1.2227],\n",
       "                        [-1.4184,  0.3431, -0.4516,  0.7327],\n",
       "                        [ 0.5444,  0.2494,  0.5621,  0.0514],\n",
       "                        [ 0.5641,  0.1643,  0.4523,  1.2227],\n",
       "                        [-1.4184,  0.3431, -0.4516,  0.7327],\n",
       "                        [ 0.5444,  0.2494,  0.5621,  0.0514],\n",
       "                        [ 0.5641,  0.1643,  0.4523,  1.2227],\n",
       "                        [-1.4184,  0.3431, -0.4516,  0.7327],\n",
       "                        [ 0.5444,  0.2494,  0.5621,  0.0514],\n",
       "                        [ 0.5641,  0.1643,  0.4523,  1.2227],\n",
       "                        [-1.4184,  0.3431, -0.4516,  0.7327],\n",
       "                        [ 0.5444,  0.2494,  0.5621,  0.0514]])"
      ]
     },
     "execution_count": 22,
     "metadata": {},
     "output_type": "execute_result"
    }
   ],
   "source": [
    "t_cat = FastTreeValue.func(subside=True)(torch.cat)\n",
    "\n",
    "t_cat(trees)"
   ]
  },
  {
   "cell_type": "code",
   "execution_count": 23,
   "id": "5e9c06a6",
   "metadata": {
    "execution": {
     "iopub.execute_input": "2023-02-26T14:53:44.692747Z",
     "iopub.status.busy": "2023-02-26T14:53:44.692226Z",
     "iopub.status.idle": "2023-02-26T14:53:48.061461Z",
     "shell.execute_reply": "2023-02-26T14:53:48.060496Z"
    }
   },
   "outputs": [
    {
     "name": "stdout",
     "output_type": "stream",
     "text": [
      "41.4 µs ± 550 ns per loop (mean ± std. dev. of 7 runs, 10,000 loops each)\n"
     ]
    }
   ],
   "source": [
    "%timeit t_cat(trees)"
   ]
  },
  {
   "cell_type": "code",
   "execution_count": 24,
   "id": "a3ab5c8f",
   "metadata": {
    "execution": {
     "iopub.execute_input": "2023-02-26T14:53:48.064987Z",
     "iopub.status.busy": "2023-02-26T14:53:48.064540Z",
     "iopub.status.idle": "2023-02-26T14:53:54.713075Z",
     "shell.execute_reply": "2023-02-26T14:53:54.711946Z"
    }
   },
   "outputs": [
    {
     "name": "stdout",
     "output_type": "stream",
     "text": [
      "81.9 µs ± 1.01 µs per loop (mean ± std. dev. of 7 runs, 10,000 loops each)\n"
     ]
    }
   ],
   "source": [
    "t_split = FastTreeValue.func(rise=True)(torch.split)\n",
    "tree = FastTreeValue({\n",
    "    'obs': torch.randn(8, 4, 84, 84),\n",
    "    'action': torch.randint(0, 6, size=(8, 1,)),\n",
    "    'reward': torch.rand(8, 1),\n",
    "})\n",
    "\n",
    "%timeit t_split(tree, 1)"
   ]
  },
  {
   "cell_type": "markdown",
   "id": "31c3ec0b",
   "metadata": {},
   "source": [
    "### Performance of Tianshou Batch"
   ]
  },
  {
   "cell_type": "code",
   "execution_count": 25,
   "id": "9ead828a",
   "metadata": {
    "execution": {
     "iopub.execute_input": "2023-02-26T14:53:54.716928Z",
     "iopub.status.busy": "2023-02-26T14:53:54.716426Z",
     "iopub.status.idle": "2023-02-26T14:53:54.727042Z",
     "shell.execute_reply": "2023-02-26T14:53:54.726187Z"
    }
   },
   "outputs": [
    {
     "data": {
      "text/plain": [
       "Batch(\n",
       "    x: Batch(\n",
       "           c: tensor([[[ 0.5641,  0.1643,  0.4523,  1.2227],\n",
       "                       [-1.4184,  0.3431, -0.4516,  0.7327],\n",
       "                       [ 0.5444,  0.2494,  0.5621,  0.0514]],\n",
       "              \n",
       "                      [[ 0.5641,  0.1643,  0.4523,  1.2227],\n",
       "                       [-1.4184,  0.3431, -0.4516,  0.7327],\n",
       "                       [ 0.5444,  0.2494,  0.5621,  0.0514]],\n",
       "              \n",
       "                      [[ 0.5641,  0.1643,  0.4523,  1.2227],\n",
       "                       [-1.4184,  0.3431, -0.4516,  0.7327],\n",
       "                       [ 0.5444,  0.2494,  0.5621,  0.0514]],\n",
       "              \n",
       "                      [[ 0.5641,  0.1643,  0.4523,  1.2227],\n",
       "                       [-1.4184,  0.3431, -0.4516,  0.7327],\n",
       "                       [ 0.5444,  0.2494,  0.5621,  0.0514]],\n",
       "              \n",
       "                      [[ 0.5641,  0.1643,  0.4523,  1.2227],\n",
       "                       [-1.4184,  0.3431, -0.4516,  0.7327],\n",
       "                       [ 0.5444,  0.2494,  0.5621,  0.0514]],\n",
       "              \n",
       "                      [[ 0.5641,  0.1643,  0.4523,  1.2227],\n",
       "                       [-1.4184,  0.3431, -0.4516,  0.7327],\n",
       "                       [ 0.5444,  0.2494,  0.5621,  0.0514]],\n",
       "              \n",
       "                      [[ 0.5641,  0.1643,  0.4523,  1.2227],\n",
       "                       [-1.4184,  0.3431, -0.4516,  0.7327],\n",
       "                       [ 0.5444,  0.2494,  0.5621,  0.0514]],\n",
       "              \n",
       "                      [[ 0.5641,  0.1643,  0.4523,  1.2227],\n",
       "                       [-1.4184,  0.3431, -0.4516,  0.7327],\n",
       "                       [ 0.5444,  0.2494,  0.5621,  0.0514]]]),\n",
       "       ),\n",
       "    a: tensor([[[ 0.0681, -0.7896, -0.1176],\n",
       "                [-1.0033, -0.3225, -0.5124]],\n",
       "       \n",
       "               [[ 0.0681, -0.7896, -0.1176],\n",
       "                [-1.0033, -0.3225, -0.5124]],\n",
       "       \n",
       "               [[ 0.0681, -0.7896, -0.1176],\n",
       "                [-1.0033, -0.3225, -0.5124]],\n",
       "       \n",
       "               [[ 0.0681, -0.7896, -0.1176],\n",
       "                [-1.0033, -0.3225, -0.5124]],\n",
       "       \n",
       "               [[ 0.0681, -0.7896, -0.1176],\n",
       "                [-1.0033, -0.3225, -0.5124]],\n",
       "       \n",
       "               [[ 0.0681, -0.7896, -0.1176],\n",
       "                [-1.0033, -0.3225, -0.5124]],\n",
       "       \n",
       "               [[ 0.0681, -0.7896, -0.1176],\n",
       "                [-1.0033, -0.3225, -0.5124]],\n",
       "       \n",
       "               [[ 0.0681, -0.7896, -0.1176],\n",
       "                [-1.0033, -0.3225, -0.5124]]]),\n",
       ")"
      ]
     },
     "execution_count": 25,
     "metadata": {},
     "output_type": "execute_result"
    }
   ],
   "source": [
    "batches = [Batch(**_TREE_DATA_2) for _ in range(8)]\n",
    "\n",
    "Batch.stack(batches)"
   ]
  },
  {
   "cell_type": "code",
   "execution_count": 26,
   "id": "ec9037a3",
   "metadata": {
    "execution": {
     "iopub.execute_input": "2023-02-26T14:53:54.730497Z",
     "iopub.status.busy": "2023-02-26T14:53:54.729995Z",
     "iopub.status.idle": "2023-02-26T14:54:03.129442Z",
     "shell.execute_reply": "2023-02-26T14:54:03.128397Z"
    }
   },
   "outputs": [
    {
     "name": "stdout",
     "output_type": "stream",
     "text": [
      "103 µs ± 1.59 µs per loop (mean ± std. dev. of 7 runs, 10,000 loops each)\n"
     ]
    }
   ],
   "source": [
    "%timeit Batch.stack(batches)"
   ]
  },
  {
   "cell_type": "code",
   "execution_count": 27,
   "id": "cb8ab77e",
   "metadata": {
    "execution": {
     "iopub.execute_input": "2023-02-26T14:54:03.133212Z",
     "iopub.status.busy": "2023-02-26T14:54:03.132665Z",
     "iopub.status.idle": "2023-02-26T14:54:03.143296Z",
     "shell.execute_reply": "2023-02-26T14:54:03.142411Z"
    }
   },
   "outputs": [
    {
     "data": {
      "text/plain": [
       "Batch(\n",
       "    x: Batch(\n",
       "           c: tensor([[ 0.5641,  0.1643,  0.4523,  1.2227],\n",
       "                      [-1.4184,  0.3431, -0.4516,  0.7327],\n",
       "                      [ 0.5444,  0.2494,  0.5621,  0.0514],\n",
       "                      [ 0.5641,  0.1643,  0.4523,  1.2227],\n",
       "                      [-1.4184,  0.3431, -0.4516,  0.7327],\n",
       "                      [ 0.5444,  0.2494,  0.5621,  0.0514],\n",
       "                      [ 0.5641,  0.1643,  0.4523,  1.2227],\n",
       "                      [-1.4184,  0.3431, -0.4516,  0.7327],\n",
       "                      [ 0.5444,  0.2494,  0.5621,  0.0514],\n",
       "                      [ 0.5641,  0.1643,  0.4523,  1.2227],\n",
       "                      [-1.4184,  0.3431, -0.4516,  0.7327],\n",
       "                      [ 0.5444,  0.2494,  0.5621,  0.0514],\n",
       "                      [ 0.5641,  0.1643,  0.4523,  1.2227],\n",
       "                      [-1.4184,  0.3431, -0.4516,  0.7327],\n",
       "                      [ 0.5444,  0.2494,  0.5621,  0.0514],\n",
       "                      [ 0.5641,  0.1643,  0.4523,  1.2227],\n",
       "                      [-1.4184,  0.3431, -0.4516,  0.7327],\n",
       "                      [ 0.5444,  0.2494,  0.5621,  0.0514],\n",
       "                      [ 0.5641,  0.1643,  0.4523,  1.2227],\n",
       "                      [-1.4184,  0.3431, -0.4516,  0.7327],\n",
       "                      [ 0.5444,  0.2494,  0.5621,  0.0514],\n",
       "                      [ 0.5641,  0.1643,  0.4523,  1.2227],\n",
       "                      [-1.4184,  0.3431, -0.4516,  0.7327],\n",
       "                      [ 0.5444,  0.2494,  0.5621,  0.0514]]),\n",
       "       ),\n",
       "    a: tensor([[ 0.0681, -0.7896, -0.1176],\n",
       "               [-1.0033, -0.3225, -0.5124],\n",
       "               [ 0.0681, -0.7896, -0.1176],\n",
       "               [-1.0033, -0.3225, -0.5124],\n",
       "               [ 0.0681, -0.7896, -0.1176],\n",
       "               [-1.0033, -0.3225, -0.5124],\n",
       "               [ 0.0681, -0.7896, -0.1176],\n",
       "               [-1.0033, -0.3225, -0.5124],\n",
       "               [ 0.0681, -0.7896, -0.1176],\n",
       "               [-1.0033, -0.3225, -0.5124],\n",
       "               [ 0.0681, -0.7896, -0.1176],\n",
       "               [-1.0033, -0.3225, -0.5124],\n",
       "               [ 0.0681, -0.7896, -0.1176],\n",
       "               [-1.0033, -0.3225, -0.5124],\n",
       "               [ 0.0681, -0.7896, -0.1176],\n",
       "               [-1.0033, -0.3225, -0.5124]]),\n",
       ")"
      ]
     },
     "execution_count": 27,
     "metadata": {},
     "output_type": "execute_result"
    }
   ],
   "source": [
    "Batch.cat(batches)"
   ]
  },
  {
   "cell_type": "code",
   "execution_count": 28,
   "id": "18dfb045",
   "metadata": {
    "execution": {
     "iopub.execute_input": "2023-02-26T14:54:03.146921Z",
     "iopub.status.busy": "2023-02-26T14:54:03.146609Z",
     "iopub.status.idle": "2023-02-26T14:54:18.027533Z",
     "shell.execute_reply": "2023-02-26T14:54:18.026557Z"
    }
   },
   "outputs": [
    {
     "name": "stdout",
     "output_type": "stream",
     "text": [
      "183 µs ± 3.06 µs per loop (mean ± std. dev. of 7 runs, 10,000 loops each)\n"
     ]
    }
   ],
   "source": [
    "%timeit Batch.cat(batches)"
   ]
  },
  {
   "cell_type": "code",
   "execution_count": 29,
   "id": "c6688e51",
   "metadata": {
    "execution": {
     "iopub.execute_input": "2023-02-26T14:54:18.031092Z",
     "iopub.status.busy": "2023-02-26T14:54:18.030631Z",
     "iopub.status.idle": "2023-02-26T14:54:23.064705Z",
     "shell.execute_reply": "2023-02-26T14:54:23.063584Z"
    }
   },
   "outputs": [
    {
     "name": "stdout",
     "output_type": "stream",
     "text": [
      "620 µs ± 6.73 µs per loop (mean ± std. dev. of 7 runs, 1,000 loops each)\n"
     ]
    }
   ],
   "source": [
    "batch = Batch({\n",
    "    'obs': torch.randn(8, 4, 84, 84),\n",
    "    'action': torch.randint(0, 6, size=(8, 1,)),\n",
    "    'reward': torch.rand(8, 1)}\n",
    ")\n",
    "\n",
    "%timeit list(Batch.split(batch, 1, shuffle=False, merge_last=True))"
   ]
  },
  {
   "cell_type": "code",
   "execution_count": null,
   "id": "2539fbd9",
   "metadata": {},
   "outputs": [],
   "source": []
  }
 ],
 "metadata": {
  "kernelspec": {
   "display_name": "Python 3 (ipykernel)",
   "language": "python",
   "name": "python3"
  },
  "language_info": {
   "codemirror_mode": {
    "name": "ipython",
    "version": 3
   },
   "file_extension": ".py",
   "mimetype": "text/x-python",
   "name": "python",
   "nbconvert_exporter": "python",
   "pygments_lexer": "ipython3",
   "version": "3.8.16"
  }
 },
 "nbformat": 4,
 "nbformat_minor": 5
}
