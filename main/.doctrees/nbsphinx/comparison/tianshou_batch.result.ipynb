{
 "cells": [
  {
   "cell_type": "markdown",
   "id": "9d39d946",
   "metadata": {},
   "source": [
    "# Comparison Between TreeValue and Tianshou Batch"
   ]
  },
  {
   "cell_type": "markdown",
   "id": "3c6db2d4",
   "metadata": {},
   "source": [
    "In this section, we will take a look at the feature and performance of the [Tianshou Batch](https://github.com/thu-ml/tianshou) library, which is developed by Tsinghua Machine Learning Group."
   ]
  },
  {
   "cell_type": "markdown",
   "id": "069361b0",
   "metadata": {},
   "source": [
    "Before starting the comparison, let us define some thing."
   ]
  },
  {
   "cell_type": "code",
   "execution_count": 1,
   "id": "06fc8d26",
   "metadata": {
    "execution": {
     "iopub.execute_input": "2023-02-25T18:58:39.665693Z",
     "iopub.status.busy": "2023-02-25T18:58:39.665405Z",
     "iopub.status.idle": "2023-02-25T18:58:40.657582Z",
     "shell.execute_reply": "2023-02-25T18:58:40.656780Z"
    }
   },
   "outputs": [
    {
     "name": "stderr",
     "output_type": "stream",
     "text": [
      "/opt/hostedtoolcache/Python/3.8.16/x64/lib/python3.8/site-packages/tqdm/auto.py:22: TqdmWarning: IProgress not found. Please update jupyter and ipywidgets. See https://ipywidgets.readthedocs.io/en/stable/user_install.html\n",
      "  from .autonotebook import tqdm as notebook_tqdm\n"
     ]
    }
   ],
   "source": [
    "import torch \n",
    "\n",
    "_TREE_DATA_1 = {'a': 1, 'b': 2, 'x': {'c': 3, 'd': 4}}\n",
    "_TREE_DATA_2 = {\n",
    "    'a': torch.randn(2, 3), \n",
    "    'x': {\n",
    "        'c': torch.randn(3, 4)\n",
    "    },\n",
    "}\n",
    "_TREE_DATA_3 = {\n",
    "    'obs': torch.randn(4, 84, 84),\n",
    "    'action': torch.randint(0, 6, size=(1,)),\n",
    "    'reward': torch.rand(1),\n",
    "}"
   ]
  },
  {
   "cell_type": "markdown",
   "id": "83461b25",
   "metadata": {},
   "source": [
    "## Read and Write Operation"
   ]
  },
  {
   "cell_type": "markdown",
   "id": "067b3f73",
   "metadata": {},
   "source": [
    "Reading and writing are the two most common operations in the tree data structure based on the data model (TreeValue and Tianshou Batch both belong to this type), so this section will compare the reading and writing performance of these two libraries."
   ]
  },
  {
   "cell_type": "markdown",
   "id": "5d09a5b7",
   "metadata": {},
   "source": [
    "### TreeValue's Get and Set"
   ]
  },
  {
   "cell_type": "code",
   "execution_count": 2,
   "id": "9519c4bb",
   "metadata": {
    "execution": {
     "iopub.execute_input": "2023-02-25T18:58:40.661416Z",
     "iopub.status.busy": "2023-02-25T18:58:40.660967Z",
     "iopub.status.idle": "2023-02-25T18:58:40.696253Z",
     "shell.execute_reply": "2023-02-25T18:58:40.695506Z"
    }
   },
   "outputs": [],
   "source": [
    "from treevalue import FastTreeValue\n",
    "\n",
    "t = FastTreeValue(_TREE_DATA_2)"
   ]
  },
  {
   "cell_type": "code",
   "execution_count": 3,
   "id": "11c37677",
   "metadata": {
    "execution": {
     "iopub.execute_input": "2023-02-25T18:58:40.699716Z",
     "iopub.status.busy": "2023-02-25T18:58:40.699233Z",
     "iopub.status.idle": "2023-02-25T18:58:40.712514Z",
     "shell.execute_reply": "2023-02-25T18:58:40.711891Z"
    }
   },
   "outputs": [
    {
     "data": {
      "text/plain": [
       "<FastTreeValue 0x7f1f182a1c40>\n",
       "├── 'a' --> tensor([[ 1.0595, -0.8830,  1.6696],\n",
       "│                   [-1.5925,  1.6795,  2.3015]])\n",
       "└── 'x' --> <FastTreeValue 0x7f1f182a1bb0>\n",
       "    └── 'c' --> tensor([[-0.0599, -1.9261,  1.0801,  0.5003],\n",
       "                        [ 1.8525,  1.5252,  1.0359,  0.1305],\n",
       "                        [-1.5540,  0.4817,  0.2730,  0.6077]])"
      ]
     },
     "execution_count": 3,
     "metadata": {},
     "output_type": "execute_result"
    }
   ],
   "source": [
    "t"
   ]
  },
  {
   "cell_type": "code",
   "execution_count": 4,
   "id": "fd70b0b9",
   "metadata": {
    "execution": {
     "iopub.execute_input": "2023-02-25T18:58:40.715370Z",
     "iopub.status.busy": "2023-02-25T18:58:40.714915Z",
     "iopub.status.idle": "2023-02-25T18:58:40.720875Z",
     "shell.execute_reply": "2023-02-25T18:58:40.720245Z"
    }
   },
   "outputs": [
    {
     "data": {
      "text/plain": [
       "tensor([[ 1.0595, -0.8830,  1.6696],\n",
       "        [-1.5925,  1.6795,  2.3015]])"
      ]
     },
     "execution_count": 4,
     "metadata": {},
     "output_type": "execute_result"
    }
   ],
   "source": [
    "t.a"
   ]
  },
  {
   "cell_type": "code",
   "execution_count": 5,
   "id": "c18197bd",
   "metadata": {
    "execution": {
     "iopub.execute_input": "2023-02-25T18:58:40.723690Z",
     "iopub.status.busy": "2023-02-25T18:58:40.723319Z",
     "iopub.status.idle": "2023-02-25T18:58:46.020239Z",
     "shell.execute_reply": "2023-02-25T18:58:46.019116Z"
    }
   },
   "outputs": [
    {
     "name": "stdout",
     "output_type": "stream",
     "text": [
      "65.2 ns ± 0.0615 ns per loop (mean ± std. dev. of 7 runs, 10,000,000 loops each)\n"
     ]
    }
   ],
   "source": [
    "%timeit t.a"
   ]
  },
  {
   "cell_type": "code",
   "execution_count": 6,
   "id": "bd52f867",
   "metadata": {
    "execution": {
     "iopub.execute_input": "2023-02-25T18:58:46.024134Z",
     "iopub.status.busy": "2023-02-25T18:58:46.023431Z",
     "iopub.status.idle": "2023-02-25T18:58:46.030852Z",
     "shell.execute_reply": "2023-02-25T18:58:46.030223Z"
    }
   },
   "outputs": [
    {
     "data": {
      "text/plain": [
       "<FastTreeValue 0x7f1f182a1c40>\n",
       "├── 'a' --> tensor([[ 1.2599, -0.9822, -0.6727],\n",
       "│                   [-0.3040, -0.8615,  0.5037]])\n",
       "└── 'x' --> <FastTreeValue 0x7f1f182a1bb0>\n",
       "    └── 'c' --> tensor([[-0.0599, -1.9261,  1.0801,  0.5003],\n",
       "                        [ 1.8525,  1.5252,  1.0359,  0.1305],\n",
       "                        [-1.5540,  0.4817,  0.2730,  0.6077]])"
      ]
     },
     "execution_count": 6,
     "metadata": {},
     "output_type": "execute_result"
    }
   ],
   "source": [
    "new_value = torch.randn(2, 3)\n",
    "t.a = new_value\n",
    "\n",
    "t"
   ]
  },
  {
   "cell_type": "code",
   "execution_count": 7,
   "id": "bbe04d1c",
   "metadata": {
    "execution": {
     "iopub.execute_input": "2023-02-25T18:58:46.033876Z",
     "iopub.status.busy": "2023-02-25T18:58:46.033411Z",
     "iopub.status.idle": "2023-02-25T18:58:51.548059Z",
     "shell.execute_reply": "2023-02-25T18:58:51.547044Z"
    }
   },
   "outputs": [
    {
     "name": "stdout",
     "output_type": "stream",
     "text": [
      "67.9 ns ± 0.1 ns per loop (mean ± std. dev. of 7 runs, 10,000,000 loops each)\n"
     ]
    }
   ],
   "source": [
    "%timeit t.a = new_value"
   ]
  },
  {
   "cell_type": "markdown",
   "id": "48c49731",
   "metadata": {},
   "source": [
    "### Tianshou Batch's Get and Set"
   ]
  },
  {
   "cell_type": "code",
   "execution_count": 8,
   "id": "f1bb14c1",
   "metadata": {
    "execution": {
     "iopub.execute_input": "2023-02-25T18:58:51.551578Z",
     "iopub.status.busy": "2023-02-25T18:58:51.551084Z",
     "iopub.status.idle": "2023-02-25T18:58:51.931289Z",
     "shell.execute_reply": "2023-02-25T18:58:51.930510Z"
    }
   },
   "outputs": [],
   "source": [
    "from tianshou.data import Batch\n",
    "\n",
    "b = Batch(**_TREE_DATA_2)"
   ]
  },
  {
   "cell_type": "code",
   "execution_count": 9,
   "id": "cb0777c3",
   "metadata": {
    "execution": {
     "iopub.execute_input": "2023-02-25T18:58:51.935638Z",
     "iopub.status.busy": "2023-02-25T18:58:51.934793Z",
     "iopub.status.idle": "2023-02-25T18:58:51.942262Z",
     "shell.execute_reply": "2023-02-25T18:58:51.941640Z"
    }
   },
   "outputs": [
    {
     "data": {
      "text/plain": [
       "Batch(\n",
       "    a: tensor([[ 1.0595, -0.8830,  1.6696],\n",
       "               [-1.5925,  1.6795,  2.3015]]),\n",
       "    x: Batch(\n",
       "           c: tensor([[-0.0599, -1.9261,  1.0801,  0.5003],\n",
       "                      [ 1.8525,  1.5252,  1.0359,  0.1305],\n",
       "                      [-1.5540,  0.4817,  0.2730,  0.6077]]),\n",
       "       ),\n",
       ")"
      ]
     },
     "execution_count": 9,
     "metadata": {},
     "output_type": "execute_result"
    }
   ],
   "source": [
    "b"
   ]
  },
  {
   "cell_type": "code",
   "execution_count": 10,
   "id": "43ef8ea3",
   "metadata": {
    "execution": {
     "iopub.execute_input": "2023-02-25T18:58:51.945443Z",
     "iopub.status.busy": "2023-02-25T18:58:51.944818Z",
     "iopub.status.idle": "2023-02-25T18:58:51.950309Z",
     "shell.execute_reply": "2023-02-25T18:58:51.949640Z"
    }
   },
   "outputs": [
    {
     "data": {
      "text/plain": [
       "tensor([[ 1.0595, -0.8830,  1.6696],\n",
       "        [-1.5925,  1.6795,  2.3015]])"
      ]
     },
     "execution_count": 10,
     "metadata": {},
     "output_type": "execute_result"
    }
   ],
   "source": [
    "b.a"
   ]
  },
  {
   "cell_type": "code",
   "execution_count": 11,
   "id": "b785ab72",
   "metadata": {
    "execution": {
     "iopub.execute_input": "2023-02-25T18:58:51.953063Z",
     "iopub.status.busy": "2023-02-25T18:58:51.952698Z",
     "iopub.status.idle": "2023-02-25T18:58:56.893031Z",
     "shell.execute_reply": "2023-02-25T18:58:56.892027Z"
    }
   },
   "outputs": [
    {
     "name": "stdout",
     "output_type": "stream",
     "text": [
      "60.8 ns ± 0.0148 ns per loop (mean ± std. dev. of 7 runs, 10,000,000 loops each)\n"
     ]
    }
   ],
   "source": [
    "%timeit b.a"
   ]
  },
  {
   "cell_type": "code",
   "execution_count": 12,
   "id": "ad54dc69",
   "metadata": {
    "execution": {
     "iopub.execute_input": "2023-02-25T18:58:56.896862Z",
     "iopub.status.busy": "2023-02-25T18:58:56.896110Z",
     "iopub.status.idle": "2023-02-25T18:58:56.902914Z",
     "shell.execute_reply": "2023-02-25T18:58:56.902158Z"
    }
   },
   "outputs": [
    {
     "data": {
      "text/plain": [
       "Batch(\n",
       "    a: tensor([[ 0.3610, -0.3330, -0.0552],\n",
       "               [-0.3860,  0.0198,  1.1163]]),\n",
       "    x: Batch(\n",
       "           c: tensor([[-0.0599, -1.9261,  1.0801,  0.5003],\n",
       "                      [ 1.8525,  1.5252,  1.0359,  0.1305],\n",
       "                      [-1.5540,  0.4817,  0.2730,  0.6077]]),\n",
       "       ),\n",
       ")"
      ]
     },
     "execution_count": 12,
     "metadata": {},
     "output_type": "execute_result"
    }
   ],
   "source": [
    "new_value = torch.randn(2, 3)\n",
    "b.a = new_value\n",
    "\n",
    "b"
   ]
  },
  {
   "cell_type": "code",
   "execution_count": 13,
   "id": "29b1d0bf",
   "metadata": {
    "execution": {
     "iopub.execute_input": "2023-02-25T18:58:56.905901Z",
     "iopub.status.busy": "2023-02-25T18:58:56.905328Z",
     "iopub.status.idle": "2023-02-25T18:59:00.950695Z",
     "shell.execute_reply": "2023-02-25T18:59:00.949815Z"
    }
   },
   "outputs": [
    {
     "name": "stdout",
     "output_type": "stream",
     "text": [
      "498 ns ± 3.4 ns per loop (mean ± std. dev. of 7 runs, 1,000,000 loops each)\n"
     ]
    }
   ],
   "source": [
    "%timeit b.a = new_value"
   ]
  },
  {
   "cell_type": "markdown",
   "id": "b61ad1d0",
   "metadata": {},
   "source": [
    "## Initialization"
   ]
  },
  {
   "cell_type": "markdown",
   "id": "d70f0d54",
   "metadata": {},
   "source": [
    "### TreeValue's Initialization"
   ]
  },
  {
   "cell_type": "code",
   "execution_count": 14,
   "id": "d32a679b",
   "metadata": {
    "execution": {
     "iopub.execute_input": "2023-02-25T18:59:00.954507Z",
     "iopub.status.busy": "2023-02-25T18:59:00.953990Z",
     "iopub.status.idle": "2023-02-25T18:59:07.693795Z",
     "shell.execute_reply": "2023-02-25T18:59:07.692717Z"
    }
   },
   "outputs": [
    {
     "name": "stdout",
     "output_type": "stream",
     "text": [
      "830 ns ± 0.71 ns per loop (mean ± std. dev. of 7 runs, 1,000,000 loops each)\n"
     ]
    }
   ],
   "source": [
    "%timeit FastTreeValue(_TREE_DATA_1)"
   ]
  },
  {
   "cell_type": "markdown",
   "id": "24f3707b",
   "metadata": {},
   "source": [
    "### Tianshou Batch's Initialization"
   ]
  },
  {
   "cell_type": "code",
   "execution_count": 15,
   "id": "ac3958df",
   "metadata": {
    "execution": {
     "iopub.execute_input": "2023-02-25T18:59:07.697484Z",
     "iopub.status.busy": "2023-02-25T18:59:07.696974Z",
     "iopub.status.idle": "2023-02-25T18:59:16.374956Z",
     "shell.execute_reply": "2023-02-25T18:59:16.374081Z"
    }
   },
   "outputs": [
    {
     "name": "stdout",
     "output_type": "stream",
     "text": [
      "10.7 µs ± 10.2 ns per loop (mean ± std. dev. of 7 runs, 100,000 loops each)\n"
     ]
    }
   ],
   "source": [
    "%timeit Batch(**_TREE_DATA_1)"
   ]
  },
  {
   "cell_type": "markdown",
   "id": "1ab82e2d",
   "metadata": {},
   "source": [
    "## Deep Copy Operation"
   ]
  },
  {
   "cell_type": "code",
   "execution_count": 16,
   "id": "210a9442",
   "metadata": {
    "execution": {
     "iopub.execute_input": "2023-02-25T18:59:16.378773Z",
     "iopub.status.busy": "2023-02-25T18:59:16.378338Z",
     "iopub.status.idle": "2023-02-25T18:59:16.382523Z",
     "shell.execute_reply": "2023-02-25T18:59:16.381899Z"
    }
   },
   "outputs": [],
   "source": [
    "import copy"
   ]
  },
  {
   "cell_type": "markdown",
   "id": "5a736274",
   "metadata": {},
   "source": [
    "### Deep Copy of TreeValue"
   ]
  },
  {
   "cell_type": "code",
   "execution_count": 17,
   "id": "f9bcadd6",
   "metadata": {
    "execution": {
     "iopub.execute_input": "2023-02-25T18:59:16.385616Z",
     "iopub.status.busy": "2023-02-25T18:59:16.385242Z",
     "iopub.status.idle": "2023-02-25T18:59:28.176677Z",
     "shell.execute_reply": "2023-02-25T18:59:28.175979Z"
    }
   },
   "outputs": [
    {
     "name": "stdout",
     "output_type": "stream",
     "text": [
      "145 µs ± 272 ns per loop (mean ± std. dev. of 7 runs, 10,000 loops each)\n"
     ]
    }
   ],
   "source": [
    "t3 = FastTreeValue(_TREE_DATA_3)\n",
    "%timeit copy.deepcopy(t3)"
   ]
  },
  {
   "cell_type": "markdown",
   "id": "bf8be7ea",
   "metadata": {},
   "source": [
    "### Deep Copy of Tianshou Batch"
   ]
  },
  {
   "cell_type": "code",
   "execution_count": 18,
   "id": "91998e6f",
   "metadata": {
    "execution": {
     "iopub.execute_input": "2023-02-25T18:59:28.179790Z",
     "iopub.status.busy": "2023-02-25T18:59:28.179259Z",
     "iopub.status.idle": "2023-02-25T18:59:39.935963Z",
     "shell.execute_reply": "2023-02-25T18:59:39.935102Z"
    }
   },
   "outputs": [
    {
     "name": "stdout",
     "output_type": "stream",
     "text": [
      "145 µs ± 2.5 µs per loop (mean ± std. dev. of 7 runs, 10,000 loops each)\n"
     ]
    }
   ],
   "source": [
    "b3 = Batch(**_TREE_DATA_3)\n",
    "%timeit copy.deepcopy(b3)"
   ]
  },
  {
   "cell_type": "markdown",
   "id": "223162fb",
   "metadata": {},
   "source": [
    "## Stack, Concat and Split Operation"
   ]
  },
  {
   "cell_type": "markdown",
   "id": "85fa4a73",
   "metadata": {},
   "source": [
    "### Performance of TreeValue"
   ]
  },
  {
   "cell_type": "code",
   "execution_count": 19,
   "id": "a0c2b697",
   "metadata": {
    "execution": {
     "iopub.execute_input": "2023-02-25T18:59:39.939215Z",
     "iopub.status.busy": "2023-02-25T18:59:39.938805Z",
     "iopub.status.idle": "2023-02-25T18:59:39.942979Z",
     "shell.execute_reply": "2023-02-25T18:59:39.942298Z"
    }
   },
   "outputs": [],
   "source": [
    "trees = [FastTreeValue(_TREE_DATA_2) for _ in range(8)]"
   ]
  },
  {
   "cell_type": "code",
   "execution_count": 20,
   "id": "017ea5a5",
   "metadata": {
    "execution": {
     "iopub.execute_input": "2023-02-25T18:59:39.945825Z",
     "iopub.status.busy": "2023-02-25T18:59:39.945308Z",
     "iopub.status.idle": "2023-02-25T18:59:39.952654Z",
     "shell.execute_reply": "2023-02-25T18:59:39.951970Z"
    }
   },
   "outputs": [
    {
     "data": {
      "text/plain": [
       "<FastTreeValue 0x7f1f182a1910>\n",
       "├── 'a' --> tensor([[[ 1.0595, -0.8830,  1.6696],\n",
       "│                    [-1.5925,  1.6795,  2.3015]],\n",
       "│           \n",
       "│                   [[ 1.0595, -0.8830,  1.6696],\n",
       "│                    [-1.5925,  1.6795,  2.3015]],\n",
       "│           \n",
       "│                   [[ 1.0595, -0.8830,  1.6696],\n",
       "│                    [-1.5925,  1.6795,  2.3015]],\n",
       "│           \n",
       "│                   [[ 1.0595, -0.8830,  1.6696],\n",
       "│                    [-1.5925,  1.6795,  2.3015]],\n",
       "│           \n",
       "│                   [[ 1.0595, -0.8830,  1.6696],\n",
       "│                    [-1.5925,  1.6795,  2.3015]],\n",
       "│           \n",
       "│                   [[ 1.0595, -0.8830,  1.6696],\n",
       "│                    [-1.5925,  1.6795,  2.3015]],\n",
       "│           \n",
       "│                   [[ 1.0595, -0.8830,  1.6696],\n",
       "│                    [-1.5925,  1.6795,  2.3015]],\n",
       "│           \n",
       "│                   [[ 1.0595, -0.8830,  1.6696],\n",
       "│                    [-1.5925,  1.6795,  2.3015]]])\n",
       "└── 'x' --> <FastTreeValue 0x7f1f182a1700>\n",
       "    └── 'c' --> tensor([[[-0.0599, -1.9261,  1.0801,  0.5003],\n",
       "                         [ 1.8525,  1.5252,  1.0359,  0.1305],\n",
       "                         [-1.5540,  0.4817,  0.2730,  0.6077]],\n",
       "                \n",
       "                        [[-0.0599, -1.9261,  1.0801,  0.5003],\n",
       "                         [ 1.8525,  1.5252,  1.0359,  0.1305],\n",
       "                         [-1.5540,  0.4817,  0.2730,  0.6077]],\n",
       "                \n",
       "                        [[-0.0599, -1.9261,  1.0801,  0.5003],\n",
       "                         [ 1.8525,  1.5252,  1.0359,  0.1305],\n",
       "                         [-1.5540,  0.4817,  0.2730,  0.6077]],\n",
       "                \n",
       "                        [[-0.0599, -1.9261,  1.0801,  0.5003],\n",
       "                         [ 1.8525,  1.5252,  1.0359,  0.1305],\n",
       "                         [-1.5540,  0.4817,  0.2730,  0.6077]],\n",
       "                \n",
       "                        [[-0.0599, -1.9261,  1.0801,  0.5003],\n",
       "                         [ 1.8525,  1.5252,  1.0359,  0.1305],\n",
       "                         [-1.5540,  0.4817,  0.2730,  0.6077]],\n",
       "                \n",
       "                        [[-0.0599, -1.9261,  1.0801,  0.5003],\n",
       "                         [ 1.8525,  1.5252,  1.0359,  0.1305],\n",
       "                         [-1.5540,  0.4817,  0.2730,  0.6077]],\n",
       "                \n",
       "                        [[-0.0599, -1.9261,  1.0801,  0.5003],\n",
       "                         [ 1.8525,  1.5252,  1.0359,  0.1305],\n",
       "                         [-1.5540,  0.4817,  0.2730,  0.6077]],\n",
       "                \n",
       "                        [[-0.0599, -1.9261,  1.0801,  0.5003],\n",
       "                         [ 1.8525,  1.5252,  1.0359,  0.1305],\n",
       "                         [-1.5540,  0.4817,  0.2730,  0.6077]]])"
      ]
     },
     "execution_count": 20,
     "metadata": {},
     "output_type": "execute_result"
    }
   ],
   "source": [
    "t_stack = FastTreeValue.func(subside=True)(torch.stack)\n",
    "\n",
    "t_stack(trees)"
   ]
  },
  {
   "cell_type": "code",
   "execution_count": 21,
   "id": "f8b3f415",
   "metadata": {
    "execution": {
     "iopub.execute_input": "2023-02-25T18:59:39.955235Z",
     "iopub.status.busy": "2023-02-25T18:59:39.954874Z",
     "iopub.status.idle": "2023-02-25T18:59:42.634467Z",
     "shell.execute_reply": "2023-02-25T18:59:42.633732Z"
    }
   },
   "outputs": [
    {
     "name": "stdout",
     "output_type": "stream",
     "text": [
      "32.9 µs ± 102 ns per loop (mean ± std. dev. of 7 runs, 10,000 loops each)\n"
     ]
    }
   ],
   "source": [
    "%timeit t_stack(trees)"
   ]
  },
  {
   "cell_type": "code",
   "execution_count": 22,
   "id": "94b56771",
   "metadata": {
    "execution": {
     "iopub.execute_input": "2023-02-25T18:59:42.637858Z",
     "iopub.status.busy": "2023-02-25T18:59:42.637423Z",
     "iopub.status.idle": "2023-02-25T18:59:42.645789Z",
     "shell.execute_reply": "2023-02-25T18:59:42.645153Z"
    }
   },
   "outputs": [
    {
     "data": {
      "text/plain": [
       "<FastTreeValue 0x7f1e6bf99f40>\n",
       "├── 'a' --> tensor([[ 1.0595, -0.8830,  1.6696],\n",
       "│                   [-1.5925,  1.6795,  2.3015],\n",
       "│                   [ 1.0595, -0.8830,  1.6696],\n",
       "│                   [-1.5925,  1.6795,  2.3015],\n",
       "│                   [ 1.0595, -0.8830,  1.6696],\n",
       "│                   [-1.5925,  1.6795,  2.3015],\n",
       "│                   [ 1.0595, -0.8830,  1.6696],\n",
       "│                   [-1.5925,  1.6795,  2.3015],\n",
       "│                   [ 1.0595, -0.8830,  1.6696],\n",
       "│                   [-1.5925,  1.6795,  2.3015],\n",
       "│                   [ 1.0595, -0.8830,  1.6696],\n",
       "│                   [-1.5925,  1.6795,  2.3015],\n",
       "│                   [ 1.0595, -0.8830,  1.6696],\n",
       "│                   [-1.5925,  1.6795,  2.3015],\n",
       "│                   [ 1.0595, -0.8830,  1.6696],\n",
       "│                   [-1.5925,  1.6795,  2.3015]])\n",
       "└── 'x' --> <FastTreeValue 0x7f1e72c55f70>\n",
       "    └── 'c' --> tensor([[-0.0599, -1.9261,  1.0801,  0.5003],\n",
       "                        [ 1.8525,  1.5252,  1.0359,  0.1305],\n",
       "                        [-1.5540,  0.4817,  0.2730,  0.6077],\n",
       "                        [-0.0599, -1.9261,  1.0801,  0.5003],\n",
       "                        [ 1.8525,  1.5252,  1.0359,  0.1305],\n",
       "                        [-1.5540,  0.4817,  0.2730,  0.6077],\n",
       "                        [-0.0599, -1.9261,  1.0801,  0.5003],\n",
       "                        [ 1.8525,  1.5252,  1.0359,  0.1305],\n",
       "                        [-1.5540,  0.4817,  0.2730,  0.6077],\n",
       "                        [-0.0599, -1.9261,  1.0801,  0.5003],\n",
       "                        [ 1.8525,  1.5252,  1.0359,  0.1305],\n",
       "                        [-1.5540,  0.4817,  0.2730,  0.6077],\n",
       "                        [-0.0599, -1.9261,  1.0801,  0.5003],\n",
       "                        [ 1.8525,  1.5252,  1.0359,  0.1305],\n",
       "                        [-1.5540,  0.4817,  0.2730,  0.6077],\n",
       "                        [-0.0599, -1.9261,  1.0801,  0.5003],\n",
       "                        [ 1.8525,  1.5252,  1.0359,  0.1305],\n",
       "                        [-1.5540,  0.4817,  0.2730,  0.6077],\n",
       "                        [-0.0599, -1.9261,  1.0801,  0.5003],\n",
       "                        [ 1.8525,  1.5252,  1.0359,  0.1305],\n",
       "                        [-1.5540,  0.4817,  0.2730,  0.6077],\n",
       "                        [-0.0599, -1.9261,  1.0801,  0.5003],\n",
       "                        [ 1.8525,  1.5252,  1.0359,  0.1305],\n",
       "                        [-1.5540,  0.4817,  0.2730,  0.6077]])"
      ]
     },
     "execution_count": 22,
     "metadata": {},
     "output_type": "execute_result"
    }
   ],
   "source": [
    "t_cat = FastTreeValue.func(subside=True)(torch.cat)\n",
    "\n",
    "t_cat(trees)"
   ]
  },
  {
   "cell_type": "code",
   "execution_count": 23,
   "id": "5e9c06a6",
   "metadata": {
    "execution": {
     "iopub.execute_input": "2023-02-25T18:59:42.648806Z",
     "iopub.status.busy": "2023-02-25T18:59:42.648288Z",
     "iopub.status.idle": "2023-02-25T18:59:45.149277Z",
     "shell.execute_reply": "2023-02-25T18:59:45.148413Z"
    }
   },
   "outputs": [
    {
     "name": "stdout",
     "output_type": "stream",
     "text": [
      "30.8 µs ± 86.8 ns per loop (mean ± std. dev. of 7 runs, 10,000 loops each)\n"
     ]
    }
   ],
   "source": [
    "%timeit t_cat(trees)"
   ]
  },
  {
   "cell_type": "code",
   "execution_count": 24,
   "id": "a3ab5c8f",
   "metadata": {
    "execution": {
     "iopub.execute_input": "2023-02-25T18:59:45.153088Z",
     "iopub.status.busy": "2023-02-25T18:59:45.152503Z",
     "iopub.status.idle": "2023-02-25T18:59:49.807878Z",
     "shell.execute_reply": "2023-02-25T18:59:49.807025Z"
    }
   },
   "outputs": [
    {
     "name": "stdout",
     "output_type": "stream",
     "text": [
      "57.2 µs ± 43.9 ns per loop (mean ± std. dev. of 7 runs, 10,000 loops each)\n"
     ]
    }
   ],
   "source": [
    "t_split = FastTreeValue.func(rise=True)(torch.split)\n",
    "tree = FastTreeValue({\n",
    "    'obs': torch.randn(8, 4, 84, 84),\n",
    "    'action': torch.randint(0, 6, size=(8, 1,)),\n",
    "    'reward': torch.rand(8, 1),\n",
    "})\n",
    "\n",
    "%timeit t_split(tree, 1)"
   ]
  },
  {
   "cell_type": "markdown",
   "id": "31c3ec0b",
   "metadata": {},
   "source": [
    "### Performance of Tianshou Batch"
   ]
  },
  {
   "cell_type": "code",
   "execution_count": 25,
   "id": "9ead828a",
   "metadata": {
    "execution": {
     "iopub.execute_input": "2023-02-25T18:59:49.811716Z",
     "iopub.status.busy": "2023-02-25T18:59:49.811139Z",
     "iopub.status.idle": "2023-02-25T18:59:49.819152Z",
     "shell.execute_reply": "2023-02-25T18:59:49.818469Z"
    }
   },
   "outputs": [
    {
     "data": {
      "text/plain": [
       "Batch(\n",
       "    x: Batch(\n",
       "           c: tensor([[[-0.0599, -1.9261,  1.0801,  0.5003],\n",
       "                       [ 1.8525,  1.5252,  1.0359,  0.1305],\n",
       "                       [-1.5540,  0.4817,  0.2730,  0.6077]],\n",
       "              \n",
       "                      [[-0.0599, -1.9261,  1.0801,  0.5003],\n",
       "                       [ 1.8525,  1.5252,  1.0359,  0.1305],\n",
       "                       [-1.5540,  0.4817,  0.2730,  0.6077]],\n",
       "              \n",
       "                      [[-0.0599, -1.9261,  1.0801,  0.5003],\n",
       "                       [ 1.8525,  1.5252,  1.0359,  0.1305],\n",
       "                       [-1.5540,  0.4817,  0.2730,  0.6077]],\n",
       "              \n",
       "                      [[-0.0599, -1.9261,  1.0801,  0.5003],\n",
       "                       [ 1.8525,  1.5252,  1.0359,  0.1305],\n",
       "                       [-1.5540,  0.4817,  0.2730,  0.6077]],\n",
       "              \n",
       "                      [[-0.0599, -1.9261,  1.0801,  0.5003],\n",
       "                       [ 1.8525,  1.5252,  1.0359,  0.1305],\n",
       "                       [-1.5540,  0.4817,  0.2730,  0.6077]],\n",
       "              \n",
       "                      [[-0.0599, -1.9261,  1.0801,  0.5003],\n",
       "                       [ 1.8525,  1.5252,  1.0359,  0.1305],\n",
       "                       [-1.5540,  0.4817,  0.2730,  0.6077]],\n",
       "              \n",
       "                      [[-0.0599, -1.9261,  1.0801,  0.5003],\n",
       "                       [ 1.8525,  1.5252,  1.0359,  0.1305],\n",
       "                       [-1.5540,  0.4817,  0.2730,  0.6077]],\n",
       "              \n",
       "                      [[-0.0599, -1.9261,  1.0801,  0.5003],\n",
       "                       [ 1.8525,  1.5252,  1.0359,  0.1305],\n",
       "                       [-1.5540,  0.4817,  0.2730,  0.6077]]]),\n",
       "       ),\n",
       "    a: tensor([[[ 1.0595, -0.8830,  1.6696],\n",
       "                [-1.5925,  1.6795,  2.3015]],\n",
       "       \n",
       "               [[ 1.0595, -0.8830,  1.6696],\n",
       "                [-1.5925,  1.6795,  2.3015]],\n",
       "       \n",
       "               [[ 1.0595, -0.8830,  1.6696],\n",
       "                [-1.5925,  1.6795,  2.3015]],\n",
       "       \n",
       "               [[ 1.0595, -0.8830,  1.6696],\n",
       "                [-1.5925,  1.6795,  2.3015]],\n",
       "       \n",
       "               [[ 1.0595, -0.8830,  1.6696],\n",
       "                [-1.5925,  1.6795,  2.3015]],\n",
       "       \n",
       "               [[ 1.0595, -0.8830,  1.6696],\n",
       "                [-1.5925,  1.6795,  2.3015]],\n",
       "       \n",
       "               [[ 1.0595, -0.8830,  1.6696],\n",
       "                [-1.5925,  1.6795,  2.3015]],\n",
       "       \n",
       "               [[ 1.0595, -0.8830,  1.6696],\n",
       "                [-1.5925,  1.6795,  2.3015]]]),\n",
       ")"
      ]
     },
     "execution_count": 25,
     "metadata": {},
     "output_type": "execute_result"
    }
   ],
   "source": [
    "batches = [Batch(**_TREE_DATA_2) for _ in range(8)]\n",
    "\n",
    "Batch.stack(batches)"
   ]
  },
  {
   "cell_type": "code",
   "execution_count": 26,
   "id": "ec9037a3",
   "metadata": {
    "execution": {
     "iopub.execute_input": "2023-02-25T18:59:49.822317Z",
     "iopub.status.busy": "2023-02-25T18:59:49.821776Z",
     "iopub.status.idle": "2023-02-25T18:59:56.176888Z",
     "shell.execute_reply": "2023-02-25T18:59:56.175991Z"
    }
   },
   "outputs": [
    {
     "name": "stdout",
     "output_type": "stream",
     "text": [
      "78.2 µs ± 160 ns per loop (mean ± std. dev. of 7 runs, 10,000 loops each)\n"
     ]
    }
   ],
   "source": [
    "%timeit Batch.stack(batches)"
   ]
  },
  {
   "cell_type": "code",
   "execution_count": 27,
   "id": "cb8ab77e",
   "metadata": {
    "execution": {
     "iopub.execute_input": "2023-02-25T18:59:56.180434Z",
     "iopub.status.busy": "2023-02-25T18:59:56.179840Z",
     "iopub.status.idle": "2023-02-25T18:59:56.187952Z",
     "shell.execute_reply": "2023-02-25T18:59:56.187334Z"
    }
   },
   "outputs": [
    {
     "data": {
      "text/plain": [
       "Batch(\n",
       "    x: Batch(\n",
       "           c: tensor([[-0.0599, -1.9261,  1.0801,  0.5003],\n",
       "                      [ 1.8525,  1.5252,  1.0359,  0.1305],\n",
       "                      [-1.5540,  0.4817,  0.2730,  0.6077],\n",
       "                      [-0.0599, -1.9261,  1.0801,  0.5003],\n",
       "                      [ 1.8525,  1.5252,  1.0359,  0.1305],\n",
       "                      [-1.5540,  0.4817,  0.2730,  0.6077],\n",
       "                      [-0.0599, -1.9261,  1.0801,  0.5003],\n",
       "                      [ 1.8525,  1.5252,  1.0359,  0.1305],\n",
       "                      [-1.5540,  0.4817,  0.2730,  0.6077],\n",
       "                      [-0.0599, -1.9261,  1.0801,  0.5003],\n",
       "                      [ 1.8525,  1.5252,  1.0359,  0.1305],\n",
       "                      [-1.5540,  0.4817,  0.2730,  0.6077],\n",
       "                      [-0.0599, -1.9261,  1.0801,  0.5003],\n",
       "                      [ 1.8525,  1.5252,  1.0359,  0.1305],\n",
       "                      [-1.5540,  0.4817,  0.2730,  0.6077],\n",
       "                      [-0.0599, -1.9261,  1.0801,  0.5003],\n",
       "                      [ 1.8525,  1.5252,  1.0359,  0.1305],\n",
       "                      [-1.5540,  0.4817,  0.2730,  0.6077],\n",
       "                      [-0.0599, -1.9261,  1.0801,  0.5003],\n",
       "                      [ 1.8525,  1.5252,  1.0359,  0.1305],\n",
       "                      [-1.5540,  0.4817,  0.2730,  0.6077],\n",
       "                      [-0.0599, -1.9261,  1.0801,  0.5003],\n",
       "                      [ 1.8525,  1.5252,  1.0359,  0.1305],\n",
       "                      [-1.5540,  0.4817,  0.2730,  0.6077]]),\n",
       "       ),\n",
       "    a: tensor([[ 1.0595, -0.8830,  1.6696],\n",
       "               [-1.5925,  1.6795,  2.3015],\n",
       "               [ 1.0595, -0.8830,  1.6696],\n",
       "               [-1.5925,  1.6795,  2.3015],\n",
       "               [ 1.0595, -0.8830,  1.6696],\n",
       "               [-1.5925,  1.6795,  2.3015],\n",
       "               [ 1.0595, -0.8830,  1.6696],\n",
       "               [-1.5925,  1.6795,  2.3015],\n",
       "               [ 1.0595, -0.8830,  1.6696],\n",
       "               [-1.5925,  1.6795,  2.3015],\n",
       "               [ 1.0595, -0.8830,  1.6696],\n",
       "               [-1.5925,  1.6795,  2.3015],\n",
       "               [ 1.0595, -0.8830,  1.6696],\n",
       "               [-1.5925,  1.6795,  2.3015],\n",
       "               [ 1.0595, -0.8830,  1.6696],\n",
       "               [-1.5925,  1.6795,  2.3015]]),\n",
       ")"
      ]
     },
     "execution_count": 27,
     "metadata": {},
     "output_type": "execute_result"
    }
   ],
   "source": [
    "Batch.cat(batches)"
   ]
  },
  {
   "cell_type": "code",
   "execution_count": 28,
   "id": "18dfb045",
   "metadata": {
    "execution": {
     "iopub.execute_input": "2023-02-25T18:59:56.190885Z",
     "iopub.status.busy": "2023-02-25T18:59:56.190282Z",
     "iopub.status.idle": "2023-02-25T19:00:08.341732Z",
     "shell.execute_reply": "2023-02-25T19:00:08.340860Z"
    }
   },
   "outputs": [
    {
     "name": "stdout",
     "output_type": "stream",
     "text": [
      "150 µs ± 2.4 µs per loop (mean ± std. dev. of 7 runs, 10,000 loops each)\n"
     ]
    }
   ],
   "source": [
    "%timeit Batch.cat(batches)"
   ]
  },
  {
   "cell_type": "code",
   "execution_count": 29,
   "id": "c6688e51",
   "metadata": {
    "execution": {
     "iopub.execute_input": "2023-02-25T19:00:08.345269Z",
     "iopub.status.busy": "2023-02-25T19:00:08.344615Z",
     "iopub.status.idle": "2023-02-25T19:00:11.022515Z",
     "shell.execute_reply": "2023-02-25T19:00:11.021767Z"
    }
   },
   "outputs": [
    {
     "name": "stdout",
     "output_type": "stream",
     "text": [
      "329 µs ± 1.88 µs per loop (mean ± std. dev. of 7 runs, 1,000 loops each)\n"
     ]
    }
   ],
   "source": [
    "batch = Batch({\n",
    "    'obs': torch.randn(8, 4, 84, 84),\n",
    "    'action': torch.randint(0, 6, size=(8, 1,)),\n",
    "    'reward': torch.rand(8, 1)}\n",
    ")\n",
    "\n",
    "%timeit list(Batch.split(batch, 1, shuffle=False, merge_last=True))"
   ]
  },
  {
   "cell_type": "code",
   "execution_count": null,
   "id": "2539fbd9",
   "metadata": {},
   "outputs": [],
   "source": []
  }
 ],
 "metadata": {
  "kernelspec": {
   "display_name": "Python 3 (ipykernel)",
   "language": "python",
   "name": "python3"
  },
  "language_info": {
   "codemirror_mode": {
    "name": "ipython",
    "version": 3
   },
   "file_extension": ".py",
   "mimetype": "text/x-python",
   "name": "python",
   "nbconvert_exporter": "python",
   "pygments_lexer": "ipython3",
   "version": "3.8.16"
  }
 },
 "nbformat": 4,
 "nbformat_minor": 5
}
