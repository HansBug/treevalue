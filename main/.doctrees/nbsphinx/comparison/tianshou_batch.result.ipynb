{
 "cells": [
  {
   "cell_type": "markdown",
   "id": "9d39d946",
   "metadata": {},
   "source": [
    "# Comparison Between TreeValue and Tianshou Batch"
   ]
  },
  {
   "cell_type": "markdown",
   "id": "3c6db2d4",
   "metadata": {},
   "source": [
    "In this section, we will take a look at the feature and performance of the [Tianshou Batch](https://github.com/thu-ml/tianshou) library, which is developed by Tsinghua Machine Learning Group."
   ]
  },
  {
   "cell_type": "markdown",
   "id": "069361b0",
   "metadata": {},
   "source": [
    "Before starting the comparison, let us define some thing."
   ]
  },
  {
   "cell_type": "code",
   "execution_count": 1,
   "id": "06fc8d26",
   "metadata": {
    "execution": {
     "iopub.execute_input": "2023-01-29T03:30:49.257235Z",
     "iopub.status.busy": "2023-01-29T03:30:49.257032Z",
     "iopub.status.idle": "2023-01-29T03:30:50.150866Z",
     "shell.execute_reply": "2023-01-29T03:30:50.149905Z"
    }
   },
   "outputs": [
    {
     "name": "stderr",
     "output_type": "stream",
     "text": [
      "/opt/hostedtoolcache/Python/3.8.16/x64/lib/python3.8/site-packages/tqdm/auto.py:22: TqdmWarning: IProgress not found. Please update jupyter and ipywidgets. See https://ipywidgets.readthedocs.io/en/stable/user_install.html\n",
      "  from .autonotebook import tqdm as notebook_tqdm\n"
     ]
    }
   ],
   "source": [
    "import torch \n",
    "\n",
    "_TREE_DATA_1 = {'a': 1, 'b': 2, 'x': {'c': 3, 'd': 4}}\n",
    "_TREE_DATA_2 = {\n",
    "    'a': torch.randn(2, 3), \n",
    "    'x': {\n",
    "        'c': torch.randn(3, 4)\n",
    "    },\n",
    "}\n",
    "_TREE_DATA_3 = {\n",
    "    'obs': torch.randn(4, 84, 84),\n",
    "    'action': torch.randint(0, 6, size=(1,)),\n",
    "    'reward': torch.rand(1),\n",
    "}"
   ]
  },
  {
   "cell_type": "markdown",
   "id": "83461b25",
   "metadata": {},
   "source": [
    "## Read and Write Operation"
   ]
  },
  {
   "cell_type": "markdown",
   "id": "067b3f73",
   "metadata": {},
   "source": [
    "Reading and writing are the two most common operations in the tree data structure based on the data model (TreeValue and Tianshou Batch both belong to this type), so this section will compare the reading and writing performance of these two libraries."
   ]
  },
  {
   "cell_type": "markdown",
   "id": "5d09a5b7",
   "metadata": {},
   "source": [
    "### TreeValue's Get and Set"
   ]
  },
  {
   "cell_type": "code",
   "execution_count": 2,
   "id": "9519c4bb",
   "metadata": {
    "execution": {
     "iopub.execute_input": "2023-01-29T03:30:50.153996Z",
     "iopub.status.busy": "2023-01-29T03:30:50.153537Z",
     "iopub.status.idle": "2023-01-29T03:30:50.185468Z",
     "shell.execute_reply": "2023-01-29T03:30:50.184882Z"
    }
   },
   "outputs": [],
   "source": [
    "from treevalue import FastTreeValue\n",
    "\n",
    "t = FastTreeValue(_TREE_DATA_2)"
   ]
  },
  {
   "cell_type": "code",
   "execution_count": 3,
   "id": "11c37677",
   "metadata": {
    "execution": {
     "iopub.execute_input": "2023-01-29T03:30:50.188151Z",
     "iopub.status.busy": "2023-01-29T03:30:50.187621Z",
     "iopub.status.idle": "2023-01-29T03:30:50.195729Z",
     "shell.execute_reply": "2023-01-29T03:30:50.195088Z"
    }
   },
   "outputs": [
    {
     "data": {
      "text/plain": [
       "<FastTreeValue 0x7f4a704e26a0>\n",
       "├── 'a' --> tensor([[-1.8386,  1.7245, -0.3126],\n",
       "│                   [-0.6294,  0.9176,  1.7621]])\n",
       "└── 'x' --> <FastTreeValue 0x7f4a704e2670>\n",
       "    └── 'c' --> tensor([[ 1.2463,  0.2042,  1.5002, -1.6245],\n",
       "                        [-1.3846, -0.7254,  0.6827,  0.7584],\n",
       "                        [-1.8846, -0.3727, -0.8035, -0.9024]])"
      ]
     },
     "execution_count": 3,
     "metadata": {},
     "output_type": "execute_result"
    }
   ],
   "source": [
    "t"
   ]
  },
  {
   "cell_type": "code",
   "execution_count": 4,
   "id": "fd70b0b9",
   "metadata": {
    "execution": {
     "iopub.execute_input": "2023-01-29T03:30:50.198342Z",
     "iopub.status.busy": "2023-01-29T03:30:50.198005Z",
     "iopub.status.idle": "2023-01-29T03:30:50.202645Z",
     "shell.execute_reply": "2023-01-29T03:30:50.202019Z"
    }
   },
   "outputs": [
    {
     "data": {
      "text/plain": [
       "tensor([[-1.8386,  1.7245, -0.3126],\n",
       "        [-0.6294,  0.9176,  1.7621]])"
      ]
     },
     "execution_count": 4,
     "metadata": {},
     "output_type": "execute_result"
    }
   ],
   "source": [
    "t.a"
   ]
  },
  {
   "cell_type": "code",
   "execution_count": 5,
   "id": "c18197bd",
   "metadata": {
    "execution": {
     "iopub.execute_input": "2023-01-29T03:30:50.204997Z",
     "iopub.status.busy": "2023-01-29T03:30:50.204662Z",
     "iopub.status.idle": "2023-01-29T03:30:55.133973Z",
     "shell.execute_reply": "2023-01-29T03:30:55.133258Z"
    }
   },
   "outputs": [
    {
     "name": "stdout",
     "output_type": "stream",
     "text": [
      "60.6 ns ± 0.0652 ns per loop (mean ± std. dev. of 7 runs, 10,000,000 loops each)\n"
     ]
    }
   ],
   "source": [
    "%timeit t.a"
   ]
  },
  {
   "cell_type": "code",
   "execution_count": 6,
   "id": "bd52f867",
   "metadata": {
    "execution": {
     "iopub.execute_input": "2023-01-29T03:30:55.136798Z",
     "iopub.status.busy": "2023-01-29T03:30:55.136459Z",
     "iopub.status.idle": "2023-01-29T03:30:55.143633Z",
     "shell.execute_reply": "2023-01-29T03:30:55.142613Z"
    }
   },
   "outputs": [
    {
     "data": {
      "text/plain": [
       "<FastTreeValue 0x7f4a704e26a0>\n",
       "├── 'a' --> tensor([[ 0.8165, -0.3276, -0.5129],\n",
       "│                   [-0.1766,  0.3480,  0.8524]])\n",
       "└── 'x' --> <FastTreeValue 0x7f4a704e2670>\n",
       "    └── 'c' --> tensor([[ 1.2463,  0.2042,  1.5002, -1.6245],\n",
       "                        [-1.3846, -0.7254,  0.6827,  0.7584],\n",
       "                        [-1.8846, -0.3727, -0.8035, -0.9024]])"
      ]
     },
     "execution_count": 6,
     "metadata": {},
     "output_type": "execute_result"
    }
   ],
   "source": [
    "new_value = torch.randn(2, 3)\n",
    "t.a = new_value\n",
    "\n",
    "t"
   ]
  },
  {
   "cell_type": "code",
   "execution_count": 7,
   "id": "bbe04d1c",
   "metadata": {
    "execution": {
     "iopub.execute_input": "2023-01-29T03:30:55.146248Z",
     "iopub.status.busy": "2023-01-29T03:30:55.145921Z",
     "iopub.status.idle": "2023-01-29T03:30:59.924653Z",
     "shell.execute_reply": "2023-01-29T03:30:59.923919Z"
    }
   },
   "outputs": [
    {
     "name": "stdout",
     "output_type": "stream",
     "text": [
      "58.8 ns ± 0.0223 ns per loop (mean ± std. dev. of 7 runs, 10,000,000 loops each)\n"
     ]
    }
   ],
   "source": [
    "%timeit t.a = new_value"
   ]
  },
  {
   "cell_type": "markdown",
   "id": "48c49731",
   "metadata": {},
   "source": [
    "### Tianshou Batch's Get and Set"
   ]
  },
  {
   "cell_type": "code",
   "execution_count": 8,
   "id": "f1bb14c1",
   "metadata": {
    "execution": {
     "iopub.execute_input": "2023-01-29T03:30:59.927735Z",
     "iopub.status.busy": "2023-01-29T03:30:59.927396Z",
     "iopub.status.idle": "2023-01-29T03:31:00.250343Z",
     "shell.execute_reply": "2023-01-29T03:31:00.249327Z"
    }
   },
   "outputs": [],
   "source": [
    "from tianshou.data import Batch\n",
    "\n",
    "b = Batch(**_TREE_DATA_2)"
   ]
  },
  {
   "cell_type": "code",
   "execution_count": 9,
   "id": "cb0777c3",
   "metadata": {
    "execution": {
     "iopub.execute_input": "2023-01-29T03:31:00.253453Z",
     "iopub.status.busy": "2023-01-29T03:31:00.253040Z",
     "iopub.status.idle": "2023-01-29T03:31:00.258326Z",
     "shell.execute_reply": "2023-01-29T03:31:00.257701Z"
    }
   },
   "outputs": [
    {
     "data": {
      "text/plain": [
       "Batch(\n",
       "    a: tensor([[-1.8386,  1.7245, -0.3126],\n",
       "               [-0.6294,  0.9176,  1.7621]]),\n",
       "    x: Batch(\n",
       "           c: tensor([[ 1.2463,  0.2042,  1.5002, -1.6245],\n",
       "                      [-1.3846, -0.7254,  0.6827,  0.7584],\n",
       "                      [-1.8846, -0.3727, -0.8035, -0.9024]]),\n",
       "       ),\n",
       ")"
      ]
     },
     "execution_count": 9,
     "metadata": {},
     "output_type": "execute_result"
    }
   ],
   "source": [
    "b"
   ]
  },
  {
   "cell_type": "code",
   "execution_count": 10,
   "id": "43ef8ea3",
   "metadata": {
    "execution": {
     "iopub.execute_input": "2023-01-29T03:31:00.260816Z",
     "iopub.status.busy": "2023-01-29T03:31:00.260477Z",
     "iopub.status.idle": "2023-01-29T03:31:00.265830Z",
     "shell.execute_reply": "2023-01-29T03:31:00.265236Z"
    }
   },
   "outputs": [
    {
     "data": {
      "text/plain": [
       "tensor([[-1.8386,  1.7245, -0.3126],\n",
       "        [-0.6294,  0.9176,  1.7621]])"
      ]
     },
     "execution_count": 10,
     "metadata": {},
     "output_type": "execute_result"
    }
   ],
   "source": [
    "b.a"
   ]
  },
  {
   "cell_type": "code",
   "execution_count": 11,
   "id": "b785ab72",
   "metadata": {
    "execution": {
     "iopub.execute_input": "2023-01-29T03:31:00.268185Z",
     "iopub.status.busy": "2023-01-29T03:31:00.267844Z",
     "iopub.status.idle": "2023-01-29T03:31:04.959987Z",
     "shell.execute_reply": "2023-01-29T03:31:04.959277Z"
    }
   },
   "outputs": [
    {
     "name": "stdout",
     "output_type": "stream",
     "text": [
      "57.6 ns ± 0.209 ns per loop (mean ± std. dev. of 7 runs, 10,000,000 loops each)\n"
     ]
    }
   ],
   "source": [
    "%timeit b.a"
   ]
  },
  {
   "cell_type": "code",
   "execution_count": 12,
   "id": "ad54dc69",
   "metadata": {
    "execution": {
     "iopub.execute_input": "2023-01-29T03:31:04.962834Z",
     "iopub.status.busy": "2023-01-29T03:31:04.962484Z",
     "iopub.status.idle": "2023-01-29T03:31:04.968280Z",
     "shell.execute_reply": "2023-01-29T03:31:04.967646Z"
    }
   },
   "outputs": [
    {
     "data": {
      "text/plain": [
       "Batch(\n",
       "    a: tensor([[ 0.7545, -1.8119, -1.2611],\n",
       "               [-1.0523, -1.4646,  0.5181]]),\n",
       "    x: Batch(\n",
       "           c: tensor([[ 1.2463,  0.2042,  1.5002, -1.6245],\n",
       "                      [-1.3846, -0.7254,  0.6827,  0.7584],\n",
       "                      [-1.8846, -0.3727, -0.8035, -0.9024]]),\n",
       "       ),\n",
       ")"
      ]
     },
     "execution_count": 12,
     "metadata": {},
     "output_type": "execute_result"
    }
   ],
   "source": [
    "new_value = torch.randn(2, 3)\n",
    "b.a = new_value\n",
    "\n",
    "b"
   ]
  },
  {
   "cell_type": "code",
   "execution_count": 13,
   "id": "29b1d0bf",
   "metadata": {
    "execution": {
     "iopub.execute_input": "2023-01-29T03:31:04.970765Z",
     "iopub.status.busy": "2023-01-29T03:31:04.970430Z",
     "iopub.status.idle": "2023-01-29T03:31:08.948114Z",
     "shell.execute_reply": "2023-01-29T03:31:08.947398Z"
    }
   },
   "outputs": [
    {
     "name": "stdout",
     "output_type": "stream",
     "text": [
      "490 ns ± 0.162 ns per loop (mean ± std. dev. of 7 runs, 1,000,000 loops each)\n"
     ]
    }
   ],
   "source": [
    "%timeit b.a = new_value"
   ]
  },
  {
   "cell_type": "markdown",
   "id": "b61ad1d0",
   "metadata": {},
   "source": [
    "## Initialization"
   ]
  },
  {
   "cell_type": "markdown",
   "id": "d70f0d54",
   "metadata": {},
   "source": [
    "### TreeValue's Initialization"
   ]
  },
  {
   "cell_type": "code",
   "execution_count": 14,
   "id": "d32a679b",
   "metadata": {
    "execution": {
     "iopub.execute_input": "2023-01-29T03:31:08.951616Z",
     "iopub.status.busy": "2023-01-29T03:31:08.950951Z",
     "iopub.status.idle": "2023-01-29T03:31:15.912114Z",
     "shell.execute_reply": "2023-01-29T03:31:15.911402Z"
    }
   },
   "outputs": [
    {
     "name": "stdout",
     "output_type": "stream",
     "text": [
      "858 ns ± 4.07 ns per loop (mean ± std. dev. of 7 runs, 1,000,000 loops each)\n"
     ]
    }
   ],
   "source": [
    "%timeit FastTreeValue(_TREE_DATA_1)"
   ]
  },
  {
   "cell_type": "markdown",
   "id": "24f3707b",
   "metadata": {},
   "source": [
    "### Tianshou Batch's Initialization"
   ]
  },
  {
   "cell_type": "code",
   "execution_count": 15,
   "id": "ac3958df",
   "metadata": {
    "execution": {
     "iopub.execute_input": "2023-01-29T03:31:15.914975Z",
     "iopub.status.busy": "2023-01-29T03:31:15.914626Z",
     "iopub.status.idle": "2023-01-29T03:31:24.988280Z",
     "shell.execute_reply": "2023-01-29T03:31:24.987564Z"
    }
   },
   "outputs": [
    {
     "name": "stdout",
     "output_type": "stream",
     "text": [
      "11.2 µs ± 67.4 ns per loop (mean ± std. dev. of 7 runs, 100,000 loops each)\n"
     ]
    }
   ],
   "source": [
    "%timeit Batch(**_TREE_DATA_1)"
   ]
  },
  {
   "cell_type": "markdown",
   "id": "1ab82e2d",
   "metadata": {},
   "source": [
    "## Deep Copy Operation"
   ]
  },
  {
   "cell_type": "code",
   "execution_count": 16,
   "id": "210a9442",
   "metadata": {
    "execution": {
     "iopub.execute_input": "2023-01-29T03:31:24.991565Z",
     "iopub.status.busy": "2023-01-29T03:31:24.991067Z",
     "iopub.status.idle": "2023-01-29T03:31:24.995055Z",
     "shell.execute_reply": "2023-01-29T03:31:24.994459Z"
    }
   },
   "outputs": [],
   "source": [
    "import copy"
   ]
  },
  {
   "cell_type": "markdown",
   "id": "5a736274",
   "metadata": {},
   "source": [
    "### Deep Copy of TreeValue"
   ]
  },
  {
   "cell_type": "code",
   "execution_count": 17,
   "id": "f9bcadd6",
   "metadata": {
    "execution": {
     "iopub.execute_input": "2023-01-29T03:31:24.997726Z",
     "iopub.status.busy": "2023-01-29T03:31:24.997183Z",
     "iopub.status.idle": "2023-01-29T03:31:36.183776Z",
     "shell.execute_reply": "2023-01-29T03:31:36.183123Z"
    }
   },
   "outputs": [
    {
     "name": "stdout",
     "output_type": "stream",
     "text": [
      "138 µs ± 934 ns per loop (mean ± std. dev. of 7 runs, 10,000 loops each)\n"
     ]
    }
   ],
   "source": [
    "t3 = FastTreeValue(_TREE_DATA_3)\n",
    "%timeit copy.deepcopy(t3)"
   ]
  },
  {
   "cell_type": "markdown",
   "id": "bf8be7ea",
   "metadata": {},
   "source": [
    "### Deep Copy of Tianshou Batch"
   ]
  },
  {
   "cell_type": "code",
   "execution_count": 18,
   "id": "91998e6f",
   "metadata": {
    "execution": {
     "iopub.execute_input": "2023-01-29T03:31:36.187102Z",
     "iopub.status.busy": "2023-01-29T03:31:36.186769Z",
     "iopub.status.idle": "2023-01-29T03:31:47.552625Z",
     "shell.execute_reply": "2023-01-29T03:31:47.551927Z"
    }
   },
   "outputs": [
    {
     "name": "stdout",
     "output_type": "stream",
     "text": [
      "140 µs ± 336 ns per loop (mean ± std. dev. of 7 runs, 10,000 loops each)\n"
     ]
    }
   ],
   "source": [
    "b3 = Batch(**_TREE_DATA_3)\n",
    "%timeit copy.deepcopy(b3)"
   ]
  },
  {
   "cell_type": "markdown",
   "id": "223162fb",
   "metadata": {},
   "source": [
    "## Stack, Concat and Split Operation"
   ]
  },
  {
   "cell_type": "markdown",
   "id": "85fa4a73",
   "metadata": {},
   "source": [
    "### Performance of TreeValue"
   ]
  },
  {
   "cell_type": "code",
   "execution_count": 19,
   "id": "a0c2b697",
   "metadata": {
    "execution": {
     "iopub.execute_input": "2023-01-29T03:31:47.555983Z",
     "iopub.status.busy": "2023-01-29T03:31:47.555649Z",
     "iopub.status.idle": "2023-01-29T03:31:47.560171Z",
     "shell.execute_reply": "2023-01-29T03:31:47.559161Z"
    }
   },
   "outputs": [],
   "source": [
    "trees = [FastTreeValue(_TREE_DATA_2) for _ in range(8)]"
   ]
  },
  {
   "cell_type": "code",
   "execution_count": 20,
   "id": "017ea5a5",
   "metadata": {
    "execution": {
     "iopub.execute_input": "2023-01-29T03:31:47.562950Z",
     "iopub.status.busy": "2023-01-29T03:31:47.562520Z",
     "iopub.status.idle": "2023-01-29T03:31:47.571615Z",
     "shell.execute_reply": "2023-01-29T03:31:47.570700Z"
    }
   },
   "outputs": [
    {
     "data": {
      "text/plain": [
       "<FastTreeValue 0x7f4a725733a0>\n",
       "├── 'a' --> tensor([[[-1.8386,  1.7245, -0.3126],\n",
       "│                    [-0.6294,  0.9176,  1.7621]],\n",
       "│           \n",
       "│                   [[-1.8386,  1.7245, -0.3126],\n",
       "│                    [-0.6294,  0.9176,  1.7621]],\n",
       "│           \n",
       "│                   [[-1.8386,  1.7245, -0.3126],\n",
       "│                    [-0.6294,  0.9176,  1.7621]],\n",
       "│           \n",
       "│                   [[-1.8386,  1.7245, -0.3126],\n",
       "│                    [-0.6294,  0.9176,  1.7621]],\n",
       "│           \n",
       "│                   [[-1.8386,  1.7245, -0.3126],\n",
       "│                    [-0.6294,  0.9176,  1.7621]],\n",
       "│           \n",
       "│                   [[-1.8386,  1.7245, -0.3126],\n",
       "│                    [-0.6294,  0.9176,  1.7621]],\n",
       "│           \n",
       "│                   [[-1.8386,  1.7245, -0.3126],\n",
       "│                    [-0.6294,  0.9176,  1.7621]],\n",
       "│           \n",
       "│                   [[-1.8386,  1.7245, -0.3126],\n",
       "│                    [-0.6294,  0.9176,  1.7621]]])\n",
       "└── 'x' --> <FastTreeValue 0x7f49c31edf40>\n",
       "    └── 'c' --> tensor([[[ 1.2463,  0.2042,  1.5002, -1.6245],\n",
       "                         [-1.3846, -0.7254,  0.6827,  0.7584],\n",
       "                         [-1.8846, -0.3727, -0.8035, -0.9024]],\n",
       "                \n",
       "                        [[ 1.2463,  0.2042,  1.5002, -1.6245],\n",
       "                         [-1.3846, -0.7254,  0.6827,  0.7584],\n",
       "                         [-1.8846, -0.3727, -0.8035, -0.9024]],\n",
       "                \n",
       "                        [[ 1.2463,  0.2042,  1.5002, -1.6245],\n",
       "                         [-1.3846, -0.7254,  0.6827,  0.7584],\n",
       "                         [-1.8846, -0.3727, -0.8035, -0.9024]],\n",
       "                \n",
       "                        [[ 1.2463,  0.2042,  1.5002, -1.6245],\n",
       "                         [-1.3846, -0.7254,  0.6827,  0.7584],\n",
       "                         [-1.8846, -0.3727, -0.8035, -0.9024]],\n",
       "                \n",
       "                        [[ 1.2463,  0.2042,  1.5002, -1.6245],\n",
       "                         [-1.3846, -0.7254,  0.6827,  0.7584],\n",
       "                         [-1.8846, -0.3727, -0.8035, -0.9024]],\n",
       "                \n",
       "                        [[ 1.2463,  0.2042,  1.5002, -1.6245],\n",
       "                         [-1.3846, -0.7254,  0.6827,  0.7584],\n",
       "                         [-1.8846, -0.3727, -0.8035, -0.9024]],\n",
       "                \n",
       "                        [[ 1.2463,  0.2042,  1.5002, -1.6245],\n",
       "                         [-1.3846, -0.7254,  0.6827,  0.7584],\n",
       "                         [-1.8846, -0.3727, -0.8035, -0.9024]],\n",
       "                \n",
       "                        [[ 1.2463,  0.2042,  1.5002, -1.6245],\n",
       "                         [-1.3846, -0.7254,  0.6827,  0.7584],\n",
       "                         [-1.8846, -0.3727, -0.8035, -0.9024]]])"
      ]
     },
     "execution_count": 20,
     "metadata": {},
     "output_type": "execute_result"
    }
   ],
   "source": [
    "t_stack = FastTreeValue.func(subside=True)(torch.stack)\n",
    "\n",
    "t_stack(trees)"
   ]
  },
  {
   "cell_type": "code",
   "execution_count": 21,
   "id": "f8b3f415",
   "metadata": {
    "execution": {
     "iopub.execute_input": "2023-01-29T03:31:47.574437Z",
     "iopub.status.busy": "2023-01-29T03:31:47.573969Z",
     "iopub.status.idle": "2023-01-29T03:31:50.231929Z",
     "shell.execute_reply": "2023-01-29T03:31:50.231220Z"
    }
   },
   "outputs": [
    {
     "name": "stdout",
     "output_type": "stream",
     "text": [
      "32.7 µs ± 67.3 ns per loop (mean ± std. dev. of 7 runs, 10,000 loops each)\n"
     ]
    }
   ],
   "source": [
    "%timeit t_stack(trees)"
   ]
  },
  {
   "cell_type": "code",
   "execution_count": 22,
   "id": "94b56771",
   "metadata": {
    "execution": {
     "iopub.execute_input": "2023-01-29T03:31:50.235200Z",
     "iopub.status.busy": "2023-01-29T03:31:50.234695Z",
     "iopub.status.idle": "2023-01-29T03:31:50.242859Z",
     "shell.execute_reply": "2023-01-29T03:31:50.241960Z"
    }
   },
   "outputs": [
    {
     "data": {
      "text/plain": [
       "<FastTreeValue 0x7f49c31c5d60>\n",
       "├── 'a' --> tensor([[-1.8386,  1.7245, -0.3126],\n",
       "│                   [-0.6294,  0.9176,  1.7621],\n",
       "│                   [-1.8386,  1.7245, -0.3126],\n",
       "│                   [-0.6294,  0.9176,  1.7621],\n",
       "│                   [-1.8386,  1.7245, -0.3126],\n",
       "│                   [-0.6294,  0.9176,  1.7621],\n",
       "│                   [-1.8386,  1.7245, -0.3126],\n",
       "│                   [-0.6294,  0.9176,  1.7621],\n",
       "│                   [-1.8386,  1.7245, -0.3126],\n",
       "│                   [-0.6294,  0.9176,  1.7621],\n",
       "│                   [-1.8386,  1.7245, -0.3126],\n",
       "│                   [-0.6294,  0.9176,  1.7621],\n",
       "│                   [-1.8386,  1.7245, -0.3126],\n",
       "│                   [-0.6294,  0.9176,  1.7621],\n",
       "│                   [-1.8386,  1.7245, -0.3126],\n",
       "│                   [-0.6294,  0.9176,  1.7621]])\n",
       "└── 'x' --> <FastTreeValue 0x7f49c31c58e0>\n",
       "    └── 'c' --> tensor([[ 1.2463,  0.2042,  1.5002, -1.6245],\n",
       "                        [-1.3846, -0.7254,  0.6827,  0.7584],\n",
       "                        [-1.8846, -0.3727, -0.8035, -0.9024],\n",
       "                        [ 1.2463,  0.2042,  1.5002, -1.6245],\n",
       "                        [-1.3846, -0.7254,  0.6827,  0.7584],\n",
       "                        [-1.8846, -0.3727, -0.8035, -0.9024],\n",
       "                        [ 1.2463,  0.2042,  1.5002, -1.6245],\n",
       "                        [-1.3846, -0.7254,  0.6827,  0.7584],\n",
       "                        [-1.8846, -0.3727, -0.8035, -0.9024],\n",
       "                        [ 1.2463,  0.2042,  1.5002, -1.6245],\n",
       "                        [-1.3846, -0.7254,  0.6827,  0.7584],\n",
       "                        [-1.8846, -0.3727, -0.8035, -0.9024],\n",
       "                        [ 1.2463,  0.2042,  1.5002, -1.6245],\n",
       "                        [-1.3846, -0.7254,  0.6827,  0.7584],\n",
       "                        [-1.8846, -0.3727, -0.8035, -0.9024],\n",
       "                        [ 1.2463,  0.2042,  1.5002, -1.6245],\n",
       "                        [-1.3846, -0.7254,  0.6827,  0.7584],\n",
       "                        [-1.8846, -0.3727, -0.8035, -0.9024],\n",
       "                        [ 1.2463,  0.2042,  1.5002, -1.6245],\n",
       "                        [-1.3846, -0.7254,  0.6827,  0.7584],\n",
       "                        [-1.8846, -0.3727, -0.8035, -0.9024],\n",
       "                        [ 1.2463,  0.2042,  1.5002, -1.6245],\n",
       "                        [-1.3846, -0.7254,  0.6827,  0.7584],\n",
       "                        [-1.8846, -0.3727, -0.8035, -0.9024]])"
      ]
     },
     "execution_count": 22,
     "metadata": {},
     "output_type": "execute_result"
    }
   ],
   "source": [
    "t_cat = FastTreeValue.func(subside=True)(torch.cat)\n",
    "\n",
    "t_cat(trees)"
   ]
  },
  {
   "cell_type": "code",
   "execution_count": 23,
   "id": "5e9c06a6",
   "metadata": {
    "execution": {
     "iopub.execute_input": "2023-01-29T03:31:50.245683Z",
     "iopub.status.busy": "2023-01-29T03:31:50.245135Z",
     "iopub.status.idle": "2023-01-29T03:31:52.762437Z",
     "shell.execute_reply": "2023-01-29T03:31:52.761756Z"
    }
   },
   "outputs": [
    {
     "name": "stdout",
     "output_type": "stream",
     "text": [
      "30.9 µs ± 33 ns per loop (mean ± std. dev. of 7 runs, 10,000 loops each)\n"
     ]
    }
   ],
   "source": [
    "%timeit t_cat(trees)"
   ]
  },
  {
   "cell_type": "code",
   "execution_count": 24,
   "id": "a3ab5c8f",
   "metadata": {
    "execution": {
     "iopub.execute_input": "2023-01-29T03:31:52.765836Z",
     "iopub.status.busy": "2023-01-29T03:31:52.765243Z",
     "iopub.status.idle": "2023-01-29T03:31:57.432980Z",
     "shell.execute_reply": "2023-01-29T03:31:57.432358Z"
    }
   },
   "outputs": [
    {
     "name": "stdout",
     "output_type": "stream",
     "text": [
      "57.4 µs ± 131 ns per loop (mean ± std. dev. of 7 runs, 10,000 loops each)\n"
     ]
    }
   ],
   "source": [
    "t_split = FastTreeValue.func(rise=True)(torch.split)\n",
    "tree = FastTreeValue({\n",
    "    'obs': torch.randn(8, 4, 84, 84),\n",
    "    'action': torch.randint(0, 6, size=(8, 1,)),\n",
    "    'reward': torch.rand(8, 1),\n",
    "})\n",
    "\n",
    "%timeit t_split(tree, 1)"
   ]
  },
  {
   "cell_type": "markdown",
   "id": "31c3ec0b",
   "metadata": {},
   "source": [
    "### Performance of Tianshou Batch"
   ]
  },
  {
   "cell_type": "code",
   "execution_count": 25,
   "id": "9ead828a",
   "metadata": {
    "execution": {
     "iopub.execute_input": "2023-01-29T03:31:57.435920Z",
     "iopub.status.busy": "2023-01-29T03:31:57.435563Z",
     "iopub.status.idle": "2023-01-29T03:31:57.443420Z",
     "shell.execute_reply": "2023-01-29T03:31:57.442839Z"
    }
   },
   "outputs": [
    {
     "data": {
      "text/plain": [
       "Batch(\n",
       "    a: tensor([[[-1.8386,  1.7245, -0.3126],\n",
       "                [-0.6294,  0.9176,  1.7621]],\n",
       "       \n",
       "               [[-1.8386,  1.7245, -0.3126],\n",
       "                [-0.6294,  0.9176,  1.7621]],\n",
       "       \n",
       "               [[-1.8386,  1.7245, -0.3126],\n",
       "                [-0.6294,  0.9176,  1.7621]],\n",
       "       \n",
       "               [[-1.8386,  1.7245, -0.3126],\n",
       "                [-0.6294,  0.9176,  1.7621]],\n",
       "       \n",
       "               [[-1.8386,  1.7245, -0.3126],\n",
       "                [-0.6294,  0.9176,  1.7621]],\n",
       "       \n",
       "               [[-1.8386,  1.7245, -0.3126],\n",
       "                [-0.6294,  0.9176,  1.7621]],\n",
       "       \n",
       "               [[-1.8386,  1.7245, -0.3126],\n",
       "                [-0.6294,  0.9176,  1.7621]],\n",
       "       \n",
       "               [[-1.8386,  1.7245, -0.3126],\n",
       "                [-0.6294,  0.9176,  1.7621]]]),\n",
       "    x: Batch(\n",
       "           c: tensor([[[ 1.2463,  0.2042,  1.5002, -1.6245],\n",
       "                       [-1.3846, -0.7254,  0.6827,  0.7584],\n",
       "                       [-1.8846, -0.3727, -0.8035, -0.9024]],\n",
       "              \n",
       "                      [[ 1.2463,  0.2042,  1.5002, -1.6245],\n",
       "                       [-1.3846, -0.7254,  0.6827,  0.7584],\n",
       "                       [-1.8846, -0.3727, -0.8035, -0.9024]],\n",
       "              \n",
       "                      [[ 1.2463,  0.2042,  1.5002, -1.6245],\n",
       "                       [-1.3846, -0.7254,  0.6827,  0.7584],\n",
       "                       [-1.8846, -0.3727, -0.8035, -0.9024]],\n",
       "              \n",
       "                      [[ 1.2463,  0.2042,  1.5002, -1.6245],\n",
       "                       [-1.3846, -0.7254,  0.6827,  0.7584],\n",
       "                       [-1.8846, -0.3727, -0.8035, -0.9024]],\n",
       "              \n",
       "                      [[ 1.2463,  0.2042,  1.5002, -1.6245],\n",
       "                       [-1.3846, -0.7254,  0.6827,  0.7584],\n",
       "                       [-1.8846, -0.3727, -0.8035, -0.9024]],\n",
       "              \n",
       "                      [[ 1.2463,  0.2042,  1.5002, -1.6245],\n",
       "                       [-1.3846, -0.7254,  0.6827,  0.7584],\n",
       "                       [-1.8846, -0.3727, -0.8035, -0.9024]],\n",
       "              \n",
       "                      [[ 1.2463,  0.2042,  1.5002, -1.6245],\n",
       "                       [-1.3846, -0.7254,  0.6827,  0.7584],\n",
       "                       [-1.8846, -0.3727, -0.8035, -0.9024]],\n",
       "              \n",
       "                      [[ 1.2463,  0.2042,  1.5002, -1.6245],\n",
       "                       [-1.3846, -0.7254,  0.6827,  0.7584],\n",
       "                       [-1.8846, -0.3727, -0.8035, -0.9024]]]),\n",
       "       ),\n",
       ")"
      ]
     },
     "execution_count": 25,
     "metadata": {},
     "output_type": "execute_result"
    }
   ],
   "source": [
    "batches = [Batch(**_TREE_DATA_2) for _ in range(8)]\n",
    "\n",
    "Batch.stack(batches)"
   ]
  },
  {
   "cell_type": "code",
   "execution_count": 26,
   "id": "ec9037a3",
   "metadata": {
    "execution": {
     "iopub.execute_input": "2023-01-29T03:31:57.445861Z",
     "iopub.status.busy": "2023-01-29T03:31:57.445517Z",
     "iopub.status.idle": "2023-01-29T03:32:03.841196Z",
     "shell.execute_reply": "2023-01-29T03:32:03.840530Z"
    }
   },
   "outputs": [
    {
     "name": "stdout",
     "output_type": "stream",
     "text": [
      "78.7 µs ± 132 ns per loop (mean ± std. dev. of 7 runs, 10,000 loops each)\n"
     ]
    }
   ],
   "source": [
    "%timeit Batch.stack(batches)"
   ]
  },
  {
   "cell_type": "code",
   "execution_count": 27,
   "id": "cb8ab77e",
   "metadata": {
    "execution": {
     "iopub.execute_input": "2023-01-29T03:32:03.844994Z",
     "iopub.status.busy": "2023-01-29T03:32:03.843899Z",
     "iopub.status.idle": "2023-01-29T03:32:03.853292Z",
     "shell.execute_reply": "2023-01-29T03:32:03.851773Z"
    }
   },
   "outputs": [
    {
     "data": {
      "text/plain": [
       "Batch(\n",
       "    a: tensor([[-1.8386,  1.7245, -0.3126],\n",
       "               [-0.6294,  0.9176,  1.7621],\n",
       "               [-1.8386,  1.7245, -0.3126],\n",
       "               [-0.6294,  0.9176,  1.7621],\n",
       "               [-1.8386,  1.7245, -0.3126],\n",
       "               [-0.6294,  0.9176,  1.7621],\n",
       "               [-1.8386,  1.7245, -0.3126],\n",
       "               [-0.6294,  0.9176,  1.7621],\n",
       "               [-1.8386,  1.7245, -0.3126],\n",
       "               [-0.6294,  0.9176,  1.7621],\n",
       "               [-1.8386,  1.7245, -0.3126],\n",
       "               [-0.6294,  0.9176,  1.7621],\n",
       "               [-1.8386,  1.7245, -0.3126],\n",
       "               [-0.6294,  0.9176,  1.7621],\n",
       "               [-1.8386,  1.7245, -0.3126],\n",
       "               [-0.6294,  0.9176,  1.7621]]),\n",
       "    x: Batch(\n",
       "           c: tensor([[ 1.2463,  0.2042,  1.5002, -1.6245],\n",
       "                      [-1.3846, -0.7254,  0.6827,  0.7584],\n",
       "                      [-1.8846, -0.3727, -0.8035, -0.9024],\n",
       "                      [ 1.2463,  0.2042,  1.5002, -1.6245],\n",
       "                      [-1.3846, -0.7254,  0.6827,  0.7584],\n",
       "                      [-1.8846, -0.3727, -0.8035, -0.9024],\n",
       "                      [ 1.2463,  0.2042,  1.5002, -1.6245],\n",
       "                      [-1.3846, -0.7254,  0.6827,  0.7584],\n",
       "                      [-1.8846, -0.3727, -0.8035, -0.9024],\n",
       "                      [ 1.2463,  0.2042,  1.5002, -1.6245],\n",
       "                      [-1.3846, -0.7254,  0.6827,  0.7584],\n",
       "                      [-1.8846, -0.3727, -0.8035, -0.9024],\n",
       "                      [ 1.2463,  0.2042,  1.5002, -1.6245],\n",
       "                      [-1.3846, -0.7254,  0.6827,  0.7584],\n",
       "                      [-1.8846, -0.3727, -0.8035, -0.9024],\n",
       "                      [ 1.2463,  0.2042,  1.5002, -1.6245],\n",
       "                      [-1.3846, -0.7254,  0.6827,  0.7584],\n",
       "                      [-1.8846, -0.3727, -0.8035, -0.9024],\n",
       "                      [ 1.2463,  0.2042,  1.5002, -1.6245],\n",
       "                      [-1.3846, -0.7254,  0.6827,  0.7584],\n",
       "                      [-1.8846, -0.3727, -0.8035, -0.9024],\n",
       "                      [ 1.2463,  0.2042,  1.5002, -1.6245],\n",
       "                      [-1.3846, -0.7254,  0.6827,  0.7584],\n",
       "                      [-1.8846, -0.3727, -0.8035, -0.9024]]),\n",
       "       ),\n",
       ")"
      ]
     },
     "execution_count": 27,
     "metadata": {},
     "output_type": "execute_result"
    }
   ],
   "source": [
    "Batch.cat(batches)"
   ]
  },
  {
   "cell_type": "code",
   "execution_count": 28,
   "id": "18dfb045",
   "metadata": {
    "execution": {
     "iopub.execute_input": "2023-01-29T03:32:03.856158Z",
     "iopub.status.busy": "2023-01-29T03:32:03.855684Z",
     "iopub.status.idle": "2023-01-29T03:32:15.529069Z",
     "shell.execute_reply": "2023-01-29T03:32:15.528301Z"
    }
   },
   "outputs": [
    {
     "name": "stdout",
     "output_type": "stream",
     "text": [
      "144 µs ± 216 ns per loop (mean ± std. dev. of 7 runs, 10,000 loops each)\n"
     ]
    }
   ],
   "source": [
    "%timeit Batch.cat(batches)"
   ]
  },
  {
   "cell_type": "code",
   "execution_count": 29,
   "id": "c6688e51",
   "metadata": {
    "execution": {
     "iopub.execute_input": "2023-01-29T03:32:15.531814Z",
     "iopub.status.busy": "2023-01-29T03:32:15.531467Z",
     "iopub.status.idle": "2023-01-29T03:32:18.021286Z",
     "shell.execute_reply": "2023-01-29T03:32:18.020591Z"
    }
   },
   "outputs": [
    {
     "name": "stdout",
     "output_type": "stream",
     "text": [
      "306 µs ± 950 ns per loop (mean ± std. dev. of 7 runs, 1,000 loops each)\n"
     ]
    }
   ],
   "source": [
    "batch = Batch({\n",
    "    'obs': torch.randn(8, 4, 84, 84),\n",
    "    'action': torch.randint(0, 6, size=(8, 1,)),\n",
    "    'reward': torch.rand(8, 1)}\n",
    ")\n",
    "\n",
    "%timeit list(Batch.split(batch, 1, shuffle=False, merge_last=True))"
   ]
  },
  {
   "cell_type": "code",
   "execution_count": null,
   "id": "2539fbd9",
   "metadata": {},
   "outputs": [],
   "source": []
  }
 ],
 "metadata": {
  "kernelspec": {
   "display_name": "Python 3 (ipykernel)",
   "language": "python",
   "name": "python3"
  },
  "language_info": {
   "codemirror_mode": {
    "name": "ipython",
    "version": 3
   },
   "file_extension": ".py",
   "mimetype": "text/x-python",
   "name": "python",
   "nbconvert_exporter": "python",
   "pygments_lexer": "ipython3",
   "version": "3.8.16"
  }
 },
 "nbformat": 4,
 "nbformat_minor": 5
}
