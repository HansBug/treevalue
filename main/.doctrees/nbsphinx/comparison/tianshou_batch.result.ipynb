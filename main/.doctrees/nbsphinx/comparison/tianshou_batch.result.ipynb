{
 "cells": [
  {
   "cell_type": "markdown",
   "id": "9d39d946",
   "metadata": {},
   "source": [
    "# Comparison Between TreeValue and Tianshou Batch"
   ]
  },
  {
   "cell_type": "markdown",
   "id": "3c6db2d4",
   "metadata": {},
   "source": [
    "In this section, we will take a look at the feature and performance of the [Tianshou Batch](https://github.com/thu-ml/tianshou) library, which is developed by Tsinghua Machine Learning Group."
   ]
  },
  {
   "cell_type": "markdown",
   "id": "069361b0",
   "metadata": {},
   "source": [
    "Before starting the comparison, let us define some thing."
   ]
  },
  {
   "cell_type": "code",
   "execution_count": 1,
   "id": "06fc8d26",
   "metadata": {
    "execution": {
     "iopub.execute_input": "2023-03-06T09:52:42.850510Z",
     "iopub.status.busy": "2023-03-06T09:52:42.850264Z",
     "iopub.status.idle": "2023-03-06T09:52:43.995906Z",
     "shell.execute_reply": "2023-03-06T09:52:43.994884Z"
    }
   },
   "outputs": [
    {
     "name": "stderr",
     "output_type": "stream",
     "text": [
      "/opt/hostedtoolcache/Python/3.8.16/x64/lib/python3.8/site-packages/tqdm/auto.py:21: TqdmWarning: IProgress not found. Please update jupyter and ipywidgets. See https://ipywidgets.readthedocs.io/en/stable/user_install.html\n",
      "  from .autonotebook import tqdm as notebook_tqdm\n"
     ]
    }
   ],
   "source": [
    "import torch \n",
    "\n",
    "_TREE_DATA_1 = {'a': 1, 'b': 2, 'x': {'c': 3, 'd': 4}}\n",
    "_TREE_DATA_2 = {\n",
    "    'a': torch.randn(2, 3), \n",
    "    'x': {\n",
    "        'c': torch.randn(3, 4)\n",
    "    },\n",
    "}\n",
    "_TREE_DATA_3 = {\n",
    "    'obs': torch.randn(4, 84, 84),\n",
    "    'action': torch.randint(0, 6, size=(1,)),\n",
    "    'reward': torch.rand(1),\n",
    "}"
   ]
  },
  {
   "cell_type": "markdown",
   "id": "83461b25",
   "metadata": {},
   "source": [
    "## Read and Write Operation"
   ]
  },
  {
   "cell_type": "markdown",
   "id": "067b3f73",
   "metadata": {},
   "source": [
    "Reading and writing are the two most common operations in the tree data structure based on the data model (TreeValue and Tianshou Batch both belong to this type), so this section will compare the reading and writing performance of these two libraries."
   ]
  },
  {
   "cell_type": "markdown",
   "id": "5d09a5b7",
   "metadata": {},
   "source": [
    "### TreeValue's Get and Set"
   ]
  },
  {
   "cell_type": "code",
   "execution_count": 2,
   "id": "9519c4bb",
   "metadata": {
    "execution": {
     "iopub.execute_input": "2023-03-06T09:52:44.000250Z",
     "iopub.status.busy": "2023-03-06T09:52:43.999873Z",
     "iopub.status.idle": "2023-03-06T09:52:44.354945Z",
     "shell.execute_reply": "2023-03-06T09:52:44.353976Z"
    }
   },
   "outputs": [],
   "source": [
    "from treevalue import FastTreeValue\n",
    "\n",
    "t = FastTreeValue(_TREE_DATA_2)"
   ]
  },
  {
   "cell_type": "code",
   "execution_count": 3,
   "id": "11c37677",
   "metadata": {
    "execution": {
     "iopub.execute_input": "2023-03-06T09:52:44.359106Z",
     "iopub.status.busy": "2023-03-06T09:52:44.358754Z",
     "iopub.status.idle": "2023-03-06T09:52:44.371656Z",
     "shell.execute_reply": "2023-03-06T09:52:44.370797Z"
    }
   },
   "outputs": [
    {
     "data": {
      "text/plain": [
       "<FastTreeValue 0x7f6637c32280>\n",
       "├── 'a' --> tensor([[-0.4974, -0.2386,  0.8347],\n",
       "│                   [ 0.3685,  1.6074, -1.5569]])\n",
       "└── 'x' --> <FastTreeValue 0x7f6637c321c0>\n",
       "    └── 'c' --> tensor([[ 0.3289, -0.0880, -1.3438, -0.5130],\n",
       "                        [-1.8371, -0.5802,  0.5726, -2.4750],\n",
       "                        [ 0.3074,  1.6944, -0.2383, -0.0957]])"
      ]
     },
     "execution_count": 3,
     "metadata": {},
     "output_type": "execute_result"
    }
   ],
   "source": [
    "t"
   ]
  },
  {
   "cell_type": "code",
   "execution_count": 4,
   "id": "fd70b0b9",
   "metadata": {
    "execution": {
     "iopub.execute_input": "2023-03-06T09:52:44.374690Z",
     "iopub.status.busy": "2023-03-06T09:52:44.374432Z",
     "iopub.status.idle": "2023-03-06T09:52:44.382745Z",
     "shell.execute_reply": "2023-03-06T09:52:44.381824Z"
    }
   },
   "outputs": [
    {
     "data": {
      "text/plain": [
       "tensor([[-0.4974, -0.2386,  0.8347],\n",
       "        [ 0.3685,  1.6074, -1.5569]])"
      ]
     },
     "execution_count": 4,
     "metadata": {},
     "output_type": "execute_result"
    }
   ],
   "source": [
    "t.a"
   ]
  },
  {
   "cell_type": "code",
   "execution_count": 5,
   "id": "c18197bd",
   "metadata": {
    "execution": {
     "iopub.execute_input": "2023-03-06T09:52:44.385868Z",
     "iopub.status.busy": "2023-03-06T09:52:44.385547Z",
     "iopub.status.idle": "2023-03-06T09:52:49.603659Z",
     "shell.execute_reply": "2023-03-06T09:52:49.602387Z"
    }
   },
   "outputs": [
    {
     "name": "stdout",
     "output_type": "stream",
     "text": [
      "64.1 ns ± 2.01 ns per loop (mean ± std. dev. of 7 runs, 10,000,000 loops each)\n"
     ]
    }
   ],
   "source": [
    "%timeit t.a"
   ]
  },
  {
   "cell_type": "code",
   "execution_count": 6,
   "id": "bd52f867",
   "metadata": {
    "execution": {
     "iopub.execute_input": "2023-03-06T09:52:49.607106Z",
     "iopub.status.busy": "2023-03-06T09:52:49.606805Z",
     "iopub.status.idle": "2023-03-06T09:52:49.616111Z",
     "shell.execute_reply": "2023-03-06T09:52:49.615033Z"
    }
   },
   "outputs": [
    {
     "data": {
      "text/plain": [
       "<FastTreeValue 0x7f6637c32280>\n",
       "├── 'a' --> tensor([[ 0.1945, -1.5649, -1.6728],\n",
       "│                   [ 0.7386,  0.4795,  0.5832]])\n",
       "└── 'x' --> <FastTreeValue 0x7f6637c321c0>\n",
       "    └── 'c' --> tensor([[ 0.3289, -0.0880, -1.3438, -0.5130],\n",
       "                        [-1.8371, -0.5802,  0.5726, -2.4750],\n",
       "                        [ 0.3074,  1.6944, -0.2383, -0.0957]])"
      ]
     },
     "execution_count": 6,
     "metadata": {},
     "output_type": "execute_result"
    }
   ],
   "source": [
    "new_value = torch.randn(2, 3)\n",
    "t.a = new_value\n",
    "\n",
    "t"
   ]
  },
  {
   "cell_type": "code",
   "execution_count": 7,
   "id": "bbe04d1c",
   "metadata": {
    "execution": {
     "iopub.execute_input": "2023-03-06T09:52:49.619542Z",
     "iopub.status.busy": "2023-03-06T09:52:49.619104Z",
     "iopub.status.idle": "2023-03-06T09:52:54.895889Z",
     "shell.execute_reply": "2023-03-06T09:52:54.894852Z"
    }
   },
   "outputs": [
    {
     "name": "stdout",
     "output_type": "stream",
     "text": [
      "64.8 ns ± 1.25 ns per loop (mean ± std. dev. of 7 runs, 10,000,000 loops each)\n"
     ]
    }
   ],
   "source": [
    "%timeit t.a = new_value"
   ]
  },
  {
   "cell_type": "markdown",
   "id": "48c49731",
   "metadata": {},
   "source": [
    "### Tianshou Batch's Get and Set"
   ]
  },
  {
   "cell_type": "code",
   "execution_count": 8,
   "id": "f1bb14c1",
   "metadata": {
    "execution": {
     "iopub.execute_input": "2023-03-06T09:52:54.899716Z",
     "iopub.status.busy": "2023-03-06T09:52:54.899183Z",
     "iopub.status.idle": "2023-03-06T09:52:55.322003Z",
     "shell.execute_reply": "2023-03-06T09:52:55.320868Z"
    }
   },
   "outputs": [],
   "source": [
    "from tianshou.data import Batch\n",
    "\n",
    "b = Batch(**_TREE_DATA_2)"
   ]
  },
  {
   "cell_type": "code",
   "execution_count": 9,
   "id": "cb0777c3",
   "metadata": {
    "execution": {
     "iopub.execute_input": "2023-03-06T09:52:55.326475Z",
     "iopub.status.busy": "2023-03-06T09:52:55.325266Z",
     "iopub.status.idle": "2023-03-06T09:52:55.332992Z",
     "shell.execute_reply": "2023-03-06T09:52:55.332117Z"
    }
   },
   "outputs": [
    {
     "data": {
      "text/plain": [
       "Batch(\n",
       "    a: tensor([[-0.4974, -0.2386,  0.8347],\n",
       "               [ 0.3685,  1.6074, -1.5569]]),\n",
       "    x: Batch(\n",
       "           c: tensor([[ 0.3289, -0.0880, -1.3438, -0.5130],\n",
       "                      [-1.8371, -0.5802,  0.5726, -2.4750],\n",
       "                      [ 0.3074,  1.6944, -0.2383, -0.0957]]),\n",
       "       ),\n",
       ")"
      ]
     },
     "execution_count": 9,
     "metadata": {},
     "output_type": "execute_result"
    }
   ],
   "source": [
    "b"
   ]
  },
  {
   "cell_type": "code",
   "execution_count": 10,
   "id": "43ef8ea3",
   "metadata": {
    "execution": {
     "iopub.execute_input": "2023-03-06T09:52:55.336171Z",
     "iopub.status.busy": "2023-03-06T09:52:55.335905Z",
     "iopub.status.idle": "2023-03-06T09:52:55.343197Z",
     "shell.execute_reply": "2023-03-06T09:52:55.341214Z"
    }
   },
   "outputs": [
    {
     "data": {
      "text/plain": [
       "tensor([[-0.4974, -0.2386,  0.8347],\n",
       "        [ 0.3685,  1.6074, -1.5569]])"
      ]
     },
     "execution_count": 10,
     "metadata": {},
     "output_type": "execute_result"
    }
   ],
   "source": [
    "b.a"
   ]
  },
  {
   "cell_type": "code",
   "execution_count": 11,
   "id": "b785ab72",
   "metadata": {
    "execution": {
     "iopub.execute_input": "2023-03-06T09:52:55.351118Z",
     "iopub.status.busy": "2023-03-06T09:52:55.350225Z",
     "iopub.status.idle": "2023-03-06T09:53:00.374854Z",
     "shell.execute_reply": "2023-03-06T09:53:00.373662Z"
    }
   },
   "outputs": [
    {
     "name": "stdout",
     "output_type": "stream",
     "text": [
      "61.4 ns ± 1.22 ns per loop (mean ± std. dev. of 7 runs, 10,000,000 loops each)\n"
     ]
    }
   ],
   "source": [
    "%timeit b.a"
   ]
  },
  {
   "cell_type": "code",
   "execution_count": 12,
   "id": "ad54dc69",
   "metadata": {
    "execution": {
     "iopub.execute_input": "2023-03-06T09:53:00.378471Z",
     "iopub.status.busy": "2023-03-06T09:53:00.377898Z",
     "iopub.status.idle": "2023-03-06T09:53:00.386660Z",
     "shell.execute_reply": "2023-03-06T09:53:00.385844Z"
    }
   },
   "outputs": [
    {
     "data": {
      "text/plain": [
       "Batch(\n",
       "    a: tensor([[ 0.1046,  0.9024,  0.2541],\n",
       "               [ 1.9528,  0.1195, -0.4990]]),\n",
       "    x: Batch(\n",
       "           c: tensor([[ 0.3289, -0.0880, -1.3438, -0.5130],\n",
       "                      [-1.8371, -0.5802,  0.5726, -2.4750],\n",
       "                      [ 0.3074,  1.6944, -0.2383, -0.0957]]),\n",
       "       ),\n",
       ")"
      ]
     },
     "execution_count": 12,
     "metadata": {},
     "output_type": "execute_result"
    }
   ],
   "source": [
    "new_value = torch.randn(2, 3)\n",
    "b.a = new_value\n",
    "\n",
    "b"
   ]
  },
  {
   "cell_type": "code",
   "execution_count": 13,
   "id": "29b1d0bf",
   "metadata": {
    "execution": {
     "iopub.execute_input": "2023-03-06T09:53:00.390048Z",
     "iopub.status.busy": "2023-03-06T09:53:00.389557Z",
     "iopub.status.idle": "2023-03-06T09:53:05.056461Z",
     "shell.execute_reply": "2023-03-06T09:53:05.055542Z"
    }
   },
   "outputs": [
    {
     "name": "stdout",
     "output_type": "stream",
     "text": [
      "571 ns ± 11.7 ns per loop (mean ± std. dev. of 7 runs, 1,000,000 loops each)\n"
     ]
    }
   ],
   "source": [
    "%timeit b.a = new_value"
   ]
  },
  {
   "cell_type": "markdown",
   "id": "b61ad1d0",
   "metadata": {},
   "source": [
    "## Initialization"
   ]
  },
  {
   "cell_type": "markdown",
   "id": "d70f0d54",
   "metadata": {},
   "source": [
    "### TreeValue's Initialization"
   ]
  },
  {
   "cell_type": "code",
   "execution_count": 14,
   "id": "d32a679b",
   "metadata": {
    "execution": {
     "iopub.execute_input": "2023-03-06T09:53:05.060625Z",
     "iopub.status.busy": "2023-03-06T09:53:05.060234Z",
     "iopub.status.idle": "2023-03-06T09:53:12.879669Z",
     "shell.execute_reply": "2023-03-06T09:53:12.878356Z"
    }
   },
   "outputs": [
    {
     "name": "stdout",
     "output_type": "stream",
     "text": [
      "961 ns ± 35.6 ns per loop (mean ± std. dev. of 7 runs, 1,000,000 loops each)\n"
     ]
    }
   ],
   "source": [
    "%timeit FastTreeValue(_TREE_DATA_1)"
   ]
  },
  {
   "cell_type": "markdown",
   "id": "24f3707b",
   "metadata": {},
   "source": [
    "### Tianshou Batch's Initialization"
   ]
  },
  {
   "cell_type": "code",
   "execution_count": 15,
   "id": "ac3958df",
   "metadata": {
    "execution": {
     "iopub.execute_input": "2023-03-06T09:53:12.886818Z",
     "iopub.status.busy": "2023-03-06T09:53:12.884958Z",
     "iopub.status.idle": "2023-03-06T09:53:23.037241Z",
     "shell.execute_reply": "2023-03-06T09:53:23.036056Z"
    }
   },
   "outputs": [
    {
     "name": "stdout",
     "output_type": "stream",
     "text": [
      "12.4 µs ± 118 ns per loop (mean ± std. dev. of 7 runs, 100,000 loops each)\n"
     ]
    }
   ],
   "source": [
    "%timeit Batch(**_TREE_DATA_1)"
   ]
  },
  {
   "cell_type": "markdown",
   "id": "1ab82e2d",
   "metadata": {},
   "source": [
    "## Deep Copy Operation"
   ]
  },
  {
   "cell_type": "code",
   "execution_count": 16,
   "id": "210a9442",
   "metadata": {
    "execution": {
     "iopub.execute_input": "2023-03-06T09:53:23.041471Z",
     "iopub.status.busy": "2023-03-06T09:53:23.041186Z",
     "iopub.status.idle": "2023-03-06T09:53:23.048089Z",
     "shell.execute_reply": "2023-03-06T09:53:23.047212Z"
    }
   },
   "outputs": [],
   "source": [
    "import copy"
   ]
  },
  {
   "cell_type": "markdown",
   "id": "5a736274",
   "metadata": {},
   "source": [
    "### Deep Copy of TreeValue"
   ]
  },
  {
   "cell_type": "code",
   "execution_count": 17,
   "id": "f9bcadd6",
   "metadata": {
    "execution": {
     "iopub.execute_input": "2023-03-06T09:53:23.052030Z",
     "iopub.status.busy": "2023-03-06T09:53:23.051682Z",
     "iopub.status.idle": "2023-03-06T09:53:25.211861Z",
     "shell.execute_reply": "2023-03-06T09:53:25.210642Z"
    }
   },
   "outputs": [
    {
     "name": "stdout",
     "output_type": "stream",
     "text": [
      "265 µs ± 8.69 µs per loop (mean ± std. dev. of 7 runs, 1,000 loops each)\n"
     ]
    }
   ],
   "source": [
    "t3 = FastTreeValue(_TREE_DATA_3)\n",
    "%timeit copy.deepcopy(t3)"
   ]
  },
  {
   "cell_type": "markdown",
   "id": "bf8be7ea",
   "metadata": {},
   "source": [
    "### Deep Copy of Tianshou Batch"
   ]
  },
  {
   "cell_type": "code",
   "execution_count": 18,
   "id": "91998e6f",
   "metadata": {
    "execution": {
     "iopub.execute_input": "2023-03-06T09:53:25.215933Z",
     "iopub.status.busy": "2023-03-06T09:53:25.215645Z",
     "iopub.status.idle": "2023-03-06T09:53:27.278795Z",
     "shell.execute_reply": "2023-03-06T09:53:27.277738Z"
    }
   },
   "outputs": [
    {
     "name": "stdout",
     "output_type": "stream",
     "text": [
      "253 µs ± 13.4 µs per loop (mean ± std. dev. of 7 runs, 1,000 loops each)\n"
     ]
    }
   ],
   "source": [
    "b3 = Batch(**_TREE_DATA_3)\n",
    "%timeit copy.deepcopy(b3)"
   ]
  },
  {
   "cell_type": "markdown",
   "id": "223162fb",
   "metadata": {},
   "source": [
    "## Stack, Concat and Split Operation"
   ]
  },
  {
   "cell_type": "markdown",
   "id": "85fa4a73",
   "metadata": {},
   "source": [
    "### Performance of TreeValue"
   ]
  },
  {
   "cell_type": "code",
   "execution_count": 19,
   "id": "a0c2b697",
   "metadata": {
    "execution": {
     "iopub.execute_input": "2023-03-06T09:53:27.282619Z",
     "iopub.status.busy": "2023-03-06T09:53:27.282020Z",
     "iopub.status.idle": "2023-03-06T09:53:27.288456Z",
     "shell.execute_reply": "2023-03-06T09:53:27.287177Z"
    }
   },
   "outputs": [],
   "source": [
    "trees = [FastTreeValue(_TREE_DATA_2) for _ in range(8)]"
   ]
  },
  {
   "cell_type": "code",
   "execution_count": 20,
   "id": "017ea5a5",
   "metadata": {
    "execution": {
     "iopub.execute_input": "2023-03-06T09:53:27.292070Z",
     "iopub.status.busy": "2023-03-06T09:53:27.291453Z",
     "iopub.status.idle": "2023-03-06T09:53:27.301357Z",
     "shell.execute_reply": "2023-03-06T09:53:27.300499Z"
    }
   },
   "outputs": [
    {
     "data": {
      "text/plain": [
       "<FastTreeValue 0x7f657de35ca0>\n",
       "├── 'a' --> tensor([[[-0.4974, -0.2386,  0.8347],\n",
       "│                    [ 0.3685,  1.6074, -1.5569]],\n",
       "│           \n",
       "│                   [[-0.4974, -0.2386,  0.8347],\n",
       "│                    [ 0.3685,  1.6074, -1.5569]],\n",
       "│           \n",
       "│                   [[-0.4974, -0.2386,  0.8347],\n",
       "│                    [ 0.3685,  1.6074, -1.5569]],\n",
       "│           \n",
       "│                   [[-0.4974, -0.2386,  0.8347],\n",
       "│                    [ 0.3685,  1.6074, -1.5569]],\n",
       "│           \n",
       "│                   [[-0.4974, -0.2386,  0.8347],\n",
       "│                    [ 0.3685,  1.6074, -1.5569]],\n",
       "│           \n",
       "│                   [[-0.4974, -0.2386,  0.8347],\n",
       "│                    [ 0.3685,  1.6074, -1.5569]],\n",
       "│           \n",
       "│                   [[-0.4974, -0.2386,  0.8347],\n",
       "│                    [ 0.3685,  1.6074, -1.5569]],\n",
       "│           \n",
       "│                   [[-0.4974, -0.2386,  0.8347],\n",
       "│                    [ 0.3685,  1.6074, -1.5569]]])\n",
       "└── 'x' --> <FastTreeValue 0x7f6584dcaa30>\n",
       "    └── 'c' --> tensor([[[ 0.3289, -0.0880, -1.3438, -0.5130],\n",
       "                         [-1.8371, -0.5802,  0.5726, -2.4750],\n",
       "                         [ 0.3074,  1.6944, -0.2383, -0.0957]],\n",
       "                \n",
       "                        [[ 0.3289, -0.0880, -1.3438, -0.5130],\n",
       "                         [-1.8371, -0.5802,  0.5726, -2.4750],\n",
       "                         [ 0.3074,  1.6944, -0.2383, -0.0957]],\n",
       "                \n",
       "                        [[ 0.3289, -0.0880, -1.3438, -0.5130],\n",
       "                         [-1.8371, -0.5802,  0.5726, -2.4750],\n",
       "                         [ 0.3074,  1.6944, -0.2383, -0.0957]],\n",
       "                \n",
       "                        [[ 0.3289, -0.0880, -1.3438, -0.5130],\n",
       "                         [-1.8371, -0.5802,  0.5726, -2.4750],\n",
       "                         [ 0.3074,  1.6944, -0.2383, -0.0957]],\n",
       "                \n",
       "                        [[ 0.3289, -0.0880, -1.3438, -0.5130],\n",
       "                         [-1.8371, -0.5802,  0.5726, -2.4750],\n",
       "                         [ 0.3074,  1.6944, -0.2383, -0.0957]],\n",
       "                \n",
       "                        [[ 0.3289, -0.0880, -1.3438, -0.5130],\n",
       "                         [-1.8371, -0.5802,  0.5726, -2.4750],\n",
       "                         [ 0.3074,  1.6944, -0.2383, -0.0957]],\n",
       "                \n",
       "                        [[ 0.3289, -0.0880, -1.3438, -0.5130],\n",
       "                         [-1.8371, -0.5802,  0.5726, -2.4750],\n",
       "                         [ 0.3074,  1.6944, -0.2383, -0.0957]],\n",
       "                \n",
       "                        [[ 0.3289, -0.0880, -1.3438, -0.5130],\n",
       "                         [-1.8371, -0.5802,  0.5726, -2.4750],\n",
       "                         [ 0.3074,  1.6944, -0.2383, -0.0957]]])"
      ]
     },
     "execution_count": 20,
     "metadata": {},
     "output_type": "execute_result"
    }
   ],
   "source": [
    "t_stack = FastTreeValue.func(subside=True)(torch.stack)\n",
    "\n",
    "t_stack(trees)"
   ]
  },
  {
   "cell_type": "code",
   "execution_count": 21,
   "id": "f8b3f415",
   "metadata": {
    "execution": {
     "iopub.execute_input": "2023-03-06T09:53:27.304682Z",
     "iopub.status.busy": "2023-03-06T09:53:27.304407Z",
     "iopub.status.idle": "2023-03-06T09:53:30.823556Z",
     "shell.execute_reply": "2023-03-06T09:53:30.822612Z"
    }
   },
   "outputs": [
    {
     "name": "stdout",
     "output_type": "stream",
     "text": [
      "43.1 µs ± 387 ns per loop (mean ± std. dev. of 7 runs, 10,000 loops each)\n"
     ]
    }
   ],
   "source": [
    "%timeit t_stack(trees)"
   ]
  },
  {
   "cell_type": "code",
   "execution_count": 22,
   "id": "94b56771",
   "metadata": {
    "execution": {
     "iopub.execute_input": "2023-03-06T09:53:30.827226Z",
     "iopub.status.busy": "2023-03-06T09:53:30.826925Z",
     "iopub.status.idle": "2023-03-06T09:53:30.837800Z",
     "shell.execute_reply": "2023-03-06T09:53:30.836857Z"
    }
   },
   "outputs": [
    {
     "data": {
      "text/plain": [
       "<FastTreeValue 0x7f657de35f70>\n",
       "├── 'a' --> tensor([[-0.4974, -0.2386,  0.8347],\n",
       "│                   [ 0.3685,  1.6074, -1.5569],\n",
       "│                   [-0.4974, -0.2386,  0.8347],\n",
       "│                   [ 0.3685,  1.6074, -1.5569],\n",
       "│                   [-0.4974, -0.2386,  0.8347],\n",
       "│                   [ 0.3685,  1.6074, -1.5569],\n",
       "│                   [-0.4974, -0.2386,  0.8347],\n",
       "│                   [ 0.3685,  1.6074, -1.5569],\n",
       "│                   [-0.4974, -0.2386,  0.8347],\n",
       "│                   [ 0.3685,  1.6074, -1.5569],\n",
       "│                   [-0.4974, -0.2386,  0.8347],\n",
       "│                   [ 0.3685,  1.6074, -1.5569],\n",
       "│                   [-0.4974, -0.2386,  0.8347],\n",
       "│                   [ 0.3685,  1.6074, -1.5569],\n",
       "│                   [-0.4974, -0.2386,  0.8347],\n",
       "│                   [ 0.3685,  1.6074, -1.5569]])\n",
       "└── 'x' --> <FastTreeValue 0x7f657de35f10>\n",
       "    └── 'c' --> tensor([[ 0.3289, -0.0880, -1.3438, -0.5130],\n",
       "                        [-1.8371, -0.5802,  0.5726, -2.4750],\n",
       "                        [ 0.3074,  1.6944, -0.2383, -0.0957],\n",
       "                        [ 0.3289, -0.0880, -1.3438, -0.5130],\n",
       "                        [-1.8371, -0.5802,  0.5726, -2.4750],\n",
       "                        [ 0.3074,  1.6944, -0.2383, -0.0957],\n",
       "                        [ 0.3289, -0.0880, -1.3438, -0.5130],\n",
       "                        [-1.8371, -0.5802,  0.5726, -2.4750],\n",
       "                        [ 0.3074,  1.6944, -0.2383, -0.0957],\n",
       "                        [ 0.3289, -0.0880, -1.3438, -0.5130],\n",
       "                        [-1.8371, -0.5802,  0.5726, -2.4750],\n",
       "                        [ 0.3074,  1.6944, -0.2383, -0.0957],\n",
       "                        [ 0.3289, -0.0880, -1.3438, -0.5130],\n",
       "                        [-1.8371, -0.5802,  0.5726, -2.4750],\n",
       "                        [ 0.3074,  1.6944, -0.2383, -0.0957],\n",
       "                        [ 0.3289, -0.0880, -1.3438, -0.5130],\n",
       "                        [-1.8371, -0.5802,  0.5726, -2.4750],\n",
       "                        [ 0.3074,  1.6944, -0.2383, -0.0957],\n",
       "                        [ 0.3289, -0.0880, -1.3438, -0.5130],\n",
       "                        [-1.8371, -0.5802,  0.5726, -2.4750],\n",
       "                        [ 0.3074,  1.6944, -0.2383, -0.0957],\n",
       "                        [ 0.3289, -0.0880, -1.3438, -0.5130],\n",
       "                        [-1.8371, -0.5802,  0.5726, -2.4750],\n",
       "                        [ 0.3074,  1.6944, -0.2383, -0.0957]])"
      ]
     },
     "execution_count": 22,
     "metadata": {},
     "output_type": "execute_result"
    }
   ],
   "source": [
    "t_cat = FastTreeValue.func(subside=True)(torch.cat)\n",
    "\n",
    "t_cat(trees)"
   ]
  },
  {
   "cell_type": "code",
   "execution_count": 23,
   "id": "5e9c06a6",
   "metadata": {
    "execution": {
     "iopub.execute_input": "2023-03-06T09:53:30.841534Z",
     "iopub.status.busy": "2023-03-06T09:53:30.841237Z",
     "iopub.status.idle": "2023-03-06T09:53:34.148195Z",
     "shell.execute_reply": "2023-03-06T09:53:34.146877Z"
    }
   },
   "outputs": [
    {
     "name": "stdout",
     "output_type": "stream",
     "text": [
      "40.7 µs ± 1.03 µs per loop (mean ± std. dev. of 7 runs, 10,000 loops each)\n"
     ]
    }
   ],
   "source": [
    "%timeit t_cat(trees)"
   ]
  },
  {
   "cell_type": "code",
   "execution_count": 24,
   "id": "a3ab5c8f",
   "metadata": {
    "execution": {
     "iopub.execute_input": "2023-03-06T09:53:34.151756Z",
     "iopub.status.busy": "2023-03-06T09:53:34.151415Z",
     "iopub.status.idle": "2023-03-06T09:53:40.184030Z",
     "shell.execute_reply": "2023-03-06T09:53:40.183020Z"
    }
   },
   "outputs": [
    {
     "name": "stdout",
     "output_type": "stream",
     "text": [
      "73.9 µs ± 1.86 µs per loop (mean ± std. dev. of 7 runs, 10,000 loops each)\n"
     ]
    }
   ],
   "source": [
    "t_split = FastTreeValue.func(rise=True)(torch.split)\n",
    "tree = FastTreeValue({\n",
    "    'obs': torch.randn(8, 4, 84, 84),\n",
    "    'action': torch.randint(0, 6, size=(8, 1,)),\n",
    "    'reward': torch.rand(8, 1),\n",
    "})\n",
    "\n",
    "%timeit t_split(tree, 1)"
   ]
  },
  {
   "cell_type": "markdown",
   "id": "31c3ec0b",
   "metadata": {},
   "source": [
    "### Performance of Tianshou Batch"
   ]
  },
  {
   "cell_type": "code",
   "execution_count": 25,
   "id": "9ead828a",
   "metadata": {
    "execution": {
     "iopub.execute_input": "2023-03-06T09:53:40.187786Z",
     "iopub.status.busy": "2023-03-06T09:53:40.187324Z",
     "iopub.status.idle": "2023-03-06T09:53:40.195825Z",
     "shell.execute_reply": "2023-03-06T09:53:40.194867Z"
    }
   },
   "outputs": [
    {
     "data": {
      "text/plain": [
       "Batch(\n",
       "    a: tensor([[[-0.4974, -0.2386,  0.8347],\n",
       "                [ 0.3685,  1.6074, -1.5569]],\n",
       "       \n",
       "               [[-0.4974, -0.2386,  0.8347],\n",
       "                [ 0.3685,  1.6074, -1.5569]],\n",
       "       \n",
       "               [[-0.4974, -0.2386,  0.8347],\n",
       "                [ 0.3685,  1.6074, -1.5569]],\n",
       "       \n",
       "               [[-0.4974, -0.2386,  0.8347],\n",
       "                [ 0.3685,  1.6074, -1.5569]],\n",
       "       \n",
       "               [[-0.4974, -0.2386,  0.8347],\n",
       "                [ 0.3685,  1.6074, -1.5569]],\n",
       "       \n",
       "               [[-0.4974, -0.2386,  0.8347],\n",
       "                [ 0.3685,  1.6074, -1.5569]],\n",
       "       \n",
       "               [[-0.4974, -0.2386,  0.8347],\n",
       "                [ 0.3685,  1.6074, -1.5569]],\n",
       "       \n",
       "               [[-0.4974, -0.2386,  0.8347],\n",
       "                [ 0.3685,  1.6074, -1.5569]]]),\n",
       "    x: Batch(\n",
       "           c: tensor([[[ 0.3289, -0.0880, -1.3438, -0.5130],\n",
       "                       [-1.8371, -0.5802,  0.5726, -2.4750],\n",
       "                       [ 0.3074,  1.6944, -0.2383, -0.0957]],\n",
       "              \n",
       "                      [[ 0.3289, -0.0880, -1.3438, -0.5130],\n",
       "                       [-1.8371, -0.5802,  0.5726, -2.4750],\n",
       "                       [ 0.3074,  1.6944, -0.2383, -0.0957]],\n",
       "              \n",
       "                      [[ 0.3289, -0.0880, -1.3438, -0.5130],\n",
       "                       [-1.8371, -0.5802,  0.5726, -2.4750],\n",
       "                       [ 0.3074,  1.6944, -0.2383, -0.0957]],\n",
       "              \n",
       "                      [[ 0.3289, -0.0880, -1.3438, -0.5130],\n",
       "                       [-1.8371, -0.5802,  0.5726, -2.4750],\n",
       "                       [ 0.3074,  1.6944, -0.2383, -0.0957]],\n",
       "              \n",
       "                      [[ 0.3289, -0.0880, -1.3438, -0.5130],\n",
       "                       [-1.8371, -0.5802,  0.5726, -2.4750],\n",
       "                       [ 0.3074,  1.6944, -0.2383, -0.0957]],\n",
       "              \n",
       "                      [[ 0.3289, -0.0880, -1.3438, -0.5130],\n",
       "                       [-1.8371, -0.5802,  0.5726, -2.4750],\n",
       "                       [ 0.3074,  1.6944, -0.2383, -0.0957]],\n",
       "              \n",
       "                      [[ 0.3289, -0.0880, -1.3438, -0.5130],\n",
       "                       [-1.8371, -0.5802,  0.5726, -2.4750],\n",
       "                       [ 0.3074,  1.6944, -0.2383, -0.0957]],\n",
       "              \n",
       "                      [[ 0.3289, -0.0880, -1.3438, -0.5130],\n",
       "                       [-1.8371, -0.5802,  0.5726, -2.4750],\n",
       "                       [ 0.3074,  1.6944, -0.2383, -0.0957]]]),\n",
       "       ),\n",
       ")"
      ]
     },
     "execution_count": 25,
     "metadata": {},
     "output_type": "execute_result"
    }
   ],
   "source": [
    "batches = [Batch(**_TREE_DATA_2) for _ in range(8)]\n",
    "\n",
    "Batch.stack(batches)"
   ]
  },
  {
   "cell_type": "code",
   "execution_count": 26,
   "id": "ec9037a3",
   "metadata": {
    "execution": {
     "iopub.execute_input": "2023-03-06T09:53:40.198893Z",
     "iopub.status.busy": "2023-03-06T09:53:40.198396Z",
     "iopub.status.idle": "2023-03-06T09:53:47.799015Z",
     "shell.execute_reply": "2023-03-06T09:53:47.797955Z"
    }
   },
   "outputs": [
    {
     "name": "stdout",
     "output_type": "stream",
     "text": [
      "93.4 µs ± 1.71 µs per loop (mean ± std. dev. of 7 runs, 10,000 loops each)\n"
     ]
    }
   ],
   "source": [
    "%timeit Batch.stack(batches)"
   ]
  },
  {
   "cell_type": "code",
   "execution_count": 27,
   "id": "cb8ab77e",
   "metadata": {
    "execution": {
     "iopub.execute_input": "2023-03-06T09:53:47.802585Z",
     "iopub.status.busy": "2023-03-06T09:53:47.802067Z",
     "iopub.status.idle": "2023-03-06T09:53:47.811915Z",
     "shell.execute_reply": "2023-03-06T09:53:47.811093Z"
    }
   },
   "outputs": [
    {
     "data": {
      "text/plain": [
       "Batch(\n",
       "    a: tensor([[-0.4974, -0.2386,  0.8347],\n",
       "               [ 0.3685,  1.6074, -1.5569],\n",
       "               [-0.4974, -0.2386,  0.8347],\n",
       "               [ 0.3685,  1.6074, -1.5569],\n",
       "               [-0.4974, -0.2386,  0.8347],\n",
       "               [ 0.3685,  1.6074, -1.5569],\n",
       "               [-0.4974, -0.2386,  0.8347],\n",
       "               [ 0.3685,  1.6074, -1.5569],\n",
       "               [-0.4974, -0.2386,  0.8347],\n",
       "               [ 0.3685,  1.6074, -1.5569],\n",
       "               [-0.4974, -0.2386,  0.8347],\n",
       "               [ 0.3685,  1.6074, -1.5569],\n",
       "               [-0.4974, -0.2386,  0.8347],\n",
       "               [ 0.3685,  1.6074, -1.5569],\n",
       "               [-0.4974, -0.2386,  0.8347],\n",
       "               [ 0.3685,  1.6074, -1.5569]]),\n",
       "    x: Batch(\n",
       "           c: tensor([[ 0.3289, -0.0880, -1.3438, -0.5130],\n",
       "                      [-1.8371, -0.5802,  0.5726, -2.4750],\n",
       "                      [ 0.3074,  1.6944, -0.2383, -0.0957],\n",
       "                      [ 0.3289, -0.0880, -1.3438, -0.5130],\n",
       "                      [-1.8371, -0.5802,  0.5726, -2.4750],\n",
       "                      [ 0.3074,  1.6944, -0.2383, -0.0957],\n",
       "                      [ 0.3289, -0.0880, -1.3438, -0.5130],\n",
       "                      [-1.8371, -0.5802,  0.5726, -2.4750],\n",
       "                      [ 0.3074,  1.6944, -0.2383, -0.0957],\n",
       "                      [ 0.3289, -0.0880, -1.3438, -0.5130],\n",
       "                      [-1.8371, -0.5802,  0.5726, -2.4750],\n",
       "                      [ 0.3074,  1.6944, -0.2383, -0.0957],\n",
       "                      [ 0.3289, -0.0880, -1.3438, -0.5130],\n",
       "                      [-1.8371, -0.5802,  0.5726, -2.4750],\n",
       "                      [ 0.3074,  1.6944, -0.2383, -0.0957],\n",
       "                      [ 0.3289, -0.0880, -1.3438, -0.5130],\n",
       "                      [-1.8371, -0.5802,  0.5726, -2.4750],\n",
       "                      [ 0.3074,  1.6944, -0.2383, -0.0957],\n",
       "                      [ 0.3289, -0.0880, -1.3438, -0.5130],\n",
       "                      [-1.8371, -0.5802,  0.5726, -2.4750],\n",
       "                      [ 0.3074,  1.6944, -0.2383, -0.0957],\n",
       "                      [ 0.3289, -0.0880, -1.3438, -0.5130],\n",
       "                      [-1.8371, -0.5802,  0.5726, -2.4750],\n",
       "                      [ 0.3074,  1.6944, -0.2383, -0.0957]]),\n",
       "       ),\n",
       ")"
      ]
     },
     "execution_count": 27,
     "metadata": {},
     "output_type": "execute_result"
    }
   ],
   "source": [
    "Batch.cat(batches)"
   ]
  },
  {
   "cell_type": "code",
   "execution_count": 28,
   "id": "18dfb045",
   "metadata": {
    "execution": {
     "iopub.execute_input": "2023-03-06T09:53:47.815210Z",
     "iopub.status.busy": "2023-03-06T09:53:47.814914Z",
     "iopub.status.idle": "2023-03-06T09:54:01.441676Z",
     "shell.execute_reply": "2023-03-06T09:54:01.440790Z"
    }
   },
   "outputs": [
    {
     "name": "stdout",
     "output_type": "stream",
     "text": [
      "168 µs ± 3.01 µs per loop (mean ± std. dev. of 7 runs, 10,000 loops each)\n"
     ]
    }
   ],
   "source": [
    "%timeit Batch.cat(batches)"
   ]
  },
  {
   "cell_type": "code",
   "execution_count": 29,
   "id": "c6688e51",
   "metadata": {
    "execution": {
     "iopub.execute_input": "2023-03-06T09:54:01.445396Z",
     "iopub.status.busy": "2023-03-06T09:54:01.444575Z",
     "iopub.status.idle": "2023-03-06T09:54:06.272135Z",
     "shell.execute_reply": "2023-03-06T09:54:06.271270Z"
    }
   },
   "outputs": [
    {
     "name": "stdout",
     "output_type": "stream",
     "text": [
      "610 µs ± 213 µs per loop (mean ± std. dev. of 7 runs, 1,000 loops each)\n"
     ]
    }
   ],
   "source": [
    "batch = Batch({\n",
    "    'obs': torch.randn(8, 4, 84, 84),\n",
    "    'action': torch.randint(0, 6, size=(8, 1,)),\n",
    "    'reward': torch.rand(8, 1)}\n",
    ")\n",
    "\n",
    "%timeit list(Batch.split(batch, 1, shuffle=False, merge_last=True))"
   ]
  },
  {
   "cell_type": "code",
   "execution_count": null,
   "id": "2539fbd9",
   "metadata": {},
   "outputs": [],
   "source": []
  }
 ],
 "metadata": {
  "kernelspec": {
   "display_name": "Python 3 (ipykernel)",
   "language": "python",
   "name": "python3"
  },
  "language_info": {
   "codemirror_mode": {
    "name": "ipython",
    "version": 3
   },
   "file_extension": ".py",
   "mimetype": "text/x-python",
   "name": "python",
   "nbconvert_exporter": "python",
   "pygments_lexer": "ipython3",
   "version": "3.8.16"
  }
 },
 "nbformat": 4,
 "nbformat_minor": 5
}
