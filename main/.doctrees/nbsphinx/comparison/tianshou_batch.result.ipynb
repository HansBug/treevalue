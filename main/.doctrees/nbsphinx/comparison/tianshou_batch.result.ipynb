{
 "cells": [
  {
   "cell_type": "markdown",
   "id": "9d39d946",
   "metadata": {},
   "source": [
    "# Comparison Between TreeValue and Tianshou Batch"
   ]
  },
  {
   "cell_type": "markdown",
   "id": "3c6db2d4",
   "metadata": {},
   "source": [
    "In this section, we will take a look at the feature and performance of the [Tianshou Batch](https://github.com/thu-ml/tianshou) library, which is developed by Tsinghua Machine Learning Group."
   ]
  },
  {
   "cell_type": "markdown",
   "id": "069361b0",
   "metadata": {},
   "source": [
    "Before starting the comparison, let us define some thing."
   ]
  },
  {
   "cell_type": "code",
   "execution_count": 1,
   "id": "06fc8d26",
   "metadata": {
    "execution": {
     "iopub.execute_input": "2023-01-20T05:07:30.504635Z",
     "iopub.status.busy": "2023-01-20T05:07:30.504130Z",
     "iopub.status.idle": "2023-01-20T05:07:31.422008Z",
     "shell.execute_reply": "2023-01-20T05:07:31.421315Z"
    }
   },
   "outputs": [
    {
     "name": "stderr",
     "output_type": "stream",
     "text": [
      "/opt/hostedtoolcache/Python/3.8.16/x64/lib/python3.8/site-packages/tqdm/auto.py:22: TqdmWarning: IProgress not found. Please update jupyter and ipywidgets. See https://ipywidgets.readthedocs.io/en/stable/user_install.html\n",
      "  from .autonotebook import tqdm as notebook_tqdm\n"
     ]
    }
   ],
   "source": [
    "import torch \n",
    "\n",
    "_TREE_DATA_1 = {'a': 1, 'b': 2, 'x': {'c': 3, 'd': 4}}\n",
    "_TREE_DATA_2 = {\n",
    "    'a': torch.randn(2, 3), \n",
    "    'x': {\n",
    "        'c': torch.randn(3, 4)\n",
    "    },\n",
    "}\n",
    "_TREE_DATA_3 = {\n",
    "    'obs': torch.randn(4, 84, 84),\n",
    "    'action': torch.randint(0, 6, size=(1,)),\n",
    "    'reward': torch.rand(1),\n",
    "}"
   ]
  },
  {
   "cell_type": "markdown",
   "id": "83461b25",
   "metadata": {},
   "source": [
    "## Read and Write Operation"
   ]
  },
  {
   "cell_type": "markdown",
   "id": "067b3f73",
   "metadata": {},
   "source": [
    "Reading and writing are the two most common operations in the tree data structure based on the data model (TreeValue and Tianshou Batch both belong to this type), so this section will compare the reading and writing performance of these two libraries."
   ]
  },
  {
   "cell_type": "markdown",
   "id": "5d09a5b7",
   "metadata": {},
   "source": [
    "### TreeValue's Get and Set"
   ]
  },
  {
   "cell_type": "code",
   "execution_count": 2,
   "id": "9519c4bb",
   "metadata": {
    "execution": {
     "iopub.execute_input": "2023-01-20T05:07:31.426226Z",
     "iopub.status.busy": "2023-01-20T05:07:31.425773Z",
     "iopub.status.idle": "2023-01-20T05:07:31.458406Z",
     "shell.execute_reply": "2023-01-20T05:07:31.457767Z"
    }
   },
   "outputs": [],
   "source": [
    "from treevalue import FastTreeValue\n",
    "\n",
    "t = FastTreeValue(_TREE_DATA_2)"
   ]
  },
  {
   "cell_type": "code",
   "execution_count": 3,
   "id": "11c37677",
   "metadata": {
    "execution": {
     "iopub.execute_input": "2023-01-20T05:07:31.461949Z",
     "iopub.status.busy": "2023-01-20T05:07:31.461590Z",
     "iopub.status.idle": "2023-01-20T05:07:31.471354Z",
     "shell.execute_reply": "2023-01-20T05:07:31.470738Z"
    }
   },
   "outputs": [
    {
     "data": {
      "text/plain": [
       "<FastTreeValue 0x7f533cae1040>\n",
       "├── 'a' --> tensor([[ 0.3523, -1.3877, -1.4078],\n",
       "│                   [ 0.7722,  1.4825, -0.1488]])\n",
       "└── 'x' --> <FastTreeValue 0x7f533cb30670>\n",
       "    └── 'c' --> tensor([[-0.9446,  0.9659,  2.3515,  0.8332],\n",
       "                        [ 0.8201, -0.2388,  0.7523, -0.7483],\n",
       "                        [ 0.2555, -0.8896,  1.2533,  1.1000]])"
      ]
     },
     "execution_count": 3,
     "metadata": {},
     "output_type": "execute_result"
    }
   ],
   "source": [
    "t"
   ]
  },
  {
   "cell_type": "code",
   "execution_count": 4,
   "id": "fd70b0b9",
   "metadata": {
    "execution": {
     "iopub.execute_input": "2023-01-20T05:07:31.474363Z",
     "iopub.status.busy": "2023-01-20T05:07:31.474145Z",
     "iopub.status.idle": "2023-01-20T05:07:31.480230Z",
     "shell.execute_reply": "2023-01-20T05:07:31.479634Z"
    }
   },
   "outputs": [
    {
     "data": {
      "text/plain": [
       "tensor([[ 0.3523, -1.3877, -1.4078],\n",
       "        [ 0.7722,  1.4825, -0.1488]])"
      ]
     },
     "execution_count": 4,
     "metadata": {},
     "output_type": "execute_result"
    }
   ],
   "source": [
    "t.a"
   ]
  },
  {
   "cell_type": "code",
   "execution_count": 5,
   "id": "c18197bd",
   "metadata": {
    "execution": {
     "iopub.execute_input": "2023-01-20T05:07:31.483683Z",
     "iopub.status.busy": "2023-01-20T05:07:31.483159Z",
     "iopub.status.idle": "2023-01-20T05:07:36.287030Z",
     "shell.execute_reply": "2023-01-20T05:07:36.286448Z"
    }
   },
   "outputs": [
    {
     "name": "stdout",
     "output_type": "stream",
     "text": [
      "59.1 ns ± 0.221 ns per loop (mean ± std. dev. of 7 runs, 10,000,000 loops each)\n"
     ]
    }
   ],
   "source": [
    "%timeit t.a"
   ]
  },
  {
   "cell_type": "code",
   "execution_count": 6,
   "id": "bd52f867",
   "metadata": {
    "execution": {
     "iopub.execute_input": "2023-01-20T05:07:36.290266Z",
     "iopub.status.busy": "2023-01-20T05:07:36.289690Z",
     "iopub.status.idle": "2023-01-20T05:07:36.295688Z",
     "shell.execute_reply": "2023-01-20T05:07:36.295054Z"
    }
   },
   "outputs": [
    {
     "data": {
      "text/plain": [
       "<FastTreeValue 0x7f533cae1040>\n",
       "├── 'a' --> tensor([[ 0.1454,  0.3464,  0.4325],\n",
       "│                   [-1.6325,  1.3501,  0.1428]])\n",
       "└── 'x' --> <FastTreeValue 0x7f533cb30670>\n",
       "    └── 'c' --> tensor([[-0.9446,  0.9659,  2.3515,  0.8332],\n",
       "                        [ 0.8201, -0.2388,  0.7523, -0.7483],\n",
       "                        [ 0.2555, -0.8896,  1.2533,  1.1000]])"
      ]
     },
     "execution_count": 6,
     "metadata": {},
     "output_type": "execute_result"
    }
   ],
   "source": [
    "new_value = torch.randn(2, 3)\n",
    "t.a = new_value\n",
    "\n",
    "t"
   ]
  },
  {
   "cell_type": "code",
   "execution_count": 7,
   "id": "bbe04d1c",
   "metadata": {
    "execution": {
     "iopub.execute_input": "2023-01-20T05:07:36.298507Z",
     "iopub.status.busy": "2023-01-20T05:07:36.298301Z",
     "iopub.status.idle": "2023-01-20T05:07:41.876436Z",
     "shell.execute_reply": "2023-01-20T05:07:41.875752Z"
    }
   },
   "outputs": [
    {
     "name": "stdout",
     "output_type": "stream",
     "text": [
      "68.4 ns ± 0.396 ns per loop (mean ± std. dev. of 7 runs, 10,000,000 loops each)\n"
     ]
    }
   ],
   "source": [
    "%timeit t.a = new_value"
   ]
  },
  {
   "cell_type": "markdown",
   "id": "48c49731",
   "metadata": {},
   "source": [
    "### Tianshou Batch's Get and Set"
   ]
  },
  {
   "cell_type": "code",
   "execution_count": 8,
   "id": "f1bb14c1",
   "metadata": {
    "execution": {
     "iopub.execute_input": "2023-01-20T05:07:41.879803Z",
     "iopub.status.busy": "2023-01-20T05:07:41.879431Z",
     "iopub.status.idle": "2023-01-20T05:07:42.216998Z",
     "shell.execute_reply": "2023-01-20T05:07:42.216330Z"
    }
   },
   "outputs": [],
   "source": [
    "from tianshou.data import Batch\n",
    "\n",
    "b = Batch(**_TREE_DATA_2)"
   ]
  },
  {
   "cell_type": "code",
   "execution_count": 9,
   "id": "cb0777c3",
   "metadata": {
    "execution": {
     "iopub.execute_input": "2023-01-20T05:07:42.220475Z",
     "iopub.status.busy": "2023-01-20T05:07:42.219943Z",
     "iopub.status.idle": "2023-01-20T05:07:42.225502Z",
     "shell.execute_reply": "2023-01-20T05:07:42.224874Z"
    }
   },
   "outputs": [
    {
     "data": {
      "text/plain": [
       "Batch(\n",
       "    a: tensor([[ 0.3523, -1.3877, -1.4078],\n",
       "               [ 0.7722,  1.4825, -0.1488]]),\n",
       "    x: Batch(\n",
       "           c: tensor([[-0.9446,  0.9659,  2.3515,  0.8332],\n",
       "                      [ 0.8201, -0.2388,  0.7523, -0.7483],\n",
       "                      [ 0.2555, -0.8896,  1.2533,  1.1000]]),\n",
       "       ),\n",
       ")"
      ]
     },
     "execution_count": 9,
     "metadata": {},
     "output_type": "execute_result"
    }
   ],
   "source": [
    "b"
   ]
  },
  {
   "cell_type": "code",
   "execution_count": 10,
   "id": "43ef8ea3",
   "metadata": {
    "execution": {
     "iopub.execute_input": "2023-01-20T05:07:42.228167Z",
     "iopub.status.busy": "2023-01-20T05:07:42.227956Z",
     "iopub.status.idle": "2023-01-20T05:07:42.232480Z",
     "shell.execute_reply": "2023-01-20T05:07:42.231862Z"
    }
   },
   "outputs": [
    {
     "data": {
      "text/plain": [
       "tensor([[ 0.3523, -1.3877, -1.4078],\n",
       "        [ 0.7722,  1.4825, -0.1488]])"
      ]
     },
     "execution_count": 10,
     "metadata": {},
     "output_type": "execute_result"
    }
   ],
   "source": [
    "b.a"
   ]
  },
  {
   "cell_type": "code",
   "execution_count": 11,
   "id": "b785ab72",
   "metadata": {
    "execution": {
     "iopub.execute_input": "2023-01-20T05:07:42.235321Z",
     "iopub.status.busy": "2023-01-20T05:07:42.235104Z",
     "iopub.status.idle": "2023-01-20T05:07:46.407432Z",
     "shell.execute_reply": "2023-01-20T05:07:46.406374Z"
    }
   },
   "outputs": [
    {
     "name": "stdout",
     "output_type": "stream",
     "text": [
      "51.2 ns ± 0.126 ns per loop (mean ± std. dev. of 7 runs, 10,000,000 loops each)\n"
     ]
    }
   ],
   "source": [
    "%timeit b.a"
   ]
  },
  {
   "cell_type": "code",
   "execution_count": 12,
   "id": "ad54dc69",
   "metadata": {
    "execution": {
     "iopub.execute_input": "2023-01-20T05:07:46.410642Z",
     "iopub.status.busy": "2023-01-20T05:07:46.410282Z",
     "iopub.status.idle": "2023-01-20T05:07:46.416981Z",
     "shell.execute_reply": "2023-01-20T05:07:46.416386Z"
    }
   },
   "outputs": [
    {
     "data": {
      "text/plain": [
       "Batch(\n",
       "    a: tensor([[ 1.2380, -1.7456, -1.3836],\n",
       "               [ 0.4061, -0.1303, -1.1490]]),\n",
       "    x: Batch(\n",
       "           c: tensor([[-0.9446,  0.9659,  2.3515,  0.8332],\n",
       "                      [ 0.8201, -0.2388,  0.7523, -0.7483],\n",
       "                      [ 0.2555, -0.8896,  1.2533,  1.1000]]),\n",
       "       ),\n",
       ")"
      ]
     },
     "execution_count": 12,
     "metadata": {},
     "output_type": "execute_result"
    }
   ],
   "source": [
    "new_value = torch.randn(2, 3)\n",
    "b.a = new_value\n",
    "\n",
    "b"
   ]
  },
  {
   "cell_type": "code",
   "execution_count": 13,
   "id": "29b1d0bf",
   "metadata": {
    "execution": {
     "iopub.execute_input": "2023-01-20T05:07:46.419666Z",
     "iopub.status.busy": "2023-01-20T05:07:46.419436Z",
     "iopub.status.idle": "2023-01-20T05:07:50.304460Z",
     "shell.execute_reply": "2023-01-20T05:07:50.303430Z"
    }
   },
   "outputs": [
    {
     "name": "stdout",
     "output_type": "stream",
     "text": [
      "478 ns ± 0.142 ns per loop (mean ± std. dev. of 7 runs, 1,000,000 loops each)\n"
     ]
    }
   ],
   "source": [
    "%timeit b.a = new_value"
   ]
  },
  {
   "cell_type": "markdown",
   "id": "b61ad1d0",
   "metadata": {},
   "source": [
    "## Initialization"
   ]
  },
  {
   "cell_type": "markdown",
   "id": "d70f0d54",
   "metadata": {},
   "source": [
    "### TreeValue's Initialization"
   ]
  },
  {
   "cell_type": "code",
   "execution_count": 14,
   "id": "d32a679b",
   "metadata": {
    "execution": {
     "iopub.execute_input": "2023-01-20T05:07:50.307634Z",
     "iopub.status.busy": "2023-01-20T05:07:50.307397Z",
     "iopub.status.idle": "2023-01-20T05:07:57.175312Z",
     "shell.execute_reply": "2023-01-20T05:07:57.174229Z"
    }
   },
   "outputs": [
    {
     "name": "stdout",
     "output_type": "stream",
     "text": [
      "846 ns ± 0.2 ns per loop (mean ± std. dev. of 7 runs, 1,000,000 loops each)\n"
     ]
    }
   ],
   "source": [
    "%timeit FastTreeValue(_TREE_DATA_1)"
   ]
  },
  {
   "cell_type": "markdown",
   "id": "24f3707b",
   "metadata": {},
   "source": [
    "### Tianshou Batch's Initialization"
   ]
  },
  {
   "cell_type": "code",
   "execution_count": 15,
   "id": "ac3958df",
   "metadata": {
    "execution": {
     "iopub.execute_input": "2023-01-20T05:07:57.178447Z",
     "iopub.status.busy": "2023-01-20T05:07:57.178215Z",
     "iopub.status.idle": "2023-01-20T05:08:06.474172Z",
     "shell.execute_reply": "2023-01-20T05:08:06.473118Z"
    }
   },
   "outputs": [
    {
     "name": "stdout",
     "output_type": "stream",
     "text": [
      "11.4 µs ± 57.6 ns per loop (mean ± std. dev. of 7 runs, 100,000 loops each)\n"
     ]
    }
   ],
   "source": [
    "%timeit Batch(**_TREE_DATA_1)"
   ]
  },
  {
   "cell_type": "markdown",
   "id": "1ab82e2d",
   "metadata": {},
   "source": [
    "## Deep Copy Operation"
   ]
  },
  {
   "cell_type": "code",
   "execution_count": 16,
   "id": "210a9442",
   "metadata": {
    "execution": {
     "iopub.execute_input": "2023-01-20T05:08:06.477355Z",
     "iopub.status.busy": "2023-01-20T05:08:06.477125Z",
     "iopub.status.idle": "2023-01-20T05:08:06.481239Z",
     "shell.execute_reply": "2023-01-20T05:08:06.480660Z"
    }
   },
   "outputs": [],
   "source": [
    "import copy"
   ]
  },
  {
   "cell_type": "markdown",
   "id": "5a736274",
   "metadata": {},
   "source": [
    "### Deep Copy of TreeValue"
   ]
  },
  {
   "cell_type": "code",
   "execution_count": 17,
   "id": "f9bcadd6",
   "metadata": {
    "execution": {
     "iopub.execute_input": "2023-01-20T05:08:06.484004Z",
     "iopub.status.busy": "2023-01-20T05:08:06.483798Z",
     "iopub.status.idle": "2023-01-20T05:08:17.641919Z",
     "shell.execute_reply": "2023-01-20T05:08:17.641302Z"
    }
   },
   "outputs": [
    {
     "name": "stdout",
     "output_type": "stream",
     "text": [
      "138 µs ± 949 ns per loop (mean ± std. dev. of 7 runs, 10,000 loops each)\n"
     ]
    }
   ],
   "source": [
    "t3 = FastTreeValue(_TREE_DATA_3)\n",
    "%timeit copy.deepcopy(t3)"
   ]
  },
  {
   "cell_type": "markdown",
   "id": "bf8be7ea",
   "metadata": {},
   "source": [
    "### Deep Copy of Tianshou Batch"
   ]
  },
  {
   "cell_type": "code",
   "execution_count": 18,
   "id": "91998e6f",
   "metadata": {
    "execution": {
     "iopub.execute_input": "2023-01-20T05:08:17.646661Z",
     "iopub.status.busy": "2023-01-20T05:08:17.645460Z",
     "iopub.status.idle": "2023-01-20T05:08:29.097887Z",
     "shell.execute_reply": "2023-01-20T05:08:29.097287Z"
    }
   },
   "outputs": [
    {
     "name": "stdout",
     "output_type": "stream",
     "text": [
      "141 µs ± 1.22 µs per loop (mean ± std. dev. of 7 runs, 10,000 loops each)\n"
     ]
    }
   ],
   "source": [
    "b3 = Batch(**_TREE_DATA_3)\n",
    "%timeit copy.deepcopy(b3)"
   ]
  },
  {
   "cell_type": "markdown",
   "id": "223162fb",
   "metadata": {},
   "source": [
    "## Stack, Concat and Split Operation"
   ]
  },
  {
   "cell_type": "markdown",
   "id": "85fa4a73",
   "metadata": {},
   "source": [
    "### Performance of TreeValue"
   ]
  },
  {
   "cell_type": "code",
   "execution_count": 19,
   "id": "a0c2b697",
   "metadata": {
    "execution": {
     "iopub.execute_input": "2023-01-20T05:08:29.101075Z",
     "iopub.status.busy": "2023-01-20T05:08:29.100833Z",
     "iopub.status.idle": "2023-01-20T05:08:29.105307Z",
     "shell.execute_reply": "2023-01-20T05:08:29.104705Z"
    }
   },
   "outputs": [],
   "source": [
    "trees = [FastTreeValue(_TREE_DATA_2) for _ in range(8)]"
   ]
  },
  {
   "cell_type": "code",
   "execution_count": 20,
   "id": "017ea5a5",
   "metadata": {
    "execution": {
     "iopub.execute_input": "2023-01-20T05:08:29.108517Z",
     "iopub.status.busy": "2023-01-20T05:08:29.108056Z",
     "iopub.status.idle": "2023-01-20T05:08:29.115361Z",
     "shell.execute_reply": "2023-01-20T05:08:29.114713Z"
    }
   },
   "outputs": [
    {
     "data": {
      "text/plain": [
       "<FastTreeValue 0x7f529845ff10>\n",
       "├── 'a' --> tensor([[[ 0.3523, -1.3877, -1.4078],\n",
       "│                    [ 0.7722,  1.4825, -0.1488]],\n",
       "│           \n",
       "│                   [[ 0.3523, -1.3877, -1.4078],\n",
       "│                    [ 0.7722,  1.4825, -0.1488]],\n",
       "│           \n",
       "│                   [[ 0.3523, -1.3877, -1.4078],\n",
       "│                    [ 0.7722,  1.4825, -0.1488]],\n",
       "│           \n",
       "│                   [[ 0.3523, -1.3877, -1.4078],\n",
       "│                    [ 0.7722,  1.4825, -0.1488]],\n",
       "│           \n",
       "│                   [[ 0.3523, -1.3877, -1.4078],\n",
       "│                    [ 0.7722,  1.4825, -0.1488]],\n",
       "│           \n",
       "│                   [[ 0.3523, -1.3877, -1.4078],\n",
       "│                    [ 0.7722,  1.4825, -0.1488]],\n",
       "│           \n",
       "│                   [[ 0.3523, -1.3877, -1.4078],\n",
       "│                    [ 0.7722,  1.4825, -0.1488]],\n",
       "│           \n",
       "│                   [[ 0.3523, -1.3877, -1.4078],\n",
       "│                    [ 0.7722,  1.4825, -0.1488]]])\n",
       "└── 'x' --> <FastTreeValue 0x7f529845fb80>\n",
       "    └── 'c' --> tensor([[[-0.9446,  0.9659,  2.3515,  0.8332],\n",
       "                         [ 0.8201, -0.2388,  0.7523, -0.7483],\n",
       "                         [ 0.2555, -0.8896,  1.2533,  1.1000]],\n",
       "                \n",
       "                        [[-0.9446,  0.9659,  2.3515,  0.8332],\n",
       "                         [ 0.8201, -0.2388,  0.7523, -0.7483],\n",
       "                         [ 0.2555, -0.8896,  1.2533,  1.1000]],\n",
       "                \n",
       "                        [[-0.9446,  0.9659,  2.3515,  0.8332],\n",
       "                         [ 0.8201, -0.2388,  0.7523, -0.7483],\n",
       "                         [ 0.2555, -0.8896,  1.2533,  1.1000]],\n",
       "                \n",
       "                        [[-0.9446,  0.9659,  2.3515,  0.8332],\n",
       "                         [ 0.8201, -0.2388,  0.7523, -0.7483],\n",
       "                         [ 0.2555, -0.8896,  1.2533,  1.1000]],\n",
       "                \n",
       "                        [[-0.9446,  0.9659,  2.3515,  0.8332],\n",
       "                         [ 0.8201, -0.2388,  0.7523, -0.7483],\n",
       "                         [ 0.2555, -0.8896,  1.2533,  1.1000]],\n",
       "                \n",
       "                        [[-0.9446,  0.9659,  2.3515,  0.8332],\n",
       "                         [ 0.8201, -0.2388,  0.7523, -0.7483],\n",
       "                         [ 0.2555, -0.8896,  1.2533,  1.1000]],\n",
       "                \n",
       "                        [[-0.9446,  0.9659,  2.3515,  0.8332],\n",
       "                         [ 0.8201, -0.2388,  0.7523, -0.7483],\n",
       "                         [ 0.2555, -0.8896,  1.2533,  1.1000]],\n",
       "                \n",
       "                        [[-0.9446,  0.9659,  2.3515,  0.8332],\n",
       "                         [ 0.8201, -0.2388,  0.7523, -0.7483],\n",
       "                         [ 0.2555, -0.8896,  1.2533,  1.1000]]])"
      ]
     },
     "execution_count": 20,
     "metadata": {},
     "output_type": "execute_result"
    }
   ],
   "source": [
    "t_stack = FastTreeValue.func(subside=True)(torch.stack)\n",
    "\n",
    "t_stack(trees)"
   ]
  },
  {
   "cell_type": "code",
   "execution_count": 21,
   "id": "f8b3f415",
   "metadata": {
    "execution": {
     "iopub.execute_input": "2023-01-20T05:08:29.118103Z",
     "iopub.status.busy": "2023-01-20T05:08:29.117894Z",
     "iopub.status.idle": "2023-01-20T05:08:31.688595Z",
     "shell.execute_reply": "2023-01-20T05:08:31.687862Z"
    }
   },
   "outputs": [
    {
     "name": "stdout",
     "output_type": "stream",
     "text": [
      "31.6 µs ± 44.3 ns per loop (mean ± std. dev. of 7 runs, 10,000 loops each)\n"
     ]
    }
   ],
   "source": [
    "%timeit t_stack(trees)"
   ]
  },
  {
   "cell_type": "code",
   "execution_count": 22,
   "id": "94b56771",
   "metadata": {
    "execution": {
     "iopub.execute_input": "2023-01-20T05:08:31.691745Z",
     "iopub.status.busy": "2023-01-20T05:08:31.691519Z",
     "iopub.status.idle": "2023-01-20T05:08:31.698703Z",
     "shell.execute_reply": "2023-01-20T05:08:31.698058Z"
    }
   },
   "outputs": [
    {
     "data": {
      "text/plain": [
       "<FastTreeValue 0x7f5298467880>\n",
       "├── 'a' --> tensor([[ 0.3523, -1.3877, -1.4078],\n",
       "│                   [ 0.7722,  1.4825, -0.1488],\n",
       "│                   [ 0.3523, -1.3877, -1.4078],\n",
       "│                   [ 0.7722,  1.4825, -0.1488],\n",
       "│                   [ 0.3523, -1.3877, -1.4078],\n",
       "│                   [ 0.7722,  1.4825, -0.1488],\n",
       "│                   [ 0.3523, -1.3877, -1.4078],\n",
       "│                   [ 0.7722,  1.4825, -0.1488],\n",
       "│                   [ 0.3523, -1.3877, -1.4078],\n",
       "│                   [ 0.7722,  1.4825, -0.1488],\n",
       "│                   [ 0.3523, -1.3877, -1.4078],\n",
       "│                   [ 0.7722,  1.4825, -0.1488],\n",
       "│                   [ 0.3523, -1.3877, -1.4078],\n",
       "│                   [ 0.7722,  1.4825, -0.1488],\n",
       "│                   [ 0.3523, -1.3877, -1.4078],\n",
       "│                   [ 0.7722,  1.4825, -0.1488]])\n",
       "└── 'x' --> <FastTreeValue 0x7f52964d4f70>\n",
       "    └── 'c' --> tensor([[-0.9446,  0.9659,  2.3515,  0.8332],\n",
       "                        [ 0.8201, -0.2388,  0.7523, -0.7483],\n",
       "                        [ 0.2555, -0.8896,  1.2533,  1.1000],\n",
       "                        [-0.9446,  0.9659,  2.3515,  0.8332],\n",
       "                        [ 0.8201, -0.2388,  0.7523, -0.7483],\n",
       "                        [ 0.2555, -0.8896,  1.2533,  1.1000],\n",
       "                        [-0.9446,  0.9659,  2.3515,  0.8332],\n",
       "                        [ 0.8201, -0.2388,  0.7523, -0.7483],\n",
       "                        [ 0.2555, -0.8896,  1.2533,  1.1000],\n",
       "                        [-0.9446,  0.9659,  2.3515,  0.8332],\n",
       "                        [ 0.8201, -0.2388,  0.7523, -0.7483],\n",
       "                        [ 0.2555, -0.8896,  1.2533,  1.1000],\n",
       "                        [-0.9446,  0.9659,  2.3515,  0.8332],\n",
       "                        [ 0.8201, -0.2388,  0.7523, -0.7483],\n",
       "                        [ 0.2555, -0.8896,  1.2533,  1.1000],\n",
       "                        [-0.9446,  0.9659,  2.3515,  0.8332],\n",
       "                        [ 0.8201, -0.2388,  0.7523, -0.7483],\n",
       "                        [ 0.2555, -0.8896,  1.2533,  1.1000],\n",
       "                        [-0.9446,  0.9659,  2.3515,  0.8332],\n",
       "                        [ 0.8201, -0.2388,  0.7523, -0.7483],\n",
       "                        [ 0.2555, -0.8896,  1.2533,  1.1000],\n",
       "                        [-0.9446,  0.9659,  2.3515,  0.8332],\n",
       "                        [ 0.8201, -0.2388,  0.7523, -0.7483],\n",
       "                        [ 0.2555, -0.8896,  1.2533,  1.1000]])"
      ]
     },
     "execution_count": 22,
     "metadata": {},
     "output_type": "execute_result"
    }
   ],
   "source": [
    "t_cat = FastTreeValue.func(subside=True)(torch.cat)\n",
    "\n",
    "t_cat(trees)"
   ]
  },
  {
   "cell_type": "code",
   "execution_count": 23,
   "id": "5e9c06a6",
   "metadata": {
    "execution": {
     "iopub.execute_input": "2023-01-20T05:08:31.701451Z",
     "iopub.status.busy": "2023-01-20T05:08:31.701232Z",
     "iopub.status.idle": "2023-01-20T05:08:34.098416Z",
     "shell.execute_reply": "2023-01-20T05:08:34.097825Z"
    }
   },
   "outputs": [
    {
     "name": "stdout",
     "output_type": "stream",
     "text": [
      "29.5 µs ± 51.9 ns per loop (mean ± std. dev. of 7 runs, 10,000 loops each)\n"
     ]
    }
   ],
   "source": [
    "%timeit t_cat(trees)"
   ]
  },
  {
   "cell_type": "code",
   "execution_count": 24,
   "id": "a3ab5c8f",
   "metadata": {
    "execution": {
     "iopub.execute_input": "2023-01-20T05:08:34.101470Z",
     "iopub.status.busy": "2023-01-20T05:08:34.101238Z",
     "iopub.status.idle": "2023-01-20T05:08:38.985651Z",
     "shell.execute_reply": "2023-01-20T05:08:38.985071Z"
    }
   },
   "outputs": [
    {
     "name": "stdout",
     "output_type": "stream",
     "text": [
      "60.1 µs ± 147 ns per loop (mean ± std. dev. of 7 runs, 10,000 loops each)\n"
     ]
    }
   ],
   "source": [
    "t_split = FastTreeValue.func(rise=True)(torch.split)\n",
    "tree = FastTreeValue({\n",
    "    'obs': torch.randn(8, 4, 84, 84),\n",
    "    'action': torch.randint(0, 6, size=(8, 1,)),\n",
    "    'reward': torch.rand(8, 1),\n",
    "})\n",
    "\n",
    "%timeit t_split(tree, 1)"
   ]
  },
  {
   "cell_type": "markdown",
   "id": "31c3ec0b",
   "metadata": {},
   "source": [
    "### Performance of Tianshou Batch"
   ]
  },
  {
   "cell_type": "code",
   "execution_count": 25,
   "id": "9ead828a",
   "metadata": {
    "execution": {
     "iopub.execute_input": "2023-01-20T05:08:38.989584Z",
     "iopub.status.busy": "2023-01-20T05:08:38.988995Z",
     "iopub.status.idle": "2023-01-20T05:08:38.996291Z",
     "shell.execute_reply": "2023-01-20T05:08:38.995630Z"
    }
   },
   "outputs": [
    {
     "data": {
      "text/plain": [
       "Batch(\n",
       "    x: Batch(\n",
       "           c: tensor([[[-0.9446,  0.9659,  2.3515,  0.8332],\n",
       "                       [ 0.8201, -0.2388,  0.7523, -0.7483],\n",
       "                       [ 0.2555, -0.8896,  1.2533,  1.1000]],\n",
       "              \n",
       "                      [[-0.9446,  0.9659,  2.3515,  0.8332],\n",
       "                       [ 0.8201, -0.2388,  0.7523, -0.7483],\n",
       "                       [ 0.2555, -0.8896,  1.2533,  1.1000]],\n",
       "              \n",
       "                      [[-0.9446,  0.9659,  2.3515,  0.8332],\n",
       "                       [ 0.8201, -0.2388,  0.7523, -0.7483],\n",
       "                       [ 0.2555, -0.8896,  1.2533,  1.1000]],\n",
       "              \n",
       "                      [[-0.9446,  0.9659,  2.3515,  0.8332],\n",
       "                       [ 0.8201, -0.2388,  0.7523, -0.7483],\n",
       "                       [ 0.2555, -0.8896,  1.2533,  1.1000]],\n",
       "              \n",
       "                      [[-0.9446,  0.9659,  2.3515,  0.8332],\n",
       "                       [ 0.8201, -0.2388,  0.7523, -0.7483],\n",
       "                       [ 0.2555, -0.8896,  1.2533,  1.1000]],\n",
       "              \n",
       "                      [[-0.9446,  0.9659,  2.3515,  0.8332],\n",
       "                       [ 0.8201, -0.2388,  0.7523, -0.7483],\n",
       "                       [ 0.2555, -0.8896,  1.2533,  1.1000]],\n",
       "              \n",
       "                      [[-0.9446,  0.9659,  2.3515,  0.8332],\n",
       "                       [ 0.8201, -0.2388,  0.7523, -0.7483],\n",
       "                       [ 0.2555, -0.8896,  1.2533,  1.1000]],\n",
       "              \n",
       "                      [[-0.9446,  0.9659,  2.3515,  0.8332],\n",
       "                       [ 0.8201, -0.2388,  0.7523, -0.7483],\n",
       "                       [ 0.2555, -0.8896,  1.2533,  1.1000]]]),\n",
       "       ),\n",
       "    a: tensor([[[ 0.3523, -1.3877, -1.4078],\n",
       "                [ 0.7722,  1.4825, -0.1488]],\n",
       "       \n",
       "               [[ 0.3523, -1.3877, -1.4078],\n",
       "                [ 0.7722,  1.4825, -0.1488]],\n",
       "       \n",
       "               [[ 0.3523, -1.3877, -1.4078],\n",
       "                [ 0.7722,  1.4825, -0.1488]],\n",
       "       \n",
       "               [[ 0.3523, -1.3877, -1.4078],\n",
       "                [ 0.7722,  1.4825, -0.1488]],\n",
       "       \n",
       "               [[ 0.3523, -1.3877, -1.4078],\n",
       "                [ 0.7722,  1.4825, -0.1488]],\n",
       "       \n",
       "               [[ 0.3523, -1.3877, -1.4078],\n",
       "                [ 0.7722,  1.4825, -0.1488]],\n",
       "       \n",
       "               [[ 0.3523, -1.3877, -1.4078],\n",
       "                [ 0.7722,  1.4825, -0.1488]],\n",
       "       \n",
       "               [[ 0.3523, -1.3877, -1.4078],\n",
       "                [ 0.7722,  1.4825, -0.1488]]]),\n",
       ")"
      ]
     },
     "execution_count": 25,
     "metadata": {},
     "output_type": "execute_result"
    }
   ],
   "source": [
    "batches = [Batch(**_TREE_DATA_2) for _ in range(8)]\n",
    "\n",
    "Batch.stack(batches)"
   ]
  },
  {
   "cell_type": "code",
   "execution_count": 26,
   "id": "ec9037a3",
   "metadata": {
    "execution": {
     "iopub.execute_input": "2023-01-20T05:08:38.999245Z",
     "iopub.status.busy": "2023-01-20T05:08:38.998725Z",
     "iopub.status.idle": "2023-01-20T05:08:45.470594Z",
     "shell.execute_reply": "2023-01-20T05:08:45.470014Z"
    }
   },
   "outputs": [
    {
     "name": "stdout",
     "output_type": "stream",
     "text": [
      "79.6 µs ± 250 ns per loop (mean ± std. dev. of 7 runs, 10,000 loops each)\n"
     ]
    }
   ],
   "source": [
    "%timeit Batch.stack(batches)"
   ]
  },
  {
   "cell_type": "code",
   "execution_count": 27,
   "id": "cb8ab77e",
   "metadata": {
    "execution": {
     "iopub.execute_input": "2023-01-20T05:08:45.473827Z",
     "iopub.status.busy": "2023-01-20T05:08:45.473268Z",
     "iopub.status.idle": "2023-01-20T05:08:45.480271Z",
     "shell.execute_reply": "2023-01-20T05:08:45.479618Z"
    }
   },
   "outputs": [
    {
     "data": {
      "text/plain": [
       "Batch(\n",
       "    x: Batch(\n",
       "           c: tensor([[-0.9446,  0.9659,  2.3515,  0.8332],\n",
       "                      [ 0.8201, -0.2388,  0.7523, -0.7483],\n",
       "                      [ 0.2555, -0.8896,  1.2533,  1.1000],\n",
       "                      [-0.9446,  0.9659,  2.3515,  0.8332],\n",
       "                      [ 0.8201, -0.2388,  0.7523, -0.7483],\n",
       "                      [ 0.2555, -0.8896,  1.2533,  1.1000],\n",
       "                      [-0.9446,  0.9659,  2.3515,  0.8332],\n",
       "                      [ 0.8201, -0.2388,  0.7523, -0.7483],\n",
       "                      [ 0.2555, -0.8896,  1.2533,  1.1000],\n",
       "                      [-0.9446,  0.9659,  2.3515,  0.8332],\n",
       "                      [ 0.8201, -0.2388,  0.7523, -0.7483],\n",
       "                      [ 0.2555, -0.8896,  1.2533,  1.1000],\n",
       "                      [-0.9446,  0.9659,  2.3515,  0.8332],\n",
       "                      [ 0.8201, -0.2388,  0.7523, -0.7483],\n",
       "                      [ 0.2555, -0.8896,  1.2533,  1.1000],\n",
       "                      [-0.9446,  0.9659,  2.3515,  0.8332],\n",
       "                      [ 0.8201, -0.2388,  0.7523, -0.7483],\n",
       "                      [ 0.2555, -0.8896,  1.2533,  1.1000],\n",
       "                      [-0.9446,  0.9659,  2.3515,  0.8332],\n",
       "                      [ 0.8201, -0.2388,  0.7523, -0.7483],\n",
       "                      [ 0.2555, -0.8896,  1.2533,  1.1000],\n",
       "                      [-0.9446,  0.9659,  2.3515,  0.8332],\n",
       "                      [ 0.8201, -0.2388,  0.7523, -0.7483],\n",
       "                      [ 0.2555, -0.8896,  1.2533,  1.1000]]),\n",
       "       ),\n",
       "    a: tensor([[ 0.3523, -1.3877, -1.4078],\n",
       "               [ 0.7722,  1.4825, -0.1488],\n",
       "               [ 0.3523, -1.3877, -1.4078],\n",
       "               [ 0.7722,  1.4825, -0.1488],\n",
       "               [ 0.3523, -1.3877, -1.4078],\n",
       "               [ 0.7722,  1.4825, -0.1488],\n",
       "               [ 0.3523, -1.3877, -1.4078],\n",
       "               [ 0.7722,  1.4825, -0.1488],\n",
       "               [ 0.3523, -1.3877, -1.4078],\n",
       "               [ 0.7722,  1.4825, -0.1488],\n",
       "               [ 0.3523, -1.3877, -1.4078],\n",
       "               [ 0.7722,  1.4825, -0.1488],\n",
       "               [ 0.3523, -1.3877, -1.4078],\n",
       "               [ 0.7722,  1.4825, -0.1488],\n",
       "               [ 0.3523, -1.3877, -1.4078],\n",
       "               [ 0.7722,  1.4825, -0.1488]]),\n",
       ")"
      ]
     },
     "execution_count": 27,
     "metadata": {},
     "output_type": "execute_result"
    }
   ],
   "source": [
    "Batch.cat(batches)"
   ]
  },
  {
   "cell_type": "code",
   "execution_count": 28,
   "id": "18dfb045",
   "metadata": {
    "execution": {
     "iopub.execute_input": "2023-01-20T05:08:45.482893Z",
     "iopub.status.busy": "2023-01-20T05:08:45.482679Z",
     "iopub.status.idle": "2023-01-20T05:08:57.543504Z",
     "shell.execute_reply": "2023-01-20T05:08:57.542850Z"
    }
   },
   "outputs": [
    {
     "name": "stdout",
     "output_type": "stream",
     "text": [
      "149 µs ± 285 ns per loop (mean ± std. dev. of 7 runs, 10,000 loops each)\n"
     ]
    }
   ],
   "source": [
    "%timeit Batch.cat(batches)"
   ]
  },
  {
   "cell_type": "code",
   "execution_count": 29,
   "id": "c6688e51",
   "metadata": {
    "execution": {
     "iopub.execute_input": "2023-01-20T05:08:57.547068Z",
     "iopub.status.busy": "2023-01-20T05:08:57.546712Z",
     "iopub.status.idle": "2023-01-20T05:09:00.080762Z",
     "shell.execute_reply": "2023-01-20T05:09:00.080165Z"
    }
   },
   "outputs": [
    {
     "name": "stdout",
     "output_type": "stream",
     "text": [
      "309 µs ± 4.19 µs per loop (mean ± std. dev. of 7 runs, 1,000 loops each)\n"
     ]
    }
   ],
   "source": [
    "batch = Batch({\n",
    "    'obs': torch.randn(8, 4, 84, 84),\n",
    "    'action': torch.randint(0, 6, size=(8, 1,)),\n",
    "    'reward': torch.rand(8, 1)}\n",
    ")\n",
    "\n",
    "%timeit list(Batch.split(batch, 1, shuffle=False, merge_last=True))"
   ]
  },
  {
   "cell_type": "code",
   "execution_count": null,
   "id": "2539fbd9",
   "metadata": {},
   "outputs": [],
   "source": []
  }
 ],
 "metadata": {
  "kernelspec": {
   "display_name": "Python 3 (ipykernel)",
   "language": "python",
   "name": "python3"
  },
  "language_info": {
   "codemirror_mode": {
    "name": "ipython",
    "version": 3
   },
   "file_extension": ".py",
   "mimetype": "text/x-python",
   "name": "python",
   "nbconvert_exporter": "python",
   "pygments_lexer": "ipython3",
   "version": "3.8.16"
  }
 },
 "nbformat": 4,
 "nbformat_minor": 5
}
