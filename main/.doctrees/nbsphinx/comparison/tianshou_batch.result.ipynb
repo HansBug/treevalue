{
 "cells": [
  {
   "cell_type": "markdown",
   "id": "9d39d946",
   "metadata": {},
   "source": [
    "# Comparison Between TreeValue and Tianshou Batch"
   ]
  },
  {
   "cell_type": "markdown",
   "id": "3c6db2d4",
   "metadata": {},
   "source": [
    "In this section, we will take a look at the feature and performance of the [Tianshou Batch](https://github.com/thu-ml/tianshou) library, which is developed by Tsinghua Machine Learning Group."
   ]
  },
  {
   "cell_type": "markdown",
   "id": "069361b0",
   "metadata": {},
   "source": [
    "Before starting the comparison, let us define some thing."
   ]
  },
  {
   "cell_type": "code",
   "execution_count": 1,
   "id": "06fc8d26",
   "metadata": {
    "execution": {
     "iopub.execute_input": "2023-02-27T10:46:14.118410Z",
     "iopub.status.busy": "2023-02-27T10:46:14.118194Z",
     "iopub.status.idle": "2023-02-27T10:46:15.011762Z",
     "shell.execute_reply": "2023-02-27T10:46:15.011121Z"
    }
   },
   "outputs": [
    {
     "name": "stderr",
     "output_type": "stream",
     "text": [
      "/opt/hostedtoolcache/Python/3.8.16/x64/lib/python3.8/site-packages/tqdm/auto.py:22: TqdmWarning: IProgress not found. Please update jupyter and ipywidgets. See https://ipywidgets.readthedocs.io/en/stable/user_install.html\n",
      "  from .autonotebook import tqdm as notebook_tqdm\n"
     ]
    }
   ],
   "source": [
    "import torch \n",
    "\n",
    "_TREE_DATA_1 = {'a': 1, 'b': 2, 'x': {'c': 3, 'd': 4}}\n",
    "_TREE_DATA_2 = {\n",
    "    'a': torch.randn(2, 3), \n",
    "    'x': {\n",
    "        'c': torch.randn(3, 4)\n",
    "    },\n",
    "}\n",
    "_TREE_DATA_3 = {\n",
    "    'obs': torch.randn(4, 84, 84),\n",
    "    'action': torch.randint(0, 6, size=(1,)),\n",
    "    'reward': torch.rand(1),\n",
    "}"
   ]
  },
  {
   "cell_type": "markdown",
   "id": "83461b25",
   "metadata": {},
   "source": [
    "## Read and Write Operation"
   ]
  },
  {
   "cell_type": "markdown",
   "id": "067b3f73",
   "metadata": {},
   "source": [
    "Reading and writing are the two most common operations in the tree data structure based on the data model (TreeValue and Tianshou Batch both belong to this type), so this section will compare the reading and writing performance of these two libraries."
   ]
  },
  {
   "cell_type": "markdown",
   "id": "5d09a5b7",
   "metadata": {},
   "source": [
    "### TreeValue's Get and Set"
   ]
  },
  {
   "cell_type": "code",
   "execution_count": 2,
   "id": "9519c4bb",
   "metadata": {
    "execution": {
     "iopub.execute_input": "2023-02-27T10:46:15.014945Z",
     "iopub.status.busy": "2023-02-27T10:46:15.014474Z",
     "iopub.status.idle": "2023-02-27T10:46:15.290753Z",
     "shell.execute_reply": "2023-02-27T10:46:15.290084Z"
    }
   },
   "outputs": [],
   "source": [
    "from treevalue import FastTreeValue\n",
    "\n",
    "t = FastTreeValue(_TREE_DATA_2)"
   ]
  },
  {
   "cell_type": "code",
   "execution_count": 3,
   "id": "11c37677",
   "metadata": {
    "execution": {
     "iopub.execute_input": "2023-02-27T10:46:15.293889Z",
     "iopub.status.busy": "2023-02-27T10:46:15.293298Z",
     "iopub.status.idle": "2023-02-27T10:46:15.302471Z",
     "shell.execute_reply": "2023-02-27T10:46:15.301827Z"
    }
   },
   "outputs": [
    {
     "data": {
      "text/plain": [
       "<FastTreeValue 0x7f7f54c8b0a0>\n",
       "├── 'a' --> tensor([[-0.1679,  0.4615,  0.0652],\n",
       "│                   [-0.4972, -0.2046,  1.0569]])\n",
       "└── 'x' --> <FastTreeValue 0x7f7f54c8bdf0>\n",
       "    └── 'c' --> tensor([[ 1.7278,  0.3037,  0.9278, -0.3101],\n",
       "                        [ 0.9263, -1.2560,  1.8936,  0.3023],\n",
       "                        [ 0.4243, -0.7446,  0.6436, -2.5038]])"
      ]
     },
     "execution_count": 3,
     "metadata": {},
     "output_type": "execute_result"
    }
   ],
   "source": [
    "t"
   ]
  },
  {
   "cell_type": "code",
   "execution_count": 4,
   "id": "fd70b0b9",
   "metadata": {
    "execution": {
     "iopub.execute_input": "2023-02-27T10:46:15.305045Z",
     "iopub.status.busy": "2023-02-27T10:46:15.304707Z",
     "iopub.status.idle": "2023-02-27T10:46:15.309329Z",
     "shell.execute_reply": "2023-02-27T10:46:15.308723Z"
    }
   },
   "outputs": [
    {
     "data": {
      "text/plain": [
       "tensor([[-0.1679,  0.4615,  0.0652],\n",
       "        [-0.4972, -0.2046,  1.0569]])"
      ]
     },
     "execution_count": 4,
     "metadata": {},
     "output_type": "execute_result"
    }
   ],
   "source": [
    "t.a"
   ]
  },
  {
   "cell_type": "code",
   "execution_count": 5,
   "id": "c18197bd",
   "metadata": {
    "execution": {
     "iopub.execute_input": "2023-02-27T10:46:15.311659Z",
     "iopub.status.busy": "2023-02-27T10:46:15.311317Z",
     "iopub.status.idle": "2023-02-27T10:46:20.167340Z",
     "shell.execute_reply": "2023-02-27T10:46:20.166603Z"
    }
   },
   "outputs": [
    {
     "name": "stdout",
     "output_type": "stream",
     "text": [
      "60.1 ns ± 0.064 ns per loop (mean ± std. dev. of 7 runs, 10,000,000 loops each)\n"
     ]
    }
   ],
   "source": [
    "%timeit t.a"
   ]
  },
  {
   "cell_type": "code",
   "execution_count": 6,
   "id": "bd52f867",
   "metadata": {
    "execution": {
     "iopub.execute_input": "2023-02-27T10:46:20.170128Z",
     "iopub.status.busy": "2023-02-27T10:46:20.169785Z",
     "iopub.status.idle": "2023-02-27T10:46:20.176406Z",
     "shell.execute_reply": "2023-02-27T10:46:20.175816Z"
    }
   },
   "outputs": [
    {
     "data": {
      "text/plain": [
       "<FastTreeValue 0x7f7f54c8b0a0>\n",
       "├── 'a' --> tensor([[-1.1839,  0.5539, -0.5574],\n",
       "│                   [-0.7222, -0.1995,  0.5073]])\n",
       "└── 'x' --> <FastTreeValue 0x7f7f54c8bdf0>\n",
       "    └── 'c' --> tensor([[ 1.7278,  0.3037,  0.9278, -0.3101],\n",
       "                        [ 0.9263, -1.2560,  1.8936,  0.3023],\n",
       "                        [ 0.4243, -0.7446,  0.6436, -2.5038]])"
      ]
     },
     "execution_count": 6,
     "metadata": {},
     "output_type": "execute_result"
    }
   ],
   "source": [
    "new_value = torch.randn(2, 3)\n",
    "t.a = new_value\n",
    "\n",
    "t"
   ]
  },
  {
   "cell_type": "code",
   "execution_count": 7,
   "id": "bbe04d1c",
   "metadata": {
    "execution": {
     "iopub.execute_input": "2023-02-27T10:46:20.178975Z",
     "iopub.status.busy": "2023-02-27T10:46:20.178652Z",
     "iopub.status.idle": "2023-02-27T10:46:24.892111Z",
     "shell.execute_reply": "2023-02-27T10:46:24.891347Z"
    }
   },
   "outputs": [
    {
     "name": "stdout",
     "output_type": "stream",
     "text": [
      "58 ns ± 0.0318 ns per loop (mean ± std. dev. of 7 runs, 10,000,000 loops each)\n"
     ]
    }
   ],
   "source": [
    "%timeit t.a = new_value"
   ]
  },
  {
   "cell_type": "markdown",
   "id": "48c49731",
   "metadata": {},
   "source": [
    "### Tianshou Batch's Get and Set"
   ]
  },
  {
   "cell_type": "code",
   "execution_count": 8,
   "id": "f1bb14c1",
   "metadata": {
    "execution": {
     "iopub.execute_input": "2023-02-27T10:46:24.895493Z",
     "iopub.status.busy": "2023-02-27T10:46:24.894911Z",
     "iopub.status.idle": "2023-02-27T10:46:25.218111Z",
     "shell.execute_reply": "2023-02-27T10:46:25.217443Z"
    }
   },
   "outputs": [],
   "source": [
    "from tianshou.data import Batch\n",
    "\n",
    "b = Batch(**_TREE_DATA_2)"
   ]
  },
  {
   "cell_type": "code",
   "execution_count": 9,
   "id": "cb0777c3",
   "metadata": {
    "execution": {
     "iopub.execute_input": "2023-02-27T10:46:25.221223Z",
     "iopub.status.busy": "2023-02-27T10:46:25.220886Z",
     "iopub.status.idle": "2023-02-27T10:46:25.226811Z",
     "shell.execute_reply": "2023-02-27T10:46:25.226233Z"
    }
   },
   "outputs": [
    {
     "data": {
      "text/plain": [
       "Batch(\n",
       "    a: tensor([[-0.1679,  0.4615,  0.0652],\n",
       "               [-0.4972, -0.2046,  1.0569]]),\n",
       "    x: Batch(\n",
       "           c: tensor([[ 1.7278,  0.3037,  0.9278, -0.3101],\n",
       "                      [ 0.9263, -1.2560,  1.8936,  0.3023],\n",
       "                      [ 0.4243, -0.7446,  0.6436, -2.5038]]),\n",
       "       ),\n",
       ")"
      ]
     },
     "execution_count": 9,
     "metadata": {},
     "output_type": "execute_result"
    }
   ],
   "source": [
    "b"
   ]
  },
  {
   "cell_type": "code",
   "execution_count": 10,
   "id": "43ef8ea3",
   "metadata": {
    "execution": {
     "iopub.execute_input": "2023-02-27T10:46:25.229727Z",
     "iopub.status.busy": "2023-02-27T10:46:25.229244Z",
     "iopub.status.idle": "2023-02-27T10:46:25.235404Z",
     "shell.execute_reply": "2023-02-27T10:46:25.234566Z"
    }
   },
   "outputs": [
    {
     "data": {
      "text/plain": [
       "tensor([[-0.1679,  0.4615,  0.0652],\n",
       "        [-0.4972, -0.2046,  1.0569]])"
      ]
     },
     "execution_count": 10,
     "metadata": {},
     "output_type": "execute_result"
    }
   ],
   "source": [
    "b.a"
   ]
  },
  {
   "cell_type": "code",
   "execution_count": 11,
   "id": "b785ab72",
   "metadata": {
    "execution": {
     "iopub.execute_input": "2023-02-27T10:46:25.238756Z",
     "iopub.status.busy": "2023-02-27T10:46:25.237727Z",
     "iopub.status.idle": "2023-02-27T10:46:29.818391Z",
     "shell.execute_reply": "2023-02-27T10:46:29.817672Z"
    }
   },
   "outputs": [
    {
     "name": "stdout",
     "output_type": "stream",
     "text": [
      "56.4 ns ± 0.0411 ns per loop (mean ± std. dev. of 7 runs, 10,000,000 loops each)\n"
     ]
    }
   ],
   "source": [
    "%timeit b.a"
   ]
  },
  {
   "cell_type": "code",
   "execution_count": 12,
   "id": "ad54dc69",
   "metadata": {
    "execution": {
     "iopub.execute_input": "2023-02-27T10:46:29.821422Z",
     "iopub.status.busy": "2023-02-27T10:46:29.821068Z",
     "iopub.status.idle": "2023-02-27T10:46:29.828637Z",
     "shell.execute_reply": "2023-02-27T10:46:29.827727Z"
    }
   },
   "outputs": [
    {
     "data": {
      "text/plain": [
       "Batch(\n",
       "    a: tensor([[ 0.2983,  0.9191,  0.4214],\n",
       "               [ 0.1329,  0.8208, -1.1177]]),\n",
       "    x: Batch(\n",
       "           c: tensor([[ 1.7278,  0.3037,  0.9278, -0.3101],\n",
       "                      [ 0.9263, -1.2560,  1.8936,  0.3023],\n",
       "                      [ 0.4243, -0.7446,  0.6436, -2.5038]]),\n",
       "       ),\n",
       ")"
      ]
     },
     "execution_count": 12,
     "metadata": {},
     "output_type": "execute_result"
    }
   ],
   "source": [
    "new_value = torch.randn(2, 3)\n",
    "b.a = new_value\n",
    "\n",
    "b"
   ]
  },
  {
   "cell_type": "code",
   "execution_count": 13,
   "id": "29b1d0bf",
   "metadata": {
    "execution": {
     "iopub.execute_input": "2023-02-27T10:46:29.831511Z",
     "iopub.status.busy": "2023-02-27T10:46:29.831061Z",
     "iopub.status.idle": "2023-02-27T10:46:33.708646Z",
     "shell.execute_reply": "2023-02-27T10:46:33.707905Z"
    }
   },
   "outputs": [
    {
     "name": "stdout",
     "output_type": "stream",
     "text": [
      "477 ns ± 0.066 ns per loop (mean ± std. dev. of 7 runs, 1,000,000 loops each)\n"
     ]
    }
   ],
   "source": [
    "%timeit b.a = new_value"
   ]
  },
  {
   "cell_type": "markdown",
   "id": "b61ad1d0",
   "metadata": {},
   "source": [
    "## Initialization"
   ]
  },
  {
   "cell_type": "markdown",
   "id": "d70f0d54",
   "metadata": {},
   "source": [
    "### TreeValue's Initialization"
   ]
  },
  {
   "cell_type": "code",
   "execution_count": 14,
   "id": "d32a679b",
   "metadata": {
    "execution": {
     "iopub.execute_input": "2023-02-27T10:46:33.711905Z",
     "iopub.status.busy": "2023-02-27T10:46:33.711542Z",
     "iopub.status.idle": "2023-02-27T10:46:40.590182Z",
     "shell.execute_reply": "2023-02-27T10:46:40.589334Z"
    }
   },
   "outputs": [
    {
     "name": "stdout",
     "output_type": "stream",
     "text": [
      "847 ns ± 4.88 ns per loop (mean ± std. dev. of 7 runs, 1,000,000 loops each)\n"
     ]
    }
   ],
   "source": [
    "%timeit FastTreeValue(_TREE_DATA_1)"
   ]
  },
  {
   "cell_type": "markdown",
   "id": "24f3707b",
   "metadata": {},
   "source": [
    "### Tianshou Batch's Initialization"
   ]
  },
  {
   "cell_type": "code",
   "execution_count": 15,
   "id": "ac3958df",
   "metadata": {
    "execution": {
     "iopub.execute_input": "2023-02-27T10:46:40.593221Z",
     "iopub.status.busy": "2023-02-27T10:46:40.592704Z",
     "iopub.status.idle": "2023-02-27T10:46:49.869391Z",
     "shell.execute_reply": "2023-02-27T10:46:49.868626Z"
    }
   },
   "outputs": [
    {
     "name": "stdout",
     "output_type": "stream",
     "text": [
      "11.4 µs ± 55.7 ns per loop (mean ± std. dev. of 7 runs, 100,000 loops each)\n"
     ]
    }
   ],
   "source": [
    "%timeit Batch(**_TREE_DATA_1)"
   ]
  },
  {
   "cell_type": "markdown",
   "id": "1ab82e2d",
   "metadata": {},
   "source": [
    "## Deep Copy Operation"
   ]
  },
  {
   "cell_type": "code",
   "execution_count": 16,
   "id": "210a9442",
   "metadata": {
    "execution": {
     "iopub.execute_input": "2023-02-27T10:46:49.872478Z",
     "iopub.status.busy": "2023-02-27T10:46:49.871947Z",
     "iopub.status.idle": "2023-02-27T10:46:49.875970Z",
     "shell.execute_reply": "2023-02-27T10:46:49.875349Z"
    }
   },
   "outputs": [],
   "source": [
    "import copy"
   ]
  },
  {
   "cell_type": "markdown",
   "id": "5a736274",
   "metadata": {},
   "source": [
    "### Deep Copy of TreeValue"
   ]
  },
  {
   "cell_type": "code",
   "execution_count": 17,
   "id": "f9bcadd6",
   "metadata": {
    "execution": {
     "iopub.execute_input": "2023-02-27T10:46:49.878454Z",
     "iopub.status.busy": "2023-02-27T10:46:49.878116Z",
     "iopub.status.idle": "2023-02-27T10:47:00.909687Z",
     "shell.execute_reply": "2023-02-27T10:47:00.909101Z"
    }
   },
   "outputs": [
    {
     "name": "stdout",
     "output_type": "stream",
     "text": [
      "136 µs ± 1.68 µs per loop (mean ± std. dev. of 7 runs, 10,000 loops each)\n"
     ]
    }
   ],
   "source": [
    "t3 = FastTreeValue(_TREE_DATA_3)\n",
    "%timeit copy.deepcopy(t3)"
   ]
  },
  {
   "cell_type": "markdown",
   "id": "bf8be7ea",
   "metadata": {},
   "source": [
    "### Deep Copy of Tianshou Batch"
   ]
  },
  {
   "cell_type": "code",
   "execution_count": 18,
   "id": "91998e6f",
   "metadata": {
    "execution": {
     "iopub.execute_input": "2023-02-27T10:47:00.913327Z",
     "iopub.status.busy": "2023-02-27T10:47:00.912046Z",
     "iopub.status.idle": "2023-02-27T10:47:12.002497Z",
     "shell.execute_reply": "2023-02-27T10:47:12.001907Z"
    }
   },
   "outputs": [
    {
     "name": "stdout",
     "output_type": "stream",
     "text": [
      "137 µs ± 1.66 µs per loop (mean ± std. dev. of 7 runs, 10,000 loops each)\n"
     ]
    }
   ],
   "source": [
    "b3 = Batch(**_TREE_DATA_3)\n",
    "%timeit copy.deepcopy(b3)"
   ]
  },
  {
   "cell_type": "markdown",
   "id": "223162fb",
   "metadata": {},
   "source": [
    "## Stack, Concat and Split Operation"
   ]
  },
  {
   "cell_type": "markdown",
   "id": "85fa4a73",
   "metadata": {},
   "source": [
    "### Performance of TreeValue"
   ]
  },
  {
   "cell_type": "code",
   "execution_count": 19,
   "id": "a0c2b697",
   "metadata": {
    "execution": {
     "iopub.execute_input": "2023-02-27T10:47:12.006058Z",
     "iopub.status.busy": "2023-02-27T10:47:12.005448Z",
     "iopub.status.idle": "2023-02-27T10:47:12.010158Z",
     "shell.execute_reply": "2023-02-27T10:47:12.009190Z"
    }
   },
   "outputs": [],
   "source": [
    "trees = [FastTreeValue(_TREE_DATA_2) for _ in range(8)]"
   ]
  },
  {
   "cell_type": "code",
   "execution_count": 20,
   "id": "017ea5a5",
   "metadata": {
    "execution": {
     "iopub.execute_input": "2023-02-27T10:47:12.013067Z",
     "iopub.status.busy": "2023-02-27T10:47:12.012601Z",
     "iopub.status.idle": "2023-02-27T10:47:12.021826Z",
     "shell.execute_reply": "2023-02-27T10:47:12.020665Z"
    }
   },
   "outputs": [
    {
     "data": {
      "text/plain": [
       "<FastTreeValue 0x7f7ea6b193d0>\n",
       "├── 'a' --> tensor([[[-0.1679,  0.4615,  0.0652],\n",
       "│                    [-0.4972, -0.2046,  1.0569]],\n",
       "│           \n",
       "│                   [[-0.1679,  0.4615,  0.0652],\n",
       "│                    [-0.4972, -0.2046,  1.0569]],\n",
       "│           \n",
       "│                   [[-0.1679,  0.4615,  0.0652],\n",
       "│                    [-0.4972, -0.2046,  1.0569]],\n",
       "│           \n",
       "│                   [[-0.1679,  0.4615,  0.0652],\n",
       "│                    [-0.4972, -0.2046,  1.0569]],\n",
       "│           \n",
       "│                   [[-0.1679,  0.4615,  0.0652],\n",
       "│                    [-0.4972, -0.2046,  1.0569]],\n",
       "│           \n",
       "│                   [[-0.1679,  0.4615,  0.0652],\n",
       "│                    [-0.4972, -0.2046,  1.0569]],\n",
       "│           \n",
       "│                   [[-0.1679,  0.4615,  0.0652],\n",
       "│                    [-0.4972, -0.2046,  1.0569]],\n",
       "│           \n",
       "│                   [[-0.1679,  0.4615,  0.0652],\n",
       "│                    [-0.4972, -0.2046,  1.0569]]])\n",
       "└── 'x' --> <FastTreeValue 0x7f7ea6b19b80>\n",
       "    └── 'c' --> tensor([[[ 1.7278,  0.3037,  0.9278, -0.3101],\n",
       "                         [ 0.9263, -1.2560,  1.8936,  0.3023],\n",
       "                         [ 0.4243, -0.7446,  0.6436, -2.5038]],\n",
       "                \n",
       "                        [[ 1.7278,  0.3037,  0.9278, -0.3101],\n",
       "                         [ 0.9263, -1.2560,  1.8936,  0.3023],\n",
       "                         [ 0.4243, -0.7446,  0.6436, -2.5038]],\n",
       "                \n",
       "                        [[ 1.7278,  0.3037,  0.9278, -0.3101],\n",
       "                         [ 0.9263, -1.2560,  1.8936,  0.3023],\n",
       "                         [ 0.4243, -0.7446,  0.6436, -2.5038]],\n",
       "                \n",
       "                        [[ 1.7278,  0.3037,  0.9278, -0.3101],\n",
       "                         [ 0.9263, -1.2560,  1.8936,  0.3023],\n",
       "                         [ 0.4243, -0.7446,  0.6436, -2.5038]],\n",
       "                \n",
       "                        [[ 1.7278,  0.3037,  0.9278, -0.3101],\n",
       "                         [ 0.9263, -1.2560,  1.8936,  0.3023],\n",
       "                         [ 0.4243, -0.7446,  0.6436, -2.5038]],\n",
       "                \n",
       "                        [[ 1.7278,  0.3037,  0.9278, -0.3101],\n",
       "                         [ 0.9263, -1.2560,  1.8936,  0.3023],\n",
       "                         [ 0.4243, -0.7446,  0.6436, -2.5038]],\n",
       "                \n",
       "                        [[ 1.7278,  0.3037,  0.9278, -0.3101],\n",
       "                         [ 0.9263, -1.2560,  1.8936,  0.3023],\n",
       "                         [ 0.4243, -0.7446,  0.6436, -2.5038]],\n",
       "                \n",
       "                        [[ 1.7278,  0.3037,  0.9278, -0.3101],\n",
       "                         [ 0.9263, -1.2560,  1.8936,  0.3023],\n",
       "                         [ 0.4243, -0.7446,  0.6436, -2.5038]]])"
      ]
     },
     "execution_count": 20,
     "metadata": {},
     "output_type": "execute_result"
    }
   ],
   "source": [
    "t_stack = FastTreeValue.func(subside=True)(torch.stack)\n",
    "\n",
    "t_stack(trees)"
   ]
  },
  {
   "cell_type": "code",
   "execution_count": 21,
   "id": "f8b3f415",
   "metadata": {
    "execution": {
     "iopub.execute_input": "2023-02-27T10:47:12.024604Z",
     "iopub.status.busy": "2023-02-27T10:47:12.024175Z",
     "iopub.status.idle": "2023-02-27T10:47:14.687748Z",
     "shell.execute_reply": "2023-02-27T10:47:14.686670Z"
    }
   },
   "outputs": [
    {
     "name": "stdout",
     "output_type": "stream",
     "text": [
      "32.7 µs ± 34.1 ns per loop (mean ± std. dev. of 7 runs, 10,000 loops each)\n"
     ]
    }
   ],
   "source": [
    "%timeit t_stack(trees)"
   ]
  },
  {
   "cell_type": "code",
   "execution_count": 22,
   "id": "94b56771",
   "metadata": {
    "execution": {
     "iopub.execute_input": "2023-02-27T10:47:14.690461Z",
     "iopub.status.busy": "2023-02-27T10:47:14.690103Z",
     "iopub.status.idle": "2023-02-27T10:47:14.698303Z",
     "shell.execute_reply": "2023-02-27T10:47:14.697318Z"
    }
   },
   "outputs": [
    {
     "data": {
      "text/plain": [
       "<FastTreeValue 0x7f7f54c17340>\n",
       "├── 'a' --> tensor([[-0.1679,  0.4615,  0.0652],\n",
       "│                   [-0.4972, -0.2046,  1.0569],\n",
       "│                   [-0.1679,  0.4615,  0.0652],\n",
       "│                   [-0.4972, -0.2046,  1.0569],\n",
       "│                   [-0.1679,  0.4615,  0.0652],\n",
       "│                   [-0.4972, -0.2046,  1.0569],\n",
       "│                   [-0.1679,  0.4615,  0.0652],\n",
       "│                   [-0.4972, -0.2046,  1.0569],\n",
       "│                   [-0.1679,  0.4615,  0.0652],\n",
       "│                   [-0.4972, -0.2046,  1.0569],\n",
       "│                   [-0.1679,  0.4615,  0.0652],\n",
       "│                   [-0.4972, -0.2046,  1.0569],\n",
       "│                   [-0.1679,  0.4615,  0.0652],\n",
       "│                   [-0.4972, -0.2046,  1.0569],\n",
       "│                   [-0.1679,  0.4615,  0.0652],\n",
       "│                   [-0.4972, -0.2046,  1.0569]])\n",
       "└── 'x' --> <FastTreeValue 0x7f7f54c17a30>\n",
       "    └── 'c' --> tensor([[ 1.7278,  0.3037,  0.9278, -0.3101],\n",
       "                        [ 0.9263, -1.2560,  1.8936,  0.3023],\n",
       "                        [ 0.4243, -0.7446,  0.6436, -2.5038],\n",
       "                        [ 1.7278,  0.3037,  0.9278, -0.3101],\n",
       "                        [ 0.9263, -1.2560,  1.8936,  0.3023],\n",
       "                        [ 0.4243, -0.7446,  0.6436, -2.5038],\n",
       "                        [ 1.7278,  0.3037,  0.9278, -0.3101],\n",
       "                        [ 0.9263, -1.2560,  1.8936,  0.3023],\n",
       "                        [ 0.4243, -0.7446,  0.6436, -2.5038],\n",
       "                        [ 1.7278,  0.3037,  0.9278, -0.3101],\n",
       "                        [ 0.9263, -1.2560,  1.8936,  0.3023],\n",
       "                        [ 0.4243, -0.7446,  0.6436, -2.5038],\n",
       "                        [ 1.7278,  0.3037,  0.9278, -0.3101],\n",
       "                        [ 0.9263, -1.2560,  1.8936,  0.3023],\n",
       "                        [ 0.4243, -0.7446,  0.6436, -2.5038],\n",
       "                        [ 1.7278,  0.3037,  0.9278, -0.3101],\n",
       "                        [ 0.9263, -1.2560,  1.8936,  0.3023],\n",
       "                        [ 0.4243, -0.7446,  0.6436, -2.5038],\n",
       "                        [ 1.7278,  0.3037,  0.9278, -0.3101],\n",
       "                        [ 0.9263, -1.2560,  1.8936,  0.3023],\n",
       "                        [ 0.4243, -0.7446,  0.6436, -2.5038],\n",
       "                        [ 1.7278,  0.3037,  0.9278, -0.3101],\n",
       "                        [ 0.9263, -1.2560,  1.8936,  0.3023],\n",
       "                        [ 0.4243, -0.7446,  0.6436, -2.5038]])"
      ]
     },
     "execution_count": 22,
     "metadata": {},
     "output_type": "execute_result"
    }
   ],
   "source": [
    "t_cat = FastTreeValue.func(subside=True)(torch.cat)\n",
    "\n",
    "t_cat(trees)"
   ]
  },
  {
   "cell_type": "code",
   "execution_count": 23,
   "id": "5e9c06a6",
   "metadata": {
    "execution": {
     "iopub.execute_input": "2023-02-27T10:47:14.700735Z",
     "iopub.status.busy": "2023-02-27T10:47:14.700399Z",
     "iopub.status.idle": "2023-02-27T10:47:17.192455Z",
     "shell.execute_reply": "2023-02-27T10:47:17.191465Z"
    }
   },
   "outputs": [
    {
     "name": "stdout",
     "output_type": "stream",
     "text": [
      "30.6 µs ± 73.4 ns per loop (mean ± std. dev. of 7 runs, 10,000 loops each)\n"
     ]
    }
   ],
   "source": [
    "%timeit t_cat(trees)"
   ]
  },
  {
   "cell_type": "code",
   "execution_count": 24,
   "id": "a3ab5c8f",
   "metadata": {
    "execution": {
     "iopub.execute_input": "2023-02-27T10:47:17.195598Z",
     "iopub.status.busy": "2023-02-27T10:47:17.195146Z",
     "iopub.status.idle": "2023-02-27T10:47:22.001029Z",
     "shell.execute_reply": "2023-02-27T10:47:22.000315Z"
    }
   },
   "outputs": [
    {
     "name": "stdout",
     "output_type": "stream",
     "text": [
      "59.1 µs ± 184 ns per loop (mean ± std. dev. of 7 runs, 10,000 loops each)\n"
     ]
    }
   ],
   "source": [
    "t_split = FastTreeValue.func(rise=True)(torch.split)\n",
    "tree = FastTreeValue({\n",
    "    'obs': torch.randn(8, 4, 84, 84),\n",
    "    'action': torch.randint(0, 6, size=(8, 1,)),\n",
    "    'reward': torch.rand(8, 1),\n",
    "})\n",
    "\n",
    "%timeit t_split(tree, 1)"
   ]
  },
  {
   "cell_type": "markdown",
   "id": "31c3ec0b",
   "metadata": {},
   "source": [
    "### Performance of Tianshou Batch"
   ]
  },
  {
   "cell_type": "code",
   "execution_count": 25,
   "id": "9ead828a",
   "metadata": {
    "execution": {
     "iopub.execute_input": "2023-02-27T10:47:22.004103Z",
     "iopub.status.busy": "2023-02-27T10:47:22.003580Z",
     "iopub.status.idle": "2023-02-27T10:47:22.011815Z",
     "shell.execute_reply": "2023-02-27T10:47:22.010917Z"
    }
   },
   "outputs": [
    {
     "data": {
      "text/plain": [
       "Batch(\n",
       "    a: tensor([[[-0.1679,  0.4615,  0.0652],\n",
       "                [-0.4972, -0.2046,  1.0569]],\n",
       "       \n",
       "               [[-0.1679,  0.4615,  0.0652],\n",
       "                [-0.4972, -0.2046,  1.0569]],\n",
       "       \n",
       "               [[-0.1679,  0.4615,  0.0652],\n",
       "                [-0.4972, -0.2046,  1.0569]],\n",
       "       \n",
       "               [[-0.1679,  0.4615,  0.0652],\n",
       "                [-0.4972, -0.2046,  1.0569]],\n",
       "       \n",
       "               [[-0.1679,  0.4615,  0.0652],\n",
       "                [-0.4972, -0.2046,  1.0569]],\n",
       "       \n",
       "               [[-0.1679,  0.4615,  0.0652],\n",
       "                [-0.4972, -0.2046,  1.0569]],\n",
       "       \n",
       "               [[-0.1679,  0.4615,  0.0652],\n",
       "                [-0.4972, -0.2046,  1.0569]],\n",
       "       \n",
       "               [[-0.1679,  0.4615,  0.0652],\n",
       "                [-0.4972, -0.2046,  1.0569]]]),\n",
       "    x: Batch(\n",
       "           c: tensor([[[ 1.7278,  0.3037,  0.9278, -0.3101],\n",
       "                       [ 0.9263, -1.2560,  1.8936,  0.3023],\n",
       "                       [ 0.4243, -0.7446,  0.6436, -2.5038]],\n",
       "              \n",
       "                      [[ 1.7278,  0.3037,  0.9278, -0.3101],\n",
       "                       [ 0.9263, -1.2560,  1.8936,  0.3023],\n",
       "                       [ 0.4243, -0.7446,  0.6436, -2.5038]],\n",
       "              \n",
       "                      [[ 1.7278,  0.3037,  0.9278, -0.3101],\n",
       "                       [ 0.9263, -1.2560,  1.8936,  0.3023],\n",
       "                       [ 0.4243, -0.7446,  0.6436, -2.5038]],\n",
       "              \n",
       "                      [[ 1.7278,  0.3037,  0.9278, -0.3101],\n",
       "                       [ 0.9263, -1.2560,  1.8936,  0.3023],\n",
       "                       [ 0.4243, -0.7446,  0.6436, -2.5038]],\n",
       "              \n",
       "                      [[ 1.7278,  0.3037,  0.9278, -0.3101],\n",
       "                       [ 0.9263, -1.2560,  1.8936,  0.3023],\n",
       "                       [ 0.4243, -0.7446,  0.6436, -2.5038]],\n",
       "              \n",
       "                      [[ 1.7278,  0.3037,  0.9278, -0.3101],\n",
       "                       [ 0.9263, -1.2560,  1.8936,  0.3023],\n",
       "                       [ 0.4243, -0.7446,  0.6436, -2.5038]],\n",
       "              \n",
       "                      [[ 1.7278,  0.3037,  0.9278, -0.3101],\n",
       "                       [ 0.9263, -1.2560,  1.8936,  0.3023],\n",
       "                       [ 0.4243, -0.7446,  0.6436, -2.5038]],\n",
       "              \n",
       "                      [[ 1.7278,  0.3037,  0.9278, -0.3101],\n",
       "                       [ 0.9263, -1.2560,  1.8936,  0.3023],\n",
       "                       [ 0.4243, -0.7446,  0.6436, -2.5038]]]),\n",
       "       ),\n",
       ")"
      ]
     },
     "execution_count": 25,
     "metadata": {},
     "output_type": "execute_result"
    }
   ],
   "source": [
    "batches = [Batch(**_TREE_DATA_2) for _ in range(8)]\n",
    "\n",
    "Batch.stack(batches)"
   ]
  },
  {
   "cell_type": "code",
   "execution_count": 26,
   "id": "ec9037a3",
   "metadata": {
    "execution": {
     "iopub.execute_input": "2023-02-27T10:47:22.014471Z",
     "iopub.status.busy": "2023-02-27T10:47:22.013933Z",
     "iopub.status.idle": "2023-02-27T10:47:28.361742Z",
     "shell.execute_reply": "2023-02-27T10:47:28.361070Z"
    }
   },
   "outputs": [
    {
     "name": "stdout",
     "output_type": "stream",
     "text": [
      "78 µs ± 217 ns per loop (mean ± std. dev. of 7 runs, 10,000 loops each)\n"
     ]
    }
   ],
   "source": [
    "%timeit Batch.stack(batches)"
   ]
  },
  {
   "cell_type": "code",
   "execution_count": 27,
   "id": "cb8ab77e",
   "metadata": {
    "execution": {
     "iopub.execute_input": "2023-02-27T10:47:28.364759Z",
     "iopub.status.busy": "2023-02-27T10:47:28.364402Z",
     "iopub.status.idle": "2023-02-27T10:47:28.372340Z",
     "shell.execute_reply": "2023-02-27T10:47:28.371349Z"
    }
   },
   "outputs": [
    {
     "data": {
      "text/plain": [
       "Batch(\n",
       "    a: tensor([[-0.1679,  0.4615,  0.0652],\n",
       "               [-0.4972, -0.2046,  1.0569],\n",
       "               [-0.1679,  0.4615,  0.0652],\n",
       "               [-0.4972, -0.2046,  1.0569],\n",
       "               [-0.1679,  0.4615,  0.0652],\n",
       "               [-0.4972, -0.2046,  1.0569],\n",
       "               [-0.1679,  0.4615,  0.0652],\n",
       "               [-0.4972, -0.2046,  1.0569],\n",
       "               [-0.1679,  0.4615,  0.0652],\n",
       "               [-0.4972, -0.2046,  1.0569],\n",
       "               [-0.1679,  0.4615,  0.0652],\n",
       "               [-0.4972, -0.2046,  1.0569],\n",
       "               [-0.1679,  0.4615,  0.0652],\n",
       "               [-0.4972, -0.2046,  1.0569],\n",
       "               [-0.1679,  0.4615,  0.0652],\n",
       "               [-0.4972, -0.2046,  1.0569]]),\n",
       "    x: Batch(\n",
       "           c: tensor([[ 1.7278,  0.3037,  0.9278, -0.3101],\n",
       "                      [ 0.9263, -1.2560,  1.8936,  0.3023],\n",
       "                      [ 0.4243, -0.7446,  0.6436, -2.5038],\n",
       "                      [ 1.7278,  0.3037,  0.9278, -0.3101],\n",
       "                      [ 0.9263, -1.2560,  1.8936,  0.3023],\n",
       "                      [ 0.4243, -0.7446,  0.6436, -2.5038],\n",
       "                      [ 1.7278,  0.3037,  0.9278, -0.3101],\n",
       "                      [ 0.9263, -1.2560,  1.8936,  0.3023],\n",
       "                      [ 0.4243, -0.7446,  0.6436, -2.5038],\n",
       "                      [ 1.7278,  0.3037,  0.9278, -0.3101],\n",
       "                      [ 0.9263, -1.2560,  1.8936,  0.3023],\n",
       "                      [ 0.4243, -0.7446,  0.6436, -2.5038],\n",
       "                      [ 1.7278,  0.3037,  0.9278, -0.3101],\n",
       "                      [ 0.9263, -1.2560,  1.8936,  0.3023],\n",
       "                      [ 0.4243, -0.7446,  0.6436, -2.5038],\n",
       "                      [ 1.7278,  0.3037,  0.9278, -0.3101],\n",
       "                      [ 0.9263, -1.2560,  1.8936,  0.3023],\n",
       "                      [ 0.4243, -0.7446,  0.6436, -2.5038],\n",
       "                      [ 1.7278,  0.3037,  0.9278, -0.3101],\n",
       "                      [ 0.9263, -1.2560,  1.8936,  0.3023],\n",
       "                      [ 0.4243, -0.7446,  0.6436, -2.5038],\n",
       "                      [ 1.7278,  0.3037,  0.9278, -0.3101],\n",
       "                      [ 0.9263, -1.2560,  1.8936,  0.3023],\n",
       "                      [ 0.4243, -0.7446,  0.6436, -2.5038]]),\n",
       "       ),\n",
       ")"
      ]
     },
     "execution_count": 27,
     "metadata": {},
     "output_type": "execute_result"
    }
   ],
   "source": [
    "Batch.cat(batches)"
   ]
  },
  {
   "cell_type": "code",
   "execution_count": 28,
   "id": "18dfb045",
   "metadata": {
    "execution": {
     "iopub.execute_input": "2023-02-27T10:47:28.374823Z",
     "iopub.status.busy": "2023-02-27T10:47:28.374615Z",
     "iopub.status.idle": "2023-02-27T10:47:39.794035Z",
     "shell.execute_reply": "2023-02-27T10:47:39.793299Z"
    }
   },
   "outputs": [
    {
     "name": "stdout",
     "output_type": "stream",
     "text": [
      "140 µs ± 284 ns per loop (mean ± std. dev. of 7 runs, 10,000 loops each)\n"
     ]
    }
   ],
   "source": [
    "%timeit Batch.cat(batches)"
   ]
  },
  {
   "cell_type": "code",
   "execution_count": 29,
   "id": "c6688e51",
   "metadata": {
    "execution": {
     "iopub.execute_input": "2023-02-27T10:47:39.796928Z",
     "iopub.status.busy": "2023-02-27T10:47:39.796375Z",
     "iopub.status.idle": "2023-02-27T10:47:42.302487Z",
     "shell.execute_reply": "2023-02-27T10:47:42.301917Z"
    }
   },
   "outputs": [
    {
     "name": "stdout",
     "output_type": "stream",
     "text": [
      "308 µs ± 889 ns per loop (mean ± std. dev. of 7 runs, 1,000 loops each)\n"
     ]
    }
   ],
   "source": [
    "batch = Batch({\n",
    "    'obs': torch.randn(8, 4, 84, 84),\n",
    "    'action': torch.randint(0, 6, size=(8, 1,)),\n",
    "    'reward': torch.rand(8, 1)}\n",
    ")\n",
    "\n",
    "%timeit list(Batch.split(batch, 1, shuffle=False, merge_last=True))"
   ]
  },
  {
   "cell_type": "code",
   "execution_count": null,
   "id": "2539fbd9",
   "metadata": {},
   "outputs": [],
   "source": []
  }
 ],
 "metadata": {
  "kernelspec": {
   "display_name": "Python 3 (ipykernel)",
   "language": "python",
   "name": "python3"
  },
  "language_info": {
   "codemirror_mode": {
    "name": "ipython",
    "version": 3
   },
   "file_extension": ".py",
   "mimetype": "text/x-python",
   "name": "python",
   "nbconvert_exporter": "python",
   "pygments_lexer": "ipython3",
   "version": "3.8.16"
  }
 },
 "nbformat": 4,
 "nbformat_minor": 5
}
