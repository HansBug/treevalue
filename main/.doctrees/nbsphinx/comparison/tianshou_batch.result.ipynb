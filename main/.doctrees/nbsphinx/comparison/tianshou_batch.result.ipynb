{
 "cells": [
  {
   "cell_type": "markdown",
   "id": "9d39d946",
   "metadata": {},
   "source": [
    "# Comparison Between TreeValue and Tianshou Batch"
   ]
  },
  {
   "cell_type": "markdown",
   "id": "3c6db2d4",
   "metadata": {},
   "source": [
    "In this section, we will take a look at the feature and performance of the [Tianshou Batch](https://github.com/thu-ml/tianshou) library, which is developed by Tsinghua Machine Learning Group."
   ]
  },
  {
   "cell_type": "markdown",
   "id": "069361b0",
   "metadata": {},
   "source": [
    "Before starting the comparison, let us define some thing."
   ]
  },
  {
   "cell_type": "code",
   "execution_count": 1,
   "id": "06fc8d26",
   "metadata": {
    "execution": {
     "iopub.execute_input": "2023-01-29T03:30:42.781027Z",
     "iopub.status.busy": "2023-01-29T03:30:42.780807Z",
     "iopub.status.idle": "2023-01-29T03:30:43.703011Z",
     "shell.execute_reply": "2023-01-29T03:30:43.702345Z"
    }
   },
   "outputs": [
    {
     "name": "stderr",
     "output_type": "stream",
     "text": [
      "/opt/hostedtoolcache/Python/3.8.16/x64/lib/python3.8/site-packages/tqdm/auto.py:22: TqdmWarning: IProgress not found. Please update jupyter and ipywidgets. See https://ipywidgets.readthedocs.io/en/stable/user_install.html\n",
      "  from .autonotebook import tqdm as notebook_tqdm\n"
     ]
    }
   ],
   "source": [
    "import torch \n",
    "\n",
    "_TREE_DATA_1 = {'a': 1, 'b': 2, 'x': {'c': 3, 'd': 4}}\n",
    "_TREE_DATA_2 = {\n",
    "    'a': torch.randn(2, 3), \n",
    "    'x': {\n",
    "        'c': torch.randn(3, 4)\n",
    "    },\n",
    "}\n",
    "_TREE_DATA_3 = {\n",
    "    'obs': torch.randn(4, 84, 84),\n",
    "    'action': torch.randint(0, 6, size=(1,)),\n",
    "    'reward': torch.rand(1),\n",
    "}"
   ]
  },
  {
   "cell_type": "markdown",
   "id": "83461b25",
   "metadata": {},
   "source": [
    "## Read and Write Operation"
   ]
  },
  {
   "cell_type": "markdown",
   "id": "067b3f73",
   "metadata": {},
   "source": [
    "Reading and writing are the two most common operations in the tree data structure based on the data model (TreeValue and Tianshou Batch both belong to this type), so this section will compare the reading and writing performance of these two libraries."
   ]
  },
  {
   "cell_type": "markdown",
   "id": "5d09a5b7",
   "metadata": {},
   "source": [
    "### TreeValue's Get and Set"
   ]
  },
  {
   "cell_type": "code",
   "execution_count": 2,
   "id": "9519c4bb",
   "metadata": {
    "execution": {
     "iopub.execute_input": "2023-01-29T03:30:43.706462Z",
     "iopub.status.busy": "2023-01-29T03:30:43.705860Z",
     "iopub.status.idle": "2023-01-29T03:30:43.738683Z",
     "shell.execute_reply": "2023-01-29T03:30:43.738051Z"
    }
   },
   "outputs": [],
   "source": [
    "from treevalue import FastTreeValue\n",
    "\n",
    "t = FastTreeValue(_TREE_DATA_2)"
   ]
  },
  {
   "cell_type": "code",
   "execution_count": 3,
   "id": "11c37677",
   "metadata": {
    "execution": {
     "iopub.execute_input": "2023-01-29T03:30:43.741837Z",
     "iopub.status.busy": "2023-01-29T03:30:43.741293Z",
     "iopub.status.idle": "2023-01-29T03:30:43.749883Z",
     "shell.execute_reply": "2023-01-29T03:30:43.749008Z"
    }
   },
   "outputs": [
    {
     "data": {
      "text/plain": [
       "<FastTreeValue 0x7f7860eae1f0>\n",
       "├── 'a' --> tensor([[-0.9216, -1.4134,  1.0425],\n",
       "│                   [ 0.7309,  0.3713, -1.5021]])\n",
       "└── 'x' --> <FastTreeValue 0x7f7860e99bb0>\n",
       "    └── 'c' --> tensor([[-0.9498, -1.1655, -0.2283,  0.7902],\n",
       "                        [-1.0499, -1.8174,  2.7077, -0.0087],\n",
       "                        [ 0.7009,  0.1523, -0.9446, -2.6643]])"
      ]
     },
     "execution_count": 3,
     "metadata": {},
     "output_type": "execute_result"
    }
   ],
   "source": [
    "t"
   ]
  },
  {
   "cell_type": "code",
   "execution_count": 4,
   "id": "fd70b0b9",
   "metadata": {
    "execution": {
     "iopub.execute_input": "2023-01-29T03:30:43.752525Z",
     "iopub.status.busy": "2023-01-29T03:30:43.752180Z",
     "iopub.status.idle": "2023-01-29T03:30:43.756997Z",
     "shell.execute_reply": "2023-01-29T03:30:43.756364Z"
    }
   },
   "outputs": [
    {
     "data": {
      "text/plain": [
       "tensor([[-0.9216, -1.4134,  1.0425],\n",
       "        [ 0.7309,  0.3713, -1.5021]])"
      ]
     },
     "execution_count": 4,
     "metadata": {},
     "output_type": "execute_result"
    }
   ],
   "source": [
    "t.a"
   ]
  },
  {
   "cell_type": "code",
   "execution_count": 5,
   "id": "c18197bd",
   "metadata": {
    "execution": {
     "iopub.execute_input": "2023-01-29T03:30:43.759609Z",
     "iopub.status.busy": "2023-01-29T03:30:43.759275Z",
     "iopub.status.idle": "2023-01-29T03:30:48.976101Z",
     "shell.execute_reply": "2023-01-29T03:30:48.975340Z"
    }
   },
   "outputs": [
    {
     "name": "stdout",
     "output_type": "stream",
     "text": [
      "63.9 ns ± 0.0253 ns per loop (mean ± std. dev. of 7 runs, 10,000,000 loops each)\n"
     ]
    }
   ],
   "source": [
    "%timeit t.a"
   ]
  },
  {
   "cell_type": "code",
   "execution_count": 6,
   "id": "bd52f867",
   "metadata": {
    "execution": {
     "iopub.execute_input": "2023-01-29T03:30:48.979456Z",
     "iopub.status.busy": "2023-01-29T03:30:48.978817Z",
     "iopub.status.idle": "2023-01-29T03:30:48.984938Z",
     "shell.execute_reply": "2023-01-29T03:30:48.984297Z"
    }
   },
   "outputs": [
    {
     "data": {
      "text/plain": [
       "<FastTreeValue 0x7f7860eae1f0>\n",
       "├── 'a' --> tensor([[ 0.9937,  0.0089,  0.8804],\n",
       "│                   [-0.3375,  1.5996,  1.1779]])\n",
       "└── 'x' --> <FastTreeValue 0x7f7860e99bb0>\n",
       "    └── 'c' --> tensor([[-0.9498, -1.1655, -0.2283,  0.7902],\n",
       "                        [-1.0499, -1.8174,  2.7077, -0.0087],\n",
       "                        [ 0.7009,  0.1523, -0.9446, -2.6643]])"
      ]
     },
     "execution_count": 6,
     "metadata": {},
     "output_type": "execute_result"
    }
   ],
   "source": [
    "new_value = torch.randn(2, 3)\n",
    "t.a = new_value\n",
    "\n",
    "t"
   ]
  },
  {
   "cell_type": "code",
   "execution_count": 7,
   "id": "bbe04d1c",
   "metadata": {
    "execution": {
     "iopub.execute_input": "2023-01-29T03:30:48.987684Z",
     "iopub.status.busy": "2023-01-29T03:30:48.987321Z",
     "iopub.status.idle": "2023-01-29T03:30:54.231568Z",
     "shell.execute_reply": "2023-01-29T03:30:54.230855Z"
    }
   },
   "outputs": [
    {
     "name": "stdout",
     "output_type": "stream",
     "text": [
      "64.6 ns ± 0.566 ns per loop (mean ± std. dev. of 7 runs, 10,000,000 loops each)\n"
     ]
    }
   ],
   "source": [
    "%timeit t.a = new_value"
   ]
  },
  {
   "cell_type": "markdown",
   "id": "48c49731",
   "metadata": {},
   "source": [
    "### Tianshou Batch's Get and Set"
   ]
  },
  {
   "cell_type": "code",
   "execution_count": 8,
   "id": "f1bb14c1",
   "metadata": {
    "execution": {
     "iopub.execute_input": "2023-01-29T03:30:54.234456Z",
     "iopub.status.busy": "2023-01-29T03:30:54.234095Z",
     "iopub.status.idle": "2023-01-29T03:30:54.571204Z",
     "shell.execute_reply": "2023-01-29T03:30:54.570462Z"
    }
   },
   "outputs": [],
   "source": [
    "from tianshou.data import Batch\n",
    "\n",
    "b = Batch(**_TREE_DATA_2)"
   ]
  },
  {
   "cell_type": "code",
   "execution_count": 9,
   "id": "cb0777c3",
   "metadata": {
    "execution": {
     "iopub.execute_input": "2023-01-29T03:30:54.574502Z",
     "iopub.status.busy": "2023-01-29T03:30:54.573941Z",
     "iopub.status.idle": "2023-01-29T03:30:54.579469Z",
     "shell.execute_reply": "2023-01-29T03:30:54.578840Z"
    }
   },
   "outputs": [
    {
     "data": {
      "text/plain": [
       "Batch(\n",
       "    a: tensor([[-0.9216, -1.4134,  1.0425],\n",
       "               [ 0.7309,  0.3713, -1.5021]]),\n",
       "    x: Batch(\n",
       "           c: tensor([[-0.9498, -1.1655, -0.2283,  0.7902],\n",
       "                      [-1.0499, -1.8174,  2.7077, -0.0087],\n",
       "                      [ 0.7009,  0.1523, -0.9446, -2.6643]]),\n",
       "       ),\n",
       ")"
      ]
     },
     "execution_count": 9,
     "metadata": {},
     "output_type": "execute_result"
    }
   ],
   "source": [
    "b"
   ]
  },
  {
   "cell_type": "code",
   "execution_count": 10,
   "id": "43ef8ea3",
   "metadata": {
    "execution": {
     "iopub.execute_input": "2023-01-29T03:30:54.582069Z",
     "iopub.status.busy": "2023-01-29T03:30:54.581711Z",
     "iopub.status.idle": "2023-01-29T03:30:54.586576Z",
     "shell.execute_reply": "2023-01-29T03:30:54.585968Z"
    }
   },
   "outputs": [
    {
     "data": {
      "text/plain": [
       "tensor([[-0.9216, -1.4134,  1.0425],\n",
       "        [ 0.7309,  0.3713, -1.5021]])"
      ]
     },
     "execution_count": 10,
     "metadata": {},
     "output_type": "execute_result"
    }
   ],
   "source": [
    "b.a"
   ]
  },
  {
   "cell_type": "code",
   "execution_count": 11,
   "id": "b785ab72",
   "metadata": {
    "execution": {
     "iopub.execute_input": "2023-01-29T03:30:54.589065Z",
     "iopub.status.busy": "2023-01-29T03:30:54.588715Z",
     "iopub.status.idle": "2023-01-29T03:30:58.830803Z",
     "shell.execute_reply": "2023-01-29T03:30:58.830075Z"
    }
   },
   "outputs": [
    {
     "name": "stdout",
     "output_type": "stream",
     "text": [
      "52.1 ns ± 0.0472 ns per loop (mean ± std. dev. of 7 runs, 10,000,000 loops each)\n"
     ]
    }
   ],
   "source": [
    "%timeit b.a"
   ]
  },
  {
   "cell_type": "code",
   "execution_count": 12,
   "id": "ad54dc69",
   "metadata": {
    "execution": {
     "iopub.execute_input": "2023-01-29T03:30:58.833638Z",
     "iopub.status.busy": "2023-01-29T03:30:58.833282Z",
     "iopub.status.idle": "2023-01-29T03:30:58.839007Z",
     "shell.execute_reply": "2023-01-29T03:30:58.838381Z"
    }
   },
   "outputs": [
    {
     "data": {
      "text/plain": [
       "Batch(\n",
       "    a: tensor([[-1.8491, -0.5694,  1.8730],\n",
       "               [-0.5294, -0.6295,  0.8563]]),\n",
       "    x: Batch(\n",
       "           c: tensor([[-0.9498, -1.1655, -0.2283,  0.7902],\n",
       "                      [-1.0499, -1.8174,  2.7077, -0.0087],\n",
       "                      [ 0.7009,  0.1523, -0.9446, -2.6643]]),\n",
       "       ),\n",
       ")"
      ]
     },
     "execution_count": 12,
     "metadata": {},
     "output_type": "execute_result"
    }
   ],
   "source": [
    "new_value = torch.randn(2, 3)\n",
    "b.a = new_value\n",
    "\n",
    "b"
   ]
  },
  {
   "cell_type": "code",
   "execution_count": 13,
   "id": "29b1d0bf",
   "metadata": {
    "execution": {
     "iopub.execute_input": "2023-01-29T03:30:58.841488Z",
     "iopub.status.busy": "2023-01-29T03:30:58.841140Z",
     "iopub.status.idle": "2023-01-29T03:31:02.731559Z",
     "shell.execute_reply": "2023-01-29T03:31:02.730842Z"
    }
   },
   "outputs": [
    {
     "name": "stdout",
     "output_type": "stream",
     "text": [
      "479 ns ± 0.418 ns per loop (mean ± std. dev. of 7 runs, 1,000,000 loops each)\n"
     ]
    }
   ],
   "source": [
    "%timeit b.a = new_value"
   ]
  },
  {
   "cell_type": "markdown",
   "id": "b61ad1d0",
   "metadata": {},
   "source": [
    "## Initialization"
   ]
  },
  {
   "cell_type": "markdown",
   "id": "d70f0d54",
   "metadata": {},
   "source": [
    "### TreeValue's Initialization"
   ]
  },
  {
   "cell_type": "code",
   "execution_count": 14,
   "id": "d32a679b",
   "metadata": {
    "execution": {
     "iopub.execute_input": "2023-01-29T03:31:02.734803Z",
     "iopub.status.busy": "2023-01-29T03:31:02.734236Z",
     "iopub.status.idle": "2023-01-29T03:31:09.687164Z",
     "shell.execute_reply": "2023-01-29T03:31:09.686487Z"
    }
   },
   "outputs": [
    {
     "name": "stdout",
     "output_type": "stream",
     "text": [
      "857 ns ± 0.268 ns per loop (mean ± std. dev. of 7 runs, 1,000,000 loops each)\n"
     ]
    }
   ],
   "source": [
    "%timeit FastTreeValue(_TREE_DATA_1)"
   ]
  },
  {
   "cell_type": "markdown",
   "id": "24f3707b",
   "metadata": {},
   "source": [
    "### Tianshou Batch's Initialization"
   ]
  },
  {
   "cell_type": "code",
   "execution_count": 15,
   "id": "ac3958df",
   "metadata": {
    "execution": {
     "iopub.execute_input": "2023-01-29T03:31:09.690026Z",
     "iopub.status.busy": "2023-01-29T03:31:09.689646Z",
     "iopub.status.idle": "2023-01-29T03:31:18.782078Z",
     "shell.execute_reply": "2023-01-29T03:31:18.781313Z"
    }
   },
   "outputs": [
    {
     "name": "stdout",
     "output_type": "stream",
     "text": [
      "11.2 µs ± 76.4 ns per loop (mean ± std. dev. of 7 runs, 100,000 loops each)\n"
     ]
    }
   ],
   "source": [
    "%timeit Batch(**_TREE_DATA_1)"
   ]
  },
  {
   "cell_type": "markdown",
   "id": "1ab82e2d",
   "metadata": {},
   "source": [
    "## Deep Copy Operation"
   ]
  },
  {
   "cell_type": "code",
   "execution_count": 16,
   "id": "210a9442",
   "metadata": {
    "execution": {
     "iopub.execute_input": "2023-01-29T03:31:18.785236Z",
     "iopub.status.busy": "2023-01-29T03:31:18.784593Z",
     "iopub.status.idle": "2023-01-29T03:31:18.788221Z",
     "shell.execute_reply": "2023-01-29T03:31:18.787627Z"
    }
   },
   "outputs": [],
   "source": [
    "import copy"
   ]
  },
  {
   "cell_type": "markdown",
   "id": "5a736274",
   "metadata": {},
   "source": [
    "### Deep Copy of TreeValue"
   ]
  },
  {
   "cell_type": "code",
   "execution_count": 17,
   "id": "f9bcadd6",
   "metadata": {
    "execution": {
     "iopub.execute_input": "2023-01-29T03:31:18.790901Z",
     "iopub.status.busy": "2023-01-29T03:31:18.790570Z",
     "iopub.status.idle": "2023-01-29T03:31:29.868616Z",
     "shell.execute_reply": "2023-01-29T03:31:29.868027Z"
    }
   },
   "outputs": [
    {
     "name": "stdout",
     "output_type": "stream",
     "text": [
      "137 µs ± 3.19 µs per loop (mean ± std. dev. of 7 runs, 10,000 loops each)\n"
     ]
    }
   ],
   "source": [
    "t3 = FastTreeValue(_TREE_DATA_3)\n",
    "%timeit copy.deepcopy(t3)"
   ]
  },
  {
   "cell_type": "markdown",
   "id": "bf8be7ea",
   "metadata": {},
   "source": [
    "### Deep Copy of Tianshou Batch"
   ]
  },
  {
   "cell_type": "code",
   "execution_count": 18,
   "id": "91998e6f",
   "metadata": {
    "execution": {
     "iopub.execute_input": "2023-01-29T03:31:29.872182Z",
     "iopub.status.busy": "2023-01-29T03:31:29.871672Z",
     "iopub.status.idle": "2023-01-29T03:31:41.161968Z",
     "shell.execute_reply": "2023-01-29T03:31:41.161354Z"
    }
   },
   "outputs": [
    {
     "name": "stdout",
     "output_type": "stream",
     "text": [
      "139 µs ± 566 ns per loop (mean ± std. dev. of 7 runs, 10,000 loops each)\n"
     ]
    }
   ],
   "source": [
    "b3 = Batch(**_TREE_DATA_3)\n",
    "%timeit copy.deepcopy(b3)"
   ]
  },
  {
   "cell_type": "markdown",
   "id": "223162fb",
   "metadata": {},
   "source": [
    "## Stack, Concat and Split Operation"
   ]
  },
  {
   "cell_type": "markdown",
   "id": "85fa4a73",
   "metadata": {},
   "source": [
    "### Performance of TreeValue"
   ]
  },
  {
   "cell_type": "code",
   "execution_count": 19,
   "id": "a0c2b697",
   "metadata": {
    "execution": {
     "iopub.execute_input": "2023-01-29T03:31:41.164901Z",
     "iopub.status.busy": "2023-01-29T03:31:41.164430Z",
     "iopub.status.idle": "2023-01-29T03:31:41.169240Z",
     "shell.execute_reply": "2023-01-29T03:31:41.168590Z"
    }
   },
   "outputs": [],
   "source": [
    "trees = [FastTreeValue(_TREE_DATA_2) for _ in range(8)]"
   ]
  },
  {
   "cell_type": "code",
   "execution_count": 20,
   "id": "017ea5a5",
   "metadata": {
    "execution": {
     "iopub.execute_input": "2023-01-29T03:31:41.171801Z",
     "iopub.status.busy": "2023-01-29T03:31:41.171448Z",
     "iopub.status.idle": "2023-01-29T03:31:41.179443Z",
     "shell.execute_reply": "2023-01-29T03:31:41.178868Z"
    }
   },
   "outputs": [
    {
     "data": {
      "text/plain": [
       "<FastTreeValue 0x7f77b89a9430>\n",
       "├── 'a' --> tensor([[[-0.9216, -1.4134,  1.0425],\n",
       "│                    [ 0.7309,  0.3713, -1.5021]],\n",
       "│           \n",
       "│                   [[-0.9216, -1.4134,  1.0425],\n",
       "│                    [ 0.7309,  0.3713, -1.5021]],\n",
       "│           \n",
       "│                   [[-0.9216, -1.4134,  1.0425],\n",
       "│                    [ 0.7309,  0.3713, -1.5021]],\n",
       "│           \n",
       "│                   [[-0.9216, -1.4134,  1.0425],\n",
       "│                    [ 0.7309,  0.3713, -1.5021]],\n",
       "│           \n",
       "│                   [[-0.9216, -1.4134,  1.0425],\n",
       "│                    [ 0.7309,  0.3713, -1.5021]],\n",
       "│           \n",
       "│                   [[-0.9216, -1.4134,  1.0425],\n",
       "│                    [ 0.7309,  0.3713, -1.5021]],\n",
       "│           \n",
       "│                   [[-0.9216, -1.4134,  1.0425],\n",
       "│                    [ 0.7309,  0.3713, -1.5021]],\n",
       "│           \n",
       "│                   [[-0.9216, -1.4134,  1.0425],\n",
       "│                    [ 0.7309,  0.3713, -1.5021]]])\n",
       "└── 'x' --> <FastTreeValue 0x7f7844195e80>\n",
       "    └── 'c' --> tensor([[[-0.9498, -1.1655, -0.2283,  0.7902],\n",
       "                         [-1.0499, -1.8174,  2.7077, -0.0087],\n",
       "                         [ 0.7009,  0.1523, -0.9446, -2.6643]],\n",
       "                \n",
       "                        [[-0.9498, -1.1655, -0.2283,  0.7902],\n",
       "                         [-1.0499, -1.8174,  2.7077, -0.0087],\n",
       "                         [ 0.7009,  0.1523, -0.9446, -2.6643]],\n",
       "                \n",
       "                        [[-0.9498, -1.1655, -0.2283,  0.7902],\n",
       "                         [-1.0499, -1.8174,  2.7077, -0.0087],\n",
       "                         [ 0.7009,  0.1523, -0.9446, -2.6643]],\n",
       "                \n",
       "                        [[-0.9498, -1.1655, -0.2283,  0.7902],\n",
       "                         [-1.0499, -1.8174,  2.7077, -0.0087],\n",
       "                         [ 0.7009,  0.1523, -0.9446, -2.6643]],\n",
       "                \n",
       "                        [[-0.9498, -1.1655, -0.2283,  0.7902],\n",
       "                         [-1.0499, -1.8174,  2.7077, -0.0087],\n",
       "                         [ 0.7009,  0.1523, -0.9446, -2.6643]],\n",
       "                \n",
       "                        [[-0.9498, -1.1655, -0.2283,  0.7902],\n",
       "                         [-1.0499, -1.8174,  2.7077, -0.0087],\n",
       "                         [ 0.7009,  0.1523, -0.9446, -2.6643]],\n",
       "                \n",
       "                        [[-0.9498, -1.1655, -0.2283,  0.7902],\n",
       "                         [-1.0499, -1.8174,  2.7077, -0.0087],\n",
       "                         [ 0.7009,  0.1523, -0.9446, -2.6643]],\n",
       "                \n",
       "                        [[-0.9498, -1.1655, -0.2283,  0.7902],\n",
       "                         [-1.0499, -1.8174,  2.7077, -0.0087],\n",
       "                         [ 0.7009,  0.1523, -0.9446, -2.6643]]])"
      ]
     },
     "execution_count": 20,
     "metadata": {},
     "output_type": "execute_result"
    }
   ],
   "source": [
    "t_stack = FastTreeValue.func(subside=True)(torch.stack)\n",
    "\n",
    "t_stack(trees)"
   ]
  },
  {
   "cell_type": "code",
   "execution_count": 21,
   "id": "f8b3f415",
   "metadata": {
    "execution": {
     "iopub.execute_input": "2023-01-29T03:31:41.181881Z",
     "iopub.status.busy": "2023-01-29T03:31:41.181667Z",
     "iopub.status.idle": "2023-01-29T03:31:43.829705Z",
     "shell.execute_reply": "2023-01-29T03:31:43.829016Z"
    }
   },
   "outputs": [
    {
     "name": "stdout",
     "output_type": "stream",
     "text": [
      "32.6 µs ± 54.2 ns per loop (mean ± std. dev. of 7 runs, 10,000 loops each)\n"
     ]
    }
   ],
   "source": [
    "%timeit t_stack(trees)"
   ]
  },
  {
   "cell_type": "code",
   "execution_count": 22,
   "id": "94b56771",
   "metadata": {
    "execution": {
     "iopub.execute_input": "2023-01-29T03:31:43.832422Z",
     "iopub.status.busy": "2023-01-29T03:31:43.832063Z",
     "iopub.status.idle": "2023-01-29T03:31:43.839229Z",
     "shell.execute_reply": "2023-01-29T03:31:43.838604Z"
    }
   },
   "outputs": [
    {
     "data": {
      "text/plain": [
       "<FastTreeValue 0x7f7860eb6070>\n",
       "├── 'a' --> tensor([[-0.9216, -1.4134,  1.0425],\n",
       "│                   [ 0.7309,  0.3713, -1.5021],\n",
       "│                   [-0.9216, -1.4134,  1.0425],\n",
       "│                   [ 0.7309,  0.3713, -1.5021],\n",
       "│                   [-0.9216, -1.4134,  1.0425],\n",
       "│                   [ 0.7309,  0.3713, -1.5021],\n",
       "│                   [-0.9216, -1.4134,  1.0425],\n",
       "│                   [ 0.7309,  0.3713, -1.5021],\n",
       "│                   [-0.9216, -1.4134,  1.0425],\n",
       "│                   [ 0.7309,  0.3713, -1.5021],\n",
       "│                   [-0.9216, -1.4134,  1.0425],\n",
       "│                   [ 0.7309,  0.3713, -1.5021],\n",
       "│                   [-0.9216, -1.4134,  1.0425],\n",
       "│                   [ 0.7309,  0.3713, -1.5021],\n",
       "│                   [-0.9216, -1.4134,  1.0425],\n",
       "│                   [ 0.7309,  0.3713, -1.5021]])\n",
       "└── 'x' --> <FastTreeValue 0x7f77b89bcc70>\n",
       "    └── 'c' --> tensor([[-0.9498, -1.1655, -0.2283,  0.7902],\n",
       "                        [-1.0499, -1.8174,  2.7077, -0.0087],\n",
       "                        [ 0.7009,  0.1523, -0.9446, -2.6643],\n",
       "                        [-0.9498, -1.1655, -0.2283,  0.7902],\n",
       "                        [-1.0499, -1.8174,  2.7077, -0.0087],\n",
       "                        [ 0.7009,  0.1523, -0.9446, -2.6643],\n",
       "                        [-0.9498, -1.1655, -0.2283,  0.7902],\n",
       "                        [-1.0499, -1.8174,  2.7077, -0.0087],\n",
       "                        [ 0.7009,  0.1523, -0.9446, -2.6643],\n",
       "                        [-0.9498, -1.1655, -0.2283,  0.7902],\n",
       "                        [-1.0499, -1.8174,  2.7077, -0.0087],\n",
       "                        [ 0.7009,  0.1523, -0.9446, -2.6643],\n",
       "                        [-0.9498, -1.1655, -0.2283,  0.7902],\n",
       "                        [-1.0499, -1.8174,  2.7077, -0.0087],\n",
       "                        [ 0.7009,  0.1523, -0.9446, -2.6643],\n",
       "                        [-0.9498, -1.1655, -0.2283,  0.7902],\n",
       "                        [-1.0499, -1.8174,  2.7077, -0.0087],\n",
       "                        [ 0.7009,  0.1523, -0.9446, -2.6643],\n",
       "                        [-0.9498, -1.1655, -0.2283,  0.7902],\n",
       "                        [-1.0499, -1.8174,  2.7077, -0.0087],\n",
       "                        [ 0.7009,  0.1523, -0.9446, -2.6643],\n",
       "                        [-0.9498, -1.1655, -0.2283,  0.7902],\n",
       "                        [-1.0499, -1.8174,  2.7077, -0.0087],\n",
       "                        [ 0.7009,  0.1523, -0.9446, -2.6643]])"
      ]
     },
     "execution_count": 22,
     "metadata": {},
     "output_type": "execute_result"
    }
   ],
   "source": [
    "t_cat = FastTreeValue.func(subside=True)(torch.cat)\n",
    "\n",
    "t_cat(trees)"
   ]
  },
  {
   "cell_type": "code",
   "execution_count": 23,
   "id": "5e9c06a6",
   "metadata": {
    "execution": {
     "iopub.execute_input": "2023-01-29T03:31:43.841622Z",
     "iopub.status.busy": "2023-01-29T03:31:43.841281Z",
     "iopub.status.idle": "2023-01-29T03:31:46.311039Z",
     "shell.execute_reply": "2023-01-29T03:31:46.310280Z"
    }
   },
   "outputs": [
    {
     "name": "stdout",
     "output_type": "stream",
     "text": [
      "30.4 µs ± 92.6 ns per loop (mean ± std. dev. of 7 runs, 10,000 loops each)\n"
     ]
    }
   ],
   "source": [
    "%timeit t_cat(trees)"
   ]
  },
  {
   "cell_type": "code",
   "execution_count": 24,
   "id": "a3ab5c8f",
   "metadata": {
    "execution": {
     "iopub.execute_input": "2023-01-29T03:31:46.313990Z",
     "iopub.status.busy": "2023-01-29T03:31:46.313472Z",
     "iopub.status.idle": "2023-01-29T03:31:51.068598Z",
     "shell.execute_reply": "2023-01-29T03:31:51.067856Z"
    }
   },
   "outputs": [
    {
     "name": "stdout",
     "output_type": "stream",
     "text": [
      "58.5 µs ± 46.8 ns per loop (mean ± std. dev. of 7 runs, 10,000 loops each)\n"
     ]
    }
   ],
   "source": [
    "t_split = FastTreeValue.func(rise=True)(torch.split)\n",
    "tree = FastTreeValue({\n",
    "    'obs': torch.randn(8, 4, 84, 84),\n",
    "    'action': torch.randint(0, 6, size=(8, 1,)),\n",
    "    'reward': torch.rand(8, 1),\n",
    "})\n",
    "\n",
    "%timeit t_split(tree, 1)"
   ]
  },
  {
   "cell_type": "markdown",
   "id": "31c3ec0b",
   "metadata": {},
   "source": [
    "### Performance of Tianshou Batch"
   ]
  },
  {
   "cell_type": "code",
   "execution_count": 25,
   "id": "9ead828a",
   "metadata": {
    "execution": {
     "iopub.execute_input": "2023-01-29T03:31:51.071554Z",
     "iopub.status.busy": "2023-01-29T03:31:51.071184Z",
     "iopub.status.idle": "2023-01-29T03:31:51.079075Z",
     "shell.execute_reply": "2023-01-29T03:31:51.078488Z"
    }
   },
   "outputs": [
    {
     "data": {
      "text/plain": [
       "Batch(\n",
       "    a: tensor([[[-0.9216, -1.4134,  1.0425],\n",
       "                [ 0.7309,  0.3713, -1.5021]],\n",
       "       \n",
       "               [[-0.9216, -1.4134,  1.0425],\n",
       "                [ 0.7309,  0.3713, -1.5021]],\n",
       "       \n",
       "               [[-0.9216, -1.4134,  1.0425],\n",
       "                [ 0.7309,  0.3713, -1.5021]],\n",
       "       \n",
       "               [[-0.9216, -1.4134,  1.0425],\n",
       "                [ 0.7309,  0.3713, -1.5021]],\n",
       "       \n",
       "               [[-0.9216, -1.4134,  1.0425],\n",
       "                [ 0.7309,  0.3713, -1.5021]],\n",
       "       \n",
       "               [[-0.9216, -1.4134,  1.0425],\n",
       "                [ 0.7309,  0.3713, -1.5021]],\n",
       "       \n",
       "               [[-0.9216, -1.4134,  1.0425],\n",
       "                [ 0.7309,  0.3713, -1.5021]],\n",
       "       \n",
       "               [[-0.9216, -1.4134,  1.0425],\n",
       "                [ 0.7309,  0.3713, -1.5021]]]),\n",
       "    x: Batch(\n",
       "           c: tensor([[[-0.9498, -1.1655, -0.2283,  0.7902],\n",
       "                       [-1.0499, -1.8174,  2.7077, -0.0087],\n",
       "                       [ 0.7009,  0.1523, -0.9446, -2.6643]],\n",
       "              \n",
       "                      [[-0.9498, -1.1655, -0.2283,  0.7902],\n",
       "                       [-1.0499, -1.8174,  2.7077, -0.0087],\n",
       "                       [ 0.7009,  0.1523, -0.9446, -2.6643]],\n",
       "              \n",
       "                      [[-0.9498, -1.1655, -0.2283,  0.7902],\n",
       "                       [-1.0499, -1.8174,  2.7077, -0.0087],\n",
       "                       [ 0.7009,  0.1523, -0.9446, -2.6643]],\n",
       "              \n",
       "                      [[-0.9498, -1.1655, -0.2283,  0.7902],\n",
       "                       [-1.0499, -1.8174,  2.7077, -0.0087],\n",
       "                       [ 0.7009,  0.1523, -0.9446, -2.6643]],\n",
       "              \n",
       "                      [[-0.9498, -1.1655, -0.2283,  0.7902],\n",
       "                       [-1.0499, -1.8174,  2.7077, -0.0087],\n",
       "                       [ 0.7009,  0.1523, -0.9446, -2.6643]],\n",
       "              \n",
       "                      [[-0.9498, -1.1655, -0.2283,  0.7902],\n",
       "                       [-1.0499, -1.8174,  2.7077, -0.0087],\n",
       "                       [ 0.7009,  0.1523, -0.9446, -2.6643]],\n",
       "              \n",
       "                      [[-0.9498, -1.1655, -0.2283,  0.7902],\n",
       "                       [-1.0499, -1.8174,  2.7077, -0.0087],\n",
       "                       [ 0.7009,  0.1523, -0.9446, -2.6643]],\n",
       "              \n",
       "                      [[-0.9498, -1.1655, -0.2283,  0.7902],\n",
       "                       [-1.0499, -1.8174,  2.7077, -0.0087],\n",
       "                       [ 0.7009,  0.1523, -0.9446, -2.6643]]]),\n",
       "       ),\n",
       ")"
      ]
     },
     "execution_count": 25,
     "metadata": {},
     "output_type": "execute_result"
    }
   ],
   "source": [
    "batches = [Batch(**_TREE_DATA_2) for _ in range(8)]\n",
    "\n",
    "Batch.stack(batches)"
   ]
  },
  {
   "cell_type": "code",
   "execution_count": 26,
   "id": "ec9037a3",
   "metadata": {
    "execution": {
     "iopub.execute_input": "2023-01-29T03:31:51.081523Z",
     "iopub.status.busy": "2023-01-29T03:31:51.081183Z",
     "iopub.status.idle": "2023-01-29T03:31:57.446699Z",
     "shell.execute_reply": "2023-01-29T03:31:57.446029Z"
    }
   },
   "outputs": [
    {
     "name": "stdout",
     "output_type": "stream",
     "text": [
      "78.3 µs ± 140 ns per loop (mean ± std. dev. of 7 runs, 10,000 loops each)\n"
     ]
    }
   ],
   "source": [
    "%timeit Batch.stack(batches)"
   ]
  },
  {
   "cell_type": "code",
   "execution_count": 27,
   "id": "cb8ab77e",
   "metadata": {
    "execution": {
     "iopub.execute_input": "2023-01-29T03:31:57.449414Z",
     "iopub.status.busy": "2023-01-29T03:31:57.449041Z",
     "iopub.status.idle": "2023-01-29T03:31:57.456406Z",
     "shell.execute_reply": "2023-01-29T03:31:57.455838Z"
    }
   },
   "outputs": [
    {
     "data": {
      "text/plain": [
       "Batch(\n",
       "    a: tensor([[-0.9216, -1.4134,  1.0425],\n",
       "               [ 0.7309,  0.3713, -1.5021],\n",
       "               [-0.9216, -1.4134,  1.0425],\n",
       "               [ 0.7309,  0.3713, -1.5021],\n",
       "               [-0.9216, -1.4134,  1.0425],\n",
       "               [ 0.7309,  0.3713, -1.5021],\n",
       "               [-0.9216, -1.4134,  1.0425],\n",
       "               [ 0.7309,  0.3713, -1.5021],\n",
       "               [-0.9216, -1.4134,  1.0425],\n",
       "               [ 0.7309,  0.3713, -1.5021],\n",
       "               [-0.9216, -1.4134,  1.0425],\n",
       "               [ 0.7309,  0.3713, -1.5021],\n",
       "               [-0.9216, -1.4134,  1.0425],\n",
       "               [ 0.7309,  0.3713, -1.5021],\n",
       "               [-0.9216, -1.4134,  1.0425],\n",
       "               [ 0.7309,  0.3713, -1.5021]]),\n",
       "    x: Batch(\n",
       "           c: tensor([[-0.9498, -1.1655, -0.2283,  0.7902],\n",
       "                      [-1.0499, -1.8174,  2.7077, -0.0087],\n",
       "                      [ 0.7009,  0.1523, -0.9446, -2.6643],\n",
       "                      [-0.9498, -1.1655, -0.2283,  0.7902],\n",
       "                      [-1.0499, -1.8174,  2.7077, -0.0087],\n",
       "                      [ 0.7009,  0.1523, -0.9446, -2.6643],\n",
       "                      [-0.9498, -1.1655, -0.2283,  0.7902],\n",
       "                      [-1.0499, -1.8174,  2.7077, -0.0087],\n",
       "                      [ 0.7009,  0.1523, -0.9446, -2.6643],\n",
       "                      [-0.9498, -1.1655, -0.2283,  0.7902],\n",
       "                      [-1.0499, -1.8174,  2.7077, -0.0087],\n",
       "                      [ 0.7009,  0.1523, -0.9446, -2.6643],\n",
       "                      [-0.9498, -1.1655, -0.2283,  0.7902],\n",
       "                      [-1.0499, -1.8174,  2.7077, -0.0087],\n",
       "                      [ 0.7009,  0.1523, -0.9446, -2.6643],\n",
       "                      [-0.9498, -1.1655, -0.2283,  0.7902],\n",
       "                      [-1.0499, -1.8174,  2.7077, -0.0087],\n",
       "                      [ 0.7009,  0.1523, -0.9446, -2.6643],\n",
       "                      [-0.9498, -1.1655, -0.2283,  0.7902],\n",
       "                      [-1.0499, -1.8174,  2.7077, -0.0087],\n",
       "                      [ 0.7009,  0.1523, -0.9446, -2.6643],\n",
       "                      [-0.9498, -1.1655, -0.2283,  0.7902],\n",
       "                      [-1.0499, -1.8174,  2.7077, -0.0087],\n",
       "                      [ 0.7009,  0.1523, -0.9446, -2.6643]]),\n",
       "       ),\n",
       ")"
      ]
     },
     "execution_count": 27,
     "metadata": {},
     "output_type": "execute_result"
    }
   ],
   "source": [
    "Batch.cat(batches)"
   ]
  },
  {
   "cell_type": "code",
   "execution_count": 28,
   "id": "18dfb045",
   "metadata": {
    "execution": {
     "iopub.execute_input": "2023-01-29T03:31:57.458964Z",
     "iopub.status.busy": "2023-01-29T03:31:57.458740Z",
     "iopub.status.idle": "2023-01-29T03:32:09.117765Z",
     "shell.execute_reply": "2023-01-29T03:32:09.116986Z"
    }
   },
   "outputs": [
    {
     "name": "stdout",
     "output_type": "stream",
     "text": [
      "143 µs ± 187 ns per loop (mean ± std. dev. of 7 runs, 10,000 loops each)\n"
     ]
    }
   ],
   "source": [
    "%timeit Batch.cat(batches)"
   ]
  },
  {
   "cell_type": "code",
   "execution_count": 29,
   "id": "c6688e51",
   "metadata": {
    "execution": {
     "iopub.execute_input": "2023-01-29T03:32:09.120598Z",
     "iopub.status.busy": "2023-01-29T03:32:09.120231Z",
     "iopub.status.idle": "2023-01-29T03:32:11.776105Z",
     "shell.execute_reply": "2023-01-29T03:32:11.775544Z"
    }
   },
   "outputs": [
    {
     "name": "stdout",
     "output_type": "stream",
     "text": [
      "329 µs ± 45.7 µs per loop (mean ± std. dev. of 7 runs, 1,000 loops each)\n"
     ]
    }
   ],
   "source": [
    "batch = Batch({\n",
    "    'obs': torch.randn(8, 4, 84, 84),\n",
    "    'action': torch.randint(0, 6, size=(8, 1,)),\n",
    "    'reward': torch.rand(8, 1)}\n",
    ")\n",
    "\n",
    "%timeit list(Batch.split(batch, 1, shuffle=False, merge_last=True))"
   ]
  },
  {
   "cell_type": "code",
   "execution_count": null,
   "id": "2539fbd9",
   "metadata": {},
   "outputs": [],
   "source": []
  }
 ],
 "metadata": {
  "kernelspec": {
   "display_name": "Python 3 (ipykernel)",
   "language": "python",
   "name": "python3"
  },
  "language_info": {
   "codemirror_mode": {
    "name": "ipython",
    "version": 3
   },
   "file_extension": ".py",
   "mimetype": "text/x-python",
   "name": "python",
   "nbconvert_exporter": "python",
   "pygments_lexer": "ipython3",
   "version": "3.8.16"
  }
 },
 "nbformat": 4,
 "nbformat_minor": 5
}
