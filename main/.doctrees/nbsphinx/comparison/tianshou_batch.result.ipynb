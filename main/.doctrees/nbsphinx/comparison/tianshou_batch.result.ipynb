{
 "cells": [
  {
   "cell_type": "markdown",
   "id": "9d39d946",
   "metadata": {},
   "source": [
    "# Comparison Between TreeValue and Tianshou Batch"
   ]
  },
  {
   "cell_type": "markdown",
   "id": "3c6db2d4",
   "metadata": {},
   "source": [
    "In this section, we will take a look at the feature and performance of the [Tianshou Batch](https://github.com/thu-ml/tianshou) library, which is developed by Tsinghua Machine Learning Group."
   ]
  },
  {
   "cell_type": "markdown",
   "id": "069361b0",
   "metadata": {},
   "source": [
    "Before starting the comparison, let us define some thing."
   ]
  },
  {
   "cell_type": "code",
   "execution_count": 1,
   "id": "06fc8d26",
   "metadata": {
    "execution": {
     "iopub.execute_input": "2023-02-12T17:12:30.308486Z",
     "iopub.status.busy": "2023-02-12T17:12:30.308259Z",
     "iopub.status.idle": "2023-02-12T17:12:31.208421Z",
     "shell.execute_reply": "2023-02-12T17:12:31.207768Z"
    }
   },
   "outputs": [
    {
     "name": "stderr",
     "output_type": "stream",
     "text": [
      "/opt/hostedtoolcache/Python/3.8.16/x64/lib/python3.8/site-packages/tqdm/auto.py:22: TqdmWarning: IProgress not found. Please update jupyter and ipywidgets. See https://ipywidgets.readthedocs.io/en/stable/user_install.html\n",
      "  from .autonotebook import tqdm as notebook_tqdm\n"
     ]
    }
   ],
   "source": [
    "import torch \n",
    "\n",
    "_TREE_DATA_1 = {'a': 1, 'b': 2, 'x': {'c': 3, 'd': 4}}\n",
    "_TREE_DATA_2 = {\n",
    "    'a': torch.randn(2, 3), \n",
    "    'x': {\n",
    "        'c': torch.randn(3, 4)\n",
    "    },\n",
    "}\n",
    "_TREE_DATA_3 = {\n",
    "    'obs': torch.randn(4, 84, 84),\n",
    "    'action': torch.randint(0, 6, size=(1,)),\n",
    "    'reward': torch.rand(1),\n",
    "}"
   ]
  },
  {
   "cell_type": "markdown",
   "id": "83461b25",
   "metadata": {},
   "source": [
    "## Read and Write Operation"
   ]
  },
  {
   "cell_type": "markdown",
   "id": "067b3f73",
   "metadata": {},
   "source": [
    "Reading and writing are the two most common operations in the tree data structure based on the data model (TreeValue and Tianshou Batch both belong to this type), so this section will compare the reading and writing performance of these two libraries."
   ]
  },
  {
   "cell_type": "markdown",
   "id": "5d09a5b7",
   "metadata": {},
   "source": [
    "### TreeValue's Get and Set"
   ]
  },
  {
   "cell_type": "code",
   "execution_count": 2,
   "id": "9519c4bb",
   "metadata": {
    "execution": {
     "iopub.execute_input": "2023-02-12T17:12:31.211782Z",
     "iopub.status.busy": "2023-02-12T17:12:31.211381Z",
     "iopub.status.idle": "2023-02-12T17:12:31.245311Z",
     "shell.execute_reply": "2023-02-12T17:12:31.244259Z"
    }
   },
   "outputs": [],
   "source": [
    "from treevalue import FastTreeValue\n",
    "\n",
    "t = FastTreeValue(_TREE_DATA_2)"
   ]
  },
  {
   "cell_type": "code",
   "execution_count": 3,
   "id": "11c37677",
   "metadata": {
    "execution": {
     "iopub.execute_input": "2023-02-12T17:12:31.247803Z",
     "iopub.status.busy": "2023-02-12T17:12:31.247478Z",
     "iopub.status.idle": "2023-02-12T17:12:31.256409Z",
     "shell.execute_reply": "2023-02-12T17:12:31.255833Z"
    }
   },
   "outputs": [
    {
     "data": {
      "text/plain": [
       "<FastTreeValue 0x7f5e6a0c9820>\n",
       "├── 'a' --> tensor([[ 0.2350,  0.5643,  0.4092],\n",
       "│                   [ 0.9333, -0.5676,  2.7982]])\n",
       "└── 'x' --> <FastTreeValue 0x7f5e6a0c94f0>\n",
       "    └── 'c' --> tensor([[-1.3771,  1.4400,  1.3595,  0.8534],\n",
       "                        [ 2.1254,  0.9136, -1.6880,  0.3345],\n",
       "                        [-0.3717, -0.2446, -1.1421, -0.3759]])"
      ]
     },
     "execution_count": 3,
     "metadata": {},
     "output_type": "execute_result"
    }
   ],
   "source": [
    "t"
   ]
  },
  {
   "cell_type": "code",
   "execution_count": 4,
   "id": "fd70b0b9",
   "metadata": {
    "execution": {
     "iopub.execute_input": "2023-02-12T17:12:31.258900Z",
     "iopub.status.busy": "2023-02-12T17:12:31.258576Z",
     "iopub.status.idle": "2023-02-12T17:12:31.263966Z",
     "shell.execute_reply": "2023-02-12T17:12:31.263393Z"
    }
   },
   "outputs": [
    {
     "data": {
      "text/plain": [
       "tensor([[ 0.2350,  0.5643,  0.4092],\n",
       "        [ 0.9333, -0.5676,  2.7982]])"
      ]
     },
     "execution_count": 4,
     "metadata": {},
     "output_type": "execute_result"
    }
   ],
   "source": [
    "t.a"
   ]
  },
  {
   "cell_type": "code",
   "execution_count": 5,
   "id": "c18197bd",
   "metadata": {
    "execution": {
     "iopub.execute_input": "2023-02-12T17:12:31.266385Z",
     "iopub.status.busy": "2023-02-12T17:12:31.266079Z",
     "iopub.status.idle": "2023-02-12T17:12:36.407181Z",
     "shell.execute_reply": "2023-02-12T17:12:36.406377Z"
    }
   },
   "outputs": [
    {
     "name": "stdout",
     "output_type": "stream",
     "text": [
      "63 ns ± 0.163 ns per loop (mean ± std. dev. of 7 runs, 10,000,000 loops each)\n"
     ]
    }
   ],
   "source": [
    "%timeit t.a"
   ]
  },
  {
   "cell_type": "code",
   "execution_count": 6,
   "id": "bd52f867",
   "metadata": {
    "execution": {
     "iopub.execute_input": "2023-02-12T17:12:36.410271Z",
     "iopub.status.busy": "2023-02-12T17:12:36.409715Z",
     "iopub.status.idle": "2023-02-12T17:12:36.415657Z",
     "shell.execute_reply": "2023-02-12T17:12:36.415033Z"
    }
   },
   "outputs": [
    {
     "data": {
      "text/plain": [
       "<FastTreeValue 0x7f5e6a0c9820>\n",
       "├── 'a' --> tensor([[ 0.1983, -0.5913,  0.8801],\n",
       "│                   [ 3.1057,  0.1991, -0.5828]])\n",
       "└── 'x' --> <FastTreeValue 0x7f5e6a0c94f0>\n",
       "    └── 'c' --> tensor([[-1.3771,  1.4400,  1.3595,  0.8534],\n",
       "                        [ 2.1254,  0.9136, -1.6880,  0.3345],\n",
       "                        [-0.3717, -0.2446, -1.1421, -0.3759]])"
      ]
     },
     "execution_count": 6,
     "metadata": {},
     "output_type": "execute_result"
    }
   ],
   "source": [
    "new_value = torch.randn(2, 3)\n",
    "t.a = new_value\n",
    "\n",
    "t"
   ]
  },
  {
   "cell_type": "code",
   "execution_count": 7,
   "id": "bbe04d1c",
   "metadata": {
    "execution": {
     "iopub.execute_input": "2023-02-12T17:12:36.418255Z",
     "iopub.status.busy": "2023-02-12T17:12:36.417700Z",
     "iopub.status.idle": "2023-02-12T17:12:41.475503Z",
     "shell.execute_reply": "2023-02-12T17:12:41.474725Z"
    }
   },
   "outputs": [
    {
     "name": "stdout",
     "output_type": "stream",
     "text": [
      "62 ns ± 0.0665 ns per loop (mean ± std. dev. of 7 runs, 10,000,000 loops each)\n"
     ]
    }
   ],
   "source": [
    "%timeit t.a = new_value"
   ]
  },
  {
   "cell_type": "markdown",
   "id": "48c49731",
   "metadata": {},
   "source": [
    "### Tianshou Batch's Get and Set"
   ]
  },
  {
   "cell_type": "code",
   "execution_count": 8,
   "id": "f1bb14c1",
   "metadata": {
    "execution": {
     "iopub.execute_input": "2023-02-12T17:12:41.478538Z",
     "iopub.status.busy": "2023-02-12T17:12:41.478167Z",
     "iopub.status.idle": "2023-02-12T17:12:41.801671Z",
     "shell.execute_reply": "2023-02-12T17:12:41.801000Z"
    }
   },
   "outputs": [],
   "source": [
    "from tianshou.data import Batch\n",
    "\n",
    "b = Batch(**_TREE_DATA_2)"
   ]
  },
  {
   "cell_type": "code",
   "execution_count": 9,
   "id": "cb0777c3",
   "metadata": {
    "execution": {
     "iopub.execute_input": "2023-02-12T17:12:41.804639Z",
     "iopub.status.busy": "2023-02-12T17:12:41.804208Z",
     "iopub.status.idle": "2023-02-12T17:12:41.809533Z",
     "shell.execute_reply": "2023-02-12T17:12:41.808880Z"
    }
   },
   "outputs": [
    {
     "data": {
      "text/plain": [
       "Batch(\n",
       "    a: tensor([[ 0.2350,  0.5643,  0.4092],\n",
       "               [ 0.9333, -0.5676,  2.7982]]),\n",
       "    x: Batch(\n",
       "           c: tensor([[-1.3771,  1.4400,  1.3595,  0.8534],\n",
       "                      [ 2.1254,  0.9136, -1.6880,  0.3345],\n",
       "                      [-0.3717, -0.2446, -1.1421, -0.3759]]),\n",
       "       ),\n",
       ")"
      ]
     },
     "execution_count": 9,
     "metadata": {},
     "output_type": "execute_result"
    }
   ],
   "source": [
    "b"
   ]
  },
  {
   "cell_type": "code",
   "execution_count": 10,
   "id": "43ef8ea3",
   "metadata": {
    "execution": {
     "iopub.execute_input": "2023-02-12T17:12:41.812043Z",
     "iopub.status.busy": "2023-02-12T17:12:41.811704Z",
     "iopub.status.idle": "2023-02-12T17:12:41.816391Z",
     "shell.execute_reply": "2023-02-12T17:12:41.815789Z"
    }
   },
   "outputs": [
    {
     "data": {
      "text/plain": [
       "tensor([[ 0.2350,  0.5643,  0.4092],\n",
       "        [ 0.9333, -0.5676,  2.7982]])"
      ]
     },
     "execution_count": 10,
     "metadata": {},
     "output_type": "execute_result"
    }
   ],
   "source": [
    "b.a"
   ]
  },
  {
   "cell_type": "code",
   "execution_count": 11,
   "id": "b785ab72",
   "metadata": {
    "execution": {
     "iopub.execute_input": "2023-02-12T17:12:41.818821Z",
     "iopub.status.busy": "2023-02-12T17:12:41.818490Z",
     "iopub.status.idle": "2023-02-12T17:12:46.176807Z",
     "shell.execute_reply": "2023-02-12T17:12:46.176097Z"
    }
   },
   "outputs": [
    {
     "name": "stdout",
     "output_type": "stream",
     "text": [
      "53.7 ns ± 0.0246 ns per loop (mean ± std. dev. of 7 runs, 10,000,000 loops each)\n"
     ]
    }
   ],
   "source": [
    "%timeit b.a"
   ]
  },
  {
   "cell_type": "code",
   "execution_count": 12,
   "id": "ad54dc69",
   "metadata": {
    "execution": {
     "iopub.execute_input": "2023-02-12T17:12:46.179799Z",
     "iopub.status.busy": "2023-02-12T17:12:46.179437Z",
     "iopub.status.idle": "2023-02-12T17:12:46.185891Z",
     "shell.execute_reply": "2023-02-12T17:12:46.185297Z"
    }
   },
   "outputs": [
    {
     "data": {
      "text/plain": [
       "Batch(\n",
       "    a: tensor([[-0.4433, -0.3284,  0.8681],\n",
       "               [ 1.1095,  0.9760, -0.6313]]),\n",
       "    x: Batch(\n",
       "           c: tensor([[-1.3771,  1.4400,  1.3595,  0.8534],\n",
       "                      [ 2.1254,  0.9136, -1.6880,  0.3345],\n",
       "                      [-0.3717, -0.2446, -1.1421, -0.3759]]),\n",
       "       ),\n",
       ")"
      ]
     },
     "execution_count": 12,
     "metadata": {},
     "output_type": "execute_result"
    }
   ],
   "source": [
    "new_value = torch.randn(2, 3)\n",
    "b.a = new_value\n",
    "\n",
    "b"
   ]
  },
  {
   "cell_type": "code",
   "execution_count": 13,
   "id": "29b1d0bf",
   "metadata": {
    "execution": {
     "iopub.execute_input": "2023-02-12T17:12:46.188380Z",
     "iopub.status.busy": "2023-02-12T17:12:46.188045Z",
     "iopub.status.idle": "2023-02-12T17:12:50.089416Z",
     "shell.execute_reply": "2023-02-12T17:12:50.088741Z"
    }
   },
   "outputs": [
    {
     "name": "stdout",
     "output_type": "stream",
     "text": [
      "480 ns ± 0.0988 ns per loop (mean ± std. dev. of 7 runs, 1,000,000 loops each)\n"
     ]
    }
   ],
   "source": [
    "%timeit b.a = new_value"
   ]
  },
  {
   "cell_type": "markdown",
   "id": "b61ad1d0",
   "metadata": {},
   "source": [
    "## Initialization"
   ]
  },
  {
   "cell_type": "markdown",
   "id": "d70f0d54",
   "metadata": {},
   "source": [
    "### TreeValue's Initialization"
   ]
  },
  {
   "cell_type": "code",
   "execution_count": 14,
   "id": "d32a679b",
   "metadata": {
    "execution": {
     "iopub.execute_input": "2023-02-12T17:12:50.092588Z",
     "iopub.status.busy": "2023-02-12T17:12:50.092225Z",
     "iopub.status.idle": "2023-02-12T17:12:56.888350Z",
     "shell.execute_reply": "2023-02-12T17:12:56.887676Z"
    }
   },
   "outputs": [
    {
     "name": "stdout",
     "output_type": "stream",
     "text": [
      "837 ns ± 0.0946 ns per loop (mean ± std. dev. of 7 runs, 1,000,000 loops each)\n"
     ]
    }
   ],
   "source": [
    "%timeit FastTreeValue(_TREE_DATA_1)"
   ]
  },
  {
   "cell_type": "markdown",
   "id": "24f3707b",
   "metadata": {},
   "source": [
    "### Tianshou Batch's Initialization"
   ]
  },
  {
   "cell_type": "code",
   "execution_count": 15,
   "id": "ac3958df",
   "metadata": {
    "execution": {
     "iopub.execute_input": "2023-02-12T17:12:56.891160Z",
     "iopub.status.busy": "2023-02-12T17:12:56.890793Z",
     "iopub.status.idle": "2023-02-12T17:13:06.199178Z",
     "shell.execute_reply": "2023-02-12T17:13:06.198470Z"
    }
   },
   "outputs": [
    {
     "name": "stdout",
     "output_type": "stream",
     "text": [
      "11.5 µs ± 22.4 ns per loop (mean ± std. dev. of 7 runs, 100,000 loops each)\n"
     ]
    }
   ],
   "source": [
    "%timeit Batch(**_TREE_DATA_1)"
   ]
  },
  {
   "cell_type": "markdown",
   "id": "1ab82e2d",
   "metadata": {},
   "source": [
    "## Deep Copy Operation"
   ]
  },
  {
   "cell_type": "code",
   "execution_count": 16,
   "id": "210a9442",
   "metadata": {
    "execution": {
     "iopub.execute_input": "2023-02-12T17:13:06.202317Z",
     "iopub.status.busy": "2023-02-12T17:13:06.201960Z",
     "iopub.status.idle": "2023-02-12T17:13:06.206507Z",
     "shell.execute_reply": "2023-02-12T17:13:06.205388Z"
    }
   },
   "outputs": [],
   "source": [
    "import copy"
   ]
  },
  {
   "cell_type": "markdown",
   "id": "5a736274",
   "metadata": {},
   "source": [
    "### Deep Copy of TreeValue"
   ]
  },
  {
   "cell_type": "code",
   "execution_count": 17,
   "id": "f9bcadd6",
   "metadata": {
    "execution": {
     "iopub.execute_input": "2023-02-12T17:13:06.209198Z",
     "iopub.status.busy": "2023-02-12T17:13:06.208866Z",
     "iopub.status.idle": "2023-02-12T17:13:17.211533Z",
     "shell.execute_reply": "2023-02-12T17:13:17.210945Z"
    }
   },
   "outputs": [
    {
     "name": "stdout",
     "output_type": "stream",
     "text": [
      "136 µs ± 3.11 µs per loop (mean ± std. dev. of 7 runs, 10,000 loops each)\n"
     ]
    }
   ],
   "source": [
    "t3 = FastTreeValue(_TREE_DATA_3)\n",
    "%timeit copy.deepcopy(t3)"
   ]
  },
  {
   "cell_type": "markdown",
   "id": "bf8be7ea",
   "metadata": {},
   "source": [
    "### Deep Copy of Tianshou Batch"
   ]
  },
  {
   "cell_type": "code",
   "execution_count": 18,
   "id": "91998e6f",
   "metadata": {
    "execution": {
     "iopub.execute_input": "2023-02-12T17:13:17.215380Z",
     "iopub.status.busy": "2023-02-12T17:13:17.214243Z",
     "iopub.status.idle": "2023-02-12T17:13:28.478755Z",
     "shell.execute_reply": "2023-02-12T17:13:28.477886Z"
    }
   },
   "outputs": [
    {
     "name": "stdout",
     "output_type": "stream",
     "text": [
      "139 µs ± 441 ns per loop (mean ± std. dev. of 7 runs, 10,000 loops each)\n"
     ]
    }
   ],
   "source": [
    "b3 = Batch(**_TREE_DATA_3)\n",
    "%timeit copy.deepcopy(b3)"
   ]
  },
  {
   "cell_type": "markdown",
   "id": "223162fb",
   "metadata": {},
   "source": [
    "## Stack, Concat and Split Operation"
   ]
  },
  {
   "cell_type": "markdown",
   "id": "85fa4a73",
   "metadata": {},
   "source": [
    "### Performance of TreeValue"
   ]
  },
  {
   "cell_type": "code",
   "execution_count": 19,
   "id": "a0c2b697",
   "metadata": {
    "execution": {
     "iopub.execute_input": "2023-02-12T17:13:28.481620Z",
     "iopub.status.busy": "2023-02-12T17:13:28.481395Z",
     "iopub.status.idle": "2023-02-12T17:13:28.485747Z",
     "shell.execute_reply": "2023-02-12T17:13:28.485135Z"
    }
   },
   "outputs": [],
   "source": [
    "trees = [FastTreeValue(_TREE_DATA_2) for _ in range(8)]"
   ]
  },
  {
   "cell_type": "code",
   "execution_count": 20,
   "id": "017ea5a5",
   "metadata": {
    "execution": {
     "iopub.execute_input": "2023-02-12T17:13:28.488539Z",
     "iopub.status.busy": "2023-02-12T17:13:28.488317Z",
     "iopub.status.idle": "2023-02-12T17:13:28.496002Z",
     "shell.execute_reply": "2023-02-12T17:13:28.495426Z"
    }
   },
   "outputs": [
    {
     "data": {
      "text/plain": [
       "<FastTreeValue 0x7f5dbacbcbb0>\n",
       "├── 'a' --> tensor([[[ 0.2350,  0.5643,  0.4092],\n",
       "│                    [ 0.9333, -0.5676,  2.7982]],\n",
       "│           \n",
       "│                   [[ 0.2350,  0.5643,  0.4092],\n",
       "│                    [ 0.9333, -0.5676,  2.7982]],\n",
       "│           \n",
       "│                   [[ 0.2350,  0.5643,  0.4092],\n",
       "│                    [ 0.9333, -0.5676,  2.7982]],\n",
       "│           \n",
       "│                   [[ 0.2350,  0.5643,  0.4092],\n",
       "│                    [ 0.9333, -0.5676,  2.7982]],\n",
       "│           \n",
       "│                   [[ 0.2350,  0.5643,  0.4092],\n",
       "│                    [ 0.9333, -0.5676,  2.7982]],\n",
       "│           \n",
       "│                   [[ 0.2350,  0.5643,  0.4092],\n",
       "│                    [ 0.9333, -0.5676,  2.7982]],\n",
       "│           \n",
       "│                   [[ 0.2350,  0.5643,  0.4092],\n",
       "│                    [ 0.9333, -0.5676,  2.7982]],\n",
       "│           \n",
       "│                   [[ 0.2350,  0.5643,  0.4092],\n",
       "│                    [ 0.9333, -0.5676,  2.7982]]])\n",
       "└── 'x' --> <FastTreeValue 0x7f5e60fc7190>\n",
       "    └── 'c' --> tensor([[[-1.3771,  1.4400,  1.3595,  0.8534],\n",
       "                         [ 2.1254,  0.9136, -1.6880,  0.3345],\n",
       "                         [-0.3717, -0.2446, -1.1421, -0.3759]],\n",
       "                \n",
       "                        [[-1.3771,  1.4400,  1.3595,  0.8534],\n",
       "                         [ 2.1254,  0.9136, -1.6880,  0.3345],\n",
       "                         [-0.3717, -0.2446, -1.1421, -0.3759]],\n",
       "                \n",
       "                        [[-1.3771,  1.4400,  1.3595,  0.8534],\n",
       "                         [ 2.1254,  0.9136, -1.6880,  0.3345],\n",
       "                         [-0.3717, -0.2446, -1.1421, -0.3759]],\n",
       "                \n",
       "                        [[-1.3771,  1.4400,  1.3595,  0.8534],\n",
       "                         [ 2.1254,  0.9136, -1.6880,  0.3345],\n",
       "                         [-0.3717, -0.2446, -1.1421, -0.3759]],\n",
       "                \n",
       "                        [[-1.3771,  1.4400,  1.3595,  0.8534],\n",
       "                         [ 2.1254,  0.9136, -1.6880,  0.3345],\n",
       "                         [-0.3717, -0.2446, -1.1421, -0.3759]],\n",
       "                \n",
       "                        [[-1.3771,  1.4400,  1.3595,  0.8534],\n",
       "                         [ 2.1254,  0.9136, -1.6880,  0.3345],\n",
       "                         [-0.3717, -0.2446, -1.1421, -0.3759]],\n",
       "                \n",
       "                        [[-1.3771,  1.4400,  1.3595,  0.8534],\n",
       "                         [ 2.1254,  0.9136, -1.6880,  0.3345],\n",
       "                         [-0.3717, -0.2446, -1.1421, -0.3759]],\n",
       "                \n",
       "                        [[-1.3771,  1.4400,  1.3595,  0.8534],\n",
       "                         [ 2.1254,  0.9136, -1.6880,  0.3345],\n",
       "                         [-0.3717, -0.2446, -1.1421, -0.3759]]])"
      ]
     },
     "execution_count": 20,
     "metadata": {},
     "output_type": "execute_result"
    }
   ],
   "source": [
    "t_stack = FastTreeValue.func(subside=True)(torch.stack)\n",
    "\n",
    "t_stack(trees)"
   ]
  },
  {
   "cell_type": "code",
   "execution_count": 21,
   "id": "f8b3f415",
   "metadata": {
    "execution": {
     "iopub.execute_input": "2023-02-12T17:13:28.498571Z",
     "iopub.status.busy": "2023-02-12T17:13:28.498358Z",
     "iopub.status.idle": "2023-02-12T17:13:31.039628Z",
     "shell.execute_reply": "2023-02-12T17:13:31.038971Z"
    }
   },
   "outputs": [
    {
     "name": "stdout",
     "output_type": "stream",
     "text": [
      "31.3 µs ± 201 ns per loop (mean ± std. dev. of 7 runs, 10,000 loops each)\n"
     ]
    }
   ],
   "source": [
    "%timeit t_stack(trees)"
   ]
  },
  {
   "cell_type": "code",
   "execution_count": 22,
   "id": "94b56771",
   "metadata": {
    "execution": {
     "iopub.execute_input": "2023-02-12T17:13:31.042894Z",
     "iopub.status.busy": "2023-02-12T17:13:31.042541Z",
     "iopub.status.idle": "2023-02-12T17:13:31.051086Z",
     "shell.execute_reply": "2023-02-12T17:13:31.049832Z"
    }
   },
   "outputs": [
    {
     "data": {
      "text/plain": [
       "<FastTreeValue 0x7f5dbacdff40>\n",
       "├── 'a' --> tensor([[ 0.2350,  0.5643,  0.4092],\n",
       "│                   [ 0.9333, -0.5676,  2.7982],\n",
       "│                   [ 0.2350,  0.5643,  0.4092],\n",
       "│                   [ 0.9333, -0.5676,  2.7982],\n",
       "│                   [ 0.2350,  0.5643,  0.4092],\n",
       "│                   [ 0.9333, -0.5676,  2.7982],\n",
       "│                   [ 0.2350,  0.5643,  0.4092],\n",
       "│                   [ 0.9333, -0.5676,  2.7982],\n",
       "│                   [ 0.2350,  0.5643,  0.4092],\n",
       "│                   [ 0.9333, -0.5676,  2.7982],\n",
       "│                   [ 0.2350,  0.5643,  0.4092],\n",
       "│                   [ 0.9333, -0.5676,  2.7982],\n",
       "│                   [ 0.2350,  0.5643,  0.4092],\n",
       "│                   [ 0.9333, -0.5676,  2.7982],\n",
       "│                   [ 0.2350,  0.5643,  0.4092],\n",
       "│                   [ 0.9333, -0.5676,  2.7982]])\n",
       "└── 'x' --> <FastTreeValue 0x7f5e3c4c5d00>\n",
       "    └── 'c' --> tensor([[-1.3771,  1.4400,  1.3595,  0.8534],\n",
       "                        [ 2.1254,  0.9136, -1.6880,  0.3345],\n",
       "                        [-0.3717, -0.2446, -1.1421, -0.3759],\n",
       "                        [-1.3771,  1.4400,  1.3595,  0.8534],\n",
       "                        [ 2.1254,  0.9136, -1.6880,  0.3345],\n",
       "                        [-0.3717, -0.2446, -1.1421, -0.3759],\n",
       "                        [-1.3771,  1.4400,  1.3595,  0.8534],\n",
       "                        [ 2.1254,  0.9136, -1.6880,  0.3345],\n",
       "                        [-0.3717, -0.2446, -1.1421, -0.3759],\n",
       "                        [-1.3771,  1.4400,  1.3595,  0.8534],\n",
       "                        [ 2.1254,  0.9136, -1.6880,  0.3345],\n",
       "                        [-0.3717, -0.2446, -1.1421, -0.3759],\n",
       "                        [-1.3771,  1.4400,  1.3595,  0.8534],\n",
       "                        [ 2.1254,  0.9136, -1.6880,  0.3345],\n",
       "                        [-0.3717, -0.2446, -1.1421, -0.3759],\n",
       "                        [-1.3771,  1.4400,  1.3595,  0.8534],\n",
       "                        [ 2.1254,  0.9136, -1.6880,  0.3345],\n",
       "                        [-0.3717, -0.2446, -1.1421, -0.3759],\n",
       "                        [-1.3771,  1.4400,  1.3595,  0.8534],\n",
       "                        [ 2.1254,  0.9136, -1.6880,  0.3345],\n",
       "                        [-0.3717, -0.2446, -1.1421, -0.3759],\n",
       "                        [-1.3771,  1.4400,  1.3595,  0.8534],\n",
       "                        [ 2.1254,  0.9136, -1.6880,  0.3345],\n",
       "                        [-0.3717, -0.2446, -1.1421, -0.3759]])"
      ]
     },
     "execution_count": 22,
     "metadata": {},
     "output_type": "execute_result"
    }
   ],
   "source": [
    "t_cat = FastTreeValue.func(subside=True)(torch.cat)\n",
    "\n",
    "t_cat(trees)"
   ]
  },
  {
   "cell_type": "code",
   "execution_count": 23,
   "id": "5e9c06a6",
   "metadata": {
    "execution": {
     "iopub.execute_input": "2023-02-12T17:13:31.053901Z",
     "iopub.status.busy": "2023-02-12T17:13:31.053406Z",
     "iopub.status.idle": "2023-02-12T17:13:33.465084Z",
     "shell.execute_reply": "2023-02-12T17:13:33.464348Z"
    }
   },
   "outputs": [
    {
     "name": "stdout",
     "output_type": "stream",
     "text": [
      "29.7 µs ± 49.7 ns per loop (mean ± std. dev. of 7 runs, 10,000 loops each)\n"
     ]
    }
   ],
   "source": [
    "%timeit t_cat(trees)"
   ]
  },
  {
   "cell_type": "code",
   "execution_count": 24,
   "id": "a3ab5c8f",
   "metadata": {
    "execution": {
     "iopub.execute_input": "2023-02-12T17:13:33.468051Z",
     "iopub.status.busy": "2023-02-12T17:13:33.467498Z",
     "iopub.status.idle": "2023-02-12T17:13:38.224443Z",
     "shell.execute_reply": "2023-02-12T17:13:38.223730Z"
    }
   },
   "outputs": [
    {
     "name": "stdout",
     "output_type": "stream",
     "text": [
      "58.5 µs ± 154 ns per loop (mean ± std. dev. of 7 runs, 10,000 loops each)\n"
     ]
    }
   ],
   "source": [
    "t_split = FastTreeValue.func(rise=True)(torch.split)\n",
    "tree = FastTreeValue({\n",
    "    'obs': torch.randn(8, 4, 84, 84),\n",
    "    'action': torch.randint(0, 6, size=(8, 1,)),\n",
    "    'reward': torch.rand(8, 1),\n",
    "})\n",
    "\n",
    "%timeit t_split(tree, 1)"
   ]
  },
  {
   "cell_type": "markdown",
   "id": "31c3ec0b",
   "metadata": {},
   "source": [
    "### Performance of Tianshou Batch"
   ]
  },
  {
   "cell_type": "code",
   "execution_count": 25,
   "id": "9ead828a",
   "metadata": {
    "execution": {
     "iopub.execute_input": "2023-02-12T17:13:38.227296Z",
     "iopub.status.busy": "2023-02-12T17:13:38.226948Z",
     "iopub.status.idle": "2023-02-12T17:13:38.235646Z",
     "shell.execute_reply": "2023-02-12T17:13:38.234494Z"
    }
   },
   "outputs": [
    {
     "data": {
      "text/plain": [
       "Batch(\n",
       "    x: Batch(\n",
       "           c: tensor([[[-1.3771,  1.4400,  1.3595,  0.8534],\n",
       "                       [ 2.1254,  0.9136, -1.6880,  0.3345],\n",
       "                       [-0.3717, -0.2446, -1.1421, -0.3759]],\n",
       "              \n",
       "                      [[-1.3771,  1.4400,  1.3595,  0.8534],\n",
       "                       [ 2.1254,  0.9136, -1.6880,  0.3345],\n",
       "                       [-0.3717, -0.2446, -1.1421, -0.3759]],\n",
       "              \n",
       "                      [[-1.3771,  1.4400,  1.3595,  0.8534],\n",
       "                       [ 2.1254,  0.9136, -1.6880,  0.3345],\n",
       "                       [-0.3717, -0.2446, -1.1421, -0.3759]],\n",
       "              \n",
       "                      [[-1.3771,  1.4400,  1.3595,  0.8534],\n",
       "                       [ 2.1254,  0.9136, -1.6880,  0.3345],\n",
       "                       [-0.3717, -0.2446, -1.1421, -0.3759]],\n",
       "              \n",
       "                      [[-1.3771,  1.4400,  1.3595,  0.8534],\n",
       "                       [ 2.1254,  0.9136, -1.6880,  0.3345],\n",
       "                       [-0.3717, -0.2446, -1.1421, -0.3759]],\n",
       "              \n",
       "                      [[-1.3771,  1.4400,  1.3595,  0.8534],\n",
       "                       [ 2.1254,  0.9136, -1.6880,  0.3345],\n",
       "                       [-0.3717, -0.2446, -1.1421, -0.3759]],\n",
       "              \n",
       "                      [[-1.3771,  1.4400,  1.3595,  0.8534],\n",
       "                       [ 2.1254,  0.9136, -1.6880,  0.3345],\n",
       "                       [-0.3717, -0.2446, -1.1421, -0.3759]],\n",
       "              \n",
       "                      [[-1.3771,  1.4400,  1.3595,  0.8534],\n",
       "                       [ 2.1254,  0.9136, -1.6880,  0.3345],\n",
       "                       [-0.3717, -0.2446, -1.1421, -0.3759]]]),\n",
       "       ),\n",
       "    a: tensor([[[ 0.2350,  0.5643,  0.4092],\n",
       "                [ 0.9333, -0.5676,  2.7982]],\n",
       "       \n",
       "               [[ 0.2350,  0.5643,  0.4092],\n",
       "                [ 0.9333, -0.5676,  2.7982]],\n",
       "       \n",
       "               [[ 0.2350,  0.5643,  0.4092],\n",
       "                [ 0.9333, -0.5676,  2.7982]],\n",
       "       \n",
       "               [[ 0.2350,  0.5643,  0.4092],\n",
       "                [ 0.9333, -0.5676,  2.7982]],\n",
       "       \n",
       "               [[ 0.2350,  0.5643,  0.4092],\n",
       "                [ 0.9333, -0.5676,  2.7982]],\n",
       "       \n",
       "               [[ 0.2350,  0.5643,  0.4092],\n",
       "                [ 0.9333, -0.5676,  2.7982]],\n",
       "       \n",
       "               [[ 0.2350,  0.5643,  0.4092],\n",
       "                [ 0.9333, -0.5676,  2.7982]],\n",
       "       \n",
       "               [[ 0.2350,  0.5643,  0.4092],\n",
       "                [ 0.9333, -0.5676,  2.7982]]]),\n",
       ")"
      ]
     },
     "execution_count": 25,
     "metadata": {},
     "output_type": "execute_result"
    }
   ],
   "source": [
    "batches = [Batch(**_TREE_DATA_2) for _ in range(8)]\n",
    "\n",
    "Batch.stack(batches)"
   ]
  },
  {
   "cell_type": "code",
   "execution_count": 26,
   "id": "ec9037a3",
   "metadata": {
    "execution": {
     "iopub.execute_input": "2023-02-12T17:13:38.238399Z",
     "iopub.status.busy": "2023-02-12T17:13:38.238147Z",
     "iopub.status.idle": "2023-02-12T17:13:46.807680Z",
     "shell.execute_reply": "2023-02-12T17:13:46.806271Z"
    }
   },
   "outputs": [
    {
     "name": "stdout",
     "output_type": "stream",
     "text": [
      "105 µs ± 131 ns per loop (mean ± std. dev. of 7 runs, 10,000 loops each)\n"
     ]
    }
   ],
   "source": [
    "%timeit Batch.stack(batches)"
   ]
  },
  {
   "cell_type": "code",
   "execution_count": 27,
   "id": "cb8ab77e",
   "metadata": {
    "execution": {
     "iopub.execute_input": "2023-02-12T17:13:46.810812Z",
     "iopub.status.busy": "2023-02-12T17:13:46.810450Z",
     "iopub.status.idle": "2023-02-12T17:13:46.818698Z",
     "shell.execute_reply": "2023-02-12T17:13:46.817535Z"
    }
   },
   "outputs": [
    {
     "data": {
      "text/plain": [
       "Batch(\n",
       "    x: Batch(\n",
       "           c: tensor([[-1.3771,  1.4400,  1.3595,  0.8534],\n",
       "                      [ 2.1254,  0.9136, -1.6880,  0.3345],\n",
       "                      [-0.3717, -0.2446, -1.1421, -0.3759],\n",
       "                      [-1.3771,  1.4400,  1.3595,  0.8534],\n",
       "                      [ 2.1254,  0.9136, -1.6880,  0.3345],\n",
       "                      [-0.3717, -0.2446, -1.1421, -0.3759],\n",
       "                      [-1.3771,  1.4400,  1.3595,  0.8534],\n",
       "                      [ 2.1254,  0.9136, -1.6880,  0.3345],\n",
       "                      [-0.3717, -0.2446, -1.1421, -0.3759],\n",
       "                      [-1.3771,  1.4400,  1.3595,  0.8534],\n",
       "                      [ 2.1254,  0.9136, -1.6880,  0.3345],\n",
       "                      [-0.3717, -0.2446, -1.1421, -0.3759],\n",
       "                      [-1.3771,  1.4400,  1.3595,  0.8534],\n",
       "                      [ 2.1254,  0.9136, -1.6880,  0.3345],\n",
       "                      [-0.3717, -0.2446, -1.1421, -0.3759],\n",
       "                      [-1.3771,  1.4400,  1.3595,  0.8534],\n",
       "                      [ 2.1254,  0.9136, -1.6880,  0.3345],\n",
       "                      [-0.3717, -0.2446, -1.1421, -0.3759],\n",
       "                      [-1.3771,  1.4400,  1.3595,  0.8534],\n",
       "                      [ 2.1254,  0.9136, -1.6880,  0.3345],\n",
       "                      [-0.3717, -0.2446, -1.1421, -0.3759],\n",
       "                      [-1.3771,  1.4400,  1.3595,  0.8534],\n",
       "                      [ 2.1254,  0.9136, -1.6880,  0.3345],\n",
       "                      [-0.3717, -0.2446, -1.1421, -0.3759]]),\n",
       "       ),\n",
       "    a: tensor([[ 0.2350,  0.5643,  0.4092],\n",
       "               [ 0.9333, -0.5676,  2.7982],\n",
       "               [ 0.2350,  0.5643,  0.4092],\n",
       "               [ 0.9333, -0.5676,  2.7982],\n",
       "               [ 0.2350,  0.5643,  0.4092],\n",
       "               [ 0.9333, -0.5676,  2.7982],\n",
       "               [ 0.2350,  0.5643,  0.4092],\n",
       "               [ 0.9333, -0.5676,  2.7982],\n",
       "               [ 0.2350,  0.5643,  0.4092],\n",
       "               [ 0.9333, -0.5676,  2.7982],\n",
       "               [ 0.2350,  0.5643,  0.4092],\n",
       "               [ 0.9333, -0.5676,  2.7982],\n",
       "               [ 0.2350,  0.5643,  0.4092],\n",
       "               [ 0.9333, -0.5676,  2.7982],\n",
       "               [ 0.2350,  0.5643,  0.4092],\n",
       "               [ 0.9333, -0.5676,  2.7982]]),\n",
       ")"
      ]
     },
     "execution_count": 27,
     "metadata": {},
     "output_type": "execute_result"
    }
   ],
   "source": [
    "Batch.cat(batches)"
   ]
  },
  {
   "cell_type": "code",
   "execution_count": 28,
   "id": "18dfb045",
   "metadata": {
    "execution": {
     "iopub.execute_input": "2023-02-12T17:13:46.821475Z",
     "iopub.status.busy": "2023-02-12T17:13:46.821218Z",
     "iopub.status.idle": "2023-02-12T17:13:49.088049Z",
     "shell.execute_reply": "2023-02-12T17:13:49.087391Z"
    }
   },
   "outputs": [
    {
     "name": "stdout",
     "output_type": "stream",
     "text": [
      "284 µs ± 2.71 µs per loop (mean ± std. dev. of 7 runs, 1,000 loops each)\n"
     ]
    }
   ],
   "source": [
    "%timeit Batch.cat(batches)"
   ]
  },
  {
   "cell_type": "code",
   "execution_count": 29,
   "id": "c6688e51",
   "metadata": {
    "execution": {
     "iopub.execute_input": "2023-02-12T17:13:49.091388Z",
     "iopub.status.busy": "2023-02-12T17:13:49.090808Z",
     "iopub.status.idle": "2023-02-12T17:13:51.564907Z",
     "shell.execute_reply": "2023-02-12T17:13:51.564336Z"
    }
   },
   "outputs": [
    {
     "name": "stdout",
     "output_type": "stream",
     "text": [
      "304 µs ± 699 ns per loop (mean ± std. dev. of 7 runs, 1,000 loops each)\n"
     ]
    }
   ],
   "source": [
    "batch = Batch({\n",
    "    'obs': torch.randn(8, 4, 84, 84),\n",
    "    'action': torch.randint(0, 6, size=(8, 1,)),\n",
    "    'reward': torch.rand(8, 1)}\n",
    ")\n",
    "\n",
    "%timeit list(Batch.split(batch, 1, shuffle=False, merge_last=True))"
   ]
  },
  {
   "cell_type": "code",
   "execution_count": null,
   "id": "2539fbd9",
   "metadata": {},
   "outputs": [],
   "source": []
  }
 ],
 "metadata": {
  "kernelspec": {
   "display_name": "Python 3 (ipykernel)",
   "language": "python",
   "name": "python3"
  },
  "language_info": {
   "codemirror_mode": {
    "name": "ipython",
    "version": 3
   },
   "file_extension": ".py",
   "mimetype": "text/x-python",
   "name": "python",
   "nbconvert_exporter": "python",
   "pygments_lexer": "ipython3",
   "version": "3.8.16"
  }
 },
 "nbformat": 4,
 "nbformat_minor": 5
}
