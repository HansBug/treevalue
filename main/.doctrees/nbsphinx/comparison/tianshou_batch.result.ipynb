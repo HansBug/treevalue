{
 "cells": [
  {
   "cell_type": "markdown",
   "id": "9d39d946",
   "metadata": {},
   "source": [
    "# Comparison Between TreeValue and Tianshou Batch"
   ]
  },
  {
   "cell_type": "markdown",
   "id": "3c6db2d4",
   "metadata": {},
   "source": [
    "In this section, we will take a look at the feature and performance of the [Tianshou Batch](https://github.com/thu-ml/tianshou) library, which is developed by Tsinghua Machine Learning Group."
   ]
  },
  {
   "cell_type": "markdown",
   "id": "069361b0",
   "metadata": {},
   "source": [
    "Before starting the comparison, let us define some thing."
   ]
  },
  {
   "cell_type": "code",
   "execution_count": 1,
   "id": "06fc8d26",
   "metadata": {
    "execution": {
     "iopub.execute_input": "2023-02-12T17:45:29.196112Z",
     "iopub.status.busy": "2023-02-12T17:45:29.195724Z",
     "iopub.status.idle": "2023-02-12T17:45:30.100485Z",
     "shell.execute_reply": "2023-02-12T17:45:30.099815Z"
    }
   },
   "outputs": [
    {
     "name": "stderr",
     "output_type": "stream",
     "text": [
      "/opt/hostedtoolcache/Python/3.8.16/x64/lib/python3.8/site-packages/tqdm/auto.py:22: TqdmWarning: IProgress not found. Please update jupyter and ipywidgets. See https://ipywidgets.readthedocs.io/en/stable/user_install.html\n",
      "  from .autonotebook import tqdm as notebook_tqdm\n"
     ]
    }
   ],
   "source": [
    "import torch \n",
    "\n",
    "_TREE_DATA_1 = {'a': 1, 'b': 2, 'x': {'c': 3, 'd': 4}}\n",
    "_TREE_DATA_2 = {\n",
    "    'a': torch.randn(2, 3), \n",
    "    'x': {\n",
    "        'c': torch.randn(3, 4)\n",
    "    },\n",
    "}\n",
    "_TREE_DATA_3 = {\n",
    "    'obs': torch.randn(4, 84, 84),\n",
    "    'action': torch.randint(0, 6, size=(1,)),\n",
    "    'reward': torch.rand(1),\n",
    "}"
   ]
  },
  {
   "cell_type": "markdown",
   "id": "83461b25",
   "metadata": {},
   "source": [
    "## Read and Write Operation"
   ]
  },
  {
   "cell_type": "markdown",
   "id": "067b3f73",
   "metadata": {},
   "source": [
    "Reading and writing are the two most common operations in the tree data structure based on the data model (TreeValue and Tianshou Batch both belong to this type), so this section will compare the reading and writing performance of these two libraries."
   ]
  },
  {
   "cell_type": "markdown",
   "id": "5d09a5b7",
   "metadata": {},
   "source": [
    "### TreeValue's Get and Set"
   ]
  },
  {
   "cell_type": "code",
   "execution_count": 2,
   "id": "9519c4bb",
   "metadata": {
    "execution": {
     "iopub.execute_input": "2023-02-12T17:45:30.103921Z",
     "iopub.status.busy": "2023-02-12T17:45:30.103331Z",
     "iopub.status.idle": "2023-02-12T17:45:30.136058Z",
     "shell.execute_reply": "2023-02-12T17:45:30.135428Z"
    }
   },
   "outputs": [],
   "source": [
    "from treevalue import FastTreeValue\n",
    "\n",
    "t = FastTreeValue(_TREE_DATA_2)"
   ]
  },
  {
   "cell_type": "code",
   "execution_count": 3,
   "id": "11c37677",
   "metadata": {
    "execution": {
     "iopub.execute_input": "2023-02-12T17:45:30.139372Z",
     "iopub.status.busy": "2023-02-12T17:45:30.138841Z",
     "iopub.status.idle": "2023-02-12T17:45:30.149257Z",
     "shell.execute_reply": "2023-02-12T17:45:30.148683Z"
    }
   },
   "outputs": [
    {
     "data": {
      "text/plain": [
       "<FastTreeValue 0x7fc4b4af34f0>\n",
       "├── 'a' --> tensor([[ 0.0973,  0.9077,  0.9042],\n",
       "│                   [-0.1918,  0.9390,  0.5160]])\n",
       "└── 'x' --> <FastTreeValue 0x7fc4b8bc86a0>\n",
       "    └── 'c' --> tensor([[-1.1935, -0.9629, -0.5751,  1.0858],\n",
       "                        [ 1.5296,  0.4821,  0.2280,  0.8139],\n",
       "                        [ 0.1560, -0.4275, -0.7215, -0.3529]])"
      ]
     },
     "execution_count": 3,
     "metadata": {},
     "output_type": "execute_result"
    }
   ],
   "source": [
    "t"
   ]
  },
  {
   "cell_type": "code",
   "execution_count": 4,
   "id": "fd70b0b9",
   "metadata": {
    "execution": {
     "iopub.execute_input": "2023-02-12T17:45:30.152132Z",
     "iopub.status.busy": "2023-02-12T17:45:30.151902Z",
     "iopub.status.idle": "2023-02-12T17:45:30.157827Z",
     "shell.execute_reply": "2023-02-12T17:45:30.157243Z"
    }
   },
   "outputs": [
    {
     "data": {
      "text/plain": [
       "tensor([[ 0.0973,  0.9077,  0.9042],\n",
       "        [-0.1918,  0.9390,  0.5160]])"
      ]
     },
     "execution_count": 4,
     "metadata": {},
     "output_type": "execute_result"
    }
   ],
   "source": [
    "t.a"
   ]
  },
  {
   "cell_type": "code",
   "execution_count": 5,
   "id": "c18197bd",
   "metadata": {
    "execution": {
     "iopub.execute_input": "2023-02-12T17:45:30.160431Z",
     "iopub.status.busy": "2023-02-12T17:45:30.159899Z",
     "iopub.status.idle": "2023-02-12T17:45:35.136970Z",
     "shell.execute_reply": "2023-02-12T17:45:35.136228Z"
    }
   },
   "outputs": [
    {
     "name": "stdout",
     "output_type": "stream",
     "text": [
      "61.5 ns ± 1.27 ns per loop (mean ± std. dev. of 7 runs, 10,000,000 loops each)\n"
     ]
    }
   ],
   "source": [
    "%timeit t.a"
   ]
  },
  {
   "cell_type": "code",
   "execution_count": 6,
   "id": "bd52f867",
   "metadata": {
    "execution": {
     "iopub.execute_input": "2023-02-12T17:45:35.140333Z",
     "iopub.status.busy": "2023-02-12T17:45:35.139753Z",
     "iopub.status.idle": "2023-02-12T17:45:35.147620Z",
     "shell.execute_reply": "2023-02-12T17:45:35.147022Z"
    }
   },
   "outputs": [
    {
     "data": {
      "text/plain": [
       "<FastTreeValue 0x7fc4b4af34f0>\n",
       "├── 'a' --> tensor([[-1.1666, -0.6799,  0.8270],\n",
       "│                   [-1.0345, -0.8299, -1.1693]])\n",
       "└── 'x' --> <FastTreeValue 0x7fc4b8bc86a0>\n",
       "    └── 'c' --> tensor([[-1.1935, -0.9629, -0.5751,  1.0858],\n",
       "                        [ 1.5296,  0.4821,  0.2280,  0.8139],\n",
       "                        [ 0.1560, -0.4275, -0.7215, -0.3529]])"
      ]
     },
     "execution_count": 6,
     "metadata": {},
     "output_type": "execute_result"
    }
   ],
   "source": [
    "new_value = torch.randn(2, 3)\n",
    "t.a = new_value\n",
    "\n",
    "t"
   ]
  },
  {
   "cell_type": "code",
   "execution_count": 7,
   "id": "bbe04d1c",
   "metadata": {
    "execution": {
     "iopub.execute_input": "2023-02-12T17:45:35.150588Z",
     "iopub.status.busy": "2023-02-12T17:45:35.150366Z",
     "iopub.status.idle": "2023-02-12T17:45:41.284751Z",
     "shell.execute_reply": "2023-02-12T17:45:41.284028Z"
    }
   },
   "outputs": [
    {
     "name": "stdout",
     "output_type": "stream",
     "text": [
      "75.6 ns ± 1.12 ns per loop (mean ± std. dev. of 7 runs, 10,000,000 loops each)\n"
     ]
    }
   ],
   "source": [
    "%timeit t.a = new_value"
   ]
  },
  {
   "cell_type": "markdown",
   "id": "48c49731",
   "metadata": {},
   "source": [
    "### Tianshou Batch's Get and Set"
   ]
  },
  {
   "cell_type": "code",
   "execution_count": 8,
   "id": "f1bb14c1",
   "metadata": {
    "execution": {
     "iopub.execute_input": "2023-02-12T17:45:41.287878Z",
     "iopub.status.busy": "2023-02-12T17:45:41.287518Z",
     "iopub.status.idle": "2023-02-12T17:45:41.619224Z",
     "shell.execute_reply": "2023-02-12T17:45:41.618540Z"
    }
   },
   "outputs": [],
   "source": [
    "from tianshou.data import Batch\n",
    "\n",
    "b = Batch(**_TREE_DATA_2)"
   ]
  },
  {
   "cell_type": "code",
   "execution_count": 9,
   "id": "cb0777c3",
   "metadata": {
    "execution": {
     "iopub.execute_input": "2023-02-12T17:45:41.622505Z",
     "iopub.status.busy": "2023-02-12T17:45:41.622072Z",
     "iopub.status.idle": "2023-02-12T17:45:41.628405Z",
     "shell.execute_reply": "2023-02-12T17:45:41.627832Z"
    }
   },
   "outputs": [
    {
     "data": {
      "text/plain": [
       "Batch(\n",
       "    a: tensor([[ 0.0973,  0.9077,  0.9042],\n",
       "               [-0.1918,  0.9390,  0.5160]]),\n",
       "    x: Batch(\n",
       "           c: tensor([[-1.1935, -0.9629, -0.5751,  1.0858],\n",
       "                      [ 1.5296,  0.4821,  0.2280,  0.8139],\n",
       "                      [ 0.1560, -0.4275, -0.7215, -0.3529]]),\n",
       "       ),\n",
       ")"
      ]
     },
     "execution_count": 9,
     "metadata": {},
     "output_type": "execute_result"
    }
   ],
   "source": [
    "b"
   ]
  },
  {
   "cell_type": "code",
   "execution_count": 10,
   "id": "43ef8ea3",
   "metadata": {
    "execution": {
     "iopub.execute_input": "2023-02-12T17:45:41.630935Z",
     "iopub.status.busy": "2023-02-12T17:45:41.630728Z",
     "iopub.status.idle": "2023-02-12T17:45:41.636282Z",
     "shell.execute_reply": "2023-02-12T17:45:41.635705Z"
    }
   },
   "outputs": [
    {
     "data": {
      "text/plain": [
       "tensor([[ 0.0973,  0.9077,  0.9042],\n",
       "        [-0.1918,  0.9390,  0.5160]])"
      ]
     },
     "execution_count": 10,
     "metadata": {},
     "output_type": "execute_result"
    }
   ],
   "source": [
    "b.a"
   ]
  },
  {
   "cell_type": "code",
   "execution_count": 11,
   "id": "b785ab72",
   "metadata": {
    "execution": {
     "iopub.execute_input": "2023-02-12T17:45:41.639451Z",
     "iopub.status.busy": "2023-02-12T17:45:41.638915Z",
     "iopub.status.idle": "2023-02-12T17:45:45.965199Z",
     "shell.execute_reply": "2023-02-12T17:45:45.964448Z"
    }
   },
   "outputs": [
    {
     "name": "stdout",
     "output_type": "stream",
     "text": [
      "53.5 ns ± 0.0233 ns per loop (mean ± std. dev. of 7 runs, 10,000,000 loops each)\n"
     ]
    }
   ],
   "source": [
    "%timeit b.a"
   ]
  },
  {
   "cell_type": "code",
   "execution_count": 12,
   "id": "ad54dc69",
   "metadata": {
    "execution": {
     "iopub.execute_input": "2023-02-12T17:45:45.967972Z",
     "iopub.status.busy": "2023-02-12T17:45:45.967616Z",
     "iopub.status.idle": "2023-02-12T17:45:45.974716Z",
     "shell.execute_reply": "2023-02-12T17:45:45.974117Z"
    }
   },
   "outputs": [
    {
     "data": {
      "text/plain": [
       "Batch(\n",
       "    a: tensor([[-0.3574, -1.8670,  1.3019],\n",
       "               [-0.6099, -0.4065, -0.4254]]),\n",
       "    x: Batch(\n",
       "           c: tensor([[-1.1935, -0.9629, -0.5751,  1.0858],\n",
       "                      [ 1.5296,  0.4821,  0.2280,  0.8139],\n",
       "                      [ 0.1560, -0.4275, -0.7215, -0.3529]]),\n",
       "       ),\n",
       ")"
      ]
     },
     "execution_count": 12,
     "metadata": {},
     "output_type": "execute_result"
    }
   ],
   "source": [
    "new_value = torch.randn(2, 3)\n",
    "b.a = new_value\n",
    "\n",
    "b"
   ]
  },
  {
   "cell_type": "code",
   "execution_count": 13,
   "id": "29b1d0bf",
   "metadata": {
    "execution": {
     "iopub.execute_input": "2023-02-12T17:45:45.978185Z",
     "iopub.status.busy": "2023-02-12T17:45:45.977133Z",
     "iopub.status.idle": "2023-02-12T17:45:49.892475Z",
     "shell.execute_reply": "2023-02-12T17:45:49.891755Z"
    }
   },
   "outputs": [
    {
     "name": "stdout",
     "output_type": "stream",
     "text": [
      "482 ns ± 0.0861 ns per loop (mean ± std. dev. of 7 runs, 1,000,000 loops each)\n"
     ]
    }
   ],
   "source": [
    "%timeit b.a = new_value"
   ]
  },
  {
   "cell_type": "markdown",
   "id": "b61ad1d0",
   "metadata": {},
   "source": [
    "## Initialization"
   ]
  },
  {
   "cell_type": "markdown",
   "id": "d70f0d54",
   "metadata": {},
   "source": [
    "### TreeValue's Initialization"
   ]
  },
  {
   "cell_type": "code",
   "execution_count": 14,
   "id": "d32a679b",
   "metadata": {
    "execution": {
     "iopub.execute_input": "2023-02-12T17:45:49.895769Z",
     "iopub.status.busy": "2023-02-12T17:45:49.895265Z",
     "iopub.status.idle": "2023-02-12T17:45:56.707260Z",
     "shell.execute_reply": "2023-02-12T17:45:56.706565Z"
    }
   },
   "outputs": [
    {
     "name": "stdout",
     "output_type": "stream",
     "text": [
      "837 ns ± 0.225 ns per loop (mean ± std. dev. of 7 runs, 1,000,000 loops each)\n"
     ]
    }
   ],
   "source": [
    "%timeit FastTreeValue(_TREE_DATA_1)"
   ]
  },
  {
   "cell_type": "markdown",
   "id": "24f3707b",
   "metadata": {},
   "source": [
    "### Tianshou Batch's Initialization"
   ]
  },
  {
   "cell_type": "code",
   "execution_count": 15,
   "id": "ac3958df",
   "metadata": {
    "execution": {
     "iopub.execute_input": "2023-02-12T17:45:56.711148Z",
     "iopub.status.busy": "2023-02-12T17:45:56.710040Z",
     "iopub.status.idle": "2023-02-12T17:46:06.086840Z",
     "shell.execute_reply": "2023-02-12T17:46:06.086165Z"
    }
   },
   "outputs": [
    {
     "name": "stdout",
     "output_type": "stream",
     "text": [
      "11.5 µs ± 28.1 ns per loop (mean ± std. dev. of 7 runs, 100,000 loops each)\n"
     ]
    }
   ],
   "source": [
    "%timeit Batch(**_TREE_DATA_1)"
   ]
  },
  {
   "cell_type": "markdown",
   "id": "1ab82e2d",
   "metadata": {},
   "source": [
    "## Deep Copy Operation"
   ]
  },
  {
   "cell_type": "code",
   "execution_count": 16,
   "id": "210a9442",
   "metadata": {
    "execution": {
     "iopub.execute_input": "2023-02-12T17:46:06.089804Z",
     "iopub.status.busy": "2023-02-12T17:46:06.089456Z",
     "iopub.status.idle": "2023-02-12T17:46:06.093436Z",
     "shell.execute_reply": "2023-02-12T17:46:06.092866Z"
    }
   },
   "outputs": [],
   "source": [
    "import copy"
   ]
  },
  {
   "cell_type": "markdown",
   "id": "5a736274",
   "metadata": {},
   "source": [
    "### Deep Copy of TreeValue"
   ]
  },
  {
   "cell_type": "code",
   "execution_count": 17,
   "id": "f9bcadd6",
   "metadata": {
    "execution": {
     "iopub.execute_input": "2023-02-12T17:46:06.096084Z",
     "iopub.status.busy": "2023-02-12T17:46:06.095542Z",
     "iopub.status.idle": "2023-02-12T17:46:17.001924Z",
     "shell.execute_reply": "2023-02-12T17:46:17.001339Z"
    }
   },
   "outputs": [
    {
     "name": "stdout",
     "output_type": "stream",
     "text": [
      "134 µs ± 266 ns per loop (mean ± std. dev. of 7 runs, 10,000 loops each)\n"
     ]
    }
   ],
   "source": [
    "t3 = FastTreeValue(_TREE_DATA_3)\n",
    "%timeit copy.deepcopy(t3)"
   ]
  },
  {
   "cell_type": "markdown",
   "id": "bf8be7ea",
   "metadata": {},
   "source": [
    "### Deep Copy of Tianshou Batch"
   ]
  },
  {
   "cell_type": "code",
   "execution_count": 18,
   "id": "91998e6f",
   "metadata": {
    "execution": {
     "iopub.execute_input": "2023-02-12T17:46:17.006036Z",
     "iopub.status.busy": "2023-02-12T17:46:17.005080Z",
     "iopub.status.idle": "2023-02-12T17:46:28.242864Z",
     "shell.execute_reply": "2023-02-12T17:46:28.242246Z"
    }
   },
   "outputs": [
    {
     "name": "stdout",
     "output_type": "stream",
     "text": [
      "138 µs ± 668 ns per loop (mean ± std. dev. of 7 runs, 10,000 loops each)\n"
     ]
    }
   ],
   "source": [
    "b3 = Batch(**_TREE_DATA_3)\n",
    "%timeit copy.deepcopy(b3)"
   ]
  },
  {
   "cell_type": "markdown",
   "id": "223162fb",
   "metadata": {},
   "source": [
    "## Stack, Concat and Split Operation"
   ]
  },
  {
   "cell_type": "markdown",
   "id": "85fa4a73",
   "metadata": {},
   "source": [
    "### Performance of TreeValue"
   ]
  },
  {
   "cell_type": "code",
   "execution_count": 19,
   "id": "a0c2b697",
   "metadata": {
    "execution": {
     "iopub.execute_input": "2023-02-12T17:46:28.246825Z",
     "iopub.status.busy": "2023-02-12T17:46:28.245941Z",
     "iopub.status.idle": "2023-02-12T17:46:28.249555Z",
     "shell.execute_reply": "2023-02-12T17:46:28.249039Z"
    }
   },
   "outputs": [],
   "source": [
    "trees = [FastTreeValue(_TREE_DATA_2) for _ in range(8)]"
   ]
  },
  {
   "cell_type": "code",
   "execution_count": 20,
   "id": "017ea5a5",
   "metadata": {
    "execution": {
     "iopub.execute_input": "2023-02-12T17:46:28.251984Z",
     "iopub.status.busy": "2023-02-12T17:46:28.251635Z",
     "iopub.status.idle": "2023-02-12T17:46:28.258345Z",
     "shell.execute_reply": "2023-02-12T17:46:28.257800Z"
    }
   },
   "outputs": [
    {
     "data": {
      "text/plain": [
       "<FastTreeValue 0x7fc40e7b8a60>\n",
       "├── 'a' --> tensor([[[ 0.0973,  0.9077,  0.9042],\n",
       "│                    [-0.1918,  0.9390,  0.5160]],\n",
       "│           \n",
       "│                   [[ 0.0973,  0.9077,  0.9042],\n",
       "│                    [-0.1918,  0.9390,  0.5160]],\n",
       "│           \n",
       "│                   [[ 0.0973,  0.9077,  0.9042],\n",
       "│                    [-0.1918,  0.9390,  0.5160]],\n",
       "│           \n",
       "│                   [[ 0.0973,  0.9077,  0.9042],\n",
       "│                    [-0.1918,  0.9390,  0.5160]],\n",
       "│           \n",
       "│                   [[ 0.0973,  0.9077,  0.9042],\n",
       "│                    [-0.1918,  0.9390,  0.5160]],\n",
       "│           \n",
       "│                   [[ 0.0973,  0.9077,  0.9042],\n",
       "│                    [-0.1918,  0.9390,  0.5160]],\n",
       "│           \n",
       "│                   [[ 0.0973,  0.9077,  0.9042],\n",
       "│                    [-0.1918,  0.9390,  0.5160]],\n",
       "│           \n",
       "│                   [[ 0.0973,  0.9077,  0.9042],\n",
       "│                    [-0.1918,  0.9390,  0.5160]]])\n",
       "└── 'x' --> <FastTreeValue 0x7fc40e7b8850>\n",
       "    └── 'c' --> tensor([[[-1.1935, -0.9629, -0.5751,  1.0858],\n",
       "                         [ 1.5296,  0.4821,  0.2280,  0.8139],\n",
       "                         [ 0.1560, -0.4275, -0.7215, -0.3529]],\n",
       "                \n",
       "                        [[-1.1935, -0.9629, -0.5751,  1.0858],\n",
       "                         [ 1.5296,  0.4821,  0.2280,  0.8139],\n",
       "                         [ 0.1560, -0.4275, -0.7215, -0.3529]],\n",
       "                \n",
       "                        [[-1.1935, -0.9629, -0.5751,  1.0858],\n",
       "                         [ 1.5296,  0.4821,  0.2280,  0.8139],\n",
       "                         [ 0.1560, -0.4275, -0.7215, -0.3529]],\n",
       "                \n",
       "                        [[-1.1935, -0.9629, -0.5751,  1.0858],\n",
       "                         [ 1.5296,  0.4821,  0.2280,  0.8139],\n",
       "                         [ 0.1560, -0.4275, -0.7215, -0.3529]],\n",
       "                \n",
       "                        [[-1.1935, -0.9629, -0.5751,  1.0858],\n",
       "                         [ 1.5296,  0.4821,  0.2280,  0.8139],\n",
       "                         [ 0.1560, -0.4275, -0.7215, -0.3529]],\n",
       "                \n",
       "                        [[-1.1935, -0.9629, -0.5751,  1.0858],\n",
       "                         [ 1.5296,  0.4821,  0.2280,  0.8139],\n",
       "                         [ 0.1560, -0.4275, -0.7215, -0.3529]],\n",
       "                \n",
       "                        [[-1.1935, -0.9629, -0.5751,  1.0858],\n",
       "                         [ 1.5296,  0.4821,  0.2280,  0.8139],\n",
       "                         [ 0.1560, -0.4275, -0.7215, -0.3529]],\n",
       "                \n",
       "                        [[-1.1935, -0.9629, -0.5751,  1.0858],\n",
       "                         [ 1.5296,  0.4821,  0.2280,  0.8139],\n",
       "                         [ 0.1560, -0.4275, -0.7215, -0.3529]]])"
      ]
     },
     "execution_count": 20,
     "metadata": {},
     "output_type": "execute_result"
    }
   ],
   "source": [
    "t_stack = FastTreeValue.func(subside=True)(torch.stack)\n",
    "\n",
    "t_stack(trees)"
   ]
  },
  {
   "cell_type": "code",
   "execution_count": 21,
   "id": "f8b3f415",
   "metadata": {
    "execution": {
     "iopub.execute_input": "2023-02-12T17:46:28.260781Z",
     "iopub.status.busy": "2023-02-12T17:46:28.260450Z",
     "iopub.status.idle": "2023-02-12T17:46:30.854066Z",
     "shell.execute_reply": "2023-02-12T17:46:30.853318Z"
    }
   },
   "outputs": [
    {
     "name": "stdout",
     "output_type": "stream",
     "text": [
      "32 µs ± 1.02 µs per loop (mean ± std. dev. of 7 runs, 10,000 loops each)\n"
     ]
    }
   ],
   "source": [
    "%timeit t_stack(trees)"
   ]
  },
  {
   "cell_type": "code",
   "execution_count": 22,
   "id": "94b56771",
   "metadata": {
    "execution": {
     "iopub.execute_input": "2023-02-12T17:46:30.857515Z",
     "iopub.status.busy": "2023-02-12T17:46:30.857126Z",
     "iopub.status.idle": "2023-02-12T17:46:30.864387Z",
     "shell.execute_reply": "2023-02-12T17:46:30.863735Z"
    }
   },
   "outputs": [
    {
     "data": {
      "text/plain": [
       "<FastTreeValue 0x7fc4b4af34c0>\n",
       "├── 'a' --> tensor([[ 0.0973,  0.9077,  0.9042],\n",
       "│                   [-0.1918,  0.9390,  0.5160],\n",
       "│                   [ 0.0973,  0.9077,  0.9042],\n",
       "│                   [-0.1918,  0.9390,  0.5160],\n",
       "│                   [ 0.0973,  0.9077,  0.9042],\n",
       "│                   [-0.1918,  0.9390,  0.5160],\n",
       "│                   [ 0.0973,  0.9077,  0.9042],\n",
       "│                   [-0.1918,  0.9390,  0.5160],\n",
       "│                   [ 0.0973,  0.9077,  0.9042],\n",
       "│                   [-0.1918,  0.9390,  0.5160],\n",
       "│                   [ 0.0973,  0.9077,  0.9042],\n",
       "│                   [-0.1918,  0.9390,  0.5160],\n",
       "│                   [ 0.0973,  0.9077,  0.9042],\n",
       "│                   [-0.1918,  0.9390,  0.5160],\n",
       "│                   [ 0.0973,  0.9077,  0.9042],\n",
       "│                   [-0.1918,  0.9390,  0.5160]])\n",
       "└── 'x' --> <FastTreeValue 0x7fc4b4af3160>\n",
       "    └── 'c' --> tensor([[-1.1935, -0.9629, -0.5751,  1.0858],\n",
       "                        [ 1.5296,  0.4821,  0.2280,  0.8139],\n",
       "                        [ 0.1560, -0.4275, -0.7215, -0.3529],\n",
       "                        [-1.1935, -0.9629, -0.5751,  1.0858],\n",
       "                        [ 1.5296,  0.4821,  0.2280,  0.8139],\n",
       "                        [ 0.1560, -0.4275, -0.7215, -0.3529],\n",
       "                        [-1.1935, -0.9629, -0.5751,  1.0858],\n",
       "                        [ 1.5296,  0.4821,  0.2280,  0.8139],\n",
       "                        [ 0.1560, -0.4275, -0.7215, -0.3529],\n",
       "                        [-1.1935, -0.9629, -0.5751,  1.0858],\n",
       "                        [ 1.5296,  0.4821,  0.2280,  0.8139],\n",
       "                        [ 0.1560, -0.4275, -0.7215, -0.3529],\n",
       "                        [-1.1935, -0.9629, -0.5751,  1.0858],\n",
       "                        [ 1.5296,  0.4821,  0.2280,  0.8139],\n",
       "                        [ 0.1560, -0.4275, -0.7215, -0.3529],\n",
       "                        [-1.1935, -0.9629, -0.5751,  1.0858],\n",
       "                        [ 1.5296,  0.4821,  0.2280,  0.8139],\n",
       "                        [ 0.1560, -0.4275, -0.7215, -0.3529],\n",
       "                        [-1.1935, -0.9629, -0.5751,  1.0858],\n",
       "                        [ 1.5296,  0.4821,  0.2280,  0.8139],\n",
       "                        [ 0.1560, -0.4275, -0.7215, -0.3529],\n",
       "                        [-1.1935, -0.9629, -0.5751,  1.0858],\n",
       "                        [ 1.5296,  0.4821,  0.2280,  0.8139],\n",
       "                        [ 0.1560, -0.4275, -0.7215, -0.3529]])"
      ]
     },
     "execution_count": 22,
     "metadata": {},
     "output_type": "execute_result"
    }
   ],
   "source": [
    "t_cat = FastTreeValue.func(subside=True)(torch.cat)\n",
    "\n",
    "t_cat(trees)"
   ]
  },
  {
   "cell_type": "code",
   "execution_count": 23,
   "id": "5e9c06a6",
   "metadata": {
    "execution": {
     "iopub.execute_input": "2023-02-12T17:46:30.867086Z",
     "iopub.status.busy": "2023-02-12T17:46:30.866530Z",
     "iopub.status.idle": "2023-02-12T17:46:33.309951Z",
     "shell.execute_reply": "2023-02-12T17:46:33.309234Z"
    }
   },
   "outputs": [
    {
     "name": "stdout",
     "output_type": "stream",
     "text": [
      "30 µs ± 135 ns per loop (mean ± std. dev. of 7 runs, 10,000 loops each)\n"
     ]
    }
   ],
   "source": [
    "%timeit t_cat(trees)"
   ]
  },
  {
   "cell_type": "code",
   "execution_count": 24,
   "id": "a3ab5c8f",
   "metadata": {
    "execution": {
     "iopub.execute_input": "2023-02-12T17:46:33.312744Z",
     "iopub.status.busy": "2023-02-12T17:46:33.312407Z",
     "iopub.status.idle": "2023-02-12T17:46:37.981782Z",
     "shell.execute_reply": "2023-02-12T17:46:37.980949Z"
    }
   },
   "outputs": [
    {
     "name": "stdout",
     "output_type": "stream",
     "text": [
      "57.4 µs ± 279 ns per loop (mean ± std. dev. of 7 runs, 10,000 loops each)\n"
     ]
    }
   ],
   "source": [
    "t_split = FastTreeValue.func(rise=True)(torch.split)\n",
    "tree = FastTreeValue({\n",
    "    'obs': torch.randn(8, 4, 84, 84),\n",
    "    'action': torch.randint(0, 6, size=(8, 1,)),\n",
    "    'reward': torch.rand(8, 1),\n",
    "})\n",
    "\n",
    "%timeit t_split(tree, 1)"
   ]
  },
  {
   "cell_type": "markdown",
   "id": "31c3ec0b",
   "metadata": {},
   "source": [
    "### Performance of Tianshou Batch"
   ]
  },
  {
   "cell_type": "code",
   "execution_count": 25,
   "id": "9ead828a",
   "metadata": {
    "execution": {
     "iopub.execute_input": "2023-02-12T17:46:37.984990Z",
     "iopub.status.busy": "2023-02-12T17:46:37.984487Z",
     "iopub.status.idle": "2023-02-12T17:46:37.992119Z",
     "shell.execute_reply": "2023-02-12T17:46:37.991439Z"
    }
   },
   "outputs": [
    {
     "data": {
      "text/plain": [
       "Batch(\n",
       "    a: tensor([[[ 0.0973,  0.9077,  0.9042],\n",
       "                [-0.1918,  0.9390,  0.5160]],\n",
       "       \n",
       "               [[ 0.0973,  0.9077,  0.9042],\n",
       "                [-0.1918,  0.9390,  0.5160]],\n",
       "       \n",
       "               [[ 0.0973,  0.9077,  0.9042],\n",
       "                [-0.1918,  0.9390,  0.5160]],\n",
       "       \n",
       "               [[ 0.0973,  0.9077,  0.9042],\n",
       "                [-0.1918,  0.9390,  0.5160]],\n",
       "       \n",
       "               [[ 0.0973,  0.9077,  0.9042],\n",
       "                [-0.1918,  0.9390,  0.5160]],\n",
       "       \n",
       "               [[ 0.0973,  0.9077,  0.9042],\n",
       "                [-0.1918,  0.9390,  0.5160]],\n",
       "       \n",
       "               [[ 0.0973,  0.9077,  0.9042],\n",
       "                [-0.1918,  0.9390,  0.5160]],\n",
       "       \n",
       "               [[ 0.0973,  0.9077,  0.9042],\n",
       "                [-0.1918,  0.9390,  0.5160]]]),\n",
       "    x: Batch(\n",
       "           c: tensor([[[-1.1935, -0.9629, -0.5751,  1.0858],\n",
       "                       [ 1.5296,  0.4821,  0.2280,  0.8139],\n",
       "                       [ 0.1560, -0.4275, -0.7215, -0.3529]],\n",
       "              \n",
       "                      [[-1.1935, -0.9629, -0.5751,  1.0858],\n",
       "                       [ 1.5296,  0.4821,  0.2280,  0.8139],\n",
       "                       [ 0.1560, -0.4275, -0.7215, -0.3529]],\n",
       "              \n",
       "                      [[-1.1935, -0.9629, -0.5751,  1.0858],\n",
       "                       [ 1.5296,  0.4821,  0.2280,  0.8139],\n",
       "                       [ 0.1560, -0.4275, -0.7215, -0.3529]],\n",
       "              \n",
       "                      [[-1.1935, -0.9629, -0.5751,  1.0858],\n",
       "                       [ 1.5296,  0.4821,  0.2280,  0.8139],\n",
       "                       [ 0.1560, -0.4275, -0.7215, -0.3529]],\n",
       "              \n",
       "                      [[-1.1935, -0.9629, -0.5751,  1.0858],\n",
       "                       [ 1.5296,  0.4821,  0.2280,  0.8139],\n",
       "                       [ 0.1560, -0.4275, -0.7215, -0.3529]],\n",
       "              \n",
       "                      [[-1.1935, -0.9629, -0.5751,  1.0858],\n",
       "                       [ 1.5296,  0.4821,  0.2280,  0.8139],\n",
       "                       [ 0.1560, -0.4275, -0.7215, -0.3529]],\n",
       "              \n",
       "                      [[-1.1935, -0.9629, -0.5751,  1.0858],\n",
       "                       [ 1.5296,  0.4821,  0.2280,  0.8139],\n",
       "                       [ 0.1560, -0.4275, -0.7215, -0.3529]],\n",
       "              \n",
       "                      [[-1.1935, -0.9629, -0.5751,  1.0858],\n",
       "                       [ 1.5296,  0.4821,  0.2280,  0.8139],\n",
       "                       [ 0.1560, -0.4275, -0.7215, -0.3529]]]),\n",
       "       ),\n",
       ")"
      ]
     },
     "execution_count": 25,
     "metadata": {},
     "output_type": "execute_result"
    }
   ],
   "source": [
    "batches = [Batch(**_TREE_DATA_2) for _ in range(8)]\n",
    "\n",
    "Batch.stack(batches)"
   ]
  },
  {
   "cell_type": "code",
   "execution_count": 26,
   "id": "ec9037a3",
   "metadata": {
    "execution": {
     "iopub.execute_input": "2023-02-12T17:46:37.994629Z",
     "iopub.status.busy": "2023-02-12T17:46:37.994307Z",
     "iopub.status.idle": "2023-02-12T17:46:44.377682Z",
     "shell.execute_reply": "2023-02-12T17:46:44.376942Z"
    }
   },
   "outputs": [
    {
     "name": "stdout",
     "output_type": "stream",
     "text": [
      "78.6 µs ± 169 ns per loop (mean ± std. dev. of 7 runs, 10,000 loops each)\n"
     ]
    }
   ],
   "source": [
    "%timeit Batch.stack(batches)"
   ]
  },
  {
   "cell_type": "code",
   "execution_count": 27,
   "id": "cb8ab77e",
   "metadata": {
    "execution": {
     "iopub.execute_input": "2023-02-12T17:46:44.380628Z",
     "iopub.status.busy": "2023-02-12T17:46:44.380078Z",
     "iopub.status.idle": "2023-02-12T17:46:44.389018Z",
     "shell.execute_reply": "2023-02-12T17:46:44.388033Z"
    }
   },
   "outputs": [
    {
     "data": {
      "text/plain": [
       "Batch(\n",
       "    a: tensor([[ 0.0973,  0.9077,  0.9042],\n",
       "               [-0.1918,  0.9390,  0.5160],\n",
       "               [ 0.0973,  0.9077,  0.9042],\n",
       "               [-0.1918,  0.9390,  0.5160],\n",
       "               [ 0.0973,  0.9077,  0.9042],\n",
       "               [-0.1918,  0.9390,  0.5160],\n",
       "               [ 0.0973,  0.9077,  0.9042],\n",
       "               [-0.1918,  0.9390,  0.5160],\n",
       "               [ 0.0973,  0.9077,  0.9042],\n",
       "               [-0.1918,  0.9390,  0.5160],\n",
       "               [ 0.0973,  0.9077,  0.9042],\n",
       "               [-0.1918,  0.9390,  0.5160],\n",
       "               [ 0.0973,  0.9077,  0.9042],\n",
       "               [-0.1918,  0.9390,  0.5160],\n",
       "               [ 0.0973,  0.9077,  0.9042],\n",
       "               [-0.1918,  0.9390,  0.5160]]),\n",
       "    x: Batch(\n",
       "           c: tensor([[-1.1935, -0.9629, -0.5751,  1.0858],\n",
       "                      [ 1.5296,  0.4821,  0.2280,  0.8139],\n",
       "                      [ 0.1560, -0.4275, -0.7215, -0.3529],\n",
       "                      [-1.1935, -0.9629, -0.5751,  1.0858],\n",
       "                      [ 1.5296,  0.4821,  0.2280,  0.8139],\n",
       "                      [ 0.1560, -0.4275, -0.7215, -0.3529],\n",
       "                      [-1.1935, -0.9629, -0.5751,  1.0858],\n",
       "                      [ 1.5296,  0.4821,  0.2280,  0.8139],\n",
       "                      [ 0.1560, -0.4275, -0.7215, -0.3529],\n",
       "                      [-1.1935, -0.9629, -0.5751,  1.0858],\n",
       "                      [ 1.5296,  0.4821,  0.2280,  0.8139],\n",
       "                      [ 0.1560, -0.4275, -0.7215, -0.3529],\n",
       "                      [-1.1935, -0.9629, -0.5751,  1.0858],\n",
       "                      [ 1.5296,  0.4821,  0.2280,  0.8139],\n",
       "                      [ 0.1560, -0.4275, -0.7215, -0.3529],\n",
       "                      [-1.1935, -0.9629, -0.5751,  1.0858],\n",
       "                      [ 1.5296,  0.4821,  0.2280,  0.8139],\n",
       "                      [ 0.1560, -0.4275, -0.7215, -0.3529],\n",
       "                      [-1.1935, -0.9629, -0.5751,  1.0858],\n",
       "                      [ 1.5296,  0.4821,  0.2280,  0.8139],\n",
       "                      [ 0.1560, -0.4275, -0.7215, -0.3529],\n",
       "                      [-1.1935, -0.9629, -0.5751,  1.0858],\n",
       "                      [ 1.5296,  0.4821,  0.2280,  0.8139],\n",
       "                      [ 0.1560, -0.4275, -0.7215, -0.3529]]),\n",
       "       ),\n",
       ")"
      ]
     },
     "execution_count": 27,
     "metadata": {},
     "output_type": "execute_result"
    }
   ],
   "source": [
    "Batch.cat(batches)"
   ]
  },
  {
   "cell_type": "code",
   "execution_count": 28,
   "id": "18dfb045",
   "metadata": {
    "execution": {
     "iopub.execute_input": "2023-02-12T17:46:44.391813Z",
     "iopub.status.busy": "2023-02-12T17:46:44.391490Z",
     "iopub.status.idle": "2023-02-12T17:46:55.979941Z",
     "shell.execute_reply": "2023-02-12T17:46:55.979227Z"
    }
   },
   "outputs": [
    {
     "name": "stdout",
     "output_type": "stream",
     "text": [
      "143 µs ± 325 ns per loop (mean ± std. dev. of 7 runs, 10,000 loops each)\n"
     ]
    }
   ],
   "source": [
    "%timeit Batch.cat(batches)"
   ]
  },
  {
   "cell_type": "code",
   "execution_count": 29,
   "id": "c6688e51",
   "metadata": {
    "execution": {
     "iopub.execute_input": "2023-02-12T17:46:55.982845Z",
     "iopub.status.busy": "2023-02-12T17:46:55.982336Z",
     "iopub.status.idle": "2023-02-12T17:46:58.481711Z",
     "shell.execute_reply": "2023-02-12T17:46:58.481133Z"
    }
   },
   "outputs": [
    {
     "name": "stdout",
     "output_type": "stream",
     "text": [
      "307 µs ± 4.59 µs per loop (mean ± std. dev. of 7 runs, 1,000 loops each)\n"
     ]
    }
   ],
   "source": [
    "batch = Batch({\n",
    "    'obs': torch.randn(8, 4, 84, 84),\n",
    "    'action': torch.randint(0, 6, size=(8, 1,)),\n",
    "    'reward': torch.rand(8, 1)}\n",
    ")\n",
    "\n",
    "%timeit list(Batch.split(batch, 1, shuffle=False, merge_last=True))"
   ]
  },
  {
   "cell_type": "code",
   "execution_count": null,
   "id": "2539fbd9",
   "metadata": {},
   "outputs": [],
   "source": []
  }
 ],
 "metadata": {
  "kernelspec": {
   "display_name": "Python 3 (ipykernel)",
   "language": "python",
   "name": "python3"
  },
  "language_info": {
   "codemirror_mode": {
    "name": "ipython",
    "version": 3
   },
   "file_extension": ".py",
   "mimetype": "text/x-python",
   "name": "python",
   "nbconvert_exporter": "python",
   "pygments_lexer": "ipython3",
   "version": "3.8.16"
  }
 },
 "nbformat": 4,
 "nbformat_minor": 5
}
