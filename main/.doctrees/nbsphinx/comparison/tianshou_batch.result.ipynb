{
 "cells": [
  {
   "cell_type": "markdown",
   "id": "9d39d946",
   "metadata": {},
   "source": [
    "# Comparison Between TreeValue and Tianshou Batch"
   ]
  },
  {
   "cell_type": "markdown",
   "id": "3c6db2d4",
   "metadata": {},
   "source": [
    "In this section, we will take a look at the feature and performance of the [Tianshou Batch](https://github.com/thu-ml/tianshou) library, which is developed by Tsinghua Machine Learning Group."
   ]
  },
  {
   "cell_type": "markdown",
   "id": "069361b0",
   "metadata": {},
   "source": [
    "Before starting the comparison, let us define some thing."
   ]
  },
  {
   "cell_type": "code",
   "execution_count": 1,
   "id": "06fc8d26",
   "metadata": {
    "execution": {
     "iopub.execute_input": "2023-02-26T14:16:40.860377Z",
     "iopub.status.busy": "2023-02-26T14:16:40.860152Z",
     "iopub.status.idle": "2023-02-26T14:16:41.758509Z",
     "shell.execute_reply": "2023-02-26T14:16:41.757860Z"
    }
   },
   "outputs": [
    {
     "name": "stderr",
     "output_type": "stream",
     "text": [
      "/opt/hostedtoolcache/Python/3.8.16/x64/lib/python3.8/site-packages/tqdm/auto.py:22: TqdmWarning: IProgress not found. Please update jupyter and ipywidgets. See https://ipywidgets.readthedocs.io/en/stable/user_install.html\n",
      "  from .autonotebook import tqdm as notebook_tqdm\n"
     ]
    }
   ],
   "source": [
    "import torch \n",
    "\n",
    "_TREE_DATA_1 = {'a': 1, 'b': 2, 'x': {'c': 3, 'd': 4}}\n",
    "_TREE_DATA_2 = {\n",
    "    'a': torch.randn(2, 3), \n",
    "    'x': {\n",
    "        'c': torch.randn(3, 4)\n",
    "    },\n",
    "}\n",
    "_TREE_DATA_3 = {\n",
    "    'obs': torch.randn(4, 84, 84),\n",
    "    'action': torch.randint(0, 6, size=(1,)),\n",
    "    'reward': torch.rand(1),\n",
    "}"
   ]
  },
  {
   "cell_type": "markdown",
   "id": "83461b25",
   "metadata": {},
   "source": [
    "## Read and Write Operation"
   ]
  },
  {
   "cell_type": "markdown",
   "id": "067b3f73",
   "metadata": {},
   "source": [
    "Reading and writing are the two most common operations in the tree data structure based on the data model (TreeValue and Tianshou Batch both belong to this type), so this section will compare the reading and writing performance of these two libraries."
   ]
  },
  {
   "cell_type": "markdown",
   "id": "5d09a5b7",
   "metadata": {},
   "source": [
    "### TreeValue's Get and Set"
   ]
  },
  {
   "cell_type": "code",
   "execution_count": 2,
   "id": "9519c4bb",
   "metadata": {
    "execution": {
     "iopub.execute_input": "2023-02-26T14:16:41.761905Z",
     "iopub.status.busy": "2023-02-26T14:16:41.761261Z",
     "iopub.status.idle": "2023-02-26T14:16:41.793902Z",
     "shell.execute_reply": "2023-02-26T14:16:41.793313Z"
    }
   },
   "outputs": [],
   "source": [
    "from treevalue import FastTreeValue\n",
    "\n",
    "t = FastTreeValue(_TREE_DATA_2)"
   ]
  },
  {
   "cell_type": "code",
   "execution_count": 3,
   "id": "11c37677",
   "metadata": {
    "execution": {
     "iopub.execute_input": "2023-02-26T14:16:41.796686Z",
     "iopub.status.busy": "2023-02-26T14:16:41.796354Z",
     "iopub.status.idle": "2023-02-26T14:16:41.805376Z",
     "shell.execute_reply": "2023-02-26T14:16:41.804791Z"
    }
   },
   "outputs": [
    {
     "data": {
      "text/plain": [
       "<FastTreeValue 0x7fcc5c1d9790>\n",
       "├── 'a' --> tensor([[ 0.6640,  0.9327,  0.2144],\n",
       "│                   [ 1.1268,  0.2577, -0.2982]])\n",
       "└── 'x' --> <FastTreeValue 0x7fcc5c1d9820>\n",
       "    └── 'c' --> tensor([[ 0.8634,  0.4731, -0.9239, -0.3876],\n",
       "                        [-1.2594, -1.0365, -1.8159, -0.1455],\n",
       "                        [ 2.0740, -0.0498,  1.8884,  1.4686]])"
      ]
     },
     "execution_count": 3,
     "metadata": {},
     "output_type": "execute_result"
    }
   ],
   "source": [
    "t"
   ]
  },
  {
   "cell_type": "code",
   "execution_count": 4,
   "id": "fd70b0b9",
   "metadata": {
    "execution": {
     "iopub.execute_input": "2023-02-26T14:16:41.807979Z",
     "iopub.status.busy": "2023-02-26T14:16:41.807451Z",
     "iopub.status.idle": "2023-02-26T14:16:41.812582Z",
     "shell.execute_reply": "2023-02-26T14:16:41.812017Z"
    }
   },
   "outputs": [
    {
     "data": {
      "text/plain": [
       "tensor([[ 0.6640,  0.9327,  0.2144],\n",
       "        [ 1.1268,  0.2577, -0.2982]])"
      ]
     },
     "execution_count": 4,
     "metadata": {},
     "output_type": "execute_result"
    }
   ],
   "source": [
    "t.a"
   ]
  },
  {
   "cell_type": "code",
   "execution_count": 5,
   "id": "c18197bd",
   "metadata": {
    "execution": {
     "iopub.execute_input": "2023-02-26T14:16:41.815345Z",
     "iopub.status.busy": "2023-02-26T14:16:41.814886Z",
     "iopub.status.idle": "2023-02-26T14:16:47.046839Z",
     "shell.execute_reply": "2023-02-26T14:16:47.046121Z"
    }
   },
   "outputs": [
    {
     "name": "stdout",
     "output_type": "stream",
     "text": [
      "64.6 ns ± 0.0333 ns per loop (mean ± std. dev. of 7 runs, 10,000,000 loops each)\n"
     ]
    }
   ],
   "source": [
    "%timeit t.a"
   ]
  },
  {
   "cell_type": "code",
   "execution_count": 6,
   "id": "bd52f867",
   "metadata": {
    "execution": {
     "iopub.execute_input": "2023-02-26T14:16:47.049971Z",
     "iopub.status.busy": "2023-02-26T14:16:47.049473Z",
     "iopub.status.idle": "2023-02-26T14:16:47.056064Z",
     "shell.execute_reply": "2023-02-26T14:16:47.055493Z"
    }
   },
   "outputs": [
    {
     "data": {
      "text/plain": [
       "<FastTreeValue 0x7fcc5c1d9790>\n",
       "├── 'a' --> tensor([[ 1.6027, -1.1830,  1.1468],\n",
       "│                   [ 0.8017,  0.4256,  1.4531]])\n",
       "└── 'x' --> <FastTreeValue 0x7fcc5c1d9820>\n",
       "    └── 'c' --> tensor([[ 0.8634,  0.4731, -0.9239, -0.3876],\n",
       "                        [-1.2594, -1.0365, -1.8159, -0.1455],\n",
       "                        [ 2.0740, -0.0498,  1.8884,  1.4686]])"
      ]
     },
     "execution_count": 6,
     "metadata": {},
     "output_type": "execute_result"
    }
   ],
   "source": [
    "new_value = torch.randn(2, 3)\n",
    "t.a = new_value\n",
    "\n",
    "t"
   ]
  },
  {
   "cell_type": "code",
   "execution_count": 7,
   "id": "bbe04d1c",
   "metadata": {
    "execution": {
     "iopub.execute_input": "2023-02-26T14:16:47.058483Z",
     "iopub.status.busy": "2023-02-26T14:16:47.058142Z",
     "iopub.status.idle": "2023-02-26T14:16:52.288182Z",
     "shell.execute_reply": "2023-02-26T14:16:52.287470Z"
    }
   },
   "outputs": [
    {
     "name": "stdout",
     "output_type": "stream",
     "text": [
      "64.4 ns ± 0.0482 ns per loop (mean ± std. dev. of 7 runs, 10,000,000 loops each)\n"
     ]
    }
   ],
   "source": [
    "%timeit t.a = new_value"
   ]
  },
  {
   "cell_type": "markdown",
   "id": "48c49731",
   "metadata": {},
   "source": [
    "### Tianshou Batch's Get and Set"
   ]
  },
  {
   "cell_type": "code",
   "execution_count": 8,
   "id": "f1bb14c1",
   "metadata": {
    "execution": {
     "iopub.execute_input": "2023-02-26T14:16:52.290950Z",
     "iopub.status.busy": "2023-02-26T14:16:52.290590Z",
     "iopub.status.idle": "2023-02-26T14:16:52.616715Z",
     "shell.execute_reply": "2023-02-26T14:16:52.616057Z"
    }
   },
   "outputs": [],
   "source": [
    "from tianshou.data import Batch\n",
    "\n",
    "b = Batch(**_TREE_DATA_2)"
   ]
  },
  {
   "cell_type": "code",
   "execution_count": 9,
   "id": "cb0777c3",
   "metadata": {
    "execution": {
     "iopub.execute_input": "2023-02-26T14:16:52.619725Z",
     "iopub.status.busy": "2023-02-26T14:16:52.619283Z",
     "iopub.status.idle": "2023-02-26T14:16:52.624617Z",
     "shell.execute_reply": "2023-02-26T14:16:52.623986Z"
    }
   },
   "outputs": [
    {
     "data": {
      "text/plain": [
       "Batch(\n",
       "    a: tensor([[ 0.6640,  0.9327,  0.2144],\n",
       "               [ 1.1268,  0.2577, -0.2982]]),\n",
       "    x: Batch(\n",
       "           c: tensor([[ 0.8634,  0.4731, -0.9239, -0.3876],\n",
       "                      [-1.2594, -1.0365, -1.8159, -0.1455],\n",
       "                      [ 2.0740, -0.0498,  1.8884,  1.4686]]),\n",
       "       ),\n",
       ")"
      ]
     },
     "execution_count": 9,
     "metadata": {},
     "output_type": "execute_result"
    }
   ],
   "source": [
    "b"
   ]
  },
  {
   "cell_type": "code",
   "execution_count": 10,
   "id": "43ef8ea3",
   "metadata": {
    "execution": {
     "iopub.execute_input": "2023-02-26T14:16:52.627198Z",
     "iopub.status.busy": "2023-02-26T14:16:52.626866Z",
     "iopub.status.idle": "2023-02-26T14:16:52.631479Z",
     "shell.execute_reply": "2023-02-26T14:16:52.630866Z"
    }
   },
   "outputs": [
    {
     "data": {
      "text/plain": [
       "tensor([[ 0.6640,  0.9327,  0.2144],\n",
       "        [ 1.1268,  0.2577, -0.2982]])"
      ]
     },
     "execution_count": 10,
     "metadata": {},
     "output_type": "execute_result"
    }
   ],
   "source": [
    "b.a"
   ]
  },
  {
   "cell_type": "code",
   "execution_count": 11,
   "id": "b785ab72",
   "metadata": {
    "execution": {
     "iopub.execute_input": "2023-02-26T14:16:52.634137Z",
     "iopub.status.busy": "2023-02-26T14:16:52.633644Z",
     "iopub.status.idle": "2023-02-26T14:16:56.797608Z",
     "shell.execute_reply": "2023-02-26T14:16:56.796957Z"
    }
   },
   "outputs": [
    {
     "name": "stdout",
     "output_type": "stream",
     "text": [
      "51.1 ns ± 0.0371 ns per loop (mean ± std. dev. of 7 runs, 10,000,000 loops each)\n"
     ]
    }
   ],
   "source": [
    "%timeit b.a"
   ]
  },
  {
   "cell_type": "code",
   "execution_count": 12,
   "id": "ad54dc69",
   "metadata": {
    "execution": {
     "iopub.execute_input": "2023-02-26T14:16:56.800853Z",
     "iopub.status.busy": "2023-02-26T14:16:56.800226Z",
     "iopub.status.idle": "2023-02-26T14:16:56.809182Z",
     "shell.execute_reply": "2023-02-26T14:16:56.808537Z"
    }
   },
   "outputs": [
    {
     "data": {
      "text/plain": [
       "Batch(\n",
       "    a: tensor([[-0.7785,  1.0169, -1.0686],\n",
       "               [-0.8001, -0.3069,  0.2876]]),\n",
       "    x: Batch(\n",
       "           c: tensor([[ 0.8634,  0.4731, -0.9239, -0.3876],\n",
       "                      [-1.2594, -1.0365, -1.8159, -0.1455],\n",
       "                      [ 2.0740, -0.0498,  1.8884,  1.4686]]),\n",
       "       ),\n",
       ")"
      ]
     },
     "execution_count": 12,
     "metadata": {},
     "output_type": "execute_result"
    }
   ],
   "source": [
    "new_value = torch.randn(2, 3)\n",
    "b.a = new_value\n",
    "\n",
    "b"
   ]
  },
  {
   "cell_type": "code",
   "execution_count": 13,
   "id": "29b1d0bf",
   "metadata": {
    "execution": {
     "iopub.execute_input": "2023-02-26T14:16:56.812650Z",
     "iopub.status.busy": "2023-02-26T14:16:56.811624Z",
     "iopub.status.idle": "2023-02-26T14:17:00.751540Z",
     "shell.execute_reply": "2023-02-26T14:17:00.750810Z"
    }
   },
   "outputs": [
    {
     "name": "stdout",
     "output_type": "stream",
     "text": [
      "485 ns ± 1.19 ns per loop (mean ± std. dev. of 7 runs, 1,000,000 loops each)\n"
     ]
    }
   ],
   "source": [
    "%timeit b.a = new_value"
   ]
  },
  {
   "cell_type": "markdown",
   "id": "b61ad1d0",
   "metadata": {},
   "source": [
    "## Initialization"
   ]
  },
  {
   "cell_type": "markdown",
   "id": "d70f0d54",
   "metadata": {},
   "source": [
    "### TreeValue's Initialization"
   ]
  },
  {
   "cell_type": "code",
   "execution_count": 14,
   "id": "d32a679b",
   "metadata": {
    "execution": {
     "iopub.execute_input": "2023-02-26T14:17:00.754805Z",
     "iopub.status.busy": "2023-02-26T14:17:00.754290Z",
     "iopub.status.idle": "2023-02-26T14:17:07.741271Z",
     "shell.execute_reply": "2023-02-26T14:17:07.740337Z"
    }
   },
   "outputs": [
    {
     "name": "stdout",
     "output_type": "stream",
     "text": [
      "860 ns ± 0.292 ns per loop (mean ± std. dev. of 7 runs, 1,000,000 loops each)\n"
     ]
    }
   ],
   "source": [
    "%timeit FastTreeValue(_TREE_DATA_1)"
   ]
  },
  {
   "cell_type": "markdown",
   "id": "24f3707b",
   "metadata": {},
   "source": [
    "### Tianshou Batch's Initialization"
   ]
  },
  {
   "cell_type": "code",
   "execution_count": 15,
   "id": "ac3958df",
   "metadata": {
    "execution": {
     "iopub.execute_input": "2023-02-26T14:17:07.744564Z",
     "iopub.status.busy": "2023-02-26T14:17:07.744011Z",
     "iopub.status.idle": "2023-02-26T14:17:16.994653Z",
     "shell.execute_reply": "2023-02-26T14:17:16.993948Z"
    }
   },
   "outputs": [
    {
     "name": "stdout",
     "output_type": "stream",
     "text": [
      "11.4 µs ± 175 ns per loop (mean ± std. dev. of 7 runs, 100,000 loops each)\n"
     ]
    }
   ],
   "source": [
    "%timeit Batch(**_TREE_DATA_1)"
   ]
  },
  {
   "cell_type": "markdown",
   "id": "1ab82e2d",
   "metadata": {},
   "source": [
    "## Deep Copy Operation"
   ]
  },
  {
   "cell_type": "code",
   "execution_count": 16,
   "id": "210a9442",
   "metadata": {
    "execution": {
     "iopub.execute_input": "2023-02-26T14:17:16.997814Z",
     "iopub.status.busy": "2023-02-26T14:17:16.997459Z",
     "iopub.status.idle": "2023-02-26T14:17:17.001406Z",
     "shell.execute_reply": "2023-02-26T14:17:17.000825Z"
    }
   },
   "outputs": [],
   "source": [
    "import copy"
   ]
  },
  {
   "cell_type": "markdown",
   "id": "5a736274",
   "metadata": {},
   "source": [
    "### Deep Copy of TreeValue"
   ]
  },
  {
   "cell_type": "code",
   "execution_count": 17,
   "id": "f9bcadd6",
   "metadata": {
    "execution": {
     "iopub.execute_input": "2023-02-26T14:17:17.004314Z",
     "iopub.status.busy": "2023-02-26T14:17:17.003764Z",
     "iopub.status.idle": "2023-02-26T14:17:28.000608Z",
     "shell.execute_reply": "2023-02-26T14:17:28.000058Z"
    }
   },
   "outputs": [
    {
     "name": "stdout",
     "output_type": "stream",
     "text": [
      "136 µs ± 534 ns per loop (mean ± std. dev. of 7 runs, 10,000 loops each)\n"
     ]
    }
   ],
   "source": [
    "t3 = FastTreeValue(_TREE_DATA_3)\n",
    "%timeit copy.deepcopy(t3)"
   ]
  },
  {
   "cell_type": "markdown",
   "id": "bf8be7ea",
   "metadata": {},
   "source": [
    "### Deep Copy of Tianshou Batch"
   ]
  },
  {
   "cell_type": "code",
   "execution_count": 18,
   "id": "91998e6f",
   "metadata": {
    "execution": {
     "iopub.execute_input": "2023-02-26T14:17:28.003565Z",
     "iopub.status.busy": "2023-02-26T14:17:28.002967Z",
     "iopub.status.idle": "2023-02-26T14:17:39.196483Z",
     "shell.execute_reply": "2023-02-26T14:17:39.195826Z"
    }
   },
   "outputs": [
    {
     "name": "stdout",
     "output_type": "stream",
     "text": [
      "138 µs ± 2.79 µs per loop (mean ± std. dev. of 7 runs, 10,000 loops each)\n"
     ]
    }
   ],
   "source": [
    "b3 = Batch(**_TREE_DATA_3)\n",
    "%timeit copy.deepcopy(b3)"
   ]
  },
  {
   "cell_type": "markdown",
   "id": "223162fb",
   "metadata": {},
   "source": [
    "## Stack, Concat and Split Operation"
   ]
  },
  {
   "cell_type": "markdown",
   "id": "85fa4a73",
   "metadata": {},
   "source": [
    "### Performance of TreeValue"
   ]
  },
  {
   "cell_type": "code",
   "execution_count": 19,
   "id": "a0c2b697",
   "metadata": {
    "execution": {
     "iopub.execute_input": "2023-02-26T14:17:39.199685Z",
     "iopub.status.busy": "2023-02-26T14:17:39.199452Z",
     "iopub.status.idle": "2023-02-26T14:17:39.203382Z",
     "shell.execute_reply": "2023-02-26T14:17:39.202797Z"
    }
   },
   "outputs": [],
   "source": [
    "trees = [FastTreeValue(_TREE_DATA_2) for _ in range(8)]"
   ]
  },
  {
   "cell_type": "code",
   "execution_count": 20,
   "id": "017ea5a5",
   "metadata": {
    "execution": {
     "iopub.execute_input": "2023-02-26T14:17:39.206112Z",
     "iopub.status.busy": "2023-02-26T14:17:39.205526Z",
     "iopub.status.idle": "2023-02-26T14:17:39.213396Z",
     "shell.execute_reply": "2023-02-26T14:17:39.212823Z"
    }
   },
   "outputs": [
    {
     "data": {
      "text/plain": [
       "<FastTreeValue 0x7fcbafeaf5e0>\n",
       "├── 'a' --> tensor([[[ 0.6640,  0.9327,  0.2144],\n",
       "│                    [ 1.1268,  0.2577, -0.2982]],\n",
       "│           \n",
       "│                   [[ 0.6640,  0.9327,  0.2144],\n",
       "│                    [ 1.1268,  0.2577, -0.2982]],\n",
       "│           \n",
       "│                   [[ 0.6640,  0.9327,  0.2144],\n",
       "│                    [ 1.1268,  0.2577, -0.2982]],\n",
       "│           \n",
       "│                   [[ 0.6640,  0.9327,  0.2144],\n",
       "│                    [ 1.1268,  0.2577, -0.2982]],\n",
       "│           \n",
       "│                   [[ 0.6640,  0.9327,  0.2144],\n",
       "│                    [ 1.1268,  0.2577, -0.2982]],\n",
       "│           \n",
       "│                   [[ 0.6640,  0.9327,  0.2144],\n",
       "│                    [ 1.1268,  0.2577, -0.2982]],\n",
       "│           \n",
       "│                   [[ 0.6640,  0.9327,  0.2144],\n",
       "│                    [ 1.1268,  0.2577, -0.2982]],\n",
       "│           \n",
       "│                   [[ 0.6640,  0.9327,  0.2144],\n",
       "│                    [ 1.1268,  0.2577, -0.2982]]])\n",
       "└── 'x' --> <FastTreeValue 0x7fcbafeaf1f0>\n",
       "    └── 'c' --> tensor([[[ 0.8634,  0.4731, -0.9239, -0.3876],\n",
       "                         [-1.2594, -1.0365, -1.8159, -0.1455],\n",
       "                         [ 2.0740, -0.0498,  1.8884,  1.4686]],\n",
       "                \n",
       "                        [[ 0.8634,  0.4731, -0.9239, -0.3876],\n",
       "                         [-1.2594, -1.0365, -1.8159, -0.1455],\n",
       "                         [ 2.0740, -0.0498,  1.8884,  1.4686]],\n",
       "                \n",
       "                        [[ 0.8634,  0.4731, -0.9239, -0.3876],\n",
       "                         [-1.2594, -1.0365, -1.8159, -0.1455],\n",
       "                         [ 2.0740, -0.0498,  1.8884,  1.4686]],\n",
       "                \n",
       "                        [[ 0.8634,  0.4731, -0.9239, -0.3876],\n",
       "                         [-1.2594, -1.0365, -1.8159, -0.1455],\n",
       "                         [ 2.0740, -0.0498,  1.8884,  1.4686]],\n",
       "                \n",
       "                        [[ 0.8634,  0.4731, -0.9239, -0.3876],\n",
       "                         [-1.2594, -1.0365, -1.8159, -0.1455],\n",
       "                         [ 2.0740, -0.0498,  1.8884,  1.4686]],\n",
       "                \n",
       "                        [[ 0.8634,  0.4731, -0.9239, -0.3876],\n",
       "                         [-1.2594, -1.0365, -1.8159, -0.1455],\n",
       "                         [ 2.0740, -0.0498,  1.8884,  1.4686]],\n",
       "                \n",
       "                        [[ 0.8634,  0.4731, -0.9239, -0.3876],\n",
       "                         [-1.2594, -1.0365, -1.8159, -0.1455],\n",
       "                         [ 2.0740, -0.0498,  1.8884,  1.4686]],\n",
       "                \n",
       "                        [[ 0.8634,  0.4731, -0.9239, -0.3876],\n",
       "                         [-1.2594, -1.0365, -1.8159, -0.1455],\n",
       "                         [ 2.0740, -0.0498,  1.8884,  1.4686]]])"
      ]
     },
     "execution_count": 20,
     "metadata": {},
     "output_type": "execute_result"
    }
   ],
   "source": [
    "t_stack = FastTreeValue.func(subside=True)(torch.stack)\n",
    "\n",
    "t_stack(trees)"
   ]
  },
  {
   "cell_type": "code",
   "execution_count": 21,
   "id": "f8b3f415",
   "metadata": {
    "execution": {
     "iopub.execute_input": "2023-02-26T14:17:39.215763Z",
     "iopub.status.busy": "2023-02-26T14:17:39.215432Z",
     "iopub.status.idle": "2023-02-26T14:17:41.904176Z",
     "shell.execute_reply": "2023-02-26T14:17:41.903536Z"
    }
   },
   "outputs": [
    {
     "name": "stdout",
     "output_type": "stream",
     "text": [
      "33.1 µs ± 74.4 ns per loop (mean ± std. dev. of 7 runs, 10,000 loops each)\n"
     ]
    }
   ],
   "source": [
    "%timeit t_stack(trees)"
   ]
  },
  {
   "cell_type": "code",
   "execution_count": 22,
   "id": "94b56771",
   "metadata": {
    "execution": {
     "iopub.execute_input": "2023-02-26T14:17:41.907402Z",
     "iopub.status.busy": "2023-02-26T14:17:41.906811Z",
     "iopub.status.idle": "2023-02-26T14:17:41.914662Z",
     "shell.execute_reply": "2023-02-26T14:17:41.914079Z"
    }
   },
   "outputs": [
    {
     "data": {
      "text/plain": [
       "<FastTreeValue 0x7fcbafeafd00>\n",
       "├── 'a' --> tensor([[ 0.6640,  0.9327,  0.2144],\n",
       "│                   [ 1.1268,  0.2577, -0.2982],\n",
       "│                   [ 0.6640,  0.9327,  0.2144],\n",
       "│                   [ 1.1268,  0.2577, -0.2982],\n",
       "│                   [ 0.6640,  0.9327,  0.2144],\n",
       "│                   [ 1.1268,  0.2577, -0.2982],\n",
       "│                   [ 0.6640,  0.9327,  0.2144],\n",
       "│                   [ 1.1268,  0.2577, -0.2982],\n",
       "│                   [ 0.6640,  0.9327,  0.2144],\n",
       "│                   [ 1.1268,  0.2577, -0.2982],\n",
       "│                   [ 0.6640,  0.9327,  0.2144],\n",
       "│                   [ 1.1268,  0.2577, -0.2982],\n",
       "│                   [ 0.6640,  0.9327,  0.2144],\n",
       "│                   [ 1.1268,  0.2577, -0.2982],\n",
       "│                   [ 0.6640,  0.9327,  0.2144],\n",
       "│                   [ 1.1268,  0.2577, -0.2982]])\n",
       "└── 'x' --> <FastTreeValue 0x7fcbafeaf760>\n",
       "    └── 'c' --> tensor([[ 0.8634,  0.4731, -0.9239, -0.3876],\n",
       "                        [-1.2594, -1.0365, -1.8159, -0.1455],\n",
       "                        [ 2.0740, -0.0498,  1.8884,  1.4686],\n",
       "                        [ 0.8634,  0.4731, -0.9239, -0.3876],\n",
       "                        [-1.2594, -1.0365, -1.8159, -0.1455],\n",
       "                        [ 2.0740, -0.0498,  1.8884,  1.4686],\n",
       "                        [ 0.8634,  0.4731, -0.9239, -0.3876],\n",
       "                        [-1.2594, -1.0365, -1.8159, -0.1455],\n",
       "                        [ 2.0740, -0.0498,  1.8884,  1.4686],\n",
       "                        [ 0.8634,  0.4731, -0.9239, -0.3876],\n",
       "                        [-1.2594, -1.0365, -1.8159, -0.1455],\n",
       "                        [ 2.0740, -0.0498,  1.8884,  1.4686],\n",
       "                        [ 0.8634,  0.4731, -0.9239, -0.3876],\n",
       "                        [-1.2594, -1.0365, -1.8159, -0.1455],\n",
       "                        [ 2.0740, -0.0498,  1.8884,  1.4686],\n",
       "                        [ 0.8634,  0.4731, -0.9239, -0.3876],\n",
       "                        [-1.2594, -1.0365, -1.8159, -0.1455],\n",
       "                        [ 2.0740, -0.0498,  1.8884,  1.4686],\n",
       "                        [ 0.8634,  0.4731, -0.9239, -0.3876],\n",
       "                        [-1.2594, -1.0365, -1.8159, -0.1455],\n",
       "                        [ 2.0740, -0.0498,  1.8884,  1.4686],\n",
       "                        [ 0.8634,  0.4731, -0.9239, -0.3876],\n",
       "                        [-1.2594, -1.0365, -1.8159, -0.1455],\n",
       "                        [ 2.0740, -0.0498,  1.8884,  1.4686]])"
      ]
     },
     "execution_count": 22,
     "metadata": {},
     "output_type": "execute_result"
    }
   ],
   "source": [
    "t_cat = FastTreeValue.func(subside=True)(torch.cat)\n",
    "\n",
    "t_cat(trees)"
   ]
  },
  {
   "cell_type": "code",
   "execution_count": 23,
   "id": "5e9c06a6",
   "metadata": {
    "execution": {
     "iopub.execute_input": "2023-02-26T14:17:41.917591Z",
     "iopub.status.busy": "2023-02-26T14:17:41.917123Z",
     "iopub.status.idle": "2023-02-26T14:17:44.421649Z",
     "shell.execute_reply": "2023-02-26T14:17:44.420995Z"
    }
   },
   "outputs": [
    {
     "name": "stdout",
     "output_type": "stream",
     "text": [
      "30.8 µs ± 45.2 ns per loop (mean ± std. dev. of 7 runs, 10,000 loops each)\n"
     ]
    }
   ],
   "source": [
    "%timeit t_cat(trees)"
   ]
  },
  {
   "cell_type": "code",
   "execution_count": 24,
   "id": "a3ab5c8f",
   "metadata": {
    "execution": {
     "iopub.execute_input": "2023-02-26T14:17:44.424651Z",
     "iopub.status.busy": "2023-02-26T14:17:44.424219Z",
     "iopub.status.idle": "2023-02-26T14:17:49.199039Z",
     "shell.execute_reply": "2023-02-26T14:17:49.198371Z"
    }
   },
   "outputs": [
    {
     "name": "stdout",
     "output_type": "stream",
     "text": [
      "58.7 µs ± 135 ns per loop (mean ± std. dev. of 7 runs, 10,000 loops each)\n"
     ]
    }
   ],
   "source": [
    "t_split = FastTreeValue.func(rise=True)(torch.split)\n",
    "tree = FastTreeValue({\n",
    "    'obs': torch.randn(8, 4, 84, 84),\n",
    "    'action': torch.randint(0, 6, size=(8, 1,)),\n",
    "    'reward': torch.rand(8, 1),\n",
    "})\n",
    "\n",
    "%timeit t_split(tree, 1)"
   ]
  },
  {
   "cell_type": "markdown",
   "id": "31c3ec0b",
   "metadata": {},
   "source": [
    "### Performance of Tianshou Batch"
   ]
  },
  {
   "cell_type": "code",
   "execution_count": 25,
   "id": "9ead828a",
   "metadata": {
    "execution": {
     "iopub.execute_input": "2023-02-26T14:17:49.202008Z",
     "iopub.status.busy": "2023-02-26T14:17:49.201415Z",
     "iopub.status.idle": "2023-02-26T14:17:49.209320Z",
     "shell.execute_reply": "2023-02-26T14:17:49.208738Z"
    }
   },
   "outputs": [
    {
     "data": {
      "text/plain": [
       "Batch(\n",
       "    a: tensor([[[ 0.6640,  0.9327,  0.2144],\n",
       "                [ 1.1268,  0.2577, -0.2982]],\n",
       "       \n",
       "               [[ 0.6640,  0.9327,  0.2144],\n",
       "                [ 1.1268,  0.2577, -0.2982]],\n",
       "       \n",
       "               [[ 0.6640,  0.9327,  0.2144],\n",
       "                [ 1.1268,  0.2577, -0.2982]],\n",
       "       \n",
       "               [[ 0.6640,  0.9327,  0.2144],\n",
       "                [ 1.1268,  0.2577, -0.2982]],\n",
       "       \n",
       "               [[ 0.6640,  0.9327,  0.2144],\n",
       "                [ 1.1268,  0.2577, -0.2982]],\n",
       "       \n",
       "               [[ 0.6640,  0.9327,  0.2144],\n",
       "                [ 1.1268,  0.2577, -0.2982]],\n",
       "       \n",
       "               [[ 0.6640,  0.9327,  0.2144],\n",
       "                [ 1.1268,  0.2577, -0.2982]],\n",
       "       \n",
       "               [[ 0.6640,  0.9327,  0.2144],\n",
       "                [ 1.1268,  0.2577, -0.2982]]]),\n",
       "    x: Batch(\n",
       "           c: tensor([[[ 0.8634,  0.4731, -0.9239, -0.3876],\n",
       "                       [-1.2594, -1.0365, -1.8159, -0.1455],\n",
       "                       [ 2.0740, -0.0498,  1.8884,  1.4686]],\n",
       "              \n",
       "                      [[ 0.8634,  0.4731, -0.9239, -0.3876],\n",
       "                       [-1.2594, -1.0365, -1.8159, -0.1455],\n",
       "                       [ 2.0740, -0.0498,  1.8884,  1.4686]],\n",
       "              \n",
       "                      [[ 0.8634,  0.4731, -0.9239, -0.3876],\n",
       "                       [-1.2594, -1.0365, -1.8159, -0.1455],\n",
       "                       [ 2.0740, -0.0498,  1.8884,  1.4686]],\n",
       "              \n",
       "                      [[ 0.8634,  0.4731, -0.9239, -0.3876],\n",
       "                       [-1.2594, -1.0365, -1.8159, -0.1455],\n",
       "                       [ 2.0740, -0.0498,  1.8884,  1.4686]],\n",
       "              \n",
       "                      [[ 0.8634,  0.4731, -0.9239, -0.3876],\n",
       "                       [-1.2594, -1.0365, -1.8159, -0.1455],\n",
       "                       [ 2.0740, -0.0498,  1.8884,  1.4686]],\n",
       "              \n",
       "                      [[ 0.8634,  0.4731, -0.9239, -0.3876],\n",
       "                       [-1.2594, -1.0365, -1.8159, -0.1455],\n",
       "                       [ 2.0740, -0.0498,  1.8884,  1.4686]],\n",
       "              \n",
       "                      [[ 0.8634,  0.4731, -0.9239, -0.3876],\n",
       "                       [-1.2594, -1.0365, -1.8159, -0.1455],\n",
       "                       [ 2.0740, -0.0498,  1.8884,  1.4686]],\n",
       "              \n",
       "                      [[ 0.8634,  0.4731, -0.9239, -0.3876],\n",
       "                       [-1.2594, -1.0365, -1.8159, -0.1455],\n",
       "                       [ 2.0740, -0.0498,  1.8884,  1.4686]]]),\n",
       "       ),\n",
       ")"
      ]
     },
     "execution_count": 25,
     "metadata": {},
     "output_type": "execute_result"
    }
   ],
   "source": [
    "batches = [Batch(**_TREE_DATA_2) for _ in range(8)]\n",
    "\n",
    "Batch.stack(batches)"
   ]
  },
  {
   "cell_type": "code",
   "execution_count": 26,
   "id": "ec9037a3",
   "metadata": {
    "execution": {
     "iopub.execute_input": "2023-02-26T14:17:49.211731Z",
     "iopub.status.busy": "2023-02-26T14:17:49.211390Z",
     "iopub.status.idle": "2023-02-26T14:17:55.643055Z",
     "shell.execute_reply": "2023-02-26T14:17:55.642389Z"
    }
   },
   "outputs": [
    {
     "name": "stdout",
     "output_type": "stream",
     "text": [
      "79.2 µs ± 136 ns per loop (mean ± std. dev. of 7 runs, 10,000 loops each)\n"
     ]
    }
   ],
   "source": [
    "%timeit Batch.stack(batches)"
   ]
  },
  {
   "cell_type": "code",
   "execution_count": 27,
   "id": "cb8ab77e",
   "metadata": {
    "execution": {
     "iopub.execute_input": "2023-02-26T14:17:55.645858Z",
     "iopub.status.busy": "2023-02-26T14:17:55.645619Z",
     "iopub.status.idle": "2023-02-26T14:17:55.652656Z",
     "shell.execute_reply": "2023-02-26T14:17:55.652095Z"
    }
   },
   "outputs": [
    {
     "data": {
      "text/plain": [
       "Batch(\n",
       "    a: tensor([[ 0.6640,  0.9327,  0.2144],\n",
       "               [ 1.1268,  0.2577, -0.2982],\n",
       "               [ 0.6640,  0.9327,  0.2144],\n",
       "               [ 1.1268,  0.2577, -0.2982],\n",
       "               [ 0.6640,  0.9327,  0.2144],\n",
       "               [ 1.1268,  0.2577, -0.2982],\n",
       "               [ 0.6640,  0.9327,  0.2144],\n",
       "               [ 1.1268,  0.2577, -0.2982],\n",
       "               [ 0.6640,  0.9327,  0.2144],\n",
       "               [ 1.1268,  0.2577, -0.2982],\n",
       "               [ 0.6640,  0.9327,  0.2144],\n",
       "               [ 1.1268,  0.2577, -0.2982],\n",
       "               [ 0.6640,  0.9327,  0.2144],\n",
       "               [ 1.1268,  0.2577, -0.2982],\n",
       "               [ 0.6640,  0.9327,  0.2144],\n",
       "               [ 1.1268,  0.2577, -0.2982]]),\n",
       "    x: Batch(\n",
       "           c: tensor([[ 0.8634,  0.4731, -0.9239, -0.3876],\n",
       "                      [-1.2594, -1.0365, -1.8159, -0.1455],\n",
       "                      [ 2.0740, -0.0498,  1.8884,  1.4686],\n",
       "                      [ 0.8634,  0.4731, -0.9239, -0.3876],\n",
       "                      [-1.2594, -1.0365, -1.8159, -0.1455],\n",
       "                      [ 2.0740, -0.0498,  1.8884,  1.4686],\n",
       "                      [ 0.8634,  0.4731, -0.9239, -0.3876],\n",
       "                      [-1.2594, -1.0365, -1.8159, -0.1455],\n",
       "                      [ 2.0740, -0.0498,  1.8884,  1.4686],\n",
       "                      [ 0.8634,  0.4731, -0.9239, -0.3876],\n",
       "                      [-1.2594, -1.0365, -1.8159, -0.1455],\n",
       "                      [ 2.0740, -0.0498,  1.8884,  1.4686],\n",
       "                      [ 0.8634,  0.4731, -0.9239, -0.3876],\n",
       "                      [-1.2594, -1.0365, -1.8159, -0.1455],\n",
       "                      [ 2.0740, -0.0498,  1.8884,  1.4686],\n",
       "                      [ 0.8634,  0.4731, -0.9239, -0.3876],\n",
       "                      [-1.2594, -1.0365, -1.8159, -0.1455],\n",
       "                      [ 2.0740, -0.0498,  1.8884,  1.4686],\n",
       "                      [ 0.8634,  0.4731, -0.9239, -0.3876],\n",
       "                      [-1.2594, -1.0365, -1.8159, -0.1455],\n",
       "                      [ 2.0740, -0.0498,  1.8884,  1.4686],\n",
       "                      [ 0.8634,  0.4731, -0.9239, -0.3876],\n",
       "                      [-1.2594, -1.0365, -1.8159, -0.1455],\n",
       "                      [ 2.0740, -0.0498,  1.8884,  1.4686]]),\n",
       "       ),\n",
       ")"
      ]
     },
     "execution_count": 27,
     "metadata": {},
     "output_type": "execute_result"
    }
   ],
   "source": [
    "Batch.cat(batches)"
   ]
  },
  {
   "cell_type": "code",
   "execution_count": 28,
   "id": "18dfb045",
   "metadata": {
    "execution": {
     "iopub.execute_input": "2023-02-26T14:17:55.655552Z",
     "iopub.status.busy": "2023-02-26T14:17:55.654991Z",
     "iopub.status.idle": "2023-02-26T14:18:07.155082Z",
     "shell.execute_reply": "2023-02-26T14:18:07.154406Z"
    }
   },
   "outputs": [
    {
     "name": "stdout",
     "output_type": "stream",
     "text": [
      "142 µs ± 238 ns per loop (mean ± std. dev. of 7 runs, 10,000 loops each)\n"
     ]
    }
   ],
   "source": [
    "%timeit Batch.cat(batches)"
   ]
  },
  {
   "cell_type": "code",
   "execution_count": 29,
   "id": "c6688e51",
   "metadata": {
    "execution": {
     "iopub.execute_input": "2023-02-26T14:18:07.157617Z",
     "iopub.status.busy": "2023-02-26T14:18:07.157400Z",
     "iopub.status.idle": "2023-02-26T14:18:09.675884Z",
     "shell.execute_reply": "2023-02-26T14:18:09.675327Z"
    }
   },
   "outputs": [
    {
     "name": "stdout",
     "output_type": "stream",
     "text": [
      "309 µs ± 1.36 µs per loop (mean ± std. dev. of 7 runs, 1,000 loops each)\n"
     ]
    }
   ],
   "source": [
    "batch = Batch({\n",
    "    'obs': torch.randn(8, 4, 84, 84),\n",
    "    'action': torch.randint(0, 6, size=(8, 1,)),\n",
    "    'reward': torch.rand(8, 1)}\n",
    ")\n",
    "\n",
    "%timeit list(Batch.split(batch, 1, shuffle=False, merge_last=True))"
   ]
  },
  {
   "cell_type": "code",
   "execution_count": null,
   "id": "2539fbd9",
   "metadata": {},
   "outputs": [],
   "source": []
  }
 ],
 "metadata": {
  "kernelspec": {
   "display_name": "Python 3 (ipykernel)",
   "language": "python",
   "name": "python3"
  },
  "language_info": {
   "codemirror_mode": {
    "name": "ipython",
    "version": 3
   },
   "file_extension": ".py",
   "mimetype": "text/x-python",
   "name": "python",
   "nbconvert_exporter": "python",
   "pygments_lexer": "ipython3",
   "version": "3.8.16"
  }
 },
 "nbformat": 4,
 "nbformat_minor": 5
}
