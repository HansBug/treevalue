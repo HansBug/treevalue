{
 "cells": [
  {
   "cell_type": "markdown",
   "id": "9d39d946",
   "metadata": {},
   "source": [
    "# Comparison Between TreeValue and Tianshou Batch"
   ]
  },
  {
   "cell_type": "markdown",
   "id": "3c6db2d4",
   "metadata": {},
   "source": [
    "In this section, we will take a look at the feature and performance of the [Tianshou Batch](https://github.com/thu-ml/tianshou) library, which is developed by Tsinghua Machine Learning Group."
   ]
  },
  {
   "cell_type": "markdown",
   "id": "069361b0",
   "metadata": {},
   "source": [
    "Before starting the comparison, let us define some thing."
   ]
  },
  {
   "cell_type": "code",
   "execution_count": 1,
   "id": "06fc8d26",
   "metadata": {
    "execution": {
     "iopub.execute_input": "2023-01-24T17:13:49.484381Z",
     "iopub.status.busy": "2023-01-24T17:13:49.483988Z",
     "iopub.status.idle": "2023-01-24T17:13:50.431004Z",
     "shell.execute_reply": "2023-01-24T17:13:50.430302Z"
    }
   },
   "outputs": [
    {
     "name": "stderr",
     "output_type": "stream",
     "text": [
      "/opt/hostedtoolcache/Python/3.8.16/x64/lib/python3.8/site-packages/tqdm/auto.py:22: TqdmWarning: IProgress not found. Please update jupyter and ipywidgets. See https://ipywidgets.readthedocs.io/en/stable/user_install.html\n",
      "  from .autonotebook import tqdm as notebook_tqdm\n"
     ]
    }
   ],
   "source": [
    "import torch \n",
    "\n",
    "_TREE_DATA_1 = {'a': 1, 'b': 2, 'x': {'c': 3, 'd': 4}}\n",
    "_TREE_DATA_2 = {\n",
    "    'a': torch.randn(2, 3), \n",
    "    'x': {\n",
    "        'c': torch.randn(3, 4)\n",
    "    },\n",
    "}\n",
    "_TREE_DATA_3 = {\n",
    "    'obs': torch.randn(4, 84, 84),\n",
    "    'action': torch.randint(0, 6, size=(1,)),\n",
    "    'reward': torch.rand(1),\n",
    "}"
   ]
  },
  {
   "cell_type": "markdown",
   "id": "83461b25",
   "metadata": {},
   "source": [
    "## Read and Write Operation"
   ]
  },
  {
   "cell_type": "markdown",
   "id": "067b3f73",
   "metadata": {},
   "source": [
    "Reading and writing are the two most common operations in the tree data structure based on the data model (TreeValue and Tianshou Batch both belong to this type), so this section will compare the reading and writing performance of these two libraries."
   ]
  },
  {
   "cell_type": "markdown",
   "id": "5d09a5b7",
   "metadata": {},
   "source": [
    "### TreeValue's Get and Set"
   ]
  },
  {
   "cell_type": "code",
   "execution_count": 2,
   "id": "9519c4bb",
   "metadata": {
    "execution": {
     "iopub.execute_input": "2023-01-24T17:13:50.435281Z",
     "iopub.status.busy": "2023-01-24T17:13:50.434849Z",
     "iopub.status.idle": "2023-01-24T17:13:50.469353Z",
     "shell.execute_reply": "2023-01-24T17:13:50.468680Z"
    }
   },
   "outputs": [],
   "source": [
    "from treevalue import FastTreeValue\n",
    "\n",
    "t = FastTreeValue(_TREE_DATA_2)"
   ]
  },
  {
   "cell_type": "code",
   "execution_count": 3,
   "id": "11c37677",
   "metadata": {
    "execution": {
     "iopub.execute_input": "2023-01-24T17:13:50.473372Z",
     "iopub.status.busy": "2023-01-24T17:13:50.472820Z",
     "iopub.status.idle": "2023-01-24T17:13:50.483563Z",
     "shell.execute_reply": "2023-01-24T17:13:50.482915Z"
    }
   },
   "outputs": [
    {
     "data": {
      "text/plain": [
       "<FastTreeValue 0x7f8f7884a280>\n",
       "├── 'a' --> tensor([[-0.2674,  2.6716,  0.1978],\n",
       "│                   [-0.2657, -0.7307, -1.7181]])\n",
       "└── 'x' --> <FastTreeValue 0x7f8f7884a310>\n",
       "    └── 'c' --> tensor([[-0.3459,  1.7478,  1.3769, -0.1486],\n",
       "                        [-0.4436, -2.7683,  0.6299,  0.1708],\n",
       "                        [ 0.6388,  0.3368,  1.3827,  0.1359]])"
      ]
     },
     "execution_count": 3,
     "metadata": {},
     "output_type": "execute_result"
    }
   ],
   "source": [
    "t"
   ]
  },
  {
   "cell_type": "code",
   "execution_count": 4,
   "id": "fd70b0b9",
   "metadata": {
    "execution": {
     "iopub.execute_input": "2023-01-24T17:13:50.486634Z",
     "iopub.status.busy": "2023-01-24T17:13:50.486375Z",
     "iopub.status.idle": "2023-01-24T17:13:50.492951Z",
     "shell.execute_reply": "2023-01-24T17:13:50.492291Z"
    }
   },
   "outputs": [
    {
     "data": {
      "text/plain": [
       "tensor([[-0.2674,  2.6716,  0.1978],\n",
       "        [-0.2657, -0.7307, -1.7181]])"
      ]
     },
     "execution_count": 4,
     "metadata": {},
     "output_type": "execute_result"
    }
   ],
   "source": [
    "t.a"
   ]
  },
  {
   "cell_type": "code",
   "execution_count": 5,
   "id": "c18197bd",
   "metadata": {
    "execution": {
     "iopub.execute_input": "2023-01-24T17:13:50.496008Z",
     "iopub.status.busy": "2023-01-24T17:13:50.495776Z",
     "iopub.status.idle": "2023-01-24T17:13:55.622888Z",
     "shell.execute_reply": "2023-01-24T17:13:55.621767Z"
    }
   },
   "outputs": [
    {
     "name": "stdout",
     "output_type": "stream",
     "text": [
      "63.4 ns ± 0.038 ns per loop (mean ± std. dev. of 7 runs, 10,000,000 loops each)\n"
     ]
    }
   ],
   "source": [
    "%timeit t.a"
   ]
  },
  {
   "cell_type": "code",
   "execution_count": 6,
   "id": "bd52f867",
   "metadata": {
    "execution": {
     "iopub.execute_input": "2023-01-24T17:13:55.626345Z",
     "iopub.status.busy": "2023-01-24T17:13:55.625759Z",
     "iopub.status.idle": "2023-01-24T17:13:55.632015Z",
     "shell.execute_reply": "2023-01-24T17:13:55.631327Z"
    }
   },
   "outputs": [
    {
     "data": {
      "text/plain": [
       "<FastTreeValue 0x7f8f7884a280>\n",
       "├── 'a' --> tensor([[ 0.0695,  0.7286,  0.8693],\n",
       "│                   [-2.1787, -1.0719,  2.0632]])\n",
       "└── 'x' --> <FastTreeValue 0x7f8f7884a310>\n",
       "    └── 'c' --> tensor([[-0.3459,  1.7478,  1.3769, -0.1486],\n",
       "                        [-0.4436, -2.7683,  0.6299,  0.1708],\n",
       "                        [ 0.6388,  0.3368,  1.3827,  0.1359]])"
      ]
     },
     "execution_count": 6,
     "metadata": {},
     "output_type": "execute_result"
    }
   ],
   "source": [
    "new_value = torch.randn(2, 3)\n",
    "t.a = new_value\n",
    "\n",
    "t"
   ]
  },
  {
   "cell_type": "code",
   "execution_count": 7,
   "id": "bbe04d1c",
   "metadata": {
    "execution": {
     "iopub.execute_input": "2023-01-24T17:13:55.635248Z",
     "iopub.status.busy": "2023-01-24T17:13:55.634591Z",
     "iopub.status.idle": "2023-01-24T17:14:01.005037Z",
     "shell.execute_reply": "2023-01-24T17:14:01.004430Z"
    }
   },
   "outputs": [
    {
     "name": "stdout",
     "output_type": "stream",
     "text": [
      "66.1 ns ± 0.0446 ns per loop (mean ± std. dev. of 7 runs, 10,000,000 loops each)\n"
     ]
    }
   ],
   "source": [
    "%timeit t.a = new_value"
   ]
  },
  {
   "cell_type": "markdown",
   "id": "48c49731",
   "metadata": {},
   "source": [
    "### Tianshou Batch's Get and Set"
   ]
  },
  {
   "cell_type": "code",
   "execution_count": 8,
   "id": "f1bb14c1",
   "metadata": {
    "execution": {
     "iopub.execute_input": "2023-01-24T17:14:01.008570Z",
     "iopub.status.busy": "2023-01-24T17:14:01.007884Z",
     "iopub.status.idle": "2023-01-24T17:14:01.361610Z",
     "shell.execute_reply": "2023-01-24T17:14:01.360902Z"
    }
   },
   "outputs": [],
   "source": [
    "from tianshou.data import Batch\n",
    "\n",
    "b = Batch(**_TREE_DATA_2)"
   ]
  },
  {
   "cell_type": "code",
   "execution_count": 9,
   "id": "cb0777c3",
   "metadata": {
    "execution": {
     "iopub.execute_input": "2023-01-24T17:14:01.365277Z",
     "iopub.status.busy": "2023-01-24T17:14:01.364688Z",
     "iopub.status.idle": "2023-01-24T17:14:01.370405Z",
     "shell.execute_reply": "2023-01-24T17:14:01.369750Z"
    }
   },
   "outputs": [
    {
     "data": {
      "text/plain": [
       "Batch(\n",
       "    a: tensor([[-0.2674,  2.6716,  0.1978],\n",
       "               [-0.2657, -0.7307, -1.7181]]),\n",
       "    x: Batch(\n",
       "           c: tensor([[-0.3459,  1.7478,  1.3769, -0.1486],\n",
       "                      [-0.4436, -2.7683,  0.6299,  0.1708],\n",
       "                      [ 0.6388,  0.3368,  1.3827,  0.1359]]),\n",
       "       ),\n",
       ")"
      ]
     },
     "execution_count": 9,
     "metadata": {},
     "output_type": "execute_result"
    }
   ],
   "source": [
    "b"
   ]
  },
  {
   "cell_type": "code",
   "execution_count": 10,
   "id": "43ef8ea3",
   "metadata": {
    "execution": {
     "iopub.execute_input": "2023-01-24T17:14:01.373650Z",
     "iopub.status.busy": "2023-01-24T17:14:01.373013Z",
     "iopub.status.idle": "2023-01-24T17:14:01.378062Z",
     "shell.execute_reply": "2023-01-24T17:14:01.377421Z"
    }
   },
   "outputs": [
    {
     "data": {
      "text/plain": [
       "tensor([[-0.2674,  2.6716,  0.1978],\n",
       "        [-0.2657, -0.7307, -1.7181]])"
      ]
     },
     "execution_count": 10,
     "metadata": {},
     "output_type": "execute_result"
    }
   ],
   "source": [
    "b.a"
   ]
  },
  {
   "cell_type": "code",
   "execution_count": 11,
   "id": "b785ab72",
   "metadata": {
    "execution": {
     "iopub.execute_input": "2023-01-24T17:14:01.381217Z",
     "iopub.status.busy": "2023-01-24T17:14:01.380672Z",
     "iopub.status.idle": "2023-01-24T17:14:06.019309Z",
     "shell.execute_reply": "2023-01-24T17:14:06.018681Z"
    }
   },
   "outputs": [
    {
     "name": "stdout",
     "output_type": "stream",
     "text": [
      "57.3 ns ± 0.148 ns per loop (mean ± std. dev. of 7 runs, 10,000,000 loops each)\n"
     ]
    }
   ],
   "source": [
    "%timeit b.a"
   ]
  },
  {
   "cell_type": "code",
   "execution_count": 12,
   "id": "ad54dc69",
   "metadata": {
    "execution": {
     "iopub.execute_input": "2023-01-24T17:14:06.022685Z",
     "iopub.status.busy": "2023-01-24T17:14:06.022062Z",
     "iopub.status.idle": "2023-01-24T17:14:06.028136Z",
     "shell.execute_reply": "2023-01-24T17:14:06.027438Z"
    }
   },
   "outputs": [
    {
     "data": {
      "text/plain": [
       "Batch(\n",
       "    a: tensor([[-0.0436, -1.1860, -1.4013],\n",
       "               [-0.2937,  0.0066, -0.1546]]),\n",
       "    x: Batch(\n",
       "           c: tensor([[-0.3459,  1.7478,  1.3769, -0.1486],\n",
       "                      [-0.4436, -2.7683,  0.6299,  0.1708],\n",
       "                      [ 0.6388,  0.3368,  1.3827,  0.1359]]),\n",
       "       ),\n",
       ")"
      ]
     },
     "execution_count": 12,
     "metadata": {},
     "output_type": "execute_result"
    }
   ],
   "source": [
    "new_value = torch.randn(2, 3)\n",
    "b.a = new_value\n",
    "\n",
    "b"
   ]
  },
  {
   "cell_type": "code",
   "execution_count": 13,
   "id": "29b1d0bf",
   "metadata": {
    "execution": {
     "iopub.execute_input": "2023-01-24T17:14:06.031049Z",
     "iopub.status.busy": "2023-01-24T17:14:06.030814Z",
     "iopub.status.idle": "2023-01-24T17:14:10.000545Z",
     "shell.execute_reply": "2023-01-24T17:14:09.999799Z"
    }
   },
   "outputs": [
    {
     "name": "stdout",
     "output_type": "stream",
     "text": [
      "488 ns ± 0.803 ns per loop (mean ± std. dev. of 7 runs, 1,000,000 loops each)\n"
     ]
    }
   ],
   "source": [
    "%timeit b.a = new_value"
   ]
  },
  {
   "cell_type": "markdown",
   "id": "b61ad1d0",
   "metadata": {},
   "source": [
    "## Initialization"
   ]
  },
  {
   "cell_type": "markdown",
   "id": "d70f0d54",
   "metadata": {},
   "source": [
    "### TreeValue's Initialization"
   ]
  },
  {
   "cell_type": "code",
   "execution_count": 14,
   "id": "d32a679b",
   "metadata": {
    "execution": {
     "iopub.execute_input": "2023-01-24T17:14:10.003984Z",
     "iopub.status.busy": "2023-01-24T17:14:10.003744Z",
     "iopub.status.idle": "2023-01-24T17:14:16.854542Z",
     "shell.execute_reply": "2023-01-24T17:14:16.853424Z"
    }
   },
   "outputs": [
    {
     "name": "stdout",
     "output_type": "stream",
     "text": [
      "844 ns ± 0.627 ns per loop (mean ± std. dev. of 7 runs, 1,000,000 loops each)\n"
     ]
    }
   ],
   "source": [
    "%timeit FastTreeValue(_TREE_DATA_1)"
   ]
  },
  {
   "cell_type": "markdown",
   "id": "24f3707b",
   "metadata": {},
   "source": [
    "### Tianshou Batch's Initialization"
   ]
  },
  {
   "cell_type": "code",
   "execution_count": 15,
   "id": "ac3958df",
   "metadata": {
    "execution": {
     "iopub.execute_input": "2023-01-24T17:14:16.858192Z",
     "iopub.status.busy": "2023-01-24T17:14:16.857565Z",
     "iopub.status.idle": "2023-01-24T17:14:26.105132Z",
     "shell.execute_reply": "2023-01-24T17:14:26.104525Z"
    }
   },
   "outputs": [
    {
     "name": "stdout",
     "output_type": "stream",
     "text": [
      "11.4 µs ± 38.6 ns per loop (mean ± std. dev. of 7 runs, 100,000 loops each)\n"
     ]
    }
   ],
   "source": [
    "%timeit Batch(**_TREE_DATA_1)"
   ]
  },
  {
   "cell_type": "markdown",
   "id": "1ab82e2d",
   "metadata": {},
   "source": [
    "## Deep Copy Operation"
   ]
  },
  {
   "cell_type": "code",
   "execution_count": 16,
   "id": "210a9442",
   "metadata": {
    "execution": {
     "iopub.execute_input": "2023-01-24T17:14:26.109021Z",
     "iopub.status.busy": "2023-01-24T17:14:26.107861Z",
     "iopub.status.idle": "2023-01-24T17:14:26.111852Z",
     "shell.execute_reply": "2023-01-24T17:14:26.111137Z"
    }
   },
   "outputs": [],
   "source": [
    "import copy"
   ]
  },
  {
   "cell_type": "markdown",
   "id": "5a736274",
   "metadata": {},
   "source": [
    "### Deep Copy of TreeValue"
   ]
  },
  {
   "cell_type": "code",
   "execution_count": 17,
   "id": "f9bcadd6",
   "metadata": {
    "execution": {
     "iopub.execute_input": "2023-01-24T17:14:26.115389Z",
     "iopub.status.busy": "2023-01-24T17:14:26.114785Z",
     "iopub.status.idle": "2023-01-24T17:14:37.313855Z",
     "shell.execute_reply": "2023-01-24T17:14:37.313205Z"
    }
   },
   "outputs": [
    {
     "name": "stdout",
     "output_type": "stream",
     "text": [
      "138 µs ± 721 ns per loop (mean ± std. dev. of 7 runs, 10,000 loops each)\n"
     ]
    }
   ],
   "source": [
    "t3 = FastTreeValue(_TREE_DATA_3)\n",
    "%timeit copy.deepcopy(t3)"
   ]
  },
  {
   "cell_type": "markdown",
   "id": "bf8be7ea",
   "metadata": {},
   "source": [
    "### Deep Copy of Tianshou Batch"
   ]
  },
  {
   "cell_type": "code",
   "execution_count": 18,
   "id": "91998e6f",
   "metadata": {
    "execution": {
     "iopub.execute_input": "2023-01-24T17:14:37.318529Z",
     "iopub.status.busy": "2023-01-24T17:14:37.317847Z",
     "iopub.status.idle": "2023-01-24T17:14:48.619919Z",
     "shell.execute_reply": "2023-01-24T17:14:48.619293Z"
    }
   },
   "outputs": [
    {
     "name": "stdout",
     "output_type": "stream",
     "text": [
      "139 µs ± 265 ns per loop (mean ± std. dev. of 7 runs, 10,000 loops each)\n"
     ]
    }
   ],
   "source": [
    "b3 = Batch(**_TREE_DATA_3)\n",
    "%timeit copy.deepcopy(b3)"
   ]
  },
  {
   "cell_type": "markdown",
   "id": "223162fb",
   "metadata": {},
   "source": [
    "## Stack, Concat and Split Operation"
   ]
  },
  {
   "cell_type": "markdown",
   "id": "85fa4a73",
   "metadata": {},
   "source": [
    "### Performance of TreeValue"
   ]
  },
  {
   "cell_type": "code",
   "execution_count": 19,
   "id": "a0c2b697",
   "metadata": {
    "execution": {
     "iopub.execute_input": "2023-01-24T17:14:48.624512Z",
     "iopub.status.busy": "2023-01-24T17:14:48.623969Z",
     "iopub.status.idle": "2023-01-24T17:14:48.629217Z",
     "shell.execute_reply": "2023-01-24T17:14:48.628633Z"
    }
   },
   "outputs": [],
   "source": [
    "trees = [FastTreeValue(_TREE_DATA_2) for _ in range(8)]"
   ]
  },
  {
   "cell_type": "code",
   "execution_count": 20,
   "id": "017ea5a5",
   "metadata": {
    "execution": {
     "iopub.execute_input": "2023-01-24T17:14:48.632714Z",
     "iopub.status.busy": "2023-01-24T17:14:48.632445Z",
     "iopub.status.idle": "2023-01-24T17:14:48.639936Z",
     "shell.execute_reply": "2023-01-24T17:14:48.639221Z"
    }
   },
   "outputs": [
    {
     "data": {
      "text/plain": [
       "<FastTreeValue 0x7f8f787d5f10>\n",
       "├── 'a' --> tensor([[[-0.2674,  2.6716,  0.1978],\n",
       "│                    [-0.2657, -0.7307, -1.7181]],\n",
       "│           \n",
       "│                   [[-0.2674,  2.6716,  0.1978],\n",
       "│                    [-0.2657, -0.7307, -1.7181]],\n",
       "│           \n",
       "│                   [[-0.2674,  2.6716,  0.1978],\n",
       "│                    [-0.2657, -0.7307, -1.7181]],\n",
       "│           \n",
       "│                   [[-0.2674,  2.6716,  0.1978],\n",
       "│                    [-0.2657, -0.7307, -1.7181]],\n",
       "│           \n",
       "│                   [[-0.2674,  2.6716,  0.1978],\n",
       "│                    [-0.2657, -0.7307, -1.7181]],\n",
       "│           \n",
       "│                   [[-0.2674,  2.6716,  0.1978],\n",
       "│                    [-0.2657, -0.7307, -1.7181]],\n",
       "│           \n",
       "│                   [[-0.2674,  2.6716,  0.1978],\n",
       "│                    [-0.2657, -0.7307, -1.7181]],\n",
       "│           \n",
       "│                   [[-0.2674,  2.6716,  0.1978],\n",
       "│                    [-0.2657, -0.7307, -1.7181]]])\n",
       "└── 'x' --> <FastTreeValue 0x7f8ed5196610>\n",
       "    └── 'c' --> tensor([[[-0.3459,  1.7478,  1.3769, -0.1486],\n",
       "                         [-0.4436, -2.7683,  0.6299,  0.1708],\n",
       "                         [ 0.6388,  0.3368,  1.3827,  0.1359]],\n",
       "                \n",
       "                        [[-0.3459,  1.7478,  1.3769, -0.1486],\n",
       "                         [-0.4436, -2.7683,  0.6299,  0.1708],\n",
       "                         [ 0.6388,  0.3368,  1.3827,  0.1359]],\n",
       "                \n",
       "                        [[-0.3459,  1.7478,  1.3769, -0.1486],\n",
       "                         [-0.4436, -2.7683,  0.6299,  0.1708],\n",
       "                         [ 0.6388,  0.3368,  1.3827,  0.1359]],\n",
       "                \n",
       "                        [[-0.3459,  1.7478,  1.3769, -0.1486],\n",
       "                         [-0.4436, -2.7683,  0.6299,  0.1708],\n",
       "                         [ 0.6388,  0.3368,  1.3827,  0.1359]],\n",
       "                \n",
       "                        [[-0.3459,  1.7478,  1.3769, -0.1486],\n",
       "                         [-0.4436, -2.7683,  0.6299,  0.1708],\n",
       "                         [ 0.6388,  0.3368,  1.3827,  0.1359]],\n",
       "                \n",
       "                        [[-0.3459,  1.7478,  1.3769, -0.1486],\n",
       "                         [-0.4436, -2.7683,  0.6299,  0.1708],\n",
       "                         [ 0.6388,  0.3368,  1.3827,  0.1359]],\n",
       "                \n",
       "                        [[-0.3459,  1.7478,  1.3769, -0.1486],\n",
       "                         [-0.4436, -2.7683,  0.6299,  0.1708],\n",
       "                         [ 0.6388,  0.3368,  1.3827,  0.1359]],\n",
       "                \n",
       "                        [[-0.3459,  1.7478,  1.3769, -0.1486],\n",
       "                         [-0.4436, -2.7683,  0.6299,  0.1708],\n",
       "                         [ 0.6388,  0.3368,  1.3827,  0.1359]]])"
      ]
     },
     "execution_count": 20,
     "metadata": {},
     "output_type": "execute_result"
    }
   ],
   "source": [
    "t_stack = FastTreeValue.func(subside=True)(torch.stack)\n",
    "\n",
    "t_stack(trees)"
   ]
  },
  {
   "cell_type": "code",
   "execution_count": 21,
   "id": "f8b3f415",
   "metadata": {
    "execution": {
     "iopub.execute_input": "2023-01-24T17:14:48.643273Z",
     "iopub.status.busy": "2023-01-24T17:14:48.642714Z",
     "iopub.status.idle": "2023-01-24T17:14:51.254147Z",
     "shell.execute_reply": "2023-01-24T17:14:51.253441Z"
    }
   },
   "outputs": [
    {
     "name": "stdout",
     "output_type": "stream",
     "text": [
      "32.1 µs ± 154 ns per loop (mean ± std. dev. of 7 runs, 10,000 loops each)\n"
     ]
    }
   ],
   "source": [
    "%timeit t_stack(trees)"
   ]
  },
  {
   "cell_type": "code",
   "execution_count": 22,
   "id": "94b56771",
   "metadata": {
    "execution": {
     "iopub.execute_input": "2023-01-24T17:14:51.257364Z",
     "iopub.status.busy": "2023-01-24T17:14:51.257117Z",
     "iopub.status.idle": "2023-01-24T17:14:51.264378Z",
     "shell.execute_reply": "2023-01-24T17:14:51.263719Z"
    }
   },
   "outputs": [
    {
     "data": {
      "text/plain": [
       "<FastTreeValue 0x7f8ece4c6130>\n",
       "├── 'a' --> tensor([[-0.2674,  2.6716,  0.1978],\n",
       "│                   [-0.2657, -0.7307, -1.7181],\n",
       "│                   [-0.2674,  2.6716,  0.1978],\n",
       "│                   [-0.2657, -0.7307, -1.7181],\n",
       "│                   [-0.2674,  2.6716,  0.1978],\n",
       "│                   [-0.2657, -0.7307, -1.7181],\n",
       "│                   [-0.2674,  2.6716,  0.1978],\n",
       "│                   [-0.2657, -0.7307, -1.7181],\n",
       "│                   [-0.2674,  2.6716,  0.1978],\n",
       "│                   [-0.2657, -0.7307, -1.7181],\n",
       "│                   [-0.2674,  2.6716,  0.1978],\n",
       "│                   [-0.2657, -0.7307, -1.7181],\n",
       "│                   [-0.2674,  2.6716,  0.1978],\n",
       "│                   [-0.2657, -0.7307, -1.7181],\n",
       "│                   [-0.2674,  2.6716,  0.1978],\n",
       "│                   [-0.2657, -0.7307, -1.7181]])\n",
       "└── 'x' --> <FastTreeValue 0x7f8f787d0340>\n",
       "    └── 'c' --> tensor([[-0.3459,  1.7478,  1.3769, -0.1486],\n",
       "                        [-0.4436, -2.7683,  0.6299,  0.1708],\n",
       "                        [ 0.6388,  0.3368,  1.3827,  0.1359],\n",
       "                        [-0.3459,  1.7478,  1.3769, -0.1486],\n",
       "                        [-0.4436, -2.7683,  0.6299,  0.1708],\n",
       "                        [ 0.6388,  0.3368,  1.3827,  0.1359],\n",
       "                        [-0.3459,  1.7478,  1.3769, -0.1486],\n",
       "                        [-0.4436, -2.7683,  0.6299,  0.1708],\n",
       "                        [ 0.6388,  0.3368,  1.3827,  0.1359],\n",
       "                        [-0.3459,  1.7478,  1.3769, -0.1486],\n",
       "                        [-0.4436, -2.7683,  0.6299,  0.1708],\n",
       "                        [ 0.6388,  0.3368,  1.3827,  0.1359],\n",
       "                        [-0.3459,  1.7478,  1.3769, -0.1486],\n",
       "                        [-0.4436, -2.7683,  0.6299,  0.1708],\n",
       "                        [ 0.6388,  0.3368,  1.3827,  0.1359],\n",
       "                        [-0.3459,  1.7478,  1.3769, -0.1486],\n",
       "                        [-0.4436, -2.7683,  0.6299,  0.1708],\n",
       "                        [ 0.6388,  0.3368,  1.3827,  0.1359],\n",
       "                        [-0.3459,  1.7478,  1.3769, -0.1486],\n",
       "                        [-0.4436, -2.7683,  0.6299,  0.1708],\n",
       "                        [ 0.6388,  0.3368,  1.3827,  0.1359],\n",
       "                        [-0.3459,  1.7478,  1.3769, -0.1486],\n",
       "                        [-0.4436, -2.7683,  0.6299,  0.1708],\n",
       "                        [ 0.6388,  0.3368,  1.3827,  0.1359]])"
      ]
     },
     "execution_count": 22,
     "metadata": {},
     "output_type": "execute_result"
    }
   ],
   "source": [
    "t_cat = FastTreeValue.func(subside=True)(torch.cat)\n",
    "\n",
    "t_cat(trees)"
   ]
  },
  {
   "cell_type": "code",
   "execution_count": 23,
   "id": "5e9c06a6",
   "metadata": {
    "execution": {
     "iopub.execute_input": "2023-01-24T17:14:51.267348Z",
     "iopub.status.busy": "2023-01-24T17:14:51.266986Z",
     "iopub.status.idle": "2023-01-24T17:14:53.707602Z",
     "shell.execute_reply": "2023-01-24T17:14:53.706816Z"
    }
   },
   "outputs": [
    {
     "name": "stdout",
     "output_type": "stream",
     "text": [
      "30 µs ± 43.8 ns per loop (mean ± std. dev. of 7 runs, 10,000 loops each)\n"
     ]
    }
   ],
   "source": [
    "%timeit t_cat(trees)"
   ]
  },
  {
   "cell_type": "code",
   "execution_count": 24,
   "id": "a3ab5c8f",
   "metadata": {
    "execution": {
     "iopub.execute_input": "2023-01-24T17:14:53.710621Z",
     "iopub.status.busy": "2023-01-24T17:14:53.710397Z",
     "iopub.status.idle": "2023-01-24T17:14:58.346973Z",
     "shell.execute_reply": "2023-01-24T17:14:58.346385Z"
    }
   },
   "outputs": [
    {
     "name": "stdout",
     "output_type": "stream",
     "text": [
      "57 µs ± 79 ns per loop (mean ± std. dev. of 7 runs, 10,000 loops each)\n"
     ]
    }
   ],
   "source": [
    "t_split = FastTreeValue.func(rise=True)(torch.split)\n",
    "tree = FastTreeValue({\n",
    "    'obs': torch.randn(8, 4, 84, 84),\n",
    "    'action': torch.randint(0, 6, size=(8, 1,)),\n",
    "    'reward': torch.rand(8, 1),\n",
    "})\n",
    "\n",
    "%timeit t_split(tree, 1)"
   ]
  },
  {
   "cell_type": "markdown",
   "id": "31c3ec0b",
   "metadata": {},
   "source": [
    "### Performance of Tianshou Batch"
   ]
  },
  {
   "cell_type": "code",
   "execution_count": 25,
   "id": "9ead828a",
   "metadata": {
    "execution": {
     "iopub.execute_input": "2023-01-24T17:14:58.350194Z",
     "iopub.status.busy": "2023-01-24T17:14:58.349957Z",
     "iopub.status.idle": "2023-01-24T17:14:58.357122Z",
     "shell.execute_reply": "2023-01-24T17:14:58.356442Z"
    }
   },
   "outputs": [
    {
     "data": {
      "text/plain": [
       "Batch(\n",
       "    x: Batch(\n",
       "           c: tensor([[[-0.3459,  1.7478,  1.3769, -0.1486],\n",
       "                       [-0.4436, -2.7683,  0.6299,  0.1708],\n",
       "                       [ 0.6388,  0.3368,  1.3827,  0.1359]],\n",
       "              \n",
       "                      [[-0.3459,  1.7478,  1.3769, -0.1486],\n",
       "                       [-0.4436, -2.7683,  0.6299,  0.1708],\n",
       "                       [ 0.6388,  0.3368,  1.3827,  0.1359]],\n",
       "              \n",
       "                      [[-0.3459,  1.7478,  1.3769, -0.1486],\n",
       "                       [-0.4436, -2.7683,  0.6299,  0.1708],\n",
       "                       [ 0.6388,  0.3368,  1.3827,  0.1359]],\n",
       "              \n",
       "                      [[-0.3459,  1.7478,  1.3769, -0.1486],\n",
       "                       [-0.4436, -2.7683,  0.6299,  0.1708],\n",
       "                       [ 0.6388,  0.3368,  1.3827,  0.1359]],\n",
       "              \n",
       "                      [[-0.3459,  1.7478,  1.3769, -0.1486],\n",
       "                       [-0.4436, -2.7683,  0.6299,  0.1708],\n",
       "                       [ 0.6388,  0.3368,  1.3827,  0.1359]],\n",
       "              \n",
       "                      [[-0.3459,  1.7478,  1.3769, -0.1486],\n",
       "                       [-0.4436, -2.7683,  0.6299,  0.1708],\n",
       "                       [ 0.6388,  0.3368,  1.3827,  0.1359]],\n",
       "              \n",
       "                      [[-0.3459,  1.7478,  1.3769, -0.1486],\n",
       "                       [-0.4436, -2.7683,  0.6299,  0.1708],\n",
       "                       [ 0.6388,  0.3368,  1.3827,  0.1359]],\n",
       "              \n",
       "                      [[-0.3459,  1.7478,  1.3769, -0.1486],\n",
       "                       [-0.4436, -2.7683,  0.6299,  0.1708],\n",
       "                       [ 0.6388,  0.3368,  1.3827,  0.1359]]]),\n",
       "       ),\n",
       "    a: tensor([[[-0.2674,  2.6716,  0.1978],\n",
       "                [-0.2657, -0.7307, -1.7181]],\n",
       "       \n",
       "               [[-0.2674,  2.6716,  0.1978],\n",
       "                [-0.2657, -0.7307, -1.7181]],\n",
       "       \n",
       "               [[-0.2674,  2.6716,  0.1978],\n",
       "                [-0.2657, -0.7307, -1.7181]],\n",
       "       \n",
       "               [[-0.2674,  2.6716,  0.1978],\n",
       "                [-0.2657, -0.7307, -1.7181]],\n",
       "       \n",
       "               [[-0.2674,  2.6716,  0.1978],\n",
       "                [-0.2657, -0.7307, -1.7181]],\n",
       "       \n",
       "               [[-0.2674,  2.6716,  0.1978],\n",
       "                [-0.2657, -0.7307, -1.7181]],\n",
       "       \n",
       "               [[-0.2674,  2.6716,  0.1978],\n",
       "                [-0.2657, -0.7307, -1.7181]],\n",
       "       \n",
       "               [[-0.2674,  2.6716,  0.1978],\n",
       "                [-0.2657, -0.7307, -1.7181]]]),\n",
       ")"
      ]
     },
     "execution_count": 25,
     "metadata": {},
     "output_type": "execute_result"
    }
   ],
   "source": [
    "batches = [Batch(**_TREE_DATA_2) for _ in range(8)]\n",
    "\n",
    "Batch.stack(batches)"
   ]
  },
  {
   "cell_type": "code",
   "execution_count": 26,
   "id": "ec9037a3",
   "metadata": {
    "execution": {
     "iopub.execute_input": "2023-01-24T17:14:58.360080Z",
     "iopub.status.busy": "2023-01-24T17:14:58.359706Z",
     "iopub.status.idle": "2023-01-24T17:15:04.793926Z",
     "shell.execute_reply": "2023-01-24T17:15:04.793343Z"
    }
   },
   "outputs": [
    {
     "name": "stdout",
     "output_type": "stream",
     "text": [
      "79.2 µs ± 341 ns per loop (mean ± std. dev. of 7 runs, 10,000 loops each)\n"
     ]
    }
   ],
   "source": [
    "%timeit Batch.stack(batches)"
   ]
  },
  {
   "cell_type": "code",
   "execution_count": 27,
   "id": "cb8ab77e",
   "metadata": {
    "execution": {
     "iopub.execute_input": "2023-01-24T17:15:04.796968Z",
     "iopub.status.busy": "2023-01-24T17:15:04.796513Z",
     "iopub.status.idle": "2023-01-24T17:15:04.803353Z",
     "shell.execute_reply": "2023-01-24T17:15:04.802705Z"
    }
   },
   "outputs": [
    {
     "data": {
      "text/plain": [
       "Batch(\n",
       "    x: Batch(\n",
       "           c: tensor([[-0.3459,  1.7478,  1.3769, -0.1486],\n",
       "                      [-0.4436, -2.7683,  0.6299,  0.1708],\n",
       "                      [ 0.6388,  0.3368,  1.3827,  0.1359],\n",
       "                      [-0.3459,  1.7478,  1.3769, -0.1486],\n",
       "                      [-0.4436, -2.7683,  0.6299,  0.1708],\n",
       "                      [ 0.6388,  0.3368,  1.3827,  0.1359],\n",
       "                      [-0.3459,  1.7478,  1.3769, -0.1486],\n",
       "                      [-0.4436, -2.7683,  0.6299,  0.1708],\n",
       "                      [ 0.6388,  0.3368,  1.3827,  0.1359],\n",
       "                      [-0.3459,  1.7478,  1.3769, -0.1486],\n",
       "                      [-0.4436, -2.7683,  0.6299,  0.1708],\n",
       "                      [ 0.6388,  0.3368,  1.3827,  0.1359],\n",
       "                      [-0.3459,  1.7478,  1.3769, -0.1486],\n",
       "                      [-0.4436, -2.7683,  0.6299,  0.1708],\n",
       "                      [ 0.6388,  0.3368,  1.3827,  0.1359],\n",
       "                      [-0.3459,  1.7478,  1.3769, -0.1486],\n",
       "                      [-0.4436, -2.7683,  0.6299,  0.1708],\n",
       "                      [ 0.6388,  0.3368,  1.3827,  0.1359],\n",
       "                      [-0.3459,  1.7478,  1.3769, -0.1486],\n",
       "                      [-0.4436, -2.7683,  0.6299,  0.1708],\n",
       "                      [ 0.6388,  0.3368,  1.3827,  0.1359],\n",
       "                      [-0.3459,  1.7478,  1.3769, -0.1486],\n",
       "                      [-0.4436, -2.7683,  0.6299,  0.1708],\n",
       "                      [ 0.6388,  0.3368,  1.3827,  0.1359]]),\n",
       "       ),\n",
       "    a: tensor([[-0.2674,  2.6716,  0.1978],\n",
       "               [-0.2657, -0.7307, -1.7181],\n",
       "               [-0.2674,  2.6716,  0.1978],\n",
       "               [-0.2657, -0.7307, -1.7181],\n",
       "               [-0.2674,  2.6716,  0.1978],\n",
       "               [-0.2657, -0.7307, -1.7181],\n",
       "               [-0.2674,  2.6716,  0.1978],\n",
       "               [-0.2657, -0.7307, -1.7181],\n",
       "               [-0.2674,  2.6716,  0.1978],\n",
       "               [-0.2657, -0.7307, -1.7181],\n",
       "               [-0.2674,  2.6716,  0.1978],\n",
       "               [-0.2657, -0.7307, -1.7181],\n",
       "               [-0.2674,  2.6716,  0.1978],\n",
       "               [-0.2657, -0.7307, -1.7181],\n",
       "               [-0.2674,  2.6716,  0.1978],\n",
       "               [-0.2657, -0.7307, -1.7181]]),\n",
       ")"
      ]
     },
     "execution_count": 27,
     "metadata": {},
     "output_type": "execute_result"
    }
   ],
   "source": [
    "Batch.cat(batches)"
   ]
  },
  {
   "cell_type": "code",
   "execution_count": 28,
   "id": "18dfb045",
   "metadata": {
    "execution": {
     "iopub.execute_input": "2023-01-24T17:15:04.806055Z",
     "iopub.status.busy": "2023-01-24T17:15:04.805831Z",
     "iopub.status.idle": "2023-01-24T17:15:16.373393Z",
     "shell.execute_reply": "2023-01-24T17:15:16.372297Z"
    }
   },
   "outputs": [
    {
     "name": "stdout",
     "output_type": "stream",
     "text": [
      "142 µs ± 333 ns per loop (mean ± std. dev. of 7 runs, 10,000 loops each)\n"
     ]
    }
   ],
   "source": [
    "%timeit Batch.cat(batches)"
   ]
  },
  {
   "cell_type": "code",
   "execution_count": 29,
   "id": "c6688e51",
   "metadata": {
    "execution": {
     "iopub.execute_input": "2023-01-24T17:15:16.377023Z",
     "iopub.status.busy": "2023-01-24T17:15:16.376402Z",
     "iopub.status.idle": "2023-01-24T17:15:18.845672Z",
     "shell.execute_reply": "2023-01-24T17:15:18.844980Z"
    }
   },
   "outputs": [
    {
     "name": "stdout",
     "output_type": "stream",
     "text": [
      "303 µs ± 815 ns per loop (mean ± std. dev. of 7 runs, 1,000 loops each)\n"
     ]
    }
   ],
   "source": [
    "batch = Batch({\n",
    "    'obs': torch.randn(8, 4, 84, 84),\n",
    "    'action': torch.randint(0, 6, size=(8, 1,)),\n",
    "    'reward': torch.rand(8, 1)}\n",
    ")\n",
    "\n",
    "%timeit list(Batch.split(batch, 1, shuffle=False, merge_last=True))"
   ]
  },
  {
   "cell_type": "code",
   "execution_count": null,
   "id": "2539fbd9",
   "metadata": {},
   "outputs": [],
   "source": []
  }
 ],
 "metadata": {
  "kernelspec": {
   "display_name": "Python 3 (ipykernel)",
   "language": "python",
   "name": "python3"
  },
  "language_info": {
   "codemirror_mode": {
    "name": "ipython",
    "version": 3
   },
   "file_extension": ".py",
   "mimetype": "text/x-python",
   "name": "python",
   "nbconvert_exporter": "python",
   "pygments_lexer": "ipython3",
   "version": "3.8.16"
  }
 },
 "nbformat": 4,
 "nbformat_minor": 5
}
