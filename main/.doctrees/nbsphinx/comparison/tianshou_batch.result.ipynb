{
 "cells": [
  {
   "cell_type": "markdown",
   "id": "9d39d946",
   "metadata": {},
   "source": [
    "# Comparison Between TreeValue and Tianshou Batch"
   ]
  },
  {
   "cell_type": "markdown",
   "id": "3c6db2d4",
   "metadata": {},
   "source": [
    "In this section, we will take a look at the feature and performance of the [Tianshou Batch](https://github.com/thu-ml/tianshou) library, which is developed by Tsinghua Machine Learning Group."
   ]
  },
  {
   "cell_type": "markdown",
   "id": "069361b0",
   "metadata": {},
   "source": [
    "Before starting the comparison, let us define some thing."
   ]
  },
  {
   "cell_type": "code",
   "execution_count": 1,
   "id": "06fc8d26",
   "metadata": {
    "execution": {
     "iopub.execute_input": "2023-02-27T12:00:07.065432Z",
     "iopub.status.busy": "2023-02-27T12:00:07.064950Z",
     "iopub.status.idle": "2023-02-27T12:00:08.216646Z",
     "shell.execute_reply": "2023-02-27T12:00:08.215632Z"
    }
   },
   "outputs": [
    {
     "name": "stderr",
     "output_type": "stream",
     "text": [
      "/opt/hostedtoolcache/Python/3.8.16/x64/lib/python3.8/site-packages/tqdm/auto.py:22: TqdmWarning: IProgress not found. Please update jupyter and ipywidgets. See https://ipywidgets.readthedocs.io/en/stable/user_install.html\n",
      "  from .autonotebook import tqdm as notebook_tqdm\n"
     ]
    }
   ],
   "source": [
    "import torch \n",
    "\n",
    "_TREE_DATA_1 = {'a': 1, 'b': 2, 'x': {'c': 3, 'd': 4}}\n",
    "_TREE_DATA_2 = {\n",
    "    'a': torch.randn(2, 3), \n",
    "    'x': {\n",
    "        'c': torch.randn(3, 4)\n",
    "    },\n",
    "}\n",
    "_TREE_DATA_3 = {\n",
    "    'obs': torch.randn(4, 84, 84),\n",
    "    'action': torch.randint(0, 6, size=(1,)),\n",
    "    'reward': torch.rand(1),\n",
    "}"
   ]
  },
  {
   "cell_type": "markdown",
   "id": "83461b25",
   "metadata": {},
   "source": [
    "## Read and Write Operation"
   ]
  },
  {
   "cell_type": "markdown",
   "id": "067b3f73",
   "metadata": {},
   "source": [
    "Reading and writing are the two most common operations in the tree data structure based on the data model (TreeValue and Tianshou Batch both belong to this type), so this section will compare the reading and writing performance of these two libraries."
   ]
  },
  {
   "cell_type": "markdown",
   "id": "5d09a5b7",
   "metadata": {},
   "source": [
    "### TreeValue's Get and Set"
   ]
  },
  {
   "cell_type": "code",
   "execution_count": 2,
   "id": "9519c4bb",
   "metadata": {
    "execution": {
     "iopub.execute_input": "2023-02-27T12:00:08.221202Z",
     "iopub.status.busy": "2023-02-27T12:00:08.220292Z",
     "iopub.status.idle": "2023-02-27T12:00:08.565732Z",
     "shell.execute_reply": "2023-02-27T12:00:08.564593Z"
    }
   },
   "outputs": [],
   "source": [
    "from treevalue import FastTreeValue\n",
    "\n",
    "t = FastTreeValue(_TREE_DATA_2)"
   ]
  },
  {
   "cell_type": "code",
   "execution_count": 3,
   "id": "11c37677",
   "metadata": {
    "execution": {
     "iopub.execute_input": "2023-02-27T12:00:08.570558Z",
     "iopub.status.busy": "2023-02-27T12:00:08.570195Z",
     "iopub.status.idle": "2023-02-27T12:00:08.582601Z",
     "shell.execute_reply": "2023-02-27T12:00:08.581008Z"
    }
   },
   "outputs": [
    {
     "data": {
      "text/plain": [
       "<FastTreeValue 0x7fef48318910>\n",
       "├── 'a' --> tensor([[ 0.7298, -0.9396, -1.1550],\n",
       "│                   [ 0.2021,  0.0035,  1.3206]])\n",
       "└── 'x' --> <FastTreeValue 0x7fef48318790>\n",
       "    └── 'c' --> tensor([[ 0.0562,  0.7622, -0.2006,  0.2263],\n",
       "                        [ 0.3258,  0.7490,  0.5535,  0.0437],\n",
       "                        [-0.3504,  0.6729,  0.3956,  0.4682]])"
      ]
     },
     "execution_count": 3,
     "metadata": {},
     "output_type": "execute_result"
    }
   ],
   "source": [
    "t"
   ]
  },
  {
   "cell_type": "code",
   "execution_count": 4,
   "id": "fd70b0b9",
   "metadata": {
    "execution": {
     "iopub.execute_input": "2023-02-27T12:00:08.586087Z",
     "iopub.status.busy": "2023-02-27T12:00:08.585782Z",
     "iopub.status.idle": "2023-02-27T12:00:08.592969Z",
     "shell.execute_reply": "2023-02-27T12:00:08.592157Z"
    }
   },
   "outputs": [
    {
     "data": {
      "text/plain": [
       "tensor([[ 0.7298, -0.9396, -1.1550],\n",
       "        [ 0.2021,  0.0035,  1.3206]])"
      ]
     },
     "execution_count": 4,
     "metadata": {},
     "output_type": "execute_result"
    }
   ],
   "source": [
    "t.a"
   ]
  },
  {
   "cell_type": "code",
   "execution_count": 5,
   "id": "c18197bd",
   "metadata": {
    "execution": {
     "iopub.execute_input": "2023-02-27T12:00:08.596628Z",
     "iopub.status.busy": "2023-02-27T12:00:08.596009Z",
     "iopub.status.idle": "2023-02-27T12:00:14.733084Z",
     "shell.execute_reply": "2023-02-27T12:00:14.731816Z"
    }
   },
   "outputs": [
    {
     "name": "stdout",
     "output_type": "stream",
     "text": [
      "75.5 ns ± 0.288 ns per loop (mean ± std. dev. of 7 runs, 10,000,000 loops each)\n"
     ]
    }
   ],
   "source": [
    "%timeit t.a"
   ]
  },
  {
   "cell_type": "code",
   "execution_count": 6,
   "id": "bd52f867",
   "metadata": {
    "execution": {
     "iopub.execute_input": "2023-02-27T12:00:14.738142Z",
     "iopub.status.busy": "2023-02-27T12:00:14.736975Z",
     "iopub.status.idle": "2023-02-27T12:00:14.745592Z",
     "shell.execute_reply": "2023-02-27T12:00:14.744903Z"
    }
   },
   "outputs": [
    {
     "data": {
      "text/plain": [
       "<FastTreeValue 0x7fef48318910>\n",
       "├── 'a' --> tensor([[ 0.3552, -1.3697, -0.3256],\n",
       "│                   [-0.1514,  0.8657, -1.3179]])\n",
       "└── 'x' --> <FastTreeValue 0x7fef48318790>\n",
       "    └── 'c' --> tensor([[ 0.0562,  0.7622, -0.2006,  0.2263],\n",
       "                        [ 0.3258,  0.7490,  0.5535,  0.0437],\n",
       "                        [-0.3504,  0.6729,  0.3956,  0.4682]])"
      ]
     },
     "execution_count": 6,
     "metadata": {},
     "output_type": "execute_result"
    }
   ],
   "source": [
    "new_value = torch.randn(2, 3)\n",
    "t.a = new_value\n",
    "\n",
    "t"
   ]
  },
  {
   "cell_type": "code",
   "execution_count": 7,
   "id": "bbe04d1c",
   "metadata": {
    "execution": {
     "iopub.execute_input": "2023-02-27T12:00:14.748817Z",
     "iopub.status.busy": "2023-02-27T12:00:14.748212Z",
     "iopub.status.idle": "2023-02-27T12:00:21.565804Z",
     "shell.execute_reply": "2023-02-27T12:00:21.564822Z"
    }
   },
   "outputs": [
    {
     "name": "stdout",
     "output_type": "stream",
     "text": [
      "83.5 ns ± 2.06 ns per loop (mean ± std. dev. of 7 runs, 10,000,000 loops each)\n"
     ]
    }
   ],
   "source": [
    "%timeit t.a = new_value"
   ]
  },
  {
   "cell_type": "markdown",
   "id": "48c49731",
   "metadata": {},
   "source": [
    "### Tianshou Batch's Get and Set"
   ]
  },
  {
   "cell_type": "code",
   "execution_count": 8,
   "id": "f1bb14c1",
   "metadata": {
    "execution": {
     "iopub.execute_input": "2023-02-27T12:00:21.570119Z",
     "iopub.status.busy": "2023-02-27T12:00:21.569449Z",
     "iopub.status.idle": "2023-02-27T12:00:21.990228Z",
     "shell.execute_reply": "2023-02-27T12:00:21.989148Z"
    }
   },
   "outputs": [],
   "source": [
    "from tianshou.data import Batch\n",
    "\n",
    "b = Batch(**_TREE_DATA_2)"
   ]
  },
  {
   "cell_type": "code",
   "execution_count": 9,
   "id": "cb0777c3",
   "metadata": {
    "execution": {
     "iopub.execute_input": "2023-02-27T12:00:21.994149Z",
     "iopub.status.busy": "2023-02-27T12:00:21.993514Z",
     "iopub.status.idle": "2023-02-27T12:00:22.001300Z",
     "shell.execute_reply": "2023-02-27T12:00:22.000604Z"
    }
   },
   "outputs": [
    {
     "data": {
      "text/plain": [
       "Batch(\n",
       "    a: tensor([[ 0.7298, -0.9396, -1.1550],\n",
       "               [ 0.2021,  0.0035,  1.3206]]),\n",
       "    x: Batch(\n",
       "           c: tensor([[ 0.0562,  0.7622, -0.2006,  0.2263],\n",
       "                      [ 0.3258,  0.7490,  0.5535,  0.0437],\n",
       "                      [-0.3504,  0.6729,  0.3956,  0.4682]]),\n",
       "       ),\n",
       ")"
      ]
     },
     "execution_count": 9,
     "metadata": {},
     "output_type": "execute_result"
    }
   ],
   "source": [
    "b"
   ]
  },
  {
   "cell_type": "code",
   "execution_count": 10,
   "id": "43ef8ea3",
   "metadata": {
    "execution": {
     "iopub.execute_input": "2023-02-27T12:00:22.004657Z",
     "iopub.status.busy": "2023-02-27T12:00:22.004170Z",
     "iopub.status.idle": "2023-02-27T12:00:22.010691Z",
     "shell.execute_reply": "2023-02-27T12:00:22.009872Z"
    }
   },
   "outputs": [
    {
     "data": {
      "text/plain": [
       "tensor([[ 0.7298, -0.9396, -1.1550],\n",
       "        [ 0.2021,  0.0035,  1.3206]])"
      ]
     },
     "execution_count": 10,
     "metadata": {},
     "output_type": "execute_result"
    }
   ],
   "source": [
    "b.a"
   ]
  },
  {
   "cell_type": "code",
   "execution_count": 11,
   "id": "b785ab72",
   "metadata": {
    "execution": {
     "iopub.execute_input": "2023-02-27T12:00:22.014028Z",
     "iopub.status.busy": "2023-02-27T12:00:22.013630Z",
     "iopub.status.idle": "2023-02-27T12:00:27.774528Z",
     "shell.execute_reply": "2023-02-27T12:00:27.772552Z"
    }
   },
   "outputs": [
    {
     "name": "stdout",
     "output_type": "stream",
     "text": [
      "70.9 ns ± 0.261 ns per loop (mean ± std. dev. of 7 runs, 10,000,000 loops each)\n"
     ]
    }
   ],
   "source": [
    "%timeit b.a"
   ]
  },
  {
   "cell_type": "code",
   "execution_count": 12,
   "id": "ad54dc69",
   "metadata": {
    "execution": {
     "iopub.execute_input": "2023-02-27T12:00:27.778404Z",
     "iopub.status.busy": "2023-02-27T12:00:27.777675Z",
     "iopub.status.idle": "2023-02-27T12:00:27.784876Z",
     "shell.execute_reply": "2023-02-27T12:00:27.784049Z"
    }
   },
   "outputs": [
    {
     "data": {
      "text/plain": [
       "Batch(\n",
       "    a: tensor([[-1.7496,  0.0753, -0.8961],\n",
       "               [-0.9093, -0.0374, -0.9454]]),\n",
       "    x: Batch(\n",
       "           c: tensor([[ 0.0562,  0.7622, -0.2006,  0.2263],\n",
       "                      [ 0.3258,  0.7490,  0.5535,  0.0437],\n",
       "                      [-0.3504,  0.6729,  0.3956,  0.4682]]),\n",
       "       ),\n",
       ")"
      ]
     },
     "execution_count": 12,
     "metadata": {},
     "output_type": "execute_result"
    }
   ],
   "source": [
    "new_value = torch.randn(2, 3)\n",
    "b.a = new_value\n",
    "\n",
    "b"
   ]
  },
  {
   "cell_type": "code",
   "execution_count": 13,
   "id": "29b1d0bf",
   "metadata": {
    "execution": {
     "iopub.execute_input": "2023-02-27T12:00:27.788553Z",
     "iopub.status.busy": "2023-02-27T12:00:27.787920Z",
     "iopub.status.idle": "2023-02-27T12:00:32.631958Z",
     "shell.execute_reply": "2023-02-27T12:00:32.630894Z"
    }
   },
   "outputs": [
    {
     "name": "stdout",
     "output_type": "stream",
     "text": [
      "596 ns ± 3.19 ns per loop (mean ± std. dev. of 7 runs, 1,000,000 loops each)\n"
     ]
    }
   ],
   "source": [
    "%timeit b.a = new_value"
   ]
  },
  {
   "cell_type": "markdown",
   "id": "b61ad1d0",
   "metadata": {},
   "source": [
    "## Initialization"
   ]
  },
  {
   "cell_type": "markdown",
   "id": "d70f0d54",
   "metadata": {},
   "source": [
    "### TreeValue's Initialization"
   ]
  },
  {
   "cell_type": "code",
   "execution_count": 14,
   "id": "d32a679b",
   "metadata": {
    "execution": {
     "iopub.execute_input": "2023-02-27T12:00:32.636236Z",
     "iopub.status.busy": "2023-02-27T12:00:32.635695Z",
     "iopub.status.idle": "2023-02-27T12:00:40.445331Z",
     "shell.execute_reply": "2023-02-27T12:00:40.444126Z"
    }
   },
   "outputs": [
    {
     "name": "stdout",
     "output_type": "stream",
     "text": [
      "961 ns ± 3.99 ns per loop (mean ± std. dev. of 7 runs, 1,000,000 loops each)\n"
     ]
    }
   ],
   "source": [
    "%timeit FastTreeValue(_TREE_DATA_1)"
   ]
  },
  {
   "cell_type": "markdown",
   "id": "24f3707b",
   "metadata": {},
   "source": [
    "### Tianshou Batch's Initialization"
   ]
  },
  {
   "cell_type": "code",
   "execution_count": 15,
   "id": "ac3958df",
   "metadata": {
    "execution": {
     "iopub.execute_input": "2023-02-27T12:00:40.449049Z",
     "iopub.status.busy": "2023-02-27T12:00:40.448594Z",
     "iopub.status.idle": "2023-02-27T12:00:50.321705Z",
     "shell.execute_reply": "2023-02-27T12:00:50.320387Z"
    }
   },
   "outputs": [
    {
     "name": "stdout",
     "output_type": "stream",
     "text": [
      "12.1 µs ± 19.9 ns per loop (mean ± std. dev. of 7 runs, 100,000 loops each)\n"
     ]
    }
   ],
   "source": [
    "%timeit Batch(**_TREE_DATA_1)"
   ]
  },
  {
   "cell_type": "markdown",
   "id": "1ab82e2d",
   "metadata": {},
   "source": [
    "## Deep Copy Operation"
   ]
  },
  {
   "cell_type": "code",
   "execution_count": 16,
   "id": "210a9442",
   "metadata": {
    "execution": {
     "iopub.execute_input": "2023-02-27T12:00:50.327823Z",
     "iopub.status.busy": "2023-02-27T12:00:50.327008Z",
     "iopub.status.idle": "2023-02-27T12:00:50.331656Z",
     "shell.execute_reply": "2023-02-27T12:00:50.330873Z"
    }
   },
   "outputs": [],
   "source": [
    "import copy"
   ]
  },
  {
   "cell_type": "markdown",
   "id": "5a736274",
   "metadata": {},
   "source": [
    "### Deep Copy of TreeValue"
   ]
  },
  {
   "cell_type": "code",
   "execution_count": 17,
   "id": "f9bcadd6",
   "metadata": {
    "execution": {
     "iopub.execute_input": "2023-02-27T12:00:50.335462Z",
     "iopub.status.busy": "2023-02-27T12:00:50.334827Z",
     "iopub.status.idle": "2023-02-27T12:01:04.055720Z",
     "shell.execute_reply": "2023-02-27T12:01:04.055027Z"
    }
   },
   "outputs": [
    {
     "name": "stdout",
     "output_type": "stream",
     "text": [
      "169 µs ± 459 ns per loop (mean ± std. dev. of 7 runs, 10,000 loops each)\n"
     ]
    }
   ],
   "source": [
    "t3 = FastTreeValue(_TREE_DATA_3)\n",
    "%timeit copy.deepcopy(t3)"
   ]
  },
  {
   "cell_type": "markdown",
   "id": "bf8be7ea",
   "metadata": {},
   "source": [
    "### Deep Copy of Tianshou Batch"
   ]
  },
  {
   "cell_type": "code",
   "execution_count": 18,
   "id": "91998e6f",
   "metadata": {
    "execution": {
     "iopub.execute_input": "2023-02-27T12:01:04.059152Z",
     "iopub.status.busy": "2023-02-27T12:01:04.058669Z",
     "iopub.status.idle": "2023-02-27T12:01:17.705138Z",
     "shell.execute_reply": "2023-02-27T12:01:17.704457Z"
    }
   },
   "outputs": [
    {
     "name": "stdout",
     "output_type": "stream",
     "text": [
      "168 µs ± 2.1 µs per loop (mean ± std. dev. of 7 runs, 10,000 loops each)\n"
     ]
    }
   ],
   "source": [
    "b3 = Batch(**_TREE_DATA_3)\n",
    "%timeit copy.deepcopy(b3)"
   ]
  },
  {
   "cell_type": "markdown",
   "id": "223162fb",
   "metadata": {},
   "source": [
    "## Stack, Concat and Split Operation"
   ]
  },
  {
   "cell_type": "markdown",
   "id": "85fa4a73",
   "metadata": {},
   "source": [
    "### Performance of TreeValue"
   ]
  },
  {
   "cell_type": "code",
   "execution_count": 19,
   "id": "a0c2b697",
   "metadata": {
    "execution": {
     "iopub.execute_input": "2023-02-27T12:01:17.708769Z",
     "iopub.status.busy": "2023-02-27T12:01:17.708192Z",
     "iopub.status.idle": "2023-02-27T12:01:17.712308Z",
     "shell.execute_reply": "2023-02-27T12:01:17.711663Z"
    }
   },
   "outputs": [],
   "source": [
    "trees = [FastTreeValue(_TREE_DATA_2) for _ in range(8)]"
   ]
  },
  {
   "cell_type": "code",
   "execution_count": 20,
   "id": "017ea5a5",
   "metadata": {
    "execution": {
     "iopub.execute_input": "2023-02-27T12:01:17.715027Z",
     "iopub.status.busy": "2023-02-27T12:01:17.714548Z",
     "iopub.status.idle": "2023-02-27T12:01:17.723507Z",
     "shell.execute_reply": "2023-02-27T12:01:17.722881Z"
    }
   },
   "outputs": [
    {
     "data": {
      "text/plain": [
       "<FastTreeValue 0x7fee93683f40>\n",
       "├── 'a' --> tensor([[[ 0.7298, -0.9396, -1.1550],\n",
       "│                    [ 0.2021,  0.0035,  1.3206]],\n",
       "│           \n",
       "│                   [[ 0.7298, -0.9396, -1.1550],\n",
       "│                    [ 0.2021,  0.0035,  1.3206]],\n",
       "│           \n",
       "│                   [[ 0.7298, -0.9396, -1.1550],\n",
       "│                    [ 0.2021,  0.0035,  1.3206]],\n",
       "│           \n",
       "│                   [[ 0.7298, -0.9396, -1.1550],\n",
       "│                    [ 0.2021,  0.0035,  1.3206]],\n",
       "│           \n",
       "│                   [[ 0.7298, -0.9396, -1.1550],\n",
       "│                    [ 0.2021,  0.0035,  1.3206]],\n",
       "│           \n",
       "│                   [[ 0.7298, -0.9396, -1.1550],\n",
       "│                    [ 0.2021,  0.0035,  1.3206]],\n",
       "│           \n",
       "│                   [[ 0.7298, -0.9396, -1.1550],\n",
       "│                    [ 0.2021,  0.0035,  1.3206]],\n",
       "│           \n",
       "│                   [[ 0.7298, -0.9396, -1.1550],\n",
       "│                    [ 0.2021,  0.0035,  1.3206]]])\n",
       "└── 'x' --> <FastTreeValue 0x7fee936835e0>\n",
       "    └── 'c' --> tensor([[[ 0.0562,  0.7622, -0.2006,  0.2263],\n",
       "                         [ 0.3258,  0.7490,  0.5535,  0.0437],\n",
       "                         [-0.3504,  0.6729,  0.3956,  0.4682]],\n",
       "                \n",
       "                        [[ 0.0562,  0.7622, -0.2006,  0.2263],\n",
       "                         [ 0.3258,  0.7490,  0.5535,  0.0437],\n",
       "                         [-0.3504,  0.6729,  0.3956,  0.4682]],\n",
       "                \n",
       "                        [[ 0.0562,  0.7622, -0.2006,  0.2263],\n",
       "                         [ 0.3258,  0.7490,  0.5535,  0.0437],\n",
       "                         [-0.3504,  0.6729,  0.3956,  0.4682]],\n",
       "                \n",
       "                        [[ 0.0562,  0.7622, -0.2006,  0.2263],\n",
       "                         [ 0.3258,  0.7490,  0.5535,  0.0437],\n",
       "                         [-0.3504,  0.6729,  0.3956,  0.4682]],\n",
       "                \n",
       "                        [[ 0.0562,  0.7622, -0.2006,  0.2263],\n",
       "                         [ 0.3258,  0.7490,  0.5535,  0.0437],\n",
       "                         [-0.3504,  0.6729,  0.3956,  0.4682]],\n",
       "                \n",
       "                        [[ 0.0562,  0.7622, -0.2006,  0.2263],\n",
       "                         [ 0.3258,  0.7490,  0.5535,  0.0437],\n",
       "                         [-0.3504,  0.6729,  0.3956,  0.4682]],\n",
       "                \n",
       "                        [[ 0.0562,  0.7622, -0.2006,  0.2263],\n",
       "                         [ 0.3258,  0.7490,  0.5535,  0.0437],\n",
       "                         [-0.3504,  0.6729,  0.3956,  0.4682]],\n",
       "                \n",
       "                        [[ 0.0562,  0.7622, -0.2006,  0.2263],\n",
       "                         [ 0.3258,  0.7490,  0.5535,  0.0437],\n",
       "                         [-0.3504,  0.6729,  0.3956,  0.4682]]])"
      ]
     },
     "execution_count": 20,
     "metadata": {},
     "output_type": "execute_result"
    }
   ],
   "source": [
    "t_stack = FastTreeValue.func(subside=True)(torch.stack)\n",
    "\n",
    "t_stack(trees)"
   ]
  },
  {
   "cell_type": "code",
   "execution_count": 21,
   "id": "f8b3f415",
   "metadata": {
    "execution": {
     "iopub.execute_input": "2023-02-27T12:01:17.726687Z",
     "iopub.status.busy": "2023-02-27T12:01:17.725889Z",
     "iopub.status.idle": "2023-02-27T12:01:20.762887Z",
     "shell.execute_reply": "2023-02-27T12:01:20.761763Z"
    }
   },
   "outputs": [
    {
     "name": "stdout",
     "output_type": "stream",
     "text": [
      "37.4 µs ± 150 ns per loop (mean ± std. dev. of 7 runs, 10,000 loops each)\n"
     ]
    }
   ],
   "source": [
    "%timeit t_stack(trees)"
   ]
  },
  {
   "cell_type": "code",
   "execution_count": 22,
   "id": "94b56771",
   "metadata": {
    "execution": {
     "iopub.execute_input": "2023-02-27T12:01:20.766572Z",
     "iopub.status.busy": "2023-02-27T12:01:20.765923Z",
     "iopub.status.idle": "2023-02-27T12:01:20.775227Z",
     "shell.execute_reply": "2023-02-27T12:01:20.774530Z"
    }
   },
   "outputs": [
    {
     "data": {
      "text/plain": [
       "<FastTreeValue 0x7fee93683760>\n",
       "├── 'a' --> tensor([[ 0.7298, -0.9396, -1.1550],\n",
       "│                   [ 0.2021,  0.0035,  1.3206],\n",
       "│                   [ 0.7298, -0.9396, -1.1550],\n",
       "│                   [ 0.2021,  0.0035,  1.3206],\n",
       "│                   [ 0.7298, -0.9396, -1.1550],\n",
       "│                   [ 0.2021,  0.0035,  1.3206],\n",
       "│                   [ 0.7298, -0.9396, -1.1550],\n",
       "│                   [ 0.2021,  0.0035,  1.3206],\n",
       "│                   [ 0.7298, -0.9396, -1.1550],\n",
       "│                   [ 0.2021,  0.0035,  1.3206],\n",
       "│                   [ 0.7298, -0.9396, -1.1550],\n",
       "│                   [ 0.2021,  0.0035,  1.3206],\n",
       "│                   [ 0.7298, -0.9396, -1.1550],\n",
       "│                   [ 0.2021,  0.0035,  1.3206],\n",
       "│                   [ 0.7298, -0.9396, -1.1550],\n",
       "│                   [ 0.2021,  0.0035,  1.3206]])\n",
       "└── 'x' --> <FastTreeValue 0x7fee936839a0>\n",
       "    └── 'c' --> tensor([[ 0.0562,  0.7622, -0.2006,  0.2263],\n",
       "                        [ 0.3258,  0.7490,  0.5535,  0.0437],\n",
       "                        [-0.3504,  0.6729,  0.3956,  0.4682],\n",
       "                        [ 0.0562,  0.7622, -0.2006,  0.2263],\n",
       "                        [ 0.3258,  0.7490,  0.5535,  0.0437],\n",
       "                        [-0.3504,  0.6729,  0.3956,  0.4682],\n",
       "                        [ 0.0562,  0.7622, -0.2006,  0.2263],\n",
       "                        [ 0.3258,  0.7490,  0.5535,  0.0437],\n",
       "                        [-0.3504,  0.6729,  0.3956,  0.4682],\n",
       "                        [ 0.0562,  0.7622, -0.2006,  0.2263],\n",
       "                        [ 0.3258,  0.7490,  0.5535,  0.0437],\n",
       "                        [-0.3504,  0.6729,  0.3956,  0.4682],\n",
       "                        [ 0.0562,  0.7622, -0.2006,  0.2263],\n",
       "                        [ 0.3258,  0.7490,  0.5535,  0.0437],\n",
       "                        [-0.3504,  0.6729,  0.3956,  0.4682],\n",
       "                        [ 0.0562,  0.7622, -0.2006,  0.2263],\n",
       "                        [ 0.3258,  0.7490,  0.5535,  0.0437],\n",
       "                        [-0.3504,  0.6729,  0.3956,  0.4682],\n",
       "                        [ 0.0562,  0.7622, -0.2006,  0.2263],\n",
       "                        [ 0.3258,  0.7490,  0.5535,  0.0437],\n",
       "                        [-0.3504,  0.6729,  0.3956,  0.4682],\n",
       "                        [ 0.0562,  0.7622, -0.2006,  0.2263],\n",
       "                        [ 0.3258,  0.7490,  0.5535,  0.0437],\n",
       "                        [-0.3504,  0.6729,  0.3956,  0.4682]])"
      ]
     },
     "execution_count": 22,
     "metadata": {},
     "output_type": "execute_result"
    }
   ],
   "source": [
    "t_cat = FastTreeValue.func(subside=True)(torch.cat)\n",
    "\n",
    "t_cat(trees)"
   ]
  },
  {
   "cell_type": "code",
   "execution_count": 23,
   "id": "5e9c06a6",
   "metadata": {
    "execution": {
     "iopub.execute_input": "2023-02-27T12:01:20.778740Z",
     "iopub.status.busy": "2023-02-27T12:01:20.778107Z",
     "iopub.status.idle": "2023-02-27T12:01:23.632448Z",
     "shell.execute_reply": "2023-02-27T12:01:23.630377Z"
    }
   },
   "outputs": [
    {
     "name": "stdout",
     "output_type": "stream",
     "text": [
      "35.1 µs ± 90.4 ns per loop (mean ± std. dev. of 7 runs, 10,000 loops each)\n"
     ]
    }
   ],
   "source": [
    "%timeit t_cat(trees)"
   ]
  },
  {
   "cell_type": "code",
   "execution_count": 24,
   "id": "a3ab5c8f",
   "metadata": {
    "execution": {
     "iopub.execute_input": "2023-02-27T12:01:23.636572Z",
     "iopub.status.busy": "2023-02-27T12:01:23.635934Z",
     "iopub.status.idle": "2023-02-27T12:01:28.891926Z",
     "shell.execute_reply": "2023-02-27T12:01:28.890856Z"
    }
   },
   "outputs": [
    {
     "name": "stdout",
     "output_type": "stream",
     "text": [
      "64.5 µs ± 327 ns per loop (mean ± std. dev. of 7 runs, 10,000 loops each)\n"
     ]
    }
   ],
   "source": [
    "t_split = FastTreeValue.func(rise=True)(torch.split)\n",
    "tree = FastTreeValue({\n",
    "    'obs': torch.randn(8, 4, 84, 84),\n",
    "    'action': torch.randint(0, 6, size=(8, 1,)),\n",
    "    'reward': torch.rand(8, 1),\n",
    "})\n",
    "\n",
    "%timeit t_split(tree, 1)"
   ]
  },
  {
   "cell_type": "markdown",
   "id": "31c3ec0b",
   "metadata": {},
   "source": [
    "### Performance of Tianshou Batch"
   ]
  },
  {
   "cell_type": "code",
   "execution_count": 25,
   "id": "9ead828a",
   "metadata": {
    "execution": {
     "iopub.execute_input": "2023-02-27T12:01:28.896134Z",
     "iopub.status.busy": "2023-02-27T12:01:28.895490Z",
     "iopub.status.idle": "2023-02-27T12:01:28.904806Z",
     "shell.execute_reply": "2023-02-27T12:01:28.904083Z"
    }
   },
   "outputs": [
    {
     "data": {
      "text/plain": [
       "Batch(\n",
       "    x: Batch(\n",
       "           c: tensor([[[ 0.0562,  0.7622, -0.2006,  0.2263],\n",
       "                       [ 0.3258,  0.7490,  0.5535,  0.0437],\n",
       "                       [-0.3504,  0.6729,  0.3956,  0.4682]],\n",
       "              \n",
       "                      [[ 0.0562,  0.7622, -0.2006,  0.2263],\n",
       "                       [ 0.3258,  0.7490,  0.5535,  0.0437],\n",
       "                       [-0.3504,  0.6729,  0.3956,  0.4682]],\n",
       "              \n",
       "                      [[ 0.0562,  0.7622, -0.2006,  0.2263],\n",
       "                       [ 0.3258,  0.7490,  0.5535,  0.0437],\n",
       "                       [-0.3504,  0.6729,  0.3956,  0.4682]],\n",
       "              \n",
       "                      [[ 0.0562,  0.7622, -0.2006,  0.2263],\n",
       "                       [ 0.3258,  0.7490,  0.5535,  0.0437],\n",
       "                       [-0.3504,  0.6729,  0.3956,  0.4682]],\n",
       "              \n",
       "                      [[ 0.0562,  0.7622, -0.2006,  0.2263],\n",
       "                       [ 0.3258,  0.7490,  0.5535,  0.0437],\n",
       "                       [-0.3504,  0.6729,  0.3956,  0.4682]],\n",
       "              \n",
       "                      [[ 0.0562,  0.7622, -0.2006,  0.2263],\n",
       "                       [ 0.3258,  0.7490,  0.5535,  0.0437],\n",
       "                       [-0.3504,  0.6729,  0.3956,  0.4682]],\n",
       "              \n",
       "                      [[ 0.0562,  0.7622, -0.2006,  0.2263],\n",
       "                       [ 0.3258,  0.7490,  0.5535,  0.0437],\n",
       "                       [-0.3504,  0.6729,  0.3956,  0.4682]],\n",
       "              \n",
       "                      [[ 0.0562,  0.7622, -0.2006,  0.2263],\n",
       "                       [ 0.3258,  0.7490,  0.5535,  0.0437],\n",
       "                       [-0.3504,  0.6729,  0.3956,  0.4682]]]),\n",
       "       ),\n",
       "    a: tensor([[[ 0.7298, -0.9396, -1.1550],\n",
       "                [ 0.2021,  0.0035,  1.3206]],\n",
       "       \n",
       "               [[ 0.7298, -0.9396, -1.1550],\n",
       "                [ 0.2021,  0.0035,  1.3206]],\n",
       "       \n",
       "               [[ 0.7298, -0.9396, -1.1550],\n",
       "                [ 0.2021,  0.0035,  1.3206]],\n",
       "       \n",
       "               [[ 0.7298, -0.9396, -1.1550],\n",
       "                [ 0.2021,  0.0035,  1.3206]],\n",
       "       \n",
       "               [[ 0.7298, -0.9396, -1.1550],\n",
       "                [ 0.2021,  0.0035,  1.3206]],\n",
       "       \n",
       "               [[ 0.7298, -0.9396, -1.1550],\n",
       "                [ 0.2021,  0.0035,  1.3206]],\n",
       "       \n",
       "               [[ 0.7298, -0.9396, -1.1550],\n",
       "                [ 0.2021,  0.0035,  1.3206]],\n",
       "       \n",
       "               [[ 0.7298, -0.9396, -1.1550],\n",
       "                [ 0.2021,  0.0035,  1.3206]]]),\n",
       ")"
      ]
     },
     "execution_count": 25,
     "metadata": {},
     "output_type": "execute_result"
    }
   ],
   "source": [
    "batches = [Batch(**_TREE_DATA_2) for _ in range(8)]\n",
    "\n",
    "Batch.stack(batches)"
   ]
  },
  {
   "cell_type": "code",
   "execution_count": 26,
   "id": "ec9037a3",
   "metadata": {
    "execution": {
     "iopub.execute_input": "2023-02-27T12:01:28.908273Z",
     "iopub.status.busy": "2023-02-27T12:01:28.907657Z",
     "iopub.status.idle": "2023-02-27T12:01:36.243244Z",
     "shell.execute_reply": "2023-02-27T12:01:36.242303Z"
    }
   },
   "outputs": [
    {
     "name": "stdout",
     "output_type": "stream",
     "text": [
      "90.2 µs ± 287 ns per loop (mean ± std. dev. of 7 runs, 10,000 loops each)\n"
     ]
    }
   ],
   "source": [
    "%timeit Batch.stack(batches)"
   ]
  },
  {
   "cell_type": "code",
   "execution_count": 27,
   "id": "cb8ab77e",
   "metadata": {
    "execution": {
     "iopub.execute_input": "2023-02-27T12:01:36.247078Z",
     "iopub.status.busy": "2023-02-27T12:01:36.246498Z",
     "iopub.status.idle": "2023-02-27T12:01:36.259923Z",
     "shell.execute_reply": "2023-02-27T12:01:36.259041Z"
    }
   },
   "outputs": [
    {
     "data": {
      "text/plain": [
       "Batch(\n",
       "    x: Batch(\n",
       "           c: tensor([[ 0.0562,  0.7622, -0.2006,  0.2263],\n",
       "                      [ 0.3258,  0.7490,  0.5535,  0.0437],\n",
       "                      [-0.3504,  0.6729,  0.3956,  0.4682],\n",
       "                      [ 0.0562,  0.7622, -0.2006,  0.2263],\n",
       "                      [ 0.3258,  0.7490,  0.5535,  0.0437],\n",
       "                      [-0.3504,  0.6729,  0.3956,  0.4682],\n",
       "                      [ 0.0562,  0.7622, -0.2006,  0.2263],\n",
       "                      [ 0.3258,  0.7490,  0.5535,  0.0437],\n",
       "                      [-0.3504,  0.6729,  0.3956,  0.4682],\n",
       "                      [ 0.0562,  0.7622, -0.2006,  0.2263],\n",
       "                      [ 0.3258,  0.7490,  0.5535,  0.0437],\n",
       "                      [-0.3504,  0.6729,  0.3956,  0.4682],\n",
       "                      [ 0.0562,  0.7622, -0.2006,  0.2263],\n",
       "                      [ 0.3258,  0.7490,  0.5535,  0.0437],\n",
       "                      [-0.3504,  0.6729,  0.3956,  0.4682],\n",
       "                      [ 0.0562,  0.7622, -0.2006,  0.2263],\n",
       "                      [ 0.3258,  0.7490,  0.5535,  0.0437],\n",
       "                      [-0.3504,  0.6729,  0.3956,  0.4682],\n",
       "                      [ 0.0562,  0.7622, -0.2006,  0.2263],\n",
       "                      [ 0.3258,  0.7490,  0.5535,  0.0437],\n",
       "                      [-0.3504,  0.6729,  0.3956,  0.4682],\n",
       "                      [ 0.0562,  0.7622, -0.2006,  0.2263],\n",
       "                      [ 0.3258,  0.7490,  0.5535,  0.0437],\n",
       "                      [-0.3504,  0.6729,  0.3956,  0.4682]]),\n",
       "       ),\n",
       "    a: tensor([[ 0.7298, -0.9396, -1.1550],\n",
       "               [ 0.2021,  0.0035,  1.3206],\n",
       "               [ 0.7298, -0.9396, -1.1550],\n",
       "               [ 0.2021,  0.0035,  1.3206],\n",
       "               [ 0.7298, -0.9396, -1.1550],\n",
       "               [ 0.2021,  0.0035,  1.3206],\n",
       "               [ 0.7298, -0.9396, -1.1550],\n",
       "               [ 0.2021,  0.0035,  1.3206],\n",
       "               [ 0.7298, -0.9396, -1.1550],\n",
       "               [ 0.2021,  0.0035,  1.3206],\n",
       "               [ 0.7298, -0.9396, -1.1550],\n",
       "               [ 0.2021,  0.0035,  1.3206],\n",
       "               [ 0.7298, -0.9396, -1.1550],\n",
       "               [ 0.2021,  0.0035,  1.3206],\n",
       "               [ 0.7298, -0.9396, -1.1550],\n",
       "               [ 0.2021,  0.0035,  1.3206]]),\n",
       ")"
      ]
     },
     "execution_count": 27,
     "metadata": {},
     "output_type": "execute_result"
    }
   ],
   "source": [
    "Batch.cat(batches)"
   ]
  },
  {
   "cell_type": "code",
   "execution_count": 28,
   "id": "18dfb045",
   "metadata": {
    "execution": {
     "iopub.execute_input": "2023-02-27T12:01:36.263459Z",
     "iopub.status.busy": "2023-02-27T12:01:36.262764Z",
     "iopub.status.idle": "2023-02-27T12:01:49.869978Z",
     "shell.execute_reply": "2023-02-27T12:01:49.868814Z"
    }
   },
   "outputs": [
    {
     "name": "stdout",
     "output_type": "stream",
     "text": [
      "167 µs ± 726 ns per loop (mean ± std. dev. of 7 runs, 10,000 loops each)\n"
     ]
    }
   ],
   "source": [
    "%timeit Batch.cat(batches)"
   ]
  },
  {
   "cell_type": "code",
   "execution_count": 29,
   "id": "c6688e51",
   "metadata": {
    "execution": {
     "iopub.execute_input": "2023-02-27T12:01:49.875195Z",
     "iopub.status.busy": "2023-02-27T12:01:49.874257Z",
     "iopub.status.idle": "2023-02-27T12:01:53.022930Z",
     "shell.execute_reply": "2023-02-27T12:01:53.022199Z"
    }
   },
   "outputs": [
    {
     "name": "stdout",
     "output_type": "stream",
     "text": [
      "385 µs ± 4.82 µs per loop (mean ± std. dev. of 7 runs, 1,000 loops each)\n"
     ]
    }
   ],
   "source": [
    "batch = Batch({\n",
    "    'obs': torch.randn(8, 4, 84, 84),\n",
    "    'action': torch.randint(0, 6, size=(8, 1,)),\n",
    "    'reward': torch.rand(8, 1)}\n",
    ")\n",
    "\n",
    "%timeit list(Batch.split(batch, 1, shuffle=False, merge_last=True))"
   ]
  },
  {
   "cell_type": "code",
   "execution_count": null,
   "id": "2539fbd9",
   "metadata": {},
   "outputs": [],
   "source": []
  }
 ],
 "metadata": {
  "kernelspec": {
   "display_name": "Python 3 (ipykernel)",
   "language": "python",
   "name": "python3"
  },
  "language_info": {
   "codemirror_mode": {
    "name": "ipython",
    "version": 3
   },
   "file_extension": ".py",
   "mimetype": "text/x-python",
   "name": "python",
   "nbconvert_exporter": "python",
   "pygments_lexer": "ipython3",
   "version": "3.8.16"
  }
 },
 "nbformat": 4,
 "nbformat_minor": 5
}
