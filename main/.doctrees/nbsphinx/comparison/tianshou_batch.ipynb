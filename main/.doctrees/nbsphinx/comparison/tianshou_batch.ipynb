{
 "cells": [
  {
   "cell_type": "markdown",
   "id": "9d39d946",
   "metadata": {},
   "source": [
    "# Comparison Between TreeValue and Tianshou Batch"
   ]
  },
  {
   "cell_type": "markdown",
   "id": "3c6db2d4",
   "metadata": {},
   "source": [
    "In this section, we will take a look at the feature and performance of the [Tianshou Batch](https://github.com/thu-ml/tianshou) library, which is developed by Tsinghua Machine Learning Group."
   ]
  },
  {
   "cell_type": "markdown",
   "id": "069361b0",
   "metadata": {},
   "source": [
    "Before starting the comparison, let us define some thing."
   ]
  },
  {
   "cell_type": "code",
   "execution_count": 1,
   "id": "06fc8d26",
   "metadata": {
    "execution": {
     "iopub.execute_input": "2023-01-29T04:00:44.172703Z",
     "iopub.status.busy": "2023-01-29T04:00:44.172471Z",
     "iopub.status.idle": "2023-01-29T04:00:45.070783Z",
     "shell.execute_reply": "2023-01-29T04:00:45.070116Z"
    }
   },
   "outputs": [
    {
     "name": "stderr",
     "output_type": "stream",
     "text": [
      "/opt/hostedtoolcache/Python/3.8.16/x64/lib/python3.8/site-packages/tqdm/auto.py:22: TqdmWarning: IProgress not found. Please update jupyter and ipywidgets. See https://ipywidgets.readthedocs.io/en/stable/user_install.html\n",
      "  from .autonotebook import tqdm as notebook_tqdm\n"
     ]
    }
   ],
   "source": [
    "import torch \n",
    "\n",
    "_TREE_DATA_1 = {'a': 1, 'b': 2, 'x': {'c': 3, 'd': 4}}\n",
    "_TREE_DATA_2 = {\n",
    "    'a': torch.randn(2, 3), \n",
    "    'x': {\n",
    "        'c': torch.randn(3, 4)\n",
    "    },\n",
    "}\n",
    "_TREE_DATA_3 = {\n",
    "    'obs': torch.randn(4, 84, 84),\n",
    "    'action': torch.randint(0, 6, size=(1,)),\n",
    "    'reward': torch.rand(1),\n",
    "}"
   ]
  },
  {
   "cell_type": "markdown",
   "id": "83461b25",
   "metadata": {},
   "source": [
    "## Read and Write Operation"
   ]
  },
  {
   "cell_type": "markdown",
   "id": "067b3f73",
   "metadata": {},
   "source": [
    "Reading and writing are the two most common operations in the tree data structure based on the data model (TreeValue and Tianshou Batch both belong to this type), so this section will compare the reading and writing performance of these two libraries."
   ]
  },
  {
   "cell_type": "markdown",
   "id": "5d09a5b7",
   "metadata": {},
   "source": [
    "### TreeValue's Get and Set"
   ]
  },
  {
   "cell_type": "code",
   "execution_count": 2,
   "id": "9519c4bb",
   "metadata": {
    "execution": {
     "iopub.execute_input": "2023-01-29T04:00:45.074099Z",
     "iopub.status.busy": "2023-01-29T04:00:45.073513Z",
     "iopub.status.idle": "2023-01-29T04:00:45.105767Z",
     "shell.execute_reply": "2023-01-29T04:00:45.105189Z"
    }
   },
   "outputs": [],
   "source": [
    "from treevalue import FastTreeValue\n",
    "\n",
    "t = FastTreeValue(_TREE_DATA_2)"
   ]
  },
  {
   "cell_type": "code",
   "execution_count": 3,
   "id": "11c37677",
   "metadata": {
    "execution": {
     "iopub.execute_input": "2023-01-29T04:00:45.108567Z",
     "iopub.status.busy": "2023-01-29T04:00:45.108233Z",
     "iopub.status.idle": "2023-01-29T04:00:45.117397Z",
     "shell.execute_reply": "2023-01-29T04:00:45.116795Z"
    }
   },
   "outputs": [
    {
     "data": {
      "text/plain": [
       "<FastTreeValue 0x7f154cecc3a0>\n",
       "├── 'a' --> tensor([[ 0.1496, -1.2800,  0.8527],\n",
       "│                   [-1.6374, -0.0340, -0.0290]])\n",
       "└── 'x' --> <FastTreeValue 0x7f1548debfa0>\n",
       "    └── 'c' --> tensor([[ 1.0546,  0.7291,  0.1206, -0.0410],\n",
       "                        [-2.1992, -0.1414,  1.2098, -0.0544],\n",
       "                        [ 0.4711,  0.0173,  0.8568, -0.4992]])"
      ]
     },
     "execution_count": 3,
     "metadata": {},
     "output_type": "execute_result"
    }
   ],
   "source": [
    "t"
   ]
  },
  {
   "cell_type": "code",
   "execution_count": 4,
   "id": "fd70b0b9",
   "metadata": {
    "execution": {
     "iopub.execute_input": "2023-01-29T04:00:45.120245Z",
     "iopub.status.busy": "2023-01-29T04:00:45.119746Z",
     "iopub.status.idle": "2023-01-29T04:00:45.124797Z",
     "shell.execute_reply": "2023-01-29T04:00:45.124242Z"
    }
   },
   "outputs": [
    {
     "data": {
      "text/plain": [
       "tensor([[ 0.1496, -1.2800,  0.8527],\n",
       "        [-1.6374, -0.0340, -0.0290]])"
      ]
     },
     "execution_count": 4,
     "metadata": {},
     "output_type": "execute_result"
    }
   ],
   "source": [
    "t.a"
   ]
  },
  {
   "cell_type": "code",
   "execution_count": 5,
   "id": "c18197bd",
   "metadata": {
    "execution": {
     "iopub.execute_input": "2023-01-29T04:00:45.127374Z",
     "iopub.status.busy": "2023-01-29T04:00:45.127051Z",
     "iopub.status.idle": "2023-01-29T04:00:50.045209Z",
     "shell.execute_reply": "2023-01-29T04:00:50.044546Z"
    }
   },
   "outputs": [
    {
     "name": "stdout",
     "output_type": "stream",
     "text": [
      "60.5 ns ± 0.041 ns per loop (mean ± std. dev. of 7 runs, 10,000,000 loops each)\n"
     ]
    }
   ],
   "source": [
    "%timeit t.a"
   ]
  },
  {
   "cell_type": "code",
   "execution_count": 6,
   "id": "bd52f867",
   "metadata": {
    "execution": {
     "iopub.execute_input": "2023-01-29T04:00:50.048368Z",
     "iopub.status.busy": "2023-01-29T04:00:50.047772Z",
     "iopub.status.idle": "2023-01-29T04:00:50.054523Z",
     "shell.execute_reply": "2023-01-29T04:00:50.053945Z"
    }
   },
   "outputs": [
    {
     "data": {
      "text/plain": [
       "<FastTreeValue 0x7f154cecc3a0>\n",
       "├── 'a' --> tensor([[-0.2510,  0.1676,  2.6542],\n",
       "│                   [ 1.7389, -0.9621, -1.3552]])\n",
       "└── 'x' --> <FastTreeValue 0x7f1548debfa0>\n",
       "    └── 'c' --> tensor([[ 1.0546,  0.7291,  0.1206, -0.0410],\n",
       "                        [-2.1992, -0.1414,  1.2098, -0.0544],\n",
       "                        [ 0.4711,  0.0173,  0.8568, -0.4992]])"
      ]
     },
     "execution_count": 6,
     "metadata": {},
     "output_type": "execute_result"
    }
   ],
   "source": [
    "new_value = torch.randn(2, 3)\n",
    "t.a = new_value\n",
    "\n",
    "t"
   ]
  },
  {
   "cell_type": "code",
   "execution_count": 7,
   "id": "bbe04d1c",
   "metadata": {
    "execution": {
     "iopub.execute_input": "2023-01-29T04:00:50.057443Z",
     "iopub.status.busy": "2023-01-29T04:00:50.056918Z",
     "iopub.status.idle": "2023-01-29T04:00:54.882828Z",
     "shell.execute_reply": "2023-01-29T04:00:54.882114Z"
    }
   },
   "outputs": [
    {
     "name": "stdout",
     "output_type": "stream",
     "text": [
      "59.4 ns ± 0.0383 ns per loop (mean ± std. dev. of 7 runs, 10,000,000 loops each)\n"
     ]
    }
   ],
   "source": [
    "%timeit t.a = new_value"
   ]
  },
  {
   "cell_type": "markdown",
   "id": "48c49731",
   "metadata": {},
   "source": [
    "### Tianshou Batch's Get and Set"
   ]
  },
  {
   "cell_type": "code",
   "execution_count": 8,
   "id": "f1bb14c1",
   "metadata": {
    "execution": {
     "iopub.execute_input": "2023-01-29T04:00:54.885602Z",
     "iopub.status.busy": "2023-01-29T04:00:54.885245Z",
     "iopub.status.idle": "2023-01-29T04:00:55.207619Z",
     "shell.execute_reply": "2023-01-29T04:00:55.206934Z"
    }
   },
   "outputs": [],
   "source": [
    "from tianshou.data import Batch\n",
    "\n",
    "b = Batch(**_TREE_DATA_2)"
   ]
  },
  {
   "cell_type": "code",
   "execution_count": 9,
   "id": "cb0777c3",
   "metadata": {
    "execution": {
     "iopub.execute_input": "2023-01-29T04:00:55.211085Z",
     "iopub.status.busy": "2023-01-29T04:00:55.210404Z",
     "iopub.status.idle": "2023-01-29T04:00:55.215878Z",
     "shell.execute_reply": "2023-01-29T04:00:55.215264Z"
    }
   },
   "outputs": [
    {
     "data": {
      "text/plain": [
       "Batch(\n",
       "    a: tensor([[ 0.1496, -1.2800,  0.8527],\n",
       "               [-1.6374, -0.0340, -0.0290]]),\n",
       "    x: Batch(\n",
       "           c: tensor([[ 1.0546,  0.7291,  0.1206, -0.0410],\n",
       "                      [-2.1992, -0.1414,  1.2098, -0.0544],\n",
       "                      [ 0.4711,  0.0173,  0.8568, -0.4992]]),\n",
       "       ),\n",
       ")"
      ]
     },
     "execution_count": 9,
     "metadata": {},
     "output_type": "execute_result"
    }
   ],
   "source": [
    "b"
   ]
  },
  {
   "cell_type": "code",
   "execution_count": 10,
   "id": "43ef8ea3",
   "metadata": {
    "execution": {
     "iopub.execute_input": "2023-01-29T04:00:55.218338Z",
     "iopub.status.busy": "2023-01-29T04:00:55.217994Z",
     "iopub.status.idle": "2023-01-29T04:00:55.222744Z",
     "shell.execute_reply": "2023-01-29T04:00:55.222149Z"
    }
   },
   "outputs": [
    {
     "data": {
      "text/plain": [
       "tensor([[ 0.1496, -1.2800,  0.8527],\n",
       "        [-1.6374, -0.0340, -0.0290]])"
      ]
     },
     "execution_count": 10,
     "metadata": {},
     "output_type": "execute_result"
    }
   ],
   "source": [
    "b.a"
   ]
  },
  {
   "cell_type": "code",
   "execution_count": 11,
   "id": "b785ab72",
   "metadata": {
    "execution": {
     "iopub.execute_input": "2023-01-29T04:00:55.225652Z",
     "iopub.status.busy": "2023-01-29T04:00:55.225068Z",
     "iopub.status.idle": "2023-01-29T04:00:59.435779Z",
     "shell.execute_reply": "2023-01-29T04:00:59.435015Z"
    }
   },
   "outputs": [
    {
     "name": "stdout",
     "output_type": "stream",
     "text": [
      "51.5 ns ± 0.113 ns per loop (mean ± std. dev. of 7 runs, 10,000,000 loops each)\n"
     ]
    }
   ],
   "source": [
    "%timeit b.a"
   ]
  },
  {
   "cell_type": "code",
   "execution_count": 12,
   "id": "ad54dc69",
   "metadata": {
    "execution": {
     "iopub.execute_input": "2023-01-29T04:00:59.438982Z",
     "iopub.status.busy": "2023-01-29T04:00:59.438428Z",
     "iopub.status.idle": "2023-01-29T04:00:59.444781Z",
     "shell.execute_reply": "2023-01-29T04:00:59.444219Z"
    }
   },
   "outputs": [
    {
     "data": {
      "text/plain": [
       "Batch(\n",
       "    a: tensor([[-0.7790,  1.2962,  1.2477],\n",
       "               [-0.5858, -1.3944,  0.8464]]),\n",
       "    x: Batch(\n",
       "           c: tensor([[ 1.0546,  0.7291,  0.1206, -0.0410],\n",
       "                      [-2.1992, -0.1414,  1.2098, -0.0544],\n",
       "                      [ 0.4711,  0.0173,  0.8568, -0.4992]]),\n",
       "       ),\n",
       ")"
      ]
     },
     "execution_count": 12,
     "metadata": {},
     "output_type": "execute_result"
    }
   ],
   "source": [
    "new_value = torch.randn(2, 3)\n",
    "b.a = new_value\n",
    "\n",
    "b"
   ]
  },
  {
   "cell_type": "code",
   "execution_count": 13,
   "id": "29b1d0bf",
   "metadata": {
    "execution": {
     "iopub.execute_input": "2023-01-29T04:00:59.447602Z",
     "iopub.status.busy": "2023-01-29T04:00:59.447137Z",
     "iopub.status.idle": "2023-01-29T04:01:03.334092Z",
     "shell.execute_reply": "2023-01-29T04:01:03.333352Z"
    }
   },
   "outputs": [
    {
     "name": "stdout",
     "output_type": "stream",
     "text": [
      "479 ns ± 0.0898 ns per loop (mean ± std. dev. of 7 runs, 1,000,000 loops each)\n"
     ]
    }
   ],
   "source": [
    "%timeit b.a = new_value"
   ]
  },
  {
   "cell_type": "markdown",
   "id": "b61ad1d0",
   "metadata": {},
   "source": [
    "## Initialization"
   ]
  },
  {
   "cell_type": "markdown",
   "id": "d70f0d54",
   "metadata": {},
   "source": [
    "### TreeValue's Initialization"
   ]
  },
  {
   "cell_type": "code",
   "execution_count": 14,
   "id": "d32a679b",
   "metadata": {
    "execution": {
     "iopub.execute_input": "2023-01-29T04:01:03.336891Z",
     "iopub.status.busy": "2023-01-29T04:01:03.336546Z",
     "iopub.status.idle": "2023-01-29T04:01:10.392608Z",
     "shell.execute_reply": "2023-01-29T04:01:10.391901Z"
    }
   },
   "outputs": [
    {
     "name": "stdout",
     "output_type": "stream",
     "text": [
      "869 ns ± 0.113 ns per loop (mean ± std. dev. of 7 runs, 1,000,000 loops each)\n"
     ]
    }
   ],
   "source": [
    "%timeit FastTreeValue(_TREE_DATA_1)"
   ]
  },
  {
   "cell_type": "markdown",
   "id": "24f3707b",
   "metadata": {},
   "source": [
    "### Tianshou Batch's Initialization"
   ]
  },
  {
   "cell_type": "code",
   "execution_count": 15,
   "id": "ac3958df",
   "metadata": {
    "execution": {
     "iopub.execute_input": "2023-01-29T04:01:10.395662Z",
     "iopub.status.busy": "2023-01-29T04:01:10.395305Z",
     "iopub.status.idle": "2023-01-29T04:01:19.666782Z",
     "shell.execute_reply": "2023-01-29T04:01:19.666029Z"
    }
   },
   "outputs": [
    {
     "name": "stdout",
     "output_type": "stream",
     "text": [
      "11.4 µs ± 62.4 ns per loop (mean ± std. dev. of 7 runs, 100,000 loops each)\n"
     ]
    }
   ],
   "source": [
    "%timeit Batch(**_TREE_DATA_1)"
   ]
  },
  {
   "cell_type": "markdown",
   "id": "1ab82e2d",
   "metadata": {},
   "source": [
    "## Deep Copy Operation"
   ]
  },
  {
   "cell_type": "code",
   "execution_count": 16,
   "id": "210a9442",
   "metadata": {
    "execution": {
     "iopub.execute_input": "2023-01-29T04:01:19.669532Z",
     "iopub.status.busy": "2023-01-29T04:01:19.669176Z",
     "iopub.status.idle": "2023-01-29T04:01:19.673021Z",
     "shell.execute_reply": "2023-01-29T04:01:19.672430Z"
    }
   },
   "outputs": [],
   "source": [
    "import copy"
   ]
  },
  {
   "cell_type": "markdown",
   "id": "5a736274",
   "metadata": {},
   "source": [
    "### Deep Copy of TreeValue"
   ]
  },
  {
   "cell_type": "code",
   "execution_count": 17,
   "id": "f9bcadd6",
   "metadata": {
    "execution": {
     "iopub.execute_input": "2023-01-29T04:01:19.675427Z",
     "iopub.status.busy": "2023-01-29T04:01:19.675091Z",
     "iopub.status.idle": "2023-01-29T04:01:30.731685Z",
     "shell.execute_reply": "2023-01-29T04:01:30.731090Z"
    }
   },
   "outputs": [
    {
     "name": "stdout",
     "output_type": "stream",
     "text": [
      "136 µs ± 934 ns per loop (mean ± std. dev. of 7 runs, 10,000 loops each)\n"
     ]
    }
   ],
   "source": [
    "t3 = FastTreeValue(_TREE_DATA_3)\n",
    "%timeit copy.deepcopy(t3)"
   ]
  },
  {
   "cell_type": "markdown",
   "id": "bf8be7ea",
   "metadata": {},
   "source": [
    "### Deep Copy of Tianshou Batch"
   ]
  },
  {
   "cell_type": "code",
   "execution_count": 18,
   "id": "91998e6f",
   "metadata": {
    "execution": {
     "iopub.execute_input": "2023-01-29T04:01:30.735303Z",
     "iopub.status.busy": "2023-01-29T04:01:30.734383Z",
     "iopub.status.idle": "2023-01-29T04:01:41.963353Z",
     "shell.execute_reply": "2023-01-29T04:01:41.962759Z"
    }
   },
   "outputs": [
    {
     "name": "stdout",
     "output_type": "stream",
     "text": [
      "138 µs ± 319 ns per loop (mean ± std. dev. of 7 runs, 10,000 loops each)\n"
     ]
    }
   ],
   "source": [
    "b3 = Batch(**_TREE_DATA_3)\n",
    "%timeit copy.deepcopy(b3)"
   ]
  },
  {
   "cell_type": "markdown",
   "id": "223162fb",
   "metadata": {},
   "source": [
    "## Stack, Concat and Split Operation"
   ]
  },
  {
   "cell_type": "markdown",
   "id": "85fa4a73",
   "metadata": {},
   "source": [
    "### Performance of TreeValue"
   ]
  },
  {
   "cell_type": "code",
   "execution_count": 19,
   "id": "a0c2b697",
   "metadata": {
    "execution": {
     "iopub.execute_input": "2023-01-29T04:01:41.967184Z",
     "iopub.status.busy": "2023-01-29T04:01:41.966261Z",
     "iopub.status.idle": "2023-01-29T04:01:41.970448Z",
     "shell.execute_reply": "2023-01-29T04:01:41.969927Z"
    }
   },
   "outputs": [],
   "source": [
    "trees = [FastTreeValue(_TREE_DATA_2) for _ in range(8)]"
   ]
  },
  {
   "cell_type": "code",
   "execution_count": 20,
   "id": "017ea5a5",
   "metadata": {
    "execution": {
     "iopub.execute_input": "2023-01-29T04:01:41.973945Z",
     "iopub.status.busy": "2023-01-29T04:01:41.973024Z",
     "iopub.status.idle": "2023-01-29T04:01:41.981685Z",
     "shell.execute_reply": "2023-01-29T04:01:41.981144Z"
    }
   },
   "outputs": [
    {
     "data": {
      "text/plain": [
       "<FastTreeValue 0x7f149dadfac0>\n",
       "├── 'a' --> tensor([[[ 0.1496, -1.2800,  0.8527],\n",
       "│                    [-1.6374, -0.0340, -0.0290]],\n",
       "│           \n",
       "│                   [[ 0.1496, -1.2800,  0.8527],\n",
       "│                    [-1.6374, -0.0340, -0.0290]],\n",
       "│           \n",
       "│                   [[ 0.1496, -1.2800,  0.8527],\n",
       "│                    [-1.6374, -0.0340, -0.0290]],\n",
       "│           \n",
       "│                   [[ 0.1496, -1.2800,  0.8527],\n",
       "│                    [-1.6374, -0.0340, -0.0290]],\n",
       "│           \n",
       "│                   [[ 0.1496, -1.2800,  0.8527],\n",
       "│                    [-1.6374, -0.0340, -0.0290]],\n",
       "│           \n",
       "│                   [[ 0.1496, -1.2800,  0.8527],\n",
       "│                    [-1.6374, -0.0340, -0.0290]],\n",
       "│           \n",
       "│                   [[ 0.1496, -1.2800,  0.8527],\n",
       "│                    [-1.6374, -0.0340, -0.0290]],\n",
       "│           \n",
       "│                   [[ 0.1496, -1.2800,  0.8527],\n",
       "│                    [-1.6374, -0.0340, -0.0290]]])\n",
       "└── 'x' --> <FastTreeValue 0x7f149dadff10>\n",
       "    └── 'c' --> tensor([[[ 1.0546,  0.7291,  0.1206, -0.0410],\n",
       "                         [-2.1992, -0.1414,  1.2098, -0.0544],\n",
       "                         [ 0.4711,  0.0173,  0.8568, -0.4992]],\n",
       "                \n",
       "                        [[ 1.0546,  0.7291,  0.1206, -0.0410],\n",
       "                         [-2.1992, -0.1414,  1.2098, -0.0544],\n",
       "                         [ 0.4711,  0.0173,  0.8568, -0.4992]],\n",
       "                \n",
       "                        [[ 1.0546,  0.7291,  0.1206, -0.0410],\n",
       "                         [-2.1992, -0.1414,  1.2098, -0.0544],\n",
       "                         [ 0.4711,  0.0173,  0.8568, -0.4992]],\n",
       "                \n",
       "                        [[ 1.0546,  0.7291,  0.1206, -0.0410],\n",
       "                         [-2.1992, -0.1414,  1.2098, -0.0544],\n",
       "                         [ 0.4711,  0.0173,  0.8568, -0.4992]],\n",
       "                \n",
       "                        [[ 1.0546,  0.7291,  0.1206, -0.0410],\n",
       "                         [-2.1992, -0.1414,  1.2098, -0.0544],\n",
       "                         [ 0.4711,  0.0173,  0.8568, -0.4992]],\n",
       "                \n",
       "                        [[ 1.0546,  0.7291,  0.1206, -0.0410],\n",
       "                         [-2.1992, -0.1414,  1.2098, -0.0544],\n",
       "                         [ 0.4711,  0.0173,  0.8568, -0.4992]],\n",
       "                \n",
       "                        [[ 1.0546,  0.7291,  0.1206, -0.0410],\n",
       "                         [-2.1992, -0.1414,  1.2098, -0.0544],\n",
       "                         [ 0.4711,  0.0173,  0.8568, -0.4992]],\n",
       "                \n",
       "                        [[ 1.0546,  0.7291,  0.1206, -0.0410],\n",
       "                         [-2.1992, -0.1414,  1.2098, -0.0544],\n",
       "                         [ 0.4711,  0.0173,  0.8568, -0.4992]]])"
      ]
     },
     "execution_count": 20,
     "metadata": {},
     "output_type": "execute_result"
    }
   ],
   "source": [
    "t_stack = FastTreeValue.func(subside=True)(torch.stack)\n",
    "\n",
    "t_stack(trees)"
   ]
  },
  {
   "cell_type": "code",
   "execution_count": 21,
   "id": "f8b3f415",
   "metadata": {
    "execution": {
     "iopub.execute_input": "2023-01-29T04:01:41.984654Z",
     "iopub.status.busy": "2023-01-29T04:01:41.984191Z",
     "iopub.status.idle": "2023-01-29T04:01:44.591148Z",
     "shell.execute_reply": "2023-01-29T04:01:44.590432Z"
    }
   },
   "outputs": [
    {
     "name": "stdout",
     "output_type": "stream",
     "text": [
      "32 µs ± 80.7 ns per loop (mean ± std. dev. of 7 runs, 10,000 loops each)\n"
     ]
    }
   ],
   "source": [
    "%timeit t_stack(trees)"
   ]
  },
  {
   "cell_type": "code",
   "execution_count": 22,
   "id": "94b56771",
   "metadata": {
    "execution": {
     "iopub.execute_input": "2023-01-29T04:01:44.594226Z",
     "iopub.status.busy": "2023-01-29T04:01:44.593865Z",
     "iopub.status.idle": "2023-01-29T04:01:44.601595Z",
     "shell.execute_reply": "2023-01-29T04:01:44.601005Z"
    }
   },
   "outputs": [
    {
     "data": {
      "text/plain": [
       "<FastTreeValue 0x7f149dbd75b0>\n",
       "├── 'a' --> tensor([[ 0.1496, -1.2800,  0.8527],\n",
       "│                   [-1.6374, -0.0340, -0.0290],\n",
       "│                   [ 0.1496, -1.2800,  0.8527],\n",
       "│                   [-1.6374, -0.0340, -0.0290],\n",
       "│                   [ 0.1496, -1.2800,  0.8527],\n",
       "│                   [-1.6374, -0.0340, -0.0290],\n",
       "│                   [ 0.1496, -1.2800,  0.8527],\n",
       "│                   [-1.6374, -0.0340, -0.0290],\n",
       "│                   [ 0.1496, -1.2800,  0.8527],\n",
       "│                   [-1.6374, -0.0340, -0.0290],\n",
       "│                   [ 0.1496, -1.2800,  0.8527],\n",
       "│                   [-1.6374, -0.0340, -0.0290],\n",
       "│                   [ 0.1496, -1.2800,  0.8527],\n",
       "│                   [-1.6374, -0.0340, -0.0290],\n",
       "│                   [ 0.1496, -1.2800,  0.8527],\n",
       "│                   [-1.6374, -0.0340, -0.0290]])\n",
       "└── 'x' --> <FastTreeValue 0x7f14a49bad90>\n",
       "    └── 'c' --> tensor([[ 1.0546,  0.7291,  0.1206, -0.0410],\n",
       "                        [-2.1992, -0.1414,  1.2098, -0.0544],\n",
       "                        [ 0.4711,  0.0173,  0.8568, -0.4992],\n",
       "                        [ 1.0546,  0.7291,  0.1206, -0.0410],\n",
       "                        [-2.1992, -0.1414,  1.2098, -0.0544],\n",
       "                        [ 0.4711,  0.0173,  0.8568, -0.4992],\n",
       "                        [ 1.0546,  0.7291,  0.1206, -0.0410],\n",
       "                        [-2.1992, -0.1414,  1.2098, -0.0544],\n",
       "                        [ 0.4711,  0.0173,  0.8568, -0.4992],\n",
       "                        [ 1.0546,  0.7291,  0.1206, -0.0410],\n",
       "                        [-2.1992, -0.1414,  1.2098, -0.0544],\n",
       "                        [ 0.4711,  0.0173,  0.8568, -0.4992],\n",
       "                        [ 1.0546,  0.7291,  0.1206, -0.0410],\n",
       "                        [-2.1992, -0.1414,  1.2098, -0.0544],\n",
       "                        [ 0.4711,  0.0173,  0.8568, -0.4992],\n",
       "                        [ 1.0546,  0.7291,  0.1206, -0.0410],\n",
       "                        [-2.1992, -0.1414,  1.2098, -0.0544],\n",
       "                        [ 0.4711,  0.0173,  0.8568, -0.4992],\n",
       "                        [ 1.0546,  0.7291,  0.1206, -0.0410],\n",
       "                        [-2.1992, -0.1414,  1.2098, -0.0544],\n",
       "                        [ 0.4711,  0.0173,  0.8568, -0.4992],\n",
       "                        [ 1.0546,  0.7291,  0.1206, -0.0410],\n",
       "                        [-2.1992, -0.1414,  1.2098, -0.0544],\n",
       "                        [ 0.4711,  0.0173,  0.8568, -0.4992]])"
      ]
     },
     "execution_count": 22,
     "metadata": {},
     "output_type": "execute_result"
    }
   ],
   "source": [
    "t_cat = FastTreeValue.func(subside=True)(torch.cat)\n",
    "\n",
    "t_cat(trees)"
   ]
  },
  {
   "cell_type": "code",
   "execution_count": 23,
   "id": "5e9c06a6",
   "metadata": {
    "execution": {
     "iopub.execute_input": "2023-01-29T04:01:44.604188Z",
     "iopub.status.busy": "2023-01-29T04:01:44.603861Z",
     "iopub.status.idle": "2023-01-29T04:01:47.053651Z",
     "shell.execute_reply": "2023-01-29T04:01:47.052892Z"
    }
   },
   "outputs": [
    {
     "name": "stdout",
     "output_type": "stream",
     "text": [
      "30.1 µs ± 37.2 ns per loop (mean ± std. dev. of 7 runs, 10,000 loops each)\n"
     ]
    }
   ],
   "source": [
    "%timeit t_cat(trees)"
   ]
  },
  {
   "cell_type": "code",
   "execution_count": 24,
   "id": "a3ab5c8f",
   "metadata": {
    "execution": {
     "iopub.execute_input": "2023-01-29T04:01:47.056639Z",
     "iopub.status.busy": "2023-01-29T04:01:47.056056Z",
     "iopub.status.idle": "2023-01-29T04:01:51.628709Z",
     "shell.execute_reply": "2023-01-29T04:01:51.627956Z"
    }
   },
   "outputs": [
    {
     "name": "stdout",
     "output_type": "stream",
     "text": [
      "56.2 µs ± 56.7 ns per loop (mean ± std. dev. of 7 runs, 10,000 loops each)\n"
     ]
    }
   ],
   "source": [
    "t_split = FastTreeValue.func(rise=True)(torch.split)\n",
    "tree = FastTreeValue({\n",
    "    'obs': torch.randn(8, 4, 84, 84),\n",
    "    'action': torch.randint(0, 6, size=(8, 1,)),\n",
    "    'reward': torch.rand(8, 1),\n",
    "})\n",
    "\n",
    "%timeit t_split(tree, 1)"
   ]
  },
  {
   "cell_type": "markdown",
   "id": "31c3ec0b",
   "metadata": {},
   "source": [
    "### Performance of Tianshou Batch"
   ]
  },
  {
   "cell_type": "code",
   "execution_count": 25,
   "id": "9ead828a",
   "metadata": {
    "execution": {
     "iopub.execute_input": "2023-01-29T04:01:51.631473Z",
     "iopub.status.busy": "2023-01-29T04:01:51.631131Z",
     "iopub.status.idle": "2023-01-29T04:01:51.639216Z",
     "shell.execute_reply": "2023-01-29T04:01:51.638636Z"
    }
   },
   "outputs": [
    {
     "data": {
      "text/plain": [
       "Batch(\n",
       "    a: tensor([[[ 0.1496, -1.2800,  0.8527],\n",
       "                [-1.6374, -0.0340, -0.0290]],\n",
       "       \n",
       "               [[ 0.1496, -1.2800,  0.8527],\n",
       "                [-1.6374, -0.0340, -0.0290]],\n",
       "       \n",
       "               [[ 0.1496, -1.2800,  0.8527],\n",
       "                [-1.6374, -0.0340, -0.0290]],\n",
       "       \n",
       "               [[ 0.1496, -1.2800,  0.8527],\n",
       "                [-1.6374, -0.0340, -0.0290]],\n",
       "       \n",
       "               [[ 0.1496, -1.2800,  0.8527],\n",
       "                [-1.6374, -0.0340, -0.0290]],\n",
       "       \n",
       "               [[ 0.1496, -1.2800,  0.8527],\n",
       "                [-1.6374, -0.0340, -0.0290]],\n",
       "       \n",
       "               [[ 0.1496, -1.2800,  0.8527],\n",
       "                [-1.6374, -0.0340, -0.0290]],\n",
       "       \n",
       "               [[ 0.1496, -1.2800,  0.8527],\n",
       "                [-1.6374, -0.0340, -0.0290]]]),\n",
       "    x: Batch(\n",
       "           c: tensor([[[ 1.0546,  0.7291,  0.1206, -0.0410],\n",
       "                       [-2.1992, -0.1414,  1.2098, -0.0544],\n",
       "                       [ 0.4711,  0.0173,  0.8568, -0.4992]],\n",
       "              \n",
       "                      [[ 1.0546,  0.7291,  0.1206, -0.0410],\n",
       "                       [-2.1992, -0.1414,  1.2098, -0.0544],\n",
       "                       [ 0.4711,  0.0173,  0.8568, -0.4992]],\n",
       "              \n",
       "                      [[ 1.0546,  0.7291,  0.1206, -0.0410],\n",
       "                       [-2.1992, -0.1414,  1.2098, -0.0544],\n",
       "                       [ 0.4711,  0.0173,  0.8568, -0.4992]],\n",
       "              \n",
       "                      [[ 1.0546,  0.7291,  0.1206, -0.0410],\n",
       "                       [-2.1992, -0.1414,  1.2098, -0.0544],\n",
       "                       [ 0.4711,  0.0173,  0.8568, -0.4992]],\n",
       "              \n",
       "                      [[ 1.0546,  0.7291,  0.1206, -0.0410],\n",
       "                       [-2.1992, -0.1414,  1.2098, -0.0544],\n",
       "                       [ 0.4711,  0.0173,  0.8568, -0.4992]],\n",
       "              \n",
       "                      [[ 1.0546,  0.7291,  0.1206, -0.0410],\n",
       "                       [-2.1992, -0.1414,  1.2098, -0.0544],\n",
       "                       [ 0.4711,  0.0173,  0.8568, -0.4992]],\n",
       "              \n",
       "                      [[ 1.0546,  0.7291,  0.1206, -0.0410],\n",
       "                       [-2.1992, -0.1414,  1.2098, -0.0544],\n",
       "                       [ 0.4711,  0.0173,  0.8568, -0.4992]],\n",
       "              \n",
       "                      [[ 1.0546,  0.7291,  0.1206, -0.0410],\n",
       "                       [-2.1992, -0.1414,  1.2098, -0.0544],\n",
       "                       [ 0.4711,  0.0173,  0.8568, -0.4992]]]),\n",
       "       ),\n",
       ")"
      ]
     },
     "execution_count": 25,
     "metadata": {},
     "output_type": "execute_result"
    }
   ],
   "source": [
    "batches = [Batch(**_TREE_DATA_2) for _ in range(8)]\n",
    "\n",
    "Batch.stack(batches)"
   ]
  },
  {
   "cell_type": "code",
   "execution_count": 26,
   "id": "ec9037a3",
   "metadata": {
    "execution": {
     "iopub.execute_input": "2023-01-29T04:01:51.641832Z",
     "iopub.status.busy": "2023-01-29T04:01:51.641518Z",
     "iopub.status.idle": "2023-01-29T04:01:58.045250Z",
     "shell.execute_reply": "2023-01-29T04:01:58.044609Z"
    }
   },
   "outputs": [
    {
     "name": "stdout",
     "output_type": "stream",
     "text": [
      "78.8 µs ± 159 ns per loop (mean ± std. dev. of 7 runs, 10,000 loops each)\n"
     ]
    }
   ],
   "source": [
    "%timeit Batch.stack(batches)"
   ]
  },
  {
   "cell_type": "code",
   "execution_count": 27,
   "id": "cb8ab77e",
   "metadata": {
    "execution": {
     "iopub.execute_input": "2023-01-29T04:01:58.047853Z",
     "iopub.status.busy": "2023-01-29T04:01:58.047491Z",
     "iopub.status.idle": "2023-01-29T04:01:58.054839Z",
     "shell.execute_reply": "2023-01-29T04:01:58.054263Z"
    }
   },
   "outputs": [
    {
     "data": {
      "text/plain": [
       "Batch(\n",
       "    a: tensor([[ 0.1496, -1.2800,  0.8527],\n",
       "               [-1.6374, -0.0340, -0.0290],\n",
       "               [ 0.1496, -1.2800,  0.8527],\n",
       "               [-1.6374, -0.0340, -0.0290],\n",
       "               [ 0.1496, -1.2800,  0.8527],\n",
       "               [-1.6374, -0.0340, -0.0290],\n",
       "               [ 0.1496, -1.2800,  0.8527],\n",
       "               [-1.6374, -0.0340, -0.0290],\n",
       "               [ 0.1496, -1.2800,  0.8527],\n",
       "               [-1.6374, -0.0340, -0.0290],\n",
       "               [ 0.1496, -1.2800,  0.8527],\n",
       "               [-1.6374, -0.0340, -0.0290],\n",
       "               [ 0.1496, -1.2800,  0.8527],\n",
       "               [-1.6374, -0.0340, -0.0290],\n",
       "               [ 0.1496, -1.2800,  0.8527],\n",
       "               [-1.6374, -0.0340, -0.0290]]),\n",
       "    x: Batch(\n",
       "           c: tensor([[ 1.0546,  0.7291,  0.1206, -0.0410],\n",
       "                      [-2.1992, -0.1414,  1.2098, -0.0544],\n",
       "                      [ 0.4711,  0.0173,  0.8568, -0.4992],\n",
       "                      [ 1.0546,  0.7291,  0.1206, -0.0410],\n",
       "                      [-2.1992, -0.1414,  1.2098, -0.0544],\n",
       "                      [ 0.4711,  0.0173,  0.8568, -0.4992],\n",
       "                      [ 1.0546,  0.7291,  0.1206, -0.0410],\n",
       "                      [-2.1992, -0.1414,  1.2098, -0.0544],\n",
       "                      [ 0.4711,  0.0173,  0.8568, -0.4992],\n",
       "                      [ 1.0546,  0.7291,  0.1206, -0.0410],\n",
       "                      [-2.1992, -0.1414,  1.2098, -0.0544],\n",
       "                      [ 0.4711,  0.0173,  0.8568, -0.4992],\n",
       "                      [ 1.0546,  0.7291,  0.1206, -0.0410],\n",
       "                      [-2.1992, -0.1414,  1.2098, -0.0544],\n",
       "                      [ 0.4711,  0.0173,  0.8568, -0.4992],\n",
       "                      [ 1.0546,  0.7291,  0.1206, -0.0410],\n",
       "                      [-2.1992, -0.1414,  1.2098, -0.0544],\n",
       "                      [ 0.4711,  0.0173,  0.8568, -0.4992],\n",
       "                      [ 1.0546,  0.7291,  0.1206, -0.0410],\n",
       "                      [-2.1992, -0.1414,  1.2098, -0.0544],\n",
       "                      [ 0.4711,  0.0173,  0.8568, -0.4992],\n",
       "                      [ 1.0546,  0.7291,  0.1206, -0.0410],\n",
       "                      [-2.1992, -0.1414,  1.2098, -0.0544],\n",
       "                      [ 0.4711,  0.0173,  0.8568, -0.4992]]),\n",
       "       ),\n",
       ")"
      ]
     },
     "execution_count": 27,
     "metadata": {},
     "output_type": "execute_result"
    }
   ],
   "source": [
    "Batch.cat(batches)"
   ]
  },
  {
   "cell_type": "code",
   "execution_count": 28,
   "id": "18dfb045",
   "metadata": {
    "execution": {
     "iopub.execute_input": "2023-01-29T04:01:58.057453Z",
     "iopub.status.busy": "2023-01-29T04:01:58.057017Z",
     "iopub.status.idle": "2023-01-29T04:02:09.695837Z",
     "shell.execute_reply": "2023-01-29T04:02:09.695163Z"
    }
   },
   "outputs": [
    {
     "name": "stdout",
     "output_type": "stream",
     "text": [
      "143 µs ± 205 ns per loop (mean ± std. dev. of 7 runs, 10,000 loops each)\n"
     ]
    }
   ],
   "source": [
    "%timeit Batch.cat(batches)"
   ]
  },
  {
   "cell_type": "code",
   "execution_count": 29,
   "id": "c6688e51",
   "metadata": {
    "execution": {
     "iopub.execute_input": "2023-01-29T04:02:09.698721Z",
     "iopub.status.busy": "2023-01-29T04:02:09.698360Z",
     "iopub.status.idle": "2023-01-29T04:02:12.175305Z",
     "shell.execute_reply": "2023-01-29T04:02:12.174718Z"
    }
   },
   "outputs": [
    {
     "name": "stdout",
     "output_type": "stream",
     "text": [
      "305 µs ± 3.31 µs per loop (mean ± std. dev. of 7 runs, 1,000 loops each)\n"
     ]
    }
   ],
   "source": [
    "batch = Batch({\n",
    "    'obs': torch.randn(8, 4, 84, 84),\n",
    "    'action': torch.randint(0, 6, size=(8, 1,)),\n",
    "    'reward': torch.rand(8, 1)}\n",
    ")\n",
    "\n",
    "%timeit list(Batch.split(batch, 1, shuffle=False, merge_last=True))"
   ]
  },
  {
   "cell_type": "code",
   "execution_count": null,
   "id": "2539fbd9",
   "metadata": {},
   "outputs": [],
   "source": []
  }
 ],
 "metadata": {
  "kernelspec": {
   "display_name": "Python 3 (ipykernel)",
   "language": "python",
   "name": "python3"
  },
  "language_info": {
   "codemirror_mode": {
    "name": "ipython",
    "version": 3
   },
   "file_extension": ".py",
   "mimetype": "text/x-python",
   "name": "python",
   "nbconvert_exporter": "python",
   "pygments_lexer": "ipython3",
   "version": "3.8.16"
  }
 },
 "nbformat": 4,
 "nbformat_minor": 5
}
