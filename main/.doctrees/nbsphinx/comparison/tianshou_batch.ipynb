{
 "cells": [
  {
   "cell_type": "markdown",
   "id": "9d39d946",
   "metadata": {},
   "source": [
    "# Comparison Between TreeValue and Tianshou Batch"
   ]
  },
  {
   "cell_type": "markdown",
   "id": "3c6db2d4",
   "metadata": {},
   "source": [
    "In this section, we will take a look at the feature and performance of the [Tianshou Batch](https://github.com/thu-ml/tianshou) library, which is developed by Tsinghua Machine Learning Group."
   ]
  },
  {
   "cell_type": "markdown",
   "id": "069361b0",
   "metadata": {},
   "source": [
    "Before starting the comparison, let us define some thing."
   ]
  },
  {
   "cell_type": "code",
   "execution_count": 1,
   "id": "06fc8d26",
   "metadata": {
    "execution": {
     "iopub.execute_input": "2023-01-24T16:52:04.264762Z",
     "iopub.status.busy": "2023-01-24T16:52:04.264520Z",
     "iopub.status.idle": "2023-01-24T16:52:05.255538Z",
     "shell.execute_reply": "2023-01-24T16:52:05.254869Z"
    }
   },
   "outputs": [
    {
     "name": "stderr",
     "output_type": "stream",
     "text": [
      "/opt/hostedtoolcache/Python/3.8.16/x64/lib/python3.8/site-packages/tqdm/auto.py:22: TqdmWarning: IProgress not found. Please update jupyter and ipywidgets. See https://ipywidgets.readthedocs.io/en/stable/user_install.html\n",
      "  from .autonotebook import tqdm as notebook_tqdm\n"
     ]
    }
   ],
   "source": [
    "import torch \n",
    "\n",
    "_TREE_DATA_1 = {'a': 1, 'b': 2, 'x': {'c': 3, 'd': 4}}\n",
    "_TREE_DATA_2 = {\n",
    "    'a': torch.randn(2, 3), \n",
    "    'x': {\n",
    "        'c': torch.randn(3, 4)\n",
    "    },\n",
    "}\n",
    "_TREE_DATA_3 = {\n",
    "    'obs': torch.randn(4, 84, 84),\n",
    "    'action': torch.randint(0, 6, size=(1,)),\n",
    "    'reward': torch.rand(1),\n",
    "}"
   ]
  },
  {
   "cell_type": "markdown",
   "id": "83461b25",
   "metadata": {},
   "source": [
    "## Read and Write Operation"
   ]
  },
  {
   "cell_type": "markdown",
   "id": "067b3f73",
   "metadata": {},
   "source": [
    "Reading and writing are the two most common operations in the tree data structure based on the data model (TreeValue and Tianshou Batch both belong to this type), so this section will compare the reading and writing performance of these two libraries."
   ]
  },
  {
   "cell_type": "markdown",
   "id": "5d09a5b7",
   "metadata": {},
   "source": [
    "### TreeValue's Get and Set"
   ]
  },
  {
   "cell_type": "code",
   "execution_count": 2,
   "id": "9519c4bb",
   "metadata": {
    "execution": {
     "iopub.execute_input": "2023-01-24T16:52:05.259502Z",
     "iopub.status.busy": "2023-01-24T16:52:05.259075Z",
     "iopub.status.idle": "2023-01-24T16:52:05.292581Z",
     "shell.execute_reply": "2023-01-24T16:52:05.291946Z"
    }
   },
   "outputs": [],
   "source": [
    "from treevalue import FastTreeValue\n",
    "\n",
    "t = FastTreeValue(_TREE_DATA_2)"
   ]
  },
  {
   "cell_type": "code",
   "execution_count": 3,
   "id": "11c37677",
   "metadata": {
    "execution": {
     "iopub.execute_input": "2023-01-24T16:52:05.295710Z",
     "iopub.status.busy": "2023-01-24T16:52:05.295490Z",
     "iopub.status.idle": "2023-01-24T16:52:05.303631Z",
     "shell.execute_reply": "2023-01-24T16:52:05.302979Z"
    }
   },
   "outputs": [
    {
     "data": {
      "text/plain": [
       "<FastTreeValue 0x7f3eb8d97040>\n",
       "├── 'a' --> tensor([[-0.4477, -0.4466, -0.0566],\n",
       "│                   [-0.1362,  1.8692, -0.5060]])\n",
       "└── 'x' --> <FastTreeValue 0x7f3eb8d972e0>\n",
       "    └── 'c' --> tensor([[ 1.5679,  0.8315, -0.3613, -0.2905],\n",
       "                        [-0.2669, -1.9609,  1.0529,  1.8265],\n",
       "                        [ 0.5557,  0.7122,  0.6872, -0.3841]])"
      ]
     },
     "execution_count": 3,
     "metadata": {},
     "output_type": "execute_result"
    }
   ],
   "source": [
    "t"
   ]
  },
  {
   "cell_type": "code",
   "execution_count": 4,
   "id": "fd70b0b9",
   "metadata": {
    "execution": {
     "iopub.execute_input": "2023-01-24T16:52:05.306726Z",
     "iopub.status.busy": "2023-01-24T16:52:05.306503Z",
     "iopub.status.idle": "2023-01-24T16:52:05.311152Z",
     "shell.execute_reply": "2023-01-24T16:52:05.310493Z"
    }
   },
   "outputs": [
    {
     "data": {
      "text/plain": [
       "tensor([[-0.4477, -0.4466, -0.0566],\n",
       "        [-0.1362,  1.8692, -0.5060]])"
      ]
     },
     "execution_count": 4,
     "metadata": {},
     "output_type": "execute_result"
    }
   ],
   "source": [
    "t.a"
   ]
  },
  {
   "cell_type": "code",
   "execution_count": 5,
   "id": "c18197bd",
   "metadata": {
    "execution": {
     "iopub.execute_input": "2023-01-24T16:52:05.313973Z",
     "iopub.status.busy": "2023-01-24T16:52:05.313759Z",
     "iopub.status.idle": "2023-01-24T16:52:10.596464Z",
     "shell.execute_reply": "2023-01-24T16:52:10.595884Z"
    }
   },
   "outputs": [
    {
     "name": "stdout",
     "output_type": "stream",
     "text": [
      "65.2 ns ± 0.146 ns per loop (mean ± std. dev. of 7 runs, 10,000,000 loops each)\n"
     ]
    }
   ],
   "source": [
    "%timeit t.a"
   ]
  },
  {
   "cell_type": "code",
   "execution_count": 6,
   "id": "bd52f867",
   "metadata": {
    "execution": {
     "iopub.execute_input": "2023-01-24T16:52:10.599490Z",
     "iopub.status.busy": "2023-01-24T16:52:10.599267Z",
     "iopub.status.idle": "2023-01-24T16:52:10.606229Z",
     "shell.execute_reply": "2023-01-24T16:52:10.605559Z"
    }
   },
   "outputs": [
    {
     "data": {
      "text/plain": [
       "<FastTreeValue 0x7f3eb8d97040>\n",
       "├── 'a' --> tensor([[ 1.4876, -1.3956, -1.7041],\n",
       "│                   [ 0.5601, -0.0877,  0.2837]])\n",
       "└── 'x' --> <FastTreeValue 0x7f3eb8d972e0>\n",
       "    └── 'c' --> tensor([[ 1.5679,  0.8315, -0.3613, -0.2905],\n",
       "                        [-0.2669, -1.9609,  1.0529,  1.8265],\n",
       "                        [ 0.5557,  0.7122,  0.6872, -0.3841]])"
      ]
     },
     "execution_count": 6,
     "metadata": {},
     "output_type": "execute_result"
    }
   ],
   "source": [
    "new_value = torch.randn(2, 3)\n",
    "t.a = new_value\n",
    "\n",
    "t"
   ]
  },
  {
   "cell_type": "code",
   "execution_count": 7,
   "id": "bbe04d1c",
   "metadata": {
    "execution": {
     "iopub.execute_input": "2023-01-24T16:52:10.608868Z",
     "iopub.status.busy": "2023-01-24T16:52:10.608647Z",
     "iopub.status.idle": "2023-01-24T16:52:15.544723Z",
     "shell.execute_reply": "2023-01-24T16:52:15.543623Z"
    }
   },
   "outputs": [
    {
     "name": "stdout",
     "output_type": "stream",
     "text": [
      "60.9 ns ± 0.0774 ns per loop (mean ± std. dev. of 7 runs, 10,000,000 loops each)\n"
     ]
    }
   ],
   "source": [
    "%timeit t.a = new_value"
   ]
  },
  {
   "cell_type": "markdown",
   "id": "48c49731",
   "metadata": {},
   "source": [
    "### Tianshou Batch's Get and Set"
   ]
  },
  {
   "cell_type": "code",
   "execution_count": 8,
   "id": "f1bb14c1",
   "metadata": {
    "execution": {
     "iopub.execute_input": "2023-01-24T16:52:15.550298Z",
     "iopub.status.busy": "2023-01-24T16:52:15.550053Z",
     "iopub.status.idle": "2023-01-24T16:52:15.894326Z",
     "shell.execute_reply": "2023-01-24T16:52:15.893635Z"
    }
   },
   "outputs": [],
   "source": [
    "from tianshou.data import Batch\n",
    "\n",
    "b = Batch(**_TREE_DATA_2)"
   ]
  },
  {
   "cell_type": "code",
   "execution_count": 9,
   "id": "cb0777c3",
   "metadata": {
    "execution": {
     "iopub.execute_input": "2023-01-24T16:52:15.897868Z",
     "iopub.status.busy": "2023-01-24T16:52:15.897172Z",
     "iopub.status.idle": "2023-01-24T16:52:15.903444Z",
     "shell.execute_reply": "2023-01-24T16:52:15.902800Z"
    }
   },
   "outputs": [
    {
     "data": {
      "text/plain": [
       "Batch(\n",
       "    a: tensor([[-0.4477, -0.4466, -0.0566],\n",
       "               [-0.1362,  1.8692, -0.5060]]),\n",
       "    x: Batch(\n",
       "           c: tensor([[ 1.5679,  0.8315, -0.3613, -0.2905],\n",
       "                      [-0.2669, -1.9609,  1.0529,  1.8265],\n",
       "                      [ 0.5557,  0.7122,  0.6872, -0.3841]]),\n",
       "       ),\n",
       ")"
      ]
     },
     "execution_count": 9,
     "metadata": {},
     "output_type": "execute_result"
    }
   ],
   "source": [
    "b"
   ]
  },
  {
   "cell_type": "code",
   "execution_count": 10,
   "id": "43ef8ea3",
   "metadata": {
    "execution": {
     "iopub.execute_input": "2023-01-24T16:52:15.906283Z",
     "iopub.status.busy": "2023-01-24T16:52:15.905925Z",
     "iopub.status.idle": "2023-01-24T16:52:15.910887Z",
     "shell.execute_reply": "2023-01-24T16:52:15.910241Z"
    }
   },
   "outputs": [
    {
     "data": {
      "text/plain": [
       "tensor([[-0.4477, -0.4466, -0.0566],\n",
       "        [-0.1362,  1.8692, -0.5060]])"
      ]
     },
     "execution_count": 10,
     "metadata": {},
     "output_type": "execute_result"
    }
   ],
   "source": [
    "b.a"
   ]
  },
  {
   "cell_type": "code",
   "execution_count": 11,
   "id": "b785ab72",
   "metadata": {
    "execution": {
     "iopub.execute_input": "2023-01-24T16:52:15.913722Z",
     "iopub.status.busy": "2023-01-24T16:52:15.913506Z",
     "iopub.status.idle": "2023-01-24T16:52:20.201081Z",
     "shell.execute_reply": "2023-01-24T16:52:20.200019Z"
    }
   },
   "outputs": [
    {
     "name": "stdout",
     "output_type": "stream",
     "text": [
      "53 ns ± 0.0406 ns per loop (mean ± std. dev. of 7 runs, 10,000,000 loops each)\n"
     ]
    }
   ],
   "source": [
    "%timeit b.a"
   ]
  },
  {
   "cell_type": "code",
   "execution_count": 12,
   "id": "ad54dc69",
   "metadata": {
    "execution": {
     "iopub.execute_input": "2023-01-24T16:52:20.204150Z",
     "iopub.status.busy": "2023-01-24T16:52:20.203902Z",
     "iopub.status.idle": "2023-01-24T16:52:20.209786Z",
     "shell.execute_reply": "2023-01-24T16:52:20.209120Z"
    }
   },
   "outputs": [
    {
     "data": {
      "text/plain": [
       "Batch(\n",
       "    a: tensor([[-1.3343,  0.9800, -1.4121],\n",
       "               [ 0.5790,  2.0409, -0.4248]]),\n",
       "    x: Batch(\n",
       "           c: tensor([[ 1.5679,  0.8315, -0.3613, -0.2905],\n",
       "                      [-0.2669, -1.9609,  1.0529,  1.8265],\n",
       "                      [ 0.5557,  0.7122,  0.6872, -0.3841]]),\n",
       "       ),\n",
       ")"
      ]
     },
     "execution_count": 12,
     "metadata": {},
     "output_type": "execute_result"
    }
   ],
   "source": [
    "new_value = torch.randn(2, 3)\n",
    "b.a = new_value\n",
    "\n",
    "b"
   ]
  },
  {
   "cell_type": "code",
   "execution_count": 13,
   "id": "29b1d0bf",
   "metadata": {
    "execution": {
     "iopub.execute_input": "2023-01-24T16:52:20.212697Z",
     "iopub.status.busy": "2023-01-24T16:52:20.212338Z",
     "iopub.status.idle": "2023-01-24T16:52:24.108463Z",
     "shell.execute_reply": "2023-01-24T16:52:24.107416Z"
    }
   },
   "outputs": [
    {
     "name": "stdout",
     "output_type": "stream",
     "text": [
      "479 ns ± 0.151 ns per loop (mean ± std. dev. of 7 runs, 1,000,000 loops each)\n"
     ]
    }
   ],
   "source": [
    "%timeit b.a = new_value"
   ]
  },
  {
   "cell_type": "markdown",
   "id": "b61ad1d0",
   "metadata": {},
   "source": [
    "## Initialization"
   ]
  },
  {
   "cell_type": "markdown",
   "id": "d70f0d54",
   "metadata": {},
   "source": [
    "### TreeValue's Initialization"
   ]
  },
  {
   "cell_type": "code",
   "execution_count": 14,
   "id": "d32a679b",
   "metadata": {
    "execution": {
     "iopub.execute_input": "2023-01-24T16:52:24.111591Z",
     "iopub.status.busy": "2023-01-24T16:52:24.111352Z",
     "iopub.status.idle": "2023-01-24T16:52:31.042922Z",
     "shell.execute_reply": "2023-01-24T16:52:31.042332Z"
    }
   },
   "outputs": [
    {
     "name": "stdout",
     "output_type": "stream",
     "text": [
      "854 ns ± 0.27 ns per loop (mean ± std. dev. of 7 runs, 1,000,000 loops each)\n"
     ]
    }
   ],
   "source": [
    "%timeit FastTreeValue(_TREE_DATA_1)"
   ]
  },
  {
   "cell_type": "markdown",
   "id": "24f3707b",
   "metadata": {},
   "source": [
    "### Tianshou Batch's Initialization"
   ]
  },
  {
   "cell_type": "code",
   "execution_count": 15,
   "id": "ac3958df",
   "metadata": {
    "execution": {
     "iopub.execute_input": "2023-01-24T16:52:31.046669Z",
     "iopub.status.busy": "2023-01-24T16:52:31.046077Z",
     "iopub.status.idle": "2023-01-24T16:52:40.375116Z",
     "shell.execute_reply": "2023-01-24T16:52:40.374306Z"
    }
   },
   "outputs": [
    {
     "name": "stdout",
     "output_type": "stream",
     "text": [
      "11.5 µs ± 16.6 ns per loop (mean ± std. dev. of 7 runs, 100,000 loops each)\n"
     ]
    }
   ],
   "source": [
    "%timeit Batch(**_TREE_DATA_1)"
   ]
  },
  {
   "cell_type": "markdown",
   "id": "1ab82e2d",
   "metadata": {},
   "source": [
    "## Deep Copy Operation"
   ]
  },
  {
   "cell_type": "code",
   "execution_count": 16,
   "id": "210a9442",
   "metadata": {
    "execution": {
     "iopub.execute_input": "2023-01-24T16:52:40.378798Z",
     "iopub.status.busy": "2023-01-24T16:52:40.378429Z",
     "iopub.status.idle": "2023-01-24T16:52:40.382721Z",
     "shell.execute_reply": "2023-01-24T16:52:40.382170Z"
    }
   },
   "outputs": [],
   "source": [
    "import copy"
   ]
  },
  {
   "cell_type": "markdown",
   "id": "5a736274",
   "metadata": {},
   "source": [
    "### Deep Copy of TreeValue"
   ]
  },
  {
   "cell_type": "code",
   "execution_count": 17,
   "id": "f9bcadd6",
   "metadata": {
    "execution": {
     "iopub.execute_input": "2023-01-24T16:52:40.385796Z",
     "iopub.status.busy": "2023-01-24T16:52:40.385570Z",
     "iopub.status.idle": "2023-01-24T16:52:51.268921Z",
     "shell.execute_reply": "2023-01-24T16:52:51.268364Z"
    }
   },
   "outputs": [
    {
     "name": "stdout",
     "output_type": "stream",
     "text": [
      "134 µs ± 262 ns per loop (mean ± std. dev. of 7 runs, 10,000 loops each)\n"
     ]
    }
   ],
   "source": [
    "t3 = FastTreeValue(_TREE_DATA_3)\n",
    "%timeit copy.deepcopy(t3)"
   ]
  },
  {
   "cell_type": "markdown",
   "id": "bf8be7ea",
   "metadata": {},
   "source": [
    "### Deep Copy of Tianshou Batch"
   ]
  },
  {
   "cell_type": "code",
   "execution_count": 18,
   "id": "91998e6f",
   "metadata": {
    "execution": {
     "iopub.execute_input": "2023-01-24T16:52:51.271888Z",
     "iopub.status.busy": "2023-01-24T16:52:51.271536Z",
     "iopub.status.idle": "2023-01-24T16:53:02.313517Z",
     "shell.execute_reply": "2023-01-24T16:53:02.312947Z"
    }
   },
   "outputs": [
    {
     "name": "stdout",
     "output_type": "stream",
     "text": [
      "136 µs ± 459 ns per loop (mean ± std. dev. of 7 runs, 10,000 loops each)\n"
     ]
    }
   ],
   "source": [
    "b3 = Batch(**_TREE_DATA_3)\n",
    "%timeit copy.deepcopy(b3)"
   ]
  },
  {
   "cell_type": "markdown",
   "id": "223162fb",
   "metadata": {},
   "source": [
    "## Stack, Concat and Split Operation"
   ]
  },
  {
   "cell_type": "markdown",
   "id": "85fa4a73",
   "metadata": {},
   "source": [
    "### Performance of TreeValue"
   ]
  },
  {
   "cell_type": "code",
   "execution_count": 19,
   "id": "a0c2b697",
   "metadata": {
    "execution": {
     "iopub.execute_input": "2023-01-24T16:53:02.316596Z",
     "iopub.status.busy": "2023-01-24T16:53:02.316226Z",
     "iopub.status.idle": "2023-01-24T16:53:02.319389Z",
     "shell.execute_reply": "2023-01-24T16:53:02.318863Z"
    }
   },
   "outputs": [],
   "source": [
    "trees = [FastTreeValue(_TREE_DATA_2) for _ in range(8)]"
   ]
  },
  {
   "cell_type": "code",
   "execution_count": 20,
   "id": "017ea5a5",
   "metadata": {
    "execution": {
     "iopub.execute_input": "2023-01-24T16:53:02.322936Z",
     "iopub.status.busy": "2023-01-24T16:53:02.321735Z",
     "iopub.status.idle": "2023-01-24T16:53:02.329325Z",
     "shell.execute_reply": "2023-01-24T16:53:02.328796Z"
    }
   },
   "outputs": [
    {
     "data": {
      "text/plain": [
       "<FastTreeValue 0x7f3e0ea9af70>\n",
       "├── 'a' --> tensor([[[-0.4477, -0.4466, -0.0566],\n",
       "│                    [-0.1362,  1.8692, -0.5060]],\n",
       "│           \n",
       "│                   [[-0.4477, -0.4466, -0.0566],\n",
       "│                    [-0.1362,  1.8692, -0.5060]],\n",
       "│           \n",
       "│                   [[-0.4477, -0.4466, -0.0566],\n",
       "│                    [-0.1362,  1.8692, -0.5060]],\n",
       "│           \n",
       "│                   [[-0.4477, -0.4466, -0.0566],\n",
       "│                    [-0.1362,  1.8692, -0.5060]],\n",
       "│           \n",
       "│                   [[-0.4477, -0.4466, -0.0566],\n",
       "│                    [-0.1362,  1.8692, -0.5060]],\n",
       "│           \n",
       "│                   [[-0.4477, -0.4466, -0.0566],\n",
       "│                    [-0.1362,  1.8692, -0.5060]],\n",
       "│           \n",
       "│                   [[-0.4477, -0.4466, -0.0566],\n",
       "│                    [-0.1362,  1.8692, -0.5060]],\n",
       "│           \n",
       "│                   [[-0.4477, -0.4466, -0.0566],\n",
       "│                    [-0.1362,  1.8692, -0.5060]]])\n",
       "└── 'x' --> <FastTreeValue 0x7f3e0f027c10>\n",
       "    └── 'c' --> tensor([[[ 1.5679,  0.8315, -0.3613, -0.2905],\n",
       "                         [-0.2669, -1.9609,  1.0529,  1.8265],\n",
       "                         [ 0.5557,  0.7122,  0.6872, -0.3841]],\n",
       "                \n",
       "                        [[ 1.5679,  0.8315, -0.3613, -0.2905],\n",
       "                         [-0.2669, -1.9609,  1.0529,  1.8265],\n",
       "                         [ 0.5557,  0.7122,  0.6872, -0.3841]],\n",
       "                \n",
       "                        [[ 1.5679,  0.8315, -0.3613, -0.2905],\n",
       "                         [-0.2669, -1.9609,  1.0529,  1.8265],\n",
       "                         [ 0.5557,  0.7122,  0.6872, -0.3841]],\n",
       "                \n",
       "                        [[ 1.5679,  0.8315, -0.3613, -0.2905],\n",
       "                         [-0.2669, -1.9609,  1.0529,  1.8265],\n",
       "                         [ 0.5557,  0.7122,  0.6872, -0.3841]],\n",
       "                \n",
       "                        [[ 1.5679,  0.8315, -0.3613, -0.2905],\n",
       "                         [-0.2669, -1.9609,  1.0529,  1.8265],\n",
       "                         [ 0.5557,  0.7122,  0.6872, -0.3841]],\n",
       "                \n",
       "                        [[ 1.5679,  0.8315, -0.3613, -0.2905],\n",
       "                         [-0.2669, -1.9609,  1.0529,  1.8265],\n",
       "                         [ 0.5557,  0.7122,  0.6872, -0.3841]],\n",
       "                \n",
       "                        [[ 1.5679,  0.8315, -0.3613, -0.2905],\n",
       "                         [-0.2669, -1.9609,  1.0529,  1.8265],\n",
       "                         [ 0.5557,  0.7122,  0.6872, -0.3841]],\n",
       "                \n",
       "                        [[ 1.5679,  0.8315, -0.3613, -0.2905],\n",
       "                         [-0.2669, -1.9609,  1.0529,  1.8265],\n",
       "                         [ 0.5557,  0.7122,  0.6872, -0.3841]]])"
      ]
     },
     "execution_count": 20,
     "metadata": {},
     "output_type": "execute_result"
    }
   ],
   "source": [
    "t_stack = FastTreeValue.func(subside=True)(torch.stack)\n",
    "\n",
    "t_stack(trees)"
   ]
  },
  {
   "cell_type": "code",
   "execution_count": 21,
   "id": "f8b3f415",
   "metadata": {
    "execution": {
     "iopub.execute_input": "2023-01-24T16:53:02.331950Z",
     "iopub.status.busy": "2023-01-24T16:53:02.331556Z",
     "iopub.status.idle": "2023-01-24T16:53:04.965908Z",
     "shell.execute_reply": "2023-01-24T16:53:04.965223Z"
    }
   },
   "outputs": [
    {
     "name": "stdout",
     "output_type": "stream",
     "text": [
      "32.4 µs ± 44.7 ns per loop (mean ± std. dev. of 7 runs, 10,000 loops each)\n"
     ]
    }
   ],
   "source": [
    "%timeit t_stack(trees)"
   ]
  },
  {
   "cell_type": "code",
   "execution_count": 22,
   "id": "94b56771",
   "metadata": {
    "execution": {
     "iopub.execute_input": "2023-01-24T16:53:04.969112Z",
     "iopub.status.busy": "2023-01-24T16:53:04.968547Z",
     "iopub.status.idle": "2023-01-24T16:53:04.975706Z",
     "shell.execute_reply": "2023-01-24T16:53:04.975062Z"
    }
   },
   "outputs": [
    {
     "data": {
      "text/plain": [
       "<FastTreeValue 0x7f3eb8d97460>\n",
       "├── 'a' --> tensor([[-0.4477, -0.4466, -0.0566],\n",
       "│                   [-0.1362,  1.8692, -0.5060],\n",
       "│                   [-0.4477, -0.4466, -0.0566],\n",
       "│                   [-0.1362,  1.8692, -0.5060],\n",
       "│                   [-0.4477, -0.4466, -0.0566],\n",
       "│                   [-0.1362,  1.8692, -0.5060],\n",
       "│                   [-0.4477, -0.4466, -0.0566],\n",
       "│                   [-0.1362,  1.8692, -0.5060],\n",
       "│                   [-0.4477, -0.4466, -0.0566],\n",
       "│                   [-0.1362,  1.8692, -0.5060],\n",
       "│                   [-0.4477, -0.4466, -0.0566],\n",
       "│                   [-0.1362,  1.8692, -0.5060],\n",
       "│                   [-0.4477, -0.4466, -0.0566],\n",
       "│                   [-0.1362,  1.8692, -0.5060],\n",
       "│                   [-0.4477, -0.4466, -0.0566],\n",
       "│                   [-0.1362,  1.8692, -0.5060]])\n",
       "└── 'x' --> <FastTreeValue 0x7f3e0eb14c70>\n",
       "    └── 'c' --> tensor([[ 1.5679,  0.8315, -0.3613, -0.2905],\n",
       "                        [-0.2669, -1.9609,  1.0529,  1.8265],\n",
       "                        [ 0.5557,  0.7122,  0.6872, -0.3841],\n",
       "                        [ 1.5679,  0.8315, -0.3613, -0.2905],\n",
       "                        [-0.2669, -1.9609,  1.0529,  1.8265],\n",
       "                        [ 0.5557,  0.7122,  0.6872, -0.3841],\n",
       "                        [ 1.5679,  0.8315, -0.3613, -0.2905],\n",
       "                        [-0.2669, -1.9609,  1.0529,  1.8265],\n",
       "                        [ 0.5557,  0.7122,  0.6872, -0.3841],\n",
       "                        [ 1.5679,  0.8315, -0.3613, -0.2905],\n",
       "                        [-0.2669, -1.9609,  1.0529,  1.8265],\n",
       "                        [ 0.5557,  0.7122,  0.6872, -0.3841],\n",
       "                        [ 1.5679,  0.8315, -0.3613, -0.2905],\n",
       "                        [-0.2669, -1.9609,  1.0529,  1.8265],\n",
       "                        [ 0.5557,  0.7122,  0.6872, -0.3841],\n",
       "                        [ 1.5679,  0.8315, -0.3613, -0.2905],\n",
       "                        [-0.2669, -1.9609,  1.0529,  1.8265],\n",
       "                        [ 0.5557,  0.7122,  0.6872, -0.3841],\n",
       "                        [ 1.5679,  0.8315, -0.3613, -0.2905],\n",
       "                        [-0.2669, -1.9609,  1.0529,  1.8265],\n",
       "                        [ 0.5557,  0.7122,  0.6872, -0.3841],\n",
       "                        [ 1.5679,  0.8315, -0.3613, -0.2905],\n",
       "                        [-0.2669, -1.9609,  1.0529,  1.8265],\n",
       "                        [ 0.5557,  0.7122,  0.6872, -0.3841]])"
      ]
     },
     "execution_count": 22,
     "metadata": {},
     "output_type": "execute_result"
    }
   ],
   "source": [
    "t_cat = FastTreeValue.func(subside=True)(torch.cat)\n",
    "\n",
    "t_cat(trees)"
   ]
  },
  {
   "cell_type": "code",
   "execution_count": 23,
   "id": "5e9c06a6",
   "metadata": {
    "execution": {
     "iopub.execute_input": "2023-01-24T16:53:04.978426Z",
     "iopub.status.busy": "2023-01-24T16:53:04.978078Z",
     "iopub.status.idle": "2023-01-24T16:53:07.433525Z",
     "shell.execute_reply": "2023-01-24T16:53:07.432932Z"
    }
   },
   "outputs": [
    {
     "name": "stdout",
     "output_type": "stream",
     "text": [
      "30.2 µs ± 72 ns per loop (mean ± std. dev. of 7 runs, 10,000 loops each)\n"
     ]
    }
   ],
   "source": [
    "%timeit t_cat(trees)"
   ]
  },
  {
   "cell_type": "code",
   "execution_count": 24,
   "id": "a3ab5c8f",
   "metadata": {
    "execution": {
     "iopub.execute_input": "2023-01-24T16:53:07.436463Z",
     "iopub.status.busy": "2023-01-24T16:53:07.436243Z",
     "iopub.status.idle": "2023-01-24T16:53:12.268726Z",
     "shell.execute_reply": "2023-01-24T16:53:12.267723Z"
    }
   },
   "outputs": [
    {
     "name": "stdout",
     "output_type": "stream",
     "text": [
      "59.5 µs ± 35.9 ns per loop (mean ± std. dev. of 7 runs, 10,000 loops each)\n"
     ]
    }
   ],
   "source": [
    "t_split = FastTreeValue.func(rise=True)(torch.split)\n",
    "tree = FastTreeValue({\n",
    "    'obs': torch.randn(8, 4, 84, 84),\n",
    "    'action': torch.randint(0, 6, size=(8, 1,)),\n",
    "    'reward': torch.rand(8, 1),\n",
    "})\n",
    "\n",
    "%timeit t_split(tree, 1)"
   ]
  },
  {
   "cell_type": "markdown",
   "id": "31c3ec0b",
   "metadata": {},
   "source": [
    "### Performance of Tianshou Batch"
   ]
  },
  {
   "cell_type": "code",
   "execution_count": 25,
   "id": "9ead828a",
   "metadata": {
    "execution": {
     "iopub.execute_input": "2023-01-24T16:53:12.272354Z",
     "iopub.status.busy": "2023-01-24T16:53:12.271762Z",
     "iopub.status.idle": "2023-01-24T16:53:12.279013Z",
     "shell.execute_reply": "2023-01-24T16:53:12.278367Z"
    }
   },
   "outputs": [
    {
     "data": {
      "text/plain": [
       "Batch(\n",
       "    a: tensor([[[-0.4477, -0.4466, -0.0566],\n",
       "                [-0.1362,  1.8692, -0.5060]],\n",
       "       \n",
       "               [[-0.4477, -0.4466, -0.0566],\n",
       "                [-0.1362,  1.8692, -0.5060]],\n",
       "       \n",
       "               [[-0.4477, -0.4466, -0.0566],\n",
       "                [-0.1362,  1.8692, -0.5060]],\n",
       "       \n",
       "               [[-0.4477, -0.4466, -0.0566],\n",
       "                [-0.1362,  1.8692, -0.5060]],\n",
       "       \n",
       "               [[-0.4477, -0.4466, -0.0566],\n",
       "                [-0.1362,  1.8692, -0.5060]],\n",
       "       \n",
       "               [[-0.4477, -0.4466, -0.0566],\n",
       "                [-0.1362,  1.8692, -0.5060]],\n",
       "       \n",
       "               [[-0.4477, -0.4466, -0.0566],\n",
       "                [-0.1362,  1.8692, -0.5060]],\n",
       "       \n",
       "               [[-0.4477, -0.4466, -0.0566],\n",
       "                [-0.1362,  1.8692, -0.5060]]]),\n",
       "    x: Batch(\n",
       "           c: tensor([[[ 1.5679,  0.8315, -0.3613, -0.2905],\n",
       "                       [-0.2669, -1.9609,  1.0529,  1.8265],\n",
       "                       [ 0.5557,  0.7122,  0.6872, -0.3841]],\n",
       "              \n",
       "                      [[ 1.5679,  0.8315, -0.3613, -0.2905],\n",
       "                       [-0.2669, -1.9609,  1.0529,  1.8265],\n",
       "                       [ 0.5557,  0.7122,  0.6872, -0.3841]],\n",
       "              \n",
       "                      [[ 1.5679,  0.8315, -0.3613, -0.2905],\n",
       "                       [-0.2669, -1.9609,  1.0529,  1.8265],\n",
       "                       [ 0.5557,  0.7122,  0.6872, -0.3841]],\n",
       "              \n",
       "                      [[ 1.5679,  0.8315, -0.3613, -0.2905],\n",
       "                       [-0.2669, -1.9609,  1.0529,  1.8265],\n",
       "                       [ 0.5557,  0.7122,  0.6872, -0.3841]],\n",
       "              \n",
       "                      [[ 1.5679,  0.8315, -0.3613, -0.2905],\n",
       "                       [-0.2669, -1.9609,  1.0529,  1.8265],\n",
       "                       [ 0.5557,  0.7122,  0.6872, -0.3841]],\n",
       "              \n",
       "                      [[ 1.5679,  0.8315, -0.3613, -0.2905],\n",
       "                       [-0.2669, -1.9609,  1.0529,  1.8265],\n",
       "                       [ 0.5557,  0.7122,  0.6872, -0.3841]],\n",
       "              \n",
       "                      [[ 1.5679,  0.8315, -0.3613, -0.2905],\n",
       "                       [-0.2669, -1.9609,  1.0529,  1.8265],\n",
       "                       [ 0.5557,  0.7122,  0.6872, -0.3841]],\n",
       "              \n",
       "                      [[ 1.5679,  0.8315, -0.3613, -0.2905],\n",
       "                       [-0.2669, -1.9609,  1.0529,  1.8265],\n",
       "                       [ 0.5557,  0.7122,  0.6872, -0.3841]]]),\n",
       "       ),\n",
       ")"
      ]
     },
     "execution_count": 25,
     "metadata": {},
     "output_type": "execute_result"
    }
   ],
   "source": [
    "batches = [Batch(**_TREE_DATA_2) for _ in range(8)]\n",
    "\n",
    "Batch.stack(batches)"
   ]
  },
  {
   "cell_type": "code",
   "execution_count": 26,
   "id": "ec9037a3",
   "metadata": {
    "execution": {
     "iopub.execute_input": "2023-01-24T16:53:12.281815Z",
     "iopub.status.busy": "2023-01-24T16:53:12.281595Z",
     "iopub.status.idle": "2023-01-24T16:53:18.691708Z",
     "shell.execute_reply": "2023-01-24T16:53:18.690761Z"
    }
   },
   "outputs": [
    {
     "name": "stdout",
     "output_type": "stream",
     "text": [
      "78.8 µs ± 196 ns per loop (mean ± std. dev. of 7 runs, 10,000 loops each)\n"
     ]
    }
   ],
   "source": [
    "%timeit Batch.stack(batches)"
   ]
  },
  {
   "cell_type": "code",
   "execution_count": 27,
   "id": "cb8ab77e",
   "metadata": {
    "execution": {
     "iopub.execute_input": "2023-01-24T16:53:18.695276Z",
     "iopub.status.busy": "2023-01-24T16:53:18.694903Z",
     "iopub.status.idle": "2023-01-24T16:53:18.702597Z",
     "shell.execute_reply": "2023-01-24T16:53:18.702006Z"
    }
   },
   "outputs": [
    {
     "data": {
      "text/plain": [
       "Batch(\n",
       "    a: tensor([[-0.4477, -0.4466, -0.0566],\n",
       "               [-0.1362,  1.8692, -0.5060],\n",
       "               [-0.4477, -0.4466, -0.0566],\n",
       "               [-0.1362,  1.8692, -0.5060],\n",
       "               [-0.4477, -0.4466, -0.0566],\n",
       "               [-0.1362,  1.8692, -0.5060],\n",
       "               [-0.4477, -0.4466, -0.0566],\n",
       "               [-0.1362,  1.8692, -0.5060],\n",
       "               [-0.4477, -0.4466, -0.0566],\n",
       "               [-0.1362,  1.8692, -0.5060],\n",
       "               [-0.4477, -0.4466, -0.0566],\n",
       "               [-0.1362,  1.8692, -0.5060],\n",
       "               [-0.4477, -0.4466, -0.0566],\n",
       "               [-0.1362,  1.8692, -0.5060],\n",
       "               [-0.4477, -0.4466, -0.0566],\n",
       "               [-0.1362,  1.8692, -0.5060]]),\n",
       "    x: Batch(\n",
       "           c: tensor([[ 1.5679,  0.8315, -0.3613, -0.2905],\n",
       "                      [-0.2669, -1.9609,  1.0529,  1.8265],\n",
       "                      [ 0.5557,  0.7122,  0.6872, -0.3841],\n",
       "                      [ 1.5679,  0.8315, -0.3613, -0.2905],\n",
       "                      [-0.2669, -1.9609,  1.0529,  1.8265],\n",
       "                      [ 0.5557,  0.7122,  0.6872, -0.3841],\n",
       "                      [ 1.5679,  0.8315, -0.3613, -0.2905],\n",
       "                      [-0.2669, -1.9609,  1.0529,  1.8265],\n",
       "                      [ 0.5557,  0.7122,  0.6872, -0.3841],\n",
       "                      [ 1.5679,  0.8315, -0.3613, -0.2905],\n",
       "                      [-0.2669, -1.9609,  1.0529,  1.8265],\n",
       "                      [ 0.5557,  0.7122,  0.6872, -0.3841],\n",
       "                      [ 1.5679,  0.8315, -0.3613, -0.2905],\n",
       "                      [-0.2669, -1.9609,  1.0529,  1.8265],\n",
       "                      [ 0.5557,  0.7122,  0.6872, -0.3841],\n",
       "                      [ 1.5679,  0.8315, -0.3613, -0.2905],\n",
       "                      [-0.2669, -1.9609,  1.0529,  1.8265],\n",
       "                      [ 0.5557,  0.7122,  0.6872, -0.3841],\n",
       "                      [ 1.5679,  0.8315, -0.3613, -0.2905],\n",
       "                      [-0.2669, -1.9609,  1.0529,  1.8265],\n",
       "                      [ 0.5557,  0.7122,  0.6872, -0.3841],\n",
       "                      [ 1.5679,  0.8315, -0.3613, -0.2905],\n",
       "                      [-0.2669, -1.9609,  1.0529,  1.8265],\n",
       "                      [ 0.5557,  0.7122,  0.6872, -0.3841]]),\n",
       "       ),\n",
       ")"
      ]
     },
     "execution_count": 27,
     "metadata": {},
     "output_type": "execute_result"
    }
   ],
   "source": [
    "Batch.cat(batches)"
   ]
  },
  {
   "cell_type": "code",
   "execution_count": 28,
   "id": "18dfb045",
   "metadata": {
    "execution": {
     "iopub.execute_input": "2023-01-24T16:53:18.705347Z",
     "iopub.status.busy": "2023-01-24T16:53:18.705108Z",
     "iopub.status.idle": "2023-01-24T16:53:30.203698Z",
     "shell.execute_reply": "2023-01-24T16:53:30.203090Z"
    }
   },
   "outputs": [
    {
     "name": "stdout",
     "output_type": "stream",
     "text": [
      "142 µs ± 168 ns per loop (mean ± std. dev. of 7 runs, 10,000 loops each)\n"
     ]
    }
   ],
   "source": [
    "%timeit Batch.cat(batches)"
   ]
  },
  {
   "cell_type": "code",
   "execution_count": 29,
   "id": "c6688e51",
   "metadata": {
    "execution": {
     "iopub.execute_input": "2023-01-24T16:53:30.207363Z",
     "iopub.status.busy": "2023-01-24T16:53:30.206967Z",
     "iopub.status.idle": "2023-01-24T16:53:32.731936Z",
     "shell.execute_reply": "2023-01-24T16:53:32.730793Z"
    }
   },
   "outputs": [
    {
     "name": "stdout",
     "output_type": "stream",
     "text": [
      "310 µs ± 1.17 µs per loop (mean ± std. dev. of 7 runs, 1,000 loops each)\n"
     ]
    }
   ],
   "source": [
    "batch = Batch({\n",
    "    'obs': torch.randn(8, 4, 84, 84),\n",
    "    'action': torch.randint(0, 6, size=(8, 1,)),\n",
    "    'reward': torch.rand(8, 1)}\n",
    ")\n",
    "\n",
    "%timeit list(Batch.split(batch, 1, shuffle=False, merge_last=True))"
   ]
  },
  {
   "cell_type": "code",
   "execution_count": null,
   "id": "2539fbd9",
   "metadata": {},
   "outputs": [],
   "source": []
  }
 ],
 "metadata": {
  "kernelspec": {
   "display_name": "Python 3 (ipykernel)",
   "language": "python",
   "name": "python3"
  },
  "language_info": {
   "codemirror_mode": {
    "name": "ipython",
    "version": 3
   },
   "file_extension": ".py",
   "mimetype": "text/x-python",
   "name": "python",
   "nbconvert_exporter": "python",
   "pygments_lexer": "ipython3",
   "version": "3.8.16"
  }
 },
 "nbformat": 4,
 "nbformat_minor": 5
}
