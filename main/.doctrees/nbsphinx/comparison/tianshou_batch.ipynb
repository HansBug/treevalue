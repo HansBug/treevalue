{
 "cells": [
  {
   "cell_type": "markdown",
   "id": "9d39d946",
   "metadata": {},
   "source": [
    "# Comparison Between TreeValue and Tianshou Batch"
   ]
  },
  {
   "cell_type": "markdown",
   "id": "3c6db2d4",
   "metadata": {},
   "source": [
    "In this section, we will take a look at the feature and performance of the [Tianshou Batch](https://github.com/thu-ml/tianshou) library, which is developed by Tsinghua Machine Learning Group."
   ]
  },
  {
   "cell_type": "markdown",
   "id": "069361b0",
   "metadata": {},
   "source": [
    "Before starting the comparison, let us define some thing."
   ]
  },
  {
   "cell_type": "code",
   "execution_count": 1,
   "id": "06fc8d26",
   "metadata": {
    "execution": {
     "iopub.execute_input": "2023-01-20T05:52:51.711818Z",
     "iopub.status.busy": "2023-01-20T05:52:51.711471Z",
     "iopub.status.idle": "2023-01-20T05:52:52.608193Z",
     "shell.execute_reply": "2023-01-20T05:52:52.607533Z"
    }
   },
   "outputs": [
    {
     "name": "stderr",
     "output_type": "stream",
     "text": [
      "/opt/hostedtoolcache/Python/3.8.16/x64/lib/python3.8/site-packages/tqdm/auto.py:22: TqdmWarning: IProgress not found. Please update jupyter and ipywidgets. See https://ipywidgets.readthedocs.io/en/stable/user_install.html\n",
      "  from .autonotebook import tqdm as notebook_tqdm\n"
     ]
    }
   ],
   "source": [
    "import torch \n",
    "\n",
    "_TREE_DATA_1 = {'a': 1, 'b': 2, 'x': {'c': 3, 'd': 4}}\n",
    "_TREE_DATA_2 = {\n",
    "    'a': torch.randn(2, 3), \n",
    "    'x': {\n",
    "        'c': torch.randn(3, 4)\n",
    "    },\n",
    "}\n",
    "_TREE_DATA_3 = {\n",
    "    'obs': torch.randn(4, 84, 84),\n",
    "    'action': torch.randint(0, 6, size=(1,)),\n",
    "    'reward': torch.rand(1),\n",
    "}"
   ]
  },
  {
   "cell_type": "markdown",
   "id": "83461b25",
   "metadata": {},
   "source": [
    "## Read and Write Operation"
   ]
  },
  {
   "cell_type": "markdown",
   "id": "067b3f73",
   "metadata": {},
   "source": [
    "Reading and writing are the two most common operations in the tree data structure based on the data model (TreeValue and Tianshou Batch both belong to this type), so this section will compare the reading and writing performance of these two libraries."
   ]
  },
  {
   "cell_type": "markdown",
   "id": "5d09a5b7",
   "metadata": {},
   "source": [
    "### TreeValue's Get and Set"
   ]
  },
  {
   "cell_type": "code",
   "execution_count": 2,
   "id": "9519c4bb",
   "metadata": {
    "execution": {
     "iopub.execute_input": "2023-01-20T05:52:52.612217Z",
     "iopub.status.busy": "2023-01-20T05:52:52.611804Z",
     "iopub.status.idle": "2023-01-20T05:52:52.643865Z",
     "shell.execute_reply": "2023-01-20T05:52:52.643268Z"
    }
   },
   "outputs": [],
   "source": [
    "from treevalue import FastTreeValue\n",
    "\n",
    "t = FastTreeValue(_TREE_DATA_2)"
   ]
  },
  {
   "cell_type": "code",
   "execution_count": 3,
   "id": "11c37677",
   "metadata": {
    "execution": {
     "iopub.execute_input": "2023-01-20T05:52:52.646996Z",
     "iopub.status.busy": "2023-01-20T05:52:52.646476Z",
     "iopub.status.idle": "2023-01-20T05:52:52.655607Z",
     "shell.execute_reply": "2023-01-20T05:52:52.655010Z"
    }
   },
   "outputs": [
    {
     "data": {
      "text/plain": [
       "<FastTreeValue 0x7f43bce38e50>\n",
       "├── 'a' --> tensor([[ 1.6248,  1.4398, -1.6301],\n",
       "│                   [-1.4909,  0.9003, -0.1782]])\n",
       "└── 'x' --> <FastTreeValue 0x7f43bce28730>\n",
       "    └── 'c' --> tensor([[ 2.0149,  0.8415,  0.9243,  1.4636],\n",
       "                        [ 0.8215, -1.8189, -0.4633,  0.9464],\n",
       "                        [-0.4976, -0.8870, -0.9135, -1.2895]])"
      ]
     },
     "execution_count": 3,
     "metadata": {},
     "output_type": "execute_result"
    }
   ],
   "source": [
    "t"
   ]
  },
  {
   "cell_type": "code",
   "execution_count": 4,
   "id": "fd70b0b9",
   "metadata": {
    "execution": {
     "iopub.execute_input": "2023-01-20T05:52:52.658188Z",
     "iopub.status.busy": "2023-01-20T05:52:52.657968Z",
     "iopub.status.idle": "2023-01-20T05:52:52.662608Z",
     "shell.execute_reply": "2023-01-20T05:52:52.661973Z"
    }
   },
   "outputs": [
    {
     "data": {
      "text/plain": [
       "tensor([[ 1.6248,  1.4398, -1.6301],\n",
       "        [-1.4909,  0.9003, -0.1782]])"
      ]
     },
     "execution_count": 4,
     "metadata": {},
     "output_type": "execute_result"
    }
   ],
   "source": [
    "t.a"
   ]
  },
  {
   "cell_type": "code",
   "execution_count": 5,
   "id": "c18197bd",
   "metadata": {
    "execution": {
     "iopub.execute_input": "2023-01-20T05:52:52.665447Z",
     "iopub.status.busy": "2023-01-20T05:52:52.665243Z",
     "iopub.status.idle": "2023-01-20T05:52:57.548708Z",
     "shell.execute_reply": "2023-01-20T05:52:57.548027Z"
    }
   },
   "outputs": [
    {
     "name": "stdout",
     "output_type": "stream",
     "text": [
      "60 ns ± 0.0562 ns per loop (mean ± std. dev. of 7 runs, 10,000,000 loops each)\n"
     ]
    }
   ],
   "source": [
    "%timeit t.a"
   ]
  },
  {
   "cell_type": "code",
   "execution_count": 6,
   "id": "bd52f867",
   "metadata": {
    "execution": {
     "iopub.execute_input": "2023-01-20T05:52:57.552063Z",
     "iopub.status.busy": "2023-01-20T05:52:57.551528Z",
     "iopub.status.idle": "2023-01-20T05:52:57.558254Z",
     "shell.execute_reply": "2023-01-20T05:52:57.557666Z"
    }
   },
   "outputs": [
    {
     "data": {
      "text/plain": [
       "<FastTreeValue 0x7f43bce38e50>\n",
       "├── 'a' --> tensor([[-0.1133,  1.1343, -0.1750],\n",
       "│                   [ 0.1615,  0.0484,  0.3989]])\n",
       "└── 'x' --> <FastTreeValue 0x7f43bce28730>\n",
       "    └── 'c' --> tensor([[ 2.0149,  0.8415,  0.9243,  1.4636],\n",
       "                        [ 0.8215, -1.8189, -0.4633,  0.9464],\n",
       "                        [-0.4976, -0.8870, -0.9135, -1.2895]])"
      ]
     },
     "execution_count": 6,
     "metadata": {},
     "output_type": "execute_result"
    }
   ],
   "source": [
    "new_value = torch.randn(2, 3)\n",
    "t.a = new_value\n",
    "\n",
    "t"
   ]
  },
  {
   "cell_type": "code",
   "execution_count": 7,
   "id": "bbe04d1c",
   "metadata": {
    "execution": {
     "iopub.execute_input": "2023-01-20T05:52:57.560715Z",
     "iopub.status.busy": "2023-01-20T05:52:57.560515Z",
     "iopub.status.idle": "2023-01-20T05:53:02.476446Z",
     "shell.execute_reply": "2023-01-20T05:53:02.475865Z"
    }
   },
   "outputs": [
    {
     "name": "stdout",
     "output_type": "stream",
     "text": [
      "60.7 ns ± 0.029 ns per loop (mean ± std. dev. of 7 runs, 10,000,000 loops each)\n"
     ]
    }
   ],
   "source": [
    "%timeit t.a = new_value"
   ]
  },
  {
   "cell_type": "markdown",
   "id": "48c49731",
   "metadata": {},
   "source": [
    "### Tianshou Batch's Get and Set"
   ]
  },
  {
   "cell_type": "code",
   "execution_count": 8,
   "id": "f1bb14c1",
   "metadata": {
    "execution": {
     "iopub.execute_input": "2023-01-20T05:53:02.479507Z",
     "iopub.status.busy": "2023-01-20T05:53:02.479153Z",
     "iopub.status.idle": "2023-01-20T05:53:02.806215Z",
     "shell.execute_reply": "2023-01-20T05:53:02.805569Z"
    }
   },
   "outputs": [],
   "source": [
    "from tianshou.data import Batch\n",
    "\n",
    "b = Batch(**_TREE_DATA_2)"
   ]
  },
  {
   "cell_type": "code",
   "execution_count": 9,
   "id": "cb0777c3",
   "metadata": {
    "execution": {
     "iopub.execute_input": "2023-01-20T05:53:02.809645Z",
     "iopub.status.busy": "2023-01-20T05:53:02.809140Z",
     "iopub.status.idle": "2023-01-20T05:53:02.814499Z",
     "shell.execute_reply": "2023-01-20T05:53:02.813854Z"
    }
   },
   "outputs": [
    {
     "data": {
      "text/plain": [
       "Batch(\n",
       "    a: tensor([[ 1.6248,  1.4398, -1.6301],\n",
       "               [-1.4909,  0.9003, -0.1782]]),\n",
       "    x: Batch(\n",
       "           c: tensor([[ 2.0149,  0.8415,  0.9243,  1.4636],\n",
       "                      [ 0.8215, -1.8189, -0.4633,  0.9464],\n",
       "                      [-0.4976, -0.8870, -0.9135, -1.2895]]),\n",
       "       ),\n",
       ")"
      ]
     },
     "execution_count": 9,
     "metadata": {},
     "output_type": "execute_result"
    }
   ],
   "source": [
    "b"
   ]
  },
  {
   "cell_type": "code",
   "execution_count": 10,
   "id": "43ef8ea3",
   "metadata": {
    "execution": {
     "iopub.execute_input": "2023-01-20T05:53:02.817040Z",
     "iopub.status.busy": "2023-01-20T05:53:02.816817Z",
     "iopub.status.idle": "2023-01-20T05:53:02.821448Z",
     "shell.execute_reply": "2023-01-20T05:53:02.820833Z"
    }
   },
   "outputs": [
    {
     "data": {
      "text/plain": [
       "tensor([[ 1.6248,  1.4398, -1.6301],\n",
       "        [-1.4909,  0.9003, -0.1782]])"
      ]
     },
     "execution_count": 10,
     "metadata": {},
     "output_type": "execute_result"
    }
   ],
   "source": [
    "b.a"
   ]
  },
  {
   "cell_type": "code",
   "execution_count": 11,
   "id": "b785ab72",
   "metadata": {
    "execution": {
     "iopub.execute_input": "2023-01-20T05:53:02.824131Z",
     "iopub.status.busy": "2023-01-20T05:53:02.823927Z",
     "iopub.status.idle": "2023-01-20T05:53:07.153869Z",
     "shell.execute_reply": "2023-01-20T05:53:07.153295Z"
    }
   },
   "outputs": [
    {
     "name": "stdout",
     "output_type": "stream",
     "text": [
      "53.4 ns ± 0.09 ns per loop (mean ± std. dev. of 7 runs, 10,000,000 loops each)\n"
     ]
    }
   ],
   "source": [
    "%timeit b.a"
   ]
  },
  {
   "cell_type": "code",
   "execution_count": 12,
   "id": "ad54dc69",
   "metadata": {
    "execution": {
     "iopub.execute_input": "2023-01-20T05:53:07.157233Z",
     "iopub.status.busy": "2023-01-20T05:53:07.156684Z",
     "iopub.status.idle": "2023-01-20T05:53:07.162441Z",
     "shell.execute_reply": "2023-01-20T05:53:07.161759Z"
    }
   },
   "outputs": [
    {
     "data": {
      "text/plain": [
       "Batch(\n",
       "    a: tensor([[-0.0767,  0.7945, -0.0631],\n",
       "               [-1.0676, -0.8136,  0.3523]]),\n",
       "    x: Batch(\n",
       "           c: tensor([[ 2.0149,  0.8415,  0.9243,  1.4636],\n",
       "                      [ 0.8215, -1.8189, -0.4633,  0.9464],\n",
       "                      [-0.4976, -0.8870, -0.9135, -1.2895]]),\n",
       "       ),\n",
       ")"
      ]
     },
     "execution_count": 12,
     "metadata": {},
     "output_type": "execute_result"
    }
   ],
   "source": [
    "new_value = torch.randn(2, 3)\n",
    "b.a = new_value\n",
    "\n",
    "b"
   ]
  },
  {
   "cell_type": "code",
   "execution_count": 13,
   "id": "29b1d0bf",
   "metadata": {
    "execution": {
     "iopub.execute_input": "2023-01-20T05:53:07.165131Z",
     "iopub.status.busy": "2023-01-20T05:53:07.164794Z",
     "iopub.status.idle": "2023-01-20T05:53:11.087191Z",
     "shell.execute_reply": "2023-01-20T05:53:11.086610Z"
    }
   },
   "outputs": [
    {
     "name": "stdout",
     "output_type": "stream",
     "text": [
      "483 ns ± 0.0988 ns per loop (mean ± std. dev. of 7 runs, 1,000,000 loops each)\n"
     ]
    }
   ],
   "source": [
    "%timeit b.a = new_value"
   ]
  },
  {
   "cell_type": "markdown",
   "id": "b61ad1d0",
   "metadata": {},
   "source": [
    "## Initialization"
   ]
  },
  {
   "cell_type": "markdown",
   "id": "d70f0d54",
   "metadata": {},
   "source": [
    "### TreeValue's Initialization"
   ]
  },
  {
   "cell_type": "code",
   "execution_count": 14,
   "id": "d32a679b",
   "metadata": {
    "execution": {
     "iopub.execute_input": "2023-01-20T05:53:11.090167Z",
     "iopub.status.busy": "2023-01-20T05:53:11.089948Z",
     "iopub.status.idle": "2023-01-20T05:53:18.031853Z",
     "shell.execute_reply": "2023-01-20T05:53:18.031166Z"
    }
   },
   "outputs": [
    {
     "name": "stdout",
     "output_type": "stream",
     "text": [
      "855 ns ± 0.216 ns per loop (mean ± std. dev. of 7 runs, 1,000,000 loops each)\n"
     ]
    }
   ],
   "source": [
    "%timeit FastTreeValue(_TREE_DATA_1)"
   ]
  },
  {
   "cell_type": "markdown",
   "id": "24f3707b",
   "metadata": {},
   "source": [
    "### Tianshou Batch's Initialization"
   ]
  },
  {
   "cell_type": "code",
   "execution_count": 15,
   "id": "ac3958df",
   "metadata": {
    "execution": {
     "iopub.execute_input": "2023-01-20T05:53:18.035026Z",
     "iopub.status.busy": "2023-01-20T05:53:18.034792Z",
     "iopub.status.idle": "2023-01-20T05:53:27.486142Z",
     "shell.execute_reply": "2023-01-20T05:53:27.485555Z"
    }
   },
   "outputs": [
    {
     "name": "stdout",
     "output_type": "stream",
     "text": [
      "11.6 µs ± 62.3 ns per loop (mean ± std. dev. of 7 runs, 100,000 loops each)\n"
     ]
    }
   ],
   "source": [
    "%timeit Batch(**_TREE_DATA_1)"
   ]
  },
  {
   "cell_type": "markdown",
   "id": "1ab82e2d",
   "metadata": {},
   "source": [
    "## Deep Copy Operation"
   ]
  },
  {
   "cell_type": "code",
   "execution_count": 16,
   "id": "210a9442",
   "metadata": {
    "execution": {
     "iopub.execute_input": "2023-01-20T05:53:27.489873Z",
     "iopub.status.busy": "2023-01-20T05:53:27.489323Z",
     "iopub.status.idle": "2023-01-20T05:53:27.492505Z",
     "shell.execute_reply": "2023-01-20T05:53:27.491878Z"
    }
   },
   "outputs": [],
   "source": [
    "import copy"
   ]
  },
  {
   "cell_type": "markdown",
   "id": "5a736274",
   "metadata": {},
   "source": [
    "### Deep Copy of TreeValue"
   ]
  },
  {
   "cell_type": "code",
   "execution_count": 17,
   "id": "f9bcadd6",
   "metadata": {
    "execution": {
     "iopub.execute_input": "2023-01-20T05:53:27.495173Z",
     "iopub.status.busy": "2023-01-20T05:53:27.494953Z",
     "iopub.status.idle": "2023-01-20T05:53:38.536710Z",
     "shell.execute_reply": "2023-01-20T05:53:38.536119Z"
    }
   },
   "outputs": [
    {
     "name": "stdout",
     "output_type": "stream",
     "text": [
      "136 µs ± 1.67 µs per loop (mean ± std. dev. of 7 runs, 10,000 loops each)\n"
     ]
    }
   ],
   "source": [
    "t3 = FastTreeValue(_TREE_DATA_3)\n",
    "%timeit copy.deepcopy(t3)"
   ]
  },
  {
   "cell_type": "markdown",
   "id": "bf8be7ea",
   "metadata": {},
   "source": [
    "### Deep Copy of Tianshou Batch"
   ]
  },
  {
   "cell_type": "code",
   "execution_count": 18,
   "id": "91998e6f",
   "metadata": {
    "execution": {
     "iopub.execute_input": "2023-01-20T05:53:38.539807Z",
     "iopub.status.busy": "2023-01-20T05:53:38.539566Z",
     "iopub.status.idle": "2023-01-20T05:53:49.774890Z",
     "shell.execute_reply": "2023-01-20T05:53:49.774309Z"
    }
   },
   "outputs": [
    {
     "name": "stdout",
     "output_type": "stream",
     "text": [
      "138 µs ± 392 ns per loop (mean ± std. dev. of 7 runs, 10,000 loops each)\n"
     ]
    }
   ],
   "source": [
    "b3 = Batch(**_TREE_DATA_3)\n",
    "%timeit copy.deepcopy(b3)"
   ]
  },
  {
   "cell_type": "markdown",
   "id": "223162fb",
   "metadata": {},
   "source": [
    "## Stack, Concat and Split Operation"
   ]
  },
  {
   "cell_type": "markdown",
   "id": "85fa4a73",
   "metadata": {},
   "source": [
    "### Performance of TreeValue"
   ]
  },
  {
   "cell_type": "code",
   "execution_count": 19,
   "id": "a0c2b697",
   "metadata": {
    "execution": {
     "iopub.execute_input": "2023-01-20T05:53:49.777942Z",
     "iopub.status.busy": "2023-01-20T05:53:49.777704Z",
     "iopub.status.idle": "2023-01-20T05:53:49.782152Z",
     "shell.execute_reply": "2023-01-20T05:53:49.781558Z"
    }
   },
   "outputs": [],
   "source": [
    "trees = [FastTreeValue(_TREE_DATA_2) for _ in range(8)]"
   ]
  },
  {
   "cell_type": "code",
   "execution_count": 20,
   "id": "017ea5a5",
   "metadata": {
    "execution": {
     "iopub.execute_input": "2023-01-20T05:53:49.785012Z",
     "iopub.status.busy": "2023-01-20T05:53:49.784475Z",
     "iopub.status.idle": "2023-01-20T05:53:49.791739Z",
     "shell.execute_reply": "2023-01-20T05:53:49.791107Z"
    }
   },
   "outputs": [
    {
     "data": {
      "text/plain": [
       "<FastTreeValue 0x7f43bce28070>\n",
       "├── 'a' --> tensor([[[ 1.6248,  1.4398, -1.6301],\n",
       "│                    [-1.4909,  0.9003, -0.1782]],\n",
       "│           \n",
       "│                   [[ 1.6248,  1.4398, -1.6301],\n",
       "│                    [-1.4909,  0.9003, -0.1782]],\n",
       "│           \n",
       "│                   [[ 1.6248,  1.4398, -1.6301],\n",
       "│                    [-1.4909,  0.9003, -0.1782]],\n",
       "│           \n",
       "│                   [[ 1.6248,  1.4398, -1.6301],\n",
       "│                    [-1.4909,  0.9003, -0.1782]],\n",
       "│           \n",
       "│                   [[ 1.6248,  1.4398, -1.6301],\n",
       "│                    [-1.4909,  0.9003, -0.1782]],\n",
       "│           \n",
       "│                   [[ 1.6248,  1.4398, -1.6301],\n",
       "│                    [-1.4909,  0.9003, -0.1782]],\n",
       "│           \n",
       "│                   [[ 1.6248,  1.4398, -1.6301],\n",
       "│                    [-1.4909,  0.9003, -0.1782]],\n",
       "│           \n",
       "│                   [[ 1.6248,  1.4398, -1.6301],\n",
       "│                    [-1.4909,  0.9003, -0.1782]]])\n",
       "└── 'x' --> <FastTreeValue 0x7f4314b39580>\n",
       "    └── 'c' --> tensor([[[ 2.0149,  0.8415,  0.9243,  1.4636],\n",
       "                         [ 0.8215, -1.8189, -0.4633,  0.9464],\n",
       "                         [-0.4976, -0.8870, -0.9135, -1.2895]],\n",
       "                \n",
       "                        [[ 2.0149,  0.8415,  0.9243,  1.4636],\n",
       "                         [ 0.8215, -1.8189, -0.4633,  0.9464],\n",
       "                         [-0.4976, -0.8870, -0.9135, -1.2895]],\n",
       "                \n",
       "                        [[ 2.0149,  0.8415,  0.9243,  1.4636],\n",
       "                         [ 0.8215, -1.8189, -0.4633,  0.9464],\n",
       "                         [-0.4976, -0.8870, -0.9135, -1.2895]],\n",
       "                \n",
       "                        [[ 2.0149,  0.8415,  0.9243,  1.4636],\n",
       "                         [ 0.8215, -1.8189, -0.4633,  0.9464],\n",
       "                         [-0.4976, -0.8870, -0.9135, -1.2895]],\n",
       "                \n",
       "                        [[ 2.0149,  0.8415,  0.9243,  1.4636],\n",
       "                         [ 0.8215, -1.8189, -0.4633,  0.9464],\n",
       "                         [-0.4976, -0.8870, -0.9135, -1.2895]],\n",
       "                \n",
       "                        [[ 2.0149,  0.8415,  0.9243,  1.4636],\n",
       "                         [ 0.8215, -1.8189, -0.4633,  0.9464],\n",
       "                         [-0.4976, -0.8870, -0.9135, -1.2895]],\n",
       "                \n",
       "                        [[ 2.0149,  0.8415,  0.9243,  1.4636],\n",
       "                         [ 0.8215, -1.8189, -0.4633,  0.9464],\n",
       "                         [-0.4976, -0.8870, -0.9135, -1.2895]],\n",
       "                \n",
       "                        [[ 2.0149,  0.8415,  0.9243,  1.4636],\n",
       "                         [ 0.8215, -1.8189, -0.4633,  0.9464],\n",
       "                         [-0.4976, -0.8870, -0.9135, -1.2895]]])"
      ]
     },
     "execution_count": 20,
     "metadata": {},
     "output_type": "execute_result"
    }
   ],
   "source": [
    "t_stack = FastTreeValue.func(subside=True)(torch.stack)\n",
    "\n",
    "t_stack(trees)"
   ]
  },
  {
   "cell_type": "code",
   "execution_count": 21,
   "id": "f8b3f415",
   "metadata": {
    "execution": {
     "iopub.execute_input": "2023-01-20T05:53:49.794203Z",
     "iopub.status.busy": "2023-01-20T05:53:49.793998Z",
     "iopub.status.idle": "2023-01-20T05:53:52.389286Z",
     "shell.execute_reply": "2023-01-20T05:53:52.388709Z"
    }
   },
   "outputs": [
    {
     "name": "stdout",
     "output_type": "stream",
     "text": [
      "31.9 µs ± 91.6 ns per loop (mean ± std. dev. of 7 runs, 10,000 loops each)\n"
     ]
    }
   ],
   "source": [
    "%timeit t_stack(trees)"
   ]
  },
  {
   "cell_type": "code",
   "execution_count": 22,
   "id": "94b56771",
   "metadata": {
    "execution": {
     "iopub.execute_input": "2023-01-20T05:53:52.392200Z",
     "iopub.status.busy": "2023-01-20T05:53:52.391970Z",
     "iopub.status.idle": "2023-01-20T05:53:52.399200Z",
     "shell.execute_reply": "2023-01-20T05:53:52.398551Z"
    }
   },
   "outputs": [
    {
     "data": {
      "text/plain": [
       "<FastTreeValue 0x7f439831fca0>\n",
       "├── 'a' --> tensor([[ 1.6248,  1.4398, -1.6301],\n",
       "│                   [-1.4909,  0.9003, -0.1782],\n",
       "│                   [ 1.6248,  1.4398, -1.6301],\n",
       "│                   [-1.4909,  0.9003, -0.1782],\n",
       "│                   [ 1.6248,  1.4398, -1.6301],\n",
       "│                   [-1.4909,  0.9003, -0.1782],\n",
       "│                   [ 1.6248,  1.4398, -1.6301],\n",
       "│                   [-1.4909,  0.9003, -0.1782],\n",
       "│                   [ 1.6248,  1.4398, -1.6301],\n",
       "│                   [-1.4909,  0.9003, -0.1782],\n",
       "│                   [ 1.6248,  1.4398, -1.6301],\n",
       "│                   [-1.4909,  0.9003, -0.1782],\n",
       "│                   [ 1.6248,  1.4398, -1.6301],\n",
       "│                   [-1.4909,  0.9003, -0.1782],\n",
       "│                   [ 1.6248,  1.4398, -1.6301],\n",
       "│                   [-1.4909,  0.9003, -0.1782]])\n",
       "└── 'x' --> <FastTreeValue 0x7f4314ab0580>\n",
       "    └── 'c' --> tensor([[ 2.0149,  0.8415,  0.9243,  1.4636],\n",
       "                        [ 0.8215, -1.8189, -0.4633,  0.9464],\n",
       "                        [-0.4976, -0.8870, -0.9135, -1.2895],\n",
       "                        [ 2.0149,  0.8415,  0.9243,  1.4636],\n",
       "                        [ 0.8215, -1.8189, -0.4633,  0.9464],\n",
       "                        [-0.4976, -0.8870, -0.9135, -1.2895],\n",
       "                        [ 2.0149,  0.8415,  0.9243,  1.4636],\n",
       "                        [ 0.8215, -1.8189, -0.4633,  0.9464],\n",
       "                        [-0.4976, -0.8870, -0.9135, -1.2895],\n",
       "                        [ 2.0149,  0.8415,  0.9243,  1.4636],\n",
       "                        [ 0.8215, -1.8189, -0.4633,  0.9464],\n",
       "                        [-0.4976, -0.8870, -0.9135, -1.2895],\n",
       "                        [ 2.0149,  0.8415,  0.9243,  1.4636],\n",
       "                        [ 0.8215, -1.8189, -0.4633,  0.9464],\n",
       "                        [-0.4976, -0.8870, -0.9135, -1.2895],\n",
       "                        [ 2.0149,  0.8415,  0.9243,  1.4636],\n",
       "                        [ 0.8215, -1.8189, -0.4633,  0.9464],\n",
       "                        [-0.4976, -0.8870, -0.9135, -1.2895],\n",
       "                        [ 2.0149,  0.8415,  0.9243,  1.4636],\n",
       "                        [ 0.8215, -1.8189, -0.4633,  0.9464],\n",
       "                        [-0.4976, -0.8870, -0.9135, -1.2895],\n",
       "                        [ 2.0149,  0.8415,  0.9243,  1.4636],\n",
       "                        [ 0.8215, -1.8189, -0.4633,  0.9464],\n",
       "                        [-0.4976, -0.8870, -0.9135, -1.2895]])"
      ]
     },
     "execution_count": 22,
     "metadata": {},
     "output_type": "execute_result"
    }
   ],
   "source": [
    "t_cat = FastTreeValue.func(subside=True)(torch.cat)\n",
    "\n",
    "t_cat(trees)"
   ]
  },
  {
   "cell_type": "code",
   "execution_count": 23,
   "id": "5e9c06a6",
   "metadata": {
    "execution": {
     "iopub.execute_input": "2023-01-20T05:53:52.401899Z",
     "iopub.status.busy": "2023-01-20T05:53:52.401674Z",
     "iopub.status.idle": "2023-01-20T05:53:54.811855Z",
     "shell.execute_reply": "2023-01-20T05:53:54.811283Z"
    }
   },
   "outputs": [
    {
     "name": "stdout",
     "output_type": "stream",
     "text": [
      "29.6 µs ± 49 ns per loop (mean ± std. dev. of 7 runs, 10,000 loops each)\n"
     ]
    }
   ],
   "source": [
    "%timeit t_cat(trees)"
   ]
  },
  {
   "cell_type": "code",
   "execution_count": 24,
   "id": "a3ab5c8f",
   "metadata": {
    "execution": {
     "iopub.execute_input": "2023-01-20T05:53:54.815014Z",
     "iopub.status.busy": "2023-01-20T05:53:54.814787Z",
     "iopub.status.idle": "2023-01-20T05:53:59.442057Z",
     "shell.execute_reply": "2023-01-20T05:53:59.441481Z"
    }
   },
   "outputs": [
    {
     "name": "stdout",
     "output_type": "stream",
     "text": [
      "56.9 µs ± 63.7 ns per loop (mean ± std. dev. of 7 runs, 10,000 loops each)\n"
     ]
    }
   ],
   "source": [
    "t_split = FastTreeValue.func(rise=True)(torch.split)\n",
    "tree = FastTreeValue({\n",
    "    'obs': torch.randn(8, 4, 84, 84),\n",
    "    'action': torch.randint(0, 6, size=(8, 1,)),\n",
    "    'reward': torch.rand(8, 1),\n",
    "})\n",
    "\n",
    "%timeit t_split(tree, 1)"
   ]
  },
  {
   "cell_type": "markdown",
   "id": "31c3ec0b",
   "metadata": {},
   "source": [
    "### Performance of Tianshou Batch"
   ]
  },
  {
   "cell_type": "code",
   "execution_count": 25,
   "id": "9ead828a",
   "metadata": {
    "execution": {
     "iopub.execute_input": "2023-01-20T05:53:59.445004Z",
     "iopub.status.busy": "2023-01-20T05:53:59.444777Z",
     "iopub.status.idle": "2023-01-20T05:53:59.452716Z",
     "shell.execute_reply": "2023-01-20T05:53:59.452073Z"
    }
   },
   "outputs": [
    {
     "data": {
      "text/plain": [
       "Batch(\n",
       "    a: tensor([[[ 1.6248,  1.4398, -1.6301],\n",
       "                [-1.4909,  0.9003, -0.1782]],\n",
       "       \n",
       "               [[ 1.6248,  1.4398, -1.6301],\n",
       "                [-1.4909,  0.9003, -0.1782]],\n",
       "       \n",
       "               [[ 1.6248,  1.4398, -1.6301],\n",
       "                [-1.4909,  0.9003, -0.1782]],\n",
       "       \n",
       "               [[ 1.6248,  1.4398, -1.6301],\n",
       "                [-1.4909,  0.9003, -0.1782]],\n",
       "       \n",
       "               [[ 1.6248,  1.4398, -1.6301],\n",
       "                [-1.4909,  0.9003, -0.1782]],\n",
       "       \n",
       "               [[ 1.6248,  1.4398, -1.6301],\n",
       "                [-1.4909,  0.9003, -0.1782]],\n",
       "       \n",
       "               [[ 1.6248,  1.4398, -1.6301],\n",
       "                [-1.4909,  0.9003, -0.1782]],\n",
       "       \n",
       "               [[ 1.6248,  1.4398, -1.6301],\n",
       "                [-1.4909,  0.9003, -0.1782]]]),\n",
       "    x: Batch(\n",
       "           c: tensor([[[ 2.0149,  0.8415,  0.9243,  1.4636],\n",
       "                       [ 0.8215, -1.8189, -0.4633,  0.9464],\n",
       "                       [-0.4976, -0.8870, -0.9135, -1.2895]],\n",
       "              \n",
       "                      [[ 2.0149,  0.8415,  0.9243,  1.4636],\n",
       "                       [ 0.8215, -1.8189, -0.4633,  0.9464],\n",
       "                       [-0.4976, -0.8870, -0.9135, -1.2895]],\n",
       "              \n",
       "                      [[ 2.0149,  0.8415,  0.9243,  1.4636],\n",
       "                       [ 0.8215, -1.8189, -0.4633,  0.9464],\n",
       "                       [-0.4976, -0.8870, -0.9135, -1.2895]],\n",
       "              \n",
       "                      [[ 2.0149,  0.8415,  0.9243,  1.4636],\n",
       "                       [ 0.8215, -1.8189, -0.4633,  0.9464],\n",
       "                       [-0.4976, -0.8870, -0.9135, -1.2895]],\n",
       "              \n",
       "                      [[ 2.0149,  0.8415,  0.9243,  1.4636],\n",
       "                       [ 0.8215, -1.8189, -0.4633,  0.9464],\n",
       "                       [-0.4976, -0.8870, -0.9135, -1.2895]],\n",
       "              \n",
       "                      [[ 2.0149,  0.8415,  0.9243,  1.4636],\n",
       "                       [ 0.8215, -1.8189, -0.4633,  0.9464],\n",
       "                       [-0.4976, -0.8870, -0.9135, -1.2895]],\n",
       "              \n",
       "                      [[ 2.0149,  0.8415,  0.9243,  1.4636],\n",
       "                       [ 0.8215, -1.8189, -0.4633,  0.9464],\n",
       "                       [-0.4976, -0.8870, -0.9135, -1.2895]],\n",
       "              \n",
       "                      [[ 2.0149,  0.8415,  0.9243,  1.4636],\n",
       "                       [ 0.8215, -1.8189, -0.4633,  0.9464],\n",
       "                       [-0.4976, -0.8870, -0.9135, -1.2895]]]),\n",
       "       ),\n",
       ")"
      ]
     },
     "execution_count": 25,
     "metadata": {},
     "output_type": "execute_result"
    }
   ],
   "source": [
    "batches = [Batch(**_TREE_DATA_2) for _ in range(8)]\n",
    "\n",
    "Batch.stack(batches)"
   ]
  },
  {
   "cell_type": "code",
   "execution_count": 26,
   "id": "ec9037a3",
   "metadata": {
    "execution": {
     "iopub.execute_input": "2023-01-20T05:53:59.455206Z",
     "iopub.status.busy": "2023-01-20T05:53:59.454997Z",
     "iopub.status.idle": "2023-01-20T05:54:05.880267Z",
     "shell.execute_reply": "2023-01-20T05:54:05.879255Z"
    }
   },
   "outputs": [
    {
     "name": "stdout",
     "output_type": "stream",
     "text": [
      "79 µs ± 218 ns per loop (mean ± std. dev. of 7 runs, 10,000 loops each)\n"
     ]
    }
   ],
   "source": [
    "%timeit Batch.stack(batches)"
   ]
  },
  {
   "cell_type": "code",
   "execution_count": 27,
   "id": "cb8ab77e",
   "metadata": {
    "execution": {
     "iopub.execute_input": "2023-01-20T05:54:05.883291Z",
     "iopub.status.busy": "2023-01-20T05:54:05.883055Z",
     "iopub.status.idle": "2023-01-20T05:54:05.890392Z",
     "shell.execute_reply": "2023-01-20T05:54:05.889782Z"
    }
   },
   "outputs": [
    {
     "data": {
      "text/plain": [
       "Batch(\n",
       "    a: tensor([[ 1.6248,  1.4398, -1.6301],\n",
       "               [-1.4909,  0.9003, -0.1782],\n",
       "               [ 1.6248,  1.4398, -1.6301],\n",
       "               [-1.4909,  0.9003, -0.1782],\n",
       "               [ 1.6248,  1.4398, -1.6301],\n",
       "               [-1.4909,  0.9003, -0.1782],\n",
       "               [ 1.6248,  1.4398, -1.6301],\n",
       "               [-1.4909,  0.9003, -0.1782],\n",
       "               [ 1.6248,  1.4398, -1.6301],\n",
       "               [-1.4909,  0.9003, -0.1782],\n",
       "               [ 1.6248,  1.4398, -1.6301],\n",
       "               [-1.4909,  0.9003, -0.1782],\n",
       "               [ 1.6248,  1.4398, -1.6301],\n",
       "               [-1.4909,  0.9003, -0.1782],\n",
       "               [ 1.6248,  1.4398, -1.6301],\n",
       "               [-1.4909,  0.9003, -0.1782]]),\n",
       "    x: Batch(\n",
       "           c: tensor([[ 2.0149,  0.8415,  0.9243,  1.4636],\n",
       "                      [ 0.8215, -1.8189, -0.4633,  0.9464],\n",
       "                      [-0.4976, -0.8870, -0.9135, -1.2895],\n",
       "                      [ 2.0149,  0.8415,  0.9243,  1.4636],\n",
       "                      [ 0.8215, -1.8189, -0.4633,  0.9464],\n",
       "                      [-0.4976, -0.8870, -0.9135, -1.2895],\n",
       "                      [ 2.0149,  0.8415,  0.9243,  1.4636],\n",
       "                      [ 0.8215, -1.8189, -0.4633,  0.9464],\n",
       "                      [-0.4976, -0.8870, -0.9135, -1.2895],\n",
       "                      [ 2.0149,  0.8415,  0.9243,  1.4636],\n",
       "                      [ 0.8215, -1.8189, -0.4633,  0.9464],\n",
       "                      [-0.4976, -0.8870, -0.9135, -1.2895],\n",
       "                      [ 2.0149,  0.8415,  0.9243,  1.4636],\n",
       "                      [ 0.8215, -1.8189, -0.4633,  0.9464],\n",
       "                      [-0.4976, -0.8870, -0.9135, -1.2895],\n",
       "                      [ 2.0149,  0.8415,  0.9243,  1.4636],\n",
       "                      [ 0.8215, -1.8189, -0.4633,  0.9464],\n",
       "                      [-0.4976, -0.8870, -0.9135, -1.2895],\n",
       "                      [ 2.0149,  0.8415,  0.9243,  1.4636],\n",
       "                      [ 0.8215, -1.8189, -0.4633,  0.9464],\n",
       "                      [-0.4976, -0.8870, -0.9135, -1.2895],\n",
       "                      [ 2.0149,  0.8415,  0.9243,  1.4636],\n",
       "                      [ 0.8215, -1.8189, -0.4633,  0.9464],\n",
       "                      [-0.4976, -0.8870, -0.9135, -1.2895]]),\n",
       "       ),\n",
       ")"
      ]
     },
     "execution_count": 27,
     "metadata": {},
     "output_type": "execute_result"
    }
   ],
   "source": [
    "Batch.cat(batches)"
   ]
  },
  {
   "cell_type": "code",
   "execution_count": 28,
   "id": "18dfb045",
   "metadata": {
    "execution": {
     "iopub.execute_input": "2023-01-20T05:54:05.892983Z",
     "iopub.status.busy": "2023-01-20T05:54:05.892766Z",
     "iopub.status.idle": "2023-01-20T05:54:17.510276Z",
     "shell.execute_reply": "2023-01-20T05:54:17.509692Z"
    }
   },
   "outputs": [
    {
     "name": "stdout",
     "output_type": "stream",
     "text": [
      "143 µs ± 412 ns per loop (mean ± std. dev. of 7 runs, 10,000 loops each)\n"
     ]
    }
   ],
   "source": [
    "%timeit Batch.cat(batches)"
   ]
  },
  {
   "cell_type": "code",
   "execution_count": 29,
   "id": "c6688e51",
   "metadata": {
    "execution": {
     "iopub.execute_input": "2023-01-20T05:54:17.513999Z",
     "iopub.status.busy": "2023-01-20T05:54:17.513469Z",
     "iopub.status.idle": "2023-01-20T05:54:20.042147Z",
     "shell.execute_reply": "2023-01-20T05:54:20.041087Z"
    }
   },
   "outputs": [
    {
     "name": "stdout",
     "output_type": "stream",
     "text": [
      "311 µs ± 1.63 µs per loop (mean ± std. dev. of 7 runs, 1,000 loops each)\n"
     ]
    }
   ],
   "source": [
    "batch = Batch({\n",
    "    'obs': torch.randn(8, 4, 84, 84),\n",
    "    'action': torch.randint(0, 6, size=(8, 1,)),\n",
    "    'reward': torch.rand(8, 1)}\n",
    ")\n",
    "\n",
    "%timeit list(Batch.split(batch, 1, shuffle=False, merge_last=True))"
   ]
  },
  {
   "cell_type": "code",
   "execution_count": null,
   "id": "2539fbd9",
   "metadata": {},
   "outputs": [],
   "source": []
  }
 ],
 "metadata": {
  "kernelspec": {
   "display_name": "Python 3 (ipykernel)",
   "language": "python",
   "name": "python3"
  },
  "language_info": {
   "codemirror_mode": {
    "name": "ipython",
    "version": 3
   },
   "file_extension": ".py",
   "mimetype": "text/x-python",
   "name": "python",
   "nbconvert_exporter": "python",
   "pygments_lexer": "ipython3",
   "version": "3.8.16"
  }
 },
 "nbformat": 4,
 "nbformat_minor": 5
}
