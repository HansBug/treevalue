{
 "cells": [
  {
   "cell_type": "markdown",
   "id": "9d39d946",
   "metadata": {},
   "source": [
    "# Comparison Between TreeValue and Tianshou Batch"
   ]
  },
  {
   "cell_type": "markdown",
   "id": "3c6db2d4",
   "metadata": {},
   "source": [
    "In this section, we will take a look at the feature and performance of the [Tianshou Batch](https://github.com/thu-ml/tianshou) library, which is developed by Tsinghua Machine Learning Group."
   ]
  },
  {
   "cell_type": "markdown",
   "id": "069361b0",
   "metadata": {},
   "source": [
    "Before starting the comparison, let us define some thing."
   ]
  },
  {
   "cell_type": "code",
   "execution_count": 1,
   "id": "06fc8d26",
   "metadata": {
    "execution": {
     "iopub.execute_input": "2023-01-20T08:01:04.856187Z",
     "iopub.status.busy": "2023-01-20T08:01:04.855893Z",
     "iopub.status.idle": "2023-01-20T08:01:05.968940Z",
     "shell.execute_reply": "2023-01-20T08:01:05.968023Z"
    }
   },
   "outputs": [
    {
     "name": "stderr",
     "output_type": "stream",
     "text": [
      "/opt/hostedtoolcache/Python/3.8.16/x64/lib/python3.8/site-packages/tqdm/auto.py:22: TqdmWarning: IProgress not found. Please update jupyter and ipywidgets. See https://ipywidgets.readthedocs.io/en/stable/user_install.html\n",
      "  from .autonotebook import tqdm as notebook_tqdm\n"
     ]
    }
   ],
   "source": [
    "import torch \n",
    "\n",
    "_TREE_DATA_1 = {'a': 1, 'b': 2, 'x': {'c': 3, 'd': 4}}\n",
    "_TREE_DATA_2 = {\n",
    "    'a': torch.randn(2, 3), \n",
    "    'x': {\n",
    "        'c': torch.randn(3, 4)\n",
    "    },\n",
    "}\n",
    "_TREE_DATA_3 = {\n",
    "    'obs': torch.randn(4, 84, 84),\n",
    "    'action': torch.randint(0, 6, size=(1,)),\n",
    "    'reward': torch.rand(1),\n",
    "}"
   ]
  },
  {
   "cell_type": "markdown",
   "id": "83461b25",
   "metadata": {},
   "source": [
    "## Read and Write Operation"
   ]
  },
  {
   "cell_type": "markdown",
   "id": "067b3f73",
   "metadata": {},
   "source": [
    "Reading and writing are the two most common operations in the tree data structure based on the data model (TreeValue and Tianshou Batch both belong to this type), so this section will compare the reading and writing performance of these two libraries."
   ]
  },
  {
   "cell_type": "markdown",
   "id": "5d09a5b7",
   "metadata": {},
   "source": [
    "### TreeValue's Get and Set"
   ]
  },
  {
   "cell_type": "code",
   "execution_count": 2,
   "id": "9519c4bb",
   "metadata": {
    "execution": {
     "iopub.execute_input": "2023-01-20T08:01:05.974301Z",
     "iopub.status.busy": "2023-01-20T08:01:05.973501Z",
     "iopub.status.idle": "2023-01-20T08:01:06.011725Z",
     "shell.execute_reply": "2023-01-20T08:01:06.010992Z"
    }
   },
   "outputs": [],
   "source": [
    "from treevalue import FastTreeValue\n",
    "\n",
    "t = FastTreeValue(_TREE_DATA_2)"
   ]
  },
  {
   "cell_type": "code",
   "execution_count": 3,
   "id": "11c37677",
   "metadata": {
    "execution": {
     "iopub.execute_input": "2023-01-20T08:01:06.016025Z",
     "iopub.status.busy": "2023-01-20T08:01:06.015393Z",
     "iopub.status.idle": "2023-01-20T08:01:06.027336Z",
     "shell.execute_reply": "2023-01-20T08:01:06.026690Z"
    }
   },
   "outputs": [
    {
     "data": {
      "text/plain": [
       "<FastTreeValue 0x7f1713ef31f0>\n",
       "├── 'a' --> tensor([[-0.6658, -0.4001,  1.4582],\n",
       "│                   [-0.7380, -1.4507,  1.1571]])\n",
       "└── 'x' --> <FastTreeValue 0x7f173c7a7520>\n",
       "    └── 'c' --> tensor([[ 0.2682,  0.4197, -0.5210,  0.0046],\n",
       "                        [ 0.3191, -0.7034,  0.5033, -0.6982],\n",
       "                        [-0.0072,  0.2289, -1.4102,  1.6873]])"
      ]
     },
     "execution_count": 3,
     "metadata": {},
     "output_type": "execute_result"
    }
   ],
   "source": [
    "t"
   ]
  },
  {
   "cell_type": "code",
   "execution_count": 4,
   "id": "fd70b0b9",
   "metadata": {
    "execution": {
     "iopub.execute_input": "2023-01-20T08:01:06.030766Z",
     "iopub.status.busy": "2023-01-20T08:01:06.030315Z",
     "iopub.status.idle": "2023-01-20T08:01:06.036078Z",
     "shell.execute_reply": "2023-01-20T08:01:06.035143Z"
    }
   },
   "outputs": [
    {
     "data": {
      "text/plain": [
       "tensor([[-0.6658, -0.4001,  1.4582],\n",
       "        [-0.7380, -1.4507,  1.1571]])"
      ]
     },
     "execution_count": 4,
     "metadata": {},
     "output_type": "execute_result"
    }
   ],
   "source": [
    "t.a"
   ]
  },
  {
   "cell_type": "code",
   "execution_count": 5,
   "id": "c18197bd",
   "metadata": {
    "execution": {
     "iopub.execute_input": "2023-01-20T08:01:06.040018Z",
     "iopub.status.busy": "2023-01-20T08:01:06.039582Z",
     "iopub.status.idle": "2023-01-20T08:01:12.407795Z",
     "shell.execute_reply": "2023-01-20T08:01:12.406218Z"
    }
   },
   "outputs": [
    {
     "name": "stdout",
     "output_type": "stream",
     "text": [
      "78.5 ns ± 0.188 ns per loop (mean ± std. dev. of 7 runs, 10,000,000 loops each)\n"
     ]
    }
   ],
   "source": [
    "%timeit t.a"
   ]
  },
  {
   "cell_type": "code",
   "execution_count": 6,
   "id": "bd52f867",
   "metadata": {
    "execution": {
     "iopub.execute_input": "2023-01-20T08:01:12.412157Z",
     "iopub.status.busy": "2023-01-20T08:01:12.411439Z",
     "iopub.status.idle": "2023-01-20T08:01:12.419105Z",
     "shell.execute_reply": "2023-01-20T08:01:12.418304Z"
    }
   },
   "outputs": [
    {
     "data": {
      "text/plain": [
       "<FastTreeValue 0x7f1713ef31f0>\n",
       "├── 'a' --> tensor([[ 0.0687,  0.9521, -0.1747],\n",
       "│                   [ 0.7854, -1.0446, -1.3658]])\n",
       "└── 'x' --> <FastTreeValue 0x7f173c7a7520>\n",
       "    └── 'c' --> tensor([[ 0.2682,  0.4197, -0.5210,  0.0046],\n",
       "                        [ 0.3191, -0.7034,  0.5033, -0.6982],\n",
       "                        [-0.0072,  0.2289, -1.4102,  1.6873]])"
      ]
     },
     "execution_count": 6,
     "metadata": {},
     "output_type": "execute_result"
    }
   ],
   "source": [
    "new_value = torch.randn(2, 3)\n",
    "t.a = new_value\n",
    "\n",
    "t"
   ]
  },
  {
   "cell_type": "code",
   "execution_count": 7,
   "id": "bbe04d1c",
   "metadata": {
    "execution": {
     "iopub.execute_input": "2023-01-20T08:01:12.422390Z",
     "iopub.status.busy": "2023-01-20T08:01:12.421800Z",
     "iopub.status.idle": "2023-01-20T08:01:18.858416Z",
     "shell.execute_reply": "2023-01-20T08:01:18.855984Z"
    }
   },
   "outputs": [
    {
     "name": "stdout",
     "output_type": "stream",
     "text": [
      "79.3 ns ± 0.363 ns per loop (mean ± std. dev. of 7 runs, 10,000,000 loops each)\n"
     ]
    }
   ],
   "source": [
    "%timeit t.a = new_value"
   ]
  },
  {
   "cell_type": "markdown",
   "id": "48c49731",
   "metadata": {},
   "source": [
    "### Tianshou Batch's Get and Set"
   ]
  },
  {
   "cell_type": "code",
   "execution_count": 8,
   "id": "f1bb14c1",
   "metadata": {
    "execution": {
     "iopub.execute_input": "2023-01-20T08:01:18.862173Z",
     "iopub.status.busy": "2023-01-20T08:01:18.861616Z",
     "iopub.status.idle": "2023-01-20T08:01:19.278938Z",
     "shell.execute_reply": "2023-01-20T08:01:19.277792Z"
    }
   },
   "outputs": [],
   "source": [
    "from tianshou.data import Batch\n",
    "\n",
    "b = Batch(**_TREE_DATA_2)"
   ]
  },
  {
   "cell_type": "code",
   "execution_count": 9,
   "id": "cb0777c3",
   "metadata": {
    "execution": {
     "iopub.execute_input": "2023-01-20T08:01:19.284321Z",
     "iopub.status.busy": "2023-01-20T08:01:19.283656Z",
     "iopub.status.idle": "2023-01-20T08:01:19.290437Z",
     "shell.execute_reply": "2023-01-20T08:01:19.289622Z"
    }
   },
   "outputs": [
    {
     "data": {
      "text/plain": [
       "Batch(\n",
       "    a: tensor([[-0.6658, -0.4001,  1.4582],\n",
       "               [-0.7380, -1.4507,  1.1571]]),\n",
       "    x: Batch(\n",
       "           c: tensor([[ 0.2682,  0.4197, -0.5210,  0.0046],\n",
       "                      [ 0.3191, -0.7034,  0.5033, -0.6982],\n",
       "                      [-0.0072,  0.2289, -1.4102,  1.6873]]),\n",
       "       ),\n",
       ")"
      ]
     },
     "execution_count": 9,
     "metadata": {},
     "output_type": "execute_result"
    }
   ],
   "source": [
    "b"
   ]
  },
  {
   "cell_type": "code",
   "execution_count": 10,
   "id": "43ef8ea3",
   "metadata": {
    "execution": {
     "iopub.execute_input": "2023-01-20T08:01:19.294270Z",
     "iopub.status.busy": "2023-01-20T08:01:19.293741Z",
     "iopub.status.idle": "2023-01-20T08:01:19.299722Z",
     "shell.execute_reply": "2023-01-20T08:01:19.298859Z"
    }
   },
   "outputs": [
    {
     "data": {
      "text/plain": [
       "tensor([[-0.6658, -0.4001,  1.4582],\n",
       "        [-0.7380, -1.4507,  1.1571]])"
      ]
     },
     "execution_count": 10,
     "metadata": {},
     "output_type": "execute_result"
    }
   ],
   "source": [
    "b.a"
   ]
  },
  {
   "cell_type": "code",
   "execution_count": 11,
   "id": "b785ab72",
   "metadata": {
    "execution": {
     "iopub.execute_input": "2023-01-20T08:01:19.303864Z",
     "iopub.status.busy": "2023-01-20T08:01:19.303463Z",
     "iopub.status.idle": "2023-01-20T08:01:25.014495Z",
     "shell.execute_reply": "2023-01-20T08:01:25.013705Z"
    }
   },
   "outputs": [
    {
     "name": "stdout",
     "output_type": "stream",
     "text": [
      "70.2 ns ± 0.406 ns per loop (mean ± std. dev. of 7 runs, 10,000,000 loops each)\n"
     ]
    }
   ],
   "source": [
    "%timeit b.a"
   ]
  },
  {
   "cell_type": "code",
   "execution_count": 12,
   "id": "ad54dc69",
   "metadata": {
    "execution": {
     "iopub.execute_input": "2023-01-20T08:01:25.018533Z",
     "iopub.status.busy": "2023-01-20T08:01:25.017806Z",
     "iopub.status.idle": "2023-01-20T08:01:25.024899Z",
     "shell.execute_reply": "2023-01-20T08:01:25.024085Z"
    }
   },
   "outputs": [
    {
     "data": {
      "text/plain": [
       "Batch(\n",
       "    a: tensor([[ 0.8217,  2.9410,  0.8349],\n",
       "               [ 0.1392, -0.2347, -0.8072]]),\n",
       "    x: Batch(\n",
       "           c: tensor([[ 0.2682,  0.4197, -0.5210,  0.0046],\n",
       "                      [ 0.3191, -0.7034,  0.5033, -0.6982],\n",
       "                      [-0.0072,  0.2289, -1.4102,  1.6873]]),\n",
       "       ),\n",
       ")"
      ]
     },
     "execution_count": 12,
     "metadata": {},
     "output_type": "execute_result"
    }
   ],
   "source": [
    "new_value = torch.randn(2, 3)\n",
    "b.a = new_value\n",
    "\n",
    "b"
   ]
  },
  {
   "cell_type": "code",
   "execution_count": 13,
   "id": "29b1d0bf",
   "metadata": {
    "execution": {
     "iopub.execute_input": "2023-01-20T08:01:25.028636Z",
     "iopub.status.busy": "2023-01-20T08:01:25.028029Z",
     "iopub.status.idle": "2023-01-20T08:01:29.828674Z",
     "shell.execute_reply": "2023-01-20T08:01:29.827405Z"
    }
   },
   "outputs": [
    {
     "name": "stdout",
     "output_type": "stream",
     "text": [
      "592 ns ± 2.44 ns per loop (mean ± std. dev. of 7 runs, 1,000,000 loops each)\n"
     ]
    }
   ],
   "source": [
    "%timeit b.a = new_value"
   ]
  },
  {
   "cell_type": "markdown",
   "id": "b61ad1d0",
   "metadata": {},
   "source": [
    "## Initialization"
   ]
  },
  {
   "cell_type": "markdown",
   "id": "d70f0d54",
   "metadata": {},
   "source": [
    "### TreeValue's Initialization"
   ]
  },
  {
   "cell_type": "code",
   "execution_count": 14,
   "id": "d32a679b",
   "metadata": {
    "execution": {
     "iopub.execute_input": "2023-01-20T08:01:29.833170Z",
     "iopub.status.busy": "2023-01-20T08:01:29.832384Z",
     "iopub.status.idle": "2023-01-20T08:01:37.719257Z",
     "shell.execute_reply": "2023-01-20T08:01:37.718304Z"
    }
   },
   "outputs": [
    {
     "name": "stdout",
     "output_type": "stream",
     "text": [
      "969 ns ± 3.47 ns per loop (mean ± std. dev. of 7 runs, 1,000,000 loops each)\n"
     ]
    }
   ],
   "source": [
    "%timeit FastTreeValue(_TREE_DATA_1)"
   ]
  },
  {
   "cell_type": "markdown",
   "id": "24f3707b",
   "metadata": {},
   "source": [
    "### Tianshou Batch's Initialization"
   ]
  },
  {
   "cell_type": "code",
   "execution_count": 15,
   "id": "ac3958df",
   "metadata": {
    "execution": {
     "iopub.execute_input": "2023-01-20T08:01:37.723249Z",
     "iopub.status.busy": "2023-01-20T08:01:37.722713Z",
     "iopub.status.idle": "2023-01-20T08:01:48.274137Z",
     "shell.execute_reply": "2023-01-20T08:01:48.273082Z"
    }
   },
   "outputs": [
    {
     "name": "stdout",
     "output_type": "stream",
     "text": [
      "13 µs ± 164 ns per loop (mean ± std. dev. of 7 runs, 100,000 loops each)\n"
     ]
    }
   ],
   "source": [
    "%timeit Batch(**_TREE_DATA_1)"
   ]
  },
  {
   "cell_type": "markdown",
   "id": "1ab82e2d",
   "metadata": {},
   "source": [
    "## Deep Copy Operation"
   ]
  },
  {
   "cell_type": "code",
   "execution_count": 16,
   "id": "210a9442",
   "metadata": {
    "execution": {
     "iopub.execute_input": "2023-01-20T08:01:48.277990Z",
     "iopub.status.busy": "2023-01-20T08:01:48.277527Z",
     "iopub.status.idle": "2023-01-20T08:01:48.281074Z",
     "shell.execute_reply": "2023-01-20T08:01:48.280295Z"
    }
   },
   "outputs": [],
   "source": [
    "import copy"
   ]
  },
  {
   "cell_type": "markdown",
   "id": "5a736274",
   "metadata": {},
   "source": [
    "### Deep Copy of TreeValue"
   ]
  },
  {
   "cell_type": "code",
   "execution_count": 17,
   "id": "f9bcadd6",
   "metadata": {
    "execution": {
     "iopub.execute_input": "2023-01-20T08:01:48.285049Z",
     "iopub.status.busy": "2023-01-20T08:01:48.284511Z",
     "iopub.status.idle": "2023-01-20T08:02:01.918015Z",
     "shell.execute_reply": "2023-01-20T08:02:01.917276Z"
    }
   },
   "outputs": [
    {
     "name": "stdout",
     "output_type": "stream",
     "text": [
      "167 µs ± 1.5 µs per loop (mean ± std. dev. of 7 runs, 10,000 loops each)\n"
     ]
    }
   ],
   "source": [
    "t3 = FastTreeValue(_TREE_DATA_3)\n",
    "%timeit copy.deepcopy(t3)"
   ]
  },
  {
   "cell_type": "markdown",
   "id": "bf8be7ea",
   "metadata": {},
   "source": [
    "### Deep Copy of Tianshou Batch"
   ]
  },
  {
   "cell_type": "code",
   "execution_count": 18,
   "id": "91998e6f",
   "metadata": {
    "execution": {
     "iopub.execute_input": "2023-01-20T08:02:01.921810Z",
     "iopub.status.busy": "2023-01-20T08:02:01.921323Z",
     "iopub.status.idle": "2023-01-20T08:02:15.362281Z",
     "shell.execute_reply": "2023-01-20T08:02:15.361552Z"
    }
   },
   "outputs": [
    {
     "name": "stdout",
     "output_type": "stream",
     "text": [
      "165 µs ± 885 ns per loop (mean ± std. dev. of 7 runs, 10,000 loops each)\n"
     ]
    }
   ],
   "source": [
    "b3 = Batch(**_TREE_DATA_3)\n",
    "%timeit copy.deepcopy(b3)"
   ]
  },
  {
   "cell_type": "markdown",
   "id": "223162fb",
   "metadata": {},
   "source": [
    "## Stack, Concat and Split Operation"
   ]
  },
  {
   "cell_type": "markdown",
   "id": "85fa4a73",
   "metadata": {},
   "source": [
    "### Performance of TreeValue"
   ]
  },
  {
   "cell_type": "code",
   "execution_count": 19,
   "id": "a0c2b697",
   "metadata": {
    "execution": {
     "iopub.execute_input": "2023-01-20T08:02:15.366011Z",
     "iopub.status.busy": "2023-01-20T08:02:15.365517Z",
     "iopub.status.idle": "2023-01-20T08:02:15.369537Z",
     "shell.execute_reply": "2023-01-20T08:02:15.368583Z"
    }
   },
   "outputs": [],
   "source": [
    "trees = [FastTreeValue(_TREE_DATA_2) for _ in range(8)]"
   ]
  },
  {
   "cell_type": "code",
   "execution_count": 20,
   "id": "017ea5a5",
   "metadata": {
    "execution": {
     "iopub.execute_input": "2023-01-20T08:02:15.372779Z",
     "iopub.status.busy": "2023-01-20T08:02:15.372335Z",
     "iopub.status.idle": "2023-01-20T08:02:15.380196Z",
     "shell.execute_reply": "2023-01-20T08:02:15.379549Z"
    }
   },
   "outputs": [
    {
     "data": {
      "text/plain": [
       "<FastTreeValue 0x7f1693f42c40>\n",
       "├── 'a' --> tensor([[[-0.6658, -0.4001,  1.4582],\n",
       "│                    [-0.7380, -1.4507,  1.1571]],\n",
       "│           \n",
       "│                   [[-0.6658, -0.4001,  1.4582],\n",
       "│                    [-0.7380, -1.4507,  1.1571]],\n",
       "│           \n",
       "│                   [[-0.6658, -0.4001,  1.4582],\n",
       "│                    [-0.7380, -1.4507,  1.1571]],\n",
       "│           \n",
       "│                   [[-0.6658, -0.4001,  1.4582],\n",
       "│                    [-0.7380, -1.4507,  1.1571]],\n",
       "│           \n",
       "│                   [[-0.6658, -0.4001,  1.4582],\n",
       "│                    [-0.7380, -1.4507,  1.1571]],\n",
       "│           \n",
       "│                   [[-0.6658, -0.4001,  1.4582],\n",
       "│                    [-0.7380, -1.4507,  1.1571]],\n",
       "│           \n",
       "│                   [[-0.6658, -0.4001,  1.4582],\n",
       "│                    [-0.7380, -1.4507,  1.1571]],\n",
       "│           \n",
       "│                   [[-0.6658, -0.4001,  1.4582],\n",
       "│                    [-0.7380, -1.4507,  1.1571]]])\n",
       "└── 'x' --> <FastTreeValue 0x7f1693f426a0>\n",
       "    └── 'c' --> tensor([[[ 0.2682,  0.4197, -0.5210,  0.0046],\n",
       "                         [ 0.3191, -0.7034,  0.5033, -0.6982],\n",
       "                         [-0.0072,  0.2289, -1.4102,  1.6873]],\n",
       "                \n",
       "                        [[ 0.2682,  0.4197, -0.5210,  0.0046],\n",
       "                         [ 0.3191, -0.7034,  0.5033, -0.6982],\n",
       "                         [-0.0072,  0.2289, -1.4102,  1.6873]],\n",
       "                \n",
       "                        [[ 0.2682,  0.4197, -0.5210,  0.0046],\n",
       "                         [ 0.3191, -0.7034,  0.5033, -0.6982],\n",
       "                         [-0.0072,  0.2289, -1.4102,  1.6873]],\n",
       "                \n",
       "                        [[ 0.2682,  0.4197, -0.5210,  0.0046],\n",
       "                         [ 0.3191, -0.7034,  0.5033, -0.6982],\n",
       "                         [-0.0072,  0.2289, -1.4102,  1.6873]],\n",
       "                \n",
       "                        [[ 0.2682,  0.4197, -0.5210,  0.0046],\n",
       "                         [ 0.3191, -0.7034,  0.5033, -0.6982],\n",
       "                         [-0.0072,  0.2289, -1.4102,  1.6873]],\n",
       "                \n",
       "                        [[ 0.2682,  0.4197, -0.5210,  0.0046],\n",
       "                         [ 0.3191, -0.7034,  0.5033, -0.6982],\n",
       "                         [-0.0072,  0.2289, -1.4102,  1.6873]],\n",
       "                \n",
       "                        [[ 0.2682,  0.4197, -0.5210,  0.0046],\n",
       "                         [ 0.3191, -0.7034,  0.5033, -0.6982],\n",
       "                         [-0.0072,  0.2289, -1.4102,  1.6873]],\n",
       "                \n",
       "                        [[ 0.2682,  0.4197, -0.5210,  0.0046],\n",
       "                         [ 0.3191, -0.7034,  0.5033, -0.6982],\n",
       "                         [-0.0072,  0.2289, -1.4102,  1.6873]]])"
      ]
     },
     "execution_count": 20,
     "metadata": {},
     "output_type": "execute_result"
    }
   ],
   "source": [
    "t_stack = FastTreeValue.func(subside=True)(torch.stack)\n",
    "\n",
    "t_stack(trees)"
   ]
  },
  {
   "cell_type": "code",
   "execution_count": 21,
   "id": "f8b3f415",
   "metadata": {
    "execution": {
     "iopub.execute_input": "2023-01-20T08:02:15.383486Z",
     "iopub.status.busy": "2023-01-20T08:02:15.383041Z",
     "iopub.status.idle": "2023-01-20T08:02:18.415597Z",
     "shell.execute_reply": "2023-01-20T08:02:18.414844Z"
    }
   },
   "outputs": [
    {
     "name": "stdout",
     "output_type": "stream",
     "text": [
      "37.3 µs ± 307 ns per loop (mean ± std. dev. of 7 runs, 10,000 loops each)\n"
     ]
    }
   ],
   "source": [
    "%timeit t_stack(trees)"
   ]
  },
  {
   "cell_type": "code",
   "execution_count": 22,
   "id": "94b56771",
   "metadata": {
    "execution": {
     "iopub.execute_input": "2023-01-20T08:02:18.419536Z",
     "iopub.status.busy": "2023-01-20T08:02:18.418803Z",
     "iopub.status.idle": "2023-01-20T08:02:18.428070Z",
     "shell.execute_reply": "2023-01-20T08:02:18.427301Z"
    }
   },
   "outputs": [
    {
     "data": {
      "text/plain": [
       "<FastTreeValue 0x7f1693f42d30>\n",
       "├── 'a' --> tensor([[-0.6658, -0.4001,  1.4582],\n",
       "│                   [-0.7380, -1.4507,  1.1571],\n",
       "│                   [-0.6658, -0.4001,  1.4582],\n",
       "│                   [-0.7380, -1.4507,  1.1571],\n",
       "│                   [-0.6658, -0.4001,  1.4582],\n",
       "│                   [-0.7380, -1.4507,  1.1571],\n",
       "│                   [-0.6658, -0.4001,  1.4582],\n",
       "│                   [-0.7380, -1.4507,  1.1571],\n",
       "│                   [-0.6658, -0.4001,  1.4582],\n",
       "│                   [-0.7380, -1.4507,  1.1571],\n",
       "│                   [-0.6658, -0.4001,  1.4582],\n",
       "│                   [-0.7380, -1.4507,  1.1571],\n",
       "│                   [-0.6658, -0.4001,  1.4582],\n",
       "│                   [-0.7380, -1.4507,  1.1571],\n",
       "│                   [-0.6658, -0.4001,  1.4582],\n",
       "│                   [-0.7380, -1.4507,  1.1571]])\n",
       "└── 'x' --> <FastTreeValue 0x7f1693f42520>\n",
       "    └── 'c' --> tensor([[ 0.2682,  0.4197, -0.5210,  0.0046],\n",
       "                        [ 0.3191, -0.7034,  0.5033, -0.6982],\n",
       "                        [-0.0072,  0.2289, -1.4102,  1.6873],\n",
       "                        [ 0.2682,  0.4197, -0.5210,  0.0046],\n",
       "                        [ 0.3191, -0.7034,  0.5033, -0.6982],\n",
       "                        [-0.0072,  0.2289, -1.4102,  1.6873],\n",
       "                        [ 0.2682,  0.4197, -0.5210,  0.0046],\n",
       "                        [ 0.3191, -0.7034,  0.5033, -0.6982],\n",
       "                        [-0.0072,  0.2289, -1.4102,  1.6873],\n",
       "                        [ 0.2682,  0.4197, -0.5210,  0.0046],\n",
       "                        [ 0.3191, -0.7034,  0.5033, -0.6982],\n",
       "                        [-0.0072,  0.2289, -1.4102,  1.6873],\n",
       "                        [ 0.2682,  0.4197, -0.5210,  0.0046],\n",
       "                        [ 0.3191, -0.7034,  0.5033, -0.6982],\n",
       "                        [-0.0072,  0.2289, -1.4102,  1.6873],\n",
       "                        [ 0.2682,  0.4197, -0.5210,  0.0046],\n",
       "                        [ 0.3191, -0.7034,  0.5033, -0.6982],\n",
       "                        [-0.0072,  0.2289, -1.4102,  1.6873],\n",
       "                        [ 0.2682,  0.4197, -0.5210,  0.0046],\n",
       "                        [ 0.3191, -0.7034,  0.5033, -0.6982],\n",
       "                        [-0.0072,  0.2289, -1.4102,  1.6873],\n",
       "                        [ 0.2682,  0.4197, -0.5210,  0.0046],\n",
       "                        [ 0.3191, -0.7034,  0.5033, -0.6982],\n",
       "                        [-0.0072,  0.2289, -1.4102,  1.6873]])"
      ]
     },
     "execution_count": 22,
     "metadata": {},
     "output_type": "execute_result"
    }
   ],
   "source": [
    "t_cat = FastTreeValue.func(subside=True)(torch.cat)\n",
    "\n",
    "t_cat(trees)"
   ]
  },
  {
   "cell_type": "code",
   "execution_count": 23,
   "id": "5e9c06a6",
   "metadata": {
    "execution": {
     "iopub.execute_input": "2023-01-20T08:02:18.431778Z",
     "iopub.status.busy": "2023-01-20T08:02:18.431130Z",
     "iopub.status.idle": "2023-01-20T08:02:21.550056Z",
     "shell.execute_reply": "2023-01-20T08:02:21.548876Z"
    }
   },
   "outputs": [
    {
     "name": "stdout",
     "output_type": "stream",
     "text": [
      "38.3 µs ± 796 ns per loop (mean ± std. dev. of 7 runs, 10,000 loops each)\n"
     ]
    }
   ],
   "source": [
    "%timeit t_cat(trees)"
   ]
  },
  {
   "cell_type": "code",
   "execution_count": 24,
   "id": "a3ab5c8f",
   "metadata": {
    "execution": {
     "iopub.execute_input": "2023-01-20T08:02:21.554734Z",
     "iopub.status.busy": "2023-01-20T08:02:21.553873Z",
     "iopub.status.idle": "2023-01-20T08:02:26.734806Z",
     "shell.execute_reply": "2023-01-20T08:02:26.733869Z"
    }
   },
   "outputs": [
    {
     "name": "stdout",
     "output_type": "stream",
     "text": [
      "63.7 µs ± 315 ns per loop (mean ± std. dev. of 7 runs, 10,000 loops each)\n"
     ]
    }
   ],
   "source": [
    "t_split = FastTreeValue.func(rise=True)(torch.split)\n",
    "tree = FastTreeValue({\n",
    "    'obs': torch.randn(8, 4, 84, 84),\n",
    "    'action': torch.randint(0, 6, size=(8, 1,)),\n",
    "    'reward': torch.rand(8, 1),\n",
    "})\n",
    "\n",
    "%timeit t_split(tree, 1)"
   ]
  },
  {
   "cell_type": "markdown",
   "id": "31c3ec0b",
   "metadata": {},
   "source": [
    "### Performance of Tianshou Batch"
   ]
  },
  {
   "cell_type": "code",
   "execution_count": 25,
   "id": "9ead828a",
   "metadata": {
    "execution": {
     "iopub.execute_input": "2023-01-20T08:02:26.739336Z",
     "iopub.status.busy": "2023-01-20T08:02:26.738798Z",
     "iopub.status.idle": "2023-01-20T08:02:26.747314Z",
     "shell.execute_reply": "2023-01-20T08:02:26.746528Z"
    }
   },
   "outputs": [
    {
     "data": {
      "text/plain": [
       "Batch(\n",
       "    a: tensor([[[-0.6658, -0.4001,  1.4582],\n",
       "                [-0.7380, -1.4507,  1.1571]],\n",
       "       \n",
       "               [[-0.6658, -0.4001,  1.4582],\n",
       "                [-0.7380, -1.4507,  1.1571]],\n",
       "       \n",
       "               [[-0.6658, -0.4001,  1.4582],\n",
       "                [-0.7380, -1.4507,  1.1571]],\n",
       "       \n",
       "               [[-0.6658, -0.4001,  1.4582],\n",
       "                [-0.7380, -1.4507,  1.1571]],\n",
       "       \n",
       "               [[-0.6658, -0.4001,  1.4582],\n",
       "                [-0.7380, -1.4507,  1.1571]],\n",
       "       \n",
       "               [[-0.6658, -0.4001,  1.4582],\n",
       "                [-0.7380, -1.4507,  1.1571]],\n",
       "       \n",
       "               [[-0.6658, -0.4001,  1.4582],\n",
       "                [-0.7380, -1.4507,  1.1571]],\n",
       "       \n",
       "               [[-0.6658, -0.4001,  1.4582],\n",
       "                [-0.7380, -1.4507,  1.1571]]]),\n",
       "    x: Batch(\n",
       "           c: tensor([[[ 0.2682,  0.4197, -0.5210,  0.0046],\n",
       "                       [ 0.3191, -0.7034,  0.5033, -0.6982],\n",
       "                       [-0.0072,  0.2289, -1.4102,  1.6873]],\n",
       "              \n",
       "                      [[ 0.2682,  0.4197, -0.5210,  0.0046],\n",
       "                       [ 0.3191, -0.7034,  0.5033, -0.6982],\n",
       "                       [-0.0072,  0.2289, -1.4102,  1.6873]],\n",
       "              \n",
       "                      [[ 0.2682,  0.4197, -0.5210,  0.0046],\n",
       "                       [ 0.3191, -0.7034,  0.5033, -0.6982],\n",
       "                       [-0.0072,  0.2289, -1.4102,  1.6873]],\n",
       "              \n",
       "                      [[ 0.2682,  0.4197, -0.5210,  0.0046],\n",
       "                       [ 0.3191, -0.7034,  0.5033, -0.6982],\n",
       "                       [-0.0072,  0.2289, -1.4102,  1.6873]],\n",
       "              \n",
       "                      [[ 0.2682,  0.4197, -0.5210,  0.0046],\n",
       "                       [ 0.3191, -0.7034,  0.5033, -0.6982],\n",
       "                       [-0.0072,  0.2289, -1.4102,  1.6873]],\n",
       "              \n",
       "                      [[ 0.2682,  0.4197, -0.5210,  0.0046],\n",
       "                       [ 0.3191, -0.7034,  0.5033, -0.6982],\n",
       "                       [-0.0072,  0.2289, -1.4102,  1.6873]],\n",
       "              \n",
       "                      [[ 0.2682,  0.4197, -0.5210,  0.0046],\n",
       "                       [ 0.3191, -0.7034,  0.5033, -0.6982],\n",
       "                       [-0.0072,  0.2289, -1.4102,  1.6873]],\n",
       "              \n",
       "                      [[ 0.2682,  0.4197, -0.5210,  0.0046],\n",
       "                       [ 0.3191, -0.7034,  0.5033, -0.6982],\n",
       "                       [-0.0072,  0.2289, -1.4102,  1.6873]]]),\n",
       "       ),\n",
       ")"
      ]
     },
     "execution_count": 25,
     "metadata": {},
     "output_type": "execute_result"
    }
   ],
   "source": [
    "batches = [Batch(**_TREE_DATA_2) for _ in range(8)]\n",
    "\n",
    "Batch.stack(batches)"
   ]
  },
  {
   "cell_type": "code",
   "execution_count": 26,
   "id": "ec9037a3",
   "metadata": {
    "execution": {
     "iopub.execute_input": "2023-01-20T08:02:26.750757Z",
     "iopub.status.busy": "2023-01-20T08:02:26.750325Z",
     "iopub.status.idle": "2023-01-20T08:02:34.494344Z",
     "shell.execute_reply": "2023-01-20T08:02:34.492870Z"
    }
   },
   "outputs": [
    {
     "name": "stdout",
     "output_type": "stream",
     "text": [
      "94.4 µs ± 3.19 µs per loop (mean ± std. dev. of 7 runs, 10,000 loops each)\n"
     ]
    }
   ],
   "source": [
    "%timeit Batch.stack(batches)"
   ]
  },
  {
   "cell_type": "code",
   "execution_count": 27,
   "id": "cb8ab77e",
   "metadata": {
    "execution": {
     "iopub.execute_input": "2023-01-20T08:02:34.498427Z",
     "iopub.status.busy": "2023-01-20T08:02:34.497973Z",
     "iopub.status.idle": "2023-01-20T08:02:34.506786Z",
     "shell.execute_reply": "2023-01-20T08:02:34.506091Z"
    }
   },
   "outputs": [
    {
     "data": {
      "text/plain": [
       "Batch(\n",
       "    a: tensor([[-0.6658, -0.4001,  1.4582],\n",
       "               [-0.7380, -1.4507,  1.1571],\n",
       "               [-0.6658, -0.4001,  1.4582],\n",
       "               [-0.7380, -1.4507,  1.1571],\n",
       "               [-0.6658, -0.4001,  1.4582],\n",
       "               [-0.7380, -1.4507,  1.1571],\n",
       "               [-0.6658, -0.4001,  1.4582],\n",
       "               [-0.7380, -1.4507,  1.1571],\n",
       "               [-0.6658, -0.4001,  1.4582],\n",
       "               [-0.7380, -1.4507,  1.1571],\n",
       "               [-0.6658, -0.4001,  1.4582],\n",
       "               [-0.7380, -1.4507,  1.1571],\n",
       "               [-0.6658, -0.4001,  1.4582],\n",
       "               [-0.7380, -1.4507,  1.1571],\n",
       "               [-0.6658, -0.4001,  1.4582],\n",
       "               [-0.7380, -1.4507,  1.1571]]),\n",
       "    x: Batch(\n",
       "           c: tensor([[ 0.2682,  0.4197, -0.5210,  0.0046],\n",
       "                      [ 0.3191, -0.7034,  0.5033, -0.6982],\n",
       "                      [-0.0072,  0.2289, -1.4102,  1.6873],\n",
       "                      [ 0.2682,  0.4197, -0.5210,  0.0046],\n",
       "                      [ 0.3191, -0.7034,  0.5033, -0.6982],\n",
       "                      [-0.0072,  0.2289, -1.4102,  1.6873],\n",
       "                      [ 0.2682,  0.4197, -0.5210,  0.0046],\n",
       "                      [ 0.3191, -0.7034,  0.5033, -0.6982],\n",
       "                      [-0.0072,  0.2289, -1.4102,  1.6873],\n",
       "                      [ 0.2682,  0.4197, -0.5210,  0.0046],\n",
       "                      [ 0.3191, -0.7034,  0.5033, -0.6982],\n",
       "                      [-0.0072,  0.2289, -1.4102,  1.6873],\n",
       "                      [ 0.2682,  0.4197, -0.5210,  0.0046],\n",
       "                      [ 0.3191, -0.7034,  0.5033, -0.6982],\n",
       "                      [-0.0072,  0.2289, -1.4102,  1.6873],\n",
       "                      [ 0.2682,  0.4197, -0.5210,  0.0046],\n",
       "                      [ 0.3191, -0.7034,  0.5033, -0.6982],\n",
       "                      [-0.0072,  0.2289, -1.4102,  1.6873],\n",
       "                      [ 0.2682,  0.4197, -0.5210,  0.0046],\n",
       "                      [ 0.3191, -0.7034,  0.5033, -0.6982],\n",
       "                      [-0.0072,  0.2289, -1.4102,  1.6873],\n",
       "                      [ 0.2682,  0.4197, -0.5210,  0.0046],\n",
       "                      [ 0.3191, -0.7034,  0.5033, -0.6982],\n",
       "                      [-0.0072,  0.2289, -1.4102,  1.6873]]),\n",
       "       ),\n",
       ")"
      ]
     },
     "execution_count": 27,
     "metadata": {},
     "output_type": "execute_result"
    }
   ],
   "source": [
    "Batch.cat(batches)"
   ]
  },
  {
   "cell_type": "code",
   "execution_count": 28,
   "id": "18dfb045",
   "metadata": {
    "execution": {
     "iopub.execute_input": "2023-01-20T08:02:34.510379Z",
     "iopub.status.busy": "2023-01-20T08:02:34.509963Z",
     "iopub.status.idle": "2023-01-20T08:02:48.134034Z",
     "shell.execute_reply": "2023-01-20T08:02:48.132548Z"
    }
   },
   "outputs": [
    {
     "name": "stdout",
     "output_type": "stream",
     "text": [
      "168 µs ± 1.33 µs per loop (mean ± std. dev. of 7 runs, 10,000 loops each)\n"
     ]
    }
   ],
   "source": [
    "%timeit Batch.cat(batches)"
   ]
  },
  {
   "cell_type": "code",
   "execution_count": 29,
   "id": "c6688e51",
   "metadata": {
    "execution": {
     "iopub.execute_input": "2023-01-20T08:02:48.138231Z",
     "iopub.status.busy": "2023-01-20T08:02:48.137474Z",
     "iopub.status.idle": "2023-01-20T08:02:51.184166Z",
     "shell.execute_reply": "2023-01-20T08:02:51.183431Z"
    }
   },
   "outputs": [
    {
     "name": "stdout",
     "output_type": "stream",
     "text": [
      "374 µs ± 10.6 µs per loop (mean ± std. dev. of 7 runs, 1,000 loops each)\n"
     ]
    }
   ],
   "source": [
    "batch = Batch({\n",
    "    'obs': torch.randn(8, 4, 84, 84),\n",
    "    'action': torch.randint(0, 6, size=(8, 1,)),\n",
    "    'reward': torch.rand(8, 1)}\n",
    ")\n",
    "\n",
    "%timeit list(Batch.split(batch, 1, shuffle=False, merge_last=True))"
   ]
  },
  {
   "cell_type": "code",
   "execution_count": null,
   "id": "2539fbd9",
   "metadata": {},
   "outputs": [],
   "source": []
  }
 ],
 "metadata": {
  "kernelspec": {
   "display_name": "Python 3 (ipykernel)",
   "language": "python",
   "name": "python3"
  },
  "language_info": {
   "codemirror_mode": {
    "name": "ipython",
    "version": 3
   },
   "file_extension": ".py",
   "mimetype": "text/x-python",
   "name": "python",
   "nbconvert_exporter": "python",
   "pygments_lexer": "ipython3",
   "version": "3.8.16"
  }
 },
 "nbformat": 4,
 "nbformat_minor": 5
}
