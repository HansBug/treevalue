{
 "cells": [
  {
   "cell_type": "markdown",
   "id": "9d39d946",
   "metadata": {},
   "source": [
    "# Comparison Between TreeValue and Tianshou Batch"
   ]
  },
  {
   "cell_type": "markdown",
   "id": "3c6db2d4",
   "metadata": {},
   "source": [
    "In this section, we will take a look at the feature and performance of the [Tianshou Batch](https://github.com/thu-ml/tianshou) library, which is developed by Tsinghua Machine Learning Group."
   ]
  },
  {
   "cell_type": "markdown",
   "id": "069361b0",
   "metadata": {},
   "source": [
    "Before starting the comparison, let us define some thing."
   ]
  },
  {
   "cell_type": "code",
   "execution_count": 1,
   "id": "06fc8d26",
   "metadata": {
    "execution": {
     "iopub.execute_input": "2023-02-26T15:16:02.902773Z",
     "iopub.status.busy": "2023-02-26T15:16:02.902241Z",
     "iopub.status.idle": "2023-02-26T15:16:03.817745Z",
     "shell.execute_reply": "2023-02-26T15:16:03.817061Z"
    }
   },
   "outputs": [
    {
     "name": "stderr",
     "output_type": "stream",
     "text": [
      "/opt/hostedtoolcache/Python/3.8.16/x64/lib/python3.8/site-packages/tqdm/auto.py:22: TqdmWarning: IProgress not found. Please update jupyter and ipywidgets. See https://ipywidgets.readthedocs.io/en/stable/user_install.html\n",
      "  from .autonotebook import tqdm as notebook_tqdm\n"
     ]
    }
   ],
   "source": [
    "import torch \n",
    "\n",
    "_TREE_DATA_1 = {'a': 1, 'b': 2, 'x': {'c': 3, 'd': 4}}\n",
    "_TREE_DATA_2 = {\n",
    "    'a': torch.randn(2, 3), \n",
    "    'x': {\n",
    "        'c': torch.randn(3, 4)\n",
    "    },\n",
    "}\n",
    "_TREE_DATA_3 = {\n",
    "    'obs': torch.randn(4, 84, 84),\n",
    "    'action': torch.randint(0, 6, size=(1,)),\n",
    "    'reward': torch.rand(1),\n",
    "}"
   ]
  },
  {
   "cell_type": "markdown",
   "id": "83461b25",
   "metadata": {},
   "source": [
    "## Read and Write Operation"
   ]
  },
  {
   "cell_type": "markdown",
   "id": "067b3f73",
   "metadata": {},
   "source": [
    "Reading and writing are the two most common operations in the tree data structure based on the data model (TreeValue and Tianshou Batch both belong to this type), so this section will compare the reading and writing performance of these two libraries."
   ]
  },
  {
   "cell_type": "markdown",
   "id": "5d09a5b7",
   "metadata": {},
   "source": [
    "### TreeValue's Get and Set"
   ]
  },
  {
   "cell_type": "code",
   "execution_count": 2,
   "id": "9519c4bb",
   "metadata": {
    "execution": {
     "iopub.execute_input": "2023-02-26T15:16:03.821096Z",
     "iopub.status.busy": "2023-02-26T15:16:03.820607Z",
     "iopub.status.idle": "2023-02-26T15:16:03.853098Z",
     "shell.execute_reply": "2023-02-26T15:16:03.852527Z"
    }
   },
   "outputs": [],
   "source": [
    "from treevalue import FastTreeValue\n",
    "\n",
    "t = FastTreeValue(_TREE_DATA_2)"
   ]
  },
  {
   "cell_type": "code",
   "execution_count": 3,
   "id": "11c37677",
   "metadata": {
    "execution": {
     "iopub.execute_input": "2023-02-26T15:16:03.855859Z",
     "iopub.status.busy": "2023-02-26T15:16:03.855338Z",
     "iopub.status.idle": "2023-02-26T15:16:03.863480Z",
     "shell.execute_reply": "2023-02-26T15:16:03.862816Z"
    }
   },
   "outputs": [
    {
     "data": {
      "text/plain": [
       "<FastTreeValue 0x7ff6b45a23d0>\n",
       "├── 'a' --> tensor([[ 1.4264, -0.3906, -0.7825],\n",
       "│                   [-0.4324,  1.2545,  1.2197]])\n",
       "└── 'x' --> <FastTreeValue 0x7ff6b45a2670>\n",
       "    └── 'c' --> tensor([[-0.3817,  0.4550, -0.1760, -0.6889],\n",
       "                        [ 0.3615,  0.1771,  0.7097, -0.6870],\n",
       "                        [-0.0628,  0.2529,  1.5790,  1.9756]])"
      ]
     },
     "execution_count": 3,
     "metadata": {},
     "output_type": "execute_result"
    }
   ],
   "source": [
    "t"
   ]
  },
  {
   "cell_type": "code",
   "execution_count": 4,
   "id": "fd70b0b9",
   "metadata": {
    "execution": {
     "iopub.execute_input": "2023-02-26T15:16:03.865929Z",
     "iopub.status.busy": "2023-02-26T15:16:03.865598Z",
     "iopub.status.idle": "2023-02-26T15:16:03.870127Z",
     "shell.execute_reply": "2023-02-26T15:16:03.869511Z"
    }
   },
   "outputs": [
    {
     "data": {
      "text/plain": [
       "tensor([[ 1.4264, -0.3906, -0.7825],\n",
       "        [-0.4324,  1.2545,  1.2197]])"
      ]
     },
     "execution_count": 4,
     "metadata": {},
     "output_type": "execute_result"
    }
   ],
   "source": [
    "t.a"
   ]
  },
  {
   "cell_type": "code",
   "execution_count": 5,
   "id": "c18197bd",
   "metadata": {
    "execution": {
     "iopub.execute_input": "2023-02-26T15:16:03.872480Z",
     "iopub.status.busy": "2023-02-26T15:16:03.872157Z",
     "iopub.status.idle": "2023-02-26T15:16:08.714634Z",
     "shell.execute_reply": "2023-02-26T15:16:08.713881Z"
    }
   },
   "outputs": [
    {
     "name": "stdout",
     "output_type": "stream",
     "text": [
      "59.7 ns ± 0.0833 ns per loop (mean ± std. dev. of 7 runs, 10,000,000 loops each)\n"
     ]
    }
   ],
   "source": [
    "%timeit t.a"
   ]
  },
  {
   "cell_type": "code",
   "execution_count": 6,
   "id": "bd52f867",
   "metadata": {
    "execution": {
     "iopub.execute_input": "2023-02-26T15:16:08.717747Z",
     "iopub.status.busy": "2023-02-26T15:16:08.717292Z",
     "iopub.status.idle": "2023-02-26T15:16:08.723833Z",
     "shell.execute_reply": "2023-02-26T15:16:08.723250Z"
    }
   },
   "outputs": [
    {
     "data": {
      "text/plain": [
       "<FastTreeValue 0x7ff6b45a23d0>\n",
       "├── 'a' --> tensor([[ 2.1754,  0.7958,  0.2325],\n",
       "│                   [ 1.7422, -0.8706,  1.4803]])\n",
       "└── 'x' --> <FastTreeValue 0x7ff6b45a2670>\n",
       "    └── 'c' --> tensor([[-0.3817,  0.4550, -0.1760, -0.6889],\n",
       "                        [ 0.3615,  0.1771,  0.7097, -0.6870],\n",
       "                        [-0.0628,  0.2529,  1.5790,  1.9756]])"
      ]
     },
     "execution_count": 6,
     "metadata": {},
     "output_type": "execute_result"
    }
   ],
   "source": [
    "new_value = torch.randn(2, 3)\n",
    "t.a = new_value\n",
    "\n",
    "t"
   ]
  },
  {
   "cell_type": "code",
   "execution_count": 7,
   "id": "bbe04d1c",
   "metadata": {
    "execution": {
     "iopub.execute_input": "2023-02-26T15:16:08.726438Z",
     "iopub.status.busy": "2023-02-26T15:16:08.726104Z",
     "iopub.status.idle": "2023-02-26T15:16:13.399897Z",
     "shell.execute_reply": "2023-02-26T15:16:13.399121Z"
    }
   },
   "outputs": [
    {
     "name": "stdout",
     "output_type": "stream",
     "text": [
      "57.6 ns ± 0.0315 ns per loop (mean ± std. dev. of 7 runs, 10,000,000 loops each)\n"
     ]
    }
   ],
   "source": [
    "%timeit t.a = new_value"
   ]
  },
  {
   "cell_type": "markdown",
   "id": "48c49731",
   "metadata": {},
   "source": [
    "### Tianshou Batch's Get and Set"
   ]
  },
  {
   "cell_type": "code",
   "execution_count": 8,
   "id": "f1bb14c1",
   "metadata": {
    "execution": {
     "iopub.execute_input": "2023-02-26T15:16:13.402759Z",
     "iopub.status.busy": "2023-02-26T15:16:13.402413Z",
     "iopub.status.idle": "2023-02-26T15:16:13.733207Z",
     "shell.execute_reply": "2023-02-26T15:16:13.732557Z"
    }
   },
   "outputs": [],
   "source": [
    "from tianshou.data import Batch\n",
    "\n",
    "b = Batch(**_TREE_DATA_2)"
   ]
  },
  {
   "cell_type": "code",
   "execution_count": 9,
   "id": "cb0777c3",
   "metadata": {
    "execution": {
     "iopub.execute_input": "2023-02-26T15:16:13.736553Z",
     "iopub.status.busy": "2023-02-26T15:16:13.736005Z",
     "iopub.status.idle": "2023-02-26T15:16:13.741376Z",
     "shell.execute_reply": "2023-02-26T15:16:13.740756Z"
    }
   },
   "outputs": [
    {
     "data": {
      "text/plain": [
       "Batch(\n",
       "    a: tensor([[ 1.4264, -0.3906, -0.7825],\n",
       "               [-0.4324,  1.2545,  1.2197]]),\n",
       "    x: Batch(\n",
       "           c: tensor([[-0.3817,  0.4550, -0.1760, -0.6889],\n",
       "                      [ 0.3615,  0.1771,  0.7097, -0.6870],\n",
       "                      [-0.0628,  0.2529,  1.5790,  1.9756]]),\n",
       "       ),\n",
       ")"
      ]
     },
     "execution_count": 9,
     "metadata": {},
     "output_type": "execute_result"
    }
   ],
   "source": [
    "b"
   ]
  },
  {
   "cell_type": "code",
   "execution_count": 10,
   "id": "43ef8ea3",
   "metadata": {
    "execution": {
     "iopub.execute_input": "2023-02-26T15:16:13.743928Z",
     "iopub.status.busy": "2023-02-26T15:16:13.743605Z",
     "iopub.status.idle": "2023-02-26T15:16:13.749102Z",
     "shell.execute_reply": "2023-02-26T15:16:13.748545Z"
    }
   },
   "outputs": [
    {
     "data": {
      "text/plain": [
       "tensor([[ 1.4264, -0.3906, -0.7825],\n",
       "        [-0.4324,  1.2545,  1.2197]])"
      ]
     },
     "execution_count": 10,
     "metadata": {},
     "output_type": "execute_result"
    }
   ],
   "source": [
    "b.a"
   ]
  },
  {
   "cell_type": "code",
   "execution_count": 11,
   "id": "b785ab72",
   "metadata": {
    "execution": {
     "iopub.execute_input": "2023-02-26T15:16:13.751670Z",
     "iopub.status.busy": "2023-02-26T15:16:13.751112Z",
     "iopub.status.idle": "2023-02-26T15:16:18.449207Z",
     "shell.execute_reply": "2023-02-26T15:16:18.448462Z"
    }
   },
   "outputs": [
    {
     "name": "stdout",
     "output_type": "stream",
     "text": [
      "58.5 ns ± 0.0541 ns per loop (mean ± std. dev. of 7 runs, 10,000,000 loops each)\n"
     ]
    }
   ],
   "source": [
    "%timeit b.a"
   ]
  },
  {
   "cell_type": "code",
   "execution_count": 12,
   "id": "ad54dc69",
   "metadata": {
    "execution": {
     "iopub.execute_input": "2023-02-26T15:16:18.452286Z",
     "iopub.status.busy": "2023-02-26T15:16:18.451611Z",
     "iopub.status.idle": "2023-02-26T15:16:18.458359Z",
     "shell.execute_reply": "2023-02-26T15:16:18.457732Z"
    }
   },
   "outputs": [
    {
     "data": {
      "text/plain": [
       "Batch(\n",
       "    a: tensor([[-1.1469, -0.1717, -0.3282],\n",
       "               [-0.9413, -1.1595, -1.4400]]),\n",
       "    x: Batch(\n",
       "           c: tensor([[-0.3817,  0.4550, -0.1760, -0.6889],\n",
       "                      [ 0.3615,  0.1771,  0.7097, -0.6870],\n",
       "                      [-0.0628,  0.2529,  1.5790,  1.9756]]),\n",
       "       ),\n",
       ")"
      ]
     },
     "execution_count": 12,
     "metadata": {},
     "output_type": "execute_result"
    }
   ],
   "source": [
    "new_value = torch.randn(2, 3)\n",
    "b.a = new_value\n",
    "\n",
    "b"
   ]
  },
  {
   "cell_type": "code",
   "execution_count": 13,
   "id": "29b1d0bf",
   "metadata": {
    "execution": {
     "iopub.execute_input": "2023-02-26T15:16:18.461388Z",
     "iopub.status.busy": "2023-02-26T15:16:18.460934Z",
     "iopub.status.idle": "2023-02-26T15:16:22.360996Z",
     "shell.execute_reply": "2023-02-26T15:16:22.360292Z"
    }
   },
   "outputs": [
    {
     "name": "stdout",
     "output_type": "stream",
     "text": [
      "480 ns ± 0.144 ns per loop (mean ± std. dev. of 7 runs, 1,000,000 loops each)\n"
     ]
    }
   ],
   "source": [
    "%timeit b.a = new_value"
   ]
  },
  {
   "cell_type": "markdown",
   "id": "b61ad1d0",
   "metadata": {},
   "source": [
    "## Initialization"
   ]
  },
  {
   "cell_type": "markdown",
   "id": "d70f0d54",
   "metadata": {},
   "source": [
    "### TreeValue's Initialization"
   ]
  },
  {
   "cell_type": "code",
   "execution_count": 14,
   "id": "d32a679b",
   "metadata": {
    "execution": {
     "iopub.execute_input": "2023-02-26T15:16:22.364133Z",
     "iopub.status.busy": "2023-02-26T15:16:22.363773Z",
     "iopub.status.idle": "2023-02-26T15:16:29.158123Z",
     "shell.execute_reply": "2023-02-26T15:16:29.157316Z"
    }
   },
   "outputs": [
    {
     "name": "stdout",
     "output_type": "stream",
     "text": [
      "837 ns ± 2.12 ns per loop (mean ± std. dev. of 7 runs, 1,000,000 loops each)\n"
     ]
    }
   ],
   "source": [
    "%timeit FastTreeValue(_TREE_DATA_1)"
   ]
  },
  {
   "cell_type": "markdown",
   "id": "24f3707b",
   "metadata": {},
   "source": [
    "### Tianshou Batch's Initialization"
   ]
  },
  {
   "cell_type": "code",
   "execution_count": 15,
   "id": "ac3958df",
   "metadata": {
    "execution": {
     "iopub.execute_input": "2023-02-26T15:16:29.161115Z",
     "iopub.status.busy": "2023-02-26T15:16:29.160594Z",
     "iopub.status.idle": "2023-02-26T15:16:38.325439Z",
     "shell.execute_reply": "2023-02-26T15:16:38.324685Z"
    }
   },
   "outputs": [
    {
     "name": "stdout",
     "output_type": "stream",
     "text": [
      "11.3 µs ± 30.7 ns per loop (mean ± std. dev. of 7 runs, 100,000 loops each)\n"
     ]
    }
   ],
   "source": [
    "%timeit Batch(**_TREE_DATA_1)"
   ]
  },
  {
   "cell_type": "markdown",
   "id": "1ab82e2d",
   "metadata": {},
   "source": [
    "## Deep Copy Operation"
   ]
  },
  {
   "cell_type": "code",
   "execution_count": 16,
   "id": "210a9442",
   "metadata": {
    "execution": {
     "iopub.execute_input": "2023-02-26T15:16:38.328547Z",
     "iopub.status.busy": "2023-02-26T15:16:38.328187Z",
     "iopub.status.idle": "2023-02-26T15:16:38.332063Z",
     "shell.execute_reply": "2023-02-26T15:16:38.331470Z"
    }
   },
   "outputs": [],
   "source": [
    "import copy"
   ]
  },
  {
   "cell_type": "markdown",
   "id": "5a736274",
   "metadata": {},
   "source": [
    "### Deep Copy of TreeValue"
   ]
  },
  {
   "cell_type": "code",
   "execution_count": 17,
   "id": "f9bcadd6",
   "metadata": {
    "execution": {
     "iopub.execute_input": "2023-02-26T15:16:38.334977Z",
     "iopub.status.busy": "2023-02-26T15:16:38.334470Z",
     "iopub.status.idle": "2023-02-26T15:16:49.604663Z",
     "shell.execute_reply": "2023-02-26T15:16:49.604105Z"
    }
   },
   "outputs": [
    {
     "name": "stdout",
     "output_type": "stream",
     "text": [
      "139 µs ± 616 ns per loop (mean ± std. dev. of 7 runs, 10,000 loops each)\n"
     ]
    }
   ],
   "source": [
    "t3 = FastTreeValue(_TREE_DATA_3)\n",
    "%timeit copy.deepcopy(t3)"
   ]
  },
  {
   "cell_type": "markdown",
   "id": "bf8be7ea",
   "metadata": {},
   "source": [
    "### Deep Copy of Tianshou Batch"
   ]
  },
  {
   "cell_type": "code",
   "execution_count": 18,
   "id": "91998e6f",
   "metadata": {
    "execution": {
     "iopub.execute_input": "2023-02-26T15:16:49.607870Z",
     "iopub.status.busy": "2023-02-26T15:16:49.606917Z",
     "iopub.status.idle": "2023-02-26T15:17:01.018324Z",
     "shell.execute_reply": "2023-02-26T15:17:01.017738Z"
    }
   },
   "outputs": [
    {
     "name": "stdout",
     "output_type": "stream",
     "text": [
      "141 µs ± 452 ns per loop (mean ± std. dev. of 7 runs, 10,000 loops each)\n"
     ]
    }
   ],
   "source": [
    "b3 = Batch(**_TREE_DATA_3)\n",
    "%timeit copy.deepcopy(b3)"
   ]
  },
  {
   "cell_type": "markdown",
   "id": "223162fb",
   "metadata": {},
   "source": [
    "## Stack, Concat and Split Operation"
   ]
  },
  {
   "cell_type": "markdown",
   "id": "85fa4a73",
   "metadata": {},
   "source": [
    "### Performance of TreeValue"
   ]
  },
  {
   "cell_type": "code",
   "execution_count": 19,
   "id": "a0c2b697",
   "metadata": {
    "execution": {
     "iopub.execute_input": "2023-02-26T15:17:01.022085Z",
     "iopub.status.busy": "2023-02-26T15:17:01.021183Z",
     "iopub.status.idle": "2023-02-26T15:17:01.025339Z",
     "shell.execute_reply": "2023-02-26T15:17:01.024822Z"
    }
   },
   "outputs": [],
   "source": [
    "trees = [FastTreeValue(_TREE_DATA_2) for _ in range(8)]"
   ]
  },
  {
   "cell_type": "code",
   "execution_count": 20,
   "id": "017ea5a5",
   "metadata": {
    "execution": {
     "iopub.execute_input": "2023-02-26T15:17:01.028304Z",
     "iopub.status.busy": "2023-02-26T15:17:01.027714Z",
     "iopub.status.idle": "2023-02-26T15:17:01.036647Z",
     "shell.execute_reply": "2023-02-26T15:17:01.036033Z"
    }
   },
   "outputs": [
    {
     "data": {
      "text/plain": [
       "<FastTreeValue 0x7ff60783bb80>\n",
       "├── 'a' --> tensor([[[ 1.4264, -0.3906, -0.7825],\n",
       "│                    [-0.4324,  1.2545,  1.2197]],\n",
       "│           \n",
       "│                   [[ 1.4264, -0.3906, -0.7825],\n",
       "│                    [-0.4324,  1.2545,  1.2197]],\n",
       "│           \n",
       "│                   [[ 1.4264, -0.3906, -0.7825],\n",
       "│                    [-0.4324,  1.2545,  1.2197]],\n",
       "│           \n",
       "│                   [[ 1.4264, -0.3906, -0.7825],\n",
       "│                    [-0.4324,  1.2545,  1.2197]],\n",
       "│           \n",
       "│                   [[ 1.4264, -0.3906, -0.7825],\n",
       "│                    [-0.4324,  1.2545,  1.2197]],\n",
       "│           \n",
       "│                   [[ 1.4264, -0.3906, -0.7825],\n",
       "│                    [-0.4324,  1.2545,  1.2197]],\n",
       "│           \n",
       "│                   [[ 1.4264, -0.3906, -0.7825],\n",
       "│                    [-0.4324,  1.2545,  1.2197]],\n",
       "│           \n",
       "│                   [[ 1.4264, -0.3906, -0.7825],\n",
       "│                    [-0.4324,  1.2545,  1.2197]]])\n",
       "└── 'x' --> <FastTreeValue 0x7ff688a39160>\n",
       "    └── 'c' --> tensor([[[-0.3817,  0.4550, -0.1760, -0.6889],\n",
       "                         [ 0.3615,  0.1771,  0.7097, -0.6870],\n",
       "                         [-0.0628,  0.2529,  1.5790,  1.9756]],\n",
       "                \n",
       "                        [[-0.3817,  0.4550, -0.1760, -0.6889],\n",
       "                         [ 0.3615,  0.1771,  0.7097, -0.6870],\n",
       "                         [-0.0628,  0.2529,  1.5790,  1.9756]],\n",
       "                \n",
       "                        [[-0.3817,  0.4550, -0.1760, -0.6889],\n",
       "                         [ 0.3615,  0.1771,  0.7097, -0.6870],\n",
       "                         [-0.0628,  0.2529,  1.5790,  1.9756]],\n",
       "                \n",
       "                        [[-0.3817,  0.4550, -0.1760, -0.6889],\n",
       "                         [ 0.3615,  0.1771,  0.7097, -0.6870],\n",
       "                         [-0.0628,  0.2529,  1.5790,  1.9756]],\n",
       "                \n",
       "                        [[-0.3817,  0.4550, -0.1760, -0.6889],\n",
       "                         [ 0.3615,  0.1771,  0.7097, -0.6870],\n",
       "                         [-0.0628,  0.2529,  1.5790,  1.9756]],\n",
       "                \n",
       "                        [[-0.3817,  0.4550, -0.1760, -0.6889],\n",
       "                         [ 0.3615,  0.1771,  0.7097, -0.6870],\n",
       "                         [-0.0628,  0.2529,  1.5790,  1.9756]],\n",
       "                \n",
       "                        [[-0.3817,  0.4550, -0.1760, -0.6889],\n",
       "                         [ 0.3615,  0.1771,  0.7097, -0.6870],\n",
       "                         [-0.0628,  0.2529,  1.5790,  1.9756]],\n",
       "                \n",
       "                        [[-0.3817,  0.4550, -0.1760, -0.6889],\n",
       "                         [ 0.3615,  0.1771,  0.7097, -0.6870],\n",
       "                         [-0.0628,  0.2529,  1.5790,  1.9756]]])"
      ]
     },
     "execution_count": 20,
     "metadata": {},
     "output_type": "execute_result"
    }
   ],
   "source": [
    "t_stack = FastTreeValue.func(subside=True)(torch.stack)\n",
    "\n",
    "t_stack(trees)"
   ]
  },
  {
   "cell_type": "code",
   "execution_count": 21,
   "id": "f8b3f415",
   "metadata": {
    "execution": {
     "iopub.execute_input": "2023-02-26T15:17:01.039408Z",
     "iopub.status.busy": "2023-02-26T15:17:01.039181Z",
     "iopub.status.idle": "2023-02-26T15:17:03.688824Z",
     "shell.execute_reply": "2023-02-26T15:17:03.688084Z"
    }
   },
   "outputs": [
    {
     "name": "stdout",
     "output_type": "stream",
     "text": [
      "32.6 µs ± 120 ns per loop (mean ± std. dev. of 7 runs, 10,000 loops each)\n"
     ]
    }
   ],
   "source": [
    "%timeit t_stack(trees)"
   ]
  },
  {
   "cell_type": "code",
   "execution_count": 22,
   "id": "94b56771",
   "metadata": {
    "execution": {
     "iopub.execute_input": "2023-02-26T15:17:03.692049Z",
     "iopub.status.busy": "2023-02-26T15:17:03.691510Z",
     "iopub.status.idle": "2023-02-26T15:17:03.699695Z",
     "shell.execute_reply": "2023-02-26T15:17:03.699097Z"
    }
   },
   "outputs": [
    {
     "data": {
      "text/plain": [
       "<FastTreeValue 0x7ff6b459ac40>\n",
       "├── 'a' --> tensor([[ 1.4264, -0.3906, -0.7825],\n",
       "│                   [-0.4324,  1.2545,  1.2197],\n",
       "│                   [ 1.4264, -0.3906, -0.7825],\n",
       "│                   [-0.4324,  1.2545,  1.2197],\n",
       "│                   [ 1.4264, -0.3906, -0.7825],\n",
       "│                   [-0.4324,  1.2545,  1.2197],\n",
       "│                   [ 1.4264, -0.3906, -0.7825],\n",
       "│                   [-0.4324,  1.2545,  1.2197],\n",
       "│                   [ 1.4264, -0.3906, -0.7825],\n",
       "│                   [-0.4324,  1.2545,  1.2197],\n",
       "│                   [ 1.4264, -0.3906, -0.7825],\n",
       "│                   [-0.4324,  1.2545,  1.2197],\n",
       "│                   [ 1.4264, -0.3906, -0.7825],\n",
       "│                   [-0.4324,  1.2545,  1.2197],\n",
       "│                   [ 1.4264, -0.3906, -0.7825],\n",
       "│                   [-0.4324,  1.2545,  1.2197]])\n",
       "└── 'x' --> <FastTreeValue 0x7ff6b4595040>\n",
       "    └── 'c' --> tensor([[-0.3817,  0.4550, -0.1760, -0.6889],\n",
       "                        [ 0.3615,  0.1771,  0.7097, -0.6870],\n",
       "                        [-0.0628,  0.2529,  1.5790,  1.9756],\n",
       "                        [-0.3817,  0.4550, -0.1760, -0.6889],\n",
       "                        [ 0.3615,  0.1771,  0.7097, -0.6870],\n",
       "                        [-0.0628,  0.2529,  1.5790,  1.9756],\n",
       "                        [-0.3817,  0.4550, -0.1760, -0.6889],\n",
       "                        [ 0.3615,  0.1771,  0.7097, -0.6870],\n",
       "                        [-0.0628,  0.2529,  1.5790,  1.9756],\n",
       "                        [-0.3817,  0.4550, -0.1760, -0.6889],\n",
       "                        [ 0.3615,  0.1771,  0.7097, -0.6870],\n",
       "                        [-0.0628,  0.2529,  1.5790,  1.9756],\n",
       "                        [-0.3817,  0.4550, -0.1760, -0.6889],\n",
       "                        [ 0.3615,  0.1771,  0.7097, -0.6870],\n",
       "                        [-0.0628,  0.2529,  1.5790,  1.9756],\n",
       "                        [-0.3817,  0.4550, -0.1760, -0.6889],\n",
       "                        [ 0.3615,  0.1771,  0.7097, -0.6870],\n",
       "                        [-0.0628,  0.2529,  1.5790,  1.9756],\n",
       "                        [-0.3817,  0.4550, -0.1760, -0.6889],\n",
       "                        [ 0.3615,  0.1771,  0.7097, -0.6870],\n",
       "                        [-0.0628,  0.2529,  1.5790,  1.9756],\n",
       "                        [-0.3817,  0.4550, -0.1760, -0.6889],\n",
       "                        [ 0.3615,  0.1771,  0.7097, -0.6870],\n",
       "                        [-0.0628,  0.2529,  1.5790,  1.9756]])"
      ]
     },
     "execution_count": 22,
     "metadata": {},
     "output_type": "execute_result"
    }
   ],
   "source": [
    "t_cat = FastTreeValue.func(subside=True)(torch.cat)\n",
    "\n",
    "t_cat(trees)"
   ]
  },
  {
   "cell_type": "code",
   "execution_count": 23,
   "id": "5e9c06a6",
   "metadata": {
    "execution": {
     "iopub.execute_input": "2023-02-26T15:17:03.702415Z",
     "iopub.status.busy": "2023-02-26T15:17:03.702076Z",
     "iopub.status.idle": "2023-02-26T15:17:06.185644Z",
     "shell.execute_reply": "2023-02-26T15:17:06.184968Z"
    }
   },
   "outputs": [
    {
     "name": "stdout",
     "output_type": "stream",
     "text": [
      "30.5 µs ± 63.3 ns per loop (mean ± std. dev. of 7 runs, 10,000 loops each)\n"
     ]
    }
   ],
   "source": [
    "%timeit t_cat(trees)"
   ]
  },
  {
   "cell_type": "code",
   "execution_count": 24,
   "id": "a3ab5c8f",
   "metadata": {
    "execution": {
     "iopub.execute_input": "2023-02-26T15:17:06.188820Z",
     "iopub.status.busy": "2023-02-26T15:17:06.188248Z",
     "iopub.status.idle": "2023-02-26T15:17:10.874870Z",
     "shell.execute_reply": "2023-02-26T15:17:10.874124Z"
    }
   },
   "outputs": [
    {
     "name": "stdout",
     "output_type": "stream",
     "text": [
      "57.6 µs ± 157 ns per loop (mean ± std. dev. of 7 runs, 10,000 loops each)\n"
     ]
    }
   ],
   "source": [
    "t_split = FastTreeValue.func(rise=True)(torch.split)\n",
    "tree = FastTreeValue({\n",
    "    'obs': torch.randn(8, 4, 84, 84),\n",
    "    'action': torch.randint(0, 6, size=(8, 1,)),\n",
    "    'reward': torch.rand(8, 1),\n",
    "})\n",
    "\n",
    "%timeit t_split(tree, 1)"
   ]
  },
  {
   "cell_type": "markdown",
   "id": "31c3ec0b",
   "metadata": {},
   "source": [
    "### Performance of Tianshou Batch"
   ]
  },
  {
   "cell_type": "code",
   "execution_count": 25,
   "id": "9ead828a",
   "metadata": {
    "execution": {
     "iopub.execute_input": "2023-02-26T15:17:10.877650Z",
     "iopub.status.busy": "2023-02-26T15:17:10.877316Z",
     "iopub.status.idle": "2023-02-26T15:17:10.885169Z",
     "shell.execute_reply": "2023-02-26T15:17:10.884571Z"
    }
   },
   "outputs": [
    {
     "data": {
      "text/plain": [
       "Batch(\n",
       "    a: tensor([[[ 1.4264, -0.3906, -0.7825],\n",
       "                [-0.4324,  1.2545,  1.2197]],\n",
       "       \n",
       "               [[ 1.4264, -0.3906, -0.7825],\n",
       "                [-0.4324,  1.2545,  1.2197]],\n",
       "       \n",
       "               [[ 1.4264, -0.3906, -0.7825],\n",
       "                [-0.4324,  1.2545,  1.2197]],\n",
       "       \n",
       "               [[ 1.4264, -0.3906, -0.7825],\n",
       "                [-0.4324,  1.2545,  1.2197]],\n",
       "       \n",
       "               [[ 1.4264, -0.3906, -0.7825],\n",
       "                [-0.4324,  1.2545,  1.2197]],\n",
       "       \n",
       "               [[ 1.4264, -0.3906, -0.7825],\n",
       "                [-0.4324,  1.2545,  1.2197]],\n",
       "       \n",
       "               [[ 1.4264, -0.3906, -0.7825],\n",
       "                [-0.4324,  1.2545,  1.2197]],\n",
       "       \n",
       "               [[ 1.4264, -0.3906, -0.7825],\n",
       "                [-0.4324,  1.2545,  1.2197]]]),\n",
       "    x: Batch(\n",
       "           c: tensor([[[-0.3817,  0.4550, -0.1760, -0.6889],\n",
       "                       [ 0.3615,  0.1771,  0.7097, -0.6870],\n",
       "                       [-0.0628,  0.2529,  1.5790,  1.9756]],\n",
       "              \n",
       "                      [[-0.3817,  0.4550, -0.1760, -0.6889],\n",
       "                       [ 0.3615,  0.1771,  0.7097, -0.6870],\n",
       "                       [-0.0628,  0.2529,  1.5790,  1.9756]],\n",
       "              \n",
       "                      [[-0.3817,  0.4550, -0.1760, -0.6889],\n",
       "                       [ 0.3615,  0.1771,  0.7097, -0.6870],\n",
       "                       [-0.0628,  0.2529,  1.5790,  1.9756]],\n",
       "              \n",
       "                      [[-0.3817,  0.4550, -0.1760, -0.6889],\n",
       "                       [ 0.3615,  0.1771,  0.7097, -0.6870],\n",
       "                       [-0.0628,  0.2529,  1.5790,  1.9756]],\n",
       "              \n",
       "                      [[-0.3817,  0.4550, -0.1760, -0.6889],\n",
       "                       [ 0.3615,  0.1771,  0.7097, -0.6870],\n",
       "                       [-0.0628,  0.2529,  1.5790,  1.9756]],\n",
       "              \n",
       "                      [[-0.3817,  0.4550, -0.1760, -0.6889],\n",
       "                       [ 0.3615,  0.1771,  0.7097, -0.6870],\n",
       "                       [-0.0628,  0.2529,  1.5790,  1.9756]],\n",
       "              \n",
       "                      [[-0.3817,  0.4550, -0.1760, -0.6889],\n",
       "                       [ 0.3615,  0.1771,  0.7097, -0.6870],\n",
       "                       [-0.0628,  0.2529,  1.5790,  1.9756]],\n",
       "              \n",
       "                      [[-0.3817,  0.4550, -0.1760, -0.6889],\n",
       "                       [ 0.3615,  0.1771,  0.7097, -0.6870],\n",
       "                       [-0.0628,  0.2529,  1.5790,  1.9756]]]),\n",
       "       ),\n",
       ")"
      ]
     },
     "execution_count": 25,
     "metadata": {},
     "output_type": "execute_result"
    }
   ],
   "source": [
    "batches = [Batch(**_TREE_DATA_2) for _ in range(8)]\n",
    "\n",
    "Batch.stack(batches)"
   ]
  },
  {
   "cell_type": "code",
   "execution_count": 26,
   "id": "ec9037a3",
   "metadata": {
    "execution": {
     "iopub.execute_input": "2023-02-26T15:17:10.888032Z",
     "iopub.status.busy": "2023-02-26T15:17:10.887691Z",
     "iopub.status.idle": "2023-02-26T15:17:17.301499Z",
     "shell.execute_reply": "2023-02-26T15:17:17.300759Z"
    }
   },
   "outputs": [
    {
     "name": "stdout",
     "output_type": "stream",
     "text": [
      "79 µs ± 159 ns per loop (mean ± std. dev. of 7 runs, 10,000 loops each)\n"
     ]
    }
   ],
   "source": [
    "%timeit Batch.stack(batches)"
   ]
  },
  {
   "cell_type": "code",
   "execution_count": 27,
   "id": "cb8ab77e",
   "metadata": {
    "execution": {
     "iopub.execute_input": "2023-02-26T15:17:17.304415Z",
     "iopub.status.busy": "2023-02-26T15:17:17.303866Z",
     "iopub.status.idle": "2023-02-26T15:17:17.311633Z",
     "shell.execute_reply": "2023-02-26T15:17:17.311028Z"
    }
   },
   "outputs": [
    {
     "data": {
      "text/plain": [
       "Batch(\n",
       "    a: tensor([[ 1.4264, -0.3906, -0.7825],\n",
       "               [-0.4324,  1.2545,  1.2197],\n",
       "               [ 1.4264, -0.3906, -0.7825],\n",
       "               [-0.4324,  1.2545,  1.2197],\n",
       "               [ 1.4264, -0.3906, -0.7825],\n",
       "               [-0.4324,  1.2545,  1.2197],\n",
       "               [ 1.4264, -0.3906, -0.7825],\n",
       "               [-0.4324,  1.2545,  1.2197],\n",
       "               [ 1.4264, -0.3906, -0.7825],\n",
       "               [-0.4324,  1.2545,  1.2197],\n",
       "               [ 1.4264, -0.3906, -0.7825],\n",
       "               [-0.4324,  1.2545,  1.2197],\n",
       "               [ 1.4264, -0.3906, -0.7825],\n",
       "               [-0.4324,  1.2545,  1.2197],\n",
       "               [ 1.4264, -0.3906, -0.7825],\n",
       "               [-0.4324,  1.2545,  1.2197]]),\n",
       "    x: Batch(\n",
       "           c: tensor([[-0.3817,  0.4550, -0.1760, -0.6889],\n",
       "                      [ 0.3615,  0.1771,  0.7097, -0.6870],\n",
       "                      [-0.0628,  0.2529,  1.5790,  1.9756],\n",
       "                      [-0.3817,  0.4550, -0.1760, -0.6889],\n",
       "                      [ 0.3615,  0.1771,  0.7097, -0.6870],\n",
       "                      [-0.0628,  0.2529,  1.5790,  1.9756],\n",
       "                      [-0.3817,  0.4550, -0.1760, -0.6889],\n",
       "                      [ 0.3615,  0.1771,  0.7097, -0.6870],\n",
       "                      [-0.0628,  0.2529,  1.5790,  1.9756],\n",
       "                      [-0.3817,  0.4550, -0.1760, -0.6889],\n",
       "                      [ 0.3615,  0.1771,  0.7097, -0.6870],\n",
       "                      [-0.0628,  0.2529,  1.5790,  1.9756],\n",
       "                      [-0.3817,  0.4550, -0.1760, -0.6889],\n",
       "                      [ 0.3615,  0.1771,  0.7097, -0.6870],\n",
       "                      [-0.0628,  0.2529,  1.5790,  1.9756],\n",
       "                      [-0.3817,  0.4550, -0.1760, -0.6889],\n",
       "                      [ 0.3615,  0.1771,  0.7097, -0.6870],\n",
       "                      [-0.0628,  0.2529,  1.5790,  1.9756],\n",
       "                      [-0.3817,  0.4550, -0.1760, -0.6889],\n",
       "                      [ 0.3615,  0.1771,  0.7097, -0.6870],\n",
       "                      [-0.0628,  0.2529,  1.5790,  1.9756],\n",
       "                      [-0.3817,  0.4550, -0.1760, -0.6889],\n",
       "                      [ 0.3615,  0.1771,  0.7097, -0.6870],\n",
       "                      [-0.0628,  0.2529,  1.5790,  1.9756]]),\n",
       "       ),\n",
       ")"
      ]
     },
     "execution_count": 27,
     "metadata": {},
     "output_type": "execute_result"
    }
   ],
   "source": [
    "Batch.cat(batches)"
   ]
  },
  {
   "cell_type": "code",
   "execution_count": 28,
   "id": "18dfb045",
   "metadata": {
    "execution": {
     "iopub.execute_input": "2023-02-26T15:17:17.314177Z",
     "iopub.status.busy": "2023-02-26T15:17:17.313844Z",
     "iopub.status.idle": "2023-02-26T15:17:29.173861Z",
     "shell.execute_reply": "2023-02-26T15:17:29.173197Z"
    }
   },
   "outputs": [
    {
     "name": "stdout",
     "output_type": "stream",
     "text": [
      "146 µs ± 343 ns per loop (mean ± std. dev. of 7 runs, 10,000 loops each)\n"
     ]
    }
   ],
   "source": [
    "%timeit Batch.cat(batches)"
   ]
  },
  {
   "cell_type": "code",
   "execution_count": 29,
   "id": "c6688e51",
   "metadata": {
    "execution": {
     "iopub.execute_input": "2023-02-26T15:17:29.177001Z",
     "iopub.status.busy": "2023-02-26T15:17:29.176643Z",
     "iopub.status.idle": "2023-02-26T15:17:31.775674Z",
     "shell.execute_reply": "2023-02-26T15:17:31.775044Z"
    }
   },
   "outputs": [
    {
     "name": "stdout",
     "output_type": "stream",
     "text": [
      "319 µs ± 1.56 µs per loop (mean ± std. dev. of 7 runs, 1,000 loops each)\n"
     ]
    }
   ],
   "source": [
    "batch = Batch({\n",
    "    'obs': torch.randn(8, 4, 84, 84),\n",
    "    'action': torch.randint(0, 6, size=(8, 1,)),\n",
    "    'reward': torch.rand(8, 1)}\n",
    ")\n",
    "\n",
    "%timeit list(Batch.split(batch, 1, shuffle=False, merge_last=True))"
   ]
  },
  {
   "cell_type": "code",
   "execution_count": null,
   "id": "2539fbd9",
   "metadata": {},
   "outputs": [],
   "source": []
  }
 ],
 "metadata": {
  "kernelspec": {
   "display_name": "Python 3 (ipykernel)",
   "language": "python",
   "name": "python3"
  },
  "language_info": {
   "codemirror_mode": {
    "name": "ipython",
    "version": 3
   },
   "file_extension": ".py",
   "mimetype": "text/x-python",
   "name": "python",
   "nbconvert_exporter": "python",
   "pygments_lexer": "ipython3",
   "version": "3.8.16"
  }
 },
 "nbformat": 4,
 "nbformat_minor": 5
}
