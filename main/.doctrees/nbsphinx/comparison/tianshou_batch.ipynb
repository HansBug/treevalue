{
 "cells": [
  {
   "cell_type": "markdown",
   "id": "9d39d946",
   "metadata": {},
   "source": [
    "# Comparison Between TreeValue and Tianshou Batch"
   ]
  },
  {
   "cell_type": "markdown",
   "id": "3c6db2d4",
   "metadata": {},
   "source": [
    "In this section, we will take a look at the feature and performance of the [Tianshou Batch](https://github.com/thu-ml/tianshou) library, which is developed by Tsinghua Machine Learning Group."
   ]
  },
  {
   "cell_type": "markdown",
   "id": "069361b0",
   "metadata": {},
   "source": [
    "Before starting the comparison, let us define some thing."
   ]
  },
  {
   "cell_type": "code",
   "execution_count": 1,
   "id": "06fc8d26",
   "metadata": {
    "execution": {
     "iopub.execute_input": "2023-01-19T17:26:48.784838Z",
     "iopub.status.busy": "2023-01-19T17:26:48.784275Z",
     "iopub.status.idle": "2023-01-19T17:26:49.708687Z",
     "shell.execute_reply": "2023-01-19T17:26:49.708014Z"
    }
   },
   "outputs": [
    {
     "name": "stderr",
     "output_type": "stream",
     "text": [
      "/opt/hostedtoolcache/Python/3.8.16/x64/lib/python3.8/site-packages/tqdm/auto.py:22: TqdmWarning: IProgress not found. Please update jupyter and ipywidgets. See https://ipywidgets.readthedocs.io/en/stable/user_install.html\n",
      "  from .autonotebook import tqdm as notebook_tqdm\n"
     ]
    }
   ],
   "source": [
    "import torch \n",
    "\n",
    "_TREE_DATA_1 = {'a': 1, 'b': 2, 'x': {'c': 3, 'd': 4}}\n",
    "_TREE_DATA_2 = {\n",
    "    'a': torch.randn(2, 3), \n",
    "    'x': {\n",
    "        'c': torch.randn(3, 4)\n",
    "    },\n",
    "}\n",
    "_TREE_DATA_3 = {\n",
    "    'obs': torch.randn(4, 84, 84),\n",
    "    'action': torch.randint(0, 6, size=(1,)),\n",
    "    'reward': torch.rand(1),\n",
    "}"
   ]
  },
  {
   "cell_type": "markdown",
   "id": "83461b25",
   "metadata": {},
   "source": [
    "## Read and Write Operation"
   ]
  },
  {
   "cell_type": "markdown",
   "id": "067b3f73",
   "metadata": {},
   "source": [
    "Reading and writing are the two most common operations in the tree data structure based on the data model (TreeValue and Tianshou Batch both belong to this type), so this section will compare the reading and writing performance of these two libraries."
   ]
  },
  {
   "cell_type": "markdown",
   "id": "5d09a5b7",
   "metadata": {},
   "source": [
    "### TreeValue's Get and Set"
   ]
  },
  {
   "cell_type": "code",
   "execution_count": 2,
   "id": "9519c4bb",
   "metadata": {
    "execution": {
     "iopub.execute_input": "2023-01-19T17:26:49.712930Z",
     "iopub.status.busy": "2023-01-19T17:26:49.712327Z",
     "iopub.status.idle": "2023-01-19T17:26:49.745083Z",
     "shell.execute_reply": "2023-01-19T17:26:49.744455Z"
    }
   },
   "outputs": [],
   "source": [
    "from treevalue import FastTreeValue\n",
    "\n",
    "t = FastTreeValue(_TREE_DATA_2)"
   ]
  },
  {
   "cell_type": "code",
   "execution_count": 3,
   "id": "11c37677",
   "metadata": {
    "execution": {
     "iopub.execute_input": "2023-01-19T17:26:49.748198Z",
     "iopub.status.busy": "2023-01-19T17:26:49.747756Z",
     "iopub.status.idle": "2023-01-19T17:26:49.756584Z",
     "shell.execute_reply": "2023-01-19T17:26:49.755895Z"
    }
   },
   "outputs": [
    {
     "data": {
      "text/plain": [
       "<FastTreeValue 0x7fd6385e9bb0>\n",
       "├── 'a' --> tensor([[ 0.8698, -1.1469, -0.5422],\n",
       "│                   [-0.4405, -0.5759,  2.5385]])\n",
       "└── 'x' --> <FastTreeValue 0x7fd6385e9d30>\n",
       "    └── 'c' --> tensor([[-1.9124,  3.0756,  0.1887,  0.1893],\n",
       "                        [ 1.3464, -0.8070,  0.3804, -0.2231],\n",
       "                        [ 0.9050,  0.6029,  0.0937,  0.2743]])"
      ]
     },
     "execution_count": 3,
     "metadata": {},
     "output_type": "execute_result"
    }
   ],
   "source": [
    "t"
   ]
  },
  {
   "cell_type": "code",
   "execution_count": 4,
   "id": "fd70b0b9",
   "metadata": {
    "execution": {
     "iopub.execute_input": "2023-01-19T17:26:49.759535Z",
     "iopub.status.busy": "2023-01-19T17:26:49.759318Z",
     "iopub.status.idle": "2023-01-19T17:26:49.763887Z",
     "shell.execute_reply": "2023-01-19T17:26:49.763260Z"
    }
   },
   "outputs": [
    {
     "data": {
      "text/plain": [
       "tensor([[ 0.8698, -1.1469, -0.5422],\n",
       "        [-0.4405, -0.5759,  2.5385]])"
      ]
     },
     "execution_count": 4,
     "metadata": {},
     "output_type": "execute_result"
    }
   ],
   "source": [
    "t.a"
   ]
  },
  {
   "cell_type": "code",
   "execution_count": 5,
   "id": "c18197bd",
   "metadata": {
    "execution": {
     "iopub.execute_input": "2023-01-19T17:26:49.766714Z",
     "iopub.status.busy": "2023-01-19T17:26:49.766493Z",
     "iopub.status.idle": "2023-01-19T17:26:54.855262Z",
     "shell.execute_reply": "2023-01-19T17:26:54.854255Z"
    }
   },
   "outputs": [
    {
     "name": "stdout",
     "output_type": "stream",
     "text": [
      "63.2 ns ± 0.0165 ns per loop (mean ± std. dev. of 7 runs, 10,000,000 loops each)\n"
     ]
    }
   ],
   "source": [
    "%timeit t.a"
   ]
  },
  {
   "cell_type": "code",
   "execution_count": 6,
   "id": "bd52f867",
   "metadata": {
    "execution": {
     "iopub.execute_input": "2023-01-19T17:26:54.858286Z",
     "iopub.status.busy": "2023-01-19T17:26:54.858062Z",
     "iopub.status.idle": "2023-01-19T17:26:54.863779Z",
     "shell.execute_reply": "2023-01-19T17:26:54.863129Z"
    }
   },
   "outputs": [
    {
     "data": {
      "text/plain": [
       "<FastTreeValue 0x7fd6385e9bb0>\n",
       "├── 'a' --> tensor([[-0.3615,  0.7360,  1.0103],\n",
       "│                   [-0.1178, -0.3833,  0.4855]])\n",
       "└── 'x' --> <FastTreeValue 0x7fd6385e9d30>\n",
       "    └── 'c' --> tensor([[-1.9124,  3.0756,  0.1887,  0.1893],\n",
       "                        [ 1.3464, -0.8070,  0.3804, -0.2231],\n",
       "                        [ 0.9050,  0.6029,  0.0937,  0.2743]])"
      ]
     },
     "execution_count": 6,
     "metadata": {},
     "output_type": "execute_result"
    }
   ],
   "source": [
    "new_value = torch.randn(2, 3)\n",
    "t.a = new_value\n",
    "\n",
    "t"
   ]
  },
  {
   "cell_type": "code",
   "execution_count": 7,
   "id": "bbe04d1c",
   "metadata": {
    "execution": {
     "iopub.execute_input": "2023-01-19T17:26:54.866472Z",
     "iopub.status.busy": "2023-01-19T17:26:54.866264Z",
     "iopub.status.idle": "2023-01-19T17:27:00.014410Z",
     "shell.execute_reply": "2023-01-19T17:27:00.013358Z"
    }
   },
   "outputs": [
    {
     "name": "stdout",
     "output_type": "stream",
     "text": [
      "63.8 ns ± 0.0129 ns per loop (mean ± std. dev. of 7 runs, 10,000,000 loops each)\n"
     ]
    }
   ],
   "source": [
    "%timeit t.a = new_value"
   ]
  },
  {
   "cell_type": "markdown",
   "id": "48c49731",
   "metadata": {},
   "source": [
    "### Tianshou Batch's Get and Set"
   ]
  },
  {
   "cell_type": "code",
   "execution_count": 8,
   "id": "f1bb14c1",
   "metadata": {
    "execution": {
     "iopub.execute_input": "2023-01-19T17:27:00.017767Z",
     "iopub.status.busy": "2023-01-19T17:27:00.017168Z",
     "iopub.status.idle": "2023-01-19T17:27:00.357588Z",
     "shell.execute_reply": "2023-01-19T17:27:00.356912Z"
    }
   },
   "outputs": [],
   "source": [
    "from tianshou.data import Batch\n",
    "\n",
    "b = Batch(**_TREE_DATA_2)"
   ]
  },
  {
   "cell_type": "code",
   "execution_count": 9,
   "id": "cb0777c3",
   "metadata": {
    "execution": {
     "iopub.execute_input": "2023-01-19T17:27:00.361157Z",
     "iopub.status.busy": "2023-01-19T17:27:00.360450Z",
     "iopub.status.idle": "2023-01-19T17:27:00.366023Z",
     "shell.execute_reply": "2023-01-19T17:27:00.365399Z"
    }
   },
   "outputs": [
    {
     "data": {
      "text/plain": [
       "Batch(\n",
       "    a: tensor([[ 0.8698, -1.1469, -0.5422],\n",
       "               [-0.4405, -0.5759,  2.5385]]),\n",
       "    x: Batch(\n",
       "           c: tensor([[-1.9124,  3.0756,  0.1887,  0.1893],\n",
       "                      [ 1.3464, -0.8070,  0.3804, -0.2231],\n",
       "                      [ 0.9050,  0.6029,  0.0937,  0.2743]]),\n",
       "       ),\n",
       ")"
      ]
     },
     "execution_count": 9,
     "metadata": {},
     "output_type": "execute_result"
    }
   ],
   "source": [
    "b"
   ]
  },
  {
   "cell_type": "code",
   "execution_count": 10,
   "id": "43ef8ea3",
   "metadata": {
    "execution": {
     "iopub.execute_input": "2023-01-19T17:27:00.368695Z",
     "iopub.status.busy": "2023-01-19T17:27:00.368469Z",
     "iopub.status.idle": "2023-01-19T17:27:00.373297Z",
     "shell.execute_reply": "2023-01-19T17:27:00.372670Z"
    }
   },
   "outputs": [
    {
     "data": {
      "text/plain": [
       "tensor([[ 0.8698, -1.1469, -0.5422],\n",
       "        [-0.4405, -0.5759,  2.5385]])"
      ]
     },
     "execution_count": 10,
     "metadata": {},
     "output_type": "execute_result"
    }
   ],
   "source": [
    "b.a"
   ]
  },
  {
   "cell_type": "code",
   "execution_count": 11,
   "id": "b785ab72",
   "metadata": {
    "execution": {
     "iopub.execute_input": "2023-01-19T17:27:00.376077Z",
     "iopub.status.busy": "2023-01-19T17:27:00.375864Z",
     "iopub.status.idle": "2023-01-19T17:27:04.524077Z",
     "shell.execute_reply": "2023-01-19T17:27:04.523492Z"
    }
   },
   "outputs": [
    {
     "name": "stdout",
     "output_type": "stream",
     "text": [
      "51 ns ± 0.0497 ns per loop (mean ± std. dev. of 7 runs, 10,000,000 loops each)\n"
     ]
    }
   ],
   "source": [
    "%timeit b.a"
   ]
  },
  {
   "cell_type": "code",
   "execution_count": 12,
   "id": "ad54dc69",
   "metadata": {
    "execution": {
     "iopub.execute_input": "2023-01-19T17:27:04.527054Z",
     "iopub.status.busy": "2023-01-19T17:27:04.526826Z",
     "iopub.status.idle": "2023-01-19T17:27:04.533640Z",
     "shell.execute_reply": "2023-01-19T17:27:04.533032Z"
    }
   },
   "outputs": [
    {
     "data": {
      "text/plain": [
       "Batch(\n",
       "    a: tensor([[-0.2217, -0.9715, -0.6403],\n",
       "               [-1.0826, -0.8373, -0.9864]]),\n",
       "    x: Batch(\n",
       "           c: tensor([[-1.9124,  3.0756,  0.1887,  0.1893],\n",
       "                      [ 1.3464, -0.8070,  0.3804, -0.2231],\n",
       "                      [ 0.9050,  0.6029,  0.0937,  0.2743]]),\n",
       "       ),\n",
       ")"
      ]
     },
     "execution_count": 12,
     "metadata": {},
     "output_type": "execute_result"
    }
   ],
   "source": [
    "new_value = torch.randn(2, 3)\n",
    "b.a = new_value\n",
    "\n",
    "b"
   ]
  },
  {
   "cell_type": "code",
   "execution_count": 13,
   "id": "29b1d0bf",
   "metadata": {
    "execution": {
     "iopub.execute_input": "2023-01-19T17:27:04.536572Z",
     "iopub.status.busy": "2023-01-19T17:27:04.536057Z",
     "iopub.status.idle": "2023-01-19T17:27:08.426829Z",
     "shell.execute_reply": "2023-01-19T17:27:08.426245Z"
    }
   },
   "outputs": [
    {
     "name": "stdout",
     "output_type": "stream",
     "text": [
      "479 ns ± 0.232 ns per loop (mean ± std. dev. of 7 runs, 1,000,000 loops each)\n"
     ]
    }
   ],
   "source": [
    "%timeit b.a = new_value"
   ]
  },
  {
   "cell_type": "markdown",
   "id": "b61ad1d0",
   "metadata": {},
   "source": [
    "## Initialization"
   ]
  },
  {
   "cell_type": "markdown",
   "id": "d70f0d54",
   "metadata": {},
   "source": [
    "### TreeValue's Initialization"
   ]
  },
  {
   "cell_type": "code",
   "execution_count": 14,
   "id": "d32a679b",
   "metadata": {
    "execution": {
     "iopub.execute_input": "2023-01-19T17:27:08.429981Z",
     "iopub.status.busy": "2023-01-19T17:27:08.429758Z",
     "iopub.status.idle": "2023-01-19T17:27:15.752798Z",
     "shell.execute_reply": "2023-01-19T17:27:15.751830Z"
    }
   },
   "outputs": [
    {
     "name": "stdout",
     "output_type": "stream",
     "text": [
      "904 ns ± 12.8 ns per loop (mean ± std. dev. of 7 runs, 1,000,000 loops each)\n"
     ]
    }
   ],
   "source": [
    "%timeit FastTreeValue(_TREE_DATA_1)"
   ]
  },
  {
   "cell_type": "markdown",
   "id": "24f3707b",
   "metadata": {},
   "source": [
    "### Tianshou Batch's Initialization"
   ]
  },
  {
   "cell_type": "code",
   "execution_count": 15,
   "id": "ac3958df",
   "metadata": {
    "execution": {
     "iopub.execute_input": "2023-01-19T17:27:15.756023Z",
     "iopub.status.busy": "2023-01-19T17:27:15.755775Z",
     "iopub.status.idle": "2023-01-19T17:27:24.947778Z",
     "shell.execute_reply": "2023-01-19T17:27:24.947074Z"
    }
   },
   "outputs": [
    {
     "name": "stdout",
     "output_type": "stream",
     "text": [
      "11.3 µs ± 8.64 ns per loop (mean ± std. dev. of 7 runs, 100,000 loops each)\n"
     ]
    }
   ],
   "source": [
    "%timeit Batch(**_TREE_DATA_1)"
   ]
  },
  {
   "cell_type": "markdown",
   "id": "1ab82e2d",
   "metadata": {},
   "source": [
    "## Deep Copy Operation"
   ]
  },
  {
   "cell_type": "code",
   "execution_count": 16,
   "id": "210a9442",
   "metadata": {
    "execution": {
     "iopub.execute_input": "2023-01-19T17:27:24.950886Z",
     "iopub.status.busy": "2023-01-19T17:27:24.950644Z",
     "iopub.status.idle": "2023-01-19T17:27:24.954783Z",
     "shell.execute_reply": "2023-01-19T17:27:24.954185Z"
    }
   },
   "outputs": [],
   "source": [
    "import copy"
   ]
  },
  {
   "cell_type": "markdown",
   "id": "5a736274",
   "metadata": {},
   "source": [
    "### Deep Copy of TreeValue"
   ]
  },
  {
   "cell_type": "code",
   "execution_count": 17,
   "id": "f9bcadd6",
   "metadata": {
    "execution": {
     "iopub.execute_input": "2023-01-19T17:27:24.957364Z",
     "iopub.status.busy": "2023-01-19T17:27:24.957152Z",
     "iopub.status.idle": "2023-01-19T17:27:35.828853Z",
     "shell.execute_reply": "2023-01-19T17:27:35.828080Z"
    }
   },
   "outputs": [
    {
     "name": "stdout",
     "output_type": "stream",
     "text": [
      "134 µs ± 297 ns per loop (mean ± std. dev. of 7 runs, 10,000 loops each)\n"
     ]
    }
   ],
   "source": [
    "t3 = FastTreeValue(_TREE_DATA_3)\n",
    "%timeit copy.deepcopy(t3)"
   ]
  },
  {
   "cell_type": "markdown",
   "id": "bf8be7ea",
   "metadata": {},
   "source": [
    "### Deep Copy of Tianshou Batch"
   ]
  },
  {
   "cell_type": "code",
   "execution_count": 18,
   "id": "91998e6f",
   "metadata": {
    "execution": {
     "iopub.execute_input": "2023-01-19T17:27:35.832464Z",
     "iopub.status.busy": "2023-01-19T17:27:35.831790Z",
     "iopub.status.idle": "2023-01-19T17:27:47.013372Z",
     "shell.execute_reply": "2023-01-19T17:27:47.012786Z"
    }
   },
   "outputs": [
    {
     "name": "stdout",
     "output_type": "stream",
     "text": [
      "138 µs ± 489 ns per loop (mean ± std. dev. of 7 runs, 10,000 loops each)\n"
     ]
    }
   ],
   "source": [
    "b3 = Batch(**_TREE_DATA_3)\n",
    "%timeit copy.deepcopy(b3)"
   ]
  },
  {
   "cell_type": "markdown",
   "id": "223162fb",
   "metadata": {},
   "source": [
    "## Stack, Concat and Split Operation"
   ]
  },
  {
   "cell_type": "markdown",
   "id": "85fa4a73",
   "metadata": {},
   "source": [
    "### Performance of TreeValue"
   ]
  },
  {
   "cell_type": "code",
   "execution_count": 19,
   "id": "a0c2b697",
   "metadata": {
    "execution": {
     "iopub.execute_input": "2023-01-19T17:27:47.017387Z",
     "iopub.status.busy": "2023-01-19T17:27:47.016886Z",
     "iopub.status.idle": "2023-01-19T17:27:47.021609Z",
     "shell.execute_reply": "2023-01-19T17:27:47.021076Z"
    }
   },
   "outputs": [],
   "source": [
    "trees = [FastTreeValue(_TREE_DATA_2) for _ in range(8)]"
   ]
  },
  {
   "cell_type": "code",
   "execution_count": 20,
   "id": "017ea5a5",
   "metadata": {
    "execution": {
     "iopub.execute_input": "2023-01-19T17:27:47.024494Z",
     "iopub.status.busy": "2023-01-19T17:27:47.024267Z",
     "iopub.status.idle": "2023-01-19T17:27:47.031276Z",
     "shell.execute_reply": "2023-01-19T17:27:47.030595Z"
    }
   },
   "outputs": [
    {
     "data": {
      "text/plain": [
       "<FastTreeValue 0x7fd6385e9be0>\n",
       "├── 'a' --> tensor([[[ 0.8698, -1.1469, -0.5422],\n",
       "│                    [-0.4405, -0.5759,  2.5385]],\n",
       "│           \n",
       "│                   [[ 0.8698, -1.1469, -0.5422],\n",
       "│                    [-0.4405, -0.5759,  2.5385]],\n",
       "│           \n",
       "│                   [[ 0.8698, -1.1469, -0.5422],\n",
       "│                    [-0.4405, -0.5759,  2.5385]],\n",
       "│           \n",
       "│                   [[ 0.8698, -1.1469, -0.5422],\n",
       "│                    [-0.4405, -0.5759,  2.5385]],\n",
       "│           \n",
       "│                   [[ 0.8698, -1.1469, -0.5422],\n",
       "│                    [-0.4405, -0.5759,  2.5385]],\n",
       "│           \n",
       "│                   [[ 0.8698, -1.1469, -0.5422],\n",
       "│                    [-0.4405, -0.5759,  2.5385]],\n",
       "│           \n",
       "│                   [[ 0.8698, -1.1469, -0.5422],\n",
       "│                    [-0.4405, -0.5759,  2.5385]],\n",
       "│           \n",
       "│                   [[ 0.8698, -1.1469, -0.5422],\n",
       "│                    [-0.4405, -0.5759,  2.5385]]])\n",
       "└── 'x' --> <FastTreeValue 0x7fd594f04c40>\n",
       "    └── 'c' --> tensor([[[-1.9124,  3.0756,  0.1887,  0.1893],\n",
       "                         [ 1.3464, -0.8070,  0.3804, -0.2231],\n",
       "                         [ 0.9050,  0.6029,  0.0937,  0.2743]],\n",
       "                \n",
       "                        [[-1.9124,  3.0756,  0.1887,  0.1893],\n",
       "                         [ 1.3464, -0.8070,  0.3804, -0.2231],\n",
       "                         [ 0.9050,  0.6029,  0.0937,  0.2743]],\n",
       "                \n",
       "                        [[-1.9124,  3.0756,  0.1887,  0.1893],\n",
       "                         [ 1.3464, -0.8070,  0.3804, -0.2231],\n",
       "                         [ 0.9050,  0.6029,  0.0937,  0.2743]],\n",
       "                \n",
       "                        [[-1.9124,  3.0756,  0.1887,  0.1893],\n",
       "                         [ 1.3464, -0.8070,  0.3804, -0.2231],\n",
       "                         [ 0.9050,  0.6029,  0.0937,  0.2743]],\n",
       "                \n",
       "                        [[-1.9124,  3.0756,  0.1887,  0.1893],\n",
       "                         [ 1.3464, -0.8070,  0.3804, -0.2231],\n",
       "                         [ 0.9050,  0.6029,  0.0937,  0.2743]],\n",
       "                \n",
       "                        [[-1.9124,  3.0756,  0.1887,  0.1893],\n",
       "                         [ 1.3464, -0.8070,  0.3804, -0.2231],\n",
       "                         [ 0.9050,  0.6029,  0.0937,  0.2743]],\n",
       "                \n",
       "                        [[-1.9124,  3.0756,  0.1887,  0.1893],\n",
       "                         [ 1.3464, -0.8070,  0.3804, -0.2231],\n",
       "                         [ 0.9050,  0.6029,  0.0937,  0.2743]],\n",
       "                \n",
       "                        [[-1.9124,  3.0756,  0.1887,  0.1893],\n",
       "                         [ 1.3464, -0.8070,  0.3804, -0.2231],\n",
       "                         [ 0.9050,  0.6029,  0.0937,  0.2743]]])"
      ]
     },
     "execution_count": 20,
     "metadata": {},
     "output_type": "execute_result"
    }
   ],
   "source": [
    "t_stack = FastTreeValue.func(subside=True)(torch.stack)\n",
    "\n",
    "t_stack(trees)"
   ]
  },
  {
   "cell_type": "code",
   "execution_count": 21,
   "id": "f8b3f415",
   "metadata": {
    "execution": {
     "iopub.execute_input": "2023-01-19T17:27:47.033982Z",
     "iopub.status.busy": "2023-01-19T17:27:47.033779Z",
     "iopub.status.idle": "2023-01-19T17:27:49.648654Z",
     "shell.execute_reply": "2023-01-19T17:27:49.647914Z"
    }
   },
   "outputs": [
    {
     "name": "stdout",
     "output_type": "stream",
     "text": [
      "32.2 µs ± 87 ns per loop (mean ± std. dev. of 7 runs, 10,000 loops each)\n"
     ]
    }
   ],
   "source": [
    "%timeit t_stack(trees)"
   ]
  },
  {
   "cell_type": "code",
   "execution_count": 22,
   "id": "94b56771",
   "metadata": {
    "execution": {
     "iopub.execute_input": "2023-01-19T17:27:49.651836Z",
     "iopub.status.busy": "2023-01-19T17:27:49.651295Z",
     "iopub.status.idle": "2023-01-19T17:27:49.658504Z",
     "shell.execute_reply": "2023-01-19T17:27:49.657849Z"
    }
   },
   "outputs": [
    {
     "data": {
      "text/plain": [
       "<FastTreeValue 0x7fd594ee7460>\n",
       "├── 'a' --> tensor([[ 0.8698, -1.1469, -0.5422],\n",
       "│                   [-0.4405, -0.5759,  2.5385],\n",
       "│                   [ 0.8698, -1.1469, -0.5422],\n",
       "│                   [-0.4405, -0.5759,  2.5385],\n",
       "│                   [ 0.8698, -1.1469, -0.5422],\n",
       "│                   [-0.4405, -0.5759,  2.5385],\n",
       "│                   [ 0.8698, -1.1469, -0.5422],\n",
       "│                   [-0.4405, -0.5759,  2.5385],\n",
       "│                   [ 0.8698, -1.1469, -0.5422],\n",
       "│                   [-0.4405, -0.5759,  2.5385],\n",
       "│                   [ 0.8698, -1.1469, -0.5422],\n",
       "│                   [-0.4405, -0.5759,  2.5385],\n",
       "│                   [ 0.8698, -1.1469, -0.5422],\n",
       "│                   [-0.4405, -0.5759,  2.5385],\n",
       "│                   [ 0.8698, -1.1469, -0.5422],\n",
       "│                   [-0.4405, -0.5759,  2.5385]])\n",
       "└── 'x' --> <FastTreeValue 0x7fd592728f40>\n",
       "    └── 'c' --> tensor([[-1.9124,  3.0756,  0.1887,  0.1893],\n",
       "                        [ 1.3464, -0.8070,  0.3804, -0.2231],\n",
       "                        [ 0.9050,  0.6029,  0.0937,  0.2743],\n",
       "                        [-1.9124,  3.0756,  0.1887,  0.1893],\n",
       "                        [ 1.3464, -0.8070,  0.3804, -0.2231],\n",
       "                        [ 0.9050,  0.6029,  0.0937,  0.2743],\n",
       "                        [-1.9124,  3.0756,  0.1887,  0.1893],\n",
       "                        [ 1.3464, -0.8070,  0.3804, -0.2231],\n",
       "                        [ 0.9050,  0.6029,  0.0937,  0.2743],\n",
       "                        [-1.9124,  3.0756,  0.1887,  0.1893],\n",
       "                        [ 1.3464, -0.8070,  0.3804, -0.2231],\n",
       "                        [ 0.9050,  0.6029,  0.0937,  0.2743],\n",
       "                        [-1.9124,  3.0756,  0.1887,  0.1893],\n",
       "                        [ 1.3464, -0.8070,  0.3804, -0.2231],\n",
       "                        [ 0.9050,  0.6029,  0.0937,  0.2743],\n",
       "                        [-1.9124,  3.0756,  0.1887,  0.1893],\n",
       "                        [ 1.3464, -0.8070,  0.3804, -0.2231],\n",
       "                        [ 0.9050,  0.6029,  0.0937,  0.2743],\n",
       "                        [-1.9124,  3.0756,  0.1887,  0.1893],\n",
       "                        [ 1.3464, -0.8070,  0.3804, -0.2231],\n",
       "                        [ 0.9050,  0.6029,  0.0937,  0.2743],\n",
       "                        [-1.9124,  3.0756,  0.1887,  0.1893],\n",
       "                        [ 1.3464, -0.8070,  0.3804, -0.2231],\n",
       "                        [ 0.9050,  0.6029,  0.0937,  0.2743]])"
      ]
     },
     "execution_count": 22,
     "metadata": {},
     "output_type": "execute_result"
    }
   ],
   "source": [
    "t_cat = FastTreeValue.func(subside=True)(torch.cat)\n",
    "\n",
    "t_cat(trees)"
   ]
  },
  {
   "cell_type": "code",
   "execution_count": 23,
   "id": "5e9c06a6",
   "metadata": {
    "execution": {
     "iopub.execute_input": "2023-01-19T17:27:49.661120Z",
     "iopub.status.busy": "2023-01-19T17:27:49.660902Z",
     "iopub.status.idle": "2023-01-19T17:27:52.069629Z",
     "shell.execute_reply": "2023-01-19T17:27:52.068317Z"
    }
   },
   "outputs": [
    {
     "name": "stdout",
     "output_type": "stream",
     "text": [
      "29.6 µs ± 105 ns per loop (mean ± std. dev. of 7 runs, 10,000 loops each)\n"
     ]
    }
   ],
   "source": [
    "%timeit t_cat(trees)"
   ]
  },
  {
   "cell_type": "code",
   "execution_count": 24,
   "id": "a3ab5c8f",
   "metadata": {
    "execution": {
     "iopub.execute_input": "2023-01-19T17:27:52.073156Z",
     "iopub.status.busy": "2023-01-19T17:27:52.072792Z",
     "iopub.status.idle": "2023-01-19T17:27:56.656177Z",
     "shell.execute_reply": "2023-01-19T17:27:56.655162Z"
    }
   },
   "outputs": [
    {
     "name": "stdout",
     "output_type": "stream",
     "text": [
      "56.4 µs ± 60.1 ns per loop (mean ± std. dev. of 7 runs, 10,000 loops each)\n"
     ]
    }
   ],
   "source": [
    "t_split = FastTreeValue.func(rise=True)(torch.split)\n",
    "tree = FastTreeValue({\n",
    "    'obs': torch.randn(8, 4, 84, 84),\n",
    "    'action': torch.randint(0, 6, size=(8, 1,)),\n",
    "    'reward': torch.rand(8, 1),\n",
    "})\n",
    "\n",
    "%timeit t_split(tree, 1)"
   ]
  },
  {
   "cell_type": "markdown",
   "id": "31c3ec0b",
   "metadata": {},
   "source": [
    "### Performance of Tianshou Batch"
   ]
  },
  {
   "cell_type": "code",
   "execution_count": 25,
   "id": "9ead828a",
   "metadata": {
    "execution": {
     "iopub.execute_input": "2023-01-19T17:27:56.659748Z",
     "iopub.status.busy": "2023-01-19T17:27:56.659380Z",
     "iopub.status.idle": "2023-01-19T17:27:56.668604Z",
     "shell.execute_reply": "2023-01-19T17:27:56.667999Z"
    }
   },
   "outputs": [
    {
     "data": {
      "text/plain": [
       "Batch(\n",
       "    x: Batch(\n",
       "           c: tensor([[[-1.9124,  3.0756,  0.1887,  0.1893],\n",
       "                       [ 1.3464, -0.8070,  0.3804, -0.2231],\n",
       "                       [ 0.9050,  0.6029,  0.0937,  0.2743]],\n",
       "              \n",
       "                      [[-1.9124,  3.0756,  0.1887,  0.1893],\n",
       "                       [ 1.3464, -0.8070,  0.3804, -0.2231],\n",
       "                       [ 0.9050,  0.6029,  0.0937,  0.2743]],\n",
       "              \n",
       "                      [[-1.9124,  3.0756,  0.1887,  0.1893],\n",
       "                       [ 1.3464, -0.8070,  0.3804, -0.2231],\n",
       "                       [ 0.9050,  0.6029,  0.0937,  0.2743]],\n",
       "              \n",
       "                      [[-1.9124,  3.0756,  0.1887,  0.1893],\n",
       "                       [ 1.3464, -0.8070,  0.3804, -0.2231],\n",
       "                       [ 0.9050,  0.6029,  0.0937,  0.2743]],\n",
       "              \n",
       "                      [[-1.9124,  3.0756,  0.1887,  0.1893],\n",
       "                       [ 1.3464, -0.8070,  0.3804, -0.2231],\n",
       "                       [ 0.9050,  0.6029,  0.0937,  0.2743]],\n",
       "              \n",
       "                      [[-1.9124,  3.0756,  0.1887,  0.1893],\n",
       "                       [ 1.3464, -0.8070,  0.3804, -0.2231],\n",
       "                       [ 0.9050,  0.6029,  0.0937,  0.2743]],\n",
       "              \n",
       "                      [[-1.9124,  3.0756,  0.1887,  0.1893],\n",
       "                       [ 1.3464, -0.8070,  0.3804, -0.2231],\n",
       "                       [ 0.9050,  0.6029,  0.0937,  0.2743]],\n",
       "              \n",
       "                      [[-1.9124,  3.0756,  0.1887,  0.1893],\n",
       "                       [ 1.3464, -0.8070,  0.3804, -0.2231],\n",
       "                       [ 0.9050,  0.6029,  0.0937,  0.2743]]]),\n",
       "       ),\n",
       "    a: tensor([[[ 0.8698, -1.1469, -0.5422],\n",
       "                [-0.4405, -0.5759,  2.5385]],\n",
       "       \n",
       "               [[ 0.8698, -1.1469, -0.5422],\n",
       "                [-0.4405, -0.5759,  2.5385]],\n",
       "       \n",
       "               [[ 0.8698, -1.1469, -0.5422],\n",
       "                [-0.4405, -0.5759,  2.5385]],\n",
       "       \n",
       "               [[ 0.8698, -1.1469, -0.5422],\n",
       "                [-0.4405, -0.5759,  2.5385]],\n",
       "       \n",
       "               [[ 0.8698, -1.1469, -0.5422],\n",
       "                [-0.4405, -0.5759,  2.5385]],\n",
       "       \n",
       "               [[ 0.8698, -1.1469, -0.5422],\n",
       "                [-0.4405, -0.5759,  2.5385]],\n",
       "       \n",
       "               [[ 0.8698, -1.1469, -0.5422],\n",
       "                [-0.4405, -0.5759,  2.5385]],\n",
       "       \n",
       "               [[ 0.8698, -1.1469, -0.5422],\n",
       "                [-0.4405, -0.5759,  2.5385]]]),\n",
       ")"
      ]
     },
     "execution_count": 25,
     "metadata": {},
     "output_type": "execute_result"
    }
   ],
   "source": [
    "batches = [Batch(**_TREE_DATA_2) for _ in range(8)]\n",
    "\n",
    "Batch.stack(batches)"
   ]
  },
  {
   "cell_type": "code",
   "execution_count": 26,
   "id": "ec9037a3",
   "metadata": {
    "execution": {
     "iopub.execute_input": "2023-01-19T17:27:56.671276Z",
     "iopub.status.busy": "2023-01-19T17:27:56.671045Z",
     "iopub.status.idle": "2023-01-19T17:28:03.011192Z",
     "shell.execute_reply": "2023-01-19T17:28:03.010587Z"
    }
   },
   "outputs": [
    {
     "name": "stdout",
     "output_type": "stream",
     "text": [
      "78 µs ± 157 ns per loop (mean ± std. dev. of 7 runs, 10,000 loops each)\n"
     ]
    }
   ],
   "source": [
    "%timeit Batch.stack(batches)"
   ]
  },
  {
   "cell_type": "code",
   "execution_count": 27,
   "id": "cb8ab77e",
   "metadata": {
    "execution": {
     "iopub.execute_input": "2023-01-19T17:28:03.014440Z",
     "iopub.status.busy": "2023-01-19T17:28:03.013900Z",
     "iopub.status.idle": "2023-01-19T17:28:03.021573Z",
     "shell.execute_reply": "2023-01-19T17:28:03.020977Z"
    }
   },
   "outputs": [
    {
     "data": {
      "text/plain": [
       "Batch(\n",
       "    x: Batch(\n",
       "           c: tensor([[-1.9124,  3.0756,  0.1887,  0.1893],\n",
       "                      [ 1.3464, -0.8070,  0.3804, -0.2231],\n",
       "                      [ 0.9050,  0.6029,  0.0937,  0.2743],\n",
       "                      [-1.9124,  3.0756,  0.1887,  0.1893],\n",
       "                      [ 1.3464, -0.8070,  0.3804, -0.2231],\n",
       "                      [ 0.9050,  0.6029,  0.0937,  0.2743],\n",
       "                      [-1.9124,  3.0756,  0.1887,  0.1893],\n",
       "                      [ 1.3464, -0.8070,  0.3804, -0.2231],\n",
       "                      [ 0.9050,  0.6029,  0.0937,  0.2743],\n",
       "                      [-1.9124,  3.0756,  0.1887,  0.1893],\n",
       "                      [ 1.3464, -0.8070,  0.3804, -0.2231],\n",
       "                      [ 0.9050,  0.6029,  0.0937,  0.2743],\n",
       "                      [-1.9124,  3.0756,  0.1887,  0.1893],\n",
       "                      [ 1.3464, -0.8070,  0.3804, -0.2231],\n",
       "                      [ 0.9050,  0.6029,  0.0937,  0.2743],\n",
       "                      [-1.9124,  3.0756,  0.1887,  0.1893],\n",
       "                      [ 1.3464, -0.8070,  0.3804, -0.2231],\n",
       "                      [ 0.9050,  0.6029,  0.0937,  0.2743],\n",
       "                      [-1.9124,  3.0756,  0.1887,  0.1893],\n",
       "                      [ 1.3464, -0.8070,  0.3804, -0.2231],\n",
       "                      [ 0.9050,  0.6029,  0.0937,  0.2743],\n",
       "                      [-1.9124,  3.0756,  0.1887,  0.1893],\n",
       "                      [ 1.3464, -0.8070,  0.3804, -0.2231],\n",
       "                      [ 0.9050,  0.6029,  0.0937,  0.2743]]),\n",
       "       ),\n",
       "    a: tensor([[ 0.8698, -1.1469, -0.5422],\n",
       "               [-0.4405, -0.5759,  2.5385],\n",
       "               [ 0.8698, -1.1469, -0.5422],\n",
       "               [-0.4405, -0.5759,  2.5385],\n",
       "               [ 0.8698, -1.1469, -0.5422],\n",
       "               [-0.4405, -0.5759,  2.5385],\n",
       "               [ 0.8698, -1.1469, -0.5422],\n",
       "               [-0.4405, -0.5759,  2.5385],\n",
       "               [ 0.8698, -1.1469, -0.5422],\n",
       "               [-0.4405, -0.5759,  2.5385],\n",
       "               [ 0.8698, -1.1469, -0.5422],\n",
       "               [-0.4405, -0.5759,  2.5385],\n",
       "               [ 0.8698, -1.1469, -0.5422],\n",
       "               [-0.4405, -0.5759,  2.5385],\n",
       "               [ 0.8698, -1.1469, -0.5422],\n",
       "               [-0.4405, -0.5759,  2.5385]]),\n",
       ")"
      ]
     },
     "execution_count": 27,
     "metadata": {},
     "output_type": "execute_result"
    }
   ],
   "source": [
    "Batch.cat(batches)"
   ]
  },
  {
   "cell_type": "code",
   "execution_count": 28,
   "id": "18dfb045",
   "metadata": {
    "execution": {
     "iopub.execute_input": "2023-01-19T17:28:03.024332Z",
     "iopub.status.busy": "2023-01-19T17:28:03.023969Z",
     "iopub.status.idle": "2023-01-19T17:28:14.577753Z",
     "shell.execute_reply": "2023-01-19T17:28:14.576770Z"
    }
   },
   "outputs": [
    {
     "name": "stdout",
     "output_type": "stream",
     "text": [
      "142 µs ± 249 ns per loop (mean ± std. dev. of 7 runs, 10,000 loops each)\n"
     ]
    }
   ],
   "source": [
    "%timeit Batch.cat(batches)"
   ]
  },
  {
   "cell_type": "code",
   "execution_count": 29,
   "id": "c6688e51",
   "metadata": {
    "execution": {
     "iopub.execute_input": "2023-01-19T17:28:14.581355Z",
     "iopub.status.busy": "2023-01-19T17:28:14.580991Z",
     "iopub.status.idle": "2023-01-19T17:28:17.102642Z",
     "shell.execute_reply": "2023-01-19T17:28:17.102081Z"
    }
   },
   "outputs": [
    {
     "name": "stdout",
     "output_type": "stream",
     "text": [
      "310 µs ± 2.5 µs per loop (mean ± std. dev. of 7 runs, 1,000 loops each)\n"
     ]
    }
   ],
   "source": [
    "batch = Batch({\n",
    "    'obs': torch.randn(8, 4, 84, 84),\n",
    "    'action': torch.randint(0, 6, size=(8, 1,)),\n",
    "    'reward': torch.rand(8, 1)}\n",
    ")\n",
    "\n",
    "%timeit list(Batch.split(batch, 1, shuffle=False, merge_last=True))"
   ]
  },
  {
   "cell_type": "code",
   "execution_count": null,
   "id": "2539fbd9",
   "metadata": {},
   "outputs": [],
   "source": []
  }
 ],
 "metadata": {
  "kernelspec": {
   "display_name": "Python 3 (ipykernel)",
   "language": "python",
   "name": "python3"
  },
  "language_info": {
   "codemirror_mode": {
    "name": "ipython",
    "version": 3
   },
   "file_extension": ".py",
   "mimetype": "text/x-python",
   "name": "python",
   "nbconvert_exporter": "python",
   "pygments_lexer": "ipython3",
   "version": "3.8.16"
  }
 },
 "nbformat": 4,
 "nbformat_minor": 5
}
