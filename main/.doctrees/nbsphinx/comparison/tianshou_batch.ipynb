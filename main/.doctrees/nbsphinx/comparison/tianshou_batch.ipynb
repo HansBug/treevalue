{
 "cells": [
  {
   "cell_type": "markdown",
   "id": "9d39d946",
   "metadata": {},
   "source": [
    "# Comparison Between TreeValue and Tianshou Batch"
   ]
  },
  {
   "cell_type": "markdown",
   "id": "3c6db2d4",
   "metadata": {},
   "source": [
    "In this section, we will take a look at the feature and performance of the [Tianshou Batch](https://github.com/thu-ml/tianshou) library, which is developed by Tsinghua Machine Learning Group."
   ]
  },
  {
   "cell_type": "markdown",
   "id": "069361b0",
   "metadata": {},
   "source": [
    "Before starting the comparison, let us define some thing."
   ]
  },
  {
   "cell_type": "code",
   "execution_count": 1,
   "id": "06fc8d26",
   "metadata": {
    "execution": {
     "iopub.execute_input": "2023-01-20T09:43:21.083421Z",
     "iopub.status.busy": "2023-01-20T09:43:21.082918Z",
     "iopub.status.idle": "2023-01-20T09:43:22.257992Z",
     "shell.execute_reply": "2023-01-20T09:43:22.256573Z"
    }
   },
   "outputs": [
    {
     "name": "stderr",
     "output_type": "stream",
     "text": [
      "/opt/hostedtoolcache/Python/3.8.16/x64/lib/python3.8/site-packages/tqdm/auto.py:22: TqdmWarning: IProgress not found. Please update jupyter and ipywidgets. See https://ipywidgets.readthedocs.io/en/stable/user_install.html\n",
      "  from .autonotebook import tqdm as notebook_tqdm\n"
     ]
    }
   ],
   "source": [
    "import torch \n",
    "\n",
    "_TREE_DATA_1 = {'a': 1, 'b': 2, 'x': {'c': 3, 'd': 4}}\n",
    "_TREE_DATA_2 = {\n",
    "    'a': torch.randn(2, 3), \n",
    "    'x': {\n",
    "        'c': torch.randn(3, 4)\n",
    "    },\n",
    "}\n",
    "_TREE_DATA_3 = {\n",
    "    'obs': torch.randn(4, 84, 84),\n",
    "    'action': torch.randint(0, 6, size=(1,)),\n",
    "    'reward': torch.rand(1),\n",
    "}"
   ]
  },
  {
   "cell_type": "markdown",
   "id": "83461b25",
   "metadata": {},
   "source": [
    "## Read and Write Operation"
   ]
  },
  {
   "cell_type": "markdown",
   "id": "067b3f73",
   "metadata": {},
   "source": [
    "Reading and writing are the two most common operations in the tree data structure based on the data model (TreeValue and Tianshou Batch both belong to this type), so this section will compare the reading and writing performance of these two libraries."
   ]
  },
  {
   "cell_type": "markdown",
   "id": "5d09a5b7",
   "metadata": {},
   "source": [
    "### TreeValue's Get and Set"
   ]
  },
  {
   "cell_type": "code",
   "execution_count": 2,
   "id": "9519c4bb",
   "metadata": {
    "execution": {
     "iopub.execute_input": "2023-01-20T09:43:22.263425Z",
     "iopub.status.busy": "2023-01-20T09:43:22.262939Z",
     "iopub.status.idle": "2023-01-20T09:43:22.303277Z",
     "shell.execute_reply": "2023-01-20T09:43:22.302461Z"
    }
   },
   "outputs": [],
   "source": [
    "from treevalue import FastTreeValue\n",
    "\n",
    "t = FastTreeValue(_TREE_DATA_2)"
   ]
  },
  {
   "cell_type": "code",
   "execution_count": 3,
   "id": "11c37677",
   "metadata": {
    "execution": {
     "iopub.execute_input": "2023-01-20T09:43:22.307341Z",
     "iopub.status.busy": "2023-01-20T09:43:22.306960Z",
     "iopub.status.idle": "2023-01-20T09:43:22.317204Z",
     "shell.execute_reply": "2023-01-20T09:43:22.316328Z"
    }
   },
   "outputs": [
    {
     "data": {
      "text/plain": [
       "<FastTreeValue 0x7fad2472dfa0>\n",
       "├── 'a' --> tensor([[-0.2812, -1.9545, -0.6738],\n",
       "│                   [ 1.1351,  1.4279,  0.2253]])\n",
       "└── 'x' --> <FastTreeValue 0x7fad2472d6d0>\n",
       "    └── 'c' --> tensor([[ 0.7742,  0.9259,  1.7446,  0.4975],\n",
       "                        [-1.8115, -0.0306,  1.2756, -1.3858],\n",
       "                        [ 1.5749,  0.6550,  0.0993, -0.6405]])"
      ]
     },
     "execution_count": 3,
     "metadata": {},
     "output_type": "execute_result"
    }
   ],
   "source": [
    "t"
   ]
  },
  {
   "cell_type": "code",
   "execution_count": 4,
   "id": "fd70b0b9",
   "metadata": {
    "execution": {
     "iopub.execute_input": "2023-01-20T09:43:22.321158Z",
     "iopub.status.busy": "2023-01-20T09:43:22.320881Z",
     "iopub.status.idle": "2023-01-20T09:43:22.326869Z",
     "shell.execute_reply": "2023-01-20T09:43:22.325894Z"
    }
   },
   "outputs": [
    {
     "data": {
      "text/plain": [
       "tensor([[-0.2812, -1.9545, -0.6738],\n",
       "        [ 1.1351,  1.4279,  0.2253]])"
      ]
     },
     "execution_count": 4,
     "metadata": {},
     "output_type": "execute_result"
    }
   ],
   "source": [
    "t.a"
   ]
  },
  {
   "cell_type": "code",
   "execution_count": 5,
   "id": "c18197bd",
   "metadata": {
    "execution": {
     "iopub.execute_input": "2023-01-20T09:43:22.331920Z",
     "iopub.status.busy": "2023-01-20T09:43:22.331607Z",
     "iopub.status.idle": "2023-01-20T09:43:27.699439Z",
     "shell.execute_reply": "2023-01-20T09:43:27.698686Z"
    }
   },
   "outputs": [
    {
     "name": "stdout",
     "output_type": "stream",
     "text": [
      "65.2 ns ± 1.86 ns per loop (mean ± std. dev. of 7 runs, 10,000,000 loops each)\n"
     ]
    }
   ],
   "source": [
    "%timeit t.a"
   ]
  },
  {
   "cell_type": "code",
   "execution_count": 6,
   "id": "bd52f867",
   "metadata": {
    "execution": {
     "iopub.execute_input": "2023-01-20T09:43:27.703014Z",
     "iopub.status.busy": "2023-01-20T09:43:27.702631Z",
     "iopub.status.idle": "2023-01-20T09:43:27.709992Z",
     "shell.execute_reply": "2023-01-20T09:43:27.709177Z"
    }
   },
   "outputs": [
    {
     "data": {
      "text/plain": [
       "<FastTreeValue 0x7fad2472dfa0>\n",
       "├── 'a' --> tensor([[ 0.3956, -0.1852, -0.8122],\n",
       "│                   [-0.2811, -0.1362,  1.0543]])\n",
       "└── 'x' --> <FastTreeValue 0x7fad2472d6d0>\n",
       "    └── 'c' --> tensor([[ 0.7742,  0.9259,  1.7446,  0.4975],\n",
       "                        [-1.8115, -0.0306,  1.2756, -1.3858],\n",
       "                        [ 1.5749,  0.6550,  0.0993, -0.6405]])"
      ]
     },
     "execution_count": 6,
     "metadata": {},
     "output_type": "execute_result"
    }
   ],
   "source": [
    "new_value = torch.randn(2, 3)\n",
    "t.a = new_value\n",
    "\n",
    "t"
   ]
  },
  {
   "cell_type": "code",
   "execution_count": 7,
   "id": "bbe04d1c",
   "metadata": {
    "execution": {
     "iopub.execute_input": "2023-01-20T09:43:27.713407Z",
     "iopub.status.busy": "2023-01-20T09:43:27.713182Z",
     "iopub.status.idle": "2023-01-20T09:43:32.732189Z",
     "shell.execute_reply": "2023-01-20T09:43:32.731128Z"
    }
   },
   "outputs": [
    {
     "name": "stdout",
     "output_type": "stream",
     "text": [
      "62 ns ± 3.8 ns per loop (mean ± std. dev. of 7 runs, 10,000,000 loops each)\n"
     ]
    }
   ],
   "source": [
    "%timeit t.a = new_value"
   ]
  },
  {
   "cell_type": "markdown",
   "id": "48c49731",
   "metadata": {},
   "source": [
    "### Tianshou Batch's Get and Set"
   ]
  },
  {
   "cell_type": "code",
   "execution_count": 8,
   "id": "f1bb14c1",
   "metadata": {
    "execution": {
     "iopub.execute_input": "2023-01-20T09:43:32.735719Z",
     "iopub.status.busy": "2023-01-20T09:43:32.735484Z",
     "iopub.status.idle": "2023-01-20T09:43:33.111198Z",
     "shell.execute_reply": "2023-01-20T09:43:33.110199Z"
    }
   },
   "outputs": [],
   "source": [
    "from tianshou.data import Batch\n",
    "\n",
    "b = Batch(**_TREE_DATA_2)"
   ]
  },
  {
   "cell_type": "code",
   "execution_count": 9,
   "id": "cb0777c3",
   "metadata": {
    "execution": {
     "iopub.execute_input": "2023-01-20T09:43:33.115223Z",
     "iopub.status.busy": "2023-01-20T09:43:33.114918Z",
     "iopub.status.idle": "2023-01-20T09:43:33.121647Z",
     "shell.execute_reply": "2023-01-20T09:43:33.120749Z"
    }
   },
   "outputs": [
    {
     "data": {
      "text/plain": [
       "Batch(\n",
       "    a: tensor([[-0.2812, -1.9545, -0.6738],\n",
       "               [ 1.1351,  1.4279,  0.2253]]),\n",
       "    x: Batch(\n",
       "           c: tensor([[ 0.7742,  0.9259,  1.7446,  0.4975],\n",
       "                      [-1.8115, -0.0306,  1.2756, -1.3858],\n",
       "                      [ 1.5749,  0.6550,  0.0993, -0.6405]]),\n",
       "       ),\n",
       ")"
      ]
     },
     "execution_count": 9,
     "metadata": {},
     "output_type": "execute_result"
    }
   ],
   "source": [
    "b"
   ]
  },
  {
   "cell_type": "code",
   "execution_count": 10,
   "id": "43ef8ea3",
   "metadata": {
    "execution": {
     "iopub.execute_input": "2023-01-20T09:43:33.124768Z",
     "iopub.status.busy": "2023-01-20T09:43:33.124380Z",
     "iopub.status.idle": "2023-01-20T09:43:33.130772Z",
     "shell.execute_reply": "2023-01-20T09:43:33.129871Z"
    }
   },
   "outputs": [
    {
     "data": {
      "text/plain": [
       "tensor([[-0.2812, -1.9545, -0.6738],\n",
       "        [ 1.1351,  1.4279,  0.2253]])"
      ]
     },
     "execution_count": 10,
     "metadata": {},
     "output_type": "execute_result"
    }
   ],
   "source": [
    "b.a"
   ]
  },
  {
   "cell_type": "code",
   "execution_count": 11,
   "id": "b785ab72",
   "metadata": {
    "execution": {
     "iopub.execute_input": "2023-01-20T09:43:33.134381Z",
     "iopub.status.busy": "2023-01-20T09:43:33.133912Z",
     "iopub.status.idle": "2023-01-20T09:43:37.399754Z",
     "shell.execute_reply": "2023-01-20T09:43:37.398803Z"
    }
   },
   "outputs": [
    {
     "name": "stdout",
     "output_type": "stream",
     "text": [
      "52.5 ns ± 1.47 ns per loop (mean ± std. dev. of 7 runs, 10,000,000 loops each)\n"
     ]
    }
   ],
   "source": [
    "%timeit b.a"
   ]
  },
  {
   "cell_type": "code",
   "execution_count": 12,
   "id": "ad54dc69",
   "metadata": {
    "execution": {
     "iopub.execute_input": "2023-01-20T09:43:37.404308Z",
     "iopub.status.busy": "2023-01-20T09:43:37.404067Z",
     "iopub.status.idle": "2023-01-20T09:43:37.417922Z",
     "shell.execute_reply": "2023-01-20T09:43:37.416795Z"
    }
   },
   "outputs": [
    {
     "data": {
      "text/plain": [
       "Batch(\n",
       "    a: tensor([[ 0.4963,  0.8287, -1.6400],\n",
       "               [-0.1406,  0.3259, -1.3663]]),\n",
       "    x: Batch(\n",
       "           c: tensor([[ 0.7742,  0.9259,  1.7446,  0.4975],\n",
       "                      [-1.8115, -0.0306,  1.2756, -1.3858],\n",
       "                      [ 1.5749,  0.6550,  0.0993, -0.6405]]),\n",
       "       ),\n",
       ")"
      ]
     },
     "execution_count": 12,
     "metadata": {},
     "output_type": "execute_result"
    }
   ],
   "source": [
    "new_value = torch.randn(2, 3)\n",
    "b.a = new_value\n",
    "\n",
    "b"
   ]
  },
  {
   "cell_type": "code",
   "execution_count": 13,
   "id": "29b1d0bf",
   "metadata": {
    "execution": {
     "iopub.execute_input": "2023-01-20T09:43:37.421888Z",
     "iopub.status.busy": "2023-01-20T09:43:37.421589Z",
     "iopub.status.idle": "2023-01-20T09:43:41.453936Z",
     "shell.execute_reply": "2023-01-20T09:43:41.453015Z"
    }
   },
   "outputs": [
    {
     "name": "stdout",
     "output_type": "stream",
     "text": [
      "495 ns ± 5.37 ns per loop (mean ± std. dev. of 7 runs, 1,000,000 loops each)\n"
     ]
    }
   ],
   "source": [
    "%timeit b.a = new_value"
   ]
  },
  {
   "cell_type": "markdown",
   "id": "b61ad1d0",
   "metadata": {},
   "source": [
    "## Initialization"
   ]
  },
  {
   "cell_type": "markdown",
   "id": "d70f0d54",
   "metadata": {},
   "source": [
    "### TreeValue's Initialization"
   ]
  },
  {
   "cell_type": "code",
   "execution_count": 14,
   "id": "d32a679b",
   "metadata": {
    "execution": {
     "iopub.execute_input": "2023-01-20T09:43:41.457320Z",
     "iopub.status.busy": "2023-01-20T09:43:41.457073Z",
     "iopub.status.idle": "2023-01-20T09:43:48.206982Z",
     "shell.execute_reply": "2023-01-20T09:43:48.206157Z"
    }
   },
   "outputs": [
    {
     "name": "stdout",
     "output_type": "stream",
     "text": [
      "834 ns ± 21 ns per loop (mean ± std. dev. of 7 runs, 1,000,000 loops each)\n"
     ]
    }
   ],
   "source": [
    "%timeit FastTreeValue(_TREE_DATA_1)"
   ]
  },
  {
   "cell_type": "markdown",
   "id": "24f3707b",
   "metadata": {},
   "source": [
    "### Tianshou Batch's Initialization"
   ]
  },
  {
   "cell_type": "code",
   "execution_count": 15,
   "id": "ac3958df",
   "metadata": {
    "execution": {
     "iopub.execute_input": "2023-01-20T09:43:48.210565Z",
     "iopub.status.busy": "2023-01-20T09:43:48.210218Z",
     "iopub.status.idle": "2023-01-20T09:43:57.388306Z",
     "shell.execute_reply": "2023-01-20T09:43:57.387413Z"
    }
   },
   "outputs": [
    {
     "name": "stdout",
     "output_type": "stream",
     "text": [
      "11.3 µs ± 329 ns per loop (mean ± std. dev. of 7 runs, 100,000 loops each)\n"
     ]
    }
   ],
   "source": [
    "%timeit Batch(**_TREE_DATA_1)"
   ]
  },
  {
   "cell_type": "markdown",
   "id": "1ab82e2d",
   "metadata": {},
   "source": [
    "## Deep Copy Operation"
   ]
  },
  {
   "cell_type": "code",
   "execution_count": 16,
   "id": "210a9442",
   "metadata": {
    "execution": {
     "iopub.execute_input": "2023-01-20T09:43:57.393353Z",
     "iopub.status.busy": "2023-01-20T09:43:57.391820Z",
     "iopub.status.idle": "2023-01-20T09:43:57.397674Z",
     "shell.execute_reply": "2023-01-20T09:43:57.396754Z"
    }
   },
   "outputs": [],
   "source": [
    "import copy"
   ]
  },
  {
   "cell_type": "markdown",
   "id": "5a736274",
   "metadata": {},
   "source": [
    "### Deep Copy of TreeValue"
   ]
  },
  {
   "cell_type": "code",
   "execution_count": 17,
   "id": "f9bcadd6",
   "metadata": {
    "execution": {
     "iopub.execute_input": "2023-01-20T09:43:57.400935Z",
     "iopub.status.busy": "2023-01-20T09:43:57.400458Z",
     "iopub.status.idle": "2023-01-20T09:43:59.557688Z",
     "shell.execute_reply": "2023-01-20T09:43:59.556908Z"
    }
   },
   "outputs": [
    {
     "name": "stdout",
     "output_type": "stream",
     "text": [
      "266 µs ± 20.3 µs per loop (mean ± std. dev. of 7 runs, 1,000 loops each)\n"
     ]
    }
   ],
   "source": [
    "t3 = FastTreeValue(_TREE_DATA_3)\n",
    "%timeit copy.deepcopy(t3)"
   ]
  },
  {
   "cell_type": "markdown",
   "id": "bf8be7ea",
   "metadata": {},
   "source": [
    "### Deep Copy of Tianshou Batch"
   ]
  },
  {
   "cell_type": "code",
   "execution_count": 18,
   "id": "91998e6f",
   "metadata": {
    "execution": {
     "iopub.execute_input": "2023-01-20T09:43:59.561704Z",
     "iopub.status.busy": "2023-01-20T09:43:59.561193Z",
     "iopub.status.idle": "2023-01-20T09:44:01.378815Z",
     "shell.execute_reply": "2023-01-20T09:44:01.378015Z"
    }
   },
   "outputs": [
    {
     "name": "stdout",
     "output_type": "stream",
     "text": [
      "223 µs ± 9.13 µs per loop (mean ± std. dev. of 7 runs, 1,000 loops each)\n"
     ]
    }
   ],
   "source": [
    "b3 = Batch(**_TREE_DATA_3)\n",
    "%timeit copy.deepcopy(b3)"
   ]
  },
  {
   "cell_type": "markdown",
   "id": "223162fb",
   "metadata": {},
   "source": [
    "## Stack, Concat and Split Operation"
   ]
  },
  {
   "cell_type": "markdown",
   "id": "85fa4a73",
   "metadata": {},
   "source": [
    "### Performance of TreeValue"
   ]
  },
  {
   "cell_type": "code",
   "execution_count": 19,
   "id": "a0c2b697",
   "metadata": {
    "execution": {
     "iopub.execute_input": "2023-01-20T09:44:01.382619Z",
     "iopub.status.busy": "2023-01-20T09:44:01.382173Z",
     "iopub.status.idle": "2023-01-20T09:44:01.385762Z",
     "shell.execute_reply": "2023-01-20T09:44:01.385090Z"
    }
   },
   "outputs": [],
   "source": [
    "trees = [FastTreeValue(_TREE_DATA_2) for _ in range(8)]"
   ]
  },
  {
   "cell_type": "code",
   "execution_count": 20,
   "id": "017ea5a5",
   "metadata": {
    "execution": {
     "iopub.execute_input": "2023-01-20T09:44:01.388998Z",
     "iopub.status.busy": "2023-01-20T09:44:01.388605Z",
     "iopub.status.idle": "2023-01-20T09:44:01.396595Z",
     "shell.execute_reply": "2023-01-20T09:44:01.395948Z"
    }
   },
   "outputs": [
    {
     "data": {
      "text/plain": [
       "<FastTreeValue 0x7fac7caead30>\n",
       "├── 'a' --> tensor([[[-0.2812, -1.9545, -0.6738],\n",
       "│                    [ 1.1351,  1.4279,  0.2253]],\n",
       "│           \n",
       "│                   [[-0.2812, -1.9545, -0.6738],\n",
       "│                    [ 1.1351,  1.4279,  0.2253]],\n",
       "│           \n",
       "│                   [[-0.2812, -1.9545, -0.6738],\n",
       "│                    [ 1.1351,  1.4279,  0.2253]],\n",
       "│           \n",
       "│                   [[-0.2812, -1.9545, -0.6738],\n",
       "│                    [ 1.1351,  1.4279,  0.2253]],\n",
       "│           \n",
       "│                   [[-0.2812, -1.9545, -0.6738],\n",
       "│                    [ 1.1351,  1.4279,  0.2253]],\n",
       "│           \n",
       "│                   [[-0.2812, -1.9545, -0.6738],\n",
       "│                    [ 1.1351,  1.4279,  0.2253]],\n",
       "│           \n",
       "│                   [[-0.2812, -1.9545, -0.6738],\n",
       "│                    [ 1.1351,  1.4279,  0.2253]],\n",
       "│           \n",
       "│                   [[-0.2812, -1.9545, -0.6738],\n",
       "│                    [ 1.1351,  1.4279,  0.2253]]])\n",
       "└── 'x' --> <FastTreeValue 0x7fac7caeabb0>\n",
       "    └── 'c' --> tensor([[[ 0.7742,  0.9259,  1.7446,  0.4975],\n",
       "                         [-1.8115, -0.0306,  1.2756, -1.3858],\n",
       "                         [ 1.5749,  0.6550,  0.0993, -0.6405]],\n",
       "                \n",
       "                        [[ 0.7742,  0.9259,  1.7446,  0.4975],\n",
       "                         [-1.8115, -0.0306,  1.2756, -1.3858],\n",
       "                         [ 1.5749,  0.6550,  0.0993, -0.6405]],\n",
       "                \n",
       "                        [[ 0.7742,  0.9259,  1.7446,  0.4975],\n",
       "                         [-1.8115, -0.0306,  1.2756, -1.3858],\n",
       "                         [ 1.5749,  0.6550,  0.0993, -0.6405]],\n",
       "                \n",
       "                        [[ 0.7742,  0.9259,  1.7446,  0.4975],\n",
       "                         [-1.8115, -0.0306,  1.2756, -1.3858],\n",
       "                         [ 1.5749,  0.6550,  0.0993, -0.6405]],\n",
       "                \n",
       "                        [[ 0.7742,  0.9259,  1.7446,  0.4975],\n",
       "                         [-1.8115, -0.0306,  1.2756, -1.3858],\n",
       "                         [ 1.5749,  0.6550,  0.0993, -0.6405]],\n",
       "                \n",
       "                        [[ 0.7742,  0.9259,  1.7446,  0.4975],\n",
       "                         [-1.8115, -0.0306,  1.2756, -1.3858],\n",
       "                         [ 1.5749,  0.6550,  0.0993, -0.6405]],\n",
       "                \n",
       "                        [[ 0.7742,  0.9259,  1.7446,  0.4975],\n",
       "                         [-1.8115, -0.0306,  1.2756, -1.3858],\n",
       "                         [ 1.5749,  0.6550,  0.0993, -0.6405]],\n",
       "                \n",
       "                        [[ 0.7742,  0.9259,  1.7446,  0.4975],\n",
       "                         [-1.8115, -0.0306,  1.2756, -1.3858],\n",
       "                         [ 1.5749,  0.6550,  0.0993, -0.6405]]])"
      ]
     },
     "execution_count": 20,
     "metadata": {},
     "output_type": "execute_result"
    }
   ],
   "source": [
    "t_stack = FastTreeValue.func(subside=True)(torch.stack)\n",
    "\n",
    "t_stack(trees)"
   ]
  },
  {
   "cell_type": "code",
   "execution_count": 21,
   "id": "f8b3f415",
   "metadata": {
    "execution": {
     "iopub.execute_input": "2023-01-20T09:44:01.399667Z",
     "iopub.status.busy": "2023-01-20T09:44:01.399259Z",
     "iopub.status.idle": "2023-01-20T09:44:04.531143Z",
     "shell.execute_reply": "2023-01-20T09:44:04.530269Z"
    }
   },
   "outputs": [
    {
     "name": "stdout",
     "output_type": "stream",
     "text": [
      "38.7 µs ± 2.68 µs per loop (mean ± std. dev. of 7 runs, 10,000 loops each)\n"
     ]
    }
   ],
   "source": [
    "%timeit t_stack(trees)"
   ]
  },
  {
   "cell_type": "code",
   "execution_count": 22,
   "id": "94b56771",
   "metadata": {
    "execution": {
     "iopub.execute_input": "2023-01-20T09:44:04.534729Z",
     "iopub.status.busy": "2023-01-20T09:44:04.534136Z",
     "iopub.status.idle": "2023-01-20T09:44:04.543981Z",
     "shell.execute_reply": "2023-01-20T09:44:04.542755Z"
    }
   },
   "outputs": [
    {
     "data": {
      "text/plain": [
       "<FastTreeValue 0x7fac7caeae20>\n",
       "├── 'a' --> tensor([[-0.2812, -1.9545, -0.6738],\n",
       "│                   [ 1.1351,  1.4279,  0.2253],\n",
       "│                   [-0.2812, -1.9545, -0.6738],\n",
       "│                   [ 1.1351,  1.4279,  0.2253],\n",
       "│                   [-0.2812, -1.9545, -0.6738],\n",
       "│                   [ 1.1351,  1.4279,  0.2253],\n",
       "│                   [-0.2812, -1.9545, -0.6738],\n",
       "│                   [ 1.1351,  1.4279,  0.2253],\n",
       "│                   [-0.2812, -1.9545, -0.6738],\n",
       "│                   [ 1.1351,  1.4279,  0.2253],\n",
       "│                   [-0.2812, -1.9545, -0.6738],\n",
       "│                   [ 1.1351,  1.4279,  0.2253],\n",
       "│                   [-0.2812, -1.9545, -0.6738],\n",
       "│                   [ 1.1351,  1.4279,  0.2253],\n",
       "│                   [-0.2812, -1.9545, -0.6738],\n",
       "│                   [ 1.1351,  1.4279,  0.2253]])\n",
       "└── 'x' --> <FastTreeValue 0x7fac7f049040>\n",
       "    └── 'c' --> tensor([[ 0.7742,  0.9259,  1.7446,  0.4975],\n",
       "                        [-1.8115, -0.0306,  1.2756, -1.3858],\n",
       "                        [ 1.5749,  0.6550,  0.0993, -0.6405],\n",
       "                        [ 0.7742,  0.9259,  1.7446,  0.4975],\n",
       "                        [-1.8115, -0.0306,  1.2756, -1.3858],\n",
       "                        [ 1.5749,  0.6550,  0.0993, -0.6405],\n",
       "                        [ 0.7742,  0.9259,  1.7446,  0.4975],\n",
       "                        [-1.8115, -0.0306,  1.2756, -1.3858],\n",
       "                        [ 1.5749,  0.6550,  0.0993, -0.6405],\n",
       "                        [ 0.7742,  0.9259,  1.7446,  0.4975],\n",
       "                        [-1.8115, -0.0306,  1.2756, -1.3858],\n",
       "                        [ 1.5749,  0.6550,  0.0993, -0.6405],\n",
       "                        [ 0.7742,  0.9259,  1.7446,  0.4975],\n",
       "                        [-1.8115, -0.0306,  1.2756, -1.3858],\n",
       "                        [ 1.5749,  0.6550,  0.0993, -0.6405],\n",
       "                        [ 0.7742,  0.9259,  1.7446,  0.4975],\n",
       "                        [-1.8115, -0.0306,  1.2756, -1.3858],\n",
       "                        [ 1.5749,  0.6550,  0.0993, -0.6405],\n",
       "                        [ 0.7742,  0.9259,  1.7446,  0.4975],\n",
       "                        [-1.8115, -0.0306,  1.2756, -1.3858],\n",
       "                        [ 1.5749,  0.6550,  0.0993, -0.6405],\n",
       "                        [ 0.7742,  0.9259,  1.7446,  0.4975],\n",
       "                        [-1.8115, -0.0306,  1.2756, -1.3858],\n",
       "                        [ 1.5749,  0.6550,  0.0993, -0.6405]])"
      ]
     },
     "execution_count": 22,
     "metadata": {},
     "output_type": "execute_result"
    }
   ],
   "source": [
    "t_cat = FastTreeValue.func(subside=True)(torch.cat)\n",
    "\n",
    "t_cat(trees)"
   ]
  },
  {
   "cell_type": "code",
   "execution_count": 23,
   "id": "5e9c06a6",
   "metadata": {
    "execution": {
     "iopub.execute_input": "2023-01-20T09:44:04.547119Z",
     "iopub.status.busy": "2023-01-20T09:44:04.546675Z",
     "iopub.status.idle": "2023-01-20T09:44:07.346546Z",
     "shell.execute_reply": "2023-01-20T09:44:07.345718Z"
    }
   },
   "outputs": [
    {
     "name": "stdout",
     "output_type": "stream",
     "text": [
      "34.4 µs ± 464 ns per loop (mean ± std. dev. of 7 runs, 10,000 loops each)\n"
     ]
    }
   ],
   "source": [
    "%timeit t_cat(trees)"
   ]
  },
  {
   "cell_type": "code",
   "execution_count": 24,
   "id": "a3ab5c8f",
   "metadata": {
    "execution": {
     "iopub.execute_input": "2023-01-20T09:44:07.350718Z",
     "iopub.status.busy": "2023-01-20T09:44:07.350196Z",
     "iopub.status.idle": "2023-01-20T09:44:13.133150Z",
     "shell.execute_reply": "2023-01-20T09:44:13.132352Z"
    }
   },
   "outputs": [
    {
     "name": "stdout",
     "output_type": "stream",
     "text": [
      "71.2 µs ± 4.75 µs per loop (mean ± std. dev. of 7 runs, 10,000 loops each)\n"
     ]
    }
   ],
   "source": [
    "t_split = FastTreeValue.func(rise=True)(torch.split)\n",
    "tree = FastTreeValue({\n",
    "    'obs': torch.randn(8, 4, 84, 84),\n",
    "    'action': torch.randint(0, 6, size=(8, 1,)),\n",
    "    'reward': torch.rand(8, 1),\n",
    "})\n",
    "\n",
    "%timeit t_split(tree, 1)"
   ]
  },
  {
   "cell_type": "markdown",
   "id": "31c3ec0b",
   "metadata": {},
   "source": [
    "### Performance of Tianshou Batch"
   ]
  },
  {
   "cell_type": "code",
   "execution_count": 25,
   "id": "9ead828a",
   "metadata": {
    "execution": {
     "iopub.execute_input": "2023-01-20T09:44:13.137087Z",
     "iopub.status.busy": "2023-01-20T09:44:13.136805Z",
     "iopub.status.idle": "2023-01-20T09:44:13.144847Z",
     "shell.execute_reply": "2023-01-20T09:44:13.144004Z"
    }
   },
   "outputs": [
    {
     "data": {
      "text/plain": [
       "Batch(\n",
       "    a: tensor([[[-0.2812, -1.9545, -0.6738],\n",
       "                [ 1.1351,  1.4279,  0.2253]],\n",
       "       \n",
       "               [[-0.2812, -1.9545, -0.6738],\n",
       "                [ 1.1351,  1.4279,  0.2253]],\n",
       "       \n",
       "               [[-0.2812, -1.9545, -0.6738],\n",
       "                [ 1.1351,  1.4279,  0.2253]],\n",
       "       \n",
       "               [[-0.2812, -1.9545, -0.6738],\n",
       "                [ 1.1351,  1.4279,  0.2253]],\n",
       "       \n",
       "               [[-0.2812, -1.9545, -0.6738],\n",
       "                [ 1.1351,  1.4279,  0.2253]],\n",
       "       \n",
       "               [[-0.2812, -1.9545, -0.6738],\n",
       "                [ 1.1351,  1.4279,  0.2253]],\n",
       "       \n",
       "               [[-0.2812, -1.9545, -0.6738],\n",
       "                [ 1.1351,  1.4279,  0.2253]],\n",
       "       \n",
       "               [[-0.2812, -1.9545, -0.6738],\n",
       "                [ 1.1351,  1.4279,  0.2253]]]),\n",
       "    x: Batch(\n",
       "           c: tensor([[[ 0.7742,  0.9259,  1.7446,  0.4975],\n",
       "                       [-1.8115, -0.0306,  1.2756, -1.3858],\n",
       "                       [ 1.5749,  0.6550,  0.0993, -0.6405]],\n",
       "              \n",
       "                      [[ 0.7742,  0.9259,  1.7446,  0.4975],\n",
       "                       [-1.8115, -0.0306,  1.2756, -1.3858],\n",
       "                       [ 1.5749,  0.6550,  0.0993, -0.6405]],\n",
       "              \n",
       "                      [[ 0.7742,  0.9259,  1.7446,  0.4975],\n",
       "                       [-1.8115, -0.0306,  1.2756, -1.3858],\n",
       "                       [ 1.5749,  0.6550,  0.0993, -0.6405]],\n",
       "              \n",
       "                      [[ 0.7742,  0.9259,  1.7446,  0.4975],\n",
       "                       [-1.8115, -0.0306,  1.2756, -1.3858],\n",
       "                       [ 1.5749,  0.6550,  0.0993, -0.6405]],\n",
       "              \n",
       "                      [[ 0.7742,  0.9259,  1.7446,  0.4975],\n",
       "                       [-1.8115, -0.0306,  1.2756, -1.3858],\n",
       "                       [ 1.5749,  0.6550,  0.0993, -0.6405]],\n",
       "              \n",
       "                      [[ 0.7742,  0.9259,  1.7446,  0.4975],\n",
       "                       [-1.8115, -0.0306,  1.2756, -1.3858],\n",
       "                       [ 1.5749,  0.6550,  0.0993, -0.6405]],\n",
       "              \n",
       "                      [[ 0.7742,  0.9259,  1.7446,  0.4975],\n",
       "                       [-1.8115, -0.0306,  1.2756, -1.3858],\n",
       "                       [ 1.5749,  0.6550,  0.0993, -0.6405]],\n",
       "              \n",
       "                      [[ 0.7742,  0.9259,  1.7446,  0.4975],\n",
       "                       [-1.8115, -0.0306,  1.2756, -1.3858],\n",
       "                       [ 1.5749,  0.6550,  0.0993, -0.6405]]]),\n",
       "       ),\n",
       ")"
      ]
     },
     "execution_count": 25,
     "metadata": {},
     "output_type": "execute_result"
    }
   ],
   "source": [
    "batches = [Batch(**_TREE_DATA_2) for _ in range(8)]\n",
    "\n",
    "Batch.stack(batches)"
   ]
  },
  {
   "cell_type": "code",
   "execution_count": 26,
   "id": "ec9037a3",
   "metadata": {
    "execution": {
     "iopub.execute_input": "2023-01-20T09:44:13.148334Z",
     "iopub.status.busy": "2023-01-20T09:44:13.147895Z",
     "iopub.status.idle": "2023-01-20T09:44:20.076310Z",
     "shell.execute_reply": "2023-01-20T09:44:20.075139Z"
    }
   },
   "outputs": [
    {
     "name": "stdout",
     "output_type": "stream",
     "text": [
      "85.3 µs ± 2.61 µs per loop (mean ± std. dev. of 7 runs, 10,000 loops each)\n"
     ]
    }
   ],
   "source": [
    "%timeit Batch.stack(batches)"
   ]
  },
  {
   "cell_type": "code",
   "execution_count": 27,
   "id": "cb8ab77e",
   "metadata": {
    "execution": {
     "iopub.execute_input": "2023-01-20T09:44:20.080448Z",
     "iopub.status.busy": "2023-01-20T09:44:20.080182Z",
     "iopub.status.idle": "2023-01-20T09:44:20.089742Z",
     "shell.execute_reply": "2023-01-20T09:44:20.088681Z"
    }
   },
   "outputs": [
    {
     "data": {
      "text/plain": [
       "Batch(\n",
       "    a: tensor([[-0.2812, -1.9545, -0.6738],\n",
       "               [ 1.1351,  1.4279,  0.2253],\n",
       "               [-0.2812, -1.9545, -0.6738],\n",
       "               [ 1.1351,  1.4279,  0.2253],\n",
       "               [-0.2812, -1.9545, -0.6738],\n",
       "               [ 1.1351,  1.4279,  0.2253],\n",
       "               [-0.2812, -1.9545, -0.6738],\n",
       "               [ 1.1351,  1.4279,  0.2253],\n",
       "               [-0.2812, -1.9545, -0.6738],\n",
       "               [ 1.1351,  1.4279,  0.2253],\n",
       "               [-0.2812, -1.9545, -0.6738],\n",
       "               [ 1.1351,  1.4279,  0.2253],\n",
       "               [-0.2812, -1.9545, -0.6738],\n",
       "               [ 1.1351,  1.4279,  0.2253],\n",
       "               [-0.2812, -1.9545, -0.6738],\n",
       "               [ 1.1351,  1.4279,  0.2253]]),\n",
       "    x: Batch(\n",
       "           c: tensor([[ 0.7742,  0.9259,  1.7446,  0.4975],\n",
       "                      [-1.8115, -0.0306,  1.2756, -1.3858],\n",
       "                      [ 1.5749,  0.6550,  0.0993, -0.6405],\n",
       "                      [ 0.7742,  0.9259,  1.7446,  0.4975],\n",
       "                      [-1.8115, -0.0306,  1.2756, -1.3858],\n",
       "                      [ 1.5749,  0.6550,  0.0993, -0.6405],\n",
       "                      [ 0.7742,  0.9259,  1.7446,  0.4975],\n",
       "                      [-1.8115, -0.0306,  1.2756, -1.3858],\n",
       "                      [ 1.5749,  0.6550,  0.0993, -0.6405],\n",
       "                      [ 0.7742,  0.9259,  1.7446,  0.4975],\n",
       "                      [-1.8115, -0.0306,  1.2756, -1.3858],\n",
       "                      [ 1.5749,  0.6550,  0.0993, -0.6405],\n",
       "                      [ 0.7742,  0.9259,  1.7446,  0.4975],\n",
       "                      [-1.8115, -0.0306,  1.2756, -1.3858],\n",
       "                      [ 1.5749,  0.6550,  0.0993, -0.6405],\n",
       "                      [ 0.7742,  0.9259,  1.7446,  0.4975],\n",
       "                      [-1.8115, -0.0306,  1.2756, -1.3858],\n",
       "                      [ 1.5749,  0.6550,  0.0993, -0.6405],\n",
       "                      [ 0.7742,  0.9259,  1.7446,  0.4975],\n",
       "                      [-1.8115, -0.0306,  1.2756, -1.3858],\n",
       "                      [ 1.5749,  0.6550,  0.0993, -0.6405],\n",
       "                      [ 0.7742,  0.9259,  1.7446,  0.4975],\n",
       "                      [-1.8115, -0.0306,  1.2756, -1.3858],\n",
       "                      [ 1.5749,  0.6550,  0.0993, -0.6405]]),\n",
       "       ),\n",
       ")"
      ]
     },
     "execution_count": 27,
     "metadata": {},
     "output_type": "execute_result"
    }
   ],
   "source": [
    "Batch.cat(batches)"
   ]
  },
  {
   "cell_type": "code",
   "execution_count": 28,
   "id": "18dfb045",
   "metadata": {
    "execution": {
     "iopub.execute_input": "2023-01-20T09:44:20.093554Z",
     "iopub.status.busy": "2023-01-20T09:44:20.093057Z",
     "iopub.status.idle": "2023-01-20T09:44:32.782805Z",
     "shell.execute_reply": "2023-01-20T09:44:32.781780Z"
    }
   },
   "outputs": [
    {
     "name": "stdout",
     "output_type": "stream",
     "text": [
      "157 µs ± 6.97 µs per loop (mean ± std. dev. of 7 runs, 10,000 loops each)\n"
     ]
    }
   ],
   "source": [
    "%timeit Batch.cat(batches)"
   ]
  },
  {
   "cell_type": "code",
   "execution_count": 29,
   "id": "c6688e51",
   "metadata": {
    "execution": {
     "iopub.execute_input": "2023-01-20T09:44:32.786953Z",
     "iopub.status.busy": "2023-01-20T09:44:32.786356Z",
     "iopub.status.idle": "2023-01-20T09:44:36.904445Z",
     "shell.execute_reply": "2023-01-20T09:44:36.903619Z"
    }
   },
   "outputs": [
    {
     "name": "stdout",
     "output_type": "stream",
     "text": [
      "486 µs ± 42.4 µs per loop (mean ± std. dev. of 7 runs, 1,000 loops each)\n"
     ]
    }
   ],
   "source": [
    "batch = Batch({\n",
    "    'obs': torch.randn(8, 4, 84, 84),\n",
    "    'action': torch.randint(0, 6, size=(8, 1,)),\n",
    "    'reward': torch.rand(8, 1)}\n",
    ")\n",
    "\n",
    "%timeit list(Batch.split(batch, 1, shuffle=False, merge_last=True))"
   ]
  },
  {
   "cell_type": "code",
   "execution_count": null,
   "id": "2539fbd9",
   "metadata": {},
   "outputs": [],
   "source": []
  }
 ],
 "metadata": {
  "kernelspec": {
   "display_name": "Python 3 (ipykernel)",
   "language": "python",
   "name": "python3"
  },
  "language_info": {
   "codemirror_mode": {
    "name": "ipython",
    "version": 3
   },
   "file_extension": ".py",
   "mimetype": "text/x-python",
   "name": "python",
   "nbconvert_exporter": "python",
   "pygments_lexer": "ipython3",
   "version": "3.8.16"
  }
 },
 "nbformat": 4,
 "nbformat_minor": 5
}
