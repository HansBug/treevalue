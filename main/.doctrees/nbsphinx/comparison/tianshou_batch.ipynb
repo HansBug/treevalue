{
 "cells": [
  {
   "cell_type": "markdown",
   "id": "9d39d946",
   "metadata": {},
   "source": [
    "# Comparison Between TreeValue and Tianshou Batch"
   ]
  },
  {
   "cell_type": "markdown",
   "id": "3c6db2d4",
   "metadata": {},
   "source": [
    "In this section, we will take a look at the feature and performance of the [Tianshou Batch](https://github.com/thu-ml/tianshou) library, which is developed by Tsinghua Machine Learning Group."
   ]
  },
  {
   "cell_type": "markdown",
   "id": "069361b0",
   "metadata": {},
   "source": [
    "Before starting the comparison, let us define some thing."
   ]
  },
  {
   "cell_type": "code",
   "execution_count": 1,
   "id": "06fc8d26",
   "metadata": {
    "execution": {
     "iopub.execute_input": "2023-02-12T18:28:01.143444Z",
     "iopub.status.busy": "2023-02-12T18:28:01.142855Z",
     "iopub.status.idle": "2023-02-12T18:28:02.322454Z",
     "shell.execute_reply": "2023-02-12T18:28:02.321554Z"
    }
   },
   "outputs": [
    {
     "name": "stderr",
     "output_type": "stream",
     "text": [
      "/opt/hostedtoolcache/Python/3.8.16/x64/lib/python3.8/site-packages/tqdm/auto.py:22: TqdmWarning: IProgress not found. Please update jupyter and ipywidgets. See https://ipywidgets.readthedocs.io/en/stable/user_install.html\n",
      "  from .autonotebook import tqdm as notebook_tqdm\n"
     ]
    }
   ],
   "source": [
    "import torch \n",
    "\n",
    "_TREE_DATA_1 = {'a': 1, 'b': 2, 'x': {'c': 3, 'd': 4}}\n",
    "_TREE_DATA_2 = {\n",
    "    'a': torch.randn(2, 3), \n",
    "    'x': {\n",
    "        'c': torch.randn(3, 4)\n",
    "    },\n",
    "}\n",
    "_TREE_DATA_3 = {\n",
    "    'obs': torch.randn(4, 84, 84),\n",
    "    'action': torch.randint(0, 6, size=(1,)),\n",
    "    'reward': torch.rand(1),\n",
    "}"
   ]
  },
  {
   "cell_type": "markdown",
   "id": "83461b25",
   "metadata": {},
   "source": [
    "## Read and Write Operation"
   ]
  },
  {
   "cell_type": "markdown",
   "id": "067b3f73",
   "metadata": {},
   "source": [
    "Reading and writing are the two most common operations in the tree data structure based on the data model (TreeValue and Tianshou Batch both belong to this type), so this section will compare the reading and writing performance of these two libraries."
   ]
  },
  {
   "cell_type": "markdown",
   "id": "5d09a5b7",
   "metadata": {},
   "source": [
    "### TreeValue's Get and Set"
   ]
  },
  {
   "cell_type": "code",
   "execution_count": 2,
   "id": "9519c4bb",
   "metadata": {
    "execution": {
     "iopub.execute_input": "2023-02-12T18:28:02.326696Z",
     "iopub.status.busy": "2023-02-12T18:28:02.326040Z",
     "iopub.status.idle": "2023-02-12T18:28:02.365920Z",
     "shell.execute_reply": "2023-02-12T18:28:02.365054Z"
    }
   },
   "outputs": [],
   "source": [
    "from treevalue import FastTreeValue\n",
    "\n",
    "t = FastTreeValue(_TREE_DATA_2)"
   ]
  },
  {
   "cell_type": "code",
   "execution_count": 3,
   "id": "11c37677",
   "metadata": {
    "execution": {
     "iopub.execute_input": "2023-02-12T18:28:02.370538Z",
     "iopub.status.busy": "2023-02-12T18:28:02.369751Z",
     "iopub.status.idle": "2023-02-12T18:28:02.382218Z",
     "shell.execute_reply": "2023-02-12T18:28:02.381481Z"
    }
   },
   "outputs": [
    {
     "data": {
      "text/plain": [
       "<FastTreeValue 0x7f5a9a8afaf0>\n",
       "├── 'a' --> tensor([[-0.6694, -0.8235, -0.0858],\n",
       "│                   [ 0.6345,  0.8203,  0.1235]])\n",
       "└── 'x' --> <FastTreeValue 0x7f5a9a8afa30>\n",
       "    └── 'c' --> tensor([[-1.2600, -1.0089, -0.3291, -0.0543],\n",
       "                        [-0.7754, -0.9687, -2.4649,  0.4630],\n",
       "                        [ 0.9184,  0.7694, -1.2430, -1.7048]])"
      ]
     },
     "execution_count": 3,
     "metadata": {},
     "output_type": "execute_result"
    }
   ],
   "source": [
    "t"
   ]
  },
  {
   "cell_type": "code",
   "execution_count": 4,
   "id": "fd70b0b9",
   "metadata": {
    "execution": {
     "iopub.execute_input": "2023-02-12T18:28:02.385648Z",
     "iopub.status.busy": "2023-02-12T18:28:02.385237Z",
     "iopub.status.idle": "2023-02-12T18:28:02.392538Z",
     "shell.execute_reply": "2023-02-12T18:28:02.391890Z"
    }
   },
   "outputs": [
    {
     "data": {
      "text/plain": [
       "tensor([[-0.6694, -0.8235, -0.0858],\n",
       "        [ 0.6345,  0.8203,  0.1235]])"
      ]
     },
     "execution_count": 4,
     "metadata": {},
     "output_type": "execute_result"
    }
   ],
   "source": [
    "t.a"
   ]
  },
  {
   "cell_type": "code",
   "execution_count": 5,
   "id": "c18197bd",
   "metadata": {
    "execution": {
     "iopub.execute_input": "2023-02-12T18:28:02.395301Z",
     "iopub.status.busy": "2023-02-12T18:28:02.395031Z",
     "iopub.status.idle": "2023-02-12T18:28:08.504334Z",
     "shell.execute_reply": "2023-02-12T18:28:08.503228Z"
    }
   },
   "outputs": [
    {
     "name": "stdout",
     "output_type": "stream",
     "text": [
      "75.2 ns ± 0.537 ns per loop (mean ± std. dev. of 7 runs, 10,000,000 loops each)\n"
     ]
    }
   ],
   "source": [
    "%timeit t.a"
   ]
  },
  {
   "cell_type": "code",
   "execution_count": 6,
   "id": "bd52f867",
   "metadata": {
    "execution": {
     "iopub.execute_input": "2023-02-12T18:28:08.508272Z",
     "iopub.status.busy": "2023-02-12T18:28:08.507619Z",
     "iopub.status.idle": "2023-02-12T18:28:08.515714Z",
     "shell.execute_reply": "2023-02-12T18:28:08.514948Z"
    }
   },
   "outputs": [
    {
     "data": {
      "text/plain": [
       "<FastTreeValue 0x7f5a9a8afaf0>\n",
       "├── 'a' --> tensor([[-0.1137,  2.4439,  0.0168],\n",
       "│                   [ 0.7883,  0.5226, -0.0136]])\n",
       "└── 'x' --> <FastTreeValue 0x7f5a9a8afa30>\n",
       "    └── 'c' --> tensor([[-1.2600, -1.0089, -0.3291, -0.0543],\n",
       "                        [-0.7754, -0.9687, -2.4649,  0.4630],\n",
       "                        [ 0.9184,  0.7694, -1.2430, -1.7048]])"
      ]
     },
     "execution_count": 6,
     "metadata": {},
     "output_type": "execute_result"
    }
   ],
   "source": [
    "new_value = torch.randn(2, 3)\n",
    "t.a = new_value\n",
    "\n",
    "t"
   ]
  },
  {
   "cell_type": "code",
   "execution_count": 7,
   "id": "bbe04d1c",
   "metadata": {
    "execution": {
     "iopub.execute_input": "2023-02-12T18:28:08.519086Z",
     "iopub.status.busy": "2023-02-12T18:28:08.518707Z",
     "iopub.status.idle": "2023-02-12T18:28:15.885549Z",
     "shell.execute_reply": "2023-02-12T18:28:15.884525Z"
    }
   },
   "outputs": [
    {
     "name": "stdout",
     "output_type": "stream",
     "text": [
      "90 ns ± 0.548 ns per loop (mean ± std. dev. of 7 runs, 10,000,000 loops each)\n"
     ]
    }
   ],
   "source": [
    "%timeit t.a = new_value"
   ]
  },
  {
   "cell_type": "markdown",
   "id": "48c49731",
   "metadata": {},
   "source": [
    "### Tianshou Batch's Get and Set"
   ]
  },
  {
   "cell_type": "code",
   "execution_count": 8,
   "id": "f1bb14c1",
   "metadata": {
    "execution": {
     "iopub.execute_input": "2023-02-12T18:28:15.889767Z",
     "iopub.status.busy": "2023-02-12T18:28:15.889279Z",
     "iopub.status.idle": "2023-02-12T18:28:16.324068Z",
     "shell.execute_reply": "2023-02-12T18:28:16.323022Z"
    }
   },
   "outputs": [],
   "source": [
    "from tianshou.data import Batch\n",
    "\n",
    "b = Batch(**_TREE_DATA_2)"
   ]
  },
  {
   "cell_type": "code",
   "execution_count": 9,
   "id": "cb0777c3",
   "metadata": {
    "execution": {
     "iopub.execute_input": "2023-02-12T18:28:16.328372Z",
     "iopub.status.busy": "2023-02-12T18:28:16.327778Z",
     "iopub.status.idle": "2023-02-12T18:28:16.335575Z",
     "shell.execute_reply": "2023-02-12T18:28:16.334862Z"
    }
   },
   "outputs": [
    {
     "data": {
      "text/plain": [
       "Batch(\n",
       "    a: tensor([[-0.6694, -0.8235, -0.0858],\n",
       "               [ 0.6345,  0.8203,  0.1235]]),\n",
       "    x: Batch(\n",
       "           c: tensor([[-1.2600, -1.0089, -0.3291, -0.0543],\n",
       "                      [-0.7754, -0.9687, -2.4649,  0.4630],\n",
       "                      [ 0.9184,  0.7694, -1.2430, -1.7048]]),\n",
       "       ),\n",
       ")"
      ]
     },
     "execution_count": 9,
     "metadata": {},
     "output_type": "execute_result"
    }
   ],
   "source": [
    "b"
   ]
  },
  {
   "cell_type": "code",
   "execution_count": 10,
   "id": "43ef8ea3",
   "metadata": {
    "execution": {
     "iopub.execute_input": "2023-02-12T18:28:16.339266Z",
     "iopub.status.busy": "2023-02-12T18:28:16.338855Z",
     "iopub.status.idle": "2023-02-12T18:28:16.344374Z",
     "shell.execute_reply": "2023-02-12T18:28:16.343593Z"
    }
   },
   "outputs": [
    {
     "data": {
      "text/plain": [
       "tensor([[-0.6694, -0.8235, -0.0858],\n",
       "        [ 0.6345,  0.8203,  0.1235]])"
      ]
     },
     "execution_count": 10,
     "metadata": {},
     "output_type": "execute_result"
    }
   ],
   "source": [
    "b.a"
   ]
  },
  {
   "cell_type": "code",
   "execution_count": 11,
   "id": "b785ab72",
   "metadata": {
    "execution": {
     "iopub.execute_input": "2023-02-12T18:28:16.347879Z",
     "iopub.status.busy": "2023-02-12T18:28:16.347274Z",
     "iopub.status.idle": "2023-02-12T18:28:22.303767Z",
     "shell.execute_reply": "2023-02-12T18:28:22.302573Z"
    }
   },
   "outputs": [
    {
     "name": "stdout",
     "output_type": "stream",
     "text": [
      "72.1 ns ± 2.99 ns per loop (mean ± std. dev. of 7 runs, 10,000,000 loops each)\n"
     ]
    }
   ],
   "source": [
    "%timeit b.a"
   ]
  },
  {
   "cell_type": "code",
   "execution_count": 12,
   "id": "ad54dc69",
   "metadata": {
    "execution": {
     "iopub.execute_input": "2023-02-12T18:28:22.307641Z",
     "iopub.status.busy": "2023-02-12T18:28:22.307051Z",
     "iopub.status.idle": "2023-02-12T18:28:22.314431Z",
     "shell.execute_reply": "2023-02-12T18:28:22.313637Z"
    }
   },
   "outputs": [
    {
     "data": {
      "text/plain": [
       "Batch(\n",
       "    a: tensor([[-0.7292, -0.4783, -0.2165],\n",
       "               [ 1.2986, -0.1175,  0.2131]]),\n",
       "    x: Batch(\n",
       "           c: tensor([[-1.2600, -1.0089, -0.3291, -0.0543],\n",
       "                      [-0.7754, -0.9687, -2.4649,  0.4630],\n",
       "                      [ 0.9184,  0.7694, -1.2430, -1.7048]]),\n",
       "       ),\n",
       ")"
      ]
     },
     "execution_count": 12,
     "metadata": {},
     "output_type": "execute_result"
    }
   ],
   "source": [
    "new_value = torch.randn(2, 3)\n",
    "b.a = new_value\n",
    "\n",
    "b"
   ]
  },
  {
   "cell_type": "code",
   "execution_count": 13,
   "id": "29b1d0bf",
   "metadata": {
    "execution": {
     "iopub.execute_input": "2023-02-12T18:28:22.317646Z",
     "iopub.status.busy": "2023-02-12T18:28:22.316880Z",
     "iopub.status.idle": "2023-02-12T18:28:27.294437Z",
     "shell.execute_reply": "2023-02-12T18:28:27.293447Z"
    }
   },
   "outputs": [
    {
     "name": "stdout",
     "output_type": "stream",
     "text": [
      "609 ns ± 30.7 ns per loop (mean ± std. dev. of 7 runs, 1,000,000 loops each)\n"
     ]
    }
   ],
   "source": [
    "%timeit b.a = new_value"
   ]
  },
  {
   "cell_type": "markdown",
   "id": "b61ad1d0",
   "metadata": {},
   "source": [
    "## Initialization"
   ]
  },
  {
   "cell_type": "markdown",
   "id": "d70f0d54",
   "metadata": {},
   "source": [
    "### TreeValue's Initialization"
   ]
  },
  {
   "cell_type": "code",
   "execution_count": 14,
   "id": "d32a679b",
   "metadata": {
    "execution": {
     "iopub.execute_input": "2023-02-12T18:28:27.298199Z",
     "iopub.status.busy": "2023-02-12T18:28:27.297725Z",
     "iopub.status.idle": "2023-02-12T18:28:35.028870Z",
     "shell.execute_reply": "2023-02-12T18:28:35.027839Z"
    }
   },
   "outputs": [
    {
     "name": "stdout",
     "output_type": "stream",
     "text": [
      "951 ns ± 4.86 ns per loop (mean ± std. dev. of 7 runs, 1,000,000 loops each)\n"
     ]
    }
   ],
   "source": [
    "%timeit FastTreeValue(_TREE_DATA_1)"
   ]
  },
  {
   "cell_type": "markdown",
   "id": "24f3707b",
   "metadata": {},
   "source": [
    "### Tianshou Batch's Initialization"
   ]
  },
  {
   "cell_type": "code",
   "execution_count": 15,
   "id": "ac3958df",
   "metadata": {
    "execution": {
     "iopub.execute_input": "2023-02-12T18:28:35.033256Z",
     "iopub.status.busy": "2023-02-12T18:28:35.032409Z",
     "iopub.status.idle": "2023-02-12T18:28:44.780217Z",
     "shell.execute_reply": "2023-02-12T18:28:44.779306Z"
    }
   },
   "outputs": [
    {
     "name": "stdout",
     "output_type": "stream",
     "text": [
      "12 µs ± 62.1 ns per loop (mean ± std. dev. of 7 runs, 100,000 loops each)\n"
     ]
    }
   ],
   "source": [
    "%timeit Batch(**_TREE_DATA_1)"
   ]
  },
  {
   "cell_type": "markdown",
   "id": "1ab82e2d",
   "metadata": {},
   "source": [
    "## Deep Copy Operation"
   ]
  },
  {
   "cell_type": "code",
   "execution_count": 16,
   "id": "210a9442",
   "metadata": {
    "execution": {
     "iopub.execute_input": "2023-02-12T18:28:44.783812Z",
     "iopub.status.busy": "2023-02-12T18:28:44.783363Z",
     "iopub.status.idle": "2023-02-12T18:28:44.788157Z",
     "shell.execute_reply": "2023-02-12T18:28:44.787376Z"
    }
   },
   "outputs": [],
   "source": [
    "import copy"
   ]
  },
  {
   "cell_type": "markdown",
   "id": "5a736274",
   "metadata": {},
   "source": [
    "### Deep Copy of TreeValue"
   ]
  },
  {
   "cell_type": "code",
   "execution_count": 17,
   "id": "f9bcadd6",
   "metadata": {
    "execution": {
     "iopub.execute_input": "2023-02-12T18:28:44.792400Z",
     "iopub.status.busy": "2023-02-12T18:28:44.791952Z",
     "iopub.status.idle": "2023-02-12T18:28:58.182840Z",
     "shell.execute_reply": "2023-02-12T18:28:58.182122Z"
    }
   },
   "outputs": [
    {
     "name": "stdout",
     "output_type": "stream",
     "text": [
      "165 µs ± 1.28 µs per loop (mean ± std. dev. of 7 runs, 10,000 loops each)\n"
     ]
    }
   ],
   "source": [
    "t3 = FastTreeValue(_TREE_DATA_3)\n",
    "%timeit copy.deepcopy(t3)"
   ]
  },
  {
   "cell_type": "markdown",
   "id": "bf8be7ea",
   "metadata": {},
   "source": [
    "### Deep Copy of Tianshou Batch"
   ]
  },
  {
   "cell_type": "code",
   "execution_count": 18,
   "id": "91998e6f",
   "metadata": {
    "execution": {
     "iopub.execute_input": "2023-02-12T18:28:58.186330Z",
     "iopub.status.busy": "2023-02-12T18:28:58.185811Z",
     "iopub.status.idle": "2023-02-12T18:29:11.438081Z",
     "shell.execute_reply": "2023-02-12T18:29:11.437396Z"
    }
   },
   "outputs": [
    {
     "name": "stdout",
     "output_type": "stream",
     "text": [
      "163 µs ± 1.29 µs per loop (mean ± std. dev. of 7 runs, 10,000 loops each)\n"
     ]
    }
   ],
   "source": [
    "b3 = Batch(**_TREE_DATA_3)\n",
    "%timeit copy.deepcopy(b3)"
   ]
  },
  {
   "cell_type": "markdown",
   "id": "223162fb",
   "metadata": {},
   "source": [
    "## Stack, Concat and Split Operation"
   ]
  },
  {
   "cell_type": "markdown",
   "id": "85fa4a73",
   "metadata": {},
   "source": [
    "### Performance of TreeValue"
   ]
  },
  {
   "cell_type": "code",
   "execution_count": 19,
   "id": "a0c2b697",
   "metadata": {
    "execution": {
     "iopub.execute_input": "2023-02-12T18:29:11.441561Z",
     "iopub.status.busy": "2023-02-12T18:29:11.440995Z",
     "iopub.status.idle": "2023-02-12T18:29:11.444815Z",
     "shell.execute_reply": "2023-02-12T18:29:11.444177Z"
    }
   },
   "outputs": [],
   "source": [
    "trees = [FastTreeValue(_TREE_DATA_2) for _ in range(8)]"
   ]
  },
  {
   "cell_type": "code",
   "execution_count": 20,
   "id": "017ea5a5",
   "metadata": {
    "execution": {
     "iopub.execute_input": "2023-02-12T18:29:11.447694Z",
     "iopub.status.busy": "2023-02-12T18:29:11.447172Z",
     "iopub.status.idle": "2023-02-12T18:29:11.455277Z",
     "shell.execute_reply": "2023-02-12T18:29:11.454654Z"
    }
   },
   "outputs": [
    {
     "data": {
      "text/plain": [
       "<FastTreeValue 0x7f5a9a8af2b0>\n",
       "├── 'a' --> tensor([[[-0.6694, -0.8235, -0.0858],\n",
       "│                    [ 0.6345,  0.8203,  0.1235]],\n",
       "│           \n",
       "│                   [[-0.6694, -0.8235, -0.0858],\n",
       "│                    [ 0.6345,  0.8203,  0.1235]],\n",
       "│           \n",
       "│                   [[-0.6694, -0.8235, -0.0858],\n",
       "│                    [ 0.6345,  0.8203,  0.1235]],\n",
       "│           \n",
       "│                   [[-0.6694, -0.8235, -0.0858],\n",
       "│                    [ 0.6345,  0.8203,  0.1235]],\n",
       "│           \n",
       "│                   [[-0.6694, -0.8235, -0.0858],\n",
       "│                    [ 0.6345,  0.8203,  0.1235]],\n",
       "│           \n",
       "│                   [[-0.6694, -0.8235, -0.0858],\n",
       "│                    [ 0.6345,  0.8203,  0.1235]],\n",
       "│           \n",
       "│                   [[-0.6694, -0.8235, -0.0858],\n",
       "│                    [ 0.6345,  0.8203,  0.1235]],\n",
       "│           \n",
       "│                   [[-0.6694, -0.8235, -0.0858],\n",
       "│                    [ 0.6345,  0.8203,  0.1235]]])\n",
       "└── 'x' --> <FastTreeValue 0x7f5a9a8af670>\n",
       "    └── 'c' --> tensor([[[-1.2600, -1.0089, -0.3291, -0.0543],\n",
       "                         [-0.7754, -0.9687, -2.4649,  0.4630],\n",
       "                         [ 0.9184,  0.7694, -1.2430, -1.7048]],\n",
       "                \n",
       "                        [[-1.2600, -1.0089, -0.3291, -0.0543],\n",
       "                         [-0.7754, -0.9687, -2.4649,  0.4630],\n",
       "                         [ 0.9184,  0.7694, -1.2430, -1.7048]],\n",
       "                \n",
       "                        [[-1.2600, -1.0089, -0.3291, -0.0543],\n",
       "                         [-0.7754, -0.9687, -2.4649,  0.4630],\n",
       "                         [ 0.9184,  0.7694, -1.2430, -1.7048]],\n",
       "                \n",
       "                        [[-1.2600, -1.0089, -0.3291, -0.0543],\n",
       "                         [-0.7754, -0.9687, -2.4649,  0.4630],\n",
       "                         [ 0.9184,  0.7694, -1.2430, -1.7048]],\n",
       "                \n",
       "                        [[-1.2600, -1.0089, -0.3291, -0.0543],\n",
       "                         [-0.7754, -0.9687, -2.4649,  0.4630],\n",
       "                         [ 0.9184,  0.7694, -1.2430, -1.7048]],\n",
       "                \n",
       "                        [[-1.2600, -1.0089, -0.3291, -0.0543],\n",
       "                         [-0.7754, -0.9687, -2.4649,  0.4630],\n",
       "                         [ 0.9184,  0.7694, -1.2430, -1.7048]],\n",
       "                \n",
       "                        [[-1.2600, -1.0089, -0.3291, -0.0543],\n",
       "                         [-0.7754, -0.9687, -2.4649,  0.4630],\n",
       "                         [ 0.9184,  0.7694, -1.2430, -1.7048]],\n",
       "                \n",
       "                        [[-1.2600, -1.0089, -0.3291, -0.0543],\n",
       "                         [-0.7754, -0.9687, -2.4649,  0.4630],\n",
       "                         [ 0.9184,  0.7694, -1.2430, -1.7048]]])"
      ]
     },
     "execution_count": 20,
     "metadata": {},
     "output_type": "execute_result"
    }
   ],
   "source": [
    "t_stack = FastTreeValue.func(subside=True)(torch.stack)\n",
    "\n",
    "t_stack(trees)"
   ]
  },
  {
   "cell_type": "code",
   "execution_count": 21,
   "id": "f8b3f415",
   "metadata": {
    "execution": {
     "iopub.execute_input": "2023-02-12T18:29:11.458322Z",
     "iopub.status.busy": "2023-02-12T18:29:11.457811Z",
     "iopub.status.idle": "2023-02-12T18:29:14.463971Z",
     "shell.execute_reply": "2023-02-12T18:29:14.462666Z"
    }
   },
   "outputs": [
    {
     "name": "stdout",
     "output_type": "stream",
     "text": [
      "37 µs ± 342 ns per loop (mean ± std. dev. of 7 runs, 10,000 loops each)\n"
     ]
    }
   ],
   "source": [
    "%timeit t_stack(trees)"
   ]
  },
  {
   "cell_type": "code",
   "execution_count": 22,
   "id": "94b56771",
   "metadata": {
    "execution": {
     "iopub.execute_input": "2023-02-12T18:29:14.467954Z",
     "iopub.status.busy": "2023-02-12T18:29:14.467236Z",
     "iopub.status.idle": "2023-02-12T18:29:14.476724Z",
     "shell.execute_reply": "2023-02-12T18:29:14.476014Z"
    }
   },
   "outputs": [
    {
     "data": {
      "text/plain": [
       "<FastTreeValue 0x7f5a988286a0>\n",
       "├── 'a' --> tensor([[-0.6694, -0.8235, -0.0858],\n",
       "│                   [ 0.6345,  0.8203,  0.1235],\n",
       "│                   [-0.6694, -0.8235, -0.0858],\n",
       "│                   [ 0.6345,  0.8203,  0.1235],\n",
       "│                   [-0.6694, -0.8235, -0.0858],\n",
       "│                   [ 0.6345,  0.8203,  0.1235],\n",
       "│                   [-0.6694, -0.8235, -0.0858],\n",
       "│                   [ 0.6345,  0.8203,  0.1235],\n",
       "│                   [-0.6694, -0.8235, -0.0858],\n",
       "│                   [ 0.6345,  0.8203,  0.1235],\n",
       "│                   [-0.6694, -0.8235, -0.0858],\n",
       "│                   [ 0.6345,  0.8203,  0.1235],\n",
       "│                   [-0.6694, -0.8235, -0.0858],\n",
       "│                   [ 0.6345,  0.8203,  0.1235],\n",
       "│                   [-0.6694, -0.8235, -0.0858],\n",
       "│                   [ 0.6345,  0.8203,  0.1235]])\n",
       "└── 'x' --> <FastTreeValue 0x7f5a6ccc2c70>\n",
       "    └── 'c' --> tensor([[-1.2600, -1.0089, -0.3291, -0.0543],\n",
       "                        [-0.7754, -0.9687, -2.4649,  0.4630],\n",
       "                        [ 0.9184,  0.7694, -1.2430, -1.7048],\n",
       "                        [-1.2600, -1.0089, -0.3291, -0.0543],\n",
       "                        [-0.7754, -0.9687, -2.4649,  0.4630],\n",
       "                        [ 0.9184,  0.7694, -1.2430, -1.7048],\n",
       "                        [-1.2600, -1.0089, -0.3291, -0.0543],\n",
       "                        [-0.7754, -0.9687, -2.4649,  0.4630],\n",
       "                        [ 0.9184,  0.7694, -1.2430, -1.7048],\n",
       "                        [-1.2600, -1.0089, -0.3291, -0.0543],\n",
       "                        [-0.7754, -0.9687, -2.4649,  0.4630],\n",
       "                        [ 0.9184,  0.7694, -1.2430, -1.7048],\n",
       "                        [-1.2600, -1.0089, -0.3291, -0.0543],\n",
       "                        [-0.7754, -0.9687, -2.4649,  0.4630],\n",
       "                        [ 0.9184,  0.7694, -1.2430, -1.7048],\n",
       "                        [-1.2600, -1.0089, -0.3291, -0.0543],\n",
       "                        [-0.7754, -0.9687, -2.4649,  0.4630],\n",
       "                        [ 0.9184,  0.7694, -1.2430, -1.7048],\n",
       "                        [-1.2600, -1.0089, -0.3291, -0.0543],\n",
       "                        [-0.7754, -0.9687, -2.4649,  0.4630],\n",
       "                        [ 0.9184,  0.7694, -1.2430, -1.7048],\n",
       "                        [-1.2600, -1.0089, -0.3291, -0.0543],\n",
       "                        [-0.7754, -0.9687, -2.4649,  0.4630],\n",
       "                        [ 0.9184,  0.7694, -1.2430, -1.7048]])"
      ]
     },
     "execution_count": 22,
     "metadata": {},
     "output_type": "execute_result"
    }
   ],
   "source": [
    "t_cat = FastTreeValue.func(subside=True)(torch.cat)\n",
    "\n",
    "t_cat(trees)"
   ]
  },
  {
   "cell_type": "code",
   "execution_count": 23,
   "id": "5e9c06a6",
   "metadata": {
    "execution": {
     "iopub.execute_input": "2023-02-12T18:29:14.479861Z",
     "iopub.status.busy": "2023-02-12T18:29:14.479495Z",
     "iopub.status.idle": "2023-02-12T18:29:17.274559Z",
     "shell.execute_reply": "2023-02-12T18:29:17.273626Z"
    }
   },
   "outputs": [
    {
     "name": "stdout",
     "output_type": "stream",
     "text": [
      "34.3 µs ± 248 ns per loop (mean ± std. dev. of 7 runs, 10,000 loops each)\n"
     ]
    }
   ],
   "source": [
    "%timeit t_cat(trees)"
   ]
  },
  {
   "cell_type": "code",
   "execution_count": 24,
   "id": "a3ab5c8f",
   "metadata": {
    "execution": {
     "iopub.execute_input": "2023-02-12T18:29:17.278451Z",
     "iopub.status.busy": "2023-02-12T18:29:17.277753Z",
     "iopub.status.idle": "2023-02-12T18:29:22.993592Z",
     "shell.execute_reply": "2023-02-12T18:29:22.992739Z"
    }
   },
   "outputs": [
    {
     "name": "stdout",
     "output_type": "stream",
     "text": [
      "70.6 µs ± 1.95 µs per loop (mean ± std. dev. of 7 runs, 10,000 loops each)\n"
     ]
    }
   ],
   "source": [
    "t_split = FastTreeValue.func(rise=True)(torch.split)\n",
    "tree = FastTreeValue({\n",
    "    'obs': torch.randn(8, 4, 84, 84),\n",
    "    'action': torch.randint(0, 6, size=(8, 1,)),\n",
    "    'reward': torch.rand(8, 1),\n",
    "})\n",
    "\n",
    "%timeit t_split(tree, 1)"
   ]
  },
  {
   "cell_type": "markdown",
   "id": "31c3ec0b",
   "metadata": {},
   "source": [
    "### Performance of Tianshou Batch"
   ]
  },
  {
   "cell_type": "code",
   "execution_count": 25,
   "id": "9ead828a",
   "metadata": {
    "execution": {
     "iopub.execute_input": "2023-02-12T18:29:22.997592Z",
     "iopub.status.busy": "2023-02-12T18:29:22.996928Z",
     "iopub.status.idle": "2023-02-12T18:29:23.006596Z",
     "shell.execute_reply": "2023-02-12T18:29:23.005891Z"
    }
   },
   "outputs": [
    {
     "data": {
      "text/plain": [
       "Batch(\n",
       "    x: Batch(\n",
       "           c: tensor([[[-1.2600, -1.0089, -0.3291, -0.0543],\n",
       "                       [-0.7754, -0.9687, -2.4649,  0.4630],\n",
       "                       [ 0.9184,  0.7694, -1.2430, -1.7048]],\n",
       "              \n",
       "                      [[-1.2600, -1.0089, -0.3291, -0.0543],\n",
       "                       [-0.7754, -0.9687, -2.4649,  0.4630],\n",
       "                       [ 0.9184,  0.7694, -1.2430, -1.7048]],\n",
       "              \n",
       "                      [[-1.2600, -1.0089, -0.3291, -0.0543],\n",
       "                       [-0.7754, -0.9687, -2.4649,  0.4630],\n",
       "                       [ 0.9184,  0.7694, -1.2430, -1.7048]],\n",
       "              \n",
       "                      [[-1.2600, -1.0089, -0.3291, -0.0543],\n",
       "                       [-0.7754, -0.9687, -2.4649,  0.4630],\n",
       "                       [ 0.9184,  0.7694, -1.2430, -1.7048]],\n",
       "              \n",
       "                      [[-1.2600, -1.0089, -0.3291, -0.0543],\n",
       "                       [-0.7754, -0.9687, -2.4649,  0.4630],\n",
       "                       [ 0.9184,  0.7694, -1.2430, -1.7048]],\n",
       "              \n",
       "                      [[-1.2600, -1.0089, -0.3291, -0.0543],\n",
       "                       [-0.7754, -0.9687, -2.4649,  0.4630],\n",
       "                       [ 0.9184,  0.7694, -1.2430, -1.7048]],\n",
       "              \n",
       "                      [[-1.2600, -1.0089, -0.3291, -0.0543],\n",
       "                       [-0.7754, -0.9687, -2.4649,  0.4630],\n",
       "                       [ 0.9184,  0.7694, -1.2430, -1.7048]],\n",
       "              \n",
       "                      [[-1.2600, -1.0089, -0.3291, -0.0543],\n",
       "                       [-0.7754, -0.9687, -2.4649,  0.4630],\n",
       "                       [ 0.9184,  0.7694, -1.2430, -1.7048]]]),\n",
       "       ),\n",
       "    a: tensor([[[-0.6694, -0.8235, -0.0858],\n",
       "                [ 0.6345,  0.8203,  0.1235]],\n",
       "       \n",
       "               [[-0.6694, -0.8235, -0.0858],\n",
       "                [ 0.6345,  0.8203,  0.1235]],\n",
       "       \n",
       "               [[-0.6694, -0.8235, -0.0858],\n",
       "                [ 0.6345,  0.8203,  0.1235]],\n",
       "       \n",
       "               [[-0.6694, -0.8235, -0.0858],\n",
       "                [ 0.6345,  0.8203,  0.1235]],\n",
       "       \n",
       "               [[-0.6694, -0.8235, -0.0858],\n",
       "                [ 0.6345,  0.8203,  0.1235]],\n",
       "       \n",
       "               [[-0.6694, -0.8235, -0.0858],\n",
       "                [ 0.6345,  0.8203,  0.1235]],\n",
       "       \n",
       "               [[-0.6694, -0.8235, -0.0858],\n",
       "                [ 0.6345,  0.8203,  0.1235]],\n",
       "       \n",
       "               [[-0.6694, -0.8235, -0.0858],\n",
       "                [ 0.6345,  0.8203,  0.1235]]]),\n",
       ")"
      ]
     },
     "execution_count": 25,
     "metadata": {},
     "output_type": "execute_result"
    }
   ],
   "source": [
    "batches = [Batch(**_TREE_DATA_2) for _ in range(8)]\n",
    "\n",
    "Batch.stack(batches)"
   ]
  },
  {
   "cell_type": "code",
   "execution_count": 26,
   "id": "ec9037a3",
   "metadata": {
    "execution": {
     "iopub.execute_input": "2023-02-12T18:29:23.009884Z",
     "iopub.status.busy": "2023-02-12T18:29:23.009192Z",
     "iopub.status.idle": "2023-02-12T18:29:32.067291Z",
     "shell.execute_reply": "2023-02-12T18:29:32.066300Z"
    }
   },
   "outputs": [
    {
     "name": "stdout",
     "output_type": "stream",
     "text": [
      "112 µs ± 730 ns per loop (mean ± std. dev. of 7 runs, 10,000 loops each)\n"
     ]
    }
   ],
   "source": [
    "%timeit Batch.stack(batches)"
   ]
  },
  {
   "cell_type": "code",
   "execution_count": 27,
   "id": "cb8ab77e",
   "metadata": {
    "execution": {
     "iopub.execute_input": "2023-02-12T18:29:32.071556Z",
     "iopub.status.busy": "2023-02-12T18:29:32.070827Z",
     "iopub.status.idle": "2023-02-12T18:29:32.080010Z",
     "shell.execute_reply": "2023-02-12T18:29:32.079259Z"
    }
   },
   "outputs": [
    {
     "data": {
      "text/plain": [
       "Batch(\n",
       "    x: Batch(\n",
       "           c: tensor([[-1.2600, -1.0089, -0.3291, -0.0543],\n",
       "                      [-0.7754, -0.9687, -2.4649,  0.4630],\n",
       "                      [ 0.9184,  0.7694, -1.2430, -1.7048],\n",
       "                      [-1.2600, -1.0089, -0.3291, -0.0543],\n",
       "                      [-0.7754, -0.9687, -2.4649,  0.4630],\n",
       "                      [ 0.9184,  0.7694, -1.2430, -1.7048],\n",
       "                      [-1.2600, -1.0089, -0.3291, -0.0543],\n",
       "                      [-0.7754, -0.9687, -2.4649,  0.4630],\n",
       "                      [ 0.9184,  0.7694, -1.2430, -1.7048],\n",
       "                      [-1.2600, -1.0089, -0.3291, -0.0543],\n",
       "                      [-0.7754, -0.9687, -2.4649,  0.4630],\n",
       "                      [ 0.9184,  0.7694, -1.2430, -1.7048],\n",
       "                      [-1.2600, -1.0089, -0.3291, -0.0543],\n",
       "                      [-0.7754, -0.9687, -2.4649,  0.4630],\n",
       "                      [ 0.9184,  0.7694, -1.2430, -1.7048],\n",
       "                      [-1.2600, -1.0089, -0.3291, -0.0543],\n",
       "                      [-0.7754, -0.9687, -2.4649,  0.4630],\n",
       "                      [ 0.9184,  0.7694, -1.2430, -1.7048],\n",
       "                      [-1.2600, -1.0089, -0.3291, -0.0543],\n",
       "                      [-0.7754, -0.9687, -2.4649,  0.4630],\n",
       "                      [ 0.9184,  0.7694, -1.2430, -1.7048],\n",
       "                      [-1.2600, -1.0089, -0.3291, -0.0543],\n",
       "                      [-0.7754, -0.9687, -2.4649,  0.4630],\n",
       "                      [ 0.9184,  0.7694, -1.2430, -1.7048]]),\n",
       "       ),\n",
       "    a: tensor([[-0.6694, -0.8235, -0.0858],\n",
       "               [ 0.6345,  0.8203,  0.1235],\n",
       "               [-0.6694, -0.8235, -0.0858],\n",
       "               [ 0.6345,  0.8203,  0.1235],\n",
       "               [-0.6694, -0.8235, -0.0858],\n",
       "               [ 0.6345,  0.8203,  0.1235],\n",
       "               [-0.6694, -0.8235, -0.0858],\n",
       "               [ 0.6345,  0.8203,  0.1235],\n",
       "               [-0.6694, -0.8235, -0.0858],\n",
       "               [ 0.6345,  0.8203,  0.1235],\n",
       "               [-0.6694, -0.8235, -0.0858],\n",
       "               [ 0.6345,  0.8203,  0.1235],\n",
       "               [-0.6694, -0.8235, -0.0858],\n",
       "               [ 0.6345,  0.8203,  0.1235],\n",
       "               [-0.6694, -0.8235, -0.0858],\n",
       "               [ 0.6345,  0.8203,  0.1235]]),\n",
       ")"
      ]
     },
     "execution_count": 27,
     "metadata": {},
     "output_type": "execute_result"
    }
   ],
   "source": [
    "Batch.cat(batches)"
   ]
  },
  {
   "cell_type": "code",
   "execution_count": 28,
   "id": "18dfb045",
   "metadata": {
    "execution": {
     "iopub.execute_input": "2023-02-12T18:29:32.083291Z",
     "iopub.status.busy": "2023-02-12T18:29:32.082876Z",
     "iopub.status.idle": "2023-02-12T18:29:33.760915Z",
     "shell.execute_reply": "2023-02-12T18:29:33.759969Z"
    }
   },
   "outputs": [
    {
     "name": "stdout",
     "output_type": "stream",
     "text": [
      "205 µs ± 2.99 µs per loop (mean ± std. dev. of 7 runs, 1,000 loops each)\n"
     ]
    }
   ],
   "source": [
    "%timeit Batch.cat(batches)"
   ]
  },
  {
   "cell_type": "code",
   "execution_count": 29,
   "id": "c6688e51",
   "metadata": {
    "execution": {
     "iopub.execute_input": "2023-02-12T18:29:33.764472Z",
     "iopub.status.busy": "2023-02-12T18:29:33.763788Z",
     "iopub.status.idle": "2023-02-12T18:29:36.874765Z",
     "shell.execute_reply": "2023-02-12T18:29:36.874030Z"
    }
   },
   "outputs": [
    {
     "name": "stdout",
     "output_type": "stream",
     "text": [
      "383 µs ± 4.45 µs per loop (mean ± std. dev. of 7 runs, 1,000 loops each)\n"
     ]
    }
   ],
   "source": [
    "batch = Batch({\n",
    "    'obs': torch.randn(8, 4, 84, 84),\n",
    "    'action': torch.randint(0, 6, size=(8, 1,)),\n",
    "    'reward': torch.rand(8, 1)}\n",
    ")\n",
    "\n",
    "%timeit list(Batch.split(batch, 1, shuffle=False, merge_last=True))"
   ]
  },
  {
   "cell_type": "code",
   "execution_count": null,
   "id": "2539fbd9",
   "metadata": {},
   "outputs": [],
   "source": []
  }
 ],
 "metadata": {
  "kernelspec": {
   "display_name": "Python 3 (ipykernel)",
   "language": "python",
   "name": "python3"
  },
  "language_info": {
   "codemirror_mode": {
    "name": "ipython",
    "version": 3
   },
   "file_extension": ".py",
   "mimetype": "text/x-python",
   "name": "python",
   "nbconvert_exporter": "python",
   "pygments_lexer": "ipython3",
   "version": "3.8.16"
  }
 },
 "nbformat": 4,
 "nbformat_minor": 5
}
