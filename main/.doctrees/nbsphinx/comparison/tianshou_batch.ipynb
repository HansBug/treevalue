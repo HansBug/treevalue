{
 "cells": [
  {
   "cell_type": "markdown",
   "id": "9d39d946",
   "metadata": {},
   "source": [
    "# Comparison Between TreeValue and Tianshou Batch"
   ]
  },
  {
   "cell_type": "markdown",
   "id": "3c6db2d4",
   "metadata": {},
   "source": [
    "In this section, we will take a look at the feature and performance of the [Tianshou Batch](https://github.com/thu-ml/tianshou) library, which is developed by Tsinghua Machine Learning Group."
   ]
  },
  {
   "cell_type": "markdown",
   "id": "069361b0",
   "metadata": {},
   "source": [
    "Before starting the comparison, let us define some thing."
   ]
  },
  {
   "cell_type": "code",
   "execution_count": 1,
   "id": "06fc8d26",
   "metadata": {
    "execution": {
     "iopub.execute_input": "2023-02-23T10:58:10.677355Z",
     "iopub.status.busy": "2023-02-23T10:58:10.677067Z",
     "iopub.status.idle": "2023-02-23T10:58:11.840063Z",
     "shell.execute_reply": "2023-02-23T10:58:11.839032Z"
    }
   },
   "outputs": [
    {
     "name": "stderr",
     "output_type": "stream",
     "text": [
      "/opt/hostedtoolcache/Python/3.8.16/x64/lib/python3.8/site-packages/tqdm/auto.py:22: TqdmWarning: IProgress not found. Please update jupyter and ipywidgets. See https://ipywidgets.readthedocs.io/en/stable/user_install.html\n",
      "  from .autonotebook import tqdm as notebook_tqdm\n"
     ]
    }
   ],
   "source": [
    "import torch \n",
    "\n",
    "_TREE_DATA_1 = {'a': 1, 'b': 2, 'x': {'c': 3, 'd': 4}}\n",
    "_TREE_DATA_2 = {\n",
    "    'a': torch.randn(2, 3), \n",
    "    'x': {\n",
    "        'c': torch.randn(3, 4)\n",
    "    },\n",
    "}\n",
    "_TREE_DATA_3 = {\n",
    "    'obs': torch.randn(4, 84, 84),\n",
    "    'action': torch.randint(0, 6, size=(1,)),\n",
    "    'reward': torch.rand(1),\n",
    "}"
   ]
  },
  {
   "cell_type": "markdown",
   "id": "83461b25",
   "metadata": {},
   "source": [
    "## Read and Write Operation"
   ]
  },
  {
   "cell_type": "markdown",
   "id": "067b3f73",
   "metadata": {},
   "source": [
    "Reading and writing are the two most common operations in the tree data structure based on the data model (TreeValue and Tianshou Batch both belong to this type), so this section will compare the reading and writing performance of these two libraries."
   ]
  },
  {
   "cell_type": "markdown",
   "id": "5d09a5b7",
   "metadata": {},
   "source": [
    "### TreeValue's Get and Set"
   ]
  },
  {
   "cell_type": "code",
   "execution_count": 2,
   "id": "9519c4bb",
   "metadata": {
    "execution": {
     "iopub.execute_input": "2023-02-23T10:58:11.844255Z",
     "iopub.status.busy": "2023-02-23T10:58:11.843909Z",
     "iopub.status.idle": "2023-02-23T10:58:11.885504Z",
     "shell.execute_reply": "2023-02-23T10:58:11.884525Z"
    }
   },
   "outputs": [],
   "source": [
    "from treevalue import FastTreeValue\n",
    "\n",
    "t = FastTreeValue(_TREE_DATA_2)"
   ]
  },
  {
   "cell_type": "code",
   "execution_count": 3,
   "id": "11c37677",
   "metadata": {
    "execution": {
     "iopub.execute_input": "2023-02-23T10:58:11.889133Z",
     "iopub.status.busy": "2023-02-23T10:58:11.888857Z",
     "iopub.status.idle": "2023-02-23T10:58:11.900721Z",
     "shell.execute_reply": "2023-02-23T10:58:11.899823Z"
    }
   },
   "outputs": [
    {
     "data": {
      "text/plain": [
       "<FastTreeValue 0x7f787085bbe0>\n",
       "├── 'a' --> tensor([[ 0.4285, -0.6385, -0.9169],\n",
       "│                   [-0.1129,  0.7228, -0.2920]])\n",
       "└── 'x' --> <FastTreeValue 0x7f787085ba60>\n",
       "    └── 'c' --> tensor([[ 1.3590,  0.6017, -1.7111,  1.3381],\n",
       "                        [ 0.3507, -1.1927,  1.8651,  0.6519],\n",
       "                        [-1.0781, -0.9777,  1.1607, -0.9982]])"
      ]
     },
     "execution_count": 3,
     "metadata": {},
     "output_type": "execute_result"
    }
   ],
   "source": [
    "t"
   ]
  },
  {
   "cell_type": "code",
   "execution_count": 4,
   "id": "fd70b0b9",
   "metadata": {
    "execution": {
     "iopub.execute_input": "2023-02-23T10:58:11.904046Z",
     "iopub.status.busy": "2023-02-23T10:58:11.903753Z",
     "iopub.status.idle": "2023-02-23T10:58:11.910783Z",
     "shell.execute_reply": "2023-02-23T10:58:11.909820Z"
    }
   },
   "outputs": [
    {
     "data": {
      "text/plain": [
       "tensor([[ 0.4285, -0.6385, -0.9169],\n",
       "        [-0.1129,  0.7228, -0.2920]])"
      ]
     },
     "execution_count": 4,
     "metadata": {},
     "output_type": "execute_result"
    }
   ],
   "source": [
    "t.a"
   ]
  },
  {
   "cell_type": "code",
   "execution_count": 5,
   "id": "c18197bd",
   "metadata": {
    "execution": {
     "iopub.execute_input": "2023-02-23T10:58:11.914065Z",
     "iopub.status.busy": "2023-02-23T10:58:11.913776Z",
     "iopub.status.idle": "2023-02-23T10:58:17.393349Z",
     "shell.execute_reply": "2023-02-23T10:58:17.392240Z"
    }
   },
   "outputs": [
    {
     "name": "stdout",
     "output_type": "stream",
     "text": [
      "67.3 ns ± 1.1 ns per loop (mean ± std. dev. of 7 runs, 10,000,000 loops each)\n"
     ]
    }
   ],
   "source": [
    "%timeit t.a"
   ]
  },
  {
   "cell_type": "code",
   "execution_count": 6,
   "id": "bd52f867",
   "metadata": {
    "execution": {
     "iopub.execute_input": "2023-02-23T10:58:17.397203Z",
     "iopub.status.busy": "2023-02-23T10:58:17.396420Z",
     "iopub.status.idle": "2023-02-23T10:58:17.405532Z",
     "shell.execute_reply": "2023-02-23T10:58:17.404464Z"
    }
   },
   "outputs": [
    {
     "data": {
      "text/plain": [
       "<FastTreeValue 0x7f787085bbe0>\n",
       "├── 'a' --> tensor([[-1.2857, -0.5086,  0.3192],\n",
       "│                   [-0.8909,  1.6290,  0.6049]])\n",
       "└── 'x' --> <FastTreeValue 0x7f787085ba60>\n",
       "    └── 'c' --> tensor([[ 1.3590,  0.6017, -1.7111,  1.3381],\n",
       "                        [ 0.3507, -1.1927,  1.8651,  0.6519],\n",
       "                        [-1.0781, -0.9777,  1.1607, -0.9982]])"
      ]
     },
     "execution_count": 6,
     "metadata": {},
     "output_type": "execute_result"
    }
   ],
   "source": [
    "new_value = torch.randn(2, 3)\n",
    "t.a = new_value\n",
    "\n",
    "t"
   ]
  },
  {
   "cell_type": "code",
   "execution_count": 7,
   "id": "bbe04d1c",
   "metadata": {
    "execution": {
     "iopub.execute_input": "2023-02-23T10:58:17.408811Z",
     "iopub.status.busy": "2023-02-23T10:58:17.408539Z",
     "iopub.status.idle": "2023-02-23T10:58:23.359329Z",
     "shell.execute_reply": "2023-02-23T10:58:23.358201Z"
    }
   },
   "outputs": [
    {
     "name": "stdout",
     "output_type": "stream",
     "text": [
      "73.5 ns ± 1.16 ns per loop (mean ± std. dev. of 7 runs, 10,000,000 loops each)\n"
     ]
    }
   ],
   "source": [
    "%timeit t.a = new_value"
   ]
  },
  {
   "cell_type": "markdown",
   "id": "48c49731",
   "metadata": {},
   "source": [
    "### Tianshou Batch's Get and Set"
   ]
  },
  {
   "cell_type": "code",
   "execution_count": 8,
   "id": "f1bb14c1",
   "metadata": {
    "execution": {
     "iopub.execute_input": "2023-02-23T10:58:23.363359Z",
     "iopub.status.busy": "2023-02-23T10:58:23.363094Z",
     "iopub.status.idle": "2023-02-23T10:58:23.788678Z",
     "shell.execute_reply": "2023-02-23T10:58:23.787702Z"
    }
   },
   "outputs": [],
   "source": [
    "from tianshou.data import Batch\n",
    "\n",
    "b = Batch(**_TREE_DATA_2)"
   ]
  },
  {
   "cell_type": "code",
   "execution_count": 9,
   "id": "cb0777c3",
   "metadata": {
    "execution": {
     "iopub.execute_input": "2023-02-23T10:58:23.792662Z",
     "iopub.status.busy": "2023-02-23T10:58:23.792201Z",
     "iopub.status.idle": "2023-02-23T10:58:23.800394Z",
     "shell.execute_reply": "2023-02-23T10:58:23.799509Z"
    }
   },
   "outputs": [
    {
     "data": {
      "text/plain": [
       "Batch(\n",
       "    a: tensor([[ 0.4285, -0.6385, -0.9169],\n",
       "               [-0.1129,  0.7228, -0.2920]]),\n",
       "    x: Batch(\n",
       "           c: tensor([[ 1.3590,  0.6017, -1.7111,  1.3381],\n",
       "                      [ 0.3507, -1.1927,  1.8651,  0.6519],\n",
       "                      [-1.0781, -0.9777,  1.1607, -0.9982]]),\n",
       "       ),\n",
       ")"
      ]
     },
     "execution_count": 9,
     "metadata": {},
     "output_type": "execute_result"
    }
   ],
   "source": [
    "b"
   ]
  },
  {
   "cell_type": "code",
   "execution_count": 10,
   "id": "43ef8ea3",
   "metadata": {
    "execution": {
     "iopub.execute_input": "2023-02-23T10:58:23.803886Z",
     "iopub.status.busy": "2023-02-23T10:58:23.803330Z",
     "iopub.status.idle": "2023-02-23T10:58:23.811179Z",
     "shell.execute_reply": "2023-02-23T10:58:23.810348Z"
    }
   },
   "outputs": [
    {
     "data": {
      "text/plain": [
       "tensor([[ 0.4285, -0.6385, -0.9169],\n",
       "        [-0.1129,  0.7228, -0.2920]])"
      ]
     },
     "execution_count": 10,
     "metadata": {},
     "output_type": "execute_result"
    }
   ],
   "source": [
    "b.a"
   ]
  },
  {
   "cell_type": "code",
   "execution_count": 11,
   "id": "b785ab72",
   "metadata": {
    "execution": {
     "iopub.execute_input": "2023-02-23T10:58:23.814101Z",
     "iopub.status.busy": "2023-02-23T10:58:23.813706Z",
     "iopub.status.idle": "2023-02-23T10:58:29.537494Z",
     "shell.execute_reply": "2023-02-23T10:58:29.536173Z"
    }
   },
   "outputs": [
    {
     "name": "stdout",
     "output_type": "stream",
     "text": [
      "69.7 ns ± 0.958 ns per loop (mean ± std. dev. of 7 runs, 10,000,000 loops each)\n"
     ]
    }
   ],
   "source": [
    "%timeit b.a"
   ]
  },
  {
   "cell_type": "code",
   "execution_count": 12,
   "id": "ad54dc69",
   "metadata": {
    "execution": {
     "iopub.execute_input": "2023-02-23T10:58:29.541637Z",
     "iopub.status.busy": "2023-02-23T10:58:29.541382Z",
     "iopub.status.idle": "2023-02-23T10:58:29.549378Z",
     "shell.execute_reply": "2023-02-23T10:58:29.548435Z"
    }
   },
   "outputs": [
    {
     "data": {
      "text/plain": [
       "Batch(\n",
       "    a: tensor([[-1.4461,  1.6867,  1.5129],\n",
       "               [ 0.3874, -0.3588,  0.5670]]),\n",
       "    x: Batch(\n",
       "           c: tensor([[ 1.3590,  0.6017, -1.7111,  1.3381],\n",
       "                      [ 0.3507, -1.1927,  1.8651,  0.6519],\n",
       "                      [-1.0781, -0.9777,  1.1607, -0.9982]]),\n",
       "       ),\n",
       ")"
      ]
     },
     "execution_count": 12,
     "metadata": {},
     "output_type": "execute_result"
    }
   ],
   "source": [
    "new_value = torch.randn(2, 3)\n",
    "b.a = new_value\n",
    "\n",
    "b"
   ]
  },
  {
   "cell_type": "code",
   "execution_count": 13,
   "id": "29b1d0bf",
   "metadata": {
    "execution": {
     "iopub.execute_input": "2023-02-23T10:58:29.553962Z",
     "iopub.status.busy": "2023-02-23T10:58:29.553545Z",
     "iopub.status.idle": "2023-02-23T10:58:34.371991Z",
     "shell.execute_reply": "2023-02-23T10:58:34.370952Z"
    }
   },
   "outputs": [
    {
     "name": "stdout",
     "output_type": "stream",
     "text": [
      "595 ns ± 16.9 ns per loop (mean ± std. dev. of 7 runs, 1,000,000 loops each)\n"
     ]
    }
   ],
   "source": [
    "%timeit b.a = new_value"
   ]
  },
  {
   "cell_type": "markdown",
   "id": "b61ad1d0",
   "metadata": {},
   "source": [
    "## Initialization"
   ]
  },
  {
   "cell_type": "markdown",
   "id": "d70f0d54",
   "metadata": {},
   "source": [
    "### TreeValue's Initialization"
   ]
  },
  {
   "cell_type": "code",
   "execution_count": 14,
   "id": "d32a679b",
   "metadata": {
    "execution": {
     "iopub.execute_input": "2023-02-23T10:58:34.375853Z",
     "iopub.status.busy": "2023-02-23T10:58:34.375547Z",
     "iopub.status.idle": "2023-02-23T10:58:42.198492Z",
     "shell.execute_reply": "2023-02-23T10:58:42.197472Z"
    }
   },
   "outputs": [
    {
     "name": "stdout",
     "output_type": "stream",
     "text": [
      "968 ns ± 13.2 ns per loop (mean ± std. dev. of 7 runs, 1,000,000 loops each)\n"
     ]
    }
   ],
   "source": [
    "%timeit FastTreeValue(_TREE_DATA_1)"
   ]
  },
  {
   "cell_type": "markdown",
   "id": "24f3707b",
   "metadata": {},
   "source": [
    "### Tianshou Batch's Initialization"
   ]
  },
  {
   "cell_type": "code",
   "execution_count": 15,
   "id": "ac3958df",
   "metadata": {
    "execution": {
     "iopub.execute_input": "2023-02-23T10:58:42.202420Z",
     "iopub.status.busy": "2023-02-23T10:58:42.201658Z",
     "iopub.status.idle": "2023-02-23T10:58:52.623432Z",
     "shell.execute_reply": "2023-02-23T10:58:52.622200Z"
    }
   },
   "outputs": [
    {
     "name": "stdout",
     "output_type": "stream",
     "text": [
      "12.9 µs ± 183 ns per loop (mean ± std. dev. of 7 runs, 100,000 loops each)\n"
     ]
    }
   ],
   "source": [
    "%timeit Batch(**_TREE_DATA_1)"
   ]
  },
  {
   "cell_type": "markdown",
   "id": "1ab82e2d",
   "metadata": {},
   "source": [
    "## Deep Copy Operation"
   ]
  },
  {
   "cell_type": "code",
   "execution_count": 16,
   "id": "210a9442",
   "metadata": {
    "execution": {
     "iopub.execute_input": "2023-02-23T10:58:52.627092Z",
     "iopub.status.busy": "2023-02-23T10:58:52.626803Z",
     "iopub.status.idle": "2023-02-23T10:58:52.632081Z",
     "shell.execute_reply": "2023-02-23T10:58:52.631109Z"
    }
   },
   "outputs": [],
   "source": [
    "import copy"
   ]
  },
  {
   "cell_type": "markdown",
   "id": "5a736274",
   "metadata": {},
   "source": [
    "### Deep Copy of TreeValue"
   ]
  },
  {
   "cell_type": "code",
   "execution_count": 17,
   "id": "f9bcadd6",
   "metadata": {
    "execution": {
     "iopub.execute_input": "2023-02-23T10:58:52.636553Z",
     "iopub.status.busy": "2023-02-23T10:58:52.635169Z",
     "iopub.status.idle": "2023-02-23T10:58:54.929664Z",
     "shell.execute_reply": "2023-02-23T10:58:54.928622Z"
    }
   },
   "outputs": [
    {
     "name": "stdout",
     "output_type": "stream",
     "text": [
      "281 µs ± 11.6 µs per loop (mean ± std. dev. of 7 runs, 1,000 loops each)\n"
     ]
    }
   ],
   "source": [
    "t3 = FastTreeValue(_TREE_DATA_3)\n",
    "%timeit copy.deepcopy(t3)"
   ]
  },
  {
   "cell_type": "markdown",
   "id": "bf8be7ea",
   "metadata": {},
   "source": [
    "### Deep Copy of Tianshou Batch"
   ]
  },
  {
   "cell_type": "code",
   "execution_count": 18,
   "id": "91998e6f",
   "metadata": {
    "execution": {
     "iopub.execute_input": "2023-02-23T10:58:54.933697Z",
     "iopub.status.busy": "2023-02-23T10:58:54.933194Z",
     "iopub.status.idle": "2023-02-23T10:58:57.159214Z",
     "shell.execute_reply": "2023-02-23T10:58:57.157958Z"
    }
   },
   "outputs": [
    {
     "name": "stdout",
     "output_type": "stream",
     "text": [
      "273 µs ± 12.1 µs per loop (mean ± std. dev. of 7 runs, 1,000 loops each)\n"
     ]
    }
   ],
   "source": [
    "b3 = Batch(**_TREE_DATA_3)\n",
    "%timeit copy.deepcopy(b3)"
   ]
  },
  {
   "cell_type": "markdown",
   "id": "223162fb",
   "metadata": {},
   "source": [
    "## Stack, Concat and Split Operation"
   ]
  },
  {
   "cell_type": "markdown",
   "id": "85fa4a73",
   "metadata": {},
   "source": [
    "### Performance of TreeValue"
   ]
  },
  {
   "cell_type": "code",
   "execution_count": 19,
   "id": "a0c2b697",
   "metadata": {
    "execution": {
     "iopub.execute_input": "2023-02-23T10:58:57.163009Z",
     "iopub.status.busy": "2023-02-23T10:58:57.162226Z",
     "iopub.status.idle": "2023-02-23T10:58:57.166779Z",
     "shell.execute_reply": "2023-02-23T10:58:57.165945Z"
    }
   },
   "outputs": [],
   "source": [
    "trees = [FastTreeValue(_TREE_DATA_2) for _ in range(8)]"
   ]
  },
  {
   "cell_type": "code",
   "execution_count": 20,
   "id": "017ea5a5",
   "metadata": {
    "execution": {
     "iopub.execute_input": "2023-02-23T10:58:57.169609Z",
     "iopub.status.busy": "2023-02-23T10:58:57.169109Z",
     "iopub.status.idle": "2023-02-23T10:58:57.177942Z",
     "shell.execute_reply": "2023-02-23T10:58:57.177177Z"
    }
   },
   "outputs": [
    {
     "data": {
      "text/plain": [
       "<FastTreeValue 0x7f78708625b0>\n",
       "├── 'a' --> tensor([[[ 0.4285, -0.6385, -0.9169],\n",
       "│                    [-0.1129,  0.7228, -0.2920]],\n",
       "│           \n",
       "│                   [[ 0.4285, -0.6385, -0.9169],\n",
       "│                    [-0.1129,  0.7228, -0.2920]],\n",
       "│           \n",
       "│                   [[ 0.4285, -0.6385, -0.9169],\n",
       "│                    [-0.1129,  0.7228, -0.2920]],\n",
       "│           \n",
       "│                   [[ 0.4285, -0.6385, -0.9169],\n",
       "│                    [-0.1129,  0.7228, -0.2920]],\n",
       "│           \n",
       "│                   [[ 0.4285, -0.6385, -0.9169],\n",
       "│                    [-0.1129,  0.7228, -0.2920]],\n",
       "│           \n",
       "│                   [[ 0.4285, -0.6385, -0.9169],\n",
       "│                    [-0.1129,  0.7228, -0.2920]],\n",
       "│           \n",
       "│                   [[ 0.4285, -0.6385, -0.9169],\n",
       "│                    [-0.1129,  0.7228, -0.2920]],\n",
       "│           \n",
       "│                   [[ 0.4285, -0.6385, -0.9169],\n",
       "│                    [-0.1129,  0.7228, -0.2920]]])\n",
       "└── 'x' --> <FastTreeValue 0x7f7870862fa0>\n",
       "    └── 'c' --> tensor([[[ 1.3590,  0.6017, -1.7111,  1.3381],\n",
       "                         [ 0.3507, -1.1927,  1.8651,  0.6519],\n",
       "                         [-1.0781, -0.9777,  1.1607, -0.9982]],\n",
       "                \n",
       "                        [[ 1.3590,  0.6017, -1.7111,  1.3381],\n",
       "                         [ 0.3507, -1.1927,  1.8651,  0.6519],\n",
       "                         [-1.0781, -0.9777,  1.1607, -0.9982]],\n",
       "                \n",
       "                        [[ 1.3590,  0.6017, -1.7111,  1.3381],\n",
       "                         [ 0.3507, -1.1927,  1.8651,  0.6519],\n",
       "                         [-1.0781, -0.9777,  1.1607, -0.9982]],\n",
       "                \n",
       "                        [[ 1.3590,  0.6017, -1.7111,  1.3381],\n",
       "                         [ 0.3507, -1.1927,  1.8651,  0.6519],\n",
       "                         [-1.0781, -0.9777,  1.1607, -0.9982]],\n",
       "                \n",
       "                        [[ 1.3590,  0.6017, -1.7111,  1.3381],\n",
       "                         [ 0.3507, -1.1927,  1.8651,  0.6519],\n",
       "                         [-1.0781, -0.9777,  1.1607, -0.9982]],\n",
       "                \n",
       "                        [[ 1.3590,  0.6017, -1.7111,  1.3381],\n",
       "                         [ 0.3507, -1.1927,  1.8651,  0.6519],\n",
       "                         [-1.0781, -0.9777,  1.1607, -0.9982]],\n",
       "                \n",
       "                        [[ 1.3590,  0.6017, -1.7111,  1.3381],\n",
       "                         [ 0.3507, -1.1927,  1.8651,  0.6519],\n",
       "                         [-1.0781, -0.9777,  1.1607, -0.9982]],\n",
       "                \n",
       "                        [[ 1.3590,  0.6017, -1.7111,  1.3381],\n",
       "                         [ 0.3507, -1.1927,  1.8651,  0.6519],\n",
       "                         [-1.0781, -0.9777,  1.1607, -0.9982]]])"
      ]
     },
     "execution_count": 20,
     "metadata": {},
     "output_type": "execute_result"
    }
   ],
   "source": [
    "t_stack = FastTreeValue.func(subside=True)(torch.stack)\n",
    "\n",
    "t_stack(trees)"
   ]
  },
  {
   "cell_type": "code",
   "execution_count": 21,
   "id": "f8b3f415",
   "metadata": {
    "execution": {
     "iopub.execute_input": "2023-02-23T10:58:57.180765Z",
     "iopub.status.busy": "2023-02-23T10:58:57.180268Z",
     "iopub.status.idle": "2023-02-23T10:59:00.651746Z",
     "shell.execute_reply": "2023-02-23T10:59:00.650674Z"
    }
   },
   "outputs": [
    {
     "name": "stdout",
     "output_type": "stream",
     "text": [
      "42.8 µs ± 1.46 µs per loop (mean ± std. dev. of 7 runs, 10,000 loops each)\n"
     ]
    }
   ],
   "source": [
    "%timeit t_stack(trees)"
   ]
  },
  {
   "cell_type": "code",
   "execution_count": 22,
   "id": "94b56771",
   "metadata": {
    "execution": {
     "iopub.execute_input": "2023-02-23T10:59:00.655980Z",
     "iopub.status.busy": "2023-02-23T10:59:00.655490Z",
     "iopub.status.idle": "2023-02-23T10:59:00.666651Z",
     "shell.execute_reply": "2023-02-23T10:59:00.665743Z"
    }
   },
   "outputs": [
    {
     "data": {
      "text/plain": [
       "<FastTreeValue 0x7f77c350a790>\n",
       "├── 'a' --> tensor([[ 0.4285, -0.6385, -0.9169],\n",
       "│                   [-0.1129,  0.7228, -0.2920],\n",
       "│                   [ 0.4285, -0.6385, -0.9169],\n",
       "│                   [-0.1129,  0.7228, -0.2920],\n",
       "│                   [ 0.4285, -0.6385, -0.9169],\n",
       "│                   [-0.1129,  0.7228, -0.2920],\n",
       "│                   [ 0.4285, -0.6385, -0.9169],\n",
       "│                   [-0.1129,  0.7228, -0.2920],\n",
       "│                   [ 0.4285, -0.6385, -0.9169],\n",
       "│                   [-0.1129,  0.7228, -0.2920],\n",
       "│                   [ 0.4285, -0.6385, -0.9169],\n",
       "│                   [-0.1129,  0.7228, -0.2920],\n",
       "│                   [ 0.4285, -0.6385, -0.9169],\n",
       "│                   [-0.1129,  0.7228, -0.2920],\n",
       "│                   [ 0.4285, -0.6385, -0.9169],\n",
       "│                   [-0.1129,  0.7228, -0.2920]])\n",
       "└── 'x' --> <FastTreeValue 0x7f7847fb2970>\n",
       "    └── 'c' --> tensor([[ 1.3590,  0.6017, -1.7111,  1.3381],\n",
       "                        [ 0.3507, -1.1927,  1.8651,  0.6519],\n",
       "                        [-1.0781, -0.9777,  1.1607, -0.9982],\n",
       "                        [ 1.3590,  0.6017, -1.7111,  1.3381],\n",
       "                        [ 0.3507, -1.1927,  1.8651,  0.6519],\n",
       "                        [-1.0781, -0.9777,  1.1607, -0.9982],\n",
       "                        [ 1.3590,  0.6017, -1.7111,  1.3381],\n",
       "                        [ 0.3507, -1.1927,  1.8651,  0.6519],\n",
       "                        [-1.0781, -0.9777,  1.1607, -0.9982],\n",
       "                        [ 1.3590,  0.6017, -1.7111,  1.3381],\n",
       "                        [ 0.3507, -1.1927,  1.8651,  0.6519],\n",
       "                        [-1.0781, -0.9777,  1.1607, -0.9982],\n",
       "                        [ 1.3590,  0.6017, -1.7111,  1.3381],\n",
       "                        [ 0.3507, -1.1927,  1.8651,  0.6519],\n",
       "                        [-1.0781, -0.9777,  1.1607, -0.9982],\n",
       "                        [ 1.3590,  0.6017, -1.7111,  1.3381],\n",
       "                        [ 0.3507, -1.1927,  1.8651,  0.6519],\n",
       "                        [-1.0781, -0.9777,  1.1607, -0.9982],\n",
       "                        [ 1.3590,  0.6017, -1.7111,  1.3381],\n",
       "                        [ 0.3507, -1.1927,  1.8651,  0.6519],\n",
       "                        [-1.0781, -0.9777,  1.1607, -0.9982],\n",
       "                        [ 1.3590,  0.6017, -1.7111,  1.3381],\n",
       "                        [ 0.3507, -1.1927,  1.8651,  0.6519],\n",
       "                        [-1.0781, -0.9777,  1.1607, -0.9982]])"
      ]
     },
     "execution_count": 22,
     "metadata": {},
     "output_type": "execute_result"
    }
   ],
   "source": [
    "t_cat = FastTreeValue.func(subside=True)(torch.cat)\n",
    "\n",
    "t_cat(trees)"
   ]
  },
  {
   "cell_type": "code",
   "execution_count": 23,
   "id": "5e9c06a6",
   "metadata": {
    "execution": {
     "iopub.execute_input": "2023-02-23T10:59:00.670009Z",
     "iopub.status.busy": "2023-02-23T10:59:00.669504Z",
     "iopub.status.idle": "2023-02-23T10:59:03.918728Z",
     "shell.execute_reply": "2023-02-23T10:59:03.917727Z"
    }
   },
   "outputs": [
    {
     "name": "stdout",
     "output_type": "stream",
     "text": [
      "39.9 µs ± 1.29 µs per loop (mean ± std. dev. of 7 runs, 10,000 loops each)\n"
     ]
    }
   ],
   "source": [
    "%timeit t_cat(trees)"
   ]
  },
  {
   "cell_type": "code",
   "execution_count": 24,
   "id": "a3ab5c8f",
   "metadata": {
    "execution": {
     "iopub.execute_input": "2023-02-23T10:59:03.922155Z",
     "iopub.status.busy": "2023-02-23T10:59:03.921868Z",
     "iopub.status.idle": "2023-02-23T10:59:10.148574Z",
     "shell.execute_reply": "2023-02-23T10:59:10.147617Z"
    }
   },
   "outputs": [
    {
     "name": "stdout",
     "output_type": "stream",
     "text": [
      "76.8 µs ± 1.33 µs per loop (mean ± std. dev. of 7 runs, 10,000 loops each)\n"
     ]
    }
   ],
   "source": [
    "t_split = FastTreeValue.func(rise=True)(torch.split)\n",
    "tree = FastTreeValue({\n",
    "    'obs': torch.randn(8, 4, 84, 84),\n",
    "    'action': torch.randint(0, 6, size=(8, 1,)),\n",
    "    'reward': torch.rand(8, 1),\n",
    "})\n",
    "\n",
    "%timeit t_split(tree, 1)"
   ]
  },
  {
   "cell_type": "markdown",
   "id": "31c3ec0b",
   "metadata": {},
   "source": [
    "### Performance of Tianshou Batch"
   ]
  },
  {
   "cell_type": "code",
   "execution_count": 25,
   "id": "9ead828a",
   "metadata": {
    "execution": {
     "iopub.execute_input": "2023-02-23T10:59:10.152019Z",
     "iopub.status.busy": "2023-02-23T10:59:10.151615Z",
     "iopub.status.idle": "2023-02-23T10:59:10.161354Z",
     "shell.execute_reply": "2023-02-23T10:59:10.160405Z"
    }
   },
   "outputs": [
    {
     "data": {
      "text/plain": [
       "Batch(\n",
       "    a: tensor([[[ 0.4285, -0.6385, -0.9169],\n",
       "                [-0.1129,  0.7228, -0.2920]],\n",
       "       \n",
       "               [[ 0.4285, -0.6385, -0.9169],\n",
       "                [-0.1129,  0.7228, -0.2920]],\n",
       "       \n",
       "               [[ 0.4285, -0.6385, -0.9169],\n",
       "                [-0.1129,  0.7228, -0.2920]],\n",
       "       \n",
       "               [[ 0.4285, -0.6385, -0.9169],\n",
       "                [-0.1129,  0.7228, -0.2920]],\n",
       "       \n",
       "               [[ 0.4285, -0.6385, -0.9169],\n",
       "                [-0.1129,  0.7228, -0.2920]],\n",
       "       \n",
       "               [[ 0.4285, -0.6385, -0.9169],\n",
       "                [-0.1129,  0.7228, -0.2920]],\n",
       "       \n",
       "               [[ 0.4285, -0.6385, -0.9169],\n",
       "                [-0.1129,  0.7228, -0.2920]],\n",
       "       \n",
       "               [[ 0.4285, -0.6385, -0.9169],\n",
       "                [-0.1129,  0.7228, -0.2920]]]),\n",
       "    x: Batch(\n",
       "           c: tensor([[[ 1.3590,  0.6017, -1.7111,  1.3381],\n",
       "                       [ 0.3507, -1.1927,  1.8651,  0.6519],\n",
       "                       [-1.0781, -0.9777,  1.1607, -0.9982]],\n",
       "              \n",
       "                      [[ 1.3590,  0.6017, -1.7111,  1.3381],\n",
       "                       [ 0.3507, -1.1927,  1.8651,  0.6519],\n",
       "                       [-1.0781, -0.9777,  1.1607, -0.9982]],\n",
       "              \n",
       "                      [[ 1.3590,  0.6017, -1.7111,  1.3381],\n",
       "                       [ 0.3507, -1.1927,  1.8651,  0.6519],\n",
       "                       [-1.0781, -0.9777,  1.1607, -0.9982]],\n",
       "              \n",
       "                      [[ 1.3590,  0.6017, -1.7111,  1.3381],\n",
       "                       [ 0.3507, -1.1927,  1.8651,  0.6519],\n",
       "                       [-1.0781, -0.9777,  1.1607, -0.9982]],\n",
       "              \n",
       "                      [[ 1.3590,  0.6017, -1.7111,  1.3381],\n",
       "                       [ 0.3507, -1.1927,  1.8651,  0.6519],\n",
       "                       [-1.0781, -0.9777,  1.1607, -0.9982]],\n",
       "              \n",
       "                      [[ 1.3590,  0.6017, -1.7111,  1.3381],\n",
       "                       [ 0.3507, -1.1927,  1.8651,  0.6519],\n",
       "                       [-1.0781, -0.9777,  1.1607, -0.9982]],\n",
       "              \n",
       "                      [[ 1.3590,  0.6017, -1.7111,  1.3381],\n",
       "                       [ 0.3507, -1.1927,  1.8651,  0.6519],\n",
       "                       [-1.0781, -0.9777,  1.1607, -0.9982]],\n",
       "              \n",
       "                      [[ 1.3590,  0.6017, -1.7111,  1.3381],\n",
       "                       [ 0.3507, -1.1927,  1.8651,  0.6519],\n",
       "                       [-1.0781, -0.9777,  1.1607, -0.9982]]]),\n",
       "       ),\n",
       ")"
      ]
     },
     "execution_count": 25,
     "metadata": {},
     "output_type": "execute_result"
    }
   ],
   "source": [
    "batches = [Batch(**_TREE_DATA_2) for _ in range(8)]\n",
    "\n",
    "Batch.stack(batches)"
   ]
  },
  {
   "cell_type": "code",
   "execution_count": 26,
   "id": "ec9037a3",
   "metadata": {
    "execution": {
     "iopub.execute_input": "2023-02-23T10:59:10.164425Z",
     "iopub.status.busy": "2023-02-23T10:59:10.164053Z",
     "iopub.status.idle": "2023-02-23T10:59:18.234272Z",
     "shell.execute_reply": "2023-02-23T10:59:18.233247Z"
    }
   },
   "outputs": [
    {
     "name": "stdout",
     "output_type": "stream",
     "text": [
      "99.1 µs ± 3.61 µs per loop (mean ± std. dev. of 7 runs, 10,000 loops each)\n"
     ]
    }
   ],
   "source": [
    "%timeit Batch.stack(batches)"
   ]
  },
  {
   "cell_type": "code",
   "execution_count": 27,
   "id": "cb8ab77e",
   "metadata": {
    "execution": {
     "iopub.execute_input": "2023-02-23T10:59:18.238163Z",
     "iopub.status.busy": "2023-02-23T10:59:18.237627Z",
     "iopub.status.idle": "2023-02-23T10:59:18.247223Z",
     "shell.execute_reply": "2023-02-23T10:59:18.246278Z"
    }
   },
   "outputs": [
    {
     "data": {
      "text/plain": [
       "Batch(\n",
       "    a: tensor([[ 0.4285, -0.6385, -0.9169],\n",
       "               [-0.1129,  0.7228, -0.2920],\n",
       "               [ 0.4285, -0.6385, -0.9169],\n",
       "               [-0.1129,  0.7228, -0.2920],\n",
       "               [ 0.4285, -0.6385, -0.9169],\n",
       "               [-0.1129,  0.7228, -0.2920],\n",
       "               [ 0.4285, -0.6385, -0.9169],\n",
       "               [-0.1129,  0.7228, -0.2920],\n",
       "               [ 0.4285, -0.6385, -0.9169],\n",
       "               [-0.1129,  0.7228, -0.2920],\n",
       "               [ 0.4285, -0.6385, -0.9169],\n",
       "               [-0.1129,  0.7228, -0.2920],\n",
       "               [ 0.4285, -0.6385, -0.9169],\n",
       "               [-0.1129,  0.7228, -0.2920],\n",
       "               [ 0.4285, -0.6385, -0.9169],\n",
       "               [-0.1129,  0.7228, -0.2920]]),\n",
       "    x: Batch(\n",
       "           c: tensor([[ 1.3590,  0.6017, -1.7111,  1.3381],\n",
       "                      [ 0.3507, -1.1927,  1.8651,  0.6519],\n",
       "                      [-1.0781, -0.9777,  1.1607, -0.9982],\n",
       "                      [ 1.3590,  0.6017, -1.7111,  1.3381],\n",
       "                      [ 0.3507, -1.1927,  1.8651,  0.6519],\n",
       "                      [-1.0781, -0.9777,  1.1607, -0.9982],\n",
       "                      [ 1.3590,  0.6017, -1.7111,  1.3381],\n",
       "                      [ 0.3507, -1.1927,  1.8651,  0.6519],\n",
       "                      [-1.0781, -0.9777,  1.1607, -0.9982],\n",
       "                      [ 1.3590,  0.6017, -1.7111,  1.3381],\n",
       "                      [ 0.3507, -1.1927,  1.8651,  0.6519],\n",
       "                      [-1.0781, -0.9777,  1.1607, -0.9982],\n",
       "                      [ 1.3590,  0.6017, -1.7111,  1.3381],\n",
       "                      [ 0.3507, -1.1927,  1.8651,  0.6519],\n",
       "                      [-1.0781, -0.9777,  1.1607, -0.9982],\n",
       "                      [ 1.3590,  0.6017, -1.7111,  1.3381],\n",
       "                      [ 0.3507, -1.1927,  1.8651,  0.6519],\n",
       "                      [-1.0781, -0.9777,  1.1607, -0.9982],\n",
       "                      [ 1.3590,  0.6017, -1.7111,  1.3381],\n",
       "                      [ 0.3507, -1.1927,  1.8651,  0.6519],\n",
       "                      [-1.0781, -0.9777,  1.1607, -0.9982],\n",
       "                      [ 1.3590,  0.6017, -1.7111,  1.3381],\n",
       "                      [ 0.3507, -1.1927,  1.8651,  0.6519],\n",
       "                      [-1.0781, -0.9777,  1.1607, -0.9982]]),\n",
       "       ),\n",
       ")"
      ]
     },
     "execution_count": 27,
     "metadata": {},
     "output_type": "execute_result"
    }
   ],
   "source": [
    "Batch.cat(batches)"
   ]
  },
  {
   "cell_type": "code",
   "execution_count": 28,
   "id": "18dfb045",
   "metadata": {
    "execution": {
     "iopub.execute_input": "2023-02-23T10:59:18.250834Z",
     "iopub.status.busy": "2023-02-23T10:59:18.250222Z",
     "iopub.status.idle": "2023-02-23T10:59:32.553863Z",
     "shell.execute_reply": "2023-02-23T10:59:32.552891Z"
    }
   },
   "outputs": [
    {
     "name": "stdout",
     "output_type": "stream",
     "text": [
      "176 µs ± 1.47 µs per loop (mean ± std. dev. of 7 runs, 10,000 loops each)\n"
     ]
    }
   ],
   "source": [
    "%timeit Batch.cat(batches)"
   ]
  },
  {
   "cell_type": "code",
   "execution_count": 29,
   "id": "c6688e51",
   "metadata": {
    "execution": {
     "iopub.execute_input": "2023-02-23T10:59:32.557634Z",
     "iopub.status.busy": "2023-02-23T10:59:32.557349Z",
     "iopub.status.idle": "2023-02-23T10:59:37.077676Z",
     "shell.execute_reply": "2023-02-23T10:59:37.076825Z"
    }
   },
   "outputs": [
    {
     "name": "stdout",
     "output_type": "stream",
     "text": [
      "556 µs ± 11.1 µs per loop (mean ± std. dev. of 7 runs, 1,000 loops each)\n"
     ]
    }
   ],
   "source": [
    "batch = Batch({\n",
    "    'obs': torch.randn(8, 4, 84, 84),\n",
    "    'action': torch.randint(0, 6, size=(8, 1,)),\n",
    "    'reward': torch.rand(8, 1)}\n",
    ")\n",
    "\n",
    "%timeit list(Batch.split(batch, 1, shuffle=False, merge_last=True))"
   ]
  },
  {
   "cell_type": "code",
   "execution_count": null,
   "id": "2539fbd9",
   "metadata": {},
   "outputs": [],
   "source": []
  }
 ],
 "metadata": {
  "kernelspec": {
   "display_name": "Python 3 (ipykernel)",
   "language": "python",
   "name": "python3"
  },
  "language_info": {
   "codemirror_mode": {
    "name": "ipython",
    "version": 3
   },
   "file_extension": ".py",
   "mimetype": "text/x-python",
   "name": "python",
   "nbconvert_exporter": "python",
   "pygments_lexer": "ipython3",
   "version": "3.8.16"
  }
 },
 "nbformat": 4,
 "nbformat_minor": 5
}
