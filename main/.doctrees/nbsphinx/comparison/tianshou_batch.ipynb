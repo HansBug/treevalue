{
 "cells": [
  {
   "cell_type": "markdown",
   "id": "9d39d946",
   "metadata": {},
   "source": [
    "# Comparison Between TreeValue and Tianshou Batch"
   ]
  },
  {
   "cell_type": "markdown",
   "id": "3c6db2d4",
   "metadata": {},
   "source": [
    "In this section, we will take a look at the feature and performance of the [Tianshou Batch](https://github.com/thu-ml/tianshou) library, which is developed by Tsinghua Machine Learning Group."
   ]
  },
  {
   "cell_type": "markdown",
   "id": "069361b0",
   "metadata": {},
   "source": [
    "Before starting the comparison, let us define some thing."
   ]
  },
  {
   "cell_type": "code",
   "execution_count": 1,
   "id": "06fc8d26",
   "metadata": {
    "execution": {
     "iopub.execute_input": "2023-02-27T11:46:00.081142Z",
     "iopub.status.busy": "2023-02-27T11:46:00.080893Z",
     "iopub.status.idle": "2023-02-27T11:46:01.013752Z",
     "shell.execute_reply": "2023-02-27T11:46:01.013057Z"
    }
   },
   "outputs": [
    {
     "name": "stderr",
     "output_type": "stream",
     "text": [
      "/opt/hostedtoolcache/Python/3.8.16/x64/lib/python3.8/site-packages/tqdm/auto.py:22: TqdmWarning: IProgress not found. Please update jupyter and ipywidgets. See https://ipywidgets.readthedocs.io/en/stable/user_install.html\n",
      "  from .autonotebook import tqdm as notebook_tqdm\n"
     ]
    }
   ],
   "source": [
    "import torch \n",
    "\n",
    "_TREE_DATA_1 = {'a': 1, 'b': 2, 'x': {'c': 3, 'd': 4}}\n",
    "_TREE_DATA_2 = {\n",
    "    'a': torch.randn(2, 3), \n",
    "    'x': {\n",
    "        'c': torch.randn(3, 4)\n",
    "    },\n",
    "}\n",
    "_TREE_DATA_3 = {\n",
    "    'obs': torch.randn(4, 84, 84),\n",
    "    'action': torch.randint(0, 6, size=(1,)),\n",
    "    'reward': torch.rand(1),\n",
    "}"
   ]
  },
  {
   "cell_type": "markdown",
   "id": "83461b25",
   "metadata": {},
   "source": [
    "## Read and Write Operation"
   ]
  },
  {
   "cell_type": "markdown",
   "id": "067b3f73",
   "metadata": {},
   "source": [
    "Reading and writing are the two most common operations in the tree data structure based on the data model (TreeValue and Tianshou Batch both belong to this type), so this section will compare the reading and writing performance of these two libraries."
   ]
  },
  {
   "cell_type": "markdown",
   "id": "5d09a5b7",
   "metadata": {},
   "source": [
    "### TreeValue's Get and Set"
   ]
  },
  {
   "cell_type": "code",
   "execution_count": 2,
   "id": "9519c4bb",
   "metadata": {
    "execution": {
     "iopub.execute_input": "2023-02-27T11:46:01.017297Z",
     "iopub.status.busy": "2023-02-27T11:46:01.016680Z",
     "iopub.status.idle": "2023-02-27T11:46:01.299312Z",
     "shell.execute_reply": "2023-02-27T11:46:01.298642Z"
    }
   },
   "outputs": [],
   "source": [
    "from treevalue import FastTreeValue\n",
    "\n",
    "t = FastTreeValue(_TREE_DATA_2)"
   ]
  },
  {
   "cell_type": "code",
   "execution_count": 3,
   "id": "11c37677",
   "metadata": {
    "execution": {
     "iopub.execute_input": "2023-02-27T11:46:01.302466Z",
     "iopub.status.busy": "2023-02-27T11:46:01.301943Z",
     "iopub.status.idle": "2023-02-27T11:46:01.311283Z",
     "shell.execute_reply": "2023-02-27T11:46:01.310685Z"
    }
   },
   "outputs": [
    {
     "data": {
      "text/plain": [
       "<FastTreeValue 0x7fe9501dfc10>\n",
       "├── 'a' --> tensor([[-1.0591, -0.4599, -0.0611],\n",
       "│                   [-0.5749, -1.1006, -0.2191]])\n",
       "└── 'x' --> <FastTreeValue 0x7fe9501df940>\n",
       "    └── 'c' --> tensor([[-0.4247,  0.1040, -0.3506,  1.0081],\n",
       "                        [ 0.2966,  0.3849,  0.3890, -0.4316],\n",
       "                        [-0.2976, -1.9565,  0.6580,  0.6349]])"
      ]
     },
     "execution_count": 3,
     "metadata": {},
     "output_type": "execute_result"
    }
   ],
   "source": [
    "t"
   ]
  },
  {
   "cell_type": "code",
   "execution_count": 4,
   "id": "fd70b0b9",
   "metadata": {
    "execution": {
     "iopub.execute_input": "2023-02-27T11:46:01.313851Z",
     "iopub.status.busy": "2023-02-27T11:46:01.313516Z",
     "iopub.status.idle": "2023-02-27T11:46:01.318415Z",
     "shell.execute_reply": "2023-02-27T11:46:01.317810Z"
    }
   },
   "outputs": [
    {
     "data": {
      "text/plain": [
       "tensor([[-1.0591, -0.4599, -0.0611],\n",
       "        [-0.5749, -1.1006, -0.2191]])"
      ]
     },
     "execution_count": 4,
     "metadata": {},
     "output_type": "execute_result"
    }
   ],
   "source": [
    "t.a"
   ]
  },
  {
   "cell_type": "code",
   "execution_count": 5,
   "id": "c18197bd",
   "metadata": {
    "execution": {
     "iopub.execute_input": "2023-02-27T11:46:01.321063Z",
     "iopub.status.busy": "2023-02-27T11:46:01.320700Z",
     "iopub.status.idle": "2023-02-27T11:46:06.515722Z",
     "shell.execute_reply": "2023-02-27T11:46:06.514970Z"
    }
   },
   "outputs": [
    {
     "name": "stdout",
     "output_type": "stream",
     "text": [
      "64.3 ns ± 0.12 ns per loop (mean ± std. dev. of 7 runs, 10,000,000 loops each)\n"
     ]
    }
   ],
   "source": [
    "%timeit t.a"
   ]
  },
  {
   "cell_type": "code",
   "execution_count": 6,
   "id": "bd52f867",
   "metadata": {
    "execution": {
     "iopub.execute_input": "2023-02-27T11:46:06.518622Z",
     "iopub.status.busy": "2023-02-27T11:46:06.518054Z",
     "iopub.status.idle": "2023-02-27T11:46:06.523959Z",
     "shell.execute_reply": "2023-02-27T11:46:06.523332Z"
    }
   },
   "outputs": [
    {
     "data": {
      "text/plain": [
       "<FastTreeValue 0x7fe9501dfc10>\n",
       "├── 'a' --> tensor([[-1.1375,  0.9809,  0.3893],\n",
       "│                   [-2.4563, -0.1378, -0.8775]])\n",
       "└── 'x' --> <FastTreeValue 0x7fe9501df940>\n",
       "    └── 'c' --> tensor([[-0.4247,  0.1040, -0.3506,  1.0081],\n",
       "                        [ 0.2966,  0.3849,  0.3890, -0.4316],\n",
       "                        [-0.2976, -1.9565,  0.6580,  0.6349]])"
      ]
     },
     "execution_count": 6,
     "metadata": {},
     "output_type": "execute_result"
    }
   ],
   "source": [
    "new_value = torch.randn(2, 3)\n",
    "t.a = new_value\n",
    "\n",
    "t"
   ]
  },
  {
   "cell_type": "code",
   "execution_count": 7,
   "id": "bbe04d1c",
   "metadata": {
    "execution": {
     "iopub.execute_input": "2023-02-27T11:46:06.526312Z",
     "iopub.status.busy": "2023-02-27T11:46:06.525980Z",
     "iopub.status.idle": "2023-02-27T11:46:11.878786Z",
     "shell.execute_reply": "2023-02-27T11:46:11.878069Z"
    }
   },
   "outputs": [
    {
     "name": "stdout",
     "output_type": "stream",
     "text": [
      "66.2 ns ± 0.145 ns per loop (mean ± std. dev. of 7 runs, 10,000,000 loops each)\n"
     ]
    }
   ],
   "source": [
    "%timeit t.a = new_value"
   ]
  },
  {
   "cell_type": "markdown",
   "id": "48c49731",
   "metadata": {},
   "source": [
    "### Tianshou Batch's Get and Set"
   ]
  },
  {
   "cell_type": "code",
   "execution_count": 8,
   "id": "f1bb14c1",
   "metadata": {
    "execution": {
     "iopub.execute_input": "2023-02-27T11:46:11.881775Z",
     "iopub.status.busy": "2023-02-27T11:46:11.881171Z",
     "iopub.status.idle": "2023-02-27T11:46:12.219433Z",
     "shell.execute_reply": "2023-02-27T11:46:12.218747Z"
    }
   },
   "outputs": [],
   "source": [
    "from tianshou.data import Batch\n",
    "\n",
    "b = Batch(**_TREE_DATA_2)"
   ]
  },
  {
   "cell_type": "code",
   "execution_count": 9,
   "id": "cb0777c3",
   "metadata": {
    "execution": {
     "iopub.execute_input": "2023-02-27T11:46:12.222510Z",
     "iopub.status.busy": "2023-02-27T11:46:12.222061Z",
     "iopub.status.idle": "2023-02-27T11:46:12.227620Z",
     "shell.execute_reply": "2023-02-27T11:46:12.226999Z"
    }
   },
   "outputs": [
    {
     "data": {
      "text/plain": [
       "Batch(\n",
       "    a: tensor([[-1.0591, -0.4599, -0.0611],\n",
       "               [-0.5749, -1.1006, -0.2191]]),\n",
       "    x: Batch(\n",
       "           c: tensor([[-0.4247,  0.1040, -0.3506,  1.0081],\n",
       "                      [ 0.2966,  0.3849,  0.3890, -0.4316],\n",
       "                      [-0.2976, -1.9565,  0.6580,  0.6349]]),\n",
       "       ),\n",
       ")"
      ]
     },
     "execution_count": 9,
     "metadata": {},
     "output_type": "execute_result"
    }
   ],
   "source": [
    "b"
   ]
  },
  {
   "cell_type": "code",
   "execution_count": 10,
   "id": "43ef8ea3",
   "metadata": {
    "execution": {
     "iopub.execute_input": "2023-02-27T11:46:12.230146Z",
     "iopub.status.busy": "2023-02-27T11:46:12.229797Z",
     "iopub.status.idle": "2023-02-27T11:46:12.235879Z",
     "shell.execute_reply": "2023-02-27T11:46:12.235303Z"
    }
   },
   "outputs": [
    {
     "data": {
      "text/plain": [
       "tensor([[-1.0591, -0.4599, -0.0611],\n",
       "        [-0.5749, -1.1006, -0.2191]])"
      ]
     },
     "execution_count": 10,
     "metadata": {},
     "output_type": "execute_result"
    }
   ],
   "source": [
    "b.a"
   ]
  },
  {
   "cell_type": "code",
   "execution_count": 11,
   "id": "b785ab72",
   "metadata": {
    "execution": {
     "iopub.execute_input": "2023-02-27T11:46:12.238457Z",
     "iopub.status.busy": "2023-02-27T11:46:12.238097Z",
     "iopub.status.idle": "2023-02-27T11:46:17.188847Z",
     "shell.execute_reply": "2023-02-27T11:46:17.188091Z"
    }
   },
   "outputs": [
    {
     "name": "stdout",
     "output_type": "stream",
     "text": [
      "61.2 ns ± 0.0281 ns per loop (mean ± std. dev. of 7 runs, 10,000,000 loops each)\n"
     ]
    }
   ],
   "source": [
    "%timeit b.a"
   ]
  },
  {
   "cell_type": "code",
   "execution_count": 12,
   "id": "ad54dc69",
   "metadata": {
    "execution": {
     "iopub.execute_input": "2023-02-27T11:46:17.191620Z",
     "iopub.status.busy": "2023-02-27T11:46:17.191266Z",
     "iopub.status.idle": "2023-02-27T11:46:17.197053Z",
     "shell.execute_reply": "2023-02-27T11:46:17.196401Z"
    }
   },
   "outputs": [
    {
     "data": {
      "text/plain": [
       "Batch(\n",
       "    a: tensor([[-1.1215, -0.0349, -1.7538],\n",
       "               [-0.7431,  1.9959, -0.2554]]),\n",
       "    x: Batch(\n",
       "           c: tensor([[-0.4247,  0.1040, -0.3506,  1.0081],\n",
       "                      [ 0.2966,  0.3849,  0.3890, -0.4316],\n",
       "                      [-0.2976, -1.9565,  0.6580,  0.6349]]),\n",
       "       ),\n",
       ")"
      ]
     },
     "execution_count": 12,
     "metadata": {},
     "output_type": "execute_result"
    }
   ],
   "source": [
    "new_value = torch.randn(2, 3)\n",
    "b.a = new_value\n",
    "\n",
    "b"
   ]
  },
  {
   "cell_type": "code",
   "execution_count": 13,
   "id": "29b1d0bf",
   "metadata": {
    "execution": {
     "iopub.execute_input": "2023-02-27T11:46:17.199677Z",
     "iopub.status.busy": "2023-02-27T11:46:17.199329Z",
     "iopub.status.idle": "2023-02-27T11:46:21.104465Z",
     "shell.execute_reply": "2023-02-27T11:46:21.103748Z"
    }
   },
   "outputs": [
    {
     "name": "stdout",
     "output_type": "stream",
     "text": [
      "481 ns ± 0.137 ns per loop (mean ± std. dev. of 7 runs, 1,000,000 loops each)\n"
     ]
    }
   ],
   "source": [
    "%timeit b.a = new_value"
   ]
  },
  {
   "cell_type": "markdown",
   "id": "b61ad1d0",
   "metadata": {},
   "source": [
    "## Initialization"
   ]
  },
  {
   "cell_type": "markdown",
   "id": "d70f0d54",
   "metadata": {},
   "source": [
    "### TreeValue's Initialization"
   ]
  },
  {
   "cell_type": "code",
   "execution_count": 14,
   "id": "d32a679b",
   "metadata": {
    "execution": {
     "iopub.execute_input": "2023-02-27T11:46:21.107664Z",
     "iopub.status.busy": "2023-02-27T11:46:21.107081Z",
     "iopub.status.idle": "2023-02-27T11:46:27.859894Z",
     "shell.execute_reply": "2023-02-27T11:46:27.859222Z"
    }
   },
   "outputs": [
    {
     "name": "stdout",
     "output_type": "stream",
     "text": [
      "829 ns ± 0.0892 ns per loop (mean ± std. dev. of 7 runs, 1,000,000 loops each)\n"
     ]
    }
   ],
   "source": [
    "%timeit FastTreeValue(_TREE_DATA_1)"
   ]
  },
  {
   "cell_type": "markdown",
   "id": "24f3707b",
   "metadata": {},
   "source": [
    "### Tianshou Batch's Initialization"
   ]
  },
  {
   "cell_type": "code",
   "execution_count": 15,
   "id": "ac3958df",
   "metadata": {
    "execution": {
     "iopub.execute_input": "2023-02-27T11:46:27.863064Z",
     "iopub.status.busy": "2023-02-27T11:46:27.862597Z",
     "iopub.status.idle": "2023-02-27T11:46:37.001437Z",
     "shell.execute_reply": "2023-02-27T11:46:37.000653Z"
    }
   },
   "outputs": [
    {
     "name": "stdout",
     "output_type": "stream",
     "text": [
      "11.3 µs ± 23.2 ns per loop (mean ± std. dev. of 7 runs, 100,000 loops each)\n"
     ]
    }
   ],
   "source": [
    "%timeit Batch(**_TREE_DATA_1)"
   ]
  },
  {
   "cell_type": "markdown",
   "id": "1ab82e2d",
   "metadata": {},
   "source": [
    "## Deep Copy Operation"
   ]
  },
  {
   "cell_type": "code",
   "execution_count": 16,
   "id": "210a9442",
   "metadata": {
    "execution": {
     "iopub.execute_input": "2023-02-27T11:46:37.004406Z",
     "iopub.status.busy": "2023-02-27T11:46:37.003874Z",
     "iopub.status.idle": "2023-02-27T11:46:37.007780Z",
     "shell.execute_reply": "2023-02-27T11:46:37.007186Z"
    }
   },
   "outputs": [],
   "source": [
    "import copy"
   ]
  },
  {
   "cell_type": "markdown",
   "id": "5a736274",
   "metadata": {},
   "source": [
    "### Deep Copy of TreeValue"
   ]
  },
  {
   "cell_type": "code",
   "execution_count": 17,
   "id": "f9bcadd6",
   "metadata": {
    "execution": {
     "iopub.execute_input": "2023-02-27T11:46:37.010053Z",
     "iopub.status.busy": "2023-02-27T11:46:37.009844Z",
     "iopub.status.idle": "2023-02-27T11:46:47.954242Z",
     "shell.execute_reply": "2023-02-27T11:46:47.953685Z"
    }
   },
   "outputs": [
    {
     "name": "stdout",
     "output_type": "stream",
     "text": [
      "135 µs ± 664 ns per loop (mean ± std. dev. of 7 runs, 10,000 loops each)\n"
     ]
    }
   ],
   "source": [
    "t3 = FastTreeValue(_TREE_DATA_3)\n",
    "%timeit copy.deepcopy(t3)"
   ]
  },
  {
   "cell_type": "markdown",
   "id": "bf8be7ea",
   "metadata": {},
   "source": [
    "### Deep Copy of Tianshou Batch"
   ]
  },
  {
   "cell_type": "code",
   "execution_count": 18,
   "id": "91998e6f",
   "metadata": {
    "execution": {
     "iopub.execute_input": "2023-02-27T11:46:47.957204Z",
     "iopub.status.busy": "2023-02-27T11:46:47.956565Z",
     "iopub.status.idle": "2023-02-27T11:46:59.277070Z",
     "shell.execute_reply": "2023-02-27T11:46:59.276514Z"
    }
   },
   "outputs": [
    {
     "name": "stdout",
     "output_type": "stream",
     "text": [
      "140 µs ± 317 ns per loop (mean ± std. dev. of 7 runs, 10,000 loops each)\n"
     ]
    }
   ],
   "source": [
    "b3 = Batch(**_TREE_DATA_3)\n",
    "%timeit copy.deepcopy(b3)"
   ]
  },
  {
   "cell_type": "markdown",
   "id": "223162fb",
   "metadata": {},
   "source": [
    "## Stack, Concat and Split Operation"
   ]
  },
  {
   "cell_type": "markdown",
   "id": "85fa4a73",
   "metadata": {},
   "source": [
    "### Performance of TreeValue"
   ]
  },
  {
   "cell_type": "code",
   "execution_count": 19,
   "id": "a0c2b697",
   "metadata": {
    "execution": {
     "iopub.execute_input": "2023-02-27T11:46:59.279848Z",
     "iopub.status.busy": "2023-02-27T11:46:59.279500Z",
     "iopub.status.idle": "2023-02-27T11:46:59.282674Z",
     "shell.execute_reply": "2023-02-27T11:46:59.282150Z"
    }
   },
   "outputs": [],
   "source": [
    "trees = [FastTreeValue(_TREE_DATA_2) for _ in range(8)]"
   ]
  },
  {
   "cell_type": "code",
   "execution_count": 20,
   "id": "017ea5a5",
   "metadata": {
    "execution": {
     "iopub.execute_input": "2023-02-27T11:46:59.285155Z",
     "iopub.status.busy": "2023-02-27T11:46:59.284735Z",
     "iopub.status.idle": "2023-02-27T11:46:59.292133Z",
     "shell.execute_reply": "2023-02-27T11:46:59.291069Z"
    }
   },
   "outputs": [
    {
     "data": {
      "text/plain": [
       "<FastTreeValue 0x7fe95024bee0>\n",
       "├── 'a' --> tensor([[[-1.0591, -0.4599, -0.0611],\n",
       "│                    [-0.5749, -1.1006, -0.2191]],\n",
       "│           \n",
       "│                   [[-1.0591, -0.4599, -0.0611],\n",
       "│                    [-0.5749, -1.1006, -0.2191]],\n",
       "│           \n",
       "│                   [[-1.0591, -0.4599, -0.0611],\n",
       "│                    [-0.5749, -1.1006, -0.2191]],\n",
       "│           \n",
       "│                   [[-1.0591, -0.4599, -0.0611],\n",
       "│                    [-0.5749, -1.1006, -0.2191]],\n",
       "│           \n",
       "│                   [[-1.0591, -0.4599, -0.0611],\n",
       "│                    [-0.5749, -1.1006, -0.2191]],\n",
       "│           \n",
       "│                   [[-1.0591, -0.4599, -0.0611],\n",
       "│                    [-0.5749, -1.1006, -0.2191]],\n",
       "│           \n",
       "│                   [[-1.0591, -0.4599, -0.0611],\n",
       "│                    [-0.5749, -1.1006, -0.2191]],\n",
       "│           \n",
       "│                   [[-1.0591, -0.4599, -0.0611],\n",
       "│                    [-0.5749, -1.1006, -0.2191]]])\n",
       "└── 'x' --> <FastTreeValue 0x7fe95024bfd0>\n",
       "    └── 'c' --> tensor([[[-0.4247,  0.1040, -0.3506,  1.0081],\n",
       "                         [ 0.2966,  0.3849,  0.3890, -0.4316],\n",
       "                         [-0.2976, -1.9565,  0.6580,  0.6349]],\n",
       "                \n",
       "                        [[-0.4247,  0.1040, -0.3506,  1.0081],\n",
       "                         [ 0.2966,  0.3849,  0.3890, -0.4316],\n",
       "                         [-0.2976, -1.9565,  0.6580,  0.6349]],\n",
       "                \n",
       "                        [[-0.4247,  0.1040, -0.3506,  1.0081],\n",
       "                         [ 0.2966,  0.3849,  0.3890, -0.4316],\n",
       "                         [-0.2976, -1.9565,  0.6580,  0.6349]],\n",
       "                \n",
       "                        [[-0.4247,  0.1040, -0.3506,  1.0081],\n",
       "                         [ 0.2966,  0.3849,  0.3890, -0.4316],\n",
       "                         [-0.2976, -1.9565,  0.6580,  0.6349]],\n",
       "                \n",
       "                        [[-0.4247,  0.1040, -0.3506,  1.0081],\n",
       "                         [ 0.2966,  0.3849,  0.3890, -0.4316],\n",
       "                         [-0.2976, -1.9565,  0.6580,  0.6349]],\n",
       "                \n",
       "                        [[-0.4247,  0.1040, -0.3506,  1.0081],\n",
       "                         [ 0.2966,  0.3849,  0.3890, -0.4316],\n",
       "                         [-0.2976, -1.9565,  0.6580,  0.6349]],\n",
       "                \n",
       "                        [[-0.4247,  0.1040, -0.3506,  1.0081],\n",
       "                         [ 0.2966,  0.3849,  0.3890, -0.4316],\n",
       "                         [-0.2976, -1.9565,  0.6580,  0.6349]],\n",
       "                \n",
       "                        [[-0.4247,  0.1040, -0.3506,  1.0081],\n",
       "                         [ 0.2966,  0.3849,  0.3890, -0.4316],\n",
       "                         [-0.2976, -1.9565,  0.6580,  0.6349]]])"
      ]
     },
     "execution_count": 20,
     "metadata": {},
     "output_type": "execute_result"
    }
   ],
   "source": [
    "t_stack = FastTreeValue.func(subside=True)(torch.stack)\n",
    "\n",
    "t_stack(trees)"
   ]
  },
  {
   "cell_type": "code",
   "execution_count": 21,
   "id": "f8b3f415",
   "metadata": {
    "execution": {
     "iopub.execute_input": "2023-02-27T11:46:59.294428Z",
     "iopub.status.busy": "2023-02-27T11:46:59.294059Z",
     "iopub.status.idle": "2023-02-27T11:47:01.906728Z",
     "shell.execute_reply": "2023-02-27T11:47:01.906011Z"
    }
   },
   "outputs": [
    {
     "name": "stdout",
     "output_type": "stream",
     "text": [
      "32.1 µs ± 64.3 ns per loop (mean ± std. dev. of 7 runs, 10,000 loops each)\n"
     ]
    }
   ],
   "source": [
    "%timeit t_stack(trees)"
   ]
  },
  {
   "cell_type": "code",
   "execution_count": 22,
   "id": "94b56771",
   "metadata": {
    "execution": {
     "iopub.execute_input": "2023-02-27T11:47:01.909774Z",
     "iopub.status.busy": "2023-02-27T11:47:01.909426Z",
     "iopub.status.idle": "2023-02-27T11:47:01.917157Z",
     "shell.execute_reply": "2023-02-27T11:47:01.916566Z"
    }
   },
   "outputs": [
    {
     "data": {
      "text/plain": [
       "<FastTreeValue 0x7fe89b47aa00>\n",
       "├── 'a' --> tensor([[-1.0591, -0.4599, -0.0611],\n",
       "│                   [-0.5749, -1.1006, -0.2191],\n",
       "│                   [-1.0591, -0.4599, -0.0611],\n",
       "│                   [-0.5749, -1.1006, -0.2191],\n",
       "│                   [-1.0591, -0.4599, -0.0611],\n",
       "│                   [-0.5749, -1.1006, -0.2191],\n",
       "│                   [-1.0591, -0.4599, -0.0611],\n",
       "│                   [-0.5749, -1.1006, -0.2191],\n",
       "│                   [-1.0591, -0.4599, -0.0611],\n",
       "│                   [-0.5749, -1.1006, -0.2191],\n",
       "│                   [-1.0591, -0.4599, -0.0611],\n",
       "│                   [-0.5749, -1.1006, -0.2191],\n",
       "│                   [-1.0591, -0.4599, -0.0611],\n",
       "│                   [-0.5749, -1.1006, -0.2191],\n",
       "│                   [-1.0591, -0.4599, -0.0611],\n",
       "│                   [-0.5749, -1.1006, -0.2191]])\n",
       "└── 'x' --> <FastTreeValue 0x7fe955265c10>\n",
       "    └── 'c' --> tensor([[-0.4247,  0.1040, -0.3506,  1.0081],\n",
       "                        [ 0.2966,  0.3849,  0.3890, -0.4316],\n",
       "                        [-0.2976, -1.9565,  0.6580,  0.6349],\n",
       "                        [-0.4247,  0.1040, -0.3506,  1.0081],\n",
       "                        [ 0.2966,  0.3849,  0.3890, -0.4316],\n",
       "                        [-0.2976, -1.9565,  0.6580,  0.6349],\n",
       "                        [-0.4247,  0.1040, -0.3506,  1.0081],\n",
       "                        [ 0.2966,  0.3849,  0.3890, -0.4316],\n",
       "                        [-0.2976, -1.9565,  0.6580,  0.6349],\n",
       "                        [-0.4247,  0.1040, -0.3506,  1.0081],\n",
       "                        [ 0.2966,  0.3849,  0.3890, -0.4316],\n",
       "                        [-0.2976, -1.9565,  0.6580,  0.6349],\n",
       "                        [-0.4247,  0.1040, -0.3506,  1.0081],\n",
       "                        [ 0.2966,  0.3849,  0.3890, -0.4316],\n",
       "                        [-0.2976, -1.9565,  0.6580,  0.6349],\n",
       "                        [-0.4247,  0.1040, -0.3506,  1.0081],\n",
       "                        [ 0.2966,  0.3849,  0.3890, -0.4316],\n",
       "                        [-0.2976, -1.9565,  0.6580,  0.6349],\n",
       "                        [-0.4247,  0.1040, -0.3506,  1.0081],\n",
       "                        [ 0.2966,  0.3849,  0.3890, -0.4316],\n",
       "                        [-0.2976, -1.9565,  0.6580,  0.6349],\n",
       "                        [-0.4247,  0.1040, -0.3506,  1.0081],\n",
       "                        [ 0.2966,  0.3849,  0.3890, -0.4316],\n",
       "                        [-0.2976, -1.9565,  0.6580,  0.6349]])"
      ]
     },
     "execution_count": 22,
     "metadata": {},
     "output_type": "execute_result"
    }
   ],
   "source": [
    "t_cat = FastTreeValue.func(subside=True)(torch.cat)\n",
    "\n",
    "t_cat(trees)"
   ]
  },
  {
   "cell_type": "code",
   "execution_count": 23,
   "id": "5e9c06a6",
   "metadata": {
    "execution": {
     "iopub.execute_input": "2023-02-27T11:47:01.919767Z",
     "iopub.status.busy": "2023-02-27T11:47:01.919432Z",
     "iopub.status.idle": "2023-02-27T11:47:04.391674Z",
     "shell.execute_reply": "2023-02-27T11:47:04.391017Z"
    }
   },
   "outputs": [
    {
     "name": "stdout",
     "output_type": "stream",
     "text": [
      "30.4 µs ± 42.7 ns per loop (mean ± std. dev. of 7 runs, 10,000 loops each)\n"
     ]
    }
   ],
   "source": [
    "%timeit t_cat(trees)"
   ]
  },
  {
   "cell_type": "code",
   "execution_count": 24,
   "id": "a3ab5c8f",
   "metadata": {
    "execution": {
     "iopub.execute_input": "2023-02-27T11:47:04.394457Z",
     "iopub.status.busy": "2023-02-27T11:47:04.393904Z",
     "iopub.status.idle": "2023-02-27T11:47:09.275069Z",
     "shell.execute_reply": "2023-02-27T11:47:09.274306Z"
    }
   },
   "outputs": [
    {
     "name": "stdout",
     "output_type": "stream",
     "text": [
      "60 µs ± 140 ns per loop (mean ± std. dev. of 7 runs, 10,000 loops each)\n"
     ]
    }
   ],
   "source": [
    "t_split = FastTreeValue.func(rise=True)(torch.split)\n",
    "tree = FastTreeValue({\n",
    "    'obs': torch.randn(8, 4, 84, 84),\n",
    "    'action': torch.randint(0, 6, size=(8, 1,)),\n",
    "    'reward': torch.rand(8, 1),\n",
    "})\n",
    "\n",
    "%timeit t_split(tree, 1)"
   ]
  },
  {
   "cell_type": "markdown",
   "id": "31c3ec0b",
   "metadata": {},
   "source": [
    "### Performance of Tianshou Batch"
   ]
  },
  {
   "cell_type": "code",
   "execution_count": 25,
   "id": "9ead828a",
   "metadata": {
    "execution": {
     "iopub.execute_input": "2023-02-27T11:47:09.278062Z",
     "iopub.status.busy": "2023-02-27T11:47:09.277552Z",
     "iopub.status.idle": "2023-02-27T11:47:09.285437Z",
     "shell.execute_reply": "2023-02-27T11:47:09.284841Z"
    }
   },
   "outputs": [
    {
     "data": {
      "text/plain": [
       "Batch(\n",
       "    a: tensor([[[-1.0591, -0.4599, -0.0611],\n",
       "                [-0.5749, -1.1006, -0.2191]],\n",
       "       \n",
       "               [[-1.0591, -0.4599, -0.0611],\n",
       "                [-0.5749, -1.1006, -0.2191]],\n",
       "       \n",
       "               [[-1.0591, -0.4599, -0.0611],\n",
       "                [-0.5749, -1.1006, -0.2191]],\n",
       "       \n",
       "               [[-1.0591, -0.4599, -0.0611],\n",
       "                [-0.5749, -1.1006, -0.2191]],\n",
       "       \n",
       "               [[-1.0591, -0.4599, -0.0611],\n",
       "                [-0.5749, -1.1006, -0.2191]],\n",
       "       \n",
       "               [[-1.0591, -0.4599, -0.0611],\n",
       "                [-0.5749, -1.1006, -0.2191]],\n",
       "       \n",
       "               [[-1.0591, -0.4599, -0.0611],\n",
       "                [-0.5749, -1.1006, -0.2191]],\n",
       "       \n",
       "               [[-1.0591, -0.4599, -0.0611],\n",
       "                [-0.5749, -1.1006, -0.2191]]]),\n",
       "    x: Batch(\n",
       "           c: tensor([[[-0.4247,  0.1040, -0.3506,  1.0081],\n",
       "                       [ 0.2966,  0.3849,  0.3890, -0.4316],\n",
       "                       [-0.2976, -1.9565,  0.6580,  0.6349]],\n",
       "              \n",
       "                      [[-0.4247,  0.1040, -0.3506,  1.0081],\n",
       "                       [ 0.2966,  0.3849,  0.3890, -0.4316],\n",
       "                       [-0.2976, -1.9565,  0.6580,  0.6349]],\n",
       "              \n",
       "                      [[-0.4247,  0.1040, -0.3506,  1.0081],\n",
       "                       [ 0.2966,  0.3849,  0.3890, -0.4316],\n",
       "                       [-0.2976, -1.9565,  0.6580,  0.6349]],\n",
       "              \n",
       "                      [[-0.4247,  0.1040, -0.3506,  1.0081],\n",
       "                       [ 0.2966,  0.3849,  0.3890, -0.4316],\n",
       "                       [-0.2976, -1.9565,  0.6580,  0.6349]],\n",
       "              \n",
       "                      [[-0.4247,  0.1040, -0.3506,  1.0081],\n",
       "                       [ 0.2966,  0.3849,  0.3890, -0.4316],\n",
       "                       [-0.2976, -1.9565,  0.6580,  0.6349]],\n",
       "              \n",
       "                      [[-0.4247,  0.1040, -0.3506,  1.0081],\n",
       "                       [ 0.2966,  0.3849,  0.3890, -0.4316],\n",
       "                       [-0.2976, -1.9565,  0.6580,  0.6349]],\n",
       "              \n",
       "                      [[-0.4247,  0.1040, -0.3506,  1.0081],\n",
       "                       [ 0.2966,  0.3849,  0.3890, -0.4316],\n",
       "                       [-0.2976, -1.9565,  0.6580,  0.6349]],\n",
       "              \n",
       "                      [[-0.4247,  0.1040, -0.3506,  1.0081],\n",
       "                       [ 0.2966,  0.3849,  0.3890, -0.4316],\n",
       "                       [-0.2976, -1.9565,  0.6580,  0.6349]]]),\n",
       "       ),\n",
       ")"
      ]
     },
     "execution_count": 25,
     "metadata": {},
     "output_type": "execute_result"
    }
   ],
   "source": [
    "batches = [Batch(**_TREE_DATA_2) for _ in range(8)]\n",
    "\n",
    "Batch.stack(batches)"
   ]
  },
  {
   "cell_type": "code",
   "execution_count": 26,
   "id": "ec9037a3",
   "metadata": {
    "execution": {
     "iopub.execute_input": "2023-02-27T11:47:09.287883Z",
     "iopub.status.busy": "2023-02-27T11:47:09.287522Z",
     "iopub.status.idle": "2023-02-27T11:47:15.710544Z",
     "shell.execute_reply": "2023-02-27T11:47:15.709809Z"
    }
   },
   "outputs": [
    {
     "name": "stdout",
     "output_type": "stream",
     "text": [
      "79 µs ± 297 ns per loop (mean ± std. dev. of 7 runs, 10,000 loops each)\n"
     ]
    }
   ],
   "source": [
    "%timeit Batch.stack(batches)"
   ]
  },
  {
   "cell_type": "code",
   "execution_count": 27,
   "id": "cb8ab77e",
   "metadata": {
    "execution": {
     "iopub.execute_input": "2023-02-27T11:47:15.713355Z",
     "iopub.status.busy": "2023-02-27T11:47:15.713011Z",
     "iopub.status.idle": "2023-02-27T11:47:15.721177Z",
     "shell.execute_reply": "2023-02-27T11:47:15.719885Z"
    }
   },
   "outputs": [
    {
     "data": {
      "text/plain": [
       "Batch(\n",
       "    a: tensor([[-1.0591, -0.4599, -0.0611],\n",
       "               [-0.5749, -1.1006, -0.2191],\n",
       "               [-1.0591, -0.4599, -0.0611],\n",
       "               [-0.5749, -1.1006, -0.2191],\n",
       "               [-1.0591, -0.4599, -0.0611],\n",
       "               [-0.5749, -1.1006, -0.2191],\n",
       "               [-1.0591, -0.4599, -0.0611],\n",
       "               [-0.5749, -1.1006, -0.2191],\n",
       "               [-1.0591, -0.4599, -0.0611],\n",
       "               [-0.5749, -1.1006, -0.2191],\n",
       "               [-1.0591, -0.4599, -0.0611],\n",
       "               [-0.5749, -1.1006, -0.2191],\n",
       "               [-1.0591, -0.4599, -0.0611],\n",
       "               [-0.5749, -1.1006, -0.2191],\n",
       "               [-1.0591, -0.4599, -0.0611],\n",
       "               [-0.5749, -1.1006, -0.2191]]),\n",
       "    x: Batch(\n",
       "           c: tensor([[-0.4247,  0.1040, -0.3506,  1.0081],\n",
       "                      [ 0.2966,  0.3849,  0.3890, -0.4316],\n",
       "                      [-0.2976, -1.9565,  0.6580,  0.6349],\n",
       "                      [-0.4247,  0.1040, -0.3506,  1.0081],\n",
       "                      [ 0.2966,  0.3849,  0.3890, -0.4316],\n",
       "                      [-0.2976, -1.9565,  0.6580,  0.6349],\n",
       "                      [-0.4247,  0.1040, -0.3506,  1.0081],\n",
       "                      [ 0.2966,  0.3849,  0.3890, -0.4316],\n",
       "                      [-0.2976, -1.9565,  0.6580,  0.6349],\n",
       "                      [-0.4247,  0.1040, -0.3506,  1.0081],\n",
       "                      [ 0.2966,  0.3849,  0.3890, -0.4316],\n",
       "                      [-0.2976, -1.9565,  0.6580,  0.6349],\n",
       "                      [-0.4247,  0.1040, -0.3506,  1.0081],\n",
       "                      [ 0.2966,  0.3849,  0.3890, -0.4316],\n",
       "                      [-0.2976, -1.9565,  0.6580,  0.6349],\n",
       "                      [-0.4247,  0.1040, -0.3506,  1.0081],\n",
       "                      [ 0.2966,  0.3849,  0.3890, -0.4316],\n",
       "                      [-0.2976, -1.9565,  0.6580,  0.6349],\n",
       "                      [-0.4247,  0.1040, -0.3506,  1.0081],\n",
       "                      [ 0.2966,  0.3849,  0.3890, -0.4316],\n",
       "                      [-0.2976, -1.9565,  0.6580,  0.6349],\n",
       "                      [-0.4247,  0.1040, -0.3506,  1.0081],\n",
       "                      [ 0.2966,  0.3849,  0.3890, -0.4316],\n",
       "                      [-0.2976, -1.9565,  0.6580,  0.6349]]),\n",
       "       ),\n",
       ")"
      ]
     },
     "execution_count": 27,
     "metadata": {},
     "output_type": "execute_result"
    }
   ],
   "source": [
    "Batch.cat(batches)"
   ]
  },
  {
   "cell_type": "code",
   "execution_count": 28,
   "id": "18dfb045",
   "metadata": {
    "execution": {
     "iopub.execute_input": "2023-02-27T11:47:15.723555Z",
     "iopub.status.busy": "2023-02-27T11:47:15.723221Z",
     "iopub.status.idle": "2023-02-27T11:47:27.281603Z",
     "shell.execute_reply": "2023-02-27T11:47:27.280840Z"
    }
   },
   "outputs": [
    {
     "name": "stdout",
     "output_type": "stream",
     "text": [
      "142 µs ± 390 ns per loop (mean ± std. dev. of 7 runs, 10,000 loops each)\n"
     ]
    }
   ],
   "source": [
    "%timeit Batch.cat(batches)"
   ]
  },
  {
   "cell_type": "code",
   "execution_count": 29,
   "id": "c6688e51",
   "metadata": {
    "execution": {
     "iopub.execute_input": "2023-02-27T11:47:27.284638Z",
     "iopub.status.busy": "2023-02-27T11:47:27.284276Z",
     "iopub.status.idle": "2023-02-27T11:47:29.927826Z",
     "shell.execute_reply": "2023-02-27T11:47:29.927272Z"
    }
   },
   "outputs": [
    {
     "name": "stdout",
     "output_type": "stream",
     "text": [
      "316 µs ± 325 ns per loop (mean ± std. dev. of 7 runs, 1,000 loops each)\n"
     ]
    }
   ],
   "source": [
    "batch = Batch({\n",
    "    'obs': torch.randn(8, 4, 84, 84),\n",
    "    'action': torch.randint(0, 6, size=(8, 1,)),\n",
    "    'reward': torch.rand(8, 1)}\n",
    ")\n",
    "\n",
    "%timeit list(Batch.split(batch, 1, shuffle=False, merge_last=True))"
   ]
  },
  {
   "cell_type": "code",
   "execution_count": null,
   "id": "2539fbd9",
   "metadata": {},
   "outputs": [],
   "source": []
  }
 ],
 "metadata": {
  "kernelspec": {
   "display_name": "Python 3 (ipykernel)",
   "language": "python",
   "name": "python3"
  },
  "language_info": {
   "codemirror_mode": {
    "name": "ipython",
    "version": 3
   },
   "file_extension": ".py",
   "mimetype": "text/x-python",
   "name": "python",
   "nbconvert_exporter": "python",
   "pygments_lexer": "ipython3",
   "version": "3.8.16"
  }
 },
 "nbformat": 4,
 "nbformat_minor": 5
}
