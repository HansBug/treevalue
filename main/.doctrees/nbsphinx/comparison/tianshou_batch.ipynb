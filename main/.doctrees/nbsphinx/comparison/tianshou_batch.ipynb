{
 "cells": [
  {
   "cell_type": "markdown",
   "id": "9d39d946",
   "metadata": {},
   "source": [
    "# Comparison Between TreeValue and Tianshou Batch"
   ]
  },
  {
   "cell_type": "markdown",
   "id": "3c6db2d4",
   "metadata": {},
   "source": [
    "In this section, we will take a look at the feature and performance of the [Tianshou Batch](https://github.com/thu-ml/tianshou) library, which is developed by Tsinghua Machine Learning Group."
   ]
  },
  {
   "cell_type": "markdown",
   "id": "069361b0",
   "metadata": {},
   "source": [
    "Before starting the comparison, let us define some thing."
   ]
  },
  {
   "cell_type": "code",
   "execution_count": 1,
   "id": "06fc8d26",
   "metadata": {
    "execution": {
     "iopub.execute_input": "2023-02-27T12:47:32.512374Z",
     "iopub.status.busy": "2023-02-27T12:47:32.512111Z",
     "iopub.status.idle": "2023-02-27T12:47:33.510691Z",
     "shell.execute_reply": "2023-02-27T12:47:33.509929Z"
    }
   },
   "outputs": [
    {
     "name": "stderr",
     "output_type": "stream",
     "text": [
      "/opt/hostedtoolcache/Python/3.8.16/x64/lib/python3.8/site-packages/tqdm/auto.py:22: TqdmWarning: IProgress not found. Please update jupyter and ipywidgets. See https://ipywidgets.readthedocs.io/en/stable/user_install.html\n",
      "  from .autonotebook import tqdm as notebook_tqdm\n"
     ]
    }
   ],
   "source": [
    "import torch \n",
    "\n",
    "_TREE_DATA_1 = {'a': 1, 'b': 2, 'x': {'c': 3, 'd': 4}}\n",
    "_TREE_DATA_2 = {\n",
    "    'a': torch.randn(2, 3), \n",
    "    'x': {\n",
    "        'c': torch.randn(3, 4)\n",
    "    },\n",
    "}\n",
    "_TREE_DATA_3 = {\n",
    "    'obs': torch.randn(4, 84, 84),\n",
    "    'action': torch.randint(0, 6, size=(1,)),\n",
    "    'reward': torch.rand(1),\n",
    "}"
   ]
  },
  {
   "cell_type": "markdown",
   "id": "83461b25",
   "metadata": {},
   "source": [
    "## Read and Write Operation"
   ]
  },
  {
   "cell_type": "markdown",
   "id": "067b3f73",
   "metadata": {},
   "source": [
    "Reading and writing are the two most common operations in the tree data structure based on the data model (TreeValue and Tianshou Batch both belong to this type), so this section will compare the reading and writing performance of these two libraries."
   ]
  },
  {
   "cell_type": "markdown",
   "id": "5d09a5b7",
   "metadata": {},
   "source": [
    "### TreeValue's Get and Set"
   ]
  },
  {
   "cell_type": "code",
   "execution_count": 2,
   "id": "9519c4bb",
   "metadata": {
    "execution": {
     "iopub.execute_input": "2023-02-27T12:47:33.514493Z",
     "iopub.status.busy": "2023-02-27T12:47:33.513964Z",
     "iopub.status.idle": "2023-02-27T12:47:33.806500Z",
     "shell.execute_reply": "2023-02-27T12:47:33.805719Z"
    }
   },
   "outputs": [],
   "source": [
    "from treevalue import FastTreeValue\n",
    "\n",
    "t = FastTreeValue(_TREE_DATA_2)"
   ]
  },
  {
   "cell_type": "code",
   "execution_count": 3,
   "id": "11c37677",
   "metadata": {
    "execution": {
     "iopub.execute_input": "2023-02-27T12:47:33.810259Z",
     "iopub.status.busy": "2023-02-27T12:47:33.809798Z",
     "iopub.status.idle": "2023-02-27T12:47:33.820847Z",
     "shell.execute_reply": "2023-02-27T12:47:33.820236Z"
    }
   },
   "outputs": [
    {
     "data": {
      "text/plain": [
       "<FastTreeValue 0x7fd84098ffd0>\n",
       "├── 'a' --> tensor([[-0.1177,  0.0695, -1.0330],\n",
       "│                   [-1.7521,  0.5552,  0.3245]])\n",
       "└── 'x' --> <FastTreeValue 0x7fd84098f580>\n",
       "    └── 'c' --> tensor([[ 0.7492, -0.4632,  0.0292,  1.0156],\n",
       "                        [-0.7221,  0.2501, -1.3356, -0.3699],\n",
       "                        [-0.7103,  0.4527, -1.1712, -1.5749]])"
      ]
     },
     "execution_count": 3,
     "metadata": {},
     "output_type": "execute_result"
    }
   ],
   "source": [
    "t"
   ]
  },
  {
   "cell_type": "code",
   "execution_count": 4,
   "id": "fd70b0b9",
   "metadata": {
    "execution": {
     "iopub.execute_input": "2023-02-27T12:47:33.823988Z",
     "iopub.status.busy": "2023-02-27T12:47:33.823433Z",
     "iopub.status.idle": "2023-02-27T12:47:33.829565Z",
     "shell.execute_reply": "2023-02-27T12:47:33.828971Z"
    }
   },
   "outputs": [
    {
     "data": {
      "text/plain": [
       "tensor([[-0.1177,  0.0695, -1.0330],\n",
       "        [-1.7521,  0.5552,  0.3245]])"
      ]
     },
     "execution_count": 4,
     "metadata": {},
     "output_type": "execute_result"
    }
   ],
   "source": [
    "t.a"
   ]
  },
  {
   "cell_type": "code",
   "execution_count": 5,
   "id": "c18197bd",
   "metadata": {
    "execution": {
     "iopub.execute_input": "2023-02-27T12:47:33.832461Z",
     "iopub.status.busy": "2023-02-27T12:47:33.831948Z",
     "iopub.status.idle": "2023-02-27T12:47:38.948549Z",
     "shell.execute_reply": "2023-02-27T12:47:38.947599Z"
    }
   },
   "outputs": [
    {
     "name": "stdout",
     "output_type": "stream",
     "text": [
      "63 ns ± 0.164 ns per loop (mean ± std. dev. of 7 runs, 10,000,000 loops each)\n"
     ]
    }
   ],
   "source": [
    "%timeit t.a"
   ]
  },
  {
   "cell_type": "code",
   "execution_count": 6,
   "id": "bd52f867",
   "metadata": {
    "execution": {
     "iopub.execute_input": "2023-02-27T12:47:38.952067Z",
     "iopub.status.busy": "2023-02-27T12:47:38.951476Z",
     "iopub.status.idle": "2023-02-27T12:47:38.958975Z",
     "shell.execute_reply": "2023-02-27T12:47:38.958092Z"
    }
   },
   "outputs": [
    {
     "data": {
      "text/plain": [
       "<FastTreeValue 0x7fd84098ffd0>\n",
       "├── 'a' --> tensor([[-0.9805, -0.2984,  1.4127],\n",
       "│                   [ 1.3845, -1.0474,  0.4162]])\n",
       "└── 'x' --> <FastTreeValue 0x7fd84098f580>\n",
       "    └── 'c' --> tensor([[ 0.7492, -0.4632,  0.0292,  1.0156],\n",
       "                        [-0.7221,  0.2501, -1.3356, -0.3699],\n",
       "                        [-0.7103,  0.4527, -1.1712, -1.5749]])"
      ]
     },
     "execution_count": 6,
     "metadata": {},
     "output_type": "execute_result"
    }
   ],
   "source": [
    "new_value = torch.randn(2, 3)\n",
    "t.a = new_value\n",
    "\n",
    "t"
   ]
  },
  {
   "cell_type": "code",
   "execution_count": 7,
   "id": "bbe04d1c",
   "metadata": {
    "execution": {
     "iopub.execute_input": "2023-02-27T12:47:38.961555Z",
     "iopub.status.busy": "2023-02-27T12:47:38.961181Z",
     "iopub.status.idle": "2023-02-27T12:47:44.486558Z",
     "shell.execute_reply": "2023-02-27T12:47:44.485643Z"
    }
   },
   "outputs": [
    {
     "name": "stdout",
     "output_type": "stream",
     "text": [
      "68.2 ns ± 2.33 ns per loop (mean ± std. dev. of 7 runs, 10,000,000 loops each)\n"
     ]
    }
   ],
   "source": [
    "%timeit t.a = new_value"
   ]
  },
  {
   "cell_type": "markdown",
   "id": "48c49731",
   "metadata": {},
   "source": [
    "### Tianshou Batch's Get and Set"
   ]
  },
  {
   "cell_type": "code",
   "execution_count": 8,
   "id": "f1bb14c1",
   "metadata": {
    "execution": {
     "iopub.execute_input": "2023-02-27T12:47:44.489907Z",
     "iopub.status.busy": "2023-02-27T12:47:44.489491Z",
     "iopub.status.idle": "2023-02-27T12:47:44.854158Z",
     "shell.execute_reply": "2023-02-27T12:47:44.853363Z"
    }
   },
   "outputs": [],
   "source": [
    "from tianshou.data import Batch\n",
    "\n",
    "b = Batch(**_TREE_DATA_2)"
   ]
  },
  {
   "cell_type": "code",
   "execution_count": 9,
   "id": "cb0777c3",
   "metadata": {
    "execution": {
     "iopub.execute_input": "2023-02-27T12:47:44.857892Z",
     "iopub.status.busy": "2023-02-27T12:47:44.857388Z",
     "iopub.status.idle": "2023-02-27T12:47:44.863383Z",
     "shell.execute_reply": "2023-02-27T12:47:44.862688Z"
    }
   },
   "outputs": [
    {
     "data": {
      "text/plain": [
       "Batch(\n",
       "    a: tensor([[-0.1177,  0.0695, -1.0330],\n",
       "               [-1.7521,  0.5552,  0.3245]]),\n",
       "    x: Batch(\n",
       "           c: tensor([[ 0.7492, -0.4632,  0.0292,  1.0156],\n",
       "                      [-0.7221,  0.2501, -1.3356, -0.3699],\n",
       "                      [-0.7103,  0.4527, -1.1712, -1.5749]]),\n",
       "       ),\n",
       ")"
      ]
     },
     "execution_count": 9,
     "metadata": {},
     "output_type": "execute_result"
    }
   ],
   "source": [
    "b"
   ]
  },
  {
   "cell_type": "code",
   "execution_count": 10,
   "id": "43ef8ea3",
   "metadata": {
    "execution": {
     "iopub.execute_input": "2023-02-27T12:47:44.865988Z",
     "iopub.status.busy": "2023-02-27T12:47:44.865564Z",
     "iopub.status.idle": "2023-02-27T12:47:44.871368Z",
     "shell.execute_reply": "2023-02-27T12:47:44.870759Z"
    }
   },
   "outputs": [
    {
     "data": {
      "text/plain": [
       "tensor([[-0.1177,  0.0695, -1.0330],\n",
       "        [-1.7521,  0.5552,  0.3245]])"
      ]
     },
     "execution_count": 10,
     "metadata": {},
     "output_type": "execute_result"
    }
   ],
   "source": [
    "b.a"
   ]
  },
  {
   "cell_type": "code",
   "execution_count": 11,
   "id": "b785ab72",
   "metadata": {
    "execution": {
     "iopub.execute_input": "2023-02-27T12:47:44.873836Z",
     "iopub.status.busy": "2023-02-27T12:47:44.873477Z",
     "iopub.status.idle": "2023-02-27T12:47:49.645765Z",
     "shell.execute_reply": "2023-02-27T12:47:49.644820Z"
    }
   },
   "outputs": [
    {
     "name": "stdout",
     "output_type": "stream",
     "text": [
      "58.8 ns ± 0.0777 ns per loop (mean ± std. dev. of 7 runs, 10,000,000 loops each)\n"
     ]
    }
   ],
   "source": [
    "%timeit b.a"
   ]
  },
  {
   "cell_type": "code",
   "execution_count": 12,
   "id": "ad54dc69",
   "metadata": {
    "execution": {
     "iopub.execute_input": "2023-02-27T12:47:49.649358Z",
     "iopub.status.busy": "2023-02-27T12:47:49.648758Z",
     "iopub.status.idle": "2023-02-27T12:47:49.655738Z",
     "shell.execute_reply": "2023-02-27T12:47:49.655109Z"
    }
   },
   "outputs": [
    {
     "data": {
      "text/plain": [
       "Batch(\n",
       "    a: tensor([[-1.8575,  1.4628, -0.8571],\n",
       "               [ 0.0098, -0.8673,  1.0717]]),\n",
       "    x: Batch(\n",
       "           c: tensor([[ 0.7492, -0.4632,  0.0292,  1.0156],\n",
       "                      [-0.7221,  0.2501, -1.3356, -0.3699],\n",
       "                      [-0.7103,  0.4527, -1.1712, -1.5749]]),\n",
       "       ),\n",
       ")"
      ]
     },
     "execution_count": 12,
     "metadata": {},
     "output_type": "execute_result"
    }
   ],
   "source": [
    "new_value = torch.randn(2, 3)\n",
    "b.a = new_value\n",
    "\n",
    "b"
   ]
  },
  {
   "cell_type": "code",
   "execution_count": 13,
   "id": "29b1d0bf",
   "metadata": {
    "execution": {
     "iopub.execute_input": "2023-02-27T12:47:49.658280Z",
     "iopub.status.busy": "2023-02-27T12:47:49.657908Z",
     "iopub.status.idle": "2023-02-27T12:47:53.658250Z",
     "shell.execute_reply": "2023-02-27T12:47:53.657346Z"
    }
   },
   "outputs": [
    {
     "name": "stdout",
     "output_type": "stream",
     "text": [
      "491 ns ± 2.5 ns per loop (mean ± std. dev. of 7 runs, 1,000,000 loops each)\n"
     ]
    }
   ],
   "source": [
    "%timeit b.a = new_value"
   ]
  },
  {
   "cell_type": "markdown",
   "id": "b61ad1d0",
   "metadata": {},
   "source": [
    "## Initialization"
   ]
  },
  {
   "cell_type": "markdown",
   "id": "d70f0d54",
   "metadata": {},
   "source": [
    "### TreeValue's Initialization"
   ]
  },
  {
   "cell_type": "code",
   "execution_count": 14,
   "id": "d32a679b",
   "metadata": {
    "execution": {
     "iopub.execute_input": "2023-02-27T12:47:53.662470Z",
     "iopub.status.busy": "2023-02-27T12:47:53.661266Z",
     "iopub.status.idle": "2023-02-27T12:48:00.308572Z",
     "shell.execute_reply": "2023-02-27T12:48:00.307668Z"
    }
   },
   "outputs": [
    {
     "name": "stdout",
     "output_type": "stream",
     "text": [
      "819 ns ± 0.188 ns per loop (mean ± std. dev. of 7 runs, 1,000,000 loops each)\n"
     ]
    }
   ],
   "source": [
    "%timeit FastTreeValue(_TREE_DATA_1)"
   ]
  },
  {
   "cell_type": "markdown",
   "id": "24f3707b",
   "metadata": {},
   "source": [
    "### Tianshou Batch's Initialization"
   ]
  },
  {
   "cell_type": "code",
   "execution_count": 15,
   "id": "ac3958df",
   "metadata": {
    "execution": {
     "iopub.execute_input": "2023-02-27T12:48:00.312191Z",
     "iopub.status.busy": "2023-02-27T12:48:00.311731Z",
     "iopub.status.idle": "2023-02-27T12:48:08.972367Z",
     "shell.execute_reply": "2023-02-27T12:48:08.971402Z"
    }
   },
   "outputs": [
    {
     "name": "stdout",
     "output_type": "stream",
     "text": [
      "10.7 µs ± 21.6 ns per loop (mean ± std. dev. of 7 runs, 100,000 loops each)\n"
     ]
    }
   ],
   "source": [
    "%timeit Batch(**_TREE_DATA_1)"
   ]
  },
  {
   "cell_type": "markdown",
   "id": "1ab82e2d",
   "metadata": {},
   "source": [
    "## Deep Copy Operation"
   ]
  },
  {
   "cell_type": "code",
   "execution_count": 16,
   "id": "210a9442",
   "metadata": {
    "execution": {
     "iopub.execute_input": "2023-02-27T12:48:08.975977Z",
     "iopub.status.busy": "2023-02-27T12:48:08.975330Z",
     "iopub.status.idle": "2023-02-27T12:48:08.979098Z",
     "shell.execute_reply": "2023-02-27T12:48:08.978464Z"
    }
   },
   "outputs": [],
   "source": [
    "import copy"
   ]
  },
  {
   "cell_type": "markdown",
   "id": "5a736274",
   "metadata": {},
   "source": [
    "### Deep Copy of TreeValue"
   ]
  },
  {
   "cell_type": "code",
   "execution_count": 17,
   "id": "f9bcadd6",
   "metadata": {
    "execution": {
     "iopub.execute_input": "2023-02-27T12:48:08.981876Z",
     "iopub.status.busy": "2023-02-27T12:48:08.981522Z",
     "iopub.status.idle": "2023-02-27T12:48:20.624398Z",
     "shell.execute_reply": "2023-02-27T12:48:20.623754Z"
    }
   },
   "outputs": [
    {
     "name": "stdout",
     "output_type": "stream",
     "text": [
      "144 µs ± 3.17 µs per loop (mean ± std. dev. of 7 runs, 10,000 loops each)\n"
     ]
    }
   ],
   "source": [
    "t3 = FastTreeValue(_TREE_DATA_3)\n",
    "%timeit copy.deepcopy(t3)"
   ]
  },
  {
   "cell_type": "markdown",
   "id": "bf8be7ea",
   "metadata": {},
   "source": [
    "### Deep Copy of Tianshou Batch"
   ]
  },
  {
   "cell_type": "code",
   "execution_count": 18,
   "id": "91998e6f",
   "metadata": {
    "execution": {
     "iopub.execute_input": "2023-02-27T12:48:20.627384Z",
     "iopub.status.busy": "2023-02-27T12:48:20.626955Z",
     "iopub.status.idle": "2023-02-27T12:48:32.211026Z",
     "shell.execute_reply": "2023-02-27T12:48:32.210311Z"
    }
   },
   "outputs": [
    {
     "name": "stdout",
     "output_type": "stream",
     "text": [
      "143 µs ± 372 ns per loop (mean ± std. dev. of 7 runs, 10,000 loops each)\n"
     ]
    }
   ],
   "source": [
    "b3 = Batch(**_TREE_DATA_3)\n",
    "%timeit copy.deepcopy(b3)"
   ]
  },
  {
   "cell_type": "markdown",
   "id": "223162fb",
   "metadata": {},
   "source": [
    "## Stack, Concat and Split Operation"
   ]
  },
  {
   "cell_type": "markdown",
   "id": "85fa4a73",
   "metadata": {},
   "source": [
    "### Performance of TreeValue"
   ]
  },
  {
   "cell_type": "code",
   "execution_count": 19,
   "id": "a0c2b697",
   "metadata": {
    "execution": {
     "iopub.execute_input": "2023-02-27T12:48:32.214005Z",
     "iopub.status.busy": "2023-02-27T12:48:32.213496Z",
     "iopub.status.idle": "2023-02-27T12:48:32.217120Z",
     "shell.execute_reply": "2023-02-27T12:48:32.216571Z"
    }
   },
   "outputs": [],
   "source": [
    "trees = [FastTreeValue(_TREE_DATA_2) for _ in range(8)]"
   ]
  },
  {
   "cell_type": "code",
   "execution_count": 20,
   "id": "017ea5a5",
   "metadata": {
    "execution": {
     "iopub.execute_input": "2023-02-27T12:48:32.219545Z",
     "iopub.status.busy": "2023-02-27T12:48:32.219107Z",
     "iopub.status.idle": "2023-02-27T12:48:32.226715Z",
     "shell.execute_reply": "2023-02-27T12:48:32.225852Z"
    }
   },
   "outputs": [
    {
     "data": {
      "text/plain": [
       "<FastTreeValue 0x7fd788bd6ca0>\n",
       "├── 'a' --> tensor([[[-0.1177,  0.0695, -1.0330],\n",
       "│                    [-1.7521,  0.5552,  0.3245]],\n",
       "│           \n",
       "│                   [[-0.1177,  0.0695, -1.0330],\n",
       "│                    [-1.7521,  0.5552,  0.3245]],\n",
       "│           \n",
       "│                   [[-0.1177,  0.0695, -1.0330],\n",
       "│                    [-1.7521,  0.5552,  0.3245]],\n",
       "│           \n",
       "│                   [[-0.1177,  0.0695, -1.0330],\n",
       "│                    [-1.7521,  0.5552,  0.3245]],\n",
       "│           \n",
       "│                   [[-0.1177,  0.0695, -1.0330],\n",
       "│                    [-1.7521,  0.5552,  0.3245]],\n",
       "│           \n",
       "│                   [[-0.1177,  0.0695, -1.0330],\n",
       "│                    [-1.7521,  0.5552,  0.3245]],\n",
       "│           \n",
       "│                   [[-0.1177,  0.0695, -1.0330],\n",
       "│                    [-1.7521,  0.5552,  0.3245]],\n",
       "│           \n",
       "│                   [[-0.1177,  0.0695, -1.0330],\n",
       "│                    [-1.7521,  0.5552,  0.3245]]])\n",
       "└── 'x' --> <FastTreeValue 0x7fd788bd6b80>\n",
       "    └── 'c' --> tensor([[[ 0.7492, -0.4632,  0.0292,  1.0156],\n",
       "                         [-0.7221,  0.2501, -1.3356, -0.3699],\n",
       "                         [-0.7103,  0.4527, -1.1712, -1.5749]],\n",
       "                \n",
       "                        [[ 0.7492, -0.4632,  0.0292,  1.0156],\n",
       "                         [-0.7221,  0.2501, -1.3356, -0.3699],\n",
       "                         [-0.7103,  0.4527, -1.1712, -1.5749]],\n",
       "                \n",
       "                        [[ 0.7492, -0.4632,  0.0292,  1.0156],\n",
       "                         [-0.7221,  0.2501, -1.3356, -0.3699],\n",
       "                         [-0.7103,  0.4527, -1.1712, -1.5749]],\n",
       "                \n",
       "                        [[ 0.7492, -0.4632,  0.0292,  1.0156],\n",
       "                         [-0.7221,  0.2501, -1.3356, -0.3699],\n",
       "                         [-0.7103,  0.4527, -1.1712, -1.5749]],\n",
       "                \n",
       "                        [[ 0.7492, -0.4632,  0.0292,  1.0156],\n",
       "                         [-0.7221,  0.2501, -1.3356, -0.3699],\n",
       "                         [-0.7103,  0.4527, -1.1712, -1.5749]],\n",
       "                \n",
       "                        [[ 0.7492, -0.4632,  0.0292,  1.0156],\n",
       "                         [-0.7221,  0.2501, -1.3356, -0.3699],\n",
       "                         [-0.7103,  0.4527, -1.1712, -1.5749]],\n",
       "                \n",
       "                        [[ 0.7492, -0.4632,  0.0292,  1.0156],\n",
       "                         [-0.7221,  0.2501, -1.3356, -0.3699],\n",
       "                         [-0.7103,  0.4527, -1.1712, -1.5749]],\n",
       "                \n",
       "                        [[ 0.7492, -0.4632,  0.0292,  1.0156],\n",
       "                         [-0.7221,  0.2501, -1.3356, -0.3699],\n",
       "                         [-0.7103,  0.4527, -1.1712, -1.5749]]])"
      ]
     },
     "execution_count": 20,
     "metadata": {},
     "output_type": "execute_result"
    }
   ],
   "source": [
    "t_stack = FastTreeValue.func(subside=True)(torch.stack)\n",
    "\n",
    "t_stack(trees)"
   ]
  },
  {
   "cell_type": "code",
   "execution_count": 21,
   "id": "f8b3f415",
   "metadata": {
    "execution": {
     "iopub.execute_input": "2023-02-27T12:48:32.229289Z",
     "iopub.status.busy": "2023-02-27T12:48:32.228624Z",
     "iopub.status.idle": "2023-02-27T12:48:34.895815Z",
     "shell.execute_reply": "2023-02-27T12:48:34.894662Z"
    }
   },
   "outputs": [
    {
     "name": "stdout",
     "output_type": "stream",
     "text": [
      "32.8 µs ± 67.9 ns per loop (mean ± std. dev. of 7 runs, 10,000 loops each)\n"
     ]
    }
   ],
   "source": [
    "%timeit t_stack(trees)"
   ]
  },
  {
   "cell_type": "code",
   "execution_count": 22,
   "id": "94b56771",
   "metadata": {
    "execution": {
     "iopub.execute_input": "2023-02-27T12:48:34.899166Z",
     "iopub.status.busy": "2023-02-27T12:48:34.898743Z",
     "iopub.status.idle": "2023-02-27T12:48:34.907724Z",
     "shell.execute_reply": "2023-02-27T12:48:34.906475Z"
    }
   },
   "outputs": [
    {
     "data": {
      "text/plain": [
       "<FastTreeValue 0x7fd8409229d0>\n",
       "├── 'a' --> tensor([[-0.1177,  0.0695, -1.0330],\n",
       "│                   [-1.7521,  0.5552,  0.3245],\n",
       "│                   [-0.1177,  0.0695, -1.0330],\n",
       "│                   [-1.7521,  0.5552,  0.3245],\n",
       "│                   [-0.1177,  0.0695, -1.0330],\n",
       "│                   [-1.7521,  0.5552,  0.3245],\n",
       "│                   [-0.1177,  0.0695, -1.0330],\n",
       "│                   [-1.7521,  0.5552,  0.3245],\n",
       "│                   [-0.1177,  0.0695, -1.0330],\n",
       "│                   [-1.7521,  0.5552,  0.3245],\n",
       "│                   [-0.1177,  0.0695, -1.0330],\n",
       "│                   [-1.7521,  0.5552,  0.3245],\n",
       "│                   [-0.1177,  0.0695, -1.0330],\n",
       "│                   [-1.7521,  0.5552,  0.3245],\n",
       "│                   [-0.1177,  0.0695, -1.0330],\n",
       "│                   [-1.7521,  0.5552,  0.3245]])\n",
       "└── 'x' --> <FastTreeValue 0x7fd840922ee0>\n",
       "    └── 'c' --> tensor([[ 0.7492, -0.4632,  0.0292,  1.0156],\n",
       "                        [-0.7221,  0.2501, -1.3356, -0.3699],\n",
       "                        [-0.7103,  0.4527, -1.1712, -1.5749],\n",
       "                        [ 0.7492, -0.4632,  0.0292,  1.0156],\n",
       "                        [-0.7221,  0.2501, -1.3356, -0.3699],\n",
       "                        [-0.7103,  0.4527, -1.1712, -1.5749],\n",
       "                        [ 0.7492, -0.4632,  0.0292,  1.0156],\n",
       "                        [-0.7221,  0.2501, -1.3356, -0.3699],\n",
       "                        [-0.7103,  0.4527, -1.1712, -1.5749],\n",
       "                        [ 0.7492, -0.4632,  0.0292,  1.0156],\n",
       "                        [-0.7221,  0.2501, -1.3356, -0.3699],\n",
       "                        [-0.7103,  0.4527, -1.1712, -1.5749],\n",
       "                        [ 0.7492, -0.4632,  0.0292,  1.0156],\n",
       "                        [-0.7221,  0.2501, -1.3356, -0.3699],\n",
       "                        [-0.7103,  0.4527, -1.1712, -1.5749],\n",
       "                        [ 0.7492, -0.4632,  0.0292,  1.0156],\n",
       "                        [-0.7221,  0.2501, -1.3356, -0.3699],\n",
       "                        [-0.7103,  0.4527, -1.1712, -1.5749],\n",
       "                        [ 0.7492, -0.4632,  0.0292,  1.0156],\n",
       "                        [-0.7221,  0.2501, -1.3356, -0.3699],\n",
       "                        [-0.7103,  0.4527, -1.1712, -1.5749],\n",
       "                        [ 0.7492, -0.4632,  0.0292,  1.0156],\n",
       "                        [-0.7221,  0.2501, -1.3356, -0.3699],\n",
       "                        [-0.7103,  0.4527, -1.1712, -1.5749]])"
      ]
     },
     "execution_count": 22,
     "metadata": {},
     "output_type": "execute_result"
    }
   ],
   "source": [
    "t_cat = FastTreeValue.func(subside=True)(torch.cat)\n",
    "\n",
    "t_cat(trees)"
   ]
  },
  {
   "cell_type": "code",
   "execution_count": 23,
   "id": "5e9c06a6",
   "metadata": {
    "execution": {
     "iopub.execute_input": "2023-02-27T12:48:34.911186Z",
     "iopub.status.busy": "2023-02-27T12:48:34.910103Z",
     "iopub.status.idle": "2023-02-27T12:48:37.413253Z",
     "shell.execute_reply": "2023-02-27T12:48:37.412352Z"
    }
   },
   "outputs": [
    {
     "name": "stdout",
     "output_type": "stream",
     "text": [
      "30.7 µs ± 64.4 ns per loop (mean ± std. dev. of 7 runs, 10,000 loops each)\n"
     ]
    }
   ],
   "source": [
    "%timeit t_cat(trees)"
   ]
  },
  {
   "cell_type": "code",
   "execution_count": 24,
   "id": "a3ab5c8f",
   "metadata": {
    "execution": {
     "iopub.execute_input": "2023-02-27T12:48:37.416623Z",
     "iopub.status.busy": "2023-02-27T12:48:37.416080Z",
     "iopub.status.idle": "2023-02-27T12:48:42.011362Z",
     "shell.execute_reply": "2023-02-27T12:48:42.010442Z"
    }
   },
   "outputs": [
    {
     "name": "stdout",
     "output_type": "stream",
     "text": [
      "56.5 µs ± 112 ns per loop (mean ± std. dev. of 7 runs, 10,000 loops each)\n"
     ]
    }
   ],
   "source": [
    "t_split = FastTreeValue.func(rise=True)(torch.split)\n",
    "tree = FastTreeValue({\n",
    "    'obs': torch.randn(8, 4, 84, 84),\n",
    "    'action': torch.randint(0, 6, size=(8, 1,)),\n",
    "    'reward': torch.rand(8, 1),\n",
    "})\n",
    "\n",
    "%timeit t_split(tree, 1)"
   ]
  },
  {
   "cell_type": "markdown",
   "id": "31c3ec0b",
   "metadata": {},
   "source": [
    "### Performance of Tianshou Batch"
   ]
  },
  {
   "cell_type": "code",
   "execution_count": 25,
   "id": "9ead828a",
   "metadata": {
    "execution": {
     "iopub.execute_input": "2023-02-27T12:48:42.014701Z",
     "iopub.status.busy": "2023-02-27T12:48:42.014257Z",
     "iopub.status.idle": "2023-02-27T12:48:42.022856Z",
     "shell.execute_reply": "2023-02-27T12:48:42.022230Z"
    }
   },
   "outputs": [
    {
     "data": {
      "text/plain": [
       "Batch(\n",
       "    a: tensor([[[-0.1177,  0.0695, -1.0330],\n",
       "                [-1.7521,  0.5552,  0.3245]],\n",
       "       \n",
       "               [[-0.1177,  0.0695, -1.0330],\n",
       "                [-1.7521,  0.5552,  0.3245]],\n",
       "       \n",
       "               [[-0.1177,  0.0695, -1.0330],\n",
       "                [-1.7521,  0.5552,  0.3245]],\n",
       "       \n",
       "               [[-0.1177,  0.0695, -1.0330],\n",
       "                [-1.7521,  0.5552,  0.3245]],\n",
       "       \n",
       "               [[-0.1177,  0.0695, -1.0330],\n",
       "                [-1.7521,  0.5552,  0.3245]],\n",
       "       \n",
       "               [[-0.1177,  0.0695, -1.0330],\n",
       "                [-1.7521,  0.5552,  0.3245]],\n",
       "       \n",
       "               [[-0.1177,  0.0695, -1.0330],\n",
       "                [-1.7521,  0.5552,  0.3245]],\n",
       "       \n",
       "               [[-0.1177,  0.0695, -1.0330],\n",
       "                [-1.7521,  0.5552,  0.3245]]]),\n",
       "    x: Batch(\n",
       "           c: tensor([[[ 0.7492, -0.4632,  0.0292,  1.0156],\n",
       "                       [-0.7221,  0.2501, -1.3356, -0.3699],\n",
       "                       [-0.7103,  0.4527, -1.1712, -1.5749]],\n",
       "              \n",
       "                      [[ 0.7492, -0.4632,  0.0292,  1.0156],\n",
       "                       [-0.7221,  0.2501, -1.3356, -0.3699],\n",
       "                       [-0.7103,  0.4527, -1.1712, -1.5749]],\n",
       "              \n",
       "                      [[ 0.7492, -0.4632,  0.0292,  1.0156],\n",
       "                       [-0.7221,  0.2501, -1.3356, -0.3699],\n",
       "                       [-0.7103,  0.4527, -1.1712, -1.5749]],\n",
       "              \n",
       "                      [[ 0.7492, -0.4632,  0.0292,  1.0156],\n",
       "                       [-0.7221,  0.2501, -1.3356, -0.3699],\n",
       "                       [-0.7103,  0.4527, -1.1712, -1.5749]],\n",
       "              \n",
       "                      [[ 0.7492, -0.4632,  0.0292,  1.0156],\n",
       "                       [-0.7221,  0.2501, -1.3356, -0.3699],\n",
       "                       [-0.7103,  0.4527, -1.1712, -1.5749]],\n",
       "              \n",
       "                      [[ 0.7492, -0.4632,  0.0292,  1.0156],\n",
       "                       [-0.7221,  0.2501, -1.3356, -0.3699],\n",
       "                       [-0.7103,  0.4527, -1.1712, -1.5749]],\n",
       "              \n",
       "                      [[ 0.7492, -0.4632,  0.0292,  1.0156],\n",
       "                       [-0.7221,  0.2501, -1.3356, -0.3699],\n",
       "                       [-0.7103,  0.4527, -1.1712, -1.5749]],\n",
       "              \n",
       "                      [[ 0.7492, -0.4632,  0.0292,  1.0156],\n",
       "                       [-0.7221,  0.2501, -1.3356, -0.3699],\n",
       "                       [-0.7103,  0.4527, -1.1712, -1.5749]]]),\n",
       "       ),\n",
       ")"
      ]
     },
     "execution_count": 25,
     "metadata": {},
     "output_type": "execute_result"
    }
   ],
   "source": [
    "batches = [Batch(**_TREE_DATA_2) for _ in range(8)]\n",
    "\n",
    "Batch.stack(batches)"
   ]
  },
  {
   "cell_type": "code",
   "execution_count": 26,
   "id": "ec9037a3",
   "metadata": {
    "execution": {
     "iopub.execute_input": "2023-02-27T12:48:42.025706Z",
     "iopub.status.busy": "2023-02-27T12:48:42.025256Z",
     "iopub.status.idle": "2023-02-27T12:48:48.484318Z",
     "shell.execute_reply": "2023-02-27T12:48:48.483549Z"
    }
   },
   "outputs": [
    {
     "name": "stdout",
     "output_type": "stream",
     "text": [
      "79.5 µs ± 505 ns per loop (mean ± std. dev. of 7 runs, 10,000 loops each)\n"
     ]
    }
   ],
   "source": [
    "%timeit Batch.stack(batches)"
   ]
  },
  {
   "cell_type": "code",
   "execution_count": 27,
   "id": "cb8ab77e",
   "metadata": {
    "execution": {
     "iopub.execute_input": "2023-02-27T12:48:48.487606Z",
     "iopub.status.busy": "2023-02-27T12:48:48.487229Z",
     "iopub.status.idle": "2023-02-27T12:48:48.495817Z",
     "shell.execute_reply": "2023-02-27T12:48:48.494611Z"
    }
   },
   "outputs": [
    {
     "data": {
      "text/plain": [
       "Batch(\n",
       "    a: tensor([[-0.1177,  0.0695, -1.0330],\n",
       "               [-1.7521,  0.5552,  0.3245],\n",
       "               [-0.1177,  0.0695, -1.0330],\n",
       "               [-1.7521,  0.5552,  0.3245],\n",
       "               [-0.1177,  0.0695, -1.0330],\n",
       "               [-1.7521,  0.5552,  0.3245],\n",
       "               [-0.1177,  0.0695, -1.0330],\n",
       "               [-1.7521,  0.5552,  0.3245],\n",
       "               [-0.1177,  0.0695, -1.0330],\n",
       "               [-1.7521,  0.5552,  0.3245],\n",
       "               [-0.1177,  0.0695, -1.0330],\n",
       "               [-1.7521,  0.5552,  0.3245],\n",
       "               [-0.1177,  0.0695, -1.0330],\n",
       "               [-1.7521,  0.5552,  0.3245],\n",
       "               [-0.1177,  0.0695, -1.0330],\n",
       "               [-1.7521,  0.5552,  0.3245]]),\n",
       "    x: Batch(\n",
       "           c: tensor([[ 0.7492, -0.4632,  0.0292,  1.0156],\n",
       "                      [-0.7221,  0.2501, -1.3356, -0.3699],\n",
       "                      [-0.7103,  0.4527, -1.1712, -1.5749],\n",
       "                      [ 0.7492, -0.4632,  0.0292,  1.0156],\n",
       "                      [-0.7221,  0.2501, -1.3356, -0.3699],\n",
       "                      [-0.7103,  0.4527, -1.1712, -1.5749],\n",
       "                      [ 0.7492, -0.4632,  0.0292,  1.0156],\n",
       "                      [-0.7221,  0.2501, -1.3356, -0.3699],\n",
       "                      [-0.7103,  0.4527, -1.1712, -1.5749],\n",
       "                      [ 0.7492, -0.4632,  0.0292,  1.0156],\n",
       "                      [-0.7221,  0.2501, -1.3356, -0.3699],\n",
       "                      [-0.7103,  0.4527, -1.1712, -1.5749],\n",
       "                      [ 0.7492, -0.4632,  0.0292,  1.0156],\n",
       "                      [-0.7221,  0.2501, -1.3356, -0.3699],\n",
       "                      [-0.7103,  0.4527, -1.1712, -1.5749],\n",
       "                      [ 0.7492, -0.4632,  0.0292,  1.0156],\n",
       "                      [-0.7221,  0.2501, -1.3356, -0.3699],\n",
       "                      [-0.7103,  0.4527, -1.1712, -1.5749],\n",
       "                      [ 0.7492, -0.4632,  0.0292,  1.0156],\n",
       "                      [-0.7221,  0.2501, -1.3356, -0.3699],\n",
       "                      [-0.7103,  0.4527, -1.1712, -1.5749],\n",
       "                      [ 0.7492, -0.4632,  0.0292,  1.0156],\n",
       "                      [-0.7221,  0.2501, -1.3356, -0.3699],\n",
       "                      [-0.7103,  0.4527, -1.1712, -1.5749]]),\n",
       "       ),\n",
       ")"
      ]
     },
     "execution_count": 27,
     "metadata": {},
     "output_type": "execute_result"
    }
   ],
   "source": [
    "Batch.cat(batches)"
   ]
  },
  {
   "cell_type": "code",
   "execution_count": 28,
   "id": "18dfb045",
   "metadata": {
    "execution": {
     "iopub.execute_input": "2023-02-27T12:48:48.498546Z",
     "iopub.status.busy": "2023-02-27T12:48:48.498171Z",
     "iopub.status.idle": "2023-02-27T12:49:00.120466Z",
     "shell.execute_reply": "2023-02-27T12:49:00.119406Z"
    }
   },
   "outputs": [
    {
     "name": "stdout",
     "output_type": "stream",
     "text": [
      "143 µs ± 522 ns per loop (mean ± std. dev. of 7 runs, 10,000 loops each)\n"
     ]
    }
   ],
   "source": [
    "%timeit Batch.cat(batches)"
   ]
  },
  {
   "cell_type": "code",
   "execution_count": 29,
   "id": "c6688e51",
   "metadata": {
    "execution": {
     "iopub.execute_input": "2023-02-27T12:49:00.123849Z",
     "iopub.status.busy": "2023-02-27T12:49:00.123362Z",
     "iopub.status.idle": "2023-02-27T12:49:02.772414Z",
     "shell.execute_reply": "2023-02-27T12:49:02.771767Z"
    }
   },
   "outputs": [
    {
     "name": "stdout",
     "output_type": "stream",
     "text": [
      "325 µs ± 777 ns per loop (mean ± std. dev. of 7 runs, 1,000 loops each)\n"
     ]
    }
   ],
   "source": [
    "batch = Batch({\n",
    "    'obs': torch.randn(8, 4, 84, 84),\n",
    "    'action': torch.randint(0, 6, size=(8, 1,)),\n",
    "    'reward': torch.rand(8, 1)}\n",
    ")\n",
    "\n",
    "%timeit list(Batch.split(batch, 1, shuffle=False, merge_last=True))"
   ]
  },
  {
   "cell_type": "code",
   "execution_count": null,
   "id": "2539fbd9",
   "metadata": {},
   "outputs": [],
   "source": []
  }
 ],
 "metadata": {
  "kernelspec": {
   "display_name": "Python 3 (ipykernel)",
   "language": "python",
   "name": "python3"
  },
  "language_info": {
   "codemirror_mode": {
    "name": "ipython",
    "version": 3
   },
   "file_extension": ".py",
   "mimetype": "text/x-python",
   "name": "python",
   "nbconvert_exporter": "python",
   "pygments_lexer": "ipython3",
   "version": "3.8.16"
  }
 },
 "nbformat": 4,
 "nbformat_minor": 5
}
