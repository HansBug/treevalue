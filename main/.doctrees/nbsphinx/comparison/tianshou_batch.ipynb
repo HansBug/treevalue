{
 "cells": [
  {
   "cell_type": "markdown",
   "id": "9d39d946",
   "metadata": {},
   "source": [
    "# Comparison Between TreeValue and Tianshou Batch"
   ]
  },
  {
   "cell_type": "markdown",
   "id": "3c6db2d4",
   "metadata": {},
   "source": [
    "In this section, we will take a look at the feature and performance of the [Tianshou Batch](https://github.com/thu-ml/tianshou) library, which is developed by Tsinghua Machine Learning Group."
   ]
  },
  {
   "cell_type": "markdown",
   "id": "069361b0",
   "metadata": {},
   "source": [
    "Before starting the comparison, let us define some thing."
   ]
  },
  {
   "cell_type": "code",
   "execution_count": 1,
   "id": "06fc8d26",
   "metadata": {
    "execution": {
     "iopub.execute_input": "2023-02-12T17:48:19.340600Z",
     "iopub.status.busy": "2023-02-12T17:48:19.340083Z",
     "iopub.status.idle": "2023-02-12T17:48:20.246881Z",
     "shell.execute_reply": "2023-02-12T17:48:20.246229Z"
    }
   },
   "outputs": [
    {
     "name": "stderr",
     "output_type": "stream",
     "text": [
      "/opt/hostedtoolcache/Python/3.8.16/x64/lib/python3.8/site-packages/tqdm/auto.py:22: TqdmWarning: IProgress not found. Please update jupyter and ipywidgets. See https://ipywidgets.readthedocs.io/en/stable/user_install.html\n",
      "  from .autonotebook import tqdm as notebook_tqdm\n"
     ]
    }
   ],
   "source": [
    "import torch \n",
    "\n",
    "_TREE_DATA_1 = {'a': 1, 'b': 2, 'x': {'c': 3, 'd': 4}}\n",
    "_TREE_DATA_2 = {\n",
    "    'a': torch.randn(2, 3), \n",
    "    'x': {\n",
    "        'c': torch.randn(3, 4)\n",
    "    },\n",
    "}\n",
    "_TREE_DATA_3 = {\n",
    "    'obs': torch.randn(4, 84, 84),\n",
    "    'action': torch.randint(0, 6, size=(1,)),\n",
    "    'reward': torch.rand(1),\n",
    "}"
   ]
  },
  {
   "cell_type": "markdown",
   "id": "83461b25",
   "metadata": {},
   "source": [
    "## Read and Write Operation"
   ]
  },
  {
   "cell_type": "markdown",
   "id": "067b3f73",
   "metadata": {},
   "source": [
    "Reading and writing are the two most common operations in the tree data structure based on the data model (TreeValue and Tianshou Batch both belong to this type), so this section will compare the reading and writing performance of these two libraries."
   ]
  },
  {
   "cell_type": "markdown",
   "id": "5d09a5b7",
   "metadata": {},
   "source": [
    "### TreeValue's Get and Set"
   ]
  },
  {
   "cell_type": "code",
   "execution_count": 2,
   "id": "9519c4bb",
   "metadata": {
    "execution": {
     "iopub.execute_input": "2023-02-12T17:48:20.250032Z",
     "iopub.status.busy": "2023-02-12T17:48:20.249634Z",
     "iopub.status.idle": "2023-02-12T17:48:20.281979Z",
     "shell.execute_reply": "2023-02-12T17:48:20.281372Z"
    }
   },
   "outputs": [],
   "source": [
    "from treevalue import FastTreeValue\n",
    "\n",
    "t = FastTreeValue(_TREE_DATA_2)"
   ]
  },
  {
   "cell_type": "code",
   "execution_count": 3,
   "id": "11c37677",
   "metadata": {
    "execution": {
     "iopub.execute_input": "2023-02-12T17:48:20.284515Z",
     "iopub.status.busy": "2023-02-12T17:48:20.284188Z",
     "iopub.status.idle": "2023-02-12T17:48:20.293079Z",
     "shell.execute_reply": "2023-02-12T17:48:20.292493Z"
    }
   },
   "outputs": [
    {
     "data": {
      "text/plain": [
       "<FastTreeValue 0x7f9ee0e59d90>\n",
       "├── 'a' --> tensor([[-0.5805, -0.9187,  1.5745],\n",
       "│                   [-0.9200,  0.1780,  1.1750]])\n",
       "└── 'x' --> <FastTreeValue 0x7f9ee0e592b0>\n",
       "    └── 'c' --> tensor([[ 1.4841, -0.4748, -0.1829,  1.4843],\n",
       "                        [-0.1868, -0.8543,  0.5927, -1.3745],\n",
       "                        [-0.4128,  0.5505,  0.2066,  0.2966]])"
      ]
     },
     "execution_count": 3,
     "metadata": {},
     "output_type": "execute_result"
    }
   ],
   "source": [
    "t"
   ]
  },
  {
   "cell_type": "code",
   "execution_count": 4,
   "id": "fd70b0b9",
   "metadata": {
    "execution": {
     "iopub.execute_input": "2023-02-12T17:48:20.295509Z",
     "iopub.status.busy": "2023-02-12T17:48:20.295173Z",
     "iopub.status.idle": "2023-02-12T17:48:20.299881Z",
     "shell.execute_reply": "2023-02-12T17:48:20.299264Z"
    }
   },
   "outputs": [
    {
     "data": {
      "text/plain": [
       "tensor([[-0.5805, -0.9187,  1.5745],\n",
       "        [-0.9200,  0.1780,  1.1750]])"
      ]
     },
     "execution_count": 4,
     "metadata": {},
     "output_type": "execute_result"
    }
   ],
   "source": [
    "t.a"
   ]
  },
  {
   "cell_type": "code",
   "execution_count": 5,
   "id": "c18197bd",
   "metadata": {
    "execution": {
     "iopub.execute_input": "2023-02-12T17:48:20.302437Z",
     "iopub.status.busy": "2023-02-12T17:48:20.301910Z",
     "iopub.status.idle": "2023-02-12T17:48:25.304090Z",
     "shell.execute_reply": "2023-02-12T17:48:25.303200Z"
    }
   },
   "outputs": [
    {
     "name": "stdout",
     "output_type": "stream",
     "text": [
      "62 ns ± 0.0853 ns per loop (mean ± std. dev. of 7 runs, 10,000,000 loops each)\n"
     ]
    }
   ],
   "source": [
    "%timeit t.a"
   ]
  },
  {
   "cell_type": "code",
   "execution_count": 6,
   "id": "bd52f867",
   "metadata": {
    "execution": {
     "iopub.execute_input": "2023-02-12T17:48:25.306906Z",
     "iopub.status.busy": "2023-02-12T17:48:25.306543Z",
     "iopub.status.idle": "2023-02-12T17:48:25.313215Z",
     "shell.execute_reply": "2023-02-12T17:48:25.312615Z"
    }
   },
   "outputs": [
    {
     "data": {
      "text/plain": [
       "<FastTreeValue 0x7f9ee0e59d90>\n",
       "├── 'a' --> tensor([[0.5596, 0.6354, 0.3085],\n",
       "│                   [1.0607, 0.3590, 0.1221]])\n",
       "└── 'x' --> <FastTreeValue 0x7f9ee0e592b0>\n",
       "    └── 'c' --> tensor([[ 1.4841, -0.4748, -0.1829,  1.4843],\n",
       "                        [-0.1868, -0.8543,  0.5927, -1.3745],\n",
       "                        [-0.4128,  0.5505,  0.2066,  0.2966]])"
      ]
     },
     "execution_count": 6,
     "metadata": {},
     "output_type": "execute_result"
    }
   ],
   "source": [
    "new_value = torch.randn(2, 3)\n",
    "t.a = new_value\n",
    "\n",
    "t"
   ]
  },
  {
   "cell_type": "code",
   "execution_count": 7,
   "id": "bbe04d1c",
   "metadata": {
    "execution": {
     "iopub.execute_input": "2023-02-12T17:48:25.316042Z",
     "iopub.status.busy": "2023-02-12T17:48:25.315580Z",
     "iopub.status.idle": "2023-02-12T17:48:30.328710Z",
     "shell.execute_reply": "2023-02-12T17:48:30.327976Z"
    }
   },
   "outputs": [
    {
     "name": "stdout",
     "output_type": "stream",
     "text": [
      "61.8 ns ± 0.0454 ns per loop (mean ± std. dev. of 7 runs, 10,000,000 loops each)\n"
     ]
    }
   ],
   "source": [
    "%timeit t.a = new_value"
   ]
  },
  {
   "cell_type": "markdown",
   "id": "48c49731",
   "metadata": {},
   "source": [
    "### Tianshou Batch's Get and Set"
   ]
  },
  {
   "cell_type": "code",
   "execution_count": 8,
   "id": "f1bb14c1",
   "metadata": {
    "execution": {
     "iopub.execute_input": "2023-02-12T17:48:30.332012Z",
     "iopub.status.busy": "2023-02-12T17:48:30.331368Z",
     "iopub.status.idle": "2023-02-12T17:48:30.651707Z",
     "shell.execute_reply": "2023-02-12T17:48:30.651050Z"
    }
   },
   "outputs": [],
   "source": [
    "from tianshou.data import Batch\n",
    "\n",
    "b = Batch(**_TREE_DATA_2)"
   ]
  },
  {
   "cell_type": "code",
   "execution_count": 9,
   "id": "cb0777c3",
   "metadata": {
    "execution": {
     "iopub.execute_input": "2023-02-12T17:48:30.654655Z",
     "iopub.status.busy": "2023-02-12T17:48:30.654159Z",
     "iopub.status.idle": "2023-02-12T17:48:30.660048Z",
     "shell.execute_reply": "2023-02-12T17:48:30.659475Z"
    }
   },
   "outputs": [
    {
     "data": {
      "text/plain": [
       "Batch(\n",
       "    a: tensor([[-0.5805, -0.9187,  1.5745],\n",
       "               [-0.9200,  0.1780,  1.1750]]),\n",
       "    x: Batch(\n",
       "           c: tensor([[ 1.4841, -0.4748, -0.1829,  1.4843],\n",
       "                      [-0.1868, -0.8543,  0.5927, -1.3745],\n",
       "                      [-0.4128,  0.5505,  0.2066,  0.2966]]),\n",
       "       ),\n",
       ")"
      ]
     },
     "execution_count": 9,
     "metadata": {},
     "output_type": "execute_result"
    }
   ],
   "source": [
    "b"
   ]
  },
  {
   "cell_type": "code",
   "execution_count": 10,
   "id": "43ef8ea3",
   "metadata": {
    "execution": {
     "iopub.execute_input": "2023-02-12T17:48:30.662718Z",
     "iopub.status.busy": "2023-02-12T17:48:30.662111Z",
     "iopub.status.idle": "2023-02-12T17:48:30.667332Z",
     "shell.execute_reply": "2023-02-12T17:48:30.666746Z"
    }
   },
   "outputs": [
    {
     "data": {
      "text/plain": [
       "tensor([[-0.5805, -0.9187,  1.5745],\n",
       "        [-0.9200,  0.1780,  1.1750]])"
      ]
     },
     "execution_count": 10,
     "metadata": {},
     "output_type": "execute_result"
    }
   ],
   "source": [
    "b.a"
   ]
  },
  {
   "cell_type": "code",
   "execution_count": 11,
   "id": "b785ab72",
   "metadata": {
    "execution": {
     "iopub.execute_input": "2023-02-12T17:48:30.669644Z",
     "iopub.status.busy": "2023-02-12T17:48:30.669304Z",
     "iopub.status.idle": "2023-02-12T17:48:35.061104Z",
     "shell.execute_reply": "2023-02-12T17:48:35.060375Z"
    }
   },
   "outputs": [
    {
     "name": "stdout",
     "output_type": "stream",
     "text": [
      "54.1 ns ± 0.156 ns per loop (mean ± std. dev. of 7 runs, 10,000,000 loops each)\n"
     ]
    }
   ],
   "source": [
    "%timeit b.a"
   ]
  },
  {
   "cell_type": "code",
   "execution_count": 12,
   "id": "ad54dc69",
   "metadata": {
    "execution": {
     "iopub.execute_input": "2023-02-12T17:48:35.063888Z",
     "iopub.status.busy": "2023-02-12T17:48:35.063522Z",
     "iopub.status.idle": "2023-02-12T17:48:35.070423Z",
     "shell.execute_reply": "2023-02-12T17:48:35.069829Z"
    }
   },
   "outputs": [
    {
     "data": {
      "text/plain": [
       "Batch(\n",
       "    a: tensor([[ 0.0202, -1.2519, -1.0017],\n",
       "               [-0.1771, -0.6391, -0.4135]]),\n",
       "    x: Batch(\n",
       "           c: tensor([[ 1.4841, -0.4748, -0.1829,  1.4843],\n",
       "                      [-0.1868, -0.8543,  0.5927, -1.3745],\n",
       "                      [-0.4128,  0.5505,  0.2066,  0.2966]]),\n",
       "       ),\n",
       ")"
      ]
     },
     "execution_count": 12,
     "metadata": {},
     "output_type": "execute_result"
    }
   ],
   "source": [
    "new_value = torch.randn(2, 3)\n",
    "b.a = new_value\n",
    "\n",
    "b"
   ]
  },
  {
   "cell_type": "code",
   "execution_count": 13,
   "id": "29b1d0bf",
   "metadata": {
    "execution": {
     "iopub.execute_input": "2023-02-12T17:48:35.072956Z",
     "iopub.status.busy": "2023-02-12T17:48:35.072625Z",
     "iopub.status.idle": "2023-02-12T17:48:38.973615Z",
     "shell.execute_reply": "2023-02-12T17:48:38.972838Z"
    }
   },
   "outputs": [
    {
     "name": "stdout",
     "output_type": "stream",
     "text": [
      "480 ns ± 0.15 ns per loop (mean ± std. dev. of 7 runs, 1,000,000 loops each)\n"
     ]
    }
   ],
   "source": [
    "%timeit b.a = new_value"
   ]
  },
  {
   "cell_type": "markdown",
   "id": "b61ad1d0",
   "metadata": {},
   "source": [
    "## Initialization"
   ]
  },
  {
   "cell_type": "markdown",
   "id": "d70f0d54",
   "metadata": {},
   "source": [
    "### TreeValue's Initialization"
   ]
  },
  {
   "cell_type": "code",
   "execution_count": 14,
   "id": "d32a679b",
   "metadata": {
    "execution": {
     "iopub.execute_input": "2023-02-12T17:48:38.976878Z",
     "iopub.status.busy": "2023-02-12T17:48:38.976382Z",
     "iopub.status.idle": "2023-02-12T17:48:45.803548Z",
     "shell.execute_reply": "2023-02-12T17:48:45.802798Z"
    }
   },
   "outputs": [
    {
     "name": "stdout",
     "output_type": "stream",
     "text": [
      "841 ns ± 0.237 ns per loop (mean ± std. dev. of 7 runs, 1,000,000 loops each)\n"
     ]
    }
   ],
   "source": [
    "%timeit FastTreeValue(_TREE_DATA_1)"
   ]
  },
  {
   "cell_type": "markdown",
   "id": "24f3707b",
   "metadata": {},
   "source": [
    "### Tianshou Batch's Initialization"
   ]
  },
  {
   "cell_type": "code",
   "execution_count": 15,
   "id": "ac3958df",
   "metadata": {
    "execution": {
     "iopub.execute_input": "2023-02-12T17:48:45.806381Z",
     "iopub.status.busy": "2023-02-12T17:48:45.806033Z",
     "iopub.status.idle": "2023-02-12T17:48:54.928741Z",
     "shell.execute_reply": "2023-02-12T17:48:54.927979Z"
    }
   },
   "outputs": [
    {
     "name": "stdout",
     "output_type": "stream",
     "text": [
      "11.2 µs ± 53.7 ns per loop (mean ± std. dev. of 7 runs, 100,000 loops each)\n"
     ]
    }
   ],
   "source": [
    "%timeit Batch(**_TREE_DATA_1)"
   ]
  },
  {
   "cell_type": "markdown",
   "id": "1ab82e2d",
   "metadata": {},
   "source": [
    "## Deep Copy Operation"
   ]
  },
  {
   "cell_type": "code",
   "execution_count": 16,
   "id": "210a9442",
   "metadata": {
    "execution": {
     "iopub.execute_input": "2023-02-12T17:48:54.931930Z",
     "iopub.status.busy": "2023-02-12T17:48:54.931430Z",
     "iopub.status.idle": "2023-02-12T17:48:54.935389Z",
     "shell.execute_reply": "2023-02-12T17:48:54.934780Z"
    }
   },
   "outputs": [],
   "source": [
    "import copy"
   ]
  },
  {
   "cell_type": "markdown",
   "id": "5a736274",
   "metadata": {},
   "source": [
    "### Deep Copy of TreeValue"
   ]
  },
  {
   "cell_type": "code",
   "execution_count": 17,
   "id": "f9bcadd6",
   "metadata": {
    "execution": {
     "iopub.execute_input": "2023-02-12T17:48:54.938000Z",
     "iopub.status.busy": "2023-02-12T17:48:54.937686Z",
     "iopub.status.idle": "2023-02-12T17:49:05.968562Z",
     "shell.execute_reply": "2023-02-12T17:49:05.968002Z"
    }
   },
   "outputs": [
    {
     "name": "stdout",
     "output_type": "stream",
     "text": [
      "136 µs ± 1.15 µs per loop (mean ± std. dev. of 7 runs, 10,000 loops each)\n"
     ]
    }
   ],
   "source": [
    "t3 = FastTreeValue(_TREE_DATA_3)\n",
    "%timeit copy.deepcopy(t3)"
   ]
  },
  {
   "cell_type": "markdown",
   "id": "bf8be7ea",
   "metadata": {},
   "source": [
    "### Deep Copy of Tianshou Batch"
   ]
  },
  {
   "cell_type": "code",
   "execution_count": 18,
   "id": "91998e6f",
   "metadata": {
    "execution": {
     "iopub.execute_input": "2023-02-12T17:49:05.974327Z",
     "iopub.status.busy": "2023-02-12T17:49:05.973872Z",
     "iopub.status.idle": "2023-02-12T17:49:17.169557Z",
     "shell.execute_reply": "2023-02-12T17:49:17.168979Z"
    }
   },
   "outputs": [
    {
     "name": "stdout",
     "output_type": "stream",
     "text": [
      "138 µs ± 2.22 µs per loop (mean ± std. dev. of 7 runs, 10,000 loops each)\n"
     ]
    }
   ],
   "source": [
    "b3 = Batch(**_TREE_DATA_3)\n",
    "%timeit copy.deepcopy(b3)"
   ]
  },
  {
   "cell_type": "markdown",
   "id": "223162fb",
   "metadata": {},
   "source": [
    "## Stack, Concat and Split Operation"
   ]
  },
  {
   "cell_type": "markdown",
   "id": "85fa4a73",
   "metadata": {},
   "source": [
    "### Performance of TreeValue"
   ]
  },
  {
   "cell_type": "code",
   "execution_count": 19,
   "id": "a0c2b697",
   "metadata": {
    "execution": {
     "iopub.execute_input": "2023-02-12T17:49:17.172418Z",
     "iopub.status.busy": "2023-02-12T17:49:17.172049Z",
     "iopub.status.idle": "2023-02-12T17:49:17.175092Z",
     "shell.execute_reply": "2023-02-12T17:49:17.174589Z"
    }
   },
   "outputs": [],
   "source": [
    "trees = [FastTreeValue(_TREE_DATA_2) for _ in range(8)]"
   ]
  },
  {
   "cell_type": "code",
   "execution_count": 20,
   "id": "017ea5a5",
   "metadata": {
    "execution": {
     "iopub.execute_input": "2023-02-12T17:49:17.177460Z",
     "iopub.status.busy": "2023-02-12T17:49:17.177107Z",
     "iopub.status.idle": "2023-02-12T17:49:17.183669Z",
     "shell.execute_reply": "2023-02-12T17:49:17.183154Z"
    }
   },
   "outputs": [
    {
     "data": {
      "text/plain": [
       "<FastTreeValue 0x7f9e36afa670>\n",
       "├── 'a' --> tensor([[[-0.5805, -0.9187,  1.5745],\n",
       "│                    [-0.9200,  0.1780,  1.1750]],\n",
       "│           \n",
       "│                   [[-0.5805, -0.9187,  1.5745],\n",
       "│                    [-0.9200,  0.1780,  1.1750]],\n",
       "│           \n",
       "│                   [[-0.5805, -0.9187,  1.5745],\n",
       "│                    [-0.9200,  0.1780,  1.1750]],\n",
       "│           \n",
       "│                   [[-0.5805, -0.9187,  1.5745],\n",
       "│                    [-0.9200,  0.1780,  1.1750]],\n",
       "│           \n",
       "│                   [[-0.5805, -0.9187,  1.5745],\n",
       "│                    [-0.9200,  0.1780,  1.1750]],\n",
       "│           \n",
       "│                   [[-0.5805, -0.9187,  1.5745],\n",
       "│                    [-0.9200,  0.1780,  1.1750]],\n",
       "│           \n",
       "│                   [[-0.5805, -0.9187,  1.5745],\n",
       "│                    [-0.9200,  0.1780,  1.1750]],\n",
       "│           \n",
       "│                   [[-0.5805, -0.9187,  1.5745],\n",
       "│                    [-0.9200,  0.1780,  1.1750]]])\n",
       "└── 'x' --> <FastTreeValue 0x7f9e36afa4f0>\n",
       "    └── 'c' --> tensor([[[ 1.4841, -0.4748, -0.1829,  1.4843],\n",
       "                         [-0.1868, -0.8543,  0.5927, -1.3745],\n",
       "                         [-0.4128,  0.5505,  0.2066,  0.2966]],\n",
       "                \n",
       "                        [[ 1.4841, -0.4748, -0.1829,  1.4843],\n",
       "                         [-0.1868, -0.8543,  0.5927, -1.3745],\n",
       "                         [-0.4128,  0.5505,  0.2066,  0.2966]],\n",
       "                \n",
       "                        [[ 1.4841, -0.4748, -0.1829,  1.4843],\n",
       "                         [-0.1868, -0.8543,  0.5927, -1.3745],\n",
       "                         [-0.4128,  0.5505,  0.2066,  0.2966]],\n",
       "                \n",
       "                        [[ 1.4841, -0.4748, -0.1829,  1.4843],\n",
       "                         [-0.1868, -0.8543,  0.5927, -1.3745],\n",
       "                         [-0.4128,  0.5505,  0.2066,  0.2966]],\n",
       "                \n",
       "                        [[ 1.4841, -0.4748, -0.1829,  1.4843],\n",
       "                         [-0.1868, -0.8543,  0.5927, -1.3745],\n",
       "                         [-0.4128,  0.5505,  0.2066,  0.2966]],\n",
       "                \n",
       "                        [[ 1.4841, -0.4748, -0.1829,  1.4843],\n",
       "                         [-0.1868, -0.8543,  0.5927, -1.3745],\n",
       "                         [-0.4128,  0.5505,  0.2066,  0.2966]],\n",
       "                \n",
       "                        [[ 1.4841, -0.4748, -0.1829,  1.4843],\n",
       "                         [-0.1868, -0.8543,  0.5927, -1.3745],\n",
       "                         [-0.4128,  0.5505,  0.2066,  0.2966]],\n",
       "                \n",
       "                        [[ 1.4841, -0.4748, -0.1829,  1.4843],\n",
       "                         [-0.1868, -0.8543,  0.5927, -1.3745],\n",
       "                         [-0.4128,  0.5505,  0.2066,  0.2966]]])"
      ]
     },
     "execution_count": 20,
     "metadata": {},
     "output_type": "execute_result"
    }
   ],
   "source": [
    "t_stack = FastTreeValue.func(subside=True)(torch.stack)\n",
    "\n",
    "t_stack(trees)"
   ]
  },
  {
   "cell_type": "code",
   "execution_count": 21,
   "id": "f8b3f415",
   "metadata": {
    "execution": {
     "iopub.execute_input": "2023-02-12T17:49:17.185986Z",
     "iopub.status.busy": "2023-02-12T17:49:17.185656Z",
     "iopub.status.idle": "2023-02-12T17:49:19.847851Z",
     "shell.execute_reply": "2023-02-12T17:49:19.847092Z"
    }
   },
   "outputs": [
    {
     "name": "stdout",
     "output_type": "stream",
     "text": [
      "32.8 µs ± 43.3 ns per loop (mean ± std. dev. of 7 runs, 10,000 loops each)\n"
     ]
    }
   ],
   "source": [
    "%timeit t_stack(trees)"
   ]
  },
  {
   "cell_type": "code",
   "execution_count": 22,
   "id": "94b56771",
   "metadata": {
    "execution": {
     "iopub.execute_input": "2023-02-12T17:49:19.850519Z",
     "iopub.status.busy": "2023-02-12T17:49:19.850157Z",
     "iopub.status.idle": "2023-02-12T17:49:19.857309Z",
     "shell.execute_reply": "2023-02-12T17:49:19.856673Z"
    }
   },
   "outputs": [
    {
     "data": {
      "text/plain": [
       "<FastTreeValue 0x7f9e3721bca0>\n",
       "├── 'a' --> tensor([[-0.5805, -0.9187,  1.5745],\n",
       "│                   [-0.9200,  0.1780,  1.1750],\n",
       "│                   [-0.5805, -0.9187,  1.5745],\n",
       "│                   [-0.9200,  0.1780,  1.1750],\n",
       "│                   [-0.5805, -0.9187,  1.5745],\n",
       "│                   [-0.9200,  0.1780,  1.1750],\n",
       "│                   [-0.5805, -0.9187,  1.5745],\n",
       "│                   [-0.9200,  0.1780,  1.1750],\n",
       "│                   [-0.5805, -0.9187,  1.5745],\n",
       "│                   [-0.9200,  0.1780,  1.1750],\n",
       "│                   [-0.5805, -0.9187,  1.5745],\n",
       "│                   [-0.9200,  0.1780,  1.1750],\n",
       "│                   [-0.5805, -0.9187,  1.5745],\n",
       "│                   [-0.9200,  0.1780,  1.1750],\n",
       "│                   [-0.5805, -0.9187,  1.5745],\n",
       "│                   [-0.9200,  0.1780,  1.1750]])\n",
       "└── 'x' --> <FastTreeValue 0x7f9e3721bc10>\n",
       "    └── 'c' --> tensor([[ 1.4841, -0.4748, -0.1829,  1.4843],\n",
       "                        [-0.1868, -0.8543,  0.5927, -1.3745],\n",
       "                        [-0.4128,  0.5505,  0.2066,  0.2966],\n",
       "                        [ 1.4841, -0.4748, -0.1829,  1.4843],\n",
       "                        [-0.1868, -0.8543,  0.5927, -1.3745],\n",
       "                        [-0.4128,  0.5505,  0.2066,  0.2966],\n",
       "                        [ 1.4841, -0.4748, -0.1829,  1.4843],\n",
       "                        [-0.1868, -0.8543,  0.5927, -1.3745],\n",
       "                        [-0.4128,  0.5505,  0.2066,  0.2966],\n",
       "                        [ 1.4841, -0.4748, -0.1829,  1.4843],\n",
       "                        [-0.1868, -0.8543,  0.5927, -1.3745],\n",
       "                        [-0.4128,  0.5505,  0.2066,  0.2966],\n",
       "                        [ 1.4841, -0.4748, -0.1829,  1.4843],\n",
       "                        [-0.1868, -0.8543,  0.5927, -1.3745],\n",
       "                        [-0.4128,  0.5505,  0.2066,  0.2966],\n",
       "                        [ 1.4841, -0.4748, -0.1829,  1.4843],\n",
       "                        [-0.1868, -0.8543,  0.5927, -1.3745],\n",
       "                        [-0.4128,  0.5505,  0.2066,  0.2966],\n",
       "                        [ 1.4841, -0.4748, -0.1829,  1.4843],\n",
       "                        [-0.1868, -0.8543,  0.5927, -1.3745],\n",
       "                        [-0.4128,  0.5505,  0.2066,  0.2966],\n",
       "                        [ 1.4841, -0.4748, -0.1829,  1.4843],\n",
       "                        [-0.1868, -0.8543,  0.5927, -1.3745],\n",
       "                        [-0.4128,  0.5505,  0.2066,  0.2966]])"
      ]
     },
     "execution_count": 22,
     "metadata": {},
     "output_type": "execute_result"
    }
   ],
   "source": [
    "t_cat = FastTreeValue.func(subside=True)(torch.cat)\n",
    "\n",
    "t_cat(trees)"
   ]
  },
  {
   "cell_type": "code",
   "execution_count": 23,
   "id": "5e9c06a6",
   "metadata": {
    "execution": {
     "iopub.execute_input": "2023-02-12T17:49:19.859814Z",
     "iopub.status.busy": "2023-02-12T17:49:19.859322Z",
     "iopub.status.idle": "2023-02-12T17:49:22.334031Z",
     "shell.execute_reply": "2023-02-12T17:49:22.333279Z"
    }
   },
   "outputs": [
    {
     "name": "stdout",
     "output_type": "stream",
     "text": [
      "30.4 µs ± 18.2 ns per loop (mean ± std. dev. of 7 runs, 10,000 loops each)\n"
     ]
    }
   ],
   "source": [
    "%timeit t_cat(trees)"
   ]
  },
  {
   "cell_type": "code",
   "execution_count": 24,
   "id": "a3ab5c8f",
   "metadata": {
    "execution": {
     "iopub.execute_input": "2023-02-12T17:49:22.337008Z",
     "iopub.status.busy": "2023-02-12T17:49:22.336450Z",
     "iopub.status.idle": "2023-02-12T17:49:27.174177Z",
     "shell.execute_reply": "2023-02-12T17:49:27.173449Z"
    }
   },
   "outputs": [
    {
     "name": "stdout",
     "output_type": "stream",
     "text": [
      "59.5 µs ± 81.8 ns per loop (mean ± std. dev. of 7 runs, 10,000 loops each)\n"
     ]
    }
   ],
   "source": [
    "t_split = FastTreeValue.func(rise=True)(torch.split)\n",
    "tree = FastTreeValue({\n",
    "    'obs': torch.randn(8, 4, 84, 84),\n",
    "    'action': torch.randint(0, 6, size=(8, 1,)),\n",
    "    'reward': torch.rand(8, 1),\n",
    "})\n",
    "\n",
    "%timeit t_split(tree, 1)"
   ]
  },
  {
   "cell_type": "markdown",
   "id": "31c3ec0b",
   "metadata": {},
   "source": [
    "### Performance of Tianshou Batch"
   ]
  },
  {
   "cell_type": "code",
   "execution_count": 25,
   "id": "9ead828a",
   "metadata": {
    "execution": {
     "iopub.execute_input": "2023-02-12T17:49:27.177365Z",
     "iopub.status.busy": "2023-02-12T17:49:27.176842Z",
     "iopub.status.idle": "2023-02-12T17:49:27.184731Z",
     "shell.execute_reply": "2023-02-12T17:49:27.184142Z"
    }
   },
   "outputs": [
    {
     "data": {
      "text/plain": [
       "Batch(\n",
       "    a: tensor([[[-0.5805, -0.9187,  1.5745],\n",
       "                [-0.9200,  0.1780,  1.1750]],\n",
       "       \n",
       "               [[-0.5805, -0.9187,  1.5745],\n",
       "                [-0.9200,  0.1780,  1.1750]],\n",
       "       \n",
       "               [[-0.5805, -0.9187,  1.5745],\n",
       "                [-0.9200,  0.1780,  1.1750]],\n",
       "       \n",
       "               [[-0.5805, -0.9187,  1.5745],\n",
       "                [-0.9200,  0.1780,  1.1750]],\n",
       "       \n",
       "               [[-0.5805, -0.9187,  1.5745],\n",
       "                [-0.9200,  0.1780,  1.1750]],\n",
       "       \n",
       "               [[-0.5805, -0.9187,  1.5745],\n",
       "                [-0.9200,  0.1780,  1.1750]],\n",
       "       \n",
       "               [[-0.5805, -0.9187,  1.5745],\n",
       "                [-0.9200,  0.1780,  1.1750]],\n",
       "       \n",
       "               [[-0.5805, -0.9187,  1.5745],\n",
       "                [-0.9200,  0.1780,  1.1750]]]),\n",
       "    x: Batch(\n",
       "           c: tensor([[[ 1.4841, -0.4748, -0.1829,  1.4843],\n",
       "                       [-0.1868, -0.8543,  0.5927, -1.3745],\n",
       "                       [-0.4128,  0.5505,  0.2066,  0.2966]],\n",
       "              \n",
       "                      [[ 1.4841, -0.4748, -0.1829,  1.4843],\n",
       "                       [-0.1868, -0.8543,  0.5927, -1.3745],\n",
       "                       [-0.4128,  0.5505,  0.2066,  0.2966]],\n",
       "              \n",
       "                      [[ 1.4841, -0.4748, -0.1829,  1.4843],\n",
       "                       [-0.1868, -0.8543,  0.5927, -1.3745],\n",
       "                       [-0.4128,  0.5505,  0.2066,  0.2966]],\n",
       "              \n",
       "                      [[ 1.4841, -0.4748, -0.1829,  1.4843],\n",
       "                       [-0.1868, -0.8543,  0.5927, -1.3745],\n",
       "                       [-0.4128,  0.5505,  0.2066,  0.2966]],\n",
       "              \n",
       "                      [[ 1.4841, -0.4748, -0.1829,  1.4843],\n",
       "                       [-0.1868, -0.8543,  0.5927, -1.3745],\n",
       "                       [-0.4128,  0.5505,  0.2066,  0.2966]],\n",
       "              \n",
       "                      [[ 1.4841, -0.4748, -0.1829,  1.4843],\n",
       "                       [-0.1868, -0.8543,  0.5927, -1.3745],\n",
       "                       [-0.4128,  0.5505,  0.2066,  0.2966]],\n",
       "              \n",
       "                      [[ 1.4841, -0.4748, -0.1829,  1.4843],\n",
       "                       [-0.1868, -0.8543,  0.5927, -1.3745],\n",
       "                       [-0.4128,  0.5505,  0.2066,  0.2966]],\n",
       "              \n",
       "                      [[ 1.4841, -0.4748, -0.1829,  1.4843],\n",
       "                       [-0.1868, -0.8543,  0.5927, -1.3745],\n",
       "                       [-0.4128,  0.5505,  0.2066,  0.2966]]]),\n",
       "       ),\n",
       ")"
      ]
     },
     "execution_count": 25,
     "metadata": {},
     "output_type": "execute_result"
    }
   ],
   "source": [
    "batches = [Batch(**_TREE_DATA_2) for _ in range(8)]\n",
    "\n",
    "Batch.stack(batches)"
   ]
  },
  {
   "cell_type": "code",
   "execution_count": 26,
   "id": "ec9037a3",
   "metadata": {
    "execution": {
     "iopub.execute_input": "2023-02-12T17:49:27.187318Z",
     "iopub.status.busy": "2023-02-12T17:49:27.186988Z",
     "iopub.status.idle": "2023-02-12T17:49:34.283969Z",
     "shell.execute_reply": "2023-02-12T17:49:34.283218Z"
    }
   },
   "outputs": [
    {
     "name": "stdout",
     "output_type": "stream",
     "text": [
      "87.4 µs ± 86.5 ns per loop (mean ± std. dev. of 7 runs, 10,000 loops each)\n"
     ]
    }
   ],
   "source": [
    "%timeit Batch.stack(batches)"
   ]
  },
  {
   "cell_type": "code",
   "execution_count": 27,
   "id": "cb8ab77e",
   "metadata": {
    "execution": {
     "iopub.execute_input": "2023-02-12T17:49:34.287198Z",
     "iopub.status.busy": "2023-02-12T17:49:34.286677Z",
     "iopub.status.idle": "2023-02-12T17:49:34.294697Z",
     "shell.execute_reply": "2023-02-12T17:49:34.293498Z"
    }
   },
   "outputs": [
    {
     "data": {
      "text/plain": [
       "Batch(\n",
       "    a: tensor([[-0.5805, -0.9187,  1.5745],\n",
       "               [-0.9200,  0.1780,  1.1750],\n",
       "               [-0.5805, -0.9187,  1.5745],\n",
       "               [-0.9200,  0.1780,  1.1750],\n",
       "               [-0.5805, -0.9187,  1.5745],\n",
       "               [-0.9200,  0.1780,  1.1750],\n",
       "               [-0.5805, -0.9187,  1.5745],\n",
       "               [-0.9200,  0.1780,  1.1750],\n",
       "               [-0.5805, -0.9187,  1.5745],\n",
       "               [-0.9200,  0.1780,  1.1750],\n",
       "               [-0.5805, -0.9187,  1.5745],\n",
       "               [-0.9200,  0.1780,  1.1750],\n",
       "               [-0.5805, -0.9187,  1.5745],\n",
       "               [-0.9200,  0.1780,  1.1750],\n",
       "               [-0.5805, -0.9187,  1.5745],\n",
       "               [-0.9200,  0.1780,  1.1750]]),\n",
       "    x: Batch(\n",
       "           c: tensor([[ 1.4841, -0.4748, -0.1829,  1.4843],\n",
       "                      [-0.1868, -0.8543,  0.5927, -1.3745],\n",
       "                      [-0.4128,  0.5505,  0.2066,  0.2966],\n",
       "                      [ 1.4841, -0.4748, -0.1829,  1.4843],\n",
       "                      [-0.1868, -0.8543,  0.5927, -1.3745],\n",
       "                      [-0.4128,  0.5505,  0.2066,  0.2966],\n",
       "                      [ 1.4841, -0.4748, -0.1829,  1.4843],\n",
       "                      [-0.1868, -0.8543,  0.5927, -1.3745],\n",
       "                      [-0.4128,  0.5505,  0.2066,  0.2966],\n",
       "                      [ 1.4841, -0.4748, -0.1829,  1.4843],\n",
       "                      [-0.1868, -0.8543,  0.5927, -1.3745],\n",
       "                      [-0.4128,  0.5505,  0.2066,  0.2966],\n",
       "                      [ 1.4841, -0.4748, -0.1829,  1.4843],\n",
       "                      [-0.1868, -0.8543,  0.5927, -1.3745],\n",
       "                      [-0.4128,  0.5505,  0.2066,  0.2966],\n",
       "                      [ 1.4841, -0.4748, -0.1829,  1.4843],\n",
       "                      [-0.1868, -0.8543,  0.5927, -1.3745],\n",
       "                      [-0.4128,  0.5505,  0.2066,  0.2966],\n",
       "                      [ 1.4841, -0.4748, -0.1829,  1.4843],\n",
       "                      [-0.1868, -0.8543,  0.5927, -1.3745],\n",
       "                      [-0.4128,  0.5505,  0.2066,  0.2966],\n",
       "                      [ 1.4841, -0.4748, -0.1829,  1.4843],\n",
       "                      [-0.1868, -0.8543,  0.5927, -1.3745],\n",
       "                      [-0.4128,  0.5505,  0.2066,  0.2966]]),\n",
       "       ),\n",
       ")"
      ]
     },
     "execution_count": 27,
     "metadata": {},
     "output_type": "execute_result"
    }
   ],
   "source": [
    "Batch.cat(batches)"
   ]
  },
  {
   "cell_type": "code",
   "execution_count": 28,
   "id": "18dfb045",
   "metadata": {
    "execution": {
     "iopub.execute_input": "2023-02-12T17:49:34.297019Z",
     "iopub.status.busy": "2023-02-12T17:49:34.296685Z",
     "iopub.status.idle": "2023-02-12T17:49:47.263922Z",
     "shell.execute_reply": "2023-02-12T17:49:47.263250Z"
    }
   },
   "outputs": [
    {
     "name": "stdout",
     "output_type": "stream",
     "text": [
      "160 µs ± 445 ns per loop (mean ± std. dev. of 7 runs, 10,000 loops each)\n"
     ]
    }
   ],
   "source": [
    "%timeit Batch.cat(batches)"
   ]
  },
  {
   "cell_type": "code",
   "execution_count": 29,
   "id": "c6688e51",
   "metadata": {
    "execution": {
     "iopub.execute_input": "2023-02-12T17:49:47.267143Z",
     "iopub.status.busy": "2023-02-12T17:49:47.266648Z",
     "iopub.status.idle": "2023-02-12T17:49:49.786911Z",
     "shell.execute_reply": "2023-02-12T17:49:49.786314Z"
    }
   },
   "outputs": [
    {
     "name": "stdout",
     "output_type": "stream",
     "text": [
      "310 µs ± 1.5 µs per loop (mean ± std. dev. of 7 runs, 1,000 loops each)\n"
     ]
    }
   ],
   "source": [
    "batch = Batch({\n",
    "    'obs': torch.randn(8, 4, 84, 84),\n",
    "    'action': torch.randint(0, 6, size=(8, 1,)),\n",
    "    'reward': torch.rand(8, 1)}\n",
    ")\n",
    "\n",
    "%timeit list(Batch.split(batch, 1, shuffle=False, merge_last=True))"
   ]
  },
  {
   "cell_type": "code",
   "execution_count": null,
   "id": "2539fbd9",
   "metadata": {},
   "outputs": [],
   "source": []
  }
 ],
 "metadata": {
  "kernelspec": {
   "display_name": "Python 3 (ipykernel)",
   "language": "python",
   "name": "python3"
  },
  "language_info": {
   "codemirror_mode": {
    "name": "ipython",
    "version": 3
   },
   "file_extension": ".py",
   "mimetype": "text/x-python",
   "name": "python",
   "nbconvert_exporter": "python",
   "pygments_lexer": "ipython3",
   "version": "3.8.16"
  }
 },
 "nbformat": 4,
 "nbformat_minor": 5
}
