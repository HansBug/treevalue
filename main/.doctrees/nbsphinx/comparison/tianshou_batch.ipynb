{
 "cells": [
  {
   "cell_type": "markdown",
   "id": "9d39d946",
   "metadata": {},
   "source": [
    "# Comparison Between TreeValue and Tianshou Batch"
   ]
  },
  {
   "cell_type": "markdown",
   "id": "3c6db2d4",
   "metadata": {},
   "source": [
    "In this section, we will take a look at the feature and performance of the [Tianshou Batch](https://github.com/thu-ml/tianshou) library, which is developed by Tsinghua Machine Learning Group."
   ]
  },
  {
   "cell_type": "markdown",
   "id": "069361b0",
   "metadata": {},
   "source": [
    "Before starting the comparison, let us define some thing."
   ]
  },
  {
   "cell_type": "code",
   "execution_count": 1,
   "id": "06fc8d26",
   "metadata": {
    "execution": {
     "iopub.execute_input": "2023-01-25T11:31:03.407117Z",
     "iopub.status.busy": "2023-01-25T11:31:03.406830Z",
     "iopub.status.idle": "2023-01-25T11:31:04.654655Z",
     "shell.execute_reply": "2023-01-25T11:31:04.653726Z"
    }
   },
   "outputs": [
    {
     "name": "stderr",
     "output_type": "stream",
     "text": [
      "/opt/hostedtoolcache/Python/3.8.16/x64/lib/python3.8/site-packages/tqdm/auto.py:22: TqdmWarning: IProgress not found. Please update jupyter and ipywidgets. See https://ipywidgets.readthedocs.io/en/stable/user_install.html\n",
      "  from .autonotebook import tqdm as notebook_tqdm\n"
     ]
    }
   ],
   "source": [
    "import torch \n",
    "\n",
    "_TREE_DATA_1 = {'a': 1, 'b': 2, 'x': {'c': 3, 'd': 4}}\n",
    "_TREE_DATA_2 = {\n",
    "    'a': torch.randn(2, 3), \n",
    "    'x': {\n",
    "        'c': torch.randn(3, 4)\n",
    "    },\n",
    "}\n",
    "_TREE_DATA_3 = {\n",
    "    'obs': torch.randn(4, 84, 84),\n",
    "    'action': torch.randint(0, 6, size=(1,)),\n",
    "    'reward': torch.rand(1),\n",
    "}"
   ]
  },
  {
   "cell_type": "markdown",
   "id": "83461b25",
   "metadata": {},
   "source": [
    "## Read and Write Operation"
   ]
  },
  {
   "cell_type": "markdown",
   "id": "067b3f73",
   "metadata": {},
   "source": [
    "Reading and writing are the two most common operations in the tree data structure based on the data model (TreeValue and Tianshou Batch both belong to this type), so this section will compare the reading and writing performance of these two libraries."
   ]
  },
  {
   "cell_type": "markdown",
   "id": "5d09a5b7",
   "metadata": {},
   "source": [
    "### TreeValue's Get and Set"
   ]
  },
  {
   "cell_type": "code",
   "execution_count": 2,
   "id": "9519c4bb",
   "metadata": {
    "execution": {
     "iopub.execute_input": "2023-01-25T11:31:04.659376Z",
     "iopub.status.busy": "2023-01-25T11:31:04.658996Z",
     "iopub.status.idle": "2023-01-25T11:31:04.701032Z",
     "shell.execute_reply": "2023-01-25T11:31:04.699755Z"
    }
   },
   "outputs": [],
   "source": [
    "from treevalue import FastTreeValue\n",
    "\n",
    "t = FastTreeValue(_TREE_DATA_2)"
   ]
  },
  {
   "cell_type": "code",
   "execution_count": 3,
   "id": "11c37677",
   "metadata": {
    "execution": {
     "iopub.execute_input": "2023-01-25T11:31:04.705480Z",
     "iopub.status.busy": "2023-01-25T11:31:04.704923Z",
     "iopub.status.idle": "2023-01-25T11:31:04.715021Z",
     "shell.execute_reply": "2023-01-25T11:31:04.714204Z"
    }
   },
   "outputs": [
    {
     "data": {
      "text/plain": [
       "<FastTreeValue 0x7fa384f94610>\n",
       "├── 'a' --> tensor([[ 0.2516, -0.2525,  1.0908],\n",
       "│                   [-0.2790,  0.4182,  1.7106]])\n",
       "└── 'x' --> <FastTreeValue 0x7fa400059520>\n",
       "    └── 'c' --> tensor([[ 1.8520,  0.5151,  0.0689, -0.1498],\n",
       "                        [-0.2028,  2.0119, -0.0718,  0.3055],\n",
       "                        [ 0.7258, -0.4089,  0.0210,  0.4837]])"
      ]
     },
     "execution_count": 3,
     "metadata": {},
     "output_type": "execute_result"
    }
   ],
   "source": [
    "t"
   ]
  },
  {
   "cell_type": "code",
   "execution_count": 4,
   "id": "fd70b0b9",
   "metadata": {
    "execution": {
     "iopub.execute_input": "2023-01-25T11:31:04.719254Z",
     "iopub.status.busy": "2023-01-25T11:31:04.718591Z",
     "iopub.status.idle": "2023-01-25T11:31:04.724575Z",
     "shell.execute_reply": "2023-01-25T11:31:04.723708Z"
    }
   },
   "outputs": [
    {
     "data": {
      "text/plain": [
       "tensor([[ 0.2516, -0.2525,  1.0908],\n",
       "        [-0.2790,  0.4182,  1.7106]])"
      ]
     },
     "execution_count": 4,
     "metadata": {},
     "output_type": "execute_result"
    }
   ],
   "source": [
    "t.a"
   ]
  },
  {
   "cell_type": "code",
   "execution_count": 5,
   "id": "c18197bd",
   "metadata": {
    "execution": {
     "iopub.execute_input": "2023-01-25T11:31:04.728449Z",
     "iopub.status.busy": "2023-01-25T11:31:04.727987Z",
     "iopub.status.idle": "2023-01-25T11:31:11.022119Z",
     "shell.execute_reply": "2023-01-25T11:31:11.020712Z"
    }
   },
   "outputs": [
    {
     "name": "stdout",
     "output_type": "stream",
     "text": [
      "77.5 ns ± 0.281 ns per loop (mean ± std. dev. of 7 runs, 10,000,000 loops each)\n"
     ]
    }
   ],
   "source": [
    "%timeit t.a"
   ]
  },
  {
   "cell_type": "code",
   "execution_count": 6,
   "id": "bd52f867",
   "metadata": {
    "execution": {
     "iopub.execute_input": "2023-01-25T11:31:11.026556Z",
     "iopub.status.busy": "2023-01-25T11:31:11.025745Z",
     "iopub.status.idle": "2023-01-25T11:31:11.033778Z",
     "shell.execute_reply": "2023-01-25T11:31:11.032782Z"
    }
   },
   "outputs": [
    {
     "data": {
      "text/plain": [
       "<FastTreeValue 0x7fa384f94610>\n",
       "├── 'a' --> tensor([[ 0.9925,  0.5216, -0.4160],\n",
       "│                   [ 0.2290,  1.6712, -0.4907]])\n",
       "└── 'x' --> <FastTreeValue 0x7fa400059520>\n",
       "    └── 'c' --> tensor([[ 1.8520,  0.5151,  0.0689, -0.1498],\n",
       "                        [-0.2028,  2.0119, -0.0718,  0.3055],\n",
       "                        [ 0.7258, -0.4089,  0.0210,  0.4837]])"
      ]
     },
     "execution_count": 6,
     "metadata": {},
     "output_type": "execute_result"
    }
   ],
   "source": [
    "new_value = torch.randn(2, 3)\n",
    "t.a = new_value\n",
    "\n",
    "t"
   ]
  },
  {
   "cell_type": "code",
   "execution_count": 7,
   "id": "bbe04d1c",
   "metadata": {
    "execution": {
     "iopub.execute_input": "2023-01-25T11:31:11.038228Z",
     "iopub.status.busy": "2023-01-25T11:31:11.037571Z",
     "iopub.status.idle": "2023-01-25T11:31:17.388266Z",
     "shell.execute_reply": "2023-01-25T11:31:17.386663Z"
    }
   },
   "outputs": [
    {
     "name": "stdout",
     "output_type": "stream",
     "text": [
      "78.2 ns ± 0.394 ns per loop (mean ± std. dev. of 7 runs, 10,000,000 loops each)\n"
     ]
    }
   ],
   "source": [
    "%timeit t.a = new_value"
   ]
  },
  {
   "cell_type": "markdown",
   "id": "48c49731",
   "metadata": {},
   "source": [
    "### Tianshou Batch's Get and Set"
   ]
  },
  {
   "cell_type": "code",
   "execution_count": 8,
   "id": "f1bb14c1",
   "metadata": {
    "execution": {
     "iopub.execute_input": "2023-01-25T11:31:17.392183Z",
     "iopub.status.busy": "2023-01-25T11:31:17.391872Z",
     "iopub.status.idle": "2023-01-25T11:31:17.814935Z",
     "shell.execute_reply": "2023-01-25T11:31:17.813402Z"
    }
   },
   "outputs": [],
   "source": [
    "from tianshou.data import Batch\n",
    "\n",
    "b = Batch(**_TREE_DATA_2)"
   ]
  },
  {
   "cell_type": "code",
   "execution_count": 9,
   "id": "cb0777c3",
   "metadata": {
    "execution": {
     "iopub.execute_input": "2023-01-25T11:31:17.820378Z",
     "iopub.status.busy": "2023-01-25T11:31:17.819641Z",
     "iopub.status.idle": "2023-01-25T11:31:17.827200Z",
     "shell.execute_reply": "2023-01-25T11:31:17.826127Z"
    }
   },
   "outputs": [
    {
     "data": {
      "text/plain": [
       "Batch(\n",
       "    a: tensor([[ 0.2516, -0.2525,  1.0908],\n",
       "               [-0.2790,  0.4182,  1.7106]]),\n",
       "    x: Batch(\n",
       "           c: tensor([[ 1.8520,  0.5151,  0.0689, -0.1498],\n",
       "                      [-0.2028,  2.0119, -0.0718,  0.3055],\n",
       "                      [ 0.7258, -0.4089,  0.0210,  0.4837]]),\n",
       "       ),\n",
       ")"
      ]
     },
     "execution_count": 9,
     "metadata": {},
     "output_type": "execute_result"
    }
   ],
   "source": [
    "b"
   ]
  },
  {
   "cell_type": "code",
   "execution_count": 10,
   "id": "43ef8ea3",
   "metadata": {
    "execution": {
     "iopub.execute_input": "2023-01-25T11:31:17.830747Z",
     "iopub.status.busy": "2023-01-25T11:31:17.830285Z",
     "iopub.status.idle": "2023-01-25T11:31:17.836199Z",
     "shell.execute_reply": "2023-01-25T11:31:17.835381Z"
    }
   },
   "outputs": [
    {
     "data": {
      "text/plain": [
       "tensor([[ 0.2516, -0.2525,  1.0908],\n",
       "        [-0.2790,  0.4182,  1.7106]])"
      ]
     },
     "execution_count": 10,
     "metadata": {},
     "output_type": "execute_result"
    }
   ],
   "source": [
    "b.a"
   ]
  },
  {
   "cell_type": "code",
   "execution_count": 11,
   "id": "b785ab72",
   "metadata": {
    "execution": {
     "iopub.execute_input": "2023-01-25T11:31:17.840473Z",
     "iopub.status.busy": "2023-01-25T11:31:17.840207Z",
     "iopub.status.idle": "2023-01-25T11:31:23.478265Z",
     "shell.execute_reply": "2023-01-25T11:31:23.477117Z"
    }
   },
   "outputs": [
    {
     "name": "stdout",
     "output_type": "stream",
     "text": [
      "69.4 ns ± 0.298 ns per loop (mean ± std. dev. of 7 runs, 10,000,000 loops each)\n"
     ]
    }
   ],
   "source": [
    "%timeit b.a"
   ]
  },
  {
   "cell_type": "code",
   "execution_count": 12,
   "id": "ad54dc69",
   "metadata": {
    "execution": {
     "iopub.execute_input": "2023-01-25T11:31:23.482684Z",
     "iopub.status.busy": "2023-01-25T11:31:23.482381Z",
     "iopub.status.idle": "2023-01-25T11:31:23.489554Z",
     "shell.execute_reply": "2023-01-25T11:31:23.488626Z"
    }
   },
   "outputs": [
    {
     "data": {
      "text/plain": [
       "Batch(\n",
       "    a: tensor([[-0.6070,  0.0178, -0.0819],\n",
       "               [-0.8246, -2.4702, -1.1162]]),\n",
       "    x: Batch(\n",
       "           c: tensor([[ 1.8520,  0.5151,  0.0689, -0.1498],\n",
       "                      [-0.2028,  2.0119, -0.0718,  0.3055],\n",
       "                      [ 0.7258, -0.4089,  0.0210,  0.4837]]),\n",
       "       ),\n",
       ")"
      ]
     },
     "execution_count": 12,
     "metadata": {},
     "output_type": "execute_result"
    }
   ],
   "source": [
    "new_value = torch.randn(2, 3)\n",
    "b.a = new_value\n",
    "\n",
    "b"
   ]
  },
  {
   "cell_type": "code",
   "execution_count": 13,
   "id": "29b1d0bf",
   "metadata": {
    "execution": {
     "iopub.execute_input": "2023-01-25T11:31:23.493292Z",
     "iopub.status.busy": "2023-01-25T11:31:23.493009Z",
     "iopub.status.idle": "2023-01-25T11:31:28.243513Z",
     "shell.execute_reply": "2023-01-25T11:31:28.242724Z"
    }
   },
   "outputs": [
    {
     "name": "stdout",
     "output_type": "stream",
     "text": [
      "582 ns ± 4.42 ns per loop (mean ± std. dev. of 7 runs, 1,000,000 loops each)\n"
     ]
    }
   ],
   "source": [
    "%timeit b.a = new_value"
   ]
  },
  {
   "cell_type": "markdown",
   "id": "b61ad1d0",
   "metadata": {},
   "source": [
    "## Initialization"
   ]
  },
  {
   "cell_type": "markdown",
   "id": "d70f0d54",
   "metadata": {},
   "source": [
    "### TreeValue's Initialization"
   ]
  },
  {
   "cell_type": "code",
   "execution_count": 14,
   "id": "d32a679b",
   "metadata": {
    "execution": {
     "iopub.execute_input": "2023-01-25T11:31:28.247385Z",
     "iopub.status.busy": "2023-01-25T11:31:28.246809Z",
     "iopub.status.idle": "2023-01-25T11:31:36.260184Z",
     "shell.execute_reply": "2023-01-25T11:31:36.258292Z"
    }
   },
   "outputs": [
    {
     "name": "stdout",
     "output_type": "stream",
     "text": [
      "984 ns ± 3.96 ns per loop (mean ± std. dev. of 7 runs, 1,000,000 loops each)\n"
     ]
    }
   ],
   "source": [
    "%timeit FastTreeValue(_TREE_DATA_1)"
   ]
  },
  {
   "cell_type": "markdown",
   "id": "24f3707b",
   "metadata": {},
   "source": [
    "### Tianshou Batch's Initialization"
   ]
  },
  {
   "cell_type": "code",
   "execution_count": 15,
   "id": "ac3958df",
   "metadata": {
    "execution": {
     "iopub.execute_input": "2023-01-25T11:31:36.264494Z",
     "iopub.status.busy": "2023-01-25T11:31:36.263982Z",
     "iopub.status.idle": "2023-01-25T11:31:45.705018Z",
     "shell.execute_reply": "2023-01-25T11:31:45.703638Z"
    }
   },
   "outputs": [
    {
     "name": "stdout",
     "output_type": "stream",
     "text": [
      "11.6 µs ± 48.9 ns per loop (mean ± std. dev. of 7 runs, 100,000 loops each)\n"
     ]
    }
   ],
   "source": [
    "%timeit Batch(**_TREE_DATA_1)"
   ]
  },
  {
   "cell_type": "markdown",
   "id": "1ab82e2d",
   "metadata": {},
   "source": [
    "## Deep Copy Operation"
   ]
  },
  {
   "cell_type": "code",
   "execution_count": 16,
   "id": "210a9442",
   "metadata": {
    "execution": {
     "iopub.execute_input": "2023-01-25T11:31:45.709423Z",
     "iopub.status.busy": "2023-01-25T11:31:45.708733Z",
     "iopub.status.idle": "2023-01-25T11:31:45.712502Z",
     "shell.execute_reply": "2023-01-25T11:31:45.711719Z"
    }
   },
   "outputs": [],
   "source": [
    "import copy"
   ]
  },
  {
   "cell_type": "markdown",
   "id": "5a736274",
   "metadata": {},
   "source": [
    "### Deep Copy of TreeValue"
   ]
  },
  {
   "cell_type": "code",
   "execution_count": 17,
   "id": "f9bcadd6",
   "metadata": {
    "execution": {
     "iopub.execute_input": "2023-01-25T11:31:45.716494Z",
     "iopub.status.busy": "2023-01-25T11:31:45.715758Z",
     "iopub.status.idle": "2023-01-25T11:31:58.979761Z",
     "shell.execute_reply": "2023-01-25T11:31:58.979042Z"
    }
   },
   "outputs": [
    {
     "name": "stdout",
     "output_type": "stream",
     "text": [
      "164 µs ± 605 ns per loop (mean ± std. dev. of 7 runs, 10,000 loops each)\n"
     ]
    }
   ],
   "source": [
    "t3 = FastTreeValue(_TREE_DATA_3)\n",
    "%timeit copy.deepcopy(t3)"
   ]
  },
  {
   "cell_type": "markdown",
   "id": "bf8be7ea",
   "metadata": {},
   "source": [
    "### Deep Copy of Tianshou Batch"
   ]
  },
  {
   "cell_type": "code",
   "execution_count": 18,
   "id": "91998e6f",
   "metadata": {
    "execution": {
     "iopub.execute_input": "2023-01-25T11:31:58.983669Z",
     "iopub.status.busy": "2023-01-25T11:31:58.983188Z",
     "iopub.status.idle": "2023-01-25T11:32:12.320716Z",
     "shell.execute_reply": "2023-01-25T11:32:12.319724Z"
    }
   },
   "outputs": [
    {
     "name": "stdout",
     "output_type": "stream",
     "text": [
      "164 µs ± 707 ns per loop (mean ± std. dev. of 7 runs, 10,000 loops each)\n"
     ]
    }
   ],
   "source": [
    "b3 = Batch(**_TREE_DATA_3)\n",
    "%timeit copy.deepcopy(b3)"
   ]
  },
  {
   "cell_type": "markdown",
   "id": "223162fb",
   "metadata": {},
   "source": [
    "## Stack, Concat and Split Operation"
   ]
  },
  {
   "cell_type": "markdown",
   "id": "85fa4a73",
   "metadata": {},
   "source": [
    "### Performance of TreeValue"
   ]
  },
  {
   "cell_type": "code",
   "execution_count": 19,
   "id": "a0c2b697",
   "metadata": {
    "execution": {
     "iopub.execute_input": "2023-01-25T11:32:12.324479Z",
     "iopub.status.busy": "2023-01-25T11:32:12.324186Z",
     "iopub.status.idle": "2023-01-25T11:32:12.329688Z",
     "shell.execute_reply": "2023-01-25T11:32:12.328939Z"
    }
   },
   "outputs": [],
   "source": [
    "trees = [FastTreeValue(_TREE_DATA_2) for _ in range(8)]"
   ]
  },
  {
   "cell_type": "code",
   "execution_count": 20,
   "id": "017ea5a5",
   "metadata": {
    "execution": {
     "iopub.execute_input": "2023-01-25T11:32:12.333294Z",
     "iopub.status.busy": "2023-01-25T11:32:12.332903Z",
     "iopub.status.idle": "2023-01-25T11:32:12.343995Z",
     "shell.execute_reply": "2023-01-25T11:32:12.343249Z"
    }
   },
   "outputs": [
    {
     "data": {
      "text/plain": [
       "<FastTreeValue 0x7fa384dc6790>\n",
       "├── 'a' --> tensor([[[ 0.2516, -0.2525,  1.0908],\n",
       "│                    [-0.2790,  0.4182,  1.7106]],\n",
       "│           \n",
       "│                   [[ 0.2516, -0.2525,  1.0908],\n",
       "│                    [-0.2790,  0.4182,  1.7106]],\n",
       "│           \n",
       "│                   [[ 0.2516, -0.2525,  1.0908],\n",
       "│                    [-0.2790,  0.4182,  1.7106]],\n",
       "│           \n",
       "│                   [[ 0.2516, -0.2525,  1.0908],\n",
       "│                    [-0.2790,  0.4182,  1.7106]],\n",
       "│           \n",
       "│                   [[ 0.2516, -0.2525,  1.0908],\n",
       "│                    [-0.2790,  0.4182,  1.7106]],\n",
       "│           \n",
       "│                   [[ 0.2516, -0.2525,  1.0908],\n",
       "│                    [-0.2790,  0.4182,  1.7106]],\n",
       "│           \n",
       "│                   [[ 0.2516, -0.2525,  1.0908],\n",
       "│                    [-0.2790,  0.4182,  1.7106]],\n",
       "│           \n",
       "│                   [[ 0.2516, -0.2525,  1.0908],\n",
       "│                    [-0.2790,  0.4182,  1.7106]]])\n",
       "└── 'x' --> <FastTreeValue 0x7fa37e100f40>\n",
       "    └── 'c' --> tensor([[[ 1.8520,  0.5151,  0.0689, -0.1498],\n",
       "                         [-0.2028,  2.0119, -0.0718,  0.3055],\n",
       "                         [ 0.7258, -0.4089,  0.0210,  0.4837]],\n",
       "                \n",
       "                        [[ 1.8520,  0.5151,  0.0689, -0.1498],\n",
       "                         [-0.2028,  2.0119, -0.0718,  0.3055],\n",
       "                         [ 0.7258, -0.4089,  0.0210,  0.4837]],\n",
       "                \n",
       "                        [[ 1.8520,  0.5151,  0.0689, -0.1498],\n",
       "                         [-0.2028,  2.0119, -0.0718,  0.3055],\n",
       "                         [ 0.7258, -0.4089,  0.0210,  0.4837]],\n",
       "                \n",
       "                        [[ 1.8520,  0.5151,  0.0689, -0.1498],\n",
       "                         [-0.2028,  2.0119, -0.0718,  0.3055],\n",
       "                         [ 0.7258, -0.4089,  0.0210,  0.4837]],\n",
       "                \n",
       "                        [[ 1.8520,  0.5151,  0.0689, -0.1498],\n",
       "                         [-0.2028,  2.0119, -0.0718,  0.3055],\n",
       "                         [ 0.7258, -0.4089,  0.0210,  0.4837]],\n",
       "                \n",
       "                        [[ 1.8520,  0.5151,  0.0689, -0.1498],\n",
       "                         [-0.2028,  2.0119, -0.0718,  0.3055],\n",
       "                         [ 0.7258, -0.4089,  0.0210,  0.4837]],\n",
       "                \n",
       "                        [[ 1.8520,  0.5151,  0.0689, -0.1498],\n",
       "                         [-0.2028,  2.0119, -0.0718,  0.3055],\n",
       "                         [ 0.7258, -0.4089,  0.0210,  0.4837]],\n",
       "                \n",
       "                        [[ 1.8520,  0.5151,  0.0689, -0.1498],\n",
       "                         [-0.2028,  2.0119, -0.0718,  0.3055],\n",
       "                         [ 0.7258, -0.4089,  0.0210,  0.4837]]])"
      ]
     },
     "execution_count": 20,
     "metadata": {},
     "output_type": "execute_result"
    }
   ],
   "source": [
    "t_stack = FastTreeValue.func(subside=True)(torch.stack)\n",
    "\n",
    "t_stack(trees)"
   ]
  },
  {
   "cell_type": "code",
   "execution_count": 21,
   "id": "f8b3f415",
   "metadata": {
    "execution": {
     "iopub.execute_input": "2023-01-25T11:32:12.347678Z",
     "iopub.status.busy": "2023-01-25T11:32:12.347277Z",
     "iopub.status.idle": "2023-01-25T11:32:15.410075Z",
     "shell.execute_reply": "2023-01-25T11:32:15.409365Z"
    }
   },
   "outputs": [
    {
     "name": "stdout",
     "output_type": "stream",
     "text": [
      "37.7 µs ± 131 ns per loop (mean ± std. dev. of 7 runs, 10,000 loops each)\n"
     ]
    }
   ],
   "source": [
    "%timeit t_stack(trees)"
   ]
  },
  {
   "cell_type": "code",
   "execution_count": 22,
   "id": "94b56771",
   "metadata": {
    "execution": {
     "iopub.execute_input": "2023-01-25T11:32:15.413924Z",
     "iopub.status.busy": "2023-01-25T11:32:15.413370Z",
     "iopub.status.idle": "2023-01-25T11:32:15.422749Z",
     "shell.execute_reply": "2023-01-25T11:32:15.422040Z"
    }
   },
   "outputs": [
    {
     "data": {
      "text/plain": [
       "<FastTreeValue 0x7fa384d554f0>\n",
       "├── 'a' --> tensor([[ 0.2516, -0.2525,  1.0908],\n",
       "│                   [-0.2790,  0.4182,  1.7106],\n",
       "│                   [ 0.2516, -0.2525,  1.0908],\n",
       "│                   [-0.2790,  0.4182,  1.7106],\n",
       "│                   [ 0.2516, -0.2525,  1.0908],\n",
       "│                   [-0.2790,  0.4182,  1.7106],\n",
       "│                   [ 0.2516, -0.2525,  1.0908],\n",
       "│                   [-0.2790,  0.4182,  1.7106],\n",
       "│                   [ 0.2516, -0.2525,  1.0908],\n",
       "│                   [-0.2790,  0.4182,  1.7106],\n",
       "│                   [ 0.2516, -0.2525,  1.0908],\n",
       "│                   [-0.2790,  0.4182,  1.7106],\n",
       "│                   [ 0.2516, -0.2525,  1.0908],\n",
       "│                   [-0.2790,  0.4182,  1.7106],\n",
       "│                   [ 0.2516, -0.2525,  1.0908],\n",
       "│                   [-0.2790,  0.4182,  1.7106]])\n",
       "└── 'x' --> <FastTreeValue 0x7fa40046e6d0>\n",
       "    └── 'c' --> tensor([[ 1.8520,  0.5151,  0.0689, -0.1498],\n",
       "                        [-0.2028,  2.0119, -0.0718,  0.3055],\n",
       "                        [ 0.7258, -0.4089,  0.0210,  0.4837],\n",
       "                        [ 1.8520,  0.5151,  0.0689, -0.1498],\n",
       "                        [-0.2028,  2.0119, -0.0718,  0.3055],\n",
       "                        [ 0.7258, -0.4089,  0.0210,  0.4837],\n",
       "                        [ 1.8520,  0.5151,  0.0689, -0.1498],\n",
       "                        [-0.2028,  2.0119, -0.0718,  0.3055],\n",
       "                        [ 0.7258, -0.4089,  0.0210,  0.4837],\n",
       "                        [ 1.8520,  0.5151,  0.0689, -0.1498],\n",
       "                        [-0.2028,  2.0119, -0.0718,  0.3055],\n",
       "                        [ 0.7258, -0.4089,  0.0210,  0.4837],\n",
       "                        [ 1.8520,  0.5151,  0.0689, -0.1498],\n",
       "                        [-0.2028,  2.0119, -0.0718,  0.3055],\n",
       "                        [ 0.7258, -0.4089,  0.0210,  0.4837],\n",
       "                        [ 1.8520,  0.5151,  0.0689, -0.1498],\n",
       "                        [-0.2028,  2.0119, -0.0718,  0.3055],\n",
       "                        [ 0.7258, -0.4089,  0.0210,  0.4837],\n",
       "                        [ 1.8520,  0.5151,  0.0689, -0.1498],\n",
       "                        [-0.2028,  2.0119, -0.0718,  0.3055],\n",
       "                        [ 0.7258, -0.4089,  0.0210,  0.4837],\n",
       "                        [ 1.8520,  0.5151,  0.0689, -0.1498],\n",
       "                        [-0.2028,  2.0119, -0.0718,  0.3055],\n",
       "                        [ 0.7258, -0.4089,  0.0210,  0.4837]])"
      ]
     },
     "execution_count": 22,
     "metadata": {},
     "output_type": "execute_result"
    }
   ],
   "source": [
    "t_cat = FastTreeValue.func(subside=True)(torch.cat)\n",
    "\n",
    "t_cat(trees)"
   ]
  },
  {
   "cell_type": "code",
   "execution_count": 23,
   "id": "5e9c06a6",
   "metadata": {
    "execution": {
     "iopub.execute_input": "2023-01-25T11:32:15.426530Z",
     "iopub.status.busy": "2023-01-25T11:32:15.425800Z",
     "iopub.status.idle": "2023-01-25T11:32:18.259369Z",
     "shell.execute_reply": "2023-01-25T11:32:18.258511Z"
    }
   },
   "outputs": [
    {
     "name": "stdout",
     "output_type": "stream",
     "text": [
      "34.8 µs ± 77.1 ns per loop (mean ± std. dev. of 7 runs, 10,000 loops each)\n"
     ]
    }
   ],
   "source": [
    "%timeit t_cat(trees)"
   ]
  },
  {
   "cell_type": "code",
   "execution_count": 24,
   "id": "a3ab5c8f",
   "metadata": {
    "execution": {
     "iopub.execute_input": "2023-01-25T11:32:18.263516Z",
     "iopub.status.busy": "2023-01-25T11:32:18.262716Z",
     "iopub.status.idle": "2023-01-25T11:32:23.489632Z",
     "shell.execute_reply": "2023-01-25T11:32:23.488578Z"
    }
   },
   "outputs": [
    {
     "name": "stdout",
     "output_type": "stream",
     "text": [
      "64.2 µs ± 249 ns per loop (mean ± std. dev. of 7 runs, 10,000 loops each)\n"
     ]
    }
   ],
   "source": [
    "t_split = FastTreeValue.func(rise=True)(torch.split)\n",
    "tree = FastTreeValue({\n",
    "    'obs': torch.randn(8, 4, 84, 84),\n",
    "    'action': torch.randint(0, 6, size=(8, 1,)),\n",
    "    'reward': torch.rand(8, 1),\n",
    "})\n",
    "\n",
    "%timeit t_split(tree, 1)"
   ]
  },
  {
   "cell_type": "markdown",
   "id": "31c3ec0b",
   "metadata": {},
   "source": [
    "### Performance of Tianshou Batch"
   ]
  },
  {
   "cell_type": "code",
   "execution_count": 25,
   "id": "9ead828a",
   "metadata": {
    "execution": {
     "iopub.execute_input": "2023-01-25T11:32:23.493752Z",
     "iopub.status.busy": "2023-01-25T11:32:23.493270Z",
     "iopub.status.idle": "2023-01-25T11:32:23.502249Z",
     "shell.execute_reply": "2023-01-25T11:32:23.501408Z"
    }
   },
   "outputs": [
    {
     "data": {
      "text/plain": [
       "Batch(\n",
       "    a: tensor([[[ 0.2516, -0.2525,  1.0908],\n",
       "                [-0.2790,  0.4182,  1.7106]],\n",
       "       \n",
       "               [[ 0.2516, -0.2525,  1.0908],\n",
       "                [-0.2790,  0.4182,  1.7106]],\n",
       "       \n",
       "               [[ 0.2516, -0.2525,  1.0908],\n",
       "                [-0.2790,  0.4182,  1.7106]],\n",
       "       \n",
       "               [[ 0.2516, -0.2525,  1.0908],\n",
       "                [-0.2790,  0.4182,  1.7106]],\n",
       "       \n",
       "               [[ 0.2516, -0.2525,  1.0908],\n",
       "                [-0.2790,  0.4182,  1.7106]],\n",
       "       \n",
       "               [[ 0.2516, -0.2525,  1.0908],\n",
       "                [-0.2790,  0.4182,  1.7106]],\n",
       "       \n",
       "               [[ 0.2516, -0.2525,  1.0908],\n",
       "                [-0.2790,  0.4182,  1.7106]],\n",
       "       \n",
       "               [[ 0.2516, -0.2525,  1.0908],\n",
       "                [-0.2790,  0.4182,  1.7106]]]),\n",
       "    x: Batch(\n",
       "           c: tensor([[[ 1.8520,  0.5151,  0.0689, -0.1498],\n",
       "                       [-0.2028,  2.0119, -0.0718,  0.3055],\n",
       "                       [ 0.7258, -0.4089,  0.0210,  0.4837]],\n",
       "              \n",
       "                      [[ 1.8520,  0.5151,  0.0689, -0.1498],\n",
       "                       [-0.2028,  2.0119, -0.0718,  0.3055],\n",
       "                       [ 0.7258, -0.4089,  0.0210,  0.4837]],\n",
       "              \n",
       "                      [[ 1.8520,  0.5151,  0.0689, -0.1498],\n",
       "                       [-0.2028,  2.0119, -0.0718,  0.3055],\n",
       "                       [ 0.7258, -0.4089,  0.0210,  0.4837]],\n",
       "              \n",
       "                      [[ 1.8520,  0.5151,  0.0689, -0.1498],\n",
       "                       [-0.2028,  2.0119, -0.0718,  0.3055],\n",
       "                       [ 0.7258, -0.4089,  0.0210,  0.4837]],\n",
       "              \n",
       "                      [[ 1.8520,  0.5151,  0.0689, -0.1498],\n",
       "                       [-0.2028,  2.0119, -0.0718,  0.3055],\n",
       "                       [ 0.7258, -0.4089,  0.0210,  0.4837]],\n",
       "              \n",
       "                      [[ 1.8520,  0.5151,  0.0689, -0.1498],\n",
       "                       [-0.2028,  2.0119, -0.0718,  0.3055],\n",
       "                       [ 0.7258, -0.4089,  0.0210,  0.4837]],\n",
       "              \n",
       "                      [[ 1.8520,  0.5151,  0.0689, -0.1498],\n",
       "                       [-0.2028,  2.0119, -0.0718,  0.3055],\n",
       "                       [ 0.7258, -0.4089,  0.0210,  0.4837]],\n",
       "              \n",
       "                      [[ 1.8520,  0.5151,  0.0689, -0.1498],\n",
       "                       [-0.2028,  2.0119, -0.0718,  0.3055],\n",
       "                       [ 0.7258, -0.4089,  0.0210,  0.4837]]]),\n",
       "       ),\n",
       ")"
      ]
     },
     "execution_count": 25,
     "metadata": {},
     "output_type": "execute_result"
    }
   ],
   "source": [
    "batches = [Batch(**_TREE_DATA_2) for _ in range(8)]\n",
    "\n",
    "Batch.stack(batches)"
   ]
  },
  {
   "cell_type": "code",
   "execution_count": 26,
   "id": "ec9037a3",
   "metadata": {
    "execution": {
     "iopub.execute_input": "2023-01-25T11:32:23.506354Z",
     "iopub.status.busy": "2023-01-25T11:32:23.505694Z",
     "iopub.status.idle": "2023-01-25T11:32:30.882614Z",
     "shell.execute_reply": "2023-01-25T11:32:30.881256Z"
    }
   },
   "outputs": [
    {
     "name": "stdout",
     "output_type": "stream",
     "text": [
      "90.8 µs ± 179 ns per loop (mean ± std. dev. of 7 runs, 10,000 loops each)\n"
     ]
    }
   ],
   "source": [
    "%timeit Batch.stack(batches)"
   ]
  },
  {
   "cell_type": "code",
   "execution_count": 27,
   "id": "cb8ab77e",
   "metadata": {
    "execution": {
     "iopub.execute_input": "2023-01-25T11:32:30.887291Z",
     "iopub.status.busy": "2023-01-25T11:32:30.886521Z",
     "iopub.status.idle": "2023-01-25T11:32:30.894838Z",
     "shell.execute_reply": "2023-01-25T11:32:30.894022Z"
    }
   },
   "outputs": [
    {
     "data": {
      "text/plain": [
       "Batch(\n",
       "    a: tensor([[ 0.2516, -0.2525,  1.0908],\n",
       "               [-0.2790,  0.4182,  1.7106],\n",
       "               [ 0.2516, -0.2525,  1.0908],\n",
       "               [-0.2790,  0.4182,  1.7106],\n",
       "               [ 0.2516, -0.2525,  1.0908],\n",
       "               [-0.2790,  0.4182,  1.7106],\n",
       "               [ 0.2516, -0.2525,  1.0908],\n",
       "               [-0.2790,  0.4182,  1.7106],\n",
       "               [ 0.2516, -0.2525,  1.0908],\n",
       "               [-0.2790,  0.4182,  1.7106],\n",
       "               [ 0.2516, -0.2525,  1.0908],\n",
       "               [-0.2790,  0.4182,  1.7106],\n",
       "               [ 0.2516, -0.2525,  1.0908],\n",
       "               [-0.2790,  0.4182,  1.7106],\n",
       "               [ 0.2516, -0.2525,  1.0908],\n",
       "               [-0.2790,  0.4182,  1.7106]]),\n",
       "    x: Batch(\n",
       "           c: tensor([[ 1.8520,  0.5151,  0.0689, -0.1498],\n",
       "                      [-0.2028,  2.0119, -0.0718,  0.3055],\n",
       "                      [ 0.7258, -0.4089,  0.0210,  0.4837],\n",
       "                      [ 1.8520,  0.5151,  0.0689, -0.1498],\n",
       "                      [-0.2028,  2.0119, -0.0718,  0.3055],\n",
       "                      [ 0.7258, -0.4089,  0.0210,  0.4837],\n",
       "                      [ 1.8520,  0.5151,  0.0689, -0.1498],\n",
       "                      [-0.2028,  2.0119, -0.0718,  0.3055],\n",
       "                      [ 0.7258, -0.4089,  0.0210,  0.4837],\n",
       "                      [ 1.8520,  0.5151,  0.0689, -0.1498],\n",
       "                      [-0.2028,  2.0119, -0.0718,  0.3055],\n",
       "                      [ 0.7258, -0.4089,  0.0210,  0.4837],\n",
       "                      [ 1.8520,  0.5151,  0.0689, -0.1498],\n",
       "                      [-0.2028,  2.0119, -0.0718,  0.3055],\n",
       "                      [ 0.7258, -0.4089,  0.0210,  0.4837],\n",
       "                      [ 1.8520,  0.5151,  0.0689, -0.1498],\n",
       "                      [-0.2028,  2.0119, -0.0718,  0.3055],\n",
       "                      [ 0.7258, -0.4089,  0.0210,  0.4837],\n",
       "                      [ 1.8520,  0.5151,  0.0689, -0.1498],\n",
       "                      [-0.2028,  2.0119, -0.0718,  0.3055],\n",
       "                      [ 0.7258, -0.4089,  0.0210,  0.4837],\n",
       "                      [ 1.8520,  0.5151,  0.0689, -0.1498],\n",
       "                      [-0.2028,  2.0119, -0.0718,  0.3055],\n",
       "                      [ 0.7258, -0.4089,  0.0210,  0.4837]]),\n",
       "       ),\n",
       ")"
      ]
     },
     "execution_count": 27,
     "metadata": {},
     "output_type": "execute_result"
    }
   ],
   "source": [
    "Batch.cat(batches)"
   ]
  },
  {
   "cell_type": "code",
   "execution_count": 28,
   "id": "18dfb045",
   "metadata": {
    "execution": {
     "iopub.execute_input": "2023-01-25T11:32:30.898338Z",
     "iopub.status.busy": "2023-01-25T11:32:30.898067Z",
     "iopub.status.idle": "2023-01-25T11:32:44.277867Z",
     "shell.execute_reply": "2023-01-25T11:32:44.276502Z"
    }
   },
   "outputs": [
    {
     "name": "stdout",
     "output_type": "stream",
     "text": [
      "165 µs ± 239 ns per loop (mean ± std. dev. of 7 runs, 10,000 loops each)\n"
     ]
    }
   ],
   "source": [
    "%timeit Batch.cat(batches)"
   ]
  },
  {
   "cell_type": "code",
   "execution_count": 29,
   "id": "c6688e51",
   "metadata": {
    "execution": {
     "iopub.execute_input": "2023-01-25T11:32:44.282664Z",
     "iopub.status.busy": "2023-01-25T11:32:44.281835Z",
     "iopub.status.idle": "2023-01-25T11:32:47.540459Z",
     "shell.execute_reply": "2023-01-25T11:32:47.539578Z"
    }
   },
   "outputs": [
    {
     "name": "stdout",
     "output_type": "stream",
     "text": [
      "399 µs ± 15.2 µs per loop (mean ± std. dev. of 7 runs, 1,000 loops each)\n"
     ]
    }
   ],
   "source": [
    "batch = Batch({\n",
    "    'obs': torch.randn(8, 4, 84, 84),\n",
    "    'action': torch.randint(0, 6, size=(8, 1,)),\n",
    "    'reward': torch.rand(8, 1)}\n",
    ")\n",
    "\n",
    "%timeit list(Batch.split(batch, 1, shuffle=False, merge_last=True))"
   ]
  },
  {
   "cell_type": "code",
   "execution_count": null,
   "id": "2539fbd9",
   "metadata": {},
   "outputs": [],
   "source": []
  }
 ],
 "metadata": {
  "kernelspec": {
   "display_name": "Python 3 (ipykernel)",
   "language": "python",
   "name": "python3"
  },
  "language_info": {
   "codemirror_mode": {
    "name": "ipython",
    "version": 3
   },
   "file_extension": ".py",
   "mimetype": "text/x-python",
   "name": "python",
   "nbconvert_exporter": "python",
   "pygments_lexer": "ipython3",
   "version": "3.8.16"
  }
 },
 "nbformat": 4,
 "nbformat_minor": 5
}
