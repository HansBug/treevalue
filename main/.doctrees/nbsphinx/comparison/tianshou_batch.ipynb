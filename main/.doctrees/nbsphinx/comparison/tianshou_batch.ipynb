{
 "cells": [
  {
   "cell_type": "markdown",
   "id": "9d39d946",
   "metadata": {},
   "source": [
    "# Comparison Between TreeValue and Tianshou Batch"
   ]
  },
  {
   "cell_type": "markdown",
   "id": "3c6db2d4",
   "metadata": {},
   "source": [
    "In this section, we will take a look at the feature and performance of the [Tianshou Batch](https://github.com/thu-ml/tianshou) library, which is developed by Tsinghua Machine Learning Group."
   ]
  },
  {
   "cell_type": "markdown",
   "id": "069361b0",
   "metadata": {},
   "source": [
    "Before starting the comparison, let us define some thing."
   ]
  },
  {
   "cell_type": "code",
   "execution_count": 1,
   "id": "06fc8d26",
   "metadata": {
    "execution": {
     "iopub.execute_input": "2023-01-20T09:20:42.790793Z",
     "iopub.status.busy": "2023-01-20T09:20:42.790430Z",
     "iopub.status.idle": "2023-01-20T09:20:43.687256Z",
     "shell.execute_reply": "2023-01-20T09:20:43.686602Z"
    }
   },
   "outputs": [
    {
     "name": "stderr",
     "output_type": "stream",
     "text": [
      "/opt/hostedtoolcache/Python/3.8.16/x64/lib/python3.8/site-packages/tqdm/auto.py:22: TqdmWarning: IProgress not found. Please update jupyter and ipywidgets. See https://ipywidgets.readthedocs.io/en/stable/user_install.html\n",
      "  from .autonotebook import tqdm as notebook_tqdm\n"
     ]
    }
   ],
   "source": [
    "import torch \n",
    "\n",
    "_TREE_DATA_1 = {'a': 1, 'b': 2, 'x': {'c': 3, 'd': 4}}\n",
    "_TREE_DATA_2 = {\n",
    "    'a': torch.randn(2, 3), \n",
    "    'x': {\n",
    "        'c': torch.randn(3, 4)\n",
    "    },\n",
    "}\n",
    "_TREE_DATA_3 = {\n",
    "    'obs': torch.randn(4, 84, 84),\n",
    "    'action': torch.randint(0, 6, size=(1,)),\n",
    "    'reward': torch.rand(1),\n",
    "}"
   ]
  },
  {
   "cell_type": "markdown",
   "id": "83461b25",
   "metadata": {},
   "source": [
    "## Read and Write Operation"
   ]
  },
  {
   "cell_type": "markdown",
   "id": "067b3f73",
   "metadata": {},
   "source": [
    "Reading and writing are the two most common operations in the tree data structure based on the data model (TreeValue and Tianshou Batch both belong to this type), so this section will compare the reading and writing performance of these two libraries."
   ]
  },
  {
   "cell_type": "markdown",
   "id": "5d09a5b7",
   "metadata": {},
   "source": [
    "### TreeValue's Get and Set"
   ]
  },
  {
   "cell_type": "code",
   "execution_count": 2,
   "id": "9519c4bb",
   "metadata": {
    "execution": {
     "iopub.execute_input": "2023-01-20T09:20:43.690412Z",
     "iopub.status.busy": "2023-01-20T09:20:43.690140Z",
     "iopub.status.idle": "2023-01-20T09:20:43.722107Z",
     "shell.execute_reply": "2023-01-20T09:20:43.721510Z"
    }
   },
   "outputs": [],
   "source": [
    "from treevalue import FastTreeValue\n",
    "\n",
    "t = FastTreeValue(_TREE_DATA_2)"
   ]
  },
  {
   "cell_type": "code",
   "execution_count": 3,
   "id": "11c37677",
   "metadata": {
    "execution": {
     "iopub.execute_input": "2023-01-20T09:20:43.724852Z",
     "iopub.status.busy": "2023-01-20T09:20:43.724638Z",
     "iopub.status.idle": "2023-01-20T09:20:43.733940Z",
     "shell.execute_reply": "2023-01-20T09:20:43.733339Z"
    }
   },
   "outputs": [
    {
     "data": {
      "text/plain": [
       "<FastTreeValue 0x7fc674495f70>\n",
       "├── 'a' --> tensor([[ 1.0231,  1.0387, -0.3989],\n",
       "│                   [ 1.1693,  0.3416, -0.2755]])\n",
       "└── 'x' --> <FastTreeValue 0x7fc6744346a0>\n",
       "    └── 'c' --> tensor([[ 0.2037, -1.3397,  1.7660, -1.3289],\n",
       "                        [ 0.5559, -0.8278,  1.0283, -0.5832],\n",
       "                        [ 2.5793, -1.1035,  0.5420, -0.5164]])"
      ]
     },
     "execution_count": 3,
     "metadata": {},
     "output_type": "execute_result"
    }
   ],
   "source": [
    "t"
   ]
  },
  {
   "cell_type": "code",
   "execution_count": 4,
   "id": "fd70b0b9",
   "metadata": {
    "execution": {
     "iopub.execute_input": "2023-01-20T09:20:43.736540Z",
     "iopub.status.busy": "2023-01-20T09:20:43.736319Z",
     "iopub.status.idle": "2023-01-20T09:20:43.740764Z",
     "shell.execute_reply": "2023-01-20T09:20:43.740144Z"
    }
   },
   "outputs": [
    {
     "data": {
      "text/plain": [
       "tensor([[ 1.0231,  1.0387, -0.3989],\n",
       "        [ 1.1693,  0.3416, -0.2755]])"
      ]
     },
     "execution_count": 4,
     "metadata": {},
     "output_type": "execute_result"
    }
   ],
   "source": [
    "t.a"
   ]
  },
  {
   "cell_type": "code",
   "execution_count": 5,
   "id": "c18197bd",
   "metadata": {
    "execution": {
     "iopub.execute_input": "2023-01-20T09:20:43.743512Z",
     "iopub.status.busy": "2023-01-20T09:20:43.743303Z",
     "iopub.status.idle": "2023-01-20T09:20:48.764254Z",
     "shell.execute_reply": "2023-01-20T09:20:48.763681Z"
    }
   },
   "outputs": [
    {
     "name": "stdout",
     "output_type": "stream",
     "text": [
      "61.5 ns ± 0.0345 ns per loop (mean ± std. dev. of 7 runs, 10,000,000 loops each)\n"
     ]
    }
   ],
   "source": [
    "%timeit t.a"
   ]
  },
  {
   "cell_type": "code",
   "execution_count": 6,
   "id": "bd52f867",
   "metadata": {
    "execution": {
     "iopub.execute_input": "2023-01-20T09:20:48.767429Z",
     "iopub.status.busy": "2023-01-20T09:20:48.766900Z",
     "iopub.status.idle": "2023-01-20T09:20:48.772934Z",
     "shell.execute_reply": "2023-01-20T09:20:48.772276Z"
    }
   },
   "outputs": [
    {
     "data": {
      "text/plain": [
       "<FastTreeValue 0x7fc674495f70>\n",
       "├── 'a' --> tensor([[ 0.9322, -0.3561, -1.9322],\n",
       "│                   [ 0.0286, -0.6647,  0.8688]])\n",
       "└── 'x' --> <FastTreeValue 0x7fc6744346a0>\n",
       "    └── 'c' --> tensor([[ 0.2037, -1.3397,  1.7660, -1.3289],\n",
       "                        [ 0.5559, -0.8278,  1.0283, -0.5832],\n",
       "                        [ 2.5793, -1.1035,  0.5420, -0.5164]])"
      ]
     },
     "execution_count": 6,
     "metadata": {},
     "output_type": "execute_result"
    }
   ],
   "source": [
    "new_value = torch.randn(2, 3)\n",
    "t.a = new_value\n",
    "\n",
    "t"
   ]
  },
  {
   "cell_type": "code",
   "execution_count": 7,
   "id": "bbe04d1c",
   "metadata": {
    "execution": {
     "iopub.execute_input": "2023-01-20T09:20:48.775426Z",
     "iopub.status.busy": "2023-01-20T09:20:48.775206Z",
     "iopub.status.idle": "2023-01-20T09:20:53.567218Z",
     "shell.execute_reply": "2023-01-20T09:20:53.566210Z"
    }
   },
   "outputs": [
    {
     "name": "stdout",
     "output_type": "stream",
     "text": [
      "58.5 ns ± 0.0521 ns per loop (mean ± std. dev. of 7 runs, 10,000,000 loops each)\n"
     ]
    }
   ],
   "source": [
    "%timeit t.a = new_value"
   ]
  },
  {
   "cell_type": "markdown",
   "id": "48c49731",
   "metadata": {},
   "source": [
    "### Tianshou Batch's Get and Set"
   ]
  },
  {
   "cell_type": "code",
   "execution_count": 8,
   "id": "f1bb14c1",
   "metadata": {
    "execution": {
     "iopub.execute_input": "2023-01-20T09:20:53.570136Z",
     "iopub.status.busy": "2023-01-20T09:20:53.569917Z",
     "iopub.status.idle": "2023-01-20T09:20:53.894515Z",
     "shell.execute_reply": "2023-01-20T09:20:53.893685Z"
    }
   },
   "outputs": [],
   "source": [
    "from tianshou.data import Batch\n",
    "\n",
    "b = Batch(**_TREE_DATA_2)"
   ]
  },
  {
   "cell_type": "code",
   "execution_count": 9,
   "id": "cb0777c3",
   "metadata": {
    "execution": {
     "iopub.execute_input": "2023-01-20T09:20:53.898511Z",
     "iopub.status.busy": "2023-01-20T09:20:53.898056Z",
     "iopub.status.idle": "2023-01-20T09:20:53.904337Z",
     "shell.execute_reply": "2023-01-20T09:20:53.903623Z"
    }
   },
   "outputs": [
    {
     "data": {
      "text/plain": [
       "Batch(\n",
       "    a: tensor([[ 1.0231,  1.0387, -0.3989],\n",
       "               [ 1.1693,  0.3416, -0.2755]]),\n",
       "    x: Batch(\n",
       "           c: tensor([[ 0.2037, -1.3397,  1.7660, -1.3289],\n",
       "                      [ 0.5559, -0.8278,  1.0283, -0.5832],\n",
       "                      [ 2.5793, -1.1035,  0.5420, -0.5164]]),\n",
       "       ),\n",
       ")"
      ]
     },
     "execution_count": 9,
     "metadata": {},
     "output_type": "execute_result"
    }
   ],
   "source": [
    "b"
   ]
  },
  {
   "cell_type": "code",
   "execution_count": 10,
   "id": "43ef8ea3",
   "metadata": {
    "execution": {
     "iopub.execute_input": "2023-01-20T09:20:53.907914Z",
     "iopub.status.busy": "2023-01-20T09:20:53.907562Z",
     "iopub.status.idle": "2023-01-20T09:20:53.912394Z",
     "shell.execute_reply": "2023-01-20T09:20:53.911751Z"
    }
   },
   "outputs": [
    {
     "data": {
      "text/plain": [
       "tensor([[ 1.0231,  1.0387, -0.3989],\n",
       "        [ 1.1693,  0.3416, -0.2755]])"
      ]
     },
     "execution_count": 10,
     "metadata": {},
     "output_type": "execute_result"
    }
   ],
   "source": [
    "b.a"
   ]
  },
  {
   "cell_type": "code",
   "execution_count": 11,
   "id": "b785ab72",
   "metadata": {
    "execution": {
     "iopub.execute_input": "2023-01-20T09:20:53.915066Z",
     "iopub.status.busy": "2023-01-20T09:20:53.914852Z",
     "iopub.status.idle": "2023-01-20T09:20:58.481828Z",
     "shell.execute_reply": "2023-01-20T09:20:58.480799Z"
    }
   },
   "outputs": [
    {
     "name": "stdout",
     "output_type": "stream",
     "text": [
      "56.6 ns ± 0.0521 ns per loop (mean ± std. dev. of 7 runs, 10,000,000 loops each)\n"
     ]
    }
   ],
   "source": [
    "%timeit b.a"
   ]
  },
  {
   "cell_type": "code",
   "execution_count": 12,
   "id": "ad54dc69",
   "metadata": {
    "execution": {
     "iopub.execute_input": "2023-01-20T09:20:58.484781Z",
     "iopub.status.busy": "2023-01-20T09:20:58.484560Z",
     "iopub.status.idle": "2023-01-20T09:20:58.490048Z",
     "shell.execute_reply": "2023-01-20T09:20:58.489392Z"
    }
   },
   "outputs": [
    {
     "data": {
      "text/plain": [
       "Batch(\n",
       "    a: tensor([[ 0.2762,  0.5428, -1.4572],\n",
       "               [-1.5385, -0.0950, -1.2951]]),\n",
       "    x: Batch(\n",
       "           c: tensor([[ 0.2037, -1.3397,  1.7660, -1.3289],\n",
       "                      [ 0.5559, -0.8278,  1.0283, -0.5832],\n",
       "                      [ 2.5793, -1.1035,  0.5420, -0.5164]]),\n",
       "       ),\n",
       ")"
      ]
     },
     "execution_count": 12,
     "metadata": {},
     "output_type": "execute_result"
    }
   ],
   "source": [
    "new_value = torch.randn(2, 3)\n",
    "b.a = new_value\n",
    "\n",
    "b"
   ]
  },
  {
   "cell_type": "code",
   "execution_count": 13,
   "id": "29b1d0bf",
   "metadata": {
    "execution": {
     "iopub.execute_input": "2023-01-20T09:20:58.492682Z",
     "iopub.status.busy": "2023-01-20T09:20:58.492475Z",
     "iopub.status.idle": "2023-01-20T09:21:02.391432Z",
     "shell.execute_reply": "2023-01-20T09:21:02.390699Z"
    }
   },
   "outputs": [
    {
     "name": "stdout",
     "output_type": "stream",
     "text": [
      "480 ns ± 0.0911 ns per loop (mean ± std. dev. of 7 runs, 1,000,000 loops each)\n"
     ]
    }
   ],
   "source": [
    "%timeit b.a = new_value"
   ]
  },
  {
   "cell_type": "markdown",
   "id": "b61ad1d0",
   "metadata": {},
   "source": [
    "## Initialization"
   ]
  },
  {
   "cell_type": "markdown",
   "id": "d70f0d54",
   "metadata": {},
   "source": [
    "### TreeValue's Initialization"
   ]
  },
  {
   "cell_type": "code",
   "execution_count": 14,
   "id": "d32a679b",
   "metadata": {
    "execution": {
     "iopub.execute_input": "2023-01-20T09:21:02.394487Z",
     "iopub.status.busy": "2023-01-20T09:21:02.394263Z",
     "iopub.status.idle": "2023-01-20T09:21:10.109641Z",
     "shell.execute_reply": "2023-01-20T09:21:10.108504Z"
    }
   },
   "outputs": [
    {
     "name": "stdout",
     "output_type": "stream",
     "text": [
      "950 ns ± 0.0816 ns per loop (mean ± std. dev. of 7 runs, 1,000,000 loops each)\n"
     ]
    }
   ],
   "source": [
    "%timeit FastTreeValue(_TREE_DATA_1)"
   ]
  },
  {
   "cell_type": "markdown",
   "id": "24f3707b",
   "metadata": {},
   "source": [
    "### Tianshou Batch's Initialization"
   ]
  },
  {
   "cell_type": "code",
   "execution_count": 15,
   "id": "ac3958df",
   "metadata": {
    "execution": {
     "iopub.execute_input": "2023-01-20T09:21:10.112854Z",
     "iopub.status.busy": "2023-01-20T09:21:10.112246Z",
     "iopub.status.idle": "2023-01-20T09:21:19.231862Z",
     "shell.execute_reply": "2023-01-20T09:21:19.231274Z"
    }
   },
   "outputs": [
    {
     "name": "stdout",
     "output_type": "stream",
     "text": [
      "11.2 µs ± 26.3 ns per loop (mean ± std. dev. of 7 runs, 100,000 loops each)\n"
     ]
    }
   ],
   "source": [
    "%timeit Batch(**_TREE_DATA_1)"
   ]
  },
  {
   "cell_type": "markdown",
   "id": "1ab82e2d",
   "metadata": {},
   "source": [
    "## Deep Copy Operation"
   ]
  },
  {
   "cell_type": "code",
   "execution_count": 16,
   "id": "210a9442",
   "metadata": {
    "execution": {
     "iopub.execute_input": "2023-01-20T09:21:19.234850Z",
     "iopub.status.busy": "2023-01-20T09:21:19.234628Z",
     "iopub.status.idle": "2023-01-20T09:21:19.238602Z",
     "shell.execute_reply": "2023-01-20T09:21:19.238022Z"
    }
   },
   "outputs": [],
   "source": [
    "import copy"
   ]
  },
  {
   "cell_type": "markdown",
   "id": "5a736274",
   "metadata": {},
   "source": [
    "### Deep Copy of TreeValue"
   ]
  },
  {
   "cell_type": "code",
   "execution_count": 17,
   "id": "f9bcadd6",
   "metadata": {
    "execution": {
     "iopub.execute_input": "2023-01-20T09:21:19.241278Z",
     "iopub.status.busy": "2023-01-20T09:21:19.241060Z",
     "iopub.status.idle": "2023-01-20T09:21:30.348039Z",
     "shell.execute_reply": "2023-01-20T09:21:30.347470Z"
    }
   },
   "outputs": [
    {
     "name": "stdout",
     "output_type": "stream",
     "text": [
      "137 µs ± 535 ns per loop (mean ± std. dev. of 7 runs, 10,000 loops each)\n"
     ]
    }
   ],
   "source": [
    "t3 = FastTreeValue(_TREE_DATA_3)\n",
    "%timeit copy.deepcopy(t3)"
   ]
  },
  {
   "cell_type": "markdown",
   "id": "bf8be7ea",
   "metadata": {},
   "source": [
    "### Deep Copy of Tianshou Batch"
   ]
  },
  {
   "cell_type": "code",
   "execution_count": 18,
   "id": "91998e6f",
   "metadata": {
    "execution": {
     "iopub.execute_input": "2023-01-20T09:21:30.354714Z",
     "iopub.status.busy": "2023-01-20T09:21:30.354132Z",
     "iopub.status.idle": "2023-01-20T09:21:41.620965Z",
     "shell.execute_reply": "2023-01-20T09:21:41.620359Z"
    }
   },
   "outputs": [
    {
     "name": "stdout",
     "output_type": "stream",
     "text": [
      "139 µs ± 388 ns per loop (mean ± std. dev. of 7 runs, 10,000 loops each)\n"
     ]
    }
   ],
   "source": [
    "b3 = Batch(**_TREE_DATA_3)\n",
    "%timeit copy.deepcopy(b3)"
   ]
  },
  {
   "cell_type": "markdown",
   "id": "223162fb",
   "metadata": {},
   "source": [
    "## Stack, Concat and Split Operation"
   ]
  },
  {
   "cell_type": "markdown",
   "id": "85fa4a73",
   "metadata": {},
   "source": [
    "### Performance of TreeValue"
   ]
  },
  {
   "cell_type": "code",
   "execution_count": 19,
   "id": "a0c2b697",
   "metadata": {
    "execution": {
     "iopub.execute_input": "2023-01-20T09:21:41.624778Z",
     "iopub.status.busy": "2023-01-20T09:21:41.624275Z",
     "iopub.status.idle": "2023-01-20T09:21:41.628783Z",
     "shell.execute_reply": "2023-01-20T09:21:41.628188Z"
    }
   },
   "outputs": [],
   "source": [
    "trees = [FastTreeValue(_TREE_DATA_2) for _ in range(8)]"
   ]
  },
  {
   "cell_type": "code",
   "execution_count": 20,
   "id": "017ea5a5",
   "metadata": {
    "execution": {
     "iopub.execute_input": "2023-01-20T09:21:41.632097Z",
     "iopub.status.busy": "2023-01-20T09:21:41.631660Z",
     "iopub.status.idle": "2023-01-20T09:21:41.640776Z",
     "shell.execute_reply": "2023-01-20T09:21:41.640201Z"
    }
   },
   "outputs": [
    {
     "data": {
      "text/plain": [
       "<FastTreeValue 0x7fc6744275b0>\n",
       "├── 'a' --> tensor([[[ 1.0231,  1.0387, -0.3989],\n",
       "│                    [ 1.1693,  0.3416, -0.2755]],\n",
       "│           \n",
       "│                   [[ 1.0231,  1.0387, -0.3989],\n",
       "│                    [ 1.1693,  0.3416, -0.2755]],\n",
       "│           \n",
       "│                   [[ 1.0231,  1.0387, -0.3989],\n",
       "│                    [ 1.1693,  0.3416, -0.2755]],\n",
       "│           \n",
       "│                   [[ 1.0231,  1.0387, -0.3989],\n",
       "│                    [ 1.1693,  0.3416, -0.2755]],\n",
       "│           \n",
       "│                   [[ 1.0231,  1.0387, -0.3989],\n",
       "│                    [ 1.1693,  0.3416, -0.2755]],\n",
       "│           \n",
       "│                   [[ 1.0231,  1.0387, -0.3989],\n",
       "│                    [ 1.1693,  0.3416, -0.2755]],\n",
       "│           \n",
       "│                   [[ 1.0231,  1.0387, -0.3989],\n",
       "│                    [ 1.1693,  0.3416, -0.2755]],\n",
       "│           \n",
       "│                   [[ 1.0231,  1.0387, -0.3989],\n",
       "│                    [ 1.1693,  0.3416, -0.2755]]])\n",
       "└── 'x' --> <FastTreeValue 0x7fc674434130>\n",
       "    └── 'c' --> tensor([[[ 0.2037, -1.3397,  1.7660, -1.3289],\n",
       "                         [ 0.5559, -0.8278,  1.0283, -0.5832],\n",
       "                         [ 2.5793, -1.1035,  0.5420, -0.5164]],\n",
       "                \n",
       "                        [[ 0.2037, -1.3397,  1.7660, -1.3289],\n",
       "                         [ 0.5559, -0.8278,  1.0283, -0.5832],\n",
       "                         [ 2.5793, -1.1035,  0.5420, -0.5164]],\n",
       "                \n",
       "                        [[ 0.2037, -1.3397,  1.7660, -1.3289],\n",
       "                         [ 0.5559, -0.8278,  1.0283, -0.5832],\n",
       "                         [ 2.5793, -1.1035,  0.5420, -0.5164]],\n",
       "                \n",
       "                        [[ 0.2037, -1.3397,  1.7660, -1.3289],\n",
       "                         [ 0.5559, -0.8278,  1.0283, -0.5832],\n",
       "                         [ 2.5793, -1.1035,  0.5420, -0.5164]],\n",
       "                \n",
       "                        [[ 0.2037, -1.3397,  1.7660, -1.3289],\n",
       "                         [ 0.5559, -0.8278,  1.0283, -0.5832],\n",
       "                         [ 2.5793, -1.1035,  0.5420, -0.5164]],\n",
       "                \n",
       "                        [[ 0.2037, -1.3397,  1.7660, -1.3289],\n",
       "                         [ 0.5559, -0.8278,  1.0283, -0.5832],\n",
       "                         [ 2.5793, -1.1035,  0.5420, -0.5164]],\n",
       "                \n",
       "                        [[ 0.2037, -1.3397,  1.7660, -1.3289],\n",
       "                         [ 0.5559, -0.8278,  1.0283, -0.5832],\n",
       "                         [ 2.5793, -1.1035,  0.5420, -0.5164]],\n",
       "                \n",
       "                        [[ 0.2037, -1.3397,  1.7660, -1.3289],\n",
       "                         [ 0.5559, -0.8278,  1.0283, -0.5832],\n",
       "                         [ 2.5793, -1.1035,  0.5420, -0.5164]]])"
      ]
     },
     "execution_count": 20,
     "metadata": {},
     "output_type": "execute_result"
    }
   ],
   "source": [
    "t_stack = FastTreeValue.func(subside=True)(torch.stack)\n",
    "\n",
    "t_stack(trees)"
   ]
  },
  {
   "cell_type": "code",
   "execution_count": 21,
   "id": "f8b3f415",
   "metadata": {
    "execution": {
     "iopub.execute_input": "2023-01-20T09:21:41.644171Z",
     "iopub.status.busy": "2023-01-20T09:21:41.643741Z",
     "iopub.status.idle": "2023-01-20T09:21:44.231443Z",
     "shell.execute_reply": "2023-01-20T09:21:44.230861Z"
    }
   },
   "outputs": [
    {
     "name": "stdout",
     "output_type": "stream",
     "text": [
      "31.8 µs ± 37.4 ns per loop (mean ± std. dev. of 7 runs, 10,000 loops each)\n"
     ]
    }
   ],
   "source": [
    "%timeit t_stack(trees)"
   ]
  },
  {
   "cell_type": "code",
   "execution_count": 22,
   "id": "94b56771",
   "metadata": {
    "execution": {
     "iopub.execute_input": "2023-01-20T09:21:44.234373Z",
     "iopub.status.busy": "2023-01-20T09:21:44.234157Z",
     "iopub.status.idle": "2023-01-20T09:21:44.241942Z",
     "shell.execute_reply": "2023-01-20T09:21:44.241354Z"
    }
   },
   "outputs": [
    {
     "data": {
      "text/plain": [
       "<FastTreeValue 0x7fc6488eb310>\n",
       "├── 'a' --> tensor([[ 1.0231,  1.0387, -0.3989],\n",
       "│                   [ 1.1693,  0.3416, -0.2755],\n",
       "│                   [ 1.0231,  1.0387, -0.3989],\n",
       "│                   [ 1.1693,  0.3416, -0.2755],\n",
       "│                   [ 1.0231,  1.0387, -0.3989],\n",
       "│                   [ 1.1693,  0.3416, -0.2755],\n",
       "│                   [ 1.0231,  1.0387, -0.3989],\n",
       "│                   [ 1.1693,  0.3416, -0.2755],\n",
       "│                   [ 1.0231,  1.0387, -0.3989],\n",
       "│                   [ 1.1693,  0.3416, -0.2755],\n",
       "│                   [ 1.0231,  1.0387, -0.3989],\n",
       "│                   [ 1.1693,  0.3416, -0.2755],\n",
       "│                   [ 1.0231,  1.0387, -0.3989],\n",
       "│                   [ 1.1693,  0.3416, -0.2755],\n",
       "│                   [ 1.0231,  1.0387, -0.3989],\n",
       "│                   [ 1.1693,  0.3416, -0.2755]])\n",
       "└── 'x' --> <FastTreeValue 0x7fc6488eb580>\n",
       "    └── 'c' --> tensor([[ 0.2037, -1.3397,  1.7660, -1.3289],\n",
       "                        [ 0.5559, -0.8278,  1.0283, -0.5832],\n",
       "                        [ 2.5793, -1.1035,  0.5420, -0.5164],\n",
       "                        [ 0.2037, -1.3397,  1.7660, -1.3289],\n",
       "                        [ 0.5559, -0.8278,  1.0283, -0.5832],\n",
       "                        [ 2.5793, -1.1035,  0.5420, -0.5164],\n",
       "                        [ 0.2037, -1.3397,  1.7660, -1.3289],\n",
       "                        [ 0.5559, -0.8278,  1.0283, -0.5832],\n",
       "                        [ 2.5793, -1.1035,  0.5420, -0.5164],\n",
       "                        [ 0.2037, -1.3397,  1.7660, -1.3289],\n",
       "                        [ 0.5559, -0.8278,  1.0283, -0.5832],\n",
       "                        [ 2.5793, -1.1035,  0.5420, -0.5164],\n",
       "                        [ 0.2037, -1.3397,  1.7660, -1.3289],\n",
       "                        [ 0.5559, -0.8278,  1.0283, -0.5832],\n",
       "                        [ 2.5793, -1.1035,  0.5420, -0.5164],\n",
       "                        [ 0.2037, -1.3397,  1.7660, -1.3289],\n",
       "                        [ 0.5559, -0.8278,  1.0283, -0.5832],\n",
       "                        [ 2.5793, -1.1035,  0.5420, -0.5164],\n",
       "                        [ 0.2037, -1.3397,  1.7660, -1.3289],\n",
       "                        [ 0.5559, -0.8278,  1.0283, -0.5832],\n",
       "                        [ 2.5793, -1.1035,  0.5420, -0.5164],\n",
       "                        [ 0.2037, -1.3397,  1.7660, -1.3289],\n",
       "                        [ 0.5559, -0.8278,  1.0283, -0.5832],\n",
       "                        [ 2.5793, -1.1035,  0.5420, -0.5164]])"
      ]
     },
     "execution_count": 22,
     "metadata": {},
     "output_type": "execute_result"
    }
   ],
   "source": [
    "t_cat = FastTreeValue.func(subside=True)(torch.cat)\n",
    "\n",
    "t_cat(trees)"
   ]
  },
  {
   "cell_type": "code",
   "execution_count": 23,
   "id": "5e9c06a6",
   "metadata": {
    "execution": {
     "iopub.execute_input": "2023-01-20T09:21:44.245202Z",
     "iopub.status.busy": "2023-01-20T09:21:44.244726Z",
     "iopub.status.idle": "2023-01-20T09:21:46.644545Z",
     "shell.execute_reply": "2023-01-20T09:21:46.643863Z"
    }
   },
   "outputs": [
    {
     "name": "stdout",
     "output_type": "stream",
     "text": [
      "29.5 µs ± 88.1 ns per loop (mean ± std. dev. of 7 runs, 10,000 loops each)\n"
     ]
    }
   ],
   "source": [
    "%timeit t_cat(trees)"
   ]
  },
  {
   "cell_type": "code",
   "execution_count": 24,
   "id": "a3ab5c8f",
   "metadata": {
    "execution": {
     "iopub.execute_input": "2023-01-20T09:21:46.647692Z",
     "iopub.status.busy": "2023-01-20T09:21:46.647089Z",
     "iopub.status.idle": "2023-01-20T09:21:51.399603Z",
     "shell.execute_reply": "2023-01-20T09:21:51.399021Z"
    }
   },
   "outputs": [
    {
     "name": "stdout",
     "output_type": "stream",
     "text": [
      "58.5 µs ± 127 ns per loop (mean ± std. dev. of 7 runs, 10,000 loops each)\n"
     ]
    }
   ],
   "source": [
    "t_split = FastTreeValue.func(rise=True)(torch.split)\n",
    "tree = FastTreeValue({\n",
    "    'obs': torch.randn(8, 4, 84, 84),\n",
    "    'action': torch.randint(0, 6, size=(8, 1,)),\n",
    "    'reward': torch.rand(8, 1),\n",
    "})\n",
    "\n",
    "%timeit t_split(tree, 1)"
   ]
  },
  {
   "cell_type": "markdown",
   "id": "31c3ec0b",
   "metadata": {},
   "source": [
    "### Performance of Tianshou Batch"
   ]
  },
  {
   "cell_type": "code",
   "execution_count": 25,
   "id": "9ead828a",
   "metadata": {
    "execution": {
     "iopub.execute_input": "2023-01-20T09:21:51.402615Z",
     "iopub.status.busy": "2023-01-20T09:21:51.402391Z",
     "iopub.status.idle": "2023-01-20T09:21:51.409744Z",
     "shell.execute_reply": "2023-01-20T09:21:51.409051Z"
    }
   },
   "outputs": [
    {
     "data": {
      "text/plain": [
       "Batch(\n",
       "    x: Batch(\n",
       "           c: tensor([[[ 0.2037, -1.3397,  1.7660, -1.3289],\n",
       "                       [ 0.5559, -0.8278,  1.0283, -0.5832],\n",
       "                       [ 2.5793, -1.1035,  0.5420, -0.5164]],\n",
       "              \n",
       "                      [[ 0.2037, -1.3397,  1.7660, -1.3289],\n",
       "                       [ 0.5559, -0.8278,  1.0283, -0.5832],\n",
       "                       [ 2.5793, -1.1035,  0.5420, -0.5164]],\n",
       "              \n",
       "                      [[ 0.2037, -1.3397,  1.7660, -1.3289],\n",
       "                       [ 0.5559, -0.8278,  1.0283, -0.5832],\n",
       "                       [ 2.5793, -1.1035,  0.5420, -0.5164]],\n",
       "              \n",
       "                      [[ 0.2037, -1.3397,  1.7660, -1.3289],\n",
       "                       [ 0.5559, -0.8278,  1.0283, -0.5832],\n",
       "                       [ 2.5793, -1.1035,  0.5420, -0.5164]],\n",
       "              \n",
       "                      [[ 0.2037, -1.3397,  1.7660, -1.3289],\n",
       "                       [ 0.5559, -0.8278,  1.0283, -0.5832],\n",
       "                       [ 2.5793, -1.1035,  0.5420, -0.5164]],\n",
       "              \n",
       "                      [[ 0.2037, -1.3397,  1.7660, -1.3289],\n",
       "                       [ 0.5559, -0.8278,  1.0283, -0.5832],\n",
       "                       [ 2.5793, -1.1035,  0.5420, -0.5164]],\n",
       "              \n",
       "                      [[ 0.2037, -1.3397,  1.7660, -1.3289],\n",
       "                       [ 0.5559, -0.8278,  1.0283, -0.5832],\n",
       "                       [ 2.5793, -1.1035,  0.5420, -0.5164]],\n",
       "              \n",
       "                      [[ 0.2037, -1.3397,  1.7660, -1.3289],\n",
       "                       [ 0.5559, -0.8278,  1.0283, -0.5832],\n",
       "                       [ 2.5793, -1.1035,  0.5420, -0.5164]]]),\n",
       "       ),\n",
       "    a: tensor([[[ 1.0231,  1.0387, -0.3989],\n",
       "                [ 1.1693,  0.3416, -0.2755]],\n",
       "       \n",
       "               [[ 1.0231,  1.0387, -0.3989],\n",
       "                [ 1.1693,  0.3416, -0.2755]],\n",
       "       \n",
       "               [[ 1.0231,  1.0387, -0.3989],\n",
       "                [ 1.1693,  0.3416, -0.2755]],\n",
       "       \n",
       "               [[ 1.0231,  1.0387, -0.3989],\n",
       "                [ 1.1693,  0.3416, -0.2755]],\n",
       "       \n",
       "               [[ 1.0231,  1.0387, -0.3989],\n",
       "                [ 1.1693,  0.3416, -0.2755]],\n",
       "       \n",
       "               [[ 1.0231,  1.0387, -0.3989],\n",
       "                [ 1.1693,  0.3416, -0.2755]],\n",
       "       \n",
       "               [[ 1.0231,  1.0387, -0.3989],\n",
       "                [ 1.1693,  0.3416, -0.2755]],\n",
       "       \n",
       "               [[ 1.0231,  1.0387, -0.3989],\n",
       "                [ 1.1693,  0.3416, -0.2755]]]),\n",
       ")"
      ]
     },
     "execution_count": 25,
     "metadata": {},
     "output_type": "execute_result"
    }
   ],
   "source": [
    "batches = [Batch(**_TREE_DATA_2) for _ in range(8)]\n",
    "\n",
    "Batch.stack(batches)"
   ]
  },
  {
   "cell_type": "code",
   "execution_count": 26,
   "id": "ec9037a3",
   "metadata": {
    "execution": {
     "iopub.execute_input": "2023-01-20T09:21:51.412353Z",
     "iopub.status.busy": "2023-01-20T09:21:51.412134Z",
     "iopub.status.idle": "2023-01-20T09:21:57.786357Z",
     "shell.execute_reply": "2023-01-20T09:21:57.785780Z"
    }
   },
   "outputs": [
    {
     "name": "stdout",
     "output_type": "stream",
     "text": [
      "78.5 µs ± 83.2 ns per loop (mean ± std. dev. of 7 runs, 10,000 loops each)\n"
     ]
    }
   ],
   "source": [
    "%timeit Batch.stack(batches)"
   ]
  },
  {
   "cell_type": "code",
   "execution_count": 27,
   "id": "cb8ab77e",
   "metadata": {
    "execution": {
     "iopub.execute_input": "2023-01-20T09:21:57.790181Z",
     "iopub.status.busy": "2023-01-20T09:21:57.789628Z",
     "iopub.status.idle": "2023-01-20T09:21:57.796360Z",
     "shell.execute_reply": "2023-01-20T09:21:57.795730Z"
    }
   },
   "outputs": [
    {
     "data": {
      "text/plain": [
       "Batch(\n",
       "    x: Batch(\n",
       "           c: tensor([[ 0.2037, -1.3397,  1.7660, -1.3289],\n",
       "                      [ 0.5559, -0.8278,  1.0283, -0.5832],\n",
       "                      [ 2.5793, -1.1035,  0.5420, -0.5164],\n",
       "                      [ 0.2037, -1.3397,  1.7660, -1.3289],\n",
       "                      [ 0.5559, -0.8278,  1.0283, -0.5832],\n",
       "                      [ 2.5793, -1.1035,  0.5420, -0.5164],\n",
       "                      [ 0.2037, -1.3397,  1.7660, -1.3289],\n",
       "                      [ 0.5559, -0.8278,  1.0283, -0.5832],\n",
       "                      [ 2.5793, -1.1035,  0.5420, -0.5164],\n",
       "                      [ 0.2037, -1.3397,  1.7660, -1.3289],\n",
       "                      [ 0.5559, -0.8278,  1.0283, -0.5832],\n",
       "                      [ 2.5793, -1.1035,  0.5420, -0.5164],\n",
       "                      [ 0.2037, -1.3397,  1.7660, -1.3289],\n",
       "                      [ 0.5559, -0.8278,  1.0283, -0.5832],\n",
       "                      [ 2.5793, -1.1035,  0.5420, -0.5164],\n",
       "                      [ 0.2037, -1.3397,  1.7660, -1.3289],\n",
       "                      [ 0.5559, -0.8278,  1.0283, -0.5832],\n",
       "                      [ 2.5793, -1.1035,  0.5420, -0.5164],\n",
       "                      [ 0.2037, -1.3397,  1.7660, -1.3289],\n",
       "                      [ 0.5559, -0.8278,  1.0283, -0.5832],\n",
       "                      [ 2.5793, -1.1035,  0.5420, -0.5164],\n",
       "                      [ 0.2037, -1.3397,  1.7660, -1.3289],\n",
       "                      [ 0.5559, -0.8278,  1.0283, -0.5832],\n",
       "                      [ 2.5793, -1.1035,  0.5420, -0.5164]]),\n",
       "       ),\n",
       "    a: tensor([[ 1.0231,  1.0387, -0.3989],\n",
       "               [ 1.1693,  0.3416, -0.2755],\n",
       "               [ 1.0231,  1.0387, -0.3989],\n",
       "               [ 1.1693,  0.3416, -0.2755],\n",
       "               [ 1.0231,  1.0387, -0.3989],\n",
       "               [ 1.1693,  0.3416, -0.2755],\n",
       "               [ 1.0231,  1.0387, -0.3989],\n",
       "               [ 1.1693,  0.3416, -0.2755],\n",
       "               [ 1.0231,  1.0387, -0.3989],\n",
       "               [ 1.1693,  0.3416, -0.2755],\n",
       "               [ 1.0231,  1.0387, -0.3989],\n",
       "               [ 1.1693,  0.3416, -0.2755],\n",
       "               [ 1.0231,  1.0387, -0.3989],\n",
       "               [ 1.1693,  0.3416, -0.2755],\n",
       "               [ 1.0231,  1.0387, -0.3989],\n",
       "               [ 1.1693,  0.3416, -0.2755]]),\n",
       ")"
      ]
     },
     "execution_count": 27,
     "metadata": {},
     "output_type": "execute_result"
    }
   ],
   "source": [
    "Batch.cat(batches)"
   ]
  },
  {
   "cell_type": "code",
   "execution_count": 28,
   "id": "18dfb045",
   "metadata": {
    "execution": {
     "iopub.execute_input": "2023-01-20T09:21:57.799239Z",
     "iopub.status.busy": "2023-01-20T09:21:57.799017Z",
     "iopub.status.idle": "2023-01-20T09:22:09.430062Z",
     "shell.execute_reply": "2023-01-20T09:22:09.429481Z"
    }
   },
   "outputs": [
    {
     "name": "stdout",
     "output_type": "stream",
     "text": [
      "143 µs ± 369 ns per loop (mean ± std. dev. of 7 runs, 10,000 loops each)\n"
     ]
    }
   ],
   "source": [
    "%timeit Batch.cat(batches)"
   ]
  },
  {
   "cell_type": "code",
   "execution_count": 29,
   "id": "c6688e51",
   "metadata": {
    "execution": {
     "iopub.execute_input": "2023-01-20T09:22:09.432954Z",
     "iopub.status.busy": "2023-01-20T09:22:09.432733Z",
     "iopub.status.idle": "2023-01-20T09:22:11.908883Z",
     "shell.execute_reply": "2023-01-20T09:22:11.908179Z"
    }
   },
   "outputs": [
    {
     "name": "stdout",
     "output_type": "stream",
     "text": [
      "304 µs ± 1.06 µs per loop (mean ± std. dev. of 7 runs, 1,000 loops each)\n"
     ]
    }
   ],
   "source": [
    "batch = Batch({\n",
    "    'obs': torch.randn(8, 4, 84, 84),\n",
    "    'action': torch.randint(0, 6, size=(8, 1,)),\n",
    "    'reward': torch.rand(8, 1)}\n",
    ")\n",
    "\n",
    "%timeit list(Batch.split(batch, 1, shuffle=False, merge_last=True))"
   ]
  },
  {
   "cell_type": "code",
   "execution_count": null,
   "id": "2539fbd9",
   "metadata": {},
   "outputs": [],
   "source": []
  }
 ],
 "metadata": {
  "kernelspec": {
   "display_name": "Python 3 (ipykernel)",
   "language": "python",
   "name": "python3"
  },
  "language_info": {
   "codemirror_mode": {
    "name": "ipython",
    "version": 3
   },
   "file_extension": ".py",
   "mimetype": "text/x-python",
   "name": "python",
   "nbconvert_exporter": "python",
   "pygments_lexer": "ipython3",
   "version": "3.8.16"
  }
 },
 "nbformat": 4,
 "nbformat_minor": 5
}
