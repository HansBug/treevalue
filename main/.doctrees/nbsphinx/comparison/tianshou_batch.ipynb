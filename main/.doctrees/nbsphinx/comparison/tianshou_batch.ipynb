{
 "cells": [
  {
   "cell_type": "markdown",
   "id": "9d39d946",
   "metadata": {},
   "source": [
    "# Comparison Between TreeValue and Tianshou Batch"
   ]
  },
  {
   "cell_type": "markdown",
   "id": "3c6db2d4",
   "metadata": {},
   "source": [
    "In this section, we will take a look at the feature and performance of the [Tianshou Batch](https://github.com/thu-ml/tianshou) library, which is developed by Tsinghua Machine Learning Group."
   ]
  },
  {
   "cell_type": "markdown",
   "id": "069361b0",
   "metadata": {},
   "source": [
    "Before starting the comparison, let us define some thing."
   ]
  },
  {
   "cell_type": "code",
   "execution_count": 1,
   "id": "06fc8d26",
   "metadata": {
    "execution": {
     "iopub.execute_input": "2023-01-29T04:40:08.639758Z",
     "iopub.status.busy": "2023-01-29T04:40:08.639202Z",
     "iopub.status.idle": "2023-01-29T04:40:09.545631Z",
     "shell.execute_reply": "2023-01-29T04:40:09.544962Z"
    }
   },
   "outputs": [
    {
     "name": "stderr",
     "output_type": "stream",
     "text": [
      "/opt/hostedtoolcache/Python/3.8.16/x64/lib/python3.8/site-packages/tqdm/auto.py:22: TqdmWarning: IProgress not found. Please update jupyter and ipywidgets. See https://ipywidgets.readthedocs.io/en/stable/user_install.html\n",
      "  from .autonotebook import tqdm as notebook_tqdm\n"
     ]
    }
   ],
   "source": [
    "import torch \n",
    "\n",
    "_TREE_DATA_1 = {'a': 1, 'b': 2, 'x': {'c': 3, 'd': 4}}\n",
    "_TREE_DATA_2 = {\n",
    "    'a': torch.randn(2, 3), \n",
    "    'x': {\n",
    "        'c': torch.randn(3, 4)\n",
    "    },\n",
    "}\n",
    "_TREE_DATA_3 = {\n",
    "    'obs': torch.randn(4, 84, 84),\n",
    "    'action': torch.randint(0, 6, size=(1,)),\n",
    "    'reward': torch.rand(1),\n",
    "}"
   ]
  },
  {
   "cell_type": "markdown",
   "id": "83461b25",
   "metadata": {},
   "source": [
    "## Read and Write Operation"
   ]
  },
  {
   "cell_type": "markdown",
   "id": "067b3f73",
   "metadata": {},
   "source": [
    "Reading and writing are the two most common operations in the tree data structure based on the data model (TreeValue and Tianshou Batch both belong to this type), so this section will compare the reading and writing performance of these two libraries."
   ]
  },
  {
   "cell_type": "markdown",
   "id": "5d09a5b7",
   "metadata": {},
   "source": [
    "### TreeValue's Get and Set"
   ]
  },
  {
   "cell_type": "code",
   "execution_count": 2,
   "id": "9519c4bb",
   "metadata": {
    "execution": {
     "iopub.execute_input": "2023-01-29T04:40:09.548883Z",
     "iopub.status.busy": "2023-01-29T04:40:09.548301Z",
     "iopub.status.idle": "2023-01-29T04:40:09.580936Z",
     "shell.execute_reply": "2023-01-29T04:40:09.580336Z"
    }
   },
   "outputs": [],
   "source": [
    "from treevalue import FastTreeValue\n",
    "\n",
    "t = FastTreeValue(_TREE_DATA_2)"
   ]
  },
  {
   "cell_type": "code",
   "execution_count": 3,
   "id": "11c37677",
   "metadata": {
    "execution": {
     "iopub.execute_input": "2023-01-29T04:40:09.583822Z",
     "iopub.status.busy": "2023-01-29T04:40:09.583478Z",
     "iopub.status.idle": "2023-01-29T04:40:09.592610Z",
     "shell.execute_reply": "2023-01-29T04:40:09.592031Z"
    }
   },
   "outputs": [
    {
     "data": {
      "text/plain": [
       "<FastTreeValue 0x7fab58559250>\n",
       "├── 'a' --> tensor([[ 0.2163, -0.1810, -0.8099],\n",
       "│                   [-1.6821,  1.0561,  1.8823]])\n",
       "└── 'x' --> <FastTreeValue 0x7fab58559220>\n",
       "    └── 'c' --> tensor([[-1.7257, -0.5643, -0.3352, -1.6255],\n",
       "                        [-0.1530,  0.7911,  0.3412,  0.1411],\n",
       "                        [ 0.2110,  0.8384,  0.4537,  1.5757]])"
      ]
     },
     "execution_count": 3,
     "metadata": {},
     "output_type": "execute_result"
    }
   ],
   "source": [
    "t"
   ]
  },
  {
   "cell_type": "code",
   "execution_count": 4,
   "id": "fd70b0b9",
   "metadata": {
    "execution": {
     "iopub.execute_input": "2023-01-29T04:40:09.595506Z",
     "iopub.status.busy": "2023-01-29T04:40:09.595028Z",
     "iopub.status.idle": "2023-01-29T04:40:09.600483Z",
     "shell.execute_reply": "2023-01-29T04:40:09.599898Z"
    }
   },
   "outputs": [
    {
     "data": {
      "text/plain": [
       "tensor([[ 0.2163, -0.1810, -0.8099],\n",
       "        [-1.6821,  1.0561,  1.8823]])"
      ]
     },
     "execution_count": 4,
     "metadata": {},
     "output_type": "execute_result"
    }
   ],
   "source": [
    "t.a"
   ]
  },
  {
   "cell_type": "code",
   "execution_count": 5,
   "id": "c18197bd",
   "metadata": {
    "execution": {
     "iopub.execute_input": "2023-01-29T04:40:09.603748Z",
     "iopub.status.busy": "2023-01-29T04:40:09.602755Z",
     "iopub.status.idle": "2023-01-29T04:40:14.782582Z",
     "shell.execute_reply": "2023-01-29T04:40:14.781909Z"
    }
   },
   "outputs": [
    {
     "name": "stdout",
     "output_type": "stream",
     "text": [
      "63.9 ns ± 0.0228 ns per loop (mean ± std. dev. of 7 runs, 10,000,000 loops each)\n"
     ]
    }
   ],
   "source": [
    "%timeit t.a"
   ]
  },
  {
   "cell_type": "code",
   "execution_count": 6,
   "id": "bd52f867",
   "metadata": {
    "execution": {
     "iopub.execute_input": "2023-01-29T04:40:14.785580Z",
     "iopub.status.busy": "2023-01-29T04:40:14.785066Z",
     "iopub.status.idle": "2023-01-29T04:40:14.791776Z",
     "shell.execute_reply": "2023-01-29T04:40:14.791164Z"
    }
   },
   "outputs": [
    {
     "data": {
      "text/plain": [
       "<FastTreeValue 0x7fab58559250>\n",
       "├── 'a' --> tensor([[-1.0750,  0.1162, -0.5139],\n",
       "│                   [ 0.3919,  1.0738, -1.8674]])\n",
       "└── 'x' --> <FastTreeValue 0x7fab58559220>\n",
       "    └── 'c' --> tensor([[-1.7257, -0.5643, -0.3352, -1.6255],\n",
       "                        [-0.1530,  0.7911,  0.3412,  0.1411],\n",
       "                        [ 0.2110,  0.8384,  0.4537,  1.5757]])"
      ]
     },
     "execution_count": 6,
     "metadata": {},
     "output_type": "execute_result"
    }
   ],
   "source": [
    "new_value = torch.randn(2, 3)\n",
    "t.a = new_value\n",
    "\n",
    "t"
   ]
  },
  {
   "cell_type": "code",
   "execution_count": 7,
   "id": "bbe04d1c",
   "metadata": {
    "execution": {
     "iopub.execute_input": "2023-01-29T04:40:14.794178Z",
     "iopub.status.busy": "2023-01-29T04:40:14.793821Z",
     "iopub.status.idle": "2023-01-29T04:40:19.931256Z",
     "shell.execute_reply": "2023-01-29T04:40:19.930537Z"
    }
   },
   "outputs": [
    {
     "name": "stdout",
     "output_type": "stream",
     "text": [
      "63.5 ns ± 0.0401 ns per loop (mean ± std. dev. of 7 runs, 10,000,000 loops each)\n"
     ]
    }
   ],
   "source": [
    "%timeit t.a = new_value"
   ]
  },
  {
   "cell_type": "markdown",
   "id": "48c49731",
   "metadata": {},
   "source": [
    "### Tianshou Batch's Get and Set"
   ]
  },
  {
   "cell_type": "code",
   "execution_count": 8,
   "id": "f1bb14c1",
   "metadata": {
    "execution": {
     "iopub.execute_input": "2023-01-29T04:40:19.934524Z",
     "iopub.status.busy": "2023-01-29T04:40:19.933855Z",
     "iopub.status.idle": "2023-01-29T04:40:20.260766Z",
     "shell.execute_reply": "2023-01-29T04:40:20.260094Z"
    }
   },
   "outputs": [],
   "source": [
    "from tianshou.data import Batch\n",
    "\n",
    "b = Batch(**_TREE_DATA_2)"
   ]
  },
  {
   "cell_type": "code",
   "execution_count": 9,
   "id": "cb0777c3",
   "metadata": {
    "execution": {
     "iopub.execute_input": "2023-01-29T04:40:20.264063Z",
     "iopub.status.busy": "2023-01-29T04:40:20.263619Z",
     "iopub.status.idle": "2023-01-29T04:40:20.269743Z",
     "shell.execute_reply": "2023-01-29T04:40:20.269159Z"
    }
   },
   "outputs": [
    {
     "data": {
      "text/plain": [
       "Batch(\n",
       "    a: tensor([[ 0.2163, -0.1810, -0.8099],\n",
       "               [-1.6821,  1.0561,  1.8823]]),\n",
       "    x: Batch(\n",
       "           c: tensor([[-1.7257, -0.5643, -0.3352, -1.6255],\n",
       "                      [-0.1530,  0.7911,  0.3412,  0.1411],\n",
       "                      [ 0.2110,  0.8384,  0.4537,  1.5757]]),\n",
       "       ),\n",
       ")"
      ]
     },
     "execution_count": 9,
     "metadata": {},
     "output_type": "execute_result"
    }
   ],
   "source": [
    "b"
   ]
  },
  {
   "cell_type": "code",
   "execution_count": 10,
   "id": "43ef8ea3",
   "metadata": {
    "execution": {
     "iopub.execute_input": "2023-01-29T04:40:20.272469Z",
     "iopub.status.busy": "2023-01-29T04:40:20.272136Z",
     "iopub.status.idle": "2023-01-29T04:40:20.277665Z",
     "shell.execute_reply": "2023-01-29T04:40:20.277095Z"
    }
   },
   "outputs": [
    {
     "data": {
      "text/plain": [
       "tensor([[ 0.2163, -0.1810, -0.8099],\n",
       "        [-1.6821,  1.0561,  1.8823]])"
      ]
     },
     "execution_count": 10,
     "metadata": {},
     "output_type": "execute_result"
    }
   ],
   "source": [
    "b.a"
   ]
  },
  {
   "cell_type": "code",
   "execution_count": 11,
   "id": "b785ab72",
   "metadata": {
    "execution": {
     "iopub.execute_input": "2023-01-29T04:40:20.280388Z",
     "iopub.status.busy": "2023-01-29T04:40:20.279914Z",
     "iopub.status.idle": "2023-01-29T04:40:25.071650Z",
     "shell.execute_reply": "2023-01-29T04:40:25.070908Z"
    }
   },
   "outputs": [
    {
     "name": "stdout",
     "output_type": "stream",
     "text": [
      "59 ns ± 0.0374 ns per loop (mean ± std. dev. of 7 runs, 10,000,000 loops each)\n"
     ]
    }
   ],
   "source": [
    "%timeit b.a"
   ]
  },
  {
   "cell_type": "code",
   "execution_count": 12,
   "id": "ad54dc69",
   "metadata": {
    "execution": {
     "iopub.execute_input": "2023-01-29T04:40:25.074517Z",
     "iopub.status.busy": "2023-01-29T04:40:25.073934Z",
     "iopub.status.idle": "2023-01-29T04:40:25.080310Z",
     "shell.execute_reply": "2023-01-29T04:40:25.079705Z"
    }
   },
   "outputs": [
    {
     "data": {
      "text/plain": [
       "Batch(\n",
       "    a: tensor([[ 0.2250, -0.3141, -0.3334],\n",
       "               [-0.0339, -1.0171, -0.6386]]),\n",
       "    x: Batch(\n",
       "           c: tensor([[-1.7257, -0.5643, -0.3352, -1.6255],\n",
       "                      [-0.1530,  0.7911,  0.3412,  0.1411],\n",
       "                      [ 0.2110,  0.8384,  0.4537,  1.5757]]),\n",
       "       ),\n",
       ")"
      ]
     },
     "execution_count": 12,
     "metadata": {},
     "output_type": "execute_result"
    }
   ],
   "source": [
    "new_value = torch.randn(2, 3)\n",
    "b.a = new_value\n",
    "\n",
    "b"
   ]
  },
  {
   "cell_type": "code",
   "execution_count": 13,
   "id": "29b1d0bf",
   "metadata": {
    "execution": {
     "iopub.execute_input": "2023-01-29T04:40:25.082580Z",
     "iopub.status.busy": "2023-01-29T04:40:25.082362Z",
     "iopub.status.idle": "2023-01-29T04:40:28.974850Z",
     "shell.execute_reply": "2023-01-29T04:40:28.974071Z"
    }
   },
   "outputs": [
    {
     "name": "stdout",
     "output_type": "stream",
     "text": [
      "479 ns ± 0.104 ns per loop (mean ± std. dev. of 7 runs, 1,000,000 loops each)\n"
     ]
    }
   ],
   "source": [
    "%timeit b.a = new_value"
   ]
  },
  {
   "cell_type": "markdown",
   "id": "b61ad1d0",
   "metadata": {},
   "source": [
    "## Initialization"
   ]
  },
  {
   "cell_type": "markdown",
   "id": "d70f0d54",
   "metadata": {},
   "source": [
    "### TreeValue's Initialization"
   ]
  },
  {
   "cell_type": "code",
   "execution_count": 14,
   "id": "d32a679b",
   "metadata": {
    "execution": {
     "iopub.execute_input": "2023-01-29T04:40:28.978173Z",
     "iopub.status.busy": "2023-01-29T04:40:28.977621Z",
     "iopub.status.idle": "2023-01-29T04:40:35.902934Z",
     "shell.execute_reply": "2023-01-29T04:40:35.902174Z"
    }
   },
   "outputs": [
    {
     "name": "stdout",
     "output_type": "stream",
     "text": [
      "853 ns ± 0.302 ns per loop (mean ± std. dev. of 7 runs, 1,000,000 loops each)\n"
     ]
    }
   ],
   "source": [
    "%timeit FastTreeValue(_TREE_DATA_1)"
   ]
  },
  {
   "cell_type": "markdown",
   "id": "24f3707b",
   "metadata": {},
   "source": [
    "### Tianshou Batch's Initialization"
   ]
  },
  {
   "cell_type": "code",
   "execution_count": 15,
   "id": "ac3958df",
   "metadata": {
    "execution": {
     "iopub.execute_input": "2023-01-29T04:40:35.906041Z",
     "iopub.status.busy": "2023-01-29T04:40:35.905672Z",
     "iopub.status.idle": "2023-01-29T04:40:45.126794Z",
     "shell.execute_reply": "2023-01-29T04:40:45.126037Z"
    }
   },
   "outputs": [
    {
     "name": "stdout",
     "output_type": "stream",
     "text": [
      "11.4 µs ± 37.2 ns per loop (mean ± std. dev. of 7 runs, 100,000 loops each)\n"
     ]
    }
   ],
   "source": [
    "%timeit Batch(**_TREE_DATA_1)"
   ]
  },
  {
   "cell_type": "markdown",
   "id": "1ab82e2d",
   "metadata": {},
   "source": [
    "## Deep Copy Operation"
   ]
  },
  {
   "cell_type": "code",
   "execution_count": 16,
   "id": "210a9442",
   "metadata": {
    "execution": {
     "iopub.execute_input": "2023-01-29T04:40:45.129782Z",
     "iopub.status.busy": "2023-01-29T04:40:45.129419Z",
     "iopub.status.idle": "2023-01-29T04:40:45.133346Z",
     "shell.execute_reply": "2023-01-29T04:40:45.132761Z"
    }
   },
   "outputs": [],
   "source": [
    "import copy"
   ]
  },
  {
   "cell_type": "markdown",
   "id": "5a736274",
   "metadata": {},
   "source": [
    "### Deep Copy of TreeValue"
   ]
  },
  {
   "cell_type": "code",
   "execution_count": 17,
   "id": "f9bcadd6",
   "metadata": {
    "execution": {
     "iopub.execute_input": "2023-01-29T04:40:45.136134Z",
     "iopub.status.busy": "2023-01-29T04:40:45.135638Z",
     "iopub.status.idle": "2023-01-29T04:40:56.354390Z",
     "shell.execute_reply": "2023-01-29T04:40:56.353822Z"
    }
   },
   "outputs": [
    {
     "name": "stdout",
     "output_type": "stream",
     "text": [
      "138 µs ± 161 ns per loop (mean ± std. dev. of 7 runs, 10,000 loops each)\n"
     ]
    }
   ],
   "source": [
    "t3 = FastTreeValue(_TREE_DATA_3)\n",
    "%timeit copy.deepcopy(t3)"
   ]
  },
  {
   "cell_type": "markdown",
   "id": "bf8be7ea",
   "metadata": {},
   "source": [
    "### Deep Copy of Tianshou Batch"
   ]
  },
  {
   "cell_type": "code",
   "execution_count": 18,
   "id": "91998e6f",
   "metadata": {
    "execution": {
     "iopub.execute_input": "2023-01-29T04:40:56.357316Z",
     "iopub.status.busy": "2023-01-29T04:40:56.356696Z",
     "iopub.status.idle": "2023-01-29T04:41:07.727838Z",
     "shell.execute_reply": "2023-01-29T04:41:07.727281Z"
    }
   },
   "outputs": [
    {
     "name": "stdout",
     "output_type": "stream",
     "text": [
      "140 µs ± 325 ns per loop (mean ± std. dev. of 7 runs, 10,000 loops each)\n"
     ]
    }
   ],
   "source": [
    "b3 = Batch(**_TREE_DATA_3)\n",
    "%timeit copy.deepcopy(b3)"
   ]
  },
  {
   "cell_type": "markdown",
   "id": "223162fb",
   "metadata": {},
   "source": [
    "## Stack, Concat and Split Operation"
   ]
  },
  {
   "cell_type": "markdown",
   "id": "85fa4a73",
   "metadata": {},
   "source": [
    "### Performance of TreeValue"
   ]
  },
  {
   "cell_type": "code",
   "execution_count": 19,
   "id": "a0c2b697",
   "metadata": {
    "execution": {
     "iopub.execute_input": "2023-01-29T04:41:07.730782Z",
     "iopub.status.busy": "2023-01-29T04:41:07.730173Z",
     "iopub.status.idle": "2023-01-29T04:41:07.733457Z",
     "shell.execute_reply": "2023-01-29T04:41:07.732934Z"
    }
   },
   "outputs": [],
   "source": [
    "trees = [FastTreeValue(_TREE_DATA_2) for _ in range(8)]"
   ]
  },
  {
   "cell_type": "code",
   "execution_count": 20,
   "id": "017ea5a5",
   "metadata": {
    "execution": {
     "iopub.execute_input": "2023-01-29T04:41:07.736708Z",
     "iopub.status.busy": "2023-01-29T04:41:07.736123Z",
     "iopub.status.idle": "2023-01-29T04:41:07.742944Z",
     "shell.execute_reply": "2023-01-29T04:41:07.742433Z"
    }
   },
   "outputs": [
    {
     "data": {
      "text/plain": [
       "<FastTreeValue 0x7faaad23fd00>\n",
       "├── 'a' --> tensor([[[ 0.2163, -0.1810, -0.8099],\n",
       "│                    [-1.6821,  1.0561,  1.8823]],\n",
       "│           \n",
       "│                   [[ 0.2163, -0.1810, -0.8099],\n",
       "│                    [-1.6821,  1.0561,  1.8823]],\n",
       "│           \n",
       "│                   [[ 0.2163, -0.1810, -0.8099],\n",
       "│                    [-1.6821,  1.0561,  1.8823]],\n",
       "│           \n",
       "│                   [[ 0.2163, -0.1810, -0.8099],\n",
       "│                    [-1.6821,  1.0561,  1.8823]],\n",
       "│           \n",
       "│                   [[ 0.2163, -0.1810, -0.8099],\n",
       "│                    [-1.6821,  1.0561,  1.8823]],\n",
       "│           \n",
       "│                   [[ 0.2163, -0.1810, -0.8099],\n",
       "│                    [-1.6821,  1.0561,  1.8823]],\n",
       "│           \n",
       "│                   [[ 0.2163, -0.1810, -0.8099],\n",
       "│                    [-1.6821,  1.0561,  1.8823]],\n",
       "│           \n",
       "│                   [[ 0.2163, -0.1810, -0.8099],\n",
       "│                    [-1.6821,  1.0561,  1.8823]]])\n",
       "└── 'x' --> <FastTreeValue 0x7faaad23f7f0>\n",
       "    └── 'c' --> tensor([[[-1.7257, -0.5643, -0.3352, -1.6255],\n",
       "                         [-0.1530,  0.7911,  0.3412,  0.1411],\n",
       "                         [ 0.2110,  0.8384,  0.4537,  1.5757]],\n",
       "                \n",
       "                        [[-1.7257, -0.5643, -0.3352, -1.6255],\n",
       "                         [-0.1530,  0.7911,  0.3412,  0.1411],\n",
       "                         [ 0.2110,  0.8384,  0.4537,  1.5757]],\n",
       "                \n",
       "                        [[-1.7257, -0.5643, -0.3352, -1.6255],\n",
       "                         [-0.1530,  0.7911,  0.3412,  0.1411],\n",
       "                         [ 0.2110,  0.8384,  0.4537,  1.5757]],\n",
       "                \n",
       "                        [[-1.7257, -0.5643, -0.3352, -1.6255],\n",
       "                         [-0.1530,  0.7911,  0.3412,  0.1411],\n",
       "                         [ 0.2110,  0.8384,  0.4537,  1.5757]],\n",
       "                \n",
       "                        [[-1.7257, -0.5643, -0.3352, -1.6255],\n",
       "                         [-0.1530,  0.7911,  0.3412,  0.1411],\n",
       "                         [ 0.2110,  0.8384,  0.4537,  1.5757]],\n",
       "                \n",
       "                        [[-1.7257, -0.5643, -0.3352, -1.6255],\n",
       "                         [-0.1530,  0.7911,  0.3412,  0.1411],\n",
       "                         [ 0.2110,  0.8384,  0.4537,  1.5757]],\n",
       "                \n",
       "                        [[-1.7257, -0.5643, -0.3352, -1.6255],\n",
       "                         [-0.1530,  0.7911,  0.3412,  0.1411],\n",
       "                         [ 0.2110,  0.8384,  0.4537,  1.5757]],\n",
       "                \n",
       "                        [[-1.7257, -0.5643, -0.3352, -1.6255],\n",
       "                         [-0.1530,  0.7911,  0.3412,  0.1411],\n",
       "                         [ 0.2110,  0.8384,  0.4537,  1.5757]]])"
      ]
     },
     "execution_count": 20,
     "metadata": {},
     "output_type": "execute_result"
    }
   ],
   "source": [
    "t_stack = FastTreeValue.func(subside=True)(torch.stack)\n",
    "\n",
    "t_stack(trees)"
   ]
  },
  {
   "cell_type": "code",
   "execution_count": 21,
   "id": "f8b3f415",
   "metadata": {
    "execution": {
     "iopub.execute_input": "2023-01-29T04:41:07.745333Z",
     "iopub.status.busy": "2023-01-29T04:41:07.744771Z",
     "iopub.status.idle": "2023-01-29T04:41:10.310265Z",
     "shell.execute_reply": "2023-01-29T04:41:10.306735Z"
    }
   },
   "outputs": [
    {
     "name": "stdout",
     "output_type": "stream",
     "text": [
      "31.5 µs ± 38.7 ns per loop (mean ± std. dev. of 7 runs, 10,000 loops each)\n"
     ]
    }
   ],
   "source": [
    "%timeit t_stack(trees)"
   ]
  },
  {
   "cell_type": "code",
   "execution_count": 22,
   "id": "94b56771",
   "metadata": {
    "execution": {
     "iopub.execute_input": "2023-01-29T04:41:10.313034Z",
     "iopub.status.busy": "2023-01-29T04:41:10.312566Z",
     "iopub.status.idle": "2023-01-29T04:41:10.319428Z",
     "shell.execute_reply": "2023-01-29T04:41:10.318908Z"
    }
   },
   "outputs": [
    {
     "data": {
      "text/plain": [
       "<FastTreeValue 0x7faaad23f760>\n",
       "├── 'a' --> tensor([[ 0.2163, -0.1810, -0.8099],\n",
       "│                   [-1.6821,  1.0561,  1.8823],\n",
       "│                   [ 0.2163, -0.1810, -0.8099],\n",
       "│                   [-1.6821,  1.0561,  1.8823],\n",
       "│                   [ 0.2163, -0.1810, -0.8099],\n",
       "│                   [-1.6821,  1.0561,  1.8823],\n",
       "│                   [ 0.2163, -0.1810, -0.8099],\n",
       "│                   [-1.6821,  1.0561,  1.8823],\n",
       "│                   [ 0.2163, -0.1810, -0.8099],\n",
       "│                   [-1.6821,  1.0561,  1.8823],\n",
       "│                   [ 0.2163, -0.1810, -0.8099],\n",
       "│                   [-1.6821,  1.0561,  1.8823],\n",
       "│                   [ 0.2163, -0.1810, -0.8099],\n",
       "│                   [-1.6821,  1.0561,  1.8823],\n",
       "│                   [ 0.2163, -0.1810, -0.8099],\n",
       "│                   [-1.6821,  1.0561,  1.8823]])\n",
       "└── 'x' --> <FastTreeValue 0x7faaad23f5e0>\n",
       "    └── 'c' --> tensor([[-1.7257, -0.5643, -0.3352, -1.6255],\n",
       "                        [-0.1530,  0.7911,  0.3412,  0.1411],\n",
       "                        [ 0.2110,  0.8384,  0.4537,  1.5757],\n",
       "                        [-1.7257, -0.5643, -0.3352, -1.6255],\n",
       "                        [-0.1530,  0.7911,  0.3412,  0.1411],\n",
       "                        [ 0.2110,  0.8384,  0.4537,  1.5757],\n",
       "                        [-1.7257, -0.5643, -0.3352, -1.6255],\n",
       "                        [-0.1530,  0.7911,  0.3412,  0.1411],\n",
       "                        [ 0.2110,  0.8384,  0.4537,  1.5757],\n",
       "                        [-1.7257, -0.5643, -0.3352, -1.6255],\n",
       "                        [-0.1530,  0.7911,  0.3412,  0.1411],\n",
       "                        [ 0.2110,  0.8384,  0.4537,  1.5757],\n",
       "                        [-1.7257, -0.5643, -0.3352, -1.6255],\n",
       "                        [-0.1530,  0.7911,  0.3412,  0.1411],\n",
       "                        [ 0.2110,  0.8384,  0.4537,  1.5757],\n",
       "                        [-1.7257, -0.5643, -0.3352, -1.6255],\n",
       "                        [-0.1530,  0.7911,  0.3412,  0.1411],\n",
       "                        [ 0.2110,  0.8384,  0.4537,  1.5757],\n",
       "                        [-1.7257, -0.5643, -0.3352, -1.6255],\n",
       "                        [-0.1530,  0.7911,  0.3412,  0.1411],\n",
       "                        [ 0.2110,  0.8384,  0.4537,  1.5757],\n",
       "                        [-1.7257, -0.5643, -0.3352, -1.6255],\n",
       "                        [-0.1530,  0.7911,  0.3412,  0.1411],\n",
       "                        [ 0.2110,  0.8384,  0.4537,  1.5757]])"
      ]
     },
     "execution_count": 22,
     "metadata": {},
     "output_type": "execute_result"
    }
   ],
   "source": [
    "t_cat = FastTreeValue.func(subside=True)(torch.cat)\n",
    "\n",
    "t_cat(trees)"
   ]
  },
  {
   "cell_type": "code",
   "execution_count": 23,
   "id": "5e9c06a6",
   "metadata": {
    "execution": {
     "iopub.execute_input": "2023-01-29T04:41:10.321961Z",
     "iopub.status.busy": "2023-01-29T04:41:10.321359Z",
     "iopub.status.idle": "2023-01-29T04:41:12.737219Z",
     "shell.execute_reply": "2023-01-29T04:41:12.736452Z"
    }
   },
   "outputs": [
    {
     "name": "stdout",
     "output_type": "stream",
     "text": [
      "29.7 µs ± 78.8 ns per loop (mean ± std. dev. of 7 runs, 10,000 loops each)\n"
     ]
    }
   ],
   "source": [
    "%timeit t_cat(trees)"
   ]
  },
  {
   "cell_type": "code",
   "execution_count": 24,
   "id": "a3ab5c8f",
   "metadata": {
    "execution": {
     "iopub.execute_input": "2023-01-29T04:41:12.740136Z",
     "iopub.status.busy": "2023-01-29T04:41:12.739550Z",
     "iopub.status.idle": "2023-01-29T04:41:17.486748Z",
     "shell.execute_reply": "2023-01-29T04:41:17.485986Z"
    }
   },
   "outputs": [
    {
     "name": "stdout",
     "output_type": "stream",
     "text": [
      "58.4 µs ± 37.1 ns per loop (mean ± std. dev. of 7 runs, 10,000 loops each)\n"
     ]
    }
   ],
   "source": [
    "t_split = FastTreeValue.func(rise=True)(torch.split)\n",
    "tree = FastTreeValue({\n",
    "    'obs': torch.randn(8, 4, 84, 84),\n",
    "    'action': torch.randint(0, 6, size=(8, 1,)),\n",
    "    'reward': torch.rand(8, 1),\n",
    "})\n",
    "\n",
    "%timeit t_split(tree, 1)"
   ]
  },
  {
   "cell_type": "markdown",
   "id": "31c3ec0b",
   "metadata": {},
   "source": [
    "### Performance of Tianshou Batch"
   ]
  },
  {
   "cell_type": "code",
   "execution_count": 25,
   "id": "9ead828a",
   "metadata": {
    "execution": {
     "iopub.execute_input": "2023-01-29T04:41:17.489929Z",
     "iopub.status.busy": "2023-01-29T04:41:17.489413Z",
     "iopub.status.idle": "2023-01-29T04:41:17.497354Z",
     "shell.execute_reply": "2023-01-29T04:41:17.496753Z"
    }
   },
   "outputs": [
    {
     "data": {
      "text/plain": [
       "Batch(\n",
       "    a: tensor([[[ 0.2163, -0.1810, -0.8099],\n",
       "                [-1.6821,  1.0561,  1.8823]],\n",
       "       \n",
       "               [[ 0.2163, -0.1810, -0.8099],\n",
       "                [-1.6821,  1.0561,  1.8823]],\n",
       "       \n",
       "               [[ 0.2163, -0.1810, -0.8099],\n",
       "                [-1.6821,  1.0561,  1.8823]],\n",
       "       \n",
       "               [[ 0.2163, -0.1810, -0.8099],\n",
       "                [-1.6821,  1.0561,  1.8823]],\n",
       "       \n",
       "               [[ 0.2163, -0.1810, -0.8099],\n",
       "                [-1.6821,  1.0561,  1.8823]],\n",
       "       \n",
       "               [[ 0.2163, -0.1810, -0.8099],\n",
       "                [-1.6821,  1.0561,  1.8823]],\n",
       "       \n",
       "               [[ 0.2163, -0.1810, -0.8099],\n",
       "                [-1.6821,  1.0561,  1.8823]],\n",
       "       \n",
       "               [[ 0.2163, -0.1810, -0.8099],\n",
       "                [-1.6821,  1.0561,  1.8823]]]),\n",
       "    x: Batch(\n",
       "           c: tensor([[[-1.7257, -0.5643, -0.3352, -1.6255],\n",
       "                       [-0.1530,  0.7911,  0.3412,  0.1411],\n",
       "                       [ 0.2110,  0.8384,  0.4537,  1.5757]],\n",
       "              \n",
       "                      [[-1.7257, -0.5643, -0.3352, -1.6255],\n",
       "                       [-0.1530,  0.7911,  0.3412,  0.1411],\n",
       "                       [ 0.2110,  0.8384,  0.4537,  1.5757]],\n",
       "              \n",
       "                      [[-1.7257, -0.5643, -0.3352, -1.6255],\n",
       "                       [-0.1530,  0.7911,  0.3412,  0.1411],\n",
       "                       [ 0.2110,  0.8384,  0.4537,  1.5757]],\n",
       "              \n",
       "                      [[-1.7257, -0.5643, -0.3352, -1.6255],\n",
       "                       [-0.1530,  0.7911,  0.3412,  0.1411],\n",
       "                       [ 0.2110,  0.8384,  0.4537,  1.5757]],\n",
       "              \n",
       "                      [[-1.7257, -0.5643, -0.3352, -1.6255],\n",
       "                       [-0.1530,  0.7911,  0.3412,  0.1411],\n",
       "                       [ 0.2110,  0.8384,  0.4537,  1.5757]],\n",
       "              \n",
       "                      [[-1.7257, -0.5643, -0.3352, -1.6255],\n",
       "                       [-0.1530,  0.7911,  0.3412,  0.1411],\n",
       "                       [ 0.2110,  0.8384,  0.4537,  1.5757]],\n",
       "              \n",
       "                      [[-1.7257, -0.5643, -0.3352, -1.6255],\n",
       "                       [-0.1530,  0.7911,  0.3412,  0.1411],\n",
       "                       [ 0.2110,  0.8384,  0.4537,  1.5757]],\n",
       "              \n",
       "                      [[-1.7257, -0.5643, -0.3352, -1.6255],\n",
       "                       [-0.1530,  0.7911,  0.3412,  0.1411],\n",
       "                       [ 0.2110,  0.8384,  0.4537,  1.5757]]]),\n",
       "       ),\n",
       ")"
      ]
     },
     "execution_count": 25,
     "metadata": {},
     "output_type": "execute_result"
    }
   ],
   "source": [
    "batches = [Batch(**_TREE_DATA_2) for _ in range(8)]\n",
    "\n",
    "Batch.stack(batches)"
   ]
  },
  {
   "cell_type": "code",
   "execution_count": 26,
   "id": "ec9037a3",
   "metadata": {
    "execution": {
     "iopub.execute_input": "2023-01-29T04:41:17.499655Z",
     "iopub.status.busy": "2023-01-29T04:41:17.499439Z",
     "iopub.status.idle": "2023-01-29T04:41:23.862439Z",
     "shell.execute_reply": "2023-01-29T04:41:23.861749Z"
    }
   },
   "outputs": [
    {
     "name": "stdout",
     "output_type": "stream",
     "text": [
      "78.4 µs ± 157 ns per loop (mean ± std. dev. of 7 runs, 10,000 loops each)\n"
     ]
    }
   ],
   "source": [
    "%timeit Batch.stack(batches)"
   ]
  },
  {
   "cell_type": "code",
   "execution_count": 27,
   "id": "cb8ab77e",
   "metadata": {
    "execution": {
     "iopub.execute_input": "2023-01-29T04:41:23.865249Z",
     "iopub.status.busy": "2023-01-29T04:41:23.864905Z",
     "iopub.status.idle": "2023-01-29T04:41:23.872353Z",
     "shell.execute_reply": "2023-01-29T04:41:23.871750Z"
    }
   },
   "outputs": [
    {
     "data": {
      "text/plain": [
       "Batch(\n",
       "    a: tensor([[ 0.2163, -0.1810, -0.8099],\n",
       "               [-1.6821,  1.0561,  1.8823],\n",
       "               [ 0.2163, -0.1810, -0.8099],\n",
       "               [-1.6821,  1.0561,  1.8823],\n",
       "               [ 0.2163, -0.1810, -0.8099],\n",
       "               [-1.6821,  1.0561,  1.8823],\n",
       "               [ 0.2163, -0.1810, -0.8099],\n",
       "               [-1.6821,  1.0561,  1.8823],\n",
       "               [ 0.2163, -0.1810, -0.8099],\n",
       "               [-1.6821,  1.0561,  1.8823],\n",
       "               [ 0.2163, -0.1810, -0.8099],\n",
       "               [-1.6821,  1.0561,  1.8823],\n",
       "               [ 0.2163, -0.1810, -0.8099],\n",
       "               [-1.6821,  1.0561,  1.8823],\n",
       "               [ 0.2163, -0.1810, -0.8099],\n",
       "               [-1.6821,  1.0561,  1.8823]]),\n",
       "    x: Batch(\n",
       "           c: tensor([[-1.7257, -0.5643, -0.3352, -1.6255],\n",
       "                      [-0.1530,  0.7911,  0.3412,  0.1411],\n",
       "                      [ 0.2110,  0.8384,  0.4537,  1.5757],\n",
       "                      [-1.7257, -0.5643, -0.3352, -1.6255],\n",
       "                      [-0.1530,  0.7911,  0.3412,  0.1411],\n",
       "                      [ 0.2110,  0.8384,  0.4537,  1.5757],\n",
       "                      [-1.7257, -0.5643, -0.3352, -1.6255],\n",
       "                      [-0.1530,  0.7911,  0.3412,  0.1411],\n",
       "                      [ 0.2110,  0.8384,  0.4537,  1.5757],\n",
       "                      [-1.7257, -0.5643, -0.3352, -1.6255],\n",
       "                      [-0.1530,  0.7911,  0.3412,  0.1411],\n",
       "                      [ 0.2110,  0.8384,  0.4537,  1.5757],\n",
       "                      [-1.7257, -0.5643, -0.3352, -1.6255],\n",
       "                      [-0.1530,  0.7911,  0.3412,  0.1411],\n",
       "                      [ 0.2110,  0.8384,  0.4537,  1.5757],\n",
       "                      [-1.7257, -0.5643, -0.3352, -1.6255],\n",
       "                      [-0.1530,  0.7911,  0.3412,  0.1411],\n",
       "                      [ 0.2110,  0.8384,  0.4537,  1.5757],\n",
       "                      [-1.7257, -0.5643, -0.3352, -1.6255],\n",
       "                      [-0.1530,  0.7911,  0.3412,  0.1411],\n",
       "                      [ 0.2110,  0.8384,  0.4537,  1.5757],\n",
       "                      [-1.7257, -0.5643, -0.3352, -1.6255],\n",
       "                      [-0.1530,  0.7911,  0.3412,  0.1411],\n",
       "                      [ 0.2110,  0.8384,  0.4537,  1.5757]]),\n",
       "       ),\n",
       ")"
      ]
     },
     "execution_count": 27,
     "metadata": {},
     "output_type": "execute_result"
    }
   ],
   "source": [
    "Batch.cat(batches)"
   ]
  },
  {
   "cell_type": "code",
   "execution_count": 28,
   "id": "18dfb045",
   "metadata": {
    "execution": {
     "iopub.execute_input": "2023-01-29T04:41:23.875115Z",
     "iopub.status.busy": "2023-01-29T04:41:23.874638Z",
     "iopub.status.idle": "2023-01-29T04:41:35.314520Z",
     "shell.execute_reply": "2023-01-29T04:41:35.313719Z"
    }
   },
   "outputs": [
    {
     "name": "stdout",
     "output_type": "stream",
     "text": [
      "141 µs ± 209 ns per loop (mean ± std. dev. of 7 runs, 10,000 loops each)\n"
     ]
    }
   ],
   "source": [
    "%timeit Batch.cat(batches)"
   ]
  },
  {
   "cell_type": "code",
   "execution_count": 29,
   "id": "c6688e51",
   "metadata": {
    "execution": {
     "iopub.execute_input": "2023-01-29T04:41:35.317504Z",
     "iopub.status.busy": "2023-01-29T04:41:35.317153Z",
     "iopub.status.idle": "2023-01-29T04:41:37.794364Z",
     "shell.execute_reply": "2023-01-29T04:41:37.793806Z"
    }
   },
   "outputs": [
    {
     "name": "stdout",
     "output_type": "stream",
     "text": [
      "304 µs ± 2.42 µs per loop (mean ± std. dev. of 7 runs, 1,000 loops each)\n"
     ]
    }
   ],
   "source": [
    "batch = Batch({\n",
    "    'obs': torch.randn(8, 4, 84, 84),\n",
    "    'action': torch.randint(0, 6, size=(8, 1,)),\n",
    "    'reward': torch.rand(8, 1)}\n",
    ")\n",
    "\n",
    "%timeit list(Batch.split(batch, 1, shuffle=False, merge_last=True))"
   ]
  },
  {
   "cell_type": "code",
   "execution_count": null,
   "id": "2539fbd9",
   "metadata": {},
   "outputs": [],
   "source": []
  }
 ],
 "metadata": {
  "kernelspec": {
   "display_name": "Python 3 (ipykernel)",
   "language": "python",
   "name": "python3"
  },
  "language_info": {
   "codemirror_mode": {
    "name": "ipython",
    "version": 3
   },
   "file_extension": ".py",
   "mimetype": "text/x-python",
   "name": "python",
   "nbconvert_exporter": "python",
   "pygments_lexer": "ipython3",
   "version": "3.8.16"
  }
 },
 "nbformat": 4,
 "nbformat_minor": 5
}
