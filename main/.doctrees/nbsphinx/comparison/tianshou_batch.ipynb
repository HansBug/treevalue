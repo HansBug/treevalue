{
 "cells": [
  {
   "cell_type": "markdown",
   "id": "9d39d946",
   "metadata": {},
   "source": [
    "# Comparison Between TreeValue and Tianshou Batch"
   ]
  },
  {
   "cell_type": "markdown",
   "id": "3c6db2d4",
   "metadata": {},
   "source": [
    "In this section, we will take a look at the feature and performance of the [Tianshou Batch](https://github.com/thu-ml/tianshou) library, which is developed by Tsinghua Machine Learning Group."
   ]
  },
  {
   "cell_type": "markdown",
   "id": "069361b0",
   "metadata": {},
   "source": [
    "Before starting the comparison, let us define some thing."
   ]
  },
  {
   "cell_type": "code",
   "execution_count": 1,
   "id": "06fc8d26",
   "metadata": {
    "execution": {
     "iopub.execute_input": "2023-02-26T06:19:41.725263Z",
     "iopub.status.busy": "2023-02-26T06:19:41.725050Z",
     "iopub.status.idle": "2023-02-26T06:19:42.642068Z",
     "shell.execute_reply": "2023-02-26T06:19:42.641418Z"
    }
   },
   "outputs": [
    {
     "name": "stderr",
     "output_type": "stream",
     "text": [
      "/opt/hostedtoolcache/Python/3.8.16/x64/lib/python3.8/site-packages/tqdm/auto.py:22: TqdmWarning: IProgress not found. Please update jupyter and ipywidgets. See https://ipywidgets.readthedocs.io/en/stable/user_install.html\n",
      "  from .autonotebook import tqdm as notebook_tqdm\n"
     ]
    }
   ],
   "source": [
    "import torch \n",
    "\n",
    "_TREE_DATA_1 = {'a': 1, 'b': 2, 'x': {'c': 3, 'd': 4}}\n",
    "_TREE_DATA_2 = {\n",
    "    'a': torch.randn(2, 3), \n",
    "    'x': {\n",
    "        'c': torch.randn(3, 4)\n",
    "    },\n",
    "}\n",
    "_TREE_DATA_3 = {\n",
    "    'obs': torch.randn(4, 84, 84),\n",
    "    'action': torch.randint(0, 6, size=(1,)),\n",
    "    'reward': torch.rand(1),\n",
    "}"
   ]
  },
  {
   "cell_type": "markdown",
   "id": "83461b25",
   "metadata": {},
   "source": [
    "## Read and Write Operation"
   ]
  },
  {
   "cell_type": "markdown",
   "id": "067b3f73",
   "metadata": {},
   "source": [
    "Reading and writing are the two most common operations in the tree data structure based on the data model (TreeValue and Tianshou Batch both belong to this type), so this section will compare the reading and writing performance of these two libraries."
   ]
  },
  {
   "cell_type": "markdown",
   "id": "5d09a5b7",
   "metadata": {},
   "source": [
    "### TreeValue's Get and Set"
   ]
  },
  {
   "cell_type": "code",
   "execution_count": 2,
   "id": "9519c4bb",
   "metadata": {
    "execution": {
     "iopub.execute_input": "2023-02-26T06:19:42.645532Z",
     "iopub.status.busy": "2023-02-26T06:19:42.644928Z",
     "iopub.status.idle": "2023-02-26T06:19:42.677706Z",
     "shell.execute_reply": "2023-02-26T06:19:42.677097Z"
    }
   },
   "outputs": [],
   "source": [
    "from treevalue import FastTreeValue\n",
    "\n",
    "t = FastTreeValue(_TREE_DATA_2)"
   ]
  },
  {
   "cell_type": "code",
   "execution_count": 3,
   "id": "11c37677",
   "metadata": {
    "execution": {
     "iopub.execute_input": "2023-02-26T06:19:42.680293Z",
     "iopub.status.busy": "2023-02-26T06:19:42.679955Z",
     "iopub.status.idle": "2023-02-26T06:19:42.689077Z",
     "shell.execute_reply": "2023-02-26T06:19:42.688466Z"
    }
   },
   "outputs": [
    {
     "data": {
      "text/plain": [
       "<FastTreeValue 0x7f64a819b820>\n",
       "├── 'a' --> tensor([[ 1.0596, -1.2632, -0.3492],\n",
       "│                   [-0.4961,  0.6181, -1.2059]])\n",
       "└── 'x' --> <FastTreeValue 0x7f64a819baf0>\n",
       "    └── 'c' --> tensor([[-1.2250,  0.4055, -0.2865,  0.8737],\n",
       "                        [ 0.2735, -0.4188,  1.6806, -0.5757],\n",
       "                        [ 1.6243,  0.4005, -0.8061, -0.4517]])"
      ]
     },
     "execution_count": 3,
     "metadata": {},
     "output_type": "execute_result"
    }
   ],
   "source": [
    "t"
   ]
  },
  {
   "cell_type": "code",
   "execution_count": 4,
   "id": "fd70b0b9",
   "metadata": {
    "execution": {
     "iopub.execute_input": "2023-02-26T06:19:42.691797Z",
     "iopub.status.busy": "2023-02-26T06:19:42.691470Z",
     "iopub.status.idle": "2023-02-26T06:19:42.696913Z",
     "shell.execute_reply": "2023-02-26T06:19:42.696353Z"
    }
   },
   "outputs": [
    {
     "data": {
      "text/plain": [
       "tensor([[ 1.0596, -1.2632, -0.3492],\n",
       "        [-0.4961,  0.6181, -1.2059]])"
      ]
     },
     "execution_count": 4,
     "metadata": {},
     "output_type": "execute_result"
    }
   ],
   "source": [
    "t.a"
   ]
  },
  {
   "cell_type": "code",
   "execution_count": 5,
   "id": "c18197bd",
   "metadata": {
    "execution": {
     "iopub.execute_input": "2023-02-26T06:19:42.699551Z",
     "iopub.status.busy": "2023-02-26T06:19:42.699229Z",
     "iopub.status.idle": "2023-02-26T06:19:47.709783Z",
     "shell.execute_reply": "2023-02-26T06:19:47.709106Z"
    }
   },
   "outputs": [
    {
     "name": "stdout",
     "output_type": "stream",
     "text": [
      "61.6 ns ± 0.0818 ns per loop (mean ± std. dev. of 7 runs, 10,000,000 loops each)\n"
     ]
    }
   ],
   "source": [
    "%timeit t.a"
   ]
  },
  {
   "cell_type": "code",
   "execution_count": 6,
   "id": "bd52f867",
   "metadata": {
    "execution": {
     "iopub.execute_input": "2023-02-26T06:19:47.713008Z",
     "iopub.status.busy": "2023-02-26T06:19:47.712382Z",
     "iopub.status.idle": "2023-02-26T06:19:47.719045Z",
     "shell.execute_reply": "2023-02-26T06:19:47.718451Z"
    }
   },
   "outputs": [
    {
     "data": {
      "text/plain": [
       "<FastTreeValue 0x7f64a819b820>\n",
       "├── 'a' --> tensor([[ 0.7900,  0.7569,  0.0635],\n",
       "│                   [ 1.3160, -0.0977,  0.6456]])\n",
       "└── 'x' --> <FastTreeValue 0x7f64a819baf0>\n",
       "    └── 'c' --> tensor([[-1.2250,  0.4055, -0.2865,  0.8737],\n",
       "                        [ 0.2735, -0.4188,  1.6806, -0.5757],\n",
       "                        [ 1.6243,  0.4005, -0.8061, -0.4517]])"
      ]
     },
     "execution_count": 6,
     "metadata": {},
     "output_type": "execute_result"
    }
   ],
   "source": [
    "new_value = torch.randn(2, 3)\n",
    "t.a = new_value\n",
    "\n",
    "t"
   ]
  },
  {
   "cell_type": "code",
   "execution_count": 7,
   "id": "bbe04d1c",
   "metadata": {
    "execution": {
     "iopub.execute_input": "2023-02-26T06:19:47.721472Z",
     "iopub.status.busy": "2023-02-26T06:19:47.721268Z",
     "iopub.status.idle": "2023-02-26T06:19:53.171728Z",
     "shell.execute_reply": "2023-02-26T06:19:53.171003Z"
    }
   },
   "outputs": [
    {
     "name": "stdout",
     "output_type": "stream",
     "text": [
      "67.6 ns ± 0.0137 ns per loop (mean ± std. dev. of 7 runs, 10,000,000 loops each)\n"
     ]
    }
   ],
   "source": [
    "%timeit t.a = new_value"
   ]
  },
  {
   "cell_type": "markdown",
   "id": "48c49731",
   "metadata": {},
   "source": [
    "### Tianshou Batch's Get and Set"
   ]
  },
  {
   "cell_type": "code",
   "execution_count": 8,
   "id": "f1bb14c1",
   "metadata": {
    "execution": {
     "iopub.execute_input": "2023-02-26T06:19:53.174706Z",
     "iopub.status.busy": "2023-02-26T06:19:53.174336Z",
     "iopub.status.idle": "2023-02-26T06:19:53.504169Z",
     "shell.execute_reply": "2023-02-26T06:19:53.503462Z"
    }
   },
   "outputs": [],
   "source": [
    "from tianshou.data import Batch\n",
    "\n",
    "b = Batch(**_TREE_DATA_2)"
   ]
  },
  {
   "cell_type": "code",
   "execution_count": 9,
   "id": "cb0777c3",
   "metadata": {
    "execution": {
     "iopub.execute_input": "2023-02-26T06:19:53.507602Z",
     "iopub.status.busy": "2023-02-26T06:19:53.506927Z",
     "iopub.status.idle": "2023-02-26T06:19:53.513019Z",
     "shell.execute_reply": "2023-02-26T06:19:53.512436Z"
    }
   },
   "outputs": [
    {
     "data": {
      "text/plain": [
       "Batch(\n",
       "    a: tensor([[ 1.0596, -1.2632, -0.3492],\n",
       "               [-0.4961,  0.6181, -1.2059]]),\n",
       "    x: Batch(\n",
       "           c: tensor([[-1.2250,  0.4055, -0.2865,  0.8737],\n",
       "                      [ 0.2735, -0.4188,  1.6806, -0.5757],\n",
       "                      [ 1.6243,  0.4005, -0.8061, -0.4517]]),\n",
       "       ),\n",
       ")"
      ]
     },
     "execution_count": 9,
     "metadata": {},
     "output_type": "execute_result"
    }
   ],
   "source": [
    "b"
   ]
  },
  {
   "cell_type": "code",
   "execution_count": 10,
   "id": "43ef8ea3",
   "metadata": {
    "execution": {
     "iopub.execute_input": "2023-02-26T06:19:53.515279Z",
     "iopub.status.busy": "2023-02-26T06:19:53.515067Z",
     "iopub.status.idle": "2023-02-26T06:19:53.519868Z",
     "shell.execute_reply": "2023-02-26T06:19:53.519267Z"
    }
   },
   "outputs": [
    {
     "data": {
      "text/plain": [
       "tensor([[ 1.0596, -1.2632, -0.3492],\n",
       "        [-0.4961,  0.6181, -1.2059]])"
      ]
     },
     "execution_count": 10,
     "metadata": {},
     "output_type": "execute_result"
    }
   ],
   "source": [
    "b.a"
   ]
  },
  {
   "cell_type": "code",
   "execution_count": 11,
   "id": "b785ab72",
   "metadata": {
    "execution": {
     "iopub.execute_input": "2023-02-26T06:19:53.522438Z",
     "iopub.status.busy": "2023-02-26T06:19:53.521862Z",
     "iopub.status.idle": "2023-02-26T06:19:57.865113Z",
     "shell.execute_reply": "2023-02-26T06:19:57.864363Z"
    }
   },
   "outputs": [
    {
     "name": "stdout",
     "output_type": "stream",
     "text": [
      "53.8 ns ± 0.0327 ns per loop (mean ± std. dev. of 7 runs, 10,000,000 loops each)\n"
     ]
    }
   ],
   "source": [
    "%timeit b.a"
   ]
  },
  {
   "cell_type": "code",
   "execution_count": 12,
   "id": "ad54dc69",
   "metadata": {
    "execution": {
     "iopub.execute_input": "2023-02-26T06:19:57.867866Z",
     "iopub.status.busy": "2023-02-26T06:19:57.867511Z",
     "iopub.status.idle": "2023-02-26T06:19:57.873944Z",
     "shell.execute_reply": "2023-02-26T06:19:57.873356Z"
    }
   },
   "outputs": [
    {
     "data": {
      "text/plain": [
       "Batch(\n",
       "    a: tensor([[-0.2445, -0.1665,  0.5538],\n",
       "               [ 1.1855, -1.0121,  3.0432]]),\n",
       "    x: Batch(\n",
       "           c: tensor([[-1.2250,  0.4055, -0.2865,  0.8737],\n",
       "                      [ 0.2735, -0.4188,  1.6806, -0.5757],\n",
       "                      [ 1.6243,  0.4005, -0.8061, -0.4517]]),\n",
       "       ),\n",
       ")"
      ]
     },
     "execution_count": 12,
     "metadata": {},
     "output_type": "execute_result"
    }
   ],
   "source": [
    "new_value = torch.randn(2, 3)\n",
    "b.a = new_value\n",
    "\n",
    "b"
   ]
  },
  {
   "cell_type": "code",
   "execution_count": 13,
   "id": "29b1d0bf",
   "metadata": {
    "execution": {
     "iopub.execute_input": "2023-02-26T06:19:57.876346Z",
     "iopub.status.busy": "2023-02-26T06:19:57.876008Z",
     "iopub.status.idle": "2023-02-26T06:20:01.783134Z",
     "shell.execute_reply": "2023-02-26T06:20:01.782457Z"
    }
   },
   "outputs": [
    {
     "name": "stdout",
     "output_type": "stream",
     "text": [
      "481 ns ± 0.0738 ns per loop (mean ± std. dev. of 7 runs, 1,000,000 loops each)\n"
     ]
    }
   ],
   "source": [
    "%timeit b.a = new_value"
   ]
  },
  {
   "cell_type": "markdown",
   "id": "b61ad1d0",
   "metadata": {},
   "source": [
    "## Initialization"
   ]
  },
  {
   "cell_type": "markdown",
   "id": "d70f0d54",
   "metadata": {},
   "source": [
    "### TreeValue's Initialization"
   ]
  },
  {
   "cell_type": "code",
   "execution_count": 14,
   "id": "d32a679b",
   "metadata": {
    "execution": {
     "iopub.execute_input": "2023-02-26T06:20:01.785981Z",
     "iopub.status.busy": "2023-02-26T06:20:01.785607Z",
     "iopub.status.idle": "2023-02-26T06:20:08.799744Z",
     "shell.execute_reply": "2023-02-26T06:20:08.798999Z"
    }
   },
   "outputs": [
    {
     "name": "stdout",
     "output_type": "stream",
     "text": [
      "865 ns ± 0.164 ns per loop (mean ± std. dev. of 7 runs, 1,000,000 loops each)\n"
     ]
    }
   ],
   "source": [
    "%timeit FastTreeValue(_TREE_DATA_1)"
   ]
  },
  {
   "cell_type": "markdown",
   "id": "24f3707b",
   "metadata": {},
   "source": [
    "### Tianshou Batch's Initialization"
   ]
  },
  {
   "cell_type": "code",
   "execution_count": 15,
   "id": "ac3958df",
   "metadata": {
    "execution": {
     "iopub.execute_input": "2023-02-26T06:20:08.802828Z",
     "iopub.status.busy": "2023-02-26T06:20:08.802481Z",
     "iopub.status.idle": "2023-02-26T06:20:17.962340Z",
     "shell.execute_reply": "2023-02-26T06:20:17.961559Z"
    }
   },
   "outputs": [
    {
     "name": "stdout",
     "output_type": "stream",
     "text": [
      "11.3 µs ± 43.3 ns per loop (mean ± std. dev. of 7 runs, 100,000 loops each)\n"
     ]
    }
   ],
   "source": [
    "%timeit Batch(**_TREE_DATA_1)"
   ]
  },
  {
   "cell_type": "markdown",
   "id": "1ab82e2d",
   "metadata": {},
   "source": [
    "## Deep Copy Operation"
   ]
  },
  {
   "cell_type": "code",
   "execution_count": 16,
   "id": "210a9442",
   "metadata": {
    "execution": {
     "iopub.execute_input": "2023-02-26T06:20:17.965314Z",
     "iopub.status.busy": "2023-02-26T06:20:17.964823Z",
     "iopub.status.idle": "2023-02-26T06:20:17.968849Z",
     "shell.execute_reply": "2023-02-26T06:20:17.968254Z"
    }
   },
   "outputs": [],
   "source": [
    "import copy"
   ]
  },
  {
   "cell_type": "markdown",
   "id": "5a736274",
   "metadata": {},
   "source": [
    "### Deep Copy of TreeValue"
   ]
  },
  {
   "cell_type": "code",
   "execution_count": 17,
   "id": "f9bcadd6",
   "metadata": {
    "execution": {
     "iopub.execute_input": "2023-02-26T06:20:17.971479Z",
     "iopub.status.busy": "2023-02-26T06:20:17.971141Z",
     "iopub.status.idle": "2023-02-26T06:20:29.223670Z",
     "shell.execute_reply": "2023-02-26T06:20:29.223105Z"
    }
   },
   "outputs": [
    {
     "name": "stdout",
     "output_type": "stream",
     "text": [
      "139 µs ± 782 ns per loop (mean ± std. dev. of 7 runs, 10,000 loops each)\n"
     ]
    }
   ],
   "source": [
    "t3 = FastTreeValue(_TREE_DATA_3)\n",
    "%timeit copy.deepcopy(t3)"
   ]
  },
  {
   "cell_type": "markdown",
   "id": "bf8be7ea",
   "metadata": {},
   "source": [
    "### Deep Copy of Tianshou Batch"
   ]
  },
  {
   "cell_type": "code",
   "execution_count": 18,
   "id": "91998e6f",
   "metadata": {
    "execution": {
     "iopub.execute_input": "2023-02-26T06:20:29.227558Z",
     "iopub.status.busy": "2023-02-26T06:20:29.226646Z",
     "iopub.status.idle": "2023-02-26T06:20:40.800844Z",
     "shell.execute_reply": "2023-02-26T06:20:40.800241Z"
    }
   },
   "outputs": [
    {
     "name": "stdout",
     "output_type": "stream",
     "text": [
      "143 µs ± 1.39 µs per loop (mean ± std. dev. of 7 runs, 10,000 loops each)\n"
     ]
    }
   ],
   "source": [
    "b3 = Batch(**_TREE_DATA_3)\n",
    "%timeit copy.deepcopy(b3)"
   ]
  },
  {
   "cell_type": "markdown",
   "id": "223162fb",
   "metadata": {},
   "source": [
    "## Stack, Concat and Split Operation"
   ]
  },
  {
   "cell_type": "markdown",
   "id": "85fa4a73",
   "metadata": {},
   "source": [
    "### Performance of TreeValue"
   ]
  },
  {
   "cell_type": "code",
   "execution_count": 19,
   "id": "a0c2b697",
   "metadata": {
    "execution": {
     "iopub.execute_input": "2023-02-26T06:20:40.804659Z",
     "iopub.status.busy": "2023-02-26T06:20:40.803752Z",
     "iopub.status.idle": "2023-02-26T06:20:40.808331Z",
     "shell.execute_reply": "2023-02-26T06:20:40.807477Z"
    }
   },
   "outputs": [],
   "source": [
    "trees = [FastTreeValue(_TREE_DATA_2) for _ in range(8)]"
   ]
  },
  {
   "cell_type": "code",
   "execution_count": 20,
   "id": "017ea5a5",
   "metadata": {
    "execution": {
     "iopub.execute_input": "2023-02-26T06:20:40.810994Z",
     "iopub.status.busy": "2023-02-26T06:20:40.810611Z",
     "iopub.status.idle": "2023-02-26T06:20:40.817858Z",
     "shell.execute_reply": "2023-02-26T06:20:40.817257Z"
    }
   },
   "outputs": [
    {
     "data": {
      "text/plain": [
       "<FastTreeValue 0x7f64a816aac0>\n",
       "├── 'a' --> tensor([[[ 1.0596, -1.2632, -0.3492],\n",
       "│                    [-0.4961,  0.6181, -1.2059]],\n",
       "│           \n",
       "│                   [[ 1.0596, -1.2632, -0.3492],\n",
       "│                    [-0.4961,  0.6181, -1.2059]],\n",
       "│           \n",
       "│                   [[ 1.0596, -1.2632, -0.3492],\n",
       "│                    [-0.4961,  0.6181, -1.2059]],\n",
       "│           \n",
       "│                   [[ 1.0596, -1.2632, -0.3492],\n",
       "│                    [-0.4961,  0.6181, -1.2059]],\n",
       "│           \n",
       "│                   [[ 1.0596, -1.2632, -0.3492],\n",
       "│                    [-0.4961,  0.6181, -1.2059]],\n",
       "│           \n",
       "│                   [[ 1.0596, -1.2632, -0.3492],\n",
       "│                    [-0.4961,  0.6181, -1.2059]],\n",
       "│           \n",
       "│                   [[ 1.0596, -1.2632, -0.3492],\n",
       "│                    [-0.4961,  0.6181, -1.2059]],\n",
       "│           \n",
       "│                   [[ 1.0596, -1.2632, -0.3492],\n",
       "│                    [-0.4961,  0.6181, -1.2059]]])\n",
       "└── 'x' --> <FastTreeValue 0x7f63fb56bcd0>\n",
       "    └── 'c' --> tensor([[[-1.2250,  0.4055, -0.2865,  0.8737],\n",
       "                         [ 0.2735, -0.4188,  1.6806, -0.5757],\n",
       "                         [ 1.6243,  0.4005, -0.8061, -0.4517]],\n",
       "                \n",
       "                        [[-1.2250,  0.4055, -0.2865,  0.8737],\n",
       "                         [ 0.2735, -0.4188,  1.6806, -0.5757],\n",
       "                         [ 1.6243,  0.4005, -0.8061, -0.4517]],\n",
       "                \n",
       "                        [[-1.2250,  0.4055, -0.2865,  0.8737],\n",
       "                         [ 0.2735, -0.4188,  1.6806, -0.5757],\n",
       "                         [ 1.6243,  0.4005, -0.8061, -0.4517]],\n",
       "                \n",
       "                        [[-1.2250,  0.4055, -0.2865,  0.8737],\n",
       "                         [ 0.2735, -0.4188,  1.6806, -0.5757],\n",
       "                         [ 1.6243,  0.4005, -0.8061, -0.4517]],\n",
       "                \n",
       "                        [[-1.2250,  0.4055, -0.2865,  0.8737],\n",
       "                         [ 0.2735, -0.4188,  1.6806, -0.5757],\n",
       "                         [ 1.6243,  0.4005, -0.8061, -0.4517]],\n",
       "                \n",
       "                        [[-1.2250,  0.4055, -0.2865,  0.8737],\n",
       "                         [ 0.2735, -0.4188,  1.6806, -0.5757],\n",
       "                         [ 1.6243,  0.4005, -0.8061, -0.4517]],\n",
       "                \n",
       "                        [[-1.2250,  0.4055, -0.2865,  0.8737],\n",
       "                         [ 0.2735, -0.4188,  1.6806, -0.5757],\n",
       "                         [ 1.6243,  0.4005, -0.8061, -0.4517]],\n",
       "                \n",
       "                        [[-1.2250,  0.4055, -0.2865,  0.8737],\n",
       "                         [ 0.2735, -0.4188,  1.6806, -0.5757],\n",
       "                         [ 1.6243,  0.4005, -0.8061, -0.4517]]])"
      ]
     },
     "execution_count": 20,
     "metadata": {},
     "output_type": "execute_result"
    }
   ],
   "source": [
    "t_stack = FastTreeValue.func(subside=True)(torch.stack)\n",
    "\n",
    "t_stack(trees)"
   ]
  },
  {
   "cell_type": "code",
   "execution_count": 21,
   "id": "f8b3f415",
   "metadata": {
    "execution": {
     "iopub.execute_input": "2023-02-26T06:20:40.820369Z",
     "iopub.status.busy": "2023-02-26T06:20:40.820033Z",
     "iopub.status.idle": "2023-02-26T06:20:43.440719Z",
     "shell.execute_reply": "2023-02-26T06:20:43.439991Z"
    }
   },
   "outputs": [
    {
     "name": "stdout",
     "output_type": "stream",
     "text": [
      "32.3 µs ± 84.2 ns per loop (mean ± std. dev. of 7 runs, 10,000 loops each)\n"
     ]
    }
   ],
   "source": [
    "%timeit t_stack(trees)"
   ]
  },
  {
   "cell_type": "code",
   "execution_count": 22,
   "id": "94b56771",
   "metadata": {
    "execution": {
     "iopub.execute_input": "2023-02-26T06:20:43.443491Z",
     "iopub.status.busy": "2023-02-26T06:20:43.443123Z",
     "iopub.status.idle": "2023-02-26T06:20:43.451047Z",
     "shell.execute_reply": "2023-02-26T06:20:43.450444Z"
    }
   },
   "outputs": [
    {
     "data": {
      "text/plain": [
       "<FastTreeValue 0x7f63fae6df40>\n",
       "├── 'a' --> tensor([[ 1.0596, -1.2632, -0.3492],\n",
       "│                   [-0.4961,  0.6181, -1.2059],\n",
       "│                   [ 1.0596, -1.2632, -0.3492],\n",
       "│                   [-0.4961,  0.6181, -1.2059],\n",
       "│                   [ 1.0596, -1.2632, -0.3492],\n",
       "│                   [-0.4961,  0.6181, -1.2059],\n",
       "│                   [ 1.0596, -1.2632, -0.3492],\n",
       "│                   [-0.4961,  0.6181, -1.2059],\n",
       "│                   [ 1.0596, -1.2632, -0.3492],\n",
       "│                   [-0.4961,  0.6181, -1.2059],\n",
       "│                   [ 1.0596, -1.2632, -0.3492],\n",
       "│                   [-0.4961,  0.6181, -1.2059],\n",
       "│                   [ 1.0596, -1.2632, -0.3492],\n",
       "│                   [-0.4961,  0.6181, -1.2059],\n",
       "│                   [ 1.0596, -1.2632, -0.3492],\n",
       "│                   [-0.4961,  0.6181, -1.2059]])\n",
       "└── 'x' --> <FastTreeValue 0x7f647c92eb50>\n",
       "    └── 'c' --> tensor([[-1.2250,  0.4055, -0.2865,  0.8737],\n",
       "                        [ 0.2735, -0.4188,  1.6806, -0.5757],\n",
       "                        [ 1.6243,  0.4005, -0.8061, -0.4517],\n",
       "                        [-1.2250,  0.4055, -0.2865,  0.8737],\n",
       "                        [ 0.2735, -0.4188,  1.6806, -0.5757],\n",
       "                        [ 1.6243,  0.4005, -0.8061, -0.4517],\n",
       "                        [-1.2250,  0.4055, -0.2865,  0.8737],\n",
       "                        [ 0.2735, -0.4188,  1.6806, -0.5757],\n",
       "                        [ 1.6243,  0.4005, -0.8061, -0.4517],\n",
       "                        [-1.2250,  0.4055, -0.2865,  0.8737],\n",
       "                        [ 0.2735, -0.4188,  1.6806, -0.5757],\n",
       "                        [ 1.6243,  0.4005, -0.8061, -0.4517],\n",
       "                        [-1.2250,  0.4055, -0.2865,  0.8737],\n",
       "                        [ 0.2735, -0.4188,  1.6806, -0.5757],\n",
       "                        [ 1.6243,  0.4005, -0.8061, -0.4517],\n",
       "                        [-1.2250,  0.4055, -0.2865,  0.8737],\n",
       "                        [ 0.2735, -0.4188,  1.6806, -0.5757],\n",
       "                        [ 1.6243,  0.4005, -0.8061, -0.4517],\n",
       "                        [-1.2250,  0.4055, -0.2865,  0.8737],\n",
       "                        [ 0.2735, -0.4188,  1.6806, -0.5757],\n",
       "                        [ 1.6243,  0.4005, -0.8061, -0.4517],\n",
       "                        [-1.2250,  0.4055, -0.2865,  0.8737],\n",
       "                        [ 0.2735, -0.4188,  1.6806, -0.5757],\n",
       "                        [ 1.6243,  0.4005, -0.8061, -0.4517]])"
      ]
     },
     "execution_count": 22,
     "metadata": {},
     "output_type": "execute_result"
    }
   ],
   "source": [
    "t_cat = FastTreeValue.func(subside=True)(torch.cat)\n",
    "\n",
    "t_cat(trees)"
   ]
  },
  {
   "cell_type": "code",
   "execution_count": 23,
   "id": "5e9c06a6",
   "metadata": {
    "execution": {
     "iopub.execute_input": "2023-02-26T06:20:43.453941Z",
     "iopub.status.busy": "2023-02-26T06:20:43.453463Z",
     "iopub.status.idle": "2023-02-26T06:20:45.872712Z",
     "shell.execute_reply": "2023-02-26T06:20:45.872045Z"
    }
   },
   "outputs": [
    {
     "name": "stdout",
     "output_type": "stream",
     "text": [
      "29.7 µs ± 36.4 ns per loop (mean ± std. dev. of 7 runs, 10,000 loops each)\n"
     ]
    }
   ],
   "source": [
    "%timeit t_cat(trees)"
   ]
  },
  {
   "cell_type": "code",
   "execution_count": 24,
   "id": "a3ab5c8f",
   "metadata": {
    "execution": {
     "iopub.execute_input": "2023-02-26T06:20:45.875922Z",
     "iopub.status.busy": "2023-02-26T06:20:45.875325Z",
     "iopub.status.idle": "2023-02-26T06:20:50.664073Z",
     "shell.execute_reply": "2023-02-26T06:20:50.663321Z"
    }
   },
   "outputs": [
    {
     "name": "stdout",
     "output_type": "stream",
     "text": [
      "58.9 µs ± 89 ns per loop (mean ± std. dev. of 7 runs, 10,000 loops each)\n"
     ]
    }
   ],
   "source": [
    "t_split = FastTreeValue.func(rise=True)(torch.split)\n",
    "tree = FastTreeValue({\n",
    "    'obs': torch.randn(8, 4, 84, 84),\n",
    "    'action': torch.randint(0, 6, size=(8, 1,)),\n",
    "    'reward': torch.rand(8, 1),\n",
    "})\n",
    "\n",
    "%timeit t_split(tree, 1)"
   ]
  },
  {
   "cell_type": "markdown",
   "id": "31c3ec0b",
   "metadata": {},
   "source": [
    "### Performance of Tianshou Batch"
   ]
  },
  {
   "cell_type": "code",
   "execution_count": 25,
   "id": "9ead828a",
   "metadata": {
    "execution": {
     "iopub.execute_input": "2023-02-26T06:20:50.666838Z",
     "iopub.status.busy": "2023-02-26T06:20:50.666479Z",
     "iopub.status.idle": "2023-02-26T06:20:50.674309Z",
     "shell.execute_reply": "2023-02-26T06:20:50.673731Z"
    }
   },
   "outputs": [
    {
     "data": {
      "text/plain": [
       "Batch(\n",
       "    x: Batch(\n",
       "           c: tensor([[[-1.2250,  0.4055, -0.2865,  0.8737],\n",
       "                       [ 0.2735, -0.4188,  1.6806, -0.5757],\n",
       "                       [ 1.6243,  0.4005, -0.8061, -0.4517]],\n",
       "              \n",
       "                      [[-1.2250,  0.4055, -0.2865,  0.8737],\n",
       "                       [ 0.2735, -0.4188,  1.6806, -0.5757],\n",
       "                       [ 1.6243,  0.4005, -0.8061, -0.4517]],\n",
       "              \n",
       "                      [[-1.2250,  0.4055, -0.2865,  0.8737],\n",
       "                       [ 0.2735, -0.4188,  1.6806, -0.5757],\n",
       "                       [ 1.6243,  0.4005, -0.8061, -0.4517]],\n",
       "              \n",
       "                      [[-1.2250,  0.4055, -0.2865,  0.8737],\n",
       "                       [ 0.2735, -0.4188,  1.6806, -0.5757],\n",
       "                       [ 1.6243,  0.4005, -0.8061, -0.4517]],\n",
       "              \n",
       "                      [[-1.2250,  0.4055, -0.2865,  0.8737],\n",
       "                       [ 0.2735, -0.4188,  1.6806, -0.5757],\n",
       "                       [ 1.6243,  0.4005, -0.8061, -0.4517]],\n",
       "              \n",
       "                      [[-1.2250,  0.4055, -0.2865,  0.8737],\n",
       "                       [ 0.2735, -0.4188,  1.6806, -0.5757],\n",
       "                       [ 1.6243,  0.4005, -0.8061, -0.4517]],\n",
       "              \n",
       "                      [[-1.2250,  0.4055, -0.2865,  0.8737],\n",
       "                       [ 0.2735, -0.4188,  1.6806, -0.5757],\n",
       "                       [ 1.6243,  0.4005, -0.8061, -0.4517]],\n",
       "              \n",
       "                      [[-1.2250,  0.4055, -0.2865,  0.8737],\n",
       "                       [ 0.2735, -0.4188,  1.6806, -0.5757],\n",
       "                       [ 1.6243,  0.4005, -0.8061, -0.4517]]]),\n",
       "       ),\n",
       "    a: tensor([[[ 1.0596, -1.2632, -0.3492],\n",
       "                [-0.4961,  0.6181, -1.2059]],\n",
       "       \n",
       "               [[ 1.0596, -1.2632, -0.3492],\n",
       "                [-0.4961,  0.6181, -1.2059]],\n",
       "       \n",
       "               [[ 1.0596, -1.2632, -0.3492],\n",
       "                [-0.4961,  0.6181, -1.2059]],\n",
       "       \n",
       "               [[ 1.0596, -1.2632, -0.3492],\n",
       "                [-0.4961,  0.6181, -1.2059]],\n",
       "       \n",
       "               [[ 1.0596, -1.2632, -0.3492],\n",
       "                [-0.4961,  0.6181, -1.2059]],\n",
       "       \n",
       "               [[ 1.0596, -1.2632, -0.3492],\n",
       "                [-0.4961,  0.6181, -1.2059]],\n",
       "       \n",
       "               [[ 1.0596, -1.2632, -0.3492],\n",
       "                [-0.4961,  0.6181, -1.2059]],\n",
       "       \n",
       "               [[ 1.0596, -1.2632, -0.3492],\n",
       "                [-0.4961,  0.6181, -1.2059]]]),\n",
       ")"
      ]
     },
     "execution_count": 25,
     "metadata": {},
     "output_type": "execute_result"
    }
   ],
   "source": [
    "batches = [Batch(**_TREE_DATA_2) for _ in range(8)]\n",
    "\n",
    "Batch.stack(batches)"
   ]
  },
  {
   "cell_type": "code",
   "execution_count": 26,
   "id": "ec9037a3",
   "metadata": {
    "execution": {
     "iopub.execute_input": "2023-02-26T06:20:50.677392Z",
     "iopub.status.busy": "2023-02-26T06:20:50.676785Z",
     "iopub.status.idle": "2023-02-26T06:20:56.975702Z",
     "shell.execute_reply": "2023-02-26T06:20:56.974952Z"
    }
   },
   "outputs": [
    {
     "name": "stdout",
     "output_type": "stream",
     "text": [
      "77.6 µs ± 160 ns per loop (mean ± std. dev. of 7 runs, 10,000 loops each)\n"
     ]
    }
   ],
   "source": [
    "%timeit Batch.stack(batches)"
   ]
  },
  {
   "cell_type": "code",
   "execution_count": 27,
   "id": "cb8ab77e",
   "metadata": {
    "execution": {
     "iopub.execute_input": "2023-02-26T06:20:56.978717Z",
     "iopub.status.busy": "2023-02-26T06:20:56.978365Z",
     "iopub.status.idle": "2023-02-26T06:20:56.985699Z",
     "shell.execute_reply": "2023-02-26T06:20:56.985132Z"
    }
   },
   "outputs": [
    {
     "data": {
      "text/plain": [
       "Batch(\n",
       "    x: Batch(\n",
       "           c: tensor([[-1.2250,  0.4055, -0.2865,  0.8737],\n",
       "                      [ 0.2735, -0.4188,  1.6806, -0.5757],\n",
       "                      [ 1.6243,  0.4005, -0.8061, -0.4517],\n",
       "                      [-1.2250,  0.4055, -0.2865,  0.8737],\n",
       "                      [ 0.2735, -0.4188,  1.6806, -0.5757],\n",
       "                      [ 1.6243,  0.4005, -0.8061, -0.4517],\n",
       "                      [-1.2250,  0.4055, -0.2865,  0.8737],\n",
       "                      [ 0.2735, -0.4188,  1.6806, -0.5757],\n",
       "                      [ 1.6243,  0.4005, -0.8061, -0.4517],\n",
       "                      [-1.2250,  0.4055, -0.2865,  0.8737],\n",
       "                      [ 0.2735, -0.4188,  1.6806, -0.5757],\n",
       "                      [ 1.6243,  0.4005, -0.8061, -0.4517],\n",
       "                      [-1.2250,  0.4055, -0.2865,  0.8737],\n",
       "                      [ 0.2735, -0.4188,  1.6806, -0.5757],\n",
       "                      [ 1.6243,  0.4005, -0.8061, -0.4517],\n",
       "                      [-1.2250,  0.4055, -0.2865,  0.8737],\n",
       "                      [ 0.2735, -0.4188,  1.6806, -0.5757],\n",
       "                      [ 1.6243,  0.4005, -0.8061, -0.4517],\n",
       "                      [-1.2250,  0.4055, -0.2865,  0.8737],\n",
       "                      [ 0.2735, -0.4188,  1.6806, -0.5757],\n",
       "                      [ 1.6243,  0.4005, -0.8061, -0.4517],\n",
       "                      [-1.2250,  0.4055, -0.2865,  0.8737],\n",
       "                      [ 0.2735, -0.4188,  1.6806, -0.5757],\n",
       "                      [ 1.6243,  0.4005, -0.8061, -0.4517]]),\n",
       "       ),\n",
       "    a: tensor([[ 1.0596, -1.2632, -0.3492],\n",
       "               [-0.4961,  0.6181, -1.2059],\n",
       "               [ 1.0596, -1.2632, -0.3492],\n",
       "               [-0.4961,  0.6181, -1.2059],\n",
       "               [ 1.0596, -1.2632, -0.3492],\n",
       "               [-0.4961,  0.6181, -1.2059],\n",
       "               [ 1.0596, -1.2632, -0.3492],\n",
       "               [-0.4961,  0.6181, -1.2059],\n",
       "               [ 1.0596, -1.2632, -0.3492],\n",
       "               [-0.4961,  0.6181, -1.2059],\n",
       "               [ 1.0596, -1.2632, -0.3492],\n",
       "               [-0.4961,  0.6181, -1.2059],\n",
       "               [ 1.0596, -1.2632, -0.3492],\n",
       "               [-0.4961,  0.6181, -1.2059],\n",
       "               [ 1.0596, -1.2632, -0.3492],\n",
       "               [-0.4961,  0.6181, -1.2059]]),\n",
       ")"
      ]
     },
     "execution_count": 27,
     "metadata": {},
     "output_type": "execute_result"
    }
   ],
   "source": [
    "Batch.cat(batches)"
   ]
  },
  {
   "cell_type": "code",
   "execution_count": 28,
   "id": "18dfb045",
   "metadata": {
    "execution": {
     "iopub.execute_input": "2023-02-26T06:20:56.988299Z",
     "iopub.status.busy": "2023-02-26T06:20:56.987976Z",
     "iopub.status.idle": "2023-02-26T06:21:08.604507Z",
     "shell.execute_reply": "2023-02-26T06:21:08.603757Z"
    }
   },
   "outputs": [
    {
     "name": "stdout",
     "output_type": "stream",
     "text": [
      "143 µs ± 484 ns per loop (mean ± std. dev. of 7 runs, 10,000 loops each)\n"
     ]
    }
   ],
   "source": [
    "%timeit Batch.cat(batches)"
   ]
  },
  {
   "cell_type": "code",
   "execution_count": 29,
   "id": "c6688e51",
   "metadata": {
    "execution": {
     "iopub.execute_input": "2023-02-26T06:21:08.607262Z",
     "iopub.status.busy": "2023-02-26T06:21:08.606900Z",
     "iopub.status.idle": "2023-02-26T06:21:11.182894Z",
     "shell.execute_reply": "2023-02-26T06:21:11.182339Z"
    }
   },
   "outputs": [
    {
     "name": "stdout",
     "output_type": "stream",
     "text": [
      "317 µs ± 14.7 µs per loop (mean ± std. dev. of 7 runs, 1,000 loops each)\n"
     ]
    }
   ],
   "source": [
    "batch = Batch({\n",
    "    'obs': torch.randn(8, 4, 84, 84),\n",
    "    'action': torch.randint(0, 6, size=(8, 1,)),\n",
    "    'reward': torch.rand(8, 1)}\n",
    ")\n",
    "\n",
    "%timeit list(Batch.split(batch, 1, shuffle=False, merge_last=True))"
   ]
  },
  {
   "cell_type": "code",
   "execution_count": null,
   "id": "2539fbd9",
   "metadata": {},
   "outputs": [],
   "source": []
  }
 ],
 "metadata": {
  "kernelspec": {
   "display_name": "Python 3 (ipykernel)",
   "language": "python",
   "name": "python3"
  },
  "language_info": {
   "codemirror_mode": {
    "name": "ipython",
    "version": 3
   },
   "file_extension": ".py",
   "mimetype": "text/x-python",
   "name": "python",
   "nbconvert_exporter": "python",
   "pygments_lexer": "ipython3",
   "version": "3.8.16"
  }
 },
 "nbformat": 4,
 "nbformat_minor": 5
}
