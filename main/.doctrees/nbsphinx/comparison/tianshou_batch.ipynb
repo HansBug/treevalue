{
 "cells": [
  {
   "cell_type": "markdown",
   "id": "9d39d946",
   "metadata": {},
   "source": [
    "# Comparison Between TreeValue and Tianshou Batch"
   ]
  },
  {
   "cell_type": "markdown",
   "id": "3c6db2d4",
   "metadata": {},
   "source": [
    "In this section, we will take a look at the feature and performance of the [Tianshou Batch](https://github.com/thu-ml/tianshou) library, which is developed by Tsinghua Machine Learning Group."
   ]
  },
  {
   "cell_type": "markdown",
   "id": "069361b0",
   "metadata": {},
   "source": [
    "Before starting the comparison, let us define some thing."
   ]
  },
  {
   "cell_type": "code",
   "execution_count": 1,
   "id": "06fc8d26",
   "metadata": {
    "execution": {
     "iopub.execute_input": "2023-02-26T16:16:08.681569Z",
     "iopub.status.busy": "2023-02-26T16:16:08.681264Z",
     "iopub.status.idle": "2023-02-26T16:16:09.908334Z",
     "shell.execute_reply": "2023-02-26T16:16:09.907281Z"
    }
   },
   "outputs": [
    {
     "name": "stderr",
     "output_type": "stream",
     "text": [
      "/opt/hostedtoolcache/Python/3.8.16/x64/lib/python3.8/site-packages/tqdm/auto.py:22: TqdmWarning: IProgress not found. Please update jupyter and ipywidgets. See https://ipywidgets.readthedocs.io/en/stable/user_install.html\n",
      "  from .autonotebook import tqdm as notebook_tqdm\n"
     ]
    }
   ],
   "source": [
    "import torch \n",
    "\n",
    "_TREE_DATA_1 = {'a': 1, 'b': 2, 'x': {'c': 3, 'd': 4}}\n",
    "_TREE_DATA_2 = {\n",
    "    'a': torch.randn(2, 3), \n",
    "    'x': {\n",
    "        'c': torch.randn(3, 4)\n",
    "    },\n",
    "}\n",
    "_TREE_DATA_3 = {\n",
    "    'obs': torch.randn(4, 84, 84),\n",
    "    'action': torch.randint(0, 6, size=(1,)),\n",
    "    'reward': torch.rand(1),\n",
    "}"
   ]
  },
  {
   "cell_type": "markdown",
   "id": "83461b25",
   "metadata": {},
   "source": [
    "## Read and Write Operation"
   ]
  },
  {
   "cell_type": "markdown",
   "id": "067b3f73",
   "metadata": {},
   "source": [
    "Reading and writing are the two most common operations in the tree data structure based on the data model (TreeValue and Tianshou Batch both belong to this type), so this section will compare the reading and writing performance of these two libraries."
   ]
  },
  {
   "cell_type": "markdown",
   "id": "5d09a5b7",
   "metadata": {},
   "source": [
    "### TreeValue's Get and Set"
   ]
  },
  {
   "cell_type": "code",
   "execution_count": 2,
   "id": "9519c4bb",
   "metadata": {
    "execution": {
     "iopub.execute_input": "2023-02-26T16:16:09.912693Z",
     "iopub.status.busy": "2023-02-26T16:16:09.912289Z",
     "iopub.status.idle": "2023-02-26T16:16:10.291754Z",
     "shell.execute_reply": "2023-02-26T16:16:10.290724Z"
    }
   },
   "outputs": [],
   "source": [
    "from treevalue import FastTreeValue\n",
    "\n",
    "t = FastTreeValue(_TREE_DATA_2)"
   ]
  },
  {
   "cell_type": "code",
   "execution_count": 3,
   "id": "11c37677",
   "metadata": {
    "execution": {
     "iopub.execute_input": "2023-02-26T16:16:10.296138Z",
     "iopub.status.busy": "2023-02-26T16:16:10.295640Z",
     "iopub.status.idle": "2023-02-26T16:16:10.309138Z",
     "shell.execute_reply": "2023-02-26T16:16:10.308192Z"
    }
   },
   "outputs": [
    {
     "data": {
      "text/plain": [
       "<FastTreeValue 0x7f717c5e0f70>\n",
       "├── 'a' --> tensor([[-0.6225,  1.5682,  0.7083],\n",
       "│                   [ 0.0514, -1.0173, -0.7090]])\n",
       "└── 'x' --> <FastTreeValue 0x7f717c5e0f40>\n",
       "    └── 'c' --> tensor([[-0.2995,  0.8026,  0.9236, -0.7262],\n",
       "                        [-2.7285, -0.5340,  0.3088, -0.5385],\n",
       "                        [ 0.6102,  0.6896, -0.3087, -0.0344]])"
      ]
     },
     "execution_count": 3,
     "metadata": {},
     "output_type": "execute_result"
    }
   ],
   "source": [
    "t"
   ]
  },
  {
   "cell_type": "code",
   "execution_count": 4,
   "id": "fd70b0b9",
   "metadata": {
    "execution": {
     "iopub.execute_input": "2023-02-26T16:16:10.313200Z",
     "iopub.status.busy": "2023-02-26T16:16:10.312654Z",
     "iopub.status.idle": "2023-02-26T16:16:10.320503Z",
     "shell.execute_reply": "2023-02-26T16:16:10.319576Z"
    }
   },
   "outputs": [
    {
     "data": {
      "text/plain": [
       "tensor([[-0.6225,  1.5682,  0.7083],\n",
       "        [ 0.0514, -1.0173, -0.7090]])"
      ]
     },
     "execution_count": 4,
     "metadata": {},
     "output_type": "execute_result"
    }
   ],
   "source": [
    "t.a"
   ]
  },
  {
   "cell_type": "code",
   "execution_count": 5,
   "id": "c18197bd",
   "metadata": {
    "execution": {
     "iopub.execute_input": "2023-02-26T16:16:10.324353Z",
     "iopub.status.busy": "2023-02-26T16:16:10.323855Z",
     "iopub.status.idle": "2023-02-26T16:16:16.272765Z",
     "shell.execute_reply": "2023-02-26T16:16:16.271615Z"
    }
   },
   "outputs": [
    {
     "name": "stdout",
     "output_type": "stream",
     "text": [
      "72.8 ns ± 1.28 ns per loop (mean ± std. dev. of 7 runs, 10,000,000 loops each)\n"
     ]
    }
   ],
   "source": [
    "%timeit t.a"
   ]
  },
  {
   "cell_type": "code",
   "execution_count": 6,
   "id": "bd52f867",
   "metadata": {
    "execution": {
     "iopub.execute_input": "2023-02-26T16:16:16.276242Z",
     "iopub.status.busy": "2023-02-26T16:16:16.275794Z",
     "iopub.status.idle": "2023-02-26T16:16:16.285318Z",
     "shell.execute_reply": "2023-02-26T16:16:16.284311Z"
    }
   },
   "outputs": [
    {
     "data": {
      "text/plain": [
       "<FastTreeValue 0x7f717c5e0f70>\n",
       "├── 'a' --> tensor([[-0.3065,  0.6307, -1.4207],\n",
       "│                   [-0.0506, -1.0080, -1.2963]])\n",
       "└── 'x' --> <FastTreeValue 0x7f717c5e0f40>\n",
       "    └── 'c' --> tensor([[-0.2995,  0.8026,  0.9236, -0.7262],\n",
       "                        [-2.7285, -0.5340,  0.3088, -0.5385],\n",
       "                        [ 0.6102,  0.6896, -0.3087, -0.0344]])"
      ]
     },
     "execution_count": 6,
     "metadata": {},
     "output_type": "execute_result"
    }
   ],
   "source": [
    "new_value = torch.randn(2, 3)\n",
    "t.a = new_value\n",
    "\n",
    "t"
   ]
  },
  {
   "cell_type": "code",
   "execution_count": 7,
   "id": "bbe04d1c",
   "metadata": {
    "execution": {
     "iopub.execute_input": "2023-02-26T16:16:16.288888Z",
     "iopub.status.busy": "2023-02-26T16:16:16.288604Z",
     "iopub.status.idle": "2023-02-26T16:16:22.201635Z",
     "shell.execute_reply": "2023-02-26T16:16:22.200331Z"
    }
   },
   "outputs": [
    {
     "name": "stdout",
     "output_type": "stream",
     "text": [
      "72.7 ns ± 1.25 ns per loop (mean ± std. dev. of 7 runs, 10,000,000 loops each)\n"
     ]
    }
   ],
   "source": [
    "%timeit t.a = new_value"
   ]
  },
  {
   "cell_type": "markdown",
   "id": "48c49731",
   "metadata": {},
   "source": [
    "### Tianshou Batch's Get and Set"
   ]
  },
  {
   "cell_type": "code",
   "execution_count": 8,
   "id": "f1bb14c1",
   "metadata": {
    "execution": {
     "iopub.execute_input": "2023-02-26T16:16:22.205561Z",
     "iopub.status.busy": "2023-02-26T16:16:22.205215Z",
     "iopub.status.idle": "2023-02-26T16:16:22.662674Z",
     "shell.execute_reply": "2023-02-26T16:16:22.661564Z"
    }
   },
   "outputs": [],
   "source": [
    "from tianshou.data import Batch\n",
    "\n",
    "b = Batch(**_TREE_DATA_2)"
   ]
  },
  {
   "cell_type": "code",
   "execution_count": 9,
   "id": "cb0777c3",
   "metadata": {
    "execution": {
     "iopub.execute_input": "2023-02-26T16:16:22.667127Z",
     "iopub.status.busy": "2023-02-26T16:16:22.666234Z",
     "iopub.status.idle": "2023-02-26T16:16:22.674885Z",
     "shell.execute_reply": "2023-02-26T16:16:22.673758Z"
    }
   },
   "outputs": [
    {
     "data": {
      "text/plain": [
       "Batch(\n",
       "    a: tensor([[-0.6225,  1.5682,  0.7083],\n",
       "               [ 0.0514, -1.0173, -0.7090]]),\n",
       "    x: Batch(\n",
       "           c: tensor([[-0.2995,  0.8026,  0.9236, -0.7262],\n",
       "                      [-2.7285, -0.5340,  0.3088, -0.5385],\n",
       "                      [ 0.6102,  0.6896, -0.3087, -0.0344]]),\n",
       "       ),\n",
       ")"
      ]
     },
     "execution_count": 9,
     "metadata": {},
     "output_type": "execute_result"
    }
   ],
   "source": [
    "b"
   ]
  },
  {
   "cell_type": "code",
   "execution_count": 10,
   "id": "43ef8ea3",
   "metadata": {
    "execution": {
     "iopub.execute_input": "2023-02-26T16:16:22.678476Z",
     "iopub.status.busy": "2023-02-26T16:16:22.677955Z",
     "iopub.status.idle": "2023-02-26T16:16:22.684918Z",
     "shell.execute_reply": "2023-02-26T16:16:22.683967Z"
    }
   },
   "outputs": [
    {
     "data": {
      "text/plain": [
       "tensor([[-0.6225,  1.5682,  0.7083],\n",
       "        [ 0.0514, -1.0173, -0.7090]])"
      ]
     },
     "execution_count": 10,
     "metadata": {},
     "output_type": "execute_result"
    }
   ],
   "source": [
    "b.a"
   ]
  },
  {
   "cell_type": "code",
   "execution_count": 11,
   "id": "b785ab72",
   "metadata": {
    "execution": {
     "iopub.execute_input": "2023-02-26T16:16:22.688172Z",
     "iopub.status.busy": "2023-02-26T16:16:22.687879Z",
     "iopub.status.idle": "2023-02-26T16:16:28.113037Z",
     "shell.execute_reply": "2023-02-26T16:16:28.111565Z"
    }
   },
   "outputs": [
    {
     "name": "stdout",
     "output_type": "stream",
     "text": [
      "66.5 ns ± 0.996 ns per loop (mean ± std. dev. of 7 runs, 10,000,000 loops each)\n"
     ]
    }
   ],
   "source": [
    "%timeit b.a"
   ]
  },
  {
   "cell_type": "code",
   "execution_count": 12,
   "id": "ad54dc69",
   "metadata": {
    "execution": {
     "iopub.execute_input": "2023-02-26T16:16:28.117102Z",
     "iopub.status.busy": "2023-02-26T16:16:28.116788Z",
     "iopub.status.idle": "2023-02-26T16:16:28.125611Z",
     "shell.execute_reply": "2023-02-26T16:16:28.124501Z"
    }
   },
   "outputs": [
    {
     "data": {
      "text/plain": [
       "Batch(\n",
       "    a: tensor([[ 0.0962,  0.5093, -1.8085],\n",
       "               [ 0.4205, -1.3088,  0.0386]]),\n",
       "    x: Batch(\n",
       "           c: tensor([[-0.2995,  0.8026,  0.9236, -0.7262],\n",
       "                      [-2.7285, -0.5340,  0.3088, -0.5385],\n",
       "                      [ 0.6102,  0.6896, -0.3087, -0.0344]]),\n",
       "       ),\n",
       ")"
      ]
     },
     "execution_count": 12,
     "metadata": {},
     "output_type": "execute_result"
    }
   ],
   "source": [
    "new_value = torch.randn(2, 3)\n",
    "b.a = new_value\n",
    "\n",
    "b"
   ]
  },
  {
   "cell_type": "code",
   "execution_count": 13,
   "id": "29b1d0bf",
   "metadata": {
    "execution": {
     "iopub.execute_input": "2023-02-26T16:16:28.129018Z",
     "iopub.status.busy": "2023-02-26T16:16:28.128733Z",
     "iopub.status.idle": "2023-02-26T16:16:33.108845Z",
     "shell.execute_reply": "2023-02-26T16:16:33.107630Z"
    }
   },
   "outputs": [
    {
     "name": "stdout",
     "output_type": "stream",
     "text": [
      "609 ns ± 15.3 ns per loop (mean ± std. dev. of 7 runs, 1,000,000 loops each)\n"
     ]
    }
   ],
   "source": [
    "%timeit b.a = new_value"
   ]
  },
  {
   "cell_type": "markdown",
   "id": "b61ad1d0",
   "metadata": {},
   "source": [
    "## Initialization"
   ]
  },
  {
   "cell_type": "markdown",
   "id": "d70f0d54",
   "metadata": {},
   "source": [
    "### TreeValue's Initialization"
   ]
  },
  {
   "cell_type": "code",
   "execution_count": 14,
   "id": "d32a679b",
   "metadata": {
    "execution": {
     "iopub.execute_input": "2023-02-26T16:16:33.112788Z",
     "iopub.status.busy": "2023-02-26T16:16:33.112462Z",
     "iopub.status.idle": "2023-02-26T16:16:41.433156Z",
     "shell.execute_reply": "2023-02-26T16:16:41.431956Z"
    }
   },
   "outputs": [
    {
     "name": "stdout",
     "output_type": "stream",
     "text": [
      "1.03 µs ± 21.6 ns per loop (mean ± std. dev. of 7 runs, 1,000,000 loops each)\n"
     ]
    }
   ],
   "source": [
    "%timeit FastTreeValue(_TREE_DATA_1)"
   ]
  },
  {
   "cell_type": "markdown",
   "id": "24f3707b",
   "metadata": {},
   "source": [
    "### Tianshou Batch's Initialization"
   ]
  },
  {
   "cell_type": "code",
   "execution_count": 15,
   "id": "ac3958df",
   "metadata": {
    "execution": {
     "iopub.execute_input": "2023-02-26T16:16:41.437206Z",
     "iopub.status.busy": "2023-02-26T16:16:41.436662Z",
     "iopub.status.idle": "2023-02-26T16:16:51.971351Z",
     "shell.execute_reply": "2023-02-26T16:16:51.970325Z"
    }
   },
   "outputs": [
    {
     "name": "stdout",
     "output_type": "stream",
     "text": [
      "12.9 µs ± 231 ns per loop (mean ± std. dev. of 7 runs, 100,000 loops each)\n"
     ]
    }
   ],
   "source": [
    "%timeit Batch(**_TREE_DATA_1)"
   ]
  },
  {
   "cell_type": "markdown",
   "id": "1ab82e2d",
   "metadata": {},
   "source": [
    "## Deep Copy Operation"
   ]
  },
  {
   "cell_type": "code",
   "execution_count": 16,
   "id": "210a9442",
   "metadata": {
    "execution": {
     "iopub.execute_input": "2023-02-26T16:16:51.975321Z",
     "iopub.status.busy": "2023-02-26T16:16:51.975023Z",
     "iopub.status.idle": "2023-02-26T16:16:51.980272Z",
     "shell.execute_reply": "2023-02-26T16:16:51.979348Z"
    }
   },
   "outputs": [],
   "source": [
    "import copy"
   ]
  },
  {
   "cell_type": "markdown",
   "id": "5a736274",
   "metadata": {},
   "source": [
    "### Deep Copy of TreeValue"
   ]
  },
  {
   "cell_type": "code",
   "execution_count": 17,
   "id": "f9bcadd6",
   "metadata": {
    "execution": {
     "iopub.execute_input": "2023-02-26T16:16:51.983808Z",
     "iopub.status.busy": "2023-02-26T16:16:51.983521Z",
     "iopub.status.idle": "2023-02-26T16:16:54.407635Z",
     "shell.execute_reply": "2023-02-26T16:16:54.406307Z"
    }
   },
   "outputs": [
    {
     "name": "stdout",
     "output_type": "stream",
     "text": [
      "288 µs ± 5.94 µs per loop (mean ± std. dev. of 7 runs, 1,000 loops each)\n"
     ]
    }
   ],
   "source": [
    "t3 = FastTreeValue(_TREE_DATA_3)\n",
    "%timeit copy.deepcopy(t3)"
   ]
  },
  {
   "cell_type": "markdown",
   "id": "bf8be7ea",
   "metadata": {},
   "source": [
    "### Deep Copy of Tianshou Batch"
   ]
  },
  {
   "cell_type": "code",
   "execution_count": 18,
   "id": "91998e6f",
   "metadata": {
    "execution": {
     "iopub.execute_input": "2023-02-26T16:16:54.411355Z",
     "iopub.status.busy": "2023-02-26T16:16:54.411048Z",
     "iopub.status.idle": "2023-02-26T16:16:56.611350Z",
     "shell.execute_reply": "2023-02-26T16:16:56.610361Z"
    }
   },
   "outputs": [
    {
     "name": "stdout",
     "output_type": "stream",
     "text": [
      "268 µs ± 4.98 µs per loop (mean ± std. dev. of 7 runs, 1,000 loops each)\n"
     ]
    }
   ],
   "source": [
    "b3 = Batch(**_TREE_DATA_3)\n",
    "%timeit copy.deepcopy(b3)"
   ]
  },
  {
   "cell_type": "markdown",
   "id": "223162fb",
   "metadata": {},
   "source": [
    "## Stack, Concat and Split Operation"
   ]
  },
  {
   "cell_type": "markdown",
   "id": "85fa4a73",
   "metadata": {},
   "source": [
    "### Performance of TreeValue"
   ]
  },
  {
   "cell_type": "code",
   "execution_count": 19,
   "id": "a0c2b697",
   "metadata": {
    "execution": {
     "iopub.execute_input": "2023-02-26T16:16:56.615097Z",
     "iopub.status.busy": "2023-02-26T16:16:56.614602Z",
     "iopub.status.idle": "2023-02-26T16:16:56.618988Z",
     "shell.execute_reply": "2023-02-26T16:16:56.618107Z"
    }
   },
   "outputs": [],
   "source": [
    "trees = [FastTreeValue(_TREE_DATA_2) for _ in range(8)]"
   ]
  },
  {
   "cell_type": "code",
   "execution_count": 20,
   "id": "017ea5a5",
   "metadata": {
    "execution": {
     "iopub.execute_input": "2023-02-26T16:16:56.622399Z",
     "iopub.status.busy": "2023-02-26T16:16:56.621877Z",
     "iopub.status.idle": "2023-02-26T16:16:56.632227Z",
     "shell.execute_reply": "2023-02-26T16:16:56.631299Z"
    }
   },
   "outputs": [
    {
     "data": {
      "text/plain": [
       "<FastTreeValue 0x7f717c5a5070>\n",
       "├── 'a' --> tensor([[[-0.6225,  1.5682,  0.7083],\n",
       "│                    [ 0.0514, -1.0173, -0.7090]],\n",
       "│           \n",
       "│                   [[-0.6225,  1.5682,  0.7083],\n",
       "│                    [ 0.0514, -1.0173, -0.7090]],\n",
       "│           \n",
       "│                   [[-0.6225,  1.5682,  0.7083],\n",
       "│                    [ 0.0514, -1.0173, -0.7090]],\n",
       "│           \n",
       "│                   [[-0.6225,  1.5682,  0.7083],\n",
       "│                    [ 0.0514, -1.0173, -0.7090]],\n",
       "│           \n",
       "│                   [[-0.6225,  1.5682,  0.7083],\n",
       "│                    [ 0.0514, -1.0173, -0.7090]],\n",
       "│           \n",
       "│                   [[-0.6225,  1.5682,  0.7083],\n",
       "│                    [ 0.0514, -1.0173, -0.7090]],\n",
       "│           \n",
       "│                   [[-0.6225,  1.5682,  0.7083],\n",
       "│                    [ 0.0514, -1.0173, -0.7090]],\n",
       "│           \n",
       "│                   [[-0.6225,  1.5682,  0.7083],\n",
       "│                    [ 0.0514, -1.0173, -0.7090]]])\n",
       "└── 'x' --> <FastTreeValue 0x7f70c6930dc0>\n",
       "    └── 'c' --> tensor([[[-0.2995,  0.8026,  0.9236, -0.7262],\n",
       "                         [-2.7285, -0.5340,  0.3088, -0.5385],\n",
       "                         [ 0.6102,  0.6896, -0.3087, -0.0344]],\n",
       "                \n",
       "                        [[-0.2995,  0.8026,  0.9236, -0.7262],\n",
       "                         [-2.7285, -0.5340,  0.3088, -0.5385],\n",
       "                         [ 0.6102,  0.6896, -0.3087, -0.0344]],\n",
       "                \n",
       "                        [[-0.2995,  0.8026,  0.9236, -0.7262],\n",
       "                         [-2.7285, -0.5340,  0.3088, -0.5385],\n",
       "                         [ 0.6102,  0.6896, -0.3087, -0.0344]],\n",
       "                \n",
       "                        [[-0.2995,  0.8026,  0.9236, -0.7262],\n",
       "                         [-2.7285, -0.5340,  0.3088, -0.5385],\n",
       "                         [ 0.6102,  0.6896, -0.3087, -0.0344]],\n",
       "                \n",
       "                        [[-0.2995,  0.8026,  0.9236, -0.7262],\n",
       "                         [-2.7285, -0.5340,  0.3088, -0.5385],\n",
       "                         [ 0.6102,  0.6896, -0.3087, -0.0344]],\n",
       "                \n",
       "                        [[-0.2995,  0.8026,  0.9236, -0.7262],\n",
       "                         [-2.7285, -0.5340,  0.3088, -0.5385],\n",
       "                         [ 0.6102,  0.6896, -0.3087, -0.0344]],\n",
       "                \n",
       "                        [[-0.2995,  0.8026,  0.9236, -0.7262],\n",
       "                         [-2.7285, -0.5340,  0.3088, -0.5385],\n",
       "                         [ 0.6102,  0.6896, -0.3087, -0.0344]],\n",
       "                \n",
       "                        [[-0.2995,  0.8026,  0.9236, -0.7262],\n",
       "                         [-2.7285, -0.5340,  0.3088, -0.5385],\n",
       "                         [ 0.6102,  0.6896, -0.3087, -0.0344]]])"
      ]
     },
     "execution_count": 20,
     "metadata": {},
     "output_type": "execute_result"
    }
   ],
   "source": [
    "t_stack = FastTreeValue.func(subside=True)(torch.stack)\n",
    "\n",
    "t_stack(trees)"
   ]
  },
  {
   "cell_type": "code",
   "execution_count": 21,
   "id": "f8b3f415",
   "metadata": {
    "execution": {
     "iopub.execute_input": "2023-02-26T16:16:56.635893Z",
     "iopub.status.busy": "2023-02-26T16:16:56.635363Z",
     "iopub.status.idle": "2023-02-26T16:17:00.236309Z",
     "shell.execute_reply": "2023-02-26T16:17:00.235265Z"
    }
   },
   "outputs": [
    {
     "name": "stdout",
     "output_type": "stream",
     "text": [
      "44 µs ± 877 ns per loop (mean ± std. dev. of 7 runs, 10,000 loops each)\n"
     ]
    }
   ],
   "source": [
    "%timeit t_stack(trees)"
   ]
  },
  {
   "cell_type": "code",
   "execution_count": 22,
   "id": "94b56771",
   "metadata": {
    "execution": {
     "iopub.execute_input": "2023-02-26T16:17:00.240198Z",
     "iopub.status.busy": "2023-02-26T16:17:00.239702Z",
     "iopub.status.idle": "2023-02-26T16:17:00.250570Z",
     "shell.execute_reply": "2023-02-26T16:17:00.249465Z"
    }
   },
   "outputs": [
    {
     "data": {
      "text/plain": [
       "<FastTreeValue 0x7f70c693f0a0>\n",
       "├── 'a' --> tensor([[-0.6225,  1.5682,  0.7083],\n",
       "│                   [ 0.0514, -1.0173, -0.7090],\n",
       "│                   [-0.6225,  1.5682,  0.7083],\n",
       "│                   [ 0.0514, -1.0173, -0.7090],\n",
       "│                   [-0.6225,  1.5682,  0.7083],\n",
       "│                   [ 0.0514, -1.0173, -0.7090],\n",
       "│                   [-0.6225,  1.5682,  0.7083],\n",
       "│                   [ 0.0514, -1.0173, -0.7090],\n",
       "│                   [-0.6225,  1.5682,  0.7083],\n",
       "│                   [ 0.0514, -1.0173, -0.7090],\n",
       "│                   [-0.6225,  1.5682,  0.7083],\n",
       "│                   [ 0.0514, -1.0173, -0.7090],\n",
       "│                   [-0.6225,  1.5682,  0.7083],\n",
       "│                   [ 0.0514, -1.0173, -0.7090],\n",
       "│                   [-0.6225,  1.5682,  0.7083],\n",
       "│                   [ 0.0514, -1.0173, -0.7090]])\n",
       "└── 'x' --> <FastTreeValue 0x7f70c693f070>\n",
       "    └── 'c' --> tensor([[-0.2995,  0.8026,  0.9236, -0.7262],\n",
       "                        [-2.7285, -0.5340,  0.3088, -0.5385],\n",
       "                        [ 0.6102,  0.6896, -0.3087, -0.0344],\n",
       "                        [-0.2995,  0.8026,  0.9236, -0.7262],\n",
       "                        [-2.7285, -0.5340,  0.3088, -0.5385],\n",
       "                        [ 0.6102,  0.6896, -0.3087, -0.0344],\n",
       "                        [-0.2995,  0.8026,  0.9236, -0.7262],\n",
       "                        [-2.7285, -0.5340,  0.3088, -0.5385],\n",
       "                        [ 0.6102,  0.6896, -0.3087, -0.0344],\n",
       "                        [-0.2995,  0.8026,  0.9236, -0.7262],\n",
       "                        [-2.7285, -0.5340,  0.3088, -0.5385],\n",
       "                        [ 0.6102,  0.6896, -0.3087, -0.0344],\n",
       "                        [-0.2995,  0.8026,  0.9236, -0.7262],\n",
       "                        [-2.7285, -0.5340,  0.3088, -0.5385],\n",
       "                        [ 0.6102,  0.6896, -0.3087, -0.0344],\n",
       "                        [-0.2995,  0.8026,  0.9236, -0.7262],\n",
       "                        [-2.7285, -0.5340,  0.3088, -0.5385],\n",
       "                        [ 0.6102,  0.6896, -0.3087, -0.0344],\n",
       "                        [-0.2995,  0.8026,  0.9236, -0.7262],\n",
       "                        [-2.7285, -0.5340,  0.3088, -0.5385],\n",
       "                        [ 0.6102,  0.6896, -0.3087, -0.0344],\n",
       "                        [-0.2995,  0.8026,  0.9236, -0.7262],\n",
       "                        [-2.7285, -0.5340,  0.3088, -0.5385],\n",
       "                        [ 0.6102,  0.6896, -0.3087, -0.0344]])"
      ]
     },
     "execution_count": 22,
     "metadata": {},
     "output_type": "execute_result"
    }
   ],
   "source": [
    "t_cat = FastTreeValue.func(subside=True)(torch.cat)\n",
    "\n",
    "t_cat(trees)"
   ]
  },
  {
   "cell_type": "code",
   "execution_count": 23,
   "id": "5e9c06a6",
   "metadata": {
    "execution": {
     "iopub.execute_input": "2023-02-26T16:17:00.254304Z",
     "iopub.status.busy": "2023-02-26T16:17:00.253977Z",
     "iopub.status.idle": "2023-02-26T16:17:03.651433Z",
     "shell.execute_reply": "2023-02-26T16:17:03.650302Z"
    }
   },
   "outputs": [
    {
     "name": "stdout",
     "output_type": "stream",
     "text": [
      "41.8 µs ± 1.08 µs per loop (mean ± std. dev. of 7 runs, 10,000 loops each)\n"
     ]
    }
   ],
   "source": [
    "%timeit t_cat(trees)"
   ]
  },
  {
   "cell_type": "code",
   "execution_count": 24,
   "id": "a3ab5c8f",
   "metadata": {
    "execution": {
     "iopub.execute_input": "2023-02-26T16:17:03.655115Z",
     "iopub.status.busy": "2023-02-26T16:17:03.654663Z",
     "iopub.status.idle": "2023-02-26T16:17:10.085334Z",
     "shell.execute_reply": "2023-02-26T16:17:10.084275Z"
    }
   },
   "outputs": [
    {
     "name": "stdout",
     "output_type": "stream",
     "text": [
      "79 µs ± 1.64 µs per loop (mean ± std. dev. of 7 runs, 10,000 loops each)\n"
     ]
    }
   ],
   "source": [
    "t_split = FastTreeValue.func(rise=True)(torch.split)\n",
    "tree = FastTreeValue({\n",
    "    'obs': torch.randn(8, 4, 84, 84),\n",
    "    'action': torch.randint(0, 6, size=(8, 1,)),\n",
    "    'reward': torch.rand(8, 1),\n",
    "})\n",
    "\n",
    "%timeit t_split(tree, 1)"
   ]
  },
  {
   "cell_type": "markdown",
   "id": "31c3ec0b",
   "metadata": {},
   "source": [
    "### Performance of Tianshou Batch"
   ]
  },
  {
   "cell_type": "code",
   "execution_count": 25,
   "id": "9ead828a",
   "metadata": {
    "execution": {
     "iopub.execute_input": "2023-02-26T16:17:10.089080Z",
     "iopub.status.busy": "2023-02-26T16:17:10.088505Z",
     "iopub.status.idle": "2023-02-26T16:17:10.099168Z",
     "shell.execute_reply": "2023-02-26T16:17:10.098245Z"
    }
   },
   "outputs": [
    {
     "data": {
      "text/plain": [
       "Batch(\n",
       "    x: Batch(\n",
       "           c: tensor([[[-0.2995,  0.8026,  0.9236, -0.7262],\n",
       "                       [-2.7285, -0.5340,  0.3088, -0.5385],\n",
       "                       [ 0.6102,  0.6896, -0.3087, -0.0344]],\n",
       "              \n",
       "                      [[-0.2995,  0.8026,  0.9236, -0.7262],\n",
       "                       [-2.7285, -0.5340,  0.3088, -0.5385],\n",
       "                       [ 0.6102,  0.6896, -0.3087, -0.0344]],\n",
       "              \n",
       "                      [[-0.2995,  0.8026,  0.9236, -0.7262],\n",
       "                       [-2.7285, -0.5340,  0.3088, -0.5385],\n",
       "                       [ 0.6102,  0.6896, -0.3087, -0.0344]],\n",
       "              \n",
       "                      [[-0.2995,  0.8026,  0.9236, -0.7262],\n",
       "                       [-2.7285, -0.5340,  0.3088, -0.5385],\n",
       "                       [ 0.6102,  0.6896, -0.3087, -0.0344]],\n",
       "              \n",
       "                      [[-0.2995,  0.8026,  0.9236, -0.7262],\n",
       "                       [-2.7285, -0.5340,  0.3088, -0.5385],\n",
       "                       [ 0.6102,  0.6896, -0.3087, -0.0344]],\n",
       "              \n",
       "                      [[-0.2995,  0.8026,  0.9236, -0.7262],\n",
       "                       [-2.7285, -0.5340,  0.3088, -0.5385],\n",
       "                       [ 0.6102,  0.6896, -0.3087, -0.0344]],\n",
       "              \n",
       "                      [[-0.2995,  0.8026,  0.9236, -0.7262],\n",
       "                       [-2.7285, -0.5340,  0.3088, -0.5385],\n",
       "                       [ 0.6102,  0.6896, -0.3087, -0.0344]],\n",
       "              \n",
       "                      [[-0.2995,  0.8026,  0.9236, -0.7262],\n",
       "                       [-2.7285, -0.5340,  0.3088, -0.5385],\n",
       "                       [ 0.6102,  0.6896, -0.3087, -0.0344]]]),\n",
       "       ),\n",
       "    a: tensor([[[-0.6225,  1.5682,  0.7083],\n",
       "                [ 0.0514, -1.0173, -0.7090]],\n",
       "       \n",
       "               [[-0.6225,  1.5682,  0.7083],\n",
       "                [ 0.0514, -1.0173, -0.7090]],\n",
       "       \n",
       "               [[-0.6225,  1.5682,  0.7083],\n",
       "                [ 0.0514, -1.0173, -0.7090]],\n",
       "       \n",
       "               [[-0.6225,  1.5682,  0.7083],\n",
       "                [ 0.0514, -1.0173, -0.7090]],\n",
       "       \n",
       "               [[-0.6225,  1.5682,  0.7083],\n",
       "                [ 0.0514, -1.0173, -0.7090]],\n",
       "       \n",
       "               [[-0.6225,  1.5682,  0.7083],\n",
       "                [ 0.0514, -1.0173, -0.7090]],\n",
       "       \n",
       "               [[-0.6225,  1.5682,  0.7083],\n",
       "                [ 0.0514, -1.0173, -0.7090]],\n",
       "       \n",
       "               [[-0.6225,  1.5682,  0.7083],\n",
       "                [ 0.0514, -1.0173, -0.7090]]]),\n",
       ")"
      ]
     },
     "execution_count": 25,
     "metadata": {},
     "output_type": "execute_result"
    }
   ],
   "source": [
    "batches = [Batch(**_TREE_DATA_2) for _ in range(8)]\n",
    "\n",
    "Batch.stack(batches)"
   ]
  },
  {
   "cell_type": "code",
   "execution_count": 26,
   "id": "ec9037a3",
   "metadata": {
    "execution": {
     "iopub.execute_input": "2023-02-26T16:17:10.102675Z",
     "iopub.status.busy": "2023-02-26T16:17:10.102124Z",
     "iopub.status.idle": "2023-02-26T16:17:18.524231Z",
     "shell.execute_reply": "2023-02-26T16:17:18.522963Z"
    }
   },
   "outputs": [
    {
     "name": "stdout",
     "output_type": "stream",
     "text": [
      "104 µs ± 1.79 µs per loop (mean ± std. dev. of 7 runs, 10,000 loops each)\n"
     ]
    }
   ],
   "source": [
    "%timeit Batch.stack(batches)"
   ]
  },
  {
   "cell_type": "code",
   "execution_count": 27,
   "id": "cb8ab77e",
   "metadata": {
    "execution": {
     "iopub.execute_input": "2023-02-26T16:17:18.527921Z",
     "iopub.status.busy": "2023-02-26T16:17:18.527379Z",
     "iopub.status.idle": "2023-02-26T16:17:18.537656Z",
     "shell.execute_reply": "2023-02-26T16:17:18.536721Z"
    }
   },
   "outputs": [
    {
     "data": {
      "text/plain": [
       "Batch(\n",
       "    x: Batch(\n",
       "           c: tensor([[-0.2995,  0.8026,  0.9236, -0.7262],\n",
       "                      [-2.7285, -0.5340,  0.3088, -0.5385],\n",
       "                      [ 0.6102,  0.6896, -0.3087, -0.0344],\n",
       "                      [-0.2995,  0.8026,  0.9236, -0.7262],\n",
       "                      [-2.7285, -0.5340,  0.3088, -0.5385],\n",
       "                      [ 0.6102,  0.6896, -0.3087, -0.0344],\n",
       "                      [-0.2995,  0.8026,  0.9236, -0.7262],\n",
       "                      [-2.7285, -0.5340,  0.3088, -0.5385],\n",
       "                      [ 0.6102,  0.6896, -0.3087, -0.0344],\n",
       "                      [-0.2995,  0.8026,  0.9236, -0.7262],\n",
       "                      [-2.7285, -0.5340,  0.3088, -0.5385],\n",
       "                      [ 0.6102,  0.6896, -0.3087, -0.0344],\n",
       "                      [-0.2995,  0.8026,  0.9236, -0.7262],\n",
       "                      [-2.7285, -0.5340,  0.3088, -0.5385],\n",
       "                      [ 0.6102,  0.6896, -0.3087, -0.0344],\n",
       "                      [-0.2995,  0.8026,  0.9236, -0.7262],\n",
       "                      [-2.7285, -0.5340,  0.3088, -0.5385],\n",
       "                      [ 0.6102,  0.6896, -0.3087, -0.0344],\n",
       "                      [-0.2995,  0.8026,  0.9236, -0.7262],\n",
       "                      [-2.7285, -0.5340,  0.3088, -0.5385],\n",
       "                      [ 0.6102,  0.6896, -0.3087, -0.0344],\n",
       "                      [-0.2995,  0.8026,  0.9236, -0.7262],\n",
       "                      [-2.7285, -0.5340,  0.3088, -0.5385],\n",
       "                      [ 0.6102,  0.6896, -0.3087, -0.0344]]),\n",
       "       ),\n",
       "    a: tensor([[-0.6225,  1.5682,  0.7083],\n",
       "               [ 0.0514, -1.0173, -0.7090],\n",
       "               [-0.6225,  1.5682,  0.7083],\n",
       "               [ 0.0514, -1.0173, -0.7090],\n",
       "               [-0.6225,  1.5682,  0.7083],\n",
       "               [ 0.0514, -1.0173, -0.7090],\n",
       "               [-0.6225,  1.5682,  0.7083],\n",
       "               [ 0.0514, -1.0173, -0.7090],\n",
       "               [-0.6225,  1.5682,  0.7083],\n",
       "               [ 0.0514, -1.0173, -0.7090],\n",
       "               [-0.6225,  1.5682,  0.7083],\n",
       "               [ 0.0514, -1.0173, -0.7090],\n",
       "               [-0.6225,  1.5682,  0.7083],\n",
       "               [ 0.0514, -1.0173, -0.7090],\n",
       "               [-0.6225,  1.5682,  0.7083],\n",
       "               [ 0.0514, -1.0173, -0.7090]]),\n",
       ")"
      ]
     },
     "execution_count": 27,
     "metadata": {},
     "output_type": "execute_result"
    }
   ],
   "source": [
    "Batch.cat(batches)"
   ]
  },
  {
   "cell_type": "code",
   "execution_count": 28,
   "id": "18dfb045",
   "metadata": {
    "execution": {
     "iopub.execute_input": "2023-02-26T16:17:18.541073Z",
     "iopub.status.busy": "2023-02-26T16:17:18.540815Z",
     "iopub.status.idle": "2023-02-26T16:17:33.673310Z",
     "shell.execute_reply": "2023-02-26T16:17:33.672183Z"
    }
   },
   "outputs": [
    {
     "name": "stdout",
     "output_type": "stream",
     "text": [
      "186 µs ± 1.93 µs per loop (mean ± std. dev. of 7 runs, 10,000 loops each)\n"
     ]
    }
   ],
   "source": [
    "%timeit Batch.cat(batches)"
   ]
  },
  {
   "cell_type": "code",
   "execution_count": 29,
   "id": "c6688e51",
   "metadata": {
    "execution": {
     "iopub.execute_input": "2023-02-26T16:17:33.677296Z",
     "iopub.status.busy": "2023-02-26T16:17:33.676757Z",
     "iopub.status.idle": "2023-02-26T16:17:38.567472Z",
     "shell.execute_reply": "2023-02-26T16:17:38.566444Z"
    }
   },
   "outputs": [
    {
     "name": "stdout",
     "output_type": "stream",
     "text": [
      "601 µs ± 12.5 µs per loop (mean ± std. dev. of 7 runs, 1,000 loops each)\n"
     ]
    }
   ],
   "source": [
    "batch = Batch({\n",
    "    'obs': torch.randn(8, 4, 84, 84),\n",
    "    'action': torch.randint(0, 6, size=(8, 1,)),\n",
    "    'reward': torch.rand(8, 1)}\n",
    ")\n",
    "\n",
    "%timeit list(Batch.split(batch, 1, shuffle=False, merge_last=True))"
   ]
  },
  {
   "cell_type": "code",
   "execution_count": null,
   "id": "2539fbd9",
   "metadata": {},
   "outputs": [],
   "source": []
  }
 ],
 "metadata": {
  "kernelspec": {
   "display_name": "Python 3 (ipykernel)",
   "language": "python",
   "name": "python3"
  },
  "language_info": {
   "codemirror_mode": {
    "name": "ipython",
    "version": 3
   },
   "file_extension": ".py",
   "mimetype": "text/x-python",
   "name": "python",
   "nbconvert_exporter": "python",
   "pygments_lexer": "ipython3",
   "version": "3.8.16"
  }
 },
 "nbformat": 4,
 "nbformat_minor": 5
}
