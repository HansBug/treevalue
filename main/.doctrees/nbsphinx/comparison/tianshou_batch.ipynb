{
 "cells": [
  {
   "cell_type": "markdown",
   "id": "9d39d946",
   "metadata": {},
   "source": [
    "# Comparison Between TreeValue and Tianshou Batch"
   ]
  },
  {
   "cell_type": "markdown",
   "id": "3c6db2d4",
   "metadata": {},
   "source": [
    "In this section, we will take a look at the feature and performance of the [Tianshou Batch](https://github.com/thu-ml/tianshou) library, which is developed by Tsinghua Machine Learning Group."
   ]
  },
  {
   "cell_type": "markdown",
   "id": "069361b0",
   "metadata": {},
   "source": [
    "Before starting the comparison, let us define some thing."
   ]
  },
  {
   "cell_type": "code",
   "execution_count": 1,
   "id": "06fc8d26",
   "metadata": {
    "execution": {
     "iopub.execute_input": "2023-02-25T09:21:05.780581Z",
     "iopub.status.busy": "2023-02-25T09:21:05.780286Z",
     "iopub.status.idle": "2023-02-25T09:21:07.057619Z",
     "shell.execute_reply": "2023-02-25T09:21:07.056463Z"
    }
   },
   "outputs": [
    {
     "name": "stderr",
     "output_type": "stream",
     "text": [
      "/opt/hostedtoolcache/Python/3.8.16/x64/lib/python3.8/site-packages/tqdm/auto.py:22: TqdmWarning: IProgress not found. Please update jupyter and ipywidgets. See https://ipywidgets.readthedocs.io/en/stable/user_install.html\n",
      "  from .autonotebook import tqdm as notebook_tqdm\n"
     ]
    }
   ],
   "source": [
    "import torch \n",
    "\n",
    "_TREE_DATA_1 = {'a': 1, 'b': 2, 'x': {'c': 3, 'd': 4}}\n",
    "_TREE_DATA_2 = {\n",
    "    'a': torch.randn(2, 3), \n",
    "    'x': {\n",
    "        'c': torch.randn(3, 4)\n",
    "    },\n",
    "}\n",
    "_TREE_DATA_3 = {\n",
    "    'obs': torch.randn(4, 84, 84),\n",
    "    'action': torch.randint(0, 6, size=(1,)),\n",
    "    'reward': torch.rand(1),\n",
    "}"
   ]
  },
  {
   "cell_type": "markdown",
   "id": "83461b25",
   "metadata": {},
   "source": [
    "## Read and Write Operation"
   ]
  },
  {
   "cell_type": "markdown",
   "id": "067b3f73",
   "metadata": {},
   "source": [
    "Reading and writing are the two most common operations in the tree data structure based on the data model (TreeValue and Tianshou Batch both belong to this type), so this section will compare the reading and writing performance of these two libraries."
   ]
  },
  {
   "cell_type": "markdown",
   "id": "5d09a5b7",
   "metadata": {},
   "source": [
    "### TreeValue's Get and Set"
   ]
  },
  {
   "cell_type": "code",
   "execution_count": 2,
   "id": "9519c4bb",
   "metadata": {
    "execution": {
     "iopub.execute_input": "2023-02-25T09:21:07.061923Z",
     "iopub.status.busy": "2023-02-25T09:21:07.061504Z",
     "iopub.status.idle": "2023-02-25T09:21:07.119808Z",
     "shell.execute_reply": "2023-02-25T09:21:07.118764Z"
    }
   },
   "outputs": [],
   "source": [
    "from treevalue import FastTreeValue\n",
    "\n",
    "t = FastTreeValue(_TREE_DATA_2)"
   ]
  },
  {
   "cell_type": "code",
   "execution_count": 3,
   "id": "11c37677",
   "metadata": {
    "execution": {
     "iopub.execute_input": "2023-02-25T09:21:07.124317Z",
     "iopub.status.busy": "2023-02-25T09:21:07.123981Z",
     "iopub.status.idle": "2023-02-25T09:21:07.138804Z",
     "shell.execute_reply": "2023-02-25T09:21:07.137682Z"
    }
   },
   "outputs": [
    {
     "data": {
      "text/plain": [
       "<FastTreeValue 0x7fec38ba0b80>\n",
       "├── 'a' --> tensor([[1.2299, 0.3318, 0.4610],\n",
       "│                   [0.6330, 0.5011, 0.8604]])\n",
       "└── 'x' --> <FastTreeValue 0x7fec38ba0df0>\n",
       "    └── 'c' --> tensor([[ 0.8670,  3.1198,  0.3209,  0.6659],\n",
       "                        [-1.1088,  1.0296,  0.1948, -0.1333],\n",
       "                        [-0.4380, -1.0501, -1.0194, -1.3315]])"
      ]
     },
     "execution_count": 3,
     "metadata": {},
     "output_type": "execute_result"
    }
   ],
   "source": [
    "t"
   ]
  },
  {
   "cell_type": "code",
   "execution_count": 4,
   "id": "fd70b0b9",
   "metadata": {
    "execution": {
     "iopub.execute_input": "2023-02-25T09:21:07.142786Z",
     "iopub.status.busy": "2023-02-25T09:21:07.142470Z",
     "iopub.status.idle": "2023-02-25T09:21:07.150841Z",
     "shell.execute_reply": "2023-02-25T09:21:07.149817Z"
    }
   },
   "outputs": [
    {
     "data": {
      "text/plain": [
       "tensor([[1.2299, 0.3318, 0.4610],\n",
       "        [0.6330, 0.5011, 0.8604]])"
      ]
     },
     "execution_count": 4,
     "metadata": {},
     "output_type": "execute_result"
    }
   ],
   "source": [
    "t.a"
   ]
  },
  {
   "cell_type": "code",
   "execution_count": 5,
   "id": "c18197bd",
   "metadata": {
    "execution": {
     "iopub.execute_input": "2023-02-25T09:21:07.156051Z",
     "iopub.status.busy": "2023-02-25T09:21:07.155013Z",
     "iopub.status.idle": "2023-02-25T09:21:13.066503Z",
     "shell.execute_reply": "2023-02-25T09:21:13.065403Z"
    }
   },
   "outputs": [
    {
     "name": "stdout",
     "output_type": "stream",
     "text": [
      "72.5 ns ± 1.09 ns per loop (mean ± std. dev. of 7 runs, 10,000,000 loops each)\n"
     ]
    }
   ],
   "source": [
    "%timeit t.a"
   ]
  },
  {
   "cell_type": "code",
   "execution_count": 6,
   "id": "bd52f867",
   "metadata": {
    "execution": {
     "iopub.execute_input": "2023-02-25T09:21:13.070163Z",
     "iopub.status.busy": "2023-02-25T09:21:13.069825Z",
     "iopub.status.idle": "2023-02-25T09:21:13.080517Z",
     "shell.execute_reply": "2023-02-25T09:21:13.079414Z"
    }
   },
   "outputs": [
    {
     "data": {
      "text/plain": [
       "<FastTreeValue 0x7fec38ba0b80>\n",
       "├── 'a' --> tensor([[-0.5965, -0.8603, -0.3423],\n",
       "│                   [ 0.8016,  0.9625, -0.8350]])\n",
       "└── 'x' --> <FastTreeValue 0x7fec38ba0df0>\n",
       "    └── 'c' --> tensor([[ 0.8670,  3.1198,  0.3209,  0.6659],\n",
       "                        [-1.1088,  1.0296,  0.1948, -0.1333],\n",
       "                        [-0.4380, -1.0501, -1.0194, -1.3315]])"
      ]
     },
     "execution_count": 6,
     "metadata": {},
     "output_type": "execute_result"
    }
   ],
   "source": [
    "new_value = torch.randn(2, 3)\n",
    "t.a = new_value\n",
    "\n",
    "t"
   ]
  },
  {
   "cell_type": "code",
   "execution_count": 7,
   "id": "bbe04d1c",
   "metadata": {
    "execution": {
     "iopub.execute_input": "2023-02-25T09:21:13.084545Z",
     "iopub.status.busy": "2023-02-25T09:21:13.083592Z",
     "iopub.status.idle": "2023-02-25T09:21:19.797582Z",
     "shell.execute_reply": "2023-02-25T09:21:19.796467Z"
    }
   },
   "outputs": [
    {
     "name": "stdout",
     "output_type": "stream",
     "text": [
      "82.3 ns ± 1.32 ns per loop (mean ± std. dev. of 7 runs, 10,000,000 loops each)\n"
     ]
    }
   ],
   "source": [
    "%timeit t.a = new_value"
   ]
  },
  {
   "cell_type": "markdown",
   "id": "48c49731",
   "metadata": {},
   "source": [
    "### Tianshou Batch's Get and Set"
   ]
  },
  {
   "cell_type": "code",
   "execution_count": 8,
   "id": "f1bb14c1",
   "metadata": {
    "execution": {
     "iopub.execute_input": "2023-02-25T09:21:19.801776Z",
     "iopub.status.busy": "2023-02-25T09:21:19.801464Z",
     "iopub.status.idle": "2023-02-25T09:21:20.283978Z",
     "shell.execute_reply": "2023-02-25T09:21:20.282891Z"
    }
   },
   "outputs": [],
   "source": [
    "from tianshou.data import Batch\n",
    "\n",
    "b = Batch(**_TREE_DATA_2)"
   ]
  },
  {
   "cell_type": "code",
   "execution_count": 9,
   "id": "cb0777c3",
   "metadata": {
    "execution": {
     "iopub.execute_input": "2023-02-25T09:21:20.288260Z",
     "iopub.status.busy": "2023-02-25T09:21:20.287831Z",
     "iopub.status.idle": "2023-02-25T09:21:20.295678Z",
     "shell.execute_reply": "2023-02-25T09:21:20.294721Z"
    }
   },
   "outputs": [
    {
     "data": {
      "text/plain": [
       "Batch(\n",
       "    a: tensor([[1.2299, 0.3318, 0.4610],\n",
       "               [0.6330, 0.5011, 0.8604]]),\n",
       "    x: Batch(\n",
       "           c: tensor([[ 0.8670,  3.1198,  0.3209,  0.6659],\n",
       "                      [-1.1088,  1.0296,  0.1948, -0.1333],\n",
       "                      [-0.4380, -1.0501, -1.0194, -1.3315]]),\n",
       "       ),\n",
       ")"
      ]
     },
     "execution_count": 9,
     "metadata": {},
     "output_type": "execute_result"
    }
   ],
   "source": [
    "b"
   ]
  },
  {
   "cell_type": "code",
   "execution_count": 10,
   "id": "43ef8ea3",
   "metadata": {
    "execution": {
     "iopub.execute_input": "2023-02-25T09:21:20.299466Z",
     "iopub.status.busy": "2023-02-25T09:21:20.298937Z",
     "iopub.status.idle": "2023-02-25T09:21:20.305407Z",
     "shell.execute_reply": "2023-02-25T09:21:20.304454Z"
    }
   },
   "outputs": [
    {
     "data": {
      "text/plain": [
       "tensor([[1.2299, 0.3318, 0.4610],\n",
       "        [0.6330, 0.5011, 0.8604]])"
      ]
     },
     "execution_count": 10,
     "metadata": {},
     "output_type": "execute_result"
    }
   ],
   "source": [
    "b.a"
   ]
  },
  {
   "cell_type": "code",
   "execution_count": 11,
   "id": "b785ab72",
   "metadata": {
    "execution": {
     "iopub.execute_input": "2023-02-25T09:21:20.308966Z",
     "iopub.status.busy": "2023-02-25T09:21:20.308649Z",
     "iopub.status.idle": "2023-02-25T09:21:25.718406Z",
     "shell.execute_reply": "2023-02-25T09:21:25.717361Z"
    }
   },
   "outputs": [
    {
     "name": "stdout",
     "output_type": "stream",
     "text": [
      "66.6 ns ± 1.08 ns per loop (mean ± std. dev. of 7 runs, 10,000,000 loops each)\n"
     ]
    }
   ],
   "source": [
    "%timeit b.a"
   ]
  },
  {
   "cell_type": "code",
   "execution_count": 12,
   "id": "ad54dc69",
   "metadata": {
    "execution": {
     "iopub.execute_input": "2023-02-25T09:21:25.722037Z",
     "iopub.status.busy": "2023-02-25T09:21:25.721554Z",
     "iopub.status.idle": "2023-02-25T09:21:25.730211Z",
     "shell.execute_reply": "2023-02-25T09:21:25.729261Z"
    }
   },
   "outputs": [
    {
     "data": {
      "text/plain": [
       "Batch(\n",
       "    a: tensor([[ 1.8299,  0.1515,  0.7221],\n",
       "               [ 0.8213, -0.9031,  1.3855]]),\n",
       "    x: Batch(\n",
       "           c: tensor([[ 0.8670,  3.1198,  0.3209,  0.6659],\n",
       "                      [-1.1088,  1.0296,  0.1948, -0.1333],\n",
       "                      [-0.4380, -1.0501, -1.0194, -1.3315]]),\n",
       "       ),\n",
       ")"
      ]
     },
     "execution_count": 12,
     "metadata": {},
     "output_type": "execute_result"
    }
   ],
   "source": [
    "new_value = torch.randn(2, 3)\n",
    "b.a = new_value\n",
    "\n",
    "b"
   ]
  },
  {
   "cell_type": "code",
   "execution_count": 13,
   "id": "29b1d0bf",
   "metadata": {
    "execution": {
     "iopub.execute_input": "2023-02-25T09:21:25.733501Z",
     "iopub.status.busy": "2023-02-25T09:21:25.732984Z",
     "iopub.status.idle": "2023-02-25T09:21:30.913632Z",
     "shell.execute_reply": "2023-02-25T09:21:30.912450Z"
    }
   },
   "outputs": [
    {
     "name": "stdout",
     "output_type": "stream",
     "text": [
      "636 ns ± 5.28 ns per loop (mean ± std. dev. of 7 runs, 1,000,000 loops each)\n"
     ]
    }
   ],
   "source": [
    "%timeit b.a = new_value"
   ]
  },
  {
   "cell_type": "markdown",
   "id": "b61ad1d0",
   "metadata": {},
   "source": [
    "## Initialization"
   ]
  },
  {
   "cell_type": "markdown",
   "id": "d70f0d54",
   "metadata": {},
   "source": [
    "### TreeValue's Initialization"
   ]
  },
  {
   "cell_type": "code",
   "execution_count": 14,
   "id": "d32a679b",
   "metadata": {
    "execution": {
     "iopub.execute_input": "2023-02-25T09:21:30.917619Z",
     "iopub.status.busy": "2023-02-25T09:21:30.917320Z",
     "iopub.status.idle": "2023-02-25T09:21:39.470090Z",
     "shell.execute_reply": "2023-02-25T09:21:39.469017Z"
    }
   },
   "outputs": [
    {
     "name": "stdout",
     "output_type": "stream",
     "text": [
      "1.04 µs ± 33.5 ns per loop (mean ± std. dev. of 7 runs, 1,000,000 loops each)\n"
     ]
    }
   ],
   "source": [
    "%timeit FastTreeValue(_TREE_DATA_1)"
   ]
  },
  {
   "cell_type": "markdown",
   "id": "24f3707b",
   "metadata": {},
   "source": [
    "### Tianshou Batch's Initialization"
   ]
  },
  {
   "cell_type": "code",
   "execution_count": 15,
   "id": "ac3958df",
   "metadata": {
    "execution": {
     "iopub.execute_input": "2023-02-25T09:21:39.473719Z",
     "iopub.status.busy": "2023-02-25T09:21:39.473243Z",
     "iopub.status.idle": "2023-02-25T09:21:50.533925Z",
     "shell.execute_reply": "2023-02-25T09:21:50.532810Z"
    }
   },
   "outputs": [
    {
     "name": "stdout",
     "output_type": "stream",
     "text": [
      "13.6 µs ± 167 ns per loop (mean ± std. dev. of 7 runs, 100,000 loops each)\n"
     ]
    }
   ],
   "source": [
    "%timeit Batch(**_TREE_DATA_1)"
   ]
  },
  {
   "cell_type": "markdown",
   "id": "1ab82e2d",
   "metadata": {},
   "source": [
    "## Deep Copy Operation"
   ]
  },
  {
   "cell_type": "code",
   "execution_count": 16,
   "id": "210a9442",
   "metadata": {
    "execution": {
     "iopub.execute_input": "2023-02-25T09:21:50.537255Z",
     "iopub.status.busy": "2023-02-25T09:21:50.536956Z",
     "iopub.status.idle": "2023-02-25T09:21:50.542430Z",
     "shell.execute_reply": "2023-02-25T09:21:50.541321Z"
    }
   },
   "outputs": [],
   "source": [
    "import copy"
   ]
  },
  {
   "cell_type": "markdown",
   "id": "5a736274",
   "metadata": {},
   "source": [
    "### Deep Copy of TreeValue"
   ]
  },
  {
   "cell_type": "code",
   "execution_count": 17,
   "id": "f9bcadd6",
   "metadata": {
    "execution": {
     "iopub.execute_input": "2023-02-25T09:21:50.546336Z",
     "iopub.status.busy": "2023-02-25T09:21:50.546001Z",
     "iopub.status.idle": "2023-02-25T09:21:52.935096Z",
     "shell.execute_reply": "2023-02-25T09:21:52.934153Z"
    }
   },
   "outputs": [
    {
     "name": "stdout",
     "output_type": "stream",
     "text": [
      "289 µs ± 11.4 µs per loop (mean ± std. dev. of 7 runs, 1,000 loops each)\n"
     ]
    }
   ],
   "source": [
    "t3 = FastTreeValue(_TREE_DATA_3)\n",
    "%timeit copy.deepcopy(t3)"
   ]
  },
  {
   "cell_type": "markdown",
   "id": "bf8be7ea",
   "metadata": {},
   "source": [
    "### Deep Copy of Tianshou Batch"
   ]
  },
  {
   "cell_type": "code",
   "execution_count": 18,
   "id": "91998e6f",
   "metadata": {
    "execution": {
     "iopub.execute_input": "2023-02-25T09:21:52.939209Z",
     "iopub.status.busy": "2023-02-25T09:21:52.938662Z",
     "iopub.status.idle": "2023-02-25T09:21:55.143101Z",
     "shell.execute_reply": "2023-02-25T09:21:55.142168Z"
    }
   },
   "outputs": [
    {
     "name": "stdout",
     "output_type": "stream",
     "text": [
      "271 µs ± 6.18 µs per loop (mean ± std. dev. of 7 runs, 1,000 loops each)\n"
     ]
    }
   ],
   "source": [
    "b3 = Batch(**_TREE_DATA_3)\n",
    "%timeit copy.deepcopy(b3)"
   ]
  },
  {
   "cell_type": "markdown",
   "id": "223162fb",
   "metadata": {},
   "source": [
    "## Stack, Concat and Split Operation"
   ]
  },
  {
   "cell_type": "markdown",
   "id": "85fa4a73",
   "metadata": {},
   "source": [
    "### Performance of TreeValue"
   ]
  },
  {
   "cell_type": "code",
   "execution_count": 19,
   "id": "a0c2b697",
   "metadata": {
    "execution": {
     "iopub.execute_input": "2023-02-25T09:21:55.146705Z",
     "iopub.status.busy": "2023-02-25T09:21:55.146230Z",
     "iopub.status.idle": "2023-02-25T09:21:55.150909Z",
     "shell.execute_reply": "2023-02-25T09:21:55.150010Z"
    }
   },
   "outputs": [],
   "source": [
    "trees = [FastTreeValue(_TREE_DATA_2) for _ in range(8)]"
   ]
  },
  {
   "cell_type": "code",
   "execution_count": 20,
   "id": "017ea5a5",
   "metadata": {
    "execution": {
     "iopub.execute_input": "2023-02-25T09:21:55.154464Z",
     "iopub.status.busy": "2023-02-25T09:21:55.153632Z",
     "iopub.status.idle": "2023-02-25T09:21:55.162854Z",
     "shell.execute_reply": "2023-02-25T09:21:55.162008Z"
    }
   },
   "outputs": [
    {
     "data": {
      "text/plain": [
       "<FastTreeValue 0x7feb8d8ea880>\n",
       "├── 'a' --> tensor([[[1.2299, 0.3318, 0.4610],\n",
       "│                    [0.6330, 0.5011, 0.8604]],\n",
       "│           \n",
       "│                   [[1.2299, 0.3318, 0.4610],\n",
       "│                    [0.6330, 0.5011, 0.8604]],\n",
       "│           \n",
       "│                   [[1.2299, 0.3318, 0.4610],\n",
       "│                    [0.6330, 0.5011, 0.8604]],\n",
       "│           \n",
       "│                   [[1.2299, 0.3318, 0.4610],\n",
       "│                    [0.6330, 0.5011, 0.8604]],\n",
       "│           \n",
       "│                   [[1.2299, 0.3318, 0.4610],\n",
       "│                    [0.6330, 0.5011, 0.8604]],\n",
       "│           \n",
       "│                   [[1.2299, 0.3318, 0.4610],\n",
       "│                    [0.6330, 0.5011, 0.8604]],\n",
       "│           \n",
       "│                   [[1.2299, 0.3318, 0.4610],\n",
       "│                    [0.6330, 0.5011, 0.8604]],\n",
       "│           \n",
       "│                   [[1.2299, 0.3318, 0.4610],\n",
       "│                    [0.6330, 0.5011, 0.8604]]])\n",
       "└── 'x' --> <FastTreeValue 0x7feb8d8ea160>\n",
       "    └── 'c' --> tensor([[[ 0.8670,  3.1198,  0.3209,  0.6659],\n",
       "                         [-1.1088,  1.0296,  0.1948, -0.1333],\n",
       "                         [-0.4380, -1.0501, -1.0194, -1.3315]],\n",
       "                \n",
       "                        [[ 0.8670,  3.1198,  0.3209,  0.6659],\n",
       "                         [-1.1088,  1.0296,  0.1948, -0.1333],\n",
       "                         [-0.4380, -1.0501, -1.0194, -1.3315]],\n",
       "                \n",
       "                        [[ 0.8670,  3.1198,  0.3209,  0.6659],\n",
       "                         [-1.1088,  1.0296,  0.1948, -0.1333],\n",
       "                         [-0.4380, -1.0501, -1.0194, -1.3315]],\n",
       "                \n",
       "                        [[ 0.8670,  3.1198,  0.3209,  0.6659],\n",
       "                         [-1.1088,  1.0296,  0.1948, -0.1333],\n",
       "                         [-0.4380, -1.0501, -1.0194, -1.3315]],\n",
       "                \n",
       "                        [[ 0.8670,  3.1198,  0.3209,  0.6659],\n",
       "                         [-1.1088,  1.0296,  0.1948, -0.1333],\n",
       "                         [-0.4380, -1.0501, -1.0194, -1.3315]],\n",
       "                \n",
       "                        [[ 0.8670,  3.1198,  0.3209,  0.6659],\n",
       "                         [-1.1088,  1.0296,  0.1948, -0.1333],\n",
       "                         [-0.4380, -1.0501, -1.0194, -1.3315]],\n",
       "                \n",
       "                        [[ 0.8670,  3.1198,  0.3209,  0.6659],\n",
       "                         [-1.1088,  1.0296,  0.1948, -0.1333],\n",
       "                         [-0.4380, -1.0501, -1.0194, -1.3315]],\n",
       "                \n",
       "                        [[ 0.8670,  3.1198,  0.3209,  0.6659],\n",
       "                         [-1.1088,  1.0296,  0.1948, -0.1333],\n",
       "                         [-0.4380, -1.0501, -1.0194, -1.3315]]])"
      ]
     },
     "execution_count": 20,
     "metadata": {},
     "output_type": "execute_result"
    }
   ],
   "source": [
    "t_stack = FastTreeValue.func(subside=True)(torch.stack)\n",
    "\n",
    "t_stack(trees)"
   ]
  },
  {
   "cell_type": "code",
   "execution_count": 21,
   "id": "f8b3f415",
   "metadata": {
    "execution": {
     "iopub.execute_input": "2023-02-25T09:21:55.166203Z",
     "iopub.status.busy": "2023-02-25T09:21:55.165337Z",
     "iopub.status.idle": "2023-02-25T09:21:58.823397Z",
     "shell.execute_reply": "2023-02-25T09:21:58.822380Z"
    }
   },
   "outputs": [
    {
     "name": "stdout",
     "output_type": "stream",
     "text": [
      "44.3 µs ± 350 ns per loop (mean ± std. dev. of 7 runs, 10,000 loops each)\n"
     ]
    }
   ],
   "source": [
    "%timeit t_stack(trees)"
   ]
  },
  {
   "cell_type": "code",
   "execution_count": 22,
   "id": "94b56771",
   "metadata": {
    "execution": {
     "iopub.execute_input": "2023-02-25T09:21:58.827360Z",
     "iopub.status.busy": "2023-02-25T09:21:58.826860Z",
     "iopub.status.idle": "2023-02-25T09:21:58.837725Z",
     "shell.execute_reply": "2023-02-25T09:21:58.836751Z"
    }
   },
   "outputs": [
    {
     "data": {
      "text/plain": [
       "<FastTreeValue 0x7feb8d8ea2e0>\n",
       "├── 'a' --> tensor([[1.2299, 0.3318, 0.4610],\n",
       "│                   [0.6330, 0.5011, 0.8604],\n",
       "│                   [1.2299, 0.3318, 0.4610],\n",
       "│                   [0.6330, 0.5011, 0.8604],\n",
       "│                   [1.2299, 0.3318, 0.4610],\n",
       "│                   [0.6330, 0.5011, 0.8604],\n",
       "│                   [1.2299, 0.3318, 0.4610],\n",
       "│                   [0.6330, 0.5011, 0.8604],\n",
       "│                   [1.2299, 0.3318, 0.4610],\n",
       "│                   [0.6330, 0.5011, 0.8604],\n",
       "│                   [1.2299, 0.3318, 0.4610],\n",
       "│                   [0.6330, 0.5011, 0.8604],\n",
       "│                   [1.2299, 0.3318, 0.4610],\n",
       "│                   [0.6330, 0.5011, 0.8604],\n",
       "│                   [1.2299, 0.3318, 0.4610],\n",
       "│                   [0.6330, 0.5011, 0.8604]])\n",
       "└── 'x' --> <FastTreeValue 0x7feb8d8ea640>\n",
       "    └── 'c' --> tensor([[ 0.8670,  3.1198,  0.3209,  0.6659],\n",
       "                        [-1.1088,  1.0296,  0.1948, -0.1333],\n",
       "                        [-0.4380, -1.0501, -1.0194, -1.3315],\n",
       "                        [ 0.8670,  3.1198,  0.3209,  0.6659],\n",
       "                        [-1.1088,  1.0296,  0.1948, -0.1333],\n",
       "                        [-0.4380, -1.0501, -1.0194, -1.3315],\n",
       "                        [ 0.8670,  3.1198,  0.3209,  0.6659],\n",
       "                        [-1.1088,  1.0296,  0.1948, -0.1333],\n",
       "                        [-0.4380, -1.0501, -1.0194, -1.3315],\n",
       "                        [ 0.8670,  3.1198,  0.3209,  0.6659],\n",
       "                        [-1.1088,  1.0296,  0.1948, -0.1333],\n",
       "                        [-0.4380, -1.0501, -1.0194, -1.3315],\n",
       "                        [ 0.8670,  3.1198,  0.3209,  0.6659],\n",
       "                        [-1.1088,  1.0296,  0.1948, -0.1333],\n",
       "                        [-0.4380, -1.0501, -1.0194, -1.3315],\n",
       "                        [ 0.8670,  3.1198,  0.3209,  0.6659],\n",
       "                        [-1.1088,  1.0296,  0.1948, -0.1333],\n",
       "                        [-0.4380, -1.0501, -1.0194, -1.3315],\n",
       "                        [ 0.8670,  3.1198,  0.3209,  0.6659],\n",
       "                        [-1.1088,  1.0296,  0.1948, -0.1333],\n",
       "                        [-0.4380, -1.0501, -1.0194, -1.3315],\n",
       "                        [ 0.8670,  3.1198,  0.3209,  0.6659],\n",
       "                        [-1.1088,  1.0296,  0.1948, -0.1333],\n",
       "                        [-0.4380, -1.0501, -1.0194, -1.3315]])"
      ]
     },
     "execution_count": 22,
     "metadata": {},
     "output_type": "execute_result"
    }
   ],
   "source": [
    "t_cat = FastTreeValue.func(subside=True)(torch.cat)\n",
    "\n",
    "t_cat(trees)"
   ]
  },
  {
   "cell_type": "code",
   "execution_count": 23,
   "id": "5e9c06a6",
   "metadata": {
    "execution": {
     "iopub.execute_input": "2023-02-25T09:21:58.841984Z",
     "iopub.status.busy": "2023-02-25T09:21:58.841653Z",
     "iopub.status.idle": "2023-02-25T09:22:02.201964Z",
     "shell.execute_reply": "2023-02-25T09:22:02.200910Z"
    }
   },
   "outputs": [
    {
     "name": "stdout",
     "output_type": "stream",
     "text": [
      "41.3 µs ± 587 ns per loop (mean ± std. dev. of 7 runs, 10,000 loops each)\n"
     ]
    }
   ],
   "source": [
    "%timeit t_cat(trees)"
   ]
  },
  {
   "cell_type": "code",
   "execution_count": 24,
   "id": "a3ab5c8f",
   "metadata": {
    "execution": {
     "iopub.execute_input": "2023-02-25T09:22:02.205408Z",
     "iopub.status.busy": "2023-02-25T09:22:02.204997Z",
     "iopub.status.idle": "2023-02-25T09:22:08.767209Z",
     "shell.execute_reply": "2023-02-25T09:22:08.766191Z"
    }
   },
   "outputs": [
    {
     "name": "stdout",
     "output_type": "stream",
     "text": [
      "80.9 µs ± 3.24 µs per loop (mean ± std. dev. of 7 runs, 10,000 loops each)\n"
     ]
    }
   ],
   "source": [
    "t_split = FastTreeValue.func(rise=True)(torch.split)\n",
    "tree = FastTreeValue({\n",
    "    'obs': torch.randn(8, 4, 84, 84),\n",
    "    'action': torch.randint(0, 6, size=(8, 1,)),\n",
    "    'reward': torch.rand(8, 1),\n",
    "})\n",
    "\n",
    "%timeit t_split(tree, 1)"
   ]
  },
  {
   "cell_type": "markdown",
   "id": "31c3ec0b",
   "metadata": {},
   "source": [
    "### Performance of Tianshou Batch"
   ]
  },
  {
   "cell_type": "code",
   "execution_count": 25,
   "id": "9ead828a",
   "metadata": {
    "execution": {
     "iopub.execute_input": "2023-02-25T09:22:08.770855Z",
     "iopub.status.busy": "2023-02-25T09:22:08.770322Z",
     "iopub.status.idle": "2023-02-25T09:22:08.782049Z",
     "shell.execute_reply": "2023-02-25T09:22:08.780831Z"
    }
   },
   "outputs": [
    {
     "data": {
      "text/plain": [
       "Batch(\n",
       "    a: tensor([[[1.2299, 0.3318, 0.4610],\n",
       "                [0.6330, 0.5011, 0.8604]],\n",
       "       \n",
       "               [[1.2299, 0.3318, 0.4610],\n",
       "                [0.6330, 0.5011, 0.8604]],\n",
       "       \n",
       "               [[1.2299, 0.3318, 0.4610],\n",
       "                [0.6330, 0.5011, 0.8604]],\n",
       "       \n",
       "               [[1.2299, 0.3318, 0.4610],\n",
       "                [0.6330, 0.5011, 0.8604]],\n",
       "       \n",
       "               [[1.2299, 0.3318, 0.4610],\n",
       "                [0.6330, 0.5011, 0.8604]],\n",
       "       \n",
       "               [[1.2299, 0.3318, 0.4610],\n",
       "                [0.6330, 0.5011, 0.8604]],\n",
       "       \n",
       "               [[1.2299, 0.3318, 0.4610],\n",
       "                [0.6330, 0.5011, 0.8604]],\n",
       "       \n",
       "               [[1.2299, 0.3318, 0.4610],\n",
       "                [0.6330, 0.5011, 0.8604]]]),\n",
       "    x: Batch(\n",
       "           c: tensor([[[ 0.8670,  3.1198,  0.3209,  0.6659],\n",
       "                       [-1.1088,  1.0296,  0.1948, -0.1333],\n",
       "                       [-0.4380, -1.0501, -1.0194, -1.3315]],\n",
       "              \n",
       "                      [[ 0.8670,  3.1198,  0.3209,  0.6659],\n",
       "                       [-1.1088,  1.0296,  0.1948, -0.1333],\n",
       "                       [-0.4380, -1.0501, -1.0194, -1.3315]],\n",
       "              \n",
       "                      [[ 0.8670,  3.1198,  0.3209,  0.6659],\n",
       "                       [-1.1088,  1.0296,  0.1948, -0.1333],\n",
       "                       [-0.4380, -1.0501, -1.0194, -1.3315]],\n",
       "              \n",
       "                      [[ 0.8670,  3.1198,  0.3209,  0.6659],\n",
       "                       [-1.1088,  1.0296,  0.1948, -0.1333],\n",
       "                       [-0.4380, -1.0501, -1.0194, -1.3315]],\n",
       "              \n",
       "                      [[ 0.8670,  3.1198,  0.3209,  0.6659],\n",
       "                       [-1.1088,  1.0296,  0.1948, -0.1333],\n",
       "                       [-0.4380, -1.0501, -1.0194, -1.3315]],\n",
       "              \n",
       "                      [[ 0.8670,  3.1198,  0.3209,  0.6659],\n",
       "                       [-1.1088,  1.0296,  0.1948, -0.1333],\n",
       "                       [-0.4380, -1.0501, -1.0194, -1.3315]],\n",
       "              \n",
       "                      [[ 0.8670,  3.1198,  0.3209,  0.6659],\n",
       "                       [-1.1088,  1.0296,  0.1948, -0.1333],\n",
       "                       [-0.4380, -1.0501, -1.0194, -1.3315]],\n",
       "              \n",
       "                      [[ 0.8670,  3.1198,  0.3209,  0.6659],\n",
       "                       [-1.1088,  1.0296,  0.1948, -0.1333],\n",
       "                       [-0.4380, -1.0501, -1.0194, -1.3315]]]),\n",
       "       ),\n",
       ")"
      ]
     },
     "execution_count": 25,
     "metadata": {},
     "output_type": "execute_result"
    }
   ],
   "source": [
    "batches = [Batch(**_TREE_DATA_2) for _ in range(8)]\n",
    "\n",
    "Batch.stack(batches)"
   ]
  },
  {
   "cell_type": "code",
   "execution_count": 26,
   "id": "ec9037a3",
   "metadata": {
    "execution": {
     "iopub.execute_input": "2023-02-25T09:22:08.785680Z",
     "iopub.status.busy": "2023-02-25T09:22:08.785152Z",
     "iopub.status.idle": "2023-02-25T09:22:17.268172Z",
     "shell.execute_reply": "2023-02-25T09:22:17.267081Z"
    }
   },
   "outputs": [
    {
     "name": "stdout",
     "output_type": "stream",
     "text": [
      "104 µs ± 2.8 µs per loop (mean ± std. dev. of 7 runs, 10,000 loops each)\n"
     ]
    }
   ],
   "source": [
    "%timeit Batch.stack(batches)"
   ]
  },
  {
   "cell_type": "code",
   "execution_count": 27,
   "id": "cb8ab77e",
   "metadata": {
    "execution": {
     "iopub.execute_input": "2023-02-25T09:22:17.271753Z",
     "iopub.status.busy": "2023-02-25T09:22:17.271451Z",
     "iopub.status.idle": "2023-02-25T09:22:17.281404Z",
     "shell.execute_reply": "2023-02-25T09:22:17.280413Z"
    }
   },
   "outputs": [
    {
     "data": {
      "text/plain": [
       "Batch(\n",
       "    a: tensor([[1.2299, 0.3318, 0.4610],\n",
       "               [0.6330, 0.5011, 0.8604],\n",
       "               [1.2299, 0.3318, 0.4610],\n",
       "               [0.6330, 0.5011, 0.8604],\n",
       "               [1.2299, 0.3318, 0.4610],\n",
       "               [0.6330, 0.5011, 0.8604],\n",
       "               [1.2299, 0.3318, 0.4610],\n",
       "               [0.6330, 0.5011, 0.8604],\n",
       "               [1.2299, 0.3318, 0.4610],\n",
       "               [0.6330, 0.5011, 0.8604],\n",
       "               [1.2299, 0.3318, 0.4610],\n",
       "               [0.6330, 0.5011, 0.8604],\n",
       "               [1.2299, 0.3318, 0.4610],\n",
       "               [0.6330, 0.5011, 0.8604],\n",
       "               [1.2299, 0.3318, 0.4610],\n",
       "               [0.6330, 0.5011, 0.8604]]),\n",
       "    x: Batch(\n",
       "           c: tensor([[ 0.8670,  3.1198,  0.3209,  0.6659],\n",
       "                      [-1.1088,  1.0296,  0.1948, -0.1333],\n",
       "                      [-0.4380, -1.0501, -1.0194, -1.3315],\n",
       "                      [ 0.8670,  3.1198,  0.3209,  0.6659],\n",
       "                      [-1.1088,  1.0296,  0.1948, -0.1333],\n",
       "                      [-0.4380, -1.0501, -1.0194, -1.3315],\n",
       "                      [ 0.8670,  3.1198,  0.3209,  0.6659],\n",
       "                      [-1.1088,  1.0296,  0.1948, -0.1333],\n",
       "                      [-0.4380, -1.0501, -1.0194, -1.3315],\n",
       "                      [ 0.8670,  3.1198,  0.3209,  0.6659],\n",
       "                      [-1.1088,  1.0296,  0.1948, -0.1333],\n",
       "                      [-0.4380, -1.0501, -1.0194, -1.3315],\n",
       "                      [ 0.8670,  3.1198,  0.3209,  0.6659],\n",
       "                      [-1.1088,  1.0296,  0.1948, -0.1333],\n",
       "                      [-0.4380, -1.0501, -1.0194, -1.3315],\n",
       "                      [ 0.8670,  3.1198,  0.3209,  0.6659],\n",
       "                      [-1.1088,  1.0296,  0.1948, -0.1333],\n",
       "                      [-0.4380, -1.0501, -1.0194, -1.3315],\n",
       "                      [ 0.8670,  3.1198,  0.3209,  0.6659],\n",
       "                      [-1.1088,  1.0296,  0.1948, -0.1333],\n",
       "                      [-0.4380, -1.0501, -1.0194, -1.3315],\n",
       "                      [ 0.8670,  3.1198,  0.3209,  0.6659],\n",
       "                      [-1.1088,  1.0296,  0.1948, -0.1333],\n",
       "                      [-0.4380, -1.0501, -1.0194, -1.3315]]),\n",
       "       ),\n",
       ")"
      ]
     },
     "execution_count": 27,
     "metadata": {},
     "output_type": "execute_result"
    }
   ],
   "source": [
    "Batch.cat(batches)"
   ]
  },
  {
   "cell_type": "code",
   "execution_count": 28,
   "id": "18dfb045",
   "metadata": {
    "execution": {
     "iopub.execute_input": "2023-02-25T09:22:17.284810Z",
     "iopub.status.busy": "2023-02-25T09:22:17.284514Z",
     "iopub.status.idle": "2023-02-25T09:22:33.236478Z",
     "shell.execute_reply": "2023-02-25T09:22:33.235128Z"
    }
   },
   "outputs": [
    {
     "name": "stdout",
     "output_type": "stream",
     "text": [
      "196 µs ± 4.18 µs per loop (mean ± std. dev. of 7 runs, 10,000 loops each)\n"
     ]
    }
   ],
   "source": [
    "%timeit Batch.cat(batches)"
   ]
  },
  {
   "cell_type": "code",
   "execution_count": 29,
   "id": "c6688e51",
   "metadata": {
    "execution": {
     "iopub.execute_input": "2023-02-25T09:22:33.240727Z",
     "iopub.status.busy": "2023-02-25T09:22:33.240087Z",
     "iopub.status.idle": "2023-02-25T09:22:38.117868Z",
     "shell.execute_reply": "2023-02-25T09:22:38.116884Z"
    }
   },
   "outputs": [
    {
     "name": "stdout",
     "output_type": "stream",
     "text": [
      "591 µs ± 21.7 µs per loop (mean ± std. dev. of 7 runs, 1,000 loops each)\n"
     ]
    }
   ],
   "source": [
    "batch = Batch({\n",
    "    'obs': torch.randn(8, 4, 84, 84),\n",
    "    'action': torch.randint(0, 6, size=(8, 1,)),\n",
    "    'reward': torch.rand(8, 1)}\n",
    ")\n",
    "\n",
    "%timeit list(Batch.split(batch, 1, shuffle=False, merge_last=True))"
   ]
  },
  {
   "cell_type": "code",
   "execution_count": null,
   "id": "2539fbd9",
   "metadata": {},
   "outputs": [],
   "source": []
  }
 ],
 "metadata": {
  "kernelspec": {
   "display_name": "Python 3 (ipykernel)",
   "language": "python",
   "name": "python3"
  },
  "language_info": {
   "codemirror_mode": {
    "name": "ipython",
    "version": 3
   },
   "file_extension": ".py",
   "mimetype": "text/x-python",
   "name": "python",
   "nbconvert_exporter": "python",
   "pygments_lexer": "ipython3",
   "version": "3.8.16"
  }
 },
 "nbformat": 4,
 "nbformat_minor": 5
}
