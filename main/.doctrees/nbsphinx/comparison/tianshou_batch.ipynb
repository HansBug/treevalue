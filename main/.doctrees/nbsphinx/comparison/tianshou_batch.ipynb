{
 "cells": [
  {
   "cell_type": "markdown",
   "id": "9d39d946",
   "metadata": {},
   "source": [
    "# Comparison Between TreeValue and Tianshou Batch"
   ]
  },
  {
   "cell_type": "markdown",
   "id": "3c6db2d4",
   "metadata": {},
   "source": [
    "In this section, we will take a look at the feature and performance of the [Tianshou Batch](https://github.com/thu-ml/tianshou) library, which is developed by Tsinghua Machine Learning Group."
   ]
  },
  {
   "cell_type": "markdown",
   "id": "069361b0",
   "metadata": {},
   "source": [
    "Before starting the comparison, let us define some thing."
   ]
  },
  {
   "cell_type": "code",
   "execution_count": 1,
   "id": "06fc8d26",
   "metadata": {
    "execution": {
     "iopub.execute_input": "2023-02-27T13:07:58.810049Z",
     "iopub.status.busy": "2023-02-27T13:07:58.809366Z",
     "iopub.status.idle": "2023-02-27T13:07:59.801756Z",
     "shell.execute_reply": "2023-02-27T13:07:59.800942Z"
    }
   },
   "outputs": [
    {
     "name": "stderr",
     "output_type": "stream",
     "text": [
      "/opt/hostedtoolcache/Python/3.8.16/x64/lib/python3.8/site-packages/tqdm/auto.py:22: TqdmWarning: IProgress not found. Please update jupyter and ipywidgets. See https://ipywidgets.readthedocs.io/en/stable/user_install.html\n",
      "  from .autonotebook import tqdm as notebook_tqdm\n"
     ]
    }
   ],
   "source": [
    "import torch \n",
    "\n",
    "_TREE_DATA_1 = {'a': 1, 'b': 2, 'x': {'c': 3, 'd': 4}}\n",
    "_TREE_DATA_2 = {\n",
    "    'a': torch.randn(2, 3), \n",
    "    'x': {\n",
    "        'c': torch.randn(3, 4)\n",
    "    },\n",
    "}\n",
    "_TREE_DATA_3 = {\n",
    "    'obs': torch.randn(4, 84, 84),\n",
    "    'action': torch.randint(0, 6, size=(1,)),\n",
    "    'reward': torch.rand(1),\n",
    "}"
   ]
  },
  {
   "cell_type": "markdown",
   "id": "83461b25",
   "metadata": {},
   "source": [
    "## Read and Write Operation"
   ]
  },
  {
   "cell_type": "markdown",
   "id": "067b3f73",
   "metadata": {},
   "source": [
    "Reading and writing are the two most common operations in the tree data structure based on the data model (TreeValue and Tianshou Batch both belong to this type), so this section will compare the reading and writing performance of these two libraries."
   ]
  },
  {
   "cell_type": "markdown",
   "id": "5d09a5b7",
   "metadata": {},
   "source": [
    "### TreeValue's Get and Set"
   ]
  },
  {
   "cell_type": "code",
   "execution_count": 2,
   "id": "9519c4bb",
   "metadata": {
    "execution": {
     "iopub.execute_input": "2023-02-27T13:07:59.805716Z",
     "iopub.status.busy": "2023-02-27T13:07:59.805386Z",
     "iopub.status.idle": "2023-02-27T13:08:00.098356Z",
     "shell.execute_reply": "2023-02-27T13:08:00.097614Z"
    }
   },
   "outputs": [],
   "source": [
    "from treevalue import FastTreeValue\n",
    "\n",
    "t = FastTreeValue(_TREE_DATA_2)"
   ]
  },
  {
   "cell_type": "code",
   "execution_count": 3,
   "id": "11c37677",
   "metadata": {
    "execution": {
     "iopub.execute_input": "2023-02-27T13:08:00.101857Z",
     "iopub.status.busy": "2023-02-27T13:08:00.101542Z",
     "iopub.status.idle": "2023-02-27T13:08:00.110438Z",
     "shell.execute_reply": "2023-02-27T13:08:00.109520Z"
    }
   },
   "outputs": [
    {
     "data": {
      "text/plain": [
       "<FastTreeValue 0x7f71600cc9d0>\n",
       "├── 'a' --> tensor([[ 0.6887,  1.5104,  0.2301],\n",
       "│                   [-1.1731,  0.3970,  0.9113]])\n",
       "└── 'x' --> <FastTreeValue 0x7f7160052340>\n",
       "    └── 'c' --> tensor([[ 0.4959, -0.5341,  2.2592,  0.8148],\n",
       "                        [ 1.0403,  0.0853, -0.8829,  0.0701],\n",
       "                        [-2.7398,  1.1966,  0.2083,  2.1392]])"
      ]
     },
     "execution_count": 3,
     "metadata": {},
     "output_type": "execute_result"
    }
   ],
   "source": [
    "t"
   ]
  },
  {
   "cell_type": "code",
   "execution_count": 4,
   "id": "fd70b0b9",
   "metadata": {
    "execution": {
     "iopub.execute_input": "2023-02-27T13:08:00.113090Z",
     "iopub.status.busy": "2023-02-27T13:08:00.112863Z",
     "iopub.status.idle": "2023-02-27T13:08:00.117739Z",
     "shell.execute_reply": "2023-02-27T13:08:00.117069Z"
    }
   },
   "outputs": [
    {
     "data": {
      "text/plain": [
       "tensor([[ 0.6887,  1.5104,  0.2301],\n",
       "        [-1.1731,  0.3970,  0.9113]])"
      ]
     },
     "execution_count": 4,
     "metadata": {},
     "output_type": "execute_result"
    }
   ],
   "source": [
    "t.a"
   ]
  },
  {
   "cell_type": "code",
   "execution_count": 5,
   "id": "c18197bd",
   "metadata": {
    "execution": {
     "iopub.execute_input": "2023-02-27T13:08:00.120288Z",
     "iopub.status.busy": "2023-02-27T13:08:00.120066Z",
     "iopub.status.idle": "2023-02-27T13:08:05.347272Z",
     "shell.execute_reply": "2023-02-27T13:08:05.346085Z"
    }
   },
   "outputs": [
    {
     "name": "stdout",
     "output_type": "stream",
     "text": [
      "64.4 ns ± 0.0312 ns per loop (mean ± std. dev. of 7 runs, 10,000,000 loops each)\n"
     ]
    }
   ],
   "source": [
    "%timeit t.a"
   ]
  },
  {
   "cell_type": "code",
   "execution_count": 6,
   "id": "bd52f867",
   "metadata": {
    "execution": {
     "iopub.execute_input": "2023-02-27T13:08:05.350539Z",
     "iopub.status.busy": "2023-02-27T13:08:05.350130Z",
     "iopub.status.idle": "2023-02-27T13:08:05.357242Z",
     "shell.execute_reply": "2023-02-27T13:08:05.356604Z"
    }
   },
   "outputs": [
    {
     "data": {
      "text/plain": [
       "<FastTreeValue 0x7f71600cc9d0>\n",
       "├── 'a' --> tensor([[-0.3221, -1.6705, -0.1928],\n",
       "│                   [-1.0414, -0.0711,  0.9267]])\n",
       "└── 'x' --> <FastTreeValue 0x7f7160052340>\n",
       "    └── 'c' --> tensor([[ 0.4959, -0.5341,  2.2592,  0.8148],\n",
       "                        [ 1.0403,  0.0853, -0.8829,  0.0701],\n",
       "                        [-2.7398,  1.1966,  0.2083,  2.1392]])"
      ]
     },
     "execution_count": 6,
     "metadata": {},
     "output_type": "execute_result"
    }
   ],
   "source": [
    "new_value = torch.randn(2, 3)\n",
    "t.a = new_value\n",
    "\n",
    "t"
   ]
  },
  {
   "cell_type": "code",
   "execution_count": 7,
   "id": "bbe04d1c",
   "metadata": {
    "execution": {
     "iopub.execute_input": "2023-02-27T13:08:05.360059Z",
     "iopub.status.busy": "2023-02-27T13:08:05.359609Z",
     "iopub.status.idle": "2023-02-27T13:08:11.188795Z",
     "shell.execute_reply": "2023-02-27T13:08:11.187910Z"
    }
   },
   "outputs": [
    {
     "name": "stdout",
     "output_type": "stream",
     "text": [
      "71.8 ns ± 0.083 ns per loop (mean ± std. dev. of 7 runs, 10,000,000 loops each)\n"
     ]
    }
   ],
   "source": [
    "%timeit t.a = new_value"
   ]
  },
  {
   "cell_type": "markdown",
   "id": "48c49731",
   "metadata": {},
   "source": [
    "### Tianshou Batch's Get and Set"
   ]
  },
  {
   "cell_type": "code",
   "execution_count": 8,
   "id": "f1bb14c1",
   "metadata": {
    "execution": {
     "iopub.execute_input": "2023-02-27T13:08:11.192157Z",
     "iopub.status.busy": "2023-02-27T13:08:11.191750Z",
     "iopub.status.idle": "2023-02-27T13:08:11.563950Z",
     "shell.execute_reply": "2023-02-27T13:08:11.563174Z"
    }
   },
   "outputs": [],
   "source": [
    "from tianshou.data import Batch\n",
    "\n",
    "b = Batch(**_TREE_DATA_2)"
   ]
  },
  {
   "cell_type": "code",
   "execution_count": 9,
   "id": "cb0777c3",
   "metadata": {
    "execution": {
     "iopub.execute_input": "2023-02-27T13:08:11.567473Z",
     "iopub.status.busy": "2023-02-27T13:08:11.566949Z",
     "iopub.status.idle": "2023-02-27T13:08:11.573082Z",
     "shell.execute_reply": "2023-02-27T13:08:11.572394Z"
    }
   },
   "outputs": [
    {
     "data": {
      "text/plain": [
       "Batch(\n",
       "    a: tensor([[ 0.6887,  1.5104,  0.2301],\n",
       "               [-1.1731,  0.3970,  0.9113]]),\n",
       "    x: Batch(\n",
       "           c: tensor([[ 0.4959, -0.5341,  2.2592,  0.8148],\n",
       "                      [ 1.0403,  0.0853, -0.8829,  0.0701],\n",
       "                      [-2.7398,  1.1966,  0.2083,  2.1392]]),\n",
       "       ),\n",
       ")"
      ]
     },
     "execution_count": 9,
     "metadata": {},
     "output_type": "execute_result"
    }
   ],
   "source": [
    "b"
   ]
  },
  {
   "cell_type": "code",
   "execution_count": 10,
   "id": "43ef8ea3",
   "metadata": {
    "execution": {
     "iopub.execute_input": "2023-02-27T13:08:11.575807Z",
     "iopub.status.busy": "2023-02-27T13:08:11.575386Z",
     "iopub.status.idle": "2023-02-27T13:08:11.580437Z",
     "shell.execute_reply": "2023-02-27T13:08:11.579767Z"
    }
   },
   "outputs": [
    {
     "data": {
      "text/plain": [
       "tensor([[ 0.6887,  1.5104,  0.2301],\n",
       "        [-1.1731,  0.3970,  0.9113]])"
      ]
     },
     "execution_count": 10,
     "metadata": {},
     "output_type": "execute_result"
    }
   ],
   "source": [
    "b.a"
   ]
  },
  {
   "cell_type": "code",
   "execution_count": 11,
   "id": "b785ab72",
   "metadata": {
    "execution": {
     "iopub.execute_input": "2023-02-27T13:08:11.582967Z",
     "iopub.status.busy": "2023-02-27T13:08:11.582604Z",
     "iopub.status.idle": "2023-02-27T13:08:16.357681Z",
     "shell.execute_reply": "2023-02-27T13:08:16.356823Z"
    }
   },
   "outputs": [
    {
     "name": "stdout",
     "output_type": "stream",
     "text": [
      "58.8 ns ± 0.0363 ns per loop (mean ± std. dev. of 7 runs, 10,000,000 loops each)\n"
     ]
    }
   ],
   "source": [
    "%timeit b.a"
   ]
  },
  {
   "cell_type": "code",
   "execution_count": 12,
   "id": "ad54dc69",
   "metadata": {
    "execution": {
     "iopub.execute_input": "2023-02-27T13:08:16.360994Z",
     "iopub.status.busy": "2023-02-27T13:08:16.360585Z",
     "iopub.status.idle": "2023-02-27T13:08:16.367086Z",
     "shell.execute_reply": "2023-02-27T13:08:16.366399Z"
    }
   },
   "outputs": [
    {
     "data": {
      "text/plain": [
       "Batch(\n",
       "    a: tensor([[-0.7172, -0.5993,  0.5684],\n",
       "               [ 2.7196, -0.2141,  1.3676]]),\n",
       "    x: Batch(\n",
       "           c: tensor([[ 0.4959, -0.5341,  2.2592,  0.8148],\n",
       "                      [ 1.0403,  0.0853, -0.8829,  0.0701],\n",
       "                      [-2.7398,  1.1966,  0.2083,  2.1392]]),\n",
       "       ),\n",
       ")"
      ]
     },
     "execution_count": 12,
     "metadata": {},
     "output_type": "execute_result"
    }
   ],
   "source": [
    "new_value = torch.randn(2, 3)\n",
    "b.a = new_value\n",
    "\n",
    "b"
   ]
  },
  {
   "cell_type": "code",
   "execution_count": 13,
   "id": "29b1d0bf",
   "metadata": {
    "execution": {
     "iopub.execute_input": "2023-02-27T13:08:16.369915Z",
     "iopub.status.busy": "2023-02-27T13:08:16.369378Z",
     "iopub.status.idle": "2023-02-27T13:08:20.408525Z",
     "shell.execute_reply": "2023-02-27T13:08:20.407644Z"
    }
   },
   "outputs": [
    {
     "name": "stdout",
     "output_type": "stream",
     "text": [
      "497 ns ± 0.069 ns per loop (mean ± std. dev. of 7 runs, 1,000,000 loops each)\n"
     ]
    }
   ],
   "source": [
    "%timeit b.a = new_value"
   ]
  },
  {
   "cell_type": "markdown",
   "id": "b61ad1d0",
   "metadata": {},
   "source": [
    "## Initialization"
   ]
  },
  {
   "cell_type": "markdown",
   "id": "d70f0d54",
   "metadata": {},
   "source": [
    "### TreeValue's Initialization"
   ]
  },
  {
   "cell_type": "code",
   "execution_count": 14,
   "id": "d32a679b",
   "metadata": {
    "execution": {
     "iopub.execute_input": "2023-02-27T13:08:20.412266Z",
     "iopub.status.busy": "2023-02-27T13:08:20.411837Z",
     "iopub.status.idle": "2023-02-27T13:08:27.058697Z",
     "shell.execute_reply": "2023-02-27T13:08:27.057857Z"
    }
   },
   "outputs": [
    {
     "name": "stdout",
     "output_type": "stream",
     "text": [
      "821 ns ± 0.809 ns per loop (mean ± std. dev. of 7 runs, 1,000,000 loops each)\n"
     ]
    }
   ],
   "source": [
    "%timeit FastTreeValue(_TREE_DATA_1)"
   ]
  },
  {
   "cell_type": "markdown",
   "id": "24f3707b",
   "metadata": {},
   "source": [
    "### Tianshou Batch's Initialization"
   ]
  },
  {
   "cell_type": "code",
   "execution_count": 15,
   "id": "ac3958df",
   "metadata": {
    "execution": {
     "iopub.execute_input": "2023-02-27T13:08:27.061882Z",
     "iopub.status.busy": "2023-02-27T13:08:27.061388Z",
     "iopub.status.idle": "2023-02-27T13:08:36.204791Z",
     "shell.execute_reply": "2023-02-27T13:08:36.203873Z"
    }
   },
   "outputs": [
    {
     "name": "stdout",
     "output_type": "stream",
     "text": [
      "11.3 µs ± 7.47 ns per loop (mean ± std. dev. of 7 runs, 100,000 loops each)\n"
     ]
    }
   ],
   "source": [
    "%timeit Batch(**_TREE_DATA_1)"
   ]
  },
  {
   "cell_type": "markdown",
   "id": "1ab82e2d",
   "metadata": {},
   "source": [
    "## Deep Copy Operation"
   ]
  },
  {
   "cell_type": "code",
   "execution_count": 16,
   "id": "210a9442",
   "metadata": {
    "execution": {
     "iopub.execute_input": "2023-02-27T13:08:36.208182Z",
     "iopub.status.busy": "2023-02-27T13:08:36.207742Z",
     "iopub.status.idle": "2023-02-27T13:08:36.211342Z",
     "shell.execute_reply": "2023-02-27T13:08:36.210626Z"
    }
   },
   "outputs": [],
   "source": [
    "import copy"
   ]
  },
  {
   "cell_type": "markdown",
   "id": "5a736274",
   "metadata": {},
   "source": [
    "### Deep Copy of TreeValue"
   ]
  },
  {
   "cell_type": "code",
   "execution_count": 17,
   "id": "f9bcadd6",
   "metadata": {
    "execution": {
     "iopub.execute_input": "2023-02-27T13:08:36.214249Z",
     "iopub.status.busy": "2023-02-27T13:08:36.213675Z",
     "iopub.status.idle": "2023-02-27T13:08:47.732860Z",
     "shell.execute_reply": "2023-02-27T13:08:47.732178Z"
    }
   },
   "outputs": [
    {
     "name": "stdout",
     "output_type": "stream",
     "text": [
      "142 µs ± 804 ns per loop (mean ± std. dev. of 7 runs, 10,000 loops each)\n"
     ]
    }
   ],
   "source": [
    "t3 = FastTreeValue(_TREE_DATA_3)\n",
    "%timeit copy.deepcopy(t3)"
   ]
  },
  {
   "cell_type": "markdown",
   "id": "bf8be7ea",
   "metadata": {},
   "source": [
    "### Deep Copy of Tianshou Batch"
   ]
  },
  {
   "cell_type": "code",
   "execution_count": 18,
   "id": "91998e6f",
   "metadata": {
    "execution": {
     "iopub.execute_input": "2023-02-27T13:08:47.736320Z",
     "iopub.status.busy": "2023-02-27T13:08:47.735647Z",
     "iopub.status.idle": "2023-02-27T13:08:59.214795Z",
     "shell.execute_reply": "2023-02-27T13:08:59.214158Z"
    }
   },
   "outputs": [
    {
     "name": "stdout",
     "output_type": "stream",
     "text": [
      "142 µs ± 468 ns per loop (mean ± std. dev. of 7 runs, 10,000 loops each)\n"
     ]
    }
   ],
   "source": [
    "b3 = Batch(**_TREE_DATA_3)\n",
    "%timeit copy.deepcopy(b3)"
   ]
  },
  {
   "cell_type": "markdown",
   "id": "223162fb",
   "metadata": {},
   "source": [
    "## Stack, Concat and Split Operation"
   ]
  },
  {
   "cell_type": "markdown",
   "id": "85fa4a73",
   "metadata": {},
   "source": [
    "### Performance of TreeValue"
   ]
  },
  {
   "cell_type": "code",
   "execution_count": 19,
   "id": "a0c2b697",
   "metadata": {
    "execution": {
     "iopub.execute_input": "2023-02-27T13:08:59.217901Z",
     "iopub.status.busy": "2023-02-27T13:08:59.217390Z",
     "iopub.status.idle": "2023-02-27T13:08:59.220885Z",
     "shell.execute_reply": "2023-02-27T13:08:59.220331Z"
    }
   },
   "outputs": [],
   "source": [
    "trees = [FastTreeValue(_TREE_DATA_2) for _ in range(8)]"
   ]
  },
  {
   "cell_type": "code",
   "execution_count": 20,
   "id": "017ea5a5",
   "metadata": {
    "execution": {
     "iopub.execute_input": "2023-02-27T13:08:59.223329Z",
     "iopub.status.busy": "2023-02-27T13:08:59.222891Z",
     "iopub.status.idle": "2023-02-27T13:08:59.230018Z",
     "shell.execute_reply": "2023-02-27T13:08:59.229463Z"
    }
   },
   "outputs": [
    {
     "data": {
      "text/plain": [
       "<FastTreeValue 0x7f70ab2e5850>\n",
       "├── 'a' --> tensor([[[ 0.6887,  1.5104,  0.2301],\n",
       "│                    [-1.1731,  0.3970,  0.9113]],\n",
       "│           \n",
       "│                   [[ 0.6887,  1.5104,  0.2301],\n",
       "│                    [-1.1731,  0.3970,  0.9113]],\n",
       "│           \n",
       "│                   [[ 0.6887,  1.5104,  0.2301],\n",
       "│                    [-1.1731,  0.3970,  0.9113]],\n",
       "│           \n",
       "│                   [[ 0.6887,  1.5104,  0.2301],\n",
       "│                    [-1.1731,  0.3970,  0.9113]],\n",
       "│           \n",
       "│                   [[ 0.6887,  1.5104,  0.2301],\n",
       "│                    [-1.1731,  0.3970,  0.9113]],\n",
       "│           \n",
       "│                   [[ 0.6887,  1.5104,  0.2301],\n",
       "│                    [-1.1731,  0.3970,  0.9113]],\n",
       "│           \n",
       "│                   [[ 0.6887,  1.5104,  0.2301],\n",
       "│                    [-1.1731,  0.3970,  0.9113]],\n",
       "│           \n",
       "│                   [[ 0.6887,  1.5104,  0.2301],\n",
       "│                    [-1.1731,  0.3970,  0.9113]]])\n",
       "└── 'x' --> <FastTreeValue 0x7f70ab2e5a00>\n",
       "    └── 'c' --> tensor([[[ 0.4959, -0.5341,  2.2592,  0.8148],\n",
       "                         [ 1.0403,  0.0853, -0.8829,  0.0701],\n",
       "                         [-2.7398,  1.1966,  0.2083,  2.1392]],\n",
       "                \n",
       "                        [[ 0.4959, -0.5341,  2.2592,  0.8148],\n",
       "                         [ 1.0403,  0.0853, -0.8829,  0.0701],\n",
       "                         [-2.7398,  1.1966,  0.2083,  2.1392]],\n",
       "                \n",
       "                        [[ 0.4959, -0.5341,  2.2592,  0.8148],\n",
       "                         [ 1.0403,  0.0853, -0.8829,  0.0701],\n",
       "                         [-2.7398,  1.1966,  0.2083,  2.1392]],\n",
       "                \n",
       "                        [[ 0.4959, -0.5341,  2.2592,  0.8148],\n",
       "                         [ 1.0403,  0.0853, -0.8829,  0.0701],\n",
       "                         [-2.7398,  1.1966,  0.2083,  2.1392]],\n",
       "                \n",
       "                        [[ 0.4959, -0.5341,  2.2592,  0.8148],\n",
       "                         [ 1.0403,  0.0853, -0.8829,  0.0701],\n",
       "                         [-2.7398,  1.1966,  0.2083,  2.1392]],\n",
       "                \n",
       "                        [[ 0.4959, -0.5341,  2.2592,  0.8148],\n",
       "                         [ 1.0403,  0.0853, -0.8829,  0.0701],\n",
       "                         [-2.7398,  1.1966,  0.2083,  2.1392]],\n",
       "                \n",
       "                        [[ 0.4959, -0.5341,  2.2592,  0.8148],\n",
       "                         [ 1.0403,  0.0853, -0.8829,  0.0701],\n",
       "                         [-2.7398,  1.1966,  0.2083,  2.1392]],\n",
       "                \n",
       "                        [[ 0.4959, -0.5341,  2.2592,  0.8148],\n",
       "                         [ 1.0403,  0.0853, -0.8829,  0.0701],\n",
       "                         [-2.7398,  1.1966,  0.2083,  2.1392]]])"
      ]
     },
     "execution_count": 20,
     "metadata": {},
     "output_type": "execute_result"
    }
   ],
   "source": [
    "t_stack = FastTreeValue.func(subside=True)(torch.stack)\n",
    "\n",
    "t_stack(trees)"
   ]
  },
  {
   "cell_type": "code",
   "execution_count": 21,
   "id": "f8b3f415",
   "metadata": {
    "execution": {
     "iopub.execute_input": "2023-02-27T13:08:59.232473Z",
     "iopub.status.busy": "2023-02-27T13:08:59.232018Z",
     "iopub.status.idle": "2023-02-27T13:09:01.853023Z",
     "shell.execute_reply": "2023-02-27T13:09:01.852098Z"
    }
   },
   "outputs": [
    {
     "name": "stdout",
     "output_type": "stream",
     "text": [
      "32.3 µs ± 122 ns per loop (mean ± std. dev. of 7 runs, 10,000 loops each)\n"
     ]
    }
   ],
   "source": [
    "%timeit t_stack(trees)"
   ]
  },
  {
   "cell_type": "code",
   "execution_count": 22,
   "id": "94b56771",
   "metadata": {
    "execution": {
     "iopub.execute_input": "2023-02-27T13:09:01.856244Z",
     "iopub.status.busy": "2023-02-27T13:09:01.855977Z",
     "iopub.status.idle": "2023-02-27T13:09:01.863606Z",
     "shell.execute_reply": "2023-02-27T13:09:01.862914Z"
    }
   },
   "outputs": [
    {
     "data": {
      "text/plain": [
       "<FastTreeValue 0x7f70ab2e5880>\n",
       "├── 'a' --> tensor([[ 0.6887,  1.5104,  0.2301],\n",
       "│                   [-1.1731,  0.3970,  0.9113],\n",
       "│                   [ 0.6887,  1.5104,  0.2301],\n",
       "│                   [-1.1731,  0.3970,  0.9113],\n",
       "│                   [ 0.6887,  1.5104,  0.2301],\n",
       "│                   [-1.1731,  0.3970,  0.9113],\n",
       "│                   [ 0.6887,  1.5104,  0.2301],\n",
       "│                   [-1.1731,  0.3970,  0.9113],\n",
       "│                   [ 0.6887,  1.5104,  0.2301],\n",
       "│                   [-1.1731,  0.3970,  0.9113],\n",
       "│                   [ 0.6887,  1.5104,  0.2301],\n",
       "│                   [-1.1731,  0.3970,  0.9113],\n",
       "│                   [ 0.6887,  1.5104,  0.2301],\n",
       "│                   [-1.1731,  0.3970,  0.9113],\n",
       "│                   [ 0.6887,  1.5104,  0.2301],\n",
       "│                   [-1.1731,  0.3970,  0.9113]])\n",
       "└── 'x' --> <FastTreeValue 0x7f70ab2e5610>\n",
       "    └── 'c' --> tensor([[ 0.4959, -0.5341,  2.2592,  0.8148],\n",
       "                        [ 1.0403,  0.0853, -0.8829,  0.0701],\n",
       "                        [-2.7398,  1.1966,  0.2083,  2.1392],\n",
       "                        [ 0.4959, -0.5341,  2.2592,  0.8148],\n",
       "                        [ 1.0403,  0.0853, -0.8829,  0.0701],\n",
       "                        [-2.7398,  1.1966,  0.2083,  2.1392],\n",
       "                        [ 0.4959, -0.5341,  2.2592,  0.8148],\n",
       "                        [ 1.0403,  0.0853, -0.8829,  0.0701],\n",
       "                        [-2.7398,  1.1966,  0.2083,  2.1392],\n",
       "                        [ 0.4959, -0.5341,  2.2592,  0.8148],\n",
       "                        [ 1.0403,  0.0853, -0.8829,  0.0701],\n",
       "                        [-2.7398,  1.1966,  0.2083,  2.1392],\n",
       "                        [ 0.4959, -0.5341,  2.2592,  0.8148],\n",
       "                        [ 1.0403,  0.0853, -0.8829,  0.0701],\n",
       "                        [-2.7398,  1.1966,  0.2083,  2.1392],\n",
       "                        [ 0.4959, -0.5341,  2.2592,  0.8148],\n",
       "                        [ 1.0403,  0.0853, -0.8829,  0.0701],\n",
       "                        [-2.7398,  1.1966,  0.2083,  2.1392],\n",
       "                        [ 0.4959, -0.5341,  2.2592,  0.8148],\n",
       "                        [ 1.0403,  0.0853, -0.8829,  0.0701],\n",
       "                        [-2.7398,  1.1966,  0.2083,  2.1392],\n",
       "                        [ 0.4959, -0.5341,  2.2592,  0.8148],\n",
       "                        [ 1.0403,  0.0853, -0.8829,  0.0701],\n",
       "                        [-2.7398,  1.1966,  0.2083,  2.1392]])"
      ]
     },
     "execution_count": 22,
     "metadata": {},
     "output_type": "execute_result"
    }
   ],
   "source": [
    "t_cat = FastTreeValue.func(subside=True)(torch.cat)\n",
    "\n",
    "t_cat(trees)"
   ]
  },
  {
   "cell_type": "code",
   "execution_count": 23,
   "id": "5e9c06a6",
   "metadata": {
    "execution": {
     "iopub.execute_input": "2023-02-27T13:09:01.866304Z",
     "iopub.status.busy": "2023-02-27T13:09:01.865846Z",
     "iopub.status.idle": "2023-02-27T13:09:04.336875Z",
     "shell.execute_reply": "2023-02-27T13:09:04.335970Z"
    }
   },
   "outputs": [
    {
     "name": "stdout",
     "output_type": "stream",
     "text": [
      "30.4 µs ± 52.3 ns per loop (mean ± std. dev. of 7 runs, 10,000 loops each)\n"
     ]
    }
   ],
   "source": [
    "%timeit t_cat(trees)"
   ]
  },
  {
   "cell_type": "code",
   "execution_count": 24,
   "id": "a3ab5c8f",
   "metadata": {
    "execution": {
     "iopub.execute_input": "2023-02-27T13:09:04.340980Z",
     "iopub.status.busy": "2023-02-27T13:09:04.339824Z",
     "iopub.status.idle": "2023-02-27T13:09:08.881629Z",
     "shell.execute_reply": "2023-02-27T13:09:08.880374Z"
    }
   },
   "outputs": [
    {
     "name": "stdout",
     "output_type": "stream",
     "text": [
      "55.8 µs ± 52.4 ns per loop (mean ± std. dev. of 7 runs, 10,000 loops each)\n"
     ]
    }
   ],
   "source": [
    "t_split = FastTreeValue.func(rise=True)(torch.split)\n",
    "tree = FastTreeValue({\n",
    "    'obs': torch.randn(8, 4, 84, 84),\n",
    "    'action': torch.randint(0, 6, size=(8, 1,)),\n",
    "    'reward': torch.rand(8, 1),\n",
    "})\n",
    "\n",
    "%timeit t_split(tree, 1)"
   ]
  },
  {
   "cell_type": "markdown",
   "id": "31c3ec0b",
   "metadata": {},
   "source": [
    "### Performance of Tianshou Batch"
   ]
  },
  {
   "cell_type": "code",
   "execution_count": 25,
   "id": "9ead828a",
   "metadata": {
    "execution": {
     "iopub.execute_input": "2023-02-27T13:09:08.885046Z",
     "iopub.status.busy": "2023-02-27T13:09:08.884581Z",
     "iopub.status.idle": "2023-02-27T13:09:08.893955Z",
     "shell.execute_reply": "2023-02-27T13:09:08.893331Z"
    }
   },
   "outputs": [
    {
     "data": {
      "text/plain": [
       "Batch(\n",
       "    a: tensor([[[ 0.6887,  1.5104,  0.2301],\n",
       "                [-1.1731,  0.3970,  0.9113]],\n",
       "       \n",
       "               [[ 0.6887,  1.5104,  0.2301],\n",
       "                [-1.1731,  0.3970,  0.9113]],\n",
       "       \n",
       "               [[ 0.6887,  1.5104,  0.2301],\n",
       "                [-1.1731,  0.3970,  0.9113]],\n",
       "       \n",
       "               [[ 0.6887,  1.5104,  0.2301],\n",
       "                [-1.1731,  0.3970,  0.9113]],\n",
       "       \n",
       "               [[ 0.6887,  1.5104,  0.2301],\n",
       "                [-1.1731,  0.3970,  0.9113]],\n",
       "       \n",
       "               [[ 0.6887,  1.5104,  0.2301],\n",
       "                [-1.1731,  0.3970,  0.9113]],\n",
       "       \n",
       "               [[ 0.6887,  1.5104,  0.2301],\n",
       "                [-1.1731,  0.3970,  0.9113]],\n",
       "       \n",
       "               [[ 0.6887,  1.5104,  0.2301],\n",
       "                [-1.1731,  0.3970,  0.9113]]]),\n",
       "    x: Batch(\n",
       "           c: tensor([[[ 0.4959, -0.5341,  2.2592,  0.8148],\n",
       "                       [ 1.0403,  0.0853, -0.8829,  0.0701],\n",
       "                       [-2.7398,  1.1966,  0.2083,  2.1392]],\n",
       "              \n",
       "                      [[ 0.4959, -0.5341,  2.2592,  0.8148],\n",
       "                       [ 1.0403,  0.0853, -0.8829,  0.0701],\n",
       "                       [-2.7398,  1.1966,  0.2083,  2.1392]],\n",
       "              \n",
       "                      [[ 0.4959, -0.5341,  2.2592,  0.8148],\n",
       "                       [ 1.0403,  0.0853, -0.8829,  0.0701],\n",
       "                       [-2.7398,  1.1966,  0.2083,  2.1392]],\n",
       "              \n",
       "                      [[ 0.4959, -0.5341,  2.2592,  0.8148],\n",
       "                       [ 1.0403,  0.0853, -0.8829,  0.0701],\n",
       "                       [-2.7398,  1.1966,  0.2083,  2.1392]],\n",
       "              \n",
       "                      [[ 0.4959, -0.5341,  2.2592,  0.8148],\n",
       "                       [ 1.0403,  0.0853, -0.8829,  0.0701],\n",
       "                       [-2.7398,  1.1966,  0.2083,  2.1392]],\n",
       "              \n",
       "                      [[ 0.4959, -0.5341,  2.2592,  0.8148],\n",
       "                       [ 1.0403,  0.0853, -0.8829,  0.0701],\n",
       "                       [-2.7398,  1.1966,  0.2083,  2.1392]],\n",
       "              \n",
       "                      [[ 0.4959, -0.5341,  2.2592,  0.8148],\n",
       "                       [ 1.0403,  0.0853, -0.8829,  0.0701],\n",
       "                       [-2.7398,  1.1966,  0.2083,  2.1392]],\n",
       "              \n",
       "                      [[ 0.4959, -0.5341,  2.2592,  0.8148],\n",
       "                       [ 1.0403,  0.0853, -0.8829,  0.0701],\n",
       "                       [-2.7398,  1.1966,  0.2083,  2.1392]]]),\n",
       "       ),\n",
       ")"
      ]
     },
     "execution_count": 25,
     "metadata": {},
     "output_type": "execute_result"
    }
   ],
   "source": [
    "batches = [Batch(**_TREE_DATA_2) for _ in range(8)]\n",
    "\n",
    "Batch.stack(batches)"
   ]
  },
  {
   "cell_type": "code",
   "execution_count": 26,
   "id": "ec9037a3",
   "metadata": {
    "execution": {
     "iopub.execute_input": "2023-02-27T13:09:08.896893Z",
     "iopub.status.busy": "2023-02-27T13:09:08.896518Z",
     "iopub.status.idle": "2023-02-27T13:09:15.203074Z",
     "shell.execute_reply": "2023-02-27T13:09:15.202213Z"
    }
   },
   "outputs": [
    {
     "name": "stdout",
     "output_type": "stream",
     "text": [
      "77.6 µs ± 172 ns per loop (mean ± std. dev. of 7 runs, 10,000 loops each)\n"
     ]
    }
   ],
   "source": [
    "%timeit Batch.stack(batches)"
   ]
  },
  {
   "cell_type": "code",
   "execution_count": 27,
   "id": "cb8ab77e",
   "metadata": {
    "execution": {
     "iopub.execute_input": "2023-02-27T13:09:15.206234Z",
     "iopub.status.busy": "2023-02-27T13:09:15.205757Z",
     "iopub.status.idle": "2023-02-27T13:09:15.212903Z",
     "shell.execute_reply": "2023-02-27T13:09:15.212207Z"
    }
   },
   "outputs": [
    {
     "data": {
      "text/plain": [
       "Batch(\n",
       "    a: tensor([[ 0.6887,  1.5104,  0.2301],\n",
       "               [-1.1731,  0.3970,  0.9113],\n",
       "               [ 0.6887,  1.5104,  0.2301],\n",
       "               [-1.1731,  0.3970,  0.9113],\n",
       "               [ 0.6887,  1.5104,  0.2301],\n",
       "               [-1.1731,  0.3970,  0.9113],\n",
       "               [ 0.6887,  1.5104,  0.2301],\n",
       "               [-1.1731,  0.3970,  0.9113],\n",
       "               [ 0.6887,  1.5104,  0.2301],\n",
       "               [-1.1731,  0.3970,  0.9113],\n",
       "               [ 0.6887,  1.5104,  0.2301],\n",
       "               [-1.1731,  0.3970,  0.9113],\n",
       "               [ 0.6887,  1.5104,  0.2301],\n",
       "               [-1.1731,  0.3970,  0.9113],\n",
       "               [ 0.6887,  1.5104,  0.2301],\n",
       "               [-1.1731,  0.3970,  0.9113]]),\n",
       "    x: Batch(\n",
       "           c: tensor([[ 0.4959, -0.5341,  2.2592,  0.8148],\n",
       "                      [ 1.0403,  0.0853, -0.8829,  0.0701],\n",
       "                      [-2.7398,  1.1966,  0.2083,  2.1392],\n",
       "                      [ 0.4959, -0.5341,  2.2592,  0.8148],\n",
       "                      [ 1.0403,  0.0853, -0.8829,  0.0701],\n",
       "                      [-2.7398,  1.1966,  0.2083,  2.1392],\n",
       "                      [ 0.4959, -0.5341,  2.2592,  0.8148],\n",
       "                      [ 1.0403,  0.0853, -0.8829,  0.0701],\n",
       "                      [-2.7398,  1.1966,  0.2083,  2.1392],\n",
       "                      [ 0.4959, -0.5341,  2.2592,  0.8148],\n",
       "                      [ 1.0403,  0.0853, -0.8829,  0.0701],\n",
       "                      [-2.7398,  1.1966,  0.2083,  2.1392],\n",
       "                      [ 0.4959, -0.5341,  2.2592,  0.8148],\n",
       "                      [ 1.0403,  0.0853, -0.8829,  0.0701],\n",
       "                      [-2.7398,  1.1966,  0.2083,  2.1392],\n",
       "                      [ 0.4959, -0.5341,  2.2592,  0.8148],\n",
       "                      [ 1.0403,  0.0853, -0.8829,  0.0701],\n",
       "                      [-2.7398,  1.1966,  0.2083,  2.1392],\n",
       "                      [ 0.4959, -0.5341,  2.2592,  0.8148],\n",
       "                      [ 1.0403,  0.0853, -0.8829,  0.0701],\n",
       "                      [-2.7398,  1.1966,  0.2083,  2.1392],\n",
       "                      [ 0.4959, -0.5341,  2.2592,  0.8148],\n",
       "                      [ 1.0403,  0.0853, -0.8829,  0.0701],\n",
       "                      [-2.7398,  1.1966,  0.2083,  2.1392]]),\n",
       "       ),\n",
       ")"
      ]
     },
     "execution_count": 27,
     "metadata": {},
     "output_type": "execute_result"
    }
   ],
   "source": [
    "Batch.cat(batches)"
   ]
  },
  {
   "cell_type": "code",
   "execution_count": 28,
   "id": "18dfb045",
   "metadata": {
    "execution": {
     "iopub.execute_input": "2023-02-27T13:09:15.215755Z",
     "iopub.status.busy": "2023-02-27T13:09:15.215400Z",
     "iopub.status.idle": "2023-02-27T13:09:26.943279Z",
     "shell.execute_reply": "2023-02-27T13:09:26.942430Z"
    }
   },
   "outputs": [
    {
     "name": "stdout",
     "output_type": "stream",
     "text": [
      "144 µs ± 1.6 µs per loop (mean ± std. dev. of 7 runs, 10,000 loops each)\n"
     ]
    }
   ],
   "source": [
    "%timeit Batch.cat(batches)"
   ]
  },
  {
   "cell_type": "code",
   "execution_count": 29,
   "id": "c6688e51",
   "metadata": {
    "execution": {
     "iopub.execute_input": "2023-02-27T13:09:26.946554Z",
     "iopub.status.busy": "2023-02-27T13:09:26.946068Z",
     "iopub.status.idle": "2023-02-27T13:09:29.603319Z",
     "shell.execute_reply": "2023-02-27T13:09:29.602559Z"
    }
   },
   "outputs": [
    {
     "name": "stdout",
     "output_type": "stream",
     "text": [
      "327 µs ± 2.29 µs per loop (mean ± std. dev. of 7 runs, 1,000 loops each)\n"
     ]
    }
   ],
   "source": [
    "batch = Batch({\n",
    "    'obs': torch.randn(8, 4, 84, 84),\n",
    "    'action': torch.randint(0, 6, size=(8, 1,)),\n",
    "    'reward': torch.rand(8, 1)}\n",
    ")\n",
    "\n",
    "%timeit list(Batch.split(batch, 1, shuffle=False, merge_last=True))"
   ]
  },
  {
   "cell_type": "code",
   "execution_count": null,
   "id": "2539fbd9",
   "metadata": {},
   "outputs": [],
   "source": []
  }
 ],
 "metadata": {
  "kernelspec": {
   "display_name": "Python 3 (ipykernel)",
   "language": "python",
   "name": "python3"
  },
  "language_info": {
   "codemirror_mode": {
    "name": "ipython",
    "version": 3
   },
   "file_extension": ".py",
   "mimetype": "text/x-python",
   "name": "python",
   "nbconvert_exporter": "python",
   "pygments_lexer": "ipython3",
   "version": "3.8.16"
  }
 },
 "nbformat": 4,
 "nbformat_minor": 5
}
