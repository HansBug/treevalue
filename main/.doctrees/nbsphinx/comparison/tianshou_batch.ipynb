{
 "cells": [
  {
   "cell_type": "markdown",
   "id": "9d39d946",
   "metadata": {},
   "source": [
    "# Comparison Between TreeValue and Tianshou Batch"
   ]
  },
  {
   "cell_type": "markdown",
   "id": "3c6db2d4",
   "metadata": {},
   "source": [
    "In this section, we will take a look at the feature and performance of the [Tianshou Batch](https://github.com/thu-ml/tianshou) library, which is developed by Tsinghua Machine Learning Group."
   ]
  },
  {
   "cell_type": "markdown",
   "id": "069361b0",
   "metadata": {},
   "source": [
    "Before starting the comparison, let us define some thing."
   ]
  },
  {
   "cell_type": "code",
   "execution_count": 1,
   "id": "06fc8d26",
   "metadata": {
    "execution": {
     "iopub.execute_input": "2023-01-19T14:56:27.806916Z",
     "iopub.status.busy": "2023-01-19T14:56:27.806461Z",
     "iopub.status.idle": "2023-01-19T14:56:28.812177Z",
     "shell.execute_reply": "2023-01-19T14:56:28.811367Z"
    }
   },
   "outputs": [
    {
     "name": "stderr",
     "output_type": "stream",
     "text": [
      "/opt/hostedtoolcache/Python/3.8.15/x64/lib/python3.8/site-packages/tqdm/auto.py:22: TqdmWarning: IProgress not found. Please update jupyter and ipywidgets. See https://ipywidgets.readthedocs.io/en/stable/user_install.html\n",
      "  from .autonotebook import tqdm as notebook_tqdm\n"
     ]
    }
   ],
   "source": [
    "import torch \n",
    "\n",
    "_TREE_DATA_1 = {'a': 1, 'b': 2, 'x': {'c': 3, 'd': 4}}\n",
    "_TREE_DATA_2 = {\n",
    "    'a': torch.randn(2, 3), \n",
    "    'x': {\n",
    "        'c': torch.randn(3, 4)\n",
    "    },\n",
    "}\n",
    "_TREE_DATA_3 = {\n",
    "    'obs': torch.randn(4, 84, 84),\n",
    "    'action': torch.randint(0, 6, size=(1,)),\n",
    "    'reward': torch.rand(1),\n",
    "}"
   ]
  },
  {
   "cell_type": "markdown",
   "id": "83461b25",
   "metadata": {},
   "source": [
    "## Read and Write Operation"
   ]
  },
  {
   "cell_type": "markdown",
   "id": "067b3f73",
   "metadata": {},
   "source": [
    "Reading and writing are the two most common operations in the tree data structure based on the data model (TreeValue and Tianshou Batch both belong to this type), so this section will compare the reading and writing performance of these two libraries."
   ]
  },
  {
   "cell_type": "markdown",
   "id": "5d09a5b7",
   "metadata": {},
   "source": [
    "### TreeValue's Get and Set"
   ]
  },
  {
   "cell_type": "code",
   "execution_count": 2,
   "id": "9519c4bb",
   "metadata": {
    "execution": {
     "iopub.execute_input": "2023-01-19T14:56:28.816107Z",
     "iopub.status.busy": "2023-01-19T14:56:28.815767Z",
     "iopub.status.idle": "2023-01-19T14:56:28.850476Z",
     "shell.execute_reply": "2023-01-19T14:56:28.849692Z"
    }
   },
   "outputs": [],
   "source": [
    "from treevalue import FastTreeValue\n",
    "\n",
    "t = FastTreeValue(_TREE_DATA_2)"
   ]
  },
  {
   "cell_type": "code",
   "execution_count": 3,
   "id": "11c37677",
   "metadata": {
    "execution": {
     "iopub.execute_input": "2023-01-19T14:56:28.854518Z",
     "iopub.status.busy": "2023-01-19T14:56:28.854261Z",
     "iopub.status.idle": "2023-01-19T14:56:28.864018Z",
     "shell.execute_reply": "2023-01-19T14:56:28.863378Z"
    }
   },
   "outputs": [
    {
     "data": {
      "text/plain": [
       "<FastTreeValue 0x7f481cced8b0>\n",
       "├── 'a' --> tensor([[-1.1264, -0.8324,  0.1765],\n",
       "│                   [-0.4915,  1.8014,  0.6185]])\n",
       "└── 'x' --> <FastTreeValue 0x7f481cced7c0>\n",
       "    └── 'c' --> tensor([[ 1.0274, -1.1936,  1.4719, -1.0575],\n",
       "                        [ 0.0724, -0.4779,  0.1842, -0.9586],\n",
       "                        [ 0.1243, -0.7194, -0.3133,  0.8046]])"
      ]
     },
     "execution_count": 3,
     "metadata": {},
     "output_type": "execute_result"
    }
   ],
   "source": [
    "t"
   ]
  },
  {
   "cell_type": "code",
   "execution_count": 4,
   "id": "fd70b0b9",
   "metadata": {
    "execution": {
     "iopub.execute_input": "2023-01-19T14:56:28.867408Z",
     "iopub.status.busy": "2023-01-19T14:56:28.866957Z",
     "iopub.status.idle": "2023-01-19T14:56:28.871990Z",
     "shell.execute_reply": "2023-01-19T14:56:28.871323Z"
    }
   },
   "outputs": [
    {
     "data": {
      "text/plain": [
       "tensor([[-1.1264, -0.8324,  0.1765],\n",
       "        [-0.4915,  1.8014,  0.6185]])"
      ]
     },
     "execution_count": 4,
     "metadata": {},
     "output_type": "execute_result"
    }
   ],
   "source": [
    "t.a"
   ]
  },
  {
   "cell_type": "code",
   "execution_count": 5,
   "id": "c18197bd",
   "metadata": {
    "execution": {
     "iopub.execute_input": "2023-01-19T14:56:28.874861Z",
     "iopub.status.busy": "2023-01-19T14:56:28.874632Z",
     "iopub.status.idle": "2023-01-19T14:56:34.322246Z",
     "shell.execute_reply": "2023-01-19T14:56:34.321501Z"
    }
   },
   "outputs": [
    {
     "name": "stdout",
     "output_type": "stream",
     "text": [
      "67.1 ns ± 0.0674 ns per loop (mean ± std. dev. of 7 runs, 10,000,000 loops each)\n"
     ]
    }
   ],
   "source": [
    "%timeit t.a"
   ]
  },
  {
   "cell_type": "code",
   "execution_count": 6,
   "id": "bd52f867",
   "metadata": {
    "execution": {
     "iopub.execute_input": "2023-01-19T14:56:34.326016Z",
     "iopub.status.busy": "2023-01-19T14:56:34.325292Z",
     "iopub.status.idle": "2023-01-19T14:56:34.331914Z",
     "shell.execute_reply": "2023-01-19T14:56:34.331201Z"
    }
   },
   "outputs": [
    {
     "data": {
      "text/plain": [
       "<FastTreeValue 0x7f481cced8b0>\n",
       "├── 'a' --> tensor([[ 0.1291, -0.8850, -1.2406],\n",
       "│                   [ 0.8861,  0.7607, -0.0806]])\n",
       "└── 'x' --> <FastTreeValue 0x7f481cced7c0>\n",
       "    └── 'c' --> tensor([[ 1.0274, -1.1936,  1.4719, -1.0575],\n",
       "                        [ 0.0724, -0.4779,  0.1842, -0.9586],\n",
       "                        [ 0.1243, -0.7194, -0.3133,  0.8046]])"
      ]
     },
     "execution_count": 6,
     "metadata": {},
     "output_type": "execute_result"
    }
   ],
   "source": [
    "new_value = torch.randn(2, 3)\n",
    "t.a = new_value\n",
    "\n",
    "t"
   ]
  },
  {
   "cell_type": "code",
   "execution_count": 7,
   "id": "bbe04d1c",
   "metadata": {
    "execution": {
     "iopub.execute_input": "2023-01-19T14:56:34.334847Z",
     "iopub.status.busy": "2023-01-19T14:56:34.334473Z",
     "iopub.status.idle": "2023-01-19T14:56:39.708401Z",
     "shell.execute_reply": "2023-01-19T14:56:39.707643Z"
    }
   },
   "outputs": [
    {
     "name": "stdout",
     "output_type": "stream",
     "text": [
      "66.2 ns ± 0.0456 ns per loop (mean ± std. dev. of 7 runs, 10,000,000 loops each)\n"
     ]
    }
   ],
   "source": [
    "%timeit t.a = new_value"
   ]
  },
  {
   "cell_type": "markdown",
   "id": "48c49731",
   "metadata": {},
   "source": [
    "### Tianshou Batch's Get and Set"
   ]
  },
  {
   "cell_type": "code",
   "execution_count": 8,
   "id": "f1bb14c1",
   "metadata": {
    "execution": {
     "iopub.execute_input": "2023-01-19T14:56:39.712089Z",
     "iopub.status.busy": "2023-01-19T14:56:39.711458Z",
     "iopub.status.idle": "2023-01-19T14:56:40.097112Z",
     "shell.execute_reply": "2023-01-19T14:56:40.096351Z"
    }
   },
   "outputs": [],
   "source": [
    "from tianshou.data import Batch\n",
    "\n",
    "b = Batch(**_TREE_DATA_2)"
   ]
  },
  {
   "cell_type": "code",
   "execution_count": 9,
   "id": "cb0777c3",
   "metadata": {
    "execution": {
     "iopub.execute_input": "2023-01-19T14:56:40.101223Z",
     "iopub.status.busy": "2023-01-19T14:56:40.100873Z",
     "iopub.status.idle": "2023-01-19T14:56:40.106646Z",
     "shell.execute_reply": "2023-01-19T14:56:40.105962Z"
    }
   },
   "outputs": [
    {
     "data": {
      "text/plain": [
       "Batch(\n",
       "    a: tensor([[-1.1264, -0.8324,  0.1765],\n",
       "               [-0.4915,  1.8014,  0.6185]]),\n",
       "    x: Batch(\n",
       "           c: tensor([[ 1.0274, -1.1936,  1.4719, -1.0575],\n",
       "                      [ 0.0724, -0.4779,  0.1842, -0.9586],\n",
       "                      [ 0.1243, -0.7194, -0.3133,  0.8046]]),\n",
       "       ),\n",
       ")"
      ]
     },
     "execution_count": 9,
     "metadata": {},
     "output_type": "execute_result"
    }
   ],
   "source": [
    "b"
   ]
  },
  {
   "cell_type": "code",
   "execution_count": 10,
   "id": "43ef8ea3",
   "metadata": {
    "execution": {
     "iopub.execute_input": "2023-01-19T14:56:40.109632Z",
     "iopub.status.busy": "2023-01-19T14:56:40.109262Z",
     "iopub.status.idle": "2023-01-19T14:56:40.114289Z",
     "shell.execute_reply": "2023-01-19T14:56:40.113617Z"
    }
   },
   "outputs": [
    {
     "data": {
      "text/plain": [
       "tensor([[-1.1264, -0.8324,  0.1765],\n",
       "        [-0.4915,  1.8014,  0.6185]])"
      ]
     },
     "execution_count": 10,
     "metadata": {},
     "output_type": "execute_result"
    }
   ],
   "source": [
    "b.a"
   ]
  },
  {
   "cell_type": "code",
   "execution_count": 11,
   "id": "b785ab72",
   "metadata": {
    "execution": {
     "iopub.execute_input": "2023-01-19T14:56:40.117686Z",
     "iopub.status.busy": "2023-01-19T14:56:40.117461Z",
     "iopub.status.idle": "2023-01-19T14:56:44.822938Z",
     "shell.execute_reply": "2023-01-19T14:56:44.822184Z"
    }
   },
   "outputs": [
    {
     "name": "stdout",
     "output_type": "stream",
     "text": [
      "57.9 ns ± 0.0533 ns per loop (mean ± std. dev. of 7 runs, 10,000,000 loops each)\n"
     ]
    }
   ],
   "source": [
    "%timeit b.a"
   ]
  },
  {
   "cell_type": "code",
   "execution_count": 12,
   "id": "ad54dc69",
   "metadata": {
    "execution": {
     "iopub.execute_input": "2023-01-19T14:56:44.826544Z",
     "iopub.status.busy": "2023-01-19T14:56:44.825897Z",
     "iopub.status.idle": "2023-01-19T14:56:44.832268Z",
     "shell.execute_reply": "2023-01-19T14:56:44.831557Z"
    }
   },
   "outputs": [
    {
     "data": {
      "text/plain": [
       "Batch(\n",
       "    a: tensor([[-0.7143, -0.4581,  0.0680],\n",
       "               [ 0.9332,  0.8146, -0.0183]]),\n",
       "    x: Batch(\n",
       "           c: tensor([[ 1.0274, -1.1936,  1.4719, -1.0575],\n",
       "                      [ 0.0724, -0.4779,  0.1842, -0.9586],\n",
       "                      [ 0.1243, -0.7194, -0.3133,  0.8046]]),\n",
       "       ),\n",
       ")"
      ]
     },
     "execution_count": 12,
     "metadata": {},
     "output_type": "execute_result"
    }
   ],
   "source": [
    "new_value = torch.randn(2, 3)\n",
    "b.a = new_value\n",
    "\n",
    "b"
   ]
  },
  {
   "cell_type": "code",
   "execution_count": 13,
   "id": "29b1d0bf",
   "metadata": {
    "execution": {
     "iopub.execute_input": "2023-01-19T14:56:44.835551Z",
     "iopub.status.busy": "2023-01-19T14:56:44.834909Z",
     "iopub.status.idle": "2023-01-19T14:56:48.877687Z",
     "shell.execute_reply": "2023-01-19T14:56:48.876987Z"
    }
   },
   "outputs": [
    {
     "name": "stdout",
     "output_type": "stream",
     "text": [
      "498 ns ± 0.0669 ns per loop (mean ± std. dev. of 7 runs, 1,000,000 loops each)\n"
     ]
    }
   ],
   "source": [
    "%timeit b.a = new_value"
   ]
  },
  {
   "cell_type": "markdown",
   "id": "b61ad1d0",
   "metadata": {},
   "source": [
    "## Initialization"
   ]
  },
  {
   "cell_type": "markdown",
   "id": "d70f0d54",
   "metadata": {},
   "source": [
    "### TreeValue's Initialization"
   ]
  },
  {
   "cell_type": "code",
   "execution_count": 14,
   "id": "d32a679b",
   "metadata": {
    "execution": {
     "iopub.execute_input": "2023-01-19T14:56:48.881129Z",
     "iopub.status.busy": "2023-01-19T14:56:48.880645Z",
     "iopub.status.idle": "2023-01-19T14:56:55.446697Z",
     "shell.execute_reply": "2023-01-19T14:56:55.445931Z"
    }
   },
   "outputs": [
    {
     "name": "stdout",
     "output_type": "stream",
     "text": [
      "806 ns ± 0.137 ns per loop (mean ± std. dev. of 7 runs, 1,000,000 loops each)\n"
     ]
    }
   ],
   "source": [
    "%timeit FastTreeValue(_TREE_DATA_1)"
   ]
  },
  {
   "cell_type": "markdown",
   "id": "24f3707b",
   "metadata": {},
   "source": [
    "### Tianshou Batch's Initialization"
   ]
  },
  {
   "cell_type": "code",
   "execution_count": 15,
   "id": "ac3958df",
   "metadata": {
    "execution": {
     "iopub.execute_input": "2023-01-19T14:56:55.450356Z",
     "iopub.status.busy": "2023-01-19T14:56:55.449884Z",
     "iopub.status.idle": "2023-01-19T14:57:04.251703Z",
     "shell.execute_reply": "2023-01-19T14:57:04.250962Z"
    }
   },
   "outputs": [
    {
     "name": "stdout",
     "output_type": "stream",
     "text": [
      "10.8 µs ± 35.9 ns per loop (mean ± std. dev. of 7 runs, 100,000 loops each)\n"
     ]
    }
   ],
   "source": [
    "%timeit Batch(**_TREE_DATA_1)"
   ]
  },
  {
   "cell_type": "markdown",
   "id": "1ab82e2d",
   "metadata": {},
   "source": [
    "## Deep Copy Operation"
   ]
  },
  {
   "cell_type": "code",
   "execution_count": 16,
   "id": "210a9442",
   "metadata": {
    "execution": {
     "iopub.execute_input": "2023-01-19T14:57:04.255338Z",
     "iopub.status.busy": "2023-01-19T14:57:04.254711Z",
     "iopub.status.idle": "2023-01-19T14:57:04.258234Z",
     "shell.execute_reply": "2023-01-19T14:57:04.257534Z"
    }
   },
   "outputs": [],
   "source": [
    "import copy"
   ]
  },
  {
   "cell_type": "markdown",
   "id": "5a736274",
   "metadata": {},
   "source": [
    "### Deep Copy of TreeValue"
   ]
  },
  {
   "cell_type": "code",
   "execution_count": 17,
   "id": "f9bcadd6",
   "metadata": {
    "execution": {
     "iopub.execute_input": "2023-01-19T14:57:04.261527Z",
     "iopub.status.busy": "2023-01-19T14:57:04.261292Z",
     "iopub.status.idle": "2023-01-19T14:57:15.883418Z",
     "shell.execute_reply": "2023-01-19T14:57:15.882680Z"
    }
   },
   "outputs": [
    {
     "name": "stdout",
     "output_type": "stream",
     "text": [
      "143 µs ± 299 ns per loop (mean ± std. dev. of 7 runs, 10,000 loops each)\n"
     ]
    }
   ],
   "source": [
    "t3 = FastTreeValue(_TREE_DATA_3)\n",
    "%timeit copy.deepcopy(t3)"
   ]
  },
  {
   "cell_type": "markdown",
   "id": "bf8be7ea",
   "metadata": {},
   "source": [
    "### Deep Copy of Tianshou Batch"
   ]
  },
  {
   "cell_type": "code",
   "execution_count": 18,
   "id": "91998e6f",
   "metadata": {
    "execution": {
     "iopub.execute_input": "2023-01-19T14:57:15.887106Z",
     "iopub.status.busy": "2023-01-19T14:57:15.886574Z",
     "iopub.status.idle": "2023-01-19T14:57:27.629143Z",
     "shell.execute_reply": "2023-01-19T14:57:27.628487Z"
    }
   },
   "outputs": [
    {
     "name": "stdout",
     "output_type": "stream",
     "text": [
      "145 µs ± 499 ns per loop (mean ± std. dev. of 7 runs, 10,000 loops each)\n"
     ]
    }
   ],
   "source": [
    "b3 = Batch(**_TREE_DATA_3)\n",
    "%timeit copy.deepcopy(b3)"
   ]
  },
  {
   "cell_type": "markdown",
   "id": "223162fb",
   "metadata": {},
   "source": [
    "## Stack, Concat and Split Operation"
   ]
  },
  {
   "cell_type": "markdown",
   "id": "85fa4a73",
   "metadata": {},
   "source": [
    "### Performance of TreeValue"
   ]
  },
  {
   "cell_type": "code",
   "execution_count": 19,
   "id": "a0c2b697",
   "metadata": {
    "execution": {
     "iopub.execute_input": "2023-01-19T14:57:27.632686Z",
     "iopub.status.busy": "2023-01-19T14:57:27.632146Z",
     "iopub.status.idle": "2023-01-19T14:57:27.635749Z",
     "shell.execute_reply": "2023-01-19T14:57:27.635188Z"
    }
   },
   "outputs": [],
   "source": [
    "trees = [FastTreeValue(_TREE_DATA_2) for _ in range(8)]"
   ]
  },
  {
   "cell_type": "code",
   "execution_count": 20,
   "id": "017ea5a5",
   "metadata": {
    "execution": {
     "iopub.execute_input": "2023-01-19T14:57:27.638823Z",
     "iopub.status.busy": "2023-01-19T14:57:27.638197Z",
     "iopub.status.idle": "2023-01-19T14:57:27.645555Z",
     "shell.execute_reply": "2023-01-19T14:57:27.645007Z"
    }
   },
   "outputs": [
    {
     "data": {
      "text/plain": [
       "<FastTreeValue 0x7f47746c0e50>\n",
       "├── 'a' --> tensor([[[-1.1264, -0.8324,  0.1765],\n",
       "│                    [-0.4915,  1.8014,  0.6185]],\n",
       "│           \n",
       "│                   [[-1.1264, -0.8324,  0.1765],\n",
       "│                    [-0.4915,  1.8014,  0.6185]],\n",
       "│           \n",
       "│                   [[-1.1264, -0.8324,  0.1765],\n",
       "│                    [-0.4915,  1.8014,  0.6185]],\n",
       "│           \n",
       "│                   [[-1.1264, -0.8324,  0.1765],\n",
       "│                    [-0.4915,  1.8014,  0.6185]],\n",
       "│           \n",
       "│                   [[-1.1264, -0.8324,  0.1765],\n",
       "│                    [-0.4915,  1.8014,  0.6185]],\n",
       "│           \n",
       "│                   [[-1.1264, -0.8324,  0.1765],\n",
       "│                    [-0.4915,  1.8014,  0.6185]],\n",
       "│           \n",
       "│                   [[-1.1264, -0.8324,  0.1765],\n",
       "│                    [-0.4915,  1.8014,  0.6185]],\n",
       "│           \n",
       "│                   [[-1.1264, -0.8324,  0.1765],\n",
       "│                    [-0.4915,  1.8014,  0.6185]]])\n",
       "└── 'x' --> <FastTreeValue 0x7f47746c06d0>\n",
       "    └── 'c' --> tensor([[[ 1.0274, -1.1936,  1.4719, -1.0575],\n",
       "                         [ 0.0724, -0.4779,  0.1842, -0.9586],\n",
       "                         [ 0.1243, -0.7194, -0.3133,  0.8046]],\n",
       "                \n",
       "                        [[ 1.0274, -1.1936,  1.4719, -1.0575],\n",
       "                         [ 0.0724, -0.4779,  0.1842, -0.9586],\n",
       "                         [ 0.1243, -0.7194, -0.3133,  0.8046]],\n",
       "                \n",
       "                        [[ 1.0274, -1.1936,  1.4719, -1.0575],\n",
       "                         [ 0.0724, -0.4779,  0.1842, -0.9586],\n",
       "                         [ 0.1243, -0.7194, -0.3133,  0.8046]],\n",
       "                \n",
       "                        [[ 1.0274, -1.1936,  1.4719, -1.0575],\n",
       "                         [ 0.0724, -0.4779,  0.1842, -0.9586],\n",
       "                         [ 0.1243, -0.7194, -0.3133,  0.8046]],\n",
       "                \n",
       "                        [[ 1.0274, -1.1936,  1.4719, -1.0575],\n",
       "                         [ 0.0724, -0.4779,  0.1842, -0.9586],\n",
       "                         [ 0.1243, -0.7194, -0.3133,  0.8046]],\n",
       "                \n",
       "                        [[ 1.0274, -1.1936,  1.4719, -1.0575],\n",
       "                         [ 0.0724, -0.4779,  0.1842, -0.9586],\n",
       "                         [ 0.1243, -0.7194, -0.3133,  0.8046]],\n",
       "                \n",
       "                        [[ 1.0274, -1.1936,  1.4719, -1.0575],\n",
       "                         [ 0.0724, -0.4779,  0.1842, -0.9586],\n",
       "                         [ 0.1243, -0.7194, -0.3133,  0.8046]],\n",
       "                \n",
       "                        [[ 1.0274, -1.1936,  1.4719, -1.0575],\n",
       "                         [ 0.0724, -0.4779,  0.1842, -0.9586],\n",
       "                         [ 0.1243, -0.7194, -0.3133,  0.8046]]])"
      ]
     },
     "execution_count": 20,
     "metadata": {},
     "output_type": "execute_result"
    }
   ],
   "source": [
    "t_stack = FastTreeValue.func(subside=True)(torch.stack)\n",
    "\n",
    "t_stack(trees)"
   ]
  },
  {
   "cell_type": "code",
   "execution_count": 21,
   "id": "f8b3f415",
   "metadata": {
    "execution": {
     "iopub.execute_input": "2023-01-19T14:57:27.648421Z",
     "iopub.status.busy": "2023-01-19T14:57:27.647965Z",
     "iopub.status.idle": "2023-01-19T14:57:30.290928Z",
     "shell.execute_reply": "2023-01-19T14:57:30.290189Z"
    }
   },
   "outputs": [
    {
     "name": "stdout",
     "output_type": "stream",
     "text": [
      "32.5 µs ± 84.8 ns per loop (mean ± std. dev. of 7 runs, 10,000 loops each)\n"
     ]
    }
   ],
   "source": [
    "%timeit t_stack(trees)"
   ]
  },
  {
   "cell_type": "code",
   "execution_count": 22,
   "id": "94b56771",
   "metadata": {
    "execution": {
     "iopub.execute_input": "2023-01-19T14:57:30.294662Z",
     "iopub.status.busy": "2023-01-19T14:57:30.293973Z",
     "iopub.status.idle": "2023-01-19T14:57:30.301828Z",
     "shell.execute_reply": "2023-01-19T14:57:30.301117Z"
    }
   },
   "outputs": [
    {
     "data": {
      "text/plain": [
       "<FastTreeValue 0x7f47f81d3400>\n",
       "├── 'a' --> tensor([[-1.1264, -0.8324,  0.1765],\n",
       "│                   [-0.4915,  1.8014,  0.6185],\n",
       "│                   [-1.1264, -0.8324,  0.1765],\n",
       "│                   [-0.4915,  1.8014,  0.6185],\n",
       "│                   [-1.1264, -0.8324,  0.1765],\n",
       "│                   [-0.4915,  1.8014,  0.6185],\n",
       "│                   [-1.1264, -0.8324,  0.1765],\n",
       "│                   [-0.4915,  1.8014,  0.6185],\n",
       "│                   [-1.1264, -0.8324,  0.1765],\n",
       "│                   [-0.4915,  1.8014,  0.6185],\n",
       "│                   [-1.1264, -0.8324,  0.1765],\n",
       "│                   [-0.4915,  1.8014,  0.6185],\n",
       "│                   [-1.1264, -0.8324,  0.1765],\n",
       "│                   [-0.4915,  1.8014,  0.6185],\n",
       "│                   [-1.1264, -0.8324,  0.1765],\n",
       "│                   [-0.4915,  1.8014,  0.6185]])\n",
       "└── 'x' --> <FastTreeValue 0x7f47f8989220>\n",
       "    └── 'c' --> tensor([[ 1.0274, -1.1936,  1.4719, -1.0575],\n",
       "                        [ 0.0724, -0.4779,  0.1842, -0.9586],\n",
       "                        [ 0.1243, -0.7194, -0.3133,  0.8046],\n",
       "                        [ 1.0274, -1.1936,  1.4719, -1.0575],\n",
       "                        [ 0.0724, -0.4779,  0.1842, -0.9586],\n",
       "                        [ 0.1243, -0.7194, -0.3133,  0.8046],\n",
       "                        [ 1.0274, -1.1936,  1.4719, -1.0575],\n",
       "                        [ 0.0724, -0.4779,  0.1842, -0.9586],\n",
       "                        [ 0.1243, -0.7194, -0.3133,  0.8046],\n",
       "                        [ 1.0274, -1.1936,  1.4719, -1.0575],\n",
       "                        [ 0.0724, -0.4779,  0.1842, -0.9586],\n",
       "                        [ 0.1243, -0.7194, -0.3133,  0.8046],\n",
       "                        [ 1.0274, -1.1936,  1.4719, -1.0575],\n",
       "                        [ 0.0724, -0.4779,  0.1842, -0.9586],\n",
       "                        [ 0.1243, -0.7194, -0.3133,  0.8046],\n",
       "                        [ 1.0274, -1.1936,  1.4719, -1.0575],\n",
       "                        [ 0.0724, -0.4779,  0.1842, -0.9586],\n",
       "                        [ 0.1243, -0.7194, -0.3133,  0.8046],\n",
       "                        [ 1.0274, -1.1936,  1.4719, -1.0575],\n",
       "                        [ 0.0724, -0.4779,  0.1842, -0.9586],\n",
       "                        [ 0.1243, -0.7194, -0.3133,  0.8046],\n",
       "                        [ 1.0274, -1.1936,  1.4719, -1.0575],\n",
       "                        [ 0.0724, -0.4779,  0.1842, -0.9586],\n",
       "                        [ 0.1243, -0.7194, -0.3133,  0.8046]])"
      ]
     },
     "execution_count": 22,
     "metadata": {},
     "output_type": "execute_result"
    }
   ],
   "source": [
    "t_cat = FastTreeValue.func(subside=True)(torch.cat)\n",
    "\n",
    "t_cat(trees)"
   ]
  },
  {
   "cell_type": "code",
   "execution_count": 23,
   "id": "5e9c06a6",
   "metadata": {
    "execution": {
     "iopub.execute_input": "2023-01-19T14:57:30.305247Z",
     "iopub.status.busy": "2023-01-19T14:57:30.304623Z",
     "iopub.status.idle": "2023-01-19T14:57:32.793597Z",
     "shell.execute_reply": "2023-01-19T14:57:32.792863Z"
    }
   },
   "outputs": [
    {
     "name": "stdout",
     "output_type": "stream",
     "text": [
      "30.6 µs ± 77.1 ns per loop (mean ± std. dev. of 7 runs, 10,000 loops each)\n"
     ]
    }
   ],
   "source": [
    "%timeit t_cat(trees)"
   ]
  },
  {
   "cell_type": "code",
   "execution_count": 24,
   "id": "a3ab5c8f",
   "metadata": {
    "execution": {
     "iopub.execute_input": "2023-01-19T14:57:32.797105Z",
     "iopub.status.busy": "2023-01-19T14:57:32.796593Z",
     "iopub.status.idle": "2023-01-19T14:57:37.305716Z",
     "shell.execute_reply": "2023-01-19T14:57:37.304972Z"
    }
   },
   "outputs": [
    {
     "name": "stdout",
     "output_type": "stream",
     "text": [
      "55.4 µs ± 64.3 ns per loop (mean ± std. dev. of 7 runs, 10,000 loops each)\n"
     ]
    }
   ],
   "source": [
    "t_split = FastTreeValue.func(rise=True)(torch.split)\n",
    "tree = FastTreeValue({\n",
    "    'obs': torch.randn(8, 4, 84, 84),\n",
    "    'action': torch.randint(0, 6, size=(8, 1,)),\n",
    "    'reward': torch.rand(8, 1),\n",
    "})\n",
    "\n",
    "%timeit t_split(tree, 1)"
   ]
  },
  {
   "cell_type": "markdown",
   "id": "31c3ec0b",
   "metadata": {},
   "source": [
    "### Performance of Tianshou Batch"
   ]
  },
  {
   "cell_type": "code",
   "execution_count": 25,
   "id": "9ead828a",
   "metadata": {
    "execution": {
     "iopub.execute_input": "2023-01-19T14:57:37.309518Z",
     "iopub.status.busy": "2023-01-19T14:57:37.308944Z",
     "iopub.status.idle": "2023-01-19T14:57:37.316863Z",
     "shell.execute_reply": "2023-01-19T14:57:37.316141Z"
    }
   },
   "outputs": [
    {
     "data": {
      "text/plain": [
       "Batch(\n",
       "    a: tensor([[[-1.1264, -0.8324,  0.1765],\n",
       "                [-0.4915,  1.8014,  0.6185]],\n",
       "       \n",
       "               [[-1.1264, -0.8324,  0.1765],\n",
       "                [-0.4915,  1.8014,  0.6185]],\n",
       "       \n",
       "               [[-1.1264, -0.8324,  0.1765],\n",
       "                [-0.4915,  1.8014,  0.6185]],\n",
       "       \n",
       "               [[-1.1264, -0.8324,  0.1765],\n",
       "                [-0.4915,  1.8014,  0.6185]],\n",
       "       \n",
       "               [[-1.1264, -0.8324,  0.1765],\n",
       "                [-0.4915,  1.8014,  0.6185]],\n",
       "       \n",
       "               [[-1.1264, -0.8324,  0.1765],\n",
       "                [-0.4915,  1.8014,  0.6185]],\n",
       "       \n",
       "               [[-1.1264, -0.8324,  0.1765],\n",
       "                [-0.4915,  1.8014,  0.6185]],\n",
       "       \n",
       "               [[-1.1264, -0.8324,  0.1765],\n",
       "                [-0.4915,  1.8014,  0.6185]]]),\n",
       "    x: Batch(\n",
       "           c: tensor([[[ 1.0274, -1.1936,  1.4719, -1.0575],\n",
       "                       [ 0.0724, -0.4779,  0.1842, -0.9586],\n",
       "                       [ 0.1243, -0.7194, -0.3133,  0.8046]],\n",
       "              \n",
       "                      [[ 1.0274, -1.1936,  1.4719, -1.0575],\n",
       "                       [ 0.0724, -0.4779,  0.1842, -0.9586],\n",
       "                       [ 0.1243, -0.7194, -0.3133,  0.8046]],\n",
       "              \n",
       "                      [[ 1.0274, -1.1936,  1.4719, -1.0575],\n",
       "                       [ 0.0724, -0.4779,  0.1842, -0.9586],\n",
       "                       [ 0.1243, -0.7194, -0.3133,  0.8046]],\n",
       "              \n",
       "                      [[ 1.0274, -1.1936,  1.4719, -1.0575],\n",
       "                       [ 0.0724, -0.4779,  0.1842, -0.9586],\n",
       "                       [ 0.1243, -0.7194, -0.3133,  0.8046]],\n",
       "              \n",
       "                      [[ 1.0274, -1.1936,  1.4719, -1.0575],\n",
       "                       [ 0.0724, -0.4779,  0.1842, -0.9586],\n",
       "                       [ 0.1243, -0.7194, -0.3133,  0.8046]],\n",
       "              \n",
       "                      [[ 1.0274, -1.1936,  1.4719, -1.0575],\n",
       "                       [ 0.0724, -0.4779,  0.1842, -0.9586],\n",
       "                       [ 0.1243, -0.7194, -0.3133,  0.8046]],\n",
       "              \n",
       "                      [[ 1.0274, -1.1936,  1.4719, -1.0575],\n",
       "                       [ 0.0724, -0.4779,  0.1842, -0.9586],\n",
       "                       [ 0.1243, -0.7194, -0.3133,  0.8046]],\n",
       "              \n",
       "                      [[ 1.0274, -1.1936,  1.4719, -1.0575],\n",
       "                       [ 0.0724, -0.4779,  0.1842, -0.9586],\n",
       "                       [ 0.1243, -0.7194, -0.3133,  0.8046]]]),\n",
       "       ),\n",
       ")"
      ]
     },
     "execution_count": 25,
     "metadata": {},
     "output_type": "execute_result"
    }
   ],
   "source": [
    "batches = [Batch(**_TREE_DATA_2) for _ in range(8)]\n",
    "\n",
    "Batch.stack(batches)"
   ]
  },
  {
   "cell_type": "code",
   "execution_count": 26,
   "id": "ec9037a3",
   "metadata": {
    "execution": {
     "iopub.execute_input": "2023-01-19T14:57:37.320134Z",
     "iopub.status.busy": "2023-01-19T14:57:37.319651Z",
     "iopub.status.idle": "2023-01-19T14:57:43.644804Z",
     "shell.execute_reply": "2023-01-19T14:57:43.644126Z"
    }
   },
   "outputs": [
    {
     "name": "stdout",
     "output_type": "stream",
     "text": [
      "77.8 µs ± 47.9 ns per loop (mean ± std. dev. of 7 runs, 10,000 loops each)\n"
     ]
    }
   ],
   "source": [
    "%timeit Batch.stack(batches)"
   ]
  },
  {
   "cell_type": "code",
   "execution_count": 27,
   "id": "cb8ab77e",
   "metadata": {
    "execution": {
     "iopub.execute_input": "2023-01-19T14:57:43.648572Z",
     "iopub.status.busy": "2023-01-19T14:57:43.647831Z",
     "iopub.status.idle": "2023-01-19T14:57:43.655602Z",
     "shell.execute_reply": "2023-01-19T14:57:43.654844Z"
    }
   },
   "outputs": [
    {
     "data": {
      "text/plain": [
       "Batch(\n",
       "    a: tensor([[-1.1264, -0.8324,  0.1765],\n",
       "               [-0.4915,  1.8014,  0.6185],\n",
       "               [-1.1264, -0.8324,  0.1765],\n",
       "               [-0.4915,  1.8014,  0.6185],\n",
       "               [-1.1264, -0.8324,  0.1765],\n",
       "               [-0.4915,  1.8014,  0.6185],\n",
       "               [-1.1264, -0.8324,  0.1765],\n",
       "               [-0.4915,  1.8014,  0.6185],\n",
       "               [-1.1264, -0.8324,  0.1765],\n",
       "               [-0.4915,  1.8014,  0.6185],\n",
       "               [-1.1264, -0.8324,  0.1765],\n",
       "               [-0.4915,  1.8014,  0.6185],\n",
       "               [-1.1264, -0.8324,  0.1765],\n",
       "               [-0.4915,  1.8014,  0.6185],\n",
       "               [-1.1264, -0.8324,  0.1765],\n",
       "               [-0.4915,  1.8014,  0.6185]]),\n",
       "    x: Batch(\n",
       "           c: tensor([[ 1.0274, -1.1936,  1.4719, -1.0575],\n",
       "                      [ 0.0724, -0.4779,  0.1842, -0.9586],\n",
       "                      [ 0.1243, -0.7194, -0.3133,  0.8046],\n",
       "                      [ 1.0274, -1.1936,  1.4719, -1.0575],\n",
       "                      [ 0.0724, -0.4779,  0.1842, -0.9586],\n",
       "                      [ 0.1243, -0.7194, -0.3133,  0.8046],\n",
       "                      [ 1.0274, -1.1936,  1.4719, -1.0575],\n",
       "                      [ 0.0724, -0.4779,  0.1842, -0.9586],\n",
       "                      [ 0.1243, -0.7194, -0.3133,  0.8046],\n",
       "                      [ 1.0274, -1.1936,  1.4719, -1.0575],\n",
       "                      [ 0.0724, -0.4779,  0.1842, -0.9586],\n",
       "                      [ 0.1243, -0.7194, -0.3133,  0.8046],\n",
       "                      [ 1.0274, -1.1936,  1.4719, -1.0575],\n",
       "                      [ 0.0724, -0.4779,  0.1842, -0.9586],\n",
       "                      [ 0.1243, -0.7194, -0.3133,  0.8046],\n",
       "                      [ 1.0274, -1.1936,  1.4719, -1.0575],\n",
       "                      [ 0.0724, -0.4779,  0.1842, -0.9586],\n",
       "                      [ 0.1243, -0.7194, -0.3133,  0.8046],\n",
       "                      [ 1.0274, -1.1936,  1.4719, -1.0575],\n",
       "                      [ 0.0724, -0.4779,  0.1842, -0.9586],\n",
       "                      [ 0.1243, -0.7194, -0.3133,  0.8046],\n",
       "                      [ 1.0274, -1.1936,  1.4719, -1.0575],\n",
       "                      [ 0.0724, -0.4779,  0.1842, -0.9586],\n",
       "                      [ 0.1243, -0.7194, -0.3133,  0.8046]]),\n",
       "       ),\n",
       ")"
      ]
     },
     "execution_count": 27,
     "metadata": {},
     "output_type": "execute_result"
    }
   ],
   "source": [
    "Batch.cat(batches)"
   ]
  },
  {
   "cell_type": "code",
   "execution_count": 28,
   "id": "18dfb045",
   "metadata": {
    "execution": {
     "iopub.execute_input": "2023-01-19T14:57:43.659106Z",
     "iopub.status.busy": "2023-01-19T14:57:43.658447Z",
     "iopub.status.idle": "2023-01-19T14:57:55.354241Z",
     "shell.execute_reply": "2023-01-19T14:57:55.352676Z"
    }
   },
   "outputs": [
    {
     "name": "stdout",
     "output_type": "stream",
     "text": [
      "144 µs ± 148 ns per loop (mean ± std. dev. of 7 runs, 10,000 loops each)\n"
     ]
    }
   ],
   "source": [
    "%timeit Batch.cat(batches)"
   ]
  },
  {
   "cell_type": "code",
   "execution_count": 29,
   "id": "c6688e51",
   "metadata": {
    "execution": {
     "iopub.execute_input": "2023-01-19T14:57:55.357870Z",
     "iopub.status.busy": "2023-01-19T14:57:55.357421Z",
     "iopub.status.idle": "2023-01-19T14:57:57.979672Z",
     "shell.execute_reply": "2023-01-19T14:57:57.979015Z"
    }
   },
   "outputs": [
    {
     "name": "stdout",
     "output_type": "stream",
     "text": [
      "322 µs ± 3.31 µs per loop (mean ± std. dev. of 7 runs, 1,000 loops each)\n"
     ]
    }
   ],
   "source": [
    "batch = Batch({\n",
    "    'obs': torch.randn(8, 4, 84, 84),\n",
    "    'action': torch.randint(0, 6, size=(8, 1,)),\n",
    "    'reward': torch.rand(8, 1)}\n",
    ")\n",
    "\n",
    "%timeit list(Batch.split(batch, 1, shuffle=False, merge_last=True))"
   ]
  },
  {
   "cell_type": "code",
   "execution_count": null,
   "id": "2539fbd9",
   "metadata": {},
   "outputs": [],
   "source": []
  }
 ],
 "metadata": {
  "kernelspec": {
   "display_name": "Python 3 (ipykernel)",
   "language": "python",
   "name": "python3"
  },
  "language_info": {
   "codemirror_mode": {
    "name": "ipython",
    "version": 3
   },
   "file_extension": ".py",
   "mimetype": "text/x-python",
   "name": "python",
   "nbconvert_exporter": "python",
   "pygments_lexer": "ipython3",
   "version": "3.8.15"
  }
 },
 "nbformat": 4,
 "nbformat_minor": 5
}
