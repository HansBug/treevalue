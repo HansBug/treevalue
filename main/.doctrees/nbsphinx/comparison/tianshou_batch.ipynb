{
 "cells": [
  {
   "cell_type": "markdown",
   "id": "9d39d946",
   "metadata": {},
   "source": [
    "# Comparison Between TreeValue and Tianshou Batch"
   ]
  },
  {
   "cell_type": "markdown",
   "id": "3c6db2d4",
   "metadata": {},
   "source": [
    "In this section, we will take a look at the feature and performance of the [Tianshou Batch](https://github.com/thu-ml/tianshou) library, which is developed by Tsinghua Machine Learning Group."
   ]
  },
  {
   "cell_type": "markdown",
   "id": "069361b0",
   "metadata": {},
   "source": [
    "Before starting the comparison, let us define some thing."
   ]
  },
  {
   "cell_type": "code",
   "execution_count": 1,
   "id": "06fc8d26",
   "metadata": {
    "execution": {
     "iopub.execute_input": "2023-01-20T08:15:17.885553Z",
     "iopub.status.busy": "2023-01-20T08:15:17.885234Z",
     "iopub.status.idle": "2023-01-20T08:15:19.238525Z",
     "shell.execute_reply": "2023-01-20T08:15:19.237480Z"
    }
   },
   "outputs": [
    {
     "name": "stderr",
     "output_type": "stream",
     "text": [
      "/opt/hostedtoolcache/Python/3.8.16/x64/lib/python3.8/site-packages/tqdm/auto.py:22: TqdmWarning: IProgress not found. Please update jupyter and ipywidgets. See https://ipywidgets.readthedocs.io/en/stable/user_install.html\n",
      "  from .autonotebook import tqdm as notebook_tqdm\n"
     ]
    }
   ],
   "source": [
    "import torch \n",
    "\n",
    "_TREE_DATA_1 = {'a': 1, 'b': 2, 'x': {'c': 3, 'd': 4}}\n",
    "_TREE_DATA_2 = {\n",
    "    'a': torch.randn(2, 3), \n",
    "    'x': {\n",
    "        'c': torch.randn(3, 4)\n",
    "    },\n",
    "}\n",
    "_TREE_DATA_3 = {\n",
    "    'obs': torch.randn(4, 84, 84),\n",
    "    'action': torch.randint(0, 6, size=(1,)),\n",
    "    'reward': torch.rand(1),\n",
    "}"
   ]
  },
  {
   "cell_type": "markdown",
   "id": "83461b25",
   "metadata": {},
   "source": [
    "## Read and Write Operation"
   ]
  },
  {
   "cell_type": "markdown",
   "id": "067b3f73",
   "metadata": {},
   "source": [
    "Reading and writing are the two most common operations in the tree data structure based on the data model (TreeValue and Tianshou Batch both belong to this type), so this section will compare the reading and writing performance of these two libraries."
   ]
  },
  {
   "cell_type": "markdown",
   "id": "5d09a5b7",
   "metadata": {},
   "source": [
    "### TreeValue's Get and Set"
   ]
  },
  {
   "cell_type": "code",
   "execution_count": 2,
   "id": "9519c4bb",
   "metadata": {
    "execution": {
     "iopub.execute_input": "2023-01-20T08:15:19.244645Z",
     "iopub.status.busy": "2023-01-20T08:15:19.244158Z",
     "iopub.status.idle": "2023-01-20T08:15:19.297330Z",
     "shell.execute_reply": "2023-01-20T08:15:19.296310Z"
    }
   },
   "outputs": [],
   "source": [
    "from treevalue import FastTreeValue\n",
    "\n",
    "t = FastTreeValue(_TREE_DATA_2)"
   ]
  },
  {
   "cell_type": "code",
   "execution_count": 3,
   "id": "11c37677",
   "metadata": {
    "execution": {
     "iopub.execute_input": "2023-01-20T08:15:19.302344Z",
     "iopub.status.busy": "2023-01-20T08:15:19.301565Z",
     "iopub.status.idle": "2023-01-20T08:15:19.315491Z",
     "shell.execute_reply": "2023-01-20T08:15:19.314489Z"
    }
   },
   "outputs": [
    {
     "data": {
      "text/plain": [
       "<FastTreeValue 0x7fc19072e520>\n",
       "├── 'a' --> tensor([[ 0.1573,  2.0848, -0.2895],\n",
       "│                   [-1.6838,  1.2582, -0.9084]])\n",
       "└── 'x' --> <FastTreeValue 0x7fc19072e850>\n",
       "    └── 'c' --> tensor([[ 0.3534, -0.1203, -1.4135, -0.4582],\n",
       "                        [-0.4694,  0.4467,  0.5777,  1.3706],\n",
       "                        [-0.1595, -0.5754,  0.5351, -0.5888]])"
      ]
     },
     "execution_count": 3,
     "metadata": {},
     "output_type": "execute_result"
    }
   ],
   "source": [
    "t"
   ]
  },
  {
   "cell_type": "code",
   "execution_count": 4,
   "id": "fd70b0b9",
   "metadata": {
    "execution": {
     "iopub.execute_input": "2023-01-20T08:15:19.319966Z",
     "iopub.status.busy": "2023-01-20T08:15:19.319400Z",
     "iopub.status.idle": "2023-01-20T08:15:19.328878Z",
     "shell.execute_reply": "2023-01-20T08:15:19.327890Z"
    }
   },
   "outputs": [
    {
     "data": {
      "text/plain": [
       "tensor([[ 0.1573,  2.0848, -0.2895],\n",
       "        [-1.6838,  1.2582, -0.9084]])"
      ]
     },
     "execution_count": 4,
     "metadata": {},
     "output_type": "execute_result"
    }
   ],
   "source": [
    "t.a"
   ]
  },
  {
   "cell_type": "code",
   "execution_count": 5,
   "id": "c18197bd",
   "metadata": {
    "execution": {
     "iopub.execute_input": "2023-01-20T08:15:19.333005Z",
     "iopub.status.busy": "2023-01-20T08:15:19.332693Z",
     "iopub.status.idle": "2023-01-20T08:15:25.727433Z",
     "shell.execute_reply": "2023-01-20T08:15:25.726515Z"
    }
   },
   "outputs": [
    {
     "name": "stdout",
     "output_type": "stream",
     "text": [
      "79 ns ± 2.21 ns per loop (mean ± std. dev. of 7 runs, 10,000,000 loops each)\n"
     ]
    }
   ],
   "source": [
    "%timeit t.a"
   ]
  },
  {
   "cell_type": "code",
   "execution_count": 6,
   "id": "bd52f867",
   "metadata": {
    "execution": {
     "iopub.execute_input": "2023-01-20T08:15:25.731816Z",
     "iopub.status.busy": "2023-01-20T08:15:25.731007Z",
     "iopub.status.idle": "2023-01-20T08:15:25.739927Z",
     "shell.execute_reply": "2023-01-20T08:15:25.738934Z"
    }
   },
   "outputs": [
    {
     "data": {
      "text/plain": [
       "<FastTreeValue 0x7fc19072e520>\n",
       "├── 'a' --> tensor([[-0.5969,  0.3443,  1.4018],\n",
       "│                   [ 0.5940, -0.7544,  2.1891]])\n",
       "└── 'x' --> <FastTreeValue 0x7fc19072e850>\n",
       "    └── 'c' --> tensor([[ 0.3534, -0.1203, -1.4135, -0.4582],\n",
       "                        [-0.4694,  0.4467,  0.5777,  1.3706],\n",
       "                        [-0.1595, -0.5754,  0.5351, -0.5888]])"
      ]
     },
     "execution_count": 6,
     "metadata": {},
     "output_type": "execute_result"
    }
   ],
   "source": [
    "new_value = torch.randn(2, 3)\n",
    "t.a = new_value\n",
    "\n",
    "t"
   ]
  },
  {
   "cell_type": "code",
   "execution_count": 7,
   "id": "bbe04d1c",
   "metadata": {
    "execution": {
     "iopub.execute_input": "2023-01-20T08:15:25.743822Z",
     "iopub.status.busy": "2023-01-20T08:15:25.743484Z",
     "iopub.status.idle": "2023-01-20T08:15:32.130675Z",
     "shell.execute_reply": "2023-01-20T08:15:32.129563Z"
    }
   },
   "outputs": [
    {
     "name": "stdout",
     "output_type": "stream",
     "text": [
      "79 ns ± 0.874 ns per loop (mean ± std. dev. of 7 runs, 10,000,000 loops each)\n"
     ]
    }
   ],
   "source": [
    "%timeit t.a = new_value"
   ]
  },
  {
   "cell_type": "markdown",
   "id": "48c49731",
   "metadata": {},
   "source": [
    "### Tianshou Batch's Get and Set"
   ]
  },
  {
   "cell_type": "code",
   "execution_count": 8,
   "id": "f1bb14c1",
   "metadata": {
    "execution": {
     "iopub.execute_input": "2023-01-20T08:15:32.135049Z",
     "iopub.status.busy": "2023-01-20T08:15:32.134501Z",
     "iopub.status.idle": "2023-01-20T08:15:32.614724Z",
     "shell.execute_reply": "2023-01-20T08:15:32.613517Z"
    }
   },
   "outputs": [],
   "source": [
    "from tianshou.data import Batch\n",
    "\n",
    "b = Batch(**_TREE_DATA_2)"
   ]
  },
  {
   "cell_type": "code",
   "execution_count": 9,
   "id": "cb0777c3",
   "metadata": {
    "execution": {
     "iopub.execute_input": "2023-01-20T08:15:32.619964Z",
     "iopub.status.busy": "2023-01-20T08:15:32.619491Z",
     "iopub.status.idle": "2023-01-20T08:15:32.627361Z",
     "shell.execute_reply": "2023-01-20T08:15:32.626221Z"
    }
   },
   "outputs": [
    {
     "data": {
      "text/plain": [
       "Batch(\n",
       "    a: tensor([[ 0.1573,  2.0848, -0.2895],\n",
       "               [-1.6838,  1.2582, -0.9084]]),\n",
       "    x: Batch(\n",
       "           c: tensor([[ 0.3534, -0.1203, -1.4135, -0.4582],\n",
       "                      [-0.4694,  0.4467,  0.5777,  1.3706],\n",
       "                      [-0.1595, -0.5754,  0.5351, -0.5888]]),\n",
       "       ),\n",
       ")"
      ]
     },
     "execution_count": 9,
     "metadata": {},
     "output_type": "execute_result"
    }
   ],
   "source": [
    "b"
   ]
  },
  {
   "cell_type": "code",
   "execution_count": 10,
   "id": "43ef8ea3",
   "metadata": {
    "execution": {
     "iopub.execute_input": "2023-01-20T08:15:32.631379Z",
     "iopub.status.busy": "2023-01-20T08:15:32.630976Z",
     "iopub.status.idle": "2023-01-20T08:15:32.637762Z",
     "shell.execute_reply": "2023-01-20T08:15:32.636830Z"
    }
   },
   "outputs": [
    {
     "data": {
      "text/plain": [
       "tensor([[ 0.1573,  2.0848, -0.2895],\n",
       "        [-1.6838,  1.2582, -0.9084]])"
      ]
     },
     "execution_count": 10,
     "metadata": {},
     "output_type": "execute_result"
    }
   ],
   "source": [
    "b.a"
   ]
  },
  {
   "cell_type": "code",
   "execution_count": 11,
   "id": "b785ab72",
   "metadata": {
    "execution": {
     "iopub.execute_input": "2023-01-20T08:15:32.642511Z",
     "iopub.status.busy": "2023-01-20T08:15:32.642207Z",
     "iopub.status.idle": "2023-01-20T08:15:38.200242Z",
     "shell.execute_reply": "2023-01-20T08:15:38.199194Z"
    }
   },
   "outputs": [
    {
     "name": "stdout",
     "output_type": "stream",
     "text": [
      "68.2 ns ± 1.71 ns per loop (mean ± std. dev. of 7 runs, 10,000,000 loops each)\n"
     ]
    }
   ],
   "source": [
    "%timeit b.a"
   ]
  },
  {
   "cell_type": "code",
   "execution_count": 12,
   "id": "ad54dc69",
   "metadata": {
    "execution": {
     "iopub.execute_input": "2023-01-20T08:15:38.206112Z",
     "iopub.status.busy": "2023-01-20T08:15:38.204150Z",
     "iopub.status.idle": "2023-01-20T08:15:38.213729Z",
     "shell.execute_reply": "2023-01-20T08:15:38.212623Z"
    }
   },
   "outputs": [
    {
     "data": {
      "text/plain": [
       "Batch(\n",
       "    a: tensor([[ 0.1240, -0.5109, -1.2257],\n",
       "               [-0.0453,  1.8571,  2.4314]]),\n",
       "    x: Batch(\n",
       "           c: tensor([[ 0.3534, -0.1203, -1.4135, -0.4582],\n",
       "                      [-0.4694,  0.4467,  0.5777,  1.3706],\n",
       "                      [-0.1595, -0.5754,  0.5351, -0.5888]]),\n",
       "       ),\n",
       ")"
      ]
     },
     "execution_count": 12,
     "metadata": {},
     "output_type": "execute_result"
    }
   ],
   "source": [
    "new_value = torch.randn(2, 3)\n",
    "b.a = new_value\n",
    "\n",
    "b"
   ]
  },
  {
   "cell_type": "code",
   "execution_count": 13,
   "id": "29b1d0bf",
   "metadata": {
    "execution": {
     "iopub.execute_input": "2023-01-20T08:15:38.217463Z",
     "iopub.status.busy": "2023-01-20T08:15:38.217204Z",
     "iopub.status.idle": "2023-01-20T08:15:43.567425Z",
     "shell.execute_reply": "2023-01-20T08:15:43.566495Z"
    }
   },
   "outputs": [
    {
     "name": "stdout",
     "output_type": "stream",
     "text": [
      "662 ns ± 15.5 ns per loop (mean ± std. dev. of 7 runs, 1,000,000 loops each)\n"
     ]
    }
   ],
   "source": [
    "%timeit b.a = new_value"
   ]
  },
  {
   "cell_type": "markdown",
   "id": "b61ad1d0",
   "metadata": {},
   "source": [
    "## Initialization"
   ]
  },
  {
   "cell_type": "markdown",
   "id": "d70f0d54",
   "metadata": {},
   "source": [
    "### TreeValue's Initialization"
   ]
  },
  {
   "cell_type": "code",
   "execution_count": 14,
   "id": "d32a679b",
   "metadata": {
    "execution": {
     "iopub.execute_input": "2023-01-20T08:15:43.572248Z",
     "iopub.status.busy": "2023-01-20T08:15:43.571697Z",
     "iopub.status.idle": "2023-01-20T08:15:52.272998Z",
     "shell.execute_reply": "2023-01-20T08:15:52.272128Z"
    }
   },
   "outputs": [
    {
     "name": "stdout",
     "output_type": "stream",
     "text": [
      "1.07 µs ± 21.4 ns per loop (mean ± std. dev. of 7 runs, 1,000,000 loops each)\n"
     ]
    }
   ],
   "source": [
    "%timeit FastTreeValue(_TREE_DATA_1)"
   ]
  },
  {
   "cell_type": "markdown",
   "id": "24f3707b",
   "metadata": {},
   "source": [
    "### Tianshou Batch's Initialization"
   ]
  },
  {
   "cell_type": "code",
   "execution_count": 15,
   "id": "ac3958df",
   "metadata": {
    "execution": {
     "iopub.execute_input": "2023-01-20T08:15:52.277757Z",
     "iopub.status.busy": "2023-01-20T08:15:52.277144Z",
     "iopub.status.idle": "2023-01-20T08:16:03.591153Z",
     "shell.execute_reply": "2023-01-20T08:16:03.590176Z"
    }
   },
   "outputs": [
    {
     "name": "stdout",
     "output_type": "stream",
     "text": [
      "13.9 µs ± 204 ns per loop (mean ± std. dev. of 7 runs, 100,000 loops each)\n"
     ]
    }
   ],
   "source": [
    "%timeit Batch(**_TREE_DATA_1)"
   ]
  },
  {
   "cell_type": "markdown",
   "id": "1ab82e2d",
   "metadata": {},
   "source": [
    "## Deep Copy Operation"
   ]
  },
  {
   "cell_type": "code",
   "execution_count": 16,
   "id": "210a9442",
   "metadata": {
    "execution": {
     "iopub.execute_input": "2023-01-20T08:16:03.595665Z",
     "iopub.status.busy": "2023-01-20T08:16:03.594905Z",
     "iopub.status.idle": "2023-01-20T08:16:03.599330Z",
     "shell.execute_reply": "2023-01-20T08:16:03.598302Z"
    }
   },
   "outputs": [],
   "source": [
    "import copy"
   ]
  },
  {
   "cell_type": "markdown",
   "id": "5a736274",
   "metadata": {},
   "source": [
    "### Deep Copy of TreeValue"
   ]
  },
  {
   "cell_type": "code",
   "execution_count": 17,
   "id": "f9bcadd6",
   "metadata": {
    "execution": {
     "iopub.execute_input": "2023-01-20T08:16:03.603436Z",
     "iopub.status.busy": "2023-01-20T08:16:03.602905Z",
     "iopub.status.idle": "2023-01-20T08:16:06.018086Z",
     "shell.execute_reply": "2023-01-20T08:16:06.017043Z"
    }
   },
   "outputs": [
    {
     "name": "stdout",
     "output_type": "stream",
     "text": [
      "296 µs ± 10.3 µs per loop (mean ± std. dev. of 7 runs, 1,000 loops each)\n"
     ]
    }
   ],
   "source": [
    "t3 = FastTreeValue(_TREE_DATA_3)\n",
    "%timeit copy.deepcopy(t3)"
   ]
  },
  {
   "cell_type": "markdown",
   "id": "bf8be7ea",
   "metadata": {},
   "source": [
    "### Deep Copy of Tianshou Batch"
   ]
  },
  {
   "cell_type": "code",
   "execution_count": 18,
   "id": "91998e6f",
   "metadata": {
    "execution": {
     "iopub.execute_input": "2023-01-20T08:16:06.022514Z",
     "iopub.status.busy": "2023-01-20T08:16:06.021817Z",
     "iopub.status.idle": "2023-01-20T08:16:08.352947Z",
     "shell.execute_reply": "2023-01-20T08:16:08.351901Z"
    }
   },
   "outputs": [
    {
     "name": "stdout",
     "output_type": "stream",
     "text": [
      "287 µs ± 9.29 µs per loop (mean ± std. dev. of 7 runs, 1,000 loops each)\n"
     ]
    }
   ],
   "source": [
    "b3 = Batch(**_TREE_DATA_3)\n",
    "%timeit copy.deepcopy(b3)"
   ]
  },
  {
   "cell_type": "markdown",
   "id": "223162fb",
   "metadata": {},
   "source": [
    "## Stack, Concat and Split Operation"
   ]
  },
  {
   "cell_type": "markdown",
   "id": "85fa4a73",
   "metadata": {},
   "source": [
    "### Performance of TreeValue"
   ]
  },
  {
   "cell_type": "code",
   "execution_count": 19,
   "id": "a0c2b697",
   "metadata": {
    "execution": {
     "iopub.execute_input": "2023-01-20T08:16:08.357111Z",
     "iopub.status.busy": "2023-01-20T08:16:08.356797Z",
     "iopub.status.idle": "2023-01-20T08:16:08.361076Z",
     "shell.execute_reply": "2023-01-20T08:16:08.360201Z"
    }
   },
   "outputs": [],
   "source": [
    "trees = [FastTreeValue(_TREE_DATA_2) for _ in range(8)]"
   ]
  },
  {
   "cell_type": "code",
   "execution_count": 20,
   "id": "017ea5a5",
   "metadata": {
    "execution": {
     "iopub.execute_input": "2023-01-20T08:16:08.365411Z",
     "iopub.status.busy": "2023-01-20T08:16:08.364883Z",
     "iopub.status.idle": "2023-01-20T08:16:08.374272Z",
     "shell.execute_reply": "2023-01-20T08:16:08.373303Z"
    }
   },
   "outputs": [
    {
     "data": {
      "text/plain": [
       "<FastTreeValue 0x7fc164bcabb0>\n",
       "├── 'a' --> tensor([[[ 0.1573,  2.0848, -0.2895],\n",
       "│                    [-1.6838,  1.2582, -0.9084]],\n",
       "│           \n",
       "│                   [[ 0.1573,  2.0848, -0.2895],\n",
       "│                    [-1.6838,  1.2582, -0.9084]],\n",
       "│           \n",
       "│                   [[ 0.1573,  2.0848, -0.2895],\n",
       "│                    [-1.6838,  1.2582, -0.9084]],\n",
       "│           \n",
       "│                   [[ 0.1573,  2.0848, -0.2895],\n",
       "│                    [-1.6838,  1.2582, -0.9084]],\n",
       "│           \n",
       "│                   [[ 0.1573,  2.0848, -0.2895],\n",
       "│                    [-1.6838,  1.2582, -0.9084]],\n",
       "│           \n",
       "│                   [[ 0.1573,  2.0848, -0.2895],\n",
       "│                    [-1.6838,  1.2582, -0.9084]],\n",
       "│           \n",
       "│                   [[ 0.1573,  2.0848, -0.2895],\n",
       "│                    [-1.6838,  1.2582, -0.9084]],\n",
       "│           \n",
       "│                   [[ 0.1573,  2.0848, -0.2895],\n",
       "│                    [-1.6838,  1.2582, -0.9084]]])\n",
       "└── 'x' --> <FastTreeValue 0x7fc164bca3a0>\n",
       "    └── 'c' --> tensor([[[ 0.3534, -0.1203, -1.4135, -0.4582],\n",
       "                         [-0.4694,  0.4467,  0.5777,  1.3706],\n",
       "                         [-0.1595, -0.5754,  0.5351, -0.5888]],\n",
       "                \n",
       "                        [[ 0.3534, -0.1203, -1.4135, -0.4582],\n",
       "                         [-0.4694,  0.4467,  0.5777,  1.3706],\n",
       "                         [-0.1595, -0.5754,  0.5351, -0.5888]],\n",
       "                \n",
       "                        [[ 0.3534, -0.1203, -1.4135, -0.4582],\n",
       "                         [-0.4694,  0.4467,  0.5777,  1.3706],\n",
       "                         [-0.1595, -0.5754,  0.5351, -0.5888]],\n",
       "                \n",
       "                        [[ 0.3534, -0.1203, -1.4135, -0.4582],\n",
       "                         [-0.4694,  0.4467,  0.5777,  1.3706],\n",
       "                         [-0.1595, -0.5754,  0.5351, -0.5888]],\n",
       "                \n",
       "                        [[ 0.3534, -0.1203, -1.4135, -0.4582],\n",
       "                         [-0.4694,  0.4467,  0.5777,  1.3706],\n",
       "                         [-0.1595, -0.5754,  0.5351, -0.5888]],\n",
       "                \n",
       "                        [[ 0.3534, -0.1203, -1.4135, -0.4582],\n",
       "                         [-0.4694,  0.4467,  0.5777,  1.3706],\n",
       "                         [-0.1595, -0.5754,  0.5351, -0.5888]],\n",
       "                \n",
       "                        [[ 0.3534, -0.1203, -1.4135, -0.4582],\n",
       "                         [-0.4694,  0.4467,  0.5777,  1.3706],\n",
       "                         [-0.1595, -0.5754,  0.5351, -0.5888]],\n",
       "                \n",
       "                        [[ 0.3534, -0.1203, -1.4135, -0.4582],\n",
       "                         [-0.4694,  0.4467,  0.5777,  1.3706],\n",
       "                         [-0.1595, -0.5754,  0.5351, -0.5888]]])"
      ]
     },
     "execution_count": 20,
     "metadata": {},
     "output_type": "execute_result"
    }
   ],
   "source": [
    "t_stack = FastTreeValue.func(subside=True)(torch.stack)\n",
    "\n",
    "t_stack(trees)"
   ]
  },
  {
   "cell_type": "code",
   "execution_count": 21,
   "id": "f8b3f415",
   "metadata": {
    "execution": {
     "iopub.execute_input": "2023-01-20T08:16:08.377950Z",
     "iopub.status.busy": "2023-01-20T08:16:08.377682Z",
     "iopub.status.idle": "2023-01-20T08:16:12.122295Z",
     "shell.execute_reply": "2023-01-20T08:16:12.121402Z"
    }
   },
   "outputs": [
    {
     "name": "stdout",
     "output_type": "stream",
     "text": [
      "46.1 µs ± 1.2 µs per loop (mean ± std. dev. of 7 runs, 10,000 loops each)\n"
     ]
    }
   ],
   "source": [
    "%timeit t_stack(trees)"
   ]
  },
  {
   "cell_type": "code",
   "execution_count": 22,
   "id": "94b56771",
   "metadata": {
    "execution": {
     "iopub.execute_input": "2023-01-20T08:16:12.126910Z",
     "iopub.status.busy": "2023-01-20T08:16:12.126269Z",
     "iopub.status.idle": "2023-01-20T08:16:12.136304Z",
     "shell.execute_reply": "2023-01-20T08:16:12.135254Z"
    }
   },
   "outputs": [
    {
     "data": {
      "text/plain": [
       "<FastTreeValue 0x7fc0e87b0a00>\n",
       "├── 'a' --> tensor([[ 0.1573,  2.0848, -0.2895],\n",
       "│                   [-1.6838,  1.2582, -0.9084],\n",
       "│                   [ 0.1573,  2.0848, -0.2895],\n",
       "│                   [-1.6838,  1.2582, -0.9084],\n",
       "│                   [ 0.1573,  2.0848, -0.2895],\n",
       "│                   [-1.6838,  1.2582, -0.9084],\n",
       "│                   [ 0.1573,  2.0848, -0.2895],\n",
       "│                   [-1.6838,  1.2582, -0.9084],\n",
       "│                   [ 0.1573,  2.0848, -0.2895],\n",
       "│                   [-1.6838,  1.2582, -0.9084],\n",
       "│                   [ 0.1573,  2.0848, -0.2895],\n",
       "│                   [-1.6838,  1.2582, -0.9084],\n",
       "│                   [ 0.1573,  2.0848, -0.2895],\n",
       "│                   [-1.6838,  1.2582, -0.9084],\n",
       "│                   [ 0.1573,  2.0848, -0.2895],\n",
       "│                   [-1.6838,  1.2582, -0.9084]])\n",
       "└── 'x' --> <FastTreeValue 0x7fc164bcae20>\n",
       "    └── 'c' --> tensor([[ 0.3534, -0.1203, -1.4135, -0.4582],\n",
       "                        [-0.4694,  0.4467,  0.5777,  1.3706],\n",
       "                        [-0.1595, -0.5754,  0.5351, -0.5888],\n",
       "                        [ 0.3534, -0.1203, -1.4135, -0.4582],\n",
       "                        [-0.4694,  0.4467,  0.5777,  1.3706],\n",
       "                        [-0.1595, -0.5754,  0.5351, -0.5888],\n",
       "                        [ 0.3534, -0.1203, -1.4135, -0.4582],\n",
       "                        [-0.4694,  0.4467,  0.5777,  1.3706],\n",
       "                        [-0.1595, -0.5754,  0.5351, -0.5888],\n",
       "                        [ 0.3534, -0.1203, -1.4135, -0.4582],\n",
       "                        [-0.4694,  0.4467,  0.5777,  1.3706],\n",
       "                        [-0.1595, -0.5754,  0.5351, -0.5888],\n",
       "                        [ 0.3534, -0.1203, -1.4135, -0.4582],\n",
       "                        [-0.4694,  0.4467,  0.5777,  1.3706],\n",
       "                        [-0.1595, -0.5754,  0.5351, -0.5888],\n",
       "                        [ 0.3534, -0.1203, -1.4135, -0.4582],\n",
       "                        [-0.4694,  0.4467,  0.5777,  1.3706],\n",
       "                        [-0.1595, -0.5754,  0.5351, -0.5888],\n",
       "                        [ 0.3534, -0.1203, -1.4135, -0.4582],\n",
       "                        [-0.4694,  0.4467,  0.5777,  1.3706],\n",
       "                        [-0.1595, -0.5754,  0.5351, -0.5888],\n",
       "                        [ 0.3534, -0.1203, -1.4135, -0.4582],\n",
       "                        [-0.4694,  0.4467,  0.5777,  1.3706],\n",
       "                        [-0.1595, -0.5754,  0.5351, -0.5888]])"
      ]
     },
     "execution_count": 22,
     "metadata": {},
     "output_type": "execute_result"
    }
   ],
   "source": [
    "t_cat = FastTreeValue.func(subside=True)(torch.cat)\n",
    "\n",
    "t_cat(trees)"
   ]
  },
  {
   "cell_type": "code",
   "execution_count": 23,
   "id": "5e9c06a6",
   "metadata": {
    "execution": {
     "iopub.execute_input": "2023-01-20T08:16:12.140677Z",
     "iopub.status.busy": "2023-01-20T08:16:12.140173Z",
     "iopub.status.idle": "2023-01-20T08:16:15.614314Z",
     "shell.execute_reply": "2023-01-20T08:16:15.613448Z"
    }
   },
   "outputs": [
    {
     "name": "stdout",
     "output_type": "stream",
     "text": [
      "42.7 µs ± 997 ns per loop (mean ± std. dev. of 7 runs, 10,000 loops each)\n"
     ]
    }
   ],
   "source": [
    "%timeit t_cat(trees)"
   ]
  },
  {
   "cell_type": "code",
   "execution_count": 24,
   "id": "a3ab5c8f",
   "metadata": {
    "execution": {
     "iopub.execute_input": "2023-01-20T08:16:15.618786Z",
     "iopub.status.busy": "2023-01-20T08:16:15.618052Z",
     "iopub.status.idle": "2023-01-20T08:16:22.205339Z",
     "shell.execute_reply": "2023-01-20T08:16:22.204399Z"
    }
   },
   "outputs": [
    {
     "name": "stdout",
     "output_type": "stream",
     "text": [
      "81 µs ± 1.25 µs per loop (mean ± std. dev. of 7 runs, 10,000 loops each)\n"
     ]
    }
   ],
   "source": [
    "t_split = FastTreeValue.func(rise=True)(torch.split)\n",
    "tree = FastTreeValue({\n",
    "    'obs': torch.randn(8, 4, 84, 84),\n",
    "    'action': torch.randint(0, 6, size=(8, 1,)),\n",
    "    'reward': torch.rand(8, 1),\n",
    "})\n",
    "\n",
    "%timeit t_split(tree, 1)"
   ]
  },
  {
   "cell_type": "markdown",
   "id": "31c3ec0b",
   "metadata": {},
   "source": [
    "### Performance of Tianshou Batch"
   ]
  },
  {
   "cell_type": "code",
   "execution_count": 25,
   "id": "9ead828a",
   "metadata": {
    "execution": {
     "iopub.execute_input": "2023-01-20T08:16:22.212197Z",
     "iopub.status.busy": "2023-01-20T08:16:22.209858Z",
     "iopub.status.idle": "2023-01-20T08:16:22.222420Z",
     "shell.execute_reply": "2023-01-20T08:16:22.221410Z"
    }
   },
   "outputs": [
    {
     "data": {
      "text/plain": [
       "Batch(\n",
       "    a: tensor([[[ 0.1573,  2.0848, -0.2895],\n",
       "                [-1.6838,  1.2582, -0.9084]],\n",
       "       \n",
       "               [[ 0.1573,  2.0848, -0.2895],\n",
       "                [-1.6838,  1.2582, -0.9084]],\n",
       "       \n",
       "               [[ 0.1573,  2.0848, -0.2895],\n",
       "                [-1.6838,  1.2582, -0.9084]],\n",
       "       \n",
       "               [[ 0.1573,  2.0848, -0.2895],\n",
       "                [-1.6838,  1.2582, -0.9084]],\n",
       "       \n",
       "               [[ 0.1573,  2.0848, -0.2895],\n",
       "                [-1.6838,  1.2582, -0.9084]],\n",
       "       \n",
       "               [[ 0.1573,  2.0848, -0.2895],\n",
       "                [-1.6838,  1.2582, -0.9084]],\n",
       "       \n",
       "               [[ 0.1573,  2.0848, -0.2895],\n",
       "                [-1.6838,  1.2582, -0.9084]],\n",
       "       \n",
       "               [[ 0.1573,  2.0848, -0.2895],\n",
       "                [-1.6838,  1.2582, -0.9084]]]),\n",
       "    x: Batch(\n",
       "           c: tensor([[[ 0.3534, -0.1203, -1.4135, -0.4582],\n",
       "                       [-0.4694,  0.4467,  0.5777,  1.3706],\n",
       "                       [-0.1595, -0.5754,  0.5351, -0.5888]],\n",
       "              \n",
       "                      [[ 0.3534, -0.1203, -1.4135, -0.4582],\n",
       "                       [-0.4694,  0.4467,  0.5777,  1.3706],\n",
       "                       [-0.1595, -0.5754,  0.5351, -0.5888]],\n",
       "              \n",
       "                      [[ 0.3534, -0.1203, -1.4135, -0.4582],\n",
       "                       [-0.4694,  0.4467,  0.5777,  1.3706],\n",
       "                       [-0.1595, -0.5754,  0.5351, -0.5888]],\n",
       "              \n",
       "                      [[ 0.3534, -0.1203, -1.4135, -0.4582],\n",
       "                       [-0.4694,  0.4467,  0.5777,  1.3706],\n",
       "                       [-0.1595, -0.5754,  0.5351, -0.5888]],\n",
       "              \n",
       "                      [[ 0.3534, -0.1203, -1.4135, -0.4582],\n",
       "                       [-0.4694,  0.4467,  0.5777,  1.3706],\n",
       "                       [-0.1595, -0.5754,  0.5351, -0.5888]],\n",
       "              \n",
       "                      [[ 0.3534, -0.1203, -1.4135, -0.4582],\n",
       "                       [-0.4694,  0.4467,  0.5777,  1.3706],\n",
       "                       [-0.1595, -0.5754,  0.5351, -0.5888]],\n",
       "              \n",
       "                      [[ 0.3534, -0.1203, -1.4135, -0.4582],\n",
       "                       [-0.4694,  0.4467,  0.5777,  1.3706],\n",
       "                       [-0.1595, -0.5754,  0.5351, -0.5888]],\n",
       "              \n",
       "                      [[ 0.3534, -0.1203, -1.4135, -0.4582],\n",
       "                       [-0.4694,  0.4467,  0.5777,  1.3706],\n",
       "                       [-0.1595, -0.5754,  0.5351, -0.5888]]]),\n",
       "       ),\n",
       ")"
      ]
     },
     "execution_count": 25,
     "metadata": {},
     "output_type": "execute_result"
    }
   ],
   "source": [
    "batches = [Batch(**_TREE_DATA_2) for _ in range(8)]\n",
    "\n",
    "Batch.stack(batches)"
   ]
  },
  {
   "cell_type": "code",
   "execution_count": 26,
   "id": "ec9037a3",
   "metadata": {
    "execution": {
     "iopub.execute_input": "2023-01-20T08:16:22.229211Z",
     "iopub.status.busy": "2023-01-20T08:16:22.228334Z",
     "iopub.status.idle": "2023-01-20T08:16:30.860038Z",
     "shell.execute_reply": "2023-01-20T08:16:30.858711Z"
    }
   },
   "outputs": [
    {
     "name": "stdout",
     "output_type": "stream",
     "text": [
      "106 µs ± 2.29 µs per loop (mean ± std. dev. of 7 runs, 10,000 loops each)\n"
     ]
    }
   ],
   "source": [
    "%timeit Batch.stack(batches)"
   ]
  },
  {
   "cell_type": "code",
   "execution_count": 27,
   "id": "cb8ab77e",
   "metadata": {
    "execution": {
     "iopub.execute_input": "2023-01-20T08:16:30.864564Z",
     "iopub.status.busy": "2023-01-20T08:16:30.864057Z",
     "iopub.status.idle": "2023-01-20T08:16:30.874479Z",
     "shell.execute_reply": "2023-01-20T08:16:30.873603Z"
    }
   },
   "outputs": [
    {
     "data": {
      "text/plain": [
       "Batch(\n",
       "    a: tensor([[ 0.1573,  2.0848, -0.2895],\n",
       "               [-1.6838,  1.2582, -0.9084],\n",
       "               [ 0.1573,  2.0848, -0.2895],\n",
       "               [-1.6838,  1.2582, -0.9084],\n",
       "               [ 0.1573,  2.0848, -0.2895],\n",
       "               [-1.6838,  1.2582, -0.9084],\n",
       "               [ 0.1573,  2.0848, -0.2895],\n",
       "               [-1.6838,  1.2582, -0.9084],\n",
       "               [ 0.1573,  2.0848, -0.2895],\n",
       "               [-1.6838,  1.2582, -0.9084],\n",
       "               [ 0.1573,  2.0848, -0.2895],\n",
       "               [-1.6838,  1.2582, -0.9084],\n",
       "               [ 0.1573,  2.0848, -0.2895],\n",
       "               [-1.6838,  1.2582, -0.9084],\n",
       "               [ 0.1573,  2.0848, -0.2895],\n",
       "               [-1.6838,  1.2582, -0.9084]]),\n",
       "    x: Batch(\n",
       "           c: tensor([[ 0.3534, -0.1203, -1.4135, -0.4582],\n",
       "                      [-0.4694,  0.4467,  0.5777,  1.3706],\n",
       "                      [-0.1595, -0.5754,  0.5351, -0.5888],\n",
       "                      [ 0.3534, -0.1203, -1.4135, -0.4582],\n",
       "                      [-0.4694,  0.4467,  0.5777,  1.3706],\n",
       "                      [-0.1595, -0.5754,  0.5351, -0.5888],\n",
       "                      [ 0.3534, -0.1203, -1.4135, -0.4582],\n",
       "                      [-0.4694,  0.4467,  0.5777,  1.3706],\n",
       "                      [-0.1595, -0.5754,  0.5351, -0.5888],\n",
       "                      [ 0.3534, -0.1203, -1.4135, -0.4582],\n",
       "                      [-0.4694,  0.4467,  0.5777,  1.3706],\n",
       "                      [-0.1595, -0.5754,  0.5351, -0.5888],\n",
       "                      [ 0.3534, -0.1203, -1.4135, -0.4582],\n",
       "                      [-0.4694,  0.4467,  0.5777,  1.3706],\n",
       "                      [-0.1595, -0.5754,  0.5351, -0.5888],\n",
       "                      [ 0.3534, -0.1203, -1.4135, -0.4582],\n",
       "                      [-0.4694,  0.4467,  0.5777,  1.3706],\n",
       "                      [-0.1595, -0.5754,  0.5351, -0.5888],\n",
       "                      [ 0.3534, -0.1203, -1.4135, -0.4582],\n",
       "                      [-0.4694,  0.4467,  0.5777,  1.3706],\n",
       "                      [-0.1595, -0.5754,  0.5351, -0.5888],\n",
       "                      [ 0.3534, -0.1203, -1.4135, -0.4582],\n",
       "                      [-0.4694,  0.4467,  0.5777,  1.3706],\n",
       "                      [-0.1595, -0.5754,  0.5351, -0.5888]]),\n",
       "       ),\n",
       ")"
      ]
     },
     "execution_count": 27,
     "metadata": {},
     "output_type": "execute_result"
    }
   ],
   "source": [
    "Batch.cat(batches)"
   ]
  },
  {
   "cell_type": "code",
   "execution_count": 28,
   "id": "18dfb045",
   "metadata": {
    "execution": {
     "iopub.execute_input": "2023-01-20T08:16:30.879843Z",
     "iopub.status.busy": "2023-01-20T08:16:30.879268Z",
     "iopub.status.idle": "2023-01-20T08:16:46.367624Z",
     "shell.execute_reply": "2023-01-20T08:16:46.366579Z"
    }
   },
   "outputs": [
    {
     "name": "stdout",
     "output_type": "stream",
     "text": [
      "191 µs ± 4.25 µs per loop (mean ± std. dev. of 7 runs, 10,000 loops each)\n"
     ]
    }
   ],
   "source": [
    "%timeit Batch.cat(batches)"
   ]
  },
  {
   "cell_type": "code",
   "execution_count": 29,
   "id": "c6688e51",
   "metadata": {
    "execution": {
     "iopub.execute_input": "2023-01-20T08:16:46.372359Z",
     "iopub.status.busy": "2023-01-20T08:16:46.371531Z",
     "iopub.status.idle": "2023-01-20T08:16:51.195333Z",
     "shell.execute_reply": "2023-01-20T08:16:51.194281Z"
    }
   },
   "outputs": [
    {
     "name": "stdout",
     "output_type": "stream",
     "text": [
      "596 µs ± 11.2 µs per loop (mean ± std. dev. of 7 runs, 1,000 loops each)\n"
     ]
    }
   ],
   "source": [
    "batch = Batch({\n",
    "    'obs': torch.randn(8, 4, 84, 84),\n",
    "    'action': torch.randint(0, 6, size=(8, 1,)),\n",
    "    'reward': torch.rand(8, 1)}\n",
    ")\n",
    "\n",
    "%timeit list(Batch.split(batch, 1, shuffle=False, merge_last=True))"
   ]
  },
  {
   "cell_type": "code",
   "execution_count": null,
   "id": "2539fbd9",
   "metadata": {},
   "outputs": [],
   "source": []
  }
 ],
 "metadata": {
  "kernelspec": {
   "display_name": "Python 3 (ipykernel)",
   "language": "python",
   "name": "python3"
  },
  "language_info": {
   "codemirror_mode": {
    "name": "ipython",
    "version": 3
   },
   "file_extension": ".py",
   "mimetype": "text/x-python",
   "name": "python",
   "nbconvert_exporter": "python",
   "pygments_lexer": "ipython3",
   "version": "3.8.16"
  }
 },
 "nbformat": 4,
 "nbformat_minor": 5
}
