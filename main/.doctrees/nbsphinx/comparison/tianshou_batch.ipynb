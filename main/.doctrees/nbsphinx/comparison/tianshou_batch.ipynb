{
 "cells": [
  {
   "cell_type": "markdown",
   "id": "9d39d946",
   "metadata": {},
   "source": [
    "# Comparison Between TreeValue and Tianshou Batch"
   ]
  },
  {
   "cell_type": "markdown",
   "id": "3c6db2d4",
   "metadata": {},
   "source": [
    "In this section, we will take a look at the feature and performance of the [Tianshou Batch](https://github.com/thu-ml/tianshou) library, which is developed by Tsinghua Machine Learning Group."
   ]
  },
  {
   "cell_type": "markdown",
   "id": "069361b0",
   "metadata": {},
   "source": [
    "Before starting the comparison, let us define some thing."
   ]
  },
  {
   "cell_type": "code",
   "execution_count": 1,
   "id": "06fc8d26",
   "metadata": {
    "execution": {
     "iopub.execute_input": "2023-03-06T10:50:18.442413Z",
     "iopub.status.busy": "2023-03-06T10:50:18.441804Z",
     "iopub.status.idle": "2023-03-06T10:50:19.356833Z",
     "shell.execute_reply": "2023-03-06T10:50:19.356152Z"
    }
   },
   "outputs": [
    {
     "name": "stderr",
     "output_type": "stream",
     "text": [
      "/opt/hostedtoolcache/Python/3.8.16/x64/lib/python3.8/site-packages/tqdm/auto.py:21: TqdmWarning: IProgress not found. Please update jupyter and ipywidgets. See https://ipywidgets.readthedocs.io/en/stable/user_install.html\n",
      "  from .autonotebook import tqdm as notebook_tqdm\n"
     ]
    }
   ],
   "source": [
    "import torch \n",
    "\n",
    "_TREE_DATA_1 = {'a': 1, 'b': 2, 'x': {'c': 3, 'd': 4}}\n",
    "_TREE_DATA_2 = {\n",
    "    'a': torch.randn(2, 3), \n",
    "    'x': {\n",
    "        'c': torch.randn(3, 4)\n",
    "    },\n",
    "}\n",
    "_TREE_DATA_3 = {\n",
    "    'obs': torch.randn(4, 84, 84),\n",
    "    'action': torch.randint(0, 6, size=(1,)),\n",
    "    'reward': torch.rand(1),\n",
    "}"
   ]
  },
  {
   "cell_type": "markdown",
   "id": "83461b25",
   "metadata": {},
   "source": [
    "## Read and Write Operation"
   ]
  },
  {
   "cell_type": "markdown",
   "id": "067b3f73",
   "metadata": {},
   "source": [
    "Reading and writing are the two most common operations in the tree data structure based on the data model (TreeValue and Tianshou Batch both belong to this type), so this section will compare the reading and writing performance of these two libraries."
   ]
  },
  {
   "cell_type": "markdown",
   "id": "5d09a5b7",
   "metadata": {},
   "source": [
    "### TreeValue's Get and Set"
   ]
  },
  {
   "cell_type": "code",
   "execution_count": 2,
   "id": "9519c4bb",
   "metadata": {
    "execution": {
     "iopub.execute_input": "2023-03-06T10:50:19.360239Z",
     "iopub.status.busy": "2023-03-06T10:50:19.359623Z",
     "iopub.status.idle": "2023-03-06T10:50:19.640669Z",
     "shell.execute_reply": "2023-03-06T10:50:19.639954Z"
    }
   },
   "outputs": [],
   "source": [
    "from treevalue import FastTreeValue\n",
    "\n",
    "t = FastTreeValue(_TREE_DATA_2)"
   ]
  },
  {
   "cell_type": "code",
   "execution_count": 3,
   "id": "11c37677",
   "metadata": {
    "execution": {
     "iopub.execute_input": "2023-03-06T10:50:19.644148Z",
     "iopub.status.busy": "2023-03-06T10:50:19.643508Z",
     "iopub.status.idle": "2023-03-06T10:50:19.653812Z",
     "shell.execute_reply": "2023-03-06T10:50:19.653213Z"
    }
   },
   "outputs": [
    {
     "data": {
      "text/plain": [
       "<FastTreeValue 0x7f7b38037460>\n",
       "├── 'a' --> tensor([[-1.5873, -0.6847, -0.4494],\n",
       "│                   [-1.5296,  3.3561, -0.5296]])\n",
       "└── 'x' --> <FastTreeValue 0x7f7b38088b20>\n",
       "    └── 'c' --> tensor([[ 0.7738, -0.2115, -0.0797, -0.3335],\n",
       "                        [-0.6632,  1.0757, -0.9225, -0.4106],\n",
       "                        [-2.1503,  0.1796, -1.0458, -1.2582]])"
      ]
     },
     "execution_count": 3,
     "metadata": {},
     "output_type": "execute_result"
    }
   ],
   "source": [
    "t"
   ]
  },
  {
   "cell_type": "code",
   "execution_count": 4,
   "id": "fd70b0b9",
   "metadata": {
    "execution": {
     "iopub.execute_input": "2023-03-06T10:50:19.656458Z",
     "iopub.status.busy": "2023-03-06T10:50:19.656032Z",
     "iopub.status.idle": "2023-03-06T10:50:19.661580Z",
     "shell.execute_reply": "2023-03-06T10:50:19.661016Z"
    }
   },
   "outputs": [
    {
     "data": {
      "text/plain": [
       "tensor([[-1.5873, -0.6847, -0.4494],\n",
       "        [-1.5296,  3.3561, -0.5296]])"
      ]
     },
     "execution_count": 4,
     "metadata": {},
     "output_type": "execute_result"
    }
   ],
   "source": [
    "t.a"
   ]
  },
  {
   "cell_type": "code",
   "execution_count": 5,
   "id": "c18197bd",
   "metadata": {
    "execution": {
     "iopub.execute_input": "2023-03-06T10:50:19.664384Z",
     "iopub.status.busy": "2023-03-06T10:50:19.663915Z",
     "iopub.status.idle": "2023-03-06T10:50:24.363953Z",
     "shell.execute_reply": "2023-03-06T10:50:24.363276Z"
    }
   },
   "outputs": [
    {
     "name": "stdout",
     "output_type": "stream",
     "text": [
      "57.6 ns ± 0.0588 ns per loop (mean ± std. dev. of 7 runs, 10,000,000 loops each)\n"
     ]
    }
   ],
   "source": [
    "%timeit t.a"
   ]
  },
  {
   "cell_type": "code",
   "execution_count": 6,
   "id": "bd52f867",
   "metadata": {
    "execution": {
     "iopub.execute_input": "2023-03-06T10:50:24.367012Z",
     "iopub.status.busy": "2023-03-06T10:50:24.366662Z",
     "iopub.status.idle": "2023-03-06T10:50:24.373747Z",
     "shell.execute_reply": "2023-03-06T10:50:24.373166Z"
    }
   },
   "outputs": [
    {
     "data": {
      "text/plain": [
       "<FastTreeValue 0x7f7b38037460>\n",
       "├── 'a' --> tensor([[ 0.0054, -1.1224,  0.7509],\n",
       "│                   [-0.2868, -0.8945, -2.0345]])\n",
       "└── 'x' --> <FastTreeValue 0x7f7b38088b20>\n",
       "    └── 'c' --> tensor([[ 0.7738, -0.2115, -0.0797, -0.3335],\n",
       "                        [-0.6632,  1.0757, -0.9225, -0.4106],\n",
       "                        [-2.1503,  0.1796, -1.0458, -1.2582]])"
      ]
     },
     "execution_count": 6,
     "metadata": {},
     "output_type": "execute_result"
    }
   ],
   "source": [
    "new_value = torch.randn(2, 3)\n",
    "t.a = new_value\n",
    "\n",
    "t"
   ]
  },
  {
   "cell_type": "code",
   "execution_count": 7,
   "id": "bbe04d1c",
   "metadata": {
    "execution": {
     "iopub.execute_input": "2023-03-06T10:50:24.376622Z",
     "iopub.status.busy": "2023-03-06T10:50:24.376053Z",
     "iopub.status.idle": "2023-03-06T10:50:30.057348Z",
     "shell.execute_reply": "2023-03-06T10:50:30.056682Z"
    }
   },
   "outputs": [
    {
     "name": "stdout",
     "output_type": "stream",
     "text": [
      "70.3 ns ± 0.0285 ns per loop (mean ± std. dev. of 7 runs, 10,000,000 loops each)\n"
     ]
    }
   ],
   "source": [
    "%timeit t.a = new_value"
   ]
  },
  {
   "cell_type": "markdown",
   "id": "48c49731",
   "metadata": {},
   "source": [
    "### Tianshou Batch's Get and Set"
   ]
  },
  {
   "cell_type": "code",
   "execution_count": 8,
   "id": "f1bb14c1",
   "metadata": {
    "execution": {
     "iopub.execute_input": "2023-03-06T10:50:30.060909Z",
     "iopub.status.busy": "2023-03-06T10:50:30.059793Z",
     "iopub.status.idle": "2023-03-06T10:50:30.393479Z",
     "shell.execute_reply": "2023-03-06T10:50:30.392794Z"
    }
   },
   "outputs": [],
   "source": [
    "from tianshou.data import Batch\n",
    "\n",
    "b = Batch(**_TREE_DATA_2)"
   ]
  },
  {
   "cell_type": "code",
   "execution_count": 9,
   "id": "cb0777c3",
   "metadata": {
    "execution": {
     "iopub.execute_input": "2023-03-06T10:50:30.396882Z",
     "iopub.status.busy": "2023-03-06T10:50:30.396134Z",
     "iopub.status.idle": "2023-03-06T10:50:30.402339Z",
     "shell.execute_reply": "2023-03-06T10:50:30.401750Z"
    }
   },
   "outputs": [
    {
     "data": {
      "text/plain": [
       "Batch(\n",
       "    a: tensor([[-1.5873, -0.6847, -0.4494],\n",
       "               [-1.5296,  3.3561, -0.5296]]),\n",
       "    x: Batch(\n",
       "           c: tensor([[ 0.7738, -0.2115, -0.0797, -0.3335],\n",
       "                      [-0.6632,  1.0757, -0.9225, -0.4106],\n",
       "                      [-2.1503,  0.1796, -1.0458, -1.2582]]),\n",
       "       ),\n",
       ")"
      ]
     },
     "execution_count": 9,
     "metadata": {},
     "output_type": "execute_result"
    }
   ],
   "source": [
    "b"
   ]
  },
  {
   "cell_type": "code",
   "execution_count": 10,
   "id": "43ef8ea3",
   "metadata": {
    "execution": {
     "iopub.execute_input": "2023-03-06T10:50:30.405157Z",
     "iopub.status.busy": "2023-03-06T10:50:30.404819Z",
     "iopub.status.idle": "2023-03-06T10:50:30.410385Z",
     "shell.execute_reply": "2023-03-06T10:50:30.409807Z"
    }
   },
   "outputs": [
    {
     "data": {
      "text/plain": [
       "tensor([[-1.5873, -0.6847, -0.4494],\n",
       "        [-1.5296,  3.3561, -0.5296]])"
      ]
     },
     "execution_count": 10,
     "metadata": {},
     "output_type": "execute_result"
    }
   ],
   "source": [
    "b.a"
   ]
  },
  {
   "cell_type": "code",
   "execution_count": 11,
   "id": "b785ab72",
   "metadata": {
    "execution": {
     "iopub.execute_input": "2023-03-06T10:50:30.413311Z",
     "iopub.status.busy": "2023-03-06T10:50:30.412839Z",
     "iopub.status.idle": "2023-03-06T10:50:34.662294Z",
     "shell.execute_reply": "2023-03-06T10:50:34.661628Z"
    }
   },
   "outputs": [
    {
     "name": "stdout",
     "output_type": "stream",
     "text": [
      "52.4 ns ± 0.0256 ns per loop (mean ± std. dev. of 7 runs, 10,000,000 loops each)\n"
     ]
    }
   ],
   "source": [
    "%timeit b.a"
   ]
  },
  {
   "cell_type": "code",
   "execution_count": 12,
   "id": "ad54dc69",
   "metadata": {
    "execution": {
     "iopub.execute_input": "2023-03-06T10:50:34.665280Z",
     "iopub.status.busy": "2023-03-06T10:50:34.664930Z",
     "iopub.status.idle": "2023-03-06T10:50:34.671178Z",
     "shell.execute_reply": "2023-03-06T10:50:34.670590Z"
    }
   },
   "outputs": [
    {
     "data": {
      "text/plain": [
       "Batch(\n",
       "    a: tensor([[-0.8777,  0.4581, -1.6927],\n",
       "               [-0.0432, -0.4496, -1.4646]]),\n",
       "    x: Batch(\n",
       "           c: tensor([[ 0.7738, -0.2115, -0.0797, -0.3335],\n",
       "                      [-0.6632,  1.0757, -0.9225, -0.4106],\n",
       "                      [-2.1503,  0.1796, -1.0458, -1.2582]]),\n",
       "       ),\n",
       ")"
      ]
     },
     "execution_count": 12,
     "metadata": {},
     "output_type": "execute_result"
    }
   ],
   "source": [
    "new_value = torch.randn(2, 3)\n",
    "b.a = new_value\n",
    "\n",
    "b"
   ]
  },
  {
   "cell_type": "code",
   "execution_count": 13,
   "id": "29b1d0bf",
   "metadata": {
    "execution": {
     "iopub.execute_input": "2023-03-06T10:50:34.673805Z",
     "iopub.status.busy": "2023-03-06T10:50:34.673485Z",
     "iopub.status.idle": "2023-03-06T10:50:38.617276Z",
     "shell.execute_reply": "2023-03-06T10:50:38.616625Z"
    }
   },
   "outputs": [
    {
     "name": "stdout",
     "output_type": "stream",
     "text": [
      "485 ns ± 0.223 ns per loop (mean ± std. dev. of 7 runs, 1,000,000 loops each)\n"
     ]
    }
   ],
   "source": [
    "%timeit b.a = new_value"
   ]
  },
  {
   "cell_type": "markdown",
   "id": "b61ad1d0",
   "metadata": {},
   "source": [
    "## Initialization"
   ]
  },
  {
   "cell_type": "markdown",
   "id": "d70f0d54",
   "metadata": {},
   "source": [
    "### TreeValue's Initialization"
   ]
  },
  {
   "cell_type": "code",
   "execution_count": 14,
   "id": "d32a679b",
   "metadata": {
    "execution": {
     "iopub.execute_input": "2023-03-06T10:50:38.620504Z",
     "iopub.status.busy": "2023-03-06T10:50:38.619994Z",
     "iopub.status.idle": "2023-03-06T10:50:45.472402Z",
     "shell.execute_reply": "2023-03-06T10:50:45.471687Z"
    }
   },
   "outputs": [
    {
     "name": "stdout",
     "output_type": "stream",
     "text": [
      "844 ns ± 2.84 ns per loop (mean ± std. dev. of 7 runs, 1,000,000 loops each)\n"
     ]
    }
   ],
   "source": [
    "%timeit FastTreeValue(_TREE_DATA_1)"
   ]
  },
  {
   "cell_type": "markdown",
   "id": "24f3707b",
   "metadata": {},
   "source": [
    "### Tianshou Batch's Initialization"
   ]
  },
  {
   "cell_type": "code",
   "execution_count": 15,
   "id": "ac3958df",
   "metadata": {
    "execution": {
     "iopub.execute_input": "2023-03-06T10:50:45.475339Z",
     "iopub.status.busy": "2023-03-06T10:50:45.474714Z",
     "iopub.status.idle": "2023-03-06T10:50:54.714533Z",
     "shell.execute_reply": "2023-03-06T10:50:54.713788Z"
    }
   },
   "outputs": [
    {
     "name": "stdout",
     "output_type": "stream",
     "text": [
      "11.4 µs ± 6.93 ns per loop (mean ± std. dev. of 7 runs, 100,000 loops each)\n"
     ]
    }
   ],
   "source": [
    "%timeit Batch(**_TREE_DATA_1)"
   ]
  },
  {
   "cell_type": "markdown",
   "id": "1ab82e2d",
   "metadata": {},
   "source": [
    "## Deep Copy Operation"
   ]
  },
  {
   "cell_type": "code",
   "execution_count": 16,
   "id": "210a9442",
   "metadata": {
    "execution": {
     "iopub.execute_input": "2023-03-06T10:50:54.717690Z",
     "iopub.status.busy": "2023-03-06T10:50:54.717182Z",
     "iopub.status.idle": "2023-03-06T10:50:54.721061Z",
     "shell.execute_reply": "2023-03-06T10:50:54.720469Z"
    }
   },
   "outputs": [],
   "source": [
    "import copy"
   ]
  },
  {
   "cell_type": "markdown",
   "id": "5a736274",
   "metadata": {},
   "source": [
    "### Deep Copy of TreeValue"
   ]
  },
  {
   "cell_type": "code",
   "execution_count": 17,
   "id": "f9bcadd6",
   "metadata": {
    "execution": {
     "iopub.execute_input": "2023-03-06T10:50:54.723729Z",
     "iopub.status.busy": "2023-03-06T10:50:54.723403Z",
     "iopub.status.idle": "2023-03-06T10:51:06.164924Z",
     "shell.execute_reply": "2023-03-06T10:51:06.164341Z"
    }
   },
   "outputs": [
    {
     "name": "stdout",
     "output_type": "stream",
     "text": [
      "141 µs ± 2.89 µs per loop (mean ± std. dev. of 7 runs, 10,000 loops each)\n"
     ]
    }
   ],
   "source": [
    "t3 = FastTreeValue(_TREE_DATA_3)\n",
    "%timeit copy.deepcopy(t3)"
   ]
  },
  {
   "cell_type": "markdown",
   "id": "bf8be7ea",
   "metadata": {},
   "source": [
    "### Deep Copy of Tianshou Batch"
   ]
  },
  {
   "cell_type": "code",
   "execution_count": 18,
   "id": "91998e6f",
   "metadata": {
    "execution": {
     "iopub.execute_input": "2023-03-06T10:51:06.168206Z",
     "iopub.status.busy": "2023-03-06T10:51:06.167545Z",
     "iopub.status.idle": "2023-03-06T10:51:17.718317Z",
     "shell.execute_reply": "2023-03-06T10:51:17.717738Z"
    }
   },
   "outputs": [
    {
     "name": "stdout",
     "output_type": "stream",
     "text": [
      "142 µs ± 613 ns per loop (mean ± std. dev. of 7 runs, 10,000 loops each)\n"
     ]
    }
   ],
   "source": [
    "b3 = Batch(**_TREE_DATA_3)\n",
    "%timeit copy.deepcopy(b3)"
   ]
  },
  {
   "cell_type": "markdown",
   "id": "223162fb",
   "metadata": {},
   "source": [
    "## Stack, Concat and Split Operation"
   ]
  },
  {
   "cell_type": "markdown",
   "id": "85fa4a73",
   "metadata": {},
   "source": [
    "### Performance of TreeValue"
   ]
  },
  {
   "cell_type": "code",
   "execution_count": 19,
   "id": "a0c2b697",
   "metadata": {
    "execution": {
     "iopub.execute_input": "2023-03-06T10:51:17.722313Z",
     "iopub.status.busy": "2023-03-06T10:51:17.721154Z",
     "iopub.status.idle": "2023-03-06T10:51:17.725560Z",
     "shell.execute_reply": "2023-03-06T10:51:17.725046Z"
    }
   },
   "outputs": [],
   "source": [
    "trees = [FastTreeValue(_TREE_DATA_2) for _ in range(8)]"
   ]
  },
  {
   "cell_type": "code",
   "execution_count": 20,
   "id": "017ea5a5",
   "metadata": {
    "execution": {
     "iopub.execute_input": "2023-03-06T10:51:17.728547Z",
     "iopub.status.busy": "2023-03-06T10:51:17.728055Z",
     "iopub.status.idle": "2023-03-06T10:51:17.735481Z",
     "shell.execute_reply": "2023-03-06T10:51:17.734972Z"
    }
   },
   "outputs": [
    {
     "data": {
      "text/plain": [
       "<FastTreeValue 0x7f7a7e227790>\n",
       "├── 'a' --> tensor([[[-1.5873, -0.6847, -0.4494],\n",
       "│                    [-1.5296,  3.3561, -0.5296]],\n",
       "│           \n",
       "│                   [[-1.5873, -0.6847, -0.4494],\n",
       "│                    [-1.5296,  3.3561, -0.5296]],\n",
       "│           \n",
       "│                   [[-1.5873, -0.6847, -0.4494],\n",
       "│                    [-1.5296,  3.3561, -0.5296]],\n",
       "│           \n",
       "│                   [[-1.5873, -0.6847, -0.4494],\n",
       "│                    [-1.5296,  3.3561, -0.5296]],\n",
       "│           \n",
       "│                   [[-1.5873, -0.6847, -0.4494],\n",
       "│                    [-1.5296,  3.3561, -0.5296]],\n",
       "│           \n",
       "│                   [[-1.5873, -0.6847, -0.4494],\n",
       "│                    [-1.5296,  3.3561, -0.5296]],\n",
       "│           \n",
       "│                   [[-1.5873, -0.6847, -0.4494],\n",
       "│                    [-1.5296,  3.3561, -0.5296]],\n",
       "│           \n",
       "│                   [[-1.5873, -0.6847, -0.4494],\n",
       "│                    [-1.5296,  3.3561, -0.5296]]])\n",
       "└── 'x' --> <FastTreeValue 0x7f7a7e2273d0>\n",
       "    └── 'c' --> tensor([[[ 0.7738, -0.2115, -0.0797, -0.3335],\n",
       "                         [-0.6632,  1.0757, -0.9225, -0.4106],\n",
       "                         [-2.1503,  0.1796, -1.0458, -1.2582]],\n",
       "                \n",
       "                        [[ 0.7738, -0.2115, -0.0797, -0.3335],\n",
       "                         [-0.6632,  1.0757, -0.9225, -0.4106],\n",
       "                         [-2.1503,  0.1796, -1.0458, -1.2582]],\n",
       "                \n",
       "                        [[ 0.7738, -0.2115, -0.0797, -0.3335],\n",
       "                         [-0.6632,  1.0757, -0.9225, -0.4106],\n",
       "                         [-2.1503,  0.1796, -1.0458, -1.2582]],\n",
       "                \n",
       "                        [[ 0.7738, -0.2115, -0.0797, -0.3335],\n",
       "                         [-0.6632,  1.0757, -0.9225, -0.4106],\n",
       "                         [-2.1503,  0.1796, -1.0458, -1.2582]],\n",
       "                \n",
       "                        [[ 0.7738, -0.2115, -0.0797, -0.3335],\n",
       "                         [-0.6632,  1.0757, -0.9225, -0.4106],\n",
       "                         [-2.1503,  0.1796, -1.0458, -1.2582]],\n",
       "                \n",
       "                        [[ 0.7738, -0.2115, -0.0797, -0.3335],\n",
       "                         [-0.6632,  1.0757, -0.9225, -0.4106],\n",
       "                         [-2.1503,  0.1796, -1.0458, -1.2582]],\n",
       "                \n",
       "                        [[ 0.7738, -0.2115, -0.0797, -0.3335],\n",
       "                         [-0.6632,  1.0757, -0.9225, -0.4106],\n",
       "                         [-2.1503,  0.1796, -1.0458, -1.2582]],\n",
       "                \n",
       "                        [[ 0.7738, -0.2115, -0.0797, -0.3335],\n",
       "                         [-0.6632,  1.0757, -0.9225, -0.4106],\n",
       "                         [-2.1503,  0.1796, -1.0458, -1.2582]]])"
      ]
     },
     "execution_count": 20,
     "metadata": {},
     "output_type": "execute_result"
    }
   ],
   "source": [
    "t_stack = FastTreeValue.func(subside=True)(torch.stack)\n",
    "\n",
    "t_stack(trees)"
   ]
  },
  {
   "cell_type": "code",
   "execution_count": 21,
   "id": "f8b3f415",
   "metadata": {
    "execution": {
     "iopub.execute_input": "2023-03-06T10:51:17.737982Z",
     "iopub.status.busy": "2023-03-06T10:51:17.737418Z",
     "iopub.status.idle": "2023-03-06T10:51:20.342015Z",
     "shell.execute_reply": "2023-03-06T10:51:20.341256Z"
    }
   },
   "outputs": [
    {
     "name": "stdout",
     "output_type": "stream",
     "text": [
      "32 µs ± 35.9 ns per loop (mean ± std. dev. of 7 runs, 10,000 loops each)\n"
     ]
    }
   ],
   "source": [
    "%timeit t_stack(trees)"
   ]
  },
  {
   "cell_type": "code",
   "execution_count": 22,
   "id": "94b56771",
   "metadata": {
    "execution": {
     "iopub.execute_input": "2023-03-06T10:51:20.345081Z",
     "iopub.status.busy": "2023-03-06T10:51:20.344713Z",
     "iopub.status.idle": "2023-03-06T10:51:20.353623Z",
     "shell.execute_reply": "2023-03-06T10:51:20.353035Z"
    }
   },
   "outputs": [
    {
     "data": {
      "text/plain": [
       "<FastTreeValue 0x7f7a84e88610>\n",
       "├── 'a' --> tensor([[-1.5873, -0.6847, -0.4494],\n",
       "│                   [-1.5296,  3.3561, -0.5296],\n",
       "│                   [-1.5873, -0.6847, -0.4494],\n",
       "│                   [-1.5296,  3.3561, -0.5296],\n",
       "│                   [-1.5873, -0.6847, -0.4494],\n",
       "│                   [-1.5296,  3.3561, -0.5296],\n",
       "│                   [-1.5873, -0.6847, -0.4494],\n",
       "│                   [-1.5296,  3.3561, -0.5296],\n",
       "│                   [-1.5873, -0.6847, -0.4494],\n",
       "│                   [-1.5296,  3.3561, -0.5296],\n",
       "│                   [-1.5873, -0.6847, -0.4494],\n",
       "│                   [-1.5296,  3.3561, -0.5296],\n",
       "│                   [-1.5873, -0.6847, -0.4494],\n",
       "│                   [-1.5296,  3.3561, -0.5296],\n",
       "│                   [-1.5873, -0.6847, -0.4494],\n",
       "│                   [-1.5296,  3.3561, -0.5296]])\n",
       "└── 'x' --> <FastTreeValue 0x7f7b0c4d1f10>\n",
       "    └── 'c' --> tensor([[ 0.7738, -0.2115, -0.0797, -0.3335],\n",
       "                        [-0.6632,  1.0757, -0.9225, -0.4106],\n",
       "                        [-2.1503,  0.1796, -1.0458, -1.2582],\n",
       "                        [ 0.7738, -0.2115, -0.0797, -0.3335],\n",
       "                        [-0.6632,  1.0757, -0.9225, -0.4106],\n",
       "                        [-2.1503,  0.1796, -1.0458, -1.2582],\n",
       "                        [ 0.7738, -0.2115, -0.0797, -0.3335],\n",
       "                        [-0.6632,  1.0757, -0.9225, -0.4106],\n",
       "                        [-2.1503,  0.1796, -1.0458, -1.2582],\n",
       "                        [ 0.7738, -0.2115, -0.0797, -0.3335],\n",
       "                        [-0.6632,  1.0757, -0.9225, -0.4106],\n",
       "                        [-2.1503,  0.1796, -1.0458, -1.2582],\n",
       "                        [ 0.7738, -0.2115, -0.0797, -0.3335],\n",
       "                        [-0.6632,  1.0757, -0.9225, -0.4106],\n",
       "                        [-2.1503,  0.1796, -1.0458, -1.2582],\n",
       "                        [ 0.7738, -0.2115, -0.0797, -0.3335],\n",
       "                        [-0.6632,  1.0757, -0.9225, -0.4106],\n",
       "                        [-2.1503,  0.1796, -1.0458, -1.2582],\n",
       "                        [ 0.7738, -0.2115, -0.0797, -0.3335],\n",
       "                        [-0.6632,  1.0757, -0.9225, -0.4106],\n",
       "                        [-2.1503,  0.1796, -1.0458, -1.2582],\n",
       "                        [ 0.7738, -0.2115, -0.0797, -0.3335],\n",
       "                        [-0.6632,  1.0757, -0.9225, -0.4106],\n",
       "                        [-2.1503,  0.1796, -1.0458, -1.2582]])"
      ]
     },
     "execution_count": 22,
     "metadata": {},
     "output_type": "execute_result"
    }
   ],
   "source": [
    "t_cat = FastTreeValue.func(subside=True)(torch.cat)\n",
    "\n",
    "t_cat(trees)"
   ]
  },
  {
   "cell_type": "code",
   "execution_count": 23,
   "id": "5e9c06a6",
   "metadata": {
    "execution": {
     "iopub.execute_input": "2023-03-06T10:51:20.356585Z",
     "iopub.status.busy": "2023-03-06T10:51:20.356041Z",
     "iopub.status.idle": "2023-03-06T10:51:22.808518Z",
     "shell.execute_reply": "2023-03-06T10:51:22.807851Z"
    }
   },
   "outputs": [
    {
     "name": "stdout",
     "output_type": "stream",
     "text": [
      "30.1 µs ± 38 ns per loop (mean ± std. dev. of 7 runs, 10,000 loops each)\n"
     ]
    }
   ],
   "source": [
    "%timeit t_cat(trees)"
   ]
  },
  {
   "cell_type": "code",
   "execution_count": 24,
   "id": "a3ab5c8f",
   "metadata": {
    "execution": {
     "iopub.execute_input": "2023-03-06T10:51:22.811731Z",
     "iopub.status.busy": "2023-03-06T10:51:22.811213Z",
     "iopub.status.idle": "2023-03-06T10:51:27.511862Z",
     "shell.execute_reply": "2023-03-06T10:51:27.511230Z"
    }
   },
   "outputs": [
    {
     "name": "stdout",
     "output_type": "stream",
     "text": [
      "57.8 µs ± 59.2 ns per loop (mean ± std. dev. of 7 runs, 10,000 loops each)\n"
     ]
    }
   ],
   "source": [
    "t_split = FastTreeValue.func(rise=True)(torch.split)\n",
    "tree = FastTreeValue({\n",
    "    'obs': torch.randn(8, 4, 84, 84),\n",
    "    'action': torch.randint(0, 6, size=(8, 1,)),\n",
    "    'reward': torch.rand(8, 1),\n",
    "})\n",
    "\n",
    "%timeit t_split(tree, 1)"
   ]
  },
  {
   "cell_type": "markdown",
   "id": "31c3ec0b",
   "metadata": {},
   "source": [
    "### Performance of Tianshou Batch"
   ]
  },
  {
   "cell_type": "code",
   "execution_count": 25,
   "id": "9ead828a",
   "metadata": {
    "execution": {
     "iopub.execute_input": "2023-03-06T10:51:27.514899Z",
     "iopub.status.busy": "2023-03-06T10:51:27.514535Z",
     "iopub.status.idle": "2023-03-06T10:51:27.523174Z",
     "shell.execute_reply": "2023-03-06T10:51:27.522580Z"
    }
   },
   "outputs": [
    {
     "data": {
      "text/plain": [
       "Batch(\n",
       "    x: Batch(\n",
       "           c: tensor([[[ 0.7738, -0.2115, -0.0797, -0.3335],\n",
       "                       [-0.6632,  1.0757, -0.9225, -0.4106],\n",
       "                       [-2.1503,  0.1796, -1.0458, -1.2582]],\n",
       "              \n",
       "                      [[ 0.7738, -0.2115, -0.0797, -0.3335],\n",
       "                       [-0.6632,  1.0757, -0.9225, -0.4106],\n",
       "                       [-2.1503,  0.1796, -1.0458, -1.2582]],\n",
       "              \n",
       "                      [[ 0.7738, -0.2115, -0.0797, -0.3335],\n",
       "                       [-0.6632,  1.0757, -0.9225, -0.4106],\n",
       "                       [-2.1503,  0.1796, -1.0458, -1.2582]],\n",
       "              \n",
       "                      [[ 0.7738, -0.2115, -0.0797, -0.3335],\n",
       "                       [-0.6632,  1.0757, -0.9225, -0.4106],\n",
       "                       [-2.1503,  0.1796, -1.0458, -1.2582]],\n",
       "              \n",
       "                      [[ 0.7738, -0.2115, -0.0797, -0.3335],\n",
       "                       [-0.6632,  1.0757, -0.9225, -0.4106],\n",
       "                       [-2.1503,  0.1796, -1.0458, -1.2582]],\n",
       "              \n",
       "                      [[ 0.7738, -0.2115, -0.0797, -0.3335],\n",
       "                       [-0.6632,  1.0757, -0.9225, -0.4106],\n",
       "                       [-2.1503,  0.1796, -1.0458, -1.2582]],\n",
       "              \n",
       "                      [[ 0.7738, -0.2115, -0.0797, -0.3335],\n",
       "                       [-0.6632,  1.0757, -0.9225, -0.4106],\n",
       "                       [-2.1503,  0.1796, -1.0458, -1.2582]],\n",
       "              \n",
       "                      [[ 0.7738, -0.2115, -0.0797, -0.3335],\n",
       "                       [-0.6632,  1.0757, -0.9225, -0.4106],\n",
       "                       [-2.1503,  0.1796, -1.0458, -1.2582]]]),\n",
       "       ),\n",
       "    a: tensor([[[-1.5873, -0.6847, -0.4494],\n",
       "                [-1.5296,  3.3561, -0.5296]],\n",
       "       \n",
       "               [[-1.5873, -0.6847, -0.4494],\n",
       "                [-1.5296,  3.3561, -0.5296]],\n",
       "       \n",
       "               [[-1.5873, -0.6847, -0.4494],\n",
       "                [-1.5296,  3.3561, -0.5296]],\n",
       "       \n",
       "               [[-1.5873, -0.6847, -0.4494],\n",
       "                [-1.5296,  3.3561, -0.5296]],\n",
       "       \n",
       "               [[-1.5873, -0.6847, -0.4494],\n",
       "                [-1.5296,  3.3561, -0.5296]],\n",
       "       \n",
       "               [[-1.5873, -0.6847, -0.4494],\n",
       "                [-1.5296,  3.3561, -0.5296]],\n",
       "       \n",
       "               [[-1.5873, -0.6847, -0.4494],\n",
       "                [-1.5296,  3.3561, -0.5296]],\n",
       "       \n",
       "               [[-1.5873, -0.6847, -0.4494],\n",
       "                [-1.5296,  3.3561, -0.5296]]]),\n",
       ")"
      ]
     },
     "execution_count": 25,
     "metadata": {},
     "output_type": "execute_result"
    }
   ],
   "source": [
    "batches = [Batch(**_TREE_DATA_2) for _ in range(8)]\n",
    "\n",
    "Batch.stack(batches)"
   ]
  },
  {
   "cell_type": "code",
   "execution_count": 26,
   "id": "ec9037a3",
   "metadata": {
    "execution": {
     "iopub.execute_input": "2023-03-06T10:51:27.525657Z",
     "iopub.status.busy": "2023-03-06T10:51:27.525442Z",
     "iopub.status.idle": "2023-03-06T10:51:33.920994Z",
     "shell.execute_reply": "2023-03-06T10:51:33.920242Z"
    }
   },
   "outputs": [
    {
     "name": "stdout",
     "output_type": "stream",
     "text": [
      "78.7 µs ± 153 ns per loop (mean ± std. dev. of 7 runs, 10,000 loops each)\n"
     ]
    }
   ],
   "source": [
    "%timeit Batch.stack(batches)"
   ]
  },
  {
   "cell_type": "code",
   "execution_count": 27,
   "id": "cb8ab77e",
   "metadata": {
    "execution": {
     "iopub.execute_input": "2023-03-06T10:51:33.924084Z",
     "iopub.status.busy": "2023-03-06T10:51:33.923715Z",
     "iopub.status.idle": "2023-03-06T10:51:33.932102Z",
     "shell.execute_reply": "2023-03-06T10:51:33.931498Z"
    }
   },
   "outputs": [
    {
     "data": {
      "text/plain": [
       "Batch(\n",
       "    x: Batch(\n",
       "           c: tensor([[ 0.7738, -0.2115, -0.0797, -0.3335],\n",
       "                      [-0.6632,  1.0757, -0.9225, -0.4106],\n",
       "                      [-2.1503,  0.1796, -1.0458, -1.2582],\n",
       "                      [ 0.7738, -0.2115, -0.0797, -0.3335],\n",
       "                      [-0.6632,  1.0757, -0.9225, -0.4106],\n",
       "                      [-2.1503,  0.1796, -1.0458, -1.2582],\n",
       "                      [ 0.7738, -0.2115, -0.0797, -0.3335],\n",
       "                      [-0.6632,  1.0757, -0.9225, -0.4106],\n",
       "                      [-2.1503,  0.1796, -1.0458, -1.2582],\n",
       "                      [ 0.7738, -0.2115, -0.0797, -0.3335],\n",
       "                      [-0.6632,  1.0757, -0.9225, -0.4106],\n",
       "                      [-2.1503,  0.1796, -1.0458, -1.2582],\n",
       "                      [ 0.7738, -0.2115, -0.0797, -0.3335],\n",
       "                      [-0.6632,  1.0757, -0.9225, -0.4106],\n",
       "                      [-2.1503,  0.1796, -1.0458, -1.2582],\n",
       "                      [ 0.7738, -0.2115, -0.0797, -0.3335],\n",
       "                      [-0.6632,  1.0757, -0.9225, -0.4106],\n",
       "                      [-2.1503,  0.1796, -1.0458, -1.2582],\n",
       "                      [ 0.7738, -0.2115, -0.0797, -0.3335],\n",
       "                      [-0.6632,  1.0757, -0.9225, -0.4106],\n",
       "                      [-2.1503,  0.1796, -1.0458, -1.2582],\n",
       "                      [ 0.7738, -0.2115, -0.0797, -0.3335],\n",
       "                      [-0.6632,  1.0757, -0.9225, -0.4106],\n",
       "                      [-2.1503,  0.1796, -1.0458, -1.2582]]),\n",
       "       ),\n",
       "    a: tensor([[-1.5873, -0.6847, -0.4494],\n",
       "               [-1.5296,  3.3561, -0.5296],\n",
       "               [-1.5873, -0.6847, -0.4494],\n",
       "               [-1.5296,  3.3561, -0.5296],\n",
       "               [-1.5873, -0.6847, -0.4494],\n",
       "               [-1.5296,  3.3561, -0.5296],\n",
       "               [-1.5873, -0.6847, -0.4494],\n",
       "               [-1.5296,  3.3561, -0.5296],\n",
       "               [-1.5873, -0.6847, -0.4494],\n",
       "               [-1.5296,  3.3561, -0.5296],\n",
       "               [-1.5873, -0.6847, -0.4494],\n",
       "               [-1.5296,  3.3561, -0.5296],\n",
       "               [-1.5873, -0.6847, -0.4494],\n",
       "               [-1.5296,  3.3561, -0.5296],\n",
       "               [-1.5873, -0.6847, -0.4494],\n",
       "               [-1.5296,  3.3561, -0.5296]]),\n",
       ")"
      ]
     },
     "execution_count": 27,
     "metadata": {},
     "output_type": "execute_result"
    }
   ],
   "source": [
    "Batch.cat(batches)"
   ]
  },
  {
   "cell_type": "code",
   "execution_count": 28,
   "id": "18dfb045",
   "metadata": {
    "execution": {
     "iopub.execute_input": "2023-03-06T10:51:33.934857Z",
     "iopub.status.busy": "2023-03-06T10:51:33.934511Z",
     "iopub.status.idle": "2023-03-06T10:51:45.610887Z",
     "shell.execute_reply": "2023-03-06T10:51:45.610152Z"
    }
   },
   "outputs": [
    {
     "name": "stdout",
     "output_type": "stream",
     "text": [
      "144 µs ± 199 ns per loop (mean ± std. dev. of 7 runs, 10,000 loops each)\n"
     ]
    }
   ],
   "source": [
    "%timeit Batch.cat(batches)"
   ]
  },
  {
   "cell_type": "code",
   "execution_count": 29,
   "id": "c6688e51",
   "metadata": {
    "execution": {
     "iopub.execute_input": "2023-03-06T10:51:45.613767Z",
     "iopub.status.busy": "2023-03-06T10:51:45.613249Z",
     "iopub.status.idle": "2023-03-06T10:51:48.157016Z",
     "shell.execute_reply": "2023-03-06T10:51:48.156319Z"
    }
   },
   "outputs": [
    {
     "name": "stdout",
     "output_type": "stream",
     "text": [
      "313 µs ± 1.06 µs per loop (mean ± std. dev. of 7 runs, 1,000 loops each)\n"
     ]
    }
   ],
   "source": [
    "batch = Batch({\n",
    "    'obs': torch.randn(8, 4, 84, 84),\n",
    "    'action': torch.randint(0, 6, size=(8, 1,)),\n",
    "    'reward': torch.rand(8, 1)}\n",
    ")\n",
    "\n",
    "%timeit list(Batch.split(batch, 1, shuffle=False, merge_last=True))"
   ]
  },
  {
   "cell_type": "code",
   "execution_count": null,
   "id": "2539fbd9",
   "metadata": {},
   "outputs": [],
   "source": []
  }
 ],
 "metadata": {
  "kernelspec": {
   "display_name": "Python 3 (ipykernel)",
   "language": "python",
   "name": "python3"
  },
  "language_info": {
   "codemirror_mode": {
    "name": "ipython",
    "version": 3
   },
   "file_extension": ".py",
   "mimetype": "text/x-python",
   "name": "python",
   "nbconvert_exporter": "python",
   "pygments_lexer": "ipython3",
   "version": "3.8.16"
  }
 },
 "nbformat": 4,
 "nbformat_minor": 5
}
