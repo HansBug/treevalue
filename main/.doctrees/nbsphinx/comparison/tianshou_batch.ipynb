{
 "cells": [
  {
   "cell_type": "markdown",
   "id": "9d39d946",
   "metadata": {},
   "source": [
    "# Comparison Between TreeValue and Tianshou Batch"
   ]
  },
  {
   "cell_type": "markdown",
   "id": "3c6db2d4",
   "metadata": {},
   "source": [
    "In this section, we will take a look at the feature and performance of the [Tianshou Batch](https://github.com/thu-ml/tianshou) library, which is developed by Tsinghua Machine Learning Group."
   ]
  },
  {
   "cell_type": "markdown",
   "id": "069361b0",
   "metadata": {},
   "source": [
    "Before starting the comparison, let us define some thing."
   ]
  },
  {
   "cell_type": "code",
   "execution_count": 1,
   "id": "06fc8d26",
   "metadata": {
    "execution": {
     "iopub.execute_input": "2023-02-27T13:44:00.961498Z",
     "iopub.status.busy": "2023-02-27T13:44:00.961279Z",
     "iopub.status.idle": "2023-02-27T13:44:01.893796Z",
     "shell.execute_reply": "2023-02-27T13:44:01.893109Z"
    }
   },
   "outputs": [
    {
     "name": "stderr",
     "output_type": "stream",
     "text": [
      "/opt/hostedtoolcache/Python/3.8.16/x64/lib/python3.8/site-packages/tqdm/auto.py:22: TqdmWarning: IProgress not found. Please update jupyter and ipywidgets. See https://ipywidgets.readthedocs.io/en/stable/user_install.html\n",
      "  from .autonotebook import tqdm as notebook_tqdm\n"
     ]
    }
   ],
   "source": [
    "import torch \n",
    "\n",
    "_TREE_DATA_1 = {'a': 1, 'b': 2, 'x': {'c': 3, 'd': 4}}\n",
    "_TREE_DATA_2 = {\n",
    "    'a': torch.randn(2, 3), \n",
    "    'x': {\n",
    "        'c': torch.randn(3, 4)\n",
    "    },\n",
    "}\n",
    "_TREE_DATA_3 = {\n",
    "    'obs': torch.randn(4, 84, 84),\n",
    "    'action': torch.randint(0, 6, size=(1,)),\n",
    "    'reward': torch.rand(1),\n",
    "}"
   ]
  },
  {
   "cell_type": "markdown",
   "id": "83461b25",
   "metadata": {},
   "source": [
    "## Read and Write Operation"
   ]
  },
  {
   "cell_type": "markdown",
   "id": "067b3f73",
   "metadata": {},
   "source": [
    "Reading and writing are the two most common operations in the tree data structure based on the data model (TreeValue and Tianshou Batch both belong to this type), so this section will compare the reading and writing performance of these two libraries."
   ]
  },
  {
   "cell_type": "markdown",
   "id": "5d09a5b7",
   "metadata": {},
   "source": [
    "### TreeValue's Get and Set"
   ]
  },
  {
   "cell_type": "code",
   "execution_count": 2,
   "id": "9519c4bb",
   "metadata": {
    "execution": {
     "iopub.execute_input": "2023-02-27T13:44:01.897476Z",
     "iopub.status.busy": "2023-02-27T13:44:01.896898Z",
     "iopub.status.idle": "2023-02-27T13:44:02.180959Z",
     "shell.execute_reply": "2023-02-27T13:44:02.180227Z"
    }
   },
   "outputs": [],
   "source": [
    "from treevalue import FastTreeValue\n",
    "\n",
    "t = FastTreeValue(_TREE_DATA_2)"
   ]
  },
  {
   "cell_type": "code",
   "execution_count": 3,
   "id": "11c37677",
   "metadata": {
    "execution": {
     "iopub.execute_input": "2023-02-27T13:44:02.184942Z",
     "iopub.status.busy": "2023-02-27T13:44:02.184253Z",
     "iopub.status.idle": "2023-02-27T13:44:02.193835Z",
     "shell.execute_reply": "2023-02-27T13:44:02.193240Z"
    }
   },
   "outputs": [
    {
     "data": {
      "text/plain": [
       "<FastTreeValue 0x7f173c3e1ca0>\n",
       "├── 'a' --> tensor([[ 0.6505, -1.0021,  0.1281],\n",
       "│                   [ 0.4797,  1.7353,  0.2242]])\n",
       "└── 'x' --> <FastTreeValue 0x7f173c3e1c70>\n",
       "    └── 'c' --> tensor([[-2.5782,  0.2430,  0.5118, -0.6815],\n",
       "                        [ 1.6398,  0.4957, -1.3584, -0.1097],\n",
       "                        [-0.6705, -0.3416, -0.0395, -0.2628]])"
      ]
     },
     "execution_count": 3,
     "metadata": {},
     "output_type": "execute_result"
    }
   ],
   "source": [
    "t"
   ]
  },
  {
   "cell_type": "code",
   "execution_count": 4,
   "id": "fd70b0b9",
   "metadata": {
    "execution": {
     "iopub.execute_input": "2023-02-27T13:44:02.196442Z",
     "iopub.status.busy": "2023-02-27T13:44:02.196106Z",
     "iopub.status.idle": "2023-02-27T13:44:02.201506Z",
     "shell.execute_reply": "2023-02-27T13:44:02.200901Z"
    }
   },
   "outputs": [
    {
     "data": {
      "text/plain": [
       "tensor([[ 0.6505, -1.0021,  0.1281],\n",
       "        [ 0.4797,  1.7353,  0.2242]])"
      ]
     },
     "execution_count": 4,
     "metadata": {},
     "output_type": "execute_result"
    }
   ],
   "source": [
    "t.a"
   ]
  },
  {
   "cell_type": "code",
   "execution_count": 5,
   "id": "c18197bd",
   "metadata": {
    "execution": {
     "iopub.execute_input": "2023-02-27T13:44:02.204283Z",
     "iopub.status.busy": "2023-02-27T13:44:02.203803Z",
     "iopub.status.idle": "2023-02-27T13:44:06.879119Z",
     "shell.execute_reply": "2023-02-27T13:44:06.878396Z"
    }
   },
   "outputs": [
    {
     "name": "stdout",
     "output_type": "stream",
     "text": [
      "57.5 ns ± 0.0825 ns per loop (mean ± std. dev. of 7 runs, 10,000,000 loops each)\n"
     ]
    }
   ],
   "source": [
    "%timeit t.a"
   ]
  },
  {
   "cell_type": "code",
   "execution_count": 6,
   "id": "bd52f867",
   "metadata": {
    "execution": {
     "iopub.execute_input": "2023-02-27T13:44:06.882372Z",
     "iopub.status.busy": "2023-02-27T13:44:06.881828Z",
     "iopub.status.idle": "2023-02-27T13:44:06.888451Z",
     "shell.execute_reply": "2023-02-27T13:44:06.887881Z"
    }
   },
   "outputs": [
    {
     "data": {
      "text/plain": [
       "<FastTreeValue 0x7f173c3e1ca0>\n",
       "├── 'a' --> tensor([[-1.4077, -1.1430, -0.8441],\n",
       "│                   [ 0.7987,  0.3273,  0.4108]])\n",
       "└── 'x' --> <FastTreeValue 0x7f173c3e1c70>\n",
       "    └── 'c' --> tensor([[-2.5782,  0.2430,  0.5118, -0.6815],\n",
       "                        [ 1.6398,  0.4957, -1.3584, -0.1097],\n",
       "                        [-0.6705, -0.3416, -0.0395, -0.2628]])"
      ]
     },
     "execution_count": 6,
     "metadata": {},
     "output_type": "execute_result"
    }
   ],
   "source": [
    "new_value = torch.randn(2, 3)\n",
    "t.a = new_value\n",
    "\n",
    "t"
   ]
  },
  {
   "cell_type": "code",
   "execution_count": 7,
   "id": "bbe04d1c",
   "metadata": {
    "execution": {
     "iopub.execute_input": "2023-02-27T13:44:06.890938Z",
     "iopub.status.busy": "2023-02-27T13:44:06.890713Z",
     "iopub.status.idle": "2023-02-27T13:44:11.819411Z",
     "shell.execute_reply": "2023-02-27T13:44:11.818724Z"
    }
   },
   "outputs": [
    {
     "name": "stdout",
     "output_type": "stream",
     "text": [
      "60.9 ns ± 0.101 ns per loop (mean ± std. dev. of 7 runs, 10,000,000 loops each)\n"
     ]
    }
   ],
   "source": [
    "%timeit t.a = new_value"
   ]
  },
  {
   "cell_type": "markdown",
   "id": "48c49731",
   "metadata": {},
   "source": [
    "### Tianshou Batch's Get and Set"
   ]
  },
  {
   "cell_type": "code",
   "execution_count": 8,
   "id": "f1bb14c1",
   "metadata": {
    "execution": {
     "iopub.execute_input": "2023-02-27T13:44:11.822289Z",
     "iopub.status.busy": "2023-02-27T13:44:11.822037Z",
     "iopub.status.idle": "2023-02-27T13:44:12.154661Z",
     "shell.execute_reply": "2023-02-27T13:44:12.153960Z"
    }
   },
   "outputs": [],
   "source": [
    "from tianshou.data import Batch\n",
    "\n",
    "b = Batch(**_TREE_DATA_2)"
   ]
  },
  {
   "cell_type": "code",
   "execution_count": 9,
   "id": "cb0777c3",
   "metadata": {
    "execution": {
     "iopub.execute_input": "2023-02-27T13:44:12.158036Z",
     "iopub.status.busy": "2023-02-27T13:44:12.157532Z",
     "iopub.status.idle": "2023-02-27T13:44:12.164735Z",
     "shell.execute_reply": "2023-02-27T13:44:12.164171Z"
    }
   },
   "outputs": [
    {
     "data": {
      "text/plain": [
       "Batch(\n",
       "    a: tensor([[ 0.6505, -1.0021,  0.1281],\n",
       "               [ 0.4797,  1.7353,  0.2242]]),\n",
       "    x: Batch(\n",
       "           c: tensor([[-2.5782,  0.2430,  0.5118, -0.6815],\n",
       "                      [ 1.6398,  0.4957, -1.3584, -0.1097],\n",
       "                      [-0.6705, -0.3416, -0.0395, -0.2628]]),\n",
       "       ),\n",
       ")"
      ]
     },
     "execution_count": 9,
     "metadata": {},
     "output_type": "execute_result"
    }
   ],
   "source": [
    "b"
   ]
  },
  {
   "cell_type": "code",
   "execution_count": 10,
   "id": "43ef8ea3",
   "metadata": {
    "execution": {
     "iopub.execute_input": "2023-02-27T13:44:12.167671Z",
     "iopub.status.busy": "2023-02-27T13:44:12.167110Z",
     "iopub.status.idle": "2023-02-27T13:44:12.173106Z",
     "shell.execute_reply": "2023-02-27T13:44:12.172542Z"
    }
   },
   "outputs": [
    {
     "data": {
      "text/plain": [
       "tensor([[ 0.6505, -1.0021,  0.1281],\n",
       "        [ 0.4797,  1.7353,  0.2242]])"
      ]
     },
     "execution_count": 10,
     "metadata": {},
     "output_type": "execute_result"
    }
   ],
   "source": [
    "b.a"
   ]
  },
  {
   "cell_type": "code",
   "execution_count": 11,
   "id": "b785ab72",
   "metadata": {
    "execution": {
     "iopub.execute_input": "2023-02-27T13:44:12.175841Z",
     "iopub.status.busy": "2023-02-27T13:44:12.175502Z",
     "iopub.status.idle": "2023-02-27T13:44:16.557292Z",
     "shell.execute_reply": "2023-02-27T13:44:16.556521Z"
    }
   },
   "outputs": [
    {
     "name": "stdout",
     "output_type": "stream",
     "text": [
      "53.5 ns ± 0.0523 ns per loop (mean ± std. dev. of 7 runs, 10,000,000 loops each)\n"
     ]
    }
   ],
   "source": [
    "%timeit b.a"
   ]
  },
  {
   "cell_type": "code",
   "execution_count": 12,
   "id": "ad54dc69",
   "metadata": {
    "execution": {
     "iopub.execute_input": "2023-02-27T13:44:16.561054Z",
     "iopub.status.busy": "2023-02-27T13:44:16.560697Z",
     "iopub.status.idle": "2023-02-27T13:44:16.567281Z",
     "shell.execute_reply": "2023-02-27T13:44:16.566681Z"
    }
   },
   "outputs": [
    {
     "data": {
      "text/plain": [
       "Batch(\n",
       "    a: tensor([[-0.2027,  0.1057,  0.1849],\n",
       "               [ 0.2676,  0.7527, -1.1432]]),\n",
       "    x: Batch(\n",
       "           c: tensor([[-2.5782,  0.2430,  0.5118, -0.6815],\n",
       "                      [ 1.6398,  0.4957, -1.3584, -0.1097],\n",
       "                      [-0.6705, -0.3416, -0.0395, -0.2628]]),\n",
       "       ),\n",
       ")"
      ]
     },
     "execution_count": 12,
     "metadata": {},
     "output_type": "execute_result"
    }
   ],
   "source": [
    "new_value = torch.randn(2, 3)\n",
    "b.a = new_value\n",
    "\n",
    "b"
   ]
  },
  {
   "cell_type": "code",
   "execution_count": 13,
   "id": "29b1d0bf",
   "metadata": {
    "execution": {
     "iopub.execute_input": "2023-02-27T13:44:16.570122Z",
     "iopub.status.busy": "2023-02-27T13:44:16.569538Z",
     "iopub.status.idle": "2023-02-27T13:44:20.546933Z",
     "shell.execute_reply": "2023-02-27T13:44:20.546140Z"
    }
   },
   "outputs": [
    {
     "name": "stdout",
     "output_type": "stream",
     "text": [
      "490 ns ± 0.359 ns per loop (mean ± std. dev. of 7 runs, 1,000,000 loops each)\n"
     ]
    }
   ],
   "source": [
    "%timeit b.a = new_value"
   ]
  },
  {
   "cell_type": "markdown",
   "id": "b61ad1d0",
   "metadata": {},
   "source": [
    "## Initialization"
   ]
  },
  {
   "cell_type": "markdown",
   "id": "d70f0d54",
   "metadata": {},
   "source": [
    "### TreeValue's Initialization"
   ]
  },
  {
   "cell_type": "code",
   "execution_count": 14,
   "id": "d32a679b",
   "metadata": {
    "execution": {
     "iopub.execute_input": "2023-02-27T13:44:20.549933Z",
     "iopub.status.busy": "2023-02-27T13:44:20.549593Z",
     "iopub.status.idle": "2023-02-27T13:44:27.311983Z",
     "shell.execute_reply": "2023-02-27T13:44:27.311261Z"
    }
   },
   "outputs": [
    {
     "name": "stdout",
     "output_type": "stream",
     "text": [
      "834 ns ± 7.43 ns per loop (mean ± std. dev. of 7 runs, 1,000,000 loops each)\n"
     ]
    }
   ],
   "source": [
    "%timeit FastTreeValue(_TREE_DATA_1)"
   ]
  },
  {
   "cell_type": "markdown",
   "id": "24f3707b",
   "metadata": {},
   "source": [
    "### Tianshou Batch's Initialization"
   ]
  },
  {
   "cell_type": "code",
   "execution_count": 15,
   "id": "ac3958df",
   "metadata": {
    "execution": {
     "iopub.execute_input": "2023-02-27T13:44:27.315074Z",
     "iopub.status.busy": "2023-02-27T13:44:27.314701Z",
     "iopub.status.idle": "2023-02-27T13:44:36.380234Z",
     "shell.execute_reply": "2023-02-27T13:44:36.379467Z"
    }
   },
   "outputs": [
    {
     "name": "stdout",
     "output_type": "stream",
     "text": [
      "11.2 µs ± 22.4 ns per loop (mean ± std. dev. of 7 runs, 100,000 loops each)\n"
     ]
    }
   ],
   "source": [
    "%timeit Batch(**_TREE_DATA_1)"
   ]
  },
  {
   "cell_type": "markdown",
   "id": "1ab82e2d",
   "metadata": {},
   "source": [
    "## Deep Copy Operation"
   ]
  },
  {
   "cell_type": "code",
   "execution_count": 16,
   "id": "210a9442",
   "metadata": {
    "execution": {
     "iopub.execute_input": "2023-02-27T13:44:36.383252Z",
     "iopub.status.busy": "2023-02-27T13:44:36.382892Z",
     "iopub.status.idle": "2023-02-27T13:44:36.387632Z",
     "shell.execute_reply": "2023-02-27T13:44:36.386827Z"
    }
   },
   "outputs": [],
   "source": [
    "import copy"
   ]
  },
  {
   "cell_type": "markdown",
   "id": "5a736274",
   "metadata": {},
   "source": [
    "### Deep Copy of TreeValue"
   ]
  },
  {
   "cell_type": "code",
   "execution_count": 17,
   "id": "f9bcadd6",
   "metadata": {
    "execution": {
     "iopub.execute_input": "2023-02-27T13:44:36.390602Z",
     "iopub.status.busy": "2023-02-27T13:44:36.390068Z",
     "iopub.status.idle": "2023-02-27T13:44:47.604307Z",
     "shell.execute_reply": "2023-02-27T13:44:47.603751Z"
    }
   },
   "outputs": [
    {
     "name": "stdout",
     "output_type": "stream",
     "text": [
      "138 µs ± 494 ns per loop (mean ± std. dev. of 7 runs, 10,000 loops each)\n"
     ]
    }
   ],
   "source": [
    "t3 = FastTreeValue(_TREE_DATA_3)\n",
    "%timeit copy.deepcopy(t3)"
   ]
  },
  {
   "cell_type": "markdown",
   "id": "bf8be7ea",
   "metadata": {},
   "source": [
    "### Deep Copy of Tianshou Batch"
   ]
  },
  {
   "cell_type": "code",
   "execution_count": 18,
   "id": "91998e6f",
   "metadata": {
    "execution": {
     "iopub.execute_input": "2023-02-27T13:44:47.608248Z",
     "iopub.status.busy": "2023-02-27T13:44:47.607309Z",
     "iopub.status.idle": "2023-02-27T13:44:59.080097Z",
     "shell.execute_reply": "2023-02-27T13:44:59.079502Z"
    }
   },
   "outputs": [
    {
     "name": "stdout",
     "output_type": "stream",
     "text": [
      "141 µs ± 275 ns per loop (mean ± std. dev. of 7 runs, 10,000 loops each)\n"
     ]
    }
   ],
   "source": [
    "b3 = Batch(**_TREE_DATA_3)\n",
    "%timeit copy.deepcopy(b3)"
   ]
  },
  {
   "cell_type": "markdown",
   "id": "223162fb",
   "metadata": {},
   "source": [
    "## Stack, Concat and Split Operation"
   ]
  },
  {
   "cell_type": "markdown",
   "id": "85fa4a73",
   "metadata": {},
   "source": [
    "### Performance of TreeValue"
   ]
  },
  {
   "cell_type": "code",
   "execution_count": 19,
   "id": "a0c2b697",
   "metadata": {
    "execution": {
     "iopub.execute_input": "2023-02-27T13:44:59.083948Z",
     "iopub.status.busy": "2023-02-27T13:44:59.083021Z",
     "iopub.status.idle": "2023-02-27T13:44:59.087210Z",
     "shell.execute_reply": "2023-02-27T13:44:59.086691Z"
    }
   },
   "outputs": [],
   "source": [
    "trees = [FastTreeValue(_TREE_DATA_2) for _ in range(8)]"
   ]
  },
  {
   "cell_type": "code",
   "execution_count": 20,
   "id": "017ea5a5",
   "metadata": {
    "execution": {
     "iopub.execute_input": "2023-02-27T13:44:59.090761Z",
     "iopub.status.busy": "2023-02-27T13:44:59.089837Z",
     "iopub.status.idle": "2023-02-27T13:44:59.098648Z",
     "shell.execute_reply": "2023-02-27T13:44:59.098109Z"
    }
   },
   "outputs": [
    {
     "data": {
      "text/plain": [
       "<FastTreeValue 0x7f173c3daa30>\n",
       "├── 'a' --> tensor([[[ 0.6505, -1.0021,  0.1281],\n",
       "│                    [ 0.4797,  1.7353,  0.2242]],\n",
       "│           \n",
       "│                   [[ 0.6505, -1.0021,  0.1281],\n",
       "│                    [ 0.4797,  1.7353,  0.2242]],\n",
       "│           \n",
       "│                   [[ 0.6505, -1.0021,  0.1281],\n",
       "│                    [ 0.4797,  1.7353,  0.2242]],\n",
       "│           \n",
       "│                   [[ 0.6505, -1.0021,  0.1281],\n",
       "│                    [ 0.4797,  1.7353,  0.2242]],\n",
       "│           \n",
       "│                   [[ 0.6505, -1.0021,  0.1281],\n",
       "│                    [ 0.4797,  1.7353,  0.2242]],\n",
       "│           \n",
       "│                   [[ 0.6505, -1.0021,  0.1281],\n",
       "│                    [ 0.4797,  1.7353,  0.2242]],\n",
       "│           \n",
       "│                   [[ 0.6505, -1.0021,  0.1281],\n",
       "│                    [ 0.4797,  1.7353,  0.2242]],\n",
       "│           \n",
       "│                   [[ 0.6505, -1.0021,  0.1281],\n",
       "│                    [ 0.4797,  1.7353,  0.2242]]])\n",
       "└── 'x' --> <FastTreeValue 0x7f173c3da910>\n",
       "    └── 'c' --> tensor([[[-2.5782,  0.2430,  0.5118, -0.6815],\n",
       "                         [ 1.6398,  0.4957, -1.3584, -0.1097],\n",
       "                         [-0.6705, -0.3416, -0.0395, -0.2628]],\n",
       "                \n",
       "                        [[-2.5782,  0.2430,  0.5118, -0.6815],\n",
       "                         [ 1.6398,  0.4957, -1.3584, -0.1097],\n",
       "                         [-0.6705, -0.3416, -0.0395, -0.2628]],\n",
       "                \n",
       "                        [[-2.5782,  0.2430,  0.5118, -0.6815],\n",
       "                         [ 1.6398,  0.4957, -1.3584, -0.1097],\n",
       "                         [-0.6705, -0.3416, -0.0395, -0.2628]],\n",
       "                \n",
       "                        [[-2.5782,  0.2430,  0.5118, -0.6815],\n",
       "                         [ 1.6398,  0.4957, -1.3584, -0.1097],\n",
       "                         [-0.6705, -0.3416, -0.0395, -0.2628]],\n",
       "                \n",
       "                        [[-2.5782,  0.2430,  0.5118, -0.6815],\n",
       "                         [ 1.6398,  0.4957, -1.3584, -0.1097],\n",
       "                         [-0.6705, -0.3416, -0.0395, -0.2628]],\n",
       "                \n",
       "                        [[-2.5782,  0.2430,  0.5118, -0.6815],\n",
       "                         [ 1.6398,  0.4957, -1.3584, -0.1097],\n",
       "                         [-0.6705, -0.3416, -0.0395, -0.2628]],\n",
       "                \n",
       "                        [[-2.5782,  0.2430,  0.5118, -0.6815],\n",
       "                         [ 1.6398,  0.4957, -1.3584, -0.1097],\n",
       "                         [-0.6705, -0.3416, -0.0395, -0.2628]],\n",
       "                \n",
       "                        [[-2.5782,  0.2430,  0.5118, -0.6815],\n",
       "                         [ 1.6398,  0.4957, -1.3584, -0.1097],\n",
       "                         [-0.6705, -0.3416, -0.0395, -0.2628]]])"
      ]
     },
     "execution_count": 20,
     "metadata": {},
     "output_type": "execute_result"
    }
   ],
   "source": [
    "t_stack = FastTreeValue.func(subside=True)(torch.stack)\n",
    "\n",
    "t_stack(trees)"
   ]
  },
  {
   "cell_type": "code",
   "execution_count": 21,
   "id": "f8b3f415",
   "metadata": {
    "execution": {
     "iopub.execute_input": "2023-02-27T13:44:59.102136Z",
     "iopub.status.busy": "2023-02-27T13:44:59.101248Z",
     "iopub.status.idle": "2023-02-27T13:45:01.750318Z",
     "shell.execute_reply": "2023-02-27T13:45:01.749534Z"
    }
   },
   "outputs": [
    {
     "name": "stdout",
     "output_type": "stream",
     "text": [
      "32.6 µs ± 74.4 ns per loop (mean ± std. dev. of 7 runs, 10,000 loops each)\n"
     ]
    }
   ],
   "source": [
    "%timeit t_stack(trees)"
   ]
  },
  {
   "cell_type": "code",
   "execution_count": 22,
   "id": "94b56771",
   "metadata": {
    "execution": {
     "iopub.execute_input": "2023-02-27T13:45:01.753069Z",
     "iopub.status.busy": "2023-02-27T13:45:01.752714Z",
     "iopub.status.idle": "2023-02-27T13:45:01.761085Z",
     "shell.execute_reply": "2023-02-27T13:45:01.760032Z"
    }
   },
   "outputs": [
    {
     "data": {
      "text/plain": [
       "<FastTreeValue 0x7f173c3a6400>\n",
       "├── 'a' --> tensor([[ 0.6505, -1.0021,  0.1281],\n",
       "│                   [ 0.4797,  1.7353,  0.2242],\n",
       "│                   [ 0.6505, -1.0021,  0.1281],\n",
       "│                   [ 0.4797,  1.7353,  0.2242],\n",
       "│                   [ 0.6505, -1.0021,  0.1281],\n",
       "│                   [ 0.4797,  1.7353,  0.2242],\n",
       "│                   [ 0.6505, -1.0021,  0.1281],\n",
       "│                   [ 0.4797,  1.7353,  0.2242],\n",
       "│                   [ 0.6505, -1.0021,  0.1281],\n",
       "│                   [ 0.4797,  1.7353,  0.2242],\n",
       "│                   [ 0.6505, -1.0021,  0.1281],\n",
       "│                   [ 0.4797,  1.7353,  0.2242],\n",
       "│                   [ 0.6505, -1.0021,  0.1281],\n",
       "│                   [ 0.4797,  1.7353,  0.2242],\n",
       "│                   [ 0.6505, -1.0021,  0.1281],\n",
       "│                   [ 0.4797,  1.7353,  0.2242]])\n",
       "└── 'x' --> <FastTreeValue 0x7f16856dc820>\n",
       "    └── 'c' --> tensor([[-2.5782,  0.2430,  0.5118, -0.6815],\n",
       "                        [ 1.6398,  0.4957, -1.3584, -0.1097],\n",
       "                        [-0.6705, -0.3416, -0.0395, -0.2628],\n",
       "                        [-2.5782,  0.2430,  0.5118, -0.6815],\n",
       "                        [ 1.6398,  0.4957, -1.3584, -0.1097],\n",
       "                        [-0.6705, -0.3416, -0.0395, -0.2628],\n",
       "                        [-2.5782,  0.2430,  0.5118, -0.6815],\n",
       "                        [ 1.6398,  0.4957, -1.3584, -0.1097],\n",
       "                        [-0.6705, -0.3416, -0.0395, -0.2628],\n",
       "                        [-2.5782,  0.2430,  0.5118, -0.6815],\n",
       "                        [ 1.6398,  0.4957, -1.3584, -0.1097],\n",
       "                        [-0.6705, -0.3416, -0.0395, -0.2628],\n",
       "                        [-2.5782,  0.2430,  0.5118, -0.6815],\n",
       "                        [ 1.6398,  0.4957, -1.3584, -0.1097],\n",
       "                        [-0.6705, -0.3416, -0.0395, -0.2628],\n",
       "                        [-2.5782,  0.2430,  0.5118, -0.6815],\n",
       "                        [ 1.6398,  0.4957, -1.3584, -0.1097],\n",
       "                        [-0.6705, -0.3416, -0.0395, -0.2628],\n",
       "                        [-2.5782,  0.2430,  0.5118, -0.6815],\n",
       "                        [ 1.6398,  0.4957, -1.3584, -0.1097],\n",
       "                        [-0.6705, -0.3416, -0.0395, -0.2628],\n",
       "                        [-2.5782,  0.2430,  0.5118, -0.6815],\n",
       "                        [ 1.6398,  0.4957, -1.3584, -0.1097],\n",
       "                        [-0.6705, -0.3416, -0.0395, -0.2628]])"
      ]
     },
     "execution_count": 22,
     "metadata": {},
     "output_type": "execute_result"
    }
   ],
   "source": [
    "t_cat = FastTreeValue.func(subside=True)(torch.cat)\n",
    "\n",
    "t_cat(trees)"
   ]
  },
  {
   "cell_type": "code",
   "execution_count": 23,
   "id": "5e9c06a6",
   "metadata": {
    "execution": {
     "iopub.execute_input": "2023-02-27T13:45:01.763466Z",
     "iopub.status.busy": "2023-02-27T13:45:01.763132Z",
     "iopub.status.idle": "2023-02-27T13:45:04.266847Z",
     "shell.execute_reply": "2023-02-27T13:45:04.266087Z"
    }
   },
   "outputs": [
    {
     "name": "stdout",
     "output_type": "stream",
     "text": [
      "30.8 µs ± 57.4 ns per loop (mean ± std. dev. of 7 runs, 10,000 loops each)\n"
     ]
    }
   ],
   "source": [
    "%timeit t_cat(trees)"
   ]
  },
  {
   "cell_type": "code",
   "execution_count": 24,
   "id": "a3ab5c8f",
   "metadata": {
    "execution": {
     "iopub.execute_input": "2023-02-27T13:45:04.269582Z",
     "iopub.status.busy": "2023-02-27T13:45:04.269216Z",
     "iopub.status.idle": "2023-02-27T13:45:09.149206Z",
     "shell.execute_reply": "2023-02-27T13:45:09.148491Z"
    }
   },
   "outputs": [
    {
     "name": "stdout",
     "output_type": "stream",
     "text": [
      "60 µs ± 240 ns per loop (mean ± std. dev. of 7 runs, 10,000 loops each)\n"
     ]
    }
   ],
   "source": [
    "t_split = FastTreeValue.func(rise=True)(torch.split)\n",
    "tree = FastTreeValue({\n",
    "    'obs': torch.randn(8, 4, 84, 84),\n",
    "    'action': torch.randint(0, 6, size=(8, 1,)),\n",
    "    'reward': torch.rand(8, 1),\n",
    "})\n",
    "\n",
    "%timeit t_split(tree, 1)"
   ]
  },
  {
   "cell_type": "markdown",
   "id": "31c3ec0b",
   "metadata": {},
   "source": [
    "### Performance of Tianshou Batch"
   ]
  },
  {
   "cell_type": "code",
   "execution_count": 25,
   "id": "9ead828a",
   "metadata": {
    "execution": {
     "iopub.execute_input": "2023-02-27T13:45:09.152205Z",
     "iopub.status.busy": "2023-02-27T13:45:09.151628Z",
     "iopub.status.idle": "2023-02-27T13:45:09.160111Z",
     "shell.execute_reply": "2023-02-27T13:45:09.159510Z"
    }
   },
   "outputs": [
    {
     "data": {
      "text/plain": [
       "Batch(\n",
       "    x: Batch(\n",
       "           c: tensor([[[-2.5782,  0.2430,  0.5118, -0.6815],\n",
       "                       [ 1.6398,  0.4957, -1.3584, -0.1097],\n",
       "                       [-0.6705, -0.3416, -0.0395, -0.2628]],\n",
       "              \n",
       "                      [[-2.5782,  0.2430,  0.5118, -0.6815],\n",
       "                       [ 1.6398,  0.4957, -1.3584, -0.1097],\n",
       "                       [-0.6705, -0.3416, -0.0395, -0.2628]],\n",
       "              \n",
       "                      [[-2.5782,  0.2430,  0.5118, -0.6815],\n",
       "                       [ 1.6398,  0.4957, -1.3584, -0.1097],\n",
       "                       [-0.6705, -0.3416, -0.0395, -0.2628]],\n",
       "              \n",
       "                      [[-2.5782,  0.2430,  0.5118, -0.6815],\n",
       "                       [ 1.6398,  0.4957, -1.3584, -0.1097],\n",
       "                       [-0.6705, -0.3416, -0.0395, -0.2628]],\n",
       "              \n",
       "                      [[-2.5782,  0.2430,  0.5118, -0.6815],\n",
       "                       [ 1.6398,  0.4957, -1.3584, -0.1097],\n",
       "                       [-0.6705, -0.3416, -0.0395, -0.2628]],\n",
       "              \n",
       "                      [[-2.5782,  0.2430,  0.5118, -0.6815],\n",
       "                       [ 1.6398,  0.4957, -1.3584, -0.1097],\n",
       "                       [-0.6705, -0.3416, -0.0395, -0.2628]],\n",
       "              \n",
       "                      [[-2.5782,  0.2430,  0.5118, -0.6815],\n",
       "                       [ 1.6398,  0.4957, -1.3584, -0.1097],\n",
       "                       [-0.6705, -0.3416, -0.0395, -0.2628]],\n",
       "              \n",
       "                      [[-2.5782,  0.2430,  0.5118, -0.6815],\n",
       "                       [ 1.6398,  0.4957, -1.3584, -0.1097],\n",
       "                       [-0.6705, -0.3416, -0.0395, -0.2628]]]),\n",
       "       ),\n",
       "    a: tensor([[[ 0.6505, -1.0021,  0.1281],\n",
       "                [ 0.4797,  1.7353,  0.2242]],\n",
       "       \n",
       "               [[ 0.6505, -1.0021,  0.1281],\n",
       "                [ 0.4797,  1.7353,  0.2242]],\n",
       "       \n",
       "               [[ 0.6505, -1.0021,  0.1281],\n",
       "                [ 0.4797,  1.7353,  0.2242]],\n",
       "       \n",
       "               [[ 0.6505, -1.0021,  0.1281],\n",
       "                [ 0.4797,  1.7353,  0.2242]],\n",
       "       \n",
       "               [[ 0.6505, -1.0021,  0.1281],\n",
       "                [ 0.4797,  1.7353,  0.2242]],\n",
       "       \n",
       "               [[ 0.6505, -1.0021,  0.1281],\n",
       "                [ 0.4797,  1.7353,  0.2242]],\n",
       "       \n",
       "               [[ 0.6505, -1.0021,  0.1281],\n",
       "                [ 0.4797,  1.7353,  0.2242]],\n",
       "       \n",
       "               [[ 0.6505, -1.0021,  0.1281],\n",
       "                [ 0.4797,  1.7353,  0.2242]]]),\n",
       ")"
      ]
     },
     "execution_count": 25,
     "metadata": {},
     "output_type": "execute_result"
    }
   ],
   "source": [
    "batches = [Batch(**_TREE_DATA_2) for _ in range(8)]\n",
    "\n",
    "Batch.stack(batches)"
   ]
  },
  {
   "cell_type": "code",
   "execution_count": 26,
   "id": "ec9037a3",
   "metadata": {
    "execution": {
     "iopub.execute_input": "2023-02-27T13:45:09.162772Z",
     "iopub.status.busy": "2023-02-27T13:45:09.162426Z",
     "iopub.status.idle": "2023-02-27T13:45:15.467690Z",
     "shell.execute_reply": "2023-02-27T13:45:15.466932Z"
    }
   },
   "outputs": [
    {
     "name": "stdout",
     "output_type": "stream",
     "text": [
      "77.6 µs ± 147 ns per loop (mean ± std. dev. of 7 runs, 10,000 loops each)\n"
     ]
    }
   ],
   "source": [
    "%timeit Batch.stack(batches)"
   ]
  },
  {
   "cell_type": "code",
   "execution_count": 27,
   "id": "cb8ab77e",
   "metadata": {
    "execution": {
     "iopub.execute_input": "2023-02-27T13:45:15.470642Z",
     "iopub.status.busy": "2023-02-27T13:45:15.470285Z",
     "iopub.status.idle": "2023-02-27T13:45:15.477685Z",
     "shell.execute_reply": "2023-02-27T13:45:15.477103Z"
    }
   },
   "outputs": [
    {
     "data": {
      "text/plain": [
       "Batch(\n",
       "    x: Batch(\n",
       "           c: tensor([[-2.5782,  0.2430,  0.5118, -0.6815],\n",
       "                      [ 1.6398,  0.4957, -1.3584, -0.1097],\n",
       "                      [-0.6705, -0.3416, -0.0395, -0.2628],\n",
       "                      [-2.5782,  0.2430,  0.5118, -0.6815],\n",
       "                      [ 1.6398,  0.4957, -1.3584, -0.1097],\n",
       "                      [-0.6705, -0.3416, -0.0395, -0.2628],\n",
       "                      [-2.5782,  0.2430,  0.5118, -0.6815],\n",
       "                      [ 1.6398,  0.4957, -1.3584, -0.1097],\n",
       "                      [-0.6705, -0.3416, -0.0395, -0.2628],\n",
       "                      [-2.5782,  0.2430,  0.5118, -0.6815],\n",
       "                      [ 1.6398,  0.4957, -1.3584, -0.1097],\n",
       "                      [-0.6705, -0.3416, -0.0395, -0.2628],\n",
       "                      [-2.5782,  0.2430,  0.5118, -0.6815],\n",
       "                      [ 1.6398,  0.4957, -1.3584, -0.1097],\n",
       "                      [-0.6705, -0.3416, -0.0395, -0.2628],\n",
       "                      [-2.5782,  0.2430,  0.5118, -0.6815],\n",
       "                      [ 1.6398,  0.4957, -1.3584, -0.1097],\n",
       "                      [-0.6705, -0.3416, -0.0395, -0.2628],\n",
       "                      [-2.5782,  0.2430,  0.5118, -0.6815],\n",
       "                      [ 1.6398,  0.4957, -1.3584, -0.1097],\n",
       "                      [-0.6705, -0.3416, -0.0395, -0.2628],\n",
       "                      [-2.5782,  0.2430,  0.5118, -0.6815],\n",
       "                      [ 1.6398,  0.4957, -1.3584, -0.1097],\n",
       "                      [-0.6705, -0.3416, -0.0395, -0.2628]]),\n",
       "       ),\n",
       "    a: tensor([[ 0.6505, -1.0021,  0.1281],\n",
       "               [ 0.4797,  1.7353,  0.2242],\n",
       "               [ 0.6505, -1.0021,  0.1281],\n",
       "               [ 0.4797,  1.7353,  0.2242],\n",
       "               [ 0.6505, -1.0021,  0.1281],\n",
       "               [ 0.4797,  1.7353,  0.2242],\n",
       "               [ 0.6505, -1.0021,  0.1281],\n",
       "               [ 0.4797,  1.7353,  0.2242],\n",
       "               [ 0.6505, -1.0021,  0.1281],\n",
       "               [ 0.4797,  1.7353,  0.2242],\n",
       "               [ 0.6505, -1.0021,  0.1281],\n",
       "               [ 0.4797,  1.7353,  0.2242],\n",
       "               [ 0.6505, -1.0021,  0.1281],\n",
       "               [ 0.4797,  1.7353,  0.2242],\n",
       "               [ 0.6505, -1.0021,  0.1281],\n",
       "               [ 0.4797,  1.7353,  0.2242]]),\n",
       ")"
      ]
     },
     "execution_count": 27,
     "metadata": {},
     "output_type": "execute_result"
    }
   ],
   "source": [
    "Batch.cat(batches)"
   ]
  },
  {
   "cell_type": "code",
   "execution_count": 28,
   "id": "18dfb045",
   "metadata": {
    "execution": {
     "iopub.execute_input": "2023-02-27T13:45:15.480282Z",
     "iopub.status.busy": "2023-02-27T13:45:15.479961Z",
     "iopub.status.idle": "2023-02-27T13:45:27.017308Z",
     "shell.execute_reply": "2023-02-27T13:45:27.016538Z"
    }
   },
   "outputs": [
    {
     "name": "stdout",
     "output_type": "stream",
     "text": [
      "142 µs ± 516 ns per loop (mean ± std. dev. of 7 runs, 10,000 loops each)\n"
     ]
    }
   ],
   "source": [
    "%timeit Batch.cat(batches)"
   ]
  },
  {
   "cell_type": "code",
   "execution_count": 29,
   "id": "c6688e51",
   "metadata": {
    "execution": {
     "iopub.execute_input": "2023-02-27T13:45:27.020155Z",
     "iopub.status.busy": "2023-02-27T13:45:27.019569Z",
     "iopub.status.idle": "2023-02-27T13:45:29.531338Z",
     "shell.execute_reply": "2023-02-27T13:45:29.530655Z"
    }
   },
   "outputs": [
    {
     "name": "stdout",
     "output_type": "stream",
     "text": [
      "308 µs ± 680 ns per loop (mean ± std. dev. of 7 runs, 1,000 loops each)\n"
     ]
    }
   ],
   "source": [
    "batch = Batch({\n",
    "    'obs': torch.randn(8, 4, 84, 84),\n",
    "    'action': torch.randint(0, 6, size=(8, 1,)),\n",
    "    'reward': torch.rand(8, 1)}\n",
    ")\n",
    "\n",
    "%timeit list(Batch.split(batch, 1, shuffle=False, merge_last=True))"
   ]
  },
  {
   "cell_type": "code",
   "execution_count": null,
   "id": "2539fbd9",
   "metadata": {},
   "outputs": [],
   "source": []
  }
 ],
 "metadata": {
  "kernelspec": {
   "display_name": "Python 3 (ipykernel)",
   "language": "python",
   "name": "python3"
  },
  "language_info": {
   "codemirror_mode": {
    "name": "ipython",
    "version": 3
   },
   "file_extension": ".py",
   "mimetype": "text/x-python",
   "name": "python",
   "nbconvert_exporter": "python",
   "pygments_lexer": "ipython3",
   "version": "3.8.16"
  }
 },
 "nbformat": 4,
 "nbformat_minor": 5
}
