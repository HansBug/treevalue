{
 "cells": [
  {
   "cell_type": "markdown",
   "id": "9d39d946",
   "metadata": {},
   "source": [
    "# Comparison Between TreeValue and Tianshou Batch"
   ]
  },
  {
   "cell_type": "markdown",
   "id": "3c6db2d4",
   "metadata": {},
   "source": [
    "In this section, we will take a look at the feature and performance of the [Tianshou Batch](https://github.com/thu-ml/tianshou) library, which is developed by Tsinghua Machine Learning Group."
   ]
  },
  {
   "cell_type": "markdown",
   "id": "069361b0",
   "metadata": {},
   "source": [
    "Before starting the comparison, let us define some thing."
   ]
  },
  {
   "cell_type": "code",
   "execution_count": 1,
   "id": "06fc8d26",
   "metadata": {
    "execution": {
     "iopub.execute_input": "2023-02-24T07:49:34.249675Z",
     "iopub.status.busy": "2023-02-24T07:49:34.249039Z",
     "iopub.status.idle": "2023-02-24T07:49:35.160878Z",
     "shell.execute_reply": "2023-02-24T07:49:35.160201Z"
    }
   },
   "outputs": [
    {
     "name": "stderr",
     "output_type": "stream",
     "text": [
      "/opt/hostedtoolcache/Python/3.8.16/x64/lib/python3.8/site-packages/tqdm/auto.py:22: TqdmWarning: IProgress not found. Please update jupyter and ipywidgets. See https://ipywidgets.readthedocs.io/en/stable/user_install.html\n",
      "  from .autonotebook import tqdm as notebook_tqdm\n"
     ]
    }
   ],
   "source": [
    "import torch \n",
    "\n",
    "_TREE_DATA_1 = {'a': 1, 'b': 2, 'x': {'c': 3, 'd': 4}}\n",
    "_TREE_DATA_2 = {\n",
    "    'a': torch.randn(2, 3), \n",
    "    'x': {\n",
    "        'c': torch.randn(3, 4)\n",
    "    },\n",
    "}\n",
    "_TREE_DATA_3 = {\n",
    "    'obs': torch.randn(4, 84, 84),\n",
    "    'action': torch.randint(0, 6, size=(1,)),\n",
    "    'reward': torch.rand(1),\n",
    "}"
   ]
  },
  {
   "cell_type": "markdown",
   "id": "83461b25",
   "metadata": {},
   "source": [
    "## Read and Write Operation"
   ]
  },
  {
   "cell_type": "markdown",
   "id": "067b3f73",
   "metadata": {},
   "source": [
    "Reading and writing are the two most common operations in the tree data structure based on the data model (TreeValue and Tianshou Batch both belong to this type), so this section will compare the reading and writing performance of these two libraries."
   ]
  },
  {
   "cell_type": "markdown",
   "id": "5d09a5b7",
   "metadata": {},
   "source": [
    "### TreeValue's Get and Set"
   ]
  },
  {
   "cell_type": "code",
   "execution_count": 2,
   "id": "9519c4bb",
   "metadata": {
    "execution": {
     "iopub.execute_input": "2023-02-24T07:49:35.164264Z",
     "iopub.status.busy": "2023-02-24T07:49:35.163852Z",
     "iopub.status.idle": "2023-02-24T07:49:35.197125Z",
     "shell.execute_reply": "2023-02-24T07:49:35.196487Z"
    }
   },
   "outputs": [],
   "source": [
    "from treevalue import FastTreeValue\n",
    "\n",
    "t = FastTreeValue(_TREE_DATA_2)"
   ]
  },
  {
   "cell_type": "code",
   "execution_count": 3,
   "id": "11c37677",
   "metadata": {
    "execution": {
     "iopub.execute_input": "2023-02-24T07:49:35.200699Z",
     "iopub.status.busy": "2023-02-24T07:49:35.199664Z",
     "iopub.status.idle": "2023-02-24T07:49:35.209688Z",
     "shell.execute_reply": "2023-02-24T07:49:35.209100Z"
    }
   },
   "outputs": [
    {
     "data": {
      "text/plain": [
       "<FastTreeValue 0x7fb7b4cd7460>\n",
       "├── 'a' --> tensor([[-0.5522,  0.4539, -1.2755],\n",
       "│                   [ 0.9862, -0.1831,  1.4673]])\n",
       "└── 'x' --> <FastTreeValue 0x7fb7b4cd77f0>\n",
       "    └── 'c' --> tensor([[-0.9148,  1.6883, -0.0744,  2.1475],\n",
       "                        [ 0.1008, -1.0256,  0.6670,  0.2197],\n",
       "                        [-0.2459, -2.1217, -0.7434, -1.5399]])"
      ]
     },
     "execution_count": 3,
     "metadata": {},
     "output_type": "execute_result"
    }
   ],
   "source": [
    "t"
   ]
  },
  {
   "cell_type": "code",
   "execution_count": 4,
   "id": "fd70b0b9",
   "metadata": {
    "execution": {
     "iopub.execute_input": "2023-02-24T07:49:35.212564Z",
     "iopub.status.busy": "2023-02-24T07:49:35.212078Z",
     "iopub.status.idle": "2023-02-24T07:49:35.217274Z",
     "shell.execute_reply": "2023-02-24T07:49:35.216682Z"
    }
   },
   "outputs": [
    {
     "data": {
      "text/plain": [
       "tensor([[-0.5522,  0.4539, -1.2755],\n",
       "        [ 0.9862, -0.1831,  1.4673]])"
      ]
     },
     "execution_count": 4,
     "metadata": {},
     "output_type": "execute_result"
    }
   ],
   "source": [
    "t.a"
   ]
  },
  {
   "cell_type": "code",
   "execution_count": 5,
   "id": "c18197bd",
   "metadata": {
    "execution": {
     "iopub.execute_input": "2023-02-24T07:49:35.219831Z",
     "iopub.status.busy": "2023-02-24T07:49:35.219501Z",
     "iopub.status.idle": "2023-02-24T07:49:40.076499Z",
     "shell.execute_reply": "2023-02-24T07:49:40.075789Z"
    }
   },
   "outputs": [
    {
     "name": "stdout",
     "output_type": "stream",
     "text": [
      "59.8 ns ± 0.0363 ns per loop (mean ± std. dev. of 7 runs, 10,000,000 loops each)\n"
     ]
    }
   ],
   "source": [
    "%timeit t.a"
   ]
  },
  {
   "cell_type": "code",
   "execution_count": 6,
   "id": "bd52f867",
   "metadata": {
    "execution": {
     "iopub.execute_input": "2023-02-24T07:49:40.079595Z",
     "iopub.status.busy": "2023-02-24T07:49:40.079347Z",
     "iopub.status.idle": "2023-02-24T07:49:40.085752Z",
     "shell.execute_reply": "2023-02-24T07:49:40.085169Z"
    }
   },
   "outputs": [
    {
     "data": {
      "text/plain": [
       "<FastTreeValue 0x7fb7b4cd7460>\n",
       "├── 'a' --> tensor([[-1.3322,  1.1355, -0.7482],\n",
       "│                   [-1.7904, -0.7958,  1.5811]])\n",
       "└── 'x' --> <FastTreeValue 0x7fb7b4cd77f0>\n",
       "    └── 'c' --> tensor([[-0.9148,  1.6883, -0.0744,  2.1475],\n",
       "                        [ 0.1008, -1.0256,  0.6670,  0.2197],\n",
       "                        [-0.2459, -2.1217, -0.7434, -1.5399]])"
      ]
     },
     "execution_count": 6,
     "metadata": {},
     "output_type": "execute_result"
    }
   ],
   "source": [
    "new_value = torch.randn(2, 3)\n",
    "t.a = new_value\n",
    "\n",
    "t"
   ]
  },
  {
   "cell_type": "code",
   "execution_count": 7,
   "id": "bbe04d1c",
   "metadata": {
    "execution": {
     "iopub.execute_input": "2023-02-24T07:49:40.088574Z",
     "iopub.status.busy": "2023-02-24T07:49:40.088100Z",
     "iopub.status.idle": "2023-02-24T07:49:44.987962Z",
     "shell.execute_reply": "2023-02-24T07:49:44.987199Z"
    }
   },
   "outputs": [
    {
     "name": "stdout",
     "output_type": "stream",
     "text": [
      "60.5 ns ± 0.0246 ns per loop (mean ± std. dev. of 7 runs, 10,000,000 loops each)\n"
     ]
    }
   ],
   "source": [
    "%timeit t.a = new_value"
   ]
  },
  {
   "cell_type": "markdown",
   "id": "48c49731",
   "metadata": {},
   "source": [
    "### Tianshou Batch's Get and Set"
   ]
  },
  {
   "cell_type": "code",
   "execution_count": 8,
   "id": "f1bb14c1",
   "metadata": {
    "execution": {
     "iopub.execute_input": "2023-02-24T07:49:44.991233Z",
     "iopub.status.busy": "2023-02-24T07:49:44.990649Z",
     "iopub.status.idle": "2023-02-24T07:49:45.325780Z",
     "shell.execute_reply": "2023-02-24T07:49:45.325075Z"
    }
   },
   "outputs": [],
   "source": [
    "from tianshou.data import Batch\n",
    "\n",
    "b = Batch(**_TREE_DATA_2)"
   ]
  },
  {
   "cell_type": "code",
   "execution_count": 9,
   "id": "cb0777c3",
   "metadata": {
    "execution": {
     "iopub.execute_input": "2023-02-24T07:49:45.329025Z",
     "iopub.status.busy": "2023-02-24T07:49:45.328350Z",
     "iopub.status.idle": "2023-02-24T07:49:45.334632Z",
     "shell.execute_reply": "2023-02-24T07:49:45.334036Z"
    }
   },
   "outputs": [
    {
     "data": {
      "text/plain": [
       "Batch(\n",
       "    a: tensor([[-0.5522,  0.4539, -1.2755],\n",
       "               [ 0.9862, -0.1831,  1.4673]]),\n",
       "    x: Batch(\n",
       "           c: tensor([[-0.9148,  1.6883, -0.0744,  2.1475],\n",
       "                      [ 0.1008, -1.0256,  0.6670,  0.2197],\n",
       "                      [-0.2459, -2.1217, -0.7434, -1.5399]]),\n",
       "       ),\n",
       ")"
      ]
     },
     "execution_count": 9,
     "metadata": {},
     "output_type": "execute_result"
    }
   ],
   "source": [
    "b"
   ]
  },
  {
   "cell_type": "code",
   "execution_count": 10,
   "id": "43ef8ea3",
   "metadata": {
    "execution": {
     "iopub.execute_input": "2023-02-24T07:49:45.337375Z",
     "iopub.status.busy": "2023-02-24T07:49:45.336868Z",
     "iopub.status.idle": "2023-02-24T07:49:45.342604Z",
     "shell.execute_reply": "2023-02-24T07:49:45.342015Z"
    }
   },
   "outputs": [
    {
     "data": {
      "text/plain": [
       "tensor([[-0.5522,  0.4539, -1.2755],\n",
       "        [ 0.9862, -0.1831,  1.4673]])"
      ]
     },
     "execution_count": 10,
     "metadata": {},
     "output_type": "execute_result"
    }
   ],
   "source": [
    "b.a"
   ]
  },
  {
   "cell_type": "code",
   "execution_count": 11,
   "id": "b785ab72",
   "metadata": {
    "execution": {
     "iopub.execute_input": "2023-02-24T07:49:45.345332Z",
     "iopub.status.busy": "2023-02-24T07:49:45.344851Z",
     "iopub.status.idle": "2023-02-24T07:49:49.785319Z",
     "shell.execute_reply": "2023-02-24T07:49:49.784517Z"
    }
   },
   "outputs": [
    {
     "name": "stdout",
     "output_type": "stream",
     "text": [
      "54.6 ns ± 0.0261 ns per loop (mean ± std. dev. of 7 runs, 10,000,000 loops each)\n"
     ]
    }
   ],
   "source": [
    "%timeit b.a"
   ]
  },
  {
   "cell_type": "code",
   "execution_count": 12,
   "id": "ad54dc69",
   "metadata": {
    "execution": {
     "iopub.execute_input": "2023-02-24T07:49:49.788238Z",
     "iopub.status.busy": "2023-02-24T07:49:49.787684Z",
     "iopub.status.idle": "2023-02-24T07:49:49.794065Z",
     "shell.execute_reply": "2023-02-24T07:49:49.793466Z"
    }
   },
   "outputs": [
    {
     "data": {
      "text/plain": [
       "Batch(\n",
       "    a: tensor([[-1.8979, -0.0206, -0.1976],\n",
       "               [ 1.1287,  1.1737, -0.1409]]),\n",
       "    x: Batch(\n",
       "           c: tensor([[-0.9148,  1.6883, -0.0744,  2.1475],\n",
       "                      [ 0.1008, -1.0256,  0.6670,  0.2197],\n",
       "                      [-0.2459, -2.1217, -0.7434, -1.5399]]),\n",
       "       ),\n",
       ")"
      ]
     },
     "execution_count": 12,
     "metadata": {},
     "output_type": "execute_result"
    }
   ],
   "source": [
    "new_value = torch.randn(2, 3)\n",
    "b.a = new_value\n",
    "\n",
    "b"
   ]
  },
  {
   "cell_type": "code",
   "execution_count": 13,
   "id": "29b1d0bf",
   "metadata": {
    "execution": {
     "iopub.execute_input": "2023-02-24T07:49:49.796564Z",
     "iopub.status.busy": "2023-02-24T07:49:49.796204Z",
     "iopub.status.idle": "2023-02-24T07:49:53.748770Z",
     "shell.execute_reply": "2023-02-24T07:49:53.748091Z"
    }
   },
   "outputs": [
    {
     "name": "stdout",
     "output_type": "stream",
     "text": [
      "487 ns ± 0.203 ns per loop (mean ± std. dev. of 7 runs, 1,000,000 loops each)\n"
     ]
    }
   ],
   "source": [
    "%timeit b.a = new_value"
   ]
  },
  {
   "cell_type": "markdown",
   "id": "b61ad1d0",
   "metadata": {},
   "source": [
    "## Initialization"
   ]
  },
  {
   "cell_type": "markdown",
   "id": "d70f0d54",
   "metadata": {},
   "source": [
    "### TreeValue's Initialization"
   ]
  },
  {
   "cell_type": "code",
   "execution_count": 14,
   "id": "d32a679b",
   "metadata": {
    "execution": {
     "iopub.execute_input": "2023-02-24T07:49:53.751715Z",
     "iopub.status.busy": "2023-02-24T07:49:53.751163Z",
     "iopub.status.idle": "2023-02-24T07:50:00.658692Z",
     "shell.execute_reply": "2023-02-24T07:50:00.657906Z"
    }
   },
   "outputs": [
    {
     "name": "stdout",
     "output_type": "stream",
     "text": [
      "851 ns ± 4.03 ns per loop (mean ± std. dev. of 7 runs, 1,000,000 loops each)\n"
     ]
    }
   ],
   "source": [
    "%timeit FastTreeValue(_TREE_DATA_1)"
   ]
  },
  {
   "cell_type": "markdown",
   "id": "24f3707b",
   "metadata": {},
   "source": [
    "### Tianshou Batch's Initialization"
   ]
  },
  {
   "cell_type": "code",
   "execution_count": 15,
   "id": "ac3958df",
   "metadata": {
    "execution": {
     "iopub.execute_input": "2023-02-24T07:50:00.661480Z",
     "iopub.status.busy": "2023-02-24T07:50:00.661178Z",
     "iopub.status.idle": "2023-02-24T07:50:09.965700Z",
     "shell.execute_reply": "2023-02-24T07:50:09.964910Z"
    }
   },
   "outputs": [
    {
     "name": "stdout",
     "output_type": "stream",
     "text": [
      "11.5 µs ± 14.8 ns per loop (mean ± std. dev. of 7 runs, 100,000 loops each)\n"
     ]
    }
   ],
   "source": [
    "%timeit Batch(**_TREE_DATA_1)"
   ]
  },
  {
   "cell_type": "markdown",
   "id": "1ab82e2d",
   "metadata": {},
   "source": [
    "## Deep Copy Operation"
   ]
  },
  {
   "cell_type": "code",
   "execution_count": 16,
   "id": "210a9442",
   "metadata": {
    "execution": {
     "iopub.execute_input": "2023-02-24T07:50:09.968472Z",
     "iopub.status.busy": "2023-02-24T07:50:09.968128Z",
     "iopub.status.idle": "2023-02-24T07:50:09.972021Z",
     "shell.execute_reply": "2023-02-24T07:50:09.971428Z"
    }
   },
   "outputs": [],
   "source": [
    "import copy"
   ]
  },
  {
   "cell_type": "markdown",
   "id": "5a736274",
   "metadata": {},
   "source": [
    "### Deep Copy of TreeValue"
   ]
  },
  {
   "cell_type": "code",
   "execution_count": 17,
   "id": "f9bcadd6",
   "metadata": {
    "execution": {
     "iopub.execute_input": "2023-02-24T07:50:09.974420Z",
     "iopub.status.busy": "2023-02-24T07:50:09.974080Z",
     "iopub.status.idle": "2023-02-24T07:50:21.143591Z",
     "shell.execute_reply": "2023-02-24T07:50:21.142998Z"
    }
   },
   "outputs": [
    {
     "name": "stdout",
     "output_type": "stream",
     "text": [
      "138 µs ± 581 ns per loop (mean ± std. dev. of 7 runs, 10,000 loops each)\n"
     ]
    }
   ],
   "source": [
    "t3 = FastTreeValue(_TREE_DATA_3)\n",
    "%timeit copy.deepcopy(t3)"
   ]
  },
  {
   "cell_type": "markdown",
   "id": "bf8be7ea",
   "metadata": {},
   "source": [
    "### Deep Copy of Tianshou Batch"
   ]
  },
  {
   "cell_type": "code",
   "execution_count": 18,
   "id": "91998e6f",
   "metadata": {
    "execution": {
     "iopub.execute_input": "2023-02-24T07:50:21.146881Z",
     "iopub.status.busy": "2023-02-24T07:50:21.146373Z",
     "iopub.status.idle": "2023-02-24T07:50:32.463793Z",
     "shell.execute_reply": "2023-02-24T07:50:32.463196Z"
    }
   },
   "outputs": [
    {
     "name": "stdout",
     "output_type": "stream",
     "text": [
      "139 µs ± 358 ns per loop (mean ± std. dev. of 7 runs, 10,000 loops each)\n"
     ]
    }
   ],
   "source": [
    "b3 = Batch(**_TREE_DATA_3)\n",
    "%timeit copy.deepcopy(b3)"
   ]
  },
  {
   "cell_type": "markdown",
   "id": "223162fb",
   "metadata": {},
   "source": [
    "## Stack, Concat and Split Operation"
   ]
  },
  {
   "cell_type": "markdown",
   "id": "85fa4a73",
   "metadata": {},
   "source": [
    "### Performance of TreeValue"
   ]
  },
  {
   "cell_type": "code",
   "execution_count": 19,
   "id": "a0c2b697",
   "metadata": {
    "execution": {
     "iopub.execute_input": "2023-02-24T07:50:32.467048Z",
     "iopub.status.busy": "2023-02-24T07:50:32.466798Z",
     "iopub.status.idle": "2023-02-24T07:50:32.470550Z",
     "shell.execute_reply": "2023-02-24T07:50:32.469869Z"
    }
   },
   "outputs": [],
   "source": [
    "trees = [FastTreeValue(_TREE_DATA_2) for _ in range(8)]"
   ]
  },
  {
   "cell_type": "code",
   "execution_count": 20,
   "id": "017ea5a5",
   "metadata": {
    "execution": {
     "iopub.execute_input": "2023-02-24T07:50:32.472818Z",
     "iopub.status.busy": "2023-02-24T07:50:32.472611Z",
     "iopub.status.idle": "2023-02-24T07:50:32.480457Z",
     "shell.execute_reply": "2023-02-24T07:50:32.479879Z"
    }
   },
   "outputs": [
    {
     "data": {
      "text/plain": [
       "<FastTreeValue 0x7fb710d5b310>\n",
       "├── 'a' --> tensor([[[-0.5522,  0.4539, -1.2755],\n",
       "│                    [ 0.9862, -0.1831,  1.4673]],\n",
       "│           \n",
       "│                   [[-0.5522,  0.4539, -1.2755],\n",
       "│                    [ 0.9862, -0.1831,  1.4673]],\n",
       "│           \n",
       "│                   [[-0.5522,  0.4539, -1.2755],\n",
       "│                    [ 0.9862, -0.1831,  1.4673]],\n",
       "│           \n",
       "│                   [[-0.5522,  0.4539, -1.2755],\n",
       "│                    [ 0.9862, -0.1831,  1.4673]],\n",
       "│           \n",
       "│                   [[-0.5522,  0.4539, -1.2755],\n",
       "│                    [ 0.9862, -0.1831,  1.4673]],\n",
       "│           \n",
       "│                   [[-0.5522,  0.4539, -1.2755],\n",
       "│                    [ 0.9862, -0.1831,  1.4673]],\n",
       "│           \n",
       "│                   [[-0.5522,  0.4539, -1.2755],\n",
       "│                    [ 0.9862, -0.1831,  1.4673]],\n",
       "│           \n",
       "│                   [[-0.5522,  0.4539, -1.2755],\n",
       "│                    [ 0.9862, -0.1831,  1.4673]]])\n",
       "└── 'x' --> <FastTreeValue 0x7fb7099f81f0>\n",
       "    └── 'c' --> tensor([[[-0.9148,  1.6883, -0.0744,  2.1475],\n",
       "                         [ 0.1008, -1.0256,  0.6670,  0.2197],\n",
       "                         [-0.2459, -2.1217, -0.7434, -1.5399]],\n",
       "                \n",
       "                        [[-0.9148,  1.6883, -0.0744,  2.1475],\n",
       "                         [ 0.1008, -1.0256,  0.6670,  0.2197],\n",
       "                         [-0.2459, -2.1217, -0.7434, -1.5399]],\n",
       "                \n",
       "                        [[-0.9148,  1.6883, -0.0744,  2.1475],\n",
       "                         [ 0.1008, -1.0256,  0.6670,  0.2197],\n",
       "                         [-0.2459, -2.1217, -0.7434, -1.5399]],\n",
       "                \n",
       "                        [[-0.9148,  1.6883, -0.0744,  2.1475],\n",
       "                         [ 0.1008, -1.0256,  0.6670,  0.2197],\n",
       "                         [-0.2459, -2.1217, -0.7434, -1.5399]],\n",
       "                \n",
       "                        [[-0.9148,  1.6883, -0.0744,  2.1475],\n",
       "                         [ 0.1008, -1.0256,  0.6670,  0.2197],\n",
       "                         [-0.2459, -2.1217, -0.7434, -1.5399]],\n",
       "                \n",
       "                        [[-0.9148,  1.6883, -0.0744,  2.1475],\n",
       "                         [ 0.1008, -1.0256,  0.6670,  0.2197],\n",
       "                         [-0.2459, -2.1217, -0.7434, -1.5399]],\n",
       "                \n",
       "                        [[-0.9148,  1.6883, -0.0744,  2.1475],\n",
       "                         [ 0.1008, -1.0256,  0.6670,  0.2197],\n",
       "                         [-0.2459, -2.1217, -0.7434, -1.5399]],\n",
       "                \n",
       "                        [[-0.9148,  1.6883, -0.0744,  2.1475],\n",
       "                         [ 0.1008, -1.0256,  0.6670,  0.2197],\n",
       "                         [-0.2459, -2.1217, -0.7434, -1.5399]]])"
      ]
     },
     "execution_count": 20,
     "metadata": {},
     "output_type": "execute_result"
    }
   ],
   "source": [
    "t_stack = FastTreeValue.func(subside=True)(torch.stack)\n",
    "\n",
    "t_stack(trees)"
   ]
  },
  {
   "cell_type": "code",
   "execution_count": 21,
   "id": "f8b3f415",
   "metadata": {
    "execution": {
     "iopub.execute_input": "2023-02-24T07:50:32.482674Z",
     "iopub.status.busy": "2023-02-24T07:50:32.482461Z",
     "iopub.status.idle": "2023-02-24T07:50:35.115634Z",
     "shell.execute_reply": "2023-02-24T07:50:35.114852Z"
    }
   },
   "outputs": [
    {
     "name": "stdout",
     "output_type": "stream",
     "text": [
      "32.3 µs ± 47.8 ns per loop (mean ± std. dev. of 7 runs, 10,000 loops each)\n"
     ]
    }
   ],
   "source": [
    "%timeit t_stack(trees)"
   ]
  },
  {
   "cell_type": "code",
   "execution_count": 22,
   "id": "94b56771",
   "metadata": {
    "execution": {
     "iopub.execute_input": "2023-02-24T07:50:35.118845Z",
     "iopub.status.busy": "2023-02-24T07:50:35.118244Z",
     "iopub.status.idle": "2023-02-24T07:50:35.126096Z",
     "shell.execute_reply": "2023-02-24T07:50:35.125492Z"
    }
   },
   "outputs": [
    {
     "data": {
      "text/plain": [
       "<FastTreeValue 0x7fb7105f0bb0>\n",
       "├── 'a' --> tensor([[-0.5522,  0.4539, -1.2755],\n",
       "│                   [ 0.9862, -0.1831,  1.4673],\n",
       "│                   [-0.5522,  0.4539, -1.2755],\n",
       "│                   [ 0.9862, -0.1831,  1.4673],\n",
       "│                   [-0.5522,  0.4539, -1.2755],\n",
       "│                   [ 0.9862, -0.1831,  1.4673],\n",
       "│                   [-0.5522,  0.4539, -1.2755],\n",
       "│                   [ 0.9862, -0.1831,  1.4673],\n",
       "│                   [-0.5522,  0.4539, -1.2755],\n",
       "│                   [ 0.9862, -0.1831,  1.4673],\n",
       "│                   [-0.5522,  0.4539, -1.2755],\n",
       "│                   [ 0.9862, -0.1831,  1.4673],\n",
       "│                   [-0.5522,  0.4539, -1.2755],\n",
       "│                   [ 0.9862, -0.1831,  1.4673],\n",
       "│                   [-0.5522,  0.4539, -1.2755],\n",
       "│                   [ 0.9862, -0.1831,  1.4673]])\n",
       "└── 'x' --> <FastTreeValue 0x7fb71068d490>\n",
       "    └── 'c' --> tensor([[-0.9148,  1.6883, -0.0744,  2.1475],\n",
       "                        [ 0.1008, -1.0256,  0.6670,  0.2197],\n",
       "                        [-0.2459, -2.1217, -0.7434, -1.5399],\n",
       "                        [-0.9148,  1.6883, -0.0744,  2.1475],\n",
       "                        [ 0.1008, -1.0256,  0.6670,  0.2197],\n",
       "                        [-0.2459, -2.1217, -0.7434, -1.5399],\n",
       "                        [-0.9148,  1.6883, -0.0744,  2.1475],\n",
       "                        [ 0.1008, -1.0256,  0.6670,  0.2197],\n",
       "                        [-0.2459, -2.1217, -0.7434, -1.5399],\n",
       "                        [-0.9148,  1.6883, -0.0744,  2.1475],\n",
       "                        [ 0.1008, -1.0256,  0.6670,  0.2197],\n",
       "                        [-0.2459, -2.1217, -0.7434, -1.5399],\n",
       "                        [-0.9148,  1.6883, -0.0744,  2.1475],\n",
       "                        [ 0.1008, -1.0256,  0.6670,  0.2197],\n",
       "                        [-0.2459, -2.1217, -0.7434, -1.5399],\n",
       "                        [-0.9148,  1.6883, -0.0744,  2.1475],\n",
       "                        [ 0.1008, -1.0256,  0.6670,  0.2197],\n",
       "                        [-0.2459, -2.1217, -0.7434, -1.5399],\n",
       "                        [-0.9148,  1.6883, -0.0744,  2.1475],\n",
       "                        [ 0.1008, -1.0256,  0.6670,  0.2197],\n",
       "                        [-0.2459, -2.1217, -0.7434, -1.5399],\n",
       "                        [-0.9148,  1.6883, -0.0744,  2.1475],\n",
       "                        [ 0.1008, -1.0256,  0.6670,  0.2197],\n",
       "                        [-0.2459, -2.1217, -0.7434, -1.5399]])"
      ]
     },
     "execution_count": 22,
     "metadata": {},
     "output_type": "execute_result"
    }
   ],
   "source": [
    "t_cat = FastTreeValue.func(subside=True)(torch.cat)\n",
    "\n",
    "t_cat(trees)"
   ]
  },
  {
   "cell_type": "code",
   "execution_count": 23,
   "id": "5e9c06a6",
   "metadata": {
    "execution": {
     "iopub.execute_input": "2023-02-24T07:50:35.128510Z",
     "iopub.status.busy": "2023-02-24T07:50:35.128170Z",
     "iopub.status.idle": "2023-02-24T07:50:37.571759Z",
     "shell.execute_reply": "2023-02-24T07:50:37.571021Z"
    }
   },
   "outputs": [
    {
     "name": "stdout",
     "output_type": "stream",
     "text": [
      "30 µs ± 72.5 ns per loop (mean ± std. dev. of 7 runs, 10,000 loops each)\n"
     ]
    }
   ],
   "source": [
    "%timeit t_cat(trees)"
   ]
  },
  {
   "cell_type": "code",
   "execution_count": 24,
   "id": "a3ab5c8f",
   "metadata": {
    "execution": {
     "iopub.execute_input": "2023-02-24T07:50:37.574865Z",
     "iopub.status.busy": "2023-02-24T07:50:37.574257Z",
     "iopub.status.idle": "2023-02-24T07:50:42.436824Z",
     "shell.execute_reply": "2023-02-24T07:50:42.436067Z"
    }
   },
   "outputs": [
    {
     "name": "stdout",
     "output_type": "stream",
     "text": [
      "59.8 µs ± 56.3 ns per loop (mean ± std. dev. of 7 runs, 10,000 loops each)\n"
     ]
    }
   ],
   "source": [
    "t_split = FastTreeValue.func(rise=True)(torch.split)\n",
    "tree = FastTreeValue({\n",
    "    'obs': torch.randn(8, 4, 84, 84),\n",
    "    'action': torch.randint(0, 6, size=(8, 1,)),\n",
    "    'reward': torch.rand(8, 1),\n",
    "})\n",
    "\n",
    "%timeit t_split(tree, 1)"
   ]
  },
  {
   "cell_type": "markdown",
   "id": "31c3ec0b",
   "metadata": {},
   "source": [
    "### Performance of Tianshou Batch"
   ]
  },
  {
   "cell_type": "code",
   "execution_count": 25,
   "id": "9ead828a",
   "metadata": {
    "execution": {
     "iopub.execute_input": "2023-02-24T07:50:42.439560Z",
     "iopub.status.busy": "2023-02-24T07:50:42.439196Z",
     "iopub.status.idle": "2023-02-24T07:50:42.447496Z",
     "shell.execute_reply": "2023-02-24T07:50:42.446526Z"
    }
   },
   "outputs": [
    {
     "data": {
      "text/plain": [
       "Batch(\n",
       "    a: tensor([[[-0.5522,  0.4539, -1.2755],\n",
       "                [ 0.9862, -0.1831,  1.4673]],\n",
       "       \n",
       "               [[-0.5522,  0.4539, -1.2755],\n",
       "                [ 0.9862, -0.1831,  1.4673]],\n",
       "       \n",
       "               [[-0.5522,  0.4539, -1.2755],\n",
       "                [ 0.9862, -0.1831,  1.4673]],\n",
       "       \n",
       "               [[-0.5522,  0.4539, -1.2755],\n",
       "                [ 0.9862, -0.1831,  1.4673]],\n",
       "       \n",
       "               [[-0.5522,  0.4539, -1.2755],\n",
       "                [ 0.9862, -0.1831,  1.4673]],\n",
       "       \n",
       "               [[-0.5522,  0.4539, -1.2755],\n",
       "                [ 0.9862, -0.1831,  1.4673]],\n",
       "       \n",
       "               [[-0.5522,  0.4539, -1.2755],\n",
       "                [ 0.9862, -0.1831,  1.4673]],\n",
       "       \n",
       "               [[-0.5522,  0.4539, -1.2755],\n",
       "                [ 0.9862, -0.1831,  1.4673]]]),\n",
       "    x: Batch(\n",
       "           c: tensor([[[-0.9148,  1.6883, -0.0744,  2.1475],\n",
       "                       [ 0.1008, -1.0256,  0.6670,  0.2197],\n",
       "                       [-0.2459, -2.1217, -0.7434, -1.5399]],\n",
       "              \n",
       "                      [[-0.9148,  1.6883, -0.0744,  2.1475],\n",
       "                       [ 0.1008, -1.0256,  0.6670,  0.2197],\n",
       "                       [-0.2459, -2.1217, -0.7434, -1.5399]],\n",
       "              \n",
       "                      [[-0.9148,  1.6883, -0.0744,  2.1475],\n",
       "                       [ 0.1008, -1.0256,  0.6670,  0.2197],\n",
       "                       [-0.2459, -2.1217, -0.7434, -1.5399]],\n",
       "              \n",
       "                      [[-0.9148,  1.6883, -0.0744,  2.1475],\n",
       "                       [ 0.1008, -1.0256,  0.6670,  0.2197],\n",
       "                       [-0.2459, -2.1217, -0.7434, -1.5399]],\n",
       "              \n",
       "                      [[-0.9148,  1.6883, -0.0744,  2.1475],\n",
       "                       [ 0.1008, -1.0256,  0.6670,  0.2197],\n",
       "                       [-0.2459, -2.1217, -0.7434, -1.5399]],\n",
       "              \n",
       "                      [[-0.9148,  1.6883, -0.0744,  2.1475],\n",
       "                       [ 0.1008, -1.0256,  0.6670,  0.2197],\n",
       "                       [-0.2459, -2.1217, -0.7434, -1.5399]],\n",
       "              \n",
       "                      [[-0.9148,  1.6883, -0.0744,  2.1475],\n",
       "                       [ 0.1008, -1.0256,  0.6670,  0.2197],\n",
       "                       [-0.2459, -2.1217, -0.7434, -1.5399]],\n",
       "              \n",
       "                      [[-0.9148,  1.6883, -0.0744,  2.1475],\n",
       "                       [ 0.1008, -1.0256,  0.6670,  0.2197],\n",
       "                       [-0.2459, -2.1217, -0.7434, -1.5399]]]),\n",
       "       ),\n",
       ")"
      ]
     },
     "execution_count": 25,
     "metadata": {},
     "output_type": "execute_result"
    }
   ],
   "source": [
    "batches = [Batch(**_TREE_DATA_2) for _ in range(8)]\n",
    "\n",
    "Batch.stack(batches)"
   ]
  },
  {
   "cell_type": "code",
   "execution_count": 26,
   "id": "ec9037a3",
   "metadata": {
    "execution": {
     "iopub.execute_input": "2023-02-24T07:50:42.450290Z",
     "iopub.status.busy": "2023-02-24T07:50:42.449785Z",
     "iopub.status.idle": "2023-02-24T07:50:48.799856Z",
     "shell.execute_reply": "2023-02-24T07:50:48.799184Z"
    }
   },
   "outputs": [
    {
     "name": "stdout",
     "output_type": "stream",
     "text": [
      "78.1 µs ± 214 ns per loop (mean ± std. dev. of 7 runs, 10,000 loops each)\n"
     ]
    }
   ],
   "source": [
    "%timeit Batch.stack(batches)"
   ]
  },
  {
   "cell_type": "code",
   "execution_count": 27,
   "id": "cb8ab77e",
   "metadata": {
    "execution": {
     "iopub.execute_input": "2023-02-24T07:50:48.802816Z",
     "iopub.status.busy": "2023-02-24T07:50:48.802447Z",
     "iopub.status.idle": "2023-02-24T07:50:48.810132Z",
     "shell.execute_reply": "2023-02-24T07:50:48.809539Z"
    }
   },
   "outputs": [
    {
     "data": {
      "text/plain": [
       "Batch(\n",
       "    a: tensor([[-0.5522,  0.4539, -1.2755],\n",
       "               [ 0.9862, -0.1831,  1.4673],\n",
       "               [-0.5522,  0.4539, -1.2755],\n",
       "               [ 0.9862, -0.1831,  1.4673],\n",
       "               [-0.5522,  0.4539, -1.2755],\n",
       "               [ 0.9862, -0.1831,  1.4673],\n",
       "               [-0.5522,  0.4539, -1.2755],\n",
       "               [ 0.9862, -0.1831,  1.4673],\n",
       "               [-0.5522,  0.4539, -1.2755],\n",
       "               [ 0.9862, -0.1831,  1.4673],\n",
       "               [-0.5522,  0.4539, -1.2755],\n",
       "               [ 0.9862, -0.1831,  1.4673],\n",
       "               [-0.5522,  0.4539, -1.2755],\n",
       "               [ 0.9862, -0.1831,  1.4673],\n",
       "               [-0.5522,  0.4539, -1.2755],\n",
       "               [ 0.9862, -0.1831,  1.4673]]),\n",
       "    x: Batch(\n",
       "           c: tensor([[-0.9148,  1.6883, -0.0744,  2.1475],\n",
       "                      [ 0.1008, -1.0256,  0.6670,  0.2197],\n",
       "                      [-0.2459, -2.1217, -0.7434, -1.5399],\n",
       "                      [-0.9148,  1.6883, -0.0744,  2.1475],\n",
       "                      [ 0.1008, -1.0256,  0.6670,  0.2197],\n",
       "                      [-0.2459, -2.1217, -0.7434, -1.5399],\n",
       "                      [-0.9148,  1.6883, -0.0744,  2.1475],\n",
       "                      [ 0.1008, -1.0256,  0.6670,  0.2197],\n",
       "                      [-0.2459, -2.1217, -0.7434, -1.5399],\n",
       "                      [-0.9148,  1.6883, -0.0744,  2.1475],\n",
       "                      [ 0.1008, -1.0256,  0.6670,  0.2197],\n",
       "                      [-0.2459, -2.1217, -0.7434, -1.5399],\n",
       "                      [-0.9148,  1.6883, -0.0744,  2.1475],\n",
       "                      [ 0.1008, -1.0256,  0.6670,  0.2197],\n",
       "                      [-0.2459, -2.1217, -0.7434, -1.5399],\n",
       "                      [-0.9148,  1.6883, -0.0744,  2.1475],\n",
       "                      [ 0.1008, -1.0256,  0.6670,  0.2197],\n",
       "                      [-0.2459, -2.1217, -0.7434, -1.5399],\n",
       "                      [-0.9148,  1.6883, -0.0744,  2.1475],\n",
       "                      [ 0.1008, -1.0256,  0.6670,  0.2197],\n",
       "                      [-0.2459, -2.1217, -0.7434, -1.5399],\n",
       "                      [-0.9148,  1.6883, -0.0744,  2.1475],\n",
       "                      [ 0.1008, -1.0256,  0.6670,  0.2197],\n",
       "                      [-0.2459, -2.1217, -0.7434, -1.5399]]),\n",
       "       ),\n",
       ")"
      ]
     },
     "execution_count": 27,
     "metadata": {},
     "output_type": "execute_result"
    }
   ],
   "source": [
    "Batch.cat(batches)"
   ]
  },
  {
   "cell_type": "code",
   "execution_count": 28,
   "id": "18dfb045",
   "metadata": {
    "execution": {
     "iopub.execute_input": "2023-02-24T07:50:48.812819Z",
     "iopub.status.busy": "2023-02-24T07:50:48.812476Z",
     "iopub.status.idle": "2023-02-24T07:51:00.444729Z",
     "shell.execute_reply": "2023-02-24T07:51:00.444055Z"
    }
   },
   "outputs": [
    {
     "name": "stdout",
     "output_type": "stream",
     "text": [
      "143 µs ± 286 ns per loop (mean ± std. dev. of 7 runs, 10,000 loops each)\n"
     ]
    }
   ],
   "source": [
    "%timeit Batch.cat(batches)"
   ]
  },
  {
   "cell_type": "code",
   "execution_count": 29,
   "id": "c6688e51",
   "metadata": {
    "execution": {
     "iopub.execute_input": "2023-02-24T07:51:00.447612Z",
     "iopub.status.busy": "2023-02-24T07:51:00.447055Z",
     "iopub.status.idle": "2023-02-24T07:51:03.031960Z",
     "shell.execute_reply": "2023-02-24T07:51:03.031353Z"
    }
   },
   "outputs": [
    {
     "name": "stdout",
     "output_type": "stream",
     "text": [
      "317 µs ± 626 ns per loop (mean ± std. dev. of 7 runs, 1,000 loops each)\n"
     ]
    }
   ],
   "source": [
    "batch = Batch({\n",
    "    'obs': torch.randn(8, 4, 84, 84),\n",
    "    'action': torch.randint(0, 6, size=(8, 1,)),\n",
    "    'reward': torch.rand(8, 1)}\n",
    ")\n",
    "\n",
    "%timeit list(Batch.split(batch, 1, shuffle=False, merge_last=True))"
   ]
  },
  {
   "cell_type": "code",
   "execution_count": null,
   "id": "2539fbd9",
   "metadata": {},
   "outputs": [],
   "source": []
  }
 ],
 "metadata": {
  "kernelspec": {
   "display_name": "Python 3 (ipykernel)",
   "language": "python",
   "name": "python3"
  },
  "language_info": {
   "codemirror_mode": {
    "name": "ipython",
    "version": 3
   },
   "file_extension": ".py",
   "mimetype": "text/x-python",
   "name": "python",
   "nbconvert_exporter": "python",
   "pygments_lexer": "ipython3",
   "version": "3.8.16"
  }
 },
 "nbformat": 4,
 "nbformat_minor": 5
}
