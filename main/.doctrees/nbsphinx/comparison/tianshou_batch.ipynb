{
 "cells": [
  {
   "cell_type": "markdown",
   "id": "9d39d946",
   "metadata": {},
   "source": [
    "# Comparison Between TreeValue and Tianshou Batch"
   ]
  },
  {
   "cell_type": "markdown",
   "id": "3c6db2d4",
   "metadata": {},
   "source": [
    "In this section, we will take a look at the feature and performance of the [Tianshou Batch](https://github.com/thu-ml/tianshou) library, which is developed by Tsinghua Machine Learning Group."
   ]
  },
  {
   "cell_type": "markdown",
   "id": "069361b0",
   "metadata": {},
   "source": [
    "Before starting the comparison, let us define some thing."
   ]
  },
  {
   "cell_type": "code",
   "execution_count": 1,
   "id": "06fc8d26",
   "metadata": {
    "execution": {
     "iopub.execute_input": "2023-02-25T07:41:52.491749Z",
     "iopub.status.busy": "2023-02-25T07:41:52.491186Z",
     "iopub.status.idle": "2023-02-25T07:41:53.397616Z",
     "shell.execute_reply": "2023-02-25T07:41:53.396953Z"
    }
   },
   "outputs": [
    {
     "name": "stderr",
     "output_type": "stream",
     "text": [
      "/opt/hostedtoolcache/Python/3.8.16/x64/lib/python3.8/site-packages/tqdm/auto.py:22: TqdmWarning: IProgress not found. Please update jupyter and ipywidgets. See https://ipywidgets.readthedocs.io/en/stable/user_install.html\n",
      "  from .autonotebook import tqdm as notebook_tqdm\n"
     ]
    }
   ],
   "source": [
    "import torch \n",
    "\n",
    "_TREE_DATA_1 = {'a': 1, 'b': 2, 'x': {'c': 3, 'd': 4}}\n",
    "_TREE_DATA_2 = {\n",
    "    'a': torch.randn(2, 3), \n",
    "    'x': {\n",
    "        'c': torch.randn(3, 4)\n",
    "    },\n",
    "}\n",
    "_TREE_DATA_3 = {\n",
    "    'obs': torch.randn(4, 84, 84),\n",
    "    'action': torch.randint(0, 6, size=(1,)),\n",
    "    'reward': torch.rand(1),\n",
    "}"
   ]
  },
  {
   "cell_type": "markdown",
   "id": "83461b25",
   "metadata": {},
   "source": [
    "## Read and Write Operation"
   ]
  },
  {
   "cell_type": "markdown",
   "id": "067b3f73",
   "metadata": {},
   "source": [
    "Reading and writing are the two most common operations in the tree data structure based on the data model (TreeValue and Tianshou Batch both belong to this type), so this section will compare the reading and writing performance of these two libraries."
   ]
  },
  {
   "cell_type": "markdown",
   "id": "5d09a5b7",
   "metadata": {},
   "source": [
    "### TreeValue's Get and Set"
   ]
  },
  {
   "cell_type": "code",
   "execution_count": 2,
   "id": "9519c4bb",
   "metadata": {
    "execution": {
     "iopub.execute_input": "2023-02-25T07:41:53.400864Z",
     "iopub.status.busy": "2023-02-25T07:41:53.400266Z",
     "iopub.status.idle": "2023-02-25T07:41:53.432903Z",
     "shell.execute_reply": "2023-02-25T07:41:53.432312Z"
    }
   },
   "outputs": [],
   "source": [
    "from treevalue import FastTreeValue\n",
    "\n",
    "t = FastTreeValue(_TREE_DATA_2)"
   ]
  },
  {
   "cell_type": "code",
   "execution_count": 3,
   "id": "11c37677",
   "metadata": {
    "execution": {
     "iopub.execute_input": "2023-02-25T07:41:53.435751Z",
     "iopub.status.busy": "2023-02-25T07:41:53.435409Z",
     "iopub.status.idle": "2023-02-25T07:41:53.444541Z",
     "shell.execute_reply": "2023-02-25T07:41:53.443949Z"
    }
   },
   "outputs": [
    {
     "data": {
      "text/plain": [
       "<FastTreeValue 0x7fc038a4f550>\n",
       "├── 'a' --> tensor([[ 1.6751,  0.4012, -0.0407],\n",
       "│                   [ 0.2470,  0.5189,  0.4012]])\n",
       "└── 'x' --> <FastTreeValue 0x7fc038a4fee0>\n",
       "    └── 'c' --> tensor([[-0.4580,  0.3277, -0.1731, -0.7808],\n",
       "                        [ 0.4153, -1.1374,  0.7077,  0.0931],\n",
       "                        [ 0.8926, -0.4442,  1.1661,  1.9294]])"
      ]
     },
     "execution_count": 3,
     "metadata": {},
     "output_type": "execute_result"
    }
   ],
   "source": [
    "t"
   ]
  },
  {
   "cell_type": "code",
   "execution_count": 4,
   "id": "fd70b0b9",
   "metadata": {
    "execution": {
     "iopub.execute_input": "2023-02-25T07:41:53.447144Z",
     "iopub.status.busy": "2023-02-25T07:41:53.446901Z",
     "iopub.status.idle": "2023-02-25T07:41:53.452000Z",
     "shell.execute_reply": "2023-02-25T07:41:53.451435Z"
    }
   },
   "outputs": [
    {
     "data": {
      "text/plain": [
       "tensor([[ 1.6751,  0.4012, -0.0407],\n",
       "        [ 0.2470,  0.5189,  0.4012]])"
      ]
     },
     "execution_count": 4,
     "metadata": {},
     "output_type": "execute_result"
    }
   ],
   "source": [
    "t.a"
   ]
  },
  {
   "cell_type": "code",
   "execution_count": 5,
   "id": "c18197bd",
   "metadata": {
    "execution": {
     "iopub.execute_input": "2023-02-25T07:41:53.454545Z",
     "iopub.status.busy": "2023-02-25T07:41:53.454224Z",
     "iopub.status.idle": "2023-02-25T07:41:58.383077Z",
     "shell.execute_reply": "2023-02-25T07:41:58.382399Z"
    }
   },
   "outputs": [
    {
     "name": "stdout",
     "output_type": "stream",
     "text": [
      "60.7 ns ± 0.0139 ns per loop (mean ± std. dev. of 7 runs, 10,000,000 loops each)\n"
     ]
    }
   ],
   "source": [
    "%timeit t.a"
   ]
  },
  {
   "cell_type": "code",
   "execution_count": 6,
   "id": "bd52f867",
   "metadata": {
    "execution": {
     "iopub.execute_input": "2023-02-25T07:41:58.386257Z",
     "iopub.status.busy": "2023-02-25T07:41:58.385672Z",
     "iopub.status.idle": "2023-02-25T07:41:58.392230Z",
     "shell.execute_reply": "2023-02-25T07:41:58.391641Z"
    }
   },
   "outputs": [
    {
     "data": {
      "text/plain": [
       "<FastTreeValue 0x7fc038a4f550>\n",
       "├── 'a' --> tensor([[ 0.7474,  0.1465, -1.0112],\n",
       "│                   [-0.2000,  0.6134, -0.6970]])\n",
       "└── 'x' --> <FastTreeValue 0x7fc038a4fee0>\n",
       "    └── 'c' --> tensor([[-0.4580,  0.3277, -0.1731, -0.7808],\n",
       "                        [ 0.4153, -1.1374,  0.7077,  0.0931],\n",
       "                        [ 0.8926, -0.4442,  1.1661,  1.9294]])"
      ]
     },
     "execution_count": 6,
     "metadata": {},
     "output_type": "execute_result"
    }
   ],
   "source": [
    "new_value = torch.randn(2, 3)\n",
    "t.a = new_value\n",
    "\n",
    "t"
   ]
  },
  {
   "cell_type": "code",
   "execution_count": 7,
   "id": "bbe04d1c",
   "metadata": {
    "execution": {
     "iopub.execute_input": "2023-02-25T07:41:58.394561Z",
     "iopub.status.busy": "2023-02-25T07:41:58.394225Z",
     "iopub.status.idle": "2023-02-25T07:42:03.697347Z",
     "shell.execute_reply": "2023-02-25T07:42:03.696683Z"
    }
   },
   "outputs": [
    {
     "name": "stdout",
     "output_type": "stream",
     "text": [
      "65.1 ns ± 0.0265 ns per loop (mean ± std. dev. of 7 runs, 10,000,000 loops each)\n"
     ]
    }
   ],
   "source": [
    "%timeit t.a = new_value"
   ]
  },
  {
   "cell_type": "markdown",
   "id": "48c49731",
   "metadata": {},
   "source": [
    "### Tianshou Batch's Get and Set"
   ]
  },
  {
   "cell_type": "code",
   "execution_count": 8,
   "id": "f1bb14c1",
   "metadata": {
    "execution": {
     "iopub.execute_input": "2023-02-25T07:42:03.700602Z",
     "iopub.status.busy": "2023-02-25T07:42:03.700014Z",
     "iopub.status.idle": "2023-02-25T07:42:04.023921Z",
     "shell.execute_reply": "2023-02-25T07:42:04.023227Z"
    }
   },
   "outputs": [],
   "source": [
    "from tianshou.data import Batch\n",
    "\n",
    "b = Batch(**_TREE_DATA_2)"
   ]
  },
  {
   "cell_type": "code",
   "execution_count": 9,
   "id": "cb0777c3",
   "metadata": {
    "execution": {
     "iopub.execute_input": "2023-02-25T07:42:04.027422Z",
     "iopub.status.busy": "2023-02-25T07:42:04.026738Z",
     "iopub.status.idle": "2023-02-25T07:42:04.032834Z",
     "shell.execute_reply": "2023-02-25T07:42:04.032253Z"
    }
   },
   "outputs": [
    {
     "data": {
      "text/plain": [
       "Batch(\n",
       "    a: tensor([[ 1.6751,  0.4012, -0.0407],\n",
       "               [ 0.2470,  0.5189,  0.4012]]),\n",
       "    x: Batch(\n",
       "           c: tensor([[-0.4580,  0.3277, -0.1731, -0.7808],\n",
       "                      [ 0.4153, -1.1374,  0.7077,  0.0931],\n",
       "                      [ 0.8926, -0.4442,  1.1661,  1.9294]]),\n",
       "       ),\n",
       ")"
      ]
     },
     "execution_count": 9,
     "metadata": {},
     "output_type": "execute_result"
    }
   ],
   "source": [
    "b"
   ]
  },
  {
   "cell_type": "code",
   "execution_count": 10,
   "id": "43ef8ea3",
   "metadata": {
    "execution": {
     "iopub.execute_input": "2023-02-25T07:42:04.035477Z",
     "iopub.status.busy": "2023-02-25T07:42:04.034904Z",
     "iopub.status.idle": "2023-02-25T07:42:04.040113Z",
     "shell.execute_reply": "2023-02-25T07:42:04.039536Z"
    }
   },
   "outputs": [
    {
     "data": {
      "text/plain": [
       "tensor([[ 1.6751,  0.4012, -0.0407],\n",
       "        [ 0.2470,  0.5189,  0.4012]])"
      ]
     },
     "execution_count": 10,
     "metadata": {},
     "output_type": "execute_result"
    }
   ],
   "source": [
    "b.a"
   ]
  },
  {
   "cell_type": "code",
   "execution_count": 11,
   "id": "b785ab72",
   "metadata": {
    "execution": {
     "iopub.execute_input": "2023-02-25T07:42:04.042396Z",
     "iopub.status.busy": "2023-02-25T07:42:04.042057Z",
     "iopub.status.idle": "2023-02-25T07:42:08.647959Z",
     "shell.execute_reply": "2023-02-25T07:42:08.647206Z"
    }
   },
   "outputs": [
    {
     "name": "stdout",
     "output_type": "stream",
     "text": [
      "56.9 ns ± 0.017 ns per loop (mean ± std. dev. of 7 runs, 10,000,000 loops each)\n"
     ]
    }
   ],
   "source": [
    "%timeit b.a"
   ]
  },
  {
   "cell_type": "code",
   "execution_count": 12,
   "id": "ad54dc69",
   "metadata": {
    "execution": {
     "iopub.execute_input": "2023-02-25T07:42:08.650636Z",
     "iopub.status.busy": "2023-02-25T07:42:08.650286Z",
     "iopub.status.idle": "2023-02-25T07:42:08.655916Z",
     "shell.execute_reply": "2023-02-25T07:42:08.655296Z"
    }
   },
   "outputs": [
    {
     "data": {
      "text/plain": [
       "Batch(\n",
       "    a: tensor([[-0.6782, -0.0247, -2.1168],\n",
       "               [-0.7172,  0.4886,  1.1220]]),\n",
       "    x: Batch(\n",
       "           c: tensor([[-0.4580,  0.3277, -0.1731, -0.7808],\n",
       "                      [ 0.4153, -1.1374,  0.7077,  0.0931],\n",
       "                      [ 0.8926, -0.4442,  1.1661,  1.9294]]),\n",
       "       ),\n",
       ")"
      ]
     },
     "execution_count": 12,
     "metadata": {},
     "output_type": "execute_result"
    }
   ],
   "source": [
    "new_value = torch.randn(2, 3)\n",
    "b.a = new_value\n",
    "\n",
    "b"
   ]
  },
  {
   "cell_type": "code",
   "execution_count": 13,
   "id": "29b1d0bf",
   "metadata": {
    "execution": {
     "iopub.execute_input": "2023-02-25T07:42:08.658223Z",
     "iopub.status.busy": "2023-02-25T07:42:08.657896Z",
     "iopub.status.idle": "2023-02-25T07:42:12.631401Z",
     "shell.execute_reply": "2023-02-25T07:42:12.630644Z"
    }
   },
   "outputs": [
    {
     "name": "stdout",
     "output_type": "stream",
     "text": [
      "489 ns ± 0.124 ns per loop (mean ± std. dev. of 7 runs, 1,000,000 loops each)\n"
     ]
    }
   ],
   "source": [
    "%timeit b.a = new_value"
   ]
  },
  {
   "cell_type": "markdown",
   "id": "b61ad1d0",
   "metadata": {},
   "source": [
    "## Initialization"
   ]
  },
  {
   "cell_type": "markdown",
   "id": "d70f0d54",
   "metadata": {},
   "source": [
    "### TreeValue's Initialization"
   ]
  },
  {
   "cell_type": "code",
   "execution_count": 14,
   "id": "d32a679b",
   "metadata": {
    "execution": {
     "iopub.execute_input": "2023-02-25T07:42:12.634569Z",
     "iopub.status.busy": "2023-02-25T07:42:12.634102Z",
     "iopub.status.idle": "2023-02-25T07:42:19.536942Z",
     "shell.execute_reply": "2023-02-25T07:42:19.536362Z"
    }
   },
   "outputs": [
    {
     "name": "stdout",
     "output_type": "stream",
     "text": [
      "849 ns ± 0.225 ns per loop (mean ± std. dev. of 7 runs, 1,000,000 loops each)\n"
     ]
    }
   ],
   "source": [
    "%timeit FastTreeValue(_TREE_DATA_1)"
   ]
  },
  {
   "cell_type": "markdown",
   "id": "24f3707b",
   "metadata": {},
   "source": [
    "### Tianshou Batch's Initialization"
   ]
  },
  {
   "cell_type": "code",
   "execution_count": 15,
   "id": "ac3958df",
   "metadata": {
    "execution": {
     "iopub.execute_input": "2023-02-25T07:42:19.539669Z",
     "iopub.status.busy": "2023-02-25T07:42:19.539223Z",
     "iopub.status.idle": "2023-02-25T07:42:28.832932Z",
     "shell.execute_reply": "2023-02-25T07:42:28.832204Z"
    }
   },
   "outputs": [
    {
     "name": "stdout",
     "output_type": "stream",
     "text": [
      "11.5 µs ± 19.1 ns per loop (mean ± std. dev. of 7 runs, 100,000 loops each)\n"
     ]
    }
   ],
   "source": [
    "%timeit Batch(**_TREE_DATA_1)"
   ]
  },
  {
   "cell_type": "markdown",
   "id": "1ab82e2d",
   "metadata": {},
   "source": [
    "## Deep Copy Operation"
   ]
  },
  {
   "cell_type": "code",
   "execution_count": 16,
   "id": "210a9442",
   "metadata": {
    "execution": {
     "iopub.execute_input": "2023-02-25T07:42:28.835945Z",
     "iopub.status.busy": "2023-02-25T07:42:28.835595Z",
     "iopub.status.idle": "2023-02-25T07:42:28.839441Z",
     "shell.execute_reply": "2023-02-25T07:42:28.838853Z"
    }
   },
   "outputs": [],
   "source": [
    "import copy"
   ]
  },
  {
   "cell_type": "markdown",
   "id": "5a736274",
   "metadata": {},
   "source": [
    "### Deep Copy of TreeValue"
   ]
  },
  {
   "cell_type": "code",
   "execution_count": 17,
   "id": "f9bcadd6",
   "metadata": {
    "execution": {
     "iopub.execute_input": "2023-02-25T07:42:28.842010Z",
     "iopub.status.busy": "2023-02-25T07:42:28.841682Z",
     "iopub.status.idle": "2023-02-25T07:42:39.730766Z",
     "shell.execute_reply": "2023-02-25T07:42:39.730204Z"
    }
   },
   "outputs": [
    {
     "name": "stdout",
     "output_type": "stream",
     "text": [
      "134 µs ± 199 ns per loop (mean ± std. dev. of 7 runs, 10,000 loops each)\n"
     ]
    }
   ],
   "source": [
    "t3 = FastTreeValue(_TREE_DATA_3)\n",
    "%timeit copy.deepcopy(t3)"
   ]
  },
  {
   "cell_type": "markdown",
   "id": "bf8be7ea",
   "metadata": {},
   "source": [
    "### Deep Copy of Tianshou Batch"
   ]
  },
  {
   "cell_type": "code",
   "execution_count": 18,
   "id": "91998e6f",
   "metadata": {
    "execution": {
     "iopub.execute_input": "2023-02-25T07:42:39.734621Z",
     "iopub.status.busy": "2023-02-25T07:42:39.733714Z",
     "iopub.status.idle": "2023-02-25T07:42:51.003606Z",
     "shell.execute_reply": "2023-02-25T07:42:51.002817Z"
    }
   },
   "outputs": [
    {
     "name": "stdout",
     "output_type": "stream",
     "text": [
      "139 µs ± 324 ns per loop (mean ± std. dev. of 7 runs, 10,000 loops each)\n"
     ]
    }
   ],
   "source": [
    "b3 = Batch(**_TREE_DATA_3)\n",
    "%timeit copy.deepcopy(b3)"
   ]
  },
  {
   "cell_type": "markdown",
   "id": "223162fb",
   "metadata": {},
   "source": [
    "## Stack, Concat and Split Operation"
   ]
  },
  {
   "cell_type": "markdown",
   "id": "85fa4a73",
   "metadata": {},
   "source": [
    "### Performance of TreeValue"
   ]
  },
  {
   "cell_type": "code",
   "execution_count": 19,
   "id": "a0c2b697",
   "metadata": {
    "execution": {
     "iopub.execute_input": "2023-02-25T07:42:51.006576Z",
     "iopub.status.busy": "2023-02-25T07:42:51.006063Z",
     "iopub.status.idle": "2023-02-25T07:42:51.010286Z",
     "shell.execute_reply": "2023-02-25T07:42:51.009686Z"
    }
   },
   "outputs": [],
   "source": [
    "trees = [FastTreeValue(_TREE_DATA_2) for _ in range(8)]"
   ]
  },
  {
   "cell_type": "code",
   "execution_count": 20,
   "id": "017ea5a5",
   "metadata": {
    "execution": {
     "iopub.execute_input": "2023-02-25T07:42:51.014051Z",
     "iopub.status.busy": "2023-02-25T07:42:51.013725Z",
     "iopub.status.idle": "2023-02-25T07:42:51.020792Z",
     "shell.execute_reply": "2023-02-25T07:42:51.020180Z"
    }
   },
   "outputs": [
    {
     "data": {
      "text/plain": [
       "<FastTreeValue 0x7fc00ff767f0>\n",
       "├── 'a' --> tensor([[[ 1.6751,  0.4012, -0.0407],\n",
       "│                    [ 0.2470,  0.5189,  0.4012]],\n",
       "│           \n",
       "│                   [[ 1.6751,  0.4012, -0.0407],\n",
       "│                    [ 0.2470,  0.5189,  0.4012]],\n",
       "│           \n",
       "│                   [[ 1.6751,  0.4012, -0.0407],\n",
       "│                    [ 0.2470,  0.5189,  0.4012]],\n",
       "│           \n",
       "│                   [[ 1.6751,  0.4012, -0.0407],\n",
       "│                    [ 0.2470,  0.5189,  0.4012]],\n",
       "│           \n",
       "│                   [[ 1.6751,  0.4012, -0.0407],\n",
       "│                    [ 0.2470,  0.5189,  0.4012]],\n",
       "│           \n",
       "│                   [[ 1.6751,  0.4012, -0.0407],\n",
       "│                    [ 0.2470,  0.5189,  0.4012]],\n",
       "│           \n",
       "│                   [[ 1.6751,  0.4012, -0.0407],\n",
       "│                    [ 0.2470,  0.5189,  0.4012]],\n",
       "│           \n",
       "│                   [[ 1.6751,  0.4012, -0.0407],\n",
       "│                    [ 0.2470,  0.5189,  0.4012]]])\n",
       "└── 'x' --> <FastTreeValue 0x7fbf8bc42b80>\n",
       "    └── 'c' --> tensor([[[-0.4580,  0.3277, -0.1731, -0.7808],\n",
       "                         [ 0.4153, -1.1374,  0.7077,  0.0931],\n",
       "                         [ 0.8926, -0.4442,  1.1661,  1.9294]],\n",
       "                \n",
       "                        [[-0.4580,  0.3277, -0.1731, -0.7808],\n",
       "                         [ 0.4153, -1.1374,  0.7077,  0.0931],\n",
       "                         [ 0.8926, -0.4442,  1.1661,  1.9294]],\n",
       "                \n",
       "                        [[-0.4580,  0.3277, -0.1731, -0.7808],\n",
       "                         [ 0.4153, -1.1374,  0.7077,  0.0931],\n",
       "                         [ 0.8926, -0.4442,  1.1661,  1.9294]],\n",
       "                \n",
       "                        [[-0.4580,  0.3277, -0.1731, -0.7808],\n",
       "                         [ 0.4153, -1.1374,  0.7077,  0.0931],\n",
       "                         [ 0.8926, -0.4442,  1.1661,  1.9294]],\n",
       "                \n",
       "                        [[-0.4580,  0.3277, -0.1731, -0.7808],\n",
       "                         [ 0.4153, -1.1374,  0.7077,  0.0931],\n",
       "                         [ 0.8926, -0.4442,  1.1661,  1.9294]],\n",
       "                \n",
       "                        [[-0.4580,  0.3277, -0.1731, -0.7808],\n",
       "                         [ 0.4153, -1.1374,  0.7077,  0.0931],\n",
       "                         [ 0.8926, -0.4442,  1.1661,  1.9294]],\n",
       "                \n",
       "                        [[-0.4580,  0.3277, -0.1731, -0.7808],\n",
       "                         [ 0.4153, -1.1374,  0.7077,  0.0931],\n",
       "                         [ 0.8926, -0.4442,  1.1661,  1.9294]],\n",
       "                \n",
       "                        [[-0.4580,  0.3277, -0.1731, -0.7808],\n",
       "                         [ 0.4153, -1.1374,  0.7077,  0.0931],\n",
       "                         [ 0.8926, -0.4442,  1.1661,  1.9294]]])"
      ]
     },
     "execution_count": 20,
     "metadata": {},
     "output_type": "execute_result"
    }
   ],
   "source": [
    "t_stack = FastTreeValue.func(subside=True)(torch.stack)\n",
    "\n",
    "t_stack(trees)"
   ]
  },
  {
   "cell_type": "code",
   "execution_count": 21,
   "id": "f8b3f415",
   "metadata": {
    "execution": {
     "iopub.execute_input": "2023-02-25T07:42:51.023167Z",
     "iopub.status.busy": "2023-02-25T07:42:51.022835Z",
     "iopub.status.idle": "2023-02-25T07:42:53.696116Z",
     "shell.execute_reply": "2023-02-25T07:42:53.695367Z"
    }
   },
   "outputs": [
    {
     "name": "stdout",
     "output_type": "stream",
     "text": [
      "32.9 µs ± 54.5 ns per loop (mean ± std. dev. of 7 runs, 10,000 loops each)\n"
     ]
    }
   ],
   "source": [
    "%timeit t_stack(trees)"
   ]
  },
  {
   "cell_type": "code",
   "execution_count": 22,
   "id": "94b56771",
   "metadata": {
    "execution": {
     "iopub.execute_input": "2023-02-25T07:42:53.699649Z",
     "iopub.status.busy": "2023-02-25T07:42:53.698777Z",
     "iopub.status.idle": "2023-02-25T07:42:53.706960Z",
     "shell.execute_reply": "2023-02-25T07:42:53.706368Z"
    }
   },
   "outputs": [
    {
     "data": {
      "text/plain": [
       "<FastTreeValue 0x7fc00ff76be0>\n",
       "├── 'a' --> tensor([[ 1.6751,  0.4012, -0.0407],\n",
       "│                   [ 0.2470,  0.5189,  0.4012],\n",
       "│                   [ 1.6751,  0.4012, -0.0407],\n",
       "│                   [ 0.2470,  0.5189,  0.4012],\n",
       "│                   [ 1.6751,  0.4012, -0.0407],\n",
       "│                   [ 0.2470,  0.5189,  0.4012],\n",
       "│                   [ 1.6751,  0.4012, -0.0407],\n",
       "│                   [ 0.2470,  0.5189,  0.4012],\n",
       "│                   [ 1.6751,  0.4012, -0.0407],\n",
       "│                   [ 0.2470,  0.5189,  0.4012],\n",
       "│                   [ 1.6751,  0.4012, -0.0407],\n",
       "│                   [ 0.2470,  0.5189,  0.4012],\n",
       "│                   [ 1.6751,  0.4012, -0.0407],\n",
       "│                   [ 0.2470,  0.5189,  0.4012],\n",
       "│                   [ 1.6751,  0.4012, -0.0407],\n",
       "│                   [ 0.2470,  0.5189,  0.4012]])\n",
       "└── 'x' --> <FastTreeValue 0x7fbf8b6b41f0>\n",
       "    └── 'c' --> tensor([[-0.4580,  0.3277, -0.1731, -0.7808],\n",
       "                        [ 0.4153, -1.1374,  0.7077,  0.0931],\n",
       "                        [ 0.8926, -0.4442,  1.1661,  1.9294],\n",
       "                        [-0.4580,  0.3277, -0.1731, -0.7808],\n",
       "                        [ 0.4153, -1.1374,  0.7077,  0.0931],\n",
       "                        [ 0.8926, -0.4442,  1.1661,  1.9294],\n",
       "                        [-0.4580,  0.3277, -0.1731, -0.7808],\n",
       "                        [ 0.4153, -1.1374,  0.7077,  0.0931],\n",
       "                        [ 0.8926, -0.4442,  1.1661,  1.9294],\n",
       "                        [-0.4580,  0.3277, -0.1731, -0.7808],\n",
       "                        [ 0.4153, -1.1374,  0.7077,  0.0931],\n",
       "                        [ 0.8926, -0.4442,  1.1661,  1.9294],\n",
       "                        [-0.4580,  0.3277, -0.1731, -0.7808],\n",
       "                        [ 0.4153, -1.1374,  0.7077,  0.0931],\n",
       "                        [ 0.8926, -0.4442,  1.1661,  1.9294],\n",
       "                        [-0.4580,  0.3277, -0.1731, -0.7808],\n",
       "                        [ 0.4153, -1.1374,  0.7077,  0.0931],\n",
       "                        [ 0.8926, -0.4442,  1.1661,  1.9294],\n",
       "                        [-0.4580,  0.3277, -0.1731, -0.7808],\n",
       "                        [ 0.4153, -1.1374,  0.7077,  0.0931],\n",
       "                        [ 0.8926, -0.4442,  1.1661,  1.9294],\n",
       "                        [-0.4580,  0.3277, -0.1731, -0.7808],\n",
       "                        [ 0.4153, -1.1374,  0.7077,  0.0931],\n",
       "                        [ 0.8926, -0.4442,  1.1661,  1.9294]])"
      ]
     },
     "execution_count": 22,
     "metadata": {},
     "output_type": "execute_result"
    }
   ],
   "source": [
    "t_cat = FastTreeValue.func(subside=True)(torch.cat)\n",
    "\n",
    "t_cat(trees)"
   ]
  },
  {
   "cell_type": "code",
   "execution_count": 23,
   "id": "5e9c06a6",
   "metadata": {
    "execution": {
     "iopub.execute_input": "2023-02-25T07:42:53.709723Z",
     "iopub.status.busy": "2023-02-25T07:42:53.709136Z",
     "iopub.status.idle": "2023-02-25T07:42:56.214513Z",
     "shell.execute_reply": "2023-02-25T07:42:56.213769Z"
    }
   },
   "outputs": [
    {
     "name": "stdout",
     "output_type": "stream",
     "text": [
      "30.8 µs ± 62.6 ns per loop (mean ± std. dev. of 7 runs, 10,000 loops each)\n"
     ]
    }
   ],
   "source": [
    "%timeit t_cat(trees)"
   ]
  },
  {
   "cell_type": "code",
   "execution_count": 24,
   "id": "a3ab5c8f",
   "metadata": {
    "execution": {
     "iopub.execute_input": "2023-02-25T07:42:56.217435Z",
     "iopub.status.busy": "2023-02-25T07:42:56.216937Z",
     "iopub.status.idle": "2023-02-25T07:43:01.198115Z",
     "shell.execute_reply": "2023-02-25T07:43:01.197356Z"
    }
   },
   "outputs": [
    {
     "name": "stdout",
     "output_type": "stream",
     "text": [
      "61.2 µs ± 220 ns per loop (mean ± std. dev. of 7 runs, 10,000 loops each)\n"
     ]
    }
   ],
   "source": [
    "t_split = FastTreeValue.func(rise=True)(torch.split)\n",
    "tree = FastTreeValue({\n",
    "    'obs': torch.randn(8, 4, 84, 84),\n",
    "    'action': torch.randint(0, 6, size=(8, 1,)),\n",
    "    'reward': torch.rand(8, 1),\n",
    "})\n",
    "\n",
    "%timeit t_split(tree, 1)"
   ]
  },
  {
   "cell_type": "markdown",
   "id": "31c3ec0b",
   "metadata": {},
   "source": [
    "### Performance of Tianshou Batch"
   ]
  },
  {
   "cell_type": "code",
   "execution_count": 25,
   "id": "9ead828a",
   "metadata": {
    "execution": {
     "iopub.execute_input": "2023-02-25T07:43:01.201135Z",
     "iopub.status.busy": "2023-02-25T07:43:01.200464Z",
     "iopub.status.idle": "2023-02-25T07:43:01.208503Z",
     "shell.execute_reply": "2023-02-25T07:43:01.207924Z"
    }
   },
   "outputs": [
    {
     "data": {
      "text/plain": [
       "Batch(\n",
       "    a: tensor([[[ 1.6751,  0.4012, -0.0407],\n",
       "                [ 0.2470,  0.5189,  0.4012]],\n",
       "       \n",
       "               [[ 1.6751,  0.4012, -0.0407],\n",
       "                [ 0.2470,  0.5189,  0.4012]],\n",
       "       \n",
       "               [[ 1.6751,  0.4012, -0.0407],\n",
       "                [ 0.2470,  0.5189,  0.4012]],\n",
       "       \n",
       "               [[ 1.6751,  0.4012, -0.0407],\n",
       "                [ 0.2470,  0.5189,  0.4012]],\n",
       "       \n",
       "               [[ 1.6751,  0.4012, -0.0407],\n",
       "                [ 0.2470,  0.5189,  0.4012]],\n",
       "       \n",
       "               [[ 1.6751,  0.4012, -0.0407],\n",
       "                [ 0.2470,  0.5189,  0.4012]],\n",
       "       \n",
       "               [[ 1.6751,  0.4012, -0.0407],\n",
       "                [ 0.2470,  0.5189,  0.4012]],\n",
       "       \n",
       "               [[ 1.6751,  0.4012, -0.0407],\n",
       "                [ 0.2470,  0.5189,  0.4012]]]),\n",
       "    x: Batch(\n",
       "           c: tensor([[[-0.4580,  0.3277, -0.1731, -0.7808],\n",
       "                       [ 0.4153, -1.1374,  0.7077,  0.0931],\n",
       "                       [ 0.8926, -0.4442,  1.1661,  1.9294]],\n",
       "              \n",
       "                      [[-0.4580,  0.3277, -0.1731, -0.7808],\n",
       "                       [ 0.4153, -1.1374,  0.7077,  0.0931],\n",
       "                       [ 0.8926, -0.4442,  1.1661,  1.9294]],\n",
       "              \n",
       "                      [[-0.4580,  0.3277, -0.1731, -0.7808],\n",
       "                       [ 0.4153, -1.1374,  0.7077,  0.0931],\n",
       "                       [ 0.8926, -0.4442,  1.1661,  1.9294]],\n",
       "              \n",
       "                      [[-0.4580,  0.3277, -0.1731, -0.7808],\n",
       "                       [ 0.4153, -1.1374,  0.7077,  0.0931],\n",
       "                       [ 0.8926, -0.4442,  1.1661,  1.9294]],\n",
       "              \n",
       "                      [[-0.4580,  0.3277, -0.1731, -0.7808],\n",
       "                       [ 0.4153, -1.1374,  0.7077,  0.0931],\n",
       "                       [ 0.8926, -0.4442,  1.1661,  1.9294]],\n",
       "              \n",
       "                      [[-0.4580,  0.3277, -0.1731, -0.7808],\n",
       "                       [ 0.4153, -1.1374,  0.7077,  0.0931],\n",
       "                       [ 0.8926, -0.4442,  1.1661,  1.9294]],\n",
       "              \n",
       "                      [[-0.4580,  0.3277, -0.1731, -0.7808],\n",
       "                       [ 0.4153, -1.1374,  0.7077,  0.0931],\n",
       "                       [ 0.8926, -0.4442,  1.1661,  1.9294]],\n",
       "              \n",
       "                      [[-0.4580,  0.3277, -0.1731, -0.7808],\n",
       "                       [ 0.4153, -1.1374,  0.7077,  0.0931],\n",
       "                       [ 0.8926, -0.4442,  1.1661,  1.9294]]]),\n",
       "       ),\n",
       ")"
      ]
     },
     "execution_count": 25,
     "metadata": {},
     "output_type": "execute_result"
    }
   ],
   "source": [
    "batches = [Batch(**_TREE_DATA_2) for _ in range(8)]\n",
    "\n",
    "Batch.stack(batches)"
   ]
  },
  {
   "cell_type": "code",
   "execution_count": 26,
   "id": "ec9037a3",
   "metadata": {
    "execution": {
     "iopub.execute_input": "2023-02-25T07:43:01.211189Z",
     "iopub.status.busy": "2023-02-25T07:43:01.210857Z",
     "iopub.status.idle": "2023-02-25T07:43:07.687159Z",
     "shell.execute_reply": "2023-02-25T07:43:07.686379Z"
    }
   },
   "outputs": [
    {
     "name": "stdout",
     "output_type": "stream",
     "text": [
      "79.8 µs ± 95.6 ns per loop (mean ± std. dev. of 7 runs, 10,000 loops each)\n"
     ]
    }
   ],
   "source": [
    "%timeit Batch.stack(batches)"
   ]
  },
  {
   "cell_type": "code",
   "execution_count": 27,
   "id": "cb8ab77e",
   "metadata": {
    "execution": {
     "iopub.execute_input": "2023-02-25T07:43:07.690104Z",
     "iopub.status.busy": "2023-02-25T07:43:07.689554Z",
     "iopub.status.idle": "2023-02-25T07:43:07.697060Z",
     "shell.execute_reply": "2023-02-25T07:43:07.696464Z"
    }
   },
   "outputs": [
    {
     "data": {
      "text/plain": [
       "Batch(\n",
       "    a: tensor([[ 1.6751,  0.4012, -0.0407],\n",
       "               [ 0.2470,  0.5189,  0.4012],\n",
       "               [ 1.6751,  0.4012, -0.0407],\n",
       "               [ 0.2470,  0.5189,  0.4012],\n",
       "               [ 1.6751,  0.4012, -0.0407],\n",
       "               [ 0.2470,  0.5189,  0.4012],\n",
       "               [ 1.6751,  0.4012, -0.0407],\n",
       "               [ 0.2470,  0.5189,  0.4012],\n",
       "               [ 1.6751,  0.4012, -0.0407],\n",
       "               [ 0.2470,  0.5189,  0.4012],\n",
       "               [ 1.6751,  0.4012, -0.0407],\n",
       "               [ 0.2470,  0.5189,  0.4012],\n",
       "               [ 1.6751,  0.4012, -0.0407],\n",
       "               [ 0.2470,  0.5189,  0.4012],\n",
       "               [ 1.6751,  0.4012, -0.0407],\n",
       "               [ 0.2470,  0.5189,  0.4012]]),\n",
       "    x: Batch(\n",
       "           c: tensor([[-0.4580,  0.3277, -0.1731, -0.7808],\n",
       "                      [ 0.4153, -1.1374,  0.7077,  0.0931],\n",
       "                      [ 0.8926, -0.4442,  1.1661,  1.9294],\n",
       "                      [-0.4580,  0.3277, -0.1731, -0.7808],\n",
       "                      [ 0.4153, -1.1374,  0.7077,  0.0931],\n",
       "                      [ 0.8926, -0.4442,  1.1661,  1.9294],\n",
       "                      [-0.4580,  0.3277, -0.1731, -0.7808],\n",
       "                      [ 0.4153, -1.1374,  0.7077,  0.0931],\n",
       "                      [ 0.8926, -0.4442,  1.1661,  1.9294],\n",
       "                      [-0.4580,  0.3277, -0.1731, -0.7808],\n",
       "                      [ 0.4153, -1.1374,  0.7077,  0.0931],\n",
       "                      [ 0.8926, -0.4442,  1.1661,  1.9294],\n",
       "                      [-0.4580,  0.3277, -0.1731, -0.7808],\n",
       "                      [ 0.4153, -1.1374,  0.7077,  0.0931],\n",
       "                      [ 0.8926, -0.4442,  1.1661,  1.9294],\n",
       "                      [-0.4580,  0.3277, -0.1731, -0.7808],\n",
       "                      [ 0.4153, -1.1374,  0.7077,  0.0931],\n",
       "                      [ 0.8926, -0.4442,  1.1661,  1.9294],\n",
       "                      [-0.4580,  0.3277, -0.1731, -0.7808],\n",
       "                      [ 0.4153, -1.1374,  0.7077,  0.0931],\n",
       "                      [ 0.8926, -0.4442,  1.1661,  1.9294],\n",
       "                      [-0.4580,  0.3277, -0.1731, -0.7808],\n",
       "                      [ 0.4153, -1.1374,  0.7077,  0.0931],\n",
       "                      [ 0.8926, -0.4442,  1.1661,  1.9294]]),\n",
       "       ),\n",
       ")"
      ]
     },
     "execution_count": 27,
     "metadata": {},
     "output_type": "execute_result"
    }
   ],
   "source": [
    "Batch.cat(batches)"
   ]
  },
  {
   "cell_type": "code",
   "execution_count": 28,
   "id": "18dfb045",
   "metadata": {
    "execution": {
     "iopub.execute_input": "2023-02-25T07:43:07.699536Z",
     "iopub.status.busy": "2023-02-25T07:43:07.699175Z",
     "iopub.status.idle": "2023-02-25T07:43:19.262818Z",
     "shell.execute_reply": "2023-02-25T07:43:19.262081Z"
    }
   },
   "outputs": [
    {
     "name": "stdout",
     "output_type": "stream",
     "text": [
      "142 µs ± 223 ns per loop (mean ± std. dev. of 7 runs, 10,000 loops each)\n"
     ]
    }
   ],
   "source": [
    "%timeit Batch.cat(batches)"
   ]
  },
  {
   "cell_type": "code",
   "execution_count": 29,
   "id": "c6688e51",
   "metadata": {
    "execution": {
     "iopub.execute_input": "2023-02-25T07:43:19.265876Z",
     "iopub.status.busy": "2023-02-25T07:43:19.265513Z",
     "iopub.status.idle": "2023-02-25T07:43:21.780609Z",
     "shell.execute_reply": "2023-02-25T07:43:21.779920Z"
    }
   },
   "outputs": [
    {
     "name": "stdout",
     "output_type": "stream",
     "text": [
      "309 µs ± 6.09 µs per loop (mean ± std. dev. of 7 runs, 1,000 loops each)\n"
     ]
    }
   ],
   "source": [
    "batch = Batch({\n",
    "    'obs': torch.randn(8, 4, 84, 84),\n",
    "    'action': torch.randint(0, 6, size=(8, 1,)),\n",
    "    'reward': torch.rand(8, 1)}\n",
    ")\n",
    "\n",
    "%timeit list(Batch.split(batch, 1, shuffle=False, merge_last=True))"
   ]
  },
  {
   "cell_type": "code",
   "execution_count": null,
   "id": "2539fbd9",
   "metadata": {},
   "outputs": [],
   "source": []
  }
 ],
 "metadata": {
  "kernelspec": {
   "display_name": "Python 3 (ipykernel)",
   "language": "python",
   "name": "python3"
  },
  "language_info": {
   "codemirror_mode": {
    "name": "ipython",
    "version": 3
   },
   "file_extension": ".py",
   "mimetype": "text/x-python",
   "name": "python",
   "nbconvert_exporter": "python",
   "pygments_lexer": "ipython3",
   "version": "3.8.16"
  }
 },
 "nbformat": 4,
 "nbformat_minor": 5
}
