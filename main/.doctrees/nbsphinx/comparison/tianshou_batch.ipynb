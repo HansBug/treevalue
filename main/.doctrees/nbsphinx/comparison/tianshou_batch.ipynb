{
 "cells": [
  {
   "cell_type": "markdown",
   "id": "9d39d946",
   "metadata": {},
   "source": [
    "# Comparison Between TreeValue and Tianshou Batch"
   ]
  },
  {
   "cell_type": "markdown",
   "id": "3c6db2d4",
   "metadata": {},
   "source": [
    "In this section, we will take a look at the feature and performance of the [Tianshou Batch](https://github.com/thu-ml/tianshou) library, which is developed by Tsinghua Machine Learning Group."
   ]
  },
  {
   "cell_type": "markdown",
   "id": "069361b0",
   "metadata": {},
   "source": [
    "Before starting the comparison, let us define some thing."
   ]
  },
  {
   "cell_type": "code",
   "execution_count": 1,
   "id": "06fc8d26",
   "metadata": {
    "execution": {
     "iopub.execute_input": "2023-02-23T09:38:29.714171Z",
     "iopub.status.busy": "2023-02-23T09:38:29.713893Z",
     "iopub.status.idle": "2023-02-23T09:38:30.731460Z",
     "shell.execute_reply": "2023-02-23T09:38:30.730658Z"
    }
   },
   "outputs": [
    {
     "name": "stderr",
     "output_type": "stream",
     "text": [
      "/opt/hostedtoolcache/Python/3.8.16/x64/lib/python3.8/site-packages/tqdm/auto.py:22: TqdmWarning: IProgress not found. Please update jupyter and ipywidgets. See https://ipywidgets.readthedocs.io/en/stable/user_install.html\n",
      "  from .autonotebook import tqdm as notebook_tqdm\n"
     ]
    }
   ],
   "source": [
    "import torch \n",
    "\n",
    "_TREE_DATA_1 = {'a': 1, 'b': 2, 'x': {'c': 3, 'd': 4}}\n",
    "_TREE_DATA_2 = {\n",
    "    'a': torch.randn(2, 3), \n",
    "    'x': {\n",
    "        'c': torch.randn(3, 4)\n",
    "    },\n",
    "}\n",
    "_TREE_DATA_3 = {\n",
    "    'obs': torch.randn(4, 84, 84),\n",
    "    'action': torch.randint(0, 6, size=(1,)),\n",
    "    'reward': torch.rand(1),\n",
    "}"
   ]
  },
  {
   "cell_type": "markdown",
   "id": "83461b25",
   "metadata": {},
   "source": [
    "## Read and Write Operation"
   ]
  },
  {
   "cell_type": "markdown",
   "id": "067b3f73",
   "metadata": {},
   "source": [
    "Reading and writing are the two most common operations in the tree data structure based on the data model (TreeValue and Tianshou Batch both belong to this type), so this section will compare the reading and writing performance of these two libraries."
   ]
  },
  {
   "cell_type": "markdown",
   "id": "5d09a5b7",
   "metadata": {},
   "source": [
    "### TreeValue's Get and Set"
   ]
  },
  {
   "cell_type": "code",
   "execution_count": 2,
   "id": "9519c4bb",
   "metadata": {
    "execution": {
     "iopub.execute_input": "2023-02-23T09:38:30.735645Z",
     "iopub.status.busy": "2023-02-23T09:38:30.735179Z",
     "iopub.status.idle": "2023-02-23T09:38:30.769985Z",
     "shell.execute_reply": "2023-02-23T09:38:30.769304Z"
    }
   },
   "outputs": [],
   "source": [
    "from treevalue import FastTreeValue\n",
    "\n",
    "t = FastTreeValue(_TREE_DATA_2)"
   ]
  },
  {
   "cell_type": "code",
   "execution_count": 3,
   "id": "11c37677",
   "metadata": {
    "execution": {
     "iopub.execute_input": "2023-02-23T09:38:30.773181Z",
     "iopub.status.busy": "2023-02-23T09:38:30.772933Z",
     "iopub.status.idle": "2023-02-23T09:38:30.782689Z",
     "shell.execute_reply": "2023-02-23T09:38:30.782061Z"
    }
   },
   "outputs": [
    {
     "data": {
      "text/plain": [
       "<FastTreeValue 0x7f83242d97c0>\n",
       "├── 'a' --> tensor([[-0.5430, -0.6403, -0.5916],\n",
       "│                   [-2.4478,  0.4527,  0.6533]])\n",
       "└── 'x' --> <FastTreeValue 0x7f83242d9c10>\n",
       "    └── 'c' --> tensor([[ 1.4952,  0.2560, -1.1297, -0.9023],\n",
       "                        [ 2.2990, -0.4911, -0.6080,  0.4507],\n",
       "                        [ 0.4259, -0.9293,  1.5505,  0.9967]])"
      ]
     },
     "execution_count": 3,
     "metadata": {},
     "output_type": "execute_result"
    }
   ],
   "source": [
    "t"
   ]
  },
  {
   "cell_type": "code",
   "execution_count": 4,
   "id": "fd70b0b9",
   "metadata": {
    "execution": {
     "iopub.execute_input": "2023-02-23T09:38:30.785984Z",
     "iopub.status.busy": "2023-02-23T09:38:30.785528Z",
     "iopub.status.idle": "2023-02-23T09:38:30.790903Z",
     "shell.execute_reply": "2023-02-23T09:38:30.789887Z"
    }
   },
   "outputs": [
    {
     "data": {
      "text/plain": [
       "tensor([[-0.5430, -0.6403, -0.5916],\n",
       "        [-2.4478,  0.4527,  0.6533]])"
      ]
     },
     "execution_count": 4,
     "metadata": {},
     "output_type": "execute_result"
    }
   ],
   "source": [
    "t.a"
   ]
  },
  {
   "cell_type": "code",
   "execution_count": 5,
   "id": "c18197bd",
   "metadata": {
    "execution": {
     "iopub.execute_input": "2023-02-23T09:38:30.793754Z",
     "iopub.status.busy": "2023-02-23T09:38:30.793323Z",
     "iopub.status.idle": "2023-02-23T09:38:36.085557Z",
     "shell.execute_reply": "2023-02-23T09:38:36.084703Z"
    }
   },
   "outputs": [
    {
     "name": "stdout",
     "output_type": "stream",
     "text": [
      "65.1 ns ± 0.0565 ns per loop (mean ± std. dev. of 7 runs, 10,000,000 loops each)\n"
     ]
    }
   ],
   "source": [
    "%timeit t.a"
   ]
  },
  {
   "cell_type": "code",
   "execution_count": 6,
   "id": "bd52f867",
   "metadata": {
    "execution": {
     "iopub.execute_input": "2023-02-23T09:38:36.089315Z",
     "iopub.status.busy": "2023-02-23T09:38:36.088730Z",
     "iopub.status.idle": "2023-02-23T09:38:36.096098Z",
     "shell.execute_reply": "2023-02-23T09:38:36.095387Z"
    }
   },
   "outputs": [
    {
     "data": {
      "text/plain": [
       "<FastTreeValue 0x7f83242d97c0>\n",
       "├── 'a' --> tensor([[ 1.1717, -1.0576,  0.5091],\n",
       "│                   [-1.1598,  2.0621, -1.5083]])\n",
       "└── 'x' --> <FastTreeValue 0x7f83242d9c10>\n",
       "    └── 'c' --> tensor([[ 1.4952,  0.2560, -1.1297, -0.9023],\n",
       "                        [ 2.2990, -0.4911, -0.6080,  0.4507],\n",
       "                        [ 0.4259, -0.9293,  1.5505,  0.9967]])"
      ]
     },
     "execution_count": 6,
     "metadata": {},
     "output_type": "execute_result"
    }
   ],
   "source": [
    "new_value = torch.randn(2, 3)\n",
    "t.a = new_value\n",
    "\n",
    "t"
   ]
  },
  {
   "cell_type": "code",
   "execution_count": 7,
   "id": "bbe04d1c",
   "metadata": {
    "execution": {
     "iopub.execute_input": "2023-02-23T09:38:36.098964Z",
     "iopub.status.busy": "2023-02-23T09:38:36.098489Z",
     "iopub.status.idle": "2023-02-23T09:38:41.637970Z",
     "shell.execute_reply": "2023-02-23T09:38:41.637084Z"
    }
   },
   "outputs": [
    {
     "name": "stdout",
     "output_type": "stream",
     "text": [
      "68.2 ns ± 0.0715 ns per loop (mean ± std. dev. of 7 runs, 10,000,000 loops each)\n"
     ]
    }
   ],
   "source": [
    "%timeit t.a = new_value"
   ]
  },
  {
   "cell_type": "markdown",
   "id": "48c49731",
   "metadata": {},
   "source": [
    "### Tianshou Batch's Get and Set"
   ]
  },
  {
   "cell_type": "code",
   "execution_count": 8,
   "id": "f1bb14c1",
   "metadata": {
    "execution": {
     "iopub.execute_input": "2023-02-23T09:38:41.641728Z",
     "iopub.status.busy": "2023-02-23T09:38:41.641102Z",
     "iopub.status.idle": "2023-02-23T09:38:42.020544Z",
     "shell.execute_reply": "2023-02-23T09:38:42.019787Z"
    }
   },
   "outputs": [],
   "source": [
    "from tianshou.data import Batch\n",
    "\n",
    "b = Batch(**_TREE_DATA_2)"
   ]
  },
  {
   "cell_type": "code",
   "execution_count": 9,
   "id": "cb0777c3",
   "metadata": {
    "execution": {
     "iopub.execute_input": "2023-02-23T09:38:42.024512Z",
     "iopub.status.busy": "2023-02-23T09:38:42.023894Z",
     "iopub.status.idle": "2023-02-23T09:38:42.031485Z",
     "shell.execute_reply": "2023-02-23T09:38:42.029215Z"
    }
   },
   "outputs": [
    {
     "data": {
      "text/plain": [
       "Batch(\n",
       "    a: tensor([[-0.5430, -0.6403, -0.5916],\n",
       "               [-2.4478,  0.4527,  0.6533]]),\n",
       "    x: Batch(\n",
       "           c: tensor([[ 1.4952,  0.2560, -1.1297, -0.9023],\n",
       "                      [ 2.2990, -0.4911, -0.6080,  0.4507],\n",
       "                      [ 0.4259, -0.9293,  1.5505,  0.9967]]),\n",
       "       ),\n",
       ")"
      ]
     },
     "execution_count": 9,
     "metadata": {},
     "output_type": "execute_result"
    }
   ],
   "source": [
    "b"
   ]
  },
  {
   "cell_type": "code",
   "execution_count": 10,
   "id": "43ef8ea3",
   "metadata": {
    "execution": {
     "iopub.execute_input": "2023-02-23T09:38:42.037476Z",
     "iopub.status.busy": "2023-02-23T09:38:42.037241Z",
     "iopub.status.idle": "2023-02-23T09:38:42.042466Z",
     "shell.execute_reply": "2023-02-23T09:38:42.041708Z"
    }
   },
   "outputs": [
    {
     "data": {
      "text/plain": [
       "tensor([[-0.5430, -0.6403, -0.5916],\n",
       "        [-2.4478,  0.4527,  0.6533]])"
      ]
     },
     "execution_count": 10,
     "metadata": {},
     "output_type": "execute_result"
    }
   ],
   "source": [
    "b.a"
   ]
  },
  {
   "cell_type": "code",
   "execution_count": 11,
   "id": "b785ab72",
   "metadata": {
    "execution": {
     "iopub.execute_input": "2023-02-23T09:38:42.045294Z",
     "iopub.status.busy": "2023-02-23T09:38:42.044825Z",
     "iopub.status.idle": "2023-02-23T09:38:46.774796Z",
     "shell.execute_reply": "2023-02-23T09:38:46.773776Z"
    }
   },
   "outputs": [
    {
     "name": "stdout",
     "output_type": "stream",
     "text": [
      "58.2 ns ± 0.114 ns per loop (mean ± std. dev. of 7 runs, 10,000,000 loops each)\n"
     ]
    }
   ],
   "source": [
    "%timeit b.a"
   ]
  },
  {
   "cell_type": "code",
   "execution_count": 12,
   "id": "ad54dc69",
   "metadata": {
    "execution": {
     "iopub.execute_input": "2023-02-23T09:38:46.778069Z",
     "iopub.status.busy": "2023-02-23T09:38:46.777668Z",
     "iopub.status.idle": "2023-02-23T09:38:46.784154Z",
     "shell.execute_reply": "2023-02-23T09:38:46.783451Z"
    }
   },
   "outputs": [
    {
     "data": {
      "text/plain": [
       "Batch(\n",
       "    a: tensor([[ 0.5860,  0.2403,  0.4302],\n",
       "               [-3.4232, -1.6079,  0.3069]]),\n",
       "    x: Batch(\n",
       "           c: tensor([[ 1.4952,  0.2560, -1.1297, -0.9023],\n",
       "                      [ 2.2990, -0.4911, -0.6080,  0.4507],\n",
       "                      [ 0.4259, -0.9293,  1.5505,  0.9967]]),\n",
       "       ),\n",
       ")"
      ]
     },
     "execution_count": 12,
     "metadata": {},
     "output_type": "execute_result"
    }
   ],
   "source": [
    "new_value = torch.randn(2, 3)\n",
    "b.a = new_value\n",
    "\n",
    "b"
   ]
  },
  {
   "cell_type": "code",
   "execution_count": 13,
   "id": "29b1d0bf",
   "metadata": {
    "execution": {
     "iopub.execute_input": "2023-02-23T09:38:46.786954Z",
     "iopub.status.busy": "2023-02-23T09:38:46.786552Z",
     "iopub.status.idle": "2023-02-23T09:38:50.798392Z",
     "shell.execute_reply": "2023-02-23T09:38:50.797530Z"
    }
   },
   "outputs": [
    {
     "name": "stdout",
     "output_type": "stream",
     "text": [
      "493 ns ± 0.206 ns per loop (mean ± std. dev. of 7 runs, 1,000,000 loops each)\n"
     ]
    }
   ],
   "source": [
    "%timeit b.a = new_value"
   ]
  },
  {
   "cell_type": "markdown",
   "id": "b61ad1d0",
   "metadata": {},
   "source": [
    "## Initialization"
   ]
  },
  {
   "cell_type": "markdown",
   "id": "d70f0d54",
   "metadata": {},
   "source": [
    "### TreeValue's Initialization"
   ]
  },
  {
   "cell_type": "code",
   "execution_count": 14,
   "id": "d32a679b",
   "metadata": {
    "execution": {
     "iopub.execute_input": "2023-02-23T09:38:50.802168Z",
     "iopub.status.busy": "2023-02-23T09:38:50.801553Z",
     "iopub.status.idle": "2023-02-23T09:38:57.474819Z",
     "shell.execute_reply": "2023-02-23T09:38:57.473926Z"
    }
   },
   "outputs": [
    {
     "name": "stdout",
     "output_type": "stream",
     "text": [
      "818 ns ± 0.259 ns per loop (mean ± std. dev. of 7 runs, 1,000,000 loops each)\n"
     ]
    }
   ],
   "source": [
    "%timeit FastTreeValue(_TREE_DATA_1)"
   ]
  },
  {
   "cell_type": "markdown",
   "id": "24f3707b",
   "metadata": {},
   "source": [
    "### Tianshou Batch's Initialization"
   ]
  },
  {
   "cell_type": "code",
   "execution_count": 15,
   "id": "ac3958df",
   "metadata": {
    "execution": {
     "iopub.execute_input": "2023-02-23T09:38:57.478514Z",
     "iopub.status.busy": "2023-02-23T09:38:57.477909Z",
     "iopub.status.idle": "2023-02-23T09:39:06.297400Z",
     "shell.execute_reply": "2023-02-23T09:39:06.296388Z"
    }
   },
   "outputs": [
    {
     "name": "stdout",
     "output_type": "stream",
     "text": [
      "10.9 µs ± 40.1 ns per loop (mean ± std. dev. of 7 runs, 100,000 loops each)\n"
     ]
    }
   ],
   "source": [
    "%timeit Batch(**_TREE_DATA_1)"
   ]
  },
  {
   "cell_type": "markdown",
   "id": "1ab82e2d",
   "metadata": {},
   "source": [
    "## Deep Copy Operation"
   ]
  },
  {
   "cell_type": "code",
   "execution_count": 16,
   "id": "210a9442",
   "metadata": {
    "execution": {
     "iopub.execute_input": "2023-02-23T09:39:06.300940Z",
     "iopub.status.busy": "2023-02-23T09:39:06.300499Z",
     "iopub.status.idle": "2023-02-23T09:39:06.304653Z",
     "shell.execute_reply": "2023-02-23T09:39:06.304002Z"
    }
   },
   "outputs": [],
   "source": [
    "import copy"
   ]
  },
  {
   "cell_type": "markdown",
   "id": "5a736274",
   "metadata": {},
   "source": [
    "### Deep Copy of TreeValue"
   ]
  },
  {
   "cell_type": "code",
   "execution_count": 17,
   "id": "f9bcadd6",
   "metadata": {
    "execution": {
     "iopub.execute_input": "2023-02-23T09:39:06.308435Z",
     "iopub.status.busy": "2023-02-23T09:39:06.307299Z",
     "iopub.status.idle": "2023-02-23T09:39:18.324379Z",
     "shell.execute_reply": "2023-02-23T09:39:18.323664Z"
    }
   },
   "outputs": [
    {
     "name": "stdout",
     "output_type": "stream",
     "text": [
      "148 µs ± 512 ns per loop (mean ± std. dev. of 7 runs, 10,000 loops each)\n"
     ]
    }
   ],
   "source": [
    "t3 = FastTreeValue(_TREE_DATA_3)\n",
    "%timeit copy.deepcopy(t3)"
   ]
  },
  {
   "cell_type": "markdown",
   "id": "bf8be7ea",
   "metadata": {},
   "source": [
    "### Deep Copy of Tianshou Batch"
   ]
  },
  {
   "cell_type": "code",
   "execution_count": 18,
   "id": "91998e6f",
   "metadata": {
    "execution": {
     "iopub.execute_input": "2023-02-23T09:39:18.327694Z",
     "iopub.status.busy": "2023-02-23T09:39:18.327148Z",
     "iopub.status.idle": "2023-02-23T09:39:30.189677Z",
     "shell.execute_reply": "2023-02-23T09:39:30.189038Z"
    }
   },
   "outputs": [
    {
     "name": "stdout",
     "output_type": "stream",
     "text": [
      "146 µs ± 522 ns per loop (mean ± std. dev. of 7 runs, 10,000 loops each)\n"
     ]
    }
   ],
   "source": [
    "b3 = Batch(**_TREE_DATA_3)\n",
    "%timeit copy.deepcopy(b3)"
   ]
  },
  {
   "cell_type": "markdown",
   "id": "223162fb",
   "metadata": {},
   "source": [
    "## Stack, Concat and Split Operation"
   ]
  },
  {
   "cell_type": "markdown",
   "id": "85fa4a73",
   "metadata": {},
   "source": [
    "### Performance of TreeValue"
   ]
  },
  {
   "cell_type": "code",
   "execution_count": 19,
   "id": "a0c2b697",
   "metadata": {
    "execution": {
     "iopub.execute_input": "2023-02-23T09:39:30.192812Z",
     "iopub.status.busy": "2023-02-23T09:39:30.192365Z",
     "iopub.status.idle": "2023-02-23T09:39:30.196129Z",
     "shell.execute_reply": "2023-02-23T09:39:30.195557Z"
    }
   },
   "outputs": [],
   "source": [
    "trees = [FastTreeValue(_TREE_DATA_2) for _ in range(8)]"
   ]
  },
  {
   "cell_type": "code",
   "execution_count": 20,
   "id": "017ea5a5",
   "metadata": {
    "execution": {
     "iopub.execute_input": "2023-02-23T09:39:30.198792Z",
     "iopub.status.busy": "2023-02-23T09:39:30.198169Z",
     "iopub.status.idle": "2023-02-23T09:39:30.205466Z",
     "shell.execute_reply": "2023-02-23T09:39:30.204916Z"
    }
   },
   "outputs": [
    {
     "data": {
      "text/plain": [
       "<FastTreeValue 0x7f8277f947c0>\n",
       "├── 'a' --> tensor([[[-0.5430, -0.6403, -0.5916],\n",
       "│                    [-2.4478,  0.4527,  0.6533]],\n",
       "│           \n",
       "│                   [[-0.5430, -0.6403, -0.5916],\n",
       "│                    [-2.4478,  0.4527,  0.6533]],\n",
       "│           \n",
       "│                   [[-0.5430, -0.6403, -0.5916],\n",
       "│                    [-2.4478,  0.4527,  0.6533]],\n",
       "│           \n",
       "│                   [[-0.5430, -0.6403, -0.5916],\n",
       "│                    [-2.4478,  0.4527,  0.6533]],\n",
       "│           \n",
       "│                   [[-0.5430, -0.6403, -0.5916],\n",
       "│                    [-2.4478,  0.4527,  0.6533]],\n",
       "│           \n",
       "│                   [[-0.5430, -0.6403, -0.5916],\n",
       "│                    [-2.4478,  0.4527,  0.6533]],\n",
       "│           \n",
       "│                   [[-0.5430, -0.6403, -0.5916],\n",
       "│                    [-2.4478,  0.4527,  0.6533]],\n",
       "│           \n",
       "│                   [[-0.5430, -0.6403, -0.5916],\n",
       "│                    [-2.4478,  0.4527,  0.6533]]])\n",
       "└── 'x' --> <FastTreeValue 0x7f8277f94340>\n",
       "    └── 'c' --> tensor([[[ 1.4952,  0.2560, -1.1297, -0.9023],\n",
       "                         [ 2.2990, -0.4911, -0.6080,  0.4507],\n",
       "                         [ 0.4259, -0.9293,  1.5505,  0.9967]],\n",
       "                \n",
       "                        [[ 1.4952,  0.2560, -1.1297, -0.9023],\n",
       "                         [ 2.2990, -0.4911, -0.6080,  0.4507],\n",
       "                         [ 0.4259, -0.9293,  1.5505,  0.9967]],\n",
       "                \n",
       "                        [[ 1.4952,  0.2560, -1.1297, -0.9023],\n",
       "                         [ 2.2990, -0.4911, -0.6080,  0.4507],\n",
       "                         [ 0.4259, -0.9293,  1.5505,  0.9967]],\n",
       "                \n",
       "                        [[ 1.4952,  0.2560, -1.1297, -0.9023],\n",
       "                         [ 2.2990, -0.4911, -0.6080,  0.4507],\n",
       "                         [ 0.4259, -0.9293,  1.5505,  0.9967]],\n",
       "                \n",
       "                        [[ 1.4952,  0.2560, -1.1297, -0.9023],\n",
       "                         [ 2.2990, -0.4911, -0.6080,  0.4507],\n",
       "                         [ 0.4259, -0.9293,  1.5505,  0.9967]],\n",
       "                \n",
       "                        [[ 1.4952,  0.2560, -1.1297, -0.9023],\n",
       "                         [ 2.2990, -0.4911, -0.6080,  0.4507],\n",
       "                         [ 0.4259, -0.9293,  1.5505,  0.9967]],\n",
       "                \n",
       "                        [[ 1.4952,  0.2560, -1.1297, -0.9023],\n",
       "                         [ 2.2990, -0.4911, -0.6080,  0.4507],\n",
       "                         [ 0.4259, -0.9293,  1.5505,  0.9967]],\n",
       "                \n",
       "                        [[ 1.4952,  0.2560, -1.1297, -0.9023],\n",
       "                         [ 2.2990, -0.4911, -0.6080,  0.4507],\n",
       "                         [ 0.4259, -0.9293,  1.5505,  0.9967]]])"
      ]
     },
     "execution_count": 20,
     "metadata": {},
     "output_type": "execute_result"
    }
   ],
   "source": [
    "t_stack = FastTreeValue.func(subside=True)(torch.stack)\n",
    "\n",
    "t_stack(trees)"
   ]
  },
  {
   "cell_type": "code",
   "execution_count": 21,
   "id": "f8b3f415",
   "metadata": {
    "execution": {
     "iopub.execute_input": "2023-02-23T09:39:30.208065Z",
     "iopub.status.busy": "2023-02-23T09:39:30.207420Z",
     "iopub.status.idle": "2023-02-23T09:39:32.759722Z",
     "shell.execute_reply": "2023-02-23T09:39:32.758841Z"
    }
   },
   "outputs": [
    {
     "name": "stdout",
     "output_type": "stream",
     "text": [
      "31.4 µs ± 91.6 ns per loop (mean ± std. dev. of 7 runs, 10,000 loops each)\n"
     ]
    }
   ],
   "source": [
    "%timeit t_stack(trees)"
   ]
  },
  {
   "cell_type": "code",
   "execution_count": 22,
   "id": "94b56771",
   "metadata": {
    "execution": {
     "iopub.execute_input": "2023-02-23T09:39:32.763360Z",
     "iopub.status.busy": "2023-02-23T09:39:32.762780Z",
     "iopub.status.idle": "2023-02-23T09:39:32.772206Z",
     "shell.execute_reply": "2023-02-23T09:39:32.771491Z"
    }
   },
   "outputs": [
    {
     "data": {
      "text/plain": [
       "<FastTreeValue 0x7f82785cb940>\n",
       "├── 'a' --> tensor([[-0.5430, -0.6403, -0.5916],\n",
       "│                   [-2.4478,  0.4527,  0.6533],\n",
       "│                   [-0.5430, -0.6403, -0.5916],\n",
       "│                   [-2.4478,  0.4527,  0.6533],\n",
       "│                   [-0.5430, -0.6403, -0.5916],\n",
       "│                   [-2.4478,  0.4527,  0.6533],\n",
       "│                   [-0.5430, -0.6403, -0.5916],\n",
       "│                   [-2.4478,  0.4527,  0.6533],\n",
       "│                   [-0.5430, -0.6403, -0.5916],\n",
       "│                   [-2.4478,  0.4527,  0.6533],\n",
       "│                   [-0.5430, -0.6403, -0.5916],\n",
       "│                   [-2.4478,  0.4527,  0.6533],\n",
       "│                   [-0.5430, -0.6403, -0.5916],\n",
       "│                   [-2.4478,  0.4527,  0.6533],\n",
       "│                   [-0.5430, -0.6403, -0.5916],\n",
       "│                   [-2.4478,  0.4527,  0.6533]])\n",
       "└── 'x' --> <FastTreeValue 0x7f8277fb2f40>\n",
       "    └── 'c' --> tensor([[ 1.4952,  0.2560, -1.1297, -0.9023],\n",
       "                        [ 2.2990, -0.4911, -0.6080,  0.4507],\n",
       "                        [ 0.4259, -0.9293,  1.5505,  0.9967],\n",
       "                        [ 1.4952,  0.2560, -1.1297, -0.9023],\n",
       "                        [ 2.2990, -0.4911, -0.6080,  0.4507],\n",
       "                        [ 0.4259, -0.9293,  1.5505,  0.9967],\n",
       "                        [ 1.4952,  0.2560, -1.1297, -0.9023],\n",
       "                        [ 2.2990, -0.4911, -0.6080,  0.4507],\n",
       "                        [ 0.4259, -0.9293,  1.5505,  0.9967],\n",
       "                        [ 1.4952,  0.2560, -1.1297, -0.9023],\n",
       "                        [ 2.2990, -0.4911, -0.6080,  0.4507],\n",
       "                        [ 0.4259, -0.9293,  1.5505,  0.9967],\n",
       "                        [ 1.4952,  0.2560, -1.1297, -0.9023],\n",
       "                        [ 2.2990, -0.4911, -0.6080,  0.4507],\n",
       "                        [ 0.4259, -0.9293,  1.5505,  0.9967],\n",
       "                        [ 1.4952,  0.2560, -1.1297, -0.9023],\n",
       "                        [ 2.2990, -0.4911, -0.6080,  0.4507],\n",
       "                        [ 0.4259, -0.9293,  1.5505,  0.9967],\n",
       "                        [ 1.4952,  0.2560, -1.1297, -0.9023],\n",
       "                        [ 2.2990, -0.4911, -0.6080,  0.4507],\n",
       "                        [ 0.4259, -0.9293,  1.5505,  0.9967],\n",
       "                        [ 1.4952,  0.2560, -1.1297, -0.9023],\n",
       "                        [ 2.2990, -0.4911, -0.6080,  0.4507],\n",
       "                        [ 0.4259, -0.9293,  1.5505,  0.9967]])"
      ]
     },
     "execution_count": 22,
     "metadata": {},
     "output_type": "execute_result"
    }
   ],
   "source": [
    "t_cat = FastTreeValue.func(subside=True)(torch.cat)\n",
    "\n",
    "t_cat(trees)"
   ]
  },
  {
   "cell_type": "code",
   "execution_count": 23,
   "id": "5e9c06a6",
   "metadata": {
    "execution": {
     "iopub.execute_input": "2023-02-23T09:39:32.775058Z",
     "iopub.status.busy": "2023-02-23T09:39:32.774692Z",
     "iopub.status.idle": "2023-02-23T09:39:35.222918Z",
     "shell.execute_reply": "2023-02-23T09:39:35.221738Z"
    }
   },
   "outputs": [
    {
     "name": "stdout",
     "output_type": "stream",
     "text": [
      "30.1 µs ± 78.7 ns per loop (mean ± std. dev. of 7 runs, 10,000 loops each)\n"
     ]
    }
   ],
   "source": [
    "%timeit t_cat(trees)"
   ]
  },
  {
   "cell_type": "code",
   "execution_count": 24,
   "id": "a3ab5c8f",
   "metadata": {
    "execution": {
     "iopub.execute_input": "2023-02-23T09:39:35.226253Z",
     "iopub.status.busy": "2023-02-23T09:39:35.225980Z",
     "iopub.status.idle": "2023-02-23T09:39:39.899174Z",
     "shell.execute_reply": "2023-02-23T09:39:39.898383Z"
    }
   },
   "outputs": [
    {
     "name": "stdout",
     "output_type": "stream",
     "text": [
      "57.5 µs ± 65.6 ns per loop (mean ± std. dev. of 7 runs, 10,000 loops each)\n"
     ]
    }
   ],
   "source": [
    "t_split = FastTreeValue.func(rise=True)(torch.split)\n",
    "tree = FastTreeValue({\n",
    "    'obs': torch.randn(8, 4, 84, 84),\n",
    "    'action': torch.randint(0, 6, size=(8, 1,)),\n",
    "    'reward': torch.rand(8, 1),\n",
    "})\n",
    "\n",
    "%timeit t_split(tree, 1)"
   ]
  },
  {
   "cell_type": "markdown",
   "id": "31c3ec0b",
   "metadata": {},
   "source": [
    "### Performance of Tianshou Batch"
   ]
  },
  {
   "cell_type": "code",
   "execution_count": 25,
   "id": "9ead828a",
   "metadata": {
    "execution": {
     "iopub.execute_input": "2023-02-23T09:39:39.902569Z",
     "iopub.status.busy": "2023-02-23T09:39:39.901964Z",
     "iopub.status.idle": "2023-02-23T09:39:39.912125Z",
     "shell.execute_reply": "2023-02-23T09:39:39.911406Z"
    }
   },
   "outputs": [
    {
     "data": {
      "text/plain": [
       "Batch(\n",
       "    x: Batch(\n",
       "           c: tensor([[[ 1.4952,  0.2560, -1.1297, -0.9023],\n",
       "                       [ 2.2990, -0.4911, -0.6080,  0.4507],\n",
       "                       [ 0.4259, -0.9293,  1.5505,  0.9967]],\n",
       "              \n",
       "                      [[ 1.4952,  0.2560, -1.1297, -0.9023],\n",
       "                       [ 2.2990, -0.4911, -0.6080,  0.4507],\n",
       "                       [ 0.4259, -0.9293,  1.5505,  0.9967]],\n",
       "              \n",
       "                      [[ 1.4952,  0.2560, -1.1297, -0.9023],\n",
       "                       [ 2.2990, -0.4911, -0.6080,  0.4507],\n",
       "                       [ 0.4259, -0.9293,  1.5505,  0.9967]],\n",
       "              \n",
       "                      [[ 1.4952,  0.2560, -1.1297, -0.9023],\n",
       "                       [ 2.2990, -0.4911, -0.6080,  0.4507],\n",
       "                       [ 0.4259, -0.9293,  1.5505,  0.9967]],\n",
       "              \n",
       "                      [[ 1.4952,  0.2560, -1.1297, -0.9023],\n",
       "                       [ 2.2990, -0.4911, -0.6080,  0.4507],\n",
       "                       [ 0.4259, -0.9293,  1.5505,  0.9967]],\n",
       "              \n",
       "                      [[ 1.4952,  0.2560, -1.1297, -0.9023],\n",
       "                       [ 2.2990, -0.4911, -0.6080,  0.4507],\n",
       "                       [ 0.4259, -0.9293,  1.5505,  0.9967]],\n",
       "              \n",
       "                      [[ 1.4952,  0.2560, -1.1297, -0.9023],\n",
       "                       [ 2.2990, -0.4911, -0.6080,  0.4507],\n",
       "                       [ 0.4259, -0.9293,  1.5505,  0.9967]],\n",
       "              \n",
       "                      [[ 1.4952,  0.2560, -1.1297, -0.9023],\n",
       "                       [ 2.2990, -0.4911, -0.6080,  0.4507],\n",
       "                       [ 0.4259, -0.9293,  1.5505,  0.9967]]]),\n",
       "       ),\n",
       "    a: tensor([[[-0.5430, -0.6403, -0.5916],\n",
       "                [-2.4478,  0.4527,  0.6533]],\n",
       "       \n",
       "               [[-0.5430, -0.6403, -0.5916],\n",
       "                [-2.4478,  0.4527,  0.6533]],\n",
       "       \n",
       "               [[-0.5430, -0.6403, -0.5916],\n",
       "                [-2.4478,  0.4527,  0.6533]],\n",
       "       \n",
       "               [[-0.5430, -0.6403, -0.5916],\n",
       "                [-2.4478,  0.4527,  0.6533]],\n",
       "       \n",
       "               [[-0.5430, -0.6403, -0.5916],\n",
       "                [-2.4478,  0.4527,  0.6533]],\n",
       "       \n",
       "               [[-0.5430, -0.6403, -0.5916],\n",
       "                [-2.4478,  0.4527,  0.6533]],\n",
       "       \n",
       "               [[-0.5430, -0.6403, -0.5916],\n",
       "                [-2.4478,  0.4527,  0.6533]],\n",
       "       \n",
       "               [[-0.5430, -0.6403, -0.5916],\n",
       "                [-2.4478,  0.4527,  0.6533]]]),\n",
       ")"
      ]
     },
     "execution_count": 25,
     "metadata": {},
     "output_type": "execute_result"
    }
   ],
   "source": [
    "batches = [Batch(**_TREE_DATA_2) for _ in range(8)]\n",
    "\n",
    "Batch.stack(batches)"
   ]
  },
  {
   "cell_type": "code",
   "execution_count": 26,
   "id": "ec9037a3",
   "metadata": {
    "execution": {
     "iopub.execute_input": "2023-02-23T09:39:39.915156Z",
     "iopub.status.busy": "2023-02-23T09:39:39.914715Z",
     "iopub.status.idle": "2023-02-23T09:39:46.305744Z",
     "shell.execute_reply": "2023-02-23T09:39:46.304842Z"
    }
   },
   "outputs": [
    {
     "name": "stdout",
     "output_type": "stream",
     "text": [
      "78.7 µs ± 94.1 ns per loop (mean ± std. dev. of 7 runs, 10,000 loops each)\n"
     ]
    }
   ],
   "source": [
    "%timeit Batch.stack(batches)"
   ]
  },
  {
   "cell_type": "code",
   "execution_count": 27,
   "id": "cb8ab77e",
   "metadata": {
    "execution": {
     "iopub.execute_input": "2023-02-23T09:39:46.309614Z",
     "iopub.status.busy": "2023-02-23T09:39:46.309174Z",
     "iopub.status.idle": "2023-02-23T09:39:46.318169Z",
     "shell.execute_reply": "2023-02-23T09:39:46.317101Z"
    }
   },
   "outputs": [
    {
     "data": {
      "text/plain": [
       "Batch(\n",
       "    x: Batch(\n",
       "           c: tensor([[ 1.4952,  0.2560, -1.1297, -0.9023],\n",
       "                      [ 2.2990, -0.4911, -0.6080,  0.4507],\n",
       "                      [ 0.4259, -0.9293,  1.5505,  0.9967],\n",
       "                      [ 1.4952,  0.2560, -1.1297, -0.9023],\n",
       "                      [ 2.2990, -0.4911, -0.6080,  0.4507],\n",
       "                      [ 0.4259, -0.9293,  1.5505,  0.9967],\n",
       "                      [ 1.4952,  0.2560, -1.1297, -0.9023],\n",
       "                      [ 2.2990, -0.4911, -0.6080,  0.4507],\n",
       "                      [ 0.4259, -0.9293,  1.5505,  0.9967],\n",
       "                      [ 1.4952,  0.2560, -1.1297, -0.9023],\n",
       "                      [ 2.2990, -0.4911, -0.6080,  0.4507],\n",
       "                      [ 0.4259, -0.9293,  1.5505,  0.9967],\n",
       "                      [ 1.4952,  0.2560, -1.1297, -0.9023],\n",
       "                      [ 2.2990, -0.4911, -0.6080,  0.4507],\n",
       "                      [ 0.4259, -0.9293,  1.5505,  0.9967],\n",
       "                      [ 1.4952,  0.2560, -1.1297, -0.9023],\n",
       "                      [ 2.2990, -0.4911, -0.6080,  0.4507],\n",
       "                      [ 0.4259, -0.9293,  1.5505,  0.9967],\n",
       "                      [ 1.4952,  0.2560, -1.1297, -0.9023],\n",
       "                      [ 2.2990, -0.4911, -0.6080,  0.4507],\n",
       "                      [ 0.4259, -0.9293,  1.5505,  0.9967],\n",
       "                      [ 1.4952,  0.2560, -1.1297, -0.9023],\n",
       "                      [ 2.2990, -0.4911, -0.6080,  0.4507],\n",
       "                      [ 0.4259, -0.9293,  1.5505,  0.9967]]),\n",
       "       ),\n",
       "    a: tensor([[-0.5430, -0.6403, -0.5916],\n",
       "               [-2.4478,  0.4527,  0.6533],\n",
       "               [-0.5430, -0.6403, -0.5916],\n",
       "               [-2.4478,  0.4527,  0.6533],\n",
       "               [-0.5430, -0.6403, -0.5916],\n",
       "               [-2.4478,  0.4527,  0.6533],\n",
       "               [-0.5430, -0.6403, -0.5916],\n",
       "               [-2.4478,  0.4527,  0.6533],\n",
       "               [-0.5430, -0.6403, -0.5916],\n",
       "               [-2.4478,  0.4527,  0.6533],\n",
       "               [-0.5430, -0.6403, -0.5916],\n",
       "               [-2.4478,  0.4527,  0.6533],\n",
       "               [-0.5430, -0.6403, -0.5916],\n",
       "               [-2.4478,  0.4527,  0.6533],\n",
       "               [-0.5430, -0.6403, -0.5916],\n",
       "               [-2.4478,  0.4527,  0.6533]]),\n",
       ")"
      ]
     },
     "execution_count": 27,
     "metadata": {},
     "output_type": "execute_result"
    }
   ],
   "source": [
    "Batch.cat(batches)"
   ]
  },
  {
   "cell_type": "code",
   "execution_count": 28,
   "id": "18dfb045",
   "metadata": {
    "execution": {
     "iopub.execute_input": "2023-02-23T09:39:46.321047Z",
     "iopub.status.busy": "2023-02-23T09:39:46.320613Z",
     "iopub.status.idle": "2023-02-23T09:39:58.071132Z",
     "shell.execute_reply": "2023-02-23T09:39:58.070216Z"
    }
   },
   "outputs": [
    {
     "name": "stdout",
     "output_type": "stream",
     "text": [
      "145 µs ± 459 ns per loop (mean ± std. dev. of 7 runs, 10,000 loops each)\n"
     ]
    }
   ],
   "source": [
    "%timeit Batch.cat(batches)"
   ]
  },
  {
   "cell_type": "code",
   "execution_count": 29,
   "id": "c6688e51",
   "metadata": {
    "execution": {
     "iopub.execute_input": "2023-02-23T09:39:58.075015Z",
     "iopub.status.busy": "2023-02-23T09:39:58.074303Z",
     "iopub.status.idle": "2023-02-23T09:40:00.678103Z",
     "shell.execute_reply": "2023-02-23T09:40:00.677444Z"
    }
   },
   "outputs": [
    {
     "name": "stdout",
     "output_type": "stream",
     "text": [
      "319 µs ± 1.2 µs per loop (mean ± std. dev. of 7 runs, 1,000 loops each)\n"
     ]
    }
   ],
   "source": [
    "batch = Batch({\n",
    "    'obs': torch.randn(8, 4, 84, 84),\n",
    "    'action': torch.randint(0, 6, size=(8, 1,)),\n",
    "    'reward': torch.rand(8, 1)}\n",
    ")\n",
    "\n",
    "%timeit list(Batch.split(batch, 1, shuffle=False, merge_last=True))"
   ]
  },
  {
   "cell_type": "code",
   "execution_count": null,
   "id": "2539fbd9",
   "metadata": {},
   "outputs": [],
   "source": []
  }
 ],
 "metadata": {
  "kernelspec": {
   "display_name": "Python 3 (ipykernel)",
   "language": "python",
   "name": "python3"
  },
  "language_info": {
   "codemirror_mode": {
    "name": "ipython",
    "version": 3
   },
   "file_extension": ".py",
   "mimetype": "text/x-python",
   "name": "python",
   "nbconvert_exporter": "python",
   "pygments_lexer": "ipython3",
   "version": "3.8.16"
  }
 },
 "nbformat": 4,
 "nbformat_minor": 5
}
