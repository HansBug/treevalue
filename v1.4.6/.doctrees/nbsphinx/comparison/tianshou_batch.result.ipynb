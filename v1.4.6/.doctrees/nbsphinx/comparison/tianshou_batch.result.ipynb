{
 "cells": [
  {
   "cell_type": "markdown",
   "id": "9d39d946",
   "metadata": {},
   "source": [
    "# Comparison Between TreeValue and Tianshou Batch"
   ]
  },
  {
   "cell_type": "markdown",
   "id": "3c6db2d4",
   "metadata": {},
   "source": [
    "In this section, we will take a look at the feature and performance of the [Tianshou Batch](https://github.com/thu-ml/tianshou) library, which is developed by Tsinghua Machine Learning Group."
   ]
  },
  {
   "cell_type": "markdown",
   "id": "069361b0",
   "metadata": {},
   "source": [
    "Before starting the comparison, let us define some thing."
   ]
  },
  {
   "cell_type": "code",
   "execution_count": 1,
   "id": "06fc8d26",
   "metadata": {
    "execution": {
     "iopub.execute_input": "2023-08-10T15:11:50.444349Z",
     "iopub.status.busy": "2023-08-10T15:11:50.443640Z",
     "iopub.status.idle": "2023-08-10T15:11:52.121263Z",
     "shell.execute_reply": "2023-08-10T15:11:52.120253Z"
    }
   },
   "outputs": [],
   "source": [
    "import torch \n",
    "\n",
    "_TREE_DATA_1 = {'a': 1, 'b': 2, 'x': {'c': 3, 'd': 4}}\n",
    "_TREE_DATA_2 = {\n",
    "    'a': torch.randn(2, 3), \n",
    "    'x': {\n",
    "        'c': torch.randn(3, 4)\n",
    "    },\n",
    "}\n",
    "_TREE_DATA_3 = {\n",
    "    'obs': torch.randn(4, 84, 84),\n",
    "    'action': torch.randint(0, 6, size=(1,)),\n",
    "    'reward': torch.rand(1),\n",
    "}"
   ]
  },
  {
   "cell_type": "markdown",
   "id": "83461b25",
   "metadata": {},
   "source": [
    "## Read and Write Operation"
   ]
  },
  {
   "cell_type": "markdown",
   "id": "067b3f73",
   "metadata": {},
   "source": [
    "Reading and writing are the two most common operations in the tree data structure based on the data model (TreeValue and Tianshou Batch both belong to this type), so this section will compare the reading and writing performance of these two libraries."
   ]
  },
  {
   "cell_type": "markdown",
   "id": "5d09a5b7",
   "metadata": {},
   "source": [
    "### TreeValue's Get and Set"
   ]
  },
  {
   "cell_type": "code",
   "execution_count": 2,
   "id": "9519c4bb",
   "metadata": {
    "execution": {
     "iopub.execute_input": "2023-08-10T15:11:52.126111Z",
     "iopub.status.busy": "2023-08-10T15:11:52.125452Z",
     "iopub.status.idle": "2023-08-10T15:11:52.514903Z",
     "shell.execute_reply": "2023-08-10T15:11:52.513780Z"
    }
   },
   "outputs": [],
   "source": [
    "from treevalue import FastTreeValue\n",
    "\n",
    "t = FastTreeValue(_TREE_DATA_2)"
   ]
  },
  {
   "cell_type": "code",
   "execution_count": 3,
   "id": "11c37677",
   "metadata": {
    "execution": {
     "iopub.execute_input": "2023-08-10T15:11:52.519675Z",
     "iopub.status.busy": "2023-08-10T15:11:52.519127Z",
     "iopub.status.idle": "2023-08-10T15:11:52.530053Z",
     "shell.execute_reply": "2023-08-10T15:11:52.529176Z"
    }
   },
   "outputs": [
    {
     "data": {
      "text/plain": [
       "<FastTreeValue 0x7ff524dc2580>\n",
       "├── 'a' --> tensor([[ 0.5512,  0.5236,  0.7612],\n",
       "│                   [-0.5946,  0.7371,  0.6732]])\n",
       "└── 'x' --> <FastTreeValue 0x7ff524dc25e0>\n",
       "    └── 'c' --> tensor([[-0.6427, -0.9965,  0.0541, -0.4583],\n",
       "                        [ 1.9600,  0.3564, -0.6747,  1.1037],\n",
       "                        [ 0.2285,  1.3357, -0.7880,  1.2720]])"
      ]
     },
     "execution_count": 3,
     "metadata": {},
     "output_type": "execute_result"
    }
   ],
   "source": [
    "t"
   ]
  },
  {
   "cell_type": "code",
   "execution_count": 4,
   "id": "fd70b0b9",
   "metadata": {
    "execution": {
     "iopub.execute_input": "2023-08-10T15:11:52.534824Z",
     "iopub.status.busy": "2023-08-10T15:11:52.534305Z",
     "iopub.status.idle": "2023-08-10T15:11:52.540463Z",
     "shell.execute_reply": "2023-08-10T15:11:52.539576Z"
    }
   },
   "outputs": [
    {
     "data": {
      "text/plain": [
       "tensor([[ 0.5512,  0.5236,  0.7612],\n",
       "        [-0.5946,  0.7371,  0.6732]])"
      ]
     },
     "execution_count": 4,
     "metadata": {},
     "output_type": "execute_result"
    }
   ],
   "source": [
    "t.a"
   ]
  },
  {
   "cell_type": "code",
   "execution_count": 5,
   "id": "c18197bd",
   "metadata": {
    "execution": {
     "iopub.execute_input": "2023-08-10T15:11:52.545273Z",
     "iopub.status.busy": "2023-08-10T15:11:52.544535Z",
     "iopub.status.idle": "2023-08-10T15:11:59.723710Z",
     "shell.execute_reply": "2023-08-10T15:11:59.721822Z"
    }
   },
   "outputs": [
    {
     "name": "stdout",
     "output_type": "stream",
     "text": [
      "88.4 ns ± 0.169 ns per loop (mean ± std. dev. of 7 runs, 10,000,000 loops each)\n"
     ]
    }
   ],
   "source": [
    "%timeit t.a"
   ]
  },
  {
   "cell_type": "code",
   "execution_count": 6,
   "id": "bd52f867",
   "metadata": {
    "execution": {
     "iopub.execute_input": "2023-08-10T15:11:59.728145Z",
     "iopub.status.busy": "2023-08-10T15:11:59.727568Z",
     "iopub.status.idle": "2023-08-10T15:11:59.735639Z",
     "shell.execute_reply": "2023-08-10T15:11:59.734716Z"
    }
   },
   "outputs": [
    {
     "data": {
      "text/plain": [
       "<FastTreeValue 0x7ff524dc2580>\n",
       "├── 'a' --> tensor([[ 0.1050, -0.1019, -0.6389],\n",
       "│                   [-0.5655, -0.1983,  1.9282]])\n",
       "└── 'x' --> <FastTreeValue 0x7ff524dc25e0>\n",
       "    └── 'c' --> tensor([[-0.6427, -0.9965,  0.0541, -0.4583],\n",
       "                        [ 1.9600,  0.3564, -0.6747,  1.1037],\n",
       "                        [ 0.2285,  1.3357, -0.7880,  1.2720]])"
      ]
     },
     "execution_count": 6,
     "metadata": {},
     "output_type": "execute_result"
    }
   ],
   "source": [
    "new_value = torch.randn(2, 3)\n",
    "t.a = new_value\n",
    "\n",
    "t"
   ]
  },
  {
   "cell_type": "code",
   "execution_count": 7,
   "id": "bbe04d1c",
   "metadata": {
    "execution": {
     "iopub.execute_input": "2023-08-10T15:11:59.739766Z",
     "iopub.status.busy": "2023-08-10T15:11:59.739100Z",
     "iopub.status.idle": "2023-08-10T15:12:07.042702Z",
     "shell.execute_reply": "2023-08-10T15:12:07.040718Z"
    }
   },
   "outputs": [
    {
     "name": "stdout",
     "output_type": "stream",
     "text": [
      "89.9 ns ± 0.26 ns per loop (mean ± std. dev. of 7 runs, 10,000,000 loops each)\n"
     ]
    }
   ],
   "source": [
    "%timeit t.a = new_value"
   ]
  },
  {
   "cell_type": "markdown",
   "id": "48c49731",
   "metadata": {},
   "source": [
    "### Tianshou Batch's Get and Set"
   ]
  },
  {
   "cell_type": "code",
   "execution_count": 8,
   "id": "f1bb14c1",
   "metadata": {
    "execution": {
     "iopub.execute_input": "2023-08-10T15:12:07.046842Z",
     "iopub.status.busy": "2023-08-10T15:12:07.046543Z",
     "iopub.status.idle": "2023-08-10T15:12:07.496094Z",
     "shell.execute_reply": "2023-08-10T15:12:07.495000Z"
    }
   },
   "outputs": [],
   "source": [
    "from tianshou.data import Batch\n",
    "\n",
    "b = Batch(**_TREE_DATA_2)"
   ]
  },
  {
   "cell_type": "code",
   "execution_count": 9,
   "id": "cb0777c3",
   "metadata": {
    "execution": {
     "iopub.execute_input": "2023-08-10T15:12:07.500356Z",
     "iopub.status.busy": "2023-08-10T15:12:07.499736Z",
     "iopub.status.idle": "2023-08-10T15:12:07.511337Z",
     "shell.execute_reply": "2023-08-10T15:12:07.510454Z"
    }
   },
   "outputs": [
    {
     "data": {
      "text/plain": [
       "Batch(\n",
       "    a: tensor([[ 0.5512,  0.5236,  0.7612],\n",
       "               [-0.5946,  0.7371,  0.6732]]),\n",
       "    x: Batch(\n",
       "           c: tensor([[-0.6427, -0.9965,  0.0541, -0.4583],\n",
       "                      [ 1.9600,  0.3564, -0.6747,  1.1037],\n",
       "                      [ 0.2285,  1.3357, -0.7880,  1.2720]]),\n",
       "       ),\n",
       ")"
      ]
     },
     "execution_count": 9,
     "metadata": {},
     "output_type": "execute_result"
    }
   ],
   "source": [
    "b"
   ]
  },
  {
   "cell_type": "code",
   "execution_count": 10,
   "id": "43ef8ea3",
   "metadata": {
    "execution": {
     "iopub.execute_input": "2023-08-10T15:12:07.516919Z",
     "iopub.status.busy": "2023-08-10T15:12:07.516240Z",
     "iopub.status.idle": "2023-08-10T15:12:07.522594Z",
     "shell.execute_reply": "2023-08-10T15:12:07.521784Z"
    }
   },
   "outputs": [
    {
     "data": {
      "text/plain": [
       "tensor([[ 0.5512,  0.5236,  0.7612],\n",
       "        [-0.5946,  0.7371,  0.6732]])"
      ]
     },
     "execution_count": 10,
     "metadata": {},
     "output_type": "execute_result"
    }
   ],
   "source": [
    "b.a"
   ]
  },
  {
   "cell_type": "code",
   "execution_count": 11,
   "id": "b785ab72",
   "metadata": {
    "execution": {
     "iopub.execute_input": "2023-08-10T15:12:07.526906Z",
     "iopub.status.busy": "2023-08-10T15:12:07.526541Z",
     "iopub.status.idle": "2023-08-10T15:12:13.785761Z",
     "shell.execute_reply": "2023-08-10T15:12:13.784981Z"
    }
   },
   "outputs": [
    {
     "name": "stdout",
     "output_type": "stream",
     "text": [
      "77.2 ns ± 0.221 ns per loop (mean ± std. dev. of 7 runs, 10,000,000 loops each)\n"
     ]
    }
   ],
   "source": [
    "%timeit b.a"
   ]
  },
  {
   "cell_type": "code",
   "execution_count": 12,
   "id": "ad54dc69",
   "metadata": {
    "execution": {
     "iopub.execute_input": "2023-08-10T15:12:13.789728Z",
     "iopub.status.busy": "2023-08-10T15:12:13.789155Z",
     "iopub.status.idle": "2023-08-10T15:12:13.796969Z",
     "shell.execute_reply": "2023-08-10T15:12:13.796046Z"
    }
   },
   "outputs": [
    {
     "data": {
      "text/plain": [
       "Batch(\n",
       "    a: tensor([[-0.6171,  0.0455, -0.1545],\n",
       "               [-0.1914,  0.4975, -0.6206]]),\n",
       "    x: Batch(\n",
       "           c: tensor([[-0.6427, -0.9965,  0.0541, -0.4583],\n",
       "                      [ 1.9600,  0.3564, -0.6747,  1.1037],\n",
       "                      [ 0.2285,  1.3357, -0.7880,  1.2720]]),\n",
       "       ),\n",
       ")"
      ]
     },
     "execution_count": 12,
     "metadata": {},
     "output_type": "execute_result"
    }
   ],
   "source": [
    "new_value = torch.randn(2, 3)\n",
    "b.a = new_value\n",
    "\n",
    "b"
   ]
  },
  {
   "cell_type": "code",
   "execution_count": 13,
   "id": "29b1d0bf",
   "metadata": {
    "execution": {
     "iopub.execute_input": "2023-08-10T15:12:13.800734Z",
     "iopub.status.busy": "2023-08-10T15:12:13.800194Z",
     "iopub.status.idle": "2023-08-10T15:12:19.584988Z",
     "shell.execute_reply": "2023-08-10T15:12:19.584200Z"
    }
   },
   "outputs": [
    {
     "name": "stdout",
     "output_type": "stream",
     "text": [
      "708 ns ± 29.4 ns per loop (mean ± std. dev. of 7 runs, 1,000,000 loops each)\n"
     ]
    }
   ],
   "source": [
    "%timeit b.a = new_value"
   ]
  },
  {
   "cell_type": "markdown",
   "id": "b61ad1d0",
   "metadata": {},
   "source": [
    "## Initialization"
   ]
  },
  {
   "cell_type": "markdown",
   "id": "d70f0d54",
   "metadata": {},
   "source": [
    "### TreeValue's Initialization"
   ]
  },
  {
   "cell_type": "code",
   "execution_count": 14,
   "id": "d32a679b",
   "metadata": {
    "execution": {
     "iopub.execute_input": "2023-08-10T15:12:19.589278Z",
     "iopub.status.busy": "2023-08-10T15:12:19.588543Z",
     "iopub.status.idle": "2023-08-10T15:12:28.136124Z",
     "shell.execute_reply": "2023-08-10T15:12:28.135182Z"
    }
   },
   "outputs": [
    {
     "name": "stdout",
     "output_type": "stream",
     "text": [
      "1.05 µs ± 5.87 ns per loop (mean ± std. dev. of 7 runs, 1,000,000 loops each)\n"
     ]
    }
   ],
   "source": [
    "%timeit FastTreeValue(_TREE_DATA_1)"
   ]
  },
  {
   "cell_type": "markdown",
   "id": "24f3707b",
   "metadata": {},
   "source": [
    "### Tianshou Batch's Initialization"
   ]
  },
  {
   "cell_type": "code",
   "execution_count": 15,
   "id": "ac3958df",
   "metadata": {
    "execution": {
     "iopub.execute_input": "2023-08-10T15:12:28.143311Z",
     "iopub.status.busy": "2023-08-10T15:12:28.142625Z",
     "iopub.status.idle": "2023-08-10T15:12:38.516145Z",
     "shell.execute_reply": "2023-08-10T15:12:38.515384Z"
    }
   },
   "outputs": [
    {
     "name": "stdout",
     "output_type": "stream",
     "text": [
      "12.8 µs ± 76.7 ns per loop (mean ± std. dev. of 7 runs, 100,000 loops each)\n"
     ]
    }
   ],
   "source": [
    "%timeit Batch(**_TREE_DATA_1)"
   ]
  },
  {
   "cell_type": "markdown",
   "id": "1ab82e2d",
   "metadata": {},
   "source": [
    "## Deep Copy Operation"
   ]
  },
  {
   "cell_type": "code",
   "execution_count": 16,
   "id": "210a9442",
   "metadata": {
    "execution": {
     "iopub.execute_input": "2023-08-10T15:12:38.520218Z",
     "iopub.status.busy": "2023-08-10T15:12:38.519476Z",
     "iopub.status.idle": "2023-08-10T15:12:38.523383Z",
     "shell.execute_reply": "2023-08-10T15:12:38.522587Z"
    }
   },
   "outputs": [],
   "source": [
    "import copy"
   ]
  },
  {
   "cell_type": "markdown",
   "id": "5a736274",
   "metadata": {},
   "source": [
    "### Deep Copy of TreeValue"
   ]
  },
  {
   "cell_type": "code",
   "execution_count": 17,
   "id": "f9bcadd6",
   "metadata": {
    "execution": {
     "iopub.execute_input": "2023-08-10T15:12:38.527612Z",
     "iopub.status.busy": "2023-08-10T15:12:38.526890Z",
     "iopub.status.idle": "2023-08-10T15:12:52.153364Z",
     "shell.execute_reply": "2023-08-10T15:12:52.152411Z"
    }
   },
   "outputs": [
    {
     "name": "stdout",
     "output_type": "stream",
     "text": [
      "166 µs ± 985 ns per loop (mean ± std. dev. of 7 runs, 10,000 loops each)\n"
     ]
    }
   ],
   "source": [
    "t3 = FastTreeValue(_TREE_DATA_3)\n",
    "%timeit copy.deepcopy(t3)"
   ]
  },
  {
   "cell_type": "markdown",
   "id": "bf8be7ea",
   "metadata": {},
   "source": [
    "### Deep Copy of Tianshou Batch"
   ]
  },
  {
   "cell_type": "code",
   "execution_count": 18,
   "id": "91998e6f",
   "metadata": {
    "execution": {
     "iopub.execute_input": "2023-08-10T15:12:52.157592Z",
     "iopub.status.busy": "2023-08-10T15:12:52.156990Z",
     "iopub.status.idle": "2023-08-10T15:13:05.689879Z",
     "shell.execute_reply": "2023-08-10T15:13:05.688878Z"
    }
   },
   "outputs": [
    {
     "name": "stdout",
     "output_type": "stream",
     "text": [
      "167 µs ± 949 ns per loop (mean ± std. dev. of 7 runs, 10,000 loops each)\n"
     ]
    }
   ],
   "source": [
    "b3 = Batch(**_TREE_DATA_3)\n",
    "%timeit copy.deepcopy(b3)"
   ]
  },
  {
   "cell_type": "markdown",
   "id": "223162fb",
   "metadata": {},
   "source": [
    "## Stack, Concat and Split Operation"
   ]
  },
  {
   "cell_type": "markdown",
   "id": "85fa4a73",
   "metadata": {},
   "source": [
    "### Performance of TreeValue"
   ]
  },
  {
   "cell_type": "code",
   "execution_count": 19,
   "id": "a0c2b697",
   "metadata": {
    "execution": {
     "iopub.execute_input": "2023-08-10T15:13:05.694181Z",
     "iopub.status.busy": "2023-08-10T15:13:05.693869Z",
     "iopub.status.idle": "2023-08-10T15:13:05.698128Z",
     "shell.execute_reply": "2023-08-10T15:13:05.697280Z"
    }
   },
   "outputs": [],
   "source": [
    "trees = [FastTreeValue(_TREE_DATA_2) for _ in range(8)]"
   ]
  },
  {
   "cell_type": "code",
   "execution_count": 20,
   "id": "017ea5a5",
   "metadata": {
    "execution": {
     "iopub.execute_input": "2023-08-10T15:13:05.702397Z",
     "iopub.status.busy": "2023-08-10T15:13:05.701892Z",
     "iopub.status.idle": "2023-08-10T15:13:05.710743Z",
     "shell.execute_reply": "2023-08-10T15:13:05.709904Z"
    }
   },
   "outputs": [
    {
     "data": {
      "text/plain": [
       "<FastTreeValue 0x7ff44f6aee80>\n",
       "├── 'a' --> tensor([[[ 0.5512,  0.5236,  0.7612],\n",
       "│                    [-0.5946,  0.7371,  0.6732]],\n",
       "│           \n",
       "│                   [[ 0.5512,  0.5236,  0.7612],\n",
       "│                    [-0.5946,  0.7371,  0.6732]],\n",
       "│           \n",
       "│                   [[ 0.5512,  0.5236,  0.7612],\n",
       "│                    [-0.5946,  0.7371,  0.6732]],\n",
       "│           \n",
       "│                   [[ 0.5512,  0.5236,  0.7612],\n",
       "│                    [-0.5946,  0.7371,  0.6732]],\n",
       "│           \n",
       "│                   [[ 0.5512,  0.5236,  0.7612],\n",
       "│                    [-0.5946,  0.7371,  0.6732]],\n",
       "│           \n",
       "│                   [[ 0.5512,  0.5236,  0.7612],\n",
       "│                    [-0.5946,  0.7371,  0.6732]],\n",
       "│           \n",
       "│                   [[ 0.5512,  0.5236,  0.7612],\n",
       "│                    [-0.5946,  0.7371,  0.6732]],\n",
       "│           \n",
       "│                   [[ 0.5512,  0.5236,  0.7612],\n",
       "│                    [-0.5946,  0.7371,  0.6732]]])\n",
       "└── 'x' --> <FastTreeValue 0x7ff44f6ae0a0>\n",
       "    └── 'c' --> tensor([[[-0.6427, -0.9965,  0.0541, -0.4583],\n",
       "                         [ 1.9600,  0.3564, -0.6747,  1.1037],\n",
       "                         [ 0.2285,  1.3357, -0.7880,  1.2720]],\n",
       "                \n",
       "                        [[-0.6427, -0.9965,  0.0541, -0.4583],\n",
       "                         [ 1.9600,  0.3564, -0.6747,  1.1037],\n",
       "                         [ 0.2285,  1.3357, -0.7880,  1.2720]],\n",
       "                \n",
       "                        [[-0.6427, -0.9965,  0.0541, -0.4583],\n",
       "                         [ 1.9600,  0.3564, -0.6747,  1.1037],\n",
       "                         [ 0.2285,  1.3357, -0.7880,  1.2720]],\n",
       "                \n",
       "                        [[-0.6427, -0.9965,  0.0541, -0.4583],\n",
       "                         [ 1.9600,  0.3564, -0.6747,  1.1037],\n",
       "                         [ 0.2285,  1.3357, -0.7880,  1.2720]],\n",
       "                \n",
       "                        [[-0.6427, -0.9965,  0.0541, -0.4583],\n",
       "                         [ 1.9600,  0.3564, -0.6747,  1.1037],\n",
       "                         [ 0.2285,  1.3357, -0.7880,  1.2720]],\n",
       "                \n",
       "                        [[-0.6427, -0.9965,  0.0541, -0.4583],\n",
       "                         [ 1.9600,  0.3564, -0.6747,  1.1037],\n",
       "                         [ 0.2285,  1.3357, -0.7880,  1.2720]],\n",
       "                \n",
       "                        [[-0.6427, -0.9965,  0.0541, -0.4583],\n",
       "                         [ 1.9600,  0.3564, -0.6747,  1.1037],\n",
       "                         [ 0.2285,  1.3357, -0.7880,  1.2720]],\n",
       "                \n",
       "                        [[-0.6427, -0.9965,  0.0541, -0.4583],\n",
       "                         [ 1.9600,  0.3564, -0.6747,  1.1037],\n",
       "                         [ 0.2285,  1.3357, -0.7880,  1.2720]]])"
      ]
     },
     "execution_count": 20,
     "metadata": {},
     "output_type": "execute_result"
    }
   ],
   "source": [
    "t_stack = FastTreeValue.func(subside=True)(torch.stack)\n",
    "\n",
    "t_stack(trees)"
   ]
  },
  {
   "cell_type": "code",
   "execution_count": 21,
   "id": "f8b3f415",
   "metadata": {
    "execution": {
     "iopub.execute_input": "2023-08-10T15:13:05.714588Z",
     "iopub.status.busy": "2023-08-10T15:13:05.714149Z",
     "iopub.status.idle": "2023-08-10T15:13:08.836344Z",
     "shell.execute_reply": "2023-08-10T15:13:08.835500Z"
    }
   },
   "outputs": [
    {
     "name": "stdout",
     "output_type": "stream",
     "text": [
      "38.4 µs ± 99 ns per loop (mean ± std. dev. of 7 runs, 10,000 loops each)\n"
     ]
    }
   ],
   "source": [
    "%timeit t_stack(trees)"
   ]
  },
  {
   "cell_type": "code",
   "execution_count": 22,
   "id": "94b56771",
   "metadata": {
    "execution": {
     "iopub.execute_input": "2023-08-10T15:13:08.840647Z",
     "iopub.status.busy": "2023-08-10T15:13:08.839867Z",
     "iopub.status.idle": "2023-08-10T15:13:08.849323Z",
     "shell.execute_reply": "2023-08-10T15:13:08.848456Z"
    }
   },
   "outputs": [
    {
     "data": {
      "text/plain": [
       "<FastTreeValue 0x7ff529e3abe0>\n",
       "├── 'a' --> tensor([[ 0.5512,  0.5236,  0.7612],\n",
       "│                   [-0.5946,  0.7371,  0.6732],\n",
       "│                   [ 0.5512,  0.5236,  0.7612],\n",
       "│                   [-0.5946,  0.7371,  0.6732],\n",
       "│                   [ 0.5512,  0.5236,  0.7612],\n",
       "│                   [-0.5946,  0.7371,  0.6732],\n",
       "│                   [ 0.5512,  0.5236,  0.7612],\n",
       "│                   [-0.5946,  0.7371,  0.6732],\n",
       "│                   [ 0.5512,  0.5236,  0.7612],\n",
       "│                   [-0.5946,  0.7371,  0.6732],\n",
       "│                   [ 0.5512,  0.5236,  0.7612],\n",
       "│                   [-0.5946,  0.7371,  0.6732],\n",
       "│                   [ 0.5512,  0.5236,  0.7612],\n",
       "│                   [-0.5946,  0.7371,  0.6732],\n",
       "│                   [ 0.5512,  0.5236,  0.7612],\n",
       "│                   [-0.5946,  0.7371,  0.6732]])\n",
       "└── 'x' --> <FastTreeValue 0x7ff529e3a460>\n",
       "    └── 'c' --> tensor([[-0.6427, -0.9965,  0.0541, -0.4583],\n",
       "                        [ 1.9600,  0.3564, -0.6747,  1.1037],\n",
       "                        [ 0.2285,  1.3357, -0.7880,  1.2720],\n",
       "                        [-0.6427, -0.9965,  0.0541, -0.4583],\n",
       "                        [ 1.9600,  0.3564, -0.6747,  1.1037],\n",
       "                        [ 0.2285,  1.3357, -0.7880,  1.2720],\n",
       "                        [-0.6427, -0.9965,  0.0541, -0.4583],\n",
       "                        [ 1.9600,  0.3564, -0.6747,  1.1037],\n",
       "                        [ 0.2285,  1.3357, -0.7880,  1.2720],\n",
       "                        [-0.6427, -0.9965,  0.0541, -0.4583],\n",
       "                        [ 1.9600,  0.3564, -0.6747,  1.1037],\n",
       "                        [ 0.2285,  1.3357, -0.7880,  1.2720],\n",
       "                        [-0.6427, -0.9965,  0.0541, -0.4583],\n",
       "                        [ 1.9600,  0.3564, -0.6747,  1.1037],\n",
       "                        [ 0.2285,  1.3357, -0.7880,  1.2720],\n",
       "                        [-0.6427, -0.9965,  0.0541, -0.4583],\n",
       "                        [ 1.9600,  0.3564, -0.6747,  1.1037],\n",
       "                        [ 0.2285,  1.3357, -0.7880,  1.2720],\n",
       "                        [-0.6427, -0.9965,  0.0541, -0.4583],\n",
       "                        [ 1.9600,  0.3564, -0.6747,  1.1037],\n",
       "                        [ 0.2285,  1.3357, -0.7880,  1.2720],\n",
       "                        [-0.6427, -0.9965,  0.0541, -0.4583],\n",
       "                        [ 1.9600,  0.3564, -0.6747,  1.1037],\n",
       "                        [ 0.2285,  1.3357, -0.7880,  1.2720]])"
      ]
     },
     "execution_count": 22,
     "metadata": {},
     "output_type": "execute_result"
    }
   ],
   "source": [
    "t_cat = FastTreeValue.func(subside=True)(torch.cat)\n",
    "\n",
    "t_cat(trees)"
   ]
  },
  {
   "cell_type": "code",
   "execution_count": 23,
   "id": "5e9c06a6",
   "metadata": {
    "execution": {
     "iopub.execute_input": "2023-08-10T15:13:08.853274Z",
     "iopub.status.busy": "2023-08-10T15:13:08.852716Z",
     "iopub.status.idle": "2023-08-10T15:13:11.789859Z",
     "shell.execute_reply": "2023-08-10T15:13:11.788260Z"
    }
   },
   "outputs": [
    {
     "name": "stdout",
     "output_type": "stream",
     "text": [
      "36.1 µs ± 146 ns per loop (mean ± std. dev. of 7 runs, 10,000 loops each)\n"
     ]
    }
   ],
   "source": [
    "%timeit t_cat(trees)"
   ]
  },
  {
   "cell_type": "code",
   "execution_count": 24,
   "id": "a3ab5c8f",
   "metadata": {
    "execution": {
     "iopub.execute_input": "2023-08-10T15:13:11.793860Z",
     "iopub.status.busy": "2023-08-10T15:13:11.793562Z",
     "iopub.status.idle": "2023-08-10T15:13:18.114546Z",
     "shell.execute_reply": "2023-08-10T15:13:18.113465Z"
    }
   },
   "outputs": [
    {
     "name": "stdout",
     "output_type": "stream",
     "text": [
      "77.7 µs ± 575 ns per loop (mean ± std. dev. of 7 runs, 10,000 loops each)\n"
     ]
    }
   ],
   "source": [
    "t_split = FastTreeValue.func(rise=True)(torch.split)\n",
    "tree = FastTreeValue({\n",
    "    'obs': torch.randn(8, 4, 84, 84),\n",
    "    'action': torch.randint(0, 6, size=(8, 1,)),\n",
    "    'reward': torch.rand(8, 1),\n",
    "})\n",
    "\n",
    "%timeit t_split(tree, 1)"
   ]
  },
  {
   "cell_type": "markdown",
   "id": "31c3ec0b",
   "metadata": {},
   "source": [
    "### Performance of Tianshou Batch"
   ]
  },
  {
   "cell_type": "code",
   "execution_count": 25,
   "id": "9ead828a",
   "metadata": {
    "execution": {
     "iopub.execute_input": "2023-08-10T15:13:18.119359Z",
     "iopub.status.busy": "2023-08-10T15:13:18.118559Z",
     "iopub.status.idle": "2023-08-10T15:13:18.130406Z",
     "shell.execute_reply": "2023-08-10T15:13:18.129377Z"
    }
   },
   "outputs": [
    {
     "data": {
      "text/plain": [
       "Batch(\n",
       "    x: Batch(\n",
       "           c: tensor([[[-0.6427, -0.9965,  0.0541, -0.4583],\n",
       "                       [ 1.9600,  0.3564, -0.6747,  1.1037],\n",
       "                       [ 0.2285,  1.3357, -0.7880,  1.2720]],\n",
       "              \n",
       "                      [[-0.6427, -0.9965,  0.0541, -0.4583],\n",
       "                       [ 1.9600,  0.3564, -0.6747,  1.1037],\n",
       "                       [ 0.2285,  1.3357, -0.7880,  1.2720]],\n",
       "              \n",
       "                      [[-0.6427, -0.9965,  0.0541, -0.4583],\n",
       "                       [ 1.9600,  0.3564, -0.6747,  1.1037],\n",
       "                       [ 0.2285,  1.3357, -0.7880,  1.2720]],\n",
       "              \n",
       "                      [[-0.6427, -0.9965,  0.0541, -0.4583],\n",
       "                       [ 1.9600,  0.3564, -0.6747,  1.1037],\n",
       "                       [ 0.2285,  1.3357, -0.7880,  1.2720]],\n",
       "              \n",
       "                      [[-0.6427, -0.9965,  0.0541, -0.4583],\n",
       "                       [ 1.9600,  0.3564, -0.6747,  1.1037],\n",
       "                       [ 0.2285,  1.3357, -0.7880,  1.2720]],\n",
       "              \n",
       "                      [[-0.6427, -0.9965,  0.0541, -0.4583],\n",
       "                       [ 1.9600,  0.3564, -0.6747,  1.1037],\n",
       "                       [ 0.2285,  1.3357, -0.7880,  1.2720]],\n",
       "              \n",
       "                      [[-0.6427, -0.9965,  0.0541, -0.4583],\n",
       "                       [ 1.9600,  0.3564, -0.6747,  1.1037],\n",
       "                       [ 0.2285,  1.3357, -0.7880,  1.2720]],\n",
       "              \n",
       "                      [[-0.6427, -0.9965,  0.0541, -0.4583],\n",
       "                       [ 1.9600,  0.3564, -0.6747,  1.1037],\n",
       "                       [ 0.2285,  1.3357, -0.7880,  1.2720]]]),\n",
       "       ),\n",
       "    a: tensor([[[ 0.5512,  0.5236,  0.7612],\n",
       "                [-0.5946,  0.7371,  0.6732]],\n",
       "       \n",
       "               [[ 0.5512,  0.5236,  0.7612],\n",
       "                [-0.5946,  0.7371,  0.6732]],\n",
       "       \n",
       "               [[ 0.5512,  0.5236,  0.7612],\n",
       "                [-0.5946,  0.7371,  0.6732]],\n",
       "       \n",
       "               [[ 0.5512,  0.5236,  0.7612],\n",
       "                [-0.5946,  0.7371,  0.6732]],\n",
       "       \n",
       "               [[ 0.5512,  0.5236,  0.7612],\n",
       "                [-0.5946,  0.7371,  0.6732]],\n",
       "       \n",
       "               [[ 0.5512,  0.5236,  0.7612],\n",
       "                [-0.5946,  0.7371,  0.6732]],\n",
       "       \n",
       "               [[ 0.5512,  0.5236,  0.7612],\n",
       "                [-0.5946,  0.7371,  0.6732]],\n",
       "       \n",
       "               [[ 0.5512,  0.5236,  0.7612],\n",
       "                [-0.5946,  0.7371,  0.6732]]]),\n",
       ")"
      ]
     },
     "execution_count": 25,
     "metadata": {},
     "output_type": "execute_result"
    }
   ],
   "source": [
    "batches = [Batch(**_TREE_DATA_2) for _ in range(8)]\n",
    "\n",
    "Batch.stack(batches)"
   ]
  },
  {
   "cell_type": "code",
   "execution_count": 26,
   "id": "ec9037a3",
   "metadata": {
    "execution": {
     "iopub.execute_input": "2023-08-10T15:13:18.134273Z",
     "iopub.status.busy": "2023-08-10T15:13:18.133824Z",
     "iopub.status.idle": "2023-08-10T15:13:26.278752Z",
     "shell.execute_reply": "2023-08-10T15:13:26.277841Z"
    }
   },
   "outputs": [
    {
     "name": "stdout",
     "output_type": "stream",
     "text": [
      "100 µs ± 625 ns per loop (mean ± std. dev. of 7 runs, 10,000 loops each)\n"
     ]
    }
   ],
   "source": [
    "%timeit Batch.stack(batches)"
   ]
  },
  {
   "cell_type": "code",
   "execution_count": 27,
   "id": "cb8ab77e",
   "metadata": {
    "execution": {
     "iopub.execute_input": "2023-08-10T15:13:26.282962Z",
     "iopub.status.busy": "2023-08-10T15:13:26.282333Z",
     "iopub.status.idle": "2023-08-10T15:13:26.291225Z",
     "shell.execute_reply": "2023-08-10T15:13:26.290382Z"
    }
   },
   "outputs": [
    {
     "data": {
      "text/plain": [
       "Batch(\n",
       "    x: Batch(\n",
       "           c: tensor([[-0.6427, -0.9965,  0.0541, -0.4583],\n",
       "                      [ 1.9600,  0.3564, -0.6747,  1.1037],\n",
       "                      [ 0.2285,  1.3357, -0.7880,  1.2720],\n",
       "                      [-0.6427, -0.9965,  0.0541, -0.4583],\n",
       "                      [ 1.9600,  0.3564, -0.6747,  1.1037],\n",
       "                      [ 0.2285,  1.3357, -0.7880,  1.2720],\n",
       "                      [-0.6427, -0.9965,  0.0541, -0.4583],\n",
       "                      [ 1.9600,  0.3564, -0.6747,  1.1037],\n",
       "                      [ 0.2285,  1.3357, -0.7880,  1.2720],\n",
       "                      [-0.6427, -0.9965,  0.0541, -0.4583],\n",
       "                      [ 1.9600,  0.3564, -0.6747,  1.1037],\n",
       "                      [ 0.2285,  1.3357, -0.7880,  1.2720],\n",
       "                      [-0.6427, -0.9965,  0.0541, -0.4583],\n",
       "                      [ 1.9600,  0.3564, -0.6747,  1.1037],\n",
       "                      [ 0.2285,  1.3357, -0.7880,  1.2720],\n",
       "                      [-0.6427, -0.9965,  0.0541, -0.4583],\n",
       "                      [ 1.9600,  0.3564, -0.6747,  1.1037],\n",
       "                      [ 0.2285,  1.3357, -0.7880,  1.2720],\n",
       "                      [-0.6427, -0.9965,  0.0541, -0.4583],\n",
       "                      [ 1.9600,  0.3564, -0.6747,  1.1037],\n",
       "                      [ 0.2285,  1.3357, -0.7880,  1.2720],\n",
       "                      [-0.6427, -0.9965,  0.0541, -0.4583],\n",
       "                      [ 1.9600,  0.3564, -0.6747,  1.1037],\n",
       "                      [ 0.2285,  1.3357, -0.7880,  1.2720]]),\n",
       "       ),\n",
       "    a: tensor([[ 0.5512,  0.5236,  0.7612],\n",
       "               [-0.5946,  0.7371,  0.6732],\n",
       "               [ 0.5512,  0.5236,  0.7612],\n",
       "               [-0.5946,  0.7371,  0.6732],\n",
       "               [ 0.5512,  0.5236,  0.7612],\n",
       "               [-0.5946,  0.7371,  0.6732],\n",
       "               [ 0.5512,  0.5236,  0.7612],\n",
       "               [-0.5946,  0.7371,  0.6732],\n",
       "               [ 0.5512,  0.5236,  0.7612],\n",
       "               [-0.5946,  0.7371,  0.6732],\n",
       "               [ 0.5512,  0.5236,  0.7612],\n",
       "               [-0.5946,  0.7371,  0.6732],\n",
       "               [ 0.5512,  0.5236,  0.7612],\n",
       "               [-0.5946,  0.7371,  0.6732],\n",
       "               [ 0.5512,  0.5236,  0.7612],\n",
       "               [-0.5946,  0.7371,  0.6732]]),\n",
       ")"
      ]
     },
     "execution_count": 27,
     "metadata": {},
     "output_type": "execute_result"
    }
   ],
   "source": [
    "Batch.cat(batches)"
   ]
  },
  {
   "cell_type": "code",
   "execution_count": 28,
   "id": "18dfb045",
   "metadata": {
    "execution": {
     "iopub.execute_input": "2023-08-10T15:13:26.295032Z",
     "iopub.status.busy": "2023-08-10T15:13:26.294493Z",
     "iopub.status.idle": "2023-08-10T15:13:27.860346Z",
     "shell.execute_reply": "2023-08-10T15:13:27.859523Z"
    }
   },
   "outputs": [
    {
     "name": "stdout",
     "output_type": "stream",
     "text": [
      "185 µs ± 1.26 µs per loop (mean ± std. dev. of 7 runs, 1,000 loops each)\n"
     ]
    }
   ],
   "source": [
    "%timeit Batch.cat(batches)"
   ]
  },
  {
   "cell_type": "code",
   "execution_count": 29,
   "id": "c6688e51",
   "metadata": {
    "execution": {
     "iopub.execute_input": "2023-08-10T15:13:27.864717Z",
     "iopub.status.busy": "2023-08-10T15:13:27.863772Z",
     "iopub.status.idle": "2023-08-10T15:13:31.290928Z",
     "shell.execute_reply": "2023-08-10T15:13:31.289988Z"
    }
   },
   "outputs": [
    {
     "name": "stdout",
     "output_type": "stream",
     "text": [
      "420 µs ± 18.4 µs per loop (mean ± std. dev. of 7 runs, 1,000 loops each)\n"
     ]
    }
   ],
   "source": [
    "batch = Batch({\n",
    "    'obs': torch.randn(8, 4, 84, 84),\n",
    "    'action': torch.randint(0, 6, size=(8, 1,)),\n",
    "    'reward': torch.rand(8, 1)}\n",
    ")\n",
    "\n",
    "%timeit list(Batch.split(batch, 1, shuffle=False, merge_last=True))"
   ]
  },
  {
   "cell_type": "code",
   "execution_count": null,
   "id": "2539fbd9",
   "metadata": {},
   "outputs": [],
   "source": []
  }
 ],
 "metadata": {
  "kernelspec": {
   "display_name": "Python 3 (ipykernel)",
   "language": "python",
   "name": "python3"
  },
  "language_info": {
   "codemirror_mode": {
    "name": "ipython",
    "version": 3
   },
   "file_extension": ".py",
   "mimetype": "text/x-python",
   "name": "python",
   "nbconvert_exporter": "python",
   "pygments_lexer": "ipython3",
   "version": "3.8.17"
  }
 },
 "nbformat": 4,
 "nbformat_minor": 5
}
