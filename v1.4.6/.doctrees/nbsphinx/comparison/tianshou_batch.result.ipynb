{
 "cells": [
  {
   "cell_type": "markdown",
   "id": "9d39d946",
   "metadata": {},
   "source": [
    "# Comparison Between TreeValue and Tianshou Batch"
   ]
  },
  {
   "cell_type": "markdown",
   "id": "3c6db2d4",
   "metadata": {},
   "source": [
    "In this section, we will take a look at the feature and performance of the [Tianshou Batch](https://github.com/thu-ml/tianshou) library, which is developed by Tsinghua Machine Learning Group."
   ]
  },
  {
   "cell_type": "markdown",
   "id": "069361b0",
   "metadata": {},
   "source": [
    "Before starting the comparison, let us define some thing."
   ]
  },
  {
   "cell_type": "code",
   "execution_count": 1,
   "id": "06fc8d26",
   "metadata": {
    "execution": {
     "iopub.execute_input": "2023-03-06T10:30:27.174383Z",
     "iopub.status.busy": "2023-03-06T10:30:27.174089Z",
     "iopub.status.idle": "2023-03-06T10:30:28.401405Z",
     "shell.execute_reply": "2023-03-06T10:30:28.400429Z"
    }
   },
   "outputs": [
    {
     "name": "stderr",
     "output_type": "stream",
     "text": [
      "/opt/hostedtoolcache/Python/3.8.16/x64/lib/python3.8/site-packages/tqdm/auto.py:21: TqdmWarning: IProgress not found. Please update jupyter and ipywidgets. See https://ipywidgets.readthedocs.io/en/stable/user_install.html\n",
      "  from .autonotebook import tqdm as notebook_tqdm\n"
     ]
    }
   ],
   "source": [
    "import torch \n",
    "\n",
    "_TREE_DATA_1 = {'a': 1, 'b': 2, 'x': {'c': 3, 'd': 4}}\n",
    "_TREE_DATA_2 = {\n",
    "    'a': torch.randn(2, 3), \n",
    "    'x': {\n",
    "        'c': torch.randn(3, 4)\n",
    "    },\n",
    "}\n",
    "_TREE_DATA_3 = {\n",
    "    'obs': torch.randn(4, 84, 84),\n",
    "    'action': torch.randint(0, 6, size=(1,)),\n",
    "    'reward': torch.rand(1),\n",
    "}"
   ]
  },
  {
   "cell_type": "markdown",
   "id": "83461b25",
   "metadata": {},
   "source": [
    "## Read and Write Operation"
   ]
  },
  {
   "cell_type": "markdown",
   "id": "067b3f73",
   "metadata": {},
   "source": [
    "Reading and writing are the two most common operations in the tree data structure based on the data model (TreeValue and Tianshou Batch both belong to this type), so this section will compare the reading and writing performance of these two libraries."
   ]
  },
  {
   "cell_type": "markdown",
   "id": "5d09a5b7",
   "metadata": {},
   "source": [
    "### TreeValue's Get and Set"
   ]
  },
  {
   "cell_type": "code",
   "execution_count": 2,
   "id": "9519c4bb",
   "metadata": {
    "execution": {
     "iopub.execute_input": "2023-03-06T10:30:28.405918Z",
     "iopub.status.busy": "2023-03-06T10:30:28.405503Z",
     "iopub.status.idle": "2023-03-06T10:30:28.772704Z",
     "shell.execute_reply": "2023-03-06T10:30:28.771716Z"
    }
   },
   "outputs": [],
   "source": [
    "from treevalue import FastTreeValue\n",
    "\n",
    "t = FastTreeValue(_TREE_DATA_2)"
   ]
  },
  {
   "cell_type": "code",
   "execution_count": 3,
   "id": "11c37677",
   "metadata": {
    "execution": {
     "iopub.execute_input": "2023-03-06T10:30:28.777919Z",
     "iopub.status.busy": "2023-03-06T10:30:28.777503Z",
     "iopub.status.idle": "2023-03-06T10:30:28.792909Z",
     "shell.execute_reply": "2023-03-06T10:30:28.791882Z"
    }
   },
   "outputs": [
    {
     "data": {
      "text/plain": [
       "<FastTreeValue 0x7f62354729d0>\n",
       "├── 'a' --> tensor([[ 0.4736, -0.7705,  0.4701],\n",
       "│                   [ 1.1504, -0.0560,  0.7721]])\n",
       "└── 'x' --> <FastTreeValue 0x7f6235472d00>\n",
       "    └── 'c' --> tensor([[ 1.4792,  0.6494,  0.9899, -0.3853],\n",
       "                        [-1.1993, -0.0255, -0.7803, -0.1843],\n",
       "                        [-2.5944, -0.5409,  0.0834, -1.4254]])"
      ]
     },
     "execution_count": 3,
     "metadata": {},
     "output_type": "execute_result"
    }
   ],
   "source": [
    "t"
   ]
  },
  {
   "cell_type": "code",
   "execution_count": 4,
   "id": "fd70b0b9",
   "metadata": {
    "execution": {
     "iopub.execute_input": "2023-03-06T10:30:28.796343Z",
     "iopub.status.busy": "2023-03-06T10:30:28.796057Z",
     "iopub.status.idle": "2023-03-06T10:30:28.804324Z",
     "shell.execute_reply": "2023-03-06T10:30:28.803381Z"
    }
   },
   "outputs": [
    {
     "data": {
      "text/plain": [
       "tensor([[ 0.4736, -0.7705,  0.4701],\n",
       "        [ 1.1504, -0.0560,  0.7721]])"
      ]
     },
     "execution_count": 4,
     "metadata": {},
     "output_type": "execute_result"
    }
   ],
   "source": [
    "t.a"
   ]
  },
  {
   "cell_type": "code",
   "execution_count": 5,
   "id": "c18197bd",
   "metadata": {
    "execution": {
     "iopub.execute_input": "2023-03-06T10:30:28.808066Z",
     "iopub.status.busy": "2023-03-06T10:30:28.807704Z",
     "iopub.status.idle": "2023-03-06T10:30:34.340328Z",
     "shell.execute_reply": "2023-03-06T10:30:34.339422Z"
    }
   },
   "outputs": [
    {
     "name": "stdout",
     "output_type": "stream",
     "text": [
      "68.1 ns ± 2.48 ns per loop (mean ± std. dev. of 7 runs, 10,000,000 loops each)\n"
     ]
    }
   ],
   "source": [
    "%timeit t.a"
   ]
  },
  {
   "cell_type": "code",
   "execution_count": 6,
   "id": "bd52f867",
   "metadata": {
    "execution": {
     "iopub.execute_input": "2023-03-06T10:30:34.344414Z",
     "iopub.status.busy": "2023-03-06T10:30:34.343928Z",
     "iopub.status.idle": "2023-03-06T10:30:34.351980Z",
     "shell.execute_reply": "2023-03-06T10:30:34.351061Z"
    }
   },
   "outputs": [
    {
     "data": {
      "text/plain": [
       "<FastTreeValue 0x7f62354729d0>\n",
       "├── 'a' --> tensor([[-3.0722,  0.4149,  0.1779],\n",
       "│                   [ 1.3213, -1.4803, -1.8192]])\n",
       "└── 'x' --> <FastTreeValue 0x7f6235472d00>\n",
       "    └── 'c' --> tensor([[ 1.4792,  0.6494,  0.9899, -0.3853],\n",
       "                        [-1.1993, -0.0255, -0.7803, -0.1843],\n",
       "                        [-2.5944, -0.5409,  0.0834, -1.4254]])"
      ]
     },
     "execution_count": 6,
     "metadata": {},
     "output_type": "execute_result"
    }
   ],
   "source": [
    "new_value = torch.randn(2, 3)\n",
    "t.a = new_value\n",
    "\n",
    "t"
   ]
  },
  {
   "cell_type": "code",
   "execution_count": 7,
   "id": "bbe04d1c",
   "metadata": {
    "execution": {
     "iopub.execute_input": "2023-03-06T10:30:34.355387Z",
     "iopub.status.busy": "2023-03-06T10:30:34.354684Z",
     "iopub.status.idle": "2023-03-06T10:30:39.822283Z",
     "shell.execute_reply": "2023-03-06T10:30:39.821247Z"
    }
   },
   "outputs": [
    {
     "name": "stdout",
     "output_type": "stream",
     "text": [
      "67.8 ns ± 1.36 ns per loop (mean ± std. dev. of 7 runs, 10,000,000 loops each)\n"
     ]
    }
   ],
   "source": [
    "%timeit t.a = new_value"
   ]
  },
  {
   "cell_type": "markdown",
   "id": "48c49731",
   "metadata": {},
   "source": [
    "### Tianshou Batch's Get and Set"
   ]
  },
  {
   "cell_type": "code",
   "execution_count": 8,
   "id": "f1bb14c1",
   "metadata": {
    "execution": {
     "iopub.execute_input": "2023-03-06T10:30:39.826483Z",
     "iopub.status.busy": "2023-03-06T10:30:39.825546Z",
     "iopub.status.idle": "2023-03-06T10:30:40.250187Z",
     "shell.execute_reply": "2023-03-06T10:30:40.249049Z"
    }
   },
   "outputs": [],
   "source": [
    "from tianshou.data import Batch\n",
    "\n",
    "b = Batch(**_TREE_DATA_2)"
   ]
  },
  {
   "cell_type": "code",
   "execution_count": 9,
   "id": "cb0777c3",
   "metadata": {
    "execution": {
     "iopub.execute_input": "2023-03-06T10:30:40.254718Z",
     "iopub.status.busy": "2023-03-06T10:30:40.254178Z",
     "iopub.status.idle": "2023-03-06T10:30:40.263860Z",
     "shell.execute_reply": "2023-03-06T10:30:40.263068Z"
    }
   },
   "outputs": [
    {
     "data": {
      "text/plain": [
       "Batch(\n",
       "    a: tensor([[ 0.4736, -0.7705,  0.4701],\n",
       "               [ 1.1504, -0.0560,  0.7721]]),\n",
       "    x: Batch(\n",
       "           c: tensor([[ 1.4792,  0.6494,  0.9899, -0.3853],\n",
       "                      [-1.1993, -0.0255, -0.7803, -0.1843],\n",
       "                      [-2.5944, -0.5409,  0.0834, -1.4254]]),\n",
       "       ),\n",
       ")"
      ]
     },
     "execution_count": 9,
     "metadata": {},
     "output_type": "execute_result"
    }
   ],
   "source": [
    "b"
   ]
  },
  {
   "cell_type": "code",
   "execution_count": 10,
   "id": "43ef8ea3",
   "metadata": {
    "execution": {
     "iopub.execute_input": "2023-03-06T10:30:40.267459Z",
     "iopub.status.busy": "2023-03-06T10:30:40.267059Z",
     "iopub.status.idle": "2023-03-06T10:30:40.275285Z",
     "shell.execute_reply": "2023-03-06T10:30:40.274414Z"
    }
   },
   "outputs": [
    {
     "data": {
      "text/plain": [
       "tensor([[ 0.4736, -0.7705,  0.4701],\n",
       "        [ 1.1504, -0.0560,  0.7721]])"
      ]
     },
     "execution_count": 10,
     "metadata": {},
     "output_type": "execute_result"
    }
   ],
   "source": [
    "b.a"
   ]
  },
  {
   "cell_type": "code",
   "execution_count": 11,
   "id": "b785ab72",
   "metadata": {
    "execution": {
     "iopub.execute_input": "2023-03-06T10:30:40.279173Z",
     "iopub.status.busy": "2023-03-06T10:30:40.278565Z",
     "iopub.status.idle": "2023-03-06T10:30:45.958086Z",
     "shell.execute_reply": "2023-03-06T10:30:45.957055Z"
    }
   },
   "outputs": [
    {
     "name": "stdout",
     "output_type": "stream",
     "text": [
      "70.8 ns ± 0.938 ns per loop (mean ± std. dev. of 7 runs, 10,000,000 loops each)\n"
     ]
    }
   ],
   "source": [
    "%timeit b.a"
   ]
  },
  {
   "cell_type": "code",
   "execution_count": 12,
   "id": "ad54dc69",
   "metadata": {
    "execution": {
     "iopub.execute_input": "2023-03-06T10:30:45.963017Z",
     "iopub.status.busy": "2023-03-06T10:30:45.962150Z",
     "iopub.status.idle": "2023-03-06T10:30:45.971488Z",
     "shell.execute_reply": "2023-03-06T10:30:45.970364Z"
    }
   },
   "outputs": [
    {
     "data": {
      "text/plain": [
       "Batch(\n",
       "    a: tensor([[ 1.0534, -0.0865,  0.0902],\n",
       "               [-1.0882, -1.2013,  1.0959]]),\n",
       "    x: Batch(\n",
       "           c: tensor([[ 1.4792,  0.6494,  0.9899, -0.3853],\n",
       "                      [-1.1993, -0.0255, -0.7803, -0.1843],\n",
       "                      [-2.5944, -0.5409,  0.0834, -1.4254]]),\n",
       "       ),\n",
       ")"
      ]
     },
     "execution_count": 12,
     "metadata": {},
     "output_type": "execute_result"
    }
   ],
   "source": [
    "new_value = torch.randn(2, 3)\n",
    "b.a = new_value\n",
    "\n",
    "b"
   ]
  },
  {
   "cell_type": "code",
   "execution_count": 13,
   "id": "29b1d0bf",
   "metadata": {
    "execution": {
     "iopub.execute_input": "2023-03-06T10:30:45.975467Z",
     "iopub.status.busy": "2023-03-06T10:30:45.975102Z",
     "iopub.status.idle": "2023-03-06T10:30:50.882555Z",
     "shell.execute_reply": "2023-03-06T10:30:50.881092Z"
    }
   },
   "outputs": [
    {
     "name": "stdout",
     "output_type": "stream",
     "text": [
      "600 ns ± 8.54 ns per loop (mean ± std. dev. of 7 runs, 1,000,000 loops each)\n"
     ]
    }
   ],
   "source": [
    "%timeit b.a = new_value"
   ]
  },
  {
   "cell_type": "markdown",
   "id": "b61ad1d0",
   "metadata": {},
   "source": [
    "## Initialization"
   ]
  },
  {
   "cell_type": "markdown",
   "id": "d70f0d54",
   "metadata": {},
   "source": [
    "### TreeValue's Initialization"
   ]
  },
  {
   "cell_type": "code",
   "execution_count": 14,
   "id": "d32a679b",
   "metadata": {
    "execution": {
     "iopub.execute_input": "2023-03-06T10:30:50.886865Z",
     "iopub.status.busy": "2023-03-06T10:30:50.886588Z",
     "iopub.status.idle": "2023-03-06T10:30:58.410885Z",
     "shell.execute_reply": "2023-03-06T10:30:58.409746Z"
    }
   },
   "outputs": [
    {
     "name": "stdout",
     "output_type": "stream",
     "text": [
      "919 ns ± 9.94 ns per loop (mean ± std. dev. of 7 runs, 1,000,000 loops each)\n"
     ]
    }
   ],
   "source": [
    "%timeit FastTreeValue(_TREE_DATA_1)"
   ]
  },
  {
   "cell_type": "markdown",
   "id": "24f3707b",
   "metadata": {},
   "source": [
    "### Tianshou Batch's Initialization"
   ]
  },
  {
   "cell_type": "code",
   "execution_count": 15,
   "id": "ac3958df",
   "metadata": {
    "execution": {
     "iopub.execute_input": "2023-03-06T10:30:58.414967Z",
     "iopub.status.busy": "2023-03-06T10:30:58.414506Z",
     "iopub.status.idle": "2023-03-06T10:31:08.106830Z",
     "shell.execute_reply": "2023-03-06T10:31:08.105923Z"
    }
   },
   "outputs": [
    {
     "name": "stdout",
     "output_type": "stream",
     "text": [
      "11.9 µs ± 218 ns per loop (mean ± std. dev. of 7 runs, 100,000 loops each)\n"
     ]
    }
   ],
   "source": [
    "%timeit Batch(**_TREE_DATA_1)"
   ]
  },
  {
   "cell_type": "markdown",
   "id": "1ab82e2d",
   "metadata": {},
   "source": [
    "## Deep Copy Operation"
   ]
  },
  {
   "cell_type": "code",
   "execution_count": 16,
   "id": "210a9442",
   "metadata": {
    "execution": {
     "iopub.execute_input": "2023-03-06T10:31:08.110282Z",
     "iopub.status.busy": "2023-03-06T10:31:08.109857Z",
     "iopub.status.idle": "2023-03-06T10:31:08.115511Z",
     "shell.execute_reply": "2023-03-06T10:31:08.114531Z"
    }
   },
   "outputs": [],
   "source": [
    "import copy"
   ]
  },
  {
   "cell_type": "markdown",
   "id": "5a736274",
   "metadata": {},
   "source": [
    "### Deep Copy of TreeValue"
   ]
  },
  {
   "cell_type": "code",
   "execution_count": 17,
   "id": "f9bcadd6",
   "metadata": {
    "execution": {
     "iopub.execute_input": "2023-03-06T10:31:08.118652Z",
     "iopub.status.busy": "2023-03-06T10:31:08.118352Z",
     "iopub.status.idle": "2023-03-06T10:31:10.273305Z",
     "shell.execute_reply": "2023-03-06T10:31:10.272514Z"
    }
   },
   "outputs": [
    {
     "name": "stdout",
     "output_type": "stream",
     "text": [
      "266 µs ± 17.6 µs per loop (mean ± std. dev. of 7 runs, 1,000 loops each)\n"
     ]
    }
   ],
   "source": [
    "t3 = FastTreeValue(_TREE_DATA_3)\n",
    "%timeit copy.deepcopy(t3)"
   ]
  },
  {
   "cell_type": "markdown",
   "id": "bf8be7ea",
   "metadata": {},
   "source": [
    "### Deep Copy of Tianshou Batch"
   ]
  },
  {
   "cell_type": "code",
   "execution_count": 18,
   "id": "91998e6f",
   "metadata": {
    "execution": {
     "iopub.execute_input": "2023-03-06T10:31:10.277047Z",
     "iopub.status.busy": "2023-03-06T10:31:10.276495Z",
     "iopub.status.idle": "2023-03-06T10:31:12.439435Z",
     "shell.execute_reply": "2023-03-06T10:31:12.438486Z"
    }
   },
   "outputs": [
    {
     "name": "stdout",
     "output_type": "stream",
     "text": [
      "268 µs ± 14.9 µs per loop (mean ± std. dev. of 7 runs, 1,000 loops each)\n"
     ]
    }
   ],
   "source": [
    "b3 = Batch(**_TREE_DATA_3)\n",
    "%timeit copy.deepcopy(b3)"
   ]
  },
  {
   "cell_type": "markdown",
   "id": "223162fb",
   "metadata": {},
   "source": [
    "## Stack, Concat and Split Operation"
   ]
  },
  {
   "cell_type": "markdown",
   "id": "85fa4a73",
   "metadata": {},
   "source": [
    "### Performance of TreeValue"
   ]
  },
  {
   "cell_type": "code",
   "execution_count": 19,
   "id": "a0c2b697",
   "metadata": {
    "execution": {
     "iopub.execute_input": "2023-03-06T10:31:12.443840Z",
     "iopub.status.busy": "2023-03-06T10:31:12.443454Z",
     "iopub.status.idle": "2023-03-06T10:31:12.448406Z",
     "shell.execute_reply": "2023-03-06T10:31:12.447634Z"
    }
   },
   "outputs": [],
   "source": [
    "trees = [FastTreeValue(_TREE_DATA_2) for _ in range(8)]"
   ]
  },
  {
   "cell_type": "code",
   "execution_count": 20,
   "id": "017ea5a5",
   "metadata": {
    "execution": {
     "iopub.execute_input": "2023-03-06T10:31:12.451803Z",
     "iopub.status.busy": "2023-03-06T10:31:12.451543Z",
     "iopub.status.idle": "2023-03-06T10:31:12.463093Z",
     "shell.execute_reply": "2023-03-06T10:31:12.462258Z"
    }
   },
   "outputs": [
    {
     "data": {
      "text/plain": [
       "<FastTreeValue 0x7f62354728e0>\n",
       "├── 'a' --> tensor([[[ 0.4736, -0.7705,  0.4701],\n",
       "│                    [ 1.1504, -0.0560,  0.7721]],\n",
       "│           \n",
       "│                   [[ 0.4736, -0.7705,  0.4701],\n",
       "│                    [ 1.1504, -0.0560,  0.7721]],\n",
       "│           \n",
       "│                   [[ 0.4736, -0.7705,  0.4701],\n",
       "│                    [ 1.1504, -0.0560,  0.7721]],\n",
       "│           \n",
       "│                   [[ 0.4736, -0.7705,  0.4701],\n",
       "│                    [ 1.1504, -0.0560,  0.7721]],\n",
       "│           \n",
       "│                   [[ 0.4736, -0.7705,  0.4701],\n",
       "│                    [ 1.1504, -0.0560,  0.7721]],\n",
       "│           \n",
       "│                   [[ 0.4736, -0.7705,  0.4701],\n",
       "│                    [ 1.1504, -0.0560,  0.7721]],\n",
       "│           \n",
       "│                   [[ 0.4736, -0.7705,  0.4701],\n",
       "│                    [ 1.1504, -0.0560,  0.7721]],\n",
       "│           \n",
       "│                   [[ 0.4736, -0.7705,  0.4701],\n",
       "│                    [ 1.1504, -0.0560,  0.7721]]])\n",
       "└── 'x' --> <FastTreeValue 0x7f6235472d90>\n",
       "    └── 'c' --> tensor([[[ 1.4792,  0.6494,  0.9899, -0.3853],\n",
       "                         [-1.1993, -0.0255, -0.7803, -0.1843],\n",
       "                         [-2.5944, -0.5409,  0.0834, -1.4254]],\n",
       "                \n",
       "                        [[ 1.4792,  0.6494,  0.9899, -0.3853],\n",
       "                         [-1.1993, -0.0255, -0.7803, -0.1843],\n",
       "                         [-2.5944, -0.5409,  0.0834, -1.4254]],\n",
       "                \n",
       "                        [[ 1.4792,  0.6494,  0.9899, -0.3853],\n",
       "                         [-1.1993, -0.0255, -0.7803, -0.1843],\n",
       "                         [-2.5944, -0.5409,  0.0834, -1.4254]],\n",
       "                \n",
       "                        [[ 1.4792,  0.6494,  0.9899, -0.3853],\n",
       "                         [-1.1993, -0.0255, -0.7803, -0.1843],\n",
       "                         [-2.5944, -0.5409,  0.0834, -1.4254]],\n",
       "                \n",
       "                        [[ 1.4792,  0.6494,  0.9899, -0.3853],\n",
       "                         [-1.1993, -0.0255, -0.7803, -0.1843],\n",
       "                         [-2.5944, -0.5409,  0.0834, -1.4254]],\n",
       "                \n",
       "                        [[ 1.4792,  0.6494,  0.9899, -0.3853],\n",
       "                         [-1.1993, -0.0255, -0.7803, -0.1843],\n",
       "                         [-2.5944, -0.5409,  0.0834, -1.4254]],\n",
       "                \n",
       "                        [[ 1.4792,  0.6494,  0.9899, -0.3853],\n",
       "                         [-1.1993, -0.0255, -0.7803, -0.1843],\n",
       "                         [-2.5944, -0.5409,  0.0834, -1.4254]],\n",
       "                \n",
       "                        [[ 1.4792,  0.6494,  0.9899, -0.3853],\n",
       "                         [-1.1993, -0.0255, -0.7803, -0.1843],\n",
       "                         [-2.5944, -0.5409,  0.0834, -1.4254]]])"
      ]
     },
     "execution_count": 20,
     "metadata": {},
     "output_type": "execute_result"
    }
   ],
   "source": [
    "t_stack = FastTreeValue.func(subside=True)(torch.stack)\n",
    "\n",
    "t_stack(trees)"
   ]
  },
  {
   "cell_type": "code",
   "execution_count": 21,
   "id": "f8b3f415",
   "metadata": {
    "execution": {
     "iopub.execute_input": "2023-03-06T10:31:12.466673Z",
     "iopub.status.busy": "2023-03-06T10:31:12.466423Z",
     "iopub.status.idle": "2023-03-06T10:31:16.040606Z",
     "shell.execute_reply": "2023-03-06T10:31:16.039548Z"
    }
   },
   "outputs": [
    {
     "name": "stdout",
     "output_type": "stream",
     "text": [
      "43.9 µs ± 1.17 µs per loop (mean ± std. dev. of 7 runs, 10,000 loops each)\n"
     ]
    }
   ],
   "source": [
    "%timeit t_stack(trees)"
   ]
  },
  {
   "cell_type": "code",
   "execution_count": 22,
   "id": "94b56771",
   "metadata": {
    "execution": {
     "iopub.execute_input": "2023-03-06T10:31:16.044682Z",
     "iopub.status.busy": "2023-03-06T10:31:16.044376Z",
     "iopub.status.idle": "2023-03-06T10:31:16.057368Z",
     "shell.execute_reply": "2023-03-06T10:31:16.056085Z"
    }
   },
   "outputs": [
    {
     "data": {
      "text/plain": [
       "<FastTreeValue 0x7f62354c9be0>\n",
       "├── 'a' --> tensor([[ 0.4736, -0.7705,  0.4701],\n",
       "│                   [ 1.1504, -0.0560,  0.7721],\n",
       "│                   [ 0.4736, -0.7705,  0.4701],\n",
       "│                   [ 1.1504, -0.0560,  0.7721],\n",
       "│                   [ 0.4736, -0.7705,  0.4701],\n",
       "│                   [ 1.1504, -0.0560,  0.7721],\n",
       "│                   [ 0.4736, -0.7705,  0.4701],\n",
       "│                   [ 1.1504, -0.0560,  0.7721],\n",
       "│                   [ 0.4736, -0.7705,  0.4701],\n",
       "│                   [ 1.1504, -0.0560,  0.7721],\n",
       "│                   [ 0.4736, -0.7705,  0.4701],\n",
       "│                   [ 1.1504, -0.0560,  0.7721],\n",
       "│                   [ 0.4736, -0.7705,  0.4701],\n",
       "│                   [ 1.1504, -0.0560,  0.7721],\n",
       "│                   [ 0.4736, -0.7705,  0.4701],\n",
       "│                   [ 1.1504, -0.0560,  0.7721]])\n",
       "└── 'x' --> <FastTreeValue 0x7f6235472ee0>\n",
       "    └── 'c' --> tensor([[ 1.4792,  0.6494,  0.9899, -0.3853],\n",
       "                        [-1.1993, -0.0255, -0.7803, -0.1843],\n",
       "                        [-2.5944, -0.5409,  0.0834, -1.4254],\n",
       "                        [ 1.4792,  0.6494,  0.9899, -0.3853],\n",
       "                        [-1.1993, -0.0255, -0.7803, -0.1843],\n",
       "                        [-2.5944, -0.5409,  0.0834, -1.4254],\n",
       "                        [ 1.4792,  0.6494,  0.9899, -0.3853],\n",
       "                        [-1.1993, -0.0255, -0.7803, -0.1843],\n",
       "                        [-2.5944, -0.5409,  0.0834, -1.4254],\n",
       "                        [ 1.4792,  0.6494,  0.9899, -0.3853],\n",
       "                        [-1.1993, -0.0255, -0.7803, -0.1843],\n",
       "                        [-2.5944, -0.5409,  0.0834, -1.4254],\n",
       "                        [ 1.4792,  0.6494,  0.9899, -0.3853],\n",
       "                        [-1.1993, -0.0255, -0.7803, -0.1843],\n",
       "                        [-2.5944, -0.5409,  0.0834, -1.4254],\n",
       "                        [ 1.4792,  0.6494,  0.9899, -0.3853],\n",
       "                        [-1.1993, -0.0255, -0.7803, -0.1843],\n",
       "                        [-2.5944, -0.5409,  0.0834, -1.4254],\n",
       "                        [ 1.4792,  0.6494,  0.9899, -0.3853],\n",
       "                        [-1.1993, -0.0255, -0.7803, -0.1843],\n",
       "                        [-2.5944, -0.5409,  0.0834, -1.4254],\n",
       "                        [ 1.4792,  0.6494,  0.9899, -0.3853],\n",
       "                        [-1.1993, -0.0255, -0.7803, -0.1843],\n",
       "                        [-2.5944, -0.5409,  0.0834, -1.4254]])"
      ]
     },
     "execution_count": 22,
     "metadata": {},
     "output_type": "execute_result"
    }
   ],
   "source": [
    "t_cat = FastTreeValue.func(subside=True)(torch.cat)\n",
    "\n",
    "t_cat(trees)"
   ]
  },
  {
   "cell_type": "code",
   "execution_count": 23,
   "id": "5e9c06a6",
   "metadata": {
    "execution": {
     "iopub.execute_input": "2023-03-06T10:31:16.061206Z",
     "iopub.status.busy": "2023-03-06T10:31:16.060563Z",
     "iopub.status.idle": "2023-03-06T10:31:19.339793Z",
     "shell.execute_reply": "2023-03-06T10:31:19.338638Z"
    }
   },
   "outputs": [
    {
     "name": "stdout",
     "output_type": "stream",
     "text": [
      "40.5 µs ± 1.16 µs per loop (mean ± std. dev. of 7 runs, 10,000 loops each)\n"
     ]
    }
   ],
   "source": [
    "%timeit t_cat(trees)"
   ]
  },
  {
   "cell_type": "code",
   "execution_count": 24,
   "id": "a3ab5c8f",
   "metadata": {
    "execution": {
     "iopub.execute_input": "2023-03-06T10:31:19.343589Z",
     "iopub.status.busy": "2023-03-06T10:31:19.343102Z",
     "iopub.status.idle": "2023-03-06T10:31:25.603391Z",
     "shell.execute_reply": "2023-03-06T10:31:25.602110Z"
    }
   },
   "outputs": [
    {
     "name": "stdout",
     "output_type": "stream",
     "text": [
      "76.8 µs ± 1.4 µs per loop (mean ± std. dev. of 7 runs, 10,000 loops each)\n"
     ]
    }
   ],
   "source": [
    "t_split = FastTreeValue.func(rise=True)(torch.split)\n",
    "tree = FastTreeValue({\n",
    "    'obs': torch.randn(8, 4, 84, 84),\n",
    "    'action': torch.randint(0, 6, size=(8, 1,)),\n",
    "    'reward': torch.rand(8, 1),\n",
    "})\n",
    "\n",
    "%timeit t_split(tree, 1)"
   ]
  },
  {
   "cell_type": "markdown",
   "id": "31c3ec0b",
   "metadata": {},
   "source": [
    "### Performance of Tianshou Batch"
   ]
  },
  {
   "cell_type": "code",
   "execution_count": 25,
   "id": "9ead828a",
   "metadata": {
    "execution": {
     "iopub.execute_input": "2023-03-06T10:31:25.607140Z",
     "iopub.status.busy": "2023-03-06T10:31:25.606865Z",
     "iopub.status.idle": "2023-03-06T10:31:25.627745Z",
     "shell.execute_reply": "2023-03-06T10:31:25.617958Z"
    }
   },
   "outputs": [
    {
     "data": {
      "text/plain": [
       "Batch(\n",
       "    x: Batch(\n",
       "           c: tensor([[[ 1.4792,  0.6494,  0.9899, -0.3853],\n",
       "                       [-1.1993, -0.0255, -0.7803, -0.1843],\n",
       "                       [-2.5944, -0.5409,  0.0834, -1.4254]],\n",
       "              \n",
       "                      [[ 1.4792,  0.6494,  0.9899, -0.3853],\n",
       "                       [-1.1993, -0.0255, -0.7803, -0.1843],\n",
       "                       [-2.5944, -0.5409,  0.0834, -1.4254]],\n",
       "              \n",
       "                      [[ 1.4792,  0.6494,  0.9899, -0.3853],\n",
       "                       [-1.1993, -0.0255, -0.7803, -0.1843],\n",
       "                       [-2.5944, -0.5409,  0.0834, -1.4254]],\n",
       "              \n",
       "                      [[ 1.4792,  0.6494,  0.9899, -0.3853],\n",
       "                       [-1.1993, -0.0255, -0.7803, -0.1843],\n",
       "                       [-2.5944, -0.5409,  0.0834, -1.4254]],\n",
       "              \n",
       "                      [[ 1.4792,  0.6494,  0.9899, -0.3853],\n",
       "                       [-1.1993, -0.0255, -0.7803, -0.1843],\n",
       "                       [-2.5944, -0.5409,  0.0834, -1.4254]],\n",
       "              \n",
       "                      [[ 1.4792,  0.6494,  0.9899, -0.3853],\n",
       "                       [-1.1993, -0.0255, -0.7803, -0.1843],\n",
       "                       [-2.5944, -0.5409,  0.0834, -1.4254]],\n",
       "              \n",
       "                      [[ 1.4792,  0.6494,  0.9899, -0.3853],\n",
       "                       [-1.1993, -0.0255, -0.7803, -0.1843],\n",
       "                       [-2.5944, -0.5409,  0.0834, -1.4254]],\n",
       "              \n",
       "                      [[ 1.4792,  0.6494,  0.9899, -0.3853],\n",
       "                       [-1.1993, -0.0255, -0.7803, -0.1843],\n",
       "                       [-2.5944, -0.5409,  0.0834, -1.4254]]]),\n",
       "       ),\n",
       "    a: tensor([[[ 0.4736, -0.7705,  0.4701],\n",
       "                [ 1.1504, -0.0560,  0.7721]],\n",
       "       \n",
       "               [[ 0.4736, -0.7705,  0.4701],\n",
       "                [ 1.1504, -0.0560,  0.7721]],\n",
       "       \n",
       "               [[ 0.4736, -0.7705,  0.4701],\n",
       "                [ 1.1504, -0.0560,  0.7721]],\n",
       "       \n",
       "               [[ 0.4736, -0.7705,  0.4701],\n",
       "                [ 1.1504, -0.0560,  0.7721]],\n",
       "       \n",
       "               [[ 0.4736, -0.7705,  0.4701],\n",
       "                [ 1.1504, -0.0560,  0.7721]],\n",
       "       \n",
       "               [[ 0.4736, -0.7705,  0.4701],\n",
       "                [ 1.1504, -0.0560,  0.7721]],\n",
       "       \n",
       "               [[ 0.4736, -0.7705,  0.4701],\n",
       "                [ 1.1504, -0.0560,  0.7721]],\n",
       "       \n",
       "               [[ 0.4736, -0.7705,  0.4701],\n",
       "                [ 1.1504, -0.0560,  0.7721]]]),\n",
       ")"
      ]
     },
     "execution_count": 25,
     "metadata": {},
     "output_type": "execute_result"
    }
   ],
   "source": [
    "batches = [Batch(**_TREE_DATA_2) for _ in range(8)]\n",
    "\n",
    "Batch.stack(batches)"
   ]
  },
  {
   "cell_type": "code",
   "execution_count": 26,
   "id": "ec9037a3",
   "metadata": {
    "execution": {
     "iopub.execute_input": "2023-03-06T10:31:25.631049Z",
     "iopub.status.busy": "2023-03-06T10:31:25.630785Z",
     "iopub.status.idle": "2023-03-06T10:31:36.994560Z",
     "shell.execute_reply": "2023-03-06T10:31:36.993583Z"
    }
   },
   "outputs": [
    {
     "name": "stdout",
     "output_type": "stream",
     "text": [
      "139 µs ± 3.28 µs per loop (mean ± std. dev. of 7 runs, 10,000 loops each)\n"
     ]
    }
   ],
   "source": [
    "%timeit Batch.stack(batches)"
   ]
  },
  {
   "cell_type": "code",
   "execution_count": 27,
   "id": "cb8ab77e",
   "metadata": {
    "execution": {
     "iopub.execute_input": "2023-03-06T10:31:36.998715Z",
     "iopub.status.busy": "2023-03-06T10:31:36.998243Z",
     "iopub.status.idle": "2023-03-06T10:31:37.007056Z",
     "shell.execute_reply": "2023-03-06T10:31:37.006105Z"
    }
   },
   "outputs": [
    {
     "data": {
      "text/plain": [
       "Batch(\n",
       "    x: Batch(\n",
       "           c: tensor([[ 1.4792,  0.6494,  0.9899, -0.3853],\n",
       "                      [-1.1993, -0.0255, -0.7803, -0.1843],\n",
       "                      [-2.5944, -0.5409,  0.0834, -1.4254],\n",
       "                      [ 1.4792,  0.6494,  0.9899, -0.3853],\n",
       "                      [-1.1993, -0.0255, -0.7803, -0.1843],\n",
       "                      [-2.5944, -0.5409,  0.0834, -1.4254],\n",
       "                      [ 1.4792,  0.6494,  0.9899, -0.3853],\n",
       "                      [-1.1993, -0.0255, -0.7803, -0.1843],\n",
       "                      [-2.5944, -0.5409,  0.0834, -1.4254],\n",
       "                      [ 1.4792,  0.6494,  0.9899, -0.3853],\n",
       "                      [-1.1993, -0.0255, -0.7803, -0.1843],\n",
       "                      [-2.5944, -0.5409,  0.0834, -1.4254],\n",
       "                      [ 1.4792,  0.6494,  0.9899, -0.3853],\n",
       "                      [-1.1993, -0.0255, -0.7803, -0.1843],\n",
       "                      [-2.5944, -0.5409,  0.0834, -1.4254],\n",
       "                      [ 1.4792,  0.6494,  0.9899, -0.3853],\n",
       "                      [-1.1993, -0.0255, -0.7803, -0.1843],\n",
       "                      [-2.5944, -0.5409,  0.0834, -1.4254],\n",
       "                      [ 1.4792,  0.6494,  0.9899, -0.3853],\n",
       "                      [-1.1993, -0.0255, -0.7803, -0.1843],\n",
       "                      [-2.5944, -0.5409,  0.0834, -1.4254],\n",
       "                      [ 1.4792,  0.6494,  0.9899, -0.3853],\n",
       "                      [-1.1993, -0.0255, -0.7803, -0.1843],\n",
       "                      [-2.5944, -0.5409,  0.0834, -1.4254]]),\n",
       "       ),\n",
       "    a: tensor([[ 0.4736, -0.7705,  0.4701],\n",
       "               [ 1.1504, -0.0560,  0.7721],\n",
       "               [ 0.4736, -0.7705,  0.4701],\n",
       "               [ 1.1504, -0.0560,  0.7721],\n",
       "               [ 0.4736, -0.7705,  0.4701],\n",
       "               [ 1.1504, -0.0560,  0.7721],\n",
       "               [ 0.4736, -0.7705,  0.4701],\n",
       "               [ 1.1504, -0.0560,  0.7721],\n",
       "               [ 0.4736, -0.7705,  0.4701],\n",
       "               [ 1.1504, -0.0560,  0.7721],\n",
       "               [ 0.4736, -0.7705,  0.4701],\n",
       "               [ 1.1504, -0.0560,  0.7721],\n",
       "               [ 0.4736, -0.7705,  0.4701],\n",
       "               [ 1.1504, -0.0560,  0.7721],\n",
       "               [ 0.4736, -0.7705,  0.4701],\n",
       "               [ 1.1504, -0.0560,  0.7721]]),\n",
       ")"
      ]
     },
     "execution_count": 27,
     "metadata": {},
     "output_type": "execute_result"
    }
   ],
   "source": [
    "Batch.cat(batches)"
   ]
  },
  {
   "cell_type": "code",
   "execution_count": 28,
   "id": "18dfb045",
   "metadata": {
    "execution": {
     "iopub.execute_input": "2023-03-06T10:31:37.010232Z",
     "iopub.status.busy": "2023-03-06T10:31:37.009943Z",
     "iopub.status.idle": "2023-03-06T10:31:38.825898Z",
     "shell.execute_reply": "2023-03-06T10:31:38.824766Z"
    }
   },
   "outputs": [
    {
     "name": "stdout",
     "output_type": "stream",
     "text": [
      "223 µs ± 5.88 µs per loop (mean ± std. dev. of 7 runs, 1,000 loops each)\n"
     ]
    }
   ],
   "source": [
    "%timeit Batch.cat(batches)"
   ]
  },
  {
   "cell_type": "code",
   "execution_count": 29,
   "id": "c6688e51",
   "metadata": {
    "execution": {
     "iopub.execute_input": "2023-03-06T10:31:38.829302Z",
     "iopub.status.busy": "2023-03-06T10:31:38.828830Z",
     "iopub.status.idle": "2023-03-06T10:31:43.181022Z",
     "shell.execute_reply": "2023-03-06T10:31:43.180120Z"
    }
   },
   "outputs": [
    {
     "name": "stdout",
     "output_type": "stream",
     "text": [
      "535 µs ± 13.2 µs per loop (mean ± std. dev. of 7 runs, 1,000 loops each)\n"
     ]
    }
   ],
   "source": [
    "batch = Batch({\n",
    "    'obs': torch.randn(8, 4, 84, 84),\n",
    "    'action': torch.randint(0, 6, size=(8, 1,)),\n",
    "    'reward': torch.rand(8, 1)}\n",
    ")\n",
    "\n",
    "%timeit list(Batch.split(batch, 1, shuffle=False, merge_last=True))"
   ]
  },
  {
   "cell_type": "code",
   "execution_count": null,
   "id": "2539fbd9",
   "metadata": {},
   "outputs": [],
   "source": []
  }
 ],
 "metadata": {
  "kernelspec": {
   "display_name": "Python 3 (ipykernel)",
   "language": "python",
   "name": "python3"
  },
  "language_info": {
   "codemirror_mode": {
    "name": "ipython",
    "version": 3
   },
   "file_extension": ".py",
   "mimetype": "text/x-python",
   "name": "python",
   "nbconvert_exporter": "python",
   "pygments_lexer": "ipython3",
   "version": "3.8.16"
  }
 },
 "nbformat": 4,
 "nbformat_minor": 5
}
