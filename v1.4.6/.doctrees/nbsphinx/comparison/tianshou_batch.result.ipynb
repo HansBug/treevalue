{
 "cells": [
  {
   "cell_type": "markdown",
   "id": "9d39d946",
   "metadata": {},
   "source": [
    "# Comparison Between TreeValue and Tianshou Batch"
   ]
  },
  {
   "cell_type": "markdown",
   "id": "3c6db2d4",
   "metadata": {},
   "source": [
    "In this section, we will take a look at the feature and performance of the [Tianshou Batch](https://github.com/thu-ml/tianshou) library, which is developed by Tsinghua Machine Learning Group."
   ]
  },
  {
   "cell_type": "markdown",
   "id": "069361b0",
   "metadata": {},
   "source": [
    "Before starting the comparison, let us define some thing."
   ]
  },
  {
   "cell_type": "code",
   "execution_count": 1,
   "id": "06fc8d26",
   "metadata": {
    "execution": {
     "iopub.execute_input": "2023-02-27T11:00:07.848797Z",
     "iopub.status.busy": "2023-02-27T11:00:07.848198Z",
     "iopub.status.idle": "2023-02-27T11:00:08.891411Z",
     "shell.execute_reply": "2023-02-27T11:00:08.890582Z"
    }
   },
   "outputs": [
    {
     "name": "stderr",
     "output_type": "stream",
     "text": [
      "/opt/hostedtoolcache/Python/3.8.16/x64/lib/python3.8/site-packages/tqdm/auto.py:22: TqdmWarning: IProgress not found. Please update jupyter and ipywidgets. See https://ipywidgets.readthedocs.io/en/stable/user_install.html\n",
      "  from .autonotebook import tqdm as notebook_tqdm\n"
     ]
    }
   ],
   "source": [
    "import torch \n",
    "\n",
    "_TREE_DATA_1 = {'a': 1, 'b': 2, 'x': {'c': 3, 'd': 4}}\n",
    "_TREE_DATA_2 = {\n",
    "    'a': torch.randn(2, 3), \n",
    "    'x': {\n",
    "        'c': torch.randn(3, 4)\n",
    "    },\n",
    "}\n",
    "_TREE_DATA_3 = {\n",
    "    'obs': torch.randn(4, 84, 84),\n",
    "    'action': torch.randint(0, 6, size=(1,)),\n",
    "    'reward': torch.rand(1),\n",
    "}"
   ]
  },
  {
   "cell_type": "markdown",
   "id": "83461b25",
   "metadata": {},
   "source": [
    "## Read and Write Operation"
   ]
  },
  {
   "cell_type": "markdown",
   "id": "067b3f73",
   "metadata": {},
   "source": [
    "Reading and writing are the two most common operations in the tree data structure based on the data model (TreeValue and Tianshou Batch both belong to this type), so this section will compare the reading and writing performance of these two libraries."
   ]
  },
  {
   "cell_type": "markdown",
   "id": "5d09a5b7",
   "metadata": {},
   "source": [
    "### TreeValue's Get and Set"
   ]
  },
  {
   "cell_type": "code",
   "execution_count": 2,
   "id": "9519c4bb",
   "metadata": {
    "execution": {
     "iopub.execute_input": "2023-02-27T11:00:08.895545Z",
     "iopub.status.busy": "2023-02-27T11:00:08.895011Z",
     "iopub.status.idle": "2023-02-27T11:00:09.201167Z",
     "shell.execute_reply": "2023-02-27T11:00:09.200334Z"
    }
   },
   "outputs": [],
   "source": [
    "from treevalue import FastTreeValue\n",
    "\n",
    "t = FastTreeValue(_TREE_DATA_2)"
   ]
  },
  {
   "cell_type": "code",
   "execution_count": 3,
   "id": "11c37677",
   "metadata": {
    "execution": {
     "iopub.execute_input": "2023-02-27T11:00:09.205374Z",
     "iopub.status.busy": "2023-02-27T11:00:09.204805Z",
     "iopub.status.idle": "2023-02-27T11:00:09.215308Z",
     "shell.execute_reply": "2023-02-27T11:00:09.214627Z"
    }
   },
   "outputs": [
    {
     "data": {
      "text/plain": [
       "<FastTreeValue 0x7fd3ecb61d60>\n",
       "├── 'a' --> tensor([[-1.5201,  0.3167, -0.5673],\n",
       "│                   [-0.4560, -0.7056,  1.3035]])\n",
       "└── 'x' --> <FastTreeValue 0x7fd3ecbcd130>\n",
       "    └── 'c' --> tensor([[ 0.1531,  0.4366, -0.5599, -0.4469],\n",
       "                        [ 1.2017,  1.1118, -1.0696,  0.1021],\n",
       "                        [-1.2450, -0.8708, -0.1355, -2.3264]])"
      ]
     },
     "execution_count": 3,
     "metadata": {},
     "output_type": "execute_result"
    }
   ],
   "source": [
    "t"
   ]
  },
  {
   "cell_type": "code",
   "execution_count": 4,
   "id": "fd70b0b9",
   "metadata": {
    "execution": {
     "iopub.execute_input": "2023-02-27T11:00:09.218842Z",
     "iopub.status.busy": "2023-02-27T11:00:09.218228Z",
     "iopub.status.idle": "2023-02-27T11:00:09.225145Z",
     "shell.execute_reply": "2023-02-27T11:00:09.224505Z"
    }
   },
   "outputs": [
    {
     "data": {
      "text/plain": [
       "tensor([[-1.5201,  0.3167, -0.5673],\n",
       "        [-0.4560, -0.7056,  1.3035]])"
      ]
     },
     "execution_count": 4,
     "metadata": {},
     "output_type": "execute_result"
    }
   ],
   "source": [
    "t.a"
   ]
  },
  {
   "cell_type": "code",
   "execution_count": 5,
   "id": "c18197bd",
   "metadata": {
    "execution": {
     "iopub.execute_input": "2023-02-27T11:00:09.228167Z",
     "iopub.status.busy": "2023-02-27T11:00:09.227791Z",
     "iopub.status.idle": "2023-02-27T11:00:14.403429Z",
     "shell.execute_reply": "2023-02-27T11:00:14.402560Z"
    }
   },
   "outputs": [
    {
     "name": "stdout",
     "output_type": "stream",
     "text": [
      "63.7 ns ± 0.035 ns per loop (mean ± std. dev. of 7 runs, 10,000,000 loops each)\n"
     ]
    }
   ],
   "source": [
    "%timeit t.a"
   ]
  },
  {
   "cell_type": "code",
   "execution_count": 6,
   "id": "bd52f867",
   "metadata": {
    "execution": {
     "iopub.execute_input": "2023-02-27T11:00:14.407118Z",
     "iopub.status.busy": "2023-02-27T11:00:14.406706Z",
     "iopub.status.idle": "2023-02-27T11:00:14.413802Z",
     "shell.execute_reply": "2023-02-27T11:00:14.413091Z"
    }
   },
   "outputs": [
    {
     "data": {
      "text/plain": [
       "<FastTreeValue 0x7fd3ecb61d60>\n",
       "├── 'a' --> tensor([[ 1.1439,  0.9304,  0.3507],\n",
       "│                   [-0.4510,  0.3112,  0.1476]])\n",
       "└── 'x' --> <FastTreeValue 0x7fd3ecbcd130>\n",
       "    └── 'c' --> tensor([[ 0.1531,  0.4366, -0.5599, -0.4469],\n",
       "                        [ 1.2017,  1.1118, -1.0696,  0.1021],\n",
       "                        [-1.2450, -0.8708, -0.1355, -2.3264]])"
      ]
     },
     "execution_count": 6,
     "metadata": {},
     "output_type": "execute_result"
    }
   ],
   "source": [
    "new_value = torch.randn(2, 3)\n",
    "t.a = new_value\n",
    "\n",
    "t"
   ]
  },
  {
   "cell_type": "code",
   "execution_count": 7,
   "id": "bbe04d1c",
   "metadata": {
    "execution": {
     "iopub.execute_input": "2023-02-27T11:00:14.416828Z",
     "iopub.status.busy": "2023-02-27T11:00:14.416399Z",
     "iopub.status.idle": "2023-02-27T11:00:19.814040Z",
     "shell.execute_reply": "2023-02-27T11:00:19.813169Z"
    }
   },
   "outputs": [
    {
     "name": "stdout",
     "output_type": "stream",
     "text": [
      "66.4 ns ± 0.12 ns per loop (mean ± std. dev. of 7 runs, 10,000,000 loops each)\n"
     ]
    }
   ],
   "source": [
    "%timeit t.a = new_value"
   ]
  },
  {
   "cell_type": "markdown",
   "id": "48c49731",
   "metadata": {},
   "source": [
    "### Tianshou Batch's Get and Set"
   ]
  },
  {
   "cell_type": "code",
   "execution_count": 8,
   "id": "f1bb14c1",
   "metadata": {
    "execution": {
     "iopub.execute_input": "2023-02-27T11:00:19.817717Z",
     "iopub.status.busy": "2023-02-27T11:00:19.817132Z",
     "iopub.status.idle": "2023-02-27T11:00:20.207519Z",
     "shell.execute_reply": "2023-02-27T11:00:20.206693Z"
    }
   },
   "outputs": [],
   "source": [
    "from tianshou.data import Batch\n",
    "\n",
    "b = Batch(**_TREE_DATA_2)"
   ]
  },
  {
   "cell_type": "code",
   "execution_count": 9,
   "id": "cb0777c3",
   "metadata": {
    "execution": {
     "iopub.execute_input": "2023-02-27T11:00:20.211866Z",
     "iopub.status.busy": "2023-02-27T11:00:20.211140Z",
     "iopub.status.idle": "2023-02-27T11:00:20.217447Z",
     "shell.execute_reply": "2023-02-27T11:00:20.216746Z"
    }
   },
   "outputs": [
    {
     "data": {
      "text/plain": [
       "Batch(\n",
       "    a: tensor([[-1.5201,  0.3167, -0.5673],\n",
       "               [-0.4560, -0.7056,  1.3035]]),\n",
       "    x: Batch(\n",
       "           c: tensor([[ 0.1531,  0.4366, -0.5599, -0.4469],\n",
       "                      [ 1.2017,  1.1118, -1.0696,  0.1021],\n",
       "                      [-1.2450, -0.8708, -0.1355, -2.3264]]),\n",
       "       ),\n",
       ")"
      ]
     },
     "execution_count": 9,
     "metadata": {},
     "output_type": "execute_result"
    }
   ],
   "source": [
    "b"
   ]
  },
  {
   "cell_type": "code",
   "execution_count": 10,
   "id": "43ef8ea3",
   "metadata": {
    "execution": {
     "iopub.execute_input": "2023-02-27T11:00:20.220620Z",
     "iopub.status.busy": "2023-02-27T11:00:20.220040Z",
     "iopub.status.idle": "2023-02-27T11:00:20.225172Z",
     "shell.execute_reply": "2023-02-27T11:00:20.224483Z"
    }
   },
   "outputs": [
    {
     "data": {
      "text/plain": [
       "tensor([[-1.5201,  0.3167, -0.5673],\n",
       "        [-0.4560, -0.7056,  1.3035]])"
      ]
     },
     "execution_count": 10,
     "metadata": {},
     "output_type": "execute_result"
    }
   ],
   "source": [
    "b.a"
   ]
  },
  {
   "cell_type": "code",
   "execution_count": 11,
   "id": "b785ab72",
   "metadata": {
    "execution": {
     "iopub.execute_input": "2023-02-27T11:00:20.227957Z",
     "iopub.status.busy": "2023-02-27T11:00:20.227511Z",
     "iopub.status.idle": "2023-02-27T11:00:25.120182Z",
     "shell.execute_reply": "2023-02-27T11:00:25.119277Z"
    }
   },
   "outputs": [
    {
     "name": "stdout",
     "output_type": "stream",
     "text": [
      "60.2 ns ± 0.0139 ns per loop (mean ± std. dev. of 7 runs, 10,000,000 loops each)\n"
     ]
    }
   ],
   "source": [
    "%timeit b.a"
   ]
  },
  {
   "cell_type": "code",
   "execution_count": 12,
   "id": "ad54dc69",
   "metadata": {
    "execution": {
     "iopub.execute_input": "2023-02-27T11:00:25.123734Z",
     "iopub.status.busy": "2023-02-27T11:00:25.123291Z",
     "iopub.status.idle": "2023-02-27T11:00:25.129985Z",
     "shell.execute_reply": "2023-02-27T11:00:25.129270Z"
    }
   },
   "outputs": [
    {
     "data": {
      "text/plain": [
       "Batch(\n",
       "    a: tensor([[ 1.1971,  0.3646,  0.5112],\n",
       "               [ 0.4454, -1.4249, -1.6989]]),\n",
       "    x: Batch(\n",
       "           c: tensor([[ 0.1531,  0.4366, -0.5599, -0.4469],\n",
       "                      [ 1.2017,  1.1118, -1.0696,  0.1021],\n",
       "                      [-1.2450, -0.8708, -0.1355, -2.3264]]),\n",
       "       ),\n",
       ")"
      ]
     },
     "execution_count": 12,
     "metadata": {},
     "output_type": "execute_result"
    }
   ],
   "source": [
    "new_value = torch.randn(2, 3)\n",
    "b.a = new_value\n",
    "\n",
    "b"
   ]
  },
  {
   "cell_type": "code",
   "execution_count": 13,
   "id": "29b1d0bf",
   "metadata": {
    "execution": {
     "iopub.execute_input": "2023-02-27T11:00:25.132976Z",
     "iopub.status.busy": "2023-02-27T11:00:25.132572Z",
     "iopub.status.idle": "2023-02-27T11:00:29.182149Z",
     "shell.execute_reply": "2023-02-27T11:00:29.181364Z"
    }
   },
   "outputs": [
    {
     "name": "stdout",
     "output_type": "stream",
     "text": [
      "498 ns ± 0.101 ns per loop (mean ± std. dev. of 7 runs, 1,000,000 loops each)\n"
     ]
    }
   ],
   "source": [
    "%timeit b.a = new_value"
   ]
  },
  {
   "cell_type": "markdown",
   "id": "b61ad1d0",
   "metadata": {},
   "source": [
    "## Initialization"
   ]
  },
  {
   "cell_type": "markdown",
   "id": "d70f0d54",
   "metadata": {},
   "source": [
    "### TreeValue's Initialization"
   ]
  },
  {
   "cell_type": "code",
   "execution_count": 14,
   "id": "d32a679b",
   "metadata": {
    "execution": {
     "iopub.execute_input": "2023-02-27T11:00:29.186033Z",
     "iopub.status.busy": "2023-02-27T11:00:29.185491Z",
     "iopub.status.idle": "2023-02-27T11:00:35.870285Z",
     "shell.execute_reply": "2023-02-27T11:00:35.869395Z"
    }
   },
   "outputs": [
    {
     "name": "stdout",
     "output_type": "stream",
     "text": [
      "825 ns ± 1.93 ns per loop (mean ± std. dev. of 7 runs, 1,000,000 loops each)\n"
     ]
    }
   ],
   "source": [
    "%timeit FastTreeValue(_TREE_DATA_1)"
   ]
  },
  {
   "cell_type": "markdown",
   "id": "24f3707b",
   "metadata": {},
   "source": [
    "### Tianshou Batch's Initialization"
   ]
  },
  {
   "cell_type": "code",
   "execution_count": 15,
   "id": "ac3958df",
   "metadata": {
    "execution": {
     "iopub.execute_input": "2023-02-27T11:00:35.873862Z",
     "iopub.status.busy": "2023-02-27T11:00:35.873362Z",
     "iopub.status.idle": "2023-02-27T11:00:44.698945Z",
     "shell.execute_reply": "2023-02-27T11:00:44.698069Z"
    }
   },
   "outputs": [
    {
     "name": "stdout",
     "output_type": "stream",
     "text": [
      "10.9 µs ± 19.2 ns per loop (mean ± std. dev. of 7 runs, 100,000 loops each)\n"
     ]
    }
   ],
   "source": [
    "%timeit Batch(**_TREE_DATA_1)"
   ]
  },
  {
   "cell_type": "markdown",
   "id": "1ab82e2d",
   "metadata": {},
   "source": [
    "## Deep Copy Operation"
   ]
  },
  {
   "cell_type": "code",
   "execution_count": 16,
   "id": "210a9442",
   "metadata": {
    "execution": {
     "iopub.execute_input": "2023-02-27T11:00:44.702488Z",
     "iopub.status.busy": "2023-02-27T11:00:44.701942Z",
     "iopub.status.idle": "2023-02-27T11:00:44.706462Z",
     "shell.execute_reply": "2023-02-27T11:00:44.705804Z"
    }
   },
   "outputs": [],
   "source": [
    "import copy"
   ]
  },
  {
   "cell_type": "markdown",
   "id": "5a736274",
   "metadata": {},
   "source": [
    "### Deep Copy of TreeValue"
   ]
  },
  {
   "cell_type": "code",
   "execution_count": 17,
   "id": "f9bcadd6",
   "metadata": {
    "execution": {
     "iopub.execute_input": "2023-02-27T11:00:44.709674Z",
     "iopub.status.busy": "2023-02-27T11:00:44.709283Z",
     "iopub.status.idle": "2023-02-27T11:00:56.526494Z",
     "shell.execute_reply": "2023-02-27T11:00:56.525729Z"
    }
   },
   "outputs": [
    {
     "name": "stdout",
     "output_type": "stream",
     "text": [
      "145 µs ± 1.49 µs per loop (mean ± std. dev. of 7 runs, 10,000 loops each)\n"
     ]
    }
   ],
   "source": [
    "t3 = FastTreeValue(_TREE_DATA_3)\n",
    "%timeit copy.deepcopy(t3)"
   ]
  },
  {
   "cell_type": "markdown",
   "id": "bf8be7ea",
   "metadata": {},
   "source": [
    "### Deep Copy of Tianshou Batch"
   ]
  },
  {
   "cell_type": "code",
   "execution_count": 18,
   "id": "91998e6f",
   "metadata": {
    "execution": {
     "iopub.execute_input": "2023-02-27T11:00:56.529937Z",
     "iopub.status.busy": "2023-02-27T11:00:56.529429Z",
     "iopub.status.idle": "2023-02-27T11:01:08.569955Z",
     "shell.execute_reply": "2023-02-27T11:01:08.569300Z"
    }
   },
   "outputs": [
    {
     "name": "stdout",
     "output_type": "stream",
     "text": [
      "148 µs ± 784 ns per loop (mean ± std. dev. of 7 runs, 10,000 loops each)\n"
     ]
    }
   ],
   "source": [
    "b3 = Batch(**_TREE_DATA_3)\n",
    "%timeit copy.deepcopy(b3)"
   ]
  },
  {
   "cell_type": "markdown",
   "id": "223162fb",
   "metadata": {},
   "source": [
    "## Stack, Concat and Split Operation"
   ]
  },
  {
   "cell_type": "markdown",
   "id": "85fa4a73",
   "metadata": {},
   "source": [
    "### Performance of TreeValue"
   ]
  },
  {
   "cell_type": "code",
   "execution_count": 19,
   "id": "a0c2b697",
   "metadata": {
    "execution": {
     "iopub.execute_input": "2023-02-27T11:01:08.573251Z",
     "iopub.status.busy": "2023-02-27T11:01:08.572707Z",
     "iopub.status.idle": "2023-02-27T11:01:08.576406Z",
     "shell.execute_reply": "2023-02-27T11:01:08.575824Z"
    }
   },
   "outputs": [],
   "source": [
    "trees = [FastTreeValue(_TREE_DATA_2) for _ in range(8)]"
   ]
  },
  {
   "cell_type": "code",
   "execution_count": 20,
   "id": "017ea5a5",
   "metadata": {
    "execution": {
     "iopub.execute_input": "2023-02-27T11:01:08.578973Z",
     "iopub.status.busy": "2023-02-27T11:01:08.578507Z",
     "iopub.status.idle": "2023-02-27T11:01:08.586101Z",
     "shell.execute_reply": "2023-02-27T11:01:08.585534Z"
    }
   },
   "outputs": [
    {
     "data": {
      "text/plain": [
       "<FastTreeValue 0x7fd3ecb61a00>\n",
       "├── 'a' --> tensor([[[-1.5201,  0.3167, -0.5673],\n",
       "│                    [-0.4560, -0.7056,  1.3035]],\n",
       "│           \n",
       "│                   [[-1.5201,  0.3167, -0.5673],\n",
       "│                    [-0.4560, -0.7056,  1.3035]],\n",
       "│           \n",
       "│                   [[-1.5201,  0.3167, -0.5673],\n",
       "│                    [-0.4560, -0.7056,  1.3035]],\n",
       "│           \n",
       "│                   [[-1.5201,  0.3167, -0.5673],\n",
       "│                    [-0.4560, -0.7056,  1.3035]],\n",
       "│           \n",
       "│                   [[-1.5201,  0.3167, -0.5673],\n",
       "│                    [-0.4560, -0.7056,  1.3035]],\n",
       "│           \n",
       "│                   [[-1.5201,  0.3167, -0.5673],\n",
       "│                    [-0.4560, -0.7056,  1.3035]],\n",
       "│           \n",
       "│                   [[-1.5201,  0.3167, -0.5673],\n",
       "│                    [-0.4560, -0.7056,  1.3035]],\n",
       "│           \n",
       "│                   [[-1.5201,  0.3167, -0.5673],\n",
       "│                    [-0.4560, -0.7056,  1.3035]]])\n",
       "└── 'x' --> <FastTreeValue 0x7fd3ecb61e20>\n",
       "    └── 'c' --> tensor([[[ 0.1531,  0.4366, -0.5599, -0.4469],\n",
       "                         [ 1.2017,  1.1118, -1.0696,  0.1021],\n",
       "                         [-1.2450, -0.8708, -0.1355, -2.3264]],\n",
       "                \n",
       "                        [[ 0.1531,  0.4366, -0.5599, -0.4469],\n",
       "                         [ 1.2017,  1.1118, -1.0696,  0.1021],\n",
       "                         [-1.2450, -0.8708, -0.1355, -2.3264]],\n",
       "                \n",
       "                        [[ 0.1531,  0.4366, -0.5599, -0.4469],\n",
       "                         [ 1.2017,  1.1118, -1.0696,  0.1021],\n",
       "                         [-1.2450, -0.8708, -0.1355, -2.3264]],\n",
       "                \n",
       "                        [[ 0.1531,  0.4366, -0.5599, -0.4469],\n",
       "                         [ 1.2017,  1.1118, -1.0696,  0.1021],\n",
       "                         [-1.2450, -0.8708, -0.1355, -2.3264]],\n",
       "                \n",
       "                        [[ 0.1531,  0.4366, -0.5599, -0.4469],\n",
       "                         [ 1.2017,  1.1118, -1.0696,  0.1021],\n",
       "                         [-1.2450, -0.8708, -0.1355, -2.3264]],\n",
       "                \n",
       "                        [[ 0.1531,  0.4366, -0.5599, -0.4469],\n",
       "                         [ 1.2017,  1.1118, -1.0696,  0.1021],\n",
       "                         [-1.2450, -0.8708, -0.1355, -2.3264]],\n",
       "                \n",
       "                        [[ 0.1531,  0.4366, -0.5599, -0.4469],\n",
       "                         [ 1.2017,  1.1118, -1.0696,  0.1021],\n",
       "                         [-1.2450, -0.8708, -0.1355, -2.3264]],\n",
       "                \n",
       "                        [[ 0.1531,  0.4366, -0.5599, -0.4469],\n",
       "                         [ 1.2017,  1.1118, -1.0696,  0.1021],\n",
       "                         [-1.2450, -0.8708, -0.1355, -2.3264]]])"
      ]
     },
     "execution_count": 20,
     "metadata": {},
     "output_type": "execute_result"
    }
   ],
   "source": [
    "t_stack = FastTreeValue.func(subside=True)(torch.stack)\n",
    "\n",
    "t_stack(trees)"
   ]
  },
  {
   "cell_type": "code",
   "execution_count": 21,
   "id": "f8b3f415",
   "metadata": {
    "execution": {
     "iopub.execute_input": "2023-02-27T11:01:08.588808Z",
     "iopub.status.busy": "2023-02-27T11:01:08.588324Z",
     "iopub.status.idle": "2023-02-27T11:01:11.170436Z",
     "shell.execute_reply": "2023-02-27T11:01:11.169538Z"
    }
   },
   "outputs": [
    {
     "name": "stdout",
     "output_type": "stream",
     "text": [
      "31.7 µs ± 99.1 ns per loop (mean ± std. dev. of 7 runs, 10,000 loops each)\n"
     ]
    }
   ],
   "source": [
    "%timeit t_stack(trees)"
   ]
  },
  {
   "cell_type": "code",
   "execution_count": 22,
   "id": "94b56771",
   "metadata": {
    "execution": {
     "iopub.execute_input": "2023-02-27T11:01:11.174636Z",
     "iopub.status.busy": "2023-02-27T11:01:11.173358Z",
     "iopub.status.idle": "2023-02-27T11:01:11.183368Z",
     "shell.execute_reply": "2023-02-27T11:01:11.182713Z"
    }
   },
   "outputs": [
    {
     "data": {
      "text/plain": [
       "<FastTreeValue 0x7fd335e6d8b0>\n",
       "├── 'a' --> tensor([[-1.5201,  0.3167, -0.5673],\n",
       "│                   [-0.4560, -0.7056,  1.3035],\n",
       "│                   [-1.5201,  0.3167, -0.5673],\n",
       "│                   [-0.4560, -0.7056,  1.3035],\n",
       "│                   [-1.5201,  0.3167, -0.5673],\n",
       "│                   [-0.4560, -0.7056,  1.3035],\n",
       "│                   [-1.5201,  0.3167, -0.5673],\n",
       "│                   [-0.4560, -0.7056,  1.3035],\n",
       "│                   [-1.5201,  0.3167, -0.5673],\n",
       "│                   [-0.4560, -0.7056,  1.3035],\n",
       "│                   [-1.5201,  0.3167, -0.5673],\n",
       "│                   [-0.4560, -0.7056,  1.3035],\n",
       "│                   [-1.5201,  0.3167, -0.5673],\n",
       "│                   [-0.4560, -0.7056,  1.3035],\n",
       "│                   [-1.5201,  0.3167, -0.5673],\n",
       "│                   [-0.4560, -0.7056,  1.3035]])\n",
       "└── 'x' --> <FastTreeValue 0x7fd335e6dee0>\n",
       "    └── 'c' --> tensor([[ 0.1531,  0.4366, -0.5599, -0.4469],\n",
       "                        [ 1.2017,  1.1118, -1.0696,  0.1021],\n",
       "                        [-1.2450, -0.8708, -0.1355, -2.3264],\n",
       "                        [ 0.1531,  0.4366, -0.5599, -0.4469],\n",
       "                        [ 1.2017,  1.1118, -1.0696,  0.1021],\n",
       "                        [-1.2450, -0.8708, -0.1355, -2.3264],\n",
       "                        [ 0.1531,  0.4366, -0.5599, -0.4469],\n",
       "                        [ 1.2017,  1.1118, -1.0696,  0.1021],\n",
       "                        [-1.2450, -0.8708, -0.1355, -2.3264],\n",
       "                        [ 0.1531,  0.4366, -0.5599, -0.4469],\n",
       "                        [ 1.2017,  1.1118, -1.0696,  0.1021],\n",
       "                        [-1.2450, -0.8708, -0.1355, -2.3264],\n",
       "                        [ 0.1531,  0.4366, -0.5599, -0.4469],\n",
       "                        [ 1.2017,  1.1118, -1.0696,  0.1021],\n",
       "                        [-1.2450, -0.8708, -0.1355, -2.3264],\n",
       "                        [ 0.1531,  0.4366, -0.5599, -0.4469],\n",
       "                        [ 1.2017,  1.1118, -1.0696,  0.1021],\n",
       "                        [-1.2450, -0.8708, -0.1355, -2.3264],\n",
       "                        [ 0.1531,  0.4366, -0.5599, -0.4469],\n",
       "                        [ 1.2017,  1.1118, -1.0696,  0.1021],\n",
       "                        [-1.2450, -0.8708, -0.1355, -2.3264],\n",
       "                        [ 0.1531,  0.4366, -0.5599, -0.4469],\n",
       "                        [ 1.2017,  1.1118, -1.0696,  0.1021],\n",
       "                        [-1.2450, -0.8708, -0.1355, -2.3264]])"
      ]
     },
     "execution_count": 22,
     "metadata": {},
     "output_type": "execute_result"
    }
   ],
   "source": [
    "t_cat = FastTreeValue.func(subside=True)(torch.cat)\n",
    "\n",
    "t_cat(trees)"
   ]
  },
  {
   "cell_type": "code",
   "execution_count": 23,
   "id": "5e9c06a6",
   "metadata": {
    "execution": {
     "iopub.execute_input": "2023-02-27T11:01:11.186417Z",
     "iopub.status.busy": "2023-02-27T11:01:11.186008Z",
     "iopub.status.idle": "2023-02-27T11:01:13.644336Z",
     "shell.execute_reply": "2023-02-27T11:01:13.642852Z"
    }
   },
   "outputs": [
    {
     "name": "stdout",
     "output_type": "stream",
     "text": [
      "30.2 µs ± 64.2 ns per loop (mean ± std. dev. of 7 runs, 10,000 loops each)\n"
     ]
    }
   ],
   "source": [
    "%timeit t_cat(trees)"
   ]
  },
  {
   "cell_type": "code",
   "execution_count": 24,
   "id": "a3ab5c8f",
   "metadata": {
    "execution": {
     "iopub.execute_input": "2023-02-27T11:01:13.647875Z",
     "iopub.status.busy": "2023-02-27T11:01:13.647440Z",
     "iopub.status.idle": "2023-02-27T11:01:18.325820Z",
     "shell.execute_reply": "2023-02-27T11:01:18.324921Z"
    }
   },
   "outputs": [
    {
     "name": "stdout",
     "output_type": "stream",
     "text": [
      "57.5 µs ± 62.1 ns per loop (mean ± std. dev. of 7 runs, 10,000 loops each)\n"
     ]
    }
   ],
   "source": [
    "t_split = FastTreeValue.func(rise=True)(torch.split)\n",
    "tree = FastTreeValue({\n",
    "    'obs': torch.randn(8, 4, 84, 84),\n",
    "    'action': torch.randint(0, 6, size=(8, 1,)),\n",
    "    'reward': torch.rand(8, 1),\n",
    "})\n",
    "\n",
    "%timeit t_split(tree, 1)"
   ]
  },
  {
   "cell_type": "markdown",
   "id": "31c3ec0b",
   "metadata": {},
   "source": [
    "### Performance of Tianshou Batch"
   ]
  },
  {
   "cell_type": "code",
   "execution_count": 25,
   "id": "9ead828a",
   "metadata": {
    "execution": {
     "iopub.execute_input": "2023-02-27T11:01:18.329569Z",
     "iopub.status.busy": "2023-02-27T11:01:18.329099Z",
     "iopub.status.idle": "2023-02-27T11:01:18.337816Z",
     "shell.execute_reply": "2023-02-27T11:01:18.337090Z"
    }
   },
   "outputs": [
    {
     "data": {
      "text/plain": [
       "Batch(\n",
       "    x: Batch(\n",
       "           c: tensor([[[ 0.1531,  0.4366, -0.5599, -0.4469],\n",
       "                       [ 1.2017,  1.1118, -1.0696,  0.1021],\n",
       "                       [-1.2450, -0.8708, -0.1355, -2.3264]],\n",
       "              \n",
       "                      [[ 0.1531,  0.4366, -0.5599, -0.4469],\n",
       "                       [ 1.2017,  1.1118, -1.0696,  0.1021],\n",
       "                       [-1.2450, -0.8708, -0.1355, -2.3264]],\n",
       "              \n",
       "                      [[ 0.1531,  0.4366, -0.5599, -0.4469],\n",
       "                       [ 1.2017,  1.1118, -1.0696,  0.1021],\n",
       "                       [-1.2450, -0.8708, -0.1355, -2.3264]],\n",
       "              \n",
       "                      [[ 0.1531,  0.4366, -0.5599, -0.4469],\n",
       "                       [ 1.2017,  1.1118, -1.0696,  0.1021],\n",
       "                       [-1.2450, -0.8708, -0.1355, -2.3264]],\n",
       "              \n",
       "                      [[ 0.1531,  0.4366, -0.5599, -0.4469],\n",
       "                       [ 1.2017,  1.1118, -1.0696,  0.1021],\n",
       "                       [-1.2450, -0.8708, -0.1355, -2.3264]],\n",
       "              \n",
       "                      [[ 0.1531,  0.4366, -0.5599, -0.4469],\n",
       "                       [ 1.2017,  1.1118, -1.0696,  0.1021],\n",
       "                       [-1.2450, -0.8708, -0.1355, -2.3264]],\n",
       "              \n",
       "                      [[ 0.1531,  0.4366, -0.5599, -0.4469],\n",
       "                       [ 1.2017,  1.1118, -1.0696,  0.1021],\n",
       "                       [-1.2450, -0.8708, -0.1355, -2.3264]],\n",
       "              \n",
       "                      [[ 0.1531,  0.4366, -0.5599, -0.4469],\n",
       "                       [ 1.2017,  1.1118, -1.0696,  0.1021],\n",
       "                       [-1.2450, -0.8708, -0.1355, -2.3264]]]),\n",
       "       ),\n",
       "    a: tensor([[[-1.5201,  0.3167, -0.5673],\n",
       "                [-0.4560, -0.7056,  1.3035]],\n",
       "       \n",
       "               [[-1.5201,  0.3167, -0.5673],\n",
       "                [-0.4560, -0.7056,  1.3035]],\n",
       "       \n",
       "               [[-1.5201,  0.3167, -0.5673],\n",
       "                [-0.4560, -0.7056,  1.3035]],\n",
       "       \n",
       "               [[-1.5201,  0.3167, -0.5673],\n",
       "                [-0.4560, -0.7056,  1.3035]],\n",
       "       \n",
       "               [[-1.5201,  0.3167, -0.5673],\n",
       "                [-0.4560, -0.7056,  1.3035]],\n",
       "       \n",
       "               [[-1.5201,  0.3167, -0.5673],\n",
       "                [-0.4560, -0.7056,  1.3035]],\n",
       "       \n",
       "               [[-1.5201,  0.3167, -0.5673],\n",
       "                [-0.4560, -0.7056,  1.3035]],\n",
       "       \n",
       "               [[-1.5201,  0.3167, -0.5673],\n",
       "                [-0.4560, -0.7056,  1.3035]]]),\n",
       ")"
      ]
     },
     "execution_count": 25,
     "metadata": {},
     "output_type": "execute_result"
    }
   ],
   "source": [
    "batches = [Batch(**_TREE_DATA_2) for _ in range(8)]\n",
    "\n",
    "Batch.stack(batches)"
   ]
  },
  {
   "cell_type": "code",
   "execution_count": 26,
   "id": "ec9037a3",
   "metadata": {
    "execution": {
     "iopub.execute_input": "2023-02-27T11:01:18.340815Z",
     "iopub.status.busy": "2023-02-27T11:01:18.340352Z",
     "iopub.status.idle": "2023-02-27T11:01:24.774985Z",
     "shell.execute_reply": "2023-02-27T11:01:24.774077Z"
    }
   },
   "outputs": [
    {
     "name": "stdout",
     "output_type": "stream",
     "text": [
      "79.2 µs ± 129 ns per loop (mean ± std. dev. of 7 runs, 10,000 loops each)\n"
     ]
    }
   ],
   "source": [
    "%timeit Batch.stack(batches)"
   ]
  },
  {
   "cell_type": "code",
   "execution_count": 27,
   "id": "cb8ab77e",
   "metadata": {
    "execution": {
     "iopub.execute_input": "2023-02-27T11:01:24.778859Z",
     "iopub.status.busy": "2023-02-27T11:01:24.778242Z",
     "iopub.status.idle": "2023-02-27T11:01:24.786362Z",
     "shell.execute_reply": "2023-02-27T11:01:24.785712Z"
    }
   },
   "outputs": [
    {
     "data": {
      "text/plain": [
       "Batch(\n",
       "    x: Batch(\n",
       "           c: tensor([[ 0.1531,  0.4366, -0.5599, -0.4469],\n",
       "                      [ 1.2017,  1.1118, -1.0696,  0.1021],\n",
       "                      [-1.2450, -0.8708, -0.1355, -2.3264],\n",
       "                      [ 0.1531,  0.4366, -0.5599, -0.4469],\n",
       "                      [ 1.2017,  1.1118, -1.0696,  0.1021],\n",
       "                      [-1.2450, -0.8708, -0.1355, -2.3264],\n",
       "                      [ 0.1531,  0.4366, -0.5599, -0.4469],\n",
       "                      [ 1.2017,  1.1118, -1.0696,  0.1021],\n",
       "                      [-1.2450, -0.8708, -0.1355, -2.3264],\n",
       "                      [ 0.1531,  0.4366, -0.5599, -0.4469],\n",
       "                      [ 1.2017,  1.1118, -1.0696,  0.1021],\n",
       "                      [-1.2450, -0.8708, -0.1355, -2.3264],\n",
       "                      [ 0.1531,  0.4366, -0.5599, -0.4469],\n",
       "                      [ 1.2017,  1.1118, -1.0696,  0.1021],\n",
       "                      [-1.2450, -0.8708, -0.1355, -2.3264],\n",
       "                      [ 0.1531,  0.4366, -0.5599, -0.4469],\n",
       "                      [ 1.2017,  1.1118, -1.0696,  0.1021],\n",
       "                      [-1.2450, -0.8708, -0.1355, -2.3264],\n",
       "                      [ 0.1531,  0.4366, -0.5599, -0.4469],\n",
       "                      [ 1.2017,  1.1118, -1.0696,  0.1021],\n",
       "                      [-1.2450, -0.8708, -0.1355, -2.3264],\n",
       "                      [ 0.1531,  0.4366, -0.5599, -0.4469],\n",
       "                      [ 1.2017,  1.1118, -1.0696,  0.1021],\n",
       "                      [-1.2450, -0.8708, -0.1355, -2.3264]]),\n",
       "       ),\n",
       "    a: tensor([[-1.5201,  0.3167, -0.5673],\n",
       "               [-0.4560, -0.7056,  1.3035],\n",
       "               [-1.5201,  0.3167, -0.5673],\n",
       "               [-0.4560, -0.7056,  1.3035],\n",
       "               [-1.5201,  0.3167, -0.5673],\n",
       "               [-0.4560, -0.7056,  1.3035],\n",
       "               [-1.5201,  0.3167, -0.5673],\n",
       "               [-0.4560, -0.7056,  1.3035],\n",
       "               [-1.5201,  0.3167, -0.5673],\n",
       "               [-0.4560, -0.7056,  1.3035],\n",
       "               [-1.5201,  0.3167, -0.5673],\n",
       "               [-0.4560, -0.7056,  1.3035],\n",
       "               [-1.5201,  0.3167, -0.5673],\n",
       "               [-0.4560, -0.7056,  1.3035],\n",
       "               [-1.5201,  0.3167, -0.5673],\n",
       "               [-0.4560, -0.7056,  1.3035]]),\n",
       ")"
      ]
     },
     "execution_count": 27,
     "metadata": {},
     "output_type": "execute_result"
    }
   ],
   "source": [
    "Batch.cat(batches)"
   ]
  },
  {
   "cell_type": "code",
   "execution_count": 28,
   "id": "18dfb045",
   "metadata": {
    "execution": {
     "iopub.execute_input": "2023-02-27T11:01:24.789757Z",
     "iopub.status.busy": "2023-02-27T11:01:24.789102Z",
     "iopub.status.idle": "2023-02-27T11:01:36.674803Z",
     "shell.execute_reply": "2023-02-27T11:01:36.673981Z"
    }
   },
   "outputs": [
    {
     "name": "stdout",
     "output_type": "stream",
     "text": [
      "147 µs ± 499 ns per loop (mean ± std. dev. of 7 runs, 10,000 loops each)\n"
     ]
    }
   ],
   "source": [
    "%timeit Batch.cat(batches)"
   ]
  },
  {
   "cell_type": "code",
   "execution_count": 29,
   "id": "c6688e51",
   "metadata": {
    "execution": {
     "iopub.execute_input": "2023-02-27T11:01:36.678499Z",
     "iopub.status.busy": "2023-02-27T11:01:36.677985Z",
     "iopub.status.idle": "2023-02-27T11:01:39.428828Z",
     "shell.execute_reply": "2023-02-27T11:01:39.428141Z"
    }
   },
   "outputs": [
    {
     "name": "stdout",
     "output_type": "stream",
     "text": [
      "338 µs ± 3.22 µs per loop (mean ± std. dev. of 7 runs, 1,000 loops each)\n"
     ]
    }
   ],
   "source": [
    "batch = Batch({\n",
    "    'obs': torch.randn(8, 4, 84, 84),\n",
    "    'action': torch.randint(0, 6, size=(8, 1,)),\n",
    "    'reward': torch.rand(8, 1)}\n",
    ")\n",
    "\n",
    "%timeit list(Batch.split(batch, 1, shuffle=False, merge_last=True))"
   ]
  },
  {
   "cell_type": "code",
   "execution_count": null,
   "id": "2539fbd9",
   "metadata": {},
   "outputs": [],
   "source": []
  }
 ],
 "metadata": {
  "kernelspec": {
   "display_name": "Python 3 (ipykernel)",
   "language": "python",
   "name": "python3"
  },
  "language_info": {
   "codemirror_mode": {
    "name": "ipython",
    "version": 3
   },
   "file_extension": ".py",
   "mimetype": "text/x-python",
   "name": "python",
   "nbconvert_exporter": "python",
   "pygments_lexer": "ipython3",
   "version": "3.8.16"
  }
 },
 "nbformat": 4,
 "nbformat_minor": 5
}
