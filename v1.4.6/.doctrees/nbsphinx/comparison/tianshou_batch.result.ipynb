{
 "cells": [
  {
   "cell_type": "markdown",
   "id": "9d39d946",
   "metadata": {},
   "source": [
    "# Comparison Between TreeValue and Tianshou Batch"
   ]
  },
  {
   "cell_type": "markdown",
   "id": "3c6db2d4",
   "metadata": {},
   "source": [
    "In this section, we will take a look at the feature and performance of the [Tianshou Batch](https://github.com/thu-ml/tianshou) library, which is developed by Tsinghua Machine Learning Group."
   ]
  },
  {
   "cell_type": "markdown",
   "id": "069361b0",
   "metadata": {},
   "source": [
    "Before starting the comparison, let us define some thing."
   ]
  },
  {
   "cell_type": "code",
   "execution_count": 1,
   "id": "06fc8d26",
   "metadata": {
    "execution": {
     "iopub.execute_input": "2023-08-10T04:44:41.916279Z",
     "iopub.status.busy": "2023-08-10T04:44:41.915699Z",
     "iopub.status.idle": "2023-08-10T04:44:43.567579Z",
     "shell.execute_reply": "2023-08-10T04:44:43.566437Z"
    }
   },
   "outputs": [],
   "source": [
    "import torch \n",
    "\n",
    "_TREE_DATA_1 = {'a': 1, 'b': 2, 'x': {'c': 3, 'd': 4}}\n",
    "_TREE_DATA_2 = {\n",
    "    'a': torch.randn(2, 3), \n",
    "    'x': {\n",
    "        'c': torch.randn(3, 4)\n",
    "    },\n",
    "}\n",
    "_TREE_DATA_3 = {\n",
    "    'obs': torch.randn(4, 84, 84),\n",
    "    'action': torch.randint(0, 6, size=(1,)),\n",
    "    'reward': torch.rand(1),\n",
    "}"
   ]
  },
  {
   "cell_type": "markdown",
   "id": "83461b25",
   "metadata": {},
   "source": [
    "## Read and Write Operation"
   ]
  },
  {
   "cell_type": "markdown",
   "id": "067b3f73",
   "metadata": {},
   "source": [
    "Reading and writing are the two most common operations in the tree data structure based on the data model (TreeValue and Tianshou Batch both belong to this type), so this section will compare the reading and writing performance of these two libraries."
   ]
  },
  {
   "cell_type": "markdown",
   "id": "5d09a5b7",
   "metadata": {},
   "source": [
    "### TreeValue's Get and Set"
   ]
  },
  {
   "cell_type": "code",
   "execution_count": 2,
   "id": "9519c4bb",
   "metadata": {
    "execution": {
     "iopub.execute_input": "2023-08-10T04:44:43.573605Z",
     "iopub.status.busy": "2023-08-10T04:44:43.573229Z",
     "iopub.status.idle": "2023-08-10T04:44:43.946234Z",
     "shell.execute_reply": "2023-08-10T04:44:43.945043Z"
    }
   },
   "outputs": [],
   "source": [
    "from treevalue import FastTreeValue\n",
    "\n",
    "t = FastTreeValue(_TREE_DATA_2)"
   ]
  },
  {
   "cell_type": "code",
   "execution_count": 3,
   "id": "11c37677",
   "metadata": {
    "execution": {
     "iopub.execute_input": "2023-08-10T04:44:43.951928Z",
     "iopub.status.busy": "2023-08-10T04:44:43.951362Z",
     "iopub.status.idle": "2023-08-10T04:44:43.961939Z",
     "shell.execute_reply": "2023-08-10T04:44:43.961082Z"
    }
   },
   "outputs": [
    {
     "data": {
      "text/plain": [
       "<FastTreeValue 0x7f889f312eb0>\n",
       "├── 'a' --> tensor([[-0.9196,  0.1779, -0.9184],\n",
       "│                   [ 1.7881, -0.5578, -0.4313]])\n",
       "└── 'x' --> <FastTreeValue 0x7f889f312af0>\n",
       "    └── 'c' --> tensor([[-0.1743, -0.3635, -1.5560, -0.5748],\n",
       "                        [ 1.0356,  1.4310, -0.9693, -0.7268],\n",
       "                        [-0.8567, -0.1880,  1.0227,  0.2682]])"
      ]
     },
     "execution_count": 3,
     "metadata": {},
     "output_type": "execute_result"
    }
   ],
   "source": [
    "t"
   ]
  },
  {
   "cell_type": "code",
   "execution_count": 4,
   "id": "fd70b0b9",
   "metadata": {
    "execution": {
     "iopub.execute_input": "2023-08-10T04:44:43.966445Z",
     "iopub.status.busy": "2023-08-10T04:44:43.965790Z",
     "iopub.status.idle": "2023-08-10T04:44:43.971908Z",
     "shell.execute_reply": "2023-08-10T04:44:43.971069Z"
    }
   },
   "outputs": [
    {
     "data": {
      "text/plain": [
       "tensor([[-0.9196,  0.1779, -0.9184],\n",
       "        [ 1.7881, -0.5578, -0.4313]])"
      ]
     },
     "execution_count": 4,
     "metadata": {},
     "output_type": "execute_result"
    }
   ],
   "source": [
    "t.a"
   ]
  },
  {
   "cell_type": "code",
   "execution_count": 5,
   "id": "c18197bd",
   "metadata": {
    "execution": {
     "iopub.execute_input": "2023-08-10T04:44:43.976349Z",
     "iopub.status.busy": "2023-08-10T04:44:43.975910Z",
     "iopub.status.idle": "2023-08-10T04:44:51.050080Z",
     "shell.execute_reply": "2023-08-10T04:44:51.048791Z"
    }
   },
   "outputs": [
    {
     "name": "stdout",
     "output_type": "stream",
     "text": [
      "87 ns ± 0.781 ns per loop (mean ± std. dev. of 7 runs, 10,000,000 loops each)\n"
     ]
    }
   ],
   "source": [
    "%timeit t.a"
   ]
  },
  {
   "cell_type": "code",
   "execution_count": 6,
   "id": "bd52f867",
   "metadata": {
    "execution": {
     "iopub.execute_input": "2023-08-10T04:44:51.055275Z",
     "iopub.status.busy": "2023-08-10T04:44:51.054472Z",
     "iopub.status.idle": "2023-08-10T04:44:51.062964Z",
     "shell.execute_reply": "2023-08-10T04:44:51.062037Z"
    }
   },
   "outputs": [
    {
     "data": {
      "text/plain": [
       "<FastTreeValue 0x7f889f312eb0>\n",
       "├── 'a' --> tensor([[ 0.8232,  0.0519,  0.9869],\n",
       "│                   [ 1.0352, -1.0332,  0.2767]])\n",
       "└── 'x' --> <FastTreeValue 0x7f889f312af0>\n",
       "    └── 'c' --> tensor([[-0.1743, -0.3635, -1.5560, -0.5748],\n",
       "                        [ 1.0356,  1.4310, -0.9693, -0.7268],\n",
       "                        [-0.8567, -0.1880,  1.0227,  0.2682]])"
      ]
     },
     "execution_count": 6,
     "metadata": {},
     "output_type": "execute_result"
    }
   ],
   "source": [
    "new_value = torch.randn(2, 3)\n",
    "t.a = new_value\n",
    "\n",
    "t"
   ]
  },
  {
   "cell_type": "code",
   "execution_count": 7,
   "id": "bbe04d1c",
   "metadata": {
    "execution": {
     "iopub.execute_input": "2023-08-10T04:44:51.066902Z",
     "iopub.status.busy": "2023-08-10T04:44:51.066426Z",
     "iopub.status.idle": "2023-08-10T04:44:58.031859Z",
     "shell.execute_reply": "2023-08-10T04:44:58.030586Z"
    }
   },
   "outputs": [
    {
     "name": "stdout",
     "output_type": "stream",
     "text": [
      "85.6 ns ± 1.18 ns per loop (mean ± std. dev. of 7 runs, 10,000,000 loops each)\n"
     ]
    }
   ],
   "source": [
    "%timeit t.a = new_value"
   ]
  },
  {
   "cell_type": "markdown",
   "id": "48c49731",
   "metadata": {},
   "source": [
    "### Tianshou Batch's Get and Set"
   ]
  },
  {
   "cell_type": "code",
   "execution_count": 8,
   "id": "f1bb14c1",
   "metadata": {
    "execution": {
     "iopub.execute_input": "2023-08-10T04:44:58.036333Z",
     "iopub.status.busy": "2023-08-10T04:44:58.035747Z",
     "iopub.status.idle": "2023-08-10T04:44:58.475009Z",
     "shell.execute_reply": "2023-08-10T04:44:58.473580Z"
    }
   },
   "outputs": [],
   "source": [
    "from tianshou.data import Batch\n",
    "\n",
    "b = Batch(**_TREE_DATA_2)"
   ]
  },
  {
   "cell_type": "code",
   "execution_count": 9,
   "id": "cb0777c3",
   "metadata": {
    "execution": {
     "iopub.execute_input": "2023-08-10T04:44:58.480740Z",
     "iopub.status.busy": "2023-08-10T04:44:58.480140Z",
     "iopub.status.idle": "2023-08-10T04:44:58.487545Z",
     "shell.execute_reply": "2023-08-10T04:44:58.486679Z"
    }
   },
   "outputs": [
    {
     "data": {
      "text/plain": [
       "Batch(\n",
       "    a: tensor([[-0.9196,  0.1779, -0.9184],\n",
       "               [ 1.7881, -0.5578, -0.4313]]),\n",
       "    x: Batch(\n",
       "           c: tensor([[-0.1743, -0.3635, -1.5560, -0.5748],\n",
       "                      [ 1.0356,  1.4310, -0.9693, -0.7268],\n",
       "                      [-0.8567, -0.1880,  1.0227,  0.2682]]),\n",
       "       ),\n",
       ")"
      ]
     },
     "execution_count": 9,
     "metadata": {},
     "output_type": "execute_result"
    }
   ],
   "source": [
    "b"
   ]
  },
  {
   "cell_type": "code",
   "execution_count": 10,
   "id": "43ef8ea3",
   "metadata": {
    "execution": {
     "iopub.execute_input": "2023-08-10T04:44:58.491350Z",
     "iopub.status.busy": "2023-08-10T04:44:58.490837Z",
     "iopub.status.idle": "2023-08-10T04:44:58.496701Z",
     "shell.execute_reply": "2023-08-10T04:44:58.495862Z"
    }
   },
   "outputs": [
    {
     "data": {
      "text/plain": [
       "tensor([[-0.9196,  0.1779, -0.9184],\n",
       "        [ 1.7881, -0.5578, -0.4313]])"
      ]
     },
     "execution_count": 10,
     "metadata": {},
     "output_type": "execute_result"
    }
   ],
   "source": [
    "b.a"
   ]
  },
  {
   "cell_type": "code",
   "execution_count": 11,
   "id": "b785ab72",
   "metadata": {
    "execution": {
     "iopub.execute_input": "2023-08-10T04:44:58.500888Z",
     "iopub.status.busy": "2023-08-10T04:44:58.500435Z",
     "iopub.status.idle": "2023-08-10T04:45:05.122161Z",
     "shell.execute_reply": "2023-08-10T04:45:05.120070Z"
    }
   },
   "outputs": [
    {
     "name": "stdout",
     "output_type": "stream",
     "text": [
      "81.8 ns ± 0.632 ns per loop (mean ± std. dev. of 7 runs, 10,000,000 loops each)\n"
     ]
    }
   ],
   "source": [
    "%timeit b.a"
   ]
  },
  {
   "cell_type": "code",
   "execution_count": 12,
   "id": "ad54dc69",
   "metadata": {
    "execution": {
     "iopub.execute_input": "2023-08-10T04:45:05.127655Z",
     "iopub.status.busy": "2023-08-10T04:45:05.126581Z",
     "iopub.status.idle": "2023-08-10T04:45:05.134658Z",
     "shell.execute_reply": "2023-08-10T04:45:05.133794Z"
    }
   },
   "outputs": [
    {
     "data": {
      "text/plain": [
       "Batch(\n",
       "    a: tensor([[-0.6264, -0.1118, -1.1664],\n",
       "               [-0.3399,  1.2319, -1.0672]]),\n",
       "    x: Batch(\n",
       "           c: tensor([[-0.1743, -0.3635, -1.5560, -0.5748],\n",
       "                      [ 1.0356,  1.4310, -0.9693, -0.7268],\n",
       "                      [-0.8567, -0.1880,  1.0227,  0.2682]]),\n",
       "       ),\n",
       ")"
      ]
     },
     "execution_count": 12,
     "metadata": {},
     "output_type": "execute_result"
    }
   ],
   "source": [
    "new_value = torch.randn(2, 3)\n",
    "b.a = new_value\n",
    "\n",
    "b"
   ]
  },
  {
   "cell_type": "code",
   "execution_count": 13,
   "id": "29b1d0bf",
   "metadata": {
    "execution": {
     "iopub.execute_input": "2023-08-10T04:45:05.138628Z",
     "iopub.status.busy": "2023-08-10T04:45:05.137971Z",
     "iopub.status.idle": "2023-08-10T04:45:10.396084Z",
     "shell.execute_reply": "2023-08-10T04:45:10.394650Z"
    }
   },
   "outputs": [
    {
     "name": "stdout",
     "output_type": "stream",
     "text": [
      "647 ns ± 4.14 ns per loop (mean ± std. dev. of 7 runs, 1,000,000 loops each)\n"
     ]
    }
   ],
   "source": [
    "%timeit b.a = new_value"
   ]
  },
  {
   "cell_type": "markdown",
   "id": "b61ad1d0",
   "metadata": {},
   "source": [
    "## Initialization"
   ]
  },
  {
   "cell_type": "markdown",
   "id": "d70f0d54",
   "metadata": {},
   "source": [
    "### TreeValue's Initialization"
   ]
  },
  {
   "cell_type": "code",
   "execution_count": 14,
   "id": "d32a679b",
   "metadata": {
    "execution": {
     "iopub.execute_input": "2023-08-10T04:45:10.401608Z",
     "iopub.status.busy": "2023-08-10T04:45:10.401033Z",
     "iopub.status.idle": "2023-08-10T04:45:18.804402Z",
     "shell.execute_reply": "2023-08-10T04:45:18.803156Z"
    }
   },
   "outputs": [
    {
     "name": "stdout",
     "output_type": "stream",
     "text": [
      "1.03 µs ± 3.96 ns per loop (mean ± std. dev. of 7 runs, 1,000,000 loops each)\n"
     ]
    }
   ],
   "source": [
    "%timeit FastTreeValue(_TREE_DATA_1)"
   ]
  },
  {
   "cell_type": "markdown",
   "id": "24f3707b",
   "metadata": {},
   "source": [
    "### Tianshou Batch's Initialization"
   ]
  },
  {
   "cell_type": "code",
   "execution_count": 15,
   "id": "ac3958df",
   "metadata": {
    "execution": {
     "iopub.execute_input": "2023-08-10T04:45:18.809909Z",
     "iopub.status.busy": "2023-08-10T04:45:18.808903Z",
     "iopub.status.idle": "2023-08-10T04:45:28.953688Z",
     "shell.execute_reply": "2023-08-10T04:45:28.951628Z"
    }
   },
   "outputs": [
    {
     "name": "stdout",
     "output_type": "stream",
     "text": [
      "12.5 µs ± 182 ns per loop (mean ± std. dev. of 7 runs, 100,000 loops each)\n"
     ]
    }
   ],
   "source": [
    "%timeit Batch(**_TREE_DATA_1)"
   ]
  },
  {
   "cell_type": "markdown",
   "id": "1ab82e2d",
   "metadata": {},
   "source": [
    "## Deep Copy Operation"
   ]
  },
  {
   "cell_type": "code",
   "execution_count": 16,
   "id": "210a9442",
   "metadata": {
    "execution": {
     "iopub.execute_input": "2023-08-10T04:45:28.958275Z",
     "iopub.status.busy": "2023-08-10T04:45:28.957981Z",
     "iopub.status.idle": "2023-08-10T04:45:28.962069Z",
     "shell.execute_reply": "2023-08-10T04:45:28.961297Z"
    }
   },
   "outputs": [],
   "source": [
    "import copy"
   ]
  },
  {
   "cell_type": "markdown",
   "id": "5a736274",
   "metadata": {},
   "source": [
    "### Deep Copy of TreeValue"
   ]
  },
  {
   "cell_type": "code",
   "execution_count": 17,
   "id": "f9bcadd6",
   "metadata": {
    "execution": {
     "iopub.execute_input": "2023-08-10T04:45:28.965763Z",
     "iopub.status.busy": "2023-08-10T04:45:28.965399Z",
     "iopub.status.idle": "2023-08-10T04:45:42.328921Z",
     "shell.execute_reply": "2023-08-10T04:45:42.328123Z"
    }
   },
   "outputs": [
    {
     "name": "stdout",
     "output_type": "stream",
     "text": [
      "165 µs ± 2.16 µs per loop (mean ± std. dev. of 7 runs, 10,000 loops each)\n"
     ]
    }
   ],
   "source": [
    "t3 = FastTreeValue(_TREE_DATA_3)\n",
    "%timeit copy.deepcopy(t3)"
   ]
  },
  {
   "cell_type": "markdown",
   "id": "bf8be7ea",
   "metadata": {},
   "source": [
    "### Deep Copy of Tianshou Batch"
   ]
  },
  {
   "cell_type": "code",
   "execution_count": 18,
   "id": "91998e6f",
   "metadata": {
    "execution": {
     "iopub.execute_input": "2023-08-10T04:45:42.333083Z",
     "iopub.status.busy": "2023-08-10T04:45:42.332590Z",
     "iopub.status.idle": "2023-08-10T04:45:55.905361Z",
     "shell.execute_reply": "2023-08-10T04:45:55.904570Z"
    }
   },
   "outputs": [
    {
     "name": "stdout",
     "output_type": "stream",
     "text": [
      "167 µs ± 1.15 µs per loop (mean ± std. dev. of 7 runs, 10,000 loops each)\n"
     ]
    }
   ],
   "source": [
    "b3 = Batch(**_TREE_DATA_3)\n",
    "%timeit copy.deepcopy(b3)"
   ]
  },
  {
   "cell_type": "markdown",
   "id": "223162fb",
   "metadata": {},
   "source": [
    "## Stack, Concat and Split Operation"
   ]
  },
  {
   "cell_type": "markdown",
   "id": "85fa4a73",
   "metadata": {},
   "source": [
    "### Performance of TreeValue"
   ]
  },
  {
   "cell_type": "code",
   "execution_count": 19,
   "id": "a0c2b697",
   "metadata": {
    "execution": {
     "iopub.execute_input": "2023-08-10T04:45:55.909404Z",
     "iopub.status.busy": "2023-08-10T04:45:55.908925Z",
     "iopub.status.idle": "2023-08-10T04:45:55.912879Z",
     "shell.execute_reply": "2023-08-10T04:45:55.912153Z"
    }
   },
   "outputs": [],
   "source": [
    "trees = [FastTreeValue(_TREE_DATA_2) for _ in range(8)]"
   ]
  },
  {
   "cell_type": "code",
   "execution_count": 20,
   "id": "017ea5a5",
   "metadata": {
    "execution": {
     "iopub.execute_input": "2023-08-10T04:45:55.916630Z",
     "iopub.status.busy": "2023-08-10T04:45:55.916107Z",
     "iopub.status.idle": "2023-08-10T04:45:55.924962Z",
     "shell.execute_reply": "2023-08-10T04:45:55.924119Z"
    }
   },
   "outputs": [
    {
     "data": {
      "text/plain": [
       "<FastTreeValue 0x7f87c4b54760>\n",
       "├── 'a' --> tensor([[[-0.9196,  0.1779, -0.9184],\n",
       "│                    [ 1.7881, -0.5578, -0.4313]],\n",
       "│           \n",
       "│                   [[-0.9196,  0.1779, -0.9184],\n",
       "│                    [ 1.7881, -0.5578, -0.4313]],\n",
       "│           \n",
       "│                   [[-0.9196,  0.1779, -0.9184],\n",
       "│                    [ 1.7881, -0.5578, -0.4313]],\n",
       "│           \n",
       "│                   [[-0.9196,  0.1779, -0.9184],\n",
       "│                    [ 1.7881, -0.5578, -0.4313]],\n",
       "│           \n",
       "│                   [[-0.9196,  0.1779, -0.9184],\n",
       "│                    [ 1.7881, -0.5578, -0.4313]],\n",
       "│           \n",
       "│                   [[-0.9196,  0.1779, -0.9184],\n",
       "│                    [ 1.7881, -0.5578, -0.4313]],\n",
       "│           \n",
       "│                   [[-0.9196,  0.1779, -0.9184],\n",
       "│                    [ 1.7881, -0.5578, -0.4313]],\n",
       "│           \n",
       "│                   [[-0.9196,  0.1779, -0.9184],\n",
       "│                    [ 1.7881, -0.5578, -0.4313]]])\n",
       "└── 'x' --> <FastTreeValue 0x7f889c286190>\n",
       "    └── 'c' --> tensor([[[-0.1743, -0.3635, -1.5560, -0.5748],\n",
       "                         [ 1.0356,  1.4310, -0.9693, -0.7268],\n",
       "                         [-0.8567, -0.1880,  1.0227,  0.2682]],\n",
       "                \n",
       "                        [[-0.1743, -0.3635, -1.5560, -0.5748],\n",
       "                         [ 1.0356,  1.4310, -0.9693, -0.7268],\n",
       "                         [-0.8567, -0.1880,  1.0227,  0.2682]],\n",
       "                \n",
       "                        [[-0.1743, -0.3635, -1.5560, -0.5748],\n",
       "                         [ 1.0356,  1.4310, -0.9693, -0.7268],\n",
       "                         [-0.8567, -0.1880,  1.0227,  0.2682]],\n",
       "                \n",
       "                        [[-0.1743, -0.3635, -1.5560, -0.5748],\n",
       "                         [ 1.0356,  1.4310, -0.9693, -0.7268],\n",
       "                         [-0.8567, -0.1880,  1.0227,  0.2682]],\n",
       "                \n",
       "                        [[-0.1743, -0.3635, -1.5560, -0.5748],\n",
       "                         [ 1.0356,  1.4310, -0.9693, -0.7268],\n",
       "                         [-0.8567, -0.1880,  1.0227,  0.2682]],\n",
       "                \n",
       "                        [[-0.1743, -0.3635, -1.5560, -0.5748],\n",
       "                         [ 1.0356,  1.4310, -0.9693, -0.7268],\n",
       "                         [-0.8567, -0.1880,  1.0227,  0.2682]],\n",
       "                \n",
       "                        [[-0.1743, -0.3635, -1.5560, -0.5748],\n",
       "                         [ 1.0356,  1.4310, -0.9693, -0.7268],\n",
       "                         [-0.8567, -0.1880,  1.0227,  0.2682]],\n",
       "                \n",
       "                        [[-0.1743, -0.3635, -1.5560, -0.5748],\n",
       "                         [ 1.0356,  1.4310, -0.9693, -0.7268],\n",
       "                         [-0.8567, -0.1880,  1.0227,  0.2682]]])"
      ]
     },
     "execution_count": 20,
     "metadata": {},
     "output_type": "execute_result"
    }
   ],
   "source": [
    "t_stack = FastTreeValue.func(subside=True)(torch.stack)\n",
    "\n",
    "t_stack(trees)"
   ]
  },
  {
   "cell_type": "code",
   "execution_count": 21,
   "id": "f8b3f415",
   "metadata": {
    "execution": {
     "iopub.execute_input": "2023-08-10T04:45:55.928853Z",
     "iopub.status.busy": "2023-08-10T04:45:55.928218Z",
     "iopub.status.idle": "2023-08-10T04:45:59.078525Z",
     "shell.execute_reply": "2023-08-10T04:45:59.077348Z"
    }
   },
   "outputs": [
    {
     "name": "stdout",
     "output_type": "stream",
     "text": [
      "38.7 µs ± 704 ns per loop (mean ± std. dev. of 7 runs, 10,000 loops each)\n"
     ]
    }
   ],
   "source": [
    "%timeit t_stack(trees)"
   ]
  },
  {
   "cell_type": "code",
   "execution_count": 22,
   "id": "94b56771",
   "metadata": {
    "execution": {
     "iopub.execute_input": "2023-08-10T04:45:59.083543Z",
     "iopub.status.busy": "2023-08-10T04:45:59.082713Z",
     "iopub.status.idle": "2023-08-10T04:45:59.092984Z",
     "shell.execute_reply": "2023-08-10T04:45:59.091601Z"
    }
   },
   "outputs": [
    {
     "data": {
      "text/plain": [
       "<FastTreeValue 0x7f87c4b54640>\n",
       "├── 'a' --> tensor([[-0.9196,  0.1779, -0.9184],\n",
       "│                   [ 1.7881, -0.5578, -0.4313],\n",
       "│                   [-0.9196,  0.1779, -0.9184],\n",
       "│                   [ 1.7881, -0.5578, -0.4313],\n",
       "│                   [-0.9196,  0.1779, -0.9184],\n",
       "│                   [ 1.7881, -0.5578, -0.4313],\n",
       "│                   [-0.9196,  0.1779, -0.9184],\n",
       "│                   [ 1.7881, -0.5578, -0.4313],\n",
       "│                   [-0.9196,  0.1779, -0.9184],\n",
       "│                   [ 1.7881, -0.5578, -0.4313],\n",
       "│                   [-0.9196,  0.1779, -0.9184],\n",
       "│                   [ 1.7881, -0.5578, -0.4313],\n",
       "│                   [-0.9196,  0.1779, -0.9184],\n",
       "│                   [ 1.7881, -0.5578, -0.4313],\n",
       "│                   [-0.9196,  0.1779, -0.9184],\n",
       "│                   [ 1.7881, -0.5578, -0.4313]])\n",
       "└── 'x' --> <FastTreeValue 0x7f889c1d15b0>\n",
       "    └── 'c' --> tensor([[-0.1743, -0.3635, -1.5560, -0.5748],\n",
       "                        [ 1.0356,  1.4310, -0.9693, -0.7268],\n",
       "                        [-0.8567, -0.1880,  1.0227,  0.2682],\n",
       "                        [-0.1743, -0.3635, -1.5560, -0.5748],\n",
       "                        [ 1.0356,  1.4310, -0.9693, -0.7268],\n",
       "                        [-0.8567, -0.1880,  1.0227,  0.2682],\n",
       "                        [-0.1743, -0.3635, -1.5560, -0.5748],\n",
       "                        [ 1.0356,  1.4310, -0.9693, -0.7268],\n",
       "                        [-0.8567, -0.1880,  1.0227,  0.2682],\n",
       "                        [-0.1743, -0.3635, -1.5560, -0.5748],\n",
       "                        [ 1.0356,  1.4310, -0.9693, -0.7268],\n",
       "                        [-0.8567, -0.1880,  1.0227,  0.2682],\n",
       "                        [-0.1743, -0.3635, -1.5560, -0.5748],\n",
       "                        [ 1.0356,  1.4310, -0.9693, -0.7268],\n",
       "                        [-0.8567, -0.1880,  1.0227,  0.2682],\n",
       "                        [-0.1743, -0.3635, -1.5560, -0.5748],\n",
       "                        [ 1.0356,  1.4310, -0.9693, -0.7268],\n",
       "                        [-0.8567, -0.1880,  1.0227,  0.2682],\n",
       "                        [-0.1743, -0.3635, -1.5560, -0.5748],\n",
       "                        [ 1.0356,  1.4310, -0.9693, -0.7268],\n",
       "                        [-0.8567, -0.1880,  1.0227,  0.2682],\n",
       "                        [-0.1743, -0.3635, -1.5560, -0.5748],\n",
       "                        [ 1.0356,  1.4310, -0.9693, -0.7268],\n",
       "                        [-0.8567, -0.1880,  1.0227,  0.2682]])"
      ]
     },
     "execution_count": 22,
     "metadata": {},
     "output_type": "execute_result"
    }
   ],
   "source": [
    "t_cat = FastTreeValue.func(subside=True)(torch.cat)\n",
    "\n",
    "t_cat(trees)"
   ]
  },
  {
   "cell_type": "code",
   "execution_count": 23,
   "id": "5e9c06a6",
   "metadata": {
    "execution": {
     "iopub.execute_input": "2023-08-10T04:45:59.096461Z",
     "iopub.status.busy": "2023-08-10T04:45:59.096014Z",
     "iopub.status.idle": "2023-08-10T04:46:02.030088Z",
     "shell.execute_reply": "2023-08-10T04:46:02.029306Z"
    }
   },
   "outputs": [
    {
     "name": "stdout",
     "output_type": "stream",
     "text": [
      "36.2 µs ± 308 ns per loop (mean ± std. dev. of 7 runs, 10,000 loops each)\n"
     ]
    }
   ],
   "source": [
    "%timeit t_cat(trees)"
   ]
  },
  {
   "cell_type": "code",
   "execution_count": 24,
   "id": "a3ab5c8f",
   "metadata": {
    "execution": {
     "iopub.execute_input": "2023-08-10T04:46:02.034251Z",
     "iopub.status.busy": "2023-08-10T04:46:02.033449Z",
     "iopub.status.idle": "2023-08-10T04:46:08.239191Z",
     "shell.execute_reply": "2023-08-10T04:46:08.237902Z"
    }
   },
   "outputs": [
    {
     "name": "stdout",
     "output_type": "stream",
     "text": [
      "76.3 µs ± 383 ns per loop (mean ± std. dev. of 7 runs, 10,000 loops each)\n"
     ]
    }
   ],
   "source": [
    "t_split = FastTreeValue.func(rise=True)(torch.split)\n",
    "tree = FastTreeValue({\n",
    "    'obs': torch.randn(8, 4, 84, 84),\n",
    "    'action': torch.randint(0, 6, size=(8, 1,)),\n",
    "    'reward': torch.rand(8, 1),\n",
    "})\n",
    "\n",
    "%timeit t_split(tree, 1)"
   ]
  },
  {
   "cell_type": "markdown",
   "id": "31c3ec0b",
   "metadata": {},
   "source": [
    "### Performance of Tianshou Batch"
   ]
  },
  {
   "cell_type": "code",
   "execution_count": 25,
   "id": "9ead828a",
   "metadata": {
    "execution": {
     "iopub.execute_input": "2023-08-10T04:46:08.243636Z",
     "iopub.status.busy": "2023-08-10T04:46:08.242904Z",
     "iopub.status.idle": "2023-08-10T04:46:08.253298Z",
     "shell.execute_reply": "2023-08-10T04:46:08.252542Z"
    }
   },
   "outputs": [
    {
     "data": {
      "text/plain": [
       "Batch(\n",
       "    a: tensor([[[-0.9196,  0.1779, -0.9184],\n",
       "                [ 1.7881, -0.5578, -0.4313]],\n",
       "       \n",
       "               [[-0.9196,  0.1779, -0.9184],\n",
       "                [ 1.7881, -0.5578, -0.4313]],\n",
       "       \n",
       "               [[-0.9196,  0.1779, -0.9184],\n",
       "                [ 1.7881, -0.5578, -0.4313]],\n",
       "       \n",
       "               [[-0.9196,  0.1779, -0.9184],\n",
       "                [ 1.7881, -0.5578, -0.4313]],\n",
       "       \n",
       "               [[-0.9196,  0.1779, -0.9184],\n",
       "                [ 1.7881, -0.5578, -0.4313]],\n",
       "       \n",
       "               [[-0.9196,  0.1779, -0.9184],\n",
       "                [ 1.7881, -0.5578, -0.4313]],\n",
       "       \n",
       "               [[-0.9196,  0.1779, -0.9184],\n",
       "                [ 1.7881, -0.5578, -0.4313]],\n",
       "       \n",
       "               [[-0.9196,  0.1779, -0.9184],\n",
       "                [ 1.7881, -0.5578, -0.4313]]]),\n",
       "    x: Batch(\n",
       "           c: tensor([[[-0.1743, -0.3635, -1.5560, -0.5748],\n",
       "                       [ 1.0356,  1.4310, -0.9693, -0.7268],\n",
       "                       [-0.8567, -0.1880,  1.0227,  0.2682]],\n",
       "              \n",
       "                      [[-0.1743, -0.3635, -1.5560, -0.5748],\n",
       "                       [ 1.0356,  1.4310, -0.9693, -0.7268],\n",
       "                       [-0.8567, -0.1880,  1.0227,  0.2682]],\n",
       "              \n",
       "                      [[-0.1743, -0.3635, -1.5560, -0.5748],\n",
       "                       [ 1.0356,  1.4310, -0.9693, -0.7268],\n",
       "                       [-0.8567, -0.1880,  1.0227,  0.2682]],\n",
       "              \n",
       "                      [[-0.1743, -0.3635, -1.5560, -0.5748],\n",
       "                       [ 1.0356,  1.4310, -0.9693, -0.7268],\n",
       "                       [-0.8567, -0.1880,  1.0227,  0.2682]],\n",
       "              \n",
       "                      [[-0.1743, -0.3635, -1.5560, -0.5748],\n",
       "                       [ 1.0356,  1.4310, -0.9693, -0.7268],\n",
       "                       [-0.8567, -0.1880,  1.0227,  0.2682]],\n",
       "              \n",
       "                      [[-0.1743, -0.3635, -1.5560, -0.5748],\n",
       "                       [ 1.0356,  1.4310, -0.9693, -0.7268],\n",
       "                       [-0.8567, -0.1880,  1.0227,  0.2682]],\n",
       "              \n",
       "                      [[-0.1743, -0.3635, -1.5560, -0.5748],\n",
       "                       [ 1.0356,  1.4310, -0.9693, -0.7268],\n",
       "                       [-0.8567, -0.1880,  1.0227,  0.2682]],\n",
       "              \n",
       "                      [[-0.1743, -0.3635, -1.5560, -0.5748],\n",
       "                       [ 1.0356,  1.4310, -0.9693, -0.7268],\n",
       "                       [-0.8567, -0.1880,  1.0227,  0.2682]]]),\n",
       "       ),\n",
       ")"
      ]
     },
     "execution_count": 25,
     "metadata": {},
     "output_type": "execute_result"
    }
   ],
   "source": [
    "batches = [Batch(**_TREE_DATA_2) for _ in range(8)]\n",
    "\n",
    "Batch.stack(batches)"
   ]
  },
  {
   "cell_type": "code",
   "execution_count": 26,
   "id": "ec9037a3",
   "metadata": {
    "execution": {
     "iopub.execute_input": "2023-08-10T04:46:08.256934Z",
     "iopub.status.busy": "2023-08-10T04:46:08.256393Z",
     "iopub.status.idle": "2023-08-10T04:46:16.115751Z",
     "shell.execute_reply": "2023-08-10T04:46:16.114320Z"
    }
   },
   "outputs": [
    {
     "name": "stdout",
     "output_type": "stream",
     "text": [
      "96.8 µs ± 612 ns per loop (mean ± std. dev. of 7 runs, 10,000 loops each)\n"
     ]
    }
   ],
   "source": [
    "%timeit Batch.stack(batches)"
   ]
  },
  {
   "cell_type": "code",
   "execution_count": 27,
   "id": "cb8ab77e",
   "metadata": {
    "execution": {
     "iopub.execute_input": "2023-08-10T04:46:16.120818Z",
     "iopub.status.busy": "2023-08-10T04:46:16.119973Z",
     "iopub.status.idle": "2023-08-10T04:46:16.132366Z",
     "shell.execute_reply": "2023-08-10T04:46:16.131552Z"
    }
   },
   "outputs": [
    {
     "data": {
      "text/plain": [
       "Batch(\n",
       "    a: tensor([[-0.9196,  0.1779, -0.9184],\n",
       "               [ 1.7881, -0.5578, -0.4313],\n",
       "               [-0.9196,  0.1779, -0.9184],\n",
       "               [ 1.7881, -0.5578, -0.4313],\n",
       "               [-0.9196,  0.1779, -0.9184],\n",
       "               [ 1.7881, -0.5578, -0.4313],\n",
       "               [-0.9196,  0.1779, -0.9184],\n",
       "               [ 1.7881, -0.5578, -0.4313],\n",
       "               [-0.9196,  0.1779, -0.9184],\n",
       "               [ 1.7881, -0.5578, -0.4313],\n",
       "               [-0.9196,  0.1779, -0.9184],\n",
       "               [ 1.7881, -0.5578, -0.4313],\n",
       "               [-0.9196,  0.1779, -0.9184],\n",
       "               [ 1.7881, -0.5578, -0.4313],\n",
       "               [-0.9196,  0.1779, -0.9184],\n",
       "               [ 1.7881, -0.5578, -0.4313]]),\n",
       "    x: Batch(\n",
       "           c: tensor([[-0.1743, -0.3635, -1.5560, -0.5748],\n",
       "                      [ 1.0356,  1.4310, -0.9693, -0.7268],\n",
       "                      [-0.8567, -0.1880,  1.0227,  0.2682],\n",
       "                      [-0.1743, -0.3635, -1.5560, -0.5748],\n",
       "                      [ 1.0356,  1.4310, -0.9693, -0.7268],\n",
       "                      [-0.8567, -0.1880,  1.0227,  0.2682],\n",
       "                      [-0.1743, -0.3635, -1.5560, -0.5748],\n",
       "                      [ 1.0356,  1.4310, -0.9693, -0.7268],\n",
       "                      [-0.8567, -0.1880,  1.0227,  0.2682],\n",
       "                      [-0.1743, -0.3635, -1.5560, -0.5748],\n",
       "                      [ 1.0356,  1.4310, -0.9693, -0.7268],\n",
       "                      [-0.8567, -0.1880,  1.0227,  0.2682],\n",
       "                      [-0.1743, -0.3635, -1.5560, -0.5748],\n",
       "                      [ 1.0356,  1.4310, -0.9693, -0.7268],\n",
       "                      [-0.8567, -0.1880,  1.0227,  0.2682],\n",
       "                      [-0.1743, -0.3635, -1.5560, -0.5748],\n",
       "                      [ 1.0356,  1.4310, -0.9693, -0.7268],\n",
       "                      [-0.8567, -0.1880,  1.0227,  0.2682],\n",
       "                      [-0.1743, -0.3635, -1.5560, -0.5748],\n",
       "                      [ 1.0356,  1.4310, -0.9693, -0.7268],\n",
       "                      [-0.8567, -0.1880,  1.0227,  0.2682],\n",
       "                      [-0.1743, -0.3635, -1.5560, -0.5748],\n",
       "                      [ 1.0356,  1.4310, -0.9693, -0.7268],\n",
       "                      [-0.8567, -0.1880,  1.0227,  0.2682]]),\n",
       "       ),\n",
       ")"
      ]
     },
     "execution_count": 27,
     "metadata": {},
     "output_type": "execute_result"
    }
   ],
   "source": [
    "Batch.cat(batches)"
   ]
  },
  {
   "cell_type": "code",
   "execution_count": 28,
   "id": "18dfb045",
   "metadata": {
    "execution": {
     "iopub.execute_input": "2023-08-10T04:46:16.136048Z",
     "iopub.status.busy": "2023-08-10T04:46:16.135524Z",
     "iopub.status.idle": "2023-08-10T04:46:32.089164Z",
     "shell.execute_reply": "2023-08-10T04:46:32.088250Z"
    }
   },
   "outputs": [
    {
     "name": "stdout",
     "output_type": "stream",
     "text": [
      "196 µs ± 1.13 µs per loop (mean ± std. dev. of 7 runs, 10,000 loops each)\n"
     ]
    }
   ],
   "source": [
    "%timeit Batch.cat(batches)"
   ]
  },
  {
   "cell_type": "code",
   "execution_count": 29,
   "id": "c6688e51",
   "metadata": {
    "execution": {
     "iopub.execute_input": "2023-08-10T04:46:32.093188Z",
     "iopub.status.busy": "2023-08-10T04:46:32.092625Z",
     "iopub.status.idle": "2023-08-10T04:46:35.361189Z",
     "shell.execute_reply": "2023-08-10T04:46:35.360437Z"
    }
   },
   "outputs": [
    {
     "name": "stdout",
     "output_type": "stream",
     "text": [
      "402 µs ± 8.3 µs per loop (mean ± std. dev. of 7 runs, 1,000 loops each)\n"
     ]
    }
   ],
   "source": [
    "batch = Batch({\n",
    "    'obs': torch.randn(8, 4, 84, 84),\n",
    "    'action': torch.randint(0, 6, size=(8, 1,)),\n",
    "    'reward': torch.rand(8, 1)}\n",
    ")\n",
    "\n",
    "%timeit list(Batch.split(batch, 1, shuffle=False, merge_last=True))"
   ]
  },
  {
   "cell_type": "code",
   "execution_count": null,
   "id": "2539fbd9",
   "metadata": {},
   "outputs": [],
   "source": []
  }
 ],
 "metadata": {
  "kernelspec": {
   "display_name": "Python 3 (ipykernel)",
   "language": "python",
   "name": "python3"
  },
  "language_info": {
   "codemirror_mode": {
    "name": "ipython",
    "version": 3
   },
   "file_extension": ".py",
   "mimetype": "text/x-python",
   "name": "python",
   "nbconvert_exporter": "python",
   "pygments_lexer": "ipython3",
   "version": "3.8.17"
  }
 },
 "nbformat": 4,
 "nbformat_minor": 5
}
