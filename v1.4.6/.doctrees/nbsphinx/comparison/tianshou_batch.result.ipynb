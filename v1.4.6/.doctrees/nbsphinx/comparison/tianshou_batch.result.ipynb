{
 "cells": [
  {
   "cell_type": "markdown",
   "id": "9d39d946",
   "metadata": {},
   "source": [
    "# Comparison Between TreeValue and Tianshou Batch"
   ]
  },
  {
   "cell_type": "markdown",
   "id": "3c6db2d4",
   "metadata": {},
   "source": [
    "In this section, we will take a look at the feature and performance of the [Tianshou Batch](https://github.com/thu-ml/tianshou) library, which is developed by Tsinghua Machine Learning Group."
   ]
  },
  {
   "cell_type": "markdown",
   "id": "069361b0",
   "metadata": {},
   "source": [
    "Before starting the comparison, let us define some thing."
   ]
  },
  {
   "cell_type": "code",
   "execution_count": 1,
   "id": "06fc8d26",
   "metadata": {
    "execution": {
     "iopub.execute_input": "2023-03-06T18:01:49.071756Z",
     "iopub.status.busy": "2023-03-06T18:01:49.071545Z",
     "iopub.status.idle": "2023-03-06T18:01:50.016526Z",
     "shell.execute_reply": "2023-03-06T18:01:50.015856Z"
    }
   },
   "outputs": [
    {
     "name": "stderr",
     "output_type": "stream",
     "text": [
      "/opt/hostedtoolcache/Python/3.8.16/x64/lib/python3.8/site-packages/tqdm/auto.py:21: TqdmWarning: IProgress not found. Please update jupyter and ipywidgets. See https://ipywidgets.readthedocs.io/en/stable/user_install.html\n",
      "  from .autonotebook import tqdm as notebook_tqdm\n"
     ]
    }
   ],
   "source": [
    "import torch \n",
    "\n",
    "_TREE_DATA_1 = {'a': 1, 'b': 2, 'x': {'c': 3, 'd': 4}}\n",
    "_TREE_DATA_2 = {\n",
    "    'a': torch.randn(2, 3), \n",
    "    'x': {\n",
    "        'c': torch.randn(3, 4)\n",
    "    },\n",
    "}\n",
    "_TREE_DATA_3 = {\n",
    "    'obs': torch.randn(4, 84, 84),\n",
    "    'action': torch.randint(0, 6, size=(1,)),\n",
    "    'reward': torch.rand(1),\n",
    "}"
   ]
  },
  {
   "cell_type": "markdown",
   "id": "83461b25",
   "metadata": {},
   "source": [
    "## Read and Write Operation"
   ]
  },
  {
   "cell_type": "markdown",
   "id": "067b3f73",
   "metadata": {},
   "source": [
    "Reading and writing are the two most common operations in the tree data structure based on the data model (TreeValue and Tianshou Batch both belong to this type), so this section will compare the reading and writing performance of these two libraries."
   ]
  },
  {
   "cell_type": "markdown",
   "id": "5d09a5b7",
   "metadata": {},
   "source": [
    "### TreeValue's Get and Set"
   ]
  },
  {
   "cell_type": "code",
   "execution_count": 2,
   "id": "9519c4bb",
   "metadata": {
    "execution": {
     "iopub.execute_input": "2023-03-06T18:01:50.020066Z",
     "iopub.status.busy": "2023-03-06T18:01:50.019472Z",
     "iopub.status.idle": "2023-03-06T18:01:50.304634Z",
     "shell.execute_reply": "2023-03-06T18:01:50.303955Z"
    }
   },
   "outputs": [],
   "source": [
    "from treevalue import FastTreeValue\n",
    "\n",
    "t = FastTreeValue(_TREE_DATA_2)"
   ]
  },
  {
   "cell_type": "code",
   "execution_count": 3,
   "id": "11c37677",
   "metadata": {
    "execution": {
     "iopub.execute_input": "2023-03-06T18:01:50.308131Z",
     "iopub.status.busy": "2023-03-06T18:01:50.307489Z",
     "iopub.status.idle": "2023-03-06T18:01:50.317129Z",
     "shell.execute_reply": "2023-03-06T18:01:50.316526Z"
    }
   },
   "outputs": [
    {
     "data": {
      "text/plain": [
       "<FastTreeValue 0x7f51d2f32eb0>\n",
       "├── 'a' --> tensor([[ 0.5132, -0.0354, -1.3574],\n",
       "│                   [ 0.1288, -0.0066, -0.3082]])\n",
       "└── 'x' --> <FastTreeValue 0x7f51d2f32df0>\n",
       "    └── 'c' --> tensor([[ 0.1688,  1.2293, -1.7571,  0.2018],\n",
       "                        [-1.0934, -0.7801, -0.7857, -0.6936],\n",
       "                        [-0.7203,  0.0250,  1.1158,  0.2297]])"
      ]
     },
     "execution_count": 3,
     "metadata": {},
     "output_type": "execute_result"
    }
   ],
   "source": [
    "t"
   ]
  },
  {
   "cell_type": "code",
   "execution_count": 4,
   "id": "fd70b0b9",
   "metadata": {
    "execution": {
     "iopub.execute_input": "2023-03-06T18:01:50.319946Z",
     "iopub.status.busy": "2023-03-06T18:01:50.319596Z",
     "iopub.status.idle": "2023-03-06T18:01:50.325402Z",
     "shell.execute_reply": "2023-03-06T18:01:50.324826Z"
    }
   },
   "outputs": [
    {
     "data": {
      "text/plain": [
       "tensor([[ 0.5132, -0.0354, -1.3574],\n",
       "        [ 0.1288, -0.0066, -0.3082]])"
      ]
     },
     "execution_count": 4,
     "metadata": {},
     "output_type": "execute_result"
    }
   ],
   "source": [
    "t.a"
   ]
  },
  {
   "cell_type": "code",
   "execution_count": 5,
   "id": "c18197bd",
   "metadata": {
    "execution": {
     "iopub.execute_input": "2023-03-06T18:01:50.328162Z",
     "iopub.status.busy": "2023-03-06T18:01:50.327829Z",
     "iopub.status.idle": "2023-03-06T18:01:55.270371Z",
     "shell.execute_reply": "2023-03-06T18:01:55.269663Z"
    }
   },
   "outputs": [
    {
     "name": "stdout",
     "output_type": "stream",
     "text": [
      "60.4 ns ± 0.072 ns per loop (mean ± std. dev. of 7 runs, 10,000,000 loops each)\n"
     ]
    }
   ],
   "source": [
    "%timeit t.a"
   ]
  },
  {
   "cell_type": "code",
   "execution_count": 6,
   "id": "bd52f867",
   "metadata": {
    "execution": {
     "iopub.execute_input": "2023-03-06T18:01:55.273834Z",
     "iopub.status.busy": "2023-03-06T18:01:55.273232Z",
     "iopub.status.idle": "2023-03-06T18:01:55.280118Z",
     "shell.execute_reply": "2023-03-06T18:01:55.279486Z"
    }
   },
   "outputs": [
    {
     "data": {
      "text/plain": [
       "<FastTreeValue 0x7f51d2f32eb0>\n",
       "├── 'a' --> tensor([[-1.0489, -0.1536,  0.7453],\n",
       "│                   [ 1.8058,  0.6462,  0.4096]])\n",
       "└── 'x' --> <FastTreeValue 0x7f51d2f32df0>\n",
       "    └── 'c' --> tensor([[ 0.1688,  1.2293, -1.7571,  0.2018],\n",
       "                        [-1.0934, -0.7801, -0.7857, -0.6936],\n",
       "                        [-0.7203,  0.0250,  1.1158,  0.2297]])"
      ]
     },
     "execution_count": 6,
     "metadata": {},
     "output_type": "execute_result"
    }
   ],
   "source": [
    "new_value = torch.randn(2, 3)\n",
    "t.a = new_value\n",
    "\n",
    "t"
   ]
  },
  {
   "cell_type": "code",
   "execution_count": 7,
   "id": "bbe04d1c",
   "metadata": {
    "execution": {
     "iopub.execute_input": "2023-03-06T18:01:55.282758Z",
     "iopub.status.busy": "2023-03-06T18:01:55.282417Z",
     "iopub.status.idle": "2023-03-06T18:02:00.437700Z",
     "shell.execute_reply": "2023-03-06T18:02:00.436945Z"
    }
   },
   "outputs": [
    {
     "name": "stdout",
     "output_type": "stream",
     "text": [
      "62.9 ns ± 0.0243 ns per loop (mean ± std. dev. of 7 runs, 10,000,000 loops each)\n"
     ]
    }
   ],
   "source": [
    "%timeit t.a = new_value"
   ]
  },
  {
   "cell_type": "markdown",
   "id": "48c49731",
   "metadata": {},
   "source": [
    "### Tianshou Batch's Get and Set"
   ]
  },
  {
   "cell_type": "code",
   "execution_count": 8,
   "id": "f1bb14c1",
   "metadata": {
    "execution": {
     "iopub.execute_input": "2023-03-06T18:02:00.441146Z",
     "iopub.status.busy": "2023-03-06T18:02:00.440547Z",
     "iopub.status.idle": "2023-03-06T18:02:00.793274Z",
     "shell.execute_reply": "2023-03-06T18:02:00.792581Z"
    }
   },
   "outputs": [],
   "source": [
    "from tianshou.data import Batch\n",
    "\n",
    "b = Batch(**_TREE_DATA_2)"
   ]
  },
  {
   "cell_type": "code",
   "execution_count": 9,
   "id": "cb0777c3",
   "metadata": {
    "execution": {
     "iopub.execute_input": "2023-03-06T18:02:00.796991Z",
     "iopub.status.busy": "2023-03-06T18:02:00.796389Z",
     "iopub.status.idle": "2023-03-06T18:02:00.802154Z",
     "shell.execute_reply": "2023-03-06T18:02:00.801505Z"
    }
   },
   "outputs": [
    {
     "data": {
      "text/plain": [
       "Batch(\n",
       "    a: tensor([[ 0.5132, -0.0354, -1.3574],\n",
       "               [ 0.1288, -0.0066, -0.3082]]),\n",
       "    x: Batch(\n",
       "           c: tensor([[ 0.1688,  1.2293, -1.7571,  0.2018],\n",
       "                      [-1.0934, -0.7801, -0.7857, -0.6936],\n",
       "                      [-0.7203,  0.0250,  1.1158,  0.2297]]),\n",
       "       ),\n",
       ")"
      ]
     },
     "execution_count": 9,
     "metadata": {},
     "output_type": "execute_result"
    }
   ],
   "source": [
    "b"
   ]
  },
  {
   "cell_type": "code",
   "execution_count": 10,
   "id": "43ef8ea3",
   "metadata": {
    "execution": {
     "iopub.execute_input": "2023-03-06T18:02:00.805143Z",
     "iopub.status.busy": "2023-03-06T18:02:00.804779Z",
     "iopub.status.idle": "2023-03-06T18:02:00.809693Z",
     "shell.execute_reply": "2023-03-06T18:02:00.809076Z"
    }
   },
   "outputs": [
    {
     "data": {
      "text/plain": [
       "tensor([[ 0.5132, -0.0354, -1.3574],\n",
       "        [ 0.1288, -0.0066, -0.3082]])"
      ]
     },
     "execution_count": 10,
     "metadata": {},
     "output_type": "execute_result"
    }
   ],
   "source": [
    "b.a"
   ]
  },
  {
   "cell_type": "code",
   "execution_count": 11,
   "id": "b785ab72",
   "metadata": {
    "execution": {
     "iopub.execute_input": "2023-03-06T18:02:00.812205Z",
     "iopub.status.busy": "2023-03-06T18:02:00.811852Z",
     "iopub.status.idle": "2023-03-06T18:02:05.364903Z",
     "shell.execute_reply": "2023-03-06T18:02:05.364125Z"
    }
   },
   "outputs": [
    {
     "name": "stdout",
     "output_type": "stream",
     "text": [
      "56.1 ns ± 0.0508 ns per loop (mean ± std. dev. of 7 runs, 10,000,000 loops each)\n"
     ]
    }
   ],
   "source": [
    "%timeit b.a"
   ]
  },
  {
   "cell_type": "code",
   "execution_count": 12,
   "id": "ad54dc69",
   "metadata": {
    "execution": {
     "iopub.execute_input": "2023-03-06T18:02:05.368611Z",
     "iopub.status.busy": "2023-03-06T18:02:05.367875Z",
     "iopub.status.idle": "2023-03-06T18:02:05.374042Z",
     "shell.execute_reply": "2023-03-06T18:02:05.373373Z"
    }
   },
   "outputs": [
    {
     "data": {
      "text/plain": [
       "Batch(\n",
       "    a: tensor([[-1.5176, -0.7717,  1.5881],\n",
       "               [-0.7335,  0.5524, -0.4657]]),\n",
       "    x: Batch(\n",
       "           c: tensor([[ 0.1688,  1.2293, -1.7571,  0.2018],\n",
       "                      [-1.0934, -0.7801, -0.7857, -0.6936],\n",
       "                      [-0.7203,  0.0250,  1.1158,  0.2297]]),\n",
       "       ),\n",
       ")"
      ]
     },
     "execution_count": 12,
     "metadata": {},
     "output_type": "execute_result"
    }
   ],
   "source": [
    "new_value = torch.randn(2, 3)\n",
    "b.a = new_value\n",
    "\n",
    "b"
   ]
  },
  {
   "cell_type": "code",
   "execution_count": 13,
   "id": "29b1d0bf",
   "metadata": {
    "execution": {
     "iopub.execute_input": "2023-03-06T18:02:05.376726Z",
     "iopub.status.busy": "2023-03-06T18:02:05.376334Z",
     "iopub.status.idle": "2023-03-06T18:02:09.294498Z",
     "shell.execute_reply": "2023-03-06T18:02:09.293725Z"
    }
   },
   "outputs": [
    {
     "name": "stdout",
     "output_type": "stream",
     "text": [
      "482 ns ± 0.152 ns per loop (mean ± std. dev. of 7 runs, 1,000,000 loops each)\n"
     ]
    }
   ],
   "source": [
    "%timeit b.a = new_value"
   ]
  },
  {
   "cell_type": "markdown",
   "id": "b61ad1d0",
   "metadata": {},
   "source": [
    "## Initialization"
   ]
  },
  {
   "cell_type": "markdown",
   "id": "d70f0d54",
   "metadata": {},
   "source": [
    "### TreeValue's Initialization"
   ]
  },
  {
   "cell_type": "code",
   "execution_count": 14,
   "id": "d32a679b",
   "metadata": {
    "execution": {
     "iopub.execute_input": "2023-03-06T18:02:09.298001Z",
     "iopub.status.busy": "2023-03-06T18:02:09.297292Z",
     "iopub.status.idle": "2023-03-06T18:02:16.084792Z",
     "shell.execute_reply": "2023-03-06T18:02:16.084085Z"
    }
   },
   "outputs": [
    {
     "name": "stdout",
     "output_type": "stream",
     "text": [
      "835 ns ± 4.6 ns per loop (mean ± std. dev. of 7 runs, 1,000,000 loops each)\n"
     ]
    }
   ],
   "source": [
    "%timeit FastTreeValue(_TREE_DATA_1)"
   ]
  },
  {
   "cell_type": "markdown",
   "id": "24f3707b",
   "metadata": {},
   "source": [
    "### Tianshou Batch's Initialization"
   ]
  },
  {
   "cell_type": "code",
   "execution_count": 15,
   "id": "ac3958df",
   "metadata": {
    "execution": {
     "iopub.execute_input": "2023-03-06T18:02:16.087700Z",
     "iopub.status.busy": "2023-03-06T18:02:16.087346Z",
     "iopub.status.idle": "2023-03-06T18:02:25.337101Z",
     "shell.execute_reply": "2023-03-06T18:02:25.336422Z"
    }
   },
   "outputs": [
    {
     "name": "stdout",
     "output_type": "stream",
     "text": [
      "11.4 µs ± 85.2 ns per loop (mean ± std. dev. of 7 runs, 100,000 loops each)\n"
     ]
    }
   ],
   "source": [
    "%timeit Batch(**_TREE_DATA_1)"
   ]
  },
  {
   "cell_type": "markdown",
   "id": "1ab82e2d",
   "metadata": {},
   "source": [
    "## Deep Copy Operation"
   ]
  },
  {
   "cell_type": "code",
   "execution_count": 16,
   "id": "210a9442",
   "metadata": {
    "execution": {
     "iopub.execute_input": "2023-03-06T18:02:25.340190Z",
     "iopub.status.busy": "2023-03-06T18:02:25.339818Z",
     "iopub.status.idle": "2023-03-06T18:02:25.344000Z",
     "shell.execute_reply": "2023-03-06T18:02:25.343381Z"
    }
   },
   "outputs": [],
   "source": [
    "import copy"
   ]
  },
  {
   "cell_type": "markdown",
   "id": "5a736274",
   "metadata": {},
   "source": [
    "### Deep Copy of TreeValue"
   ]
  },
  {
   "cell_type": "code",
   "execution_count": 17,
   "id": "f9bcadd6",
   "metadata": {
    "execution": {
     "iopub.execute_input": "2023-03-06T18:02:25.347099Z",
     "iopub.status.busy": "2023-03-06T18:02:25.346719Z",
     "iopub.status.idle": "2023-03-06T18:02:36.552457Z",
     "shell.execute_reply": "2023-03-06T18:02:36.551835Z"
    }
   },
   "outputs": [
    {
     "name": "stdout",
     "output_type": "stream",
     "text": [
      "138 µs ± 1.24 µs per loop (mean ± std. dev. of 7 runs, 10,000 loops each)\n"
     ]
    }
   ],
   "source": [
    "t3 = FastTreeValue(_TREE_DATA_3)\n",
    "%timeit copy.deepcopy(t3)"
   ]
  },
  {
   "cell_type": "markdown",
   "id": "bf8be7ea",
   "metadata": {},
   "source": [
    "### Deep Copy of Tianshou Batch"
   ]
  },
  {
   "cell_type": "code",
   "execution_count": 18,
   "id": "91998e6f",
   "metadata": {
    "execution": {
     "iopub.execute_input": "2023-03-06T18:02:36.555458Z",
     "iopub.status.busy": "2023-03-06T18:02:36.555074Z",
     "iopub.status.idle": "2023-03-06T18:02:47.906734Z",
     "shell.execute_reply": "2023-03-06T18:02:47.906137Z"
    }
   },
   "outputs": [
    {
     "name": "stdout",
     "output_type": "stream",
     "text": [
      "140 µs ± 384 ns per loop (mean ± std. dev. of 7 runs, 10,000 loops each)\n"
     ]
    }
   ],
   "source": [
    "b3 = Batch(**_TREE_DATA_3)\n",
    "%timeit copy.deepcopy(b3)"
   ]
  },
  {
   "cell_type": "markdown",
   "id": "223162fb",
   "metadata": {},
   "source": [
    "## Stack, Concat and Split Operation"
   ]
  },
  {
   "cell_type": "markdown",
   "id": "85fa4a73",
   "metadata": {},
   "source": [
    "### Performance of TreeValue"
   ]
  },
  {
   "cell_type": "code",
   "execution_count": 19,
   "id": "a0c2b697",
   "metadata": {
    "execution": {
     "iopub.execute_input": "2023-03-06T18:02:47.910318Z",
     "iopub.status.busy": "2023-03-06T18:02:47.909791Z",
     "iopub.status.idle": "2023-03-06T18:02:47.913811Z",
     "shell.execute_reply": "2023-03-06T18:02:47.913221Z"
    }
   },
   "outputs": [],
   "source": [
    "trees = [FastTreeValue(_TREE_DATA_2) for _ in range(8)]"
   ]
  },
  {
   "cell_type": "code",
   "execution_count": 20,
   "id": "017ea5a5",
   "metadata": {
    "execution": {
     "iopub.execute_input": "2023-03-06T18:02:47.916678Z",
     "iopub.status.busy": "2023-03-06T18:02:47.916150Z",
     "iopub.status.idle": "2023-03-06T18:02:47.924237Z",
     "shell.execute_reply": "2023-03-06T18:02:47.923633Z"
    }
   },
   "outputs": [
    {
     "data": {
      "text/plain": [
       "<FastTreeValue 0x7f51d0eab8b0>\n",
       "├── 'a' --> tensor([[[ 0.5132, -0.0354, -1.3574],\n",
       "│                    [ 0.1288, -0.0066, -0.3082]],\n",
       "│           \n",
       "│                   [[ 0.5132, -0.0354, -1.3574],\n",
       "│                    [ 0.1288, -0.0066, -0.3082]],\n",
       "│           \n",
       "│                   [[ 0.5132, -0.0354, -1.3574],\n",
       "│                    [ 0.1288, -0.0066, -0.3082]],\n",
       "│           \n",
       "│                   [[ 0.5132, -0.0354, -1.3574],\n",
       "│                    [ 0.1288, -0.0066, -0.3082]],\n",
       "│           \n",
       "│                   [[ 0.5132, -0.0354, -1.3574],\n",
       "│                    [ 0.1288, -0.0066, -0.3082]],\n",
       "│           \n",
       "│                   [[ 0.5132, -0.0354, -1.3574],\n",
       "│                    [ 0.1288, -0.0066, -0.3082]],\n",
       "│           \n",
       "│                   [[ 0.5132, -0.0354, -1.3574],\n",
       "│                    [ 0.1288, -0.0066, -0.3082]],\n",
       "│           \n",
       "│                   [[ 0.5132, -0.0354, -1.3574],\n",
       "│                    [ 0.1288, -0.0066, -0.3082]]])\n",
       "└── 'x' --> <FastTreeValue 0x7f5119154f40>\n",
       "    └── 'c' --> tensor([[[ 0.1688,  1.2293, -1.7571,  0.2018],\n",
       "                         [-1.0934, -0.7801, -0.7857, -0.6936],\n",
       "                         [-0.7203,  0.0250,  1.1158,  0.2297]],\n",
       "                \n",
       "                        [[ 0.1688,  1.2293, -1.7571,  0.2018],\n",
       "                         [-1.0934, -0.7801, -0.7857, -0.6936],\n",
       "                         [-0.7203,  0.0250,  1.1158,  0.2297]],\n",
       "                \n",
       "                        [[ 0.1688,  1.2293, -1.7571,  0.2018],\n",
       "                         [-1.0934, -0.7801, -0.7857, -0.6936],\n",
       "                         [-0.7203,  0.0250,  1.1158,  0.2297]],\n",
       "                \n",
       "                        [[ 0.1688,  1.2293, -1.7571,  0.2018],\n",
       "                         [-1.0934, -0.7801, -0.7857, -0.6936],\n",
       "                         [-0.7203,  0.0250,  1.1158,  0.2297]],\n",
       "                \n",
       "                        [[ 0.1688,  1.2293, -1.7571,  0.2018],\n",
       "                         [-1.0934, -0.7801, -0.7857, -0.6936],\n",
       "                         [-0.7203,  0.0250,  1.1158,  0.2297]],\n",
       "                \n",
       "                        [[ 0.1688,  1.2293, -1.7571,  0.2018],\n",
       "                         [-1.0934, -0.7801, -0.7857, -0.6936],\n",
       "                         [-0.7203,  0.0250,  1.1158,  0.2297]],\n",
       "                \n",
       "                        [[ 0.1688,  1.2293, -1.7571,  0.2018],\n",
       "                         [-1.0934, -0.7801, -0.7857, -0.6936],\n",
       "                         [-0.7203,  0.0250,  1.1158,  0.2297]],\n",
       "                \n",
       "                        [[ 0.1688,  1.2293, -1.7571,  0.2018],\n",
       "                         [-1.0934, -0.7801, -0.7857, -0.6936],\n",
       "                         [-0.7203,  0.0250,  1.1158,  0.2297]]])"
      ]
     },
     "execution_count": 20,
     "metadata": {},
     "output_type": "execute_result"
    }
   ],
   "source": [
    "t_stack = FastTreeValue.func(subside=True)(torch.stack)\n",
    "\n",
    "t_stack(trees)"
   ]
  },
  {
   "cell_type": "code",
   "execution_count": 21,
   "id": "f8b3f415",
   "metadata": {
    "execution": {
     "iopub.execute_input": "2023-03-06T18:02:47.926931Z",
     "iopub.status.busy": "2023-03-06T18:02:47.926420Z",
     "iopub.status.idle": "2023-03-06T18:02:50.554353Z",
     "shell.execute_reply": "2023-03-06T18:02:50.553635Z"
    }
   },
   "outputs": [
    {
     "name": "stdout",
     "output_type": "stream",
     "text": [
      "32.3 µs ± 93.2 ns per loop (mean ± std. dev. of 7 runs, 10,000 loops each)\n"
     ]
    }
   ],
   "source": [
    "%timeit t_stack(trees)"
   ]
  },
  {
   "cell_type": "code",
   "execution_count": 22,
   "id": "94b56771",
   "metadata": {
    "execution": {
     "iopub.execute_input": "2023-03-06T18:02:50.557439Z",
     "iopub.status.busy": "2023-03-06T18:02:50.557079Z",
     "iopub.status.idle": "2023-03-06T18:02:50.565023Z",
     "shell.execute_reply": "2023-03-06T18:02:50.564443Z"
    }
   },
   "outputs": [
    {
     "data": {
      "text/plain": [
       "<FastTreeValue 0x7f5119793430>\n",
       "├── 'a' --> tensor([[ 0.5132, -0.0354, -1.3574],\n",
       "│                   [ 0.1288, -0.0066, -0.3082],\n",
       "│                   [ 0.5132, -0.0354, -1.3574],\n",
       "│                   [ 0.1288, -0.0066, -0.3082],\n",
       "│                   [ 0.5132, -0.0354, -1.3574],\n",
       "│                   [ 0.1288, -0.0066, -0.3082],\n",
       "│                   [ 0.5132, -0.0354, -1.3574],\n",
       "│                   [ 0.1288, -0.0066, -0.3082],\n",
       "│                   [ 0.5132, -0.0354, -1.3574],\n",
       "│                   [ 0.1288, -0.0066, -0.3082],\n",
       "│                   [ 0.5132, -0.0354, -1.3574],\n",
       "│                   [ 0.1288, -0.0066, -0.3082],\n",
       "│                   [ 0.5132, -0.0354, -1.3574],\n",
       "│                   [ 0.1288, -0.0066, -0.3082],\n",
       "│                   [ 0.5132, -0.0354, -1.3574],\n",
       "│                   [ 0.1288, -0.0066, -0.3082]])\n",
       "└── 'x' --> <FastTreeValue 0x7f51d0e9ae50>\n",
       "    └── 'c' --> tensor([[ 0.1688,  1.2293, -1.7571,  0.2018],\n",
       "                        [-1.0934, -0.7801, -0.7857, -0.6936],\n",
       "                        [-0.7203,  0.0250,  1.1158,  0.2297],\n",
       "                        [ 0.1688,  1.2293, -1.7571,  0.2018],\n",
       "                        [-1.0934, -0.7801, -0.7857, -0.6936],\n",
       "                        [-0.7203,  0.0250,  1.1158,  0.2297],\n",
       "                        [ 0.1688,  1.2293, -1.7571,  0.2018],\n",
       "                        [-1.0934, -0.7801, -0.7857, -0.6936],\n",
       "                        [-0.7203,  0.0250,  1.1158,  0.2297],\n",
       "                        [ 0.1688,  1.2293, -1.7571,  0.2018],\n",
       "                        [-1.0934, -0.7801, -0.7857, -0.6936],\n",
       "                        [-0.7203,  0.0250,  1.1158,  0.2297],\n",
       "                        [ 0.1688,  1.2293, -1.7571,  0.2018],\n",
       "                        [-1.0934, -0.7801, -0.7857, -0.6936],\n",
       "                        [-0.7203,  0.0250,  1.1158,  0.2297],\n",
       "                        [ 0.1688,  1.2293, -1.7571,  0.2018],\n",
       "                        [-1.0934, -0.7801, -0.7857, -0.6936],\n",
       "                        [-0.7203,  0.0250,  1.1158,  0.2297],\n",
       "                        [ 0.1688,  1.2293, -1.7571,  0.2018],\n",
       "                        [-1.0934, -0.7801, -0.7857, -0.6936],\n",
       "                        [-0.7203,  0.0250,  1.1158,  0.2297],\n",
       "                        [ 0.1688,  1.2293, -1.7571,  0.2018],\n",
       "                        [-1.0934, -0.7801, -0.7857, -0.6936],\n",
       "                        [-0.7203,  0.0250,  1.1158,  0.2297]])"
      ]
     },
     "execution_count": 22,
     "metadata": {},
     "output_type": "execute_result"
    }
   ],
   "source": [
    "t_cat = FastTreeValue.func(subside=True)(torch.cat)\n",
    "\n",
    "t_cat(trees)"
   ]
  },
  {
   "cell_type": "code",
   "execution_count": 23,
   "id": "5e9c06a6",
   "metadata": {
    "execution": {
     "iopub.execute_input": "2023-03-06T18:02:50.567753Z",
     "iopub.status.busy": "2023-03-06T18:02:50.567519Z",
     "iopub.status.idle": "2023-03-06T18:02:53.030960Z",
     "shell.execute_reply": "2023-03-06T18:02:53.030291Z"
    }
   },
   "outputs": [
    {
     "name": "stdout",
     "output_type": "stream",
     "text": [
      "30.3 µs ± 67 ns per loop (mean ± std. dev. of 7 runs, 10,000 loops each)\n"
     ]
    }
   ],
   "source": [
    "%timeit t_cat(trees)"
   ]
  },
  {
   "cell_type": "code",
   "execution_count": 24,
   "id": "a3ab5c8f",
   "metadata": {
    "execution": {
     "iopub.execute_input": "2023-03-06T18:02:53.033973Z",
     "iopub.status.busy": "2023-03-06T18:02:53.033418Z",
     "iopub.status.idle": "2023-03-06T18:02:57.929624Z",
     "shell.execute_reply": "2023-03-06T18:02:57.928946Z"
    }
   },
   "outputs": [
    {
     "name": "stdout",
     "output_type": "stream",
     "text": [
      "60.2 µs ± 202 ns per loop (mean ± std. dev. of 7 runs, 10,000 loops each)\n"
     ]
    }
   ],
   "source": [
    "t_split = FastTreeValue.func(rise=True)(torch.split)\n",
    "tree = FastTreeValue({\n",
    "    'obs': torch.randn(8, 4, 84, 84),\n",
    "    'action': torch.randint(0, 6, size=(8, 1,)),\n",
    "    'reward': torch.rand(8, 1),\n",
    "})\n",
    "\n",
    "%timeit t_split(tree, 1)"
   ]
  },
  {
   "cell_type": "markdown",
   "id": "31c3ec0b",
   "metadata": {},
   "source": [
    "### Performance of Tianshou Batch"
   ]
  },
  {
   "cell_type": "code",
   "execution_count": 25,
   "id": "9ead828a",
   "metadata": {
    "execution": {
     "iopub.execute_input": "2023-03-06T18:02:57.932866Z",
     "iopub.status.busy": "2023-03-06T18:02:57.932293Z",
     "iopub.status.idle": "2023-03-06T18:02:57.940157Z",
     "shell.execute_reply": "2023-03-06T18:02:57.939574Z"
    }
   },
   "outputs": [
    {
     "data": {
      "text/plain": [
       "Batch(\n",
       "    a: tensor([[[ 0.5132, -0.0354, -1.3574],\n",
       "                [ 0.1288, -0.0066, -0.3082]],\n",
       "       \n",
       "               [[ 0.5132, -0.0354, -1.3574],\n",
       "                [ 0.1288, -0.0066, -0.3082]],\n",
       "       \n",
       "               [[ 0.5132, -0.0354, -1.3574],\n",
       "                [ 0.1288, -0.0066, -0.3082]],\n",
       "       \n",
       "               [[ 0.5132, -0.0354, -1.3574],\n",
       "                [ 0.1288, -0.0066, -0.3082]],\n",
       "       \n",
       "               [[ 0.5132, -0.0354, -1.3574],\n",
       "                [ 0.1288, -0.0066, -0.3082]],\n",
       "       \n",
       "               [[ 0.5132, -0.0354, -1.3574],\n",
       "                [ 0.1288, -0.0066, -0.3082]],\n",
       "       \n",
       "               [[ 0.5132, -0.0354, -1.3574],\n",
       "                [ 0.1288, -0.0066, -0.3082]],\n",
       "       \n",
       "               [[ 0.5132, -0.0354, -1.3574],\n",
       "                [ 0.1288, -0.0066, -0.3082]]]),\n",
       "    x: Batch(\n",
       "           c: tensor([[[ 0.1688,  1.2293, -1.7571,  0.2018],\n",
       "                       [-1.0934, -0.7801, -0.7857, -0.6936],\n",
       "                       [-0.7203,  0.0250,  1.1158,  0.2297]],\n",
       "              \n",
       "                      [[ 0.1688,  1.2293, -1.7571,  0.2018],\n",
       "                       [-1.0934, -0.7801, -0.7857, -0.6936],\n",
       "                       [-0.7203,  0.0250,  1.1158,  0.2297]],\n",
       "              \n",
       "                      [[ 0.1688,  1.2293, -1.7571,  0.2018],\n",
       "                       [-1.0934, -0.7801, -0.7857, -0.6936],\n",
       "                       [-0.7203,  0.0250,  1.1158,  0.2297]],\n",
       "              \n",
       "                      [[ 0.1688,  1.2293, -1.7571,  0.2018],\n",
       "                       [-1.0934, -0.7801, -0.7857, -0.6936],\n",
       "                       [-0.7203,  0.0250,  1.1158,  0.2297]],\n",
       "              \n",
       "                      [[ 0.1688,  1.2293, -1.7571,  0.2018],\n",
       "                       [-1.0934, -0.7801, -0.7857, -0.6936],\n",
       "                       [-0.7203,  0.0250,  1.1158,  0.2297]],\n",
       "              \n",
       "                      [[ 0.1688,  1.2293, -1.7571,  0.2018],\n",
       "                       [-1.0934, -0.7801, -0.7857, -0.6936],\n",
       "                       [-0.7203,  0.0250,  1.1158,  0.2297]],\n",
       "              \n",
       "                      [[ 0.1688,  1.2293, -1.7571,  0.2018],\n",
       "                       [-1.0934, -0.7801, -0.7857, -0.6936],\n",
       "                       [-0.7203,  0.0250,  1.1158,  0.2297]],\n",
       "              \n",
       "                      [[ 0.1688,  1.2293, -1.7571,  0.2018],\n",
       "                       [-1.0934, -0.7801, -0.7857, -0.6936],\n",
       "                       [-0.7203,  0.0250,  1.1158,  0.2297]]]),\n",
       "       ),\n",
       ")"
      ]
     },
     "execution_count": 25,
     "metadata": {},
     "output_type": "execute_result"
    }
   ],
   "source": [
    "batches = [Batch(**_TREE_DATA_2) for _ in range(8)]\n",
    "\n",
    "Batch.stack(batches)"
   ]
  },
  {
   "cell_type": "code",
   "execution_count": 26,
   "id": "ec9037a3",
   "metadata": {
    "execution": {
     "iopub.execute_input": "2023-03-06T18:02:57.943058Z",
     "iopub.status.busy": "2023-03-06T18:02:57.942689Z",
     "iopub.status.idle": "2023-03-06T18:03:05.686866Z",
     "shell.execute_reply": "2023-03-06T18:03:05.686118Z"
    }
   },
   "outputs": [
    {
     "name": "stdout",
     "output_type": "stream",
     "text": [
      "95.3 µs ± 80.7 ns per loop (mean ± std. dev. of 7 runs, 10,000 loops each)\n"
     ]
    }
   ],
   "source": [
    "%timeit Batch.stack(batches)"
   ]
  },
  {
   "cell_type": "code",
   "execution_count": 27,
   "id": "cb8ab77e",
   "metadata": {
    "execution": {
     "iopub.execute_input": "2023-03-06T18:03:05.689997Z",
     "iopub.status.busy": "2023-03-06T18:03:05.689365Z",
     "iopub.status.idle": "2023-03-06T18:03:05.697279Z",
     "shell.execute_reply": "2023-03-06T18:03:05.696678Z"
    }
   },
   "outputs": [
    {
     "data": {
      "text/plain": [
       "Batch(\n",
       "    a: tensor([[ 0.5132, -0.0354, -1.3574],\n",
       "               [ 0.1288, -0.0066, -0.3082],\n",
       "               [ 0.5132, -0.0354, -1.3574],\n",
       "               [ 0.1288, -0.0066, -0.3082],\n",
       "               [ 0.5132, -0.0354, -1.3574],\n",
       "               [ 0.1288, -0.0066, -0.3082],\n",
       "               [ 0.5132, -0.0354, -1.3574],\n",
       "               [ 0.1288, -0.0066, -0.3082],\n",
       "               [ 0.5132, -0.0354, -1.3574],\n",
       "               [ 0.1288, -0.0066, -0.3082],\n",
       "               [ 0.5132, -0.0354, -1.3574],\n",
       "               [ 0.1288, -0.0066, -0.3082],\n",
       "               [ 0.5132, -0.0354, -1.3574],\n",
       "               [ 0.1288, -0.0066, -0.3082],\n",
       "               [ 0.5132, -0.0354, -1.3574],\n",
       "               [ 0.1288, -0.0066, -0.3082]]),\n",
       "    x: Batch(\n",
       "           c: tensor([[ 0.1688,  1.2293, -1.7571,  0.2018],\n",
       "                      [-1.0934, -0.7801, -0.7857, -0.6936],\n",
       "                      [-0.7203,  0.0250,  1.1158,  0.2297],\n",
       "                      [ 0.1688,  1.2293, -1.7571,  0.2018],\n",
       "                      [-1.0934, -0.7801, -0.7857, -0.6936],\n",
       "                      [-0.7203,  0.0250,  1.1158,  0.2297],\n",
       "                      [ 0.1688,  1.2293, -1.7571,  0.2018],\n",
       "                      [-1.0934, -0.7801, -0.7857, -0.6936],\n",
       "                      [-0.7203,  0.0250,  1.1158,  0.2297],\n",
       "                      [ 0.1688,  1.2293, -1.7571,  0.2018],\n",
       "                      [-1.0934, -0.7801, -0.7857, -0.6936],\n",
       "                      [-0.7203,  0.0250,  1.1158,  0.2297],\n",
       "                      [ 0.1688,  1.2293, -1.7571,  0.2018],\n",
       "                      [-1.0934, -0.7801, -0.7857, -0.6936],\n",
       "                      [-0.7203,  0.0250,  1.1158,  0.2297],\n",
       "                      [ 0.1688,  1.2293, -1.7571,  0.2018],\n",
       "                      [-1.0934, -0.7801, -0.7857, -0.6936],\n",
       "                      [-0.7203,  0.0250,  1.1158,  0.2297],\n",
       "                      [ 0.1688,  1.2293, -1.7571,  0.2018],\n",
       "                      [-1.0934, -0.7801, -0.7857, -0.6936],\n",
       "                      [-0.7203,  0.0250,  1.1158,  0.2297],\n",
       "                      [ 0.1688,  1.2293, -1.7571,  0.2018],\n",
       "                      [-1.0934, -0.7801, -0.7857, -0.6936],\n",
       "                      [-0.7203,  0.0250,  1.1158,  0.2297]]),\n",
       "       ),\n",
       ")"
      ]
     },
     "execution_count": 27,
     "metadata": {},
     "output_type": "execute_result"
    }
   ],
   "source": [
    "Batch.cat(batches)"
   ]
  },
  {
   "cell_type": "code",
   "execution_count": 28,
   "id": "18dfb045",
   "metadata": {
    "execution": {
     "iopub.execute_input": "2023-03-06T18:03:05.700340Z",
     "iopub.status.busy": "2023-03-06T18:03:05.699815Z",
     "iopub.status.idle": "2023-03-06T18:03:17.394249Z",
     "shell.execute_reply": "2023-03-06T18:03:17.393496Z"
    }
   },
   "outputs": [
    {
     "name": "stdout",
     "output_type": "stream",
     "text": [
      "144 µs ± 214 ns per loop (mean ± std. dev. of 7 runs, 10,000 loops each)\n"
     ]
    }
   ],
   "source": [
    "%timeit Batch.cat(batches)"
   ]
  },
  {
   "cell_type": "code",
   "execution_count": 29,
   "id": "c6688e51",
   "metadata": {
    "execution": {
     "iopub.execute_input": "2023-03-06T18:03:17.397400Z",
     "iopub.status.busy": "2023-03-06T18:03:17.397038Z",
     "iopub.status.idle": "2023-03-06T18:03:19.900018Z",
     "shell.execute_reply": "2023-03-06T18:03:19.899437Z"
    }
   },
   "outputs": [
    {
     "name": "stdout",
     "output_type": "stream",
     "text": [
      "308 µs ± 4.4 µs per loop (mean ± std. dev. of 7 runs, 1,000 loops each)\n"
     ]
    }
   ],
   "source": [
    "batch = Batch({\n",
    "    'obs': torch.randn(8, 4, 84, 84),\n",
    "    'action': torch.randint(0, 6, size=(8, 1,)),\n",
    "    'reward': torch.rand(8, 1)}\n",
    ")\n",
    "\n",
    "%timeit list(Batch.split(batch, 1, shuffle=False, merge_last=True))"
   ]
  },
  {
   "cell_type": "code",
   "execution_count": null,
   "id": "2539fbd9",
   "metadata": {},
   "outputs": [],
   "source": []
  }
 ],
 "metadata": {
  "kernelspec": {
   "display_name": "Python 3 (ipykernel)",
   "language": "python",
   "name": "python3"
  },
  "language_info": {
   "codemirror_mode": {
    "name": "ipython",
    "version": 3
   },
   "file_extension": ".py",
   "mimetype": "text/x-python",
   "name": "python",
   "nbconvert_exporter": "python",
   "pygments_lexer": "ipython3",
   "version": "3.8.16"
  }
 },
 "nbformat": 4,
 "nbformat_minor": 5
}
