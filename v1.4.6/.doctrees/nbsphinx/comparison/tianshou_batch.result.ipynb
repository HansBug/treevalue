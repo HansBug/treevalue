{
 "cells": [
  {
   "cell_type": "markdown",
   "id": "9d39d946",
   "metadata": {},
   "source": [
    "# Comparison Between TreeValue and Tianshou Batch"
   ]
  },
  {
   "cell_type": "markdown",
   "id": "3c6db2d4",
   "metadata": {},
   "source": [
    "In this section, we will take a look at the feature and performance of the [Tianshou Batch](https://github.com/thu-ml/tianshou) library, which is developed by Tsinghua Machine Learning Group."
   ]
  },
  {
   "cell_type": "markdown",
   "id": "069361b0",
   "metadata": {},
   "source": [
    "Before starting the comparison, let us define some thing."
   ]
  },
  {
   "cell_type": "code",
   "execution_count": 1,
   "id": "06fc8d26",
   "metadata": {
    "execution": {
     "iopub.execute_input": "2023-02-27T11:16:56.505162Z",
     "iopub.status.busy": "2023-02-27T11:16:56.504555Z",
     "iopub.status.idle": "2023-02-27T11:16:57.491293Z",
     "shell.execute_reply": "2023-02-27T11:16:57.490468Z"
    }
   },
   "outputs": [
    {
     "name": "stderr",
     "output_type": "stream",
     "text": [
      "/opt/hostedtoolcache/Python/3.8.16/x64/lib/python3.8/site-packages/tqdm/auto.py:22: TqdmWarning: IProgress not found. Please update jupyter and ipywidgets. See https://ipywidgets.readthedocs.io/en/stable/user_install.html\n",
      "  from .autonotebook import tqdm as notebook_tqdm\n"
     ]
    }
   ],
   "source": [
    "import torch \n",
    "\n",
    "_TREE_DATA_1 = {'a': 1, 'b': 2, 'x': {'c': 3, 'd': 4}}\n",
    "_TREE_DATA_2 = {\n",
    "    'a': torch.randn(2, 3), \n",
    "    'x': {\n",
    "        'c': torch.randn(3, 4)\n",
    "    },\n",
    "}\n",
    "_TREE_DATA_3 = {\n",
    "    'obs': torch.randn(4, 84, 84),\n",
    "    'action': torch.randint(0, 6, size=(1,)),\n",
    "    'reward': torch.rand(1),\n",
    "}"
   ]
  },
  {
   "cell_type": "markdown",
   "id": "83461b25",
   "metadata": {},
   "source": [
    "## Read and Write Operation"
   ]
  },
  {
   "cell_type": "markdown",
   "id": "067b3f73",
   "metadata": {},
   "source": [
    "Reading and writing are the two most common operations in the tree data structure based on the data model (TreeValue and Tianshou Batch both belong to this type), so this section will compare the reading and writing performance of these two libraries."
   ]
  },
  {
   "cell_type": "markdown",
   "id": "5d09a5b7",
   "metadata": {},
   "source": [
    "### TreeValue's Get and Set"
   ]
  },
  {
   "cell_type": "code",
   "execution_count": 2,
   "id": "9519c4bb",
   "metadata": {
    "execution": {
     "iopub.execute_input": "2023-02-27T11:16:57.495371Z",
     "iopub.status.busy": "2023-02-27T11:16:57.494924Z",
     "iopub.status.idle": "2023-02-27T11:16:57.787772Z",
     "shell.execute_reply": "2023-02-27T11:16:57.786959Z"
    }
   },
   "outputs": [],
   "source": [
    "from treevalue import FastTreeValue\n",
    "\n",
    "t = FastTreeValue(_TREE_DATA_2)"
   ]
  },
  {
   "cell_type": "code",
   "execution_count": 3,
   "id": "11c37677",
   "metadata": {
    "execution": {
     "iopub.execute_input": "2023-02-27T11:16:57.791733Z",
     "iopub.status.busy": "2023-02-27T11:16:57.791237Z",
     "iopub.status.idle": "2023-02-27T11:16:57.803065Z",
     "shell.execute_reply": "2023-02-27T11:16:57.802005Z"
    }
   },
   "outputs": [
    {
     "data": {
      "text/plain": [
       "<FastTreeValue 0x7f2884b18c70>\n",
       "├── 'a' --> tensor([[ 0.0779, -1.5959, -1.3566],\n",
       "│                   [-1.2300, -2.0051,  0.9038]])\n",
       "└── 'x' --> <FastTreeValue 0x7f2884b18c40>\n",
       "    └── 'c' --> tensor([[-0.2267,  0.3418,  0.2282, -0.2655],\n",
       "                        [-2.3643, -0.3023, -0.1733, -0.5833],\n",
       "                        [ 1.7385,  1.3557,  0.6516, -0.8202]])"
      ]
     },
     "execution_count": 3,
     "metadata": {},
     "output_type": "execute_result"
    }
   ],
   "source": [
    "t"
   ]
  },
  {
   "cell_type": "code",
   "execution_count": 4,
   "id": "fd70b0b9",
   "metadata": {
    "execution": {
     "iopub.execute_input": "2023-02-27T11:16:57.806276Z",
     "iopub.status.busy": "2023-02-27T11:16:57.805697Z",
     "iopub.status.idle": "2023-02-27T11:16:57.812009Z",
     "shell.execute_reply": "2023-02-27T11:16:57.811414Z"
    }
   },
   "outputs": [
    {
     "data": {
      "text/plain": [
       "tensor([[ 0.0779, -1.5959, -1.3566],\n",
       "        [-1.2300, -2.0051,  0.9038]])"
      ]
     },
     "execution_count": 4,
     "metadata": {},
     "output_type": "execute_result"
    }
   ],
   "source": [
    "t.a"
   ]
  },
  {
   "cell_type": "code",
   "execution_count": 5,
   "id": "c18197bd",
   "metadata": {
    "execution": {
     "iopub.execute_input": "2023-02-27T11:16:57.815053Z",
     "iopub.status.busy": "2023-02-27T11:16:57.814497Z",
     "iopub.status.idle": "2023-02-27T11:17:03.000227Z",
     "shell.execute_reply": "2023-02-27T11:17:02.999386Z"
    }
   },
   "outputs": [
    {
     "name": "stdout",
     "output_type": "stream",
     "text": [
      "63.8 ns ± 0.117 ns per loop (mean ± std. dev. of 7 runs, 10,000,000 loops each)\n"
     ]
    }
   ],
   "source": [
    "%timeit t.a"
   ]
  },
  {
   "cell_type": "code",
   "execution_count": 6,
   "id": "bd52f867",
   "metadata": {
    "execution": {
     "iopub.execute_input": "2023-02-27T11:17:03.003731Z",
     "iopub.status.busy": "2023-02-27T11:17:03.003230Z",
     "iopub.status.idle": "2023-02-27T11:17:03.010518Z",
     "shell.execute_reply": "2023-02-27T11:17:03.009881Z"
    }
   },
   "outputs": [
    {
     "data": {
      "text/plain": [
       "<FastTreeValue 0x7f2884b18c70>\n",
       "├── 'a' --> tensor([[-0.9932, -0.2601, -0.1468],\n",
       "│                   [ 0.0334, -1.9604,  1.9036]])\n",
       "└── 'x' --> <FastTreeValue 0x7f2884b18c40>\n",
       "    └── 'c' --> tensor([[-0.2267,  0.3418,  0.2282, -0.2655],\n",
       "                        [-2.3643, -0.3023, -0.1733, -0.5833],\n",
       "                        [ 1.7385,  1.3557,  0.6516, -0.8202]])"
      ]
     },
     "execution_count": 6,
     "metadata": {},
     "output_type": "execute_result"
    }
   ],
   "source": [
    "new_value = torch.randn(2, 3)\n",
    "t.a = new_value\n",
    "\n",
    "t"
   ]
  },
  {
   "cell_type": "code",
   "execution_count": 7,
   "id": "bbe04d1c",
   "metadata": {
    "execution": {
     "iopub.execute_input": "2023-02-27T11:17:03.013173Z",
     "iopub.status.busy": "2023-02-27T11:17:03.012800Z",
     "iopub.status.idle": "2023-02-27T11:17:08.416383Z",
     "shell.execute_reply": "2023-02-27T11:17:08.415278Z"
    }
   },
   "outputs": [
    {
     "name": "stdout",
     "output_type": "stream",
     "text": [
      "66.5 ns ± 0.0835 ns per loop (mean ± std. dev. of 7 runs, 10,000,000 loops each)\n"
     ]
    }
   ],
   "source": [
    "%timeit t.a = new_value"
   ]
  },
  {
   "cell_type": "markdown",
   "id": "48c49731",
   "metadata": {},
   "source": [
    "### Tianshou Batch's Get and Set"
   ]
  },
  {
   "cell_type": "code",
   "execution_count": 8,
   "id": "f1bb14c1",
   "metadata": {
    "execution": {
     "iopub.execute_input": "2023-02-27T11:17:08.420055Z",
     "iopub.status.busy": "2023-02-27T11:17:08.419462Z",
     "iopub.status.idle": "2023-02-27T11:17:08.787730Z",
     "shell.execute_reply": "2023-02-27T11:17:08.786905Z"
    }
   },
   "outputs": [],
   "source": [
    "from tianshou.data import Batch\n",
    "\n",
    "b = Batch(**_TREE_DATA_2)"
   ]
  },
  {
   "cell_type": "code",
   "execution_count": 9,
   "id": "cb0777c3",
   "metadata": {
    "execution": {
     "iopub.execute_input": "2023-02-27T11:17:08.791653Z",
     "iopub.status.busy": "2023-02-27T11:17:08.791017Z",
     "iopub.status.idle": "2023-02-27T11:17:08.797569Z",
     "shell.execute_reply": "2023-02-27T11:17:08.796851Z"
    }
   },
   "outputs": [
    {
     "data": {
      "text/plain": [
       "Batch(\n",
       "    a: tensor([[ 0.0779, -1.5959, -1.3566],\n",
       "               [-1.2300, -2.0051,  0.9038]]),\n",
       "    x: Batch(\n",
       "           c: tensor([[-0.2267,  0.3418,  0.2282, -0.2655],\n",
       "                      [-2.3643, -0.3023, -0.1733, -0.5833],\n",
       "                      [ 1.7385,  1.3557,  0.6516, -0.8202]]),\n",
       "       ),\n",
       ")"
      ]
     },
     "execution_count": 9,
     "metadata": {},
     "output_type": "execute_result"
    }
   ],
   "source": [
    "b"
   ]
  },
  {
   "cell_type": "code",
   "execution_count": 10,
   "id": "43ef8ea3",
   "metadata": {
    "execution": {
     "iopub.execute_input": "2023-02-27T11:17:08.800746Z",
     "iopub.status.busy": "2023-02-27T11:17:08.800342Z",
     "iopub.status.idle": "2023-02-27T11:17:08.805648Z",
     "shell.execute_reply": "2023-02-27T11:17:08.804970Z"
    }
   },
   "outputs": [
    {
     "data": {
      "text/plain": [
       "tensor([[ 0.0779, -1.5959, -1.3566],\n",
       "        [-1.2300, -2.0051,  0.9038]])"
      ]
     },
     "execution_count": 10,
     "metadata": {},
     "output_type": "execute_result"
    }
   ],
   "source": [
    "b.a"
   ]
  },
  {
   "cell_type": "code",
   "execution_count": 11,
   "id": "b785ab72",
   "metadata": {
    "execution": {
     "iopub.execute_input": "2023-02-27T11:17:08.808811Z",
     "iopub.status.busy": "2023-02-27T11:17:08.808354Z",
     "iopub.status.idle": "2023-02-27T11:17:13.626426Z",
     "shell.execute_reply": "2023-02-27T11:17:13.625657Z"
    }
   },
   "outputs": [
    {
     "name": "stdout",
     "output_type": "stream",
     "text": [
      "59.2 ns ± 0.0377 ns per loop (mean ± std. dev. of 7 runs, 10,000,000 loops each)\n"
     ]
    }
   ],
   "source": [
    "%timeit b.a"
   ]
  },
  {
   "cell_type": "code",
   "execution_count": 12,
   "id": "ad54dc69",
   "metadata": {
    "execution": {
     "iopub.execute_input": "2023-02-27T11:17:13.630339Z",
     "iopub.status.busy": "2023-02-27T11:17:13.629691Z",
     "iopub.status.idle": "2023-02-27T11:17:13.636964Z",
     "shell.execute_reply": "2023-02-27T11:17:13.636312Z"
    }
   },
   "outputs": [
    {
     "data": {
      "text/plain": [
       "Batch(\n",
       "    a: tensor([[-0.4483,  0.9863, -1.8117],\n",
       "               [ 0.5261,  1.6320,  1.5772]]),\n",
       "    x: Batch(\n",
       "           c: tensor([[-0.2267,  0.3418,  0.2282, -0.2655],\n",
       "                      [-2.3643, -0.3023, -0.1733, -0.5833],\n",
       "                      [ 1.7385,  1.3557,  0.6516, -0.8202]]),\n",
       "       ),\n",
       ")"
      ]
     },
     "execution_count": 12,
     "metadata": {},
     "output_type": "execute_result"
    }
   ],
   "source": [
    "new_value = torch.randn(2, 3)\n",
    "b.a = new_value\n",
    "\n",
    "b"
   ]
  },
  {
   "cell_type": "code",
   "execution_count": 13,
   "id": "29b1d0bf",
   "metadata": {
    "execution": {
     "iopub.execute_input": "2023-02-27T11:17:13.639913Z",
     "iopub.status.busy": "2023-02-27T11:17:13.639273Z",
     "iopub.status.idle": "2023-02-27T11:17:17.627379Z",
     "shell.execute_reply": "2023-02-27T11:17:17.626496Z"
    }
   },
   "outputs": [
    {
     "name": "stdout",
     "output_type": "stream",
     "text": [
      "491 ns ± 0.126 ns per loop (mean ± std. dev. of 7 runs, 1,000,000 loops each)\n"
     ]
    }
   ],
   "source": [
    "%timeit b.a = new_value"
   ]
  },
  {
   "cell_type": "markdown",
   "id": "b61ad1d0",
   "metadata": {},
   "source": [
    "## Initialization"
   ]
  },
  {
   "cell_type": "markdown",
   "id": "d70f0d54",
   "metadata": {},
   "source": [
    "### TreeValue's Initialization"
   ]
  },
  {
   "cell_type": "code",
   "execution_count": 14,
   "id": "d32a679b",
   "metadata": {
    "execution": {
     "iopub.execute_input": "2023-02-27T11:17:17.631323Z",
     "iopub.status.busy": "2023-02-27T11:17:17.630690Z",
     "iopub.status.idle": "2023-02-27T11:17:24.325694Z",
     "shell.execute_reply": "2023-02-27T11:17:24.325026Z"
    }
   },
   "outputs": [
    {
     "name": "stdout",
     "output_type": "stream",
     "text": [
      "824 ns ± 0.357 ns per loop (mean ± std. dev. of 7 runs, 1,000,000 loops each)\n"
     ]
    }
   ],
   "source": [
    "%timeit FastTreeValue(_TREE_DATA_1)"
   ]
  },
  {
   "cell_type": "markdown",
   "id": "24f3707b",
   "metadata": {},
   "source": [
    "### Tianshou Batch's Initialization"
   ]
  },
  {
   "cell_type": "code",
   "execution_count": 15,
   "id": "ac3958df",
   "metadata": {
    "execution": {
     "iopub.execute_input": "2023-02-27T11:17:24.329112Z",
     "iopub.status.busy": "2023-02-27T11:17:24.328729Z",
     "iopub.status.idle": "2023-02-27T11:17:33.156657Z",
     "shell.execute_reply": "2023-02-27T11:17:33.155764Z"
    }
   },
   "outputs": [
    {
     "name": "stdout",
     "output_type": "stream",
     "text": [
      "10.9 µs ± 32.2 ns per loop (mean ± std. dev. of 7 runs, 100,000 loops each)\n"
     ]
    }
   ],
   "source": [
    "%timeit Batch(**_TREE_DATA_1)"
   ]
  },
  {
   "cell_type": "markdown",
   "id": "1ab82e2d",
   "metadata": {},
   "source": [
    "## Deep Copy Operation"
   ]
  },
  {
   "cell_type": "code",
   "execution_count": 16,
   "id": "210a9442",
   "metadata": {
    "execution": {
     "iopub.execute_input": "2023-02-27T11:17:33.160169Z",
     "iopub.status.busy": "2023-02-27T11:17:33.159614Z",
     "iopub.status.idle": "2023-02-27T11:17:33.163157Z",
     "shell.execute_reply": "2023-02-27T11:17:33.162403Z"
    }
   },
   "outputs": [],
   "source": [
    "import copy"
   ]
  },
  {
   "cell_type": "markdown",
   "id": "5a736274",
   "metadata": {},
   "source": [
    "### Deep Copy of TreeValue"
   ]
  },
  {
   "cell_type": "code",
   "execution_count": 17,
   "id": "f9bcadd6",
   "metadata": {
    "execution": {
     "iopub.execute_input": "2023-02-27T11:17:33.166077Z",
     "iopub.status.busy": "2023-02-27T11:17:33.165621Z",
     "iopub.status.idle": "2023-02-27T11:17:44.813909Z",
     "shell.execute_reply": "2023-02-27T11:17:44.813079Z"
    }
   },
   "outputs": [
    {
     "name": "stdout",
     "output_type": "stream",
     "text": [
      "143 µs ± 744 ns per loop (mean ± std. dev. of 7 runs, 10,000 loops each)\n"
     ]
    }
   ],
   "source": [
    "t3 = FastTreeValue(_TREE_DATA_3)\n",
    "%timeit copy.deepcopy(t3)"
   ]
  },
  {
   "cell_type": "markdown",
   "id": "bf8be7ea",
   "metadata": {},
   "source": [
    "### Deep Copy of Tianshou Batch"
   ]
  },
  {
   "cell_type": "code",
   "execution_count": 18,
   "id": "91998e6f",
   "metadata": {
    "execution": {
     "iopub.execute_input": "2023-02-27T11:17:44.818075Z",
     "iopub.status.busy": "2023-02-27T11:17:44.816838Z",
     "iopub.status.idle": "2023-02-27T11:17:56.427853Z",
     "shell.execute_reply": "2023-02-27T11:17:56.427098Z"
    }
   },
   "outputs": [
    {
     "name": "stdout",
     "output_type": "stream",
     "text": [
      "143 µs ± 405 ns per loop (mean ± std. dev. of 7 runs, 10,000 loops each)\n"
     ]
    }
   ],
   "source": [
    "b3 = Batch(**_TREE_DATA_3)\n",
    "%timeit copy.deepcopy(b3)"
   ]
  },
  {
   "cell_type": "markdown",
   "id": "223162fb",
   "metadata": {},
   "source": [
    "## Stack, Concat and Split Operation"
   ]
  },
  {
   "cell_type": "markdown",
   "id": "85fa4a73",
   "metadata": {},
   "source": [
    "### Performance of TreeValue"
   ]
  },
  {
   "cell_type": "code",
   "execution_count": 19,
   "id": "a0c2b697",
   "metadata": {
    "execution": {
     "iopub.execute_input": "2023-02-27T11:17:56.431559Z",
     "iopub.status.busy": "2023-02-27T11:17:56.430955Z",
     "iopub.status.idle": "2023-02-27T11:17:56.435542Z",
     "shell.execute_reply": "2023-02-27T11:17:56.434804Z"
    }
   },
   "outputs": [],
   "source": [
    "trees = [FastTreeValue(_TREE_DATA_2) for _ in range(8)]"
   ]
  },
  {
   "cell_type": "code",
   "execution_count": 20,
   "id": "017ea5a5",
   "metadata": {
    "execution": {
     "iopub.execute_input": "2023-02-27T11:17:56.438389Z",
     "iopub.status.busy": "2023-02-27T11:17:56.438040Z",
     "iopub.status.idle": "2023-02-27T11:17:56.447298Z",
     "shell.execute_reply": "2023-02-27T11:17:56.445842Z"
    }
   },
   "outputs": [
    {
     "data": {
      "text/plain": [
       "<FastTreeValue 0x7f27cee59a30>\n",
       "├── 'a' --> tensor([[[ 0.0779, -1.5959, -1.3566],\n",
       "│                    [-1.2300, -2.0051,  0.9038]],\n",
       "│           \n",
       "│                   [[ 0.0779, -1.5959, -1.3566],\n",
       "│                    [-1.2300, -2.0051,  0.9038]],\n",
       "│           \n",
       "│                   [[ 0.0779, -1.5959, -1.3566],\n",
       "│                    [-1.2300, -2.0051,  0.9038]],\n",
       "│           \n",
       "│                   [[ 0.0779, -1.5959, -1.3566],\n",
       "│                    [-1.2300, -2.0051,  0.9038]],\n",
       "│           \n",
       "│                   [[ 0.0779, -1.5959, -1.3566],\n",
       "│                    [-1.2300, -2.0051,  0.9038]],\n",
       "│           \n",
       "│                   [[ 0.0779, -1.5959, -1.3566],\n",
       "│                    [-1.2300, -2.0051,  0.9038]],\n",
       "│           \n",
       "│                   [[ 0.0779, -1.5959, -1.3566],\n",
       "│                    [-1.2300, -2.0051,  0.9038]],\n",
       "│           \n",
       "│                   [[ 0.0779, -1.5959, -1.3566],\n",
       "│                    [-1.2300, -2.0051,  0.9038]]])\n",
       "└── 'x' --> <FastTreeValue 0x7f27cee04f40>\n",
       "    └── 'c' --> tensor([[[-0.2267,  0.3418,  0.2282, -0.2655],\n",
       "                         [-2.3643, -0.3023, -0.1733, -0.5833],\n",
       "                         [ 1.7385,  1.3557,  0.6516, -0.8202]],\n",
       "                \n",
       "                        [[-0.2267,  0.3418,  0.2282, -0.2655],\n",
       "                         [-2.3643, -0.3023, -0.1733, -0.5833],\n",
       "                         [ 1.7385,  1.3557,  0.6516, -0.8202]],\n",
       "                \n",
       "                        [[-0.2267,  0.3418,  0.2282, -0.2655],\n",
       "                         [-2.3643, -0.3023, -0.1733, -0.5833],\n",
       "                         [ 1.7385,  1.3557,  0.6516, -0.8202]],\n",
       "                \n",
       "                        [[-0.2267,  0.3418,  0.2282, -0.2655],\n",
       "                         [-2.3643, -0.3023, -0.1733, -0.5833],\n",
       "                         [ 1.7385,  1.3557,  0.6516, -0.8202]],\n",
       "                \n",
       "                        [[-0.2267,  0.3418,  0.2282, -0.2655],\n",
       "                         [-2.3643, -0.3023, -0.1733, -0.5833],\n",
       "                         [ 1.7385,  1.3557,  0.6516, -0.8202]],\n",
       "                \n",
       "                        [[-0.2267,  0.3418,  0.2282, -0.2655],\n",
       "                         [-2.3643, -0.3023, -0.1733, -0.5833],\n",
       "                         [ 1.7385,  1.3557,  0.6516, -0.8202]],\n",
       "                \n",
       "                        [[-0.2267,  0.3418,  0.2282, -0.2655],\n",
       "                         [-2.3643, -0.3023, -0.1733, -0.5833],\n",
       "                         [ 1.7385,  1.3557,  0.6516, -0.8202]],\n",
       "                \n",
       "                        [[-0.2267,  0.3418,  0.2282, -0.2655],\n",
       "                         [-2.3643, -0.3023, -0.1733, -0.5833],\n",
       "                         [ 1.7385,  1.3557,  0.6516, -0.8202]]])"
      ]
     },
     "execution_count": 20,
     "metadata": {},
     "output_type": "execute_result"
    }
   ],
   "source": [
    "t_stack = FastTreeValue.func(subside=True)(torch.stack)\n",
    "\n",
    "t_stack(trees)"
   ]
  },
  {
   "cell_type": "code",
   "execution_count": 21,
   "id": "f8b3f415",
   "metadata": {
    "execution": {
     "iopub.execute_input": "2023-02-27T11:17:56.449624Z",
     "iopub.status.busy": "2023-02-27T11:17:56.449411Z",
     "iopub.status.idle": "2023-02-27T11:17:59.109380Z",
     "shell.execute_reply": "2023-02-27T11:17:59.108500Z"
    }
   },
   "outputs": [
    {
     "name": "stdout",
     "output_type": "stream",
     "text": [
      "32.7 µs ± 105 ns per loop (mean ± std. dev. of 7 runs, 10,000 loops each)\n"
     ]
    }
   ],
   "source": [
    "%timeit t_stack(trees)"
   ]
  },
  {
   "cell_type": "code",
   "execution_count": 22,
   "id": "94b56771",
   "metadata": {
    "execution": {
     "iopub.execute_input": "2023-02-27T11:17:59.113389Z",
     "iopub.status.busy": "2023-02-27T11:17:59.112793Z",
     "iopub.status.idle": "2023-02-27T11:17:59.122599Z",
     "shell.execute_reply": "2023-02-27T11:17:59.121965Z"
    }
   },
   "outputs": [
    {
     "data": {
      "text/plain": [
       "<FastTreeValue 0x7f27cf426910>\n",
       "├── 'a' --> tensor([[ 0.0779, -1.5959, -1.3566],\n",
       "│                   [-1.2300, -2.0051,  0.9038],\n",
       "│                   [ 0.0779, -1.5959, -1.3566],\n",
       "│                   [-1.2300, -2.0051,  0.9038],\n",
       "│                   [ 0.0779, -1.5959, -1.3566],\n",
       "│                   [-1.2300, -2.0051,  0.9038],\n",
       "│                   [ 0.0779, -1.5959, -1.3566],\n",
       "│                   [-1.2300, -2.0051,  0.9038],\n",
       "│                   [ 0.0779, -1.5959, -1.3566],\n",
       "│                   [-1.2300, -2.0051,  0.9038],\n",
       "│                   [ 0.0779, -1.5959, -1.3566],\n",
       "│                   [-1.2300, -2.0051,  0.9038],\n",
       "│                   [ 0.0779, -1.5959, -1.3566],\n",
       "│                   [-1.2300, -2.0051,  0.9038],\n",
       "│                   [ 0.0779, -1.5959, -1.3566],\n",
       "│                   [-1.2300, -2.0051,  0.9038]])\n",
       "└── 'x' --> <FastTreeValue 0x7f27cedec040>\n",
       "    └── 'c' --> tensor([[-0.2267,  0.3418,  0.2282, -0.2655],\n",
       "                        [-2.3643, -0.3023, -0.1733, -0.5833],\n",
       "                        [ 1.7385,  1.3557,  0.6516, -0.8202],\n",
       "                        [-0.2267,  0.3418,  0.2282, -0.2655],\n",
       "                        [-2.3643, -0.3023, -0.1733, -0.5833],\n",
       "                        [ 1.7385,  1.3557,  0.6516, -0.8202],\n",
       "                        [-0.2267,  0.3418,  0.2282, -0.2655],\n",
       "                        [-2.3643, -0.3023, -0.1733, -0.5833],\n",
       "                        [ 1.7385,  1.3557,  0.6516, -0.8202],\n",
       "                        [-0.2267,  0.3418,  0.2282, -0.2655],\n",
       "                        [-2.3643, -0.3023, -0.1733, -0.5833],\n",
       "                        [ 1.7385,  1.3557,  0.6516, -0.8202],\n",
       "                        [-0.2267,  0.3418,  0.2282, -0.2655],\n",
       "                        [-2.3643, -0.3023, -0.1733, -0.5833],\n",
       "                        [ 1.7385,  1.3557,  0.6516, -0.8202],\n",
       "                        [-0.2267,  0.3418,  0.2282, -0.2655],\n",
       "                        [-2.3643, -0.3023, -0.1733, -0.5833],\n",
       "                        [ 1.7385,  1.3557,  0.6516, -0.8202],\n",
       "                        [-0.2267,  0.3418,  0.2282, -0.2655],\n",
       "                        [-2.3643, -0.3023, -0.1733, -0.5833],\n",
       "                        [ 1.7385,  1.3557,  0.6516, -0.8202],\n",
       "                        [-0.2267,  0.3418,  0.2282, -0.2655],\n",
       "                        [-2.3643, -0.3023, -0.1733, -0.5833],\n",
       "                        [ 1.7385,  1.3557,  0.6516, -0.8202]])"
      ]
     },
     "execution_count": 22,
     "metadata": {},
     "output_type": "execute_result"
    }
   ],
   "source": [
    "t_cat = FastTreeValue.func(subside=True)(torch.cat)\n",
    "\n",
    "t_cat(trees)"
   ]
  },
  {
   "cell_type": "code",
   "execution_count": 23,
   "id": "5e9c06a6",
   "metadata": {
    "execution": {
     "iopub.execute_input": "2023-02-27T11:17:59.125488Z",
     "iopub.status.busy": "2023-02-27T11:17:59.125135Z",
     "iopub.status.idle": "2023-02-27T11:18:01.613767Z",
     "shell.execute_reply": "2023-02-27T11:18:01.612906Z"
    }
   },
   "outputs": [
    {
     "name": "stdout",
     "output_type": "stream",
     "text": [
      "30.6 µs ± 68.9 ns per loop (mean ± std. dev. of 7 runs, 10,000 loops each)\n"
     ]
    }
   ],
   "source": [
    "%timeit t_cat(trees)"
   ]
  },
  {
   "cell_type": "code",
   "execution_count": 24,
   "id": "a3ab5c8f",
   "metadata": {
    "execution": {
     "iopub.execute_input": "2023-02-27T11:18:01.617322Z",
     "iopub.status.busy": "2023-02-27T11:18:01.616737Z",
     "iopub.status.idle": "2023-02-27T11:18:06.239509Z",
     "shell.execute_reply": "2023-02-27T11:18:06.238697Z"
    }
   },
   "outputs": [
    {
     "name": "stdout",
     "output_type": "stream",
     "text": [
      "56.8 µs ± 132 ns per loop (mean ± std. dev. of 7 runs, 10,000 loops each)\n"
     ]
    }
   ],
   "source": [
    "t_split = FastTreeValue.func(rise=True)(torch.split)\n",
    "tree = FastTreeValue({\n",
    "    'obs': torch.randn(8, 4, 84, 84),\n",
    "    'action': torch.randint(0, 6, size=(8, 1,)),\n",
    "    'reward': torch.rand(8, 1),\n",
    "})\n",
    "\n",
    "%timeit t_split(tree, 1)"
   ]
  },
  {
   "cell_type": "markdown",
   "id": "31c3ec0b",
   "metadata": {},
   "source": [
    "### Performance of Tianshou Batch"
   ]
  },
  {
   "cell_type": "code",
   "execution_count": 25,
   "id": "9ead828a",
   "metadata": {
    "execution": {
     "iopub.execute_input": "2023-02-27T11:18:06.243134Z",
     "iopub.status.busy": "2023-02-27T11:18:06.242569Z",
     "iopub.status.idle": "2023-02-27T11:18:06.251394Z",
     "shell.execute_reply": "2023-02-27T11:18:06.250272Z"
    }
   },
   "outputs": [
    {
     "data": {
      "text/plain": [
       "Batch(\n",
       "    a: tensor([[[ 0.0779, -1.5959, -1.3566],\n",
       "                [-1.2300, -2.0051,  0.9038]],\n",
       "       \n",
       "               [[ 0.0779, -1.5959, -1.3566],\n",
       "                [-1.2300, -2.0051,  0.9038]],\n",
       "       \n",
       "               [[ 0.0779, -1.5959, -1.3566],\n",
       "                [-1.2300, -2.0051,  0.9038]],\n",
       "       \n",
       "               [[ 0.0779, -1.5959, -1.3566],\n",
       "                [-1.2300, -2.0051,  0.9038]],\n",
       "       \n",
       "               [[ 0.0779, -1.5959, -1.3566],\n",
       "                [-1.2300, -2.0051,  0.9038]],\n",
       "       \n",
       "               [[ 0.0779, -1.5959, -1.3566],\n",
       "                [-1.2300, -2.0051,  0.9038]],\n",
       "       \n",
       "               [[ 0.0779, -1.5959, -1.3566],\n",
       "                [-1.2300, -2.0051,  0.9038]],\n",
       "       \n",
       "               [[ 0.0779, -1.5959, -1.3566],\n",
       "                [-1.2300, -2.0051,  0.9038]]]),\n",
       "    x: Batch(\n",
       "           c: tensor([[[-0.2267,  0.3418,  0.2282, -0.2655],\n",
       "                       [-2.3643, -0.3023, -0.1733, -0.5833],\n",
       "                       [ 1.7385,  1.3557,  0.6516, -0.8202]],\n",
       "              \n",
       "                      [[-0.2267,  0.3418,  0.2282, -0.2655],\n",
       "                       [-2.3643, -0.3023, -0.1733, -0.5833],\n",
       "                       [ 1.7385,  1.3557,  0.6516, -0.8202]],\n",
       "              \n",
       "                      [[-0.2267,  0.3418,  0.2282, -0.2655],\n",
       "                       [-2.3643, -0.3023, -0.1733, -0.5833],\n",
       "                       [ 1.7385,  1.3557,  0.6516, -0.8202]],\n",
       "              \n",
       "                      [[-0.2267,  0.3418,  0.2282, -0.2655],\n",
       "                       [-2.3643, -0.3023, -0.1733, -0.5833],\n",
       "                       [ 1.7385,  1.3557,  0.6516, -0.8202]],\n",
       "              \n",
       "                      [[-0.2267,  0.3418,  0.2282, -0.2655],\n",
       "                       [-2.3643, -0.3023, -0.1733, -0.5833],\n",
       "                       [ 1.7385,  1.3557,  0.6516, -0.8202]],\n",
       "              \n",
       "                      [[-0.2267,  0.3418,  0.2282, -0.2655],\n",
       "                       [-2.3643, -0.3023, -0.1733, -0.5833],\n",
       "                       [ 1.7385,  1.3557,  0.6516, -0.8202]],\n",
       "              \n",
       "                      [[-0.2267,  0.3418,  0.2282, -0.2655],\n",
       "                       [-2.3643, -0.3023, -0.1733, -0.5833],\n",
       "                       [ 1.7385,  1.3557,  0.6516, -0.8202]],\n",
       "              \n",
       "                      [[-0.2267,  0.3418,  0.2282, -0.2655],\n",
       "                       [-2.3643, -0.3023, -0.1733, -0.5833],\n",
       "                       [ 1.7385,  1.3557,  0.6516, -0.8202]]]),\n",
       "       ),\n",
       ")"
      ]
     },
     "execution_count": 25,
     "metadata": {},
     "output_type": "execute_result"
    }
   ],
   "source": [
    "batches = [Batch(**_TREE_DATA_2) for _ in range(8)]\n",
    "\n",
    "Batch.stack(batches)"
   ]
  },
  {
   "cell_type": "code",
   "execution_count": 26,
   "id": "ec9037a3",
   "metadata": {
    "execution": {
     "iopub.execute_input": "2023-02-27T11:18:06.253945Z",
     "iopub.status.busy": "2023-02-27T11:18:06.253579Z",
     "iopub.status.idle": "2023-02-27T11:18:12.525253Z",
     "shell.execute_reply": "2023-02-27T11:18:12.524385Z"
    }
   },
   "outputs": [
    {
     "name": "stdout",
     "output_type": "stream",
     "text": [
      "77.1 µs ± 180 ns per loop (mean ± std. dev. of 7 runs, 10,000 loops each)\n"
     ]
    }
   ],
   "source": [
    "%timeit Batch.stack(batches)"
   ]
  },
  {
   "cell_type": "code",
   "execution_count": 27,
   "id": "cb8ab77e",
   "metadata": {
    "execution": {
     "iopub.execute_input": "2023-02-27T11:18:12.529068Z",
     "iopub.status.busy": "2023-02-27T11:18:12.528648Z",
     "iopub.status.idle": "2023-02-27T11:18:12.537967Z",
     "shell.execute_reply": "2023-02-27T11:18:12.537124Z"
    }
   },
   "outputs": [
    {
     "data": {
      "text/plain": [
       "Batch(\n",
       "    a: tensor([[ 0.0779, -1.5959, -1.3566],\n",
       "               [-1.2300, -2.0051,  0.9038],\n",
       "               [ 0.0779, -1.5959, -1.3566],\n",
       "               [-1.2300, -2.0051,  0.9038],\n",
       "               [ 0.0779, -1.5959, -1.3566],\n",
       "               [-1.2300, -2.0051,  0.9038],\n",
       "               [ 0.0779, -1.5959, -1.3566],\n",
       "               [-1.2300, -2.0051,  0.9038],\n",
       "               [ 0.0779, -1.5959, -1.3566],\n",
       "               [-1.2300, -2.0051,  0.9038],\n",
       "               [ 0.0779, -1.5959, -1.3566],\n",
       "               [-1.2300, -2.0051,  0.9038],\n",
       "               [ 0.0779, -1.5959, -1.3566],\n",
       "               [-1.2300, -2.0051,  0.9038],\n",
       "               [ 0.0779, -1.5959, -1.3566],\n",
       "               [-1.2300, -2.0051,  0.9038]]),\n",
       "    x: Batch(\n",
       "           c: tensor([[-0.2267,  0.3418,  0.2282, -0.2655],\n",
       "                      [-2.3643, -0.3023, -0.1733, -0.5833],\n",
       "                      [ 1.7385,  1.3557,  0.6516, -0.8202],\n",
       "                      [-0.2267,  0.3418,  0.2282, -0.2655],\n",
       "                      [-2.3643, -0.3023, -0.1733, -0.5833],\n",
       "                      [ 1.7385,  1.3557,  0.6516, -0.8202],\n",
       "                      [-0.2267,  0.3418,  0.2282, -0.2655],\n",
       "                      [-2.3643, -0.3023, -0.1733, -0.5833],\n",
       "                      [ 1.7385,  1.3557,  0.6516, -0.8202],\n",
       "                      [-0.2267,  0.3418,  0.2282, -0.2655],\n",
       "                      [-2.3643, -0.3023, -0.1733, -0.5833],\n",
       "                      [ 1.7385,  1.3557,  0.6516, -0.8202],\n",
       "                      [-0.2267,  0.3418,  0.2282, -0.2655],\n",
       "                      [-2.3643, -0.3023, -0.1733, -0.5833],\n",
       "                      [ 1.7385,  1.3557,  0.6516, -0.8202],\n",
       "                      [-0.2267,  0.3418,  0.2282, -0.2655],\n",
       "                      [-2.3643, -0.3023, -0.1733, -0.5833],\n",
       "                      [ 1.7385,  1.3557,  0.6516, -0.8202],\n",
       "                      [-0.2267,  0.3418,  0.2282, -0.2655],\n",
       "                      [-2.3643, -0.3023, -0.1733, -0.5833],\n",
       "                      [ 1.7385,  1.3557,  0.6516, -0.8202],\n",
       "                      [-0.2267,  0.3418,  0.2282, -0.2655],\n",
       "                      [-2.3643, -0.3023, -0.1733, -0.5833],\n",
       "                      [ 1.7385,  1.3557,  0.6516, -0.8202]]),\n",
       "       ),\n",
       ")"
      ]
     },
     "execution_count": 27,
     "metadata": {},
     "output_type": "execute_result"
    }
   ],
   "source": [
    "Batch.cat(batches)"
   ]
  },
  {
   "cell_type": "code",
   "execution_count": 28,
   "id": "18dfb045",
   "metadata": {
    "execution": {
     "iopub.execute_input": "2023-02-27T11:18:12.541013Z",
     "iopub.status.busy": "2023-02-27T11:18:12.540487Z",
     "iopub.status.idle": "2023-02-27T11:18:24.209733Z",
     "shell.execute_reply": "2023-02-27T11:18:24.208880Z"
    }
   },
   "outputs": [
    {
     "name": "stdout",
     "output_type": "stream",
     "text": [
      "144 µs ± 433 ns per loop (mean ± std. dev. of 7 runs, 10,000 loops each)\n"
     ]
    }
   ],
   "source": [
    "%timeit Batch.cat(batches)"
   ]
  },
  {
   "cell_type": "code",
   "execution_count": 29,
   "id": "c6688e51",
   "metadata": {
    "execution": {
     "iopub.execute_input": "2023-02-27T11:18:24.213142Z",
     "iopub.status.busy": "2023-02-27T11:18:24.212711Z",
     "iopub.status.idle": "2023-02-27T11:18:26.881742Z",
     "shell.execute_reply": "2023-02-27T11:18:26.880963Z"
    }
   },
   "outputs": [
    {
     "name": "stdout",
     "output_type": "stream",
     "text": [
      "328 µs ± 1.43 µs per loop (mean ± std. dev. of 7 runs, 1,000 loops each)\n"
     ]
    }
   ],
   "source": [
    "batch = Batch({\n",
    "    'obs': torch.randn(8, 4, 84, 84),\n",
    "    'action': torch.randint(0, 6, size=(8, 1,)),\n",
    "    'reward': torch.rand(8, 1)}\n",
    ")\n",
    "\n",
    "%timeit list(Batch.split(batch, 1, shuffle=False, merge_last=True))"
   ]
  },
  {
   "cell_type": "code",
   "execution_count": null,
   "id": "2539fbd9",
   "metadata": {},
   "outputs": [],
   "source": []
  }
 ],
 "metadata": {
  "kernelspec": {
   "display_name": "Python 3 (ipykernel)",
   "language": "python",
   "name": "python3"
  },
  "language_info": {
   "codemirror_mode": {
    "name": "ipython",
    "version": 3
   },
   "file_extension": ".py",
   "mimetype": "text/x-python",
   "name": "python",
   "nbconvert_exporter": "python",
   "pygments_lexer": "ipython3",
   "version": "3.8.16"
  }
 },
 "nbformat": 4,
 "nbformat_minor": 5
}
