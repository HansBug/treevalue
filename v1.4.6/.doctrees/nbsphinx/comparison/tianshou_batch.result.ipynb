{
 "cells": [
  {
   "cell_type": "markdown",
   "id": "9d39d946",
   "metadata": {},
   "source": [
    "# Comparison Between TreeValue and Tianshou Batch"
   ]
  },
  {
   "cell_type": "markdown",
   "id": "3c6db2d4",
   "metadata": {},
   "source": [
    "In this section, we will take a look at the feature and performance of the [Tianshou Batch](https://github.com/thu-ml/tianshou) library, which is developed by Tsinghua Machine Learning Group."
   ]
  },
  {
   "cell_type": "markdown",
   "id": "069361b0",
   "metadata": {},
   "source": [
    "Before starting the comparison, let us define some thing."
   ]
  },
  {
   "cell_type": "code",
   "execution_count": 1,
   "id": "06fc8d26",
   "metadata": {
    "execution": {
     "iopub.execute_input": "2023-03-15T12:56:59.693965Z",
     "iopub.status.busy": "2023-03-15T12:56:59.693700Z",
     "iopub.status.idle": "2023-03-15T12:57:00.654446Z",
     "shell.execute_reply": "2023-03-15T12:57:00.653681Z"
    }
   },
   "outputs": [
    {
     "name": "stderr",
     "output_type": "stream",
     "text": [
      "/opt/hostedtoolcache/Python/3.8.16/x64/lib/python3.8/site-packages/tqdm/auto.py:21: TqdmWarning: IProgress not found. Please update jupyter and ipywidgets. See https://ipywidgets.readthedocs.io/en/stable/user_install.html\n",
      "  from .autonotebook import tqdm as notebook_tqdm\n"
     ]
    }
   ],
   "source": [
    "import torch \n",
    "\n",
    "_TREE_DATA_1 = {'a': 1, 'b': 2, 'x': {'c': 3, 'd': 4}}\n",
    "_TREE_DATA_2 = {\n",
    "    'a': torch.randn(2, 3), \n",
    "    'x': {\n",
    "        'c': torch.randn(3, 4)\n",
    "    },\n",
    "}\n",
    "_TREE_DATA_3 = {\n",
    "    'obs': torch.randn(4, 84, 84),\n",
    "    'action': torch.randint(0, 6, size=(1,)),\n",
    "    'reward': torch.rand(1),\n",
    "}"
   ]
  },
  {
   "cell_type": "markdown",
   "id": "83461b25",
   "metadata": {},
   "source": [
    "## Read and Write Operation"
   ]
  },
  {
   "cell_type": "markdown",
   "id": "067b3f73",
   "metadata": {},
   "source": [
    "Reading and writing are the two most common operations in the tree data structure based on the data model (TreeValue and Tianshou Batch both belong to this type), so this section will compare the reading and writing performance of these two libraries."
   ]
  },
  {
   "cell_type": "markdown",
   "id": "5d09a5b7",
   "metadata": {},
   "source": [
    "### TreeValue's Get and Set"
   ]
  },
  {
   "cell_type": "code",
   "execution_count": 2,
   "id": "9519c4bb",
   "metadata": {
    "execution": {
     "iopub.execute_input": "2023-03-15T12:57:00.658715Z",
     "iopub.status.busy": "2023-03-15T12:57:00.658129Z",
     "iopub.status.idle": "2023-03-15T12:57:00.941289Z",
     "shell.execute_reply": "2023-03-15T12:57:00.940528Z"
    }
   },
   "outputs": [],
   "source": [
    "from treevalue import FastTreeValue\n",
    "\n",
    "t = FastTreeValue(_TREE_DATA_2)"
   ]
  },
  {
   "cell_type": "code",
   "execution_count": 3,
   "id": "11c37677",
   "metadata": {
    "execution": {
     "iopub.execute_input": "2023-03-15T12:57:00.945190Z",
     "iopub.status.busy": "2023-03-15T12:57:00.944634Z",
     "iopub.status.idle": "2023-03-15T12:57:00.955106Z",
     "shell.execute_reply": "2023-03-15T12:57:00.954420Z"
    }
   },
   "outputs": [
    {
     "data": {
      "text/plain": [
       "<FastTreeValue 0x7fd700284dc0>\n",
       "├── 'a' --> tensor([[-0.8330, -1.5985,  0.4937],\n",
       "│                   [-0.5222,  1.2119, -0.0678]])\n",
       "└── 'x' --> <FastTreeValue 0x7fd700284ca0>\n",
       "    └── 'c' --> tensor([[ 0.4604, -1.1836,  1.5184,  0.6800],\n",
       "                        [ 0.0513,  1.6735,  0.6170,  0.7493],\n",
       "                        [ 0.4952, -0.2171, -0.4603,  1.5569]])"
      ]
     },
     "execution_count": 3,
     "metadata": {},
     "output_type": "execute_result"
    }
   ],
   "source": [
    "t"
   ]
  },
  {
   "cell_type": "code",
   "execution_count": 4,
   "id": "fd70b0b9",
   "metadata": {
    "execution": {
     "iopub.execute_input": "2023-03-15T12:57:00.958081Z",
     "iopub.status.busy": "2023-03-15T12:57:00.957541Z",
     "iopub.status.idle": "2023-03-15T12:57:00.963658Z",
     "shell.execute_reply": "2023-03-15T12:57:00.963055Z"
    }
   },
   "outputs": [
    {
     "data": {
      "text/plain": [
       "tensor([[-0.8330, -1.5985,  0.4937],\n",
       "        [-0.5222,  1.2119, -0.0678]])"
      ]
     },
     "execution_count": 4,
     "metadata": {},
     "output_type": "execute_result"
    }
   ],
   "source": [
    "t.a"
   ]
  },
  {
   "cell_type": "code",
   "execution_count": 5,
   "id": "c18197bd",
   "metadata": {
    "execution": {
     "iopub.execute_input": "2023-03-15T12:57:00.966525Z",
     "iopub.status.busy": "2023-03-15T12:57:00.966181Z",
     "iopub.status.idle": "2023-03-15T12:57:06.274855Z",
     "shell.execute_reply": "2023-03-15T12:57:06.273988Z"
    }
   },
   "outputs": [
    {
     "name": "stdout",
     "output_type": "stream",
     "text": [
      "65.4 ns ± 0.0589 ns per loop (mean ± std. dev. of 7 runs, 10,000,000 loops each)\n"
     ]
    }
   ],
   "source": [
    "%timeit t.a"
   ]
  },
  {
   "cell_type": "code",
   "execution_count": 6,
   "id": "bd52f867",
   "metadata": {
    "execution": {
     "iopub.execute_input": "2023-03-15T12:57:06.278192Z",
     "iopub.status.busy": "2023-03-15T12:57:06.277775Z",
     "iopub.status.idle": "2023-03-15T12:57:06.285949Z",
     "shell.execute_reply": "2023-03-15T12:57:06.285285Z"
    }
   },
   "outputs": [
    {
     "data": {
      "text/plain": [
       "<FastTreeValue 0x7fd700284dc0>\n",
       "├── 'a' --> tensor([[ 0.1341,  0.5611, -0.3961],\n",
       "│                   [ 0.1902, -1.9328,  0.3654]])\n",
       "└── 'x' --> <FastTreeValue 0x7fd700284ca0>\n",
       "    └── 'c' --> tensor([[ 0.4604, -1.1836,  1.5184,  0.6800],\n",
       "                        [ 0.0513,  1.6735,  0.6170,  0.7493],\n",
       "                        [ 0.4952, -0.2171, -0.4603,  1.5569]])"
      ]
     },
     "execution_count": 6,
     "metadata": {},
     "output_type": "execute_result"
    }
   ],
   "source": [
    "new_value = torch.randn(2, 3)\n",
    "t.a = new_value\n",
    "\n",
    "t"
   ]
  },
  {
   "cell_type": "code",
   "execution_count": 7,
   "id": "bbe04d1c",
   "metadata": {
    "execution": {
     "iopub.execute_input": "2023-03-15T12:57:06.288640Z",
     "iopub.status.busy": "2023-03-15T12:57:06.288298Z",
     "iopub.status.idle": "2023-03-15T12:57:11.850190Z",
     "shell.execute_reply": "2023-03-15T12:57:11.849143Z"
    }
   },
   "outputs": [
    {
     "name": "stdout",
     "output_type": "stream",
     "text": [
      "68.5 ns ± 0.0638 ns per loop (mean ± std. dev. of 7 runs, 10,000,000 loops each)\n"
     ]
    }
   ],
   "source": [
    "%timeit t.a = new_value"
   ]
  },
  {
   "cell_type": "markdown",
   "id": "48c49731",
   "metadata": {},
   "source": [
    "### Tianshou Batch's Get and Set"
   ]
  },
  {
   "cell_type": "code",
   "execution_count": 8,
   "id": "f1bb14c1",
   "metadata": {
    "execution": {
     "iopub.execute_input": "2023-03-15T12:57:11.853549Z",
     "iopub.status.busy": "2023-03-15T12:57:11.853051Z",
     "iopub.status.idle": "2023-03-15T12:57:12.209529Z",
     "shell.execute_reply": "2023-03-15T12:57:12.208696Z"
    }
   },
   "outputs": [],
   "source": [
    "from tianshou.data import Batch\n",
    "\n",
    "b = Batch(**_TREE_DATA_2)"
   ]
  },
  {
   "cell_type": "code",
   "execution_count": 9,
   "id": "cb0777c3",
   "metadata": {
    "execution": {
     "iopub.execute_input": "2023-03-15T12:57:12.213363Z",
     "iopub.status.busy": "2023-03-15T12:57:12.212812Z",
     "iopub.status.idle": "2023-03-15T12:57:12.220877Z",
     "shell.execute_reply": "2023-03-15T12:57:12.219498Z"
    }
   },
   "outputs": [
    {
     "data": {
      "text/plain": [
       "Batch(\n",
       "    a: tensor([[-0.8330, -1.5985,  0.4937],\n",
       "               [-0.5222,  1.2119, -0.0678]]),\n",
       "    x: Batch(\n",
       "           c: tensor([[ 0.4604, -1.1836,  1.5184,  0.6800],\n",
       "                      [ 0.0513,  1.6735,  0.6170,  0.7493],\n",
       "                      [ 0.4952, -0.2171, -0.4603,  1.5569]]),\n",
       "       ),\n",
       ")"
      ]
     },
     "execution_count": 9,
     "metadata": {},
     "output_type": "execute_result"
    }
   ],
   "source": [
    "b"
   ]
  },
  {
   "cell_type": "code",
   "execution_count": 10,
   "id": "43ef8ea3",
   "metadata": {
    "execution": {
     "iopub.execute_input": "2023-03-15T12:57:12.223871Z",
     "iopub.status.busy": "2023-03-15T12:57:12.223444Z",
     "iopub.status.idle": "2023-03-15T12:57:12.229784Z",
     "shell.execute_reply": "2023-03-15T12:57:12.229172Z"
    }
   },
   "outputs": [
    {
     "data": {
      "text/plain": [
       "tensor([[-0.8330, -1.5985,  0.4937],\n",
       "        [-0.5222,  1.2119, -0.0678]])"
      ]
     },
     "execution_count": 10,
     "metadata": {},
     "output_type": "execute_result"
    }
   ],
   "source": [
    "b.a"
   ]
  },
  {
   "cell_type": "code",
   "execution_count": 11,
   "id": "b785ab72",
   "metadata": {
    "execution": {
     "iopub.execute_input": "2023-03-15T12:57:12.232681Z",
     "iopub.status.busy": "2023-03-15T12:57:12.232245Z",
     "iopub.status.idle": "2023-03-15T12:57:16.976622Z",
     "shell.execute_reply": "2023-03-15T12:57:16.975611Z"
    }
   },
   "outputs": [
    {
     "name": "stdout",
     "output_type": "stream",
     "text": [
      "58.4 ns ± 0.124 ns per loop (mean ± std. dev. of 7 runs, 10,000,000 loops each)\n"
     ]
    }
   ],
   "source": [
    "%timeit b.a"
   ]
  },
  {
   "cell_type": "code",
   "execution_count": 12,
   "id": "ad54dc69",
   "metadata": {
    "execution": {
     "iopub.execute_input": "2023-03-15T12:57:16.979999Z",
     "iopub.status.busy": "2023-03-15T12:57:16.979353Z",
     "iopub.status.idle": "2023-03-15T12:57:16.987133Z",
     "shell.execute_reply": "2023-03-15T12:57:16.986492Z"
    }
   },
   "outputs": [
    {
     "data": {
      "text/plain": [
       "Batch(\n",
       "    a: tensor([[ 0.5538, -2.1823, -0.1172],\n",
       "               [ 0.6849, -1.5255, -1.4571]]),\n",
       "    x: Batch(\n",
       "           c: tensor([[ 0.4604, -1.1836,  1.5184,  0.6800],\n",
       "                      [ 0.0513,  1.6735,  0.6170,  0.7493],\n",
       "                      [ 0.4952, -0.2171, -0.4603,  1.5569]]),\n",
       "       ),\n",
       ")"
      ]
     },
     "execution_count": 12,
     "metadata": {},
     "output_type": "execute_result"
    }
   ],
   "source": [
    "new_value = torch.randn(2, 3)\n",
    "b.a = new_value\n",
    "\n",
    "b"
   ]
  },
  {
   "cell_type": "code",
   "execution_count": 13,
   "id": "29b1d0bf",
   "metadata": {
    "execution": {
     "iopub.execute_input": "2023-03-15T12:57:16.989990Z",
     "iopub.status.busy": "2023-03-15T12:57:16.989591Z",
     "iopub.status.idle": "2023-03-15T12:57:20.968225Z",
     "shell.execute_reply": "2023-03-15T12:57:20.967314Z"
    }
   },
   "outputs": [
    {
     "name": "stdout",
     "output_type": "stream",
     "text": [
      "490 ns ± 0.123 ns per loop (mean ± std. dev. of 7 runs, 1,000,000 loops each)\n"
     ]
    }
   ],
   "source": [
    "%timeit b.a = new_value"
   ]
  },
  {
   "cell_type": "markdown",
   "id": "b61ad1d0",
   "metadata": {},
   "source": [
    "## Initialization"
   ]
  },
  {
   "cell_type": "markdown",
   "id": "d70f0d54",
   "metadata": {},
   "source": [
    "### TreeValue's Initialization"
   ]
  },
  {
   "cell_type": "code",
   "execution_count": 14,
   "id": "d32a679b",
   "metadata": {
    "execution": {
     "iopub.execute_input": "2023-03-15T12:57:20.971731Z",
     "iopub.status.busy": "2023-03-15T12:57:20.971234Z",
     "iopub.status.idle": "2023-03-15T12:57:27.705979Z",
     "shell.execute_reply": "2023-03-15T12:57:27.705061Z"
    }
   },
   "outputs": [
    {
     "name": "stdout",
     "output_type": "stream",
     "text": [
      "830 ns ± 0.772 ns per loop (mean ± std. dev. of 7 runs, 1,000,000 loops each)\n"
     ]
    }
   ],
   "source": [
    "%timeit FastTreeValue(_TREE_DATA_1)"
   ]
  },
  {
   "cell_type": "markdown",
   "id": "24f3707b",
   "metadata": {},
   "source": [
    "### Tianshou Batch's Initialization"
   ]
  },
  {
   "cell_type": "code",
   "execution_count": 15,
   "id": "ac3958df",
   "metadata": {
    "execution": {
     "iopub.execute_input": "2023-03-15T12:57:27.709746Z",
     "iopub.status.busy": "2023-03-15T12:57:27.709152Z",
     "iopub.status.idle": "2023-03-15T12:57:36.364623Z",
     "shell.execute_reply": "2023-03-15T12:57:36.363764Z"
    }
   },
   "outputs": [
    {
     "name": "stdout",
     "output_type": "stream",
     "text": [
      "10.7 µs ± 10.9 ns per loop (mean ± std. dev. of 7 runs, 100,000 loops each)\n"
     ]
    }
   ],
   "source": [
    "%timeit Batch(**_TREE_DATA_1)"
   ]
  },
  {
   "cell_type": "markdown",
   "id": "1ab82e2d",
   "metadata": {},
   "source": [
    "## Deep Copy Operation"
   ]
  },
  {
   "cell_type": "code",
   "execution_count": 16,
   "id": "210a9442",
   "metadata": {
    "execution": {
     "iopub.execute_input": "2023-03-15T12:57:36.368249Z",
     "iopub.status.busy": "2023-03-15T12:57:36.367670Z",
     "iopub.status.idle": "2023-03-15T12:57:36.372003Z",
     "shell.execute_reply": "2023-03-15T12:57:36.371378Z"
    }
   },
   "outputs": [],
   "source": [
    "import copy"
   ]
  },
  {
   "cell_type": "markdown",
   "id": "5a736274",
   "metadata": {},
   "source": [
    "### Deep Copy of TreeValue"
   ]
  },
  {
   "cell_type": "code",
   "execution_count": 17,
   "id": "f9bcadd6",
   "metadata": {
    "execution": {
     "iopub.execute_input": "2023-03-15T12:57:36.375108Z",
     "iopub.status.busy": "2023-03-15T12:57:36.374552Z",
     "iopub.status.idle": "2023-03-15T12:57:48.295846Z",
     "shell.execute_reply": "2023-03-15T12:57:48.295229Z"
    }
   },
   "outputs": [
    {
     "name": "stdout",
     "output_type": "stream",
     "text": [
      "146 µs ± 413 ns per loop (mean ± std. dev. of 7 runs, 10,000 loops each)\n"
     ]
    }
   ],
   "source": [
    "t3 = FastTreeValue(_TREE_DATA_3)\n",
    "%timeit copy.deepcopy(t3)"
   ]
  },
  {
   "cell_type": "markdown",
   "id": "bf8be7ea",
   "metadata": {},
   "source": [
    "### Deep Copy of Tianshou Batch"
   ]
  },
  {
   "cell_type": "code",
   "execution_count": 18,
   "id": "91998e6f",
   "metadata": {
    "execution": {
     "iopub.execute_input": "2023-03-15T12:57:48.299056Z",
     "iopub.status.busy": "2023-03-15T12:57:48.298385Z",
     "iopub.status.idle": "2023-03-15T12:57:59.900042Z",
     "shell.execute_reply": "2023-03-15T12:57:59.899150Z"
    }
   },
   "outputs": [
    {
     "name": "stdout",
     "output_type": "stream",
     "text": [
      "143 µs ± 1.09 µs per loop (mean ± std. dev. of 7 runs, 10,000 loops each)\n"
     ]
    }
   ],
   "source": [
    "b3 = Batch(**_TREE_DATA_3)\n",
    "%timeit copy.deepcopy(b3)"
   ]
  },
  {
   "cell_type": "markdown",
   "id": "223162fb",
   "metadata": {},
   "source": [
    "## Stack, Concat and Split Operation"
   ]
  },
  {
   "cell_type": "markdown",
   "id": "85fa4a73",
   "metadata": {},
   "source": [
    "### Performance of TreeValue"
   ]
  },
  {
   "cell_type": "code",
   "execution_count": 19,
   "id": "a0c2b697",
   "metadata": {
    "execution": {
     "iopub.execute_input": "2023-03-15T12:57:59.903280Z",
     "iopub.status.busy": "2023-03-15T12:57:59.902779Z",
     "iopub.status.idle": "2023-03-15T12:57:59.906519Z",
     "shell.execute_reply": "2023-03-15T12:57:59.905744Z"
    }
   },
   "outputs": [],
   "source": [
    "trees = [FastTreeValue(_TREE_DATA_2) for _ in range(8)]"
   ]
  },
  {
   "cell_type": "code",
   "execution_count": 20,
   "id": "017ea5a5",
   "metadata": {
    "execution": {
     "iopub.execute_input": "2023-03-15T12:57:59.909201Z",
     "iopub.status.busy": "2023-03-15T12:57:59.908609Z",
     "iopub.status.idle": "2023-03-15T12:57:59.916100Z",
     "shell.execute_reply": "2023-03-15T12:57:59.915203Z"
    }
   },
   "outputs": [
    {
     "data": {
      "text/plain": [
       "<FastTreeValue 0x7fd64acc0160>\n",
       "├── 'a' --> tensor([[[-0.8330, -1.5985,  0.4937],\n",
       "│                    [-0.5222,  1.2119, -0.0678]],\n",
       "│           \n",
       "│                   [[-0.8330, -1.5985,  0.4937],\n",
       "│                    [-0.5222,  1.2119, -0.0678]],\n",
       "│           \n",
       "│                   [[-0.8330, -1.5985,  0.4937],\n",
       "│                    [-0.5222,  1.2119, -0.0678]],\n",
       "│           \n",
       "│                   [[-0.8330, -1.5985,  0.4937],\n",
       "│                    [-0.5222,  1.2119, -0.0678]],\n",
       "│           \n",
       "│                   [[-0.8330, -1.5985,  0.4937],\n",
       "│                    [-0.5222,  1.2119, -0.0678]],\n",
       "│           \n",
       "│                   [[-0.8330, -1.5985,  0.4937],\n",
       "│                    [-0.5222,  1.2119, -0.0678]],\n",
       "│           \n",
       "│                   [[-0.8330, -1.5985,  0.4937],\n",
       "│                    [-0.5222,  1.2119, -0.0678]],\n",
       "│           \n",
       "│                   [[-0.8330, -1.5985,  0.4937],\n",
       "│                    [-0.5222,  1.2119, -0.0678]]])\n",
       "└── 'x' --> <FastTreeValue 0x7fd64acc0100>\n",
       "    └── 'c' --> tensor([[[ 0.4604, -1.1836,  1.5184,  0.6800],\n",
       "                         [ 0.0513,  1.6735,  0.6170,  0.7493],\n",
       "                         [ 0.4952, -0.2171, -0.4603,  1.5569]],\n",
       "                \n",
       "                        [[ 0.4604, -1.1836,  1.5184,  0.6800],\n",
       "                         [ 0.0513,  1.6735,  0.6170,  0.7493],\n",
       "                         [ 0.4952, -0.2171, -0.4603,  1.5569]],\n",
       "                \n",
       "                        [[ 0.4604, -1.1836,  1.5184,  0.6800],\n",
       "                         [ 0.0513,  1.6735,  0.6170,  0.7493],\n",
       "                         [ 0.4952, -0.2171, -0.4603,  1.5569]],\n",
       "                \n",
       "                        [[ 0.4604, -1.1836,  1.5184,  0.6800],\n",
       "                         [ 0.0513,  1.6735,  0.6170,  0.7493],\n",
       "                         [ 0.4952, -0.2171, -0.4603,  1.5569]],\n",
       "                \n",
       "                        [[ 0.4604, -1.1836,  1.5184,  0.6800],\n",
       "                         [ 0.0513,  1.6735,  0.6170,  0.7493],\n",
       "                         [ 0.4952, -0.2171, -0.4603,  1.5569]],\n",
       "                \n",
       "                        [[ 0.4604, -1.1836,  1.5184,  0.6800],\n",
       "                         [ 0.0513,  1.6735,  0.6170,  0.7493],\n",
       "                         [ 0.4952, -0.2171, -0.4603,  1.5569]],\n",
       "                \n",
       "                        [[ 0.4604, -1.1836,  1.5184,  0.6800],\n",
       "                         [ 0.0513,  1.6735,  0.6170,  0.7493],\n",
       "                         [ 0.4952, -0.2171, -0.4603,  1.5569]],\n",
       "                \n",
       "                        [[ 0.4604, -1.1836,  1.5184,  0.6800],\n",
       "                         [ 0.0513,  1.6735,  0.6170,  0.7493],\n",
       "                         [ 0.4952, -0.2171, -0.4603,  1.5569]]])"
      ]
     },
     "execution_count": 20,
     "metadata": {},
     "output_type": "execute_result"
    }
   ],
   "source": [
    "t_stack = FastTreeValue.func(subside=True)(torch.stack)\n",
    "\n",
    "t_stack(trees)"
   ]
  },
  {
   "cell_type": "code",
   "execution_count": 21,
   "id": "f8b3f415",
   "metadata": {
    "execution": {
     "iopub.execute_input": "2023-03-15T12:57:59.918739Z",
     "iopub.status.busy": "2023-03-15T12:57:59.918105Z",
     "iopub.status.idle": "2023-03-15T12:58:02.643639Z",
     "shell.execute_reply": "2023-03-15T12:58:02.642782Z"
    }
   },
   "outputs": [
    {
     "name": "stdout",
     "output_type": "stream",
     "text": [
      "33.4 µs ± 110 ns per loop (mean ± std. dev. of 7 runs, 10,000 loops each)\n"
     ]
    }
   ],
   "source": [
    "%timeit t_stack(trees)"
   ]
  },
  {
   "cell_type": "code",
   "execution_count": 22,
   "id": "94b56771",
   "metadata": {
    "execution": {
     "iopub.execute_input": "2023-03-15T12:58:02.647169Z",
     "iopub.status.busy": "2023-03-15T12:58:02.646755Z",
     "iopub.status.idle": "2023-03-15T12:58:02.655561Z",
     "shell.execute_reply": "2023-03-15T12:58:02.654933Z"
    }
   },
   "outputs": [
    {
     "data": {
      "text/plain": [
       "<FastTreeValue 0x7fd64acdd910>\n",
       "├── 'a' --> tensor([[-0.8330, -1.5985,  0.4937],\n",
       "│                   [-0.5222,  1.2119, -0.0678],\n",
       "│                   [-0.8330, -1.5985,  0.4937],\n",
       "│                   [-0.5222,  1.2119, -0.0678],\n",
       "│                   [-0.8330, -1.5985,  0.4937],\n",
       "│                   [-0.5222,  1.2119, -0.0678],\n",
       "│                   [-0.8330, -1.5985,  0.4937],\n",
       "│                   [-0.5222,  1.2119, -0.0678],\n",
       "│                   [-0.8330, -1.5985,  0.4937],\n",
       "│                   [-0.5222,  1.2119, -0.0678],\n",
       "│                   [-0.8330, -1.5985,  0.4937],\n",
       "│                   [-0.5222,  1.2119, -0.0678],\n",
       "│                   [-0.8330, -1.5985,  0.4937],\n",
       "│                   [-0.5222,  1.2119, -0.0678],\n",
       "│                   [-0.8330, -1.5985,  0.4937],\n",
       "│                   [-0.5222,  1.2119, -0.0678]])\n",
       "└── 'x' --> <FastTreeValue 0x7fd700269f10>\n",
       "    └── 'c' --> tensor([[ 0.4604, -1.1836,  1.5184,  0.6800],\n",
       "                        [ 0.0513,  1.6735,  0.6170,  0.7493],\n",
       "                        [ 0.4952, -0.2171, -0.4603,  1.5569],\n",
       "                        [ 0.4604, -1.1836,  1.5184,  0.6800],\n",
       "                        [ 0.0513,  1.6735,  0.6170,  0.7493],\n",
       "                        [ 0.4952, -0.2171, -0.4603,  1.5569],\n",
       "                        [ 0.4604, -1.1836,  1.5184,  0.6800],\n",
       "                        [ 0.0513,  1.6735,  0.6170,  0.7493],\n",
       "                        [ 0.4952, -0.2171, -0.4603,  1.5569],\n",
       "                        [ 0.4604, -1.1836,  1.5184,  0.6800],\n",
       "                        [ 0.0513,  1.6735,  0.6170,  0.7493],\n",
       "                        [ 0.4952, -0.2171, -0.4603,  1.5569],\n",
       "                        [ 0.4604, -1.1836,  1.5184,  0.6800],\n",
       "                        [ 0.0513,  1.6735,  0.6170,  0.7493],\n",
       "                        [ 0.4952, -0.2171, -0.4603,  1.5569],\n",
       "                        [ 0.4604, -1.1836,  1.5184,  0.6800],\n",
       "                        [ 0.0513,  1.6735,  0.6170,  0.7493],\n",
       "                        [ 0.4952, -0.2171, -0.4603,  1.5569],\n",
       "                        [ 0.4604, -1.1836,  1.5184,  0.6800],\n",
       "                        [ 0.0513,  1.6735,  0.6170,  0.7493],\n",
       "                        [ 0.4952, -0.2171, -0.4603,  1.5569],\n",
       "                        [ 0.4604, -1.1836,  1.5184,  0.6800],\n",
       "                        [ 0.0513,  1.6735,  0.6170,  0.7493],\n",
       "                        [ 0.4952, -0.2171, -0.4603,  1.5569]])"
      ]
     },
     "execution_count": 22,
     "metadata": {},
     "output_type": "execute_result"
    }
   ],
   "source": [
    "t_cat = FastTreeValue.func(subside=True)(torch.cat)\n",
    "\n",
    "t_cat(trees)"
   ]
  },
  {
   "cell_type": "code",
   "execution_count": 23,
   "id": "5e9c06a6",
   "metadata": {
    "execution": {
     "iopub.execute_input": "2023-03-15T12:58:02.658569Z",
     "iopub.status.busy": "2023-03-15T12:58:02.658024Z",
     "iopub.status.idle": "2023-03-15T12:58:05.206001Z",
     "shell.execute_reply": "2023-03-15T12:58:05.204799Z"
    }
   },
   "outputs": [
    {
     "name": "stdout",
     "output_type": "stream",
     "text": [
      "31.3 µs ± 55.4 ns per loop (mean ± std. dev. of 7 runs, 10,000 loops each)\n"
     ]
    }
   ],
   "source": [
    "%timeit t_cat(trees)"
   ]
  },
  {
   "cell_type": "code",
   "execution_count": 24,
   "id": "a3ab5c8f",
   "metadata": {
    "execution": {
     "iopub.execute_input": "2023-03-15T12:58:05.209246Z",
     "iopub.status.busy": "2023-03-15T12:58:05.208833Z",
     "iopub.status.idle": "2023-03-15T12:58:09.901809Z",
     "shell.execute_reply": "2023-03-15T12:58:09.900804Z"
    }
   },
   "outputs": [
    {
     "name": "stdout",
     "output_type": "stream",
     "text": [
      "57.7 µs ± 42.5 ns per loop (mean ± std. dev. of 7 runs, 10,000 loops each)\n"
     ]
    }
   ],
   "source": [
    "t_split = FastTreeValue.func(rise=True)(torch.split)\n",
    "tree = FastTreeValue({\n",
    "    'obs': torch.randn(8, 4, 84, 84),\n",
    "    'action': torch.randint(0, 6, size=(8, 1,)),\n",
    "    'reward': torch.rand(8, 1),\n",
    "})\n",
    "\n",
    "%timeit t_split(tree, 1)"
   ]
  },
  {
   "cell_type": "markdown",
   "id": "31c3ec0b",
   "metadata": {},
   "source": [
    "### Performance of Tianshou Batch"
   ]
  },
  {
   "cell_type": "code",
   "execution_count": 25,
   "id": "9ead828a",
   "metadata": {
    "execution": {
     "iopub.execute_input": "2023-03-15T12:58:09.904999Z",
     "iopub.status.busy": "2023-03-15T12:58:09.904623Z",
     "iopub.status.idle": "2023-03-15T12:58:09.913018Z",
     "shell.execute_reply": "2023-03-15T12:58:09.912391Z"
    }
   },
   "outputs": [
    {
     "data": {
      "text/plain": [
       "Batch(\n",
       "    a: tensor([[[-0.8330, -1.5985,  0.4937],\n",
       "                [-0.5222,  1.2119, -0.0678]],\n",
       "       \n",
       "               [[-0.8330, -1.5985,  0.4937],\n",
       "                [-0.5222,  1.2119, -0.0678]],\n",
       "       \n",
       "               [[-0.8330, -1.5985,  0.4937],\n",
       "                [-0.5222,  1.2119, -0.0678]],\n",
       "       \n",
       "               [[-0.8330, -1.5985,  0.4937],\n",
       "                [-0.5222,  1.2119, -0.0678]],\n",
       "       \n",
       "               [[-0.8330, -1.5985,  0.4937],\n",
       "                [-0.5222,  1.2119, -0.0678]],\n",
       "       \n",
       "               [[-0.8330, -1.5985,  0.4937],\n",
       "                [-0.5222,  1.2119, -0.0678]],\n",
       "       \n",
       "               [[-0.8330, -1.5985,  0.4937],\n",
       "                [-0.5222,  1.2119, -0.0678]],\n",
       "       \n",
       "               [[-0.8330, -1.5985,  0.4937],\n",
       "                [-0.5222,  1.2119, -0.0678]]]),\n",
       "    x: Batch(\n",
       "           c: tensor([[[ 0.4604, -1.1836,  1.5184,  0.6800],\n",
       "                       [ 0.0513,  1.6735,  0.6170,  0.7493],\n",
       "                       [ 0.4952, -0.2171, -0.4603,  1.5569]],\n",
       "              \n",
       "                      [[ 0.4604, -1.1836,  1.5184,  0.6800],\n",
       "                       [ 0.0513,  1.6735,  0.6170,  0.7493],\n",
       "                       [ 0.4952, -0.2171, -0.4603,  1.5569]],\n",
       "              \n",
       "                      [[ 0.4604, -1.1836,  1.5184,  0.6800],\n",
       "                       [ 0.0513,  1.6735,  0.6170,  0.7493],\n",
       "                       [ 0.4952, -0.2171, -0.4603,  1.5569]],\n",
       "              \n",
       "                      [[ 0.4604, -1.1836,  1.5184,  0.6800],\n",
       "                       [ 0.0513,  1.6735,  0.6170,  0.7493],\n",
       "                       [ 0.4952, -0.2171, -0.4603,  1.5569]],\n",
       "              \n",
       "                      [[ 0.4604, -1.1836,  1.5184,  0.6800],\n",
       "                       [ 0.0513,  1.6735,  0.6170,  0.7493],\n",
       "                       [ 0.4952, -0.2171, -0.4603,  1.5569]],\n",
       "              \n",
       "                      [[ 0.4604, -1.1836,  1.5184,  0.6800],\n",
       "                       [ 0.0513,  1.6735,  0.6170,  0.7493],\n",
       "                       [ 0.4952, -0.2171, -0.4603,  1.5569]],\n",
       "              \n",
       "                      [[ 0.4604, -1.1836,  1.5184,  0.6800],\n",
       "                       [ 0.0513,  1.6735,  0.6170,  0.7493],\n",
       "                       [ 0.4952, -0.2171, -0.4603,  1.5569]],\n",
       "              \n",
       "                      [[ 0.4604, -1.1836,  1.5184,  0.6800],\n",
       "                       [ 0.0513,  1.6735,  0.6170,  0.7493],\n",
       "                       [ 0.4952, -0.2171, -0.4603,  1.5569]]]),\n",
       "       ),\n",
       ")"
      ]
     },
     "execution_count": 25,
     "metadata": {},
     "output_type": "execute_result"
    }
   ],
   "source": [
    "batches = [Batch(**_TREE_DATA_2) for _ in range(8)]\n",
    "\n",
    "Batch.stack(batches)"
   ]
  },
  {
   "cell_type": "code",
   "execution_count": 26,
   "id": "ec9037a3",
   "metadata": {
    "execution": {
     "iopub.execute_input": "2023-03-15T12:58:09.916111Z",
     "iopub.status.busy": "2023-03-15T12:58:09.915465Z",
     "iopub.status.idle": "2023-03-15T12:58:16.363999Z",
     "shell.execute_reply": "2023-03-15T12:58:16.363137Z"
    }
   },
   "outputs": [
    {
     "name": "stdout",
     "output_type": "stream",
     "text": [
      "79.4 µs ± 202 ns per loop (mean ± std. dev. of 7 runs, 10,000 loops each)\n"
     ]
    }
   ],
   "source": [
    "%timeit Batch.stack(batches)"
   ]
  },
  {
   "cell_type": "code",
   "execution_count": 27,
   "id": "cb8ab77e",
   "metadata": {
    "execution": {
     "iopub.execute_input": "2023-03-15T12:58:16.367885Z",
     "iopub.status.busy": "2023-03-15T12:58:16.367279Z",
     "iopub.status.idle": "2023-03-15T12:58:16.375828Z",
     "shell.execute_reply": "2023-03-15T12:58:16.374478Z"
    }
   },
   "outputs": [
    {
     "data": {
      "text/plain": [
       "Batch(\n",
       "    a: tensor([[-0.8330, -1.5985,  0.4937],\n",
       "               [-0.5222,  1.2119, -0.0678],\n",
       "               [-0.8330, -1.5985,  0.4937],\n",
       "               [-0.5222,  1.2119, -0.0678],\n",
       "               [-0.8330, -1.5985,  0.4937],\n",
       "               [-0.5222,  1.2119, -0.0678],\n",
       "               [-0.8330, -1.5985,  0.4937],\n",
       "               [-0.5222,  1.2119, -0.0678],\n",
       "               [-0.8330, -1.5985,  0.4937],\n",
       "               [-0.5222,  1.2119, -0.0678],\n",
       "               [-0.8330, -1.5985,  0.4937],\n",
       "               [-0.5222,  1.2119, -0.0678],\n",
       "               [-0.8330, -1.5985,  0.4937],\n",
       "               [-0.5222,  1.2119, -0.0678],\n",
       "               [-0.8330, -1.5985,  0.4937],\n",
       "               [-0.5222,  1.2119, -0.0678]]),\n",
       "    x: Batch(\n",
       "           c: tensor([[ 0.4604, -1.1836,  1.5184,  0.6800],\n",
       "                      [ 0.0513,  1.6735,  0.6170,  0.7493],\n",
       "                      [ 0.4952, -0.2171, -0.4603,  1.5569],\n",
       "                      [ 0.4604, -1.1836,  1.5184,  0.6800],\n",
       "                      [ 0.0513,  1.6735,  0.6170,  0.7493],\n",
       "                      [ 0.4952, -0.2171, -0.4603,  1.5569],\n",
       "                      [ 0.4604, -1.1836,  1.5184,  0.6800],\n",
       "                      [ 0.0513,  1.6735,  0.6170,  0.7493],\n",
       "                      [ 0.4952, -0.2171, -0.4603,  1.5569],\n",
       "                      [ 0.4604, -1.1836,  1.5184,  0.6800],\n",
       "                      [ 0.0513,  1.6735,  0.6170,  0.7493],\n",
       "                      [ 0.4952, -0.2171, -0.4603,  1.5569],\n",
       "                      [ 0.4604, -1.1836,  1.5184,  0.6800],\n",
       "                      [ 0.0513,  1.6735,  0.6170,  0.7493],\n",
       "                      [ 0.4952, -0.2171, -0.4603,  1.5569],\n",
       "                      [ 0.4604, -1.1836,  1.5184,  0.6800],\n",
       "                      [ 0.0513,  1.6735,  0.6170,  0.7493],\n",
       "                      [ 0.4952, -0.2171, -0.4603,  1.5569],\n",
       "                      [ 0.4604, -1.1836,  1.5184,  0.6800],\n",
       "                      [ 0.0513,  1.6735,  0.6170,  0.7493],\n",
       "                      [ 0.4952, -0.2171, -0.4603,  1.5569],\n",
       "                      [ 0.4604, -1.1836,  1.5184,  0.6800],\n",
       "                      [ 0.0513,  1.6735,  0.6170,  0.7493],\n",
       "                      [ 0.4952, -0.2171, -0.4603,  1.5569]]),\n",
       "       ),\n",
       ")"
      ]
     },
     "execution_count": 27,
     "metadata": {},
     "output_type": "execute_result"
    }
   ],
   "source": [
    "Batch.cat(batches)"
   ]
  },
  {
   "cell_type": "code",
   "execution_count": 28,
   "id": "18dfb045",
   "metadata": {
    "execution": {
     "iopub.execute_input": "2023-03-15T12:58:16.378735Z",
     "iopub.status.busy": "2023-03-15T12:58:16.378209Z",
     "iopub.status.idle": "2023-03-15T12:58:28.147643Z",
     "shell.execute_reply": "2023-03-15T12:58:28.146787Z"
    }
   },
   "outputs": [
    {
     "name": "stdout",
     "output_type": "stream",
     "text": [
      "145 µs ± 119 ns per loop (mean ± std. dev. of 7 runs, 10,000 loops each)\n"
     ]
    }
   ],
   "source": [
    "%timeit Batch.cat(batches)"
   ]
  },
  {
   "cell_type": "code",
   "execution_count": 29,
   "id": "c6688e51",
   "metadata": {
    "execution": {
     "iopub.execute_input": "2023-03-15T12:58:28.150910Z",
     "iopub.status.busy": "2023-03-15T12:58:28.150502Z",
     "iopub.status.idle": "2023-03-15T12:58:30.889767Z",
     "shell.execute_reply": "2023-03-15T12:58:30.888993Z"
    }
   },
   "outputs": [
    {
     "name": "stdout",
     "output_type": "stream",
     "text": [
      "336 µs ± 2.53 µs per loop (mean ± std. dev. of 7 runs, 1,000 loops each)\n"
     ]
    }
   ],
   "source": [
    "batch = Batch({\n",
    "    'obs': torch.randn(8, 4, 84, 84),\n",
    "    'action': torch.randint(0, 6, size=(8, 1,)),\n",
    "    'reward': torch.rand(8, 1)}\n",
    ")\n",
    "\n",
    "%timeit list(Batch.split(batch, 1, shuffle=False, merge_last=True))"
   ]
  },
  {
   "cell_type": "code",
   "execution_count": null,
   "id": "2539fbd9",
   "metadata": {},
   "outputs": [],
   "source": []
  }
 ],
 "metadata": {
  "kernelspec": {
   "display_name": "Python 3 (ipykernel)",
   "language": "python",
   "name": "python3"
  },
  "language_info": {
   "codemirror_mode": {
    "name": "ipython",
    "version": 3
   },
   "file_extension": ".py",
   "mimetype": "text/x-python",
   "name": "python",
   "nbconvert_exporter": "python",
   "pygments_lexer": "ipython3",
   "version": "3.8.16"
  }
 },
 "nbformat": 4,
 "nbformat_minor": 5
}
