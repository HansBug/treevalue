{
 "cells": [
  {
   "cell_type": "markdown",
   "id": "9d39d946",
   "metadata": {},
   "source": [
    "# Comparison Between TreeValue and Tianshou Batch"
   ]
  },
  {
   "cell_type": "markdown",
   "id": "3c6db2d4",
   "metadata": {},
   "source": [
    "In this section, we will take a look at the feature and performance of the [Tianshou Batch](https://github.com/thu-ml/tianshou) library, which is developed by Tsinghua Machine Learning Group."
   ]
  },
  {
   "cell_type": "markdown",
   "id": "069361b0",
   "metadata": {},
   "source": [
    "Before starting the comparison, let us define some thing."
   ]
  },
  {
   "cell_type": "code",
   "execution_count": 1,
   "id": "06fc8d26",
   "metadata": {
    "execution": {
     "iopub.execute_input": "2023-03-06T11:02:25.378289Z",
     "iopub.status.busy": "2023-03-06T11:02:25.378081Z",
     "iopub.status.idle": "2023-03-06T11:02:26.282532Z",
     "shell.execute_reply": "2023-03-06T11:02:26.281886Z"
    }
   },
   "outputs": [
    {
     "name": "stderr",
     "output_type": "stream",
     "text": [
      "/opt/hostedtoolcache/Python/3.8.16/x64/lib/python3.8/site-packages/tqdm/auto.py:21: TqdmWarning: IProgress not found. Please update jupyter and ipywidgets. See https://ipywidgets.readthedocs.io/en/stable/user_install.html\n",
      "  from .autonotebook import tqdm as notebook_tqdm\n"
     ]
    }
   ],
   "source": [
    "import torch \n",
    "\n",
    "_TREE_DATA_1 = {'a': 1, 'b': 2, 'x': {'c': 3, 'd': 4}}\n",
    "_TREE_DATA_2 = {\n",
    "    'a': torch.randn(2, 3), \n",
    "    'x': {\n",
    "        'c': torch.randn(3, 4)\n",
    "    },\n",
    "}\n",
    "_TREE_DATA_3 = {\n",
    "    'obs': torch.randn(4, 84, 84),\n",
    "    'action': torch.randint(0, 6, size=(1,)),\n",
    "    'reward': torch.rand(1),\n",
    "}"
   ]
  },
  {
   "cell_type": "markdown",
   "id": "83461b25",
   "metadata": {},
   "source": [
    "## Read and Write Operation"
   ]
  },
  {
   "cell_type": "markdown",
   "id": "067b3f73",
   "metadata": {},
   "source": [
    "Reading and writing are the two most common operations in the tree data structure based on the data model (TreeValue and Tianshou Batch both belong to this type), so this section will compare the reading and writing performance of these two libraries."
   ]
  },
  {
   "cell_type": "markdown",
   "id": "5d09a5b7",
   "metadata": {},
   "source": [
    "### TreeValue's Get and Set"
   ]
  },
  {
   "cell_type": "code",
   "execution_count": 2,
   "id": "9519c4bb",
   "metadata": {
    "execution": {
     "iopub.execute_input": "2023-03-06T11:02:26.285853Z",
     "iopub.status.busy": "2023-03-06T11:02:26.285253Z",
     "iopub.status.idle": "2023-03-06T11:02:26.564637Z",
     "shell.execute_reply": "2023-03-06T11:02:26.563927Z"
    }
   },
   "outputs": [],
   "source": [
    "from treevalue import FastTreeValue\n",
    "\n",
    "t = FastTreeValue(_TREE_DATA_2)"
   ]
  },
  {
   "cell_type": "code",
   "execution_count": 3,
   "id": "11c37677",
   "metadata": {
    "execution": {
     "iopub.execute_input": "2023-03-06T11:02:26.568072Z",
     "iopub.status.busy": "2023-03-06T11:02:26.567446Z",
     "iopub.status.idle": "2023-03-06T11:02:26.576957Z",
     "shell.execute_reply": "2023-03-06T11:02:26.576376Z"
    }
   },
   "outputs": [
    {
     "data": {
      "text/plain": [
       "<FastTreeValue 0x7f2e5c0ec490>\n",
       "├── 'a' --> tensor([[-0.1091,  0.5564, -1.5327],\n",
       "│                   [ 0.8999, -0.0317,  1.5215]])\n",
       "└── 'x' --> <FastTreeValue 0x7f2e5e172a60>\n",
       "    └── 'c' --> tensor([[-0.7296, -0.2523,  0.5361, -0.2981],\n",
       "                        [ 1.7676,  0.8522,  0.0807, -1.8366],\n",
       "                        [-1.7261, -0.1644,  0.3017,  1.4700]])"
      ]
     },
     "execution_count": 3,
     "metadata": {},
     "output_type": "execute_result"
    }
   ],
   "source": [
    "t"
   ]
  },
  {
   "cell_type": "code",
   "execution_count": 4,
   "id": "fd70b0b9",
   "metadata": {
    "execution": {
     "iopub.execute_input": "2023-03-06T11:02:26.579786Z",
     "iopub.status.busy": "2023-03-06T11:02:26.579318Z",
     "iopub.status.idle": "2023-03-06T11:02:26.585158Z",
     "shell.execute_reply": "2023-03-06T11:02:26.584594Z"
    }
   },
   "outputs": [
    {
     "data": {
      "text/plain": [
       "tensor([[-0.1091,  0.5564, -1.5327],\n",
       "        [ 0.8999, -0.0317,  1.5215]])"
      ]
     },
     "execution_count": 4,
     "metadata": {},
     "output_type": "execute_result"
    }
   ],
   "source": [
    "t.a"
   ]
  },
  {
   "cell_type": "code",
   "execution_count": 5,
   "id": "c18197bd",
   "metadata": {
    "execution": {
     "iopub.execute_input": "2023-03-06T11:02:26.587919Z",
     "iopub.status.busy": "2023-03-06T11:02:26.587456Z",
     "iopub.status.idle": "2023-03-06T11:02:31.574183Z",
     "shell.execute_reply": "2023-03-06T11:02:31.573515Z"
    }
   },
   "outputs": [
    {
     "name": "stdout",
     "output_type": "stream",
     "text": [
      "61.5 ns ± 0.0311 ns per loop (mean ± std. dev. of 7 runs, 10,000,000 loops each)\n"
     ]
    }
   ],
   "source": [
    "%timeit t.a"
   ]
  },
  {
   "cell_type": "code",
   "execution_count": 6,
   "id": "bd52f867",
   "metadata": {
    "execution": {
     "iopub.execute_input": "2023-03-06T11:02:31.577216Z",
     "iopub.status.busy": "2023-03-06T11:02:31.576642Z",
     "iopub.status.idle": "2023-03-06T11:02:31.583206Z",
     "shell.execute_reply": "2023-03-06T11:02:31.582625Z"
    }
   },
   "outputs": [
    {
     "data": {
      "text/plain": [
       "<FastTreeValue 0x7f2e5c0ec490>\n",
       "├── 'a' --> tensor([[ 0.0260, -0.0870, -0.5371],\n",
       "│                   [ 0.8383, -0.7053,  0.3026]])\n",
       "└── 'x' --> <FastTreeValue 0x7f2e5e172a60>\n",
       "    └── 'c' --> tensor([[-0.7296, -0.2523,  0.5361, -0.2981],\n",
       "                        [ 1.7676,  0.8522,  0.0807, -1.8366],\n",
       "                        [-1.7261, -0.1644,  0.3017,  1.4700]])"
      ]
     },
     "execution_count": 6,
     "metadata": {},
     "output_type": "execute_result"
    }
   ],
   "source": [
    "new_value = torch.randn(2, 3)\n",
    "t.a = new_value\n",
    "\n",
    "t"
   ]
  },
  {
   "cell_type": "code",
   "execution_count": 7,
   "id": "bbe04d1c",
   "metadata": {
    "execution": {
     "iopub.execute_input": "2023-03-06T11:02:31.585586Z",
     "iopub.status.busy": "2023-03-06T11:02:31.585259Z",
     "iopub.status.idle": "2023-03-06T11:02:37.421811Z",
     "shell.execute_reply": "2023-03-06T11:02:37.421001Z"
    }
   },
   "outputs": [
    {
     "name": "stdout",
     "output_type": "stream",
     "text": [
      "72 ns ± 0.133 ns per loop (mean ± std. dev. of 7 runs, 10,000,000 loops each)\n"
     ]
    }
   ],
   "source": [
    "%timeit t.a = new_value"
   ]
  },
  {
   "cell_type": "markdown",
   "id": "48c49731",
   "metadata": {},
   "source": [
    "### Tianshou Batch's Get and Set"
   ]
  },
  {
   "cell_type": "code",
   "execution_count": 8,
   "id": "f1bb14c1",
   "metadata": {
    "execution": {
     "iopub.execute_input": "2023-03-06T11:02:37.424748Z",
     "iopub.status.busy": "2023-03-06T11:02:37.424189Z",
     "iopub.status.idle": "2023-03-06T11:02:37.750092Z",
     "shell.execute_reply": "2023-03-06T11:02:37.749441Z"
    }
   },
   "outputs": [],
   "source": [
    "from tianshou.data import Batch\n",
    "\n",
    "b = Batch(**_TREE_DATA_2)"
   ]
  },
  {
   "cell_type": "code",
   "execution_count": 9,
   "id": "cb0777c3",
   "metadata": {
    "execution": {
     "iopub.execute_input": "2023-03-06T11:02:37.753365Z",
     "iopub.status.busy": "2023-03-06T11:02:37.752916Z",
     "iopub.status.idle": "2023-03-06T11:02:37.758291Z",
     "shell.execute_reply": "2023-03-06T11:02:37.757694Z"
    }
   },
   "outputs": [
    {
     "data": {
      "text/plain": [
       "Batch(\n",
       "    a: tensor([[-0.1091,  0.5564, -1.5327],\n",
       "               [ 0.8999, -0.0317,  1.5215]]),\n",
       "    x: Batch(\n",
       "           c: tensor([[-0.7296, -0.2523,  0.5361, -0.2981],\n",
       "                      [ 1.7676,  0.8522,  0.0807, -1.8366],\n",
       "                      [-1.7261, -0.1644,  0.3017,  1.4700]]),\n",
       "       ),\n",
       ")"
      ]
     },
     "execution_count": 9,
     "metadata": {},
     "output_type": "execute_result"
    }
   ],
   "source": [
    "b"
   ]
  },
  {
   "cell_type": "code",
   "execution_count": 10,
   "id": "43ef8ea3",
   "metadata": {
    "execution": {
     "iopub.execute_input": "2023-03-06T11:02:37.760747Z",
     "iopub.status.busy": "2023-03-06T11:02:37.760412Z",
     "iopub.status.idle": "2023-03-06T11:02:37.765031Z",
     "shell.execute_reply": "2023-03-06T11:02:37.764407Z"
    }
   },
   "outputs": [
    {
     "data": {
      "text/plain": [
       "tensor([[-0.1091,  0.5564, -1.5327],\n",
       "        [ 0.8999, -0.0317,  1.5215]])"
      ]
     },
     "execution_count": 10,
     "metadata": {},
     "output_type": "execute_result"
    }
   ],
   "source": [
    "b.a"
   ]
  },
  {
   "cell_type": "code",
   "execution_count": 11,
   "id": "b785ab72",
   "metadata": {
    "execution": {
     "iopub.execute_input": "2023-03-06T11:02:37.767365Z",
     "iopub.status.busy": "2023-03-06T11:02:37.767093Z",
     "iopub.status.idle": "2023-03-06T11:02:42.252012Z",
     "shell.execute_reply": "2023-03-06T11:02:42.251245Z"
    }
   },
   "outputs": [
    {
     "name": "stdout",
     "output_type": "stream",
     "text": [
      "55.1 ns ± 0.0607 ns per loop (mean ± std. dev. of 7 runs, 10,000,000 loops each)\n"
     ]
    }
   ],
   "source": [
    "%timeit b.a"
   ]
  },
  {
   "cell_type": "code",
   "execution_count": 12,
   "id": "ad54dc69",
   "metadata": {
    "execution": {
     "iopub.execute_input": "2023-03-06T11:02:42.255213Z",
     "iopub.status.busy": "2023-03-06T11:02:42.254575Z",
     "iopub.status.idle": "2023-03-06T11:02:42.260303Z",
     "shell.execute_reply": "2023-03-06T11:02:42.259682Z"
    }
   },
   "outputs": [
    {
     "data": {
      "text/plain": [
       "Batch(\n",
       "    a: tensor([[-1.3863, -1.0418,  1.7694],\n",
       "               [ 0.3511, -0.2696, -1.3766]]),\n",
       "    x: Batch(\n",
       "           c: tensor([[-0.7296, -0.2523,  0.5361, -0.2981],\n",
       "                      [ 1.7676,  0.8522,  0.0807, -1.8366],\n",
       "                      [-1.7261, -0.1644,  0.3017,  1.4700]]),\n",
       "       ),\n",
       ")"
      ]
     },
     "execution_count": 12,
     "metadata": {},
     "output_type": "execute_result"
    }
   ],
   "source": [
    "new_value = torch.randn(2, 3)\n",
    "b.a = new_value\n",
    "\n",
    "b"
   ]
  },
  {
   "cell_type": "code",
   "execution_count": 13,
   "id": "29b1d0bf",
   "metadata": {
    "execution": {
     "iopub.execute_input": "2023-03-06T11:02:42.262627Z",
     "iopub.status.busy": "2023-03-06T11:02:42.262421Z",
     "iopub.status.idle": "2023-03-06T11:02:46.230161Z",
     "shell.execute_reply": "2023-03-06T11:02:46.229462Z"
    }
   },
   "outputs": [
    {
     "name": "stdout",
     "output_type": "stream",
     "text": [
      "488 ns ± 0.0601 ns per loop (mean ± std. dev. of 7 runs, 1,000,000 loops each)\n"
     ]
    }
   ],
   "source": [
    "%timeit b.a = new_value"
   ]
  },
  {
   "cell_type": "markdown",
   "id": "b61ad1d0",
   "metadata": {},
   "source": [
    "## Initialization"
   ]
  },
  {
   "cell_type": "markdown",
   "id": "d70f0d54",
   "metadata": {},
   "source": [
    "### TreeValue's Initialization"
   ]
  },
  {
   "cell_type": "code",
   "execution_count": 14,
   "id": "d32a679b",
   "metadata": {
    "execution": {
     "iopub.execute_input": "2023-03-06T11:02:46.233280Z",
     "iopub.status.busy": "2023-03-06T11:02:46.232675Z",
     "iopub.status.idle": "2023-03-06T11:02:52.959600Z",
     "shell.execute_reply": "2023-03-06T11:02:52.958932Z"
    }
   },
   "outputs": [
    {
     "name": "stdout",
     "output_type": "stream",
     "text": [
      "829 ns ± 0.103 ns per loop (mean ± std. dev. of 7 runs, 1,000,000 loops each)\n"
     ]
    }
   ],
   "source": [
    "%timeit FastTreeValue(_TREE_DATA_1)"
   ]
  },
  {
   "cell_type": "markdown",
   "id": "24f3707b",
   "metadata": {},
   "source": [
    "### Tianshou Batch's Initialization"
   ]
  },
  {
   "cell_type": "code",
   "execution_count": 15,
   "id": "ac3958df",
   "metadata": {
    "execution": {
     "iopub.execute_input": "2023-03-06T11:02:52.962346Z",
     "iopub.status.busy": "2023-03-06T11:02:52.961982Z",
     "iopub.status.idle": "2023-03-06T11:03:02.182904Z",
     "shell.execute_reply": "2023-03-06T11:03:02.182163Z"
    }
   },
   "outputs": [
    {
     "name": "stdout",
     "output_type": "stream",
     "text": [
      "11.4 µs ± 40.7 ns per loop (mean ± std. dev. of 7 runs, 100,000 loops each)\n"
     ]
    }
   ],
   "source": [
    "%timeit Batch(**_TREE_DATA_1)"
   ]
  },
  {
   "cell_type": "markdown",
   "id": "1ab82e2d",
   "metadata": {},
   "source": [
    "## Deep Copy Operation"
   ]
  },
  {
   "cell_type": "code",
   "execution_count": 16,
   "id": "210a9442",
   "metadata": {
    "execution": {
     "iopub.execute_input": "2023-03-06T11:03:02.185886Z",
     "iopub.status.busy": "2023-03-06T11:03:02.185372Z",
     "iopub.status.idle": "2023-03-06T11:03:02.189329Z",
     "shell.execute_reply": "2023-03-06T11:03:02.188729Z"
    }
   },
   "outputs": [],
   "source": [
    "import copy"
   ]
  },
  {
   "cell_type": "markdown",
   "id": "5a736274",
   "metadata": {},
   "source": [
    "### Deep Copy of TreeValue"
   ]
  },
  {
   "cell_type": "code",
   "execution_count": 17,
   "id": "f9bcadd6",
   "metadata": {
    "execution": {
     "iopub.execute_input": "2023-03-06T11:03:02.191768Z",
     "iopub.status.busy": "2023-03-06T11:03:02.191431Z",
     "iopub.status.idle": "2023-03-06T11:03:13.215265Z",
     "shell.execute_reply": "2023-03-06T11:03:13.214683Z"
    }
   },
   "outputs": [
    {
     "name": "stdout",
     "output_type": "stream",
     "text": [
      "136 µs ± 521 ns per loop (mean ± std. dev. of 7 runs, 10,000 loops each)\n"
     ]
    }
   ],
   "source": [
    "t3 = FastTreeValue(_TREE_DATA_3)\n",
    "%timeit copy.deepcopy(t3)"
   ]
  },
  {
   "cell_type": "markdown",
   "id": "bf8be7ea",
   "metadata": {},
   "source": [
    "### Deep Copy of Tianshou Batch"
   ]
  },
  {
   "cell_type": "code",
   "execution_count": 18,
   "id": "91998e6f",
   "metadata": {
    "execution": {
     "iopub.execute_input": "2023-03-06T11:03:13.219190Z",
     "iopub.status.busy": "2023-03-06T11:03:13.218222Z",
     "iopub.status.idle": "2023-03-06T11:03:24.516864Z",
     "shell.execute_reply": "2023-03-06T11:03:24.516272Z"
    }
   },
   "outputs": [
    {
     "name": "stdout",
     "output_type": "stream",
     "text": [
      "139 µs ± 144 ns per loop (mean ± std. dev. of 7 runs, 10,000 loops each)\n"
     ]
    }
   ],
   "source": [
    "b3 = Batch(**_TREE_DATA_3)\n",
    "%timeit copy.deepcopy(b3)"
   ]
  },
  {
   "cell_type": "markdown",
   "id": "223162fb",
   "metadata": {},
   "source": [
    "## Stack, Concat and Split Operation"
   ]
  },
  {
   "cell_type": "markdown",
   "id": "85fa4a73",
   "metadata": {},
   "source": [
    "### Performance of TreeValue"
   ]
  },
  {
   "cell_type": "code",
   "execution_count": 19,
   "id": "a0c2b697",
   "metadata": {
    "execution": {
     "iopub.execute_input": "2023-03-06T11:03:24.520859Z",
     "iopub.status.busy": "2023-03-06T11:03:24.519902Z",
     "iopub.status.idle": "2023-03-06T11:03:24.524142Z",
     "shell.execute_reply": "2023-03-06T11:03:24.523621Z"
    }
   },
   "outputs": [],
   "source": [
    "trees = [FastTreeValue(_TREE_DATA_2) for _ in range(8)]"
   ]
  },
  {
   "cell_type": "code",
   "execution_count": 20,
   "id": "017ea5a5",
   "metadata": {
    "execution": {
     "iopub.execute_input": "2023-03-06T11:03:24.527719Z",
     "iopub.status.busy": "2023-03-06T11:03:24.526775Z",
     "iopub.status.idle": "2023-03-06T11:03:24.535476Z",
     "shell.execute_reply": "2023-03-06T11:03:24.534917Z"
    }
   },
   "outputs": [
    {
     "data": {
      "text/plain": [
       "<FastTreeValue 0x7f2da43a0d30>\n",
       "├── 'a' --> tensor([[[-0.1091,  0.5564, -1.5327],\n",
       "│                    [ 0.8999, -0.0317,  1.5215]],\n",
       "│           \n",
       "│                   [[-0.1091,  0.5564, -1.5327],\n",
       "│                    [ 0.8999, -0.0317,  1.5215]],\n",
       "│           \n",
       "│                   [[-0.1091,  0.5564, -1.5327],\n",
       "│                    [ 0.8999, -0.0317,  1.5215]],\n",
       "│           \n",
       "│                   [[-0.1091,  0.5564, -1.5327],\n",
       "│                    [ 0.8999, -0.0317,  1.5215]],\n",
       "│           \n",
       "│                   [[-0.1091,  0.5564, -1.5327],\n",
       "│                    [ 0.8999, -0.0317,  1.5215]],\n",
       "│           \n",
       "│                   [[-0.1091,  0.5564, -1.5327],\n",
       "│                    [ 0.8999, -0.0317,  1.5215]],\n",
       "│           \n",
       "│                   [[-0.1091,  0.5564, -1.5327],\n",
       "│                    [ 0.8999, -0.0317,  1.5215]],\n",
       "│           \n",
       "│                   [[-0.1091,  0.5564, -1.5327],\n",
       "│                    [ 0.8999, -0.0317,  1.5215]]])\n",
       "└── 'x' --> <FastTreeValue 0x7f2da43a0b80>\n",
       "    └── 'c' --> tensor([[[-0.7296, -0.2523,  0.5361, -0.2981],\n",
       "                         [ 1.7676,  0.8522,  0.0807, -1.8366],\n",
       "                         [-1.7261, -0.1644,  0.3017,  1.4700]],\n",
       "                \n",
       "                        [[-0.7296, -0.2523,  0.5361, -0.2981],\n",
       "                         [ 1.7676,  0.8522,  0.0807, -1.8366],\n",
       "                         [-1.7261, -0.1644,  0.3017,  1.4700]],\n",
       "                \n",
       "                        [[-0.7296, -0.2523,  0.5361, -0.2981],\n",
       "                         [ 1.7676,  0.8522,  0.0807, -1.8366],\n",
       "                         [-1.7261, -0.1644,  0.3017,  1.4700]],\n",
       "                \n",
       "                        [[-0.7296, -0.2523,  0.5361, -0.2981],\n",
       "                         [ 1.7676,  0.8522,  0.0807, -1.8366],\n",
       "                         [-1.7261, -0.1644,  0.3017,  1.4700]],\n",
       "                \n",
       "                        [[-0.7296, -0.2523,  0.5361, -0.2981],\n",
       "                         [ 1.7676,  0.8522,  0.0807, -1.8366],\n",
       "                         [-1.7261, -0.1644,  0.3017,  1.4700]],\n",
       "                \n",
       "                        [[-0.7296, -0.2523,  0.5361, -0.2981],\n",
       "                         [ 1.7676,  0.8522,  0.0807, -1.8366],\n",
       "                         [-1.7261, -0.1644,  0.3017,  1.4700]],\n",
       "                \n",
       "                        [[-0.7296, -0.2523,  0.5361, -0.2981],\n",
       "                         [ 1.7676,  0.8522,  0.0807, -1.8366],\n",
       "                         [-1.7261, -0.1644,  0.3017,  1.4700]],\n",
       "                \n",
       "                        [[-0.7296, -0.2523,  0.5361, -0.2981],\n",
       "                         [ 1.7676,  0.8522,  0.0807, -1.8366],\n",
       "                         [-1.7261, -0.1644,  0.3017,  1.4700]]])"
      ]
     },
     "execution_count": 20,
     "metadata": {},
     "output_type": "execute_result"
    }
   ],
   "source": [
    "t_stack = FastTreeValue.func(subside=True)(torch.stack)\n",
    "\n",
    "t_stack(trees)"
   ]
  },
  {
   "cell_type": "code",
   "execution_count": 21,
   "id": "f8b3f415",
   "metadata": {
    "execution": {
     "iopub.execute_input": "2023-03-06T11:03:24.538960Z",
     "iopub.status.busy": "2023-03-06T11:03:24.538045Z",
     "iopub.status.idle": "2023-03-06T11:03:27.149721Z",
     "shell.execute_reply": "2023-03-06T11:03:27.149016Z"
    }
   },
   "outputs": [
    {
     "name": "stdout",
     "output_type": "stream",
     "text": [
      "32.1 µs ± 94.9 ns per loop (mean ± std. dev. of 7 runs, 10,000 loops each)\n"
     ]
    }
   ],
   "source": [
    "%timeit t_stack(trees)"
   ]
  },
  {
   "cell_type": "code",
   "execution_count": 22,
   "id": "94b56771",
   "metadata": {
    "execution": {
     "iopub.execute_input": "2023-03-06T11:03:27.152904Z",
     "iopub.status.busy": "2023-03-06T11:03:27.152408Z",
     "iopub.status.idle": "2023-03-06T11:03:27.161218Z",
     "shell.execute_reply": "2023-03-06T11:03:27.160642Z"
    }
   },
   "outputs": [
    {
     "data": {
      "text/plain": [
       "<FastTreeValue 0x7f2da440e880>\n",
       "├── 'a' --> tensor([[-0.1091,  0.5564, -1.5327],\n",
       "│                   [ 0.8999, -0.0317,  1.5215],\n",
       "│                   [-0.1091,  0.5564, -1.5327],\n",
       "│                   [ 0.8999, -0.0317,  1.5215],\n",
       "│                   [-0.1091,  0.5564, -1.5327],\n",
       "│                   [ 0.8999, -0.0317,  1.5215],\n",
       "│                   [-0.1091,  0.5564, -1.5327],\n",
       "│                   [ 0.8999, -0.0317,  1.5215],\n",
       "│                   [-0.1091,  0.5564, -1.5327],\n",
       "│                   [ 0.8999, -0.0317,  1.5215],\n",
       "│                   [-0.1091,  0.5564, -1.5327],\n",
       "│                   [ 0.8999, -0.0317,  1.5215],\n",
       "│                   [-0.1091,  0.5564, -1.5327],\n",
       "│                   [ 0.8999, -0.0317,  1.5215],\n",
       "│                   [-0.1091,  0.5564, -1.5327],\n",
       "│                   [ 0.8999, -0.0317,  1.5215]])\n",
       "└── 'x' --> <FastTreeValue 0x7f2daafee5e0>\n",
       "    └── 'c' --> tensor([[-0.7296, -0.2523,  0.5361, -0.2981],\n",
       "                        [ 1.7676,  0.8522,  0.0807, -1.8366],\n",
       "                        [-1.7261, -0.1644,  0.3017,  1.4700],\n",
       "                        [-0.7296, -0.2523,  0.5361, -0.2981],\n",
       "                        [ 1.7676,  0.8522,  0.0807, -1.8366],\n",
       "                        [-1.7261, -0.1644,  0.3017,  1.4700],\n",
       "                        [-0.7296, -0.2523,  0.5361, -0.2981],\n",
       "                        [ 1.7676,  0.8522,  0.0807, -1.8366],\n",
       "                        [-1.7261, -0.1644,  0.3017,  1.4700],\n",
       "                        [-0.7296, -0.2523,  0.5361, -0.2981],\n",
       "                        [ 1.7676,  0.8522,  0.0807, -1.8366],\n",
       "                        [-1.7261, -0.1644,  0.3017,  1.4700],\n",
       "                        [-0.7296, -0.2523,  0.5361, -0.2981],\n",
       "                        [ 1.7676,  0.8522,  0.0807, -1.8366],\n",
       "                        [-1.7261, -0.1644,  0.3017,  1.4700],\n",
       "                        [-0.7296, -0.2523,  0.5361, -0.2981],\n",
       "                        [ 1.7676,  0.8522,  0.0807, -1.8366],\n",
       "                        [-1.7261, -0.1644,  0.3017,  1.4700],\n",
       "                        [-0.7296, -0.2523,  0.5361, -0.2981],\n",
       "                        [ 1.7676,  0.8522,  0.0807, -1.8366],\n",
       "                        [-1.7261, -0.1644,  0.3017,  1.4700],\n",
       "                        [-0.7296, -0.2523,  0.5361, -0.2981],\n",
       "                        [ 1.7676,  0.8522,  0.0807, -1.8366],\n",
       "                        [-1.7261, -0.1644,  0.3017,  1.4700]])"
      ]
     },
     "execution_count": 22,
     "metadata": {},
     "output_type": "execute_result"
    }
   ],
   "source": [
    "t_cat = FastTreeValue.func(subside=True)(torch.cat)\n",
    "\n",
    "t_cat(trees)"
   ]
  },
  {
   "cell_type": "code",
   "execution_count": 23,
   "id": "5e9c06a6",
   "metadata": {
    "execution": {
     "iopub.execute_input": "2023-03-06T11:03:27.164159Z",
     "iopub.status.busy": "2023-03-06T11:03:27.163706Z",
     "iopub.status.idle": "2023-03-06T11:03:29.621165Z",
     "shell.execute_reply": "2023-03-06T11:03:29.620465Z"
    }
   },
   "outputs": [
    {
     "name": "stdout",
     "output_type": "stream",
     "text": [
      "30.2 µs ± 104 ns per loop (mean ± std. dev. of 7 runs, 10,000 loops each)\n"
     ]
    }
   ],
   "source": [
    "%timeit t_cat(trees)"
   ]
  },
  {
   "cell_type": "code",
   "execution_count": 24,
   "id": "a3ab5c8f",
   "metadata": {
    "execution": {
     "iopub.execute_input": "2023-03-06T11:03:29.624407Z",
     "iopub.status.busy": "2023-03-06T11:03:29.623866Z",
     "iopub.status.idle": "2023-03-06T11:03:34.440224Z",
     "shell.execute_reply": "2023-03-06T11:03:34.439520Z"
    }
   },
   "outputs": [
    {
     "name": "stdout",
     "output_type": "stream",
     "text": [
      "59.2 µs ± 65.1 ns per loop (mean ± std. dev. of 7 runs, 10,000 loops each)\n"
     ]
    }
   ],
   "source": [
    "t_split = FastTreeValue.func(rise=True)(torch.split)\n",
    "tree = FastTreeValue({\n",
    "    'obs': torch.randn(8, 4, 84, 84),\n",
    "    'action': torch.randint(0, 6, size=(8, 1,)),\n",
    "    'reward': torch.rand(8, 1),\n",
    "})\n",
    "\n",
    "%timeit t_split(tree, 1)"
   ]
  },
  {
   "cell_type": "markdown",
   "id": "31c3ec0b",
   "metadata": {},
   "source": [
    "### Performance of Tianshou Batch"
   ]
  },
  {
   "cell_type": "code",
   "execution_count": 25,
   "id": "9ead828a",
   "metadata": {
    "execution": {
     "iopub.execute_input": "2023-03-06T11:03:34.443383Z",
     "iopub.status.busy": "2023-03-06T11:03:34.442961Z",
     "iopub.status.idle": "2023-03-06T11:03:34.450863Z",
     "shell.execute_reply": "2023-03-06T11:03:34.450296Z"
    }
   },
   "outputs": [
    {
     "data": {
      "text/plain": [
       "Batch(\n",
       "    a: tensor([[[-0.1091,  0.5564, -1.5327],\n",
       "                [ 0.8999, -0.0317,  1.5215]],\n",
       "       \n",
       "               [[-0.1091,  0.5564, -1.5327],\n",
       "                [ 0.8999, -0.0317,  1.5215]],\n",
       "       \n",
       "               [[-0.1091,  0.5564, -1.5327],\n",
       "                [ 0.8999, -0.0317,  1.5215]],\n",
       "       \n",
       "               [[-0.1091,  0.5564, -1.5327],\n",
       "                [ 0.8999, -0.0317,  1.5215]],\n",
       "       \n",
       "               [[-0.1091,  0.5564, -1.5327],\n",
       "                [ 0.8999, -0.0317,  1.5215]],\n",
       "       \n",
       "               [[-0.1091,  0.5564, -1.5327],\n",
       "                [ 0.8999, -0.0317,  1.5215]],\n",
       "       \n",
       "               [[-0.1091,  0.5564, -1.5327],\n",
       "                [ 0.8999, -0.0317,  1.5215]],\n",
       "       \n",
       "               [[-0.1091,  0.5564, -1.5327],\n",
       "                [ 0.8999, -0.0317,  1.5215]]]),\n",
       "    x: Batch(\n",
       "           c: tensor([[[-0.7296, -0.2523,  0.5361, -0.2981],\n",
       "                       [ 1.7676,  0.8522,  0.0807, -1.8366],\n",
       "                       [-1.7261, -0.1644,  0.3017,  1.4700]],\n",
       "              \n",
       "                      [[-0.7296, -0.2523,  0.5361, -0.2981],\n",
       "                       [ 1.7676,  0.8522,  0.0807, -1.8366],\n",
       "                       [-1.7261, -0.1644,  0.3017,  1.4700]],\n",
       "              \n",
       "                      [[-0.7296, -0.2523,  0.5361, -0.2981],\n",
       "                       [ 1.7676,  0.8522,  0.0807, -1.8366],\n",
       "                       [-1.7261, -0.1644,  0.3017,  1.4700]],\n",
       "              \n",
       "                      [[-0.7296, -0.2523,  0.5361, -0.2981],\n",
       "                       [ 1.7676,  0.8522,  0.0807, -1.8366],\n",
       "                       [-1.7261, -0.1644,  0.3017,  1.4700]],\n",
       "              \n",
       "                      [[-0.7296, -0.2523,  0.5361, -0.2981],\n",
       "                       [ 1.7676,  0.8522,  0.0807, -1.8366],\n",
       "                       [-1.7261, -0.1644,  0.3017,  1.4700]],\n",
       "              \n",
       "                      [[-0.7296, -0.2523,  0.5361, -0.2981],\n",
       "                       [ 1.7676,  0.8522,  0.0807, -1.8366],\n",
       "                       [-1.7261, -0.1644,  0.3017,  1.4700]],\n",
       "              \n",
       "                      [[-0.7296, -0.2523,  0.5361, -0.2981],\n",
       "                       [ 1.7676,  0.8522,  0.0807, -1.8366],\n",
       "                       [-1.7261, -0.1644,  0.3017,  1.4700]],\n",
       "              \n",
       "                      [[-0.7296, -0.2523,  0.5361, -0.2981],\n",
       "                       [ 1.7676,  0.8522,  0.0807, -1.8366],\n",
       "                       [-1.7261, -0.1644,  0.3017,  1.4700]]]),\n",
       "       ),\n",
       ")"
      ]
     },
     "execution_count": 25,
     "metadata": {},
     "output_type": "execute_result"
    }
   ],
   "source": [
    "batches = [Batch(**_TREE_DATA_2) for _ in range(8)]\n",
    "\n",
    "Batch.stack(batches)"
   ]
  },
  {
   "cell_type": "code",
   "execution_count": 26,
   "id": "ec9037a3",
   "metadata": {
    "execution": {
     "iopub.execute_input": "2023-03-06T11:03:34.453685Z",
     "iopub.status.busy": "2023-03-06T11:03:34.453187Z",
     "iopub.status.idle": "2023-03-06T11:03:40.886438Z",
     "shell.execute_reply": "2023-03-06T11:03:40.885747Z"
    }
   },
   "outputs": [
    {
     "name": "stdout",
     "output_type": "stream",
     "text": [
      "79.2 µs ± 141 ns per loop (mean ± std. dev. of 7 runs, 10,000 loops each)\n"
     ]
    }
   ],
   "source": [
    "%timeit Batch.stack(batches)"
   ]
  },
  {
   "cell_type": "code",
   "execution_count": 27,
   "id": "cb8ab77e",
   "metadata": {
    "execution": {
     "iopub.execute_input": "2023-03-06T11:03:40.889623Z",
     "iopub.status.busy": "2023-03-06T11:03:40.889068Z",
     "iopub.status.idle": "2023-03-06T11:03:40.897067Z",
     "shell.execute_reply": "2023-03-06T11:03:40.896490Z"
    }
   },
   "outputs": [
    {
     "data": {
      "text/plain": [
       "Batch(\n",
       "    a: tensor([[-0.1091,  0.5564, -1.5327],\n",
       "               [ 0.8999, -0.0317,  1.5215],\n",
       "               [-0.1091,  0.5564, -1.5327],\n",
       "               [ 0.8999, -0.0317,  1.5215],\n",
       "               [-0.1091,  0.5564, -1.5327],\n",
       "               [ 0.8999, -0.0317,  1.5215],\n",
       "               [-0.1091,  0.5564, -1.5327],\n",
       "               [ 0.8999, -0.0317,  1.5215],\n",
       "               [-0.1091,  0.5564, -1.5327],\n",
       "               [ 0.8999, -0.0317,  1.5215],\n",
       "               [-0.1091,  0.5564, -1.5327],\n",
       "               [ 0.8999, -0.0317,  1.5215],\n",
       "               [-0.1091,  0.5564, -1.5327],\n",
       "               [ 0.8999, -0.0317,  1.5215],\n",
       "               [-0.1091,  0.5564, -1.5327],\n",
       "               [ 0.8999, -0.0317,  1.5215]]),\n",
       "    x: Batch(\n",
       "           c: tensor([[-0.7296, -0.2523,  0.5361, -0.2981],\n",
       "                      [ 1.7676,  0.8522,  0.0807, -1.8366],\n",
       "                      [-1.7261, -0.1644,  0.3017,  1.4700],\n",
       "                      [-0.7296, -0.2523,  0.5361, -0.2981],\n",
       "                      [ 1.7676,  0.8522,  0.0807, -1.8366],\n",
       "                      [-1.7261, -0.1644,  0.3017,  1.4700],\n",
       "                      [-0.7296, -0.2523,  0.5361, -0.2981],\n",
       "                      [ 1.7676,  0.8522,  0.0807, -1.8366],\n",
       "                      [-1.7261, -0.1644,  0.3017,  1.4700],\n",
       "                      [-0.7296, -0.2523,  0.5361, -0.2981],\n",
       "                      [ 1.7676,  0.8522,  0.0807, -1.8366],\n",
       "                      [-1.7261, -0.1644,  0.3017,  1.4700],\n",
       "                      [-0.7296, -0.2523,  0.5361, -0.2981],\n",
       "                      [ 1.7676,  0.8522,  0.0807, -1.8366],\n",
       "                      [-1.7261, -0.1644,  0.3017,  1.4700],\n",
       "                      [-0.7296, -0.2523,  0.5361, -0.2981],\n",
       "                      [ 1.7676,  0.8522,  0.0807, -1.8366],\n",
       "                      [-1.7261, -0.1644,  0.3017,  1.4700],\n",
       "                      [-0.7296, -0.2523,  0.5361, -0.2981],\n",
       "                      [ 1.7676,  0.8522,  0.0807, -1.8366],\n",
       "                      [-1.7261, -0.1644,  0.3017,  1.4700],\n",
       "                      [-0.7296, -0.2523,  0.5361, -0.2981],\n",
       "                      [ 1.7676,  0.8522,  0.0807, -1.8366],\n",
       "                      [-1.7261, -0.1644,  0.3017,  1.4700]]),\n",
       "       ),\n",
       ")"
      ]
     },
     "execution_count": 27,
     "metadata": {},
     "output_type": "execute_result"
    }
   ],
   "source": [
    "Batch.cat(batches)"
   ]
  },
  {
   "cell_type": "code",
   "execution_count": 28,
   "id": "18dfb045",
   "metadata": {
    "execution": {
     "iopub.execute_input": "2023-03-06T11:03:40.900047Z",
     "iopub.status.busy": "2023-03-06T11:03:40.899460Z",
     "iopub.status.idle": "2023-03-06T11:03:53.916138Z",
     "shell.execute_reply": "2023-03-06T11:03:53.914923Z"
    }
   },
   "outputs": [
    {
     "name": "stdout",
     "output_type": "stream",
     "text": [
      "160 µs ± 188 ns per loop (mean ± std. dev. of 7 runs, 10,000 loops each)\n"
     ]
    }
   ],
   "source": [
    "%timeit Batch.cat(batches)"
   ]
  },
  {
   "cell_type": "code",
   "execution_count": 29,
   "id": "c6688e51",
   "metadata": {
    "execution": {
     "iopub.execute_input": "2023-03-06T11:03:53.919115Z",
     "iopub.status.busy": "2023-03-06T11:03:53.918768Z",
     "iopub.status.idle": "2023-03-06T11:03:56.390868Z",
     "shell.execute_reply": "2023-03-06T11:03:56.390292Z"
    }
   },
   "outputs": [
    {
     "name": "stdout",
     "output_type": "stream",
     "text": [
      "304 µs ± 990 ns per loop (mean ± std. dev. of 7 runs, 1,000 loops each)\n"
     ]
    }
   ],
   "source": [
    "batch = Batch({\n",
    "    'obs': torch.randn(8, 4, 84, 84),\n",
    "    'action': torch.randint(0, 6, size=(8, 1,)),\n",
    "    'reward': torch.rand(8, 1)}\n",
    ")\n",
    "\n",
    "%timeit list(Batch.split(batch, 1, shuffle=False, merge_last=True))"
   ]
  },
  {
   "cell_type": "code",
   "execution_count": null,
   "id": "2539fbd9",
   "metadata": {},
   "outputs": [],
   "source": []
  }
 ],
 "metadata": {
  "kernelspec": {
   "display_name": "Python 3 (ipykernel)",
   "language": "python",
   "name": "python3"
  },
  "language_info": {
   "codemirror_mode": {
    "name": "ipython",
    "version": 3
   },
   "file_extension": ".py",
   "mimetype": "text/x-python",
   "name": "python",
   "nbconvert_exporter": "python",
   "pygments_lexer": "ipython3",
   "version": "3.8.16"
  }
 },
 "nbformat": 4,
 "nbformat_minor": 5
}
