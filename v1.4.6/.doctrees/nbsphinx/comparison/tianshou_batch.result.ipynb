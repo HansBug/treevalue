{
 "cells": [
  {
   "cell_type": "markdown",
   "id": "9d39d946",
   "metadata": {},
   "source": [
    "# Comparison Between TreeValue and Tianshou Batch"
   ]
  },
  {
   "cell_type": "markdown",
   "id": "3c6db2d4",
   "metadata": {},
   "source": [
    "In this section, we will take a look at the feature and performance of the [Tianshou Batch](https://github.com/thu-ml/tianshou) library, which is developed by Tsinghua Machine Learning Group."
   ]
  },
  {
   "cell_type": "markdown",
   "id": "069361b0",
   "metadata": {},
   "source": [
    "Before starting the comparison, let us define some thing."
   ]
  },
  {
   "cell_type": "code",
   "execution_count": 1,
   "id": "06fc8d26",
   "metadata": {
    "execution": {
     "iopub.execute_input": "2023-03-06T19:13:42.474932Z",
     "iopub.status.busy": "2023-03-06T19:13:42.474643Z",
     "iopub.status.idle": "2023-03-06T19:13:43.670899Z",
     "shell.execute_reply": "2023-03-06T19:13:43.669767Z"
    }
   },
   "outputs": [
    {
     "name": "stderr",
     "output_type": "stream",
     "text": [
      "/opt/hostedtoolcache/Python/3.8.16/x64/lib/python3.8/site-packages/tqdm/auto.py:21: TqdmWarning: IProgress not found. Please update jupyter and ipywidgets. See https://ipywidgets.readthedocs.io/en/stable/user_install.html\n",
      "  from .autonotebook import tqdm as notebook_tqdm\n"
     ]
    }
   ],
   "source": [
    "import torch \n",
    "\n",
    "_TREE_DATA_1 = {'a': 1, 'b': 2, 'x': {'c': 3, 'd': 4}}\n",
    "_TREE_DATA_2 = {\n",
    "    'a': torch.randn(2, 3), \n",
    "    'x': {\n",
    "        'c': torch.randn(3, 4)\n",
    "    },\n",
    "}\n",
    "_TREE_DATA_3 = {\n",
    "    'obs': torch.randn(4, 84, 84),\n",
    "    'action': torch.randint(0, 6, size=(1,)),\n",
    "    'reward': torch.rand(1),\n",
    "}"
   ]
  },
  {
   "cell_type": "markdown",
   "id": "83461b25",
   "metadata": {},
   "source": [
    "## Read and Write Operation"
   ]
  },
  {
   "cell_type": "markdown",
   "id": "067b3f73",
   "metadata": {},
   "source": [
    "Reading and writing are the two most common operations in the tree data structure based on the data model (TreeValue and Tianshou Batch both belong to this type), so this section will compare the reading and writing performance of these two libraries."
   ]
  },
  {
   "cell_type": "markdown",
   "id": "5d09a5b7",
   "metadata": {},
   "source": [
    "### TreeValue's Get and Set"
   ]
  },
  {
   "cell_type": "code",
   "execution_count": 2,
   "id": "9519c4bb",
   "metadata": {
    "execution": {
     "iopub.execute_input": "2023-03-06T19:13:43.675641Z",
     "iopub.status.busy": "2023-03-06T19:13:43.675288Z",
     "iopub.status.idle": "2023-03-06T19:13:44.058008Z",
     "shell.execute_reply": "2023-03-06T19:13:44.056632Z"
    }
   },
   "outputs": [],
   "source": [
    "from treevalue import FastTreeValue\n",
    "\n",
    "t = FastTreeValue(_TREE_DATA_2)"
   ]
  },
  {
   "cell_type": "code",
   "execution_count": 3,
   "id": "11c37677",
   "metadata": {
    "execution": {
     "iopub.execute_input": "2023-03-06T19:13:44.062883Z",
     "iopub.status.busy": "2023-03-06T19:13:44.062482Z",
     "iopub.status.idle": "2023-03-06T19:13:44.076945Z",
     "shell.execute_reply": "2023-03-06T19:13:44.076004Z"
    }
   },
   "outputs": [
    {
     "data": {
      "text/plain": [
       "<FastTreeValue 0x7fc7ab6f6a90>\n",
       "├── 'a' --> tensor([[-0.4584,  0.1312, -0.1269],\n",
       "│                   [ 1.3129, -0.0119, -0.6940]])\n",
       "└── 'x' --> <FastTreeValue 0x7fc7ab749a30>\n",
       "    └── 'c' --> tensor([[ 2.8167e-01,  2.6515e-01, -5.4665e-01, -2.1852e-01],\n",
       "                        [ 8.4956e-01,  1.6812e+00, -3.4257e-01, -6.3874e-01],\n",
       "                        [-9.4790e-01, -1.0118e-03, -1.3947e-02,  1.0904e+00]])"
      ]
     },
     "execution_count": 3,
     "metadata": {},
     "output_type": "execute_result"
    }
   ],
   "source": [
    "t"
   ]
  },
  {
   "cell_type": "code",
   "execution_count": 4,
   "id": "fd70b0b9",
   "metadata": {
    "execution": {
     "iopub.execute_input": "2023-03-06T19:13:44.080640Z",
     "iopub.status.busy": "2023-03-06T19:13:44.080356Z",
     "iopub.status.idle": "2023-03-06T19:13:44.088419Z",
     "shell.execute_reply": "2023-03-06T19:13:44.087437Z"
    }
   },
   "outputs": [
    {
     "data": {
      "text/plain": [
       "tensor([[-0.4584,  0.1312, -0.1269],\n",
       "        [ 1.3129, -0.0119, -0.6940]])"
      ]
     },
     "execution_count": 4,
     "metadata": {},
     "output_type": "execute_result"
    }
   ],
   "source": [
    "t.a"
   ]
  },
  {
   "cell_type": "code",
   "execution_count": 5,
   "id": "c18197bd",
   "metadata": {
    "execution": {
     "iopub.execute_input": "2023-03-06T19:13:44.091921Z",
     "iopub.status.busy": "2023-03-06T19:13:44.091653Z",
     "iopub.status.idle": "2023-03-06T19:13:50.012618Z",
     "shell.execute_reply": "2023-03-06T19:13:50.011681Z"
    }
   },
   "outputs": [
    {
     "name": "stdout",
     "output_type": "stream",
     "text": [
      "72.8 ns ± 1.05 ns per loop (mean ± std. dev. of 7 runs, 10,000,000 loops each)\n"
     ]
    }
   ],
   "source": [
    "%timeit t.a"
   ]
  },
  {
   "cell_type": "code",
   "execution_count": 6,
   "id": "bd52f867",
   "metadata": {
    "execution": {
     "iopub.execute_input": "2023-03-06T19:13:50.016717Z",
     "iopub.status.busy": "2023-03-06T19:13:50.016411Z",
     "iopub.status.idle": "2023-03-06T19:13:50.026236Z",
     "shell.execute_reply": "2023-03-06T19:13:50.025267Z"
    }
   },
   "outputs": [
    {
     "data": {
      "text/plain": [
       "<FastTreeValue 0x7fc7ab6f6a90>\n",
       "├── 'a' --> tensor([[ 1.6013,  1.0788,  1.2881],\n",
       "│                   [ 0.3244,  0.5908, -0.1456]])\n",
       "└── 'x' --> <FastTreeValue 0x7fc7ab749a30>\n",
       "    └── 'c' --> tensor([[ 2.8167e-01,  2.6515e-01, -5.4665e-01, -2.1852e-01],\n",
       "                        [ 8.4956e-01,  1.6812e+00, -3.4257e-01, -6.3874e-01],\n",
       "                        [-9.4790e-01, -1.0118e-03, -1.3947e-02,  1.0904e+00]])"
      ]
     },
     "execution_count": 6,
     "metadata": {},
     "output_type": "execute_result"
    }
   ],
   "source": [
    "new_value = torch.randn(2, 3)\n",
    "t.a = new_value\n",
    "\n",
    "t"
   ]
  },
  {
   "cell_type": "code",
   "execution_count": 7,
   "id": "bbe04d1c",
   "metadata": {
    "execution": {
     "iopub.execute_input": "2023-03-06T19:13:50.029831Z",
     "iopub.status.busy": "2023-03-06T19:13:50.029524Z",
     "iopub.status.idle": "2023-03-06T19:13:56.537786Z",
     "shell.execute_reply": "2023-03-06T19:13:56.536702Z"
    }
   },
   "outputs": [
    {
     "name": "stdout",
     "output_type": "stream",
     "text": [
      "80.3 ns ± 1.21 ns per loop (mean ± std. dev. of 7 runs, 10,000,000 loops each)\n"
     ]
    }
   ],
   "source": [
    "%timeit t.a = new_value"
   ]
  },
  {
   "cell_type": "markdown",
   "id": "48c49731",
   "metadata": {},
   "source": [
    "### Tianshou Batch's Get and Set"
   ]
  },
  {
   "cell_type": "code",
   "execution_count": 8,
   "id": "f1bb14c1",
   "metadata": {
    "execution": {
     "iopub.execute_input": "2023-03-06T19:13:56.542583Z",
     "iopub.status.busy": "2023-03-06T19:13:56.541935Z",
     "iopub.status.idle": "2023-03-06T19:13:57.009518Z",
     "shell.execute_reply": "2023-03-06T19:13:57.008309Z"
    }
   },
   "outputs": [],
   "source": [
    "from tianshou.data import Batch\n",
    "\n",
    "b = Batch(**_TREE_DATA_2)"
   ]
  },
  {
   "cell_type": "code",
   "execution_count": 9,
   "id": "cb0777c3",
   "metadata": {
    "execution": {
     "iopub.execute_input": "2023-03-06T19:13:57.014004Z",
     "iopub.status.busy": "2023-03-06T19:13:57.013591Z",
     "iopub.status.idle": "2023-03-06T19:13:57.022731Z",
     "shell.execute_reply": "2023-03-06T19:13:57.021503Z"
    }
   },
   "outputs": [
    {
     "data": {
      "text/plain": [
       "Batch(\n",
       "    a: tensor([[-0.4584,  0.1312, -0.1269],\n",
       "               [ 1.3129, -0.0119, -0.6940]]),\n",
       "    x: Batch(\n",
       "           c: tensor([[ 2.8167e-01,  2.6515e-01, -5.4665e-01, -2.1852e-01],\n",
       "                      [ 8.4956e-01,  1.6812e+00, -3.4257e-01, -6.3874e-01],\n",
       "                      [-9.4790e-01, -1.0118e-03, -1.3947e-02,  1.0904e+00]]),\n",
       "       ),\n",
       ")"
      ]
     },
     "execution_count": 9,
     "metadata": {},
     "output_type": "execute_result"
    }
   ],
   "source": [
    "b"
   ]
  },
  {
   "cell_type": "code",
   "execution_count": 10,
   "id": "43ef8ea3",
   "metadata": {
    "execution": {
     "iopub.execute_input": "2023-03-06T19:13:57.026262Z",
     "iopub.status.busy": "2023-03-06T19:13:57.025780Z",
     "iopub.status.idle": "2023-03-06T19:13:57.032647Z",
     "shell.execute_reply": "2023-03-06T19:13:57.031543Z"
    }
   },
   "outputs": [
    {
     "data": {
      "text/plain": [
       "tensor([[-0.4584,  0.1312, -0.1269],\n",
       "        [ 1.3129, -0.0119, -0.6940]])"
      ]
     },
     "execution_count": 10,
     "metadata": {},
     "output_type": "execute_result"
    }
   ],
   "source": [
    "b.a"
   ]
  },
  {
   "cell_type": "code",
   "execution_count": 11,
   "id": "b785ab72",
   "metadata": {
    "execution": {
     "iopub.execute_input": "2023-03-06T19:13:57.036393Z",
     "iopub.status.busy": "2023-03-06T19:13:57.036018Z",
     "iopub.status.idle": "2023-03-06T19:14:03.234068Z",
     "shell.execute_reply": "2023-03-06T19:14:03.232557Z"
    }
   },
   "outputs": [
    {
     "name": "stdout",
     "output_type": "stream",
     "text": [
      "76 ns ± 0.709 ns per loop (mean ± std. dev. of 7 runs, 10,000,000 loops each)\n"
     ]
    }
   ],
   "source": [
    "%timeit b.a"
   ]
  },
  {
   "cell_type": "code",
   "execution_count": 12,
   "id": "ad54dc69",
   "metadata": {
    "execution": {
     "iopub.execute_input": "2023-03-06T19:14:03.237805Z",
     "iopub.status.busy": "2023-03-06T19:14:03.237521Z",
     "iopub.status.idle": "2023-03-06T19:14:03.246518Z",
     "shell.execute_reply": "2023-03-06T19:14:03.245608Z"
    }
   },
   "outputs": [
    {
     "data": {
      "text/plain": [
       "Batch(\n",
       "    a: tensor([[-1.1726, -0.3270,  0.8072],\n",
       "               [ 0.0541, -1.7466,  1.1799]]),\n",
       "    x: Batch(\n",
       "           c: tensor([[ 2.8167e-01,  2.6515e-01, -5.4665e-01, -2.1852e-01],\n",
       "                      [ 8.4956e-01,  1.6812e+00, -3.4257e-01, -6.3874e-01],\n",
       "                      [-9.4790e-01, -1.0118e-03, -1.3947e-02,  1.0904e+00]]),\n",
       "       ),\n",
       ")"
      ]
     },
     "execution_count": 12,
     "metadata": {},
     "output_type": "execute_result"
    }
   ],
   "source": [
    "new_value = torch.randn(2, 3)\n",
    "b.a = new_value\n",
    "\n",
    "b"
   ]
  },
  {
   "cell_type": "code",
   "execution_count": 13,
   "id": "29b1d0bf",
   "metadata": {
    "execution": {
     "iopub.execute_input": "2023-03-06T19:14:03.249635Z",
     "iopub.status.busy": "2023-03-06T19:14:03.249363Z",
     "iopub.status.idle": "2023-03-06T19:14:08.562481Z",
     "shell.execute_reply": "2023-03-06T19:14:08.561350Z"
    }
   },
   "outputs": [
    {
     "name": "stdout",
     "output_type": "stream",
     "text": [
      "654 ns ± 17.8 ns per loop (mean ± std. dev. of 7 runs, 1,000,000 loops each)\n"
     ]
    }
   ],
   "source": [
    "%timeit b.a = new_value"
   ]
  },
  {
   "cell_type": "markdown",
   "id": "b61ad1d0",
   "metadata": {},
   "source": [
    "## Initialization"
   ]
  },
  {
   "cell_type": "markdown",
   "id": "d70f0d54",
   "metadata": {},
   "source": [
    "### TreeValue's Initialization"
   ]
  },
  {
   "cell_type": "code",
   "execution_count": 14,
   "id": "d32a679b",
   "metadata": {
    "execution": {
     "iopub.execute_input": "2023-03-06T19:14:08.567365Z",
     "iopub.status.busy": "2023-03-06T19:14:08.566627Z",
     "iopub.status.idle": "2023-03-06T19:14:16.854080Z",
     "shell.execute_reply": "2023-03-06T19:14:16.852844Z"
    }
   },
   "outputs": [
    {
     "name": "stdout",
     "output_type": "stream",
     "text": [
      "1.01 µs ± 11.9 ns per loop (mean ± std. dev. of 7 runs, 1,000,000 loops each)\n"
     ]
    }
   ],
   "source": [
    "%timeit FastTreeValue(_TREE_DATA_1)"
   ]
  },
  {
   "cell_type": "markdown",
   "id": "24f3707b",
   "metadata": {},
   "source": [
    "### Tianshou Batch's Initialization"
   ]
  },
  {
   "cell_type": "code",
   "execution_count": 15,
   "id": "ac3958df",
   "metadata": {
    "execution": {
     "iopub.execute_input": "2023-03-06T19:14:16.858351Z",
     "iopub.status.busy": "2023-03-06T19:14:16.857640Z",
     "iopub.status.idle": "2023-03-06T19:14:28.053908Z",
     "shell.execute_reply": "2023-03-06T19:14:28.050155Z"
    }
   },
   "outputs": [
    {
     "name": "stdout",
     "output_type": "stream",
     "text": [
      "13.8 µs ± 475 ns per loop (mean ± std. dev. of 7 runs, 100,000 loops each)\n"
     ]
    }
   ],
   "source": [
    "%timeit Batch(**_TREE_DATA_1)"
   ]
  },
  {
   "cell_type": "markdown",
   "id": "1ab82e2d",
   "metadata": {},
   "source": [
    "## Deep Copy Operation"
   ]
  },
  {
   "cell_type": "code",
   "execution_count": 16,
   "id": "210a9442",
   "metadata": {
    "execution": {
     "iopub.execute_input": "2023-03-06T19:14:28.058600Z",
     "iopub.status.busy": "2023-03-06T19:14:28.058222Z",
     "iopub.status.idle": "2023-03-06T19:14:28.064190Z",
     "shell.execute_reply": "2023-03-06T19:14:28.063265Z"
    }
   },
   "outputs": [],
   "source": [
    "import copy"
   ]
  },
  {
   "cell_type": "markdown",
   "id": "5a736274",
   "metadata": {},
   "source": [
    "### Deep Copy of TreeValue"
   ]
  },
  {
   "cell_type": "code",
   "execution_count": 17,
   "id": "f9bcadd6",
   "metadata": {
    "execution": {
     "iopub.execute_input": "2023-03-06T19:14:28.068690Z",
     "iopub.status.busy": "2023-03-06T19:14:28.067876Z",
     "iopub.status.idle": "2023-03-06T19:14:30.494115Z",
     "shell.execute_reply": "2023-03-06T19:14:30.493025Z"
    }
   },
   "outputs": [
    {
     "name": "stdout",
     "output_type": "stream",
     "text": [
      "301 µs ± 12.6 µs per loop (mean ± std. dev. of 7 runs, 1,000 loops each)\n"
     ]
    }
   ],
   "source": [
    "t3 = FastTreeValue(_TREE_DATA_3)\n",
    "%timeit copy.deepcopy(t3)"
   ]
  },
  {
   "cell_type": "markdown",
   "id": "bf8be7ea",
   "metadata": {},
   "source": [
    "### Deep Copy of Tianshou Batch"
   ]
  },
  {
   "cell_type": "code",
   "execution_count": 18,
   "id": "91998e6f",
   "metadata": {
    "execution": {
     "iopub.execute_input": "2023-03-06T19:14:30.499493Z",
     "iopub.status.busy": "2023-03-06T19:14:30.498937Z",
     "iopub.status.idle": "2023-03-06T19:14:32.764813Z",
     "shell.execute_reply": "2023-03-06T19:14:32.763819Z"
    }
   },
   "outputs": [
    {
     "name": "stdout",
     "output_type": "stream",
     "text": [
      "278 µs ± 9.02 µs per loop (mean ± std. dev. of 7 runs, 1,000 loops each)\n"
     ]
    }
   ],
   "source": [
    "b3 = Batch(**_TREE_DATA_3)\n",
    "%timeit copy.deepcopy(b3)"
   ]
  },
  {
   "cell_type": "markdown",
   "id": "223162fb",
   "metadata": {},
   "source": [
    "## Stack, Concat and Split Operation"
   ]
  },
  {
   "cell_type": "markdown",
   "id": "85fa4a73",
   "metadata": {},
   "source": [
    "### Performance of TreeValue"
   ]
  },
  {
   "cell_type": "code",
   "execution_count": 19,
   "id": "a0c2b697",
   "metadata": {
    "execution": {
     "iopub.execute_input": "2023-03-06T19:14:32.768904Z",
     "iopub.status.busy": "2023-03-06T19:14:32.768241Z",
     "iopub.status.idle": "2023-03-06T19:14:32.774053Z",
     "shell.execute_reply": "2023-03-06T19:14:32.773227Z"
    }
   },
   "outputs": [],
   "source": [
    "trees = [FastTreeValue(_TREE_DATA_2) for _ in range(8)]"
   ]
  },
  {
   "cell_type": "code",
   "execution_count": 20,
   "id": "017ea5a5",
   "metadata": {
    "execution": {
     "iopub.execute_input": "2023-03-06T19:14:32.777515Z",
     "iopub.status.busy": "2023-03-06T19:14:32.777030Z",
     "iopub.status.idle": "2023-03-06T19:14:32.788091Z",
     "shell.execute_reply": "2023-03-06T19:14:32.786824Z"
    }
   },
   "outputs": [
    {
     "data": {
      "text/plain": [
       "<FastTreeValue 0x7fc6f192f070>\n",
       "├── 'a' --> tensor([[[-0.4584,  0.1312, -0.1269],\n",
       "│                    [ 1.3129, -0.0119, -0.6940]],\n",
       "│           \n",
       "│                   [[-0.4584,  0.1312, -0.1269],\n",
       "│                    [ 1.3129, -0.0119, -0.6940]],\n",
       "│           \n",
       "│                   [[-0.4584,  0.1312, -0.1269],\n",
       "│                    [ 1.3129, -0.0119, -0.6940]],\n",
       "│           \n",
       "│                   [[-0.4584,  0.1312, -0.1269],\n",
       "│                    [ 1.3129, -0.0119, -0.6940]],\n",
       "│           \n",
       "│                   [[-0.4584,  0.1312, -0.1269],\n",
       "│                    [ 1.3129, -0.0119, -0.6940]],\n",
       "│           \n",
       "│                   [[-0.4584,  0.1312, -0.1269],\n",
       "│                    [ 1.3129, -0.0119, -0.6940]],\n",
       "│           \n",
       "│                   [[-0.4584,  0.1312, -0.1269],\n",
       "│                    [ 1.3129, -0.0119, -0.6940]],\n",
       "│           \n",
       "│                   [[-0.4584,  0.1312, -0.1269],\n",
       "│                    [ 1.3129, -0.0119, -0.6940]]])\n",
       "└── 'x' --> <FastTreeValue 0x7fc6f1f77f70>\n",
       "    └── 'c' --> tensor([[[ 2.8167e-01,  2.6515e-01, -5.4665e-01, -2.1852e-01],\n",
       "                         [ 8.4956e-01,  1.6812e+00, -3.4257e-01, -6.3874e-01],\n",
       "                         [-9.4790e-01, -1.0118e-03, -1.3947e-02,  1.0904e+00]],\n",
       "                \n",
       "                        [[ 2.8167e-01,  2.6515e-01, -5.4665e-01, -2.1852e-01],\n",
       "                         [ 8.4956e-01,  1.6812e+00, -3.4257e-01, -6.3874e-01],\n",
       "                         [-9.4790e-01, -1.0118e-03, -1.3947e-02,  1.0904e+00]],\n",
       "                \n",
       "                        [[ 2.8167e-01,  2.6515e-01, -5.4665e-01, -2.1852e-01],\n",
       "                         [ 8.4956e-01,  1.6812e+00, -3.4257e-01, -6.3874e-01],\n",
       "                         [-9.4790e-01, -1.0118e-03, -1.3947e-02,  1.0904e+00]],\n",
       "                \n",
       "                        [[ 2.8167e-01,  2.6515e-01, -5.4665e-01, -2.1852e-01],\n",
       "                         [ 8.4956e-01,  1.6812e+00, -3.4257e-01, -6.3874e-01],\n",
       "                         [-9.4790e-01, -1.0118e-03, -1.3947e-02,  1.0904e+00]],\n",
       "                \n",
       "                        [[ 2.8167e-01,  2.6515e-01, -5.4665e-01, -2.1852e-01],\n",
       "                         [ 8.4956e-01,  1.6812e+00, -3.4257e-01, -6.3874e-01],\n",
       "                         [-9.4790e-01, -1.0118e-03, -1.3947e-02,  1.0904e+00]],\n",
       "                \n",
       "                        [[ 2.8167e-01,  2.6515e-01, -5.4665e-01, -2.1852e-01],\n",
       "                         [ 8.4956e-01,  1.6812e+00, -3.4257e-01, -6.3874e-01],\n",
       "                         [-9.4790e-01, -1.0118e-03, -1.3947e-02,  1.0904e+00]],\n",
       "                \n",
       "                        [[ 2.8167e-01,  2.6515e-01, -5.4665e-01, -2.1852e-01],\n",
       "                         [ 8.4956e-01,  1.6812e+00, -3.4257e-01, -6.3874e-01],\n",
       "                         [-9.4790e-01, -1.0118e-03, -1.3947e-02,  1.0904e+00]],\n",
       "                \n",
       "                        [[ 2.8167e-01,  2.6515e-01, -5.4665e-01, -2.1852e-01],\n",
       "                         [ 8.4956e-01,  1.6812e+00, -3.4257e-01, -6.3874e-01],\n",
       "                         [-9.4790e-01, -1.0118e-03, -1.3947e-02,  1.0904e+00]]])"
      ]
     },
     "execution_count": 20,
     "metadata": {},
     "output_type": "execute_result"
    }
   ],
   "source": [
    "t_stack = FastTreeValue.func(subside=True)(torch.stack)\n",
    "\n",
    "t_stack(trees)"
   ]
  },
  {
   "cell_type": "code",
   "execution_count": 21,
   "id": "f8b3f415",
   "metadata": {
    "execution": {
     "iopub.execute_input": "2023-03-06T19:14:32.792299Z",
     "iopub.status.busy": "2023-03-06T19:14:32.791403Z",
     "iopub.status.idle": "2023-03-06T19:14:36.650772Z",
     "shell.execute_reply": "2023-03-06T19:14:36.649505Z"
    }
   },
   "outputs": [
    {
     "name": "stdout",
     "output_type": "stream",
     "text": [
      "47.5 µs ± 1.07 µs per loop (mean ± std. dev. of 7 runs, 10,000 loops each)\n"
     ]
    }
   ],
   "source": [
    "%timeit t_stack(trees)"
   ]
  },
  {
   "cell_type": "code",
   "execution_count": 22,
   "id": "94b56771",
   "metadata": {
    "execution": {
     "iopub.execute_input": "2023-03-06T19:14:36.654486Z",
     "iopub.status.busy": "2023-03-06T19:14:36.654092Z",
     "iopub.status.idle": "2023-03-06T19:14:36.665669Z",
     "shell.execute_reply": "2023-03-06T19:14:36.664466Z"
    }
   },
   "outputs": [
    {
     "data": {
      "text/plain": [
       "<FastTreeValue 0x7fc6f191fc40>\n",
       "├── 'a' --> tensor([[-0.4584,  0.1312, -0.1269],\n",
       "│                   [ 1.3129, -0.0119, -0.6940],\n",
       "│                   [-0.4584,  0.1312, -0.1269],\n",
       "│                   [ 1.3129, -0.0119, -0.6940],\n",
       "│                   [-0.4584,  0.1312, -0.1269],\n",
       "│                   [ 1.3129, -0.0119, -0.6940],\n",
       "│                   [-0.4584,  0.1312, -0.1269],\n",
       "│                   [ 1.3129, -0.0119, -0.6940],\n",
       "│                   [-0.4584,  0.1312, -0.1269],\n",
       "│                   [ 1.3129, -0.0119, -0.6940],\n",
       "│                   [-0.4584,  0.1312, -0.1269],\n",
       "│                   [ 1.3129, -0.0119, -0.6940],\n",
       "│                   [-0.4584,  0.1312, -0.1269],\n",
       "│                   [ 1.3129, -0.0119, -0.6940],\n",
       "│                   [-0.4584,  0.1312, -0.1269],\n",
       "│                   [ 1.3129, -0.0119, -0.6940]])\n",
       "└── 'x' --> <FastTreeValue 0x7fc6f8573910>\n",
       "    └── 'c' --> tensor([[ 2.8167e-01,  2.6515e-01, -5.4665e-01, -2.1852e-01],\n",
       "                        [ 8.4956e-01,  1.6812e+00, -3.4257e-01, -6.3874e-01],\n",
       "                        [-9.4790e-01, -1.0118e-03, -1.3947e-02,  1.0904e+00],\n",
       "                        [ 2.8167e-01,  2.6515e-01, -5.4665e-01, -2.1852e-01],\n",
       "                        [ 8.4956e-01,  1.6812e+00, -3.4257e-01, -6.3874e-01],\n",
       "                        [-9.4790e-01, -1.0118e-03, -1.3947e-02,  1.0904e+00],\n",
       "                        [ 2.8167e-01,  2.6515e-01, -5.4665e-01, -2.1852e-01],\n",
       "                        [ 8.4956e-01,  1.6812e+00, -3.4257e-01, -6.3874e-01],\n",
       "                        [-9.4790e-01, -1.0118e-03, -1.3947e-02,  1.0904e+00],\n",
       "                        [ 2.8167e-01,  2.6515e-01, -5.4665e-01, -2.1852e-01],\n",
       "                        [ 8.4956e-01,  1.6812e+00, -3.4257e-01, -6.3874e-01],\n",
       "                        [-9.4790e-01, -1.0118e-03, -1.3947e-02,  1.0904e+00],\n",
       "                        [ 2.8167e-01,  2.6515e-01, -5.4665e-01, -2.1852e-01],\n",
       "                        [ 8.4956e-01,  1.6812e+00, -3.4257e-01, -6.3874e-01],\n",
       "                        [-9.4790e-01, -1.0118e-03, -1.3947e-02,  1.0904e+00],\n",
       "                        [ 2.8167e-01,  2.6515e-01, -5.4665e-01, -2.1852e-01],\n",
       "                        [ 8.4956e-01,  1.6812e+00, -3.4257e-01, -6.3874e-01],\n",
       "                        [-9.4790e-01, -1.0118e-03, -1.3947e-02,  1.0904e+00],\n",
       "                        [ 2.8167e-01,  2.6515e-01, -5.4665e-01, -2.1852e-01],\n",
       "                        [ 8.4956e-01,  1.6812e+00, -3.4257e-01, -6.3874e-01],\n",
       "                        [-9.4790e-01, -1.0118e-03, -1.3947e-02,  1.0904e+00],\n",
       "                        [ 2.8167e-01,  2.6515e-01, -5.4665e-01, -2.1852e-01],\n",
       "                        [ 8.4956e-01,  1.6812e+00, -3.4257e-01, -6.3874e-01],\n",
       "                        [-9.4790e-01, -1.0118e-03, -1.3947e-02,  1.0904e+00]])"
      ]
     },
     "execution_count": 22,
     "metadata": {},
     "output_type": "execute_result"
    }
   ],
   "source": [
    "t_cat = FastTreeValue.func(subside=True)(torch.cat)\n",
    "\n",
    "t_cat(trees)"
   ]
  },
  {
   "cell_type": "code",
   "execution_count": 23,
   "id": "5e9c06a6",
   "metadata": {
    "execution": {
     "iopub.execute_input": "2023-03-06T19:14:36.669384Z",
     "iopub.status.busy": "2023-03-06T19:14:36.668733Z",
     "iopub.status.idle": "2023-03-06T19:14:40.222036Z",
     "shell.execute_reply": "2023-03-06T19:14:40.221054Z"
    }
   },
   "outputs": [
    {
     "name": "stdout",
     "output_type": "stream",
     "text": [
      "43.8 µs ± 1.63 µs per loop (mean ± std. dev. of 7 runs, 10,000 loops each)\n"
     ]
    }
   ],
   "source": [
    "%timeit t_cat(trees)"
   ]
  },
  {
   "cell_type": "code",
   "execution_count": 24,
   "id": "a3ab5c8f",
   "metadata": {
    "execution": {
     "iopub.execute_input": "2023-03-06T19:14:40.226283Z",
     "iopub.status.busy": "2023-03-06T19:14:40.225749Z",
     "iopub.status.idle": "2023-03-06T19:14:46.706227Z",
     "shell.execute_reply": "2023-03-06T19:14:46.705283Z"
    }
   },
   "outputs": [
    {
     "name": "stdout",
     "output_type": "stream",
     "text": [
      "79.7 µs ± 1.92 µs per loop (mean ± std. dev. of 7 runs, 10,000 loops each)\n"
     ]
    }
   ],
   "source": [
    "t_split = FastTreeValue.func(rise=True)(torch.split)\n",
    "tree = FastTreeValue({\n",
    "    'obs': torch.randn(8, 4, 84, 84),\n",
    "    'action': torch.randint(0, 6, size=(8, 1,)),\n",
    "    'reward': torch.rand(8, 1),\n",
    "})\n",
    "\n",
    "%timeit t_split(tree, 1)"
   ]
  },
  {
   "cell_type": "markdown",
   "id": "31c3ec0b",
   "metadata": {},
   "source": [
    "### Performance of Tianshou Batch"
   ]
  },
  {
   "cell_type": "code",
   "execution_count": 25,
   "id": "9ead828a",
   "metadata": {
    "execution": {
     "iopub.execute_input": "2023-03-06T19:14:46.710822Z",
     "iopub.status.busy": "2023-03-06T19:14:46.710472Z",
     "iopub.status.idle": "2023-03-06T19:14:46.722959Z",
     "shell.execute_reply": "2023-03-06T19:14:46.721705Z"
    }
   },
   "outputs": [
    {
     "data": {
      "text/plain": [
       "Batch(\n",
       "    x: Batch(\n",
       "           c: tensor([[[ 2.8167e-01,  2.6515e-01, -5.4665e-01, -2.1852e-01],\n",
       "                       [ 8.4956e-01,  1.6812e+00, -3.4257e-01, -6.3874e-01],\n",
       "                       [-9.4790e-01, -1.0118e-03, -1.3947e-02,  1.0904e+00]],\n",
       "              \n",
       "                      [[ 2.8167e-01,  2.6515e-01, -5.4665e-01, -2.1852e-01],\n",
       "                       [ 8.4956e-01,  1.6812e+00, -3.4257e-01, -6.3874e-01],\n",
       "                       [-9.4790e-01, -1.0118e-03, -1.3947e-02,  1.0904e+00]],\n",
       "              \n",
       "                      [[ 2.8167e-01,  2.6515e-01, -5.4665e-01, -2.1852e-01],\n",
       "                       [ 8.4956e-01,  1.6812e+00, -3.4257e-01, -6.3874e-01],\n",
       "                       [-9.4790e-01, -1.0118e-03, -1.3947e-02,  1.0904e+00]],\n",
       "              \n",
       "                      [[ 2.8167e-01,  2.6515e-01, -5.4665e-01, -2.1852e-01],\n",
       "                       [ 8.4956e-01,  1.6812e+00, -3.4257e-01, -6.3874e-01],\n",
       "                       [-9.4790e-01, -1.0118e-03, -1.3947e-02,  1.0904e+00]],\n",
       "              \n",
       "                      [[ 2.8167e-01,  2.6515e-01, -5.4665e-01, -2.1852e-01],\n",
       "                       [ 8.4956e-01,  1.6812e+00, -3.4257e-01, -6.3874e-01],\n",
       "                       [-9.4790e-01, -1.0118e-03, -1.3947e-02,  1.0904e+00]],\n",
       "              \n",
       "                      [[ 2.8167e-01,  2.6515e-01, -5.4665e-01, -2.1852e-01],\n",
       "                       [ 8.4956e-01,  1.6812e+00, -3.4257e-01, -6.3874e-01],\n",
       "                       [-9.4790e-01, -1.0118e-03, -1.3947e-02,  1.0904e+00]],\n",
       "              \n",
       "                      [[ 2.8167e-01,  2.6515e-01, -5.4665e-01, -2.1852e-01],\n",
       "                       [ 8.4956e-01,  1.6812e+00, -3.4257e-01, -6.3874e-01],\n",
       "                       [-9.4790e-01, -1.0118e-03, -1.3947e-02,  1.0904e+00]],\n",
       "              \n",
       "                      [[ 2.8167e-01,  2.6515e-01, -5.4665e-01, -2.1852e-01],\n",
       "                       [ 8.4956e-01,  1.6812e+00, -3.4257e-01, -6.3874e-01],\n",
       "                       [-9.4790e-01, -1.0118e-03, -1.3947e-02,  1.0904e+00]]]),\n",
       "       ),\n",
       "    a: tensor([[[-0.4584,  0.1312, -0.1269],\n",
       "                [ 1.3129, -0.0119, -0.6940]],\n",
       "       \n",
       "               [[-0.4584,  0.1312, -0.1269],\n",
       "                [ 1.3129, -0.0119, -0.6940]],\n",
       "       \n",
       "               [[-0.4584,  0.1312, -0.1269],\n",
       "                [ 1.3129, -0.0119, -0.6940]],\n",
       "       \n",
       "               [[-0.4584,  0.1312, -0.1269],\n",
       "                [ 1.3129, -0.0119, -0.6940]],\n",
       "       \n",
       "               [[-0.4584,  0.1312, -0.1269],\n",
       "                [ 1.3129, -0.0119, -0.6940]],\n",
       "       \n",
       "               [[-0.4584,  0.1312, -0.1269],\n",
       "                [ 1.3129, -0.0119, -0.6940]],\n",
       "       \n",
       "               [[-0.4584,  0.1312, -0.1269],\n",
       "                [ 1.3129, -0.0119, -0.6940]],\n",
       "       \n",
       "               [[-0.4584,  0.1312, -0.1269],\n",
       "                [ 1.3129, -0.0119, -0.6940]]]),\n",
       ")"
      ]
     },
     "execution_count": 25,
     "metadata": {},
     "output_type": "execute_result"
    }
   ],
   "source": [
    "batches = [Batch(**_TREE_DATA_2) for _ in range(8)]\n",
    "\n",
    "Batch.stack(batches)"
   ]
  },
  {
   "cell_type": "code",
   "execution_count": 26,
   "id": "ec9037a3",
   "metadata": {
    "execution": {
     "iopub.execute_input": "2023-03-06T19:14:46.726695Z",
     "iopub.status.busy": "2023-03-06T19:14:46.726367Z",
     "iopub.status.idle": "2023-03-06T19:14:59.020964Z",
     "shell.execute_reply": "2023-03-06T19:14:59.019976Z"
    }
   },
   "outputs": [
    {
     "name": "stdout",
     "output_type": "stream",
     "text": [
      "151 µs ± 3.18 µs per loop (mean ± std. dev. of 7 runs, 10,000 loops each)\n"
     ]
    }
   ],
   "source": [
    "%timeit Batch.stack(batches)"
   ]
  },
  {
   "cell_type": "code",
   "execution_count": 27,
   "id": "cb8ab77e",
   "metadata": {
    "execution": {
     "iopub.execute_input": "2023-03-06T19:14:59.024755Z",
     "iopub.status.busy": "2023-03-06T19:14:59.024468Z",
     "iopub.status.idle": "2023-03-06T19:14:59.035225Z",
     "shell.execute_reply": "2023-03-06T19:14:59.034325Z"
    }
   },
   "outputs": [
    {
     "data": {
      "text/plain": [
       "Batch(\n",
       "    x: Batch(\n",
       "           c: tensor([[ 2.8167e-01,  2.6515e-01, -5.4665e-01, -2.1852e-01],\n",
       "                      [ 8.4956e-01,  1.6812e+00, -3.4257e-01, -6.3874e-01],\n",
       "                      [-9.4790e-01, -1.0118e-03, -1.3947e-02,  1.0904e+00],\n",
       "                      [ 2.8167e-01,  2.6515e-01, -5.4665e-01, -2.1852e-01],\n",
       "                      [ 8.4956e-01,  1.6812e+00, -3.4257e-01, -6.3874e-01],\n",
       "                      [-9.4790e-01, -1.0118e-03, -1.3947e-02,  1.0904e+00],\n",
       "                      [ 2.8167e-01,  2.6515e-01, -5.4665e-01, -2.1852e-01],\n",
       "                      [ 8.4956e-01,  1.6812e+00, -3.4257e-01, -6.3874e-01],\n",
       "                      [-9.4790e-01, -1.0118e-03, -1.3947e-02,  1.0904e+00],\n",
       "                      [ 2.8167e-01,  2.6515e-01, -5.4665e-01, -2.1852e-01],\n",
       "                      [ 8.4956e-01,  1.6812e+00, -3.4257e-01, -6.3874e-01],\n",
       "                      [-9.4790e-01, -1.0118e-03, -1.3947e-02,  1.0904e+00],\n",
       "                      [ 2.8167e-01,  2.6515e-01, -5.4665e-01, -2.1852e-01],\n",
       "                      [ 8.4956e-01,  1.6812e+00, -3.4257e-01, -6.3874e-01],\n",
       "                      [-9.4790e-01, -1.0118e-03, -1.3947e-02,  1.0904e+00],\n",
       "                      [ 2.8167e-01,  2.6515e-01, -5.4665e-01, -2.1852e-01],\n",
       "                      [ 8.4956e-01,  1.6812e+00, -3.4257e-01, -6.3874e-01],\n",
       "                      [-9.4790e-01, -1.0118e-03, -1.3947e-02,  1.0904e+00],\n",
       "                      [ 2.8167e-01,  2.6515e-01, -5.4665e-01, -2.1852e-01],\n",
       "                      [ 8.4956e-01,  1.6812e+00, -3.4257e-01, -6.3874e-01],\n",
       "                      [-9.4790e-01, -1.0118e-03, -1.3947e-02,  1.0904e+00],\n",
       "                      [ 2.8167e-01,  2.6515e-01, -5.4665e-01, -2.1852e-01],\n",
       "                      [ 8.4956e-01,  1.6812e+00, -3.4257e-01, -6.3874e-01],\n",
       "                      [-9.4790e-01, -1.0118e-03, -1.3947e-02,  1.0904e+00]]),\n",
       "       ),\n",
       "    a: tensor([[-0.4584,  0.1312, -0.1269],\n",
       "               [ 1.3129, -0.0119, -0.6940],\n",
       "               [-0.4584,  0.1312, -0.1269],\n",
       "               [ 1.3129, -0.0119, -0.6940],\n",
       "               [-0.4584,  0.1312, -0.1269],\n",
       "               [ 1.3129, -0.0119, -0.6940],\n",
       "               [-0.4584,  0.1312, -0.1269],\n",
       "               [ 1.3129, -0.0119, -0.6940],\n",
       "               [-0.4584,  0.1312, -0.1269],\n",
       "               [ 1.3129, -0.0119, -0.6940],\n",
       "               [-0.4584,  0.1312, -0.1269],\n",
       "               [ 1.3129, -0.0119, -0.6940],\n",
       "               [-0.4584,  0.1312, -0.1269],\n",
       "               [ 1.3129, -0.0119, -0.6940],\n",
       "               [-0.4584,  0.1312, -0.1269],\n",
       "               [ 1.3129, -0.0119, -0.6940]]),\n",
       ")"
      ]
     },
     "execution_count": 27,
     "metadata": {},
     "output_type": "execute_result"
    }
   ],
   "source": [
    "Batch.cat(batches)"
   ]
  },
  {
   "cell_type": "code",
   "execution_count": 28,
   "id": "18dfb045",
   "metadata": {
    "execution": {
     "iopub.execute_input": "2023-03-06T19:14:59.039229Z",
     "iopub.status.busy": "2023-03-06T19:14:59.038713Z",
     "iopub.status.idle": "2023-03-06T19:15:14.120140Z",
     "shell.execute_reply": "2023-03-06T19:15:14.119131Z"
    }
   },
   "outputs": [
    {
     "name": "stdout",
     "output_type": "stream",
     "text": [
      "186 µs ± 4.04 µs per loop (mean ± std. dev. of 7 runs, 10,000 loops each)\n"
     ]
    }
   ],
   "source": [
    "%timeit Batch.cat(batches)"
   ]
  },
  {
   "cell_type": "code",
   "execution_count": 29,
   "id": "c6688e51",
   "metadata": {
    "execution": {
     "iopub.execute_input": "2023-03-06T19:15:14.124337Z",
     "iopub.status.busy": "2023-03-06T19:15:14.123790Z",
     "iopub.status.idle": "2023-03-06T19:15:18.450306Z",
     "shell.execute_reply": "2023-03-06T19:15:18.449322Z"
    }
   },
   "outputs": [
    {
     "name": "stdout",
     "output_type": "stream",
     "text": [
      "532 µs ± 7.91 µs per loop (mean ± std. dev. of 7 runs, 1,000 loops each)\n"
     ]
    }
   ],
   "source": [
    "batch = Batch({\n",
    "    'obs': torch.randn(8, 4, 84, 84),\n",
    "    'action': torch.randint(0, 6, size=(8, 1,)),\n",
    "    'reward': torch.rand(8, 1)}\n",
    ")\n",
    "\n",
    "%timeit list(Batch.split(batch, 1, shuffle=False, merge_last=True))"
   ]
  },
  {
   "cell_type": "code",
   "execution_count": null,
   "id": "2539fbd9",
   "metadata": {},
   "outputs": [],
   "source": []
  }
 ],
 "metadata": {
  "kernelspec": {
   "display_name": "Python 3 (ipykernel)",
   "language": "python",
   "name": "python3"
  },
  "language_info": {
   "codemirror_mode": {
    "name": "ipython",
    "version": 3
   },
   "file_extension": ".py",
   "mimetype": "text/x-python",
   "name": "python",
   "nbconvert_exporter": "python",
   "pygments_lexer": "ipython3",
   "version": "3.8.16"
  }
 },
 "nbformat": 4,
 "nbformat_minor": 5
}
