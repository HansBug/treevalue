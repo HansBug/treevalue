{
 "cells": [
  {
   "cell_type": "markdown",
   "id": "9d39d946",
   "metadata": {},
   "source": [
    "# Comparison Between TreeValue and Tianshou Batch"
   ]
  },
  {
   "cell_type": "markdown",
   "id": "3c6db2d4",
   "metadata": {},
   "source": [
    "In this section, we will take a look at the feature and performance of the [Tianshou Batch](https://github.com/thu-ml/tianshou) library, which is developed by Tsinghua Machine Learning Group."
   ]
  },
  {
   "cell_type": "markdown",
   "id": "069361b0",
   "metadata": {},
   "source": [
    "Before starting the comparison, let us define some thing."
   ]
  },
  {
   "cell_type": "code",
   "execution_count": 1,
   "id": "06fc8d26",
   "metadata": {
    "execution": {
     "iopub.execute_input": "2023-03-05T08:18:54.011775Z",
     "iopub.status.busy": "2023-03-05T08:18:54.011498Z",
     "iopub.status.idle": "2023-03-05T08:18:55.027404Z",
     "shell.execute_reply": "2023-03-05T08:18:55.026595Z"
    }
   },
   "outputs": [
    {
     "name": "stderr",
     "output_type": "stream",
     "text": [
      "/opt/hostedtoolcache/Python/3.8.16/x64/lib/python3.8/site-packages/tqdm/auto.py:21: TqdmWarning: IProgress not found. Please update jupyter and ipywidgets. See https://ipywidgets.readthedocs.io/en/stable/user_install.html\n",
      "  from .autonotebook import tqdm as notebook_tqdm\n"
     ]
    }
   ],
   "source": [
    "import torch \n",
    "\n",
    "_TREE_DATA_1 = {'a': 1, 'b': 2, 'x': {'c': 3, 'd': 4}}\n",
    "_TREE_DATA_2 = {\n",
    "    'a': torch.randn(2, 3), \n",
    "    'x': {\n",
    "        'c': torch.randn(3, 4)\n",
    "    },\n",
    "}\n",
    "_TREE_DATA_3 = {\n",
    "    'obs': torch.randn(4, 84, 84),\n",
    "    'action': torch.randint(0, 6, size=(1,)),\n",
    "    'reward': torch.rand(1),\n",
    "}"
   ]
  },
  {
   "cell_type": "markdown",
   "id": "83461b25",
   "metadata": {},
   "source": [
    "## Read and Write Operation"
   ]
  },
  {
   "cell_type": "markdown",
   "id": "067b3f73",
   "metadata": {},
   "source": [
    "Reading and writing are the two most common operations in the tree data structure based on the data model (TreeValue and Tianshou Batch both belong to this type), so this section will compare the reading and writing performance of these two libraries."
   ]
  },
  {
   "cell_type": "markdown",
   "id": "5d09a5b7",
   "metadata": {},
   "source": [
    "### TreeValue's Get and Set"
   ]
  },
  {
   "cell_type": "code",
   "execution_count": 2,
   "id": "9519c4bb",
   "metadata": {
    "execution": {
     "iopub.execute_input": "2023-03-05T08:18:55.031557Z",
     "iopub.status.busy": "2023-03-05T08:18:55.031082Z",
     "iopub.status.idle": "2023-03-05T08:18:55.331781Z",
     "shell.execute_reply": "2023-03-05T08:18:55.330986Z"
    }
   },
   "outputs": [],
   "source": [
    "from treevalue import FastTreeValue\n",
    "\n",
    "t = FastTreeValue(_TREE_DATA_2)"
   ]
  },
  {
   "cell_type": "code",
   "execution_count": 3,
   "id": "11c37677",
   "metadata": {
    "execution": {
     "iopub.execute_input": "2023-03-05T08:18:55.335845Z",
     "iopub.status.busy": "2023-03-05T08:18:55.335296Z",
     "iopub.status.idle": "2023-03-05T08:18:55.345190Z",
     "shell.execute_reply": "2023-03-05T08:18:55.344567Z"
    }
   },
   "outputs": [
    {
     "data": {
      "text/plain": [
       "<FastTreeValue 0x7fa0734b2be0>\n",
       "├── 'a' --> tensor([[ 0.0435, -0.9193,  0.5862],\n",
       "│                   [ 0.4862,  1.6692, -1.0389]])\n",
       "└── 'x' --> <FastTreeValue 0x7fa0734b2ca0>\n",
       "    └── 'c' --> tensor([[ 0.7225, -1.2467, -0.5805,  0.1017],\n",
       "                        [-0.9994, -1.0513,  0.3705, -1.0590],\n",
       "                        [-2.0516,  0.2296, -0.8679,  0.1467]])"
      ]
     },
     "execution_count": 3,
     "metadata": {},
     "output_type": "execute_result"
    }
   ],
   "source": [
    "t"
   ]
  },
  {
   "cell_type": "code",
   "execution_count": 4,
   "id": "fd70b0b9",
   "metadata": {
    "execution": {
     "iopub.execute_input": "2023-03-05T08:18:55.348175Z",
     "iopub.status.busy": "2023-03-05T08:18:55.347814Z",
     "iopub.status.idle": "2023-03-05T08:18:55.353652Z",
     "shell.execute_reply": "2023-03-05T08:18:55.353021Z"
    }
   },
   "outputs": [
    {
     "data": {
      "text/plain": [
       "tensor([[ 0.0435, -0.9193,  0.5862],\n",
       "        [ 0.4862,  1.6692, -1.0389]])"
      ]
     },
     "execution_count": 4,
     "metadata": {},
     "output_type": "execute_result"
    }
   ],
   "source": [
    "t.a"
   ]
  },
  {
   "cell_type": "code",
   "execution_count": 5,
   "id": "c18197bd",
   "metadata": {
    "execution": {
     "iopub.execute_input": "2023-03-05T08:18:55.356437Z",
     "iopub.status.busy": "2023-03-05T08:18:55.356039Z",
     "iopub.status.idle": "2023-03-05T08:19:00.538348Z",
     "shell.execute_reply": "2023-03-05T08:19:00.537483Z"
    }
   },
   "outputs": [
    {
     "name": "stdout",
     "output_type": "stream",
     "text": [
      "63.8 ns ± 0.0458 ns per loop (mean ± std. dev. of 7 runs, 10,000,000 loops each)\n"
     ]
    }
   ],
   "source": [
    "%timeit t.a"
   ]
  },
  {
   "cell_type": "code",
   "execution_count": 6,
   "id": "bd52f867",
   "metadata": {
    "execution": {
     "iopub.execute_input": "2023-03-05T08:19:00.542302Z",
     "iopub.status.busy": "2023-03-05T08:19:00.541609Z",
     "iopub.status.idle": "2023-03-05T08:19:00.549391Z",
     "shell.execute_reply": "2023-03-05T08:19:00.548753Z"
    }
   },
   "outputs": [
    {
     "data": {
      "text/plain": [
       "<FastTreeValue 0x7fa0734b2be0>\n",
       "├── 'a' --> tensor([[-0.4649,  0.1540, -0.3153],\n",
       "│                   [ 0.0803,  0.2825, -1.0600]])\n",
       "└── 'x' --> <FastTreeValue 0x7fa0734b2ca0>\n",
       "    └── 'c' --> tensor([[ 0.7225, -1.2467, -0.5805,  0.1017],\n",
       "                        [-0.9994, -1.0513,  0.3705, -1.0590],\n",
       "                        [-2.0516,  0.2296, -0.8679,  0.1467]])"
      ]
     },
     "execution_count": 6,
     "metadata": {},
     "output_type": "execute_result"
    }
   ],
   "source": [
    "new_value = torch.randn(2, 3)\n",
    "t.a = new_value\n",
    "\n",
    "t"
   ]
  },
  {
   "cell_type": "code",
   "execution_count": 7,
   "id": "bbe04d1c",
   "metadata": {
    "execution": {
     "iopub.execute_input": "2023-03-05T08:19:00.552291Z",
     "iopub.status.busy": "2023-03-05T08:19:00.551727Z",
     "iopub.status.idle": "2023-03-05T08:19:05.918050Z",
     "shell.execute_reply": "2023-03-05T08:19:05.917030Z"
    }
   },
   "outputs": [
    {
     "name": "stdout",
     "output_type": "stream",
     "text": [
      "66 ns ± 0.141 ns per loop (mean ± std. dev. of 7 runs, 10,000,000 loops each)\n"
     ]
    }
   ],
   "source": [
    "%timeit t.a = new_value"
   ]
  },
  {
   "cell_type": "markdown",
   "id": "48c49731",
   "metadata": {},
   "source": [
    "### Tianshou Batch's Get and Set"
   ]
  },
  {
   "cell_type": "code",
   "execution_count": 8,
   "id": "f1bb14c1",
   "metadata": {
    "execution": {
     "iopub.execute_input": "2023-03-05T08:19:05.921318Z",
     "iopub.status.busy": "2023-03-05T08:19:05.920834Z",
     "iopub.status.idle": "2023-03-05T08:19:06.300548Z",
     "shell.execute_reply": "2023-03-05T08:19:06.299764Z"
    }
   },
   "outputs": [],
   "source": [
    "from tianshou.data import Batch\n",
    "\n",
    "b = Batch(**_TREE_DATA_2)"
   ]
  },
  {
   "cell_type": "code",
   "execution_count": 9,
   "id": "cb0777c3",
   "metadata": {
    "execution": {
     "iopub.execute_input": "2023-03-05T08:19:06.304038Z",
     "iopub.status.busy": "2023-03-05T08:19:06.303516Z",
     "iopub.status.idle": "2023-03-05T08:19:06.310493Z",
     "shell.execute_reply": "2023-03-05T08:19:06.309881Z"
    }
   },
   "outputs": [
    {
     "data": {
      "text/plain": [
       "Batch(\n",
       "    a: tensor([[ 0.0435, -0.9193,  0.5862],\n",
       "               [ 0.4862,  1.6692, -1.0389]]),\n",
       "    x: Batch(\n",
       "           c: tensor([[ 0.7225, -1.2467, -0.5805,  0.1017],\n",
       "                      [-0.9994, -1.0513,  0.3705, -1.0590],\n",
       "                      [-2.0516,  0.2296, -0.8679,  0.1467]]),\n",
       "       ),\n",
       ")"
      ]
     },
     "execution_count": 9,
     "metadata": {},
     "output_type": "execute_result"
    }
   ],
   "source": [
    "b"
   ]
  },
  {
   "cell_type": "code",
   "execution_count": 10,
   "id": "43ef8ea3",
   "metadata": {
    "execution": {
     "iopub.execute_input": "2023-03-05T08:19:06.313668Z",
     "iopub.status.busy": "2023-03-05T08:19:06.313117Z",
     "iopub.status.idle": "2023-03-05T08:19:06.318158Z",
     "shell.execute_reply": "2023-03-05T08:19:06.317495Z"
    }
   },
   "outputs": [
    {
     "data": {
      "text/plain": [
       "tensor([[ 0.0435, -0.9193,  0.5862],\n",
       "        [ 0.4862,  1.6692, -1.0389]])"
      ]
     },
     "execution_count": 10,
     "metadata": {},
     "output_type": "execute_result"
    }
   ],
   "source": [
    "b.a"
   ]
  },
  {
   "cell_type": "code",
   "execution_count": 11,
   "id": "b785ab72",
   "metadata": {
    "execution": {
     "iopub.execute_input": "2023-03-05T08:19:06.320860Z",
     "iopub.status.busy": "2023-03-05T08:19:06.320489Z",
     "iopub.status.idle": "2023-03-05T08:19:11.280681Z",
     "shell.execute_reply": "2023-03-05T08:19:11.279856Z"
    }
   },
   "outputs": [
    {
     "name": "stdout",
     "output_type": "stream",
     "text": [
      "60.7 ns ± 0.0287 ns per loop (mean ± std. dev. of 7 runs, 10,000,000 loops each)\n"
     ]
    }
   ],
   "source": [
    "%timeit b.a"
   ]
  },
  {
   "cell_type": "code",
   "execution_count": 12,
   "id": "ad54dc69",
   "metadata": {
    "execution": {
     "iopub.execute_input": "2023-03-05T08:19:11.283882Z",
     "iopub.status.busy": "2023-03-05T08:19:11.283508Z",
     "iopub.status.idle": "2023-03-05T08:19:11.290454Z",
     "shell.execute_reply": "2023-03-05T08:19:11.289823Z"
    }
   },
   "outputs": [
    {
     "data": {
      "text/plain": [
       "Batch(\n",
       "    a: tensor([[ 0.7040, -1.1270, -1.3569],\n",
       "               [-0.3779, -2.4842, -0.6454]]),\n",
       "    x: Batch(\n",
       "           c: tensor([[ 0.7225, -1.2467, -0.5805,  0.1017],\n",
       "                      [-0.9994, -1.0513,  0.3705, -1.0590],\n",
       "                      [-2.0516,  0.2296, -0.8679,  0.1467]]),\n",
       "       ),\n",
       ")"
      ]
     },
     "execution_count": 12,
     "metadata": {},
     "output_type": "execute_result"
    }
   ],
   "source": [
    "new_value = torch.randn(2, 3)\n",
    "b.a = new_value\n",
    "\n",
    "b"
   ]
  },
  {
   "cell_type": "code",
   "execution_count": 13,
   "id": "29b1d0bf",
   "metadata": {
    "execution": {
     "iopub.execute_input": "2023-03-05T08:19:11.293447Z",
     "iopub.status.busy": "2023-03-05T08:19:11.292878Z",
     "iopub.status.idle": "2023-03-05T08:19:15.318638Z",
     "shell.execute_reply": "2023-03-05T08:19:15.317743Z"
    }
   },
   "outputs": [
    {
     "name": "stdout",
     "output_type": "stream",
     "text": [
      "496 ns ± 0.145 ns per loop (mean ± std. dev. of 7 runs, 1,000,000 loops each)\n"
     ]
    }
   ],
   "source": [
    "%timeit b.a = new_value"
   ]
  },
  {
   "cell_type": "markdown",
   "id": "b61ad1d0",
   "metadata": {},
   "source": [
    "## Initialization"
   ]
  },
  {
   "cell_type": "markdown",
   "id": "d70f0d54",
   "metadata": {},
   "source": [
    "### TreeValue's Initialization"
   ]
  },
  {
   "cell_type": "code",
   "execution_count": 14,
   "id": "d32a679b",
   "metadata": {
    "execution": {
     "iopub.execute_input": "2023-03-05T08:19:15.322477Z",
     "iopub.status.busy": "2023-03-05T08:19:15.321918Z",
     "iopub.status.idle": "2023-03-05T08:19:22.090404Z",
     "shell.execute_reply": "2023-03-05T08:19:22.089298Z"
    }
   },
   "outputs": [
    {
     "name": "stdout",
     "output_type": "stream",
     "text": [
      "834 ns ± 0.757 ns per loop (mean ± std. dev. of 7 runs, 1,000,000 loops each)\n"
     ]
    }
   ],
   "source": [
    "%timeit FastTreeValue(_TREE_DATA_1)"
   ]
  },
  {
   "cell_type": "markdown",
   "id": "24f3707b",
   "metadata": {},
   "source": [
    "### Tianshou Batch's Initialization"
   ]
  },
  {
   "cell_type": "code",
   "execution_count": 15,
   "id": "ac3958df",
   "metadata": {
    "execution": {
     "iopub.execute_input": "2023-03-05T08:19:22.093660Z",
     "iopub.status.busy": "2023-03-05T08:19:22.093172Z",
     "iopub.status.idle": "2023-03-05T08:19:30.834954Z",
     "shell.execute_reply": "2023-03-05T08:19:30.834074Z"
    }
   },
   "outputs": [
    {
     "name": "stdout",
     "output_type": "stream",
     "text": [
      "10.8 µs ± 29.3 ns per loop (mean ± std. dev. of 7 runs, 100,000 loops each)\n"
     ]
    }
   ],
   "source": [
    "%timeit Batch(**_TREE_DATA_1)"
   ]
  },
  {
   "cell_type": "markdown",
   "id": "1ab82e2d",
   "metadata": {},
   "source": [
    "## Deep Copy Operation"
   ]
  },
  {
   "cell_type": "code",
   "execution_count": 16,
   "id": "210a9442",
   "metadata": {
    "execution": {
     "iopub.execute_input": "2023-03-05T08:19:30.838412Z",
     "iopub.status.busy": "2023-03-05T08:19:30.837902Z",
     "iopub.status.idle": "2023-03-05T08:19:30.841421Z",
     "shell.execute_reply": "2023-03-05T08:19:30.840660Z"
    }
   },
   "outputs": [],
   "source": [
    "import copy"
   ]
  },
  {
   "cell_type": "markdown",
   "id": "5a736274",
   "metadata": {},
   "source": [
    "### Deep Copy of TreeValue"
   ]
  },
  {
   "cell_type": "code",
   "execution_count": 17,
   "id": "f9bcadd6",
   "metadata": {
    "execution": {
     "iopub.execute_input": "2023-03-05T08:19:30.844381Z",
     "iopub.status.busy": "2023-03-05T08:19:30.844111Z",
     "iopub.status.idle": "2023-03-05T08:19:42.600194Z",
     "shell.execute_reply": "2023-03-05T08:19:42.599514Z"
    }
   },
   "outputs": [
    {
     "name": "stdout",
     "output_type": "stream",
     "text": [
      "145 µs ± 403 ns per loop (mean ± std. dev. of 7 runs, 10,000 loops each)\n"
     ]
    }
   ],
   "source": [
    "t3 = FastTreeValue(_TREE_DATA_3)\n",
    "%timeit copy.deepcopy(t3)"
   ]
  },
  {
   "cell_type": "markdown",
   "id": "bf8be7ea",
   "metadata": {},
   "source": [
    "### Deep Copy of Tianshou Batch"
   ]
  },
  {
   "cell_type": "code",
   "execution_count": 18,
   "id": "91998e6f",
   "metadata": {
    "execution": {
     "iopub.execute_input": "2023-03-05T08:19:42.603462Z",
     "iopub.status.busy": "2023-03-05T08:19:42.602932Z",
     "iopub.status.idle": "2023-03-05T08:19:54.375425Z",
     "shell.execute_reply": "2023-03-05T08:19:54.374770Z"
    }
   },
   "outputs": [
    {
     "name": "stdout",
     "output_type": "stream",
     "text": [
      "145 µs ± 443 ns per loop (mean ± std. dev. of 7 runs, 10,000 loops each)\n"
     ]
    }
   ],
   "source": [
    "b3 = Batch(**_TREE_DATA_3)\n",
    "%timeit copy.deepcopy(b3)"
   ]
  },
  {
   "cell_type": "markdown",
   "id": "223162fb",
   "metadata": {},
   "source": [
    "## Stack, Concat and Split Operation"
   ]
  },
  {
   "cell_type": "markdown",
   "id": "85fa4a73",
   "metadata": {},
   "source": [
    "### Performance of TreeValue"
   ]
  },
  {
   "cell_type": "code",
   "execution_count": 19,
   "id": "a0c2b697",
   "metadata": {
    "execution": {
     "iopub.execute_input": "2023-03-05T08:19:54.378634Z",
     "iopub.status.busy": "2023-03-05T08:19:54.378127Z",
     "iopub.status.idle": "2023-03-05T08:19:54.381728Z",
     "shell.execute_reply": "2023-03-05T08:19:54.381170Z"
    }
   },
   "outputs": [],
   "source": [
    "trees = [FastTreeValue(_TREE_DATA_2) for _ in range(8)]"
   ]
  },
  {
   "cell_type": "code",
   "execution_count": 20,
   "id": "017ea5a5",
   "metadata": {
    "execution": {
     "iopub.execute_input": "2023-03-05T08:19:54.384489Z",
     "iopub.status.busy": "2023-03-05T08:19:54.383826Z",
     "iopub.status.idle": "2023-03-05T08:19:54.391184Z",
     "shell.execute_reply": "2023-03-05T08:19:54.390641Z"
    }
   },
   "outputs": [
    {
     "data": {
      "text/plain": [
       "<FastTreeValue 0x7f9fb96e4f70>\n",
       "├── 'a' --> tensor([[[ 0.0435, -0.9193,  0.5862],\n",
       "│                    [ 0.4862,  1.6692, -1.0389]],\n",
       "│           \n",
       "│                   [[ 0.0435, -0.9193,  0.5862],\n",
       "│                    [ 0.4862,  1.6692, -1.0389]],\n",
       "│           \n",
       "│                   [[ 0.0435, -0.9193,  0.5862],\n",
       "│                    [ 0.4862,  1.6692, -1.0389]],\n",
       "│           \n",
       "│                   [[ 0.0435, -0.9193,  0.5862],\n",
       "│                    [ 0.4862,  1.6692, -1.0389]],\n",
       "│           \n",
       "│                   [[ 0.0435, -0.9193,  0.5862],\n",
       "│                    [ 0.4862,  1.6692, -1.0389]],\n",
       "│           \n",
       "│                   [[ 0.0435, -0.9193,  0.5862],\n",
       "│                    [ 0.4862,  1.6692, -1.0389]],\n",
       "│           \n",
       "│                   [[ 0.0435, -0.9193,  0.5862],\n",
       "│                    [ 0.4862,  1.6692, -1.0389]],\n",
       "│           \n",
       "│                   [[ 0.0435, -0.9193,  0.5862],\n",
       "│                    [ 0.4862,  1.6692, -1.0389]]])\n",
       "└── 'x' --> <FastTreeValue 0x7f9fb96e4790>\n",
       "    └── 'c' --> tensor([[[ 0.7225, -1.2467, -0.5805,  0.1017],\n",
       "                         [-0.9994, -1.0513,  0.3705, -1.0590],\n",
       "                         [-2.0516,  0.2296, -0.8679,  0.1467]],\n",
       "                \n",
       "                        [[ 0.7225, -1.2467, -0.5805,  0.1017],\n",
       "                         [-0.9994, -1.0513,  0.3705, -1.0590],\n",
       "                         [-2.0516,  0.2296, -0.8679,  0.1467]],\n",
       "                \n",
       "                        [[ 0.7225, -1.2467, -0.5805,  0.1017],\n",
       "                         [-0.9994, -1.0513,  0.3705, -1.0590],\n",
       "                         [-2.0516,  0.2296, -0.8679,  0.1467]],\n",
       "                \n",
       "                        [[ 0.7225, -1.2467, -0.5805,  0.1017],\n",
       "                         [-0.9994, -1.0513,  0.3705, -1.0590],\n",
       "                         [-2.0516,  0.2296, -0.8679,  0.1467]],\n",
       "                \n",
       "                        [[ 0.7225, -1.2467, -0.5805,  0.1017],\n",
       "                         [-0.9994, -1.0513,  0.3705, -1.0590],\n",
       "                         [-2.0516,  0.2296, -0.8679,  0.1467]],\n",
       "                \n",
       "                        [[ 0.7225, -1.2467, -0.5805,  0.1017],\n",
       "                         [-0.9994, -1.0513,  0.3705, -1.0590],\n",
       "                         [-2.0516,  0.2296, -0.8679,  0.1467]],\n",
       "                \n",
       "                        [[ 0.7225, -1.2467, -0.5805,  0.1017],\n",
       "                         [-0.9994, -1.0513,  0.3705, -1.0590],\n",
       "                         [-2.0516,  0.2296, -0.8679,  0.1467]],\n",
       "                \n",
       "                        [[ 0.7225, -1.2467, -0.5805,  0.1017],\n",
       "                         [-0.9994, -1.0513,  0.3705, -1.0590],\n",
       "                         [-2.0516,  0.2296, -0.8679,  0.1467]]])"
      ]
     },
     "execution_count": 20,
     "metadata": {},
     "output_type": "execute_result"
    }
   ],
   "source": [
    "t_stack = FastTreeValue.func(subside=True)(torch.stack)\n",
    "\n",
    "t_stack(trees)"
   ]
  },
  {
   "cell_type": "code",
   "execution_count": 21,
   "id": "f8b3f415",
   "metadata": {
    "execution": {
     "iopub.execute_input": "2023-03-05T08:19:54.393878Z",
     "iopub.status.busy": "2023-03-05T08:19:54.393243Z",
     "iopub.status.idle": "2023-03-05T08:19:57.060855Z",
     "shell.execute_reply": "2023-03-05T08:19:57.059959Z"
    }
   },
   "outputs": [
    {
     "name": "stdout",
     "output_type": "stream",
     "text": [
      "32.8 µs ± 74.6 ns per loop (mean ± std. dev. of 7 runs, 10,000 loops each)\n"
     ]
    }
   ],
   "source": [
    "%timeit t_stack(trees)"
   ]
  },
  {
   "cell_type": "code",
   "execution_count": 22,
   "id": "94b56771",
   "metadata": {
    "execution": {
     "iopub.execute_input": "2023-03-05T08:19:57.064362Z",
     "iopub.status.busy": "2023-03-05T08:19:57.063942Z",
     "iopub.status.idle": "2023-03-05T08:19:57.071796Z",
     "shell.execute_reply": "2023-03-05T08:19:57.071115Z"
    }
   },
   "outputs": [
    {
     "data": {
      "text/plain": [
       "<FastTreeValue 0x7f9fb96e4df0>\n",
       "├── 'a' --> tensor([[ 0.0435, -0.9193,  0.5862],\n",
       "│                   [ 0.4862,  1.6692, -1.0389],\n",
       "│                   [ 0.0435, -0.9193,  0.5862],\n",
       "│                   [ 0.4862,  1.6692, -1.0389],\n",
       "│                   [ 0.0435, -0.9193,  0.5862],\n",
       "│                   [ 0.4862,  1.6692, -1.0389],\n",
       "│                   [ 0.0435, -0.9193,  0.5862],\n",
       "│                   [ 0.4862,  1.6692, -1.0389],\n",
       "│                   [ 0.0435, -0.9193,  0.5862],\n",
       "│                   [ 0.4862,  1.6692, -1.0389],\n",
       "│                   [ 0.0435, -0.9193,  0.5862],\n",
       "│                   [ 0.4862,  1.6692, -1.0389],\n",
       "│                   [ 0.0435, -0.9193,  0.5862],\n",
       "│                   [ 0.4862,  1.6692, -1.0389],\n",
       "│                   [ 0.0435, -0.9193,  0.5862],\n",
       "│                   [ 0.4862,  1.6692, -1.0389]])\n",
       "└── 'x' --> <FastTreeValue 0x7f9fcb1b1100>\n",
       "    └── 'c' --> tensor([[ 0.7225, -1.2467, -0.5805,  0.1017],\n",
       "                        [-0.9994, -1.0513,  0.3705, -1.0590],\n",
       "                        [-2.0516,  0.2296, -0.8679,  0.1467],\n",
       "                        [ 0.7225, -1.2467, -0.5805,  0.1017],\n",
       "                        [-0.9994, -1.0513,  0.3705, -1.0590],\n",
       "                        [-2.0516,  0.2296, -0.8679,  0.1467],\n",
       "                        [ 0.7225, -1.2467, -0.5805,  0.1017],\n",
       "                        [-0.9994, -1.0513,  0.3705, -1.0590],\n",
       "                        [-2.0516,  0.2296, -0.8679,  0.1467],\n",
       "                        [ 0.7225, -1.2467, -0.5805,  0.1017],\n",
       "                        [-0.9994, -1.0513,  0.3705, -1.0590],\n",
       "                        [-2.0516,  0.2296, -0.8679,  0.1467],\n",
       "                        [ 0.7225, -1.2467, -0.5805,  0.1017],\n",
       "                        [-0.9994, -1.0513,  0.3705, -1.0590],\n",
       "                        [-2.0516,  0.2296, -0.8679,  0.1467],\n",
       "                        [ 0.7225, -1.2467, -0.5805,  0.1017],\n",
       "                        [-0.9994, -1.0513,  0.3705, -1.0590],\n",
       "                        [-2.0516,  0.2296, -0.8679,  0.1467],\n",
       "                        [ 0.7225, -1.2467, -0.5805,  0.1017],\n",
       "                        [-0.9994, -1.0513,  0.3705, -1.0590],\n",
       "                        [-2.0516,  0.2296, -0.8679,  0.1467],\n",
       "                        [ 0.7225, -1.2467, -0.5805,  0.1017],\n",
       "                        [-0.9994, -1.0513,  0.3705, -1.0590],\n",
       "                        [-2.0516,  0.2296, -0.8679,  0.1467]])"
      ]
     },
     "execution_count": 22,
     "metadata": {},
     "output_type": "execute_result"
    }
   ],
   "source": [
    "t_cat = FastTreeValue.func(subside=True)(torch.cat)\n",
    "\n",
    "t_cat(trees)"
   ]
  },
  {
   "cell_type": "code",
   "execution_count": 23,
   "id": "5e9c06a6",
   "metadata": {
    "execution": {
     "iopub.execute_input": "2023-03-05T08:19:57.074647Z",
     "iopub.status.busy": "2023-03-05T08:19:57.074101Z",
     "iopub.status.idle": "2023-03-05T08:19:59.548152Z",
     "shell.execute_reply": "2023-03-05T08:19:59.547372Z"
    }
   },
   "outputs": [
    {
     "name": "stdout",
     "output_type": "stream",
     "text": [
      "30.4 µs ± 64 ns per loop (mean ± std. dev. of 7 runs, 10,000 loops each)\n"
     ]
    }
   ],
   "source": [
    "%timeit t_cat(trees)"
   ]
  },
  {
   "cell_type": "code",
   "execution_count": 24,
   "id": "a3ab5c8f",
   "metadata": {
    "execution": {
     "iopub.execute_input": "2023-03-05T08:19:59.551884Z",
     "iopub.status.busy": "2023-03-05T08:19:59.551361Z",
     "iopub.status.idle": "2023-03-05T08:20:04.173669Z",
     "shell.execute_reply": "2023-03-05T08:20:04.172845Z"
    }
   },
   "outputs": [
    {
     "name": "stdout",
     "output_type": "stream",
     "text": [
      "56.8 µs ± 38.1 ns per loop (mean ± std. dev. of 7 runs, 10,000 loops each)\n"
     ]
    }
   ],
   "source": [
    "t_split = FastTreeValue.func(rise=True)(torch.split)\n",
    "tree = FastTreeValue({\n",
    "    'obs': torch.randn(8, 4, 84, 84),\n",
    "    'action': torch.randint(0, 6, size=(8, 1,)),\n",
    "    'reward': torch.rand(8, 1),\n",
    "})\n",
    "\n",
    "%timeit t_split(tree, 1)"
   ]
  },
  {
   "cell_type": "markdown",
   "id": "31c3ec0b",
   "metadata": {},
   "source": [
    "### Performance of Tianshou Batch"
   ]
  },
  {
   "cell_type": "code",
   "execution_count": 25,
   "id": "9ead828a",
   "metadata": {
    "execution": {
     "iopub.execute_input": "2023-03-05T08:20:04.177575Z",
     "iopub.status.busy": "2023-03-05T08:20:04.177152Z",
     "iopub.status.idle": "2023-03-05T08:20:04.185826Z",
     "shell.execute_reply": "2023-03-05T08:20:04.185199Z"
    }
   },
   "outputs": [
    {
     "data": {
      "text/plain": [
       "Batch(\n",
       "    a: tensor([[[ 0.0435, -0.9193,  0.5862],\n",
       "                [ 0.4862,  1.6692, -1.0389]],\n",
       "       \n",
       "               [[ 0.0435, -0.9193,  0.5862],\n",
       "                [ 0.4862,  1.6692, -1.0389]],\n",
       "       \n",
       "               [[ 0.0435, -0.9193,  0.5862],\n",
       "                [ 0.4862,  1.6692, -1.0389]],\n",
       "       \n",
       "               [[ 0.0435, -0.9193,  0.5862],\n",
       "                [ 0.4862,  1.6692, -1.0389]],\n",
       "       \n",
       "               [[ 0.0435, -0.9193,  0.5862],\n",
       "                [ 0.4862,  1.6692, -1.0389]],\n",
       "       \n",
       "               [[ 0.0435, -0.9193,  0.5862],\n",
       "                [ 0.4862,  1.6692, -1.0389]],\n",
       "       \n",
       "               [[ 0.0435, -0.9193,  0.5862],\n",
       "                [ 0.4862,  1.6692, -1.0389]],\n",
       "       \n",
       "               [[ 0.0435, -0.9193,  0.5862],\n",
       "                [ 0.4862,  1.6692, -1.0389]]]),\n",
       "    x: Batch(\n",
       "           c: tensor([[[ 0.7225, -1.2467, -0.5805,  0.1017],\n",
       "                       [-0.9994, -1.0513,  0.3705, -1.0590],\n",
       "                       [-2.0516,  0.2296, -0.8679,  0.1467]],\n",
       "              \n",
       "                      [[ 0.7225, -1.2467, -0.5805,  0.1017],\n",
       "                       [-0.9994, -1.0513,  0.3705, -1.0590],\n",
       "                       [-2.0516,  0.2296, -0.8679,  0.1467]],\n",
       "              \n",
       "                      [[ 0.7225, -1.2467, -0.5805,  0.1017],\n",
       "                       [-0.9994, -1.0513,  0.3705, -1.0590],\n",
       "                       [-2.0516,  0.2296, -0.8679,  0.1467]],\n",
       "              \n",
       "                      [[ 0.7225, -1.2467, -0.5805,  0.1017],\n",
       "                       [-0.9994, -1.0513,  0.3705, -1.0590],\n",
       "                       [-2.0516,  0.2296, -0.8679,  0.1467]],\n",
       "              \n",
       "                      [[ 0.7225, -1.2467, -0.5805,  0.1017],\n",
       "                       [-0.9994, -1.0513,  0.3705, -1.0590],\n",
       "                       [-2.0516,  0.2296, -0.8679,  0.1467]],\n",
       "              \n",
       "                      [[ 0.7225, -1.2467, -0.5805,  0.1017],\n",
       "                       [-0.9994, -1.0513,  0.3705, -1.0590],\n",
       "                       [-2.0516,  0.2296, -0.8679,  0.1467]],\n",
       "              \n",
       "                      [[ 0.7225, -1.2467, -0.5805,  0.1017],\n",
       "                       [-0.9994, -1.0513,  0.3705, -1.0590],\n",
       "                       [-2.0516,  0.2296, -0.8679,  0.1467]],\n",
       "              \n",
       "                      [[ 0.7225, -1.2467, -0.5805,  0.1017],\n",
       "                       [-0.9994, -1.0513,  0.3705, -1.0590],\n",
       "                       [-2.0516,  0.2296, -0.8679,  0.1467]]]),\n",
       "       ),\n",
       ")"
      ]
     },
     "execution_count": 25,
     "metadata": {},
     "output_type": "execute_result"
    }
   ],
   "source": [
    "batches = [Batch(**_TREE_DATA_2) for _ in range(8)]\n",
    "\n",
    "Batch.stack(batches)"
   ]
  },
  {
   "cell_type": "code",
   "execution_count": 26,
   "id": "ec9037a3",
   "metadata": {
    "execution": {
     "iopub.execute_input": "2023-03-05T08:20:04.188910Z",
     "iopub.status.busy": "2023-03-05T08:20:04.188483Z",
     "iopub.status.idle": "2023-03-05T08:20:12.135898Z",
     "shell.execute_reply": "2023-03-05T08:20:12.135045Z"
    }
   },
   "outputs": [
    {
     "name": "stdout",
     "output_type": "stream",
     "text": [
      "97.8 µs ± 242 ns per loop (mean ± std. dev. of 7 runs, 10,000 loops each)\n"
     ]
    }
   ],
   "source": [
    "%timeit Batch.stack(batches)"
   ]
  },
  {
   "cell_type": "code",
   "execution_count": 27,
   "id": "cb8ab77e",
   "metadata": {
    "execution": {
     "iopub.execute_input": "2023-03-05T08:20:12.139261Z",
     "iopub.status.busy": "2023-03-05T08:20:12.138744Z",
     "iopub.status.idle": "2023-03-05T08:20:12.146718Z",
     "shell.execute_reply": "2023-03-05T08:20:12.146118Z"
    }
   },
   "outputs": [
    {
     "data": {
      "text/plain": [
       "Batch(\n",
       "    a: tensor([[ 0.0435, -0.9193,  0.5862],\n",
       "               [ 0.4862,  1.6692, -1.0389],\n",
       "               [ 0.0435, -0.9193,  0.5862],\n",
       "               [ 0.4862,  1.6692, -1.0389],\n",
       "               [ 0.0435, -0.9193,  0.5862],\n",
       "               [ 0.4862,  1.6692, -1.0389],\n",
       "               [ 0.0435, -0.9193,  0.5862],\n",
       "               [ 0.4862,  1.6692, -1.0389],\n",
       "               [ 0.0435, -0.9193,  0.5862],\n",
       "               [ 0.4862,  1.6692, -1.0389],\n",
       "               [ 0.0435, -0.9193,  0.5862],\n",
       "               [ 0.4862,  1.6692, -1.0389],\n",
       "               [ 0.0435, -0.9193,  0.5862],\n",
       "               [ 0.4862,  1.6692, -1.0389],\n",
       "               [ 0.0435, -0.9193,  0.5862],\n",
       "               [ 0.4862,  1.6692, -1.0389]]),\n",
       "    x: Batch(\n",
       "           c: tensor([[ 0.7225, -1.2467, -0.5805,  0.1017],\n",
       "                      [-0.9994, -1.0513,  0.3705, -1.0590],\n",
       "                      [-2.0516,  0.2296, -0.8679,  0.1467],\n",
       "                      [ 0.7225, -1.2467, -0.5805,  0.1017],\n",
       "                      [-0.9994, -1.0513,  0.3705, -1.0590],\n",
       "                      [-2.0516,  0.2296, -0.8679,  0.1467],\n",
       "                      [ 0.7225, -1.2467, -0.5805,  0.1017],\n",
       "                      [-0.9994, -1.0513,  0.3705, -1.0590],\n",
       "                      [-2.0516,  0.2296, -0.8679,  0.1467],\n",
       "                      [ 0.7225, -1.2467, -0.5805,  0.1017],\n",
       "                      [-0.9994, -1.0513,  0.3705, -1.0590],\n",
       "                      [-2.0516,  0.2296, -0.8679,  0.1467],\n",
       "                      [ 0.7225, -1.2467, -0.5805,  0.1017],\n",
       "                      [-0.9994, -1.0513,  0.3705, -1.0590],\n",
       "                      [-2.0516,  0.2296, -0.8679,  0.1467],\n",
       "                      [ 0.7225, -1.2467, -0.5805,  0.1017],\n",
       "                      [-0.9994, -1.0513,  0.3705, -1.0590],\n",
       "                      [-2.0516,  0.2296, -0.8679,  0.1467],\n",
       "                      [ 0.7225, -1.2467, -0.5805,  0.1017],\n",
       "                      [-0.9994, -1.0513,  0.3705, -1.0590],\n",
       "                      [-2.0516,  0.2296, -0.8679,  0.1467],\n",
       "                      [ 0.7225, -1.2467, -0.5805,  0.1017],\n",
       "                      [-0.9994, -1.0513,  0.3705, -1.0590],\n",
       "                      [-2.0516,  0.2296, -0.8679,  0.1467]]),\n",
       "       ),\n",
       ")"
      ]
     },
     "execution_count": 27,
     "metadata": {},
     "output_type": "execute_result"
    }
   ],
   "source": [
    "Batch.cat(batches)"
   ]
  },
  {
   "cell_type": "code",
   "execution_count": 28,
   "id": "18dfb045",
   "metadata": {
    "execution": {
     "iopub.execute_input": "2023-03-05T08:20:12.149388Z",
     "iopub.status.busy": "2023-03-05T08:20:12.149019Z",
     "iopub.status.idle": "2023-03-05T08:20:25.605358Z",
     "shell.execute_reply": "2023-03-05T08:20:25.604480Z"
    }
   },
   "outputs": [
    {
     "name": "stdout",
     "output_type": "stream",
     "text": [
      "166 µs ± 78 ns per loop (mean ± std. dev. of 7 runs, 10,000 loops each)\n"
     ]
    }
   ],
   "source": [
    "%timeit Batch.cat(batches)"
   ]
  },
  {
   "cell_type": "code",
   "execution_count": 29,
   "id": "c6688e51",
   "metadata": {
    "execution": {
     "iopub.execute_input": "2023-03-05T08:20:25.608758Z",
     "iopub.status.busy": "2023-03-05T08:20:25.608328Z",
     "iopub.status.idle": "2023-03-05T08:20:28.290654Z",
     "shell.execute_reply": "2023-03-05T08:20:28.290014Z"
    }
   },
   "outputs": [
    {
     "name": "stdout",
     "output_type": "stream",
     "text": [
      "330 µs ± 1.68 µs per loop (mean ± std. dev. of 7 runs, 1,000 loops each)\n"
     ]
    }
   ],
   "source": [
    "batch = Batch({\n",
    "    'obs': torch.randn(8, 4, 84, 84),\n",
    "    'action': torch.randint(0, 6, size=(8, 1,)),\n",
    "    'reward': torch.rand(8, 1)}\n",
    ")\n",
    "\n",
    "%timeit list(Batch.split(batch, 1, shuffle=False, merge_last=True))"
   ]
  },
  {
   "cell_type": "code",
   "execution_count": null,
   "id": "2539fbd9",
   "metadata": {},
   "outputs": [],
   "source": []
  }
 ],
 "metadata": {
  "kernelspec": {
   "display_name": "Python 3 (ipykernel)",
   "language": "python",
   "name": "python3"
  },
  "language_info": {
   "codemirror_mode": {
    "name": "ipython",
    "version": 3
   },
   "file_extension": ".py",
   "mimetype": "text/x-python",
   "name": "python",
   "nbconvert_exporter": "python",
   "pygments_lexer": "ipython3",
   "version": "3.8.16"
  }
 },
 "nbformat": 4,
 "nbformat_minor": 5
}
