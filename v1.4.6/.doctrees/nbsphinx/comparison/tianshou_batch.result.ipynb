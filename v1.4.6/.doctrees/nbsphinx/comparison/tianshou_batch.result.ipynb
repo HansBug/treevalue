{
 "cells": [
  {
   "cell_type": "markdown",
   "id": "9d39d946",
   "metadata": {},
   "source": [
    "# Comparison Between TreeValue and Tianshou Batch"
   ]
  },
  {
   "cell_type": "markdown",
   "id": "3c6db2d4",
   "metadata": {},
   "source": [
    "In this section, we will take a look at the feature and performance of the [Tianshou Batch](https://github.com/thu-ml/tianshou) library, which is developed by Tsinghua Machine Learning Group."
   ]
  },
  {
   "cell_type": "markdown",
   "id": "069361b0",
   "metadata": {},
   "source": [
    "Before starting the comparison, let us define some thing."
   ]
  },
  {
   "cell_type": "code",
   "execution_count": 1,
   "id": "06fc8d26",
   "metadata": {
    "execution": {
     "iopub.execute_input": "2023-08-11T09:51:58.776673Z",
     "iopub.status.busy": "2023-08-11T09:51:58.776134Z",
     "iopub.status.idle": "2023-08-11T09:52:00.614069Z",
     "shell.execute_reply": "2023-08-11T09:52:00.612936Z"
    }
   },
   "outputs": [],
   "source": [
    "import torch \n",
    "\n",
    "_TREE_DATA_1 = {'a': 1, 'b': 2, 'x': {'c': 3, 'd': 4}}\n",
    "_TREE_DATA_2 = {\n",
    "    'a': torch.randn(2, 3), \n",
    "    'x': {\n",
    "        'c': torch.randn(3, 4)\n",
    "    },\n",
    "}\n",
    "_TREE_DATA_3 = {\n",
    "    'obs': torch.randn(4, 84, 84),\n",
    "    'action': torch.randint(0, 6, size=(1,)),\n",
    "    'reward': torch.rand(1),\n",
    "}"
   ]
  },
  {
   "cell_type": "markdown",
   "id": "83461b25",
   "metadata": {},
   "source": [
    "## Read and Write Operation"
   ]
  },
  {
   "cell_type": "markdown",
   "id": "067b3f73",
   "metadata": {},
   "source": [
    "Reading and writing are the two most common operations in the tree data structure based on the data model (TreeValue and Tianshou Batch both belong to this type), so this section will compare the reading and writing performance of these two libraries."
   ]
  },
  {
   "cell_type": "markdown",
   "id": "5d09a5b7",
   "metadata": {},
   "source": [
    "### TreeValue's Get and Set"
   ]
  },
  {
   "cell_type": "code",
   "execution_count": 2,
   "id": "9519c4bb",
   "metadata": {
    "execution": {
     "iopub.execute_input": "2023-08-11T09:52:00.619276Z",
     "iopub.status.busy": "2023-08-11T09:52:00.618874Z",
     "iopub.status.idle": "2023-08-11T09:52:01.066081Z",
     "shell.execute_reply": "2023-08-11T09:52:01.064901Z"
    }
   },
   "outputs": [],
   "source": [
    "from treevalue import FastTreeValue\n",
    "\n",
    "t = FastTreeValue(_TREE_DATA_2)"
   ]
  },
  {
   "cell_type": "code",
   "execution_count": 3,
   "id": "11c37677",
   "metadata": {
    "execution": {
     "iopub.execute_input": "2023-08-11T09:52:01.071328Z",
     "iopub.status.busy": "2023-08-11T09:52:01.070897Z",
     "iopub.status.idle": "2023-08-11T09:52:01.087511Z",
     "shell.execute_reply": "2023-08-11T09:52:01.086343Z"
    }
   },
   "outputs": [
    {
     "data": {
      "text/plain": [
       "<FastTreeValue 0x7f778f0fa9d0>\n",
       "├── 'a' --> tensor([[ 0.4277,  0.1447,  0.2535],\n",
       "│                   [-0.7681,  0.2668,  1.4102]])\n",
       "└── 'x' --> <FastTreeValue 0x7f778f0fac10>\n",
       "    └── 'c' --> tensor([[-2.1334,  2.4800,  1.1582,  0.9062],\n",
       "                        [ 0.3769, -1.3441,  0.0103, -0.9183],\n",
       "                        [ 1.2914,  0.7107, -0.4273, -0.5815]])"
      ]
     },
     "execution_count": 3,
     "metadata": {},
     "output_type": "execute_result"
    }
   ],
   "source": [
    "t"
   ]
  },
  {
   "cell_type": "code",
   "execution_count": 4,
   "id": "fd70b0b9",
   "metadata": {
    "execution": {
     "iopub.execute_input": "2023-08-11T09:52:01.091793Z",
     "iopub.status.busy": "2023-08-11T09:52:01.091474Z",
     "iopub.status.idle": "2023-08-11T09:52:01.099220Z",
     "shell.execute_reply": "2023-08-11T09:52:01.097818Z"
    }
   },
   "outputs": [
    {
     "data": {
      "text/plain": [
       "tensor([[ 0.4277,  0.1447,  0.2535],\n",
       "        [-0.7681,  0.2668,  1.4102]])"
      ]
     },
     "execution_count": 4,
     "metadata": {},
     "output_type": "execute_result"
    }
   ],
   "source": [
    "t.a"
   ]
  },
  {
   "cell_type": "code",
   "execution_count": 5,
   "id": "c18197bd",
   "metadata": {
    "execution": {
     "iopub.execute_input": "2023-08-11T09:52:01.103964Z",
     "iopub.status.busy": "2023-08-11T09:52:01.103409Z",
     "iopub.status.idle": "2023-08-11T09:52:08.048955Z",
     "shell.execute_reply": "2023-08-11T09:52:08.047020Z"
    }
   },
   "outputs": [
    {
     "name": "stdout",
     "output_type": "stream",
     "text": [
      "85.9 ns ± 2.03 ns per loop (mean ± std. dev. of 7 runs, 10,000,000 loops each)\n"
     ]
    }
   ],
   "source": [
    "%timeit t.a"
   ]
  },
  {
   "cell_type": "code",
   "execution_count": 6,
   "id": "bd52f867",
   "metadata": {
    "execution": {
     "iopub.execute_input": "2023-08-11T09:52:08.053120Z",
     "iopub.status.busy": "2023-08-11T09:52:08.052849Z",
     "iopub.status.idle": "2023-08-11T09:52:08.061800Z",
     "shell.execute_reply": "2023-08-11T09:52:08.060637Z"
    }
   },
   "outputs": [
    {
     "data": {
      "text/plain": [
       "<FastTreeValue 0x7f778f0fa9d0>\n",
       "├── 'a' --> tensor([[-1.1664,  1.3488,  0.4726],\n",
       "│                   [-0.6918, -0.4377,  0.4121]])\n",
       "└── 'x' --> <FastTreeValue 0x7f778f0fac10>\n",
       "    └── 'c' --> tensor([[-2.1334,  2.4800,  1.1582,  0.9062],\n",
       "                        [ 0.3769, -1.3441,  0.0103, -0.9183],\n",
       "                        [ 1.2914,  0.7107, -0.4273, -0.5815]])"
      ]
     },
     "execution_count": 6,
     "metadata": {},
     "output_type": "execute_result"
    }
   ],
   "source": [
    "new_value = torch.randn(2, 3)\n",
    "t.a = new_value\n",
    "\n",
    "t"
   ]
  },
  {
   "cell_type": "code",
   "execution_count": 7,
   "id": "bbe04d1c",
   "metadata": {
    "execution": {
     "iopub.execute_input": "2023-08-11T09:52:08.065709Z",
     "iopub.status.busy": "2023-08-11T09:52:08.065437Z",
     "iopub.status.idle": "2023-08-11T09:52:14.405323Z",
     "shell.execute_reply": "2023-08-11T09:52:14.404421Z"
    }
   },
   "outputs": [
    {
     "name": "stdout",
     "output_type": "stream",
     "text": [
      "78.3 ns ± 1.2 ns per loop (mean ± std. dev. of 7 runs, 10,000,000 loops each)\n"
     ]
    }
   ],
   "source": [
    "%timeit t.a = new_value"
   ]
  },
  {
   "cell_type": "markdown",
   "id": "48c49731",
   "metadata": {},
   "source": [
    "### Tianshou Batch's Get and Set"
   ]
  },
  {
   "cell_type": "code",
   "execution_count": 8,
   "id": "f1bb14c1",
   "metadata": {
    "execution": {
     "iopub.execute_input": "2023-08-11T09:52:14.409739Z",
     "iopub.status.busy": "2023-08-11T09:52:14.409011Z",
     "iopub.status.idle": "2023-08-11T09:52:14.907192Z",
     "shell.execute_reply": "2023-08-11T09:52:14.905990Z"
    }
   },
   "outputs": [],
   "source": [
    "from tianshou.data import Batch\n",
    "\n",
    "b = Batch(**_TREE_DATA_2)"
   ]
  },
  {
   "cell_type": "code",
   "execution_count": 9,
   "id": "cb0777c3",
   "metadata": {
    "execution": {
     "iopub.execute_input": "2023-08-11T09:52:14.911761Z",
     "iopub.status.busy": "2023-08-11T09:52:14.911339Z",
     "iopub.status.idle": "2023-08-11T09:52:14.919441Z",
     "shell.execute_reply": "2023-08-11T09:52:14.918319Z"
    }
   },
   "outputs": [
    {
     "data": {
      "text/plain": [
       "Batch(\n",
       "    a: tensor([[ 0.4277,  0.1447,  0.2535],\n",
       "               [-0.7681,  0.2668,  1.4102]]),\n",
       "    x: Batch(\n",
       "           c: tensor([[-2.1334,  2.4800,  1.1582,  0.9062],\n",
       "                      [ 0.3769, -1.3441,  0.0103, -0.9183],\n",
       "                      [ 1.2914,  0.7107, -0.4273, -0.5815]]),\n",
       "       ),\n",
       ")"
      ]
     },
     "execution_count": 9,
     "metadata": {},
     "output_type": "execute_result"
    }
   ],
   "source": [
    "b"
   ]
  },
  {
   "cell_type": "code",
   "execution_count": 10,
   "id": "43ef8ea3",
   "metadata": {
    "execution": {
     "iopub.execute_input": "2023-08-11T09:52:14.923681Z",
     "iopub.status.busy": "2023-08-11T09:52:14.923243Z",
     "iopub.status.idle": "2023-08-11T09:52:14.930001Z",
     "shell.execute_reply": "2023-08-11T09:52:14.929021Z"
    }
   },
   "outputs": [
    {
     "data": {
      "text/plain": [
       "tensor([[ 0.4277,  0.1447,  0.2535],\n",
       "        [-0.7681,  0.2668,  1.4102]])"
      ]
     },
     "execution_count": 10,
     "metadata": {},
     "output_type": "execute_result"
    }
   ],
   "source": [
    "b.a"
   ]
  },
  {
   "cell_type": "code",
   "execution_count": 11,
   "id": "b785ab72",
   "metadata": {
    "execution": {
     "iopub.execute_input": "2023-08-11T09:52:14.934814Z",
     "iopub.status.busy": "2023-08-11T09:52:14.934163Z",
     "iopub.status.idle": "2023-08-11T09:52:20.698949Z",
     "shell.execute_reply": "2023-08-11T09:52:20.697913Z"
    }
   },
   "outputs": [
    {
     "name": "stdout",
     "output_type": "stream",
     "text": [
      "70.3 ns ± 1.27 ns per loop (mean ± std. dev. of 7 runs, 10,000,000 loops each)\n"
     ]
    }
   ],
   "source": [
    "%timeit b.a"
   ]
  },
  {
   "cell_type": "code",
   "execution_count": 12,
   "id": "ad54dc69",
   "metadata": {
    "execution": {
     "iopub.execute_input": "2023-08-11T09:52:20.703534Z",
     "iopub.status.busy": "2023-08-11T09:52:20.702664Z",
     "iopub.status.idle": "2023-08-11T09:52:20.711752Z",
     "shell.execute_reply": "2023-08-11T09:52:20.710761Z"
    }
   },
   "outputs": [
    {
     "data": {
      "text/plain": [
       "Batch(\n",
       "    a: tensor([[-1.1037,  1.0359,  0.0246],\n",
       "               [ 0.0638,  1.4118,  0.4258]]),\n",
       "    x: Batch(\n",
       "           c: tensor([[-2.1334,  2.4800,  1.1582,  0.9062],\n",
       "                      [ 0.3769, -1.3441,  0.0103, -0.9183],\n",
       "                      [ 1.2914,  0.7107, -0.4273, -0.5815]]),\n",
       "       ),\n",
       ")"
      ]
     },
     "execution_count": 12,
     "metadata": {},
     "output_type": "execute_result"
    }
   ],
   "source": [
    "new_value = torch.randn(2, 3)\n",
    "b.a = new_value\n",
    "\n",
    "b"
   ]
  },
  {
   "cell_type": "code",
   "execution_count": 13,
   "id": "29b1d0bf",
   "metadata": {
    "execution": {
     "iopub.execute_input": "2023-08-11T09:52:20.715790Z",
     "iopub.status.busy": "2023-08-11T09:52:20.715209Z",
     "iopub.status.idle": "2023-08-11T09:52:25.949430Z",
     "shell.execute_reply": "2023-08-11T09:52:25.948459Z"
    }
   },
   "outputs": [
    {
     "name": "stdout",
     "output_type": "stream",
     "text": [
      "640 ns ± 26.9 ns per loop (mean ± std. dev. of 7 runs, 1,000,000 loops each)\n"
     ]
    }
   ],
   "source": [
    "%timeit b.a = new_value"
   ]
  },
  {
   "cell_type": "markdown",
   "id": "b61ad1d0",
   "metadata": {},
   "source": [
    "## Initialization"
   ]
  },
  {
   "cell_type": "markdown",
   "id": "d70f0d54",
   "metadata": {},
   "source": [
    "### TreeValue's Initialization"
   ]
  },
  {
   "cell_type": "code",
   "execution_count": 14,
   "id": "d32a679b",
   "metadata": {
    "execution": {
     "iopub.execute_input": "2023-08-11T09:52:25.953941Z",
     "iopub.status.busy": "2023-08-11T09:52:25.953047Z",
     "iopub.status.idle": "2023-08-11T09:52:34.607375Z",
     "shell.execute_reply": "2023-08-11T09:52:34.606101Z"
    }
   },
   "outputs": [
    {
     "name": "stdout",
     "output_type": "stream",
     "text": [
      "1.07 µs ± 27.3 ns per loop (mean ± std. dev. of 7 runs, 1,000,000 loops each)\n"
     ]
    }
   ],
   "source": [
    "%timeit FastTreeValue(_TREE_DATA_1)"
   ]
  },
  {
   "cell_type": "markdown",
   "id": "24f3707b",
   "metadata": {},
   "source": [
    "### Tianshou Batch's Initialization"
   ]
  },
  {
   "cell_type": "code",
   "execution_count": 15,
   "id": "ac3958df",
   "metadata": {
    "execution": {
     "iopub.execute_input": "2023-08-11T09:52:34.611730Z",
     "iopub.status.busy": "2023-08-11T09:52:34.611019Z",
     "iopub.status.idle": "2023-08-11T09:52:45.533626Z",
     "shell.execute_reply": "2023-08-11T09:52:45.532589Z"
    }
   },
   "outputs": [
    {
     "name": "stdout",
     "output_type": "stream",
     "text": [
      "13.4 µs ± 362 ns per loop (mean ± std. dev. of 7 runs, 100,000 loops each)\n"
     ]
    }
   ],
   "source": [
    "%timeit Batch(**_TREE_DATA_1)"
   ]
  },
  {
   "cell_type": "markdown",
   "id": "1ab82e2d",
   "metadata": {},
   "source": [
    "## Deep Copy Operation"
   ]
  },
  {
   "cell_type": "code",
   "execution_count": 16,
   "id": "210a9442",
   "metadata": {
    "execution": {
     "iopub.execute_input": "2023-08-11T09:52:45.538128Z",
     "iopub.status.busy": "2023-08-11T09:52:45.537657Z",
     "iopub.status.idle": "2023-08-11T09:52:45.546160Z",
     "shell.execute_reply": "2023-08-11T09:52:45.545180Z"
    }
   },
   "outputs": [],
   "source": [
    "import copy"
   ]
  },
  {
   "cell_type": "markdown",
   "id": "5a736274",
   "metadata": {},
   "source": [
    "### Deep Copy of TreeValue"
   ]
  },
  {
   "cell_type": "code",
   "execution_count": 17,
   "id": "f9bcadd6",
   "metadata": {
    "execution": {
     "iopub.execute_input": "2023-08-11T09:52:45.550574Z",
     "iopub.status.busy": "2023-08-11T09:52:45.550140Z",
     "iopub.status.idle": "2023-08-11T09:52:47.697784Z",
     "shell.execute_reply": "2023-08-11T09:52:47.696698Z"
    }
   },
   "outputs": [
    {
     "name": "stdout",
     "output_type": "stream",
     "text": [
      "265 µs ± 9.52 µs per loop (mean ± std. dev. of 7 runs, 1,000 loops each)\n"
     ]
    }
   ],
   "source": [
    "t3 = FastTreeValue(_TREE_DATA_3)\n",
    "%timeit copy.deepcopy(t3)"
   ]
  },
  {
   "cell_type": "markdown",
   "id": "bf8be7ea",
   "metadata": {},
   "source": [
    "### Deep Copy of Tianshou Batch"
   ]
  },
  {
   "cell_type": "code",
   "execution_count": 18,
   "id": "91998e6f",
   "metadata": {
    "execution": {
     "iopub.execute_input": "2023-08-11T09:52:47.703684Z",
     "iopub.status.busy": "2023-08-11T09:52:47.702307Z",
     "iopub.status.idle": "2023-08-11T09:52:49.819044Z",
     "shell.execute_reply": "2023-08-11T09:52:49.818175Z"
    }
   },
   "outputs": [
    {
     "name": "stdout",
     "output_type": "stream",
     "text": [
      "255 µs ± 13.7 µs per loop (mean ± std. dev. of 7 runs, 1,000 loops each)\n"
     ]
    }
   ],
   "source": [
    "b3 = Batch(**_TREE_DATA_3)\n",
    "%timeit copy.deepcopy(b3)"
   ]
  },
  {
   "cell_type": "markdown",
   "id": "223162fb",
   "metadata": {},
   "source": [
    "## Stack, Concat and Split Operation"
   ]
  },
  {
   "cell_type": "markdown",
   "id": "85fa4a73",
   "metadata": {},
   "source": [
    "### Performance of TreeValue"
   ]
  },
  {
   "cell_type": "code",
   "execution_count": 19,
   "id": "a0c2b697",
   "metadata": {
    "execution": {
     "iopub.execute_input": "2023-08-11T09:52:49.823480Z",
     "iopub.status.busy": "2023-08-11T09:52:49.822895Z",
     "iopub.status.idle": "2023-08-11T09:52:49.827006Z",
     "shell.execute_reply": "2023-08-11T09:52:49.826274Z"
    }
   },
   "outputs": [],
   "source": [
    "trees = [FastTreeValue(_TREE_DATA_2) for _ in range(8)]"
   ]
  },
  {
   "cell_type": "code",
   "execution_count": 20,
   "id": "017ea5a5",
   "metadata": {
    "execution": {
     "iopub.execute_input": "2023-08-11T09:52:49.830498Z",
     "iopub.status.busy": "2023-08-11T09:52:49.829886Z",
     "iopub.status.idle": "2023-08-11T09:52:49.839073Z",
     "shell.execute_reply": "2023-08-11T09:52:49.838266Z"
    }
   },
   "outputs": [
    {
     "data": {
      "text/plain": [
       "<FastTreeValue 0x7f76b4947bb0>\n",
       "├── 'a' --> tensor([[[ 0.4277,  0.1447,  0.2535],\n",
       "│                    [-0.7681,  0.2668,  1.4102]],\n",
       "│           \n",
       "│                   [[ 0.4277,  0.1447,  0.2535],\n",
       "│                    [-0.7681,  0.2668,  1.4102]],\n",
       "│           \n",
       "│                   [[ 0.4277,  0.1447,  0.2535],\n",
       "│                    [-0.7681,  0.2668,  1.4102]],\n",
       "│           \n",
       "│                   [[ 0.4277,  0.1447,  0.2535],\n",
       "│                    [-0.7681,  0.2668,  1.4102]],\n",
       "│           \n",
       "│                   [[ 0.4277,  0.1447,  0.2535],\n",
       "│                    [-0.7681,  0.2668,  1.4102]],\n",
       "│           \n",
       "│                   [[ 0.4277,  0.1447,  0.2535],\n",
       "│                    [-0.7681,  0.2668,  1.4102]],\n",
       "│           \n",
       "│                   [[ 0.4277,  0.1447,  0.2535],\n",
       "│                    [-0.7681,  0.2668,  1.4102]],\n",
       "│           \n",
       "│                   [[ 0.4277,  0.1447,  0.2535],\n",
       "│                    [-0.7681,  0.2668,  1.4102]]])\n",
       "└── 'x' --> <FastTreeValue 0x7f76b4947b50>\n",
       "    └── 'c' --> tensor([[[-2.1334,  2.4800,  1.1582,  0.9062],\n",
       "                         [ 0.3769, -1.3441,  0.0103, -0.9183],\n",
       "                         [ 1.2914,  0.7107, -0.4273, -0.5815]],\n",
       "                \n",
       "                        [[-2.1334,  2.4800,  1.1582,  0.9062],\n",
       "                         [ 0.3769, -1.3441,  0.0103, -0.9183],\n",
       "                         [ 1.2914,  0.7107, -0.4273, -0.5815]],\n",
       "                \n",
       "                        [[-2.1334,  2.4800,  1.1582,  0.9062],\n",
       "                         [ 0.3769, -1.3441,  0.0103, -0.9183],\n",
       "                         [ 1.2914,  0.7107, -0.4273, -0.5815]],\n",
       "                \n",
       "                        [[-2.1334,  2.4800,  1.1582,  0.9062],\n",
       "                         [ 0.3769, -1.3441,  0.0103, -0.9183],\n",
       "                         [ 1.2914,  0.7107, -0.4273, -0.5815]],\n",
       "                \n",
       "                        [[-2.1334,  2.4800,  1.1582,  0.9062],\n",
       "                         [ 0.3769, -1.3441,  0.0103, -0.9183],\n",
       "                         [ 1.2914,  0.7107, -0.4273, -0.5815]],\n",
       "                \n",
       "                        [[-2.1334,  2.4800,  1.1582,  0.9062],\n",
       "                         [ 0.3769, -1.3441,  0.0103, -0.9183],\n",
       "                         [ 1.2914,  0.7107, -0.4273, -0.5815]],\n",
       "                \n",
       "                        [[-2.1334,  2.4800,  1.1582,  0.9062],\n",
       "                         [ 0.3769, -1.3441,  0.0103, -0.9183],\n",
       "                         [ 1.2914,  0.7107, -0.4273, -0.5815]],\n",
       "                \n",
       "                        [[-2.1334,  2.4800,  1.1582,  0.9062],\n",
       "                         [ 0.3769, -1.3441,  0.0103, -0.9183],\n",
       "                         [ 1.2914,  0.7107, -0.4273, -0.5815]]])"
      ]
     },
     "execution_count": 20,
     "metadata": {},
     "output_type": "execute_result"
    }
   ],
   "source": [
    "t_stack = FastTreeValue.func(subside=True)(torch.stack)\n",
    "\n",
    "t_stack(trees)"
   ]
  },
  {
   "cell_type": "code",
   "execution_count": 21,
   "id": "f8b3f415",
   "metadata": {
    "execution": {
     "iopub.execute_input": "2023-08-11T09:52:49.843318Z",
     "iopub.status.busy": "2023-08-11T09:52:49.842813Z",
     "iopub.status.idle": "2023-08-11T09:52:53.512781Z",
     "shell.execute_reply": "2023-08-11T09:52:53.511686Z"
    }
   },
   "outputs": [
    {
     "name": "stdout",
     "output_type": "stream",
     "text": [
      "45.3 µs ± 2.31 µs per loop (mean ± std. dev. of 7 runs, 10,000 loops each)\n"
     ]
    }
   ],
   "source": [
    "%timeit t_stack(trees)"
   ]
  },
  {
   "cell_type": "code",
   "execution_count": 22,
   "id": "94b56771",
   "metadata": {
    "execution": {
     "iopub.execute_input": "2023-08-11T09:52:53.516947Z",
     "iopub.status.busy": "2023-08-11T09:52:53.516483Z",
     "iopub.status.idle": "2023-08-11T09:52:53.526685Z",
     "shell.execute_reply": "2023-08-11T09:52:53.525618Z"
    }
   },
   "outputs": [
    {
     "data": {
      "text/plain": [
       "<FastTreeValue 0x7f778f112a90>\n",
       "├── 'a' --> tensor([[ 0.4277,  0.1447,  0.2535],\n",
       "│                   [-0.7681,  0.2668,  1.4102],\n",
       "│                   [ 0.4277,  0.1447,  0.2535],\n",
       "│                   [-0.7681,  0.2668,  1.4102],\n",
       "│                   [ 0.4277,  0.1447,  0.2535],\n",
       "│                   [-0.7681,  0.2668,  1.4102],\n",
       "│                   [ 0.4277,  0.1447,  0.2535],\n",
       "│                   [-0.7681,  0.2668,  1.4102],\n",
       "│                   [ 0.4277,  0.1447,  0.2535],\n",
       "│                   [-0.7681,  0.2668,  1.4102],\n",
       "│                   [ 0.4277,  0.1447,  0.2535],\n",
       "│                   [-0.7681,  0.2668,  1.4102],\n",
       "│                   [ 0.4277,  0.1447,  0.2535],\n",
       "│                   [-0.7681,  0.2668,  1.4102],\n",
       "│                   [ 0.4277,  0.1447,  0.2535],\n",
       "│                   [-0.7681,  0.2668,  1.4102]])\n",
       "└── 'x' --> <FastTreeValue 0x7f76b4e63130>\n",
       "    └── 'c' --> tensor([[-2.1334,  2.4800,  1.1582,  0.9062],\n",
       "                        [ 0.3769, -1.3441,  0.0103, -0.9183],\n",
       "                        [ 1.2914,  0.7107, -0.4273, -0.5815],\n",
       "                        [-2.1334,  2.4800,  1.1582,  0.9062],\n",
       "                        [ 0.3769, -1.3441,  0.0103, -0.9183],\n",
       "                        [ 1.2914,  0.7107, -0.4273, -0.5815],\n",
       "                        [-2.1334,  2.4800,  1.1582,  0.9062],\n",
       "                        [ 0.3769, -1.3441,  0.0103, -0.9183],\n",
       "                        [ 1.2914,  0.7107, -0.4273, -0.5815],\n",
       "                        [-2.1334,  2.4800,  1.1582,  0.9062],\n",
       "                        [ 0.3769, -1.3441,  0.0103, -0.9183],\n",
       "                        [ 1.2914,  0.7107, -0.4273, -0.5815],\n",
       "                        [-2.1334,  2.4800,  1.1582,  0.9062],\n",
       "                        [ 0.3769, -1.3441,  0.0103, -0.9183],\n",
       "                        [ 1.2914,  0.7107, -0.4273, -0.5815],\n",
       "                        [-2.1334,  2.4800,  1.1582,  0.9062],\n",
       "                        [ 0.3769, -1.3441,  0.0103, -0.9183],\n",
       "                        [ 1.2914,  0.7107, -0.4273, -0.5815],\n",
       "                        [-2.1334,  2.4800,  1.1582,  0.9062],\n",
       "                        [ 0.3769, -1.3441,  0.0103, -0.9183],\n",
       "                        [ 1.2914,  0.7107, -0.4273, -0.5815],\n",
       "                        [-2.1334,  2.4800,  1.1582,  0.9062],\n",
       "                        [ 0.3769, -1.3441,  0.0103, -0.9183],\n",
       "                        [ 1.2914,  0.7107, -0.4273, -0.5815]])"
      ]
     },
     "execution_count": 22,
     "metadata": {},
     "output_type": "execute_result"
    }
   ],
   "source": [
    "t_cat = FastTreeValue.func(subside=True)(torch.cat)\n",
    "\n",
    "t_cat(trees)"
   ]
  },
  {
   "cell_type": "code",
   "execution_count": 23,
   "id": "5e9c06a6",
   "metadata": {
    "execution": {
     "iopub.execute_input": "2023-08-11T09:52:53.530441Z",
     "iopub.status.busy": "2023-08-11T09:52:53.530156Z",
     "iopub.status.idle": "2023-08-11T09:52:56.941337Z",
     "shell.execute_reply": "2023-08-11T09:52:56.940257Z"
    }
   },
   "outputs": [
    {
     "name": "stdout",
     "output_type": "stream",
     "text": [
      "42 µs ± 1.36 µs per loop (mean ± std. dev. of 7 runs, 10,000 loops each)\n"
     ]
    }
   ],
   "source": [
    "%timeit t_cat(trees)"
   ]
  },
  {
   "cell_type": "code",
   "execution_count": 24,
   "id": "a3ab5c8f",
   "metadata": {
    "execution": {
     "iopub.execute_input": "2023-08-11T09:52:56.952800Z",
     "iopub.status.busy": "2023-08-11T09:52:56.951923Z",
     "iopub.status.idle": "2023-08-11T09:53:05.077224Z",
     "shell.execute_reply": "2023-08-11T09:53:05.076208Z"
    }
   },
   "outputs": [
    {
     "name": "stdout",
     "output_type": "stream",
     "text": [
      "98.7 µs ± 4.91 µs per loop (mean ± std. dev. of 7 runs, 10,000 loops each)\n"
     ]
    }
   ],
   "source": [
    "t_split = FastTreeValue.func(rise=True)(torch.split)\n",
    "tree = FastTreeValue({\n",
    "    'obs': torch.randn(8, 4, 84, 84),\n",
    "    'action': torch.randint(0, 6, size=(8, 1,)),\n",
    "    'reward': torch.rand(8, 1),\n",
    "})\n",
    "\n",
    "%timeit t_split(tree, 1)"
   ]
  },
  {
   "cell_type": "markdown",
   "id": "31c3ec0b",
   "metadata": {},
   "source": [
    "### Performance of Tianshou Batch"
   ]
  },
  {
   "cell_type": "code",
   "execution_count": 25,
   "id": "9ead828a",
   "metadata": {
    "execution": {
     "iopub.execute_input": "2023-08-11T09:53:05.081511Z",
     "iopub.status.busy": "2023-08-11T09:53:05.080699Z",
     "iopub.status.idle": "2023-08-11T09:53:05.092241Z",
     "shell.execute_reply": "2023-08-11T09:53:05.091181Z"
    }
   },
   "outputs": [
    {
     "data": {
      "text/plain": [
       "Batch(\n",
       "    x: Batch(\n",
       "           c: tensor([[[-2.1334,  2.4800,  1.1582,  0.9062],\n",
       "                       [ 0.3769, -1.3441,  0.0103, -0.9183],\n",
       "                       [ 1.2914,  0.7107, -0.4273, -0.5815]],\n",
       "              \n",
       "                      [[-2.1334,  2.4800,  1.1582,  0.9062],\n",
       "                       [ 0.3769, -1.3441,  0.0103, -0.9183],\n",
       "                       [ 1.2914,  0.7107, -0.4273, -0.5815]],\n",
       "              \n",
       "                      [[-2.1334,  2.4800,  1.1582,  0.9062],\n",
       "                       [ 0.3769, -1.3441,  0.0103, -0.9183],\n",
       "                       [ 1.2914,  0.7107, -0.4273, -0.5815]],\n",
       "              \n",
       "                      [[-2.1334,  2.4800,  1.1582,  0.9062],\n",
       "                       [ 0.3769, -1.3441,  0.0103, -0.9183],\n",
       "                       [ 1.2914,  0.7107, -0.4273, -0.5815]],\n",
       "              \n",
       "                      [[-2.1334,  2.4800,  1.1582,  0.9062],\n",
       "                       [ 0.3769, -1.3441,  0.0103, -0.9183],\n",
       "                       [ 1.2914,  0.7107, -0.4273, -0.5815]],\n",
       "              \n",
       "                      [[-2.1334,  2.4800,  1.1582,  0.9062],\n",
       "                       [ 0.3769, -1.3441,  0.0103, -0.9183],\n",
       "                       [ 1.2914,  0.7107, -0.4273, -0.5815]],\n",
       "              \n",
       "                      [[-2.1334,  2.4800,  1.1582,  0.9062],\n",
       "                       [ 0.3769, -1.3441,  0.0103, -0.9183],\n",
       "                       [ 1.2914,  0.7107, -0.4273, -0.5815]],\n",
       "              \n",
       "                      [[-2.1334,  2.4800,  1.1582,  0.9062],\n",
       "                       [ 0.3769, -1.3441,  0.0103, -0.9183],\n",
       "                       [ 1.2914,  0.7107, -0.4273, -0.5815]]]),\n",
       "       ),\n",
       "    a: tensor([[[ 0.4277,  0.1447,  0.2535],\n",
       "                [-0.7681,  0.2668,  1.4102]],\n",
       "       \n",
       "               [[ 0.4277,  0.1447,  0.2535],\n",
       "                [-0.7681,  0.2668,  1.4102]],\n",
       "       \n",
       "               [[ 0.4277,  0.1447,  0.2535],\n",
       "                [-0.7681,  0.2668,  1.4102]],\n",
       "       \n",
       "               [[ 0.4277,  0.1447,  0.2535],\n",
       "                [-0.7681,  0.2668,  1.4102]],\n",
       "       \n",
       "               [[ 0.4277,  0.1447,  0.2535],\n",
       "                [-0.7681,  0.2668,  1.4102]],\n",
       "       \n",
       "               [[ 0.4277,  0.1447,  0.2535],\n",
       "                [-0.7681,  0.2668,  1.4102]],\n",
       "       \n",
       "               [[ 0.4277,  0.1447,  0.2535],\n",
       "                [-0.7681,  0.2668,  1.4102]],\n",
       "       \n",
       "               [[ 0.4277,  0.1447,  0.2535],\n",
       "                [-0.7681,  0.2668,  1.4102]]]),\n",
       ")"
      ]
     },
     "execution_count": 25,
     "metadata": {},
     "output_type": "execute_result"
    }
   ],
   "source": [
    "batches = [Batch(**_TREE_DATA_2) for _ in range(8)]\n",
    "\n",
    "Batch.stack(batches)"
   ]
  },
  {
   "cell_type": "code",
   "execution_count": 26,
   "id": "ec9037a3",
   "metadata": {
    "execution": {
     "iopub.execute_input": "2023-08-11T09:53:05.096566Z",
     "iopub.status.busy": "2023-08-11T09:53:05.095978Z",
     "iopub.status.idle": "2023-08-11T09:53:14.487747Z",
     "shell.execute_reply": "2023-08-11T09:53:14.486311Z"
    }
   },
   "outputs": [
    {
     "name": "stdout",
     "output_type": "stream",
     "text": [
      "115 µs ± 5.81 µs per loop (mean ± std. dev. of 7 runs, 10,000 loops each)\n"
     ]
    }
   ],
   "source": [
    "%timeit Batch.stack(batches)"
   ]
  },
  {
   "cell_type": "code",
   "execution_count": 27,
   "id": "cb8ab77e",
   "metadata": {
    "execution": {
     "iopub.execute_input": "2023-08-11T09:53:14.492297Z",
     "iopub.status.busy": "2023-08-11T09:53:14.491292Z",
     "iopub.status.idle": "2023-08-11T09:53:14.502104Z",
     "shell.execute_reply": "2023-08-11T09:53:14.500779Z"
    }
   },
   "outputs": [
    {
     "data": {
      "text/plain": [
       "Batch(\n",
       "    x: Batch(\n",
       "           c: tensor([[-2.1334,  2.4800,  1.1582,  0.9062],\n",
       "                      [ 0.3769, -1.3441,  0.0103, -0.9183],\n",
       "                      [ 1.2914,  0.7107, -0.4273, -0.5815],\n",
       "                      [-2.1334,  2.4800,  1.1582,  0.9062],\n",
       "                      [ 0.3769, -1.3441,  0.0103, -0.9183],\n",
       "                      [ 1.2914,  0.7107, -0.4273, -0.5815],\n",
       "                      [-2.1334,  2.4800,  1.1582,  0.9062],\n",
       "                      [ 0.3769, -1.3441,  0.0103, -0.9183],\n",
       "                      [ 1.2914,  0.7107, -0.4273, -0.5815],\n",
       "                      [-2.1334,  2.4800,  1.1582,  0.9062],\n",
       "                      [ 0.3769, -1.3441,  0.0103, -0.9183],\n",
       "                      [ 1.2914,  0.7107, -0.4273, -0.5815],\n",
       "                      [-2.1334,  2.4800,  1.1582,  0.9062],\n",
       "                      [ 0.3769, -1.3441,  0.0103, -0.9183],\n",
       "                      [ 1.2914,  0.7107, -0.4273, -0.5815],\n",
       "                      [-2.1334,  2.4800,  1.1582,  0.9062],\n",
       "                      [ 0.3769, -1.3441,  0.0103, -0.9183],\n",
       "                      [ 1.2914,  0.7107, -0.4273, -0.5815],\n",
       "                      [-2.1334,  2.4800,  1.1582,  0.9062],\n",
       "                      [ 0.3769, -1.3441,  0.0103, -0.9183],\n",
       "                      [ 1.2914,  0.7107, -0.4273, -0.5815],\n",
       "                      [-2.1334,  2.4800,  1.1582,  0.9062],\n",
       "                      [ 0.3769, -1.3441,  0.0103, -0.9183],\n",
       "                      [ 1.2914,  0.7107, -0.4273, -0.5815]]),\n",
       "       ),\n",
       "    a: tensor([[ 0.4277,  0.1447,  0.2535],\n",
       "               [-0.7681,  0.2668,  1.4102],\n",
       "               [ 0.4277,  0.1447,  0.2535],\n",
       "               [-0.7681,  0.2668,  1.4102],\n",
       "               [ 0.4277,  0.1447,  0.2535],\n",
       "               [-0.7681,  0.2668,  1.4102],\n",
       "               [ 0.4277,  0.1447,  0.2535],\n",
       "               [-0.7681,  0.2668,  1.4102],\n",
       "               [ 0.4277,  0.1447,  0.2535],\n",
       "               [-0.7681,  0.2668,  1.4102],\n",
       "               [ 0.4277,  0.1447,  0.2535],\n",
       "               [-0.7681,  0.2668,  1.4102],\n",
       "               [ 0.4277,  0.1447,  0.2535],\n",
       "               [-0.7681,  0.2668,  1.4102],\n",
       "               [ 0.4277,  0.1447,  0.2535],\n",
       "               [-0.7681,  0.2668,  1.4102]]),\n",
       ")"
      ]
     },
     "execution_count": 27,
     "metadata": {},
     "output_type": "execute_result"
    }
   ],
   "source": [
    "Batch.cat(batches)"
   ]
  },
  {
   "cell_type": "code",
   "execution_count": 28,
   "id": "18dfb045",
   "metadata": {
    "execution": {
     "iopub.execute_input": "2023-08-11T09:53:14.506071Z",
     "iopub.status.busy": "2023-08-11T09:53:14.505801Z",
     "iopub.status.idle": "2023-08-11T09:53:30.593994Z",
     "shell.execute_reply": "2023-08-11T09:53:30.592264Z"
    }
   },
   "outputs": [
    {
     "name": "stdout",
     "output_type": "stream",
     "text": [
      "198 µs ± 1.65 µs per loop (mean ± std. dev. of 7 runs, 10,000 loops each)\n"
     ]
    }
   ],
   "source": [
    "%timeit Batch.cat(batches)"
   ]
  },
  {
   "cell_type": "code",
   "execution_count": 29,
   "id": "c6688e51",
   "metadata": {
    "execution": {
     "iopub.execute_input": "2023-08-11T09:53:30.597968Z",
     "iopub.status.busy": "2023-08-11T09:53:30.597612Z",
     "iopub.status.idle": "2023-08-11T09:53:35.789699Z",
     "shell.execute_reply": "2023-08-11T09:53:35.788723Z"
    }
   },
   "outputs": [
    {
     "name": "stdout",
     "output_type": "stream",
     "text": [
      "642 µs ± 25.5 µs per loop (mean ± std. dev. of 7 runs, 1,000 loops each)\n"
     ]
    }
   ],
   "source": [
    "batch = Batch({\n",
    "    'obs': torch.randn(8, 4, 84, 84),\n",
    "    'action': torch.randint(0, 6, size=(8, 1,)),\n",
    "    'reward': torch.rand(8, 1)}\n",
    ")\n",
    "\n",
    "%timeit list(Batch.split(batch, 1, shuffle=False, merge_last=True))"
   ]
  },
  {
   "cell_type": "code",
   "execution_count": null,
   "id": "2539fbd9",
   "metadata": {},
   "outputs": [],
   "source": []
  }
 ],
 "metadata": {
  "kernelspec": {
   "display_name": "Python 3 (ipykernel)",
   "language": "python",
   "name": "python3"
  },
  "language_info": {
   "codemirror_mode": {
    "name": "ipython",
    "version": 3
   },
   "file_extension": ".py",
   "mimetype": "text/x-python",
   "name": "python",
   "nbconvert_exporter": "python",
   "pygments_lexer": "ipython3",
   "version": "3.8.17"
  }
 },
 "nbformat": 4,
 "nbformat_minor": 5
}
