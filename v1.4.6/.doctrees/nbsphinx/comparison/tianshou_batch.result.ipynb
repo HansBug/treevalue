{
 "cells": [
  {
   "cell_type": "markdown",
   "id": "9d39d946",
   "metadata": {},
   "source": [
    "# Comparison Between TreeValue and Tianshou Batch"
   ]
  },
  {
   "cell_type": "markdown",
   "id": "3c6db2d4",
   "metadata": {},
   "source": [
    "In this section, we will take a look at the feature and performance of the [Tianshou Batch](https://github.com/thu-ml/tianshou) library, which is developed by Tsinghua Machine Learning Group."
   ]
  },
  {
   "cell_type": "markdown",
   "id": "069361b0",
   "metadata": {},
   "source": [
    "Before starting the comparison, let us define some thing."
   ]
  },
  {
   "cell_type": "code",
   "execution_count": 1,
   "id": "06fc8d26",
   "metadata": {
    "execution": {
     "iopub.execute_input": "2023-10-22T16:05:52.237388Z",
     "iopub.status.busy": "2023-10-22T16:05:52.236913Z",
     "iopub.status.idle": "2023-10-22T16:05:54.128299Z",
     "shell.execute_reply": "2023-10-22T16:05:54.126908Z"
    }
   },
   "outputs": [],
   "source": [
    "import torch \n",
    "\n",
    "_TREE_DATA_1 = {'a': 1, 'b': 2, 'x': {'c': 3, 'd': 4}}\n",
    "_TREE_DATA_2 = {\n",
    "    'a': torch.randn(2, 3), \n",
    "    'x': {\n",
    "        'c': torch.randn(3, 4)\n",
    "    },\n",
    "}\n",
    "_TREE_DATA_3 = {\n",
    "    'obs': torch.randn(4, 84, 84),\n",
    "    'action': torch.randint(0, 6, size=(1,)),\n",
    "    'reward': torch.rand(1),\n",
    "}"
   ]
  },
  {
   "cell_type": "markdown",
   "id": "83461b25",
   "metadata": {},
   "source": [
    "## Read and Write Operation"
   ]
  },
  {
   "cell_type": "markdown",
   "id": "067b3f73",
   "metadata": {},
   "source": [
    "Reading and writing are the two most common operations in the tree data structure based on the data model (TreeValue and Tianshou Batch both belong to this type), so this section will compare the reading and writing performance of these two libraries."
   ]
  },
  {
   "cell_type": "markdown",
   "id": "5d09a5b7",
   "metadata": {},
   "source": [
    "### TreeValue's Get and Set"
   ]
  },
  {
   "cell_type": "code",
   "execution_count": 2,
   "id": "9519c4bb",
   "metadata": {
    "execution": {
     "iopub.execute_input": "2023-10-22T16:05:54.133150Z",
     "iopub.status.busy": "2023-10-22T16:05:54.132492Z",
     "iopub.status.idle": "2023-10-22T16:05:54.528499Z",
     "shell.execute_reply": "2023-10-22T16:05:54.527239Z"
    }
   },
   "outputs": [],
   "source": [
    "from treevalue import FastTreeValue\n",
    "\n",
    "t = FastTreeValue(_TREE_DATA_2)"
   ]
  },
  {
   "cell_type": "code",
   "execution_count": 3,
   "id": "11c37677",
   "metadata": {
    "execution": {
     "iopub.execute_input": "2023-10-22T16:05:54.533187Z",
     "iopub.status.busy": "2023-10-22T16:05:54.532448Z",
     "iopub.status.idle": "2023-10-22T16:05:54.543761Z",
     "shell.execute_reply": "2023-10-22T16:05:54.543058Z"
    }
   },
   "outputs": [
    {
     "data": {
      "text/plain": [
       "<FastTreeValue 0x7f7d54d9dbb0>\n",
       "├── 'a' --> tensor([[-0.1275,  2.1602, -1.6760],\n",
       "│                   [-0.3528,  0.0810, -0.5175]])\n",
       "└── 'x' --> <FastTreeValue 0x7f7d54d9d100>\n",
       "    └── 'c' --> tensor([[-0.4122,  0.3281,  0.5373,  1.0028],\n",
       "                        [-0.8598,  2.5058, -0.6549, -1.9361],\n",
       "                        [-1.7551,  0.3537,  0.3212, -0.6408]])"
      ]
     },
     "execution_count": 3,
     "metadata": {},
     "output_type": "execute_result"
    }
   ],
   "source": [
    "t"
   ]
  },
  {
   "cell_type": "code",
   "execution_count": 4,
   "id": "fd70b0b9",
   "metadata": {
    "execution": {
     "iopub.execute_input": "2023-10-22T16:05:54.547684Z",
     "iopub.status.busy": "2023-10-22T16:05:54.547143Z",
     "iopub.status.idle": "2023-10-22T16:05:54.555944Z",
     "shell.execute_reply": "2023-10-22T16:05:54.555205Z"
    }
   },
   "outputs": [
    {
     "data": {
      "text/plain": [
       "tensor([[-0.1275,  2.1602, -1.6760],\n",
       "        [-0.3528,  0.0810, -0.5175]])"
      ]
     },
     "execution_count": 4,
     "metadata": {},
     "output_type": "execute_result"
    }
   ],
   "source": [
    "t.a"
   ]
  },
  {
   "cell_type": "code",
   "execution_count": 5,
   "id": "c18197bd",
   "metadata": {
    "execution": {
     "iopub.execute_input": "2023-10-22T16:05:54.559922Z",
     "iopub.status.busy": "2023-10-22T16:05:54.559288Z",
     "iopub.status.idle": "2023-10-22T16:06:01.776805Z",
     "shell.execute_reply": "2023-10-22T16:06:01.775500Z"
    }
   },
   "outputs": [
    {
     "name": "stdout",
     "output_type": "stream",
     "text": [
      "88.9 ns ± 0.71 ns per loop (mean ± std. dev. of 7 runs, 10,000,000 loops each)\n"
     ]
    }
   ],
   "source": [
    "%timeit t.a"
   ]
  },
  {
   "cell_type": "code",
   "execution_count": 6,
   "id": "bd52f867",
   "metadata": {
    "execution": {
     "iopub.execute_input": "2023-10-22T16:06:01.782809Z",
     "iopub.status.busy": "2023-10-22T16:06:01.782069Z",
     "iopub.status.idle": "2023-10-22T16:06:01.789869Z",
     "shell.execute_reply": "2023-10-22T16:06:01.789053Z"
    }
   },
   "outputs": [
    {
     "data": {
      "text/plain": [
       "<FastTreeValue 0x7f7d54d9dbb0>\n",
       "├── 'a' --> tensor([[-0.5290, -0.2250, -1.2578],\n",
       "│                   [ 1.2898,  0.9858, -0.2898]])\n",
       "└── 'x' --> <FastTreeValue 0x7f7d54d9d100>\n",
       "    └── 'c' --> tensor([[-0.4122,  0.3281,  0.5373,  1.0028],\n",
       "                        [-0.8598,  2.5058, -0.6549, -1.9361],\n",
       "                        [-1.7551,  0.3537,  0.3212, -0.6408]])"
      ]
     },
     "execution_count": 6,
     "metadata": {},
     "output_type": "execute_result"
    }
   ],
   "source": [
    "new_value = torch.randn(2, 3)\n",
    "t.a = new_value\n",
    "\n",
    "t"
   ]
  },
  {
   "cell_type": "code",
   "execution_count": 7,
   "id": "bbe04d1c",
   "metadata": {
    "execution": {
     "iopub.execute_input": "2023-10-22T16:06:01.794740Z",
     "iopub.status.busy": "2023-10-22T16:06:01.794082Z",
     "iopub.status.idle": "2023-10-22T16:06:09.393630Z",
     "shell.execute_reply": "2023-10-22T16:06:09.392702Z"
    }
   },
   "outputs": [
    {
     "name": "stdout",
     "output_type": "stream",
     "text": [
      "93.3 ns ± 1.24 ns per loop (mean ± std. dev. of 7 runs, 10,000,000 loops each)\n"
     ]
    }
   ],
   "source": [
    "%timeit t.a = new_value"
   ]
  },
  {
   "cell_type": "markdown",
   "id": "48c49731",
   "metadata": {},
   "source": [
    "### Tianshou Batch's Get and Set"
   ]
  },
  {
   "cell_type": "code",
   "execution_count": 8,
   "id": "f1bb14c1",
   "metadata": {
    "execution": {
     "iopub.execute_input": "2023-10-22T16:06:09.398342Z",
     "iopub.status.busy": "2023-10-22T16:06:09.397672Z",
     "iopub.status.idle": "2023-10-22T16:06:09.877611Z",
     "shell.execute_reply": "2023-10-22T16:06:09.876537Z"
    }
   },
   "outputs": [],
   "source": [
    "from tianshou.data import Batch\n",
    "\n",
    "b = Batch(**_TREE_DATA_2)"
   ]
  },
  {
   "cell_type": "code",
   "execution_count": 9,
   "id": "cb0777c3",
   "metadata": {
    "execution": {
     "iopub.execute_input": "2023-10-22T16:06:09.883041Z",
     "iopub.status.busy": "2023-10-22T16:06:09.882157Z",
     "iopub.status.idle": "2023-10-22T16:06:09.891881Z",
     "shell.execute_reply": "2023-10-22T16:06:09.891143Z"
    }
   },
   "outputs": [
    {
     "data": {
      "text/plain": [
       "Batch(\n",
       "    a: tensor([[-0.1275,  2.1602, -1.6760],\n",
       "               [-0.3528,  0.0810, -0.5175]]),\n",
       "    x: Batch(\n",
       "           c: tensor([[-0.4122,  0.3281,  0.5373,  1.0028],\n",
       "                      [-0.8598,  2.5058, -0.6549, -1.9361],\n",
       "                      [-1.7551,  0.3537,  0.3212, -0.6408]]),\n",
       "       ),\n",
       ")"
      ]
     },
     "execution_count": 9,
     "metadata": {},
     "output_type": "execute_result"
    }
   ],
   "source": [
    "b"
   ]
  },
  {
   "cell_type": "code",
   "execution_count": 10,
   "id": "43ef8ea3",
   "metadata": {
    "execution": {
     "iopub.execute_input": "2023-10-22T16:06:09.895740Z",
     "iopub.status.busy": "2023-10-22T16:06:09.895212Z",
     "iopub.status.idle": "2023-10-22T16:06:09.903183Z",
     "shell.execute_reply": "2023-10-22T16:06:09.902449Z"
    }
   },
   "outputs": [
    {
     "data": {
      "text/plain": [
       "tensor([[-0.1275,  2.1602, -1.6760],\n",
       "        [-0.3528,  0.0810, -0.5175]])"
      ]
     },
     "execution_count": 10,
     "metadata": {},
     "output_type": "execute_result"
    }
   ],
   "source": [
    "b.a"
   ]
  },
  {
   "cell_type": "code",
   "execution_count": 11,
   "id": "b785ab72",
   "metadata": {
    "execution": {
     "iopub.execute_input": "2023-10-22T16:06:09.907010Z",
     "iopub.status.busy": "2023-10-22T16:06:09.906341Z",
     "iopub.status.idle": "2023-10-22T16:06:16.469275Z",
     "shell.execute_reply": "2023-10-22T16:06:16.468206Z"
    }
   },
   "outputs": [
    {
     "name": "stdout",
     "output_type": "stream",
     "text": [
      "80.8 ns ± 0.318 ns per loop (mean ± std. dev. of 7 runs, 10,000,000 loops each)\n"
     ]
    }
   ],
   "source": [
    "%timeit b.a"
   ]
  },
  {
   "cell_type": "code",
   "execution_count": 12,
   "id": "ad54dc69",
   "metadata": {
    "execution": {
     "iopub.execute_input": "2023-10-22T16:06:16.473578Z",
     "iopub.status.busy": "2023-10-22T16:06:16.472858Z",
     "iopub.status.idle": "2023-10-22T16:06:16.484088Z",
     "shell.execute_reply": "2023-10-22T16:06:16.483263Z"
    }
   },
   "outputs": [
    {
     "data": {
      "text/plain": [
       "Batch(\n",
       "    a: tensor([[-1.3095, -0.2105, -0.0669],\n",
       "               [-0.6022,  1.5463,  0.0598]]),\n",
       "    x: Batch(\n",
       "           c: tensor([[-0.4122,  0.3281,  0.5373,  1.0028],\n",
       "                      [-0.8598,  2.5058, -0.6549, -1.9361],\n",
       "                      [-1.7551,  0.3537,  0.3212, -0.6408]]),\n",
       "       ),\n",
       ")"
      ]
     },
     "execution_count": 12,
     "metadata": {},
     "output_type": "execute_result"
    }
   ],
   "source": [
    "new_value = torch.randn(2, 3)\n",
    "b.a = new_value\n",
    "\n",
    "b"
   ]
  },
  {
   "cell_type": "code",
   "execution_count": 13,
   "id": "29b1d0bf",
   "metadata": {
    "execution": {
     "iopub.execute_input": "2023-10-22T16:06:16.488482Z",
     "iopub.status.busy": "2023-10-22T16:06:16.487675Z",
     "iopub.status.idle": "2023-10-22T16:06:21.900225Z",
     "shell.execute_reply": "2023-10-22T16:06:21.899100Z"
    }
   },
   "outputs": [
    {
     "name": "stdout",
     "output_type": "stream",
     "text": [
      "660 ns ± 4.94 ns per loop (mean ± std. dev. of 7 runs, 1,000,000 loops each)\n"
     ]
    }
   ],
   "source": [
    "%timeit b.a = new_value"
   ]
  },
  {
   "cell_type": "markdown",
   "id": "b61ad1d0",
   "metadata": {},
   "source": [
    "## Initialization"
   ]
  },
  {
   "cell_type": "markdown",
   "id": "d70f0d54",
   "metadata": {},
   "source": [
    "### TreeValue's Initialization"
   ]
  },
  {
   "cell_type": "code",
   "execution_count": 14,
   "id": "d32a679b",
   "metadata": {
    "execution": {
     "iopub.execute_input": "2023-10-22T16:06:21.905186Z",
     "iopub.status.busy": "2023-10-22T16:06:21.904398Z",
     "iopub.status.idle": "2023-10-22T16:06:30.507412Z",
     "shell.execute_reply": "2023-10-22T16:06:30.506487Z"
    }
   },
   "outputs": [
    {
     "name": "stdout",
     "output_type": "stream",
     "text": [
      "1.05 µs ± 10.1 ns per loop (mean ± std. dev. of 7 runs, 1,000,000 loops each)\n"
     ]
    }
   ],
   "source": [
    "%timeit FastTreeValue(_TREE_DATA_1)"
   ]
  },
  {
   "cell_type": "markdown",
   "id": "24f3707b",
   "metadata": {},
   "source": [
    "### Tianshou Batch's Initialization"
   ]
  },
  {
   "cell_type": "code",
   "execution_count": 15,
   "id": "ac3958df",
   "metadata": {
    "execution": {
     "iopub.execute_input": "2023-10-22T16:06:30.511554Z",
     "iopub.status.busy": "2023-10-22T16:06:30.510839Z",
     "iopub.status.idle": "2023-10-22T16:06:40.504289Z",
     "shell.execute_reply": "2023-10-22T16:06:40.503145Z"
    }
   },
   "outputs": [
    {
     "name": "stdout",
     "output_type": "stream",
     "text": [
      "12.3 µs ± 105 ns per loop (mean ± std. dev. of 7 runs, 100,000 loops each)\n"
     ]
    }
   ],
   "source": [
    "%timeit Batch(**_TREE_DATA_1)"
   ]
  },
  {
   "cell_type": "markdown",
   "id": "1ab82e2d",
   "metadata": {},
   "source": [
    "## Deep Copy Operation"
   ]
  },
  {
   "cell_type": "code",
   "execution_count": 16,
   "id": "210a9442",
   "metadata": {
    "execution": {
     "iopub.execute_input": "2023-10-22T16:06:40.509008Z",
     "iopub.status.busy": "2023-10-22T16:06:40.508333Z",
     "iopub.status.idle": "2023-10-22T16:06:40.512669Z",
     "shell.execute_reply": "2023-10-22T16:06:40.511805Z"
    }
   },
   "outputs": [],
   "source": [
    "import copy"
   ]
  },
  {
   "cell_type": "markdown",
   "id": "5a736274",
   "metadata": {},
   "source": [
    "### Deep Copy of TreeValue"
   ]
  },
  {
   "cell_type": "code",
   "execution_count": 17,
   "id": "f9bcadd6",
   "metadata": {
    "execution": {
     "iopub.execute_input": "2023-10-22T16:06:40.516536Z",
     "iopub.status.busy": "2023-10-22T16:06:40.515871Z",
     "iopub.status.idle": "2023-10-22T16:06:54.693259Z",
     "shell.execute_reply": "2023-10-22T16:06:54.692507Z"
    }
   },
   "outputs": [
    {
     "name": "stdout",
     "output_type": "stream",
     "text": [
      "175 µs ± 1.21 µs per loop (mean ± std. dev. of 7 runs, 10,000 loops each)\n"
     ]
    }
   ],
   "source": [
    "t3 = FastTreeValue(_TREE_DATA_3)\n",
    "%timeit copy.deepcopy(t3)"
   ]
  },
  {
   "cell_type": "markdown",
   "id": "bf8be7ea",
   "metadata": {},
   "source": [
    "### Deep Copy of Tianshou Batch"
   ]
  },
  {
   "cell_type": "code",
   "execution_count": 18,
   "id": "91998e6f",
   "metadata": {
    "execution": {
     "iopub.execute_input": "2023-10-22T16:06:54.697737Z",
     "iopub.status.busy": "2023-10-22T16:06:54.696900Z",
     "iopub.status.idle": "2023-10-22T16:07:09.007734Z",
     "shell.execute_reply": "2023-10-22T16:07:09.006813Z"
    }
   },
   "outputs": [
    {
     "name": "stdout",
     "output_type": "stream",
     "text": [
      "176 µs ± 3.59 µs per loop (mean ± std. dev. of 7 runs, 10,000 loops each)\n"
     ]
    }
   ],
   "source": [
    "b3 = Batch(**_TREE_DATA_3)\n",
    "%timeit copy.deepcopy(b3)"
   ]
  },
  {
   "cell_type": "markdown",
   "id": "223162fb",
   "metadata": {},
   "source": [
    "## Stack, Concat and Split Operation"
   ]
  },
  {
   "cell_type": "markdown",
   "id": "85fa4a73",
   "metadata": {},
   "source": [
    "### Performance of TreeValue"
   ]
  },
  {
   "cell_type": "code",
   "execution_count": 19,
   "id": "a0c2b697",
   "metadata": {
    "execution": {
     "iopub.execute_input": "2023-10-22T16:07:09.011933Z",
     "iopub.status.busy": "2023-10-22T16:07:09.011366Z",
     "iopub.status.idle": "2023-10-22T16:07:09.016863Z",
     "shell.execute_reply": "2023-10-22T16:07:09.016155Z"
    }
   },
   "outputs": [],
   "source": [
    "trees = [FastTreeValue(_TREE_DATA_2) for _ in range(8)]"
   ]
  },
  {
   "cell_type": "code",
   "execution_count": 20,
   "id": "017ea5a5",
   "metadata": {
    "execution": {
     "iopub.execute_input": "2023-10-22T16:07:09.020646Z",
     "iopub.status.busy": "2023-10-22T16:07:09.019961Z",
     "iopub.status.idle": "2023-10-22T16:07:09.030286Z",
     "shell.execute_reply": "2023-10-22T16:07:09.029572Z"
    }
   },
   "outputs": [
    {
     "data": {
      "text/plain": [
       "<FastTreeValue 0x7f7d54d98e50>\n",
       "├── 'a' --> tensor([[[-0.1275,  2.1602, -1.6760],\n",
       "│                    [-0.3528,  0.0810, -0.5175]],\n",
       "│           \n",
       "│                   [[-0.1275,  2.1602, -1.6760],\n",
       "│                    [-0.3528,  0.0810, -0.5175]],\n",
       "│           \n",
       "│                   [[-0.1275,  2.1602, -1.6760],\n",
       "│                    [-0.3528,  0.0810, -0.5175]],\n",
       "│           \n",
       "│                   [[-0.1275,  2.1602, -1.6760],\n",
       "│                    [-0.3528,  0.0810, -0.5175]],\n",
       "│           \n",
       "│                   [[-0.1275,  2.1602, -1.6760],\n",
       "│                    [-0.3528,  0.0810, -0.5175]],\n",
       "│           \n",
       "│                   [[-0.1275,  2.1602, -1.6760],\n",
       "│                    [-0.3528,  0.0810, -0.5175]],\n",
       "│           \n",
       "│                   [[-0.1275,  2.1602, -1.6760],\n",
       "│                    [-0.3528,  0.0810, -0.5175]],\n",
       "│           \n",
       "│                   [[-0.1275,  2.1602, -1.6760],\n",
       "│                    [-0.3528,  0.0810, -0.5175]]])\n",
       "└── 'x' --> <FastTreeValue 0x7f7d2c2bbfd0>\n",
       "    └── 'c' --> tensor([[[-0.4122,  0.3281,  0.5373,  1.0028],\n",
       "                         [-0.8598,  2.5058, -0.6549, -1.9361],\n",
       "                         [-1.7551,  0.3537,  0.3212, -0.6408]],\n",
       "                \n",
       "                        [[-0.4122,  0.3281,  0.5373,  1.0028],\n",
       "                         [-0.8598,  2.5058, -0.6549, -1.9361],\n",
       "                         [-1.7551,  0.3537,  0.3212, -0.6408]],\n",
       "                \n",
       "                        [[-0.4122,  0.3281,  0.5373,  1.0028],\n",
       "                         [-0.8598,  2.5058, -0.6549, -1.9361],\n",
       "                         [-1.7551,  0.3537,  0.3212, -0.6408]],\n",
       "                \n",
       "                        [[-0.4122,  0.3281,  0.5373,  1.0028],\n",
       "                         [-0.8598,  2.5058, -0.6549, -1.9361],\n",
       "                         [-1.7551,  0.3537,  0.3212, -0.6408]],\n",
       "                \n",
       "                        [[-0.4122,  0.3281,  0.5373,  1.0028],\n",
       "                         [-0.8598,  2.5058, -0.6549, -1.9361],\n",
       "                         [-1.7551,  0.3537,  0.3212, -0.6408]],\n",
       "                \n",
       "                        [[-0.4122,  0.3281,  0.5373,  1.0028],\n",
       "                         [-0.8598,  2.5058, -0.6549, -1.9361],\n",
       "                         [-1.7551,  0.3537,  0.3212, -0.6408]],\n",
       "                \n",
       "                        [[-0.4122,  0.3281,  0.5373,  1.0028],\n",
       "                         [-0.8598,  2.5058, -0.6549, -1.9361],\n",
       "                         [-1.7551,  0.3537,  0.3212, -0.6408]],\n",
       "                \n",
       "                        [[-0.4122,  0.3281,  0.5373,  1.0028],\n",
       "                         [-0.8598,  2.5058, -0.6549, -1.9361],\n",
       "                         [-1.7551,  0.3537,  0.3212, -0.6408]]])"
      ]
     },
     "execution_count": 20,
     "metadata": {},
     "output_type": "execute_result"
    }
   ],
   "source": [
    "t_stack = FastTreeValue.func(subside=True)(torch.stack)\n",
    "\n",
    "t_stack(trees)"
   ]
  },
  {
   "cell_type": "code",
   "execution_count": 21,
   "id": "f8b3f415",
   "metadata": {
    "execution": {
     "iopub.execute_input": "2023-10-22T16:07:09.033922Z",
     "iopub.status.busy": "2023-10-22T16:07:09.033272Z",
     "iopub.status.idle": "2023-10-22T16:07:12.238461Z",
     "shell.execute_reply": "2023-10-22T16:07:12.237495Z"
    }
   },
   "outputs": [
    {
     "name": "stdout",
     "output_type": "stream",
     "text": [
      "39.5 µs ± 91.8 ns per loop (mean ± std. dev. of 7 runs, 10,000 loops each)\n"
     ]
    }
   ],
   "source": [
    "%timeit t_stack(trees)"
   ]
  },
  {
   "cell_type": "code",
   "execution_count": 22,
   "id": "94b56771",
   "metadata": {
    "execution": {
     "iopub.execute_input": "2023-10-22T16:07:12.242811Z",
     "iopub.status.busy": "2023-10-22T16:07:12.242091Z",
     "iopub.status.idle": "2023-10-22T16:07:12.252402Z",
     "shell.execute_reply": "2023-10-22T16:07:12.251577Z"
    }
   },
   "outputs": [
    {
     "data": {
      "text/plain": [
       "<FastTreeValue 0x7f7d2c2bbf70>\n",
       "├── 'a' --> tensor([[-0.1275,  2.1602, -1.6760],\n",
       "│                   [-0.3528,  0.0810, -0.5175],\n",
       "│                   [-0.1275,  2.1602, -1.6760],\n",
       "│                   [-0.3528,  0.0810, -0.5175],\n",
       "│                   [-0.1275,  2.1602, -1.6760],\n",
       "│                   [-0.3528,  0.0810, -0.5175],\n",
       "│                   [-0.1275,  2.1602, -1.6760],\n",
       "│                   [-0.3528,  0.0810, -0.5175],\n",
       "│                   [-0.1275,  2.1602, -1.6760],\n",
       "│                   [-0.3528,  0.0810, -0.5175],\n",
       "│                   [-0.1275,  2.1602, -1.6760],\n",
       "│                   [-0.3528,  0.0810, -0.5175],\n",
       "│                   [-0.1275,  2.1602, -1.6760],\n",
       "│                   [-0.3528,  0.0810, -0.5175],\n",
       "│                   [-0.1275,  2.1602, -1.6760],\n",
       "│                   [-0.3528,  0.0810, -0.5175]])\n",
       "└── 'x' --> <FastTreeValue 0x7f7d54daff40>\n",
       "    └── 'c' --> tensor([[-0.4122,  0.3281,  0.5373,  1.0028],\n",
       "                        [-0.8598,  2.5058, -0.6549, -1.9361],\n",
       "                        [-1.7551,  0.3537,  0.3212, -0.6408],\n",
       "                        [-0.4122,  0.3281,  0.5373,  1.0028],\n",
       "                        [-0.8598,  2.5058, -0.6549, -1.9361],\n",
       "                        [-1.7551,  0.3537,  0.3212, -0.6408],\n",
       "                        [-0.4122,  0.3281,  0.5373,  1.0028],\n",
       "                        [-0.8598,  2.5058, -0.6549, -1.9361],\n",
       "                        [-1.7551,  0.3537,  0.3212, -0.6408],\n",
       "                        [-0.4122,  0.3281,  0.5373,  1.0028],\n",
       "                        [-0.8598,  2.5058, -0.6549, -1.9361],\n",
       "                        [-1.7551,  0.3537,  0.3212, -0.6408],\n",
       "                        [-0.4122,  0.3281,  0.5373,  1.0028],\n",
       "                        [-0.8598,  2.5058, -0.6549, -1.9361],\n",
       "                        [-1.7551,  0.3537,  0.3212, -0.6408],\n",
       "                        [-0.4122,  0.3281,  0.5373,  1.0028],\n",
       "                        [-0.8598,  2.5058, -0.6549, -1.9361],\n",
       "                        [-1.7551,  0.3537,  0.3212, -0.6408],\n",
       "                        [-0.4122,  0.3281,  0.5373,  1.0028],\n",
       "                        [-0.8598,  2.5058, -0.6549, -1.9361],\n",
       "                        [-1.7551,  0.3537,  0.3212, -0.6408],\n",
       "                        [-0.4122,  0.3281,  0.5373,  1.0028],\n",
       "                        [-0.8598,  2.5058, -0.6549, -1.9361],\n",
       "                        [-1.7551,  0.3537,  0.3212, -0.6408]])"
      ]
     },
     "execution_count": 22,
     "metadata": {},
     "output_type": "execute_result"
    }
   ],
   "source": [
    "t_cat = FastTreeValue.func(subside=True)(torch.cat)\n",
    "\n",
    "t_cat(trees)"
   ]
  },
  {
   "cell_type": "code",
   "execution_count": 23,
   "id": "5e9c06a6",
   "metadata": {
    "execution": {
     "iopub.execute_input": "2023-10-22T16:07:12.256276Z",
     "iopub.status.busy": "2023-10-22T16:07:12.255745Z",
     "iopub.status.idle": "2023-10-22T16:07:15.255871Z",
     "shell.execute_reply": "2023-10-22T16:07:15.254620Z"
    }
   },
   "outputs": [
    {
     "name": "stdout",
     "output_type": "stream",
     "text": [
      "36.7 µs ± 528 ns per loop (mean ± std. dev. of 7 runs, 10,000 loops each)\n"
     ]
    }
   ],
   "source": [
    "%timeit t_cat(trees)"
   ]
  },
  {
   "cell_type": "code",
   "execution_count": 24,
   "id": "a3ab5c8f",
   "metadata": {
    "execution": {
     "iopub.execute_input": "2023-10-22T16:07:15.259918Z",
     "iopub.status.busy": "2023-10-22T16:07:15.259350Z",
     "iopub.status.idle": "2023-10-22T16:07:21.291376Z",
     "shell.execute_reply": "2023-10-22T16:07:21.290273Z"
    }
   },
   "outputs": [
    {
     "name": "stdout",
     "output_type": "stream",
     "text": [
      "74.3 µs ± 790 ns per loop (mean ± std. dev. of 7 runs, 10,000 loops each)\n"
     ]
    }
   ],
   "source": [
    "t_split = FastTreeValue.func(rise=True)(torch.split)\n",
    "tree = FastTreeValue({\n",
    "    'obs': torch.randn(8, 4, 84, 84),\n",
    "    'action': torch.randint(0, 6, size=(8, 1,)),\n",
    "    'reward': torch.rand(8, 1),\n",
    "})\n",
    "\n",
    "%timeit t_split(tree, 1)"
   ]
  },
  {
   "cell_type": "markdown",
   "id": "31c3ec0b",
   "metadata": {},
   "source": [
    "### Performance of Tianshou Batch"
   ]
  },
  {
   "cell_type": "code",
   "execution_count": 25,
   "id": "9ead828a",
   "metadata": {
    "execution": {
     "iopub.execute_input": "2023-10-22T16:07:21.296350Z",
     "iopub.status.busy": "2023-10-22T16:07:21.295634Z",
     "iopub.status.idle": "2023-10-22T16:07:21.306088Z",
     "shell.execute_reply": "2023-10-22T16:07:21.305433Z"
    }
   },
   "outputs": [
    {
     "data": {
      "text/plain": [
       "Batch(\n",
       "    a: tensor([[[-0.1275,  2.1602, -1.6760],\n",
       "                [-0.3528,  0.0810, -0.5175]],\n",
       "       \n",
       "               [[-0.1275,  2.1602, -1.6760],\n",
       "                [-0.3528,  0.0810, -0.5175]],\n",
       "       \n",
       "               [[-0.1275,  2.1602, -1.6760],\n",
       "                [-0.3528,  0.0810, -0.5175]],\n",
       "       \n",
       "               [[-0.1275,  2.1602, -1.6760],\n",
       "                [-0.3528,  0.0810, -0.5175]],\n",
       "       \n",
       "               [[-0.1275,  2.1602, -1.6760],\n",
       "                [-0.3528,  0.0810, -0.5175]],\n",
       "       \n",
       "               [[-0.1275,  2.1602, -1.6760],\n",
       "                [-0.3528,  0.0810, -0.5175]],\n",
       "       \n",
       "               [[-0.1275,  2.1602, -1.6760],\n",
       "                [-0.3528,  0.0810, -0.5175]],\n",
       "       \n",
       "               [[-0.1275,  2.1602, -1.6760],\n",
       "                [-0.3528,  0.0810, -0.5175]]]),\n",
       "    x: Batch(\n",
       "           c: tensor([[[-0.4122,  0.3281,  0.5373,  1.0028],\n",
       "                       [-0.8598,  2.5058, -0.6549, -1.9361],\n",
       "                       [-1.7551,  0.3537,  0.3212, -0.6408]],\n",
       "              \n",
       "                      [[-0.4122,  0.3281,  0.5373,  1.0028],\n",
       "                       [-0.8598,  2.5058, -0.6549, -1.9361],\n",
       "                       [-1.7551,  0.3537,  0.3212, -0.6408]],\n",
       "              \n",
       "                      [[-0.4122,  0.3281,  0.5373,  1.0028],\n",
       "                       [-0.8598,  2.5058, -0.6549, -1.9361],\n",
       "                       [-1.7551,  0.3537,  0.3212, -0.6408]],\n",
       "              \n",
       "                      [[-0.4122,  0.3281,  0.5373,  1.0028],\n",
       "                       [-0.8598,  2.5058, -0.6549, -1.9361],\n",
       "                       [-1.7551,  0.3537,  0.3212, -0.6408]],\n",
       "              \n",
       "                      [[-0.4122,  0.3281,  0.5373,  1.0028],\n",
       "                       [-0.8598,  2.5058, -0.6549, -1.9361],\n",
       "                       [-1.7551,  0.3537,  0.3212, -0.6408]],\n",
       "              \n",
       "                      [[-0.4122,  0.3281,  0.5373,  1.0028],\n",
       "                       [-0.8598,  2.5058, -0.6549, -1.9361],\n",
       "                       [-1.7551,  0.3537,  0.3212, -0.6408]],\n",
       "              \n",
       "                      [[-0.4122,  0.3281,  0.5373,  1.0028],\n",
       "                       [-0.8598,  2.5058, -0.6549, -1.9361],\n",
       "                       [-1.7551,  0.3537,  0.3212, -0.6408]],\n",
       "              \n",
       "                      [[-0.4122,  0.3281,  0.5373,  1.0028],\n",
       "                       [-0.8598,  2.5058, -0.6549, -1.9361],\n",
       "                       [-1.7551,  0.3537,  0.3212, -0.6408]]]),\n",
       "       ),\n",
       ")"
      ]
     },
     "execution_count": 25,
     "metadata": {},
     "output_type": "execute_result"
    }
   ],
   "source": [
    "batches = [Batch(**_TREE_DATA_2) for _ in range(8)]\n",
    "\n",
    "Batch.stack(batches)"
   ]
  },
  {
   "cell_type": "code",
   "execution_count": 26,
   "id": "ec9037a3",
   "metadata": {
    "execution": {
     "iopub.execute_input": "2023-10-22T16:07:21.309786Z",
     "iopub.status.busy": "2023-10-22T16:07:21.309288Z",
     "iopub.status.idle": "2023-10-22T16:07:29.239715Z",
     "shell.execute_reply": "2023-10-22T16:07:29.238641Z"
    }
   },
   "outputs": [
    {
     "name": "stdout",
     "output_type": "stream",
     "text": [
      "97.4 µs ± 934 ns per loop (mean ± std. dev. of 7 runs, 10,000 loops each)\n"
     ]
    }
   ],
   "source": [
    "%timeit Batch.stack(batches)"
   ]
  },
  {
   "cell_type": "code",
   "execution_count": 27,
   "id": "cb8ab77e",
   "metadata": {
    "execution": {
     "iopub.execute_input": "2023-10-22T16:07:29.244154Z",
     "iopub.status.busy": "2023-10-22T16:07:29.243416Z",
     "iopub.status.idle": "2023-10-22T16:07:29.253756Z",
     "shell.execute_reply": "2023-10-22T16:07:29.253012Z"
    }
   },
   "outputs": [
    {
     "data": {
      "text/plain": [
       "Batch(\n",
       "    a: tensor([[-0.1275,  2.1602, -1.6760],\n",
       "               [-0.3528,  0.0810, -0.5175],\n",
       "               [-0.1275,  2.1602, -1.6760],\n",
       "               [-0.3528,  0.0810, -0.5175],\n",
       "               [-0.1275,  2.1602, -1.6760],\n",
       "               [-0.3528,  0.0810, -0.5175],\n",
       "               [-0.1275,  2.1602, -1.6760],\n",
       "               [-0.3528,  0.0810, -0.5175],\n",
       "               [-0.1275,  2.1602, -1.6760],\n",
       "               [-0.3528,  0.0810, -0.5175],\n",
       "               [-0.1275,  2.1602, -1.6760],\n",
       "               [-0.3528,  0.0810, -0.5175],\n",
       "               [-0.1275,  2.1602, -1.6760],\n",
       "               [-0.3528,  0.0810, -0.5175],\n",
       "               [-0.1275,  2.1602, -1.6760],\n",
       "               [-0.3528,  0.0810, -0.5175]]),\n",
       "    x: Batch(\n",
       "           c: tensor([[-0.4122,  0.3281,  0.5373,  1.0028],\n",
       "                      [-0.8598,  2.5058, -0.6549, -1.9361],\n",
       "                      [-1.7551,  0.3537,  0.3212, -0.6408],\n",
       "                      [-0.4122,  0.3281,  0.5373,  1.0028],\n",
       "                      [-0.8598,  2.5058, -0.6549, -1.9361],\n",
       "                      [-1.7551,  0.3537,  0.3212, -0.6408],\n",
       "                      [-0.4122,  0.3281,  0.5373,  1.0028],\n",
       "                      [-0.8598,  2.5058, -0.6549, -1.9361],\n",
       "                      [-1.7551,  0.3537,  0.3212, -0.6408],\n",
       "                      [-0.4122,  0.3281,  0.5373,  1.0028],\n",
       "                      [-0.8598,  2.5058, -0.6549, -1.9361],\n",
       "                      [-1.7551,  0.3537,  0.3212, -0.6408],\n",
       "                      [-0.4122,  0.3281,  0.5373,  1.0028],\n",
       "                      [-0.8598,  2.5058, -0.6549, -1.9361],\n",
       "                      [-1.7551,  0.3537,  0.3212, -0.6408],\n",
       "                      [-0.4122,  0.3281,  0.5373,  1.0028],\n",
       "                      [-0.8598,  2.5058, -0.6549, -1.9361],\n",
       "                      [-1.7551,  0.3537,  0.3212, -0.6408],\n",
       "                      [-0.4122,  0.3281,  0.5373,  1.0028],\n",
       "                      [-0.8598,  2.5058, -0.6549, -1.9361],\n",
       "                      [-1.7551,  0.3537,  0.3212, -0.6408],\n",
       "                      [-0.4122,  0.3281,  0.5373,  1.0028],\n",
       "                      [-0.8598,  2.5058, -0.6549, -1.9361],\n",
       "                      [-1.7551,  0.3537,  0.3212, -0.6408]]),\n",
       "       ),\n",
       ")"
      ]
     },
     "execution_count": 27,
     "metadata": {},
     "output_type": "execute_result"
    }
   ],
   "source": [
    "Batch.cat(batches)"
   ]
  },
  {
   "cell_type": "code",
   "execution_count": 28,
   "id": "18dfb045",
   "metadata": {
    "execution": {
     "iopub.execute_input": "2023-10-22T16:07:29.257631Z",
     "iopub.status.busy": "2023-10-22T16:07:29.257076Z",
     "iopub.status.idle": "2023-10-22T16:07:43.738181Z",
     "shell.execute_reply": "2023-10-22T16:07:43.736924Z"
    }
   },
   "outputs": [
    {
     "name": "stdout",
     "output_type": "stream",
     "text": [
      "178 µs ± 1.25 µs per loop (mean ± std. dev. of 7 runs, 10,000 loops each)\n"
     ]
    }
   ],
   "source": [
    "%timeit Batch.cat(batches)"
   ]
  },
  {
   "cell_type": "code",
   "execution_count": 29,
   "id": "c6688e51",
   "metadata": {
    "execution": {
     "iopub.execute_input": "2023-10-22T16:07:43.743052Z",
     "iopub.status.busy": "2023-10-22T16:07:43.742450Z",
     "iopub.status.idle": "2023-10-22T16:07:47.456849Z",
     "shell.execute_reply": "2023-10-22T16:07:47.455915Z"
    }
   },
   "outputs": [
    {
     "name": "stdout",
     "output_type": "stream",
     "text": [
      "453 µs ± 18.5 µs per loop (mean ± std. dev. of 7 runs, 1,000 loops each)\n"
     ]
    }
   ],
   "source": [
    "batch = Batch({\n",
    "    'obs': torch.randn(8, 4, 84, 84),\n",
    "    'action': torch.randint(0, 6, size=(8, 1,)),\n",
    "    'reward': torch.rand(8, 1)}\n",
    ")\n",
    "\n",
    "%timeit list(Batch.split(batch, 1, shuffle=False, merge_last=True))"
   ]
  },
  {
   "cell_type": "code",
   "execution_count": null,
   "id": "2539fbd9",
   "metadata": {},
   "outputs": [],
   "source": []
  }
 ],
 "metadata": {
  "kernelspec": {
   "display_name": "Python 3 (ipykernel)",
   "language": "python",
   "name": "python3"
  },
  "language_info": {
   "codemirror_mode": {
    "name": "ipython",
    "version": 3
   },
   "file_extension": ".py",
   "mimetype": "text/x-python",
   "name": "python",
   "nbconvert_exporter": "python",
   "pygments_lexer": "ipython3",
   "version": "3.8.18"
  }
 },
 "nbformat": 4,
 "nbformat_minor": 5
}
