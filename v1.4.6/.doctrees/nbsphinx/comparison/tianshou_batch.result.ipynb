{
 "cells": [
  {
   "cell_type": "markdown",
   "id": "9d39d946",
   "metadata": {},
   "source": [
    "# Comparison Between TreeValue and Tianshou Batch"
   ]
  },
  {
   "cell_type": "markdown",
   "id": "3c6db2d4",
   "metadata": {},
   "source": [
    "In this section, we will take a look at the feature and performance of the [Tianshou Batch](https://github.com/thu-ml/tianshou) library, which is developed by Tsinghua Machine Learning Group."
   ]
  },
  {
   "cell_type": "markdown",
   "id": "069361b0",
   "metadata": {},
   "source": [
    "Before starting the comparison, let us define some thing."
   ]
  },
  {
   "cell_type": "code",
   "execution_count": 1,
   "id": "06fc8d26",
   "metadata": {
    "execution": {
     "iopub.execute_input": "2023-10-22T15:30:04.486508Z",
     "iopub.status.busy": "2023-10-22T15:30:04.485980Z",
     "iopub.status.idle": "2023-10-22T15:30:06.155873Z",
     "shell.execute_reply": "2023-10-22T15:30:06.154773Z"
    }
   },
   "outputs": [],
   "source": [
    "import torch \n",
    "\n",
    "_TREE_DATA_1 = {'a': 1, 'b': 2, 'x': {'c': 3, 'd': 4}}\n",
    "_TREE_DATA_2 = {\n",
    "    'a': torch.randn(2, 3), \n",
    "    'x': {\n",
    "        'c': torch.randn(3, 4)\n",
    "    },\n",
    "}\n",
    "_TREE_DATA_3 = {\n",
    "    'obs': torch.randn(4, 84, 84),\n",
    "    'action': torch.randint(0, 6, size=(1,)),\n",
    "    'reward': torch.rand(1),\n",
    "}"
   ]
  },
  {
   "cell_type": "markdown",
   "id": "83461b25",
   "metadata": {},
   "source": [
    "## Read and Write Operation"
   ]
  },
  {
   "cell_type": "markdown",
   "id": "067b3f73",
   "metadata": {},
   "source": [
    "Reading and writing are the two most common operations in the tree data structure based on the data model (TreeValue and Tianshou Batch both belong to this type), so this section will compare the reading and writing performance of these two libraries."
   ]
  },
  {
   "cell_type": "markdown",
   "id": "5d09a5b7",
   "metadata": {},
   "source": [
    "### TreeValue's Get and Set"
   ]
  },
  {
   "cell_type": "code",
   "execution_count": 2,
   "id": "9519c4bb",
   "metadata": {
    "execution": {
     "iopub.execute_input": "2023-10-22T15:30:06.161773Z",
     "iopub.status.busy": "2023-10-22T15:30:06.160113Z",
     "iopub.status.idle": "2023-10-22T15:30:06.499067Z",
     "shell.execute_reply": "2023-10-22T15:30:06.498261Z"
    }
   },
   "outputs": [],
   "source": [
    "from treevalue import FastTreeValue\n",
    "\n",
    "t = FastTreeValue(_TREE_DATA_2)"
   ]
  },
  {
   "cell_type": "code",
   "execution_count": 3,
   "id": "11c37677",
   "metadata": {
    "execution": {
     "iopub.execute_input": "2023-10-22T15:30:06.503732Z",
     "iopub.status.busy": "2023-10-22T15:30:06.503006Z",
     "iopub.status.idle": "2023-10-22T15:30:06.515008Z",
     "shell.execute_reply": "2023-10-22T15:30:06.514307Z"
    }
   },
   "outputs": [
    {
     "data": {
      "text/plain": [
       "<FastTreeValue 0x7fdf7c996df0>\n",
       "├── 'a' --> tensor([[-0.3994,  0.0602, -0.6460],\n",
       "│                   [ 0.5714, -0.2030,  0.5095]])\n",
       "└── 'x' --> <FastTreeValue 0x7fdf7c996f70>\n",
       "    └── 'c' --> tensor([[-1.1050,  0.2551,  0.2071,  0.6705],\n",
       "                        [-0.1900, -1.2521,  0.0025, -1.1509],\n",
       "                        [-0.8992, -0.0948, -0.5590, -0.1117]])"
      ]
     },
     "execution_count": 3,
     "metadata": {},
     "output_type": "execute_result"
    }
   ],
   "source": [
    "t"
   ]
  },
  {
   "cell_type": "code",
   "execution_count": 4,
   "id": "fd70b0b9",
   "metadata": {
    "execution": {
     "iopub.execute_input": "2023-10-22T15:30:06.518369Z",
     "iopub.status.busy": "2023-10-22T15:30:06.517916Z",
     "iopub.status.idle": "2023-10-22T15:30:06.525167Z",
     "shell.execute_reply": "2023-10-22T15:30:06.524555Z"
    }
   },
   "outputs": [
    {
     "data": {
      "text/plain": [
       "tensor([[-0.3994,  0.0602, -0.6460],\n",
       "        [ 0.5714, -0.2030,  0.5095]])"
      ]
     },
     "execution_count": 4,
     "metadata": {},
     "output_type": "execute_result"
    }
   ],
   "source": [
    "t.a"
   ]
  },
  {
   "cell_type": "code",
   "execution_count": 5,
   "id": "c18197bd",
   "metadata": {
    "execution": {
     "iopub.execute_input": "2023-10-22T15:30:06.528315Z",
     "iopub.status.busy": "2023-10-22T15:30:06.527868Z",
     "iopub.status.idle": "2023-10-22T15:30:13.047016Z",
     "shell.execute_reply": "2023-10-22T15:30:13.046167Z"
    }
   },
   "outputs": [
    {
     "name": "stdout",
     "output_type": "stream",
     "text": [
      "80.3 ns ± 0.232 ns per loop (mean ± std. dev. of 7 runs, 10,000,000 loops each)\n"
     ]
    }
   ],
   "source": [
    "%timeit t.a"
   ]
  },
  {
   "cell_type": "code",
   "execution_count": 6,
   "id": "bd52f867",
   "metadata": {
    "execution": {
     "iopub.execute_input": "2023-10-22T15:30:13.050740Z",
     "iopub.status.busy": "2023-10-22T15:30:13.050108Z",
     "iopub.status.idle": "2023-10-22T15:30:13.058000Z",
     "shell.execute_reply": "2023-10-22T15:30:13.057342Z"
    }
   },
   "outputs": [
    {
     "data": {
      "text/plain": [
       "<FastTreeValue 0x7fdf7c996df0>\n",
       "├── 'a' --> tensor([[-0.4609, -1.7587, -0.6691],\n",
       "│                   [ 0.0799,  0.5912,  0.0304]])\n",
       "└── 'x' --> <FastTreeValue 0x7fdf7c996f70>\n",
       "    └── 'c' --> tensor([[-1.1050,  0.2551,  0.2071,  0.6705],\n",
       "                        [-0.1900, -1.2521,  0.0025, -1.1509],\n",
       "                        [-0.8992, -0.0948, -0.5590, -0.1117]])"
      ]
     },
     "execution_count": 6,
     "metadata": {},
     "output_type": "execute_result"
    }
   ],
   "source": [
    "new_value = torch.randn(2, 3)\n",
    "t.a = new_value\n",
    "\n",
    "t"
   ]
  },
  {
   "cell_type": "code",
   "execution_count": 7,
   "id": "bbe04d1c",
   "metadata": {
    "execution": {
     "iopub.execute_input": "2023-10-22T15:30:13.061366Z",
     "iopub.status.busy": "2023-10-22T15:30:13.060772Z",
     "iopub.status.idle": "2023-10-22T15:30:19.915038Z",
     "shell.execute_reply": "2023-10-22T15:30:19.914250Z"
    }
   },
   "outputs": [
    {
     "name": "stdout",
     "output_type": "stream",
     "text": [
      "84.4 ns ± 0.105 ns per loop (mean ± std. dev. of 7 runs, 10,000,000 loops each)\n"
     ]
    }
   ],
   "source": [
    "%timeit t.a = new_value"
   ]
  },
  {
   "cell_type": "markdown",
   "id": "48c49731",
   "metadata": {},
   "source": [
    "### Tianshou Batch's Get and Set"
   ]
  },
  {
   "cell_type": "code",
   "execution_count": 8,
   "id": "f1bb14c1",
   "metadata": {
    "execution": {
     "iopub.execute_input": "2023-10-22T15:30:19.919140Z",
     "iopub.status.busy": "2023-10-22T15:30:19.918518Z",
     "iopub.status.idle": "2023-10-22T15:30:20.348378Z",
     "shell.execute_reply": "2023-10-22T15:30:20.347247Z"
    }
   },
   "outputs": [],
   "source": [
    "from tianshou.data import Batch\n",
    "\n",
    "b = Batch(**_TREE_DATA_2)"
   ]
  },
  {
   "cell_type": "code",
   "execution_count": 9,
   "id": "cb0777c3",
   "metadata": {
    "execution": {
     "iopub.execute_input": "2023-10-22T15:30:20.352342Z",
     "iopub.status.busy": "2023-10-22T15:30:20.351801Z",
     "iopub.status.idle": "2023-10-22T15:30:20.360696Z",
     "shell.execute_reply": "2023-10-22T15:30:20.360061Z"
    }
   },
   "outputs": [
    {
     "data": {
      "text/plain": [
       "Batch(\n",
       "    a: tensor([[-0.3994,  0.0602, -0.6460],\n",
       "               [ 0.5714, -0.2030,  0.5095]]),\n",
       "    x: Batch(\n",
       "           c: tensor([[-1.1050,  0.2551,  0.2071,  0.6705],\n",
       "                      [-0.1900, -1.2521,  0.0025, -1.1509],\n",
       "                      [-0.8992, -0.0948, -0.5590, -0.1117]]),\n",
       "       ),\n",
       ")"
      ]
     },
     "execution_count": 9,
     "metadata": {},
     "output_type": "execute_result"
    }
   ],
   "source": [
    "b"
   ]
  },
  {
   "cell_type": "code",
   "execution_count": 10,
   "id": "43ef8ea3",
   "metadata": {
    "execution": {
     "iopub.execute_input": "2023-10-22T15:30:20.363693Z",
     "iopub.status.busy": "2023-10-22T15:30:20.363327Z",
     "iopub.status.idle": "2023-10-22T15:30:20.371615Z",
     "shell.execute_reply": "2023-10-22T15:30:20.370878Z"
    }
   },
   "outputs": [
    {
     "data": {
      "text/plain": [
       "tensor([[-0.3994,  0.0602, -0.6460],\n",
       "        [ 0.5714, -0.2030,  0.5095]])"
      ]
     },
     "execution_count": 10,
     "metadata": {},
     "output_type": "execute_result"
    }
   ],
   "source": [
    "b.a"
   ]
  },
  {
   "cell_type": "code",
   "execution_count": 11,
   "id": "b785ab72",
   "metadata": {
    "execution": {
     "iopub.execute_input": "2023-10-22T15:30:20.375030Z",
     "iopub.status.busy": "2023-10-22T15:30:20.374345Z",
     "iopub.status.idle": "2023-10-22T15:30:25.742161Z",
     "shell.execute_reply": "2023-10-22T15:30:25.741163Z"
    }
   },
   "outputs": [
    {
     "name": "stdout",
     "output_type": "stream",
     "text": [
      "66 ns ± 0.133 ns per loop (mean ± std. dev. of 7 runs, 10,000,000 loops each)\n"
     ]
    }
   ],
   "source": [
    "%timeit b.a"
   ]
  },
  {
   "cell_type": "code",
   "execution_count": 12,
   "id": "ad54dc69",
   "metadata": {
    "execution": {
     "iopub.execute_input": "2023-10-22T15:30:25.746439Z",
     "iopub.status.busy": "2023-10-22T15:30:25.745887Z",
     "iopub.status.idle": "2023-10-22T15:30:25.759166Z",
     "shell.execute_reply": "2023-10-22T15:30:25.758454Z"
    }
   },
   "outputs": [
    {
     "data": {
      "text/plain": [
       "Batch(\n",
       "    a: tensor([[ 1.5740, -0.4757,  1.0811],\n",
       "               [-0.8665,  0.0288,  0.2384]]),\n",
       "    x: Batch(\n",
       "           c: tensor([[-1.1050,  0.2551,  0.2071,  0.6705],\n",
       "                      [-0.1900, -1.2521,  0.0025, -1.1509],\n",
       "                      [-0.8992, -0.0948, -0.5590, -0.1117]]),\n",
       "       ),\n",
       ")"
      ]
     },
     "execution_count": 12,
     "metadata": {},
     "output_type": "execute_result"
    }
   ],
   "source": [
    "new_value = torch.randn(2, 3)\n",
    "b.a = new_value\n",
    "\n",
    "b"
   ]
  },
  {
   "cell_type": "code",
   "execution_count": 13,
   "id": "29b1d0bf",
   "metadata": {
    "execution": {
     "iopub.execute_input": "2023-10-22T15:30:25.762736Z",
     "iopub.status.busy": "2023-10-22T15:30:25.762238Z",
     "iopub.status.idle": "2023-10-22T15:30:30.228244Z",
     "shell.execute_reply": "2023-10-22T15:30:30.227345Z"
    }
   },
   "outputs": [
    {
     "name": "stdout",
     "output_type": "stream",
     "text": [
      "546 ns ± 3.06 ns per loop (mean ± std. dev. of 7 runs, 1,000,000 loops each)\n"
     ]
    }
   ],
   "source": [
    "%timeit b.a = new_value"
   ]
  },
  {
   "cell_type": "markdown",
   "id": "b61ad1d0",
   "metadata": {},
   "source": [
    "## Initialization"
   ]
  },
  {
   "cell_type": "markdown",
   "id": "d70f0d54",
   "metadata": {},
   "source": [
    "### TreeValue's Initialization"
   ]
  },
  {
   "cell_type": "code",
   "execution_count": 14,
   "id": "d32a679b",
   "metadata": {
    "execution": {
     "iopub.execute_input": "2023-10-22T15:30:30.232336Z",
     "iopub.status.busy": "2023-10-22T15:30:30.231745Z",
     "iopub.status.idle": "2023-10-22T15:30:37.417298Z",
     "shell.execute_reply": "2023-10-22T15:30:37.416430Z"
    }
   },
   "outputs": [
    {
     "name": "stdout",
     "output_type": "stream",
     "text": [
      "885 ns ± 0.974 ns per loop (mean ± std. dev. of 7 runs, 1,000,000 loops each)\n"
     ]
    }
   ],
   "source": [
    "%timeit FastTreeValue(_TREE_DATA_1)"
   ]
  },
  {
   "cell_type": "markdown",
   "id": "24f3707b",
   "metadata": {},
   "source": [
    "### Tianshou Batch's Initialization"
   ]
  },
  {
   "cell_type": "code",
   "execution_count": 15,
   "id": "ac3958df",
   "metadata": {
    "execution": {
     "iopub.execute_input": "2023-10-22T15:30:37.421398Z",
     "iopub.status.busy": "2023-10-22T15:30:37.420752Z",
     "iopub.status.idle": "2023-10-22T15:30:46.690001Z",
     "shell.execute_reply": "2023-10-22T15:30:46.689190Z"
    }
   },
   "outputs": [
    {
     "name": "stdout",
     "output_type": "stream",
     "text": [
      "11.4 µs ± 10.8 ns per loop (mean ± std. dev. of 7 runs, 100,000 loops each)\n"
     ]
    }
   ],
   "source": [
    "%timeit Batch(**_TREE_DATA_1)"
   ]
  },
  {
   "cell_type": "markdown",
   "id": "1ab82e2d",
   "metadata": {},
   "source": [
    "## Deep Copy Operation"
   ]
  },
  {
   "cell_type": "code",
   "execution_count": 16,
   "id": "210a9442",
   "metadata": {
    "execution": {
     "iopub.execute_input": "2023-10-22T15:30:46.693847Z",
     "iopub.status.busy": "2023-10-22T15:30:46.693383Z",
     "iopub.status.idle": "2023-10-22T15:30:46.696920Z",
     "shell.execute_reply": "2023-10-22T15:30:46.696200Z"
    }
   },
   "outputs": [],
   "source": [
    "import copy"
   ]
  },
  {
   "cell_type": "markdown",
   "id": "5a736274",
   "metadata": {},
   "source": [
    "### Deep Copy of TreeValue"
   ]
  },
  {
   "cell_type": "code",
   "execution_count": 17,
   "id": "f9bcadd6",
   "metadata": {
    "execution": {
     "iopub.execute_input": "2023-10-22T15:30:46.700552Z",
     "iopub.status.busy": "2023-10-22T15:30:46.699977Z",
     "iopub.status.idle": "2023-10-22T15:30:58.820991Z",
     "shell.execute_reply": "2023-10-22T15:30:58.820259Z"
    }
   },
   "outputs": [
    {
     "name": "stdout",
     "output_type": "stream",
     "text": [
      "149 µs ± 801 ns per loop (mean ± std. dev. of 7 runs, 10,000 loops each)\n"
     ]
    }
   ],
   "source": [
    "t3 = FastTreeValue(_TREE_DATA_3)\n",
    "%timeit copy.deepcopy(t3)"
   ]
  },
  {
   "cell_type": "markdown",
   "id": "bf8be7ea",
   "metadata": {},
   "source": [
    "### Deep Copy of Tianshou Batch"
   ]
  },
  {
   "cell_type": "code",
   "execution_count": 18,
   "id": "91998e6f",
   "metadata": {
    "execution": {
     "iopub.execute_input": "2023-10-22T15:30:58.824570Z",
     "iopub.status.busy": "2023-10-22T15:30:58.824051Z",
     "iopub.status.idle": "2023-10-22T15:31:10.929523Z",
     "shell.execute_reply": "2023-10-22T15:31:10.928832Z"
    }
   },
   "outputs": [
    {
     "name": "stdout",
     "output_type": "stream",
     "text": [
      "149 µs ± 1.99 µs per loop (mean ± std. dev. of 7 runs, 10,000 loops each)\n"
     ]
    }
   ],
   "source": [
    "b3 = Batch(**_TREE_DATA_3)\n",
    "%timeit copy.deepcopy(b3)"
   ]
  },
  {
   "cell_type": "markdown",
   "id": "223162fb",
   "metadata": {},
   "source": [
    "## Stack, Concat and Split Operation"
   ]
  },
  {
   "cell_type": "markdown",
   "id": "85fa4a73",
   "metadata": {},
   "source": [
    "### Performance of TreeValue"
   ]
  },
  {
   "cell_type": "code",
   "execution_count": 19,
   "id": "a0c2b697",
   "metadata": {
    "execution": {
     "iopub.execute_input": "2023-10-22T15:31:10.933727Z",
     "iopub.status.busy": "2023-10-22T15:31:10.932996Z",
     "iopub.status.idle": "2023-10-22T15:31:10.936701Z",
     "shell.execute_reply": "2023-10-22T15:31:10.936132Z"
    }
   },
   "outputs": [],
   "source": [
    "trees = [FastTreeValue(_TREE_DATA_2) for _ in range(8)]"
   ]
  },
  {
   "cell_type": "code",
   "execution_count": 20,
   "id": "017ea5a5",
   "metadata": {
    "execution": {
     "iopub.execute_input": "2023-10-22T15:31:10.939772Z",
     "iopub.status.busy": "2023-10-22T15:31:10.939172Z",
     "iopub.status.idle": "2023-10-22T15:31:10.946774Z",
     "shell.execute_reply": "2023-10-22T15:31:10.946161Z"
    }
   },
   "outputs": [
    {
     "data": {
      "text/plain": [
       "<FastTreeValue 0x7fdf7c9a19d0>\n",
       "├── 'a' --> tensor([[[-0.3994,  0.0602, -0.6460],\n",
       "│                    [ 0.5714, -0.2030,  0.5095]],\n",
       "│           \n",
       "│                   [[-0.3994,  0.0602, -0.6460],\n",
       "│                    [ 0.5714, -0.2030,  0.5095]],\n",
       "│           \n",
       "│                   [[-0.3994,  0.0602, -0.6460],\n",
       "│                    [ 0.5714, -0.2030,  0.5095]],\n",
       "│           \n",
       "│                   [[-0.3994,  0.0602, -0.6460],\n",
       "│                    [ 0.5714, -0.2030,  0.5095]],\n",
       "│           \n",
       "│                   [[-0.3994,  0.0602, -0.6460],\n",
       "│                    [ 0.5714, -0.2030,  0.5095]],\n",
       "│           \n",
       "│                   [[-0.3994,  0.0602, -0.6460],\n",
       "│                    [ 0.5714, -0.2030,  0.5095]],\n",
       "│           \n",
       "│                   [[-0.3994,  0.0602, -0.6460],\n",
       "│                    [ 0.5714, -0.2030,  0.5095]],\n",
       "│           \n",
       "│                   [[-0.3994,  0.0602, -0.6460],\n",
       "│                    [ 0.5714, -0.2030,  0.5095]]])\n",
       "└── 'x' --> <FastTreeValue 0x7fdf7c9a1ac0>\n",
       "    └── 'c' --> tensor([[[-1.1050,  0.2551,  0.2071,  0.6705],\n",
       "                         [-0.1900, -1.2521,  0.0025, -1.1509],\n",
       "                         [-0.8992, -0.0948, -0.5590, -0.1117]],\n",
       "                \n",
       "                        [[-1.1050,  0.2551,  0.2071,  0.6705],\n",
       "                         [-0.1900, -1.2521,  0.0025, -1.1509],\n",
       "                         [-0.8992, -0.0948, -0.5590, -0.1117]],\n",
       "                \n",
       "                        [[-1.1050,  0.2551,  0.2071,  0.6705],\n",
       "                         [-0.1900, -1.2521,  0.0025, -1.1509],\n",
       "                         [-0.8992, -0.0948, -0.5590, -0.1117]],\n",
       "                \n",
       "                        [[-1.1050,  0.2551,  0.2071,  0.6705],\n",
       "                         [-0.1900, -1.2521,  0.0025, -1.1509],\n",
       "                         [-0.8992, -0.0948, -0.5590, -0.1117]],\n",
       "                \n",
       "                        [[-1.1050,  0.2551,  0.2071,  0.6705],\n",
       "                         [-0.1900, -1.2521,  0.0025, -1.1509],\n",
       "                         [-0.8992, -0.0948, -0.5590, -0.1117]],\n",
       "                \n",
       "                        [[-1.1050,  0.2551,  0.2071,  0.6705],\n",
       "                         [-0.1900, -1.2521,  0.0025, -1.1509],\n",
       "                         [-0.8992, -0.0948, -0.5590, -0.1117]],\n",
       "                \n",
       "                        [[-1.1050,  0.2551,  0.2071,  0.6705],\n",
       "                         [-0.1900, -1.2521,  0.0025, -1.1509],\n",
       "                         [-0.8992, -0.0948, -0.5590, -0.1117]],\n",
       "                \n",
       "                        [[-1.1050,  0.2551,  0.2071,  0.6705],\n",
       "                         [-0.1900, -1.2521,  0.0025, -1.1509],\n",
       "                         [-0.8992, -0.0948, -0.5590, -0.1117]]])"
      ]
     },
     "execution_count": 20,
     "metadata": {},
     "output_type": "execute_result"
    }
   ],
   "source": [
    "t_stack = FastTreeValue.func(subside=True)(torch.stack)\n",
    "\n",
    "t_stack(trees)"
   ]
  },
  {
   "cell_type": "code",
   "execution_count": 21,
   "id": "f8b3f415",
   "metadata": {
    "execution": {
     "iopub.execute_input": "2023-10-22T15:31:10.949858Z",
     "iopub.status.busy": "2023-10-22T15:31:10.949229Z",
     "iopub.status.idle": "2023-10-22T15:31:13.725850Z",
     "shell.execute_reply": "2023-10-22T15:31:13.724900Z"
    }
   },
   "outputs": [
    {
     "name": "stdout",
     "output_type": "stream",
     "text": [
      "34.1 µs ± 58.5 ns per loop (mean ± std. dev. of 7 runs, 10,000 loops each)\n"
     ]
    }
   ],
   "source": [
    "%timeit t_stack(trees)"
   ]
  },
  {
   "cell_type": "code",
   "execution_count": 22,
   "id": "94b56771",
   "metadata": {
    "execution": {
     "iopub.execute_input": "2023-10-22T15:31:13.729960Z",
     "iopub.status.busy": "2023-10-22T15:31:13.729392Z",
     "iopub.status.idle": "2023-10-22T15:31:13.738636Z",
     "shell.execute_reply": "2023-10-22T15:31:13.737981Z"
    }
   },
   "outputs": [
    {
     "data": {
      "text/plain": [
       "<FastTreeValue 0x7fde95077100>\n",
       "├── 'a' --> tensor([[-0.3994,  0.0602, -0.6460],\n",
       "│                   [ 0.5714, -0.2030,  0.5095],\n",
       "│                   [-0.3994,  0.0602, -0.6460],\n",
       "│                   [ 0.5714, -0.2030,  0.5095],\n",
       "│                   [-0.3994,  0.0602, -0.6460],\n",
       "│                   [ 0.5714, -0.2030,  0.5095],\n",
       "│                   [-0.3994,  0.0602, -0.6460],\n",
       "│                   [ 0.5714, -0.2030,  0.5095],\n",
       "│                   [-0.3994,  0.0602, -0.6460],\n",
       "│                   [ 0.5714, -0.2030,  0.5095],\n",
       "│                   [-0.3994,  0.0602, -0.6460],\n",
       "│                   [ 0.5714, -0.2030,  0.5095],\n",
       "│                   [-0.3994,  0.0602, -0.6460],\n",
       "│                   [ 0.5714, -0.2030,  0.5095],\n",
       "│                   [-0.3994,  0.0602, -0.6460],\n",
       "│                   [ 0.5714, -0.2030,  0.5095]])\n",
       "└── 'x' --> <FastTreeValue 0x7fde95091b80>\n",
       "    └── 'c' --> tensor([[-1.1050,  0.2551,  0.2071,  0.6705],\n",
       "                        [-0.1900, -1.2521,  0.0025, -1.1509],\n",
       "                        [-0.8992, -0.0948, -0.5590, -0.1117],\n",
       "                        [-1.1050,  0.2551,  0.2071,  0.6705],\n",
       "                        [-0.1900, -1.2521,  0.0025, -1.1509],\n",
       "                        [-0.8992, -0.0948, -0.5590, -0.1117],\n",
       "                        [-1.1050,  0.2551,  0.2071,  0.6705],\n",
       "                        [-0.1900, -1.2521,  0.0025, -1.1509],\n",
       "                        [-0.8992, -0.0948, -0.5590, -0.1117],\n",
       "                        [-1.1050,  0.2551,  0.2071,  0.6705],\n",
       "                        [-0.1900, -1.2521,  0.0025, -1.1509],\n",
       "                        [-0.8992, -0.0948, -0.5590, -0.1117],\n",
       "                        [-1.1050,  0.2551,  0.2071,  0.6705],\n",
       "                        [-0.1900, -1.2521,  0.0025, -1.1509],\n",
       "                        [-0.8992, -0.0948, -0.5590, -0.1117],\n",
       "                        [-1.1050,  0.2551,  0.2071,  0.6705],\n",
       "                        [-0.1900, -1.2521,  0.0025, -1.1509],\n",
       "                        [-0.8992, -0.0948, -0.5590, -0.1117],\n",
       "                        [-1.1050,  0.2551,  0.2071,  0.6705],\n",
       "                        [-0.1900, -1.2521,  0.0025, -1.1509],\n",
       "                        [-0.8992, -0.0948, -0.5590, -0.1117],\n",
       "                        [-1.1050,  0.2551,  0.2071,  0.6705],\n",
       "                        [-0.1900, -1.2521,  0.0025, -1.1509],\n",
       "                        [-0.8992, -0.0948, -0.5590, -0.1117]])"
      ]
     },
     "execution_count": 22,
     "metadata": {},
     "output_type": "execute_result"
    }
   ],
   "source": [
    "t_cat = FastTreeValue.func(subside=True)(torch.cat)\n",
    "\n",
    "t_cat(trees)"
   ]
  },
  {
   "cell_type": "code",
   "execution_count": 23,
   "id": "5e9c06a6",
   "metadata": {
    "execution": {
     "iopub.execute_input": "2023-10-22T15:31:13.741991Z",
     "iopub.status.busy": "2023-10-22T15:31:13.741493Z",
     "iopub.status.idle": "2023-10-22T15:31:16.322595Z",
     "shell.execute_reply": "2023-10-22T15:31:16.321411Z"
    }
   },
   "outputs": [
    {
     "name": "stdout",
     "output_type": "stream",
     "text": [
      "31.7 µs ± 35.5 ns per loop (mean ± std. dev. of 7 runs, 10,000 loops each)\n"
     ]
    }
   ],
   "source": [
    "%timeit t_cat(trees)"
   ]
  },
  {
   "cell_type": "code",
   "execution_count": 24,
   "id": "a3ab5c8f",
   "metadata": {
    "execution": {
     "iopub.execute_input": "2023-10-22T15:31:16.326429Z",
     "iopub.status.busy": "2023-10-22T15:31:16.326015Z",
     "iopub.status.idle": "2023-10-22T15:31:21.717421Z",
     "shell.execute_reply": "2023-10-22T15:31:21.716519Z"
    }
   },
   "outputs": [
    {
     "name": "stdout",
     "output_type": "stream",
     "text": [
      "66.3 µs ± 172 ns per loop (mean ± std. dev. of 7 runs, 10,000 loops each)\n"
     ]
    }
   ],
   "source": [
    "t_split = FastTreeValue.func(rise=True)(torch.split)\n",
    "tree = FastTreeValue({\n",
    "    'obs': torch.randn(8, 4, 84, 84),\n",
    "    'action': torch.randint(0, 6, size=(8, 1,)),\n",
    "    'reward': torch.rand(8, 1),\n",
    "})\n",
    "\n",
    "%timeit t_split(tree, 1)"
   ]
  },
  {
   "cell_type": "markdown",
   "id": "31c3ec0b",
   "metadata": {},
   "source": [
    "### Performance of Tianshou Batch"
   ]
  },
  {
   "cell_type": "code",
   "execution_count": 25,
   "id": "9ead828a",
   "metadata": {
    "execution": {
     "iopub.execute_input": "2023-10-22T15:31:21.721672Z",
     "iopub.status.busy": "2023-10-22T15:31:21.721014Z",
     "iopub.status.idle": "2023-10-22T15:31:21.730607Z",
     "shell.execute_reply": "2023-10-22T15:31:21.729953Z"
    }
   },
   "outputs": [
    {
     "data": {
      "text/plain": [
       "Batch(\n",
       "    a: tensor([[[-0.3994,  0.0602, -0.6460],\n",
       "                [ 0.5714, -0.2030,  0.5095]],\n",
       "       \n",
       "               [[-0.3994,  0.0602, -0.6460],\n",
       "                [ 0.5714, -0.2030,  0.5095]],\n",
       "       \n",
       "               [[-0.3994,  0.0602, -0.6460],\n",
       "                [ 0.5714, -0.2030,  0.5095]],\n",
       "       \n",
       "               [[-0.3994,  0.0602, -0.6460],\n",
       "                [ 0.5714, -0.2030,  0.5095]],\n",
       "       \n",
       "               [[-0.3994,  0.0602, -0.6460],\n",
       "                [ 0.5714, -0.2030,  0.5095]],\n",
       "       \n",
       "               [[-0.3994,  0.0602, -0.6460],\n",
       "                [ 0.5714, -0.2030,  0.5095]],\n",
       "       \n",
       "               [[-0.3994,  0.0602, -0.6460],\n",
       "                [ 0.5714, -0.2030,  0.5095]],\n",
       "       \n",
       "               [[-0.3994,  0.0602, -0.6460],\n",
       "                [ 0.5714, -0.2030,  0.5095]]]),\n",
       "    x: Batch(\n",
       "           c: tensor([[[-1.1050,  0.2551,  0.2071,  0.6705],\n",
       "                       [-0.1900, -1.2521,  0.0025, -1.1509],\n",
       "                       [-0.8992, -0.0948, -0.5590, -0.1117]],\n",
       "              \n",
       "                      [[-1.1050,  0.2551,  0.2071,  0.6705],\n",
       "                       [-0.1900, -1.2521,  0.0025, -1.1509],\n",
       "                       [-0.8992, -0.0948, -0.5590, -0.1117]],\n",
       "              \n",
       "                      [[-1.1050,  0.2551,  0.2071,  0.6705],\n",
       "                       [-0.1900, -1.2521,  0.0025, -1.1509],\n",
       "                       [-0.8992, -0.0948, -0.5590, -0.1117]],\n",
       "              \n",
       "                      [[-1.1050,  0.2551,  0.2071,  0.6705],\n",
       "                       [-0.1900, -1.2521,  0.0025, -1.1509],\n",
       "                       [-0.8992, -0.0948, -0.5590, -0.1117]],\n",
       "              \n",
       "                      [[-1.1050,  0.2551,  0.2071,  0.6705],\n",
       "                       [-0.1900, -1.2521,  0.0025, -1.1509],\n",
       "                       [-0.8992, -0.0948, -0.5590, -0.1117]],\n",
       "              \n",
       "                      [[-1.1050,  0.2551,  0.2071,  0.6705],\n",
       "                       [-0.1900, -1.2521,  0.0025, -1.1509],\n",
       "                       [-0.8992, -0.0948, -0.5590, -0.1117]],\n",
       "              \n",
       "                      [[-1.1050,  0.2551,  0.2071,  0.6705],\n",
       "                       [-0.1900, -1.2521,  0.0025, -1.1509],\n",
       "                       [-0.8992, -0.0948, -0.5590, -0.1117]],\n",
       "              \n",
       "                      [[-1.1050,  0.2551,  0.2071,  0.6705],\n",
       "                       [-0.1900, -1.2521,  0.0025, -1.1509],\n",
       "                       [-0.8992, -0.0948, -0.5590, -0.1117]]]),\n",
       "       ),\n",
       ")"
      ]
     },
     "execution_count": 25,
     "metadata": {},
     "output_type": "execute_result"
    }
   ],
   "source": [
    "batches = [Batch(**_TREE_DATA_2) for _ in range(8)]\n",
    "\n",
    "Batch.stack(batches)"
   ]
  },
  {
   "cell_type": "code",
   "execution_count": 26,
   "id": "ec9037a3",
   "metadata": {
    "execution": {
     "iopub.execute_input": "2023-10-22T15:31:21.734290Z",
     "iopub.status.busy": "2023-10-22T15:31:21.733652Z",
     "iopub.status.idle": "2023-10-22T15:31:28.650158Z",
     "shell.execute_reply": "2023-10-22T15:31:28.649274Z"
    }
   },
   "outputs": [
    {
     "name": "stdout",
     "output_type": "stream",
     "text": [
      "85.2 µs ± 194 ns per loop (mean ± std. dev. of 7 runs, 10,000 loops each)\n"
     ]
    }
   ],
   "source": [
    "%timeit Batch.stack(batches)"
   ]
  },
  {
   "cell_type": "code",
   "execution_count": 27,
   "id": "cb8ab77e",
   "metadata": {
    "execution": {
     "iopub.execute_input": "2023-10-22T15:31:28.653879Z",
     "iopub.status.busy": "2023-10-22T15:31:28.653264Z",
     "iopub.status.idle": "2023-10-22T15:31:28.662045Z",
     "shell.execute_reply": "2023-10-22T15:31:28.661387Z"
    }
   },
   "outputs": [
    {
     "data": {
      "text/plain": [
       "Batch(\n",
       "    a: tensor([[-0.3994,  0.0602, -0.6460],\n",
       "               [ 0.5714, -0.2030,  0.5095],\n",
       "               [-0.3994,  0.0602, -0.6460],\n",
       "               [ 0.5714, -0.2030,  0.5095],\n",
       "               [-0.3994,  0.0602, -0.6460],\n",
       "               [ 0.5714, -0.2030,  0.5095],\n",
       "               [-0.3994,  0.0602, -0.6460],\n",
       "               [ 0.5714, -0.2030,  0.5095],\n",
       "               [-0.3994,  0.0602, -0.6460],\n",
       "               [ 0.5714, -0.2030,  0.5095],\n",
       "               [-0.3994,  0.0602, -0.6460],\n",
       "               [ 0.5714, -0.2030,  0.5095],\n",
       "               [-0.3994,  0.0602, -0.6460],\n",
       "               [ 0.5714, -0.2030,  0.5095],\n",
       "               [-0.3994,  0.0602, -0.6460],\n",
       "               [ 0.5714, -0.2030,  0.5095]]),\n",
       "    x: Batch(\n",
       "           c: tensor([[-1.1050,  0.2551,  0.2071,  0.6705],\n",
       "                      [-0.1900, -1.2521,  0.0025, -1.1509],\n",
       "                      [-0.8992, -0.0948, -0.5590, -0.1117],\n",
       "                      [-1.1050,  0.2551,  0.2071,  0.6705],\n",
       "                      [-0.1900, -1.2521,  0.0025, -1.1509],\n",
       "                      [-0.8992, -0.0948, -0.5590, -0.1117],\n",
       "                      [-1.1050,  0.2551,  0.2071,  0.6705],\n",
       "                      [-0.1900, -1.2521,  0.0025, -1.1509],\n",
       "                      [-0.8992, -0.0948, -0.5590, -0.1117],\n",
       "                      [-1.1050,  0.2551,  0.2071,  0.6705],\n",
       "                      [-0.1900, -1.2521,  0.0025, -1.1509],\n",
       "                      [-0.8992, -0.0948, -0.5590, -0.1117],\n",
       "                      [-1.1050,  0.2551,  0.2071,  0.6705],\n",
       "                      [-0.1900, -1.2521,  0.0025, -1.1509],\n",
       "                      [-0.8992, -0.0948, -0.5590, -0.1117],\n",
       "                      [-1.1050,  0.2551,  0.2071,  0.6705],\n",
       "                      [-0.1900, -1.2521,  0.0025, -1.1509],\n",
       "                      [-0.8992, -0.0948, -0.5590, -0.1117],\n",
       "                      [-1.1050,  0.2551,  0.2071,  0.6705],\n",
       "                      [-0.1900, -1.2521,  0.0025, -1.1509],\n",
       "                      [-0.8992, -0.0948, -0.5590, -0.1117],\n",
       "                      [-1.1050,  0.2551,  0.2071,  0.6705],\n",
       "                      [-0.1900, -1.2521,  0.0025, -1.1509],\n",
       "                      [-0.8992, -0.0948, -0.5590, -0.1117]]),\n",
       "       ),\n",
       ")"
      ]
     },
     "execution_count": 27,
     "metadata": {},
     "output_type": "execute_result"
    }
   ],
   "source": [
    "Batch.cat(batches)"
   ]
  },
  {
   "cell_type": "code",
   "execution_count": 28,
   "id": "18dfb045",
   "metadata": {
    "execution": {
     "iopub.execute_input": "2023-10-22T15:31:28.665305Z",
     "iopub.status.busy": "2023-10-22T15:31:28.664852Z",
     "iopub.status.idle": "2023-10-22T15:31:41.251020Z",
     "shell.execute_reply": "2023-10-22T15:31:41.249762Z"
    }
   },
   "outputs": [
    {
     "name": "stdout",
     "output_type": "stream",
     "text": [
      "155 µs ± 259 ns per loop (mean ± std. dev. of 7 runs, 10,000 loops each)\n"
     ]
    }
   ],
   "source": [
    "%timeit Batch.cat(batches)"
   ]
  },
  {
   "cell_type": "code",
   "execution_count": 29,
   "id": "c6688e51",
   "metadata": {
    "execution": {
     "iopub.execute_input": "2023-10-22T15:31:41.254900Z",
     "iopub.status.busy": "2023-10-22T15:31:41.254320Z",
     "iopub.status.idle": "2023-10-22T15:31:44.364055Z",
     "shell.execute_reply": "2023-10-22T15:31:44.363395Z"
    }
   },
   "outputs": [
    {
     "name": "stdout",
     "output_type": "stream",
     "text": [
      "382 µs ± 5.13 µs per loop (mean ± std. dev. of 7 runs, 1,000 loops each)\n"
     ]
    }
   ],
   "source": [
    "batch = Batch({\n",
    "    'obs': torch.randn(8, 4, 84, 84),\n",
    "    'action': torch.randint(0, 6, size=(8, 1,)),\n",
    "    'reward': torch.rand(8, 1)}\n",
    ")\n",
    "\n",
    "%timeit list(Batch.split(batch, 1, shuffle=False, merge_last=True))"
   ]
  },
  {
   "cell_type": "code",
   "execution_count": null,
   "id": "2539fbd9",
   "metadata": {},
   "outputs": [],
   "source": []
  }
 ],
 "metadata": {
  "kernelspec": {
   "display_name": "Python 3 (ipykernel)",
   "language": "python",
   "name": "python3"
  },
  "language_info": {
   "codemirror_mode": {
    "name": "ipython",
    "version": 3
   },
   "file_extension": ".py",
   "mimetype": "text/x-python",
   "name": "python",
   "nbconvert_exporter": "python",
   "pygments_lexer": "ipython3",
   "version": "3.8.18"
  }
 },
 "nbformat": 4,
 "nbformat_minor": 5
}
