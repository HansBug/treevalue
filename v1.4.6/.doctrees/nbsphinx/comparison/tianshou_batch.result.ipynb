{
 "cells": [
  {
   "cell_type": "markdown",
   "id": "9d39d946",
   "metadata": {},
   "source": [
    "# Comparison Between TreeValue and Tianshou Batch"
   ]
  },
  {
   "cell_type": "markdown",
   "id": "3c6db2d4",
   "metadata": {},
   "source": [
    "In this section, we will take a look at the feature and performance of the [Tianshou Batch](https://github.com/thu-ml/tianshou) library, which is developed by Tsinghua Machine Learning Group."
   ]
  },
  {
   "cell_type": "markdown",
   "id": "069361b0",
   "metadata": {},
   "source": [
    "Before starting the comparison, let us define some thing."
   ]
  },
  {
   "cell_type": "code",
   "execution_count": 1,
   "id": "06fc8d26",
   "metadata": {
    "execution": {
     "iopub.execute_input": "2023-03-16T09:02:29.642246Z",
     "iopub.status.busy": "2023-03-16T09:02:29.641910Z",
     "iopub.status.idle": "2023-03-16T09:02:30.985058Z",
     "shell.execute_reply": "2023-03-16T09:02:30.984351Z"
    }
   },
   "outputs": [],
   "source": [
    "import torch \n",
    "\n",
    "_TREE_DATA_1 = {'a': 1, 'b': 2, 'x': {'c': 3, 'd': 4}}\n",
    "_TREE_DATA_2 = {\n",
    "    'a': torch.randn(2, 3), \n",
    "    'x': {\n",
    "        'c': torch.randn(3, 4)\n",
    "    },\n",
    "}\n",
    "_TREE_DATA_3 = {\n",
    "    'obs': torch.randn(4, 84, 84),\n",
    "    'action': torch.randint(0, 6, size=(1,)),\n",
    "    'reward': torch.rand(1),\n",
    "}"
   ]
  },
  {
   "cell_type": "markdown",
   "id": "83461b25",
   "metadata": {},
   "source": [
    "## Read and Write Operation"
   ]
  },
  {
   "cell_type": "markdown",
   "id": "067b3f73",
   "metadata": {},
   "source": [
    "Reading and writing are the two most common operations in the tree data structure based on the data model (TreeValue and Tianshou Batch both belong to this type), so this section will compare the reading and writing performance of these two libraries."
   ]
  },
  {
   "cell_type": "markdown",
   "id": "5d09a5b7",
   "metadata": {},
   "source": [
    "### TreeValue's Get and Set"
   ]
  },
  {
   "cell_type": "code",
   "execution_count": 2,
   "id": "9519c4bb",
   "metadata": {
    "execution": {
     "iopub.execute_input": "2023-03-16T09:02:30.988679Z",
     "iopub.status.busy": "2023-03-16T09:02:30.988136Z",
     "iopub.status.idle": "2023-03-16T09:02:31.266253Z",
     "shell.execute_reply": "2023-03-16T09:02:31.265577Z"
    }
   },
   "outputs": [],
   "source": [
    "from treevalue import FastTreeValue\n",
    "\n",
    "t = FastTreeValue(_TREE_DATA_2)"
   ]
  },
  {
   "cell_type": "code",
   "execution_count": 3,
   "id": "11c37677",
   "metadata": {
    "execution": {
     "iopub.execute_input": "2023-03-16T09:02:31.270428Z",
     "iopub.status.busy": "2023-03-16T09:02:31.269228Z",
     "iopub.status.idle": "2023-03-16T09:02:31.280537Z",
     "shell.execute_reply": "2023-03-16T09:02:31.279846Z"
    }
   },
   "outputs": [
    {
     "data": {
      "text/plain": [
       "<FastTreeValue 0x7fc5eef78fa0>\n",
       "├── 'a' --> tensor([[-0.7869, -0.2149,  0.7862],\n",
       "│                   [-0.3194,  0.0272,  0.3979]])\n",
       "└── 'x' --> <FastTreeValue 0x7fc5eef78ee0>\n",
       "    └── 'c' --> tensor([[-0.7819, -0.6215,  0.8808,  0.5478],\n",
       "                        [ 1.6267,  0.2569, -1.7004,  0.6652],\n",
       "                        [ 0.0839, -0.3138,  0.2211,  2.4923]])"
      ]
     },
     "execution_count": 3,
     "metadata": {},
     "output_type": "execute_result"
    }
   ],
   "source": [
    "t"
   ]
  },
  {
   "cell_type": "code",
   "execution_count": 4,
   "id": "fd70b0b9",
   "metadata": {
    "execution": {
     "iopub.execute_input": "2023-03-16T09:02:31.283362Z",
     "iopub.status.busy": "2023-03-16T09:02:31.283124Z",
     "iopub.status.idle": "2023-03-16T09:02:31.289209Z",
     "shell.execute_reply": "2023-03-16T09:02:31.288616Z"
    }
   },
   "outputs": [
    {
     "data": {
      "text/plain": [
       "tensor([[-0.7869, -0.2149,  0.7862],\n",
       "        [-0.3194,  0.0272,  0.3979]])"
      ]
     },
     "execution_count": 4,
     "metadata": {},
     "output_type": "execute_result"
    }
   ],
   "source": [
    "t.a"
   ]
  },
  {
   "cell_type": "code",
   "execution_count": 5,
   "id": "c18197bd",
   "metadata": {
    "execution": {
     "iopub.execute_input": "2023-03-16T09:02:31.292166Z",
     "iopub.status.busy": "2023-03-16T09:02:31.291699Z",
     "iopub.status.idle": "2023-03-16T09:02:36.486568Z",
     "shell.execute_reply": "2023-03-16T09:02:36.485884Z"
    }
   },
   "outputs": [
    {
     "name": "stdout",
     "output_type": "stream",
     "text": [
      "64.1 ns ± 0.0539 ns per loop (mean ± std. dev. of 7 runs, 10,000,000 loops each)\n"
     ]
    }
   ],
   "source": [
    "%timeit t.a"
   ]
  },
  {
   "cell_type": "code",
   "execution_count": 6,
   "id": "bd52f867",
   "metadata": {
    "execution": {
     "iopub.execute_input": "2023-03-16T09:02:36.489520Z",
     "iopub.status.busy": "2023-03-16T09:02:36.489157Z",
     "iopub.status.idle": "2023-03-16T09:02:36.495832Z",
     "shell.execute_reply": "2023-03-16T09:02:36.495242Z"
    }
   },
   "outputs": [
    {
     "data": {
      "text/plain": [
       "<FastTreeValue 0x7fc5eef78fa0>\n",
       "├── 'a' --> tensor([[ 0.4074,  0.5257, -0.5364],\n",
       "│                   [-0.5351,  0.4156,  0.3310]])\n",
       "└── 'x' --> <FastTreeValue 0x7fc5eef78ee0>\n",
       "    └── 'c' --> tensor([[-0.7819, -0.6215,  0.8808,  0.5478],\n",
       "                        [ 1.6267,  0.2569, -1.7004,  0.6652],\n",
       "                        [ 0.0839, -0.3138,  0.2211,  2.4923]])"
      ]
     },
     "execution_count": 6,
     "metadata": {},
     "output_type": "execute_result"
    }
   ],
   "source": [
    "new_value = torch.randn(2, 3)\n",
    "t.a = new_value\n",
    "\n",
    "t"
   ]
  },
  {
   "cell_type": "code",
   "execution_count": 7,
   "id": "bbe04d1c",
   "metadata": {
    "execution": {
     "iopub.execute_input": "2023-03-16T09:02:36.498853Z",
     "iopub.status.busy": "2023-03-16T09:02:36.498256Z",
     "iopub.status.idle": "2023-03-16T09:02:42.087614Z",
     "shell.execute_reply": "2023-03-16T09:02:42.086925Z"
    }
   },
   "outputs": [
    {
     "name": "stdout",
     "output_type": "stream",
     "text": [
      "69.1 ns ± 0.0928 ns per loop (mean ± std. dev. of 7 runs, 10,000,000 loops each)\n"
     ]
    }
   ],
   "source": [
    "%timeit t.a = new_value"
   ]
  },
  {
   "cell_type": "markdown",
   "id": "48c49731",
   "metadata": {},
   "source": [
    "### Tianshou Batch's Get and Set"
   ]
  },
  {
   "cell_type": "code",
   "execution_count": 8,
   "id": "f1bb14c1",
   "metadata": {
    "execution": {
     "iopub.execute_input": "2023-03-16T09:02:42.090633Z",
     "iopub.status.busy": "2023-03-16T09:02:42.090295Z",
     "iopub.status.idle": "2023-03-16T09:02:42.454869Z",
     "shell.execute_reply": "2023-03-16T09:02:42.454183Z"
    }
   },
   "outputs": [],
   "source": [
    "from tianshou.data import Batch\n",
    "\n",
    "b = Batch(**_TREE_DATA_2)"
   ]
  },
  {
   "cell_type": "code",
   "execution_count": 9,
   "id": "cb0777c3",
   "metadata": {
    "execution": {
     "iopub.execute_input": "2023-03-16T09:02:42.458948Z",
     "iopub.status.busy": "2023-03-16T09:02:42.457754Z",
     "iopub.status.idle": "2023-03-16T09:02:42.465129Z",
     "shell.execute_reply": "2023-03-16T09:02:42.464535Z"
    }
   },
   "outputs": [
    {
     "data": {
      "text/plain": [
       "Batch(\n",
       "    a: tensor([[-0.7869, -0.2149,  0.7862],\n",
       "               [-0.3194,  0.0272,  0.3979]]),\n",
       "    x: Batch(\n",
       "           c: tensor([[-0.7819, -0.6215,  0.8808,  0.5478],\n",
       "                      [ 1.6267,  0.2569, -1.7004,  0.6652],\n",
       "                      [ 0.0839, -0.3138,  0.2211,  2.4923]]),\n",
       "       ),\n",
       ")"
      ]
     },
     "execution_count": 9,
     "metadata": {},
     "output_type": "execute_result"
    }
   ],
   "source": [
    "b"
   ]
  },
  {
   "cell_type": "code",
   "execution_count": 10,
   "id": "43ef8ea3",
   "metadata": {
    "execution": {
     "iopub.execute_input": "2023-03-16T09:02:42.467942Z",
     "iopub.status.busy": "2023-03-16T09:02:42.467611Z",
     "iopub.status.idle": "2023-03-16T09:02:42.473566Z",
     "shell.execute_reply": "2023-03-16T09:02:42.473001Z"
    }
   },
   "outputs": [
    {
     "data": {
      "text/plain": [
       "tensor([[-0.7869, -0.2149,  0.7862],\n",
       "        [-0.3194,  0.0272,  0.3979]])"
      ]
     },
     "execution_count": 10,
     "metadata": {},
     "output_type": "execute_result"
    }
   ],
   "source": [
    "b.a"
   ]
  },
  {
   "cell_type": "code",
   "execution_count": 11,
   "id": "b785ab72",
   "metadata": {
    "execution": {
     "iopub.execute_input": "2023-03-16T09:02:42.476996Z",
     "iopub.status.busy": "2023-03-16T09:02:42.475869Z",
     "iopub.status.idle": "2023-03-16T09:02:46.761241Z",
     "shell.execute_reply": "2023-03-16T09:02:46.760544Z"
    }
   },
   "outputs": [
    {
     "name": "stdout",
     "output_type": "stream",
     "text": [
      "52.7 ns ± 0.0304 ns per loop (mean ± std. dev. of 7 runs, 10,000,000 loops each)\n"
     ]
    }
   ],
   "source": [
    "%timeit b.a"
   ]
  },
  {
   "cell_type": "code",
   "execution_count": 12,
   "id": "ad54dc69",
   "metadata": {
    "execution": {
     "iopub.execute_input": "2023-03-16T09:02:46.764536Z",
     "iopub.status.busy": "2023-03-16T09:02:46.763974Z",
     "iopub.status.idle": "2023-03-16T09:02:46.770510Z",
     "shell.execute_reply": "2023-03-16T09:02:46.769905Z"
    }
   },
   "outputs": [
    {
     "data": {
      "text/plain": [
       "Batch(\n",
       "    a: tensor([[ 0.7166,  0.7516, -1.0538],\n",
       "               [-0.2873,  0.1891,  0.7373]]),\n",
       "    x: Batch(\n",
       "           c: tensor([[-0.7819, -0.6215,  0.8808,  0.5478],\n",
       "                      [ 1.6267,  0.2569, -1.7004,  0.6652],\n",
       "                      [ 0.0839, -0.3138,  0.2211,  2.4923]]),\n",
       "       ),\n",
       ")"
      ]
     },
     "execution_count": 12,
     "metadata": {},
     "output_type": "execute_result"
    }
   ],
   "source": [
    "new_value = torch.randn(2, 3)\n",
    "b.a = new_value\n",
    "\n",
    "b"
   ]
  },
  {
   "cell_type": "code",
   "execution_count": 13,
   "id": "29b1d0bf",
   "metadata": {
    "execution": {
     "iopub.execute_input": "2023-03-16T09:02:46.772935Z",
     "iopub.status.busy": "2023-03-16T09:02:46.772707Z",
     "iopub.status.idle": "2023-03-16T09:02:50.649434Z",
     "shell.execute_reply": "2023-03-16T09:02:50.648759Z"
    }
   },
   "outputs": [
    {
     "name": "stdout",
     "output_type": "stream",
     "text": [
      "477 ns ± 0.144 ns per loop (mean ± std. dev. of 7 runs, 1,000,000 loops each)\n"
     ]
    }
   ],
   "source": [
    "%timeit b.a = new_value"
   ]
  },
  {
   "cell_type": "markdown",
   "id": "b61ad1d0",
   "metadata": {},
   "source": [
    "## Initialization"
   ]
  },
  {
   "cell_type": "markdown",
   "id": "d70f0d54",
   "metadata": {},
   "source": [
    "### TreeValue's Initialization"
   ]
  },
  {
   "cell_type": "code",
   "execution_count": 14,
   "id": "d32a679b",
   "metadata": {
    "execution": {
     "iopub.execute_input": "2023-03-16T09:02:50.652653Z",
     "iopub.status.busy": "2023-03-16T09:02:50.652009Z",
     "iopub.status.idle": "2023-03-16T09:02:57.350856Z",
     "shell.execute_reply": "2023-03-16T09:02:57.350123Z"
    }
   },
   "outputs": [
    {
     "name": "stdout",
     "output_type": "stream",
     "text": [
      "825 ns ± 0.834 ns per loop (mean ± std. dev. of 7 runs, 1,000,000 loops each)\n"
     ]
    }
   ],
   "source": [
    "%timeit FastTreeValue(_TREE_DATA_1)"
   ]
  },
  {
   "cell_type": "markdown",
   "id": "24f3707b",
   "metadata": {},
   "source": [
    "### Tianshou Batch's Initialization"
   ]
  },
  {
   "cell_type": "code",
   "execution_count": 15,
   "id": "ac3958df",
   "metadata": {
    "execution": {
     "iopub.execute_input": "2023-03-16T09:02:57.353783Z",
     "iopub.status.busy": "2023-03-16T09:02:57.353424Z",
     "iopub.status.idle": "2023-03-16T09:03:06.565301Z",
     "shell.execute_reply": "2023-03-16T09:03:06.564621Z"
    }
   },
   "outputs": [
    {
     "name": "stdout",
     "output_type": "stream",
     "text": [
      "11.4 µs ± 52 ns per loop (mean ± std. dev. of 7 runs, 100,000 loops each)\n"
     ]
    }
   ],
   "source": [
    "%timeit Batch(**_TREE_DATA_1)"
   ]
  },
  {
   "cell_type": "markdown",
   "id": "1ab82e2d",
   "metadata": {},
   "source": [
    "## Deep Copy Operation"
   ]
  },
  {
   "cell_type": "code",
   "execution_count": 16,
   "id": "210a9442",
   "metadata": {
    "execution": {
     "iopub.execute_input": "2023-03-16T09:03:06.568415Z",
     "iopub.status.busy": "2023-03-16T09:03:06.568049Z",
     "iopub.status.idle": "2023-03-16T09:03:06.572099Z",
     "shell.execute_reply": "2023-03-16T09:03:06.571487Z"
    }
   },
   "outputs": [],
   "source": [
    "import copy"
   ]
  },
  {
   "cell_type": "markdown",
   "id": "5a736274",
   "metadata": {},
   "source": [
    "### Deep Copy of TreeValue"
   ]
  },
  {
   "cell_type": "code",
   "execution_count": 17,
   "id": "f9bcadd6",
   "metadata": {
    "execution": {
     "iopub.execute_input": "2023-03-16T09:03:06.574890Z",
     "iopub.status.busy": "2023-03-16T09:03:06.574565Z",
     "iopub.status.idle": "2023-03-16T09:03:17.727916Z",
     "shell.execute_reply": "2023-03-16T09:03:17.727323Z"
    }
   },
   "outputs": [
    {
     "name": "stdout",
     "output_type": "stream",
     "text": [
      "137 µs ± 780 ns per loop (mean ± std. dev. of 7 runs, 10,000 loops each)\n"
     ]
    }
   ],
   "source": [
    "t3 = FastTreeValue(_TREE_DATA_3)\n",
    "%timeit copy.deepcopy(t3)"
   ]
  },
  {
   "cell_type": "markdown",
   "id": "bf8be7ea",
   "metadata": {},
   "source": [
    "### Deep Copy of Tianshou Batch"
   ]
  },
  {
   "cell_type": "code",
   "execution_count": 18,
   "id": "91998e6f",
   "metadata": {
    "execution": {
     "iopub.execute_input": "2023-03-16T09:03:17.731400Z",
     "iopub.status.busy": "2023-03-16T09:03:17.730378Z",
     "iopub.status.idle": "2023-03-16T09:03:28.921277Z",
     "shell.execute_reply": "2023-03-16T09:03:28.920672Z"
    }
   },
   "outputs": [
    {
     "name": "stdout",
     "output_type": "stream",
     "text": [
      "138 µs ± 545 ns per loop (mean ± std. dev. of 7 runs, 10,000 loops each)\n"
     ]
    }
   ],
   "source": [
    "b3 = Batch(**_TREE_DATA_3)\n",
    "%timeit copy.deepcopy(b3)"
   ]
  },
  {
   "cell_type": "markdown",
   "id": "223162fb",
   "metadata": {},
   "source": [
    "## Stack, Concat and Split Operation"
   ]
  },
  {
   "cell_type": "markdown",
   "id": "85fa4a73",
   "metadata": {},
   "source": [
    "### Performance of TreeValue"
   ]
  },
  {
   "cell_type": "code",
   "execution_count": 19,
   "id": "a0c2b697",
   "metadata": {
    "execution": {
     "iopub.execute_input": "2023-03-16T09:03:28.925167Z",
     "iopub.status.busy": "2023-03-16T09:03:28.923983Z",
     "iopub.status.idle": "2023-03-16T09:03:28.928047Z",
     "shell.execute_reply": "2023-03-16T09:03:28.927479Z"
    }
   },
   "outputs": [],
   "source": [
    "trees = [FastTreeValue(_TREE_DATA_2) for _ in range(8)]"
   ]
  },
  {
   "cell_type": "code",
   "execution_count": 20,
   "id": "017ea5a5",
   "metadata": {
    "execution": {
     "iopub.execute_input": "2023-03-16T09:03:28.930553Z",
     "iopub.status.busy": "2023-03-16T09:03:28.930098Z",
     "iopub.status.idle": "2023-03-16T09:03:28.937479Z",
     "shell.execute_reply": "2023-03-16T09:03:28.936950Z"
    }
   },
   "outputs": [
    {
     "data": {
      "text/plain": [
       "<FastTreeValue 0x7fc5170cb250>\n",
       "├── 'a' --> tensor([[[-0.7869, -0.2149,  0.7862],\n",
       "│                    [-0.3194,  0.0272,  0.3979]],\n",
       "│           \n",
       "│                   [[-0.7869, -0.2149,  0.7862],\n",
       "│                    [-0.3194,  0.0272,  0.3979]],\n",
       "│           \n",
       "│                   [[-0.7869, -0.2149,  0.7862],\n",
       "│                    [-0.3194,  0.0272,  0.3979]],\n",
       "│           \n",
       "│                   [[-0.7869, -0.2149,  0.7862],\n",
       "│                    [-0.3194,  0.0272,  0.3979]],\n",
       "│           \n",
       "│                   [[-0.7869, -0.2149,  0.7862],\n",
       "│                    [-0.3194,  0.0272,  0.3979]],\n",
       "│           \n",
       "│                   [[-0.7869, -0.2149,  0.7862],\n",
       "│                    [-0.3194,  0.0272,  0.3979]],\n",
       "│           \n",
       "│                   [[-0.7869, -0.2149,  0.7862],\n",
       "│                    [-0.3194,  0.0272,  0.3979]],\n",
       "│           \n",
       "│                   [[-0.7869, -0.2149,  0.7862],\n",
       "│                    [-0.3194,  0.0272,  0.3979]]])\n",
       "└── 'x' --> <FastTreeValue 0x7fc5170cbb20>\n",
       "    └── 'c' --> tensor([[[-0.7819, -0.6215,  0.8808,  0.5478],\n",
       "                         [ 1.6267,  0.2569, -1.7004,  0.6652],\n",
       "                         [ 0.0839, -0.3138,  0.2211,  2.4923]],\n",
       "                \n",
       "                        [[-0.7819, -0.6215,  0.8808,  0.5478],\n",
       "                         [ 1.6267,  0.2569, -1.7004,  0.6652],\n",
       "                         [ 0.0839, -0.3138,  0.2211,  2.4923]],\n",
       "                \n",
       "                        [[-0.7819, -0.6215,  0.8808,  0.5478],\n",
       "                         [ 1.6267,  0.2569, -1.7004,  0.6652],\n",
       "                         [ 0.0839, -0.3138,  0.2211,  2.4923]],\n",
       "                \n",
       "                        [[-0.7819, -0.6215,  0.8808,  0.5478],\n",
       "                         [ 1.6267,  0.2569, -1.7004,  0.6652],\n",
       "                         [ 0.0839, -0.3138,  0.2211,  2.4923]],\n",
       "                \n",
       "                        [[-0.7819, -0.6215,  0.8808,  0.5478],\n",
       "                         [ 1.6267,  0.2569, -1.7004,  0.6652],\n",
       "                         [ 0.0839, -0.3138,  0.2211,  2.4923]],\n",
       "                \n",
       "                        [[-0.7819, -0.6215,  0.8808,  0.5478],\n",
       "                         [ 1.6267,  0.2569, -1.7004,  0.6652],\n",
       "                         [ 0.0839, -0.3138,  0.2211,  2.4923]],\n",
       "                \n",
       "                        [[-0.7819, -0.6215,  0.8808,  0.5478],\n",
       "                         [ 1.6267,  0.2569, -1.7004,  0.6652],\n",
       "                         [ 0.0839, -0.3138,  0.2211,  2.4923]],\n",
       "                \n",
       "                        [[-0.7819, -0.6215,  0.8808,  0.5478],\n",
       "                         [ 1.6267,  0.2569, -1.7004,  0.6652],\n",
       "                         [ 0.0839, -0.3138,  0.2211,  2.4923]]])"
      ]
     },
     "execution_count": 20,
     "metadata": {},
     "output_type": "execute_result"
    }
   ],
   "source": [
    "t_stack = FastTreeValue.func(subside=True)(torch.stack)\n",
    "\n",
    "t_stack(trees)"
   ]
  },
  {
   "cell_type": "code",
   "execution_count": 21,
   "id": "f8b3f415",
   "metadata": {
    "execution": {
     "iopub.execute_input": "2023-03-16T09:03:28.940058Z",
     "iopub.status.busy": "2023-03-16T09:03:28.939480Z",
     "iopub.status.idle": "2023-03-16T09:03:31.579883Z",
     "shell.execute_reply": "2023-03-16T09:03:31.579099Z"
    }
   },
   "outputs": [
    {
     "name": "stdout",
     "output_type": "stream",
     "text": [
      "32.4 µs ± 98.2 ns per loop (mean ± std. dev. of 7 runs, 10,000 loops each)\n"
     ]
    }
   ],
   "source": [
    "%timeit t_stack(trees)"
   ]
  },
  {
   "cell_type": "code",
   "execution_count": 22,
   "id": "94b56771",
   "metadata": {
    "execution": {
     "iopub.execute_input": "2023-03-16T09:03:31.582922Z",
     "iopub.status.busy": "2023-03-16T09:03:31.582543Z",
     "iopub.status.idle": "2023-03-16T09:03:31.590854Z",
     "shell.execute_reply": "2023-03-16T09:03:31.590236Z"
    }
   },
   "outputs": [
    {
     "data": {
      "text/plain": [
       "<FastTreeValue 0x7fc5eef642e0>\n",
       "├── 'a' --> tensor([[-0.7869, -0.2149,  0.7862],\n",
       "│                   [-0.3194,  0.0272,  0.3979],\n",
       "│                   [-0.7869, -0.2149,  0.7862],\n",
       "│                   [-0.3194,  0.0272,  0.3979],\n",
       "│                   [-0.7869, -0.2149,  0.7862],\n",
       "│                   [-0.3194,  0.0272,  0.3979],\n",
       "│                   [-0.7869, -0.2149,  0.7862],\n",
       "│                   [-0.3194,  0.0272,  0.3979],\n",
       "│                   [-0.7869, -0.2149,  0.7862],\n",
       "│                   [-0.3194,  0.0272,  0.3979],\n",
       "│                   [-0.7869, -0.2149,  0.7862],\n",
       "│                   [-0.3194,  0.0272,  0.3979],\n",
       "│                   [-0.7869, -0.2149,  0.7862],\n",
       "│                   [-0.3194,  0.0272,  0.3979],\n",
       "│                   [-0.7869, -0.2149,  0.7862],\n",
       "│                   [-0.3194,  0.0272,  0.3979]])\n",
       "└── 'x' --> <FastTreeValue 0x7fc517070f40>\n",
       "    └── 'c' --> tensor([[-0.7819, -0.6215,  0.8808,  0.5478],\n",
       "                        [ 1.6267,  0.2569, -1.7004,  0.6652],\n",
       "                        [ 0.0839, -0.3138,  0.2211,  2.4923],\n",
       "                        [-0.7819, -0.6215,  0.8808,  0.5478],\n",
       "                        [ 1.6267,  0.2569, -1.7004,  0.6652],\n",
       "                        [ 0.0839, -0.3138,  0.2211,  2.4923],\n",
       "                        [-0.7819, -0.6215,  0.8808,  0.5478],\n",
       "                        [ 1.6267,  0.2569, -1.7004,  0.6652],\n",
       "                        [ 0.0839, -0.3138,  0.2211,  2.4923],\n",
       "                        [-0.7819, -0.6215,  0.8808,  0.5478],\n",
       "                        [ 1.6267,  0.2569, -1.7004,  0.6652],\n",
       "                        [ 0.0839, -0.3138,  0.2211,  2.4923],\n",
       "                        [-0.7819, -0.6215,  0.8808,  0.5478],\n",
       "                        [ 1.6267,  0.2569, -1.7004,  0.6652],\n",
       "                        [ 0.0839, -0.3138,  0.2211,  2.4923],\n",
       "                        [-0.7819, -0.6215,  0.8808,  0.5478],\n",
       "                        [ 1.6267,  0.2569, -1.7004,  0.6652],\n",
       "                        [ 0.0839, -0.3138,  0.2211,  2.4923],\n",
       "                        [-0.7819, -0.6215,  0.8808,  0.5478],\n",
       "                        [ 1.6267,  0.2569, -1.7004,  0.6652],\n",
       "                        [ 0.0839, -0.3138,  0.2211,  2.4923],\n",
       "                        [-0.7819, -0.6215,  0.8808,  0.5478],\n",
       "                        [ 1.6267,  0.2569, -1.7004,  0.6652],\n",
       "                        [ 0.0839, -0.3138,  0.2211,  2.4923]])"
      ]
     },
     "execution_count": 22,
     "metadata": {},
     "output_type": "execute_result"
    }
   ],
   "source": [
    "t_cat = FastTreeValue.func(subside=True)(torch.cat)\n",
    "\n",
    "t_cat(trees)"
   ]
  },
  {
   "cell_type": "code",
   "execution_count": 23,
   "id": "5e9c06a6",
   "metadata": {
    "execution": {
     "iopub.execute_input": "2023-03-16T09:03:31.594011Z",
     "iopub.status.busy": "2023-03-16T09:03:31.593483Z",
     "iopub.status.idle": "2023-03-16T09:03:34.067573Z",
     "shell.execute_reply": "2023-03-16T09:03:34.066909Z"
    }
   },
   "outputs": [
    {
     "name": "stdout",
     "output_type": "stream",
     "text": [
      "30.4 µs ± 39.8 ns per loop (mean ± std. dev. of 7 runs, 10,000 loops each)\n"
     ]
    }
   ],
   "source": [
    "%timeit t_cat(trees)"
   ]
  },
  {
   "cell_type": "code",
   "execution_count": 24,
   "id": "a3ab5c8f",
   "metadata": {
    "execution": {
     "iopub.execute_input": "2023-03-16T09:03:34.070429Z",
     "iopub.status.busy": "2023-03-16T09:03:34.070068Z",
     "iopub.status.idle": "2023-03-16T09:03:39.287238Z",
     "shell.execute_reply": "2023-03-16T09:03:39.286464Z"
    }
   },
   "outputs": [
    {
     "name": "stdout",
     "output_type": "stream",
     "text": [
      "64.2 µs ± 87.8 ns per loop (mean ± std. dev. of 7 runs, 10,000 loops each)\n"
     ]
    }
   ],
   "source": [
    "t_split = FastTreeValue.func(rise=True)(torch.split)\n",
    "tree = FastTreeValue({\n",
    "    'obs': torch.randn(8, 4, 84, 84),\n",
    "    'action': torch.randint(0, 6, size=(8, 1,)),\n",
    "    'reward': torch.rand(8, 1),\n",
    "})\n",
    "\n",
    "%timeit t_split(tree, 1)"
   ]
  },
  {
   "cell_type": "markdown",
   "id": "31c3ec0b",
   "metadata": {},
   "source": [
    "### Performance of Tianshou Batch"
   ]
  },
  {
   "cell_type": "code",
   "execution_count": 25,
   "id": "9ead828a",
   "metadata": {
    "execution": {
     "iopub.execute_input": "2023-03-16T09:03:39.290499Z",
     "iopub.status.busy": "2023-03-16T09:03:39.290113Z",
     "iopub.status.idle": "2023-03-16T09:03:39.298382Z",
     "shell.execute_reply": "2023-03-16T09:03:39.297759Z"
    }
   },
   "outputs": [
    {
     "data": {
      "text/plain": [
       "Batch(\n",
       "    a: tensor([[[-0.7869, -0.2149,  0.7862],\n",
       "                [-0.3194,  0.0272,  0.3979]],\n",
       "       \n",
       "               [[-0.7869, -0.2149,  0.7862],\n",
       "                [-0.3194,  0.0272,  0.3979]],\n",
       "       \n",
       "               [[-0.7869, -0.2149,  0.7862],\n",
       "                [-0.3194,  0.0272,  0.3979]],\n",
       "       \n",
       "               [[-0.7869, -0.2149,  0.7862],\n",
       "                [-0.3194,  0.0272,  0.3979]],\n",
       "       \n",
       "               [[-0.7869, -0.2149,  0.7862],\n",
       "                [-0.3194,  0.0272,  0.3979]],\n",
       "       \n",
       "               [[-0.7869, -0.2149,  0.7862],\n",
       "                [-0.3194,  0.0272,  0.3979]],\n",
       "       \n",
       "               [[-0.7869, -0.2149,  0.7862],\n",
       "                [-0.3194,  0.0272,  0.3979]],\n",
       "       \n",
       "               [[-0.7869, -0.2149,  0.7862],\n",
       "                [-0.3194,  0.0272,  0.3979]]]),\n",
       "    x: Batch(\n",
       "           c: tensor([[[-0.7819, -0.6215,  0.8808,  0.5478],\n",
       "                       [ 1.6267,  0.2569, -1.7004,  0.6652],\n",
       "                       [ 0.0839, -0.3138,  0.2211,  2.4923]],\n",
       "              \n",
       "                      [[-0.7819, -0.6215,  0.8808,  0.5478],\n",
       "                       [ 1.6267,  0.2569, -1.7004,  0.6652],\n",
       "                       [ 0.0839, -0.3138,  0.2211,  2.4923]],\n",
       "              \n",
       "                      [[-0.7819, -0.6215,  0.8808,  0.5478],\n",
       "                       [ 1.6267,  0.2569, -1.7004,  0.6652],\n",
       "                       [ 0.0839, -0.3138,  0.2211,  2.4923]],\n",
       "              \n",
       "                      [[-0.7819, -0.6215,  0.8808,  0.5478],\n",
       "                       [ 1.6267,  0.2569, -1.7004,  0.6652],\n",
       "                       [ 0.0839, -0.3138,  0.2211,  2.4923]],\n",
       "              \n",
       "                      [[-0.7819, -0.6215,  0.8808,  0.5478],\n",
       "                       [ 1.6267,  0.2569, -1.7004,  0.6652],\n",
       "                       [ 0.0839, -0.3138,  0.2211,  2.4923]],\n",
       "              \n",
       "                      [[-0.7819, -0.6215,  0.8808,  0.5478],\n",
       "                       [ 1.6267,  0.2569, -1.7004,  0.6652],\n",
       "                       [ 0.0839, -0.3138,  0.2211,  2.4923]],\n",
       "              \n",
       "                      [[-0.7819, -0.6215,  0.8808,  0.5478],\n",
       "                       [ 1.6267,  0.2569, -1.7004,  0.6652],\n",
       "                       [ 0.0839, -0.3138,  0.2211,  2.4923]],\n",
       "              \n",
       "                      [[-0.7819, -0.6215,  0.8808,  0.5478],\n",
       "                       [ 1.6267,  0.2569, -1.7004,  0.6652],\n",
       "                       [ 0.0839, -0.3138,  0.2211,  2.4923]]]),\n",
       "       ),\n",
       ")"
      ]
     },
     "execution_count": 25,
     "metadata": {},
     "output_type": "execute_result"
    }
   ],
   "source": [
    "batches = [Batch(**_TREE_DATA_2) for _ in range(8)]\n",
    "\n",
    "Batch.stack(batches)"
   ]
  },
  {
   "cell_type": "code",
   "execution_count": 26,
   "id": "ec9037a3",
   "metadata": {
    "execution": {
     "iopub.execute_input": "2023-03-16T09:03:39.301275Z",
     "iopub.status.busy": "2023-03-16T09:03:39.300911Z",
     "iopub.status.idle": "2023-03-16T09:03:45.771676Z",
     "shell.execute_reply": "2023-03-16T09:03:45.770947Z"
    }
   },
   "outputs": [
    {
     "name": "stdout",
     "output_type": "stream",
     "text": [
      "79.7 µs ± 201 ns per loop (mean ± std. dev. of 7 runs, 10,000 loops each)\n"
     ]
    }
   ],
   "source": [
    "%timeit Batch.stack(batches)"
   ]
  },
  {
   "cell_type": "code",
   "execution_count": 27,
   "id": "cb8ab77e",
   "metadata": {
    "execution": {
     "iopub.execute_input": "2023-03-16T09:03:45.775134Z",
     "iopub.status.busy": "2023-03-16T09:03:45.774718Z",
     "iopub.status.idle": "2023-03-16T09:03:45.782569Z",
     "shell.execute_reply": "2023-03-16T09:03:45.781975Z"
    }
   },
   "outputs": [
    {
     "data": {
      "text/plain": [
       "Batch(\n",
       "    a: tensor([[-0.7869, -0.2149,  0.7862],\n",
       "               [-0.3194,  0.0272,  0.3979],\n",
       "               [-0.7869, -0.2149,  0.7862],\n",
       "               [-0.3194,  0.0272,  0.3979],\n",
       "               [-0.7869, -0.2149,  0.7862],\n",
       "               [-0.3194,  0.0272,  0.3979],\n",
       "               [-0.7869, -0.2149,  0.7862],\n",
       "               [-0.3194,  0.0272,  0.3979],\n",
       "               [-0.7869, -0.2149,  0.7862],\n",
       "               [-0.3194,  0.0272,  0.3979],\n",
       "               [-0.7869, -0.2149,  0.7862],\n",
       "               [-0.3194,  0.0272,  0.3979],\n",
       "               [-0.7869, -0.2149,  0.7862],\n",
       "               [-0.3194,  0.0272,  0.3979],\n",
       "               [-0.7869, -0.2149,  0.7862],\n",
       "               [-0.3194,  0.0272,  0.3979]]),\n",
       "    x: Batch(\n",
       "           c: tensor([[-0.7819, -0.6215,  0.8808,  0.5478],\n",
       "                      [ 1.6267,  0.2569, -1.7004,  0.6652],\n",
       "                      [ 0.0839, -0.3138,  0.2211,  2.4923],\n",
       "                      [-0.7819, -0.6215,  0.8808,  0.5478],\n",
       "                      [ 1.6267,  0.2569, -1.7004,  0.6652],\n",
       "                      [ 0.0839, -0.3138,  0.2211,  2.4923],\n",
       "                      [-0.7819, -0.6215,  0.8808,  0.5478],\n",
       "                      [ 1.6267,  0.2569, -1.7004,  0.6652],\n",
       "                      [ 0.0839, -0.3138,  0.2211,  2.4923],\n",
       "                      [-0.7819, -0.6215,  0.8808,  0.5478],\n",
       "                      [ 1.6267,  0.2569, -1.7004,  0.6652],\n",
       "                      [ 0.0839, -0.3138,  0.2211,  2.4923],\n",
       "                      [-0.7819, -0.6215,  0.8808,  0.5478],\n",
       "                      [ 1.6267,  0.2569, -1.7004,  0.6652],\n",
       "                      [ 0.0839, -0.3138,  0.2211,  2.4923],\n",
       "                      [-0.7819, -0.6215,  0.8808,  0.5478],\n",
       "                      [ 1.6267,  0.2569, -1.7004,  0.6652],\n",
       "                      [ 0.0839, -0.3138,  0.2211,  2.4923],\n",
       "                      [-0.7819, -0.6215,  0.8808,  0.5478],\n",
       "                      [ 1.6267,  0.2569, -1.7004,  0.6652],\n",
       "                      [ 0.0839, -0.3138,  0.2211,  2.4923],\n",
       "                      [-0.7819, -0.6215,  0.8808,  0.5478],\n",
       "                      [ 1.6267,  0.2569, -1.7004,  0.6652],\n",
       "                      [ 0.0839, -0.3138,  0.2211,  2.4923]]),\n",
       "       ),\n",
       ")"
      ]
     },
     "execution_count": 27,
     "metadata": {},
     "output_type": "execute_result"
    }
   ],
   "source": [
    "Batch.cat(batches)"
   ]
  },
  {
   "cell_type": "code",
   "execution_count": 28,
   "id": "18dfb045",
   "metadata": {
    "execution": {
     "iopub.execute_input": "2023-03-16T09:03:45.786199Z",
     "iopub.status.busy": "2023-03-16T09:03:45.785123Z",
     "iopub.status.idle": "2023-03-16T09:03:57.529161Z",
     "shell.execute_reply": "2023-03-16T09:03:57.528387Z"
    }
   },
   "outputs": [
    {
     "name": "stdout",
     "output_type": "stream",
     "text": [
      "145 µs ± 200 ns per loop (mean ± std. dev. of 7 runs, 10,000 loops each)\n"
     ]
    }
   ],
   "source": [
    "%timeit Batch.cat(batches)"
   ]
  },
  {
   "cell_type": "code",
   "execution_count": 29,
   "id": "c6688e51",
   "metadata": {
    "execution": {
     "iopub.execute_input": "2023-03-16T09:03:57.532003Z",
     "iopub.status.busy": "2023-03-16T09:03:57.531642Z",
     "iopub.status.idle": "2023-03-16T09:04:00.094381Z",
     "shell.execute_reply": "2023-03-16T09:04:00.093654Z"
    }
   },
   "outputs": [
    {
     "name": "stdout",
     "output_type": "stream",
     "text": [
      "315 µs ± 1.63 µs per loop (mean ± std. dev. of 7 runs, 1,000 loops each)\n"
     ]
    }
   ],
   "source": [
    "batch = Batch({\n",
    "    'obs': torch.randn(8, 4, 84, 84),\n",
    "    'action': torch.randint(0, 6, size=(8, 1,)),\n",
    "    'reward': torch.rand(8, 1)}\n",
    ")\n",
    "\n",
    "%timeit list(Batch.split(batch, 1, shuffle=False, merge_last=True))"
   ]
  },
  {
   "cell_type": "code",
   "execution_count": null,
   "id": "2539fbd9",
   "metadata": {},
   "outputs": [],
   "source": []
  }
 ],
 "metadata": {
  "kernelspec": {
   "display_name": "Python 3 (ipykernel)",
   "language": "python",
   "name": "python3"
  },
  "language_info": {
   "codemirror_mode": {
    "name": "ipython",
    "version": 3
   },
   "file_extension": ".py",
   "mimetype": "text/x-python",
   "name": "python",
   "nbconvert_exporter": "python",
   "pygments_lexer": "ipython3",
   "version": "3.8.16"
  }
 },
 "nbformat": 4,
 "nbformat_minor": 5
}
