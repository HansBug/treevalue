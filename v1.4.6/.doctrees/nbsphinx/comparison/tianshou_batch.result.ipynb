{
 "cells": [
  {
   "cell_type": "markdown",
   "id": "9d39d946",
   "metadata": {},
   "source": [
    "# Comparison Between TreeValue and Tianshou Batch"
   ]
  },
  {
   "cell_type": "markdown",
   "id": "3c6db2d4",
   "metadata": {},
   "source": [
    "In this section, we will take a look at the feature and performance of the [Tianshou Batch](https://github.com/thu-ml/tianshou) library, which is developed by Tsinghua Machine Learning Group."
   ]
  },
  {
   "cell_type": "markdown",
   "id": "069361b0",
   "metadata": {},
   "source": [
    "Before starting the comparison, let us define some thing."
   ]
  },
  {
   "cell_type": "code",
   "execution_count": 1,
   "id": "06fc8d26",
   "metadata": {
    "execution": {
     "iopub.execute_input": "2023-03-06T18:11:55.958526Z",
     "iopub.status.busy": "2023-03-06T18:11:55.958290Z",
     "iopub.status.idle": "2023-03-06T18:11:56.947460Z",
     "shell.execute_reply": "2023-03-06T18:11:56.946666Z"
    }
   },
   "outputs": [
    {
     "name": "stderr",
     "output_type": "stream",
     "text": [
      "/opt/hostedtoolcache/Python/3.8.16/x64/lib/python3.8/site-packages/tqdm/auto.py:21: TqdmWarning: IProgress not found. Please update jupyter and ipywidgets. See https://ipywidgets.readthedocs.io/en/stable/user_install.html\n",
      "  from .autonotebook import tqdm as notebook_tqdm\n"
     ]
    }
   ],
   "source": [
    "import torch \n",
    "\n",
    "_TREE_DATA_1 = {'a': 1, 'b': 2, 'x': {'c': 3, 'd': 4}}\n",
    "_TREE_DATA_2 = {\n",
    "    'a': torch.randn(2, 3), \n",
    "    'x': {\n",
    "        'c': torch.randn(3, 4)\n",
    "    },\n",
    "}\n",
    "_TREE_DATA_3 = {\n",
    "    'obs': torch.randn(4, 84, 84),\n",
    "    'action': torch.randint(0, 6, size=(1,)),\n",
    "    'reward': torch.rand(1),\n",
    "}"
   ]
  },
  {
   "cell_type": "markdown",
   "id": "83461b25",
   "metadata": {},
   "source": [
    "## Read and Write Operation"
   ]
  },
  {
   "cell_type": "markdown",
   "id": "067b3f73",
   "metadata": {},
   "source": [
    "Reading and writing are the two most common operations in the tree data structure based on the data model (TreeValue and Tianshou Batch both belong to this type), so this section will compare the reading and writing performance of these two libraries."
   ]
  },
  {
   "cell_type": "markdown",
   "id": "5d09a5b7",
   "metadata": {},
   "source": [
    "### TreeValue's Get and Set"
   ]
  },
  {
   "cell_type": "code",
   "execution_count": 2,
   "id": "9519c4bb",
   "metadata": {
    "execution": {
     "iopub.execute_input": "2023-03-06T18:11:56.951474Z",
     "iopub.status.busy": "2023-03-06T18:11:56.951024Z",
     "iopub.status.idle": "2023-03-06T18:11:57.238871Z",
     "shell.execute_reply": "2023-03-06T18:11:57.237942Z"
    }
   },
   "outputs": [],
   "source": [
    "from treevalue import FastTreeValue\n",
    "\n",
    "t = FastTreeValue(_TREE_DATA_2)"
   ]
  },
  {
   "cell_type": "code",
   "execution_count": 3,
   "id": "11c37677",
   "metadata": {
    "execution": {
     "iopub.execute_input": "2023-03-06T18:11:57.242843Z",
     "iopub.status.busy": "2023-03-06T18:11:57.242375Z",
     "iopub.status.idle": "2023-03-06T18:11:57.251986Z",
     "shell.execute_reply": "2023-03-06T18:11:57.250972Z"
    }
   },
   "outputs": [
    {
     "data": {
      "text/plain": [
       "<FastTreeValue 0x7f829c7b2eb0>\n",
       "├── 'a' --> tensor([[ 0.6032, -1.1886,  0.0582],\n",
       "│                   [-0.2652, -0.7569,  1.0518]])\n",
       "└── 'x' --> <FastTreeValue 0x7f829c7b2df0>\n",
       "    └── 'c' --> tensor([[-1.3675, -0.3173, -0.4794, -1.2517],\n",
       "                        [-0.6807,  1.7353, -0.9463,  0.0941],\n",
       "                        [-0.4180, -0.3393,  0.2552, -0.0229]])"
      ]
     },
     "execution_count": 3,
     "metadata": {},
     "output_type": "execute_result"
    }
   ],
   "source": [
    "t"
   ]
  },
  {
   "cell_type": "code",
   "execution_count": 4,
   "id": "fd70b0b9",
   "metadata": {
    "execution": {
     "iopub.execute_input": "2023-03-06T18:11:57.254924Z",
     "iopub.status.busy": "2023-03-06T18:11:57.254525Z",
     "iopub.status.idle": "2023-03-06T18:11:57.261080Z",
     "shell.execute_reply": "2023-03-06T18:11:57.260418Z"
    }
   },
   "outputs": [
    {
     "data": {
      "text/plain": [
       "tensor([[ 0.6032, -1.1886,  0.0582],\n",
       "        [-0.2652, -0.7569,  1.0518]])"
      ]
     },
     "execution_count": 4,
     "metadata": {},
     "output_type": "execute_result"
    }
   ],
   "source": [
    "t.a"
   ]
  },
  {
   "cell_type": "code",
   "execution_count": 5,
   "id": "c18197bd",
   "metadata": {
    "execution": {
     "iopub.execute_input": "2023-03-06T18:11:57.263856Z",
     "iopub.status.busy": "2023-03-06T18:11:57.263419Z",
     "iopub.status.idle": "2023-03-06T18:12:02.756962Z",
     "shell.execute_reply": "2023-03-06T18:12:02.756057Z"
    }
   },
   "outputs": [
    {
     "name": "stdout",
     "output_type": "stream",
     "text": [
      "67.6 ns ± 0.0658 ns per loop (mean ± std. dev. of 7 runs, 10,000,000 loops each)\n"
     ]
    }
   ],
   "source": [
    "%timeit t.a"
   ]
  },
  {
   "cell_type": "code",
   "execution_count": 6,
   "id": "bd52f867",
   "metadata": {
    "execution": {
     "iopub.execute_input": "2023-03-06T18:12:02.760284Z",
     "iopub.status.busy": "2023-03-06T18:12:02.759771Z",
     "iopub.status.idle": "2023-03-06T18:12:02.766920Z",
     "shell.execute_reply": "2023-03-06T18:12:02.766286Z"
    }
   },
   "outputs": [
    {
     "data": {
      "text/plain": [
       "<FastTreeValue 0x7f829c7b2eb0>\n",
       "├── 'a' --> tensor([[ 0.4074, -0.0072, -0.9359],\n",
       "│                   [ 0.5603,  0.1376, -0.9433]])\n",
       "└── 'x' --> <FastTreeValue 0x7f829c7b2df0>\n",
       "    └── 'c' --> tensor([[-1.3675, -0.3173, -0.4794, -1.2517],\n",
       "                        [-0.6807,  1.7353, -0.9463,  0.0941],\n",
       "                        [-0.4180, -0.3393,  0.2552, -0.0229]])"
      ]
     },
     "execution_count": 6,
     "metadata": {},
     "output_type": "execute_result"
    }
   ],
   "source": [
    "new_value = torch.randn(2, 3)\n",
    "t.a = new_value\n",
    "\n",
    "t"
   ]
  },
  {
   "cell_type": "code",
   "execution_count": 7,
   "id": "bbe04d1c",
   "metadata": {
    "execution": {
     "iopub.execute_input": "2023-03-06T18:12:02.769609Z",
     "iopub.status.busy": "2023-03-06T18:12:02.769271Z",
     "iopub.status.idle": "2023-03-06T18:12:08.492556Z",
     "shell.execute_reply": "2023-03-06T18:12:08.491412Z"
    }
   },
   "outputs": [
    {
     "name": "stdout",
     "output_type": "stream",
     "text": [
      "70.5 ns ± 0.05 ns per loop (mean ± std. dev. of 7 runs, 10,000,000 loops each)\n"
     ]
    }
   ],
   "source": [
    "%timeit t.a = new_value"
   ]
  },
  {
   "cell_type": "markdown",
   "id": "48c49731",
   "metadata": {},
   "source": [
    "### Tianshou Batch's Get and Set"
   ]
  },
  {
   "cell_type": "code",
   "execution_count": 8,
   "id": "f1bb14c1",
   "metadata": {
    "execution": {
     "iopub.execute_input": "2023-03-06T18:12:08.496180Z",
     "iopub.status.busy": "2023-03-06T18:12:08.495760Z",
     "iopub.status.idle": "2023-03-06T18:12:08.860944Z",
     "shell.execute_reply": "2023-03-06T18:12:08.860146Z"
    }
   },
   "outputs": [],
   "source": [
    "from tianshou.data import Batch\n",
    "\n",
    "b = Batch(**_TREE_DATA_2)"
   ]
  },
  {
   "cell_type": "code",
   "execution_count": 9,
   "id": "cb0777c3",
   "metadata": {
    "execution": {
     "iopub.execute_input": "2023-03-06T18:12:08.864921Z",
     "iopub.status.busy": "2023-03-06T18:12:08.864425Z",
     "iopub.status.idle": "2023-03-06T18:12:08.870563Z",
     "shell.execute_reply": "2023-03-06T18:12:08.869884Z"
    }
   },
   "outputs": [
    {
     "data": {
      "text/plain": [
       "Batch(\n",
       "    a: tensor([[ 0.6032, -1.1886,  0.0582],\n",
       "               [-0.2652, -0.7569,  1.0518]]),\n",
       "    x: Batch(\n",
       "           c: tensor([[-1.3675, -0.3173, -0.4794, -1.2517],\n",
       "                      [-0.6807,  1.7353, -0.9463,  0.0941],\n",
       "                      [-0.4180, -0.3393,  0.2552, -0.0229]]),\n",
       "       ),\n",
       ")"
      ]
     },
     "execution_count": 9,
     "metadata": {},
     "output_type": "execute_result"
    }
   ],
   "source": [
    "b"
   ]
  },
  {
   "cell_type": "code",
   "execution_count": 10,
   "id": "43ef8ea3",
   "metadata": {
    "execution": {
     "iopub.execute_input": "2023-03-06T18:12:08.873326Z",
     "iopub.status.busy": "2023-03-06T18:12:08.872904Z",
     "iopub.status.idle": "2023-03-06T18:12:08.877800Z",
     "shell.execute_reply": "2023-03-06T18:12:08.877140Z"
    }
   },
   "outputs": [
    {
     "data": {
      "text/plain": [
       "tensor([[ 0.6032, -1.1886,  0.0582],\n",
       "        [-0.2652, -0.7569,  1.0518]])"
      ]
     },
     "execution_count": 10,
     "metadata": {},
     "output_type": "execute_result"
    }
   ],
   "source": [
    "b.a"
   ]
  },
  {
   "cell_type": "code",
   "execution_count": 11,
   "id": "b785ab72",
   "metadata": {
    "execution": {
     "iopub.execute_input": "2023-03-06T18:12:08.880479Z",
     "iopub.status.busy": "2023-03-06T18:12:08.880051Z",
     "iopub.status.idle": "2023-03-06T18:12:13.670918Z",
     "shell.execute_reply": "2023-03-06T18:12:13.669994Z"
    }
   },
   "outputs": [
    {
     "name": "stdout",
     "output_type": "stream",
     "text": [
      "58.8 ns ± 0.101 ns per loop (mean ± std. dev. of 7 runs, 10,000,000 loops each)\n"
     ]
    }
   ],
   "source": [
    "%timeit b.a"
   ]
  },
  {
   "cell_type": "code",
   "execution_count": 12,
   "id": "ad54dc69",
   "metadata": {
    "execution": {
     "iopub.execute_input": "2023-03-06T18:12:13.674283Z",
     "iopub.status.busy": "2023-03-06T18:12:13.673858Z",
     "iopub.status.idle": "2023-03-06T18:12:13.680319Z",
     "shell.execute_reply": "2023-03-06T18:12:13.679631Z"
    }
   },
   "outputs": [
    {
     "data": {
      "text/plain": [
       "Batch(\n",
       "    a: tensor([[ 1.0523, -1.1465, -0.4067],\n",
       "               [ 1.1525,  1.0854,  0.2439]]),\n",
       "    x: Batch(\n",
       "           c: tensor([[-1.3675, -0.3173, -0.4794, -1.2517],\n",
       "                      [-0.6807,  1.7353, -0.9463,  0.0941],\n",
       "                      [-0.4180, -0.3393,  0.2552, -0.0229]]),\n",
       "       ),\n",
       ")"
      ]
     },
     "execution_count": 12,
     "metadata": {},
     "output_type": "execute_result"
    }
   ],
   "source": [
    "new_value = torch.randn(2, 3)\n",
    "b.a = new_value\n",
    "\n",
    "b"
   ]
  },
  {
   "cell_type": "code",
   "execution_count": 13,
   "id": "29b1d0bf",
   "metadata": {
    "execution": {
     "iopub.execute_input": "2023-03-06T18:12:13.683008Z",
     "iopub.status.busy": "2023-03-06T18:12:13.682566Z",
     "iopub.status.idle": "2023-03-06T18:12:17.780530Z",
     "shell.execute_reply": "2023-03-06T18:12:17.779631Z"
    }
   },
   "outputs": [
    {
     "name": "stdout",
     "output_type": "stream",
     "text": [
      "506 ns ± 0.214 ns per loop (mean ± std. dev. of 7 runs, 1,000,000 loops each)\n"
     ]
    }
   ],
   "source": [
    "%timeit b.a = new_value"
   ]
  },
  {
   "cell_type": "markdown",
   "id": "b61ad1d0",
   "metadata": {},
   "source": [
    "## Initialization"
   ]
  },
  {
   "cell_type": "markdown",
   "id": "d70f0d54",
   "metadata": {},
   "source": [
    "### TreeValue's Initialization"
   ]
  },
  {
   "cell_type": "code",
   "execution_count": 14,
   "id": "d32a679b",
   "metadata": {
    "execution": {
     "iopub.execute_input": "2023-03-06T18:12:17.784330Z",
     "iopub.status.busy": "2023-03-06T18:12:17.783740Z",
     "iopub.status.idle": "2023-03-06T18:12:24.287230Z",
     "shell.execute_reply": "2023-03-06T18:12:24.286483Z"
    }
   },
   "outputs": [
    {
     "name": "stdout",
     "output_type": "stream",
     "text": [
      "800 ns ± 0.0946 ns per loop (mean ± std. dev. of 7 runs, 1,000,000 loops each)\n"
     ]
    }
   ],
   "source": [
    "%timeit FastTreeValue(_TREE_DATA_1)"
   ]
  },
  {
   "cell_type": "markdown",
   "id": "24f3707b",
   "metadata": {},
   "source": [
    "### Tianshou Batch's Initialization"
   ]
  },
  {
   "cell_type": "code",
   "execution_count": 15,
   "id": "ac3958df",
   "metadata": {
    "execution": {
     "iopub.execute_input": "2023-03-06T18:12:24.290747Z",
     "iopub.status.busy": "2023-03-06T18:12:24.290316Z",
     "iopub.status.idle": "2023-03-06T18:12:33.010798Z",
     "shell.execute_reply": "2023-03-06T18:12:33.009902Z"
    }
   },
   "outputs": [
    {
     "name": "stdout",
     "output_type": "stream",
     "text": [
      "10.7 µs ± 14.9 ns per loop (mean ± std. dev. of 7 runs, 100,000 loops each)\n"
     ]
    }
   ],
   "source": [
    "%timeit Batch(**_TREE_DATA_1)"
   ]
  },
  {
   "cell_type": "markdown",
   "id": "1ab82e2d",
   "metadata": {},
   "source": [
    "## Deep Copy Operation"
   ]
  },
  {
   "cell_type": "code",
   "execution_count": 16,
   "id": "210a9442",
   "metadata": {
    "execution": {
     "iopub.execute_input": "2023-03-06T18:12:33.013838Z",
     "iopub.status.busy": "2023-03-06T18:12:33.013579Z",
     "iopub.status.idle": "2023-03-06T18:12:33.017069Z",
     "shell.execute_reply": "2023-03-06T18:12:33.016355Z"
    }
   },
   "outputs": [],
   "source": [
    "import copy"
   ]
  },
  {
   "cell_type": "markdown",
   "id": "5a736274",
   "metadata": {},
   "source": [
    "### Deep Copy of TreeValue"
   ]
  },
  {
   "cell_type": "code",
   "execution_count": 17,
   "id": "f9bcadd6",
   "metadata": {
    "execution": {
     "iopub.execute_input": "2023-03-06T18:12:33.020051Z",
     "iopub.status.busy": "2023-03-06T18:12:33.019470Z",
     "iopub.status.idle": "2023-03-06T18:12:44.515116Z",
     "shell.execute_reply": "2023-03-06T18:12:44.514235Z"
    }
   },
   "outputs": [
    {
     "name": "stdout",
     "output_type": "stream",
     "text": [
      "141 µs ± 731 ns per loop (mean ± std. dev. of 7 runs, 10,000 loops each)\n"
     ]
    }
   ],
   "source": [
    "t3 = FastTreeValue(_TREE_DATA_3)\n",
    "%timeit copy.deepcopy(t3)"
   ]
  },
  {
   "cell_type": "markdown",
   "id": "bf8be7ea",
   "metadata": {},
   "source": [
    "### Deep Copy of Tianshou Batch"
   ]
  },
  {
   "cell_type": "code",
   "execution_count": 18,
   "id": "91998e6f",
   "metadata": {
    "execution": {
     "iopub.execute_input": "2023-03-06T18:12:44.518372Z",
     "iopub.status.busy": "2023-03-06T18:12:44.518086Z",
     "iopub.status.idle": "2023-03-06T18:12:56.173586Z",
     "shell.execute_reply": "2023-03-06T18:12:56.172898Z"
    }
   },
   "outputs": [
    {
     "name": "stdout",
     "output_type": "stream",
     "text": [
      "144 µs ± 1.08 µs per loop (mean ± std. dev. of 7 runs, 10,000 loops each)\n"
     ]
    }
   ],
   "source": [
    "b3 = Batch(**_TREE_DATA_3)\n",
    "%timeit copy.deepcopy(b3)"
   ]
  },
  {
   "cell_type": "markdown",
   "id": "223162fb",
   "metadata": {},
   "source": [
    "## Stack, Concat and Split Operation"
   ]
  },
  {
   "cell_type": "markdown",
   "id": "85fa4a73",
   "metadata": {},
   "source": [
    "### Performance of TreeValue"
   ]
  },
  {
   "cell_type": "code",
   "execution_count": 19,
   "id": "a0c2b697",
   "metadata": {
    "execution": {
     "iopub.execute_input": "2023-03-06T18:12:56.177305Z",
     "iopub.status.busy": "2023-03-06T18:12:56.176867Z",
     "iopub.status.idle": "2023-03-06T18:12:56.180957Z",
     "shell.execute_reply": "2023-03-06T18:12:56.180395Z"
    }
   },
   "outputs": [],
   "source": [
    "trees = [FastTreeValue(_TREE_DATA_2) for _ in range(8)]"
   ]
  },
  {
   "cell_type": "code",
   "execution_count": 20,
   "id": "017ea5a5",
   "metadata": {
    "execution": {
     "iopub.execute_input": "2023-03-06T18:12:56.183643Z",
     "iopub.status.busy": "2023-03-06T18:12:56.183263Z",
     "iopub.status.idle": "2023-03-06T18:12:56.190438Z",
     "shell.execute_reply": "2023-03-06T18:12:56.189869Z"
    }
   },
   "outputs": [
    {
     "data": {
      "text/plain": [
       "<FastTreeValue 0x7f81e29ef790>\n",
       "├── 'a' --> tensor([[[ 0.6032, -1.1886,  0.0582],\n",
       "│                    [-0.2652, -0.7569,  1.0518]],\n",
       "│           \n",
       "│                   [[ 0.6032, -1.1886,  0.0582],\n",
       "│                    [-0.2652, -0.7569,  1.0518]],\n",
       "│           \n",
       "│                   [[ 0.6032, -1.1886,  0.0582],\n",
       "│                    [-0.2652, -0.7569,  1.0518]],\n",
       "│           \n",
       "│                   [[ 0.6032, -1.1886,  0.0582],\n",
       "│                    [-0.2652, -0.7569,  1.0518]],\n",
       "│           \n",
       "│                   [[ 0.6032, -1.1886,  0.0582],\n",
       "│                    [-0.2652, -0.7569,  1.0518]],\n",
       "│           \n",
       "│                   [[ 0.6032, -1.1886,  0.0582],\n",
       "│                    [-0.2652, -0.7569,  1.0518]],\n",
       "│           \n",
       "│                   [[ 0.6032, -1.1886,  0.0582],\n",
       "│                    [-0.2652, -0.7569,  1.0518]],\n",
       "│           \n",
       "│                   [[ 0.6032, -1.1886,  0.0582],\n",
       "│                    [-0.2652, -0.7569,  1.0518]]])\n",
       "└── 'x' --> <FastTreeValue 0x7f8298730c10>\n",
       "    └── 'c' --> tensor([[[-1.3675, -0.3173, -0.4794, -1.2517],\n",
       "                         [-0.6807,  1.7353, -0.9463,  0.0941],\n",
       "                         [-0.4180, -0.3393,  0.2552, -0.0229]],\n",
       "                \n",
       "                        [[-1.3675, -0.3173, -0.4794, -1.2517],\n",
       "                         [-0.6807,  1.7353, -0.9463,  0.0941],\n",
       "                         [-0.4180, -0.3393,  0.2552, -0.0229]],\n",
       "                \n",
       "                        [[-1.3675, -0.3173, -0.4794, -1.2517],\n",
       "                         [-0.6807,  1.7353, -0.9463,  0.0941],\n",
       "                         [-0.4180, -0.3393,  0.2552, -0.0229]],\n",
       "                \n",
       "                        [[-1.3675, -0.3173, -0.4794, -1.2517],\n",
       "                         [-0.6807,  1.7353, -0.9463,  0.0941],\n",
       "                         [-0.4180, -0.3393,  0.2552, -0.0229]],\n",
       "                \n",
       "                        [[-1.3675, -0.3173, -0.4794, -1.2517],\n",
       "                         [-0.6807,  1.7353, -0.9463,  0.0941],\n",
       "                         [-0.4180, -0.3393,  0.2552, -0.0229]],\n",
       "                \n",
       "                        [[-1.3675, -0.3173, -0.4794, -1.2517],\n",
       "                         [-0.6807,  1.7353, -0.9463,  0.0941],\n",
       "                         [-0.4180, -0.3393,  0.2552, -0.0229]],\n",
       "                \n",
       "                        [[-1.3675, -0.3173, -0.4794, -1.2517],\n",
       "                         [-0.6807,  1.7353, -0.9463,  0.0941],\n",
       "                         [-0.4180, -0.3393,  0.2552, -0.0229]],\n",
       "                \n",
       "                        [[-1.3675, -0.3173, -0.4794, -1.2517],\n",
       "                         [-0.6807,  1.7353, -0.9463,  0.0941],\n",
       "                         [-0.4180, -0.3393,  0.2552, -0.0229]]])"
      ]
     },
     "execution_count": 20,
     "metadata": {},
     "output_type": "execute_result"
    }
   ],
   "source": [
    "t_stack = FastTreeValue.func(subside=True)(torch.stack)\n",
    "\n",
    "t_stack(trees)"
   ]
  },
  {
   "cell_type": "code",
   "execution_count": 21,
   "id": "f8b3f415",
   "metadata": {
    "execution": {
     "iopub.execute_input": "2023-03-06T18:12:56.193012Z",
     "iopub.status.busy": "2023-03-06T18:12:56.192641Z",
     "iopub.status.idle": "2023-03-06T18:12:58.799195Z",
     "shell.execute_reply": "2023-03-06T18:12:58.798335Z"
    }
   },
   "outputs": [
    {
     "name": "stdout",
     "output_type": "stream",
     "text": [
      "32.1 µs ± 119 ns per loop (mean ± std. dev. of 7 runs, 10,000 loops each)\n"
     ]
    }
   ],
   "source": [
    "%timeit t_stack(trees)"
   ]
  },
  {
   "cell_type": "code",
   "execution_count": 22,
   "id": "94b56771",
   "metadata": {
    "execution": {
     "iopub.execute_input": "2023-03-06T18:12:58.802643Z",
     "iopub.status.busy": "2023-03-06T18:12:58.802039Z",
     "iopub.status.idle": "2023-03-06T18:12:58.809685Z",
     "shell.execute_reply": "2023-03-06T18:12:58.808995Z"
    }
   },
   "outputs": [
    {
     "data": {
      "text/plain": [
       "<FastTreeValue 0x7f81e9654fd0>\n",
       "├── 'a' --> tensor([[ 0.6032, -1.1886,  0.0582],\n",
       "│                   [-0.2652, -0.7569,  1.0518],\n",
       "│                   [ 0.6032, -1.1886,  0.0582],\n",
       "│                   [-0.2652, -0.7569,  1.0518],\n",
       "│                   [ 0.6032, -1.1886,  0.0582],\n",
       "│                   [-0.2652, -0.7569,  1.0518],\n",
       "│                   [ 0.6032, -1.1886,  0.0582],\n",
       "│                   [-0.2652, -0.7569,  1.0518],\n",
       "│                   [ 0.6032, -1.1886,  0.0582],\n",
       "│                   [-0.2652, -0.7569,  1.0518],\n",
       "│                   [ 0.6032, -1.1886,  0.0582],\n",
       "│                   [-0.2652, -0.7569,  1.0518],\n",
       "│                   [ 0.6032, -1.1886,  0.0582],\n",
       "│                   [-0.2652, -0.7569,  1.0518],\n",
       "│                   [ 0.6032, -1.1886,  0.0582],\n",
       "│                   [-0.2652, -0.7569,  1.0518]])\n",
       "└── 'x' --> <FastTreeValue 0x7f81e9654b80>\n",
       "    └── 'c' --> tensor([[-1.3675, -0.3173, -0.4794, -1.2517],\n",
       "                        [-0.6807,  1.7353, -0.9463,  0.0941],\n",
       "                        [-0.4180, -0.3393,  0.2552, -0.0229],\n",
       "                        [-1.3675, -0.3173, -0.4794, -1.2517],\n",
       "                        [-0.6807,  1.7353, -0.9463,  0.0941],\n",
       "                        [-0.4180, -0.3393,  0.2552, -0.0229],\n",
       "                        [-1.3675, -0.3173, -0.4794, -1.2517],\n",
       "                        [-0.6807,  1.7353, -0.9463,  0.0941],\n",
       "                        [-0.4180, -0.3393,  0.2552, -0.0229],\n",
       "                        [-1.3675, -0.3173, -0.4794, -1.2517],\n",
       "                        [-0.6807,  1.7353, -0.9463,  0.0941],\n",
       "                        [-0.4180, -0.3393,  0.2552, -0.0229],\n",
       "                        [-1.3675, -0.3173, -0.4794, -1.2517],\n",
       "                        [-0.6807,  1.7353, -0.9463,  0.0941],\n",
       "                        [-0.4180, -0.3393,  0.2552, -0.0229],\n",
       "                        [-1.3675, -0.3173, -0.4794, -1.2517],\n",
       "                        [-0.6807,  1.7353, -0.9463,  0.0941],\n",
       "                        [-0.4180, -0.3393,  0.2552, -0.0229],\n",
       "                        [-1.3675, -0.3173, -0.4794, -1.2517],\n",
       "                        [-0.6807,  1.7353, -0.9463,  0.0941],\n",
       "                        [-0.4180, -0.3393,  0.2552, -0.0229],\n",
       "                        [-1.3675, -0.3173, -0.4794, -1.2517],\n",
       "                        [-0.6807,  1.7353, -0.9463,  0.0941],\n",
       "                        [-0.4180, -0.3393,  0.2552, -0.0229]])"
      ]
     },
     "execution_count": 22,
     "metadata": {},
     "output_type": "execute_result"
    }
   ],
   "source": [
    "t_cat = FastTreeValue.func(subside=True)(torch.cat)\n",
    "\n",
    "t_cat(trees)"
   ]
  },
  {
   "cell_type": "code",
   "execution_count": 23,
   "id": "5e9c06a6",
   "metadata": {
    "execution": {
     "iopub.execute_input": "2023-03-06T18:12:58.812329Z",
     "iopub.status.busy": "2023-03-06T18:12:58.811958Z",
     "iopub.status.idle": "2023-03-06T18:13:01.255054Z",
     "shell.execute_reply": "2023-03-06T18:13:01.254196Z"
    }
   },
   "outputs": [
    {
     "name": "stdout",
     "output_type": "stream",
     "text": [
      "30.1 µs ± 60.6 ns per loop (mean ± std. dev. of 7 runs, 10,000 loops each)\n"
     ]
    }
   ],
   "source": [
    "%timeit t_cat(trees)"
   ]
  },
  {
   "cell_type": "code",
   "execution_count": 24,
   "id": "a3ab5c8f",
   "metadata": {
    "execution": {
     "iopub.execute_input": "2023-03-06T18:13:01.258546Z",
     "iopub.status.busy": "2023-03-06T18:13:01.257825Z",
     "iopub.status.idle": "2023-03-06T18:13:05.804782Z",
     "shell.execute_reply": "2023-03-06T18:13:05.803872Z"
    }
   },
   "outputs": [
    {
     "name": "stdout",
     "output_type": "stream",
     "text": [
      "55.9 µs ± 59.7 ns per loop (mean ± std. dev. of 7 runs, 10,000 loops each)\n"
     ]
    }
   ],
   "source": [
    "t_split = FastTreeValue.func(rise=True)(torch.split)\n",
    "tree = FastTreeValue({\n",
    "    'obs': torch.randn(8, 4, 84, 84),\n",
    "    'action': torch.randint(0, 6, size=(8, 1,)),\n",
    "    'reward': torch.rand(8, 1),\n",
    "})\n",
    "\n",
    "%timeit t_split(tree, 1)"
   ]
  },
  {
   "cell_type": "markdown",
   "id": "31c3ec0b",
   "metadata": {},
   "source": [
    "### Performance of Tianshou Batch"
   ]
  },
  {
   "cell_type": "code",
   "execution_count": 25,
   "id": "9ead828a",
   "metadata": {
    "execution": {
     "iopub.execute_input": "2023-03-06T18:13:05.808253Z",
     "iopub.status.busy": "2023-03-06T18:13:05.807817Z",
     "iopub.status.idle": "2023-03-06T18:13:05.816586Z",
     "shell.execute_reply": "2023-03-06T18:13:05.815966Z"
    }
   },
   "outputs": [
    {
     "data": {
      "text/plain": [
       "Batch(\n",
       "    x: Batch(\n",
       "           c: tensor([[[-1.3675, -0.3173, -0.4794, -1.2517],\n",
       "                       [-0.6807,  1.7353, -0.9463,  0.0941],\n",
       "                       [-0.4180, -0.3393,  0.2552, -0.0229]],\n",
       "              \n",
       "                      [[-1.3675, -0.3173, -0.4794, -1.2517],\n",
       "                       [-0.6807,  1.7353, -0.9463,  0.0941],\n",
       "                       [-0.4180, -0.3393,  0.2552, -0.0229]],\n",
       "              \n",
       "                      [[-1.3675, -0.3173, -0.4794, -1.2517],\n",
       "                       [-0.6807,  1.7353, -0.9463,  0.0941],\n",
       "                       [-0.4180, -0.3393,  0.2552, -0.0229]],\n",
       "              \n",
       "                      [[-1.3675, -0.3173, -0.4794, -1.2517],\n",
       "                       [-0.6807,  1.7353, -0.9463,  0.0941],\n",
       "                       [-0.4180, -0.3393,  0.2552, -0.0229]],\n",
       "              \n",
       "                      [[-1.3675, -0.3173, -0.4794, -1.2517],\n",
       "                       [-0.6807,  1.7353, -0.9463,  0.0941],\n",
       "                       [-0.4180, -0.3393,  0.2552, -0.0229]],\n",
       "              \n",
       "                      [[-1.3675, -0.3173, -0.4794, -1.2517],\n",
       "                       [-0.6807,  1.7353, -0.9463,  0.0941],\n",
       "                       [-0.4180, -0.3393,  0.2552, -0.0229]],\n",
       "              \n",
       "                      [[-1.3675, -0.3173, -0.4794, -1.2517],\n",
       "                       [-0.6807,  1.7353, -0.9463,  0.0941],\n",
       "                       [-0.4180, -0.3393,  0.2552, -0.0229]],\n",
       "              \n",
       "                      [[-1.3675, -0.3173, -0.4794, -1.2517],\n",
       "                       [-0.6807,  1.7353, -0.9463,  0.0941],\n",
       "                       [-0.4180, -0.3393,  0.2552, -0.0229]]]),\n",
       "       ),\n",
       "    a: tensor([[[ 0.6032, -1.1886,  0.0582],\n",
       "                [-0.2652, -0.7569,  1.0518]],\n",
       "       \n",
       "               [[ 0.6032, -1.1886,  0.0582],\n",
       "                [-0.2652, -0.7569,  1.0518]],\n",
       "       \n",
       "               [[ 0.6032, -1.1886,  0.0582],\n",
       "                [-0.2652, -0.7569,  1.0518]],\n",
       "       \n",
       "               [[ 0.6032, -1.1886,  0.0582],\n",
       "                [-0.2652, -0.7569,  1.0518]],\n",
       "       \n",
       "               [[ 0.6032, -1.1886,  0.0582],\n",
       "                [-0.2652, -0.7569,  1.0518]],\n",
       "       \n",
       "               [[ 0.6032, -1.1886,  0.0582],\n",
       "                [-0.2652, -0.7569,  1.0518]],\n",
       "       \n",
       "               [[ 0.6032, -1.1886,  0.0582],\n",
       "                [-0.2652, -0.7569,  1.0518]],\n",
       "       \n",
       "               [[ 0.6032, -1.1886,  0.0582],\n",
       "                [-0.2652, -0.7569,  1.0518]]]),\n",
       ")"
      ]
     },
     "execution_count": 25,
     "metadata": {},
     "output_type": "execute_result"
    }
   ],
   "source": [
    "batches = [Batch(**_TREE_DATA_2) for _ in range(8)]\n",
    "\n",
    "Batch.stack(batches)"
   ]
  },
  {
   "cell_type": "code",
   "execution_count": 26,
   "id": "ec9037a3",
   "metadata": {
    "execution": {
     "iopub.execute_input": "2023-03-06T18:13:05.819313Z",
     "iopub.status.busy": "2023-03-06T18:13:05.818868Z",
     "iopub.status.idle": "2023-03-06T18:13:12.203541Z",
     "shell.execute_reply": "2023-03-06T18:13:12.202679Z"
    }
   },
   "outputs": [
    {
     "name": "stdout",
     "output_type": "stream",
     "text": [
      "78.5 µs ± 170 ns per loop (mean ± std. dev. of 7 runs, 10,000 loops each)\n"
     ]
    }
   ],
   "source": [
    "%timeit Batch.stack(batches)"
   ]
  },
  {
   "cell_type": "code",
   "execution_count": 27,
   "id": "cb8ab77e",
   "metadata": {
    "execution": {
     "iopub.execute_input": "2023-03-06T18:13:12.207561Z",
     "iopub.status.busy": "2023-03-06T18:13:12.206813Z",
     "iopub.status.idle": "2023-03-06T18:13:12.214200Z",
     "shell.execute_reply": "2023-03-06T18:13:12.213509Z"
    }
   },
   "outputs": [
    {
     "data": {
      "text/plain": [
       "Batch(\n",
       "    x: Batch(\n",
       "           c: tensor([[-1.3675, -0.3173, -0.4794, -1.2517],\n",
       "                      [-0.6807,  1.7353, -0.9463,  0.0941],\n",
       "                      [-0.4180, -0.3393,  0.2552, -0.0229],\n",
       "                      [-1.3675, -0.3173, -0.4794, -1.2517],\n",
       "                      [-0.6807,  1.7353, -0.9463,  0.0941],\n",
       "                      [-0.4180, -0.3393,  0.2552, -0.0229],\n",
       "                      [-1.3675, -0.3173, -0.4794, -1.2517],\n",
       "                      [-0.6807,  1.7353, -0.9463,  0.0941],\n",
       "                      [-0.4180, -0.3393,  0.2552, -0.0229],\n",
       "                      [-1.3675, -0.3173, -0.4794, -1.2517],\n",
       "                      [-0.6807,  1.7353, -0.9463,  0.0941],\n",
       "                      [-0.4180, -0.3393,  0.2552, -0.0229],\n",
       "                      [-1.3675, -0.3173, -0.4794, -1.2517],\n",
       "                      [-0.6807,  1.7353, -0.9463,  0.0941],\n",
       "                      [-0.4180, -0.3393,  0.2552, -0.0229],\n",
       "                      [-1.3675, -0.3173, -0.4794, -1.2517],\n",
       "                      [-0.6807,  1.7353, -0.9463,  0.0941],\n",
       "                      [-0.4180, -0.3393,  0.2552, -0.0229],\n",
       "                      [-1.3675, -0.3173, -0.4794, -1.2517],\n",
       "                      [-0.6807,  1.7353, -0.9463,  0.0941],\n",
       "                      [-0.4180, -0.3393,  0.2552, -0.0229],\n",
       "                      [-1.3675, -0.3173, -0.4794, -1.2517],\n",
       "                      [-0.6807,  1.7353, -0.9463,  0.0941],\n",
       "                      [-0.4180, -0.3393,  0.2552, -0.0229]]),\n",
       "       ),\n",
       "    a: tensor([[ 0.6032, -1.1886,  0.0582],\n",
       "               [-0.2652, -0.7569,  1.0518],\n",
       "               [ 0.6032, -1.1886,  0.0582],\n",
       "               [-0.2652, -0.7569,  1.0518],\n",
       "               [ 0.6032, -1.1886,  0.0582],\n",
       "               [-0.2652, -0.7569,  1.0518],\n",
       "               [ 0.6032, -1.1886,  0.0582],\n",
       "               [-0.2652, -0.7569,  1.0518],\n",
       "               [ 0.6032, -1.1886,  0.0582],\n",
       "               [-0.2652, -0.7569,  1.0518],\n",
       "               [ 0.6032, -1.1886,  0.0582],\n",
       "               [-0.2652, -0.7569,  1.0518],\n",
       "               [ 0.6032, -1.1886,  0.0582],\n",
       "               [-0.2652, -0.7569,  1.0518],\n",
       "               [ 0.6032, -1.1886,  0.0582],\n",
       "               [-0.2652, -0.7569,  1.0518]]),\n",
       ")"
      ]
     },
     "execution_count": 27,
     "metadata": {},
     "output_type": "execute_result"
    }
   ],
   "source": [
    "Batch.cat(batches)"
   ]
  },
  {
   "cell_type": "code",
   "execution_count": 28,
   "id": "18dfb045",
   "metadata": {
    "execution": {
     "iopub.execute_input": "2023-03-06T18:13:12.217277Z",
     "iopub.status.busy": "2023-03-06T18:13:12.216843Z",
     "iopub.status.idle": "2023-03-06T18:13:23.892989Z",
     "shell.execute_reply": "2023-03-06T18:13:23.891888Z"
    }
   },
   "outputs": [
    {
     "name": "stdout",
     "output_type": "stream",
     "text": [
      "144 µs ± 289 ns per loop (mean ± std. dev. of 7 runs, 10,000 loops each)\n"
     ]
    }
   ],
   "source": [
    "%timeit Batch.cat(batches)"
   ]
  },
  {
   "cell_type": "code",
   "execution_count": 29,
   "id": "c6688e51",
   "metadata": {
    "execution": {
     "iopub.execute_input": "2023-03-06T18:13:23.896419Z",
     "iopub.status.busy": "2023-03-06T18:13:23.895765Z",
     "iopub.status.idle": "2023-03-06T18:13:26.634374Z",
     "shell.execute_reply": "2023-03-06T18:13:26.633705Z"
    }
   },
   "outputs": [
    {
     "name": "stdout",
     "output_type": "stream",
     "text": [
      "329 µs ± 752 ns per loop (mean ± std. dev. of 7 runs, 1,000 loops each)\n"
     ]
    }
   ],
   "source": [
    "batch = Batch({\n",
    "    'obs': torch.randn(8, 4, 84, 84),\n",
    "    'action': torch.randint(0, 6, size=(8, 1,)),\n",
    "    'reward': torch.rand(8, 1)}\n",
    ")\n",
    "\n",
    "%timeit list(Batch.split(batch, 1, shuffle=False, merge_last=True))"
   ]
  },
  {
   "cell_type": "code",
   "execution_count": null,
   "id": "2539fbd9",
   "metadata": {},
   "outputs": [],
   "source": []
  }
 ],
 "metadata": {
  "kernelspec": {
   "display_name": "Python 3 (ipykernel)",
   "language": "python",
   "name": "python3"
  },
  "language_info": {
   "codemirror_mode": {
    "name": "ipython",
    "version": 3
   },
   "file_extension": ".py",
   "mimetype": "text/x-python",
   "name": "python",
   "nbconvert_exporter": "python",
   "pygments_lexer": "ipython3",
   "version": "3.8.16"
  }
 },
 "nbformat": 4,
 "nbformat_minor": 5
}
