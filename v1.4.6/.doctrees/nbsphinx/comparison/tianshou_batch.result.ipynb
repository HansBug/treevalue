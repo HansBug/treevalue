{
 "cells": [
  {
   "cell_type": "markdown",
   "id": "9d39d946",
   "metadata": {},
   "source": [
    "# Comparison Between TreeValue and Tianshou Batch"
   ]
  },
  {
   "cell_type": "markdown",
   "id": "3c6db2d4",
   "metadata": {},
   "source": [
    "In this section, we will take a look at the feature and performance of the [Tianshou Batch](https://github.com/thu-ml/tianshou) library, which is developed by Tsinghua Machine Learning Group."
   ]
  },
  {
   "cell_type": "markdown",
   "id": "069361b0",
   "metadata": {},
   "source": [
    "Before starting the comparison, let us define some thing."
   ]
  },
  {
   "cell_type": "code",
   "execution_count": 1,
   "id": "06fc8d26",
   "metadata": {
    "execution": {
     "iopub.execute_input": "2023-08-10T04:07:39.847194Z",
     "iopub.status.busy": "2023-08-10T04:07:39.846757Z",
     "iopub.status.idle": "2023-08-10T04:07:41.175912Z",
     "shell.execute_reply": "2023-08-10T04:07:41.175165Z"
    }
   },
   "outputs": [],
   "source": [
    "import torch \n",
    "\n",
    "_TREE_DATA_1 = {'a': 1, 'b': 2, 'x': {'c': 3, 'd': 4}}\n",
    "_TREE_DATA_2 = {\n",
    "    'a': torch.randn(2, 3), \n",
    "    'x': {\n",
    "        'c': torch.randn(3, 4)\n",
    "    },\n",
    "}\n",
    "_TREE_DATA_3 = {\n",
    "    'obs': torch.randn(4, 84, 84),\n",
    "    'action': torch.randint(0, 6, size=(1,)),\n",
    "    'reward': torch.rand(1),\n",
    "}"
   ]
  },
  {
   "cell_type": "markdown",
   "id": "83461b25",
   "metadata": {},
   "source": [
    "## Read and Write Operation"
   ]
  },
  {
   "cell_type": "markdown",
   "id": "067b3f73",
   "metadata": {},
   "source": [
    "Reading and writing are the two most common operations in the tree data structure based on the data model (TreeValue and Tianshou Batch both belong to this type), so this section will compare the reading and writing performance of these two libraries."
   ]
  },
  {
   "cell_type": "markdown",
   "id": "5d09a5b7",
   "metadata": {},
   "source": [
    "### TreeValue's Get and Set"
   ]
  },
  {
   "cell_type": "code",
   "execution_count": 2,
   "id": "9519c4bb",
   "metadata": {
    "execution": {
     "iopub.execute_input": "2023-08-10T04:07:41.179728Z",
     "iopub.status.busy": "2023-08-10T04:07:41.179189Z",
     "iopub.status.idle": "2023-08-10T04:07:41.486040Z",
     "shell.execute_reply": "2023-08-10T04:07:41.485306Z"
    }
   },
   "outputs": [],
   "source": [
    "from treevalue import FastTreeValue\n",
    "\n",
    "t = FastTreeValue(_TREE_DATA_2)"
   ]
  },
  {
   "cell_type": "code",
   "execution_count": 3,
   "id": "11c37677",
   "metadata": {
    "execution": {
     "iopub.execute_input": "2023-08-10T04:07:41.489731Z",
     "iopub.status.busy": "2023-08-10T04:07:41.489250Z",
     "iopub.status.idle": "2023-08-10T04:07:41.501732Z",
     "shell.execute_reply": "2023-08-10T04:07:41.501041Z"
    }
   },
   "outputs": [
    {
     "data": {
      "text/plain": [
       "<FastTreeValue 0x7fd2c8055dc0>\n",
       "├── 'a' --> tensor([[ 0.0428, -1.8604, -0.5831],\n",
       "│                   [ 1.8451, -0.4697, -1.0327]])\n",
       "└── 'x' --> <FastTreeValue 0x7fd2c8055d90>\n",
       "    └── 'c' --> tensor([[ 1.0207,  0.6295,  0.4877,  0.7561],\n",
       "                        [ 0.3871, -0.9379, -0.3367, -0.6578],\n",
       "                        [-0.7158, -0.5375, -0.3006, -1.8463]])"
      ]
     },
     "execution_count": 3,
     "metadata": {},
     "output_type": "execute_result"
    }
   ],
   "source": [
    "t"
   ]
  },
  {
   "cell_type": "code",
   "execution_count": 4,
   "id": "fd70b0b9",
   "metadata": {
    "execution": {
     "iopub.execute_input": "2023-08-10T04:07:41.505261Z",
     "iopub.status.busy": "2023-08-10T04:07:41.504854Z",
     "iopub.status.idle": "2023-08-10T04:07:41.512561Z",
     "shell.execute_reply": "2023-08-10T04:07:41.511905Z"
    }
   },
   "outputs": [
    {
     "data": {
      "text/plain": [
       "tensor([[ 0.0428, -1.8604, -0.5831],\n",
       "        [ 1.8451, -0.4697, -1.0327]])"
      ]
     },
     "execution_count": 4,
     "metadata": {},
     "output_type": "execute_result"
    }
   ],
   "source": [
    "t.a"
   ]
  },
  {
   "cell_type": "code",
   "execution_count": 5,
   "id": "c18197bd",
   "metadata": {
    "execution": {
     "iopub.execute_input": "2023-08-10T04:07:41.515993Z",
     "iopub.status.busy": "2023-08-10T04:07:41.515452Z",
     "iopub.status.idle": "2023-08-10T04:07:46.640291Z",
     "shell.execute_reply": "2023-08-10T04:07:46.639593Z"
    }
   },
   "outputs": [
    {
     "name": "stdout",
     "output_type": "stream",
     "text": [
      "63 ns ± 0.0844 ns per loop (mean ± std. dev. of 7 runs, 10,000,000 loops each)\n"
     ]
    }
   ],
   "source": [
    "%timeit t.a"
   ]
  },
  {
   "cell_type": "code",
   "execution_count": 6,
   "id": "bd52f867",
   "metadata": {
    "execution": {
     "iopub.execute_input": "2023-08-10T04:07:46.643938Z",
     "iopub.status.busy": "2023-08-10T04:07:46.643413Z",
     "iopub.status.idle": "2023-08-10T04:07:46.649988Z",
     "shell.execute_reply": "2023-08-10T04:07:46.649271Z"
    }
   },
   "outputs": [
    {
     "data": {
      "text/plain": [
       "<FastTreeValue 0x7fd2c8055dc0>\n",
       "├── 'a' --> tensor([[ 0.8975,  0.5825,  0.4089],\n",
       "│                   [-1.0066, -0.6037, -0.9958]])\n",
       "└── 'x' --> <FastTreeValue 0x7fd2c8055d90>\n",
       "    └── 'c' --> tensor([[ 1.0207,  0.6295,  0.4877,  0.7561],\n",
       "                        [ 0.3871, -0.9379, -0.3367, -0.6578],\n",
       "                        [-0.7158, -0.5375, -0.3006, -1.8463]])"
      ]
     },
     "execution_count": 6,
     "metadata": {},
     "output_type": "execute_result"
    }
   ],
   "source": [
    "new_value = torch.randn(2, 3)\n",
    "t.a = new_value\n",
    "\n",
    "t"
   ]
  },
  {
   "cell_type": "code",
   "execution_count": 7,
   "id": "bbe04d1c",
   "metadata": {
    "execution": {
     "iopub.execute_input": "2023-08-10T04:07:46.652960Z",
     "iopub.status.busy": "2023-08-10T04:07:46.652563Z",
     "iopub.status.idle": "2023-08-10T04:07:51.522142Z",
     "shell.execute_reply": "2023-08-10T04:07:51.520907Z"
    }
   },
   "outputs": [
    {
     "name": "stdout",
     "output_type": "stream",
     "text": [
      "60 ns ± 0.0171 ns per loop (mean ± std. dev. of 7 runs, 10,000,000 loops each)\n"
     ]
    }
   ],
   "source": [
    "%timeit t.a = new_value"
   ]
  },
  {
   "cell_type": "markdown",
   "id": "48c49731",
   "metadata": {},
   "source": [
    "### Tianshou Batch's Get and Set"
   ]
  },
  {
   "cell_type": "code",
   "execution_count": 8,
   "id": "f1bb14c1",
   "metadata": {
    "execution": {
     "iopub.execute_input": "2023-08-10T04:07:51.525632Z",
     "iopub.status.busy": "2023-08-10T04:07:51.525237Z",
     "iopub.status.idle": "2023-08-10T04:07:51.891090Z",
     "shell.execute_reply": "2023-08-10T04:07:51.890375Z"
    }
   },
   "outputs": [],
   "source": [
    "from tianshou.data import Batch\n",
    "\n",
    "b = Batch(**_TREE_DATA_2)"
   ]
  },
  {
   "cell_type": "code",
   "execution_count": 9,
   "id": "cb0777c3",
   "metadata": {
    "execution": {
     "iopub.execute_input": "2023-08-10T04:07:51.895226Z",
     "iopub.status.busy": "2023-08-10T04:07:51.894565Z",
     "iopub.status.idle": "2023-08-10T04:07:51.900687Z",
     "shell.execute_reply": "2023-08-10T04:07:51.899971Z"
    }
   },
   "outputs": [
    {
     "data": {
      "text/plain": [
       "Batch(\n",
       "    a: tensor([[ 0.0428, -1.8604, -0.5831],\n",
       "               [ 1.8451, -0.4697, -1.0327]]),\n",
       "    x: Batch(\n",
       "           c: tensor([[ 1.0207,  0.6295,  0.4877,  0.7561],\n",
       "                      [ 0.3871, -0.9379, -0.3367, -0.6578],\n",
       "                      [-0.7158, -0.5375, -0.3006, -1.8463]]),\n",
       "       ),\n",
       ")"
      ]
     },
     "execution_count": 9,
     "metadata": {},
     "output_type": "execute_result"
    }
   ],
   "source": [
    "b"
   ]
  },
  {
   "cell_type": "code",
   "execution_count": 10,
   "id": "43ef8ea3",
   "metadata": {
    "execution": {
     "iopub.execute_input": "2023-08-10T04:07:51.903767Z",
     "iopub.status.busy": "2023-08-10T04:07:51.903361Z",
     "iopub.status.idle": "2023-08-10T04:07:51.908799Z",
     "shell.execute_reply": "2023-08-10T04:07:51.907781Z"
    }
   },
   "outputs": [
    {
     "data": {
      "text/plain": [
       "tensor([[ 0.0428, -1.8604, -0.5831],\n",
       "        [ 1.8451, -0.4697, -1.0327]])"
      ]
     },
     "execution_count": 10,
     "metadata": {},
     "output_type": "execute_result"
    }
   ],
   "source": [
    "b.a"
   ]
  },
  {
   "cell_type": "code",
   "execution_count": 11,
   "id": "b785ab72",
   "metadata": {
    "execution": {
     "iopub.execute_input": "2023-08-10T04:07:51.911724Z",
     "iopub.status.busy": "2023-08-10T04:07:51.911332Z",
     "iopub.status.idle": "2023-08-10T04:07:56.279014Z",
     "shell.execute_reply": "2023-08-10T04:07:56.278409Z"
    }
   },
   "outputs": [
    {
     "name": "stdout",
     "output_type": "stream",
     "text": [
      "53.8 ns ± 0.02 ns per loop (mean ± std. dev. of 7 runs, 10,000,000 loops each)\n"
     ]
    }
   ],
   "source": [
    "%timeit b.a"
   ]
  },
  {
   "cell_type": "code",
   "execution_count": 12,
   "id": "ad54dc69",
   "metadata": {
    "execution": {
     "iopub.execute_input": "2023-08-10T04:07:56.282211Z",
     "iopub.status.busy": "2023-08-10T04:07:56.281722Z",
     "iopub.status.idle": "2023-08-10T04:07:56.287801Z",
     "shell.execute_reply": "2023-08-10T04:07:56.287103Z"
    }
   },
   "outputs": [
    {
     "data": {
      "text/plain": [
       "Batch(\n",
       "    a: tensor([[-2.3925, -1.5232,  0.6475],\n",
       "               [-0.0629,  0.0556, -0.1380]]),\n",
       "    x: Batch(\n",
       "           c: tensor([[ 1.0207,  0.6295,  0.4877,  0.7561],\n",
       "                      [ 0.3871, -0.9379, -0.3367, -0.6578],\n",
       "                      [-0.7158, -0.5375, -0.3006, -1.8463]]),\n",
       "       ),\n",
       ")"
      ]
     },
     "execution_count": 12,
     "metadata": {},
     "output_type": "execute_result"
    }
   ],
   "source": [
    "new_value = torch.randn(2, 3)\n",
    "b.a = new_value\n",
    "\n",
    "b"
   ]
  },
  {
   "cell_type": "code",
   "execution_count": 13,
   "id": "29b1d0bf",
   "metadata": {
    "execution": {
     "iopub.execute_input": "2023-08-10T04:07:56.290746Z",
     "iopub.status.busy": "2023-08-10T04:07:56.290364Z",
     "iopub.status.idle": "2023-08-10T04:08:00.247819Z",
     "shell.execute_reply": "2023-08-10T04:08:00.247179Z"
    }
   },
   "outputs": [
    {
     "name": "stdout",
     "output_type": "stream",
     "text": [
      "487 ns ± 0.183 ns per loop (mean ± std. dev. of 7 runs, 1,000,000 loops each)\n"
     ]
    }
   ],
   "source": [
    "%timeit b.a = new_value"
   ]
  },
  {
   "cell_type": "markdown",
   "id": "b61ad1d0",
   "metadata": {},
   "source": [
    "## Initialization"
   ]
  },
  {
   "cell_type": "markdown",
   "id": "d70f0d54",
   "metadata": {},
   "source": [
    "### TreeValue's Initialization"
   ]
  },
  {
   "cell_type": "code",
   "execution_count": 14,
   "id": "d32a679b",
   "metadata": {
    "execution": {
     "iopub.execute_input": "2023-08-10T04:08:00.251376Z",
     "iopub.status.busy": "2023-08-10T04:08:00.250855Z",
     "iopub.status.idle": "2023-08-10T04:08:07.238416Z",
     "shell.execute_reply": "2023-08-10T04:08:07.237673Z"
    }
   },
   "outputs": [
    {
     "name": "stdout",
     "output_type": "stream",
     "text": [
      "860 ns ± 9.41 ns per loop (mean ± std. dev. of 7 runs, 1,000,000 loops each)\n"
     ]
    }
   ],
   "source": [
    "%timeit FastTreeValue(_TREE_DATA_1)"
   ]
  },
  {
   "cell_type": "markdown",
   "id": "24f3707b",
   "metadata": {},
   "source": [
    "### Tianshou Batch's Initialization"
   ]
  },
  {
   "cell_type": "code",
   "execution_count": 15,
   "id": "ac3958df",
   "metadata": {
    "execution": {
     "iopub.execute_input": "2023-08-10T04:08:07.241677Z",
     "iopub.status.busy": "2023-08-10T04:08:07.241418Z",
     "iopub.status.idle": "2023-08-10T04:08:16.731197Z",
     "shell.execute_reply": "2023-08-10T04:08:16.730564Z"
    }
   },
   "outputs": [
    {
     "name": "stdout",
     "output_type": "stream",
     "text": [
      "11.7 µs ± 21.7 ns per loop (mean ± std. dev. of 7 runs, 100,000 loops each)\n"
     ]
    }
   ],
   "source": [
    "%timeit Batch(**_TREE_DATA_1)"
   ]
  },
  {
   "cell_type": "markdown",
   "id": "1ab82e2d",
   "metadata": {},
   "source": [
    "## Deep Copy Operation"
   ]
  },
  {
   "cell_type": "code",
   "execution_count": 16,
   "id": "210a9442",
   "metadata": {
    "execution": {
     "iopub.execute_input": "2023-08-10T04:08:16.734517Z",
     "iopub.status.busy": "2023-08-10T04:08:16.734043Z",
     "iopub.status.idle": "2023-08-10T04:08:16.737336Z",
     "shell.execute_reply": "2023-08-10T04:08:16.736621Z"
    }
   },
   "outputs": [],
   "source": [
    "import copy"
   ]
  },
  {
   "cell_type": "markdown",
   "id": "5a736274",
   "metadata": {},
   "source": [
    "### Deep Copy of TreeValue"
   ]
  },
  {
   "cell_type": "code",
   "execution_count": 17,
   "id": "f9bcadd6",
   "metadata": {
    "execution": {
     "iopub.execute_input": "2023-08-10T04:08:16.740372Z",
     "iopub.status.busy": "2023-08-10T04:08:16.740019Z",
     "iopub.status.idle": "2023-08-10T04:08:28.130145Z",
     "shell.execute_reply": "2023-08-10T04:08:28.129560Z"
    }
   },
   "outputs": [
    {
     "name": "stdout",
     "output_type": "stream",
     "text": [
      "140 µs ± 735 ns per loop (mean ± std. dev. of 7 runs, 10,000 loops each)\n"
     ]
    }
   ],
   "source": [
    "t3 = FastTreeValue(_TREE_DATA_3)\n",
    "%timeit copy.deepcopy(t3)"
   ]
  },
  {
   "cell_type": "markdown",
   "id": "bf8be7ea",
   "metadata": {},
   "source": [
    "### Deep Copy of Tianshou Batch"
   ]
  },
  {
   "cell_type": "code",
   "execution_count": 18,
   "id": "91998e6f",
   "metadata": {
    "execution": {
     "iopub.execute_input": "2023-08-10T04:08:28.133342Z",
     "iopub.status.busy": "2023-08-10T04:08:28.132952Z",
     "iopub.status.idle": "2023-08-10T04:08:39.712432Z",
     "shell.execute_reply": "2023-08-10T04:08:39.711646Z"
    }
   },
   "outputs": [
    {
     "name": "stdout",
     "output_type": "stream",
     "text": [
      "143 µs ± 429 ns per loop (mean ± std. dev. of 7 runs, 10,000 loops each)\n"
     ]
    }
   ],
   "source": [
    "b3 = Batch(**_TREE_DATA_3)\n",
    "%timeit copy.deepcopy(b3)"
   ]
  },
  {
   "cell_type": "markdown",
   "id": "223162fb",
   "metadata": {},
   "source": [
    "## Stack, Concat and Split Operation"
   ]
  },
  {
   "cell_type": "markdown",
   "id": "85fa4a73",
   "metadata": {},
   "source": [
    "### Performance of TreeValue"
   ]
  },
  {
   "cell_type": "code",
   "execution_count": 19,
   "id": "a0c2b697",
   "metadata": {
    "execution": {
     "iopub.execute_input": "2023-08-10T04:08:39.716100Z",
     "iopub.status.busy": "2023-08-10T04:08:39.715837Z",
     "iopub.status.idle": "2023-08-10T04:08:39.720373Z",
     "shell.execute_reply": "2023-08-10T04:08:39.719706Z"
    }
   },
   "outputs": [],
   "source": [
    "trees = [FastTreeValue(_TREE_DATA_2) for _ in range(8)]"
   ]
  },
  {
   "cell_type": "code",
   "execution_count": 20,
   "id": "017ea5a5",
   "metadata": {
    "execution": {
     "iopub.execute_input": "2023-08-10T04:08:39.723844Z",
     "iopub.status.busy": "2023-08-10T04:08:39.723366Z",
     "iopub.status.idle": "2023-08-10T04:08:39.733637Z",
     "shell.execute_reply": "2023-08-10T04:08:39.732978Z"
    }
   },
   "outputs": [
    {
     "data": {
      "text/plain": [
       "<FastTreeValue 0x7fd2cd0f8190>\n",
       "├── 'a' --> tensor([[[ 0.0428, -1.8604, -0.5831],\n",
       "│                    [ 1.8451, -0.4697, -1.0327]],\n",
       "│           \n",
       "│                   [[ 0.0428, -1.8604, -0.5831],\n",
       "│                    [ 1.8451, -0.4697, -1.0327]],\n",
       "│           \n",
       "│                   [[ 0.0428, -1.8604, -0.5831],\n",
       "│                    [ 1.8451, -0.4697, -1.0327]],\n",
       "│           \n",
       "│                   [[ 0.0428, -1.8604, -0.5831],\n",
       "│                    [ 1.8451, -0.4697, -1.0327]],\n",
       "│           \n",
       "│                   [[ 0.0428, -1.8604, -0.5831],\n",
       "│                    [ 1.8451, -0.4697, -1.0327]],\n",
       "│           \n",
       "│                   [[ 0.0428, -1.8604, -0.5831],\n",
       "│                    [ 1.8451, -0.4697, -1.0327]],\n",
       "│           \n",
       "│                   [[ 0.0428, -1.8604, -0.5831],\n",
       "│                    [ 1.8451, -0.4697, -1.0327]],\n",
       "│           \n",
       "│                   [[ 0.0428, -1.8604, -0.5831],\n",
       "│                    [ 1.8451, -0.4697, -1.0327]]])\n",
       "└── 'x' --> <FastTreeValue 0x7fd2b837e580>\n",
       "    └── 'c' --> tensor([[[ 1.0207,  0.6295,  0.4877,  0.7561],\n",
       "                         [ 0.3871, -0.9379, -0.3367, -0.6578],\n",
       "                         [-0.7158, -0.5375, -0.3006, -1.8463]],\n",
       "                \n",
       "                        [[ 1.0207,  0.6295,  0.4877,  0.7561],\n",
       "                         [ 0.3871, -0.9379, -0.3367, -0.6578],\n",
       "                         [-0.7158, -0.5375, -0.3006, -1.8463]],\n",
       "                \n",
       "                        [[ 1.0207,  0.6295,  0.4877,  0.7561],\n",
       "                         [ 0.3871, -0.9379, -0.3367, -0.6578],\n",
       "                         [-0.7158, -0.5375, -0.3006, -1.8463]],\n",
       "                \n",
       "                        [[ 1.0207,  0.6295,  0.4877,  0.7561],\n",
       "                         [ 0.3871, -0.9379, -0.3367, -0.6578],\n",
       "                         [-0.7158, -0.5375, -0.3006, -1.8463]],\n",
       "                \n",
       "                        [[ 1.0207,  0.6295,  0.4877,  0.7561],\n",
       "                         [ 0.3871, -0.9379, -0.3367, -0.6578],\n",
       "                         [-0.7158, -0.5375, -0.3006, -1.8463]],\n",
       "                \n",
       "                        [[ 1.0207,  0.6295,  0.4877,  0.7561],\n",
       "                         [ 0.3871, -0.9379, -0.3367, -0.6578],\n",
       "                         [-0.7158, -0.5375, -0.3006, -1.8463]],\n",
       "                \n",
       "                        [[ 1.0207,  0.6295,  0.4877,  0.7561],\n",
       "                         [ 0.3871, -0.9379, -0.3367, -0.6578],\n",
       "                         [-0.7158, -0.5375, -0.3006, -1.8463]],\n",
       "                \n",
       "                        [[ 1.0207,  0.6295,  0.4877,  0.7561],\n",
       "                         [ 0.3871, -0.9379, -0.3367, -0.6578],\n",
       "                         [-0.7158, -0.5375, -0.3006, -1.8463]]])"
      ]
     },
     "execution_count": 20,
     "metadata": {},
     "output_type": "execute_result"
    }
   ],
   "source": [
    "t_stack = FastTreeValue.func(subside=True)(torch.stack)\n",
    "\n",
    "t_stack(trees)"
   ]
  },
  {
   "cell_type": "code",
   "execution_count": 21,
   "id": "f8b3f415",
   "metadata": {
    "execution": {
     "iopub.execute_input": "2023-08-10T04:08:39.736993Z",
     "iopub.status.busy": "2023-08-10T04:08:39.736720Z",
     "iopub.status.idle": "2023-08-10T04:08:42.369454Z",
     "shell.execute_reply": "2023-08-10T04:08:42.368819Z"
    }
   },
   "outputs": [
    {
     "name": "stdout",
     "output_type": "stream",
     "text": [
      "32.3 µs ± 98 ns per loop (mean ± std. dev. of 7 runs, 10,000 loops each)\n"
     ]
    }
   ],
   "source": [
    "%timeit t_stack(trees)"
   ]
  },
  {
   "cell_type": "code",
   "execution_count": 22,
   "id": "94b56771",
   "metadata": {
    "execution": {
     "iopub.execute_input": "2023-08-10T04:08:42.372632Z",
     "iopub.status.busy": "2023-08-10T04:08:42.372146Z",
     "iopub.status.idle": "2023-08-10T04:08:42.379798Z",
     "shell.execute_reply": "2023-08-10T04:08:42.379084Z"
    }
   },
   "outputs": [
    {
     "data": {
      "text/plain": [
       "<FastTreeValue 0x7fd1f2972fd0>\n",
       "├── 'a' --> tensor([[ 0.0428, -1.8604, -0.5831],\n",
       "│                   [ 1.8451, -0.4697, -1.0327],\n",
       "│                   [ 0.0428, -1.8604, -0.5831],\n",
       "│                   [ 1.8451, -0.4697, -1.0327],\n",
       "│                   [ 0.0428, -1.8604, -0.5831],\n",
       "│                   [ 1.8451, -0.4697, -1.0327],\n",
       "│                   [ 0.0428, -1.8604, -0.5831],\n",
       "│                   [ 1.8451, -0.4697, -1.0327],\n",
       "│                   [ 0.0428, -1.8604, -0.5831],\n",
       "│                   [ 1.8451, -0.4697, -1.0327],\n",
       "│                   [ 0.0428, -1.8604, -0.5831],\n",
       "│                   [ 1.8451, -0.4697, -1.0327],\n",
       "│                   [ 0.0428, -1.8604, -0.5831],\n",
       "│                   [ 1.8451, -0.4697, -1.0327],\n",
       "│                   [ 0.0428, -1.8604, -0.5831],\n",
       "│                   [ 1.8451, -0.4697, -1.0327]])\n",
       "└── 'x' --> <FastTreeValue 0x7fd2cd0d7070>\n",
       "    └── 'c' --> tensor([[ 1.0207,  0.6295,  0.4877,  0.7561],\n",
       "                        [ 0.3871, -0.9379, -0.3367, -0.6578],\n",
       "                        [-0.7158, -0.5375, -0.3006, -1.8463],\n",
       "                        [ 1.0207,  0.6295,  0.4877,  0.7561],\n",
       "                        [ 0.3871, -0.9379, -0.3367, -0.6578],\n",
       "                        [-0.7158, -0.5375, -0.3006, -1.8463],\n",
       "                        [ 1.0207,  0.6295,  0.4877,  0.7561],\n",
       "                        [ 0.3871, -0.9379, -0.3367, -0.6578],\n",
       "                        [-0.7158, -0.5375, -0.3006, -1.8463],\n",
       "                        [ 1.0207,  0.6295,  0.4877,  0.7561],\n",
       "                        [ 0.3871, -0.9379, -0.3367, -0.6578],\n",
       "                        [-0.7158, -0.5375, -0.3006, -1.8463],\n",
       "                        [ 1.0207,  0.6295,  0.4877,  0.7561],\n",
       "                        [ 0.3871, -0.9379, -0.3367, -0.6578],\n",
       "                        [-0.7158, -0.5375, -0.3006, -1.8463],\n",
       "                        [ 1.0207,  0.6295,  0.4877,  0.7561],\n",
       "                        [ 0.3871, -0.9379, -0.3367, -0.6578],\n",
       "                        [-0.7158, -0.5375, -0.3006, -1.8463],\n",
       "                        [ 1.0207,  0.6295,  0.4877,  0.7561],\n",
       "                        [ 0.3871, -0.9379, -0.3367, -0.6578],\n",
       "                        [-0.7158, -0.5375, -0.3006, -1.8463],\n",
       "                        [ 1.0207,  0.6295,  0.4877,  0.7561],\n",
       "                        [ 0.3871, -0.9379, -0.3367, -0.6578],\n",
       "                        [-0.7158, -0.5375, -0.3006, -1.8463]])"
      ]
     },
     "execution_count": 22,
     "metadata": {},
     "output_type": "execute_result"
    }
   ],
   "source": [
    "t_cat = FastTreeValue.func(subside=True)(torch.cat)\n",
    "\n",
    "t_cat(trees)"
   ]
  },
  {
   "cell_type": "code",
   "execution_count": 23,
   "id": "5e9c06a6",
   "metadata": {
    "execution": {
     "iopub.execute_input": "2023-08-10T04:08:42.382733Z",
     "iopub.status.busy": "2023-08-10T04:08:42.382350Z",
     "iopub.status.idle": "2023-08-10T04:08:44.841509Z",
     "shell.execute_reply": "2023-08-10T04:08:44.840889Z"
    }
   },
   "outputs": [
    {
     "name": "stdout",
     "output_type": "stream",
     "text": [
      "30.2 µs ± 38.6 ns per loop (mean ± std. dev. of 7 runs, 10,000 loops each)\n"
     ]
    }
   ],
   "source": [
    "%timeit t_cat(trees)"
   ]
  },
  {
   "cell_type": "code",
   "execution_count": 24,
   "id": "a3ab5c8f",
   "metadata": {
    "execution": {
     "iopub.execute_input": "2023-08-10T04:08:44.844814Z",
     "iopub.status.busy": "2023-08-10T04:08:44.844174Z",
     "iopub.status.idle": "2023-08-10T04:08:50.463358Z",
     "shell.execute_reply": "2023-08-10T04:08:50.462741Z"
    }
   },
   "outputs": [
    {
     "name": "stdout",
     "output_type": "stream",
     "text": [
      "69.1 µs ± 47.3 ns per loop (mean ± std. dev. of 7 runs, 10,000 loops each)\n"
     ]
    }
   ],
   "source": [
    "t_split = FastTreeValue.func(rise=True)(torch.split)\n",
    "tree = FastTreeValue({\n",
    "    'obs': torch.randn(8, 4, 84, 84),\n",
    "    'action': torch.randint(0, 6, size=(8, 1,)),\n",
    "    'reward': torch.rand(8, 1),\n",
    "})\n",
    "\n",
    "%timeit t_split(tree, 1)"
   ]
  },
  {
   "cell_type": "markdown",
   "id": "31c3ec0b",
   "metadata": {},
   "source": [
    "### Performance of Tianshou Batch"
   ]
  },
  {
   "cell_type": "code",
   "execution_count": 25,
   "id": "9ead828a",
   "metadata": {
    "execution": {
     "iopub.execute_input": "2023-08-10T04:08:50.466734Z",
     "iopub.status.busy": "2023-08-10T04:08:50.466230Z",
     "iopub.status.idle": "2023-08-10T04:08:50.474047Z",
     "shell.execute_reply": "2023-08-10T04:08:50.473306Z"
    }
   },
   "outputs": [
    {
     "data": {
      "text/plain": [
       "Batch(\n",
       "    a: tensor([[[ 0.0428, -1.8604, -0.5831],\n",
       "                [ 1.8451, -0.4697, -1.0327]],\n",
       "       \n",
       "               [[ 0.0428, -1.8604, -0.5831],\n",
       "                [ 1.8451, -0.4697, -1.0327]],\n",
       "       \n",
       "               [[ 0.0428, -1.8604, -0.5831],\n",
       "                [ 1.8451, -0.4697, -1.0327]],\n",
       "       \n",
       "               [[ 0.0428, -1.8604, -0.5831],\n",
       "                [ 1.8451, -0.4697, -1.0327]],\n",
       "       \n",
       "               [[ 0.0428, -1.8604, -0.5831],\n",
       "                [ 1.8451, -0.4697, -1.0327]],\n",
       "       \n",
       "               [[ 0.0428, -1.8604, -0.5831],\n",
       "                [ 1.8451, -0.4697, -1.0327]],\n",
       "       \n",
       "               [[ 0.0428, -1.8604, -0.5831],\n",
       "                [ 1.8451, -0.4697, -1.0327]],\n",
       "       \n",
       "               [[ 0.0428, -1.8604, -0.5831],\n",
       "                [ 1.8451, -0.4697, -1.0327]]]),\n",
       "    x: Batch(\n",
       "           c: tensor([[[ 1.0207,  0.6295,  0.4877,  0.7561],\n",
       "                       [ 0.3871, -0.9379, -0.3367, -0.6578],\n",
       "                       [-0.7158, -0.5375, -0.3006, -1.8463]],\n",
       "              \n",
       "                      [[ 1.0207,  0.6295,  0.4877,  0.7561],\n",
       "                       [ 0.3871, -0.9379, -0.3367, -0.6578],\n",
       "                       [-0.7158, -0.5375, -0.3006, -1.8463]],\n",
       "              \n",
       "                      [[ 1.0207,  0.6295,  0.4877,  0.7561],\n",
       "                       [ 0.3871, -0.9379, -0.3367, -0.6578],\n",
       "                       [-0.7158, -0.5375, -0.3006, -1.8463]],\n",
       "              \n",
       "                      [[ 1.0207,  0.6295,  0.4877,  0.7561],\n",
       "                       [ 0.3871, -0.9379, -0.3367, -0.6578],\n",
       "                       [-0.7158, -0.5375, -0.3006, -1.8463]],\n",
       "              \n",
       "                      [[ 1.0207,  0.6295,  0.4877,  0.7561],\n",
       "                       [ 0.3871, -0.9379, -0.3367, -0.6578],\n",
       "                       [-0.7158, -0.5375, -0.3006, -1.8463]],\n",
       "              \n",
       "                      [[ 1.0207,  0.6295,  0.4877,  0.7561],\n",
       "                       [ 0.3871, -0.9379, -0.3367, -0.6578],\n",
       "                       [-0.7158, -0.5375, -0.3006, -1.8463]],\n",
       "              \n",
       "                      [[ 1.0207,  0.6295,  0.4877,  0.7561],\n",
       "                       [ 0.3871, -0.9379, -0.3367, -0.6578],\n",
       "                       [-0.7158, -0.5375, -0.3006, -1.8463]],\n",
       "              \n",
       "                      [[ 1.0207,  0.6295,  0.4877,  0.7561],\n",
       "                       [ 0.3871, -0.9379, -0.3367, -0.6578],\n",
       "                       [-0.7158, -0.5375, -0.3006, -1.8463]]]),\n",
       "       ),\n",
       ")"
      ]
     },
     "execution_count": 25,
     "metadata": {},
     "output_type": "execute_result"
    }
   ],
   "source": [
    "batches = [Batch(**_TREE_DATA_2) for _ in range(8)]\n",
    "\n",
    "Batch.stack(batches)"
   ]
  },
  {
   "cell_type": "code",
   "execution_count": 26,
   "id": "ec9037a3",
   "metadata": {
    "execution": {
     "iopub.execute_input": "2023-08-10T04:08:50.477145Z",
     "iopub.status.busy": "2023-08-10T04:08:50.476730Z",
     "iopub.status.idle": "2023-08-10T04:08:56.947503Z",
     "shell.execute_reply": "2023-08-10T04:08:56.946796Z"
    }
   },
   "outputs": [
    {
     "name": "stdout",
     "output_type": "stream",
     "text": [
      "79.6 µs ± 148 ns per loop (mean ± std. dev. of 7 runs, 10,000 loops each)\n"
     ]
    }
   ],
   "source": [
    "%timeit Batch.stack(batches)"
   ]
  },
  {
   "cell_type": "code",
   "execution_count": 27,
   "id": "cb8ab77e",
   "metadata": {
    "execution": {
     "iopub.execute_input": "2023-08-10T04:08:56.950665Z",
     "iopub.status.busy": "2023-08-10T04:08:56.950417Z",
     "iopub.status.idle": "2023-08-10T04:08:56.958707Z",
     "shell.execute_reply": "2023-08-10T04:08:56.958073Z"
    }
   },
   "outputs": [
    {
     "data": {
      "text/plain": [
       "Batch(\n",
       "    a: tensor([[ 0.0428, -1.8604, -0.5831],\n",
       "               [ 1.8451, -0.4697, -1.0327],\n",
       "               [ 0.0428, -1.8604, -0.5831],\n",
       "               [ 1.8451, -0.4697, -1.0327],\n",
       "               [ 0.0428, -1.8604, -0.5831],\n",
       "               [ 1.8451, -0.4697, -1.0327],\n",
       "               [ 0.0428, -1.8604, -0.5831],\n",
       "               [ 1.8451, -0.4697, -1.0327],\n",
       "               [ 0.0428, -1.8604, -0.5831],\n",
       "               [ 1.8451, -0.4697, -1.0327],\n",
       "               [ 0.0428, -1.8604, -0.5831],\n",
       "               [ 1.8451, -0.4697, -1.0327],\n",
       "               [ 0.0428, -1.8604, -0.5831],\n",
       "               [ 1.8451, -0.4697, -1.0327],\n",
       "               [ 0.0428, -1.8604, -0.5831],\n",
       "               [ 1.8451, -0.4697, -1.0327]]),\n",
       "    x: Batch(\n",
       "           c: tensor([[ 1.0207,  0.6295,  0.4877,  0.7561],\n",
       "                      [ 0.3871, -0.9379, -0.3367, -0.6578],\n",
       "                      [-0.7158, -0.5375, -0.3006, -1.8463],\n",
       "                      [ 1.0207,  0.6295,  0.4877,  0.7561],\n",
       "                      [ 0.3871, -0.9379, -0.3367, -0.6578],\n",
       "                      [-0.7158, -0.5375, -0.3006, -1.8463],\n",
       "                      [ 1.0207,  0.6295,  0.4877,  0.7561],\n",
       "                      [ 0.3871, -0.9379, -0.3367, -0.6578],\n",
       "                      [-0.7158, -0.5375, -0.3006, -1.8463],\n",
       "                      [ 1.0207,  0.6295,  0.4877,  0.7561],\n",
       "                      [ 0.3871, -0.9379, -0.3367, -0.6578],\n",
       "                      [-0.7158, -0.5375, -0.3006, -1.8463],\n",
       "                      [ 1.0207,  0.6295,  0.4877,  0.7561],\n",
       "                      [ 0.3871, -0.9379, -0.3367, -0.6578],\n",
       "                      [-0.7158, -0.5375, -0.3006, -1.8463],\n",
       "                      [ 1.0207,  0.6295,  0.4877,  0.7561],\n",
       "                      [ 0.3871, -0.9379, -0.3367, -0.6578],\n",
       "                      [-0.7158, -0.5375, -0.3006, -1.8463],\n",
       "                      [ 1.0207,  0.6295,  0.4877,  0.7561],\n",
       "                      [ 0.3871, -0.9379, -0.3367, -0.6578],\n",
       "                      [-0.7158, -0.5375, -0.3006, -1.8463],\n",
       "                      [ 1.0207,  0.6295,  0.4877,  0.7561],\n",
       "                      [ 0.3871, -0.9379, -0.3367, -0.6578],\n",
       "                      [-0.7158, -0.5375, -0.3006, -1.8463]]),\n",
       "       ),\n",
       ")"
      ]
     },
     "execution_count": 27,
     "metadata": {},
     "output_type": "execute_result"
    }
   ],
   "source": [
    "Batch.cat(batches)"
   ]
  },
  {
   "cell_type": "code",
   "execution_count": 28,
   "id": "18dfb045",
   "metadata": {
    "execution": {
     "iopub.execute_input": "2023-08-10T04:08:56.962120Z",
     "iopub.status.busy": "2023-08-10T04:08:56.961581Z",
     "iopub.status.idle": "2023-08-10T04:09:10.095329Z",
     "shell.execute_reply": "2023-08-10T04:09:10.094726Z"
    }
   },
   "outputs": [
    {
     "name": "stdout",
     "output_type": "stream",
     "text": [
      "162 µs ± 539 ns per loop (mean ± std. dev. of 7 runs, 10,000 loops each)\n"
     ]
    }
   ],
   "source": [
    "%timeit Batch.cat(batches)"
   ]
  },
  {
   "cell_type": "code",
   "execution_count": 29,
   "id": "c6688e51",
   "metadata": {
    "execution": {
     "iopub.execute_input": "2023-08-10T04:09:10.098685Z",
     "iopub.status.busy": "2023-08-10T04:09:10.098061Z",
     "iopub.status.idle": "2023-08-10T04:09:12.803477Z",
     "shell.execute_reply": "2023-08-10T04:09:12.802886Z"
    }
   },
   "outputs": [
    {
     "name": "stdout",
     "output_type": "stream",
     "text": [
      "333 µs ± 4.92 µs per loop (mean ± std. dev. of 7 runs, 1,000 loops each)\n"
     ]
    }
   ],
   "source": [
    "batch = Batch({\n",
    "    'obs': torch.randn(8, 4, 84, 84),\n",
    "    'action': torch.randint(0, 6, size=(8, 1,)),\n",
    "    'reward': torch.rand(8, 1)}\n",
    ")\n",
    "\n",
    "%timeit list(Batch.split(batch, 1, shuffle=False, merge_last=True))"
   ]
  },
  {
   "cell_type": "code",
   "execution_count": null,
   "id": "2539fbd9",
   "metadata": {},
   "outputs": [],
   "source": []
  }
 ],
 "metadata": {
  "kernelspec": {
   "display_name": "Python 3 (ipykernel)",
   "language": "python",
   "name": "python3"
  },
  "language_info": {
   "codemirror_mode": {
    "name": "ipython",
    "version": 3
   },
   "file_extension": ".py",
   "mimetype": "text/x-python",
   "name": "python",
   "nbconvert_exporter": "python",
   "pygments_lexer": "ipython3",
   "version": "3.8.17"
  }
 },
 "nbformat": 4,
 "nbformat_minor": 5
}
