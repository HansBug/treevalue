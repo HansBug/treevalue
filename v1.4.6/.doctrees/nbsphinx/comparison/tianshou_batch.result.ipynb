{
 "cells": [
  {
   "cell_type": "markdown",
   "id": "9d39d946",
   "metadata": {},
   "source": [
    "# Comparison Between TreeValue and Tianshou Batch"
   ]
  },
  {
   "cell_type": "markdown",
   "id": "3c6db2d4",
   "metadata": {},
   "source": [
    "In this section, we will take a look at the feature and performance of the [Tianshou Batch](https://github.com/thu-ml/tianshou) library, which is developed by Tsinghua Machine Learning Group."
   ]
  },
  {
   "cell_type": "markdown",
   "id": "069361b0",
   "metadata": {},
   "source": [
    "Before starting the comparison, let us define some thing."
   ]
  },
  {
   "cell_type": "code",
   "execution_count": 1,
   "id": "06fc8d26",
   "metadata": {
    "execution": {
     "iopub.execute_input": "2024-10-16T12:56:22.276664Z",
     "iopub.status.busy": "2024-10-16T12:56:22.276260Z",
     "iopub.status.idle": "2024-10-16T12:56:23.480580Z",
     "shell.execute_reply": "2024-10-16T12:56:23.479966Z"
    }
   },
   "outputs": [],
   "source": [
    "import torch \n",
    "\n",
    "_TREE_DATA_1 = {'a': 1, 'b': 2, 'x': {'c': 3, 'd': 4}}\n",
    "_TREE_DATA_2 = {\n",
    "    'a': torch.randn(2, 3), \n",
    "    'x': {\n",
    "        'c': torch.randn(3, 4)\n",
    "    },\n",
    "}\n",
    "_TREE_DATA_3 = {\n",
    "    'obs': torch.randn(4, 84, 84),\n",
    "    'action': torch.randint(0, 6, size=(1,)),\n",
    "    'reward': torch.rand(1),\n",
    "}"
   ]
  },
  {
   "cell_type": "markdown",
   "id": "83461b25",
   "metadata": {},
   "source": [
    "## Read and Write Operation"
   ]
  },
  {
   "cell_type": "markdown",
   "id": "067b3f73",
   "metadata": {},
   "source": [
    "Reading and writing are the two most common operations in the tree data structure based on the data model (TreeValue and Tianshou Batch both belong to this type), so this section will compare the reading and writing performance of these two libraries."
   ]
  },
  {
   "cell_type": "markdown",
   "id": "5d09a5b7",
   "metadata": {},
   "source": [
    "### TreeValue's Get and Set"
   ]
  },
  {
   "cell_type": "code",
   "execution_count": 2,
   "id": "9519c4bb",
   "metadata": {
    "execution": {
     "iopub.execute_input": "2024-10-16T12:56:23.483316Z",
     "iopub.status.busy": "2024-10-16T12:56:23.482949Z",
     "iopub.status.idle": "2024-10-16T12:56:23.804372Z",
     "shell.execute_reply": "2024-10-16T12:56:23.803706Z"
    }
   },
   "outputs": [],
   "source": [
    "from treevalue import FastTreeValue\n",
    "\n",
    "t = FastTreeValue(_TREE_DATA_2)"
   ]
  },
  {
   "cell_type": "code",
   "execution_count": 3,
   "id": "11c37677",
   "metadata": {
    "execution": {
     "iopub.execute_input": "2024-10-16T12:56:23.807074Z",
     "iopub.status.busy": "2024-10-16T12:56:23.806598Z",
     "iopub.status.idle": "2024-10-16T12:56:23.815394Z",
     "shell.execute_reply": "2024-10-16T12:56:23.814686Z"
    }
   },
   "outputs": [
    {
     "data": {
      "text/plain": [
       "<FastTreeValue 0x7f0770ae0f10>\n",
       "├── 'a' --> tensor([[-0.6042,  1.1408,  0.8072],\n",
       "│                   [-0.3247, -1.0783,  0.6356]])\n",
       "└── 'x' --> <FastTreeValue 0x7f0770ae0f70>\n",
       "    └── 'c' --> tensor([[-0.2790, -0.0511, -0.8639, -0.4985],\n",
       "                        [-0.1105, -0.7906, -0.2839,  0.9364],\n",
       "                        [-1.7278, -0.4639, -0.1368, -0.6824]])"
      ]
     },
     "execution_count": 3,
     "metadata": {},
     "output_type": "execute_result"
    }
   ],
   "source": [
    "t"
   ]
  },
  {
   "cell_type": "code",
   "execution_count": 4,
   "id": "fd70b0b9",
   "metadata": {
    "execution": {
     "iopub.execute_input": "2024-10-16T12:56:23.817379Z",
     "iopub.status.busy": "2024-10-16T12:56:23.817180Z",
     "iopub.status.idle": "2024-10-16T12:56:23.822215Z",
     "shell.execute_reply": "2024-10-16T12:56:23.821561Z"
    }
   },
   "outputs": [
    {
     "data": {
      "text/plain": [
       "tensor([[-0.6042,  1.1408,  0.8072],\n",
       "        [-0.3247, -1.0783,  0.6356]])"
      ]
     },
     "execution_count": 4,
     "metadata": {},
     "output_type": "execute_result"
    }
   ],
   "source": [
    "t.a"
   ]
  },
  {
   "cell_type": "code",
   "execution_count": 5,
   "id": "c18197bd",
   "metadata": {
    "execution": {
     "iopub.execute_input": "2024-10-16T12:56:23.824325Z",
     "iopub.status.busy": "2024-10-16T12:56:23.823949Z",
     "iopub.status.idle": "2024-10-16T12:56:27.664878Z",
     "shell.execute_reply": "2024-10-16T12:56:27.664143Z"
    }
   },
   "outputs": [
    {
     "name": "stdout",
     "output_type": "stream",
     "text": [
      "47.4 ns ± 0.325 ns per loop (mean ± std. dev. of 7 runs, 10,000,000 loops each)\n"
     ]
    }
   ],
   "source": [
    "%timeit t.a"
   ]
  },
  {
   "cell_type": "code",
   "execution_count": 6,
   "id": "bd52f867",
   "metadata": {
    "execution": {
     "iopub.execute_input": "2024-10-16T12:56:27.667133Z",
     "iopub.status.busy": "2024-10-16T12:56:27.666717Z",
     "iopub.status.idle": "2024-10-16T12:56:27.672481Z",
     "shell.execute_reply": "2024-10-16T12:56:27.671951Z"
    }
   },
   "outputs": [
    {
     "data": {
      "text/plain": [
       "<FastTreeValue 0x7f0770ae0f10>\n",
       "├── 'a' --> tensor([[ 0.3849, -0.6936,  0.1456],\n",
       "│                   [ 0.7167,  0.4908, -0.2481]])\n",
       "└── 'x' --> <FastTreeValue 0x7f0770ae0f70>\n",
       "    └── 'c' --> tensor([[-0.2790, -0.0511, -0.8639, -0.4985],\n",
       "                        [-0.1105, -0.7906, -0.2839,  0.9364],\n",
       "                        [-1.7278, -0.4639, -0.1368, -0.6824]])"
      ]
     },
     "execution_count": 6,
     "metadata": {},
     "output_type": "execute_result"
    }
   ],
   "source": [
    "new_value = torch.randn(2, 3)\n",
    "t.a = new_value\n",
    "\n",
    "t"
   ]
  },
  {
   "cell_type": "code",
   "execution_count": 7,
   "id": "bbe04d1c",
   "metadata": {
    "execution": {
     "iopub.execute_input": "2024-10-16T12:56:27.674460Z",
     "iopub.status.busy": "2024-10-16T12:56:27.674073Z",
     "iopub.status.idle": "2024-10-16T12:56:31.990148Z",
     "shell.execute_reply": "2024-10-16T12:56:31.989445Z"
    }
   },
   "outputs": [
    {
     "name": "stdout",
     "output_type": "stream",
     "text": [
      "52.8 ns ± 0.0805 ns per loop (mean ± std. dev. of 7 runs, 10,000,000 loops each)\n"
     ]
    }
   ],
   "source": [
    "%timeit t.a = new_value"
   ]
  },
  {
   "cell_type": "markdown",
   "id": "48c49731",
   "metadata": {},
   "source": [
    "### Tianshou Batch's Get and Set"
   ]
  },
  {
   "cell_type": "code",
   "execution_count": 8,
   "id": "f1bb14c1",
   "metadata": {
    "execution": {
     "iopub.execute_input": "2024-10-16T12:56:31.992520Z",
     "iopub.status.busy": "2024-10-16T12:56:31.992126Z",
     "iopub.status.idle": "2024-10-16T12:56:32.312044Z",
     "shell.execute_reply": "2024-10-16T12:56:32.311307Z"
    }
   },
   "outputs": [],
   "source": [
    "from tianshou.data import Batch\n",
    "\n",
    "b = Batch(**_TREE_DATA_2)"
   ]
  },
  {
   "cell_type": "code",
   "execution_count": 9,
   "id": "cb0777c3",
   "metadata": {
    "execution": {
     "iopub.execute_input": "2024-10-16T12:56:32.314663Z",
     "iopub.status.busy": "2024-10-16T12:56:32.314341Z",
     "iopub.status.idle": "2024-10-16T12:56:32.320121Z",
     "shell.execute_reply": "2024-10-16T12:56:32.319485Z"
    }
   },
   "outputs": [
    {
     "data": {
      "text/plain": [
       "Batch(\n",
       "    a: tensor([[-0.6042,  1.1408,  0.8072],\n",
       "               [-0.3247, -1.0783,  0.6356]]),\n",
       "    x: Batch(\n",
       "           c: tensor([[-0.2790, -0.0511, -0.8639, -0.4985],\n",
       "                      [-0.1105, -0.7906, -0.2839,  0.9364],\n",
       "                      [-1.7278, -0.4639, -0.1368, -0.6824]]),\n",
       "       ),\n",
       ")"
      ]
     },
     "execution_count": 9,
     "metadata": {},
     "output_type": "execute_result"
    }
   ],
   "source": [
    "b"
   ]
  },
  {
   "cell_type": "code",
   "execution_count": 10,
   "id": "43ef8ea3",
   "metadata": {
    "execution": {
     "iopub.execute_input": "2024-10-16T12:56:32.322116Z",
     "iopub.status.busy": "2024-10-16T12:56:32.321739Z",
     "iopub.status.idle": "2024-10-16T12:56:32.326817Z",
     "shell.execute_reply": "2024-10-16T12:56:32.326189Z"
    }
   },
   "outputs": [
    {
     "data": {
      "text/plain": [
       "tensor([[-0.6042,  1.1408,  0.8072],\n",
       "        [-0.3247, -1.0783,  0.6356]])"
      ]
     },
     "execution_count": 10,
     "metadata": {},
     "output_type": "execute_result"
    }
   ],
   "source": [
    "b.a"
   ]
  },
  {
   "cell_type": "code",
   "execution_count": 11,
   "id": "b785ab72",
   "metadata": {
    "execution": {
     "iopub.execute_input": "2024-10-16T12:56:32.329031Z",
     "iopub.status.busy": "2024-10-16T12:56:32.328502Z",
     "iopub.status.idle": "2024-10-16T12:56:35.743427Z",
     "shell.execute_reply": "2024-10-16T12:56:35.742692Z"
    }
   },
   "outputs": [
    {
     "name": "stdout",
     "output_type": "stream",
     "text": [
      "42 ns ± 0.744 ns per loop (mean ± std. dev. of 7 runs, 10,000,000 loops each)\n"
     ]
    }
   ],
   "source": [
    "%timeit b.a"
   ]
  },
  {
   "cell_type": "code",
   "execution_count": 12,
   "id": "ad54dc69",
   "metadata": {
    "execution": {
     "iopub.execute_input": "2024-10-16T12:56:35.745743Z",
     "iopub.status.busy": "2024-10-16T12:56:35.745500Z",
     "iopub.status.idle": "2024-10-16T12:56:35.751317Z",
     "shell.execute_reply": "2024-10-16T12:56:35.750753Z"
    }
   },
   "outputs": [
    {
     "data": {
      "text/plain": [
       "Batch(\n",
       "    a: tensor([[ 0.2927,  0.6275, -1.2657],\n",
       "               [-0.6560, -0.2843,  1.0725]]),\n",
       "    x: Batch(\n",
       "           c: tensor([[-0.2790, -0.0511, -0.8639, -0.4985],\n",
       "                      [-0.1105, -0.7906, -0.2839,  0.9364],\n",
       "                      [-1.7278, -0.4639, -0.1368, -0.6824]]),\n",
       "       ),\n",
       ")"
      ]
     },
     "execution_count": 12,
     "metadata": {},
     "output_type": "execute_result"
    }
   ],
   "source": [
    "new_value = torch.randn(2, 3)\n",
    "b.a = new_value\n",
    "\n",
    "b"
   ]
  },
  {
   "cell_type": "code",
   "execution_count": 13,
   "id": "29b1d0bf",
   "metadata": {
    "execution": {
     "iopub.execute_input": "2024-10-16T12:56:35.753481Z",
     "iopub.status.busy": "2024-10-16T12:56:35.753090Z",
     "iopub.status.idle": "2024-10-16T12:56:38.734558Z",
     "shell.execute_reply": "2024-10-16T12:56:38.733903Z"
    }
   },
   "outputs": [
    {
     "name": "stdout",
     "output_type": "stream",
     "text": [
      "367 ns ± 4.36 ns per loop (mean ± std. dev. of 7 runs, 1,000,000 loops each)\n"
     ]
    }
   ],
   "source": [
    "%timeit b.a = new_value"
   ]
  },
  {
   "cell_type": "markdown",
   "id": "b61ad1d0",
   "metadata": {},
   "source": [
    "## Initialization"
   ]
  },
  {
   "cell_type": "markdown",
   "id": "d70f0d54",
   "metadata": {},
   "source": [
    "### TreeValue's Initialization"
   ]
  },
  {
   "cell_type": "code",
   "execution_count": 14,
   "id": "d32a679b",
   "metadata": {
    "execution": {
     "iopub.execute_input": "2024-10-16T12:56:38.736934Z",
     "iopub.status.busy": "2024-10-16T12:56:38.736535Z",
     "iopub.status.idle": "2024-10-16T12:56:43.922655Z",
     "shell.execute_reply": "2024-10-16T12:56:43.921965Z"
    }
   },
   "outputs": [
    {
     "name": "stdout",
     "output_type": "stream",
     "text": [
      "638 ns ± 6.91 ns per loop (mean ± std. dev. of 7 runs, 1,000,000 loops each)\n"
     ]
    }
   ],
   "source": [
    "%timeit FastTreeValue(_TREE_DATA_1)"
   ]
  },
  {
   "cell_type": "markdown",
   "id": "24f3707b",
   "metadata": {},
   "source": [
    "### Tianshou Batch's Initialization"
   ]
  },
  {
   "cell_type": "code",
   "execution_count": 15,
   "id": "ac3958df",
   "metadata": {
    "execution": {
     "iopub.execute_input": "2024-10-16T12:56:43.924931Z",
     "iopub.status.busy": "2024-10-16T12:56:43.924555Z",
     "iopub.status.idle": "2024-10-16T12:56:50.752967Z",
     "shell.execute_reply": "2024-10-16T12:56:50.752300Z"
    }
   },
   "outputs": [
    {
     "name": "stdout",
     "output_type": "stream",
     "text": [
      "8.4 µs ± 148 ns per loop (mean ± std. dev. of 7 runs, 100,000 loops each)\n"
     ]
    }
   ],
   "source": [
    "%timeit Batch(**_TREE_DATA_1)"
   ]
  },
  {
   "cell_type": "markdown",
   "id": "1ab82e2d",
   "metadata": {},
   "source": [
    "## Deep Copy Operation"
   ]
  },
  {
   "cell_type": "code",
   "execution_count": 16,
   "id": "210a9442",
   "metadata": {
    "execution": {
     "iopub.execute_input": "2024-10-16T12:56:50.755484Z",
     "iopub.status.busy": "2024-10-16T12:56:50.755061Z",
     "iopub.status.idle": "2024-10-16T12:56:50.758150Z",
     "shell.execute_reply": "2024-10-16T12:56:50.757596Z"
    }
   },
   "outputs": [],
   "source": [
    "import copy"
   ]
  },
  {
   "cell_type": "markdown",
   "id": "5a736274",
   "metadata": {},
   "source": [
    "### Deep Copy of TreeValue"
   ]
  },
  {
   "cell_type": "code",
   "execution_count": 17,
   "id": "f9bcadd6",
   "metadata": {
    "execution": {
     "iopub.execute_input": "2024-10-16T12:56:50.760375Z",
     "iopub.status.busy": "2024-10-16T12:56:50.759986Z",
     "iopub.status.idle": "2024-10-16T12:57:01.085562Z",
     "shell.execute_reply": "2024-10-16T12:57:01.084846Z"
    }
   },
   "outputs": [
    {
     "name": "stdout",
     "output_type": "stream",
     "text": [
      "127 µs ± 621 ns per loop (mean ± std. dev. of 7 runs, 10,000 loops each)\n"
     ]
    }
   ],
   "source": [
    "t3 = FastTreeValue(_TREE_DATA_3)\n",
    "%timeit copy.deepcopy(t3)"
   ]
  },
  {
   "cell_type": "markdown",
   "id": "bf8be7ea",
   "metadata": {},
   "source": [
    "### Deep Copy of Tianshou Batch"
   ]
  },
  {
   "cell_type": "code",
   "execution_count": 18,
   "id": "91998e6f",
   "metadata": {
    "execution": {
     "iopub.execute_input": "2024-10-16T12:57:01.088215Z",
     "iopub.status.busy": "2024-10-16T12:57:01.087723Z",
     "iopub.status.idle": "2024-10-16T12:57:11.266595Z",
     "shell.execute_reply": "2024-10-16T12:57:11.265857Z"
    }
   },
   "outputs": [
    {
     "name": "stdout",
     "output_type": "stream",
     "text": [
      "125 µs ± 659 ns per loop (mean ± std. dev. of 7 runs, 10,000 loops each)\n"
     ]
    }
   ],
   "source": [
    "b3 = Batch(**_TREE_DATA_3)\n",
    "%timeit copy.deepcopy(b3)"
   ]
  },
  {
   "cell_type": "markdown",
   "id": "223162fb",
   "metadata": {},
   "source": [
    "## Stack, Concat and Split Operation"
   ]
  },
  {
   "cell_type": "markdown",
   "id": "85fa4a73",
   "metadata": {},
   "source": [
    "### Performance of TreeValue"
   ]
  },
  {
   "cell_type": "code",
   "execution_count": 19,
   "id": "a0c2b697",
   "metadata": {
    "execution": {
     "iopub.execute_input": "2024-10-16T12:57:11.269166Z",
     "iopub.status.busy": "2024-10-16T12:57:11.268939Z",
     "iopub.status.idle": "2024-10-16T12:57:11.272216Z",
     "shell.execute_reply": "2024-10-16T12:57:11.271669Z"
    }
   },
   "outputs": [],
   "source": [
    "trees = [FastTreeValue(_TREE_DATA_2) for _ in range(8)]"
   ]
  },
  {
   "cell_type": "code",
   "execution_count": 20,
   "id": "017ea5a5",
   "metadata": {
    "execution": {
     "iopub.execute_input": "2024-10-16T12:57:11.274155Z",
     "iopub.status.busy": "2024-10-16T12:57:11.273954Z",
     "iopub.status.idle": "2024-10-16T12:57:11.280967Z",
     "shell.execute_reply": "2024-10-16T12:57:11.280400Z"
    }
   },
   "outputs": [
    {
     "data": {
      "text/plain": [
       "<FastTreeValue 0x7f068bf8de20>\n",
       "├── 'a' --> tensor([[[-0.6042,  1.1408,  0.8072],\n",
       "│                    [-0.3247, -1.0783,  0.6356]],\n",
       "│           \n",
       "│                   [[-0.6042,  1.1408,  0.8072],\n",
       "│                    [-0.3247, -1.0783,  0.6356]],\n",
       "│           \n",
       "│                   [[-0.6042,  1.1408,  0.8072],\n",
       "│                    [-0.3247, -1.0783,  0.6356]],\n",
       "│           \n",
       "│                   [[-0.6042,  1.1408,  0.8072],\n",
       "│                    [-0.3247, -1.0783,  0.6356]],\n",
       "│           \n",
       "│                   [[-0.6042,  1.1408,  0.8072],\n",
       "│                    [-0.3247, -1.0783,  0.6356]],\n",
       "│           \n",
       "│                   [[-0.6042,  1.1408,  0.8072],\n",
       "│                    [-0.3247, -1.0783,  0.6356]],\n",
       "│           \n",
       "│                   [[-0.6042,  1.1408,  0.8072],\n",
       "│                    [-0.3247, -1.0783,  0.6356]],\n",
       "│           \n",
       "│                   [[-0.6042,  1.1408,  0.8072],\n",
       "│                    [-0.3247, -1.0783,  0.6356]]])\n",
       "└── 'x' --> <FastTreeValue 0x7f07850e0c40>\n",
       "    └── 'c' --> tensor([[[-0.2790, -0.0511, -0.8639, -0.4985],\n",
       "                         [-0.1105, -0.7906, -0.2839,  0.9364],\n",
       "                         [-1.7278, -0.4639, -0.1368, -0.6824]],\n",
       "                \n",
       "                        [[-0.2790, -0.0511, -0.8639, -0.4985],\n",
       "                         [-0.1105, -0.7906, -0.2839,  0.9364],\n",
       "                         [-1.7278, -0.4639, -0.1368, -0.6824]],\n",
       "                \n",
       "                        [[-0.2790, -0.0511, -0.8639, -0.4985],\n",
       "                         [-0.1105, -0.7906, -0.2839,  0.9364],\n",
       "                         [-1.7278, -0.4639, -0.1368, -0.6824]],\n",
       "                \n",
       "                        [[-0.2790, -0.0511, -0.8639, -0.4985],\n",
       "                         [-0.1105, -0.7906, -0.2839,  0.9364],\n",
       "                         [-1.7278, -0.4639, -0.1368, -0.6824]],\n",
       "                \n",
       "                        [[-0.2790, -0.0511, -0.8639, -0.4985],\n",
       "                         [-0.1105, -0.7906, -0.2839,  0.9364],\n",
       "                         [-1.7278, -0.4639, -0.1368, -0.6824]],\n",
       "                \n",
       "                        [[-0.2790, -0.0511, -0.8639, -0.4985],\n",
       "                         [-0.1105, -0.7906, -0.2839,  0.9364],\n",
       "                         [-1.7278, -0.4639, -0.1368, -0.6824]],\n",
       "                \n",
       "                        [[-0.2790, -0.0511, -0.8639, -0.4985],\n",
       "                         [-0.1105, -0.7906, -0.2839,  0.9364],\n",
       "                         [-1.7278, -0.4639, -0.1368, -0.6824]],\n",
       "                \n",
       "                        [[-0.2790, -0.0511, -0.8639, -0.4985],\n",
       "                         [-0.1105, -0.7906, -0.2839,  0.9364],\n",
       "                         [-1.7278, -0.4639, -0.1368, -0.6824]]])"
      ]
     },
     "execution_count": 20,
     "metadata": {},
     "output_type": "execute_result"
    }
   ],
   "source": [
    "t_stack = FastTreeValue.func(subside=True)(torch.stack)\n",
    "\n",
    "t_stack(trees)"
   ]
  },
  {
   "cell_type": "code",
   "execution_count": 21,
   "id": "f8b3f415",
   "metadata": {
    "execution": {
     "iopub.execute_input": "2024-10-16T12:57:11.282891Z",
     "iopub.status.busy": "2024-10-16T12:57:11.282684Z",
     "iopub.status.idle": "2024-10-16T12:57:13.200409Z",
     "shell.execute_reply": "2024-10-16T12:57:13.199692Z"
    }
   },
   "outputs": [
    {
     "name": "stdout",
     "output_type": "stream",
     "text": [
      "23.6 µs ± 271 ns per loop (mean ± std. dev. of 7 runs, 10,000 loops each)\n"
     ]
    }
   ],
   "source": [
    "%timeit t_stack(trees)"
   ]
  },
  {
   "cell_type": "code",
   "execution_count": 22,
   "id": "94b56771",
   "metadata": {
    "execution": {
     "iopub.execute_input": "2024-10-16T12:57:13.202593Z",
     "iopub.status.busy": "2024-10-16T12:57:13.202244Z",
     "iopub.status.idle": "2024-10-16T12:57:13.209277Z",
     "shell.execute_reply": "2024-10-16T12:57:13.208617Z"
    }
   },
   "outputs": [
    {
     "data": {
      "text/plain": [
       "<FastTreeValue 0x7f0770b492b0>\n",
       "├── 'a' --> tensor([[-0.6042,  1.1408,  0.8072],\n",
       "│                   [-0.3247, -1.0783,  0.6356],\n",
       "│                   [-0.6042,  1.1408,  0.8072],\n",
       "│                   [-0.3247, -1.0783,  0.6356],\n",
       "│                   [-0.6042,  1.1408,  0.8072],\n",
       "│                   [-0.3247, -1.0783,  0.6356],\n",
       "│                   [-0.6042,  1.1408,  0.8072],\n",
       "│                   [-0.3247, -1.0783,  0.6356],\n",
       "│                   [-0.6042,  1.1408,  0.8072],\n",
       "│                   [-0.3247, -1.0783,  0.6356],\n",
       "│                   [-0.6042,  1.1408,  0.8072],\n",
       "│                   [-0.3247, -1.0783,  0.6356],\n",
       "│                   [-0.6042,  1.1408,  0.8072],\n",
       "│                   [-0.3247, -1.0783,  0.6356],\n",
       "│                   [-0.6042,  1.1408,  0.8072],\n",
       "│                   [-0.3247, -1.0783,  0.6356]])\n",
       "└── 'x' --> <FastTreeValue 0x7f068bf770d0>\n",
       "    └── 'c' --> tensor([[-0.2790, -0.0511, -0.8639, -0.4985],\n",
       "                        [-0.1105, -0.7906, -0.2839,  0.9364],\n",
       "                        [-1.7278, -0.4639, -0.1368, -0.6824],\n",
       "                        [-0.2790, -0.0511, -0.8639, -0.4985],\n",
       "                        [-0.1105, -0.7906, -0.2839,  0.9364],\n",
       "                        [-1.7278, -0.4639, -0.1368, -0.6824],\n",
       "                        [-0.2790, -0.0511, -0.8639, -0.4985],\n",
       "                        [-0.1105, -0.7906, -0.2839,  0.9364],\n",
       "                        [-1.7278, -0.4639, -0.1368, -0.6824],\n",
       "                        [-0.2790, -0.0511, -0.8639, -0.4985],\n",
       "                        [-0.1105, -0.7906, -0.2839,  0.9364],\n",
       "                        [-1.7278, -0.4639, -0.1368, -0.6824],\n",
       "                        [-0.2790, -0.0511, -0.8639, -0.4985],\n",
       "                        [-0.1105, -0.7906, -0.2839,  0.9364],\n",
       "                        [-1.7278, -0.4639, -0.1368, -0.6824],\n",
       "                        [-0.2790, -0.0511, -0.8639, -0.4985],\n",
       "                        [-0.1105, -0.7906, -0.2839,  0.9364],\n",
       "                        [-1.7278, -0.4639, -0.1368, -0.6824],\n",
       "                        [-0.2790, -0.0511, -0.8639, -0.4985],\n",
       "                        [-0.1105, -0.7906, -0.2839,  0.9364],\n",
       "                        [-1.7278, -0.4639, -0.1368, -0.6824],\n",
       "                        [-0.2790, -0.0511, -0.8639, -0.4985],\n",
       "                        [-0.1105, -0.7906, -0.2839,  0.9364],\n",
       "                        [-1.7278, -0.4639, -0.1368, -0.6824]])"
      ]
     },
     "execution_count": 22,
     "metadata": {},
     "output_type": "execute_result"
    }
   ],
   "source": [
    "t_cat = FastTreeValue.func(subside=True)(torch.cat)\n",
    "\n",
    "t_cat(trees)"
   ]
  },
  {
   "cell_type": "code",
   "execution_count": 23,
   "id": "5e9c06a6",
   "metadata": {
    "execution": {
     "iopub.execute_input": "2024-10-16T12:57:13.211286Z",
     "iopub.status.busy": "2024-10-16T12:57:13.210912Z",
     "iopub.status.idle": "2024-10-16T12:57:15.001956Z",
     "shell.execute_reply": "2024-10-16T12:57:15.001304Z"
    }
   },
   "outputs": [
    {
     "name": "stdout",
     "output_type": "stream",
     "text": [
      "22.1 µs ± 60.7 ns per loop (mean ± std. dev. of 7 runs, 10,000 loops each)\n"
     ]
    }
   ],
   "source": [
    "%timeit t_cat(trees)"
   ]
  },
  {
   "cell_type": "code",
   "execution_count": 24,
   "id": "a3ab5c8f",
   "metadata": {
    "execution": {
     "iopub.execute_input": "2024-10-16T12:57:15.004004Z",
     "iopub.status.busy": "2024-10-16T12:57:15.003800Z",
     "iopub.status.idle": "2024-10-16T12:57:19.079983Z",
     "shell.execute_reply": "2024-10-16T12:57:19.079195Z"
    }
   },
   "outputs": [
    {
     "name": "stdout",
     "output_type": "stream",
     "text": [
      "50 µs ± 205 ns per loop (mean ± std. dev. of 7 runs, 10,000 loops each)\n"
     ]
    }
   ],
   "source": [
    "t_split = FastTreeValue.func(rise=True)(torch.split)\n",
    "tree = FastTreeValue({\n",
    "    'obs': torch.randn(8, 4, 84, 84),\n",
    "    'action': torch.randint(0, 6, size=(8, 1,)),\n",
    "    'reward': torch.rand(8, 1),\n",
    "})\n",
    "\n",
    "%timeit t_split(tree, 1)"
   ]
  },
  {
   "cell_type": "markdown",
   "id": "31c3ec0b",
   "metadata": {},
   "source": [
    "### Performance of Tianshou Batch"
   ]
  },
  {
   "cell_type": "code",
   "execution_count": 25,
   "id": "9ead828a",
   "metadata": {
    "execution": {
     "iopub.execute_input": "2024-10-16T12:57:19.082329Z",
     "iopub.status.busy": "2024-10-16T12:57:19.081980Z",
     "iopub.status.idle": "2024-10-16T12:57:19.089066Z",
     "shell.execute_reply": "2024-10-16T12:57:19.088542Z"
    }
   },
   "outputs": [
    {
     "data": {
      "text/plain": [
       "Batch(\n",
       "    x: Batch(\n",
       "           c: tensor([[[-0.2790, -0.0511, -0.8639, -0.4985],\n",
       "                       [-0.1105, -0.7906, -0.2839,  0.9364],\n",
       "                       [-1.7278, -0.4639, -0.1368, -0.6824]],\n",
       "              \n",
       "                      [[-0.2790, -0.0511, -0.8639, -0.4985],\n",
       "                       [-0.1105, -0.7906, -0.2839,  0.9364],\n",
       "                       [-1.7278, -0.4639, -0.1368, -0.6824]],\n",
       "              \n",
       "                      [[-0.2790, -0.0511, -0.8639, -0.4985],\n",
       "                       [-0.1105, -0.7906, -0.2839,  0.9364],\n",
       "                       [-1.7278, -0.4639, -0.1368, -0.6824]],\n",
       "              \n",
       "                      [[-0.2790, -0.0511, -0.8639, -0.4985],\n",
       "                       [-0.1105, -0.7906, -0.2839,  0.9364],\n",
       "                       [-1.7278, -0.4639, -0.1368, -0.6824]],\n",
       "              \n",
       "                      [[-0.2790, -0.0511, -0.8639, -0.4985],\n",
       "                       [-0.1105, -0.7906, -0.2839,  0.9364],\n",
       "                       [-1.7278, -0.4639, -0.1368, -0.6824]],\n",
       "              \n",
       "                      [[-0.2790, -0.0511, -0.8639, -0.4985],\n",
       "                       [-0.1105, -0.7906, -0.2839,  0.9364],\n",
       "                       [-1.7278, -0.4639, -0.1368, -0.6824]],\n",
       "              \n",
       "                      [[-0.2790, -0.0511, -0.8639, -0.4985],\n",
       "                       [-0.1105, -0.7906, -0.2839,  0.9364],\n",
       "                       [-1.7278, -0.4639, -0.1368, -0.6824]],\n",
       "              \n",
       "                      [[-0.2790, -0.0511, -0.8639, -0.4985],\n",
       "                       [-0.1105, -0.7906, -0.2839,  0.9364],\n",
       "                       [-1.7278, -0.4639, -0.1368, -0.6824]]]),\n",
       "       ),\n",
       "    a: tensor([[[-0.6042,  1.1408,  0.8072],\n",
       "                [-0.3247, -1.0783,  0.6356]],\n",
       "       \n",
       "               [[-0.6042,  1.1408,  0.8072],\n",
       "                [-0.3247, -1.0783,  0.6356]],\n",
       "       \n",
       "               [[-0.6042,  1.1408,  0.8072],\n",
       "                [-0.3247, -1.0783,  0.6356]],\n",
       "       \n",
       "               [[-0.6042,  1.1408,  0.8072],\n",
       "                [-0.3247, -1.0783,  0.6356]],\n",
       "       \n",
       "               [[-0.6042,  1.1408,  0.8072],\n",
       "                [-0.3247, -1.0783,  0.6356]],\n",
       "       \n",
       "               [[-0.6042,  1.1408,  0.8072],\n",
       "                [-0.3247, -1.0783,  0.6356]],\n",
       "       \n",
       "               [[-0.6042,  1.1408,  0.8072],\n",
       "                [-0.3247, -1.0783,  0.6356]],\n",
       "       \n",
       "               [[-0.6042,  1.1408,  0.8072],\n",
       "                [-0.3247, -1.0783,  0.6356]]]),\n",
       ")"
      ]
     },
     "execution_count": 25,
     "metadata": {},
     "output_type": "execute_result"
    }
   ],
   "source": [
    "batches = [Batch(**_TREE_DATA_2) for _ in range(8)]\n",
    "\n",
    "Batch.stack(batches)"
   ]
  },
  {
   "cell_type": "code",
   "execution_count": 26,
   "id": "ec9037a3",
   "metadata": {
    "execution": {
     "iopub.execute_input": "2024-10-16T12:57:19.091135Z",
     "iopub.status.busy": "2024-10-16T12:57:19.090773Z",
     "iopub.status.idle": "2024-10-16T12:57:24.141393Z",
     "shell.execute_reply": "2024-10-16T12:57:24.140676Z"
    }
   },
   "outputs": [
    {
     "name": "stdout",
     "output_type": "stream",
     "text": [
      "62.2 µs ± 371 ns per loop (mean ± std. dev. of 7 runs, 10,000 loops each)\n"
     ]
    }
   ],
   "source": [
    "%timeit Batch.stack(batches)"
   ]
  },
  {
   "cell_type": "code",
   "execution_count": 27,
   "id": "cb8ab77e",
   "metadata": {
    "execution": {
     "iopub.execute_input": "2024-10-16T12:57:24.143508Z",
     "iopub.status.busy": "2024-10-16T12:57:24.143257Z",
     "iopub.status.idle": "2024-10-16T12:57:24.149896Z",
     "shell.execute_reply": "2024-10-16T12:57:24.149255Z"
    }
   },
   "outputs": [
    {
     "data": {
      "text/plain": [
       "Batch(\n",
       "    x: Batch(\n",
       "           c: tensor([[-0.2790, -0.0511, -0.8639, -0.4985],\n",
       "                      [-0.1105, -0.7906, -0.2839,  0.9364],\n",
       "                      [-1.7278, -0.4639, -0.1368, -0.6824],\n",
       "                      [-0.2790, -0.0511, -0.8639, -0.4985],\n",
       "                      [-0.1105, -0.7906, -0.2839,  0.9364],\n",
       "                      [-1.7278, -0.4639, -0.1368, -0.6824],\n",
       "                      [-0.2790, -0.0511, -0.8639, -0.4985],\n",
       "                      [-0.1105, -0.7906, -0.2839,  0.9364],\n",
       "                      [-1.7278, -0.4639, -0.1368, -0.6824],\n",
       "                      [-0.2790, -0.0511, -0.8639, -0.4985],\n",
       "                      [-0.1105, -0.7906, -0.2839,  0.9364],\n",
       "                      [-1.7278, -0.4639, -0.1368, -0.6824],\n",
       "                      [-0.2790, -0.0511, -0.8639, -0.4985],\n",
       "                      [-0.1105, -0.7906, -0.2839,  0.9364],\n",
       "                      [-1.7278, -0.4639, -0.1368, -0.6824],\n",
       "                      [-0.2790, -0.0511, -0.8639, -0.4985],\n",
       "                      [-0.1105, -0.7906, -0.2839,  0.9364],\n",
       "                      [-1.7278, -0.4639, -0.1368, -0.6824],\n",
       "                      [-0.2790, -0.0511, -0.8639, -0.4985],\n",
       "                      [-0.1105, -0.7906, -0.2839,  0.9364],\n",
       "                      [-1.7278, -0.4639, -0.1368, -0.6824],\n",
       "                      [-0.2790, -0.0511, -0.8639, -0.4985],\n",
       "                      [-0.1105, -0.7906, -0.2839,  0.9364],\n",
       "                      [-1.7278, -0.4639, -0.1368, -0.6824]]),\n",
       "       ),\n",
       "    a: tensor([[-0.6042,  1.1408,  0.8072],\n",
       "               [-0.3247, -1.0783,  0.6356],\n",
       "               [-0.6042,  1.1408,  0.8072],\n",
       "               [-0.3247, -1.0783,  0.6356],\n",
       "               [-0.6042,  1.1408,  0.8072],\n",
       "               [-0.3247, -1.0783,  0.6356],\n",
       "               [-0.6042,  1.1408,  0.8072],\n",
       "               [-0.3247, -1.0783,  0.6356],\n",
       "               [-0.6042,  1.1408,  0.8072],\n",
       "               [-0.3247, -1.0783,  0.6356],\n",
       "               [-0.6042,  1.1408,  0.8072],\n",
       "               [-0.3247, -1.0783,  0.6356],\n",
       "               [-0.6042,  1.1408,  0.8072],\n",
       "               [-0.3247, -1.0783,  0.6356],\n",
       "               [-0.6042,  1.1408,  0.8072],\n",
       "               [-0.3247, -1.0783,  0.6356]]),\n",
       ")"
      ]
     },
     "execution_count": 27,
     "metadata": {},
     "output_type": "execute_result"
    }
   ],
   "source": [
    "Batch.cat(batches)"
   ]
  },
  {
   "cell_type": "code",
   "execution_count": 28,
   "id": "18dfb045",
   "metadata": {
    "execution": {
     "iopub.execute_input": "2024-10-16T12:57:24.152132Z",
     "iopub.status.busy": "2024-10-16T12:57:24.151750Z",
     "iopub.status.idle": "2024-10-16T12:57:33.628913Z",
     "shell.execute_reply": "2024-10-16T12:57:33.628264Z"
    }
   },
   "outputs": [
    {
     "name": "stdout",
     "output_type": "stream",
     "text": [
      "117 µs ± 307 ns per loop (mean ± std. dev. of 7 runs, 10,000 loops each)\n"
     ]
    }
   ],
   "source": [
    "%timeit Batch.cat(batches)"
   ]
  },
  {
   "cell_type": "code",
   "execution_count": 29,
   "id": "c6688e51",
   "metadata": {
    "execution": {
     "iopub.execute_input": "2024-10-16T12:57:33.631241Z",
     "iopub.status.busy": "2024-10-16T12:57:33.630811Z",
     "iopub.status.idle": "2024-10-16T12:57:35.798021Z",
     "shell.execute_reply": "2024-10-16T12:57:35.797343Z"
    }
   },
   "outputs": [
    {
     "name": "stdout",
     "output_type": "stream",
     "text": [
      "266 µs ± 3.04 µs per loop (mean ± std. dev. of 7 runs, 1,000 loops each)\n"
     ]
    }
   ],
   "source": [
    "batch = Batch({\n",
    "    'obs': torch.randn(8, 4, 84, 84),\n",
    "    'action': torch.randint(0, 6, size=(8, 1,)),\n",
    "    'reward': torch.rand(8, 1)}\n",
    ")\n",
    "\n",
    "%timeit list(Batch.split(batch, 1, shuffle=False, merge_last=True))"
   ]
  },
  {
   "cell_type": "code",
   "execution_count": null,
   "id": "2539fbd9",
   "metadata": {},
   "outputs": [],
   "source": []
  }
 ],
 "metadata": {
  "kernelspec": {
   "display_name": "Python 3 (ipykernel)",
   "language": "python",
   "name": "python3"
  },
  "language_info": {
   "codemirror_mode": {
    "name": "ipython",
    "version": 3
   },
   "file_extension": ".py",
   "mimetype": "text/x-python",
   "name": "python",
   "nbconvert_exporter": "python",
   "pygments_lexer": "ipython3",
   "version": "3.8.18"
  }
 },
 "nbformat": 4,
 "nbformat_minor": 5
}
