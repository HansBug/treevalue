{
 "cells": [
  {
   "cell_type": "markdown",
   "id": "9d39d946",
   "metadata": {},
   "source": [
    "# Comparison Between TreeValue and Tianshou Batch"
   ]
  },
  {
   "cell_type": "markdown",
   "id": "3c6db2d4",
   "metadata": {},
   "source": [
    "In this section, we will take a look at the feature and performance of the [Tianshou Batch](https://github.com/thu-ml/tianshou) library, which is developed by Tsinghua Machine Learning Group."
   ]
  },
  {
   "cell_type": "markdown",
   "id": "069361b0",
   "metadata": {},
   "source": [
    "Before starting the comparison, let us define some thing."
   ]
  },
  {
   "cell_type": "code",
   "execution_count": 1,
   "id": "06fc8d26",
   "metadata": {
    "execution": {
     "iopub.execute_input": "2023-02-27T10:35:12.386449Z",
     "iopub.status.busy": "2023-02-27T10:35:12.386216Z",
     "iopub.status.idle": "2023-02-27T10:35:13.327257Z",
     "shell.execute_reply": "2023-02-27T10:35:13.326582Z"
    }
   },
   "outputs": [
    {
     "name": "stderr",
     "output_type": "stream",
     "text": [
      "/opt/hostedtoolcache/Python/3.8.16/x64/lib/python3.8/site-packages/tqdm/auto.py:22: TqdmWarning: IProgress not found. Please update jupyter and ipywidgets. See https://ipywidgets.readthedocs.io/en/stable/user_install.html\n",
      "  from .autonotebook import tqdm as notebook_tqdm\n"
     ]
    }
   ],
   "source": [
    "import torch \n",
    "\n",
    "_TREE_DATA_1 = {'a': 1, 'b': 2, 'x': {'c': 3, 'd': 4}}\n",
    "_TREE_DATA_2 = {\n",
    "    'a': torch.randn(2, 3), \n",
    "    'x': {\n",
    "        'c': torch.randn(3, 4)\n",
    "    },\n",
    "}\n",
    "_TREE_DATA_3 = {\n",
    "    'obs': torch.randn(4, 84, 84),\n",
    "    'action': torch.randint(0, 6, size=(1,)),\n",
    "    'reward': torch.rand(1),\n",
    "}"
   ]
  },
  {
   "cell_type": "markdown",
   "id": "83461b25",
   "metadata": {},
   "source": [
    "## Read and Write Operation"
   ]
  },
  {
   "cell_type": "markdown",
   "id": "067b3f73",
   "metadata": {},
   "source": [
    "Reading and writing are the two most common operations in the tree data structure based on the data model (TreeValue and Tianshou Batch both belong to this type), so this section will compare the reading and writing performance of these two libraries."
   ]
  },
  {
   "cell_type": "markdown",
   "id": "5d09a5b7",
   "metadata": {},
   "source": [
    "### TreeValue's Get and Set"
   ]
  },
  {
   "cell_type": "code",
   "execution_count": 2,
   "id": "9519c4bb",
   "metadata": {
    "execution": {
     "iopub.execute_input": "2023-02-27T10:35:13.330855Z",
     "iopub.status.busy": "2023-02-27T10:35:13.330204Z",
     "iopub.status.idle": "2023-02-27T10:35:13.614077Z",
     "shell.execute_reply": "2023-02-27T10:35:13.613316Z"
    }
   },
   "outputs": [],
   "source": [
    "from treevalue import FastTreeValue\n",
    "\n",
    "t = FastTreeValue(_TREE_DATA_2)"
   ]
  },
  {
   "cell_type": "code",
   "execution_count": 3,
   "id": "11c37677",
   "metadata": {
    "execution": {
     "iopub.execute_input": "2023-02-27T10:35:13.617288Z",
     "iopub.status.busy": "2023-02-27T10:35:13.616988Z",
     "iopub.status.idle": "2023-02-27T10:35:13.627557Z",
     "shell.execute_reply": "2023-02-27T10:35:13.626963Z"
    }
   },
   "outputs": [
    {
     "data": {
      "text/plain": [
       "<FastTreeValue 0x7f95c09a2ee0>\n",
       "├── 'a' --> tensor([[ 1.5831,  0.1584, -0.5722],\n",
       "│                   [-1.3059,  0.2935, -0.6806]])\n",
       "└── 'x' --> <FastTreeValue 0x7f95c09a2eb0>\n",
       "    └── 'c' --> tensor([[ 1.4959, -0.3282,  0.1670,  0.1570],\n",
       "                        [ 0.5016,  0.3339,  0.7168,  0.5720],\n",
       "                        [ 0.8196, -0.8302,  0.5668, -1.7408]])"
      ]
     },
     "execution_count": 3,
     "metadata": {},
     "output_type": "execute_result"
    }
   ],
   "source": [
    "t"
   ]
  },
  {
   "cell_type": "code",
   "execution_count": 4,
   "id": "fd70b0b9",
   "metadata": {
    "execution": {
     "iopub.execute_input": "2023-02-27T10:35:13.630479Z",
     "iopub.status.busy": "2023-02-27T10:35:13.630005Z",
     "iopub.status.idle": "2023-02-27T10:35:13.636535Z",
     "shell.execute_reply": "2023-02-27T10:35:13.635896Z"
    }
   },
   "outputs": [
    {
     "data": {
      "text/plain": [
       "tensor([[ 1.5831,  0.1584, -0.5722],\n",
       "        [-1.3059,  0.2935, -0.6806]])"
      ]
     },
     "execution_count": 4,
     "metadata": {},
     "output_type": "execute_result"
    }
   ],
   "source": [
    "t.a"
   ]
  },
  {
   "cell_type": "code",
   "execution_count": 5,
   "id": "c18197bd",
   "metadata": {
    "execution": {
     "iopub.execute_input": "2023-02-27T10:35:13.639284Z",
     "iopub.status.busy": "2023-02-27T10:35:13.639065Z",
     "iopub.status.idle": "2023-02-27T10:35:18.658609Z",
     "shell.execute_reply": "2023-02-27T10:35:18.657282Z"
    }
   },
   "outputs": [
    {
     "name": "stdout",
     "output_type": "stream",
     "text": [
      "61.9 ns ± 0.0407 ns per loop (mean ± std. dev. of 7 runs, 10,000,000 loops each)\n"
     ]
    }
   ],
   "source": [
    "%timeit t.a"
   ]
  },
  {
   "cell_type": "code",
   "execution_count": 6,
   "id": "bd52f867",
   "metadata": {
    "execution": {
     "iopub.execute_input": "2023-02-27T10:35:18.663200Z",
     "iopub.status.busy": "2023-02-27T10:35:18.662709Z",
     "iopub.status.idle": "2023-02-27T10:35:18.670434Z",
     "shell.execute_reply": "2023-02-27T10:35:18.669696Z"
    }
   },
   "outputs": [
    {
     "data": {
      "text/plain": [
       "<FastTreeValue 0x7f95c09a2ee0>\n",
       "├── 'a' --> tensor([[-0.1568, -0.8128, -0.0317],\n",
       "│                   [-0.3456,  1.1366,  1.2238]])\n",
       "└── 'x' --> <FastTreeValue 0x7f95c09a2eb0>\n",
       "    └── 'c' --> tensor([[ 1.4959, -0.3282,  0.1670,  0.1570],\n",
       "                        [ 0.5016,  0.3339,  0.7168,  0.5720],\n",
       "                        [ 0.8196, -0.8302,  0.5668, -1.7408]])"
      ]
     },
     "execution_count": 6,
     "metadata": {},
     "output_type": "execute_result"
    }
   ],
   "source": [
    "new_value = torch.randn(2, 3)\n",
    "t.a = new_value\n",
    "\n",
    "t"
   ]
  },
  {
   "cell_type": "code",
   "execution_count": 7,
   "id": "bbe04d1c",
   "metadata": {
    "execution": {
     "iopub.execute_input": "2023-02-27T10:35:18.673967Z",
     "iopub.status.busy": "2023-02-27T10:35:18.673531Z",
     "iopub.status.idle": "2023-02-27T10:35:23.488095Z",
     "shell.execute_reply": "2023-02-27T10:35:23.487299Z"
    }
   },
   "outputs": [
    {
     "name": "stdout",
     "output_type": "stream",
     "text": [
      "59.2 ns ± 0.0145 ns per loop (mean ± std. dev. of 7 runs, 10,000,000 loops each)\n"
     ]
    }
   ],
   "source": [
    "%timeit t.a = new_value"
   ]
  },
  {
   "cell_type": "markdown",
   "id": "48c49731",
   "metadata": {},
   "source": [
    "### Tianshou Batch's Get and Set"
   ]
  },
  {
   "cell_type": "code",
   "execution_count": 8,
   "id": "f1bb14c1",
   "metadata": {
    "execution": {
     "iopub.execute_input": "2023-02-27T10:35:23.490949Z",
     "iopub.status.busy": "2023-02-27T10:35:23.490721Z",
     "iopub.status.idle": "2023-02-27T10:35:23.832985Z",
     "shell.execute_reply": "2023-02-27T10:35:23.832272Z"
    }
   },
   "outputs": [],
   "source": [
    "from tianshou.data import Batch\n",
    "\n",
    "b = Batch(**_TREE_DATA_2)"
   ]
  },
  {
   "cell_type": "code",
   "execution_count": 9,
   "id": "cb0777c3",
   "metadata": {
    "execution": {
     "iopub.execute_input": "2023-02-27T10:35:23.836731Z",
     "iopub.status.busy": "2023-02-27T10:35:23.836004Z",
     "iopub.status.idle": "2023-02-27T10:35:23.843262Z",
     "shell.execute_reply": "2023-02-27T10:35:23.842677Z"
    }
   },
   "outputs": [
    {
     "data": {
      "text/plain": [
       "Batch(\n",
       "    a: tensor([[ 1.5831,  0.1584, -0.5722],\n",
       "               [-1.3059,  0.2935, -0.6806]]),\n",
       "    x: Batch(\n",
       "           c: tensor([[ 1.4959, -0.3282,  0.1670,  0.1570],\n",
       "                      [ 0.5016,  0.3339,  0.7168,  0.5720],\n",
       "                      [ 0.8196, -0.8302,  0.5668, -1.7408]]),\n",
       "       ),\n",
       ")"
      ]
     },
     "execution_count": 9,
     "metadata": {},
     "output_type": "execute_result"
    }
   ],
   "source": [
    "b"
   ]
  },
  {
   "cell_type": "code",
   "execution_count": 10,
   "id": "43ef8ea3",
   "metadata": {
    "execution": {
     "iopub.execute_input": "2023-02-27T10:35:23.846058Z",
     "iopub.status.busy": "2023-02-27T10:35:23.845712Z",
     "iopub.status.idle": "2023-02-27T10:35:23.851566Z",
     "shell.execute_reply": "2023-02-27T10:35:23.850948Z"
    }
   },
   "outputs": [
    {
     "data": {
      "text/plain": [
       "tensor([[ 1.5831,  0.1584, -0.5722],\n",
       "        [-1.3059,  0.2935, -0.6806]])"
      ]
     },
     "execution_count": 10,
     "metadata": {},
     "output_type": "execute_result"
    }
   ],
   "source": [
    "b.a"
   ]
  },
  {
   "cell_type": "code",
   "execution_count": 11,
   "id": "b785ab72",
   "metadata": {
    "execution": {
     "iopub.execute_input": "2023-02-27T10:35:23.854322Z",
     "iopub.status.busy": "2023-02-27T10:35:23.853985Z",
     "iopub.status.idle": "2023-02-27T10:35:28.141595Z",
     "shell.execute_reply": "2023-02-27T10:35:28.140949Z"
    }
   },
   "outputs": [
    {
     "name": "stdout",
     "output_type": "stream",
     "text": [
      "52.8 ns ± 0.0754 ns per loop (mean ± std. dev. of 7 runs, 10,000,000 loops each)\n"
     ]
    }
   ],
   "source": [
    "%timeit b.a"
   ]
  },
  {
   "cell_type": "code",
   "execution_count": 12,
   "id": "ad54dc69",
   "metadata": {
    "execution": {
     "iopub.execute_input": "2023-02-27T10:35:28.144732Z",
     "iopub.status.busy": "2023-02-27T10:35:28.144154Z",
     "iopub.status.idle": "2023-02-27T10:35:28.150516Z",
     "shell.execute_reply": "2023-02-27T10:35:28.149932Z"
    }
   },
   "outputs": [
    {
     "data": {
      "text/plain": [
       "Batch(\n",
       "    a: tensor([[-0.1407,  0.9980,  0.0763],\n",
       "               [-0.7677, -0.7290, -0.6322]]),\n",
       "    x: Batch(\n",
       "           c: tensor([[ 1.4959, -0.3282,  0.1670,  0.1570],\n",
       "                      [ 0.5016,  0.3339,  0.7168,  0.5720],\n",
       "                      [ 0.8196, -0.8302,  0.5668, -1.7408]]),\n",
       "       ),\n",
       ")"
      ]
     },
     "execution_count": 12,
     "metadata": {},
     "output_type": "execute_result"
    }
   ],
   "source": [
    "new_value = torch.randn(2, 3)\n",
    "b.a = new_value\n",
    "\n",
    "b"
   ]
  },
  {
   "cell_type": "code",
   "execution_count": 13,
   "id": "29b1d0bf",
   "metadata": {
    "execution": {
     "iopub.execute_input": "2023-02-27T10:35:28.152916Z",
     "iopub.status.busy": "2023-02-27T10:35:28.152588Z",
     "iopub.status.idle": "2023-02-27T10:35:32.033789Z",
     "shell.execute_reply": "2023-02-27T10:35:32.033009Z"
    }
   },
   "outputs": [
    {
     "name": "stdout",
     "output_type": "stream",
     "text": [
      "478 ns ± 0.138 ns per loop (mean ± std. dev. of 7 runs, 1,000,000 loops each)\n"
     ]
    }
   ],
   "source": [
    "%timeit b.a = new_value"
   ]
  },
  {
   "cell_type": "markdown",
   "id": "b61ad1d0",
   "metadata": {},
   "source": [
    "## Initialization"
   ]
  },
  {
   "cell_type": "markdown",
   "id": "d70f0d54",
   "metadata": {},
   "source": [
    "### TreeValue's Initialization"
   ]
  },
  {
   "cell_type": "code",
   "execution_count": 14,
   "id": "d32a679b",
   "metadata": {
    "execution": {
     "iopub.execute_input": "2023-02-27T10:35:32.037068Z",
     "iopub.status.busy": "2023-02-27T10:35:32.036560Z",
     "iopub.status.idle": "2023-02-27T10:35:38.796327Z",
     "shell.execute_reply": "2023-02-27T10:35:38.795492Z"
    }
   },
   "outputs": [
    {
     "name": "stdout",
     "output_type": "stream",
     "text": [
      "832 ns ± 0.188 ns per loop (mean ± std. dev. of 7 runs, 1,000,000 loops each)\n"
     ]
    }
   ],
   "source": [
    "%timeit FastTreeValue(_TREE_DATA_1)"
   ]
  },
  {
   "cell_type": "markdown",
   "id": "24f3707b",
   "metadata": {},
   "source": [
    "### Tianshou Batch's Initialization"
   ]
  },
  {
   "cell_type": "code",
   "execution_count": 15,
   "id": "ac3958df",
   "metadata": {
    "execution": {
     "iopub.execute_input": "2023-02-27T10:35:38.800044Z",
     "iopub.status.busy": "2023-02-27T10:35:38.799516Z",
     "iopub.status.idle": "2023-02-27T10:35:47.811944Z",
     "shell.execute_reply": "2023-02-27T10:35:47.810977Z"
    }
   },
   "outputs": [
    {
     "name": "stdout",
     "output_type": "stream",
     "text": [
      "11.1 µs ± 40.9 ns per loop (mean ± std. dev. of 7 runs, 100,000 loops each)\n"
     ]
    }
   ],
   "source": [
    "%timeit Batch(**_TREE_DATA_1)"
   ]
  },
  {
   "cell_type": "markdown",
   "id": "1ab82e2d",
   "metadata": {},
   "source": [
    "## Deep Copy Operation"
   ]
  },
  {
   "cell_type": "code",
   "execution_count": 16,
   "id": "210a9442",
   "metadata": {
    "execution": {
     "iopub.execute_input": "2023-02-27T10:35:47.815590Z",
     "iopub.status.busy": "2023-02-27T10:35:47.814850Z",
     "iopub.status.idle": "2023-02-27T10:35:47.819103Z",
     "shell.execute_reply": "2023-02-27T10:35:47.818316Z"
    }
   },
   "outputs": [],
   "source": [
    "import copy"
   ]
  },
  {
   "cell_type": "markdown",
   "id": "5a736274",
   "metadata": {},
   "source": [
    "### Deep Copy of TreeValue"
   ]
  },
  {
   "cell_type": "code",
   "execution_count": 17,
   "id": "f9bcadd6",
   "metadata": {
    "execution": {
     "iopub.execute_input": "2023-02-27T10:35:47.822228Z",
     "iopub.status.busy": "2023-02-27T10:35:47.821754Z",
     "iopub.status.idle": "2023-02-27T10:35:58.867339Z",
     "shell.execute_reply": "2023-02-27T10:35:58.866548Z"
    }
   },
   "outputs": [
    {
     "name": "stdout",
     "output_type": "stream",
     "text": [
      "136 µs ± 276 ns per loop (mean ± std. dev. of 7 runs, 10,000 loops each)\n"
     ]
    }
   ],
   "source": [
    "t3 = FastTreeValue(_TREE_DATA_3)\n",
    "%timeit copy.deepcopy(t3)"
   ]
  },
  {
   "cell_type": "markdown",
   "id": "bf8be7ea",
   "metadata": {},
   "source": [
    "### Deep Copy of Tianshou Batch"
   ]
  },
  {
   "cell_type": "code",
   "execution_count": 18,
   "id": "91998e6f",
   "metadata": {
    "execution": {
     "iopub.execute_input": "2023-02-27T10:35:58.871566Z",
     "iopub.status.busy": "2023-02-27T10:35:58.870591Z",
     "iopub.status.idle": "2023-02-27T10:36:10.288951Z",
     "shell.execute_reply": "2023-02-27T10:36:10.288385Z"
    }
   },
   "outputs": [
    {
     "name": "stdout",
     "output_type": "stream",
     "text": [
      "141 µs ± 303 ns per loop (mean ± std. dev. of 7 runs, 10,000 loops each)\n"
     ]
    }
   ],
   "source": [
    "b3 = Batch(**_TREE_DATA_3)\n",
    "%timeit copy.deepcopy(b3)"
   ]
  },
  {
   "cell_type": "markdown",
   "id": "223162fb",
   "metadata": {},
   "source": [
    "## Stack, Concat and Split Operation"
   ]
  },
  {
   "cell_type": "markdown",
   "id": "85fa4a73",
   "metadata": {},
   "source": [
    "### Performance of TreeValue"
   ]
  },
  {
   "cell_type": "code",
   "execution_count": 19,
   "id": "a0c2b697",
   "metadata": {
    "execution": {
     "iopub.execute_input": "2023-02-27T10:36:10.291760Z",
     "iopub.status.busy": "2023-02-27T10:36:10.291379Z",
     "iopub.status.idle": "2023-02-27T10:36:10.294404Z",
     "shell.execute_reply": "2023-02-27T10:36:10.293886Z"
    }
   },
   "outputs": [],
   "source": [
    "trees = [FastTreeValue(_TREE_DATA_2) for _ in range(8)]"
   ]
  },
  {
   "cell_type": "code",
   "execution_count": 20,
   "id": "017ea5a5",
   "metadata": {
    "execution": {
     "iopub.execute_input": "2023-02-27T10:36:10.296684Z",
     "iopub.status.busy": "2023-02-27T10:36:10.296356Z",
     "iopub.status.idle": "2023-02-27T10:36:10.302853Z",
     "shell.execute_reply": "2023-02-27T10:36:10.302349Z"
    }
   },
   "outputs": [
    {
     "data": {
      "text/plain": [
       "<FastTreeValue 0x7f95c09650d0>\n",
       "├── 'a' --> tensor([[[ 1.5831,  0.1584, -0.5722],\n",
       "│                    [-1.3059,  0.2935, -0.6806]],\n",
       "│           \n",
       "│                   [[ 1.5831,  0.1584, -0.5722],\n",
       "│                    [-1.3059,  0.2935, -0.6806]],\n",
       "│           \n",
       "│                   [[ 1.5831,  0.1584, -0.5722],\n",
       "│                    [-1.3059,  0.2935, -0.6806]],\n",
       "│           \n",
       "│                   [[ 1.5831,  0.1584, -0.5722],\n",
       "│                    [-1.3059,  0.2935, -0.6806]],\n",
       "│           \n",
       "│                   [[ 1.5831,  0.1584, -0.5722],\n",
       "│                    [-1.3059,  0.2935, -0.6806]],\n",
       "│           \n",
       "│                   [[ 1.5831,  0.1584, -0.5722],\n",
       "│                    [-1.3059,  0.2935, -0.6806]],\n",
       "│           \n",
       "│                   [[ 1.5831,  0.1584, -0.5722],\n",
       "│                    [-1.3059,  0.2935, -0.6806]],\n",
       "│           \n",
       "│                   [[ 1.5831,  0.1584, -0.5722],\n",
       "│                    [-1.3059,  0.2935, -0.6806]]])\n",
       "└── 'x' --> <FastTreeValue 0x7f95c09656a0>\n",
       "    └── 'c' --> tensor([[[ 1.4959, -0.3282,  0.1670,  0.1570],\n",
       "                         [ 0.5016,  0.3339,  0.7168,  0.5720],\n",
       "                         [ 0.8196, -0.8302,  0.5668, -1.7408]],\n",
       "                \n",
       "                        [[ 1.4959, -0.3282,  0.1670,  0.1570],\n",
       "                         [ 0.5016,  0.3339,  0.7168,  0.5720],\n",
       "                         [ 0.8196, -0.8302,  0.5668, -1.7408]],\n",
       "                \n",
       "                        [[ 1.4959, -0.3282,  0.1670,  0.1570],\n",
       "                         [ 0.5016,  0.3339,  0.7168,  0.5720],\n",
       "                         [ 0.8196, -0.8302,  0.5668, -1.7408]],\n",
       "                \n",
       "                        [[ 1.4959, -0.3282,  0.1670,  0.1570],\n",
       "                         [ 0.5016,  0.3339,  0.7168,  0.5720],\n",
       "                         [ 0.8196, -0.8302,  0.5668, -1.7408]],\n",
       "                \n",
       "                        [[ 1.4959, -0.3282,  0.1670,  0.1570],\n",
       "                         [ 0.5016,  0.3339,  0.7168,  0.5720],\n",
       "                         [ 0.8196, -0.8302,  0.5668, -1.7408]],\n",
       "                \n",
       "                        [[ 1.4959, -0.3282,  0.1670,  0.1570],\n",
       "                         [ 0.5016,  0.3339,  0.7168,  0.5720],\n",
       "                         [ 0.8196, -0.8302,  0.5668, -1.7408]],\n",
       "                \n",
       "                        [[ 1.4959, -0.3282,  0.1670,  0.1570],\n",
       "                         [ 0.5016,  0.3339,  0.7168,  0.5720],\n",
       "                         [ 0.8196, -0.8302,  0.5668, -1.7408]],\n",
       "                \n",
       "                        [[ 1.4959, -0.3282,  0.1670,  0.1570],\n",
       "                         [ 0.5016,  0.3339,  0.7168,  0.5720],\n",
       "                         [ 0.8196, -0.8302,  0.5668, -1.7408]]])"
      ]
     },
     "execution_count": 20,
     "metadata": {},
     "output_type": "execute_result"
    }
   ],
   "source": [
    "t_stack = FastTreeValue.func(subside=True)(torch.stack)\n",
    "\n",
    "t_stack(trees)"
   ]
  },
  {
   "cell_type": "code",
   "execution_count": 21,
   "id": "f8b3f415",
   "metadata": {
    "execution": {
     "iopub.execute_input": "2023-02-27T10:36:10.305288Z",
     "iopub.status.busy": "2023-02-27T10:36:10.304754Z",
     "iopub.status.idle": "2023-02-27T10:36:12.948254Z",
     "shell.execute_reply": "2023-02-27T10:36:12.947503Z"
    }
   },
   "outputs": [
    {
     "name": "stdout",
     "output_type": "stream",
     "text": [
      "32.5 µs ± 46.3 ns per loop (mean ± std. dev. of 7 runs, 10,000 loops each)\n"
     ]
    }
   ],
   "source": [
    "%timeit t_stack(trees)"
   ]
  },
  {
   "cell_type": "code",
   "execution_count": 22,
   "id": "94b56771",
   "metadata": {
    "execution": {
     "iopub.execute_input": "2023-02-27T10:36:12.950975Z",
     "iopub.status.busy": "2023-02-27T10:36:12.950627Z",
     "iopub.status.idle": "2023-02-27T10:36:12.957605Z",
     "shell.execute_reply": "2023-02-27T10:36:12.956993Z"
    }
   },
   "outputs": [
    {
     "data": {
      "text/plain": [
       "<FastTreeValue 0x7f95c09fbdf0>\n",
       "├── 'a' --> tensor([[ 1.5831,  0.1584, -0.5722],\n",
       "│                   [-1.3059,  0.2935, -0.6806],\n",
       "│                   [ 1.5831,  0.1584, -0.5722],\n",
       "│                   [-1.3059,  0.2935, -0.6806],\n",
       "│                   [ 1.5831,  0.1584, -0.5722],\n",
       "│                   [-1.3059,  0.2935, -0.6806],\n",
       "│                   [ 1.5831,  0.1584, -0.5722],\n",
       "│                   [-1.3059,  0.2935, -0.6806],\n",
       "│                   [ 1.5831,  0.1584, -0.5722],\n",
       "│                   [-1.3059,  0.2935, -0.6806],\n",
       "│                   [ 1.5831,  0.1584, -0.5722],\n",
       "│                   [-1.3059,  0.2935, -0.6806],\n",
       "│                   [ 1.5831,  0.1584, -0.5722],\n",
       "│                   [-1.3059,  0.2935, -0.6806],\n",
       "│                   [ 1.5831,  0.1584, -0.5722],\n",
       "│                   [-1.3059,  0.2935, -0.6806]])\n",
       "└── 'x' --> <FastTreeValue 0x7f9508c950a0>\n",
       "    └── 'c' --> tensor([[ 1.4959, -0.3282,  0.1670,  0.1570],\n",
       "                        [ 0.5016,  0.3339,  0.7168,  0.5720],\n",
       "                        [ 0.8196, -0.8302,  0.5668, -1.7408],\n",
       "                        [ 1.4959, -0.3282,  0.1670,  0.1570],\n",
       "                        [ 0.5016,  0.3339,  0.7168,  0.5720],\n",
       "                        [ 0.8196, -0.8302,  0.5668, -1.7408],\n",
       "                        [ 1.4959, -0.3282,  0.1670,  0.1570],\n",
       "                        [ 0.5016,  0.3339,  0.7168,  0.5720],\n",
       "                        [ 0.8196, -0.8302,  0.5668, -1.7408],\n",
       "                        [ 1.4959, -0.3282,  0.1670,  0.1570],\n",
       "                        [ 0.5016,  0.3339,  0.7168,  0.5720],\n",
       "                        [ 0.8196, -0.8302,  0.5668, -1.7408],\n",
       "                        [ 1.4959, -0.3282,  0.1670,  0.1570],\n",
       "                        [ 0.5016,  0.3339,  0.7168,  0.5720],\n",
       "                        [ 0.8196, -0.8302,  0.5668, -1.7408],\n",
       "                        [ 1.4959, -0.3282,  0.1670,  0.1570],\n",
       "                        [ 0.5016,  0.3339,  0.7168,  0.5720],\n",
       "                        [ 0.8196, -0.8302,  0.5668, -1.7408],\n",
       "                        [ 1.4959, -0.3282,  0.1670,  0.1570],\n",
       "                        [ 0.5016,  0.3339,  0.7168,  0.5720],\n",
       "                        [ 0.8196, -0.8302,  0.5668, -1.7408],\n",
       "                        [ 1.4959, -0.3282,  0.1670,  0.1570],\n",
       "                        [ 0.5016,  0.3339,  0.7168,  0.5720],\n",
       "                        [ 0.8196, -0.8302,  0.5668, -1.7408]])"
      ]
     },
     "execution_count": 22,
     "metadata": {},
     "output_type": "execute_result"
    }
   ],
   "source": [
    "t_cat = FastTreeValue.func(subside=True)(torch.cat)\n",
    "\n",
    "t_cat(trees)"
   ]
  },
  {
   "cell_type": "code",
   "execution_count": 23,
   "id": "5e9c06a6",
   "metadata": {
    "execution": {
     "iopub.execute_input": "2023-02-27T10:36:12.959958Z",
     "iopub.status.busy": "2023-02-27T10:36:12.959618Z",
     "iopub.status.idle": "2023-02-27T10:36:15.467276Z",
     "shell.execute_reply": "2023-02-27T10:36:15.466491Z"
    }
   },
   "outputs": [
    {
     "name": "stdout",
     "output_type": "stream",
     "text": [
      "30.8 µs ± 27.3 ns per loop (mean ± std. dev. of 7 runs, 10,000 loops each)\n"
     ]
    }
   ],
   "source": [
    "%timeit t_cat(trees)"
   ]
  },
  {
   "cell_type": "code",
   "execution_count": 24,
   "id": "a3ab5c8f",
   "metadata": {
    "execution": {
     "iopub.execute_input": "2023-02-27T10:36:15.470167Z",
     "iopub.status.busy": "2023-02-27T10:36:15.469816Z",
     "iopub.status.idle": "2023-02-27T10:36:20.153131Z",
     "shell.execute_reply": "2023-02-27T10:36:20.152274Z"
    }
   },
   "outputs": [
    {
     "name": "stdout",
     "output_type": "stream",
     "text": [
      "57.6 µs ± 50.2 ns per loop (mean ± std. dev. of 7 runs, 10,000 loops each)\n"
     ]
    }
   ],
   "source": [
    "t_split = FastTreeValue.func(rise=True)(torch.split)\n",
    "tree = FastTreeValue({\n",
    "    'obs': torch.randn(8, 4, 84, 84),\n",
    "    'action': torch.randint(0, 6, size=(8, 1,)),\n",
    "    'reward': torch.rand(8, 1),\n",
    "})\n",
    "\n",
    "%timeit t_split(tree, 1)"
   ]
  },
  {
   "cell_type": "markdown",
   "id": "31c3ec0b",
   "metadata": {},
   "source": [
    "### Performance of Tianshou Batch"
   ]
  },
  {
   "cell_type": "code",
   "execution_count": 25,
   "id": "9ead828a",
   "metadata": {
    "execution": {
     "iopub.execute_input": "2023-02-27T10:36:20.156553Z",
     "iopub.status.busy": "2023-02-27T10:36:20.155723Z",
     "iopub.status.idle": "2023-02-27T10:36:20.164214Z",
     "shell.execute_reply": "2023-02-27T10:36:20.163615Z"
    }
   },
   "outputs": [
    {
     "data": {
      "text/plain": [
       "Batch(\n",
       "    a: tensor([[[ 1.5831,  0.1584, -0.5722],\n",
       "                [-1.3059,  0.2935, -0.6806]],\n",
       "       \n",
       "               [[ 1.5831,  0.1584, -0.5722],\n",
       "                [-1.3059,  0.2935, -0.6806]],\n",
       "       \n",
       "               [[ 1.5831,  0.1584, -0.5722],\n",
       "                [-1.3059,  0.2935, -0.6806]],\n",
       "       \n",
       "               [[ 1.5831,  0.1584, -0.5722],\n",
       "                [-1.3059,  0.2935, -0.6806]],\n",
       "       \n",
       "               [[ 1.5831,  0.1584, -0.5722],\n",
       "                [-1.3059,  0.2935, -0.6806]],\n",
       "       \n",
       "               [[ 1.5831,  0.1584, -0.5722],\n",
       "                [-1.3059,  0.2935, -0.6806]],\n",
       "       \n",
       "               [[ 1.5831,  0.1584, -0.5722],\n",
       "                [-1.3059,  0.2935, -0.6806]],\n",
       "       \n",
       "               [[ 1.5831,  0.1584, -0.5722],\n",
       "                [-1.3059,  0.2935, -0.6806]]]),\n",
       "    x: Batch(\n",
       "           c: tensor([[[ 1.4959, -0.3282,  0.1670,  0.1570],\n",
       "                       [ 0.5016,  0.3339,  0.7168,  0.5720],\n",
       "                       [ 0.8196, -0.8302,  0.5668, -1.7408]],\n",
       "              \n",
       "                      [[ 1.4959, -0.3282,  0.1670,  0.1570],\n",
       "                       [ 0.5016,  0.3339,  0.7168,  0.5720],\n",
       "                       [ 0.8196, -0.8302,  0.5668, -1.7408]],\n",
       "              \n",
       "                      [[ 1.4959, -0.3282,  0.1670,  0.1570],\n",
       "                       [ 0.5016,  0.3339,  0.7168,  0.5720],\n",
       "                       [ 0.8196, -0.8302,  0.5668, -1.7408]],\n",
       "              \n",
       "                      [[ 1.4959, -0.3282,  0.1670,  0.1570],\n",
       "                       [ 0.5016,  0.3339,  0.7168,  0.5720],\n",
       "                       [ 0.8196, -0.8302,  0.5668, -1.7408]],\n",
       "              \n",
       "                      [[ 1.4959, -0.3282,  0.1670,  0.1570],\n",
       "                       [ 0.5016,  0.3339,  0.7168,  0.5720],\n",
       "                       [ 0.8196, -0.8302,  0.5668, -1.7408]],\n",
       "              \n",
       "                      [[ 1.4959, -0.3282,  0.1670,  0.1570],\n",
       "                       [ 0.5016,  0.3339,  0.7168,  0.5720],\n",
       "                       [ 0.8196, -0.8302,  0.5668, -1.7408]],\n",
       "              \n",
       "                      [[ 1.4959, -0.3282,  0.1670,  0.1570],\n",
       "                       [ 0.5016,  0.3339,  0.7168,  0.5720],\n",
       "                       [ 0.8196, -0.8302,  0.5668, -1.7408]],\n",
       "              \n",
       "                      [[ 1.4959, -0.3282,  0.1670,  0.1570],\n",
       "                       [ 0.5016,  0.3339,  0.7168,  0.5720],\n",
       "                       [ 0.8196, -0.8302,  0.5668, -1.7408]]]),\n",
       "       ),\n",
       ")"
      ]
     },
     "execution_count": 25,
     "metadata": {},
     "output_type": "execute_result"
    }
   ],
   "source": [
    "batches = [Batch(**_TREE_DATA_2) for _ in range(8)]\n",
    "\n",
    "Batch.stack(batches)"
   ]
  },
  {
   "cell_type": "code",
   "execution_count": 26,
   "id": "ec9037a3",
   "metadata": {
    "execution": {
     "iopub.execute_input": "2023-02-27T10:36:20.166857Z",
     "iopub.status.busy": "2023-02-27T10:36:20.166511Z",
     "iopub.status.idle": "2023-02-27T10:36:26.572114Z",
     "shell.execute_reply": "2023-02-27T10:36:26.571284Z"
    }
   },
   "outputs": [
    {
     "name": "stdout",
     "output_type": "stream",
     "text": [
      "78.8 µs ± 170 ns per loop (mean ± std. dev. of 7 runs, 10,000 loops each)\n"
     ]
    }
   ],
   "source": [
    "%timeit Batch.stack(batches)"
   ]
  },
  {
   "cell_type": "code",
   "execution_count": 27,
   "id": "cb8ab77e",
   "metadata": {
    "execution": {
     "iopub.execute_input": "2023-02-27T10:36:26.574856Z",
     "iopub.status.busy": "2023-02-27T10:36:26.574512Z",
     "iopub.status.idle": "2023-02-27T10:36:26.581982Z",
     "shell.execute_reply": "2023-02-27T10:36:26.581393Z"
    }
   },
   "outputs": [
    {
     "data": {
      "text/plain": [
       "Batch(\n",
       "    a: tensor([[ 1.5831,  0.1584, -0.5722],\n",
       "               [-1.3059,  0.2935, -0.6806],\n",
       "               [ 1.5831,  0.1584, -0.5722],\n",
       "               [-1.3059,  0.2935, -0.6806],\n",
       "               [ 1.5831,  0.1584, -0.5722],\n",
       "               [-1.3059,  0.2935, -0.6806],\n",
       "               [ 1.5831,  0.1584, -0.5722],\n",
       "               [-1.3059,  0.2935, -0.6806],\n",
       "               [ 1.5831,  0.1584, -0.5722],\n",
       "               [-1.3059,  0.2935, -0.6806],\n",
       "               [ 1.5831,  0.1584, -0.5722],\n",
       "               [-1.3059,  0.2935, -0.6806],\n",
       "               [ 1.5831,  0.1584, -0.5722],\n",
       "               [-1.3059,  0.2935, -0.6806],\n",
       "               [ 1.5831,  0.1584, -0.5722],\n",
       "               [-1.3059,  0.2935, -0.6806]]),\n",
       "    x: Batch(\n",
       "           c: tensor([[ 1.4959, -0.3282,  0.1670,  0.1570],\n",
       "                      [ 0.5016,  0.3339,  0.7168,  0.5720],\n",
       "                      [ 0.8196, -0.8302,  0.5668, -1.7408],\n",
       "                      [ 1.4959, -0.3282,  0.1670,  0.1570],\n",
       "                      [ 0.5016,  0.3339,  0.7168,  0.5720],\n",
       "                      [ 0.8196, -0.8302,  0.5668, -1.7408],\n",
       "                      [ 1.4959, -0.3282,  0.1670,  0.1570],\n",
       "                      [ 0.5016,  0.3339,  0.7168,  0.5720],\n",
       "                      [ 0.8196, -0.8302,  0.5668, -1.7408],\n",
       "                      [ 1.4959, -0.3282,  0.1670,  0.1570],\n",
       "                      [ 0.5016,  0.3339,  0.7168,  0.5720],\n",
       "                      [ 0.8196, -0.8302,  0.5668, -1.7408],\n",
       "                      [ 1.4959, -0.3282,  0.1670,  0.1570],\n",
       "                      [ 0.5016,  0.3339,  0.7168,  0.5720],\n",
       "                      [ 0.8196, -0.8302,  0.5668, -1.7408],\n",
       "                      [ 1.4959, -0.3282,  0.1670,  0.1570],\n",
       "                      [ 0.5016,  0.3339,  0.7168,  0.5720],\n",
       "                      [ 0.8196, -0.8302,  0.5668, -1.7408],\n",
       "                      [ 1.4959, -0.3282,  0.1670,  0.1570],\n",
       "                      [ 0.5016,  0.3339,  0.7168,  0.5720],\n",
       "                      [ 0.8196, -0.8302,  0.5668, -1.7408],\n",
       "                      [ 1.4959, -0.3282,  0.1670,  0.1570],\n",
       "                      [ 0.5016,  0.3339,  0.7168,  0.5720],\n",
       "                      [ 0.8196, -0.8302,  0.5668, -1.7408]]),\n",
       "       ),\n",
       ")"
      ]
     },
     "execution_count": 27,
     "metadata": {},
     "output_type": "execute_result"
    }
   ],
   "source": [
    "Batch.cat(batches)"
   ]
  },
  {
   "cell_type": "code",
   "execution_count": 28,
   "id": "18dfb045",
   "metadata": {
    "execution": {
     "iopub.execute_input": "2023-02-27T10:36:26.587520Z",
     "iopub.status.busy": "2023-02-27T10:36:26.586776Z",
     "iopub.status.idle": "2023-02-27T10:36:38.220605Z",
     "shell.execute_reply": "2023-02-27T10:36:38.219916Z"
    }
   },
   "outputs": [
    {
     "name": "stdout",
     "output_type": "stream",
     "text": [
      "143 µs ± 209 ns per loop (mean ± std. dev. of 7 runs, 10,000 loops each)\n"
     ]
    }
   ],
   "source": [
    "%timeit Batch.cat(batches)"
   ]
  },
  {
   "cell_type": "code",
   "execution_count": 29,
   "id": "c6688e51",
   "metadata": {
    "execution": {
     "iopub.execute_input": "2023-02-27T10:36:38.223426Z",
     "iopub.status.busy": "2023-02-27T10:36:38.222929Z",
     "iopub.status.idle": "2023-02-27T10:36:40.843924Z",
     "shell.execute_reply": "2023-02-27T10:36:40.843329Z"
    }
   },
   "outputs": [
    {
     "name": "stdout",
     "output_type": "stream",
     "text": [
      "323 µs ± 14 µs per loop (mean ± std. dev. of 7 runs, 1,000 loops each)\n"
     ]
    }
   ],
   "source": [
    "batch = Batch({\n",
    "    'obs': torch.randn(8, 4, 84, 84),\n",
    "    'action': torch.randint(0, 6, size=(8, 1,)),\n",
    "    'reward': torch.rand(8, 1)}\n",
    ")\n",
    "\n",
    "%timeit list(Batch.split(batch, 1, shuffle=False, merge_last=True))"
   ]
  },
  {
   "cell_type": "code",
   "execution_count": null,
   "id": "2539fbd9",
   "metadata": {},
   "outputs": [],
   "source": []
  }
 ],
 "metadata": {
  "kernelspec": {
   "display_name": "Python 3 (ipykernel)",
   "language": "python",
   "name": "python3"
  },
  "language_info": {
   "codemirror_mode": {
    "name": "ipython",
    "version": 3
   },
   "file_extension": ".py",
   "mimetype": "text/x-python",
   "name": "python",
   "nbconvert_exporter": "python",
   "pygments_lexer": "ipython3",
   "version": "3.8.16"
  }
 },
 "nbformat": 4,
 "nbformat_minor": 5
}
