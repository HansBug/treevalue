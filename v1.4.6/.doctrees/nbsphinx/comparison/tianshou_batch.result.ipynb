{
 "cells": [
  {
   "cell_type": "markdown",
   "id": "9d39d946",
   "metadata": {},
   "source": [
    "# Comparison Between TreeValue and Tianshou Batch"
   ]
  },
  {
   "cell_type": "markdown",
   "id": "3c6db2d4",
   "metadata": {},
   "source": [
    "In this section, we will take a look at the feature and performance of the [Tianshou Batch](https://github.com/thu-ml/tianshou) library, which is developed by Tsinghua Machine Learning Group."
   ]
  },
  {
   "cell_type": "markdown",
   "id": "069361b0",
   "metadata": {},
   "source": [
    "Before starting the comparison, let us define some thing."
   ]
  },
  {
   "cell_type": "code",
   "execution_count": 1,
   "id": "06fc8d26",
   "metadata": {
    "execution": {
     "iopub.execute_input": "2023-02-27T11:59:18.642306Z",
     "iopub.status.busy": "2023-02-27T11:59:18.641890Z",
     "iopub.status.idle": "2023-02-27T11:59:19.581239Z",
     "shell.execute_reply": "2023-02-27T11:59:19.580569Z"
    }
   },
   "outputs": [
    {
     "name": "stderr",
     "output_type": "stream",
     "text": [
      "/opt/hostedtoolcache/Python/3.8.16/x64/lib/python3.8/site-packages/tqdm/auto.py:22: TqdmWarning: IProgress not found. Please update jupyter and ipywidgets. See https://ipywidgets.readthedocs.io/en/stable/user_install.html\n",
      "  from .autonotebook import tqdm as notebook_tqdm\n"
     ]
    }
   ],
   "source": [
    "import torch \n",
    "\n",
    "_TREE_DATA_1 = {'a': 1, 'b': 2, 'x': {'c': 3, 'd': 4}}\n",
    "_TREE_DATA_2 = {\n",
    "    'a': torch.randn(2, 3), \n",
    "    'x': {\n",
    "        'c': torch.randn(3, 4)\n",
    "    },\n",
    "}\n",
    "_TREE_DATA_3 = {\n",
    "    'obs': torch.randn(4, 84, 84),\n",
    "    'action': torch.randint(0, 6, size=(1,)),\n",
    "    'reward': torch.rand(1),\n",
    "}"
   ]
  },
  {
   "cell_type": "markdown",
   "id": "83461b25",
   "metadata": {},
   "source": [
    "## Read and Write Operation"
   ]
  },
  {
   "cell_type": "markdown",
   "id": "067b3f73",
   "metadata": {},
   "source": [
    "Reading and writing are the two most common operations in the tree data structure based on the data model (TreeValue and Tianshou Batch both belong to this type), so this section will compare the reading and writing performance of these two libraries."
   ]
  },
  {
   "cell_type": "markdown",
   "id": "5d09a5b7",
   "metadata": {},
   "source": [
    "### TreeValue's Get and Set"
   ]
  },
  {
   "cell_type": "code",
   "execution_count": 2,
   "id": "9519c4bb",
   "metadata": {
    "execution": {
     "iopub.execute_input": "2023-02-27T11:59:19.585008Z",
     "iopub.status.busy": "2023-02-27T11:59:19.584384Z",
     "iopub.status.idle": "2023-02-27T11:59:19.868624Z",
     "shell.execute_reply": "2023-02-27T11:59:19.867955Z"
    }
   },
   "outputs": [],
   "source": [
    "from treevalue import FastTreeValue\n",
    "\n",
    "t = FastTreeValue(_TREE_DATA_2)"
   ]
  },
  {
   "cell_type": "code",
   "execution_count": 3,
   "id": "11c37677",
   "metadata": {
    "execution": {
     "iopub.execute_input": "2023-02-27T11:59:19.875525Z",
     "iopub.status.busy": "2023-02-27T11:59:19.875180Z",
     "iopub.status.idle": "2023-02-27T11:59:19.886475Z",
     "shell.execute_reply": "2023-02-27T11:59:19.885815Z"
    }
   },
   "outputs": [
    {
     "data": {
      "text/plain": [
       "<FastTreeValue 0x7fe5ecd1a490>\n",
       "├── 'a' --> tensor([[-0.1905,  0.0698,  1.1688],\n",
       "│                   [-1.7544,  0.5436,  0.7686]])\n",
       "└── 'x' --> <FastTreeValue 0x7fe5ecd1ac40>\n",
       "    └── 'c' --> tensor([[-0.6593,  0.6122, -0.0992, -0.9266],\n",
       "                        [-0.8774, -0.1818,  1.8838,  1.4354],\n",
       "                        [-1.6157, -1.2327,  0.7128, -0.1934]])"
      ]
     },
     "execution_count": 3,
     "metadata": {},
     "output_type": "execute_result"
    }
   ],
   "source": [
    "t"
   ]
  },
  {
   "cell_type": "code",
   "execution_count": 4,
   "id": "fd70b0b9",
   "metadata": {
    "execution": {
     "iopub.execute_input": "2023-02-27T11:59:19.889475Z",
     "iopub.status.busy": "2023-02-27T11:59:19.889125Z",
     "iopub.status.idle": "2023-02-27T11:59:19.893868Z",
     "shell.execute_reply": "2023-02-27T11:59:19.893236Z"
    }
   },
   "outputs": [
    {
     "data": {
      "text/plain": [
       "tensor([[-0.1905,  0.0698,  1.1688],\n",
       "        [-1.7544,  0.5436,  0.7686]])"
      ]
     },
     "execution_count": 4,
     "metadata": {},
     "output_type": "execute_result"
    }
   ],
   "source": [
    "t.a"
   ]
  },
  {
   "cell_type": "code",
   "execution_count": 5,
   "id": "c18197bd",
   "metadata": {
    "execution": {
     "iopub.execute_input": "2023-02-27T11:59:19.896495Z",
     "iopub.status.busy": "2023-02-27T11:59:19.896281Z",
     "iopub.status.idle": "2023-02-27T11:59:25.124705Z",
     "shell.execute_reply": "2023-02-27T11:59:25.124046Z"
    }
   },
   "outputs": [
    {
     "name": "stdout",
     "output_type": "stream",
     "text": [
      "64.3 ns ± 0.00756 ns per loop (mean ± std. dev. of 7 runs, 10,000,000 loops each)\n"
     ]
    }
   ],
   "source": [
    "%timeit t.a"
   ]
  },
  {
   "cell_type": "code",
   "execution_count": 6,
   "id": "bd52f867",
   "metadata": {
    "execution": {
     "iopub.execute_input": "2023-02-27T11:59:25.128157Z",
     "iopub.status.busy": "2023-02-27T11:59:25.127420Z",
     "iopub.status.idle": "2023-02-27T11:59:25.135394Z",
     "shell.execute_reply": "2023-02-27T11:59:25.134727Z"
    }
   },
   "outputs": [
    {
     "data": {
      "text/plain": [
       "<FastTreeValue 0x7fe5ecd1a490>\n",
       "├── 'a' --> tensor([[ 0.8981,  0.2205,  0.7297],\n",
       "│                   [ 0.2725, -0.4632, -0.1100]])\n",
       "└── 'x' --> <FastTreeValue 0x7fe5ecd1ac40>\n",
       "    └── 'c' --> tensor([[-0.6593,  0.6122, -0.0992, -0.9266],\n",
       "                        [-0.8774, -0.1818,  1.8838,  1.4354],\n",
       "                        [-1.6157, -1.2327,  0.7128, -0.1934]])"
      ]
     },
     "execution_count": 6,
     "metadata": {},
     "output_type": "execute_result"
    }
   ],
   "source": [
    "new_value = torch.randn(2, 3)\n",
    "t.a = new_value\n",
    "\n",
    "t"
   ]
  },
  {
   "cell_type": "code",
   "execution_count": 7,
   "id": "bbe04d1c",
   "metadata": {
    "execution": {
     "iopub.execute_input": "2023-02-27T11:59:25.138049Z",
     "iopub.status.busy": "2023-02-27T11:59:25.137658Z",
     "iopub.status.idle": "2023-02-27T11:59:30.182016Z",
     "shell.execute_reply": "2023-02-27T11:59:30.181251Z"
    }
   },
   "outputs": [
    {
     "name": "stdout",
     "output_type": "stream",
     "text": [
      "62.1 ns ± 0.045 ns per loop (mean ± std. dev. of 7 runs, 10,000,000 loops each)\n"
     ]
    }
   ],
   "source": [
    "%timeit t.a = new_value"
   ]
  },
  {
   "cell_type": "markdown",
   "id": "48c49731",
   "metadata": {},
   "source": [
    "### Tianshou Batch's Get and Set"
   ]
  },
  {
   "cell_type": "code",
   "execution_count": 8,
   "id": "f1bb14c1",
   "metadata": {
    "execution": {
     "iopub.execute_input": "2023-02-27T11:59:30.185534Z",
     "iopub.status.busy": "2023-02-27T11:59:30.184908Z",
     "iopub.status.idle": "2023-02-27T11:59:30.531305Z",
     "shell.execute_reply": "2023-02-27T11:59:30.530629Z"
    }
   },
   "outputs": [],
   "source": [
    "from tianshou.data import Batch\n",
    "\n",
    "b = Batch(**_TREE_DATA_2)"
   ]
  },
  {
   "cell_type": "code",
   "execution_count": 9,
   "id": "cb0777c3",
   "metadata": {
    "execution": {
     "iopub.execute_input": "2023-02-27T11:59:30.534748Z",
     "iopub.status.busy": "2023-02-27T11:59:30.534156Z",
     "iopub.status.idle": "2023-02-27T11:59:30.545736Z",
     "shell.execute_reply": "2023-02-27T11:59:30.545109Z"
    }
   },
   "outputs": [
    {
     "data": {
      "text/plain": [
       "Batch(\n",
       "    a: tensor([[-0.1905,  0.0698,  1.1688],\n",
       "               [-1.7544,  0.5436,  0.7686]]),\n",
       "    x: Batch(\n",
       "           c: tensor([[-0.6593,  0.6122, -0.0992, -0.9266],\n",
       "                      [-0.8774, -0.1818,  1.8838,  1.4354],\n",
       "                      [-1.6157, -1.2327,  0.7128, -0.1934]]),\n",
       "       ),\n",
       ")"
      ]
     },
     "execution_count": 9,
     "metadata": {},
     "output_type": "execute_result"
    }
   ],
   "source": [
    "b"
   ]
  },
  {
   "cell_type": "code",
   "execution_count": 10,
   "id": "43ef8ea3",
   "metadata": {
    "execution": {
     "iopub.execute_input": "2023-02-27T11:59:30.548560Z",
     "iopub.status.busy": "2023-02-27T11:59:30.548043Z",
     "iopub.status.idle": "2023-02-27T11:59:30.552919Z",
     "shell.execute_reply": "2023-02-27T11:59:30.552287Z"
    }
   },
   "outputs": [
    {
     "data": {
      "text/plain": [
       "tensor([[-0.1905,  0.0698,  1.1688],\n",
       "        [-1.7544,  0.5436,  0.7686]])"
      ]
     },
     "execution_count": 10,
     "metadata": {},
     "output_type": "execute_result"
    }
   ],
   "source": [
    "b.a"
   ]
  },
  {
   "cell_type": "code",
   "execution_count": 11,
   "id": "b785ab72",
   "metadata": {
    "execution": {
     "iopub.execute_input": "2023-02-27T11:59:30.555491Z",
     "iopub.status.busy": "2023-02-27T11:59:30.555283Z",
     "iopub.status.idle": "2023-02-27T11:59:35.242389Z",
     "shell.execute_reply": "2023-02-27T11:59:35.241552Z"
    }
   },
   "outputs": [
    {
     "name": "stdout",
     "output_type": "stream",
     "text": [
      "57.7 ns ± 0.0191 ns per loop (mean ± std. dev. of 7 runs, 10,000,000 loops each)\n"
     ]
    }
   ],
   "source": [
    "%timeit b.a"
   ]
  },
  {
   "cell_type": "code",
   "execution_count": 12,
   "id": "ad54dc69",
   "metadata": {
    "execution": {
     "iopub.execute_input": "2023-02-27T11:59:35.245735Z",
     "iopub.status.busy": "2023-02-27T11:59:35.245506Z",
     "iopub.status.idle": "2023-02-27T11:59:35.252092Z",
     "shell.execute_reply": "2023-02-27T11:59:35.251482Z"
    }
   },
   "outputs": [
    {
     "data": {
      "text/plain": [
       "Batch(\n",
       "    a: tensor([[-0.5597,  0.2333, -0.6854],\n",
       "               [ 0.6173,  0.3852,  0.0096]]),\n",
       "    x: Batch(\n",
       "           c: tensor([[-0.6593,  0.6122, -0.0992, -0.9266],\n",
       "                      [-0.8774, -0.1818,  1.8838,  1.4354],\n",
       "                      [-1.6157, -1.2327,  0.7128, -0.1934]]),\n",
       "       ),\n",
       ")"
      ]
     },
     "execution_count": 12,
     "metadata": {},
     "output_type": "execute_result"
    }
   ],
   "source": [
    "new_value = torch.randn(2, 3)\n",
    "b.a = new_value\n",
    "\n",
    "b"
   ]
  },
  {
   "cell_type": "code",
   "execution_count": 13,
   "id": "29b1d0bf",
   "metadata": {
    "execution": {
     "iopub.execute_input": "2023-02-27T11:59:35.254888Z",
     "iopub.status.busy": "2023-02-27T11:59:35.254535Z",
     "iopub.status.idle": "2023-02-27T11:59:39.199837Z",
     "shell.execute_reply": "2023-02-27T11:59:39.199107Z"
    }
   },
   "outputs": [
    {
     "name": "stdout",
     "output_type": "stream",
     "text": [
      "485 ns ± 0.11 ns per loop (mean ± std. dev. of 7 runs, 1,000,000 loops each)\n"
     ]
    }
   ],
   "source": [
    "%timeit b.a = new_value"
   ]
  },
  {
   "cell_type": "markdown",
   "id": "b61ad1d0",
   "metadata": {},
   "source": [
    "## Initialization"
   ]
  },
  {
   "cell_type": "markdown",
   "id": "d70f0d54",
   "metadata": {},
   "source": [
    "### TreeValue's Initialization"
   ]
  },
  {
   "cell_type": "code",
   "execution_count": 14,
   "id": "d32a679b",
   "metadata": {
    "execution": {
     "iopub.execute_input": "2023-02-27T11:59:39.203025Z",
     "iopub.status.busy": "2023-02-27T11:59:39.202783Z",
     "iopub.status.idle": "2023-02-27T11:59:46.251307Z",
     "shell.execute_reply": "2023-02-27T11:59:46.250578Z"
    }
   },
   "outputs": [
    {
     "name": "stdout",
     "output_type": "stream",
     "text": [
      "858 ns ± 19.3 ns per loop (mean ± std. dev. of 7 runs, 1,000,000 loops each)\n"
     ]
    }
   ],
   "source": [
    "%timeit FastTreeValue(_TREE_DATA_1)"
   ]
  },
  {
   "cell_type": "markdown",
   "id": "24f3707b",
   "metadata": {},
   "source": [
    "### Tianshou Batch's Initialization"
   ]
  },
  {
   "cell_type": "code",
   "execution_count": 15,
   "id": "ac3958df",
   "metadata": {
    "execution": {
     "iopub.execute_input": "2023-02-27T11:59:46.254666Z",
     "iopub.status.busy": "2023-02-27T11:59:46.254148Z",
     "iopub.status.idle": "2023-02-27T11:59:55.488536Z",
     "shell.execute_reply": "2023-02-27T11:59:55.487856Z"
    }
   },
   "outputs": [
    {
     "name": "stdout",
     "output_type": "stream",
     "text": [
      "11.4 µs ± 24.9 ns per loop (mean ± std. dev. of 7 runs, 100,000 loops each)\n"
     ]
    }
   ],
   "source": [
    "%timeit Batch(**_TREE_DATA_1)"
   ]
  },
  {
   "cell_type": "markdown",
   "id": "1ab82e2d",
   "metadata": {},
   "source": [
    "## Deep Copy Operation"
   ]
  },
  {
   "cell_type": "code",
   "execution_count": 16,
   "id": "210a9442",
   "metadata": {
    "execution": {
     "iopub.execute_input": "2023-02-27T11:59:55.491827Z",
     "iopub.status.busy": "2023-02-27T11:59:55.491318Z",
     "iopub.status.idle": "2023-02-27T11:59:55.495394Z",
     "shell.execute_reply": "2023-02-27T11:59:55.494789Z"
    }
   },
   "outputs": [],
   "source": [
    "import copy"
   ]
  },
  {
   "cell_type": "markdown",
   "id": "5a736274",
   "metadata": {},
   "source": [
    "### Deep Copy of TreeValue"
   ]
  },
  {
   "cell_type": "code",
   "execution_count": 17,
   "id": "f9bcadd6",
   "metadata": {
    "execution": {
     "iopub.execute_input": "2023-02-27T11:59:55.498127Z",
     "iopub.status.busy": "2023-02-27T11:59:55.497803Z",
     "iopub.status.idle": "2023-02-27T12:00:06.436242Z",
     "shell.execute_reply": "2023-02-27T12:00:06.435659Z"
    }
   },
   "outputs": [
    {
     "name": "stdout",
     "output_type": "stream",
     "text": [
      "135 µs ± 304 ns per loop (mean ± std. dev. of 7 runs, 10,000 loops each)\n"
     ]
    }
   ],
   "source": [
    "t3 = FastTreeValue(_TREE_DATA_3)\n",
    "%timeit copy.deepcopy(t3)"
   ]
  },
  {
   "cell_type": "markdown",
   "id": "bf8be7ea",
   "metadata": {},
   "source": [
    "### Deep Copy of Tianshou Batch"
   ]
  },
  {
   "cell_type": "code",
   "execution_count": 18,
   "id": "91998e6f",
   "metadata": {
    "execution": {
     "iopub.execute_input": "2023-02-27T12:00:06.440293Z",
     "iopub.status.busy": "2023-02-27T12:00:06.439334Z",
     "iopub.status.idle": "2023-02-27T12:00:17.851851Z",
     "shell.execute_reply": "2023-02-27T12:00:17.851273Z"
    }
   },
   "outputs": [
    {
     "name": "stdout",
     "output_type": "stream",
     "text": [
      "141 µs ± 934 ns per loop (mean ± std. dev. of 7 runs, 10,000 loops each)\n"
     ]
    }
   ],
   "source": [
    "b3 = Batch(**_TREE_DATA_3)\n",
    "%timeit copy.deepcopy(b3)"
   ]
  },
  {
   "cell_type": "markdown",
   "id": "223162fb",
   "metadata": {},
   "source": [
    "## Stack, Concat and Split Operation"
   ]
  },
  {
   "cell_type": "markdown",
   "id": "85fa4a73",
   "metadata": {},
   "source": [
    "### Performance of TreeValue"
   ]
  },
  {
   "cell_type": "code",
   "execution_count": 19,
   "id": "a0c2b697",
   "metadata": {
    "execution": {
     "iopub.execute_input": "2023-02-27T12:00:17.855434Z",
     "iopub.status.busy": "2023-02-27T12:00:17.854396Z",
     "iopub.status.idle": "2023-02-27T12:00:17.858296Z",
     "shell.execute_reply": "2023-02-27T12:00:17.857754Z"
    }
   },
   "outputs": [],
   "source": [
    "trees = [FastTreeValue(_TREE_DATA_2) for _ in range(8)]"
   ]
  },
  {
   "cell_type": "code",
   "execution_count": 20,
   "id": "017ea5a5",
   "metadata": {
    "execution": {
     "iopub.execute_input": "2023-02-27T12:00:17.860756Z",
     "iopub.status.busy": "2023-02-27T12:00:17.860326Z",
     "iopub.status.idle": "2023-02-27T12:00:17.867383Z",
     "shell.execute_reply": "2023-02-27T12:00:17.866870Z"
    }
   },
   "outputs": [
    {
     "data": {
      "text/plain": [
       "<FastTreeValue 0x7fe535fd3370>\n",
       "├── 'a' --> tensor([[[-0.1905,  0.0698,  1.1688],\n",
       "│                    [-1.7544,  0.5436,  0.7686]],\n",
       "│           \n",
       "│                   [[-0.1905,  0.0698,  1.1688],\n",
       "│                    [-1.7544,  0.5436,  0.7686]],\n",
       "│           \n",
       "│                   [[-0.1905,  0.0698,  1.1688],\n",
       "│                    [-1.7544,  0.5436,  0.7686]],\n",
       "│           \n",
       "│                   [[-0.1905,  0.0698,  1.1688],\n",
       "│                    [-1.7544,  0.5436,  0.7686]],\n",
       "│           \n",
       "│                   [[-0.1905,  0.0698,  1.1688],\n",
       "│                    [-1.7544,  0.5436,  0.7686]],\n",
       "│           \n",
       "│                   [[-0.1905,  0.0698,  1.1688],\n",
       "│                    [-1.7544,  0.5436,  0.7686]],\n",
       "│           \n",
       "│                   [[-0.1905,  0.0698,  1.1688],\n",
       "│                    [-1.7544,  0.5436,  0.7686]],\n",
       "│           \n",
       "│                   [[-0.1905,  0.0698,  1.1688],\n",
       "│                    [-1.7544,  0.5436,  0.7686]]])\n",
       "└── 'x' --> <FastTreeValue 0x7fe535fd3d90>\n",
       "    └── 'c' --> tensor([[[-0.6593,  0.6122, -0.0992, -0.9266],\n",
       "                         [-0.8774, -0.1818,  1.8838,  1.4354],\n",
       "                         [-1.6157, -1.2327,  0.7128, -0.1934]],\n",
       "                \n",
       "                        [[-0.6593,  0.6122, -0.0992, -0.9266],\n",
       "                         [-0.8774, -0.1818,  1.8838,  1.4354],\n",
       "                         [-1.6157, -1.2327,  0.7128, -0.1934]],\n",
       "                \n",
       "                        [[-0.6593,  0.6122, -0.0992, -0.9266],\n",
       "                         [-0.8774, -0.1818,  1.8838,  1.4354],\n",
       "                         [-1.6157, -1.2327,  0.7128, -0.1934]],\n",
       "                \n",
       "                        [[-0.6593,  0.6122, -0.0992, -0.9266],\n",
       "                         [-0.8774, -0.1818,  1.8838,  1.4354],\n",
       "                         [-1.6157, -1.2327,  0.7128, -0.1934]],\n",
       "                \n",
       "                        [[-0.6593,  0.6122, -0.0992, -0.9266],\n",
       "                         [-0.8774, -0.1818,  1.8838,  1.4354],\n",
       "                         [-1.6157, -1.2327,  0.7128, -0.1934]],\n",
       "                \n",
       "                        [[-0.6593,  0.6122, -0.0992, -0.9266],\n",
       "                         [-0.8774, -0.1818,  1.8838,  1.4354],\n",
       "                         [-1.6157, -1.2327,  0.7128, -0.1934]],\n",
       "                \n",
       "                        [[-0.6593,  0.6122, -0.0992, -0.9266],\n",
       "                         [-0.8774, -0.1818,  1.8838,  1.4354],\n",
       "                         [-1.6157, -1.2327,  0.7128, -0.1934]],\n",
       "                \n",
       "                        [[-0.6593,  0.6122, -0.0992, -0.9266],\n",
       "                         [-0.8774, -0.1818,  1.8838,  1.4354],\n",
       "                         [-1.6157, -1.2327,  0.7128, -0.1934]]])"
      ]
     },
     "execution_count": 20,
     "metadata": {},
     "output_type": "execute_result"
    }
   ],
   "source": [
    "t_stack = FastTreeValue.func(subside=True)(torch.stack)\n",
    "\n",
    "t_stack(trees)"
   ]
  },
  {
   "cell_type": "code",
   "execution_count": 21,
   "id": "f8b3f415",
   "metadata": {
    "execution": {
     "iopub.execute_input": "2023-02-27T12:00:17.869821Z",
     "iopub.status.busy": "2023-02-27T12:00:17.869415Z",
     "iopub.status.idle": "2023-02-27T12:00:20.425437Z",
     "shell.execute_reply": "2023-02-27T12:00:20.424744Z"
    }
   },
   "outputs": [
    {
     "name": "stdout",
     "output_type": "stream",
     "text": [
      "31.4 µs ± 38.7 ns per loop (mean ± std. dev. of 7 runs, 10,000 loops each)\n"
     ]
    }
   ],
   "source": [
    "%timeit t_stack(trees)"
   ]
  },
  {
   "cell_type": "code",
   "execution_count": 22,
   "id": "94b56771",
   "metadata": {
    "execution": {
     "iopub.execute_input": "2023-02-27T12:00:20.428223Z",
     "iopub.status.busy": "2023-02-27T12:00:20.427992Z",
     "iopub.status.idle": "2023-02-27T12:00:20.436862Z",
     "shell.execute_reply": "2023-02-27T12:00:20.436252Z"
    }
   },
   "outputs": [
    {
     "data": {
      "text/plain": [
       "<FastTreeValue 0x7fe535fd32b0>\n",
       "├── 'a' --> tensor([[-0.1905,  0.0698,  1.1688],\n",
       "│                   [-1.7544,  0.5436,  0.7686],\n",
       "│                   [-0.1905,  0.0698,  1.1688],\n",
       "│                   [-1.7544,  0.5436,  0.7686],\n",
       "│                   [-0.1905,  0.0698,  1.1688],\n",
       "│                   [-1.7544,  0.5436,  0.7686],\n",
       "│                   [-0.1905,  0.0698,  1.1688],\n",
       "│                   [-1.7544,  0.5436,  0.7686],\n",
       "│                   [-0.1905,  0.0698,  1.1688],\n",
       "│                   [-1.7544,  0.5436,  0.7686],\n",
       "│                   [-0.1905,  0.0698,  1.1688],\n",
       "│                   [-1.7544,  0.5436,  0.7686],\n",
       "│                   [-0.1905,  0.0698,  1.1688],\n",
       "│                   [-1.7544,  0.5436,  0.7686],\n",
       "│                   [-0.1905,  0.0698,  1.1688],\n",
       "│                   [-1.7544,  0.5436,  0.7686]])\n",
       "└── 'x' --> <FastTreeValue 0x7fe535fd3a00>\n",
       "    └── 'c' --> tensor([[-0.6593,  0.6122, -0.0992, -0.9266],\n",
       "                        [-0.8774, -0.1818,  1.8838,  1.4354],\n",
       "                        [-1.6157, -1.2327,  0.7128, -0.1934],\n",
       "                        [-0.6593,  0.6122, -0.0992, -0.9266],\n",
       "                        [-0.8774, -0.1818,  1.8838,  1.4354],\n",
       "                        [-1.6157, -1.2327,  0.7128, -0.1934],\n",
       "                        [-0.6593,  0.6122, -0.0992, -0.9266],\n",
       "                        [-0.8774, -0.1818,  1.8838,  1.4354],\n",
       "                        [-1.6157, -1.2327,  0.7128, -0.1934],\n",
       "                        [-0.6593,  0.6122, -0.0992, -0.9266],\n",
       "                        [-0.8774, -0.1818,  1.8838,  1.4354],\n",
       "                        [-1.6157, -1.2327,  0.7128, -0.1934],\n",
       "                        [-0.6593,  0.6122, -0.0992, -0.9266],\n",
       "                        [-0.8774, -0.1818,  1.8838,  1.4354],\n",
       "                        [-1.6157, -1.2327,  0.7128, -0.1934],\n",
       "                        [-0.6593,  0.6122, -0.0992, -0.9266],\n",
       "                        [-0.8774, -0.1818,  1.8838,  1.4354],\n",
       "                        [-1.6157, -1.2327,  0.7128, -0.1934],\n",
       "                        [-0.6593,  0.6122, -0.0992, -0.9266],\n",
       "                        [-0.8774, -0.1818,  1.8838,  1.4354],\n",
       "                        [-1.6157, -1.2327,  0.7128, -0.1934],\n",
       "                        [-0.6593,  0.6122, -0.0992, -0.9266],\n",
       "                        [-0.8774, -0.1818,  1.8838,  1.4354],\n",
       "                        [-1.6157, -1.2327,  0.7128, -0.1934]])"
      ]
     },
     "execution_count": 22,
     "metadata": {},
     "output_type": "execute_result"
    }
   ],
   "source": [
    "t_cat = FastTreeValue.func(subside=True)(torch.cat)\n",
    "\n",
    "t_cat(trees)"
   ]
  },
  {
   "cell_type": "code",
   "execution_count": 23,
   "id": "5e9c06a6",
   "metadata": {
    "execution": {
     "iopub.execute_input": "2023-02-27T12:00:20.439886Z",
     "iopub.status.busy": "2023-02-27T12:00:20.439649Z",
     "iopub.status.idle": "2023-02-27T12:00:22.865106Z",
     "shell.execute_reply": "2023-02-27T12:00:22.864405Z"
    }
   },
   "outputs": [
    {
     "name": "stdout",
     "output_type": "stream",
     "text": [
      "29.8 µs ± 58.8 ns per loop (mean ± std. dev. of 7 runs, 10,000 loops each)\n"
     ]
    }
   ],
   "source": [
    "%timeit t_cat(trees)"
   ]
  },
  {
   "cell_type": "code",
   "execution_count": 24,
   "id": "a3ab5c8f",
   "metadata": {
    "execution": {
     "iopub.execute_input": "2023-02-27T12:00:22.867992Z",
     "iopub.status.busy": "2023-02-27T12:00:22.867608Z",
     "iopub.status.idle": "2023-02-27T12:00:27.744451Z",
     "shell.execute_reply": "2023-02-27T12:00:27.743733Z"
    }
   },
   "outputs": [
    {
     "name": "stdout",
     "output_type": "stream",
     "text": [
      "60 µs ± 93.4 ns per loop (mean ± std. dev. of 7 runs, 10,000 loops each)\n"
     ]
    }
   ],
   "source": [
    "t_split = FastTreeValue.func(rise=True)(torch.split)\n",
    "tree = FastTreeValue({\n",
    "    'obs': torch.randn(8, 4, 84, 84),\n",
    "    'action': torch.randint(0, 6, size=(8, 1,)),\n",
    "    'reward': torch.rand(8, 1),\n",
    "})\n",
    "\n",
    "%timeit t_split(tree, 1)"
   ]
  },
  {
   "cell_type": "markdown",
   "id": "31c3ec0b",
   "metadata": {},
   "source": [
    "### Performance of Tianshou Batch"
   ]
  },
  {
   "cell_type": "code",
   "execution_count": 25,
   "id": "9ead828a",
   "metadata": {
    "execution": {
     "iopub.execute_input": "2023-02-27T12:00:27.747666Z",
     "iopub.status.busy": "2023-02-27T12:00:27.747302Z",
     "iopub.status.idle": "2023-02-27T12:00:27.756335Z",
     "shell.execute_reply": "2023-02-27T12:00:27.755748Z"
    }
   },
   "outputs": [
    {
     "data": {
      "text/plain": [
       "Batch(\n",
       "    x: Batch(\n",
       "           c: tensor([[[-0.6593,  0.6122, -0.0992, -0.9266],\n",
       "                       [-0.8774, -0.1818,  1.8838,  1.4354],\n",
       "                       [-1.6157, -1.2327,  0.7128, -0.1934]],\n",
       "              \n",
       "                      [[-0.6593,  0.6122, -0.0992, -0.9266],\n",
       "                       [-0.8774, -0.1818,  1.8838,  1.4354],\n",
       "                       [-1.6157, -1.2327,  0.7128, -0.1934]],\n",
       "              \n",
       "                      [[-0.6593,  0.6122, -0.0992, -0.9266],\n",
       "                       [-0.8774, -0.1818,  1.8838,  1.4354],\n",
       "                       [-1.6157, -1.2327,  0.7128, -0.1934]],\n",
       "              \n",
       "                      [[-0.6593,  0.6122, -0.0992, -0.9266],\n",
       "                       [-0.8774, -0.1818,  1.8838,  1.4354],\n",
       "                       [-1.6157, -1.2327,  0.7128, -0.1934]],\n",
       "              \n",
       "                      [[-0.6593,  0.6122, -0.0992, -0.9266],\n",
       "                       [-0.8774, -0.1818,  1.8838,  1.4354],\n",
       "                       [-1.6157, -1.2327,  0.7128, -0.1934]],\n",
       "              \n",
       "                      [[-0.6593,  0.6122, -0.0992, -0.9266],\n",
       "                       [-0.8774, -0.1818,  1.8838,  1.4354],\n",
       "                       [-1.6157, -1.2327,  0.7128, -0.1934]],\n",
       "              \n",
       "                      [[-0.6593,  0.6122, -0.0992, -0.9266],\n",
       "                       [-0.8774, -0.1818,  1.8838,  1.4354],\n",
       "                       [-1.6157, -1.2327,  0.7128, -0.1934]],\n",
       "              \n",
       "                      [[-0.6593,  0.6122, -0.0992, -0.9266],\n",
       "                       [-0.8774, -0.1818,  1.8838,  1.4354],\n",
       "                       [-1.6157, -1.2327,  0.7128, -0.1934]]]),\n",
       "       ),\n",
       "    a: tensor([[[-0.1905,  0.0698,  1.1688],\n",
       "                [-1.7544,  0.5436,  0.7686]],\n",
       "       \n",
       "               [[-0.1905,  0.0698,  1.1688],\n",
       "                [-1.7544,  0.5436,  0.7686]],\n",
       "       \n",
       "               [[-0.1905,  0.0698,  1.1688],\n",
       "                [-1.7544,  0.5436,  0.7686]],\n",
       "       \n",
       "               [[-0.1905,  0.0698,  1.1688],\n",
       "                [-1.7544,  0.5436,  0.7686]],\n",
       "       \n",
       "               [[-0.1905,  0.0698,  1.1688],\n",
       "                [-1.7544,  0.5436,  0.7686]],\n",
       "       \n",
       "               [[-0.1905,  0.0698,  1.1688],\n",
       "                [-1.7544,  0.5436,  0.7686]],\n",
       "       \n",
       "               [[-0.1905,  0.0698,  1.1688],\n",
       "                [-1.7544,  0.5436,  0.7686]],\n",
       "       \n",
       "               [[-0.1905,  0.0698,  1.1688],\n",
       "                [-1.7544,  0.5436,  0.7686]]]),\n",
       ")"
      ]
     },
     "execution_count": 25,
     "metadata": {},
     "output_type": "execute_result"
    }
   ],
   "source": [
    "batches = [Batch(**_TREE_DATA_2) for _ in range(8)]\n",
    "\n",
    "Batch.stack(batches)"
   ]
  },
  {
   "cell_type": "code",
   "execution_count": 26,
   "id": "ec9037a3",
   "metadata": {
    "execution": {
     "iopub.execute_input": "2023-02-27T12:00:27.759217Z",
     "iopub.status.busy": "2023-02-27T12:00:27.758744Z",
     "iopub.status.idle": "2023-02-27T12:00:34.118352Z",
     "shell.execute_reply": "2023-02-27T12:00:34.117664Z"
    }
   },
   "outputs": [
    {
     "name": "stdout",
     "output_type": "stream",
     "text": [
      "78.2 µs ± 102 ns per loop (mean ± std. dev. of 7 runs, 10,000 loops each)\n"
     ]
    }
   ],
   "source": [
    "%timeit Batch.stack(batches)"
   ]
  },
  {
   "cell_type": "code",
   "execution_count": 27,
   "id": "cb8ab77e",
   "metadata": {
    "execution": {
     "iopub.execute_input": "2023-02-27T12:00:34.121368Z",
     "iopub.status.busy": "2023-02-27T12:00:34.121000Z",
     "iopub.status.idle": "2023-02-27T12:00:34.128559Z",
     "shell.execute_reply": "2023-02-27T12:00:34.127990Z"
    }
   },
   "outputs": [
    {
     "data": {
      "text/plain": [
       "Batch(\n",
       "    x: Batch(\n",
       "           c: tensor([[-0.6593,  0.6122, -0.0992, -0.9266],\n",
       "                      [-0.8774, -0.1818,  1.8838,  1.4354],\n",
       "                      [-1.6157, -1.2327,  0.7128, -0.1934],\n",
       "                      [-0.6593,  0.6122, -0.0992, -0.9266],\n",
       "                      [-0.8774, -0.1818,  1.8838,  1.4354],\n",
       "                      [-1.6157, -1.2327,  0.7128, -0.1934],\n",
       "                      [-0.6593,  0.6122, -0.0992, -0.9266],\n",
       "                      [-0.8774, -0.1818,  1.8838,  1.4354],\n",
       "                      [-1.6157, -1.2327,  0.7128, -0.1934],\n",
       "                      [-0.6593,  0.6122, -0.0992, -0.9266],\n",
       "                      [-0.8774, -0.1818,  1.8838,  1.4354],\n",
       "                      [-1.6157, -1.2327,  0.7128, -0.1934],\n",
       "                      [-0.6593,  0.6122, -0.0992, -0.9266],\n",
       "                      [-0.8774, -0.1818,  1.8838,  1.4354],\n",
       "                      [-1.6157, -1.2327,  0.7128, -0.1934],\n",
       "                      [-0.6593,  0.6122, -0.0992, -0.9266],\n",
       "                      [-0.8774, -0.1818,  1.8838,  1.4354],\n",
       "                      [-1.6157, -1.2327,  0.7128, -0.1934],\n",
       "                      [-0.6593,  0.6122, -0.0992, -0.9266],\n",
       "                      [-0.8774, -0.1818,  1.8838,  1.4354],\n",
       "                      [-1.6157, -1.2327,  0.7128, -0.1934],\n",
       "                      [-0.6593,  0.6122, -0.0992, -0.9266],\n",
       "                      [-0.8774, -0.1818,  1.8838,  1.4354],\n",
       "                      [-1.6157, -1.2327,  0.7128, -0.1934]]),\n",
       "       ),\n",
       "    a: tensor([[-0.1905,  0.0698,  1.1688],\n",
       "               [-1.7544,  0.5436,  0.7686],\n",
       "               [-0.1905,  0.0698,  1.1688],\n",
       "               [-1.7544,  0.5436,  0.7686],\n",
       "               [-0.1905,  0.0698,  1.1688],\n",
       "               [-1.7544,  0.5436,  0.7686],\n",
       "               [-0.1905,  0.0698,  1.1688],\n",
       "               [-1.7544,  0.5436,  0.7686],\n",
       "               [-0.1905,  0.0698,  1.1688],\n",
       "               [-1.7544,  0.5436,  0.7686],\n",
       "               [-0.1905,  0.0698,  1.1688],\n",
       "               [-1.7544,  0.5436,  0.7686],\n",
       "               [-0.1905,  0.0698,  1.1688],\n",
       "               [-1.7544,  0.5436,  0.7686],\n",
       "               [-0.1905,  0.0698,  1.1688],\n",
       "               [-1.7544,  0.5436,  0.7686]]),\n",
       ")"
      ]
     },
     "execution_count": 27,
     "metadata": {},
     "output_type": "execute_result"
    }
   ],
   "source": [
    "Batch.cat(batches)"
   ]
  },
  {
   "cell_type": "code",
   "execution_count": 28,
   "id": "18dfb045",
   "metadata": {
    "execution": {
     "iopub.execute_input": "2023-02-27T12:00:34.131442Z",
     "iopub.status.busy": "2023-02-27T12:00:34.130958Z",
     "iopub.status.idle": "2023-02-27T12:00:45.770304Z",
     "shell.execute_reply": "2023-02-27T12:00:45.769580Z"
    }
   },
   "outputs": [
    {
     "name": "stdout",
     "output_type": "stream",
     "text": [
      "143 µs ± 149 ns per loop (mean ± std. dev. of 7 runs, 10,000 loops each)\n"
     ]
    }
   ],
   "source": [
    "%timeit Batch.cat(batches)"
   ]
  },
  {
   "cell_type": "code",
   "execution_count": 29,
   "id": "c6688e51",
   "metadata": {
    "execution": {
     "iopub.execute_input": "2023-02-27T12:00:45.773700Z",
     "iopub.status.busy": "2023-02-27T12:00:45.773032Z",
     "iopub.status.idle": "2023-02-27T12:00:48.273964Z",
     "shell.execute_reply": "2023-02-27T12:00:48.273406Z"
    }
   },
   "outputs": [
    {
     "name": "stdout",
     "output_type": "stream",
     "text": [
      "307 µs ± 355 ns per loop (mean ± std. dev. of 7 runs, 1,000 loops each)\n"
     ]
    }
   ],
   "source": [
    "batch = Batch({\n",
    "    'obs': torch.randn(8, 4, 84, 84),\n",
    "    'action': torch.randint(0, 6, size=(8, 1,)),\n",
    "    'reward': torch.rand(8, 1)}\n",
    ")\n",
    "\n",
    "%timeit list(Batch.split(batch, 1, shuffle=False, merge_last=True))"
   ]
  },
  {
   "cell_type": "code",
   "execution_count": null,
   "id": "2539fbd9",
   "metadata": {},
   "outputs": [],
   "source": []
  }
 ],
 "metadata": {
  "kernelspec": {
   "display_name": "Python 3 (ipykernel)",
   "language": "python",
   "name": "python3"
  },
  "language_info": {
   "codemirror_mode": {
    "name": "ipython",
    "version": 3
   },
   "file_extension": ".py",
   "mimetype": "text/x-python",
   "name": "python",
   "nbconvert_exporter": "python",
   "pygments_lexer": "ipython3",
   "version": "3.8.16"
  }
 },
 "nbformat": 4,
 "nbformat_minor": 5
}
