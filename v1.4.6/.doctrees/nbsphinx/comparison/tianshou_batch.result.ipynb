{
 "cells": [
  {
   "cell_type": "markdown",
   "id": "9d39d946",
   "metadata": {},
   "source": [
    "# Comparison Between TreeValue and Tianshou Batch"
   ]
  },
  {
   "cell_type": "markdown",
   "id": "3c6db2d4",
   "metadata": {},
   "source": [
    "In this section, we will take a look at the feature and performance of the [Tianshou Batch](https://github.com/thu-ml/tianshou) library, which is developed by Tsinghua Machine Learning Group."
   ]
  },
  {
   "cell_type": "markdown",
   "id": "069361b0",
   "metadata": {},
   "source": [
    "Before starting the comparison, let us define some thing."
   ]
  },
  {
   "cell_type": "code",
   "execution_count": 1,
   "id": "06fc8d26",
   "metadata": {
    "execution": {
     "iopub.execute_input": "2023-03-06T16:57:08.365667Z",
     "iopub.status.busy": "2023-03-06T16:57:08.365443Z",
     "iopub.status.idle": "2023-03-06T16:57:09.291871Z",
     "shell.execute_reply": "2023-03-06T16:57:09.291144Z"
    }
   },
   "outputs": [
    {
     "name": "stderr",
     "output_type": "stream",
     "text": [
      "/opt/hostedtoolcache/Python/3.8.16/x64/lib/python3.8/site-packages/tqdm/auto.py:21: TqdmWarning: IProgress not found. Please update jupyter and ipywidgets. See https://ipywidgets.readthedocs.io/en/stable/user_install.html\n",
      "  from .autonotebook import tqdm as notebook_tqdm\n"
     ]
    }
   ],
   "source": [
    "import torch \n",
    "\n",
    "_TREE_DATA_1 = {'a': 1, 'b': 2, 'x': {'c': 3, 'd': 4}}\n",
    "_TREE_DATA_2 = {\n",
    "    'a': torch.randn(2, 3), \n",
    "    'x': {\n",
    "        'c': torch.randn(3, 4)\n",
    "    },\n",
    "}\n",
    "_TREE_DATA_3 = {\n",
    "    'obs': torch.randn(4, 84, 84),\n",
    "    'action': torch.randint(0, 6, size=(1,)),\n",
    "    'reward': torch.rand(1),\n",
    "}"
   ]
  },
  {
   "cell_type": "markdown",
   "id": "83461b25",
   "metadata": {},
   "source": [
    "## Read and Write Operation"
   ]
  },
  {
   "cell_type": "markdown",
   "id": "067b3f73",
   "metadata": {},
   "source": [
    "Reading and writing are the two most common operations in the tree data structure based on the data model (TreeValue and Tianshou Batch both belong to this type), so this section will compare the reading and writing performance of these two libraries."
   ]
  },
  {
   "cell_type": "markdown",
   "id": "5d09a5b7",
   "metadata": {},
   "source": [
    "### TreeValue's Get and Set"
   ]
  },
  {
   "cell_type": "code",
   "execution_count": 2,
   "id": "9519c4bb",
   "metadata": {
    "execution": {
     "iopub.execute_input": "2023-03-06T16:57:09.295498Z",
     "iopub.status.busy": "2023-03-06T16:57:09.294836Z",
     "iopub.status.idle": "2023-03-06T16:57:09.579654Z",
     "shell.execute_reply": "2023-03-06T16:57:09.578981Z"
    }
   },
   "outputs": [],
   "source": [
    "from treevalue import FastTreeValue\n",
    "\n",
    "t = FastTreeValue(_TREE_DATA_2)"
   ]
  },
  {
   "cell_type": "code",
   "execution_count": 3,
   "id": "11c37677",
   "metadata": {
    "execution": {
     "iopub.execute_input": "2023-03-06T16:57:09.582946Z",
     "iopub.status.busy": "2023-03-06T16:57:09.582516Z",
     "iopub.status.idle": "2023-03-06T16:57:09.591837Z",
     "shell.execute_reply": "2023-03-06T16:57:09.591241Z"
    }
   },
   "outputs": [
    {
     "data": {
      "text/plain": [
       "<FastTreeValue 0x7f80b0f43d90>\n",
       "├── 'a' --> tensor([[ 0.7690, -0.0159,  0.7301],\n",
       "│                   [-0.2130,  0.8570,  0.7841]])\n",
       "└── 'x' --> <FastTreeValue 0x7f80b0f43c70>\n",
       "    └── 'c' --> tensor([[-1.1512,  0.5310, -1.6560,  0.4896],\n",
       "                        [-0.7278, -0.3072,  0.9704,  1.4363],\n",
       "                        [ 0.0175,  0.6630,  0.9286,  0.0258]])"
      ]
     },
     "execution_count": 3,
     "metadata": {},
     "output_type": "execute_result"
    }
   ],
   "source": [
    "t"
   ]
  },
  {
   "cell_type": "code",
   "execution_count": 4,
   "id": "fd70b0b9",
   "metadata": {
    "execution": {
     "iopub.execute_input": "2023-03-06T16:57:09.594707Z",
     "iopub.status.busy": "2023-03-06T16:57:09.594118Z",
     "iopub.status.idle": "2023-03-06T16:57:09.600304Z",
     "shell.execute_reply": "2023-03-06T16:57:09.599719Z"
    }
   },
   "outputs": [
    {
     "data": {
      "text/plain": [
       "tensor([[ 0.7690, -0.0159,  0.7301],\n",
       "        [-0.2130,  0.8570,  0.7841]])"
      ]
     },
     "execution_count": 4,
     "metadata": {},
     "output_type": "execute_result"
    }
   ],
   "source": [
    "t.a"
   ]
  },
  {
   "cell_type": "code",
   "execution_count": 5,
   "id": "c18197bd",
   "metadata": {
    "execution": {
     "iopub.execute_input": "2023-03-06T16:57:09.602941Z",
     "iopub.status.busy": "2023-03-06T16:57:09.602589Z",
     "iopub.status.idle": "2023-03-06T16:57:14.866282Z",
     "shell.execute_reply": "2023-03-06T16:57:14.865543Z"
    }
   },
   "outputs": [
    {
     "name": "stdout",
     "output_type": "stream",
     "text": [
      "64.9 ns ± 0.0249 ns per loop (mean ± std. dev. of 7 runs, 10,000,000 loops each)\n"
     ]
    }
   ],
   "source": [
    "%timeit t.a"
   ]
  },
  {
   "cell_type": "code",
   "execution_count": 6,
   "id": "bd52f867",
   "metadata": {
    "execution": {
     "iopub.execute_input": "2023-03-06T16:57:14.869343Z",
     "iopub.status.busy": "2023-03-06T16:57:14.868967Z",
     "iopub.status.idle": "2023-03-06T16:57:14.875712Z",
     "shell.execute_reply": "2023-03-06T16:57:14.875129Z"
    }
   },
   "outputs": [
    {
     "data": {
      "text/plain": [
       "<FastTreeValue 0x7f80b0f43d90>\n",
       "├── 'a' --> tensor([[-0.9121, -1.2452, -0.9661],\n",
       "│                   [-0.9420,  0.5393,  0.5141]])\n",
       "└── 'x' --> <FastTreeValue 0x7f80b0f43c70>\n",
       "    └── 'c' --> tensor([[-1.1512,  0.5310, -1.6560,  0.4896],\n",
       "                        [-0.7278, -0.3072,  0.9704,  1.4363],\n",
       "                        [ 0.0175,  0.6630,  0.9286,  0.0258]])"
      ]
     },
     "execution_count": 6,
     "metadata": {},
     "output_type": "execute_result"
    }
   ],
   "source": [
    "new_value = torch.randn(2, 3)\n",
    "t.a = new_value\n",
    "\n",
    "t"
   ]
  },
  {
   "cell_type": "code",
   "execution_count": 7,
   "id": "bbe04d1c",
   "metadata": {
    "execution": {
     "iopub.execute_input": "2023-03-06T16:57:14.878468Z",
     "iopub.status.busy": "2023-03-06T16:57:14.878118Z",
     "iopub.status.idle": "2023-03-06T16:57:20.153848Z",
     "shell.execute_reply": "2023-03-06T16:57:20.153082Z"
    }
   },
   "outputs": [
    {
     "name": "stdout",
     "output_type": "stream",
     "text": [
      "65.1 ns ± 0.0716 ns per loop (mean ± std. dev. of 7 runs, 10,000,000 loops each)\n"
     ]
    }
   ],
   "source": [
    "%timeit t.a = new_value"
   ]
  },
  {
   "cell_type": "markdown",
   "id": "48c49731",
   "metadata": {},
   "source": [
    "### Tianshou Batch's Get and Set"
   ]
  },
  {
   "cell_type": "code",
   "execution_count": 8,
   "id": "f1bb14c1",
   "metadata": {
    "execution": {
     "iopub.execute_input": "2023-03-06T16:57:20.157045Z",
     "iopub.status.busy": "2023-03-06T16:57:20.156670Z",
     "iopub.status.idle": "2023-03-06T16:57:20.490157Z",
     "shell.execute_reply": "2023-03-06T16:57:20.489471Z"
    }
   },
   "outputs": [],
   "source": [
    "from tianshou.data import Batch\n",
    "\n",
    "b = Batch(**_TREE_DATA_2)"
   ]
  },
  {
   "cell_type": "code",
   "execution_count": 9,
   "id": "cb0777c3",
   "metadata": {
    "execution": {
     "iopub.execute_input": "2023-03-06T16:57:20.493533Z",
     "iopub.status.busy": "2023-03-06T16:57:20.492830Z",
     "iopub.status.idle": "2023-03-06T16:57:20.499065Z",
     "shell.execute_reply": "2023-03-06T16:57:20.498466Z"
    }
   },
   "outputs": [
    {
     "data": {
      "text/plain": [
       "Batch(\n",
       "    a: tensor([[ 0.7690, -0.0159,  0.7301],\n",
       "               [-0.2130,  0.8570,  0.7841]]),\n",
       "    x: Batch(\n",
       "           c: tensor([[-1.1512,  0.5310, -1.6560,  0.4896],\n",
       "                      [-0.7278, -0.3072,  0.9704,  1.4363],\n",
       "                      [ 0.0175,  0.6630,  0.9286,  0.0258]]),\n",
       "       ),\n",
       ")"
      ]
     },
     "execution_count": 9,
     "metadata": {},
     "output_type": "execute_result"
    }
   ],
   "source": [
    "b"
   ]
  },
  {
   "cell_type": "code",
   "execution_count": 10,
   "id": "43ef8ea3",
   "metadata": {
    "execution": {
     "iopub.execute_input": "2023-03-06T16:57:20.501757Z",
     "iopub.status.busy": "2023-03-06T16:57:20.501419Z",
     "iopub.status.idle": "2023-03-06T16:57:20.507117Z",
     "shell.execute_reply": "2023-03-06T16:57:20.506536Z"
    }
   },
   "outputs": [
    {
     "data": {
      "text/plain": [
       "tensor([[ 0.7690, -0.0159,  0.7301],\n",
       "        [-0.2130,  0.8570,  0.7841]])"
      ]
     },
     "execution_count": 10,
     "metadata": {},
     "output_type": "execute_result"
    }
   ],
   "source": [
    "b.a"
   ]
  },
  {
   "cell_type": "code",
   "execution_count": 11,
   "id": "b785ab72",
   "metadata": {
    "execution": {
     "iopub.execute_input": "2023-03-06T16:57:20.509946Z",
     "iopub.status.busy": "2023-03-06T16:57:20.509473Z",
     "iopub.status.idle": "2023-03-06T16:57:25.039871Z",
     "shell.execute_reply": "2023-03-06T16:57:25.039187Z"
    }
   },
   "outputs": [
    {
     "name": "stdout",
     "output_type": "stream",
     "text": [
      "55.7 ns ± 0.0376 ns per loop (mean ± std. dev. of 7 runs, 10,000,000 loops each)\n"
     ]
    }
   ],
   "source": [
    "%timeit b.a"
   ]
  },
  {
   "cell_type": "code",
   "execution_count": 12,
   "id": "ad54dc69",
   "metadata": {
    "execution": {
     "iopub.execute_input": "2023-03-06T16:57:25.042930Z",
     "iopub.status.busy": "2023-03-06T16:57:25.042557Z",
     "iopub.status.idle": "2023-03-06T16:57:25.050171Z",
     "shell.execute_reply": "2023-03-06T16:57:25.049549Z"
    }
   },
   "outputs": [
    {
     "data": {
      "text/plain": [
       "Batch(\n",
       "    a: tensor([[ 1.4198, -3.2842,  1.4817],\n",
       "               [-0.2325,  0.4614,  0.7535]]),\n",
       "    x: Batch(\n",
       "           c: tensor([[-1.1512,  0.5310, -1.6560,  0.4896],\n",
       "                      [-0.7278, -0.3072,  0.9704,  1.4363],\n",
       "                      [ 0.0175,  0.6630,  0.9286,  0.0258]]),\n",
       "       ),\n",
       ")"
      ]
     },
     "execution_count": 12,
     "metadata": {},
     "output_type": "execute_result"
    }
   ],
   "source": [
    "new_value = torch.randn(2, 3)\n",
    "b.a = new_value\n",
    "\n",
    "b"
   ]
  },
  {
   "cell_type": "code",
   "execution_count": 13,
   "id": "29b1d0bf",
   "metadata": {
    "execution": {
     "iopub.execute_input": "2023-03-06T16:57:25.053864Z",
     "iopub.status.busy": "2023-03-06T16:57:25.052791Z",
     "iopub.status.idle": "2023-03-06T16:57:28.951314Z",
     "shell.execute_reply": "2023-03-06T16:57:28.950646Z"
    }
   },
   "outputs": [
    {
     "name": "stdout",
     "output_type": "stream",
     "text": [
      "480 ns ± 0.148 ns per loop (mean ± std. dev. of 7 runs, 1,000,000 loops each)\n"
     ]
    }
   ],
   "source": [
    "%timeit b.a = new_value"
   ]
  },
  {
   "cell_type": "markdown",
   "id": "b61ad1d0",
   "metadata": {},
   "source": [
    "## Initialization"
   ]
  },
  {
   "cell_type": "markdown",
   "id": "d70f0d54",
   "metadata": {},
   "source": [
    "### TreeValue's Initialization"
   ]
  },
  {
   "cell_type": "code",
   "execution_count": 14,
   "id": "d32a679b",
   "metadata": {
    "execution": {
     "iopub.execute_input": "2023-03-06T16:57:28.954490Z",
     "iopub.status.busy": "2023-03-06T16:57:28.953916Z",
     "iopub.status.idle": "2023-03-06T16:57:35.824939Z",
     "shell.execute_reply": "2023-03-06T16:57:35.824199Z"
    }
   },
   "outputs": [
    {
     "name": "stdout",
     "output_type": "stream",
     "text": [
      "848 ns ± 1.04 ns per loop (mean ± std. dev. of 7 runs, 1,000,000 loops each)\n"
     ]
    }
   ],
   "source": [
    "%timeit FastTreeValue(_TREE_DATA_1)"
   ]
  },
  {
   "cell_type": "markdown",
   "id": "24f3707b",
   "metadata": {},
   "source": [
    "### Tianshou Batch's Initialization"
   ]
  },
  {
   "cell_type": "code",
   "execution_count": 15,
   "id": "ac3958df",
   "metadata": {
    "execution": {
     "iopub.execute_input": "2023-03-06T16:57:35.828323Z",
     "iopub.status.busy": "2023-03-06T16:57:35.827796Z",
     "iopub.status.idle": "2023-03-06T16:57:45.133001Z",
     "shell.execute_reply": "2023-03-06T16:57:45.132272Z"
    }
   },
   "outputs": [
    {
     "name": "stdout",
     "output_type": "stream",
     "text": [
      "11.5 µs ± 37.4 ns per loop (mean ± std. dev. of 7 runs, 100,000 loops each)\n"
     ]
    }
   ],
   "source": [
    "%timeit Batch(**_TREE_DATA_1)"
   ]
  },
  {
   "cell_type": "markdown",
   "id": "1ab82e2d",
   "metadata": {},
   "source": [
    "## Deep Copy Operation"
   ]
  },
  {
   "cell_type": "code",
   "execution_count": 16,
   "id": "210a9442",
   "metadata": {
    "execution": {
     "iopub.execute_input": "2023-03-06T16:57:45.136059Z",
     "iopub.status.busy": "2023-03-06T16:57:45.135552Z",
     "iopub.status.idle": "2023-03-06T16:57:45.139539Z",
     "shell.execute_reply": "2023-03-06T16:57:45.138939Z"
    }
   },
   "outputs": [],
   "source": [
    "import copy"
   ]
  },
  {
   "cell_type": "markdown",
   "id": "5a736274",
   "metadata": {},
   "source": [
    "### Deep Copy of TreeValue"
   ]
  },
  {
   "cell_type": "code",
   "execution_count": 17,
   "id": "f9bcadd6",
   "metadata": {
    "execution": {
     "iopub.execute_input": "2023-03-06T16:57:45.142016Z",
     "iopub.status.busy": "2023-03-06T16:57:45.141663Z",
     "iopub.status.idle": "2023-03-06T16:57:56.168256Z",
     "shell.execute_reply": "2023-03-06T16:57:56.167653Z"
    }
   },
   "outputs": [
    {
     "name": "stdout",
     "output_type": "stream",
     "text": [
      "136 µs ± 358 ns per loop (mean ± std. dev. of 7 runs, 10,000 loops each)\n"
     ]
    }
   ],
   "source": [
    "t3 = FastTreeValue(_TREE_DATA_3)\n",
    "%timeit copy.deepcopy(t3)"
   ]
  },
  {
   "cell_type": "markdown",
   "id": "bf8be7ea",
   "metadata": {},
   "source": [
    "### Deep Copy of Tianshou Batch"
   ]
  },
  {
   "cell_type": "code",
   "execution_count": 18,
   "id": "91998e6f",
   "metadata": {
    "execution": {
     "iopub.execute_input": "2023-03-06T16:57:56.172223Z",
     "iopub.status.busy": "2023-03-06T16:57:56.171252Z",
     "iopub.status.idle": "2023-03-06T16:58:07.275244Z",
     "shell.execute_reply": "2023-03-06T16:58:07.274642Z"
    }
   },
   "outputs": [
    {
     "name": "stdout",
     "output_type": "stream",
     "text": [
      "137 µs ± 331 ns per loop (mean ± std. dev. of 7 runs, 10,000 loops each)\n"
     ]
    }
   ],
   "source": [
    "b3 = Batch(**_TREE_DATA_3)\n",
    "%timeit copy.deepcopy(b3)"
   ]
  },
  {
   "cell_type": "markdown",
   "id": "223162fb",
   "metadata": {},
   "source": [
    "## Stack, Concat and Split Operation"
   ]
  },
  {
   "cell_type": "markdown",
   "id": "85fa4a73",
   "metadata": {},
   "source": [
    "### Performance of TreeValue"
   ]
  },
  {
   "cell_type": "code",
   "execution_count": 19,
   "id": "a0c2b697",
   "metadata": {
    "execution": {
     "iopub.execute_input": "2023-03-06T16:58:07.278702Z",
     "iopub.status.busy": "2023-03-06T16:58:07.278192Z",
     "iopub.status.idle": "2023-03-06T16:58:07.281605Z",
     "shell.execute_reply": "2023-03-06T16:58:07.281066Z"
    }
   },
   "outputs": [],
   "source": [
    "trees = [FastTreeValue(_TREE_DATA_2) for _ in range(8)]"
   ]
  },
  {
   "cell_type": "code",
   "execution_count": 20,
   "id": "017ea5a5",
   "metadata": {
    "execution": {
     "iopub.execute_input": "2023-03-06T16:58:07.284186Z",
     "iopub.status.busy": "2023-03-06T16:58:07.283603Z",
     "iopub.status.idle": "2023-03-06T16:58:07.290747Z",
     "shell.execute_reply": "2023-03-06T16:58:07.290099Z"
    }
   },
   "outputs": [
    {
     "data": {
      "text/plain": [
       "<FastTreeValue 0x7f80b0f43dc0>\n",
       "├── 'a' --> tensor([[[ 0.7690, -0.0159,  0.7301],\n",
       "│                    [-0.2130,  0.8570,  0.7841]],\n",
       "│           \n",
       "│                   [[ 0.7690, -0.0159,  0.7301],\n",
       "│                    [-0.2130,  0.8570,  0.7841]],\n",
       "│           \n",
       "│                   [[ 0.7690, -0.0159,  0.7301],\n",
       "│                    [-0.2130,  0.8570,  0.7841]],\n",
       "│           \n",
       "│                   [[ 0.7690, -0.0159,  0.7301],\n",
       "│                    [-0.2130,  0.8570,  0.7841]],\n",
       "│           \n",
       "│                   [[ 0.7690, -0.0159,  0.7301],\n",
       "│                    [-0.2130,  0.8570,  0.7841]],\n",
       "│           \n",
       "│                   [[ 0.7690, -0.0159,  0.7301],\n",
       "│                    [-0.2130,  0.8570,  0.7841]],\n",
       "│           \n",
       "│                   [[ 0.7690, -0.0159,  0.7301],\n",
       "│                    [-0.2130,  0.8570,  0.7841]],\n",
       "│           \n",
       "│                   [[ 0.7690, -0.0159,  0.7301],\n",
       "│                    [-0.2130,  0.8570,  0.7841]]])\n",
       "└── 'x' --> <FastTreeValue 0x7f80b0f433d0>\n",
       "    └── 'c' --> tensor([[[-1.1512,  0.5310, -1.6560,  0.4896],\n",
       "                         [-0.7278, -0.3072,  0.9704,  1.4363],\n",
       "                         [ 0.0175,  0.6630,  0.9286,  0.0258]],\n",
       "                \n",
       "                        [[-1.1512,  0.5310, -1.6560,  0.4896],\n",
       "                         [-0.7278, -0.3072,  0.9704,  1.4363],\n",
       "                         [ 0.0175,  0.6630,  0.9286,  0.0258]],\n",
       "                \n",
       "                        [[-1.1512,  0.5310, -1.6560,  0.4896],\n",
       "                         [-0.7278, -0.3072,  0.9704,  1.4363],\n",
       "                         [ 0.0175,  0.6630,  0.9286,  0.0258]],\n",
       "                \n",
       "                        [[-1.1512,  0.5310, -1.6560,  0.4896],\n",
       "                         [-0.7278, -0.3072,  0.9704,  1.4363],\n",
       "                         [ 0.0175,  0.6630,  0.9286,  0.0258]],\n",
       "                \n",
       "                        [[-1.1512,  0.5310, -1.6560,  0.4896],\n",
       "                         [-0.7278, -0.3072,  0.9704,  1.4363],\n",
       "                         [ 0.0175,  0.6630,  0.9286,  0.0258]],\n",
       "                \n",
       "                        [[-1.1512,  0.5310, -1.6560,  0.4896],\n",
       "                         [-0.7278, -0.3072,  0.9704,  1.4363],\n",
       "                         [ 0.0175,  0.6630,  0.9286,  0.0258]],\n",
       "                \n",
       "                        [[-1.1512,  0.5310, -1.6560,  0.4896],\n",
       "                         [-0.7278, -0.3072,  0.9704,  1.4363],\n",
       "                         [ 0.0175,  0.6630,  0.9286,  0.0258]],\n",
       "                \n",
       "                        [[-1.1512,  0.5310, -1.6560,  0.4896],\n",
       "                         [-0.7278, -0.3072,  0.9704,  1.4363],\n",
       "                         [ 0.0175,  0.6630,  0.9286,  0.0258]]])"
      ]
     },
     "execution_count": 20,
     "metadata": {},
     "output_type": "execute_result"
    }
   ],
   "source": [
    "t_stack = FastTreeValue.func(subside=True)(torch.stack)\n",
    "\n",
    "t_stack(trees)"
   ]
  },
  {
   "cell_type": "code",
   "execution_count": 21,
   "id": "f8b3f415",
   "metadata": {
    "execution": {
     "iopub.execute_input": "2023-03-06T16:58:07.293214Z",
     "iopub.status.busy": "2023-03-06T16:58:07.292880Z",
     "iopub.status.idle": "2023-03-06T16:58:09.934824Z",
     "shell.execute_reply": "2023-03-06T16:58:09.934128Z"
    }
   },
   "outputs": [
    {
     "name": "stdout",
     "output_type": "stream",
     "text": [
      "32.5 µs ± 41.1 ns per loop (mean ± std. dev. of 7 runs, 10,000 loops each)\n"
     ]
    }
   ],
   "source": [
    "%timeit t_stack(trees)"
   ]
  },
  {
   "cell_type": "code",
   "execution_count": 22,
   "id": "94b56771",
   "metadata": {
    "execution": {
     "iopub.execute_input": "2023-03-06T16:58:09.938048Z",
     "iopub.status.busy": "2023-03-06T16:58:09.937539Z",
     "iopub.status.idle": "2023-03-06T16:58:09.946649Z",
     "shell.execute_reply": "2023-03-06T16:58:09.946034Z"
    }
   },
   "outputs": [
    {
     "data": {
      "text/plain": [
       "<FastTreeValue 0x7f80883b7970>\n",
       "├── 'a' --> tensor([[ 0.7690, -0.0159,  0.7301],\n",
       "│                   [-0.2130,  0.8570,  0.7841],\n",
       "│                   [ 0.7690, -0.0159,  0.7301],\n",
       "│                   [-0.2130,  0.8570,  0.7841],\n",
       "│                   [ 0.7690, -0.0159,  0.7301],\n",
       "│                   [-0.2130,  0.8570,  0.7841],\n",
       "│                   [ 0.7690, -0.0159,  0.7301],\n",
       "│                   [-0.2130,  0.8570,  0.7841],\n",
       "│                   [ 0.7690, -0.0159,  0.7301],\n",
       "│                   [-0.2130,  0.8570,  0.7841],\n",
       "│                   [ 0.7690, -0.0159,  0.7301],\n",
       "│                   [-0.2130,  0.8570,  0.7841],\n",
       "│                   [ 0.7690, -0.0159,  0.7301],\n",
       "│                   [-0.2130,  0.8570,  0.7841],\n",
       "│                   [ 0.7690, -0.0159,  0.7301],\n",
       "│                   [-0.2130,  0.8570,  0.7841]])\n",
       "└── 'x' --> <FastTreeValue 0x7f80b0f22040>\n",
       "    └── 'c' --> tensor([[-1.1512,  0.5310, -1.6560,  0.4896],\n",
       "                        [-0.7278, -0.3072,  0.9704,  1.4363],\n",
       "                        [ 0.0175,  0.6630,  0.9286,  0.0258],\n",
       "                        [-1.1512,  0.5310, -1.6560,  0.4896],\n",
       "                        [-0.7278, -0.3072,  0.9704,  1.4363],\n",
       "                        [ 0.0175,  0.6630,  0.9286,  0.0258],\n",
       "                        [-1.1512,  0.5310, -1.6560,  0.4896],\n",
       "                        [-0.7278, -0.3072,  0.9704,  1.4363],\n",
       "                        [ 0.0175,  0.6630,  0.9286,  0.0258],\n",
       "                        [-1.1512,  0.5310, -1.6560,  0.4896],\n",
       "                        [-0.7278, -0.3072,  0.9704,  1.4363],\n",
       "                        [ 0.0175,  0.6630,  0.9286,  0.0258],\n",
       "                        [-1.1512,  0.5310, -1.6560,  0.4896],\n",
       "                        [-0.7278, -0.3072,  0.9704,  1.4363],\n",
       "                        [ 0.0175,  0.6630,  0.9286,  0.0258],\n",
       "                        [-1.1512,  0.5310, -1.6560,  0.4896],\n",
       "                        [-0.7278, -0.3072,  0.9704,  1.4363],\n",
       "                        [ 0.0175,  0.6630,  0.9286,  0.0258],\n",
       "                        [-1.1512,  0.5310, -1.6560,  0.4896],\n",
       "                        [-0.7278, -0.3072,  0.9704,  1.4363],\n",
       "                        [ 0.0175,  0.6630,  0.9286,  0.0258],\n",
       "                        [-1.1512,  0.5310, -1.6560,  0.4896],\n",
       "                        [-0.7278, -0.3072,  0.9704,  1.4363],\n",
       "                        [ 0.0175,  0.6630,  0.9286,  0.0258]])"
      ]
     },
     "execution_count": 22,
     "metadata": {},
     "output_type": "execute_result"
    }
   ],
   "source": [
    "t_cat = FastTreeValue.func(subside=True)(torch.cat)\n",
    "\n",
    "t_cat(trees)"
   ]
  },
  {
   "cell_type": "code",
   "execution_count": 23,
   "id": "5e9c06a6",
   "metadata": {
    "execution": {
     "iopub.execute_input": "2023-03-06T16:58:09.949535Z",
     "iopub.status.busy": "2023-03-06T16:58:09.949182Z",
     "iopub.status.idle": "2023-03-06T16:58:12.387391Z",
     "shell.execute_reply": "2023-03-06T16:58:12.386714Z"
    }
   },
   "outputs": [
    {
     "name": "stdout",
     "output_type": "stream",
     "text": [
      "30 µs ± 29.5 ns per loop (mean ± std. dev. of 7 runs, 10,000 loops each)\n"
     ]
    }
   ],
   "source": [
    "%timeit t_cat(trees)"
   ]
  },
  {
   "cell_type": "code",
   "execution_count": 24,
   "id": "a3ab5c8f",
   "metadata": {
    "execution": {
     "iopub.execute_input": "2023-03-06T16:58:12.390736Z",
     "iopub.status.busy": "2023-03-06T16:58:12.390168Z",
     "iopub.status.idle": "2023-03-06T16:58:17.260076Z",
     "shell.execute_reply": "2023-03-06T16:58:17.259411Z"
    }
   },
   "outputs": [
    {
     "name": "stdout",
     "output_type": "stream",
     "text": [
      "59.9 µs ± 63.2 ns per loop (mean ± std. dev. of 7 runs, 10,000 loops each)\n"
     ]
    }
   ],
   "source": [
    "t_split = FastTreeValue.func(rise=True)(torch.split)\n",
    "tree = FastTreeValue({\n",
    "    'obs': torch.randn(8, 4, 84, 84),\n",
    "    'action': torch.randint(0, 6, size=(8, 1,)),\n",
    "    'reward': torch.rand(8, 1),\n",
    "})\n",
    "\n",
    "%timeit t_split(tree, 1)"
   ]
  },
  {
   "cell_type": "markdown",
   "id": "31c3ec0b",
   "metadata": {},
   "source": [
    "### Performance of Tianshou Batch"
   ]
  },
  {
   "cell_type": "code",
   "execution_count": 25,
   "id": "9ead828a",
   "metadata": {
    "execution": {
     "iopub.execute_input": "2023-03-06T16:58:17.263501Z",
     "iopub.status.busy": "2023-03-06T16:58:17.262839Z",
     "iopub.status.idle": "2023-03-06T16:58:17.270898Z",
     "shell.execute_reply": "2023-03-06T16:58:17.270308Z"
    }
   },
   "outputs": [
    {
     "data": {
      "text/plain": [
       "Batch(\n",
       "    x: Batch(\n",
       "           c: tensor([[[-1.1512,  0.5310, -1.6560,  0.4896],\n",
       "                       [-0.7278, -0.3072,  0.9704,  1.4363],\n",
       "                       [ 0.0175,  0.6630,  0.9286,  0.0258]],\n",
       "              \n",
       "                      [[-1.1512,  0.5310, -1.6560,  0.4896],\n",
       "                       [-0.7278, -0.3072,  0.9704,  1.4363],\n",
       "                       [ 0.0175,  0.6630,  0.9286,  0.0258]],\n",
       "              \n",
       "                      [[-1.1512,  0.5310, -1.6560,  0.4896],\n",
       "                       [-0.7278, -0.3072,  0.9704,  1.4363],\n",
       "                       [ 0.0175,  0.6630,  0.9286,  0.0258]],\n",
       "              \n",
       "                      [[-1.1512,  0.5310, -1.6560,  0.4896],\n",
       "                       [-0.7278, -0.3072,  0.9704,  1.4363],\n",
       "                       [ 0.0175,  0.6630,  0.9286,  0.0258]],\n",
       "              \n",
       "                      [[-1.1512,  0.5310, -1.6560,  0.4896],\n",
       "                       [-0.7278, -0.3072,  0.9704,  1.4363],\n",
       "                       [ 0.0175,  0.6630,  0.9286,  0.0258]],\n",
       "              \n",
       "                      [[-1.1512,  0.5310, -1.6560,  0.4896],\n",
       "                       [-0.7278, -0.3072,  0.9704,  1.4363],\n",
       "                       [ 0.0175,  0.6630,  0.9286,  0.0258]],\n",
       "              \n",
       "                      [[-1.1512,  0.5310, -1.6560,  0.4896],\n",
       "                       [-0.7278, -0.3072,  0.9704,  1.4363],\n",
       "                       [ 0.0175,  0.6630,  0.9286,  0.0258]],\n",
       "              \n",
       "                      [[-1.1512,  0.5310, -1.6560,  0.4896],\n",
       "                       [-0.7278, -0.3072,  0.9704,  1.4363],\n",
       "                       [ 0.0175,  0.6630,  0.9286,  0.0258]]]),\n",
       "       ),\n",
       "    a: tensor([[[ 0.7690, -0.0159,  0.7301],\n",
       "                [-0.2130,  0.8570,  0.7841]],\n",
       "       \n",
       "               [[ 0.7690, -0.0159,  0.7301],\n",
       "                [-0.2130,  0.8570,  0.7841]],\n",
       "       \n",
       "               [[ 0.7690, -0.0159,  0.7301],\n",
       "                [-0.2130,  0.8570,  0.7841]],\n",
       "       \n",
       "               [[ 0.7690, -0.0159,  0.7301],\n",
       "                [-0.2130,  0.8570,  0.7841]],\n",
       "       \n",
       "               [[ 0.7690, -0.0159,  0.7301],\n",
       "                [-0.2130,  0.8570,  0.7841]],\n",
       "       \n",
       "               [[ 0.7690, -0.0159,  0.7301],\n",
       "                [-0.2130,  0.8570,  0.7841]],\n",
       "       \n",
       "               [[ 0.7690, -0.0159,  0.7301],\n",
       "                [-0.2130,  0.8570,  0.7841]],\n",
       "       \n",
       "               [[ 0.7690, -0.0159,  0.7301],\n",
       "                [-0.2130,  0.8570,  0.7841]]]),\n",
       ")"
      ]
     },
     "execution_count": 25,
     "metadata": {},
     "output_type": "execute_result"
    }
   ],
   "source": [
    "batches = [Batch(**_TREE_DATA_2) for _ in range(8)]\n",
    "\n",
    "Batch.stack(batches)"
   ]
  },
  {
   "cell_type": "code",
   "execution_count": 26,
   "id": "ec9037a3",
   "metadata": {
    "execution": {
     "iopub.execute_input": "2023-03-06T16:58:17.274486Z",
     "iopub.status.busy": "2023-03-06T16:58:17.273418Z",
     "iopub.status.idle": "2023-03-06T16:58:25.036357Z",
     "shell.execute_reply": "2023-03-06T16:58:25.035560Z"
    }
   },
   "outputs": [
    {
     "name": "stdout",
     "output_type": "stream",
     "text": [
      "95.5 µs ± 149 ns per loop (mean ± std. dev. of 7 runs, 10,000 loops each)\n"
     ]
    }
   ],
   "source": [
    "%timeit Batch.stack(batches)"
   ]
  },
  {
   "cell_type": "code",
   "execution_count": 27,
   "id": "cb8ab77e",
   "metadata": {
    "execution": {
     "iopub.execute_input": "2023-03-06T16:58:25.039242Z",
     "iopub.status.busy": "2023-03-06T16:58:25.038878Z",
     "iopub.status.idle": "2023-03-06T16:58:25.046289Z",
     "shell.execute_reply": "2023-03-06T16:58:25.045590Z"
    }
   },
   "outputs": [
    {
     "data": {
      "text/plain": [
       "Batch(\n",
       "    x: Batch(\n",
       "           c: tensor([[-1.1512,  0.5310, -1.6560,  0.4896],\n",
       "                      [-0.7278, -0.3072,  0.9704,  1.4363],\n",
       "                      [ 0.0175,  0.6630,  0.9286,  0.0258],\n",
       "                      [-1.1512,  0.5310, -1.6560,  0.4896],\n",
       "                      [-0.7278, -0.3072,  0.9704,  1.4363],\n",
       "                      [ 0.0175,  0.6630,  0.9286,  0.0258],\n",
       "                      [-1.1512,  0.5310, -1.6560,  0.4896],\n",
       "                      [-0.7278, -0.3072,  0.9704,  1.4363],\n",
       "                      [ 0.0175,  0.6630,  0.9286,  0.0258],\n",
       "                      [-1.1512,  0.5310, -1.6560,  0.4896],\n",
       "                      [-0.7278, -0.3072,  0.9704,  1.4363],\n",
       "                      [ 0.0175,  0.6630,  0.9286,  0.0258],\n",
       "                      [-1.1512,  0.5310, -1.6560,  0.4896],\n",
       "                      [-0.7278, -0.3072,  0.9704,  1.4363],\n",
       "                      [ 0.0175,  0.6630,  0.9286,  0.0258],\n",
       "                      [-1.1512,  0.5310, -1.6560,  0.4896],\n",
       "                      [-0.7278, -0.3072,  0.9704,  1.4363],\n",
       "                      [ 0.0175,  0.6630,  0.9286,  0.0258],\n",
       "                      [-1.1512,  0.5310, -1.6560,  0.4896],\n",
       "                      [-0.7278, -0.3072,  0.9704,  1.4363],\n",
       "                      [ 0.0175,  0.6630,  0.9286,  0.0258],\n",
       "                      [-1.1512,  0.5310, -1.6560,  0.4896],\n",
       "                      [-0.7278, -0.3072,  0.9704,  1.4363],\n",
       "                      [ 0.0175,  0.6630,  0.9286,  0.0258]]),\n",
       "       ),\n",
       "    a: tensor([[ 0.7690, -0.0159,  0.7301],\n",
       "               [-0.2130,  0.8570,  0.7841],\n",
       "               [ 0.7690, -0.0159,  0.7301],\n",
       "               [-0.2130,  0.8570,  0.7841],\n",
       "               [ 0.7690, -0.0159,  0.7301],\n",
       "               [-0.2130,  0.8570,  0.7841],\n",
       "               [ 0.7690, -0.0159,  0.7301],\n",
       "               [-0.2130,  0.8570,  0.7841],\n",
       "               [ 0.7690, -0.0159,  0.7301],\n",
       "               [-0.2130,  0.8570,  0.7841],\n",
       "               [ 0.7690, -0.0159,  0.7301],\n",
       "               [-0.2130,  0.8570,  0.7841],\n",
       "               [ 0.7690, -0.0159,  0.7301],\n",
       "               [-0.2130,  0.8570,  0.7841],\n",
       "               [ 0.7690, -0.0159,  0.7301],\n",
       "               [-0.2130,  0.8570,  0.7841]]),\n",
       ")"
      ]
     },
     "execution_count": 27,
     "metadata": {},
     "output_type": "execute_result"
    }
   ],
   "source": [
    "Batch.cat(batches)"
   ]
  },
  {
   "cell_type": "code",
   "execution_count": 28,
   "id": "18dfb045",
   "metadata": {
    "execution": {
     "iopub.execute_input": "2023-03-06T16:58:25.049364Z",
     "iopub.status.busy": "2023-03-06T16:58:25.048835Z",
     "iopub.status.idle": "2023-03-06T16:58:38.315150Z",
     "shell.execute_reply": "2023-03-06T16:58:38.314392Z"
    }
   },
   "outputs": [
    {
     "name": "stdout",
     "output_type": "stream",
     "text": [
      "163 µs ± 175 ns per loop (mean ± std. dev. of 7 runs, 10,000 loops each)\n"
     ]
    }
   ],
   "source": [
    "%timeit Batch.cat(batches)"
   ]
  },
  {
   "cell_type": "code",
   "execution_count": 29,
   "id": "c6688e51",
   "metadata": {
    "execution": {
     "iopub.execute_input": "2023-03-06T16:58:38.318204Z",
     "iopub.status.busy": "2023-03-06T16:58:38.317807Z",
     "iopub.status.idle": "2023-03-06T16:58:40.853928Z",
     "shell.execute_reply": "2023-03-06T16:58:40.853273Z"
    }
   },
   "outputs": [
    {
     "name": "stdout",
     "output_type": "stream",
     "text": [
      "312 µs ± 2.21 µs per loop (mean ± std. dev. of 7 runs, 1,000 loops each)\n"
     ]
    }
   ],
   "source": [
    "batch = Batch({\n",
    "    'obs': torch.randn(8, 4, 84, 84),\n",
    "    'action': torch.randint(0, 6, size=(8, 1,)),\n",
    "    'reward': torch.rand(8, 1)}\n",
    ")\n",
    "\n",
    "%timeit list(Batch.split(batch, 1, shuffle=False, merge_last=True))"
   ]
  },
  {
   "cell_type": "code",
   "execution_count": null,
   "id": "2539fbd9",
   "metadata": {},
   "outputs": [],
   "source": []
  }
 ],
 "metadata": {
  "kernelspec": {
   "display_name": "Python 3 (ipykernel)",
   "language": "python",
   "name": "python3"
  },
  "language_info": {
   "codemirror_mode": {
    "name": "ipython",
    "version": 3
   },
   "file_extension": ".py",
   "mimetype": "text/x-python",
   "name": "python",
   "nbconvert_exporter": "python",
   "pygments_lexer": "ipython3",
   "version": "3.8.16"
  }
 },
 "nbformat": 4,
 "nbformat_minor": 5
}
