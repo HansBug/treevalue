{
 "cells": [
  {
   "cell_type": "markdown",
   "id": "9d39d946",
   "metadata": {},
   "source": [
    "# Comparison Between TreeValue and Tianshou Batch"
   ]
  },
  {
   "cell_type": "markdown",
   "id": "3c6db2d4",
   "metadata": {},
   "source": [
    "In this section, we will take a look at the feature and performance of the [Tianshou Batch](https://github.com/thu-ml/tianshou) library, which is developed by Tsinghua Machine Learning Group."
   ]
  },
  {
   "cell_type": "markdown",
   "id": "069361b0",
   "metadata": {},
   "source": [
    "Before starting the comparison, let us define some thing."
   ]
  },
  {
   "cell_type": "code",
   "execution_count": 1,
   "id": "06fc8d26",
   "metadata": {
    "execution": {
     "iopub.execute_input": "2023-03-06T18:11:57.969530Z",
     "iopub.status.busy": "2023-03-06T18:11:57.969073Z",
     "iopub.status.idle": "2023-03-06T18:11:59.315992Z",
     "shell.execute_reply": "2023-03-06T18:11:59.314777Z"
    }
   },
   "outputs": [
    {
     "name": "stderr",
     "output_type": "stream",
     "text": [
      "/opt/hostedtoolcache/Python/3.8.16/x64/lib/python3.8/site-packages/tqdm/auto.py:21: TqdmWarning: IProgress not found. Please update jupyter and ipywidgets. See https://ipywidgets.readthedocs.io/en/stable/user_install.html\n",
      "  from .autonotebook import tqdm as notebook_tqdm\n"
     ]
    }
   ],
   "source": [
    "import torch \n",
    "\n",
    "_TREE_DATA_1 = {'a': 1, 'b': 2, 'x': {'c': 3, 'd': 4}}\n",
    "_TREE_DATA_2 = {\n",
    "    'a': torch.randn(2, 3), \n",
    "    'x': {\n",
    "        'c': torch.randn(3, 4)\n",
    "    },\n",
    "}\n",
    "_TREE_DATA_3 = {\n",
    "    'obs': torch.randn(4, 84, 84),\n",
    "    'action': torch.randint(0, 6, size=(1,)),\n",
    "    'reward': torch.rand(1),\n",
    "}"
   ]
  },
  {
   "cell_type": "markdown",
   "id": "83461b25",
   "metadata": {},
   "source": [
    "## Read and Write Operation"
   ]
  },
  {
   "cell_type": "markdown",
   "id": "067b3f73",
   "metadata": {},
   "source": [
    "Reading and writing are the two most common operations in the tree data structure based on the data model (TreeValue and Tianshou Batch both belong to this type), so this section will compare the reading and writing performance of these two libraries."
   ]
  },
  {
   "cell_type": "markdown",
   "id": "5d09a5b7",
   "metadata": {},
   "source": [
    "### TreeValue's Get and Set"
   ]
  },
  {
   "cell_type": "code",
   "execution_count": 2,
   "id": "9519c4bb",
   "metadata": {
    "execution": {
     "iopub.execute_input": "2023-03-06T18:11:59.320928Z",
     "iopub.status.busy": "2023-03-06T18:11:59.320528Z",
     "iopub.status.idle": "2023-03-06T18:11:59.722141Z",
     "shell.execute_reply": "2023-03-06T18:11:59.721015Z"
    }
   },
   "outputs": [],
   "source": [
    "from treevalue import FastTreeValue\n",
    "\n",
    "t = FastTreeValue(_TREE_DATA_2)"
   ]
  },
  {
   "cell_type": "code",
   "execution_count": 3,
   "id": "11c37677",
   "metadata": {
    "execution": {
     "iopub.execute_input": "2023-03-06T18:11:59.727278Z",
     "iopub.status.busy": "2023-03-06T18:11:59.726340Z",
     "iopub.status.idle": "2023-03-06T18:11:59.740895Z",
     "shell.execute_reply": "2023-03-06T18:11:59.739844Z"
    }
   },
   "outputs": [
    {
     "data": {
      "text/plain": [
       "<FastTreeValue 0x7fa08a332430>\n",
       "├── 'a' --> tensor([[ 2.5595,  0.3434, -1.3231],\n",
       "│                   [ 0.2859, -2.1064,  1.0352]])\n",
       "└── 'x' --> <FastTreeValue 0x7fa08a332370>\n",
       "    └── 'c' --> tensor([[-0.8252, -0.1941, -1.3498,  1.6579],\n",
       "                        [ 1.3463,  0.4861,  1.6242,  1.3401],\n",
       "                        [-0.1995, -0.9822,  0.6854, -0.7431]])"
      ]
     },
     "execution_count": 3,
     "metadata": {},
     "output_type": "execute_result"
    }
   ],
   "source": [
    "t"
   ]
  },
  {
   "cell_type": "code",
   "execution_count": 4,
   "id": "fd70b0b9",
   "metadata": {
    "execution": {
     "iopub.execute_input": "2023-03-06T18:11:59.744561Z",
     "iopub.status.busy": "2023-03-06T18:11:59.744263Z",
     "iopub.status.idle": "2023-03-06T18:11:59.759196Z",
     "shell.execute_reply": "2023-03-06T18:11:59.757844Z"
    }
   },
   "outputs": [
    {
     "data": {
      "text/plain": [
       "tensor([[ 2.5595,  0.3434, -1.3231],\n",
       "        [ 0.2859, -2.1064,  1.0352]])"
      ]
     },
     "execution_count": 4,
     "metadata": {},
     "output_type": "execute_result"
    }
   ],
   "source": [
    "t.a"
   ]
  },
  {
   "cell_type": "code",
   "execution_count": 5,
   "id": "c18197bd",
   "metadata": {
    "execution": {
     "iopub.execute_input": "2023-03-06T18:11:59.763450Z",
     "iopub.status.busy": "2023-03-06T18:11:59.762814Z",
     "iopub.status.idle": "2023-03-06T18:12:05.944112Z",
     "shell.execute_reply": "2023-03-06T18:12:05.943008Z"
    }
   },
   "outputs": [
    {
     "name": "stdout",
     "output_type": "stream",
     "text": [
      "76.1 ns ± 1.23 ns per loop (mean ± std. dev. of 7 runs, 10,000,000 loops each)\n"
     ]
    }
   ],
   "source": [
    "%timeit t.a"
   ]
  },
  {
   "cell_type": "code",
   "execution_count": 6,
   "id": "bd52f867",
   "metadata": {
    "execution": {
     "iopub.execute_input": "2023-03-06T18:12:05.948366Z",
     "iopub.status.busy": "2023-03-06T18:12:05.948003Z",
     "iopub.status.idle": "2023-03-06T18:12:05.958559Z",
     "shell.execute_reply": "2023-03-06T18:12:05.957574Z"
    }
   },
   "outputs": [
    {
     "data": {
      "text/plain": [
       "<FastTreeValue 0x7fa08a332430>\n",
       "├── 'a' --> tensor([[-2.1863, -0.2561, -1.6386],\n",
       "│                   [-0.2053,  1.3676, -1.0387]])\n",
       "└── 'x' --> <FastTreeValue 0x7fa08a332370>\n",
       "    └── 'c' --> tensor([[-0.8252, -0.1941, -1.3498,  1.6579],\n",
       "                        [ 1.3463,  0.4861,  1.6242,  1.3401],\n",
       "                        [-0.1995, -0.9822,  0.6854, -0.7431]])"
      ]
     },
     "execution_count": 6,
     "metadata": {},
     "output_type": "execute_result"
    }
   ],
   "source": [
    "new_value = torch.randn(2, 3)\n",
    "t.a = new_value\n",
    "\n",
    "t"
   ]
  },
  {
   "cell_type": "code",
   "execution_count": 7,
   "id": "bbe04d1c",
   "metadata": {
    "execution": {
     "iopub.execute_input": "2023-03-06T18:12:05.962187Z",
     "iopub.status.busy": "2023-03-06T18:12:05.961837Z",
     "iopub.status.idle": "2023-03-06T18:12:12.618448Z",
     "shell.execute_reply": "2023-03-06T18:12:12.617329Z"
    }
   },
   "outputs": [
    {
     "name": "stdout",
     "output_type": "stream",
     "text": [
      "81.7 ns ± 0.954 ns per loop (mean ± std. dev. of 7 runs, 10,000,000 loops each)\n"
     ]
    }
   ],
   "source": [
    "%timeit t.a = new_value"
   ]
  },
  {
   "cell_type": "markdown",
   "id": "48c49731",
   "metadata": {},
   "source": [
    "### Tianshou Batch's Get and Set"
   ]
  },
  {
   "cell_type": "code",
   "execution_count": 8,
   "id": "f1bb14c1",
   "metadata": {
    "execution": {
     "iopub.execute_input": "2023-03-06T18:12:12.622443Z",
     "iopub.status.busy": "2023-03-06T18:12:12.621994Z",
     "iopub.status.idle": "2023-03-06T18:12:13.130256Z",
     "shell.execute_reply": "2023-03-06T18:12:13.129010Z"
    }
   },
   "outputs": [],
   "source": [
    "from tianshou.data import Batch\n",
    "\n",
    "b = Batch(**_TREE_DATA_2)"
   ]
  },
  {
   "cell_type": "code",
   "execution_count": 9,
   "id": "cb0777c3",
   "metadata": {
    "execution": {
     "iopub.execute_input": "2023-03-06T18:12:13.134785Z",
     "iopub.status.busy": "2023-03-06T18:12:13.134319Z",
     "iopub.status.idle": "2023-03-06T18:12:13.144164Z",
     "shell.execute_reply": "2023-03-06T18:12:13.142731Z"
    }
   },
   "outputs": [
    {
     "data": {
      "text/plain": [
       "Batch(\n",
       "    a: tensor([[ 2.5595,  0.3434, -1.3231],\n",
       "               [ 0.2859, -2.1064,  1.0352]]),\n",
       "    x: Batch(\n",
       "           c: tensor([[-0.8252, -0.1941, -1.3498,  1.6579],\n",
       "                      [ 1.3463,  0.4861,  1.6242,  1.3401],\n",
       "                      [-0.1995, -0.9822,  0.6854, -0.7431]]),\n",
       "       ),\n",
       ")"
      ]
     },
     "execution_count": 9,
     "metadata": {},
     "output_type": "execute_result"
    }
   ],
   "source": [
    "b"
   ]
  },
  {
   "cell_type": "code",
   "execution_count": 10,
   "id": "43ef8ea3",
   "metadata": {
    "execution": {
     "iopub.execute_input": "2023-03-06T18:12:13.147979Z",
     "iopub.status.busy": "2023-03-06T18:12:13.147641Z",
     "iopub.status.idle": "2023-03-06T18:12:13.156717Z",
     "shell.execute_reply": "2023-03-06T18:12:13.155525Z"
    }
   },
   "outputs": [
    {
     "data": {
      "text/plain": [
       "tensor([[ 2.5595,  0.3434, -1.3231],\n",
       "        [ 0.2859, -2.1064,  1.0352]])"
      ]
     },
     "execution_count": 10,
     "metadata": {},
     "output_type": "execute_result"
    }
   ],
   "source": [
    "b.a"
   ]
  },
  {
   "cell_type": "code",
   "execution_count": 11,
   "id": "b785ab72",
   "metadata": {
    "execution": {
     "iopub.execute_input": "2023-03-06T18:12:13.160247Z",
     "iopub.status.busy": "2023-03-06T18:12:13.159944Z",
     "iopub.status.idle": "2023-03-06T18:12:19.201403Z",
     "shell.execute_reply": "2023-03-06T18:12:19.200316Z"
    }
   },
   "outputs": [
    {
     "name": "stdout",
     "output_type": "stream",
     "text": [
      "73.4 ns ± 1.49 ns per loop (mean ± std. dev. of 7 runs, 10,000,000 loops each)\n"
     ]
    }
   ],
   "source": [
    "%timeit b.a"
   ]
  },
  {
   "cell_type": "code",
   "execution_count": 12,
   "id": "ad54dc69",
   "metadata": {
    "execution": {
     "iopub.execute_input": "2023-03-06T18:12:19.205718Z",
     "iopub.status.busy": "2023-03-06T18:12:19.205111Z",
     "iopub.status.idle": "2023-03-06T18:12:19.214631Z",
     "shell.execute_reply": "2023-03-06T18:12:19.213420Z"
    }
   },
   "outputs": [
    {
     "data": {
      "text/plain": [
       "Batch(\n",
       "    a: tensor([[ 1.2500,  0.8521,  1.7052],\n",
       "               [-0.8991,  0.1744,  0.6466]]),\n",
       "    x: Batch(\n",
       "           c: tensor([[-0.8252, -0.1941, -1.3498,  1.6579],\n",
       "                      [ 1.3463,  0.4861,  1.6242,  1.3401],\n",
       "                      [-0.1995, -0.9822,  0.6854, -0.7431]]),\n",
       "       ),\n",
       ")"
      ]
     },
     "execution_count": 12,
     "metadata": {},
     "output_type": "execute_result"
    }
   ],
   "source": [
    "new_value = torch.randn(2, 3)\n",
    "b.a = new_value\n",
    "\n",
    "b"
   ]
  },
  {
   "cell_type": "code",
   "execution_count": 13,
   "id": "29b1d0bf",
   "metadata": {
    "execution": {
     "iopub.execute_input": "2023-03-06T18:12:19.218846Z",
     "iopub.status.busy": "2023-03-06T18:12:19.218266Z",
     "iopub.status.idle": "2023-03-06T18:12:24.558612Z",
     "shell.execute_reply": "2023-03-06T18:12:24.556933Z"
    }
   },
   "outputs": [
    {
     "name": "stdout",
     "output_type": "stream",
     "text": [
      "656 ns ± 4.58 ns per loop (mean ± std. dev. of 7 runs, 1,000,000 loops each)\n"
     ]
    }
   ],
   "source": [
    "%timeit b.a = new_value"
   ]
  },
  {
   "cell_type": "markdown",
   "id": "b61ad1d0",
   "metadata": {},
   "source": [
    "## Initialization"
   ]
  },
  {
   "cell_type": "markdown",
   "id": "d70f0d54",
   "metadata": {},
   "source": [
    "### TreeValue's Initialization"
   ]
  },
  {
   "cell_type": "code",
   "execution_count": 14,
   "id": "d32a679b",
   "metadata": {
    "execution": {
     "iopub.execute_input": "2023-03-06T18:12:24.565103Z",
     "iopub.status.busy": "2023-03-06T18:12:24.564297Z",
     "iopub.status.idle": "2023-03-06T18:12:33.162807Z",
     "shell.execute_reply": "2023-03-06T18:12:33.161726Z"
    }
   },
   "outputs": [
    {
     "name": "stdout",
     "output_type": "stream",
     "text": [
      "1.05 µs ± 20.4 ns per loop (mean ± std. dev. of 7 runs, 1,000,000 loops each)\n"
     ]
    }
   ],
   "source": [
    "%timeit FastTreeValue(_TREE_DATA_1)"
   ]
  },
  {
   "cell_type": "markdown",
   "id": "24f3707b",
   "metadata": {},
   "source": [
    "### Tianshou Batch's Initialization"
   ]
  },
  {
   "cell_type": "code",
   "execution_count": 15,
   "id": "ac3958df",
   "metadata": {
    "execution": {
     "iopub.execute_input": "2023-03-06T18:12:33.167025Z",
     "iopub.status.busy": "2023-03-06T18:12:33.166670Z",
     "iopub.status.idle": "2023-03-06T18:12:44.849807Z",
     "shell.execute_reply": "2023-03-06T18:12:44.848884Z"
    }
   },
   "outputs": [
    {
     "name": "stdout",
     "output_type": "stream",
     "text": [
      "14.4 µs ± 144 ns per loop (mean ± std. dev. of 7 runs, 100,000 loops each)\n"
     ]
    }
   ],
   "source": [
    "%timeit Batch(**_TREE_DATA_1)"
   ]
  },
  {
   "cell_type": "markdown",
   "id": "1ab82e2d",
   "metadata": {},
   "source": [
    "## Deep Copy Operation"
   ]
  },
  {
   "cell_type": "code",
   "execution_count": 16,
   "id": "210a9442",
   "metadata": {
    "execution": {
     "iopub.execute_input": "2023-03-06T18:12:44.854755Z",
     "iopub.status.busy": "2023-03-06T18:12:44.854309Z",
     "iopub.status.idle": "2023-03-06T18:12:44.861061Z",
     "shell.execute_reply": "2023-03-06T18:12:44.860086Z"
    }
   },
   "outputs": [],
   "source": [
    "import copy"
   ]
  },
  {
   "cell_type": "markdown",
   "id": "5a736274",
   "metadata": {},
   "source": [
    "### Deep Copy of TreeValue"
   ]
  },
  {
   "cell_type": "code",
   "execution_count": 17,
   "id": "f9bcadd6",
   "metadata": {
    "execution": {
     "iopub.execute_input": "2023-03-06T18:12:44.864680Z",
     "iopub.status.busy": "2023-03-06T18:12:44.864385Z",
     "iopub.status.idle": "2023-03-06T18:12:47.307802Z",
     "shell.execute_reply": "2023-03-06T18:12:47.306746Z"
    }
   },
   "outputs": [
    {
     "name": "stdout",
     "output_type": "stream",
     "text": [
      "301 µs ± 9.71 µs per loop (mean ± std. dev. of 7 runs, 1,000 loops each)\n"
     ]
    }
   ],
   "source": [
    "t3 = FastTreeValue(_TREE_DATA_3)\n",
    "%timeit copy.deepcopy(t3)"
   ]
  },
  {
   "cell_type": "markdown",
   "id": "bf8be7ea",
   "metadata": {},
   "source": [
    "### Deep Copy of Tianshou Batch"
   ]
  },
  {
   "cell_type": "code",
   "execution_count": 18,
   "id": "91998e6f",
   "metadata": {
    "execution": {
     "iopub.execute_input": "2023-03-06T18:12:47.311839Z",
     "iopub.status.busy": "2023-03-06T18:12:47.311484Z",
     "iopub.status.idle": "2023-03-06T18:12:49.584450Z",
     "shell.execute_reply": "2023-03-06T18:12:49.583564Z"
    }
   },
   "outputs": [
    {
     "name": "stdout",
     "output_type": "stream",
     "text": [
      "280 µs ± 13.5 µs per loop (mean ± std. dev. of 7 runs, 1,000 loops each)\n"
     ]
    }
   ],
   "source": [
    "b3 = Batch(**_TREE_DATA_3)\n",
    "%timeit copy.deepcopy(b3)"
   ]
  },
  {
   "cell_type": "markdown",
   "id": "223162fb",
   "metadata": {},
   "source": [
    "## Stack, Concat and Split Operation"
   ]
  },
  {
   "cell_type": "markdown",
   "id": "85fa4a73",
   "metadata": {},
   "source": [
    "### Performance of TreeValue"
   ]
  },
  {
   "cell_type": "code",
   "execution_count": 19,
   "id": "a0c2b697",
   "metadata": {
    "execution": {
     "iopub.execute_input": "2023-03-06T18:12:49.588851Z",
     "iopub.status.busy": "2023-03-06T18:12:49.588191Z",
     "iopub.status.idle": "2023-03-06T18:12:49.592873Z",
     "shell.execute_reply": "2023-03-06T18:12:49.591998Z"
    }
   },
   "outputs": [],
   "source": [
    "trees = [FastTreeValue(_TREE_DATA_2) for _ in range(8)]"
   ]
  },
  {
   "cell_type": "code",
   "execution_count": 20,
   "id": "017ea5a5",
   "metadata": {
    "execution": {
     "iopub.execute_input": "2023-03-06T18:12:49.596737Z",
     "iopub.status.busy": "2023-03-06T18:12:49.596133Z",
     "iopub.status.idle": "2023-03-06T18:12:49.606389Z",
     "shell.execute_reply": "2023-03-06T18:12:49.605464Z"
    }
   },
   "outputs": [
    {
     "data": {
      "text/plain": [
       "<FastTreeValue 0x7f9fd054dbb0>\n",
       "├── 'a' --> tensor([[[ 2.5595,  0.3434, -1.3231],\n",
       "│                    [ 0.2859, -2.1064,  1.0352]],\n",
       "│           \n",
       "│                   [[ 2.5595,  0.3434, -1.3231],\n",
       "│                    [ 0.2859, -2.1064,  1.0352]],\n",
       "│           \n",
       "│                   [[ 2.5595,  0.3434, -1.3231],\n",
       "│                    [ 0.2859, -2.1064,  1.0352]],\n",
       "│           \n",
       "│                   [[ 2.5595,  0.3434, -1.3231],\n",
       "│                    [ 0.2859, -2.1064,  1.0352]],\n",
       "│           \n",
       "│                   [[ 2.5595,  0.3434, -1.3231],\n",
       "│                    [ 0.2859, -2.1064,  1.0352]],\n",
       "│           \n",
       "│                   [[ 2.5595,  0.3434, -1.3231],\n",
       "│                    [ 0.2859, -2.1064,  1.0352]],\n",
       "│           \n",
       "│                   [[ 2.5595,  0.3434, -1.3231],\n",
       "│                    [ 0.2859, -2.1064,  1.0352]],\n",
       "│           \n",
       "│                   [[ 2.5595,  0.3434, -1.3231],\n",
       "│                    [ 0.2859, -2.1064,  1.0352]]])\n",
       "└── 'x' --> <FastTreeValue 0x7f9fd054d760>\n",
       "    └── 'c' --> tensor([[[-0.8252, -0.1941, -1.3498,  1.6579],\n",
       "                         [ 1.3463,  0.4861,  1.6242,  1.3401],\n",
       "                         [-0.1995, -0.9822,  0.6854, -0.7431]],\n",
       "                \n",
       "                        [[-0.8252, -0.1941, -1.3498,  1.6579],\n",
       "                         [ 1.3463,  0.4861,  1.6242,  1.3401],\n",
       "                         [-0.1995, -0.9822,  0.6854, -0.7431]],\n",
       "                \n",
       "                        [[-0.8252, -0.1941, -1.3498,  1.6579],\n",
       "                         [ 1.3463,  0.4861,  1.6242,  1.3401],\n",
       "                         [-0.1995, -0.9822,  0.6854, -0.7431]],\n",
       "                \n",
       "                        [[-0.8252, -0.1941, -1.3498,  1.6579],\n",
       "                         [ 1.3463,  0.4861,  1.6242,  1.3401],\n",
       "                         [-0.1995, -0.9822,  0.6854, -0.7431]],\n",
       "                \n",
       "                        [[-0.8252, -0.1941, -1.3498,  1.6579],\n",
       "                         [ 1.3463,  0.4861,  1.6242,  1.3401],\n",
       "                         [-0.1995, -0.9822,  0.6854, -0.7431]],\n",
       "                \n",
       "                        [[-0.8252, -0.1941, -1.3498,  1.6579],\n",
       "                         [ 1.3463,  0.4861,  1.6242,  1.3401],\n",
       "                         [-0.1995, -0.9822,  0.6854, -0.7431]],\n",
       "                \n",
       "                        [[-0.8252, -0.1941, -1.3498,  1.6579],\n",
       "                         [ 1.3463,  0.4861,  1.6242,  1.3401],\n",
       "                         [-0.1995, -0.9822,  0.6854, -0.7431]],\n",
       "                \n",
       "                        [[-0.8252, -0.1941, -1.3498,  1.6579],\n",
       "                         [ 1.3463,  0.4861,  1.6242,  1.3401],\n",
       "                         [-0.1995, -0.9822,  0.6854, -0.7431]]])"
      ]
     },
     "execution_count": 20,
     "metadata": {},
     "output_type": "execute_result"
    }
   ],
   "source": [
    "t_stack = FastTreeValue.func(subside=True)(torch.stack)\n",
    "\n",
    "t_stack(trees)"
   ]
  },
  {
   "cell_type": "code",
   "execution_count": 21,
   "id": "f8b3f415",
   "metadata": {
    "execution": {
     "iopub.execute_input": "2023-03-06T18:12:49.610025Z",
     "iopub.status.busy": "2023-03-06T18:12:49.609467Z",
     "iopub.status.idle": "2023-03-06T18:12:53.441240Z",
     "shell.execute_reply": "2023-03-06T18:12:53.439775Z"
    }
   },
   "outputs": [
    {
     "name": "stdout",
     "output_type": "stream",
     "text": [
      "47.1 µs ± 763 ns per loop (mean ± std. dev. of 7 runs, 10,000 loops each)\n"
     ]
    }
   ],
   "source": [
    "%timeit t_stack(trees)"
   ]
  },
  {
   "cell_type": "code",
   "execution_count": 22,
   "id": "94b56771",
   "metadata": {
    "execution": {
     "iopub.execute_input": "2023-03-06T18:12:53.445427Z",
     "iopub.status.busy": "2023-03-06T18:12:53.445048Z",
     "iopub.status.idle": "2023-03-06T18:12:53.458016Z",
     "shell.execute_reply": "2023-03-06T18:12:53.457010Z"
    }
   },
   "outputs": [
    {
     "data": {
      "text/plain": [
       "<FastTreeValue 0x7fa05c960250>\n",
       "├── 'a' --> tensor([[ 2.5595,  0.3434, -1.3231],\n",
       "│                   [ 0.2859, -2.1064,  1.0352],\n",
       "│                   [ 2.5595,  0.3434, -1.3231],\n",
       "│                   [ 0.2859, -2.1064,  1.0352],\n",
       "│                   [ 2.5595,  0.3434, -1.3231],\n",
       "│                   [ 0.2859, -2.1064,  1.0352],\n",
       "│                   [ 2.5595,  0.3434, -1.3231],\n",
       "│                   [ 0.2859, -2.1064,  1.0352],\n",
       "│                   [ 2.5595,  0.3434, -1.3231],\n",
       "│                   [ 0.2859, -2.1064,  1.0352],\n",
       "│                   [ 2.5595,  0.3434, -1.3231],\n",
       "│                   [ 0.2859, -2.1064,  1.0352],\n",
       "│                   [ 2.5595,  0.3434, -1.3231],\n",
       "│                   [ 0.2859, -2.1064,  1.0352],\n",
       "│                   [ 2.5595,  0.3434, -1.3231],\n",
       "│                   [ 0.2859, -2.1064,  1.0352]])\n",
       "└── 'x' --> <FastTreeValue 0x7f9fd054dca0>\n",
       "    └── 'c' --> tensor([[-0.8252, -0.1941, -1.3498,  1.6579],\n",
       "                        [ 1.3463,  0.4861,  1.6242,  1.3401],\n",
       "                        [-0.1995, -0.9822,  0.6854, -0.7431],\n",
       "                        [-0.8252, -0.1941, -1.3498,  1.6579],\n",
       "                        [ 1.3463,  0.4861,  1.6242,  1.3401],\n",
       "                        [-0.1995, -0.9822,  0.6854, -0.7431],\n",
       "                        [-0.8252, -0.1941, -1.3498,  1.6579],\n",
       "                        [ 1.3463,  0.4861,  1.6242,  1.3401],\n",
       "                        [-0.1995, -0.9822,  0.6854, -0.7431],\n",
       "                        [-0.8252, -0.1941, -1.3498,  1.6579],\n",
       "                        [ 1.3463,  0.4861,  1.6242,  1.3401],\n",
       "                        [-0.1995, -0.9822,  0.6854, -0.7431],\n",
       "                        [-0.8252, -0.1941, -1.3498,  1.6579],\n",
       "                        [ 1.3463,  0.4861,  1.6242,  1.3401],\n",
       "                        [-0.1995, -0.9822,  0.6854, -0.7431],\n",
       "                        [-0.8252, -0.1941, -1.3498,  1.6579],\n",
       "                        [ 1.3463,  0.4861,  1.6242,  1.3401],\n",
       "                        [-0.1995, -0.9822,  0.6854, -0.7431],\n",
       "                        [-0.8252, -0.1941, -1.3498,  1.6579],\n",
       "                        [ 1.3463,  0.4861,  1.6242,  1.3401],\n",
       "                        [-0.1995, -0.9822,  0.6854, -0.7431],\n",
       "                        [-0.8252, -0.1941, -1.3498,  1.6579],\n",
       "                        [ 1.3463,  0.4861,  1.6242,  1.3401],\n",
       "                        [-0.1995, -0.9822,  0.6854, -0.7431]])"
      ]
     },
     "execution_count": 22,
     "metadata": {},
     "output_type": "execute_result"
    }
   ],
   "source": [
    "t_cat = FastTreeValue.func(subside=True)(torch.cat)\n",
    "\n",
    "t_cat(trees)"
   ]
  },
  {
   "cell_type": "code",
   "execution_count": 23,
   "id": "5e9c06a6",
   "metadata": {
    "execution": {
     "iopub.execute_input": "2023-03-06T18:12:53.461886Z",
     "iopub.status.busy": "2023-03-06T18:12:53.461537Z",
     "iopub.status.idle": "2023-03-06T18:12:57.002633Z",
     "shell.execute_reply": "2023-03-06T18:12:57.001487Z"
    }
   },
   "outputs": [
    {
     "name": "stdout",
     "output_type": "stream",
     "text": [
      "43.7 µs ± 603 ns per loop (mean ± std. dev. of 7 runs, 10,000 loops each)\n"
     ]
    }
   ],
   "source": [
    "%timeit t_cat(trees)"
   ]
  },
  {
   "cell_type": "code",
   "execution_count": 24,
   "id": "a3ab5c8f",
   "metadata": {
    "execution": {
     "iopub.execute_input": "2023-03-06T18:12:57.007512Z",
     "iopub.status.busy": "2023-03-06T18:12:57.006779Z",
     "iopub.status.idle": "2023-03-06T18:13:04.035188Z",
     "shell.execute_reply": "2023-03-06T18:13:04.033573Z"
    }
   },
   "outputs": [
    {
     "name": "stdout",
     "output_type": "stream",
     "text": [
      "86.6 µs ± 477 ns per loop (mean ± std. dev. of 7 runs, 10,000 loops each)\n"
     ]
    }
   ],
   "source": [
    "t_split = FastTreeValue.func(rise=True)(torch.split)\n",
    "tree = FastTreeValue({\n",
    "    'obs': torch.randn(8, 4, 84, 84),\n",
    "    'action': torch.randint(0, 6, size=(8, 1,)),\n",
    "    'reward': torch.rand(8, 1),\n",
    "})\n",
    "\n",
    "%timeit t_split(tree, 1)"
   ]
  },
  {
   "cell_type": "markdown",
   "id": "31c3ec0b",
   "metadata": {},
   "source": [
    "### Performance of Tianshou Batch"
   ]
  },
  {
   "cell_type": "code",
   "execution_count": 25,
   "id": "9ead828a",
   "metadata": {
    "execution": {
     "iopub.execute_input": "2023-03-06T18:13:04.039225Z",
     "iopub.status.busy": "2023-03-06T18:13:04.038917Z",
     "iopub.status.idle": "2023-03-06T18:13:04.051116Z",
     "shell.execute_reply": "2023-03-06T18:13:04.050152Z"
    }
   },
   "outputs": [
    {
     "data": {
      "text/plain": [
       "Batch(\n",
       "    x: Batch(\n",
       "           c: tensor([[[-0.8252, -0.1941, -1.3498,  1.6579],\n",
       "                       [ 1.3463,  0.4861,  1.6242,  1.3401],\n",
       "                       [-0.1995, -0.9822,  0.6854, -0.7431]],\n",
       "              \n",
       "                      [[-0.8252, -0.1941, -1.3498,  1.6579],\n",
       "                       [ 1.3463,  0.4861,  1.6242,  1.3401],\n",
       "                       [-0.1995, -0.9822,  0.6854, -0.7431]],\n",
       "              \n",
       "                      [[-0.8252, -0.1941, -1.3498,  1.6579],\n",
       "                       [ 1.3463,  0.4861,  1.6242,  1.3401],\n",
       "                       [-0.1995, -0.9822,  0.6854, -0.7431]],\n",
       "              \n",
       "                      [[-0.8252, -0.1941, -1.3498,  1.6579],\n",
       "                       [ 1.3463,  0.4861,  1.6242,  1.3401],\n",
       "                       [-0.1995, -0.9822,  0.6854, -0.7431]],\n",
       "              \n",
       "                      [[-0.8252, -0.1941, -1.3498,  1.6579],\n",
       "                       [ 1.3463,  0.4861,  1.6242,  1.3401],\n",
       "                       [-0.1995, -0.9822,  0.6854, -0.7431]],\n",
       "              \n",
       "                      [[-0.8252, -0.1941, -1.3498,  1.6579],\n",
       "                       [ 1.3463,  0.4861,  1.6242,  1.3401],\n",
       "                       [-0.1995, -0.9822,  0.6854, -0.7431]],\n",
       "              \n",
       "                      [[-0.8252, -0.1941, -1.3498,  1.6579],\n",
       "                       [ 1.3463,  0.4861,  1.6242,  1.3401],\n",
       "                       [-0.1995, -0.9822,  0.6854, -0.7431]],\n",
       "              \n",
       "                      [[-0.8252, -0.1941, -1.3498,  1.6579],\n",
       "                       [ 1.3463,  0.4861,  1.6242,  1.3401],\n",
       "                       [-0.1995, -0.9822,  0.6854, -0.7431]]]),\n",
       "       ),\n",
       "    a: tensor([[[ 2.5595,  0.3434, -1.3231],\n",
       "                [ 0.2859, -2.1064,  1.0352]],\n",
       "       \n",
       "               [[ 2.5595,  0.3434, -1.3231],\n",
       "                [ 0.2859, -2.1064,  1.0352]],\n",
       "       \n",
       "               [[ 2.5595,  0.3434, -1.3231],\n",
       "                [ 0.2859, -2.1064,  1.0352]],\n",
       "       \n",
       "               [[ 2.5595,  0.3434, -1.3231],\n",
       "                [ 0.2859, -2.1064,  1.0352]],\n",
       "       \n",
       "               [[ 2.5595,  0.3434, -1.3231],\n",
       "                [ 0.2859, -2.1064,  1.0352]],\n",
       "       \n",
       "               [[ 2.5595,  0.3434, -1.3231],\n",
       "                [ 0.2859, -2.1064,  1.0352]],\n",
       "       \n",
       "               [[ 2.5595,  0.3434, -1.3231],\n",
       "                [ 0.2859, -2.1064,  1.0352]],\n",
       "       \n",
       "               [[ 2.5595,  0.3434, -1.3231],\n",
       "                [ 0.2859, -2.1064,  1.0352]]]),\n",
       ")"
      ]
     },
     "execution_count": 25,
     "metadata": {},
     "output_type": "execute_result"
    }
   ],
   "source": [
    "batches = [Batch(**_TREE_DATA_2) for _ in range(8)]\n",
    "\n",
    "Batch.stack(batches)"
   ]
  },
  {
   "cell_type": "code",
   "execution_count": 26,
   "id": "ec9037a3",
   "metadata": {
    "execution": {
     "iopub.execute_input": "2023-03-06T18:13:04.054512Z",
     "iopub.status.busy": "2023-03-06T18:13:04.054228Z",
     "iopub.status.idle": "2023-03-06T18:13:13.008261Z",
     "shell.execute_reply": "2023-03-06T18:13:13.007140Z"
    }
   },
   "outputs": [
    {
     "name": "stdout",
     "output_type": "stream",
     "text": [
      "110 µs ± 1.81 µs per loop (mean ± std. dev. of 7 runs, 10,000 loops each)\n"
     ]
    }
   ],
   "source": [
    "%timeit Batch.stack(batches)"
   ]
  },
  {
   "cell_type": "code",
   "execution_count": 27,
   "id": "cb8ab77e",
   "metadata": {
    "execution": {
     "iopub.execute_input": "2023-03-06T18:13:13.013044Z",
     "iopub.status.busy": "2023-03-06T18:13:13.012255Z",
     "iopub.status.idle": "2023-03-06T18:13:13.022747Z",
     "shell.execute_reply": "2023-03-06T18:13:13.021602Z"
    }
   },
   "outputs": [
    {
     "data": {
      "text/plain": [
       "Batch(\n",
       "    x: Batch(\n",
       "           c: tensor([[-0.8252, -0.1941, -1.3498,  1.6579],\n",
       "                      [ 1.3463,  0.4861,  1.6242,  1.3401],\n",
       "                      [-0.1995, -0.9822,  0.6854, -0.7431],\n",
       "                      [-0.8252, -0.1941, -1.3498,  1.6579],\n",
       "                      [ 1.3463,  0.4861,  1.6242,  1.3401],\n",
       "                      [-0.1995, -0.9822,  0.6854, -0.7431],\n",
       "                      [-0.8252, -0.1941, -1.3498,  1.6579],\n",
       "                      [ 1.3463,  0.4861,  1.6242,  1.3401],\n",
       "                      [-0.1995, -0.9822,  0.6854, -0.7431],\n",
       "                      [-0.8252, -0.1941, -1.3498,  1.6579],\n",
       "                      [ 1.3463,  0.4861,  1.6242,  1.3401],\n",
       "                      [-0.1995, -0.9822,  0.6854, -0.7431],\n",
       "                      [-0.8252, -0.1941, -1.3498,  1.6579],\n",
       "                      [ 1.3463,  0.4861,  1.6242,  1.3401],\n",
       "                      [-0.1995, -0.9822,  0.6854, -0.7431],\n",
       "                      [-0.8252, -0.1941, -1.3498,  1.6579],\n",
       "                      [ 1.3463,  0.4861,  1.6242,  1.3401],\n",
       "                      [-0.1995, -0.9822,  0.6854, -0.7431],\n",
       "                      [-0.8252, -0.1941, -1.3498,  1.6579],\n",
       "                      [ 1.3463,  0.4861,  1.6242,  1.3401],\n",
       "                      [-0.1995, -0.9822,  0.6854, -0.7431],\n",
       "                      [-0.8252, -0.1941, -1.3498,  1.6579],\n",
       "                      [ 1.3463,  0.4861,  1.6242,  1.3401],\n",
       "                      [-0.1995, -0.9822,  0.6854, -0.7431]]),\n",
       "       ),\n",
       "    a: tensor([[ 2.5595,  0.3434, -1.3231],\n",
       "               [ 0.2859, -2.1064,  1.0352],\n",
       "               [ 2.5595,  0.3434, -1.3231],\n",
       "               [ 0.2859, -2.1064,  1.0352],\n",
       "               [ 2.5595,  0.3434, -1.3231],\n",
       "               [ 0.2859, -2.1064,  1.0352],\n",
       "               [ 2.5595,  0.3434, -1.3231],\n",
       "               [ 0.2859, -2.1064,  1.0352],\n",
       "               [ 2.5595,  0.3434, -1.3231],\n",
       "               [ 0.2859, -2.1064,  1.0352],\n",
       "               [ 2.5595,  0.3434, -1.3231],\n",
       "               [ 0.2859, -2.1064,  1.0352],\n",
       "               [ 2.5595,  0.3434, -1.3231],\n",
       "               [ 0.2859, -2.1064,  1.0352],\n",
       "               [ 2.5595,  0.3434, -1.3231],\n",
       "               [ 0.2859, -2.1064,  1.0352]]),\n",
       ")"
      ]
     },
     "execution_count": 27,
     "metadata": {},
     "output_type": "execute_result"
    }
   ],
   "source": [
    "Batch.cat(batches)"
   ]
  },
  {
   "cell_type": "code",
   "execution_count": 28,
   "id": "18dfb045",
   "metadata": {
    "execution": {
     "iopub.execute_input": "2023-03-06T18:13:13.026108Z",
     "iopub.status.busy": "2023-03-06T18:13:13.025841Z",
     "iopub.status.idle": "2023-03-06T18:13:29.324187Z",
     "shell.execute_reply": "2023-03-06T18:13:29.323213Z"
    }
   },
   "outputs": [
    {
     "name": "stdout",
     "output_type": "stream",
     "text": [
      "201 µs ± 2.48 µs per loop (mean ± std. dev. of 7 runs, 10,000 loops each)\n"
     ]
    }
   ],
   "source": [
    "%timeit Batch.cat(batches)"
   ]
  },
  {
   "cell_type": "code",
   "execution_count": 29,
   "id": "c6688e51",
   "metadata": {
    "execution": {
     "iopub.execute_input": "2023-03-06T18:13:29.328403Z",
     "iopub.status.busy": "2023-03-06T18:13:29.328063Z",
     "iopub.status.idle": "2023-03-06T18:13:34.428261Z",
     "shell.execute_reply": "2023-03-06T18:13:34.426763Z"
    }
   },
   "outputs": [
    {
     "name": "stdout",
     "output_type": "stream",
     "text": [
      "630 µs ± 12 µs per loop (mean ± std. dev. of 7 runs, 1,000 loops each)\n"
     ]
    }
   ],
   "source": [
    "batch = Batch({\n",
    "    'obs': torch.randn(8, 4, 84, 84),\n",
    "    'action': torch.randint(0, 6, size=(8, 1,)),\n",
    "    'reward': torch.rand(8, 1)}\n",
    ")\n",
    "\n",
    "%timeit list(Batch.split(batch, 1, shuffle=False, merge_last=True))"
   ]
  },
  {
   "cell_type": "code",
   "execution_count": null,
   "id": "2539fbd9",
   "metadata": {},
   "outputs": [],
   "source": []
  }
 ],
 "metadata": {
  "kernelspec": {
   "display_name": "Python 3 (ipykernel)",
   "language": "python",
   "name": "python3"
  },
  "language_info": {
   "codemirror_mode": {
    "name": "ipython",
    "version": 3
   },
   "file_extension": ".py",
   "mimetype": "text/x-python",
   "name": "python",
   "nbconvert_exporter": "python",
   "pygments_lexer": "ipython3",
   "version": "3.8.16"
  }
 },
 "nbformat": 4,
 "nbformat_minor": 5
}
