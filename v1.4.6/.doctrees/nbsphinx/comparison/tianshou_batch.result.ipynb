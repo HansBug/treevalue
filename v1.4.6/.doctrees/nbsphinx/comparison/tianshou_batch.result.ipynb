{
 "cells": [
  {
   "cell_type": "markdown",
   "id": "9d39d946",
   "metadata": {},
   "source": [
    "# Comparison Between TreeValue and Tianshou Batch"
   ]
  },
  {
   "cell_type": "markdown",
   "id": "3c6db2d4",
   "metadata": {},
   "source": [
    "In this section, we will take a look at the feature and performance of the [Tianshou Batch](https://github.com/thu-ml/tianshou) library, which is developed by Tsinghua Machine Learning Group."
   ]
  },
  {
   "cell_type": "markdown",
   "id": "069361b0",
   "metadata": {},
   "source": [
    "Before starting the comparison, let us define some thing."
   ]
  },
  {
   "cell_type": "code",
   "execution_count": 1,
   "id": "06fc8d26",
   "metadata": {
    "execution": {
     "iopub.execute_input": "2023-03-06T17:50:20.555028Z",
     "iopub.status.busy": "2023-03-06T17:50:20.554469Z",
     "iopub.status.idle": "2023-03-06T17:50:21.478150Z",
     "shell.execute_reply": "2023-03-06T17:50:21.477470Z"
    }
   },
   "outputs": [
    {
     "name": "stderr",
     "output_type": "stream",
     "text": [
      "/opt/hostedtoolcache/Python/3.8.16/x64/lib/python3.8/site-packages/tqdm/auto.py:21: TqdmWarning: IProgress not found. Please update jupyter and ipywidgets. See https://ipywidgets.readthedocs.io/en/stable/user_install.html\n",
      "  from .autonotebook import tqdm as notebook_tqdm\n"
     ]
    }
   ],
   "source": [
    "import torch \n",
    "\n",
    "_TREE_DATA_1 = {'a': 1, 'b': 2, 'x': {'c': 3, 'd': 4}}\n",
    "_TREE_DATA_2 = {\n",
    "    'a': torch.randn(2, 3), \n",
    "    'x': {\n",
    "        'c': torch.randn(3, 4)\n",
    "    },\n",
    "}\n",
    "_TREE_DATA_3 = {\n",
    "    'obs': torch.randn(4, 84, 84),\n",
    "    'action': torch.randint(0, 6, size=(1,)),\n",
    "    'reward': torch.rand(1),\n",
    "}"
   ]
  },
  {
   "cell_type": "markdown",
   "id": "83461b25",
   "metadata": {},
   "source": [
    "## Read and Write Operation"
   ]
  },
  {
   "cell_type": "markdown",
   "id": "067b3f73",
   "metadata": {},
   "source": [
    "Reading and writing are the two most common operations in the tree data structure based on the data model (TreeValue and Tianshou Batch both belong to this type), so this section will compare the reading and writing performance of these two libraries."
   ]
  },
  {
   "cell_type": "markdown",
   "id": "5d09a5b7",
   "metadata": {},
   "source": [
    "### TreeValue's Get and Set"
   ]
  },
  {
   "cell_type": "code",
   "execution_count": 2,
   "id": "9519c4bb",
   "metadata": {
    "execution": {
     "iopub.execute_input": "2023-03-06T17:50:21.481561Z",
     "iopub.status.busy": "2023-03-06T17:50:21.481068Z",
     "iopub.status.idle": "2023-03-06T17:50:21.762812Z",
     "shell.execute_reply": "2023-03-06T17:50:21.762130Z"
    }
   },
   "outputs": [],
   "source": [
    "from treevalue import FastTreeValue\n",
    "\n",
    "t = FastTreeValue(_TREE_DATA_2)"
   ]
  },
  {
   "cell_type": "code",
   "execution_count": 3,
   "id": "11c37677",
   "metadata": {
    "execution": {
     "iopub.execute_input": "2023-03-06T17:50:21.766202Z",
     "iopub.status.busy": "2023-03-06T17:50:21.765584Z",
     "iopub.status.idle": "2023-03-06T17:50:21.775175Z",
     "shell.execute_reply": "2023-03-06T17:50:21.774576Z"
    }
   },
   "outputs": [
    {
     "data": {
      "text/plain": [
       "<FastTreeValue 0x7f1dd0382f40>\n",
       "├── 'a' --> tensor([[ 1.1529,  0.5996,  0.0835],\n",
       "│                   [-0.7704,  0.1742,  0.5911]])\n",
       "└── 'x' --> <FastTreeValue 0x7f1dd0382e20>\n",
       "    └── 'c' --> tensor([[ 0.6324,  0.5978, -0.0755, -0.0804],\n",
       "                        [-0.5280, -1.1438,  0.5143,  0.9539],\n",
       "                        [-1.5864, -2.5816, -1.0950,  2.2560]])"
      ]
     },
     "execution_count": 3,
     "metadata": {},
     "output_type": "execute_result"
    }
   ],
   "source": [
    "t"
   ]
  },
  {
   "cell_type": "code",
   "execution_count": 4,
   "id": "fd70b0b9",
   "metadata": {
    "execution": {
     "iopub.execute_input": "2023-03-06T17:50:21.778118Z",
     "iopub.status.busy": "2023-03-06T17:50:21.777638Z",
     "iopub.status.idle": "2023-03-06T17:50:21.783692Z",
     "shell.execute_reply": "2023-03-06T17:50:21.783129Z"
    }
   },
   "outputs": [
    {
     "data": {
      "text/plain": [
       "tensor([[ 1.1529,  0.5996,  0.0835],\n",
       "        [-0.7704,  0.1742,  0.5911]])"
      ]
     },
     "execution_count": 4,
     "metadata": {},
     "output_type": "execute_result"
    }
   ],
   "source": [
    "t.a"
   ]
  },
  {
   "cell_type": "code",
   "execution_count": 5,
   "id": "c18197bd",
   "metadata": {
    "execution": {
     "iopub.execute_input": "2023-03-06T17:50:21.786497Z",
     "iopub.status.busy": "2023-03-06T17:50:21.786038Z",
     "iopub.status.idle": "2023-03-06T17:50:26.543291Z",
     "shell.execute_reply": "2023-03-06T17:50:26.542616Z"
    }
   },
   "outputs": [
    {
     "name": "stdout",
     "output_type": "stream",
     "text": [
      "58.5 ns ± 0.0613 ns per loop (mean ± std. dev. of 7 runs, 10,000,000 loops each)\n"
     ]
    }
   ],
   "source": [
    "%timeit t.a"
   ]
  },
  {
   "cell_type": "code",
   "execution_count": 6,
   "id": "bd52f867",
   "metadata": {
    "execution": {
     "iopub.execute_input": "2023-03-06T17:50:26.546534Z",
     "iopub.status.busy": "2023-03-06T17:50:26.545977Z",
     "iopub.status.idle": "2023-03-06T17:50:26.553268Z",
     "shell.execute_reply": "2023-03-06T17:50:26.552671Z"
    }
   },
   "outputs": [
    {
     "data": {
      "text/plain": [
       "<FastTreeValue 0x7f1dd0382f40>\n",
       "├── 'a' --> tensor([[-0.7513,  0.1209,  1.0225],\n",
       "│                   [ 0.8742,  0.5297, -0.3420]])\n",
       "└── 'x' --> <FastTreeValue 0x7f1dd0382e20>\n",
       "    └── 'c' --> tensor([[ 0.6324,  0.5978, -0.0755, -0.0804],\n",
       "                        [-0.5280, -1.1438,  0.5143,  0.9539],\n",
       "                        [-1.5864, -2.5816, -1.0950,  2.2560]])"
      ]
     },
     "execution_count": 6,
     "metadata": {},
     "output_type": "execute_result"
    }
   ],
   "source": [
    "new_value = torch.randn(2, 3)\n",
    "t.a = new_value\n",
    "\n",
    "t"
   ]
  },
  {
   "cell_type": "code",
   "execution_count": 7,
   "id": "bbe04d1c",
   "metadata": {
    "execution": {
     "iopub.execute_input": "2023-03-06T17:50:26.555735Z",
     "iopub.status.busy": "2023-03-06T17:50:26.555523Z",
     "iopub.status.idle": "2023-03-06T17:50:31.379651Z",
     "shell.execute_reply": "2023-03-06T17:50:31.378974Z"
    }
   },
   "outputs": [
    {
     "name": "stdout",
     "output_type": "stream",
     "text": [
      "59.1 ns ± 0.0531 ns per loop (mean ± std. dev. of 7 runs, 10,000,000 loops each)\n"
     ]
    }
   ],
   "source": [
    "%timeit t.a = new_value"
   ]
  },
  {
   "cell_type": "markdown",
   "id": "48c49731",
   "metadata": {},
   "source": [
    "### Tianshou Batch's Get and Set"
   ]
  },
  {
   "cell_type": "code",
   "execution_count": 8,
   "id": "f1bb14c1",
   "metadata": {
    "execution": {
     "iopub.execute_input": "2023-03-06T17:50:31.382676Z",
     "iopub.status.busy": "2023-03-06T17:50:31.382209Z",
     "iopub.status.idle": "2023-03-06T17:50:31.722274Z",
     "shell.execute_reply": "2023-03-06T17:50:31.721571Z"
    }
   },
   "outputs": [],
   "source": [
    "from tianshou.data import Batch\n",
    "\n",
    "b = Batch(**_TREE_DATA_2)"
   ]
  },
  {
   "cell_type": "code",
   "execution_count": 9,
   "id": "cb0777c3",
   "metadata": {
    "execution": {
     "iopub.execute_input": "2023-03-06T17:50:31.725638Z",
     "iopub.status.busy": "2023-03-06T17:50:31.725163Z",
     "iopub.status.idle": "2023-03-06T17:50:31.731697Z",
     "shell.execute_reply": "2023-03-06T17:50:31.731108Z"
    }
   },
   "outputs": [
    {
     "data": {
      "text/plain": [
       "Batch(\n",
       "    a: tensor([[ 1.1529,  0.5996,  0.0835],\n",
       "               [-0.7704,  0.1742,  0.5911]]),\n",
       "    x: Batch(\n",
       "           c: tensor([[ 0.6324,  0.5978, -0.0755, -0.0804],\n",
       "                      [-0.5280, -1.1438,  0.5143,  0.9539],\n",
       "                      [-1.5864, -2.5816, -1.0950,  2.2560]]),\n",
       "       ),\n",
       ")"
      ]
     },
     "execution_count": 9,
     "metadata": {},
     "output_type": "execute_result"
    }
   ],
   "source": [
    "b"
   ]
  },
  {
   "cell_type": "code",
   "execution_count": 10,
   "id": "43ef8ea3",
   "metadata": {
    "execution": {
     "iopub.execute_input": "2023-03-06T17:50:31.734440Z",
     "iopub.status.busy": "2023-03-06T17:50:31.733847Z",
     "iopub.status.idle": "2023-03-06T17:50:31.739241Z",
     "shell.execute_reply": "2023-03-06T17:50:31.738659Z"
    }
   },
   "outputs": [
    {
     "data": {
      "text/plain": [
       "tensor([[ 1.1529,  0.5996,  0.0835],\n",
       "        [-0.7704,  0.1742,  0.5911]])"
      ]
     },
     "execution_count": 10,
     "metadata": {},
     "output_type": "execute_result"
    }
   ],
   "source": [
    "b.a"
   ]
  },
  {
   "cell_type": "code",
   "execution_count": 11,
   "id": "b785ab72",
   "metadata": {
    "execution": {
     "iopub.execute_input": "2023-03-06T17:50:31.741901Z",
     "iopub.status.busy": "2023-03-06T17:50:31.741580Z",
     "iopub.status.idle": "2023-03-06T17:50:36.115157Z",
     "shell.execute_reply": "2023-03-06T17:50:36.114396Z"
    }
   },
   "outputs": [
    {
     "name": "stdout",
     "output_type": "stream",
     "text": [
      "53.9 ns ± 0.0389 ns per loop (mean ± std. dev. of 7 runs, 10,000,000 loops each)\n"
     ]
    }
   ],
   "source": [
    "%timeit b.a"
   ]
  },
  {
   "cell_type": "code",
   "execution_count": 12,
   "id": "ad54dc69",
   "metadata": {
    "execution": {
     "iopub.execute_input": "2023-03-06T17:50:36.118211Z",
     "iopub.status.busy": "2023-03-06T17:50:36.117825Z",
     "iopub.status.idle": "2023-03-06T17:50:36.124457Z",
     "shell.execute_reply": "2023-03-06T17:50:36.123819Z"
    }
   },
   "outputs": [
    {
     "data": {
      "text/plain": [
       "Batch(\n",
       "    a: tensor([[-0.8553, -1.0374, -2.0697],\n",
       "               [-1.1464,  0.4795, -0.5136]]),\n",
       "    x: Batch(\n",
       "           c: tensor([[ 0.6324,  0.5978, -0.0755, -0.0804],\n",
       "                      [-0.5280, -1.1438,  0.5143,  0.9539],\n",
       "                      [-1.5864, -2.5816, -1.0950,  2.2560]]),\n",
       "       ),\n",
       ")"
      ]
     },
     "execution_count": 12,
     "metadata": {},
     "output_type": "execute_result"
    }
   ],
   "source": [
    "new_value = torch.randn(2, 3)\n",
    "b.a = new_value\n",
    "\n",
    "b"
   ]
  },
  {
   "cell_type": "code",
   "execution_count": 13,
   "id": "29b1d0bf",
   "metadata": {
    "execution": {
     "iopub.execute_input": "2023-03-06T17:50:36.127088Z",
     "iopub.status.busy": "2023-03-06T17:50:36.126718Z",
     "iopub.status.idle": "2023-03-06T17:50:40.078994Z",
     "shell.execute_reply": "2023-03-06T17:50:40.078316Z"
    }
   },
   "outputs": [
    {
     "name": "stdout",
     "output_type": "stream",
     "text": [
      "486 ns ± 0.275 ns per loop (mean ± std. dev. of 7 runs, 1,000,000 loops each)\n"
     ]
    }
   ],
   "source": [
    "%timeit b.a = new_value"
   ]
  },
  {
   "cell_type": "markdown",
   "id": "b61ad1d0",
   "metadata": {},
   "source": [
    "## Initialization"
   ]
  },
  {
   "cell_type": "markdown",
   "id": "d70f0d54",
   "metadata": {},
   "source": [
    "### TreeValue's Initialization"
   ]
  },
  {
   "cell_type": "code",
   "execution_count": 14,
   "id": "d32a679b",
   "metadata": {
    "execution": {
     "iopub.execute_input": "2023-03-06T17:50:40.082223Z",
     "iopub.status.busy": "2023-03-06T17:50:40.081863Z",
     "iopub.status.idle": "2023-03-06T17:50:46.899322Z",
     "shell.execute_reply": "2023-03-06T17:50:46.898649Z"
    }
   },
   "outputs": [
    {
     "name": "stdout",
     "output_type": "stream",
     "text": [
      "838 ns ± 0.213 ns per loop (mean ± std. dev. of 7 runs, 1,000,000 loops each)\n"
     ]
    }
   ],
   "source": [
    "%timeit FastTreeValue(_TREE_DATA_1)"
   ]
  },
  {
   "cell_type": "markdown",
   "id": "24f3707b",
   "metadata": {},
   "source": [
    "### Tianshou Batch's Initialization"
   ]
  },
  {
   "cell_type": "code",
   "execution_count": 15,
   "id": "ac3958df",
   "metadata": {
    "execution": {
     "iopub.execute_input": "2023-03-06T17:50:46.902399Z",
     "iopub.status.busy": "2023-03-06T17:50:46.902043Z",
     "iopub.status.idle": "2023-03-06T17:50:55.995698Z",
     "shell.execute_reply": "2023-03-06T17:50:55.994978Z"
    }
   },
   "outputs": [
    {
     "name": "stdout",
     "output_type": "stream",
     "text": [
      "11.2 µs ± 15.2 ns per loop (mean ± std. dev. of 7 runs, 100,000 loops each)\n"
     ]
    }
   ],
   "source": [
    "%timeit Batch(**_TREE_DATA_1)"
   ]
  },
  {
   "cell_type": "markdown",
   "id": "1ab82e2d",
   "metadata": {},
   "source": [
    "## Deep Copy Operation"
   ]
  },
  {
   "cell_type": "code",
   "execution_count": 16,
   "id": "210a9442",
   "metadata": {
    "execution": {
     "iopub.execute_input": "2023-03-06T17:50:55.998966Z",
     "iopub.status.busy": "2023-03-06T17:50:55.998582Z",
     "iopub.status.idle": "2023-03-06T17:50:56.002707Z",
     "shell.execute_reply": "2023-03-06T17:50:56.002077Z"
    }
   },
   "outputs": [],
   "source": [
    "import copy"
   ]
  },
  {
   "cell_type": "markdown",
   "id": "5a736274",
   "metadata": {},
   "source": [
    "### Deep Copy of TreeValue"
   ]
  },
  {
   "cell_type": "code",
   "execution_count": 17,
   "id": "f9bcadd6",
   "metadata": {
    "execution": {
     "iopub.execute_input": "2023-03-06T17:50:56.006246Z",
     "iopub.status.busy": "2023-03-06T17:50:56.005190Z",
     "iopub.status.idle": "2023-03-06T17:51:07.018643Z",
     "shell.execute_reply": "2023-03-06T17:51:07.018083Z"
    }
   },
   "outputs": [
    {
     "name": "stdout",
     "output_type": "stream",
     "text": [
      "136 µs ± 440 ns per loop (mean ± std. dev. of 7 runs, 10,000 loops each)\n"
     ]
    }
   ],
   "source": [
    "t3 = FastTreeValue(_TREE_DATA_3)\n",
    "%timeit copy.deepcopy(t3)"
   ]
  },
  {
   "cell_type": "markdown",
   "id": "bf8be7ea",
   "metadata": {},
   "source": [
    "### Deep Copy of Tianshou Batch"
   ]
  },
  {
   "cell_type": "code",
   "execution_count": 18,
   "id": "91998e6f",
   "metadata": {
    "execution": {
     "iopub.execute_input": "2023-03-06T17:51:07.021574Z",
     "iopub.status.busy": "2023-03-06T17:51:07.021053Z",
     "iopub.status.idle": "2023-03-06T17:51:18.329754Z",
     "shell.execute_reply": "2023-03-06T17:51:18.329167Z"
    }
   },
   "outputs": [
    {
     "name": "stdout",
     "output_type": "stream",
     "text": [
      "139 µs ± 585 ns per loop (mean ± std. dev. of 7 runs, 10,000 loops each)\n"
     ]
    }
   ],
   "source": [
    "b3 = Batch(**_TREE_DATA_3)\n",
    "%timeit copy.deepcopy(b3)"
   ]
  },
  {
   "cell_type": "markdown",
   "id": "223162fb",
   "metadata": {},
   "source": [
    "## Stack, Concat and Split Operation"
   ]
  },
  {
   "cell_type": "markdown",
   "id": "85fa4a73",
   "metadata": {},
   "source": [
    "### Performance of TreeValue"
   ]
  },
  {
   "cell_type": "code",
   "execution_count": 19,
   "id": "a0c2b697",
   "metadata": {
    "execution": {
     "iopub.execute_input": "2023-03-06T17:51:18.332824Z",
     "iopub.status.busy": "2023-03-06T17:51:18.332197Z",
     "iopub.status.idle": "2023-03-06T17:51:18.335550Z",
     "shell.execute_reply": "2023-03-06T17:51:18.335022Z"
    }
   },
   "outputs": [],
   "source": [
    "trees = [FastTreeValue(_TREE_DATA_2) for _ in range(8)]"
   ]
  },
  {
   "cell_type": "code",
   "execution_count": 20,
   "id": "017ea5a5",
   "metadata": {
    "execution": {
     "iopub.execute_input": "2023-03-06T17:51:18.338164Z",
     "iopub.status.busy": "2023-03-06T17:51:18.337590Z",
     "iopub.status.idle": "2023-03-06T17:51:18.344565Z",
     "shell.execute_reply": "2023-03-06T17:51:18.344033Z"
    }
   },
   "outputs": [
    {
     "data": {
      "text/plain": [
       "<FastTreeValue 0x7f1d1b623f70>\n",
       "├── 'a' --> tensor([[[ 1.1529,  0.5996,  0.0835],\n",
       "│                    [-0.7704,  0.1742,  0.5911]],\n",
       "│           \n",
       "│                   [[ 1.1529,  0.5996,  0.0835],\n",
       "│                    [-0.7704,  0.1742,  0.5911]],\n",
       "│           \n",
       "│                   [[ 1.1529,  0.5996,  0.0835],\n",
       "│                    [-0.7704,  0.1742,  0.5911]],\n",
       "│           \n",
       "│                   [[ 1.1529,  0.5996,  0.0835],\n",
       "│                    [-0.7704,  0.1742,  0.5911]],\n",
       "│           \n",
       "│                   [[ 1.1529,  0.5996,  0.0835],\n",
       "│                    [-0.7704,  0.1742,  0.5911]],\n",
       "│           \n",
       "│                   [[ 1.1529,  0.5996,  0.0835],\n",
       "│                    [-0.7704,  0.1742,  0.5911]],\n",
       "│           \n",
       "│                   [[ 1.1529,  0.5996,  0.0835],\n",
       "│                    [-0.7704,  0.1742,  0.5911]],\n",
       "│           \n",
       "│                   [[ 1.1529,  0.5996,  0.0835],\n",
       "│                    [-0.7704,  0.1742,  0.5911]]])\n",
       "└── 'x' --> <FastTreeValue 0x7f1d1b623cd0>\n",
       "    └── 'c' --> tensor([[[ 0.6324,  0.5978, -0.0755, -0.0804],\n",
       "                         [-0.5280, -1.1438,  0.5143,  0.9539],\n",
       "                         [-1.5864, -2.5816, -1.0950,  2.2560]],\n",
       "                \n",
       "                        [[ 0.6324,  0.5978, -0.0755, -0.0804],\n",
       "                         [-0.5280, -1.1438,  0.5143,  0.9539],\n",
       "                         [-1.5864, -2.5816, -1.0950,  2.2560]],\n",
       "                \n",
       "                        [[ 0.6324,  0.5978, -0.0755, -0.0804],\n",
       "                         [-0.5280, -1.1438,  0.5143,  0.9539],\n",
       "                         [-1.5864, -2.5816, -1.0950,  2.2560]],\n",
       "                \n",
       "                        [[ 0.6324,  0.5978, -0.0755, -0.0804],\n",
       "                         [-0.5280, -1.1438,  0.5143,  0.9539],\n",
       "                         [-1.5864, -2.5816, -1.0950,  2.2560]],\n",
       "                \n",
       "                        [[ 0.6324,  0.5978, -0.0755, -0.0804],\n",
       "                         [-0.5280, -1.1438,  0.5143,  0.9539],\n",
       "                         [-1.5864, -2.5816, -1.0950,  2.2560]],\n",
       "                \n",
       "                        [[ 0.6324,  0.5978, -0.0755, -0.0804],\n",
       "                         [-0.5280, -1.1438,  0.5143,  0.9539],\n",
       "                         [-1.5864, -2.5816, -1.0950,  2.2560]],\n",
       "                \n",
       "                        [[ 0.6324,  0.5978, -0.0755, -0.0804],\n",
       "                         [-0.5280, -1.1438,  0.5143,  0.9539],\n",
       "                         [-1.5864, -2.5816, -1.0950,  2.2560]],\n",
       "                \n",
       "                        [[ 0.6324,  0.5978, -0.0755, -0.0804],\n",
       "                         [-0.5280, -1.1438,  0.5143,  0.9539],\n",
       "                         [-1.5864, -2.5816, -1.0950,  2.2560]]])"
      ]
     },
     "execution_count": 20,
     "metadata": {},
     "output_type": "execute_result"
    }
   ],
   "source": [
    "t_stack = FastTreeValue.func(subside=True)(torch.stack)\n",
    "\n",
    "t_stack(trees)"
   ]
  },
  {
   "cell_type": "code",
   "execution_count": 21,
   "id": "f8b3f415",
   "metadata": {
    "execution": {
     "iopub.execute_input": "2023-03-06T17:51:18.347222Z",
     "iopub.status.busy": "2023-03-06T17:51:18.346651Z",
     "iopub.status.idle": "2023-03-06T17:51:20.959530Z",
     "shell.execute_reply": "2023-03-06T17:51:20.958817Z"
    }
   },
   "outputs": [
    {
     "name": "stdout",
     "output_type": "stream",
     "text": [
      "32.1 µs ± 74.1 ns per loop (mean ± std. dev. of 7 runs, 10,000 loops each)\n"
     ]
    }
   ],
   "source": [
    "%timeit t_stack(trees)"
   ]
  },
  {
   "cell_type": "code",
   "execution_count": 22,
   "id": "94b56771",
   "metadata": {
    "execution": {
     "iopub.execute_input": "2023-03-06T17:51:20.962371Z",
     "iopub.status.busy": "2023-03-06T17:51:20.962010Z",
     "iopub.status.idle": "2023-03-06T17:51:20.970053Z",
     "shell.execute_reply": "2023-03-06T17:51:20.969407Z"
    }
   },
   "outputs": [
    {
     "data": {
      "text/plain": [
       "<FastTreeValue 0x7f1d1b623a90>\n",
       "├── 'a' --> tensor([[ 1.1529,  0.5996,  0.0835],\n",
       "│                   [-0.7704,  0.1742,  0.5911],\n",
       "│                   [ 1.1529,  0.5996,  0.0835],\n",
       "│                   [-0.7704,  0.1742,  0.5911],\n",
       "│                   [ 1.1529,  0.5996,  0.0835],\n",
       "│                   [-0.7704,  0.1742,  0.5911],\n",
       "│                   [ 1.1529,  0.5996,  0.0835],\n",
       "│                   [-0.7704,  0.1742,  0.5911],\n",
       "│                   [ 1.1529,  0.5996,  0.0835],\n",
       "│                   [-0.7704,  0.1742,  0.5911],\n",
       "│                   [ 1.1529,  0.5996,  0.0835],\n",
       "│                   [-0.7704,  0.1742,  0.5911],\n",
       "│                   [ 1.1529,  0.5996,  0.0835],\n",
       "│                   [-0.7704,  0.1742,  0.5911],\n",
       "│                   [ 1.1529,  0.5996,  0.0835],\n",
       "│                   [-0.7704,  0.1742,  0.5911]])\n",
       "└── 'x' --> <FastTreeValue 0x7f1d1b623fa0>\n",
       "    └── 'c' --> tensor([[ 0.6324,  0.5978, -0.0755, -0.0804],\n",
       "                        [-0.5280, -1.1438,  0.5143,  0.9539],\n",
       "                        [-1.5864, -2.5816, -1.0950,  2.2560],\n",
       "                        [ 0.6324,  0.5978, -0.0755, -0.0804],\n",
       "                        [-0.5280, -1.1438,  0.5143,  0.9539],\n",
       "                        [-1.5864, -2.5816, -1.0950,  2.2560],\n",
       "                        [ 0.6324,  0.5978, -0.0755, -0.0804],\n",
       "                        [-0.5280, -1.1438,  0.5143,  0.9539],\n",
       "                        [-1.5864, -2.5816, -1.0950,  2.2560],\n",
       "                        [ 0.6324,  0.5978, -0.0755, -0.0804],\n",
       "                        [-0.5280, -1.1438,  0.5143,  0.9539],\n",
       "                        [-1.5864, -2.5816, -1.0950,  2.2560],\n",
       "                        [ 0.6324,  0.5978, -0.0755, -0.0804],\n",
       "                        [-0.5280, -1.1438,  0.5143,  0.9539],\n",
       "                        [-1.5864, -2.5816, -1.0950,  2.2560],\n",
       "                        [ 0.6324,  0.5978, -0.0755, -0.0804],\n",
       "                        [-0.5280, -1.1438,  0.5143,  0.9539],\n",
       "                        [-1.5864, -2.5816, -1.0950,  2.2560],\n",
       "                        [ 0.6324,  0.5978, -0.0755, -0.0804],\n",
       "                        [-0.5280, -1.1438,  0.5143,  0.9539],\n",
       "                        [-1.5864, -2.5816, -1.0950,  2.2560],\n",
       "                        [ 0.6324,  0.5978, -0.0755, -0.0804],\n",
       "                        [-0.5280, -1.1438,  0.5143,  0.9539],\n",
       "                        [-1.5864, -2.5816, -1.0950,  2.2560]])"
      ]
     },
     "execution_count": 22,
     "metadata": {},
     "output_type": "execute_result"
    }
   ],
   "source": [
    "t_cat = FastTreeValue.func(subside=True)(torch.cat)\n",
    "\n",
    "t_cat(trees)"
   ]
  },
  {
   "cell_type": "code",
   "execution_count": 23,
   "id": "5e9c06a6",
   "metadata": {
    "execution": {
     "iopub.execute_input": "2023-03-06T17:51:20.972518Z",
     "iopub.status.busy": "2023-03-06T17:51:20.972177Z",
     "iopub.status.idle": "2023-03-06T17:51:23.442579Z",
     "shell.execute_reply": "2023-03-06T17:51:23.441866Z"
    }
   },
   "outputs": [
    {
     "name": "stdout",
     "output_type": "stream",
     "text": [
      "30.4 µs ± 39.7 ns per loop (mean ± std. dev. of 7 runs, 10,000 loops each)\n"
     ]
    }
   ],
   "source": [
    "%timeit t_cat(trees)"
   ]
  },
  {
   "cell_type": "code",
   "execution_count": 24,
   "id": "a3ab5c8f",
   "metadata": {
    "execution": {
     "iopub.execute_input": "2023-03-06T17:51:23.445465Z",
     "iopub.status.busy": "2023-03-06T17:51:23.445096Z",
     "iopub.status.idle": "2023-03-06T17:51:28.275384Z",
     "shell.execute_reply": "2023-03-06T17:51:28.274660Z"
    }
   },
   "outputs": [
    {
     "name": "stdout",
     "output_type": "stream",
     "text": [
      "59.4 µs ± 98.2 ns per loop (mean ± std. dev. of 7 runs, 10,000 loops each)\n"
     ]
    }
   ],
   "source": [
    "t_split = FastTreeValue.func(rise=True)(torch.split)\n",
    "tree = FastTreeValue({\n",
    "    'obs': torch.randn(8, 4, 84, 84),\n",
    "    'action': torch.randint(0, 6, size=(8, 1,)),\n",
    "    'reward': torch.rand(8, 1),\n",
    "})\n",
    "\n",
    "%timeit t_split(tree, 1)"
   ]
  },
  {
   "cell_type": "markdown",
   "id": "31c3ec0b",
   "metadata": {},
   "source": [
    "### Performance of Tianshou Batch"
   ]
  },
  {
   "cell_type": "code",
   "execution_count": 25,
   "id": "9ead828a",
   "metadata": {
    "execution": {
     "iopub.execute_input": "2023-03-06T17:51:28.278735Z",
     "iopub.status.busy": "2023-03-06T17:51:28.278219Z",
     "iopub.status.idle": "2023-03-06T17:51:28.287313Z",
     "shell.execute_reply": "2023-03-06T17:51:28.286707Z"
    }
   },
   "outputs": [
    {
     "data": {
      "text/plain": [
       "Batch(\n",
       "    x: Batch(\n",
       "           c: tensor([[[ 0.6324,  0.5978, -0.0755, -0.0804],\n",
       "                       [-0.5280, -1.1438,  0.5143,  0.9539],\n",
       "                       [-1.5864, -2.5816, -1.0950,  2.2560]],\n",
       "              \n",
       "                      [[ 0.6324,  0.5978, -0.0755, -0.0804],\n",
       "                       [-0.5280, -1.1438,  0.5143,  0.9539],\n",
       "                       [-1.5864, -2.5816, -1.0950,  2.2560]],\n",
       "              \n",
       "                      [[ 0.6324,  0.5978, -0.0755, -0.0804],\n",
       "                       [-0.5280, -1.1438,  0.5143,  0.9539],\n",
       "                       [-1.5864, -2.5816, -1.0950,  2.2560]],\n",
       "              \n",
       "                      [[ 0.6324,  0.5978, -0.0755, -0.0804],\n",
       "                       [-0.5280, -1.1438,  0.5143,  0.9539],\n",
       "                       [-1.5864, -2.5816, -1.0950,  2.2560]],\n",
       "              \n",
       "                      [[ 0.6324,  0.5978, -0.0755, -0.0804],\n",
       "                       [-0.5280, -1.1438,  0.5143,  0.9539],\n",
       "                       [-1.5864, -2.5816, -1.0950,  2.2560]],\n",
       "              \n",
       "                      [[ 0.6324,  0.5978, -0.0755, -0.0804],\n",
       "                       [-0.5280, -1.1438,  0.5143,  0.9539],\n",
       "                       [-1.5864, -2.5816, -1.0950,  2.2560]],\n",
       "              \n",
       "                      [[ 0.6324,  0.5978, -0.0755, -0.0804],\n",
       "                       [-0.5280, -1.1438,  0.5143,  0.9539],\n",
       "                       [-1.5864, -2.5816, -1.0950,  2.2560]],\n",
       "              \n",
       "                      [[ 0.6324,  0.5978, -0.0755, -0.0804],\n",
       "                       [-0.5280, -1.1438,  0.5143,  0.9539],\n",
       "                       [-1.5864, -2.5816, -1.0950,  2.2560]]]),\n",
       "       ),\n",
       "    a: tensor([[[ 1.1529,  0.5996,  0.0835],\n",
       "                [-0.7704,  0.1742,  0.5911]],\n",
       "       \n",
       "               [[ 1.1529,  0.5996,  0.0835],\n",
       "                [-0.7704,  0.1742,  0.5911]],\n",
       "       \n",
       "               [[ 1.1529,  0.5996,  0.0835],\n",
       "                [-0.7704,  0.1742,  0.5911]],\n",
       "       \n",
       "               [[ 1.1529,  0.5996,  0.0835],\n",
       "                [-0.7704,  0.1742,  0.5911]],\n",
       "       \n",
       "               [[ 1.1529,  0.5996,  0.0835],\n",
       "                [-0.7704,  0.1742,  0.5911]],\n",
       "       \n",
       "               [[ 1.1529,  0.5996,  0.0835],\n",
       "                [-0.7704,  0.1742,  0.5911]],\n",
       "       \n",
       "               [[ 1.1529,  0.5996,  0.0835],\n",
       "                [-0.7704,  0.1742,  0.5911]],\n",
       "       \n",
       "               [[ 1.1529,  0.5996,  0.0835],\n",
       "                [-0.7704,  0.1742,  0.5911]]]),\n",
       ")"
      ]
     },
     "execution_count": 25,
     "metadata": {},
     "output_type": "execute_result"
    }
   ],
   "source": [
    "batches = [Batch(**_TREE_DATA_2) for _ in range(8)]\n",
    "\n",
    "Batch.stack(batches)"
   ]
  },
  {
   "cell_type": "code",
   "execution_count": 26,
   "id": "ec9037a3",
   "metadata": {
    "execution": {
     "iopub.execute_input": "2023-03-06T17:51:28.290255Z",
     "iopub.status.busy": "2023-03-06T17:51:28.289772Z",
     "iopub.status.idle": "2023-03-06T17:51:34.700241Z",
     "shell.execute_reply": "2023-03-06T17:51:34.699513Z"
    }
   },
   "outputs": [
    {
     "name": "stdout",
     "output_type": "stream",
     "text": [
      "78.9 µs ± 234 ns per loop (mean ± std. dev. of 7 runs, 10,000 loops each)\n"
     ]
    }
   ],
   "source": [
    "%timeit Batch.stack(batches)"
   ]
  },
  {
   "cell_type": "code",
   "execution_count": 27,
   "id": "cb8ab77e",
   "metadata": {
    "execution": {
     "iopub.execute_input": "2023-03-06T17:51:34.703312Z",
     "iopub.status.busy": "2023-03-06T17:51:34.702683Z",
     "iopub.status.idle": "2023-03-06T17:51:34.710493Z",
     "shell.execute_reply": "2023-03-06T17:51:34.709902Z"
    }
   },
   "outputs": [
    {
     "data": {
      "text/plain": [
       "Batch(\n",
       "    x: Batch(\n",
       "           c: tensor([[ 0.6324,  0.5978, -0.0755, -0.0804],\n",
       "                      [-0.5280, -1.1438,  0.5143,  0.9539],\n",
       "                      [-1.5864, -2.5816, -1.0950,  2.2560],\n",
       "                      [ 0.6324,  0.5978, -0.0755, -0.0804],\n",
       "                      [-0.5280, -1.1438,  0.5143,  0.9539],\n",
       "                      [-1.5864, -2.5816, -1.0950,  2.2560],\n",
       "                      [ 0.6324,  0.5978, -0.0755, -0.0804],\n",
       "                      [-0.5280, -1.1438,  0.5143,  0.9539],\n",
       "                      [-1.5864, -2.5816, -1.0950,  2.2560],\n",
       "                      [ 0.6324,  0.5978, -0.0755, -0.0804],\n",
       "                      [-0.5280, -1.1438,  0.5143,  0.9539],\n",
       "                      [-1.5864, -2.5816, -1.0950,  2.2560],\n",
       "                      [ 0.6324,  0.5978, -0.0755, -0.0804],\n",
       "                      [-0.5280, -1.1438,  0.5143,  0.9539],\n",
       "                      [-1.5864, -2.5816, -1.0950,  2.2560],\n",
       "                      [ 0.6324,  0.5978, -0.0755, -0.0804],\n",
       "                      [-0.5280, -1.1438,  0.5143,  0.9539],\n",
       "                      [-1.5864, -2.5816, -1.0950,  2.2560],\n",
       "                      [ 0.6324,  0.5978, -0.0755, -0.0804],\n",
       "                      [-0.5280, -1.1438,  0.5143,  0.9539],\n",
       "                      [-1.5864, -2.5816, -1.0950,  2.2560],\n",
       "                      [ 0.6324,  0.5978, -0.0755, -0.0804],\n",
       "                      [-0.5280, -1.1438,  0.5143,  0.9539],\n",
       "                      [-1.5864, -2.5816, -1.0950,  2.2560]]),\n",
       "       ),\n",
       "    a: tensor([[ 1.1529,  0.5996,  0.0835],\n",
       "               [-0.7704,  0.1742,  0.5911],\n",
       "               [ 1.1529,  0.5996,  0.0835],\n",
       "               [-0.7704,  0.1742,  0.5911],\n",
       "               [ 1.1529,  0.5996,  0.0835],\n",
       "               [-0.7704,  0.1742,  0.5911],\n",
       "               [ 1.1529,  0.5996,  0.0835],\n",
       "               [-0.7704,  0.1742,  0.5911],\n",
       "               [ 1.1529,  0.5996,  0.0835],\n",
       "               [-0.7704,  0.1742,  0.5911],\n",
       "               [ 1.1529,  0.5996,  0.0835],\n",
       "               [-0.7704,  0.1742,  0.5911],\n",
       "               [ 1.1529,  0.5996,  0.0835],\n",
       "               [-0.7704,  0.1742,  0.5911],\n",
       "               [ 1.1529,  0.5996,  0.0835],\n",
       "               [-0.7704,  0.1742,  0.5911]]),\n",
       ")"
      ]
     },
     "execution_count": 27,
     "metadata": {},
     "output_type": "execute_result"
    }
   ],
   "source": [
    "Batch.cat(batches)"
   ]
  },
  {
   "cell_type": "code",
   "execution_count": 28,
   "id": "18dfb045",
   "metadata": {
    "execution": {
     "iopub.execute_input": "2023-03-06T17:51:34.713229Z",
     "iopub.status.busy": "2023-03-06T17:51:34.712690Z",
     "iopub.status.idle": "2023-03-06T17:51:46.358156Z",
     "shell.execute_reply": "2023-03-06T17:51:46.357436Z"
    }
   },
   "outputs": [
    {
     "name": "stdout",
     "output_type": "stream",
     "text": [
      "143 µs ± 260 ns per loop (mean ± std. dev. of 7 runs, 10,000 loops each)\n"
     ]
    }
   ],
   "source": [
    "%timeit Batch.cat(batches)"
   ]
  },
  {
   "cell_type": "code",
   "execution_count": 29,
   "id": "c6688e51",
   "metadata": {
    "execution": {
     "iopub.execute_input": "2023-03-06T17:51:46.360981Z",
     "iopub.status.busy": "2023-03-06T17:51:46.360614Z",
     "iopub.status.idle": "2023-03-06T17:51:48.892649Z",
     "shell.execute_reply": "2023-03-06T17:51:48.891936Z"
    }
   },
   "outputs": [
    {
     "name": "stdout",
     "output_type": "stream",
     "text": [
      "311 µs ± 1.36 µs per loop (mean ± std. dev. of 7 runs, 1,000 loops each)\n"
     ]
    }
   ],
   "source": [
    "batch = Batch({\n",
    "    'obs': torch.randn(8, 4, 84, 84),\n",
    "    'action': torch.randint(0, 6, size=(8, 1,)),\n",
    "    'reward': torch.rand(8, 1)}\n",
    ")\n",
    "\n",
    "%timeit list(Batch.split(batch, 1, shuffle=False, merge_last=True))"
   ]
  },
  {
   "cell_type": "code",
   "execution_count": null,
   "id": "2539fbd9",
   "metadata": {},
   "outputs": [],
   "source": []
  }
 ],
 "metadata": {
  "kernelspec": {
   "display_name": "Python 3 (ipykernel)",
   "language": "python",
   "name": "python3"
  },
  "language_info": {
   "codemirror_mode": {
    "name": "ipython",
    "version": 3
   },
   "file_extension": ".py",
   "mimetype": "text/x-python",
   "name": "python",
   "nbconvert_exporter": "python",
   "pygments_lexer": "ipython3",
   "version": "3.8.16"
  }
 },
 "nbformat": 4,
 "nbformat_minor": 5
}
