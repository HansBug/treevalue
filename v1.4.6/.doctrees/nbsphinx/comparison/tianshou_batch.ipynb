{
 "cells": [
  {
   "cell_type": "markdown",
   "id": "9d39d946",
   "metadata": {},
   "source": [
    "# Comparison Between TreeValue and Tianshou Batch"
   ]
  },
  {
   "cell_type": "markdown",
   "id": "3c6db2d4",
   "metadata": {},
   "source": [
    "In this section, we will take a look at the feature and performance of the [Tianshou Batch](https://github.com/thu-ml/tianshou) library, which is developed by Tsinghua Machine Learning Group."
   ]
  },
  {
   "cell_type": "markdown",
   "id": "069361b0",
   "metadata": {},
   "source": [
    "Before starting the comparison, let us define some thing."
   ]
  },
  {
   "cell_type": "code",
   "execution_count": 1,
   "id": "06fc8d26",
   "metadata": {
    "execution": {
     "iopub.execute_input": "2023-02-27T09:48:03.311933Z",
     "iopub.status.busy": "2023-02-27T09:48:03.310900Z",
     "iopub.status.idle": "2023-02-27T09:48:04.662495Z",
     "shell.execute_reply": "2023-02-27T09:48:04.661362Z"
    }
   },
   "outputs": [
    {
     "name": "stderr",
     "output_type": "stream",
     "text": [
      "/opt/hostedtoolcache/Python/3.8.16/x64/lib/python3.8/site-packages/tqdm/auto.py:22: TqdmWarning: IProgress not found. Please update jupyter and ipywidgets. See https://ipywidgets.readthedocs.io/en/stable/user_install.html\n",
      "  from .autonotebook import tqdm as notebook_tqdm\n"
     ]
    }
   ],
   "source": [
    "import torch \n",
    "\n",
    "_TREE_DATA_1 = {'a': 1, 'b': 2, 'x': {'c': 3, 'd': 4}}\n",
    "_TREE_DATA_2 = {\n",
    "    'a': torch.randn(2, 3), \n",
    "    'x': {\n",
    "        'c': torch.randn(3, 4)\n",
    "    },\n",
    "}\n",
    "_TREE_DATA_3 = {\n",
    "    'obs': torch.randn(4, 84, 84),\n",
    "    'action': torch.randint(0, 6, size=(1,)),\n",
    "    'reward': torch.rand(1),\n",
    "}"
   ]
  },
  {
   "cell_type": "markdown",
   "id": "83461b25",
   "metadata": {},
   "source": [
    "## Read and Write Operation"
   ]
  },
  {
   "cell_type": "markdown",
   "id": "067b3f73",
   "metadata": {},
   "source": [
    "Reading and writing are the two most common operations in the tree data structure based on the data model (TreeValue and Tianshou Batch both belong to this type), so this section will compare the reading and writing performance of these two libraries."
   ]
  },
  {
   "cell_type": "markdown",
   "id": "5d09a5b7",
   "metadata": {},
   "source": [
    "### TreeValue's Get and Set"
   ]
  },
  {
   "cell_type": "code",
   "execution_count": 2,
   "id": "9519c4bb",
   "metadata": {
    "execution": {
     "iopub.execute_input": "2023-02-27T09:48:04.667257Z",
     "iopub.status.busy": "2023-02-27T09:48:04.666815Z",
     "iopub.status.idle": "2023-02-27T09:48:05.076385Z",
     "shell.execute_reply": "2023-02-27T09:48:05.075152Z"
    }
   },
   "outputs": [],
   "source": [
    "from treevalue import FastTreeValue\n",
    "\n",
    "t = FastTreeValue(_TREE_DATA_2)"
   ]
  },
  {
   "cell_type": "code",
   "execution_count": 3,
   "id": "11c37677",
   "metadata": {
    "execution": {
     "iopub.execute_input": "2023-02-27T09:48:05.081100Z",
     "iopub.status.busy": "2023-02-27T09:48:05.080631Z",
     "iopub.status.idle": "2023-02-27T09:48:05.100051Z",
     "shell.execute_reply": "2023-02-27T09:48:05.098676Z"
    }
   },
   "outputs": [
    {
     "data": {
      "text/plain": [
       "<FastTreeValue 0x7f1c70dd4250>\n",
       "├── 'a' --> tensor([[-0.6229,  0.3926,  1.5458],\n",
       "│                   [-3.1575, -0.4036,  0.6150]])\n",
       "└── 'x' --> <FastTreeValue 0x7f1c70dd4160>\n",
       "    └── 'c' --> tensor([[-1.3074,  0.4224,  0.0233, -0.3198],\n",
       "                        [ 3.0833, -0.0444,  1.1010, -0.4820],\n",
       "                        [ 0.9603,  0.6458, -0.2244,  0.9467]])"
      ]
     },
     "execution_count": 3,
     "metadata": {},
     "output_type": "execute_result"
    }
   ],
   "source": [
    "t"
   ]
  },
  {
   "cell_type": "code",
   "execution_count": 4,
   "id": "fd70b0b9",
   "metadata": {
    "execution": {
     "iopub.execute_input": "2023-02-27T09:48:05.106125Z",
     "iopub.status.busy": "2023-02-27T09:48:05.105668Z",
     "iopub.status.idle": "2023-02-27T09:48:05.114798Z",
     "shell.execute_reply": "2023-02-27T09:48:05.113603Z"
    }
   },
   "outputs": [
    {
     "data": {
      "text/plain": [
       "tensor([[-0.6229,  0.3926,  1.5458],\n",
       "        [-3.1575, -0.4036,  0.6150]])"
      ]
     },
     "execution_count": 4,
     "metadata": {},
     "output_type": "execute_result"
    }
   ],
   "source": [
    "t.a"
   ]
  },
  {
   "cell_type": "code",
   "execution_count": 5,
   "id": "c18197bd",
   "metadata": {
    "execution": {
     "iopub.execute_input": "2023-02-27T09:48:05.122247Z",
     "iopub.status.busy": "2023-02-27T09:48:05.118440Z",
     "iopub.status.idle": "2023-02-27T09:48:11.295434Z",
     "shell.execute_reply": "2023-02-27T09:48:11.293966Z"
    }
   },
   "outputs": [
    {
     "name": "stdout",
     "output_type": "stream",
     "text": [
      "75.7 ns ± 0.905 ns per loop (mean ± std. dev. of 7 runs, 10,000,000 loops each)\n"
     ]
    }
   ],
   "source": [
    "%timeit t.a"
   ]
  },
  {
   "cell_type": "code",
   "execution_count": 6,
   "id": "bd52f867",
   "metadata": {
    "execution": {
     "iopub.execute_input": "2023-02-27T09:48:11.300134Z",
     "iopub.status.busy": "2023-02-27T09:48:11.299070Z",
     "iopub.status.idle": "2023-02-27T09:48:11.308437Z",
     "shell.execute_reply": "2023-02-27T09:48:11.307505Z"
    }
   },
   "outputs": [
    {
     "data": {
      "text/plain": [
       "<FastTreeValue 0x7f1c70dd4250>\n",
       "├── 'a' --> tensor([[-1.4856,  0.8893,  0.3246],\n",
       "│                   [ 0.0427,  0.5638,  1.3031]])\n",
       "└── 'x' --> <FastTreeValue 0x7f1c70dd4160>\n",
       "    └── 'c' --> tensor([[-1.3074,  0.4224,  0.0233, -0.3198],\n",
       "                        [ 3.0833, -0.0444,  1.1010, -0.4820],\n",
       "                        [ 0.9603,  0.6458, -0.2244,  0.9467]])"
      ]
     },
     "execution_count": 6,
     "metadata": {},
     "output_type": "execute_result"
    }
   ],
   "source": [
    "new_value = torch.randn(2, 3)\n",
    "t.a = new_value\n",
    "\n",
    "t"
   ]
  },
  {
   "cell_type": "code",
   "execution_count": 7,
   "id": "bbe04d1c",
   "metadata": {
    "execution": {
     "iopub.execute_input": "2023-02-27T09:48:11.316515Z",
     "iopub.status.busy": "2023-02-27T09:48:11.315362Z",
     "iopub.status.idle": "2023-02-27T09:48:17.493949Z",
     "shell.execute_reply": "2023-02-27T09:48:17.492757Z"
    }
   },
   "outputs": [
    {
     "name": "stdout",
     "output_type": "stream",
     "text": [
      "75.6 ns ± 1.21 ns per loop (mean ± std. dev. of 7 runs, 10,000,000 loops each)\n"
     ]
    }
   ],
   "source": [
    "%timeit t.a = new_value"
   ]
  },
  {
   "cell_type": "markdown",
   "id": "48c49731",
   "metadata": {},
   "source": [
    "### Tianshou Batch's Get and Set"
   ]
  },
  {
   "cell_type": "code",
   "execution_count": 8,
   "id": "f1bb14c1",
   "metadata": {
    "execution": {
     "iopub.execute_input": "2023-02-27T09:48:17.498347Z",
     "iopub.status.busy": "2023-02-27T09:48:17.497764Z",
     "iopub.status.idle": "2023-02-27T09:48:18.024596Z",
     "shell.execute_reply": "2023-02-27T09:48:18.023327Z"
    }
   },
   "outputs": [],
   "source": [
    "from tianshou.data import Batch\n",
    "\n",
    "b = Batch(**_TREE_DATA_2)"
   ]
  },
  {
   "cell_type": "code",
   "execution_count": 9,
   "id": "cb0777c3",
   "metadata": {
    "execution": {
     "iopub.execute_input": "2023-02-27T09:48:18.029550Z",
     "iopub.status.busy": "2023-02-27T09:48:18.028673Z",
     "iopub.status.idle": "2023-02-27T09:48:18.037706Z",
     "shell.execute_reply": "2023-02-27T09:48:18.036722Z"
    }
   },
   "outputs": [
    {
     "data": {
      "text/plain": [
       "Batch(\n",
       "    a: tensor([[-0.6229,  0.3926,  1.5458],\n",
       "               [-3.1575, -0.4036,  0.6150]]),\n",
       "    x: Batch(\n",
       "           c: tensor([[-1.3074,  0.4224,  0.0233, -0.3198],\n",
       "                      [ 3.0833, -0.0444,  1.1010, -0.4820],\n",
       "                      [ 0.9603,  0.6458, -0.2244,  0.9467]]),\n",
       "       ),\n",
       ")"
      ]
     },
     "execution_count": 9,
     "metadata": {},
     "output_type": "execute_result"
    }
   ],
   "source": [
    "b"
   ]
  },
  {
   "cell_type": "code",
   "execution_count": 10,
   "id": "43ef8ea3",
   "metadata": {
    "execution": {
     "iopub.execute_input": "2023-02-27T09:48:18.041648Z",
     "iopub.status.busy": "2023-02-27T09:48:18.041026Z",
     "iopub.status.idle": "2023-02-27T09:48:18.049723Z",
     "shell.execute_reply": "2023-02-27T09:48:18.048598Z"
    }
   },
   "outputs": [
    {
     "data": {
      "text/plain": [
       "tensor([[-0.6229,  0.3926,  1.5458],\n",
       "        [-3.1575, -0.4036,  0.6150]])"
      ]
     },
     "execution_count": 10,
     "metadata": {},
     "output_type": "execute_result"
    }
   ],
   "source": [
    "b.a"
   ]
  },
  {
   "cell_type": "code",
   "execution_count": 11,
   "id": "b785ab72",
   "metadata": {
    "execution": {
     "iopub.execute_input": "2023-02-27T09:48:18.053828Z",
     "iopub.status.busy": "2023-02-27T09:48:18.053503Z",
     "iopub.status.idle": "2023-02-27T09:48:23.710164Z",
     "shell.execute_reply": "2023-02-27T09:48:23.707971Z"
    }
   },
   "outputs": [
    {
     "name": "stdout",
     "output_type": "stream",
     "text": [
      "69.8 ns ± 1.15 ns per loop (mean ± std. dev. of 7 runs, 10,000,000 loops each)\n"
     ]
    }
   ],
   "source": [
    "%timeit b.a"
   ]
  },
  {
   "cell_type": "code",
   "execution_count": 12,
   "id": "ad54dc69",
   "metadata": {
    "execution": {
     "iopub.execute_input": "2023-02-27T09:48:23.714203Z",
     "iopub.status.busy": "2023-02-27T09:48:23.713814Z",
     "iopub.status.idle": "2023-02-27T09:48:23.723348Z",
     "shell.execute_reply": "2023-02-27T09:48:23.722309Z"
    }
   },
   "outputs": [
    {
     "data": {
      "text/plain": [
       "Batch(\n",
       "    a: tensor([[-0.0871, -0.7502, -0.9709],\n",
       "               [ 1.8815,  1.5776,  1.0329]]),\n",
       "    x: Batch(\n",
       "           c: tensor([[-1.3074,  0.4224,  0.0233, -0.3198],\n",
       "                      [ 3.0833, -0.0444,  1.1010, -0.4820],\n",
       "                      [ 0.9603,  0.6458, -0.2244,  0.9467]]),\n",
       "       ),\n",
       ")"
      ]
     },
     "execution_count": 12,
     "metadata": {},
     "output_type": "execute_result"
    }
   ],
   "source": [
    "new_value = torch.randn(2, 3)\n",
    "b.a = new_value\n",
    "\n",
    "b"
   ]
  },
  {
   "cell_type": "code",
   "execution_count": 13,
   "id": "29b1d0bf",
   "metadata": {
    "execution": {
     "iopub.execute_input": "2023-02-27T09:48:23.727606Z",
     "iopub.status.busy": "2023-02-27T09:48:23.726975Z",
     "iopub.status.idle": "2023-02-27T09:48:29.201930Z",
     "shell.execute_reply": "2023-02-27T09:48:29.200657Z"
    }
   },
   "outputs": [
    {
     "name": "stdout",
     "output_type": "stream",
     "text": [
      "674 ns ± 5.16 ns per loop (mean ± std. dev. of 7 runs, 1,000,000 loops each)\n"
     ]
    }
   ],
   "source": [
    "%timeit b.a = new_value"
   ]
  },
  {
   "cell_type": "markdown",
   "id": "b61ad1d0",
   "metadata": {},
   "source": [
    "## Initialization"
   ]
  },
  {
   "cell_type": "markdown",
   "id": "d70f0d54",
   "metadata": {},
   "source": [
    "### TreeValue's Initialization"
   ]
  },
  {
   "cell_type": "code",
   "execution_count": 14,
   "id": "d32a679b",
   "metadata": {
    "execution": {
     "iopub.execute_input": "2023-02-27T09:48:29.205751Z",
     "iopub.status.busy": "2023-02-27T09:48:29.205423Z",
     "iopub.status.idle": "2023-02-27T09:48:38.165314Z",
     "shell.execute_reply": "2023-02-27T09:48:38.162765Z"
    }
   },
   "outputs": [
    {
     "name": "stdout",
     "output_type": "stream",
     "text": [
      "1.11 µs ± 9.13 ns per loop (mean ± std. dev. of 7 runs, 1,000,000 loops each)\n"
     ]
    }
   ],
   "source": [
    "%timeit FastTreeValue(_TREE_DATA_1)"
   ]
  },
  {
   "cell_type": "markdown",
   "id": "24f3707b",
   "metadata": {},
   "source": [
    "### Tianshou Batch's Initialization"
   ]
  },
  {
   "cell_type": "code",
   "execution_count": 15,
   "id": "ac3958df",
   "metadata": {
    "execution": {
     "iopub.execute_input": "2023-02-27T09:48:38.169832Z",
     "iopub.status.busy": "2023-02-27T09:48:38.169481Z",
     "iopub.status.idle": "2023-02-27T09:48:50.750622Z",
     "shell.execute_reply": "2023-02-27T09:48:50.749420Z"
    }
   },
   "outputs": [
    {
     "name": "stdout",
     "output_type": "stream",
     "text": [
      "15.6 µs ± 121 ns per loop (mean ± std. dev. of 7 runs, 100,000 loops each)\n"
     ]
    }
   ],
   "source": [
    "%timeit Batch(**_TREE_DATA_1)"
   ]
  },
  {
   "cell_type": "markdown",
   "id": "1ab82e2d",
   "metadata": {},
   "source": [
    "## Deep Copy Operation"
   ]
  },
  {
   "cell_type": "code",
   "execution_count": 16,
   "id": "210a9442",
   "metadata": {
    "execution": {
     "iopub.execute_input": "2023-02-27T09:48:50.754745Z",
     "iopub.status.busy": "2023-02-27T09:48:50.754223Z",
     "iopub.status.idle": "2023-02-27T09:48:50.759422Z",
     "shell.execute_reply": "2023-02-27T09:48:50.758423Z"
    }
   },
   "outputs": [],
   "source": [
    "import copy"
   ]
  },
  {
   "cell_type": "markdown",
   "id": "5a736274",
   "metadata": {},
   "source": [
    "### Deep Copy of TreeValue"
   ]
  },
  {
   "cell_type": "code",
   "execution_count": 17,
   "id": "f9bcadd6",
   "metadata": {
    "execution": {
     "iopub.execute_input": "2023-02-27T09:48:50.763044Z",
     "iopub.status.busy": "2023-02-27T09:48:50.762459Z",
     "iopub.status.idle": "2023-02-27T09:48:53.098915Z",
     "shell.execute_reply": "2023-02-27T09:48:53.098056Z"
    }
   },
   "outputs": [
    {
     "name": "stdout",
     "output_type": "stream",
     "text": [
      "288 µs ± 10.1 µs per loop (mean ± std. dev. of 7 runs, 1,000 loops each)\n"
     ]
    }
   ],
   "source": [
    "t3 = FastTreeValue(_TREE_DATA_3)\n",
    "%timeit copy.deepcopy(t3)"
   ]
  },
  {
   "cell_type": "markdown",
   "id": "bf8be7ea",
   "metadata": {},
   "source": [
    "### Deep Copy of Tianshou Batch"
   ]
  },
  {
   "cell_type": "code",
   "execution_count": 18,
   "id": "91998e6f",
   "metadata": {
    "execution": {
     "iopub.execute_input": "2023-02-27T09:48:53.102884Z",
     "iopub.status.busy": "2023-02-27T09:48:53.102242Z",
     "iopub.status.idle": "2023-02-27T09:48:55.289299Z",
     "shell.execute_reply": "2023-02-27T09:48:55.288307Z"
    }
   },
   "outputs": [
    {
     "name": "stdout",
     "output_type": "stream",
     "text": [
      "270 µs ± 8.17 µs per loop (mean ± std. dev. of 7 runs, 1,000 loops each)\n"
     ]
    }
   ],
   "source": [
    "b3 = Batch(**_TREE_DATA_3)\n",
    "%timeit copy.deepcopy(b3)"
   ]
  },
  {
   "cell_type": "markdown",
   "id": "223162fb",
   "metadata": {},
   "source": [
    "## Stack, Concat and Split Operation"
   ]
  },
  {
   "cell_type": "markdown",
   "id": "85fa4a73",
   "metadata": {},
   "source": [
    "### Performance of TreeValue"
   ]
  },
  {
   "cell_type": "code",
   "execution_count": 19,
   "id": "a0c2b697",
   "metadata": {
    "execution": {
     "iopub.execute_input": "2023-02-27T09:48:55.294180Z",
     "iopub.status.busy": "2023-02-27T09:48:55.293267Z",
     "iopub.status.idle": "2023-02-27T09:48:55.299298Z",
     "shell.execute_reply": "2023-02-27T09:48:55.298274Z"
    }
   },
   "outputs": [],
   "source": [
    "trees = [FastTreeValue(_TREE_DATA_2) for _ in range(8)]"
   ]
  },
  {
   "cell_type": "code",
   "execution_count": 20,
   "id": "017ea5a5",
   "metadata": {
    "execution": {
     "iopub.execute_input": "2023-02-27T09:48:55.303319Z",
     "iopub.status.busy": "2023-02-27T09:48:55.302758Z",
     "iopub.status.idle": "2023-02-27T09:48:55.313855Z",
     "shell.execute_reply": "2023-02-27T09:48:55.312964Z"
    }
   },
   "outputs": [
    {
     "data": {
      "text/plain": [
       "<FastTreeValue 0x7f1c482c9070>\n",
       "├── 'a' --> tensor([[[-0.6229,  0.3926,  1.5458],\n",
       "│                    [-3.1575, -0.4036,  0.6150]],\n",
       "│           \n",
       "│                   [[-0.6229,  0.3926,  1.5458],\n",
       "│                    [-3.1575, -0.4036,  0.6150]],\n",
       "│           \n",
       "│                   [[-0.6229,  0.3926,  1.5458],\n",
       "│                    [-3.1575, -0.4036,  0.6150]],\n",
       "│           \n",
       "│                   [[-0.6229,  0.3926,  1.5458],\n",
       "│                    [-3.1575, -0.4036,  0.6150]],\n",
       "│           \n",
       "│                   [[-0.6229,  0.3926,  1.5458],\n",
       "│                    [-3.1575, -0.4036,  0.6150]],\n",
       "│           \n",
       "│                   [[-0.6229,  0.3926,  1.5458],\n",
       "│                    [-3.1575, -0.4036,  0.6150]],\n",
       "│           \n",
       "│                   [[-0.6229,  0.3926,  1.5458],\n",
       "│                    [-3.1575, -0.4036,  0.6150]],\n",
       "│           \n",
       "│                   [[-0.6229,  0.3926,  1.5458],\n",
       "│                    [-3.1575, -0.4036,  0.6150]]])\n",
       "└── 'x' --> <FastTreeValue 0x7f1c70de15e0>\n",
       "    └── 'c' --> tensor([[[-1.3074,  0.4224,  0.0233, -0.3198],\n",
       "                         [ 3.0833, -0.0444,  1.1010, -0.4820],\n",
       "                         [ 0.9603,  0.6458, -0.2244,  0.9467]],\n",
       "                \n",
       "                        [[-1.3074,  0.4224,  0.0233, -0.3198],\n",
       "                         [ 3.0833, -0.0444,  1.1010, -0.4820],\n",
       "                         [ 0.9603,  0.6458, -0.2244,  0.9467]],\n",
       "                \n",
       "                        [[-1.3074,  0.4224,  0.0233, -0.3198],\n",
       "                         [ 3.0833, -0.0444,  1.1010, -0.4820],\n",
       "                         [ 0.9603,  0.6458, -0.2244,  0.9467]],\n",
       "                \n",
       "                        [[-1.3074,  0.4224,  0.0233, -0.3198],\n",
       "                         [ 3.0833, -0.0444,  1.1010, -0.4820],\n",
       "                         [ 0.9603,  0.6458, -0.2244,  0.9467]],\n",
       "                \n",
       "                        [[-1.3074,  0.4224,  0.0233, -0.3198],\n",
       "                         [ 3.0833, -0.0444,  1.1010, -0.4820],\n",
       "                         [ 0.9603,  0.6458, -0.2244,  0.9467]],\n",
       "                \n",
       "                        [[-1.3074,  0.4224,  0.0233, -0.3198],\n",
       "                         [ 3.0833, -0.0444,  1.1010, -0.4820],\n",
       "                         [ 0.9603,  0.6458, -0.2244,  0.9467]],\n",
       "                \n",
       "                        [[-1.3074,  0.4224,  0.0233, -0.3198],\n",
       "                         [ 3.0833, -0.0444,  1.1010, -0.4820],\n",
       "                         [ 0.9603,  0.6458, -0.2244,  0.9467]],\n",
       "                \n",
       "                        [[-1.3074,  0.4224,  0.0233, -0.3198],\n",
       "                         [ 3.0833, -0.0444,  1.1010, -0.4820],\n",
       "                         [ 0.9603,  0.6458, -0.2244,  0.9467]]])"
      ]
     },
     "execution_count": 20,
     "metadata": {},
     "output_type": "execute_result"
    }
   ],
   "source": [
    "t_stack = FastTreeValue.func(subside=True)(torch.stack)\n",
    "\n",
    "t_stack(trees)"
   ]
  },
  {
   "cell_type": "code",
   "execution_count": 21,
   "id": "f8b3f415",
   "metadata": {
    "execution": {
     "iopub.execute_input": "2023-02-27T09:48:55.317532Z",
     "iopub.status.busy": "2023-02-27T09:48:55.317069Z",
     "iopub.status.idle": "2023-02-27T09:48:59.422431Z",
     "shell.execute_reply": "2023-02-27T09:48:59.421348Z"
    }
   },
   "outputs": [
    {
     "name": "stdout",
     "output_type": "stream",
     "text": [
      "50.4 µs ± 512 ns per loop (mean ± std. dev. of 7 runs, 10,000 loops each)\n"
     ]
    }
   ],
   "source": [
    "%timeit t_stack(trees)"
   ]
  },
  {
   "cell_type": "code",
   "execution_count": 22,
   "id": "94b56771",
   "metadata": {
    "execution": {
     "iopub.execute_input": "2023-02-27T09:48:59.426456Z",
     "iopub.status.busy": "2023-02-27T09:48:59.425867Z",
     "iopub.status.idle": "2023-02-27T09:48:59.436564Z",
     "shell.execute_reply": "2023-02-27T09:48:59.435592Z"
    }
   },
   "outputs": [
    {
     "data": {
      "text/plain": [
       "<FastTreeValue 0x7f1c70de1af0>\n",
       "├── 'a' --> tensor([[-0.6229,  0.3926,  1.5458],\n",
       "│                   [-3.1575, -0.4036,  0.6150],\n",
       "│                   [-0.6229,  0.3926,  1.5458],\n",
       "│                   [-3.1575, -0.4036,  0.6150],\n",
       "│                   [-0.6229,  0.3926,  1.5458],\n",
       "│                   [-3.1575, -0.4036,  0.6150],\n",
       "│                   [-0.6229,  0.3926,  1.5458],\n",
       "│                   [-3.1575, -0.4036,  0.6150],\n",
       "│                   [-0.6229,  0.3926,  1.5458],\n",
       "│                   [-3.1575, -0.4036,  0.6150],\n",
       "│                   [-0.6229,  0.3926,  1.5458],\n",
       "│                   [-3.1575, -0.4036,  0.6150],\n",
       "│                   [-0.6229,  0.3926,  1.5458],\n",
       "│                   [-3.1575, -0.4036,  0.6150],\n",
       "│                   [-0.6229,  0.3926,  1.5458],\n",
       "│                   [-3.1575, -0.4036,  0.6150]])\n",
       "└── 'x' --> <FastTreeValue 0x7f1c70de1e50>\n",
       "    └── 'c' --> tensor([[-1.3074,  0.4224,  0.0233, -0.3198],\n",
       "                        [ 3.0833, -0.0444,  1.1010, -0.4820],\n",
       "                        [ 0.9603,  0.6458, -0.2244,  0.9467],\n",
       "                        [-1.3074,  0.4224,  0.0233, -0.3198],\n",
       "                        [ 3.0833, -0.0444,  1.1010, -0.4820],\n",
       "                        [ 0.9603,  0.6458, -0.2244,  0.9467],\n",
       "                        [-1.3074,  0.4224,  0.0233, -0.3198],\n",
       "                        [ 3.0833, -0.0444,  1.1010, -0.4820],\n",
       "                        [ 0.9603,  0.6458, -0.2244,  0.9467],\n",
       "                        [-1.3074,  0.4224,  0.0233, -0.3198],\n",
       "                        [ 3.0833, -0.0444,  1.1010, -0.4820],\n",
       "                        [ 0.9603,  0.6458, -0.2244,  0.9467],\n",
       "                        [-1.3074,  0.4224,  0.0233, -0.3198],\n",
       "                        [ 3.0833, -0.0444,  1.1010, -0.4820],\n",
       "                        [ 0.9603,  0.6458, -0.2244,  0.9467],\n",
       "                        [-1.3074,  0.4224,  0.0233, -0.3198],\n",
       "                        [ 3.0833, -0.0444,  1.1010, -0.4820],\n",
       "                        [ 0.9603,  0.6458, -0.2244,  0.9467],\n",
       "                        [-1.3074,  0.4224,  0.0233, -0.3198],\n",
       "                        [ 3.0833, -0.0444,  1.1010, -0.4820],\n",
       "                        [ 0.9603,  0.6458, -0.2244,  0.9467],\n",
       "                        [-1.3074,  0.4224,  0.0233, -0.3198],\n",
       "                        [ 3.0833, -0.0444,  1.1010, -0.4820],\n",
       "                        [ 0.9603,  0.6458, -0.2244,  0.9467]])"
      ]
     },
     "execution_count": 22,
     "metadata": {},
     "output_type": "execute_result"
    }
   ],
   "source": [
    "t_cat = FastTreeValue.func(subside=True)(torch.cat)\n",
    "\n",
    "t_cat(trees)"
   ]
  },
  {
   "cell_type": "code",
   "execution_count": 23,
   "id": "5e9c06a6",
   "metadata": {
    "execution": {
     "iopub.execute_input": "2023-02-27T09:48:59.441172Z",
     "iopub.status.busy": "2023-02-27T09:48:59.440268Z",
     "iopub.status.idle": "2023-02-27T09:49:03.172805Z",
     "shell.execute_reply": "2023-02-27T09:49:03.171735Z"
    }
   },
   "outputs": [
    {
     "name": "stdout",
     "output_type": "stream",
     "text": [
      "46.1 µs ± 1.3 µs per loop (mean ± std. dev. of 7 runs, 10,000 loops each)\n"
     ]
    }
   ],
   "source": [
    "%timeit t_cat(trees)"
   ]
  },
  {
   "cell_type": "code",
   "execution_count": 24,
   "id": "a3ab5c8f",
   "metadata": {
    "execution": {
     "iopub.execute_input": "2023-02-27T09:49:03.176719Z",
     "iopub.status.busy": "2023-02-27T09:49:03.176352Z",
     "iopub.status.idle": "2023-02-27T09:49:10.389712Z",
     "shell.execute_reply": "2023-02-27T09:49:10.388547Z"
    }
   },
   "outputs": [
    {
     "name": "stdout",
     "output_type": "stream",
     "text": [
      "88.7 µs ± 1.34 µs per loop (mean ± std. dev. of 7 runs, 10,000 loops each)\n"
     ]
    }
   ],
   "source": [
    "t_split = FastTreeValue.func(rise=True)(torch.split)\n",
    "tree = FastTreeValue({\n",
    "    'obs': torch.randn(8, 4, 84, 84),\n",
    "    'action': torch.randint(0, 6, size=(8, 1,)),\n",
    "    'reward': torch.rand(8, 1),\n",
    "})\n",
    "\n",
    "%timeit t_split(tree, 1)"
   ]
  },
  {
   "cell_type": "markdown",
   "id": "31c3ec0b",
   "metadata": {},
   "source": [
    "### Performance of Tianshou Batch"
   ]
  },
  {
   "cell_type": "code",
   "execution_count": 25,
   "id": "9ead828a",
   "metadata": {
    "execution": {
     "iopub.execute_input": "2023-02-27T09:49:10.393882Z",
     "iopub.status.busy": "2023-02-27T09:49:10.393251Z",
     "iopub.status.idle": "2023-02-27T09:49:10.403447Z",
     "shell.execute_reply": "2023-02-27T09:49:10.402385Z"
    }
   },
   "outputs": [
    {
     "data": {
      "text/plain": [
       "Batch(\n",
       "    a: tensor([[[-0.6229,  0.3926,  1.5458],\n",
       "                [-3.1575, -0.4036,  0.6150]],\n",
       "       \n",
       "               [[-0.6229,  0.3926,  1.5458],\n",
       "                [-3.1575, -0.4036,  0.6150]],\n",
       "       \n",
       "               [[-0.6229,  0.3926,  1.5458],\n",
       "                [-3.1575, -0.4036,  0.6150]],\n",
       "       \n",
       "               [[-0.6229,  0.3926,  1.5458],\n",
       "                [-3.1575, -0.4036,  0.6150]],\n",
       "       \n",
       "               [[-0.6229,  0.3926,  1.5458],\n",
       "                [-3.1575, -0.4036,  0.6150]],\n",
       "       \n",
       "               [[-0.6229,  0.3926,  1.5458],\n",
       "                [-3.1575, -0.4036,  0.6150]],\n",
       "       \n",
       "               [[-0.6229,  0.3926,  1.5458],\n",
       "                [-3.1575, -0.4036,  0.6150]],\n",
       "       \n",
       "               [[-0.6229,  0.3926,  1.5458],\n",
       "                [-3.1575, -0.4036,  0.6150]]]),\n",
       "    x: Batch(\n",
       "           c: tensor([[[-1.3074,  0.4224,  0.0233, -0.3198],\n",
       "                       [ 3.0833, -0.0444,  1.1010, -0.4820],\n",
       "                       [ 0.9603,  0.6458, -0.2244,  0.9467]],\n",
       "              \n",
       "                      [[-1.3074,  0.4224,  0.0233, -0.3198],\n",
       "                       [ 3.0833, -0.0444,  1.1010, -0.4820],\n",
       "                       [ 0.9603,  0.6458, -0.2244,  0.9467]],\n",
       "              \n",
       "                      [[-1.3074,  0.4224,  0.0233, -0.3198],\n",
       "                       [ 3.0833, -0.0444,  1.1010, -0.4820],\n",
       "                       [ 0.9603,  0.6458, -0.2244,  0.9467]],\n",
       "              \n",
       "                      [[-1.3074,  0.4224,  0.0233, -0.3198],\n",
       "                       [ 3.0833, -0.0444,  1.1010, -0.4820],\n",
       "                       [ 0.9603,  0.6458, -0.2244,  0.9467]],\n",
       "              \n",
       "                      [[-1.3074,  0.4224,  0.0233, -0.3198],\n",
       "                       [ 3.0833, -0.0444,  1.1010, -0.4820],\n",
       "                       [ 0.9603,  0.6458, -0.2244,  0.9467]],\n",
       "              \n",
       "                      [[-1.3074,  0.4224,  0.0233, -0.3198],\n",
       "                       [ 3.0833, -0.0444,  1.1010, -0.4820],\n",
       "                       [ 0.9603,  0.6458, -0.2244,  0.9467]],\n",
       "              \n",
       "                      [[-1.3074,  0.4224,  0.0233, -0.3198],\n",
       "                       [ 3.0833, -0.0444,  1.1010, -0.4820],\n",
       "                       [ 0.9603,  0.6458, -0.2244,  0.9467]],\n",
       "              \n",
       "                      [[-1.3074,  0.4224,  0.0233, -0.3198],\n",
       "                       [ 3.0833, -0.0444,  1.1010, -0.4820],\n",
       "                       [ 0.9603,  0.6458, -0.2244,  0.9467]]]),\n",
       "       ),\n",
       ")"
      ]
     },
     "execution_count": 25,
     "metadata": {},
     "output_type": "execute_result"
    }
   ],
   "source": [
    "batches = [Batch(**_TREE_DATA_2) for _ in range(8)]\n",
    "\n",
    "Batch.stack(batches)"
   ]
  },
  {
   "cell_type": "code",
   "execution_count": 26,
   "id": "ec9037a3",
   "metadata": {
    "execution": {
     "iopub.execute_input": "2023-02-27T09:49:10.407134Z",
     "iopub.status.busy": "2023-02-27T09:49:10.406747Z",
     "iopub.status.idle": "2023-02-27T09:49:19.450563Z",
     "shell.execute_reply": "2023-02-27T09:49:19.449534Z"
    }
   },
   "outputs": [
    {
     "name": "stdout",
     "output_type": "stream",
     "text": [
      "111 µs ± 964 ns per loop (mean ± std. dev. of 7 runs, 10,000 loops each)\n"
     ]
    }
   ],
   "source": [
    "%timeit Batch.stack(batches)"
   ]
  },
  {
   "cell_type": "code",
   "execution_count": 27,
   "id": "cb8ab77e",
   "metadata": {
    "execution": {
     "iopub.execute_input": "2023-02-27T09:49:19.454911Z",
     "iopub.status.busy": "2023-02-27T09:49:19.454282Z",
     "iopub.status.idle": "2023-02-27T09:49:19.468944Z",
     "shell.execute_reply": "2023-02-27T09:49:19.462954Z"
    }
   },
   "outputs": [
    {
     "data": {
      "text/plain": [
       "Batch(\n",
       "    a: tensor([[-0.6229,  0.3926,  1.5458],\n",
       "               [-3.1575, -0.4036,  0.6150],\n",
       "               [-0.6229,  0.3926,  1.5458],\n",
       "               [-3.1575, -0.4036,  0.6150],\n",
       "               [-0.6229,  0.3926,  1.5458],\n",
       "               [-3.1575, -0.4036,  0.6150],\n",
       "               [-0.6229,  0.3926,  1.5458],\n",
       "               [-3.1575, -0.4036,  0.6150],\n",
       "               [-0.6229,  0.3926,  1.5458],\n",
       "               [-3.1575, -0.4036,  0.6150],\n",
       "               [-0.6229,  0.3926,  1.5458],\n",
       "               [-3.1575, -0.4036,  0.6150],\n",
       "               [-0.6229,  0.3926,  1.5458],\n",
       "               [-3.1575, -0.4036,  0.6150],\n",
       "               [-0.6229,  0.3926,  1.5458],\n",
       "               [-3.1575, -0.4036,  0.6150]]),\n",
       "    x: Batch(\n",
       "           c: tensor([[-1.3074,  0.4224,  0.0233, -0.3198],\n",
       "                      [ 3.0833, -0.0444,  1.1010, -0.4820],\n",
       "                      [ 0.9603,  0.6458, -0.2244,  0.9467],\n",
       "                      [-1.3074,  0.4224,  0.0233, -0.3198],\n",
       "                      [ 3.0833, -0.0444,  1.1010, -0.4820],\n",
       "                      [ 0.9603,  0.6458, -0.2244,  0.9467],\n",
       "                      [-1.3074,  0.4224,  0.0233, -0.3198],\n",
       "                      [ 3.0833, -0.0444,  1.1010, -0.4820],\n",
       "                      [ 0.9603,  0.6458, -0.2244,  0.9467],\n",
       "                      [-1.3074,  0.4224,  0.0233, -0.3198],\n",
       "                      [ 3.0833, -0.0444,  1.1010, -0.4820],\n",
       "                      [ 0.9603,  0.6458, -0.2244,  0.9467],\n",
       "                      [-1.3074,  0.4224,  0.0233, -0.3198],\n",
       "                      [ 3.0833, -0.0444,  1.1010, -0.4820],\n",
       "                      [ 0.9603,  0.6458, -0.2244,  0.9467],\n",
       "                      [-1.3074,  0.4224,  0.0233, -0.3198],\n",
       "                      [ 3.0833, -0.0444,  1.1010, -0.4820],\n",
       "                      [ 0.9603,  0.6458, -0.2244,  0.9467],\n",
       "                      [-1.3074,  0.4224,  0.0233, -0.3198],\n",
       "                      [ 3.0833, -0.0444,  1.1010, -0.4820],\n",
       "                      [ 0.9603,  0.6458, -0.2244,  0.9467],\n",
       "                      [-1.3074,  0.4224,  0.0233, -0.3198],\n",
       "                      [ 3.0833, -0.0444,  1.1010, -0.4820],\n",
       "                      [ 0.9603,  0.6458, -0.2244,  0.9467]]),\n",
       "       ),\n",
       ")"
      ]
     },
     "execution_count": 27,
     "metadata": {},
     "output_type": "execute_result"
    }
   ],
   "source": [
    "Batch.cat(batches)"
   ]
  },
  {
   "cell_type": "code",
   "execution_count": 28,
   "id": "18dfb045",
   "metadata": {
    "execution": {
     "iopub.execute_input": "2023-02-27T09:49:19.472736Z",
     "iopub.status.busy": "2023-02-27T09:49:19.472261Z",
     "iopub.status.idle": "2023-02-27T09:49:35.697516Z",
     "shell.execute_reply": "2023-02-27T09:49:35.695439Z"
    }
   },
   "outputs": [
    {
     "name": "stdout",
     "output_type": "stream",
     "text": [
      "200 µs ± 2.23 µs per loop (mean ± std. dev. of 7 runs, 10,000 loops each)\n"
     ]
    }
   ],
   "source": [
    "%timeit Batch.cat(batches)"
   ]
  },
  {
   "cell_type": "code",
   "execution_count": 29,
   "id": "c6688e51",
   "metadata": {
    "execution": {
     "iopub.execute_input": "2023-02-27T09:49:35.701626Z",
     "iopub.status.busy": "2023-02-27T09:49:35.701278Z",
     "iopub.status.idle": "2023-02-27T09:49:40.782510Z",
     "shell.execute_reply": "2023-02-27T09:49:40.781533Z"
    }
   },
   "outputs": [
    {
     "name": "stdout",
     "output_type": "stream",
     "text": [
      "624 µs ± 14.8 µs per loop (mean ± std. dev. of 7 runs, 1,000 loops each)\n"
     ]
    }
   ],
   "source": [
    "batch = Batch({\n",
    "    'obs': torch.randn(8, 4, 84, 84),\n",
    "    'action': torch.randint(0, 6, size=(8, 1,)),\n",
    "    'reward': torch.rand(8, 1)}\n",
    ")\n",
    "\n",
    "%timeit list(Batch.split(batch, 1, shuffle=False, merge_last=True))"
   ]
  },
  {
   "cell_type": "code",
   "execution_count": null,
   "id": "2539fbd9",
   "metadata": {},
   "outputs": [],
   "source": []
  }
 ],
 "metadata": {
  "kernelspec": {
   "display_name": "Python 3 (ipykernel)",
   "language": "python",
   "name": "python3"
  },
  "language_info": {
   "codemirror_mode": {
    "name": "ipython",
    "version": 3
   },
   "file_extension": ".py",
   "mimetype": "text/x-python",
   "name": "python",
   "nbconvert_exporter": "python",
   "pygments_lexer": "ipython3",
   "version": "3.8.16"
  }
 },
 "nbformat": 4,
 "nbformat_minor": 5
}
