{
 "cells": [
  {
   "cell_type": "markdown",
   "id": "9d39d946",
   "metadata": {},
   "source": [
    "# Comparison Between TreeValue and Tianshou Batch"
   ]
  },
  {
   "cell_type": "markdown",
   "id": "3c6db2d4",
   "metadata": {},
   "source": [
    "In this section, we will take a look at the feature and performance of the [Tianshou Batch](https://github.com/thu-ml/tianshou) library, which is developed by Tsinghua Machine Learning Group."
   ]
  },
  {
   "cell_type": "markdown",
   "id": "069361b0",
   "metadata": {},
   "source": [
    "Before starting the comparison, let us define some thing."
   ]
  },
  {
   "cell_type": "code",
   "execution_count": 1,
   "id": "06fc8d26",
   "metadata": {
    "execution": {
     "iopub.execute_input": "2023-02-27T12:44:46.290064Z",
     "iopub.status.busy": "2023-02-27T12:44:46.289661Z",
     "iopub.status.idle": "2023-02-27T12:44:47.263430Z",
     "shell.execute_reply": "2023-02-27T12:44:47.261930Z"
    }
   },
   "outputs": [
    {
     "name": "stderr",
     "output_type": "stream",
     "text": [
      "/opt/hostedtoolcache/Python/3.8.16/x64/lib/python3.8/site-packages/tqdm/auto.py:22: TqdmWarning: IProgress not found. Please update jupyter and ipywidgets. See https://ipywidgets.readthedocs.io/en/stable/user_install.html\n",
      "  from .autonotebook import tqdm as notebook_tqdm\n"
     ]
    }
   ],
   "source": [
    "import torch \n",
    "\n",
    "_TREE_DATA_1 = {'a': 1, 'b': 2, 'x': {'c': 3, 'd': 4}}\n",
    "_TREE_DATA_2 = {\n",
    "    'a': torch.randn(2, 3), \n",
    "    'x': {\n",
    "        'c': torch.randn(3, 4)\n",
    "    },\n",
    "}\n",
    "_TREE_DATA_3 = {\n",
    "    'obs': torch.randn(4, 84, 84),\n",
    "    'action': torch.randint(0, 6, size=(1,)),\n",
    "    'reward': torch.rand(1),\n",
    "}"
   ]
  },
  {
   "cell_type": "markdown",
   "id": "83461b25",
   "metadata": {},
   "source": [
    "## Read and Write Operation"
   ]
  },
  {
   "cell_type": "markdown",
   "id": "067b3f73",
   "metadata": {},
   "source": [
    "Reading and writing are the two most common operations in the tree data structure based on the data model (TreeValue and Tianshou Batch both belong to this type), so this section will compare the reading and writing performance of these two libraries."
   ]
  },
  {
   "cell_type": "markdown",
   "id": "5d09a5b7",
   "metadata": {},
   "source": [
    "### TreeValue's Get and Set"
   ]
  },
  {
   "cell_type": "code",
   "execution_count": 2,
   "id": "9519c4bb",
   "metadata": {
    "execution": {
     "iopub.execute_input": "2023-02-27T12:44:47.267285Z",
     "iopub.status.busy": "2023-02-27T12:44:47.266745Z",
     "iopub.status.idle": "2023-02-27T12:44:47.554850Z",
     "shell.execute_reply": "2023-02-27T12:44:47.553956Z"
    }
   },
   "outputs": [],
   "source": [
    "from treevalue import FastTreeValue\n",
    "\n",
    "t = FastTreeValue(_TREE_DATA_2)"
   ]
  },
  {
   "cell_type": "code",
   "execution_count": 3,
   "id": "11c37677",
   "metadata": {
    "execution": {
     "iopub.execute_input": "2023-02-27T12:44:47.558709Z",
     "iopub.status.busy": "2023-02-27T12:44:47.558218Z",
     "iopub.status.idle": "2023-02-27T12:44:47.568747Z",
     "shell.execute_reply": "2023-02-27T12:44:47.568143Z"
    }
   },
   "outputs": [
    {
     "data": {
      "text/plain": [
       "<FastTreeValue 0x7f6708321f70>\n",
       "├── 'a' --> tensor([[ 2.0359,  0.0232,  0.6186],\n",
       "│                   [ 1.7094, -0.1522,  0.2298]])\n",
       "└── 'x' --> <FastTreeValue 0x7f6708321f40>\n",
       "    └── 'c' --> tensor([[-0.0558,  0.3715,  0.0592, -0.6423],\n",
       "                        [-1.7712,  0.4956,  0.3124,  0.7022],\n",
       "                        [-0.3167,  1.1362, -1.2945,  1.1934]])"
      ]
     },
     "execution_count": 3,
     "metadata": {},
     "output_type": "execute_result"
    }
   ],
   "source": [
    "t"
   ]
  },
  {
   "cell_type": "code",
   "execution_count": 4,
   "id": "fd70b0b9",
   "metadata": {
    "execution": {
     "iopub.execute_input": "2023-02-27T12:44:47.571558Z",
     "iopub.status.busy": "2023-02-27T12:44:47.571220Z",
     "iopub.status.idle": "2023-02-27T12:44:47.577273Z",
     "shell.execute_reply": "2023-02-27T12:44:47.576421Z"
    }
   },
   "outputs": [
    {
     "data": {
      "text/plain": [
       "tensor([[ 2.0359,  0.0232,  0.6186],\n",
       "        [ 1.7094, -0.1522,  0.2298]])"
      ]
     },
     "execution_count": 4,
     "metadata": {},
     "output_type": "execute_result"
    }
   ],
   "source": [
    "t.a"
   ]
  },
  {
   "cell_type": "code",
   "execution_count": 5,
   "id": "c18197bd",
   "metadata": {
    "execution": {
     "iopub.execute_input": "2023-02-27T12:44:47.580084Z",
     "iopub.status.busy": "2023-02-27T12:44:47.579668Z",
     "iopub.status.idle": "2023-02-27T12:44:52.664058Z",
     "shell.execute_reply": "2023-02-27T12:44:52.663186Z"
    }
   },
   "outputs": [
    {
     "name": "stdout",
     "output_type": "stream",
     "text": [
      "62.5 ns ± 0.103 ns per loop (mean ± std. dev. of 7 runs, 10,000,000 loops each)\n"
     ]
    }
   ],
   "source": [
    "%timeit t.a"
   ]
  },
  {
   "cell_type": "code",
   "execution_count": 6,
   "id": "bd52f867",
   "metadata": {
    "execution": {
     "iopub.execute_input": "2023-02-27T12:44:52.667758Z",
     "iopub.status.busy": "2023-02-27T12:44:52.667340Z",
     "iopub.status.idle": "2023-02-27T12:44:52.675051Z",
     "shell.execute_reply": "2023-02-27T12:44:52.674414Z"
    }
   },
   "outputs": [
    {
     "data": {
      "text/plain": [
       "<FastTreeValue 0x7f6708321f70>\n",
       "├── 'a' --> tensor([[-0.3736, -0.0759, -0.0618],\n",
       "│                   [-0.0675,  0.7589,  1.4566]])\n",
       "└── 'x' --> <FastTreeValue 0x7f6708321f40>\n",
       "    └── 'c' --> tensor([[-0.0558,  0.3715,  0.0592, -0.6423],\n",
       "                        [-1.7712,  0.4956,  0.3124,  0.7022],\n",
       "                        [-0.3167,  1.1362, -1.2945,  1.1934]])"
      ]
     },
     "execution_count": 6,
     "metadata": {},
     "output_type": "execute_result"
    }
   ],
   "source": [
    "new_value = torch.randn(2, 3)\n",
    "t.a = new_value\n",
    "\n",
    "t"
   ]
  },
  {
   "cell_type": "code",
   "execution_count": 7,
   "id": "bbe04d1c",
   "metadata": {
    "execution": {
     "iopub.execute_input": "2023-02-27T12:44:52.678035Z",
     "iopub.status.busy": "2023-02-27T12:44:52.677657Z",
     "iopub.status.idle": "2023-02-27T12:44:58.094643Z",
     "shell.execute_reply": "2023-02-27T12:44:58.093738Z"
    }
   },
   "outputs": [
    {
     "name": "stdout",
     "output_type": "stream",
     "text": [
      "66.7 ns ± 0.0609 ns per loop (mean ± std. dev. of 7 runs, 10,000,000 loops each)\n"
     ]
    }
   ],
   "source": [
    "%timeit t.a = new_value"
   ]
  },
  {
   "cell_type": "markdown",
   "id": "48c49731",
   "metadata": {},
   "source": [
    "### Tianshou Batch's Get and Set"
   ]
  },
  {
   "cell_type": "code",
   "execution_count": 8,
   "id": "f1bb14c1",
   "metadata": {
    "execution": {
     "iopub.execute_input": "2023-02-27T12:44:58.098377Z",
     "iopub.status.busy": "2023-02-27T12:44:58.097738Z",
     "iopub.status.idle": "2023-02-27T12:44:58.467615Z",
     "shell.execute_reply": "2023-02-27T12:44:58.466243Z"
    }
   },
   "outputs": [],
   "source": [
    "from tianshou.data import Batch\n",
    "\n",
    "b = Batch(**_TREE_DATA_2)"
   ]
  },
  {
   "cell_type": "code",
   "execution_count": 9,
   "id": "cb0777c3",
   "metadata": {
    "execution": {
     "iopub.execute_input": "2023-02-27T12:44:58.471475Z",
     "iopub.status.busy": "2023-02-27T12:44:58.470964Z",
     "iopub.status.idle": "2023-02-27T12:44:58.478155Z",
     "shell.execute_reply": "2023-02-27T12:44:58.477117Z"
    }
   },
   "outputs": [
    {
     "data": {
      "text/plain": [
       "Batch(\n",
       "    a: tensor([[ 2.0359,  0.0232,  0.6186],\n",
       "               [ 1.7094, -0.1522,  0.2298]]),\n",
       "    x: Batch(\n",
       "           c: tensor([[-0.0558,  0.3715,  0.0592, -0.6423],\n",
       "                      [-1.7712,  0.4956,  0.3124,  0.7022],\n",
       "                      [-0.3167,  1.1362, -1.2945,  1.1934]]),\n",
       "       ),\n",
       ")"
      ]
     },
     "execution_count": 9,
     "metadata": {},
     "output_type": "execute_result"
    }
   ],
   "source": [
    "b"
   ]
  },
  {
   "cell_type": "code",
   "execution_count": 10,
   "id": "43ef8ea3",
   "metadata": {
    "execution": {
     "iopub.execute_input": "2023-02-27T12:44:58.480833Z",
     "iopub.status.busy": "2023-02-27T12:44:58.480416Z",
     "iopub.status.idle": "2023-02-27T12:44:58.485879Z",
     "shell.execute_reply": "2023-02-27T12:44:58.485291Z"
    }
   },
   "outputs": [
    {
     "data": {
      "text/plain": [
       "tensor([[ 2.0359,  0.0232,  0.6186],\n",
       "        [ 1.7094, -0.1522,  0.2298]])"
      ]
     },
     "execution_count": 10,
     "metadata": {},
     "output_type": "execute_result"
    }
   ],
   "source": [
    "b.a"
   ]
  },
  {
   "cell_type": "code",
   "execution_count": 11,
   "id": "b785ab72",
   "metadata": {
    "execution": {
     "iopub.execute_input": "2023-02-27T12:44:58.488694Z",
     "iopub.status.busy": "2023-02-27T12:44:58.488356Z",
     "iopub.status.idle": "2023-02-27T12:45:03.249867Z",
     "shell.execute_reply": "2023-02-27T12:45:03.249089Z"
    }
   },
   "outputs": [
    {
     "name": "stdout",
     "output_type": "stream",
     "text": [
      "58.6 ns ± 0.124 ns per loop (mean ± std. dev. of 7 runs, 10,000,000 loops each)\n"
     ]
    }
   ],
   "source": [
    "%timeit b.a"
   ]
  },
  {
   "cell_type": "code",
   "execution_count": 12,
   "id": "ad54dc69",
   "metadata": {
    "execution": {
     "iopub.execute_input": "2023-02-27T12:45:03.253475Z",
     "iopub.status.busy": "2023-02-27T12:45:03.252933Z",
     "iopub.status.idle": "2023-02-27T12:45:03.259948Z",
     "shell.execute_reply": "2023-02-27T12:45:03.259307Z"
    }
   },
   "outputs": [
    {
     "data": {
      "text/plain": [
       "Batch(\n",
       "    a: tensor([[ 1.7691, -0.5225, -0.8413],\n",
       "               [ 0.9592,  1.0582,  0.4506]]),\n",
       "    x: Batch(\n",
       "           c: tensor([[-0.0558,  0.3715,  0.0592, -0.6423],\n",
       "                      [-1.7712,  0.4956,  0.3124,  0.7022],\n",
       "                      [-0.3167,  1.1362, -1.2945,  1.1934]]),\n",
       "       ),\n",
       ")"
      ]
     },
     "execution_count": 12,
     "metadata": {},
     "output_type": "execute_result"
    }
   ],
   "source": [
    "new_value = torch.randn(2, 3)\n",
    "b.a = new_value\n",
    "\n",
    "b"
   ]
  },
  {
   "cell_type": "code",
   "execution_count": 13,
   "id": "29b1d0bf",
   "metadata": {
    "execution": {
     "iopub.execute_input": "2023-02-27T12:45:03.262868Z",
     "iopub.status.busy": "2023-02-27T12:45:03.262484Z",
     "iopub.status.idle": "2023-02-27T12:45:07.253759Z",
     "shell.execute_reply": "2023-02-27T12:45:07.252830Z"
    }
   },
   "outputs": [
    {
     "name": "stdout",
     "output_type": "stream",
     "text": [
      "490 ns ± 0.0877 ns per loop (mean ± std. dev. of 7 runs, 1,000,000 loops each)\n"
     ]
    }
   ],
   "source": [
    "%timeit b.a = new_value"
   ]
  },
  {
   "cell_type": "markdown",
   "id": "b61ad1d0",
   "metadata": {},
   "source": [
    "## Initialization"
   ]
  },
  {
   "cell_type": "markdown",
   "id": "d70f0d54",
   "metadata": {},
   "source": [
    "### TreeValue's Initialization"
   ]
  },
  {
   "cell_type": "code",
   "execution_count": 14,
   "id": "d32a679b",
   "metadata": {
    "execution": {
     "iopub.execute_input": "2023-02-27T12:45:07.257229Z",
     "iopub.status.busy": "2023-02-27T12:45:07.256673Z",
     "iopub.status.idle": "2023-02-27T12:45:13.860234Z",
     "shell.execute_reply": "2023-02-27T12:45:13.859212Z"
    }
   },
   "outputs": [
    {
     "name": "stdout",
     "output_type": "stream",
     "text": [
      "814 ns ± 0.165 ns per loop (mean ± std. dev. of 7 runs, 1,000,000 loops each)\n"
     ]
    }
   ],
   "source": [
    "%timeit FastTreeValue(_TREE_DATA_1)"
   ]
  },
  {
   "cell_type": "markdown",
   "id": "24f3707b",
   "metadata": {},
   "source": [
    "### Tianshou Batch's Initialization"
   ]
  },
  {
   "cell_type": "code",
   "execution_count": 15,
   "id": "ac3958df",
   "metadata": {
    "execution": {
     "iopub.execute_input": "2023-02-27T12:45:13.863543Z",
     "iopub.status.busy": "2023-02-27T12:45:13.863031Z",
     "iopub.status.idle": "2023-02-27T12:45:22.744282Z",
     "shell.execute_reply": "2023-02-27T12:45:22.743282Z"
    }
   },
   "outputs": [
    {
     "name": "stdout",
     "output_type": "stream",
     "text": [
      "11 µs ± 19.5 ns per loop (mean ± std. dev. of 7 runs, 100,000 loops each)\n"
     ]
    }
   ],
   "source": [
    "%timeit Batch(**_TREE_DATA_1)"
   ]
  },
  {
   "cell_type": "markdown",
   "id": "1ab82e2d",
   "metadata": {},
   "source": [
    "## Deep Copy Operation"
   ]
  },
  {
   "cell_type": "code",
   "execution_count": 16,
   "id": "210a9442",
   "metadata": {
    "execution": {
     "iopub.execute_input": "2023-02-27T12:45:22.747735Z",
     "iopub.status.busy": "2023-02-27T12:45:22.747321Z",
     "iopub.status.idle": "2023-02-27T12:45:22.752219Z",
     "shell.execute_reply": "2023-02-27T12:45:22.751125Z"
    }
   },
   "outputs": [],
   "source": [
    "import copy"
   ]
  },
  {
   "cell_type": "markdown",
   "id": "5a736274",
   "metadata": {},
   "source": [
    "### Deep Copy of TreeValue"
   ]
  },
  {
   "cell_type": "code",
   "execution_count": 17,
   "id": "f9bcadd6",
   "metadata": {
    "execution": {
     "iopub.execute_input": "2023-02-27T12:45:22.755161Z",
     "iopub.status.busy": "2023-02-27T12:45:22.754653Z",
     "iopub.status.idle": "2023-02-27T12:45:34.503928Z",
     "shell.execute_reply": "2023-02-27T12:45:34.502765Z"
    }
   },
   "outputs": [
    {
     "name": "stdout",
     "output_type": "stream",
     "text": [
      "145 µs ± 1.42 µs per loop (mean ± std. dev. of 7 runs, 10,000 loops each)\n"
     ]
    }
   ],
   "source": [
    "t3 = FastTreeValue(_TREE_DATA_3)\n",
    "%timeit copy.deepcopy(t3)"
   ]
  },
  {
   "cell_type": "markdown",
   "id": "bf8be7ea",
   "metadata": {},
   "source": [
    "### Deep Copy of Tianshou Batch"
   ]
  },
  {
   "cell_type": "code",
   "execution_count": 18,
   "id": "91998e6f",
   "metadata": {
    "execution": {
     "iopub.execute_input": "2023-02-27T12:45:34.507081Z",
     "iopub.status.busy": "2023-02-27T12:45:34.506830Z",
     "iopub.status.idle": "2023-02-27T12:45:46.295707Z",
     "shell.execute_reply": "2023-02-27T12:45:46.294605Z"
    }
   },
   "outputs": [
    {
     "name": "stdout",
     "output_type": "stream",
     "text": [
      "145 µs ± 469 ns per loop (mean ± std. dev. of 7 runs, 10,000 loops each)\n"
     ]
    }
   ],
   "source": [
    "b3 = Batch(**_TREE_DATA_3)\n",
    "%timeit copy.deepcopy(b3)"
   ]
  },
  {
   "cell_type": "markdown",
   "id": "223162fb",
   "metadata": {},
   "source": [
    "## Stack, Concat and Split Operation"
   ]
  },
  {
   "cell_type": "markdown",
   "id": "85fa4a73",
   "metadata": {},
   "source": [
    "### Performance of TreeValue"
   ]
  },
  {
   "cell_type": "code",
   "execution_count": 19,
   "id": "a0c2b697",
   "metadata": {
    "execution": {
     "iopub.execute_input": "2023-02-27T12:45:46.299062Z",
     "iopub.status.busy": "2023-02-27T12:45:46.298656Z",
     "iopub.status.idle": "2023-02-27T12:45:46.304327Z",
     "shell.execute_reply": "2023-02-27T12:45:46.302625Z"
    }
   },
   "outputs": [],
   "source": [
    "trees = [FastTreeValue(_TREE_DATA_2) for _ in range(8)]"
   ]
  },
  {
   "cell_type": "code",
   "execution_count": 20,
   "id": "017ea5a5",
   "metadata": {
    "execution": {
     "iopub.execute_input": "2023-02-27T12:45:46.307892Z",
     "iopub.status.busy": "2023-02-27T12:45:46.307436Z",
     "iopub.status.idle": "2023-02-27T12:45:46.316775Z",
     "shell.execute_reply": "2023-02-27T12:45:46.315434Z"
    }
   },
   "outputs": [
    {
     "data": {
      "text/plain": [
       "<FastTreeValue 0x7f66505abf40>\n",
       "├── 'a' --> tensor([[[ 2.0359,  0.0232,  0.6186],\n",
       "│                    [ 1.7094, -0.1522,  0.2298]],\n",
       "│           \n",
       "│                   [[ 2.0359,  0.0232,  0.6186],\n",
       "│                    [ 1.7094, -0.1522,  0.2298]],\n",
       "│           \n",
       "│                   [[ 2.0359,  0.0232,  0.6186],\n",
       "│                    [ 1.7094, -0.1522,  0.2298]],\n",
       "│           \n",
       "│                   [[ 2.0359,  0.0232,  0.6186],\n",
       "│                    [ 1.7094, -0.1522,  0.2298]],\n",
       "│           \n",
       "│                   [[ 2.0359,  0.0232,  0.6186],\n",
       "│                    [ 1.7094, -0.1522,  0.2298]],\n",
       "│           \n",
       "│                   [[ 2.0359,  0.0232,  0.6186],\n",
       "│                    [ 1.7094, -0.1522,  0.2298]],\n",
       "│           \n",
       "│                   [[ 2.0359,  0.0232,  0.6186],\n",
       "│                    [ 1.7094, -0.1522,  0.2298]],\n",
       "│           \n",
       "│                   [[ 2.0359,  0.0232,  0.6186],\n",
       "│                    [ 1.7094, -0.1522,  0.2298]]])\n",
       "└── 'x' --> <FastTreeValue 0x7f66505d3f40>\n",
       "    └── 'c' --> tensor([[[-0.0558,  0.3715,  0.0592, -0.6423],\n",
       "                         [-1.7712,  0.4956,  0.3124,  0.7022],\n",
       "                         [-0.3167,  1.1362, -1.2945,  1.1934]],\n",
       "                \n",
       "                        [[-0.0558,  0.3715,  0.0592, -0.6423],\n",
       "                         [-1.7712,  0.4956,  0.3124,  0.7022],\n",
       "                         [-0.3167,  1.1362, -1.2945,  1.1934]],\n",
       "                \n",
       "                        [[-0.0558,  0.3715,  0.0592, -0.6423],\n",
       "                         [-1.7712,  0.4956,  0.3124,  0.7022],\n",
       "                         [-0.3167,  1.1362, -1.2945,  1.1934]],\n",
       "                \n",
       "                        [[-0.0558,  0.3715,  0.0592, -0.6423],\n",
       "                         [-1.7712,  0.4956,  0.3124,  0.7022],\n",
       "                         [-0.3167,  1.1362, -1.2945,  1.1934]],\n",
       "                \n",
       "                        [[-0.0558,  0.3715,  0.0592, -0.6423],\n",
       "                         [-1.7712,  0.4956,  0.3124,  0.7022],\n",
       "                         [-0.3167,  1.1362, -1.2945,  1.1934]],\n",
       "                \n",
       "                        [[-0.0558,  0.3715,  0.0592, -0.6423],\n",
       "                         [-1.7712,  0.4956,  0.3124,  0.7022],\n",
       "                         [-0.3167,  1.1362, -1.2945,  1.1934]],\n",
       "                \n",
       "                        [[-0.0558,  0.3715,  0.0592, -0.6423],\n",
       "                         [-1.7712,  0.4956,  0.3124,  0.7022],\n",
       "                         [-0.3167,  1.1362, -1.2945,  1.1934]],\n",
       "                \n",
       "                        [[-0.0558,  0.3715,  0.0592, -0.6423],\n",
       "                         [-1.7712,  0.4956,  0.3124,  0.7022],\n",
       "                         [-0.3167,  1.1362, -1.2945,  1.1934]]])"
      ]
     },
     "execution_count": 20,
     "metadata": {},
     "output_type": "execute_result"
    }
   ],
   "source": [
    "t_stack = FastTreeValue.func(subside=True)(torch.stack)\n",
    "\n",
    "t_stack(trees)"
   ]
  },
  {
   "cell_type": "code",
   "execution_count": 21,
   "id": "f8b3f415",
   "metadata": {
    "execution": {
     "iopub.execute_input": "2023-02-27T12:45:46.319439Z",
     "iopub.status.busy": "2023-02-27T12:45:46.319004Z",
     "iopub.status.idle": "2023-02-27T12:45:48.899370Z",
     "shell.execute_reply": "2023-02-27T12:45:48.898461Z"
    }
   },
   "outputs": [
    {
     "name": "stdout",
     "output_type": "stream",
     "text": [
      "31.7 µs ± 48.4 ns per loop (mean ± std. dev. of 7 runs, 10,000 loops each)\n"
     ]
    }
   ],
   "source": [
    "%timeit t_stack(trees)"
   ]
  },
  {
   "cell_type": "code",
   "execution_count": 22,
   "id": "94b56771",
   "metadata": {
    "execution": {
     "iopub.execute_input": "2023-02-27T12:45:48.903018Z",
     "iopub.status.busy": "2023-02-27T12:45:48.902411Z",
     "iopub.status.idle": "2023-02-27T12:45:48.911156Z",
     "shell.execute_reply": "2023-02-27T12:45:48.910219Z"
    }
   },
   "outputs": [
    {
     "data": {
      "text/plain": [
       "<FastTreeValue 0x7f670831abe0>\n",
       "├── 'a' --> tensor([[ 2.0359,  0.0232,  0.6186],\n",
       "│                   [ 1.7094, -0.1522,  0.2298],\n",
       "│                   [ 2.0359,  0.0232,  0.6186],\n",
       "│                   [ 1.7094, -0.1522,  0.2298],\n",
       "│                   [ 2.0359,  0.0232,  0.6186],\n",
       "│                   [ 1.7094, -0.1522,  0.2298],\n",
       "│                   [ 2.0359,  0.0232,  0.6186],\n",
       "│                   [ 1.7094, -0.1522,  0.2298],\n",
       "│                   [ 2.0359,  0.0232,  0.6186],\n",
       "│                   [ 1.7094, -0.1522,  0.2298],\n",
       "│                   [ 2.0359,  0.0232,  0.6186],\n",
       "│                   [ 1.7094, -0.1522,  0.2298],\n",
       "│                   [ 2.0359,  0.0232,  0.6186],\n",
       "│                   [ 1.7094, -0.1522,  0.2298],\n",
       "│                   [ 2.0359,  0.0232,  0.6186],\n",
       "│                   [ 1.7094, -0.1522,  0.2298]])\n",
       "└── 'x' --> <FastTreeValue 0x7f6650cc60d0>\n",
       "    └── 'c' --> tensor([[-0.0558,  0.3715,  0.0592, -0.6423],\n",
       "                        [-1.7712,  0.4956,  0.3124,  0.7022],\n",
       "                        [-0.3167,  1.1362, -1.2945,  1.1934],\n",
       "                        [-0.0558,  0.3715,  0.0592, -0.6423],\n",
       "                        [-1.7712,  0.4956,  0.3124,  0.7022],\n",
       "                        [-0.3167,  1.1362, -1.2945,  1.1934],\n",
       "                        [-0.0558,  0.3715,  0.0592, -0.6423],\n",
       "                        [-1.7712,  0.4956,  0.3124,  0.7022],\n",
       "                        [-0.3167,  1.1362, -1.2945,  1.1934],\n",
       "                        [-0.0558,  0.3715,  0.0592, -0.6423],\n",
       "                        [-1.7712,  0.4956,  0.3124,  0.7022],\n",
       "                        [-0.3167,  1.1362, -1.2945,  1.1934],\n",
       "                        [-0.0558,  0.3715,  0.0592, -0.6423],\n",
       "                        [-1.7712,  0.4956,  0.3124,  0.7022],\n",
       "                        [-0.3167,  1.1362, -1.2945,  1.1934],\n",
       "                        [-0.0558,  0.3715,  0.0592, -0.6423],\n",
       "                        [-1.7712,  0.4956,  0.3124,  0.7022],\n",
       "                        [-0.3167,  1.1362, -1.2945,  1.1934],\n",
       "                        [-0.0558,  0.3715,  0.0592, -0.6423],\n",
       "                        [-1.7712,  0.4956,  0.3124,  0.7022],\n",
       "                        [-0.3167,  1.1362, -1.2945,  1.1934],\n",
       "                        [-0.0558,  0.3715,  0.0592, -0.6423],\n",
       "                        [-1.7712,  0.4956,  0.3124,  0.7022],\n",
       "                        [-0.3167,  1.1362, -1.2945,  1.1934]])"
      ]
     },
     "execution_count": 22,
     "metadata": {},
     "output_type": "execute_result"
    }
   ],
   "source": [
    "t_cat = FastTreeValue.func(subside=True)(torch.cat)\n",
    "\n",
    "t_cat(trees)"
   ]
  },
  {
   "cell_type": "code",
   "execution_count": 23,
   "id": "5e9c06a6",
   "metadata": {
    "execution": {
     "iopub.execute_input": "2023-02-27T12:45:48.913896Z",
     "iopub.status.busy": "2023-02-27T12:45:48.913369Z",
     "iopub.status.idle": "2023-02-27T12:45:51.350927Z",
     "shell.execute_reply": "2023-02-27T12:45:51.350008Z"
    }
   },
   "outputs": [
    {
     "name": "stdout",
     "output_type": "stream",
     "text": [
      "30 µs ± 31.4 ns per loop (mean ± std. dev. of 7 runs, 10,000 loops each)\n"
     ]
    }
   ],
   "source": [
    "%timeit t_cat(trees)"
   ]
  },
  {
   "cell_type": "code",
   "execution_count": 24,
   "id": "a3ab5c8f",
   "metadata": {
    "execution": {
     "iopub.execute_input": "2023-02-27T12:45:51.354701Z",
     "iopub.status.busy": "2023-02-27T12:45:51.354332Z",
     "iopub.status.idle": "2023-02-27T12:45:56.054879Z",
     "shell.execute_reply": "2023-02-27T12:45:56.053851Z"
    }
   },
   "outputs": [
    {
     "name": "stdout",
     "output_type": "stream",
     "text": [
      "57.8 µs ± 207 ns per loop (mean ± std. dev. of 7 runs, 10,000 loops each)\n"
     ]
    }
   ],
   "source": [
    "t_split = FastTreeValue.func(rise=True)(torch.split)\n",
    "tree = FastTreeValue({\n",
    "    'obs': torch.randn(8, 4, 84, 84),\n",
    "    'action': torch.randint(0, 6, size=(8, 1,)),\n",
    "    'reward': torch.rand(8, 1),\n",
    "})\n",
    "\n",
    "%timeit t_split(tree, 1)"
   ]
  },
  {
   "cell_type": "markdown",
   "id": "31c3ec0b",
   "metadata": {},
   "source": [
    "### Performance of Tianshou Batch"
   ]
  },
  {
   "cell_type": "code",
   "execution_count": 25,
   "id": "9ead828a",
   "metadata": {
    "execution": {
     "iopub.execute_input": "2023-02-27T12:45:56.059340Z",
     "iopub.status.busy": "2023-02-27T12:45:56.058597Z",
     "iopub.status.idle": "2023-02-27T12:45:56.068064Z",
     "shell.execute_reply": "2023-02-27T12:45:56.067393Z"
    }
   },
   "outputs": [
    {
     "data": {
      "text/plain": [
       "Batch(\n",
       "    x: Batch(\n",
       "           c: tensor([[[-0.0558,  0.3715,  0.0592, -0.6423],\n",
       "                       [-1.7712,  0.4956,  0.3124,  0.7022],\n",
       "                       [-0.3167,  1.1362, -1.2945,  1.1934]],\n",
       "              \n",
       "                      [[-0.0558,  0.3715,  0.0592, -0.6423],\n",
       "                       [-1.7712,  0.4956,  0.3124,  0.7022],\n",
       "                       [-0.3167,  1.1362, -1.2945,  1.1934]],\n",
       "              \n",
       "                      [[-0.0558,  0.3715,  0.0592, -0.6423],\n",
       "                       [-1.7712,  0.4956,  0.3124,  0.7022],\n",
       "                       [-0.3167,  1.1362, -1.2945,  1.1934]],\n",
       "              \n",
       "                      [[-0.0558,  0.3715,  0.0592, -0.6423],\n",
       "                       [-1.7712,  0.4956,  0.3124,  0.7022],\n",
       "                       [-0.3167,  1.1362, -1.2945,  1.1934]],\n",
       "              \n",
       "                      [[-0.0558,  0.3715,  0.0592, -0.6423],\n",
       "                       [-1.7712,  0.4956,  0.3124,  0.7022],\n",
       "                       [-0.3167,  1.1362, -1.2945,  1.1934]],\n",
       "              \n",
       "                      [[-0.0558,  0.3715,  0.0592, -0.6423],\n",
       "                       [-1.7712,  0.4956,  0.3124,  0.7022],\n",
       "                       [-0.3167,  1.1362, -1.2945,  1.1934]],\n",
       "              \n",
       "                      [[-0.0558,  0.3715,  0.0592, -0.6423],\n",
       "                       [-1.7712,  0.4956,  0.3124,  0.7022],\n",
       "                       [-0.3167,  1.1362, -1.2945,  1.1934]],\n",
       "              \n",
       "                      [[-0.0558,  0.3715,  0.0592, -0.6423],\n",
       "                       [-1.7712,  0.4956,  0.3124,  0.7022],\n",
       "                       [-0.3167,  1.1362, -1.2945,  1.1934]]]),\n",
       "       ),\n",
       "    a: tensor([[[ 2.0359,  0.0232,  0.6186],\n",
       "                [ 1.7094, -0.1522,  0.2298]],\n",
       "       \n",
       "               [[ 2.0359,  0.0232,  0.6186],\n",
       "                [ 1.7094, -0.1522,  0.2298]],\n",
       "       \n",
       "               [[ 2.0359,  0.0232,  0.6186],\n",
       "                [ 1.7094, -0.1522,  0.2298]],\n",
       "       \n",
       "               [[ 2.0359,  0.0232,  0.6186],\n",
       "                [ 1.7094, -0.1522,  0.2298]],\n",
       "       \n",
       "               [[ 2.0359,  0.0232,  0.6186],\n",
       "                [ 1.7094, -0.1522,  0.2298]],\n",
       "       \n",
       "               [[ 2.0359,  0.0232,  0.6186],\n",
       "                [ 1.7094, -0.1522,  0.2298]],\n",
       "       \n",
       "               [[ 2.0359,  0.0232,  0.6186],\n",
       "                [ 1.7094, -0.1522,  0.2298]],\n",
       "       \n",
       "               [[ 2.0359,  0.0232,  0.6186],\n",
       "                [ 1.7094, -0.1522,  0.2298]]]),\n",
       ")"
      ]
     },
     "execution_count": 25,
     "metadata": {},
     "output_type": "execute_result"
    }
   ],
   "source": [
    "batches = [Batch(**_TREE_DATA_2) for _ in range(8)]\n",
    "\n",
    "Batch.stack(batches)"
   ]
  },
  {
   "cell_type": "code",
   "execution_count": 26,
   "id": "ec9037a3",
   "metadata": {
    "execution": {
     "iopub.execute_input": "2023-02-27T12:45:56.071428Z",
     "iopub.status.busy": "2023-02-27T12:45:56.070858Z",
     "iopub.status.idle": "2023-02-27T12:46:02.410636Z",
     "shell.execute_reply": "2023-02-27T12:46:02.409755Z"
    }
   },
   "outputs": [
    {
     "name": "stdout",
     "output_type": "stream",
     "text": [
      "77.8 µs ± 366 ns per loop (mean ± std. dev. of 7 runs, 10,000 loops each)\n"
     ]
    }
   ],
   "source": [
    "%timeit Batch.stack(batches)"
   ]
  },
  {
   "cell_type": "code",
   "execution_count": 27,
   "id": "cb8ab77e",
   "metadata": {
    "execution": {
     "iopub.execute_input": "2023-02-27T12:46:02.414333Z",
     "iopub.status.busy": "2023-02-27T12:46:02.413916Z",
     "iopub.status.idle": "2023-02-27T12:46:02.422113Z",
     "shell.execute_reply": "2023-02-27T12:46:02.421501Z"
    }
   },
   "outputs": [
    {
     "data": {
      "text/plain": [
       "Batch(\n",
       "    x: Batch(\n",
       "           c: tensor([[-0.0558,  0.3715,  0.0592, -0.6423],\n",
       "                      [-1.7712,  0.4956,  0.3124,  0.7022],\n",
       "                      [-0.3167,  1.1362, -1.2945,  1.1934],\n",
       "                      [-0.0558,  0.3715,  0.0592, -0.6423],\n",
       "                      [-1.7712,  0.4956,  0.3124,  0.7022],\n",
       "                      [-0.3167,  1.1362, -1.2945,  1.1934],\n",
       "                      [-0.0558,  0.3715,  0.0592, -0.6423],\n",
       "                      [-1.7712,  0.4956,  0.3124,  0.7022],\n",
       "                      [-0.3167,  1.1362, -1.2945,  1.1934],\n",
       "                      [-0.0558,  0.3715,  0.0592, -0.6423],\n",
       "                      [-1.7712,  0.4956,  0.3124,  0.7022],\n",
       "                      [-0.3167,  1.1362, -1.2945,  1.1934],\n",
       "                      [-0.0558,  0.3715,  0.0592, -0.6423],\n",
       "                      [-1.7712,  0.4956,  0.3124,  0.7022],\n",
       "                      [-0.3167,  1.1362, -1.2945,  1.1934],\n",
       "                      [-0.0558,  0.3715,  0.0592, -0.6423],\n",
       "                      [-1.7712,  0.4956,  0.3124,  0.7022],\n",
       "                      [-0.3167,  1.1362, -1.2945,  1.1934],\n",
       "                      [-0.0558,  0.3715,  0.0592, -0.6423],\n",
       "                      [-1.7712,  0.4956,  0.3124,  0.7022],\n",
       "                      [-0.3167,  1.1362, -1.2945,  1.1934],\n",
       "                      [-0.0558,  0.3715,  0.0592, -0.6423],\n",
       "                      [-1.7712,  0.4956,  0.3124,  0.7022],\n",
       "                      [-0.3167,  1.1362, -1.2945,  1.1934]]),\n",
       "       ),\n",
       "    a: tensor([[ 2.0359,  0.0232,  0.6186],\n",
       "               [ 1.7094, -0.1522,  0.2298],\n",
       "               [ 2.0359,  0.0232,  0.6186],\n",
       "               [ 1.7094, -0.1522,  0.2298],\n",
       "               [ 2.0359,  0.0232,  0.6186],\n",
       "               [ 1.7094, -0.1522,  0.2298],\n",
       "               [ 2.0359,  0.0232,  0.6186],\n",
       "               [ 1.7094, -0.1522,  0.2298],\n",
       "               [ 2.0359,  0.0232,  0.6186],\n",
       "               [ 1.7094, -0.1522,  0.2298],\n",
       "               [ 2.0359,  0.0232,  0.6186],\n",
       "               [ 1.7094, -0.1522,  0.2298],\n",
       "               [ 2.0359,  0.0232,  0.6186],\n",
       "               [ 1.7094, -0.1522,  0.2298],\n",
       "               [ 2.0359,  0.0232,  0.6186],\n",
       "               [ 1.7094, -0.1522,  0.2298]]),\n",
       ")"
      ]
     },
     "execution_count": 27,
     "metadata": {},
     "output_type": "execute_result"
    }
   ],
   "source": [
    "Batch.cat(batches)"
   ]
  },
  {
   "cell_type": "code",
   "execution_count": 28,
   "id": "18dfb045",
   "metadata": {
    "execution": {
     "iopub.execute_input": "2023-02-27T12:46:02.424963Z",
     "iopub.status.busy": "2023-02-27T12:46:02.424623Z",
     "iopub.status.idle": "2023-02-27T12:46:14.188312Z",
     "shell.execute_reply": "2023-02-27T12:46:14.187436Z"
    }
   },
   "outputs": [
    {
     "name": "stdout",
     "output_type": "stream",
     "text": [
      "145 µs ± 418 ns per loop (mean ± std. dev. of 7 runs, 10,000 loops each)\n"
     ]
    }
   ],
   "source": [
    "%timeit Batch.cat(batches)"
   ]
  },
  {
   "cell_type": "code",
   "execution_count": 29,
   "id": "c6688e51",
   "metadata": {
    "execution": {
     "iopub.execute_input": "2023-02-27T12:46:14.192215Z",
     "iopub.status.busy": "2023-02-27T12:46:14.191622Z",
     "iopub.status.idle": "2023-02-27T12:46:16.830651Z",
     "shell.execute_reply": "2023-02-27T12:46:16.829830Z"
    }
   },
   "outputs": [
    {
     "name": "stdout",
     "output_type": "stream",
     "text": [
      "324 µs ± 2.51 µs per loop (mean ± std. dev. of 7 runs, 1,000 loops each)\n"
     ]
    }
   ],
   "source": [
    "batch = Batch({\n",
    "    'obs': torch.randn(8, 4, 84, 84),\n",
    "    'action': torch.randint(0, 6, size=(8, 1,)),\n",
    "    'reward': torch.rand(8, 1)}\n",
    ")\n",
    "\n",
    "%timeit list(Batch.split(batch, 1, shuffle=False, merge_last=True))"
   ]
  },
  {
   "cell_type": "code",
   "execution_count": null,
   "id": "2539fbd9",
   "metadata": {},
   "outputs": [],
   "source": []
  }
 ],
 "metadata": {
  "kernelspec": {
   "display_name": "Python 3 (ipykernel)",
   "language": "python",
   "name": "python3"
  },
  "language_info": {
   "codemirror_mode": {
    "name": "ipython",
    "version": 3
   },
   "file_extension": ".py",
   "mimetype": "text/x-python",
   "name": "python",
   "nbconvert_exporter": "python",
   "pygments_lexer": "ipython3",
   "version": "3.8.16"
  }
 },
 "nbformat": 4,
 "nbformat_minor": 5
}
