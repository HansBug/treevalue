{
 "cells": [
  {
   "cell_type": "markdown",
   "id": "9d39d946",
   "metadata": {},
   "source": [
    "# Comparison Between TreeValue and Tianshou Batch"
   ]
  },
  {
   "cell_type": "markdown",
   "id": "3c6db2d4",
   "metadata": {},
   "source": [
    "In this section, we will take a look at the feature and performance of the [Tianshou Batch](https://github.com/thu-ml/tianshou) library, which is developed by Tsinghua Machine Learning Group."
   ]
  },
  {
   "cell_type": "markdown",
   "id": "069361b0",
   "metadata": {},
   "source": [
    "Before starting the comparison, let us define some thing."
   ]
  },
  {
   "cell_type": "code",
   "execution_count": 1,
   "id": "06fc8d26",
   "metadata": {
    "execution": {
     "iopub.execute_input": "2023-02-27T12:37:40.817561Z",
     "iopub.status.busy": "2023-02-27T12:37:40.816932Z",
     "iopub.status.idle": "2023-02-27T12:37:41.715237Z",
     "shell.execute_reply": "2023-02-27T12:37:41.714591Z"
    }
   },
   "outputs": [
    {
     "name": "stderr",
     "output_type": "stream",
     "text": [
      "/opt/hostedtoolcache/Python/3.8.16/x64/lib/python3.8/site-packages/tqdm/auto.py:22: TqdmWarning: IProgress not found. Please update jupyter and ipywidgets. See https://ipywidgets.readthedocs.io/en/stable/user_install.html\n",
      "  from .autonotebook import tqdm as notebook_tqdm\n"
     ]
    }
   ],
   "source": [
    "import torch \n",
    "\n",
    "_TREE_DATA_1 = {'a': 1, 'b': 2, 'x': {'c': 3, 'd': 4}}\n",
    "_TREE_DATA_2 = {\n",
    "    'a': torch.randn(2, 3), \n",
    "    'x': {\n",
    "        'c': torch.randn(3, 4)\n",
    "    },\n",
    "}\n",
    "_TREE_DATA_3 = {\n",
    "    'obs': torch.randn(4, 84, 84),\n",
    "    'action': torch.randint(0, 6, size=(1,)),\n",
    "    'reward': torch.rand(1),\n",
    "}"
   ]
  },
  {
   "cell_type": "markdown",
   "id": "83461b25",
   "metadata": {},
   "source": [
    "## Read and Write Operation"
   ]
  },
  {
   "cell_type": "markdown",
   "id": "067b3f73",
   "metadata": {},
   "source": [
    "Reading and writing are the two most common operations in the tree data structure based on the data model (TreeValue and Tianshou Batch both belong to this type), so this section will compare the reading and writing performance of these two libraries."
   ]
  },
  {
   "cell_type": "markdown",
   "id": "5d09a5b7",
   "metadata": {},
   "source": [
    "### TreeValue's Get and Set"
   ]
  },
  {
   "cell_type": "code",
   "execution_count": 2,
   "id": "9519c4bb",
   "metadata": {
    "execution": {
     "iopub.execute_input": "2023-02-27T12:37:41.718428Z",
     "iopub.status.busy": "2023-02-27T12:37:41.717773Z",
     "iopub.status.idle": "2023-02-27T12:37:41.992766Z",
     "shell.execute_reply": "2023-02-27T12:37:41.992089Z"
    }
   },
   "outputs": [],
   "source": [
    "from treevalue import FastTreeValue\n",
    "\n",
    "t = FastTreeValue(_TREE_DATA_2)"
   ]
  },
  {
   "cell_type": "code",
   "execution_count": 3,
   "id": "11c37677",
   "metadata": {
    "execution": {
     "iopub.execute_input": "2023-02-27T12:37:41.996007Z",
     "iopub.status.busy": "2023-02-27T12:37:41.995399Z",
     "iopub.status.idle": "2023-02-27T12:37:42.003837Z",
     "shell.execute_reply": "2023-02-27T12:37:42.003209Z"
    }
   },
   "outputs": [
    {
     "data": {
      "text/plain": [
       "<FastTreeValue 0x7f4f94d19ac0>\n",
       "├── 'a' --> tensor([[ 0.2879, -0.6126, -1.2753],\n",
       "│                   [-0.9291, -0.4219, -0.3698]])\n",
       "└── 'x' --> <FastTreeValue 0x7f4f94d19940>\n",
       "    └── 'c' --> tensor([[-0.2000,  0.4455,  1.1107,  1.1576],\n",
       "                        [ 0.7962,  0.8361,  0.7870,  1.1626],\n",
       "                        [ 1.2555,  0.3499, -0.3618, -0.1518]])"
      ]
     },
     "execution_count": 3,
     "metadata": {},
     "output_type": "execute_result"
    }
   ],
   "source": [
    "t"
   ]
  },
  {
   "cell_type": "code",
   "execution_count": 4,
   "id": "fd70b0b9",
   "metadata": {
    "execution": {
     "iopub.execute_input": "2023-02-27T12:37:42.006262Z",
     "iopub.status.busy": "2023-02-27T12:37:42.005917Z",
     "iopub.status.idle": "2023-02-27T12:37:42.010577Z",
     "shell.execute_reply": "2023-02-27T12:37:42.009945Z"
    }
   },
   "outputs": [
    {
     "data": {
      "text/plain": [
       "tensor([[ 0.2879, -0.6126, -1.2753],\n",
       "        [-0.9291, -0.4219, -0.3698]])"
      ]
     },
     "execution_count": 4,
     "metadata": {},
     "output_type": "execute_result"
    }
   ],
   "source": [
    "t.a"
   ]
  },
  {
   "cell_type": "code",
   "execution_count": 5,
   "id": "c18197bd",
   "metadata": {
    "execution": {
     "iopub.execute_input": "2023-02-27T12:37:42.013033Z",
     "iopub.status.busy": "2023-02-27T12:37:42.012710Z",
     "iopub.status.idle": "2023-02-27T12:37:47.731937Z",
     "shell.execute_reply": "2023-02-27T12:37:47.731270Z"
    }
   },
   "outputs": [
    {
     "name": "stdout",
     "output_type": "stream",
     "text": [
      "70.4 ns ± 0.0351 ns per loop (mean ± std. dev. of 7 runs, 10,000,000 loops each)\n"
     ]
    }
   ],
   "source": [
    "%timeit t.a"
   ]
  },
  {
   "cell_type": "code",
   "execution_count": 6,
   "id": "bd52f867",
   "metadata": {
    "execution": {
     "iopub.execute_input": "2023-02-27T12:37:47.734804Z",
     "iopub.status.busy": "2023-02-27T12:37:47.734430Z",
     "iopub.status.idle": "2023-02-27T12:37:47.741042Z",
     "shell.execute_reply": "2023-02-27T12:37:47.740462Z"
    }
   },
   "outputs": [
    {
     "data": {
      "text/plain": [
       "<FastTreeValue 0x7f4f94d19ac0>\n",
       "├── 'a' --> tensor([[-0.0225, -1.0428, -0.6993],\n",
       "│                   [-0.9829, -1.4477, -1.7987]])\n",
       "└── 'x' --> <FastTreeValue 0x7f4f94d19940>\n",
       "    └── 'c' --> tensor([[-0.2000,  0.4455,  1.1107,  1.1576],\n",
       "                        [ 0.7962,  0.8361,  0.7870,  1.1626],\n",
       "                        [ 1.2555,  0.3499, -0.3618, -0.1518]])"
      ]
     },
     "execution_count": 6,
     "metadata": {},
     "output_type": "execute_result"
    }
   ],
   "source": [
    "new_value = torch.randn(2, 3)\n",
    "t.a = new_value\n",
    "\n",
    "t"
   ]
  },
  {
   "cell_type": "code",
   "execution_count": 7,
   "id": "bbe04d1c",
   "metadata": {
    "execution": {
     "iopub.execute_input": "2023-02-27T12:37:47.743447Z",
     "iopub.status.busy": "2023-02-27T12:37:47.743113Z",
     "iopub.status.idle": "2023-02-27T12:37:52.950061Z",
     "shell.execute_reply": "2023-02-27T12:37:52.949314Z"
    }
   },
   "outputs": [
    {
     "name": "stdout",
     "output_type": "stream",
     "text": [
      "64.1 ns ± 0.0897 ns per loop (mean ± std. dev. of 7 runs, 10,000,000 loops each)\n"
     ]
    }
   ],
   "source": [
    "%timeit t.a = new_value"
   ]
  },
  {
   "cell_type": "markdown",
   "id": "48c49731",
   "metadata": {},
   "source": [
    "### Tianshou Batch's Get and Set"
   ]
  },
  {
   "cell_type": "code",
   "execution_count": 8,
   "id": "f1bb14c1",
   "metadata": {
    "execution": {
     "iopub.execute_input": "2023-02-27T12:37:52.952851Z",
     "iopub.status.busy": "2023-02-27T12:37:52.952513Z",
     "iopub.status.idle": "2023-02-27T12:37:53.281668Z",
     "shell.execute_reply": "2023-02-27T12:37:53.280977Z"
    }
   },
   "outputs": [],
   "source": [
    "from tianshou.data import Batch\n",
    "\n",
    "b = Batch(**_TREE_DATA_2)"
   ]
  },
  {
   "cell_type": "code",
   "execution_count": 9,
   "id": "cb0777c3",
   "metadata": {
    "execution": {
     "iopub.execute_input": "2023-02-27T12:37:53.284699Z",
     "iopub.status.busy": "2023-02-27T12:37:53.284172Z",
     "iopub.status.idle": "2023-02-27T12:37:53.290388Z",
     "shell.execute_reply": "2023-02-27T12:37:53.289813Z"
    }
   },
   "outputs": [
    {
     "data": {
      "text/plain": [
       "Batch(\n",
       "    a: tensor([[ 0.2879, -0.6126, -1.2753],\n",
       "               [-0.9291, -0.4219, -0.3698]]),\n",
       "    x: Batch(\n",
       "           c: tensor([[-0.2000,  0.4455,  1.1107,  1.1576],\n",
       "                      [ 0.7962,  0.8361,  0.7870,  1.1626],\n",
       "                      [ 1.2555,  0.3499, -0.3618, -0.1518]]),\n",
       "       ),\n",
       ")"
      ]
     },
     "execution_count": 9,
     "metadata": {},
     "output_type": "execute_result"
    }
   ],
   "source": [
    "b"
   ]
  },
  {
   "cell_type": "code",
   "execution_count": 10,
   "id": "43ef8ea3",
   "metadata": {
    "execution": {
     "iopub.execute_input": "2023-02-27T12:37:53.292939Z",
     "iopub.status.busy": "2023-02-27T12:37:53.292602Z",
     "iopub.status.idle": "2023-02-27T12:37:53.298046Z",
     "shell.execute_reply": "2023-02-27T12:37:53.297437Z"
    }
   },
   "outputs": [
    {
     "data": {
      "text/plain": [
       "tensor([[ 0.2879, -0.6126, -1.2753],\n",
       "        [-0.9291, -0.4219, -0.3698]])"
      ]
     },
     "execution_count": 10,
     "metadata": {},
     "output_type": "execute_result"
    }
   ],
   "source": [
    "b.a"
   ]
  },
  {
   "cell_type": "code",
   "execution_count": 11,
   "id": "b785ab72",
   "metadata": {
    "execution": {
     "iopub.execute_input": "2023-02-27T12:37:53.300788Z",
     "iopub.status.busy": "2023-02-27T12:37:53.300293Z",
     "iopub.status.idle": "2023-02-27T12:37:57.469180Z",
     "shell.execute_reply": "2023-02-27T12:37:57.468412Z"
    }
   },
   "outputs": [
    {
     "name": "stdout",
     "output_type": "stream",
     "text": [
      "51.2 ns ± 0.0739 ns per loop (mean ± std. dev. of 7 runs, 10,000,000 loops each)\n"
     ]
    }
   ],
   "source": [
    "%timeit b.a"
   ]
  },
  {
   "cell_type": "code",
   "execution_count": 12,
   "id": "ad54dc69",
   "metadata": {
    "execution": {
     "iopub.execute_input": "2023-02-27T12:37:57.472226Z",
     "iopub.status.busy": "2023-02-27T12:37:57.471701Z",
     "iopub.status.idle": "2023-02-27T12:37:57.477398Z",
     "shell.execute_reply": "2023-02-27T12:37:57.476745Z"
    }
   },
   "outputs": [
    {
     "data": {
      "text/plain": [
       "Batch(\n",
       "    a: tensor([[ 0.0034, -0.8646,  0.4241],\n",
       "               [-1.4877, -0.9079, -2.1445]]),\n",
       "    x: Batch(\n",
       "           c: tensor([[-0.2000,  0.4455,  1.1107,  1.1576],\n",
       "                      [ 0.7962,  0.8361,  0.7870,  1.1626],\n",
       "                      [ 1.2555,  0.3499, -0.3618, -0.1518]]),\n",
       "       ),\n",
       ")"
      ]
     },
     "execution_count": 12,
     "metadata": {},
     "output_type": "execute_result"
    }
   ],
   "source": [
    "new_value = torch.randn(2, 3)\n",
    "b.a = new_value\n",
    "\n",
    "b"
   ]
  },
  {
   "cell_type": "code",
   "execution_count": 13,
   "id": "29b1d0bf",
   "metadata": {
    "execution": {
     "iopub.execute_input": "2023-02-27T12:37:57.479824Z",
     "iopub.status.busy": "2023-02-27T12:37:57.479490Z",
     "iopub.status.idle": "2023-02-27T12:38:01.480350Z",
     "shell.execute_reply": "2023-02-27T12:38:01.479628Z"
    }
   },
   "outputs": [
    {
     "name": "stdout",
     "output_type": "stream",
     "text": [
      "493 ns ± 0.345 ns per loop (mean ± std. dev. of 7 runs, 1,000,000 loops each)\n"
     ]
    }
   ],
   "source": [
    "%timeit b.a = new_value"
   ]
  },
  {
   "cell_type": "markdown",
   "id": "b61ad1d0",
   "metadata": {},
   "source": [
    "## Initialization"
   ]
  },
  {
   "cell_type": "markdown",
   "id": "d70f0d54",
   "metadata": {},
   "source": [
    "### TreeValue's Initialization"
   ]
  },
  {
   "cell_type": "code",
   "execution_count": 14,
   "id": "d32a679b",
   "metadata": {
    "execution": {
     "iopub.execute_input": "2023-02-27T12:38:01.483273Z",
     "iopub.status.busy": "2023-02-27T12:38:01.482915Z",
     "iopub.status.idle": "2023-02-27T12:38:08.289175Z",
     "shell.execute_reply": "2023-02-27T12:38:08.288413Z"
    }
   },
   "outputs": [
    {
     "name": "stdout",
     "output_type": "stream",
     "text": [
      "840 ns ± 0.335 ns per loop (mean ± std. dev. of 7 runs, 1,000,000 loops each)\n"
     ]
    }
   ],
   "source": [
    "%timeit FastTreeValue(_TREE_DATA_1)"
   ]
  },
  {
   "cell_type": "markdown",
   "id": "24f3707b",
   "metadata": {},
   "source": [
    "### Tianshou Batch's Initialization"
   ]
  },
  {
   "cell_type": "code",
   "execution_count": 15,
   "id": "ac3958df",
   "metadata": {
    "execution": {
     "iopub.execute_input": "2023-02-27T12:38:08.292207Z",
     "iopub.status.busy": "2023-02-27T12:38:08.291859Z",
     "iopub.status.idle": "2023-02-27T12:38:17.610184Z",
     "shell.execute_reply": "2023-02-27T12:38:17.609450Z"
    }
   },
   "outputs": [
    {
     "name": "stdout",
     "output_type": "stream",
     "text": [
      "11.5 µs ± 41.6 ns per loop (mean ± std. dev. of 7 runs, 100,000 loops each)\n"
     ]
    }
   ],
   "source": [
    "%timeit Batch(**_TREE_DATA_1)"
   ]
  },
  {
   "cell_type": "markdown",
   "id": "1ab82e2d",
   "metadata": {},
   "source": [
    "## Deep Copy Operation"
   ]
  },
  {
   "cell_type": "code",
   "execution_count": 16,
   "id": "210a9442",
   "metadata": {
    "execution": {
     "iopub.execute_input": "2023-02-27T12:38:17.612965Z",
     "iopub.status.busy": "2023-02-27T12:38:17.612596Z",
     "iopub.status.idle": "2023-02-27T12:38:17.616629Z",
     "shell.execute_reply": "2023-02-27T12:38:17.616023Z"
    }
   },
   "outputs": [],
   "source": [
    "import copy"
   ]
  },
  {
   "cell_type": "markdown",
   "id": "5a736274",
   "metadata": {},
   "source": [
    "### Deep Copy of TreeValue"
   ]
  },
  {
   "cell_type": "code",
   "execution_count": 17,
   "id": "f9bcadd6",
   "metadata": {
    "execution": {
     "iopub.execute_input": "2023-02-27T12:38:17.619567Z",
     "iopub.status.busy": "2023-02-27T12:38:17.619009Z",
     "iopub.status.idle": "2023-02-27T12:38:28.643286Z",
     "shell.execute_reply": "2023-02-27T12:38:28.642719Z"
    }
   },
   "outputs": [
    {
     "name": "stdout",
     "output_type": "stream",
     "text": [
      "136 µs ± 377 ns per loop (mean ± std. dev. of 7 runs, 10,000 loops each)\n"
     ]
    }
   ],
   "source": [
    "t3 = FastTreeValue(_TREE_DATA_3)\n",
    "%timeit copy.deepcopy(t3)"
   ]
  },
  {
   "cell_type": "markdown",
   "id": "bf8be7ea",
   "metadata": {},
   "source": [
    "### Deep Copy of Tianshou Batch"
   ]
  },
  {
   "cell_type": "code",
   "execution_count": 18,
   "id": "91998e6f",
   "metadata": {
    "execution": {
     "iopub.execute_input": "2023-02-27T12:38:28.646648Z",
     "iopub.status.busy": "2023-02-27T12:38:28.646168Z",
     "iopub.status.idle": "2023-02-27T12:38:39.956991Z",
     "shell.execute_reply": "2023-02-27T12:38:39.956396Z"
    }
   },
   "outputs": [
    {
     "name": "stdout",
     "output_type": "stream",
     "text": [
      "139 µs ± 453 ns per loop (mean ± std. dev. of 7 runs, 10,000 loops each)\n"
     ]
    }
   ],
   "source": [
    "b3 = Batch(**_TREE_DATA_3)\n",
    "%timeit copy.deepcopy(b3)"
   ]
  },
  {
   "cell_type": "markdown",
   "id": "223162fb",
   "metadata": {},
   "source": [
    "## Stack, Concat and Split Operation"
   ]
  },
  {
   "cell_type": "markdown",
   "id": "85fa4a73",
   "metadata": {},
   "source": [
    "### Performance of TreeValue"
   ]
  },
  {
   "cell_type": "code",
   "execution_count": 19,
   "id": "a0c2b697",
   "metadata": {
    "execution": {
     "iopub.execute_input": "2023-02-27T12:38:39.960287Z",
     "iopub.status.busy": "2023-02-27T12:38:39.959795Z",
     "iopub.status.idle": "2023-02-27T12:38:39.963808Z",
     "shell.execute_reply": "2023-02-27T12:38:39.963211Z"
    }
   },
   "outputs": [],
   "source": [
    "trees = [FastTreeValue(_TREE_DATA_2) for _ in range(8)]"
   ]
  },
  {
   "cell_type": "code",
   "execution_count": 20,
   "id": "017ea5a5",
   "metadata": {
    "execution": {
     "iopub.execute_input": "2023-02-27T12:38:39.966403Z",
     "iopub.status.busy": "2023-02-27T12:38:39.966193Z",
     "iopub.status.idle": "2023-02-27T12:38:39.973066Z",
     "shell.execute_reply": "2023-02-27T12:38:39.972435Z"
    }
   },
   "outputs": [
    {
     "data": {
      "text/plain": [
       "<FastTreeValue 0x7f4f94d15850>\n",
       "├── 'a' --> tensor([[[ 0.2879, -0.6126, -1.2753],\n",
       "│                    [-0.9291, -0.4219, -0.3698]],\n",
       "│           \n",
       "│                   [[ 0.2879, -0.6126, -1.2753],\n",
       "│                    [-0.9291, -0.4219, -0.3698]],\n",
       "│           \n",
       "│                   [[ 0.2879, -0.6126, -1.2753],\n",
       "│                    [-0.9291, -0.4219, -0.3698]],\n",
       "│           \n",
       "│                   [[ 0.2879, -0.6126, -1.2753],\n",
       "│                    [-0.9291, -0.4219, -0.3698]],\n",
       "│           \n",
       "│                   [[ 0.2879, -0.6126, -1.2753],\n",
       "│                    [-0.9291, -0.4219, -0.3698]],\n",
       "│           \n",
       "│                   [[ 0.2879, -0.6126, -1.2753],\n",
       "│                    [-0.9291, -0.4219, -0.3698]],\n",
       "│           \n",
       "│                   [[ 0.2879, -0.6126, -1.2753],\n",
       "│                    [-0.9291, -0.4219, -0.3698]],\n",
       "│           \n",
       "│                   [[ 0.2879, -0.6126, -1.2753],\n",
       "│                    [-0.9291, -0.4219, -0.3698]]])\n",
       "└── 'x' --> <FastTreeValue 0x7f4edcfe0f40>\n",
       "    └── 'c' --> tensor([[[-0.2000,  0.4455,  1.1107,  1.1576],\n",
       "                         [ 0.7962,  0.8361,  0.7870,  1.1626],\n",
       "                         [ 1.2555,  0.3499, -0.3618, -0.1518]],\n",
       "                \n",
       "                        [[-0.2000,  0.4455,  1.1107,  1.1576],\n",
       "                         [ 0.7962,  0.8361,  0.7870,  1.1626],\n",
       "                         [ 1.2555,  0.3499, -0.3618, -0.1518]],\n",
       "                \n",
       "                        [[-0.2000,  0.4455,  1.1107,  1.1576],\n",
       "                         [ 0.7962,  0.8361,  0.7870,  1.1626],\n",
       "                         [ 1.2555,  0.3499, -0.3618, -0.1518]],\n",
       "                \n",
       "                        [[-0.2000,  0.4455,  1.1107,  1.1576],\n",
       "                         [ 0.7962,  0.8361,  0.7870,  1.1626],\n",
       "                         [ 1.2555,  0.3499, -0.3618, -0.1518]],\n",
       "                \n",
       "                        [[-0.2000,  0.4455,  1.1107,  1.1576],\n",
       "                         [ 0.7962,  0.8361,  0.7870,  1.1626],\n",
       "                         [ 1.2555,  0.3499, -0.3618, -0.1518]],\n",
       "                \n",
       "                        [[-0.2000,  0.4455,  1.1107,  1.1576],\n",
       "                         [ 0.7962,  0.8361,  0.7870,  1.1626],\n",
       "                         [ 1.2555,  0.3499, -0.3618, -0.1518]],\n",
       "                \n",
       "                        [[-0.2000,  0.4455,  1.1107,  1.1576],\n",
       "                         [ 0.7962,  0.8361,  0.7870,  1.1626],\n",
       "                         [ 1.2555,  0.3499, -0.3618, -0.1518]],\n",
       "                \n",
       "                        [[-0.2000,  0.4455,  1.1107,  1.1576],\n",
       "                         [ 0.7962,  0.8361,  0.7870,  1.1626],\n",
       "                         [ 1.2555,  0.3499, -0.3618, -0.1518]]])"
      ]
     },
     "execution_count": 20,
     "metadata": {},
     "output_type": "execute_result"
    }
   ],
   "source": [
    "t_stack = FastTreeValue.func(subside=True)(torch.stack)\n",
    "\n",
    "t_stack(trees)"
   ]
  },
  {
   "cell_type": "code",
   "execution_count": 21,
   "id": "f8b3f415",
   "metadata": {
    "execution": {
     "iopub.execute_input": "2023-02-27T12:38:39.975464Z",
     "iopub.status.busy": "2023-02-27T12:38:39.975258Z",
     "iopub.status.idle": "2023-02-27T12:38:42.596993Z",
     "shell.execute_reply": "2023-02-27T12:38:42.596265Z"
    }
   },
   "outputs": [
    {
     "name": "stdout",
     "output_type": "stream",
     "text": [
      "32.2 µs ± 60.6 ns per loop (mean ± std. dev. of 7 runs, 10,000 loops each)\n"
     ]
    }
   ],
   "source": [
    "%timeit t_stack(trees)"
   ]
  },
  {
   "cell_type": "code",
   "execution_count": 22,
   "id": "94b56771",
   "metadata": {
    "execution": {
     "iopub.execute_input": "2023-02-27T12:38:42.599912Z",
     "iopub.status.busy": "2023-02-27T12:38:42.599548Z",
     "iopub.status.idle": "2023-02-27T12:38:42.607372Z",
     "shell.execute_reply": "2023-02-27T12:38:42.606785Z"
    }
   },
   "outputs": [
    {
     "data": {
      "text/plain": [
       "<FastTreeValue 0x7f4f94d7be80>\n",
       "├── 'a' --> tensor([[ 0.2879, -0.6126, -1.2753],\n",
       "│                   [-0.9291, -0.4219, -0.3698],\n",
       "│                   [ 0.2879, -0.6126, -1.2753],\n",
       "│                   [-0.9291, -0.4219, -0.3698],\n",
       "│                   [ 0.2879, -0.6126, -1.2753],\n",
       "│                   [-0.9291, -0.4219, -0.3698],\n",
       "│                   [ 0.2879, -0.6126, -1.2753],\n",
       "│                   [-0.9291, -0.4219, -0.3698],\n",
       "│                   [ 0.2879, -0.6126, -1.2753],\n",
       "│                   [-0.9291, -0.4219, -0.3698],\n",
       "│                   [ 0.2879, -0.6126, -1.2753],\n",
       "│                   [-0.9291, -0.4219, -0.3698],\n",
       "│                   [ 0.2879, -0.6126, -1.2753],\n",
       "│                   [-0.9291, -0.4219, -0.3698],\n",
       "│                   [ 0.2879, -0.6126, -1.2753],\n",
       "│                   [-0.9291, -0.4219, -0.3698]])\n",
       "└── 'x' --> <FastTreeValue 0x7f4edcff5f40>\n",
       "    └── 'c' --> tensor([[-0.2000,  0.4455,  1.1107,  1.1576],\n",
       "                        [ 0.7962,  0.8361,  0.7870,  1.1626],\n",
       "                        [ 1.2555,  0.3499, -0.3618, -0.1518],\n",
       "                        [-0.2000,  0.4455,  1.1107,  1.1576],\n",
       "                        [ 0.7962,  0.8361,  0.7870,  1.1626],\n",
       "                        [ 1.2555,  0.3499, -0.3618, -0.1518],\n",
       "                        [-0.2000,  0.4455,  1.1107,  1.1576],\n",
       "                        [ 0.7962,  0.8361,  0.7870,  1.1626],\n",
       "                        [ 1.2555,  0.3499, -0.3618, -0.1518],\n",
       "                        [-0.2000,  0.4455,  1.1107,  1.1576],\n",
       "                        [ 0.7962,  0.8361,  0.7870,  1.1626],\n",
       "                        [ 1.2555,  0.3499, -0.3618, -0.1518],\n",
       "                        [-0.2000,  0.4455,  1.1107,  1.1576],\n",
       "                        [ 0.7962,  0.8361,  0.7870,  1.1626],\n",
       "                        [ 1.2555,  0.3499, -0.3618, -0.1518],\n",
       "                        [-0.2000,  0.4455,  1.1107,  1.1576],\n",
       "                        [ 0.7962,  0.8361,  0.7870,  1.1626],\n",
       "                        [ 1.2555,  0.3499, -0.3618, -0.1518],\n",
       "                        [-0.2000,  0.4455,  1.1107,  1.1576],\n",
       "                        [ 0.7962,  0.8361,  0.7870,  1.1626],\n",
       "                        [ 1.2555,  0.3499, -0.3618, -0.1518],\n",
       "                        [-0.2000,  0.4455,  1.1107,  1.1576],\n",
       "                        [ 0.7962,  0.8361,  0.7870,  1.1626],\n",
       "                        [ 1.2555,  0.3499, -0.3618, -0.1518]])"
      ]
     },
     "execution_count": 22,
     "metadata": {},
     "output_type": "execute_result"
    }
   ],
   "source": [
    "t_cat = FastTreeValue.func(subside=True)(torch.cat)\n",
    "\n",
    "t_cat(trees)"
   ]
  },
  {
   "cell_type": "code",
   "execution_count": 23,
   "id": "5e9c06a6",
   "metadata": {
    "execution": {
     "iopub.execute_input": "2023-02-27T12:38:42.609789Z",
     "iopub.status.busy": "2023-02-27T12:38:42.609454Z",
     "iopub.status.idle": "2023-02-27T12:38:45.063574Z",
     "shell.execute_reply": "2023-02-27T12:38:45.062850Z"
    }
   },
   "outputs": [
    {
     "name": "stdout",
     "output_type": "stream",
     "text": [
      "30.2 µs ± 38.4 ns per loop (mean ± std. dev. of 7 runs, 10,000 loops each)\n"
     ]
    }
   ],
   "source": [
    "%timeit t_cat(trees)"
   ]
  },
  {
   "cell_type": "code",
   "execution_count": 24,
   "id": "a3ab5c8f",
   "metadata": {
    "execution": {
     "iopub.execute_input": "2023-02-27T12:38:45.066639Z",
     "iopub.status.busy": "2023-02-27T12:38:45.065996Z",
     "iopub.status.idle": "2023-02-27T12:38:50.033893Z",
     "shell.execute_reply": "2023-02-27T12:38:50.033250Z"
    }
   },
   "outputs": [
    {
     "name": "stdout",
     "output_type": "stream",
     "text": [
      "61.1 µs ± 265 ns per loop (mean ± std. dev. of 7 runs, 10,000 loops each)\n"
     ]
    }
   ],
   "source": [
    "t_split = FastTreeValue.func(rise=True)(torch.split)\n",
    "tree = FastTreeValue({\n",
    "    'obs': torch.randn(8, 4, 84, 84),\n",
    "    'action': torch.randint(0, 6, size=(8, 1,)),\n",
    "    'reward': torch.rand(8, 1),\n",
    "})\n",
    "\n",
    "%timeit t_split(tree, 1)"
   ]
  },
  {
   "cell_type": "markdown",
   "id": "31c3ec0b",
   "metadata": {},
   "source": [
    "### Performance of Tianshou Batch"
   ]
  },
  {
   "cell_type": "code",
   "execution_count": 25,
   "id": "9ead828a",
   "metadata": {
    "execution": {
     "iopub.execute_input": "2023-02-27T12:38:50.036722Z",
     "iopub.status.busy": "2023-02-27T12:38:50.036191Z",
     "iopub.status.idle": "2023-02-27T12:38:50.044040Z",
     "shell.execute_reply": "2023-02-27T12:38:50.043483Z"
    }
   },
   "outputs": [
    {
     "data": {
      "text/plain": [
       "Batch(\n",
       "    a: tensor([[[ 0.2879, -0.6126, -1.2753],\n",
       "                [-0.9291, -0.4219, -0.3698]],\n",
       "       \n",
       "               [[ 0.2879, -0.6126, -1.2753],\n",
       "                [-0.9291, -0.4219, -0.3698]],\n",
       "       \n",
       "               [[ 0.2879, -0.6126, -1.2753],\n",
       "                [-0.9291, -0.4219, -0.3698]],\n",
       "       \n",
       "               [[ 0.2879, -0.6126, -1.2753],\n",
       "                [-0.9291, -0.4219, -0.3698]],\n",
       "       \n",
       "               [[ 0.2879, -0.6126, -1.2753],\n",
       "                [-0.9291, -0.4219, -0.3698]],\n",
       "       \n",
       "               [[ 0.2879, -0.6126, -1.2753],\n",
       "                [-0.9291, -0.4219, -0.3698]],\n",
       "       \n",
       "               [[ 0.2879, -0.6126, -1.2753],\n",
       "                [-0.9291, -0.4219, -0.3698]],\n",
       "       \n",
       "               [[ 0.2879, -0.6126, -1.2753],\n",
       "                [-0.9291, -0.4219, -0.3698]]]),\n",
       "    x: Batch(\n",
       "           c: tensor([[[-0.2000,  0.4455,  1.1107,  1.1576],\n",
       "                       [ 0.7962,  0.8361,  0.7870,  1.1626],\n",
       "                       [ 1.2555,  0.3499, -0.3618, -0.1518]],\n",
       "              \n",
       "                      [[-0.2000,  0.4455,  1.1107,  1.1576],\n",
       "                       [ 0.7962,  0.8361,  0.7870,  1.1626],\n",
       "                       [ 1.2555,  0.3499, -0.3618, -0.1518]],\n",
       "              \n",
       "                      [[-0.2000,  0.4455,  1.1107,  1.1576],\n",
       "                       [ 0.7962,  0.8361,  0.7870,  1.1626],\n",
       "                       [ 1.2555,  0.3499, -0.3618, -0.1518]],\n",
       "              \n",
       "                      [[-0.2000,  0.4455,  1.1107,  1.1576],\n",
       "                       [ 0.7962,  0.8361,  0.7870,  1.1626],\n",
       "                       [ 1.2555,  0.3499, -0.3618, -0.1518]],\n",
       "              \n",
       "                      [[-0.2000,  0.4455,  1.1107,  1.1576],\n",
       "                       [ 0.7962,  0.8361,  0.7870,  1.1626],\n",
       "                       [ 1.2555,  0.3499, -0.3618, -0.1518]],\n",
       "              \n",
       "                      [[-0.2000,  0.4455,  1.1107,  1.1576],\n",
       "                       [ 0.7962,  0.8361,  0.7870,  1.1626],\n",
       "                       [ 1.2555,  0.3499, -0.3618, -0.1518]],\n",
       "              \n",
       "                      [[-0.2000,  0.4455,  1.1107,  1.1576],\n",
       "                       [ 0.7962,  0.8361,  0.7870,  1.1626],\n",
       "                       [ 1.2555,  0.3499, -0.3618, -0.1518]],\n",
       "              \n",
       "                      [[-0.2000,  0.4455,  1.1107,  1.1576],\n",
       "                       [ 0.7962,  0.8361,  0.7870,  1.1626],\n",
       "                       [ 1.2555,  0.3499, -0.3618, -0.1518]]]),\n",
       "       ),\n",
       ")"
      ]
     },
     "execution_count": 25,
     "metadata": {},
     "output_type": "execute_result"
    }
   ],
   "source": [
    "batches = [Batch(**_TREE_DATA_2) for _ in range(8)]\n",
    "\n",
    "Batch.stack(batches)"
   ]
  },
  {
   "cell_type": "code",
   "execution_count": 26,
   "id": "ec9037a3",
   "metadata": {
    "execution": {
     "iopub.execute_input": "2023-02-27T12:38:50.046394Z",
     "iopub.status.busy": "2023-02-27T12:38:50.046057Z",
     "iopub.status.idle": "2023-02-27T12:38:56.381287Z",
     "shell.execute_reply": "2023-02-27T12:38:56.380502Z"
    }
   },
   "outputs": [
    {
     "name": "stdout",
     "output_type": "stream",
     "text": [
      "78 µs ± 70.2 ns per loop (mean ± std. dev. of 7 runs, 10,000 loops each)\n"
     ]
    }
   ],
   "source": [
    "%timeit Batch.stack(batches)"
   ]
  },
  {
   "cell_type": "code",
   "execution_count": 27,
   "id": "cb8ab77e",
   "metadata": {
    "execution": {
     "iopub.execute_input": "2023-02-27T12:38:56.384662Z",
     "iopub.status.busy": "2023-02-27T12:38:56.384098Z",
     "iopub.status.idle": "2023-02-27T12:38:56.391738Z",
     "shell.execute_reply": "2023-02-27T12:38:56.391118Z"
    }
   },
   "outputs": [
    {
     "data": {
      "text/plain": [
       "Batch(\n",
       "    a: tensor([[ 0.2879, -0.6126, -1.2753],\n",
       "               [-0.9291, -0.4219, -0.3698],\n",
       "               [ 0.2879, -0.6126, -1.2753],\n",
       "               [-0.9291, -0.4219, -0.3698],\n",
       "               [ 0.2879, -0.6126, -1.2753],\n",
       "               [-0.9291, -0.4219, -0.3698],\n",
       "               [ 0.2879, -0.6126, -1.2753],\n",
       "               [-0.9291, -0.4219, -0.3698],\n",
       "               [ 0.2879, -0.6126, -1.2753],\n",
       "               [-0.9291, -0.4219, -0.3698],\n",
       "               [ 0.2879, -0.6126, -1.2753],\n",
       "               [-0.9291, -0.4219, -0.3698],\n",
       "               [ 0.2879, -0.6126, -1.2753],\n",
       "               [-0.9291, -0.4219, -0.3698],\n",
       "               [ 0.2879, -0.6126, -1.2753],\n",
       "               [-0.9291, -0.4219, -0.3698]]),\n",
       "    x: Batch(\n",
       "           c: tensor([[-0.2000,  0.4455,  1.1107,  1.1576],\n",
       "                      [ 0.7962,  0.8361,  0.7870,  1.1626],\n",
       "                      [ 1.2555,  0.3499, -0.3618, -0.1518],\n",
       "                      [-0.2000,  0.4455,  1.1107,  1.1576],\n",
       "                      [ 0.7962,  0.8361,  0.7870,  1.1626],\n",
       "                      [ 1.2555,  0.3499, -0.3618, -0.1518],\n",
       "                      [-0.2000,  0.4455,  1.1107,  1.1576],\n",
       "                      [ 0.7962,  0.8361,  0.7870,  1.1626],\n",
       "                      [ 1.2555,  0.3499, -0.3618, -0.1518],\n",
       "                      [-0.2000,  0.4455,  1.1107,  1.1576],\n",
       "                      [ 0.7962,  0.8361,  0.7870,  1.1626],\n",
       "                      [ 1.2555,  0.3499, -0.3618, -0.1518],\n",
       "                      [-0.2000,  0.4455,  1.1107,  1.1576],\n",
       "                      [ 0.7962,  0.8361,  0.7870,  1.1626],\n",
       "                      [ 1.2555,  0.3499, -0.3618, -0.1518],\n",
       "                      [-0.2000,  0.4455,  1.1107,  1.1576],\n",
       "                      [ 0.7962,  0.8361,  0.7870,  1.1626],\n",
       "                      [ 1.2555,  0.3499, -0.3618, -0.1518],\n",
       "                      [-0.2000,  0.4455,  1.1107,  1.1576],\n",
       "                      [ 0.7962,  0.8361,  0.7870,  1.1626],\n",
       "                      [ 1.2555,  0.3499, -0.3618, -0.1518],\n",
       "                      [-0.2000,  0.4455,  1.1107,  1.1576],\n",
       "                      [ 0.7962,  0.8361,  0.7870,  1.1626],\n",
       "                      [ 1.2555,  0.3499, -0.3618, -0.1518]]),\n",
       "       ),\n",
       ")"
      ]
     },
     "execution_count": 27,
     "metadata": {},
     "output_type": "execute_result"
    }
   ],
   "source": [
    "Batch.cat(batches)"
   ]
  },
  {
   "cell_type": "code",
   "execution_count": 28,
   "id": "18dfb045",
   "metadata": {
    "execution": {
     "iopub.execute_input": "2023-02-27T12:38:56.394467Z",
     "iopub.status.busy": "2023-02-27T12:38:56.393871Z",
     "iopub.status.idle": "2023-02-27T12:39:07.820209Z",
     "shell.execute_reply": "2023-02-27T12:39:07.819457Z"
    }
   },
   "outputs": [
    {
     "name": "stdout",
     "output_type": "stream",
     "text": [
      "141 µs ± 298 ns per loop (mean ± std. dev. of 7 runs, 10,000 loops each)\n"
     ]
    }
   ],
   "source": [
    "%timeit Batch.cat(batches)"
   ]
  },
  {
   "cell_type": "code",
   "execution_count": 29,
   "id": "c6688e51",
   "metadata": {
    "execution": {
     "iopub.execute_input": "2023-02-27T12:39:07.822951Z",
     "iopub.status.busy": "2023-02-27T12:39:07.822604Z",
     "iopub.status.idle": "2023-02-27T12:39:10.310622Z",
     "shell.execute_reply": "2023-02-27T12:39:10.309927Z"
    }
   },
   "outputs": [
    {
     "name": "stdout",
     "output_type": "stream",
     "text": [
      "306 µs ± 2.06 µs per loop (mean ± std. dev. of 7 runs, 1,000 loops each)\n"
     ]
    }
   ],
   "source": [
    "batch = Batch({\n",
    "    'obs': torch.randn(8, 4, 84, 84),\n",
    "    'action': torch.randint(0, 6, size=(8, 1,)),\n",
    "    'reward': torch.rand(8, 1)}\n",
    ")\n",
    "\n",
    "%timeit list(Batch.split(batch, 1, shuffle=False, merge_last=True))"
   ]
  },
  {
   "cell_type": "code",
   "execution_count": null,
   "id": "2539fbd9",
   "metadata": {},
   "outputs": [],
   "source": []
  }
 ],
 "metadata": {
  "kernelspec": {
   "display_name": "Python 3 (ipykernel)",
   "language": "python",
   "name": "python3"
  },
  "language_info": {
   "codemirror_mode": {
    "name": "ipython",
    "version": 3
   },
   "file_extension": ".py",
   "mimetype": "text/x-python",
   "name": "python",
   "nbconvert_exporter": "python",
   "pygments_lexer": "ipython3",
   "version": "3.8.16"
  }
 },
 "nbformat": 4,
 "nbformat_minor": 5
}
