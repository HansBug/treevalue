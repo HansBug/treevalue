{
 "cells": [
  {
   "cell_type": "markdown",
   "id": "9d39d946",
   "metadata": {},
   "source": [
    "# Comparison Between TreeValue and Tianshou Batch"
   ]
  },
  {
   "cell_type": "markdown",
   "id": "3c6db2d4",
   "metadata": {},
   "source": [
    "In this section, we will take a look at the feature and performance of the [Tianshou Batch](https://github.com/thu-ml/tianshou) library, which is developed by Tsinghua Machine Learning Group."
   ]
  },
  {
   "cell_type": "markdown",
   "id": "069361b0",
   "metadata": {},
   "source": [
    "Before starting the comparison, let us define some thing."
   ]
  },
  {
   "cell_type": "code",
   "execution_count": 1,
   "id": "06fc8d26",
   "metadata": {
    "execution": {
     "iopub.execute_input": "2023-02-27T14:18:11.874838Z",
     "iopub.status.busy": "2023-02-27T14:18:11.874342Z",
     "iopub.status.idle": "2023-02-27T14:18:12.801753Z",
     "shell.execute_reply": "2023-02-27T14:18:12.801064Z"
    }
   },
   "outputs": [
    {
     "name": "stderr",
     "output_type": "stream",
     "text": [
      "/opt/hostedtoolcache/Python/3.8.16/x64/lib/python3.8/site-packages/tqdm/auto.py:22: TqdmWarning: IProgress not found. Please update jupyter and ipywidgets. See https://ipywidgets.readthedocs.io/en/stable/user_install.html\n",
      "  from .autonotebook import tqdm as notebook_tqdm\n"
     ]
    }
   ],
   "source": [
    "import torch \n",
    "\n",
    "_TREE_DATA_1 = {'a': 1, 'b': 2, 'x': {'c': 3, 'd': 4}}\n",
    "_TREE_DATA_2 = {\n",
    "    'a': torch.randn(2, 3), \n",
    "    'x': {\n",
    "        'c': torch.randn(3, 4)\n",
    "    },\n",
    "}\n",
    "_TREE_DATA_3 = {\n",
    "    'obs': torch.randn(4, 84, 84),\n",
    "    'action': torch.randint(0, 6, size=(1,)),\n",
    "    'reward': torch.rand(1),\n",
    "}"
   ]
  },
  {
   "cell_type": "markdown",
   "id": "83461b25",
   "metadata": {},
   "source": [
    "## Read and Write Operation"
   ]
  },
  {
   "cell_type": "markdown",
   "id": "067b3f73",
   "metadata": {},
   "source": [
    "Reading and writing are the two most common operations in the tree data structure based on the data model (TreeValue and Tianshou Batch both belong to this type), so this section will compare the reading and writing performance of these two libraries."
   ]
  },
  {
   "cell_type": "markdown",
   "id": "5d09a5b7",
   "metadata": {},
   "source": [
    "### TreeValue's Get and Set"
   ]
  },
  {
   "cell_type": "code",
   "execution_count": 2,
   "id": "9519c4bb",
   "metadata": {
    "execution": {
     "iopub.execute_input": "2023-02-27T14:18:12.805453Z",
     "iopub.status.busy": "2023-02-27T14:18:12.804850Z",
     "iopub.status.idle": "2023-02-27T14:18:13.087187Z",
     "shell.execute_reply": "2023-02-27T14:18:13.086492Z"
    }
   },
   "outputs": [],
   "source": [
    "from treevalue import FastTreeValue\n",
    "\n",
    "t = FastTreeValue(_TREE_DATA_2)"
   ]
  },
  {
   "cell_type": "code",
   "execution_count": 3,
   "id": "11c37677",
   "metadata": {
    "execution": {
     "iopub.execute_input": "2023-02-27T14:18:13.090796Z",
     "iopub.status.busy": "2023-02-27T14:18:13.090160Z",
     "iopub.status.idle": "2023-02-27T14:18:13.100541Z",
     "shell.execute_reply": "2023-02-27T14:18:13.099939Z"
    }
   },
   "outputs": [
    {
     "data": {
      "text/plain": [
       "<FastTreeValue 0x7fd9282e1d90>\n",
       "├── 'a' --> tensor([[ 0.8606,  1.7264, -1.4719],\n",
       "│                   [ 1.8389,  0.3471,  0.2538]])\n",
       "└── 'x' --> <FastTreeValue 0x7fd9282e1d60>\n",
       "    └── 'c' --> tensor([[ 0.0093, -0.6375,  0.5757,  0.1860],\n",
       "                        [-0.3042,  0.2066, -0.1245, -0.7442],\n",
       "                        [-0.9315,  1.9697, -0.0161, -0.5330]])"
      ]
     },
     "execution_count": 3,
     "metadata": {},
     "output_type": "execute_result"
    }
   ],
   "source": [
    "t"
   ]
  },
  {
   "cell_type": "code",
   "execution_count": 4,
   "id": "fd70b0b9",
   "metadata": {
    "execution": {
     "iopub.execute_input": "2023-02-27T14:18:13.103569Z",
     "iopub.status.busy": "2023-02-27T14:18:13.103091Z",
     "iopub.status.idle": "2023-02-27T14:18:13.109060Z",
     "shell.execute_reply": "2023-02-27T14:18:13.108471Z"
    }
   },
   "outputs": [
    {
     "data": {
      "text/plain": [
       "tensor([[ 0.8606,  1.7264, -1.4719],\n",
       "        [ 1.8389,  0.3471,  0.2538]])"
      ]
     },
     "execution_count": 4,
     "metadata": {},
     "output_type": "execute_result"
    }
   ],
   "source": [
    "t.a"
   ]
  },
  {
   "cell_type": "code",
   "execution_count": 5,
   "id": "c18197bd",
   "metadata": {
    "execution": {
     "iopub.execute_input": "2023-02-27T14:18:13.112461Z",
     "iopub.status.busy": "2023-02-27T14:18:13.111473Z",
     "iopub.status.idle": "2023-02-27T14:18:18.274549Z",
     "shell.execute_reply": "2023-02-27T14:18:18.273882Z"
    }
   },
   "outputs": [
    {
     "name": "stdout",
     "output_type": "stream",
     "text": [
      "63.4 ns ± 0.049 ns per loop (mean ± std. dev. of 7 runs, 10,000,000 loops each)\n"
     ]
    }
   ],
   "source": [
    "%timeit t.a"
   ]
  },
  {
   "cell_type": "code",
   "execution_count": 6,
   "id": "bd52f867",
   "metadata": {
    "execution": {
     "iopub.execute_input": "2023-02-27T14:18:18.277582Z",
     "iopub.status.busy": "2023-02-27T14:18:18.277227Z",
     "iopub.status.idle": "2023-02-27T14:18:18.284629Z",
     "shell.execute_reply": "2023-02-27T14:18:18.284054Z"
    }
   },
   "outputs": [
    {
     "data": {
      "text/plain": [
       "<FastTreeValue 0x7fd9282e1d90>\n",
       "├── 'a' --> tensor([[-1.5508, -0.7956,  0.0985],\n",
       "│                   [ 0.1440, -1.6534,  0.2893]])\n",
       "└── 'x' --> <FastTreeValue 0x7fd9282e1d60>\n",
       "    └── 'c' --> tensor([[ 0.0093, -0.6375,  0.5757,  0.1860],\n",
       "                        [-0.3042,  0.2066, -0.1245, -0.7442],\n",
       "                        [-0.9315,  1.9697, -0.0161, -0.5330]])"
      ]
     },
     "execution_count": 6,
     "metadata": {},
     "output_type": "execute_result"
    }
   ],
   "source": [
    "new_value = torch.randn(2, 3)\n",
    "t.a = new_value\n",
    "\n",
    "t"
   ]
  },
  {
   "cell_type": "code",
   "execution_count": 7,
   "id": "bbe04d1c",
   "metadata": {
    "execution": {
     "iopub.execute_input": "2023-02-27T14:18:18.287661Z",
     "iopub.status.busy": "2023-02-27T14:18:18.287000Z",
     "iopub.status.idle": "2023-02-27T14:18:23.496656Z",
     "shell.execute_reply": "2023-02-27T14:18:23.495910Z"
    }
   },
   "outputs": [
    {
     "name": "stdout",
     "output_type": "stream",
     "text": [
      "64.2 ns ± 0.0315 ns per loop (mean ± std. dev. of 7 runs, 10,000,000 loops each)\n"
     ]
    }
   ],
   "source": [
    "%timeit t.a = new_value"
   ]
  },
  {
   "cell_type": "markdown",
   "id": "48c49731",
   "metadata": {},
   "source": [
    "### Tianshou Batch's Get and Set"
   ]
  },
  {
   "cell_type": "code",
   "execution_count": 8,
   "id": "f1bb14c1",
   "metadata": {
    "execution": {
     "iopub.execute_input": "2023-02-27T14:18:23.499745Z",
     "iopub.status.busy": "2023-02-27T14:18:23.499076Z",
     "iopub.status.idle": "2023-02-27T14:18:23.843353Z",
     "shell.execute_reply": "2023-02-27T14:18:23.842643Z"
    }
   },
   "outputs": [],
   "source": [
    "from tianshou.data import Batch\n",
    "\n",
    "b = Batch(**_TREE_DATA_2)"
   ]
  },
  {
   "cell_type": "code",
   "execution_count": 9,
   "id": "cb0777c3",
   "metadata": {
    "execution": {
     "iopub.execute_input": "2023-02-27T14:18:23.847042Z",
     "iopub.status.busy": "2023-02-27T14:18:23.846355Z",
     "iopub.status.idle": "2023-02-27T14:18:23.853574Z",
     "shell.execute_reply": "2023-02-27T14:18:23.852957Z"
    }
   },
   "outputs": [
    {
     "data": {
      "text/plain": [
       "Batch(\n",
       "    a: tensor([[ 0.8606,  1.7264, -1.4719],\n",
       "               [ 1.8389,  0.3471,  0.2538]]),\n",
       "    x: Batch(\n",
       "           c: tensor([[ 0.0093, -0.6375,  0.5757,  0.1860],\n",
       "                      [-0.3042,  0.2066, -0.1245, -0.7442],\n",
       "                      [-0.9315,  1.9697, -0.0161, -0.5330]]),\n",
       "       ),\n",
       ")"
      ]
     },
     "execution_count": 9,
     "metadata": {},
     "output_type": "execute_result"
    }
   ],
   "source": [
    "b"
   ]
  },
  {
   "cell_type": "code",
   "execution_count": 10,
   "id": "43ef8ea3",
   "metadata": {
    "execution": {
     "iopub.execute_input": "2023-02-27T14:18:23.856569Z",
     "iopub.status.busy": "2023-02-27T14:18:23.856222Z",
     "iopub.status.idle": "2023-02-27T14:18:23.862612Z",
     "shell.execute_reply": "2023-02-27T14:18:23.862033Z"
    }
   },
   "outputs": [
    {
     "data": {
      "text/plain": [
       "tensor([[ 0.8606,  1.7264, -1.4719],\n",
       "        [ 1.8389,  0.3471,  0.2538]])"
      ]
     },
     "execution_count": 10,
     "metadata": {},
     "output_type": "execute_result"
    }
   ],
   "source": [
    "b.a"
   ]
  },
  {
   "cell_type": "code",
   "execution_count": 11,
   "id": "b785ab72",
   "metadata": {
    "execution": {
     "iopub.execute_input": "2023-02-27T14:18:23.864913Z",
     "iopub.status.busy": "2023-02-27T14:18:23.864699Z",
     "iopub.status.idle": "2023-02-27T14:18:28.223707Z",
     "shell.execute_reply": "2023-02-27T14:18:28.222953Z"
    }
   },
   "outputs": [
    {
     "name": "stdout",
     "output_type": "stream",
     "text": [
      "53.7 ns ± 0.0537 ns per loop (mean ± std. dev. of 7 runs, 10,000,000 loops each)\n"
     ]
    }
   ],
   "source": [
    "%timeit b.a"
   ]
  },
  {
   "cell_type": "code",
   "execution_count": 12,
   "id": "ad54dc69",
   "metadata": {
    "execution": {
     "iopub.execute_input": "2023-02-27T14:18:28.226814Z",
     "iopub.status.busy": "2023-02-27T14:18:28.226288Z",
     "iopub.status.idle": "2023-02-27T14:18:28.232705Z",
     "shell.execute_reply": "2023-02-27T14:18:28.232124Z"
    }
   },
   "outputs": [
    {
     "data": {
      "text/plain": [
       "Batch(\n",
       "    a: tensor([[-0.5344, -0.8253,  0.4788],\n",
       "               [ 0.5287, -0.8002, -1.0607]]),\n",
       "    x: Batch(\n",
       "           c: tensor([[ 0.0093, -0.6375,  0.5757,  0.1860],\n",
       "                      [-0.3042,  0.2066, -0.1245, -0.7442],\n",
       "                      [-0.9315,  1.9697, -0.0161, -0.5330]]),\n",
       "       ),\n",
       ")"
      ]
     },
     "execution_count": 12,
     "metadata": {},
     "output_type": "execute_result"
    }
   ],
   "source": [
    "new_value = torch.randn(2, 3)\n",
    "b.a = new_value\n",
    "\n",
    "b"
   ]
  },
  {
   "cell_type": "code",
   "execution_count": 13,
   "id": "29b1d0bf",
   "metadata": {
    "execution": {
     "iopub.execute_input": "2023-02-27T14:18:28.235161Z",
     "iopub.status.busy": "2023-02-27T14:18:28.234804Z",
     "iopub.status.idle": "2023-02-27T14:18:32.123334Z",
     "shell.execute_reply": "2023-02-27T14:18:32.122532Z"
    }
   },
   "outputs": [
    {
     "name": "stdout",
     "output_type": "stream",
     "text": [
      "478 ns ± 0.0905 ns per loop (mean ± std. dev. of 7 runs, 1,000,000 loops each)\n"
     ]
    }
   ],
   "source": [
    "%timeit b.a = new_value"
   ]
  },
  {
   "cell_type": "markdown",
   "id": "b61ad1d0",
   "metadata": {},
   "source": [
    "## Initialization"
   ]
  },
  {
   "cell_type": "markdown",
   "id": "d70f0d54",
   "metadata": {},
   "source": [
    "### TreeValue's Initialization"
   ]
  },
  {
   "cell_type": "code",
   "execution_count": 14,
   "id": "d32a679b",
   "metadata": {
    "execution": {
     "iopub.execute_input": "2023-02-27T14:18:32.126467Z",
     "iopub.status.busy": "2023-02-27T14:18:32.125873Z",
     "iopub.status.idle": "2023-02-27T14:18:38.876114Z",
     "shell.execute_reply": "2023-02-27T14:18:38.875445Z"
    }
   },
   "outputs": [
    {
     "name": "stdout",
     "output_type": "stream",
     "text": [
      "832 ns ± 0.244 ns per loop (mean ± std. dev. of 7 runs, 1,000,000 loops each)\n"
     ]
    }
   ],
   "source": [
    "%timeit FastTreeValue(_TREE_DATA_1)"
   ]
  },
  {
   "cell_type": "markdown",
   "id": "24f3707b",
   "metadata": {},
   "source": [
    "### Tianshou Batch's Initialization"
   ]
  },
  {
   "cell_type": "code",
   "execution_count": 15,
   "id": "ac3958df",
   "metadata": {
    "execution": {
     "iopub.execute_input": "2023-02-27T14:18:38.879063Z",
     "iopub.status.busy": "2023-02-27T14:18:38.878446Z",
     "iopub.status.idle": "2023-02-27T14:18:47.964377Z",
     "shell.execute_reply": "2023-02-27T14:18:47.963711Z"
    }
   },
   "outputs": [
    {
     "name": "stdout",
     "output_type": "stream",
     "text": [
      "11.2 µs ± 68.9 ns per loop (mean ± std. dev. of 7 runs, 100,000 loops each)\n"
     ]
    }
   ],
   "source": [
    "%timeit Batch(**_TREE_DATA_1)"
   ]
  },
  {
   "cell_type": "markdown",
   "id": "1ab82e2d",
   "metadata": {},
   "source": [
    "## Deep Copy Operation"
   ]
  },
  {
   "cell_type": "code",
   "execution_count": 16,
   "id": "210a9442",
   "metadata": {
    "execution": {
     "iopub.execute_input": "2023-02-27T14:18:47.967561Z",
     "iopub.status.busy": "2023-02-27T14:18:47.967014Z",
     "iopub.status.idle": "2023-02-27T14:18:47.970979Z",
     "shell.execute_reply": "2023-02-27T14:18:47.970370Z"
    }
   },
   "outputs": [],
   "source": [
    "import copy"
   ]
  },
  {
   "cell_type": "markdown",
   "id": "5a736274",
   "metadata": {},
   "source": [
    "### Deep Copy of TreeValue"
   ]
  },
  {
   "cell_type": "code",
   "execution_count": 17,
   "id": "f9bcadd6",
   "metadata": {
    "execution": {
     "iopub.execute_input": "2023-02-27T14:18:47.973617Z",
     "iopub.status.busy": "2023-02-27T14:18:47.973290Z",
     "iopub.status.idle": "2023-02-27T14:18:59.082863Z",
     "shell.execute_reply": "2023-02-27T14:18:59.082255Z"
    }
   },
   "outputs": [
    {
     "name": "stdout",
     "output_type": "stream",
     "text": [
      "137 µs ± 613 ns per loop (mean ± std. dev. of 7 runs, 10,000 loops each)\n"
     ]
    }
   ],
   "source": [
    "t3 = FastTreeValue(_TREE_DATA_3)\n",
    "%timeit copy.deepcopy(t3)"
   ]
  },
  {
   "cell_type": "markdown",
   "id": "bf8be7ea",
   "metadata": {},
   "source": [
    "### Deep Copy of Tianshou Batch"
   ]
  },
  {
   "cell_type": "code",
   "execution_count": 18,
   "id": "91998e6f",
   "metadata": {
    "execution": {
     "iopub.execute_input": "2023-02-27T14:18:59.086339Z",
     "iopub.status.busy": "2023-02-27T14:18:59.085339Z",
     "iopub.status.idle": "2023-02-27T14:19:10.411850Z",
     "shell.execute_reply": "2023-02-27T14:19:10.411258Z"
    }
   },
   "outputs": [
    {
     "name": "stdout",
     "output_type": "stream",
     "text": [
      "140 µs ± 1.38 µs per loop (mean ± std. dev. of 7 runs, 10,000 loops each)\n"
     ]
    }
   ],
   "source": [
    "b3 = Batch(**_TREE_DATA_3)\n",
    "%timeit copy.deepcopy(b3)"
   ]
  },
  {
   "cell_type": "markdown",
   "id": "223162fb",
   "metadata": {},
   "source": [
    "## Stack, Concat and Split Operation"
   ]
  },
  {
   "cell_type": "markdown",
   "id": "85fa4a73",
   "metadata": {},
   "source": [
    "### Performance of TreeValue"
   ]
  },
  {
   "cell_type": "code",
   "execution_count": 19,
   "id": "a0c2b697",
   "metadata": {
    "execution": {
     "iopub.execute_input": "2023-02-27T14:19:10.415728Z",
     "iopub.status.busy": "2023-02-27T14:19:10.414800Z",
     "iopub.status.idle": "2023-02-27T14:19:10.418998Z",
     "shell.execute_reply": "2023-02-27T14:19:10.418467Z"
    }
   },
   "outputs": [],
   "source": [
    "trees = [FastTreeValue(_TREE_DATA_2) for _ in range(8)]"
   ]
  },
  {
   "cell_type": "code",
   "execution_count": 20,
   "id": "017ea5a5",
   "metadata": {
    "execution": {
     "iopub.execute_input": "2023-02-27T14:19:10.422498Z",
     "iopub.status.busy": "2023-02-27T14:19:10.421609Z",
     "iopub.status.idle": "2023-02-27T14:19:10.428859Z",
     "shell.execute_reply": "2023-02-27T14:19:10.428341Z"
    }
   },
   "outputs": [
    {
     "data": {
      "text/plain": [
       "<FastTreeValue 0x7fd9282daa30>\n",
       "├── 'a' --> tensor([[[ 0.8606,  1.7264, -1.4719],\n",
       "│                    [ 1.8389,  0.3471,  0.2538]],\n",
       "│           \n",
       "│                   [[ 0.8606,  1.7264, -1.4719],\n",
       "│                    [ 1.8389,  0.3471,  0.2538]],\n",
       "│           \n",
       "│                   [[ 0.8606,  1.7264, -1.4719],\n",
       "│                    [ 1.8389,  0.3471,  0.2538]],\n",
       "│           \n",
       "│                   [[ 0.8606,  1.7264, -1.4719],\n",
       "│                    [ 1.8389,  0.3471,  0.2538]],\n",
       "│           \n",
       "│                   [[ 0.8606,  1.7264, -1.4719],\n",
       "│                    [ 1.8389,  0.3471,  0.2538]],\n",
       "│           \n",
       "│                   [[ 0.8606,  1.7264, -1.4719],\n",
       "│                    [ 1.8389,  0.3471,  0.2538]],\n",
       "│           \n",
       "│                   [[ 0.8606,  1.7264, -1.4719],\n",
       "│                    [ 1.8389,  0.3471,  0.2538]],\n",
       "│           \n",
       "│                   [[ 0.8606,  1.7264, -1.4719],\n",
       "│                    [ 1.8389,  0.3471,  0.2538]]])\n",
       "└── 'x' --> <FastTreeValue 0x7fd9282dab50>\n",
       "    └── 'c' --> tensor([[[ 0.0093, -0.6375,  0.5757,  0.1860],\n",
       "                         [-0.3042,  0.2066, -0.1245, -0.7442],\n",
       "                         [-0.9315,  1.9697, -0.0161, -0.5330]],\n",
       "                \n",
       "                        [[ 0.0093, -0.6375,  0.5757,  0.1860],\n",
       "                         [-0.3042,  0.2066, -0.1245, -0.7442],\n",
       "                         [-0.9315,  1.9697, -0.0161, -0.5330]],\n",
       "                \n",
       "                        [[ 0.0093, -0.6375,  0.5757,  0.1860],\n",
       "                         [-0.3042,  0.2066, -0.1245, -0.7442],\n",
       "                         [-0.9315,  1.9697, -0.0161, -0.5330]],\n",
       "                \n",
       "                        [[ 0.0093, -0.6375,  0.5757,  0.1860],\n",
       "                         [-0.3042,  0.2066, -0.1245, -0.7442],\n",
       "                         [-0.9315,  1.9697, -0.0161, -0.5330]],\n",
       "                \n",
       "                        [[ 0.0093, -0.6375,  0.5757,  0.1860],\n",
       "                         [-0.3042,  0.2066, -0.1245, -0.7442],\n",
       "                         [-0.9315,  1.9697, -0.0161, -0.5330]],\n",
       "                \n",
       "                        [[ 0.0093, -0.6375,  0.5757,  0.1860],\n",
       "                         [-0.3042,  0.2066, -0.1245, -0.7442],\n",
       "                         [-0.9315,  1.9697, -0.0161, -0.5330]],\n",
       "                \n",
       "                        [[ 0.0093, -0.6375,  0.5757,  0.1860],\n",
       "                         [-0.3042,  0.2066, -0.1245, -0.7442],\n",
       "                         [-0.9315,  1.9697, -0.0161, -0.5330]],\n",
       "                \n",
       "                        [[ 0.0093, -0.6375,  0.5757,  0.1860],\n",
       "                         [-0.3042,  0.2066, -0.1245, -0.7442],\n",
       "                         [-0.9315,  1.9697, -0.0161, -0.5330]]])"
      ]
     },
     "execution_count": 20,
     "metadata": {},
     "output_type": "execute_result"
    }
   ],
   "source": [
    "t_stack = FastTreeValue.func(subside=True)(torch.stack)\n",
    "\n",
    "t_stack(trees)"
   ]
  },
  {
   "cell_type": "code",
   "execution_count": 21,
   "id": "f8b3f415",
   "metadata": {
    "execution": {
     "iopub.execute_input": "2023-02-27T14:19:10.431297Z",
     "iopub.status.busy": "2023-02-27T14:19:10.430955Z",
     "iopub.status.idle": "2023-02-27T14:19:12.990635Z",
     "shell.execute_reply": "2023-02-27T14:19:12.989879Z"
    }
   },
   "outputs": [
    {
     "name": "stdout",
     "output_type": "stream",
     "text": [
      "31.5 µs ± 116 ns per loop (mean ± std. dev. of 7 runs, 10,000 loops each)\n"
     ]
    }
   ],
   "source": [
    "%timeit t_stack(trees)"
   ]
  },
  {
   "cell_type": "code",
   "execution_count": 22,
   "id": "94b56771",
   "metadata": {
    "execution": {
     "iopub.execute_input": "2023-02-27T14:19:12.993617Z",
     "iopub.status.busy": "2023-02-27T14:19:12.993251Z",
     "iopub.status.idle": "2023-02-27T14:19:13.001205Z",
     "shell.execute_reply": "2023-02-27T14:19:13.000632Z"
    }
   },
   "outputs": [
    {
     "data": {
      "text/plain": [
       "<FastTreeValue 0x7fd9282d4220>\n",
       "├── 'a' --> tensor([[ 0.8606,  1.7264, -1.4719],\n",
       "│                   [ 1.8389,  0.3471,  0.2538],\n",
       "│                   [ 0.8606,  1.7264, -1.4719],\n",
       "│                   [ 1.8389,  0.3471,  0.2538],\n",
       "│                   [ 0.8606,  1.7264, -1.4719],\n",
       "│                   [ 1.8389,  0.3471,  0.2538],\n",
       "│                   [ 0.8606,  1.7264, -1.4719],\n",
       "│                   [ 1.8389,  0.3471,  0.2538],\n",
       "│                   [ 0.8606,  1.7264, -1.4719],\n",
       "│                   [ 1.8389,  0.3471,  0.2538],\n",
       "│                   [ 0.8606,  1.7264, -1.4719],\n",
       "│                   [ 1.8389,  0.3471,  0.2538],\n",
       "│                   [ 0.8606,  1.7264, -1.4719],\n",
       "│                   [ 1.8389,  0.3471,  0.2538],\n",
       "│                   [ 0.8606,  1.7264, -1.4719],\n",
       "│                   [ 1.8389,  0.3471,  0.2538]])\n",
       "└── 'x' --> <FastTreeValue 0x7fd871543a90>\n",
       "    └── 'c' --> tensor([[ 0.0093, -0.6375,  0.5757,  0.1860],\n",
       "                        [-0.3042,  0.2066, -0.1245, -0.7442],\n",
       "                        [-0.9315,  1.9697, -0.0161, -0.5330],\n",
       "                        [ 0.0093, -0.6375,  0.5757,  0.1860],\n",
       "                        [-0.3042,  0.2066, -0.1245, -0.7442],\n",
       "                        [-0.9315,  1.9697, -0.0161, -0.5330],\n",
       "                        [ 0.0093, -0.6375,  0.5757,  0.1860],\n",
       "                        [-0.3042,  0.2066, -0.1245, -0.7442],\n",
       "                        [-0.9315,  1.9697, -0.0161, -0.5330],\n",
       "                        [ 0.0093, -0.6375,  0.5757,  0.1860],\n",
       "                        [-0.3042,  0.2066, -0.1245, -0.7442],\n",
       "                        [-0.9315,  1.9697, -0.0161, -0.5330],\n",
       "                        [ 0.0093, -0.6375,  0.5757,  0.1860],\n",
       "                        [-0.3042,  0.2066, -0.1245, -0.7442],\n",
       "                        [-0.9315,  1.9697, -0.0161, -0.5330],\n",
       "                        [ 0.0093, -0.6375,  0.5757,  0.1860],\n",
       "                        [-0.3042,  0.2066, -0.1245, -0.7442],\n",
       "                        [-0.9315,  1.9697, -0.0161, -0.5330],\n",
       "                        [ 0.0093, -0.6375,  0.5757,  0.1860],\n",
       "                        [-0.3042,  0.2066, -0.1245, -0.7442],\n",
       "                        [-0.9315,  1.9697, -0.0161, -0.5330],\n",
       "                        [ 0.0093, -0.6375,  0.5757,  0.1860],\n",
       "                        [-0.3042,  0.2066, -0.1245, -0.7442],\n",
       "                        [-0.9315,  1.9697, -0.0161, -0.5330]])"
      ]
     },
     "execution_count": 22,
     "metadata": {},
     "output_type": "execute_result"
    }
   ],
   "source": [
    "t_cat = FastTreeValue.func(subside=True)(torch.cat)\n",
    "\n",
    "t_cat(trees)"
   ]
  },
  {
   "cell_type": "code",
   "execution_count": 23,
   "id": "5e9c06a6",
   "metadata": {
    "execution": {
     "iopub.execute_input": "2023-02-27T14:19:13.004077Z",
     "iopub.status.busy": "2023-02-27T14:19:13.003549Z",
     "iopub.status.idle": "2023-02-27T14:19:15.420063Z",
     "shell.execute_reply": "2023-02-27T14:19:15.419376Z"
    }
   },
   "outputs": [
    {
     "name": "stdout",
     "output_type": "stream",
     "text": [
      "29.7 µs ± 96.7 ns per loop (mean ± std. dev. of 7 runs, 10,000 loops each)\n"
     ]
    }
   ],
   "source": [
    "%timeit t_cat(trees)"
   ]
  },
  {
   "cell_type": "code",
   "execution_count": 24,
   "id": "a3ab5c8f",
   "metadata": {
    "execution": {
     "iopub.execute_input": "2023-02-27T14:19:15.423359Z",
     "iopub.status.busy": "2023-02-27T14:19:15.422717Z",
     "iopub.status.idle": "2023-02-27T14:19:20.159373Z",
     "shell.execute_reply": "2023-02-27T14:19:20.158611Z"
    }
   },
   "outputs": [
    {
     "name": "stdout",
     "output_type": "stream",
     "text": [
      "58.2 µs ± 131 ns per loop (mean ± std. dev. of 7 runs, 10,000 loops each)\n"
     ]
    }
   ],
   "source": [
    "t_split = FastTreeValue.func(rise=True)(torch.split)\n",
    "tree = FastTreeValue({\n",
    "    'obs': torch.randn(8, 4, 84, 84),\n",
    "    'action': torch.randint(0, 6, size=(8, 1,)),\n",
    "    'reward': torch.rand(8, 1),\n",
    "})\n",
    "\n",
    "%timeit t_split(tree, 1)"
   ]
  },
  {
   "cell_type": "markdown",
   "id": "31c3ec0b",
   "metadata": {},
   "source": [
    "### Performance of Tianshou Batch"
   ]
  },
  {
   "cell_type": "code",
   "execution_count": 25,
   "id": "9ead828a",
   "metadata": {
    "execution": {
     "iopub.execute_input": "2023-02-27T14:19:20.162726Z",
     "iopub.status.busy": "2023-02-27T14:19:20.162151Z",
     "iopub.status.idle": "2023-02-27T14:19:20.170124Z",
     "shell.execute_reply": "2023-02-27T14:19:20.169522Z"
    }
   },
   "outputs": [
    {
     "data": {
      "text/plain": [
       "Batch(\n",
       "    x: Batch(\n",
       "           c: tensor([[[ 0.0093, -0.6375,  0.5757,  0.1860],\n",
       "                       [-0.3042,  0.2066, -0.1245, -0.7442],\n",
       "                       [-0.9315,  1.9697, -0.0161, -0.5330]],\n",
       "              \n",
       "                      [[ 0.0093, -0.6375,  0.5757,  0.1860],\n",
       "                       [-0.3042,  0.2066, -0.1245, -0.7442],\n",
       "                       [-0.9315,  1.9697, -0.0161, -0.5330]],\n",
       "              \n",
       "                      [[ 0.0093, -0.6375,  0.5757,  0.1860],\n",
       "                       [-0.3042,  0.2066, -0.1245, -0.7442],\n",
       "                       [-0.9315,  1.9697, -0.0161, -0.5330]],\n",
       "              \n",
       "                      [[ 0.0093, -0.6375,  0.5757,  0.1860],\n",
       "                       [-0.3042,  0.2066, -0.1245, -0.7442],\n",
       "                       [-0.9315,  1.9697, -0.0161, -0.5330]],\n",
       "              \n",
       "                      [[ 0.0093, -0.6375,  0.5757,  0.1860],\n",
       "                       [-0.3042,  0.2066, -0.1245, -0.7442],\n",
       "                       [-0.9315,  1.9697, -0.0161, -0.5330]],\n",
       "              \n",
       "                      [[ 0.0093, -0.6375,  0.5757,  0.1860],\n",
       "                       [-0.3042,  0.2066, -0.1245, -0.7442],\n",
       "                       [-0.9315,  1.9697, -0.0161, -0.5330]],\n",
       "              \n",
       "                      [[ 0.0093, -0.6375,  0.5757,  0.1860],\n",
       "                       [-0.3042,  0.2066, -0.1245, -0.7442],\n",
       "                       [-0.9315,  1.9697, -0.0161, -0.5330]],\n",
       "              \n",
       "                      [[ 0.0093, -0.6375,  0.5757,  0.1860],\n",
       "                       [-0.3042,  0.2066, -0.1245, -0.7442],\n",
       "                       [-0.9315,  1.9697, -0.0161, -0.5330]]]),\n",
       "       ),\n",
       "    a: tensor([[[ 0.8606,  1.7264, -1.4719],\n",
       "                [ 1.8389,  0.3471,  0.2538]],\n",
       "       \n",
       "               [[ 0.8606,  1.7264, -1.4719],\n",
       "                [ 1.8389,  0.3471,  0.2538]],\n",
       "       \n",
       "               [[ 0.8606,  1.7264, -1.4719],\n",
       "                [ 1.8389,  0.3471,  0.2538]],\n",
       "       \n",
       "               [[ 0.8606,  1.7264, -1.4719],\n",
       "                [ 1.8389,  0.3471,  0.2538]],\n",
       "       \n",
       "               [[ 0.8606,  1.7264, -1.4719],\n",
       "                [ 1.8389,  0.3471,  0.2538]],\n",
       "       \n",
       "               [[ 0.8606,  1.7264, -1.4719],\n",
       "                [ 1.8389,  0.3471,  0.2538]],\n",
       "       \n",
       "               [[ 0.8606,  1.7264, -1.4719],\n",
       "                [ 1.8389,  0.3471,  0.2538]],\n",
       "       \n",
       "               [[ 0.8606,  1.7264, -1.4719],\n",
       "                [ 1.8389,  0.3471,  0.2538]]]),\n",
       ")"
      ]
     },
     "execution_count": 25,
     "metadata": {},
     "output_type": "execute_result"
    }
   ],
   "source": [
    "batches = [Batch(**_TREE_DATA_2) for _ in range(8)]\n",
    "\n",
    "Batch.stack(batches)"
   ]
  },
  {
   "cell_type": "code",
   "execution_count": 26,
   "id": "ec9037a3",
   "metadata": {
    "execution": {
     "iopub.execute_input": "2023-02-27T14:19:20.173112Z",
     "iopub.status.busy": "2023-02-27T14:19:20.172622Z",
     "iopub.status.idle": "2023-02-27T14:19:26.517044Z",
     "shell.execute_reply": "2023-02-27T14:19:26.516385Z"
    }
   },
   "outputs": [
    {
     "name": "stdout",
     "output_type": "stream",
     "text": [
      "78 µs ± 181 ns per loop (mean ± std. dev. of 7 runs, 10,000 loops each)\n"
     ]
    }
   ],
   "source": [
    "%timeit Batch.stack(batches)"
   ]
  },
  {
   "cell_type": "code",
   "execution_count": 27,
   "id": "cb8ab77e",
   "metadata": {
    "execution": {
     "iopub.execute_input": "2023-02-27T14:19:26.520020Z",
     "iopub.status.busy": "2023-02-27T14:19:26.519653Z",
     "iopub.status.idle": "2023-02-27T14:19:26.527295Z",
     "shell.execute_reply": "2023-02-27T14:19:26.526705Z"
    }
   },
   "outputs": [
    {
     "data": {
      "text/plain": [
       "Batch(\n",
       "    x: Batch(\n",
       "           c: tensor([[ 0.0093, -0.6375,  0.5757,  0.1860],\n",
       "                      [-0.3042,  0.2066, -0.1245, -0.7442],\n",
       "                      [-0.9315,  1.9697, -0.0161, -0.5330],\n",
       "                      [ 0.0093, -0.6375,  0.5757,  0.1860],\n",
       "                      [-0.3042,  0.2066, -0.1245, -0.7442],\n",
       "                      [-0.9315,  1.9697, -0.0161, -0.5330],\n",
       "                      [ 0.0093, -0.6375,  0.5757,  0.1860],\n",
       "                      [-0.3042,  0.2066, -0.1245, -0.7442],\n",
       "                      [-0.9315,  1.9697, -0.0161, -0.5330],\n",
       "                      [ 0.0093, -0.6375,  0.5757,  0.1860],\n",
       "                      [-0.3042,  0.2066, -0.1245, -0.7442],\n",
       "                      [-0.9315,  1.9697, -0.0161, -0.5330],\n",
       "                      [ 0.0093, -0.6375,  0.5757,  0.1860],\n",
       "                      [-0.3042,  0.2066, -0.1245, -0.7442],\n",
       "                      [-0.9315,  1.9697, -0.0161, -0.5330],\n",
       "                      [ 0.0093, -0.6375,  0.5757,  0.1860],\n",
       "                      [-0.3042,  0.2066, -0.1245, -0.7442],\n",
       "                      [-0.9315,  1.9697, -0.0161, -0.5330],\n",
       "                      [ 0.0093, -0.6375,  0.5757,  0.1860],\n",
       "                      [-0.3042,  0.2066, -0.1245, -0.7442],\n",
       "                      [-0.9315,  1.9697, -0.0161, -0.5330],\n",
       "                      [ 0.0093, -0.6375,  0.5757,  0.1860],\n",
       "                      [-0.3042,  0.2066, -0.1245, -0.7442],\n",
       "                      [-0.9315,  1.9697, -0.0161, -0.5330]]),\n",
       "       ),\n",
       "    a: tensor([[ 0.8606,  1.7264, -1.4719],\n",
       "               [ 1.8389,  0.3471,  0.2538],\n",
       "               [ 0.8606,  1.7264, -1.4719],\n",
       "               [ 1.8389,  0.3471,  0.2538],\n",
       "               [ 0.8606,  1.7264, -1.4719],\n",
       "               [ 1.8389,  0.3471,  0.2538],\n",
       "               [ 0.8606,  1.7264, -1.4719],\n",
       "               [ 1.8389,  0.3471,  0.2538],\n",
       "               [ 0.8606,  1.7264, -1.4719],\n",
       "               [ 1.8389,  0.3471,  0.2538],\n",
       "               [ 0.8606,  1.7264, -1.4719],\n",
       "               [ 1.8389,  0.3471,  0.2538],\n",
       "               [ 0.8606,  1.7264, -1.4719],\n",
       "               [ 1.8389,  0.3471,  0.2538],\n",
       "               [ 0.8606,  1.7264, -1.4719],\n",
       "               [ 1.8389,  0.3471,  0.2538]]),\n",
       ")"
      ]
     },
     "execution_count": 27,
     "metadata": {},
     "output_type": "execute_result"
    }
   ],
   "source": [
    "Batch.cat(batches)"
   ]
  },
  {
   "cell_type": "code",
   "execution_count": 28,
   "id": "18dfb045",
   "metadata": {
    "execution": {
     "iopub.execute_input": "2023-02-27T14:19:26.530231Z",
     "iopub.status.busy": "2023-02-27T14:19:26.529633Z",
     "iopub.status.idle": "2023-02-27T14:19:38.121590Z",
     "shell.execute_reply": "2023-02-27T14:19:38.120826Z"
    }
   },
   "outputs": [
    {
     "name": "stdout",
     "output_type": "stream",
     "text": [
      "143 µs ± 363 ns per loop (mean ± std. dev. of 7 runs, 10,000 loops each)\n"
     ]
    }
   ],
   "source": [
    "%timeit Batch.cat(batches)"
   ]
  },
  {
   "cell_type": "code",
   "execution_count": 29,
   "id": "c6688e51",
   "metadata": {
    "execution": {
     "iopub.execute_input": "2023-02-27T14:19:38.124735Z",
     "iopub.status.busy": "2023-02-27T14:19:38.124347Z",
     "iopub.status.idle": "2023-02-27T14:19:40.650243Z",
     "shell.execute_reply": "2023-02-27T14:19:40.649528Z"
    }
   },
   "outputs": [
    {
     "name": "stdout",
     "output_type": "stream",
     "text": [
      "310 µs ± 7.2 µs per loop (mean ± std. dev. of 7 runs, 1,000 loops each)\n"
     ]
    }
   ],
   "source": [
    "batch = Batch({\n",
    "    'obs': torch.randn(8, 4, 84, 84),\n",
    "    'action': torch.randint(0, 6, size=(8, 1,)),\n",
    "    'reward': torch.rand(8, 1)}\n",
    ")\n",
    "\n",
    "%timeit list(Batch.split(batch, 1, shuffle=False, merge_last=True))"
   ]
  },
  {
   "cell_type": "code",
   "execution_count": null,
   "id": "2539fbd9",
   "metadata": {},
   "outputs": [],
   "source": []
  }
 ],
 "metadata": {
  "kernelspec": {
   "display_name": "Python 3 (ipykernel)",
   "language": "python",
   "name": "python3"
  },
  "language_info": {
   "codemirror_mode": {
    "name": "ipython",
    "version": 3
   },
   "file_extension": ".py",
   "mimetype": "text/x-python",
   "name": "python",
   "nbconvert_exporter": "python",
   "pygments_lexer": "ipython3",
   "version": "3.8.16"
  }
 },
 "nbformat": 4,
 "nbformat_minor": 5
}
