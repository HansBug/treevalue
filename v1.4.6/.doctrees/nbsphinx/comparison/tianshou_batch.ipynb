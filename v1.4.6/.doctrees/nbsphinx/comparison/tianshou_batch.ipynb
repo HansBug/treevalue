{
 "cells": [
  {
   "cell_type": "markdown",
   "id": "9d39d946",
   "metadata": {},
   "source": [
    "# Comparison Between TreeValue and Tianshou Batch"
   ]
  },
  {
   "cell_type": "markdown",
   "id": "3c6db2d4",
   "metadata": {},
   "source": [
    "In this section, we will take a look at the feature and performance of the [Tianshou Batch](https://github.com/thu-ml/tianshou) library, which is developed by Tsinghua Machine Learning Group."
   ]
  },
  {
   "cell_type": "markdown",
   "id": "069361b0",
   "metadata": {},
   "source": [
    "Before starting the comparison, let us define some thing."
   ]
  },
  {
   "cell_type": "code",
   "execution_count": 1,
   "id": "06fc8d26",
   "metadata": {
    "execution": {
     "iopub.execute_input": "2023-02-27T09:52:24.830821Z",
     "iopub.status.busy": "2023-02-27T09:52:24.830503Z",
     "iopub.status.idle": "2023-02-27T09:52:25.741300Z",
     "shell.execute_reply": "2023-02-27T09:52:25.740648Z"
    }
   },
   "outputs": [
    {
     "name": "stderr",
     "output_type": "stream",
     "text": [
      "/opt/hostedtoolcache/Python/3.8.16/x64/lib/python3.8/site-packages/tqdm/auto.py:22: TqdmWarning: IProgress not found. Please update jupyter and ipywidgets. See https://ipywidgets.readthedocs.io/en/stable/user_install.html\n",
      "  from .autonotebook import tqdm as notebook_tqdm\n"
     ]
    }
   ],
   "source": [
    "import torch \n",
    "\n",
    "_TREE_DATA_1 = {'a': 1, 'b': 2, 'x': {'c': 3, 'd': 4}}\n",
    "_TREE_DATA_2 = {\n",
    "    'a': torch.randn(2, 3), \n",
    "    'x': {\n",
    "        'c': torch.randn(3, 4)\n",
    "    },\n",
    "}\n",
    "_TREE_DATA_3 = {\n",
    "    'obs': torch.randn(4, 84, 84),\n",
    "    'action': torch.randint(0, 6, size=(1,)),\n",
    "    'reward': torch.rand(1),\n",
    "}"
   ]
  },
  {
   "cell_type": "markdown",
   "id": "83461b25",
   "metadata": {},
   "source": [
    "## Read and Write Operation"
   ]
  },
  {
   "cell_type": "markdown",
   "id": "067b3f73",
   "metadata": {},
   "source": [
    "Reading and writing are the two most common operations in the tree data structure based on the data model (TreeValue and Tianshou Batch both belong to this type), so this section will compare the reading and writing performance of these two libraries."
   ]
  },
  {
   "cell_type": "markdown",
   "id": "5d09a5b7",
   "metadata": {},
   "source": [
    "### TreeValue's Get and Set"
   ]
  },
  {
   "cell_type": "code",
   "execution_count": 2,
   "id": "9519c4bb",
   "metadata": {
    "execution": {
     "iopub.execute_input": "2023-02-27T09:52:25.744258Z",
     "iopub.status.busy": "2023-02-27T09:52:25.743788Z",
     "iopub.status.idle": "2023-02-27T09:52:26.017967Z",
     "shell.execute_reply": "2023-02-27T09:52:26.017297Z"
    }
   },
   "outputs": [],
   "source": [
    "from treevalue import FastTreeValue\n",
    "\n",
    "t = FastTreeValue(_TREE_DATA_2)"
   ]
  },
  {
   "cell_type": "code",
   "execution_count": 3,
   "id": "11c37677",
   "metadata": {
    "execution": {
     "iopub.execute_input": "2023-02-27T09:52:26.020992Z",
     "iopub.status.busy": "2023-02-27T09:52:26.020394Z",
     "iopub.status.idle": "2023-02-27T09:52:26.028824Z",
     "shell.execute_reply": "2023-02-27T09:52:26.028179Z"
    }
   },
   "outputs": [
    {
     "data": {
      "text/plain": [
       "<FastTreeValue 0x7f00e855a340>\n",
       "├── 'a' --> tensor([[ 0.9657,  0.5533, -0.0730],\n",
       "│                   [ 0.0205,  0.6028,  1.2843]])\n",
       "└── 'x' --> <FastTreeValue 0x7f00e855a7f0>\n",
       "    └── 'c' --> tensor([[ 2.4693, -0.9482,  0.4203, -0.2541],\n",
       "                        [-0.5634,  1.1323, -0.0617, -0.3299],\n",
       "                        [-0.4680,  0.0155,  2.0219,  0.3427]])"
      ]
     },
     "execution_count": 3,
     "metadata": {},
     "output_type": "execute_result"
    }
   ],
   "source": [
    "t"
   ]
  },
  {
   "cell_type": "code",
   "execution_count": 4,
   "id": "fd70b0b9",
   "metadata": {
    "execution": {
     "iopub.execute_input": "2023-02-27T09:52:26.031419Z",
     "iopub.status.busy": "2023-02-27T09:52:26.030911Z",
     "iopub.status.idle": "2023-02-27T09:52:26.035585Z",
     "shell.execute_reply": "2023-02-27T09:52:26.034962Z"
    }
   },
   "outputs": [
    {
     "data": {
      "text/plain": [
       "tensor([[ 0.9657,  0.5533, -0.0730],\n",
       "        [ 0.0205,  0.6028,  1.2843]])"
      ]
     },
     "execution_count": 4,
     "metadata": {},
     "output_type": "execute_result"
    }
   ],
   "source": [
    "t.a"
   ]
  },
  {
   "cell_type": "code",
   "execution_count": 5,
   "id": "c18197bd",
   "metadata": {
    "execution": {
     "iopub.execute_input": "2023-02-27T09:52:26.037866Z",
     "iopub.status.busy": "2023-02-27T09:52:26.037526Z",
     "iopub.status.idle": "2023-02-27T09:52:31.122881Z",
     "shell.execute_reply": "2023-02-27T09:52:31.122120Z"
    }
   },
   "outputs": [
    {
     "name": "stdout",
     "output_type": "stream",
     "text": [
      "62.9 ns ± 0.0267 ns per loop (mean ± std. dev. of 7 runs, 10,000,000 loops each)\n"
     ]
    }
   ],
   "source": [
    "%timeit t.a"
   ]
  },
  {
   "cell_type": "code",
   "execution_count": 6,
   "id": "bd52f867",
   "metadata": {
    "execution": {
     "iopub.execute_input": "2023-02-27T09:52:31.125875Z",
     "iopub.status.busy": "2023-02-27T09:52:31.125412Z",
     "iopub.status.idle": "2023-02-27T09:52:31.132003Z",
     "shell.execute_reply": "2023-02-27T09:52:31.131428Z"
    }
   },
   "outputs": [
    {
     "data": {
      "text/plain": [
       "<FastTreeValue 0x7f00e855a340>\n",
       "├── 'a' --> tensor([[ 0.3956,  0.7540,  0.1625],\n",
       "│                   [-0.6691,  1.3619,  0.2150]])\n",
       "└── 'x' --> <FastTreeValue 0x7f00e855a7f0>\n",
       "    └── 'c' --> tensor([[ 2.4693, -0.9482,  0.4203, -0.2541],\n",
       "                        [-0.5634,  1.1323, -0.0617, -0.3299],\n",
       "                        [-0.4680,  0.0155,  2.0219,  0.3427]])"
      ]
     },
     "execution_count": 6,
     "metadata": {},
     "output_type": "execute_result"
    }
   ],
   "source": [
    "new_value = torch.randn(2, 3)\n",
    "t.a = new_value\n",
    "\n",
    "t"
   ]
  },
  {
   "cell_type": "code",
   "execution_count": 7,
   "id": "bbe04d1c",
   "metadata": {
    "execution": {
     "iopub.execute_input": "2023-02-27T09:52:31.134205Z",
     "iopub.status.busy": "2023-02-27T09:52:31.133978Z",
     "iopub.status.idle": "2023-02-27T09:52:36.155280Z",
     "shell.execute_reply": "2023-02-27T09:52:36.154553Z"
    }
   },
   "outputs": [
    {
     "name": "stdout",
     "output_type": "stream",
     "text": [
      "61.9 ns ± 0.0327 ns per loop (mean ± std. dev. of 7 runs, 10,000,000 loops each)\n"
     ]
    }
   ],
   "source": [
    "%timeit t.a = new_value"
   ]
  },
  {
   "cell_type": "markdown",
   "id": "48c49731",
   "metadata": {},
   "source": [
    "### Tianshou Batch's Get and Set"
   ]
  },
  {
   "cell_type": "code",
   "execution_count": 8,
   "id": "f1bb14c1",
   "metadata": {
    "execution": {
     "iopub.execute_input": "2023-02-27T09:52:36.158561Z",
     "iopub.status.busy": "2023-02-27T09:52:36.157921Z",
     "iopub.status.idle": "2023-02-27T09:52:36.486614Z",
     "shell.execute_reply": "2023-02-27T09:52:36.485909Z"
    }
   },
   "outputs": [],
   "source": [
    "from tianshou.data import Batch\n",
    "\n",
    "b = Batch(**_TREE_DATA_2)"
   ]
  },
  {
   "cell_type": "code",
   "execution_count": 9,
   "id": "cb0777c3",
   "metadata": {
    "execution": {
     "iopub.execute_input": "2023-02-27T09:52:36.490064Z",
     "iopub.status.busy": "2023-02-27T09:52:36.489327Z",
     "iopub.status.idle": "2023-02-27T09:52:36.494906Z",
     "shell.execute_reply": "2023-02-27T09:52:36.494286Z"
    }
   },
   "outputs": [
    {
     "data": {
      "text/plain": [
       "Batch(\n",
       "    a: tensor([[ 0.9657,  0.5533, -0.0730],\n",
       "               [ 0.0205,  0.6028,  1.2843]]),\n",
       "    x: Batch(\n",
       "           c: tensor([[ 2.4693, -0.9482,  0.4203, -0.2541],\n",
       "                      [-0.5634,  1.1323, -0.0617, -0.3299],\n",
       "                      [-0.4680,  0.0155,  2.0219,  0.3427]]),\n",
       "       ),\n",
       ")"
      ]
     },
     "execution_count": 9,
     "metadata": {},
     "output_type": "execute_result"
    }
   ],
   "source": [
    "b"
   ]
  },
  {
   "cell_type": "code",
   "execution_count": 10,
   "id": "43ef8ea3",
   "metadata": {
    "execution": {
     "iopub.execute_input": "2023-02-27T09:52:36.497482Z",
     "iopub.status.busy": "2023-02-27T09:52:36.497151Z",
     "iopub.status.idle": "2023-02-27T09:52:36.501854Z",
     "shell.execute_reply": "2023-02-27T09:52:36.501225Z"
    }
   },
   "outputs": [
    {
     "data": {
      "text/plain": [
       "tensor([[ 0.9657,  0.5533, -0.0730],\n",
       "        [ 0.0205,  0.6028,  1.2843]])"
      ]
     },
     "execution_count": 10,
     "metadata": {},
     "output_type": "execute_result"
    }
   ],
   "source": [
    "b.a"
   ]
  },
  {
   "cell_type": "code",
   "execution_count": 11,
   "id": "b785ab72",
   "metadata": {
    "execution": {
     "iopub.execute_input": "2023-02-27T09:52:36.504581Z",
     "iopub.status.busy": "2023-02-27T09:52:36.504118Z",
     "iopub.status.idle": "2023-02-27T09:52:41.048271Z",
     "shell.execute_reply": "2023-02-27T09:52:41.047574Z"
    }
   },
   "outputs": [
    {
     "name": "stdout",
     "output_type": "stream",
     "text": [
      "55.7 ns ± 0.0697 ns per loop (mean ± std. dev. of 7 runs, 10,000,000 loops each)\n"
     ]
    }
   ],
   "source": [
    "%timeit b.a"
   ]
  },
  {
   "cell_type": "code",
   "execution_count": 12,
   "id": "ad54dc69",
   "metadata": {
    "execution": {
     "iopub.execute_input": "2023-02-27T09:52:41.050938Z",
     "iopub.status.busy": "2023-02-27T09:52:41.050585Z",
     "iopub.status.idle": "2023-02-27T09:52:41.057152Z",
     "shell.execute_reply": "2023-02-27T09:52:41.056554Z"
    }
   },
   "outputs": [
    {
     "data": {
      "text/plain": [
       "Batch(\n",
       "    a: tensor([[ 1.1155, -0.0203, -0.3145],\n",
       "               [-0.1606, -0.7114,  1.1686]]),\n",
       "    x: Batch(\n",
       "           c: tensor([[ 2.4693, -0.9482,  0.4203, -0.2541],\n",
       "                      [-0.5634,  1.1323, -0.0617, -0.3299],\n",
       "                      [-0.4680,  0.0155,  2.0219,  0.3427]]),\n",
       "       ),\n",
       ")"
      ]
     },
     "execution_count": 12,
     "metadata": {},
     "output_type": "execute_result"
    }
   ],
   "source": [
    "new_value = torch.randn(2, 3)\n",
    "b.a = new_value\n",
    "\n",
    "b"
   ]
  },
  {
   "cell_type": "code",
   "execution_count": 13,
   "id": "29b1d0bf",
   "metadata": {
    "execution": {
     "iopub.execute_input": "2023-02-27T09:52:41.059721Z",
     "iopub.status.busy": "2023-02-27T09:52:41.059180Z",
     "iopub.status.idle": "2023-02-27T09:52:45.037903Z",
     "shell.execute_reply": "2023-02-27T09:52:45.037167Z"
    }
   },
   "outputs": [
    {
     "name": "stdout",
     "output_type": "stream",
     "text": [
      "490 ns ± 0.104 ns per loop (mean ± std. dev. of 7 runs, 1,000,000 loops each)\n"
     ]
    }
   ],
   "source": [
    "%timeit b.a = new_value"
   ]
  },
  {
   "cell_type": "markdown",
   "id": "b61ad1d0",
   "metadata": {},
   "source": [
    "## Initialization"
   ]
  },
  {
   "cell_type": "markdown",
   "id": "d70f0d54",
   "metadata": {},
   "source": [
    "### TreeValue's Initialization"
   ]
  },
  {
   "cell_type": "code",
   "execution_count": 14,
   "id": "d32a679b",
   "metadata": {
    "execution": {
     "iopub.execute_input": "2023-02-27T09:52:45.041249Z",
     "iopub.status.busy": "2023-02-27T09:52:45.040665Z",
     "iopub.status.idle": "2023-02-27T09:52:52.798733Z",
     "shell.execute_reply": "2023-02-27T09:52:52.797974Z"
    }
   },
   "outputs": [
    {
     "name": "stdout",
     "output_type": "stream",
     "text": [
      "956 ns ± 15.8 ns per loop (mean ± std. dev. of 7 runs, 1,000,000 loops each)\n"
     ]
    }
   ],
   "source": [
    "%timeit FastTreeValue(_TREE_DATA_1)"
   ]
  },
  {
   "cell_type": "markdown",
   "id": "24f3707b",
   "metadata": {},
   "source": [
    "### Tianshou Batch's Initialization"
   ]
  },
  {
   "cell_type": "code",
   "execution_count": 15,
   "id": "ac3958df",
   "metadata": {
    "execution": {
     "iopub.execute_input": "2023-02-27T09:52:52.801556Z",
     "iopub.status.busy": "2023-02-27T09:52:52.801216Z",
     "iopub.status.idle": "2023-02-27T09:53:02.100376Z",
     "shell.execute_reply": "2023-02-27T09:53:02.099595Z"
    }
   },
   "outputs": [
    {
     "name": "stdout",
     "output_type": "stream",
     "text": [
      "11.5 µs ± 66.6 ns per loop (mean ± std. dev. of 7 runs, 100,000 loops each)\n"
     ]
    }
   ],
   "source": [
    "%timeit Batch(**_TREE_DATA_1)"
   ]
  },
  {
   "cell_type": "markdown",
   "id": "1ab82e2d",
   "metadata": {},
   "source": [
    "## Deep Copy Operation"
   ]
  },
  {
   "cell_type": "code",
   "execution_count": 16,
   "id": "210a9442",
   "metadata": {
    "execution": {
     "iopub.execute_input": "2023-02-27T09:53:02.103123Z",
     "iopub.status.busy": "2023-02-27T09:53:02.102760Z",
     "iopub.status.idle": "2023-02-27T09:53:02.106607Z",
     "shell.execute_reply": "2023-02-27T09:53:02.105996Z"
    }
   },
   "outputs": [],
   "source": [
    "import copy"
   ]
  },
  {
   "cell_type": "markdown",
   "id": "5a736274",
   "metadata": {},
   "source": [
    "### Deep Copy of TreeValue"
   ]
  },
  {
   "cell_type": "code",
   "execution_count": 17,
   "id": "f9bcadd6",
   "metadata": {
    "execution": {
     "iopub.execute_input": "2023-02-27T09:53:02.108923Z",
     "iopub.status.busy": "2023-02-27T09:53:02.108587Z",
     "iopub.status.idle": "2023-02-27T09:53:13.133802Z",
     "shell.execute_reply": "2023-02-27T09:53:13.133232Z"
    }
   },
   "outputs": [
    {
     "name": "stdout",
     "output_type": "stream",
     "text": [
      "136 µs ± 716 ns per loop (mean ± std. dev. of 7 runs, 10,000 loops each)\n"
     ]
    }
   ],
   "source": [
    "t3 = FastTreeValue(_TREE_DATA_3)\n",
    "%timeit copy.deepcopy(t3)"
   ]
  },
  {
   "cell_type": "markdown",
   "id": "bf8be7ea",
   "metadata": {},
   "source": [
    "### Deep Copy of Tianshou Batch"
   ]
  },
  {
   "cell_type": "code",
   "execution_count": 18,
   "id": "91998e6f",
   "metadata": {
    "execution": {
     "iopub.execute_input": "2023-02-27T09:53:13.136932Z",
     "iopub.status.busy": "2023-02-27T09:53:13.136516Z",
     "iopub.status.idle": "2023-02-27T09:53:24.466655Z",
     "shell.execute_reply": "2023-02-27T09:53:24.466065Z"
    }
   },
   "outputs": [
    {
     "name": "stdout",
     "output_type": "stream",
     "text": [
      "140 µs ± 1.27 µs per loop (mean ± std. dev. of 7 runs, 10,000 loops each)\n"
     ]
    }
   ],
   "source": [
    "b3 = Batch(**_TREE_DATA_3)\n",
    "%timeit copy.deepcopy(b3)"
   ]
  },
  {
   "cell_type": "markdown",
   "id": "223162fb",
   "metadata": {},
   "source": [
    "## Stack, Concat and Split Operation"
   ]
  },
  {
   "cell_type": "markdown",
   "id": "85fa4a73",
   "metadata": {},
   "source": [
    "### Performance of TreeValue"
   ]
  },
  {
   "cell_type": "code",
   "execution_count": 19,
   "id": "a0c2b697",
   "metadata": {
    "execution": {
     "iopub.execute_input": "2023-02-27T09:53:24.470446Z",
     "iopub.status.busy": "2023-02-27T09:53:24.469539Z",
     "iopub.status.idle": "2023-02-27T09:53:24.473193Z",
     "shell.execute_reply": "2023-02-27T09:53:24.472672Z"
    }
   },
   "outputs": [],
   "source": [
    "trees = [FastTreeValue(_TREE_DATA_2) for _ in range(8)]"
   ]
  },
  {
   "cell_type": "code",
   "execution_count": 20,
   "id": "017ea5a5",
   "metadata": {
    "execution": {
     "iopub.execute_input": "2023-02-27T09:53:24.475602Z",
     "iopub.status.busy": "2023-02-27T09:53:24.475242Z",
     "iopub.status.idle": "2023-02-27T09:53:24.481905Z",
     "shell.execute_reply": "2023-02-27T09:53:24.481397Z"
    }
   },
   "outputs": [
    {
     "data": {
      "text/plain": [
       "<FastTreeValue 0x7f00e855aa30>\n",
       "├── 'a' --> tensor([[[ 0.9657,  0.5533, -0.0730],\n",
       "│                    [ 0.0205,  0.6028,  1.2843]],\n",
       "│           \n",
       "│                   [[ 0.9657,  0.5533, -0.0730],\n",
       "│                    [ 0.0205,  0.6028,  1.2843]],\n",
       "│           \n",
       "│                   [[ 0.9657,  0.5533, -0.0730],\n",
       "│                    [ 0.0205,  0.6028,  1.2843]],\n",
       "│           \n",
       "│                   [[ 0.9657,  0.5533, -0.0730],\n",
       "│                    [ 0.0205,  0.6028,  1.2843]],\n",
       "│           \n",
       "│                   [[ 0.9657,  0.5533, -0.0730],\n",
       "│                    [ 0.0205,  0.6028,  1.2843]],\n",
       "│           \n",
       "│                   [[ 0.9657,  0.5533, -0.0730],\n",
       "│                    [ 0.0205,  0.6028,  1.2843]],\n",
       "│           \n",
       "│                   [[ 0.9657,  0.5533, -0.0730],\n",
       "│                    [ 0.0205,  0.6028,  1.2843]],\n",
       "│           \n",
       "│                   [[ 0.9657,  0.5533, -0.0730],\n",
       "│                    [ 0.0205,  0.6028,  1.2843]]])\n",
       "└── 'x' --> <FastTreeValue 0x7f00e855ab50>\n",
       "    └── 'c' --> tensor([[[ 2.4693, -0.9482,  0.4203, -0.2541],\n",
       "                         [-0.5634,  1.1323, -0.0617, -0.3299],\n",
       "                         [-0.4680,  0.0155,  2.0219,  0.3427]],\n",
       "                \n",
       "                        [[ 2.4693, -0.9482,  0.4203, -0.2541],\n",
       "                         [-0.5634,  1.1323, -0.0617, -0.3299],\n",
       "                         [-0.4680,  0.0155,  2.0219,  0.3427]],\n",
       "                \n",
       "                        [[ 2.4693, -0.9482,  0.4203, -0.2541],\n",
       "                         [-0.5634,  1.1323, -0.0617, -0.3299],\n",
       "                         [-0.4680,  0.0155,  2.0219,  0.3427]],\n",
       "                \n",
       "                        [[ 2.4693, -0.9482,  0.4203, -0.2541],\n",
       "                         [-0.5634,  1.1323, -0.0617, -0.3299],\n",
       "                         [-0.4680,  0.0155,  2.0219,  0.3427]],\n",
       "                \n",
       "                        [[ 2.4693, -0.9482,  0.4203, -0.2541],\n",
       "                         [-0.5634,  1.1323, -0.0617, -0.3299],\n",
       "                         [-0.4680,  0.0155,  2.0219,  0.3427]],\n",
       "                \n",
       "                        [[ 2.4693, -0.9482,  0.4203, -0.2541],\n",
       "                         [-0.5634,  1.1323, -0.0617, -0.3299],\n",
       "                         [-0.4680,  0.0155,  2.0219,  0.3427]],\n",
       "                \n",
       "                        [[ 2.4693, -0.9482,  0.4203, -0.2541],\n",
       "                         [-0.5634,  1.1323, -0.0617, -0.3299],\n",
       "                         [-0.4680,  0.0155,  2.0219,  0.3427]],\n",
       "                \n",
       "                        [[ 2.4693, -0.9482,  0.4203, -0.2541],\n",
       "                         [-0.5634,  1.1323, -0.0617, -0.3299],\n",
       "                         [-0.4680,  0.0155,  2.0219,  0.3427]]])"
      ]
     },
     "execution_count": 20,
     "metadata": {},
     "output_type": "execute_result"
    }
   ],
   "source": [
    "t_stack = FastTreeValue.func(subside=True)(torch.stack)\n",
    "\n",
    "t_stack(trees)"
   ]
  },
  {
   "cell_type": "code",
   "execution_count": 21,
   "id": "f8b3f415",
   "metadata": {
    "execution": {
     "iopub.execute_input": "2023-02-27T09:53:24.484195Z",
     "iopub.status.busy": "2023-02-27T09:53:24.483860Z",
     "iopub.status.idle": "2023-02-27T09:53:27.095359Z",
     "shell.execute_reply": "2023-02-27T09:53:27.094633Z"
    }
   },
   "outputs": [
    {
     "name": "stdout",
     "output_type": "stream",
     "text": [
      "32.1 µs ± 81.3 ns per loop (mean ± std. dev. of 7 runs, 10,000 loops each)\n"
     ]
    }
   ],
   "source": [
    "%timeit t_stack(trees)"
   ]
  },
  {
   "cell_type": "code",
   "execution_count": 22,
   "id": "94b56771",
   "metadata": {
    "execution": {
     "iopub.execute_input": "2023-02-27T09:53:27.098031Z",
     "iopub.status.busy": "2023-02-27T09:53:27.097674Z",
     "iopub.status.idle": "2023-02-27T09:53:27.104873Z",
     "shell.execute_reply": "2023-02-27T09:53:27.104244Z"
    }
   },
   "outputs": [
    {
     "data": {
      "text/plain": [
       "<FastTreeValue 0x7f0031e22d30>\n",
       "├── 'a' --> tensor([[ 0.9657,  0.5533, -0.0730],\n",
       "│                   [ 0.0205,  0.6028,  1.2843],\n",
       "│                   [ 0.9657,  0.5533, -0.0730],\n",
       "│                   [ 0.0205,  0.6028,  1.2843],\n",
       "│                   [ 0.9657,  0.5533, -0.0730],\n",
       "│                   [ 0.0205,  0.6028,  1.2843],\n",
       "│                   [ 0.9657,  0.5533, -0.0730],\n",
       "│                   [ 0.0205,  0.6028,  1.2843],\n",
       "│                   [ 0.9657,  0.5533, -0.0730],\n",
       "│                   [ 0.0205,  0.6028,  1.2843],\n",
       "│                   [ 0.9657,  0.5533, -0.0730],\n",
       "│                   [ 0.0205,  0.6028,  1.2843],\n",
       "│                   [ 0.9657,  0.5533, -0.0730],\n",
       "│                   [ 0.0205,  0.6028,  1.2843],\n",
       "│                   [ 0.9657,  0.5533, -0.0730],\n",
       "│                   [ 0.0205,  0.6028,  1.2843]])\n",
       "└── 'x' --> <FastTreeValue 0x7f00e85618b0>\n",
       "    └── 'c' --> tensor([[ 2.4693, -0.9482,  0.4203, -0.2541],\n",
       "                        [-0.5634,  1.1323, -0.0617, -0.3299],\n",
       "                        [-0.4680,  0.0155,  2.0219,  0.3427],\n",
       "                        [ 2.4693, -0.9482,  0.4203, -0.2541],\n",
       "                        [-0.5634,  1.1323, -0.0617, -0.3299],\n",
       "                        [-0.4680,  0.0155,  2.0219,  0.3427],\n",
       "                        [ 2.4693, -0.9482,  0.4203, -0.2541],\n",
       "                        [-0.5634,  1.1323, -0.0617, -0.3299],\n",
       "                        [-0.4680,  0.0155,  2.0219,  0.3427],\n",
       "                        [ 2.4693, -0.9482,  0.4203, -0.2541],\n",
       "                        [-0.5634,  1.1323, -0.0617, -0.3299],\n",
       "                        [-0.4680,  0.0155,  2.0219,  0.3427],\n",
       "                        [ 2.4693, -0.9482,  0.4203, -0.2541],\n",
       "                        [-0.5634,  1.1323, -0.0617, -0.3299],\n",
       "                        [-0.4680,  0.0155,  2.0219,  0.3427],\n",
       "                        [ 2.4693, -0.9482,  0.4203, -0.2541],\n",
       "                        [-0.5634,  1.1323, -0.0617, -0.3299],\n",
       "                        [-0.4680,  0.0155,  2.0219,  0.3427],\n",
       "                        [ 2.4693, -0.9482,  0.4203, -0.2541],\n",
       "                        [-0.5634,  1.1323, -0.0617, -0.3299],\n",
       "                        [-0.4680,  0.0155,  2.0219,  0.3427],\n",
       "                        [ 2.4693, -0.9482,  0.4203, -0.2541],\n",
       "                        [-0.5634,  1.1323, -0.0617, -0.3299],\n",
       "                        [-0.4680,  0.0155,  2.0219,  0.3427]])"
      ]
     },
     "execution_count": 22,
     "metadata": {},
     "output_type": "execute_result"
    }
   ],
   "source": [
    "t_cat = FastTreeValue.func(subside=True)(torch.cat)\n",
    "\n",
    "t_cat(trees)"
   ]
  },
  {
   "cell_type": "code",
   "execution_count": 23,
   "id": "5e9c06a6",
   "metadata": {
    "execution": {
     "iopub.execute_input": "2023-02-27T09:53:27.107657Z",
     "iopub.status.busy": "2023-02-27T09:53:27.107156Z",
     "iopub.status.idle": "2023-02-27T09:53:29.574919Z",
     "shell.execute_reply": "2023-02-27T09:53:29.574182Z"
    }
   },
   "outputs": [
    {
     "name": "stdout",
     "output_type": "stream",
     "text": [
      "30.4 µs ± 86.2 ns per loop (mean ± std. dev. of 7 runs, 10,000 loops each)\n"
     ]
    }
   ],
   "source": [
    "%timeit t_cat(trees)"
   ]
  },
  {
   "cell_type": "code",
   "execution_count": 24,
   "id": "a3ab5c8f",
   "metadata": {
    "execution": {
     "iopub.execute_input": "2023-02-27T09:53:29.577782Z",
     "iopub.status.busy": "2023-02-27T09:53:29.577434Z",
     "iopub.status.idle": "2023-02-27T09:53:34.443178Z",
     "shell.execute_reply": "2023-02-27T09:53:34.442432Z"
    }
   },
   "outputs": [
    {
     "name": "stdout",
     "output_type": "stream",
     "text": [
      "59.9 µs ± 84.1 ns per loop (mean ± std. dev. of 7 runs, 10,000 loops each)\n"
     ]
    }
   ],
   "source": [
    "t_split = FastTreeValue.func(rise=True)(torch.split)\n",
    "tree = FastTreeValue({\n",
    "    'obs': torch.randn(8, 4, 84, 84),\n",
    "    'action': torch.randint(0, 6, size=(8, 1,)),\n",
    "    'reward': torch.rand(8, 1),\n",
    "})\n",
    "\n",
    "%timeit t_split(tree, 1)"
   ]
  },
  {
   "cell_type": "markdown",
   "id": "31c3ec0b",
   "metadata": {},
   "source": [
    "### Performance of Tianshou Batch"
   ]
  },
  {
   "cell_type": "code",
   "execution_count": 25,
   "id": "9ead828a",
   "metadata": {
    "execution": {
     "iopub.execute_input": "2023-02-27T09:53:34.445943Z",
     "iopub.status.busy": "2023-02-27T09:53:34.445600Z",
     "iopub.status.idle": "2023-02-27T09:53:34.454377Z",
     "shell.execute_reply": "2023-02-27T09:53:34.453779Z"
    }
   },
   "outputs": [
    {
     "data": {
      "text/plain": [
       "Batch(\n",
       "    x: Batch(\n",
       "           c: tensor([[[ 2.4693, -0.9482,  0.4203, -0.2541],\n",
       "                       [-0.5634,  1.1323, -0.0617, -0.3299],\n",
       "                       [-0.4680,  0.0155,  2.0219,  0.3427]],\n",
       "              \n",
       "                      [[ 2.4693, -0.9482,  0.4203, -0.2541],\n",
       "                       [-0.5634,  1.1323, -0.0617, -0.3299],\n",
       "                       [-0.4680,  0.0155,  2.0219,  0.3427]],\n",
       "              \n",
       "                      [[ 2.4693, -0.9482,  0.4203, -0.2541],\n",
       "                       [-0.5634,  1.1323, -0.0617, -0.3299],\n",
       "                       [-0.4680,  0.0155,  2.0219,  0.3427]],\n",
       "              \n",
       "                      [[ 2.4693, -0.9482,  0.4203, -0.2541],\n",
       "                       [-0.5634,  1.1323, -0.0617, -0.3299],\n",
       "                       [-0.4680,  0.0155,  2.0219,  0.3427]],\n",
       "              \n",
       "                      [[ 2.4693, -0.9482,  0.4203, -0.2541],\n",
       "                       [-0.5634,  1.1323, -0.0617, -0.3299],\n",
       "                       [-0.4680,  0.0155,  2.0219,  0.3427]],\n",
       "              \n",
       "                      [[ 2.4693, -0.9482,  0.4203, -0.2541],\n",
       "                       [-0.5634,  1.1323, -0.0617, -0.3299],\n",
       "                       [-0.4680,  0.0155,  2.0219,  0.3427]],\n",
       "              \n",
       "                      [[ 2.4693, -0.9482,  0.4203, -0.2541],\n",
       "                       [-0.5634,  1.1323, -0.0617, -0.3299],\n",
       "                       [-0.4680,  0.0155,  2.0219,  0.3427]],\n",
       "              \n",
       "                      [[ 2.4693, -0.9482,  0.4203, -0.2541],\n",
       "                       [-0.5634,  1.1323, -0.0617, -0.3299],\n",
       "                       [-0.4680,  0.0155,  2.0219,  0.3427]]]),\n",
       "       ),\n",
       "    a: tensor([[[ 0.9657,  0.5533, -0.0730],\n",
       "                [ 0.0205,  0.6028,  1.2843]],\n",
       "       \n",
       "               [[ 0.9657,  0.5533, -0.0730],\n",
       "                [ 0.0205,  0.6028,  1.2843]],\n",
       "       \n",
       "               [[ 0.9657,  0.5533, -0.0730],\n",
       "                [ 0.0205,  0.6028,  1.2843]],\n",
       "       \n",
       "               [[ 0.9657,  0.5533, -0.0730],\n",
       "                [ 0.0205,  0.6028,  1.2843]],\n",
       "       \n",
       "               [[ 0.9657,  0.5533, -0.0730],\n",
       "                [ 0.0205,  0.6028,  1.2843]],\n",
       "       \n",
       "               [[ 0.9657,  0.5533, -0.0730],\n",
       "                [ 0.0205,  0.6028,  1.2843]],\n",
       "       \n",
       "               [[ 0.9657,  0.5533, -0.0730],\n",
       "                [ 0.0205,  0.6028,  1.2843]],\n",
       "       \n",
       "               [[ 0.9657,  0.5533, -0.0730],\n",
       "                [ 0.0205,  0.6028,  1.2843]]]),\n",
       ")"
      ]
     },
     "execution_count": 25,
     "metadata": {},
     "output_type": "execute_result"
    }
   ],
   "source": [
    "batches = [Batch(**_TREE_DATA_2) for _ in range(8)]\n",
    "\n",
    "Batch.stack(batches)"
   ]
  },
  {
   "cell_type": "code",
   "execution_count": 26,
   "id": "ec9037a3",
   "metadata": {
    "execution": {
     "iopub.execute_input": "2023-02-27T09:53:34.457141Z",
     "iopub.status.busy": "2023-02-27T09:53:34.456652Z",
     "iopub.status.idle": "2023-02-27T09:53:40.789728Z",
     "shell.execute_reply": "2023-02-27T09:53:40.789064Z"
    }
   },
   "outputs": [
    {
     "name": "stdout",
     "output_type": "stream",
     "text": [
      "78 µs ± 55.4 ns per loop (mean ± std. dev. of 7 runs, 10,000 loops each)\n"
     ]
    }
   ],
   "source": [
    "%timeit Batch.stack(batches)"
   ]
  },
  {
   "cell_type": "code",
   "execution_count": 27,
   "id": "cb8ab77e",
   "metadata": {
    "execution": {
     "iopub.execute_input": "2023-02-27T09:53:40.792780Z",
     "iopub.status.busy": "2023-02-27T09:53:40.792274Z",
     "iopub.status.idle": "2023-02-27T09:53:40.799631Z",
     "shell.execute_reply": "2023-02-27T09:53:40.799050Z"
    }
   },
   "outputs": [
    {
     "data": {
      "text/plain": [
       "Batch(\n",
       "    x: Batch(\n",
       "           c: tensor([[ 2.4693, -0.9482,  0.4203, -0.2541],\n",
       "                      [-0.5634,  1.1323, -0.0617, -0.3299],\n",
       "                      [-0.4680,  0.0155,  2.0219,  0.3427],\n",
       "                      [ 2.4693, -0.9482,  0.4203, -0.2541],\n",
       "                      [-0.5634,  1.1323, -0.0617, -0.3299],\n",
       "                      [-0.4680,  0.0155,  2.0219,  0.3427],\n",
       "                      [ 2.4693, -0.9482,  0.4203, -0.2541],\n",
       "                      [-0.5634,  1.1323, -0.0617, -0.3299],\n",
       "                      [-0.4680,  0.0155,  2.0219,  0.3427],\n",
       "                      [ 2.4693, -0.9482,  0.4203, -0.2541],\n",
       "                      [-0.5634,  1.1323, -0.0617, -0.3299],\n",
       "                      [-0.4680,  0.0155,  2.0219,  0.3427],\n",
       "                      [ 2.4693, -0.9482,  0.4203, -0.2541],\n",
       "                      [-0.5634,  1.1323, -0.0617, -0.3299],\n",
       "                      [-0.4680,  0.0155,  2.0219,  0.3427],\n",
       "                      [ 2.4693, -0.9482,  0.4203, -0.2541],\n",
       "                      [-0.5634,  1.1323, -0.0617, -0.3299],\n",
       "                      [-0.4680,  0.0155,  2.0219,  0.3427],\n",
       "                      [ 2.4693, -0.9482,  0.4203, -0.2541],\n",
       "                      [-0.5634,  1.1323, -0.0617, -0.3299],\n",
       "                      [-0.4680,  0.0155,  2.0219,  0.3427],\n",
       "                      [ 2.4693, -0.9482,  0.4203, -0.2541],\n",
       "                      [-0.5634,  1.1323, -0.0617, -0.3299],\n",
       "                      [-0.4680,  0.0155,  2.0219,  0.3427]]),\n",
       "       ),\n",
       "    a: tensor([[ 0.9657,  0.5533, -0.0730],\n",
       "               [ 0.0205,  0.6028,  1.2843],\n",
       "               [ 0.9657,  0.5533, -0.0730],\n",
       "               [ 0.0205,  0.6028,  1.2843],\n",
       "               [ 0.9657,  0.5533, -0.0730],\n",
       "               [ 0.0205,  0.6028,  1.2843],\n",
       "               [ 0.9657,  0.5533, -0.0730],\n",
       "               [ 0.0205,  0.6028,  1.2843],\n",
       "               [ 0.9657,  0.5533, -0.0730],\n",
       "               [ 0.0205,  0.6028,  1.2843],\n",
       "               [ 0.9657,  0.5533, -0.0730],\n",
       "               [ 0.0205,  0.6028,  1.2843],\n",
       "               [ 0.9657,  0.5533, -0.0730],\n",
       "               [ 0.0205,  0.6028,  1.2843],\n",
       "               [ 0.9657,  0.5533, -0.0730],\n",
       "               [ 0.0205,  0.6028,  1.2843]]),\n",
       ")"
      ]
     },
     "execution_count": 27,
     "metadata": {},
     "output_type": "execute_result"
    }
   ],
   "source": [
    "Batch.cat(batches)"
   ]
  },
  {
   "cell_type": "code",
   "execution_count": 28,
   "id": "18dfb045",
   "metadata": {
    "execution": {
     "iopub.execute_input": "2023-02-27T09:53:40.802419Z",
     "iopub.status.busy": "2023-02-27T09:53:40.801852Z",
     "iopub.status.idle": "2023-02-27T09:53:52.465961Z",
     "shell.execute_reply": "2023-02-27T09:53:52.465303Z"
    }
   },
   "outputs": [
    {
     "name": "stdout",
     "output_type": "stream",
     "text": [
      "144 µs ± 77.5 ns per loop (mean ± std. dev. of 7 runs, 10,000 loops each)\n"
     ]
    }
   ],
   "source": [
    "%timeit Batch.cat(batches)"
   ]
  },
  {
   "cell_type": "code",
   "execution_count": 29,
   "id": "c6688e51",
   "metadata": {
    "execution": {
     "iopub.execute_input": "2023-02-27T09:53:52.469000Z",
     "iopub.status.busy": "2023-02-27T09:53:52.468651Z",
     "iopub.status.idle": "2023-02-27T09:53:54.937643Z",
     "shell.execute_reply": "2023-02-27T09:53:54.936933Z"
    }
   },
   "outputs": [
    {
     "name": "stdout",
     "output_type": "stream",
     "text": [
      "302 µs ± 1 µs per loop (mean ± std. dev. of 7 runs, 1,000 loops each)\n"
     ]
    }
   ],
   "source": [
    "batch = Batch({\n",
    "    'obs': torch.randn(8, 4, 84, 84),\n",
    "    'action': torch.randint(0, 6, size=(8, 1,)),\n",
    "    'reward': torch.rand(8, 1)}\n",
    ")\n",
    "\n",
    "%timeit list(Batch.split(batch, 1, shuffle=False, merge_last=True))"
   ]
  },
  {
   "cell_type": "code",
   "execution_count": null,
   "id": "2539fbd9",
   "metadata": {},
   "outputs": [],
   "source": []
  }
 ],
 "metadata": {
  "kernelspec": {
   "display_name": "Python 3 (ipykernel)",
   "language": "python",
   "name": "python3"
  },
  "language_info": {
   "codemirror_mode": {
    "name": "ipython",
    "version": 3
   },
   "file_extension": ".py",
   "mimetype": "text/x-python",
   "name": "python",
   "nbconvert_exporter": "python",
   "pygments_lexer": "ipython3",
   "version": "3.8.16"
  }
 },
 "nbformat": 4,
 "nbformat_minor": 5
}
