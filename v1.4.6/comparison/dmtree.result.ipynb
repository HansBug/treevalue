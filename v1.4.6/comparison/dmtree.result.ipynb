{
 "cells": [
  {
   "cell_type": "markdown",
   "metadata": {
    "collapsed": false,
    "pycharm": {
     "name": "#%% md\n"
    }
   },
   "source": [
    "# Comparison Between TreeValue and DM-Tree"
   ]
  },
  {
   "cell_type": "markdown",
   "metadata": {
    "collapsed": false,
    "pycharm": {
     "name": "#%% md\n"
    }
   },
   "source": [
    "In this section, we will compare the feature and performance of the [dm-tree](https://github.com/deepmind/tree) library, which is developed by deepmind."
   ]
  },
  {
   "cell_type": "markdown",
   "metadata": {
    "collapsed": false,
    "pycharm": {
     "name": "#%% md\n"
    }
   },
   "source": [
    "Before starting the comparison, let us define some thing."
   ]
  },
  {
   "cell_type": "code",
   "execution_count": 1,
   "metadata": {
    "execution": {
     "iopub.execute_input": "2023-03-06T19:20:12.191268Z",
     "iopub.status.busy": "2023-03-06T19:20:12.190827Z",
     "iopub.status.idle": "2023-03-06T19:20:12.204858Z",
     "shell.execute_reply": "2023-03-06T19:20:12.203627Z"
    },
    "pycharm": {
     "name": "#%%\n"
    }
   },
   "outputs": [],
   "source": [
    "origin = {'a': 1, 'b': 2, 'c': {'x': 3, 'y': 4}}"
   ]
  },
  {
   "cell_type": "markdown",
   "metadata": {
    "collapsed": false,
    "pycharm": {
     "name": "#%% md\n"
    }
   },
   "source": [
    "## Mapping Operation"
   ]
  },
  {
   "cell_type": "markdown",
   "metadata": {
    "collapsed": false,
    "pycharm": {
     "name": "#%% md\n"
    }
   },
   "source": [
    "Mapping operation is quite common in the processing of trees. A mapping function should be provided to create a new tree based on the mapped tree."
   ]
  },
  {
   "cell_type": "markdown",
   "metadata": {
    "collapsed": false,
    "pycharm": {
     "name": "#%% md\n"
    }
   },
   "source": [
    "### TreeValue's mapping"
   ]
  },
  {
   "cell_type": "markdown",
   "metadata": {
    "collapsed": false,
    "pycharm": {
     "name": "#%% md\n"
    }
   },
   "source": [
    "In TreeValue, mapping is provided to simply create a new tree."
   ]
  },
  {
   "cell_type": "code",
   "execution_count": 2,
   "metadata": {
    "execution": {
     "iopub.execute_input": "2023-03-06T19:20:12.209044Z",
     "iopub.status.busy": "2023-03-06T19:20:12.208479Z",
     "iopub.status.idle": "2023-03-06T19:20:12.724586Z",
     "shell.execute_reply": "2023-03-06T19:20:12.723783Z"
    },
    "pycharm": {
     "name": "#%%\n"
    }
   },
   "outputs": [
    {
     "data": {
      "text/plain": [
       "<FastTreeValue 0x7f2196889910>\n",
       "├── 'a' --> 1\n",
       "├── 'b' --> 2\n",
       "└── 'c' --> <FastTreeValue 0x7f2196889e80>\n",
       "    ├── 'x' --> 3\n",
       "    └── 'y' --> 4"
      ]
     },
     "execution_count": 2,
     "metadata": {},
     "output_type": "execute_result"
    }
   ],
   "source": [
    "from treevalue import FastTreeValue, mapping\n",
    "\n",
    "tv = FastTreeValue(origin)\n",
    "tv"
   ]
  },
  {
   "cell_type": "code",
   "execution_count": 3,
   "metadata": {
    "execution": {
     "iopub.execute_input": "2023-03-06T19:20:12.775096Z",
     "iopub.status.busy": "2023-03-06T19:20:12.774335Z",
     "iopub.status.idle": "2023-03-06T19:20:12.781938Z",
     "shell.execute_reply": "2023-03-06T19:20:12.780919Z"
    },
    "pycharm": {
     "name": "#%%\n"
    }
   },
   "outputs": [
    {
     "data": {
      "text/plain": [
       "<FastTreeValue 0x7f2196837100>\n",
       "├── 'a' --> 2\n",
       "├── 'b' --> 4\n",
       "└── 'c' --> <FastTreeValue 0x7f2196837040>\n",
       "    ├── 'x' --> 6\n",
       "    └── 'y' --> 8"
      ]
     },
     "execution_count": 3,
     "metadata": {},
     "output_type": "execute_result"
    }
   ],
   "source": [
    "mapping(tv, lambda x: x * 2)"
   ]
  },
  {
   "cell_type": "markdown",
   "metadata": {
    "collapsed": false,
    "pycharm": {
     "name": "#%% md\n"
    }
   },
   "source": [
    "Here is the performance test."
   ]
  },
  {
   "cell_type": "code",
   "execution_count": 4,
   "metadata": {
    "execution": {
     "iopub.execute_input": "2023-03-06T19:20:12.785306Z",
     "iopub.status.busy": "2023-03-06T19:20:12.784700Z",
     "iopub.status.idle": "2023-03-06T19:20:14.952165Z",
     "shell.execute_reply": "2023-03-06T19:20:14.951162Z"
    },
    "pycharm": {
     "name": "#%%\n"
    }
   },
   "outputs": [
    {
     "name": "stdout",
     "output_type": "stream",
     "text": [
      "2.67 µs ± 53.9 ns per loop (mean ± std. dev. of 7 runs, 100,000 loops each)\n"
     ]
    }
   ],
   "source": [
    "%timeit mapping(tv, lambda x: x * 2)"
   ]
  },
  {
   "cell_type": "markdown",
   "metadata": {
    "collapsed": false,
    "pycharm": {
     "name": "#%% md\n"
    }
   },
   "source": [
    "In order to support the cased that the mapped value is related to both path and value of each node, we can use the 'path mapping mode' by simply use the second parameter of the mapping function."
   ]
  },
  {
   "cell_type": "code",
   "execution_count": 5,
   "metadata": {
    "execution": {
     "iopub.execute_input": "2023-03-06T19:20:14.956226Z",
     "iopub.status.busy": "2023-03-06T19:20:14.955785Z",
     "iopub.status.idle": "2023-03-06T19:20:14.963444Z",
     "shell.execute_reply": "2023-03-06T19:20:14.962281Z"
    },
    "pycharm": {
     "name": "#%%\n"
    }
   },
   "outputs": [
    {
     "data": {
      "text/plain": [
       "<FastTreeValue 0x7f2184128a60>\n",
       "├── 'a' --> ('path', ('a',), 'value', 1)\n",
       "├── 'b' --> ('path', ('b',), 'value', 2)\n",
       "└── 'c' --> <FastTreeValue 0x7f2184128af0>\n",
       "    ├── 'x' --> ('path', ('c', 'x'), 'value', 3)\n",
       "    └── 'y' --> ('path', ('c', 'y'), 'value', 4)"
      ]
     },
     "execution_count": 5,
     "metadata": {},
     "output_type": "execute_result"
    }
   ],
   "source": [
    "mapping(tv, lambda x, p: ('path', p, 'value', x))"
   ]
  },
  {
   "cell_type": "markdown",
   "metadata": {
    "collapsed": false,
    "pycharm": {
     "name": "#%% md\n"
    }
   },
   "source": [
    "And here is the performance"
   ]
  },
  {
   "cell_type": "code",
   "execution_count": 6,
   "metadata": {
    "execution": {
     "iopub.execute_input": "2023-03-06T19:20:14.967840Z",
     "iopub.status.busy": "2023-03-06T19:20:14.967228Z",
     "iopub.status.idle": "2023-03-06T19:20:17.308295Z",
     "shell.execute_reply": "2023-03-06T19:20:17.307208Z"
    },
    "pycharm": {
     "name": "#%%\n"
    }
   },
   "outputs": [
    {
     "name": "stdout",
     "output_type": "stream",
     "text": [
      "2.89 µs ± 148 ns per loop (mean ± std. dev. of 7 runs, 100,000 loops each)\n"
     ]
    }
   ],
   "source": [
    "%timeit mapping(tv, lambda x, p: ('path', p, 'value', x))"
   ]
  },
  {
   "cell_type": "markdown",
   "metadata": {
    "collapsed": false,
    "pycharm": {
     "name": "#%% md\n"
    }
   },
   "source": [
    "### DM-Tree's mapping"
   ]
  },
  {
   "cell_type": "markdown",
   "metadata": {
    "collapsed": false,
    "pycharm": {
     "name": "#%% md\n"
    }
   },
   "source": [
    "In DM-Tree, mapping operation is supported by [map_structure](https://tree.readthedocs.io/en/latest/api.html#tree.map_structure) function."
   ]
  },
  {
   "cell_type": "code",
   "execution_count": 7,
   "metadata": {
    "execution": {
     "iopub.execute_input": "2023-03-06T19:20:17.312637Z",
     "iopub.status.busy": "2023-03-06T19:20:17.312223Z",
     "iopub.status.idle": "2023-03-06T19:20:17.320517Z",
     "shell.execute_reply": "2023-03-06T19:20:17.319495Z"
    },
    "pycharm": {
     "name": "#%%\n"
    }
   },
   "outputs": [],
   "source": [
    "from tree import map_structure"
   ]
  },
  {
   "cell_type": "code",
   "execution_count": 8,
   "metadata": {
    "execution": {
     "iopub.execute_input": "2023-03-06T19:20:17.323843Z",
     "iopub.status.busy": "2023-03-06T19:20:17.323523Z",
     "iopub.status.idle": "2023-03-06T19:20:17.330108Z",
     "shell.execute_reply": "2023-03-06T19:20:17.329177Z"
    },
    "pycharm": {
     "name": "#%%\n"
    }
   },
   "outputs": [
    {
     "data": {
      "text/plain": [
       "{'a': 2, 'b': 4, 'c': {'x': 6, 'y': 8}}"
      ]
     },
     "execution_count": 8,
     "metadata": {},
     "output_type": "execute_result"
    }
   ],
   "source": [
    "map_structure(lambda x: x * 2, origin)"
   ]
  },
  {
   "cell_type": "markdown",
   "metadata": {
    "collapsed": false,
    "pycharm": {
     "name": "#%% md\n"
    }
   },
   "source": [
    "This is the performance of `map_structure`, obviously much slower than `mapping` in TreeValue."
   ]
  },
  {
   "cell_type": "code",
   "execution_count": 9,
   "metadata": {
    "execution": {
     "iopub.execute_input": "2023-03-06T19:20:17.334624Z",
     "iopub.status.busy": "2023-03-06T19:20:17.334319Z",
     "iopub.status.idle": "2023-03-06T19:20:33.836506Z",
     "shell.execute_reply": "2023-03-06T19:20:33.835475Z"
    },
    "pycharm": {
     "name": "#%%\n"
    }
   },
   "outputs": [
    {
     "name": "stdout",
     "output_type": "stream",
     "text": [
      "20.3 µs ± 217 ns per loop (mean ± std. dev. of 7 runs, 100,000 loops each)\n"
     ]
    }
   ],
   "source": [
    "%timeit map_structure(lambda x: x * 2, origin)"
   ]
  },
  {
   "cell_type": "markdown",
   "metadata": {
    "collapsed": false,
    "pycharm": {
     "name": "#%% md\n"
    }
   },
   "source": [
    "To supported the second situation in the last section, [map_structure_with_path](https://tree.readthedocs.io/en/latest/api.html#tree.map_structure_with_path) can be used."
   ]
  },
  {
   "cell_type": "code",
   "execution_count": 10,
   "metadata": {
    "execution": {
     "iopub.execute_input": "2023-03-06T19:20:33.840885Z",
     "iopub.status.busy": "2023-03-06T19:20:33.840248Z",
     "iopub.status.idle": "2023-03-06T19:20:33.844738Z",
     "shell.execute_reply": "2023-03-06T19:20:33.843876Z"
    },
    "pycharm": {
     "name": "#%%\n"
    }
   },
   "outputs": [],
   "source": [
    "from tree import map_structure_with_path"
   ]
  },
  {
   "cell_type": "code",
   "execution_count": 11,
   "metadata": {
    "execution": {
     "iopub.execute_input": "2023-03-06T19:20:33.848766Z",
     "iopub.status.busy": "2023-03-06T19:20:33.847936Z",
     "iopub.status.idle": "2023-03-06T19:20:33.855311Z",
     "shell.execute_reply": "2023-03-06T19:20:33.854348Z"
    },
    "pycharm": {
     "name": "#%%\n"
    }
   },
   "outputs": [
    {
     "data": {
      "text/plain": [
       "{'a': ('path', ('a',), 'value', 1),\n",
       " 'b': ('path', ('b',), 'value', 2),\n",
       " 'c': {'x': ('path', ('c', 'x'), 'value', 3),\n",
       "  'y': ('path', ('c', 'y'), 'value', 4)}}"
      ]
     },
     "execution_count": 11,
     "metadata": {},
     "output_type": "execute_result"
    }
   ],
   "source": [
    "map_structure_with_path(lambda path, x: ('path', path, 'value', x), origin)"
   ]
  },
  {
   "cell_type": "markdown",
   "metadata": {
    "collapsed": false,
    "pycharm": {
     "name": "#%% md\n"
    }
   },
   "source": [
    "Here is the performance."
   ]
  },
  {
   "cell_type": "code",
   "execution_count": 12,
   "metadata": {
    "execution": {
     "iopub.execute_input": "2023-03-06T19:20:33.859013Z",
     "iopub.status.busy": "2023-03-06T19:20:33.858701Z",
     "iopub.status.idle": "2023-03-06T19:20:37.487842Z",
     "shell.execute_reply": "2023-03-06T19:20:37.486817Z"
    },
    "pycharm": {
     "name": "#%%\n"
    }
   },
   "outputs": [
    {
     "name": "stdout",
     "output_type": "stream",
     "text": [
      "44.2 µs ± 741 ns per loop (mean ± std. dev. of 7 runs, 10,000 loops each)\n"
     ]
    }
   ],
   "source": [
    "%timeit map_structure_with_path(lambda path, x: ('path', path, 'value', x), origin)"
   ]
  },
  {
   "cell_type": "markdown",
   "metadata": {
    "collapsed": false,
    "pycharm": {
     "name": "#%% md\n"
    }
   },
   "source": [
    "## Flatten and Unflatten"
   ]
  },
  {
   "cell_type": "markdown",
   "metadata": {
    "collapsed": false,
    "pycharm": {
     "name": "#%% md\n"
    }
   },
   "source": [
    "In tree operations, flatten is often used to linearly expand the tree structure for operations such as parallel processing. Based on flatten, unflatten is its inverse operation, which can recover the tree structure from the linear data."
   ]
  },
  {
   "cell_type": "markdown",
   "metadata": {
    "collapsed": false,
    "pycharm": {
     "name": "#%% md\n"
    }
   },
   "source": [
    "### TreeValue's Performance"
   ]
  },
  {
   "cell_type": "markdown",
   "metadata": {
    "collapsed": false,
    "pycharm": {
     "name": "#%% md\n"
    }
   },
   "source": [
    "In TreeValue, flatten and unflatten are provided, which usage are simple."
   ]
  },
  {
   "cell_type": "code",
   "execution_count": 13,
   "metadata": {
    "execution": {
     "iopub.execute_input": "2023-03-06T19:20:37.494176Z",
     "iopub.status.busy": "2023-03-06T19:20:37.493237Z",
     "iopub.status.idle": "2023-03-06T19:20:37.500367Z",
     "shell.execute_reply": "2023-03-06T19:20:37.499427Z"
    },
    "pycharm": {
     "name": "#%%\n"
    }
   },
   "outputs": [
    {
     "data": {
      "text/plain": [
       "<FastTreeValue 0x7f21840bd4f0>\n",
       "├── 'a' --> 1\n",
       "├── 'b' --> 2\n",
       "└── 'c' --> <FastTreeValue 0x7f21840bd490>\n",
       "    ├── 'x' --> 3\n",
       "    └── 'y' --> 4"
      ]
     },
     "execution_count": 13,
     "metadata": {},
     "output_type": "execute_result"
    }
   ],
   "source": [
    "from treevalue import FastTreeValue, flatten, unflatten\n",
    "\n",
    "origin_tree = FastTreeValue(origin)\n",
    "origin_tree"
   ]
  },
  {
   "cell_type": "code",
   "execution_count": 14,
   "metadata": {
    "execution": {
     "iopub.execute_input": "2023-03-06T19:20:37.503892Z",
     "iopub.status.busy": "2023-03-06T19:20:37.503601Z",
     "iopub.status.idle": "2023-03-06T19:20:37.510295Z",
     "shell.execute_reply": "2023-03-06T19:20:37.509218Z"
    },
    "pycharm": {
     "name": "#%%\n"
    }
   },
   "outputs": [
    {
     "data": {
      "text/plain": [
       "[(('a',), 1), (('b',), 2), (('c', 'x'), 3), (('c', 'y'), 4)]"
      ]
     },
     "execution_count": 14,
     "metadata": {},
     "output_type": "execute_result"
    }
   ],
   "source": [
    "flatted = flatten(origin_tree)\n",
    "flatted"
   ]
  },
  {
   "cell_type": "markdown",
   "metadata": {
    "collapsed": false,
    "pycharm": {
     "name": "#%% md\n"
    }
   },
   "source": [
    "Here is the performance of `flatten`"
   ]
  },
  {
   "cell_type": "code",
   "execution_count": 15,
   "metadata": {
    "execution": {
     "iopub.execute_input": "2023-03-06T19:20:37.514009Z",
     "iopub.status.busy": "2023-03-06T19:20:37.513737Z",
     "iopub.status.idle": "2023-03-06T19:20:44.597899Z",
     "shell.execute_reply": "2023-03-06T19:20:44.595996Z"
    },
    "pycharm": {
     "name": "#%%\n"
    }
   },
   "outputs": [
    {
     "name": "stdout",
     "output_type": "stream",
     "text": [
      "870 ns ± 17.9 ns per loop (mean ± std. dev. of 7 runs, 1,000,000 loops each)\n"
     ]
    }
   ],
   "source": [
    "%timeit flatten(origin_tree)"
   ]
  },
  {
   "cell_type": "markdown",
   "metadata": {
    "collapsed": false,
    "pycharm": {
     "name": "#%% md\n"
    }
   },
   "source": [
    "The tree can be re-created from `flatted` with function `unflatten`."
   ]
  },
  {
   "cell_type": "code",
   "execution_count": 16,
   "metadata": {
    "execution": {
     "iopub.execute_input": "2023-03-06T19:20:44.603320Z",
     "iopub.status.busy": "2023-03-06T19:20:44.602122Z",
     "iopub.status.idle": "2023-03-06T19:20:44.610115Z",
     "shell.execute_reply": "2023-03-06T19:20:44.608729Z"
    },
    "pycharm": {
     "name": "#%%\n"
    }
   },
   "outputs": [
    {
     "data": {
      "text/plain": [
       "<TreeValue 0x7f2196832580>\n",
       "├── 'a' --> 1\n",
       "├── 'b' --> 2\n",
       "└── 'c' --> <TreeValue 0x7f21968897f0>\n",
       "    ├── 'x' --> 3\n",
       "    └── 'y' --> 4"
      ]
     },
     "execution_count": 16,
     "metadata": {},
     "output_type": "execute_result"
    }
   ],
   "source": [
    "unflatten(flatted)"
   ]
  },
  {
   "cell_type": "markdown",
   "metadata": {
    "collapsed": false,
    "pycharm": {
     "name": "#%% md\n"
    }
   },
   "source": [
    "And here is the performance."
   ]
  },
  {
   "cell_type": "code",
   "execution_count": 17,
   "metadata": {
    "execution": {
     "iopub.execute_input": "2023-03-06T19:20:44.613717Z",
     "iopub.status.busy": "2023-03-06T19:20:44.613359Z",
     "iopub.status.idle": "2023-03-06T19:20:52.810252Z",
     "shell.execute_reply": "2023-03-06T19:20:52.808969Z"
    },
    "pycharm": {
     "name": "#%%\n"
    }
   },
   "outputs": [
    {
     "name": "stdout",
     "output_type": "stream",
     "text": [
      "1.01 µs ± 21.6 ns per loop (mean ± std. dev. of 7 runs, 1,000,000 loops each)\n"
     ]
    }
   ],
   "source": [
    "%timeit unflatten(flatted)"
   ]
  },
  {
   "cell_type": "markdown",
   "metadata": {
    "collapsed": false,
    "pycharm": {
     "name": "#%% md\n"
    }
   },
   "source": [
    "### DM-Tree's Performance"
   ]
  },
  {
   "cell_type": "markdown",
   "metadata": {
    "collapsed": false,
    "pycharm": {
     "name": "#%% md\n"
    }
   },
   "source": [
    "[Flatten](https://tree.readthedocs.io/en/latest/api.html#tree.flatten) is provided in DM-Tree as well, but it differs from that in TreeValue, as the following"
   ]
  },
  {
   "cell_type": "code",
   "execution_count": 18,
   "metadata": {
    "execution": {
     "iopub.execute_input": "2023-03-06T19:20:52.814680Z",
     "iopub.status.busy": "2023-03-06T19:20:52.813758Z",
     "iopub.status.idle": "2023-03-06T19:20:52.820266Z",
     "shell.execute_reply": "2023-03-06T19:20:52.819206Z"
    },
    "pycharm": {
     "name": "#%%\n"
    }
   },
   "outputs": [
    {
     "data": {
      "text/plain": [
       "[1, 2, 3, 4]"
      ]
     },
     "execution_count": 18,
     "metadata": {},
     "output_type": "execute_result"
    }
   ],
   "source": [
    "from tree import flatten\n",
    "\n",
    "flatten(origin)"
   ]
  },
  {
   "cell_type": "markdown",
   "metadata": {
    "collapsed": false,
    "pycharm": {
     "name": "#%% md\n"
    }
   },
   "source": [
    "Here is the performance"
   ]
  },
  {
   "cell_type": "code",
   "execution_count": 19,
   "metadata": {
    "execution": {
     "iopub.execute_input": "2023-03-06T19:20:52.824151Z",
     "iopub.status.busy": "2023-03-06T19:20:52.823642Z",
     "iopub.status.idle": "2023-03-06T19:21:03.738750Z",
     "shell.execute_reply": "2023-03-06T19:21:03.737675Z"
    },
    "pycharm": {
     "name": "#%%\n"
    }
   },
   "outputs": [
    {
     "name": "stdout",
     "output_type": "stream",
     "text": [
      "1.34 µs ± 23.1 ns per loop (mean ± std. dev. of 7 runs, 1,000,000 loops each)\n"
     ]
    }
   ],
   "source": [
    "%timeit flatten(origin)"
   ]
  },
  {
   "cell_type": "markdown",
   "metadata": {
    "collapsed": false,
    "pycharm": {
     "name": "#%% md\n"
    }
   },
   "source": [
    "The structure of the tree is dropped, only the data is extracted from the tree. This means the `flatten` function in DM-Tree is irreversible, we can not recover the original tree with the result above."
   ]
  },
  {
   "cell_type": "markdown",
   "metadata": {
    "collapsed": false,
    "pycharm": {
     "name": "#%% md\n"
    }
   },
   "source": [
    "The reversible resolution provided in DM-Tree is [flatten_with_path](https://tree.readthedocs.io/en/latest/api.html#tree.flatten_with_path)"
   ]
  },
  {
   "cell_type": "code",
   "execution_count": 20,
   "metadata": {
    "execution": {
     "iopub.execute_input": "2023-03-06T19:21:03.743041Z",
     "iopub.status.busy": "2023-03-06T19:21:03.742735Z",
     "iopub.status.idle": "2023-03-06T19:21:03.750006Z",
     "shell.execute_reply": "2023-03-06T19:21:03.749000Z"
    },
    "pycharm": {
     "name": "#%%\n"
    }
   },
   "outputs": [
    {
     "data": {
      "text/plain": [
       "[(('a',), 1), (('b',), 2), (('c', 'x'), 3), (('c', 'y'), 4)]"
      ]
     },
     "execution_count": 20,
     "metadata": {},
     "output_type": "execute_result"
    }
   ],
   "source": [
    "from tree import flatten_with_path\n",
    "\n",
    "flatten_with_path(origin)"
   ]
  },
  {
   "cell_type": "markdown",
   "metadata": {
    "collapsed": false,
    "pycharm": {
     "name": "#%% md\n"
    }
   },
   "source": [
    "Here is the performance, much slower than `flatten` in TreeValue."
   ]
  },
  {
   "cell_type": "code",
   "execution_count": 21,
   "metadata": {
    "execution": {
     "iopub.execute_input": "2023-03-06T19:21:03.753968Z",
     "iopub.status.busy": "2023-03-06T19:21:03.753172Z",
     "iopub.status.idle": "2023-03-06T19:21:20.740558Z",
     "shell.execute_reply": "2023-03-06T19:21:20.739455Z"
    },
    "pycharm": {
     "name": "#%%\n"
    }
   },
   "outputs": [
    {
     "name": "stdout",
     "output_type": "stream",
     "text": [
      "20.8 µs ± 121 ns per loop (mean ± std. dev. of 7 runs, 100,000 loops each)\n"
     ]
    }
   ],
   "source": [
    "%timeit flatten_with_path(origin)"
   ]
  },
  {
   "cell_type": "markdown",
   "metadata": {
    "collapsed": false,
    "pycharm": {
     "name": "#%% md\n"
    }
   },
   "source": [
    "To re-create the original tree, we need a tree structure with any objects filled inside. Use the [unflatten_as](https://tree.readthedocs.io/en/latest/api.html#tree.unflatten_as) to archive this goal."
   ]
  },
  {
   "cell_type": "code",
   "execution_count": 22,
   "metadata": {
    "execution": {
     "iopub.execute_input": "2023-03-06T19:21:20.744980Z",
     "iopub.status.busy": "2023-03-06T19:21:20.744391Z",
     "iopub.status.idle": "2023-03-06T19:21:20.754062Z",
     "shell.execute_reply": "2023-03-06T19:21:20.753144Z"
    },
    "pycharm": {
     "name": "#%%\n"
    }
   },
   "outputs": [
    {
     "data": {
      "text/plain": [
       "{'a': 1, 'b': 2, 'c': {'x': 3, 'y': 4}}"
      ]
     },
     "execution_count": 22,
     "metadata": {},
     "output_type": "execute_result"
    }
   ],
   "source": [
    "from tree import unflatten_as\n",
    "\n",
    "unflatten_as({'a': None, 'b': None, 'c': {'x': None, 'y': None}}, [1, 2, 3, 4])"
   ]
  },
  {
   "cell_type": "markdown",
   "metadata": {
    "collapsed": false,
    "pycharm": {
     "name": "#%% md\n"
    }
   },
   "source": [
    "Here is the performance."
   ]
  },
  {
   "cell_type": "code",
   "execution_count": 23,
   "metadata": {
    "execution": {
     "iopub.execute_input": "2023-03-06T19:21:20.758343Z",
     "iopub.status.busy": "2023-03-06T19:21:20.757466Z",
     "iopub.status.idle": "2023-03-06T19:21:34.565110Z",
     "shell.execute_reply": "2023-03-06T19:21:34.564063Z"
    },
    "pycharm": {
     "name": "#%%\n"
    }
   },
   "outputs": [
    {
     "name": "stdout",
     "output_type": "stream",
     "text": [
      "17 µs ± 458 ns per loop (mean ± std. dev. of 7 runs, 100,000 loops each)\n"
     ]
    }
   ],
   "source": [
    "%timeit unflatten_as({'a': None, 'b': None, 'c': {'x': None, 'y': None}}, [1, 2, 3, 4])"
   ]
  },
  {
   "cell_type": "markdown",
   "metadata": {
    "collapsed": false,
    "pycharm": {
     "name": "#%% md\n"
    }
   },
   "source": [
    "### Positional Replacement"
   ]
  },
  {
   "cell_type": "markdown",
   "metadata": {
    "collapsed": false,
    "pycharm": {
     "name": "#%% md\n"
    }
   },
   "source": [
    "It is obvious that the `unflatten_as` in DM-Tree is quite different from `unflatten` in TreeValue, for the former one is `replacing` and the latter one is `constructing`. This means the `unflatten_as` in DM-Tree may supported some more features, such as creating a new tree with another tree's structure and the given values. So we need an experiment on this, called 'positional replacement'."
   ]
  },
  {
   "cell_type": "markdown",
   "metadata": {
    "collapsed": false,
    "pycharm": {
     "name": "#%% md\n"
    }
   },
   "source": [
    "First, in TreeValue, we can build a function named `replace` to realize this."
   ]
  },
  {
   "cell_type": "code",
   "execution_count": 24,
   "metadata": {
    "execution": {
     "iopub.execute_input": "2023-03-06T19:21:34.569741Z",
     "iopub.status.busy": "2023-03-06T19:21:34.569155Z",
     "iopub.status.idle": "2023-03-06T19:21:34.576262Z",
     "shell.execute_reply": "2023-03-06T19:21:34.575386Z"
    },
    "pycharm": {
     "name": "#%%\n"
    }
   },
   "outputs": [],
   "source": [
    "from treevalue import flatten, unflatten\n",
    "\n",
    "def replace(t, v):\n",
    "    pairs = flatten(t)\n",
    "    return unflatten([(path, vi) for (path, _), vi in zip(pairs, v)])"
   ]
  },
  {
   "cell_type": "markdown",
   "metadata": {
    "collapsed": false,
    "pycharm": {
     "name": "#%% md\n"
    }
   },
   "source": [
    "Create a new tree based on `origin_tree`'s structure and new values."
   ]
  },
  {
   "cell_type": "code",
   "execution_count": 25,
   "metadata": {
    "execution": {
     "iopub.execute_input": "2023-03-06T19:21:34.579859Z",
     "iopub.status.busy": "2023-03-06T19:21:34.579396Z",
     "iopub.status.idle": "2023-03-06T19:21:34.588404Z",
     "shell.execute_reply": "2023-03-06T19:21:34.587223Z"
    },
    "pycharm": {
     "name": "#%%\n"
    }
   },
   "outputs": [
    {
     "data": {
      "text/plain": [
       "<TreeValue 0x7f21840bdb50>\n",
       "├── 'a' --> 3\n",
       "├── 'b' --> 5\n",
       "└── 'c' --> <TreeValue 0x7f21840bd5b0>\n",
       "    ├── 'x' --> 7\n",
       "    └── 'y' --> 9"
      ]
     },
     "execution_count": 25,
     "metadata": {},
     "output_type": "execute_result"
    }
   ],
   "source": [
    "replace(origin_tree, [3, 5, 7, 9])"
   ]
  },
  {
   "cell_type": "markdown",
   "metadata": {
    "collapsed": false,
    "pycharm": {
     "name": "#%% md\n"
    }
   },
   "source": [
    "Here is the performance."
   ]
  },
  {
   "cell_type": "code",
   "execution_count": 26,
   "metadata": {
    "execution": {
     "iopub.execute_input": "2023-03-06T19:21:34.592377Z",
     "iopub.status.busy": "2023-03-06T19:21:34.591847Z",
     "iopub.status.idle": "2023-03-06T19:21:36.937529Z",
     "shell.execute_reply": "2023-03-06T19:21:36.936467Z"
    },
    "pycharm": {
     "name": "#%%\n"
    }
   },
   "outputs": [
    {
     "name": "stdout",
     "output_type": "stream",
     "text": [
      "2.88 µs ± 38 ns per loop (mean ± std. dev. of 7 runs, 100,000 loops each)\n"
     ]
    }
   ],
   "source": [
    "%timeit replace(origin_tree, [3, 5, 7, 9])"
   ]
  },
  {
   "cell_type": "markdown",
   "metadata": {
    "collapsed": false,
    "pycharm": {
     "name": "#%% md\n"
    }
   },
   "source": [
    "In DM-Tree, `unflatten_as` can be directly used."
   ]
  },
  {
   "cell_type": "code",
   "execution_count": 27,
   "metadata": {
    "execution": {
     "iopub.execute_input": "2023-03-06T19:21:36.941499Z",
     "iopub.status.busy": "2023-03-06T19:21:36.941222Z",
     "iopub.status.idle": "2023-03-06T19:21:36.947410Z",
     "shell.execute_reply": "2023-03-06T19:21:36.946340Z"
    },
    "pycharm": {
     "name": "#%%\n"
    }
   },
   "outputs": [
    {
     "data": {
      "text/plain": [
       "{'a': 3, 'b': 5, 'c': {'x': 7, 'y': 9}}"
      ]
     },
     "execution_count": 27,
     "metadata": {},
     "output_type": "execute_result"
    }
   ],
   "source": [
    "from tree import unflatten_as\n",
    "\n",
    "unflatten_as(origin, [3, 5, 7, 9])"
   ]
  },
  {
   "cell_type": "markdown",
   "metadata": {
    "collapsed": false,
    "pycharm": {
     "name": "#%% md\n"
    }
   },
   "source": [
    "Here is the performance, even much slower than the `replace` function for integration."
   ]
  },
  {
   "cell_type": "code",
   "execution_count": 28,
   "metadata": {
    "execution": {
     "iopub.execute_input": "2023-03-06T19:21:36.950620Z",
     "iopub.status.busy": "2023-03-06T19:21:36.950364Z",
     "iopub.status.idle": "2023-03-06T19:21:50.097694Z",
     "shell.execute_reply": "2023-03-06T19:21:50.096668Z"
    },
    "pycharm": {
     "name": "#%%\n"
    }
   },
   "outputs": [
    {
     "name": "stdout",
     "output_type": "stream",
     "text": [
      "16.2 µs ± 428 ns per loop (mean ± std. dev. of 7 runs, 100,000 loops each)\n"
     ]
    }
   ],
   "source": [
    "%timeit unflatten_as(origin, [3, 5, 7, 9])"
   ]
  },
  {
   "cell_type": "markdown",
   "metadata": {
    "collapsed": false,
    "pycharm": {
     "name": "#%% md\n"
    }
   },
   "source": [
    "## Conclusion"
   ]
  },
  {
   "cell_type": "markdown",
   "metadata": {
    "collapsed": false,
    "pycharm": {
     "name": "#%% md\n"
    }
   },
   "source": [
    "The mapping operation is supported by both library, and `mapping` in TreeValue's performance is significantly higher than the `map_structure` and `map_structure_with_path` in DM-Tree."
   ]
  },
  {
   "cell_type": "markdown",
   "metadata": {
    "collapsed": false,
    "pycharm": {
     "name": "#%% md\n"
    }
   },
   "source": [
    "The `flatten` and `unflatten` in TreeValue is reversible, but in DM-Tree not. DM-Tree's performance on flatten and unflatten operation is lower than that in TreeValue in all aspects."
   ]
  }
 ],
 "metadata": {
  "kernelspec": {
   "display_name": "Python 3",
   "language": "python",
   "name": "python3"
  },
  "language_info": {
   "codemirror_mode": {
    "name": "ipython",
    "version": 3
   },
   "file_extension": ".py",
   "mimetype": "text/x-python",
   "name": "python",
   "nbconvert_exporter": "python",
   "pygments_lexer": "ipython3",
   "version": "3.8.16"
  }
 },
 "nbformat": 4,
 "nbformat_minor": 0
}
