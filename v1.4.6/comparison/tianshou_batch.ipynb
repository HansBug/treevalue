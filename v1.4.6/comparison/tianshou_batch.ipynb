{
 "cells": [
  {
   "cell_type": "markdown",
   "id": "9d39d946",
   "metadata": {},
   "source": [
    "# Comparison Between TreeValue and Tianshou Batch"
   ]
  },
  {
   "cell_type": "markdown",
   "id": "3c6db2d4",
   "metadata": {},
   "source": [
    "In this section, we will take a look at the feature and performance of the [Tianshou Batch](https://github.com/thu-ml/tianshou) library, which is developed by Tsinghua Machine Learning Group."
   ]
  },
  {
   "cell_type": "markdown",
   "id": "069361b0",
   "metadata": {},
   "source": [
    "Before starting the comparison, let us define some thing."
   ]
  },
  {
   "cell_type": "code",
   "execution_count": 1,
   "id": "06fc8d26",
   "metadata": {
    "execution": {
     "iopub.execute_input": "2023-02-27T13:20:25.608185Z",
     "iopub.status.busy": "2023-02-27T13:20:25.607960Z",
     "iopub.status.idle": "2023-02-27T13:20:26.541030Z",
     "shell.execute_reply": "2023-02-27T13:20:26.540330Z"
    }
   },
   "outputs": [
    {
     "name": "stderr",
     "output_type": "stream",
     "text": [
      "/opt/hostedtoolcache/Python/3.8.16/x64/lib/python3.8/site-packages/tqdm/auto.py:22: TqdmWarning: IProgress not found. Please update jupyter and ipywidgets. See https://ipywidgets.readthedocs.io/en/stable/user_install.html\n",
      "  from .autonotebook import tqdm as notebook_tqdm\n"
     ]
    }
   ],
   "source": [
    "import torch \n",
    "\n",
    "_TREE_DATA_1 = {'a': 1, 'b': 2, 'x': {'c': 3, 'd': 4}}\n",
    "_TREE_DATA_2 = {\n",
    "    'a': torch.randn(2, 3), \n",
    "    'x': {\n",
    "        'c': torch.randn(3, 4)\n",
    "    },\n",
    "}\n",
    "_TREE_DATA_3 = {\n",
    "    'obs': torch.randn(4, 84, 84),\n",
    "    'action': torch.randint(0, 6, size=(1,)),\n",
    "    'reward': torch.rand(1),\n",
    "}"
   ]
  },
  {
   "cell_type": "markdown",
   "id": "83461b25",
   "metadata": {},
   "source": [
    "## Read and Write Operation"
   ]
  },
  {
   "cell_type": "markdown",
   "id": "067b3f73",
   "metadata": {},
   "source": [
    "Reading and writing are the two most common operations in the tree data structure based on the data model (TreeValue and Tianshou Batch both belong to this type), so this section will compare the reading and writing performance of these two libraries."
   ]
  },
  {
   "cell_type": "markdown",
   "id": "5d09a5b7",
   "metadata": {},
   "source": [
    "### TreeValue's Get and Set"
   ]
  },
  {
   "cell_type": "code",
   "execution_count": 2,
   "id": "9519c4bb",
   "metadata": {
    "execution": {
     "iopub.execute_input": "2023-02-27T13:20:26.545295Z",
     "iopub.status.busy": "2023-02-27T13:20:26.544119Z",
     "iopub.status.idle": "2023-02-27T13:20:26.829701Z",
     "shell.execute_reply": "2023-02-27T13:20:26.828998Z"
    }
   },
   "outputs": [],
   "source": [
    "from treevalue import FastTreeValue\n",
    "\n",
    "t = FastTreeValue(_TREE_DATA_2)"
   ]
  },
  {
   "cell_type": "code",
   "execution_count": 3,
   "id": "11c37677",
   "metadata": {
    "execution": {
     "iopub.execute_input": "2023-02-27T13:20:26.833475Z",
     "iopub.status.busy": "2023-02-27T13:20:26.832724Z",
     "iopub.status.idle": "2023-02-27T13:20:26.842571Z",
     "shell.execute_reply": "2023-02-27T13:20:26.841902Z"
    }
   },
   "outputs": [
    {
     "data": {
      "text/plain": [
       "<FastTreeValue 0x7f708419fcd0>\n",
       "├── 'a' --> tensor([[-0.9171,  1.7155,  1.3799],\n",
       "│                   [-0.2327, -0.3378, -0.5759]])\n",
       "└── 'x' --> <FastTreeValue 0x7f708419fca0>\n",
       "    └── 'c' --> tensor([[-0.1696, -0.5605,  1.7564, -1.4193],\n",
       "                        [ 1.4972,  0.3880, -0.9034,  0.0131],\n",
       "                        [ 0.4925,  1.1353, -1.1177, -0.8582]])"
      ]
     },
     "execution_count": 3,
     "metadata": {},
     "output_type": "execute_result"
    }
   ],
   "source": [
    "t"
   ]
  },
  {
   "cell_type": "code",
   "execution_count": 4,
   "id": "fd70b0b9",
   "metadata": {
    "execution": {
     "iopub.execute_input": "2023-02-27T13:20:26.845374Z",
     "iopub.status.busy": "2023-02-27T13:20:26.845011Z",
     "iopub.status.idle": "2023-02-27T13:20:26.850773Z",
     "shell.execute_reply": "2023-02-27T13:20:26.850135Z"
    }
   },
   "outputs": [
    {
     "data": {
      "text/plain": [
       "tensor([[-0.9171,  1.7155,  1.3799],\n",
       "        [-0.2327, -0.3378, -0.5759]])"
      ]
     },
     "execution_count": 4,
     "metadata": {},
     "output_type": "execute_result"
    }
   ],
   "source": [
    "t.a"
   ]
  },
  {
   "cell_type": "code",
   "execution_count": 5,
   "id": "c18197bd",
   "metadata": {
    "execution": {
     "iopub.execute_input": "2023-02-27T13:20:26.853761Z",
     "iopub.status.busy": "2023-02-27T13:20:26.853206Z",
     "iopub.status.idle": "2023-02-27T13:20:31.653500Z",
     "shell.execute_reply": "2023-02-27T13:20:31.652784Z"
    }
   },
   "outputs": [
    {
     "name": "stdout",
     "output_type": "stream",
     "text": [
      "59.1 ns ± 0.0899 ns per loop (mean ± std. dev. of 7 runs, 10,000,000 loops each)\n"
     ]
    }
   ],
   "source": [
    "%timeit t.a"
   ]
  },
  {
   "cell_type": "code",
   "execution_count": 6,
   "id": "bd52f867",
   "metadata": {
    "execution": {
     "iopub.execute_input": "2023-02-27T13:20:31.656761Z",
     "iopub.status.busy": "2023-02-27T13:20:31.656123Z",
     "iopub.status.idle": "2023-02-27T13:20:31.662153Z",
     "shell.execute_reply": "2023-02-27T13:20:31.661533Z"
    }
   },
   "outputs": [
    {
     "data": {
      "text/plain": [
       "<FastTreeValue 0x7f708419fcd0>\n",
       "├── 'a' --> tensor([[0.1999, 0.3717, 0.6863],\n",
       "│                   [0.7031, 0.6198, 0.6170]])\n",
       "└── 'x' --> <FastTreeValue 0x7f708419fca0>\n",
       "    └── 'c' --> tensor([[-0.1696, -0.5605,  1.7564, -1.4193],\n",
       "                        [ 1.4972,  0.3880, -0.9034,  0.0131],\n",
       "                        [ 0.4925,  1.1353, -1.1177, -0.8582]])"
      ]
     },
     "execution_count": 6,
     "metadata": {},
     "output_type": "execute_result"
    }
   ],
   "source": [
    "new_value = torch.randn(2, 3)\n",
    "t.a = new_value\n",
    "\n",
    "t"
   ]
  },
  {
   "cell_type": "code",
   "execution_count": 7,
   "id": "bbe04d1c",
   "metadata": {
    "execution": {
     "iopub.execute_input": "2023-02-27T13:20:31.664559Z",
     "iopub.status.busy": "2023-02-27T13:20:31.664209Z",
     "iopub.status.idle": "2023-02-27T13:20:36.520537Z",
     "shell.execute_reply": "2023-02-27T13:20:36.519803Z"
    }
   },
   "outputs": [
    {
     "name": "stdout",
     "output_type": "stream",
     "text": [
      "59.8 ns ± 0.0467 ns per loop (mean ± std. dev. of 7 runs, 10,000,000 loops each)\n"
     ]
    }
   ],
   "source": [
    "%timeit t.a = new_value"
   ]
  },
  {
   "cell_type": "markdown",
   "id": "48c49731",
   "metadata": {},
   "source": [
    "### Tianshou Batch's Get and Set"
   ]
  },
  {
   "cell_type": "code",
   "execution_count": 8,
   "id": "f1bb14c1",
   "metadata": {
    "execution": {
     "iopub.execute_input": "2023-02-27T13:20:36.524368Z",
     "iopub.status.busy": "2023-02-27T13:20:36.523219Z",
     "iopub.status.idle": "2023-02-27T13:20:36.857938Z",
     "shell.execute_reply": "2023-02-27T13:20:36.857265Z"
    }
   },
   "outputs": [],
   "source": [
    "from tianshou.data import Batch\n",
    "\n",
    "b = Batch(**_TREE_DATA_2)"
   ]
  },
  {
   "cell_type": "code",
   "execution_count": 9,
   "id": "cb0777c3",
   "metadata": {
    "execution": {
     "iopub.execute_input": "2023-02-27T13:20:36.861258Z",
     "iopub.status.busy": "2023-02-27T13:20:36.860640Z",
     "iopub.status.idle": "2023-02-27T13:20:36.866727Z",
     "shell.execute_reply": "2023-02-27T13:20:36.866138Z"
    }
   },
   "outputs": [
    {
     "data": {
      "text/plain": [
       "Batch(\n",
       "    a: tensor([[-0.9171,  1.7155,  1.3799],\n",
       "               [-0.2327, -0.3378, -0.5759]]),\n",
       "    x: Batch(\n",
       "           c: tensor([[-0.1696, -0.5605,  1.7564, -1.4193],\n",
       "                      [ 1.4972,  0.3880, -0.9034,  0.0131],\n",
       "                      [ 0.4925,  1.1353, -1.1177, -0.8582]]),\n",
       "       ),\n",
       ")"
      ]
     },
     "execution_count": 9,
     "metadata": {},
     "output_type": "execute_result"
    }
   ],
   "source": [
    "b"
   ]
  },
  {
   "cell_type": "code",
   "execution_count": 10,
   "id": "43ef8ea3",
   "metadata": {
    "execution": {
     "iopub.execute_input": "2023-02-27T13:20:36.869384Z",
     "iopub.status.busy": "2023-02-27T13:20:36.869051Z",
     "iopub.status.idle": "2023-02-27T13:20:36.875170Z",
     "shell.execute_reply": "2023-02-27T13:20:36.874591Z"
    }
   },
   "outputs": [
    {
     "data": {
      "text/plain": [
       "tensor([[-0.9171,  1.7155,  1.3799],\n",
       "        [-0.2327, -0.3378, -0.5759]])"
      ]
     },
     "execution_count": 10,
     "metadata": {},
     "output_type": "execute_result"
    }
   ],
   "source": [
    "b.a"
   ]
  },
  {
   "cell_type": "code",
   "execution_count": 11,
   "id": "b785ab72",
   "metadata": {
    "execution": {
     "iopub.execute_input": "2023-02-27T13:20:36.877742Z",
     "iopub.status.busy": "2023-02-27T13:20:36.877421Z",
     "iopub.status.idle": "2023-02-27T13:20:41.638740Z",
     "shell.execute_reply": "2023-02-27T13:20:41.637950Z"
    }
   },
   "outputs": [
    {
     "name": "stdout",
     "output_type": "stream",
     "text": [
      "58.5 ns ± 0.0285 ns per loop (mean ± std. dev. of 7 runs, 10,000,000 loops each)\n"
     ]
    }
   ],
   "source": [
    "%timeit b.a"
   ]
  },
  {
   "cell_type": "code",
   "execution_count": 12,
   "id": "ad54dc69",
   "metadata": {
    "execution": {
     "iopub.execute_input": "2023-02-27T13:20:41.641975Z",
     "iopub.status.busy": "2023-02-27T13:20:41.641335Z",
     "iopub.status.idle": "2023-02-27T13:20:41.647689Z",
     "shell.execute_reply": "2023-02-27T13:20:41.647060Z"
    }
   },
   "outputs": [
    {
     "data": {
      "text/plain": [
       "Batch(\n",
       "    a: tensor([[-0.7164, -0.8162, -0.5063],\n",
       "               [-0.0230, -0.1833,  0.6759]]),\n",
       "    x: Batch(\n",
       "           c: tensor([[-0.1696, -0.5605,  1.7564, -1.4193],\n",
       "                      [ 1.4972,  0.3880, -0.9034,  0.0131],\n",
       "                      [ 0.4925,  1.1353, -1.1177, -0.8582]]),\n",
       "       ),\n",
       ")"
      ]
     },
     "execution_count": 12,
     "metadata": {},
     "output_type": "execute_result"
    }
   ],
   "source": [
    "new_value = torch.randn(2, 3)\n",
    "b.a = new_value\n",
    "\n",
    "b"
   ]
  },
  {
   "cell_type": "code",
   "execution_count": 13,
   "id": "29b1d0bf",
   "metadata": {
    "execution": {
     "iopub.execute_input": "2023-02-27T13:20:41.650106Z",
     "iopub.status.busy": "2023-02-27T13:20:41.649776Z",
     "iopub.status.idle": "2023-02-27T13:20:45.668760Z",
     "shell.execute_reply": "2023-02-27T13:20:45.668070Z"
    }
   },
   "outputs": [
    {
     "name": "stdout",
     "output_type": "stream",
     "text": [
      "494 ns ± 0.123 ns per loop (mean ± std. dev. of 7 runs, 1,000,000 loops each)\n"
     ]
    }
   ],
   "source": [
    "%timeit b.a = new_value"
   ]
  },
  {
   "cell_type": "markdown",
   "id": "b61ad1d0",
   "metadata": {},
   "source": [
    "## Initialization"
   ]
  },
  {
   "cell_type": "markdown",
   "id": "d70f0d54",
   "metadata": {},
   "source": [
    "### TreeValue's Initialization"
   ]
  },
  {
   "cell_type": "code",
   "execution_count": 14,
   "id": "d32a679b",
   "metadata": {
    "execution": {
     "iopub.execute_input": "2023-02-27T13:20:45.671926Z",
     "iopub.status.busy": "2023-02-27T13:20:45.671277Z",
     "iopub.status.idle": "2023-02-27T13:20:52.605742Z",
     "shell.execute_reply": "2023-02-27T13:20:52.604953Z"
    }
   },
   "outputs": [
    {
     "name": "stdout",
     "output_type": "stream",
     "text": [
      "855 ns ± 0.109 ns per loop (mean ± std. dev. of 7 runs, 1,000,000 loops each)\n"
     ]
    }
   ],
   "source": [
    "%timeit FastTreeValue(_TREE_DATA_1)"
   ]
  },
  {
   "cell_type": "markdown",
   "id": "24f3707b",
   "metadata": {},
   "source": [
    "### Tianshou Batch's Initialization"
   ]
  },
  {
   "cell_type": "code",
   "execution_count": 15,
   "id": "ac3958df",
   "metadata": {
    "execution": {
     "iopub.execute_input": "2023-02-27T13:20:52.608888Z",
     "iopub.status.busy": "2023-02-27T13:20:52.608291Z",
     "iopub.status.idle": "2023-02-27T13:21:01.964407Z",
     "shell.execute_reply": "2023-02-27T13:21:01.963635Z"
    }
   },
   "outputs": [
    {
     "name": "stdout",
     "output_type": "stream",
     "text": [
      "11.5 µs ± 58.3 ns per loop (mean ± std. dev. of 7 runs, 100,000 loops each)\n"
     ]
    }
   ],
   "source": [
    "%timeit Batch(**_TREE_DATA_1)"
   ]
  },
  {
   "cell_type": "markdown",
   "id": "1ab82e2d",
   "metadata": {},
   "source": [
    "## Deep Copy Operation"
   ]
  },
  {
   "cell_type": "code",
   "execution_count": 16,
   "id": "210a9442",
   "metadata": {
    "execution": {
     "iopub.execute_input": "2023-02-27T13:21:01.967699Z",
     "iopub.status.busy": "2023-02-27T13:21:01.967168Z",
     "iopub.status.idle": "2023-02-27T13:21:01.971081Z",
     "shell.execute_reply": "2023-02-27T13:21:01.970491Z"
    }
   },
   "outputs": [],
   "source": [
    "import copy"
   ]
  },
  {
   "cell_type": "markdown",
   "id": "5a736274",
   "metadata": {},
   "source": [
    "### Deep Copy of TreeValue"
   ]
  },
  {
   "cell_type": "code",
   "execution_count": 17,
   "id": "f9bcadd6",
   "metadata": {
    "execution": {
     "iopub.execute_input": "2023-02-27T13:21:01.973702Z",
     "iopub.status.busy": "2023-02-27T13:21:01.973374Z",
     "iopub.status.idle": "2023-02-27T13:21:12.924039Z",
     "shell.execute_reply": "2023-02-27T13:21:12.923326Z"
    }
   },
   "outputs": [
    {
     "name": "stdout",
     "output_type": "stream",
     "text": [
      "135 µs ± 764 ns per loop (mean ± std. dev. of 7 runs, 10,000 loops each)\n"
     ]
    }
   ],
   "source": [
    "t3 = FastTreeValue(_TREE_DATA_3)\n",
    "%timeit copy.deepcopy(t3)"
   ]
  },
  {
   "cell_type": "markdown",
   "id": "bf8be7ea",
   "metadata": {},
   "source": [
    "### Deep Copy of Tianshou Batch"
   ]
  },
  {
   "cell_type": "code",
   "execution_count": 18,
   "id": "91998e6f",
   "metadata": {
    "execution": {
     "iopub.execute_input": "2023-02-27T13:21:12.927196Z",
     "iopub.status.busy": "2023-02-27T13:21:12.926941Z",
     "iopub.status.idle": "2023-02-27T13:21:24.190126Z",
     "shell.execute_reply": "2023-02-27T13:21:24.189557Z"
    }
   },
   "outputs": [
    {
     "name": "stdout",
     "output_type": "stream",
     "text": [
      "139 µs ± 1.43 µs per loop (mean ± std. dev. of 7 runs, 10,000 loops each)\n"
     ]
    }
   ],
   "source": [
    "b3 = Batch(**_TREE_DATA_3)\n",
    "%timeit copy.deepcopy(b3)"
   ]
  },
  {
   "cell_type": "markdown",
   "id": "223162fb",
   "metadata": {},
   "source": [
    "## Stack, Concat and Split Operation"
   ]
  },
  {
   "cell_type": "markdown",
   "id": "85fa4a73",
   "metadata": {},
   "source": [
    "### Performance of TreeValue"
   ]
  },
  {
   "cell_type": "code",
   "execution_count": 19,
   "id": "a0c2b697",
   "metadata": {
    "execution": {
     "iopub.execute_input": "2023-02-27T13:21:24.193053Z",
     "iopub.status.busy": "2023-02-27T13:21:24.192571Z",
     "iopub.status.idle": "2023-02-27T13:21:24.196005Z",
     "shell.execute_reply": "2023-02-27T13:21:24.195465Z"
    }
   },
   "outputs": [],
   "source": [
    "trees = [FastTreeValue(_TREE_DATA_2) for _ in range(8)]"
   ]
  },
  {
   "cell_type": "code",
   "execution_count": 20,
   "id": "017ea5a5",
   "metadata": {
    "execution": {
     "iopub.execute_input": "2023-02-27T13:21:24.198467Z",
     "iopub.status.busy": "2023-02-27T13:21:24.197830Z",
     "iopub.status.idle": "2023-02-27T13:21:24.204891Z",
     "shell.execute_reply": "2023-02-27T13:21:24.204381Z"
    }
   },
   "outputs": [
    {
     "data": {
      "text/plain": [
       "<FastTreeValue 0x7f6fd60afd60>\n",
       "├── 'a' --> tensor([[[-0.9171,  1.7155,  1.3799],\n",
       "│                    [-0.2327, -0.3378, -0.5759]],\n",
       "│           \n",
       "│                   [[-0.9171,  1.7155,  1.3799],\n",
       "│                    [-0.2327, -0.3378, -0.5759]],\n",
       "│           \n",
       "│                   [[-0.9171,  1.7155,  1.3799],\n",
       "│                    [-0.2327, -0.3378, -0.5759]],\n",
       "│           \n",
       "│                   [[-0.9171,  1.7155,  1.3799],\n",
       "│                    [-0.2327, -0.3378, -0.5759]],\n",
       "│           \n",
       "│                   [[-0.9171,  1.7155,  1.3799],\n",
       "│                    [-0.2327, -0.3378, -0.5759]],\n",
       "│           \n",
       "│                   [[-0.9171,  1.7155,  1.3799],\n",
       "│                    [-0.2327, -0.3378, -0.5759]],\n",
       "│           \n",
       "│                   [[-0.9171,  1.7155,  1.3799],\n",
       "│                    [-0.2327, -0.3378, -0.5759]],\n",
       "│           \n",
       "│                   [[-0.9171,  1.7155,  1.3799],\n",
       "│                    [-0.2327, -0.3378, -0.5759]]])\n",
       "└── 'x' --> <FastTreeValue 0x7f6fd60afd00>\n",
       "    └── 'c' --> tensor([[[-0.1696, -0.5605,  1.7564, -1.4193],\n",
       "                         [ 1.4972,  0.3880, -0.9034,  0.0131],\n",
       "                         [ 0.4925,  1.1353, -1.1177, -0.8582]],\n",
       "                \n",
       "                        [[-0.1696, -0.5605,  1.7564, -1.4193],\n",
       "                         [ 1.4972,  0.3880, -0.9034,  0.0131],\n",
       "                         [ 0.4925,  1.1353, -1.1177, -0.8582]],\n",
       "                \n",
       "                        [[-0.1696, -0.5605,  1.7564, -1.4193],\n",
       "                         [ 1.4972,  0.3880, -0.9034,  0.0131],\n",
       "                         [ 0.4925,  1.1353, -1.1177, -0.8582]],\n",
       "                \n",
       "                        [[-0.1696, -0.5605,  1.7564, -1.4193],\n",
       "                         [ 1.4972,  0.3880, -0.9034,  0.0131],\n",
       "                         [ 0.4925,  1.1353, -1.1177, -0.8582]],\n",
       "                \n",
       "                        [[-0.1696, -0.5605,  1.7564, -1.4193],\n",
       "                         [ 1.4972,  0.3880, -0.9034,  0.0131],\n",
       "                         [ 0.4925,  1.1353, -1.1177, -0.8582]],\n",
       "                \n",
       "                        [[-0.1696, -0.5605,  1.7564, -1.4193],\n",
       "                         [ 1.4972,  0.3880, -0.9034,  0.0131],\n",
       "                         [ 0.4925,  1.1353, -1.1177, -0.8582]],\n",
       "                \n",
       "                        [[-0.1696, -0.5605,  1.7564, -1.4193],\n",
       "                         [ 1.4972,  0.3880, -0.9034,  0.0131],\n",
       "                         [ 0.4925,  1.1353, -1.1177, -0.8582]],\n",
       "                \n",
       "                        [[-0.1696, -0.5605,  1.7564, -1.4193],\n",
       "                         [ 1.4972,  0.3880, -0.9034,  0.0131],\n",
       "                         [ 0.4925,  1.1353, -1.1177, -0.8582]]])"
      ]
     },
     "execution_count": 20,
     "metadata": {},
     "output_type": "execute_result"
    }
   ],
   "source": [
    "t_stack = FastTreeValue.func(subside=True)(torch.stack)\n",
    "\n",
    "t_stack(trees)"
   ]
  },
  {
   "cell_type": "code",
   "execution_count": 21,
   "id": "f8b3f415",
   "metadata": {
    "execution": {
     "iopub.execute_input": "2023-02-27T13:21:24.207370Z",
     "iopub.status.busy": "2023-02-27T13:21:24.206746Z",
     "iopub.status.idle": "2023-02-27T13:21:26.803916Z",
     "shell.execute_reply": "2023-02-27T13:21:26.803169Z"
    }
   },
   "outputs": [
    {
     "name": "stdout",
     "output_type": "stream",
     "text": [
      "32 µs ± 26.7 ns per loop (mean ± std. dev. of 7 runs, 10,000 loops each)\n"
     ]
    }
   ],
   "source": [
    "%timeit t_stack(trees)"
   ]
  },
  {
   "cell_type": "code",
   "execution_count": 22,
   "id": "94b56771",
   "metadata": {
    "execution": {
     "iopub.execute_input": "2023-02-27T13:21:26.806678Z",
     "iopub.status.busy": "2023-02-27T13:21:26.806324Z",
     "iopub.status.idle": "2023-02-27T13:21:26.815145Z",
     "shell.execute_reply": "2023-02-27T13:21:26.814537Z"
    }
   },
   "outputs": [
    {
     "data": {
      "text/plain": [
       "<FastTreeValue 0x7f6fd60afa00>\n",
       "├── 'a' --> tensor([[-0.9171,  1.7155,  1.3799],\n",
       "│                   [-0.2327, -0.3378, -0.5759],\n",
       "│                   [-0.9171,  1.7155,  1.3799],\n",
       "│                   [-0.2327, -0.3378, -0.5759],\n",
       "│                   [-0.9171,  1.7155,  1.3799],\n",
       "│                   [-0.2327, -0.3378, -0.5759],\n",
       "│                   [-0.9171,  1.7155,  1.3799],\n",
       "│                   [-0.2327, -0.3378, -0.5759],\n",
       "│                   [-0.9171,  1.7155,  1.3799],\n",
       "│                   [-0.2327, -0.3378, -0.5759],\n",
       "│                   [-0.9171,  1.7155,  1.3799],\n",
       "│                   [-0.2327, -0.3378, -0.5759],\n",
       "│                   [-0.9171,  1.7155,  1.3799],\n",
       "│                   [-0.2327, -0.3378, -0.5759],\n",
       "│                   [-0.9171,  1.7155,  1.3799],\n",
       "│                   [-0.2327, -0.3378, -0.5759]])\n",
       "└── 'x' --> <FastTreeValue 0x7f708419fdc0>\n",
       "    └── 'c' --> tensor([[-0.1696, -0.5605,  1.7564, -1.4193],\n",
       "                        [ 1.4972,  0.3880, -0.9034,  0.0131],\n",
       "                        [ 0.4925,  1.1353, -1.1177, -0.8582],\n",
       "                        [-0.1696, -0.5605,  1.7564, -1.4193],\n",
       "                        [ 1.4972,  0.3880, -0.9034,  0.0131],\n",
       "                        [ 0.4925,  1.1353, -1.1177, -0.8582],\n",
       "                        [-0.1696, -0.5605,  1.7564, -1.4193],\n",
       "                        [ 1.4972,  0.3880, -0.9034,  0.0131],\n",
       "                        [ 0.4925,  1.1353, -1.1177, -0.8582],\n",
       "                        [-0.1696, -0.5605,  1.7564, -1.4193],\n",
       "                        [ 1.4972,  0.3880, -0.9034,  0.0131],\n",
       "                        [ 0.4925,  1.1353, -1.1177, -0.8582],\n",
       "                        [-0.1696, -0.5605,  1.7564, -1.4193],\n",
       "                        [ 1.4972,  0.3880, -0.9034,  0.0131],\n",
       "                        [ 0.4925,  1.1353, -1.1177, -0.8582],\n",
       "                        [-0.1696, -0.5605,  1.7564, -1.4193],\n",
       "                        [ 1.4972,  0.3880, -0.9034,  0.0131],\n",
       "                        [ 0.4925,  1.1353, -1.1177, -0.8582],\n",
       "                        [-0.1696, -0.5605,  1.7564, -1.4193],\n",
       "                        [ 1.4972,  0.3880, -0.9034,  0.0131],\n",
       "                        [ 0.4925,  1.1353, -1.1177, -0.8582],\n",
       "                        [-0.1696, -0.5605,  1.7564, -1.4193],\n",
       "                        [ 1.4972,  0.3880, -0.9034,  0.0131],\n",
       "                        [ 0.4925,  1.1353, -1.1177, -0.8582]])"
      ]
     },
     "execution_count": 22,
     "metadata": {},
     "output_type": "execute_result"
    }
   ],
   "source": [
    "t_cat = FastTreeValue.func(subside=True)(torch.cat)\n",
    "\n",
    "t_cat(trees)"
   ]
  },
  {
   "cell_type": "code",
   "execution_count": 23,
   "id": "5e9c06a6",
   "metadata": {
    "execution": {
     "iopub.execute_input": "2023-02-27T13:21:26.818031Z",
     "iopub.status.busy": "2023-02-27T13:21:26.817677Z",
     "iopub.status.idle": "2023-02-27T13:21:29.268120Z",
     "shell.execute_reply": "2023-02-27T13:21:29.267398Z"
    }
   },
   "outputs": [
    {
     "name": "stdout",
     "output_type": "stream",
     "text": [
      "30.1 µs ± 45.9 ns per loop (mean ± std. dev. of 7 runs, 10,000 loops each)\n"
     ]
    }
   ],
   "source": [
    "%timeit t_cat(trees)"
   ]
  },
  {
   "cell_type": "code",
   "execution_count": 24,
   "id": "a3ab5c8f",
   "metadata": {
    "execution": {
     "iopub.execute_input": "2023-02-27T13:21:29.271062Z",
     "iopub.status.busy": "2023-02-27T13:21:29.270490Z",
     "iopub.status.idle": "2023-02-27T13:21:34.090007Z",
     "shell.execute_reply": "2023-02-27T13:21:34.089223Z"
    }
   },
   "outputs": [
    {
     "name": "stdout",
     "output_type": "stream",
     "text": [
      "59.1 µs ± 77 ns per loop (mean ± std. dev. of 7 runs, 10,000 loops each)\n"
     ]
    }
   ],
   "source": [
    "t_split = FastTreeValue.func(rise=True)(torch.split)\n",
    "tree = FastTreeValue({\n",
    "    'obs': torch.randn(8, 4, 84, 84),\n",
    "    'action': torch.randint(0, 6, size=(8, 1,)),\n",
    "    'reward': torch.rand(8, 1),\n",
    "})\n",
    "\n",
    "%timeit t_split(tree, 1)"
   ]
  },
  {
   "cell_type": "markdown",
   "id": "31c3ec0b",
   "metadata": {},
   "source": [
    "### Performance of Tianshou Batch"
   ]
  },
  {
   "cell_type": "code",
   "execution_count": 25,
   "id": "9ead828a",
   "metadata": {
    "execution": {
     "iopub.execute_input": "2023-02-27T13:21:34.093241Z",
     "iopub.status.busy": "2023-02-27T13:21:34.092853Z",
     "iopub.status.idle": "2023-02-27T13:21:34.100977Z",
     "shell.execute_reply": "2023-02-27T13:21:34.100386Z"
    }
   },
   "outputs": [
    {
     "data": {
      "text/plain": [
       "Batch(\n",
       "    a: tensor([[[-0.9171,  1.7155,  1.3799],\n",
       "                [-0.2327, -0.3378, -0.5759]],\n",
       "       \n",
       "               [[-0.9171,  1.7155,  1.3799],\n",
       "                [-0.2327, -0.3378, -0.5759]],\n",
       "       \n",
       "               [[-0.9171,  1.7155,  1.3799],\n",
       "                [-0.2327, -0.3378, -0.5759]],\n",
       "       \n",
       "               [[-0.9171,  1.7155,  1.3799],\n",
       "                [-0.2327, -0.3378, -0.5759]],\n",
       "       \n",
       "               [[-0.9171,  1.7155,  1.3799],\n",
       "                [-0.2327, -0.3378, -0.5759]],\n",
       "       \n",
       "               [[-0.9171,  1.7155,  1.3799],\n",
       "                [-0.2327, -0.3378, -0.5759]],\n",
       "       \n",
       "               [[-0.9171,  1.7155,  1.3799],\n",
       "                [-0.2327, -0.3378, -0.5759]],\n",
       "       \n",
       "               [[-0.9171,  1.7155,  1.3799],\n",
       "                [-0.2327, -0.3378, -0.5759]]]),\n",
       "    x: Batch(\n",
       "           c: tensor([[[-0.1696, -0.5605,  1.7564, -1.4193],\n",
       "                       [ 1.4972,  0.3880, -0.9034,  0.0131],\n",
       "                       [ 0.4925,  1.1353, -1.1177, -0.8582]],\n",
       "              \n",
       "                      [[-0.1696, -0.5605,  1.7564, -1.4193],\n",
       "                       [ 1.4972,  0.3880, -0.9034,  0.0131],\n",
       "                       [ 0.4925,  1.1353, -1.1177, -0.8582]],\n",
       "              \n",
       "                      [[-0.1696, -0.5605,  1.7564, -1.4193],\n",
       "                       [ 1.4972,  0.3880, -0.9034,  0.0131],\n",
       "                       [ 0.4925,  1.1353, -1.1177, -0.8582]],\n",
       "              \n",
       "                      [[-0.1696, -0.5605,  1.7564, -1.4193],\n",
       "                       [ 1.4972,  0.3880, -0.9034,  0.0131],\n",
       "                       [ 0.4925,  1.1353, -1.1177, -0.8582]],\n",
       "              \n",
       "                      [[-0.1696, -0.5605,  1.7564, -1.4193],\n",
       "                       [ 1.4972,  0.3880, -0.9034,  0.0131],\n",
       "                       [ 0.4925,  1.1353, -1.1177, -0.8582]],\n",
       "              \n",
       "                      [[-0.1696, -0.5605,  1.7564, -1.4193],\n",
       "                       [ 1.4972,  0.3880, -0.9034,  0.0131],\n",
       "                       [ 0.4925,  1.1353, -1.1177, -0.8582]],\n",
       "              \n",
       "                      [[-0.1696, -0.5605,  1.7564, -1.4193],\n",
       "                       [ 1.4972,  0.3880, -0.9034,  0.0131],\n",
       "                       [ 0.4925,  1.1353, -1.1177, -0.8582]],\n",
       "              \n",
       "                      [[-0.1696, -0.5605,  1.7564, -1.4193],\n",
       "                       [ 1.4972,  0.3880, -0.9034,  0.0131],\n",
       "                       [ 0.4925,  1.1353, -1.1177, -0.8582]]]),\n",
       "       ),\n",
       ")"
      ]
     },
     "execution_count": 25,
     "metadata": {},
     "output_type": "execute_result"
    }
   ],
   "source": [
    "batches = [Batch(**_TREE_DATA_2) for _ in range(8)]\n",
    "\n",
    "Batch.stack(batches)"
   ]
  },
  {
   "cell_type": "code",
   "execution_count": 26,
   "id": "ec9037a3",
   "metadata": {
    "execution": {
     "iopub.execute_input": "2023-02-27T13:21:34.103840Z",
     "iopub.status.busy": "2023-02-27T13:21:34.103243Z",
     "iopub.status.idle": "2023-02-27T13:21:40.425514Z",
     "shell.execute_reply": "2023-02-27T13:21:40.424815Z"
    }
   },
   "outputs": [
    {
     "name": "stdout",
     "output_type": "stream",
     "text": [
      "77.7 µs ± 153 ns per loop (mean ± std. dev. of 7 runs, 10,000 loops each)\n"
     ]
    }
   ],
   "source": [
    "%timeit Batch.stack(batches)"
   ]
  },
  {
   "cell_type": "code",
   "execution_count": 27,
   "id": "cb8ab77e",
   "metadata": {
    "execution": {
     "iopub.execute_input": "2023-02-27T13:21:40.428666Z",
     "iopub.status.busy": "2023-02-27T13:21:40.428032Z",
     "iopub.status.idle": "2023-02-27T13:21:40.435757Z",
     "shell.execute_reply": "2023-02-27T13:21:40.435108Z"
    }
   },
   "outputs": [
    {
     "data": {
      "text/plain": [
       "Batch(\n",
       "    a: tensor([[-0.9171,  1.7155,  1.3799],\n",
       "               [-0.2327, -0.3378, -0.5759],\n",
       "               [-0.9171,  1.7155,  1.3799],\n",
       "               [-0.2327, -0.3378, -0.5759],\n",
       "               [-0.9171,  1.7155,  1.3799],\n",
       "               [-0.2327, -0.3378, -0.5759],\n",
       "               [-0.9171,  1.7155,  1.3799],\n",
       "               [-0.2327, -0.3378, -0.5759],\n",
       "               [-0.9171,  1.7155,  1.3799],\n",
       "               [-0.2327, -0.3378, -0.5759],\n",
       "               [-0.9171,  1.7155,  1.3799],\n",
       "               [-0.2327, -0.3378, -0.5759],\n",
       "               [-0.9171,  1.7155,  1.3799],\n",
       "               [-0.2327, -0.3378, -0.5759],\n",
       "               [-0.9171,  1.7155,  1.3799],\n",
       "               [-0.2327, -0.3378, -0.5759]]),\n",
       "    x: Batch(\n",
       "           c: tensor([[-0.1696, -0.5605,  1.7564, -1.4193],\n",
       "                      [ 1.4972,  0.3880, -0.9034,  0.0131],\n",
       "                      [ 0.4925,  1.1353, -1.1177, -0.8582],\n",
       "                      [-0.1696, -0.5605,  1.7564, -1.4193],\n",
       "                      [ 1.4972,  0.3880, -0.9034,  0.0131],\n",
       "                      [ 0.4925,  1.1353, -1.1177, -0.8582],\n",
       "                      [-0.1696, -0.5605,  1.7564, -1.4193],\n",
       "                      [ 1.4972,  0.3880, -0.9034,  0.0131],\n",
       "                      [ 0.4925,  1.1353, -1.1177, -0.8582],\n",
       "                      [-0.1696, -0.5605,  1.7564, -1.4193],\n",
       "                      [ 1.4972,  0.3880, -0.9034,  0.0131],\n",
       "                      [ 0.4925,  1.1353, -1.1177, -0.8582],\n",
       "                      [-0.1696, -0.5605,  1.7564, -1.4193],\n",
       "                      [ 1.4972,  0.3880, -0.9034,  0.0131],\n",
       "                      [ 0.4925,  1.1353, -1.1177, -0.8582],\n",
       "                      [-0.1696, -0.5605,  1.7564, -1.4193],\n",
       "                      [ 1.4972,  0.3880, -0.9034,  0.0131],\n",
       "                      [ 0.4925,  1.1353, -1.1177, -0.8582],\n",
       "                      [-0.1696, -0.5605,  1.7564, -1.4193],\n",
       "                      [ 1.4972,  0.3880, -0.9034,  0.0131],\n",
       "                      [ 0.4925,  1.1353, -1.1177, -0.8582],\n",
       "                      [-0.1696, -0.5605,  1.7564, -1.4193],\n",
       "                      [ 1.4972,  0.3880, -0.9034,  0.0131],\n",
       "                      [ 0.4925,  1.1353, -1.1177, -0.8582]]),\n",
       "       ),\n",
       ")"
      ]
     },
     "execution_count": 27,
     "metadata": {},
     "output_type": "execute_result"
    }
   ],
   "source": [
    "Batch.cat(batches)"
   ]
  },
  {
   "cell_type": "code",
   "execution_count": 28,
   "id": "18dfb045",
   "metadata": {
    "execution": {
     "iopub.execute_input": "2023-02-27T13:21:40.438513Z",
     "iopub.status.busy": "2023-02-27T13:21:40.438121Z",
     "iopub.status.idle": "2023-02-27T13:21:52.065080Z",
     "shell.execute_reply": "2023-02-27T13:21:52.064319Z"
    }
   },
   "outputs": [
    {
     "name": "stdout",
     "output_type": "stream",
     "text": [
      "143 µs ± 233 ns per loop (mean ± std. dev. of 7 runs, 10,000 loops each)\n"
     ]
    }
   ],
   "source": [
    "%timeit Batch.cat(batches)"
   ]
  },
  {
   "cell_type": "code",
   "execution_count": 29,
   "id": "c6688e51",
   "metadata": {
    "execution": {
     "iopub.execute_input": "2023-02-27T13:21:52.068143Z",
     "iopub.status.busy": "2023-02-27T13:21:52.067772Z",
     "iopub.status.idle": "2023-02-27T13:21:54.618782Z",
     "shell.execute_reply": "2023-02-27T13:21:54.618066Z"
    }
   },
   "outputs": [
    {
     "name": "stdout",
     "output_type": "stream",
     "text": [
      "314 µs ± 2.06 µs per loop (mean ± std. dev. of 7 runs, 1,000 loops each)\n"
     ]
    }
   ],
   "source": [
    "batch = Batch({\n",
    "    'obs': torch.randn(8, 4, 84, 84),\n",
    "    'action': torch.randint(0, 6, size=(8, 1,)),\n",
    "    'reward': torch.rand(8, 1)}\n",
    ")\n",
    "\n",
    "%timeit list(Batch.split(batch, 1, shuffle=False, merge_last=True))"
   ]
  },
  {
   "cell_type": "code",
   "execution_count": null,
   "id": "2539fbd9",
   "metadata": {},
   "outputs": [],
   "source": []
  }
 ],
 "metadata": {
  "kernelspec": {
   "display_name": "Python 3 (ipykernel)",
   "language": "python",
   "name": "python3"
  },
  "language_info": {
   "codemirror_mode": {
    "name": "ipython",
    "version": 3
   },
   "file_extension": ".py",
   "mimetype": "text/x-python",
   "name": "python",
   "nbconvert_exporter": "python",
   "pygments_lexer": "ipython3",
   "version": "3.8.16"
  }
 },
 "nbformat": 4,
 "nbformat_minor": 5
}
