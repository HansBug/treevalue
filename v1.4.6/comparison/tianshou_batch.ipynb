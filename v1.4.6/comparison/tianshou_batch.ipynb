{
 "cells": [
  {
   "cell_type": "markdown",
   "id": "9d39d946",
   "metadata": {},
   "source": [
    "# Comparison Between TreeValue and Tianshou Batch"
   ]
  },
  {
   "cell_type": "markdown",
   "id": "3c6db2d4",
   "metadata": {},
   "source": [
    "In this section, we will take a look at the feature and performance of the [Tianshou Batch](https://github.com/thu-ml/tianshou) library, which is developed by Tsinghua Machine Learning Group."
   ]
  },
  {
   "cell_type": "markdown",
   "id": "069361b0",
   "metadata": {},
   "source": [
    "Before starting the comparison, let us define some thing."
   ]
  },
  {
   "cell_type": "code",
   "execution_count": 1,
   "id": "06fc8d26",
   "metadata": {
    "execution": {
     "iopub.execute_input": "2023-02-26T16:47:41.069669Z",
     "iopub.status.busy": "2023-02-26T16:47:41.069122Z",
     "iopub.status.idle": "2023-02-26T16:47:41.973857Z",
     "shell.execute_reply": "2023-02-26T16:47:41.973161Z"
    }
   },
   "outputs": [
    {
     "name": "stderr",
     "output_type": "stream",
     "text": [
      "/opt/hostedtoolcache/Python/3.8.16/x64/lib/python3.8/site-packages/tqdm/auto.py:22: TqdmWarning: IProgress not found. Please update jupyter and ipywidgets. See https://ipywidgets.readthedocs.io/en/stable/user_install.html\n",
      "  from .autonotebook import tqdm as notebook_tqdm\n"
     ]
    }
   ],
   "source": [
    "import torch \n",
    "\n",
    "_TREE_DATA_1 = {'a': 1, 'b': 2, 'x': {'c': 3, 'd': 4}}\n",
    "_TREE_DATA_2 = {\n",
    "    'a': torch.randn(2, 3), \n",
    "    'x': {\n",
    "        'c': torch.randn(3, 4)\n",
    "    },\n",
    "}\n",
    "_TREE_DATA_3 = {\n",
    "    'obs': torch.randn(4, 84, 84),\n",
    "    'action': torch.randint(0, 6, size=(1,)),\n",
    "    'reward': torch.rand(1),\n",
    "}"
   ]
  },
  {
   "cell_type": "markdown",
   "id": "83461b25",
   "metadata": {},
   "source": [
    "## Read and Write Operation"
   ]
  },
  {
   "cell_type": "markdown",
   "id": "067b3f73",
   "metadata": {},
   "source": [
    "Reading and writing are the two most common operations in the tree data structure based on the data model (TreeValue and Tianshou Batch both belong to this type), so this section will compare the reading and writing performance of these two libraries."
   ]
  },
  {
   "cell_type": "markdown",
   "id": "5d09a5b7",
   "metadata": {},
   "source": [
    "### TreeValue's Get and Set"
   ]
  },
  {
   "cell_type": "code",
   "execution_count": 2,
   "id": "9519c4bb",
   "metadata": {
    "execution": {
     "iopub.execute_input": "2023-02-26T16:47:41.977219Z",
     "iopub.status.busy": "2023-02-26T16:47:41.976724Z",
     "iopub.status.idle": "2023-02-26T16:47:42.253375Z",
     "shell.execute_reply": "2023-02-26T16:47:42.252433Z"
    }
   },
   "outputs": [],
   "source": [
    "from treevalue import FastTreeValue\n",
    "\n",
    "t = FastTreeValue(_TREE_DATA_2)"
   ]
  },
  {
   "cell_type": "code",
   "execution_count": 3,
   "id": "11c37677",
   "metadata": {
    "execution": {
     "iopub.execute_input": "2023-02-26T16:47:42.256537Z",
     "iopub.status.busy": "2023-02-26T16:47:42.255901Z",
     "iopub.status.idle": "2023-02-26T16:47:42.265239Z",
     "shell.execute_reply": "2023-02-26T16:47:42.264649Z"
    }
   },
   "outputs": [
    {
     "data": {
      "text/plain": [
       "<FastTreeValue 0x7f9258b230d0>\n",
       "├── 'a' --> tensor([[-1.5016,  0.2365,  0.1983],\n",
       "│                   [-0.5728, -2.9007, -0.1820]])\n",
       "└── 'x' --> <FastTreeValue 0x7f9258b531f0>\n",
       "    └── 'c' --> tensor([[-8.3100e-01, -1.1192e+00, -2.7592e-01,  7.4312e-01],\n",
       "                        [ 1.3845e-03,  1.1285e+00,  1.3368e+00, -1.2128e+00],\n",
       "                        [-1.5134e+00,  5.6269e-01,  2.8417e-01,  1.8992e-01]])"
      ]
     },
     "execution_count": 3,
     "metadata": {},
     "output_type": "execute_result"
    }
   ],
   "source": [
    "t"
   ]
  },
  {
   "cell_type": "code",
   "execution_count": 4,
   "id": "fd70b0b9",
   "metadata": {
    "execution": {
     "iopub.execute_input": "2023-02-26T16:47:42.267879Z",
     "iopub.status.busy": "2023-02-26T16:47:42.267552Z",
     "iopub.status.idle": "2023-02-26T16:47:42.272759Z",
     "shell.execute_reply": "2023-02-26T16:47:42.272198Z"
    }
   },
   "outputs": [
    {
     "data": {
      "text/plain": [
       "tensor([[-1.5016,  0.2365,  0.1983],\n",
       "        [-0.5728, -2.9007, -0.1820]])"
      ]
     },
     "execution_count": 4,
     "metadata": {},
     "output_type": "execute_result"
    }
   ],
   "source": [
    "t.a"
   ]
  },
  {
   "cell_type": "code",
   "execution_count": 5,
   "id": "c18197bd",
   "metadata": {
    "execution": {
     "iopub.execute_input": "2023-02-26T16:47:42.275015Z",
     "iopub.status.busy": "2023-02-26T16:47:42.274682Z",
     "iopub.status.idle": "2023-02-26T16:47:47.164076Z",
     "shell.execute_reply": "2023-02-26T16:47:47.163360Z"
    }
   },
   "outputs": [
    {
     "name": "stdout",
     "output_type": "stream",
     "text": [
      "60.3 ns ± 0.0472 ns per loop (mean ± std. dev. of 7 runs, 10,000,000 loops each)\n"
     ]
    }
   ],
   "source": [
    "%timeit t.a"
   ]
  },
  {
   "cell_type": "code",
   "execution_count": 6,
   "id": "bd52f867",
   "metadata": {
    "execution": {
     "iopub.execute_input": "2023-02-26T16:47:47.166777Z",
     "iopub.status.busy": "2023-02-26T16:47:47.166413Z",
     "iopub.status.idle": "2023-02-26T16:47:47.173127Z",
     "shell.execute_reply": "2023-02-26T16:47:47.172547Z"
    }
   },
   "outputs": [
    {
     "data": {
      "text/plain": [
       "<FastTreeValue 0x7f9258b230d0>\n",
       "├── 'a' --> tensor([[ 0.7080, -0.5880, -0.1838],\n",
       "│                   [ 0.5535, -1.5117, -1.2745]])\n",
       "└── 'x' --> <FastTreeValue 0x7f9258b531f0>\n",
       "    └── 'c' --> tensor([[-8.3100e-01, -1.1192e+00, -2.7592e-01,  7.4312e-01],\n",
       "                        [ 1.3845e-03,  1.1285e+00,  1.3368e+00, -1.2128e+00],\n",
       "                        [-1.5134e+00,  5.6269e-01,  2.8417e-01,  1.8992e-01]])"
      ]
     },
     "execution_count": 6,
     "metadata": {},
     "output_type": "execute_result"
    }
   ],
   "source": [
    "new_value = torch.randn(2, 3)\n",
    "t.a = new_value\n",
    "\n",
    "t"
   ]
  },
  {
   "cell_type": "code",
   "execution_count": 7,
   "id": "bbe04d1c",
   "metadata": {
    "execution": {
     "iopub.execute_input": "2023-02-26T16:47:47.175643Z",
     "iopub.status.busy": "2023-02-26T16:47:47.175323Z",
     "iopub.status.idle": "2023-02-26T16:47:51.816268Z",
     "shell.execute_reply": "2023-02-26T16:47:51.815541Z"
    }
   },
   "outputs": [
    {
     "name": "stdout",
     "output_type": "stream",
     "text": [
      "57.1 ns ± 0.0315 ns per loop (mean ± std. dev. of 7 runs, 10,000,000 loops each)\n"
     ]
    }
   ],
   "source": [
    "%timeit t.a = new_value"
   ]
  },
  {
   "cell_type": "markdown",
   "id": "48c49731",
   "metadata": {},
   "source": [
    "### Tianshou Batch's Get and Set"
   ]
  },
  {
   "cell_type": "code",
   "execution_count": 8,
   "id": "f1bb14c1",
   "metadata": {
    "execution": {
     "iopub.execute_input": "2023-02-26T16:47:51.819432Z",
     "iopub.status.busy": "2023-02-26T16:47:51.818869Z",
     "iopub.status.idle": "2023-02-26T16:47:52.143571Z",
     "shell.execute_reply": "2023-02-26T16:47:52.142896Z"
    }
   },
   "outputs": [],
   "source": [
    "from tianshou.data import Batch\n",
    "\n",
    "b = Batch(**_TREE_DATA_2)"
   ]
  },
  {
   "cell_type": "code",
   "execution_count": 9,
   "id": "cb0777c3",
   "metadata": {
    "execution": {
     "iopub.execute_input": "2023-02-26T16:47:52.146833Z",
     "iopub.status.busy": "2023-02-26T16:47:52.146299Z",
     "iopub.status.idle": "2023-02-26T16:47:52.151657Z",
     "shell.execute_reply": "2023-02-26T16:47:52.151044Z"
    }
   },
   "outputs": [
    {
     "data": {
      "text/plain": [
       "Batch(\n",
       "    a: tensor([[-1.5016,  0.2365,  0.1983],\n",
       "               [-0.5728, -2.9007, -0.1820]]),\n",
       "    x: Batch(\n",
       "           c: tensor([[-8.3100e-01, -1.1192e+00, -2.7592e-01,  7.4312e-01],\n",
       "                      [ 1.3845e-03,  1.1285e+00,  1.3368e+00, -1.2128e+00],\n",
       "                      [-1.5134e+00,  5.6269e-01,  2.8417e-01,  1.8992e-01]]),\n",
       "       ),\n",
       ")"
      ]
     },
     "execution_count": 9,
     "metadata": {},
     "output_type": "execute_result"
    }
   ],
   "source": [
    "b"
   ]
  },
  {
   "cell_type": "code",
   "execution_count": 10,
   "id": "43ef8ea3",
   "metadata": {
    "execution": {
     "iopub.execute_input": "2023-02-26T16:47:52.154188Z",
     "iopub.status.busy": "2023-02-26T16:47:52.153853Z",
     "iopub.status.idle": "2023-02-26T16:47:52.159038Z",
     "shell.execute_reply": "2023-02-26T16:47:52.158437Z"
    }
   },
   "outputs": [
    {
     "data": {
      "text/plain": [
       "tensor([[-1.5016,  0.2365,  0.1983],\n",
       "        [-0.5728, -2.9007, -0.1820]])"
      ]
     },
     "execution_count": 10,
     "metadata": {},
     "output_type": "execute_result"
    }
   ],
   "source": [
    "b.a"
   ]
  },
  {
   "cell_type": "code",
   "execution_count": 11,
   "id": "b785ab72",
   "metadata": {
    "execution": {
     "iopub.execute_input": "2023-02-26T16:47:52.161178Z",
     "iopub.status.busy": "2023-02-26T16:47:52.160969Z",
     "iopub.status.idle": "2023-02-26T16:47:57.156643Z",
     "shell.execute_reply": "2023-02-26T16:47:57.155900Z"
    }
   },
   "outputs": [
    {
     "name": "stdout",
     "output_type": "stream",
     "text": [
      "61 ns ± 0.0327 ns per loop (mean ± std. dev. of 7 runs, 10,000,000 loops each)\n"
     ]
    }
   ],
   "source": [
    "%timeit b.a"
   ]
  },
  {
   "cell_type": "code",
   "execution_count": 12,
   "id": "ad54dc69",
   "metadata": {
    "execution": {
     "iopub.execute_input": "2023-02-26T16:47:57.159601Z",
     "iopub.status.busy": "2023-02-26T16:47:57.158975Z",
     "iopub.status.idle": "2023-02-26T16:47:57.165334Z",
     "shell.execute_reply": "2023-02-26T16:47:57.164758Z"
    }
   },
   "outputs": [
    {
     "data": {
      "text/plain": [
       "Batch(\n",
       "    a: tensor([[ 0.7604,  0.2665, -0.2677],\n",
       "               [-0.8147, -0.3625,  0.8706]]),\n",
       "    x: Batch(\n",
       "           c: tensor([[-8.3100e-01, -1.1192e+00, -2.7592e-01,  7.4312e-01],\n",
       "                      [ 1.3845e-03,  1.1285e+00,  1.3368e+00, -1.2128e+00],\n",
       "                      [-1.5134e+00,  5.6269e-01,  2.8417e-01,  1.8992e-01]]),\n",
       "       ),\n",
       ")"
      ]
     },
     "execution_count": 12,
     "metadata": {},
     "output_type": "execute_result"
    }
   ],
   "source": [
    "new_value = torch.randn(2, 3)\n",
    "b.a = new_value\n",
    "\n",
    "b"
   ]
  },
  {
   "cell_type": "code",
   "execution_count": 13,
   "id": "29b1d0bf",
   "metadata": {
    "execution": {
     "iopub.execute_input": "2023-02-26T16:47:57.167630Z",
     "iopub.status.busy": "2023-02-26T16:47:57.167300Z",
     "iopub.status.idle": "2023-02-26T16:48:01.148499Z",
     "shell.execute_reply": "2023-02-26T16:48:01.147742Z"
    }
   },
   "outputs": [
    {
     "name": "stdout",
     "output_type": "stream",
     "text": [
      "490 ns ± 0.122 ns per loop (mean ± std. dev. of 7 runs, 1,000,000 loops each)\n"
     ]
    }
   ],
   "source": [
    "%timeit b.a = new_value"
   ]
  },
  {
   "cell_type": "markdown",
   "id": "b61ad1d0",
   "metadata": {},
   "source": [
    "## Initialization"
   ]
  },
  {
   "cell_type": "markdown",
   "id": "d70f0d54",
   "metadata": {},
   "source": [
    "### TreeValue's Initialization"
   ]
  },
  {
   "cell_type": "code",
   "execution_count": 14,
   "id": "d32a679b",
   "metadata": {
    "execution": {
     "iopub.execute_input": "2023-02-26T16:48:01.151652Z",
     "iopub.status.busy": "2023-02-26T16:48:01.151203Z",
     "iopub.status.idle": "2023-02-26T16:48:07.911675Z",
     "shell.execute_reply": "2023-02-26T16:48:07.910928Z"
    }
   },
   "outputs": [
    {
     "name": "stdout",
     "output_type": "stream",
     "text": [
      "833 ns ± 0.268 ns per loop (mean ± std. dev. of 7 runs, 1,000,000 loops each)\n"
     ]
    }
   ],
   "source": [
    "%timeit FastTreeValue(_TREE_DATA_1)"
   ]
  },
  {
   "cell_type": "markdown",
   "id": "24f3707b",
   "metadata": {},
   "source": [
    "### Tianshou Batch's Initialization"
   ]
  },
  {
   "cell_type": "code",
   "execution_count": 15,
   "id": "ac3958df",
   "metadata": {
    "execution": {
     "iopub.execute_input": "2023-02-26T16:48:07.914761Z",
     "iopub.status.busy": "2023-02-26T16:48:07.914307Z",
     "iopub.status.idle": "2023-02-26T16:48:17.202379Z",
     "shell.execute_reply": "2023-02-26T16:48:17.201705Z"
    }
   },
   "outputs": [
    {
     "name": "stdout",
     "output_type": "stream",
     "text": [
      "11.4 µs ± 29.6 ns per loop (mean ± std. dev. of 7 runs, 100,000 loops each)\n"
     ]
    }
   ],
   "source": [
    "%timeit Batch(**_TREE_DATA_1)"
   ]
  },
  {
   "cell_type": "markdown",
   "id": "1ab82e2d",
   "metadata": {},
   "source": [
    "## Deep Copy Operation"
   ]
  },
  {
   "cell_type": "code",
   "execution_count": 16,
   "id": "210a9442",
   "metadata": {
    "execution": {
     "iopub.execute_input": "2023-02-26T16:48:17.205341Z",
     "iopub.status.busy": "2023-02-26T16:48:17.204981Z",
     "iopub.status.idle": "2023-02-26T16:48:17.208884Z",
     "shell.execute_reply": "2023-02-26T16:48:17.208298Z"
    }
   },
   "outputs": [],
   "source": [
    "import copy"
   ]
  },
  {
   "cell_type": "markdown",
   "id": "5a736274",
   "metadata": {},
   "source": [
    "### Deep Copy of TreeValue"
   ]
  },
  {
   "cell_type": "code",
   "execution_count": 17,
   "id": "f9bcadd6",
   "metadata": {
    "execution": {
     "iopub.execute_input": "2023-02-26T16:48:17.211676Z",
     "iopub.status.busy": "2023-02-26T16:48:17.211209Z",
     "iopub.status.idle": "2023-02-26T16:48:28.399261Z",
     "shell.execute_reply": "2023-02-26T16:48:28.398712Z"
    }
   },
   "outputs": [
    {
     "name": "stdout",
     "output_type": "stream",
     "text": [
      "138 µs ± 1.59 µs per loop (mean ± std. dev. of 7 runs, 10,000 loops each)\n"
     ]
    }
   ],
   "source": [
    "t3 = FastTreeValue(_TREE_DATA_3)\n",
    "%timeit copy.deepcopy(t3)"
   ]
  },
  {
   "cell_type": "markdown",
   "id": "bf8be7ea",
   "metadata": {},
   "source": [
    "### Deep Copy of Tianshou Batch"
   ]
  },
  {
   "cell_type": "code",
   "execution_count": 18,
   "id": "91998e6f",
   "metadata": {
    "execution": {
     "iopub.execute_input": "2023-02-26T16:48:28.402209Z",
     "iopub.status.busy": "2023-02-26T16:48:28.401573Z",
     "iopub.status.idle": "2023-02-26T16:48:39.785092Z",
     "shell.execute_reply": "2023-02-26T16:48:39.784533Z"
    }
   },
   "outputs": [
    {
     "name": "stdout",
     "output_type": "stream",
     "text": [
      "140 µs ± 309 ns per loop (mean ± std. dev. of 7 runs, 10,000 loops each)\n"
     ]
    }
   ],
   "source": [
    "b3 = Batch(**_TREE_DATA_3)\n",
    "%timeit copy.deepcopy(b3)"
   ]
  },
  {
   "cell_type": "markdown",
   "id": "223162fb",
   "metadata": {},
   "source": [
    "## Stack, Concat and Split Operation"
   ]
  },
  {
   "cell_type": "markdown",
   "id": "85fa4a73",
   "metadata": {},
   "source": [
    "### Performance of TreeValue"
   ]
  },
  {
   "cell_type": "code",
   "execution_count": 19,
   "id": "a0c2b697",
   "metadata": {
    "execution": {
     "iopub.execute_input": "2023-02-26T16:48:39.787905Z",
     "iopub.status.busy": "2023-02-26T16:48:39.787552Z",
     "iopub.status.idle": "2023-02-26T16:48:39.790575Z",
     "shell.execute_reply": "2023-02-26T16:48:39.790052Z"
    }
   },
   "outputs": [],
   "source": [
    "trees = [FastTreeValue(_TREE_DATA_2) for _ in range(8)]"
   ]
  },
  {
   "cell_type": "code",
   "execution_count": 20,
   "id": "017ea5a5",
   "metadata": {
    "execution": {
     "iopub.execute_input": "2023-02-26T16:48:39.793023Z",
     "iopub.status.busy": "2023-02-26T16:48:39.792581Z",
     "iopub.status.idle": "2023-02-26T16:48:39.799425Z",
     "shell.execute_reply": "2023-02-26T16:48:39.798922Z"
    }
   },
   "outputs": [
    {
     "data": {
      "text/plain": [
       "<FastTreeValue 0x7f91a9acde50>\n",
       "├── 'a' --> tensor([[[-1.5016,  0.2365,  0.1983],\n",
       "│                    [-0.5728, -2.9007, -0.1820]],\n",
       "│           \n",
       "│                   [[-1.5016,  0.2365,  0.1983],\n",
       "│                    [-0.5728, -2.9007, -0.1820]],\n",
       "│           \n",
       "│                   [[-1.5016,  0.2365,  0.1983],\n",
       "│                    [-0.5728, -2.9007, -0.1820]],\n",
       "│           \n",
       "│                   [[-1.5016,  0.2365,  0.1983],\n",
       "│                    [-0.5728, -2.9007, -0.1820]],\n",
       "│           \n",
       "│                   [[-1.5016,  0.2365,  0.1983],\n",
       "│                    [-0.5728, -2.9007, -0.1820]],\n",
       "│           \n",
       "│                   [[-1.5016,  0.2365,  0.1983],\n",
       "│                    [-0.5728, -2.9007, -0.1820]],\n",
       "│           \n",
       "│                   [[-1.5016,  0.2365,  0.1983],\n",
       "│                    [-0.5728, -2.9007, -0.1820]],\n",
       "│           \n",
       "│                   [[-1.5016,  0.2365,  0.1983],\n",
       "│                    [-0.5728, -2.9007, -0.1820]]])\n",
       "└── 'x' --> <FastTreeValue 0x7f91a9acdee0>\n",
       "    └── 'c' --> tensor([[[-8.3100e-01, -1.1192e+00, -2.7592e-01,  7.4312e-01],\n",
       "                         [ 1.3845e-03,  1.1285e+00,  1.3368e+00, -1.2128e+00],\n",
       "                         [-1.5134e+00,  5.6269e-01,  2.8417e-01,  1.8992e-01]],\n",
       "                \n",
       "                        [[-8.3100e-01, -1.1192e+00, -2.7592e-01,  7.4312e-01],\n",
       "                         [ 1.3845e-03,  1.1285e+00,  1.3368e+00, -1.2128e+00],\n",
       "                         [-1.5134e+00,  5.6269e-01,  2.8417e-01,  1.8992e-01]],\n",
       "                \n",
       "                        [[-8.3100e-01, -1.1192e+00, -2.7592e-01,  7.4312e-01],\n",
       "                         [ 1.3845e-03,  1.1285e+00,  1.3368e+00, -1.2128e+00],\n",
       "                         [-1.5134e+00,  5.6269e-01,  2.8417e-01,  1.8992e-01]],\n",
       "                \n",
       "                        [[-8.3100e-01, -1.1192e+00, -2.7592e-01,  7.4312e-01],\n",
       "                         [ 1.3845e-03,  1.1285e+00,  1.3368e+00, -1.2128e+00],\n",
       "                         [-1.5134e+00,  5.6269e-01,  2.8417e-01,  1.8992e-01]],\n",
       "                \n",
       "                        [[-8.3100e-01, -1.1192e+00, -2.7592e-01,  7.4312e-01],\n",
       "                         [ 1.3845e-03,  1.1285e+00,  1.3368e+00, -1.2128e+00],\n",
       "                         [-1.5134e+00,  5.6269e-01,  2.8417e-01,  1.8992e-01]],\n",
       "                \n",
       "                        [[-8.3100e-01, -1.1192e+00, -2.7592e-01,  7.4312e-01],\n",
       "                         [ 1.3845e-03,  1.1285e+00,  1.3368e+00, -1.2128e+00],\n",
       "                         [-1.5134e+00,  5.6269e-01,  2.8417e-01,  1.8992e-01]],\n",
       "                \n",
       "                        [[-8.3100e-01, -1.1192e+00, -2.7592e-01,  7.4312e-01],\n",
       "                         [ 1.3845e-03,  1.1285e+00,  1.3368e+00, -1.2128e+00],\n",
       "                         [-1.5134e+00,  5.6269e-01,  2.8417e-01,  1.8992e-01]],\n",
       "                \n",
       "                        [[-8.3100e-01, -1.1192e+00, -2.7592e-01,  7.4312e-01],\n",
       "                         [ 1.3845e-03,  1.1285e+00,  1.3368e+00, -1.2128e+00],\n",
       "                         [-1.5134e+00,  5.6269e-01,  2.8417e-01,  1.8992e-01]]])"
      ]
     },
     "execution_count": 20,
     "metadata": {},
     "output_type": "execute_result"
    }
   ],
   "source": [
    "t_stack = FastTreeValue.func(subside=True)(torch.stack)\n",
    "\n",
    "t_stack(trees)"
   ]
  },
  {
   "cell_type": "code",
   "execution_count": 21,
   "id": "f8b3f415",
   "metadata": {
    "execution": {
     "iopub.execute_input": "2023-02-26T16:48:39.801730Z",
     "iopub.status.busy": "2023-02-26T16:48:39.801388Z",
     "iopub.status.idle": "2023-02-26T16:48:42.381882Z",
     "shell.execute_reply": "2023-02-26T16:48:42.381204Z"
    }
   },
   "outputs": [
    {
     "name": "stdout",
     "output_type": "stream",
     "text": [
      "31.8 µs ± 1.01 µs per loop (mean ± std. dev. of 7 runs, 10,000 loops each)\n"
     ]
    }
   ],
   "source": [
    "%timeit t_stack(trees)"
   ]
  },
  {
   "cell_type": "code",
   "execution_count": 22,
   "id": "94b56771",
   "metadata": {
    "execution": {
     "iopub.execute_input": "2023-02-26T16:48:42.384872Z",
     "iopub.status.busy": "2023-02-26T16:48:42.384523Z",
     "iopub.status.idle": "2023-02-26T16:48:42.392433Z",
     "shell.execute_reply": "2023-02-26T16:48:42.391859Z"
    }
   },
   "outputs": [
    {
     "data": {
      "text/plain": [
       "<FastTreeValue 0x7f91a2ea53d0>\n",
       "├── 'a' --> tensor([[-1.5016,  0.2365,  0.1983],\n",
       "│                   [-0.5728, -2.9007, -0.1820],\n",
       "│                   [-1.5016,  0.2365,  0.1983],\n",
       "│                   [-0.5728, -2.9007, -0.1820],\n",
       "│                   [-1.5016,  0.2365,  0.1983],\n",
       "│                   [-0.5728, -2.9007, -0.1820],\n",
       "│                   [-1.5016,  0.2365,  0.1983],\n",
       "│                   [-0.5728, -2.9007, -0.1820],\n",
       "│                   [-1.5016,  0.2365,  0.1983],\n",
       "│                   [-0.5728, -2.9007, -0.1820],\n",
       "│                   [-1.5016,  0.2365,  0.1983],\n",
       "│                   [-0.5728, -2.9007, -0.1820],\n",
       "│                   [-1.5016,  0.2365,  0.1983],\n",
       "│                   [-0.5728, -2.9007, -0.1820],\n",
       "│                   [-1.5016,  0.2365,  0.1983],\n",
       "│                   [-0.5728, -2.9007, -0.1820]])\n",
       "└── 'x' --> <FastTreeValue 0x7f9258b60f10>\n",
       "    └── 'c' --> tensor([[-8.3100e-01, -1.1192e+00, -2.7592e-01,  7.4312e-01],\n",
       "                        [ 1.3845e-03,  1.1285e+00,  1.3368e+00, -1.2128e+00],\n",
       "                        [-1.5134e+00,  5.6269e-01,  2.8417e-01,  1.8992e-01],\n",
       "                        [-8.3100e-01, -1.1192e+00, -2.7592e-01,  7.4312e-01],\n",
       "                        [ 1.3845e-03,  1.1285e+00,  1.3368e+00, -1.2128e+00],\n",
       "                        [-1.5134e+00,  5.6269e-01,  2.8417e-01,  1.8992e-01],\n",
       "                        [-8.3100e-01, -1.1192e+00, -2.7592e-01,  7.4312e-01],\n",
       "                        [ 1.3845e-03,  1.1285e+00,  1.3368e+00, -1.2128e+00],\n",
       "                        [-1.5134e+00,  5.6269e-01,  2.8417e-01,  1.8992e-01],\n",
       "                        [-8.3100e-01, -1.1192e+00, -2.7592e-01,  7.4312e-01],\n",
       "                        [ 1.3845e-03,  1.1285e+00,  1.3368e+00, -1.2128e+00],\n",
       "                        [-1.5134e+00,  5.6269e-01,  2.8417e-01,  1.8992e-01],\n",
       "                        [-8.3100e-01, -1.1192e+00, -2.7592e-01,  7.4312e-01],\n",
       "                        [ 1.3845e-03,  1.1285e+00,  1.3368e+00, -1.2128e+00],\n",
       "                        [-1.5134e+00,  5.6269e-01,  2.8417e-01,  1.8992e-01],\n",
       "                        [-8.3100e-01, -1.1192e+00, -2.7592e-01,  7.4312e-01],\n",
       "                        [ 1.3845e-03,  1.1285e+00,  1.3368e+00, -1.2128e+00],\n",
       "                        [-1.5134e+00,  5.6269e-01,  2.8417e-01,  1.8992e-01],\n",
       "                        [-8.3100e-01, -1.1192e+00, -2.7592e-01,  7.4312e-01],\n",
       "                        [ 1.3845e-03,  1.1285e+00,  1.3368e+00, -1.2128e+00],\n",
       "                        [-1.5134e+00,  5.6269e-01,  2.8417e-01,  1.8992e-01],\n",
       "                        [-8.3100e-01, -1.1192e+00, -2.7592e-01,  7.4312e-01],\n",
       "                        [ 1.3845e-03,  1.1285e+00,  1.3368e+00, -1.2128e+00],\n",
       "                        [-1.5134e+00,  5.6269e-01,  2.8417e-01,  1.8992e-01]])"
      ]
     },
     "execution_count": 22,
     "metadata": {},
     "output_type": "execute_result"
    }
   ],
   "source": [
    "t_cat = FastTreeValue.func(subside=True)(torch.cat)\n",
    "\n",
    "t_cat(trees)"
   ]
  },
  {
   "cell_type": "code",
   "execution_count": 23,
   "id": "5e9c06a6",
   "metadata": {
    "execution": {
     "iopub.execute_input": "2023-02-26T16:48:42.394791Z",
     "iopub.status.busy": "2023-02-26T16:48:42.394444Z",
     "iopub.status.idle": "2023-02-26T16:48:44.815806Z",
     "shell.execute_reply": "2023-02-26T16:48:44.815127Z"
    }
   },
   "outputs": [
    {
     "name": "stdout",
     "output_type": "stream",
     "text": [
      "29.8 µs ± 98 ns per loop (mean ± std. dev. of 7 runs, 10,000 loops each)\n"
     ]
    }
   ],
   "source": [
    "%timeit t_cat(trees)"
   ]
  },
  {
   "cell_type": "code",
   "execution_count": 24,
   "id": "a3ab5c8f",
   "metadata": {
    "execution": {
     "iopub.execute_input": "2023-02-26T16:48:44.818467Z",
     "iopub.status.busy": "2023-02-26T16:48:44.818101Z",
     "iopub.status.idle": "2023-02-26T16:48:49.558092Z",
     "shell.execute_reply": "2023-02-26T16:48:49.557335Z"
    }
   },
   "outputs": [
    {
     "name": "stdout",
     "output_type": "stream",
     "text": [
      "58.4 µs ± 73.8 ns per loop (mean ± std. dev. of 7 runs, 10,000 loops each)\n"
     ]
    }
   ],
   "source": [
    "t_split = FastTreeValue.func(rise=True)(torch.split)\n",
    "tree = FastTreeValue({\n",
    "    'obs': torch.randn(8, 4, 84, 84),\n",
    "    'action': torch.randint(0, 6, size=(8, 1,)),\n",
    "    'reward': torch.rand(8, 1),\n",
    "})\n",
    "\n",
    "%timeit t_split(tree, 1)"
   ]
  },
  {
   "cell_type": "markdown",
   "id": "31c3ec0b",
   "metadata": {},
   "source": [
    "### Performance of Tianshou Batch"
   ]
  },
  {
   "cell_type": "code",
   "execution_count": 25,
   "id": "9ead828a",
   "metadata": {
    "execution": {
     "iopub.execute_input": "2023-02-26T16:48:49.561089Z",
     "iopub.status.busy": "2023-02-26T16:48:49.560738Z",
     "iopub.status.idle": "2023-02-26T16:48:49.568698Z",
     "shell.execute_reply": "2023-02-26T16:48:49.568099Z"
    }
   },
   "outputs": [
    {
     "data": {
      "text/plain": [
       "Batch(\n",
       "    x: Batch(\n",
       "           c: tensor([[[-8.3100e-01, -1.1192e+00, -2.7592e-01,  7.4312e-01],\n",
       "                       [ 1.3845e-03,  1.1285e+00,  1.3368e+00, -1.2128e+00],\n",
       "                       [-1.5134e+00,  5.6269e-01,  2.8417e-01,  1.8992e-01]],\n",
       "              \n",
       "                      [[-8.3100e-01, -1.1192e+00, -2.7592e-01,  7.4312e-01],\n",
       "                       [ 1.3845e-03,  1.1285e+00,  1.3368e+00, -1.2128e+00],\n",
       "                       [-1.5134e+00,  5.6269e-01,  2.8417e-01,  1.8992e-01]],\n",
       "              \n",
       "                      [[-8.3100e-01, -1.1192e+00, -2.7592e-01,  7.4312e-01],\n",
       "                       [ 1.3845e-03,  1.1285e+00,  1.3368e+00, -1.2128e+00],\n",
       "                       [-1.5134e+00,  5.6269e-01,  2.8417e-01,  1.8992e-01]],\n",
       "              \n",
       "                      [[-8.3100e-01, -1.1192e+00, -2.7592e-01,  7.4312e-01],\n",
       "                       [ 1.3845e-03,  1.1285e+00,  1.3368e+00, -1.2128e+00],\n",
       "                       [-1.5134e+00,  5.6269e-01,  2.8417e-01,  1.8992e-01]],\n",
       "              \n",
       "                      [[-8.3100e-01, -1.1192e+00, -2.7592e-01,  7.4312e-01],\n",
       "                       [ 1.3845e-03,  1.1285e+00,  1.3368e+00, -1.2128e+00],\n",
       "                       [-1.5134e+00,  5.6269e-01,  2.8417e-01,  1.8992e-01]],\n",
       "              \n",
       "                      [[-8.3100e-01, -1.1192e+00, -2.7592e-01,  7.4312e-01],\n",
       "                       [ 1.3845e-03,  1.1285e+00,  1.3368e+00, -1.2128e+00],\n",
       "                       [-1.5134e+00,  5.6269e-01,  2.8417e-01,  1.8992e-01]],\n",
       "              \n",
       "                      [[-8.3100e-01, -1.1192e+00, -2.7592e-01,  7.4312e-01],\n",
       "                       [ 1.3845e-03,  1.1285e+00,  1.3368e+00, -1.2128e+00],\n",
       "                       [-1.5134e+00,  5.6269e-01,  2.8417e-01,  1.8992e-01]],\n",
       "              \n",
       "                      [[-8.3100e-01, -1.1192e+00, -2.7592e-01,  7.4312e-01],\n",
       "                       [ 1.3845e-03,  1.1285e+00,  1.3368e+00, -1.2128e+00],\n",
       "                       [-1.5134e+00,  5.6269e-01,  2.8417e-01,  1.8992e-01]]]),\n",
       "       ),\n",
       "    a: tensor([[[-1.5016,  0.2365,  0.1983],\n",
       "                [-0.5728, -2.9007, -0.1820]],\n",
       "       \n",
       "               [[-1.5016,  0.2365,  0.1983],\n",
       "                [-0.5728, -2.9007, -0.1820]],\n",
       "       \n",
       "               [[-1.5016,  0.2365,  0.1983],\n",
       "                [-0.5728, -2.9007, -0.1820]],\n",
       "       \n",
       "               [[-1.5016,  0.2365,  0.1983],\n",
       "                [-0.5728, -2.9007, -0.1820]],\n",
       "       \n",
       "               [[-1.5016,  0.2365,  0.1983],\n",
       "                [-0.5728, -2.9007, -0.1820]],\n",
       "       \n",
       "               [[-1.5016,  0.2365,  0.1983],\n",
       "                [-0.5728, -2.9007, -0.1820]],\n",
       "       \n",
       "               [[-1.5016,  0.2365,  0.1983],\n",
       "                [-0.5728, -2.9007, -0.1820]],\n",
       "       \n",
       "               [[-1.5016,  0.2365,  0.1983],\n",
       "                [-0.5728, -2.9007, -0.1820]]]),\n",
       ")"
      ]
     },
     "execution_count": 25,
     "metadata": {},
     "output_type": "execute_result"
    }
   ],
   "source": [
    "batches = [Batch(**_TREE_DATA_2) for _ in range(8)]\n",
    "\n",
    "Batch.stack(batches)"
   ]
  },
  {
   "cell_type": "code",
   "execution_count": 26,
   "id": "ec9037a3",
   "metadata": {
    "execution": {
     "iopub.execute_input": "2023-02-26T16:48:49.571208Z",
     "iopub.status.busy": "2023-02-26T16:48:49.570873Z",
     "iopub.status.idle": "2023-02-26T16:48:55.913590Z",
     "shell.execute_reply": "2023-02-26T16:48:55.912929Z"
    }
   },
   "outputs": [
    {
     "name": "stdout",
     "output_type": "stream",
     "text": [
      "78.1 µs ± 129 ns per loop (mean ± std. dev. of 7 runs, 10,000 loops each)\n"
     ]
    }
   ],
   "source": [
    "%timeit Batch.stack(batches)"
   ]
  },
  {
   "cell_type": "code",
   "execution_count": 27,
   "id": "cb8ab77e",
   "metadata": {
    "execution": {
     "iopub.execute_input": "2023-02-26T16:48:55.916728Z",
     "iopub.status.busy": "2023-02-26T16:48:55.916206Z",
     "iopub.status.idle": "2023-02-26T16:48:55.923688Z",
     "shell.execute_reply": "2023-02-26T16:48:55.923120Z"
    }
   },
   "outputs": [
    {
     "data": {
      "text/plain": [
       "Batch(\n",
       "    x: Batch(\n",
       "           c: tensor([[-8.3100e-01, -1.1192e+00, -2.7592e-01,  7.4312e-01],\n",
       "                      [ 1.3845e-03,  1.1285e+00,  1.3368e+00, -1.2128e+00],\n",
       "                      [-1.5134e+00,  5.6269e-01,  2.8417e-01,  1.8992e-01],\n",
       "                      [-8.3100e-01, -1.1192e+00, -2.7592e-01,  7.4312e-01],\n",
       "                      [ 1.3845e-03,  1.1285e+00,  1.3368e+00, -1.2128e+00],\n",
       "                      [-1.5134e+00,  5.6269e-01,  2.8417e-01,  1.8992e-01],\n",
       "                      [-8.3100e-01, -1.1192e+00, -2.7592e-01,  7.4312e-01],\n",
       "                      [ 1.3845e-03,  1.1285e+00,  1.3368e+00, -1.2128e+00],\n",
       "                      [-1.5134e+00,  5.6269e-01,  2.8417e-01,  1.8992e-01],\n",
       "                      [-8.3100e-01, -1.1192e+00, -2.7592e-01,  7.4312e-01],\n",
       "                      [ 1.3845e-03,  1.1285e+00,  1.3368e+00, -1.2128e+00],\n",
       "                      [-1.5134e+00,  5.6269e-01,  2.8417e-01,  1.8992e-01],\n",
       "                      [-8.3100e-01, -1.1192e+00, -2.7592e-01,  7.4312e-01],\n",
       "                      [ 1.3845e-03,  1.1285e+00,  1.3368e+00, -1.2128e+00],\n",
       "                      [-1.5134e+00,  5.6269e-01,  2.8417e-01,  1.8992e-01],\n",
       "                      [-8.3100e-01, -1.1192e+00, -2.7592e-01,  7.4312e-01],\n",
       "                      [ 1.3845e-03,  1.1285e+00,  1.3368e+00, -1.2128e+00],\n",
       "                      [-1.5134e+00,  5.6269e-01,  2.8417e-01,  1.8992e-01],\n",
       "                      [-8.3100e-01, -1.1192e+00, -2.7592e-01,  7.4312e-01],\n",
       "                      [ 1.3845e-03,  1.1285e+00,  1.3368e+00, -1.2128e+00],\n",
       "                      [-1.5134e+00,  5.6269e-01,  2.8417e-01,  1.8992e-01],\n",
       "                      [-8.3100e-01, -1.1192e+00, -2.7592e-01,  7.4312e-01],\n",
       "                      [ 1.3845e-03,  1.1285e+00,  1.3368e+00, -1.2128e+00],\n",
       "                      [-1.5134e+00,  5.6269e-01,  2.8417e-01,  1.8992e-01]]),\n",
       "       ),\n",
       "    a: tensor([[-1.5016,  0.2365,  0.1983],\n",
       "               [-0.5728, -2.9007, -0.1820],\n",
       "               [-1.5016,  0.2365,  0.1983],\n",
       "               [-0.5728, -2.9007, -0.1820],\n",
       "               [-1.5016,  0.2365,  0.1983],\n",
       "               [-0.5728, -2.9007, -0.1820],\n",
       "               [-1.5016,  0.2365,  0.1983],\n",
       "               [-0.5728, -2.9007, -0.1820],\n",
       "               [-1.5016,  0.2365,  0.1983],\n",
       "               [-0.5728, -2.9007, -0.1820],\n",
       "               [-1.5016,  0.2365,  0.1983],\n",
       "               [-0.5728, -2.9007, -0.1820],\n",
       "               [-1.5016,  0.2365,  0.1983],\n",
       "               [-0.5728, -2.9007, -0.1820],\n",
       "               [-1.5016,  0.2365,  0.1983],\n",
       "               [-0.5728, -2.9007, -0.1820]]),\n",
       ")"
      ]
     },
     "execution_count": 27,
     "metadata": {},
     "output_type": "execute_result"
    }
   ],
   "source": [
    "Batch.cat(batches)"
   ]
  },
  {
   "cell_type": "code",
   "execution_count": 28,
   "id": "18dfb045",
   "metadata": {
    "execution": {
     "iopub.execute_input": "2023-02-26T16:48:55.926286Z",
     "iopub.status.busy": "2023-02-26T16:48:55.925960Z",
     "iopub.status.idle": "2023-02-26T16:49:07.396704Z",
     "shell.execute_reply": "2023-02-26T16:49:07.395965Z"
    }
   },
   "outputs": [
    {
     "name": "stdout",
     "output_type": "stream",
     "text": [
      "141 µs ± 261 ns per loop (mean ± std. dev. of 7 runs, 10,000 loops each)\n"
     ]
    }
   ],
   "source": [
    "%timeit Batch.cat(batches)"
   ]
  },
  {
   "cell_type": "code",
   "execution_count": 29,
   "id": "c6688e51",
   "metadata": {
    "execution": {
     "iopub.execute_input": "2023-02-26T16:49:07.399764Z",
     "iopub.status.busy": "2023-02-26T16:49:07.399412Z",
     "iopub.status.idle": "2023-02-26T16:49:09.890933Z",
     "shell.execute_reply": "2023-02-26T16:49:09.890221Z"
    }
   },
   "outputs": [
    {
     "name": "stdout",
     "output_type": "stream",
     "text": [
      "306 µs ± 1.12 µs per loop (mean ± std. dev. of 7 runs, 1,000 loops each)\n"
     ]
    }
   ],
   "source": [
    "batch = Batch({\n",
    "    'obs': torch.randn(8, 4, 84, 84),\n",
    "    'action': torch.randint(0, 6, size=(8, 1,)),\n",
    "    'reward': torch.rand(8, 1)}\n",
    ")\n",
    "\n",
    "%timeit list(Batch.split(batch, 1, shuffle=False, merge_last=True))"
   ]
  },
  {
   "cell_type": "code",
   "execution_count": null,
   "id": "2539fbd9",
   "metadata": {},
   "outputs": [],
   "source": []
  }
 ],
 "metadata": {
  "kernelspec": {
   "display_name": "Python 3 (ipykernel)",
   "language": "python",
   "name": "python3"
  },
  "language_info": {
   "codemirror_mode": {
    "name": "ipython",
    "version": 3
   },
   "file_extension": ".py",
   "mimetype": "text/x-python",
   "name": "python",
   "nbconvert_exporter": "python",
   "pygments_lexer": "ipython3",
   "version": "3.8.16"
  }
 },
 "nbformat": 4,
 "nbformat_minor": 5
}
