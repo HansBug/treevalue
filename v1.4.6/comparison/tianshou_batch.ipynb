{
 "cells": [
  {
   "cell_type": "markdown",
   "id": "9d39d946",
   "metadata": {},
   "source": [
    "# Comparison Between TreeValue and Tianshou Batch"
   ]
  },
  {
   "cell_type": "markdown",
   "id": "3c6db2d4",
   "metadata": {},
   "source": [
    "In this section, we will take a look at the feature and performance of the [Tianshou Batch](https://github.com/thu-ml/tianshou) library, which is developed by Tsinghua Machine Learning Group."
   ]
  },
  {
   "cell_type": "markdown",
   "id": "069361b0",
   "metadata": {},
   "source": [
    "Before starting the comparison, let us define some thing."
   ]
  },
  {
   "cell_type": "code",
   "execution_count": 1,
   "id": "06fc8d26",
   "metadata": {
    "execution": {
     "iopub.execute_input": "2023-02-28T05:34:38.125670Z",
     "iopub.status.busy": "2023-02-28T05:34:38.125431Z",
     "iopub.status.idle": "2023-02-28T05:34:39.078593Z",
     "shell.execute_reply": "2023-02-28T05:34:39.077819Z"
    }
   },
   "outputs": [
    {
     "name": "stderr",
     "output_type": "stream",
     "text": [
      "/opt/hostedtoolcache/Python/3.8.16/x64/lib/python3.8/site-packages/tqdm/auto.py:22: TqdmWarning: IProgress not found. Please update jupyter and ipywidgets. See https://ipywidgets.readthedocs.io/en/stable/user_install.html\n",
      "  from .autonotebook import tqdm as notebook_tqdm\n"
     ]
    }
   ],
   "source": [
    "import torch \n",
    "\n",
    "_TREE_DATA_1 = {'a': 1, 'b': 2, 'x': {'c': 3, 'd': 4}}\n",
    "_TREE_DATA_2 = {\n",
    "    'a': torch.randn(2, 3), \n",
    "    'x': {\n",
    "        'c': torch.randn(3, 4)\n",
    "    },\n",
    "}\n",
    "_TREE_DATA_3 = {\n",
    "    'obs': torch.randn(4, 84, 84),\n",
    "    'action': torch.randint(0, 6, size=(1,)),\n",
    "    'reward': torch.rand(1),\n",
    "}"
   ]
  },
  {
   "cell_type": "markdown",
   "id": "83461b25",
   "metadata": {},
   "source": [
    "## Read and Write Operation"
   ]
  },
  {
   "cell_type": "markdown",
   "id": "067b3f73",
   "metadata": {},
   "source": [
    "Reading and writing are the two most common operations in the tree data structure based on the data model (TreeValue and Tianshou Batch both belong to this type), so this section will compare the reading and writing performance of these two libraries."
   ]
  },
  {
   "cell_type": "markdown",
   "id": "5d09a5b7",
   "metadata": {},
   "source": [
    "### TreeValue's Get and Set"
   ]
  },
  {
   "cell_type": "code",
   "execution_count": 2,
   "id": "9519c4bb",
   "metadata": {
    "execution": {
     "iopub.execute_input": "2023-02-28T05:34:39.082525Z",
     "iopub.status.busy": "2023-02-28T05:34:39.081984Z",
     "iopub.status.idle": "2023-02-28T05:34:39.369311Z",
     "shell.execute_reply": "2023-02-28T05:34:39.368539Z"
    }
   },
   "outputs": [],
   "source": [
    "from treevalue import FastTreeValue\n",
    "\n",
    "t = FastTreeValue(_TREE_DATA_2)"
   ]
  },
  {
   "cell_type": "code",
   "execution_count": 3,
   "id": "11c37677",
   "metadata": {
    "execution": {
     "iopub.execute_input": "2023-02-28T05:34:39.373066Z",
     "iopub.status.busy": "2023-02-28T05:34:39.372543Z",
     "iopub.status.idle": "2023-02-28T05:34:39.382527Z",
     "shell.execute_reply": "2023-02-28T05:34:39.381926Z"
    }
   },
   "outputs": [
    {
     "data": {
      "text/plain": [
       "<FastTreeValue 0x7f8544f58be0>\n",
       "├── 'a' --> tensor([[-0.3138,  0.1918, -0.8106],\n",
       "│                   [ 0.4303,  0.5945, -1.4270]])\n",
       "└── 'x' --> <FastTreeValue 0x7f8544f584f0>\n",
       "    └── 'c' --> tensor([[-0.2312, -1.0278,  0.8283, -1.4376],\n",
       "                        [ 0.2737,  0.2202,  0.0034, -0.3519],\n",
       "                        [ 1.2404,  0.9185,  1.9489,  0.0638]])"
      ]
     },
     "execution_count": 3,
     "metadata": {},
     "output_type": "execute_result"
    }
   ],
   "source": [
    "t"
   ]
  },
  {
   "cell_type": "code",
   "execution_count": 4,
   "id": "fd70b0b9",
   "metadata": {
    "execution": {
     "iopub.execute_input": "2023-02-28T05:34:39.385644Z",
     "iopub.status.busy": "2023-02-28T05:34:39.385091Z",
     "iopub.status.idle": "2023-02-28T05:34:39.390394Z",
     "shell.execute_reply": "2023-02-28T05:34:39.389802Z"
    }
   },
   "outputs": [
    {
     "data": {
      "text/plain": [
       "tensor([[-0.3138,  0.1918, -0.8106],\n",
       "        [ 0.4303,  0.5945, -1.4270]])"
      ]
     },
     "execution_count": 4,
     "metadata": {},
     "output_type": "execute_result"
    }
   ],
   "source": [
    "t.a"
   ]
  },
  {
   "cell_type": "code",
   "execution_count": 5,
   "id": "c18197bd",
   "metadata": {
    "execution": {
     "iopub.execute_input": "2023-02-28T05:34:39.393264Z",
     "iopub.status.busy": "2023-02-28T05:34:39.392722Z",
     "iopub.status.idle": "2023-02-28T05:34:44.800537Z",
     "shell.execute_reply": "2023-02-28T05:34:44.799652Z"
    }
   },
   "outputs": [
    {
     "name": "stdout",
     "output_type": "stream",
     "text": [
      "66.6 ns ± 0.115 ns per loop (mean ± std. dev. of 7 runs, 10,000,000 loops each)\n"
     ]
    }
   ],
   "source": [
    "%timeit t.a"
   ]
  },
  {
   "cell_type": "code",
   "execution_count": 6,
   "id": "bd52f867",
   "metadata": {
    "execution": {
     "iopub.execute_input": "2023-02-28T05:34:44.803932Z",
     "iopub.status.busy": "2023-02-28T05:34:44.803554Z",
     "iopub.status.idle": "2023-02-28T05:34:44.811130Z",
     "shell.execute_reply": "2023-02-28T05:34:44.810521Z"
    }
   },
   "outputs": [
    {
     "data": {
      "text/plain": [
       "<FastTreeValue 0x7f8544f58be0>\n",
       "├── 'a' --> tensor([[ 0.0270,  0.7709, -1.4366],\n",
       "│                   [ 0.4031, -0.6681, -0.0788]])\n",
       "└── 'x' --> <FastTreeValue 0x7f8544f584f0>\n",
       "    └── 'c' --> tensor([[-0.2312, -1.0278,  0.8283, -1.4376],\n",
       "                        [ 0.2737,  0.2202,  0.0034, -0.3519],\n",
       "                        [ 1.2404,  0.9185,  1.9489,  0.0638]])"
      ]
     },
     "execution_count": 6,
     "metadata": {},
     "output_type": "execute_result"
    }
   ],
   "source": [
    "new_value = torch.randn(2, 3)\n",
    "t.a = new_value\n",
    "\n",
    "t"
   ]
  },
  {
   "cell_type": "code",
   "execution_count": 7,
   "id": "bbe04d1c",
   "metadata": {
    "execution": {
     "iopub.execute_input": "2023-02-28T05:34:44.814304Z",
     "iopub.status.busy": "2023-02-28T05:34:44.813749Z",
     "iopub.status.idle": "2023-02-28T05:34:50.695910Z",
     "shell.execute_reply": "2023-02-28T05:34:50.695019Z"
    }
   },
   "outputs": [
    {
     "name": "stdout",
     "output_type": "stream",
     "text": [
      "72.4 ns ± 0.115 ns per loop (mean ± std. dev. of 7 runs, 10,000,000 loops each)\n"
     ]
    }
   ],
   "source": [
    "%timeit t.a = new_value"
   ]
  },
  {
   "cell_type": "markdown",
   "id": "48c49731",
   "metadata": {},
   "source": [
    "### Tianshou Batch's Get and Set"
   ]
  },
  {
   "cell_type": "code",
   "execution_count": 8,
   "id": "f1bb14c1",
   "metadata": {
    "execution": {
     "iopub.execute_input": "2023-02-28T05:34:50.699274Z",
     "iopub.status.busy": "2023-02-28T05:34:50.698784Z",
     "iopub.status.idle": "2023-02-28T05:34:51.064800Z",
     "shell.execute_reply": "2023-02-28T05:34:51.064023Z"
    }
   },
   "outputs": [],
   "source": [
    "from tianshou.data import Batch\n",
    "\n",
    "b = Batch(**_TREE_DATA_2)"
   ]
  },
  {
   "cell_type": "code",
   "execution_count": 9,
   "id": "cb0777c3",
   "metadata": {
    "execution": {
     "iopub.execute_input": "2023-02-28T05:34:51.068759Z",
     "iopub.status.busy": "2023-02-28T05:34:51.067995Z",
     "iopub.status.idle": "2023-02-28T05:34:51.075476Z",
     "shell.execute_reply": "2023-02-28T05:34:51.074875Z"
    }
   },
   "outputs": [
    {
     "data": {
      "text/plain": [
       "Batch(\n",
       "    a: tensor([[-0.3138,  0.1918, -0.8106],\n",
       "               [ 0.4303,  0.5945, -1.4270]]),\n",
       "    x: Batch(\n",
       "           c: tensor([[-0.2312, -1.0278,  0.8283, -1.4376],\n",
       "                      [ 0.2737,  0.2202,  0.0034, -0.3519],\n",
       "                      [ 1.2404,  0.9185,  1.9489,  0.0638]]),\n",
       "       ),\n",
       ")"
      ]
     },
     "execution_count": 9,
     "metadata": {},
     "output_type": "execute_result"
    }
   ],
   "source": [
    "b"
   ]
  },
  {
   "cell_type": "code",
   "execution_count": 10,
   "id": "43ef8ea3",
   "metadata": {
    "execution": {
     "iopub.execute_input": "2023-02-28T05:34:51.078443Z",
     "iopub.status.busy": "2023-02-28T05:34:51.077949Z",
     "iopub.status.idle": "2023-02-28T05:34:51.083388Z",
     "shell.execute_reply": "2023-02-28T05:34:51.082792Z"
    }
   },
   "outputs": [
    {
     "data": {
      "text/plain": [
       "tensor([[-0.3138,  0.1918, -0.8106],\n",
       "        [ 0.4303,  0.5945, -1.4270]])"
      ]
     },
     "execution_count": 10,
     "metadata": {},
     "output_type": "execute_result"
    }
   ],
   "source": [
    "b.a"
   ]
  },
  {
   "cell_type": "code",
   "execution_count": 11,
   "id": "b785ab72",
   "metadata": {
    "execution": {
     "iopub.execute_input": "2023-02-28T05:34:51.086307Z",
     "iopub.status.busy": "2023-02-28T05:34:51.085935Z",
     "iopub.status.idle": "2023-02-28T05:34:55.773222Z",
     "shell.execute_reply": "2023-02-28T05:34:55.772352Z"
    }
   },
   "outputs": [
    {
     "name": "stdout",
     "output_type": "stream",
     "text": [
      "57.7 ns ± 0.127 ns per loop (mean ± std. dev. of 7 runs, 10,000,000 loops each)\n"
     ]
    }
   ],
   "source": [
    "%timeit b.a"
   ]
  },
  {
   "cell_type": "code",
   "execution_count": 12,
   "id": "ad54dc69",
   "metadata": {
    "execution": {
     "iopub.execute_input": "2023-02-28T05:34:55.776631Z",
     "iopub.status.busy": "2023-02-28T05:34:55.776223Z",
     "iopub.status.idle": "2023-02-28T05:34:55.783602Z",
     "shell.execute_reply": "2023-02-28T05:34:55.782481Z"
    }
   },
   "outputs": [
    {
     "data": {
      "text/plain": [
       "Batch(\n",
       "    a: tensor([[ 0.7384,  1.7014,  1.7633],\n",
       "               [-1.0095,  0.5973,  1.9927]]),\n",
       "    x: Batch(\n",
       "           c: tensor([[-0.2312, -1.0278,  0.8283, -1.4376],\n",
       "                      [ 0.2737,  0.2202,  0.0034, -0.3519],\n",
       "                      [ 1.2404,  0.9185,  1.9489,  0.0638]]),\n",
       "       ),\n",
       ")"
      ]
     },
     "execution_count": 12,
     "metadata": {},
     "output_type": "execute_result"
    }
   ],
   "source": [
    "new_value = torch.randn(2, 3)\n",
    "b.a = new_value\n",
    "\n",
    "b"
   ]
  },
  {
   "cell_type": "code",
   "execution_count": 13,
   "id": "29b1d0bf",
   "metadata": {
    "execution": {
     "iopub.execute_input": "2023-02-28T05:34:55.786363Z",
     "iopub.status.busy": "2023-02-28T05:34:55.785872Z",
     "iopub.status.idle": "2023-02-28T05:34:59.795347Z",
     "shell.execute_reply": "2023-02-28T05:34:59.793924Z"
    }
   },
   "outputs": [
    {
     "name": "stdout",
     "output_type": "stream",
     "text": [
      "494 ns ± 0.51 ns per loop (mean ± std. dev. of 7 runs, 1,000,000 loops each)\n"
     ]
    }
   ],
   "source": [
    "%timeit b.a = new_value"
   ]
  },
  {
   "cell_type": "markdown",
   "id": "b61ad1d0",
   "metadata": {},
   "source": [
    "## Initialization"
   ]
  },
  {
   "cell_type": "markdown",
   "id": "d70f0d54",
   "metadata": {},
   "source": [
    "### TreeValue's Initialization"
   ]
  },
  {
   "cell_type": "code",
   "execution_count": 14,
   "id": "d32a679b",
   "metadata": {
    "execution": {
     "iopub.execute_input": "2023-02-28T05:34:59.798772Z",
     "iopub.status.busy": "2023-02-28T05:34:59.798264Z",
     "iopub.status.idle": "2023-02-28T05:35:06.514227Z",
     "shell.execute_reply": "2023-02-28T05:35:06.512842Z"
    }
   },
   "outputs": [
    {
     "name": "stdout",
     "output_type": "stream",
     "text": [
      "826 ns ± 0.491 ns per loop (mean ± std. dev. of 7 runs, 1,000,000 loops each)\n"
     ]
    }
   ],
   "source": [
    "%timeit FastTreeValue(_TREE_DATA_1)"
   ]
  },
  {
   "cell_type": "markdown",
   "id": "24f3707b",
   "metadata": {},
   "source": [
    "### Tianshou Batch's Initialization"
   ]
  },
  {
   "cell_type": "code",
   "execution_count": 15,
   "id": "ac3958df",
   "metadata": {
    "execution": {
     "iopub.execute_input": "2023-02-28T05:35:06.517259Z",
     "iopub.status.busy": "2023-02-28T05:35:06.516792Z",
     "iopub.status.idle": "2023-02-28T05:35:15.294514Z",
     "shell.execute_reply": "2023-02-28T05:35:15.293662Z"
    }
   },
   "outputs": [
    {
     "name": "stdout",
     "output_type": "stream",
     "text": [
      "10.8 µs ± 18.8 ns per loop (mean ± std. dev. of 7 runs, 100,000 loops each)\n"
     ]
    }
   ],
   "source": [
    "%timeit Batch(**_TREE_DATA_1)"
   ]
  },
  {
   "cell_type": "markdown",
   "id": "1ab82e2d",
   "metadata": {},
   "source": [
    "## Deep Copy Operation"
   ]
  },
  {
   "cell_type": "code",
   "execution_count": 16,
   "id": "210a9442",
   "metadata": {
    "execution": {
     "iopub.execute_input": "2023-02-28T05:35:15.298123Z",
     "iopub.status.busy": "2023-02-28T05:35:15.297665Z",
     "iopub.status.idle": "2023-02-28T05:35:15.301888Z",
     "shell.execute_reply": "2023-02-28T05:35:15.301265Z"
    }
   },
   "outputs": [],
   "source": [
    "import copy"
   ]
  },
  {
   "cell_type": "markdown",
   "id": "5a736274",
   "metadata": {},
   "source": [
    "### Deep Copy of TreeValue"
   ]
  },
  {
   "cell_type": "code",
   "execution_count": 17,
   "id": "f9bcadd6",
   "metadata": {
    "execution": {
     "iopub.execute_input": "2023-02-28T05:35:15.304815Z",
     "iopub.status.busy": "2023-02-28T05:35:15.304430Z",
     "iopub.status.idle": "2023-02-28T05:35:27.011316Z",
     "shell.execute_reply": "2023-02-28T05:35:27.010690Z"
    }
   },
   "outputs": [
    {
     "name": "stdout",
     "output_type": "stream",
     "text": [
      "144 µs ± 1.32 µs per loop (mean ± std. dev. of 7 runs, 10,000 loops each)\n"
     ]
    }
   ],
   "source": [
    "t3 = FastTreeValue(_TREE_DATA_3)\n",
    "%timeit copy.deepcopy(t3)"
   ]
  },
  {
   "cell_type": "markdown",
   "id": "bf8be7ea",
   "metadata": {},
   "source": [
    "### Deep Copy of Tianshou Batch"
   ]
  },
  {
   "cell_type": "code",
   "execution_count": 18,
   "id": "91998e6f",
   "metadata": {
    "execution": {
     "iopub.execute_input": "2023-02-28T05:35:27.014321Z",
     "iopub.status.busy": "2023-02-28T05:35:27.013841Z",
     "iopub.status.idle": "2023-02-28T05:35:38.677408Z",
     "shell.execute_reply": "2023-02-28T05:35:38.676790Z"
    }
   },
   "outputs": [
    {
     "name": "stdout",
     "output_type": "stream",
     "text": [
      "144 µs ± 633 ns per loop (mean ± std. dev. of 7 runs, 10,000 loops each)\n"
     ]
    }
   ],
   "source": [
    "b3 = Batch(**_TREE_DATA_3)\n",
    "%timeit copy.deepcopy(b3)"
   ]
  },
  {
   "cell_type": "markdown",
   "id": "223162fb",
   "metadata": {},
   "source": [
    "## Stack, Concat and Split Operation"
   ]
  },
  {
   "cell_type": "markdown",
   "id": "85fa4a73",
   "metadata": {},
   "source": [
    "### Performance of TreeValue"
   ]
  },
  {
   "cell_type": "code",
   "execution_count": 19,
   "id": "a0c2b697",
   "metadata": {
    "execution": {
     "iopub.execute_input": "2023-02-28T05:35:38.680395Z",
     "iopub.status.busy": "2023-02-28T05:35:38.679912Z",
     "iopub.status.idle": "2023-02-28T05:35:38.683954Z",
     "shell.execute_reply": "2023-02-28T05:35:38.682757Z"
    }
   },
   "outputs": [],
   "source": [
    "trees = [FastTreeValue(_TREE_DATA_2) for _ in range(8)]"
   ]
  },
  {
   "cell_type": "code",
   "execution_count": 20,
   "id": "017ea5a5",
   "metadata": {
    "execution": {
     "iopub.execute_input": "2023-02-28T05:35:38.686389Z",
     "iopub.status.busy": "2023-02-28T05:35:38.685965Z",
     "iopub.status.idle": "2023-02-28T05:35:38.693871Z",
     "shell.execute_reply": "2023-02-28T05:35:38.692465Z"
    }
   },
   "outputs": [
    {
     "data": {
      "text/plain": [
       "<FastTreeValue 0x7f848e210040>\n",
       "├── 'a' --> tensor([[[-0.3138,  0.1918, -0.8106],\n",
       "│                    [ 0.4303,  0.5945, -1.4270]],\n",
       "│           \n",
       "│                   [[-0.3138,  0.1918, -0.8106],\n",
       "│                    [ 0.4303,  0.5945, -1.4270]],\n",
       "│           \n",
       "│                   [[-0.3138,  0.1918, -0.8106],\n",
       "│                    [ 0.4303,  0.5945, -1.4270]],\n",
       "│           \n",
       "│                   [[-0.3138,  0.1918, -0.8106],\n",
       "│                    [ 0.4303,  0.5945, -1.4270]],\n",
       "│           \n",
       "│                   [[-0.3138,  0.1918, -0.8106],\n",
       "│                    [ 0.4303,  0.5945, -1.4270]],\n",
       "│           \n",
       "│                   [[-0.3138,  0.1918, -0.8106],\n",
       "│                    [ 0.4303,  0.5945, -1.4270]],\n",
       "│           \n",
       "│                   [[-0.3138,  0.1918, -0.8106],\n",
       "│                    [ 0.4303,  0.5945, -1.4270]],\n",
       "│           \n",
       "│                   [[-0.3138,  0.1918, -0.8106],\n",
       "│                    [ 0.4303,  0.5945, -1.4270]]])\n",
       "└── 'x' --> <FastTreeValue 0x7f8544fbadc0>\n",
       "    └── 'c' --> tensor([[[-0.2312, -1.0278,  0.8283, -1.4376],\n",
       "                         [ 0.2737,  0.2202,  0.0034, -0.3519],\n",
       "                         [ 1.2404,  0.9185,  1.9489,  0.0638]],\n",
       "                \n",
       "                        [[-0.2312, -1.0278,  0.8283, -1.4376],\n",
       "                         [ 0.2737,  0.2202,  0.0034, -0.3519],\n",
       "                         [ 1.2404,  0.9185,  1.9489,  0.0638]],\n",
       "                \n",
       "                        [[-0.2312, -1.0278,  0.8283, -1.4376],\n",
       "                         [ 0.2737,  0.2202,  0.0034, -0.3519],\n",
       "                         [ 1.2404,  0.9185,  1.9489,  0.0638]],\n",
       "                \n",
       "                        [[-0.2312, -1.0278,  0.8283, -1.4376],\n",
       "                         [ 0.2737,  0.2202,  0.0034, -0.3519],\n",
       "                         [ 1.2404,  0.9185,  1.9489,  0.0638]],\n",
       "                \n",
       "                        [[-0.2312, -1.0278,  0.8283, -1.4376],\n",
       "                         [ 0.2737,  0.2202,  0.0034, -0.3519],\n",
       "                         [ 1.2404,  0.9185,  1.9489,  0.0638]],\n",
       "                \n",
       "                        [[-0.2312, -1.0278,  0.8283, -1.4376],\n",
       "                         [ 0.2737,  0.2202,  0.0034, -0.3519],\n",
       "                         [ 1.2404,  0.9185,  1.9489,  0.0638]],\n",
       "                \n",
       "                        [[-0.2312, -1.0278,  0.8283, -1.4376],\n",
       "                         [ 0.2737,  0.2202,  0.0034, -0.3519],\n",
       "                         [ 1.2404,  0.9185,  1.9489,  0.0638]],\n",
       "                \n",
       "                        [[-0.2312, -1.0278,  0.8283, -1.4376],\n",
       "                         [ 0.2737,  0.2202,  0.0034, -0.3519],\n",
       "                         [ 1.2404,  0.9185,  1.9489,  0.0638]]])"
      ]
     },
     "execution_count": 20,
     "metadata": {},
     "output_type": "execute_result"
    }
   ],
   "source": [
    "t_stack = FastTreeValue.func(subside=True)(torch.stack)\n",
    "\n",
    "t_stack(trees)"
   ]
  },
  {
   "cell_type": "code",
   "execution_count": 21,
   "id": "f8b3f415",
   "metadata": {
    "execution": {
     "iopub.execute_input": "2023-02-28T05:35:38.696278Z",
     "iopub.status.busy": "2023-02-28T05:35:38.695821Z",
     "iopub.status.idle": "2023-02-28T05:35:41.236689Z",
     "shell.execute_reply": "2023-02-28T05:35:41.235811Z"
    }
   },
   "outputs": [
    {
     "name": "stdout",
     "output_type": "stream",
     "text": [
      "31.2 µs ± 86.1 ns per loop (mean ± std. dev. of 7 runs, 10,000 loops each)\n"
     ]
    }
   ],
   "source": [
    "%timeit t_stack(trees)"
   ]
  },
  {
   "cell_type": "code",
   "execution_count": 22,
   "id": "94b56771",
   "metadata": {
    "execution": {
     "iopub.execute_input": "2023-02-28T05:35:41.240534Z",
     "iopub.status.busy": "2023-02-28T05:35:41.239845Z",
     "iopub.status.idle": "2023-02-28T05:35:41.248356Z",
     "shell.execute_reply": "2023-02-28T05:35:41.247641Z"
    }
   },
   "outputs": [
    {
     "data": {
      "text/plain": [
       "<FastTreeValue 0x7f848e2101f0>\n",
       "├── 'a' --> tensor([[-0.3138,  0.1918, -0.8106],\n",
       "│                   [ 0.4303,  0.5945, -1.4270],\n",
       "│                   [-0.3138,  0.1918, -0.8106],\n",
       "│                   [ 0.4303,  0.5945, -1.4270],\n",
       "│                   [-0.3138,  0.1918, -0.8106],\n",
       "│                   [ 0.4303,  0.5945, -1.4270],\n",
       "│                   [-0.3138,  0.1918, -0.8106],\n",
       "│                   [ 0.4303,  0.5945, -1.4270],\n",
       "│                   [-0.3138,  0.1918, -0.8106],\n",
       "│                   [ 0.4303,  0.5945, -1.4270],\n",
       "│                   [-0.3138,  0.1918, -0.8106],\n",
       "│                   [ 0.4303,  0.5945, -1.4270],\n",
       "│                   [-0.3138,  0.1918, -0.8106],\n",
       "│                   [ 0.4303,  0.5945, -1.4270],\n",
       "│                   [-0.3138,  0.1918, -0.8106],\n",
       "│                   [ 0.4303,  0.5945, -1.4270]])\n",
       "└── 'x' --> <FastTreeValue 0x7f848e210070>\n",
       "    └── 'c' --> tensor([[-0.2312, -1.0278,  0.8283, -1.4376],\n",
       "                        [ 0.2737,  0.2202,  0.0034, -0.3519],\n",
       "                        [ 1.2404,  0.9185,  1.9489,  0.0638],\n",
       "                        [-0.2312, -1.0278,  0.8283, -1.4376],\n",
       "                        [ 0.2737,  0.2202,  0.0034, -0.3519],\n",
       "                        [ 1.2404,  0.9185,  1.9489,  0.0638],\n",
       "                        [-0.2312, -1.0278,  0.8283, -1.4376],\n",
       "                        [ 0.2737,  0.2202,  0.0034, -0.3519],\n",
       "                        [ 1.2404,  0.9185,  1.9489,  0.0638],\n",
       "                        [-0.2312, -1.0278,  0.8283, -1.4376],\n",
       "                        [ 0.2737,  0.2202,  0.0034, -0.3519],\n",
       "                        [ 1.2404,  0.9185,  1.9489,  0.0638],\n",
       "                        [-0.2312, -1.0278,  0.8283, -1.4376],\n",
       "                        [ 0.2737,  0.2202,  0.0034, -0.3519],\n",
       "                        [ 1.2404,  0.9185,  1.9489,  0.0638],\n",
       "                        [-0.2312, -1.0278,  0.8283, -1.4376],\n",
       "                        [ 0.2737,  0.2202,  0.0034, -0.3519],\n",
       "                        [ 1.2404,  0.9185,  1.9489,  0.0638],\n",
       "                        [-0.2312, -1.0278,  0.8283, -1.4376],\n",
       "                        [ 0.2737,  0.2202,  0.0034, -0.3519],\n",
       "                        [ 1.2404,  0.9185,  1.9489,  0.0638],\n",
       "                        [-0.2312, -1.0278,  0.8283, -1.4376],\n",
       "                        [ 0.2737,  0.2202,  0.0034, -0.3519],\n",
       "                        [ 1.2404,  0.9185,  1.9489,  0.0638]])"
      ]
     },
     "execution_count": 22,
     "metadata": {},
     "output_type": "execute_result"
    }
   ],
   "source": [
    "t_cat = FastTreeValue.func(subside=True)(torch.cat)\n",
    "\n",
    "t_cat(trees)"
   ]
  },
  {
   "cell_type": "code",
   "execution_count": 23,
   "id": "5e9c06a6",
   "metadata": {
    "execution": {
     "iopub.execute_input": "2023-02-28T05:35:41.251135Z",
     "iopub.status.busy": "2023-02-28T05:35:41.250720Z",
     "iopub.status.idle": "2023-02-28T05:35:43.680955Z",
     "shell.execute_reply": "2023-02-28T05:35:43.680078Z"
    }
   },
   "outputs": [
    {
     "name": "stdout",
     "output_type": "stream",
     "text": [
      "29.9 µs ± 61.3 ns per loop (mean ± std. dev. of 7 runs, 10,000 loops each)\n"
     ]
    }
   ],
   "source": [
    "%timeit t_cat(trees)"
   ]
  },
  {
   "cell_type": "code",
   "execution_count": 24,
   "id": "a3ab5c8f",
   "metadata": {
    "execution": {
     "iopub.execute_input": "2023-02-28T05:35:43.684643Z",
     "iopub.status.busy": "2023-02-28T05:35:43.684051Z",
     "iopub.status.idle": "2023-02-28T05:35:48.284440Z",
     "shell.execute_reply": "2023-02-28T05:35:48.283559Z"
    }
   },
   "outputs": [
    {
     "name": "stdout",
     "output_type": "stream",
     "text": [
      "56.6 µs ± 53.5 ns per loop (mean ± std. dev. of 7 runs, 10,000 loops each)\n"
     ]
    }
   ],
   "source": [
    "t_split = FastTreeValue.func(rise=True)(torch.split)\n",
    "tree = FastTreeValue({\n",
    "    'obs': torch.randn(8, 4, 84, 84),\n",
    "    'action': torch.randint(0, 6, size=(8, 1,)),\n",
    "    'reward': torch.rand(8, 1),\n",
    "})\n",
    "\n",
    "%timeit t_split(tree, 1)"
   ]
  },
  {
   "cell_type": "markdown",
   "id": "31c3ec0b",
   "metadata": {},
   "source": [
    "### Performance of Tianshou Batch"
   ]
  },
  {
   "cell_type": "code",
   "execution_count": 25,
   "id": "9ead828a",
   "metadata": {
    "execution": {
     "iopub.execute_input": "2023-02-28T05:35:48.287653Z",
     "iopub.status.busy": "2023-02-28T05:35:48.287265Z",
     "iopub.status.idle": "2023-02-28T05:35:48.295771Z",
     "shell.execute_reply": "2023-02-28T05:35:48.295142Z"
    }
   },
   "outputs": [
    {
     "data": {
      "text/plain": [
       "Batch(\n",
       "    x: Batch(\n",
       "           c: tensor([[[-0.2312, -1.0278,  0.8283, -1.4376],\n",
       "                       [ 0.2737,  0.2202,  0.0034, -0.3519],\n",
       "                       [ 1.2404,  0.9185,  1.9489,  0.0638]],\n",
       "              \n",
       "                      [[-0.2312, -1.0278,  0.8283, -1.4376],\n",
       "                       [ 0.2737,  0.2202,  0.0034, -0.3519],\n",
       "                       [ 1.2404,  0.9185,  1.9489,  0.0638]],\n",
       "              \n",
       "                      [[-0.2312, -1.0278,  0.8283, -1.4376],\n",
       "                       [ 0.2737,  0.2202,  0.0034, -0.3519],\n",
       "                       [ 1.2404,  0.9185,  1.9489,  0.0638]],\n",
       "              \n",
       "                      [[-0.2312, -1.0278,  0.8283, -1.4376],\n",
       "                       [ 0.2737,  0.2202,  0.0034, -0.3519],\n",
       "                       [ 1.2404,  0.9185,  1.9489,  0.0638]],\n",
       "              \n",
       "                      [[-0.2312, -1.0278,  0.8283, -1.4376],\n",
       "                       [ 0.2737,  0.2202,  0.0034, -0.3519],\n",
       "                       [ 1.2404,  0.9185,  1.9489,  0.0638]],\n",
       "              \n",
       "                      [[-0.2312, -1.0278,  0.8283, -1.4376],\n",
       "                       [ 0.2737,  0.2202,  0.0034, -0.3519],\n",
       "                       [ 1.2404,  0.9185,  1.9489,  0.0638]],\n",
       "              \n",
       "                      [[-0.2312, -1.0278,  0.8283, -1.4376],\n",
       "                       [ 0.2737,  0.2202,  0.0034, -0.3519],\n",
       "                       [ 1.2404,  0.9185,  1.9489,  0.0638]],\n",
       "              \n",
       "                      [[-0.2312, -1.0278,  0.8283, -1.4376],\n",
       "                       [ 0.2737,  0.2202,  0.0034, -0.3519],\n",
       "                       [ 1.2404,  0.9185,  1.9489,  0.0638]]]),\n",
       "       ),\n",
       "    a: tensor([[[-0.3138,  0.1918, -0.8106],\n",
       "                [ 0.4303,  0.5945, -1.4270]],\n",
       "       \n",
       "               [[-0.3138,  0.1918, -0.8106],\n",
       "                [ 0.4303,  0.5945, -1.4270]],\n",
       "       \n",
       "               [[-0.3138,  0.1918, -0.8106],\n",
       "                [ 0.4303,  0.5945, -1.4270]],\n",
       "       \n",
       "               [[-0.3138,  0.1918, -0.8106],\n",
       "                [ 0.4303,  0.5945, -1.4270]],\n",
       "       \n",
       "               [[-0.3138,  0.1918, -0.8106],\n",
       "                [ 0.4303,  0.5945, -1.4270]],\n",
       "       \n",
       "               [[-0.3138,  0.1918, -0.8106],\n",
       "                [ 0.4303,  0.5945, -1.4270]],\n",
       "       \n",
       "               [[-0.3138,  0.1918, -0.8106],\n",
       "                [ 0.4303,  0.5945, -1.4270]],\n",
       "       \n",
       "               [[-0.3138,  0.1918, -0.8106],\n",
       "                [ 0.4303,  0.5945, -1.4270]]]),\n",
       ")"
      ]
     },
     "execution_count": 25,
     "metadata": {},
     "output_type": "execute_result"
    }
   ],
   "source": [
    "batches = [Batch(**_TREE_DATA_2) for _ in range(8)]\n",
    "\n",
    "Batch.stack(batches)"
   ]
  },
  {
   "cell_type": "code",
   "execution_count": 26,
   "id": "ec9037a3",
   "metadata": {
    "execution": {
     "iopub.execute_input": "2023-02-28T05:35:48.298669Z",
     "iopub.status.busy": "2023-02-28T05:35:48.298239Z",
     "iopub.status.idle": "2023-02-28T05:35:54.537419Z",
     "shell.execute_reply": "2023-02-28T05:35:54.536646Z"
    }
   },
   "outputs": [
    {
     "name": "stdout",
     "output_type": "stream",
     "text": [
      "76.8 µs ± 88.9 ns per loop (mean ± std. dev. of 7 runs, 10,000 loops each)\n"
     ]
    }
   ],
   "source": [
    "%timeit Batch.stack(batches)"
   ]
  },
  {
   "cell_type": "code",
   "execution_count": 27,
   "id": "cb8ab77e",
   "metadata": {
    "execution": {
     "iopub.execute_input": "2023-02-28T05:35:54.540999Z",
     "iopub.status.busy": "2023-02-28T05:35:54.540554Z",
     "iopub.status.idle": "2023-02-28T05:35:54.548504Z",
     "shell.execute_reply": "2023-02-28T05:35:54.547681Z"
    }
   },
   "outputs": [
    {
     "data": {
      "text/plain": [
       "Batch(\n",
       "    x: Batch(\n",
       "           c: tensor([[-0.2312, -1.0278,  0.8283, -1.4376],\n",
       "                      [ 0.2737,  0.2202,  0.0034, -0.3519],\n",
       "                      [ 1.2404,  0.9185,  1.9489,  0.0638],\n",
       "                      [-0.2312, -1.0278,  0.8283, -1.4376],\n",
       "                      [ 0.2737,  0.2202,  0.0034, -0.3519],\n",
       "                      [ 1.2404,  0.9185,  1.9489,  0.0638],\n",
       "                      [-0.2312, -1.0278,  0.8283, -1.4376],\n",
       "                      [ 0.2737,  0.2202,  0.0034, -0.3519],\n",
       "                      [ 1.2404,  0.9185,  1.9489,  0.0638],\n",
       "                      [-0.2312, -1.0278,  0.8283, -1.4376],\n",
       "                      [ 0.2737,  0.2202,  0.0034, -0.3519],\n",
       "                      [ 1.2404,  0.9185,  1.9489,  0.0638],\n",
       "                      [-0.2312, -1.0278,  0.8283, -1.4376],\n",
       "                      [ 0.2737,  0.2202,  0.0034, -0.3519],\n",
       "                      [ 1.2404,  0.9185,  1.9489,  0.0638],\n",
       "                      [-0.2312, -1.0278,  0.8283, -1.4376],\n",
       "                      [ 0.2737,  0.2202,  0.0034, -0.3519],\n",
       "                      [ 1.2404,  0.9185,  1.9489,  0.0638],\n",
       "                      [-0.2312, -1.0278,  0.8283, -1.4376],\n",
       "                      [ 0.2737,  0.2202,  0.0034, -0.3519],\n",
       "                      [ 1.2404,  0.9185,  1.9489,  0.0638],\n",
       "                      [-0.2312, -1.0278,  0.8283, -1.4376],\n",
       "                      [ 0.2737,  0.2202,  0.0034, -0.3519],\n",
       "                      [ 1.2404,  0.9185,  1.9489,  0.0638]]),\n",
       "       ),\n",
       "    a: tensor([[-0.3138,  0.1918, -0.8106],\n",
       "               [ 0.4303,  0.5945, -1.4270],\n",
       "               [-0.3138,  0.1918, -0.8106],\n",
       "               [ 0.4303,  0.5945, -1.4270],\n",
       "               [-0.3138,  0.1918, -0.8106],\n",
       "               [ 0.4303,  0.5945, -1.4270],\n",
       "               [-0.3138,  0.1918, -0.8106],\n",
       "               [ 0.4303,  0.5945, -1.4270],\n",
       "               [-0.3138,  0.1918, -0.8106],\n",
       "               [ 0.4303,  0.5945, -1.4270],\n",
       "               [-0.3138,  0.1918, -0.8106],\n",
       "               [ 0.4303,  0.5945, -1.4270],\n",
       "               [-0.3138,  0.1918, -0.8106],\n",
       "               [ 0.4303,  0.5945, -1.4270],\n",
       "               [-0.3138,  0.1918, -0.8106],\n",
       "               [ 0.4303,  0.5945, -1.4270]]),\n",
       ")"
      ]
     },
     "execution_count": 27,
     "metadata": {},
     "output_type": "execute_result"
    }
   ],
   "source": [
    "Batch.cat(batches)"
   ]
  },
  {
   "cell_type": "code",
   "execution_count": 28,
   "id": "18dfb045",
   "metadata": {
    "execution": {
     "iopub.execute_input": "2023-02-28T05:35:54.551552Z",
     "iopub.status.busy": "2023-02-28T05:35:54.551124Z",
     "iopub.status.idle": "2023-02-28T05:36:06.294402Z",
     "shell.execute_reply": "2023-02-28T05:36:06.293548Z"
    }
   },
   "outputs": [
    {
     "name": "stdout",
     "output_type": "stream",
     "text": [
      "145 µs ± 204 ns per loop (mean ± std. dev. of 7 runs, 10,000 loops each)\n"
     ]
    }
   ],
   "source": [
    "%timeit Batch.cat(batches)"
   ]
  },
  {
   "cell_type": "code",
   "execution_count": 29,
   "id": "c6688e51",
   "metadata": {
    "execution": {
     "iopub.execute_input": "2023-02-28T05:36:06.297751Z",
     "iopub.status.busy": "2023-02-28T05:36:06.297191Z",
     "iopub.status.idle": "2023-02-28T05:36:08.955863Z",
     "shell.execute_reply": "2023-02-28T05:36:08.954955Z"
    }
   },
   "outputs": [
    {
     "name": "stdout",
     "output_type": "stream",
     "text": [
      "327 µs ± 2.26 µs per loop (mean ± std. dev. of 7 runs, 1,000 loops each)\n"
     ]
    }
   ],
   "source": [
    "batch = Batch({\n",
    "    'obs': torch.randn(8, 4, 84, 84),\n",
    "    'action': torch.randint(0, 6, size=(8, 1,)),\n",
    "    'reward': torch.rand(8, 1)}\n",
    ")\n",
    "\n",
    "%timeit list(Batch.split(batch, 1, shuffle=False, merge_last=True))"
   ]
  },
  {
   "cell_type": "code",
   "execution_count": null,
   "id": "2539fbd9",
   "metadata": {},
   "outputs": [],
   "source": []
  }
 ],
 "metadata": {
  "kernelspec": {
   "display_name": "Python 3 (ipykernel)",
   "language": "python",
   "name": "python3"
  },
  "language_info": {
   "codemirror_mode": {
    "name": "ipython",
    "version": 3
   },
   "file_extension": ".py",
   "mimetype": "text/x-python",
   "name": "python",
   "nbconvert_exporter": "python",
   "pygments_lexer": "ipython3",
   "version": "3.8.16"
  }
 },
 "nbformat": 4,
 "nbformat_minor": 5
}
