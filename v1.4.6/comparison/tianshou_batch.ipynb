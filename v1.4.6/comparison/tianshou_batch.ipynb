{
 "cells": [
  {
   "cell_type": "markdown",
   "id": "9d39d946",
   "metadata": {},
   "source": [
    "# Comparison Between TreeValue and Tianshou Batch"
   ]
  },
  {
   "cell_type": "markdown",
   "id": "3c6db2d4",
   "metadata": {},
   "source": [
    "In this section, we will take a look at the feature and performance of the [Tianshou Batch](https://github.com/thu-ml/tianshou) library, which is developed by Tsinghua Machine Learning Group."
   ]
  },
  {
   "cell_type": "markdown",
   "id": "069361b0",
   "metadata": {},
   "source": [
    "Before starting the comparison, let us define some thing."
   ]
  },
  {
   "cell_type": "code",
   "execution_count": 1,
   "id": "06fc8d26",
   "metadata": {
    "execution": {
     "iopub.execute_input": "2023-02-27T13:32:27.722876Z",
     "iopub.status.busy": "2023-02-27T13:32:27.722247Z",
     "iopub.status.idle": "2023-02-27T13:32:28.747020Z",
     "shell.execute_reply": "2023-02-27T13:32:28.746142Z"
    }
   },
   "outputs": [
    {
     "name": "stderr",
     "output_type": "stream",
     "text": [
      "/opt/hostedtoolcache/Python/3.8.16/x64/lib/python3.8/site-packages/tqdm/auto.py:22: TqdmWarning: IProgress not found. Please update jupyter and ipywidgets. See https://ipywidgets.readthedocs.io/en/stable/user_install.html\n",
      "  from .autonotebook import tqdm as notebook_tqdm\n"
     ]
    }
   ],
   "source": [
    "import torch \n",
    "\n",
    "_TREE_DATA_1 = {'a': 1, 'b': 2, 'x': {'c': 3, 'd': 4}}\n",
    "_TREE_DATA_2 = {\n",
    "    'a': torch.randn(2, 3), \n",
    "    'x': {\n",
    "        'c': torch.randn(3, 4)\n",
    "    },\n",
    "}\n",
    "_TREE_DATA_3 = {\n",
    "    'obs': torch.randn(4, 84, 84),\n",
    "    'action': torch.randint(0, 6, size=(1,)),\n",
    "    'reward': torch.rand(1),\n",
    "}"
   ]
  },
  {
   "cell_type": "markdown",
   "id": "83461b25",
   "metadata": {},
   "source": [
    "## Read and Write Operation"
   ]
  },
  {
   "cell_type": "markdown",
   "id": "067b3f73",
   "metadata": {},
   "source": [
    "Reading and writing are the two most common operations in the tree data structure based on the data model (TreeValue and Tianshou Batch both belong to this type), so this section will compare the reading and writing performance of these two libraries."
   ]
  },
  {
   "cell_type": "markdown",
   "id": "5d09a5b7",
   "metadata": {},
   "source": [
    "### TreeValue's Get and Set"
   ]
  },
  {
   "cell_type": "code",
   "execution_count": 2,
   "id": "9519c4bb",
   "metadata": {
    "execution": {
     "iopub.execute_input": "2023-02-27T13:32:28.751115Z",
     "iopub.status.busy": "2023-02-27T13:32:28.750596Z",
     "iopub.status.idle": "2023-02-27T13:32:29.054116Z",
     "shell.execute_reply": "2023-02-27T13:32:29.053301Z"
    }
   },
   "outputs": [],
   "source": [
    "from treevalue import FastTreeValue\n",
    "\n",
    "t = FastTreeValue(_TREE_DATA_2)"
   ]
  },
  {
   "cell_type": "code",
   "execution_count": 3,
   "id": "11c37677",
   "metadata": {
    "execution": {
     "iopub.execute_input": "2023-02-27T13:32:29.057650Z",
     "iopub.status.busy": "2023-02-27T13:32:29.057112Z",
     "iopub.status.idle": "2023-02-27T13:32:29.067386Z",
     "shell.execute_reply": "2023-02-27T13:32:29.066732Z"
    }
   },
   "outputs": [
    {
     "data": {
      "text/plain": [
       "<FastTreeValue 0x7f4bacbf9fa0>\n",
       "├── 'a' --> tensor([[ 0.4342, -0.1405, -2.2848],\n",
       "│                   [-0.5769,  0.6934, -0.6881]])\n",
       "└── 'x' --> <FastTreeValue 0x7f4bacc0d160>\n",
       "    └── 'c' --> tensor([[ 0.4649, -0.1715,  0.3257, -0.0145],\n",
       "                        [-0.3347, -1.2013,  0.8388,  0.8044],\n",
       "                        [-0.7819, -1.8453,  0.7127,  1.2772]])"
      ]
     },
     "execution_count": 3,
     "metadata": {},
     "output_type": "execute_result"
    }
   ],
   "source": [
    "t"
   ]
  },
  {
   "cell_type": "code",
   "execution_count": 4,
   "id": "fd70b0b9",
   "metadata": {
    "execution": {
     "iopub.execute_input": "2023-02-27T13:32:29.070212Z",
     "iopub.status.busy": "2023-02-27T13:32:29.069803Z",
     "iopub.status.idle": "2023-02-27T13:32:29.076164Z",
     "shell.execute_reply": "2023-02-27T13:32:29.075538Z"
    }
   },
   "outputs": [
    {
     "data": {
      "text/plain": [
       "tensor([[ 0.4342, -0.1405, -2.2848],\n",
       "        [-0.5769,  0.6934, -0.6881]])"
      ]
     },
     "execution_count": 4,
     "metadata": {},
     "output_type": "execute_result"
    }
   ],
   "source": [
    "t.a"
   ]
  },
  {
   "cell_type": "code",
   "execution_count": 5,
   "id": "c18197bd",
   "metadata": {
    "execution": {
     "iopub.execute_input": "2023-02-27T13:32:29.079227Z",
     "iopub.status.busy": "2023-02-27T13:32:29.078808Z",
     "iopub.status.idle": "2023-02-27T13:32:34.273384Z",
     "shell.execute_reply": "2023-02-27T13:32:34.272462Z"
    }
   },
   "outputs": [
    {
     "name": "stdout",
     "output_type": "stream",
     "text": [
      "64 ns ± 0.019 ns per loop (mean ± std. dev. of 7 runs, 10,000,000 loops each)\n"
     ]
    }
   ],
   "source": [
    "%timeit t.a"
   ]
  },
  {
   "cell_type": "code",
   "execution_count": 6,
   "id": "bd52f867",
   "metadata": {
    "execution": {
     "iopub.execute_input": "2023-02-27T13:32:34.276597Z",
     "iopub.status.busy": "2023-02-27T13:32:34.276167Z",
     "iopub.status.idle": "2023-02-27T13:32:34.283540Z",
     "shell.execute_reply": "2023-02-27T13:32:34.282819Z"
    }
   },
   "outputs": [
    {
     "data": {
      "text/plain": [
       "<FastTreeValue 0x7f4bacbf9fa0>\n",
       "├── 'a' --> tensor([[ 0.2424,  0.0303,  0.2222],\n",
       "│                   [ 0.4765,  0.7179, -1.3499]])\n",
       "└── 'x' --> <FastTreeValue 0x7f4bacc0d160>\n",
       "    └── 'c' --> tensor([[ 0.4649, -0.1715,  0.3257, -0.0145],\n",
       "                        [-0.3347, -1.2013,  0.8388,  0.8044],\n",
       "                        [-0.7819, -1.8453,  0.7127,  1.2772]])"
      ]
     },
     "execution_count": 6,
     "metadata": {},
     "output_type": "execute_result"
    }
   ],
   "source": [
    "new_value = torch.randn(2, 3)\n",
    "t.a = new_value\n",
    "\n",
    "t"
   ]
  },
  {
   "cell_type": "code",
   "execution_count": 7,
   "id": "bbe04d1c",
   "metadata": {
    "execution": {
     "iopub.execute_input": "2023-02-27T13:32:34.286591Z",
     "iopub.status.busy": "2023-02-27T13:32:34.286029Z",
     "iopub.status.idle": "2023-02-27T13:32:39.834295Z",
     "shell.execute_reply": "2023-02-27T13:32:39.833367Z"
    }
   },
   "outputs": [
    {
     "name": "stdout",
     "output_type": "stream",
     "text": [
      "68.3 ns ± 0.0912 ns per loop (mean ± std. dev. of 7 runs, 10,000,000 loops each)\n"
     ]
    }
   ],
   "source": [
    "%timeit t.a = new_value"
   ]
  },
  {
   "cell_type": "markdown",
   "id": "48c49731",
   "metadata": {},
   "source": [
    "### Tianshou Batch's Get and Set"
   ]
  },
  {
   "cell_type": "code",
   "execution_count": 8,
   "id": "f1bb14c1",
   "metadata": {
    "execution": {
     "iopub.execute_input": "2023-02-27T13:32:39.837497Z",
     "iopub.status.busy": "2023-02-27T13:32:39.837077Z",
     "iopub.status.idle": "2023-02-27T13:32:40.221004Z",
     "shell.execute_reply": "2023-02-27T13:32:40.220163Z"
    }
   },
   "outputs": [],
   "source": [
    "from tianshou.data import Batch\n",
    "\n",
    "b = Batch(**_TREE_DATA_2)"
   ]
  },
  {
   "cell_type": "code",
   "execution_count": 9,
   "id": "cb0777c3",
   "metadata": {
    "execution": {
     "iopub.execute_input": "2023-02-27T13:32:40.225735Z",
     "iopub.status.busy": "2023-02-27T13:32:40.224305Z",
     "iopub.status.idle": "2023-02-27T13:32:40.232243Z",
     "shell.execute_reply": "2023-02-27T13:32:40.231525Z"
    }
   },
   "outputs": [
    {
     "data": {
      "text/plain": [
       "Batch(\n",
       "    a: tensor([[ 0.4342, -0.1405, -2.2848],\n",
       "               [-0.5769,  0.6934, -0.6881]]),\n",
       "    x: Batch(\n",
       "           c: tensor([[ 0.4649, -0.1715,  0.3257, -0.0145],\n",
       "                      [-0.3347, -1.2013,  0.8388,  0.8044],\n",
       "                      [-0.7819, -1.8453,  0.7127,  1.2772]]),\n",
       "       ),\n",
       ")"
      ]
     },
     "execution_count": 9,
     "metadata": {},
     "output_type": "execute_result"
    }
   ],
   "source": [
    "b"
   ]
  },
  {
   "cell_type": "code",
   "execution_count": 10,
   "id": "43ef8ea3",
   "metadata": {
    "execution": {
     "iopub.execute_input": "2023-02-27T13:32:40.235441Z",
     "iopub.status.busy": "2023-02-27T13:32:40.234975Z",
     "iopub.status.idle": "2023-02-27T13:32:40.240748Z",
     "shell.execute_reply": "2023-02-27T13:32:40.240144Z"
    }
   },
   "outputs": [
    {
     "data": {
      "text/plain": [
       "tensor([[ 0.4342, -0.1405, -2.2848],\n",
       "        [-0.5769,  0.6934, -0.6881]])"
      ]
     },
     "execution_count": 10,
     "metadata": {},
     "output_type": "execute_result"
    }
   ],
   "source": [
    "b.a"
   ]
  },
  {
   "cell_type": "code",
   "execution_count": 11,
   "id": "b785ab72",
   "metadata": {
    "execution": {
     "iopub.execute_input": "2023-02-27T13:32:40.243616Z",
     "iopub.status.busy": "2023-02-27T13:32:40.243256Z",
     "iopub.status.idle": "2023-02-27T13:32:45.041748Z",
     "shell.execute_reply": "2023-02-27T13:32:45.040841Z"
    }
   },
   "outputs": [
    {
     "name": "stdout",
     "output_type": "stream",
     "text": [
      "58.9 ns ± 0.0464 ns per loop (mean ± std. dev. of 7 runs, 10,000,000 loops each)\n"
     ]
    }
   ],
   "source": [
    "%timeit b.a"
   ]
  },
  {
   "cell_type": "code",
   "execution_count": 12,
   "id": "ad54dc69",
   "metadata": {
    "execution": {
     "iopub.execute_input": "2023-02-27T13:32:45.045139Z",
     "iopub.status.busy": "2023-02-27T13:32:45.044729Z",
     "iopub.status.idle": "2023-02-27T13:32:45.052212Z",
     "shell.execute_reply": "2023-02-27T13:32:45.051602Z"
    }
   },
   "outputs": [
    {
     "data": {
      "text/plain": [
       "Batch(\n",
       "    a: tensor([[-0.7305, -0.2100, -1.6179],\n",
       "               [-0.1487,  1.1739,  0.3374]]),\n",
       "    x: Batch(\n",
       "           c: tensor([[ 0.4649, -0.1715,  0.3257, -0.0145],\n",
       "                      [-0.3347, -1.2013,  0.8388,  0.8044],\n",
       "                      [-0.7819, -1.8453,  0.7127,  1.2772]]),\n",
       "       ),\n",
       ")"
      ]
     },
     "execution_count": 12,
     "metadata": {},
     "output_type": "execute_result"
    }
   ],
   "source": [
    "new_value = torch.randn(2, 3)\n",
    "b.a = new_value\n",
    "\n",
    "b"
   ]
  },
  {
   "cell_type": "code",
   "execution_count": 13,
   "id": "29b1d0bf",
   "metadata": {
    "execution": {
     "iopub.execute_input": "2023-02-27T13:32:45.054859Z",
     "iopub.status.busy": "2023-02-27T13:32:45.054474Z",
     "iopub.status.idle": "2023-02-27T13:32:48.653831Z",
     "shell.execute_reply": "2023-02-27T13:32:48.652941Z"
    }
   },
   "outputs": [
    {
     "name": "stdout",
     "output_type": "stream",
     "text": [
      "443 ns ± 0.227 ns per loop (mean ± std. dev. of 7 runs, 1,000,000 loops each)\n"
     ]
    }
   ],
   "source": [
    "%timeit b.a = new_value"
   ]
  },
  {
   "cell_type": "markdown",
   "id": "b61ad1d0",
   "metadata": {},
   "source": [
    "## Initialization"
   ]
  },
  {
   "cell_type": "markdown",
   "id": "d70f0d54",
   "metadata": {},
   "source": [
    "### TreeValue's Initialization"
   ]
  },
  {
   "cell_type": "code",
   "execution_count": 14,
   "id": "d32a679b",
   "metadata": {
    "execution": {
     "iopub.execute_input": "2023-02-27T13:32:48.657170Z",
     "iopub.status.busy": "2023-02-27T13:32:48.656591Z",
     "iopub.status.idle": "2023-02-27T13:32:55.280125Z",
     "shell.execute_reply": "2023-02-27T13:32:55.279237Z"
    }
   },
   "outputs": [
    {
     "name": "stdout",
     "output_type": "stream",
     "text": [
      "816 ns ± 2.5 ns per loop (mean ± std. dev. of 7 runs, 1,000,000 loops each)\n"
     ]
    }
   ],
   "source": [
    "%timeit FastTreeValue(_TREE_DATA_1)"
   ]
  },
  {
   "cell_type": "markdown",
   "id": "24f3707b",
   "metadata": {},
   "source": [
    "### Tianshou Batch's Initialization"
   ]
  },
  {
   "cell_type": "code",
   "execution_count": 15,
   "id": "ac3958df",
   "metadata": {
    "execution": {
     "iopub.execute_input": "2023-02-27T13:32:55.283546Z",
     "iopub.status.busy": "2023-02-27T13:32:55.283132Z",
     "iopub.status.idle": "2023-02-27T13:33:03.134014Z",
     "shell.execute_reply": "2023-02-27T13:33:03.133059Z"
    }
   },
   "outputs": [
    {
     "name": "stdout",
     "output_type": "stream",
     "text": [
      "9.67 µs ± 22.1 ns per loop (mean ± std. dev. of 7 runs, 100,000 loops each)\n"
     ]
    }
   ],
   "source": [
    "%timeit Batch(**_TREE_DATA_1)"
   ]
  },
  {
   "cell_type": "markdown",
   "id": "1ab82e2d",
   "metadata": {},
   "source": [
    "## Deep Copy Operation"
   ]
  },
  {
   "cell_type": "code",
   "execution_count": 16,
   "id": "210a9442",
   "metadata": {
    "execution": {
     "iopub.execute_input": "2023-02-27T13:33:03.137315Z",
     "iopub.status.busy": "2023-02-27T13:33:03.136892Z",
     "iopub.status.idle": "2023-02-27T13:33:03.141483Z",
     "shell.execute_reply": "2023-02-27T13:33:03.140876Z"
    }
   },
   "outputs": [],
   "source": [
    "import copy"
   ]
  },
  {
   "cell_type": "markdown",
   "id": "5a736274",
   "metadata": {},
   "source": [
    "### Deep Copy of TreeValue"
   ]
  },
  {
   "cell_type": "code",
   "execution_count": 17,
   "id": "f9bcadd6",
   "metadata": {
    "execution": {
     "iopub.execute_input": "2023-02-27T13:33:03.145094Z",
     "iopub.status.busy": "2023-02-27T13:33:03.144721Z",
     "iopub.status.idle": "2023-02-27T13:33:14.553286Z",
     "shell.execute_reply": "2023-02-27T13:33:14.552686Z"
    }
   },
   "outputs": [
    {
     "name": "stdout",
     "output_type": "stream",
     "text": [
      "140 µs ± 6.16 µs per loop (mean ± std. dev. of 7 runs, 10,000 loops each)\n"
     ]
    }
   ],
   "source": [
    "t3 = FastTreeValue(_TREE_DATA_3)\n",
    "%timeit copy.deepcopy(t3)"
   ]
  },
  {
   "cell_type": "markdown",
   "id": "bf8be7ea",
   "metadata": {},
   "source": [
    "### Deep Copy of Tianshou Batch"
   ]
  },
  {
   "cell_type": "code",
   "execution_count": 18,
   "id": "91998e6f",
   "metadata": {
    "execution": {
     "iopub.execute_input": "2023-02-27T13:33:14.556352Z",
     "iopub.status.busy": "2023-02-27T13:33:14.555964Z",
     "iopub.status.idle": "2023-02-27T13:33:25.646493Z",
     "shell.execute_reply": "2023-02-27T13:33:25.645888Z"
    }
   },
   "outputs": [
    {
     "name": "stdout",
     "output_type": "stream",
     "text": [
      "136 µs ± 7.67 µs per loop (mean ± std. dev. of 7 runs, 10,000 loops each)\n"
     ]
    }
   ],
   "source": [
    "b3 = Batch(**_TREE_DATA_3)\n",
    "%timeit copy.deepcopy(b3)"
   ]
  },
  {
   "cell_type": "markdown",
   "id": "223162fb",
   "metadata": {},
   "source": [
    "## Stack, Concat and Split Operation"
   ]
  },
  {
   "cell_type": "markdown",
   "id": "85fa4a73",
   "metadata": {},
   "source": [
    "### Performance of TreeValue"
   ]
  },
  {
   "cell_type": "code",
   "execution_count": 19,
   "id": "a0c2b697",
   "metadata": {
    "execution": {
     "iopub.execute_input": "2023-02-27T13:33:25.649680Z",
     "iopub.status.busy": "2023-02-27T13:33:25.649285Z",
     "iopub.status.idle": "2023-02-27T13:33:25.652483Z",
     "shell.execute_reply": "2023-02-27T13:33:25.651956Z"
    }
   },
   "outputs": [],
   "source": [
    "trees = [FastTreeValue(_TREE_DATA_2) for _ in range(8)]"
   ]
  },
  {
   "cell_type": "code",
   "execution_count": 20,
   "id": "017ea5a5",
   "metadata": {
    "execution": {
     "iopub.execute_input": "2023-02-27T13:33:25.655085Z",
     "iopub.status.busy": "2023-02-27T13:33:25.654706Z",
     "iopub.status.idle": "2023-02-27T13:33:25.661451Z",
     "shell.execute_reply": "2023-02-27T13:33:25.660918Z"
    }
   },
   "outputs": [
    {
     "data": {
      "text/plain": [
       "<FastTreeValue 0x7f4afdacf880>\n",
       "├── 'a' --> tensor([[[ 0.4342, -0.1405, -2.2848],\n",
       "│                    [-0.5769,  0.6934, -0.6881]],\n",
       "│           \n",
       "│                   [[ 0.4342, -0.1405, -2.2848],\n",
       "│                    [-0.5769,  0.6934, -0.6881]],\n",
       "│           \n",
       "│                   [[ 0.4342, -0.1405, -2.2848],\n",
       "│                    [-0.5769,  0.6934, -0.6881]],\n",
       "│           \n",
       "│                   [[ 0.4342, -0.1405, -2.2848],\n",
       "│                    [-0.5769,  0.6934, -0.6881]],\n",
       "│           \n",
       "│                   [[ 0.4342, -0.1405, -2.2848],\n",
       "│                    [-0.5769,  0.6934, -0.6881]],\n",
       "│           \n",
       "│                   [[ 0.4342, -0.1405, -2.2848],\n",
       "│                    [-0.5769,  0.6934, -0.6881]],\n",
       "│           \n",
       "│                   [[ 0.4342, -0.1405, -2.2848],\n",
       "│                    [-0.5769,  0.6934, -0.6881]],\n",
       "│           \n",
       "│                   [[ 0.4342, -0.1405, -2.2848],\n",
       "│                    [-0.5769,  0.6934, -0.6881]]])\n",
       "└── 'x' --> <FastTreeValue 0x7f4afdacf280>\n",
       "    └── 'c' --> tensor([[[ 0.4649, -0.1715,  0.3257, -0.0145],\n",
       "                         [-0.3347, -1.2013,  0.8388,  0.8044],\n",
       "                         [-0.7819, -1.8453,  0.7127,  1.2772]],\n",
       "                \n",
       "                        [[ 0.4649, -0.1715,  0.3257, -0.0145],\n",
       "                         [-0.3347, -1.2013,  0.8388,  0.8044],\n",
       "                         [-0.7819, -1.8453,  0.7127,  1.2772]],\n",
       "                \n",
       "                        [[ 0.4649, -0.1715,  0.3257, -0.0145],\n",
       "                         [-0.3347, -1.2013,  0.8388,  0.8044],\n",
       "                         [-0.7819, -1.8453,  0.7127,  1.2772]],\n",
       "                \n",
       "                        [[ 0.4649, -0.1715,  0.3257, -0.0145],\n",
       "                         [-0.3347, -1.2013,  0.8388,  0.8044],\n",
       "                         [-0.7819, -1.8453,  0.7127,  1.2772]],\n",
       "                \n",
       "                        [[ 0.4649, -0.1715,  0.3257, -0.0145],\n",
       "                         [-0.3347, -1.2013,  0.8388,  0.8044],\n",
       "                         [-0.7819, -1.8453,  0.7127,  1.2772]],\n",
       "                \n",
       "                        [[ 0.4649, -0.1715,  0.3257, -0.0145],\n",
       "                         [-0.3347, -1.2013,  0.8388,  0.8044],\n",
       "                         [-0.7819, -1.8453,  0.7127,  1.2772]],\n",
       "                \n",
       "                        [[ 0.4649, -0.1715,  0.3257, -0.0145],\n",
       "                         [-0.3347, -1.2013,  0.8388,  0.8044],\n",
       "                         [-0.7819, -1.8453,  0.7127,  1.2772]],\n",
       "                \n",
       "                        [[ 0.4649, -0.1715,  0.3257, -0.0145],\n",
       "                         [-0.3347, -1.2013,  0.8388,  0.8044],\n",
       "                         [-0.7819, -1.8453,  0.7127,  1.2772]]])"
      ]
     },
     "execution_count": 20,
     "metadata": {},
     "output_type": "execute_result"
    }
   ],
   "source": [
    "t_stack = FastTreeValue.func(subside=True)(torch.stack)\n",
    "\n",
    "t_stack(trees)"
   ]
  },
  {
   "cell_type": "code",
   "execution_count": 21,
   "id": "f8b3f415",
   "metadata": {
    "execution": {
     "iopub.execute_input": "2023-02-27T13:33:25.664128Z",
     "iopub.status.busy": "2023-02-27T13:33:25.663758Z",
     "iopub.status.idle": "2023-02-27T13:33:28.010506Z",
     "shell.execute_reply": "2023-02-27T13:33:28.009597Z"
    }
   },
   "outputs": [
    {
     "name": "stdout",
     "output_type": "stream",
     "text": [
      "28.8 µs ± 48.5 ns per loop (mean ± std. dev. of 7 runs, 10,000 loops each)\n"
     ]
    }
   ],
   "source": [
    "%timeit t_stack(trees)"
   ]
  },
  {
   "cell_type": "code",
   "execution_count": 22,
   "id": "94b56771",
   "metadata": {
    "execution": {
     "iopub.execute_input": "2023-02-27T13:33:28.013997Z",
     "iopub.status.busy": "2023-02-27T13:33:28.013387Z",
     "iopub.status.idle": "2023-02-27T13:33:28.021833Z",
     "shell.execute_reply": "2023-02-27T13:33:28.021179Z"
    }
   },
   "outputs": [
    {
     "data": {
      "text/plain": [
       "<FastTreeValue 0x7f4b08900eb0>\n",
       "├── 'a' --> tensor([[ 0.4342, -0.1405, -2.2848],\n",
       "│                   [-0.5769,  0.6934, -0.6881],\n",
       "│                   [ 0.4342, -0.1405, -2.2848],\n",
       "│                   [-0.5769,  0.6934, -0.6881],\n",
       "│                   [ 0.4342, -0.1405, -2.2848],\n",
       "│                   [-0.5769,  0.6934, -0.6881],\n",
       "│                   [ 0.4342, -0.1405, -2.2848],\n",
       "│                   [-0.5769,  0.6934, -0.6881],\n",
       "│                   [ 0.4342, -0.1405, -2.2848],\n",
       "│                   [-0.5769,  0.6934, -0.6881],\n",
       "│                   [ 0.4342, -0.1405, -2.2848],\n",
       "│                   [-0.5769,  0.6934, -0.6881],\n",
       "│                   [ 0.4342, -0.1405, -2.2848],\n",
       "│                   [-0.5769,  0.6934, -0.6881],\n",
       "│                   [ 0.4342, -0.1405, -2.2848],\n",
       "│                   [-0.5769,  0.6934, -0.6881]])\n",
       "└── 'x' --> <FastTreeValue 0x7f4b0856afd0>\n",
       "    └── 'c' --> tensor([[ 0.4649, -0.1715,  0.3257, -0.0145],\n",
       "                        [-0.3347, -1.2013,  0.8388,  0.8044],\n",
       "                        [-0.7819, -1.8453,  0.7127,  1.2772],\n",
       "                        [ 0.4649, -0.1715,  0.3257, -0.0145],\n",
       "                        [-0.3347, -1.2013,  0.8388,  0.8044],\n",
       "                        [-0.7819, -1.8453,  0.7127,  1.2772],\n",
       "                        [ 0.4649, -0.1715,  0.3257, -0.0145],\n",
       "                        [-0.3347, -1.2013,  0.8388,  0.8044],\n",
       "                        [-0.7819, -1.8453,  0.7127,  1.2772],\n",
       "                        [ 0.4649, -0.1715,  0.3257, -0.0145],\n",
       "                        [-0.3347, -1.2013,  0.8388,  0.8044],\n",
       "                        [-0.7819, -1.8453,  0.7127,  1.2772],\n",
       "                        [ 0.4649, -0.1715,  0.3257, -0.0145],\n",
       "                        [-0.3347, -1.2013,  0.8388,  0.8044],\n",
       "                        [-0.7819, -1.8453,  0.7127,  1.2772],\n",
       "                        [ 0.4649, -0.1715,  0.3257, -0.0145],\n",
       "                        [-0.3347, -1.2013,  0.8388,  0.8044],\n",
       "                        [-0.7819, -1.8453,  0.7127,  1.2772],\n",
       "                        [ 0.4649, -0.1715,  0.3257, -0.0145],\n",
       "                        [-0.3347, -1.2013,  0.8388,  0.8044],\n",
       "                        [-0.7819, -1.8453,  0.7127,  1.2772],\n",
       "                        [ 0.4649, -0.1715,  0.3257, -0.0145],\n",
       "                        [-0.3347, -1.2013,  0.8388,  0.8044],\n",
       "                        [-0.7819, -1.8453,  0.7127,  1.2772]])"
      ]
     },
     "execution_count": 22,
     "metadata": {},
     "output_type": "execute_result"
    }
   ],
   "source": [
    "t_cat = FastTreeValue.func(subside=True)(torch.cat)\n",
    "\n",
    "t_cat(trees)"
   ]
  },
  {
   "cell_type": "code",
   "execution_count": 23,
   "id": "5e9c06a6",
   "metadata": {
    "execution": {
     "iopub.execute_input": "2023-02-27T13:33:28.025186Z",
     "iopub.status.busy": "2023-02-27T13:33:28.024634Z",
     "iopub.status.idle": "2023-02-27T13:33:30.496196Z",
     "shell.execute_reply": "2023-02-27T13:33:30.495369Z"
    }
   },
   "outputs": [
    {
     "name": "stdout",
     "output_type": "stream",
     "text": [
      "30.4 µs ± 50.5 ns per loop (mean ± std. dev. of 7 runs, 10,000 loops each)\n"
     ]
    }
   ],
   "source": [
    "%timeit t_cat(trees)"
   ]
  },
  {
   "cell_type": "code",
   "execution_count": 24,
   "id": "a3ab5c8f",
   "metadata": {
    "execution": {
     "iopub.execute_input": "2023-02-27T13:33:30.499752Z",
     "iopub.status.busy": "2023-02-27T13:33:30.499171Z",
     "iopub.status.idle": "2023-02-27T13:33:35.044559Z",
     "shell.execute_reply": "2023-02-27T13:33:35.043703Z"
    }
   },
   "outputs": [
    {
     "name": "stdout",
     "output_type": "stream",
     "text": [
      "55.8 µs ± 66.5 ns per loop (mean ± std. dev. of 7 runs, 10,000 loops each)\n"
     ]
    }
   ],
   "source": [
    "t_split = FastTreeValue.func(rise=True)(torch.split)\n",
    "tree = FastTreeValue({\n",
    "    'obs': torch.randn(8, 4, 84, 84),\n",
    "    'action': torch.randint(0, 6, size=(8, 1,)),\n",
    "    'reward': torch.rand(8, 1),\n",
    "})\n",
    "\n",
    "%timeit t_split(tree, 1)"
   ]
  },
  {
   "cell_type": "markdown",
   "id": "31c3ec0b",
   "metadata": {},
   "source": [
    "### Performance of Tianshou Batch"
   ]
  },
  {
   "cell_type": "code",
   "execution_count": 25,
   "id": "9ead828a",
   "metadata": {
    "execution": {
     "iopub.execute_input": "2023-02-27T13:33:35.048424Z",
     "iopub.status.busy": "2023-02-27T13:33:35.047957Z",
     "iopub.status.idle": "2023-02-27T13:33:35.058157Z",
     "shell.execute_reply": "2023-02-27T13:33:35.057429Z"
    }
   },
   "outputs": [
    {
     "data": {
      "text/plain": [
       "Batch(\n",
       "    a: tensor([[[ 0.4342, -0.1405, -2.2848],\n",
       "                [-0.5769,  0.6934, -0.6881]],\n",
       "       \n",
       "               [[ 0.4342, -0.1405, -2.2848],\n",
       "                [-0.5769,  0.6934, -0.6881]],\n",
       "       \n",
       "               [[ 0.4342, -0.1405, -2.2848],\n",
       "                [-0.5769,  0.6934, -0.6881]],\n",
       "       \n",
       "               [[ 0.4342, -0.1405, -2.2848],\n",
       "                [-0.5769,  0.6934, -0.6881]],\n",
       "       \n",
       "               [[ 0.4342, -0.1405, -2.2848],\n",
       "                [-0.5769,  0.6934, -0.6881]],\n",
       "       \n",
       "               [[ 0.4342, -0.1405, -2.2848],\n",
       "                [-0.5769,  0.6934, -0.6881]],\n",
       "       \n",
       "               [[ 0.4342, -0.1405, -2.2848],\n",
       "                [-0.5769,  0.6934, -0.6881]],\n",
       "       \n",
       "               [[ 0.4342, -0.1405, -2.2848],\n",
       "                [-0.5769,  0.6934, -0.6881]]]),\n",
       "    x: Batch(\n",
       "           c: tensor([[[ 0.4649, -0.1715,  0.3257, -0.0145],\n",
       "                       [-0.3347, -1.2013,  0.8388,  0.8044],\n",
       "                       [-0.7819, -1.8453,  0.7127,  1.2772]],\n",
       "              \n",
       "                      [[ 0.4649, -0.1715,  0.3257, -0.0145],\n",
       "                       [-0.3347, -1.2013,  0.8388,  0.8044],\n",
       "                       [-0.7819, -1.8453,  0.7127,  1.2772]],\n",
       "              \n",
       "                      [[ 0.4649, -0.1715,  0.3257, -0.0145],\n",
       "                       [-0.3347, -1.2013,  0.8388,  0.8044],\n",
       "                       [-0.7819, -1.8453,  0.7127,  1.2772]],\n",
       "              \n",
       "                      [[ 0.4649, -0.1715,  0.3257, -0.0145],\n",
       "                       [-0.3347, -1.2013,  0.8388,  0.8044],\n",
       "                       [-0.7819, -1.8453,  0.7127,  1.2772]],\n",
       "              \n",
       "                      [[ 0.4649, -0.1715,  0.3257, -0.0145],\n",
       "                       [-0.3347, -1.2013,  0.8388,  0.8044],\n",
       "                       [-0.7819, -1.8453,  0.7127,  1.2772]],\n",
       "              \n",
       "                      [[ 0.4649, -0.1715,  0.3257, -0.0145],\n",
       "                       [-0.3347, -1.2013,  0.8388,  0.8044],\n",
       "                       [-0.7819, -1.8453,  0.7127,  1.2772]],\n",
       "              \n",
       "                      [[ 0.4649, -0.1715,  0.3257, -0.0145],\n",
       "                       [-0.3347, -1.2013,  0.8388,  0.8044],\n",
       "                       [-0.7819, -1.8453,  0.7127,  1.2772]],\n",
       "              \n",
       "                      [[ 0.4649, -0.1715,  0.3257, -0.0145],\n",
       "                       [-0.3347, -1.2013,  0.8388,  0.8044],\n",
       "                       [-0.7819, -1.8453,  0.7127,  1.2772]]]),\n",
       "       ),\n",
       ")"
      ]
     },
     "execution_count": 25,
     "metadata": {},
     "output_type": "execute_result"
    }
   ],
   "source": [
    "batches = [Batch(**_TREE_DATA_2) for _ in range(8)]\n",
    "\n",
    "Batch.stack(batches)"
   ]
  },
  {
   "cell_type": "code",
   "execution_count": 26,
   "id": "ec9037a3",
   "metadata": {
    "execution": {
     "iopub.execute_input": "2023-02-27T13:33:35.061689Z",
     "iopub.status.busy": "2023-02-27T13:33:35.060949Z",
     "iopub.status.idle": "2023-02-27T13:33:41.461860Z",
     "shell.execute_reply": "2023-02-27T13:33:41.460902Z"
    }
   },
   "outputs": [
    {
     "name": "stdout",
     "output_type": "stream",
     "text": [
      "78.8 µs ± 582 ns per loop (mean ± std. dev. of 7 runs, 10,000 loops each)\n"
     ]
    }
   ],
   "source": [
    "%timeit Batch.stack(batches)"
   ]
  },
  {
   "cell_type": "code",
   "execution_count": 27,
   "id": "cb8ab77e",
   "metadata": {
    "execution": {
     "iopub.execute_input": "2023-02-27T13:33:41.465728Z",
     "iopub.status.busy": "2023-02-27T13:33:41.465244Z",
     "iopub.status.idle": "2023-02-27T13:33:41.473769Z",
     "shell.execute_reply": "2023-02-27T13:33:41.473024Z"
    }
   },
   "outputs": [
    {
     "data": {
      "text/plain": [
       "Batch(\n",
       "    a: tensor([[ 0.4342, -0.1405, -2.2848],\n",
       "               [-0.5769,  0.6934, -0.6881],\n",
       "               [ 0.4342, -0.1405, -2.2848],\n",
       "               [-0.5769,  0.6934, -0.6881],\n",
       "               [ 0.4342, -0.1405, -2.2848],\n",
       "               [-0.5769,  0.6934, -0.6881],\n",
       "               [ 0.4342, -0.1405, -2.2848],\n",
       "               [-0.5769,  0.6934, -0.6881],\n",
       "               [ 0.4342, -0.1405, -2.2848],\n",
       "               [-0.5769,  0.6934, -0.6881],\n",
       "               [ 0.4342, -0.1405, -2.2848],\n",
       "               [-0.5769,  0.6934, -0.6881],\n",
       "               [ 0.4342, -0.1405, -2.2848],\n",
       "               [-0.5769,  0.6934, -0.6881],\n",
       "               [ 0.4342, -0.1405, -2.2848],\n",
       "               [-0.5769,  0.6934, -0.6881]]),\n",
       "    x: Batch(\n",
       "           c: tensor([[ 0.4649, -0.1715,  0.3257, -0.0145],\n",
       "                      [-0.3347, -1.2013,  0.8388,  0.8044],\n",
       "                      [-0.7819, -1.8453,  0.7127,  1.2772],\n",
       "                      [ 0.4649, -0.1715,  0.3257, -0.0145],\n",
       "                      [-0.3347, -1.2013,  0.8388,  0.8044],\n",
       "                      [-0.7819, -1.8453,  0.7127,  1.2772],\n",
       "                      [ 0.4649, -0.1715,  0.3257, -0.0145],\n",
       "                      [-0.3347, -1.2013,  0.8388,  0.8044],\n",
       "                      [-0.7819, -1.8453,  0.7127,  1.2772],\n",
       "                      [ 0.4649, -0.1715,  0.3257, -0.0145],\n",
       "                      [-0.3347, -1.2013,  0.8388,  0.8044],\n",
       "                      [-0.7819, -1.8453,  0.7127,  1.2772],\n",
       "                      [ 0.4649, -0.1715,  0.3257, -0.0145],\n",
       "                      [-0.3347, -1.2013,  0.8388,  0.8044],\n",
       "                      [-0.7819, -1.8453,  0.7127,  1.2772],\n",
       "                      [ 0.4649, -0.1715,  0.3257, -0.0145],\n",
       "                      [-0.3347, -1.2013,  0.8388,  0.8044],\n",
       "                      [-0.7819, -1.8453,  0.7127,  1.2772],\n",
       "                      [ 0.4649, -0.1715,  0.3257, -0.0145],\n",
       "                      [-0.3347, -1.2013,  0.8388,  0.8044],\n",
       "                      [-0.7819, -1.8453,  0.7127,  1.2772],\n",
       "                      [ 0.4649, -0.1715,  0.3257, -0.0145],\n",
       "                      [-0.3347, -1.2013,  0.8388,  0.8044],\n",
       "                      [-0.7819, -1.8453,  0.7127,  1.2772]]),\n",
       "       ),\n",
       ")"
      ]
     },
     "execution_count": 27,
     "metadata": {},
     "output_type": "execute_result"
    }
   ],
   "source": [
    "Batch.cat(batches)"
   ]
  },
  {
   "cell_type": "code",
   "execution_count": 28,
   "id": "18dfb045",
   "metadata": {
    "execution": {
     "iopub.execute_input": "2023-02-27T13:33:41.477285Z",
     "iopub.status.busy": "2023-02-27T13:33:41.476692Z",
     "iopub.status.idle": "2023-02-27T13:33:53.143961Z",
     "shell.execute_reply": "2023-02-27T13:33:53.143053Z"
    }
   },
   "outputs": [
    {
     "name": "stdout",
     "output_type": "stream",
     "text": [
      "144 µs ± 270 ns per loop (mean ± std. dev. of 7 runs, 10,000 loops each)\n"
     ]
    }
   ],
   "source": [
    "%timeit Batch.cat(batches)"
   ]
  },
  {
   "cell_type": "code",
   "execution_count": 29,
   "id": "c6688e51",
   "metadata": {
    "execution": {
     "iopub.execute_input": "2023-02-27T13:33:53.147663Z",
     "iopub.status.busy": "2023-02-27T13:33:53.147051Z",
     "iopub.status.idle": "2023-02-27T13:33:55.951030Z",
     "shell.execute_reply": "2023-02-27T13:33:55.950319Z"
    }
   },
   "outputs": [
    {
     "name": "stdout",
     "output_type": "stream",
     "text": [
      "344 µs ± 3.37 µs per loop (mean ± std. dev. of 7 runs, 1,000 loops each)\n"
     ]
    }
   ],
   "source": [
    "batch = Batch({\n",
    "    'obs': torch.randn(8, 4, 84, 84),\n",
    "    'action': torch.randint(0, 6, size=(8, 1,)),\n",
    "    'reward': torch.rand(8, 1)}\n",
    ")\n",
    "\n",
    "%timeit list(Batch.split(batch, 1, shuffle=False, merge_last=True))"
   ]
  },
  {
   "cell_type": "code",
   "execution_count": null,
   "id": "2539fbd9",
   "metadata": {},
   "outputs": [],
   "source": []
  }
 ],
 "metadata": {
  "kernelspec": {
   "display_name": "Python 3 (ipykernel)",
   "language": "python",
   "name": "python3"
  },
  "language_info": {
   "codemirror_mode": {
    "name": "ipython",
    "version": 3
   },
   "file_extension": ".py",
   "mimetype": "text/x-python",
   "name": "python",
   "nbconvert_exporter": "python",
   "pygments_lexer": "ipython3",
   "version": "3.8.16"
  }
 },
 "nbformat": 4,
 "nbformat_minor": 5
}
