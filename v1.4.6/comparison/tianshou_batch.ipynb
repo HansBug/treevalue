{
 "cells": [
  {
   "cell_type": "markdown",
   "id": "9d39d946",
   "metadata": {},
   "source": [
    "# Comparison Between TreeValue and Tianshou Batch"
   ]
  },
  {
   "cell_type": "markdown",
   "id": "3c6db2d4",
   "metadata": {},
   "source": [
    "In this section, we will take a look at the feature and performance of the [Tianshou Batch](https://github.com/thu-ml/tianshou) library, which is developed by Tsinghua Machine Learning Group."
   ]
  },
  {
   "cell_type": "markdown",
   "id": "069361b0",
   "metadata": {},
   "source": [
    "Before starting the comparison, let us define some thing."
   ]
  },
  {
   "cell_type": "code",
   "execution_count": 1,
   "id": "06fc8d26",
   "metadata": {
    "execution": {
     "iopub.execute_input": "2023-02-27T14:38:14.085117Z",
     "iopub.status.busy": "2023-02-27T14:38:14.084512Z",
     "iopub.status.idle": "2023-02-27T14:38:15.304824Z",
     "shell.execute_reply": "2023-02-27T14:38:15.303681Z"
    }
   },
   "outputs": [
    {
     "name": "stderr",
     "output_type": "stream",
     "text": [
      "/opt/hostedtoolcache/Python/3.8.16/x64/lib/python3.8/site-packages/tqdm/auto.py:22: TqdmWarning: IProgress not found. Please update jupyter and ipywidgets. See https://ipywidgets.readthedocs.io/en/stable/user_install.html\n",
      "  from .autonotebook import tqdm as notebook_tqdm\n"
     ]
    }
   ],
   "source": [
    "import torch \n",
    "\n",
    "_TREE_DATA_1 = {'a': 1, 'b': 2, 'x': {'c': 3, 'd': 4}}\n",
    "_TREE_DATA_2 = {\n",
    "    'a': torch.randn(2, 3), \n",
    "    'x': {\n",
    "        'c': torch.randn(3, 4)\n",
    "    },\n",
    "}\n",
    "_TREE_DATA_3 = {\n",
    "    'obs': torch.randn(4, 84, 84),\n",
    "    'action': torch.randint(0, 6, size=(1,)),\n",
    "    'reward': torch.rand(1),\n",
    "}"
   ]
  },
  {
   "cell_type": "markdown",
   "id": "83461b25",
   "metadata": {},
   "source": [
    "## Read and Write Operation"
   ]
  },
  {
   "cell_type": "markdown",
   "id": "067b3f73",
   "metadata": {},
   "source": [
    "Reading and writing are the two most common operations in the tree data structure based on the data model (TreeValue and Tianshou Batch both belong to this type), so this section will compare the reading and writing performance of these two libraries."
   ]
  },
  {
   "cell_type": "markdown",
   "id": "5d09a5b7",
   "metadata": {},
   "source": [
    "### TreeValue's Get and Set"
   ]
  },
  {
   "cell_type": "code",
   "execution_count": 2,
   "id": "9519c4bb",
   "metadata": {
    "execution": {
     "iopub.execute_input": "2023-02-27T14:38:15.309747Z",
     "iopub.status.busy": "2023-02-27T14:38:15.309002Z",
     "iopub.status.idle": "2023-02-27T14:38:15.681542Z",
     "shell.execute_reply": "2023-02-27T14:38:15.680351Z"
    }
   },
   "outputs": [],
   "source": [
    "from treevalue import FastTreeValue\n",
    "\n",
    "t = FastTreeValue(_TREE_DATA_2)"
   ]
  },
  {
   "cell_type": "code",
   "execution_count": 3,
   "id": "11c37677",
   "metadata": {
    "execution": {
     "iopub.execute_input": "2023-02-27T14:38:15.685482Z",
     "iopub.status.busy": "2023-02-27T14:38:15.685080Z",
     "iopub.status.idle": "2023-02-27T14:38:15.697710Z",
     "shell.execute_reply": "2023-02-27T14:38:15.696666Z"
    }
   },
   "outputs": [
    {
     "data": {
      "text/plain": [
       "<FastTreeValue 0x7f3894cccf10>\n",
       "├── 'a' --> tensor([[ 1.2517, -1.2640,  0.3041],\n",
       "│                   [ 1.9151,  2.1916,  1.6329]])\n",
       "└── 'x' --> <FastTreeValue 0x7f3894ccc580>\n",
       "    └── 'c' --> tensor([[-0.9170, -1.6135,  1.8149,  0.2497],\n",
       "                        [-0.2739, -1.7284,  0.8622, -1.7570],\n",
       "                        [-0.6568,  1.1431, -1.5395, -1.8568]])"
      ]
     },
     "execution_count": 3,
     "metadata": {},
     "output_type": "execute_result"
    }
   ],
   "source": [
    "t"
   ]
  },
  {
   "cell_type": "code",
   "execution_count": 4,
   "id": "fd70b0b9",
   "metadata": {
    "execution": {
     "iopub.execute_input": "2023-02-27T14:38:15.701221Z",
     "iopub.status.busy": "2023-02-27T14:38:15.700932Z",
     "iopub.status.idle": "2023-02-27T14:38:15.709034Z",
     "shell.execute_reply": "2023-02-27T14:38:15.707891Z"
    }
   },
   "outputs": [
    {
     "data": {
      "text/plain": [
       "tensor([[ 1.2517, -1.2640,  0.3041],\n",
       "        [ 1.9151,  2.1916,  1.6329]])"
      ]
     },
     "execution_count": 4,
     "metadata": {},
     "output_type": "execute_result"
    }
   ],
   "source": [
    "t.a"
   ]
  },
  {
   "cell_type": "code",
   "execution_count": 5,
   "id": "c18197bd",
   "metadata": {
    "execution": {
     "iopub.execute_input": "2023-02-27T14:38:15.712482Z",
     "iopub.status.busy": "2023-02-27T14:38:15.712002Z",
     "iopub.status.idle": "2023-02-27T14:38:21.673239Z",
     "shell.execute_reply": "2023-02-27T14:38:21.672196Z"
    }
   },
   "outputs": [
    {
     "name": "stdout",
     "output_type": "stream",
     "text": [
      "72.4 ns ± 0.595 ns per loop (mean ± std. dev. of 7 runs, 10,000,000 loops each)\n"
     ]
    }
   ],
   "source": [
    "%timeit t.a"
   ]
  },
  {
   "cell_type": "code",
   "execution_count": 6,
   "id": "bd52f867",
   "metadata": {
    "execution": {
     "iopub.execute_input": "2023-02-27T14:38:21.677050Z",
     "iopub.status.busy": "2023-02-27T14:38:21.676379Z",
     "iopub.status.idle": "2023-02-27T14:38:21.685522Z",
     "shell.execute_reply": "2023-02-27T14:38:21.684417Z"
    }
   },
   "outputs": [
    {
     "data": {
      "text/plain": [
       "<FastTreeValue 0x7f3894cccf10>\n",
       "├── 'a' --> tensor([[-0.4662, -1.5288, -0.8120],\n",
       "│                   [-0.4578,  0.2335, -0.7567]])\n",
       "└── 'x' --> <FastTreeValue 0x7f3894ccc580>\n",
       "    └── 'c' --> tensor([[-0.9170, -1.6135,  1.8149,  0.2497],\n",
       "                        [-0.2739, -1.7284,  0.8622, -1.7570],\n",
       "                        [-0.6568,  1.1431, -1.5395, -1.8568]])"
      ]
     },
     "execution_count": 6,
     "metadata": {},
     "output_type": "execute_result"
    }
   ],
   "source": [
    "new_value = torch.randn(2, 3)\n",
    "t.a = new_value\n",
    "\n",
    "t"
   ]
  },
  {
   "cell_type": "code",
   "execution_count": 7,
   "id": "bbe04d1c",
   "metadata": {
    "execution": {
     "iopub.execute_input": "2023-02-27T14:38:21.689258Z",
     "iopub.status.busy": "2023-02-27T14:38:21.688725Z",
     "iopub.status.idle": "2023-02-27T14:38:28.071473Z",
     "shell.execute_reply": "2023-02-27T14:38:28.070478Z"
    }
   },
   "outputs": [
    {
     "name": "stdout",
     "output_type": "stream",
     "text": [
      "78.1 ns ± 1.55 ns per loop (mean ± std. dev. of 7 runs, 10,000,000 loops each)\n"
     ]
    }
   ],
   "source": [
    "%timeit t.a = new_value"
   ]
  },
  {
   "cell_type": "markdown",
   "id": "48c49731",
   "metadata": {},
   "source": [
    "### Tianshou Batch's Get and Set"
   ]
  },
  {
   "cell_type": "code",
   "execution_count": 8,
   "id": "f1bb14c1",
   "metadata": {
    "execution": {
     "iopub.execute_input": "2023-02-27T14:38:28.075098Z",
     "iopub.status.busy": "2023-02-27T14:38:28.074559Z",
     "iopub.status.idle": "2023-02-27T14:38:28.513127Z",
     "shell.execute_reply": "2023-02-27T14:38:28.511755Z"
    }
   },
   "outputs": [],
   "source": [
    "from tianshou.data import Batch\n",
    "\n",
    "b = Batch(**_TREE_DATA_2)"
   ]
  },
  {
   "cell_type": "code",
   "execution_count": 9,
   "id": "cb0777c3",
   "metadata": {
    "execution": {
     "iopub.execute_input": "2023-02-27T14:38:28.518415Z",
     "iopub.status.busy": "2023-02-27T14:38:28.517945Z",
     "iopub.status.idle": "2023-02-27T14:38:28.525447Z",
     "shell.execute_reply": "2023-02-27T14:38:28.524447Z"
    }
   },
   "outputs": [
    {
     "data": {
      "text/plain": [
       "Batch(\n",
       "    a: tensor([[ 1.2517, -1.2640,  0.3041],\n",
       "               [ 1.9151,  2.1916,  1.6329]]),\n",
       "    x: Batch(\n",
       "           c: tensor([[-0.9170, -1.6135,  1.8149,  0.2497],\n",
       "                      [-0.2739, -1.7284,  0.8622, -1.7570],\n",
       "                      [-0.6568,  1.1431, -1.5395, -1.8568]]),\n",
       "       ),\n",
       ")"
      ]
     },
     "execution_count": 9,
     "metadata": {},
     "output_type": "execute_result"
    }
   ],
   "source": [
    "b"
   ]
  },
  {
   "cell_type": "code",
   "execution_count": 10,
   "id": "43ef8ea3",
   "metadata": {
    "execution": {
     "iopub.execute_input": "2023-02-27T14:38:28.528589Z",
     "iopub.status.busy": "2023-02-27T14:38:28.528339Z",
     "iopub.status.idle": "2023-02-27T14:38:28.534926Z",
     "shell.execute_reply": "2023-02-27T14:38:28.533852Z"
    }
   },
   "outputs": [
    {
     "data": {
      "text/plain": [
       "tensor([[ 1.2517, -1.2640,  0.3041],\n",
       "        [ 1.9151,  2.1916,  1.6329]])"
      ]
     },
     "execution_count": 10,
     "metadata": {},
     "output_type": "execute_result"
    }
   ],
   "source": [
    "b.a"
   ]
  },
  {
   "cell_type": "code",
   "execution_count": 11,
   "id": "b785ab72",
   "metadata": {
    "execution": {
     "iopub.execute_input": "2023-02-27T14:38:28.537881Z",
     "iopub.status.busy": "2023-02-27T14:38:28.537631Z",
     "iopub.status.idle": "2023-02-27T14:38:34.223084Z",
     "shell.execute_reply": "2023-02-27T14:38:34.222051Z"
    }
   },
   "outputs": [
    {
     "name": "stdout",
     "output_type": "stream",
     "text": [
      "69.9 ns ± 0.932 ns per loop (mean ± std. dev. of 7 runs, 10,000,000 loops each)\n"
     ]
    }
   ],
   "source": [
    "%timeit b.a"
   ]
  },
  {
   "cell_type": "code",
   "execution_count": 12,
   "id": "ad54dc69",
   "metadata": {
    "execution": {
     "iopub.execute_input": "2023-02-27T14:38:34.227282Z",
     "iopub.status.busy": "2023-02-27T14:38:34.226714Z",
     "iopub.status.idle": "2023-02-27T14:38:34.234711Z",
     "shell.execute_reply": "2023-02-27T14:38:34.233786Z"
    }
   },
   "outputs": [
    {
     "data": {
      "text/plain": [
       "Batch(\n",
       "    a: tensor([[ 0.7952,  0.3910,  2.4784],\n",
       "               [ 0.0888, -0.2779, -1.2903]]),\n",
       "    x: Batch(\n",
       "           c: tensor([[-0.9170, -1.6135,  1.8149,  0.2497],\n",
       "                      [-0.2739, -1.7284,  0.8622, -1.7570],\n",
       "                      [-0.6568,  1.1431, -1.5395, -1.8568]]),\n",
       "       ),\n",
       ")"
      ]
     },
     "execution_count": 12,
     "metadata": {},
     "output_type": "execute_result"
    }
   ],
   "source": [
    "new_value = torch.randn(2, 3)\n",
    "b.a = new_value\n",
    "\n",
    "b"
   ]
  },
  {
   "cell_type": "code",
   "execution_count": 13,
   "id": "29b1d0bf",
   "metadata": {
    "execution": {
     "iopub.execute_input": "2023-02-27T14:38:34.238218Z",
     "iopub.status.busy": "2023-02-27T14:38:34.237713Z",
     "iopub.status.idle": "2023-02-27T14:38:39.372795Z",
     "shell.execute_reply": "2023-02-27T14:38:39.371791Z"
    }
   },
   "outputs": [
    {
     "name": "stdout",
     "output_type": "stream",
     "text": [
      "633 ns ± 4.29 ns per loop (mean ± std. dev. of 7 runs, 1,000,000 loops each)\n"
     ]
    }
   ],
   "source": [
    "%timeit b.a = new_value"
   ]
  },
  {
   "cell_type": "markdown",
   "id": "b61ad1d0",
   "metadata": {},
   "source": [
    "## Initialization"
   ]
  },
  {
   "cell_type": "markdown",
   "id": "d70f0d54",
   "metadata": {},
   "source": [
    "### TreeValue's Initialization"
   ]
  },
  {
   "cell_type": "code",
   "execution_count": 14,
   "id": "d32a679b",
   "metadata": {
    "execution": {
     "iopub.execute_input": "2023-02-27T14:38:39.376606Z",
     "iopub.status.busy": "2023-02-27T14:38:39.376144Z",
     "iopub.status.idle": "2023-02-27T14:38:47.484866Z",
     "shell.execute_reply": "2023-02-27T14:38:47.483180Z"
    }
   },
   "outputs": [
    {
     "name": "stdout",
     "output_type": "stream",
     "text": [
      "999 ns ± 15 ns per loop (mean ± std. dev. of 7 runs, 1,000,000 loops each)\n"
     ]
    }
   ],
   "source": [
    "%timeit FastTreeValue(_TREE_DATA_1)"
   ]
  },
  {
   "cell_type": "markdown",
   "id": "24f3707b",
   "metadata": {},
   "source": [
    "### Tianshou Batch's Initialization"
   ]
  },
  {
   "cell_type": "code",
   "execution_count": 15,
   "id": "ac3958df",
   "metadata": {
    "execution": {
     "iopub.execute_input": "2023-02-27T14:38:47.488342Z",
     "iopub.status.busy": "2023-02-27T14:38:47.488051Z",
     "iopub.status.idle": "2023-02-27T14:38:58.428921Z",
     "shell.execute_reply": "2023-02-27T14:38:58.427860Z"
    }
   },
   "outputs": [
    {
     "name": "stdout",
     "output_type": "stream",
     "text": [
      "13.5 µs ± 210 ns per loop (mean ± std. dev. of 7 runs, 100,000 loops each)\n"
     ]
    }
   ],
   "source": [
    "%timeit Batch(**_TREE_DATA_1)"
   ]
  },
  {
   "cell_type": "markdown",
   "id": "1ab82e2d",
   "metadata": {},
   "source": [
    "## Deep Copy Operation"
   ]
  },
  {
   "cell_type": "code",
   "execution_count": 16,
   "id": "210a9442",
   "metadata": {
    "execution": {
     "iopub.execute_input": "2023-02-27T14:38:58.432505Z",
     "iopub.status.busy": "2023-02-27T14:38:58.431974Z",
     "iopub.status.idle": "2023-02-27T14:38:58.437064Z",
     "shell.execute_reply": "2023-02-27T14:38:58.436133Z"
    }
   },
   "outputs": [],
   "source": [
    "import copy"
   ]
  },
  {
   "cell_type": "markdown",
   "id": "5a736274",
   "metadata": {},
   "source": [
    "### Deep Copy of TreeValue"
   ]
  },
  {
   "cell_type": "code",
   "execution_count": 17,
   "id": "f9bcadd6",
   "metadata": {
    "execution": {
     "iopub.execute_input": "2023-02-27T14:38:58.440739Z",
     "iopub.status.busy": "2023-02-27T14:38:58.440189Z",
     "iopub.status.idle": "2023-02-27T14:39:00.943532Z",
     "shell.execute_reply": "2023-02-27T14:39:00.942606Z"
    }
   },
   "outputs": [
    {
     "name": "stdout",
     "output_type": "stream",
     "text": [
      "308 µs ± 7.11 µs per loop (mean ± std. dev. of 7 runs, 1,000 loops each)\n"
     ]
    }
   ],
   "source": [
    "t3 = FastTreeValue(_TREE_DATA_3)\n",
    "%timeit copy.deepcopy(t3)"
   ]
  },
  {
   "cell_type": "markdown",
   "id": "bf8be7ea",
   "metadata": {},
   "source": [
    "### Deep Copy of Tianshou Batch"
   ]
  },
  {
   "cell_type": "code",
   "execution_count": 18,
   "id": "91998e6f",
   "metadata": {
    "execution": {
     "iopub.execute_input": "2023-02-27T14:39:00.947813Z",
     "iopub.status.busy": "2023-02-27T14:39:00.947132Z",
     "iopub.status.idle": "2023-02-27T14:39:03.440541Z",
     "shell.execute_reply": "2023-02-27T14:39:03.439641Z"
    }
   },
   "outputs": [
    {
     "name": "stdout",
     "output_type": "stream",
     "text": [
      "281 µs ± 9.93 µs per loop (mean ± std. dev. of 7 runs, 1,000 loops each)\n"
     ]
    }
   ],
   "source": [
    "b3 = Batch(**_TREE_DATA_3)\n",
    "%timeit copy.deepcopy(b3)"
   ]
  },
  {
   "cell_type": "markdown",
   "id": "223162fb",
   "metadata": {},
   "source": [
    "## Stack, Concat and Split Operation"
   ]
  },
  {
   "cell_type": "markdown",
   "id": "85fa4a73",
   "metadata": {},
   "source": [
    "### Performance of TreeValue"
   ]
  },
  {
   "cell_type": "code",
   "execution_count": 19,
   "id": "a0c2b697",
   "metadata": {
    "execution": {
     "iopub.execute_input": "2023-02-27T14:39:03.444614Z",
     "iopub.status.busy": "2023-02-27T14:39:03.443816Z",
     "iopub.status.idle": "2023-02-27T14:39:03.449839Z",
     "shell.execute_reply": "2023-02-27T14:39:03.448983Z"
    }
   },
   "outputs": [],
   "source": [
    "trees = [FastTreeValue(_TREE_DATA_2) for _ in range(8)]"
   ]
  },
  {
   "cell_type": "code",
   "execution_count": 20,
   "id": "017ea5a5",
   "metadata": {
    "execution": {
     "iopub.execute_input": "2023-02-27T14:39:03.453618Z",
     "iopub.status.busy": "2023-02-27T14:39:03.452798Z",
     "iopub.status.idle": "2023-02-27T14:39:03.463894Z",
     "shell.execute_reply": "2023-02-27T14:39:03.462899Z"
    }
   },
   "outputs": [
    {
     "data": {
      "text/plain": [
       "<FastTreeValue 0x7f37def6fb50>\n",
       "├── 'a' --> tensor([[[ 1.2517, -1.2640,  0.3041],\n",
       "│                    [ 1.9151,  2.1916,  1.6329]],\n",
       "│           \n",
       "│                   [[ 1.2517, -1.2640,  0.3041],\n",
       "│                    [ 1.9151,  2.1916,  1.6329]],\n",
       "│           \n",
       "│                   [[ 1.2517, -1.2640,  0.3041],\n",
       "│                    [ 1.9151,  2.1916,  1.6329]],\n",
       "│           \n",
       "│                   [[ 1.2517, -1.2640,  0.3041],\n",
       "│                    [ 1.9151,  2.1916,  1.6329]],\n",
       "│           \n",
       "│                   [[ 1.2517, -1.2640,  0.3041],\n",
       "│                    [ 1.9151,  2.1916,  1.6329]],\n",
       "│           \n",
       "│                   [[ 1.2517, -1.2640,  0.3041],\n",
       "│                    [ 1.9151,  2.1916,  1.6329]],\n",
       "│           \n",
       "│                   [[ 1.2517, -1.2640,  0.3041],\n",
       "│                    [ 1.9151,  2.1916,  1.6329]],\n",
       "│           \n",
       "│                   [[ 1.2517, -1.2640,  0.3041],\n",
       "│                    [ 1.9151,  2.1916,  1.6329]]])\n",
       "└── 'x' --> <FastTreeValue 0x7f37def6fbe0>\n",
       "    └── 'c' --> tensor([[[-0.9170, -1.6135,  1.8149,  0.2497],\n",
       "                         [-0.2739, -1.7284,  0.8622, -1.7570],\n",
       "                         [-0.6568,  1.1431, -1.5395, -1.8568]],\n",
       "                \n",
       "                        [[-0.9170, -1.6135,  1.8149,  0.2497],\n",
       "                         [-0.2739, -1.7284,  0.8622, -1.7570],\n",
       "                         [-0.6568,  1.1431, -1.5395, -1.8568]],\n",
       "                \n",
       "                        [[-0.9170, -1.6135,  1.8149,  0.2497],\n",
       "                         [-0.2739, -1.7284,  0.8622, -1.7570],\n",
       "                         [-0.6568,  1.1431, -1.5395, -1.8568]],\n",
       "                \n",
       "                        [[-0.9170, -1.6135,  1.8149,  0.2497],\n",
       "                         [-0.2739, -1.7284,  0.8622, -1.7570],\n",
       "                         [-0.6568,  1.1431, -1.5395, -1.8568]],\n",
       "                \n",
       "                        [[-0.9170, -1.6135,  1.8149,  0.2497],\n",
       "                         [-0.2739, -1.7284,  0.8622, -1.7570],\n",
       "                         [-0.6568,  1.1431, -1.5395, -1.8568]],\n",
       "                \n",
       "                        [[-0.9170, -1.6135,  1.8149,  0.2497],\n",
       "                         [-0.2739, -1.7284,  0.8622, -1.7570],\n",
       "                         [-0.6568,  1.1431, -1.5395, -1.8568]],\n",
       "                \n",
       "                        [[-0.9170, -1.6135,  1.8149,  0.2497],\n",
       "                         [-0.2739, -1.7284,  0.8622, -1.7570],\n",
       "                         [-0.6568,  1.1431, -1.5395, -1.8568]],\n",
       "                \n",
       "                        [[-0.9170, -1.6135,  1.8149,  0.2497],\n",
       "                         [-0.2739, -1.7284,  0.8622, -1.7570],\n",
       "                         [-0.6568,  1.1431, -1.5395, -1.8568]]])"
      ]
     },
     "execution_count": 20,
     "metadata": {},
     "output_type": "execute_result"
    }
   ],
   "source": [
    "t_stack = FastTreeValue.func(subside=True)(torch.stack)\n",
    "\n",
    "t_stack(trees)"
   ]
  },
  {
   "cell_type": "code",
   "execution_count": 21,
   "id": "f8b3f415",
   "metadata": {
    "execution": {
     "iopub.execute_input": "2023-02-27T14:39:03.467855Z",
     "iopub.status.busy": "2023-02-27T14:39:03.466823Z",
     "iopub.status.idle": "2023-02-27T14:39:07.258620Z",
     "shell.execute_reply": "2023-02-27T14:39:07.257469Z"
    }
   },
   "outputs": [
    {
     "name": "stdout",
     "output_type": "stream",
     "text": [
      "46.5 µs ± 923 ns per loop (mean ± std. dev. of 7 runs, 10,000 loops each)\n"
     ]
    }
   ],
   "source": [
    "%timeit t_stack(trees)"
   ]
  },
  {
   "cell_type": "code",
   "execution_count": 22,
   "id": "94b56771",
   "metadata": {
    "execution": {
     "iopub.execute_input": "2023-02-27T14:39:07.261916Z",
     "iopub.status.busy": "2023-02-27T14:39:07.261612Z",
     "iopub.status.idle": "2023-02-27T14:39:07.273889Z",
     "shell.execute_reply": "2023-02-27T14:39:07.272895Z"
    }
   },
   "outputs": [
    {
     "data": {
      "text/plain": [
       "<FastTreeValue 0x7f3894c579a0>\n",
       "├── 'a' --> tensor([[ 1.2517, -1.2640,  0.3041],\n",
       "│                   [ 1.9151,  2.1916,  1.6329],\n",
       "│                   [ 1.2517, -1.2640,  0.3041],\n",
       "│                   [ 1.9151,  2.1916,  1.6329],\n",
       "│                   [ 1.2517, -1.2640,  0.3041],\n",
       "│                   [ 1.9151,  2.1916,  1.6329],\n",
       "│                   [ 1.2517, -1.2640,  0.3041],\n",
       "│                   [ 1.9151,  2.1916,  1.6329],\n",
       "│                   [ 1.2517, -1.2640,  0.3041],\n",
       "│                   [ 1.9151,  2.1916,  1.6329],\n",
       "│                   [ 1.2517, -1.2640,  0.3041],\n",
       "│                   [ 1.9151,  2.1916,  1.6329],\n",
       "│                   [ 1.2517, -1.2640,  0.3041],\n",
       "│                   [ 1.9151,  2.1916,  1.6329],\n",
       "│                   [ 1.2517, -1.2640,  0.3041],\n",
       "│                   [ 1.9151,  2.1916,  1.6329]])\n",
       "└── 'x' --> <FastTreeValue 0x7f37def1ff40>\n",
       "    └── 'c' --> tensor([[-0.9170, -1.6135,  1.8149,  0.2497],\n",
       "                        [-0.2739, -1.7284,  0.8622, -1.7570],\n",
       "                        [-0.6568,  1.1431, -1.5395, -1.8568],\n",
       "                        [-0.9170, -1.6135,  1.8149,  0.2497],\n",
       "                        [-0.2739, -1.7284,  0.8622, -1.7570],\n",
       "                        [-0.6568,  1.1431, -1.5395, -1.8568],\n",
       "                        [-0.9170, -1.6135,  1.8149,  0.2497],\n",
       "                        [-0.2739, -1.7284,  0.8622, -1.7570],\n",
       "                        [-0.6568,  1.1431, -1.5395, -1.8568],\n",
       "                        [-0.9170, -1.6135,  1.8149,  0.2497],\n",
       "                        [-0.2739, -1.7284,  0.8622, -1.7570],\n",
       "                        [-0.6568,  1.1431, -1.5395, -1.8568],\n",
       "                        [-0.9170, -1.6135,  1.8149,  0.2497],\n",
       "                        [-0.2739, -1.7284,  0.8622, -1.7570],\n",
       "                        [-0.6568,  1.1431, -1.5395, -1.8568],\n",
       "                        [-0.9170, -1.6135,  1.8149,  0.2497],\n",
       "                        [-0.2739, -1.7284,  0.8622, -1.7570],\n",
       "                        [-0.6568,  1.1431, -1.5395, -1.8568],\n",
       "                        [-0.9170, -1.6135,  1.8149,  0.2497],\n",
       "                        [-0.2739, -1.7284,  0.8622, -1.7570],\n",
       "                        [-0.6568,  1.1431, -1.5395, -1.8568],\n",
       "                        [-0.9170, -1.6135,  1.8149,  0.2497],\n",
       "                        [-0.2739, -1.7284,  0.8622, -1.7570],\n",
       "                        [-0.6568,  1.1431, -1.5395, -1.8568]])"
      ]
     },
     "execution_count": 22,
     "metadata": {},
     "output_type": "execute_result"
    }
   ],
   "source": [
    "t_cat = FastTreeValue.func(subside=True)(torch.cat)\n",
    "\n",
    "t_cat(trees)"
   ]
  },
  {
   "cell_type": "code",
   "execution_count": 23,
   "id": "5e9c06a6",
   "metadata": {
    "execution": {
     "iopub.execute_input": "2023-02-27T14:39:07.277385Z",
     "iopub.status.busy": "2023-02-27T14:39:07.277083Z",
     "iopub.status.idle": "2023-02-27T14:39:10.813168Z",
     "shell.execute_reply": "2023-02-27T14:39:10.812093Z"
    }
   },
   "outputs": [
    {
     "name": "stdout",
     "output_type": "stream",
     "text": [
      "43.2 µs ± 1.95 µs per loop (mean ± std. dev. of 7 runs, 10,000 loops each)\n"
     ]
    }
   ],
   "source": [
    "%timeit t_cat(trees)"
   ]
  },
  {
   "cell_type": "code",
   "execution_count": 24,
   "id": "a3ab5c8f",
   "metadata": {
    "execution": {
     "iopub.execute_input": "2023-02-27T14:39:10.816915Z",
     "iopub.status.busy": "2023-02-27T14:39:10.816597Z",
     "iopub.status.idle": "2023-02-27T14:39:17.658500Z",
     "shell.execute_reply": "2023-02-27T14:39:17.657422Z"
    }
   },
   "outputs": [
    {
     "name": "stdout",
     "output_type": "stream",
     "text": [
      "84 µs ± 963 ns per loop (mean ± std. dev. of 7 runs, 10,000 loops each)\n"
     ]
    }
   ],
   "source": [
    "t_split = FastTreeValue.func(rise=True)(torch.split)\n",
    "tree = FastTreeValue({\n",
    "    'obs': torch.randn(8, 4, 84, 84),\n",
    "    'action': torch.randint(0, 6, size=(8, 1,)),\n",
    "    'reward': torch.rand(8, 1),\n",
    "})\n",
    "\n",
    "%timeit t_split(tree, 1)"
   ]
  },
  {
   "cell_type": "markdown",
   "id": "31c3ec0b",
   "metadata": {},
   "source": [
    "### Performance of Tianshou Batch"
   ]
  },
  {
   "cell_type": "code",
   "execution_count": 25,
   "id": "9ead828a",
   "metadata": {
    "execution": {
     "iopub.execute_input": "2023-02-27T14:39:17.662482Z",
     "iopub.status.busy": "2023-02-27T14:39:17.661854Z",
     "iopub.status.idle": "2023-02-27T14:39:17.672379Z",
     "shell.execute_reply": "2023-02-27T14:39:17.671581Z"
    }
   },
   "outputs": [
    {
     "data": {
      "text/plain": [
       "Batch(\n",
       "    a: tensor([[[ 1.2517, -1.2640,  0.3041],\n",
       "                [ 1.9151,  2.1916,  1.6329]],\n",
       "       \n",
       "               [[ 1.2517, -1.2640,  0.3041],\n",
       "                [ 1.9151,  2.1916,  1.6329]],\n",
       "       \n",
       "               [[ 1.2517, -1.2640,  0.3041],\n",
       "                [ 1.9151,  2.1916,  1.6329]],\n",
       "       \n",
       "               [[ 1.2517, -1.2640,  0.3041],\n",
       "                [ 1.9151,  2.1916,  1.6329]],\n",
       "       \n",
       "               [[ 1.2517, -1.2640,  0.3041],\n",
       "                [ 1.9151,  2.1916,  1.6329]],\n",
       "       \n",
       "               [[ 1.2517, -1.2640,  0.3041],\n",
       "                [ 1.9151,  2.1916,  1.6329]],\n",
       "       \n",
       "               [[ 1.2517, -1.2640,  0.3041],\n",
       "                [ 1.9151,  2.1916,  1.6329]],\n",
       "       \n",
       "               [[ 1.2517, -1.2640,  0.3041],\n",
       "                [ 1.9151,  2.1916,  1.6329]]]),\n",
       "    x: Batch(\n",
       "           c: tensor([[[-0.9170, -1.6135,  1.8149,  0.2497],\n",
       "                       [-0.2739, -1.7284,  0.8622, -1.7570],\n",
       "                       [-0.6568,  1.1431, -1.5395, -1.8568]],\n",
       "              \n",
       "                      [[-0.9170, -1.6135,  1.8149,  0.2497],\n",
       "                       [-0.2739, -1.7284,  0.8622, -1.7570],\n",
       "                       [-0.6568,  1.1431, -1.5395, -1.8568]],\n",
       "              \n",
       "                      [[-0.9170, -1.6135,  1.8149,  0.2497],\n",
       "                       [-0.2739, -1.7284,  0.8622, -1.7570],\n",
       "                       [-0.6568,  1.1431, -1.5395, -1.8568]],\n",
       "              \n",
       "                      [[-0.9170, -1.6135,  1.8149,  0.2497],\n",
       "                       [-0.2739, -1.7284,  0.8622, -1.7570],\n",
       "                       [-0.6568,  1.1431, -1.5395, -1.8568]],\n",
       "              \n",
       "                      [[-0.9170, -1.6135,  1.8149,  0.2497],\n",
       "                       [-0.2739, -1.7284,  0.8622, -1.7570],\n",
       "                       [-0.6568,  1.1431, -1.5395, -1.8568]],\n",
       "              \n",
       "                      [[-0.9170, -1.6135,  1.8149,  0.2497],\n",
       "                       [-0.2739, -1.7284,  0.8622, -1.7570],\n",
       "                       [-0.6568,  1.1431, -1.5395, -1.8568]],\n",
       "              \n",
       "                      [[-0.9170, -1.6135,  1.8149,  0.2497],\n",
       "                       [-0.2739, -1.7284,  0.8622, -1.7570],\n",
       "                       [-0.6568,  1.1431, -1.5395, -1.8568]],\n",
       "              \n",
       "                      [[-0.9170, -1.6135,  1.8149,  0.2497],\n",
       "                       [-0.2739, -1.7284,  0.8622, -1.7570],\n",
       "                       [-0.6568,  1.1431, -1.5395, -1.8568]]]),\n",
       "       ),\n",
       ")"
      ]
     },
     "execution_count": 25,
     "metadata": {},
     "output_type": "execute_result"
    }
   ],
   "source": [
    "batches = [Batch(**_TREE_DATA_2) for _ in range(8)]\n",
    "\n",
    "Batch.stack(batches)"
   ]
  },
  {
   "cell_type": "code",
   "execution_count": 26,
   "id": "ec9037a3",
   "metadata": {
    "execution": {
     "iopub.execute_input": "2023-02-27T14:39:17.675795Z",
     "iopub.status.busy": "2023-02-27T14:39:17.675270Z",
     "iopub.status.idle": "2023-02-27T14:39:26.143194Z",
     "shell.execute_reply": "2023-02-27T14:39:26.142105Z"
    }
   },
   "outputs": [
    {
     "name": "stdout",
     "output_type": "stream",
     "text": [
      "104 µs ± 1.36 µs per loop (mean ± std. dev. of 7 runs, 10,000 loops each)\n"
     ]
    }
   ],
   "source": [
    "%timeit Batch.stack(batches)"
   ]
  },
  {
   "cell_type": "code",
   "execution_count": 27,
   "id": "cb8ab77e",
   "metadata": {
    "execution": {
     "iopub.execute_input": "2023-02-27T14:39:26.146908Z",
     "iopub.status.busy": "2023-02-27T14:39:26.146333Z",
     "iopub.status.idle": "2023-02-27T14:39:26.156114Z",
     "shell.execute_reply": "2023-02-27T14:39:26.155270Z"
    }
   },
   "outputs": [
    {
     "data": {
      "text/plain": [
       "Batch(\n",
       "    a: tensor([[ 1.2517, -1.2640,  0.3041],\n",
       "               [ 1.9151,  2.1916,  1.6329],\n",
       "               [ 1.2517, -1.2640,  0.3041],\n",
       "               [ 1.9151,  2.1916,  1.6329],\n",
       "               [ 1.2517, -1.2640,  0.3041],\n",
       "               [ 1.9151,  2.1916,  1.6329],\n",
       "               [ 1.2517, -1.2640,  0.3041],\n",
       "               [ 1.9151,  2.1916,  1.6329],\n",
       "               [ 1.2517, -1.2640,  0.3041],\n",
       "               [ 1.9151,  2.1916,  1.6329],\n",
       "               [ 1.2517, -1.2640,  0.3041],\n",
       "               [ 1.9151,  2.1916,  1.6329],\n",
       "               [ 1.2517, -1.2640,  0.3041],\n",
       "               [ 1.9151,  2.1916,  1.6329],\n",
       "               [ 1.2517, -1.2640,  0.3041],\n",
       "               [ 1.9151,  2.1916,  1.6329]]),\n",
       "    x: Batch(\n",
       "           c: tensor([[-0.9170, -1.6135,  1.8149,  0.2497],\n",
       "                      [-0.2739, -1.7284,  0.8622, -1.7570],\n",
       "                      [-0.6568,  1.1431, -1.5395, -1.8568],\n",
       "                      [-0.9170, -1.6135,  1.8149,  0.2497],\n",
       "                      [-0.2739, -1.7284,  0.8622, -1.7570],\n",
       "                      [-0.6568,  1.1431, -1.5395, -1.8568],\n",
       "                      [-0.9170, -1.6135,  1.8149,  0.2497],\n",
       "                      [-0.2739, -1.7284,  0.8622, -1.7570],\n",
       "                      [-0.6568,  1.1431, -1.5395, -1.8568],\n",
       "                      [-0.9170, -1.6135,  1.8149,  0.2497],\n",
       "                      [-0.2739, -1.7284,  0.8622, -1.7570],\n",
       "                      [-0.6568,  1.1431, -1.5395, -1.8568],\n",
       "                      [-0.9170, -1.6135,  1.8149,  0.2497],\n",
       "                      [-0.2739, -1.7284,  0.8622, -1.7570],\n",
       "                      [-0.6568,  1.1431, -1.5395, -1.8568],\n",
       "                      [-0.9170, -1.6135,  1.8149,  0.2497],\n",
       "                      [-0.2739, -1.7284,  0.8622, -1.7570],\n",
       "                      [-0.6568,  1.1431, -1.5395, -1.8568],\n",
       "                      [-0.9170, -1.6135,  1.8149,  0.2497],\n",
       "                      [-0.2739, -1.7284,  0.8622, -1.7570],\n",
       "                      [-0.6568,  1.1431, -1.5395, -1.8568],\n",
       "                      [-0.9170, -1.6135,  1.8149,  0.2497],\n",
       "                      [-0.2739, -1.7284,  0.8622, -1.7570],\n",
       "                      [-0.6568,  1.1431, -1.5395, -1.8568]]),\n",
       "       ),\n",
       ")"
      ]
     },
     "execution_count": 27,
     "metadata": {},
     "output_type": "execute_result"
    }
   ],
   "source": [
    "Batch.cat(batches)"
   ]
  },
  {
   "cell_type": "code",
   "execution_count": 28,
   "id": "18dfb045",
   "metadata": {
    "execution": {
     "iopub.execute_input": "2023-02-27T14:39:26.161362Z",
     "iopub.status.busy": "2023-02-27T14:39:26.160759Z",
     "iopub.status.idle": "2023-02-27T14:39:27.677460Z",
     "shell.execute_reply": "2023-02-27T14:39:27.676335Z"
    }
   },
   "outputs": [
    {
     "name": "stdout",
     "output_type": "stream",
     "text": [
      "184 µs ± 3.53 µs per loop (mean ± std. dev. of 7 runs, 1,000 loops each)\n"
     ]
    }
   ],
   "source": [
    "%timeit Batch.cat(batches)"
   ]
  },
  {
   "cell_type": "code",
   "execution_count": 29,
   "id": "c6688e51",
   "metadata": {
    "execution": {
     "iopub.execute_input": "2023-02-27T14:39:27.680993Z",
     "iopub.status.busy": "2023-02-27T14:39:27.680698Z",
     "iopub.status.idle": "2023-02-27T14:39:32.693566Z",
     "shell.execute_reply": "2023-02-27T14:39:32.692710Z"
    }
   },
   "outputs": [
    {
     "name": "stdout",
     "output_type": "stream",
     "text": [
      "618 µs ± 17 µs per loop (mean ± std. dev. of 7 runs, 1,000 loops each)\n"
     ]
    }
   ],
   "source": [
    "batch = Batch({\n",
    "    'obs': torch.randn(8, 4, 84, 84),\n",
    "    'action': torch.randint(0, 6, size=(8, 1,)),\n",
    "    'reward': torch.rand(8, 1)}\n",
    ")\n",
    "\n",
    "%timeit list(Batch.split(batch, 1, shuffle=False, merge_last=True))"
   ]
  },
  {
   "cell_type": "code",
   "execution_count": null,
   "id": "2539fbd9",
   "metadata": {},
   "outputs": [],
   "source": []
  }
 ],
 "metadata": {
  "kernelspec": {
   "display_name": "Python 3 (ipykernel)",
   "language": "python",
   "name": "python3"
  },
  "language_info": {
   "codemirror_mode": {
    "name": "ipython",
    "version": 3
   },
   "file_extension": ".py",
   "mimetype": "text/x-python",
   "name": "python",
   "nbconvert_exporter": "python",
   "pygments_lexer": "ipython3",
   "version": "3.8.16"
  }
 },
 "nbformat": 4,
 "nbformat_minor": 5
}
