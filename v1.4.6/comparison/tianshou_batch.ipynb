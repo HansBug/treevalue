{
 "cells": [
  {
   "cell_type": "markdown",
   "id": "9d39d946",
   "metadata": {},
   "source": [
    "# Comparison Between TreeValue and Tianshou Batch"
   ]
  },
  {
   "cell_type": "markdown",
   "id": "3c6db2d4",
   "metadata": {},
   "source": [
    "In this section, we will take a look at the feature and performance of the [Tianshou Batch](https://github.com/thu-ml/tianshou) library, which is developed by Tsinghua Machine Learning Group."
   ]
  },
  {
   "cell_type": "markdown",
   "id": "069361b0",
   "metadata": {},
   "source": [
    "Before starting the comparison, let us define some thing."
   ]
  },
  {
   "cell_type": "code",
   "execution_count": 1,
   "id": "06fc8d26",
   "metadata": {
    "execution": {
     "iopub.execute_input": "2023-02-27T12:29:45.276387Z",
     "iopub.status.busy": "2023-02-27T12:29:45.275825Z",
     "iopub.status.idle": "2023-02-27T12:29:46.262901Z",
     "shell.execute_reply": "2023-02-27T12:29:46.261669Z"
    }
   },
   "outputs": [
    {
     "name": "stderr",
     "output_type": "stream",
     "text": [
      "/opt/hostedtoolcache/Python/3.8.16/x64/lib/python3.8/site-packages/tqdm/auto.py:22: TqdmWarning: IProgress not found. Please update jupyter and ipywidgets. See https://ipywidgets.readthedocs.io/en/stable/user_install.html\n",
      "  from .autonotebook import tqdm as notebook_tqdm\n"
     ]
    }
   ],
   "source": [
    "import torch \n",
    "\n",
    "_TREE_DATA_1 = {'a': 1, 'b': 2, 'x': {'c': 3, 'd': 4}}\n",
    "_TREE_DATA_2 = {\n",
    "    'a': torch.randn(2, 3), \n",
    "    'x': {\n",
    "        'c': torch.randn(3, 4)\n",
    "    },\n",
    "}\n",
    "_TREE_DATA_3 = {\n",
    "    'obs': torch.randn(4, 84, 84),\n",
    "    'action': torch.randint(0, 6, size=(1,)),\n",
    "    'reward': torch.rand(1),\n",
    "}"
   ]
  },
  {
   "cell_type": "markdown",
   "id": "83461b25",
   "metadata": {},
   "source": [
    "## Read and Write Operation"
   ]
  },
  {
   "cell_type": "markdown",
   "id": "067b3f73",
   "metadata": {},
   "source": [
    "Reading and writing are the two most common operations in the tree data structure based on the data model (TreeValue and Tianshou Batch both belong to this type), so this section will compare the reading and writing performance of these two libraries."
   ]
  },
  {
   "cell_type": "markdown",
   "id": "5d09a5b7",
   "metadata": {},
   "source": [
    "### TreeValue's Get and Set"
   ]
  },
  {
   "cell_type": "code",
   "execution_count": 2,
   "id": "9519c4bb",
   "metadata": {
    "execution": {
     "iopub.execute_input": "2023-02-27T12:29:46.266927Z",
     "iopub.status.busy": "2023-02-27T12:29:46.266420Z",
     "iopub.status.idle": "2023-02-27T12:29:46.558969Z",
     "shell.execute_reply": "2023-02-27T12:29:46.558176Z"
    }
   },
   "outputs": [],
   "source": [
    "from treevalue import FastTreeValue\n",
    "\n",
    "t = FastTreeValue(_TREE_DATA_2)"
   ]
  },
  {
   "cell_type": "code",
   "execution_count": 3,
   "id": "11c37677",
   "metadata": {
    "execution": {
     "iopub.execute_input": "2023-02-27T12:29:46.563102Z",
     "iopub.status.busy": "2023-02-27T12:29:46.562481Z",
     "iopub.status.idle": "2023-02-27T12:29:46.573023Z",
     "shell.execute_reply": "2023-02-27T12:29:46.571920Z"
    }
   },
   "outputs": [
    {
     "data": {
      "text/plain": [
       "<FastTreeValue 0x7fa4d8ae1e80>\n",
       "├── 'a' --> tensor([[ 0.4259,  0.1133, -0.6068],\n",
       "│                   [-0.7104,  0.3368,  0.0771]])\n",
       "└── 'x' --> <FastTreeValue 0x7fa4d8ae1dc0>\n",
       "    └── 'c' --> tensor([[-1.2889,  0.5265,  0.4927,  0.7358],\n",
       "                        [-0.4130, -0.2697, -0.7697, -1.5057],\n",
       "                        [ 0.1167,  1.8936,  0.5059, -0.1902]])"
      ]
     },
     "execution_count": 3,
     "metadata": {},
     "output_type": "execute_result"
    }
   ],
   "source": [
    "t"
   ]
  },
  {
   "cell_type": "code",
   "execution_count": 4,
   "id": "fd70b0b9",
   "metadata": {
    "execution": {
     "iopub.execute_input": "2023-02-27T12:29:46.575989Z",
     "iopub.status.busy": "2023-02-27T12:29:46.575625Z",
     "iopub.status.idle": "2023-02-27T12:29:46.581029Z",
     "shell.execute_reply": "2023-02-27T12:29:46.580330Z"
    }
   },
   "outputs": [
    {
     "data": {
      "text/plain": [
       "tensor([[ 0.4259,  0.1133, -0.6068],\n",
       "        [-0.7104,  0.3368,  0.0771]])"
      ]
     },
     "execution_count": 4,
     "metadata": {},
     "output_type": "execute_result"
    }
   ],
   "source": [
    "t.a"
   ]
  },
  {
   "cell_type": "code",
   "execution_count": 5,
   "id": "c18197bd",
   "metadata": {
    "execution": {
     "iopub.execute_input": "2023-02-27T12:29:46.583984Z",
     "iopub.status.busy": "2023-02-27T12:29:46.583611Z",
     "iopub.status.idle": "2023-02-27T12:29:51.931280Z",
     "shell.execute_reply": "2023-02-27T12:29:51.930382Z"
    }
   },
   "outputs": [
    {
     "name": "stdout",
     "output_type": "stream",
     "text": [
      "66.1 ns ± 0.017 ns per loop (mean ± std. dev. of 7 runs, 10,000,000 loops each)\n"
     ]
    }
   ],
   "source": [
    "%timeit t.a"
   ]
  },
  {
   "cell_type": "code",
   "execution_count": 6,
   "id": "bd52f867",
   "metadata": {
    "execution": {
     "iopub.execute_input": "2023-02-27T12:29:51.934869Z",
     "iopub.status.busy": "2023-02-27T12:29:51.934132Z",
     "iopub.status.idle": "2023-02-27T12:29:51.941124Z",
     "shell.execute_reply": "2023-02-27T12:29:51.940424Z"
    }
   },
   "outputs": [
    {
     "data": {
      "text/plain": [
       "<FastTreeValue 0x7fa4d8ae1e80>\n",
       "├── 'a' --> tensor([[ 0.1541, -0.1861,  1.3594],\n",
       "│                   [-1.2370,  0.8547,  0.9108]])\n",
       "└── 'x' --> <FastTreeValue 0x7fa4d8ae1dc0>\n",
       "    └── 'c' --> tensor([[-1.2889,  0.5265,  0.4927,  0.7358],\n",
       "                        [-0.4130, -0.2697, -0.7697, -1.5057],\n",
       "                        [ 0.1167,  1.8936,  0.5059, -0.1902]])"
      ]
     },
     "execution_count": 6,
     "metadata": {},
     "output_type": "execute_result"
    }
   ],
   "source": [
    "new_value = torch.randn(2, 3)\n",
    "t.a = new_value\n",
    "\n",
    "t"
   ]
  },
  {
   "cell_type": "code",
   "execution_count": 7,
   "id": "bbe04d1c",
   "metadata": {
    "execution": {
     "iopub.execute_input": "2023-02-27T12:29:51.944135Z",
     "iopub.status.busy": "2023-02-27T12:29:51.943760Z",
     "iopub.status.idle": "2023-02-27T12:29:57.440388Z",
     "shell.execute_reply": "2023-02-27T12:29:57.439440Z"
    }
   },
   "outputs": [
    {
     "name": "stdout",
     "output_type": "stream",
     "text": [
      "67.7 ns ± 0.07 ns per loop (mean ± std. dev. of 7 runs, 10,000,000 loops each)\n"
     ]
    }
   ],
   "source": [
    "%timeit t.a = new_value"
   ]
  },
  {
   "cell_type": "markdown",
   "id": "48c49731",
   "metadata": {},
   "source": [
    "### Tianshou Batch's Get and Set"
   ]
  },
  {
   "cell_type": "code",
   "execution_count": 8,
   "id": "f1bb14c1",
   "metadata": {
    "execution": {
     "iopub.execute_input": "2023-02-27T12:29:57.444234Z",
     "iopub.status.busy": "2023-02-27T12:29:57.443605Z",
     "iopub.status.idle": "2023-02-27T12:29:57.818074Z",
     "shell.execute_reply": "2023-02-27T12:29:57.817272Z"
    }
   },
   "outputs": [],
   "source": [
    "from tianshou.data import Batch\n",
    "\n",
    "b = Batch(**_TREE_DATA_2)"
   ]
  },
  {
   "cell_type": "code",
   "execution_count": 9,
   "id": "cb0777c3",
   "metadata": {
    "execution": {
     "iopub.execute_input": "2023-02-27T12:29:57.821763Z",
     "iopub.status.busy": "2023-02-27T12:29:57.821236Z",
     "iopub.status.idle": "2023-02-27T12:29:57.828084Z",
     "shell.execute_reply": "2023-02-27T12:29:57.827456Z"
    }
   },
   "outputs": [
    {
     "data": {
      "text/plain": [
       "Batch(\n",
       "    a: tensor([[ 0.4259,  0.1133, -0.6068],\n",
       "               [-0.7104,  0.3368,  0.0771]]),\n",
       "    x: Batch(\n",
       "           c: tensor([[-1.2889,  0.5265,  0.4927,  0.7358],\n",
       "                      [-0.4130, -0.2697, -0.7697, -1.5057],\n",
       "                      [ 0.1167,  1.8936,  0.5059, -0.1902]]),\n",
       "       ),\n",
       ")"
      ]
     },
     "execution_count": 9,
     "metadata": {},
     "output_type": "execute_result"
    }
   ],
   "source": [
    "b"
   ]
  },
  {
   "cell_type": "code",
   "execution_count": 10,
   "id": "43ef8ea3",
   "metadata": {
    "execution": {
     "iopub.execute_input": "2023-02-27T12:29:57.831485Z",
     "iopub.status.busy": "2023-02-27T12:29:57.830918Z",
     "iopub.status.idle": "2023-02-27T12:29:57.837018Z",
     "shell.execute_reply": "2023-02-27T12:29:57.836356Z"
    }
   },
   "outputs": [
    {
     "data": {
      "text/plain": [
       "tensor([[ 0.4259,  0.1133, -0.6068],\n",
       "        [-0.7104,  0.3368,  0.0771]])"
      ]
     },
     "execution_count": 10,
     "metadata": {},
     "output_type": "execute_result"
    }
   ],
   "source": [
    "b.a"
   ]
  },
  {
   "cell_type": "code",
   "execution_count": 11,
   "id": "b785ab72",
   "metadata": {
    "execution": {
     "iopub.execute_input": "2023-02-27T12:29:57.839882Z",
     "iopub.status.busy": "2023-02-27T12:29:57.839523Z",
     "iopub.status.idle": "2023-02-27T12:30:02.733541Z",
     "shell.execute_reply": "2023-02-27T12:30:02.732652Z"
    }
   },
   "outputs": [
    {
     "name": "stdout",
     "output_type": "stream",
     "text": [
      "60.2 ns ± 0.0837 ns per loop (mean ± std. dev. of 7 runs, 10,000,000 loops each)\n"
     ]
    }
   ],
   "source": [
    "%timeit b.a"
   ]
  },
  {
   "cell_type": "code",
   "execution_count": 12,
   "id": "ad54dc69",
   "metadata": {
    "execution": {
     "iopub.execute_input": "2023-02-27T12:30:02.737149Z",
     "iopub.status.busy": "2023-02-27T12:30:02.736737Z",
     "iopub.status.idle": "2023-02-27T12:30:02.744046Z",
     "shell.execute_reply": "2023-02-27T12:30:02.743412Z"
    }
   },
   "outputs": [
    {
     "data": {
      "text/plain": [
       "Batch(\n",
       "    a: tensor([[ 1.3487,  0.2407, -0.2800],\n",
       "               [-0.3865, -1.9855, -0.6119]]),\n",
       "    x: Batch(\n",
       "           c: tensor([[-1.2889,  0.5265,  0.4927,  0.7358],\n",
       "                      [-0.4130, -0.2697, -0.7697, -1.5057],\n",
       "                      [ 0.1167,  1.8936,  0.5059, -0.1902]]),\n",
       "       ),\n",
       ")"
      ]
     },
     "execution_count": 12,
     "metadata": {},
     "output_type": "execute_result"
    }
   ],
   "source": [
    "new_value = torch.randn(2, 3)\n",
    "b.a = new_value\n",
    "\n",
    "b"
   ]
  },
  {
   "cell_type": "code",
   "execution_count": 13,
   "id": "29b1d0bf",
   "metadata": {
    "execution": {
     "iopub.execute_input": "2023-02-27T12:30:02.747410Z",
     "iopub.status.busy": "2023-02-27T12:30:02.746779Z",
     "iopub.status.idle": "2023-02-27T12:30:06.755306Z",
     "shell.execute_reply": "2023-02-27T12:30:06.754358Z"
    }
   },
   "outputs": [
    {
     "name": "stdout",
     "output_type": "stream",
     "text": [
      "493 ns ± 0.0952 ns per loop (mean ± std. dev. of 7 runs, 1,000,000 loops each)\n"
     ]
    }
   ],
   "source": [
    "%timeit b.a = new_value"
   ]
  },
  {
   "cell_type": "markdown",
   "id": "b61ad1d0",
   "metadata": {},
   "source": [
    "## Initialization"
   ]
  },
  {
   "cell_type": "markdown",
   "id": "d70f0d54",
   "metadata": {},
   "source": [
    "### TreeValue's Initialization"
   ]
  },
  {
   "cell_type": "code",
   "execution_count": 14,
   "id": "d32a679b",
   "metadata": {
    "execution": {
     "iopub.execute_input": "2023-02-27T12:30:06.759114Z",
     "iopub.status.busy": "2023-02-27T12:30:06.758523Z",
     "iopub.status.idle": "2023-02-27T12:30:13.853486Z",
     "shell.execute_reply": "2023-02-27T12:30:13.852649Z"
    }
   },
   "outputs": [
    {
     "name": "stdout",
     "output_type": "stream",
     "text": [
      "876 ns ± 1.6 ns per loop (mean ± std. dev. of 7 runs, 1,000,000 loops each)\n"
     ]
    }
   ],
   "source": [
    "%timeit FastTreeValue(_TREE_DATA_1)"
   ]
  },
  {
   "cell_type": "markdown",
   "id": "24f3707b",
   "metadata": {},
   "source": [
    "### Tianshou Batch's Initialization"
   ]
  },
  {
   "cell_type": "code",
   "execution_count": 15,
   "id": "ac3958df",
   "metadata": {
    "execution": {
     "iopub.execute_input": "2023-02-27T12:30:13.856967Z",
     "iopub.status.busy": "2023-02-27T12:30:13.856377Z",
     "iopub.status.idle": "2023-02-27T12:30:22.589500Z",
     "shell.execute_reply": "2023-02-27T12:30:22.588602Z"
    }
   },
   "outputs": [
    {
     "name": "stdout",
     "output_type": "stream",
     "text": [
      "10.8 µs ± 9.4 ns per loop (mean ± std. dev. of 7 runs, 100,000 loops each)\n"
     ]
    }
   ],
   "source": [
    "%timeit Batch(**_TREE_DATA_1)"
   ]
  },
  {
   "cell_type": "markdown",
   "id": "1ab82e2d",
   "metadata": {},
   "source": [
    "## Deep Copy Operation"
   ]
  },
  {
   "cell_type": "code",
   "execution_count": 16,
   "id": "210a9442",
   "metadata": {
    "execution": {
     "iopub.execute_input": "2023-02-27T12:30:22.593393Z",
     "iopub.status.busy": "2023-02-27T12:30:22.592777Z",
     "iopub.status.idle": "2023-02-27T12:30:22.596806Z",
     "shell.execute_reply": "2023-02-27T12:30:22.596132Z"
    }
   },
   "outputs": [],
   "source": [
    "import copy"
   ]
  },
  {
   "cell_type": "markdown",
   "id": "5a736274",
   "metadata": {},
   "source": [
    "### Deep Copy of TreeValue"
   ]
  },
  {
   "cell_type": "code",
   "execution_count": 17,
   "id": "f9bcadd6",
   "metadata": {
    "execution": {
     "iopub.execute_input": "2023-02-27T12:30:22.599578Z",
     "iopub.status.busy": "2023-02-27T12:30:22.599232Z",
     "iopub.status.idle": "2023-02-27T12:30:34.252959Z",
     "shell.execute_reply": "2023-02-27T12:30:34.252311Z"
    }
   },
   "outputs": [
    {
     "name": "stdout",
     "output_type": "stream",
     "text": [
      "143 µs ± 821 ns per loop (mean ± std. dev. of 7 runs, 10,000 loops each)\n"
     ]
    }
   ],
   "source": [
    "t3 = FastTreeValue(_TREE_DATA_3)\n",
    "%timeit copy.deepcopy(t3)"
   ]
  },
  {
   "cell_type": "markdown",
   "id": "bf8be7ea",
   "metadata": {},
   "source": [
    "### Deep Copy of Tianshou Batch"
   ]
  },
  {
   "cell_type": "code",
   "execution_count": 18,
   "id": "91998e6f",
   "metadata": {
    "execution": {
     "iopub.execute_input": "2023-02-27T12:30:34.256128Z",
     "iopub.status.busy": "2023-02-27T12:30:34.255696Z",
     "iopub.status.idle": "2023-02-27T12:30:45.912667Z",
     "shell.execute_reply": "2023-02-27T12:30:45.911993Z"
    }
   },
   "outputs": [
    {
     "name": "stdout",
     "output_type": "stream",
     "text": [
      "144 µs ± 1.17 µs per loop (mean ± std. dev. of 7 runs, 10,000 loops each)\n"
     ]
    }
   ],
   "source": [
    "b3 = Batch(**_TREE_DATA_3)\n",
    "%timeit copy.deepcopy(b3)"
   ]
  },
  {
   "cell_type": "markdown",
   "id": "223162fb",
   "metadata": {},
   "source": [
    "## Stack, Concat and Split Operation"
   ]
  },
  {
   "cell_type": "markdown",
   "id": "85fa4a73",
   "metadata": {},
   "source": [
    "### Performance of TreeValue"
   ]
  },
  {
   "cell_type": "code",
   "execution_count": 19,
   "id": "a0c2b697",
   "metadata": {
    "execution": {
     "iopub.execute_input": "2023-02-27T12:30:45.915815Z",
     "iopub.status.busy": "2023-02-27T12:30:45.915410Z",
     "iopub.status.idle": "2023-02-27T12:30:45.918695Z",
     "shell.execute_reply": "2023-02-27T12:30:45.918134Z"
    }
   },
   "outputs": [],
   "source": [
    "trees = [FastTreeValue(_TREE_DATA_2) for _ in range(8)]"
   ]
  },
  {
   "cell_type": "code",
   "execution_count": 20,
   "id": "017ea5a5",
   "metadata": {
    "execution": {
     "iopub.execute_input": "2023-02-27T12:30:45.921211Z",
     "iopub.status.busy": "2023-02-27T12:30:45.920836Z",
     "iopub.status.idle": "2023-02-27T12:30:45.927881Z",
     "shell.execute_reply": "2023-02-27T12:30:45.927328Z"
    }
   },
   "outputs": [
    {
     "data": {
      "text/plain": [
       "<FastTreeValue 0x7fa4d8b39e50>\n",
       "├── 'a' --> tensor([[[ 0.4259,  0.1133, -0.6068],\n",
       "│                    [-0.7104,  0.3368,  0.0771]],\n",
       "│           \n",
       "│                   [[ 0.4259,  0.1133, -0.6068],\n",
       "│                    [-0.7104,  0.3368,  0.0771]],\n",
       "│           \n",
       "│                   [[ 0.4259,  0.1133, -0.6068],\n",
       "│                    [-0.7104,  0.3368,  0.0771]],\n",
       "│           \n",
       "│                   [[ 0.4259,  0.1133, -0.6068],\n",
       "│                    [-0.7104,  0.3368,  0.0771]],\n",
       "│           \n",
       "│                   [[ 0.4259,  0.1133, -0.6068],\n",
       "│                    [-0.7104,  0.3368,  0.0771]],\n",
       "│           \n",
       "│                   [[ 0.4259,  0.1133, -0.6068],\n",
       "│                    [-0.7104,  0.3368,  0.0771]],\n",
       "│           \n",
       "│                   [[ 0.4259,  0.1133, -0.6068],\n",
       "│                    [-0.7104,  0.3368,  0.0771]],\n",
       "│           \n",
       "│                   [[ 0.4259,  0.1133, -0.6068],\n",
       "│                    [-0.7104,  0.3368,  0.0771]]])\n",
       "└── 'x' --> <FastTreeValue 0x7fa4d8b39dc0>\n",
       "    └── 'c' --> tensor([[[-1.2889,  0.5265,  0.4927,  0.7358],\n",
       "                         [-0.4130, -0.2697, -0.7697, -1.5057],\n",
       "                         [ 0.1167,  1.8936,  0.5059, -0.1902]],\n",
       "                \n",
       "                        [[-1.2889,  0.5265,  0.4927,  0.7358],\n",
       "                         [-0.4130, -0.2697, -0.7697, -1.5057],\n",
       "                         [ 0.1167,  1.8936,  0.5059, -0.1902]],\n",
       "                \n",
       "                        [[-1.2889,  0.5265,  0.4927,  0.7358],\n",
       "                         [-0.4130, -0.2697, -0.7697, -1.5057],\n",
       "                         [ 0.1167,  1.8936,  0.5059, -0.1902]],\n",
       "                \n",
       "                        [[-1.2889,  0.5265,  0.4927,  0.7358],\n",
       "                         [-0.4130, -0.2697, -0.7697, -1.5057],\n",
       "                         [ 0.1167,  1.8936,  0.5059, -0.1902]],\n",
       "                \n",
       "                        [[-1.2889,  0.5265,  0.4927,  0.7358],\n",
       "                         [-0.4130, -0.2697, -0.7697, -1.5057],\n",
       "                         [ 0.1167,  1.8936,  0.5059, -0.1902]],\n",
       "                \n",
       "                        [[-1.2889,  0.5265,  0.4927,  0.7358],\n",
       "                         [-0.4130, -0.2697, -0.7697, -1.5057],\n",
       "                         [ 0.1167,  1.8936,  0.5059, -0.1902]],\n",
       "                \n",
       "                        [[-1.2889,  0.5265,  0.4927,  0.7358],\n",
       "                         [-0.4130, -0.2697, -0.7697, -1.5057],\n",
       "                         [ 0.1167,  1.8936,  0.5059, -0.1902]],\n",
       "                \n",
       "                        [[-1.2889,  0.5265,  0.4927,  0.7358],\n",
       "                         [-0.4130, -0.2697, -0.7697, -1.5057],\n",
       "                         [ 0.1167,  1.8936,  0.5059, -0.1902]]])"
      ]
     },
     "execution_count": 20,
     "metadata": {},
     "output_type": "execute_result"
    }
   ],
   "source": [
    "t_stack = FastTreeValue.func(subside=True)(torch.stack)\n",
    "\n",
    "t_stack(trees)"
   ]
  },
  {
   "cell_type": "code",
   "execution_count": 21,
   "id": "f8b3f415",
   "metadata": {
    "execution": {
     "iopub.execute_input": "2023-02-27T12:30:45.930393Z",
     "iopub.status.busy": "2023-02-27T12:30:45.930023Z",
     "iopub.status.idle": "2023-02-27T12:30:48.586892Z",
     "shell.execute_reply": "2023-02-27T12:30:48.585958Z"
    }
   },
   "outputs": [
    {
     "name": "stdout",
     "output_type": "stream",
     "text": [
      "32.7 µs ± 64.9 ns per loop (mean ± std. dev. of 7 runs, 10,000 loops each)\n"
     ]
    }
   ],
   "source": [
    "%timeit t_stack(trees)"
   ]
  },
  {
   "cell_type": "code",
   "execution_count": 22,
   "id": "94b56771",
   "metadata": {
    "execution": {
     "iopub.execute_input": "2023-02-27T12:30:48.590487Z",
     "iopub.status.busy": "2023-02-27T12:30:48.589985Z",
     "iopub.status.idle": "2023-02-27T12:30:48.597918Z",
     "shell.execute_reply": "2023-02-27T12:30:48.597215Z"
    }
   },
   "outputs": [
    {
     "data": {
      "text/plain": [
       "<FastTreeValue 0x7fa4d8ad4130>\n",
       "├── 'a' --> tensor([[ 0.4259,  0.1133, -0.6068],\n",
       "│                   [-0.7104,  0.3368,  0.0771],\n",
       "│                   [ 0.4259,  0.1133, -0.6068],\n",
       "│                   [-0.7104,  0.3368,  0.0771],\n",
       "│                   [ 0.4259,  0.1133, -0.6068],\n",
       "│                   [-0.7104,  0.3368,  0.0771],\n",
       "│                   [ 0.4259,  0.1133, -0.6068],\n",
       "│                   [-0.7104,  0.3368,  0.0771],\n",
       "│                   [ 0.4259,  0.1133, -0.6068],\n",
       "│                   [-0.7104,  0.3368,  0.0771],\n",
       "│                   [ 0.4259,  0.1133, -0.6068],\n",
       "│                   [-0.7104,  0.3368,  0.0771],\n",
       "│                   [ 0.4259,  0.1133, -0.6068],\n",
       "│                   [-0.7104,  0.3368,  0.0771],\n",
       "│                   [ 0.4259,  0.1133, -0.6068],\n",
       "│                   [-0.7104,  0.3368,  0.0771]])\n",
       "└── 'x' --> <FastTreeValue 0x7fa4d8ad4310>\n",
       "    └── 'c' --> tensor([[-1.2889,  0.5265,  0.4927,  0.7358],\n",
       "                        [-0.4130, -0.2697, -0.7697, -1.5057],\n",
       "                        [ 0.1167,  1.8936,  0.5059, -0.1902],\n",
       "                        [-1.2889,  0.5265,  0.4927,  0.7358],\n",
       "                        [-0.4130, -0.2697, -0.7697, -1.5057],\n",
       "                        [ 0.1167,  1.8936,  0.5059, -0.1902],\n",
       "                        [-1.2889,  0.5265,  0.4927,  0.7358],\n",
       "                        [-0.4130, -0.2697, -0.7697, -1.5057],\n",
       "                        [ 0.1167,  1.8936,  0.5059, -0.1902],\n",
       "                        [-1.2889,  0.5265,  0.4927,  0.7358],\n",
       "                        [-0.4130, -0.2697, -0.7697, -1.5057],\n",
       "                        [ 0.1167,  1.8936,  0.5059, -0.1902],\n",
       "                        [-1.2889,  0.5265,  0.4927,  0.7358],\n",
       "                        [-0.4130, -0.2697, -0.7697, -1.5057],\n",
       "                        [ 0.1167,  1.8936,  0.5059, -0.1902],\n",
       "                        [-1.2889,  0.5265,  0.4927,  0.7358],\n",
       "                        [-0.4130, -0.2697, -0.7697, -1.5057],\n",
       "                        [ 0.1167,  1.8936,  0.5059, -0.1902],\n",
       "                        [-1.2889,  0.5265,  0.4927,  0.7358],\n",
       "                        [-0.4130, -0.2697, -0.7697, -1.5057],\n",
       "                        [ 0.1167,  1.8936,  0.5059, -0.1902],\n",
       "                        [-1.2889,  0.5265,  0.4927,  0.7358],\n",
       "                        [-0.4130, -0.2697, -0.7697, -1.5057],\n",
       "                        [ 0.1167,  1.8936,  0.5059, -0.1902]])"
      ]
     },
     "execution_count": 22,
     "metadata": {},
     "output_type": "execute_result"
    }
   ],
   "source": [
    "t_cat = FastTreeValue.func(subside=True)(torch.cat)\n",
    "\n",
    "t_cat(trees)"
   ]
  },
  {
   "cell_type": "code",
   "execution_count": 23,
   "id": "5e9c06a6",
   "metadata": {
    "execution": {
     "iopub.execute_input": "2023-02-27T12:30:48.600917Z",
     "iopub.status.busy": "2023-02-27T12:30:48.600452Z",
     "iopub.status.idle": "2023-02-27T12:30:51.071093Z",
     "shell.execute_reply": "2023-02-27T12:30:51.069903Z"
    }
   },
   "outputs": [
    {
     "name": "stdout",
     "output_type": "stream",
     "text": [
      "30.4 µs ± 53.2 ns per loop (mean ± std. dev. of 7 runs, 10,000 loops each)\n"
     ]
    }
   ],
   "source": [
    "%timeit t_cat(trees)"
   ]
  },
  {
   "cell_type": "code",
   "execution_count": 24,
   "id": "a3ab5c8f",
   "metadata": {
    "execution": {
     "iopub.execute_input": "2023-02-27T12:30:51.074626Z",
     "iopub.status.busy": "2023-02-27T12:30:51.074019Z",
     "iopub.status.idle": "2023-02-27T12:30:55.757179Z",
     "shell.execute_reply": "2023-02-27T12:30:55.756255Z"
    }
   },
   "outputs": [
    {
     "name": "stdout",
     "output_type": "stream",
     "text": [
      "57.6 µs ± 177 ns per loop (mean ± std. dev. of 7 runs, 10,000 loops each)\n"
     ]
    }
   ],
   "source": [
    "t_split = FastTreeValue.func(rise=True)(torch.split)\n",
    "tree = FastTreeValue({\n",
    "    'obs': torch.randn(8, 4, 84, 84),\n",
    "    'action': torch.randint(0, 6, size=(8, 1,)),\n",
    "    'reward': torch.rand(8, 1),\n",
    "})\n",
    "\n",
    "%timeit t_split(tree, 1)"
   ]
  },
  {
   "cell_type": "markdown",
   "id": "31c3ec0b",
   "metadata": {},
   "source": [
    "### Performance of Tianshou Batch"
   ]
  },
  {
   "cell_type": "code",
   "execution_count": 25,
   "id": "9ead828a",
   "metadata": {
    "execution": {
     "iopub.execute_input": "2023-02-27T12:30:55.760995Z",
     "iopub.status.busy": "2023-02-27T12:30:55.760503Z",
     "iopub.status.idle": "2023-02-27T12:30:55.769198Z",
     "shell.execute_reply": "2023-02-27T12:30:55.768559Z"
    }
   },
   "outputs": [
    {
     "data": {
      "text/plain": [
       "Batch(\n",
       "    a: tensor([[[ 0.4259,  0.1133, -0.6068],\n",
       "                [-0.7104,  0.3368,  0.0771]],\n",
       "       \n",
       "               [[ 0.4259,  0.1133, -0.6068],\n",
       "                [-0.7104,  0.3368,  0.0771]],\n",
       "       \n",
       "               [[ 0.4259,  0.1133, -0.6068],\n",
       "                [-0.7104,  0.3368,  0.0771]],\n",
       "       \n",
       "               [[ 0.4259,  0.1133, -0.6068],\n",
       "                [-0.7104,  0.3368,  0.0771]],\n",
       "       \n",
       "               [[ 0.4259,  0.1133, -0.6068],\n",
       "                [-0.7104,  0.3368,  0.0771]],\n",
       "       \n",
       "               [[ 0.4259,  0.1133, -0.6068],\n",
       "                [-0.7104,  0.3368,  0.0771]],\n",
       "       \n",
       "               [[ 0.4259,  0.1133, -0.6068],\n",
       "                [-0.7104,  0.3368,  0.0771]],\n",
       "       \n",
       "               [[ 0.4259,  0.1133, -0.6068],\n",
       "                [-0.7104,  0.3368,  0.0771]]]),\n",
       "    x: Batch(\n",
       "           c: tensor([[[-1.2889,  0.5265,  0.4927,  0.7358],\n",
       "                       [-0.4130, -0.2697, -0.7697, -1.5057],\n",
       "                       [ 0.1167,  1.8936,  0.5059, -0.1902]],\n",
       "              \n",
       "                      [[-1.2889,  0.5265,  0.4927,  0.7358],\n",
       "                       [-0.4130, -0.2697, -0.7697, -1.5057],\n",
       "                       [ 0.1167,  1.8936,  0.5059, -0.1902]],\n",
       "              \n",
       "                      [[-1.2889,  0.5265,  0.4927,  0.7358],\n",
       "                       [-0.4130, -0.2697, -0.7697, -1.5057],\n",
       "                       [ 0.1167,  1.8936,  0.5059, -0.1902]],\n",
       "              \n",
       "                      [[-1.2889,  0.5265,  0.4927,  0.7358],\n",
       "                       [-0.4130, -0.2697, -0.7697, -1.5057],\n",
       "                       [ 0.1167,  1.8936,  0.5059, -0.1902]],\n",
       "              \n",
       "                      [[-1.2889,  0.5265,  0.4927,  0.7358],\n",
       "                       [-0.4130, -0.2697, -0.7697, -1.5057],\n",
       "                       [ 0.1167,  1.8936,  0.5059, -0.1902]],\n",
       "              \n",
       "                      [[-1.2889,  0.5265,  0.4927,  0.7358],\n",
       "                       [-0.4130, -0.2697, -0.7697, -1.5057],\n",
       "                       [ 0.1167,  1.8936,  0.5059, -0.1902]],\n",
       "              \n",
       "                      [[-1.2889,  0.5265,  0.4927,  0.7358],\n",
       "                       [-0.4130, -0.2697, -0.7697, -1.5057],\n",
       "                       [ 0.1167,  1.8936,  0.5059, -0.1902]],\n",
       "              \n",
       "                      [[-1.2889,  0.5265,  0.4927,  0.7358],\n",
       "                       [-0.4130, -0.2697, -0.7697, -1.5057],\n",
       "                       [ 0.1167,  1.8936,  0.5059, -0.1902]]]),\n",
       "       ),\n",
       ")"
      ]
     },
     "execution_count": 25,
     "metadata": {},
     "output_type": "execute_result"
    }
   ],
   "source": [
    "batches = [Batch(**_TREE_DATA_2) for _ in range(8)]\n",
    "\n",
    "Batch.stack(batches)"
   ]
  },
  {
   "cell_type": "code",
   "execution_count": 26,
   "id": "ec9037a3",
   "metadata": {
    "execution": {
     "iopub.execute_input": "2023-02-27T12:30:55.772433Z",
     "iopub.status.busy": "2023-02-27T12:30:55.771854Z",
     "iopub.status.idle": "2023-02-27T12:31:02.048908Z",
     "shell.execute_reply": "2023-02-27T12:31:02.048056Z"
    }
   },
   "outputs": [
    {
     "name": "stdout",
     "output_type": "stream",
     "text": [
      "77.2 µs ± 153 ns per loop (mean ± std. dev. of 7 runs, 10,000 loops each)\n"
     ]
    }
   ],
   "source": [
    "%timeit Batch.stack(batches)"
   ]
  },
  {
   "cell_type": "code",
   "execution_count": 27,
   "id": "cb8ab77e",
   "metadata": {
    "execution": {
     "iopub.execute_input": "2023-02-27T12:31:02.052358Z",
     "iopub.status.busy": "2023-02-27T12:31:02.051764Z",
     "iopub.status.idle": "2023-02-27T12:31:02.059959Z",
     "shell.execute_reply": "2023-02-27T12:31:02.059299Z"
    }
   },
   "outputs": [
    {
     "data": {
      "text/plain": [
       "Batch(\n",
       "    a: tensor([[ 0.4259,  0.1133, -0.6068],\n",
       "               [-0.7104,  0.3368,  0.0771],\n",
       "               [ 0.4259,  0.1133, -0.6068],\n",
       "               [-0.7104,  0.3368,  0.0771],\n",
       "               [ 0.4259,  0.1133, -0.6068],\n",
       "               [-0.7104,  0.3368,  0.0771],\n",
       "               [ 0.4259,  0.1133, -0.6068],\n",
       "               [-0.7104,  0.3368,  0.0771],\n",
       "               [ 0.4259,  0.1133, -0.6068],\n",
       "               [-0.7104,  0.3368,  0.0771],\n",
       "               [ 0.4259,  0.1133, -0.6068],\n",
       "               [-0.7104,  0.3368,  0.0771],\n",
       "               [ 0.4259,  0.1133, -0.6068],\n",
       "               [-0.7104,  0.3368,  0.0771],\n",
       "               [ 0.4259,  0.1133, -0.6068],\n",
       "               [-0.7104,  0.3368,  0.0771]]),\n",
       "    x: Batch(\n",
       "           c: tensor([[-1.2889,  0.5265,  0.4927,  0.7358],\n",
       "                      [-0.4130, -0.2697, -0.7697, -1.5057],\n",
       "                      [ 0.1167,  1.8936,  0.5059, -0.1902],\n",
       "                      [-1.2889,  0.5265,  0.4927,  0.7358],\n",
       "                      [-0.4130, -0.2697, -0.7697, -1.5057],\n",
       "                      [ 0.1167,  1.8936,  0.5059, -0.1902],\n",
       "                      [-1.2889,  0.5265,  0.4927,  0.7358],\n",
       "                      [-0.4130, -0.2697, -0.7697, -1.5057],\n",
       "                      [ 0.1167,  1.8936,  0.5059, -0.1902],\n",
       "                      [-1.2889,  0.5265,  0.4927,  0.7358],\n",
       "                      [-0.4130, -0.2697, -0.7697, -1.5057],\n",
       "                      [ 0.1167,  1.8936,  0.5059, -0.1902],\n",
       "                      [-1.2889,  0.5265,  0.4927,  0.7358],\n",
       "                      [-0.4130, -0.2697, -0.7697, -1.5057],\n",
       "                      [ 0.1167,  1.8936,  0.5059, -0.1902],\n",
       "                      [-1.2889,  0.5265,  0.4927,  0.7358],\n",
       "                      [-0.4130, -0.2697, -0.7697, -1.5057],\n",
       "                      [ 0.1167,  1.8936,  0.5059, -0.1902],\n",
       "                      [-1.2889,  0.5265,  0.4927,  0.7358],\n",
       "                      [-0.4130, -0.2697, -0.7697, -1.5057],\n",
       "                      [ 0.1167,  1.8936,  0.5059, -0.1902],\n",
       "                      [-1.2889,  0.5265,  0.4927,  0.7358],\n",
       "                      [-0.4130, -0.2697, -0.7697, -1.5057],\n",
       "                      [ 0.1167,  1.8936,  0.5059, -0.1902]]),\n",
       "       ),\n",
       ")"
      ]
     },
     "execution_count": 27,
     "metadata": {},
     "output_type": "execute_result"
    }
   ],
   "source": [
    "Batch.cat(batches)"
   ]
  },
  {
   "cell_type": "code",
   "execution_count": 28,
   "id": "18dfb045",
   "metadata": {
    "execution": {
     "iopub.execute_input": "2023-02-27T12:31:02.063163Z",
     "iopub.status.busy": "2023-02-27T12:31:02.062687Z",
     "iopub.status.idle": "2023-02-27T12:31:13.783119Z",
     "shell.execute_reply": "2023-02-27T12:31:13.782209Z"
    }
   },
   "outputs": [
    {
     "name": "stdout",
     "output_type": "stream",
     "text": [
      "144 µs ± 153 ns per loop (mean ± std. dev. of 7 runs, 10,000 loops each)\n"
     ]
    }
   ],
   "source": [
    "%timeit Batch.cat(batches)"
   ]
  },
  {
   "cell_type": "code",
   "execution_count": 29,
   "id": "c6688e51",
   "metadata": {
    "execution": {
     "iopub.execute_input": "2023-02-27T12:31:13.786833Z",
     "iopub.status.busy": "2023-02-27T12:31:13.786063Z",
     "iopub.status.idle": "2023-02-27T12:31:16.426729Z",
     "shell.execute_reply": "2023-02-27T12:31:16.425871Z"
    }
   },
   "outputs": [
    {
     "name": "stdout",
     "output_type": "stream",
     "text": [
      "324 µs ± 2.61 µs per loop (mean ± std. dev. of 7 runs, 1,000 loops each)\n"
     ]
    }
   ],
   "source": [
    "batch = Batch({\n",
    "    'obs': torch.randn(8, 4, 84, 84),\n",
    "    'action': torch.randint(0, 6, size=(8, 1,)),\n",
    "    'reward': torch.rand(8, 1)}\n",
    ")\n",
    "\n",
    "%timeit list(Batch.split(batch, 1, shuffle=False, merge_last=True))"
   ]
  },
  {
   "cell_type": "code",
   "execution_count": null,
   "id": "2539fbd9",
   "metadata": {},
   "outputs": [],
   "source": []
  }
 ],
 "metadata": {
  "kernelspec": {
   "display_name": "Python 3 (ipykernel)",
   "language": "python",
   "name": "python3"
  },
  "language_info": {
   "codemirror_mode": {
    "name": "ipython",
    "version": 3
   },
   "file_extension": ".py",
   "mimetype": "text/x-python",
   "name": "python",
   "nbconvert_exporter": "python",
   "pygments_lexer": "ipython3",
   "version": "3.8.16"
  }
 },
 "nbformat": 4,
 "nbformat_minor": 5
}
