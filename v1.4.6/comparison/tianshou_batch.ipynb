{
 "cells": [
  {
   "cell_type": "markdown",
   "id": "9d39d946",
   "metadata": {},
   "source": [
    "# Comparison Between TreeValue and Tianshou Batch"
   ]
  },
  {
   "cell_type": "markdown",
   "id": "3c6db2d4",
   "metadata": {},
   "source": [
    "In this section, we will take a look at the feature and performance of the [Tianshou Batch](https://github.com/thu-ml/tianshou) library, which is developed by Tsinghua Machine Learning Group."
   ]
  },
  {
   "cell_type": "markdown",
   "id": "069361b0",
   "metadata": {},
   "source": [
    "Before starting the comparison, let us define some thing."
   ]
  },
  {
   "cell_type": "code",
   "execution_count": 1,
   "id": "06fc8d26",
   "metadata": {
    "execution": {
     "iopub.execute_input": "2023-02-27T12:03:29.360612Z",
     "iopub.status.busy": "2023-02-27T12:03:29.360020Z",
     "iopub.status.idle": "2023-02-27T12:03:30.275095Z",
     "shell.execute_reply": "2023-02-27T12:03:30.274425Z"
    }
   },
   "outputs": [
    {
     "name": "stderr",
     "output_type": "stream",
     "text": [
      "/opt/hostedtoolcache/Python/3.8.16/x64/lib/python3.8/site-packages/tqdm/auto.py:22: TqdmWarning: IProgress not found. Please update jupyter and ipywidgets. See https://ipywidgets.readthedocs.io/en/stable/user_install.html\n",
      "  from .autonotebook import tqdm as notebook_tqdm\n"
     ]
    }
   ],
   "source": [
    "import torch \n",
    "\n",
    "_TREE_DATA_1 = {'a': 1, 'b': 2, 'x': {'c': 3, 'd': 4}}\n",
    "_TREE_DATA_2 = {\n",
    "    'a': torch.randn(2, 3), \n",
    "    'x': {\n",
    "        'c': torch.randn(3, 4)\n",
    "    },\n",
    "}\n",
    "_TREE_DATA_3 = {\n",
    "    'obs': torch.randn(4, 84, 84),\n",
    "    'action': torch.randint(0, 6, size=(1,)),\n",
    "    'reward': torch.rand(1),\n",
    "}"
   ]
  },
  {
   "cell_type": "markdown",
   "id": "83461b25",
   "metadata": {},
   "source": [
    "## Read and Write Operation"
   ]
  },
  {
   "cell_type": "markdown",
   "id": "067b3f73",
   "metadata": {},
   "source": [
    "Reading and writing are the two most common operations in the tree data structure based on the data model (TreeValue and Tianshou Batch both belong to this type), so this section will compare the reading and writing performance of these two libraries."
   ]
  },
  {
   "cell_type": "markdown",
   "id": "5d09a5b7",
   "metadata": {},
   "source": [
    "### TreeValue's Get and Set"
   ]
  },
  {
   "cell_type": "code",
   "execution_count": 2,
   "id": "9519c4bb",
   "metadata": {
    "execution": {
     "iopub.execute_input": "2023-02-27T12:03:30.278354Z",
     "iopub.status.busy": "2023-02-27T12:03:30.277762Z",
     "iopub.status.idle": "2023-02-27T12:03:30.554599Z",
     "shell.execute_reply": "2023-02-27T12:03:30.553928Z"
    }
   },
   "outputs": [],
   "source": [
    "from treevalue import FastTreeValue\n",
    "\n",
    "t = FastTreeValue(_TREE_DATA_2)"
   ]
  },
  {
   "cell_type": "code",
   "execution_count": 3,
   "id": "11c37677",
   "metadata": {
    "execution": {
     "iopub.execute_input": "2023-02-27T12:03:30.557762Z",
     "iopub.status.busy": "2023-02-27T12:03:30.557346Z",
     "iopub.status.idle": "2023-02-27T12:03:30.567701Z",
     "shell.execute_reply": "2023-02-27T12:03:30.567078Z"
    }
   },
   "outputs": [
    {
     "data": {
      "text/plain": [
       "<FastTreeValue 0x7f19c8395310>\n",
       "├── 'a' --> tensor([[-0.3284, -0.3498, -0.5028],\n",
       "│                   [-0.1772, -0.1437,  1.2174]])\n",
       "└── 'x' --> <FastTreeValue 0x7f19c8395130>\n",
       "    └── 'c' --> tensor([[ 1.2162,  0.1717, -0.4382,  0.6088],\n",
       "                        [-0.5225, -0.0738, -1.2179,  1.6785],\n",
       "                        [-0.5423,  0.0741,  0.7471, -0.5535]])"
      ]
     },
     "execution_count": 3,
     "metadata": {},
     "output_type": "execute_result"
    }
   ],
   "source": [
    "t"
   ]
  },
  {
   "cell_type": "code",
   "execution_count": 4,
   "id": "fd70b0b9",
   "metadata": {
    "execution": {
     "iopub.execute_input": "2023-02-27T12:03:30.570885Z",
     "iopub.status.busy": "2023-02-27T12:03:30.570400Z",
     "iopub.status.idle": "2023-02-27T12:03:30.577299Z",
     "shell.execute_reply": "2023-02-27T12:03:30.576698Z"
    }
   },
   "outputs": [
    {
     "data": {
      "text/plain": [
       "tensor([[-0.3284, -0.3498, -0.5028],\n",
       "        [-0.1772, -0.1437,  1.2174]])"
      ]
     },
     "execution_count": 4,
     "metadata": {},
     "output_type": "execute_result"
    }
   ],
   "source": [
    "t.a"
   ]
  },
  {
   "cell_type": "code",
   "execution_count": 5,
   "id": "c18197bd",
   "metadata": {
    "execution": {
     "iopub.execute_input": "2023-02-27T12:03:30.580369Z",
     "iopub.status.busy": "2023-02-27T12:03:30.579899Z",
     "iopub.status.idle": "2023-02-27T12:03:35.408371Z",
     "shell.execute_reply": "2023-02-27T12:03:35.407658Z"
    }
   },
   "outputs": [
    {
     "name": "stdout",
     "output_type": "stream",
     "text": [
      "59.1 ns ± 0.0574 ns per loop (mean ± std. dev. of 7 runs, 10,000,000 loops each)\n"
     ]
    }
   ],
   "source": [
    "%timeit t.a"
   ]
  },
  {
   "cell_type": "code",
   "execution_count": 6,
   "id": "bd52f867",
   "metadata": {
    "execution": {
     "iopub.execute_input": "2023-02-27T12:03:35.411652Z",
     "iopub.status.busy": "2023-02-27T12:03:35.411083Z",
     "iopub.status.idle": "2023-02-27T12:03:35.417758Z",
     "shell.execute_reply": "2023-02-27T12:03:35.417160Z"
    }
   },
   "outputs": [
    {
     "data": {
      "text/plain": [
       "<FastTreeValue 0x7f19c8395310>\n",
       "├── 'a' --> tensor([[ 1.2886, -1.3147,  0.3933],\n",
       "│                   [ 0.7399,  0.7805,  1.6314]])\n",
       "└── 'x' --> <FastTreeValue 0x7f19c8395130>\n",
       "    └── 'c' --> tensor([[ 1.2162,  0.1717, -0.4382,  0.6088],\n",
       "                        [-0.5225, -0.0738, -1.2179,  1.6785],\n",
       "                        [-0.5423,  0.0741,  0.7471, -0.5535]])"
      ]
     },
     "execution_count": 6,
     "metadata": {},
     "output_type": "execute_result"
    }
   ],
   "source": [
    "new_value = torch.randn(2, 3)\n",
    "t.a = new_value\n",
    "\n",
    "t"
   ]
  },
  {
   "cell_type": "code",
   "execution_count": 7,
   "id": "bbe04d1c",
   "metadata": {
    "execution": {
     "iopub.execute_input": "2023-02-27T12:03:35.420631Z",
     "iopub.status.busy": "2023-02-27T12:03:35.420203Z",
     "iopub.status.idle": "2023-02-27T12:03:40.710837Z",
     "shell.execute_reply": "2023-02-27T12:03:40.710070Z"
    }
   },
   "outputs": [
    {
     "name": "stdout",
     "output_type": "stream",
     "text": [
      "65.2 ns ± 0.0282 ns per loop (mean ± std. dev. of 7 runs, 10,000,000 loops each)\n"
     ]
    }
   ],
   "source": [
    "%timeit t.a = new_value"
   ]
  },
  {
   "cell_type": "markdown",
   "id": "48c49731",
   "metadata": {},
   "source": [
    "### Tianshou Batch's Get and Set"
   ]
  },
  {
   "cell_type": "code",
   "execution_count": 8,
   "id": "f1bb14c1",
   "metadata": {
    "execution": {
     "iopub.execute_input": "2023-02-27T12:03:40.713884Z",
     "iopub.status.busy": "2023-02-27T12:03:40.713530Z",
     "iopub.status.idle": "2023-02-27T12:03:41.050389Z",
     "shell.execute_reply": "2023-02-27T12:03:41.049716Z"
    }
   },
   "outputs": [],
   "source": [
    "from tianshou.data import Batch\n",
    "\n",
    "b = Batch(**_TREE_DATA_2)"
   ]
  },
  {
   "cell_type": "code",
   "execution_count": 9,
   "id": "cb0777c3",
   "metadata": {
    "execution": {
     "iopub.execute_input": "2023-02-27T12:03:41.053480Z",
     "iopub.status.busy": "2023-02-27T12:03:41.052990Z",
     "iopub.status.idle": "2023-02-27T12:03:41.058509Z",
     "shell.execute_reply": "2023-02-27T12:03:41.057904Z"
    }
   },
   "outputs": [
    {
     "data": {
      "text/plain": [
       "Batch(\n",
       "    a: tensor([[-0.3284, -0.3498, -0.5028],\n",
       "               [-0.1772, -0.1437,  1.2174]]),\n",
       "    x: Batch(\n",
       "           c: tensor([[ 1.2162,  0.1717, -0.4382,  0.6088],\n",
       "                      [-0.5225, -0.0738, -1.2179,  1.6785],\n",
       "                      [-0.5423,  0.0741,  0.7471, -0.5535]]),\n",
       "       ),\n",
       ")"
      ]
     },
     "execution_count": 9,
     "metadata": {},
     "output_type": "execute_result"
    }
   ],
   "source": [
    "b"
   ]
  },
  {
   "cell_type": "code",
   "execution_count": 10,
   "id": "43ef8ea3",
   "metadata": {
    "execution": {
     "iopub.execute_input": "2023-02-27T12:03:41.061471Z",
     "iopub.status.busy": "2023-02-27T12:03:41.060877Z",
     "iopub.status.idle": "2023-02-27T12:03:41.066491Z",
     "shell.execute_reply": "2023-02-27T12:03:41.065855Z"
    }
   },
   "outputs": [
    {
     "data": {
      "text/plain": [
       "tensor([[-0.3284, -0.3498, -0.5028],\n",
       "        [-0.1772, -0.1437,  1.2174]])"
      ]
     },
     "execution_count": 10,
     "metadata": {},
     "output_type": "execute_result"
    }
   ],
   "source": [
    "b.a"
   ]
  },
  {
   "cell_type": "code",
   "execution_count": 11,
   "id": "b785ab72",
   "metadata": {
    "execution": {
     "iopub.execute_input": "2023-02-27T12:03:41.069035Z",
     "iopub.status.busy": "2023-02-27T12:03:41.068809Z",
     "iopub.status.idle": "2023-02-27T12:03:45.491624Z",
     "shell.execute_reply": "2023-02-27T12:03:45.490819Z"
    }
   },
   "outputs": [
    {
     "name": "stdout",
     "output_type": "stream",
     "text": [
      "54.3 ns ± 0.0371 ns per loop (mean ± std. dev. of 7 runs, 10,000,000 loops each)\n"
     ]
    }
   ],
   "source": [
    "%timeit b.a"
   ]
  },
  {
   "cell_type": "code",
   "execution_count": 12,
   "id": "ad54dc69",
   "metadata": {
    "execution": {
     "iopub.execute_input": "2023-02-27T12:03:45.494683Z",
     "iopub.status.busy": "2023-02-27T12:03:45.494318Z",
     "iopub.status.idle": "2023-02-27T12:03:45.500775Z",
     "shell.execute_reply": "2023-02-27T12:03:45.500200Z"
    }
   },
   "outputs": [
    {
     "data": {
      "text/plain": [
       "Batch(\n",
       "    a: tensor([[-0.3814,  0.2009, -0.6955],\n",
       "               [ 0.0632,  1.0818, -1.2763]]),\n",
       "    x: Batch(\n",
       "           c: tensor([[ 1.2162,  0.1717, -0.4382,  0.6088],\n",
       "                      [-0.5225, -0.0738, -1.2179,  1.6785],\n",
       "                      [-0.5423,  0.0741,  0.7471, -0.5535]]),\n",
       "       ),\n",
       ")"
      ]
     },
     "execution_count": 12,
     "metadata": {},
     "output_type": "execute_result"
    }
   ],
   "source": [
    "new_value = torch.randn(2, 3)\n",
    "b.a = new_value\n",
    "\n",
    "b"
   ]
  },
  {
   "cell_type": "code",
   "execution_count": 13,
   "id": "29b1d0bf",
   "metadata": {
    "execution": {
     "iopub.execute_input": "2023-02-27T12:03:45.503171Z",
     "iopub.status.busy": "2023-02-27T12:03:45.502827Z",
     "iopub.status.idle": "2023-02-27T12:03:49.443245Z",
     "shell.execute_reply": "2023-02-27T12:03:49.442586Z"
    }
   },
   "outputs": [
    {
     "name": "stdout",
     "output_type": "stream",
     "text": [
      "485 ns ± 0.292 ns per loop (mean ± std. dev. of 7 runs, 1,000,000 loops each)\n"
     ]
    }
   ],
   "source": [
    "%timeit b.a = new_value"
   ]
  },
  {
   "cell_type": "markdown",
   "id": "b61ad1d0",
   "metadata": {},
   "source": [
    "## Initialization"
   ]
  },
  {
   "cell_type": "markdown",
   "id": "d70f0d54",
   "metadata": {},
   "source": [
    "### TreeValue's Initialization"
   ]
  },
  {
   "cell_type": "code",
   "execution_count": 14,
   "id": "d32a679b",
   "metadata": {
    "execution": {
     "iopub.execute_input": "2023-02-27T12:03:49.446221Z",
     "iopub.status.busy": "2023-02-27T12:03:49.445863Z",
     "iopub.status.idle": "2023-02-27T12:03:56.197687Z",
     "shell.execute_reply": "2023-02-27T12:03:56.197023Z"
    }
   },
   "outputs": [
    {
     "name": "stdout",
     "output_type": "stream",
     "text": [
      "831 ns ± 0.849 ns per loop (mean ± std. dev. of 7 runs, 1,000,000 loops each)\n"
     ]
    }
   ],
   "source": [
    "%timeit FastTreeValue(_TREE_DATA_1)"
   ]
  },
  {
   "cell_type": "markdown",
   "id": "24f3707b",
   "metadata": {},
   "source": [
    "### Tianshou Batch's Initialization"
   ]
  },
  {
   "cell_type": "code",
   "execution_count": 15,
   "id": "ac3958df",
   "metadata": {
    "execution": {
     "iopub.execute_input": "2023-02-27T12:03:56.200672Z",
     "iopub.status.busy": "2023-02-27T12:03:56.200311Z",
     "iopub.status.idle": "2023-02-27T12:04:05.435147Z",
     "shell.execute_reply": "2023-02-27T12:04:05.434481Z"
    }
   },
   "outputs": [
    {
     "name": "stdout",
     "output_type": "stream",
     "text": [
      "11.4 µs ± 48.2 ns per loop (mean ± std. dev. of 7 runs, 100,000 loops each)\n"
     ]
    }
   ],
   "source": [
    "%timeit Batch(**_TREE_DATA_1)"
   ]
  },
  {
   "cell_type": "markdown",
   "id": "1ab82e2d",
   "metadata": {},
   "source": [
    "## Deep Copy Operation"
   ]
  },
  {
   "cell_type": "code",
   "execution_count": 16,
   "id": "210a9442",
   "metadata": {
    "execution": {
     "iopub.execute_input": "2023-02-27T12:04:05.437783Z",
     "iopub.status.busy": "2023-02-27T12:04:05.437428Z",
     "iopub.status.idle": "2023-02-27T12:04:05.441253Z",
     "shell.execute_reply": "2023-02-27T12:04:05.440682Z"
    }
   },
   "outputs": [],
   "source": [
    "import copy"
   ]
  },
  {
   "cell_type": "markdown",
   "id": "5a736274",
   "metadata": {},
   "source": [
    "### Deep Copy of TreeValue"
   ]
  },
  {
   "cell_type": "code",
   "execution_count": 17,
   "id": "f9bcadd6",
   "metadata": {
    "execution": {
     "iopub.execute_input": "2023-02-27T12:04:05.443580Z",
     "iopub.status.busy": "2023-02-27T12:04:05.443243Z",
     "iopub.status.idle": "2023-02-27T12:04:16.546168Z",
     "shell.execute_reply": "2023-02-27T12:04:16.545506Z"
    }
   },
   "outputs": [
    {
     "name": "stdout",
     "output_type": "stream",
     "text": [
      "137 µs ± 833 ns per loop (mean ± std. dev. of 7 runs, 10,000 loops each)\n"
     ]
    }
   ],
   "source": [
    "t3 = FastTreeValue(_TREE_DATA_3)\n",
    "%timeit copy.deepcopy(t3)"
   ]
  },
  {
   "cell_type": "markdown",
   "id": "bf8be7ea",
   "metadata": {},
   "source": [
    "### Deep Copy of Tianshou Batch"
   ]
  },
  {
   "cell_type": "code",
   "execution_count": 18,
   "id": "91998e6f",
   "metadata": {
    "execution": {
     "iopub.execute_input": "2023-02-27T12:04:16.552692Z",
     "iopub.status.busy": "2023-02-27T12:04:16.552466Z",
     "iopub.status.idle": "2023-02-27T12:04:27.819984Z",
     "shell.execute_reply": "2023-02-27T12:04:27.819370Z"
    }
   },
   "outputs": [
    {
     "name": "stdout",
     "output_type": "stream",
     "text": [
      "139 µs ± 396 ns per loop (mean ± std. dev. of 7 runs, 10,000 loops each)\n"
     ]
    }
   ],
   "source": [
    "b3 = Batch(**_TREE_DATA_3)\n",
    "%timeit copy.deepcopy(b3)"
   ]
  },
  {
   "cell_type": "markdown",
   "id": "223162fb",
   "metadata": {},
   "source": [
    "## Stack, Concat and Split Operation"
   ]
  },
  {
   "cell_type": "markdown",
   "id": "85fa4a73",
   "metadata": {},
   "source": [
    "### Performance of TreeValue"
   ]
  },
  {
   "cell_type": "code",
   "execution_count": 19,
   "id": "a0c2b697",
   "metadata": {
    "execution": {
     "iopub.execute_input": "2023-02-27T12:04:27.823905Z",
     "iopub.status.busy": "2023-02-27T12:04:27.822954Z",
     "iopub.status.idle": "2023-02-27T12:04:27.827168Z",
     "shell.execute_reply": "2023-02-27T12:04:27.826638Z"
    }
   },
   "outputs": [],
   "source": [
    "trees = [FastTreeValue(_TREE_DATA_2) for _ in range(8)]"
   ]
  },
  {
   "cell_type": "code",
   "execution_count": 20,
   "id": "017ea5a5",
   "metadata": {
    "execution": {
     "iopub.execute_input": "2023-02-27T12:04:27.830750Z",
     "iopub.status.busy": "2023-02-27T12:04:27.829866Z",
     "iopub.status.idle": "2023-02-27T12:04:27.839016Z",
     "shell.execute_reply": "2023-02-27T12:04:27.838442Z"
    }
   },
   "outputs": [
    {
     "data": {
      "text/plain": [
       "<FastTreeValue 0x7f19c8395820>\n",
       "├── 'a' --> tensor([[[-0.3284, -0.3498, -0.5028],\n",
       "│                    [-0.1772, -0.1437,  1.2174]],\n",
       "│           \n",
       "│                   [[-0.3284, -0.3498, -0.5028],\n",
       "│                    [-0.1772, -0.1437,  1.2174]],\n",
       "│           \n",
       "│                   [[-0.3284, -0.3498, -0.5028],\n",
       "│                    [-0.1772, -0.1437,  1.2174]],\n",
       "│           \n",
       "│                   [[-0.3284, -0.3498, -0.5028],\n",
       "│                    [-0.1772, -0.1437,  1.2174]],\n",
       "│           \n",
       "│                   [[-0.3284, -0.3498, -0.5028],\n",
       "│                    [-0.1772, -0.1437,  1.2174]],\n",
       "│           \n",
       "│                   [[-0.3284, -0.3498, -0.5028],\n",
       "│                    [-0.1772, -0.1437,  1.2174]],\n",
       "│           \n",
       "│                   [[-0.3284, -0.3498, -0.5028],\n",
       "│                    [-0.1772, -0.1437,  1.2174]],\n",
       "│           \n",
       "│                   [[-0.3284, -0.3498, -0.5028],\n",
       "│                    [-0.1772, -0.1437,  1.2174]]])\n",
       "└── 'x' --> <FastTreeValue 0x7f19c8395220>\n",
       "    └── 'c' --> tensor([[[ 1.2162,  0.1717, -0.4382,  0.6088],\n",
       "                         [-0.5225, -0.0738, -1.2179,  1.6785],\n",
       "                         [-0.5423,  0.0741,  0.7471, -0.5535]],\n",
       "                \n",
       "                        [[ 1.2162,  0.1717, -0.4382,  0.6088],\n",
       "                         [-0.5225, -0.0738, -1.2179,  1.6785],\n",
       "                         [-0.5423,  0.0741,  0.7471, -0.5535]],\n",
       "                \n",
       "                        [[ 1.2162,  0.1717, -0.4382,  0.6088],\n",
       "                         [-0.5225, -0.0738, -1.2179,  1.6785],\n",
       "                         [-0.5423,  0.0741,  0.7471, -0.5535]],\n",
       "                \n",
       "                        [[ 1.2162,  0.1717, -0.4382,  0.6088],\n",
       "                         [-0.5225, -0.0738, -1.2179,  1.6785],\n",
       "                         [-0.5423,  0.0741,  0.7471, -0.5535]],\n",
       "                \n",
       "                        [[ 1.2162,  0.1717, -0.4382,  0.6088],\n",
       "                         [-0.5225, -0.0738, -1.2179,  1.6785],\n",
       "                         [-0.5423,  0.0741,  0.7471, -0.5535]],\n",
       "                \n",
       "                        [[ 1.2162,  0.1717, -0.4382,  0.6088],\n",
       "                         [-0.5225, -0.0738, -1.2179,  1.6785],\n",
       "                         [-0.5423,  0.0741,  0.7471, -0.5535]],\n",
       "                \n",
       "                        [[ 1.2162,  0.1717, -0.4382,  0.6088],\n",
       "                         [-0.5225, -0.0738, -1.2179,  1.6785],\n",
       "                         [-0.5423,  0.0741,  0.7471, -0.5535]],\n",
       "                \n",
       "                        [[ 1.2162,  0.1717, -0.4382,  0.6088],\n",
       "                         [-0.5225, -0.0738, -1.2179,  1.6785],\n",
       "                         [-0.5423,  0.0741,  0.7471, -0.5535]]])"
      ]
     },
     "execution_count": 20,
     "metadata": {},
     "output_type": "execute_result"
    }
   ],
   "source": [
    "t_stack = FastTreeValue.func(subside=True)(torch.stack)\n",
    "\n",
    "t_stack(trees)"
   ]
  },
  {
   "cell_type": "code",
   "execution_count": 21,
   "id": "f8b3f415",
   "metadata": {
    "execution": {
     "iopub.execute_input": "2023-02-27T12:04:27.842037Z",
     "iopub.status.busy": "2023-02-27T12:04:27.841378Z",
     "iopub.status.idle": "2023-02-27T12:04:30.477119Z",
     "shell.execute_reply": "2023-02-27T12:04:30.476359Z"
    }
   },
   "outputs": [
    {
     "name": "stdout",
     "output_type": "stream",
     "text": [
      "32.4 µs ± 79.5 ns per loop (mean ± std. dev. of 7 runs, 10,000 loops each)\n"
     ]
    }
   ],
   "source": [
    "%timeit t_stack(trees)"
   ]
  },
  {
   "cell_type": "code",
   "execution_count": 22,
   "id": "94b56771",
   "metadata": {
    "execution": {
     "iopub.execute_input": "2023-02-27T12:04:30.480455Z",
     "iopub.status.busy": "2023-02-27T12:04:30.479879Z",
     "iopub.status.idle": "2023-02-27T12:04:30.488825Z",
     "shell.execute_reply": "2023-02-27T12:04:30.488223Z"
    }
   },
   "outputs": [
    {
     "data": {
      "text/plain": [
       "<FastTreeValue 0x7f19c839b970>\n",
       "├── 'a' --> tensor([[-0.3284, -0.3498, -0.5028],\n",
       "│                   [-0.1772, -0.1437,  1.2174],\n",
       "│                   [-0.3284, -0.3498, -0.5028],\n",
       "│                   [-0.1772, -0.1437,  1.2174],\n",
       "│                   [-0.3284, -0.3498, -0.5028],\n",
       "│                   [-0.1772, -0.1437,  1.2174],\n",
       "│                   [-0.3284, -0.3498, -0.5028],\n",
       "│                   [-0.1772, -0.1437,  1.2174],\n",
       "│                   [-0.3284, -0.3498, -0.5028],\n",
       "│                   [-0.1772, -0.1437,  1.2174],\n",
       "│                   [-0.3284, -0.3498, -0.5028],\n",
       "│                   [-0.1772, -0.1437,  1.2174],\n",
       "│                   [-0.3284, -0.3498, -0.5028],\n",
       "│                   [-0.1772, -0.1437,  1.2174],\n",
       "│                   [-0.3284, -0.3498, -0.5028],\n",
       "│                   [-0.1772, -0.1437,  1.2174]])\n",
       "└── 'x' --> <FastTreeValue 0x7f19c839b850>\n",
       "    └── 'c' --> tensor([[ 1.2162,  0.1717, -0.4382,  0.6088],\n",
       "                        [-0.5225, -0.0738, -1.2179,  1.6785],\n",
       "                        [-0.5423,  0.0741,  0.7471, -0.5535],\n",
       "                        [ 1.2162,  0.1717, -0.4382,  0.6088],\n",
       "                        [-0.5225, -0.0738, -1.2179,  1.6785],\n",
       "                        [-0.5423,  0.0741,  0.7471, -0.5535],\n",
       "                        [ 1.2162,  0.1717, -0.4382,  0.6088],\n",
       "                        [-0.5225, -0.0738, -1.2179,  1.6785],\n",
       "                        [-0.5423,  0.0741,  0.7471, -0.5535],\n",
       "                        [ 1.2162,  0.1717, -0.4382,  0.6088],\n",
       "                        [-0.5225, -0.0738, -1.2179,  1.6785],\n",
       "                        [-0.5423,  0.0741,  0.7471, -0.5535],\n",
       "                        [ 1.2162,  0.1717, -0.4382,  0.6088],\n",
       "                        [-0.5225, -0.0738, -1.2179,  1.6785],\n",
       "                        [-0.5423,  0.0741,  0.7471, -0.5535],\n",
       "                        [ 1.2162,  0.1717, -0.4382,  0.6088],\n",
       "                        [-0.5225, -0.0738, -1.2179,  1.6785],\n",
       "                        [-0.5423,  0.0741,  0.7471, -0.5535],\n",
       "                        [ 1.2162,  0.1717, -0.4382,  0.6088],\n",
       "                        [-0.5225, -0.0738, -1.2179,  1.6785],\n",
       "                        [-0.5423,  0.0741,  0.7471, -0.5535],\n",
       "                        [ 1.2162,  0.1717, -0.4382,  0.6088],\n",
       "                        [-0.5225, -0.0738, -1.2179,  1.6785],\n",
       "                        [-0.5423,  0.0741,  0.7471, -0.5535]])"
      ]
     },
     "execution_count": 22,
     "metadata": {},
     "output_type": "execute_result"
    }
   ],
   "source": [
    "t_cat = FastTreeValue.func(subside=True)(torch.cat)\n",
    "\n",
    "t_cat(trees)"
   ]
  },
  {
   "cell_type": "code",
   "execution_count": 23,
   "id": "5e9c06a6",
   "metadata": {
    "execution": {
     "iopub.execute_input": "2023-02-27T12:04:30.491707Z",
     "iopub.status.busy": "2023-02-27T12:04:30.491196Z",
     "iopub.status.idle": "2023-02-27T12:04:32.981753Z",
     "shell.execute_reply": "2023-02-27T12:04:32.981113Z"
    }
   },
   "outputs": [
    {
     "name": "stdout",
     "output_type": "stream",
     "text": [
      "30.6 µs ± 62.6 ns per loop (mean ± std. dev. of 7 runs, 10,000 loops each)\n"
     ]
    }
   ],
   "source": [
    "%timeit t_cat(trees)"
   ]
  },
  {
   "cell_type": "code",
   "execution_count": 24,
   "id": "a3ab5c8f",
   "metadata": {
    "execution": {
     "iopub.execute_input": "2023-02-27T12:04:32.984931Z",
     "iopub.status.busy": "2023-02-27T12:04:32.984365Z",
     "iopub.status.idle": "2023-02-27T12:04:38.576582Z",
     "shell.execute_reply": "2023-02-27T12:04:38.575835Z"
    }
   },
   "outputs": [
    {
     "name": "stdout",
     "output_type": "stream",
     "text": [
      "69 µs ± 122 ns per loop (mean ± std. dev. of 7 runs, 10,000 loops each)\n"
     ]
    }
   ],
   "source": [
    "t_split = FastTreeValue.func(rise=True)(torch.split)\n",
    "tree = FastTreeValue({\n",
    "    'obs': torch.randn(8, 4, 84, 84),\n",
    "    'action': torch.randint(0, 6, size=(8, 1,)),\n",
    "    'reward': torch.rand(8, 1),\n",
    "})\n",
    "\n",
    "%timeit t_split(tree, 1)"
   ]
  },
  {
   "cell_type": "markdown",
   "id": "31c3ec0b",
   "metadata": {},
   "source": [
    "### Performance of Tianshou Batch"
   ]
  },
  {
   "cell_type": "code",
   "execution_count": 25,
   "id": "9ead828a",
   "metadata": {
    "execution": {
     "iopub.execute_input": "2023-02-27T12:04:38.580177Z",
     "iopub.status.busy": "2023-02-27T12:04:38.579139Z",
     "iopub.status.idle": "2023-02-27T12:04:38.588031Z",
     "shell.execute_reply": "2023-02-27T12:04:38.587439Z"
    }
   },
   "outputs": [
    {
     "data": {
      "text/plain": [
       "Batch(\n",
       "    a: tensor([[[-0.3284, -0.3498, -0.5028],\n",
       "                [-0.1772, -0.1437,  1.2174]],\n",
       "       \n",
       "               [[-0.3284, -0.3498, -0.5028],\n",
       "                [-0.1772, -0.1437,  1.2174]],\n",
       "       \n",
       "               [[-0.3284, -0.3498, -0.5028],\n",
       "                [-0.1772, -0.1437,  1.2174]],\n",
       "       \n",
       "               [[-0.3284, -0.3498, -0.5028],\n",
       "                [-0.1772, -0.1437,  1.2174]],\n",
       "       \n",
       "               [[-0.3284, -0.3498, -0.5028],\n",
       "                [-0.1772, -0.1437,  1.2174]],\n",
       "       \n",
       "               [[-0.3284, -0.3498, -0.5028],\n",
       "                [-0.1772, -0.1437,  1.2174]],\n",
       "       \n",
       "               [[-0.3284, -0.3498, -0.5028],\n",
       "                [-0.1772, -0.1437,  1.2174]],\n",
       "       \n",
       "               [[-0.3284, -0.3498, -0.5028],\n",
       "                [-0.1772, -0.1437,  1.2174]]]),\n",
       "    x: Batch(\n",
       "           c: tensor([[[ 1.2162,  0.1717, -0.4382,  0.6088],\n",
       "                       [-0.5225, -0.0738, -1.2179,  1.6785],\n",
       "                       [-0.5423,  0.0741,  0.7471, -0.5535]],\n",
       "              \n",
       "                      [[ 1.2162,  0.1717, -0.4382,  0.6088],\n",
       "                       [-0.5225, -0.0738, -1.2179,  1.6785],\n",
       "                       [-0.5423,  0.0741,  0.7471, -0.5535]],\n",
       "              \n",
       "                      [[ 1.2162,  0.1717, -0.4382,  0.6088],\n",
       "                       [-0.5225, -0.0738, -1.2179,  1.6785],\n",
       "                       [-0.5423,  0.0741,  0.7471, -0.5535]],\n",
       "              \n",
       "                      [[ 1.2162,  0.1717, -0.4382,  0.6088],\n",
       "                       [-0.5225, -0.0738, -1.2179,  1.6785],\n",
       "                       [-0.5423,  0.0741,  0.7471, -0.5535]],\n",
       "              \n",
       "                      [[ 1.2162,  0.1717, -0.4382,  0.6088],\n",
       "                       [-0.5225, -0.0738, -1.2179,  1.6785],\n",
       "                       [-0.5423,  0.0741,  0.7471, -0.5535]],\n",
       "              \n",
       "                      [[ 1.2162,  0.1717, -0.4382,  0.6088],\n",
       "                       [-0.5225, -0.0738, -1.2179,  1.6785],\n",
       "                       [-0.5423,  0.0741,  0.7471, -0.5535]],\n",
       "              \n",
       "                      [[ 1.2162,  0.1717, -0.4382,  0.6088],\n",
       "                       [-0.5225, -0.0738, -1.2179,  1.6785],\n",
       "                       [-0.5423,  0.0741,  0.7471, -0.5535]],\n",
       "              \n",
       "                      [[ 1.2162,  0.1717, -0.4382,  0.6088],\n",
       "                       [-0.5225, -0.0738, -1.2179,  1.6785],\n",
       "                       [-0.5423,  0.0741,  0.7471, -0.5535]]]),\n",
       "       ),\n",
       ")"
      ]
     },
     "execution_count": 25,
     "metadata": {},
     "output_type": "execute_result"
    }
   ],
   "source": [
    "batches = [Batch(**_TREE_DATA_2) for _ in range(8)]\n",
    "\n",
    "Batch.stack(batches)"
   ]
  },
  {
   "cell_type": "code",
   "execution_count": 26,
   "id": "ec9037a3",
   "metadata": {
    "execution": {
     "iopub.execute_input": "2023-02-27T12:04:38.590799Z",
     "iopub.status.busy": "2023-02-27T12:04:38.590328Z",
     "iopub.status.idle": "2023-02-27T12:04:44.920396Z",
     "shell.execute_reply": "2023-02-27T12:04:44.919577Z"
    }
   },
   "outputs": [
    {
     "name": "stdout",
     "output_type": "stream",
     "text": [
      "77.9 µs ± 162 ns per loop (mean ± std. dev. of 7 runs, 10,000 loops each)\n"
     ]
    }
   ],
   "source": [
    "%timeit Batch.stack(batches)"
   ]
  },
  {
   "cell_type": "code",
   "execution_count": 27,
   "id": "cb8ab77e",
   "metadata": {
    "execution": {
     "iopub.execute_input": "2023-02-27T12:04:44.924011Z",
     "iopub.status.busy": "2023-02-27T12:04:44.923387Z",
     "iopub.status.idle": "2023-02-27T12:04:44.930834Z",
     "shell.execute_reply": "2023-02-27T12:04:44.930274Z"
    }
   },
   "outputs": [
    {
     "data": {
      "text/plain": [
       "Batch(\n",
       "    a: tensor([[-0.3284, -0.3498, -0.5028],\n",
       "               [-0.1772, -0.1437,  1.2174],\n",
       "               [-0.3284, -0.3498, -0.5028],\n",
       "               [-0.1772, -0.1437,  1.2174],\n",
       "               [-0.3284, -0.3498, -0.5028],\n",
       "               [-0.1772, -0.1437,  1.2174],\n",
       "               [-0.3284, -0.3498, -0.5028],\n",
       "               [-0.1772, -0.1437,  1.2174],\n",
       "               [-0.3284, -0.3498, -0.5028],\n",
       "               [-0.1772, -0.1437,  1.2174],\n",
       "               [-0.3284, -0.3498, -0.5028],\n",
       "               [-0.1772, -0.1437,  1.2174],\n",
       "               [-0.3284, -0.3498, -0.5028],\n",
       "               [-0.1772, -0.1437,  1.2174],\n",
       "               [-0.3284, -0.3498, -0.5028],\n",
       "               [-0.1772, -0.1437,  1.2174]]),\n",
       "    x: Batch(\n",
       "           c: tensor([[ 1.2162,  0.1717, -0.4382,  0.6088],\n",
       "                      [-0.5225, -0.0738, -1.2179,  1.6785],\n",
       "                      [-0.5423,  0.0741,  0.7471, -0.5535],\n",
       "                      [ 1.2162,  0.1717, -0.4382,  0.6088],\n",
       "                      [-0.5225, -0.0738, -1.2179,  1.6785],\n",
       "                      [-0.5423,  0.0741,  0.7471, -0.5535],\n",
       "                      [ 1.2162,  0.1717, -0.4382,  0.6088],\n",
       "                      [-0.5225, -0.0738, -1.2179,  1.6785],\n",
       "                      [-0.5423,  0.0741,  0.7471, -0.5535],\n",
       "                      [ 1.2162,  0.1717, -0.4382,  0.6088],\n",
       "                      [-0.5225, -0.0738, -1.2179,  1.6785],\n",
       "                      [-0.5423,  0.0741,  0.7471, -0.5535],\n",
       "                      [ 1.2162,  0.1717, -0.4382,  0.6088],\n",
       "                      [-0.5225, -0.0738, -1.2179,  1.6785],\n",
       "                      [-0.5423,  0.0741,  0.7471, -0.5535],\n",
       "                      [ 1.2162,  0.1717, -0.4382,  0.6088],\n",
       "                      [-0.5225, -0.0738, -1.2179,  1.6785],\n",
       "                      [-0.5423,  0.0741,  0.7471, -0.5535],\n",
       "                      [ 1.2162,  0.1717, -0.4382,  0.6088],\n",
       "                      [-0.5225, -0.0738, -1.2179,  1.6785],\n",
       "                      [-0.5423,  0.0741,  0.7471, -0.5535],\n",
       "                      [ 1.2162,  0.1717, -0.4382,  0.6088],\n",
       "                      [-0.5225, -0.0738, -1.2179,  1.6785],\n",
       "                      [-0.5423,  0.0741,  0.7471, -0.5535]]),\n",
       "       ),\n",
       ")"
      ]
     },
     "execution_count": 27,
     "metadata": {},
     "output_type": "execute_result"
    }
   ],
   "source": [
    "Batch.cat(batches)"
   ]
  },
  {
   "cell_type": "code",
   "execution_count": 28,
   "id": "18dfb045",
   "metadata": {
    "execution": {
     "iopub.execute_input": "2023-02-27T12:04:44.933237Z",
     "iopub.status.busy": "2023-02-27T12:04:44.932735Z",
     "iopub.status.idle": "2023-02-27T12:04:56.413254Z",
     "shell.execute_reply": "2023-02-27T12:04:56.412494Z"
    }
   },
   "outputs": [
    {
     "name": "stdout",
     "output_type": "stream",
     "text": [
      "141 µs ± 439 ns per loop (mean ± std. dev. of 7 runs, 10,000 loops each)\n"
     ]
    }
   ],
   "source": [
    "%timeit Batch.cat(batches)"
   ]
  },
  {
   "cell_type": "code",
   "execution_count": 29,
   "id": "c6688e51",
   "metadata": {
    "execution": {
     "iopub.execute_input": "2023-02-27T12:04:56.416367Z",
     "iopub.status.busy": "2023-02-27T12:04:56.415999Z",
     "iopub.status.idle": "2023-02-27T12:04:58.977999Z",
     "shell.execute_reply": "2023-02-27T12:04:58.977384Z"
    }
   },
   "outputs": [
    {
     "name": "stdout",
     "output_type": "stream",
     "text": [
      "315 µs ± 2.62 µs per loop (mean ± std. dev. of 7 runs, 1,000 loops each)\n"
     ]
    }
   ],
   "source": [
    "batch = Batch({\n",
    "    'obs': torch.randn(8, 4, 84, 84),\n",
    "    'action': torch.randint(0, 6, size=(8, 1,)),\n",
    "    'reward': torch.rand(8, 1)}\n",
    ")\n",
    "\n",
    "%timeit list(Batch.split(batch, 1, shuffle=False, merge_last=True))"
   ]
  },
  {
   "cell_type": "code",
   "execution_count": null,
   "id": "2539fbd9",
   "metadata": {},
   "outputs": [],
   "source": []
  }
 ],
 "metadata": {
  "kernelspec": {
   "display_name": "Python 3 (ipykernel)",
   "language": "python",
   "name": "python3"
  },
  "language_info": {
   "codemirror_mode": {
    "name": "ipython",
    "version": 3
   },
   "file_extension": ".py",
   "mimetype": "text/x-python",
   "name": "python",
   "nbconvert_exporter": "python",
   "pygments_lexer": "ipython3",
   "version": "3.8.16"
  }
 },
 "nbformat": 4,
 "nbformat_minor": 5
}
