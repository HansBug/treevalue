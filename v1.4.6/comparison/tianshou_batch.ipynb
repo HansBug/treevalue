{
 "cells": [
  {
   "cell_type": "markdown",
   "id": "9d39d946",
   "metadata": {},
   "source": [
    "# Comparison Between TreeValue and Tianshou Batch"
   ]
  },
  {
   "cell_type": "markdown",
   "id": "3c6db2d4",
   "metadata": {},
   "source": [
    "In this section, we will take a look at the feature and performance of the [Tianshou Batch](https://github.com/thu-ml/tianshou) library, which is developed by Tsinghua Machine Learning Group."
   ]
  },
  {
   "cell_type": "markdown",
   "id": "069361b0",
   "metadata": {},
   "source": [
    "Before starting the comparison, let us define some thing."
   ]
  },
  {
   "cell_type": "code",
   "execution_count": 1,
   "id": "06fc8d26",
   "metadata": {
    "execution": {
     "iopub.execute_input": "2023-03-06T12:03:55.222862Z",
     "iopub.status.busy": "2023-03-06T12:03:55.222629Z",
     "iopub.status.idle": "2023-03-06T12:03:56.386690Z",
     "shell.execute_reply": "2023-03-06T12:03:56.385614Z"
    }
   },
   "outputs": [
    {
     "name": "stderr",
     "output_type": "stream",
     "text": [
      "/opt/hostedtoolcache/Python/3.8.16/x64/lib/python3.8/site-packages/tqdm/auto.py:21: TqdmWarning: IProgress not found. Please update jupyter and ipywidgets. See https://ipywidgets.readthedocs.io/en/stable/user_install.html\n",
      "  from .autonotebook import tqdm as notebook_tqdm\n"
     ]
    }
   ],
   "source": [
    "import torch \n",
    "\n",
    "_TREE_DATA_1 = {'a': 1, 'b': 2, 'x': {'c': 3, 'd': 4}}\n",
    "_TREE_DATA_2 = {\n",
    "    'a': torch.randn(2, 3), \n",
    "    'x': {\n",
    "        'c': torch.randn(3, 4)\n",
    "    },\n",
    "}\n",
    "_TREE_DATA_3 = {\n",
    "    'obs': torch.randn(4, 84, 84),\n",
    "    'action': torch.randint(0, 6, size=(1,)),\n",
    "    'reward': torch.rand(1),\n",
    "}"
   ]
  },
  {
   "cell_type": "markdown",
   "id": "83461b25",
   "metadata": {},
   "source": [
    "## Read and Write Operation"
   ]
  },
  {
   "cell_type": "markdown",
   "id": "067b3f73",
   "metadata": {},
   "source": [
    "Reading and writing are the two most common operations in the tree data structure based on the data model (TreeValue and Tianshou Batch both belong to this type), so this section will compare the reading and writing performance of these two libraries."
   ]
  },
  {
   "cell_type": "markdown",
   "id": "5d09a5b7",
   "metadata": {},
   "source": [
    "### TreeValue's Get and Set"
   ]
  },
  {
   "cell_type": "code",
   "execution_count": 2,
   "id": "9519c4bb",
   "metadata": {
    "execution": {
     "iopub.execute_input": "2023-03-06T12:03:56.391484Z",
     "iopub.status.busy": "2023-03-06T12:03:56.390851Z",
     "iopub.status.idle": "2023-03-06T12:03:56.758814Z",
     "shell.execute_reply": "2023-03-06T12:03:56.757816Z"
    }
   },
   "outputs": [],
   "source": [
    "from treevalue import FastTreeValue\n",
    "\n",
    "t = FastTreeValue(_TREE_DATA_2)"
   ]
  },
  {
   "cell_type": "code",
   "execution_count": 3,
   "id": "11c37677",
   "metadata": {
    "execution": {
     "iopub.execute_input": "2023-03-06T12:03:56.763257Z",
     "iopub.status.busy": "2023-03-06T12:03:56.762890Z",
     "iopub.status.idle": "2023-03-06T12:03:56.778652Z",
     "shell.execute_reply": "2023-03-06T12:03:56.777694Z"
    }
   },
   "outputs": [
    {
     "data": {
      "text/plain": [
       "<FastTreeValue 0x7f074446b9a0>\n",
       "├── 'a' --> tensor([[-0.4648,  0.1993,  1.8908],\n",
       "│                   [-0.4757,  0.4677,  0.6290]])\n",
       "└── 'x' --> <FastTreeValue 0x7f074446b2b0>\n",
       "    └── 'c' --> tensor([[ 0.2808, -0.0065,  1.2162, -0.9202],\n",
       "                        [-0.4691,  0.1119,  0.5934,  0.9626],\n",
       "                        [-0.7331, -0.0108,  0.5947,  1.3659]])"
      ]
     },
     "execution_count": 3,
     "metadata": {},
     "output_type": "execute_result"
    }
   ],
   "source": [
    "t"
   ]
  },
  {
   "cell_type": "code",
   "execution_count": 4,
   "id": "fd70b0b9",
   "metadata": {
    "execution": {
     "iopub.execute_input": "2023-03-06T12:03:56.783298Z",
     "iopub.status.busy": "2023-03-06T12:03:56.782875Z",
     "iopub.status.idle": "2023-03-06T12:03:56.791905Z",
     "shell.execute_reply": "2023-03-06T12:03:56.790887Z"
    }
   },
   "outputs": [
    {
     "data": {
      "text/plain": [
       "tensor([[-0.4648,  0.1993,  1.8908],\n",
       "        [-0.4757,  0.4677,  0.6290]])"
      ]
     },
     "execution_count": 4,
     "metadata": {},
     "output_type": "execute_result"
    }
   ],
   "source": [
    "t.a"
   ]
  },
  {
   "cell_type": "code",
   "execution_count": 5,
   "id": "c18197bd",
   "metadata": {
    "execution": {
     "iopub.execute_input": "2023-03-06T12:03:56.794978Z",
     "iopub.status.busy": "2023-03-06T12:03:56.794685Z",
     "iopub.status.idle": "2023-03-06T12:04:03.162273Z",
     "shell.execute_reply": "2023-03-06T12:04:03.160777Z"
    }
   },
   "outputs": [
    {
     "name": "stdout",
     "output_type": "stream",
     "text": [
      "78.8 ns ± 0.986 ns per loop (mean ± std. dev. of 7 runs, 10,000,000 loops each)\n"
     ]
    }
   ],
   "source": [
    "%timeit t.a"
   ]
  },
  {
   "cell_type": "code",
   "execution_count": 6,
   "id": "bd52f867",
   "metadata": {
    "execution": {
     "iopub.execute_input": "2023-03-06T12:04:03.166116Z",
     "iopub.status.busy": "2023-03-06T12:04:03.165753Z",
     "iopub.status.idle": "2023-03-06T12:04:03.176053Z",
     "shell.execute_reply": "2023-03-06T12:04:03.175187Z"
    }
   },
   "outputs": [
    {
     "data": {
      "text/plain": [
       "<FastTreeValue 0x7f074446b9a0>\n",
       "├── 'a' --> tensor([[-0.2698,  0.5617, -1.0780],\n",
       "│                   [-1.4054,  0.3285,  0.1758]])\n",
       "└── 'x' --> <FastTreeValue 0x7f074446b2b0>\n",
       "    └── 'c' --> tensor([[ 0.2808, -0.0065,  1.2162, -0.9202],\n",
       "                        [-0.4691,  0.1119,  0.5934,  0.9626],\n",
       "                        [-0.7331, -0.0108,  0.5947,  1.3659]])"
      ]
     },
     "execution_count": 6,
     "metadata": {},
     "output_type": "execute_result"
    }
   ],
   "source": [
    "new_value = torch.randn(2, 3)\n",
    "t.a = new_value\n",
    "\n",
    "t"
   ]
  },
  {
   "cell_type": "code",
   "execution_count": 7,
   "id": "bbe04d1c",
   "metadata": {
    "execution": {
     "iopub.execute_input": "2023-03-06T12:04:03.179006Z",
     "iopub.status.busy": "2023-03-06T12:04:03.178756Z",
     "iopub.status.idle": "2023-03-06T12:04:09.034307Z",
     "shell.execute_reply": "2023-03-06T12:04:09.033330Z"
    }
   },
   "outputs": [
    {
     "name": "stdout",
     "output_type": "stream",
     "text": [
      "72.3 ns ± 1.14 ns per loop (mean ± std. dev. of 7 runs, 10,000,000 loops each)\n"
     ]
    }
   ],
   "source": [
    "%timeit t.a = new_value"
   ]
  },
  {
   "cell_type": "markdown",
   "id": "48c49731",
   "metadata": {},
   "source": [
    "### Tianshou Batch's Get and Set"
   ]
  },
  {
   "cell_type": "code",
   "execution_count": 8,
   "id": "f1bb14c1",
   "metadata": {
    "execution": {
     "iopub.execute_input": "2023-03-06T12:04:09.038148Z",
     "iopub.status.busy": "2023-03-06T12:04:09.037585Z",
     "iopub.status.idle": "2023-03-06T12:04:09.477758Z",
     "shell.execute_reply": "2023-03-06T12:04:09.476782Z"
    }
   },
   "outputs": [],
   "source": [
    "from tianshou.data import Batch\n",
    "\n",
    "b = Batch(**_TREE_DATA_2)"
   ]
  },
  {
   "cell_type": "code",
   "execution_count": 9,
   "id": "cb0777c3",
   "metadata": {
    "execution": {
     "iopub.execute_input": "2023-03-06T12:04:09.482908Z",
     "iopub.status.busy": "2023-03-06T12:04:09.481366Z",
     "iopub.status.idle": "2023-03-06T12:04:09.491612Z",
     "shell.execute_reply": "2023-03-06T12:04:09.490576Z"
    }
   },
   "outputs": [
    {
     "data": {
      "text/plain": [
       "Batch(\n",
       "    a: tensor([[-0.4648,  0.1993,  1.8908],\n",
       "               [-0.4757,  0.4677,  0.6290]]),\n",
       "    x: Batch(\n",
       "           c: tensor([[ 0.2808, -0.0065,  1.2162, -0.9202],\n",
       "                      [-0.4691,  0.1119,  0.5934,  0.9626],\n",
       "                      [-0.7331, -0.0108,  0.5947,  1.3659]]),\n",
       "       ),\n",
       ")"
      ]
     },
     "execution_count": 9,
     "metadata": {},
     "output_type": "execute_result"
    }
   ],
   "source": [
    "b"
   ]
  },
  {
   "cell_type": "code",
   "execution_count": 10,
   "id": "43ef8ea3",
   "metadata": {
    "execution": {
     "iopub.execute_input": "2023-03-06T12:04:09.494505Z",
     "iopub.status.busy": "2023-03-06T12:04:09.494205Z",
     "iopub.status.idle": "2023-03-06T12:04:09.501753Z",
     "shell.execute_reply": "2023-03-06T12:04:09.500847Z"
    }
   },
   "outputs": [
    {
     "data": {
      "text/plain": [
       "tensor([[-0.4648,  0.1993,  1.8908],\n",
       "        [-0.4757,  0.4677,  0.6290]])"
      ]
     },
     "execution_count": 10,
     "metadata": {},
     "output_type": "execute_result"
    }
   ],
   "source": [
    "b.a"
   ]
  },
  {
   "cell_type": "code",
   "execution_count": 11,
   "id": "b785ab72",
   "metadata": {
    "execution": {
     "iopub.execute_input": "2023-03-06T12:04:09.504836Z",
     "iopub.status.busy": "2023-03-06T12:04:09.504538Z",
     "iopub.status.idle": "2023-03-06T12:04:14.976025Z",
     "shell.execute_reply": "2023-03-06T12:04:14.974919Z"
    }
   },
   "outputs": [
    {
     "name": "stdout",
     "output_type": "stream",
     "text": [
      "67.6 ns ± 2.53 ns per loop (mean ± std. dev. of 7 runs, 10,000,000 loops each)\n"
     ]
    }
   ],
   "source": [
    "%timeit b.a"
   ]
  },
  {
   "cell_type": "code",
   "execution_count": 12,
   "id": "ad54dc69",
   "metadata": {
    "execution": {
     "iopub.execute_input": "2023-03-06T12:04:14.979908Z",
     "iopub.status.busy": "2023-03-06T12:04:14.979271Z",
     "iopub.status.idle": "2023-03-06T12:04:14.987217Z",
     "shell.execute_reply": "2023-03-06T12:04:14.986373Z"
    }
   },
   "outputs": [
    {
     "data": {
      "text/plain": [
       "Batch(\n",
       "    a: tensor([[-1.3579,  0.9733, -0.4450],\n",
       "               [-1.3282,  0.5019,  0.6190]]),\n",
       "    x: Batch(\n",
       "           c: tensor([[ 0.2808, -0.0065,  1.2162, -0.9202],\n",
       "                      [-0.4691,  0.1119,  0.5934,  0.9626],\n",
       "                      [-0.7331, -0.0108,  0.5947,  1.3659]]),\n",
       "       ),\n",
       ")"
      ]
     },
     "execution_count": 12,
     "metadata": {},
     "output_type": "execute_result"
    }
   ],
   "source": [
    "new_value = torch.randn(2, 3)\n",
    "b.a = new_value\n",
    "\n",
    "b"
   ]
  },
  {
   "cell_type": "code",
   "execution_count": 13,
   "id": "29b1d0bf",
   "metadata": {
    "execution": {
     "iopub.execute_input": "2023-03-06T12:04:14.990322Z",
     "iopub.status.busy": "2023-03-06T12:04:14.989953Z",
     "iopub.status.idle": "2023-03-06T12:04:19.690179Z",
     "shell.execute_reply": "2023-03-06T12:04:19.689251Z"
    }
   },
   "outputs": [
    {
     "name": "stdout",
     "output_type": "stream",
     "text": [
      "576 ns ± 9.3 ns per loop (mean ± std. dev. of 7 runs, 1,000,000 loops each)\n"
     ]
    }
   ],
   "source": [
    "%timeit b.a = new_value"
   ]
  },
  {
   "cell_type": "markdown",
   "id": "b61ad1d0",
   "metadata": {},
   "source": [
    "## Initialization"
   ]
  },
  {
   "cell_type": "markdown",
   "id": "d70f0d54",
   "metadata": {},
   "source": [
    "### TreeValue's Initialization"
   ]
  },
  {
   "cell_type": "code",
   "execution_count": 14,
   "id": "d32a679b",
   "metadata": {
    "execution": {
     "iopub.execute_input": "2023-03-06T12:04:19.694613Z",
     "iopub.status.busy": "2023-03-06T12:04:19.693699Z",
     "iopub.status.idle": "2023-03-06T12:04:28.288814Z",
     "shell.execute_reply": "2023-03-06T12:04:28.287706Z"
    }
   },
   "outputs": [
    {
     "name": "stdout",
     "output_type": "stream",
     "text": [
      "1.06 µs ± 15 ns per loop (mean ± std. dev. of 7 runs, 1,000,000 loops each)\n"
     ]
    }
   ],
   "source": [
    "%timeit FastTreeValue(_TREE_DATA_1)"
   ]
  },
  {
   "cell_type": "markdown",
   "id": "24f3707b",
   "metadata": {},
   "source": [
    "### Tianshou Batch's Initialization"
   ]
  },
  {
   "cell_type": "code",
   "execution_count": 15,
   "id": "ac3958df",
   "metadata": {
    "execution": {
     "iopub.execute_input": "2023-03-06T12:04:28.292757Z",
     "iopub.status.busy": "2023-03-06T12:04:28.292182Z",
     "iopub.status.idle": "2023-03-06T12:04:38.872157Z",
     "shell.execute_reply": "2023-03-06T12:04:38.870011Z"
    }
   },
   "outputs": [
    {
     "name": "stdout",
     "output_type": "stream",
     "text": [
      "13 µs ± 209 ns per loop (mean ± std. dev. of 7 runs, 100,000 loops each)\n"
     ]
    }
   ],
   "source": [
    "%timeit Batch(**_TREE_DATA_1)"
   ]
  },
  {
   "cell_type": "markdown",
   "id": "1ab82e2d",
   "metadata": {},
   "source": [
    "## Deep Copy Operation"
   ]
  },
  {
   "cell_type": "code",
   "execution_count": 16,
   "id": "210a9442",
   "metadata": {
    "execution": {
     "iopub.execute_input": "2023-03-06T12:04:38.877114Z",
     "iopub.status.busy": "2023-03-06T12:04:38.876413Z",
     "iopub.status.idle": "2023-03-06T12:04:38.883085Z",
     "shell.execute_reply": "2023-03-06T12:04:38.881884Z"
    }
   },
   "outputs": [],
   "source": [
    "import copy"
   ]
  },
  {
   "cell_type": "markdown",
   "id": "5a736274",
   "metadata": {},
   "source": [
    "### Deep Copy of TreeValue"
   ]
  },
  {
   "cell_type": "code",
   "execution_count": 17,
   "id": "f9bcadd6",
   "metadata": {
    "execution": {
     "iopub.execute_input": "2023-03-06T12:04:38.886408Z",
     "iopub.status.busy": "2023-03-06T12:04:38.886090Z",
     "iopub.status.idle": "2023-03-06T12:04:41.162046Z",
     "shell.execute_reply": "2023-03-06T12:04:41.161156Z"
    }
   },
   "outputs": [
    {
     "name": "stdout",
     "output_type": "stream",
     "text": [
      "280 µs ± 9.61 µs per loop (mean ± std. dev. of 7 runs, 1,000 loops each)\n"
     ]
    }
   ],
   "source": [
    "t3 = FastTreeValue(_TREE_DATA_3)\n",
    "%timeit copy.deepcopy(t3)"
   ]
  },
  {
   "cell_type": "markdown",
   "id": "bf8be7ea",
   "metadata": {},
   "source": [
    "### Deep Copy of Tianshou Batch"
   ]
  },
  {
   "cell_type": "code",
   "execution_count": 18,
   "id": "91998e6f",
   "metadata": {
    "execution": {
     "iopub.execute_input": "2023-03-06T12:04:41.165420Z",
     "iopub.status.busy": "2023-03-06T12:04:41.164973Z",
     "iopub.status.idle": "2023-03-06T12:04:43.300550Z",
     "shell.execute_reply": "2023-03-06T12:04:43.299690Z"
    }
   },
   "outputs": [
    {
     "name": "stdout",
     "output_type": "stream",
     "text": [
      "263 µs ± 7.67 µs per loop (mean ± std. dev. of 7 runs, 1,000 loops each)\n"
     ]
    }
   ],
   "source": [
    "b3 = Batch(**_TREE_DATA_3)\n",
    "%timeit copy.deepcopy(b3)"
   ]
  },
  {
   "cell_type": "markdown",
   "id": "223162fb",
   "metadata": {},
   "source": [
    "## Stack, Concat and Split Operation"
   ]
  },
  {
   "cell_type": "markdown",
   "id": "85fa4a73",
   "metadata": {},
   "source": [
    "### Performance of TreeValue"
   ]
  },
  {
   "cell_type": "code",
   "execution_count": 19,
   "id": "a0c2b697",
   "metadata": {
    "execution": {
     "iopub.execute_input": "2023-03-06T12:04:43.304129Z",
     "iopub.status.busy": "2023-03-06T12:04:43.303699Z",
     "iopub.status.idle": "2023-03-06T12:04:43.309300Z",
     "shell.execute_reply": "2023-03-06T12:04:43.308276Z"
    }
   },
   "outputs": [],
   "source": [
    "trees = [FastTreeValue(_TREE_DATA_2) for _ in range(8)]"
   ]
  },
  {
   "cell_type": "code",
   "execution_count": 20,
   "id": "017ea5a5",
   "metadata": {
    "execution": {
     "iopub.execute_input": "2023-03-06T12:04:43.312406Z",
     "iopub.status.busy": "2023-03-06T12:04:43.312134Z",
     "iopub.status.idle": "2023-03-06T12:04:43.322558Z",
     "shell.execute_reply": "2023-03-06T12:04:43.321725Z"
    }
   },
   "outputs": [
    {
     "data": {
      "text/plain": [
       "<FastTreeValue 0x7f0693355bb0>\n",
       "├── 'a' --> tensor([[[-0.4648,  0.1993,  1.8908],\n",
       "│                    [-0.4757,  0.4677,  0.6290]],\n",
       "│           \n",
       "│                   [[-0.4648,  0.1993,  1.8908],\n",
       "│                    [-0.4757,  0.4677,  0.6290]],\n",
       "│           \n",
       "│                   [[-0.4648,  0.1993,  1.8908],\n",
       "│                    [-0.4757,  0.4677,  0.6290]],\n",
       "│           \n",
       "│                   [[-0.4648,  0.1993,  1.8908],\n",
       "│                    [-0.4757,  0.4677,  0.6290]],\n",
       "│           \n",
       "│                   [[-0.4648,  0.1993,  1.8908],\n",
       "│                    [-0.4757,  0.4677,  0.6290]],\n",
       "│           \n",
       "│                   [[-0.4648,  0.1993,  1.8908],\n",
       "│                    [-0.4757,  0.4677,  0.6290]],\n",
       "│           \n",
       "│                   [[-0.4648,  0.1993,  1.8908],\n",
       "│                    [-0.4757,  0.4677,  0.6290]],\n",
       "│           \n",
       "│                   [[-0.4648,  0.1993,  1.8908],\n",
       "│                    [-0.4757,  0.4677,  0.6290]]])\n",
       "└── 'x' --> <FastTreeValue 0x7f0746548a60>\n",
       "    └── 'c' --> tensor([[[ 0.2808, -0.0065,  1.2162, -0.9202],\n",
       "                         [-0.4691,  0.1119,  0.5934,  0.9626],\n",
       "                         [-0.7331, -0.0108,  0.5947,  1.3659]],\n",
       "                \n",
       "                        [[ 0.2808, -0.0065,  1.2162, -0.9202],\n",
       "                         [-0.4691,  0.1119,  0.5934,  0.9626],\n",
       "                         [-0.7331, -0.0108,  0.5947,  1.3659]],\n",
       "                \n",
       "                        [[ 0.2808, -0.0065,  1.2162, -0.9202],\n",
       "                         [-0.4691,  0.1119,  0.5934,  0.9626],\n",
       "                         [-0.7331, -0.0108,  0.5947,  1.3659]],\n",
       "                \n",
       "                        [[ 0.2808, -0.0065,  1.2162, -0.9202],\n",
       "                         [-0.4691,  0.1119,  0.5934,  0.9626],\n",
       "                         [-0.7331, -0.0108,  0.5947,  1.3659]],\n",
       "                \n",
       "                        [[ 0.2808, -0.0065,  1.2162, -0.9202],\n",
       "                         [-0.4691,  0.1119,  0.5934,  0.9626],\n",
       "                         [-0.7331, -0.0108,  0.5947,  1.3659]],\n",
       "                \n",
       "                        [[ 0.2808, -0.0065,  1.2162, -0.9202],\n",
       "                         [-0.4691,  0.1119,  0.5934,  0.9626],\n",
       "                         [-0.7331, -0.0108,  0.5947,  1.3659]],\n",
       "                \n",
       "                        [[ 0.2808, -0.0065,  1.2162, -0.9202],\n",
       "                         [-0.4691,  0.1119,  0.5934,  0.9626],\n",
       "                         [-0.7331, -0.0108,  0.5947,  1.3659]],\n",
       "                \n",
       "                        [[ 0.2808, -0.0065,  1.2162, -0.9202],\n",
       "                         [-0.4691,  0.1119,  0.5934,  0.9626],\n",
       "                         [-0.7331, -0.0108,  0.5947,  1.3659]]])"
      ]
     },
     "execution_count": 20,
     "metadata": {},
     "output_type": "execute_result"
    }
   ],
   "source": [
    "t_stack = FastTreeValue.func(subside=True)(torch.stack)\n",
    "\n",
    "t_stack(trees)"
   ]
  },
  {
   "cell_type": "code",
   "execution_count": 21,
   "id": "f8b3f415",
   "metadata": {
    "execution": {
     "iopub.execute_input": "2023-03-06T12:04:43.326151Z",
     "iopub.status.busy": "2023-03-06T12:04:43.325612Z",
     "iopub.status.idle": "2023-03-06T12:04:46.930915Z",
     "shell.execute_reply": "2023-03-06T12:04:46.929903Z"
    }
   },
   "outputs": [
    {
     "name": "stdout",
     "output_type": "stream",
     "text": [
      "44.2 µs ± 1.17 µs per loop (mean ± std. dev. of 7 runs, 10,000 loops each)\n"
     ]
    }
   ],
   "source": [
    "%timeit t_stack(trees)"
   ]
  },
  {
   "cell_type": "code",
   "execution_count": 22,
   "id": "94b56771",
   "metadata": {
    "execution": {
     "iopub.execute_input": "2023-03-06T12:04:46.934738Z",
     "iopub.status.busy": "2023-03-06T12:04:46.934004Z",
     "iopub.status.idle": "2023-03-06T12:04:46.944803Z",
     "shell.execute_reply": "2023-03-06T12:04:46.944021Z"
    }
   },
   "outputs": [
    {
     "data": {
      "text/plain": [
       "<FastTreeValue 0x7f068c6fd0a0>\n",
       "├── 'a' --> tensor([[-0.4648,  0.1993,  1.8908],\n",
       "│                   [-0.4757,  0.4677,  0.6290],\n",
       "│                   [-0.4648,  0.1993,  1.8908],\n",
       "│                   [-0.4757,  0.4677,  0.6290],\n",
       "│                   [-0.4648,  0.1993,  1.8908],\n",
       "│                   [-0.4757,  0.4677,  0.6290],\n",
       "│                   [-0.4648,  0.1993,  1.8908],\n",
       "│                   [-0.4757,  0.4677,  0.6290],\n",
       "│                   [-0.4648,  0.1993,  1.8908],\n",
       "│                   [-0.4757,  0.4677,  0.6290],\n",
       "│                   [-0.4648,  0.1993,  1.8908],\n",
       "│                   [-0.4757,  0.4677,  0.6290],\n",
       "│                   [-0.4648,  0.1993,  1.8908],\n",
       "│                   [-0.4757,  0.4677,  0.6290],\n",
       "│                   [-0.4648,  0.1993,  1.8908],\n",
       "│                   [-0.4757,  0.4677,  0.6290]])\n",
       "└── 'x' --> <FastTreeValue 0x7f0693361610>\n",
       "    └── 'c' --> tensor([[ 0.2808, -0.0065,  1.2162, -0.9202],\n",
       "                        [-0.4691,  0.1119,  0.5934,  0.9626],\n",
       "                        [-0.7331, -0.0108,  0.5947,  1.3659],\n",
       "                        [ 0.2808, -0.0065,  1.2162, -0.9202],\n",
       "                        [-0.4691,  0.1119,  0.5934,  0.9626],\n",
       "                        [-0.7331, -0.0108,  0.5947,  1.3659],\n",
       "                        [ 0.2808, -0.0065,  1.2162, -0.9202],\n",
       "                        [-0.4691,  0.1119,  0.5934,  0.9626],\n",
       "                        [-0.7331, -0.0108,  0.5947,  1.3659],\n",
       "                        [ 0.2808, -0.0065,  1.2162, -0.9202],\n",
       "                        [-0.4691,  0.1119,  0.5934,  0.9626],\n",
       "                        [-0.7331, -0.0108,  0.5947,  1.3659],\n",
       "                        [ 0.2808, -0.0065,  1.2162, -0.9202],\n",
       "                        [-0.4691,  0.1119,  0.5934,  0.9626],\n",
       "                        [-0.7331, -0.0108,  0.5947,  1.3659],\n",
       "                        [ 0.2808, -0.0065,  1.2162, -0.9202],\n",
       "                        [-0.4691,  0.1119,  0.5934,  0.9626],\n",
       "                        [-0.7331, -0.0108,  0.5947,  1.3659],\n",
       "                        [ 0.2808, -0.0065,  1.2162, -0.9202],\n",
       "                        [-0.4691,  0.1119,  0.5934,  0.9626],\n",
       "                        [-0.7331, -0.0108,  0.5947,  1.3659],\n",
       "                        [ 0.2808, -0.0065,  1.2162, -0.9202],\n",
       "                        [-0.4691,  0.1119,  0.5934,  0.9626],\n",
       "                        [-0.7331, -0.0108,  0.5947,  1.3659]])"
      ]
     },
     "execution_count": 22,
     "metadata": {},
     "output_type": "execute_result"
    }
   ],
   "source": [
    "t_cat = FastTreeValue.func(subside=True)(torch.cat)\n",
    "\n",
    "t_cat(trees)"
   ]
  },
  {
   "cell_type": "code",
   "execution_count": 23,
   "id": "5e9c06a6",
   "metadata": {
    "execution": {
     "iopub.execute_input": "2023-03-06T12:04:46.947821Z",
     "iopub.status.busy": "2023-03-06T12:04:46.947544Z",
     "iopub.status.idle": "2023-03-06T12:04:50.343901Z",
     "shell.execute_reply": "2023-03-06T12:04:50.342945Z"
    }
   },
   "outputs": [
    {
     "name": "stdout",
     "output_type": "stream",
     "text": [
      "41.7 µs ± 786 ns per loop (mean ± std. dev. of 7 runs, 10,000 loops each)\n"
     ]
    }
   ],
   "source": [
    "%timeit t_cat(trees)"
   ]
  },
  {
   "cell_type": "code",
   "execution_count": 24,
   "id": "a3ab5c8f",
   "metadata": {
    "execution": {
     "iopub.execute_input": "2023-03-06T12:04:50.347574Z",
     "iopub.status.busy": "2023-03-06T12:04:50.347168Z",
     "iopub.status.idle": "2023-03-06T12:04:56.675630Z",
     "shell.execute_reply": "2023-03-06T12:04:56.674674Z"
    }
   },
   "outputs": [
    {
     "name": "stdout",
     "output_type": "stream",
     "text": [
      "77.9 µs ± 508 ns per loop (mean ± std. dev. of 7 runs, 10,000 loops each)\n"
     ]
    }
   ],
   "source": [
    "t_split = FastTreeValue.func(rise=True)(torch.split)\n",
    "tree = FastTreeValue({\n",
    "    'obs': torch.randn(8, 4, 84, 84),\n",
    "    'action': torch.randint(0, 6, size=(8, 1,)),\n",
    "    'reward': torch.rand(8, 1),\n",
    "})\n",
    "\n",
    "%timeit t_split(tree, 1)"
   ]
  },
  {
   "cell_type": "markdown",
   "id": "31c3ec0b",
   "metadata": {},
   "source": [
    "### Performance of Tianshou Batch"
   ]
  },
  {
   "cell_type": "code",
   "execution_count": 25,
   "id": "9ead828a",
   "metadata": {
    "execution": {
     "iopub.execute_input": "2023-03-06T12:04:56.679323Z",
     "iopub.status.busy": "2023-03-06T12:04:56.678994Z",
     "iopub.status.idle": "2023-03-06T12:04:56.688521Z",
     "shell.execute_reply": "2023-03-06T12:04:56.687749Z"
    }
   },
   "outputs": [
    {
     "data": {
      "text/plain": [
       "Batch(\n",
       "    x: Batch(\n",
       "           c: tensor([[[ 0.2808, -0.0065,  1.2162, -0.9202],\n",
       "                       [-0.4691,  0.1119,  0.5934,  0.9626],\n",
       "                       [-0.7331, -0.0108,  0.5947,  1.3659]],\n",
       "              \n",
       "                      [[ 0.2808, -0.0065,  1.2162, -0.9202],\n",
       "                       [-0.4691,  0.1119,  0.5934,  0.9626],\n",
       "                       [-0.7331, -0.0108,  0.5947,  1.3659]],\n",
       "              \n",
       "                      [[ 0.2808, -0.0065,  1.2162, -0.9202],\n",
       "                       [-0.4691,  0.1119,  0.5934,  0.9626],\n",
       "                       [-0.7331, -0.0108,  0.5947,  1.3659]],\n",
       "              \n",
       "                      [[ 0.2808, -0.0065,  1.2162, -0.9202],\n",
       "                       [-0.4691,  0.1119,  0.5934,  0.9626],\n",
       "                       [-0.7331, -0.0108,  0.5947,  1.3659]],\n",
       "              \n",
       "                      [[ 0.2808, -0.0065,  1.2162, -0.9202],\n",
       "                       [-0.4691,  0.1119,  0.5934,  0.9626],\n",
       "                       [-0.7331, -0.0108,  0.5947,  1.3659]],\n",
       "              \n",
       "                      [[ 0.2808, -0.0065,  1.2162, -0.9202],\n",
       "                       [-0.4691,  0.1119,  0.5934,  0.9626],\n",
       "                       [-0.7331, -0.0108,  0.5947,  1.3659]],\n",
       "              \n",
       "                      [[ 0.2808, -0.0065,  1.2162, -0.9202],\n",
       "                       [-0.4691,  0.1119,  0.5934,  0.9626],\n",
       "                       [-0.7331, -0.0108,  0.5947,  1.3659]],\n",
       "              \n",
       "                      [[ 0.2808, -0.0065,  1.2162, -0.9202],\n",
       "                       [-0.4691,  0.1119,  0.5934,  0.9626],\n",
       "                       [-0.7331, -0.0108,  0.5947,  1.3659]]]),\n",
       "       ),\n",
       "    a: tensor([[[-0.4648,  0.1993,  1.8908],\n",
       "                [-0.4757,  0.4677,  0.6290]],\n",
       "       \n",
       "               [[-0.4648,  0.1993,  1.8908],\n",
       "                [-0.4757,  0.4677,  0.6290]],\n",
       "       \n",
       "               [[-0.4648,  0.1993,  1.8908],\n",
       "                [-0.4757,  0.4677,  0.6290]],\n",
       "       \n",
       "               [[-0.4648,  0.1993,  1.8908],\n",
       "                [-0.4757,  0.4677,  0.6290]],\n",
       "       \n",
       "               [[-0.4648,  0.1993,  1.8908],\n",
       "                [-0.4757,  0.4677,  0.6290]],\n",
       "       \n",
       "               [[-0.4648,  0.1993,  1.8908],\n",
       "                [-0.4757,  0.4677,  0.6290]],\n",
       "       \n",
       "               [[-0.4648,  0.1993,  1.8908],\n",
       "                [-0.4757,  0.4677,  0.6290]],\n",
       "       \n",
       "               [[-0.4648,  0.1993,  1.8908],\n",
       "                [-0.4757,  0.4677,  0.6290]]]),\n",
       ")"
      ]
     },
     "execution_count": 25,
     "metadata": {},
     "output_type": "execute_result"
    }
   ],
   "source": [
    "batches = [Batch(**_TREE_DATA_2) for _ in range(8)]\n",
    "\n",
    "Batch.stack(batches)"
   ]
  },
  {
   "cell_type": "code",
   "execution_count": 26,
   "id": "ec9037a3",
   "metadata": {
    "execution": {
     "iopub.execute_input": "2023-03-06T12:04:56.691798Z",
     "iopub.status.busy": "2023-03-06T12:04:56.691529Z",
     "iopub.status.idle": "2023-03-06T12:05:05.042054Z",
     "shell.execute_reply": "2023-03-06T12:05:05.040572Z"
    }
   },
   "outputs": [
    {
     "name": "stdout",
     "output_type": "stream",
     "text": [
      "103 µs ± 1.88 µs per loop (mean ± std. dev. of 7 runs, 10,000 loops each)\n"
     ]
    }
   ],
   "source": [
    "%timeit Batch.stack(batches)"
   ]
  },
  {
   "cell_type": "code",
   "execution_count": 27,
   "id": "cb8ab77e",
   "metadata": {
    "execution": {
     "iopub.execute_input": "2023-03-06T12:05:05.045311Z",
     "iopub.status.busy": "2023-03-06T12:05:05.044892Z",
     "iopub.status.idle": "2023-03-06T12:05:05.055200Z",
     "shell.execute_reply": "2023-03-06T12:05:05.054242Z"
    }
   },
   "outputs": [
    {
     "data": {
      "text/plain": [
       "Batch(\n",
       "    x: Batch(\n",
       "           c: tensor([[ 0.2808, -0.0065,  1.2162, -0.9202],\n",
       "                      [-0.4691,  0.1119,  0.5934,  0.9626],\n",
       "                      [-0.7331, -0.0108,  0.5947,  1.3659],\n",
       "                      [ 0.2808, -0.0065,  1.2162, -0.9202],\n",
       "                      [-0.4691,  0.1119,  0.5934,  0.9626],\n",
       "                      [-0.7331, -0.0108,  0.5947,  1.3659],\n",
       "                      [ 0.2808, -0.0065,  1.2162, -0.9202],\n",
       "                      [-0.4691,  0.1119,  0.5934,  0.9626],\n",
       "                      [-0.7331, -0.0108,  0.5947,  1.3659],\n",
       "                      [ 0.2808, -0.0065,  1.2162, -0.9202],\n",
       "                      [-0.4691,  0.1119,  0.5934,  0.9626],\n",
       "                      [-0.7331, -0.0108,  0.5947,  1.3659],\n",
       "                      [ 0.2808, -0.0065,  1.2162, -0.9202],\n",
       "                      [-0.4691,  0.1119,  0.5934,  0.9626],\n",
       "                      [-0.7331, -0.0108,  0.5947,  1.3659],\n",
       "                      [ 0.2808, -0.0065,  1.2162, -0.9202],\n",
       "                      [-0.4691,  0.1119,  0.5934,  0.9626],\n",
       "                      [-0.7331, -0.0108,  0.5947,  1.3659],\n",
       "                      [ 0.2808, -0.0065,  1.2162, -0.9202],\n",
       "                      [-0.4691,  0.1119,  0.5934,  0.9626],\n",
       "                      [-0.7331, -0.0108,  0.5947,  1.3659],\n",
       "                      [ 0.2808, -0.0065,  1.2162, -0.9202],\n",
       "                      [-0.4691,  0.1119,  0.5934,  0.9626],\n",
       "                      [-0.7331, -0.0108,  0.5947,  1.3659]]),\n",
       "       ),\n",
       "    a: tensor([[-0.4648,  0.1993,  1.8908],\n",
       "               [-0.4757,  0.4677,  0.6290],\n",
       "               [-0.4648,  0.1993,  1.8908],\n",
       "               [-0.4757,  0.4677,  0.6290],\n",
       "               [-0.4648,  0.1993,  1.8908],\n",
       "               [-0.4757,  0.4677,  0.6290],\n",
       "               [-0.4648,  0.1993,  1.8908],\n",
       "               [-0.4757,  0.4677,  0.6290],\n",
       "               [-0.4648,  0.1993,  1.8908],\n",
       "               [-0.4757,  0.4677,  0.6290],\n",
       "               [-0.4648,  0.1993,  1.8908],\n",
       "               [-0.4757,  0.4677,  0.6290],\n",
       "               [-0.4648,  0.1993,  1.8908],\n",
       "               [-0.4757,  0.4677,  0.6290],\n",
       "               [-0.4648,  0.1993,  1.8908],\n",
       "               [-0.4757,  0.4677,  0.6290]]),\n",
       ")"
      ]
     },
     "execution_count": 27,
     "metadata": {},
     "output_type": "execute_result"
    }
   ],
   "source": [
    "Batch.cat(batches)"
   ]
  },
  {
   "cell_type": "code",
   "execution_count": 28,
   "id": "18dfb045",
   "metadata": {
    "execution": {
     "iopub.execute_input": "2023-03-06T12:05:05.058480Z",
     "iopub.status.busy": "2023-03-06T12:05:05.058188Z",
     "iopub.status.idle": "2023-03-06T12:05:19.896101Z",
     "shell.execute_reply": "2023-03-06T12:05:19.895120Z"
    }
   },
   "outputs": [
    {
     "name": "stdout",
     "output_type": "stream",
     "text": [
      "182 µs ± 7.61 µs per loop (mean ± std. dev. of 7 runs, 10,000 loops each)\n"
     ]
    }
   ],
   "source": [
    "%timeit Batch.cat(batches)"
   ]
  },
  {
   "cell_type": "code",
   "execution_count": 29,
   "id": "c6688e51",
   "metadata": {
    "execution": {
     "iopub.execute_input": "2023-03-06T12:05:19.899676Z",
     "iopub.status.busy": "2023-03-06T12:05:19.899209Z",
     "iopub.status.idle": "2023-03-06T12:05:24.095412Z",
     "shell.execute_reply": "2023-03-06T12:05:24.094540Z"
    }
   },
   "outputs": [
    {
     "name": "stdout",
     "output_type": "stream",
     "text": [
      "518 µs ± 14.2 µs per loop (mean ± std. dev. of 7 runs, 1,000 loops each)\n"
     ]
    }
   ],
   "source": [
    "batch = Batch({\n",
    "    'obs': torch.randn(8, 4, 84, 84),\n",
    "    'action': torch.randint(0, 6, size=(8, 1,)),\n",
    "    'reward': torch.rand(8, 1)}\n",
    ")\n",
    "\n",
    "%timeit list(Batch.split(batch, 1, shuffle=False, merge_last=True))"
   ]
  },
  {
   "cell_type": "code",
   "execution_count": null,
   "id": "2539fbd9",
   "metadata": {},
   "outputs": [],
   "source": []
  }
 ],
 "metadata": {
  "kernelspec": {
   "display_name": "Python 3 (ipykernel)",
   "language": "python",
   "name": "python3"
  },
  "language_info": {
   "codemirror_mode": {
    "name": "ipython",
    "version": 3
   },
   "file_extension": ".py",
   "mimetype": "text/x-python",
   "name": "python",
   "nbconvert_exporter": "python",
   "pygments_lexer": "ipython3",
   "version": "3.8.16"
  }
 },
 "nbformat": 4,
 "nbformat_minor": 5
}
