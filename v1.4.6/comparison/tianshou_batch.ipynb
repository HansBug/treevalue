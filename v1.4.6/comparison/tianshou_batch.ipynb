{
 "cells": [
  {
   "cell_type": "markdown",
   "id": "9d39d946",
   "metadata": {},
   "source": [
    "# Comparison Between TreeValue and Tianshou Batch"
   ]
  },
  {
   "cell_type": "markdown",
   "id": "3c6db2d4",
   "metadata": {},
   "source": [
    "In this section, we will take a look at the feature and performance of the [Tianshou Batch](https://github.com/thu-ml/tianshou) library, which is developed by Tsinghua Machine Learning Group."
   ]
  },
  {
   "cell_type": "markdown",
   "id": "069361b0",
   "metadata": {},
   "source": [
    "Before starting the comparison, let us define some thing."
   ]
  },
  {
   "cell_type": "code",
   "execution_count": 1,
   "id": "06fc8d26",
   "metadata": {
    "execution": {
     "iopub.execute_input": "2023-02-27T13:07:54.815393Z",
     "iopub.status.busy": "2023-02-27T13:07:54.814764Z",
     "iopub.status.idle": "2023-02-27T13:07:55.954302Z",
     "shell.execute_reply": "2023-02-27T13:07:55.953398Z"
    }
   },
   "outputs": [
    {
     "name": "stderr",
     "output_type": "stream",
     "text": [
      "/opt/hostedtoolcache/Python/3.8.16/x64/lib/python3.8/site-packages/tqdm/auto.py:22: TqdmWarning: IProgress not found. Please update jupyter and ipywidgets. See https://ipywidgets.readthedocs.io/en/stable/user_install.html\n",
      "  from .autonotebook import tqdm as notebook_tqdm\n"
     ]
    }
   ],
   "source": [
    "import torch \n",
    "\n",
    "_TREE_DATA_1 = {'a': 1, 'b': 2, 'x': {'c': 3, 'd': 4}}\n",
    "_TREE_DATA_2 = {\n",
    "    'a': torch.randn(2, 3), \n",
    "    'x': {\n",
    "        'c': torch.randn(3, 4)\n",
    "    },\n",
    "}\n",
    "_TREE_DATA_3 = {\n",
    "    'obs': torch.randn(4, 84, 84),\n",
    "    'action': torch.randint(0, 6, size=(1,)),\n",
    "    'reward': torch.rand(1),\n",
    "}"
   ]
  },
  {
   "cell_type": "markdown",
   "id": "83461b25",
   "metadata": {},
   "source": [
    "## Read and Write Operation"
   ]
  },
  {
   "cell_type": "markdown",
   "id": "067b3f73",
   "metadata": {},
   "source": [
    "Reading and writing are the two most common operations in the tree data structure based on the data model (TreeValue and Tianshou Batch both belong to this type), so this section will compare the reading and writing performance of these two libraries."
   ]
  },
  {
   "cell_type": "markdown",
   "id": "5d09a5b7",
   "metadata": {},
   "source": [
    "### TreeValue's Get and Set"
   ]
  },
  {
   "cell_type": "code",
   "execution_count": 2,
   "id": "9519c4bb",
   "metadata": {
    "execution": {
     "iopub.execute_input": "2023-02-27T13:07:55.958748Z",
     "iopub.status.busy": "2023-02-27T13:07:55.958119Z",
     "iopub.status.idle": "2023-02-27T13:07:56.305599Z",
     "shell.execute_reply": "2023-02-27T13:07:56.304292Z"
    }
   },
   "outputs": [],
   "source": [
    "from treevalue import FastTreeValue\n",
    "\n",
    "t = FastTreeValue(_TREE_DATA_2)"
   ]
  },
  {
   "cell_type": "code",
   "execution_count": 3,
   "id": "11c37677",
   "metadata": {
    "execution": {
     "iopub.execute_input": "2023-02-27T13:07:56.309807Z",
     "iopub.status.busy": "2023-02-27T13:07:56.309431Z",
     "iopub.status.idle": "2023-02-27T13:07:56.322072Z",
     "shell.execute_reply": "2023-02-27T13:07:56.321302Z"
    }
   },
   "outputs": [
    {
     "data": {
      "text/plain": [
       "<FastTreeValue 0x7fcdf8921370>\n",
       "├── 'a' --> tensor([[-0.9872,  0.3353,  1.0311],\n",
       "│                   [ 0.2495, -0.1852,  0.7661]])\n",
       "└── 'x' --> <FastTreeValue 0x7fcdf89216a0>\n",
       "    └── 'c' --> tensor([[ 0.1433,  0.1027,  2.0063,  1.3426],\n",
       "                        [ 0.2865,  0.0586, -0.6048, -1.0196],\n",
       "                        [-1.8792,  0.2377,  0.2134,  0.1113]])"
      ]
     },
     "execution_count": 3,
     "metadata": {},
     "output_type": "execute_result"
    }
   ],
   "source": [
    "t"
   ]
  },
  {
   "cell_type": "code",
   "execution_count": 4,
   "id": "fd70b0b9",
   "metadata": {
    "execution": {
     "iopub.execute_input": "2023-02-27T13:07:56.325798Z",
     "iopub.status.busy": "2023-02-27T13:07:56.325197Z",
     "iopub.status.idle": "2023-02-27T13:07:56.333053Z",
     "shell.execute_reply": "2023-02-27T13:07:56.332353Z"
    }
   },
   "outputs": [
    {
     "data": {
      "text/plain": [
       "tensor([[-0.9872,  0.3353,  1.0311],\n",
       "        [ 0.2495, -0.1852,  0.7661]])"
      ]
     },
     "execution_count": 4,
     "metadata": {},
     "output_type": "execute_result"
    }
   ],
   "source": [
    "t.a"
   ]
  },
  {
   "cell_type": "code",
   "execution_count": 5,
   "id": "c18197bd",
   "metadata": {
    "execution": {
     "iopub.execute_input": "2023-02-27T13:07:56.336254Z",
     "iopub.status.busy": "2023-02-27T13:07:56.335731Z",
     "iopub.status.idle": "2023-02-27T13:08:02.692200Z",
     "shell.execute_reply": "2023-02-27T13:08:02.691193Z"
    }
   },
   "outputs": [
    {
     "name": "stdout",
     "output_type": "stream",
     "text": [
      "77.8 ns ± 0.258 ns per loop (mean ± std. dev. of 7 runs, 10,000,000 loops each)\n"
     ]
    }
   ],
   "source": [
    "%timeit t.a"
   ]
  },
  {
   "cell_type": "code",
   "execution_count": 6,
   "id": "bd52f867",
   "metadata": {
    "execution": {
     "iopub.execute_input": "2023-02-27T13:08:02.696174Z",
     "iopub.status.busy": "2023-02-27T13:08:02.695384Z",
     "iopub.status.idle": "2023-02-27T13:08:02.704967Z",
     "shell.execute_reply": "2023-02-27T13:08:02.704265Z"
    }
   },
   "outputs": [
    {
     "data": {
      "text/plain": [
       "<FastTreeValue 0x7fcdf8921370>\n",
       "├── 'a' --> tensor([[ 0.9678, -1.4829, -0.0901],\n",
       "│                   [ 1.1839, -0.2621, -0.4483]])\n",
       "└── 'x' --> <FastTreeValue 0x7fcdf89216a0>\n",
       "    └── 'c' --> tensor([[ 0.1433,  0.1027,  2.0063,  1.3426],\n",
       "                        [ 0.2865,  0.0586, -0.6048, -1.0196],\n",
       "                        [-1.8792,  0.2377,  0.2134,  0.1113]])"
      ]
     },
     "execution_count": 6,
     "metadata": {},
     "output_type": "execute_result"
    }
   ],
   "source": [
    "new_value = torch.randn(2, 3)\n",
    "t.a = new_value\n",
    "\n",
    "t"
   ]
  },
  {
   "cell_type": "code",
   "execution_count": 7,
   "id": "bbe04d1c",
   "metadata": {
    "execution": {
     "iopub.execute_input": "2023-02-27T13:08:02.708182Z",
     "iopub.status.busy": "2023-02-27T13:08:02.707546Z",
     "iopub.status.idle": "2023-02-27T13:08:09.594886Z",
     "shell.execute_reply": "2023-02-27T13:08:09.593681Z"
    }
   },
   "outputs": [
    {
     "name": "stdout",
     "output_type": "stream",
     "text": [
      "84.4 ns ± 1.8 ns per loop (mean ± std. dev. of 7 runs, 10,000,000 loops each)\n"
     ]
    }
   ],
   "source": [
    "%timeit t.a = new_value"
   ]
  },
  {
   "cell_type": "markdown",
   "id": "48c49731",
   "metadata": {},
   "source": [
    "### Tianshou Batch's Get and Set"
   ]
  },
  {
   "cell_type": "code",
   "execution_count": 8,
   "id": "f1bb14c1",
   "metadata": {
    "execution": {
     "iopub.execute_input": "2023-02-27T13:08:09.598891Z",
     "iopub.status.busy": "2023-02-27T13:08:09.598323Z",
     "iopub.status.idle": "2023-02-27T13:08:10.011702Z",
     "shell.execute_reply": "2023-02-27T13:08:10.010799Z"
    }
   },
   "outputs": [],
   "source": [
    "from tianshou.data import Batch\n",
    "\n",
    "b = Batch(**_TREE_DATA_2)"
   ]
  },
  {
   "cell_type": "code",
   "execution_count": 9,
   "id": "cb0777c3",
   "metadata": {
    "execution": {
     "iopub.execute_input": "2023-02-27T13:08:10.015604Z",
     "iopub.status.busy": "2023-02-27T13:08:10.015043Z",
     "iopub.status.idle": "2023-02-27T13:08:10.022688Z",
     "shell.execute_reply": "2023-02-27T13:08:10.021959Z"
    }
   },
   "outputs": [
    {
     "data": {
      "text/plain": [
       "Batch(\n",
       "    a: tensor([[-0.9872,  0.3353,  1.0311],\n",
       "               [ 0.2495, -0.1852,  0.7661]]),\n",
       "    x: Batch(\n",
       "           c: tensor([[ 0.1433,  0.1027,  2.0063,  1.3426],\n",
       "                      [ 0.2865,  0.0586, -0.6048, -1.0196],\n",
       "                      [-1.8792,  0.2377,  0.2134,  0.1113]]),\n",
       "       ),\n",
       ")"
      ]
     },
     "execution_count": 9,
     "metadata": {},
     "output_type": "execute_result"
    }
   ],
   "source": [
    "b"
   ]
  },
  {
   "cell_type": "code",
   "execution_count": 10,
   "id": "43ef8ea3",
   "metadata": {
    "execution": {
     "iopub.execute_input": "2023-02-27T13:08:10.025987Z",
     "iopub.status.busy": "2023-02-27T13:08:10.025501Z",
     "iopub.status.idle": "2023-02-27T13:08:10.031190Z",
     "shell.execute_reply": "2023-02-27T13:08:10.030415Z"
    }
   },
   "outputs": [
    {
     "data": {
      "text/plain": [
       "tensor([[-0.9872,  0.3353,  1.0311],\n",
       "        [ 0.2495, -0.1852,  0.7661]])"
      ]
     },
     "execution_count": 10,
     "metadata": {},
     "output_type": "execute_result"
    }
   ],
   "source": [
    "b.a"
   ]
  },
  {
   "cell_type": "code",
   "execution_count": 11,
   "id": "b785ab72",
   "metadata": {
    "execution": {
     "iopub.execute_input": "2023-02-27T13:08:10.034173Z",
     "iopub.status.busy": "2023-02-27T13:08:10.033677Z",
     "iopub.status.idle": "2023-02-27T13:08:15.633313Z",
     "shell.execute_reply": "2023-02-27T13:08:15.632053Z"
    }
   },
   "outputs": [
    {
     "name": "stdout",
     "output_type": "stream",
     "text": [
      "68.8 ns ± 0.18 ns per loop (mean ± std. dev. of 7 runs, 10,000,000 loops each)\n"
     ]
    }
   ],
   "source": [
    "%timeit b.a"
   ]
  },
  {
   "cell_type": "code",
   "execution_count": 12,
   "id": "ad54dc69",
   "metadata": {
    "execution": {
     "iopub.execute_input": "2023-02-27T13:08:15.639834Z",
     "iopub.status.busy": "2023-02-27T13:08:15.639104Z",
     "iopub.status.idle": "2023-02-27T13:08:15.646187Z",
     "shell.execute_reply": "2023-02-27T13:08:15.645378Z"
    }
   },
   "outputs": [
    {
     "data": {
      "text/plain": [
       "Batch(\n",
       "    a: tensor([[ 1.2561, -0.7506, -1.1251],\n",
       "               [ 1.6792,  0.9943, -0.6769]]),\n",
       "    x: Batch(\n",
       "           c: tensor([[ 0.1433,  0.1027,  2.0063,  1.3426],\n",
       "                      [ 0.2865,  0.0586, -0.6048, -1.0196],\n",
       "                      [-1.8792,  0.2377,  0.2134,  0.1113]]),\n",
       "       ),\n",
       ")"
      ]
     },
     "execution_count": 12,
     "metadata": {},
     "output_type": "execute_result"
    }
   ],
   "source": [
    "new_value = torch.randn(2, 3)\n",
    "b.a = new_value\n",
    "\n",
    "b"
   ]
  },
  {
   "cell_type": "code",
   "execution_count": 13,
   "id": "29b1d0bf",
   "metadata": {
    "execution": {
     "iopub.execute_input": "2023-02-27T13:08:15.649369Z",
     "iopub.status.busy": "2023-02-27T13:08:15.648953Z",
     "iopub.status.idle": "2023-02-27T13:08:20.378690Z",
     "shell.execute_reply": "2023-02-27T13:08:20.377367Z"
    }
   },
   "outputs": [
    {
     "name": "stdout",
     "output_type": "stream",
     "text": [
      "581 ns ± 1.87 ns per loop (mean ± std. dev. of 7 runs, 1,000,000 loops each)\n"
     ]
    }
   ],
   "source": [
    "%timeit b.a = new_value"
   ]
  },
  {
   "cell_type": "markdown",
   "id": "b61ad1d0",
   "metadata": {},
   "source": [
    "## Initialization"
   ]
  },
  {
   "cell_type": "markdown",
   "id": "d70f0d54",
   "metadata": {},
   "source": [
    "### TreeValue's Initialization"
   ]
  },
  {
   "cell_type": "code",
   "execution_count": 14,
   "id": "d32a679b",
   "metadata": {
    "execution": {
     "iopub.execute_input": "2023-02-27T13:08:20.382949Z",
     "iopub.status.busy": "2023-02-27T13:08:20.382248Z",
     "iopub.status.idle": "2023-02-27T13:08:28.329306Z",
     "shell.execute_reply": "2023-02-27T13:08:28.328162Z"
    }
   },
   "outputs": [
    {
     "name": "stdout",
     "output_type": "stream",
     "text": [
      "970 ns ± 2.21 ns per loop (mean ± std. dev. of 7 runs, 1,000,000 loops each)\n"
     ]
    }
   ],
   "source": [
    "%timeit FastTreeValue(_TREE_DATA_1)"
   ]
  },
  {
   "cell_type": "markdown",
   "id": "24f3707b",
   "metadata": {},
   "source": [
    "### Tianshou Batch's Initialization"
   ]
  },
  {
   "cell_type": "code",
   "execution_count": 15,
   "id": "ac3958df",
   "metadata": {
    "execution": {
     "iopub.execute_input": "2023-02-27T13:08:28.333382Z",
     "iopub.status.busy": "2023-02-27T13:08:28.332870Z",
     "iopub.status.idle": "2023-02-27T13:08:38.011760Z",
     "shell.execute_reply": "2023-02-27T13:08:38.010740Z"
    }
   },
   "outputs": [
    {
     "name": "stdout",
     "output_type": "stream",
     "text": [
      "11.9 µs ± 9.5 ns per loop (mean ± std. dev. of 7 runs, 100,000 loops each)\n"
     ]
    }
   ],
   "source": [
    "%timeit Batch(**_TREE_DATA_1)"
   ]
  },
  {
   "cell_type": "markdown",
   "id": "1ab82e2d",
   "metadata": {},
   "source": [
    "## Deep Copy Operation"
   ]
  },
  {
   "cell_type": "code",
   "execution_count": 16,
   "id": "210a9442",
   "metadata": {
    "execution": {
     "iopub.execute_input": "2023-02-27T13:08:38.016166Z",
     "iopub.status.busy": "2023-02-27T13:08:38.015466Z",
     "iopub.status.idle": "2023-02-27T13:08:38.019776Z",
     "shell.execute_reply": "2023-02-27T13:08:38.019023Z"
    }
   },
   "outputs": [],
   "source": [
    "import copy"
   ]
  },
  {
   "cell_type": "markdown",
   "id": "5a736274",
   "metadata": {},
   "source": [
    "### Deep Copy of TreeValue"
   ]
  },
  {
   "cell_type": "code",
   "execution_count": 17,
   "id": "f9bcadd6",
   "metadata": {
    "execution": {
     "iopub.execute_input": "2023-02-27T13:08:38.023280Z",
     "iopub.status.busy": "2023-02-27T13:08:38.022660Z",
     "iopub.status.idle": "2023-02-27T13:08:51.563972Z",
     "shell.execute_reply": "2023-02-27T13:08:51.563160Z"
    }
   },
   "outputs": [
    {
     "name": "stdout",
     "output_type": "stream",
     "text": [
      "167 µs ± 468 ns per loop (mean ± std. dev. of 7 runs, 10,000 loops each)\n"
     ]
    }
   ],
   "source": [
    "t3 = FastTreeValue(_TREE_DATA_3)\n",
    "%timeit copy.deepcopy(t3)"
   ]
  },
  {
   "cell_type": "markdown",
   "id": "bf8be7ea",
   "metadata": {},
   "source": [
    "### Deep Copy of Tianshou Batch"
   ]
  },
  {
   "cell_type": "code",
   "execution_count": 18,
   "id": "91998e6f",
   "metadata": {
    "execution": {
     "iopub.execute_input": "2023-02-27T13:08:51.567668Z",
     "iopub.status.busy": "2023-02-27T13:08:51.567377Z",
     "iopub.status.idle": "2023-02-27T13:09:05.275552Z",
     "shell.execute_reply": "2023-02-27T13:09:05.274786Z"
    }
   },
   "outputs": [
    {
     "name": "stdout",
     "output_type": "stream",
     "text": [
      "169 µs ± 8.13 µs per loop (mean ± std. dev. of 7 runs, 10,000 loops each)\n"
     ]
    }
   ],
   "source": [
    "b3 = Batch(**_TREE_DATA_3)\n",
    "%timeit copy.deepcopy(b3)"
   ]
  },
  {
   "cell_type": "markdown",
   "id": "223162fb",
   "metadata": {},
   "source": [
    "## Stack, Concat and Split Operation"
   ]
  },
  {
   "cell_type": "markdown",
   "id": "85fa4a73",
   "metadata": {},
   "source": [
    "### Performance of TreeValue"
   ]
  },
  {
   "cell_type": "code",
   "execution_count": 19,
   "id": "a0c2b697",
   "metadata": {
    "execution": {
     "iopub.execute_input": "2023-02-27T13:09:05.279696Z",
     "iopub.status.busy": "2023-02-27T13:09:05.278932Z",
     "iopub.status.idle": "2023-02-27T13:09:05.283781Z",
     "shell.execute_reply": "2023-02-27T13:09:05.282963Z"
    }
   },
   "outputs": [],
   "source": [
    "trees = [FastTreeValue(_TREE_DATA_2) for _ in range(8)]"
   ]
  },
  {
   "cell_type": "code",
   "execution_count": 20,
   "id": "017ea5a5",
   "metadata": {
    "execution": {
     "iopub.execute_input": "2023-02-27T13:09:05.287196Z",
     "iopub.status.busy": "2023-02-27T13:09:05.286472Z",
     "iopub.status.idle": "2023-02-27T13:09:05.296035Z",
     "shell.execute_reply": "2023-02-27T13:09:05.295246Z"
    }
   },
   "outputs": [
    {
     "data": {
      "text/plain": [
       "<FastTreeValue 0x7fcdf8914220>\n",
       "├── 'a' --> tensor([[[-0.9872,  0.3353,  1.0311],\n",
       "│                    [ 0.2495, -0.1852,  0.7661]],\n",
       "│           \n",
       "│                   [[-0.9872,  0.3353,  1.0311],\n",
       "│                    [ 0.2495, -0.1852,  0.7661]],\n",
       "│           \n",
       "│                   [[-0.9872,  0.3353,  1.0311],\n",
       "│                    [ 0.2495, -0.1852,  0.7661]],\n",
       "│           \n",
       "│                   [[-0.9872,  0.3353,  1.0311],\n",
       "│                    [ 0.2495, -0.1852,  0.7661]],\n",
       "│           \n",
       "│                   [[-0.9872,  0.3353,  1.0311],\n",
       "│                    [ 0.2495, -0.1852,  0.7661]],\n",
       "│           \n",
       "│                   [[-0.9872,  0.3353,  1.0311],\n",
       "│                    [ 0.2495, -0.1852,  0.7661]],\n",
       "│           \n",
       "│                   [[-0.9872,  0.3353,  1.0311],\n",
       "│                    [ 0.2495, -0.1852,  0.7661]],\n",
       "│           \n",
       "│                   [[-0.9872,  0.3353,  1.0311],\n",
       "│                    [ 0.2495, -0.1852,  0.7661]]])\n",
       "└── 'x' --> <FastTreeValue 0x7fcdf8921d60>\n",
       "    └── 'c' --> tensor([[[ 0.1433,  0.1027,  2.0063,  1.3426],\n",
       "                         [ 0.2865,  0.0586, -0.6048, -1.0196],\n",
       "                         [-1.8792,  0.2377,  0.2134,  0.1113]],\n",
       "                \n",
       "                        [[ 0.1433,  0.1027,  2.0063,  1.3426],\n",
       "                         [ 0.2865,  0.0586, -0.6048, -1.0196],\n",
       "                         [-1.8792,  0.2377,  0.2134,  0.1113]],\n",
       "                \n",
       "                        [[ 0.1433,  0.1027,  2.0063,  1.3426],\n",
       "                         [ 0.2865,  0.0586, -0.6048, -1.0196],\n",
       "                         [-1.8792,  0.2377,  0.2134,  0.1113]],\n",
       "                \n",
       "                        [[ 0.1433,  0.1027,  2.0063,  1.3426],\n",
       "                         [ 0.2865,  0.0586, -0.6048, -1.0196],\n",
       "                         [-1.8792,  0.2377,  0.2134,  0.1113]],\n",
       "                \n",
       "                        [[ 0.1433,  0.1027,  2.0063,  1.3426],\n",
       "                         [ 0.2865,  0.0586, -0.6048, -1.0196],\n",
       "                         [-1.8792,  0.2377,  0.2134,  0.1113]],\n",
       "                \n",
       "                        [[ 0.1433,  0.1027,  2.0063,  1.3426],\n",
       "                         [ 0.2865,  0.0586, -0.6048, -1.0196],\n",
       "                         [-1.8792,  0.2377,  0.2134,  0.1113]],\n",
       "                \n",
       "                        [[ 0.1433,  0.1027,  2.0063,  1.3426],\n",
       "                         [ 0.2865,  0.0586, -0.6048, -1.0196],\n",
       "                         [-1.8792,  0.2377,  0.2134,  0.1113]],\n",
       "                \n",
       "                        [[ 0.1433,  0.1027,  2.0063,  1.3426],\n",
       "                         [ 0.2865,  0.0586, -0.6048, -1.0196],\n",
       "                         [-1.8792,  0.2377,  0.2134,  0.1113]]])"
      ]
     },
     "execution_count": 20,
     "metadata": {},
     "output_type": "execute_result"
    }
   ],
   "source": [
    "t_stack = FastTreeValue.func(subside=True)(torch.stack)\n",
    "\n",
    "t_stack(trees)"
   ]
  },
  {
   "cell_type": "code",
   "execution_count": 21,
   "id": "f8b3f415",
   "metadata": {
    "execution": {
     "iopub.execute_input": "2023-02-27T13:09:05.299433Z",
     "iopub.status.busy": "2023-02-27T13:09:05.298933Z",
     "iopub.status.idle": "2023-02-27T13:09:08.501692Z",
     "shell.execute_reply": "2023-02-27T13:09:08.500505Z"
    }
   },
   "outputs": [
    {
     "name": "stdout",
     "output_type": "stream",
     "text": [
      "39.4 µs ± 276 ns per loop (mean ± std. dev. of 7 runs, 10,000 loops each)\n"
     ]
    }
   ],
   "source": [
    "%timeit t_stack(trees)"
   ]
  },
  {
   "cell_type": "code",
   "execution_count": 22,
   "id": "94b56771",
   "metadata": {
    "execution": {
     "iopub.execute_input": "2023-02-27T13:09:08.505211Z",
     "iopub.status.busy": "2023-02-27T13:09:08.504766Z",
     "iopub.status.idle": "2023-02-27T13:09:08.514193Z",
     "shell.execute_reply": "2023-02-27T13:09:08.513453Z"
    }
   },
   "outputs": [
    {
     "data": {
      "text/plain": [
       "<FastTreeValue 0x7fcd41bb7af0>\n",
       "├── 'a' --> tensor([[-0.9872,  0.3353,  1.0311],\n",
       "│                   [ 0.2495, -0.1852,  0.7661],\n",
       "│                   [-0.9872,  0.3353,  1.0311],\n",
       "│                   [ 0.2495, -0.1852,  0.7661],\n",
       "│                   [-0.9872,  0.3353,  1.0311],\n",
       "│                   [ 0.2495, -0.1852,  0.7661],\n",
       "│                   [-0.9872,  0.3353,  1.0311],\n",
       "│                   [ 0.2495, -0.1852,  0.7661],\n",
       "│                   [-0.9872,  0.3353,  1.0311],\n",
       "│                   [ 0.2495, -0.1852,  0.7661],\n",
       "│                   [-0.9872,  0.3353,  1.0311],\n",
       "│                   [ 0.2495, -0.1852,  0.7661],\n",
       "│                   [-0.9872,  0.3353,  1.0311],\n",
       "│                   [ 0.2495, -0.1852,  0.7661],\n",
       "│                   [-0.9872,  0.3353,  1.0311],\n",
       "│                   [ 0.2495, -0.1852,  0.7661]])\n",
       "└── 'x' --> <FastTreeValue 0x7fcd41bb7a30>\n",
       "    └── 'c' --> tensor([[ 0.1433,  0.1027,  2.0063,  1.3426],\n",
       "                        [ 0.2865,  0.0586, -0.6048, -1.0196],\n",
       "                        [-1.8792,  0.2377,  0.2134,  0.1113],\n",
       "                        [ 0.1433,  0.1027,  2.0063,  1.3426],\n",
       "                        [ 0.2865,  0.0586, -0.6048, -1.0196],\n",
       "                        [-1.8792,  0.2377,  0.2134,  0.1113],\n",
       "                        [ 0.1433,  0.1027,  2.0063,  1.3426],\n",
       "                        [ 0.2865,  0.0586, -0.6048, -1.0196],\n",
       "                        [-1.8792,  0.2377,  0.2134,  0.1113],\n",
       "                        [ 0.1433,  0.1027,  2.0063,  1.3426],\n",
       "                        [ 0.2865,  0.0586, -0.6048, -1.0196],\n",
       "                        [-1.8792,  0.2377,  0.2134,  0.1113],\n",
       "                        [ 0.1433,  0.1027,  2.0063,  1.3426],\n",
       "                        [ 0.2865,  0.0586, -0.6048, -1.0196],\n",
       "                        [-1.8792,  0.2377,  0.2134,  0.1113],\n",
       "                        [ 0.1433,  0.1027,  2.0063,  1.3426],\n",
       "                        [ 0.2865,  0.0586, -0.6048, -1.0196],\n",
       "                        [-1.8792,  0.2377,  0.2134,  0.1113],\n",
       "                        [ 0.1433,  0.1027,  2.0063,  1.3426],\n",
       "                        [ 0.2865,  0.0586, -0.6048, -1.0196],\n",
       "                        [-1.8792,  0.2377,  0.2134,  0.1113],\n",
       "                        [ 0.1433,  0.1027,  2.0063,  1.3426],\n",
       "                        [ 0.2865,  0.0586, -0.6048, -1.0196],\n",
       "                        [-1.8792,  0.2377,  0.2134,  0.1113]])"
      ]
     },
     "execution_count": 22,
     "metadata": {},
     "output_type": "execute_result"
    }
   ],
   "source": [
    "t_cat = FastTreeValue.func(subside=True)(torch.cat)\n",
    "\n",
    "t_cat(trees)"
   ]
  },
  {
   "cell_type": "code",
   "execution_count": 23,
   "id": "5e9c06a6",
   "metadata": {
    "execution": {
     "iopub.execute_input": "2023-02-27T13:09:08.517453Z",
     "iopub.status.busy": "2023-02-27T13:09:08.517000Z",
     "iopub.status.idle": "2023-02-27T13:09:11.526770Z",
     "shell.execute_reply": "2023-02-27T13:09:11.525724Z"
    }
   },
   "outputs": [
    {
     "name": "stdout",
     "output_type": "stream",
     "text": [
      "37 µs ± 190 ns per loop (mean ± std. dev. of 7 runs, 10,000 loops each)\n"
     ]
    }
   ],
   "source": [
    "%timeit t_cat(trees)"
   ]
  },
  {
   "cell_type": "code",
   "execution_count": 24,
   "id": "a3ab5c8f",
   "metadata": {
    "execution": {
     "iopub.execute_input": "2023-02-27T13:09:11.530931Z",
     "iopub.status.busy": "2023-02-27T13:09:11.530401Z",
     "iopub.status.idle": "2023-02-27T13:09:16.915112Z",
     "shell.execute_reply": "2023-02-27T13:09:16.913798Z"
    }
   },
   "outputs": [
    {
     "name": "stdout",
     "output_type": "stream",
     "text": [
      "66.2 µs ± 173 ns per loop (mean ± std. dev. of 7 runs, 10,000 loops each)\n"
     ]
    }
   ],
   "source": [
    "t_split = FastTreeValue.func(rise=True)(torch.split)\n",
    "tree = FastTreeValue({\n",
    "    'obs': torch.randn(8, 4, 84, 84),\n",
    "    'action': torch.randint(0, 6, size=(8, 1,)),\n",
    "    'reward': torch.rand(8, 1),\n",
    "})\n",
    "\n",
    "%timeit t_split(tree, 1)"
   ]
  },
  {
   "cell_type": "markdown",
   "id": "31c3ec0b",
   "metadata": {},
   "source": [
    "### Performance of Tianshou Batch"
   ]
  },
  {
   "cell_type": "code",
   "execution_count": 25,
   "id": "9ead828a",
   "metadata": {
    "execution": {
     "iopub.execute_input": "2023-02-27T13:09:16.918855Z",
     "iopub.status.busy": "2023-02-27T13:09:16.918371Z",
     "iopub.status.idle": "2023-02-27T13:09:16.927723Z",
     "shell.execute_reply": "2023-02-27T13:09:16.926896Z"
    }
   },
   "outputs": [
    {
     "data": {
      "text/plain": [
       "Batch(\n",
       "    a: tensor([[[-0.9872,  0.3353,  1.0311],\n",
       "                [ 0.2495, -0.1852,  0.7661]],\n",
       "       \n",
       "               [[-0.9872,  0.3353,  1.0311],\n",
       "                [ 0.2495, -0.1852,  0.7661]],\n",
       "       \n",
       "               [[-0.9872,  0.3353,  1.0311],\n",
       "                [ 0.2495, -0.1852,  0.7661]],\n",
       "       \n",
       "               [[-0.9872,  0.3353,  1.0311],\n",
       "                [ 0.2495, -0.1852,  0.7661]],\n",
       "       \n",
       "               [[-0.9872,  0.3353,  1.0311],\n",
       "                [ 0.2495, -0.1852,  0.7661]],\n",
       "       \n",
       "               [[-0.9872,  0.3353,  1.0311],\n",
       "                [ 0.2495, -0.1852,  0.7661]],\n",
       "       \n",
       "               [[-0.9872,  0.3353,  1.0311],\n",
       "                [ 0.2495, -0.1852,  0.7661]],\n",
       "       \n",
       "               [[-0.9872,  0.3353,  1.0311],\n",
       "                [ 0.2495, -0.1852,  0.7661]]]),\n",
       "    x: Batch(\n",
       "           c: tensor([[[ 0.1433,  0.1027,  2.0063,  1.3426],\n",
       "                       [ 0.2865,  0.0586, -0.6048, -1.0196],\n",
       "                       [-1.8792,  0.2377,  0.2134,  0.1113]],\n",
       "              \n",
       "                      [[ 0.1433,  0.1027,  2.0063,  1.3426],\n",
       "                       [ 0.2865,  0.0586, -0.6048, -1.0196],\n",
       "                       [-1.8792,  0.2377,  0.2134,  0.1113]],\n",
       "              \n",
       "                      [[ 0.1433,  0.1027,  2.0063,  1.3426],\n",
       "                       [ 0.2865,  0.0586, -0.6048, -1.0196],\n",
       "                       [-1.8792,  0.2377,  0.2134,  0.1113]],\n",
       "              \n",
       "                      [[ 0.1433,  0.1027,  2.0063,  1.3426],\n",
       "                       [ 0.2865,  0.0586, -0.6048, -1.0196],\n",
       "                       [-1.8792,  0.2377,  0.2134,  0.1113]],\n",
       "              \n",
       "                      [[ 0.1433,  0.1027,  2.0063,  1.3426],\n",
       "                       [ 0.2865,  0.0586, -0.6048, -1.0196],\n",
       "                       [-1.8792,  0.2377,  0.2134,  0.1113]],\n",
       "              \n",
       "                      [[ 0.1433,  0.1027,  2.0063,  1.3426],\n",
       "                       [ 0.2865,  0.0586, -0.6048, -1.0196],\n",
       "                       [-1.8792,  0.2377,  0.2134,  0.1113]],\n",
       "              \n",
       "                      [[ 0.1433,  0.1027,  2.0063,  1.3426],\n",
       "                       [ 0.2865,  0.0586, -0.6048, -1.0196],\n",
       "                       [-1.8792,  0.2377,  0.2134,  0.1113]],\n",
       "              \n",
       "                      [[ 0.1433,  0.1027,  2.0063,  1.3426],\n",
       "                       [ 0.2865,  0.0586, -0.6048, -1.0196],\n",
       "                       [-1.8792,  0.2377,  0.2134,  0.1113]]]),\n",
       "       ),\n",
       ")"
      ]
     },
     "execution_count": 25,
     "metadata": {},
     "output_type": "execute_result"
    }
   ],
   "source": [
    "batches = [Batch(**_TREE_DATA_2) for _ in range(8)]\n",
    "\n",
    "Batch.stack(batches)"
   ]
  },
  {
   "cell_type": "code",
   "execution_count": 26,
   "id": "ec9037a3",
   "metadata": {
    "execution": {
     "iopub.execute_input": "2023-02-27T13:09:16.931534Z",
     "iopub.status.busy": "2023-02-27T13:09:16.931235Z",
     "iopub.status.idle": "2023-02-27T13:09:24.365030Z",
     "shell.execute_reply": "2023-02-27T13:09:24.364159Z"
    }
   },
   "outputs": [
    {
     "name": "stdout",
     "output_type": "stream",
     "text": [
      "91.4 µs ± 518 ns per loop (mean ± std. dev. of 7 runs, 10,000 loops each)\n"
     ]
    }
   ],
   "source": [
    "%timeit Batch.stack(batches)"
   ]
  },
  {
   "cell_type": "code",
   "execution_count": 27,
   "id": "cb8ab77e",
   "metadata": {
    "execution": {
     "iopub.execute_input": "2023-02-27T13:09:24.368371Z",
     "iopub.status.busy": "2023-02-27T13:09:24.367864Z",
     "iopub.status.idle": "2023-02-27T13:09:24.376027Z",
     "shell.execute_reply": "2023-02-27T13:09:24.375203Z"
    }
   },
   "outputs": [
    {
     "data": {
      "text/plain": [
       "Batch(\n",
       "    a: tensor([[-0.9872,  0.3353,  1.0311],\n",
       "               [ 0.2495, -0.1852,  0.7661],\n",
       "               [-0.9872,  0.3353,  1.0311],\n",
       "               [ 0.2495, -0.1852,  0.7661],\n",
       "               [-0.9872,  0.3353,  1.0311],\n",
       "               [ 0.2495, -0.1852,  0.7661],\n",
       "               [-0.9872,  0.3353,  1.0311],\n",
       "               [ 0.2495, -0.1852,  0.7661],\n",
       "               [-0.9872,  0.3353,  1.0311],\n",
       "               [ 0.2495, -0.1852,  0.7661],\n",
       "               [-0.9872,  0.3353,  1.0311],\n",
       "               [ 0.2495, -0.1852,  0.7661],\n",
       "               [-0.9872,  0.3353,  1.0311],\n",
       "               [ 0.2495, -0.1852,  0.7661],\n",
       "               [-0.9872,  0.3353,  1.0311],\n",
       "               [ 0.2495, -0.1852,  0.7661]]),\n",
       "    x: Batch(\n",
       "           c: tensor([[ 0.1433,  0.1027,  2.0063,  1.3426],\n",
       "                      [ 0.2865,  0.0586, -0.6048, -1.0196],\n",
       "                      [-1.8792,  0.2377,  0.2134,  0.1113],\n",
       "                      [ 0.1433,  0.1027,  2.0063,  1.3426],\n",
       "                      [ 0.2865,  0.0586, -0.6048, -1.0196],\n",
       "                      [-1.8792,  0.2377,  0.2134,  0.1113],\n",
       "                      [ 0.1433,  0.1027,  2.0063,  1.3426],\n",
       "                      [ 0.2865,  0.0586, -0.6048, -1.0196],\n",
       "                      [-1.8792,  0.2377,  0.2134,  0.1113],\n",
       "                      [ 0.1433,  0.1027,  2.0063,  1.3426],\n",
       "                      [ 0.2865,  0.0586, -0.6048, -1.0196],\n",
       "                      [-1.8792,  0.2377,  0.2134,  0.1113],\n",
       "                      [ 0.1433,  0.1027,  2.0063,  1.3426],\n",
       "                      [ 0.2865,  0.0586, -0.6048, -1.0196],\n",
       "                      [-1.8792,  0.2377,  0.2134,  0.1113],\n",
       "                      [ 0.1433,  0.1027,  2.0063,  1.3426],\n",
       "                      [ 0.2865,  0.0586, -0.6048, -1.0196],\n",
       "                      [-1.8792,  0.2377,  0.2134,  0.1113],\n",
       "                      [ 0.1433,  0.1027,  2.0063,  1.3426],\n",
       "                      [ 0.2865,  0.0586, -0.6048, -1.0196],\n",
       "                      [-1.8792,  0.2377,  0.2134,  0.1113],\n",
       "                      [ 0.1433,  0.1027,  2.0063,  1.3426],\n",
       "                      [ 0.2865,  0.0586, -0.6048, -1.0196],\n",
       "                      [-1.8792,  0.2377,  0.2134,  0.1113]]),\n",
       "       ),\n",
       ")"
      ]
     },
     "execution_count": 27,
     "metadata": {},
     "output_type": "execute_result"
    }
   ],
   "source": [
    "Batch.cat(batches)"
   ]
  },
  {
   "cell_type": "code",
   "execution_count": 28,
   "id": "18dfb045",
   "metadata": {
    "execution": {
     "iopub.execute_input": "2023-02-27T13:09:24.379716Z",
     "iopub.status.busy": "2023-02-27T13:09:24.379009Z",
     "iopub.status.idle": "2023-02-27T13:09:37.969805Z",
     "shell.execute_reply": "2023-02-27T13:09:37.968525Z"
    }
   },
   "outputs": [
    {
     "name": "stdout",
     "output_type": "stream",
     "text": [
      "167 µs ± 335 ns per loop (mean ± std. dev. of 7 runs, 10,000 loops each)\n"
     ]
    }
   ],
   "source": [
    "%timeit Batch.cat(batches)"
   ]
  },
  {
   "cell_type": "code",
   "execution_count": 29,
   "id": "c6688e51",
   "metadata": {
    "execution": {
     "iopub.execute_input": "2023-02-27T13:09:37.974120Z",
     "iopub.status.busy": "2023-02-27T13:09:37.973320Z",
     "iopub.status.idle": "2023-02-27T13:09:41.133621Z",
     "shell.execute_reply": "2023-02-27T13:09:41.132904Z"
    }
   },
   "outputs": [
    {
     "name": "stdout",
     "output_type": "stream",
     "text": [
      "388 µs ± 2.47 µs per loop (mean ± std. dev. of 7 runs, 1,000 loops each)\n"
     ]
    }
   ],
   "source": [
    "batch = Batch({\n",
    "    'obs': torch.randn(8, 4, 84, 84),\n",
    "    'action': torch.randint(0, 6, size=(8, 1,)),\n",
    "    'reward': torch.rand(8, 1)}\n",
    ")\n",
    "\n",
    "%timeit list(Batch.split(batch, 1, shuffle=False, merge_last=True))"
   ]
  },
  {
   "cell_type": "code",
   "execution_count": null,
   "id": "2539fbd9",
   "metadata": {},
   "outputs": [],
   "source": []
  }
 ],
 "metadata": {
  "kernelspec": {
   "display_name": "Python 3 (ipykernel)",
   "language": "python",
   "name": "python3"
  },
  "language_info": {
   "codemirror_mode": {
    "name": "ipython",
    "version": 3
   },
   "file_extension": ".py",
   "mimetype": "text/x-python",
   "name": "python",
   "nbconvert_exporter": "python",
   "pygments_lexer": "ipython3",
   "version": "3.8.16"
  }
 },
 "nbformat": 4,
 "nbformat_minor": 5
}
