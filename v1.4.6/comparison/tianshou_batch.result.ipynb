{
 "cells": [
  {
   "cell_type": "markdown",
   "id": "9d39d946",
   "metadata": {},
   "source": [
    "# Comparison Between TreeValue and Tianshou Batch"
   ]
  },
  {
   "cell_type": "markdown",
   "id": "3c6db2d4",
   "metadata": {},
   "source": [
    "In this section, we will take a look at the feature and performance of the [Tianshou Batch](https://github.com/thu-ml/tianshou) library, which is developed by Tsinghua Machine Learning Group."
   ]
  },
  {
   "cell_type": "markdown",
   "id": "069361b0",
   "metadata": {},
   "source": [
    "Before starting the comparison, let us define some thing."
   ]
  },
  {
   "cell_type": "code",
   "execution_count": 1,
   "id": "06fc8d26",
   "metadata": {
    "execution": {
     "iopub.execute_input": "2023-05-26T09:08:08.459431Z",
     "iopub.status.busy": "2023-05-26T09:08:08.458827Z",
     "iopub.status.idle": "2023-05-26T09:08:09.807610Z",
     "shell.execute_reply": "2023-05-26T09:08:09.806784Z"
    }
   },
   "outputs": [],
   "source": [
    "import torch \n",
    "\n",
    "_TREE_DATA_1 = {'a': 1, 'b': 2, 'x': {'c': 3, 'd': 4}}\n",
    "_TREE_DATA_2 = {\n",
    "    'a': torch.randn(2, 3), \n",
    "    'x': {\n",
    "        'c': torch.randn(3, 4)\n",
    "    },\n",
    "}\n",
    "_TREE_DATA_3 = {\n",
    "    'obs': torch.randn(4, 84, 84),\n",
    "    'action': torch.randint(0, 6, size=(1,)),\n",
    "    'reward': torch.rand(1),\n",
    "}"
   ]
  },
  {
   "cell_type": "markdown",
   "id": "83461b25",
   "metadata": {},
   "source": [
    "## Read and Write Operation"
   ]
  },
  {
   "cell_type": "markdown",
   "id": "067b3f73",
   "metadata": {},
   "source": [
    "Reading and writing are the two most common operations in the tree data structure based on the data model (TreeValue and Tianshou Batch both belong to this type), so this section will compare the reading and writing performance of these two libraries."
   ]
  },
  {
   "cell_type": "markdown",
   "id": "5d09a5b7",
   "metadata": {},
   "source": [
    "### TreeValue's Get and Set"
   ]
  },
  {
   "cell_type": "code",
   "execution_count": 2,
   "id": "9519c4bb",
   "metadata": {
    "execution": {
     "iopub.execute_input": "2023-05-26T09:08:09.811701Z",
     "iopub.status.busy": "2023-05-26T09:08:09.811214Z",
     "iopub.status.idle": "2023-05-26T09:08:10.098244Z",
     "shell.execute_reply": "2023-05-26T09:08:10.097367Z"
    }
   },
   "outputs": [],
   "source": [
    "from treevalue import FastTreeValue\n",
    "\n",
    "t = FastTreeValue(_TREE_DATA_2)"
   ]
  },
  {
   "cell_type": "code",
   "execution_count": 3,
   "id": "11c37677",
   "metadata": {
    "execution": {
     "iopub.execute_input": "2023-05-26T09:08:10.102477Z",
     "iopub.status.busy": "2023-05-26T09:08:10.101974Z",
     "iopub.status.idle": "2023-05-26T09:08:10.114434Z",
     "shell.execute_reply": "2023-05-26T09:08:10.113281Z"
    }
   },
   "outputs": [
    {
     "data": {
      "text/plain": [
       "<FastTreeValue 0x7f3590472ee0>\n",
       "├── 'a' --> tensor([[-1.5548,  0.6711,  0.0644],\n",
       "│                   [-0.7434, -0.3867,  0.7153]])\n",
       "└── 'x' --> <FastTreeValue 0x7f359046d5e0>\n",
       "    └── 'c' --> tensor([[-1.4016, -1.3053, -1.2831, -1.4641],\n",
       "                        [-0.9743,  0.9682,  0.3768, -1.1201],\n",
       "                        [-0.6099, -1.0846, -0.3544,  1.9093]])"
      ]
     },
     "execution_count": 3,
     "metadata": {},
     "output_type": "execute_result"
    }
   ],
   "source": [
    "t"
   ]
  },
  {
   "cell_type": "code",
   "execution_count": 4,
   "id": "fd70b0b9",
   "metadata": {
    "execution": {
     "iopub.execute_input": "2023-05-26T09:08:10.118543Z",
     "iopub.status.busy": "2023-05-26T09:08:10.117972Z",
     "iopub.status.idle": "2023-05-26T09:08:10.123580Z",
     "shell.execute_reply": "2023-05-26T09:08:10.122875Z"
    }
   },
   "outputs": [
    {
     "data": {
      "text/plain": [
       "tensor([[-1.5548,  0.6711,  0.0644],\n",
       "        [-0.7434, -0.3867,  0.7153]])"
      ]
     },
     "execution_count": 4,
     "metadata": {},
     "output_type": "execute_result"
    }
   ],
   "source": [
    "t.a"
   ]
  },
  {
   "cell_type": "code",
   "execution_count": 5,
   "id": "c18197bd",
   "metadata": {
    "execution": {
     "iopub.execute_input": "2023-05-26T09:08:10.126911Z",
     "iopub.status.busy": "2023-05-26T09:08:10.126343Z",
     "iopub.status.idle": "2023-05-26T09:08:15.338197Z",
     "shell.execute_reply": "2023-05-26T09:08:15.337323Z"
    }
   },
   "outputs": [
    {
     "name": "stdout",
     "output_type": "stream",
     "text": [
      "63.9 ns ± 0.125 ns per loop (mean ± std. dev. of 7 runs, 10,000,000 loops each)\n"
     ]
    }
   ],
   "source": [
    "%timeit t.a"
   ]
  },
  {
   "cell_type": "code",
   "execution_count": 6,
   "id": "bd52f867",
   "metadata": {
    "execution": {
     "iopub.execute_input": "2023-05-26T09:08:15.342340Z",
     "iopub.status.busy": "2023-05-26T09:08:15.341819Z",
     "iopub.status.idle": "2023-05-26T09:08:15.348308Z",
     "shell.execute_reply": "2023-05-26T09:08:15.347575Z"
    }
   },
   "outputs": [
    {
     "data": {
      "text/plain": [
       "<FastTreeValue 0x7f3590472ee0>\n",
       "├── 'a' --> tensor([[-1.5840, -0.4415,  0.9279],\n",
       "│                   [ 0.5243, -1.6960, -0.0154]])\n",
       "└── 'x' --> <FastTreeValue 0x7f359046d5e0>\n",
       "    └── 'c' --> tensor([[-1.4016, -1.3053, -1.2831, -1.4641],\n",
       "                        [-0.9743,  0.9682,  0.3768, -1.1201],\n",
       "                        [-0.6099, -1.0846, -0.3544,  1.9093]])"
      ]
     },
     "execution_count": 6,
     "metadata": {},
     "output_type": "execute_result"
    }
   ],
   "source": [
    "new_value = torch.randn(2, 3)\n",
    "t.a = new_value\n",
    "\n",
    "t"
   ]
  },
  {
   "cell_type": "code",
   "execution_count": 7,
   "id": "bbe04d1c",
   "metadata": {
    "execution": {
     "iopub.execute_input": "2023-05-26T09:08:15.351271Z",
     "iopub.status.busy": "2023-05-26T09:08:15.350903Z",
     "iopub.status.idle": "2023-05-26T09:08:21.121132Z",
     "shell.execute_reply": "2023-05-26T09:08:21.120459Z"
    }
   },
   "outputs": [
    {
     "name": "stdout",
     "output_type": "stream",
     "text": [
      "71 ns ± 0.0709 ns per loop (mean ± std. dev. of 7 runs, 10,000,000 loops each)\n"
     ]
    }
   ],
   "source": [
    "%timeit t.a = new_value"
   ]
  },
  {
   "cell_type": "markdown",
   "id": "48c49731",
   "metadata": {},
   "source": [
    "### Tianshou Batch's Get and Set"
   ]
  },
  {
   "cell_type": "code",
   "execution_count": 8,
   "id": "f1bb14c1",
   "metadata": {
    "execution": {
     "iopub.execute_input": "2023-05-26T09:08:21.124633Z",
     "iopub.status.busy": "2023-05-26T09:08:21.124125Z",
     "iopub.status.idle": "2023-05-26T09:08:21.487778Z",
     "shell.execute_reply": "2023-05-26T09:08:21.487019Z"
    }
   },
   "outputs": [],
   "source": [
    "from tianshou.data import Batch\n",
    "\n",
    "b = Batch(**_TREE_DATA_2)"
   ]
  },
  {
   "cell_type": "code",
   "execution_count": 9,
   "id": "cb0777c3",
   "metadata": {
    "execution": {
     "iopub.execute_input": "2023-05-26T09:08:21.491743Z",
     "iopub.status.busy": "2023-05-26T09:08:21.491217Z",
     "iopub.status.idle": "2023-05-26T09:08:21.497480Z",
     "shell.execute_reply": "2023-05-26T09:08:21.496927Z"
    }
   },
   "outputs": [
    {
     "data": {
      "text/plain": [
       "Batch(\n",
       "    a: tensor([[-1.5548,  0.6711,  0.0644],\n",
       "               [-0.7434, -0.3867,  0.7153]]),\n",
       "    x: Batch(\n",
       "           c: tensor([[-1.4016, -1.3053, -1.2831, -1.4641],\n",
       "                      [-0.9743,  0.9682,  0.3768, -1.1201],\n",
       "                      [-0.6099, -1.0846, -0.3544,  1.9093]]),\n",
       "       ),\n",
       ")"
      ]
     },
     "execution_count": 9,
     "metadata": {},
     "output_type": "execute_result"
    }
   ],
   "source": [
    "b"
   ]
  },
  {
   "cell_type": "code",
   "execution_count": 10,
   "id": "43ef8ea3",
   "metadata": {
    "execution": {
     "iopub.execute_input": "2023-05-26T09:08:21.501693Z",
     "iopub.status.busy": "2023-05-26T09:08:21.501169Z",
     "iopub.status.idle": "2023-05-26T09:08:21.506272Z",
     "shell.execute_reply": "2023-05-26T09:08:21.505582Z"
    }
   },
   "outputs": [
    {
     "data": {
      "text/plain": [
       "tensor([[-1.5548,  0.6711,  0.0644],\n",
       "        [-0.7434, -0.3867,  0.7153]])"
      ]
     },
     "execution_count": 10,
     "metadata": {},
     "output_type": "execute_result"
    }
   ],
   "source": [
    "b.a"
   ]
  },
  {
   "cell_type": "code",
   "execution_count": 11,
   "id": "b785ab72",
   "metadata": {
    "execution": {
     "iopub.execute_input": "2023-05-26T09:08:21.509905Z",
     "iopub.status.busy": "2023-05-26T09:08:21.509531Z",
     "iopub.status.idle": "2023-05-26T09:08:26.217738Z",
     "shell.execute_reply": "2023-05-26T09:08:26.216988Z"
    }
   },
   "outputs": [
    {
     "name": "stdout",
     "output_type": "stream",
     "text": [
      "57.7 ns ± 0.214 ns per loop (mean ± std. dev. of 7 runs, 10,000,000 loops each)\n"
     ]
    }
   ],
   "source": [
    "%timeit b.a"
   ]
  },
  {
   "cell_type": "code",
   "execution_count": 12,
   "id": "ad54dc69",
   "metadata": {
    "execution": {
     "iopub.execute_input": "2023-05-26T09:08:26.221263Z",
     "iopub.status.busy": "2023-05-26T09:08:26.221002Z",
     "iopub.status.idle": "2023-05-26T09:08:26.227960Z",
     "shell.execute_reply": "2023-05-26T09:08:26.227305Z"
    }
   },
   "outputs": [
    {
     "data": {
      "text/plain": [
       "Batch(\n",
       "    a: tensor([[-0.2956, -0.1550, -1.4741],\n",
       "               [ 1.2510,  0.7931,  0.2571]]),\n",
       "    x: Batch(\n",
       "           c: tensor([[-1.4016, -1.3053, -1.2831, -1.4641],\n",
       "                      [-0.9743,  0.9682,  0.3768, -1.1201],\n",
       "                      [-0.6099, -1.0846, -0.3544,  1.9093]]),\n",
       "       ),\n",
       ")"
      ]
     },
     "execution_count": 12,
     "metadata": {},
     "output_type": "execute_result"
    }
   ],
   "source": [
    "new_value = torch.randn(2, 3)\n",
    "b.a = new_value\n",
    "\n",
    "b"
   ]
  },
  {
   "cell_type": "code",
   "execution_count": 13,
   "id": "29b1d0bf",
   "metadata": {
    "execution": {
     "iopub.execute_input": "2023-05-26T09:08:26.231452Z",
     "iopub.status.busy": "2023-05-26T09:08:26.230828Z",
     "iopub.status.idle": "2023-05-26T09:08:30.233408Z",
     "shell.execute_reply": "2023-05-26T09:08:30.232742Z"
    }
   },
   "outputs": [
    {
     "name": "stdout",
     "output_type": "stream",
     "text": [
      "493 ns ± 0.273 ns per loop (mean ± std. dev. of 7 runs, 1,000,000 loops each)\n"
     ]
    }
   ],
   "source": [
    "%timeit b.a = new_value"
   ]
  },
  {
   "cell_type": "markdown",
   "id": "b61ad1d0",
   "metadata": {},
   "source": [
    "## Initialization"
   ]
  },
  {
   "cell_type": "markdown",
   "id": "d70f0d54",
   "metadata": {},
   "source": [
    "### TreeValue's Initialization"
   ]
  },
  {
   "cell_type": "code",
   "execution_count": 14,
   "id": "d32a679b",
   "metadata": {
    "execution": {
     "iopub.execute_input": "2023-05-26T09:08:30.237044Z",
     "iopub.status.busy": "2023-05-26T09:08:30.236395Z",
     "iopub.status.idle": "2023-05-26T09:08:37.145939Z",
     "shell.execute_reply": "2023-05-26T09:08:37.145263Z"
    }
   },
   "outputs": [
    {
     "name": "stdout",
     "output_type": "stream",
     "text": [
      "851 ns ± 1.05 ns per loop (mean ± std. dev. of 7 runs, 1,000,000 loops each)\n"
     ]
    }
   ],
   "source": [
    "%timeit FastTreeValue(_TREE_DATA_1)"
   ]
  },
  {
   "cell_type": "markdown",
   "id": "24f3707b",
   "metadata": {},
   "source": [
    "### Tianshou Batch's Initialization"
   ]
  },
  {
   "cell_type": "code",
   "execution_count": 15,
   "id": "ac3958df",
   "metadata": {
    "execution": {
     "iopub.execute_input": "2023-05-26T09:08:37.149354Z",
     "iopub.status.busy": "2023-05-26T09:08:37.148741Z",
     "iopub.status.idle": "2023-05-26T09:08:45.780662Z",
     "shell.execute_reply": "2023-05-26T09:08:45.779951Z"
    }
   },
   "outputs": [
    {
     "name": "stdout",
     "output_type": "stream",
     "text": [
      "10.6 µs ± 28.5 ns per loop (mean ± std. dev. of 7 runs, 100,000 loops each)\n"
     ]
    }
   ],
   "source": [
    "%timeit Batch(**_TREE_DATA_1)"
   ]
  },
  {
   "cell_type": "markdown",
   "id": "1ab82e2d",
   "metadata": {},
   "source": [
    "## Deep Copy Operation"
   ]
  },
  {
   "cell_type": "code",
   "execution_count": 16,
   "id": "210a9442",
   "metadata": {
    "execution": {
     "iopub.execute_input": "2023-05-26T09:08:45.783994Z",
     "iopub.status.busy": "2023-05-26T09:08:45.783501Z",
     "iopub.status.idle": "2023-05-26T09:08:45.786851Z",
     "shell.execute_reply": "2023-05-26T09:08:45.786148Z"
    }
   },
   "outputs": [],
   "source": [
    "import copy"
   ]
  },
  {
   "cell_type": "markdown",
   "id": "5a736274",
   "metadata": {},
   "source": [
    "### Deep Copy of TreeValue"
   ]
  },
  {
   "cell_type": "code",
   "execution_count": 17,
   "id": "f9bcadd6",
   "metadata": {
    "execution": {
     "iopub.execute_input": "2023-05-26T09:08:45.790228Z",
     "iopub.status.busy": "2023-05-26T09:08:45.789691Z",
     "iopub.status.idle": "2023-05-26T09:08:57.460446Z",
     "shell.execute_reply": "2023-05-26T09:08:57.459770Z"
    }
   },
   "outputs": [
    {
     "name": "stdout",
     "output_type": "stream",
     "text": [
      "144 µs ± 382 ns per loop (mean ± std. dev. of 7 runs, 10,000 loops each)\n"
     ]
    }
   ],
   "source": [
    "t3 = FastTreeValue(_TREE_DATA_3)\n",
    "%timeit copy.deepcopy(t3)"
   ]
  },
  {
   "cell_type": "markdown",
   "id": "bf8be7ea",
   "metadata": {},
   "source": [
    "### Deep Copy of Tianshou Batch"
   ]
  },
  {
   "cell_type": "code",
   "execution_count": 18,
   "id": "91998e6f",
   "metadata": {
    "execution": {
     "iopub.execute_input": "2023-05-26T09:08:57.463842Z",
     "iopub.status.busy": "2023-05-26T09:08:57.463338Z",
     "iopub.status.idle": "2023-05-26T09:09:09.270688Z",
     "shell.execute_reply": "2023-05-26T09:09:09.270065Z"
    }
   },
   "outputs": [
    {
     "name": "stdout",
     "output_type": "stream",
     "text": [
      "146 µs ± 5.37 µs per loop (mean ± std. dev. of 7 runs, 10,000 loops each)\n"
     ]
    }
   ],
   "source": [
    "b3 = Batch(**_TREE_DATA_3)\n",
    "%timeit copy.deepcopy(b3)"
   ]
  },
  {
   "cell_type": "markdown",
   "id": "223162fb",
   "metadata": {},
   "source": [
    "## Stack, Concat and Split Operation"
   ]
  },
  {
   "cell_type": "markdown",
   "id": "85fa4a73",
   "metadata": {},
   "source": [
    "### Performance of TreeValue"
   ]
  },
  {
   "cell_type": "code",
   "execution_count": 19,
   "id": "a0c2b697",
   "metadata": {
    "execution": {
     "iopub.execute_input": "2023-05-26T09:09:09.274065Z",
     "iopub.status.busy": "2023-05-26T09:09:09.273555Z",
     "iopub.status.idle": "2023-05-26T09:09:09.277047Z",
     "shell.execute_reply": "2023-05-26T09:09:09.276483Z"
    }
   },
   "outputs": [],
   "source": [
    "trees = [FastTreeValue(_TREE_DATA_2) for _ in range(8)]"
   ]
  },
  {
   "cell_type": "code",
   "execution_count": 20,
   "id": "017ea5a5",
   "metadata": {
    "execution": {
     "iopub.execute_input": "2023-05-26T09:09:09.279996Z",
     "iopub.status.busy": "2023-05-26T09:09:09.279373Z",
     "iopub.status.idle": "2023-05-26T09:09:09.286633Z",
     "shell.execute_reply": "2023-05-26T09:09:09.286086Z"
    }
   },
   "outputs": [
    {
     "data": {
      "text/plain": [
       "<FastTreeValue 0x7f34b9246520>\n",
       "├── 'a' --> tensor([[[-1.5548,  0.6711,  0.0644],\n",
       "│                    [-0.7434, -0.3867,  0.7153]],\n",
       "│           \n",
       "│                   [[-1.5548,  0.6711,  0.0644],\n",
       "│                    [-0.7434, -0.3867,  0.7153]],\n",
       "│           \n",
       "│                   [[-1.5548,  0.6711,  0.0644],\n",
       "│                    [-0.7434, -0.3867,  0.7153]],\n",
       "│           \n",
       "│                   [[-1.5548,  0.6711,  0.0644],\n",
       "│                    [-0.7434, -0.3867,  0.7153]],\n",
       "│           \n",
       "│                   [[-1.5548,  0.6711,  0.0644],\n",
       "│                    [-0.7434, -0.3867,  0.7153]],\n",
       "│           \n",
       "│                   [[-1.5548,  0.6711,  0.0644],\n",
       "│                    [-0.7434, -0.3867,  0.7153]],\n",
       "│           \n",
       "│                   [[-1.5548,  0.6711,  0.0644],\n",
       "│                    [-0.7434, -0.3867,  0.7153]],\n",
       "│           \n",
       "│                   [[-1.5548,  0.6711,  0.0644],\n",
       "│                    [-0.7434, -0.3867,  0.7153]]])\n",
       "└── 'x' --> <FastTreeValue 0x7f34b9246040>\n",
       "    └── 'c' --> tensor([[[-1.4016, -1.3053, -1.2831, -1.4641],\n",
       "                         [-0.9743,  0.9682,  0.3768, -1.1201],\n",
       "                         [-0.6099, -1.0846, -0.3544,  1.9093]],\n",
       "                \n",
       "                        [[-1.4016, -1.3053, -1.2831, -1.4641],\n",
       "                         [-0.9743,  0.9682,  0.3768, -1.1201],\n",
       "                         [-0.6099, -1.0846, -0.3544,  1.9093]],\n",
       "                \n",
       "                        [[-1.4016, -1.3053, -1.2831, -1.4641],\n",
       "                         [-0.9743,  0.9682,  0.3768, -1.1201],\n",
       "                         [-0.6099, -1.0846, -0.3544,  1.9093]],\n",
       "                \n",
       "                        [[-1.4016, -1.3053, -1.2831, -1.4641],\n",
       "                         [-0.9743,  0.9682,  0.3768, -1.1201],\n",
       "                         [-0.6099, -1.0846, -0.3544,  1.9093]],\n",
       "                \n",
       "                        [[-1.4016, -1.3053, -1.2831, -1.4641],\n",
       "                         [-0.9743,  0.9682,  0.3768, -1.1201],\n",
       "                         [-0.6099, -1.0846, -0.3544,  1.9093]],\n",
       "                \n",
       "                        [[-1.4016, -1.3053, -1.2831, -1.4641],\n",
       "                         [-0.9743,  0.9682,  0.3768, -1.1201],\n",
       "                         [-0.6099, -1.0846, -0.3544,  1.9093]],\n",
       "                \n",
       "                        [[-1.4016, -1.3053, -1.2831, -1.4641],\n",
       "                         [-0.9743,  0.9682,  0.3768, -1.1201],\n",
       "                         [-0.6099, -1.0846, -0.3544,  1.9093]],\n",
       "                \n",
       "                        [[-1.4016, -1.3053, -1.2831, -1.4641],\n",
       "                         [-0.9743,  0.9682,  0.3768, -1.1201],\n",
       "                         [-0.6099, -1.0846, -0.3544,  1.9093]]])"
      ]
     },
     "execution_count": 20,
     "metadata": {},
     "output_type": "execute_result"
    }
   ],
   "source": [
    "t_stack = FastTreeValue.func(subside=True)(torch.stack)\n",
    "\n",
    "t_stack(trees)"
   ]
  },
  {
   "cell_type": "code",
   "execution_count": 21,
   "id": "f8b3f415",
   "metadata": {
    "execution": {
     "iopub.execute_input": "2023-05-26T09:09:09.289580Z",
     "iopub.status.busy": "2023-05-26T09:09:09.288976Z",
     "iopub.status.idle": "2023-05-26T09:09:11.949078Z",
     "shell.execute_reply": "2023-05-26T09:09:11.948341Z"
    }
   },
   "outputs": [
    {
     "name": "stdout",
     "output_type": "stream",
     "text": [
      "32.7 µs ± 56.3 ns per loop (mean ± std. dev. of 7 runs, 10,000 loops each)\n"
     ]
    }
   ],
   "source": [
    "%timeit t_stack(trees)"
   ]
  },
  {
   "cell_type": "code",
   "execution_count": 22,
   "id": "94b56771",
   "metadata": {
    "execution": {
     "iopub.execute_input": "2023-05-26T09:09:11.952690Z",
     "iopub.status.busy": "2023-05-26T09:09:11.951937Z",
     "iopub.status.idle": "2023-05-26T09:09:11.962212Z",
     "shell.execute_reply": "2023-05-26T09:09:11.961379Z"
    }
   },
   "outputs": [
    {
     "data": {
      "text/plain": [
       "<FastTreeValue 0x7f3593501700>\n",
       "├── 'a' --> tensor([[-1.5548,  0.6711,  0.0644],\n",
       "│                   [-0.7434, -0.3867,  0.7153],\n",
       "│                   [-1.5548,  0.6711,  0.0644],\n",
       "│                   [-0.7434, -0.3867,  0.7153],\n",
       "│                   [-1.5548,  0.6711,  0.0644],\n",
       "│                   [-0.7434, -0.3867,  0.7153],\n",
       "│                   [-1.5548,  0.6711,  0.0644],\n",
       "│                   [-0.7434, -0.3867,  0.7153],\n",
       "│                   [-1.5548,  0.6711,  0.0644],\n",
       "│                   [-0.7434, -0.3867,  0.7153],\n",
       "│                   [-1.5548,  0.6711,  0.0644],\n",
       "│                   [-0.7434, -0.3867,  0.7153],\n",
       "│                   [-1.5548,  0.6711,  0.0644],\n",
       "│                   [-0.7434, -0.3867,  0.7153],\n",
       "│                   [-1.5548,  0.6711,  0.0644],\n",
       "│                   [-0.7434, -0.3867,  0.7153]])\n",
       "└── 'x' --> <FastTreeValue 0x7f34cb83ca00>\n",
       "    └── 'c' --> tensor([[-1.4016, -1.3053, -1.2831, -1.4641],\n",
       "                        [-0.9743,  0.9682,  0.3768, -1.1201],\n",
       "                        [-0.6099, -1.0846, -0.3544,  1.9093],\n",
       "                        [-1.4016, -1.3053, -1.2831, -1.4641],\n",
       "                        [-0.9743,  0.9682,  0.3768, -1.1201],\n",
       "                        [-0.6099, -1.0846, -0.3544,  1.9093],\n",
       "                        [-1.4016, -1.3053, -1.2831, -1.4641],\n",
       "                        [-0.9743,  0.9682,  0.3768, -1.1201],\n",
       "                        [-0.6099, -1.0846, -0.3544,  1.9093],\n",
       "                        [-1.4016, -1.3053, -1.2831, -1.4641],\n",
       "                        [-0.9743,  0.9682,  0.3768, -1.1201],\n",
       "                        [-0.6099, -1.0846, -0.3544,  1.9093],\n",
       "                        [-1.4016, -1.3053, -1.2831, -1.4641],\n",
       "                        [-0.9743,  0.9682,  0.3768, -1.1201],\n",
       "                        [-0.6099, -1.0846, -0.3544,  1.9093],\n",
       "                        [-1.4016, -1.3053, -1.2831, -1.4641],\n",
       "                        [-0.9743,  0.9682,  0.3768, -1.1201],\n",
       "                        [-0.6099, -1.0846, -0.3544,  1.9093],\n",
       "                        [-1.4016, -1.3053, -1.2831, -1.4641],\n",
       "                        [-0.9743,  0.9682,  0.3768, -1.1201],\n",
       "                        [-0.6099, -1.0846, -0.3544,  1.9093],\n",
       "                        [-1.4016, -1.3053, -1.2831, -1.4641],\n",
       "                        [-0.9743,  0.9682,  0.3768, -1.1201],\n",
       "                        [-0.6099, -1.0846, -0.3544,  1.9093]])"
      ]
     },
     "execution_count": 22,
     "metadata": {},
     "output_type": "execute_result"
    }
   ],
   "source": [
    "t_cat = FastTreeValue.func(subside=True)(torch.cat)\n",
    "\n",
    "t_cat(trees)"
   ]
  },
  {
   "cell_type": "code",
   "execution_count": 23,
   "id": "5e9c06a6",
   "metadata": {
    "execution": {
     "iopub.execute_input": "2023-05-26T09:09:11.965881Z",
     "iopub.status.busy": "2023-05-26T09:09:11.965343Z",
     "iopub.status.idle": "2023-05-26T09:09:14.460386Z",
     "shell.execute_reply": "2023-05-26T09:09:14.459464Z"
    }
   },
   "outputs": [
    {
     "name": "stdout",
     "output_type": "stream",
     "text": [
      "30.7 µs ± 26.6 ns per loop (mean ± std. dev. of 7 runs, 10,000 loops each)\n"
     ]
    }
   ],
   "source": [
    "%timeit t_cat(trees)"
   ]
  },
  {
   "cell_type": "code",
   "execution_count": 24,
   "id": "a3ab5c8f",
   "metadata": {
    "execution": {
     "iopub.execute_input": "2023-05-26T09:09:14.464546Z",
     "iopub.status.busy": "2023-05-26T09:09:14.463857Z",
     "iopub.status.idle": "2023-05-26T09:09:19.869425Z",
     "shell.execute_reply": "2023-05-26T09:09:19.868619Z"
    }
   },
   "outputs": [
    {
     "name": "stdout",
     "output_type": "stream",
     "text": [
      "66.5 µs ± 50.3 ns per loop (mean ± std. dev. of 7 runs, 10,000 loops each)\n"
     ]
    }
   ],
   "source": [
    "t_split = FastTreeValue.func(rise=True)(torch.split)\n",
    "tree = FastTreeValue({\n",
    "    'obs': torch.randn(8, 4, 84, 84),\n",
    "    'action': torch.randint(0, 6, size=(8, 1,)),\n",
    "    'reward': torch.rand(8, 1),\n",
    "})\n",
    "\n",
    "%timeit t_split(tree, 1)"
   ]
  },
  {
   "cell_type": "markdown",
   "id": "31c3ec0b",
   "metadata": {},
   "source": [
    "### Performance of Tianshou Batch"
   ]
  },
  {
   "cell_type": "code",
   "execution_count": 25,
   "id": "9ead828a",
   "metadata": {
    "execution": {
     "iopub.execute_input": "2023-05-26T09:09:19.873205Z",
     "iopub.status.busy": "2023-05-26T09:09:19.872578Z",
     "iopub.status.idle": "2023-05-26T09:09:19.882644Z",
     "shell.execute_reply": "2023-05-26T09:09:19.881499Z"
    }
   },
   "outputs": [
    {
     "data": {
      "text/plain": [
       "Batch(\n",
       "    a: tensor([[[-1.5548,  0.6711,  0.0644],\n",
       "                [-0.7434, -0.3867,  0.7153]],\n",
       "       \n",
       "               [[-1.5548,  0.6711,  0.0644],\n",
       "                [-0.7434, -0.3867,  0.7153]],\n",
       "       \n",
       "               [[-1.5548,  0.6711,  0.0644],\n",
       "                [-0.7434, -0.3867,  0.7153]],\n",
       "       \n",
       "               [[-1.5548,  0.6711,  0.0644],\n",
       "                [-0.7434, -0.3867,  0.7153]],\n",
       "       \n",
       "               [[-1.5548,  0.6711,  0.0644],\n",
       "                [-0.7434, -0.3867,  0.7153]],\n",
       "       \n",
       "               [[-1.5548,  0.6711,  0.0644],\n",
       "                [-0.7434, -0.3867,  0.7153]],\n",
       "       \n",
       "               [[-1.5548,  0.6711,  0.0644],\n",
       "                [-0.7434, -0.3867,  0.7153]],\n",
       "       \n",
       "               [[-1.5548,  0.6711,  0.0644],\n",
       "                [-0.7434, -0.3867,  0.7153]]]),\n",
       "    x: Batch(\n",
       "           c: tensor([[[-1.4016, -1.3053, -1.2831, -1.4641],\n",
       "                       [-0.9743,  0.9682,  0.3768, -1.1201],\n",
       "                       [-0.6099, -1.0846, -0.3544,  1.9093]],\n",
       "              \n",
       "                      [[-1.4016, -1.3053, -1.2831, -1.4641],\n",
       "                       [-0.9743,  0.9682,  0.3768, -1.1201],\n",
       "                       [-0.6099, -1.0846, -0.3544,  1.9093]],\n",
       "              \n",
       "                      [[-1.4016, -1.3053, -1.2831, -1.4641],\n",
       "                       [-0.9743,  0.9682,  0.3768, -1.1201],\n",
       "                       [-0.6099, -1.0846, -0.3544,  1.9093]],\n",
       "              \n",
       "                      [[-1.4016, -1.3053, -1.2831, -1.4641],\n",
       "                       [-0.9743,  0.9682,  0.3768, -1.1201],\n",
       "                       [-0.6099, -1.0846, -0.3544,  1.9093]],\n",
       "              \n",
       "                      [[-1.4016, -1.3053, -1.2831, -1.4641],\n",
       "                       [-0.9743,  0.9682,  0.3768, -1.1201],\n",
       "                       [-0.6099, -1.0846, -0.3544,  1.9093]],\n",
       "              \n",
       "                      [[-1.4016, -1.3053, -1.2831, -1.4641],\n",
       "                       [-0.9743,  0.9682,  0.3768, -1.1201],\n",
       "                       [-0.6099, -1.0846, -0.3544,  1.9093]],\n",
       "              \n",
       "                      [[-1.4016, -1.3053, -1.2831, -1.4641],\n",
       "                       [-0.9743,  0.9682,  0.3768, -1.1201],\n",
       "                       [-0.6099, -1.0846, -0.3544,  1.9093]],\n",
       "              \n",
       "                      [[-1.4016, -1.3053, -1.2831, -1.4641],\n",
       "                       [-0.9743,  0.9682,  0.3768, -1.1201],\n",
       "                       [-0.6099, -1.0846, -0.3544,  1.9093]]]),\n",
       "       ),\n",
       ")"
      ]
     },
     "execution_count": 25,
     "metadata": {},
     "output_type": "execute_result"
    }
   ],
   "source": [
    "batches = [Batch(**_TREE_DATA_2) for _ in range(8)]\n",
    "\n",
    "Batch.stack(batches)"
   ]
  },
  {
   "cell_type": "code",
   "execution_count": 26,
   "id": "ec9037a3",
   "metadata": {
    "execution": {
     "iopub.execute_input": "2023-05-26T09:09:19.885787Z",
     "iopub.status.busy": "2023-05-26T09:09:19.885461Z",
     "iopub.status.idle": "2023-05-26T09:09:26.326501Z",
     "shell.execute_reply": "2023-05-26T09:09:26.325773Z"
    }
   },
   "outputs": [
    {
     "name": "stdout",
     "output_type": "stream",
     "text": [
      "79.3 µs ± 284 ns per loop (mean ± std. dev. of 7 runs, 10,000 loops each)\n"
     ]
    }
   ],
   "source": [
    "%timeit Batch.stack(batches)"
   ]
  },
  {
   "cell_type": "code",
   "execution_count": 27,
   "id": "cb8ab77e",
   "metadata": {
    "execution": {
     "iopub.execute_input": "2023-05-26T09:09:26.330080Z",
     "iopub.status.busy": "2023-05-26T09:09:26.329548Z",
     "iopub.status.idle": "2023-05-26T09:09:26.337062Z",
     "shell.execute_reply": "2023-05-26T09:09:26.336284Z"
    }
   },
   "outputs": [
    {
     "data": {
      "text/plain": [
       "Batch(\n",
       "    a: tensor([[-1.5548,  0.6711,  0.0644],\n",
       "               [-0.7434, -0.3867,  0.7153],\n",
       "               [-1.5548,  0.6711,  0.0644],\n",
       "               [-0.7434, -0.3867,  0.7153],\n",
       "               [-1.5548,  0.6711,  0.0644],\n",
       "               [-0.7434, -0.3867,  0.7153],\n",
       "               [-1.5548,  0.6711,  0.0644],\n",
       "               [-0.7434, -0.3867,  0.7153],\n",
       "               [-1.5548,  0.6711,  0.0644],\n",
       "               [-0.7434, -0.3867,  0.7153],\n",
       "               [-1.5548,  0.6711,  0.0644],\n",
       "               [-0.7434, -0.3867,  0.7153],\n",
       "               [-1.5548,  0.6711,  0.0644],\n",
       "               [-0.7434, -0.3867,  0.7153],\n",
       "               [-1.5548,  0.6711,  0.0644],\n",
       "               [-0.7434, -0.3867,  0.7153]]),\n",
       "    x: Batch(\n",
       "           c: tensor([[-1.4016, -1.3053, -1.2831, -1.4641],\n",
       "                      [-0.9743,  0.9682,  0.3768, -1.1201],\n",
       "                      [-0.6099, -1.0846, -0.3544,  1.9093],\n",
       "                      [-1.4016, -1.3053, -1.2831, -1.4641],\n",
       "                      [-0.9743,  0.9682,  0.3768, -1.1201],\n",
       "                      [-0.6099, -1.0846, -0.3544,  1.9093],\n",
       "                      [-1.4016, -1.3053, -1.2831, -1.4641],\n",
       "                      [-0.9743,  0.9682,  0.3768, -1.1201],\n",
       "                      [-0.6099, -1.0846, -0.3544,  1.9093],\n",
       "                      [-1.4016, -1.3053, -1.2831, -1.4641],\n",
       "                      [-0.9743,  0.9682,  0.3768, -1.1201],\n",
       "                      [-0.6099, -1.0846, -0.3544,  1.9093],\n",
       "                      [-1.4016, -1.3053, -1.2831, -1.4641],\n",
       "                      [-0.9743,  0.9682,  0.3768, -1.1201],\n",
       "                      [-0.6099, -1.0846, -0.3544,  1.9093],\n",
       "                      [-1.4016, -1.3053, -1.2831, -1.4641],\n",
       "                      [-0.9743,  0.9682,  0.3768, -1.1201],\n",
       "                      [-0.6099, -1.0846, -0.3544,  1.9093],\n",
       "                      [-1.4016, -1.3053, -1.2831, -1.4641],\n",
       "                      [-0.9743,  0.9682,  0.3768, -1.1201],\n",
       "                      [-0.6099, -1.0846, -0.3544,  1.9093],\n",
       "                      [-1.4016, -1.3053, -1.2831, -1.4641],\n",
       "                      [-0.9743,  0.9682,  0.3768, -1.1201],\n",
       "                      [-0.6099, -1.0846, -0.3544,  1.9093]]),\n",
       "       ),\n",
       ")"
      ]
     },
     "execution_count": 27,
     "metadata": {},
     "output_type": "execute_result"
    }
   ],
   "source": [
    "Batch.cat(batches)"
   ]
  },
  {
   "cell_type": "code",
   "execution_count": 28,
   "id": "18dfb045",
   "metadata": {
    "execution": {
     "iopub.execute_input": "2023-05-26T09:09:26.340089Z",
     "iopub.status.busy": "2023-05-26T09:09:26.339698Z",
     "iopub.status.idle": "2023-05-26T09:09:38.422411Z",
     "shell.execute_reply": "2023-05-26T09:09:38.421681Z"
    }
   },
   "outputs": [
    {
     "name": "stdout",
     "output_type": "stream",
     "text": [
      "149 µs ± 165 ns per loop (mean ± std. dev. of 7 runs, 10,000 loops each)\n"
     ]
    }
   ],
   "source": [
    "%timeit Batch.cat(batches)"
   ]
  },
  {
   "cell_type": "code",
   "execution_count": 29,
   "id": "c6688e51",
   "metadata": {
    "execution": {
     "iopub.execute_input": "2023-05-26T09:09:38.426525Z",
     "iopub.status.busy": "2023-05-26T09:09:38.425915Z",
     "iopub.status.idle": "2023-05-26T09:09:41.211976Z",
     "shell.execute_reply": "2023-05-26T09:09:41.210641Z"
    }
   },
   "outputs": [
    {
     "name": "stdout",
     "output_type": "stream",
     "text": [
      "342 µs ± 2.89 µs per loop (mean ± std. dev. of 7 runs, 1,000 loops each)\n"
     ]
    }
   ],
   "source": [
    "batch = Batch({\n",
    "    'obs': torch.randn(8, 4, 84, 84),\n",
    "    'action': torch.randint(0, 6, size=(8, 1,)),\n",
    "    'reward': torch.rand(8, 1)}\n",
    ")\n",
    "\n",
    "%timeit list(Batch.split(batch, 1, shuffle=False, merge_last=True))"
   ]
  },
  {
   "cell_type": "code",
   "execution_count": null,
   "id": "2539fbd9",
   "metadata": {},
   "outputs": [],
   "source": []
  }
 ],
 "metadata": {
  "kernelspec": {
   "display_name": "Python 3 (ipykernel)",
   "language": "python",
   "name": "python3"
  },
  "language_info": {
   "codemirror_mode": {
    "name": "ipython",
    "version": 3
   },
   "file_extension": ".py",
   "mimetype": "text/x-python",
   "name": "python",
   "nbconvert_exporter": "python",
   "pygments_lexer": "ipython3",
   "version": "3.8.16"
  }
 },
 "nbformat": 4,
 "nbformat_minor": 5
}
