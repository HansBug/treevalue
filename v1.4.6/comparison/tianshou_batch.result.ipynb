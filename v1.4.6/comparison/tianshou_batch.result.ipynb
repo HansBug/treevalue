{
 "cells": [
  {
   "cell_type": "markdown",
   "id": "9d39d946",
   "metadata": {},
   "source": [
    "# Comparison Between TreeValue and Tianshou Batch"
   ]
  },
  {
   "cell_type": "markdown",
   "id": "3c6db2d4",
   "metadata": {},
   "source": [
    "In this section, we will take a look at the feature and performance of the [Tianshou Batch](https://github.com/thu-ml/tianshou) library, which is developed by Tsinghua Machine Learning Group."
   ]
  },
  {
   "cell_type": "markdown",
   "id": "069361b0",
   "metadata": {},
   "source": [
    "Before starting the comparison, let us define some thing."
   ]
  },
  {
   "cell_type": "code",
   "execution_count": 1,
   "id": "06fc8d26",
   "metadata": {
    "execution": {
     "iopub.execute_input": "2023-03-06T10:05:15.888456Z",
     "iopub.status.busy": "2023-03-06T10:05:15.888243Z",
     "iopub.status.idle": "2023-03-06T10:05:16.809071Z",
     "shell.execute_reply": "2023-03-06T10:05:16.808403Z"
    }
   },
   "outputs": [
    {
     "name": "stderr",
     "output_type": "stream",
     "text": [
      "/opt/hostedtoolcache/Python/3.8.16/x64/lib/python3.8/site-packages/tqdm/auto.py:21: TqdmWarning: IProgress not found. Please update jupyter and ipywidgets. See https://ipywidgets.readthedocs.io/en/stable/user_install.html\n",
      "  from .autonotebook import tqdm as notebook_tqdm\n"
     ]
    }
   ],
   "source": [
    "import torch \n",
    "\n",
    "_TREE_DATA_1 = {'a': 1, 'b': 2, 'x': {'c': 3, 'd': 4}}\n",
    "_TREE_DATA_2 = {\n",
    "    'a': torch.randn(2, 3), \n",
    "    'x': {\n",
    "        'c': torch.randn(3, 4)\n",
    "    },\n",
    "}\n",
    "_TREE_DATA_3 = {\n",
    "    'obs': torch.randn(4, 84, 84),\n",
    "    'action': torch.randint(0, 6, size=(1,)),\n",
    "    'reward': torch.rand(1),\n",
    "}"
   ]
  },
  {
   "cell_type": "markdown",
   "id": "83461b25",
   "metadata": {},
   "source": [
    "## Read and Write Operation"
   ]
  },
  {
   "cell_type": "markdown",
   "id": "067b3f73",
   "metadata": {},
   "source": [
    "Reading and writing are the two most common operations in the tree data structure based on the data model (TreeValue and Tianshou Batch both belong to this type), so this section will compare the reading and writing performance of these two libraries."
   ]
  },
  {
   "cell_type": "markdown",
   "id": "5d09a5b7",
   "metadata": {},
   "source": [
    "### TreeValue's Get and Set"
   ]
  },
  {
   "cell_type": "code",
   "execution_count": 2,
   "id": "9519c4bb",
   "metadata": {
    "execution": {
     "iopub.execute_input": "2023-03-06T10:05:16.812550Z",
     "iopub.status.busy": "2023-03-06T10:05:16.811901Z",
     "iopub.status.idle": "2023-03-06T10:05:17.092432Z",
     "shell.execute_reply": "2023-03-06T10:05:17.091749Z"
    }
   },
   "outputs": [],
   "source": [
    "from treevalue import FastTreeValue\n",
    "\n",
    "t = FastTreeValue(_TREE_DATA_2)"
   ]
  },
  {
   "cell_type": "code",
   "execution_count": 3,
   "id": "11c37677",
   "metadata": {
    "execution": {
     "iopub.execute_input": "2023-03-06T10:05:17.095760Z",
     "iopub.status.busy": "2023-03-06T10:05:17.095143Z",
     "iopub.status.idle": "2023-03-06T10:05:17.104788Z",
     "shell.execute_reply": "2023-03-06T10:05:17.104173Z"
    }
   },
   "outputs": [
    {
     "data": {
      "text/plain": [
       "<FastTreeValue 0x7fcd7c9c5f70>\n",
       "├── 'a' --> tensor([[-1.2265, -1.0759, -0.8193],\n",
       "│                   [-0.1557,  0.2285,  0.8063]])\n",
       "└── 'x' --> <FastTreeValue 0x7fcd7c9c5e50>\n",
       "    └── 'c' --> tensor([[ 0.3738,  0.0561,  1.8010, -2.2632],\n",
       "                        [ 1.0539,  0.7086,  0.0033,  1.3589],\n",
       "                        [-0.3100,  0.1563, -0.6300, -0.4081]])"
      ]
     },
     "execution_count": 3,
     "metadata": {},
     "output_type": "execute_result"
    }
   ],
   "source": [
    "t"
   ]
  },
  {
   "cell_type": "code",
   "execution_count": 4,
   "id": "fd70b0b9",
   "metadata": {
    "execution": {
     "iopub.execute_input": "2023-03-06T10:05:17.107660Z",
     "iopub.status.busy": "2023-03-06T10:05:17.107309Z",
     "iopub.status.idle": "2023-03-06T10:05:17.113049Z",
     "shell.execute_reply": "2023-03-06T10:05:17.112480Z"
    }
   },
   "outputs": [
    {
     "data": {
      "text/plain": [
       "tensor([[-1.2265, -1.0759, -0.8193],\n",
       "        [-0.1557,  0.2285,  0.8063]])"
      ]
     },
     "execution_count": 4,
     "metadata": {},
     "output_type": "execute_result"
    }
   ],
   "source": [
    "t.a"
   ]
  },
  {
   "cell_type": "code",
   "execution_count": 5,
   "id": "c18197bd",
   "metadata": {
    "execution": {
     "iopub.execute_input": "2023-03-06T10:05:17.115899Z",
     "iopub.status.busy": "2023-03-06T10:05:17.115425Z",
     "iopub.status.idle": "2023-03-06T10:05:22.754651Z",
     "shell.execute_reply": "2023-03-06T10:05:22.753990Z"
    }
   },
   "outputs": [
    {
     "name": "stdout",
     "output_type": "stream",
     "text": [
      "71.1 ns ± 0.0772 ns per loop (mean ± std. dev. of 7 runs, 10,000,000 loops each)\n"
     ]
    }
   ],
   "source": [
    "%timeit t.a"
   ]
  },
  {
   "cell_type": "code",
   "execution_count": 6,
   "id": "bd52f867",
   "metadata": {
    "execution": {
     "iopub.execute_input": "2023-03-06T10:05:22.757557Z",
     "iopub.status.busy": "2023-03-06T10:05:22.757006Z",
     "iopub.status.idle": "2023-03-06T10:05:22.763666Z",
     "shell.execute_reply": "2023-03-06T10:05:22.763060Z"
    }
   },
   "outputs": [
    {
     "data": {
      "text/plain": [
       "<FastTreeValue 0x7fcd7c9c5f70>\n",
       "├── 'a' --> tensor([[ 0.8809, -0.2469, -0.5030],\n",
       "│                   [-2.5372,  2.0406,  1.1537]])\n",
       "└── 'x' --> <FastTreeValue 0x7fcd7c9c5e50>\n",
       "    └── 'c' --> tensor([[ 0.3738,  0.0561,  1.8010, -2.2632],\n",
       "                        [ 1.0539,  0.7086,  0.0033,  1.3589],\n",
       "                        [-0.3100,  0.1563, -0.6300, -0.4081]])"
      ]
     },
     "execution_count": 6,
     "metadata": {},
     "output_type": "execute_result"
    }
   ],
   "source": [
    "new_value = torch.randn(2, 3)\n",
    "t.a = new_value\n",
    "\n",
    "t"
   ]
  },
  {
   "cell_type": "code",
   "execution_count": 7,
   "id": "bbe04d1c",
   "metadata": {
    "execution": {
     "iopub.execute_input": "2023-03-06T10:05:22.766163Z",
     "iopub.status.busy": "2023-03-06T10:05:22.765816Z",
     "iopub.status.idle": "2023-03-06T10:05:27.811862Z",
     "shell.execute_reply": "2023-03-06T10:05:27.811102Z"
    }
   },
   "outputs": [
    {
     "name": "stdout",
     "output_type": "stream",
     "text": [
      "62.3 ns ± 0.0168 ns per loop (mean ± std. dev. of 7 runs, 10,000,000 loops each)\n"
     ]
    }
   ],
   "source": [
    "%timeit t.a = new_value"
   ]
  },
  {
   "cell_type": "markdown",
   "id": "48c49731",
   "metadata": {},
   "source": [
    "### Tianshou Batch's Get and Set"
   ]
  },
  {
   "cell_type": "code",
   "execution_count": 8,
   "id": "f1bb14c1",
   "metadata": {
    "execution": {
     "iopub.execute_input": "2023-03-06T10:05:27.815083Z",
     "iopub.status.busy": "2023-03-06T10:05:27.814565Z",
     "iopub.status.idle": "2023-03-06T10:05:28.149254Z",
     "shell.execute_reply": "2023-03-06T10:05:28.148568Z"
    }
   },
   "outputs": [],
   "source": [
    "from tianshou.data import Batch\n",
    "\n",
    "b = Batch(**_TREE_DATA_2)"
   ]
  },
  {
   "cell_type": "code",
   "execution_count": 9,
   "id": "cb0777c3",
   "metadata": {
    "execution": {
     "iopub.execute_input": "2023-03-06T10:05:28.152843Z",
     "iopub.status.busy": "2023-03-06T10:05:28.152219Z",
     "iopub.status.idle": "2023-03-06T10:05:28.158418Z",
     "shell.execute_reply": "2023-03-06T10:05:28.157821Z"
    }
   },
   "outputs": [
    {
     "data": {
      "text/plain": [
       "Batch(\n",
       "    a: tensor([[-1.2265, -1.0759, -0.8193],\n",
       "               [-0.1557,  0.2285,  0.8063]]),\n",
       "    x: Batch(\n",
       "           c: tensor([[ 0.3738,  0.0561,  1.8010, -2.2632],\n",
       "                      [ 1.0539,  0.7086,  0.0033,  1.3589],\n",
       "                      [-0.3100,  0.1563, -0.6300, -0.4081]]),\n",
       "       ),\n",
       ")"
      ]
     },
     "execution_count": 9,
     "metadata": {},
     "output_type": "execute_result"
    }
   ],
   "source": [
    "b"
   ]
  },
  {
   "cell_type": "code",
   "execution_count": 10,
   "id": "43ef8ea3",
   "metadata": {
    "execution": {
     "iopub.execute_input": "2023-03-06T10:05:28.160871Z",
     "iopub.status.busy": "2023-03-06T10:05:28.160522Z",
     "iopub.status.idle": "2023-03-06T10:05:28.165878Z",
     "shell.execute_reply": "2023-03-06T10:05:28.165313Z"
    }
   },
   "outputs": [
    {
     "data": {
      "text/plain": [
       "tensor([[-1.2265, -1.0759, -0.8193],\n",
       "        [-0.1557,  0.2285,  0.8063]])"
      ]
     },
     "execution_count": 10,
     "metadata": {},
     "output_type": "execute_result"
    }
   ],
   "source": [
    "b.a"
   ]
  },
  {
   "cell_type": "code",
   "execution_count": 11,
   "id": "b785ab72",
   "metadata": {
    "execution": {
     "iopub.execute_input": "2023-03-06T10:05:28.168264Z",
     "iopub.status.busy": "2023-03-06T10:05:28.167941Z",
     "iopub.status.idle": "2023-03-06T10:05:33.855972Z",
     "shell.execute_reply": "2023-03-06T10:05:33.855263Z"
    }
   },
   "outputs": [
    {
     "name": "stdout",
     "output_type": "stream",
     "text": [
      "72.2 ns ± 0.06 ns per loop (mean ± std. dev. of 7 runs, 10,000,000 loops each)\n"
     ]
    }
   ],
   "source": [
    "%timeit b.a"
   ]
  },
  {
   "cell_type": "code",
   "execution_count": 12,
   "id": "ad54dc69",
   "metadata": {
    "execution": {
     "iopub.execute_input": "2023-03-06T10:05:33.858912Z",
     "iopub.status.busy": "2023-03-06T10:05:33.858376Z",
     "iopub.status.idle": "2023-03-06T10:05:33.864085Z",
     "shell.execute_reply": "2023-03-06T10:05:33.863468Z"
    }
   },
   "outputs": [
    {
     "data": {
      "text/plain": [
       "Batch(\n",
       "    a: tensor([[-1.0951,  0.7106,  0.7091],\n",
       "               [-0.6114, -0.0332, -0.8371]]),\n",
       "    x: Batch(\n",
       "           c: tensor([[ 0.3738,  0.0561,  1.8010, -2.2632],\n",
       "                      [ 1.0539,  0.7086,  0.0033,  1.3589],\n",
       "                      [-0.3100,  0.1563, -0.6300, -0.4081]]),\n",
       "       ),\n",
       ")"
      ]
     },
     "execution_count": 12,
     "metadata": {},
     "output_type": "execute_result"
    }
   ],
   "source": [
    "new_value = torch.randn(2, 3)\n",
    "b.a = new_value\n",
    "\n",
    "b"
   ]
  },
  {
   "cell_type": "code",
   "execution_count": 13,
   "id": "29b1d0bf",
   "metadata": {
    "execution": {
     "iopub.execute_input": "2023-03-06T10:05:33.866450Z",
     "iopub.status.busy": "2023-03-06T10:05:33.866115Z",
     "iopub.status.idle": "2023-03-06T10:05:37.850474Z",
     "shell.execute_reply": "2023-03-06T10:05:37.849817Z"
    }
   },
   "outputs": [
    {
     "name": "stdout",
     "output_type": "stream",
     "text": [
      "491 ns ± 0.142 ns per loop (mean ± std. dev. of 7 runs, 1,000,000 loops each)\n"
     ]
    }
   ],
   "source": [
    "%timeit b.a = new_value"
   ]
  },
  {
   "cell_type": "markdown",
   "id": "b61ad1d0",
   "metadata": {},
   "source": [
    "## Initialization"
   ]
  },
  {
   "cell_type": "markdown",
   "id": "d70f0d54",
   "metadata": {},
   "source": [
    "### TreeValue's Initialization"
   ]
  },
  {
   "cell_type": "code",
   "execution_count": 14,
   "id": "d32a679b",
   "metadata": {
    "execution": {
     "iopub.execute_input": "2023-03-06T10:05:37.853583Z",
     "iopub.status.busy": "2023-03-06T10:05:37.853223Z",
     "iopub.status.idle": "2023-03-06T10:05:44.692742Z",
     "shell.execute_reply": "2023-03-06T10:05:44.691905Z"
    }
   },
   "outputs": [
    {
     "name": "stdout",
     "output_type": "stream",
     "text": [
      "845 ns ± 0.067 ns per loop (mean ± std. dev. of 7 runs, 1,000,000 loops each)\n"
     ]
    }
   ],
   "source": [
    "%timeit FastTreeValue(_TREE_DATA_1)"
   ]
  },
  {
   "cell_type": "markdown",
   "id": "24f3707b",
   "metadata": {},
   "source": [
    "### Tianshou Batch's Initialization"
   ]
  },
  {
   "cell_type": "code",
   "execution_count": 15,
   "id": "ac3958df",
   "metadata": {
    "execution": {
     "iopub.execute_input": "2023-03-06T10:05:44.695793Z",
     "iopub.status.busy": "2023-03-06T10:05:44.695259Z",
     "iopub.status.idle": "2023-03-06T10:05:53.849379Z",
     "shell.execute_reply": "2023-03-06T10:05:53.848728Z"
    }
   },
   "outputs": [
    {
     "name": "stdout",
     "output_type": "stream",
     "text": [
      "11.3 µs ± 52.2 ns per loop (mean ± std. dev. of 7 runs, 100,000 loops each)\n"
     ]
    }
   ],
   "source": [
    "%timeit Batch(**_TREE_DATA_1)"
   ]
  },
  {
   "cell_type": "markdown",
   "id": "1ab82e2d",
   "metadata": {},
   "source": [
    "## Deep Copy Operation"
   ]
  },
  {
   "cell_type": "code",
   "execution_count": 16,
   "id": "210a9442",
   "metadata": {
    "execution": {
     "iopub.execute_input": "2023-03-06T10:05:53.852502Z",
     "iopub.status.busy": "2023-03-06T10:05:53.851977Z",
     "iopub.status.idle": "2023-03-06T10:05:53.855935Z",
     "shell.execute_reply": "2023-03-06T10:05:53.855348Z"
    }
   },
   "outputs": [],
   "source": [
    "import copy"
   ]
  },
  {
   "cell_type": "markdown",
   "id": "5a736274",
   "metadata": {},
   "source": [
    "### Deep Copy of TreeValue"
   ]
  },
  {
   "cell_type": "code",
   "execution_count": 17,
   "id": "f9bcadd6",
   "metadata": {
    "execution": {
     "iopub.execute_input": "2023-03-06T10:05:53.858288Z",
     "iopub.status.busy": "2023-03-06T10:05:53.858080Z",
     "iopub.status.idle": "2023-03-06T10:06:04.826993Z",
     "shell.execute_reply": "2023-03-06T10:06:04.826387Z"
    }
   },
   "outputs": [
    {
     "name": "stdout",
     "output_type": "stream",
     "text": [
      "135 µs ± 418 ns per loop (mean ± std. dev. of 7 runs, 10,000 loops each)\n"
     ]
    }
   ],
   "source": [
    "t3 = FastTreeValue(_TREE_DATA_3)\n",
    "%timeit copy.deepcopy(t3)"
   ]
  },
  {
   "cell_type": "markdown",
   "id": "bf8be7ea",
   "metadata": {},
   "source": [
    "### Deep Copy of Tianshou Batch"
   ]
  },
  {
   "cell_type": "code",
   "execution_count": 18,
   "id": "91998e6f",
   "metadata": {
    "execution": {
     "iopub.execute_input": "2023-03-06T10:06:04.830949Z",
     "iopub.status.busy": "2023-03-06T10:06:04.829964Z",
     "iopub.status.idle": "2023-03-06T10:06:15.956374Z",
     "shell.execute_reply": "2023-03-06T10:06:15.955772Z"
    }
   },
   "outputs": [
    {
     "name": "stdout",
     "output_type": "stream",
     "text": [
      "137 µs ± 511 ns per loop (mean ± std. dev. of 7 runs, 10,000 loops each)\n"
     ]
    }
   ],
   "source": [
    "b3 = Batch(**_TREE_DATA_3)\n",
    "%timeit copy.deepcopy(b3)"
   ]
  },
  {
   "cell_type": "markdown",
   "id": "223162fb",
   "metadata": {},
   "source": [
    "## Stack, Concat and Split Operation"
   ]
  },
  {
   "cell_type": "markdown",
   "id": "85fa4a73",
   "metadata": {},
   "source": [
    "### Performance of TreeValue"
   ]
  },
  {
   "cell_type": "code",
   "execution_count": 19,
   "id": "a0c2b697",
   "metadata": {
    "execution": {
     "iopub.execute_input": "2023-03-06T10:06:15.959971Z",
     "iopub.status.busy": "2023-03-06T10:06:15.959328Z",
     "iopub.status.idle": "2023-03-06T10:06:15.963301Z",
     "shell.execute_reply": "2023-03-06T10:06:15.962694Z"
    }
   },
   "outputs": [],
   "source": [
    "trees = [FastTreeValue(_TREE_DATA_2) for _ in range(8)]"
   ]
  },
  {
   "cell_type": "code",
   "execution_count": 20,
   "id": "017ea5a5",
   "metadata": {
    "execution": {
     "iopub.execute_input": "2023-03-06T10:06:15.965529Z",
     "iopub.status.busy": "2023-03-06T10:06:15.965316Z",
     "iopub.status.idle": "2023-03-06T10:06:15.973372Z",
     "shell.execute_reply": "2023-03-06T10:06:15.972793Z"
    }
   },
   "outputs": [
    {
     "data": {
      "text/plain": [
       "<FastTreeValue 0x7fcccc8d1f70>\n",
       "├── 'a' --> tensor([[[-1.2265, -1.0759, -0.8193],\n",
       "│                    [-0.1557,  0.2285,  0.8063]],\n",
       "│           \n",
       "│                   [[-1.2265, -1.0759, -0.8193],\n",
       "│                    [-0.1557,  0.2285,  0.8063]],\n",
       "│           \n",
       "│                   [[-1.2265, -1.0759, -0.8193],\n",
       "│                    [-0.1557,  0.2285,  0.8063]],\n",
       "│           \n",
       "│                   [[-1.2265, -1.0759, -0.8193],\n",
       "│                    [-0.1557,  0.2285,  0.8063]],\n",
       "│           \n",
       "│                   [[-1.2265, -1.0759, -0.8193],\n",
       "│                    [-0.1557,  0.2285,  0.8063]],\n",
       "│           \n",
       "│                   [[-1.2265, -1.0759, -0.8193],\n",
       "│                    [-0.1557,  0.2285,  0.8063]],\n",
       "│           \n",
       "│                   [[-1.2265, -1.0759, -0.8193],\n",
       "│                    [-0.1557,  0.2285,  0.8063]],\n",
       "│           \n",
       "│                   [[-1.2265, -1.0759, -0.8193],\n",
       "│                    [-0.1557,  0.2285,  0.8063]]])\n",
       "└── 'x' --> <FastTreeValue 0x7fccc5cb7610>\n",
       "    └── 'c' --> tensor([[[ 0.3738,  0.0561,  1.8010, -2.2632],\n",
       "                         [ 1.0539,  0.7086,  0.0033,  1.3589],\n",
       "                         [-0.3100,  0.1563, -0.6300, -0.4081]],\n",
       "                \n",
       "                        [[ 0.3738,  0.0561,  1.8010, -2.2632],\n",
       "                         [ 1.0539,  0.7086,  0.0033,  1.3589],\n",
       "                         [-0.3100,  0.1563, -0.6300, -0.4081]],\n",
       "                \n",
       "                        [[ 0.3738,  0.0561,  1.8010, -2.2632],\n",
       "                         [ 1.0539,  0.7086,  0.0033,  1.3589],\n",
       "                         [-0.3100,  0.1563, -0.6300, -0.4081]],\n",
       "                \n",
       "                        [[ 0.3738,  0.0561,  1.8010, -2.2632],\n",
       "                         [ 1.0539,  0.7086,  0.0033,  1.3589],\n",
       "                         [-0.3100,  0.1563, -0.6300, -0.4081]],\n",
       "                \n",
       "                        [[ 0.3738,  0.0561,  1.8010, -2.2632],\n",
       "                         [ 1.0539,  0.7086,  0.0033,  1.3589],\n",
       "                         [-0.3100,  0.1563, -0.6300, -0.4081]],\n",
       "                \n",
       "                        [[ 0.3738,  0.0561,  1.8010, -2.2632],\n",
       "                         [ 1.0539,  0.7086,  0.0033,  1.3589],\n",
       "                         [-0.3100,  0.1563, -0.6300, -0.4081]],\n",
       "                \n",
       "                        [[ 0.3738,  0.0561,  1.8010, -2.2632],\n",
       "                         [ 1.0539,  0.7086,  0.0033,  1.3589],\n",
       "                         [-0.3100,  0.1563, -0.6300, -0.4081]],\n",
       "                \n",
       "                        [[ 0.3738,  0.0561,  1.8010, -2.2632],\n",
       "                         [ 1.0539,  0.7086,  0.0033,  1.3589],\n",
       "                         [-0.3100,  0.1563, -0.6300, -0.4081]]])"
      ]
     },
     "execution_count": 20,
     "metadata": {},
     "output_type": "execute_result"
    }
   ],
   "source": [
    "t_stack = FastTreeValue.func(subside=True)(torch.stack)\n",
    "\n",
    "t_stack(trees)"
   ]
  },
  {
   "cell_type": "code",
   "execution_count": 21,
   "id": "f8b3f415",
   "metadata": {
    "execution": {
     "iopub.execute_input": "2023-03-06T10:06:15.975988Z",
     "iopub.status.busy": "2023-03-06T10:06:15.975656Z",
     "iopub.status.idle": "2023-03-06T10:06:18.538157Z",
     "shell.execute_reply": "2023-03-06T10:06:18.537436Z"
    }
   },
   "outputs": [
    {
     "name": "stdout",
     "output_type": "stream",
     "text": [
      "31.5 µs ± 61.6 ns per loop (mean ± std. dev. of 7 runs, 10,000 loops each)\n"
     ]
    }
   ],
   "source": [
    "%timeit t_stack(trees)"
   ]
  },
  {
   "cell_type": "code",
   "execution_count": 22,
   "id": "94b56771",
   "metadata": {
    "execution": {
     "iopub.execute_input": "2023-03-06T10:06:18.541192Z",
     "iopub.status.busy": "2023-03-06T10:06:18.540636Z",
     "iopub.status.idle": "2023-03-06T10:06:18.548363Z",
     "shell.execute_reply": "2023-03-06T10:06:18.547759Z"
    }
   },
   "outputs": [
    {
     "data": {
      "text/plain": [
       "<FastTreeValue 0x7fcccc8d1ac0>\n",
       "├── 'a' --> tensor([[-1.2265, -1.0759, -0.8193],\n",
       "│                   [-0.1557,  0.2285,  0.8063],\n",
       "│                   [-1.2265, -1.0759, -0.8193],\n",
       "│                   [-0.1557,  0.2285,  0.8063],\n",
       "│                   [-1.2265, -1.0759, -0.8193],\n",
       "│                   [-0.1557,  0.2285,  0.8063],\n",
       "│                   [-1.2265, -1.0759, -0.8193],\n",
       "│                   [-0.1557,  0.2285,  0.8063],\n",
       "│                   [-1.2265, -1.0759, -0.8193],\n",
       "│                   [-0.1557,  0.2285,  0.8063],\n",
       "│                   [-1.2265, -1.0759, -0.8193],\n",
       "│                   [-0.1557,  0.2285,  0.8063],\n",
       "│                   [-1.2265, -1.0759, -0.8193],\n",
       "│                   [-0.1557,  0.2285,  0.8063],\n",
       "│                   [-1.2265, -1.0759, -0.8193],\n",
       "│                   [-0.1557,  0.2285,  0.8063]])\n",
       "└── 'x' --> <FastTreeValue 0x7fccc5c3ea30>\n",
       "    └── 'c' --> tensor([[ 0.3738,  0.0561,  1.8010, -2.2632],\n",
       "                        [ 1.0539,  0.7086,  0.0033,  1.3589],\n",
       "                        [-0.3100,  0.1563, -0.6300, -0.4081],\n",
       "                        [ 0.3738,  0.0561,  1.8010, -2.2632],\n",
       "                        [ 1.0539,  0.7086,  0.0033,  1.3589],\n",
       "                        [-0.3100,  0.1563, -0.6300, -0.4081],\n",
       "                        [ 0.3738,  0.0561,  1.8010, -2.2632],\n",
       "                        [ 1.0539,  0.7086,  0.0033,  1.3589],\n",
       "                        [-0.3100,  0.1563, -0.6300, -0.4081],\n",
       "                        [ 0.3738,  0.0561,  1.8010, -2.2632],\n",
       "                        [ 1.0539,  0.7086,  0.0033,  1.3589],\n",
       "                        [-0.3100,  0.1563, -0.6300, -0.4081],\n",
       "                        [ 0.3738,  0.0561,  1.8010, -2.2632],\n",
       "                        [ 1.0539,  0.7086,  0.0033,  1.3589],\n",
       "                        [-0.3100,  0.1563, -0.6300, -0.4081],\n",
       "                        [ 0.3738,  0.0561,  1.8010, -2.2632],\n",
       "                        [ 1.0539,  0.7086,  0.0033,  1.3589],\n",
       "                        [-0.3100,  0.1563, -0.6300, -0.4081],\n",
       "                        [ 0.3738,  0.0561,  1.8010, -2.2632],\n",
       "                        [ 1.0539,  0.7086,  0.0033,  1.3589],\n",
       "                        [-0.3100,  0.1563, -0.6300, -0.4081],\n",
       "                        [ 0.3738,  0.0561,  1.8010, -2.2632],\n",
       "                        [ 1.0539,  0.7086,  0.0033,  1.3589],\n",
       "                        [-0.3100,  0.1563, -0.6300, -0.4081]])"
      ]
     },
     "execution_count": 22,
     "metadata": {},
     "output_type": "execute_result"
    }
   ],
   "source": [
    "t_cat = FastTreeValue.func(subside=True)(torch.cat)\n",
    "\n",
    "t_cat(trees)"
   ]
  },
  {
   "cell_type": "code",
   "execution_count": 23,
   "id": "5e9c06a6",
   "metadata": {
    "execution": {
     "iopub.execute_input": "2023-03-06T10:06:18.550957Z",
     "iopub.status.busy": "2023-03-06T10:06:18.550615Z",
     "iopub.status.idle": "2023-03-06T10:06:20.965006Z",
     "shell.execute_reply": "2023-03-06T10:06:20.964296Z"
    }
   },
   "outputs": [
    {
     "name": "stdout",
     "output_type": "stream",
     "text": [
      "29.7 µs ± 90.6 ns per loop (mean ± std. dev. of 7 runs, 10,000 loops each)\n"
     ]
    }
   ],
   "source": [
    "%timeit t_cat(trees)"
   ]
  },
  {
   "cell_type": "code",
   "execution_count": 24,
   "id": "a3ab5c8f",
   "metadata": {
    "execution": {
     "iopub.execute_input": "2023-03-06T10:06:20.968275Z",
     "iopub.status.busy": "2023-03-06T10:06:20.967704Z",
     "iopub.status.idle": "2023-03-06T10:06:25.615935Z",
     "shell.execute_reply": "2023-03-06T10:06:25.615226Z"
    }
   },
   "outputs": [
    {
     "name": "stdout",
     "output_type": "stream",
     "text": [
      "57.1 µs ± 48.8 ns per loop (mean ± std. dev. of 7 runs, 10,000 loops each)\n"
     ]
    }
   ],
   "source": [
    "t_split = FastTreeValue.func(rise=True)(torch.split)\n",
    "tree = FastTreeValue({\n",
    "    'obs': torch.randn(8, 4, 84, 84),\n",
    "    'action': torch.randint(0, 6, size=(8, 1,)),\n",
    "    'reward': torch.rand(8, 1),\n",
    "})\n",
    "\n",
    "%timeit t_split(tree, 1)"
   ]
  },
  {
   "cell_type": "markdown",
   "id": "31c3ec0b",
   "metadata": {},
   "source": [
    "### Performance of Tianshou Batch"
   ]
  },
  {
   "cell_type": "code",
   "execution_count": 25,
   "id": "9ead828a",
   "metadata": {
    "execution": {
     "iopub.execute_input": "2023-03-06T10:06:25.618788Z",
     "iopub.status.busy": "2023-03-06T10:06:25.618442Z",
     "iopub.status.idle": "2023-03-06T10:06:25.626556Z",
     "shell.execute_reply": "2023-03-06T10:06:25.625963Z"
    }
   },
   "outputs": [
    {
     "data": {
      "text/plain": [
       "Batch(\n",
       "    x: Batch(\n",
       "           c: tensor([[[ 0.3738,  0.0561,  1.8010, -2.2632],\n",
       "                       [ 1.0539,  0.7086,  0.0033,  1.3589],\n",
       "                       [-0.3100,  0.1563, -0.6300, -0.4081]],\n",
       "              \n",
       "                      [[ 0.3738,  0.0561,  1.8010, -2.2632],\n",
       "                       [ 1.0539,  0.7086,  0.0033,  1.3589],\n",
       "                       [-0.3100,  0.1563, -0.6300, -0.4081]],\n",
       "              \n",
       "                      [[ 0.3738,  0.0561,  1.8010, -2.2632],\n",
       "                       [ 1.0539,  0.7086,  0.0033,  1.3589],\n",
       "                       [-0.3100,  0.1563, -0.6300, -0.4081]],\n",
       "              \n",
       "                      [[ 0.3738,  0.0561,  1.8010, -2.2632],\n",
       "                       [ 1.0539,  0.7086,  0.0033,  1.3589],\n",
       "                       [-0.3100,  0.1563, -0.6300, -0.4081]],\n",
       "              \n",
       "                      [[ 0.3738,  0.0561,  1.8010, -2.2632],\n",
       "                       [ 1.0539,  0.7086,  0.0033,  1.3589],\n",
       "                       [-0.3100,  0.1563, -0.6300, -0.4081]],\n",
       "              \n",
       "                      [[ 0.3738,  0.0561,  1.8010, -2.2632],\n",
       "                       [ 1.0539,  0.7086,  0.0033,  1.3589],\n",
       "                       [-0.3100,  0.1563, -0.6300, -0.4081]],\n",
       "              \n",
       "                      [[ 0.3738,  0.0561,  1.8010, -2.2632],\n",
       "                       [ 1.0539,  0.7086,  0.0033,  1.3589],\n",
       "                       [-0.3100,  0.1563, -0.6300, -0.4081]],\n",
       "              \n",
       "                      [[ 0.3738,  0.0561,  1.8010, -2.2632],\n",
       "                       [ 1.0539,  0.7086,  0.0033,  1.3589],\n",
       "                       [-0.3100,  0.1563, -0.6300, -0.4081]]]),\n",
       "       ),\n",
       "    a: tensor([[[-1.2265, -1.0759, -0.8193],\n",
       "                [-0.1557,  0.2285,  0.8063]],\n",
       "       \n",
       "               [[-1.2265, -1.0759, -0.8193],\n",
       "                [-0.1557,  0.2285,  0.8063]],\n",
       "       \n",
       "               [[-1.2265, -1.0759, -0.8193],\n",
       "                [-0.1557,  0.2285,  0.8063]],\n",
       "       \n",
       "               [[-1.2265, -1.0759, -0.8193],\n",
       "                [-0.1557,  0.2285,  0.8063]],\n",
       "       \n",
       "               [[-1.2265, -1.0759, -0.8193],\n",
       "                [-0.1557,  0.2285,  0.8063]],\n",
       "       \n",
       "               [[-1.2265, -1.0759, -0.8193],\n",
       "                [-0.1557,  0.2285,  0.8063]],\n",
       "       \n",
       "               [[-1.2265, -1.0759, -0.8193],\n",
       "                [-0.1557,  0.2285,  0.8063]],\n",
       "       \n",
       "               [[-1.2265, -1.0759, -0.8193],\n",
       "                [-0.1557,  0.2285,  0.8063]]]),\n",
       ")"
      ]
     },
     "execution_count": 25,
     "metadata": {},
     "output_type": "execute_result"
    }
   ],
   "source": [
    "batches = [Batch(**_TREE_DATA_2) for _ in range(8)]\n",
    "\n",
    "Batch.stack(batches)"
   ]
  },
  {
   "cell_type": "code",
   "execution_count": 26,
   "id": "ec9037a3",
   "metadata": {
    "execution": {
     "iopub.execute_input": "2023-03-06T10:06:25.629054Z",
     "iopub.status.busy": "2023-03-06T10:06:25.628709Z",
     "iopub.status.idle": "2023-03-06T10:06:31.999134Z",
     "shell.execute_reply": "2023-03-06T10:06:31.998426Z"
    }
   },
   "outputs": [
    {
     "name": "stdout",
     "output_type": "stream",
     "text": [
      "78.4 µs ± 266 ns per loop (mean ± std. dev. of 7 runs, 10,000 loops each)\n"
     ]
    }
   ],
   "source": [
    "%timeit Batch.stack(batches)"
   ]
  },
  {
   "cell_type": "code",
   "execution_count": 27,
   "id": "cb8ab77e",
   "metadata": {
    "execution": {
     "iopub.execute_input": "2023-03-06T10:06:32.002176Z",
     "iopub.status.busy": "2023-03-06T10:06:32.001830Z",
     "iopub.status.idle": "2023-03-06T10:06:32.009541Z",
     "shell.execute_reply": "2023-03-06T10:06:32.008827Z"
    }
   },
   "outputs": [
    {
     "data": {
      "text/plain": [
       "Batch(\n",
       "    x: Batch(\n",
       "           c: tensor([[ 0.3738,  0.0561,  1.8010, -2.2632],\n",
       "                      [ 1.0539,  0.7086,  0.0033,  1.3589],\n",
       "                      [-0.3100,  0.1563, -0.6300, -0.4081],\n",
       "                      [ 0.3738,  0.0561,  1.8010, -2.2632],\n",
       "                      [ 1.0539,  0.7086,  0.0033,  1.3589],\n",
       "                      [-0.3100,  0.1563, -0.6300, -0.4081],\n",
       "                      [ 0.3738,  0.0561,  1.8010, -2.2632],\n",
       "                      [ 1.0539,  0.7086,  0.0033,  1.3589],\n",
       "                      [-0.3100,  0.1563, -0.6300, -0.4081],\n",
       "                      [ 0.3738,  0.0561,  1.8010, -2.2632],\n",
       "                      [ 1.0539,  0.7086,  0.0033,  1.3589],\n",
       "                      [-0.3100,  0.1563, -0.6300, -0.4081],\n",
       "                      [ 0.3738,  0.0561,  1.8010, -2.2632],\n",
       "                      [ 1.0539,  0.7086,  0.0033,  1.3589],\n",
       "                      [-0.3100,  0.1563, -0.6300, -0.4081],\n",
       "                      [ 0.3738,  0.0561,  1.8010, -2.2632],\n",
       "                      [ 1.0539,  0.7086,  0.0033,  1.3589],\n",
       "                      [-0.3100,  0.1563, -0.6300, -0.4081],\n",
       "                      [ 0.3738,  0.0561,  1.8010, -2.2632],\n",
       "                      [ 1.0539,  0.7086,  0.0033,  1.3589],\n",
       "                      [-0.3100,  0.1563, -0.6300, -0.4081],\n",
       "                      [ 0.3738,  0.0561,  1.8010, -2.2632],\n",
       "                      [ 1.0539,  0.7086,  0.0033,  1.3589],\n",
       "                      [-0.3100,  0.1563, -0.6300, -0.4081]]),\n",
       "       ),\n",
       "    a: tensor([[-1.2265, -1.0759, -0.8193],\n",
       "               [-0.1557,  0.2285,  0.8063],\n",
       "               [-1.2265, -1.0759, -0.8193],\n",
       "               [-0.1557,  0.2285,  0.8063],\n",
       "               [-1.2265, -1.0759, -0.8193],\n",
       "               [-0.1557,  0.2285,  0.8063],\n",
       "               [-1.2265, -1.0759, -0.8193],\n",
       "               [-0.1557,  0.2285,  0.8063],\n",
       "               [-1.2265, -1.0759, -0.8193],\n",
       "               [-0.1557,  0.2285,  0.8063],\n",
       "               [-1.2265, -1.0759, -0.8193],\n",
       "               [-0.1557,  0.2285,  0.8063],\n",
       "               [-1.2265, -1.0759, -0.8193],\n",
       "               [-0.1557,  0.2285,  0.8063],\n",
       "               [-1.2265, -1.0759, -0.8193],\n",
       "               [-0.1557,  0.2285,  0.8063]]),\n",
       ")"
      ]
     },
     "execution_count": 27,
     "metadata": {},
     "output_type": "execute_result"
    }
   ],
   "source": [
    "Batch.cat(batches)"
   ]
  },
  {
   "cell_type": "code",
   "execution_count": 28,
   "id": "18dfb045",
   "metadata": {
    "execution": {
     "iopub.execute_input": "2023-03-06T10:06:32.012236Z",
     "iopub.status.busy": "2023-03-06T10:06:32.011909Z",
     "iopub.status.idle": "2023-03-06T10:06:45.045319Z",
     "shell.execute_reply": "2023-03-06T10:06:45.044499Z"
    }
   },
   "outputs": [
    {
     "name": "stdout",
     "output_type": "stream",
     "text": [
      "161 µs ± 268 ns per loop (mean ± std. dev. of 7 runs, 10,000 loops each)\n"
     ]
    }
   ],
   "source": [
    "%timeit Batch.cat(batches)"
   ]
  },
  {
   "cell_type": "code",
   "execution_count": 29,
   "id": "c6688e51",
   "metadata": {
    "execution": {
     "iopub.execute_input": "2023-03-06T10:06:45.048086Z",
     "iopub.status.busy": "2023-03-06T10:06:45.047709Z",
     "iopub.status.idle": "2023-03-06T10:06:47.591814Z",
     "shell.execute_reply": "2023-03-06T10:06:47.591128Z"
    }
   },
   "outputs": [
    {
     "name": "stdout",
     "output_type": "stream",
     "text": [
      "312 µs ± 1.44 µs per loop (mean ± std. dev. of 7 runs, 1,000 loops each)\n"
     ]
    }
   ],
   "source": [
    "batch = Batch({\n",
    "    'obs': torch.randn(8, 4, 84, 84),\n",
    "    'action': torch.randint(0, 6, size=(8, 1,)),\n",
    "    'reward': torch.rand(8, 1)}\n",
    ")\n",
    "\n",
    "%timeit list(Batch.split(batch, 1, shuffle=False, merge_last=True))"
   ]
  },
  {
   "cell_type": "code",
   "execution_count": null,
   "id": "2539fbd9",
   "metadata": {},
   "outputs": [],
   "source": []
  }
 ],
 "metadata": {
  "kernelspec": {
   "display_name": "Python 3 (ipykernel)",
   "language": "python",
   "name": "python3"
  },
  "language_info": {
   "codemirror_mode": {
    "name": "ipython",
    "version": 3
   },
   "file_extension": ".py",
   "mimetype": "text/x-python",
   "name": "python",
   "nbconvert_exporter": "python",
   "pygments_lexer": "ipython3",
   "version": "3.8.16"
  }
 },
 "nbformat": 4,
 "nbformat_minor": 5
}
