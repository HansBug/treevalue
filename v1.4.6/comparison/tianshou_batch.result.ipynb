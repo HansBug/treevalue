{
 "cells": [
  {
   "cell_type": "markdown",
   "id": "9d39d946",
   "metadata": {},
   "source": [
    "# Comparison Between TreeValue and Tianshou Batch"
   ]
  },
  {
   "cell_type": "markdown",
   "id": "3c6db2d4",
   "metadata": {},
   "source": [
    "In this section, we will take a look at the feature and performance of the [Tianshou Batch](https://github.com/thu-ml/tianshou) library, which is developed by Tsinghua Machine Learning Group."
   ]
  },
  {
   "cell_type": "markdown",
   "id": "069361b0",
   "metadata": {},
   "source": [
    "Before starting the comparison, let us define some thing."
   ]
  },
  {
   "cell_type": "code",
   "execution_count": 1,
   "id": "06fc8d26",
   "metadata": {
    "execution": {
     "iopub.execute_input": "2023-03-06T17:06:31.126537Z",
     "iopub.status.busy": "2023-03-06T17:06:31.126310Z",
     "iopub.status.idle": "2023-03-06T17:06:32.053772Z",
     "shell.execute_reply": "2023-03-06T17:06:32.053101Z"
    }
   },
   "outputs": [
    {
     "name": "stderr",
     "output_type": "stream",
     "text": [
      "/opt/hostedtoolcache/Python/3.8.16/x64/lib/python3.8/site-packages/tqdm/auto.py:21: TqdmWarning: IProgress not found. Please update jupyter and ipywidgets. See https://ipywidgets.readthedocs.io/en/stable/user_install.html\n",
      "  from .autonotebook import tqdm as notebook_tqdm\n"
     ]
    }
   ],
   "source": [
    "import torch \n",
    "\n",
    "_TREE_DATA_1 = {'a': 1, 'b': 2, 'x': {'c': 3, 'd': 4}}\n",
    "_TREE_DATA_2 = {\n",
    "    'a': torch.randn(2, 3), \n",
    "    'x': {\n",
    "        'c': torch.randn(3, 4)\n",
    "    },\n",
    "}\n",
    "_TREE_DATA_3 = {\n",
    "    'obs': torch.randn(4, 84, 84),\n",
    "    'action': torch.randint(0, 6, size=(1,)),\n",
    "    'reward': torch.rand(1),\n",
    "}"
   ]
  },
  {
   "cell_type": "markdown",
   "id": "83461b25",
   "metadata": {},
   "source": [
    "## Read and Write Operation"
   ]
  },
  {
   "cell_type": "markdown",
   "id": "067b3f73",
   "metadata": {},
   "source": [
    "Reading and writing are the two most common operations in the tree data structure based on the data model (TreeValue and Tianshou Batch both belong to this type), so this section will compare the reading and writing performance of these two libraries."
   ]
  },
  {
   "cell_type": "markdown",
   "id": "5d09a5b7",
   "metadata": {},
   "source": [
    "### TreeValue's Get and Set"
   ]
  },
  {
   "cell_type": "code",
   "execution_count": 2,
   "id": "9519c4bb",
   "metadata": {
    "execution": {
     "iopub.execute_input": "2023-03-06T17:06:32.057529Z",
     "iopub.status.busy": "2023-03-06T17:06:32.056918Z",
     "iopub.status.idle": "2023-03-06T17:06:32.338819Z",
     "shell.execute_reply": "2023-03-06T17:06:32.338145Z"
    }
   },
   "outputs": [],
   "source": [
    "from treevalue import FastTreeValue\n",
    "\n",
    "t = FastTreeValue(_TREE_DATA_2)"
   ]
  },
  {
   "cell_type": "code",
   "execution_count": 3,
   "id": "11c37677",
   "metadata": {
    "execution": {
     "iopub.execute_input": "2023-03-06T17:06:32.342423Z",
     "iopub.status.busy": "2023-03-06T17:06:32.341827Z",
     "iopub.status.idle": "2023-03-06T17:06:32.352378Z",
     "shell.execute_reply": "2023-03-06T17:06:32.351767Z"
    }
   },
   "outputs": [
    {
     "data": {
      "text/plain": [
       "<FastTreeValue 0x7fb8c4bf75b0>\n",
       "├── 'a' --> tensor([[-0.2425,  0.0157,  0.9027],\n",
       "│                   [-0.2347, -0.6570,  2.4741]])\n",
       "└── 'x' --> <FastTreeValue 0x7fb8c4bf7370>\n",
       "    └── 'c' --> tensor([[ 0.4680,  0.6508, -0.3377, -0.2800],\n",
       "                        [ 0.0246, -0.4271, -0.1351,  0.4276],\n",
       "                        [-1.7794, -0.5550, -0.1028,  0.2163]])"
      ]
     },
     "execution_count": 3,
     "metadata": {},
     "output_type": "execute_result"
    }
   ],
   "source": [
    "t"
   ]
  },
  {
   "cell_type": "code",
   "execution_count": 4,
   "id": "fd70b0b9",
   "metadata": {
    "execution": {
     "iopub.execute_input": "2023-03-06T17:06:32.355220Z",
     "iopub.status.busy": "2023-03-06T17:06:32.354881Z",
     "iopub.status.idle": "2023-03-06T17:06:32.360976Z",
     "shell.execute_reply": "2023-03-06T17:06:32.360385Z"
    }
   },
   "outputs": [
    {
     "data": {
      "text/plain": [
       "tensor([[-0.2425,  0.0157,  0.9027],\n",
       "        [-0.2347, -0.6570,  2.4741]])"
      ]
     },
     "execution_count": 4,
     "metadata": {},
     "output_type": "execute_result"
    }
   ],
   "source": [
    "t.a"
   ]
  },
  {
   "cell_type": "code",
   "execution_count": 5,
   "id": "c18197bd",
   "metadata": {
    "execution": {
     "iopub.execute_input": "2023-03-06T17:06:32.363842Z",
     "iopub.status.busy": "2023-03-06T17:06:32.363372Z",
     "iopub.status.idle": "2023-03-06T17:06:37.566557Z",
     "shell.execute_reply": "2023-03-06T17:06:37.565889Z"
    }
   },
   "outputs": [
    {
     "name": "stdout",
     "output_type": "stream",
     "text": [
      "64.1 ns ± 0.0705 ns per loop (mean ± std. dev. of 7 runs, 10,000,000 loops each)\n"
     ]
    }
   ],
   "source": [
    "%timeit t.a"
   ]
  },
  {
   "cell_type": "code",
   "execution_count": 6,
   "id": "bd52f867",
   "metadata": {
    "execution": {
     "iopub.execute_input": "2023-03-06T17:06:37.569504Z",
     "iopub.status.busy": "2023-03-06T17:06:37.569040Z",
     "iopub.status.idle": "2023-03-06T17:06:37.575851Z",
     "shell.execute_reply": "2023-03-06T17:06:37.575231Z"
    }
   },
   "outputs": [
    {
     "data": {
      "text/plain": [
       "<FastTreeValue 0x7fb8c4bf75b0>\n",
       "├── 'a' --> tensor([[-0.7234,  0.5375,  0.6930],\n",
       "│                   [ 1.1453,  0.0693, -0.6252]])\n",
       "└── 'x' --> <FastTreeValue 0x7fb8c4bf7370>\n",
       "    └── 'c' --> tensor([[ 0.4680,  0.6508, -0.3377, -0.2800],\n",
       "                        [ 0.0246, -0.4271, -0.1351,  0.4276],\n",
       "                        [-1.7794, -0.5550, -0.1028,  0.2163]])"
      ]
     },
     "execution_count": 6,
     "metadata": {},
     "output_type": "execute_result"
    }
   ],
   "source": [
    "new_value = torch.randn(2, 3)\n",
    "t.a = new_value\n",
    "\n",
    "t"
   ]
  },
  {
   "cell_type": "code",
   "execution_count": 7,
   "id": "bbe04d1c",
   "metadata": {
    "execution": {
     "iopub.execute_input": "2023-03-06T17:06:37.578547Z",
     "iopub.status.busy": "2023-03-06T17:06:37.578190Z",
     "iopub.status.idle": "2023-03-06T17:06:42.464857Z",
     "shell.execute_reply": "2023-03-06T17:06:42.464101Z"
    }
   },
   "outputs": [
    {
     "name": "stdout",
     "output_type": "stream",
     "text": [
      "60.1 ns ± 0.0274 ns per loop (mean ± std. dev. of 7 runs, 10,000,000 loops each)\n"
     ]
    }
   ],
   "source": [
    "%timeit t.a = new_value"
   ]
  },
  {
   "cell_type": "markdown",
   "id": "48c49731",
   "metadata": {},
   "source": [
    "### Tianshou Batch's Get and Set"
   ]
  },
  {
   "cell_type": "code",
   "execution_count": 8,
   "id": "f1bb14c1",
   "metadata": {
    "execution": {
     "iopub.execute_input": "2023-03-06T17:06:42.468204Z",
     "iopub.status.busy": "2023-03-06T17:06:42.467598Z",
     "iopub.status.idle": "2023-03-06T17:06:42.799657Z",
     "shell.execute_reply": "2023-03-06T17:06:42.798983Z"
    }
   },
   "outputs": [],
   "source": [
    "from tianshou.data import Batch\n",
    "\n",
    "b = Batch(**_TREE_DATA_2)"
   ]
  },
  {
   "cell_type": "code",
   "execution_count": 9,
   "id": "cb0777c3",
   "metadata": {
    "execution": {
     "iopub.execute_input": "2023-03-06T17:06:42.803861Z",
     "iopub.status.busy": "2023-03-06T17:06:42.802536Z",
     "iopub.status.idle": "2023-03-06T17:06:42.810024Z",
     "shell.execute_reply": "2023-03-06T17:06:42.809447Z"
    }
   },
   "outputs": [
    {
     "data": {
      "text/plain": [
       "Batch(\n",
       "    a: tensor([[-0.2425,  0.0157,  0.9027],\n",
       "               [-0.2347, -0.6570,  2.4741]]),\n",
       "    x: Batch(\n",
       "           c: tensor([[ 0.4680,  0.6508, -0.3377, -0.2800],\n",
       "                      [ 0.0246, -0.4271, -0.1351,  0.4276],\n",
       "                      [-1.7794, -0.5550, -0.1028,  0.2163]]),\n",
       "       ),\n",
       ")"
      ]
     },
     "execution_count": 9,
     "metadata": {},
     "output_type": "execute_result"
    }
   ],
   "source": [
    "b"
   ]
  },
  {
   "cell_type": "code",
   "execution_count": 10,
   "id": "43ef8ea3",
   "metadata": {
    "execution": {
     "iopub.execute_input": "2023-03-06T17:06:42.812947Z",
     "iopub.status.busy": "2023-03-06T17:06:42.812471Z",
     "iopub.status.idle": "2023-03-06T17:06:42.818778Z",
     "shell.execute_reply": "2023-03-06T17:06:42.818209Z"
    }
   },
   "outputs": [
    {
     "data": {
      "text/plain": [
       "tensor([[-0.2425,  0.0157,  0.9027],\n",
       "        [-0.2347, -0.6570,  2.4741]])"
      ]
     },
     "execution_count": 10,
     "metadata": {},
     "output_type": "execute_result"
    }
   ],
   "source": [
    "b.a"
   ]
  },
  {
   "cell_type": "code",
   "execution_count": 11,
   "id": "b785ab72",
   "metadata": {
    "execution": {
     "iopub.execute_input": "2023-03-06T17:06:42.821429Z",
     "iopub.status.busy": "2023-03-06T17:06:42.820890Z",
     "iopub.status.idle": "2023-03-06T17:06:47.292629Z",
     "shell.execute_reply": "2023-03-06T17:06:47.291962Z"
    }
   },
   "outputs": [
    {
     "name": "stdout",
     "output_type": "stream",
     "text": [
      "55.1 ns ± 0.0224 ns per loop (mean ± std. dev. of 7 runs, 10,000,000 loops each)\n"
     ]
    }
   ],
   "source": [
    "%timeit b.a"
   ]
  },
  {
   "cell_type": "code",
   "execution_count": 12,
   "id": "ad54dc69",
   "metadata": {
    "execution": {
     "iopub.execute_input": "2023-03-06T17:06:47.295853Z",
     "iopub.status.busy": "2023-03-06T17:06:47.295346Z",
     "iopub.status.idle": "2023-03-06T17:06:47.301524Z",
     "shell.execute_reply": "2023-03-06T17:06:47.300839Z"
    }
   },
   "outputs": [
    {
     "data": {
      "text/plain": [
       "Batch(\n",
       "    a: tensor([[-0.1218,  0.0859,  1.4875],\n",
       "               [ 1.5022, -0.8010,  1.0697]]),\n",
       "    x: Batch(\n",
       "           c: tensor([[ 0.4680,  0.6508, -0.3377, -0.2800],\n",
       "                      [ 0.0246, -0.4271, -0.1351,  0.4276],\n",
       "                      [-1.7794, -0.5550, -0.1028,  0.2163]]),\n",
       "       ),\n",
       ")"
      ]
     },
     "execution_count": 12,
     "metadata": {},
     "output_type": "execute_result"
    }
   ],
   "source": [
    "new_value = torch.randn(2, 3)\n",
    "b.a = new_value\n",
    "\n",
    "b"
   ]
  },
  {
   "cell_type": "code",
   "execution_count": 13,
   "id": "29b1d0bf",
   "metadata": {
    "execution": {
     "iopub.execute_input": "2023-03-06T17:06:47.304576Z",
     "iopub.status.busy": "2023-03-06T17:06:47.304084Z",
     "iopub.status.idle": "2023-03-06T17:06:51.225839Z",
     "shell.execute_reply": "2023-03-06T17:06:51.225077Z"
    }
   },
   "outputs": [
    {
     "name": "stdout",
     "output_type": "stream",
     "text": [
      "482 ns ± 0.974 ns per loop (mean ± std. dev. of 7 runs, 1,000,000 loops each)\n"
     ]
    }
   ],
   "source": [
    "%timeit b.a = new_value"
   ]
  },
  {
   "cell_type": "markdown",
   "id": "b61ad1d0",
   "metadata": {},
   "source": [
    "## Initialization"
   ]
  },
  {
   "cell_type": "markdown",
   "id": "d70f0d54",
   "metadata": {},
   "source": [
    "### TreeValue's Initialization"
   ]
  },
  {
   "cell_type": "code",
   "execution_count": 14,
   "id": "d32a679b",
   "metadata": {
    "execution": {
     "iopub.execute_input": "2023-03-06T17:06:51.228913Z",
     "iopub.status.busy": "2023-03-06T17:06:51.228553Z",
     "iopub.status.idle": "2023-03-06T17:06:58.050367Z",
     "shell.execute_reply": "2023-03-06T17:06:58.049650Z"
    }
   },
   "outputs": [
    {
     "name": "stdout",
     "output_type": "stream",
     "text": [
      "840 ns ± 0.0684 ns per loop (mean ± std. dev. of 7 runs, 1,000,000 loops each)\n"
     ]
    }
   ],
   "source": [
    "%timeit FastTreeValue(_TREE_DATA_1)"
   ]
  },
  {
   "cell_type": "markdown",
   "id": "24f3707b",
   "metadata": {},
   "source": [
    "### Tianshou Batch's Initialization"
   ]
  },
  {
   "cell_type": "code",
   "execution_count": 15,
   "id": "ac3958df",
   "metadata": {
    "execution": {
     "iopub.execute_input": "2023-03-06T17:06:58.053765Z",
     "iopub.status.busy": "2023-03-06T17:06:58.053521Z",
     "iopub.status.idle": "2023-03-06T17:07:07.121324Z",
     "shell.execute_reply": "2023-03-06T17:07:07.120596Z"
    }
   },
   "outputs": [
    {
     "name": "stdout",
     "output_type": "stream",
     "text": [
      "11.2 µs ± 18 ns per loop (mean ± std. dev. of 7 runs, 100,000 loops each)\n"
     ]
    }
   ],
   "source": [
    "%timeit Batch(**_TREE_DATA_1)"
   ]
  },
  {
   "cell_type": "markdown",
   "id": "1ab82e2d",
   "metadata": {},
   "source": [
    "## Deep Copy Operation"
   ]
  },
  {
   "cell_type": "code",
   "execution_count": 16,
   "id": "210a9442",
   "metadata": {
    "execution": {
     "iopub.execute_input": "2023-03-06T17:07:07.124538Z",
     "iopub.status.busy": "2023-03-06T17:07:07.124170Z",
     "iopub.status.idle": "2023-03-06T17:07:07.128293Z",
     "shell.execute_reply": "2023-03-06T17:07:07.127629Z"
    }
   },
   "outputs": [],
   "source": [
    "import copy"
   ]
  },
  {
   "cell_type": "markdown",
   "id": "5a736274",
   "metadata": {},
   "source": [
    "### Deep Copy of TreeValue"
   ]
  },
  {
   "cell_type": "code",
   "execution_count": 17,
   "id": "f9bcadd6",
   "metadata": {
    "execution": {
     "iopub.execute_input": "2023-03-06T17:07:07.130793Z",
     "iopub.status.busy": "2023-03-06T17:07:07.130566Z",
     "iopub.status.idle": "2023-03-06T17:07:18.276431Z",
     "shell.execute_reply": "2023-03-06T17:07:18.275775Z"
    }
   },
   "outputs": [
    {
     "name": "stdout",
     "output_type": "stream",
     "text": [
      "137 µs ± 1.11 µs per loop (mean ± std. dev. of 7 runs, 10,000 loops each)\n"
     ]
    }
   ],
   "source": [
    "t3 = FastTreeValue(_TREE_DATA_3)\n",
    "%timeit copy.deepcopy(t3)"
   ]
  },
  {
   "cell_type": "markdown",
   "id": "bf8be7ea",
   "metadata": {},
   "source": [
    "### Deep Copy of Tianshou Batch"
   ]
  },
  {
   "cell_type": "code",
   "execution_count": 18,
   "id": "91998e6f",
   "metadata": {
    "execution": {
     "iopub.execute_input": "2023-03-06T17:07:18.280587Z",
     "iopub.status.busy": "2023-03-06T17:07:18.279303Z",
     "iopub.status.idle": "2023-03-06T17:07:29.573323Z",
     "shell.execute_reply": "2023-03-06T17:07:29.572723Z"
    }
   },
   "outputs": [
    {
     "name": "stdout",
     "output_type": "stream",
     "text": [
      "139 µs ± 265 ns per loop (mean ± std. dev. of 7 runs, 10,000 loops each)\n"
     ]
    }
   ],
   "source": [
    "b3 = Batch(**_TREE_DATA_3)\n",
    "%timeit copy.deepcopy(b3)"
   ]
  },
  {
   "cell_type": "markdown",
   "id": "223162fb",
   "metadata": {},
   "source": [
    "## Stack, Concat and Split Operation"
   ]
  },
  {
   "cell_type": "markdown",
   "id": "85fa4a73",
   "metadata": {},
   "source": [
    "### Performance of TreeValue"
   ]
  },
  {
   "cell_type": "code",
   "execution_count": 19,
   "id": "a0c2b697",
   "metadata": {
    "execution": {
     "iopub.execute_input": "2023-03-06T17:07:29.576501Z",
     "iopub.status.busy": "2023-03-06T17:07:29.576258Z",
     "iopub.status.idle": "2023-03-06T17:07:29.580300Z",
     "shell.execute_reply": "2023-03-06T17:07:29.579665Z"
    }
   },
   "outputs": [],
   "source": [
    "trees = [FastTreeValue(_TREE_DATA_2) for _ in range(8)]"
   ]
  },
  {
   "cell_type": "code",
   "execution_count": 20,
   "id": "017ea5a5",
   "metadata": {
    "execution": {
     "iopub.execute_input": "2023-03-06T17:07:29.582866Z",
     "iopub.status.busy": "2023-03-06T17:07:29.582505Z",
     "iopub.status.idle": "2023-03-06T17:07:29.591493Z",
     "shell.execute_reply": "2023-03-06T17:07:29.590871Z"
    }
   },
   "outputs": [
    {
     "data": {
      "text/plain": [
       "<FastTreeValue 0x7fb80ae38d30>\n",
       "├── 'a' --> tensor([[[-0.2425,  0.0157,  0.9027],\n",
       "│                    [-0.2347, -0.6570,  2.4741]],\n",
       "│           \n",
       "│                   [[-0.2425,  0.0157,  0.9027],\n",
       "│                    [-0.2347, -0.6570,  2.4741]],\n",
       "│           \n",
       "│                   [[-0.2425,  0.0157,  0.9027],\n",
       "│                    [-0.2347, -0.6570,  2.4741]],\n",
       "│           \n",
       "│                   [[-0.2425,  0.0157,  0.9027],\n",
       "│                    [-0.2347, -0.6570,  2.4741]],\n",
       "│           \n",
       "│                   [[-0.2425,  0.0157,  0.9027],\n",
       "│                    [-0.2347, -0.6570,  2.4741]],\n",
       "│           \n",
       "│                   [[-0.2425,  0.0157,  0.9027],\n",
       "│                    [-0.2347, -0.6570,  2.4741]],\n",
       "│           \n",
       "│                   [[-0.2425,  0.0157,  0.9027],\n",
       "│                    [-0.2347, -0.6570,  2.4741]],\n",
       "│           \n",
       "│                   [[-0.2425,  0.0157,  0.9027],\n",
       "│                    [-0.2347, -0.6570,  2.4741]]])\n",
       "└── 'x' --> <FastTreeValue 0x7fb80ae386d0>\n",
       "    └── 'c' --> tensor([[[ 0.4680,  0.6508, -0.3377, -0.2800],\n",
       "                         [ 0.0246, -0.4271, -0.1351,  0.4276],\n",
       "                         [-1.7794, -0.5550, -0.1028,  0.2163]],\n",
       "                \n",
       "                        [[ 0.4680,  0.6508, -0.3377, -0.2800],\n",
       "                         [ 0.0246, -0.4271, -0.1351,  0.4276],\n",
       "                         [-1.7794, -0.5550, -0.1028,  0.2163]],\n",
       "                \n",
       "                        [[ 0.4680,  0.6508, -0.3377, -0.2800],\n",
       "                         [ 0.0246, -0.4271, -0.1351,  0.4276],\n",
       "                         [-1.7794, -0.5550, -0.1028,  0.2163]],\n",
       "                \n",
       "                        [[ 0.4680,  0.6508, -0.3377, -0.2800],\n",
       "                         [ 0.0246, -0.4271, -0.1351,  0.4276],\n",
       "                         [-1.7794, -0.5550, -0.1028,  0.2163]],\n",
       "                \n",
       "                        [[ 0.4680,  0.6508, -0.3377, -0.2800],\n",
       "                         [ 0.0246, -0.4271, -0.1351,  0.4276],\n",
       "                         [-1.7794, -0.5550, -0.1028,  0.2163]],\n",
       "                \n",
       "                        [[ 0.4680,  0.6508, -0.3377, -0.2800],\n",
       "                         [ 0.0246, -0.4271, -0.1351,  0.4276],\n",
       "                         [-1.7794, -0.5550, -0.1028,  0.2163]],\n",
       "                \n",
       "                        [[ 0.4680,  0.6508, -0.3377, -0.2800],\n",
       "                         [ 0.0246, -0.4271, -0.1351,  0.4276],\n",
       "                         [-1.7794, -0.5550, -0.1028,  0.2163]],\n",
       "                \n",
       "                        [[ 0.4680,  0.6508, -0.3377, -0.2800],\n",
       "                         [ 0.0246, -0.4271, -0.1351,  0.4276],\n",
       "                         [-1.7794, -0.5550, -0.1028,  0.2163]]])"
      ]
     },
     "execution_count": 20,
     "metadata": {},
     "output_type": "execute_result"
    }
   ],
   "source": [
    "t_stack = FastTreeValue.func(subside=True)(torch.stack)\n",
    "\n",
    "t_stack(trees)"
   ]
  },
  {
   "cell_type": "code",
   "execution_count": 21,
   "id": "f8b3f415",
   "metadata": {
    "execution": {
     "iopub.execute_input": "2023-03-06T17:07:29.594516Z",
     "iopub.status.busy": "2023-03-06T17:07:29.593950Z",
     "iopub.status.idle": "2023-03-06T17:07:32.194508Z",
     "shell.execute_reply": "2023-03-06T17:07:32.193845Z"
    }
   },
   "outputs": [
    {
     "name": "stdout",
     "output_type": "stream",
     "text": [
      "31.9 µs ± 48.8 ns per loop (mean ± std. dev. of 7 runs, 10,000 loops each)\n"
     ]
    }
   ],
   "source": [
    "%timeit t_stack(trees)"
   ]
  },
  {
   "cell_type": "code",
   "execution_count": 22,
   "id": "94b56771",
   "metadata": {
    "execution": {
     "iopub.execute_input": "2023-03-06T17:07:32.197238Z",
     "iopub.status.busy": "2023-03-06T17:07:32.196871Z",
     "iopub.status.idle": "2023-03-06T17:07:32.204743Z",
     "shell.execute_reply": "2023-03-06T17:07:32.204157Z"
    }
   },
   "outputs": [
    {
     "data": {
      "text/plain": [
       "<FastTreeValue 0x7fb8c0b69280>\n",
       "├── 'a' --> tensor([[-0.2425,  0.0157,  0.9027],\n",
       "│                   [-0.2347, -0.6570,  2.4741],\n",
       "│                   [-0.2425,  0.0157,  0.9027],\n",
       "│                   [-0.2347, -0.6570,  2.4741],\n",
       "│                   [-0.2425,  0.0157,  0.9027],\n",
       "│                   [-0.2347, -0.6570,  2.4741],\n",
       "│                   [-0.2425,  0.0157,  0.9027],\n",
       "│                   [-0.2347, -0.6570,  2.4741],\n",
       "│                   [-0.2425,  0.0157,  0.9027],\n",
       "│                   [-0.2347, -0.6570,  2.4741],\n",
       "│                   [-0.2425,  0.0157,  0.9027],\n",
       "│                   [-0.2347, -0.6570,  2.4741],\n",
       "│                   [-0.2425,  0.0157,  0.9027],\n",
       "│                   [-0.2347, -0.6570,  2.4741],\n",
       "│                   [-0.2425,  0.0157,  0.9027],\n",
       "│                   [-0.2347, -0.6570,  2.4741]])\n",
       "└── 'x' --> <FastTreeValue 0x7fb80ae60f40>\n",
       "    └── 'c' --> tensor([[ 0.4680,  0.6508, -0.3377, -0.2800],\n",
       "                        [ 0.0246, -0.4271, -0.1351,  0.4276],\n",
       "                        [-1.7794, -0.5550, -0.1028,  0.2163],\n",
       "                        [ 0.4680,  0.6508, -0.3377, -0.2800],\n",
       "                        [ 0.0246, -0.4271, -0.1351,  0.4276],\n",
       "                        [-1.7794, -0.5550, -0.1028,  0.2163],\n",
       "                        [ 0.4680,  0.6508, -0.3377, -0.2800],\n",
       "                        [ 0.0246, -0.4271, -0.1351,  0.4276],\n",
       "                        [-1.7794, -0.5550, -0.1028,  0.2163],\n",
       "                        [ 0.4680,  0.6508, -0.3377, -0.2800],\n",
       "                        [ 0.0246, -0.4271, -0.1351,  0.4276],\n",
       "                        [-1.7794, -0.5550, -0.1028,  0.2163],\n",
       "                        [ 0.4680,  0.6508, -0.3377, -0.2800],\n",
       "                        [ 0.0246, -0.4271, -0.1351,  0.4276],\n",
       "                        [-1.7794, -0.5550, -0.1028,  0.2163],\n",
       "                        [ 0.4680,  0.6508, -0.3377, -0.2800],\n",
       "                        [ 0.0246, -0.4271, -0.1351,  0.4276],\n",
       "                        [-1.7794, -0.5550, -0.1028,  0.2163],\n",
       "                        [ 0.4680,  0.6508, -0.3377, -0.2800],\n",
       "                        [ 0.0246, -0.4271, -0.1351,  0.4276],\n",
       "                        [-1.7794, -0.5550, -0.1028,  0.2163],\n",
       "                        [ 0.4680,  0.6508, -0.3377, -0.2800],\n",
       "                        [ 0.0246, -0.4271, -0.1351,  0.4276],\n",
       "                        [-1.7794, -0.5550, -0.1028,  0.2163]])"
      ]
     },
     "execution_count": 22,
     "metadata": {},
     "output_type": "execute_result"
    }
   ],
   "source": [
    "t_cat = FastTreeValue.func(subside=True)(torch.cat)\n",
    "\n",
    "t_cat(trees)"
   ]
  },
  {
   "cell_type": "code",
   "execution_count": 23,
   "id": "5e9c06a6",
   "metadata": {
    "execution": {
     "iopub.execute_input": "2023-03-06T17:07:32.207126Z",
     "iopub.status.busy": "2023-03-06T17:07:32.206784Z",
     "iopub.status.idle": "2023-03-06T17:07:34.646767Z",
     "shell.execute_reply": "2023-03-06T17:07:34.646098Z"
    }
   },
   "outputs": [
    {
     "name": "stdout",
     "output_type": "stream",
     "text": [
      "30 µs ± 49.2 ns per loop (mean ± std. dev. of 7 runs, 10,000 loops each)\n"
     ]
    }
   ],
   "source": [
    "%timeit t_cat(trees)"
   ]
  },
  {
   "cell_type": "code",
   "execution_count": 24,
   "id": "a3ab5c8f",
   "metadata": {
    "execution": {
     "iopub.execute_input": "2023-03-06T17:07:34.649493Z",
     "iopub.status.busy": "2023-03-06T17:07:34.649133Z",
     "iopub.status.idle": "2023-03-06T17:07:39.495221Z",
     "shell.execute_reply": "2023-03-06T17:07:39.494546Z"
    }
   },
   "outputs": [
    {
     "name": "stdout",
     "output_type": "stream",
     "text": [
      "59.6 µs ± 46.1 ns per loop (mean ± std. dev. of 7 runs, 10,000 loops each)\n"
     ]
    }
   ],
   "source": [
    "t_split = FastTreeValue.func(rise=True)(torch.split)\n",
    "tree = FastTreeValue({\n",
    "    'obs': torch.randn(8, 4, 84, 84),\n",
    "    'action': torch.randint(0, 6, size=(8, 1,)),\n",
    "    'reward': torch.rand(8, 1),\n",
    "})\n",
    "\n",
    "%timeit t_split(tree, 1)"
   ]
  },
  {
   "cell_type": "markdown",
   "id": "31c3ec0b",
   "metadata": {},
   "source": [
    "### Performance of Tianshou Batch"
   ]
  },
  {
   "cell_type": "code",
   "execution_count": 25,
   "id": "9ead828a",
   "metadata": {
    "execution": {
     "iopub.execute_input": "2023-03-06T17:07:39.498363Z",
     "iopub.status.busy": "2023-03-06T17:07:39.498012Z",
     "iopub.status.idle": "2023-03-06T17:07:39.505987Z",
     "shell.execute_reply": "2023-03-06T17:07:39.505377Z"
    }
   },
   "outputs": [
    {
     "data": {
      "text/plain": [
       "Batch(\n",
       "    x: Batch(\n",
       "           c: tensor([[[ 0.4680,  0.6508, -0.3377, -0.2800],\n",
       "                       [ 0.0246, -0.4271, -0.1351,  0.4276],\n",
       "                       [-1.7794, -0.5550, -0.1028,  0.2163]],\n",
       "              \n",
       "                      [[ 0.4680,  0.6508, -0.3377, -0.2800],\n",
       "                       [ 0.0246, -0.4271, -0.1351,  0.4276],\n",
       "                       [-1.7794, -0.5550, -0.1028,  0.2163]],\n",
       "              \n",
       "                      [[ 0.4680,  0.6508, -0.3377, -0.2800],\n",
       "                       [ 0.0246, -0.4271, -0.1351,  0.4276],\n",
       "                       [-1.7794, -0.5550, -0.1028,  0.2163]],\n",
       "              \n",
       "                      [[ 0.4680,  0.6508, -0.3377, -0.2800],\n",
       "                       [ 0.0246, -0.4271, -0.1351,  0.4276],\n",
       "                       [-1.7794, -0.5550, -0.1028,  0.2163]],\n",
       "              \n",
       "                      [[ 0.4680,  0.6508, -0.3377, -0.2800],\n",
       "                       [ 0.0246, -0.4271, -0.1351,  0.4276],\n",
       "                       [-1.7794, -0.5550, -0.1028,  0.2163]],\n",
       "              \n",
       "                      [[ 0.4680,  0.6508, -0.3377, -0.2800],\n",
       "                       [ 0.0246, -0.4271, -0.1351,  0.4276],\n",
       "                       [-1.7794, -0.5550, -0.1028,  0.2163]],\n",
       "              \n",
       "                      [[ 0.4680,  0.6508, -0.3377, -0.2800],\n",
       "                       [ 0.0246, -0.4271, -0.1351,  0.4276],\n",
       "                       [-1.7794, -0.5550, -0.1028,  0.2163]],\n",
       "              \n",
       "                      [[ 0.4680,  0.6508, -0.3377, -0.2800],\n",
       "                       [ 0.0246, -0.4271, -0.1351,  0.4276],\n",
       "                       [-1.7794, -0.5550, -0.1028,  0.2163]]]),\n",
       "       ),\n",
       "    a: tensor([[[-0.2425,  0.0157,  0.9027],\n",
       "                [-0.2347, -0.6570,  2.4741]],\n",
       "       \n",
       "               [[-0.2425,  0.0157,  0.9027],\n",
       "                [-0.2347, -0.6570,  2.4741]],\n",
       "       \n",
       "               [[-0.2425,  0.0157,  0.9027],\n",
       "                [-0.2347, -0.6570,  2.4741]],\n",
       "       \n",
       "               [[-0.2425,  0.0157,  0.9027],\n",
       "                [-0.2347, -0.6570,  2.4741]],\n",
       "       \n",
       "               [[-0.2425,  0.0157,  0.9027],\n",
       "                [-0.2347, -0.6570,  2.4741]],\n",
       "       \n",
       "               [[-0.2425,  0.0157,  0.9027],\n",
       "                [-0.2347, -0.6570,  2.4741]],\n",
       "       \n",
       "               [[-0.2425,  0.0157,  0.9027],\n",
       "                [-0.2347, -0.6570,  2.4741]],\n",
       "       \n",
       "               [[-0.2425,  0.0157,  0.9027],\n",
       "                [-0.2347, -0.6570,  2.4741]]]),\n",
       ")"
      ]
     },
     "execution_count": 25,
     "metadata": {},
     "output_type": "execute_result"
    }
   ],
   "source": [
    "batches = [Batch(**_TREE_DATA_2) for _ in range(8)]\n",
    "\n",
    "Batch.stack(batches)"
   ]
  },
  {
   "cell_type": "code",
   "execution_count": 26,
   "id": "ec9037a3",
   "metadata": {
    "execution": {
     "iopub.execute_input": "2023-03-06T17:07:39.508960Z",
     "iopub.status.busy": "2023-03-06T17:07:39.508466Z",
     "iopub.status.idle": "2023-03-06T17:07:45.836616Z",
     "shell.execute_reply": "2023-03-06T17:07:45.835876Z"
    }
   },
   "outputs": [
    {
     "name": "stdout",
     "output_type": "stream",
     "text": [
      "77.9 µs ± 234 ns per loop (mean ± std. dev. of 7 runs, 10,000 loops each)\n"
     ]
    }
   ],
   "source": [
    "%timeit Batch.stack(batches)"
   ]
  },
  {
   "cell_type": "code",
   "execution_count": 27,
   "id": "cb8ab77e",
   "metadata": {
    "execution": {
     "iopub.execute_input": "2023-03-06T17:07:45.839645Z",
     "iopub.status.busy": "2023-03-06T17:07:45.839123Z",
     "iopub.status.idle": "2023-03-06T17:07:45.846607Z",
     "shell.execute_reply": "2023-03-06T17:07:45.846034Z"
    }
   },
   "outputs": [
    {
     "data": {
      "text/plain": [
       "Batch(\n",
       "    x: Batch(\n",
       "           c: tensor([[ 0.4680,  0.6508, -0.3377, -0.2800],\n",
       "                      [ 0.0246, -0.4271, -0.1351,  0.4276],\n",
       "                      [-1.7794, -0.5550, -0.1028,  0.2163],\n",
       "                      [ 0.4680,  0.6508, -0.3377, -0.2800],\n",
       "                      [ 0.0246, -0.4271, -0.1351,  0.4276],\n",
       "                      [-1.7794, -0.5550, -0.1028,  0.2163],\n",
       "                      [ 0.4680,  0.6508, -0.3377, -0.2800],\n",
       "                      [ 0.0246, -0.4271, -0.1351,  0.4276],\n",
       "                      [-1.7794, -0.5550, -0.1028,  0.2163],\n",
       "                      [ 0.4680,  0.6508, -0.3377, -0.2800],\n",
       "                      [ 0.0246, -0.4271, -0.1351,  0.4276],\n",
       "                      [-1.7794, -0.5550, -0.1028,  0.2163],\n",
       "                      [ 0.4680,  0.6508, -0.3377, -0.2800],\n",
       "                      [ 0.0246, -0.4271, -0.1351,  0.4276],\n",
       "                      [-1.7794, -0.5550, -0.1028,  0.2163],\n",
       "                      [ 0.4680,  0.6508, -0.3377, -0.2800],\n",
       "                      [ 0.0246, -0.4271, -0.1351,  0.4276],\n",
       "                      [-1.7794, -0.5550, -0.1028,  0.2163],\n",
       "                      [ 0.4680,  0.6508, -0.3377, -0.2800],\n",
       "                      [ 0.0246, -0.4271, -0.1351,  0.4276],\n",
       "                      [-1.7794, -0.5550, -0.1028,  0.2163],\n",
       "                      [ 0.4680,  0.6508, -0.3377, -0.2800],\n",
       "                      [ 0.0246, -0.4271, -0.1351,  0.4276],\n",
       "                      [-1.7794, -0.5550, -0.1028,  0.2163]]),\n",
       "       ),\n",
       "    a: tensor([[-0.2425,  0.0157,  0.9027],\n",
       "               [-0.2347, -0.6570,  2.4741],\n",
       "               [-0.2425,  0.0157,  0.9027],\n",
       "               [-0.2347, -0.6570,  2.4741],\n",
       "               [-0.2425,  0.0157,  0.9027],\n",
       "               [-0.2347, -0.6570,  2.4741],\n",
       "               [-0.2425,  0.0157,  0.9027],\n",
       "               [-0.2347, -0.6570,  2.4741],\n",
       "               [-0.2425,  0.0157,  0.9027],\n",
       "               [-0.2347, -0.6570,  2.4741],\n",
       "               [-0.2425,  0.0157,  0.9027],\n",
       "               [-0.2347, -0.6570,  2.4741],\n",
       "               [-0.2425,  0.0157,  0.9027],\n",
       "               [-0.2347, -0.6570,  2.4741],\n",
       "               [-0.2425,  0.0157,  0.9027],\n",
       "               [-0.2347, -0.6570,  2.4741]]),\n",
       ")"
      ]
     },
     "execution_count": 27,
     "metadata": {},
     "output_type": "execute_result"
    }
   ],
   "source": [
    "Batch.cat(batches)"
   ]
  },
  {
   "cell_type": "code",
   "execution_count": 28,
   "id": "18dfb045",
   "metadata": {
    "execution": {
     "iopub.execute_input": "2023-03-06T17:07:45.849064Z",
     "iopub.status.busy": "2023-03-06T17:07:45.848717Z",
     "iopub.status.idle": "2023-03-06T17:07:58.892603Z",
     "shell.execute_reply": "2023-03-06T17:07:58.891929Z"
    }
   },
   "outputs": [
    {
     "name": "stdout",
     "output_type": "stream",
     "text": [
      "161 µs ± 282 ns per loop (mean ± std. dev. of 7 runs, 10,000 loops each)\n"
     ]
    }
   ],
   "source": [
    "%timeit Batch.cat(batches)"
   ]
  },
  {
   "cell_type": "code",
   "execution_count": 29,
   "id": "c6688e51",
   "metadata": {
    "execution": {
     "iopub.execute_input": "2023-03-06T17:07:58.895649Z",
     "iopub.status.busy": "2023-03-06T17:07:58.895407Z",
     "iopub.status.idle": "2023-03-06T17:08:01.384007Z",
     "shell.execute_reply": "2023-03-06T17:08:01.383293Z"
    }
   },
   "outputs": [
    {
     "name": "stdout",
     "output_type": "stream",
     "text": [
      "306 µs ± 538 ns per loop (mean ± std. dev. of 7 runs, 1,000 loops each)\n"
     ]
    }
   ],
   "source": [
    "batch = Batch({\n",
    "    'obs': torch.randn(8, 4, 84, 84),\n",
    "    'action': torch.randint(0, 6, size=(8, 1,)),\n",
    "    'reward': torch.rand(8, 1)}\n",
    ")\n",
    "\n",
    "%timeit list(Batch.split(batch, 1, shuffle=False, merge_last=True))"
   ]
  },
  {
   "cell_type": "code",
   "execution_count": null,
   "id": "2539fbd9",
   "metadata": {},
   "outputs": [],
   "source": []
  }
 ],
 "metadata": {
  "kernelspec": {
   "display_name": "Python 3 (ipykernel)",
   "language": "python",
   "name": "python3"
  },
  "language_info": {
   "codemirror_mode": {
    "name": "ipython",
    "version": 3
   },
   "file_extension": ".py",
   "mimetype": "text/x-python",
   "name": "python",
   "nbconvert_exporter": "python",
   "pygments_lexer": "ipython3",
   "version": "3.8.16"
  }
 },
 "nbformat": 4,
 "nbformat_minor": 5
}
