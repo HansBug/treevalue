{
 "cells": [
  {
   "cell_type": "markdown",
   "id": "9d39d946",
   "metadata": {},
   "source": [
    "# Comparison Between TreeValue and Tianshou Batch"
   ]
  },
  {
   "cell_type": "markdown",
   "id": "3c6db2d4",
   "metadata": {},
   "source": [
    "In this section, we will take a look at the feature and performance of the [Tianshou Batch](https://github.com/thu-ml/tianshou) library, which is developed by Tsinghua Machine Learning Group."
   ]
  },
  {
   "cell_type": "markdown",
   "id": "069361b0",
   "metadata": {},
   "source": [
    "Before starting the comparison, let us define some thing."
   ]
  },
  {
   "cell_type": "code",
   "execution_count": 1,
   "id": "06fc8d26",
   "metadata": {
    "execution": {
     "iopub.execute_input": "2023-04-16T14:43:59.951829Z",
     "iopub.status.busy": "2023-04-16T14:43:59.951450Z",
     "iopub.status.idle": "2023-04-16T14:44:01.227529Z",
     "shell.execute_reply": "2023-04-16T14:44:01.226877Z"
    }
   },
   "outputs": [],
   "source": [
    "import torch \n",
    "\n",
    "_TREE_DATA_1 = {'a': 1, 'b': 2, 'x': {'c': 3, 'd': 4}}\n",
    "_TREE_DATA_2 = {\n",
    "    'a': torch.randn(2, 3), \n",
    "    'x': {\n",
    "        'c': torch.randn(3, 4)\n",
    "    },\n",
    "}\n",
    "_TREE_DATA_3 = {\n",
    "    'obs': torch.randn(4, 84, 84),\n",
    "    'action': torch.randint(0, 6, size=(1,)),\n",
    "    'reward': torch.rand(1),\n",
    "}"
   ]
  },
  {
   "cell_type": "markdown",
   "id": "83461b25",
   "metadata": {},
   "source": [
    "## Read and Write Operation"
   ]
  },
  {
   "cell_type": "markdown",
   "id": "067b3f73",
   "metadata": {},
   "source": [
    "Reading and writing are the two most common operations in the tree data structure based on the data model (TreeValue and Tianshou Batch both belong to this type), so this section will compare the reading and writing performance of these two libraries."
   ]
  },
  {
   "cell_type": "markdown",
   "id": "5d09a5b7",
   "metadata": {},
   "source": [
    "### TreeValue's Get and Set"
   ]
  },
  {
   "cell_type": "code",
   "execution_count": 2,
   "id": "9519c4bb",
   "metadata": {
    "execution": {
     "iopub.execute_input": "2023-04-16T14:44:01.231287Z",
     "iopub.status.busy": "2023-04-16T14:44:01.230811Z",
     "iopub.status.idle": "2023-04-16T14:44:01.500138Z",
     "shell.execute_reply": "2023-04-16T14:44:01.498900Z"
    }
   },
   "outputs": [],
   "source": [
    "from treevalue import FastTreeValue\n",
    "\n",
    "t = FastTreeValue(_TREE_DATA_2)"
   ]
  },
  {
   "cell_type": "code",
   "execution_count": 3,
   "id": "11c37677",
   "metadata": {
    "execution": {
     "iopub.execute_input": "2023-04-16T14:44:01.503510Z",
     "iopub.status.busy": "2023-04-16T14:44:01.502934Z",
     "iopub.status.idle": "2023-04-16T14:44:01.511371Z",
     "shell.execute_reply": "2023-04-16T14:44:01.510734Z"
    }
   },
   "outputs": [
    {
     "data": {
      "text/plain": [
       "<FastTreeValue 0x7f02dccb8eb0>\n",
       "├── 'a' --> tensor([[ 0.0611,  0.3375,  0.6706],\n",
       "│                   [-0.9574, -2.1367,  0.5555]])\n",
       "└── 'x' --> <FastTreeValue 0x7f02dccb8f70>\n",
       "    └── 'c' --> tensor([[-0.0185,  0.1023, -0.2857,  0.6214],\n",
       "                        [ 0.4965, -0.6195, -0.7838, -0.4765],\n",
       "                        [-1.2410, -1.4649, -0.2316, -1.2231]])"
      ]
     },
     "execution_count": 3,
     "metadata": {},
     "output_type": "execute_result"
    }
   ],
   "source": [
    "t"
   ]
  },
  {
   "cell_type": "code",
   "execution_count": 4,
   "id": "fd70b0b9",
   "metadata": {
    "execution": {
     "iopub.execute_input": "2023-04-16T14:44:01.514990Z",
     "iopub.status.busy": "2023-04-16T14:44:01.514653Z",
     "iopub.status.idle": "2023-04-16T14:44:01.521577Z",
     "shell.execute_reply": "2023-04-16T14:44:01.520541Z"
    }
   },
   "outputs": [
    {
     "data": {
      "text/plain": [
       "tensor([[ 0.0611,  0.3375,  0.6706],\n",
       "        [-0.9574, -2.1367,  0.5555]])"
      ]
     },
     "execution_count": 4,
     "metadata": {},
     "output_type": "execute_result"
    }
   ],
   "source": [
    "t.a"
   ]
  },
  {
   "cell_type": "code",
   "execution_count": 5,
   "id": "c18197bd",
   "metadata": {
    "execution": {
     "iopub.execute_input": "2023-04-16T14:44:01.524636Z",
     "iopub.status.busy": "2023-04-16T14:44:01.524172Z",
     "iopub.status.idle": "2023-04-16T14:44:06.639686Z",
     "shell.execute_reply": "2023-04-16T14:44:06.639103Z"
    }
   },
   "outputs": [
    {
     "name": "stdout",
     "output_type": "stream",
     "text": [
      "62.9 ns ± 0.0297 ns per loop (mean ± std. dev. of 7 runs, 10,000,000 loops each)\n"
     ]
    }
   ],
   "source": [
    "%timeit t.a"
   ]
  },
  {
   "cell_type": "code",
   "execution_count": 6,
   "id": "bd52f867",
   "metadata": {
    "execution": {
     "iopub.execute_input": "2023-04-16T14:44:06.642679Z",
     "iopub.status.busy": "2023-04-16T14:44:06.642181Z",
     "iopub.status.idle": "2023-04-16T14:44:06.648176Z",
     "shell.execute_reply": "2023-04-16T14:44:06.647550Z"
    }
   },
   "outputs": [
    {
     "data": {
      "text/plain": [
       "<FastTreeValue 0x7f02dccb8eb0>\n",
       "├── 'a' --> tensor([[ 0.6108, -1.2709, -1.1665],\n",
       "│                   [ 0.2176, -0.8124,  1.0967]])\n",
       "└── 'x' --> <FastTreeValue 0x7f02dccb8f70>\n",
       "    └── 'c' --> tensor([[-0.0185,  0.1023, -0.2857,  0.6214],\n",
       "                        [ 0.4965, -0.6195, -0.7838, -0.4765],\n",
       "                        [-1.2410, -1.4649, -0.2316, -1.2231]])"
      ]
     },
     "execution_count": 6,
     "metadata": {},
     "output_type": "execute_result"
    }
   ],
   "source": [
    "new_value = torch.randn(2, 3)\n",
    "t.a = new_value\n",
    "\n",
    "t"
   ]
  },
  {
   "cell_type": "code",
   "execution_count": 7,
   "id": "bbe04d1c",
   "metadata": {
    "execution": {
     "iopub.execute_input": "2023-04-16T14:44:06.650861Z",
     "iopub.status.busy": "2023-04-16T14:44:06.650531Z",
     "iopub.status.idle": "2023-04-16T14:44:11.489663Z",
     "shell.execute_reply": "2023-04-16T14:44:11.487926Z"
    }
   },
   "outputs": [
    {
     "name": "stdout",
     "output_type": "stream",
     "text": [
      "59.5 ns ± 0.0583 ns per loop (mean ± std. dev. of 7 runs, 10,000,000 loops each)\n"
     ]
    }
   ],
   "source": [
    "%timeit t.a = new_value"
   ]
  },
  {
   "cell_type": "markdown",
   "id": "48c49731",
   "metadata": {},
   "source": [
    "### Tianshou Batch's Get and Set"
   ]
  },
  {
   "cell_type": "code",
   "execution_count": 8,
   "id": "f1bb14c1",
   "metadata": {
    "execution": {
     "iopub.execute_input": "2023-04-16T14:44:11.492604Z",
     "iopub.status.busy": "2023-04-16T14:44:11.492391Z",
     "iopub.status.idle": "2023-04-16T14:44:11.834976Z",
     "shell.execute_reply": "2023-04-16T14:44:11.834325Z"
    }
   },
   "outputs": [],
   "source": [
    "from tianshou.data import Batch\n",
    "\n",
    "b = Batch(**_TREE_DATA_2)"
   ]
  },
  {
   "cell_type": "code",
   "execution_count": 9,
   "id": "cb0777c3",
   "metadata": {
    "execution": {
     "iopub.execute_input": "2023-04-16T14:44:11.838505Z",
     "iopub.status.busy": "2023-04-16T14:44:11.837875Z",
     "iopub.status.idle": "2023-04-16T14:44:11.845483Z",
     "shell.execute_reply": "2023-04-16T14:44:11.844552Z"
    }
   },
   "outputs": [
    {
     "data": {
      "text/plain": [
       "Batch(\n",
       "    a: tensor([[ 0.0611,  0.3375,  0.6706],\n",
       "               [-0.9574, -2.1367,  0.5555]]),\n",
       "    x: Batch(\n",
       "           c: tensor([[-0.0185,  0.1023, -0.2857,  0.6214],\n",
       "                      [ 0.4965, -0.6195, -0.7838, -0.4765],\n",
       "                      [-1.2410, -1.4649, -0.2316, -1.2231]]),\n",
       "       ),\n",
       ")"
      ]
     },
     "execution_count": 9,
     "metadata": {},
     "output_type": "execute_result"
    }
   ],
   "source": [
    "b"
   ]
  },
  {
   "cell_type": "code",
   "execution_count": 10,
   "id": "43ef8ea3",
   "metadata": {
    "execution": {
     "iopub.execute_input": "2023-04-16T14:44:11.848478Z",
     "iopub.status.busy": "2023-04-16T14:44:11.848009Z",
     "iopub.status.idle": "2023-04-16T14:44:11.855140Z",
     "shell.execute_reply": "2023-04-16T14:44:11.854184Z"
    }
   },
   "outputs": [
    {
     "data": {
      "text/plain": [
       "tensor([[ 0.0611,  0.3375,  0.6706],\n",
       "        [-0.9574, -2.1367,  0.5555]])"
      ]
     },
     "execution_count": 10,
     "metadata": {},
     "output_type": "execute_result"
    }
   ],
   "source": [
    "b.a"
   ]
  },
  {
   "cell_type": "code",
   "execution_count": 11,
   "id": "b785ab72",
   "metadata": {
    "execution": {
     "iopub.execute_input": "2023-04-16T14:44:11.857680Z",
     "iopub.status.busy": "2023-04-16T14:44:11.857468Z",
     "iopub.status.idle": "2023-04-16T14:44:16.355970Z",
     "shell.execute_reply": "2023-04-16T14:44:16.355026Z"
    }
   },
   "outputs": [
    {
     "name": "stdout",
     "output_type": "stream",
     "text": [
      "55.6 ns ± 0.0669 ns per loop (mean ± std. dev. of 7 runs, 10,000,000 loops each)\n"
     ]
    }
   ],
   "source": [
    "%timeit b.a"
   ]
  },
  {
   "cell_type": "code",
   "execution_count": 12,
   "id": "ad54dc69",
   "metadata": {
    "execution": {
     "iopub.execute_input": "2023-04-16T14:44:16.358996Z",
     "iopub.status.busy": "2023-04-16T14:44:16.358646Z",
     "iopub.status.idle": "2023-04-16T14:44:16.364364Z",
     "shell.execute_reply": "2023-04-16T14:44:16.363739Z"
    }
   },
   "outputs": [
    {
     "data": {
      "text/plain": [
       "Batch(\n",
       "    a: tensor([[-0.5206, -0.6563,  0.8132],\n",
       "               [-3.1887, -0.9167,  0.5971]]),\n",
       "    x: Batch(\n",
       "           c: tensor([[-0.0185,  0.1023, -0.2857,  0.6214],\n",
       "                      [ 0.4965, -0.6195, -0.7838, -0.4765],\n",
       "                      [-1.2410, -1.4649, -0.2316, -1.2231]]),\n",
       "       ),\n",
       ")"
      ]
     },
     "execution_count": 12,
     "metadata": {},
     "output_type": "execute_result"
    }
   ],
   "source": [
    "new_value = torch.randn(2, 3)\n",
    "b.a = new_value\n",
    "\n",
    "b"
   ]
  },
  {
   "cell_type": "code",
   "execution_count": 13,
   "id": "29b1d0bf",
   "metadata": {
    "execution": {
     "iopub.execute_input": "2023-04-16T14:44:16.366838Z",
     "iopub.status.busy": "2023-04-16T14:44:16.366632Z",
     "iopub.status.idle": "2023-04-16T14:44:20.260099Z",
     "shell.execute_reply": "2023-04-16T14:44:20.259524Z"
    }
   },
   "outputs": [
    {
     "name": "stdout",
     "output_type": "stream",
     "text": [
      "478 ns ± 0.0651 ns per loop (mean ± std. dev. of 7 runs, 1,000,000 loops each)\n"
     ]
    }
   ],
   "source": [
    "%timeit b.a = new_value"
   ]
  },
  {
   "cell_type": "markdown",
   "id": "b61ad1d0",
   "metadata": {},
   "source": [
    "## Initialization"
   ]
  },
  {
   "cell_type": "markdown",
   "id": "d70f0d54",
   "metadata": {},
   "source": [
    "### TreeValue's Initialization"
   ]
  },
  {
   "cell_type": "code",
   "execution_count": 14,
   "id": "d32a679b",
   "metadata": {
    "execution": {
     "iopub.execute_input": "2023-04-16T14:44:20.263280Z",
     "iopub.status.busy": "2023-04-16T14:44:20.262929Z",
     "iopub.status.idle": "2023-04-16T14:44:26.907894Z",
     "shell.execute_reply": "2023-04-16T14:44:26.907246Z"
    }
   },
   "outputs": [
    {
     "name": "stdout",
     "output_type": "stream",
     "text": [
      "818 ns ± 0.082 ns per loop (mean ± std. dev. of 7 runs, 1,000,000 loops each)\n"
     ]
    }
   ],
   "source": [
    "%timeit FastTreeValue(_TREE_DATA_1)"
   ]
  },
  {
   "cell_type": "markdown",
   "id": "24f3707b",
   "metadata": {},
   "source": [
    "### Tianshou Batch's Initialization"
   ]
  },
  {
   "cell_type": "code",
   "execution_count": 15,
   "id": "ac3958df",
   "metadata": {
    "execution": {
     "iopub.execute_input": "2023-04-16T14:44:26.911320Z",
     "iopub.status.busy": "2023-04-16T14:44:26.910856Z",
     "iopub.status.idle": "2023-04-16T14:44:36.065726Z",
     "shell.execute_reply": "2023-04-16T14:44:36.065026Z"
    }
   },
   "outputs": [
    {
     "name": "stdout",
     "output_type": "stream",
     "text": [
      "11.3 µs ± 63.4 ns per loop (mean ± std. dev. of 7 runs, 100,000 loops each)\n"
     ]
    }
   ],
   "source": [
    "%timeit Batch(**_TREE_DATA_1)"
   ]
  },
  {
   "cell_type": "markdown",
   "id": "1ab82e2d",
   "metadata": {},
   "source": [
    "## Deep Copy Operation"
   ]
  },
  {
   "cell_type": "code",
   "execution_count": 16,
   "id": "210a9442",
   "metadata": {
    "execution": {
     "iopub.execute_input": "2023-04-16T14:44:36.068798Z",
     "iopub.status.busy": "2023-04-16T14:44:36.068445Z",
     "iopub.status.idle": "2023-04-16T14:44:36.072715Z",
     "shell.execute_reply": "2023-04-16T14:44:36.072102Z"
    }
   },
   "outputs": [],
   "source": [
    "import copy"
   ]
  },
  {
   "cell_type": "markdown",
   "id": "5a736274",
   "metadata": {},
   "source": [
    "### Deep Copy of TreeValue"
   ]
  },
  {
   "cell_type": "code",
   "execution_count": 17,
   "id": "f9bcadd6",
   "metadata": {
    "execution": {
     "iopub.execute_input": "2023-04-16T14:44:36.075421Z",
     "iopub.status.busy": "2023-04-16T14:44:36.075088Z",
     "iopub.status.idle": "2023-04-16T14:44:47.155874Z",
     "shell.execute_reply": "2023-04-16T14:44:47.155300Z"
    }
   },
   "outputs": [
    {
     "name": "stdout",
     "output_type": "stream",
     "text": [
      "137 µs ± 243 ns per loop (mean ± std. dev. of 7 runs, 10,000 loops each)\n"
     ]
    }
   ],
   "source": [
    "t3 = FastTreeValue(_TREE_DATA_3)\n",
    "%timeit copy.deepcopy(t3)"
   ]
  },
  {
   "cell_type": "markdown",
   "id": "bf8be7ea",
   "metadata": {},
   "source": [
    "### Deep Copy of Tianshou Batch"
   ]
  },
  {
   "cell_type": "code",
   "execution_count": 18,
   "id": "91998e6f",
   "metadata": {
    "execution": {
     "iopub.execute_input": "2023-04-16T14:44:47.160438Z",
     "iopub.status.busy": "2023-04-16T14:44:47.159266Z",
     "iopub.status.idle": "2023-04-16T14:44:58.531392Z",
     "shell.execute_reply": "2023-04-16T14:44:58.530814Z"
    }
   },
   "outputs": [
    {
     "name": "stdout",
     "output_type": "stream",
     "text": [
      "140 µs ± 595 ns per loop (mean ± std. dev. of 7 runs, 10,000 loops each)\n"
     ]
    }
   ],
   "source": [
    "b3 = Batch(**_TREE_DATA_3)\n",
    "%timeit copy.deepcopy(b3)"
   ]
  },
  {
   "cell_type": "markdown",
   "id": "223162fb",
   "metadata": {},
   "source": [
    "## Stack, Concat and Split Operation"
   ]
  },
  {
   "cell_type": "markdown",
   "id": "85fa4a73",
   "metadata": {},
   "source": [
    "### Performance of TreeValue"
   ]
  },
  {
   "cell_type": "code",
   "execution_count": 19,
   "id": "a0c2b697",
   "metadata": {
    "execution": {
     "iopub.execute_input": "2023-04-16T14:44:58.534450Z",
     "iopub.status.busy": "2023-04-16T14:44:58.534213Z",
     "iopub.status.idle": "2023-04-16T14:44:58.538727Z",
     "shell.execute_reply": "2023-04-16T14:44:58.538130Z"
    }
   },
   "outputs": [],
   "source": [
    "trees = [FastTreeValue(_TREE_DATA_2) for _ in range(8)]"
   ]
  },
  {
   "cell_type": "code",
   "execution_count": 20,
   "id": "017ea5a5",
   "metadata": {
    "execution": {
     "iopub.execute_input": "2023-04-16T14:44:58.541431Z",
     "iopub.status.busy": "2023-04-16T14:44:58.541086Z",
     "iopub.status.idle": "2023-04-16T14:44:58.550454Z",
     "shell.execute_reply": "2023-04-16T14:44:58.549880Z"
    }
   },
   "outputs": [
    {
     "data": {
      "text/plain": [
       "<FastTreeValue 0x7f02e0ce90d0>\n",
       "├── 'a' --> tensor([[[ 0.0611,  0.3375,  0.6706],\n",
       "│                    [-0.9574, -2.1367,  0.5555]],\n",
       "│           \n",
       "│                   [[ 0.0611,  0.3375,  0.6706],\n",
       "│                    [-0.9574, -2.1367,  0.5555]],\n",
       "│           \n",
       "│                   [[ 0.0611,  0.3375,  0.6706],\n",
       "│                    [-0.9574, -2.1367,  0.5555]],\n",
       "│           \n",
       "│                   [[ 0.0611,  0.3375,  0.6706],\n",
       "│                    [-0.9574, -2.1367,  0.5555]],\n",
       "│           \n",
       "│                   [[ 0.0611,  0.3375,  0.6706],\n",
       "│                    [-0.9574, -2.1367,  0.5555]],\n",
       "│           \n",
       "│                   [[ 0.0611,  0.3375,  0.6706],\n",
       "│                    [-0.9574, -2.1367,  0.5555]],\n",
       "│           \n",
       "│                   [[ 0.0611,  0.3375,  0.6706],\n",
       "│                    [-0.9574, -2.1367,  0.5555]],\n",
       "│           \n",
       "│                   [[ 0.0611,  0.3375,  0.6706],\n",
       "│                    [-0.9574, -2.1367,  0.5555]]])\n",
       "└── 'x' --> <FastTreeValue 0x7f02e0ce9400>\n",
       "    └── 'c' --> tensor([[[-0.0185,  0.1023, -0.2857,  0.6214],\n",
       "                         [ 0.4965, -0.6195, -0.7838, -0.4765],\n",
       "                         [-1.2410, -1.4649, -0.2316, -1.2231]],\n",
       "                \n",
       "                        [[-0.0185,  0.1023, -0.2857,  0.6214],\n",
       "                         [ 0.4965, -0.6195, -0.7838, -0.4765],\n",
       "                         [-1.2410, -1.4649, -0.2316, -1.2231]],\n",
       "                \n",
       "                        [[-0.0185,  0.1023, -0.2857,  0.6214],\n",
       "                         [ 0.4965, -0.6195, -0.7838, -0.4765],\n",
       "                         [-1.2410, -1.4649, -0.2316, -1.2231]],\n",
       "                \n",
       "                        [[-0.0185,  0.1023, -0.2857,  0.6214],\n",
       "                         [ 0.4965, -0.6195, -0.7838, -0.4765],\n",
       "                         [-1.2410, -1.4649, -0.2316, -1.2231]],\n",
       "                \n",
       "                        [[-0.0185,  0.1023, -0.2857,  0.6214],\n",
       "                         [ 0.4965, -0.6195, -0.7838, -0.4765],\n",
       "                         [-1.2410, -1.4649, -0.2316, -1.2231]],\n",
       "                \n",
       "                        [[-0.0185,  0.1023, -0.2857,  0.6214],\n",
       "                         [ 0.4965, -0.6195, -0.7838, -0.4765],\n",
       "                         [-1.2410, -1.4649, -0.2316, -1.2231]],\n",
       "                \n",
       "                        [[-0.0185,  0.1023, -0.2857,  0.6214],\n",
       "                         [ 0.4965, -0.6195, -0.7838, -0.4765],\n",
       "                         [-1.2410, -1.4649, -0.2316, -1.2231]],\n",
       "                \n",
       "                        [[-0.0185,  0.1023, -0.2857,  0.6214],\n",
       "                         [ 0.4965, -0.6195, -0.7838, -0.4765],\n",
       "                         [-1.2410, -1.4649, -0.2316, -1.2231]]])"
      ]
     },
     "execution_count": 20,
     "metadata": {},
     "output_type": "execute_result"
    }
   ],
   "source": [
    "t_stack = FastTreeValue.func(subside=True)(torch.stack)\n",
    "\n",
    "t_stack(trees)"
   ]
  },
  {
   "cell_type": "code",
   "execution_count": 21,
   "id": "f8b3f415",
   "metadata": {
    "execution": {
     "iopub.execute_input": "2023-04-16T14:44:58.553036Z",
     "iopub.status.busy": "2023-04-16T14:44:58.552832Z",
     "iopub.status.idle": "2023-04-16T14:45:01.289667Z",
     "shell.execute_reply": "2023-04-16T14:45:01.288951Z"
    }
   },
   "outputs": [
    {
     "name": "stdout",
     "output_type": "stream",
     "text": [
      "33.7 µs ± 25.6 ns per loop (mean ± std. dev. of 7 runs, 10,000 loops each)\n"
     ]
    }
   ],
   "source": [
    "%timeit t_stack(trees)"
   ]
  },
  {
   "cell_type": "code",
   "execution_count": 22,
   "id": "94b56771",
   "metadata": {
    "execution": {
     "iopub.execute_input": "2023-04-16T14:45:01.292786Z",
     "iopub.status.busy": "2023-04-16T14:45:01.292430Z",
     "iopub.status.idle": "2023-04-16T14:45:01.299696Z",
     "shell.execute_reply": "2023-04-16T14:45:01.299062Z"
    }
   },
   "outputs": [
    {
     "data": {
      "text/plain": [
       "<FastTreeValue 0x7f02084b0f40>\n",
       "├── 'a' --> tensor([[ 0.0611,  0.3375,  0.6706],\n",
       "│                   [-0.9574, -2.1367,  0.5555],\n",
       "│                   [ 0.0611,  0.3375,  0.6706],\n",
       "│                   [-0.9574, -2.1367,  0.5555],\n",
       "│                   [ 0.0611,  0.3375,  0.6706],\n",
       "│                   [-0.9574, -2.1367,  0.5555],\n",
       "│                   [ 0.0611,  0.3375,  0.6706],\n",
       "│                   [-0.9574, -2.1367,  0.5555],\n",
       "│                   [ 0.0611,  0.3375,  0.6706],\n",
       "│                   [-0.9574, -2.1367,  0.5555],\n",
       "│                   [ 0.0611,  0.3375,  0.6706],\n",
       "│                   [-0.9574, -2.1367,  0.5555],\n",
       "│                   [ 0.0611,  0.3375,  0.6706],\n",
       "│                   [-0.9574, -2.1367,  0.5555],\n",
       "│                   [ 0.0611,  0.3375,  0.6706],\n",
       "│                   [-0.9574, -2.1367,  0.5555]])\n",
       "└── 'x' --> <FastTreeValue 0x7f02084f89d0>\n",
       "    └── 'c' --> tensor([[-0.0185,  0.1023, -0.2857,  0.6214],\n",
       "                        [ 0.4965, -0.6195, -0.7838, -0.4765],\n",
       "                        [-1.2410, -1.4649, -0.2316, -1.2231],\n",
       "                        [-0.0185,  0.1023, -0.2857,  0.6214],\n",
       "                        [ 0.4965, -0.6195, -0.7838, -0.4765],\n",
       "                        [-1.2410, -1.4649, -0.2316, -1.2231],\n",
       "                        [-0.0185,  0.1023, -0.2857,  0.6214],\n",
       "                        [ 0.4965, -0.6195, -0.7838, -0.4765],\n",
       "                        [-1.2410, -1.4649, -0.2316, -1.2231],\n",
       "                        [-0.0185,  0.1023, -0.2857,  0.6214],\n",
       "                        [ 0.4965, -0.6195, -0.7838, -0.4765],\n",
       "                        [-1.2410, -1.4649, -0.2316, -1.2231],\n",
       "                        [-0.0185,  0.1023, -0.2857,  0.6214],\n",
       "                        [ 0.4965, -0.6195, -0.7838, -0.4765],\n",
       "                        [-1.2410, -1.4649, -0.2316, -1.2231],\n",
       "                        [-0.0185,  0.1023, -0.2857,  0.6214],\n",
       "                        [ 0.4965, -0.6195, -0.7838, -0.4765],\n",
       "                        [-1.2410, -1.4649, -0.2316, -1.2231],\n",
       "                        [-0.0185,  0.1023, -0.2857,  0.6214],\n",
       "                        [ 0.4965, -0.6195, -0.7838, -0.4765],\n",
       "                        [-1.2410, -1.4649, -0.2316, -1.2231],\n",
       "                        [-0.0185,  0.1023, -0.2857,  0.6214],\n",
       "                        [ 0.4965, -0.6195, -0.7838, -0.4765],\n",
       "                        [-1.2410, -1.4649, -0.2316, -1.2231]])"
      ]
     },
     "execution_count": 22,
     "metadata": {},
     "output_type": "execute_result"
    }
   ],
   "source": [
    "t_cat = FastTreeValue.func(subside=True)(torch.cat)\n",
    "\n",
    "t_cat(trees)"
   ]
  },
  {
   "cell_type": "code",
   "execution_count": 23,
   "id": "5e9c06a6",
   "metadata": {
    "execution": {
     "iopub.execute_input": "2023-04-16T14:45:01.302738Z",
     "iopub.status.busy": "2023-04-16T14:45:01.302523Z",
     "iopub.status.idle": "2023-04-16T14:45:03.848135Z",
     "shell.execute_reply": "2023-04-16T14:45:03.847582Z"
    }
   },
   "outputs": [
    {
     "name": "stdout",
     "output_type": "stream",
     "text": [
      "31.3 µs ± 35.4 ns per loop (mean ± std. dev. of 7 runs, 10,000 loops each)\n"
     ]
    }
   ],
   "source": [
    "%timeit t_cat(trees)"
   ]
  },
  {
   "cell_type": "code",
   "execution_count": 24,
   "id": "a3ab5c8f",
   "metadata": {
    "execution": {
     "iopub.execute_input": "2023-04-16T14:45:03.851029Z",
     "iopub.status.busy": "2023-04-16T14:45:03.850812Z",
     "iopub.status.idle": "2023-04-16T14:45:09.331369Z",
     "shell.execute_reply": "2023-04-16T14:45:09.330623Z"
    }
   },
   "outputs": [
    {
     "name": "stdout",
     "output_type": "stream",
     "text": [
      "67.4 µs ± 108 ns per loop (mean ± std. dev. of 7 runs, 10,000 loops each)\n"
     ]
    }
   ],
   "source": [
    "t_split = FastTreeValue.func(rise=True)(torch.split)\n",
    "tree = FastTreeValue({\n",
    "    'obs': torch.randn(8, 4, 84, 84),\n",
    "    'action': torch.randint(0, 6, size=(8, 1,)),\n",
    "    'reward': torch.rand(8, 1),\n",
    "})\n",
    "\n",
    "%timeit t_split(tree, 1)"
   ]
  },
  {
   "cell_type": "markdown",
   "id": "31c3ec0b",
   "metadata": {},
   "source": [
    "### Performance of Tianshou Batch"
   ]
  },
  {
   "cell_type": "code",
   "execution_count": 25,
   "id": "9ead828a",
   "metadata": {
    "execution": {
     "iopub.execute_input": "2023-04-16T14:45:09.334537Z",
     "iopub.status.busy": "2023-04-16T14:45:09.334181Z",
     "iopub.status.idle": "2023-04-16T14:45:09.341565Z",
     "shell.execute_reply": "2023-04-16T14:45:09.340913Z"
    }
   },
   "outputs": [
    {
     "data": {
      "text/plain": [
       "Batch(\n",
       "    a: tensor([[[ 0.0611,  0.3375,  0.6706],\n",
       "                [-0.9574, -2.1367,  0.5555]],\n",
       "       \n",
       "               [[ 0.0611,  0.3375,  0.6706],\n",
       "                [-0.9574, -2.1367,  0.5555]],\n",
       "       \n",
       "               [[ 0.0611,  0.3375,  0.6706],\n",
       "                [-0.9574, -2.1367,  0.5555]],\n",
       "       \n",
       "               [[ 0.0611,  0.3375,  0.6706],\n",
       "                [-0.9574, -2.1367,  0.5555]],\n",
       "       \n",
       "               [[ 0.0611,  0.3375,  0.6706],\n",
       "                [-0.9574, -2.1367,  0.5555]],\n",
       "       \n",
       "               [[ 0.0611,  0.3375,  0.6706],\n",
       "                [-0.9574, -2.1367,  0.5555]],\n",
       "       \n",
       "               [[ 0.0611,  0.3375,  0.6706],\n",
       "                [-0.9574, -2.1367,  0.5555]],\n",
       "       \n",
       "               [[ 0.0611,  0.3375,  0.6706],\n",
       "                [-0.9574, -2.1367,  0.5555]]]),\n",
       "    x: Batch(\n",
       "           c: tensor([[[-0.0185,  0.1023, -0.2857,  0.6214],\n",
       "                       [ 0.4965, -0.6195, -0.7838, -0.4765],\n",
       "                       [-1.2410, -1.4649, -0.2316, -1.2231]],\n",
       "              \n",
       "                      [[-0.0185,  0.1023, -0.2857,  0.6214],\n",
       "                       [ 0.4965, -0.6195, -0.7838, -0.4765],\n",
       "                       [-1.2410, -1.4649, -0.2316, -1.2231]],\n",
       "              \n",
       "                      [[-0.0185,  0.1023, -0.2857,  0.6214],\n",
       "                       [ 0.4965, -0.6195, -0.7838, -0.4765],\n",
       "                       [-1.2410, -1.4649, -0.2316, -1.2231]],\n",
       "              \n",
       "                      [[-0.0185,  0.1023, -0.2857,  0.6214],\n",
       "                       [ 0.4965, -0.6195, -0.7838, -0.4765],\n",
       "                       [-1.2410, -1.4649, -0.2316, -1.2231]],\n",
       "              \n",
       "                      [[-0.0185,  0.1023, -0.2857,  0.6214],\n",
       "                       [ 0.4965, -0.6195, -0.7838, -0.4765],\n",
       "                       [-1.2410, -1.4649, -0.2316, -1.2231]],\n",
       "              \n",
       "                      [[-0.0185,  0.1023, -0.2857,  0.6214],\n",
       "                       [ 0.4965, -0.6195, -0.7838, -0.4765],\n",
       "                       [-1.2410, -1.4649, -0.2316, -1.2231]],\n",
       "              \n",
       "                      [[-0.0185,  0.1023, -0.2857,  0.6214],\n",
       "                       [ 0.4965, -0.6195, -0.7838, -0.4765],\n",
       "                       [-1.2410, -1.4649, -0.2316, -1.2231]],\n",
       "              \n",
       "                      [[-0.0185,  0.1023, -0.2857,  0.6214],\n",
       "                       [ 0.4965, -0.6195, -0.7838, -0.4765],\n",
       "                       [-1.2410, -1.4649, -0.2316, -1.2231]]]),\n",
       "       ),\n",
       ")"
      ]
     },
     "execution_count": 25,
     "metadata": {},
     "output_type": "execute_result"
    }
   ],
   "source": [
    "batches = [Batch(**_TREE_DATA_2) for _ in range(8)]\n",
    "\n",
    "Batch.stack(batches)"
   ]
  },
  {
   "cell_type": "code",
   "execution_count": 26,
   "id": "ec9037a3",
   "metadata": {
    "execution": {
     "iopub.execute_input": "2023-04-16T14:45:09.344278Z",
     "iopub.status.busy": "2023-04-16T14:45:09.343936Z",
     "iopub.status.idle": "2023-04-16T14:45:15.810652Z",
     "shell.execute_reply": "2023-04-16T14:45:15.809910Z"
    }
   },
   "outputs": [
    {
     "name": "stdout",
     "output_type": "stream",
     "text": [
      "79.7 µs ± 133 ns per loop (mean ± std. dev. of 7 runs, 10,000 loops each)\n"
     ]
    }
   ],
   "source": [
    "%timeit Batch.stack(batches)"
   ]
  },
  {
   "cell_type": "code",
   "execution_count": 27,
   "id": "cb8ab77e",
   "metadata": {
    "execution": {
     "iopub.execute_input": "2023-04-16T14:45:15.813681Z",
     "iopub.status.busy": "2023-04-16T14:45:15.813323Z",
     "iopub.status.idle": "2023-04-16T14:45:15.820211Z",
     "shell.execute_reply": "2023-04-16T14:45:15.819576Z"
    }
   },
   "outputs": [
    {
     "data": {
      "text/plain": [
       "Batch(\n",
       "    a: tensor([[ 0.0611,  0.3375,  0.6706],\n",
       "               [-0.9574, -2.1367,  0.5555],\n",
       "               [ 0.0611,  0.3375,  0.6706],\n",
       "               [-0.9574, -2.1367,  0.5555],\n",
       "               [ 0.0611,  0.3375,  0.6706],\n",
       "               [-0.9574, -2.1367,  0.5555],\n",
       "               [ 0.0611,  0.3375,  0.6706],\n",
       "               [-0.9574, -2.1367,  0.5555],\n",
       "               [ 0.0611,  0.3375,  0.6706],\n",
       "               [-0.9574, -2.1367,  0.5555],\n",
       "               [ 0.0611,  0.3375,  0.6706],\n",
       "               [-0.9574, -2.1367,  0.5555],\n",
       "               [ 0.0611,  0.3375,  0.6706],\n",
       "               [-0.9574, -2.1367,  0.5555],\n",
       "               [ 0.0611,  0.3375,  0.6706],\n",
       "               [-0.9574, -2.1367,  0.5555]]),\n",
       "    x: Batch(\n",
       "           c: tensor([[-0.0185,  0.1023, -0.2857,  0.6214],\n",
       "                      [ 0.4965, -0.6195, -0.7838, -0.4765],\n",
       "                      [-1.2410, -1.4649, -0.2316, -1.2231],\n",
       "                      [-0.0185,  0.1023, -0.2857,  0.6214],\n",
       "                      [ 0.4965, -0.6195, -0.7838, -0.4765],\n",
       "                      [-1.2410, -1.4649, -0.2316, -1.2231],\n",
       "                      [-0.0185,  0.1023, -0.2857,  0.6214],\n",
       "                      [ 0.4965, -0.6195, -0.7838, -0.4765],\n",
       "                      [-1.2410, -1.4649, -0.2316, -1.2231],\n",
       "                      [-0.0185,  0.1023, -0.2857,  0.6214],\n",
       "                      [ 0.4965, -0.6195, -0.7838, -0.4765],\n",
       "                      [-1.2410, -1.4649, -0.2316, -1.2231],\n",
       "                      [-0.0185,  0.1023, -0.2857,  0.6214],\n",
       "                      [ 0.4965, -0.6195, -0.7838, -0.4765],\n",
       "                      [-1.2410, -1.4649, -0.2316, -1.2231],\n",
       "                      [-0.0185,  0.1023, -0.2857,  0.6214],\n",
       "                      [ 0.4965, -0.6195, -0.7838, -0.4765],\n",
       "                      [-1.2410, -1.4649, -0.2316, -1.2231],\n",
       "                      [-0.0185,  0.1023, -0.2857,  0.6214],\n",
       "                      [ 0.4965, -0.6195, -0.7838, -0.4765],\n",
       "                      [-1.2410, -1.4649, -0.2316, -1.2231],\n",
       "                      [-0.0185,  0.1023, -0.2857,  0.6214],\n",
       "                      [ 0.4965, -0.6195, -0.7838, -0.4765],\n",
       "                      [-1.2410, -1.4649, -0.2316, -1.2231]]),\n",
       "       ),\n",
       ")"
      ]
     },
     "execution_count": 27,
     "metadata": {},
     "output_type": "execute_result"
    }
   ],
   "source": [
    "Batch.cat(batches)"
   ]
  },
  {
   "cell_type": "code",
   "execution_count": 28,
   "id": "18dfb045",
   "metadata": {
    "execution": {
     "iopub.execute_input": "2023-04-16T14:45:15.822848Z",
     "iopub.status.busy": "2023-04-16T14:45:15.822512Z",
     "iopub.status.idle": "2023-04-16T14:45:27.734434Z",
     "shell.execute_reply": "2023-04-16T14:45:27.733862Z"
    }
   },
   "outputs": [
    {
     "name": "stdout",
     "output_type": "stream",
     "text": [
      "147 µs ± 369 ns per loop (mean ± std. dev. of 7 runs, 10,000 loops each)\n"
     ]
    }
   ],
   "source": [
    "%timeit Batch.cat(batches)"
   ]
  },
  {
   "cell_type": "code",
   "execution_count": 29,
   "id": "c6688e51",
   "metadata": {
    "execution": {
     "iopub.execute_input": "2023-04-16T14:45:27.738011Z",
     "iopub.status.busy": "2023-04-16T14:45:27.737498Z",
     "iopub.status.idle": "2023-04-16T14:45:30.396293Z",
     "shell.execute_reply": "2023-04-16T14:45:30.395249Z"
    }
   },
   "outputs": [
    {
     "name": "stdout",
     "output_type": "stream",
     "text": [
      "327 µs ± 3.81 µs per loop (mean ± std. dev. of 7 runs, 1,000 loops each)\n"
     ]
    }
   ],
   "source": [
    "batch = Batch({\n",
    "    'obs': torch.randn(8, 4, 84, 84),\n",
    "    'action': torch.randint(0, 6, size=(8, 1,)),\n",
    "    'reward': torch.rand(8, 1)}\n",
    ")\n",
    "\n",
    "%timeit list(Batch.split(batch, 1, shuffle=False, merge_last=True))"
   ]
  },
  {
   "cell_type": "code",
   "execution_count": null,
   "id": "2539fbd9",
   "metadata": {},
   "outputs": [],
   "source": []
  }
 ],
 "metadata": {
  "kernelspec": {
   "display_name": "Python 3 (ipykernel)",
   "language": "python",
   "name": "python3"
  },
  "language_info": {
   "codemirror_mode": {
    "name": "ipython",
    "version": 3
   },
   "file_extension": ".py",
   "mimetype": "text/x-python",
   "name": "python",
   "nbconvert_exporter": "python",
   "pygments_lexer": "ipython3",
   "version": "3.8.16"
  }
 },
 "nbformat": 4,
 "nbformat_minor": 5
}
