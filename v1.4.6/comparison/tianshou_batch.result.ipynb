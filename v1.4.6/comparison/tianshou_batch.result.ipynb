{
 "cells": [
  {
   "cell_type": "markdown",
   "id": "9d39d946",
   "metadata": {},
   "source": [
    "# Comparison Between TreeValue and Tianshou Batch"
   ]
  },
  {
   "cell_type": "markdown",
   "id": "3c6db2d4",
   "metadata": {},
   "source": [
    "In this section, we will take a look at the feature and performance of the [Tianshou Batch](https://github.com/thu-ml/tianshou) library, which is developed by Tsinghua Machine Learning Group."
   ]
  },
  {
   "cell_type": "markdown",
   "id": "069361b0",
   "metadata": {},
   "source": [
    "Before starting the comparison, let us define some thing."
   ]
  },
  {
   "cell_type": "code",
   "execution_count": 1,
   "id": "06fc8d26",
   "metadata": {
    "execution": {
     "iopub.execute_input": "2023-02-26T15:45:11.167572Z",
     "iopub.status.busy": "2023-02-26T15:45:11.167351Z",
     "iopub.status.idle": "2023-02-26T15:45:12.074894Z",
     "shell.execute_reply": "2023-02-26T15:45:12.074218Z"
    }
   },
   "outputs": [
    {
     "name": "stderr",
     "output_type": "stream",
     "text": [
      "/opt/hostedtoolcache/Python/3.8.16/x64/lib/python3.8/site-packages/tqdm/auto.py:22: TqdmWarning: IProgress not found. Please update jupyter and ipywidgets. See https://ipywidgets.readthedocs.io/en/stable/user_install.html\n",
      "  from .autonotebook import tqdm as notebook_tqdm\n"
     ]
    }
   ],
   "source": [
    "import torch \n",
    "\n",
    "_TREE_DATA_1 = {'a': 1, 'b': 2, 'x': {'c': 3, 'd': 4}}\n",
    "_TREE_DATA_2 = {\n",
    "    'a': torch.randn(2, 3), \n",
    "    'x': {\n",
    "        'c': torch.randn(3, 4)\n",
    "    },\n",
    "}\n",
    "_TREE_DATA_3 = {\n",
    "    'obs': torch.randn(4, 84, 84),\n",
    "    'action': torch.randint(0, 6, size=(1,)),\n",
    "    'reward': torch.rand(1),\n",
    "}"
   ]
  },
  {
   "cell_type": "markdown",
   "id": "83461b25",
   "metadata": {},
   "source": [
    "## Read and Write Operation"
   ]
  },
  {
   "cell_type": "markdown",
   "id": "067b3f73",
   "metadata": {},
   "source": [
    "Reading and writing are the two most common operations in the tree data structure based on the data model (TreeValue and Tianshou Batch both belong to this type), so this section will compare the reading and writing performance of these two libraries."
   ]
  },
  {
   "cell_type": "markdown",
   "id": "5d09a5b7",
   "metadata": {},
   "source": [
    "### TreeValue's Get and Set"
   ]
  },
  {
   "cell_type": "code",
   "execution_count": 2,
   "id": "9519c4bb",
   "metadata": {
    "execution": {
     "iopub.execute_input": "2023-02-26T15:45:12.078359Z",
     "iopub.status.busy": "2023-02-26T15:45:12.077720Z",
     "iopub.status.idle": "2023-02-26T15:45:12.378752Z",
     "shell.execute_reply": "2023-02-26T15:45:12.377857Z"
    }
   },
   "outputs": [],
   "source": [
    "from treevalue import FastTreeValue\n",
    "\n",
    "t = FastTreeValue(_TREE_DATA_2)"
   ]
  },
  {
   "cell_type": "code",
   "execution_count": 3,
   "id": "11c37677",
   "metadata": {
    "execution": {
     "iopub.execute_input": "2023-02-26T15:45:12.383895Z",
     "iopub.status.busy": "2023-02-26T15:45:12.382976Z",
     "iopub.status.idle": "2023-02-26T15:45:12.398021Z",
     "shell.execute_reply": "2023-02-26T15:45:12.397124Z"
    }
   },
   "outputs": [
    {
     "data": {
      "text/plain": [
       "<FastTreeValue 0x7fcb68cda9d0>\n",
       "├── 'a' --> tensor([[-1.1359, -1.6183,  0.6523],\n",
       "│                   [-0.3067,  0.4747,  2.1281]])\n",
       "└── 'x' --> <FastTreeValue 0x7fcb68cdac70>\n",
       "    └── 'c' --> tensor([[ 1.1237,  0.3441,  0.3296,  0.2967],\n",
       "                        [-0.1333,  1.4504,  0.1709,  0.1092],\n",
       "                        [-0.2046, -0.7908, -1.4531,  0.1742]])"
      ]
     },
     "execution_count": 3,
     "metadata": {},
     "output_type": "execute_result"
    }
   ],
   "source": [
    "t"
   ]
  },
  {
   "cell_type": "code",
   "execution_count": 4,
   "id": "fd70b0b9",
   "metadata": {
    "execution": {
     "iopub.execute_input": "2023-02-26T15:45:12.402819Z",
     "iopub.status.busy": "2023-02-26T15:45:12.402049Z",
     "iopub.status.idle": "2023-02-26T15:45:12.408234Z",
     "shell.execute_reply": "2023-02-26T15:45:12.407605Z"
    }
   },
   "outputs": [
    {
     "data": {
      "text/plain": [
       "tensor([[-1.1359, -1.6183,  0.6523],\n",
       "        [-0.3067,  0.4747,  2.1281]])"
      ]
     },
     "execution_count": 4,
     "metadata": {},
     "output_type": "execute_result"
    }
   ],
   "source": [
    "t.a"
   ]
  },
  {
   "cell_type": "code",
   "execution_count": 5,
   "id": "c18197bd",
   "metadata": {
    "execution": {
     "iopub.execute_input": "2023-02-26T15:45:12.411154Z",
     "iopub.status.busy": "2023-02-26T15:45:12.410822Z",
     "iopub.status.idle": "2023-02-26T15:45:17.302227Z",
     "shell.execute_reply": "2023-02-26T15:45:17.301461Z"
    }
   },
   "outputs": [
    {
     "name": "stdout",
     "output_type": "stream",
     "text": [
      "60.2 ns ± 0.0664 ns per loop (mean ± std. dev. of 7 runs, 10,000,000 loops each)\n"
     ]
    }
   ],
   "source": [
    "%timeit t.a"
   ]
  },
  {
   "cell_type": "code",
   "execution_count": 6,
   "id": "bd52f867",
   "metadata": {
    "execution": {
     "iopub.execute_input": "2023-02-26T15:45:17.304994Z",
     "iopub.status.busy": "2023-02-26T15:45:17.304651Z",
     "iopub.status.idle": "2023-02-26T15:45:17.311289Z",
     "shell.execute_reply": "2023-02-26T15:45:17.310686Z"
    }
   },
   "outputs": [
    {
     "data": {
      "text/plain": [
       "<FastTreeValue 0x7fcb68cda9d0>\n",
       "├── 'a' --> tensor([[ 0.3623, -0.9445, -1.2747],\n",
       "│                   [ 1.6428, -0.5569,  0.1611]])\n",
       "└── 'x' --> <FastTreeValue 0x7fcb68cdac70>\n",
       "    └── 'c' --> tensor([[ 1.1237,  0.3441,  0.3296,  0.2967],\n",
       "                        [-0.1333,  1.4504,  0.1709,  0.1092],\n",
       "                        [-0.2046, -0.7908, -1.4531,  0.1742]])"
      ]
     },
     "execution_count": 6,
     "metadata": {},
     "output_type": "execute_result"
    }
   ],
   "source": [
    "new_value = torch.randn(2, 3)\n",
    "t.a = new_value\n",
    "\n",
    "t"
   ]
  },
  {
   "cell_type": "code",
   "execution_count": 7,
   "id": "bbe04d1c",
   "metadata": {
    "execution": {
     "iopub.execute_input": "2023-02-26T15:45:17.313660Z",
     "iopub.status.busy": "2023-02-26T15:45:17.313317Z",
     "iopub.status.idle": "2023-02-26T15:45:22.406456Z",
     "shell.execute_reply": "2023-02-26T15:45:22.405736Z"
    }
   },
   "outputs": [
    {
     "name": "stdout",
     "output_type": "stream",
     "text": [
      "62.7 ns ± 0.02 ns per loop (mean ± std. dev. of 7 runs, 10,000,000 loops each)\n"
     ]
    }
   ],
   "source": [
    "%timeit t.a = new_value"
   ]
  },
  {
   "cell_type": "markdown",
   "id": "48c49731",
   "metadata": {},
   "source": [
    "### Tianshou Batch's Get and Set"
   ]
  },
  {
   "cell_type": "code",
   "execution_count": 8,
   "id": "f1bb14c1",
   "metadata": {
    "execution": {
     "iopub.execute_input": "2023-02-26T15:45:22.409730Z",
     "iopub.status.busy": "2023-02-26T15:45:22.409194Z",
     "iopub.status.idle": "2023-02-26T15:45:22.740775Z",
     "shell.execute_reply": "2023-02-26T15:45:22.740090Z"
    }
   },
   "outputs": [],
   "source": [
    "from tianshou.data import Batch\n",
    "\n",
    "b = Batch(**_TREE_DATA_2)"
   ]
  },
  {
   "cell_type": "code",
   "execution_count": 9,
   "id": "cb0777c3",
   "metadata": {
    "execution": {
     "iopub.execute_input": "2023-02-26T15:45:22.744299Z",
     "iopub.status.busy": "2023-02-26T15:45:22.743641Z",
     "iopub.status.idle": "2023-02-26T15:45:22.749106Z",
     "shell.execute_reply": "2023-02-26T15:45:22.748455Z"
    }
   },
   "outputs": [
    {
     "data": {
      "text/plain": [
       "Batch(\n",
       "    a: tensor([[-1.1359, -1.6183,  0.6523],\n",
       "               [-0.3067,  0.4747,  2.1281]]),\n",
       "    x: Batch(\n",
       "           c: tensor([[ 1.1237,  0.3441,  0.3296,  0.2967],\n",
       "                      [-0.1333,  1.4504,  0.1709,  0.1092],\n",
       "                      [-0.2046, -0.7908, -1.4531,  0.1742]]),\n",
       "       ),\n",
       ")"
      ]
     },
     "execution_count": 9,
     "metadata": {},
     "output_type": "execute_result"
    }
   ],
   "source": [
    "b"
   ]
  },
  {
   "cell_type": "code",
   "execution_count": 10,
   "id": "43ef8ea3",
   "metadata": {
    "execution": {
     "iopub.execute_input": "2023-02-26T15:45:22.751800Z",
     "iopub.status.busy": "2023-02-26T15:45:22.751200Z",
     "iopub.status.idle": "2023-02-26T15:45:22.755838Z",
     "shell.execute_reply": "2023-02-26T15:45:22.755219Z"
    }
   },
   "outputs": [
    {
     "data": {
      "text/plain": [
       "tensor([[-1.1359, -1.6183,  0.6523],\n",
       "        [-0.3067,  0.4747,  2.1281]])"
      ]
     },
     "execution_count": 10,
     "metadata": {},
     "output_type": "execute_result"
    }
   ],
   "source": [
    "b.a"
   ]
  },
  {
   "cell_type": "code",
   "execution_count": 11,
   "id": "b785ab72",
   "metadata": {
    "execution": {
     "iopub.execute_input": "2023-02-26T15:45:22.758558Z",
     "iopub.status.busy": "2023-02-26T15:45:22.758221Z",
     "iopub.status.idle": "2023-02-26T15:45:27.133628Z",
     "shell.execute_reply": "2023-02-26T15:45:27.132941Z"
    }
   },
   "outputs": [
    {
     "name": "stdout",
     "output_type": "stream",
     "text": [
      "54 ns ± 0.0727 ns per loop (mean ± std. dev. of 7 runs, 10,000,000 loops each)\n"
     ]
    }
   ],
   "source": [
    "%timeit b.a"
   ]
  },
  {
   "cell_type": "code",
   "execution_count": 12,
   "id": "ad54dc69",
   "metadata": {
    "execution": {
     "iopub.execute_input": "2023-02-26T15:45:27.136873Z",
     "iopub.status.busy": "2023-02-26T15:45:27.136336Z",
     "iopub.status.idle": "2023-02-26T15:45:27.142741Z",
     "shell.execute_reply": "2023-02-26T15:45:27.142145Z"
    }
   },
   "outputs": [
    {
     "data": {
      "text/plain": [
       "Batch(\n",
       "    a: tensor([[ 1.0520,  0.9907, -0.8478],\n",
       "               [-0.8270,  0.7219,  1.0576]]),\n",
       "    x: Batch(\n",
       "           c: tensor([[ 1.1237,  0.3441,  0.3296,  0.2967],\n",
       "                      [-0.1333,  1.4504,  0.1709,  0.1092],\n",
       "                      [-0.2046, -0.7908, -1.4531,  0.1742]]),\n",
       "       ),\n",
       ")"
      ]
     },
     "execution_count": 12,
     "metadata": {},
     "output_type": "execute_result"
    }
   ],
   "source": [
    "new_value = torch.randn(2, 3)\n",
    "b.a = new_value\n",
    "\n",
    "b"
   ]
  },
  {
   "cell_type": "code",
   "execution_count": 13,
   "id": "29b1d0bf",
   "metadata": {
    "execution": {
     "iopub.execute_input": "2023-02-26T15:45:27.145217Z",
     "iopub.status.busy": "2023-02-26T15:45:27.144903Z",
     "iopub.status.idle": "2023-02-26T15:45:31.121366Z",
     "shell.execute_reply": "2023-02-26T15:45:31.120647Z"
    }
   },
   "outputs": [
    {
     "name": "stdout",
     "output_type": "stream",
     "text": [
      "490 ns ± 0.145 ns per loop (mean ± std. dev. of 7 runs, 1,000,000 loops each)\n"
     ]
    }
   ],
   "source": [
    "%timeit b.a = new_value"
   ]
  },
  {
   "cell_type": "markdown",
   "id": "b61ad1d0",
   "metadata": {},
   "source": [
    "## Initialization"
   ]
  },
  {
   "cell_type": "markdown",
   "id": "d70f0d54",
   "metadata": {},
   "source": [
    "### TreeValue's Initialization"
   ]
  },
  {
   "cell_type": "code",
   "execution_count": 14,
   "id": "d32a679b",
   "metadata": {
    "execution": {
     "iopub.execute_input": "2023-02-26T15:45:31.124759Z",
     "iopub.status.busy": "2023-02-26T15:45:31.124192Z",
     "iopub.status.idle": "2023-02-26T15:45:37.899849Z",
     "shell.execute_reply": "2023-02-26T15:45:37.899129Z"
    }
   },
   "outputs": [
    {
     "name": "stdout",
     "output_type": "stream",
     "text": [
      "835 ns ± 0.149 ns per loop (mean ± std. dev. of 7 runs, 1,000,000 loops each)\n"
     ]
    }
   ],
   "source": [
    "%timeit FastTreeValue(_TREE_DATA_1)"
   ]
  },
  {
   "cell_type": "markdown",
   "id": "24f3707b",
   "metadata": {},
   "source": [
    "### Tianshou Batch's Initialization"
   ]
  },
  {
   "cell_type": "code",
   "execution_count": 15,
   "id": "ac3958df",
   "metadata": {
    "execution": {
     "iopub.execute_input": "2023-02-26T15:45:37.902900Z",
     "iopub.status.busy": "2023-02-26T15:45:37.902338Z",
     "iopub.status.idle": "2023-02-26T15:45:47.148016Z",
     "shell.execute_reply": "2023-02-26T15:45:47.147274Z"
    }
   },
   "outputs": [
    {
     "name": "stdout",
     "output_type": "stream",
     "text": [
      "11.4 µs ± 21.3 ns per loop (mean ± std. dev. of 7 runs, 100,000 loops each)\n"
     ]
    }
   ],
   "source": [
    "%timeit Batch(**_TREE_DATA_1)"
   ]
  },
  {
   "cell_type": "markdown",
   "id": "1ab82e2d",
   "metadata": {},
   "source": [
    "## Deep Copy Operation"
   ]
  },
  {
   "cell_type": "code",
   "execution_count": 16,
   "id": "210a9442",
   "metadata": {
    "execution": {
     "iopub.execute_input": "2023-02-26T15:45:47.151163Z",
     "iopub.status.busy": "2023-02-26T15:45:47.150805Z",
     "iopub.status.idle": "2023-02-26T15:45:47.154719Z",
     "shell.execute_reply": "2023-02-26T15:45:47.154141Z"
    }
   },
   "outputs": [],
   "source": [
    "import copy"
   ]
  },
  {
   "cell_type": "markdown",
   "id": "5a736274",
   "metadata": {},
   "source": [
    "### Deep Copy of TreeValue"
   ]
  },
  {
   "cell_type": "code",
   "execution_count": 17,
   "id": "f9bcadd6",
   "metadata": {
    "execution": {
     "iopub.execute_input": "2023-02-26T15:45:47.157544Z",
     "iopub.status.busy": "2023-02-26T15:45:47.157088Z",
     "iopub.status.idle": "2023-02-26T15:45:58.417150Z",
     "shell.execute_reply": "2023-02-26T15:45:58.416545Z"
    }
   },
   "outputs": [
    {
     "name": "stdout",
     "output_type": "stream",
     "text": [
      "139 µs ± 548 ns per loop (mean ± std. dev. of 7 runs, 10,000 loops each)\n"
     ]
    }
   ],
   "source": [
    "t3 = FastTreeValue(_TREE_DATA_3)\n",
    "%timeit copy.deepcopy(t3)"
   ]
  },
  {
   "cell_type": "markdown",
   "id": "bf8be7ea",
   "metadata": {},
   "source": [
    "### Deep Copy of Tianshou Batch"
   ]
  },
  {
   "cell_type": "code",
   "execution_count": 18,
   "id": "91998e6f",
   "metadata": {
    "execution": {
     "iopub.execute_input": "2023-02-26T15:45:58.420550Z",
     "iopub.status.busy": "2023-02-26T15:45:58.420052Z",
     "iopub.status.idle": "2023-02-26T15:46:09.652742Z",
     "shell.execute_reply": "2023-02-26T15:46:09.652128Z"
    }
   },
   "outputs": [
    {
     "name": "stdout",
     "output_type": "stream",
     "text": [
      "138 µs ± 976 ns per loop (mean ± std. dev. of 7 runs, 10,000 loops each)\n"
     ]
    }
   ],
   "source": [
    "b3 = Batch(**_TREE_DATA_3)\n",
    "%timeit copy.deepcopy(b3)"
   ]
  },
  {
   "cell_type": "markdown",
   "id": "223162fb",
   "metadata": {},
   "source": [
    "## Stack, Concat and Split Operation"
   ]
  },
  {
   "cell_type": "markdown",
   "id": "85fa4a73",
   "metadata": {},
   "source": [
    "### Performance of TreeValue"
   ]
  },
  {
   "cell_type": "code",
   "execution_count": 19,
   "id": "a0c2b697",
   "metadata": {
    "execution": {
     "iopub.execute_input": "2023-02-26T15:46:09.655881Z",
     "iopub.status.busy": "2023-02-26T15:46:09.655646Z",
     "iopub.status.idle": "2023-02-26T15:46:09.659674Z",
     "shell.execute_reply": "2023-02-26T15:46:09.659080Z"
    }
   },
   "outputs": [],
   "source": [
    "trees = [FastTreeValue(_TREE_DATA_2) for _ in range(8)]"
   ]
  },
  {
   "cell_type": "code",
   "execution_count": 20,
   "id": "017ea5a5",
   "metadata": {
    "execution": {
     "iopub.execute_input": "2023-02-26T15:46:09.662109Z",
     "iopub.status.busy": "2023-02-26T15:46:09.661761Z",
     "iopub.status.idle": "2023-02-26T15:46:09.670284Z",
     "shell.execute_reply": "2023-02-26T15:46:09.669693Z"
    }
   },
   "outputs": [
    {
     "data": {
      "text/plain": [
       "<FastTreeValue 0x7fcab25cf460>\n",
       "├── 'a' --> tensor([[[-1.1359, -1.6183,  0.6523],\n",
       "│                    [-0.3067,  0.4747,  2.1281]],\n",
       "│           \n",
       "│                   [[-1.1359, -1.6183,  0.6523],\n",
       "│                    [-0.3067,  0.4747,  2.1281]],\n",
       "│           \n",
       "│                   [[-1.1359, -1.6183,  0.6523],\n",
       "│                    [-0.3067,  0.4747,  2.1281]],\n",
       "│           \n",
       "│                   [[-1.1359, -1.6183,  0.6523],\n",
       "│                    [-0.3067,  0.4747,  2.1281]],\n",
       "│           \n",
       "│                   [[-1.1359, -1.6183,  0.6523],\n",
       "│                    [-0.3067,  0.4747,  2.1281]],\n",
       "│           \n",
       "│                   [[-1.1359, -1.6183,  0.6523],\n",
       "│                    [-0.3067,  0.4747,  2.1281]],\n",
       "│           \n",
       "│                   [[-1.1359, -1.6183,  0.6523],\n",
       "│                    [-0.3067,  0.4747,  2.1281]],\n",
       "│           \n",
       "│                   [[-1.1359, -1.6183,  0.6523],\n",
       "│                    [-0.3067,  0.4747,  2.1281]]])\n",
       "└── 'x' --> <FastTreeValue 0x7fcab1f84b20>\n",
       "    └── 'c' --> tensor([[[ 1.1237,  0.3441,  0.3296,  0.2967],\n",
       "                         [-0.1333,  1.4504,  0.1709,  0.1092],\n",
       "                         [-0.2046, -0.7908, -1.4531,  0.1742]],\n",
       "                \n",
       "                        [[ 1.1237,  0.3441,  0.3296,  0.2967],\n",
       "                         [-0.1333,  1.4504,  0.1709,  0.1092],\n",
       "                         [-0.2046, -0.7908, -1.4531,  0.1742]],\n",
       "                \n",
       "                        [[ 1.1237,  0.3441,  0.3296,  0.2967],\n",
       "                         [-0.1333,  1.4504,  0.1709,  0.1092],\n",
       "                         [-0.2046, -0.7908, -1.4531,  0.1742]],\n",
       "                \n",
       "                        [[ 1.1237,  0.3441,  0.3296,  0.2967],\n",
       "                         [-0.1333,  1.4504,  0.1709,  0.1092],\n",
       "                         [-0.2046, -0.7908, -1.4531,  0.1742]],\n",
       "                \n",
       "                        [[ 1.1237,  0.3441,  0.3296,  0.2967],\n",
       "                         [-0.1333,  1.4504,  0.1709,  0.1092],\n",
       "                         [-0.2046, -0.7908, -1.4531,  0.1742]],\n",
       "                \n",
       "                        [[ 1.1237,  0.3441,  0.3296,  0.2967],\n",
       "                         [-0.1333,  1.4504,  0.1709,  0.1092],\n",
       "                         [-0.2046, -0.7908, -1.4531,  0.1742]],\n",
       "                \n",
       "                        [[ 1.1237,  0.3441,  0.3296,  0.2967],\n",
       "                         [-0.1333,  1.4504,  0.1709,  0.1092],\n",
       "                         [-0.2046, -0.7908, -1.4531,  0.1742]],\n",
       "                \n",
       "                        [[ 1.1237,  0.3441,  0.3296,  0.2967],\n",
       "                         [-0.1333,  1.4504,  0.1709,  0.1092],\n",
       "                         [-0.2046, -0.7908, -1.4531,  0.1742]]])"
      ]
     },
     "execution_count": 20,
     "metadata": {},
     "output_type": "execute_result"
    }
   ],
   "source": [
    "t_stack = FastTreeValue.func(subside=True)(torch.stack)\n",
    "\n",
    "t_stack(trees)"
   ]
  },
  {
   "cell_type": "code",
   "execution_count": 21,
   "id": "f8b3f415",
   "metadata": {
    "execution": {
     "iopub.execute_input": "2023-02-26T15:46:09.672949Z",
     "iopub.status.busy": "2023-02-26T15:46:09.672627Z",
     "iopub.status.idle": "2023-02-26T15:46:12.310329Z",
     "shell.execute_reply": "2023-02-26T15:46:12.309660Z"
    }
   },
   "outputs": [
    {
     "name": "stdout",
     "output_type": "stream",
     "text": [
      "32.4 µs ± 32.5 ns per loop (mean ± std. dev. of 7 runs, 10,000 loops each)\n"
     ]
    }
   ],
   "source": [
    "%timeit t_stack(trees)"
   ]
  },
  {
   "cell_type": "code",
   "execution_count": 22,
   "id": "94b56771",
   "metadata": {
    "execution": {
     "iopub.execute_input": "2023-02-26T15:46:12.313139Z",
     "iopub.status.busy": "2023-02-26T15:46:12.312778Z",
     "iopub.status.idle": "2023-02-26T15:46:12.320586Z",
     "shell.execute_reply": "2023-02-26T15:46:12.319994Z"
    }
   },
   "outputs": [
    {
     "data": {
      "text/plain": [
       "<FastTreeValue 0x7fcab8bdf6d0>\n",
       "├── 'a' --> tensor([[-1.1359, -1.6183,  0.6523],\n",
       "│                   [-0.3067,  0.4747,  2.1281],\n",
       "│                   [-1.1359, -1.6183,  0.6523],\n",
       "│                   [-0.3067,  0.4747,  2.1281],\n",
       "│                   [-1.1359, -1.6183,  0.6523],\n",
       "│                   [-0.3067,  0.4747,  2.1281],\n",
       "│                   [-1.1359, -1.6183,  0.6523],\n",
       "│                   [-0.3067,  0.4747,  2.1281],\n",
       "│                   [-1.1359, -1.6183,  0.6523],\n",
       "│                   [-0.3067,  0.4747,  2.1281],\n",
       "│                   [-1.1359, -1.6183,  0.6523],\n",
       "│                   [-0.3067,  0.4747,  2.1281],\n",
       "│                   [-1.1359, -1.6183,  0.6523],\n",
       "│                   [-0.3067,  0.4747,  2.1281],\n",
       "│                   [-1.1359, -1.6183,  0.6523],\n",
       "│                   [-0.3067,  0.4747,  2.1281]])\n",
       "└── 'x' --> <FastTreeValue 0x7fcab8bdf3d0>\n",
       "    └── 'c' --> tensor([[ 1.1237,  0.3441,  0.3296,  0.2967],\n",
       "                        [-0.1333,  1.4504,  0.1709,  0.1092],\n",
       "                        [-0.2046, -0.7908, -1.4531,  0.1742],\n",
       "                        [ 1.1237,  0.3441,  0.3296,  0.2967],\n",
       "                        [-0.1333,  1.4504,  0.1709,  0.1092],\n",
       "                        [-0.2046, -0.7908, -1.4531,  0.1742],\n",
       "                        [ 1.1237,  0.3441,  0.3296,  0.2967],\n",
       "                        [-0.1333,  1.4504,  0.1709,  0.1092],\n",
       "                        [-0.2046, -0.7908, -1.4531,  0.1742],\n",
       "                        [ 1.1237,  0.3441,  0.3296,  0.2967],\n",
       "                        [-0.1333,  1.4504,  0.1709,  0.1092],\n",
       "                        [-0.2046, -0.7908, -1.4531,  0.1742],\n",
       "                        [ 1.1237,  0.3441,  0.3296,  0.2967],\n",
       "                        [-0.1333,  1.4504,  0.1709,  0.1092],\n",
       "                        [-0.2046, -0.7908, -1.4531,  0.1742],\n",
       "                        [ 1.1237,  0.3441,  0.3296,  0.2967],\n",
       "                        [-0.1333,  1.4504,  0.1709,  0.1092],\n",
       "                        [-0.2046, -0.7908, -1.4531,  0.1742],\n",
       "                        [ 1.1237,  0.3441,  0.3296,  0.2967],\n",
       "                        [-0.1333,  1.4504,  0.1709,  0.1092],\n",
       "                        [-0.2046, -0.7908, -1.4531,  0.1742],\n",
       "                        [ 1.1237,  0.3441,  0.3296,  0.2967],\n",
       "                        [-0.1333,  1.4504,  0.1709,  0.1092],\n",
       "                        [-0.2046, -0.7908, -1.4531,  0.1742]])"
      ]
     },
     "execution_count": 22,
     "metadata": {},
     "output_type": "execute_result"
    }
   ],
   "source": [
    "t_cat = FastTreeValue.func(subside=True)(torch.cat)\n",
    "\n",
    "t_cat(trees)"
   ]
  },
  {
   "cell_type": "code",
   "execution_count": 23,
   "id": "5e9c06a6",
   "metadata": {
    "execution": {
     "iopub.execute_input": "2023-02-26T15:46:12.323214Z",
     "iopub.status.busy": "2023-02-26T15:46:12.322797Z",
     "iopub.status.idle": "2023-02-26T15:46:14.800269Z",
     "shell.execute_reply": "2023-02-26T15:46:14.799537Z"
    }
   },
   "outputs": [
    {
     "name": "stdout",
     "output_type": "stream",
     "text": [
      "30.5 µs ± 61.2 ns per loop (mean ± std. dev. of 7 runs, 10,000 loops each)\n"
     ]
    }
   ],
   "source": [
    "%timeit t_cat(trees)"
   ]
  },
  {
   "cell_type": "code",
   "execution_count": 24,
   "id": "a3ab5c8f",
   "metadata": {
    "execution": {
     "iopub.execute_input": "2023-02-26T15:46:14.803031Z",
     "iopub.status.busy": "2023-02-26T15:46:14.802678Z",
     "iopub.status.idle": "2023-02-26T15:46:19.604439Z",
     "shell.execute_reply": "2023-02-26T15:46:19.603722Z"
    }
   },
   "outputs": [
    {
     "name": "stdout",
     "output_type": "stream",
     "text": [
      "59 µs ± 47.1 ns per loop (mean ± std. dev. of 7 runs, 10,000 loops each)\n"
     ]
    }
   ],
   "source": [
    "t_split = FastTreeValue.func(rise=True)(torch.split)\n",
    "tree = FastTreeValue({\n",
    "    'obs': torch.randn(8, 4, 84, 84),\n",
    "    'action': torch.randint(0, 6, size=(8, 1,)),\n",
    "    'reward': torch.rand(8, 1),\n",
    "})\n",
    "\n",
    "%timeit t_split(tree, 1)"
   ]
  },
  {
   "cell_type": "markdown",
   "id": "31c3ec0b",
   "metadata": {},
   "source": [
    "### Performance of Tianshou Batch"
   ]
  },
  {
   "cell_type": "code",
   "execution_count": 25,
   "id": "9ead828a",
   "metadata": {
    "execution": {
     "iopub.execute_input": "2023-02-26T15:46:19.607271Z",
     "iopub.status.busy": "2023-02-26T15:46:19.606923Z",
     "iopub.status.idle": "2023-02-26T15:46:19.614871Z",
     "shell.execute_reply": "2023-02-26T15:46:19.614294Z"
    }
   },
   "outputs": [
    {
     "data": {
      "text/plain": [
       "Batch(\n",
       "    x: Batch(\n",
       "           c: tensor([[[ 1.1237,  0.3441,  0.3296,  0.2967],\n",
       "                       [-0.1333,  1.4504,  0.1709,  0.1092],\n",
       "                       [-0.2046, -0.7908, -1.4531,  0.1742]],\n",
       "              \n",
       "                      [[ 1.1237,  0.3441,  0.3296,  0.2967],\n",
       "                       [-0.1333,  1.4504,  0.1709,  0.1092],\n",
       "                       [-0.2046, -0.7908, -1.4531,  0.1742]],\n",
       "              \n",
       "                      [[ 1.1237,  0.3441,  0.3296,  0.2967],\n",
       "                       [-0.1333,  1.4504,  0.1709,  0.1092],\n",
       "                       [-0.2046, -0.7908, -1.4531,  0.1742]],\n",
       "              \n",
       "                      [[ 1.1237,  0.3441,  0.3296,  0.2967],\n",
       "                       [-0.1333,  1.4504,  0.1709,  0.1092],\n",
       "                       [-0.2046, -0.7908, -1.4531,  0.1742]],\n",
       "              \n",
       "                      [[ 1.1237,  0.3441,  0.3296,  0.2967],\n",
       "                       [-0.1333,  1.4504,  0.1709,  0.1092],\n",
       "                       [-0.2046, -0.7908, -1.4531,  0.1742]],\n",
       "              \n",
       "                      [[ 1.1237,  0.3441,  0.3296,  0.2967],\n",
       "                       [-0.1333,  1.4504,  0.1709,  0.1092],\n",
       "                       [-0.2046, -0.7908, -1.4531,  0.1742]],\n",
       "              \n",
       "                      [[ 1.1237,  0.3441,  0.3296,  0.2967],\n",
       "                       [-0.1333,  1.4504,  0.1709,  0.1092],\n",
       "                       [-0.2046, -0.7908, -1.4531,  0.1742]],\n",
       "              \n",
       "                      [[ 1.1237,  0.3441,  0.3296,  0.2967],\n",
       "                       [-0.1333,  1.4504,  0.1709,  0.1092],\n",
       "                       [-0.2046, -0.7908, -1.4531,  0.1742]]]),\n",
       "       ),\n",
       "    a: tensor([[[-1.1359, -1.6183,  0.6523],\n",
       "                [-0.3067,  0.4747,  2.1281]],\n",
       "       \n",
       "               [[-1.1359, -1.6183,  0.6523],\n",
       "                [-0.3067,  0.4747,  2.1281]],\n",
       "       \n",
       "               [[-1.1359, -1.6183,  0.6523],\n",
       "                [-0.3067,  0.4747,  2.1281]],\n",
       "       \n",
       "               [[-1.1359, -1.6183,  0.6523],\n",
       "                [-0.3067,  0.4747,  2.1281]],\n",
       "       \n",
       "               [[-1.1359, -1.6183,  0.6523],\n",
       "                [-0.3067,  0.4747,  2.1281]],\n",
       "       \n",
       "               [[-1.1359, -1.6183,  0.6523],\n",
       "                [-0.3067,  0.4747,  2.1281]],\n",
       "       \n",
       "               [[-1.1359, -1.6183,  0.6523],\n",
       "                [-0.3067,  0.4747,  2.1281]],\n",
       "       \n",
       "               [[-1.1359, -1.6183,  0.6523],\n",
       "                [-0.3067,  0.4747,  2.1281]]]),\n",
       ")"
      ]
     },
     "execution_count": 25,
     "metadata": {},
     "output_type": "execute_result"
    }
   ],
   "source": [
    "batches = [Batch(**_TREE_DATA_2) for _ in range(8)]\n",
    "\n",
    "Batch.stack(batches)"
   ]
  },
  {
   "cell_type": "code",
   "execution_count": 26,
   "id": "ec9037a3",
   "metadata": {
    "execution": {
     "iopub.execute_input": "2023-02-26T15:46:19.617351Z",
     "iopub.status.busy": "2023-02-26T15:46:19.617012Z",
     "iopub.status.idle": "2023-02-26T15:46:25.930821Z",
     "shell.execute_reply": "2023-02-26T15:46:25.930101Z"
    }
   },
   "outputs": [
    {
     "name": "stdout",
     "output_type": "stream",
     "text": [
      "77.7 µs ± 146 ns per loop (mean ± std. dev. of 7 runs, 10,000 loops each)\n"
     ]
    }
   ],
   "source": [
    "%timeit Batch.stack(batches)"
   ]
  },
  {
   "cell_type": "code",
   "execution_count": 27,
   "id": "cb8ab77e",
   "metadata": {
    "execution": {
     "iopub.execute_input": "2023-02-26T15:46:25.934020Z",
     "iopub.status.busy": "2023-02-26T15:46:25.933483Z",
     "iopub.status.idle": "2023-02-26T15:46:25.941052Z",
     "shell.execute_reply": "2023-02-26T15:46:25.940462Z"
    }
   },
   "outputs": [
    {
     "data": {
      "text/plain": [
       "Batch(\n",
       "    x: Batch(\n",
       "           c: tensor([[ 1.1237,  0.3441,  0.3296,  0.2967],\n",
       "                      [-0.1333,  1.4504,  0.1709,  0.1092],\n",
       "                      [-0.2046, -0.7908, -1.4531,  0.1742],\n",
       "                      [ 1.1237,  0.3441,  0.3296,  0.2967],\n",
       "                      [-0.1333,  1.4504,  0.1709,  0.1092],\n",
       "                      [-0.2046, -0.7908, -1.4531,  0.1742],\n",
       "                      [ 1.1237,  0.3441,  0.3296,  0.2967],\n",
       "                      [-0.1333,  1.4504,  0.1709,  0.1092],\n",
       "                      [-0.2046, -0.7908, -1.4531,  0.1742],\n",
       "                      [ 1.1237,  0.3441,  0.3296,  0.2967],\n",
       "                      [-0.1333,  1.4504,  0.1709,  0.1092],\n",
       "                      [-0.2046, -0.7908, -1.4531,  0.1742],\n",
       "                      [ 1.1237,  0.3441,  0.3296,  0.2967],\n",
       "                      [-0.1333,  1.4504,  0.1709,  0.1092],\n",
       "                      [-0.2046, -0.7908, -1.4531,  0.1742],\n",
       "                      [ 1.1237,  0.3441,  0.3296,  0.2967],\n",
       "                      [-0.1333,  1.4504,  0.1709,  0.1092],\n",
       "                      [-0.2046, -0.7908, -1.4531,  0.1742],\n",
       "                      [ 1.1237,  0.3441,  0.3296,  0.2967],\n",
       "                      [-0.1333,  1.4504,  0.1709,  0.1092],\n",
       "                      [-0.2046, -0.7908, -1.4531,  0.1742],\n",
       "                      [ 1.1237,  0.3441,  0.3296,  0.2967],\n",
       "                      [-0.1333,  1.4504,  0.1709,  0.1092],\n",
       "                      [-0.2046, -0.7908, -1.4531,  0.1742]]),\n",
       "       ),\n",
       "    a: tensor([[-1.1359, -1.6183,  0.6523],\n",
       "               [-0.3067,  0.4747,  2.1281],\n",
       "               [-1.1359, -1.6183,  0.6523],\n",
       "               [-0.3067,  0.4747,  2.1281],\n",
       "               [-1.1359, -1.6183,  0.6523],\n",
       "               [-0.3067,  0.4747,  2.1281],\n",
       "               [-1.1359, -1.6183,  0.6523],\n",
       "               [-0.3067,  0.4747,  2.1281],\n",
       "               [-1.1359, -1.6183,  0.6523],\n",
       "               [-0.3067,  0.4747,  2.1281],\n",
       "               [-1.1359, -1.6183,  0.6523],\n",
       "               [-0.3067,  0.4747,  2.1281],\n",
       "               [-1.1359, -1.6183,  0.6523],\n",
       "               [-0.3067,  0.4747,  2.1281],\n",
       "               [-1.1359, -1.6183,  0.6523],\n",
       "               [-0.3067,  0.4747,  2.1281]]),\n",
       ")"
      ]
     },
     "execution_count": 27,
     "metadata": {},
     "output_type": "execute_result"
    }
   ],
   "source": [
    "Batch.cat(batches)"
   ]
  },
  {
   "cell_type": "code",
   "execution_count": 28,
   "id": "18dfb045",
   "metadata": {
    "execution": {
     "iopub.execute_input": "2023-02-26T15:46:25.943841Z",
     "iopub.status.busy": "2023-02-26T15:46:25.943511Z",
     "iopub.status.idle": "2023-02-26T15:46:37.649253Z",
     "shell.execute_reply": "2023-02-26T15:46:37.648536Z"
    }
   },
   "outputs": [
    {
     "name": "stdout",
     "output_type": "stream",
     "text": [
      "144 µs ± 285 ns per loop (mean ± std. dev. of 7 runs, 10,000 loops each)\n"
     ]
    }
   ],
   "source": [
    "%timeit Batch.cat(batches)"
   ]
  },
  {
   "cell_type": "code",
   "execution_count": 29,
   "id": "c6688e51",
   "metadata": {
    "execution": {
     "iopub.execute_input": "2023-02-26T15:46:37.652497Z",
     "iopub.status.busy": "2023-02-26T15:46:37.651990Z",
     "iopub.status.idle": "2023-02-26T15:46:40.211008Z",
     "shell.execute_reply": "2023-02-26T15:46:40.210290Z"
    }
   },
   "outputs": [
    {
     "name": "stdout",
     "output_type": "stream",
     "text": [
      "315 µs ± 1.9 µs per loop (mean ± std. dev. of 7 runs, 1,000 loops each)\n"
     ]
    }
   ],
   "source": [
    "batch = Batch({\n",
    "    'obs': torch.randn(8, 4, 84, 84),\n",
    "    'action': torch.randint(0, 6, size=(8, 1,)),\n",
    "    'reward': torch.rand(8, 1)}\n",
    ")\n",
    "\n",
    "%timeit list(Batch.split(batch, 1, shuffle=False, merge_last=True))"
   ]
  },
  {
   "cell_type": "code",
   "execution_count": null,
   "id": "2539fbd9",
   "metadata": {},
   "outputs": [],
   "source": []
  }
 ],
 "metadata": {
  "kernelspec": {
   "display_name": "Python 3 (ipykernel)",
   "language": "python",
   "name": "python3"
  },
  "language_info": {
   "codemirror_mode": {
    "name": "ipython",
    "version": 3
   },
   "file_extension": ".py",
   "mimetype": "text/x-python",
   "name": "python",
   "nbconvert_exporter": "python",
   "pygments_lexer": "ipython3",
   "version": "3.8.16"
  }
 },
 "nbformat": 4,
 "nbformat_minor": 5
}
