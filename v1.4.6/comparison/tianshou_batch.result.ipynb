{
 "cells": [
  {
   "cell_type": "markdown",
   "id": "9d39d946",
   "metadata": {},
   "source": [
    "# Comparison Between TreeValue and Tianshou Batch"
   ]
  },
  {
   "cell_type": "markdown",
   "id": "3c6db2d4",
   "metadata": {},
   "source": [
    "In this section, we will take a look at the feature and performance of the [Tianshou Batch](https://github.com/thu-ml/tianshou) library, which is developed by Tsinghua Machine Learning Group."
   ]
  },
  {
   "cell_type": "markdown",
   "id": "069361b0",
   "metadata": {},
   "source": [
    "Before starting the comparison, let us define some thing."
   ]
  },
  {
   "cell_type": "code",
   "execution_count": 1,
   "id": "06fc8d26",
   "metadata": {
    "execution": {
     "iopub.execute_input": "2023-05-26T07:29:59.082864Z",
     "iopub.status.busy": "2023-05-26T07:29:59.082405Z",
     "iopub.status.idle": "2023-05-26T07:30:00.475140Z",
     "shell.execute_reply": "2023-05-26T07:30:00.474354Z"
    }
   },
   "outputs": [],
   "source": [
    "import torch \n",
    "\n",
    "_TREE_DATA_1 = {'a': 1, 'b': 2, 'x': {'c': 3, 'd': 4}}\n",
    "_TREE_DATA_2 = {\n",
    "    'a': torch.randn(2, 3), \n",
    "    'x': {\n",
    "        'c': torch.randn(3, 4)\n",
    "    },\n",
    "}\n",
    "_TREE_DATA_3 = {\n",
    "    'obs': torch.randn(4, 84, 84),\n",
    "    'action': torch.randint(0, 6, size=(1,)),\n",
    "    'reward': torch.rand(1),\n",
    "}"
   ]
  },
  {
   "cell_type": "markdown",
   "id": "83461b25",
   "metadata": {},
   "source": [
    "## Read and Write Operation"
   ]
  },
  {
   "cell_type": "markdown",
   "id": "067b3f73",
   "metadata": {},
   "source": [
    "Reading and writing are the two most common operations in the tree data structure based on the data model (TreeValue and Tianshou Batch both belong to this type), so this section will compare the reading and writing performance of these two libraries."
   ]
  },
  {
   "cell_type": "markdown",
   "id": "5d09a5b7",
   "metadata": {},
   "source": [
    "### TreeValue's Get and Set"
   ]
  },
  {
   "cell_type": "code",
   "execution_count": 2,
   "id": "9519c4bb",
   "metadata": {
    "execution": {
     "iopub.execute_input": "2023-05-26T07:30:00.479678Z",
     "iopub.status.busy": "2023-05-26T07:30:00.479184Z",
     "iopub.status.idle": "2023-05-26T07:30:00.778471Z",
     "shell.execute_reply": "2023-05-26T07:30:00.777036Z"
    }
   },
   "outputs": [],
   "source": [
    "from treevalue import FastTreeValue\n",
    "\n",
    "t = FastTreeValue(_TREE_DATA_2)"
   ]
  },
  {
   "cell_type": "code",
   "execution_count": 3,
   "id": "11c37677",
   "metadata": {
    "execution": {
     "iopub.execute_input": "2023-05-26T07:30:00.782913Z",
     "iopub.status.busy": "2023-05-26T07:30:00.782328Z",
     "iopub.status.idle": "2023-05-26T07:30:00.792061Z",
     "shell.execute_reply": "2023-05-26T07:30:00.791305Z"
    }
   },
   "outputs": [
    {
     "data": {
      "text/plain": [
       "<FastTreeValue 0x7f3148395b80>\n",
       "├── 'a' --> tensor([[ 1.0550,  0.4666,  0.5489],\n",
       "│                   [-1.3435, -0.1555, -1.9363]])\n",
       "└── 'x' --> <FastTreeValue 0x7f3148395a60>\n",
       "    └── 'c' --> tensor([[-0.1466,  0.1633, -0.5746,  0.0572],\n",
       "                        [-0.1038,  1.3954, -0.9500,  0.1306],\n",
       "                        [ 0.4227,  2.7902, -1.1884,  0.4287]])"
      ]
     },
     "execution_count": 3,
     "metadata": {},
     "output_type": "execute_result"
    }
   ],
   "source": [
    "t"
   ]
  },
  {
   "cell_type": "code",
   "execution_count": 4,
   "id": "fd70b0b9",
   "metadata": {
    "execution": {
     "iopub.execute_input": "2023-05-26T07:30:00.796185Z",
     "iopub.status.busy": "2023-05-26T07:30:00.795759Z",
     "iopub.status.idle": "2023-05-26T07:30:00.801251Z",
     "shell.execute_reply": "2023-05-26T07:30:00.800546Z"
    }
   },
   "outputs": [
    {
     "data": {
      "text/plain": [
       "tensor([[ 1.0550,  0.4666,  0.5489],\n",
       "        [-1.3435, -0.1555, -1.9363]])"
      ]
     },
     "execution_count": 4,
     "metadata": {},
     "output_type": "execute_result"
    }
   ],
   "source": [
    "t.a"
   ]
  },
  {
   "cell_type": "code",
   "execution_count": 5,
   "id": "c18197bd",
   "metadata": {
    "execution": {
     "iopub.execute_input": "2023-05-26T07:30:00.804681Z",
     "iopub.status.busy": "2023-05-26T07:30:00.804291Z",
     "iopub.status.idle": "2023-05-26T07:30:06.024148Z",
     "shell.execute_reply": "2023-05-26T07:30:06.023365Z"
    }
   },
   "outputs": [
    {
     "name": "stdout",
     "output_type": "stream",
     "text": [
      "64.3 ns ± 0.0742 ns per loop (mean ± std. dev. of 7 runs, 10,000,000 loops each)\n"
     ]
    }
   ],
   "source": [
    "%timeit t.a"
   ]
  },
  {
   "cell_type": "code",
   "execution_count": 6,
   "id": "bd52f867",
   "metadata": {
    "execution": {
     "iopub.execute_input": "2023-05-26T07:30:06.027846Z",
     "iopub.status.busy": "2023-05-26T07:30:06.027194Z",
     "iopub.status.idle": "2023-05-26T07:30:06.034074Z",
     "shell.execute_reply": "2023-05-26T07:30:06.033343Z"
    }
   },
   "outputs": [
    {
     "data": {
      "text/plain": [
       "<FastTreeValue 0x7f3148395b80>\n",
       "├── 'a' --> tensor([[ 0.3808, -0.4842, -1.1928],\n",
       "│                   [ 0.1311, -0.0126,  0.8680]])\n",
       "└── 'x' --> <FastTreeValue 0x7f3148395a60>\n",
       "    └── 'c' --> tensor([[-0.1466,  0.1633, -0.5746,  0.0572],\n",
       "                        [-0.1038,  1.3954, -0.9500,  0.1306],\n",
       "                        [ 0.4227,  2.7902, -1.1884,  0.4287]])"
      ]
     },
     "execution_count": 6,
     "metadata": {},
     "output_type": "execute_result"
    }
   ],
   "source": [
    "new_value = torch.randn(2, 3)\n",
    "t.a = new_value\n",
    "\n",
    "t"
   ]
  },
  {
   "cell_type": "code",
   "execution_count": 7,
   "id": "bbe04d1c",
   "metadata": {
    "execution": {
     "iopub.execute_input": "2023-05-26T07:30:06.037476Z",
     "iopub.status.busy": "2023-05-26T07:30:06.036835Z",
     "iopub.status.idle": "2023-05-26T07:30:11.582937Z",
     "shell.execute_reply": "2023-05-26T07:30:11.582048Z"
    }
   },
   "outputs": [
    {
     "name": "stdout",
     "output_type": "stream",
     "text": [
      "68.3 ns ± 0.0467 ns per loop (mean ± std. dev. of 7 runs, 10,000,000 loops each)\n"
     ]
    }
   ],
   "source": [
    "%timeit t.a = new_value"
   ]
  },
  {
   "cell_type": "markdown",
   "id": "48c49731",
   "metadata": {},
   "source": [
    "### Tianshou Batch's Get and Set"
   ]
  },
  {
   "cell_type": "code",
   "execution_count": 8,
   "id": "f1bb14c1",
   "metadata": {
    "execution": {
     "iopub.execute_input": "2023-05-26T07:30:11.587292Z",
     "iopub.status.busy": "2023-05-26T07:30:11.586570Z",
     "iopub.status.idle": "2023-05-26T07:30:11.985347Z",
     "shell.execute_reply": "2023-05-26T07:30:11.984568Z"
    }
   },
   "outputs": [],
   "source": [
    "from tianshou.data import Batch\n",
    "\n",
    "b = Batch(**_TREE_DATA_2)"
   ]
  },
  {
   "cell_type": "code",
   "execution_count": 9,
   "id": "cb0777c3",
   "metadata": {
    "execution": {
     "iopub.execute_input": "2023-05-26T07:30:11.989395Z",
     "iopub.status.busy": "2023-05-26T07:30:11.988803Z",
     "iopub.status.idle": "2023-05-26T07:30:11.994900Z",
     "shell.execute_reply": "2023-05-26T07:30:11.994209Z"
    }
   },
   "outputs": [
    {
     "data": {
      "text/plain": [
       "Batch(\n",
       "    a: tensor([[ 1.0550,  0.4666,  0.5489],\n",
       "               [-1.3435, -0.1555, -1.9363]]),\n",
       "    x: Batch(\n",
       "           c: tensor([[-0.1466,  0.1633, -0.5746,  0.0572],\n",
       "                      [-0.1038,  1.3954, -0.9500,  0.1306],\n",
       "                      [ 0.4227,  2.7902, -1.1884,  0.4287]]),\n",
       "       ),\n",
       ")"
      ]
     },
     "execution_count": 9,
     "metadata": {},
     "output_type": "execute_result"
    }
   ],
   "source": [
    "b"
   ]
  },
  {
   "cell_type": "code",
   "execution_count": 10,
   "id": "43ef8ea3",
   "metadata": {
    "execution": {
     "iopub.execute_input": "2023-05-26T07:30:11.998011Z",
     "iopub.status.busy": "2023-05-26T07:30:11.997572Z",
     "iopub.status.idle": "2023-05-26T07:30:12.002504Z",
     "shell.execute_reply": "2023-05-26T07:30:12.001818Z"
    }
   },
   "outputs": [
    {
     "data": {
      "text/plain": [
       "tensor([[ 1.0550,  0.4666,  0.5489],\n",
       "        [-1.3435, -0.1555, -1.9363]])"
      ]
     },
     "execution_count": 10,
     "metadata": {},
     "output_type": "execute_result"
    }
   ],
   "source": [
    "b.a"
   ]
  },
  {
   "cell_type": "code",
   "execution_count": 11,
   "id": "b785ab72",
   "metadata": {
    "execution": {
     "iopub.execute_input": "2023-05-26T07:30:12.005857Z",
     "iopub.status.busy": "2023-05-26T07:30:12.005498Z",
     "iopub.status.idle": "2023-05-26T07:30:16.726438Z",
     "shell.execute_reply": "2023-05-26T07:30:16.725714Z"
    }
   },
   "outputs": [
    {
     "name": "stdout",
     "output_type": "stream",
     "text": [
      "58.2 ns ± 0.0687 ns per loop (mean ± std. dev. of 7 runs, 10,000,000 loops each)\n"
     ]
    }
   ],
   "source": [
    "%timeit b.a"
   ]
  },
  {
   "cell_type": "code",
   "execution_count": 12,
   "id": "ad54dc69",
   "metadata": {
    "execution": {
     "iopub.execute_input": "2023-05-26T07:30:16.729816Z",
     "iopub.status.busy": "2023-05-26T07:30:16.729328Z",
     "iopub.status.idle": "2023-05-26T07:30:16.735777Z",
     "shell.execute_reply": "2023-05-26T07:30:16.735050Z"
    }
   },
   "outputs": [
    {
     "data": {
      "text/plain": [
       "Batch(\n",
       "    a: tensor([[-0.2982, -0.8270, -1.4593],\n",
       "               [-0.3584,  0.1151,  0.6594]]),\n",
       "    x: Batch(\n",
       "           c: tensor([[-0.1466,  0.1633, -0.5746,  0.0572],\n",
       "                      [-0.1038,  1.3954, -0.9500,  0.1306],\n",
       "                      [ 0.4227,  2.7902, -1.1884,  0.4287]]),\n",
       "       ),\n",
       ")"
      ]
     },
     "execution_count": 12,
     "metadata": {},
     "output_type": "execute_result"
    }
   ],
   "source": [
    "new_value = torch.randn(2, 3)\n",
    "b.a = new_value\n",
    "\n",
    "b"
   ]
  },
  {
   "cell_type": "code",
   "execution_count": 13,
   "id": "29b1d0bf",
   "metadata": {
    "execution": {
     "iopub.execute_input": "2023-05-26T07:30:16.738866Z",
     "iopub.status.busy": "2023-05-26T07:30:16.738496Z",
     "iopub.status.idle": "2023-05-26T07:30:20.754866Z",
     "shell.execute_reply": "2023-05-26T07:30:20.754118Z"
    }
   },
   "outputs": [
    {
     "name": "stdout",
     "output_type": "stream",
     "text": [
      "494 ns ± 0.158 ns per loop (mean ± std. dev. of 7 runs, 1,000,000 loops each)\n"
     ]
    }
   ],
   "source": [
    "%timeit b.a = new_value"
   ]
  },
  {
   "cell_type": "markdown",
   "id": "b61ad1d0",
   "metadata": {},
   "source": [
    "## Initialization"
   ]
  },
  {
   "cell_type": "markdown",
   "id": "d70f0d54",
   "metadata": {},
   "source": [
    "### TreeValue's Initialization"
   ]
  },
  {
   "cell_type": "code",
   "execution_count": 14,
   "id": "d32a679b",
   "metadata": {
    "execution": {
     "iopub.execute_input": "2023-05-26T07:30:20.758582Z",
     "iopub.status.busy": "2023-05-26T07:30:20.758176Z",
     "iopub.status.idle": "2023-05-26T07:30:27.554136Z",
     "shell.execute_reply": "2023-05-26T07:30:27.553386Z"
    }
   },
   "outputs": [
    {
     "name": "stdout",
     "output_type": "stream",
     "text": [
      "836 ns ± 0.578 ns per loop (mean ± std. dev. of 7 runs, 1,000,000 loops each)\n"
     ]
    }
   ],
   "source": [
    "%timeit FastTreeValue(_TREE_DATA_1)"
   ]
  },
  {
   "cell_type": "markdown",
   "id": "24f3707b",
   "metadata": {},
   "source": [
    "### Tianshou Batch's Initialization"
   ]
  },
  {
   "cell_type": "code",
   "execution_count": 15,
   "id": "ac3958df",
   "metadata": {
    "execution": {
     "iopub.execute_input": "2023-05-26T07:30:27.557655Z",
     "iopub.status.busy": "2023-05-26T07:30:27.557127Z",
     "iopub.status.idle": "2023-05-26T07:30:36.160586Z",
     "shell.execute_reply": "2023-05-26T07:30:36.159815Z"
    }
   },
   "outputs": [
    {
     "name": "stdout",
     "output_type": "stream",
     "text": [
      "10.6 µs ± 12.9 ns per loop (mean ± std. dev. of 7 runs, 100,000 loops each)\n"
     ]
    }
   ],
   "source": [
    "%timeit Batch(**_TREE_DATA_1)"
   ]
  },
  {
   "cell_type": "markdown",
   "id": "1ab82e2d",
   "metadata": {},
   "source": [
    "## Deep Copy Operation"
   ]
  },
  {
   "cell_type": "code",
   "execution_count": 16,
   "id": "210a9442",
   "metadata": {
    "execution": {
     "iopub.execute_input": "2023-05-26T07:30:36.164424Z",
     "iopub.status.busy": "2023-05-26T07:30:36.163671Z",
     "iopub.status.idle": "2023-05-26T07:30:36.167276Z",
     "shell.execute_reply": "2023-05-26T07:30:36.166579Z"
    }
   },
   "outputs": [],
   "source": [
    "import copy"
   ]
  },
  {
   "cell_type": "markdown",
   "id": "5a736274",
   "metadata": {},
   "source": [
    "### Deep Copy of TreeValue"
   ]
  },
  {
   "cell_type": "code",
   "execution_count": 17,
   "id": "f9bcadd6",
   "metadata": {
    "execution": {
     "iopub.execute_input": "2023-05-26T07:30:36.170321Z",
     "iopub.status.busy": "2023-05-26T07:30:36.169944Z",
     "iopub.status.idle": "2023-05-26T07:30:47.852238Z",
     "shell.execute_reply": "2023-05-26T07:30:47.851472Z"
    }
   },
   "outputs": [
    {
     "name": "stdout",
     "output_type": "stream",
     "text": [
      "144 µs ± 516 ns per loop (mean ± std. dev. of 7 runs, 10,000 loops each)\n"
     ]
    }
   ],
   "source": [
    "t3 = FastTreeValue(_TREE_DATA_3)\n",
    "%timeit copy.deepcopy(t3)"
   ]
  },
  {
   "cell_type": "markdown",
   "id": "bf8be7ea",
   "metadata": {},
   "source": [
    "### Deep Copy of Tianshou Batch"
   ]
  },
  {
   "cell_type": "code",
   "execution_count": 18,
   "id": "91998e6f",
   "metadata": {
    "execution": {
     "iopub.execute_input": "2023-05-26T07:30:47.857117Z",
     "iopub.status.busy": "2023-05-26T07:30:47.855706Z",
     "iopub.status.idle": "2023-05-26T07:30:59.492117Z",
     "shell.execute_reply": "2023-05-26T07:30:59.491435Z"
    }
   },
   "outputs": [
    {
     "name": "stdout",
     "output_type": "stream",
     "text": [
      "143 µs ± 671 ns per loop (mean ± std. dev. of 7 runs, 10,000 loops each)\n"
     ]
    }
   ],
   "source": [
    "b3 = Batch(**_TREE_DATA_3)\n",
    "%timeit copy.deepcopy(b3)"
   ]
  },
  {
   "cell_type": "markdown",
   "id": "223162fb",
   "metadata": {},
   "source": [
    "## Stack, Concat and Split Operation"
   ]
  },
  {
   "cell_type": "markdown",
   "id": "85fa4a73",
   "metadata": {},
   "source": [
    "### Performance of TreeValue"
   ]
  },
  {
   "cell_type": "code",
   "execution_count": 19,
   "id": "a0c2b697",
   "metadata": {
    "execution": {
     "iopub.execute_input": "2023-05-26T07:30:59.495582Z",
     "iopub.status.busy": "2023-05-26T07:30:59.495069Z",
     "iopub.status.idle": "2023-05-26T07:30:59.498664Z",
     "shell.execute_reply": "2023-05-26T07:30:59.498112Z"
    }
   },
   "outputs": [],
   "source": [
    "trees = [FastTreeValue(_TREE_DATA_2) for _ in range(8)]"
   ]
  },
  {
   "cell_type": "code",
   "execution_count": 20,
   "id": "017ea5a5",
   "metadata": {
    "execution": {
     "iopub.execute_input": "2023-05-26T07:30:59.501460Z",
     "iopub.status.busy": "2023-05-26T07:30:59.501020Z",
     "iopub.status.idle": "2023-05-26T07:30:59.508544Z",
     "shell.execute_reply": "2023-05-26T07:30:59.507982Z"
    }
   },
   "outputs": [
    {
     "data": {
      "text/plain": [
       "<FastTreeValue 0x7f30721815e0>\n",
       "├── 'a' --> tensor([[[ 1.0550,  0.4666,  0.5489],\n",
       "│                    [-1.3435, -0.1555, -1.9363]],\n",
       "│           \n",
       "│                   [[ 1.0550,  0.4666,  0.5489],\n",
       "│                    [-1.3435, -0.1555, -1.9363]],\n",
       "│           \n",
       "│                   [[ 1.0550,  0.4666,  0.5489],\n",
       "│                    [-1.3435, -0.1555, -1.9363]],\n",
       "│           \n",
       "│                   [[ 1.0550,  0.4666,  0.5489],\n",
       "│                    [-1.3435, -0.1555, -1.9363]],\n",
       "│           \n",
       "│                   [[ 1.0550,  0.4666,  0.5489],\n",
       "│                    [-1.3435, -0.1555, -1.9363]],\n",
       "│           \n",
       "│                   [[ 1.0550,  0.4666,  0.5489],\n",
       "│                    [-1.3435, -0.1555, -1.9363]],\n",
       "│           \n",
       "│                   [[ 1.0550,  0.4666,  0.5489],\n",
       "│                    [-1.3435, -0.1555, -1.9363]],\n",
       "│           \n",
       "│                   [[ 1.0550,  0.4666,  0.5489],\n",
       "│                    [-1.3435, -0.1555, -1.9363]]])\n",
       "└── 'x' --> <FastTreeValue 0x7f314c441d90>\n",
       "    └── 'c' --> tensor([[[-0.1466,  0.1633, -0.5746,  0.0572],\n",
       "                         [-0.1038,  1.3954, -0.9500,  0.1306],\n",
       "                         [ 0.4227,  2.7902, -1.1884,  0.4287]],\n",
       "                \n",
       "                        [[-0.1466,  0.1633, -0.5746,  0.0572],\n",
       "                         [-0.1038,  1.3954, -0.9500,  0.1306],\n",
       "                         [ 0.4227,  2.7902, -1.1884,  0.4287]],\n",
       "                \n",
       "                        [[-0.1466,  0.1633, -0.5746,  0.0572],\n",
       "                         [-0.1038,  1.3954, -0.9500,  0.1306],\n",
       "                         [ 0.4227,  2.7902, -1.1884,  0.4287]],\n",
       "                \n",
       "                        [[-0.1466,  0.1633, -0.5746,  0.0572],\n",
       "                         [-0.1038,  1.3954, -0.9500,  0.1306],\n",
       "                         [ 0.4227,  2.7902, -1.1884,  0.4287]],\n",
       "                \n",
       "                        [[-0.1466,  0.1633, -0.5746,  0.0572],\n",
       "                         [-0.1038,  1.3954, -0.9500,  0.1306],\n",
       "                         [ 0.4227,  2.7902, -1.1884,  0.4287]],\n",
       "                \n",
       "                        [[-0.1466,  0.1633, -0.5746,  0.0572],\n",
       "                         [-0.1038,  1.3954, -0.9500,  0.1306],\n",
       "                         [ 0.4227,  2.7902, -1.1884,  0.4287]],\n",
       "                \n",
       "                        [[-0.1466,  0.1633, -0.5746,  0.0572],\n",
       "                         [-0.1038,  1.3954, -0.9500,  0.1306],\n",
       "                         [ 0.4227,  2.7902, -1.1884,  0.4287]],\n",
       "                \n",
       "                        [[-0.1466,  0.1633, -0.5746,  0.0572],\n",
       "                         [-0.1038,  1.3954, -0.9500,  0.1306],\n",
       "                         [ 0.4227,  2.7902, -1.1884,  0.4287]]])"
      ]
     },
     "execution_count": 20,
     "metadata": {},
     "output_type": "execute_result"
    }
   ],
   "source": [
    "t_stack = FastTreeValue.func(subside=True)(torch.stack)\n",
    "\n",
    "t_stack(trees)"
   ]
  },
  {
   "cell_type": "code",
   "execution_count": 21,
   "id": "f8b3f415",
   "metadata": {
    "execution": {
     "iopub.execute_input": "2023-05-26T07:30:59.511453Z",
     "iopub.status.busy": "2023-05-26T07:30:59.510817Z",
     "iopub.status.idle": "2023-05-26T07:31:02.191423Z",
     "shell.execute_reply": "2023-05-26T07:31:02.190554Z"
    }
   },
   "outputs": [
    {
     "name": "stdout",
     "output_type": "stream",
     "text": [
      "33 µs ± 50.4 ns per loop (mean ± std. dev. of 7 runs, 10,000 loops each)\n"
     ]
    }
   ],
   "source": [
    "%timeit t_stack(trees)"
   ]
  },
  {
   "cell_type": "code",
   "execution_count": 22,
   "id": "94b56771",
   "metadata": {
    "execution": {
     "iopub.execute_input": "2023-05-26T07:31:02.195406Z",
     "iopub.status.busy": "2023-05-26T07:31:02.194995Z",
     "iopub.status.idle": "2023-05-26T07:31:02.203350Z",
     "shell.execute_reply": "2023-05-26T07:31:02.202654Z"
    }
   },
   "outputs": [
    {
     "data": {
      "text/plain": [
       "<FastTreeValue 0x7f31483ac580>\n",
       "├── 'a' --> tensor([[ 1.0550,  0.4666,  0.5489],\n",
       "│                   [-1.3435, -0.1555, -1.9363],\n",
       "│                   [ 1.0550,  0.4666,  0.5489],\n",
       "│                   [-1.3435, -0.1555, -1.9363],\n",
       "│                   [ 1.0550,  0.4666,  0.5489],\n",
       "│                   [-1.3435, -0.1555, -1.9363],\n",
       "│                   [ 1.0550,  0.4666,  0.5489],\n",
       "│                   [-1.3435, -0.1555, -1.9363],\n",
       "│                   [ 1.0550,  0.4666,  0.5489],\n",
       "│                   [-1.3435, -0.1555, -1.9363],\n",
       "│                   [ 1.0550,  0.4666,  0.5489],\n",
       "│                   [-1.3435, -0.1555, -1.9363],\n",
       "│                   [ 1.0550,  0.4666,  0.5489],\n",
       "│                   [-1.3435, -0.1555, -1.9363],\n",
       "│                   [ 1.0550,  0.4666,  0.5489],\n",
       "│                   [-1.3435, -0.1555, -1.9363]])\n",
       "└── 'x' --> <FastTreeValue 0x7f3072181370>\n",
       "    └── 'c' --> tensor([[-0.1466,  0.1633, -0.5746,  0.0572],\n",
       "                        [-0.1038,  1.3954, -0.9500,  0.1306],\n",
       "                        [ 0.4227,  2.7902, -1.1884,  0.4287],\n",
       "                        [-0.1466,  0.1633, -0.5746,  0.0572],\n",
       "                        [-0.1038,  1.3954, -0.9500,  0.1306],\n",
       "                        [ 0.4227,  2.7902, -1.1884,  0.4287],\n",
       "                        [-0.1466,  0.1633, -0.5746,  0.0572],\n",
       "                        [-0.1038,  1.3954, -0.9500,  0.1306],\n",
       "                        [ 0.4227,  2.7902, -1.1884,  0.4287],\n",
       "                        [-0.1466,  0.1633, -0.5746,  0.0572],\n",
       "                        [-0.1038,  1.3954, -0.9500,  0.1306],\n",
       "                        [ 0.4227,  2.7902, -1.1884,  0.4287],\n",
       "                        [-0.1466,  0.1633, -0.5746,  0.0572],\n",
       "                        [-0.1038,  1.3954, -0.9500,  0.1306],\n",
       "                        [ 0.4227,  2.7902, -1.1884,  0.4287],\n",
       "                        [-0.1466,  0.1633, -0.5746,  0.0572],\n",
       "                        [-0.1038,  1.3954, -0.9500,  0.1306],\n",
       "                        [ 0.4227,  2.7902, -1.1884,  0.4287],\n",
       "                        [-0.1466,  0.1633, -0.5746,  0.0572],\n",
       "                        [-0.1038,  1.3954, -0.9500,  0.1306],\n",
       "                        [ 0.4227,  2.7902, -1.1884,  0.4287],\n",
       "                        [-0.1466,  0.1633, -0.5746,  0.0572],\n",
       "                        [-0.1038,  1.3954, -0.9500,  0.1306],\n",
       "                        [ 0.4227,  2.7902, -1.1884,  0.4287]])"
      ]
     },
     "execution_count": 22,
     "metadata": {},
     "output_type": "execute_result"
    }
   ],
   "source": [
    "t_cat = FastTreeValue.func(subside=True)(torch.cat)\n",
    "\n",
    "t_cat(trees)"
   ]
  },
  {
   "cell_type": "code",
   "execution_count": 23,
   "id": "5e9c06a6",
   "metadata": {
    "execution": {
     "iopub.execute_input": "2023-05-26T07:31:02.206518Z",
     "iopub.status.busy": "2023-05-26T07:31:02.205985Z",
     "iopub.status.idle": "2023-05-26T07:31:04.700494Z",
     "shell.execute_reply": "2023-05-26T07:31:04.699728Z"
    }
   },
   "outputs": [
    {
     "name": "stdout",
     "output_type": "stream",
     "text": [
      "30.7 µs ± 21.9 ns per loop (mean ± std. dev. of 7 runs, 10,000 loops each)\n"
     ]
    }
   ],
   "source": [
    "%timeit t_cat(trees)"
   ]
  },
  {
   "cell_type": "code",
   "execution_count": 24,
   "id": "a3ab5c8f",
   "metadata": {
    "execution": {
     "iopub.execute_input": "2023-05-26T07:31:04.704141Z",
     "iopub.status.busy": "2023-05-26T07:31:04.703463Z",
     "iopub.status.idle": "2023-05-26T07:31:10.140931Z",
     "shell.execute_reply": "2023-05-26T07:31:10.140176Z"
    }
   },
   "outputs": [
    {
     "name": "stdout",
     "output_type": "stream",
     "text": [
      "66.9 µs ± 56.4 ns per loop (mean ± std. dev. of 7 runs, 10,000 loops each)\n"
     ]
    }
   ],
   "source": [
    "t_split = FastTreeValue.func(rise=True)(torch.split)\n",
    "tree = FastTreeValue({\n",
    "    'obs': torch.randn(8, 4, 84, 84),\n",
    "    'action': torch.randint(0, 6, size=(8, 1,)),\n",
    "    'reward': torch.rand(8, 1),\n",
    "})\n",
    "\n",
    "%timeit t_split(tree, 1)"
   ]
  },
  {
   "cell_type": "markdown",
   "id": "31c3ec0b",
   "metadata": {},
   "source": [
    "### Performance of Tianshou Batch"
   ]
  },
  {
   "cell_type": "code",
   "execution_count": 25,
   "id": "9ead828a",
   "metadata": {
    "execution": {
     "iopub.execute_input": "2023-05-26T07:31:10.144827Z",
     "iopub.status.busy": "2023-05-26T07:31:10.144150Z",
     "iopub.status.idle": "2023-05-26T07:31:10.152732Z",
     "shell.execute_reply": "2023-05-26T07:31:10.151988Z"
    }
   },
   "outputs": [
    {
     "data": {
      "text/plain": [
       "Batch(\n",
       "    x: Batch(\n",
       "           c: tensor([[[-0.1466,  0.1633, -0.5746,  0.0572],\n",
       "                       [-0.1038,  1.3954, -0.9500,  0.1306],\n",
       "                       [ 0.4227,  2.7902, -1.1884,  0.4287]],\n",
       "              \n",
       "                      [[-0.1466,  0.1633, -0.5746,  0.0572],\n",
       "                       [-0.1038,  1.3954, -0.9500,  0.1306],\n",
       "                       [ 0.4227,  2.7902, -1.1884,  0.4287]],\n",
       "              \n",
       "                      [[-0.1466,  0.1633, -0.5746,  0.0572],\n",
       "                       [-0.1038,  1.3954, -0.9500,  0.1306],\n",
       "                       [ 0.4227,  2.7902, -1.1884,  0.4287]],\n",
       "              \n",
       "                      [[-0.1466,  0.1633, -0.5746,  0.0572],\n",
       "                       [-0.1038,  1.3954, -0.9500,  0.1306],\n",
       "                       [ 0.4227,  2.7902, -1.1884,  0.4287]],\n",
       "              \n",
       "                      [[-0.1466,  0.1633, -0.5746,  0.0572],\n",
       "                       [-0.1038,  1.3954, -0.9500,  0.1306],\n",
       "                       [ 0.4227,  2.7902, -1.1884,  0.4287]],\n",
       "              \n",
       "                      [[-0.1466,  0.1633, -0.5746,  0.0572],\n",
       "                       [-0.1038,  1.3954, -0.9500,  0.1306],\n",
       "                       [ 0.4227,  2.7902, -1.1884,  0.4287]],\n",
       "              \n",
       "                      [[-0.1466,  0.1633, -0.5746,  0.0572],\n",
       "                       [-0.1038,  1.3954, -0.9500,  0.1306],\n",
       "                       [ 0.4227,  2.7902, -1.1884,  0.4287]],\n",
       "              \n",
       "                      [[-0.1466,  0.1633, -0.5746,  0.0572],\n",
       "                       [-0.1038,  1.3954, -0.9500,  0.1306],\n",
       "                       [ 0.4227,  2.7902, -1.1884,  0.4287]]]),\n",
       "       ),\n",
       "    a: tensor([[[ 1.0550,  0.4666,  0.5489],\n",
       "                [-1.3435, -0.1555, -1.9363]],\n",
       "       \n",
       "               [[ 1.0550,  0.4666,  0.5489],\n",
       "                [-1.3435, -0.1555, -1.9363]],\n",
       "       \n",
       "               [[ 1.0550,  0.4666,  0.5489],\n",
       "                [-1.3435, -0.1555, -1.9363]],\n",
       "       \n",
       "               [[ 1.0550,  0.4666,  0.5489],\n",
       "                [-1.3435, -0.1555, -1.9363]],\n",
       "       \n",
       "               [[ 1.0550,  0.4666,  0.5489],\n",
       "                [-1.3435, -0.1555, -1.9363]],\n",
       "       \n",
       "               [[ 1.0550,  0.4666,  0.5489],\n",
       "                [-1.3435, -0.1555, -1.9363]],\n",
       "       \n",
       "               [[ 1.0550,  0.4666,  0.5489],\n",
       "                [-1.3435, -0.1555, -1.9363]],\n",
       "       \n",
       "               [[ 1.0550,  0.4666,  0.5489],\n",
       "                [-1.3435, -0.1555, -1.9363]]]),\n",
       ")"
      ]
     },
     "execution_count": 25,
     "metadata": {},
     "output_type": "execute_result"
    }
   ],
   "source": [
    "batches = [Batch(**_TREE_DATA_2) for _ in range(8)]\n",
    "\n",
    "Batch.stack(batches)"
   ]
  },
  {
   "cell_type": "code",
   "execution_count": 26,
   "id": "ec9037a3",
   "metadata": {
    "execution": {
     "iopub.execute_input": "2023-05-26T07:31:10.155923Z",
     "iopub.status.busy": "2023-05-26T07:31:10.155389Z",
     "iopub.status.idle": "2023-05-26T07:31:16.614565Z",
     "shell.execute_reply": "2023-05-26T07:31:16.613789Z"
    }
   },
   "outputs": [
    {
     "name": "stdout",
     "output_type": "stream",
     "text": [
      "79.5 µs ± 177 ns per loop (mean ± std. dev. of 7 runs, 10,000 loops each)\n"
     ]
    }
   ],
   "source": [
    "%timeit Batch.stack(batches)"
   ]
  },
  {
   "cell_type": "code",
   "execution_count": 27,
   "id": "cb8ab77e",
   "metadata": {
    "execution": {
     "iopub.execute_input": "2023-05-26T07:31:16.618237Z",
     "iopub.status.busy": "2023-05-26T07:31:16.617678Z",
     "iopub.status.idle": "2023-05-26T07:31:16.625574Z",
     "shell.execute_reply": "2023-05-26T07:31:16.624824Z"
    }
   },
   "outputs": [
    {
     "data": {
      "text/plain": [
       "Batch(\n",
       "    x: Batch(\n",
       "           c: tensor([[-0.1466,  0.1633, -0.5746,  0.0572],\n",
       "                      [-0.1038,  1.3954, -0.9500,  0.1306],\n",
       "                      [ 0.4227,  2.7902, -1.1884,  0.4287],\n",
       "                      [-0.1466,  0.1633, -0.5746,  0.0572],\n",
       "                      [-0.1038,  1.3954, -0.9500,  0.1306],\n",
       "                      [ 0.4227,  2.7902, -1.1884,  0.4287],\n",
       "                      [-0.1466,  0.1633, -0.5746,  0.0572],\n",
       "                      [-0.1038,  1.3954, -0.9500,  0.1306],\n",
       "                      [ 0.4227,  2.7902, -1.1884,  0.4287],\n",
       "                      [-0.1466,  0.1633, -0.5746,  0.0572],\n",
       "                      [-0.1038,  1.3954, -0.9500,  0.1306],\n",
       "                      [ 0.4227,  2.7902, -1.1884,  0.4287],\n",
       "                      [-0.1466,  0.1633, -0.5746,  0.0572],\n",
       "                      [-0.1038,  1.3954, -0.9500,  0.1306],\n",
       "                      [ 0.4227,  2.7902, -1.1884,  0.4287],\n",
       "                      [-0.1466,  0.1633, -0.5746,  0.0572],\n",
       "                      [-0.1038,  1.3954, -0.9500,  0.1306],\n",
       "                      [ 0.4227,  2.7902, -1.1884,  0.4287],\n",
       "                      [-0.1466,  0.1633, -0.5746,  0.0572],\n",
       "                      [-0.1038,  1.3954, -0.9500,  0.1306],\n",
       "                      [ 0.4227,  2.7902, -1.1884,  0.4287],\n",
       "                      [-0.1466,  0.1633, -0.5746,  0.0572],\n",
       "                      [-0.1038,  1.3954, -0.9500,  0.1306],\n",
       "                      [ 0.4227,  2.7902, -1.1884,  0.4287]]),\n",
       "       ),\n",
       "    a: tensor([[ 1.0550,  0.4666,  0.5489],\n",
       "               [-1.3435, -0.1555, -1.9363],\n",
       "               [ 1.0550,  0.4666,  0.5489],\n",
       "               [-1.3435, -0.1555, -1.9363],\n",
       "               [ 1.0550,  0.4666,  0.5489],\n",
       "               [-1.3435, -0.1555, -1.9363],\n",
       "               [ 1.0550,  0.4666,  0.5489],\n",
       "               [-1.3435, -0.1555, -1.9363],\n",
       "               [ 1.0550,  0.4666,  0.5489],\n",
       "               [-1.3435, -0.1555, -1.9363],\n",
       "               [ 1.0550,  0.4666,  0.5489],\n",
       "               [-1.3435, -0.1555, -1.9363],\n",
       "               [ 1.0550,  0.4666,  0.5489],\n",
       "               [-1.3435, -0.1555, -1.9363],\n",
       "               [ 1.0550,  0.4666,  0.5489],\n",
       "               [-1.3435, -0.1555, -1.9363]]),\n",
       ")"
      ]
     },
     "execution_count": 27,
     "metadata": {},
     "output_type": "execute_result"
    }
   ],
   "source": [
    "Batch.cat(batches)"
   ]
  },
  {
   "cell_type": "code",
   "execution_count": 28,
   "id": "18dfb045",
   "metadata": {
    "execution": {
     "iopub.execute_input": "2023-05-26T07:31:16.628778Z",
     "iopub.status.busy": "2023-05-26T07:31:16.628385Z",
     "iopub.status.idle": "2023-05-26T07:31:28.771527Z",
     "shell.execute_reply": "2023-05-26T07:31:28.770858Z"
    }
   },
   "outputs": [
    {
     "name": "stdout",
     "output_type": "stream",
     "text": [
      "150 µs ± 896 ns per loop (mean ± std. dev. of 7 runs, 10,000 loops each)\n"
     ]
    }
   ],
   "source": [
    "%timeit Batch.cat(batches)"
   ]
  },
  {
   "cell_type": "code",
   "execution_count": 29,
   "id": "c6688e51",
   "metadata": {
    "execution": {
     "iopub.execute_input": "2023-05-26T07:31:28.775113Z",
     "iopub.status.busy": "2023-05-26T07:31:28.774489Z",
     "iopub.status.idle": "2023-05-26T07:31:31.623940Z",
     "shell.execute_reply": "2023-05-26T07:31:31.623269Z"
    }
   },
   "outputs": [
    {
     "name": "stdout",
     "output_type": "stream",
     "text": [
      "350 µs ± 1.11 µs per loop (mean ± std. dev. of 7 runs, 1,000 loops each)\n"
     ]
    }
   ],
   "source": [
    "batch = Batch({\n",
    "    'obs': torch.randn(8, 4, 84, 84),\n",
    "    'action': torch.randint(0, 6, size=(8, 1,)),\n",
    "    'reward': torch.rand(8, 1)}\n",
    ")\n",
    "\n",
    "%timeit list(Batch.split(batch, 1, shuffle=False, merge_last=True))"
   ]
  },
  {
   "cell_type": "code",
   "execution_count": null,
   "id": "2539fbd9",
   "metadata": {},
   "outputs": [],
   "source": []
  }
 ],
 "metadata": {
  "kernelspec": {
   "display_name": "Python 3 (ipykernel)",
   "language": "python",
   "name": "python3"
  },
  "language_info": {
   "codemirror_mode": {
    "name": "ipython",
    "version": 3
   },
   "file_extension": ".py",
   "mimetype": "text/x-python",
   "name": "python",
   "nbconvert_exporter": "python",
   "pygments_lexer": "ipython3",
   "version": "3.8.16"
  }
 },
 "nbformat": 4,
 "nbformat_minor": 5
}
