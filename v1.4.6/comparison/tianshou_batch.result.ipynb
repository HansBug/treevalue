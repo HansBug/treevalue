{
 "cells": [
  {
   "cell_type": "markdown",
   "id": "9d39d946",
   "metadata": {},
   "source": [
    "# Comparison Between TreeValue and Tianshou Batch"
   ]
  },
  {
   "cell_type": "markdown",
   "id": "3c6db2d4",
   "metadata": {},
   "source": [
    "In this section, we will take a look at the feature and performance of the [Tianshou Batch](https://github.com/thu-ml/tianshou) library, which is developed by Tsinghua Machine Learning Group."
   ]
  },
  {
   "cell_type": "markdown",
   "id": "069361b0",
   "metadata": {},
   "source": [
    "Before starting the comparison, let us define some thing."
   ]
  },
  {
   "cell_type": "code",
   "execution_count": 1,
   "id": "06fc8d26",
   "metadata": {
    "execution": {
     "iopub.execute_input": "2023-03-06T18:30:49.770200Z",
     "iopub.status.busy": "2023-03-06T18:30:49.769915Z",
     "iopub.status.idle": "2023-03-06T18:30:50.710846Z",
     "shell.execute_reply": "2023-03-06T18:30:50.709926Z"
    }
   },
   "outputs": [
    {
     "name": "stderr",
     "output_type": "stream",
     "text": [
      "/opt/hostedtoolcache/Python/3.8.16/x64/lib/python3.8/site-packages/tqdm/auto.py:21: TqdmWarning: IProgress not found. Please update jupyter and ipywidgets. See https://ipywidgets.readthedocs.io/en/stable/user_install.html\n",
      "  from .autonotebook import tqdm as notebook_tqdm\n"
     ]
    }
   ],
   "source": [
    "import torch \n",
    "\n",
    "_TREE_DATA_1 = {'a': 1, 'b': 2, 'x': {'c': 3, 'd': 4}}\n",
    "_TREE_DATA_2 = {\n",
    "    'a': torch.randn(2, 3), \n",
    "    'x': {\n",
    "        'c': torch.randn(3, 4)\n",
    "    },\n",
    "}\n",
    "_TREE_DATA_3 = {\n",
    "    'obs': torch.randn(4, 84, 84),\n",
    "    'action': torch.randint(0, 6, size=(1,)),\n",
    "    'reward': torch.rand(1),\n",
    "}"
   ]
  },
  {
   "cell_type": "markdown",
   "id": "83461b25",
   "metadata": {},
   "source": [
    "## Read and Write Operation"
   ]
  },
  {
   "cell_type": "markdown",
   "id": "067b3f73",
   "metadata": {},
   "source": [
    "Reading and writing are the two most common operations in the tree data structure based on the data model (TreeValue and Tianshou Batch both belong to this type), so this section will compare the reading and writing performance of these two libraries."
   ]
  },
  {
   "cell_type": "markdown",
   "id": "5d09a5b7",
   "metadata": {},
   "source": [
    "### TreeValue's Get and Set"
   ]
  },
  {
   "cell_type": "code",
   "execution_count": 2,
   "id": "9519c4bb",
   "metadata": {
    "execution": {
     "iopub.execute_input": "2023-03-06T18:30:50.714837Z",
     "iopub.status.busy": "2023-03-06T18:30:50.714323Z",
     "iopub.status.idle": "2023-03-06T18:30:50.984563Z",
     "shell.execute_reply": "2023-03-06T18:30:50.983657Z"
    }
   },
   "outputs": [],
   "source": [
    "from treevalue import FastTreeValue\n",
    "\n",
    "t = FastTreeValue(_TREE_DATA_2)"
   ]
  },
  {
   "cell_type": "code",
   "execution_count": 3,
   "id": "11c37677",
   "metadata": {
    "execution": {
     "iopub.execute_input": "2023-03-06T18:30:50.988317Z",
     "iopub.status.busy": "2023-03-06T18:30:50.987746Z",
     "iopub.status.idle": "2023-03-06T18:30:50.998468Z",
     "shell.execute_reply": "2023-03-06T18:30:50.997781Z"
    }
   },
   "outputs": [
    {
     "data": {
      "text/plain": [
       "<FastTreeValue 0x7f50cf132670>\n",
       "├── 'a' --> tensor([[-1.0238,  1.3775, -1.0908],\n",
       "│                   [-1.3892,  2.8328,  0.4355]])\n",
       "└── 'x' --> <FastTreeValue 0x7f50cf1325b0>\n",
       "    └── 'c' --> tensor([[-1.2772,  2.0066, -0.2151, -0.3569],\n",
       "                        [ 1.4813, -0.5058, -1.3405, -1.7110],\n",
       "                        [ 0.9798, -0.3347, -0.7590, -0.9877]])"
      ]
     },
     "execution_count": 3,
     "metadata": {},
     "output_type": "execute_result"
    }
   ],
   "source": [
    "t"
   ]
  },
  {
   "cell_type": "code",
   "execution_count": 4,
   "id": "fd70b0b9",
   "metadata": {
    "execution": {
     "iopub.execute_input": "2023-03-06T18:30:51.001844Z",
     "iopub.status.busy": "2023-03-06T18:30:51.001270Z",
     "iopub.status.idle": "2023-03-06T18:30:51.007337Z",
     "shell.execute_reply": "2023-03-06T18:30:51.006693Z"
    }
   },
   "outputs": [
    {
     "data": {
      "text/plain": [
       "tensor([[-1.0238,  1.3775, -1.0908],\n",
       "        [-1.3892,  2.8328,  0.4355]])"
      ]
     },
     "execution_count": 4,
     "metadata": {},
     "output_type": "execute_result"
    }
   ],
   "source": [
    "t.a"
   ]
  },
  {
   "cell_type": "code",
   "execution_count": 5,
   "id": "c18197bd",
   "metadata": {
    "execution": {
     "iopub.execute_input": "2023-03-06T18:30:51.010464Z",
     "iopub.status.busy": "2023-03-06T18:30:51.009836Z",
     "iopub.status.idle": "2023-03-06T18:30:56.011564Z",
     "shell.execute_reply": "2023-03-06T18:30:56.010317Z"
    }
   },
   "outputs": [
    {
     "name": "stdout",
     "output_type": "stream",
     "text": [
      "61.5 ns ± 1.76 ns per loop (mean ± std. dev. of 7 runs, 10,000,000 loops each)\n"
     ]
    }
   ],
   "source": [
    "%timeit t.a"
   ]
  },
  {
   "cell_type": "code",
   "execution_count": 6,
   "id": "bd52f867",
   "metadata": {
    "execution": {
     "iopub.execute_input": "2023-03-06T18:30:56.014705Z",
     "iopub.status.busy": "2023-03-06T18:30:56.014288Z",
     "iopub.status.idle": "2023-03-06T18:30:56.021854Z",
     "shell.execute_reply": "2023-03-06T18:30:56.020852Z"
    }
   },
   "outputs": [
    {
     "data": {
      "text/plain": [
       "<FastTreeValue 0x7f50cf132670>\n",
       "├── 'a' --> tensor([[-0.4584, -0.5655, -1.9477],\n",
       "│                   [ 1.1521, -0.5723, -0.7696]])\n",
       "└── 'x' --> <FastTreeValue 0x7f50cf1325b0>\n",
       "    └── 'c' --> tensor([[-1.2772,  2.0066, -0.2151, -0.3569],\n",
       "                        [ 1.4813, -0.5058, -1.3405, -1.7110],\n",
       "                        [ 0.9798, -0.3347, -0.7590, -0.9877]])"
      ]
     },
     "execution_count": 6,
     "metadata": {},
     "output_type": "execute_result"
    }
   ],
   "source": [
    "new_value = torch.randn(2, 3)\n",
    "t.a = new_value\n",
    "\n",
    "t"
   ]
  },
  {
   "cell_type": "code",
   "execution_count": 7,
   "id": "bbe04d1c",
   "metadata": {
    "execution": {
     "iopub.execute_input": "2023-03-06T18:30:56.024382Z",
     "iopub.status.busy": "2023-03-06T18:30:56.024048Z",
     "iopub.status.idle": "2023-03-06T18:31:01.825746Z",
     "shell.execute_reply": "2023-03-06T18:31:01.824611Z"
    }
   },
   "outputs": [
    {
     "name": "stdout",
     "output_type": "stream",
     "text": [
      "71.4 ns ± 1.33 ns per loop (mean ± std. dev. of 7 runs, 10,000,000 loops each)\n"
     ]
    }
   ],
   "source": [
    "%timeit t.a = new_value"
   ]
  },
  {
   "cell_type": "markdown",
   "id": "48c49731",
   "metadata": {},
   "source": [
    "### Tianshou Batch's Get and Set"
   ]
  },
  {
   "cell_type": "code",
   "execution_count": 8,
   "id": "f1bb14c1",
   "metadata": {
    "execution": {
     "iopub.execute_input": "2023-03-06T18:31:01.829189Z",
     "iopub.status.busy": "2023-03-06T18:31:01.828692Z",
     "iopub.status.idle": "2023-03-06T18:31:02.185812Z",
     "shell.execute_reply": "2023-03-06T18:31:02.184347Z"
    }
   },
   "outputs": [],
   "source": [
    "from tianshou.data import Batch\n",
    "\n",
    "b = Batch(**_TREE_DATA_2)"
   ]
  },
  {
   "cell_type": "code",
   "execution_count": 9,
   "id": "cb0777c3",
   "metadata": {
    "execution": {
     "iopub.execute_input": "2023-03-06T18:31:02.191037Z",
     "iopub.status.busy": "2023-03-06T18:31:02.190194Z",
     "iopub.status.idle": "2023-03-06T18:31:02.198186Z",
     "shell.execute_reply": "2023-03-06T18:31:02.197110Z"
    }
   },
   "outputs": [
    {
     "data": {
      "text/plain": [
       "Batch(\n",
       "    a: tensor([[-1.0238,  1.3775, -1.0908],\n",
       "               [-1.3892,  2.8328,  0.4355]]),\n",
       "    x: Batch(\n",
       "           c: tensor([[-1.2772,  2.0066, -0.2151, -0.3569],\n",
       "                      [ 1.4813, -0.5058, -1.3405, -1.7110],\n",
       "                      [ 0.9798, -0.3347, -0.7590, -0.9877]]),\n",
       "       ),\n",
       ")"
      ]
     },
     "execution_count": 9,
     "metadata": {},
     "output_type": "execute_result"
    }
   ],
   "source": [
    "b"
   ]
  },
  {
   "cell_type": "code",
   "execution_count": 10,
   "id": "43ef8ea3",
   "metadata": {
    "execution": {
     "iopub.execute_input": "2023-03-06T18:31:02.201364Z",
     "iopub.status.busy": "2023-03-06T18:31:02.200967Z",
     "iopub.status.idle": "2023-03-06T18:31:02.205516Z",
     "shell.execute_reply": "2023-03-06T18:31:02.204931Z"
    }
   },
   "outputs": [
    {
     "data": {
      "text/plain": [
       "tensor([[-1.0238,  1.3775, -1.0908],\n",
       "        [-1.3892,  2.8328,  0.4355]])"
      ]
     },
     "execution_count": 10,
     "metadata": {},
     "output_type": "execute_result"
    }
   ],
   "source": [
    "b.a"
   ]
  },
  {
   "cell_type": "code",
   "execution_count": 11,
   "id": "b785ab72",
   "metadata": {
    "execution": {
     "iopub.execute_input": "2023-03-06T18:31:02.208410Z",
     "iopub.status.busy": "2023-03-06T18:31:02.207879Z",
     "iopub.status.idle": "2023-03-06T18:31:06.691106Z",
     "shell.execute_reply": "2023-03-06T18:31:06.689776Z"
    }
   },
   "outputs": [
    {
     "name": "stdout",
     "output_type": "stream",
     "text": [
      "55.3 ns ± 0.561 ns per loop (mean ± std. dev. of 7 runs, 10,000,000 loops each)\n"
     ]
    }
   ],
   "source": [
    "%timeit b.a"
   ]
  },
  {
   "cell_type": "code",
   "execution_count": 12,
   "id": "ad54dc69",
   "metadata": {
    "execution": {
     "iopub.execute_input": "2023-03-06T18:31:06.694728Z",
     "iopub.status.busy": "2023-03-06T18:31:06.694133Z",
     "iopub.status.idle": "2023-03-06T18:31:06.701825Z",
     "shell.execute_reply": "2023-03-06T18:31:06.700598Z"
    }
   },
   "outputs": [
    {
     "data": {
      "text/plain": [
       "Batch(\n",
       "    a: tensor([[ 0.0773,  0.3708, -1.5048],\n",
       "               [-1.6002,  0.8872,  0.8143]]),\n",
       "    x: Batch(\n",
       "           c: tensor([[-1.2772,  2.0066, -0.2151, -0.3569],\n",
       "                      [ 1.4813, -0.5058, -1.3405, -1.7110],\n",
       "                      [ 0.9798, -0.3347, -0.7590, -0.9877]]),\n",
       "       ),\n",
       ")"
      ]
     },
     "execution_count": 12,
     "metadata": {},
     "output_type": "execute_result"
    }
   ],
   "source": [
    "new_value = torch.randn(2, 3)\n",
    "b.a = new_value\n",
    "\n",
    "b"
   ]
  },
  {
   "cell_type": "code",
   "execution_count": 13,
   "id": "29b1d0bf",
   "metadata": {
    "execution": {
     "iopub.execute_input": "2023-03-06T18:31:06.704178Z",
     "iopub.status.busy": "2023-03-06T18:31:06.703826Z",
     "iopub.status.idle": "2023-03-06T18:31:10.557096Z",
     "shell.execute_reply": "2023-03-06T18:31:10.555800Z"
    }
   },
   "outputs": [
    {
     "name": "stdout",
     "output_type": "stream",
     "text": [
      "475 ns ± 20.1 ns per loop (mean ± std. dev. of 7 runs, 1,000,000 loops each)\n"
     ]
    }
   ],
   "source": [
    "%timeit b.a = new_value"
   ]
  },
  {
   "cell_type": "markdown",
   "id": "b61ad1d0",
   "metadata": {},
   "source": [
    "## Initialization"
   ]
  },
  {
   "cell_type": "markdown",
   "id": "d70f0d54",
   "metadata": {},
   "source": [
    "### TreeValue's Initialization"
   ]
  },
  {
   "cell_type": "code",
   "execution_count": 14,
   "id": "d32a679b",
   "metadata": {
    "execution": {
     "iopub.execute_input": "2023-03-06T18:31:10.561553Z",
     "iopub.status.busy": "2023-03-06T18:31:10.560878Z",
     "iopub.status.idle": "2023-03-06T18:31:16.806484Z",
     "shell.execute_reply": "2023-03-06T18:31:16.805393Z"
    }
   },
   "outputs": [
    {
     "name": "stdout",
     "output_type": "stream",
     "text": [
      "773 ns ± 13.3 ns per loop (mean ± std. dev. of 7 runs, 1,000,000 loops each)\n"
     ]
    }
   ],
   "source": [
    "%timeit FastTreeValue(_TREE_DATA_1)"
   ]
  },
  {
   "cell_type": "markdown",
   "id": "24f3707b",
   "metadata": {},
   "source": [
    "### Tianshou Batch's Initialization"
   ]
  },
  {
   "cell_type": "code",
   "execution_count": 15,
   "id": "ac3958df",
   "metadata": {
    "execution": {
     "iopub.execute_input": "2023-03-06T18:31:16.810781Z",
     "iopub.status.busy": "2023-03-06T18:31:16.809951Z",
     "iopub.status.idle": "2023-03-06T18:31:24.506314Z",
     "shell.execute_reply": "2023-03-06T18:31:24.505253Z"
    }
   },
   "outputs": [
    {
     "name": "stdout",
     "output_type": "stream",
     "text": [
      "9.45 µs ± 72.7 ns per loop (mean ± std. dev. of 7 runs, 100,000 loops each)\n"
     ]
    }
   ],
   "source": [
    "%timeit Batch(**_TREE_DATA_1)"
   ]
  },
  {
   "cell_type": "markdown",
   "id": "1ab82e2d",
   "metadata": {},
   "source": [
    "## Deep Copy Operation"
   ]
  },
  {
   "cell_type": "code",
   "execution_count": 16,
   "id": "210a9442",
   "metadata": {
    "execution": {
     "iopub.execute_input": "2023-03-06T18:31:24.510970Z",
     "iopub.status.busy": "2023-03-06T18:31:24.510114Z",
     "iopub.status.idle": "2023-03-06T18:31:24.515504Z",
     "shell.execute_reply": "2023-03-06T18:31:24.514732Z"
    }
   },
   "outputs": [],
   "source": [
    "import copy"
   ]
  },
  {
   "cell_type": "markdown",
   "id": "5a736274",
   "metadata": {},
   "source": [
    "### Deep Copy of TreeValue"
   ]
  },
  {
   "cell_type": "code",
   "execution_count": 17,
   "id": "f9bcadd6",
   "metadata": {
    "execution": {
     "iopub.execute_input": "2023-03-06T18:31:24.518595Z",
     "iopub.status.busy": "2023-03-06T18:31:24.518158Z",
     "iopub.status.idle": "2023-03-06T18:31:35.550913Z",
     "shell.execute_reply": "2023-03-06T18:31:35.549838Z"
    }
   },
   "outputs": [
    {
     "name": "stdout",
     "output_type": "stream",
     "text": [
      "136 µs ± 1.57 µs per loop (mean ± std. dev. of 7 runs, 10,000 loops each)\n"
     ]
    }
   ],
   "source": [
    "t3 = FastTreeValue(_TREE_DATA_3)\n",
    "%timeit copy.deepcopy(t3)"
   ]
  },
  {
   "cell_type": "markdown",
   "id": "bf8be7ea",
   "metadata": {},
   "source": [
    "### Deep Copy of Tianshou Batch"
   ]
  },
  {
   "cell_type": "code",
   "execution_count": 18,
   "id": "91998e6f",
   "metadata": {
    "execution": {
     "iopub.execute_input": "2023-03-06T18:31:35.554835Z",
     "iopub.status.busy": "2023-03-06T18:31:35.554183Z",
     "iopub.status.idle": "2023-03-06T18:31:46.544584Z",
     "shell.execute_reply": "2023-03-06T18:31:46.543379Z"
    }
   },
   "outputs": [
    {
     "name": "stdout",
     "output_type": "stream",
     "text": [
      "135 µs ± 2.61 µs per loop (mean ± std. dev. of 7 runs, 10,000 loops each)\n"
     ]
    }
   ],
   "source": [
    "b3 = Batch(**_TREE_DATA_3)\n",
    "%timeit copy.deepcopy(b3)"
   ]
  },
  {
   "cell_type": "markdown",
   "id": "223162fb",
   "metadata": {},
   "source": [
    "## Stack, Concat and Split Operation"
   ]
  },
  {
   "cell_type": "markdown",
   "id": "85fa4a73",
   "metadata": {},
   "source": [
    "### Performance of TreeValue"
   ]
  },
  {
   "cell_type": "code",
   "execution_count": 19,
   "id": "a0c2b697",
   "metadata": {
    "execution": {
     "iopub.execute_input": "2023-03-06T18:31:46.548035Z",
     "iopub.status.busy": "2023-03-06T18:31:46.547614Z",
     "iopub.status.idle": "2023-03-06T18:31:46.552381Z",
     "shell.execute_reply": "2023-03-06T18:31:46.551311Z"
    }
   },
   "outputs": [],
   "source": [
    "trees = [FastTreeValue(_TREE_DATA_2) for _ in range(8)]"
   ]
  },
  {
   "cell_type": "code",
   "execution_count": 20,
   "id": "017ea5a5",
   "metadata": {
    "execution": {
     "iopub.execute_input": "2023-03-06T18:31:46.555142Z",
     "iopub.status.busy": "2023-03-06T18:31:46.554750Z",
     "iopub.status.idle": "2023-03-06T18:31:46.562601Z",
     "shell.execute_reply": "2023-03-06T18:31:46.561921Z"
    }
   },
   "outputs": [
    {
     "data": {
      "text/plain": [
       "<FastTreeValue 0x7f50cc0994f0>\n",
       "├── 'a' --> tensor([[[-1.0238,  1.3775, -1.0908],\n",
       "│                    [-1.3892,  2.8328,  0.4355]],\n",
       "│           \n",
       "│                   [[-1.0238,  1.3775, -1.0908],\n",
       "│                    [-1.3892,  2.8328,  0.4355]],\n",
       "│           \n",
       "│                   [[-1.0238,  1.3775, -1.0908],\n",
       "│                    [-1.3892,  2.8328,  0.4355]],\n",
       "│           \n",
       "│                   [[-1.0238,  1.3775, -1.0908],\n",
       "│                    [-1.3892,  2.8328,  0.4355]],\n",
       "│           \n",
       "│                   [[-1.0238,  1.3775, -1.0908],\n",
       "│                    [-1.3892,  2.8328,  0.4355]],\n",
       "│           \n",
       "│                   [[-1.0238,  1.3775, -1.0908],\n",
       "│                    [-1.3892,  2.8328,  0.4355]],\n",
       "│           \n",
       "│                   [[-1.0238,  1.3775, -1.0908],\n",
       "│                    [-1.3892,  2.8328,  0.4355]],\n",
       "│           \n",
       "│                   [[-1.0238,  1.3775, -1.0908],\n",
       "│                    [-1.3892,  2.8328,  0.4355]]])\n",
       "└── 'x' --> <FastTreeValue 0x7f5015359f70>\n",
       "    └── 'c' --> tensor([[[-1.2772,  2.0066, -0.2151, -0.3569],\n",
       "                         [ 1.4813, -0.5058, -1.3405, -1.7110],\n",
       "                         [ 0.9798, -0.3347, -0.7590, -0.9877]],\n",
       "                \n",
       "                        [[-1.2772,  2.0066, -0.2151, -0.3569],\n",
       "                         [ 1.4813, -0.5058, -1.3405, -1.7110],\n",
       "                         [ 0.9798, -0.3347, -0.7590, -0.9877]],\n",
       "                \n",
       "                        [[-1.2772,  2.0066, -0.2151, -0.3569],\n",
       "                         [ 1.4813, -0.5058, -1.3405, -1.7110],\n",
       "                         [ 0.9798, -0.3347, -0.7590, -0.9877]],\n",
       "                \n",
       "                        [[-1.2772,  2.0066, -0.2151, -0.3569],\n",
       "                         [ 1.4813, -0.5058, -1.3405, -1.7110],\n",
       "                         [ 0.9798, -0.3347, -0.7590, -0.9877]],\n",
       "                \n",
       "                        [[-1.2772,  2.0066, -0.2151, -0.3569],\n",
       "                         [ 1.4813, -0.5058, -1.3405, -1.7110],\n",
       "                         [ 0.9798, -0.3347, -0.7590, -0.9877]],\n",
       "                \n",
       "                        [[-1.2772,  2.0066, -0.2151, -0.3569],\n",
       "                         [ 1.4813, -0.5058, -1.3405, -1.7110],\n",
       "                         [ 0.9798, -0.3347, -0.7590, -0.9877]],\n",
       "                \n",
       "                        [[-1.2772,  2.0066, -0.2151, -0.3569],\n",
       "                         [ 1.4813, -0.5058, -1.3405, -1.7110],\n",
       "                         [ 0.9798, -0.3347, -0.7590, -0.9877]],\n",
       "                \n",
       "                        [[-1.2772,  2.0066, -0.2151, -0.3569],\n",
       "                         [ 1.4813, -0.5058, -1.3405, -1.7110],\n",
       "                         [ 0.9798, -0.3347, -0.7590, -0.9877]]])"
      ]
     },
     "execution_count": 20,
     "metadata": {},
     "output_type": "execute_result"
    }
   ],
   "source": [
    "t_stack = FastTreeValue.func(subside=True)(torch.stack)\n",
    "\n",
    "t_stack(trees)"
   ]
  },
  {
   "cell_type": "code",
   "execution_count": 21,
   "id": "f8b3f415",
   "metadata": {
    "execution": {
     "iopub.execute_input": "2023-03-06T18:31:46.564916Z",
     "iopub.status.busy": "2023-03-06T18:31:46.564439Z",
     "iopub.status.idle": "2023-03-06T18:31:49.001364Z",
     "shell.execute_reply": "2023-03-06T18:31:49.000297Z"
    }
   },
   "outputs": [
    {
     "name": "stdout",
     "output_type": "stream",
     "text": [
      "30.1 µs ± 703 ns per loop (mean ± std. dev. of 7 runs, 10,000 loops each)\n"
     ]
    }
   ],
   "source": [
    "%timeit t_stack(trees)"
   ]
  },
  {
   "cell_type": "code",
   "execution_count": 22,
   "id": "94b56771",
   "metadata": {
    "execution": {
     "iopub.execute_input": "2023-03-06T18:31:49.005750Z",
     "iopub.status.busy": "2023-03-06T18:31:49.004884Z",
     "iopub.status.idle": "2023-03-06T18:31:49.014104Z",
     "shell.execute_reply": "2023-03-06T18:31:49.013422Z"
    }
   },
   "outputs": [
    {
     "data": {
      "text/plain": [
       "<FastTreeValue 0x7f50cc0c5280>\n",
       "├── 'a' --> tensor([[-1.0238,  1.3775, -1.0908],\n",
       "│                   [-1.3892,  2.8328,  0.4355],\n",
       "│                   [-1.0238,  1.3775, -1.0908],\n",
       "│                   [-1.3892,  2.8328,  0.4355],\n",
       "│                   [-1.0238,  1.3775, -1.0908],\n",
       "│                   [-1.3892,  2.8328,  0.4355],\n",
       "│                   [-1.0238,  1.3775, -1.0908],\n",
       "│                   [-1.3892,  2.8328,  0.4355],\n",
       "│                   [-1.0238,  1.3775, -1.0908],\n",
       "│                   [-1.3892,  2.8328,  0.4355],\n",
       "│                   [-1.0238,  1.3775, -1.0908],\n",
       "│                   [-1.3892,  2.8328,  0.4355],\n",
       "│                   [-1.0238,  1.3775, -1.0908],\n",
       "│                   [-1.3892,  2.8328,  0.4355],\n",
       "│                   [-1.0238,  1.3775, -1.0908],\n",
       "│                   [-1.3892,  2.8328,  0.4355]])\n",
       "└── 'x' --> <FastTreeValue 0x7f5026be5250>\n",
       "    └── 'c' --> tensor([[-1.2772,  2.0066, -0.2151, -0.3569],\n",
       "                        [ 1.4813, -0.5058, -1.3405, -1.7110],\n",
       "                        [ 0.9798, -0.3347, -0.7590, -0.9877],\n",
       "                        [-1.2772,  2.0066, -0.2151, -0.3569],\n",
       "                        [ 1.4813, -0.5058, -1.3405, -1.7110],\n",
       "                        [ 0.9798, -0.3347, -0.7590, -0.9877],\n",
       "                        [-1.2772,  2.0066, -0.2151, -0.3569],\n",
       "                        [ 1.4813, -0.5058, -1.3405, -1.7110],\n",
       "                        [ 0.9798, -0.3347, -0.7590, -0.9877],\n",
       "                        [-1.2772,  2.0066, -0.2151, -0.3569],\n",
       "                        [ 1.4813, -0.5058, -1.3405, -1.7110],\n",
       "                        [ 0.9798, -0.3347, -0.7590, -0.9877],\n",
       "                        [-1.2772,  2.0066, -0.2151, -0.3569],\n",
       "                        [ 1.4813, -0.5058, -1.3405, -1.7110],\n",
       "                        [ 0.9798, -0.3347, -0.7590, -0.9877],\n",
       "                        [-1.2772,  2.0066, -0.2151, -0.3569],\n",
       "                        [ 1.4813, -0.5058, -1.3405, -1.7110],\n",
       "                        [ 0.9798, -0.3347, -0.7590, -0.9877],\n",
       "                        [-1.2772,  2.0066, -0.2151, -0.3569],\n",
       "                        [ 1.4813, -0.5058, -1.3405, -1.7110],\n",
       "                        [ 0.9798, -0.3347, -0.7590, -0.9877],\n",
       "                        [-1.2772,  2.0066, -0.2151, -0.3569],\n",
       "                        [ 1.4813, -0.5058, -1.3405, -1.7110],\n",
       "                        [ 0.9798, -0.3347, -0.7590, -0.9877]])"
      ]
     },
     "execution_count": 22,
     "metadata": {},
     "output_type": "execute_result"
    }
   ],
   "source": [
    "t_cat = FastTreeValue.func(subside=True)(torch.cat)\n",
    "\n",
    "t_cat(trees)"
   ]
  },
  {
   "cell_type": "code",
   "execution_count": 23,
   "id": "5e9c06a6",
   "metadata": {
    "execution": {
     "iopub.execute_input": "2023-03-06T18:31:49.016945Z",
     "iopub.status.busy": "2023-03-06T18:31:49.016611Z",
     "iopub.status.idle": "2023-03-06T18:31:51.247973Z",
     "shell.execute_reply": "2023-03-06T18:31:51.246916Z"
    }
   },
   "outputs": [
    {
     "name": "stdout",
     "output_type": "stream",
     "text": [
      "27.5 µs ± 345 ns per loop (mean ± std. dev. of 7 runs, 10,000 loops each)\n"
     ]
    }
   ],
   "source": [
    "%timeit t_cat(trees)"
   ]
  },
  {
   "cell_type": "code",
   "execution_count": 24,
   "id": "a3ab5c8f",
   "metadata": {
    "execution": {
     "iopub.execute_input": "2023-03-06T18:31:51.252339Z",
     "iopub.status.busy": "2023-03-06T18:31:51.251624Z",
     "iopub.status.idle": "2023-03-06T18:31:55.391845Z",
     "shell.execute_reply": "2023-03-06T18:31:55.390641Z"
    }
   },
   "outputs": [
    {
     "name": "stdout",
     "output_type": "stream",
     "text": [
      "51 µs ± 1.47 µs per loop (mean ± std. dev. of 7 runs, 10,000 loops each)\n"
     ]
    }
   ],
   "source": [
    "t_split = FastTreeValue.func(rise=True)(torch.split)\n",
    "tree = FastTreeValue({\n",
    "    'obs': torch.randn(8, 4, 84, 84),\n",
    "    'action': torch.randint(0, 6, size=(8, 1,)),\n",
    "    'reward': torch.rand(8, 1),\n",
    "})\n",
    "\n",
    "%timeit t_split(tree, 1)"
   ]
  },
  {
   "cell_type": "markdown",
   "id": "31c3ec0b",
   "metadata": {},
   "source": [
    "### Performance of Tianshou Batch"
   ]
  },
  {
   "cell_type": "code",
   "execution_count": 25,
   "id": "9ead828a",
   "metadata": {
    "execution": {
     "iopub.execute_input": "2023-03-06T18:31:55.395843Z",
     "iopub.status.busy": "2023-03-06T18:31:55.395612Z",
     "iopub.status.idle": "2023-03-06T18:31:55.404410Z",
     "shell.execute_reply": "2023-03-06T18:31:55.403409Z"
    }
   },
   "outputs": [
    {
     "data": {
      "text/plain": [
       "Batch(\n",
       "    x: Batch(\n",
       "           c: tensor([[[-1.2772,  2.0066, -0.2151, -0.3569],\n",
       "                       [ 1.4813, -0.5058, -1.3405, -1.7110],\n",
       "                       [ 0.9798, -0.3347, -0.7590, -0.9877]],\n",
       "              \n",
       "                      [[-1.2772,  2.0066, -0.2151, -0.3569],\n",
       "                       [ 1.4813, -0.5058, -1.3405, -1.7110],\n",
       "                       [ 0.9798, -0.3347, -0.7590, -0.9877]],\n",
       "              \n",
       "                      [[-1.2772,  2.0066, -0.2151, -0.3569],\n",
       "                       [ 1.4813, -0.5058, -1.3405, -1.7110],\n",
       "                       [ 0.9798, -0.3347, -0.7590, -0.9877]],\n",
       "              \n",
       "                      [[-1.2772,  2.0066, -0.2151, -0.3569],\n",
       "                       [ 1.4813, -0.5058, -1.3405, -1.7110],\n",
       "                       [ 0.9798, -0.3347, -0.7590, -0.9877]],\n",
       "              \n",
       "                      [[-1.2772,  2.0066, -0.2151, -0.3569],\n",
       "                       [ 1.4813, -0.5058, -1.3405, -1.7110],\n",
       "                       [ 0.9798, -0.3347, -0.7590, -0.9877]],\n",
       "              \n",
       "                      [[-1.2772,  2.0066, -0.2151, -0.3569],\n",
       "                       [ 1.4813, -0.5058, -1.3405, -1.7110],\n",
       "                       [ 0.9798, -0.3347, -0.7590, -0.9877]],\n",
       "              \n",
       "                      [[-1.2772,  2.0066, -0.2151, -0.3569],\n",
       "                       [ 1.4813, -0.5058, -1.3405, -1.7110],\n",
       "                       [ 0.9798, -0.3347, -0.7590, -0.9877]],\n",
       "              \n",
       "                      [[-1.2772,  2.0066, -0.2151, -0.3569],\n",
       "                       [ 1.4813, -0.5058, -1.3405, -1.7110],\n",
       "                       [ 0.9798, -0.3347, -0.7590, -0.9877]]]),\n",
       "       ),\n",
       "    a: tensor([[[-1.0238,  1.3775, -1.0908],\n",
       "                [-1.3892,  2.8328,  0.4355]],\n",
       "       \n",
       "               [[-1.0238,  1.3775, -1.0908],\n",
       "                [-1.3892,  2.8328,  0.4355]],\n",
       "       \n",
       "               [[-1.0238,  1.3775, -1.0908],\n",
       "                [-1.3892,  2.8328,  0.4355]],\n",
       "       \n",
       "               [[-1.0238,  1.3775, -1.0908],\n",
       "                [-1.3892,  2.8328,  0.4355]],\n",
       "       \n",
       "               [[-1.0238,  1.3775, -1.0908],\n",
       "                [-1.3892,  2.8328,  0.4355]],\n",
       "       \n",
       "               [[-1.0238,  1.3775, -1.0908],\n",
       "                [-1.3892,  2.8328,  0.4355]],\n",
       "       \n",
       "               [[-1.0238,  1.3775, -1.0908],\n",
       "                [-1.3892,  2.8328,  0.4355]],\n",
       "       \n",
       "               [[-1.0238,  1.3775, -1.0908],\n",
       "                [-1.3892,  2.8328,  0.4355]]]),\n",
       ")"
      ]
     },
     "execution_count": 25,
     "metadata": {},
     "output_type": "execute_result"
    }
   ],
   "source": [
    "batches = [Batch(**_TREE_DATA_2) for _ in range(8)]\n",
    "\n",
    "Batch.stack(batches)"
   ]
  },
  {
   "cell_type": "code",
   "execution_count": 26,
   "id": "ec9037a3",
   "metadata": {
    "execution": {
     "iopub.execute_input": "2023-03-06T18:31:55.407090Z",
     "iopub.status.busy": "2023-03-06T18:31:55.406642Z",
     "iopub.status.idle": "2023-03-06T18:32:01.163808Z",
     "shell.execute_reply": "2023-03-06T18:32:01.163028Z"
    }
   },
   "outputs": [
    {
     "name": "stdout",
     "output_type": "stream",
     "text": [
      "71 µs ± 931 ns per loop (mean ± std. dev. of 7 runs, 10,000 loops each)\n"
     ]
    }
   ],
   "source": [
    "%timeit Batch.stack(batches)"
   ]
  },
  {
   "cell_type": "code",
   "execution_count": 27,
   "id": "cb8ab77e",
   "metadata": {
    "execution": {
     "iopub.execute_input": "2023-03-06T18:32:01.166779Z",
     "iopub.status.busy": "2023-03-06T18:32:01.166196Z",
     "iopub.status.idle": "2023-03-06T18:32:01.174240Z",
     "shell.execute_reply": "2023-03-06T18:32:01.172917Z"
    }
   },
   "outputs": [
    {
     "data": {
      "text/plain": [
       "Batch(\n",
       "    x: Batch(\n",
       "           c: tensor([[-1.2772,  2.0066, -0.2151, -0.3569],\n",
       "                      [ 1.4813, -0.5058, -1.3405, -1.7110],\n",
       "                      [ 0.9798, -0.3347, -0.7590, -0.9877],\n",
       "                      [-1.2772,  2.0066, -0.2151, -0.3569],\n",
       "                      [ 1.4813, -0.5058, -1.3405, -1.7110],\n",
       "                      [ 0.9798, -0.3347, -0.7590, -0.9877],\n",
       "                      [-1.2772,  2.0066, -0.2151, -0.3569],\n",
       "                      [ 1.4813, -0.5058, -1.3405, -1.7110],\n",
       "                      [ 0.9798, -0.3347, -0.7590, -0.9877],\n",
       "                      [-1.2772,  2.0066, -0.2151, -0.3569],\n",
       "                      [ 1.4813, -0.5058, -1.3405, -1.7110],\n",
       "                      [ 0.9798, -0.3347, -0.7590, -0.9877],\n",
       "                      [-1.2772,  2.0066, -0.2151, -0.3569],\n",
       "                      [ 1.4813, -0.5058, -1.3405, -1.7110],\n",
       "                      [ 0.9798, -0.3347, -0.7590, -0.9877],\n",
       "                      [-1.2772,  2.0066, -0.2151, -0.3569],\n",
       "                      [ 1.4813, -0.5058, -1.3405, -1.7110],\n",
       "                      [ 0.9798, -0.3347, -0.7590, -0.9877],\n",
       "                      [-1.2772,  2.0066, -0.2151, -0.3569],\n",
       "                      [ 1.4813, -0.5058, -1.3405, -1.7110],\n",
       "                      [ 0.9798, -0.3347, -0.7590, -0.9877],\n",
       "                      [-1.2772,  2.0066, -0.2151, -0.3569],\n",
       "                      [ 1.4813, -0.5058, -1.3405, -1.7110],\n",
       "                      [ 0.9798, -0.3347, -0.7590, -0.9877]]),\n",
       "       ),\n",
       "    a: tensor([[-1.0238,  1.3775, -1.0908],\n",
       "               [-1.3892,  2.8328,  0.4355],\n",
       "               [-1.0238,  1.3775, -1.0908],\n",
       "               [-1.3892,  2.8328,  0.4355],\n",
       "               [-1.0238,  1.3775, -1.0908],\n",
       "               [-1.3892,  2.8328,  0.4355],\n",
       "               [-1.0238,  1.3775, -1.0908],\n",
       "               [-1.3892,  2.8328,  0.4355],\n",
       "               [-1.0238,  1.3775, -1.0908],\n",
       "               [-1.3892,  2.8328,  0.4355],\n",
       "               [-1.0238,  1.3775, -1.0908],\n",
       "               [-1.3892,  2.8328,  0.4355],\n",
       "               [-1.0238,  1.3775, -1.0908],\n",
       "               [-1.3892,  2.8328,  0.4355],\n",
       "               [-1.0238,  1.3775, -1.0908],\n",
       "               [-1.3892,  2.8328,  0.4355]]),\n",
       ")"
      ]
     },
     "execution_count": 27,
     "metadata": {},
     "output_type": "execute_result"
    }
   ],
   "source": [
    "Batch.cat(batches)"
   ]
  },
  {
   "cell_type": "code",
   "execution_count": 28,
   "id": "18dfb045",
   "metadata": {
    "execution": {
     "iopub.execute_input": "2023-03-06T18:32:01.177087Z",
     "iopub.status.busy": "2023-03-06T18:32:01.176530Z",
     "iopub.status.idle": "2023-03-06T18:32:13.602788Z",
     "shell.execute_reply": "2023-03-06T18:32:13.601731Z"
    }
   },
   "outputs": [
    {
     "name": "stdout",
     "output_type": "stream",
     "text": [
      "153 µs ± 2.77 µs per loop (mean ± std. dev. of 7 runs, 10,000 loops each)\n"
     ]
    }
   ],
   "source": [
    "%timeit Batch.cat(batches)"
   ]
  },
  {
   "cell_type": "code",
   "execution_count": 29,
   "id": "c6688e51",
   "metadata": {
    "execution": {
     "iopub.execute_input": "2023-03-06T18:32:13.606045Z",
     "iopub.status.busy": "2023-03-06T18:32:13.605628Z",
     "iopub.status.idle": "2023-03-06T18:32:16.155821Z",
     "shell.execute_reply": "2023-03-06T18:32:16.155084Z"
    }
   },
   "outputs": [
    {
     "name": "stdout",
     "output_type": "stream",
     "text": [
      "314 µs ± 7.8 µs per loop (mean ± std. dev. of 7 runs, 1,000 loops each)\n"
     ]
    }
   ],
   "source": [
    "batch = Batch({\n",
    "    'obs': torch.randn(8, 4, 84, 84),\n",
    "    'action': torch.randint(0, 6, size=(8, 1,)),\n",
    "    'reward': torch.rand(8, 1)}\n",
    ")\n",
    "\n",
    "%timeit list(Batch.split(batch, 1, shuffle=False, merge_last=True))"
   ]
  },
  {
   "cell_type": "code",
   "execution_count": null,
   "id": "2539fbd9",
   "metadata": {},
   "outputs": [],
   "source": []
  }
 ],
 "metadata": {
  "kernelspec": {
   "display_name": "Python 3 (ipykernel)",
   "language": "python",
   "name": "python3"
  },
  "language_info": {
   "codemirror_mode": {
    "name": "ipython",
    "version": 3
   },
   "file_extension": ".py",
   "mimetype": "text/x-python",
   "name": "python",
   "nbconvert_exporter": "python",
   "pygments_lexer": "ipython3",
   "version": "3.8.16"
  }
 },
 "nbformat": 4,
 "nbformat_minor": 5
}
