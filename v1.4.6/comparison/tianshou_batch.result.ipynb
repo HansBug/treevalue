{
 "cells": [
  {
   "cell_type": "markdown",
   "id": "9d39d946",
   "metadata": {},
   "source": [
    "# Comparison Between TreeValue and Tianshou Batch"
   ]
  },
  {
   "cell_type": "markdown",
   "id": "3c6db2d4",
   "metadata": {},
   "source": [
    "In this section, we will take a look at the feature and performance of the [Tianshou Batch](https://github.com/thu-ml/tianshou) library, which is developed by Tsinghua Machine Learning Group."
   ]
  },
  {
   "cell_type": "markdown",
   "id": "069361b0",
   "metadata": {},
   "source": [
    "Before starting the comparison, let us define some thing."
   ]
  },
  {
   "cell_type": "code",
   "execution_count": 1,
   "id": "06fc8d26",
   "metadata": {
    "execution": {
     "iopub.execute_input": "2023-04-16T14:56:11.230886Z",
     "iopub.status.busy": "2023-04-16T14:56:11.230521Z",
     "iopub.status.idle": "2023-04-16T14:56:12.564898Z",
     "shell.execute_reply": "2023-04-16T14:56:12.564213Z"
    }
   },
   "outputs": [],
   "source": [
    "import torch \n",
    "\n",
    "_TREE_DATA_1 = {'a': 1, 'b': 2, 'x': {'c': 3, 'd': 4}}\n",
    "_TREE_DATA_2 = {\n",
    "    'a': torch.randn(2, 3), \n",
    "    'x': {\n",
    "        'c': torch.randn(3, 4)\n",
    "    },\n",
    "}\n",
    "_TREE_DATA_3 = {\n",
    "    'obs': torch.randn(4, 84, 84),\n",
    "    'action': torch.randint(0, 6, size=(1,)),\n",
    "    'reward': torch.rand(1),\n",
    "}"
   ]
  },
  {
   "cell_type": "markdown",
   "id": "83461b25",
   "metadata": {},
   "source": [
    "## Read and Write Operation"
   ]
  },
  {
   "cell_type": "markdown",
   "id": "067b3f73",
   "metadata": {},
   "source": [
    "Reading and writing are the two most common operations in the tree data structure based on the data model (TreeValue and Tianshou Batch both belong to this type), so this section will compare the reading and writing performance of these two libraries."
   ]
  },
  {
   "cell_type": "markdown",
   "id": "5d09a5b7",
   "metadata": {},
   "source": [
    "### TreeValue's Get and Set"
   ]
  },
  {
   "cell_type": "code",
   "execution_count": 2,
   "id": "9519c4bb",
   "metadata": {
    "execution": {
     "iopub.execute_input": "2023-04-16T14:56:12.568835Z",
     "iopub.status.busy": "2023-04-16T14:56:12.568317Z",
     "iopub.status.idle": "2023-04-16T14:56:12.842777Z",
     "shell.execute_reply": "2023-04-16T14:56:12.842088Z"
    }
   },
   "outputs": [],
   "source": [
    "from treevalue import FastTreeValue\n",
    "\n",
    "t = FastTreeValue(_TREE_DATA_2)"
   ]
  },
  {
   "cell_type": "code",
   "execution_count": 3,
   "id": "11c37677",
   "metadata": {
    "execution": {
     "iopub.execute_input": "2023-04-16T14:56:12.846633Z",
     "iopub.status.busy": "2023-04-16T14:56:12.846008Z",
     "iopub.status.idle": "2023-04-16T14:56:12.855845Z",
     "shell.execute_reply": "2023-04-16T14:56:12.854191Z"
    }
   },
   "outputs": [
    {
     "data": {
      "text/plain": [
       "<FastTreeValue 0x7fd07c2b8dc0>\n",
       "├── 'a' --> tensor([[ 0.6715, -0.8230, -0.3787],\n",
       "│                   [-2.0332, -0.2442, -1.3473]])\n",
       "└── 'x' --> <FastTreeValue 0x7fd07c2b8eb0>\n",
       "    └── 'c' --> tensor([[ 0.3788,  0.6585, -1.5809,  0.4690],\n",
       "                        [ 2.2048, -0.2737,  0.9817,  0.4693],\n",
       "                        [ 0.3709, -0.4852,  1.5215,  1.4743]])"
      ]
     },
     "execution_count": 3,
     "metadata": {},
     "output_type": "execute_result"
    }
   ],
   "source": [
    "t"
   ]
  },
  {
   "cell_type": "code",
   "execution_count": 4,
   "id": "fd70b0b9",
   "metadata": {
    "execution": {
     "iopub.execute_input": "2023-04-16T14:56:12.858717Z",
     "iopub.status.busy": "2023-04-16T14:56:12.858500Z",
     "iopub.status.idle": "2023-04-16T14:56:12.863288Z",
     "shell.execute_reply": "2023-04-16T14:56:12.862659Z"
    }
   },
   "outputs": [
    {
     "data": {
      "text/plain": [
       "tensor([[ 0.6715, -0.8230, -0.3787],\n",
       "        [-2.0332, -0.2442, -1.3473]])"
      ]
     },
     "execution_count": 4,
     "metadata": {},
     "output_type": "execute_result"
    }
   ],
   "source": [
    "t.a"
   ]
  },
  {
   "cell_type": "code",
   "execution_count": 5,
   "id": "c18197bd",
   "metadata": {
    "execution": {
     "iopub.execute_input": "2023-04-16T14:56:12.866272Z",
     "iopub.status.busy": "2023-04-16T14:56:12.866043Z",
     "iopub.status.idle": "2023-04-16T14:56:17.731080Z",
     "shell.execute_reply": "2023-04-16T14:56:17.730493Z"
    }
   },
   "outputs": [
    {
     "name": "stdout",
     "output_type": "stream",
     "text": [
      "59.9 ns ± 0.0671 ns per loop (mean ± std. dev. of 7 runs, 10,000,000 loops each)\n"
     ]
    }
   ],
   "source": [
    "%timeit t.a"
   ]
  },
  {
   "cell_type": "code",
   "execution_count": 6,
   "id": "bd52f867",
   "metadata": {
    "execution": {
     "iopub.execute_input": "2023-04-16T14:56:17.734084Z",
     "iopub.status.busy": "2023-04-16T14:56:17.733485Z",
     "iopub.status.idle": "2023-04-16T14:56:17.739624Z",
     "shell.execute_reply": "2023-04-16T14:56:17.738973Z"
    }
   },
   "outputs": [
    {
     "data": {
      "text/plain": [
       "<FastTreeValue 0x7fd07c2b8dc0>\n",
       "├── 'a' --> tensor([[ 0.3270, -0.0403,  1.5510],\n",
       "│                   [-0.2826,  1.3432,  0.6200]])\n",
       "└── 'x' --> <FastTreeValue 0x7fd07c2b8eb0>\n",
       "    └── 'c' --> tensor([[ 0.3788,  0.6585, -1.5809,  0.4690],\n",
       "                        [ 2.2048, -0.2737,  0.9817,  0.4693],\n",
       "                        [ 0.3709, -0.4852,  1.5215,  1.4743]])"
      ]
     },
     "execution_count": 6,
     "metadata": {},
     "output_type": "execute_result"
    }
   ],
   "source": [
    "new_value = torch.randn(2, 3)\n",
    "t.a = new_value\n",
    "\n",
    "t"
   ]
  },
  {
   "cell_type": "code",
   "execution_count": 7,
   "id": "bbe04d1c",
   "metadata": {
    "execution": {
     "iopub.execute_input": "2023-04-16T14:56:17.742447Z",
     "iopub.status.busy": "2023-04-16T14:56:17.742089Z",
     "iopub.status.idle": "2023-04-16T14:56:22.744498Z",
     "shell.execute_reply": "2023-04-16T14:56:22.743436Z"
    }
   },
   "outputs": [
    {
     "name": "stdout",
     "output_type": "stream",
     "text": [
      "61.7 ns ± 0.0219 ns per loop (mean ± std. dev. of 7 runs, 10,000,000 loops each)\n"
     ]
    }
   ],
   "source": [
    "%timeit t.a = new_value"
   ]
  },
  {
   "cell_type": "markdown",
   "id": "48c49731",
   "metadata": {},
   "source": [
    "### Tianshou Batch's Get and Set"
   ]
  },
  {
   "cell_type": "code",
   "execution_count": 8,
   "id": "f1bb14c1",
   "metadata": {
    "execution": {
     "iopub.execute_input": "2023-04-16T14:56:22.747708Z",
     "iopub.status.busy": "2023-04-16T14:56:22.747332Z",
     "iopub.status.idle": "2023-04-16T14:56:23.112974Z",
     "shell.execute_reply": "2023-04-16T14:56:23.112293Z"
    }
   },
   "outputs": [],
   "source": [
    "from tianshou.data import Batch\n",
    "\n",
    "b = Batch(**_TREE_DATA_2)"
   ]
  },
  {
   "cell_type": "code",
   "execution_count": 9,
   "id": "cb0777c3",
   "metadata": {
    "execution": {
     "iopub.execute_input": "2023-04-16T14:56:23.116521Z",
     "iopub.status.busy": "2023-04-16T14:56:23.115819Z",
     "iopub.status.idle": "2023-04-16T14:56:23.121419Z",
     "shell.execute_reply": "2023-04-16T14:56:23.120779Z"
    }
   },
   "outputs": [
    {
     "data": {
      "text/plain": [
       "Batch(\n",
       "    a: tensor([[ 0.6715, -0.8230, -0.3787],\n",
       "               [-2.0332, -0.2442, -1.3473]]),\n",
       "    x: Batch(\n",
       "           c: tensor([[ 0.3788,  0.6585, -1.5809,  0.4690],\n",
       "                      [ 2.2048, -0.2737,  0.9817,  0.4693],\n",
       "                      [ 0.3709, -0.4852,  1.5215,  1.4743]]),\n",
       "       ),\n",
       ")"
      ]
     },
     "execution_count": 9,
     "metadata": {},
     "output_type": "execute_result"
    }
   ],
   "source": [
    "b"
   ]
  },
  {
   "cell_type": "code",
   "execution_count": 10,
   "id": "43ef8ea3",
   "metadata": {
    "execution": {
     "iopub.execute_input": "2023-04-16T14:56:23.124468Z",
     "iopub.status.busy": "2023-04-16T14:56:23.123890Z",
     "iopub.status.idle": "2023-04-16T14:56:23.128590Z",
     "shell.execute_reply": "2023-04-16T14:56:23.127976Z"
    }
   },
   "outputs": [
    {
     "data": {
      "text/plain": [
       "tensor([[ 0.6715, -0.8230, -0.3787],\n",
       "        [-2.0332, -0.2442, -1.3473]])"
      ]
     },
     "execution_count": 10,
     "metadata": {},
     "output_type": "execute_result"
    }
   ],
   "source": [
    "b.a"
   ]
  },
  {
   "cell_type": "code",
   "execution_count": 11,
   "id": "b785ab72",
   "metadata": {
    "execution": {
     "iopub.execute_input": "2023-04-16T14:56:23.131363Z",
     "iopub.status.busy": "2023-04-16T14:56:23.131006Z",
     "iopub.status.idle": "2023-04-16T14:56:27.663986Z",
     "shell.execute_reply": "2023-04-16T14:56:27.662925Z"
    }
   },
   "outputs": [
    {
     "name": "stdout",
     "output_type": "stream",
     "text": [
      "56 ns ± 0.0438 ns per loop (mean ± std. dev. of 7 runs, 10,000,000 loops each)\n"
     ]
    }
   ],
   "source": [
    "%timeit b.a"
   ]
  },
  {
   "cell_type": "code",
   "execution_count": 12,
   "id": "ad54dc69",
   "metadata": {
    "execution": {
     "iopub.execute_input": "2023-04-16T14:56:27.667357Z",
     "iopub.status.busy": "2023-04-16T14:56:27.666808Z",
     "iopub.status.idle": "2023-04-16T14:56:27.672631Z",
     "shell.execute_reply": "2023-04-16T14:56:27.671975Z"
    }
   },
   "outputs": [
    {
     "data": {
      "text/plain": [
       "Batch(\n",
       "    a: tensor([[ 1.0252, -1.0952, -0.8525],\n",
       "               [-1.0536, -0.8450,  2.2696]]),\n",
       "    x: Batch(\n",
       "           c: tensor([[ 0.3788,  0.6585, -1.5809,  0.4690],\n",
       "                      [ 2.2048, -0.2737,  0.9817,  0.4693],\n",
       "                      [ 0.3709, -0.4852,  1.5215,  1.4743]]),\n",
       "       ),\n",
       ")"
      ]
     },
     "execution_count": 12,
     "metadata": {},
     "output_type": "execute_result"
    }
   ],
   "source": [
    "new_value = torch.randn(2, 3)\n",
    "b.a = new_value\n",
    "\n",
    "b"
   ]
  },
  {
   "cell_type": "code",
   "execution_count": 13,
   "id": "29b1d0bf",
   "metadata": {
    "execution": {
     "iopub.execute_input": "2023-04-16T14:56:27.675406Z",
     "iopub.status.busy": "2023-04-16T14:56:27.675040Z",
     "iopub.status.idle": "2023-04-16T14:56:31.625963Z",
     "shell.execute_reply": "2023-04-16T14:56:31.625380Z"
    }
   },
   "outputs": [
    {
     "name": "stdout",
     "output_type": "stream",
     "text": [
      "486 ns ± 0.0844 ns per loop (mean ± std. dev. of 7 runs, 1,000,000 loops each)\n"
     ]
    }
   ],
   "source": [
    "%timeit b.a = new_value"
   ]
  },
  {
   "cell_type": "markdown",
   "id": "b61ad1d0",
   "metadata": {},
   "source": [
    "## Initialization"
   ]
  },
  {
   "cell_type": "markdown",
   "id": "d70f0d54",
   "metadata": {},
   "source": [
    "### TreeValue's Initialization"
   ]
  },
  {
   "cell_type": "code",
   "execution_count": 14,
   "id": "d32a679b",
   "metadata": {
    "execution": {
     "iopub.execute_input": "2023-04-16T14:56:31.629199Z",
     "iopub.status.busy": "2023-04-16T14:56:31.628564Z",
     "iopub.status.idle": "2023-04-16T14:56:38.301097Z",
     "shell.execute_reply": "2023-04-16T14:56:38.300356Z"
    }
   },
   "outputs": [
    {
     "name": "stdout",
     "output_type": "stream",
     "text": [
      "822 ns ± 0.152 ns per loop (mean ± std. dev. of 7 runs, 1,000,000 loops each)\n"
     ]
    }
   ],
   "source": [
    "%timeit FastTreeValue(_TREE_DATA_1)"
   ]
  },
  {
   "cell_type": "markdown",
   "id": "24f3707b",
   "metadata": {},
   "source": [
    "### Tianshou Batch's Initialization"
   ]
  },
  {
   "cell_type": "code",
   "execution_count": 15,
   "id": "ac3958df",
   "metadata": {
    "execution": {
     "iopub.execute_input": "2023-04-16T14:56:38.304459Z",
     "iopub.status.busy": "2023-04-16T14:56:38.303878Z",
     "iopub.status.idle": "2023-04-16T14:56:47.464702Z",
     "shell.execute_reply": "2023-04-16T14:56:47.463929Z"
    }
   },
   "outputs": [
    {
     "name": "stdout",
     "output_type": "stream",
     "text": [
      "11.3 µs ± 20.3 ns per loop (mean ± std. dev. of 7 runs, 100,000 loops each)\n"
     ]
    }
   ],
   "source": [
    "%timeit Batch(**_TREE_DATA_1)"
   ]
  },
  {
   "cell_type": "markdown",
   "id": "1ab82e2d",
   "metadata": {},
   "source": [
    "## Deep Copy Operation"
   ]
  },
  {
   "cell_type": "code",
   "execution_count": 16,
   "id": "210a9442",
   "metadata": {
    "execution": {
     "iopub.execute_input": "2023-04-16T14:56:47.468120Z",
     "iopub.status.busy": "2023-04-16T14:56:47.467489Z",
     "iopub.status.idle": "2023-04-16T14:56:47.470865Z",
     "shell.execute_reply": "2023-04-16T14:56:47.470166Z"
    }
   },
   "outputs": [],
   "source": [
    "import copy"
   ]
  },
  {
   "cell_type": "markdown",
   "id": "5a736274",
   "metadata": {},
   "source": [
    "### Deep Copy of TreeValue"
   ]
  },
  {
   "cell_type": "code",
   "execution_count": 17,
   "id": "f9bcadd6",
   "metadata": {
    "execution": {
     "iopub.execute_input": "2023-04-16T14:56:47.474138Z",
     "iopub.status.busy": "2023-04-16T14:56:47.473778Z",
     "iopub.status.idle": "2023-04-16T14:56:58.840583Z",
     "shell.execute_reply": "2023-04-16T14:56:58.839993Z"
    }
   },
   "outputs": [
    {
     "name": "stdout",
     "output_type": "stream",
     "text": [
      "140 µs ± 674 ns per loop (mean ± std. dev. of 7 runs, 10,000 loops each)\n"
     ]
    }
   ],
   "source": [
    "t3 = FastTreeValue(_TREE_DATA_3)\n",
    "%timeit copy.deepcopy(t3)"
   ]
  },
  {
   "cell_type": "markdown",
   "id": "bf8be7ea",
   "metadata": {},
   "source": [
    "### Deep Copy of Tianshou Batch"
   ]
  },
  {
   "cell_type": "code",
   "execution_count": 18,
   "id": "91998e6f",
   "metadata": {
    "execution": {
     "iopub.execute_input": "2023-04-16T14:56:58.844389Z",
     "iopub.status.busy": "2023-04-16T14:56:58.843884Z",
     "iopub.status.idle": "2023-04-16T14:57:10.335032Z",
     "shell.execute_reply": "2023-04-16T14:57:10.334455Z"
    }
   },
   "outputs": [
    {
     "name": "stdout",
     "output_type": "stream",
     "text": [
      "142 µs ± 496 ns per loop (mean ± std. dev. of 7 runs, 10,000 loops each)\n"
     ]
    }
   ],
   "source": [
    "b3 = Batch(**_TREE_DATA_3)\n",
    "%timeit copy.deepcopy(b3)"
   ]
  },
  {
   "cell_type": "markdown",
   "id": "223162fb",
   "metadata": {},
   "source": [
    "## Stack, Concat and Split Operation"
   ]
  },
  {
   "cell_type": "markdown",
   "id": "85fa4a73",
   "metadata": {},
   "source": [
    "### Performance of TreeValue"
   ]
  },
  {
   "cell_type": "code",
   "execution_count": 19,
   "id": "a0c2b697",
   "metadata": {
    "execution": {
     "iopub.execute_input": "2023-04-16T14:57:10.339838Z",
     "iopub.status.busy": "2023-04-16T14:57:10.338335Z",
     "iopub.status.idle": "2023-04-16T14:57:10.343211Z",
     "shell.execute_reply": "2023-04-16T14:57:10.342610Z"
    }
   },
   "outputs": [],
   "source": [
    "trees = [FastTreeValue(_TREE_DATA_2) for _ in range(8)]"
   ]
  },
  {
   "cell_type": "code",
   "execution_count": 20,
   "id": "017ea5a5",
   "metadata": {
    "execution": {
     "iopub.execute_input": "2023-04-16T14:57:10.346301Z",
     "iopub.status.busy": "2023-04-16T14:57:10.346073Z",
     "iopub.status.idle": "2023-04-16T14:57:10.353283Z",
     "shell.execute_reply": "2023-04-16T14:57:10.352650Z"
    }
   },
   "outputs": [
    {
     "data": {
      "text/plain": [
       "<FastTreeValue 0x7fcfa7b295b0>\n",
       "├── 'a' --> tensor([[[ 0.6715, -0.8230, -0.3787],\n",
       "│                    [-2.0332, -0.2442, -1.3473]],\n",
       "│           \n",
       "│                   [[ 0.6715, -0.8230, -0.3787],\n",
       "│                    [-2.0332, -0.2442, -1.3473]],\n",
       "│           \n",
       "│                   [[ 0.6715, -0.8230, -0.3787],\n",
       "│                    [-2.0332, -0.2442, -1.3473]],\n",
       "│           \n",
       "│                   [[ 0.6715, -0.8230, -0.3787],\n",
       "│                    [-2.0332, -0.2442, -1.3473]],\n",
       "│           \n",
       "│                   [[ 0.6715, -0.8230, -0.3787],\n",
       "│                    [-2.0332, -0.2442, -1.3473]],\n",
       "│           \n",
       "│                   [[ 0.6715, -0.8230, -0.3787],\n",
       "│                    [-2.0332, -0.2442, -1.3473]],\n",
       "│           \n",
       "│                   [[ 0.6715, -0.8230, -0.3787],\n",
       "│                    [-2.0332, -0.2442, -1.3473]],\n",
       "│           \n",
       "│                   [[ 0.6715, -0.8230, -0.3787],\n",
       "│                    [-2.0332, -0.2442, -1.3473]]])\n",
       "└── 'x' --> <FastTreeValue 0x7fd0802ea3d0>\n",
       "    └── 'c' --> tensor([[[ 0.3788,  0.6585, -1.5809,  0.4690],\n",
       "                         [ 2.2048, -0.2737,  0.9817,  0.4693],\n",
       "                         [ 0.3709, -0.4852,  1.5215,  1.4743]],\n",
       "                \n",
       "                        [[ 0.3788,  0.6585, -1.5809,  0.4690],\n",
       "                         [ 2.2048, -0.2737,  0.9817,  0.4693],\n",
       "                         [ 0.3709, -0.4852,  1.5215,  1.4743]],\n",
       "                \n",
       "                        [[ 0.3788,  0.6585, -1.5809,  0.4690],\n",
       "                         [ 2.2048, -0.2737,  0.9817,  0.4693],\n",
       "                         [ 0.3709, -0.4852,  1.5215,  1.4743]],\n",
       "                \n",
       "                        [[ 0.3788,  0.6585, -1.5809,  0.4690],\n",
       "                         [ 2.2048, -0.2737,  0.9817,  0.4693],\n",
       "                         [ 0.3709, -0.4852,  1.5215,  1.4743]],\n",
       "                \n",
       "                        [[ 0.3788,  0.6585, -1.5809,  0.4690],\n",
       "                         [ 2.2048, -0.2737,  0.9817,  0.4693],\n",
       "                         [ 0.3709, -0.4852,  1.5215,  1.4743]],\n",
       "                \n",
       "                        [[ 0.3788,  0.6585, -1.5809,  0.4690],\n",
       "                         [ 2.2048, -0.2737,  0.9817,  0.4693],\n",
       "                         [ 0.3709, -0.4852,  1.5215,  1.4743]],\n",
       "                \n",
       "                        [[ 0.3788,  0.6585, -1.5809,  0.4690],\n",
       "                         [ 2.2048, -0.2737,  0.9817,  0.4693],\n",
       "                         [ 0.3709, -0.4852,  1.5215,  1.4743]],\n",
       "                \n",
       "                        [[ 0.3788,  0.6585, -1.5809,  0.4690],\n",
       "                         [ 2.2048, -0.2737,  0.9817,  0.4693],\n",
       "                         [ 0.3709, -0.4852,  1.5215,  1.4743]]])"
      ]
     },
     "execution_count": 20,
     "metadata": {},
     "output_type": "execute_result"
    }
   ],
   "source": [
    "t_stack = FastTreeValue.func(subside=True)(torch.stack)\n",
    "\n",
    "t_stack(trees)"
   ]
  },
  {
   "cell_type": "code",
   "execution_count": 21,
   "id": "f8b3f415",
   "metadata": {
    "execution": {
     "iopub.execute_input": "2023-04-16T14:57:10.356127Z",
     "iopub.status.busy": "2023-04-16T14:57:10.355908Z",
     "iopub.status.idle": "2023-04-16T14:57:13.029562Z",
     "shell.execute_reply": "2023-04-16T14:57:13.028734Z"
    }
   },
   "outputs": [
    {
     "name": "stdout",
     "output_type": "stream",
     "text": [
      "32.9 µs ± 74.9 ns per loop (mean ± std. dev. of 7 runs, 10,000 loops each)\n"
     ]
    }
   ],
   "source": [
    "%timeit t_stack(trees)"
   ]
  },
  {
   "cell_type": "code",
   "execution_count": 22,
   "id": "94b56771",
   "metadata": {
    "execution": {
     "iopub.execute_input": "2023-04-16T14:57:13.033183Z",
     "iopub.status.busy": "2023-04-16T14:57:13.032948Z",
     "iopub.status.idle": "2023-04-16T14:57:13.040410Z",
     "shell.execute_reply": "2023-04-16T14:57:13.039742Z"
    }
   },
   "outputs": [
    {
     "data": {
      "text/plain": [
       "<FastTreeValue 0x7fd07c262f40>\n",
       "├── 'a' --> tensor([[ 0.6715, -0.8230, -0.3787],\n",
       "│                   [-2.0332, -0.2442, -1.3473],\n",
       "│                   [ 0.6715, -0.8230, -0.3787],\n",
       "│                   [-2.0332, -0.2442, -1.3473],\n",
       "│                   [ 0.6715, -0.8230, -0.3787],\n",
       "│                   [-2.0332, -0.2442, -1.3473],\n",
       "│                   [ 0.6715, -0.8230, -0.3787],\n",
       "│                   [-2.0332, -0.2442, -1.3473],\n",
       "│                   [ 0.6715, -0.8230, -0.3787],\n",
       "│                   [-2.0332, -0.2442, -1.3473],\n",
       "│                   [ 0.6715, -0.8230, -0.3787],\n",
       "│                   [-2.0332, -0.2442, -1.3473],\n",
       "│                   [ 0.6715, -0.8230, -0.3787],\n",
       "│                   [-2.0332, -0.2442, -1.3473],\n",
       "│                   [ 0.6715, -0.8230, -0.3787],\n",
       "│                   [-2.0332, -0.2442, -1.3473]])\n",
       "└── 'x' --> <FastTreeValue 0x7fcfa7b98f10>\n",
       "    └── 'c' --> tensor([[ 0.3788,  0.6585, -1.5809,  0.4690],\n",
       "                        [ 2.2048, -0.2737,  0.9817,  0.4693],\n",
       "                        [ 0.3709, -0.4852,  1.5215,  1.4743],\n",
       "                        [ 0.3788,  0.6585, -1.5809,  0.4690],\n",
       "                        [ 2.2048, -0.2737,  0.9817,  0.4693],\n",
       "                        [ 0.3709, -0.4852,  1.5215,  1.4743],\n",
       "                        [ 0.3788,  0.6585, -1.5809,  0.4690],\n",
       "                        [ 2.2048, -0.2737,  0.9817,  0.4693],\n",
       "                        [ 0.3709, -0.4852,  1.5215,  1.4743],\n",
       "                        [ 0.3788,  0.6585, -1.5809,  0.4690],\n",
       "                        [ 2.2048, -0.2737,  0.9817,  0.4693],\n",
       "                        [ 0.3709, -0.4852,  1.5215,  1.4743],\n",
       "                        [ 0.3788,  0.6585, -1.5809,  0.4690],\n",
       "                        [ 2.2048, -0.2737,  0.9817,  0.4693],\n",
       "                        [ 0.3709, -0.4852,  1.5215,  1.4743],\n",
       "                        [ 0.3788,  0.6585, -1.5809,  0.4690],\n",
       "                        [ 2.2048, -0.2737,  0.9817,  0.4693],\n",
       "                        [ 0.3709, -0.4852,  1.5215,  1.4743],\n",
       "                        [ 0.3788,  0.6585, -1.5809,  0.4690],\n",
       "                        [ 2.2048, -0.2737,  0.9817,  0.4693],\n",
       "                        [ 0.3709, -0.4852,  1.5215,  1.4743],\n",
       "                        [ 0.3788,  0.6585, -1.5809,  0.4690],\n",
       "                        [ 2.2048, -0.2737,  0.9817,  0.4693],\n",
       "                        [ 0.3709, -0.4852,  1.5215,  1.4743]])"
      ]
     },
     "execution_count": 22,
     "metadata": {},
     "output_type": "execute_result"
    }
   ],
   "source": [
    "t_cat = FastTreeValue.func(subside=True)(torch.cat)\n",
    "\n",
    "t_cat(trees)"
   ]
  },
  {
   "cell_type": "code",
   "execution_count": 23,
   "id": "5e9c06a6",
   "metadata": {
    "execution": {
     "iopub.execute_input": "2023-04-16T14:57:13.043667Z",
     "iopub.status.busy": "2023-04-16T14:57:13.043435Z",
     "iopub.status.idle": "2023-04-16T14:57:15.526362Z",
     "shell.execute_reply": "2023-04-16T14:57:15.525303Z"
    }
   },
   "outputs": [
    {
     "name": "stdout",
     "output_type": "stream",
     "text": [
      "30.5 µs ± 57.6 ns per loop (mean ± std. dev. of 7 runs, 10,000 loops each)\n"
     ]
    }
   ],
   "source": [
    "%timeit t_cat(trees)"
   ]
  },
  {
   "cell_type": "code",
   "execution_count": 24,
   "id": "a3ab5c8f",
   "metadata": {
    "execution": {
     "iopub.execute_input": "2023-04-16T14:57:15.529419Z",
     "iopub.status.busy": "2023-04-16T14:57:15.529059Z",
     "iopub.status.idle": "2023-04-16T14:57:20.993599Z",
     "shell.execute_reply": "2023-04-16T14:57:20.993019Z"
    }
   },
   "outputs": [
    {
     "name": "stdout",
     "output_type": "stream",
     "text": [
      "67.2 µs ± 115 ns per loop (mean ± std. dev. of 7 runs, 10,000 loops each)\n"
     ]
    }
   ],
   "source": [
    "t_split = FastTreeValue.func(rise=True)(torch.split)\n",
    "tree = FastTreeValue({\n",
    "    'obs': torch.randn(8, 4, 84, 84),\n",
    "    'action': torch.randint(0, 6, size=(8, 1,)),\n",
    "    'reward': torch.rand(8, 1),\n",
    "})\n",
    "\n",
    "%timeit t_split(tree, 1)"
   ]
  },
  {
   "cell_type": "markdown",
   "id": "31c3ec0b",
   "metadata": {},
   "source": [
    "### Performance of Tianshou Batch"
   ]
  },
  {
   "cell_type": "code",
   "execution_count": 25,
   "id": "9ead828a",
   "metadata": {
    "execution": {
     "iopub.execute_input": "2023-04-16T14:57:20.997253Z",
     "iopub.status.busy": "2023-04-16T14:57:20.996879Z",
     "iopub.status.idle": "2023-04-16T14:57:21.006018Z",
     "shell.execute_reply": "2023-04-16T14:57:21.005423Z"
    }
   },
   "outputs": [
    {
     "data": {
      "text/plain": [
       "Batch(\n",
       "    x: Batch(\n",
       "           c: tensor([[[ 0.3788,  0.6585, -1.5809,  0.4690],\n",
       "                       [ 2.2048, -0.2737,  0.9817,  0.4693],\n",
       "                       [ 0.3709, -0.4852,  1.5215,  1.4743]],\n",
       "              \n",
       "                      [[ 0.3788,  0.6585, -1.5809,  0.4690],\n",
       "                       [ 2.2048, -0.2737,  0.9817,  0.4693],\n",
       "                       [ 0.3709, -0.4852,  1.5215,  1.4743]],\n",
       "              \n",
       "                      [[ 0.3788,  0.6585, -1.5809,  0.4690],\n",
       "                       [ 2.2048, -0.2737,  0.9817,  0.4693],\n",
       "                       [ 0.3709, -0.4852,  1.5215,  1.4743]],\n",
       "              \n",
       "                      [[ 0.3788,  0.6585, -1.5809,  0.4690],\n",
       "                       [ 2.2048, -0.2737,  0.9817,  0.4693],\n",
       "                       [ 0.3709, -0.4852,  1.5215,  1.4743]],\n",
       "              \n",
       "                      [[ 0.3788,  0.6585, -1.5809,  0.4690],\n",
       "                       [ 2.2048, -0.2737,  0.9817,  0.4693],\n",
       "                       [ 0.3709, -0.4852,  1.5215,  1.4743]],\n",
       "              \n",
       "                      [[ 0.3788,  0.6585, -1.5809,  0.4690],\n",
       "                       [ 2.2048, -0.2737,  0.9817,  0.4693],\n",
       "                       [ 0.3709, -0.4852,  1.5215,  1.4743]],\n",
       "              \n",
       "                      [[ 0.3788,  0.6585, -1.5809,  0.4690],\n",
       "                       [ 2.2048, -0.2737,  0.9817,  0.4693],\n",
       "                       [ 0.3709, -0.4852,  1.5215,  1.4743]],\n",
       "              \n",
       "                      [[ 0.3788,  0.6585, -1.5809,  0.4690],\n",
       "                       [ 2.2048, -0.2737,  0.9817,  0.4693],\n",
       "                       [ 0.3709, -0.4852,  1.5215,  1.4743]]]),\n",
       "       ),\n",
       "    a: tensor([[[ 0.6715, -0.8230, -0.3787],\n",
       "                [-2.0332, -0.2442, -1.3473]],\n",
       "       \n",
       "               [[ 0.6715, -0.8230, -0.3787],\n",
       "                [-2.0332, -0.2442, -1.3473]],\n",
       "       \n",
       "               [[ 0.6715, -0.8230, -0.3787],\n",
       "                [-2.0332, -0.2442, -1.3473]],\n",
       "       \n",
       "               [[ 0.6715, -0.8230, -0.3787],\n",
       "                [-2.0332, -0.2442, -1.3473]],\n",
       "       \n",
       "               [[ 0.6715, -0.8230, -0.3787],\n",
       "                [-2.0332, -0.2442, -1.3473]],\n",
       "       \n",
       "               [[ 0.6715, -0.8230, -0.3787],\n",
       "                [-2.0332, -0.2442, -1.3473]],\n",
       "       \n",
       "               [[ 0.6715, -0.8230, -0.3787],\n",
       "                [-2.0332, -0.2442, -1.3473]],\n",
       "       \n",
       "               [[ 0.6715, -0.8230, -0.3787],\n",
       "                [-2.0332, -0.2442, -1.3473]]]),\n",
       ")"
      ]
     },
     "execution_count": 25,
     "metadata": {},
     "output_type": "execute_result"
    }
   ],
   "source": [
    "batches = [Batch(**_TREE_DATA_2) for _ in range(8)]\n",
    "\n",
    "Batch.stack(batches)"
   ]
  },
  {
   "cell_type": "code",
   "execution_count": 26,
   "id": "ec9037a3",
   "metadata": {
    "execution": {
     "iopub.execute_input": "2023-04-16T14:57:21.008916Z",
     "iopub.status.busy": "2023-04-16T14:57:21.008579Z",
     "iopub.status.idle": "2023-04-16T14:57:27.385983Z",
     "shell.execute_reply": "2023-04-16T14:57:27.385408Z"
    }
   },
   "outputs": [
    {
     "name": "stdout",
     "output_type": "stream",
     "text": [
      "78.5 µs ± 121 ns per loop (mean ± std. dev. of 7 runs, 10,000 loops each)\n"
     ]
    }
   ],
   "source": [
    "%timeit Batch.stack(batches)"
   ]
  },
  {
   "cell_type": "code",
   "execution_count": 27,
   "id": "cb8ab77e",
   "metadata": {
    "execution": {
     "iopub.execute_input": "2023-04-16T14:57:27.389119Z",
     "iopub.status.busy": "2023-04-16T14:57:27.388579Z",
     "iopub.status.idle": "2023-04-16T14:57:27.395586Z",
     "shell.execute_reply": "2023-04-16T14:57:27.394903Z"
    }
   },
   "outputs": [
    {
     "data": {
      "text/plain": [
       "Batch(\n",
       "    x: Batch(\n",
       "           c: tensor([[ 0.3788,  0.6585, -1.5809,  0.4690],\n",
       "                      [ 2.2048, -0.2737,  0.9817,  0.4693],\n",
       "                      [ 0.3709, -0.4852,  1.5215,  1.4743],\n",
       "                      [ 0.3788,  0.6585, -1.5809,  0.4690],\n",
       "                      [ 2.2048, -0.2737,  0.9817,  0.4693],\n",
       "                      [ 0.3709, -0.4852,  1.5215,  1.4743],\n",
       "                      [ 0.3788,  0.6585, -1.5809,  0.4690],\n",
       "                      [ 2.2048, -0.2737,  0.9817,  0.4693],\n",
       "                      [ 0.3709, -0.4852,  1.5215,  1.4743],\n",
       "                      [ 0.3788,  0.6585, -1.5809,  0.4690],\n",
       "                      [ 2.2048, -0.2737,  0.9817,  0.4693],\n",
       "                      [ 0.3709, -0.4852,  1.5215,  1.4743],\n",
       "                      [ 0.3788,  0.6585, -1.5809,  0.4690],\n",
       "                      [ 2.2048, -0.2737,  0.9817,  0.4693],\n",
       "                      [ 0.3709, -0.4852,  1.5215,  1.4743],\n",
       "                      [ 0.3788,  0.6585, -1.5809,  0.4690],\n",
       "                      [ 2.2048, -0.2737,  0.9817,  0.4693],\n",
       "                      [ 0.3709, -0.4852,  1.5215,  1.4743],\n",
       "                      [ 0.3788,  0.6585, -1.5809,  0.4690],\n",
       "                      [ 2.2048, -0.2737,  0.9817,  0.4693],\n",
       "                      [ 0.3709, -0.4852,  1.5215,  1.4743],\n",
       "                      [ 0.3788,  0.6585, -1.5809,  0.4690],\n",
       "                      [ 2.2048, -0.2737,  0.9817,  0.4693],\n",
       "                      [ 0.3709, -0.4852,  1.5215,  1.4743]]),\n",
       "       ),\n",
       "    a: tensor([[ 0.6715, -0.8230, -0.3787],\n",
       "               [-2.0332, -0.2442, -1.3473],\n",
       "               [ 0.6715, -0.8230, -0.3787],\n",
       "               [-2.0332, -0.2442, -1.3473],\n",
       "               [ 0.6715, -0.8230, -0.3787],\n",
       "               [-2.0332, -0.2442, -1.3473],\n",
       "               [ 0.6715, -0.8230, -0.3787],\n",
       "               [-2.0332, -0.2442, -1.3473],\n",
       "               [ 0.6715, -0.8230, -0.3787],\n",
       "               [-2.0332, -0.2442, -1.3473],\n",
       "               [ 0.6715, -0.8230, -0.3787],\n",
       "               [-2.0332, -0.2442, -1.3473],\n",
       "               [ 0.6715, -0.8230, -0.3787],\n",
       "               [-2.0332, -0.2442, -1.3473],\n",
       "               [ 0.6715, -0.8230, -0.3787],\n",
       "               [-2.0332, -0.2442, -1.3473]]),\n",
       ")"
      ]
     },
     "execution_count": 27,
     "metadata": {},
     "output_type": "execute_result"
    }
   ],
   "source": [
    "Batch.cat(batches)"
   ]
  },
  {
   "cell_type": "code",
   "execution_count": 28,
   "id": "18dfb045",
   "metadata": {
    "execution": {
     "iopub.execute_input": "2023-04-16T14:57:27.398559Z",
     "iopub.status.busy": "2023-04-16T14:57:27.398207Z",
     "iopub.status.idle": "2023-04-16T14:57:39.466590Z",
     "shell.execute_reply": "2023-04-16T14:57:39.465899Z"
    }
   },
   "outputs": [
    {
     "name": "stdout",
     "output_type": "stream",
     "text": [
      "149 µs ± 222 ns per loop (mean ± std. dev. of 7 runs, 10,000 loops each)\n"
     ]
    }
   ],
   "source": [
    "%timeit Batch.cat(batches)"
   ]
  },
  {
   "cell_type": "code",
   "execution_count": 29,
   "id": "c6688e51",
   "metadata": {
    "execution": {
     "iopub.execute_input": "2023-04-16T14:57:39.470129Z",
     "iopub.status.busy": "2023-04-16T14:57:39.469755Z",
     "iopub.status.idle": "2023-04-16T14:57:42.136796Z",
     "shell.execute_reply": "2023-04-16T14:57:42.136237Z"
    }
   },
   "outputs": [
    {
     "name": "stdout",
     "output_type": "stream",
     "text": [
      "327 µs ± 726 ns per loop (mean ± std. dev. of 7 runs, 1,000 loops each)\n"
     ]
    }
   ],
   "source": [
    "batch = Batch({\n",
    "    'obs': torch.randn(8, 4, 84, 84),\n",
    "    'action': torch.randint(0, 6, size=(8, 1,)),\n",
    "    'reward': torch.rand(8, 1)}\n",
    ")\n",
    "\n",
    "%timeit list(Batch.split(batch, 1, shuffle=False, merge_last=True))"
   ]
  },
  {
   "cell_type": "code",
   "execution_count": null,
   "id": "2539fbd9",
   "metadata": {},
   "outputs": [],
   "source": []
  }
 ],
 "metadata": {
  "kernelspec": {
   "display_name": "Python 3 (ipykernel)",
   "language": "python",
   "name": "python3"
  },
  "language_info": {
   "codemirror_mode": {
    "name": "ipython",
    "version": 3
   },
   "file_extension": ".py",
   "mimetype": "text/x-python",
   "name": "python",
   "nbconvert_exporter": "python",
   "pygments_lexer": "ipython3",
   "version": "3.8.16"
  }
 },
 "nbformat": 4,
 "nbformat_minor": 5
}
