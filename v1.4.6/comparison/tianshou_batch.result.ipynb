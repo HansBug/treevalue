{
 "cells": [
  {
   "cell_type": "markdown",
   "id": "9d39d946",
   "metadata": {},
   "source": [
    "# Comparison Between TreeValue and Tianshou Batch"
   ]
  },
  {
   "cell_type": "markdown",
   "id": "3c6db2d4",
   "metadata": {},
   "source": [
    "In this section, we will take a look at the feature and performance of the [Tianshou Batch](https://github.com/thu-ml/tianshou) library, which is developed by Tsinghua Machine Learning Group."
   ]
  },
  {
   "cell_type": "markdown",
   "id": "069361b0",
   "metadata": {},
   "source": [
    "Before starting the comparison, let us define some thing."
   ]
  },
  {
   "cell_type": "code",
   "execution_count": 1,
   "id": "06fc8d26",
   "metadata": {
    "execution": {
     "iopub.execute_input": "2023-08-14T05:30:53.729650Z",
     "iopub.status.busy": "2023-08-14T05:30:53.729104Z",
     "iopub.status.idle": "2023-08-14T05:30:55.042221Z",
     "shell.execute_reply": "2023-08-14T05:30:55.041490Z"
    }
   },
   "outputs": [],
   "source": [
    "import torch \n",
    "\n",
    "_TREE_DATA_1 = {'a': 1, 'b': 2, 'x': {'c': 3, 'd': 4}}\n",
    "_TREE_DATA_2 = {\n",
    "    'a': torch.randn(2, 3), \n",
    "    'x': {\n",
    "        'c': torch.randn(3, 4)\n",
    "    },\n",
    "}\n",
    "_TREE_DATA_3 = {\n",
    "    'obs': torch.randn(4, 84, 84),\n",
    "    'action': torch.randint(0, 6, size=(1,)),\n",
    "    'reward': torch.rand(1),\n",
    "}"
   ]
  },
  {
   "cell_type": "markdown",
   "id": "83461b25",
   "metadata": {},
   "source": [
    "## Read and Write Operation"
   ]
  },
  {
   "cell_type": "markdown",
   "id": "067b3f73",
   "metadata": {},
   "source": [
    "Reading and writing are the two most common operations in the tree data structure based on the data model (TreeValue and Tianshou Batch both belong to this type), so this section will compare the reading and writing performance of these two libraries."
   ]
  },
  {
   "cell_type": "markdown",
   "id": "5d09a5b7",
   "metadata": {},
   "source": [
    "### TreeValue's Get and Set"
   ]
  },
  {
   "cell_type": "code",
   "execution_count": 2,
   "id": "9519c4bb",
   "metadata": {
    "execution": {
     "iopub.execute_input": "2023-08-14T05:30:55.045867Z",
     "iopub.status.busy": "2023-08-14T05:30:55.045417Z",
     "iopub.status.idle": "2023-08-14T05:30:55.350666Z",
     "shell.execute_reply": "2023-08-14T05:30:55.349971Z"
    }
   },
   "outputs": [],
   "source": [
    "from treevalue import FastTreeValue\n",
    "\n",
    "t = FastTreeValue(_TREE_DATA_2)"
   ]
  },
  {
   "cell_type": "code",
   "execution_count": 3,
   "id": "11c37677",
   "metadata": {
    "execution": {
     "iopub.execute_input": "2023-08-14T05:30:55.354879Z",
     "iopub.status.busy": "2023-08-14T05:30:55.354254Z",
     "iopub.status.idle": "2023-08-14T05:30:55.364257Z",
     "shell.execute_reply": "2023-08-14T05:30:55.363565Z"
    }
   },
   "outputs": [
    {
     "data": {
      "text/plain": [
       "<FastTreeValue 0x7f3e6851ccd0>\n",
       "├── 'a' --> tensor([[-1.5924, -1.1764, -0.0293],\n",
       "│                   [-0.0476,  0.0546, -1.0612]])\n",
       "└── 'x' --> <FastTreeValue 0x7f3e6851cdc0>\n",
       "    └── 'c' --> tensor([[-0.3609, -0.6039, -1.8249,  0.8903],\n",
       "                        [ 0.9392,  0.7800, -0.7008, -1.4694],\n",
       "                        [-0.3833, -1.6897, -1.2121, -0.3682]])"
      ]
     },
     "execution_count": 3,
     "metadata": {},
     "output_type": "execute_result"
    }
   ],
   "source": [
    "t"
   ]
  },
  {
   "cell_type": "code",
   "execution_count": 4,
   "id": "fd70b0b9",
   "metadata": {
    "execution": {
     "iopub.execute_input": "2023-08-14T05:30:55.367270Z",
     "iopub.status.busy": "2023-08-14T05:30:55.366902Z",
     "iopub.status.idle": "2023-08-14T05:30:55.371948Z",
     "shell.execute_reply": "2023-08-14T05:30:55.371116Z"
    }
   },
   "outputs": [
    {
     "data": {
      "text/plain": [
       "tensor([[-1.5924, -1.1764, -0.0293],\n",
       "        [-0.0476,  0.0546, -1.0612]])"
      ]
     },
     "execution_count": 4,
     "metadata": {},
     "output_type": "execute_result"
    }
   ],
   "source": [
    "t.a"
   ]
  },
  {
   "cell_type": "code",
   "execution_count": 5,
   "id": "c18197bd",
   "metadata": {
    "execution": {
     "iopub.execute_input": "2023-08-14T05:30:55.374761Z",
     "iopub.status.busy": "2023-08-14T05:30:55.374535Z",
     "iopub.status.idle": "2023-08-14T05:31:00.523041Z",
     "shell.execute_reply": "2023-08-14T05:31:00.516948Z"
    }
   },
   "outputs": [
    {
     "name": "stdout",
     "output_type": "stream",
     "text": [
      "63.3 ns ± 0.0509 ns per loop (mean ± std. dev. of 7 runs, 10,000,000 loops each)\n"
     ]
    }
   ],
   "source": [
    "%timeit t.a"
   ]
  },
  {
   "cell_type": "code",
   "execution_count": 6,
   "id": "bd52f867",
   "metadata": {
    "execution": {
     "iopub.execute_input": "2023-08-14T05:31:00.526839Z",
     "iopub.status.busy": "2023-08-14T05:31:00.526451Z",
     "iopub.status.idle": "2023-08-14T05:31:00.534049Z",
     "shell.execute_reply": "2023-08-14T05:31:00.533427Z"
    }
   },
   "outputs": [
    {
     "data": {
      "text/plain": [
       "<FastTreeValue 0x7f3e6851ccd0>\n",
       "├── 'a' --> tensor([[-1.9698,  0.1596,  0.0916],\n",
       "│                   [ 1.1979,  1.4754,  0.3535]])\n",
       "└── 'x' --> <FastTreeValue 0x7f3e6851cdc0>\n",
       "    └── 'c' --> tensor([[-0.3609, -0.6039, -1.8249,  0.8903],\n",
       "                        [ 0.9392,  0.7800, -0.7008, -1.4694],\n",
       "                        [-0.3833, -1.6897, -1.2121, -0.3682]])"
      ]
     },
     "execution_count": 6,
     "metadata": {},
     "output_type": "execute_result"
    }
   ],
   "source": [
    "new_value = torch.randn(2, 3)\n",
    "t.a = new_value\n",
    "\n",
    "t"
   ]
  },
  {
   "cell_type": "code",
   "execution_count": 7,
   "id": "bbe04d1c",
   "metadata": {
    "execution": {
     "iopub.execute_input": "2023-08-14T05:31:00.536838Z",
     "iopub.status.busy": "2023-08-14T05:31:00.536618Z",
     "iopub.status.idle": "2023-08-14T05:31:05.515657Z",
     "shell.execute_reply": "2023-08-14T05:31:05.515047Z"
    }
   },
   "outputs": [
    {
     "name": "stdout",
     "output_type": "stream",
     "text": [
      "61.2 ns ± 0.0297 ns per loop (mean ± std. dev. of 7 runs, 10,000,000 loops each)\n"
     ]
    }
   ],
   "source": [
    "%timeit t.a = new_value"
   ]
  },
  {
   "cell_type": "markdown",
   "id": "48c49731",
   "metadata": {},
   "source": [
    "### Tianshou Batch's Get and Set"
   ]
  },
  {
   "cell_type": "code",
   "execution_count": 8,
   "id": "f1bb14c1",
   "metadata": {
    "execution": {
     "iopub.execute_input": "2023-08-14T05:31:05.518974Z",
     "iopub.status.busy": "2023-08-14T05:31:05.518466Z",
     "iopub.status.idle": "2023-08-14T05:31:05.878629Z",
     "shell.execute_reply": "2023-08-14T05:31:05.877862Z"
    }
   },
   "outputs": [],
   "source": [
    "from tianshou.data import Batch\n",
    "\n",
    "b = Batch(**_TREE_DATA_2)"
   ]
  },
  {
   "cell_type": "code",
   "execution_count": 9,
   "id": "cb0777c3",
   "metadata": {
    "execution": {
     "iopub.execute_input": "2023-08-14T05:31:05.882146Z",
     "iopub.status.busy": "2023-08-14T05:31:05.881808Z",
     "iopub.status.idle": "2023-08-14T05:31:05.887588Z",
     "shell.execute_reply": "2023-08-14T05:31:05.886907Z"
    }
   },
   "outputs": [
    {
     "data": {
      "text/plain": [
       "Batch(\n",
       "    a: tensor([[-1.5924, -1.1764, -0.0293],\n",
       "               [-0.0476,  0.0546, -1.0612]]),\n",
       "    x: Batch(\n",
       "           c: tensor([[-0.3609, -0.6039, -1.8249,  0.8903],\n",
       "                      [ 0.9392,  0.7800, -0.7008, -1.4694],\n",
       "                      [-0.3833, -1.6897, -1.2121, -0.3682]]),\n",
       "       ),\n",
       ")"
      ]
     },
     "execution_count": 9,
     "metadata": {},
     "output_type": "execute_result"
    }
   ],
   "source": [
    "b"
   ]
  },
  {
   "cell_type": "code",
   "execution_count": 10,
   "id": "43ef8ea3",
   "metadata": {
    "execution": {
     "iopub.execute_input": "2023-08-14T05:31:05.890827Z",
     "iopub.status.busy": "2023-08-14T05:31:05.890164Z",
     "iopub.status.idle": "2023-08-14T05:31:05.895332Z",
     "shell.execute_reply": "2023-08-14T05:31:05.894636Z"
    }
   },
   "outputs": [
    {
     "data": {
      "text/plain": [
       "tensor([[-1.5924, -1.1764, -0.0293],\n",
       "        [-0.0476,  0.0546, -1.0612]])"
      ]
     },
     "execution_count": 10,
     "metadata": {},
     "output_type": "execute_result"
    }
   ],
   "source": [
    "b.a"
   ]
  },
  {
   "cell_type": "code",
   "execution_count": 11,
   "id": "b785ab72",
   "metadata": {
    "execution": {
     "iopub.execute_input": "2023-08-14T05:31:05.898466Z",
     "iopub.status.busy": "2023-08-14T05:31:05.898102Z",
     "iopub.status.idle": "2023-08-14T05:31:10.592409Z",
     "shell.execute_reply": "2023-08-14T05:31:10.591324Z"
    }
   },
   "outputs": [
    {
     "name": "stdout",
     "output_type": "stream",
     "text": [
      "58 ns ± 0.0215 ns per loop (mean ± std. dev. of 7 runs, 10,000,000 loops each)\n"
     ]
    }
   ],
   "source": [
    "%timeit b.a"
   ]
  },
  {
   "cell_type": "code",
   "execution_count": 12,
   "id": "ad54dc69",
   "metadata": {
    "execution": {
     "iopub.execute_input": "2023-08-14T05:31:10.600077Z",
     "iopub.status.busy": "2023-08-14T05:31:10.599593Z",
     "iopub.status.idle": "2023-08-14T05:31:10.605434Z",
     "shell.execute_reply": "2023-08-14T05:31:10.604677Z"
    }
   },
   "outputs": [
    {
     "data": {
      "text/plain": [
       "Batch(\n",
       "    a: tensor([[-0.7050,  0.9053, -0.2145],\n",
       "               [ 1.0503,  1.2144,  0.2178]]),\n",
       "    x: Batch(\n",
       "           c: tensor([[-0.3609, -0.6039, -1.8249,  0.8903],\n",
       "                      [ 0.9392,  0.7800, -0.7008, -1.4694],\n",
       "                      [-0.3833, -1.6897, -1.2121, -0.3682]]),\n",
       "       ),\n",
       ")"
      ]
     },
     "execution_count": 12,
     "metadata": {},
     "output_type": "execute_result"
    }
   ],
   "source": [
    "new_value = torch.randn(2, 3)\n",
    "b.a = new_value\n",
    "\n",
    "b"
   ]
  },
  {
   "cell_type": "code",
   "execution_count": 13,
   "id": "29b1d0bf",
   "metadata": {
    "execution": {
     "iopub.execute_input": "2023-08-14T05:31:10.608495Z",
     "iopub.status.busy": "2023-08-14T05:31:10.608053Z",
     "iopub.status.idle": "2023-08-14T05:31:14.543688Z",
     "shell.execute_reply": "2023-08-14T05:31:14.542509Z"
    }
   },
   "outputs": [
    {
     "name": "stdout",
     "output_type": "stream",
     "text": [
      "484 ns ± 0.115 ns per loop (mean ± std. dev. of 7 runs, 1,000,000 loops each)\n"
     ]
    }
   ],
   "source": [
    "%timeit b.a = new_value"
   ]
  },
  {
   "cell_type": "markdown",
   "id": "b61ad1d0",
   "metadata": {},
   "source": [
    "## Initialization"
   ]
  },
  {
   "cell_type": "markdown",
   "id": "d70f0d54",
   "metadata": {},
   "source": [
    "### TreeValue's Initialization"
   ]
  },
  {
   "cell_type": "code",
   "execution_count": 14,
   "id": "d32a679b",
   "metadata": {
    "execution": {
     "iopub.execute_input": "2023-08-14T05:31:14.547221Z",
     "iopub.status.busy": "2023-08-14T05:31:14.546617Z",
     "iopub.status.idle": "2023-08-14T05:31:21.452233Z",
     "shell.execute_reply": "2023-08-14T05:31:21.451066Z"
    }
   },
   "outputs": [
    {
     "name": "stdout",
     "output_type": "stream",
     "text": [
      "851 ns ± 0.183 ns per loop (mean ± std. dev. of 7 runs, 1,000,000 loops each)\n"
     ]
    }
   ],
   "source": [
    "%timeit FastTreeValue(_TREE_DATA_1)"
   ]
  },
  {
   "cell_type": "markdown",
   "id": "24f3707b",
   "metadata": {},
   "source": [
    "### Tianshou Batch's Initialization"
   ]
  },
  {
   "cell_type": "code",
   "execution_count": 15,
   "id": "ac3958df",
   "metadata": {
    "execution": {
     "iopub.execute_input": "2023-08-14T05:31:21.455976Z",
     "iopub.status.busy": "2023-08-14T05:31:21.455312Z",
     "iopub.status.idle": "2023-08-14T05:31:30.933443Z",
     "shell.execute_reply": "2023-08-14T05:31:30.932821Z"
    }
   },
   "outputs": [
    {
     "name": "stdout",
     "output_type": "stream",
     "text": [
      "11.7 µs ± 16.2 ns per loop (mean ± std. dev. of 7 runs, 100,000 loops each)\n"
     ]
    }
   ],
   "source": [
    "%timeit Batch(**_TREE_DATA_1)"
   ]
  },
  {
   "cell_type": "markdown",
   "id": "1ab82e2d",
   "metadata": {},
   "source": [
    "## Deep Copy Operation"
   ]
  },
  {
   "cell_type": "code",
   "execution_count": 16,
   "id": "210a9442",
   "metadata": {
    "execution": {
     "iopub.execute_input": "2023-08-14T05:31:30.936836Z",
     "iopub.status.busy": "2023-08-14T05:31:30.936228Z",
     "iopub.status.idle": "2023-08-14T05:31:30.939642Z",
     "shell.execute_reply": "2023-08-14T05:31:30.938915Z"
    }
   },
   "outputs": [],
   "source": [
    "import copy"
   ]
  },
  {
   "cell_type": "markdown",
   "id": "5a736274",
   "metadata": {},
   "source": [
    "### Deep Copy of TreeValue"
   ]
  },
  {
   "cell_type": "code",
   "execution_count": 17,
   "id": "f9bcadd6",
   "metadata": {
    "execution": {
     "iopub.execute_input": "2023-08-14T05:31:30.942840Z",
     "iopub.status.busy": "2023-08-14T05:31:30.942449Z",
     "iopub.status.idle": "2023-08-14T05:31:42.062115Z",
     "shell.execute_reply": "2023-08-14T05:31:42.061484Z"
    }
   },
   "outputs": [
    {
     "name": "stdout",
     "output_type": "stream",
     "text": [
      "137 µs ± 525 ns per loop (mean ± std. dev. of 7 runs, 10,000 loops each)\n"
     ]
    }
   ],
   "source": [
    "t3 = FastTreeValue(_TREE_DATA_3)\n",
    "%timeit copy.deepcopy(t3)"
   ]
  },
  {
   "cell_type": "markdown",
   "id": "bf8be7ea",
   "metadata": {},
   "source": [
    "### Deep Copy of Tianshou Batch"
   ]
  },
  {
   "cell_type": "code",
   "execution_count": 18,
   "id": "91998e6f",
   "metadata": {
    "execution": {
     "iopub.execute_input": "2023-08-14T05:31:42.067018Z",
     "iopub.status.busy": "2023-08-14T05:31:42.065765Z",
     "iopub.status.idle": "2023-08-14T05:31:53.412260Z",
     "shell.execute_reply": "2023-08-14T05:31:53.411474Z"
    }
   },
   "outputs": [
    {
     "name": "stdout",
     "output_type": "stream",
     "text": [
      "140 µs ± 624 ns per loop (mean ± std. dev. of 7 runs, 10,000 loops each)\n"
     ]
    }
   ],
   "source": [
    "b3 = Batch(**_TREE_DATA_3)\n",
    "%timeit copy.deepcopy(b3)"
   ]
  },
  {
   "cell_type": "markdown",
   "id": "223162fb",
   "metadata": {},
   "source": [
    "## Stack, Concat and Split Operation"
   ]
  },
  {
   "cell_type": "markdown",
   "id": "85fa4a73",
   "metadata": {},
   "source": [
    "### Performance of TreeValue"
   ]
  },
  {
   "cell_type": "code",
   "execution_count": 19,
   "id": "a0c2b697",
   "metadata": {
    "execution": {
     "iopub.execute_input": "2023-08-14T05:31:53.416518Z",
     "iopub.status.busy": "2023-08-14T05:31:53.415954Z",
     "iopub.status.idle": "2023-08-14T05:31:53.420756Z",
     "shell.execute_reply": "2023-08-14T05:31:53.420112Z"
    }
   },
   "outputs": [],
   "source": [
    "trees = [FastTreeValue(_TREE_DATA_2) for _ in range(8)]"
   ]
  },
  {
   "cell_type": "code",
   "execution_count": 20,
   "id": "017ea5a5",
   "metadata": {
    "execution": {
     "iopub.execute_input": "2023-08-14T05:31:53.424234Z",
     "iopub.status.busy": "2023-08-14T05:31:53.423716Z",
     "iopub.status.idle": "2023-08-14T05:31:53.433683Z",
     "shell.execute_reply": "2023-08-14T05:31:53.433021Z"
    }
   },
   "outputs": [
    {
     "data": {
      "text/plain": [
       "<FastTreeValue 0x7f3d8fe38d60>\n",
       "├── 'a' --> tensor([[[-1.5924, -1.1764, -0.0293],\n",
       "│                    [-0.0476,  0.0546, -1.0612]],\n",
       "│           \n",
       "│                   [[-1.5924, -1.1764, -0.0293],\n",
       "│                    [-0.0476,  0.0546, -1.0612]],\n",
       "│           \n",
       "│                   [[-1.5924, -1.1764, -0.0293],\n",
       "│                    [-0.0476,  0.0546, -1.0612]],\n",
       "│           \n",
       "│                   [[-1.5924, -1.1764, -0.0293],\n",
       "│                    [-0.0476,  0.0546, -1.0612]],\n",
       "│           \n",
       "│                   [[-1.5924, -1.1764, -0.0293],\n",
       "│                    [-0.0476,  0.0546, -1.0612]],\n",
       "│           \n",
       "│                   [[-1.5924, -1.1764, -0.0293],\n",
       "│                    [-0.0476,  0.0546, -1.0612]],\n",
       "│           \n",
       "│                   [[-1.5924, -1.1764, -0.0293],\n",
       "│                    [-0.0476,  0.0546, -1.0612]],\n",
       "│           \n",
       "│                   [[-1.5924, -1.1764, -0.0293],\n",
       "│                    [-0.0476,  0.0546, -1.0612]]])\n",
       "└── 'x' --> <FastTreeValue 0x7f3da2a6bd60>\n",
       "    └── 'c' --> tensor([[[-0.3609, -0.6039, -1.8249,  0.8903],\n",
       "                         [ 0.9392,  0.7800, -0.7008, -1.4694],\n",
       "                         [-0.3833, -1.6897, -1.2121, -0.3682]],\n",
       "                \n",
       "                        [[-0.3609, -0.6039, -1.8249,  0.8903],\n",
       "                         [ 0.9392,  0.7800, -0.7008, -1.4694],\n",
       "                         [-0.3833, -1.6897, -1.2121, -0.3682]],\n",
       "                \n",
       "                        [[-0.3609, -0.6039, -1.8249,  0.8903],\n",
       "                         [ 0.9392,  0.7800, -0.7008, -1.4694],\n",
       "                         [-0.3833, -1.6897, -1.2121, -0.3682]],\n",
       "                \n",
       "                        [[-0.3609, -0.6039, -1.8249,  0.8903],\n",
       "                         [ 0.9392,  0.7800, -0.7008, -1.4694],\n",
       "                         [-0.3833, -1.6897, -1.2121, -0.3682]],\n",
       "                \n",
       "                        [[-0.3609, -0.6039, -1.8249,  0.8903],\n",
       "                         [ 0.9392,  0.7800, -0.7008, -1.4694],\n",
       "                         [-0.3833, -1.6897, -1.2121, -0.3682]],\n",
       "                \n",
       "                        [[-0.3609, -0.6039, -1.8249,  0.8903],\n",
       "                         [ 0.9392,  0.7800, -0.7008, -1.4694],\n",
       "                         [-0.3833, -1.6897, -1.2121, -0.3682]],\n",
       "                \n",
       "                        [[-0.3609, -0.6039, -1.8249,  0.8903],\n",
       "                         [ 0.9392,  0.7800, -0.7008, -1.4694],\n",
       "                         [-0.3833, -1.6897, -1.2121, -0.3682]],\n",
       "                \n",
       "                        [[-0.3609, -0.6039, -1.8249,  0.8903],\n",
       "                         [ 0.9392,  0.7800, -0.7008, -1.4694],\n",
       "                         [-0.3833, -1.6897, -1.2121, -0.3682]]])"
      ]
     },
     "execution_count": 20,
     "metadata": {},
     "output_type": "execute_result"
    }
   ],
   "source": [
    "t_stack = FastTreeValue.func(subside=True)(torch.stack)\n",
    "\n",
    "t_stack(trees)"
   ]
  },
  {
   "cell_type": "code",
   "execution_count": 21,
   "id": "f8b3f415",
   "metadata": {
    "execution": {
     "iopub.execute_input": "2023-08-14T05:31:53.436694Z",
     "iopub.status.busy": "2023-08-14T05:31:53.436462Z",
     "iopub.status.idle": "2023-08-14T05:31:56.123536Z",
     "shell.execute_reply": "2023-08-14T05:31:56.122933Z"
    }
   },
   "outputs": [
    {
     "name": "stdout",
     "output_type": "stream",
     "text": [
      "33 µs ± 53.4 ns per loop (mean ± std. dev. of 7 runs, 10,000 loops each)\n"
     ]
    }
   ],
   "source": [
    "%timeit t_stack(trees)"
   ]
  },
  {
   "cell_type": "code",
   "execution_count": 22,
   "id": "94b56771",
   "metadata": {
    "execution": {
     "iopub.execute_input": "2023-08-14T05:31:56.126888Z",
     "iopub.status.busy": "2023-08-14T05:31:56.126209Z",
     "iopub.status.idle": "2023-08-14T05:31:56.133880Z",
     "shell.execute_reply": "2023-08-14T05:31:56.133200Z"
    }
   },
   "outputs": [
    {
     "data": {
      "text/plain": [
       "<FastTreeValue 0x7f3d8fe08df0>\n",
       "├── 'a' --> tensor([[-1.5924, -1.1764, -0.0293],\n",
       "│                   [-0.0476,  0.0546, -1.0612],\n",
       "│                   [-1.5924, -1.1764, -0.0293],\n",
       "│                   [-0.0476,  0.0546, -1.0612],\n",
       "│                   [-1.5924, -1.1764, -0.0293],\n",
       "│                   [-0.0476,  0.0546, -1.0612],\n",
       "│                   [-1.5924, -1.1764, -0.0293],\n",
       "│                   [-0.0476,  0.0546, -1.0612],\n",
       "│                   [-1.5924, -1.1764, -0.0293],\n",
       "│                   [-0.0476,  0.0546, -1.0612],\n",
       "│                   [-1.5924, -1.1764, -0.0293],\n",
       "│                   [-0.0476,  0.0546, -1.0612],\n",
       "│                   [-1.5924, -1.1764, -0.0293],\n",
       "│                   [-0.0476,  0.0546, -1.0612],\n",
       "│                   [-1.5924, -1.1764, -0.0293],\n",
       "│                   [-0.0476,  0.0546, -1.0612]])\n",
       "└── 'x' --> <FastTreeValue 0x7f3da2881040>\n",
       "    └── 'c' --> tensor([[-0.3609, -0.6039, -1.8249,  0.8903],\n",
       "                        [ 0.9392,  0.7800, -0.7008, -1.4694],\n",
       "                        [-0.3833, -1.6897, -1.2121, -0.3682],\n",
       "                        [-0.3609, -0.6039, -1.8249,  0.8903],\n",
       "                        [ 0.9392,  0.7800, -0.7008, -1.4694],\n",
       "                        [-0.3833, -1.6897, -1.2121, -0.3682],\n",
       "                        [-0.3609, -0.6039, -1.8249,  0.8903],\n",
       "                        [ 0.9392,  0.7800, -0.7008, -1.4694],\n",
       "                        [-0.3833, -1.6897, -1.2121, -0.3682],\n",
       "                        [-0.3609, -0.6039, -1.8249,  0.8903],\n",
       "                        [ 0.9392,  0.7800, -0.7008, -1.4694],\n",
       "                        [-0.3833, -1.6897, -1.2121, -0.3682],\n",
       "                        [-0.3609, -0.6039, -1.8249,  0.8903],\n",
       "                        [ 0.9392,  0.7800, -0.7008, -1.4694],\n",
       "                        [-0.3833, -1.6897, -1.2121, -0.3682],\n",
       "                        [-0.3609, -0.6039, -1.8249,  0.8903],\n",
       "                        [ 0.9392,  0.7800, -0.7008, -1.4694],\n",
       "                        [-0.3833, -1.6897, -1.2121, -0.3682],\n",
       "                        [-0.3609, -0.6039, -1.8249,  0.8903],\n",
       "                        [ 0.9392,  0.7800, -0.7008, -1.4694],\n",
       "                        [-0.3833, -1.6897, -1.2121, -0.3682],\n",
       "                        [-0.3609, -0.6039, -1.8249,  0.8903],\n",
       "                        [ 0.9392,  0.7800, -0.7008, -1.4694],\n",
       "                        [-0.3833, -1.6897, -1.2121, -0.3682]])"
      ]
     },
     "execution_count": 22,
     "metadata": {},
     "output_type": "execute_result"
    }
   ],
   "source": [
    "t_cat = FastTreeValue.func(subside=True)(torch.cat)\n",
    "\n",
    "t_cat(trees)"
   ]
  },
  {
   "cell_type": "code",
   "execution_count": 23,
   "id": "5e9c06a6",
   "metadata": {
    "execution": {
     "iopub.execute_input": "2023-08-14T05:31:56.136821Z",
     "iopub.status.busy": "2023-08-14T05:31:56.136455Z",
     "iopub.status.idle": "2023-08-14T05:31:58.693293Z",
     "shell.execute_reply": "2023-08-14T05:31:58.692626Z"
    }
   },
   "outputs": [
    {
     "name": "stdout",
     "output_type": "stream",
     "text": [
      "31.5 µs ± 86.4 ns per loop (mean ± std. dev. of 7 runs, 10,000 loops each)\n"
     ]
    }
   ],
   "source": [
    "%timeit t_cat(trees)"
   ]
  },
  {
   "cell_type": "code",
   "execution_count": 24,
   "id": "a3ab5c8f",
   "metadata": {
    "execution": {
     "iopub.execute_input": "2023-08-14T05:31:58.696490Z",
     "iopub.status.busy": "2023-08-14T05:31:58.695903Z",
     "iopub.status.idle": "2023-08-14T05:32:04.266719Z",
     "shell.execute_reply": "2023-08-14T05:32:04.266121Z"
    }
   },
   "outputs": [
    {
     "name": "stdout",
     "output_type": "stream",
     "text": [
      "68.5 µs ± 70 ns per loop (mean ± std. dev. of 7 runs, 10,000 loops each)\n"
     ]
    }
   ],
   "source": [
    "t_split = FastTreeValue.func(rise=True)(torch.split)\n",
    "tree = FastTreeValue({\n",
    "    'obs': torch.randn(8, 4, 84, 84),\n",
    "    'action': torch.randint(0, 6, size=(8, 1,)),\n",
    "    'reward': torch.rand(8, 1),\n",
    "})\n",
    "\n",
    "%timeit t_split(tree, 1)"
   ]
  },
  {
   "cell_type": "markdown",
   "id": "31c3ec0b",
   "metadata": {},
   "source": [
    "### Performance of Tianshou Batch"
   ]
  },
  {
   "cell_type": "code",
   "execution_count": 25,
   "id": "9ead828a",
   "metadata": {
    "execution": {
     "iopub.execute_input": "2023-08-14T05:32:04.270071Z",
     "iopub.status.busy": "2023-08-14T05:32:04.269473Z",
     "iopub.status.idle": "2023-08-14T05:32:04.277195Z",
     "shell.execute_reply": "2023-08-14T05:32:04.276501Z"
    }
   },
   "outputs": [
    {
     "data": {
      "text/plain": [
       "Batch(\n",
       "    a: tensor([[[-1.5924, -1.1764, -0.0293],\n",
       "                [-0.0476,  0.0546, -1.0612]],\n",
       "       \n",
       "               [[-1.5924, -1.1764, -0.0293],\n",
       "                [-0.0476,  0.0546, -1.0612]],\n",
       "       \n",
       "               [[-1.5924, -1.1764, -0.0293],\n",
       "                [-0.0476,  0.0546, -1.0612]],\n",
       "       \n",
       "               [[-1.5924, -1.1764, -0.0293],\n",
       "                [-0.0476,  0.0546, -1.0612]],\n",
       "       \n",
       "               [[-1.5924, -1.1764, -0.0293],\n",
       "                [-0.0476,  0.0546, -1.0612]],\n",
       "       \n",
       "               [[-1.5924, -1.1764, -0.0293],\n",
       "                [-0.0476,  0.0546, -1.0612]],\n",
       "       \n",
       "               [[-1.5924, -1.1764, -0.0293],\n",
       "                [-0.0476,  0.0546, -1.0612]],\n",
       "       \n",
       "               [[-1.5924, -1.1764, -0.0293],\n",
       "                [-0.0476,  0.0546, -1.0612]]]),\n",
       "    x: Batch(\n",
       "           c: tensor([[[-0.3609, -0.6039, -1.8249,  0.8903],\n",
       "                       [ 0.9392,  0.7800, -0.7008, -1.4694],\n",
       "                       [-0.3833, -1.6897, -1.2121, -0.3682]],\n",
       "              \n",
       "                      [[-0.3609, -0.6039, -1.8249,  0.8903],\n",
       "                       [ 0.9392,  0.7800, -0.7008, -1.4694],\n",
       "                       [-0.3833, -1.6897, -1.2121, -0.3682]],\n",
       "              \n",
       "                      [[-0.3609, -0.6039, -1.8249,  0.8903],\n",
       "                       [ 0.9392,  0.7800, -0.7008, -1.4694],\n",
       "                       [-0.3833, -1.6897, -1.2121, -0.3682]],\n",
       "              \n",
       "                      [[-0.3609, -0.6039, -1.8249,  0.8903],\n",
       "                       [ 0.9392,  0.7800, -0.7008, -1.4694],\n",
       "                       [-0.3833, -1.6897, -1.2121, -0.3682]],\n",
       "              \n",
       "                      [[-0.3609, -0.6039, -1.8249,  0.8903],\n",
       "                       [ 0.9392,  0.7800, -0.7008, -1.4694],\n",
       "                       [-0.3833, -1.6897, -1.2121, -0.3682]],\n",
       "              \n",
       "                      [[-0.3609, -0.6039, -1.8249,  0.8903],\n",
       "                       [ 0.9392,  0.7800, -0.7008, -1.4694],\n",
       "                       [-0.3833, -1.6897, -1.2121, -0.3682]],\n",
       "              \n",
       "                      [[-0.3609, -0.6039, -1.8249,  0.8903],\n",
       "                       [ 0.9392,  0.7800, -0.7008, -1.4694],\n",
       "                       [-0.3833, -1.6897, -1.2121, -0.3682]],\n",
       "              \n",
       "                      [[-0.3609, -0.6039, -1.8249,  0.8903],\n",
       "                       [ 0.9392,  0.7800, -0.7008, -1.4694],\n",
       "                       [-0.3833, -1.6897, -1.2121, -0.3682]]]),\n",
       "       ),\n",
       ")"
      ]
     },
     "execution_count": 25,
     "metadata": {},
     "output_type": "execute_result"
    }
   ],
   "source": [
    "batches = [Batch(**_TREE_DATA_2) for _ in range(8)]\n",
    "\n",
    "Batch.stack(batches)"
   ]
  },
  {
   "cell_type": "code",
   "execution_count": 26,
   "id": "ec9037a3",
   "metadata": {
    "execution": {
     "iopub.execute_input": "2023-08-14T05:32:04.280095Z",
     "iopub.status.busy": "2023-08-14T05:32:04.279725Z",
     "iopub.status.idle": "2023-08-14T05:32:10.896675Z",
     "shell.execute_reply": "2023-08-14T05:32:10.895522Z"
    }
   },
   "outputs": [
    {
     "name": "stdout",
     "output_type": "stream",
     "text": [
      "81.6 µs ± 2.51 µs per loop (mean ± std. dev. of 7 runs, 10,000 loops each)\n"
     ]
    }
   ],
   "source": [
    "%timeit Batch.stack(batches)"
   ]
  },
  {
   "cell_type": "code",
   "execution_count": 27,
   "id": "cb8ab77e",
   "metadata": {
    "execution": {
     "iopub.execute_input": "2023-08-14T05:32:10.899802Z",
     "iopub.status.busy": "2023-08-14T05:32:10.899423Z",
     "iopub.status.idle": "2023-08-14T05:32:10.907665Z",
     "shell.execute_reply": "2023-08-14T05:32:10.907039Z"
    }
   },
   "outputs": [
    {
     "data": {
      "text/plain": [
       "Batch(\n",
       "    a: tensor([[-1.5924, -1.1764, -0.0293],\n",
       "               [-0.0476,  0.0546, -1.0612],\n",
       "               [-1.5924, -1.1764, -0.0293],\n",
       "               [-0.0476,  0.0546, -1.0612],\n",
       "               [-1.5924, -1.1764, -0.0293],\n",
       "               [-0.0476,  0.0546, -1.0612],\n",
       "               [-1.5924, -1.1764, -0.0293],\n",
       "               [-0.0476,  0.0546, -1.0612],\n",
       "               [-1.5924, -1.1764, -0.0293],\n",
       "               [-0.0476,  0.0546, -1.0612],\n",
       "               [-1.5924, -1.1764, -0.0293],\n",
       "               [-0.0476,  0.0546, -1.0612],\n",
       "               [-1.5924, -1.1764, -0.0293],\n",
       "               [-0.0476,  0.0546, -1.0612],\n",
       "               [-1.5924, -1.1764, -0.0293],\n",
       "               [-0.0476,  0.0546, -1.0612]]),\n",
       "    x: Batch(\n",
       "           c: tensor([[-0.3609, -0.6039, -1.8249,  0.8903],\n",
       "                      [ 0.9392,  0.7800, -0.7008, -1.4694],\n",
       "                      [-0.3833, -1.6897, -1.2121, -0.3682],\n",
       "                      [-0.3609, -0.6039, -1.8249,  0.8903],\n",
       "                      [ 0.9392,  0.7800, -0.7008, -1.4694],\n",
       "                      [-0.3833, -1.6897, -1.2121, -0.3682],\n",
       "                      [-0.3609, -0.6039, -1.8249,  0.8903],\n",
       "                      [ 0.9392,  0.7800, -0.7008, -1.4694],\n",
       "                      [-0.3833, -1.6897, -1.2121, -0.3682],\n",
       "                      [-0.3609, -0.6039, -1.8249,  0.8903],\n",
       "                      [ 0.9392,  0.7800, -0.7008, -1.4694],\n",
       "                      [-0.3833, -1.6897, -1.2121, -0.3682],\n",
       "                      [-0.3609, -0.6039, -1.8249,  0.8903],\n",
       "                      [ 0.9392,  0.7800, -0.7008, -1.4694],\n",
       "                      [-0.3833, -1.6897, -1.2121, -0.3682],\n",
       "                      [-0.3609, -0.6039, -1.8249,  0.8903],\n",
       "                      [ 0.9392,  0.7800, -0.7008, -1.4694],\n",
       "                      [-0.3833, -1.6897, -1.2121, -0.3682],\n",
       "                      [-0.3609, -0.6039, -1.8249,  0.8903],\n",
       "                      [ 0.9392,  0.7800, -0.7008, -1.4694],\n",
       "                      [-0.3833, -1.6897, -1.2121, -0.3682],\n",
       "                      [-0.3609, -0.6039, -1.8249,  0.8903],\n",
       "                      [ 0.9392,  0.7800, -0.7008, -1.4694],\n",
       "                      [-0.3833, -1.6897, -1.2121, -0.3682]]),\n",
       "       ),\n",
       ")"
      ]
     },
     "execution_count": 27,
     "metadata": {},
     "output_type": "execute_result"
    }
   ],
   "source": [
    "Batch.cat(batches)"
   ]
  },
  {
   "cell_type": "code",
   "execution_count": 28,
   "id": "18dfb045",
   "metadata": {
    "execution": {
     "iopub.execute_input": "2023-08-14T05:32:10.910824Z",
     "iopub.status.busy": "2023-08-14T05:32:10.910270Z",
     "iopub.status.idle": "2023-08-14T05:32:24.250164Z",
     "shell.execute_reply": "2023-08-14T05:32:24.248890Z"
    }
   },
   "outputs": [
    {
     "name": "stdout",
     "output_type": "stream",
     "text": [
      "164 µs ± 351 ns per loop (mean ± std. dev. of 7 runs, 10,000 loops each)\n"
     ]
    }
   ],
   "source": [
    "%timeit Batch.cat(batches)"
   ]
  },
  {
   "cell_type": "code",
   "execution_count": 29,
   "id": "c6688e51",
   "metadata": {
    "execution": {
     "iopub.execute_input": "2023-08-14T05:32:24.254075Z",
     "iopub.status.busy": "2023-08-14T05:32:24.253526Z",
     "iopub.status.idle": "2023-08-14T05:32:26.916316Z",
     "shell.execute_reply": "2023-08-14T05:32:26.915692Z"
    }
   },
   "outputs": [
    {
     "name": "stdout",
     "output_type": "stream",
     "text": [
      "327 µs ± 4.76 µs per loop (mean ± std. dev. of 7 runs, 1,000 loops each)\n"
     ]
    }
   ],
   "source": [
    "batch = Batch({\n",
    "    'obs': torch.randn(8, 4, 84, 84),\n",
    "    'action': torch.randint(0, 6, size=(8, 1,)),\n",
    "    'reward': torch.rand(8, 1)}\n",
    ")\n",
    "\n",
    "%timeit list(Batch.split(batch, 1, shuffle=False, merge_last=True))"
   ]
  },
  {
   "cell_type": "code",
   "execution_count": null,
   "id": "2539fbd9",
   "metadata": {},
   "outputs": [],
   "source": []
  }
 ],
 "metadata": {
  "kernelspec": {
   "display_name": "Python 3 (ipykernel)",
   "language": "python",
   "name": "python3"
  },
  "language_info": {
   "codemirror_mode": {
    "name": "ipython",
    "version": 3
   },
   "file_extension": ".py",
   "mimetype": "text/x-python",
   "name": "python",
   "nbconvert_exporter": "python",
   "pygments_lexer": "ipython3",
   "version": "3.8.17"
  }
 },
 "nbformat": 4,
 "nbformat_minor": 5
}
