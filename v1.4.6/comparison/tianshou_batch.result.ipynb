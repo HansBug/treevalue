{
 "cells": [
  {
   "cell_type": "markdown",
   "id": "9d39d946",
   "metadata": {},
   "source": [
    "# Comparison Between TreeValue and Tianshou Batch"
   ]
  },
  {
   "cell_type": "markdown",
   "id": "3c6db2d4",
   "metadata": {},
   "source": [
    "In this section, we will take a look at the feature and performance of the [Tianshou Batch](https://github.com/thu-ml/tianshou) library, which is developed by Tsinghua Machine Learning Group."
   ]
  },
  {
   "cell_type": "markdown",
   "id": "069361b0",
   "metadata": {},
   "source": [
    "Before starting the comparison, let us define some thing."
   ]
  },
  {
   "cell_type": "code",
   "execution_count": 1,
   "id": "06fc8d26",
   "metadata": {
    "execution": {
     "iopub.execute_input": "2023-10-20T07:23:24.986059Z",
     "iopub.status.busy": "2023-10-20T07:23:24.985277Z",
     "iopub.status.idle": "2023-10-20T07:23:27.180577Z",
     "shell.execute_reply": "2023-10-20T07:23:27.179516Z"
    }
   },
   "outputs": [],
   "source": [
    "import torch \n",
    "\n",
    "_TREE_DATA_1 = {'a': 1, 'b': 2, 'x': {'c': 3, 'd': 4}}\n",
    "_TREE_DATA_2 = {\n",
    "    'a': torch.randn(2, 3), \n",
    "    'x': {\n",
    "        'c': torch.randn(3, 4)\n",
    "    },\n",
    "}\n",
    "_TREE_DATA_3 = {\n",
    "    'obs': torch.randn(4, 84, 84),\n",
    "    'action': torch.randint(0, 6, size=(1,)),\n",
    "    'reward': torch.rand(1),\n",
    "}"
   ]
  },
  {
   "cell_type": "markdown",
   "id": "83461b25",
   "metadata": {},
   "source": [
    "## Read and Write Operation"
   ]
  },
  {
   "cell_type": "markdown",
   "id": "067b3f73",
   "metadata": {},
   "source": [
    "Reading and writing are the two most common operations in the tree data structure based on the data model (TreeValue and Tianshou Batch both belong to this type), so this section will compare the reading and writing performance of these two libraries."
   ]
  },
  {
   "cell_type": "markdown",
   "id": "5d09a5b7",
   "metadata": {},
   "source": [
    "### TreeValue's Get and Set"
   ]
  },
  {
   "cell_type": "code",
   "execution_count": 2,
   "id": "9519c4bb",
   "metadata": {
    "execution": {
     "iopub.execute_input": "2023-10-20T07:23:27.186411Z",
     "iopub.status.busy": "2023-10-20T07:23:27.185444Z",
     "iopub.status.idle": "2023-10-20T07:23:27.672367Z",
     "shell.execute_reply": "2023-10-20T07:23:27.671321Z"
    }
   },
   "outputs": [],
   "source": [
    "from treevalue import FastTreeValue\n",
    "\n",
    "t = FastTreeValue(_TREE_DATA_2)"
   ]
  },
  {
   "cell_type": "code",
   "execution_count": 3,
   "id": "11c37677",
   "metadata": {
    "execution": {
     "iopub.execute_input": "2023-10-20T07:23:27.676847Z",
     "iopub.status.busy": "2023-10-20T07:23:27.676448Z",
     "iopub.status.idle": "2023-10-20T07:23:27.689727Z",
     "shell.execute_reply": "2023-10-20T07:23:27.688731Z"
    }
   },
   "outputs": [
    {
     "data": {
      "text/plain": [
       "<FastTreeValue 0x7f963c761400>\n",
       "├── 'a' --> tensor([[-0.0925, -0.6357,  1.1402],\n",
       "│                   [-2.0423, -1.1758,  0.9877]])\n",
       "└── 'x' --> <FastTreeValue 0x7f963c761940>\n",
       "    └── 'c' --> tensor([[ 0.2343,  0.2786,  1.5216, -1.9536],\n",
       "                        [-0.8656,  1.7485, -2.4316, -1.8778],\n",
       "                        [-1.3291,  0.1364,  1.3137, -1.9218]])"
      ]
     },
     "execution_count": 3,
     "metadata": {},
     "output_type": "execute_result"
    }
   ],
   "source": [
    "t"
   ]
  },
  {
   "cell_type": "code",
   "execution_count": 4,
   "id": "fd70b0b9",
   "metadata": {
    "execution": {
     "iopub.execute_input": "2023-10-20T07:23:27.694555Z",
     "iopub.status.busy": "2023-10-20T07:23:27.694248Z",
     "iopub.status.idle": "2023-10-20T07:23:27.701459Z",
     "shell.execute_reply": "2023-10-20T07:23:27.700519Z"
    }
   },
   "outputs": [
    {
     "data": {
      "text/plain": [
       "tensor([[-0.0925, -0.6357,  1.1402],\n",
       "        [-2.0423, -1.1758,  0.9877]])"
      ]
     },
     "execution_count": 4,
     "metadata": {},
     "output_type": "execute_result"
    }
   ],
   "source": [
    "t.a"
   ]
  },
  {
   "cell_type": "code",
   "execution_count": 5,
   "id": "c18197bd",
   "metadata": {
    "execution": {
     "iopub.execute_input": "2023-10-20T07:23:27.706210Z",
     "iopub.status.busy": "2023-10-20T07:23:27.705896Z",
     "iopub.status.idle": "2023-10-20T07:23:34.178672Z",
     "shell.execute_reply": "2023-10-20T07:23:34.177468Z"
    }
   },
   "outputs": [
    {
     "name": "stdout",
     "output_type": "stream",
     "text": [
      "79.1 ns ± 1.89 ns per loop (mean ± std. dev. of 7 runs, 10,000,000 loops each)\n"
     ]
    }
   ],
   "source": [
    "%timeit t.a"
   ]
  },
  {
   "cell_type": "code",
   "execution_count": 6,
   "id": "bd52f867",
   "metadata": {
    "execution": {
     "iopub.execute_input": "2023-10-20T07:23:34.183501Z",
     "iopub.status.busy": "2023-10-20T07:23:34.183039Z",
     "iopub.status.idle": "2023-10-20T07:23:34.192374Z",
     "shell.execute_reply": "2023-10-20T07:23:34.191392Z"
    }
   },
   "outputs": [
    {
     "data": {
      "text/plain": [
       "<FastTreeValue 0x7f963c761400>\n",
       "├── 'a' --> tensor([[-0.1101, -1.0954,  0.5485],\n",
       "│                   [-0.1098,  0.3440,  0.8950]])\n",
       "└── 'x' --> <FastTreeValue 0x7f963c761940>\n",
       "    └── 'c' --> tensor([[ 0.2343,  0.2786,  1.5216, -1.9536],\n",
       "                        [-0.8656,  1.7485, -2.4316, -1.8778],\n",
       "                        [-1.3291,  0.1364,  1.3137, -1.9218]])"
      ]
     },
     "execution_count": 6,
     "metadata": {},
     "output_type": "execute_result"
    }
   ],
   "source": [
    "new_value = torch.randn(2, 3)\n",
    "t.a = new_value\n",
    "\n",
    "t"
   ]
  },
  {
   "cell_type": "code",
   "execution_count": 7,
   "id": "bbe04d1c",
   "metadata": {
    "execution": {
     "iopub.execute_input": "2023-10-20T07:23:34.196318Z",
     "iopub.status.busy": "2023-10-20T07:23:34.195816Z",
     "iopub.status.idle": "2023-10-20T07:23:41.499964Z",
     "shell.execute_reply": "2023-10-20T07:23:41.498794Z"
    }
   },
   "outputs": [
    {
     "name": "stdout",
     "output_type": "stream",
     "text": [
      "89.5 ns ± 1.82 ns per loop (mean ± std. dev. of 7 runs, 10,000,000 loops each)\n"
     ]
    }
   ],
   "source": [
    "%timeit t.a = new_value"
   ]
  },
  {
   "cell_type": "markdown",
   "id": "48c49731",
   "metadata": {},
   "source": [
    "### Tianshou Batch's Get and Set"
   ]
  },
  {
   "cell_type": "code",
   "execution_count": 8,
   "id": "f1bb14c1",
   "metadata": {
    "execution": {
     "iopub.execute_input": "2023-10-20T07:23:41.504387Z",
     "iopub.status.busy": "2023-10-20T07:23:41.503916Z",
     "iopub.status.idle": "2023-10-20T07:23:42.074172Z",
     "shell.execute_reply": "2023-10-20T07:23:42.073098Z"
    }
   },
   "outputs": [],
   "source": [
    "from tianshou.data import Batch\n",
    "\n",
    "b = Batch(**_TREE_DATA_2)"
   ]
  },
  {
   "cell_type": "code",
   "execution_count": 9,
   "id": "cb0777c3",
   "metadata": {
    "execution": {
     "iopub.execute_input": "2023-10-20T07:23:42.079349Z",
     "iopub.status.busy": "2023-10-20T07:23:42.078551Z",
     "iopub.status.idle": "2023-10-20T07:23:42.086901Z",
     "shell.execute_reply": "2023-10-20T07:23:42.085607Z"
    }
   },
   "outputs": [
    {
     "data": {
      "text/plain": [
       "Batch(\n",
       "    a: tensor([[-0.0925, -0.6357,  1.1402],\n",
       "               [-2.0423, -1.1758,  0.9877]]),\n",
       "    x: Batch(\n",
       "           c: tensor([[ 0.2343,  0.2786,  1.5216, -1.9536],\n",
       "                      [-0.8656,  1.7485, -2.4316, -1.8778],\n",
       "                      [-1.3291,  0.1364,  1.3137, -1.9218]]),\n",
       "       ),\n",
       ")"
      ]
     },
     "execution_count": 9,
     "metadata": {},
     "output_type": "execute_result"
    }
   ],
   "source": [
    "b"
   ]
  },
  {
   "cell_type": "code",
   "execution_count": 10,
   "id": "43ef8ea3",
   "metadata": {
    "execution": {
     "iopub.execute_input": "2023-10-20T07:23:42.095593Z",
     "iopub.status.busy": "2023-10-20T07:23:42.095215Z",
     "iopub.status.idle": "2023-10-20T07:23:42.104352Z",
     "shell.execute_reply": "2023-10-20T07:23:42.103338Z"
    }
   },
   "outputs": [
    {
     "data": {
      "text/plain": [
       "tensor([[-0.0925, -0.6357,  1.1402],\n",
       "        [-2.0423, -1.1758,  0.9877]])"
      ]
     },
     "execution_count": 10,
     "metadata": {},
     "output_type": "execute_result"
    }
   ],
   "source": [
    "b.a"
   ]
  },
  {
   "cell_type": "code",
   "execution_count": 11,
   "id": "b785ab72",
   "metadata": {
    "execution": {
     "iopub.execute_input": "2023-10-20T07:23:42.109025Z",
     "iopub.status.busy": "2023-10-20T07:23:42.108715Z",
     "iopub.status.idle": "2023-10-20T07:23:48.232410Z",
     "shell.execute_reply": "2023-10-20T07:23:48.231333Z"
    }
   },
   "outputs": [
    {
     "name": "stdout",
     "output_type": "stream",
     "text": [
      "75.3 ns ± 1.69 ns per loop (mean ± std. dev. of 7 runs, 10,000,000 loops each)\n"
     ]
    }
   ],
   "source": [
    "%timeit b.a"
   ]
  },
  {
   "cell_type": "code",
   "execution_count": 12,
   "id": "ad54dc69",
   "metadata": {
    "execution": {
     "iopub.execute_input": "2023-10-20T07:23:48.237297Z",
     "iopub.status.busy": "2023-10-20T07:23:48.236127Z",
     "iopub.status.idle": "2023-10-20T07:23:48.247255Z",
     "shell.execute_reply": "2023-10-20T07:23:48.246030Z"
    }
   },
   "outputs": [
    {
     "data": {
      "text/plain": [
       "Batch(\n",
       "    a: tensor([[-1.3962,  0.1415, -0.6661],\n",
       "               [ 0.5489, -0.9256, -1.1926]]),\n",
       "    x: Batch(\n",
       "           c: tensor([[ 0.2343,  0.2786,  1.5216, -1.9536],\n",
       "                      [-0.8656,  1.7485, -2.4316, -1.8778],\n",
       "                      [-1.3291,  0.1364,  1.3137, -1.9218]]),\n",
       "       ),\n",
       ")"
      ]
     },
     "execution_count": 12,
     "metadata": {},
     "output_type": "execute_result"
    }
   ],
   "source": [
    "new_value = torch.randn(2, 3)\n",
    "b.a = new_value\n",
    "\n",
    "b"
   ]
  },
  {
   "cell_type": "code",
   "execution_count": 13,
   "id": "29b1d0bf",
   "metadata": {
    "execution": {
     "iopub.execute_input": "2023-10-20T07:23:48.251761Z",
     "iopub.status.busy": "2023-10-20T07:23:48.251116Z",
     "iopub.status.idle": "2023-10-20T07:23:53.578411Z",
     "shell.execute_reply": "2023-10-20T07:23:53.577376Z"
    }
   },
   "outputs": [
    {
     "name": "stdout",
     "output_type": "stream",
     "text": [
      "653 ns ± 14.4 ns per loop (mean ± std. dev. of 7 runs, 1,000,000 loops each)\n"
     ]
    }
   ],
   "source": [
    "%timeit b.a = new_value"
   ]
  },
  {
   "cell_type": "markdown",
   "id": "b61ad1d0",
   "metadata": {},
   "source": [
    "## Initialization"
   ]
  },
  {
   "cell_type": "markdown",
   "id": "d70f0d54",
   "metadata": {},
   "source": [
    "### TreeValue's Initialization"
   ]
  },
  {
   "cell_type": "code",
   "execution_count": 14,
   "id": "d32a679b",
   "metadata": {
    "execution": {
     "iopub.execute_input": "2023-10-20T07:23:53.583399Z",
     "iopub.status.busy": "2023-10-20T07:23:53.582502Z",
     "iopub.status.idle": "2023-10-20T07:24:02.220632Z",
     "shell.execute_reply": "2023-10-20T07:24:02.219604Z"
    }
   },
   "outputs": [
    {
     "name": "stdout",
     "output_type": "stream",
     "text": [
      "1.06 µs ± 35.6 ns per loop (mean ± std. dev. of 7 runs, 1,000,000 loops each)\n"
     ]
    }
   ],
   "source": [
    "%timeit FastTreeValue(_TREE_DATA_1)"
   ]
  },
  {
   "cell_type": "markdown",
   "id": "24f3707b",
   "metadata": {},
   "source": [
    "### Tianshou Batch's Initialization"
   ]
  },
  {
   "cell_type": "code",
   "execution_count": 15,
   "id": "ac3958df",
   "metadata": {
    "execution": {
     "iopub.execute_input": "2023-10-20T07:24:02.225163Z",
     "iopub.status.busy": "2023-10-20T07:24:02.224705Z",
     "iopub.status.idle": "2023-10-20T07:24:13.108934Z",
     "shell.execute_reply": "2023-10-20T07:24:13.108046Z"
    }
   },
   "outputs": [
    {
     "name": "stdout",
     "output_type": "stream",
     "text": [
      "13.4 µs ± 358 ns per loop (mean ± std. dev. of 7 runs, 100,000 loops each)\n"
     ]
    }
   ],
   "source": [
    "%timeit Batch(**_TREE_DATA_1)"
   ]
  },
  {
   "cell_type": "markdown",
   "id": "1ab82e2d",
   "metadata": {},
   "source": [
    "## Deep Copy Operation"
   ]
  },
  {
   "cell_type": "code",
   "execution_count": 16,
   "id": "210a9442",
   "metadata": {
    "execution": {
     "iopub.execute_input": "2023-10-20T07:24:13.120810Z",
     "iopub.status.busy": "2023-10-20T07:24:13.114984Z",
     "iopub.status.idle": "2023-10-20T07:24:13.126640Z",
     "shell.execute_reply": "2023-10-20T07:24:13.125543Z"
    }
   },
   "outputs": [],
   "source": [
    "import copy"
   ]
  },
  {
   "cell_type": "markdown",
   "id": "5a736274",
   "metadata": {},
   "source": [
    "### Deep Copy of TreeValue"
   ]
  },
  {
   "cell_type": "code",
   "execution_count": 17,
   "id": "f9bcadd6",
   "metadata": {
    "execution": {
     "iopub.execute_input": "2023-10-20T07:24:13.131458Z",
     "iopub.status.busy": "2023-10-20T07:24:13.130893Z",
     "iopub.status.idle": "2023-10-20T07:24:15.724313Z",
     "shell.execute_reply": "2023-10-20T07:24:15.723427Z"
    }
   },
   "outputs": [
    {
     "name": "stdout",
     "output_type": "stream",
     "text": [
      "320 µs ± 23.9 µs per loop (mean ± std. dev. of 7 runs, 1,000 loops each)\n"
     ]
    }
   ],
   "source": [
    "t3 = FastTreeValue(_TREE_DATA_3)\n",
    "%timeit copy.deepcopy(t3)"
   ]
  },
  {
   "cell_type": "markdown",
   "id": "bf8be7ea",
   "metadata": {},
   "source": [
    "### Deep Copy of Tianshou Batch"
   ]
  },
  {
   "cell_type": "code",
   "execution_count": 18,
   "id": "91998e6f",
   "metadata": {
    "execution": {
     "iopub.execute_input": "2023-10-20T07:24:15.728480Z",
     "iopub.status.busy": "2023-10-20T07:24:15.727884Z",
     "iopub.status.idle": "2023-10-20T07:24:18.157996Z",
     "shell.execute_reply": "2023-10-20T07:24:18.157105Z"
    }
   },
   "outputs": [
    {
     "name": "stdout",
     "output_type": "stream",
     "text": [
      "299 µs ± 5.94 µs per loop (mean ± std. dev. of 7 runs, 1,000 loops each)\n"
     ]
    }
   ],
   "source": [
    "b3 = Batch(**_TREE_DATA_3)\n",
    "%timeit copy.deepcopy(b3)"
   ]
  },
  {
   "cell_type": "markdown",
   "id": "223162fb",
   "metadata": {},
   "source": [
    "## Stack, Concat and Split Operation"
   ]
  },
  {
   "cell_type": "markdown",
   "id": "85fa4a73",
   "metadata": {},
   "source": [
    "### Performance of TreeValue"
   ]
  },
  {
   "cell_type": "code",
   "execution_count": 19,
   "id": "a0c2b697",
   "metadata": {
    "execution": {
     "iopub.execute_input": "2023-10-20T07:24:18.162534Z",
     "iopub.status.busy": "2023-10-20T07:24:18.161788Z",
     "iopub.status.idle": "2023-10-20T07:24:18.167971Z",
     "shell.execute_reply": "2023-10-20T07:24:18.167088Z"
    }
   },
   "outputs": [],
   "source": [
    "trees = [FastTreeValue(_TREE_DATA_2) for _ in range(8)]"
   ]
  },
  {
   "cell_type": "code",
   "execution_count": 20,
   "id": "017ea5a5",
   "metadata": {
    "execution": {
     "iopub.execute_input": "2023-10-20T07:24:18.171991Z",
     "iopub.status.busy": "2023-10-20T07:24:18.171693Z",
     "iopub.status.idle": "2023-10-20T07:24:18.183707Z",
     "shell.execute_reply": "2023-10-20T07:24:18.182808Z"
    }
   },
   "outputs": [
    {
     "data": {
      "text/plain": [
       "<FastTreeValue 0x7f9553ed85e0>\n",
       "├── 'a' --> tensor([[[-0.0925, -0.6357,  1.1402],\n",
       "│                    [-2.0423, -1.1758,  0.9877]],\n",
       "│           \n",
       "│                   [[-0.0925, -0.6357,  1.1402],\n",
       "│                    [-2.0423, -1.1758,  0.9877]],\n",
       "│           \n",
       "│                   [[-0.0925, -0.6357,  1.1402],\n",
       "│                    [-2.0423, -1.1758,  0.9877]],\n",
       "│           \n",
       "│                   [[-0.0925, -0.6357,  1.1402],\n",
       "│                    [-2.0423, -1.1758,  0.9877]],\n",
       "│           \n",
       "│                   [[-0.0925, -0.6357,  1.1402],\n",
       "│                    [-2.0423, -1.1758,  0.9877]],\n",
       "│           \n",
       "│                   [[-0.0925, -0.6357,  1.1402],\n",
       "│                    [-2.0423, -1.1758,  0.9877]],\n",
       "│           \n",
       "│                   [[-0.0925, -0.6357,  1.1402],\n",
       "│                    [-2.0423, -1.1758,  0.9877]],\n",
       "│           \n",
       "│                   [[-0.0925, -0.6357,  1.1402],\n",
       "│                    [-2.0423, -1.1758,  0.9877]]])\n",
       "└── 'x' --> <FastTreeValue 0x7f9552e0cbb0>\n",
       "    └── 'c' --> tensor([[[ 0.2343,  0.2786,  1.5216, -1.9536],\n",
       "                         [-0.8656,  1.7485, -2.4316, -1.8778],\n",
       "                         [-1.3291,  0.1364,  1.3137, -1.9218]],\n",
       "                \n",
       "                        [[ 0.2343,  0.2786,  1.5216, -1.9536],\n",
       "                         [-0.8656,  1.7485, -2.4316, -1.8778],\n",
       "                         [-1.3291,  0.1364,  1.3137, -1.9218]],\n",
       "                \n",
       "                        [[ 0.2343,  0.2786,  1.5216, -1.9536],\n",
       "                         [-0.8656,  1.7485, -2.4316, -1.8778],\n",
       "                         [-1.3291,  0.1364,  1.3137, -1.9218]],\n",
       "                \n",
       "                        [[ 0.2343,  0.2786,  1.5216, -1.9536],\n",
       "                         [-0.8656,  1.7485, -2.4316, -1.8778],\n",
       "                         [-1.3291,  0.1364,  1.3137, -1.9218]],\n",
       "                \n",
       "                        [[ 0.2343,  0.2786,  1.5216, -1.9536],\n",
       "                         [-0.8656,  1.7485, -2.4316, -1.8778],\n",
       "                         [-1.3291,  0.1364,  1.3137, -1.9218]],\n",
       "                \n",
       "                        [[ 0.2343,  0.2786,  1.5216, -1.9536],\n",
       "                         [-0.8656,  1.7485, -2.4316, -1.8778],\n",
       "                         [-1.3291,  0.1364,  1.3137, -1.9218]],\n",
       "                \n",
       "                        [[ 0.2343,  0.2786,  1.5216, -1.9536],\n",
       "                         [-0.8656,  1.7485, -2.4316, -1.8778],\n",
       "                         [-1.3291,  0.1364,  1.3137, -1.9218]],\n",
       "                \n",
       "                        [[ 0.2343,  0.2786,  1.5216, -1.9536],\n",
       "                         [-0.8656,  1.7485, -2.4316, -1.8778],\n",
       "                         [-1.3291,  0.1364,  1.3137, -1.9218]]])"
      ]
     },
     "execution_count": 20,
     "metadata": {},
     "output_type": "execute_result"
    }
   ],
   "source": [
    "t_stack = FastTreeValue.func(subside=True)(torch.stack)\n",
    "\n",
    "t_stack(trees)"
   ]
  },
  {
   "cell_type": "code",
   "execution_count": 21,
   "id": "f8b3f415",
   "metadata": {
    "execution": {
     "iopub.execute_input": "2023-10-20T07:24:18.187351Z",
     "iopub.status.busy": "2023-10-20T07:24:18.187058Z",
     "iopub.status.idle": "2023-10-20T07:24:22.186618Z",
     "shell.execute_reply": "2023-10-20T07:24:22.185713Z"
    }
   },
   "outputs": [
    {
     "name": "stdout",
     "output_type": "stream",
     "text": [
      "49.2 µs ± 976 ns per loop (mean ± std. dev. of 7 runs, 10,000 loops each)\n"
     ]
    }
   ],
   "source": [
    "%timeit t_stack(trees)"
   ]
  },
  {
   "cell_type": "code",
   "execution_count": 22,
   "id": "94b56771",
   "metadata": {
    "execution": {
     "iopub.execute_input": "2023-10-20T07:24:22.192850Z",
     "iopub.status.busy": "2023-10-20T07:24:22.190413Z",
     "iopub.status.idle": "2023-10-20T07:24:22.202311Z",
     "shell.execute_reply": "2023-10-20T07:24:22.201334Z"
    }
   },
   "outputs": [
    {
     "data": {
      "text/plain": [
       "<FastTreeValue 0x7f9552e0cd90>\n",
       "├── 'a' --> tensor([[-0.0925, -0.6357,  1.1402],\n",
       "│                   [-2.0423, -1.1758,  0.9877],\n",
       "│                   [-0.0925, -0.6357,  1.1402],\n",
       "│                   [-2.0423, -1.1758,  0.9877],\n",
       "│                   [-0.0925, -0.6357,  1.1402],\n",
       "│                   [-2.0423, -1.1758,  0.9877],\n",
       "│                   [-0.0925, -0.6357,  1.1402],\n",
       "│                   [-2.0423, -1.1758,  0.9877],\n",
       "│                   [-0.0925, -0.6357,  1.1402],\n",
       "│                   [-2.0423, -1.1758,  0.9877],\n",
       "│                   [-0.0925, -0.6357,  1.1402],\n",
       "│                   [-2.0423, -1.1758,  0.9877],\n",
       "│                   [-0.0925, -0.6357,  1.1402],\n",
       "│                   [-2.0423, -1.1758,  0.9877],\n",
       "│                   [-0.0925, -0.6357,  1.1402],\n",
       "│                   [-2.0423, -1.1758,  0.9877]])\n",
       "└── 'x' --> <FastTreeValue 0x7f9552e0c9a0>\n",
       "    └── 'c' --> tensor([[ 0.2343,  0.2786,  1.5216, -1.9536],\n",
       "                        [-0.8656,  1.7485, -2.4316, -1.8778],\n",
       "                        [-1.3291,  0.1364,  1.3137, -1.9218],\n",
       "                        [ 0.2343,  0.2786,  1.5216, -1.9536],\n",
       "                        [-0.8656,  1.7485, -2.4316, -1.8778],\n",
       "                        [-1.3291,  0.1364,  1.3137, -1.9218],\n",
       "                        [ 0.2343,  0.2786,  1.5216, -1.9536],\n",
       "                        [-0.8656,  1.7485, -2.4316, -1.8778],\n",
       "                        [-1.3291,  0.1364,  1.3137, -1.9218],\n",
       "                        [ 0.2343,  0.2786,  1.5216, -1.9536],\n",
       "                        [-0.8656,  1.7485, -2.4316, -1.8778],\n",
       "                        [-1.3291,  0.1364,  1.3137, -1.9218],\n",
       "                        [ 0.2343,  0.2786,  1.5216, -1.9536],\n",
       "                        [-0.8656,  1.7485, -2.4316, -1.8778],\n",
       "                        [-1.3291,  0.1364,  1.3137, -1.9218],\n",
       "                        [ 0.2343,  0.2786,  1.5216, -1.9536],\n",
       "                        [-0.8656,  1.7485, -2.4316, -1.8778],\n",
       "                        [-1.3291,  0.1364,  1.3137, -1.9218],\n",
       "                        [ 0.2343,  0.2786,  1.5216, -1.9536],\n",
       "                        [-0.8656,  1.7485, -2.4316, -1.8778],\n",
       "                        [-1.3291,  0.1364,  1.3137, -1.9218],\n",
       "                        [ 0.2343,  0.2786,  1.5216, -1.9536],\n",
       "                        [-0.8656,  1.7485, -2.4316, -1.8778],\n",
       "                        [-1.3291,  0.1364,  1.3137, -1.9218]])"
      ]
     },
     "execution_count": 22,
     "metadata": {},
     "output_type": "execute_result"
    }
   ],
   "source": [
    "t_cat = FastTreeValue.func(subside=True)(torch.cat)\n",
    "\n",
    "t_cat(trees)"
   ]
  },
  {
   "cell_type": "code",
   "execution_count": 23,
   "id": "5e9c06a6",
   "metadata": {
    "execution": {
     "iopub.execute_input": "2023-10-20T07:24:22.206882Z",
     "iopub.status.busy": "2023-10-20T07:24:22.206477Z",
     "iopub.status.idle": "2023-10-20T07:24:25.970286Z",
     "shell.execute_reply": "2023-10-20T07:24:25.969311Z"
    }
   },
   "outputs": [
    {
     "name": "stdout",
     "output_type": "stream",
     "text": [
      "46.4 µs ± 1.35 µs per loop (mean ± std. dev. of 7 runs, 10,000 loops each)\n"
     ]
    }
   ],
   "source": [
    "%timeit t_cat(trees)"
   ]
  },
  {
   "cell_type": "code",
   "execution_count": 24,
   "id": "a3ab5c8f",
   "metadata": {
    "execution": {
     "iopub.execute_input": "2023-10-20T07:24:25.974470Z",
     "iopub.status.busy": "2023-10-20T07:24:25.974102Z",
     "iopub.status.idle": "2023-10-20T07:24:34.218281Z",
     "shell.execute_reply": "2023-10-20T07:24:34.217274Z"
    }
   },
   "outputs": [
    {
     "name": "stdout",
     "output_type": "stream",
     "text": [
      "102 µs ± 4.22 µs per loop (mean ± std. dev. of 7 runs, 10,000 loops each)\n"
     ]
    }
   ],
   "source": [
    "t_split = FastTreeValue.func(rise=True)(torch.split)\n",
    "tree = FastTreeValue({\n",
    "    'obs': torch.randn(8, 4, 84, 84),\n",
    "    'action': torch.randint(0, 6, size=(8, 1,)),\n",
    "    'reward': torch.rand(8, 1),\n",
    "})\n",
    "\n",
    "%timeit t_split(tree, 1)"
   ]
  },
  {
   "cell_type": "markdown",
   "id": "31c3ec0b",
   "metadata": {},
   "source": [
    "### Performance of Tianshou Batch"
   ]
  },
  {
   "cell_type": "code",
   "execution_count": 25,
   "id": "9ead828a",
   "metadata": {
    "execution": {
     "iopub.execute_input": "2023-10-20T07:24:34.222325Z",
     "iopub.status.busy": "2023-10-20T07:24:34.221926Z",
     "iopub.status.idle": "2023-10-20T07:24:34.236747Z",
     "shell.execute_reply": "2023-10-20T07:24:34.235801Z"
    }
   },
   "outputs": [
    {
     "data": {
      "text/plain": [
       "Batch(\n",
       "    x: Batch(\n",
       "           c: tensor([[[ 0.2343,  0.2786,  1.5216, -1.9536],\n",
       "                       [-0.8656,  1.7485, -2.4316, -1.8778],\n",
       "                       [-1.3291,  0.1364,  1.3137, -1.9218]],\n",
       "              \n",
       "                      [[ 0.2343,  0.2786,  1.5216, -1.9536],\n",
       "                       [-0.8656,  1.7485, -2.4316, -1.8778],\n",
       "                       [-1.3291,  0.1364,  1.3137, -1.9218]],\n",
       "              \n",
       "                      [[ 0.2343,  0.2786,  1.5216, -1.9536],\n",
       "                       [-0.8656,  1.7485, -2.4316, -1.8778],\n",
       "                       [-1.3291,  0.1364,  1.3137, -1.9218]],\n",
       "              \n",
       "                      [[ 0.2343,  0.2786,  1.5216, -1.9536],\n",
       "                       [-0.8656,  1.7485, -2.4316, -1.8778],\n",
       "                       [-1.3291,  0.1364,  1.3137, -1.9218]],\n",
       "              \n",
       "                      [[ 0.2343,  0.2786,  1.5216, -1.9536],\n",
       "                       [-0.8656,  1.7485, -2.4316, -1.8778],\n",
       "                       [-1.3291,  0.1364,  1.3137, -1.9218]],\n",
       "              \n",
       "                      [[ 0.2343,  0.2786,  1.5216, -1.9536],\n",
       "                       [-0.8656,  1.7485, -2.4316, -1.8778],\n",
       "                       [-1.3291,  0.1364,  1.3137, -1.9218]],\n",
       "              \n",
       "                      [[ 0.2343,  0.2786,  1.5216, -1.9536],\n",
       "                       [-0.8656,  1.7485, -2.4316, -1.8778],\n",
       "                       [-1.3291,  0.1364,  1.3137, -1.9218]],\n",
       "              \n",
       "                      [[ 0.2343,  0.2786,  1.5216, -1.9536],\n",
       "                       [-0.8656,  1.7485, -2.4316, -1.8778],\n",
       "                       [-1.3291,  0.1364,  1.3137, -1.9218]]]),\n",
       "       ),\n",
       "    a: tensor([[[-0.0925, -0.6357,  1.1402],\n",
       "                [-2.0423, -1.1758,  0.9877]],\n",
       "       \n",
       "               [[-0.0925, -0.6357,  1.1402],\n",
       "                [-2.0423, -1.1758,  0.9877]],\n",
       "       \n",
       "               [[-0.0925, -0.6357,  1.1402],\n",
       "                [-2.0423, -1.1758,  0.9877]],\n",
       "       \n",
       "               [[-0.0925, -0.6357,  1.1402],\n",
       "                [-2.0423, -1.1758,  0.9877]],\n",
       "       \n",
       "               [[-0.0925, -0.6357,  1.1402],\n",
       "                [-2.0423, -1.1758,  0.9877]],\n",
       "       \n",
       "               [[-0.0925, -0.6357,  1.1402],\n",
       "                [-2.0423, -1.1758,  0.9877]],\n",
       "       \n",
       "               [[-0.0925, -0.6357,  1.1402],\n",
       "                [-2.0423, -1.1758,  0.9877]],\n",
       "       \n",
       "               [[-0.0925, -0.6357,  1.1402],\n",
       "                [-2.0423, -1.1758,  0.9877]]]),\n",
       ")"
      ]
     },
     "execution_count": 25,
     "metadata": {},
     "output_type": "execute_result"
    }
   ],
   "source": [
    "batches = [Batch(**_TREE_DATA_2) for _ in range(8)]\n",
    "\n",
    "Batch.stack(batches)"
   ]
  },
  {
   "cell_type": "code",
   "execution_count": 26,
   "id": "ec9037a3",
   "metadata": {
    "execution": {
     "iopub.execute_input": "2023-10-20T07:24:34.244251Z",
     "iopub.status.busy": "2023-10-20T07:24:34.243386Z",
     "iopub.status.idle": "2023-10-20T07:24:43.639868Z",
     "shell.execute_reply": "2023-10-20T07:24:43.638883Z"
    }
   },
   "outputs": [
    {
     "name": "stdout",
     "output_type": "stream",
     "text": [
      "116 µs ± 1.1 µs per loop (mean ± std. dev. of 7 runs, 10,000 loops each)\n"
     ]
    }
   ],
   "source": [
    "%timeit Batch.stack(batches)"
   ]
  },
  {
   "cell_type": "code",
   "execution_count": 27,
   "id": "cb8ab77e",
   "metadata": {
    "execution": {
     "iopub.execute_input": "2023-10-20T07:24:43.644634Z",
     "iopub.status.busy": "2023-10-20T07:24:43.644303Z",
     "iopub.status.idle": "2023-10-20T07:24:43.656774Z",
     "shell.execute_reply": "2023-10-20T07:24:43.655818Z"
    }
   },
   "outputs": [
    {
     "data": {
      "text/plain": [
       "Batch(\n",
       "    x: Batch(\n",
       "           c: tensor([[ 0.2343,  0.2786,  1.5216, -1.9536],\n",
       "                      [-0.8656,  1.7485, -2.4316, -1.8778],\n",
       "                      [-1.3291,  0.1364,  1.3137, -1.9218],\n",
       "                      [ 0.2343,  0.2786,  1.5216, -1.9536],\n",
       "                      [-0.8656,  1.7485, -2.4316, -1.8778],\n",
       "                      [-1.3291,  0.1364,  1.3137, -1.9218],\n",
       "                      [ 0.2343,  0.2786,  1.5216, -1.9536],\n",
       "                      [-0.8656,  1.7485, -2.4316, -1.8778],\n",
       "                      [-1.3291,  0.1364,  1.3137, -1.9218],\n",
       "                      [ 0.2343,  0.2786,  1.5216, -1.9536],\n",
       "                      [-0.8656,  1.7485, -2.4316, -1.8778],\n",
       "                      [-1.3291,  0.1364,  1.3137, -1.9218],\n",
       "                      [ 0.2343,  0.2786,  1.5216, -1.9536],\n",
       "                      [-0.8656,  1.7485, -2.4316, -1.8778],\n",
       "                      [-1.3291,  0.1364,  1.3137, -1.9218],\n",
       "                      [ 0.2343,  0.2786,  1.5216, -1.9536],\n",
       "                      [-0.8656,  1.7485, -2.4316, -1.8778],\n",
       "                      [-1.3291,  0.1364,  1.3137, -1.9218],\n",
       "                      [ 0.2343,  0.2786,  1.5216, -1.9536],\n",
       "                      [-0.8656,  1.7485, -2.4316, -1.8778],\n",
       "                      [-1.3291,  0.1364,  1.3137, -1.9218],\n",
       "                      [ 0.2343,  0.2786,  1.5216, -1.9536],\n",
       "                      [-0.8656,  1.7485, -2.4316, -1.8778],\n",
       "                      [-1.3291,  0.1364,  1.3137, -1.9218]]),\n",
       "       ),\n",
       "    a: tensor([[-0.0925, -0.6357,  1.1402],\n",
       "               [-2.0423, -1.1758,  0.9877],\n",
       "               [-0.0925, -0.6357,  1.1402],\n",
       "               [-2.0423, -1.1758,  0.9877],\n",
       "               [-0.0925, -0.6357,  1.1402],\n",
       "               [-2.0423, -1.1758,  0.9877],\n",
       "               [-0.0925, -0.6357,  1.1402],\n",
       "               [-2.0423, -1.1758,  0.9877],\n",
       "               [-0.0925, -0.6357,  1.1402],\n",
       "               [-2.0423, -1.1758,  0.9877],\n",
       "               [-0.0925, -0.6357,  1.1402],\n",
       "               [-2.0423, -1.1758,  0.9877],\n",
       "               [-0.0925, -0.6357,  1.1402],\n",
       "               [-2.0423, -1.1758,  0.9877],\n",
       "               [-0.0925, -0.6357,  1.1402],\n",
       "               [-2.0423, -1.1758,  0.9877]]),\n",
       ")"
      ]
     },
     "execution_count": 27,
     "metadata": {},
     "output_type": "execute_result"
    }
   ],
   "source": [
    "Batch.cat(batches)"
   ]
  },
  {
   "cell_type": "code",
   "execution_count": 28,
   "id": "18dfb045",
   "metadata": {
    "execution": {
     "iopub.execute_input": "2023-10-20T07:24:43.661131Z",
     "iopub.status.busy": "2023-10-20T07:24:43.660641Z",
     "iopub.status.idle": "2023-10-20T07:24:45.407167Z",
     "shell.execute_reply": "2023-10-20T07:24:45.406101Z"
    }
   },
   "outputs": [
    {
     "name": "stdout",
     "output_type": "stream",
     "text": [
      "215 µs ± 15 µs per loop (mean ± std. dev. of 7 runs, 1,000 loops each)\n"
     ]
    }
   ],
   "source": [
    "%timeit Batch.cat(batches)"
   ]
  },
  {
   "cell_type": "code",
   "execution_count": 29,
   "id": "c6688e51",
   "metadata": {
    "execution": {
     "iopub.execute_input": "2023-10-20T07:24:45.411599Z",
     "iopub.status.busy": "2023-10-20T07:24:45.411024Z",
     "iopub.status.idle": "2023-10-20T07:24:51.669143Z",
     "shell.execute_reply": "2023-10-20T07:24:51.668251Z"
    }
   },
   "outputs": [
    {
     "name": "stdout",
     "output_type": "stream",
     "text": [
      "774 µs ± 18.7 µs per loop (mean ± std. dev. of 7 runs, 1,000 loops each)\n"
     ]
    }
   ],
   "source": [
    "batch = Batch({\n",
    "    'obs': torch.randn(8, 4, 84, 84),\n",
    "    'action': torch.randint(0, 6, size=(8, 1,)),\n",
    "    'reward': torch.rand(8, 1)}\n",
    ")\n",
    "\n",
    "%timeit list(Batch.split(batch, 1, shuffle=False, merge_last=True))"
   ]
  },
  {
   "cell_type": "code",
   "execution_count": null,
   "id": "2539fbd9",
   "metadata": {},
   "outputs": [],
   "source": []
  }
 ],
 "metadata": {
  "kernelspec": {
   "display_name": "Python 3 (ipykernel)",
   "language": "python",
   "name": "python3"
  },
  "language_info": {
   "codemirror_mode": {
    "name": "ipython",
    "version": 3
   },
   "file_extension": ".py",
   "mimetype": "text/x-python",
   "name": "python",
   "nbconvert_exporter": "python",
   "pygments_lexer": "ipython3",
   "version": "3.8.18"
  }
 },
 "nbformat": 4,
 "nbformat_minor": 5
}
