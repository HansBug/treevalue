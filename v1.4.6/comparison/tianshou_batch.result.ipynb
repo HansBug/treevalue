{
 "cells": [
  {
   "cell_type": "markdown",
   "id": "9d39d946",
   "metadata": {},
   "source": [
    "# Comparison Between TreeValue and Tianshou Batch"
   ]
  },
  {
   "cell_type": "markdown",
   "id": "3c6db2d4",
   "metadata": {},
   "source": [
    "In this section, we will take a look at the feature and performance of the [Tianshou Batch](https://github.com/thu-ml/tianshou) library, which is developed by Tsinghua Machine Learning Group."
   ]
  },
  {
   "cell_type": "markdown",
   "id": "069361b0",
   "metadata": {},
   "source": [
    "Before starting the comparison, let us define some thing."
   ]
  },
  {
   "cell_type": "code",
   "execution_count": 1,
   "id": "06fc8d26",
   "metadata": {
    "execution": {
     "iopub.execute_input": "2023-08-10T10:27:52.157268Z",
     "iopub.status.busy": "2023-08-10T10:27:52.156451Z",
     "iopub.status.idle": "2023-08-10T10:27:54.023738Z",
     "shell.execute_reply": "2023-08-10T10:27:54.022606Z"
    }
   },
   "outputs": [],
   "source": [
    "import torch \n",
    "\n",
    "_TREE_DATA_1 = {'a': 1, 'b': 2, 'x': {'c': 3, 'd': 4}}\n",
    "_TREE_DATA_2 = {\n",
    "    'a': torch.randn(2, 3), \n",
    "    'x': {\n",
    "        'c': torch.randn(3, 4)\n",
    "    },\n",
    "}\n",
    "_TREE_DATA_3 = {\n",
    "    'obs': torch.randn(4, 84, 84),\n",
    "    'action': torch.randint(0, 6, size=(1,)),\n",
    "    'reward': torch.rand(1),\n",
    "}"
   ]
  },
  {
   "cell_type": "markdown",
   "id": "83461b25",
   "metadata": {},
   "source": [
    "## Read and Write Operation"
   ]
  },
  {
   "cell_type": "markdown",
   "id": "067b3f73",
   "metadata": {},
   "source": [
    "Reading and writing are the two most common operations in the tree data structure based on the data model (TreeValue and Tianshou Batch both belong to this type), so this section will compare the reading and writing performance of these two libraries."
   ]
  },
  {
   "cell_type": "markdown",
   "id": "5d09a5b7",
   "metadata": {},
   "source": [
    "### TreeValue's Get and Set"
   ]
  },
  {
   "cell_type": "code",
   "execution_count": 2,
   "id": "9519c4bb",
   "metadata": {
    "execution": {
     "iopub.execute_input": "2023-08-10T10:27:54.028886Z",
     "iopub.status.busy": "2023-08-10T10:27:54.028511Z",
     "iopub.status.idle": "2023-08-10T10:27:54.458334Z",
     "shell.execute_reply": "2023-08-10T10:27:54.457165Z"
    }
   },
   "outputs": [],
   "source": [
    "from treevalue import FastTreeValue\n",
    "\n",
    "t = FastTreeValue(_TREE_DATA_2)"
   ]
  },
  {
   "cell_type": "code",
   "execution_count": 3,
   "id": "11c37677",
   "metadata": {
    "execution": {
     "iopub.execute_input": "2023-08-10T10:27:54.464050Z",
     "iopub.status.busy": "2023-08-10T10:27:54.463151Z",
     "iopub.status.idle": "2023-08-10T10:27:54.475924Z",
     "shell.execute_reply": "2023-08-10T10:27:54.474910Z"
    }
   },
   "outputs": [
    {
     "data": {
      "text/plain": [
       "<FastTreeValue 0x7f028cd92d90>\n",
       "├── 'a' --> tensor([[-0.6093, -0.9796, -1.6916],\n",
       "│                   [ 0.6389, -0.0124,  1.9296]])\n",
       "└── 'x' --> <FastTreeValue 0x7f028cd494f0>\n",
       "    └── 'c' --> tensor([[ 0.8127,  0.0227, -0.1015,  0.7801],\n",
       "                        [-0.2804, -1.1122,  1.0922, -0.2541],\n",
       "                        [ 1.0530, -0.4106, -0.6510, -0.5090]])"
      ]
     },
     "execution_count": 3,
     "metadata": {},
     "output_type": "execute_result"
    }
   ],
   "source": [
    "t"
   ]
  },
  {
   "cell_type": "code",
   "execution_count": 4,
   "id": "fd70b0b9",
   "metadata": {
    "execution": {
     "iopub.execute_input": "2023-08-10T10:27:54.480856Z",
     "iopub.status.busy": "2023-08-10T10:27:54.480556Z",
     "iopub.status.idle": "2023-08-10T10:27:54.487873Z",
     "shell.execute_reply": "2023-08-10T10:27:54.486747Z"
    }
   },
   "outputs": [
    {
     "data": {
      "text/plain": [
       "tensor([[-0.6093, -0.9796, -1.6916],\n",
       "        [ 0.6389, -0.0124,  1.9296]])"
      ]
     },
     "execution_count": 4,
     "metadata": {},
     "output_type": "execute_result"
    }
   ],
   "source": [
    "t.a"
   ]
  },
  {
   "cell_type": "code",
   "execution_count": 5,
   "id": "c18197bd",
   "metadata": {
    "execution": {
     "iopub.execute_input": "2023-08-10T10:27:54.493019Z",
     "iopub.status.busy": "2023-08-10T10:27:54.492432Z",
     "iopub.status.idle": "2023-08-10T10:28:00.699870Z",
     "shell.execute_reply": "2023-08-10T10:28:00.698772Z"
    }
   },
   "outputs": [
    {
     "name": "stdout",
     "output_type": "stream",
     "text": [
      "76.2 ns ± 0.777 ns per loop (mean ± std. dev. of 7 runs, 10,000,000 loops each)\n"
     ]
    }
   ],
   "source": [
    "%timeit t.a"
   ]
  },
  {
   "cell_type": "code",
   "execution_count": 6,
   "id": "bd52f867",
   "metadata": {
    "execution": {
     "iopub.execute_input": "2023-08-10T10:28:00.704411Z",
     "iopub.status.busy": "2023-08-10T10:28:00.703785Z",
     "iopub.status.idle": "2023-08-10T10:28:00.712980Z",
     "shell.execute_reply": "2023-08-10T10:28:00.711858Z"
    }
   },
   "outputs": [
    {
     "data": {
      "text/plain": [
       "<FastTreeValue 0x7f028cd92d90>\n",
       "├── 'a' --> tensor([[1.2914, 0.2086, 0.0058],\n",
       "│                   [0.4309, 1.2050, 0.5533]])\n",
       "└── 'x' --> <FastTreeValue 0x7f028cd494f0>\n",
       "    └── 'c' --> tensor([[ 0.8127,  0.0227, -0.1015,  0.7801],\n",
       "                        [-0.2804, -1.1122,  1.0922, -0.2541],\n",
       "                        [ 1.0530, -0.4106, -0.6510, -0.5090]])"
      ]
     },
     "execution_count": 6,
     "metadata": {},
     "output_type": "execute_result"
    }
   ],
   "source": [
    "new_value = torch.randn(2, 3)\n",
    "t.a = new_value\n",
    "\n",
    "t"
   ]
  },
  {
   "cell_type": "code",
   "execution_count": 7,
   "id": "bbe04d1c",
   "metadata": {
    "execution": {
     "iopub.execute_input": "2023-08-10T10:28:00.716997Z",
     "iopub.status.busy": "2023-08-10T10:28:00.716548Z",
     "iopub.status.idle": "2023-08-10T10:28:07.388209Z",
     "shell.execute_reply": "2023-08-10T10:28:07.387205Z"
    }
   },
   "outputs": [
    {
     "name": "stdout",
     "output_type": "stream",
     "text": [
      "81.7 ns ± 0.438 ns per loop (mean ± std. dev. of 7 runs, 10,000,000 loops each)\n"
     ]
    }
   ],
   "source": [
    "%timeit t.a = new_value"
   ]
  },
  {
   "cell_type": "markdown",
   "id": "48c49731",
   "metadata": {},
   "source": [
    "### Tianshou Batch's Get and Set"
   ]
  },
  {
   "cell_type": "code",
   "execution_count": 8,
   "id": "f1bb14c1",
   "metadata": {
    "execution": {
     "iopub.execute_input": "2023-08-10T10:28:07.392608Z",
     "iopub.status.busy": "2023-08-10T10:28:07.392003Z",
     "iopub.status.idle": "2023-08-10T10:28:07.891355Z",
     "shell.execute_reply": "2023-08-10T10:28:07.890125Z"
    }
   },
   "outputs": [],
   "source": [
    "from tianshou.data import Batch\n",
    "\n",
    "b = Batch(**_TREE_DATA_2)"
   ]
  },
  {
   "cell_type": "code",
   "execution_count": 9,
   "id": "cb0777c3",
   "metadata": {
    "execution": {
     "iopub.execute_input": "2023-08-10T10:28:07.896159Z",
     "iopub.status.busy": "2023-08-10T10:28:07.895737Z",
     "iopub.status.idle": "2023-08-10T10:28:07.903903Z",
     "shell.execute_reply": "2023-08-10T10:28:07.902626Z"
    }
   },
   "outputs": [
    {
     "data": {
      "text/plain": [
       "Batch(\n",
       "    a: tensor([[-0.6093, -0.9796, -1.6916],\n",
       "               [ 0.6389, -0.0124,  1.9296]]),\n",
       "    x: Batch(\n",
       "           c: tensor([[ 0.8127,  0.0227, -0.1015,  0.7801],\n",
       "                      [-0.2804, -1.1122,  1.0922, -0.2541],\n",
       "                      [ 1.0530, -0.4106, -0.6510, -0.5090]]),\n",
       "       ),\n",
       ")"
      ]
     },
     "execution_count": 9,
     "metadata": {},
     "output_type": "execute_result"
    }
   ],
   "source": [
    "b"
   ]
  },
  {
   "cell_type": "code",
   "execution_count": 10,
   "id": "43ef8ea3",
   "metadata": {
    "execution": {
     "iopub.execute_input": "2023-08-10T10:28:07.908558Z",
     "iopub.status.busy": "2023-08-10T10:28:07.908046Z",
     "iopub.status.idle": "2023-08-10T10:28:07.915440Z",
     "shell.execute_reply": "2023-08-10T10:28:07.914283Z"
    }
   },
   "outputs": [
    {
     "data": {
      "text/plain": [
       "tensor([[-0.6093, -0.9796, -1.6916],\n",
       "        [ 0.6389, -0.0124,  1.9296]])"
      ]
     },
     "execution_count": 10,
     "metadata": {},
     "output_type": "execute_result"
    }
   ],
   "source": [
    "b.a"
   ]
  },
  {
   "cell_type": "code",
   "execution_count": 11,
   "id": "b785ab72",
   "metadata": {
    "execution": {
     "iopub.execute_input": "2023-08-10T10:28:07.920258Z",
     "iopub.status.busy": "2023-08-10T10:28:07.919691Z",
     "iopub.status.idle": "2023-08-10T10:28:13.937705Z",
     "shell.execute_reply": "2023-08-10T10:28:13.936653Z"
    }
   },
   "outputs": [
    {
     "name": "stdout",
     "output_type": "stream",
     "text": [
      "74 ns ± 0.574 ns per loop (mean ± std. dev. of 7 runs, 10,000,000 loops each)\n"
     ]
    }
   ],
   "source": [
    "%timeit b.a"
   ]
  },
  {
   "cell_type": "code",
   "execution_count": 12,
   "id": "ad54dc69",
   "metadata": {
    "execution": {
     "iopub.execute_input": "2023-08-10T10:28:13.942119Z",
     "iopub.status.busy": "2023-08-10T10:28:13.941505Z",
     "iopub.status.idle": "2023-08-10T10:28:13.949677Z",
     "shell.execute_reply": "2023-08-10T10:28:13.948668Z"
    }
   },
   "outputs": [
    {
     "data": {
      "text/plain": [
       "Batch(\n",
       "    a: tensor([[-0.7134, -0.0742,  0.1632],\n",
       "               [ 0.0464,  0.7477, -1.3023]]),\n",
       "    x: Batch(\n",
       "           c: tensor([[ 0.8127,  0.0227, -0.1015,  0.7801],\n",
       "                      [-0.2804, -1.1122,  1.0922, -0.2541],\n",
       "                      [ 1.0530, -0.4106, -0.6510, -0.5090]]),\n",
       "       ),\n",
       ")"
      ]
     },
     "execution_count": 12,
     "metadata": {},
     "output_type": "execute_result"
    }
   ],
   "source": [
    "new_value = torch.randn(2, 3)\n",
    "b.a = new_value\n",
    "\n",
    "b"
   ]
  },
  {
   "cell_type": "code",
   "execution_count": 13,
   "id": "29b1d0bf",
   "metadata": {
    "execution": {
     "iopub.execute_input": "2023-08-10T10:28:13.953656Z",
     "iopub.status.busy": "2023-08-10T10:28:13.953000Z",
     "iopub.status.idle": "2023-08-10T10:28:19.164338Z",
     "shell.execute_reply": "2023-08-10T10:28:19.163311Z"
    }
   },
   "outputs": [
    {
     "name": "stdout",
     "output_type": "stream",
     "text": [
      "642 ns ± 6.31 ns per loop (mean ± std. dev. of 7 runs, 1,000,000 loops each)\n"
     ]
    }
   ],
   "source": [
    "%timeit b.a = new_value"
   ]
  },
  {
   "cell_type": "markdown",
   "id": "b61ad1d0",
   "metadata": {},
   "source": [
    "## Initialization"
   ]
  },
  {
   "cell_type": "markdown",
   "id": "d70f0d54",
   "metadata": {},
   "source": [
    "### TreeValue's Initialization"
   ]
  },
  {
   "cell_type": "code",
   "execution_count": 14,
   "id": "d32a679b",
   "metadata": {
    "execution": {
     "iopub.execute_input": "2023-08-10T10:28:19.169205Z",
     "iopub.status.busy": "2023-08-10T10:28:19.168195Z",
     "iopub.status.idle": "2023-08-10T10:28:28.420921Z",
     "shell.execute_reply": "2023-08-10T10:28:28.419964Z"
    }
   },
   "outputs": [
    {
     "name": "stdout",
     "output_type": "stream",
     "text": [
      "1.14 µs ± 15.1 ns per loop (mean ± std. dev. of 7 runs, 1,000,000 loops each)\n"
     ]
    }
   ],
   "source": [
    "%timeit FastTreeValue(_TREE_DATA_1)"
   ]
  },
  {
   "cell_type": "markdown",
   "id": "24f3707b",
   "metadata": {},
   "source": [
    "### Tianshou Batch's Initialization"
   ]
  },
  {
   "cell_type": "code",
   "execution_count": 15,
   "id": "ac3958df",
   "metadata": {
    "execution": {
     "iopub.execute_input": "2023-08-10T10:28:28.426739Z",
     "iopub.status.busy": "2023-08-10T10:28:28.424680Z",
     "iopub.status.idle": "2023-08-10T10:28:39.471537Z",
     "shell.execute_reply": "2023-08-10T10:28:39.470507Z"
    }
   },
   "outputs": [
    {
     "name": "stdout",
     "output_type": "stream",
     "text": [
      "13.6 µs ± 214 ns per loop (mean ± std. dev. of 7 runs, 100,000 loops each)\n"
     ]
    }
   ],
   "source": [
    "%timeit Batch(**_TREE_DATA_1)"
   ]
  },
  {
   "cell_type": "markdown",
   "id": "1ab82e2d",
   "metadata": {},
   "source": [
    "## Deep Copy Operation"
   ]
  },
  {
   "cell_type": "code",
   "execution_count": 16,
   "id": "210a9442",
   "metadata": {
    "execution": {
     "iopub.execute_input": "2023-08-10T10:28:39.475846Z",
     "iopub.status.busy": "2023-08-10T10:28:39.475291Z",
     "iopub.status.idle": "2023-08-10T10:28:39.479852Z",
     "shell.execute_reply": "2023-08-10T10:28:39.478945Z"
    }
   },
   "outputs": [],
   "source": [
    "import copy"
   ]
  },
  {
   "cell_type": "markdown",
   "id": "5a736274",
   "metadata": {},
   "source": [
    "### Deep Copy of TreeValue"
   ]
  },
  {
   "cell_type": "code",
   "execution_count": 17,
   "id": "f9bcadd6",
   "metadata": {
    "execution": {
     "iopub.execute_input": "2023-08-10T10:28:39.484236Z",
     "iopub.status.busy": "2023-08-10T10:28:39.483694Z",
     "iopub.status.idle": "2023-08-10T10:28:41.784825Z",
     "shell.execute_reply": "2023-08-10T10:28:41.783755Z"
    }
   },
   "outputs": [
    {
     "name": "stdout",
     "output_type": "stream",
     "text": [
      "283 µs ± 7.07 µs per loop (mean ± std. dev. of 7 runs, 1,000 loops each)\n"
     ]
    }
   ],
   "source": [
    "t3 = FastTreeValue(_TREE_DATA_3)\n",
    "%timeit copy.deepcopy(t3)"
   ]
  },
  {
   "cell_type": "markdown",
   "id": "bf8be7ea",
   "metadata": {},
   "source": [
    "### Deep Copy of Tianshou Batch"
   ]
  },
  {
   "cell_type": "code",
   "execution_count": 18,
   "id": "91998e6f",
   "metadata": {
    "execution": {
     "iopub.execute_input": "2023-08-10T10:28:41.789247Z",
     "iopub.status.busy": "2023-08-10T10:28:41.788711Z",
     "iopub.status.idle": "2023-08-10T10:28:43.941078Z",
     "shell.execute_reply": "2023-08-10T10:28:43.940048Z"
    }
   },
   "outputs": [
    {
     "name": "stdout",
     "output_type": "stream",
     "text": [
      "259 µs ± 9.49 µs per loop (mean ± std. dev. of 7 runs, 1,000 loops each)\n"
     ]
    }
   ],
   "source": [
    "b3 = Batch(**_TREE_DATA_3)\n",
    "%timeit copy.deepcopy(b3)"
   ]
  },
  {
   "cell_type": "markdown",
   "id": "223162fb",
   "metadata": {},
   "source": [
    "## Stack, Concat and Split Operation"
   ]
  },
  {
   "cell_type": "markdown",
   "id": "85fa4a73",
   "metadata": {},
   "source": [
    "### Performance of TreeValue"
   ]
  },
  {
   "cell_type": "code",
   "execution_count": 19,
   "id": "a0c2b697",
   "metadata": {
    "execution": {
     "iopub.execute_input": "2023-08-10T10:28:43.945313Z",
     "iopub.status.busy": "2023-08-10T10:28:43.944820Z",
     "iopub.status.idle": "2023-08-10T10:28:43.951002Z",
     "shell.execute_reply": "2023-08-10T10:28:43.949956Z"
    }
   },
   "outputs": [],
   "source": [
    "trees = [FastTreeValue(_TREE_DATA_2) for _ in range(8)]"
   ]
  },
  {
   "cell_type": "code",
   "execution_count": 20,
   "id": "017ea5a5",
   "metadata": {
    "execution": {
     "iopub.execute_input": "2023-08-10T10:28:43.955391Z",
     "iopub.status.busy": "2023-08-10T10:28:43.954917Z",
     "iopub.status.idle": "2023-08-10T10:28:43.964765Z",
     "shell.execute_reply": "2023-08-10T10:28:43.963818Z"
    }
   },
   "outputs": [
    {
     "data": {
      "text/plain": [
       "<FastTreeValue 0x7f01b26a57f0>\n",
       "├── 'a' --> tensor([[[-0.6093, -0.9796, -1.6916],\n",
       "│                    [ 0.6389, -0.0124,  1.9296]],\n",
       "│           \n",
       "│                   [[-0.6093, -0.9796, -1.6916],\n",
       "│                    [ 0.6389, -0.0124,  1.9296]],\n",
       "│           \n",
       "│                   [[-0.6093, -0.9796, -1.6916],\n",
       "│                    [ 0.6389, -0.0124,  1.9296]],\n",
       "│           \n",
       "│                   [[-0.6093, -0.9796, -1.6916],\n",
       "│                    [ 0.6389, -0.0124,  1.9296]],\n",
       "│           \n",
       "│                   [[-0.6093, -0.9796, -1.6916],\n",
       "│                    [ 0.6389, -0.0124,  1.9296]],\n",
       "│           \n",
       "│                   [[-0.6093, -0.9796, -1.6916],\n",
       "│                    [ 0.6389, -0.0124,  1.9296]],\n",
       "│           \n",
       "│                   [[-0.6093, -0.9796, -1.6916],\n",
       "│                    [ 0.6389, -0.0124,  1.9296]],\n",
       "│           \n",
       "│                   [[-0.6093, -0.9796, -1.6916],\n",
       "│                    [ 0.6389, -0.0124,  1.9296]]])\n",
       "└── 'x' --> <FastTreeValue 0x7f01ba531c10>\n",
       "    └── 'c' --> tensor([[[ 0.8127,  0.0227, -0.1015,  0.7801],\n",
       "                         [-0.2804, -1.1122,  1.0922, -0.2541],\n",
       "                         [ 1.0530, -0.4106, -0.6510, -0.5090]],\n",
       "                \n",
       "                        [[ 0.8127,  0.0227, -0.1015,  0.7801],\n",
       "                         [-0.2804, -1.1122,  1.0922, -0.2541],\n",
       "                         [ 1.0530, -0.4106, -0.6510, -0.5090]],\n",
       "                \n",
       "                        [[ 0.8127,  0.0227, -0.1015,  0.7801],\n",
       "                         [-0.2804, -1.1122,  1.0922, -0.2541],\n",
       "                         [ 1.0530, -0.4106, -0.6510, -0.5090]],\n",
       "                \n",
       "                        [[ 0.8127,  0.0227, -0.1015,  0.7801],\n",
       "                         [-0.2804, -1.1122,  1.0922, -0.2541],\n",
       "                         [ 1.0530, -0.4106, -0.6510, -0.5090]],\n",
       "                \n",
       "                        [[ 0.8127,  0.0227, -0.1015,  0.7801],\n",
       "                         [-0.2804, -1.1122,  1.0922, -0.2541],\n",
       "                         [ 1.0530, -0.4106, -0.6510, -0.5090]],\n",
       "                \n",
       "                        [[ 0.8127,  0.0227, -0.1015,  0.7801],\n",
       "                         [-0.2804, -1.1122,  1.0922, -0.2541],\n",
       "                         [ 1.0530, -0.4106, -0.6510, -0.5090]],\n",
       "                \n",
       "                        [[ 0.8127,  0.0227, -0.1015,  0.7801],\n",
       "                         [-0.2804, -1.1122,  1.0922, -0.2541],\n",
       "                         [ 1.0530, -0.4106, -0.6510, -0.5090]],\n",
       "                \n",
       "                        [[ 0.8127,  0.0227, -0.1015,  0.7801],\n",
       "                         [-0.2804, -1.1122,  1.0922, -0.2541],\n",
       "                         [ 1.0530, -0.4106, -0.6510, -0.5090]]])"
      ]
     },
     "execution_count": 20,
     "metadata": {},
     "output_type": "execute_result"
    }
   ],
   "source": [
    "t_stack = FastTreeValue.func(subside=True)(torch.stack)\n",
    "\n",
    "t_stack(trees)"
   ]
  },
  {
   "cell_type": "code",
   "execution_count": 21,
   "id": "f8b3f415",
   "metadata": {
    "execution": {
     "iopub.execute_input": "2023-08-10T10:28:43.968993Z",
     "iopub.status.busy": "2023-08-10T10:28:43.968714Z",
     "iopub.status.idle": "2023-08-10T10:28:47.729815Z",
     "shell.execute_reply": "2023-08-10T10:28:47.728896Z"
    }
   },
   "outputs": [
    {
     "name": "stdout",
     "output_type": "stream",
     "text": [
      "46.3 µs ± 875 ns per loop (mean ± std. dev. of 7 runs, 10,000 loops each)\n"
     ]
    }
   ],
   "source": [
    "%timeit t_stack(trees)"
   ]
  },
  {
   "cell_type": "code",
   "execution_count": 22,
   "id": "94b56771",
   "metadata": {
    "execution": {
     "iopub.execute_input": "2023-08-10T10:28:47.734335Z",
     "iopub.status.busy": "2023-08-10T10:28:47.733534Z",
     "iopub.status.idle": "2023-08-10T10:28:47.743643Z",
     "shell.execute_reply": "2023-08-10T10:28:47.742629Z"
    }
   },
   "outputs": [
    {
     "data": {
      "text/plain": [
       "<FastTreeValue 0x7f01b25d6c10>\n",
       "├── 'a' --> tensor([[-0.6093, -0.9796, -1.6916],\n",
       "│                   [ 0.6389, -0.0124,  1.9296],\n",
       "│                   [-0.6093, -0.9796, -1.6916],\n",
       "│                   [ 0.6389, -0.0124,  1.9296],\n",
       "│                   [-0.6093, -0.9796, -1.6916],\n",
       "│                   [ 0.6389, -0.0124,  1.9296],\n",
       "│                   [-0.6093, -0.9796, -1.6916],\n",
       "│                   [ 0.6389, -0.0124,  1.9296],\n",
       "│                   [-0.6093, -0.9796, -1.6916],\n",
       "│                   [ 0.6389, -0.0124,  1.9296],\n",
       "│                   [-0.6093, -0.9796, -1.6916],\n",
       "│                   [ 0.6389, -0.0124,  1.9296],\n",
       "│                   [-0.6093, -0.9796, -1.6916],\n",
       "│                   [ 0.6389, -0.0124,  1.9296],\n",
       "│                   [-0.6093, -0.9796, -1.6916],\n",
       "│                   [ 0.6389, -0.0124,  1.9296]])\n",
       "└── 'x' --> <FastTreeValue 0x7f028cd92c70>\n",
       "    └── 'c' --> tensor([[ 0.8127,  0.0227, -0.1015,  0.7801],\n",
       "                        [-0.2804, -1.1122,  1.0922, -0.2541],\n",
       "                        [ 1.0530, -0.4106, -0.6510, -0.5090],\n",
       "                        [ 0.8127,  0.0227, -0.1015,  0.7801],\n",
       "                        [-0.2804, -1.1122,  1.0922, -0.2541],\n",
       "                        [ 1.0530, -0.4106, -0.6510, -0.5090],\n",
       "                        [ 0.8127,  0.0227, -0.1015,  0.7801],\n",
       "                        [-0.2804, -1.1122,  1.0922, -0.2541],\n",
       "                        [ 1.0530, -0.4106, -0.6510, -0.5090],\n",
       "                        [ 0.8127,  0.0227, -0.1015,  0.7801],\n",
       "                        [-0.2804, -1.1122,  1.0922, -0.2541],\n",
       "                        [ 1.0530, -0.4106, -0.6510, -0.5090],\n",
       "                        [ 0.8127,  0.0227, -0.1015,  0.7801],\n",
       "                        [-0.2804, -1.1122,  1.0922, -0.2541],\n",
       "                        [ 1.0530, -0.4106, -0.6510, -0.5090],\n",
       "                        [ 0.8127,  0.0227, -0.1015,  0.7801],\n",
       "                        [-0.2804, -1.1122,  1.0922, -0.2541],\n",
       "                        [ 1.0530, -0.4106, -0.6510, -0.5090],\n",
       "                        [ 0.8127,  0.0227, -0.1015,  0.7801],\n",
       "                        [-0.2804, -1.1122,  1.0922, -0.2541],\n",
       "                        [ 1.0530, -0.4106, -0.6510, -0.5090],\n",
       "                        [ 0.8127,  0.0227, -0.1015,  0.7801],\n",
       "                        [-0.2804, -1.1122,  1.0922, -0.2541],\n",
       "                        [ 1.0530, -0.4106, -0.6510, -0.5090]])"
      ]
     },
     "execution_count": 22,
     "metadata": {},
     "output_type": "execute_result"
    }
   ],
   "source": [
    "t_cat = FastTreeValue.func(subside=True)(torch.cat)\n",
    "\n",
    "t_cat(trees)"
   ]
  },
  {
   "cell_type": "code",
   "execution_count": 23,
   "id": "5e9c06a6",
   "metadata": {
    "execution": {
     "iopub.execute_input": "2023-08-10T10:28:47.748083Z",
     "iopub.status.busy": "2023-08-10T10:28:47.747295Z",
     "iopub.status.idle": "2023-08-10T10:28:51.148022Z",
     "shell.execute_reply": "2023-08-10T10:28:51.145805Z"
    }
   },
   "outputs": [
    {
     "name": "stdout",
     "output_type": "stream",
     "text": [
      "41.9 µs ± 1.01 µs per loop (mean ± std. dev. of 7 runs, 10,000 loops each)\n"
     ]
    }
   ],
   "source": [
    "%timeit t_cat(trees)"
   ]
  },
  {
   "cell_type": "code",
   "execution_count": 24,
   "id": "a3ab5c8f",
   "metadata": {
    "execution": {
     "iopub.execute_input": "2023-08-10T10:28:51.152559Z",
     "iopub.status.busy": "2023-08-10T10:28:51.152201Z",
     "iopub.status.idle": "2023-08-10T10:28:58.799665Z",
     "shell.execute_reply": "2023-08-10T10:28:58.798637Z"
    }
   },
   "outputs": [
    {
     "name": "stdout",
     "output_type": "stream",
     "text": [
      "94.1 µs ± 2.09 µs per loop (mean ± std. dev. of 7 runs, 10,000 loops each)\n"
     ]
    }
   ],
   "source": [
    "t_split = FastTreeValue.func(rise=True)(torch.split)\n",
    "tree = FastTreeValue({\n",
    "    'obs': torch.randn(8, 4, 84, 84),\n",
    "    'action': torch.randint(0, 6, size=(8, 1,)),\n",
    "    'reward': torch.rand(8, 1),\n",
    "})\n",
    "\n",
    "%timeit t_split(tree, 1)"
   ]
  },
  {
   "cell_type": "markdown",
   "id": "31c3ec0b",
   "metadata": {},
   "source": [
    "### Performance of Tianshou Batch"
   ]
  },
  {
   "cell_type": "code",
   "execution_count": 25,
   "id": "9ead828a",
   "metadata": {
    "execution": {
     "iopub.execute_input": "2023-08-10T10:28:58.804264Z",
     "iopub.status.busy": "2023-08-10T10:28:58.803461Z",
     "iopub.status.idle": "2023-08-10T10:28:58.814102Z",
     "shell.execute_reply": "2023-08-10T10:28:58.812881Z"
    }
   },
   "outputs": [
    {
     "data": {
      "text/plain": [
       "Batch(\n",
       "    a: tensor([[[-0.6093, -0.9796, -1.6916],\n",
       "                [ 0.6389, -0.0124,  1.9296]],\n",
       "       \n",
       "               [[-0.6093, -0.9796, -1.6916],\n",
       "                [ 0.6389, -0.0124,  1.9296]],\n",
       "       \n",
       "               [[-0.6093, -0.9796, -1.6916],\n",
       "                [ 0.6389, -0.0124,  1.9296]],\n",
       "       \n",
       "               [[-0.6093, -0.9796, -1.6916],\n",
       "                [ 0.6389, -0.0124,  1.9296]],\n",
       "       \n",
       "               [[-0.6093, -0.9796, -1.6916],\n",
       "                [ 0.6389, -0.0124,  1.9296]],\n",
       "       \n",
       "               [[-0.6093, -0.9796, -1.6916],\n",
       "                [ 0.6389, -0.0124,  1.9296]],\n",
       "       \n",
       "               [[-0.6093, -0.9796, -1.6916],\n",
       "                [ 0.6389, -0.0124,  1.9296]],\n",
       "       \n",
       "               [[-0.6093, -0.9796, -1.6916],\n",
       "                [ 0.6389, -0.0124,  1.9296]]]),\n",
       "    x: Batch(\n",
       "           c: tensor([[[ 0.8127,  0.0227, -0.1015,  0.7801],\n",
       "                       [-0.2804, -1.1122,  1.0922, -0.2541],\n",
       "                       [ 1.0530, -0.4106, -0.6510, -0.5090]],\n",
       "              \n",
       "                      [[ 0.8127,  0.0227, -0.1015,  0.7801],\n",
       "                       [-0.2804, -1.1122,  1.0922, -0.2541],\n",
       "                       [ 1.0530, -0.4106, -0.6510, -0.5090]],\n",
       "              \n",
       "                      [[ 0.8127,  0.0227, -0.1015,  0.7801],\n",
       "                       [-0.2804, -1.1122,  1.0922, -0.2541],\n",
       "                       [ 1.0530, -0.4106, -0.6510, -0.5090]],\n",
       "              \n",
       "                      [[ 0.8127,  0.0227, -0.1015,  0.7801],\n",
       "                       [-0.2804, -1.1122,  1.0922, -0.2541],\n",
       "                       [ 1.0530, -0.4106, -0.6510, -0.5090]],\n",
       "              \n",
       "                      [[ 0.8127,  0.0227, -0.1015,  0.7801],\n",
       "                       [-0.2804, -1.1122,  1.0922, -0.2541],\n",
       "                       [ 1.0530, -0.4106, -0.6510, -0.5090]],\n",
       "              \n",
       "                      [[ 0.8127,  0.0227, -0.1015,  0.7801],\n",
       "                       [-0.2804, -1.1122,  1.0922, -0.2541],\n",
       "                       [ 1.0530, -0.4106, -0.6510, -0.5090]],\n",
       "              \n",
       "                      [[ 0.8127,  0.0227, -0.1015,  0.7801],\n",
       "                       [-0.2804, -1.1122,  1.0922, -0.2541],\n",
       "                       [ 1.0530, -0.4106, -0.6510, -0.5090]],\n",
       "              \n",
       "                      [[ 0.8127,  0.0227, -0.1015,  0.7801],\n",
       "                       [-0.2804, -1.1122,  1.0922, -0.2541],\n",
       "                       [ 1.0530, -0.4106, -0.6510, -0.5090]]]),\n",
       "       ),\n",
       ")"
      ]
     },
     "execution_count": 25,
     "metadata": {},
     "output_type": "execute_result"
    }
   ],
   "source": [
    "batches = [Batch(**_TREE_DATA_2) for _ in range(8)]\n",
    "\n",
    "Batch.stack(batches)"
   ]
  },
  {
   "cell_type": "code",
   "execution_count": 26,
   "id": "ec9037a3",
   "metadata": {
    "execution": {
     "iopub.execute_input": "2023-08-10T10:28:58.818154Z",
     "iopub.status.busy": "2023-08-10T10:28:58.817592Z",
     "iopub.status.idle": "2023-08-10T10:29:07.709270Z",
     "shell.execute_reply": "2023-08-10T10:29:07.708233Z"
    }
   },
   "outputs": [
    {
     "name": "stdout",
     "output_type": "stream",
     "text": [
      "109 µs ± 792 ns per loop (mean ± std. dev. of 7 runs, 10,000 loops each)\n"
     ]
    }
   ],
   "source": [
    "%timeit Batch.stack(batches)"
   ]
  },
  {
   "cell_type": "code",
   "execution_count": 27,
   "id": "cb8ab77e",
   "metadata": {
    "execution": {
     "iopub.execute_input": "2023-08-10T10:29:07.714448Z",
     "iopub.status.busy": "2023-08-10T10:29:07.713852Z",
     "iopub.status.idle": "2023-08-10T10:29:07.726889Z",
     "shell.execute_reply": "2023-08-10T10:29:07.726086Z"
    }
   },
   "outputs": [
    {
     "data": {
      "text/plain": [
       "Batch(\n",
       "    a: tensor([[-0.6093, -0.9796, -1.6916],\n",
       "               [ 0.6389, -0.0124,  1.9296],\n",
       "               [-0.6093, -0.9796, -1.6916],\n",
       "               [ 0.6389, -0.0124,  1.9296],\n",
       "               [-0.6093, -0.9796, -1.6916],\n",
       "               [ 0.6389, -0.0124,  1.9296],\n",
       "               [-0.6093, -0.9796, -1.6916],\n",
       "               [ 0.6389, -0.0124,  1.9296],\n",
       "               [-0.6093, -0.9796, -1.6916],\n",
       "               [ 0.6389, -0.0124,  1.9296],\n",
       "               [-0.6093, -0.9796, -1.6916],\n",
       "               [ 0.6389, -0.0124,  1.9296],\n",
       "               [-0.6093, -0.9796, -1.6916],\n",
       "               [ 0.6389, -0.0124,  1.9296],\n",
       "               [-0.6093, -0.9796, -1.6916],\n",
       "               [ 0.6389, -0.0124,  1.9296]]),\n",
       "    x: Batch(\n",
       "           c: tensor([[ 0.8127,  0.0227, -0.1015,  0.7801],\n",
       "                      [-0.2804, -1.1122,  1.0922, -0.2541],\n",
       "                      [ 1.0530, -0.4106, -0.6510, -0.5090],\n",
       "                      [ 0.8127,  0.0227, -0.1015,  0.7801],\n",
       "                      [-0.2804, -1.1122,  1.0922, -0.2541],\n",
       "                      [ 1.0530, -0.4106, -0.6510, -0.5090],\n",
       "                      [ 0.8127,  0.0227, -0.1015,  0.7801],\n",
       "                      [-0.2804, -1.1122,  1.0922, -0.2541],\n",
       "                      [ 1.0530, -0.4106, -0.6510, -0.5090],\n",
       "                      [ 0.8127,  0.0227, -0.1015,  0.7801],\n",
       "                      [-0.2804, -1.1122,  1.0922, -0.2541],\n",
       "                      [ 1.0530, -0.4106, -0.6510, -0.5090],\n",
       "                      [ 0.8127,  0.0227, -0.1015,  0.7801],\n",
       "                      [-0.2804, -1.1122,  1.0922, -0.2541],\n",
       "                      [ 1.0530, -0.4106, -0.6510, -0.5090],\n",
       "                      [ 0.8127,  0.0227, -0.1015,  0.7801],\n",
       "                      [-0.2804, -1.1122,  1.0922, -0.2541],\n",
       "                      [ 1.0530, -0.4106, -0.6510, -0.5090],\n",
       "                      [ 0.8127,  0.0227, -0.1015,  0.7801],\n",
       "                      [-0.2804, -1.1122,  1.0922, -0.2541],\n",
       "                      [ 1.0530, -0.4106, -0.6510, -0.5090],\n",
       "                      [ 0.8127,  0.0227, -0.1015,  0.7801],\n",
       "                      [-0.2804, -1.1122,  1.0922, -0.2541],\n",
       "                      [ 1.0530, -0.4106, -0.6510, -0.5090]]),\n",
       "       ),\n",
       ")"
      ]
     },
     "execution_count": 27,
     "metadata": {},
     "output_type": "execute_result"
    }
   ],
   "source": [
    "Batch.cat(batches)"
   ]
  },
  {
   "cell_type": "code",
   "execution_count": 28,
   "id": "18dfb045",
   "metadata": {
    "execution": {
     "iopub.execute_input": "2023-08-10T10:29:07.731666Z",
     "iopub.status.busy": "2023-08-10T10:29:07.731111Z",
     "iopub.status.idle": "2023-08-10T10:29:09.374366Z",
     "shell.execute_reply": "2023-08-10T10:29:09.372179Z"
    }
   },
   "outputs": [
    {
     "name": "stdout",
     "output_type": "stream",
     "text": [
      "199 µs ± 9.02 µs per loop (mean ± std. dev. of 7 runs, 1,000 loops each)\n"
     ]
    }
   ],
   "source": [
    "%timeit Batch.cat(batches)"
   ]
  },
  {
   "cell_type": "code",
   "execution_count": 29,
   "id": "c6688e51",
   "metadata": {
    "execution": {
     "iopub.execute_input": "2023-08-10T10:29:09.378788Z",
     "iopub.status.busy": "2023-08-10T10:29:09.378459Z",
     "iopub.status.idle": "2023-08-10T10:29:14.253391Z",
     "shell.execute_reply": "2023-08-10T10:29:14.252316Z"
    }
   },
   "outputs": [
    {
     "name": "stdout",
     "output_type": "stream",
     "text": [
      "598 µs ± 20.4 µs per loop (mean ± std. dev. of 7 runs, 1,000 loops each)\n"
     ]
    }
   ],
   "source": [
    "batch = Batch({\n",
    "    'obs': torch.randn(8, 4, 84, 84),\n",
    "    'action': torch.randint(0, 6, size=(8, 1,)),\n",
    "    'reward': torch.rand(8, 1)}\n",
    ")\n",
    "\n",
    "%timeit list(Batch.split(batch, 1, shuffle=False, merge_last=True))"
   ]
  },
  {
   "cell_type": "code",
   "execution_count": null,
   "id": "2539fbd9",
   "metadata": {},
   "outputs": [],
   "source": []
  }
 ],
 "metadata": {
  "kernelspec": {
   "display_name": "Python 3 (ipykernel)",
   "language": "python",
   "name": "python3"
  },
  "language_info": {
   "codemirror_mode": {
    "name": "ipython",
    "version": 3
   },
   "file_extension": ".py",
   "mimetype": "text/x-python",
   "name": "python",
   "nbconvert_exporter": "python",
   "pygments_lexer": "ipython3",
   "version": "3.8.17"
  }
 },
 "nbformat": 4,
 "nbformat_minor": 5
}
