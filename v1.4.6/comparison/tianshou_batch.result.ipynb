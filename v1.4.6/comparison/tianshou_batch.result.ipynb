{
 "cells": [
  {
   "cell_type": "markdown",
   "id": "9d39d946",
   "metadata": {},
   "source": [
    "# Comparison Between TreeValue and Tianshou Batch"
   ]
  },
  {
   "cell_type": "markdown",
   "id": "3c6db2d4",
   "metadata": {},
   "source": [
    "In this section, we will take a look at the feature and performance of the [Tianshou Batch](https://github.com/thu-ml/tianshou) library, which is developed by Tsinghua Machine Learning Group."
   ]
  },
  {
   "cell_type": "markdown",
   "id": "069361b0",
   "metadata": {},
   "source": [
    "Before starting the comparison, let us define some thing."
   ]
  },
  {
   "cell_type": "code",
   "execution_count": 1,
   "id": "06fc8d26",
   "metadata": {
    "execution": {
     "iopub.execute_input": "2023-08-10T14:25:56.651451Z",
     "iopub.status.busy": "2023-08-10T14:25:56.650977Z",
     "iopub.status.idle": "2023-08-10T14:25:58.051352Z",
     "shell.execute_reply": "2023-08-10T14:25:58.050556Z"
    }
   },
   "outputs": [],
   "source": [
    "import torch \n",
    "\n",
    "_TREE_DATA_1 = {'a': 1, 'b': 2, 'x': {'c': 3, 'd': 4}}\n",
    "_TREE_DATA_2 = {\n",
    "    'a': torch.randn(2, 3), \n",
    "    'x': {\n",
    "        'c': torch.randn(3, 4)\n",
    "    },\n",
    "}\n",
    "_TREE_DATA_3 = {\n",
    "    'obs': torch.randn(4, 84, 84),\n",
    "    'action': torch.randint(0, 6, size=(1,)),\n",
    "    'reward': torch.rand(1),\n",
    "}"
   ]
  },
  {
   "cell_type": "markdown",
   "id": "83461b25",
   "metadata": {},
   "source": [
    "## Read and Write Operation"
   ]
  },
  {
   "cell_type": "markdown",
   "id": "067b3f73",
   "metadata": {},
   "source": [
    "Reading and writing are the two most common operations in the tree data structure based on the data model (TreeValue and Tianshou Batch both belong to this type), so this section will compare the reading and writing performance of these two libraries."
   ]
  },
  {
   "cell_type": "markdown",
   "id": "5d09a5b7",
   "metadata": {},
   "source": [
    "### TreeValue's Get and Set"
   ]
  },
  {
   "cell_type": "code",
   "execution_count": 2,
   "id": "9519c4bb",
   "metadata": {
    "execution": {
     "iopub.execute_input": "2023-08-10T14:25:58.055416Z",
     "iopub.status.busy": "2023-08-10T14:25:58.054924Z",
     "iopub.status.idle": "2023-08-10T14:25:58.379579Z",
     "shell.execute_reply": "2023-08-10T14:25:58.378778Z"
    }
   },
   "outputs": [],
   "source": [
    "from treevalue import FastTreeValue\n",
    "\n",
    "t = FastTreeValue(_TREE_DATA_2)"
   ]
  },
  {
   "cell_type": "code",
   "execution_count": 3,
   "id": "11c37677",
   "metadata": {
    "execution": {
     "iopub.execute_input": "2023-08-10T14:25:58.383847Z",
     "iopub.status.busy": "2023-08-10T14:25:58.383316Z",
     "iopub.status.idle": "2023-08-10T14:25:58.393284Z",
     "shell.execute_reply": "2023-08-10T14:25:58.392527Z"
    }
   },
   "outputs": [
    {
     "data": {
      "text/plain": [
       "<FastTreeValue 0x7f2ee9e59460>\n",
       "├── 'a' --> tensor([[ 1.0048, -0.6266,  0.9732],\n",
       "│                   [ 0.8089,  0.0388, -0.4165]])\n",
       "└── 'x' --> <FastTreeValue 0x7f2ee4e3a910>\n",
       "    └── 'c' --> tensor([[ 1.2078,  0.3281, -0.4170, -0.3034],\n",
       "                        [-0.6955, -1.5817, -0.1177,  0.1171],\n",
       "                        [ 0.4062,  1.2244, -0.8230,  1.8042]])"
      ]
     },
     "execution_count": 3,
     "metadata": {},
     "output_type": "execute_result"
    }
   ],
   "source": [
    "t"
   ]
  },
  {
   "cell_type": "code",
   "execution_count": 4,
   "id": "fd70b0b9",
   "metadata": {
    "execution": {
     "iopub.execute_input": "2023-08-10T14:25:58.397360Z",
     "iopub.status.busy": "2023-08-10T14:25:58.396882Z",
     "iopub.status.idle": "2023-08-10T14:25:58.402180Z",
     "shell.execute_reply": "2023-08-10T14:25:58.401398Z"
    }
   },
   "outputs": [
    {
     "data": {
      "text/plain": [
       "tensor([[ 1.0048, -0.6266,  0.9732],\n",
       "        [ 0.8089,  0.0388, -0.4165]])"
      ]
     },
     "execution_count": 4,
     "metadata": {},
     "output_type": "execute_result"
    }
   ],
   "source": [
    "t.a"
   ]
  },
  {
   "cell_type": "code",
   "execution_count": 5,
   "id": "c18197bd",
   "metadata": {
    "execution": {
     "iopub.execute_input": "2023-08-10T14:25:58.406169Z",
     "iopub.status.busy": "2023-08-10T14:25:58.405624Z",
     "iopub.status.idle": "2023-08-10T14:26:04.439397Z",
     "shell.execute_reply": "2023-08-10T14:26:04.438615Z"
    }
   },
   "outputs": [
    {
     "name": "stdout",
     "output_type": "stream",
     "text": [
      "74.3 ns ± 0.0644 ns per loop (mean ± std. dev. of 7 runs, 10,000,000 loops each)\n"
     ]
    }
   ],
   "source": [
    "%timeit t.a"
   ]
  },
  {
   "cell_type": "code",
   "execution_count": 6,
   "id": "bd52f867",
   "metadata": {
    "execution": {
     "iopub.execute_input": "2023-08-10T14:26:04.442991Z",
     "iopub.status.busy": "2023-08-10T14:26:04.442467Z",
     "iopub.status.idle": "2023-08-10T14:26:04.449616Z",
     "shell.execute_reply": "2023-08-10T14:26:04.448838Z"
    }
   },
   "outputs": [
    {
     "data": {
      "text/plain": [
       "<FastTreeValue 0x7f2ee9e59460>\n",
       "├── 'a' --> tensor([[-0.5561,  0.7337,  2.9852],\n",
       "│                   [ 1.1323, -0.0720, -0.6201]])\n",
       "└── 'x' --> <FastTreeValue 0x7f2ee4e3a910>\n",
       "    └── 'c' --> tensor([[ 1.2078,  0.3281, -0.4170, -0.3034],\n",
       "                        [-0.6955, -1.5817, -0.1177,  0.1171],\n",
       "                        [ 0.4062,  1.2244, -0.8230,  1.8042]])"
      ]
     },
     "execution_count": 6,
     "metadata": {},
     "output_type": "execute_result"
    }
   ],
   "source": [
    "new_value = torch.randn(2, 3)\n",
    "t.a = new_value\n",
    "\n",
    "t"
   ]
  },
  {
   "cell_type": "code",
   "execution_count": 7,
   "id": "bbe04d1c",
   "metadata": {
    "execution": {
     "iopub.execute_input": "2023-08-10T14:26:04.452864Z",
     "iopub.status.busy": "2023-08-10T14:26:04.452379Z",
     "iopub.status.idle": "2023-08-10T14:26:10.877523Z",
     "shell.execute_reply": "2023-08-10T14:26:10.876732Z"
    }
   },
   "outputs": [
    {
     "name": "stdout",
     "output_type": "stream",
     "text": [
      "79.2 ns ± 0.0617 ns per loop (mean ± std. dev. of 7 runs, 10,000,000 loops each)\n"
     ]
    }
   ],
   "source": [
    "%timeit t.a = new_value"
   ]
  },
  {
   "cell_type": "markdown",
   "id": "48c49731",
   "metadata": {},
   "source": [
    "### Tianshou Batch's Get and Set"
   ]
  },
  {
   "cell_type": "code",
   "execution_count": 8,
   "id": "f1bb14c1",
   "metadata": {
    "execution": {
     "iopub.execute_input": "2023-08-10T14:26:10.881359Z",
     "iopub.status.busy": "2023-08-10T14:26:10.880676Z",
     "iopub.status.idle": "2023-08-10T14:26:11.258464Z",
     "shell.execute_reply": "2023-08-10T14:26:11.257653Z"
    }
   },
   "outputs": [],
   "source": [
    "from tianshou.data import Batch\n",
    "\n",
    "b = Batch(**_TREE_DATA_2)"
   ]
  },
  {
   "cell_type": "code",
   "execution_count": 9,
   "id": "cb0777c3",
   "metadata": {
    "execution": {
     "iopub.execute_input": "2023-08-10T14:26:11.262397Z",
     "iopub.status.busy": "2023-08-10T14:26:11.261890Z",
     "iopub.status.idle": "2023-08-10T14:26:11.273465Z",
     "shell.execute_reply": "2023-08-10T14:26:11.272852Z"
    }
   },
   "outputs": [
    {
     "data": {
      "text/plain": [
       "Batch(\n",
       "    a: tensor([[ 1.0048, -0.6266,  0.9732],\n",
       "               [ 0.8089,  0.0388, -0.4165]]),\n",
       "    x: Batch(\n",
       "           c: tensor([[ 1.2078,  0.3281, -0.4170, -0.3034],\n",
       "                      [-0.6955, -1.5817, -0.1177,  0.1171],\n",
       "                      [ 0.4062,  1.2244, -0.8230,  1.8042]]),\n",
       "       ),\n",
       ")"
      ]
     },
     "execution_count": 9,
     "metadata": {},
     "output_type": "execute_result"
    }
   ],
   "source": [
    "b"
   ]
  },
  {
   "cell_type": "code",
   "execution_count": 10,
   "id": "43ef8ea3",
   "metadata": {
    "execution": {
     "iopub.execute_input": "2023-08-10T14:26:11.276973Z",
     "iopub.status.busy": "2023-08-10T14:26:11.276358Z",
     "iopub.status.idle": "2023-08-10T14:26:11.281751Z",
     "shell.execute_reply": "2023-08-10T14:26:11.281006Z"
    }
   },
   "outputs": [
    {
     "data": {
      "text/plain": [
       "tensor([[ 1.0048, -0.6266,  0.9732],\n",
       "        [ 0.8089,  0.0388, -0.4165]])"
      ]
     },
     "execution_count": 10,
     "metadata": {},
     "output_type": "execute_result"
    }
   ],
   "source": [
    "b.a"
   ]
  },
  {
   "cell_type": "code",
   "execution_count": 11,
   "id": "b785ab72",
   "metadata": {
    "execution": {
     "iopub.execute_input": "2023-08-10T14:26:11.285236Z",
     "iopub.status.busy": "2023-08-10T14:26:11.284781Z",
     "iopub.status.idle": "2023-08-10T14:26:16.907716Z",
     "shell.execute_reply": "2023-08-10T14:26:16.906966Z"
    }
   },
   "outputs": [
    {
     "name": "stdout",
     "output_type": "stream",
     "text": [
      "69.2 ns ± 0.104 ns per loop (mean ± std. dev. of 7 runs, 10,000,000 loops each)\n"
     ]
    }
   ],
   "source": [
    "%timeit b.a"
   ]
  },
  {
   "cell_type": "code",
   "execution_count": 12,
   "id": "ad54dc69",
   "metadata": {
    "execution": {
     "iopub.execute_input": "2023-08-10T14:26:16.911303Z",
     "iopub.status.busy": "2023-08-10T14:26:16.910762Z",
     "iopub.status.idle": "2023-08-10T14:26:16.917520Z",
     "shell.execute_reply": "2023-08-10T14:26:16.916742Z"
    }
   },
   "outputs": [
    {
     "data": {
      "text/plain": [
       "Batch(\n",
       "    a: tensor([[ 0.4855,  0.4505, -0.3577],\n",
       "               [-1.1404, -0.1751,  0.2873]]),\n",
       "    x: Batch(\n",
       "           c: tensor([[ 1.2078,  0.3281, -0.4170, -0.3034],\n",
       "                      [-0.6955, -1.5817, -0.1177,  0.1171],\n",
       "                      [ 0.4062,  1.2244, -0.8230,  1.8042]]),\n",
       "       ),\n",
       ")"
      ]
     },
     "execution_count": 12,
     "metadata": {},
     "output_type": "execute_result"
    }
   ],
   "source": [
    "new_value = torch.randn(2, 3)\n",
    "b.a = new_value\n",
    "\n",
    "b"
   ]
  },
  {
   "cell_type": "code",
   "execution_count": 13,
   "id": "29b1d0bf",
   "metadata": {
    "execution": {
     "iopub.execute_input": "2023-08-10T14:26:16.920918Z",
     "iopub.status.busy": "2023-08-10T14:26:16.920343Z",
     "iopub.status.idle": "2023-08-10T14:26:21.349569Z",
     "shell.execute_reply": "2023-08-10T14:26:21.348784Z"
    }
   },
   "outputs": [
    {
     "name": "stdout",
     "output_type": "stream",
     "text": [
      "545 ns ± 1.18 ns per loop (mean ± std. dev. of 7 runs, 1,000,000 loops each)\n"
     ]
    }
   ],
   "source": [
    "%timeit b.a = new_value"
   ]
  },
  {
   "cell_type": "markdown",
   "id": "b61ad1d0",
   "metadata": {},
   "source": [
    "## Initialization"
   ]
  },
  {
   "cell_type": "markdown",
   "id": "d70f0d54",
   "metadata": {},
   "source": [
    "### TreeValue's Initialization"
   ]
  },
  {
   "cell_type": "code",
   "execution_count": 14,
   "id": "d32a679b",
   "metadata": {
    "execution": {
     "iopub.execute_input": "2023-08-10T14:26:21.353511Z",
     "iopub.status.busy": "2023-08-10T14:26:21.352831Z",
     "iopub.status.idle": "2023-08-10T14:26:28.608846Z",
     "shell.execute_reply": "2023-08-10T14:26:28.607821Z"
    }
   },
   "outputs": [
    {
     "name": "stdout",
     "output_type": "stream",
     "text": [
      "894 ns ± 0.605 ns per loop (mean ± std. dev. of 7 runs, 1,000,000 loops each)\n"
     ]
    }
   ],
   "source": [
    "%timeit FastTreeValue(_TREE_DATA_1)"
   ]
  },
  {
   "cell_type": "markdown",
   "id": "24f3707b",
   "metadata": {},
   "source": [
    "### Tianshou Batch's Initialization"
   ]
  },
  {
   "cell_type": "code",
   "execution_count": 15,
   "id": "ac3958df",
   "metadata": {
    "execution": {
     "iopub.execute_input": "2023-08-10T14:26:28.612938Z",
     "iopub.status.busy": "2023-08-10T14:26:28.612258Z",
     "iopub.status.idle": "2023-08-10T14:26:37.825566Z",
     "shell.execute_reply": "2023-08-10T14:26:37.824794Z"
    }
   },
   "outputs": [
    {
     "name": "stdout",
     "output_type": "stream",
     "text": [
      "11.3 µs ± 90 ns per loop (mean ± std. dev. of 7 runs, 100,000 loops each)\n"
     ]
    }
   ],
   "source": [
    "%timeit Batch(**_TREE_DATA_1)"
   ]
  },
  {
   "cell_type": "markdown",
   "id": "1ab82e2d",
   "metadata": {},
   "source": [
    "## Deep Copy Operation"
   ]
  },
  {
   "cell_type": "code",
   "execution_count": 16,
   "id": "210a9442",
   "metadata": {
    "execution": {
     "iopub.execute_input": "2023-08-10T14:26:37.829366Z",
     "iopub.status.busy": "2023-08-10T14:26:37.828810Z",
     "iopub.status.idle": "2023-08-10T14:26:37.832576Z",
     "shell.execute_reply": "2023-08-10T14:26:37.831780Z"
    }
   },
   "outputs": [],
   "source": [
    "import copy"
   ]
  },
  {
   "cell_type": "markdown",
   "id": "5a736274",
   "metadata": {},
   "source": [
    "### Deep Copy of TreeValue"
   ]
  },
  {
   "cell_type": "code",
   "execution_count": 17,
   "id": "f9bcadd6",
   "metadata": {
    "execution": {
     "iopub.execute_input": "2023-08-10T14:26:37.836377Z",
     "iopub.status.busy": "2023-08-10T14:26:37.835707Z",
     "iopub.status.idle": "2023-08-10T14:26:49.506841Z",
     "shell.execute_reply": "2023-08-10T14:26:49.506161Z"
    }
   },
   "outputs": [
    {
     "name": "stdout",
     "output_type": "stream",
     "text": [
      "144 µs ± 829 ns per loop (mean ± std. dev. of 7 runs, 10,000 loops each)\n"
     ]
    }
   ],
   "source": [
    "t3 = FastTreeValue(_TREE_DATA_3)\n",
    "%timeit copy.deepcopy(t3)"
   ]
  },
  {
   "cell_type": "markdown",
   "id": "bf8be7ea",
   "metadata": {},
   "source": [
    "### Deep Copy of Tianshou Batch"
   ]
  },
  {
   "cell_type": "code",
   "execution_count": 18,
   "id": "91998e6f",
   "metadata": {
    "execution": {
     "iopub.execute_input": "2023-08-10T14:26:49.510688Z",
     "iopub.status.busy": "2023-08-10T14:26:49.510151Z",
     "iopub.status.idle": "2023-08-10T14:27:01.292907Z",
     "shell.execute_reply": "2023-08-10T14:27:01.292039Z"
    }
   },
   "outputs": [
    {
     "name": "stdout",
     "output_type": "stream",
     "text": [
      "145 µs ± 681 ns per loop (mean ± std. dev. of 7 runs, 10,000 loops each)\n"
     ]
    }
   ],
   "source": [
    "b3 = Batch(**_TREE_DATA_3)\n",
    "%timeit copy.deepcopy(b3)"
   ]
  },
  {
   "cell_type": "markdown",
   "id": "223162fb",
   "metadata": {},
   "source": [
    "## Stack, Concat and Split Operation"
   ]
  },
  {
   "cell_type": "markdown",
   "id": "85fa4a73",
   "metadata": {},
   "source": [
    "### Performance of TreeValue"
   ]
  },
  {
   "cell_type": "code",
   "execution_count": 19,
   "id": "a0c2b697",
   "metadata": {
    "execution": {
     "iopub.execute_input": "2023-08-10T14:27:01.297025Z",
     "iopub.status.busy": "2023-08-10T14:27:01.296521Z",
     "iopub.status.idle": "2023-08-10T14:27:01.301647Z",
     "shell.execute_reply": "2023-08-10T14:27:01.300971Z"
    }
   },
   "outputs": [],
   "source": [
    "trees = [FastTreeValue(_TREE_DATA_2) for _ in range(8)]"
   ]
  },
  {
   "cell_type": "code",
   "execution_count": 20,
   "id": "017ea5a5",
   "metadata": {
    "execution": {
     "iopub.execute_input": "2023-08-10T14:27:01.305251Z",
     "iopub.status.busy": "2023-08-10T14:27:01.304626Z",
     "iopub.status.idle": "2023-08-10T14:27:01.313742Z",
     "shell.execute_reply": "2023-08-10T14:27:01.313082Z"
    }
   },
   "outputs": [
    {
     "data": {
      "text/plain": [
       "<FastTreeValue 0x7f2e0f748dc0>\n",
       "├── 'a' --> tensor([[[ 1.0048, -0.6266,  0.9732],\n",
       "│                    [ 0.8089,  0.0388, -0.4165]],\n",
       "│           \n",
       "│                   [[ 1.0048, -0.6266,  0.9732],\n",
       "│                    [ 0.8089,  0.0388, -0.4165]],\n",
       "│           \n",
       "│                   [[ 1.0048, -0.6266,  0.9732],\n",
       "│                    [ 0.8089,  0.0388, -0.4165]],\n",
       "│           \n",
       "│                   [[ 1.0048, -0.6266,  0.9732],\n",
       "│                    [ 0.8089,  0.0388, -0.4165]],\n",
       "│           \n",
       "│                   [[ 1.0048, -0.6266,  0.9732],\n",
       "│                    [ 0.8089,  0.0388, -0.4165]],\n",
       "│           \n",
       "│                   [[ 1.0048, -0.6266,  0.9732],\n",
       "│                    [ 0.8089,  0.0388, -0.4165]],\n",
       "│           \n",
       "│                   [[ 1.0048, -0.6266,  0.9732],\n",
       "│                    [ 0.8089,  0.0388, -0.4165]],\n",
       "│           \n",
       "│                   [[ 1.0048, -0.6266,  0.9732],\n",
       "│                    [ 0.8089,  0.0388, -0.4165]]])\n",
       "└── 'x' --> <FastTreeValue 0x7f2ee4e3a430>\n",
       "    └── 'c' --> tensor([[[ 1.2078,  0.3281, -0.4170, -0.3034],\n",
       "                         [-0.6955, -1.5817, -0.1177,  0.1171],\n",
       "                         [ 0.4062,  1.2244, -0.8230,  1.8042]],\n",
       "                \n",
       "                        [[ 1.2078,  0.3281, -0.4170, -0.3034],\n",
       "                         [-0.6955, -1.5817, -0.1177,  0.1171],\n",
       "                         [ 0.4062,  1.2244, -0.8230,  1.8042]],\n",
       "                \n",
       "                        [[ 1.2078,  0.3281, -0.4170, -0.3034],\n",
       "                         [-0.6955, -1.5817, -0.1177,  0.1171],\n",
       "                         [ 0.4062,  1.2244, -0.8230,  1.8042]],\n",
       "                \n",
       "                        [[ 1.2078,  0.3281, -0.4170, -0.3034],\n",
       "                         [-0.6955, -1.5817, -0.1177,  0.1171],\n",
       "                         [ 0.4062,  1.2244, -0.8230,  1.8042]],\n",
       "                \n",
       "                        [[ 1.2078,  0.3281, -0.4170, -0.3034],\n",
       "                         [-0.6955, -1.5817, -0.1177,  0.1171],\n",
       "                         [ 0.4062,  1.2244, -0.8230,  1.8042]],\n",
       "                \n",
       "                        [[ 1.2078,  0.3281, -0.4170, -0.3034],\n",
       "                         [-0.6955, -1.5817, -0.1177,  0.1171],\n",
       "                         [ 0.4062,  1.2244, -0.8230,  1.8042]],\n",
       "                \n",
       "                        [[ 1.2078,  0.3281, -0.4170, -0.3034],\n",
       "                         [-0.6955, -1.5817, -0.1177,  0.1171],\n",
       "                         [ 0.4062,  1.2244, -0.8230,  1.8042]],\n",
       "                \n",
       "                        [[ 1.2078,  0.3281, -0.4170, -0.3034],\n",
       "                         [-0.6955, -1.5817, -0.1177,  0.1171],\n",
       "                         [ 0.4062,  1.2244, -0.8230,  1.8042]]])"
      ]
     },
     "execution_count": 20,
     "metadata": {},
     "output_type": "execute_result"
    }
   ],
   "source": [
    "t_stack = FastTreeValue.func(subside=True)(torch.stack)\n",
    "\n",
    "t_stack(trees)"
   ]
  },
  {
   "cell_type": "code",
   "execution_count": 21,
   "id": "f8b3f415",
   "metadata": {
    "execution": {
     "iopub.execute_input": "2023-08-10T14:27:01.316726Z",
     "iopub.status.busy": "2023-08-10T14:27:01.316333Z",
     "iopub.status.idle": "2023-08-10T14:27:04.014604Z",
     "shell.execute_reply": "2023-08-10T14:27:04.013883Z"
    }
   },
   "outputs": [
    {
     "name": "stdout",
     "output_type": "stream",
     "text": [
      "33.2 µs ± 85.1 ns per loop (mean ± std. dev. of 7 runs, 10,000 loops each)\n"
     ]
    }
   ],
   "source": [
    "%timeit t_stack(trees)"
   ]
  },
  {
   "cell_type": "code",
   "execution_count": 22,
   "id": "94b56771",
   "metadata": {
    "execution": {
     "iopub.execute_input": "2023-08-10T14:27:04.017955Z",
     "iopub.status.busy": "2023-08-10T14:27:04.017447Z",
     "iopub.status.idle": "2023-08-10T14:27:04.025893Z",
     "shell.execute_reply": "2023-08-10T14:27:04.025130Z"
    }
   },
   "outputs": [
    {
     "data": {
      "text/plain": [
       "<FastTreeValue 0x7f2e1765efd0>\n",
       "├── 'a' --> tensor([[ 1.0048, -0.6266,  0.9732],\n",
       "│                   [ 0.8089,  0.0388, -0.4165],\n",
       "│                   [ 1.0048, -0.6266,  0.9732],\n",
       "│                   [ 0.8089,  0.0388, -0.4165],\n",
       "│                   [ 1.0048, -0.6266,  0.9732],\n",
       "│                   [ 0.8089,  0.0388, -0.4165],\n",
       "│                   [ 1.0048, -0.6266,  0.9732],\n",
       "│                   [ 0.8089,  0.0388, -0.4165],\n",
       "│                   [ 1.0048, -0.6266,  0.9732],\n",
       "│                   [ 0.8089,  0.0388, -0.4165],\n",
       "│                   [ 1.0048, -0.6266,  0.9732],\n",
       "│                   [ 0.8089,  0.0388, -0.4165],\n",
       "│                   [ 1.0048, -0.6266,  0.9732],\n",
       "│                   [ 0.8089,  0.0388, -0.4165],\n",
       "│                   [ 1.0048, -0.6266,  0.9732],\n",
       "│                   [ 0.8089,  0.0388, -0.4165]])\n",
       "└── 'x' --> <FastTreeValue 0x7f2e1765eee0>\n",
       "    └── 'c' --> tensor([[ 1.2078,  0.3281, -0.4170, -0.3034],\n",
       "                        [-0.6955, -1.5817, -0.1177,  0.1171],\n",
       "                        [ 0.4062,  1.2244, -0.8230,  1.8042],\n",
       "                        [ 1.2078,  0.3281, -0.4170, -0.3034],\n",
       "                        [-0.6955, -1.5817, -0.1177,  0.1171],\n",
       "                        [ 0.4062,  1.2244, -0.8230,  1.8042],\n",
       "                        [ 1.2078,  0.3281, -0.4170, -0.3034],\n",
       "                        [-0.6955, -1.5817, -0.1177,  0.1171],\n",
       "                        [ 0.4062,  1.2244, -0.8230,  1.8042],\n",
       "                        [ 1.2078,  0.3281, -0.4170, -0.3034],\n",
       "                        [-0.6955, -1.5817, -0.1177,  0.1171],\n",
       "                        [ 0.4062,  1.2244, -0.8230,  1.8042],\n",
       "                        [ 1.2078,  0.3281, -0.4170, -0.3034],\n",
       "                        [-0.6955, -1.5817, -0.1177,  0.1171],\n",
       "                        [ 0.4062,  1.2244, -0.8230,  1.8042],\n",
       "                        [ 1.2078,  0.3281, -0.4170, -0.3034],\n",
       "                        [-0.6955, -1.5817, -0.1177,  0.1171],\n",
       "                        [ 0.4062,  1.2244, -0.8230,  1.8042],\n",
       "                        [ 1.2078,  0.3281, -0.4170, -0.3034],\n",
       "                        [-0.6955, -1.5817, -0.1177,  0.1171],\n",
       "                        [ 0.4062,  1.2244, -0.8230,  1.8042],\n",
       "                        [ 1.2078,  0.3281, -0.4170, -0.3034],\n",
       "                        [-0.6955, -1.5817, -0.1177,  0.1171],\n",
       "                        [ 0.4062,  1.2244, -0.8230,  1.8042]])"
      ]
     },
     "execution_count": 22,
     "metadata": {},
     "output_type": "execute_result"
    }
   ],
   "source": [
    "t_cat = FastTreeValue.func(subside=True)(torch.cat)\n",
    "\n",
    "t_cat(trees)"
   ]
  },
  {
   "cell_type": "code",
   "execution_count": 23,
   "id": "5e9c06a6",
   "metadata": {
    "execution": {
     "iopub.execute_input": "2023-08-10T14:27:04.029457Z",
     "iopub.status.busy": "2023-08-10T14:27:04.028781Z",
     "iopub.status.idle": "2023-08-10T14:27:06.551951Z",
     "shell.execute_reply": "2023-08-10T14:27:06.551174Z"
    }
   },
   "outputs": [
    {
     "name": "stdout",
     "output_type": "stream",
     "text": [
      "31 µs ± 96.8 ns per loop (mean ± std. dev. of 7 runs, 10,000 loops each)\n"
     ]
    }
   ],
   "source": [
    "%timeit t_cat(trees)"
   ]
  },
  {
   "cell_type": "code",
   "execution_count": 24,
   "id": "a3ab5c8f",
   "metadata": {
    "execution": {
     "iopub.execute_input": "2023-08-10T14:27:06.555662Z",
     "iopub.status.busy": "2023-08-10T14:27:06.555132Z",
     "iopub.status.idle": "2023-08-10T14:27:12.090618Z",
     "shell.execute_reply": "2023-08-10T14:27:12.089851Z"
    }
   },
   "outputs": [
    {
     "name": "stdout",
     "output_type": "stream",
     "text": [
      "68 µs ± 104 ns per loop (mean ± std. dev. of 7 runs, 10,000 loops each)\n"
     ]
    }
   ],
   "source": [
    "t_split = FastTreeValue.func(rise=True)(torch.split)\n",
    "tree = FastTreeValue({\n",
    "    'obs': torch.randn(8, 4, 84, 84),\n",
    "    'action': torch.randint(0, 6, size=(8, 1,)),\n",
    "    'reward': torch.rand(8, 1),\n",
    "})\n",
    "\n",
    "%timeit t_split(tree, 1)"
   ]
  },
  {
   "cell_type": "markdown",
   "id": "31c3ec0b",
   "metadata": {},
   "source": [
    "### Performance of Tianshou Batch"
   ]
  },
  {
   "cell_type": "code",
   "execution_count": 25,
   "id": "9ead828a",
   "metadata": {
    "execution": {
     "iopub.execute_input": "2023-08-10T14:27:12.094293Z",
     "iopub.status.busy": "2023-08-10T14:27:12.093798Z",
     "iopub.status.idle": "2023-08-10T14:27:12.101713Z",
     "shell.execute_reply": "2023-08-10T14:27:12.100972Z"
    }
   },
   "outputs": [
    {
     "data": {
      "text/plain": [
       "Batch(\n",
       "    x: Batch(\n",
       "           c: tensor([[[ 1.2078,  0.3281, -0.4170, -0.3034],\n",
       "                       [-0.6955, -1.5817, -0.1177,  0.1171],\n",
       "                       [ 0.4062,  1.2244, -0.8230,  1.8042]],\n",
       "              \n",
       "                      [[ 1.2078,  0.3281, -0.4170, -0.3034],\n",
       "                       [-0.6955, -1.5817, -0.1177,  0.1171],\n",
       "                       [ 0.4062,  1.2244, -0.8230,  1.8042]],\n",
       "              \n",
       "                      [[ 1.2078,  0.3281, -0.4170, -0.3034],\n",
       "                       [-0.6955, -1.5817, -0.1177,  0.1171],\n",
       "                       [ 0.4062,  1.2244, -0.8230,  1.8042]],\n",
       "              \n",
       "                      [[ 1.2078,  0.3281, -0.4170, -0.3034],\n",
       "                       [-0.6955, -1.5817, -0.1177,  0.1171],\n",
       "                       [ 0.4062,  1.2244, -0.8230,  1.8042]],\n",
       "              \n",
       "                      [[ 1.2078,  0.3281, -0.4170, -0.3034],\n",
       "                       [-0.6955, -1.5817, -0.1177,  0.1171],\n",
       "                       [ 0.4062,  1.2244, -0.8230,  1.8042]],\n",
       "              \n",
       "                      [[ 1.2078,  0.3281, -0.4170, -0.3034],\n",
       "                       [-0.6955, -1.5817, -0.1177,  0.1171],\n",
       "                       [ 0.4062,  1.2244, -0.8230,  1.8042]],\n",
       "              \n",
       "                      [[ 1.2078,  0.3281, -0.4170, -0.3034],\n",
       "                       [-0.6955, -1.5817, -0.1177,  0.1171],\n",
       "                       [ 0.4062,  1.2244, -0.8230,  1.8042]],\n",
       "              \n",
       "                      [[ 1.2078,  0.3281, -0.4170, -0.3034],\n",
       "                       [-0.6955, -1.5817, -0.1177,  0.1171],\n",
       "                       [ 0.4062,  1.2244, -0.8230,  1.8042]]]),\n",
       "       ),\n",
       "    a: tensor([[[ 1.0048, -0.6266,  0.9732],\n",
       "                [ 0.8089,  0.0388, -0.4165]],\n",
       "       \n",
       "               [[ 1.0048, -0.6266,  0.9732],\n",
       "                [ 0.8089,  0.0388, -0.4165]],\n",
       "       \n",
       "               [[ 1.0048, -0.6266,  0.9732],\n",
       "                [ 0.8089,  0.0388, -0.4165]],\n",
       "       \n",
       "               [[ 1.0048, -0.6266,  0.9732],\n",
       "                [ 0.8089,  0.0388, -0.4165]],\n",
       "       \n",
       "               [[ 1.0048, -0.6266,  0.9732],\n",
       "                [ 0.8089,  0.0388, -0.4165]],\n",
       "       \n",
       "               [[ 1.0048, -0.6266,  0.9732],\n",
       "                [ 0.8089,  0.0388, -0.4165]],\n",
       "       \n",
       "               [[ 1.0048, -0.6266,  0.9732],\n",
       "                [ 0.8089,  0.0388, -0.4165]],\n",
       "       \n",
       "               [[ 1.0048, -0.6266,  0.9732],\n",
       "                [ 0.8089,  0.0388, -0.4165]]]),\n",
       ")"
      ]
     },
     "execution_count": 25,
     "metadata": {},
     "output_type": "execute_result"
    }
   ],
   "source": [
    "batches = [Batch(**_TREE_DATA_2) for _ in range(8)]\n",
    "\n",
    "Batch.stack(batches)"
   ]
  },
  {
   "cell_type": "code",
   "execution_count": 26,
   "id": "ec9037a3",
   "metadata": {
    "execution": {
     "iopub.execute_input": "2023-08-10T14:27:12.105088Z",
     "iopub.status.busy": "2023-08-10T14:27:12.104519Z",
     "iopub.status.idle": "2023-08-10T14:27:18.851826Z",
     "shell.execute_reply": "2023-08-10T14:27:18.851071Z"
    }
   },
   "outputs": [
    {
     "name": "stdout",
     "output_type": "stream",
     "text": [
      "83 µs ± 381 ns per loop (mean ± std. dev. of 7 runs, 10,000 loops each)\n"
     ]
    }
   ],
   "source": [
    "%timeit Batch.stack(batches)"
   ]
  },
  {
   "cell_type": "code",
   "execution_count": 27,
   "id": "cb8ab77e",
   "metadata": {
    "execution": {
     "iopub.execute_input": "2023-08-10T14:27:18.855622Z",
     "iopub.status.busy": "2023-08-10T14:27:18.854857Z",
     "iopub.status.idle": "2023-08-10T14:27:18.862700Z",
     "shell.execute_reply": "2023-08-10T14:27:18.861972Z"
    }
   },
   "outputs": [
    {
     "data": {
      "text/plain": [
       "Batch(\n",
       "    x: Batch(\n",
       "           c: tensor([[ 1.2078,  0.3281, -0.4170, -0.3034],\n",
       "                      [-0.6955, -1.5817, -0.1177,  0.1171],\n",
       "                      [ 0.4062,  1.2244, -0.8230,  1.8042],\n",
       "                      [ 1.2078,  0.3281, -0.4170, -0.3034],\n",
       "                      [-0.6955, -1.5817, -0.1177,  0.1171],\n",
       "                      [ 0.4062,  1.2244, -0.8230,  1.8042],\n",
       "                      [ 1.2078,  0.3281, -0.4170, -0.3034],\n",
       "                      [-0.6955, -1.5817, -0.1177,  0.1171],\n",
       "                      [ 0.4062,  1.2244, -0.8230,  1.8042],\n",
       "                      [ 1.2078,  0.3281, -0.4170, -0.3034],\n",
       "                      [-0.6955, -1.5817, -0.1177,  0.1171],\n",
       "                      [ 0.4062,  1.2244, -0.8230,  1.8042],\n",
       "                      [ 1.2078,  0.3281, -0.4170, -0.3034],\n",
       "                      [-0.6955, -1.5817, -0.1177,  0.1171],\n",
       "                      [ 0.4062,  1.2244, -0.8230,  1.8042],\n",
       "                      [ 1.2078,  0.3281, -0.4170, -0.3034],\n",
       "                      [-0.6955, -1.5817, -0.1177,  0.1171],\n",
       "                      [ 0.4062,  1.2244, -0.8230,  1.8042],\n",
       "                      [ 1.2078,  0.3281, -0.4170, -0.3034],\n",
       "                      [-0.6955, -1.5817, -0.1177,  0.1171],\n",
       "                      [ 0.4062,  1.2244, -0.8230,  1.8042],\n",
       "                      [ 1.2078,  0.3281, -0.4170, -0.3034],\n",
       "                      [-0.6955, -1.5817, -0.1177,  0.1171],\n",
       "                      [ 0.4062,  1.2244, -0.8230,  1.8042]]),\n",
       "       ),\n",
       "    a: tensor([[ 1.0048, -0.6266,  0.9732],\n",
       "               [ 0.8089,  0.0388, -0.4165],\n",
       "               [ 1.0048, -0.6266,  0.9732],\n",
       "               [ 0.8089,  0.0388, -0.4165],\n",
       "               [ 1.0048, -0.6266,  0.9732],\n",
       "               [ 0.8089,  0.0388, -0.4165],\n",
       "               [ 1.0048, -0.6266,  0.9732],\n",
       "               [ 0.8089,  0.0388, -0.4165],\n",
       "               [ 1.0048, -0.6266,  0.9732],\n",
       "               [ 0.8089,  0.0388, -0.4165],\n",
       "               [ 1.0048, -0.6266,  0.9732],\n",
       "               [ 0.8089,  0.0388, -0.4165],\n",
       "               [ 1.0048, -0.6266,  0.9732],\n",
       "               [ 0.8089,  0.0388, -0.4165],\n",
       "               [ 1.0048, -0.6266,  0.9732],\n",
       "               [ 0.8089,  0.0388, -0.4165]]),\n",
       ")"
      ]
     },
     "execution_count": 27,
     "metadata": {},
     "output_type": "execute_result"
    }
   ],
   "source": [
    "Batch.cat(batches)"
   ]
  },
  {
   "cell_type": "code",
   "execution_count": 28,
   "id": "18dfb045",
   "metadata": {
    "execution": {
     "iopub.execute_input": "2023-08-10T14:27:18.865866Z",
     "iopub.status.busy": "2023-08-10T14:27:18.865388Z",
     "iopub.status.idle": "2023-08-10T14:27:31.360381Z",
     "shell.execute_reply": "2023-08-10T14:27:31.359612Z"
    }
   },
   "outputs": [
    {
     "name": "stdout",
     "output_type": "stream",
     "text": [
      "154 µs ± 262 ns per loop (mean ± std. dev. of 7 runs, 10,000 loops each)\n"
     ]
    }
   ],
   "source": [
    "%timeit Batch.cat(batches)"
   ]
  },
  {
   "cell_type": "code",
   "execution_count": 29,
   "id": "c6688e51",
   "metadata": {
    "execution": {
     "iopub.execute_input": "2023-08-10T14:27:31.364290Z",
     "iopub.status.busy": "2023-08-10T14:27:31.363760Z",
     "iopub.status.idle": "2023-08-10T14:27:34.263837Z",
     "shell.execute_reply": "2023-08-10T14:27:34.263020Z"
    }
   },
   "outputs": [
    {
     "name": "stdout",
     "output_type": "stream",
     "text": [
      "357 µs ± 6.11 µs per loop (mean ± std. dev. of 7 runs, 1,000 loops each)\n"
     ]
    }
   ],
   "source": [
    "batch = Batch({\n",
    "    'obs': torch.randn(8, 4, 84, 84),\n",
    "    'action': torch.randint(0, 6, size=(8, 1,)),\n",
    "    'reward': torch.rand(8, 1)}\n",
    ")\n",
    "\n",
    "%timeit list(Batch.split(batch, 1, shuffle=False, merge_last=True))"
   ]
  },
  {
   "cell_type": "code",
   "execution_count": null,
   "id": "2539fbd9",
   "metadata": {},
   "outputs": [],
   "source": []
  }
 ],
 "metadata": {
  "kernelspec": {
   "display_name": "Python 3 (ipykernel)",
   "language": "python",
   "name": "python3"
  },
  "language_info": {
   "codemirror_mode": {
    "name": "ipython",
    "version": 3
   },
   "file_extension": ".py",
   "mimetype": "text/x-python",
   "name": "python",
   "nbconvert_exporter": "python",
   "pygments_lexer": "ipython3",
   "version": "3.8.17"
  }
 },
 "nbformat": 4,
 "nbformat_minor": 5
}
