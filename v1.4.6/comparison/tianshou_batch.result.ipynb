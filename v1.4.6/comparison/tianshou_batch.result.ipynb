{
 "cells": [
  {
   "cell_type": "markdown",
   "id": "9d39d946",
   "metadata": {},
   "source": [
    "# Comparison Between TreeValue and Tianshou Batch"
   ]
  },
  {
   "cell_type": "markdown",
   "id": "3c6db2d4",
   "metadata": {},
   "source": [
    "In this section, we will take a look at the feature and performance of the [Tianshou Batch](https://github.com/thu-ml/tianshou) library, which is developed by Tsinghua Machine Learning Group."
   ]
  },
  {
   "cell_type": "markdown",
   "id": "069361b0",
   "metadata": {},
   "source": [
    "Before starting the comparison, let us define some thing."
   ]
  },
  {
   "cell_type": "code",
   "execution_count": 1,
   "id": "06fc8d26",
   "metadata": {
    "execution": {
     "iopub.execute_input": "2023-08-10T12:42:03.964945Z",
     "iopub.status.busy": "2023-08-10T12:42:03.964134Z",
     "iopub.status.idle": "2023-08-10T12:42:06.046560Z",
     "shell.execute_reply": "2023-08-10T12:42:06.045309Z"
    }
   },
   "outputs": [],
   "source": [
    "import torch \n",
    "\n",
    "_TREE_DATA_1 = {'a': 1, 'b': 2, 'x': {'c': 3, 'd': 4}}\n",
    "_TREE_DATA_2 = {\n",
    "    'a': torch.randn(2, 3), \n",
    "    'x': {\n",
    "        'c': torch.randn(3, 4)\n",
    "    },\n",
    "}\n",
    "_TREE_DATA_3 = {\n",
    "    'obs': torch.randn(4, 84, 84),\n",
    "    'action': torch.randint(0, 6, size=(1,)),\n",
    "    'reward': torch.rand(1),\n",
    "}"
   ]
  },
  {
   "cell_type": "markdown",
   "id": "83461b25",
   "metadata": {},
   "source": [
    "## Read and Write Operation"
   ]
  },
  {
   "cell_type": "markdown",
   "id": "067b3f73",
   "metadata": {},
   "source": [
    "Reading and writing are the two most common operations in the tree data structure based on the data model (TreeValue and Tianshou Batch both belong to this type), so this section will compare the reading and writing performance of these two libraries."
   ]
  },
  {
   "cell_type": "markdown",
   "id": "5d09a5b7",
   "metadata": {},
   "source": [
    "### TreeValue's Get and Set"
   ]
  },
  {
   "cell_type": "code",
   "execution_count": 2,
   "id": "9519c4bb",
   "metadata": {
    "execution": {
     "iopub.execute_input": "2023-08-10T12:42:06.052024Z",
     "iopub.status.busy": "2023-08-10T12:42:06.051531Z",
     "iopub.status.idle": "2023-08-10T12:42:06.576548Z",
     "shell.execute_reply": "2023-08-10T12:42:06.575337Z"
    }
   },
   "outputs": [],
   "source": [
    "from treevalue import FastTreeValue\n",
    "\n",
    "t = FastTreeValue(_TREE_DATA_2)"
   ]
  },
  {
   "cell_type": "code",
   "execution_count": 3,
   "id": "11c37677",
   "metadata": {
    "execution": {
     "iopub.execute_input": "2023-08-10T12:42:06.582361Z",
     "iopub.status.busy": "2023-08-10T12:42:06.581530Z",
     "iopub.status.idle": "2023-08-10T12:42:06.595953Z",
     "shell.execute_reply": "2023-08-10T12:42:06.594651Z"
    }
   },
   "outputs": [
    {
     "data": {
      "text/plain": [
       "<FastTreeValue 0x7f201823a250>\n",
       "├── 'a' --> tensor([[-1.9110, -2.0608, -1.4630],\n",
       "│                   [ 1.0848, -0.4555,  0.4071]])\n",
       "└── 'x' --> <FastTreeValue 0x7f201823a760>\n",
       "    └── 'c' --> tensor([[-0.6748,  0.5218,  0.4836,  0.3265],\n",
       "                        [-0.0230, -1.6345, -0.2861,  0.4661],\n",
       "                        [ 1.7503, -1.0361,  1.6852,  1.1124]])"
      ]
     },
     "execution_count": 3,
     "metadata": {},
     "output_type": "execute_result"
    }
   ],
   "source": [
    "t"
   ]
  },
  {
   "cell_type": "code",
   "execution_count": 4,
   "id": "fd70b0b9",
   "metadata": {
    "execution": {
     "iopub.execute_input": "2023-08-10T12:42:06.602641Z",
     "iopub.status.busy": "2023-08-10T12:42:06.602221Z",
     "iopub.status.idle": "2023-08-10T12:42:06.610821Z",
     "shell.execute_reply": "2023-08-10T12:42:06.609590Z"
    }
   },
   "outputs": [
    {
     "data": {
      "text/plain": [
       "tensor([[-1.9110, -2.0608, -1.4630],\n",
       "        [ 1.0848, -0.4555,  0.4071]])"
      ]
     },
     "execution_count": 4,
     "metadata": {},
     "output_type": "execute_result"
    }
   ],
   "source": [
    "t.a"
   ]
  },
  {
   "cell_type": "code",
   "execution_count": 5,
   "id": "c18197bd",
   "metadata": {
    "execution": {
     "iopub.execute_input": "2023-08-10T12:42:06.616147Z",
     "iopub.status.busy": "2023-08-10T12:42:06.615730Z",
     "iopub.status.idle": "2023-08-10T12:42:12.818647Z",
     "shell.execute_reply": "2023-08-10T12:42:12.817671Z"
    }
   },
   "outputs": [
    {
     "name": "stdout",
     "output_type": "stream",
     "text": [
      "76.2 ns ± 0.642 ns per loop (mean ± std. dev. of 7 runs, 10,000,000 loops each)\n"
     ]
    }
   ],
   "source": [
    "%timeit t.a"
   ]
  },
  {
   "cell_type": "code",
   "execution_count": 6,
   "id": "bd52f867",
   "metadata": {
    "execution": {
     "iopub.execute_input": "2023-08-10T12:42:12.823170Z",
     "iopub.status.busy": "2023-08-10T12:42:12.822437Z",
     "iopub.status.idle": "2023-08-10T12:42:12.834360Z",
     "shell.execute_reply": "2023-08-10T12:42:12.833242Z"
    }
   },
   "outputs": [
    {
     "data": {
      "text/plain": [
       "<FastTreeValue 0x7f201823a250>\n",
       "├── 'a' --> tensor([[-0.1338,  1.3141, -1.8072],\n",
       "│                   [ 0.3532,  0.0132,  0.2284]])\n",
       "└── 'x' --> <FastTreeValue 0x7f201823a760>\n",
       "    └── 'c' --> tensor([[-0.6748,  0.5218,  0.4836,  0.3265],\n",
       "                        [-0.0230, -1.6345, -0.2861,  0.4661],\n",
       "                        [ 1.7503, -1.0361,  1.6852,  1.1124]])"
      ]
     },
     "execution_count": 6,
     "metadata": {},
     "output_type": "execute_result"
    }
   ],
   "source": [
    "new_value = torch.randn(2, 3)\n",
    "t.a = new_value\n",
    "\n",
    "t"
   ]
  },
  {
   "cell_type": "code",
   "execution_count": 7,
   "id": "bbe04d1c",
   "metadata": {
    "execution": {
     "iopub.execute_input": "2023-08-10T12:42:12.839236Z",
     "iopub.status.busy": "2023-08-10T12:42:12.838593Z",
     "iopub.status.idle": "2023-08-10T12:42:19.592987Z",
     "shell.execute_reply": "2023-08-10T12:42:19.591803Z"
    }
   },
   "outputs": [
    {
     "name": "stdout",
     "output_type": "stream",
     "text": [
      "83.2 ns ± 1 ns per loop (mean ± std. dev. of 7 runs, 10,000,000 loops each)\n"
     ]
    }
   ],
   "source": [
    "%timeit t.a = new_value"
   ]
  },
  {
   "cell_type": "markdown",
   "id": "48c49731",
   "metadata": {},
   "source": [
    "### Tianshou Batch's Get and Set"
   ]
  },
  {
   "cell_type": "code",
   "execution_count": 8,
   "id": "f1bb14c1",
   "metadata": {
    "execution": {
     "iopub.execute_input": "2023-08-10T12:42:19.598377Z",
     "iopub.status.busy": "2023-08-10T12:42:19.597673Z",
     "iopub.status.idle": "2023-08-10T12:42:20.180135Z",
     "shell.execute_reply": "2023-08-10T12:42:20.178976Z"
    }
   },
   "outputs": [],
   "source": [
    "from tianshou.data import Batch\n",
    "\n",
    "b = Batch(**_TREE_DATA_2)"
   ]
  },
  {
   "cell_type": "code",
   "execution_count": 9,
   "id": "cb0777c3",
   "metadata": {
    "execution": {
     "iopub.execute_input": "2023-08-10T12:42:20.185462Z",
     "iopub.status.busy": "2023-08-10T12:42:20.184828Z",
     "iopub.status.idle": "2023-08-10T12:42:20.194208Z",
     "shell.execute_reply": "2023-08-10T12:42:20.193125Z"
    }
   },
   "outputs": [
    {
     "data": {
      "text/plain": [
       "Batch(\n",
       "    a: tensor([[-1.9110, -2.0608, -1.4630],\n",
       "               [ 1.0848, -0.4555,  0.4071]]),\n",
       "    x: Batch(\n",
       "           c: tensor([[-0.6748,  0.5218,  0.4836,  0.3265],\n",
       "                      [-0.0230, -1.6345, -0.2861,  0.4661],\n",
       "                      [ 1.7503, -1.0361,  1.6852,  1.1124]]),\n",
       "       ),\n",
       ")"
      ]
     },
     "execution_count": 9,
     "metadata": {},
     "output_type": "execute_result"
    }
   ],
   "source": [
    "b"
   ]
  },
  {
   "cell_type": "code",
   "execution_count": 10,
   "id": "43ef8ea3",
   "metadata": {
    "execution": {
     "iopub.execute_input": "2023-08-10T12:42:20.198428Z",
     "iopub.status.busy": "2023-08-10T12:42:20.198048Z",
     "iopub.status.idle": "2023-08-10T12:42:20.211865Z",
     "shell.execute_reply": "2023-08-10T12:42:20.205201Z"
    }
   },
   "outputs": [
    {
     "data": {
      "text/plain": [
       "tensor([[-1.9110, -2.0608, -1.4630],\n",
       "        [ 1.0848, -0.4555,  0.4071]])"
      ]
     },
     "execution_count": 10,
     "metadata": {},
     "output_type": "execute_result"
    }
   ],
   "source": [
    "b.a"
   ]
  },
  {
   "cell_type": "code",
   "execution_count": 11,
   "id": "b785ab72",
   "metadata": {
    "execution": {
     "iopub.execute_input": "2023-08-10T12:42:20.216688Z",
     "iopub.status.busy": "2023-08-10T12:42:20.216113Z",
     "iopub.status.idle": "2023-08-10T12:42:26.275381Z",
     "shell.execute_reply": "2023-08-10T12:42:26.274437Z"
    }
   },
   "outputs": [
    {
     "name": "stdout",
     "output_type": "stream",
     "text": [
      "74.1 ns ± 1.12 ns per loop (mean ± std. dev. of 7 runs, 10,000,000 loops each)\n"
     ]
    }
   ],
   "source": [
    "%timeit b.a"
   ]
  },
  {
   "cell_type": "code",
   "execution_count": 12,
   "id": "ad54dc69",
   "metadata": {
    "execution": {
     "iopub.execute_input": "2023-08-10T12:42:26.283535Z",
     "iopub.status.busy": "2023-08-10T12:42:26.282767Z",
     "iopub.status.idle": "2023-08-10T12:42:26.291929Z",
     "shell.execute_reply": "2023-08-10T12:42:26.290813Z"
    }
   },
   "outputs": [
    {
     "data": {
      "text/plain": [
       "Batch(\n",
       "    a: tensor([[ 1.0574, -1.2533, -1.2332],\n",
       "               [ 0.9505, -0.7311,  0.7362]]),\n",
       "    x: Batch(\n",
       "           c: tensor([[-0.6748,  0.5218,  0.4836,  0.3265],\n",
       "                      [-0.0230, -1.6345, -0.2861,  0.4661],\n",
       "                      [ 1.7503, -1.0361,  1.6852,  1.1124]]),\n",
       "       ),\n",
       ")"
      ]
     },
     "execution_count": 12,
     "metadata": {},
     "output_type": "execute_result"
    }
   ],
   "source": [
    "new_value = torch.randn(2, 3)\n",
    "b.a = new_value\n",
    "\n",
    "b"
   ]
  },
  {
   "cell_type": "code",
   "execution_count": 13,
   "id": "29b1d0bf",
   "metadata": {
    "execution": {
     "iopub.execute_input": "2023-08-10T12:42:26.296763Z",
     "iopub.status.busy": "2023-08-10T12:42:26.296262Z",
     "iopub.status.idle": "2023-08-10T12:42:31.666777Z",
     "shell.execute_reply": "2023-08-10T12:42:31.664240Z"
    }
   },
   "outputs": [
    {
     "name": "stdout",
     "output_type": "stream",
     "text": [
      "662 ns ± 4.63 ns per loop (mean ± std. dev. of 7 runs, 1,000,000 loops each)\n"
     ]
    }
   ],
   "source": [
    "%timeit b.a = new_value"
   ]
  },
  {
   "cell_type": "markdown",
   "id": "b61ad1d0",
   "metadata": {},
   "source": [
    "## Initialization"
   ]
  },
  {
   "cell_type": "markdown",
   "id": "d70f0d54",
   "metadata": {},
   "source": [
    "### TreeValue's Initialization"
   ]
  },
  {
   "cell_type": "code",
   "execution_count": 14,
   "id": "d32a679b",
   "metadata": {
    "execution": {
     "iopub.execute_input": "2023-08-10T12:42:31.672371Z",
     "iopub.status.busy": "2023-08-10T12:42:31.671366Z",
     "iopub.status.idle": "2023-08-10T12:42:40.425543Z",
     "shell.execute_reply": "2023-08-10T12:42:40.423639Z"
    }
   },
   "outputs": [
    {
     "name": "stdout",
     "output_type": "stream",
     "text": [
      "1.08 µs ± 7.45 ns per loop (mean ± std. dev. of 7 runs, 1,000,000 loops each)\n"
     ]
    }
   ],
   "source": [
    "%timeit FastTreeValue(_TREE_DATA_1)"
   ]
  },
  {
   "cell_type": "markdown",
   "id": "24f3707b",
   "metadata": {},
   "source": [
    "### Tianshou Batch's Initialization"
   ]
  },
  {
   "cell_type": "code",
   "execution_count": 15,
   "id": "ac3958df",
   "metadata": {
    "execution": {
     "iopub.execute_input": "2023-08-10T12:42:40.430234Z",
     "iopub.status.busy": "2023-08-10T12:42:40.429849Z",
     "iopub.status.idle": "2023-08-10T12:42:52.137212Z",
     "shell.execute_reply": "2023-08-10T12:42:52.136197Z"
    }
   },
   "outputs": [
    {
     "name": "stdout",
     "output_type": "stream",
     "text": [
      "14.4 µs ± 103 ns per loop (mean ± std. dev. of 7 runs, 100,000 loops each)\n"
     ]
    }
   ],
   "source": [
    "%timeit Batch(**_TREE_DATA_1)"
   ]
  },
  {
   "cell_type": "markdown",
   "id": "1ab82e2d",
   "metadata": {},
   "source": [
    "## Deep Copy Operation"
   ]
  },
  {
   "cell_type": "code",
   "execution_count": 16,
   "id": "210a9442",
   "metadata": {
    "execution": {
     "iopub.execute_input": "2023-08-10T12:42:52.141931Z",
     "iopub.status.busy": "2023-08-10T12:42:52.141585Z",
     "iopub.status.idle": "2023-08-10T12:42:52.148264Z",
     "shell.execute_reply": "2023-08-10T12:42:52.147209Z"
    }
   },
   "outputs": [],
   "source": [
    "import copy"
   ]
  },
  {
   "cell_type": "markdown",
   "id": "5a736274",
   "metadata": {},
   "source": [
    "### Deep Copy of TreeValue"
   ]
  },
  {
   "cell_type": "code",
   "execution_count": 17,
   "id": "f9bcadd6",
   "metadata": {
    "execution": {
     "iopub.execute_input": "2023-08-10T12:42:52.153119Z",
     "iopub.status.busy": "2023-08-10T12:42:52.152367Z",
     "iopub.status.idle": "2023-08-10T12:42:54.567938Z",
     "shell.execute_reply": "2023-08-10T12:42:54.566990Z"
    }
   },
   "outputs": [
    {
     "name": "stdout",
     "output_type": "stream",
     "text": [
      "300 µs ± 17.9 µs per loop (mean ± std. dev. of 7 runs, 1,000 loops each)\n"
     ]
    }
   ],
   "source": [
    "t3 = FastTreeValue(_TREE_DATA_3)\n",
    "%timeit copy.deepcopy(t3)"
   ]
  },
  {
   "cell_type": "markdown",
   "id": "bf8be7ea",
   "metadata": {},
   "source": [
    "### Deep Copy of Tianshou Batch"
   ]
  },
  {
   "cell_type": "code",
   "execution_count": 18,
   "id": "91998e6f",
   "metadata": {
    "execution": {
     "iopub.execute_input": "2023-08-10T12:42:54.572643Z",
     "iopub.status.busy": "2023-08-10T12:42:54.572043Z",
     "iopub.status.idle": "2023-08-10T12:42:56.946500Z",
     "shell.execute_reply": "2023-08-10T12:42:56.945540Z"
    }
   },
   "outputs": [
    {
     "name": "stdout",
     "output_type": "stream",
     "text": [
      "293 µs ± 27 µs per loop (mean ± std. dev. of 7 runs, 1,000 loops each)\n"
     ]
    }
   ],
   "source": [
    "b3 = Batch(**_TREE_DATA_3)\n",
    "%timeit copy.deepcopy(b3)"
   ]
  },
  {
   "cell_type": "markdown",
   "id": "223162fb",
   "metadata": {},
   "source": [
    "## Stack, Concat and Split Operation"
   ]
  },
  {
   "cell_type": "markdown",
   "id": "85fa4a73",
   "metadata": {},
   "source": [
    "### Performance of TreeValue"
   ]
  },
  {
   "cell_type": "code",
   "execution_count": 19,
   "id": "a0c2b697",
   "metadata": {
    "execution": {
     "iopub.execute_input": "2023-08-10T12:42:56.952277Z",
     "iopub.status.busy": "2023-08-10T12:42:56.951594Z",
     "iopub.status.idle": "2023-08-10T12:42:56.956668Z",
     "shell.execute_reply": "2023-08-10T12:42:56.955736Z"
    }
   },
   "outputs": [],
   "source": [
    "trees = [FastTreeValue(_TREE_DATA_2) for _ in range(8)]"
   ]
  },
  {
   "cell_type": "code",
   "execution_count": 20,
   "id": "017ea5a5",
   "metadata": {
    "execution": {
     "iopub.execute_input": "2023-08-10T12:42:56.961863Z",
     "iopub.status.busy": "2023-08-10T12:42:56.961203Z",
     "iopub.status.idle": "2023-08-10T12:42:56.973880Z",
     "shell.execute_reply": "2023-08-10T12:42:56.972758Z"
    }
   },
   "outputs": [
    {
     "data": {
      "text/plain": [
       "<FastTreeValue 0x7f201415b610>\n",
       "├── 'a' --> tensor([[[-1.9110, -2.0608, -1.4630],\n",
       "│                    [ 1.0848, -0.4555,  0.4071]],\n",
       "│           \n",
       "│                   [[-1.9110, -2.0608, -1.4630],\n",
       "│                    [ 1.0848, -0.4555,  0.4071]],\n",
       "│           \n",
       "│                   [[-1.9110, -2.0608, -1.4630],\n",
       "│                    [ 1.0848, -0.4555,  0.4071]],\n",
       "│           \n",
       "│                   [[-1.9110, -2.0608, -1.4630],\n",
       "│                    [ 1.0848, -0.4555,  0.4071]],\n",
       "│           \n",
       "│                   [[-1.9110, -2.0608, -1.4630],\n",
       "│                    [ 1.0848, -0.4555,  0.4071]],\n",
       "│           \n",
       "│                   [[-1.9110, -2.0608, -1.4630],\n",
       "│                    [ 1.0848, -0.4555,  0.4071]],\n",
       "│           \n",
       "│                   [[-1.9110, -2.0608, -1.4630],\n",
       "│                    [ 1.0848, -0.4555,  0.4071]],\n",
       "│           \n",
       "│                   [[-1.9110, -2.0608, -1.4630],\n",
       "│                    [ 1.0848, -0.4555,  0.4071]]])\n",
       "└── 'x' --> <FastTreeValue 0x7f1f3daa2790>\n",
       "    └── 'c' --> tensor([[[-0.6748,  0.5218,  0.4836,  0.3265],\n",
       "                         [-0.0230, -1.6345, -0.2861,  0.4661],\n",
       "                         [ 1.7503, -1.0361,  1.6852,  1.1124]],\n",
       "                \n",
       "                        [[-0.6748,  0.5218,  0.4836,  0.3265],\n",
       "                         [-0.0230, -1.6345, -0.2861,  0.4661],\n",
       "                         [ 1.7503, -1.0361,  1.6852,  1.1124]],\n",
       "                \n",
       "                        [[-0.6748,  0.5218,  0.4836,  0.3265],\n",
       "                         [-0.0230, -1.6345, -0.2861,  0.4661],\n",
       "                         [ 1.7503, -1.0361,  1.6852,  1.1124]],\n",
       "                \n",
       "                        [[-0.6748,  0.5218,  0.4836,  0.3265],\n",
       "                         [-0.0230, -1.6345, -0.2861,  0.4661],\n",
       "                         [ 1.7503, -1.0361,  1.6852,  1.1124]],\n",
       "                \n",
       "                        [[-0.6748,  0.5218,  0.4836,  0.3265],\n",
       "                         [-0.0230, -1.6345, -0.2861,  0.4661],\n",
       "                         [ 1.7503, -1.0361,  1.6852,  1.1124]],\n",
       "                \n",
       "                        [[-0.6748,  0.5218,  0.4836,  0.3265],\n",
       "                         [-0.0230, -1.6345, -0.2861,  0.4661],\n",
       "                         [ 1.7503, -1.0361,  1.6852,  1.1124]],\n",
       "                \n",
       "                        [[-0.6748,  0.5218,  0.4836,  0.3265],\n",
       "                         [-0.0230, -1.6345, -0.2861,  0.4661],\n",
       "                         [ 1.7503, -1.0361,  1.6852,  1.1124]],\n",
       "                \n",
       "                        [[-0.6748,  0.5218,  0.4836,  0.3265],\n",
       "                         [-0.0230, -1.6345, -0.2861,  0.4661],\n",
       "                         [ 1.7503, -1.0361,  1.6852,  1.1124]]])"
      ]
     },
     "execution_count": 20,
     "metadata": {},
     "output_type": "execute_result"
    }
   ],
   "source": [
    "t_stack = FastTreeValue.func(subside=True)(torch.stack)\n",
    "\n",
    "t_stack(trees)"
   ]
  },
  {
   "cell_type": "code",
   "execution_count": 21,
   "id": "f8b3f415",
   "metadata": {
    "execution": {
     "iopub.execute_input": "2023-08-10T12:42:56.979164Z",
     "iopub.status.busy": "2023-08-10T12:42:56.978673Z",
     "iopub.status.idle": "2023-08-10T12:43:01.302013Z",
     "shell.execute_reply": "2023-08-10T12:43:01.300092Z"
    }
   },
   "outputs": [
    {
     "name": "stdout",
     "output_type": "stream",
     "text": [
      "52.1 µs ± 3.14 µs per loop (mean ± std. dev. of 7 runs, 10,000 loops each)\n"
     ]
    }
   ],
   "source": [
    "%timeit t_stack(trees)"
   ]
  },
  {
   "cell_type": "code",
   "execution_count": 22,
   "id": "94b56771",
   "metadata": {
    "execution": {
     "iopub.execute_input": "2023-08-10T12:43:01.308146Z",
     "iopub.status.busy": "2023-08-10T12:43:01.306671Z",
     "iopub.status.idle": "2023-08-10T12:43:01.320651Z",
     "shell.execute_reply": "2023-08-10T12:43:01.319626Z"
    }
   },
   "outputs": [
    {
     "data": {
      "text/plain": [
       "<FastTreeValue 0x7f1f3dabe130>\n",
       "├── 'a' --> tensor([[-1.9110, -2.0608, -1.4630],\n",
       "│                   [ 1.0848, -0.4555,  0.4071],\n",
       "│                   [-1.9110, -2.0608, -1.4630],\n",
       "│                   [ 1.0848, -0.4555,  0.4071],\n",
       "│                   [-1.9110, -2.0608, -1.4630],\n",
       "│                   [ 1.0848, -0.4555,  0.4071],\n",
       "│                   [-1.9110, -2.0608, -1.4630],\n",
       "│                   [ 1.0848, -0.4555,  0.4071],\n",
       "│                   [-1.9110, -2.0608, -1.4630],\n",
       "│                   [ 1.0848, -0.4555,  0.4071],\n",
       "│                   [-1.9110, -2.0608, -1.4630],\n",
       "│                   [ 1.0848, -0.4555,  0.4071],\n",
       "│                   [-1.9110, -2.0608, -1.4630],\n",
       "│                   [ 1.0848, -0.4555,  0.4071],\n",
       "│                   [-1.9110, -2.0608, -1.4630],\n",
       "│                   [ 1.0848, -0.4555,  0.4071]])\n",
       "└── 'x' --> <FastTreeValue 0x7f1f3dabee50>\n",
       "    └── 'c' --> tensor([[-0.6748,  0.5218,  0.4836,  0.3265],\n",
       "                        [-0.0230, -1.6345, -0.2861,  0.4661],\n",
       "                        [ 1.7503, -1.0361,  1.6852,  1.1124],\n",
       "                        [-0.6748,  0.5218,  0.4836,  0.3265],\n",
       "                        [-0.0230, -1.6345, -0.2861,  0.4661],\n",
       "                        [ 1.7503, -1.0361,  1.6852,  1.1124],\n",
       "                        [-0.6748,  0.5218,  0.4836,  0.3265],\n",
       "                        [-0.0230, -1.6345, -0.2861,  0.4661],\n",
       "                        [ 1.7503, -1.0361,  1.6852,  1.1124],\n",
       "                        [-0.6748,  0.5218,  0.4836,  0.3265],\n",
       "                        [-0.0230, -1.6345, -0.2861,  0.4661],\n",
       "                        [ 1.7503, -1.0361,  1.6852,  1.1124],\n",
       "                        [-0.6748,  0.5218,  0.4836,  0.3265],\n",
       "                        [-0.0230, -1.6345, -0.2861,  0.4661],\n",
       "                        [ 1.7503, -1.0361,  1.6852,  1.1124],\n",
       "                        [-0.6748,  0.5218,  0.4836,  0.3265],\n",
       "                        [-0.0230, -1.6345, -0.2861,  0.4661],\n",
       "                        [ 1.7503, -1.0361,  1.6852,  1.1124],\n",
       "                        [-0.6748,  0.5218,  0.4836,  0.3265],\n",
       "                        [-0.0230, -1.6345, -0.2861,  0.4661],\n",
       "                        [ 1.7503, -1.0361,  1.6852,  1.1124],\n",
       "                        [-0.6748,  0.5218,  0.4836,  0.3265],\n",
       "                        [-0.0230, -1.6345, -0.2861,  0.4661],\n",
       "                        [ 1.7503, -1.0361,  1.6852,  1.1124]])"
      ]
     },
     "execution_count": 22,
     "metadata": {},
     "output_type": "execute_result"
    }
   ],
   "source": [
    "t_cat = FastTreeValue.func(subside=True)(torch.cat)\n",
    "\n",
    "t_cat(trees)"
   ]
  },
  {
   "cell_type": "code",
   "execution_count": 23,
   "id": "5e9c06a6",
   "metadata": {
    "execution": {
     "iopub.execute_input": "2023-08-10T12:43:01.325034Z",
     "iopub.status.busy": "2023-08-10T12:43:01.324415Z",
     "iopub.status.idle": "2023-08-10T12:43:05.405312Z",
     "shell.execute_reply": "2023-08-10T12:43:05.404275Z"
    }
   },
   "outputs": [
    {
     "name": "stdout",
     "output_type": "stream",
     "text": [
      "50.5 µs ± 1.97 µs per loop (mean ± std. dev. of 7 runs, 10,000 loops each)\n"
     ]
    }
   ],
   "source": [
    "%timeit t_cat(trees)"
   ]
  },
  {
   "cell_type": "code",
   "execution_count": 24,
   "id": "a3ab5c8f",
   "metadata": {
    "execution": {
     "iopub.execute_input": "2023-08-10T12:43:05.411140Z",
     "iopub.status.busy": "2023-08-10T12:43:05.409531Z",
     "iopub.status.idle": "2023-08-10T12:43:14.224615Z",
     "shell.execute_reply": "2023-08-10T12:43:14.223682Z"
    }
   },
   "outputs": [
    {
     "name": "stdout",
     "output_type": "stream",
     "text": [
      "109 µs ± 4.03 µs per loop (mean ± std. dev. of 7 runs, 10,000 loops each)\n"
     ]
    }
   ],
   "source": [
    "t_split = FastTreeValue.func(rise=True)(torch.split)\n",
    "tree = FastTreeValue({\n",
    "    'obs': torch.randn(8, 4, 84, 84),\n",
    "    'action': torch.randint(0, 6, size=(8, 1,)),\n",
    "    'reward': torch.rand(8, 1),\n",
    "})\n",
    "\n",
    "%timeit t_split(tree, 1)"
   ]
  },
  {
   "cell_type": "markdown",
   "id": "31c3ec0b",
   "metadata": {},
   "source": [
    "### Performance of Tianshou Batch"
   ]
  },
  {
   "cell_type": "code",
   "execution_count": 25,
   "id": "9ead828a",
   "metadata": {
    "execution": {
     "iopub.execute_input": "2023-08-10T12:43:14.230075Z",
     "iopub.status.busy": "2023-08-10T12:43:14.229244Z",
     "iopub.status.idle": "2023-08-10T12:43:14.243579Z",
     "shell.execute_reply": "2023-08-10T12:43:14.242489Z"
    }
   },
   "outputs": [
    {
     "data": {
      "text/plain": [
       "Batch(\n",
       "    x: Batch(\n",
       "           c: tensor([[[-0.6748,  0.5218,  0.4836,  0.3265],\n",
       "                       [-0.0230, -1.6345, -0.2861,  0.4661],\n",
       "                       [ 1.7503, -1.0361,  1.6852,  1.1124]],\n",
       "              \n",
       "                      [[-0.6748,  0.5218,  0.4836,  0.3265],\n",
       "                       [-0.0230, -1.6345, -0.2861,  0.4661],\n",
       "                       [ 1.7503, -1.0361,  1.6852,  1.1124]],\n",
       "              \n",
       "                      [[-0.6748,  0.5218,  0.4836,  0.3265],\n",
       "                       [-0.0230, -1.6345, -0.2861,  0.4661],\n",
       "                       [ 1.7503, -1.0361,  1.6852,  1.1124]],\n",
       "              \n",
       "                      [[-0.6748,  0.5218,  0.4836,  0.3265],\n",
       "                       [-0.0230, -1.6345, -0.2861,  0.4661],\n",
       "                       [ 1.7503, -1.0361,  1.6852,  1.1124]],\n",
       "              \n",
       "                      [[-0.6748,  0.5218,  0.4836,  0.3265],\n",
       "                       [-0.0230, -1.6345, -0.2861,  0.4661],\n",
       "                       [ 1.7503, -1.0361,  1.6852,  1.1124]],\n",
       "              \n",
       "                      [[-0.6748,  0.5218,  0.4836,  0.3265],\n",
       "                       [-0.0230, -1.6345, -0.2861,  0.4661],\n",
       "                       [ 1.7503, -1.0361,  1.6852,  1.1124]],\n",
       "              \n",
       "                      [[-0.6748,  0.5218,  0.4836,  0.3265],\n",
       "                       [-0.0230, -1.6345, -0.2861,  0.4661],\n",
       "                       [ 1.7503, -1.0361,  1.6852,  1.1124]],\n",
       "              \n",
       "                      [[-0.6748,  0.5218,  0.4836,  0.3265],\n",
       "                       [-0.0230, -1.6345, -0.2861,  0.4661],\n",
       "                       [ 1.7503, -1.0361,  1.6852,  1.1124]]]),\n",
       "       ),\n",
       "    a: tensor([[[-1.9110, -2.0608, -1.4630],\n",
       "                [ 1.0848, -0.4555,  0.4071]],\n",
       "       \n",
       "               [[-1.9110, -2.0608, -1.4630],\n",
       "                [ 1.0848, -0.4555,  0.4071]],\n",
       "       \n",
       "               [[-1.9110, -2.0608, -1.4630],\n",
       "                [ 1.0848, -0.4555,  0.4071]],\n",
       "       \n",
       "               [[-1.9110, -2.0608, -1.4630],\n",
       "                [ 1.0848, -0.4555,  0.4071]],\n",
       "       \n",
       "               [[-1.9110, -2.0608, -1.4630],\n",
       "                [ 1.0848, -0.4555,  0.4071]],\n",
       "       \n",
       "               [[-1.9110, -2.0608, -1.4630],\n",
       "                [ 1.0848, -0.4555,  0.4071]],\n",
       "       \n",
       "               [[-1.9110, -2.0608, -1.4630],\n",
       "                [ 1.0848, -0.4555,  0.4071]],\n",
       "       \n",
       "               [[-1.9110, -2.0608, -1.4630],\n",
       "                [ 1.0848, -0.4555,  0.4071]]]),\n",
       ")"
      ]
     },
     "execution_count": 25,
     "metadata": {},
     "output_type": "execute_result"
    }
   ],
   "source": [
    "batches = [Batch(**_TREE_DATA_2) for _ in range(8)]\n",
    "\n",
    "Batch.stack(batches)"
   ]
  },
  {
   "cell_type": "code",
   "execution_count": 26,
   "id": "ec9037a3",
   "metadata": {
    "execution": {
     "iopub.execute_input": "2023-08-10T12:43:14.249031Z",
     "iopub.status.busy": "2023-08-10T12:43:14.248281Z",
     "iopub.status.idle": "2023-08-10T12:43:23.447072Z",
     "shell.execute_reply": "2023-08-10T12:43:23.445962Z"
    }
   },
   "outputs": [
    {
     "name": "stdout",
     "output_type": "stream",
     "text": [
      "113 µs ± 1.07 µs per loop (mean ± std. dev. of 7 runs, 10,000 loops each)\n"
     ]
    }
   ],
   "source": [
    "%timeit Batch.stack(batches)"
   ]
  },
  {
   "cell_type": "code",
   "execution_count": 27,
   "id": "cb8ab77e",
   "metadata": {
    "execution": {
     "iopub.execute_input": "2023-08-10T12:43:23.451611Z",
     "iopub.status.busy": "2023-08-10T12:43:23.451018Z",
     "iopub.status.idle": "2023-08-10T12:43:23.461802Z",
     "shell.execute_reply": "2023-08-10T12:43:23.460614Z"
    }
   },
   "outputs": [
    {
     "data": {
      "text/plain": [
       "Batch(\n",
       "    x: Batch(\n",
       "           c: tensor([[-0.6748,  0.5218,  0.4836,  0.3265],\n",
       "                      [-0.0230, -1.6345, -0.2861,  0.4661],\n",
       "                      [ 1.7503, -1.0361,  1.6852,  1.1124],\n",
       "                      [-0.6748,  0.5218,  0.4836,  0.3265],\n",
       "                      [-0.0230, -1.6345, -0.2861,  0.4661],\n",
       "                      [ 1.7503, -1.0361,  1.6852,  1.1124],\n",
       "                      [-0.6748,  0.5218,  0.4836,  0.3265],\n",
       "                      [-0.0230, -1.6345, -0.2861,  0.4661],\n",
       "                      [ 1.7503, -1.0361,  1.6852,  1.1124],\n",
       "                      [-0.6748,  0.5218,  0.4836,  0.3265],\n",
       "                      [-0.0230, -1.6345, -0.2861,  0.4661],\n",
       "                      [ 1.7503, -1.0361,  1.6852,  1.1124],\n",
       "                      [-0.6748,  0.5218,  0.4836,  0.3265],\n",
       "                      [-0.0230, -1.6345, -0.2861,  0.4661],\n",
       "                      [ 1.7503, -1.0361,  1.6852,  1.1124],\n",
       "                      [-0.6748,  0.5218,  0.4836,  0.3265],\n",
       "                      [-0.0230, -1.6345, -0.2861,  0.4661],\n",
       "                      [ 1.7503, -1.0361,  1.6852,  1.1124],\n",
       "                      [-0.6748,  0.5218,  0.4836,  0.3265],\n",
       "                      [-0.0230, -1.6345, -0.2861,  0.4661],\n",
       "                      [ 1.7503, -1.0361,  1.6852,  1.1124],\n",
       "                      [-0.6748,  0.5218,  0.4836,  0.3265],\n",
       "                      [-0.0230, -1.6345, -0.2861,  0.4661],\n",
       "                      [ 1.7503, -1.0361,  1.6852,  1.1124]]),\n",
       "       ),\n",
       "    a: tensor([[-1.9110, -2.0608, -1.4630],\n",
       "               [ 1.0848, -0.4555,  0.4071],\n",
       "               [-1.9110, -2.0608, -1.4630],\n",
       "               [ 1.0848, -0.4555,  0.4071],\n",
       "               [-1.9110, -2.0608, -1.4630],\n",
       "               [ 1.0848, -0.4555,  0.4071],\n",
       "               [-1.9110, -2.0608, -1.4630],\n",
       "               [ 1.0848, -0.4555,  0.4071],\n",
       "               [-1.9110, -2.0608, -1.4630],\n",
       "               [ 1.0848, -0.4555,  0.4071],\n",
       "               [-1.9110, -2.0608, -1.4630],\n",
       "               [ 1.0848, -0.4555,  0.4071],\n",
       "               [-1.9110, -2.0608, -1.4630],\n",
       "               [ 1.0848, -0.4555,  0.4071],\n",
       "               [-1.9110, -2.0608, -1.4630],\n",
       "               [ 1.0848, -0.4555,  0.4071]]),\n",
       ")"
      ]
     },
     "execution_count": 27,
     "metadata": {},
     "output_type": "execute_result"
    }
   ],
   "source": [
    "Batch.cat(batches)"
   ]
  },
  {
   "cell_type": "code",
   "execution_count": 28,
   "id": "18dfb045",
   "metadata": {
    "execution": {
     "iopub.execute_input": "2023-08-10T12:43:23.466826Z",
     "iopub.status.busy": "2023-08-10T12:43:23.466412Z",
     "iopub.status.idle": "2023-08-10T12:43:25.231061Z",
     "shell.execute_reply": "2023-08-10T12:43:25.230021Z"
    }
   },
   "outputs": [
    {
     "name": "stdout",
     "output_type": "stream",
     "text": [
      "215 µs ± 14.2 µs per loop (mean ± std. dev. of 7 runs, 1,000 loops each)\n"
     ]
    }
   ],
   "source": [
    "%timeit Batch.cat(batches)"
   ]
  },
  {
   "cell_type": "code",
   "execution_count": 29,
   "id": "c6688e51",
   "metadata": {
    "execution": {
     "iopub.execute_input": "2023-08-10T12:43:25.235183Z",
     "iopub.status.busy": "2023-08-10T12:43:25.234495Z",
     "iopub.status.idle": "2023-08-10T12:43:30.751424Z",
     "shell.execute_reply": "2023-08-10T12:43:30.750252Z"
    }
   },
   "outputs": [
    {
     "name": "stdout",
     "output_type": "stream",
     "text": [
      "678 µs ± 23.5 µs per loop (mean ± std. dev. of 7 runs, 1,000 loops each)\n"
     ]
    }
   ],
   "source": [
    "batch = Batch({\n",
    "    'obs': torch.randn(8, 4, 84, 84),\n",
    "    'action': torch.randint(0, 6, size=(8, 1,)),\n",
    "    'reward': torch.rand(8, 1)}\n",
    ")\n",
    "\n",
    "%timeit list(Batch.split(batch, 1, shuffle=False, merge_last=True))"
   ]
  },
  {
   "cell_type": "code",
   "execution_count": null,
   "id": "2539fbd9",
   "metadata": {},
   "outputs": [],
   "source": []
  }
 ],
 "metadata": {
  "kernelspec": {
   "display_name": "Python 3 (ipykernel)",
   "language": "python",
   "name": "python3"
  },
  "language_info": {
   "codemirror_mode": {
    "name": "ipython",
    "version": 3
   },
   "file_extension": ".py",
   "mimetype": "text/x-python",
   "name": "python",
   "nbconvert_exporter": "python",
   "pygments_lexer": "ipython3",
   "version": "3.8.17"
  }
 },
 "nbformat": 4,
 "nbformat_minor": 5
}
