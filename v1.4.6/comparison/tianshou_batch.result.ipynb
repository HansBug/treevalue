{
 "cells": [
  {
   "cell_type": "markdown",
   "id": "9d39d946",
   "metadata": {},
   "source": [
    "# Comparison Between TreeValue and Tianshou Batch"
   ]
  },
  {
   "cell_type": "markdown",
   "id": "3c6db2d4",
   "metadata": {},
   "source": [
    "In this section, we will take a look at the feature and performance of the [Tianshou Batch](https://github.com/thu-ml/tianshou) library, which is developed by Tsinghua Machine Learning Group."
   ]
  },
  {
   "cell_type": "markdown",
   "id": "069361b0",
   "metadata": {},
   "source": [
    "Before starting the comparison, let us define some thing."
   ]
  },
  {
   "cell_type": "code",
   "execution_count": 1,
   "id": "06fc8d26",
   "metadata": {
    "execution": {
     "iopub.execute_input": "2023-02-27T11:18:29.474937Z",
     "iopub.status.busy": "2023-02-27T11:18:29.474727Z",
     "iopub.status.idle": "2023-02-27T11:18:30.362740Z",
     "shell.execute_reply": "2023-02-27T11:18:30.362108Z"
    }
   },
   "outputs": [
    {
     "name": "stderr",
     "output_type": "stream",
     "text": [
      "/opt/hostedtoolcache/Python/3.8.16/x64/lib/python3.8/site-packages/tqdm/auto.py:22: TqdmWarning: IProgress not found. Please update jupyter and ipywidgets. See https://ipywidgets.readthedocs.io/en/stable/user_install.html\n",
      "  from .autonotebook import tqdm as notebook_tqdm\n"
     ]
    }
   ],
   "source": [
    "import torch \n",
    "\n",
    "_TREE_DATA_1 = {'a': 1, 'b': 2, 'x': {'c': 3, 'd': 4}}\n",
    "_TREE_DATA_2 = {\n",
    "    'a': torch.randn(2, 3), \n",
    "    'x': {\n",
    "        'c': torch.randn(3, 4)\n",
    "    },\n",
    "}\n",
    "_TREE_DATA_3 = {\n",
    "    'obs': torch.randn(4, 84, 84),\n",
    "    'action': torch.randint(0, 6, size=(1,)),\n",
    "    'reward': torch.rand(1),\n",
    "}"
   ]
  },
  {
   "cell_type": "markdown",
   "id": "83461b25",
   "metadata": {},
   "source": [
    "## Read and Write Operation"
   ]
  },
  {
   "cell_type": "markdown",
   "id": "067b3f73",
   "metadata": {},
   "source": [
    "Reading and writing are the two most common operations in the tree data structure based on the data model (TreeValue and Tianshou Batch both belong to this type), so this section will compare the reading and writing performance of these two libraries."
   ]
  },
  {
   "cell_type": "markdown",
   "id": "5d09a5b7",
   "metadata": {},
   "source": [
    "### TreeValue's Get and Set"
   ]
  },
  {
   "cell_type": "code",
   "execution_count": 2,
   "id": "9519c4bb",
   "metadata": {
    "execution": {
     "iopub.execute_input": "2023-02-27T11:18:30.365866Z",
     "iopub.status.busy": "2023-02-27T11:18:30.365605Z",
     "iopub.status.idle": "2023-02-27T11:18:30.639164Z",
     "shell.execute_reply": "2023-02-27T11:18:30.638529Z"
    }
   },
   "outputs": [],
   "source": [
    "from treevalue import FastTreeValue\n",
    "\n",
    "t = FastTreeValue(_TREE_DATA_2)"
   ]
  },
  {
   "cell_type": "code",
   "execution_count": 3,
   "id": "11c37677",
   "metadata": {
    "execution": {
     "iopub.execute_input": "2023-02-27T11:18:30.642211Z",
     "iopub.status.busy": "2023-02-27T11:18:30.641640Z",
     "iopub.status.idle": "2023-02-27T11:18:30.650466Z",
     "shell.execute_reply": "2023-02-27T11:18:30.649811Z"
    }
   },
   "outputs": [
    {
     "data": {
      "text/plain": [
       "<FastTreeValue 0x7fafc0352250>\n",
       "├── 'a' --> tensor([[ 0.6133,  0.2586,  2.7233],\n",
       "│                   [-0.3295,  0.3413,  0.3055]])\n",
       "└── 'x' --> <FastTreeValue 0x7fafc0352160>\n",
       "    └── 'c' --> tensor([[ 0.6550,  0.0210,  1.1992,  2.8888],\n",
       "                        [-1.0356,  1.2582,  0.4922,  0.3346],\n",
       "                        [-0.5677, -0.2699,  0.0894, -0.2671]])"
      ]
     },
     "execution_count": 3,
     "metadata": {},
     "output_type": "execute_result"
    }
   ],
   "source": [
    "t"
   ]
  },
  {
   "cell_type": "code",
   "execution_count": 4,
   "id": "fd70b0b9",
   "metadata": {
    "execution": {
     "iopub.execute_input": "2023-02-27T11:18:30.653080Z",
     "iopub.status.busy": "2023-02-27T11:18:30.652724Z",
     "iopub.status.idle": "2023-02-27T11:18:30.657400Z",
     "shell.execute_reply": "2023-02-27T11:18:30.656794Z"
    }
   },
   "outputs": [
    {
     "data": {
      "text/plain": [
       "tensor([[ 0.6133,  0.2586,  2.7233],\n",
       "        [-0.3295,  0.3413,  0.3055]])"
      ]
     },
     "execution_count": 4,
     "metadata": {},
     "output_type": "execute_result"
    }
   ],
   "source": [
    "t.a"
   ]
  },
  {
   "cell_type": "code",
   "execution_count": 5,
   "id": "c18197bd",
   "metadata": {
    "execution": {
     "iopub.execute_input": "2023-02-27T11:18:30.659850Z",
     "iopub.status.busy": "2023-02-27T11:18:30.659522Z",
     "iopub.status.idle": "2023-02-27T11:18:35.638166Z",
     "shell.execute_reply": "2023-02-27T11:18:35.637487Z"
    }
   },
   "outputs": [
    {
     "name": "stdout",
     "output_type": "stream",
     "text": [
      "61.3 ns ± 0.0454 ns per loop (mean ± std. dev. of 7 runs, 10,000,000 loops each)\n"
     ]
    }
   ],
   "source": [
    "%timeit t.a"
   ]
  },
  {
   "cell_type": "code",
   "execution_count": 6,
   "id": "bd52f867",
   "metadata": {
    "execution": {
     "iopub.execute_input": "2023-02-27T11:18:35.641186Z",
     "iopub.status.busy": "2023-02-27T11:18:35.640815Z",
     "iopub.status.idle": "2023-02-27T11:18:35.647338Z",
     "shell.execute_reply": "2023-02-27T11:18:35.646767Z"
    }
   },
   "outputs": [
    {
     "data": {
      "text/plain": [
       "<FastTreeValue 0x7fafc0352250>\n",
       "├── 'a' --> tensor([[ 0.2037, -0.5824,  1.1687],\n",
       "│                   [-0.1017,  1.5422,  0.4434]])\n",
       "└── 'x' --> <FastTreeValue 0x7fafc0352160>\n",
       "    └── 'c' --> tensor([[ 0.6550,  0.0210,  1.1992,  2.8888],\n",
       "                        [-1.0356,  1.2582,  0.4922,  0.3346],\n",
       "                        [-0.5677, -0.2699,  0.0894, -0.2671]])"
      ]
     },
     "execution_count": 6,
     "metadata": {},
     "output_type": "execute_result"
    }
   ],
   "source": [
    "new_value = torch.randn(2, 3)\n",
    "t.a = new_value\n",
    "\n",
    "t"
   ]
  },
  {
   "cell_type": "code",
   "execution_count": 7,
   "id": "bbe04d1c",
   "metadata": {
    "execution": {
     "iopub.execute_input": "2023-02-27T11:18:35.649681Z",
     "iopub.status.busy": "2023-02-27T11:18:35.649349Z",
     "iopub.status.idle": "2023-02-27T11:18:41.140557Z",
     "shell.execute_reply": "2023-02-27T11:18:41.139851Z"
    }
   },
   "outputs": [
    {
     "name": "stdout",
     "output_type": "stream",
     "text": [
      "67.3 ns ± 0.1 ns per loop (mean ± std. dev. of 7 runs, 10,000,000 loops each)\n"
     ]
    }
   ],
   "source": [
    "%timeit t.a = new_value"
   ]
  },
  {
   "cell_type": "markdown",
   "id": "48c49731",
   "metadata": {},
   "source": [
    "### Tianshou Batch's Get and Set"
   ]
  },
  {
   "cell_type": "code",
   "execution_count": 8,
   "id": "f1bb14c1",
   "metadata": {
    "execution": {
     "iopub.execute_input": "2023-02-27T11:18:41.143643Z",
     "iopub.status.busy": "2023-02-27T11:18:41.143303Z",
     "iopub.status.idle": "2023-02-27T11:18:41.464270Z",
     "shell.execute_reply": "2023-02-27T11:18:41.463623Z"
    }
   },
   "outputs": [],
   "source": [
    "from tianshou.data import Batch\n",
    "\n",
    "b = Batch(**_TREE_DATA_2)"
   ]
  },
  {
   "cell_type": "code",
   "execution_count": 9,
   "id": "cb0777c3",
   "metadata": {
    "execution": {
     "iopub.execute_input": "2023-02-27T11:18:41.467687Z",
     "iopub.status.busy": "2023-02-27T11:18:41.467147Z",
     "iopub.status.idle": "2023-02-27T11:18:41.473257Z",
     "shell.execute_reply": "2023-02-27T11:18:41.472665Z"
    }
   },
   "outputs": [
    {
     "data": {
      "text/plain": [
       "Batch(\n",
       "    a: tensor([[ 0.6133,  0.2586,  2.7233],\n",
       "               [-0.3295,  0.3413,  0.3055]]),\n",
       "    x: Batch(\n",
       "           c: tensor([[ 0.6550,  0.0210,  1.1992,  2.8888],\n",
       "                      [-1.0356,  1.2582,  0.4922,  0.3346],\n",
       "                      [-0.5677, -0.2699,  0.0894, -0.2671]]),\n",
       "       ),\n",
       ")"
      ]
     },
     "execution_count": 9,
     "metadata": {},
     "output_type": "execute_result"
    }
   ],
   "source": [
    "b"
   ]
  },
  {
   "cell_type": "code",
   "execution_count": 10,
   "id": "43ef8ea3",
   "metadata": {
    "execution": {
     "iopub.execute_input": "2023-02-27T11:18:41.475923Z",
     "iopub.status.busy": "2023-02-27T11:18:41.475435Z",
     "iopub.status.idle": "2023-02-27T11:18:41.480761Z",
     "shell.execute_reply": "2023-02-27T11:18:41.480194Z"
    }
   },
   "outputs": [
    {
     "data": {
      "text/plain": [
       "tensor([[ 0.6133,  0.2586,  2.7233],\n",
       "        [-0.3295,  0.3413,  0.3055]])"
      ]
     },
     "execution_count": 10,
     "metadata": {},
     "output_type": "execute_result"
    }
   ],
   "source": [
    "b.a"
   ]
  },
  {
   "cell_type": "code",
   "execution_count": 11,
   "id": "b785ab72",
   "metadata": {
    "execution": {
     "iopub.execute_input": "2023-02-27T11:18:41.483098Z",
     "iopub.status.busy": "2023-02-27T11:18:41.482773Z",
     "iopub.status.idle": "2023-02-27T11:18:46.364793Z",
     "shell.execute_reply": "2023-02-27T11:18:46.364075Z"
    }
   },
   "outputs": [
    {
     "name": "stdout",
     "output_type": "stream",
     "text": [
      "60.3 ns ± 0.0295 ns per loop (mean ± std. dev. of 7 runs, 10,000,000 loops each)\n"
     ]
    }
   ],
   "source": [
    "%timeit b.a"
   ]
  },
  {
   "cell_type": "code",
   "execution_count": 12,
   "id": "ad54dc69",
   "metadata": {
    "execution": {
     "iopub.execute_input": "2023-02-27T11:18:46.367490Z",
     "iopub.status.busy": "2023-02-27T11:18:46.367117Z",
     "iopub.status.idle": "2023-02-27T11:18:46.372825Z",
     "shell.execute_reply": "2023-02-27T11:18:46.372223Z"
    }
   },
   "outputs": [
    {
     "data": {
      "text/plain": [
       "Batch(\n",
       "    a: tensor([[0.0857, 0.8839, 0.1599],\n",
       "               [0.5864, 1.0001, 1.9514]]),\n",
       "    x: Batch(\n",
       "           c: tensor([[ 0.6550,  0.0210,  1.1992,  2.8888],\n",
       "                      [-1.0356,  1.2582,  0.4922,  0.3346],\n",
       "                      [-0.5677, -0.2699,  0.0894, -0.2671]]),\n",
       "       ),\n",
       ")"
      ]
     },
     "execution_count": 12,
     "metadata": {},
     "output_type": "execute_result"
    }
   ],
   "source": [
    "new_value = torch.randn(2, 3)\n",
    "b.a = new_value\n",
    "\n",
    "b"
   ]
  },
  {
   "cell_type": "code",
   "execution_count": 13,
   "id": "29b1d0bf",
   "metadata": {
    "execution": {
     "iopub.execute_input": "2023-02-27T11:18:46.375229Z",
     "iopub.status.busy": "2023-02-27T11:18:46.374889Z",
     "iopub.status.idle": "2023-02-27T11:18:50.311425Z",
     "shell.execute_reply": "2023-02-27T11:18:50.310710Z"
    }
   },
   "outputs": [
    {
     "name": "stdout",
     "output_type": "stream",
     "text": [
      "484 ns ± 0.224 ns per loop (mean ± std. dev. of 7 runs, 1,000,000 loops each)\n"
     ]
    }
   ],
   "source": [
    "%timeit b.a = new_value"
   ]
  },
  {
   "cell_type": "markdown",
   "id": "b61ad1d0",
   "metadata": {},
   "source": [
    "## Initialization"
   ]
  },
  {
   "cell_type": "markdown",
   "id": "d70f0d54",
   "metadata": {},
   "source": [
    "### TreeValue's Initialization"
   ]
  },
  {
   "cell_type": "code",
   "execution_count": 14,
   "id": "d32a679b",
   "metadata": {
    "execution": {
     "iopub.execute_input": "2023-02-27T11:18:50.314538Z",
     "iopub.status.busy": "2023-02-27T11:18:50.314188Z",
     "iopub.status.idle": "2023-02-27T11:18:57.209217Z",
     "shell.execute_reply": "2023-02-27T11:18:57.208508Z"
    }
   },
   "outputs": [
    {
     "name": "stdout",
     "output_type": "stream",
     "text": [
      "850 ns ± 0.261 ns per loop (mean ± std. dev. of 7 runs, 1,000,000 loops each)\n"
     ]
    }
   ],
   "source": [
    "%timeit FastTreeValue(_TREE_DATA_1)"
   ]
  },
  {
   "cell_type": "markdown",
   "id": "24f3707b",
   "metadata": {},
   "source": [
    "### Tianshou Batch's Initialization"
   ]
  },
  {
   "cell_type": "code",
   "execution_count": 15,
   "id": "ac3958df",
   "metadata": {
    "execution": {
     "iopub.execute_input": "2023-02-27T11:18:57.212083Z",
     "iopub.status.busy": "2023-02-27T11:18:57.211731Z",
     "iopub.status.idle": "2023-02-27T11:19:06.498678Z",
     "shell.execute_reply": "2023-02-27T11:19:06.497962Z"
    }
   },
   "outputs": [
    {
     "name": "stdout",
     "output_type": "stream",
     "text": [
      "11.5 µs ± 35.7 ns per loop (mean ± std. dev. of 7 runs, 100,000 loops each)\n"
     ]
    }
   ],
   "source": [
    "%timeit Batch(**_TREE_DATA_1)"
   ]
  },
  {
   "cell_type": "markdown",
   "id": "1ab82e2d",
   "metadata": {},
   "source": [
    "## Deep Copy Operation"
   ]
  },
  {
   "cell_type": "code",
   "execution_count": 16,
   "id": "210a9442",
   "metadata": {
    "execution": {
     "iopub.execute_input": "2023-02-27T11:19:06.501927Z",
     "iopub.status.busy": "2023-02-27T11:19:06.501428Z",
     "iopub.status.idle": "2023-02-27T11:19:06.505445Z",
     "shell.execute_reply": "2023-02-27T11:19:06.504846Z"
    }
   },
   "outputs": [],
   "source": [
    "import copy"
   ]
  },
  {
   "cell_type": "markdown",
   "id": "5a736274",
   "metadata": {},
   "source": [
    "### Deep Copy of TreeValue"
   ]
  },
  {
   "cell_type": "code",
   "execution_count": 17,
   "id": "f9bcadd6",
   "metadata": {
    "execution": {
     "iopub.execute_input": "2023-02-27T11:19:06.508415Z",
     "iopub.status.busy": "2023-02-27T11:19:06.507928Z",
     "iopub.status.idle": "2023-02-27T11:19:17.608893Z",
     "shell.execute_reply": "2023-02-27T11:19:17.608353Z"
    }
   },
   "outputs": [
    {
     "name": "stdout",
     "output_type": "stream",
     "text": [
      "137 µs ± 452 ns per loop (mean ± std. dev. of 7 runs, 10,000 loops each)\n"
     ]
    }
   ],
   "source": [
    "t3 = FastTreeValue(_TREE_DATA_3)\n",
    "%timeit copy.deepcopy(t3)"
   ]
  },
  {
   "cell_type": "markdown",
   "id": "bf8be7ea",
   "metadata": {},
   "source": [
    "### Deep Copy of Tianshou Batch"
   ]
  },
  {
   "cell_type": "code",
   "execution_count": 18,
   "id": "91998e6f",
   "metadata": {
    "execution": {
     "iopub.execute_input": "2023-02-27T11:19:17.611957Z",
     "iopub.status.busy": "2023-02-27T11:19:17.611334Z",
     "iopub.status.idle": "2023-02-27T11:19:28.938909Z",
     "shell.execute_reply": "2023-02-27T11:19:28.938240Z"
    }
   },
   "outputs": [
    {
     "name": "stdout",
     "output_type": "stream",
     "text": [
      "140 µs ± 1.02 µs per loop (mean ± std. dev. of 7 runs, 10,000 loops each)\n"
     ]
    }
   ],
   "source": [
    "b3 = Batch(**_TREE_DATA_3)\n",
    "%timeit copy.deepcopy(b3)"
   ]
  },
  {
   "cell_type": "markdown",
   "id": "223162fb",
   "metadata": {},
   "source": [
    "## Stack, Concat and Split Operation"
   ]
  },
  {
   "cell_type": "markdown",
   "id": "85fa4a73",
   "metadata": {},
   "source": [
    "### Performance of TreeValue"
   ]
  },
  {
   "cell_type": "code",
   "execution_count": 19,
   "id": "a0c2b697",
   "metadata": {
    "execution": {
     "iopub.execute_input": "2023-02-27T11:19:28.942184Z",
     "iopub.status.busy": "2023-02-27T11:19:28.941944Z",
     "iopub.status.idle": "2023-02-27T11:19:28.946004Z",
     "shell.execute_reply": "2023-02-27T11:19:28.945425Z"
    }
   },
   "outputs": [],
   "source": [
    "trees = [FastTreeValue(_TREE_DATA_2) for _ in range(8)]"
   ]
  },
  {
   "cell_type": "code",
   "execution_count": 20,
   "id": "017ea5a5",
   "metadata": {
    "execution": {
     "iopub.execute_input": "2023-02-27T11:19:28.948717Z",
     "iopub.status.busy": "2023-02-27T11:19:28.948483Z",
     "iopub.status.idle": "2023-02-27T11:19:28.956050Z",
     "shell.execute_reply": "2023-02-27T11:19:28.955475Z"
    }
   },
   "outputs": [
    {
     "data": {
      "text/plain": [
       "<FastTreeValue 0x7fafc0356c40>\n",
       "├── 'a' --> tensor([[[ 0.6133,  0.2586,  2.7233],\n",
       "│                    [-0.3295,  0.3413,  0.3055]],\n",
       "│           \n",
       "│                   [[ 0.6133,  0.2586,  2.7233],\n",
       "│                    [-0.3295,  0.3413,  0.3055]],\n",
       "│           \n",
       "│                   [[ 0.6133,  0.2586,  2.7233],\n",
       "│                    [-0.3295,  0.3413,  0.3055]],\n",
       "│           \n",
       "│                   [[ 0.6133,  0.2586,  2.7233],\n",
       "│                    [-0.3295,  0.3413,  0.3055]],\n",
       "│           \n",
       "│                   [[ 0.6133,  0.2586,  2.7233],\n",
       "│                    [-0.3295,  0.3413,  0.3055]],\n",
       "│           \n",
       "│                   [[ 0.6133,  0.2586,  2.7233],\n",
       "│                    [-0.3295,  0.3413,  0.3055]],\n",
       "│           \n",
       "│                   [[ 0.6133,  0.2586,  2.7233],\n",
       "│                    [-0.3295,  0.3413,  0.3055]],\n",
       "│           \n",
       "│                   [[ 0.6133,  0.2586,  2.7233],\n",
       "│                    [-0.3295,  0.3413,  0.3055]]])\n",
       "└── 'x' --> <FastTreeValue 0x7faf0b694760>\n",
       "    └── 'c' --> tensor([[[ 0.6550,  0.0210,  1.1992,  2.8888],\n",
       "                         [-1.0356,  1.2582,  0.4922,  0.3346],\n",
       "                         [-0.5677, -0.2699,  0.0894, -0.2671]],\n",
       "                \n",
       "                        [[ 0.6550,  0.0210,  1.1992,  2.8888],\n",
       "                         [-1.0356,  1.2582,  0.4922,  0.3346],\n",
       "                         [-0.5677, -0.2699,  0.0894, -0.2671]],\n",
       "                \n",
       "                        [[ 0.6550,  0.0210,  1.1992,  2.8888],\n",
       "                         [-1.0356,  1.2582,  0.4922,  0.3346],\n",
       "                         [-0.5677, -0.2699,  0.0894, -0.2671]],\n",
       "                \n",
       "                        [[ 0.6550,  0.0210,  1.1992,  2.8888],\n",
       "                         [-1.0356,  1.2582,  0.4922,  0.3346],\n",
       "                         [-0.5677, -0.2699,  0.0894, -0.2671]],\n",
       "                \n",
       "                        [[ 0.6550,  0.0210,  1.1992,  2.8888],\n",
       "                         [-1.0356,  1.2582,  0.4922,  0.3346],\n",
       "                         [-0.5677, -0.2699,  0.0894, -0.2671]],\n",
       "                \n",
       "                        [[ 0.6550,  0.0210,  1.1992,  2.8888],\n",
       "                         [-1.0356,  1.2582,  0.4922,  0.3346],\n",
       "                         [-0.5677, -0.2699,  0.0894, -0.2671]],\n",
       "                \n",
       "                        [[ 0.6550,  0.0210,  1.1992,  2.8888],\n",
       "                         [-1.0356,  1.2582,  0.4922,  0.3346],\n",
       "                         [-0.5677, -0.2699,  0.0894, -0.2671]],\n",
       "                \n",
       "                        [[ 0.6550,  0.0210,  1.1992,  2.8888],\n",
       "                         [-1.0356,  1.2582,  0.4922,  0.3346],\n",
       "                         [-0.5677, -0.2699,  0.0894, -0.2671]]])"
      ]
     },
     "execution_count": 20,
     "metadata": {},
     "output_type": "execute_result"
    }
   ],
   "source": [
    "t_stack = FastTreeValue.func(subside=True)(torch.stack)\n",
    "\n",
    "t_stack(trees)"
   ]
  },
  {
   "cell_type": "code",
   "execution_count": 21,
   "id": "f8b3f415",
   "metadata": {
    "execution": {
     "iopub.execute_input": "2023-02-27T11:19:28.958426Z",
     "iopub.status.busy": "2023-02-27T11:19:28.958210Z",
     "iopub.status.idle": "2023-02-27T11:19:31.596584Z",
     "shell.execute_reply": "2023-02-27T11:19:31.595868Z"
    }
   },
   "outputs": [
    {
     "name": "stdout",
     "output_type": "stream",
     "text": [
      "32.4 µs ± 73.1 ns per loop (mean ± std. dev. of 7 runs, 10,000 loops each)\n"
     ]
    }
   ],
   "source": [
    "%timeit t_stack(trees)"
   ]
  },
  {
   "cell_type": "code",
   "execution_count": 22,
   "id": "94b56771",
   "metadata": {
    "execution": {
     "iopub.execute_input": "2023-02-27T11:19:31.599632Z",
     "iopub.status.busy": "2023-02-27T11:19:31.599269Z",
     "iopub.status.idle": "2023-02-27T11:19:31.608356Z",
     "shell.execute_reply": "2023-02-27T11:19:31.607394Z"
    }
   },
   "outputs": [
    {
     "data": {
      "text/plain": [
       "<FastTreeValue 0x7faf12280e50>\n",
       "├── 'a' --> tensor([[ 0.6133,  0.2586,  2.7233],\n",
       "│                   [-0.3295,  0.3413,  0.3055],\n",
       "│                   [ 0.6133,  0.2586,  2.7233],\n",
       "│                   [-0.3295,  0.3413,  0.3055],\n",
       "│                   [ 0.6133,  0.2586,  2.7233],\n",
       "│                   [-0.3295,  0.3413,  0.3055],\n",
       "│                   [ 0.6133,  0.2586,  2.7233],\n",
       "│                   [-0.3295,  0.3413,  0.3055],\n",
       "│                   [ 0.6133,  0.2586,  2.7233],\n",
       "│                   [-0.3295,  0.3413,  0.3055],\n",
       "│                   [ 0.6133,  0.2586,  2.7233],\n",
       "│                   [-0.3295,  0.3413,  0.3055],\n",
       "│                   [ 0.6133,  0.2586,  2.7233],\n",
       "│                   [-0.3295,  0.3413,  0.3055],\n",
       "│                   [ 0.6133,  0.2586,  2.7233],\n",
       "│                   [-0.3295,  0.3413,  0.3055]])\n",
       "└── 'x' --> <FastTreeValue 0x7faf0b63ef40>\n",
       "    └── 'c' --> tensor([[ 0.6550,  0.0210,  1.1992,  2.8888],\n",
       "                        [-1.0356,  1.2582,  0.4922,  0.3346],\n",
       "                        [-0.5677, -0.2699,  0.0894, -0.2671],\n",
       "                        [ 0.6550,  0.0210,  1.1992,  2.8888],\n",
       "                        [-1.0356,  1.2582,  0.4922,  0.3346],\n",
       "                        [-0.5677, -0.2699,  0.0894, -0.2671],\n",
       "                        [ 0.6550,  0.0210,  1.1992,  2.8888],\n",
       "                        [-1.0356,  1.2582,  0.4922,  0.3346],\n",
       "                        [-0.5677, -0.2699,  0.0894, -0.2671],\n",
       "                        [ 0.6550,  0.0210,  1.1992,  2.8888],\n",
       "                        [-1.0356,  1.2582,  0.4922,  0.3346],\n",
       "                        [-0.5677, -0.2699,  0.0894, -0.2671],\n",
       "                        [ 0.6550,  0.0210,  1.1992,  2.8888],\n",
       "                        [-1.0356,  1.2582,  0.4922,  0.3346],\n",
       "                        [-0.5677, -0.2699,  0.0894, -0.2671],\n",
       "                        [ 0.6550,  0.0210,  1.1992,  2.8888],\n",
       "                        [-1.0356,  1.2582,  0.4922,  0.3346],\n",
       "                        [-0.5677, -0.2699,  0.0894, -0.2671],\n",
       "                        [ 0.6550,  0.0210,  1.1992,  2.8888],\n",
       "                        [-1.0356,  1.2582,  0.4922,  0.3346],\n",
       "                        [-0.5677, -0.2699,  0.0894, -0.2671],\n",
       "                        [ 0.6550,  0.0210,  1.1992,  2.8888],\n",
       "                        [-1.0356,  1.2582,  0.4922,  0.3346],\n",
       "                        [-0.5677, -0.2699,  0.0894, -0.2671]])"
      ]
     },
     "execution_count": 22,
     "metadata": {},
     "output_type": "execute_result"
    }
   ],
   "source": [
    "t_cat = FastTreeValue.func(subside=True)(torch.cat)\n",
    "\n",
    "t_cat(trees)"
   ]
  },
  {
   "cell_type": "code",
   "execution_count": 23,
   "id": "5e9c06a6",
   "metadata": {
    "execution": {
     "iopub.execute_input": "2023-02-27T11:19:31.611123Z",
     "iopub.status.busy": "2023-02-27T11:19:31.610661Z",
     "iopub.status.idle": "2023-02-27T11:19:34.053571Z",
     "shell.execute_reply": "2023-02-27T11:19:34.052883Z"
    }
   },
   "outputs": [
    {
     "name": "stdout",
     "output_type": "stream",
     "text": [
      "30 µs ± 71.3 ns per loop (mean ± std. dev. of 7 runs, 10,000 loops each)\n"
     ]
    }
   ],
   "source": [
    "%timeit t_cat(trees)"
   ]
  },
  {
   "cell_type": "code",
   "execution_count": 24,
   "id": "a3ab5c8f",
   "metadata": {
    "execution": {
     "iopub.execute_input": "2023-02-27T11:19:34.056790Z",
     "iopub.status.busy": "2023-02-27T11:19:34.056223Z",
     "iopub.status.idle": "2023-02-27T11:19:38.834543Z",
     "shell.execute_reply": "2023-02-27T11:19:38.833879Z"
    }
   },
   "outputs": [
    {
     "name": "stdout",
     "output_type": "stream",
     "text": [
      "58.8 µs ± 69.5 ns per loop (mean ± std. dev. of 7 runs, 10,000 loops each)\n"
     ]
    }
   ],
   "source": [
    "t_split = FastTreeValue.func(rise=True)(torch.split)\n",
    "tree = FastTreeValue({\n",
    "    'obs': torch.randn(8, 4, 84, 84),\n",
    "    'action': torch.randint(0, 6, size=(8, 1,)),\n",
    "    'reward': torch.rand(8, 1),\n",
    "})\n",
    "\n",
    "%timeit t_split(tree, 1)"
   ]
  },
  {
   "cell_type": "markdown",
   "id": "31c3ec0b",
   "metadata": {},
   "source": [
    "### Performance of Tianshou Batch"
   ]
  },
  {
   "cell_type": "code",
   "execution_count": 25,
   "id": "9ead828a",
   "metadata": {
    "execution": {
     "iopub.execute_input": "2023-02-27T11:19:38.837678Z",
     "iopub.status.busy": "2023-02-27T11:19:38.837324Z",
     "iopub.status.idle": "2023-02-27T11:19:38.845115Z",
     "shell.execute_reply": "2023-02-27T11:19:38.844533Z"
    }
   },
   "outputs": [
    {
     "data": {
      "text/plain": [
       "Batch(\n",
       "    x: Batch(\n",
       "           c: tensor([[[ 0.6550,  0.0210,  1.1992,  2.8888],\n",
       "                       [-1.0356,  1.2582,  0.4922,  0.3346],\n",
       "                       [-0.5677, -0.2699,  0.0894, -0.2671]],\n",
       "              \n",
       "                      [[ 0.6550,  0.0210,  1.1992,  2.8888],\n",
       "                       [-1.0356,  1.2582,  0.4922,  0.3346],\n",
       "                       [-0.5677, -0.2699,  0.0894, -0.2671]],\n",
       "              \n",
       "                      [[ 0.6550,  0.0210,  1.1992,  2.8888],\n",
       "                       [-1.0356,  1.2582,  0.4922,  0.3346],\n",
       "                       [-0.5677, -0.2699,  0.0894, -0.2671]],\n",
       "              \n",
       "                      [[ 0.6550,  0.0210,  1.1992,  2.8888],\n",
       "                       [-1.0356,  1.2582,  0.4922,  0.3346],\n",
       "                       [-0.5677, -0.2699,  0.0894, -0.2671]],\n",
       "              \n",
       "                      [[ 0.6550,  0.0210,  1.1992,  2.8888],\n",
       "                       [-1.0356,  1.2582,  0.4922,  0.3346],\n",
       "                       [-0.5677, -0.2699,  0.0894, -0.2671]],\n",
       "              \n",
       "                      [[ 0.6550,  0.0210,  1.1992,  2.8888],\n",
       "                       [-1.0356,  1.2582,  0.4922,  0.3346],\n",
       "                       [-0.5677, -0.2699,  0.0894, -0.2671]],\n",
       "              \n",
       "                      [[ 0.6550,  0.0210,  1.1992,  2.8888],\n",
       "                       [-1.0356,  1.2582,  0.4922,  0.3346],\n",
       "                       [-0.5677, -0.2699,  0.0894, -0.2671]],\n",
       "              \n",
       "                      [[ 0.6550,  0.0210,  1.1992,  2.8888],\n",
       "                       [-1.0356,  1.2582,  0.4922,  0.3346],\n",
       "                       [-0.5677, -0.2699,  0.0894, -0.2671]]]),\n",
       "       ),\n",
       "    a: tensor([[[ 0.6133,  0.2586,  2.7233],\n",
       "                [-0.3295,  0.3413,  0.3055]],\n",
       "       \n",
       "               [[ 0.6133,  0.2586,  2.7233],\n",
       "                [-0.3295,  0.3413,  0.3055]],\n",
       "       \n",
       "               [[ 0.6133,  0.2586,  2.7233],\n",
       "                [-0.3295,  0.3413,  0.3055]],\n",
       "       \n",
       "               [[ 0.6133,  0.2586,  2.7233],\n",
       "                [-0.3295,  0.3413,  0.3055]],\n",
       "       \n",
       "               [[ 0.6133,  0.2586,  2.7233],\n",
       "                [-0.3295,  0.3413,  0.3055]],\n",
       "       \n",
       "               [[ 0.6133,  0.2586,  2.7233],\n",
       "                [-0.3295,  0.3413,  0.3055]],\n",
       "       \n",
       "               [[ 0.6133,  0.2586,  2.7233],\n",
       "                [-0.3295,  0.3413,  0.3055]],\n",
       "       \n",
       "               [[ 0.6133,  0.2586,  2.7233],\n",
       "                [-0.3295,  0.3413,  0.3055]]]),\n",
       ")"
      ]
     },
     "execution_count": 25,
     "metadata": {},
     "output_type": "execute_result"
    }
   ],
   "source": [
    "batches = [Batch(**_TREE_DATA_2) for _ in range(8)]\n",
    "\n",
    "Batch.stack(batches)"
   ]
  },
  {
   "cell_type": "code",
   "execution_count": 26,
   "id": "ec9037a3",
   "metadata": {
    "execution": {
     "iopub.execute_input": "2023-02-27T11:19:38.847724Z",
     "iopub.status.busy": "2023-02-27T11:19:38.847409Z",
     "iopub.status.idle": "2023-02-27T11:19:45.203333Z",
     "shell.execute_reply": "2023-02-27T11:19:45.202628Z"
    }
   },
   "outputs": [
    {
     "name": "stdout",
     "output_type": "stream",
     "text": [
      "78.3 µs ± 138 ns per loop (mean ± std. dev. of 7 runs, 10,000 loops each)\n"
     ]
    }
   ],
   "source": [
    "%timeit Batch.stack(batches)"
   ]
  },
  {
   "cell_type": "code",
   "execution_count": 27,
   "id": "cb8ab77e",
   "metadata": {
    "execution": {
     "iopub.execute_input": "2023-02-27T11:19:45.206306Z",
     "iopub.status.busy": "2023-02-27T11:19:45.205734Z",
     "iopub.status.idle": "2023-02-27T11:19:45.213591Z",
     "shell.execute_reply": "2023-02-27T11:19:45.212617Z"
    }
   },
   "outputs": [
    {
     "data": {
      "text/plain": [
       "Batch(\n",
       "    x: Batch(\n",
       "           c: tensor([[ 0.6550,  0.0210,  1.1992,  2.8888],\n",
       "                      [-1.0356,  1.2582,  0.4922,  0.3346],\n",
       "                      [-0.5677, -0.2699,  0.0894, -0.2671],\n",
       "                      [ 0.6550,  0.0210,  1.1992,  2.8888],\n",
       "                      [-1.0356,  1.2582,  0.4922,  0.3346],\n",
       "                      [-0.5677, -0.2699,  0.0894, -0.2671],\n",
       "                      [ 0.6550,  0.0210,  1.1992,  2.8888],\n",
       "                      [-1.0356,  1.2582,  0.4922,  0.3346],\n",
       "                      [-0.5677, -0.2699,  0.0894, -0.2671],\n",
       "                      [ 0.6550,  0.0210,  1.1992,  2.8888],\n",
       "                      [-1.0356,  1.2582,  0.4922,  0.3346],\n",
       "                      [-0.5677, -0.2699,  0.0894, -0.2671],\n",
       "                      [ 0.6550,  0.0210,  1.1992,  2.8888],\n",
       "                      [-1.0356,  1.2582,  0.4922,  0.3346],\n",
       "                      [-0.5677, -0.2699,  0.0894, -0.2671],\n",
       "                      [ 0.6550,  0.0210,  1.1992,  2.8888],\n",
       "                      [-1.0356,  1.2582,  0.4922,  0.3346],\n",
       "                      [-0.5677, -0.2699,  0.0894, -0.2671],\n",
       "                      [ 0.6550,  0.0210,  1.1992,  2.8888],\n",
       "                      [-1.0356,  1.2582,  0.4922,  0.3346],\n",
       "                      [-0.5677, -0.2699,  0.0894, -0.2671],\n",
       "                      [ 0.6550,  0.0210,  1.1992,  2.8888],\n",
       "                      [-1.0356,  1.2582,  0.4922,  0.3346],\n",
       "                      [-0.5677, -0.2699,  0.0894, -0.2671]]),\n",
       "       ),\n",
       "    a: tensor([[ 0.6133,  0.2586,  2.7233],\n",
       "               [-0.3295,  0.3413,  0.3055],\n",
       "               [ 0.6133,  0.2586,  2.7233],\n",
       "               [-0.3295,  0.3413,  0.3055],\n",
       "               [ 0.6133,  0.2586,  2.7233],\n",
       "               [-0.3295,  0.3413,  0.3055],\n",
       "               [ 0.6133,  0.2586,  2.7233],\n",
       "               [-0.3295,  0.3413,  0.3055],\n",
       "               [ 0.6133,  0.2586,  2.7233],\n",
       "               [-0.3295,  0.3413,  0.3055],\n",
       "               [ 0.6133,  0.2586,  2.7233],\n",
       "               [-0.3295,  0.3413,  0.3055],\n",
       "               [ 0.6133,  0.2586,  2.7233],\n",
       "               [-0.3295,  0.3413,  0.3055],\n",
       "               [ 0.6133,  0.2586,  2.7233],\n",
       "               [-0.3295,  0.3413,  0.3055]]),\n",
       ")"
      ]
     },
     "execution_count": 27,
     "metadata": {},
     "output_type": "execute_result"
    }
   ],
   "source": [
    "Batch.cat(batches)"
   ]
  },
  {
   "cell_type": "code",
   "execution_count": 28,
   "id": "18dfb045",
   "metadata": {
    "execution": {
     "iopub.execute_input": "2023-02-27T11:19:45.216155Z",
     "iopub.status.busy": "2023-02-27T11:19:45.215705Z",
     "iopub.status.idle": "2023-02-27T11:19:56.853550Z",
     "shell.execute_reply": "2023-02-27T11:19:56.852792Z"
    }
   },
   "outputs": [
    {
     "name": "stdout",
     "output_type": "stream",
     "text": [
      "143 µs ± 390 ns per loop (mean ± std. dev. of 7 runs, 10,000 loops each)\n"
     ]
    }
   ],
   "source": [
    "%timeit Batch.cat(batches)"
   ]
  },
  {
   "cell_type": "code",
   "execution_count": 29,
   "id": "c6688e51",
   "metadata": {
    "execution": {
     "iopub.execute_input": "2023-02-27T11:19:56.856446Z",
     "iopub.status.busy": "2023-02-27T11:19:56.856084Z",
     "iopub.status.idle": "2023-02-27T11:19:59.390211Z",
     "shell.execute_reply": "2023-02-27T11:19:59.389535Z"
    }
   },
   "outputs": [
    {
     "name": "stdout",
     "output_type": "stream",
     "text": [
      "312 µs ± 3.07 µs per loop (mean ± std. dev. of 7 runs, 1,000 loops each)\n"
     ]
    }
   ],
   "source": [
    "batch = Batch({\n",
    "    'obs': torch.randn(8, 4, 84, 84),\n",
    "    'action': torch.randint(0, 6, size=(8, 1,)),\n",
    "    'reward': torch.rand(8, 1)}\n",
    ")\n",
    "\n",
    "%timeit list(Batch.split(batch, 1, shuffle=False, merge_last=True))"
   ]
  },
  {
   "cell_type": "code",
   "execution_count": null,
   "id": "2539fbd9",
   "metadata": {},
   "outputs": [],
   "source": []
  }
 ],
 "metadata": {
  "kernelspec": {
   "display_name": "Python 3 (ipykernel)",
   "language": "python",
   "name": "python3"
  },
  "language_info": {
   "codemirror_mode": {
    "name": "ipython",
    "version": 3
   },
   "file_extension": ".py",
   "mimetype": "text/x-python",
   "name": "python",
   "nbconvert_exporter": "python",
   "pygments_lexer": "ipython3",
   "version": "3.8.16"
  }
 },
 "nbformat": 4,
 "nbformat_minor": 5
}
