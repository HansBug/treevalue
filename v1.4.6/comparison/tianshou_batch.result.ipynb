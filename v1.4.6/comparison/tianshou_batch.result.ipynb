{
 "cells": [
  {
   "cell_type": "markdown",
   "id": "9d39d946",
   "metadata": {},
   "source": [
    "# Comparison Between TreeValue and Tianshou Batch"
   ]
  },
  {
   "cell_type": "markdown",
   "id": "3c6db2d4",
   "metadata": {},
   "source": [
    "In this section, we will take a look at the feature and performance of the [Tianshou Batch](https://github.com/thu-ml/tianshou) library, which is developed by Tsinghua Machine Learning Group."
   ]
  },
  {
   "cell_type": "markdown",
   "id": "069361b0",
   "metadata": {},
   "source": [
    "Before starting the comparison, let us define some thing."
   ]
  },
  {
   "cell_type": "code",
   "execution_count": 1,
   "id": "06fc8d26",
   "metadata": {
    "execution": {
     "iopub.execute_input": "2023-02-27T13:12:28.436288Z",
     "iopub.status.busy": "2023-02-27T13:12:28.435971Z",
     "iopub.status.idle": "2023-02-27T13:12:29.637644Z",
     "shell.execute_reply": "2023-02-27T13:12:29.636540Z"
    }
   },
   "outputs": [
    {
     "name": "stderr",
     "output_type": "stream",
     "text": [
      "/opt/hostedtoolcache/Python/3.8.16/x64/lib/python3.8/site-packages/tqdm/auto.py:22: TqdmWarning: IProgress not found. Please update jupyter and ipywidgets. See https://ipywidgets.readthedocs.io/en/stable/user_install.html\n",
      "  from .autonotebook import tqdm as notebook_tqdm\n"
     ]
    }
   ],
   "source": [
    "import torch \n",
    "\n",
    "_TREE_DATA_1 = {'a': 1, 'b': 2, 'x': {'c': 3, 'd': 4}}\n",
    "_TREE_DATA_2 = {\n",
    "    'a': torch.randn(2, 3), \n",
    "    'x': {\n",
    "        'c': torch.randn(3, 4)\n",
    "    },\n",
    "}\n",
    "_TREE_DATA_3 = {\n",
    "    'obs': torch.randn(4, 84, 84),\n",
    "    'action': torch.randint(0, 6, size=(1,)),\n",
    "    'reward': torch.rand(1),\n",
    "}"
   ]
  },
  {
   "cell_type": "markdown",
   "id": "83461b25",
   "metadata": {},
   "source": [
    "## Read and Write Operation"
   ]
  },
  {
   "cell_type": "markdown",
   "id": "067b3f73",
   "metadata": {},
   "source": [
    "Reading and writing are the two most common operations in the tree data structure based on the data model (TreeValue and Tianshou Batch both belong to this type), so this section will compare the reading and writing performance of these two libraries."
   ]
  },
  {
   "cell_type": "markdown",
   "id": "5d09a5b7",
   "metadata": {},
   "source": [
    "### TreeValue's Get and Set"
   ]
  },
  {
   "cell_type": "code",
   "execution_count": 2,
   "id": "9519c4bb",
   "metadata": {
    "execution": {
     "iopub.execute_input": "2023-02-27T13:12:29.642117Z",
     "iopub.status.busy": "2023-02-27T13:12:29.641712Z",
     "iopub.status.idle": "2023-02-27T13:12:30.029467Z",
     "shell.execute_reply": "2023-02-27T13:12:30.028280Z"
    }
   },
   "outputs": [],
   "source": [
    "from treevalue import FastTreeValue\n",
    "\n",
    "t = FastTreeValue(_TREE_DATA_2)"
   ]
  },
  {
   "cell_type": "code",
   "execution_count": 3,
   "id": "11c37677",
   "metadata": {
    "execution": {
     "iopub.execute_input": "2023-02-27T13:12:30.033535Z",
     "iopub.status.busy": "2023-02-27T13:12:30.033201Z",
     "iopub.status.idle": "2023-02-27T13:12:30.046540Z",
     "shell.execute_reply": "2023-02-27T13:12:30.045671Z"
    }
   },
   "outputs": [
    {
     "data": {
      "text/plain": [
       "<FastTreeValue 0x7f0a7ce98b20>\n",
       "├── 'a' --> tensor([[ 0.0491, -0.6140,  1.0990],\n",
       "│                   [-1.7220,  1.0001,  0.7794]])\n",
       "└── 'x' --> <FastTreeValue 0x7f0a7cf0e070>\n",
       "    └── 'c' --> tensor([[-0.5203, -0.2351,  0.0290,  1.6137],\n",
       "                        [-0.0965,  0.1015,  0.9169, -0.7006],\n",
       "                        [ 0.2640, -1.0227,  0.0749, -2.6792]])"
      ]
     },
     "execution_count": 3,
     "metadata": {},
     "output_type": "execute_result"
    }
   ],
   "source": [
    "t"
   ]
  },
  {
   "cell_type": "code",
   "execution_count": 4,
   "id": "fd70b0b9",
   "metadata": {
    "execution": {
     "iopub.execute_input": "2023-02-27T13:12:30.051217Z",
     "iopub.status.busy": "2023-02-27T13:12:30.050619Z",
     "iopub.status.idle": "2023-02-27T13:12:30.058640Z",
     "shell.execute_reply": "2023-02-27T13:12:30.057725Z"
    }
   },
   "outputs": [
    {
     "data": {
      "text/plain": [
       "tensor([[ 0.0491, -0.6140,  1.0990],\n",
       "        [-1.7220,  1.0001,  0.7794]])"
      ]
     },
     "execution_count": 4,
     "metadata": {},
     "output_type": "execute_result"
    }
   ],
   "source": [
    "t.a"
   ]
  },
  {
   "cell_type": "code",
   "execution_count": 5,
   "id": "c18197bd",
   "metadata": {
    "execution": {
     "iopub.execute_input": "2023-02-27T13:12:30.062572Z",
     "iopub.status.busy": "2023-02-27T13:12:30.062019Z",
     "iopub.status.idle": "2023-02-27T13:12:36.255093Z",
     "shell.execute_reply": "2023-02-27T13:12:36.254038Z"
    }
   },
   "outputs": [
    {
     "name": "stdout",
     "output_type": "stream",
     "text": [
      "76.1 ns ± 0.425 ns per loop (mean ± std. dev. of 7 runs, 10,000,000 loops each)\n"
     ]
    }
   ],
   "source": [
    "%timeit t.a"
   ]
  },
  {
   "cell_type": "code",
   "execution_count": 6,
   "id": "bd52f867",
   "metadata": {
    "execution": {
     "iopub.execute_input": "2023-02-27T13:12:36.259744Z",
     "iopub.status.busy": "2023-02-27T13:12:36.258857Z",
     "iopub.status.idle": "2023-02-27T13:12:36.267638Z",
     "shell.execute_reply": "2023-02-27T13:12:36.266457Z"
    }
   },
   "outputs": [
    {
     "data": {
      "text/plain": [
       "<FastTreeValue 0x7f0a7ce98b20>\n",
       "├── 'a' --> tensor([[ 0.5530, -2.8247, -0.8587],\n",
       "│                   [-1.2850,  1.9798,  0.1427]])\n",
       "└── 'x' --> <FastTreeValue 0x7f0a7cf0e070>\n",
       "    └── 'c' --> tensor([[-0.5203, -0.2351,  0.0290,  1.6137],\n",
       "                        [-0.0965,  0.1015,  0.9169, -0.7006],\n",
       "                        [ 0.2640, -1.0227,  0.0749, -2.6792]])"
      ]
     },
     "execution_count": 6,
     "metadata": {},
     "output_type": "execute_result"
    }
   ],
   "source": [
    "new_value = torch.randn(2, 3)\n",
    "t.a = new_value\n",
    "\n",
    "t"
   ]
  },
  {
   "cell_type": "code",
   "execution_count": 7,
   "id": "bbe04d1c",
   "metadata": {
    "execution": {
     "iopub.execute_input": "2023-02-27T13:12:36.270810Z",
     "iopub.status.busy": "2023-02-27T13:12:36.270552Z",
     "iopub.status.idle": "2023-02-27T13:12:42.239154Z",
     "shell.execute_reply": "2023-02-27T13:12:42.237604Z"
    }
   },
   "outputs": [
    {
     "name": "stdout",
     "output_type": "stream",
     "text": [
      "73.4 ns ± 0.747 ns per loop (mean ± std. dev. of 7 runs, 10,000,000 loops each)\n"
     ]
    }
   ],
   "source": [
    "%timeit t.a = new_value"
   ]
  },
  {
   "cell_type": "markdown",
   "id": "48c49731",
   "metadata": {},
   "source": [
    "### Tianshou Batch's Get and Set"
   ]
  },
  {
   "cell_type": "code",
   "execution_count": 8,
   "id": "f1bb14c1",
   "metadata": {
    "execution": {
     "iopub.execute_input": "2023-02-27T13:12:42.242905Z",
     "iopub.status.busy": "2023-02-27T13:12:42.242350Z",
     "iopub.status.idle": "2023-02-27T13:12:42.703930Z",
     "shell.execute_reply": "2023-02-27T13:12:42.702602Z"
    }
   },
   "outputs": [],
   "source": [
    "from tianshou.data import Batch\n",
    "\n",
    "b = Batch(**_TREE_DATA_2)"
   ]
  },
  {
   "cell_type": "code",
   "execution_count": 9,
   "id": "cb0777c3",
   "metadata": {
    "execution": {
     "iopub.execute_input": "2023-02-27T13:12:42.708456Z",
     "iopub.status.busy": "2023-02-27T13:12:42.708014Z",
     "iopub.status.idle": "2023-02-27T13:12:42.717221Z",
     "shell.execute_reply": "2023-02-27T13:12:42.716191Z"
    }
   },
   "outputs": [
    {
     "data": {
      "text/plain": [
       "Batch(\n",
       "    a: tensor([[ 0.0491, -0.6140,  1.0990],\n",
       "               [-1.7220,  1.0001,  0.7794]]),\n",
       "    x: Batch(\n",
       "           c: tensor([[-0.5203, -0.2351,  0.0290,  1.6137],\n",
       "                      [-0.0965,  0.1015,  0.9169, -0.7006],\n",
       "                      [ 0.2640, -1.0227,  0.0749, -2.6792]]),\n",
       "       ),\n",
       ")"
      ]
     },
     "execution_count": 9,
     "metadata": {},
     "output_type": "execute_result"
    }
   ],
   "source": [
    "b"
   ]
  },
  {
   "cell_type": "code",
   "execution_count": 10,
   "id": "43ef8ea3",
   "metadata": {
    "execution": {
     "iopub.execute_input": "2023-02-27T13:12:42.720783Z",
     "iopub.status.busy": "2023-02-27T13:12:42.720462Z",
     "iopub.status.idle": "2023-02-27T13:12:42.727599Z",
     "shell.execute_reply": "2023-02-27T13:12:42.726620Z"
    }
   },
   "outputs": [
    {
     "data": {
      "text/plain": [
       "tensor([[ 0.0491, -0.6140,  1.0990],\n",
       "        [-1.7220,  1.0001,  0.7794]])"
      ]
     },
     "execution_count": 10,
     "metadata": {},
     "output_type": "execute_result"
    }
   ],
   "source": [
    "b.a"
   ]
  },
  {
   "cell_type": "code",
   "execution_count": 11,
   "id": "b785ab72",
   "metadata": {
    "execution": {
     "iopub.execute_input": "2023-02-27T13:12:42.731421Z",
     "iopub.status.busy": "2023-02-27T13:12:42.731115Z",
     "iopub.status.idle": "2023-02-27T13:12:47.900805Z",
     "shell.execute_reply": "2023-02-27T13:12:47.899790Z"
    }
   },
   "outputs": [
    {
     "name": "stdout",
     "output_type": "stream",
     "text": [
      "63.4 ns ± 1.43 ns per loop (mean ± std. dev. of 7 runs, 10,000,000 loops each)\n"
     ]
    }
   ],
   "source": [
    "%timeit b.a"
   ]
  },
  {
   "cell_type": "code",
   "execution_count": 12,
   "id": "ad54dc69",
   "metadata": {
    "execution": {
     "iopub.execute_input": "2023-02-27T13:12:47.905402Z",
     "iopub.status.busy": "2023-02-27T13:12:47.904546Z",
     "iopub.status.idle": "2023-02-27T13:12:47.912380Z",
     "shell.execute_reply": "2023-02-27T13:12:47.911422Z"
    }
   },
   "outputs": [
    {
     "data": {
      "text/plain": [
       "Batch(\n",
       "    a: tensor([[-0.1679,  0.0984, -0.4367],\n",
       "               [-2.1443,  1.7546,  1.1358]]),\n",
       "    x: Batch(\n",
       "           c: tensor([[-0.5203, -0.2351,  0.0290,  1.6137],\n",
       "                      [-0.0965,  0.1015,  0.9169, -0.7006],\n",
       "                      [ 0.2640, -1.0227,  0.0749, -2.6792]]),\n",
       "       ),\n",
       ")"
      ]
     },
     "execution_count": 12,
     "metadata": {},
     "output_type": "execute_result"
    }
   ],
   "source": [
    "new_value = torch.randn(2, 3)\n",
    "b.a = new_value\n",
    "\n",
    "b"
   ]
  },
  {
   "cell_type": "code",
   "execution_count": 13,
   "id": "29b1d0bf",
   "metadata": {
    "execution": {
     "iopub.execute_input": "2023-02-27T13:12:47.915422Z",
     "iopub.status.busy": "2023-02-27T13:12:47.915129Z",
     "iopub.status.idle": "2023-02-27T13:12:52.953345Z",
     "shell.execute_reply": "2023-02-27T13:12:52.952302Z"
    }
   },
   "outputs": [
    {
     "name": "stdout",
     "output_type": "stream",
     "text": [
      "621 ns ± 10.3 ns per loop (mean ± std. dev. of 7 runs, 1,000,000 loops each)\n"
     ]
    }
   ],
   "source": [
    "%timeit b.a = new_value"
   ]
  },
  {
   "cell_type": "markdown",
   "id": "b61ad1d0",
   "metadata": {},
   "source": [
    "## Initialization"
   ]
  },
  {
   "cell_type": "markdown",
   "id": "d70f0d54",
   "metadata": {},
   "source": [
    "### TreeValue's Initialization"
   ]
  },
  {
   "cell_type": "code",
   "execution_count": 14,
   "id": "d32a679b",
   "metadata": {
    "execution": {
     "iopub.execute_input": "2023-02-27T13:12:52.957406Z",
     "iopub.status.busy": "2023-02-27T13:12:52.956938Z",
     "iopub.status.idle": "2023-02-27T13:13:01.031683Z",
     "shell.execute_reply": "2023-02-27T13:13:01.030750Z"
    }
   },
   "outputs": [
    {
     "name": "stdout",
     "output_type": "stream",
     "text": [
      "993 ns ± 12.6 ns per loop (mean ± std. dev. of 7 runs, 1,000,000 loops each)\n"
     ]
    }
   ],
   "source": [
    "%timeit FastTreeValue(_TREE_DATA_1)"
   ]
  },
  {
   "cell_type": "markdown",
   "id": "24f3707b",
   "metadata": {},
   "source": [
    "### Tianshou Batch's Initialization"
   ]
  },
  {
   "cell_type": "code",
   "execution_count": 15,
   "id": "ac3958df",
   "metadata": {
    "execution": {
     "iopub.execute_input": "2023-02-27T13:13:01.035648Z",
     "iopub.status.busy": "2023-02-27T13:13:01.035238Z",
     "iopub.status.idle": "2023-02-27T13:13:12.354865Z",
     "shell.execute_reply": "2023-02-27T13:13:12.353803Z"
    }
   },
   "outputs": [
    {
     "name": "stdout",
     "output_type": "stream",
     "text": [
      "13.9 µs ± 268 ns per loop (mean ± std. dev. of 7 runs, 100,000 loops each)\n"
     ]
    }
   ],
   "source": [
    "%timeit Batch(**_TREE_DATA_1)"
   ]
  },
  {
   "cell_type": "markdown",
   "id": "1ab82e2d",
   "metadata": {},
   "source": [
    "## Deep Copy Operation"
   ]
  },
  {
   "cell_type": "code",
   "execution_count": 16,
   "id": "210a9442",
   "metadata": {
    "execution": {
     "iopub.execute_input": "2023-02-27T13:13:12.358582Z",
     "iopub.status.busy": "2023-02-27T13:13:12.358251Z",
     "iopub.status.idle": "2023-02-27T13:13:12.362664Z",
     "shell.execute_reply": "2023-02-27T13:13:12.361716Z"
    }
   },
   "outputs": [],
   "source": [
    "import copy"
   ]
  },
  {
   "cell_type": "markdown",
   "id": "5a736274",
   "metadata": {},
   "source": [
    "### Deep Copy of TreeValue"
   ]
  },
  {
   "cell_type": "code",
   "execution_count": 17,
   "id": "f9bcadd6",
   "metadata": {
    "execution": {
     "iopub.execute_input": "2023-02-27T13:13:12.366349Z",
     "iopub.status.busy": "2023-02-27T13:13:12.366032Z",
     "iopub.status.idle": "2023-02-27T13:13:14.804588Z",
     "shell.execute_reply": "2023-02-27T13:13:14.803629Z"
    }
   },
   "outputs": [
    {
     "name": "stdout",
     "output_type": "stream",
     "text": [
      "300 µs ± 11.7 µs per loop (mean ± std. dev. of 7 runs, 1,000 loops each)\n"
     ]
    }
   ],
   "source": [
    "t3 = FastTreeValue(_TREE_DATA_3)\n",
    "%timeit copy.deepcopy(t3)"
   ]
  },
  {
   "cell_type": "markdown",
   "id": "bf8be7ea",
   "metadata": {},
   "source": [
    "### Deep Copy of Tianshou Batch"
   ]
  },
  {
   "cell_type": "code",
   "execution_count": 18,
   "id": "91998e6f",
   "metadata": {
    "execution": {
     "iopub.execute_input": "2023-02-27T13:13:14.808912Z",
     "iopub.status.busy": "2023-02-27T13:13:14.807920Z",
     "iopub.status.idle": "2023-02-27T13:13:17.131013Z",
     "shell.execute_reply": "2023-02-27T13:13:17.130112Z"
    }
   },
   "outputs": [
    {
     "name": "stdout",
     "output_type": "stream",
     "text": [
      "286 µs ± 4.27 µs per loop (mean ± std. dev. of 7 runs, 1,000 loops each)\n"
     ]
    }
   ],
   "source": [
    "b3 = Batch(**_TREE_DATA_3)\n",
    "%timeit copy.deepcopy(b3)"
   ]
  },
  {
   "cell_type": "markdown",
   "id": "223162fb",
   "metadata": {},
   "source": [
    "## Stack, Concat and Split Operation"
   ]
  },
  {
   "cell_type": "markdown",
   "id": "85fa4a73",
   "metadata": {},
   "source": [
    "### Performance of TreeValue"
   ]
  },
  {
   "cell_type": "code",
   "execution_count": 19,
   "id": "a0c2b697",
   "metadata": {
    "execution": {
     "iopub.execute_input": "2023-02-27T13:13:17.135073Z",
     "iopub.status.busy": "2023-02-27T13:13:17.134228Z",
     "iopub.status.idle": "2023-02-27T13:13:17.138903Z",
     "shell.execute_reply": "2023-02-27T13:13:17.138002Z"
    }
   },
   "outputs": [],
   "source": [
    "trees = [FastTreeValue(_TREE_DATA_2) for _ in range(8)]"
   ]
  },
  {
   "cell_type": "code",
   "execution_count": 20,
   "id": "017ea5a5",
   "metadata": {
    "execution": {
     "iopub.execute_input": "2023-02-27T13:13:17.143087Z",
     "iopub.status.busy": "2023-02-27T13:13:17.142522Z",
     "iopub.status.idle": "2023-02-27T13:13:17.153886Z",
     "shell.execute_reply": "2023-02-27T13:13:17.153005Z"
    }
   },
   "outputs": [
    {
     "data": {
      "text/plain": [
       "<FastTreeValue 0x7f0a7cf0e0a0>\n",
       "├── 'a' --> tensor([[[ 0.0491, -0.6140,  1.0990],\n",
       "│                    [-1.7220,  1.0001,  0.7794]],\n",
       "│           \n",
       "│                   [[ 0.0491, -0.6140,  1.0990],\n",
       "│                    [-1.7220,  1.0001,  0.7794]],\n",
       "│           \n",
       "│                   [[ 0.0491, -0.6140,  1.0990],\n",
       "│                    [-1.7220,  1.0001,  0.7794]],\n",
       "│           \n",
       "│                   [[ 0.0491, -0.6140,  1.0990],\n",
       "│                    [-1.7220,  1.0001,  0.7794]],\n",
       "│           \n",
       "│                   [[ 0.0491, -0.6140,  1.0990],\n",
       "│                    [-1.7220,  1.0001,  0.7794]],\n",
       "│           \n",
       "│                   [[ 0.0491, -0.6140,  1.0990],\n",
       "│                    [-1.7220,  1.0001,  0.7794]],\n",
       "│           \n",
       "│                   [[ 0.0491, -0.6140,  1.0990],\n",
       "│                    [-1.7220,  1.0001,  0.7794]],\n",
       "│           \n",
       "│                   [[ 0.0491, -0.6140,  1.0990],\n",
       "│                    [-1.7220,  1.0001,  0.7794]]])\n",
       "└── 'x' --> <FastTreeValue 0x7f0a7cf0efd0>\n",
       "    └── 'c' --> tensor([[[-0.5203, -0.2351,  0.0290,  1.6137],\n",
       "                         [-0.0965,  0.1015,  0.9169, -0.7006],\n",
       "                         [ 0.2640, -1.0227,  0.0749, -2.6792]],\n",
       "                \n",
       "                        [[-0.5203, -0.2351,  0.0290,  1.6137],\n",
       "                         [-0.0965,  0.1015,  0.9169, -0.7006],\n",
       "                         [ 0.2640, -1.0227,  0.0749, -2.6792]],\n",
       "                \n",
       "                        [[-0.5203, -0.2351,  0.0290,  1.6137],\n",
       "                         [-0.0965,  0.1015,  0.9169, -0.7006],\n",
       "                         [ 0.2640, -1.0227,  0.0749, -2.6792]],\n",
       "                \n",
       "                        [[-0.5203, -0.2351,  0.0290,  1.6137],\n",
       "                         [-0.0965,  0.1015,  0.9169, -0.7006],\n",
       "                         [ 0.2640, -1.0227,  0.0749, -2.6792]],\n",
       "                \n",
       "                        [[-0.5203, -0.2351,  0.0290,  1.6137],\n",
       "                         [-0.0965,  0.1015,  0.9169, -0.7006],\n",
       "                         [ 0.2640, -1.0227,  0.0749, -2.6792]],\n",
       "                \n",
       "                        [[-0.5203, -0.2351,  0.0290,  1.6137],\n",
       "                         [-0.0965,  0.1015,  0.9169, -0.7006],\n",
       "                         [ 0.2640, -1.0227,  0.0749, -2.6792]],\n",
       "                \n",
       "                        [[-0.5203, -0.2351,  0.0290,  1.6137],\n",
       "                         [-0.0965,  0.1015,  0.9169, -0.7006],\n",
       "                         [ 0.2640, -1.0227,  0.0749, -2.6792]],\n",
       "                \n",
       "                        [[-0.5203, -0.2351,  0.0290,  1.6137],\n",
       "                         [-0.0965,  0.1015,  0.9169, -0.7006],\n",
       "                         [ 0.2640, -1.0227,  0.0749, -2.6792]]])"
      ]
     },
     "execution_count": 20,
     "metadata": {},
     "output_type": "execute_result"
    }
   ],
   "source": [
    "t_stack = FastTreeValue.func(subside=True)(torch.stack)\n",
    "\n",
    "t_stack(trees)"
   ]
  },
  {
   "cell_type": "code",
   "execution_count": 21,
   "id": "f8b3f415",
   "metadata": {
    "execution": {
     "iopub.execute_input": "2023-02-27T13:13:17.158702Z",
     "iopub.status.busy": "2023-02-27T13:13:17.158222Z",
     "iopub.status.idle": "2023-02-27T13:13:21.091592Z",
     "shell.execute_reply": "2023-02-27T13:13:21.090346Z"
    }
   },
   "outputs": [
    {
     "name": "stdout",
     "output_type": "stream",
     "text": [
      "48.2 µs ± 1.05 µs per loop (mean ± std. dev. of 7 runs, 10,000 loops each)\n"
     ]
    }
   ],
   "source": [
    "%timeit t_stack(trees)"
   ]
  },
  {
   "cell_type": "code",
   "execution_count": 22,
   "id": "94b56771",
   "metadata": {
    "execution": {
     "iopub.execute_input": "2023-02-27T13:13:21.095830Z",
     "iopub.status.busy": "2023-02-27T13:13:21.095505Z",
     "iopub.status.idle": "2023-02-27T13:13:21.106399Z",
     "shell.execute_reply": "2023-02-27T13:13:21.105414Z"
    }
   },
   "outputs": [
    {
     "data": {
      "text/plain": [
       "<FastTreeValue 0x7f09c68451f0>\n",
       "├── 'a' --> tensor([[ 0.0491, -0.6140,  1.0990],\n",
       "│                   [-1.7220,  1.0001,  0.7794],\n",
       "│                   [ 0.0491, -0.6140,  1.0990],\n",
       "│                   [-1.7220,  1.0001,  0.7794],\n",
       "│                   [ 0.0491, -0.6140,  1.0990],\n",
       "│                   [-1.7220,  1.0001,  0.7794],\n",
       "│                   [ 0.0491, -0.6140,  1.0990],\n",
       "│                   [-1.7220,  1.0001,  0.7794],\n",
       "│                   [ 0.0491, -0.6140,  1.0990],\n",
       "│                   [-1.7220,  1.0001,  0.7794],\n",
       "│                   [ 0.0491, -0.6140,  1.0990],\n",
       "│                   [-1.7220,  1.0001,  0.7794],\n",
       "│                   [ 0.0491, -0.6140,  1.0990],\n",
       "│                   [-1.7220,  1.0001,  0.7794],\n",
       "│                   [ 0.0491, -0.6140,  1.0990],\n",
       "│                   [-1.7220,  1.0001,  0.7794]])\n",
       "└── 'x' --> <FastTreeValue 0x7f09c68452e0>\n",
       "    └── 'c' --> tensor([[-0.5203, -0.2351,  0.0290,  1.6137],\n",
       "                        [-0.0965,  0.1015,  0.9169, -0.7006],\n",
       "                        [ 0.2640, -1.0227,  0.0749, -2.6792],\n",
       "                        [-0.5203, -0.2351,  0.0290,  1.6137],\n",
       "                        [-0.0965,  0.1015,  0.9169, -0.7006],\n",
       "                        [ 0.2640, -1.0227,  0.0749, -2.6792],\n",
       "                        [-0.5203, -0.2351,  0.0290,  1.6137],\n",
       "                        [-0.0965,  0.1015,  0.9169, -0.7006],\n",
       "                        [ 0.2640, -1.0227,  0.0749, -2.6792],\n",
       "                        [-0.5203, -0.2351,  0.0290,  1.6137],\n",
       "                        [-0.0965,  0.1015,  0.9169, -0.7006],\n",
       "                        [ 0.2640, -1.0227,  0.0749, -2.6792],\n",
       "                        [-0.5203, -0.2351,  0.0290,  1.6137],\n",
       "                        [-0.0965,  0.1015,  0.9169, -0.7006],\n",
       "                        [ 0.2640, -1.0227,  0.0749, -2.6792],\n",
       "                        [-0.5203, -0.2351,  0.0290,  1.6137],\n",
       "                        [-0.0965,  0.1015,  0.9169, -0.7006],\n",
       "                        [ 0.2640, -1.0227,  0.0749, -2.6792],\n",
       "                        [-0.5203, -0.2351,  0.0290,  1.6137],\n",
       "                        [-0.0965,  0.1015,  0.9169, -0.7006],\n",
       "                        [ 0.2640, -1.0227,  0.0749, -2.6792],\n",
       "                        [-0.5203, -0.2351,  0.0290,  1.6137],\n",
       "                        [-0.0965,  0.1015,  0.9169, -0.7006],\n",
       "                        [ 0.2640, -1.0227,  0.0749, -2.6792]])"
      ]
     },
     "execution_count": 22,
     "metadata": {},
     "output_type": "execute_result"
    }
   ],
   "source": [
    "t_cat = FastTreeValue.func(subside=True)(torch.cat)\n",
    "\n",
    "t_cat(trees)"
   ]
  },
  {
   "cell_type": "code",
   "execution_count": 23,
   "id": "5e9c06a6",
   "metadata": {
    "execution": {
     "iopub.execute_input": "2023-02-27T13:13:21.109717Z",
     "iopub.status.busy": "2023-02-27T13:13:21.109396Z",
     "iopub.status.idle": "2023-02-27T13:13:24.679721Z",
     "shell.execute_reply": "2023-02-27T13:13:24.678749Z"
    }
   },
   "outputs": [
    {
     "name": "stdout",
     "output_type": "stream",
     "text": [
      "43.9 µs ± 851 ns per loop (mean ± std. dev. of 7 runs, 10,000 loops each)\n"
     ]
    }
   ],
   "source": [
    "%timeit t_cat(trees)"
   ]
  },
  {
   "cell_type": "code",
   "execution_count": 24,
   "id": "a3ab5c8f",
   "metadata": {
    "execution": {
     "iopub.execute_input": "2023-02-27T13:13:24.684680Z",
     "iopub.status.busy": "2023-02-27T13:13:24.683739Z",
     "iopub.status.idle": "2023-02-27T13:13:31.304628Z",
     "shell.execute_reply": "2023-02-27T13:13:31.303635Z"
    }
   },
   "outputs": [
    {
     "name": "stdout",
     "output_type": "stream",
     "text": [
      "80.9 µs ± 1.49 µs per loop (mean ± std. dev. of 7 runs, 10,000 loops each)\n"
     ]
    }
   ],
   "source": [
    "t_split = FastTreeValue.func(rise=True)(torch.split)\n",
    "tree = FastTreeValue({\n",
    "    'obs': torch.randn(8, 4, 84, 84),\n",
    "    'action': torch.randint(0, 6, size=(8, 1,)),\n",
    "    'reward': torch.rand(8, 1),\n",
    "})\n",
    "\n",
    "%timeit t_split(tree, 1)"
   ]
  },
  {
   "cell_type": "markdown",
   "id": "31c3ec0b",
   "metadata": {},
   "source": [
    "### Performance of Tianshou Batch"
   ]
  },
  {
   "cell_type": "code",
   "execution_count": 25,
   "id": "9ead828a",
   "metadata": {
    "execution": {
     "iopub.execute_input": "2023-02-27T13:13:31.308269Z",
     "iopub.status.busy": "2023-02-27T13:13:31.307793Z",
     "iopub.status.idle": "2023-02-27T13:13:31.317893Z",
     "shell.execute_reply": "2023-02-27T13:13:31.316933Z"
    }
   },
   "outputs": [
    {
     "data": {
      "text/plain": [
       "Batch(\n",
       "    a: tensor([[[ 0.0491, -0.6140,  1.0990],\n",
       "                [-1.7220,  1.0001,  0.7794]],\n",
       "       \n",
       "               [[ 0.0491, -0.6140,  1.0990],\n",
       "                [-1.7220,  1.0001,  0.7794]],\n",
       "       \n",
       "               [[ 0.0491, -0.6140,  1.0990],\n",
       "                [-1.7220,  1.0001,  0.7794]],\n",
       "       \n",
       "               [[ 0.0491, -0.6140,  1.0990],\n",
       "                [-1.7220,  1.0001,  0.7794]],\n",
       "       \n",
       "               [[ 0.0491, -0.6140,  1.0990],\n",
       "                [-1.7220,  1.0001,  0.7794]],\n",
       "       \n",
       "               [[ 0.0491, -0.6140,  1.0990],\n",
       "                [-1.7220,  1.0001,  0.7794]],\n",
       "       \n",
       "               [[ 0.0491, -0.6140,  1.0990],\n",
       "                [-1.7220,  1.0001,  0.7794]],\n",
       "       \n",
       "               [[ 0.0491, -0.6140,  1.0990],\n",
       "                [-1.7220,  1.0001,  0.7794]]]),\n",
       "    x: Batch(\n",
       "           c: tensor([[[-0.5203, -0.2351,  0.0290,  1.6137],\n",
       "                       [-0.0965,  0.1015,  0.9169, -0.7006],\n",
       "                       [ 0.2640, -1.0227,  0.0749, -2.6792]],\n",
       "              \n",
       "                      [[-0.5203, -0.2351,  0.0290,  1.6137],\n",
       "                       [-0.0965,  0.1015,  0.9169, -0.7006],\n",
       "                       [ 0.2640, -1.0227,  0.0749, -2.6792]],\n",
       "              \n",
       "                      [[-0.5203, -0.2351,  0.0290,  1.6137],\n",
       "                       [-0.0965,  0.1015,  0.9169, -0.7006],\n",
       "                       [ 0.2640, -1.0227,  0.0749, -2.6792]],\n",
       "              \n",
       "                      [[-0.5203, -0.2351,  0.0290,  1.6137],\n",
       "                       [-0.0965,  0.1015,  0.9169, -0.7006],\n",
       "                       [ 0.2640, -1.0227,  0.0749, -2.6792]],\n",
       "              \n",
       "                      [[-0.5203, -0.2351,  0.0290,  1.6137],\n",
       "                       [-0.0965,  0.1015,  0.9169, -0.7006],\n",
       "                       [ 0.2640, -1.0227,  0.0749, -2.6792]],\n",
       "              \n",
       "                      [[-0.5203, -0.2351,  0.0290,  1.6137],\n",
       "                       [-0.0965,  0.1015,  0.9169, -0.7006],\n",
       "                       [ 0.2640, -1.0227,  0.0749, -2.6792]],\n",
       "              \n",
       "                      [[-0.5203, -0.2351,  0.0290,  1.6137],\n",
       "                       [-0.0965,  0.1015,  0.9169, -0.7006],\n",
       "                       [ 0.2640, -1.0227,  0.0749, -2.6792]],\n",
       "              \n",
       "                      [[-0.5203, -0.2351,  0.0290,  1.6137],\n",
       "                       [-0.0965,  0.1015,  0.9169, -0.7006],\n",
       "                       [ 0.2640, -1.0227,  0.0749, -2.6792]]]),\n",
       "       ),\n",
       ")"
      ]
     },
     "execution_count": 25,
     "metadata": {},
     "output_type": "execute_result"
    }
   ],
   "source": [
    "batches = [Batch(**_TREE_DATA_2) for _ in range(8)]\n",
    "\n",
    "Batch.stack(batches)"
   ]
  },
  {
   "cell_type": "code",
   "execution_count": 26,
   "id": "ec9037a3",
   "metadata": {
    "execution": {
     "iopub.execute_input": "2023-02-27T13:13:31.321291Z",
     "iopub.status.busy": "2023-02-27T13:13:31.320867Z",
     "iopub.status.idle": "2023-02-27T13:13:39.783317Z",
     "shell.execute_reply": "2023-02-27T13:13:39.782275Z"
    }
   },
   "outputs": [
    {
     "name": "stdout",
     "output_type": "stream",
     "text": [
      "104 µs ± 2.16 µs per loop (mean ± std. dev. of 7 runs, 10,000 loops each)\n"
     ]
    }
   ],
   "source": [
    "%timeit Batch.stack(batches)"
   ]
  },
  {
   "cell_type": "code",
   "execution_count": 27,
   "id": "cb8ab77e",
   "metadata": {
    "execution": {
     "iopub.execute_input": "2023-02-27T13:13:39.787198Z",
     "iopub.status.busy": "2023-02-27T13:13:39.786619Z",
     "iopub.status.idle": "2023-02-27T13:13:39.797139Z",
     "shell.execute_reply": "2023-02-27T13:13:39.796162Z"
    }
   },
   "outputs": [
    {
     "data": {
      "text/plain": [
       "Batch(\n",
       "    a: tensor([[ 0.0491, -0.6140,  1.0990],\n",
       "               [-1.7220,  1.0001,  0.7794],\n",
       "               [ 0.0491, -0.6140,  1.0990],\n",
       "               [-1.7220,  1.0001,  0.7794],\n",
       "               [ 0.0491, -0.6140,  1.0990],\n",
       "               [-1.7220,  1.0001,  0.7794],\n",
       "               [ 0.0491, -0.6140,  1.0990],\n",
       "               [-1.7220,  1.0001,  0.7794],\n",
       "               [ 0.0491, -0.6140,  1.0990],\n",
       "               [-1.7220,  1.0001,  0.7794],\n",
       "               [ 0.0491, -0.6140,  1.0990],\n",
       "               [-1.7220,  1.0001,  0.7794],\n",
       "               [ 0.0491, -0.6140,  1.0990],\n",
       "               [-1.7220,  1.0001,  0.7794],\n",
       "               [ 0.0491, -0.6140,  1.0990],\n",
       "               [-1.7220,  1.0001,  0.7794]]),\n",
       "    x: Batch(\n",
       "           c: tensor([[-0.5203, -0.2351,  0.0290,  1.6137],\n",
       "                      [-0.0965,  0.1015,  0.9169, -0.7006],\n",
       "                      [ 0.2640, -1.0227,  0.0749, -2.6792],\n",
       "                      [-0.5203, -0.2351,  0.0290,  1.6137],\n",
       "                      [-0.0965,  0.1015,  0.9169, -0.7006],\n",
       "                      [ 0.2640, -1.0227,  0.0749, -2.6792],\n",
       "                      [-0.5203, -0.2351,  0.0290,  1.6137],\n",
       "                      [-0.0965,  0.1015,  0.9169, -0.7006],\n",
       "                      [ 0.2640, -1.0227,  0.0749, -2.6792],\n",
       "                      [-0.5203, -0.2351,  0.0290,  1.6137],\n",
       "                      [-0.0965,  0.1015,  0.9169, -0.7006],\n",
       "                      [ 0.2640, -1.0227,  0.0749, -2.6792],\n",
       "                      [-0.5203, -0.2351,  0.0290,  1.6137],\n",
       "                      [-0.0965,  0.1015,  0.9169, -0.7006],\n",
       "                      [ 0.2640, -1.0227,  0.0749, -2.6792],\n",
       "                      [-0.5203, -0.2351,  0.0290,  1.6137],\n",
       "                      [-0.0965,  0.1015,  0.9169, -0.7006],\n",
       "                      [ 0.2640, -1.0227,  0.0749, -2.6792],\n",
       "                      [-0.5203, -0.2351,  0.0290,  1.6137],\n",
       "                      [-0.0965,  0.1015,  0.9169, -0.7006],\n",
       "                      [ 0.2640, -1.0227,  0.0749, -2.6792],\n",
       "                      [-0.5203, -0.2351,  0.0290,  1.6137],\n",
       "                      [-0.0965,  0.1015,  0.9169, -0.7006],\n",
       "                      [ 0.2640, -1.0227,  0.0749, -2.6792]]),\n",
       "       ),\n",
       ")"
      ]
     },
     "execution_count": 27,
     "metadata": {},
     "output_type": "execute_result"
    }
   ],
   "source": [
    "Batch.cat(batches)"
   ]
  },
  {
   "cell_type": "code",
   "execution_count": 28,
   "id": "18dfb045",
   "metadata": {
    "execution": {
     "iopub.execute_input": "2023-02-27T13:13:39.800164Z",
     "iopub.status.busy": "2023-02-27T13:13:39.799906Z",
     "iopub.status.idle": "2023-02-27T13:13:54.723458Z",
     "shell.execute_reply": "2023-02-27T13:13:54.722331Z"
    }
   },
   "outputs": [
    {
     "name": "stdout",
     "output_type": "stream",
     "text": [
      "184 µs ± 2.61 µs per loop (mean ± std. dev. of 7 runs, 10,000 loops each)\n"
     ]
    }
   ],
   "source": [
    "%timeit Batch.cat(batches)"
   ]
  },
  {
   "cell_type": "code",
   "execution_count": 29,
   "id": "c6688e51",
   "metadata": {
    "execution": {
     "iopub.execute_input": "2023-02-27T13:13:54.726947Z",
     "iopub.status.busy": "2023-02-27T13:13:54.726665Z",
     "iopub.status.idle": "2023-02-27T13:13:59.532364Z",
     "shell.execute_reply": "2023-02-27T13:13:59.531535Z"
    }
   },
   "outputs": [
    {
     "name": "stdout",
     "output_type": "stream",
     "text": [
      "590 µs ± 13.3 µs per loop (mean ± std. dev. of 7 runs, 1,000 loops each)\n"
     ]
    }
   ],
   "source": [
    "batch = Batch({\n",
    "    'obs': torch.randn(8, 4, 84, 84),\n",
    "    'action': torch.randint(0, 6, size=(8, 1,)),\n",
    "    'reward': torch.rand(8, 1)}\n",
    ")\n",
    "\n",
    "%timeit list(Batch.split(batch, 1, shuffle=False, merge_last=True))"
   ]
  },
  {
   "cell_type": "code",
   "execution_count": null,
   "id": "2539fbd9",
   "metadata": {},
   "outputs": [],
   "source": []
  }
 ],
 "metadata": {
  "kernelspec": {
   "display_name": "Python 3 (ipykernel)",
   "language": "python",
   "name": "python3"
  },
  "language_info": {
   "codemirror_mode": {
    "name": "ipython",
    "version": 3
   },
   "file_extension": ".py",
   "mimetype": "text/x-python",
   "name": "python",
   "nbconvert_exporter": "python",
   "pygments_lexer": "ipython3",
   "version": "3.8.16"
  }
 },
 "nbformat": 4,
 "nbformat_minor": 5
}
