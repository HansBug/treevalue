{
 "cells": [
  {
   "cell_type": "markdown",
   "id": "9d39d946",
   "metadata": {},
   "source": [
    "# Comparison Between TreeValue and Tianshou Batch"
   ]
  },
  {
   "cell_type": "markdown",
   "id": "3c6db2d4",
   "metadata": {},
   "source": [
    "In this section, we will take a look at the feature and performance of the [Tianshou Batch](https://github.com/thu-ml/tianshou) library, which is developed by Tsinghua Machine Learning Group."
   ]
  },
  {
   "cell_type": "markdown",
   "id": "069361b0",
   "metadata": {},
   "source": [
    "Before starting the comparison, let us define some thing."
   ]
  },
  {
   "cell_type": "code",
   "execution_count": 1,
   "id": "06fc8d26",
   "metadata": {
    "execution": {
     "iopub.execute_input": "2023-04-16T15:26:27.113517Z",
     "iopub.status.busy": "2023-04-16T15:26:27.113237Z",
     "iopub.status.idle": "2023-04-16T15:26:28.535601Z",
     "shell.execute_reply": "2023-04-16T15:26:28.534151Z"
    }
   },
   "outputs": [],
   "source": [
    "import torch \n",
    "\n",
    "_TREE_DATA_1 = {'a': 1, 'b': 2, 'x': {'c': 3, 'd': 4}}\n",
    "_TREE_DATA_2 = {\n",
    "    'a': torch.randn(2, 3), \n",
    "    'x': {\n",
    "        'c': torch.randn(3, 4)\n",
    "    },\n",
    "}\n",
    "_TREE_DATA_3 = {\n",
    "    'obs': torch.randn(4, 84, 84),\n",
    "    'action': torch.randint(0, 6, size=(1,)),\n",
    "    'reward': torch.rand(1),\n",
    "}"
   ]
  },
  {
   "cell_type": "markdown",
   "id": "83461b25",
   "metadata": {},
   "source": [
    "## Read and Write Operation"
   ]
  },
  {
   "cell_type": "markdown",
   "id": "067b3f73",
   "metadata": {},
   "source": [
    "Reading and writing are the two most common operations in the tree data structure based on the data model (TreeValue and Tianshou Batch both belong to this type), so this section will compare the reading and writing performance of these two libraries."
   ]
  },
  {
   "cell_type": "markdown",
   "id": "5d09a5b7",
   "metadata": {},
   "source": [
    "### TreeValue's Get and Set"
   ]
  },
  {
   "cell_type": "code",
   "execution_count": 2,
   "id": "9519c4bb",
   "metadata": {
    "execution": {
     "iopub.execute_input": "2023-04-16T15:26:28.539925Z",
     "iopub.status.busy": "2023-04-16T15:26:28.539359Z",
     "iopub.status.idle": "2023-04-16T15:26:28.829925Z",
     "shell.execute_reply": "2023-04-16T15:26:28.829160Z"
    }
   },
   "outputs": [],
   "source": [
    "from treevalue import FastTreeValue\n",
    "\n",
    "t = FastTreeValue(_TREE_DATA_2)"
   ]
  },
  {
   "cell_type": "code",
   "execution_count": 3,
   "id": "11c37677",
   "metadata": {
    "execution": {
     "iopub.execute_input": "2023-04-16T15:26:28.834124Z",
     "iopub.status.busy": "2023-04-16T15:26:28.833779Z",
     "iopub.status.idle": "2023-04-16T15:26:28.843066Z",
     "shell.execute_reply": "2023-04-16T15:26:28.842331Z"
    }
   },
   "outputs": [
    {
     "data": {
      "text/plain": [
       "<FastTreeValue 0x7fa6801531c0>\n",
       "├── 'a' --> tensor([[ 0.6155,  0.3371, -0.2797],\n",
       "│                   [ 0.3713, -1.2238,  0.5611]])\n",
       "└── 'x' --> <FastTreeValue 0x7fa680153850>\n",
       "    └── 'c' --> tensor([[-0.8909, -0.4335, -0.1767,  0.5099],\n",
       "                        [ 1.5233, -0.1117,  0.5797,  0.2873],\n",
       "                        [-0.2449,  0.1913, -0.5707,  1.8499]])"
      ]
     },
     "execution_count": 3,
     "metadata": {},
     "output_type": "execute_result"
    }
   ],
   "source": [
    "t"
   ]
  },
  {
   "cell_type": "code",
   "execution_count": 4,
   "id": "fd70b0b9",
   "metadata": {
    "execution": {
     "iopub.execute_input": "2023-04-16T15:26:28.847707Z",
     "iopub.status.busy": "2023-04-16T15:26:28.847157Z",
     "iopub.status.idle": "2023-04-16T15:26:28.852844Z",
     "shell.execute_reply": "2023-04-16T15:26:28.852141Z"
    }
   },
   "outputs": [
    {
     "data": {
      "text/plain": [
       "tensor([[ 0.6155,  0.3371, -0.2797],\n",
       "        [ 0.3713, -1.2238,  0.5611]])"
      ]
     },
     "execution_count": 4,
     "metadata": {},
     "output_type": "execute_result"
    }
   ],
   "source": [
    "t.a"
   ]
  },
  {
   "cell_type": "code",
   "execution_count": 5,
   "id": "c18197bd",
   "metadata": {
    "execution": {
     "iopub.execute_input": "2023-04-16T15:26:28.856198Z",
     "iopub.status.busy": "2023-04-16T15:26:28.855821Z",
     "iopub.status.idle": "2023-04-16T15:26:34.192549Z",
     "shell.execute_reply": "2023-04-16T15:26:34.191790Z"
    }
   },
   "outputs": [
    {
     "name": "stdout",
     "output_type": "stream",
     "text": [
      "65.7 ns ± 0.0567 ns per loop (mean ± std. dev. of 7 runs, 10,000,000 loops each)\n"
     ]
    }
   ],
   "source": [
    "%timeit t.a"
   ]
  },
  {
   "cell_type": "code",
   "execution_count": 6,
   "id": "bd52f867",
   "metadata": {
    "execution": {
     "iopub.execute_input": "2023-04-16T15:26:34.196275Z",
     "iopub.status.busy": "2023-04-16T15:26:34.195522Z",
     "iopub.status.idle": "2023-04-16T15:26:34.202441Z",
     "shell.execute_reply": "2023-04-16T15:26:34.201730Z"
    }
   },
   "outputs": [
    {
     "data": {
      "text/plain": [
       "<FastTreeValue 0x7fa6801531c0>\n",
       "├── 'a' --> tensor([[ 0.1247, -0.1186,  1.8830],\n",
       "│                   [-0.0506,  0.2396,  0.3650]])\n",
       "└── 'x' --> <FastTreeValue 0x7fa680153850>\n",
       "    └── 'c' --> tensor([[-0.8909, -0.4335, -0.1767,  0.5099],\n",
       "                        [ 1.5233, -0.1117,  0.5797,  0.2873],\n",
       "                        [-0.2449,  0.1913, -0.5707,  1.8499]])"
      ]
     },
     "execution_count": 6,
     "metadata": {},
     "output_type": "execute_result"
    }
   ],
   "source": [
    "new_value = torch.randn(2, 3)\n",
    "t.a = new_value\n",
    "\n",
    "t"
   ]
  },
  {
   "cell_type": "code",
   "execution_count": 7,
   "id": "bbe04d1c",
   "metadata": {
    "execution": {
     "iopub.execute_input": "2023-04-16T15:26:34.205337Z",
     "iopub.status.busy": "2023-04-16T15:26:34.204960Z",
     "iopub.status.idle": "2023-04-16T15:26:40.273131Z",
     "shell.execute_reply": "2023-04-16T15:26:40.272350Z"
    }
   },
   "outputs": [
    {
     "name": "stdout",
     "output_type": "stream",
     "text": [
      "74.8 ns ± 0.099 ns per loop (mean ± std. dev. of 7 runs, 10,000,000 loops each)\n"
     ]
    }
   ],
   "source": [
    "%timeit t.a = new_value"
   ]
  },
  {
   "cell_type": "markdown",
   "id": "48c49731",
   "metadata": {},
   "source": [
    "### Tianshou Batch's Get and Set"
   ]
  },
  {
   "cell_type": "code",
   "execution_count": 8,
   "id": "f1bb14c1",
   "metadata": {
    "execution": {
     "iopub.execute_input": "2023-04-16T15:26:40.276834Z",
     "iopub.status.busy": "2023-04-16T15:26:40.276347Z",
     "iopub.status.idle": "2023-04-16T15:26:40.673369Z",
     "shell.execute_reply": "2023-04-16T15:26:40.672604Z"
    }
   },
   "outputs": [],
   "source": [
    "from tianshou.data import Batch\n",
    "\n",
    "b = Batch(**_TREE_DATA_2)"
   ]
  },
  {
   "cell_type": "code",
   "execution_count": 9,
   "id": "cb0777c3",
   "metadata": {
    "execution": {
     "iopub.execute_input": "2023-04-16T15:26:40.677971Z",
     "iopub.status.busy": "2023-04-16T15:26:40.677138Z",
     "iopub.status.idle": "2023-04-16T15:26:40.683305Z",
     "shell.execute_reply": "2023-04-16T15:26:40.682608Z"
    }
   },
   "outputs": [
    {
     "data": {
      "text/plain": [
       "Batch(\n",
       "    a: tensor([[ 0.6155,  0.3371, -0.2797],\n",
       "               [ 0.3713, -1.2238,  0.5611]]),\n",
       "    x: Batch(\n",
       "           c: tensor([[-0.8909, -0.4335, -0.1767,  0.5099],\n",
       "                      [ 1.5233, -0.1117,  0.5797,  0.2873],\n",
       "                      [-0.2449,  0.1913, -0.5707,  1.8499]]),\n",
       "       ),\n",
       ")"
      ]
     },
     "execution_count": 9,
     "metadata": {},
     "output_type": "execute_result"
    }
   ],
   "source": [
    "b"
   ]
  },
  {
   "cell_type": "code",
   "execution_count": 10,
   "id": "43ef8ea3",
   "metadata": {
    "execution": {
     "iopub.execute_input": "2023-04-16T15:26:40.686324Z",
     "iopub.status.busy": "2023-04-16T15:26:40.685793Z",
     "iopub.status.idle": "2023-04-16T15:26:40.690654Z",
     "shell.execute_reply": "2023-04-16T15:26:40.689998Z"
    }
   },
   "outputs": [
    {
     "data": {
      "text/plain": [
       "tensor([[ 0.6155,  0.3371, -0.2797],\n",
       "        [ 0.3713, -1.2238,  0.5611]])"
      ]
     },
     "execution_count": 10,
     "metadata": {},
     "output_type": "execute_result"
    }
   ],
   "source": [
    "b.a"
   ]
  },
  {
   "cell_type": "code",
   "execution_count": 11,
   "id": "b785ab72",
   "metadata": {
    "execution": {
     "iopub.execute_input": "2023-04-16T15:26:40.693660Z",
     "iopub.status.busy": "2023-04-16T15:26:40.693303Z",
     "iopub.status.idle": "2023-04-16T15:26:45.483687Z",
     "shell.execute_reply": "2023-04-16T15:26:45.482909Z"
    }
   },
   "outputs": [
    {
     "name": "stdout",
     "output_type": "stream",
     "text": [
      "59 ns ± 0.128 ns per loop (mean ± std. dev. of 7 runs, 10,000,000 loops each)\n"
     ]
    }
   ],
   "source": [
    "%timeit b.a"
   ]
  },
  {
   "cell_type": "code",
   "execution_count": 12,
   "id": "ad54dc69",
   "metadata": {
    "execution": {
     "iopub.execute_input": "2023-04-16T15:26:45.487307Z",
     "iopub.status.busy": "2023-04-16T15:26:45.486637Z",
     "iopub.status.idle": "2023-04-16T15:26:45.493080Z",
     "shell.execute_reply": "2023-04-16T15:26:45.492363Z"
    }
   },
   "outputs": [
    {
     "data": {
      "text/plain": [
       "Batch(\n",
       "    a: tensor([[ 1.5207,  0.0378, -0.5081],\n",
       "               [-0.0637,  0.6154, -0.0431]]),\n",
       "    x: Batch(\n",
       "           c: tensor([[-0.8909, -0.4335, -0.1767,  0.5099],\n",
       "                      [ 1.5233, -0.1117,  0.5797,  0.2873],\n",
       "                      [-0.2449,  0.1913, -0.5707,  1.8499]]),\n",
       "       ),\n",
       ")"
      ]
     },
     "execution_count": 12,
     "metadata": {},
     "output_type": "execute_result"
    }
   ],
   "source": [
    "new_value = torch.randn(2, 3)\n",
    "b.a = new_value\n",
    "\n",
    "b"
   ]
  },
  {
   "cell_type": "code",
   "execution_count": 13,
   "id": "29b1d0bf",
   "metadata": {
    "execution": {
     "iopub.execute_input": "2023-04-16T15:26:45.496235Z",
     "iopub.status.busy": "2023-04-16T15:26:45.495695Z",
     "iopub.status.idle": "2023-04-16T15:26:49.508512Z",
     "shell.execute_reply": "2023-04-16T15:26:49.507600Z"
    }
   },
   "outputs": [
    {
     "name": "stdout",
     "output_type": "stream",
     "text": [
      "494 ns ± 0.106 ns per loop (mean ± std. dev. of 7 runs, 1,000,000 loops each)\n"
     ]
    }
   ],
   "source": [
    "%timeit b.a = new_value"
   ]
  },
  {
   "cell_type": "markdown",
   "id": "b61ad1d0",
   "metadata": {},
   "source": [
    "## Initialization"
   ]
  },
  {
   "cell_type": "markdown",
   "id": "d70f0d54",
   "metadata": {},
   "source": [
    "### TreeValue's Initialization"
   ]
  },
  {
   "cell_type": "code",
   "execution_count": 14,
   "id": "d32a679b",
   "metadata": {
    "execution": {
     "iopub.execute_input": "2023-04-16T15:26:49.512353Z",
     "iopub.status.busy": "2023-04-16T15:26:49.511938Z",
     "iopub.status.idle": "2023-04-16T15:26:56.087504Z",
     "shell.execute_reply": "2023-04-16T15:26:56.086770Z"
    }
   },
   "outputs": [
    {
     "name": "stdout",
     "output_type": "stream",
     "text": [
      "807 ns ± 0.13 ns per loop (mean ± std. dev. of 7 runs, 1,000,000 loops each)\n"
     ]
    }
   ],
   "source": [
    "%timeit FastTreeValue(_TREE_DATA_1)"
   ]
  },
  {
   "cell_type": "markdown",
   "id": "24f3707b",
   "metadata": {},
   "source": [
    "### Tianshou Batch's Initialization"
   ]
  },
  {
   "cell_type": "code",
   "execution_count": 15,
   "id": "ac3958df",
   "metadata": {
    "execution": {
     "iopub.execute_input": "2023-04-16T15:26:56.091106Z",
     "iopub.status.busy": "2023-04-16T15:26:56.090587Z",
     "iopub.status.idle": "2023-04-16T15:27:04.716601Z",
     "shell.execute_reply": "2023-04-16T15:27:04.715859Z"
    }
   },
   "outputs": [
    {
     "name": "stdout",
     "output_type": "stream",
     "text": [
      "10.6 µs ± 17 ns per loop (mean ± std. dev. of 7 runs, 100,000 loops each)\n"
     ]
    }
   ],
   "source": [
    "%timeit Batch(**_TREE_DATA_1)"
   ]
  },
  {
   "cell_type": "markdown",
   "id": "1ab82e2d",
   "metadata": {},
   "source": [
    "## Deep Copy Operation"
   ]
  },
  {
   "cell_type": "code",
   "execution_count": 16,
   "id": "210a9442",
   "metadata": {
    "execution": {
     "iopub.execute_input": "2023-04-16T15:27:04.720126Z",
     "iopub.status.busy": "2023-04-16T15:27:04.719612Z",
     "iopub.status.idle": "2023-04-16T15:27:04.723063Z",
     "shell.execute_reply": "2023-04-16T15:27:04.722328Z"
    }
   },
   "outputs": [],
   "source": [
    "import copy"
   ]
  },
  {
   "cell_type": "markdown",
   "id": "5a736274",
   "metadata": {},
   "source": [
    "### Deep Copy of TreeValue"
   ]
  },
  {
   "cell_type": "code",
   "execution_count": 17,
   "id": "f9bcadd6",
   "metadata": {
    "execution": {
     "iopub.execute_input": "2023-04-16T15:27:04.726343Z",
     "iopub.status.busy": "2023-04-16T15:27:04.725982Z",
     "iopub.status.idle": "2023-04-16T15:27:16.357458Z",
     "shell.execute_reply": "2023-04-16T15:27:16.356732Z"
    }
   },
   "outputs": [
    {
     "name": "stdout",
     "output_type": "stream",
     "text": [
      "143 µs ± 337 ns per loop (mean ± std. dev. of 7 runs, 10,000 loops each)\n"
     ]
    }
   ],
   "source": [
    "t3 = FastTreeValue(_TREE_DATA_3)\n",
    "%timeit copy.deepcopy(t3)"
   ]
  },
  {
   "cell_type": "markdown",
   "id": "bf8be7ea",
   "metadata": {},
   "source": [
    "### Deep Copy of Tianshou Batch"
   ]
  },
  {
   "cell_type": "code",
   "execution_count": 18,
   "id": "91998e6f",
   "metadata": {
    "execution": {
     "iopub.execute_input": "2023-04-16T15:27:16.360928Z",
     "iopub.status.busy": "2023-04-16T15:27:16.360396Z",
     "iopub.status.idle": "2023-04-16T15:27:28.039996Z",
     "shell.execute_reply": "2023-04-16T15:27:28.039349Z"
    }
   },
   "outputs": [
    {
     "name": "stdout",
     "output_type": "stream",
     "text": [
      "144 µs ± 1.74 µs per loop (mean ± std. dev. of 7 runs, 10,000 loops each)\n"
     ]
    }
   ],
   "source": [
    "b3 = Batch(**_TREE_DATA_3)\n",
    "%timeit copy.deepcopy(b3)"
   ]
  },
  {
   "cell_type": "markdown",
   "id": "223162fb",
   "metadata": {},
   "source": [
    "## Stack, Concat and Split Operation"
   ]
  },
  {
   "cell_type": "markdown",
   "id": "85fa4a73",
   "metadata": {},
   "source": [
    "### Performance of TreeValue"
   ]
  },
  {
   "cell_type": "code",
   "execution_count": 19,
   "id": "a0c2b697",
   "metadata": {
    "execution": {
     "iopub.execute_input": "2023-04-16T15:27:28.043375Z",
     "iopub.status.busy": "2023-04-16T15:27:28.042953Z",
     "iopub.status.idle": "2023-04-16T15:27:28.046537Z",
     "shell.execute_reply": "2023-04-16T15:27:28.045851Z"
    }
   },
   "outputs": [],
   "source": [
    "trees = [FastTreeValue(_TREE_DATA_2) for _ in range(8)]"
   ]
  },
  {
   "cell_type": "code",
   "execution_count": 20,
   "id": "017ea5a5",
   "metadata": {
    "execution": {
     "iopub.execute_input": "2023-04-16T15:27:28.049452Z",
     "iopub.status.busy": "2023-04-16T15:27:28.049094Z",
     "iopub.status.idle": "2023-04-16T15:27:28.058846Z",
     "shell.execute_reply": "2023-04-16T15:27:28.058244Z"
    }
   },
   "outputs": [
    {
     "data": {
      "text/plain": [
       "<FastTreeValue 0x7fa5bc5b1160>\n",
       "├── 'a' --> tensor([[[ 0.6155,  0.3371, -0.2797],\n",
       "│                    [ 0.3713, -1.2238,  0.5611]],\n",
       "│           \n",
       "│                   [[ 0.6155,  0.3371, -0.2797],\n",
       "│                    [ 0.3713, -1.2238,  0.5611]],\n",
       "│           \n",
       "│                   [[ 0.6155,  0.3371, -0.2797],\n",
       "│                    [ 0.3713, -1.2238,  0.5611]],\n",
       "│           \n",
       "│                   [[ 0.6155,  0.3371, -0.2797],\n",
       "│                    [ 0.3713, -1.2238,  0.5611]],\n",
       "│           \n",
       "│                   [[ 0.6155,  0.3371, -0.2797],\n",
       "│                    [ 0.3713, -1.2238,  0.5611]],\n",
       "│           \n",
       "│                   [[ 0.6155,  0.3371, -0.2797],\n",
       "│                    [ 0.3713, -1.2238,  0.5611]],\n",
       "│           \n",
       "│                   [[ 0.6155,  0.3371, -0.2797],\n",
       "│                    [ 0.3713, -1.2238,  0.5611]],\n",
       "│           \n",
       "│                   [[ 0.6155,  0.3371, -0.2797],\n",
       "│                    [ 0.3713, -1.2238,  0.5611]]])\n",
       "└── 'x' --> <FastTreeValue 0x7fa6701d1f10>\n",
       "    └── 'c' --> tensor([[[-0.8909, -0.4335, -0.1767,  0.5099],\n",
       "                         [ 1.5233, -0.1117,  0.5797,  0.2873],\n",
       "                         [-0.2449,  0.1913, -0.5707,  1.8499]],\n",
       "                \n",
       "                        [[-0.8909, -0.4335, -0.1767,  0.5099],\n",
       "                         [ 1.5233, -0.1117,  0.5797,  0.2873],\n",
       "                         [-0.2449,  0.1913, -0.5707,  1.8499]],\n",
       "                \n",
       "                        [[-0.8909, -0.4335, -0.1767,  0.5099],\n",
       "                         [ 1.5233, -0.1117,  0.5797,  0.2873],\n",
       "                         [-0.2449,  0.1913, -0.5707,  1.8499]],\n",
       "                \n",
       "                        [[-0.8909, -0.4335, -0.1767,  0.5099],\n",
       "                         [ 1.5233, -0.1117,  0.5797,  0.2873],\n",
       "                         [-0.2449,  0.1913, -0.5707,  1.8499]],\n",
       "                \n",
       "                        [[-0.8909, -0.4335, -0.1767,  0.5099],\n",
       "                         [ 1.5233, -0.1117,  0.5797,  0.2873],\n",
       "                         [-0.2449,  0.1913, -0.5707,  1.8499]],\n",
       "                \n",
       "                        [[-0.8909, -0.4335, -0.1767,  0.5099],\n",
       "                         [ 1.5233, -0.1117,  0.5797,  0.2873],\n",
       "                         [-0.2449,  0.1913, -0.5707,  1.8499]],\n",
       "                \n",
       "                        [[-0.8909, -0.4335, -0.1767,  0.5099],\n",
       "                         [ 1.5233, -0.1117,  0.5797,  0.2873],\n",
       "                         [-0.2449,  0.1913, -0.5707,  1.8499]],\n",
       "                \n",
       "                        [[-0.8909, -0.4335, -0.1767,  0.5099],\n",
       "                         [ 1.5233, -0.1117,  0.5797,  0.2873],\n",
       "                         [-0.2449,  0.1913, -0.5707,  1.8499]]])"
      ]
     },
     "execution_count": 20,
     "metadata": {},
     "output_type": "execute_result"
    }
   ],
   "source": [
    "t_stack = FastTreeValue.func(subside=True)(torch.stack)\n",
    "\n",
    "t_stack(trees)"
   ]
  },
  {
   "cell_type": "code",
   "execution_count": 21,
   "id": "f8b3f415",
   "metadata": {
    "execution": {
     "iopub.execute_input": "2023-04-16T15:27:28.061747Z",
     "iopub.status.busy": "2023-04-16T15:27:28.061386Z",
     "iopub.status.idle": "2023-04-16T15:27:30.742031Z",
     "shell.execute_reply": "2023-04-16T15:27:30.741285Z"
    }
   },
   "outputs": [
    {
     "name": "stdout",
     "output_type": "stream",
     "text": [
      "33 µs ± 84.8 ns per loop (mean ± std. dev. of 7 runs, 10,000 loops each)\n"
     ]
    }
   ],
   "source": [
    "%timeit t_stack(trees)"
   ]
  },
  {
   "cell_type": "code",
   "execution_count": 22,
   "id": "94b56771",
   "metadata": {
    "execution": {
     "iopub.execute_input": "2023-04-16T15:27:30.746132Z",
     "iopub.status.busy": "2023-04-16T15:27:30.745484Z",
     "iopub.status.idle": "2023-04-16T15:27:30.753398Z",
     "shell.execute_reply": "2023-04-16T15:27:30.752700Z"
    }
   },
   "outputs": [
    {
     "data": {
      "text/plain": [
       "<FastTreeValue 0x7fa5aba2bdc0>\n",
       "├── 'a' --> tensor([[ 0.6155,  0.3371, -0.2797],\n",
       "│                   [ 0.3713, -1.2238,  0.5611],\n",
       "│                   [ 0.6155,  0.3371, -0.2797],\n",
       "│                   [ 0.3713, -1.2238,  0.5611],\n",
       "│                   [ 0.6155,  0.3371, -0.2797],\n",
       "│                   [ 0.3713, -1.2238,  0.5611],\n",
       "│                   [ 0.6155,  0.3371, -0.2797],\n",
       "│                   [ 0.3713, -1.2238,  0.5611],\n",
       "│                   [ 0.6155,  0.3371, -0.2797],\n",
       "│                   [ 0.3713, -1.2238,  0.5611],\n",
       "│                   [ 0.6155,  0.3371, -0.2797],\n",
       "│                   [ 0.3713, -1.2238,  0.5611],\n",
       "│                   [ 0.6155,  0.3371, -0.2797],\n",
       "│                   [ 0.3713, -1.2238,  0.5611],\n",
       "│                   [ 0.6155,  0.3371, -0.2797],\n",
       "│                   [ 0.3713, -1.2238,  0.5611]])\n",
       "└── 'x' --> <FastTreeValue 0x7fa5aba2bf40>\n",
       "    └── 'c' --> tensor([[-0.8909, -0.4335, -0.1767,  0.5099],\n",
       "                        [ 1.5233, -0.1117,  0.5797,  0.2873],\n",
       "                        [-0.2449,  0.1913, -0.5707,  1.8499],\n",
       "                        [-0.8909, -0.4335, -0.1767,  0.5099],\n",
       "                        [ 1.5233, -0.1117,  0.5797,  0.2873],\n",
       "                        [-0.2449,  0.1913, -0.5707,  1.8499],\n",
       "                        [-0.8909, -0.4335, -0.1767,  0.5099],\n",
       "                        [ 1.5233, -0.1117,  0.5797,  0.2873],\n",
       "                        [-0.2449,  0.1913, -0.5707,  1.8499],\n",
       "                        [-0.8909, -0.4335, -0.1767,  0.5099],\n",
       "                        [ 1.5233, -0.1117,  0.5797,  0.2873],\n",
       "                        [-0.2449,  0.1913, -0.5707,  1.8499],\n",
       "                        [-0.8909, -0.4335, -0.1767,  0.5099],\n",
       "                        [ 1.5233, -0.1117,  0.5797,  0.2873],\n",
       "                        [-0.2449,  0.1913, -0.5707,  1.8499],\n",
       "                        [-0.8909, -0.4335, -0.1767,  0.5099],\n",
       "                        [ 1.5233, -0.1117,  0.5797,  0.2873],\n",
       "                        [-0.2449,  0.1913, -0.5707,  1.8499],\n",
       "                        [-0.8909, -0.4335, -0.1767,  0.5099],\n",
       "                        [ 1.5233, -0.1117,  0.5797,  0.2873],\n",
       "                        [-0.2449,  0.1913, -0.5707,  1.8499],\n",
       "                        [-0.8909, -0.4335, -0.1767,  0.5099],\n",
       "                        [ 1.5233, -0.1117,  0.5797,  0.2873],\n",
       "                        [-0.2449,  0.1913, -0.5707,  1.8499]])"
      ]
     },
     "execution_count": 22,
     "metadata": {},
     "output_type": "execute_result"
    }
   ],
   "source": [
    "t_cat = FastTreeValue.func(subside=True)(torch.cat)\n",
    "\n",
    "t_cat(trees)"
   ]
  },
  {
   "cell_type": "code",
   "execution_count": 23,
   "id": "5e9c06a6",
   "metadata": {
    "execution": {
     "iopub.execute_input": "2023-04-16T15:27:30.756731Z",
     "iopub.status.busy": "2023-04-16T15:27:30.756496Z",
     "iopub.status.idle": "2023-04-16T15:27:33.238724Z",
     "shell.execute_reply": "2023-04-16T15:27:33.237975Z"
    }
   },
   "outputs": [
    {
     "name": "stdout",
     "output_type": "stream",
     "text": [
      "30.5 µs ± 23.5 ns per loop (mean ± std. dev. of 7 runs, 10,000 loops each)\n"
     ]
    }
   ],
   "source": [
    "%timeit t_cat(trees)"
   ]
  },
  {
   "cell_type": "code",
   "execution_count": 24,
   "id": "a3ab5c8f",
   "metadata": {
    "execution": {
     "iopub.execute_input": "2023-04-16T15:27:33.242343Z",
     "iopub.status.busy": "2023-04-16T15:27:33.241711Z",
     "iopub.status.idle": "2023-04-16T15:27:38.706890Z",
     "shell.execute_reply": "2023-04-16T15:27:38.706195Z"
    }
   },
   "outputs": [
    {
     "name": "stdout",
     "output_type": "stream",
     "text": [
      "67.2 µs ± 96 ns per loop (mean ± std. dev. of 7 runs, 10,000 loops each)\n"
     ]
    }
   ],
   "source": [
    "t_split = FastTreeValue.func(rise=True)(torch.split)\n",
    "tree = FastTreeValue({\n",
    "    'obs': torch.randn(8, 4, 84, 84),\n",
    "    'action': torch.randint(0, 6, size=(8, 1,)),\n",
    "    'reward': torch.rand(8, 1),\n",
    "})\n",
    "\n",
    "%timeit t_split(tree, 1)"
   ]
  },
  {
   "cell_type": "markdown",
   "id": "31c3ec0b",
   "metadata": {},
   "source": [
    "### Performance of Tianshou Batch"
   ]
  },
  {
   "cell_type": "code",
   "execution_count": 25,
   "id": "9ead828a",
   "metadata": {
    "execution": {
     "iopub.execute_input": "2023-04-16T15:27:38.710413Z",
     "iopub.status.busy": "2023-04-16T15:27:38.709814Z",
     "iopub.status.idle": "2023-04-16T15:27:38.717755Z",
     "shell.execute_reply": "2023-04-16T15:27:38.717064Z"
    }
   },
   "outputs": [
    {
     "data": {
      "text/plain": [
       "Batch(\n",
       "    x: Batch(\n",
       "           c: tensor([[[-0.8909, -0.4335, -0.1767,  0.5099],\n",
       "                       [ 1.5233, -0.1117,  0.5797,  0.2873],\n",
       "                       [-0.2449,  0.1913, -0.5707,  1.8499]],\n",
       "              \n",
       "                      [[-0.8909, -0.4335, -0.1767,  0.5099],\n",
       "                       [ 1.5233, -0.1117,  0.5797,  0.2873],\n",
       "                       [-0.2449,  0.1913, -0.5707,  1.8499]],\n",
       "              \n",
       "                      [[-0.8909, -0.4335, -0.1767,  0.5099],\n",
       "                       [ 1.5233, -0.1117,  0.5797,  0.2873],\n",
       "                       [-0.2449,  0.1913, -0.5707,  1.8499]],\n",
       "              \n",
       "                      [[-0.8909, -0.4335, -0.1767,  0.5099],\n",
       "                       [ 1.5233, -0.1117,  0.5797,  0.2873],\n",
       "                       [-0.2449,  0.1913, -0.5707,  1.8499]],\n",
       "              \n",
       "                      [[-0.8909, -0.4335, -0.1767,  0.5099],\n",
       "                       [ 1.5233, -0.1117,  0.5797,  0.2873],\n",
       "                       [-0.2449,  0.1913, -0.5707,  1.8499]],\n",
       "              \n",
       "                      [[-0.8909, -0.4335, -0.1767,  0.5099],\n",
       "                       [ 1.5233, -0.1117,  0.5797,  0.2873],\n",
       "                       [-0.2449,  0.1913, -0.5707,  1.8499]],\n",
       "              \n",
       "                      [[-0.8909, -0.4335, -0.1767,  0.5099],\n",
       "                       [ 1.5233, -0.1117,  0.5797,  0.2873],\n",
       "                       [-0.2449,  0.1913, -0.5707,  1.8499]],\n",
       "              \n",
       "                      [[-0.8909, -0.4335, -0.1767,  0.5099],\n",
       "                       [ 1.5233, -0.1117,  0.5797,  0.2873],\n",
       "                       [-0.2449,  0.1913, -0.5707,  1.8499]]]),\n",
       "       ),\n",
       "    a: tensor([[[ 0.6155,  0.3371, -0.2797],\n",
       "                [ 0.3713, -1.2238,  0.5611]],\n",
       "       \n",
       "               [[ 0.6155,  0.3371, -0.2797],\n",
       "                [ 0.3713, -1.2238,  0.5611]],\n",
       "       \n",
       "               [[ 0.6155,  0.3371, -0.2797],\n",
       "                [ 0.3713, -1.2238,  0.5611]],\n",
       "       \n",
       "               [[ 0.6155,  0.3371, -0.2797],\n",
       "                [ 0.3713, -1.2238,  0.5611]],\n",
       "       \n",
       "               [[ 0.6155,  0.3371, -0.2797],\n",
       "                [ 0.3713, -1.2238,  0.5611]],\n",
       "       \n",
       "               [[ 0.6155,  0.3371, -0.2797],\n",
       "                [ 0.3713, -1.2238,  0.5611]],\n",
       "       \n",
       "               [[ 0.6155,  0.3371, -0.2797],\n",
       "                [ 0.3713, -1.2238,  0.5611]],\n",
       "       \n",
       "               [[ 0.6155,  0.3371, -0.2797],\n",
       "                [ 0.3713, -1.2238,  0.5611]]]),\n",
       ")"
      ]
     },
     "execution_count": 25,
     "metadata": {},
     "output_type": "execute_result"
    }
   ],
   "source": [
    "batches = [Batch(**_TREE_DATA_2) for _ in range(8)]\n",
    "\n",
    "Batch.stack(batches)"
   ]
  },
  {
   "cell_type": "code",
   "execution_count": 26,
   "id": "ec9037a3",
   "metadata": {
    "execution": {
     "iopub.execute_input": "2023-04-16T15:27:38.720786Z",
     "iopub.status.busy": "2023-04-16T15:27:38.720349Z",
     "iopub.status.idle": "2023-04-16T15:27:45.188567Z",
     "shell.execute_reply": "2023-04-16T15:27:45.187827Z"
    }
   },
   "outputs": [
    {
     "name": "stdout",
     "output_type": "stream",
     "text": [
      "79.6 µs ± 141 ns per loop (mean ± std. dev. of 7 runs, 10,000 loops each)\n"
     ]
    }
   ],
   "source": [
    "%timeit Batch.stack(batches)"
   ]
  },
  {
   "cell_type": "code",
   "execution_count": 27,
   "id": "cb8ab77e",
   "metadata": {
    "execution": {
     "iopub.execute_input": "2023-04-16T15:27:45.192169Z",
     "iopub.status.busy": "2023-04-16T15:27:45.191640Z",
     "iopub.status.idle": "2023-04-16T15:27:45.199613Z",
     "shell.execute_reply": "2023-04-16T15:27:45.198893Z"
    }
   },
   "outputs": [
    {
     "data": {
      "text/plain": [
       "Batch(\n",
       "    x: Batch(\n",
       "           c: tensor([[-0.8909, -0.4335, -0.1767,  0.5099],\n",
       "                      [ 1.5233, -0.1117,  0.5797,  0.2873],\n",
       "                      [-0.2449,  0.1913, -0.5707,  1.8499],\n",
       "                      [-0.8909, -0.4335, -0.1767,  0.5099],\n",
       "                      [ 1.5233, -0.1117,  0.5797,  0.2873],\n",
       "                      [-0.2449,  0.1913, -0.5707,  1.8499],\n",
       "                      [-0.8909, -0.4335, -0.1767,  0.5099],\n",
       "                      [ 1.5233, -0.1117,  0.5797,  0.2873],\n",
       "                      [-0.2449,  0.1913, -0.5707,  1.8499],\n",
       "                      [-0.8909, -0.4335, -0.1767,  0.5099],\n",
       "                      [ 1.5233, -0.1117,  0.5797,  0.2873],\n",
       "                      [-0.2449,  0.1913, -0.5707,  1.8499],\n",
       "                      [-0.8909, -0.4335, -0.1767,  0.5099],\n",
       "                      [ 1.5233, -0.1117,  0.5797,  0.2873],\n",
       "                      [-0.2449,  0.1913, -0.5707,  1.8499],\n",
       "                      [-0.8909, -0.4335, -0.1767,  0.5099],\n",
       "                      [ 1.5233, -0.1117,  0.5797,  0.2873],\n",
       "                      [-0.2449,  0.1913, -0.5707,  1.8499],\n",
       "                      [-0.8909, -0.4335, -0.1767,  0.5099],\n",
       "                      [ 1.5233, -0.1117,  0.5797,  0.2873],\n",
       "                      [-0.2449,  0.1913, -0.5707,  1.8499],\n",
       "                      [-0.8909, -0.4335, -0.1767,  0.5099],\n",
       "                      [ 1.5233, -0.1117,  0.5797,  0.2873],\n",
       "                      [-0.2449,  0.1913, -0.5707,  1.8499]]),\n",
       "       ),\n",
       "    a: tensor([[ 0.6155,  0.3371, -0.2797],\n",
       "               [ 0.3713, -1.2238,  0.5611],\n",
       "               [ 0.6155,  0.3371, -0.2797],\n",
       "               [ 0.3713, -1.2238,  0.5611],\n",
       "               [ 0.6155,  0.3371, -0.2797],\n",
       "               [ 0.3713, -1.2238,  0.5611],\n",
       "               [ 0.6155,  0.3371, -0.2797],\n",
       "               [ 0.3713, -1.2238,  0.5611],\n",
       "               [ 0.6155,  0.3371, -0.2797],\n",
       "               [ 0.3713, -1.2238,  0.5611],\n",
       "               [ 0.6155,  0.3371, -0.2797],\n",
       "               [ 0.3713, -1.2238,  0.5611],\n",
       "               [ 0.6155,  0.3371, -0.2797],\n",
       "               [ 0.3713, -1.2238,  0.5611],\n",
       "               [ 0.6155,  0.3371, -0.2797],\n",
       "               [ 0.3713, -1.2238,  0.5611]]),\n",
       ")"
      ]
     },
     "execution_count": 27,
     "metadata": {},
     "output_type": "execute_result"
    }
   ],
   "source": [
    "Batch.cat(batches)"
   ]
  },
  {
   "cell_type": "code",
   "execution_count": 28,
   "id": "18dfb045",
   "metadata": {
    "execution": {
     "iopub.execute_input": "2023-04-16T15:27:45.202839Z",
     "iopub.status.busy": "2023-04-16T15:27:45.202289Z",
     "iopub.status.idle": "2023-04-16T15:27:57.105049Z",
     "shell.execute_reply": "2023-04-16T15:27:57.103624Z"
    }
   },
   "outputs": [
    {
     "name": "stdout",
     "output_type": "stream",
     "text": [
      "146 µs ± 475 ns per loop (mean ± std. dev. of 7 runs, 10,000 loops each)\n"
     ]
    }
   ],
   "source": [
    "%timeit Batch.cat(batches)"
   ]
  },
  {
   "cell_type": "code",
   "execution_count": 29,
   "id": "c6688e51",
   "metadata": {
    "execution": {
     "iopub.execute_input": "2023-04-16T15:27:57.108917Z",
     "iopub.status.busy": "2023-04-16T15:27:57.108504Z",
     "iopub.status.idle": "2023-04-16T15:27:59.883299Z",
     "shell.execute_reply": "2023-04-16T15:27:59.882629Z"
    }
   },
   "outputs": [
    {
     "name": "stdout",
     "output_type": "stream",
     "text": [
      "341 µs ± 2.44 µs per loop (mean ± std. dev. of 7 runs, 1,000 loops each)\n"
     ]
    }
   ],
   "source": [
    "batch = Batch({\n",
    "    'obs': torch.randn(8, 4, 84, 84),\n",
    "    'action': torch.randint(0, 6, size=(8, 1,)),\n",
    "    'reward': torch.rand(8, 1)}\n",
    ")\n",
    "\n",
    "%timeit list(Batch.split(batch, 1, shuffle=False, merge_last=True))"
   ]
  },
  {
   "cell_type": "code",
   "execution_count": null,
   "id": "2539fbd9",
   "metadata": {},
   "outputs": [],
   "source": []
  }
 ],
 "metadata": {
  "kernelspec": {
   "display_name": "Python 3 (ipykernel)",
   "language": "python",
   "name": "python3"
  },
  "language_info": {
   "codemirror_mode": {
    "name": "ipython",
    "version": 3
   },
   "file_extension": ".py",
   "mimetype": "text/x-python",
   "name": "python",
   "nbconvert_exporter": "python",
   "pygments_lexer": "ipython3",
   "version": "3.8.16"
  }
 },
 "nbformat": 4,
 "nbformat_minor": 5
}
