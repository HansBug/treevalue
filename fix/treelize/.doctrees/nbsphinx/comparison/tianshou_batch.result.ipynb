{
 "cells": [
  {
   "cell_type": "markdown",
   "id": "9d39d946",
   "metadata": {},
   "source": [
    "# Comparison Between TreeValue and Tianshou Batch"
   ]
  },
  {
   "cell_type": "markdown",
   "id": "3c6db2d4",
   "metadata": {},
   "source": [
    "In this section, we will take a look at the feature and performance of the [Tianshou Batch](https://github.com/thu-ml/tianshou) library, which is developed by Tsinghua Machine Learning Group."
   ]
  },
  {
   "cell_type": "markdown",
   "id": "069361b0",
   "metadata": {},
   "source": [
    "Before starting the comparison, let us define some thing."
   ]
  },
  {
   "cell_type": "code",
   "execution_count": 1,
   "id": "06fc8d26",
   "metadata": {
    "execution": {
     "iopub.execute_input": "2023-03-06T10:36:55.418924Z",
     "iopub.status.busy": "2023-03-06T10:36:55.418706Z",
     "iopub.status.idle": "2023-03-06T10:36:56.318224Z",
     "shell.execute_reply": "2023-03-06T10:36:56.317598Z"
    }
   },
   "outputs": [
    {
     "name": "stderr",
     "output_type": "stream",
     "text": [
      "/opt/hostedtoolcache/Python/3.8.16/x64/lib/python3.8/site-packages/tqdm/auto.py:21: TqdmWarning: IProgress not found. Please update jupyter and ipywidgets. See https://ipywidgets.readthedocs.io/en/stable/user_install.html\n",
      "  from .autonotebook import tqdm as notebook_tqdm\n"
     ]
    }
   ],
   "source": [
    "import torch \n",
    "\n",
    "_TREE_DATA_1 = {'a': 1, 'b': 2, 'x': {'c': 3, 'd': 4}}\n",
    "_TREE_DATA_2 = {\n",
    "    'a': torch.randn(2, 3), \n",
    "    'x': {\n",
    "        'c': torch.randn(3, 4)\n",
    "    },\n",
    "}\n",
    "_TREE_DATA_3 = {\n",
    "    'obs': torch.randn(4, 84, 84),\n",
    "    'action': torch.randint(0, 6, size=(1,)),\n",
    "    'reward': torch.rand(1),\n",
    "}"
   ]
  },
  {
   "cell_type": "markdown",
   "id": "83461b25",
   "metadata": {},
   "source": [
    "## Read and Write Operation"
   ]
  },
  {
   "cell_type": "markdown",
   "id": "067b3f73",
   "metadata": {},
   "source": [
    "Reading and writing are the two most common operations in the tree data structure based on the data model (TreeValue and Tianshou Batch both belong to this type), so this section will compare the reading and writing performance of these two libraries."
   ]
  },
  {
   "cell_type": "markdown",
   "id": "5d09a5b7",
   "metadata": {},
   "source": [
    "### TreeValue's Get and Set"
   ]
  },
  {
   "cell_type": "code",
   "execution_count": 2,
   "id": "9519c4bb",
   "metadata": {
    "execution": {
     "iopub.execute_input": "2023-03-06T10:36:56.321587Z",
     "iopub.status.busy": "2023-03-06T10:36:56.320976Z",
     "iopub.status.idle": "2023-03-06T10:36:56.600045Z",
     "shell.execute_reply": "2023-03-06T10:36:56.599380Z"
    }
   },
   "outputs": [],
   "source": [
    "from treevalue import FastTreeValue\n",
    "\n",
    "t = FastTreeValue(_TREE_DATA_2)"
   ]
  },
  {
   "cell_type": "code",
   "execution_count": 3,
   "id": "11c37677",
   "metadata": {
    "execution": {
     "iopub.execute_input": "2023-03-06T10:36:56.603580Z",
     "iopub.status.busy": "2023-03-06T10:36:56.603000Z",
     "iopub.status.idle": "2023-03-06T10:36:56.612305Z",
     "shell.execute_reply": "2023-03-06T10:36:56.611725Z"
    }
   },
   "outputs": [
    {
     "data": {
      "text/plain": [
       "<FastTreeValue 0x7f77049aaa30>\n",
       "├── 'a' --> tensor([[ 0.5464, -0.1315, -0.6195],\n",
       "│                   [ 0.2436,  1.2652,  0.5498]])\n",
       "└── 'x' --> <FastTreeValue 0x7f77049aad30>\n",
       "    └── 'c' --> tensor([[ 0.0510, -1.4767, -0.5923,  0.1371],\n",
       "                        [ 0.2061, -1.9645,  1.1369,  1.2084],\n",
       "                        [ 1.0340, -0.8003,  0.6450,  0.1957]])"
      ]
     },
     "execution_count": 3,
     "metadata": {},
     "output_type": "execute_result"
    }
   ],
   "source": [
    "t"
   ]
  },
  {
   "cell_type": "code",
   "execution_count": 4,
   "id": "fd70b0b9",
   "metadata": {
    "execution": {
     "iopub.execute_input": "2023-03-06T10:36:56.615007Z",
     "iopub.status.busy": "2023-03-06T10:36:56.614662Z",
     "iopub.status.idle": "2023-03-06T10:36:56.619643Z",
     "shell.execute_reply": "2023-03-06T10:36:56.619027Z"
    }
   },
   "outputs": [
    {
     "data": {
      "text/plain": [
       "tensor([[ 0.5464, -0.1315, -0.6195],\n",
       "        [ 0.2436,  1.2652,  0.5498]])"
      ]
     },
     "execution_count": 4,
     "metadata": {},
     "output_type": "execute_result"
    }
   ],
   "source": [
    "t.a"
   ]
  },
  {
   "cell_type": "code",
   "execution_count": 5,
   "id": "c18197bd",
   "metadata": {
    "execution": {
     "iopub.execute_input": "2023-03-06T10:36:56.622061Z",
     "iopub.status.busy": "2023-03-06T10:36:56.621731Z",
     "iopub.status.idle": "2023-03-06T10:37:01.835358Z",
     "shell.execute_reply": "2023-03-06T10:37:01.834641Z"
    }
   },
   "outputs": [
    {
     "name": "stdout",
     "output_type": "stream",
     "text": [
      "64.5 ns ± 0.0653 ns per loop (mean ± std. dev. of 7 runs, 10,000,000 loops each)\n"
     ]
    }
   ],
   "source": [
    "%timeit t.a"
   ]
  },
  {
   "cell_type": "code",
   "execution_count": 6,
   "id": "bd52f867",
   "metadata": {
    "execution": {
     "iopub.execute_input": "2023-03-06T10:37:01.838110Z",
     "iopub.status.busy": "2023-03-06T10:37:01.837759Z",
     "iopub.status.idle": "2023-03-06T10:37:01.844309Z",
     "shell.execute_reply": "2023-03-06T10:37:01.843744Z"
    }
   },
   "outputs": [
    {
     "data": {
      "text/plain": [
       "<FastTreeValue 0x7f77049aaa30>\n",
       "├── 'a' --> tensor([[-2.5174,  0.4183, -1.0256],\n",
       "│                   [ 2.8935,  0.9359,  0.6651]])\n",
       "└── 'x' --> <FastTreeValue 0x7f77049aad30>\n",
       "    └── 'c' --> tensor([[ 0.0510, -1.4767, -0.5923,  0.1371],\n",
       "                        [ 0.2061, -1.9645,  1.1369,  1.2084],\n",
       "                        [ 1.0340, -0.8003,  0.6450,  0.1957]])"
      ]
     },
     "execution_count": 6,
     "metadata": {},
     "output_type": "execute_result"
    }
   ],
   "source": [
    "new_value = torch.randn(2, 3)\n",
    "t.a = new_value\n",
    "\n",
    "t"
   ]
  },
  {
   "cell_type": "code",
   "execution_count": 7,
   "id": "bbe04d1c",
   "metadata": {
    "execution": {
     "iopub.execute_input": "2023-03-06T10:37:01.846995Z",
     "iopub.status.busy": "2023-03-06T10:37:01.846648Z",
     "iopub.status.idle": "2023-03-06T10:37:06.673952Z",
     "shell.execute_reply": "2023-03-06T10:37:06.673233Z"
    }
   },
   "outputs": [
    {
     "name": "stdout",
     "output_type": "stream",
     "text": [
      "59.5 ns ± 0.0184 ns per loop (mean ± std. dev. of 7 runs, 10,000,000 loops each)\n"
     ]
    }
   ],
   "source": [
    "%timeit t.a = new_value"
   ]
  },
  {
   "cell_type": "markdown",
   "id": "48c49731",
   "metadata": {},
   "source": [
    "### Tianshou Batch's Get and Set"
   ]
  },
  {
   "cell_type": "code",
   "execution_count": 8,
   "id": "f1bb14c1",
   "metadata": {
    "execution": {
     "iopub.execute_input": "2023-03-06T10:37:06.677263Z",
     "iopub.status.busy": "2023-03-06T10:37:06.676682Z",
     "iopub.status.idle": "2023-03-06T10:37:07.010817Z",
     "shell.execute_reply": "2023-03-06T10:37:07.010129Z"
    }
   },
   "outputs": [],
   "source": [
    "from tianshou.data import Batch\n",
    "\n",
    "b = Batch(**_TREE_DATA_2)"
   ]
  },
  {
   "cell_type": "code",
   "execution_count": 9,
   "id": "cb0777c3",
   "metadata": {
    "execution": {
     "iopub.execute_input": "2023-03-06T10:37:07.014351Z",
     "iopub.status.busy": "2023-03-06T10:37:07.013748Z",
     "iopub.status.idle": "2023-03-06T10:37:07.019109Z",
     "shell.execute_reply": "2023-03-06T10:37:07.018497Z"
    }
   },
   "outputs": [
    {
     "data": {
      "text/plain": [
       "Batch(\n",
       "    a: tensor([[ 0.5464, -0.1315, -0.6195],\n",
       "               [ 0.2436,  1.2652,  0.5498]]),\n",
       "    x: Batch(\n",
       "           c: tensor([[ 0.0510, -1.4767, -0.5923,  0.1371],\n",
       "                      [ 0.2061, -1.9645,  1.1369,  1.2084],\n",
       "                      [ 1.0340, -0.8003,  0.6450,  0.1957]]),\n",
       "       ),\n",
       ")"
      ]
     },
     "execution_count": 9,
     "metadata": {},
     "output_type": "execute_result"
    }
   ],
   "source": [
    "b"
   ]
  },
  {
   "cell_type": "code",
   "execution_count": 10,
   "id": "43ef8ea3",
   "metadata": {
    "execution": {
     "iopub.execute_input": "2023-03-06T10:37:07.021534Z",
     "iopub.status.busy": "2023-03-06T10:37:07.021187Z",
     "iopub.status.idle": "2023-03-06T10:37:07.025809Z",
     "shell.execute_reply": "2023-03-06T10:37:07.025211Z"
    }
   },
   "outputs": [
    {
     "data": {
      "text/plain": [
       "tensor([[ 0.5464, -0.1315, -0.6195],\n",
       "        [ 0.2436,  1.2652,  0.5498]])"
      ]
     },
     "execution_count": 10,
     "metadata": {},
     "output_type": "execute_result"
    }
   ],
   "source": [
    "b.a"
   ]
  },
  {
   "cell_type": "code",
   "execution_count": 11,
   "id": "b785ab72",
   "metadata": {
    "execution": {
     "iopub.execute_input": "2023-03-06T10:37:07.028215Z",
     "iopub.status.busy": "2023-03-06T10:37:07.027883Z",
     "iopub.status.idle": "2023-03-06T10:37:11.318790Z",
     "shell.execute_reply": "2023-03-06T10:37:11.318048Z"
    }
   },
   "outputs": [
    {
     "name": "stdout",
     "output_type": "stream",
     "text": [
      "52.8 ns ± 0.0382 ns per loop (mean ± std. dev. of 7 runs, 10,000,000 loops each)\n"
     ]
    }
   ],
   "source": [
    "%timeit b.a"
   ]
  },
  {
   "cell_type": "code",
   "execution_count": 12,
   "id": "ad54dc69",
   "metadata": {
    "execution": {
     "iopub.execute_input": "2023-03-06T10:37:11.322123Z",
     "iopub.status.busy": "2023-03-06T10:37:11.321475Z",
     "iopub.status.idle": "2023-03-06T10:37:11.327956Z",
     "shell.execute_reply": "2023-03-06T10:37:11.327376Z"
    }
   },
   "outputs": [
    {
     "data": {
      "text/plain": [
       "Batch(\n",
       "    a: tensor([[ 1.2854,  0.3197,  0.6126],\n",
       "               [ 0.4510, -0.1710, -1.4781]]),\n",
       "    x: Batch(\n",
       "           c: tensor([[ 0.0510, -1.4767, -0.5923,  0.1371],\n",
       "                      [ 0.2061, -1.9645,  1.1369,  1.2084],\n",
       "                      [ 1.0340, -0.8003,  0.6450,  0.1957]]),\n",
       "       ),\n",
       ")"
      ]
     },
     "execution_count": 12,
     "metadata": {},
     "output_type": "execute_result"
    }
   ],
   "source": [
    "new_value = torch.randn(2, 3)\n",
    "b.a = new_value\n",
    "\n",
    "b"
   ]
  },
  {
   "cell_type": "code",
   "execution_count": 13,
   "id": "29b1d0bf",
   "metadata": {
    "execution": {
     "iopub.execute_input": "2023-03-06T10:37:11.330335Z",
     "iopub.status.busy": "2023-03-06T10:37:11.330007Z",
     "iopub.status.idle": "2023-03-06T10:37:15.303420Z",
     "shell.execute_reply": "2023-03-06T10:37:15.302743Z"
    }
   },
   "outputs": [
    {
     "name": "stdout",
     "output_type": "stream",
     "text": [
      "489 ns ± 1.15 ns per loop (mean ± std. dev. of 7 runs, 1,000,000 loops each)\n"
     ]
    }
   ],
   "source": [
    "%timeit b.a = new_value"
   ]
  },
  {
   "cell_type": "markdown",
   "id": "b61ad1d0",
   "metadata": {},
   "source": [
    "## Initialization"
   ]
  },
  {
   "cell_type": "markdown",
   "id": "d70f0d54",
   "metadata": {},
   "source": [
    "### TreeValue's Initialization"
   ]
  },
  {
   "cell_type": "code",
   "execution_count": 14,
   "id": "d32a679b",
   "metadata": {
    "execution": {
     "iopub.execute_input": "2023-03-06T10:37:15.306533Z",
     "iopub.status.busy": "2023-03-06T10:37:15.306179Z",
     "iopub.status.idle": "2023-03-06T10:37:22.231269Z",
     "shell.execute_reply": "2023-03-06T10:37:22.230609Z"
    }
   },
   "outputs": [
    {
     "name": "stdout",
     "output_type": "stream",
     "text": [
      "853 ns ± 9.7 ns per loop (mean ± std. dev. of 7 runs, 1,000,000 loops each)\n"
     ]
    }
   ],
   "source": [
    "%timeit FastTreeValue(_TREE_DATA_1)"
   ]
  },
  {
   "cell_type": "markdown",
   "id": "24f3707b",
   "metadata": {},
   "source": [
    "### Tianshou Batch's Initialization"
   ]
  },
  {
   "cell_type": "code",
   "execution_count": 15,
   "id": "ac3958df",
   "metadata": {
    "execution": {
     "iopub.execute_input": "2023-03-06T10:37:22.234207Z",
     "iopub.status.busy": "2023-03-06T10:37:22.233964Z",
     "iopub.status.idle": "2023-03-06T10:37:31.466451Z",
     "shell.execute_reply": "2023-03-06T10:37:31.465786Z"
    }
   },
   "outputs": [
    {
     "name": "stdout",
     "output_type": "stream",
     "text": [
      "11.4 µs ± 28.9 ns per loop (mean ± std. dev. of 7 runs, 100,000 loops each)\n"
     ]
    }
   ],
   "source": [
    "%timeit Batch(**_TREE_DATA_1)"
   ]
  },
  {
   "cell_type": "markdown",
   "id": "1ab82e2d",
   "metadata": {},
   "source": [
    "## Deep Copy Operation"
   ]
  },
  {
   "cell_type": "code",
   "execution_count": 16,
   "id": "210a9442",
   "metadata": {
    "execution": {
     "iopub.execute_input": "2023-03-06T10:37:31.469475Z",
     "iopub.status.busy": "2023-03-06T10:37:31.469103Z",
     "iopub.status.idle": "2023-03-06T10:37:31.473064Z",
     "shell.execute_reply": "2023-03-06T10:37:31.472486Z"
    }
   },
   "outputs": [],
   "source": [
    "import copy"
   ]
  },
  {
   "cell_type": "markdown",
   "id": "5a736274",
   "metadata": {},
   "source": [
    "### Deep Copy of TreeValue"
   ]
  },
  {
   "cell_type": "code",
   "execution_count": 17,
   "id": "f9bcadd6",
   "metadata": {
    "execution": {
     "iopub.execute_input": "2023-03-06T10:37:31.475494Z",
     "iopub.status.busy": "2023-03-06T10:37:31.475161Z",
     "iopub.status.idle": "2023-03-06T10:37:42.805331Z",
     "shell.execute_reply": "2023-03-06T10:37:42.804755Z"
    }
   },
   "outputs": [
    {
     "name": "stdout",
     "output_type": "stream",
     "text": [
      "140 µs ± 414 ns per loop (mean ± std. dev. of 7 runs, 10,000 loops each)\n"
     ]
    }
   ],
   "source": [
    "t3 = FastTreeValue(_TREE_DATA_3)\n",
    "%timeit copy.deepcopy(t3)"
   ]
  },
  {
   "cell_type": "markdown",
   "id": "bf8be7ea",
   "metadata": {},
   "source": [
    "### Deep Copy of Tianshou Batch"
   ]
  },
  {
   "cell_type": "code",
   "execution_count": 18,
   "id": "91998e6f",
   "metadata": {
    "execution": {
     "iopub.execute_input": "2023-03-06T10:37:42.812462Z",
     "iopub.status.busy": "2023-03-06T10:37:42.812111Z",
     "iopub.status.idle": "2023-03-06T10:37:53.917368Z",
     "shell.execute_reply": "2023-03-06T10:37:53.916787Z"
    }
   },
   "outputs": [
    {
     "name": "stdout",
     "output_type": "stream",
     "text": [
      "137 µs ± 335 ns per loop (mean ± std. dev. of 7 runs, 10,000 loops each)\n"
     ]
    }
   ],
   "source": [
    "b3 = Batch(**_TREE_DATA_3)\n",
    "%timeit copy.deepcopy(b3)"
   ]
  },
  {
   "cell_type": "markdown",
   "id": "223162fb",
   "metadata": {},
   "source": [
    "## Stack, Concat and Split Operation"
   ]
  },
  {
   "cell_type": "markdown",
   "id": "85fa4a73",
   "metadata": {},
   "source": [
    "### Performance of TreeValue"
   ]
  },
  {
   "cell_type": "code",
   "execution_count": 19,
   "id": "a0c2b697",
   "metadata": {
    "execution": {
     "iopub.execute_input": "2023-03-06T10:37:53.921529Z",
     "iopub.status.busy": "2023-03-06T10:37:53.920287Z",
     "iopub.status.idle": "2023-03-06T10:37:53.924881Z",
     "shell.execute_reply": "2023-03-06T10:37:53.924299Z"
    }
   },
   "outputs": [],
   "source": [
    "trees = [FastTreeValue(_TREE_DATA_2) for _ in range(8)]"
   ]
  },
  {
   "cell_type": "code",
   "execution_count": 20,
   "id": "017ea5a5",
   "metadata": {
    "execution": {
     "iopub.execute_input": "2023-03-06T10:37:53.927937Z",
     "iopub.status.busy": "2023-03-06T10:37:53.927430Z",
     "iopub.status.idle": "2023-03-06T10:37:53.936210Z",
     "shell.execute_reply": "2023-03-06T10:37:53.935645Z"
    }
   },
   "outputs": [
    {
     "data": {
      "text/plain": [
       "<FastTreeValue 0x7f77049b01c0>\n",
       "├── 'a' --> tensor([[[ 0.5464, -0.1315, -0.6195],\n",
       "│                    [ 0.2436,  1.2652,  0.5498]],\n",
       "│           \n",
       "│                   [[ 0.5464, -0.1315, -0.6195],\n",
       "│                    [ 0.2436,  1.2652,  0.5498]],\n",
       "│           \n",
       "│                   [[ 0.5464, -0.1315, -0.6195],\n",
       "│                    [ 0.2436,  1.2652,  0.5498]],\n",
       "│           \n",
       "│                   [[ 0.5464, -0.1315, -0.6195],\n",
       "│                    [ 0.2436,  1.2652,  0.5498]],\n",
       "│           \n",
       "│                   [[ 0.5464, -0.1315, -0.6195],\n",
       "│                    [ 0.2436,  1.2652,  0.5498]],\n",
       "│           \n",
       "│                   [[ 0.5464, -0.1315, -0.6195],\n",
       "│                    [ 0.2436,  1.2652,  0.5498]],\n",
       "│           \n",
       "│                   [[ 0.5464, -0.1315, -0.6195],\n",
       "│                    [ 0.2436,  1.2652,  0.5498]],\n",
       "│           \n",
       "│                   [[ 0.5464, -0.1315, -0.6195],\n",
       "│                    [ 0.2436,  1.2652,  0.5498]]])\n",
       "└── 'x' --> <FastTreeValue 0x7f77049b0340>\n",
       "    └── 'c' --> tensor([[[ 0.0510, -1.4767, -0.5923,  0.1371],\n",
       "                         [ 0.2061, -1.9645,  1.1369,  1.2084],\n",
       "                         [ 1.0340, -0.8003,  0.6450,  0.1957]],\n",
       "                \n",
       "                        [[ 0.0510, -1.4767, -0.5923,  0.1371],\n",
       "                         [ 0.2061, -1.9645,  1.1369,  1.2084],\n",
       "                         [ 1.0340, -0.8003,  0.6450,  0.1957]],\n",
       "                \n",
       "                        [[ 0.0510, -1.4767, -0.5923,  0.1371],\n",
       "                         [ 0.2061, -1.9645,  1.1369,  1.2084],\n",
       "                         [ 1.0340, -0.8003,  0.6450,  0.1957]],\n",
       "                \n",
       "                        [[ 0.0510, -1.4767, -0.5923,  0.1371],\n",
       "                         [ 0.2061, -1.9645,  1.1369,  1.2084],\n",
       "                         [ 1.0340, -0.8003,  0.6450,  0.1957]],\n",
       "                \n",
       "                        [[ 0.0510, -1.4767, -0.5923,  0.1371],\n",
       "                         [ 0.2061, -1.9645,  1.1369,  1.2084],\n",
       "                         [ 1.0340, -0.8003,  0.6450,  0.1957]],\n",
       "                \n",
       "                        [[ 0.0510, -1.4767, -0.5923,  0.1371],\n",
       "                         [ 0.2061, -1.9645,  1.1369,  1.2084],\n",
       "                         [ 1.0340, -0.8003,  0.6450,  0.1957]],\n",
       "                \n",
       "                        [[ 0.0510, -1.4767, -0.5923,  0.1371],\n",
       "                         [ 0.2061, -1.9645,  1.1369,  1.2084],\n",
       "                         [ 1.0340, -0.8003,  0.6450,  0.1957]],\n",
       "                \n",
       "                        [[ 0.0510, -1.4767, -0.5923,  0.1371],\n",
       "                         [ 0.2061, -1.9645,  1.1369,  1.2084],\n",
       "                         [ 1.0340, -0.8003,  0.6450,  0.1957]]])"
      ]
     },
     "execution_count": 20,
     "metadata": {},
     "output_type": "execute_result"
    }
   ],
   "source": [
    "t_stack = FastTreeValue.func(subside=True)(torch.stack)\n",
    "\n",
    "t_stack(trees)"
   ]
  },
  {
   "cell_type": "code",
   "execution_count": 21,
   "id": "f8b3f415",
   "metadata": {
    "execution": {
     "iopub.execute_input": "2023-03-06T10:37:53.938995Z",
     "iopub.status.busy": "2023-03-06T10:37:53.938594Z",
     "iopub.status.idle": "2023-03-06T10:37:56.656704Z",
     "shell.execute_reply": "2023-03-06T10:37:56.655954Z"
    }
   },
   "outputs": [
    {
     "name": "stdout",
     "output_type": "stream",
     "text": [
      "33.4 µs ± 75.8 ns per loop (mean ± std. dev. of 7 runs, 10,000 loops each)\n"
     ]
    }
   ],
   "source": [
    "%timeit t_stack(trees)"
   ]
  },
  {
   "cell_type": "code",
   "execution_count": 22,
   "id": "94b56771",
   "metadata": {
    "execution": {
     "iopub.execute_input": "2023-03-06T10:37:56.659948Z",
     "iopub.status.busy": "2023-03-06T10:37:56.659375Z",
     "iopub.status.idle": "2023-03-06T10:37:56.667149Z",
     "shell.execute_reply": "2023-03-06T10:37:56.666558Z"
    }
   },
   "outputs": [
    {
     "data": {
      "text/plain": [
       "<FastTreeValue 0x7f764ec56d30>\n",
       "├── 'a' --> tensor([[ 0.5464, -0.1315, -0.6195],\n",
       "│                   [ 0.2436,  1.2652,  0.5498],\n",
       "│                   [ 0.5464, -0.1315, -0.6195],\n",
       "│                   [ 0.2436,  1.2652,  0.5498],\n",
       "│                   [ 0.5464, -0.1315, -0.6195],\n",
       "│                   [ 0.2436,  1.2652,  0.5498],\n",
       "│                   [ 0.5464, -0.1315, -0.6195],\n",
       "│                   [ 0.2436,  1.2652,  0.5498],\n",
       "│                   [ 0.5464, -0.1315, -0.6195],\n",
       "│                   [ 0.2436,  1.2652,  0.5498],\n",
       "│                   [ 0.5464, -0.1315, -0.6195],\n",
       "│                   [ 0.2436,  1.2652,  0.5498],\n",
       "│                   [ 0.5464, -0.1315, -0.6195],\n",
       "│                   [ 0.2436,  1.2652,  0.5498],\n",
       "│                   [ 0.5464, -0.1315, -0.6195],\n",
       "│                   [ 0.2436,  1.2652,  0.5498]])\n",
       "└── 'x' --> <FastTreeValue 0x7f764ec56d00>\n",
       "    └── 'c' --> tensor([[ 0.0510, -1.4767, -0.5923,  0.1371],\n",
       "                        [ 0.2061, -1.9645,  1.1369,  1.2084],\n",
       "                        [ 1.0340, -0.8003,  0.6450,  0.1957],\n",
       "                        [ 0.0510, -1.4767, -0.5923,  0.1371],\n",
       "                        [ 0.2061, -1.9645,  1.1369,  1.2084],\n",
       "                        [ 1.0340, -0.8003,  0.6450,  0.1957],\n",
       "                        [ 0.0510, -1.4767, -0.5923,  0.1371],\n",
       "                        [ 0.2061, -1.9645,  1.1369,  1.2084],\n",
       "                        [ 1.0340, -0.8003,  0.6450,  0.1957],\n",
       "                        [ 0.0510, -1.4767, -0.5923,  0.1371],\n",
       "                        [ 0.2061, -1.9645,  1.1369,  1.2084],\n",
       "                        [ 1.0340, -0.8003,  0.6450,  0.1957],\n",
       "                        [ 0.0510, -1.4767, -0.5923,  0.1371],\n",
       "                        [ 0.2061, -1.9645,  1.1369,  1.2084],\n",
       "                        [ 1.0340, -0.8003,  0.6450,  0.1957],\n",
       "                        [ 0.0510, -1.4767, -0.5923,  0.1371],\n",
       "                        [ 0.2061, -1.9645,  1.1369,  1.2084],\n",
       "                        [ 1.0340, -0.8003,  0.6450,  0.1957],\n",
       "                        [ 0.0510, -1.4767, -0.5923,  0.1371],\n",
       "                        [ 0.2061, -1.9645,  1.1369,  1.2084],\n",
       "                        [ 1.0340, -0.8003,  0.6450,  0.1957],\n",
       "                        [ 0.0510, -1.4767, -0.5923,  0.1371],\n",
       "                        [ 0.2061, -1.9645,  1.1369,  1.2084],\n",
       "                        [ 1.0340, -0.8003,  0.6450,  0.1957]])"
      ]
     },
     "execution_count": 22,
     "metadata": {},
     "output_type": "execute_result"
    }
   ],
   "source": [
    "t_cat = FastTreeValue.func(subside=True)(torch.cat)\n",
    "\n",
    "t_cat(trees)"
   ]
  },
  {
   "cell_type": "code",
   "execution_count": 23,
   "id": "5e9c06a6",
   "metadata": {
    "execution": {
     "iopub.execute_input": "2023-03-06T10:37:56.669624Z",
     "iopub.status.busy": "2023-03-06T10:37:56.669312Z",
     "iopub.status.idle": "2023-03-06T10:37:59.149878Z",
     "shell.execute_reply": "2023-03-06T10:37:59.149155Z"
    }
   },
   "outputs": [
    {
     "name": "stdout",
     "output_type": "stream",
     "text": [
      "30.5 µs ± 106 ns per loop (mean ± std. dev. of 7 runs, 10,000 loops each)\n"
     ]
    }
   ],
   "source": [
    "%timeit t_cat(trees)"
   ]
  },
  {
   "cell_type": "code",
   "execution_count": 24,
   "id": "a3ab5c8f",
   "metadata": {
    "execution": {
     "iopub.execute_input": "2023-03-06T10:37:59.152955Z",
     "iopub.status.busy": "2023-03-06T10:37:59.152323Z",
     "iopub.status.idle": "2023-03-06T10:38:03.806856Z",
     "shell.execute_reply": "2023-03-06T10:38:03.806180Z"
    }
   },
   "outputs": [
    {
     "name": "stdout",
     "output_type": "stream",
     "text": [
      "57.2 µs ± 110 ns per loop (mean ± std. dev. of 7 runs, 10,000 loops each)\n"
     ]
    }
   ],
   "source": [
    "t_split = FastTreeValue.func(rise=True)(torch.split)\n",
    "tree = FastTreeValue({\n",
    "    'obs': torch.randn(8, 4, 84, 84),\n",
    "    'action': torch.randint(0, 6, size=(8, 1,)),\n",
    "    'reward': torch.rand(8, 1),\n",
    "})\n",
    "\n",
    "%timeit t_split(tree, 1)"
   ]
  },
  {
   "cell_type": "markdown",
   "id": "31c3ec0b",
   "metadata": {},
   "source": [
    "### Performance of Tianshou Batch"
   ]
  },
  {
   "cell_type": "code",
   "execution_count": 25,
   "id": "9ead828a",
   "metadata": {
    "execution": {
     "iopub.execute_input": "2023-03-06T10:38:03.809679Z",
     "iopub.status.busy": "2023-03-06T10:38:03.809323Z",
     "iopub.status.idle": "2023-03-06T10:38:03.817203Z",
     "shell.execute_reply": "2023-03-06T10:38:03.816624Z"
    }
   },
   "outputs": [
    {
     "data": {
      "text/plain": [
       "Batch(\n",
       "    a: tensor([[[ 0.5464, -0.1315, -0.6195],\n",
       "                [ 0.2436,  1.2652,  0.5498]],\n",
       "       \n",
       "               [[ 0.5464, -0.1315, -0.6195],\n",
       "                [ 0.2436,  1.2652,  0.5498]],\n",
       "       \n",
       "               [[ 0.5464, -0.1315, -0.6195],\n",
       "                [ 0.2436,  1.2652,  0.5498]],\n",
       "       \n",
       "               [[ 0.5464, -0.1315, -0.6195],\n",
       "                [ 0.2436,  1.2652,  0.5498]],\n",
       "       \n",
       "               [[ 0.5464, -0.1315, -0.6195],\n",
       "                [ 0.2436,  1.2652,  0.5498]],\n",
       "       \n",
       "               [[ 0.5464, -0.1315, -0.6195],\n",
       "                [ 0.2436,  1.2652,  0.5498]],\n",
       "       \n",
       "               [[ 0.5464, -0.1315, -0.6195],\n",
       "                [ 0.2436,  1.2652,  0.5498]],\n",
       "       \n",
       "               [[ 0.5464, -0.1315, -0.6195],\n",
       "                [ 0.2436,  1.2652,  0.5498]]]),\n",
       "    x: Batch(\n",
       "           c: tensor([[[ 0.0510, -1.4767, -0.5923,  0.1371],\n",
       "                       [ 0.2061, -1.9645,  1.1369,  1.2084],\n",
       "                       [ 1.0340, -0.8003,  0.6450,  0.1957]],\n",
       "              \n",
       "                      [[ 0.0510, -1.4767, -0.5923,  0.1371],\n",
       "                       [ 0.2061, -1.9645,  1.1369,  1.2084],\n",
       "                       [ 1.0340, -0.8003,  0.6450,  0.1957]],\n",
       "              \n",
       "                      [[ 0.0510, -1.4767, -0.5923,  0.1371],\n",
       "                       [ 0.2061, -1.9645,  1.1369,  1.2084],\n",
       "                       [ 1.0340, -0.8003,  0.6450,  0.1957]],\n",
       "              \n",
       "                      [[ 0.0510, -1.4767, -0.5923,  0.1371],\n",
       "                       [ 0.2061, -1.9645,  1.1369,  1.2084],\n",
       "                       [ 1.0340, -0.8003,  0.6450,  0.1957]],\n",
       "              \n",
       "                      [[ 0.0510, -1.4767, -0.5923,  0.1371],\n",
       "                       [ 0.2061, -1.9645,  1.1369,  1.2084],\n",
       "                       [ 1.0340, -0.8003,  0.6450,  0.1957]],\n",
       "              \n",
       "                      [[ 0.0510, -1.4767, -0.5923,  0.1371],\n",
       "                       [ 0.2061, -1.9645,  1.1369,  1.2084],\n",
       "                       [ 1.0340, -0.8003,  0.6450,  0.1957]],\n",
       "              \n",
       "                      [[ 0.0510, -1.4767, -0.5923,  0.1371],\n",
       "                       [ 0.2061, -1.9645,  1.1369,  1.2084],\n",
       "                       [ 1.0340, -0.8003,  0.6450,  0.1957]],\n",
       "              \n",
       "                      [[ 0.0510, -1.4767, -0.5923,  0.1371],\n",
       "                       [ 0.2061, -1.9645,  1.1369,  1.2084],\n",
       "                       [ 1.0340, -0.8003,  0.6450,  0.1957]]]),\n",
       "       ),\n",
       ")"
      ]
     },
     "execution_count": 25,
     "metadata": {},
     "output_type": "execute_result"
    }
   ],
   "source": [
    "batches = [Batch(**_TREE_DATA_2) for _ in range(8)]\n",
    "\n",
    "Batch.stack(batches)"
   ]
  },
  {
   "cell_type": "code",
   "execution_count": 26,
   "id": "ec9037a3",
   "metadata": {
    "execution": {
     "iopub.execute_input": "2023-03-06T10:38:03.819662Z",
     "iopub.status.busy": "2023-03-06T10:38:03.819318Z",
     "iopub.status.idle": "2023-03-06T10:38:10.106712Z",
     "shell.execute_reply": "2023-03-06T10:38:10.106002Z"
    }
   },
   "outputs": [
    {
     "name": "stdout",
     "output_type": "stream",
     "text": [
      "77.3 µs ± 151 ns per loop (mean ± std. dev. of 7 runs, 10,000 loops each)\n"
     ]
    }
   ],
   "source": [
    "%timeit Batch.stack(batches)"
   ]
  },
  {
   "cell_type": "code",
   "execution_count": 27,
   "id": "cb8ab77e",
   "metadata": {
    "execution": {
     "iopub.execute_input": "2023-03-06T10:38:10.109729Z",
     "iopub.status.busy": "2023-03-06T10:38:10.109175Z",
     "iopub.status.idle": "2023-03-06T10:38:10.116609Z",
     "shell.execute_reply": "2023-03-06T10:38:10.116036Z"
    }
   },
   "outputs": [
    {
     "data": {
      "text/plain": [
       "Batch(\n",
       "    a: tensor([[ 0.5464, -0.1315, -0.6195],\n",
       "               [ 0.2436,  1.2652,  0.5498],\n",
       "               [ 0.5464, -0.1315, -0.6195],\n",
       "               [ 0.2436,  1.2652,  0.5498],\n",
       "               [ 0.5464, -0.1315, -0.6195],\n",
       "               [ 0.2436,  1.2652,  0.5498],\n",
       "               [ 0.5464, -0.1315, -0.6195],\n",
       "               [ 0.2436,  1.2652,  0.5498],\n",
       "               [ 0.5464, -0.1315, -0.6195],\n",
       "               [ 0.2436,  1.2652,  0.5498],\n",
       "               [ 0.5464, -0.1315, -0.6195],\n",
       "               [ 0.2436,  1.2652,  0.5498],\n",
       "               [ 0.5464, -0.1315, -0.6195],\n",
       "               [ 0.2436,  1.2652,  0.5498],\n",
       "               [ 0.5464, -0.1315, -0.6195],\n",
       "               [ 0.2436,  1.2652,  0.5498]]),\n",
       "    x: Batch(\n",
       "           c: tensor([[ 0.0510, -1.4767, -0.5923,  0.1371],\n",
       "                      [ 0.2061, -1.9645,  1.1369,  1.2084],\n",
       "                      [ 1.0340, -0.8003,  0.6450,  0.1957],\n",
       "                      [ 0.0510, -1.4767, -0.5923,  0.1371],\n",
       "                      [ 0.2061, -1.9645,  1.1369,  1.2084],\n",
       "                      [ 1.0340, -0.8003,  0.6450,  0.1957],\n",
       "                      [ 0.0510, -1.4767, -0.5923,  0.1371],\n",
       "                      [ 0.2061, -1.9645,  1.1369,  1.2084],\n",
       "                      [ 1.0340, -0.8003,  0.6450,  0.1957],\n",
       "                      [ 0.0510, -1.4767, -0.5923,  0.1371],\n",
       "                      [ 0.2061, -1.9645,  1.1369,  1.2084],\n",
       "                      [ 1.0340, -0.8003,  0.6450,  0.1957],\n",
       "                      [ 0.0510, -1.4767, -0.5923,  0.1371],\n",
       "                      [ 0.2061, -1.9645,  1.1369,  1.2084],\n",
       "                      [ 1.0340, -0.8003,  0.6450,  0.1957],\n",
       "                      [ 0.0510, -1.4767, -0.5923,  0.1371],\n",
       "                      [ 0.2061, -1.9645,  1.1369,  1.2084],\n",
       "                      [ 1.0340, -0.8003,  0.6450,  0.1957],\n",
       "                      [ 0.0510, -1.4767, -0.5923,  0.1371],\n",
       "                      [ 0.2061, -1.9645,  1.1369,  1.2084],\n",
       "                      [ 1.0340, -0.8003,  0.6450,  0.1957],\n",
       "                      [ 0.0510, -1.4767, -0.5923,  0.1371],\n",
       "                      [ 0.2061, -1.9645,  1.1369,  1.2084],\n",
       "                      [ 1.0340, -0.8003,  0.6450,  0.1957]]),\n",
       "       ),\n",
       ")"
      ]
     },
     "execution_count": 27,
     "metadata": {},
     "output_type": "execute_result"
    }
   ],
   "source": [
    "Batch.cat(batches)"
   ]
  },
  {
   "cell_type": "code",
   "execution_count": 28,
   "id": "18dfb045",
   "metadata": {
    "execution": {
     "iopub.execute_input": "2023-03-06T10:38:10.118995Z",
     "iopub.status.busy": "2023-03-06T10:38:10.118711Z",
     "iopub.status.idle": "2023-03-06T10:38:21.643889Z",
     "shell.execute_reply": "2023-03-06T10:38:21.643129Z"
    }
   },
   "outputs": [
    {
     "name": "stdout",
     "output_type": "stream",
     "text": [
      "142 µs ± 524 ns per loop (mean ± std. dev. of 7 runs, 10,000 loops each)\n"
     ]
    }
   ],
   "source": [
    "%timeit Batch.cat(batches)"
   ]
  },
  {
   "cell_type": "code",
   "execution_count": 29,
   "id": "c6688e51",
   "metadata": {
    "execution": {
     "iopub.execute_input": "2023-03-06T10:38:21.646774Z",
     "iopub.status.busy": "2023-03-06T10:38:21.646422Z",
     "iopub.status.idle": "2023-03-06T10:38:24.171382Z",
     "shell.execute_reply": "2023-03-06T10:38:24.170657Z"
    }
   },
   "outputs": [
    {
     "name": "stdout",
     "output_type": "stream",
     "text": [
      "310 µs ± 2.82 µs per loop (mean ± std. dev. of 7 runs, 1,000 loops each)\n"
     ]
    }
   ],
   "source": [
    "batch = Batch({\n",
    "    'obs': torch.randn(8, 4, 84, 84),\n",
    "    'action': torch.randint(0, 6, size=(8, 1,)),\n",
    "    'reward': torch.rand(8, 1)}\n",
    ")\n",
    "\n",
    "%timeit list(Batch.split(batch, 1, shuffle=False, merge_last=True))"
   ]
  },
  {
   "cell_type": "code",
   "execution_count": null,
   "id": "2539fbd9",
   "metadata": {},
   "outputs": [],
   "source": []
  }
 ],
 "metadata": {
  "kernelspec": {
   "display_name": "Python 3 (ipykernel)",
   "language": "python",
   "name": "python3"
  },
  "language_info": {
   "codemirror_mode": {
    "name": "ipython",
    "version": 3
   },
   "file_extension": ".py",
   "mimetype": "text/x-python",
   "name": "python",
   "nbconvert_exporter": "python",
   "pygments_lexer": "ipython3",
   "version": "3.8.16"
  }
 },
 "nbformat": 4,
 "nbformat_minor": 5
}
