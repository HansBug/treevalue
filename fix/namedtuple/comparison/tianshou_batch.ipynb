{
 "cells": [
  {
   "cell_type": "markdown",
   "id": "9d39d946",
   "metadata": {},
   "source": [
    "# Comparison Between TreeValue and Tianshou Batch"
   ]
  },
  {
   "cell_type": "markdown",
   "id": "3c6db2d4",
   "metadata": {},
   "source": [
    "In this section, we will take a look at the feature and performance of the [Tianshou Batch](https://github.com/thu-ml/tianshou) library, which is developed by Tsinghua Machine Learning Group."
   ]
  },
  {
   "cell_type": "markdown",
   "id": "069361b0",
   "metadata": {},
   "source": [
    "Before starting the comparison, let us define some thing."
   ]
  },
  {
   "cell_type": "code",
   "execution_count": 1,
   "id": "06fc8d26",
   "metadata": {
    "execution": {
     "iopub.execute_input": "2023-02-24T08:44:17.901556Z",
     "iopub.status.busy": "2023-02-24T08:44:17.900956Z",
     "iopub.status.idle": "2023-02-24T08:44:18.858604Z",
     "shell.execute_reply": "2023-02-24T08:44:18.857866Z"
    }
   },
   "outputs": [
    {
     "name": "stderr",
     "output_type": "stream",
     "text": [
      "/opt/hostedtoolcache/Python/3.8.16/x64/lib/python3.8/site-packages/tqdm/auto.py:22: TqdmWarning: IProgress not found. Please update jupyter and ipywidgets. See https://ipywidgets.readthedocs.io/en/stable/user_install.html\n",
      "  from .autonotebook import tqdm as notebook_tqdm\n"
     ]
    }
   ],
   "source": [
    "import torch \n",
    "\n",
    "_TREE_DATA_1 = {'a': 1, 'b': 2, 'x': {'c': 3, 'd': 4}}\n",
    "_TREE_DATA_2 = {\n",
    "    'a': torch.randn(2, 3), \n",
    "    'x': {\n",
    "        'c': torch.randn(3, 4)\n",
    "    },\n",
    "}\n",
    "_TREE_DATA_3 = {\n",
    "    'obs': torch.randn(4, 84, 84),\n",
    "    'action': torch.randint(0, 6, size=(1,)),\n",
    "    'reward': torch.rand(1),\n",
    "}"
   ]
  },
  {
   "cell_type": "markdown",
   "id": "83461b25",
   "metadata": {},
   "source": [
    "## Read and Write Operation"
   ]
  },
  {
   "cell_type": "markdown",
   "id": "067b3f73",
   "metadata": {},
   "source": [
    "Reading and writing are the two most common operations in the tree data structure based on the data model (TreeValue and Tianshou Batch both belong to this type), so this section will compare the reading and writing performance of these two libraries."
   ]
  },
  {
   "cell_type": "markdown",
   "id": "5d09a5b7",
   "metadata": {},
   "source": [
    "### TreeValue's Get and Set"
   ]
  },
  {
   "cell_type": "code",
   "execution_count": 2,
   "id": "9519c4bb",
   "metadata": {
    "execution": {
     "iopub.execute_input": "2023-02-24T08:44:18.862489Z",
     "iopub.status.busy": "2023-02-24T08:44:18.861808Z",
     "iopub.status.idle": "2023-02-24T08:44:18.896534Z",
     "shell.execute_reply": "2023-02-24T08:44:18.895848Z"
    }
   },
   "outputs": [],
   "source": [
    "from treevalue import FastTreeValue\n",
    "\n",
    "t = FastTreeValue(_TREE_DATA_2)"
   ]
  },
  {
   "cell_type": "code",
   "execution_count": 3,
   "id": "11c37677",
   "metadata": {
    "execution": {
     "iopub.execute_input": "2023-02-24T08:44:18.900097Z",
     "iopub.status.busy": "2023-02-24T08:44:18.899487Z",
     "iopub.status.idle": "2023-02-24T08:44:18.909354Z",
     "shell.execute_reply": "2023-02-24T08:44:18.908696Z"
    }
   },
   "outputs": [
    {
     "data": {
      "text/plain": [
       "<FastTreeValue 0x7fe088620f40>\n",
       "├── 'a' --> tensor([[-0.7819,  1.6581,  0.9676],\n",
       "│                   [-0.2390,  0.5912,  0.3134]])\n",
       "└── 'x' --> <FastTreeValue 0x7fe088620f10>\n",
       "    └── 'c' --> tensor([[-1.5627, -0.5615,  0.0244, -0.9923],\n",
       "                        [-0.3506,  0.9833,  0.0886, -1.1612],\n",
       "                        [-0.2403, -1.5833, -1.2538, -0.0843]])"
      ]
     },
     "execution_count": 3,
     "metadata": {},
     "output_type": "execute_result"
    }
   ],
   "source": [
    "t"
   ]
  },
  {
   "cell_type": "code",
   "execution_count": 4,
   "id": "fd70b0b9",
   "metadata": {
    "execution": {
     "iopub.execute_input": "2023-02-24T08:44:18.912549Z",
     "iopub.status.busy": "2023-02-24T08:44:18.911970Z",
     "iopub.status.idle": "2023-02-24T08:44:18.918423Z",
     "shell.execute_reply": "2023-02-24T08:44:18.917795Z"
    }
   },
   "outputs": [
    {
     "data": {
      "text/plain": [
       "tensor([[-0.7819,  1.6581,  0.9676],\n",
       "        [-0.2390,  0.5912,  0.3134]])"
      ]
     },
     "execution_count": 4,
     "metadata": {},
     "output_type": "execute_result"
    }
   ],
   "source": [
    "t.a"
   ]
  },
  {
   "cell_type": "code",
   "execution_count": 5,
   "id": "c18197bd",
   "metadata": {
    "execution": {
     "iopub.execute_input": "2023-02-24T08:44:18.921540Z",
     "iopub.status.busy": "2023-02-24T08:44:18.920935Z",
     "iopub.status.idle": "2023-02-24T08:44:23.904596Z",
     "shell.execute_reply": "2023-02-24T08:44:23.903786Z"
    }
   },
   "outputs": [
    {
     "name": "stdout",
     "output_type": "stream",
     "text": [
      "61.3 ns ± 0.0462 ns per loop (mean ± std. dev. of 7 runs, 10,000,000 loops each)\n"
     ]
    }
   ],
   "source": [
    "%timeit t.a"
   ]
  },
  {
   "cell_type": "code",
   "execution_count": 6,
   "id": "bd52f867",
   "metadata": {
    "execution": {
     "iopub.execute_input": "2023-02-24T08:44:23.907489Z",
     "iopub.status.busy": "2023-02-24T08:44:23.907109Z",
     "iopub.status.idle": "2023-02-24T08:44:23.913931Z",
     "shell.execute_reply": "2023-02-24T08:44:23.913315Z"
    }
   },
   "outputs": [
    {
     "data": {
      "text/plain": [
       "<FastTreeValue 0x7fe088620f40>\n",
       "├── 'a' --> tensor([[ 0.1226,  0.2744,  0.6054],\n",
       "│                   [-2.6054,  0.6436, -0.8298]])\n",
       "└── 'x' --> <FastTreeValue 0x7fe088620f10>\n",
       "    └── 'c' --> tensor([[-1.5627, -0.5615,  0.0244, -0.9923],\n",
       "                        [-0.3506,  0.9833,  0.0886, -1.1612],\n",
       "                        [-0.2403, -1.5833, -1.2538, -0.0843]])"
      ]
     },
     "execution_count": 6,
     "metadata": {},
     "output_type": "execute_result"
    }
   ],
   "source": [
    "new_value = torch.randn(2, 3)\n",
    "t.a = new_value\n",
    "\n",
    "t"
   ]
  },
  {
   "cell_type": "code",
   "execution_count": 7,
   "id": "bbe04d1c",
   "metadata": {
    "execution": {
     "iopub.execute_input": "2023-02-24T08:44:23.916478Z",
     "iopub.status.busy": "2023-02-24T08:44:23.916113Z",
     "iopub.status.idle": "2023-02-24T08:44:28.787817Z",
     "shell.execute_reply": "2023-02-24T08:44:28.787052Z"
    }
   },
   "outputs": [
    {
     "name": "stdout",
     "output_type": "stream",
     "text": [
      "60 ns ± 0.0218 ns per loop (mean ± std. dev. of 7 runs, 10,000,000 loops each)\n"
     ]
    }
   ],
   "source": [
    "%timeit t.a = new_value"
   ]
  },
  {
   "cell_type": "markdown",
   "id": "48c49731",
   "metadata": {},
   "source": [
    "### Tianshou Batch's Get and Set"
   ]
  },
  {
   "cell_type": "code",
   "execution_count": 8,
   "id": "f1bb14c1",
   "metadata": {
    "execution": {
     "iopub.execute_input": "2023-02-24T08:44:28.790986Z",
     "iopub.status.busy": "2023-02-24T08:44:28.790492Z",
     "iopub.status.idle": "2023-02-24T08:44:29.143054Z",
     "shell.execute_reply": "2023-02-24T08:44:29.142357Z"
    }
   },
   "outputs": [],
   "source": [
    "from tianshou.data import Batch\n",
    "\n",
    "b = Batch(**_TREE_DATA_2)"
   ]
  },
  {
   "cell_type": "code",
   "execution_count": 9,
   "id": "cb0777c3",
   "metadata": {
    "execution": {
     "iopub.execute_input": "2023-02-24T08:44:29.146932Z",
     "iopub.status.busy": "2023-02-24T08:44:29.146166Z",
     "iopub.status.idle": "2023-02-24T08:44:29.152691Z",
     "shell.execute_reply": "2023-02-24T08:44:29.152061Z"
    }
   },
   "outputs": [
    {
     "data": {
      "text/plain": [
       "Batch(\n",
       "    a: tensor([[-0.7819,  1.6581,  0.9676],\n",
       "               [-0.2390,  0.5912,  0.3134]]),\n",
       "    x: Batch(\n",
       "           c: tensor([[-1.5627, -0.5615,  0.0244, -0.9923],\n",
       "                      [-0.3506,  0.9833,  0.0886, -1.1612],\n",
       "                      [-0.2403, -1.5833, -1.2538, -0.0843]]),\n",
       "       ),\n",
       ")"
      ]
     },
     "execution_count": 9,
     "metadata": {},
     "output_type": "execute_result"
    }
   ],
   "source": [
    "b"
   ]
  },
  {
   "cell_type": "code",
   "execution_count": 10,
   "id": "43ef8ea3",
   "metadata": {
    "execution": {
     "iopub.execute_input": "2023-02-24T08:44:29.155337Z",
     "iopub.status.busy": "2023-02-24T08:44:29.154951Z",
     "iopub.status.idle": "2023-02-24T08:44:29.160632Z",
     "shell.execute_reply": "2023-02-24T08:44:29.160033Z"
    }
   },
   "outputs": [
    {
     "data": {
      "text/plain": [
       "tensor([[-0.7819,  1.6581,  0.9676],\n",
       "        [-0.2390,  0.5912,  0.3134]])"
      ]
     },
     "execution_count": 10,
     "metadata": {},
     "output_type": "execute_result"
    }
   ],
   "source": [
    "b.a"
   ]
  },
  {
   "cell_type": "code",
   "execution_count": 11,
   "id": "b785ab72",
   "metadata": {
    "execution": {
     "iopub.execute_input": "2023-02-24T08:44:29.163142Z",
     "iopub.status.busy": "2023-02-24T08:44:29.162782Z",
     "iopub.status.idle": "2023-02-24T08:44:33.757565Z",
     "shell.execute_reply": "2023-02-24T08:44:33.756777Z"
    }
   },
   "outputs": [
    {
     "name": "stdout",
     "output_type": "stream",
     "text": [
      "56.5 ns ± 0.00925 ns per loop (mean ± std. dev. of 7 runs, 10,000,000 loops each)\n"
     ]
    }
   ],
   "source": [
    "%timeit b.a"
   ]
  },
  {
   "cell_type": "code",
   "execution_count": 12,
   "id": "ad54dc69",
   "metadata": {
    "execution": {
     "iopub.execute_input": "2023-02-24T08:44:33.760375Z",
     "iopub.status.busy": "2023-02-24T08:44:33.760001Z",
     "iopub.status.idle": "2023-02-24T08:44:33.766005Z",
     "shell.execute_reply": "2023-02-24T08:44:33.765343Z"
    }
   },
   "outputs": [
    {
     "data": {
      "text/plain": [
       "Batch(\n",
       "    a: tensor([[-0.0066,  0.0404,  0.0589],\n",
       "               [ 0.4824,  1.1163,  0.1291]]),\n",
       "    x: Batch(\n",
       "           c: tensor([[-1.5627, -0.5615,  0.0244, -0.9923],\n",
       "                      [-0.3506,  0.9833,  0.0886, -1.1612],\n",
       "                      [-0.2403, -1.5833, -1.2538, -0.0843]]),\n",
       "       ),\n",
       ")"
      ]
     },
     "execution_count": 12,
     "metadata": {},
     "output_type": "execute_result"
    }
   ],
   "source": [
    "new_value = torch.randn(2, 3)\n",
    "b.a = new_value\n",
    "\n",
    "b"
   ]
  },
  {
   "cell_type": "code",
   "execution_count": 13,
   "id": "29b1d0bf",
   "metadata": {
    "execution": {
     "iopub.execute_input": "2023-02-24T08:44:33.768573Z",
     "iopub.status.busy": "2023-02-24T08:44:33.768192Z",
     "iopub.status.idle": "2023-02-24T08:44:37.711752Z",
     "shell.execute_reply": "2023-02-24T08:44:37.710970Z"
    }
   },
   "outputs": [
    {
     "name": "stdout",
     "output_type": "stream",
     "text": [
      "485 ns ± 0.0945 ns per loop (mean ± std. dev. of 7 runs, 1,000,000 loops each)\n"
     ]
    }
   ],
   "source": [
    "%timeit b.a = new_value"
   ]
  },
  {
   "cell_type": "markdown",
   "id": "b61ad1d0",
   "metadata": {},
   "source": [
    "## Initialization"
   ]
  },
  {
   "cell_type": "markdown",
   "id": "d70f0d54",
   "metadata": {},
   "source": [
    "### TreeValue's Initialization"
   ]
  },
  {
   "cell_type": "code",
   "execution_count": 14,
   "id": "d32a679b",
   "metadata": {
    "execution": {
     "iopub.execute_input": "2023-02-24T08:44:37.714944Z",
     "iopub.status.busy": "2023-02-24T08:44:37.714267Z",
     "iopub.status.idle": "2023-02-24T08:44:44.519985Z",
     "shell.execute_reply": "2023-02-24T08:44:44.519312Z"
    }
   },
   "outputs": [
    {
     "name": "stdout",
     "output_type": "stream",
     "text": [
      "838 ns ± 0.295 ns per loop (mean ± std. dev. of 7 runs, 1,000,000 loops each)\n"
     ]
    }
   ],
   "source": [
    "%timeit FastTreeValue(_TREE_DATA_1)"
   ]
  },
  {
   "cell_type": "markdown",
   "id": "24f3707b",
   "metadata": {},
   "source": [
    "### Tianshou Batch's Initialization"
   ]
  },
  {
   "cell_type": "code",
   "execution_count": 15,
   "id": "ac3958df",
   "metadata": {
    "execution": {
     "iopub.execute_input": "2023-02-24T08:44:44.522924Z",
     "iopub.status.busy": "2023-02-24T08:44:44.522679Z",
     "iopub.status.idle": "2023-02-24T08:44:53.901793Z",
     "shell.execute_reply": "2023-02-24T08:44:53.900993Z"
    }
   },
   "outputs": [
    {
     "name": "stdout",
     "output_type": "stream",
     "text": [
      "11.6 µs ± 11.6 ns per loop (mean ± std. dev. of 7 runs, 100,000 loops each)\n"
     ]
    }
   ],
   "source": [
    "%timeit Batch(**_TREE_DATA_1)"
   ]
  },
  {
   "cell_type": "markdown",
   "id": "1ab82e2d",
   "metadata": {},
   "source": [
    "## Deep Copy Operation"
   ]
  },
  {
   "cell_type": "code",
   "execution_count": 16,
   "id": "210a9442",
   "metadata": {
    "execution": {
     "iopub.execute_input": "2023-02-24T08:44:53.904739Z",
     "iopub.status.busy": "2023-02-24T08:44:53.904356Z",
     "iopub.status.idle": "2023-02-24T08:44:53.908401Z",
     "shell.execute_reply": "2023-02-24T08:44:53.907760Z"
    }
   },
   "outputs": [],
   "source": [
    "import copy"
   ]
  },
  {
   "cell_type": "markdown",
   "id": "5a736274",
   "metadata": {},
   "source": [
    "### Deep Copy of TreeValue"
   ]
  },
  {
   "cell_type": "code",
   "execution_count": 17,
   "id": "f9bcadd6",
   "metadata": {
    "execution": {
     "iopub.execute_input": "2023-02-24T08:44:53.911315Z",
     "iopub.status.busy": "2023-02-24T08:44:53.910935Z",
     "iopub.status.idle": "2023-02-24T08:45:05.227570Z",
     "shell.execute_reply": "2023-02-24T08:45:05.226984Z"
    }
   },
   "outputs": [
    {
     "name": "stdout",
     "output_type": "stream",
     "text": [
      "140 µs ± 516 ns per loop (mean ± std. dev. of 7 runs, 10,000 loops each)\n"
     ]
    }
   ],
   "source": [
    "t3 = FastTreeValue(_TREE_DATA_3)\n",
    "%timeit copy.deepcopy(t3)"
   ]
  },
  {
   "cell_type": "markdown",
   "id": "bf8be7ea",
   "metadata": {},
   "source": [
    "### Deep Copy of Tianshou Batch"
   ]
  },
  {
   "cell_type": "code",
   "execution_count": 18,
   "id": "91998e6f",
   "metadata": {
    "execution": {
     "iopub.execute_input": "2023-02-24T08:45:05.231519Z",
     "iopub.status.busy": "2023-02-24T08:45:05.230576Z",
     "iopub.status.idle": "2023-02-24T08:45:16.695659Z",
     "shell.execute_reply": "2023-02-24T08:45:16.695033Z"
    }
   },
   "outputs": [
    {
     "name": "stdout",
     "output_type": "stream",
     "text": [
      "141 µs ± 738 ns per loop (mean ± std. dev. of 7 runs, 10,000 loops each)\n"
     ]
    }
   ],
   "source": [
    "b3 = Batch(**_TREE_DATA_3)\n",
    "%timeit copy.deepcopy(b3)"
   ]
  },
  {
   "cell_type": "markdown",
   "id": "223162fb",
   "metadata": {},
   "source": [
    "## Stack, Concat and Split Operation"
   ]
  },
  {
   "cell_type": "markdown",
   "id": "85fa4a73",
   "metadata": {},
   "source": [
    "### Performance of TreeValue"
   ]
  },
  {
   "cell_type": "code",
   "execution_count": 19,
   "id": "a0c2b697",
   "metadata": {
    "execution": {
     "iopub.execute_input": "2023-02-24T08:45:16.699233Z",
     "iopub.status.busy": "2023-02-24T08:45:16.698573Z",
     "iopub.status.idle": "2023-02-24T08:45:16.703131Z",
     "shell.execute_reply": "2023-02-24T08:45:16.702487Z"
    }
   },
   "outputs": [],
   "source": [
    "trees = [FastTreeValue(_TREE_DATA_2) for _ in range(8)]"
   ]
  },
  {
   "cell_type": "code",
   "execution_count": 20,
   "id": "017ea5a5",
   "metadata": {
    "execution": {
     "iopub.execute_input": "2023-02-24T08:45:16.706175Z",
     "iopub.status.busy": "2023-02-24T08:45:16.705667Z",
     "iopub.status.idle": "2023-02-24T08:45:16.713966Z",
     "shell.execute_reply": "2023-02-24T08:45:16.713278Z"
    }
   },
   "outputs": [
    {
     "data": {
      "text/plain": [
       "<FastTreeValue 0x7fe0886174f0>\n",
       "├── 'a' --> tensor([[[-0.7819,  1.6581,  0.9676],\n",
       "│                    [-0.2390,  0.5912,  0.3134]],\n",
       "│           \n",
       "│                   [[-0.7819,  1.6581,  0.9676],\n",
       "│                    [-0.2390,  0.5912,  0.3134]],\n",
       "│           \n",
       "│                   [[-0.7819,  1.6581,  0.9676],\n",
       "│                    [-0.2390,  0.5912,  0.3134]],\n",
       "│           \n",
       "│                   [[-0.7819,  1.6581,  0.9676],\n",
       "│                    [-0.2390,  0.5912,  0.3134]],\n",
       "│           \n",
       "│                   [[-0.7819,  1.6581,  0.9676],\n",
       "│                    [-0.2390,  0.5912,  0.3134]],\n",
       "│           \n",
       "│                   [[-0.7819,  1.6581,  0.9676],\n",
       "│                    [-0.2390,  0.5912,  0.3134]],\n",
       "│           \n",
       "│                   [[-0.7819,  1.6581,  0.9676],\n",
       "│                    [-0.2390,  0.5912,  0.3134]],\n",
       "│           \n",
       "│                   [[-0.7819,  1.6581,  0.9676],\n",
       "│                    [-0.2390,  0.5912,  0.3134]]])\n",
       "└── 'x' --> <FastTreeValue 0x7fe088617bb0>\n",
       "    └── 'c' --> tensor([[[-1.5627, -0.5615,  0.0244, -0.9923],\n",
       "                         [-0.3506,  0.9833,  0.0886, -1.1612],\n",
       "                         [-0.2403, -1.5833, -1.2538, -0.0843]],\n",
       "                \n",
       "                        [[-1.5627, -0.5615,  0.0244, -0.9923],\n",
       "                         [-0.3506,  0.9833,  0.0886, -1.1612],\n",
       "                         [-0.2403, -1.5833, -1.2538, -0.0843]],\n",
       "                \n",
       "                        [[-1.5627, -0.5615,  0.0244, -0.9923],\n",
       "                         [-0.3506,  0.9833,  0.0886, -1.1612],\n",
       "                         [-0.2403, -1.5833, -1.2538, -0.0843]],\n",
       "                \n",
       "                        [[-1.5627, -0.5615,  0.0244, -0.9923],\n",
       "                         [-0.3506,  0.9833,  0.0886, -1.1612],\n",
       "                         [-0.2403, -1.5833, -1.2538, -0.0843]],\n",
       "                \n",
       "                        [[-1.5627, -0.5615,  0.0244, -0.9923],\n",
       "                         [-0.3506,  0.9833,  0.0886, -1.1612],\n",
       "                         [-0.2403, -1.5833, -1.2538, -0.0843]],\n",
       "                \n",
       "                        [[-1.5627, -0.5615,  0.0244, -0.9923],\n",
       "                         [-0.3506,  0.9833,  0.0886, -1.1612],\n",
       "                         [-0.2403, -1.5833, -1.2538, -0.0843]],\n",
       "                \n",
       "                        [[-1.5627, -0.5615,  0.0244, -0.9923],\n",
       "                         [-0.3506,  0.9833,  0.0886, -1.1612],\n",
       "                         [-0.2403, -1.5833, -1.2538, -0.0843]],\n",
       "                \n",
       "                        [[-1.5627, -0.5615,  0.0244, -0.9923],\n",
       "                         [-0.3506,  0.9833,  0.0886, -1.1612],\n",
       "                         [-0.2403, -1.5833, -1.2538, -0.0843]]])"
      ]
     },
     "execution_count": 20,
     "metadata": {},
     "output_type": "execute_result"
    }
   ],
   "source": [
    "t_stack = FastTreeValue.func(subside=True)(torch.stack)\n",
    "\n",
    "t_stack(trees)"
   ]
  },
  {
   "cell_type": "code",
   "execution_count": 21,
   "id": "f8b3f415",
   "metadata": {
    "execution": {
     "iopub.execute_input": "2023-02-24T08:45:16.716812Z",
     "iopub.status.busy": "2023-02-24T08:45:16.716277Z",
     "iopub.status.idle": "2023-02-24T08:45:19.283503Z",
     "shell.execute_reply": "2023-02-24T08:45:19.282781Z"
    }
   },
   "outputs": [
    {
     "name": "stdout",
     "output_type": "stream",
     "text": [
      "31.6 µs ± 55.6 ns per loop (mean ± std. dev. of 7 runs, 10,000 loops each)\n"
     ]
    }
   ],
   "source": [
    "%timeit t_stack(trees)"
   ]
  },
  {
   "cell_type": "code",
   "execution_count": 22,
   "id": "94b56771",
   "metadata": {
    "execution": {
     "iopub.execute_input": "2023-02-24T08:45:19.286522Z",
     "iopub.status.busy": "2023-02-24T08:45:19.285918Z",
     "iopub.status.idle": "2023-02-24T08:45:19.294254Z",
     "shell.execute_reply": "2023-02-24T08:45:19.293644Z"
    }
   },
   "outputs": [
    {
     "data": {
      "text/plain": [
       "<FastTreeValue 0x7fdfdd30ee50>\n",
       "├── 'a' --> tensor([[-0.7819,  1.6581,  0.9676],\n",
       "│                   [-0.2390,  0.5912,  0.3134],\n",
       "│                   [-0.7819,  1.6581,  0.9676],\n",
       "│                   [-0.2390,  0.5912,  0.3134],\n",
       "│                   [-0.7819,  1.6581,  0.9676],\n",
       "│                   [-0.2390,  0.5912,  0.3134],\n",
       "│                   [-0.7819,  1.6581,  0.9676],\n",
       "│                   [-0.2390,  0.5912,  0.3134],\n",
       "│                   [-0.7819,  1.6581,  0.9676],\n",
       "│                   [-0.2390,  0.5912,  0.3134],\n",
       "│                   [-0.7819,  1.6581,  0.9676],\n",
       "│                   [-0.2390,  0.5912,  0.3134],\n",
       "│                   [-0.7819,  1.6581,  0.9676],\n",
       "│                   [-0.2390,  0.5912,  0.3134],\n",
       "│                   [-0.7819,  1.6581,  0.9676],\n",
       "│                   [-0.2390,  0.5912,  0.3134]])\n",
       "└── 'x' --> <FastTreeValue 0x7fdfdd30ef40>\n",
       "    └── 'c' --> tensor([[-1.5627, -0.5615,  0.0244, -0.9923],\n",
       "                        [-0.3506,  0.9833,  0.0886, -1.1612],\n",
       "                        [-0.2403, -1.5833, -1.2538, -0.0843],\n",
       "                        [-1.5627, -0.5615,  0.0244, -0.9923],\n",
       "                        [-0.3506,  0.9833,  0.0886, -1.1612],\n",
       "                        [-0.2403, -1.5833, -1.2538, -0.0843],\n",
       "                        [-1.5627, -0.5615,  0.0244, -0.9923],\n",
       "                        [-0.3506,  0.9833,  0.0886, -1.1612],\n",
       "                        [-0.2403, -1.5833, -1.2538, -0.0843],\n",
       "                        [-1.5627, -0.5615,  0.0244, -0.9923],\n",
       "                        [-0.3506,  0.9833,  0.0886, -1.1612],\n",
       "                        [-0.2403, -1.5833, -1.2538, -0.0843],\n",
       "                        [-1.5627, -0.5615,  0.0244, -0.9923],\n",
       "                        [-0.3506,  0.9833,  0.0886, -1.1612],\n",
       "                        [-0.2403, -1.5833, -1.2538, -0.0843],\n",
       "                        [-1.5627, -0.5615,  0.0244, -0.9923],\n",
       "                        [-0.3506,  0.9833,  0.0886, -1.1612],\n",
       "                        [-0.2403, -1.5833, -1.2538, -0.0843],\n",
       "                        [-1.5627, -0.5615,  0.0244, -0.9923],\n",
       "                        [-0.3506,  0.9833,  0.0886, -1.1612],\n",
       "                        [-0.2403, -1.5833, -1.2538, -0.0843],\n",
       "                        [-1.5627, -0.5615,  0.0244, -0.9923],\n",
       "                        [-0.3506,  0.9833,  0.0886, -1.1612],\n",
       "                        [-0.2403, -1.5833, -1.2538, -0.0843]])"
      ]
     },
     "execution_count": 22,
     "metadata": {},
     "output_type": "execute_result"
    }
   ],
   "source": [
    "t_cat = FastTreeValue.func(subside=True)(torch.cat)\n",
    "\n",
    "t_cat(trees)"
   ]
  },
  {
   "cell_type": "code",
   "execution_count": 23,
   "id": "5e9c06a6",
   "metadata": {
    "execution": {
     "iopub.execute_input": "2023-02-24T08:45:19.297141Z",
     "iopub.status.busy": "2023-02-24T08:45:19.296489Z",
     "iopub.status.idle": "2023-02-24T08:45:21.698554Z",
     "shell.execute_reply": "2023-02-24T08:45:21.697694Z"
    }
   },
   "outputs": [
    {
     "name": "stdout",
     "output_type": "stream",
     "text": [
      "29.5 µs ± 51.8 ns per loop (mean ± std. dev. of 7 runs, 10,000 loops each)\n"
     ]
    }
   ],
   "source": [
    "%timeit t_cat(trees)"
   ]
  },
  {
   "cell_type": "code",
   "execution_count": 24,
   "id": "a3ab5c8f",
   "metadata": {
    "execution": {
     "iopub.execute_input": "2023-02-24T08:45:21.701672Z",
     "iopub.status.busy": "2023-02-24T08:45:21.701274Z",
     "iopub.status.idle": "2023-02-24T08:45:26.419955Z",
     "shell.execute_reply": "2023-02-24T08:45:26.419182Z"
    }
   },
   "outputs": [
    {
     "name": "stdout",
     "output_type": "stream",
     "text": [
      "58 µs ± 209 ns per loop (mean ± std. dev. of 7 runs, 10,000 loops each)\n"
     ]
    }
   ],
   "source": [
    "t_split = FastTreeValue.func(rise=True)(torch.split)\n",
    "tree = FastTreeValue({\n",
    "    'obs': torch.randn(8, 4, 84, 84),\n",
    "    'action': torch.randint(0, 6, size=(8, 1,)),\n",
    "    'reward': torch.rand(8, 1),\n",
    "})\n",
    "\n",
    "%timeit t_split(tree, 1)"
   ]
  },
  {
   "cell_type": "markdown",
   "id": "31c3ec0b",
   "metadata": {},
   "source": [
    "### Performance of Tianshou Batch"
   ]
  },
  {
   "cell_type": "code",
   "execution_count": 25,
   "id": "9ead828a",
   "metadata": {
    "execution": {
     "iopub.execute_input": "2023-02-24T08:45:26.423125Z",
     "iopub.status.busy": "2023-02-24T08:45:26.422731Z",
     "iopub.status.idle": "2023-02-24T08:45:26.431185Z",
     "shell.execute_reply": "2023-02-24T08:45:26.430581Z"
    }
   },
   "outputs": [
    {
     "data": {
      "text/plain": [
       "Batch(\n",
       "    x: Batch(\n",
       "           c: tensor([[[-1.5627, -0.5615,  0.0244, -0.9923],\n",
       "                       [-0.3506,  0.9833,  0.0886, -1.1612],\n",
       "                       [-0.2403, -1.5833, -1.2538, -0.0843]],\n",
       "              \n",
       "                      [[-1.5627, -0.5615,  0.0244, -0.9923],\n",
       "                       [-0.3506,  0.9833,  0.0886, -1.1612],\n",
       "                       [-0.2403, -1.5833, -1.2538, -0.0843]],\n",
       "              \n",
       "                      [[-1.5627, -0.5615,  0.0244, -0.9923],\n",
       "                       [-0.3506,  0.9833,  0.0886, -1.1612],\n",
       "                       [-0.2403, -1.5833, -1.2538, -0.0843]],\n",
       "              \n",
       "                      [[-1.5627, -0.5615,  0.0244, -0.9923],\n",
       "                       [-0.3506,  0.9833,  0.0886, -1.1612],\n",
       "                       [-0.2403, -1.5833, -1.2538, -0.0843]],\n",
       "              \n",
       "                      [[-1.5627, -0.5615,  0.0244, -0.9923],\n",
       "                       [-0.3506,  0.9833,  0.0886, -1.1612],\n",
       "                       [-0.2403, -1.5833, -1.2538, -0.0843]],\n",
       "              \n",
       "                      [[-1.5627, -0.5615,  0.0244, -0.9923],\n",
       "                       [-0.3506,  0.9833,  0.0886, -1.1612],\n",
       "                       [-0.2403, -1.5833, -1.2538, -0.0843]],\n",
       "              \n",
       "                      [[-1.5627, -0.5615,  0.0244, -0.9923],\n",
       "                       [-0.3506,  0.9833,  0.0886, -1.1612],\n",
       "                       [-0.2403, -1.5833, -1.2538, -0.0843]],\n",
       "              \n",
       "                      [[-1.5627, -0.5615,  0.0244, -0.9923],\n",
       "                       [-0.3506,  0.9833,  0.0886, -1.1612],\n",
       "                       [-0.2403, -1.5833, -1.2538, -0.0843]]]),\n",
       "       ),\n",
       "    a: tensor([[[-0.7819,  1.6581,  0.9676],\n",
       "                [-0.2390,  0.5912,  0.3134]],\n",
       "       \n",
       "               [[-0.7819,  1.6581,  0.9676],\n",
       "                [-0.2390,  0.5912,  0.3134]],\n",
       "       \n",
       "               [[-0.7819,  1.6581,  0.9676],\n",
       "                [-0.2390,  0.5912,  0.3134]],\n",
       "       \n",
       "               [[-0.7819,  1.6581,  0.9676],\n",
       "                [-0.2390,  0.5912,  0.3134]],\n",
       "       \n",
       "               [[-0.7819,  1.6581,  0.9676],\n",
       "                [-0.2390,  0.5912,  0.3134]],\n",
       "       \n",
       "               [[-0.7819,  1.6581,  0.9676],\n",
       "                [-0.2390,  0.5912,  0.3134]],\n",
       "       \n",
       "               [[-0.7819,  1.6581,  0.9676],\n",
       "                [-0.2390,  0.5912,  0.3134]],\n",
       "       \n",
       "               [[-0.7819,  1.6581,  0.9676],\n",
       "                [-0.2390,  0.5912,  0.3134]]]),\n",
       ")"
      ]
     },
     "execution_count": 25,
     "metadata": {},
     "output_type": "execute_result"
    }
   ],
   "source": [
    "batches = [Batch(**_TREE_DATA_2) for _ in range(8)]\n",
    "\n",
    "Batch.stack(batches)"
   ]
  },
  {
   "cell_type": "code",
   "execution_count": 26,
   "id": "ec9037a3",
   "metadata": {
    "execution": {
     "iopub.execute_input": "2023-02-24T08:45:26.433629Z",
     "iopub.status.busy": "2023-02-24T08:45:26.433387Z",
     "iopub.status.idle": "2023-02-24T08:45:32.700364Z",
     "shell.execute_reply": "2023-02-24T08:45:32.699652Z"
    }
   },
   "outputs": [
    {
     "name": "stdout",
     "output_type": "stream",
     "text": [
      "77.2 µs ± 151 ns per loop (mean ± std. dev. of 7 runs, 10,000 loops each)\n"
     ]
    }
   ],
   "source": [
    "%timeit Batch.stack(batches)"
   ]
  },
  {
   "cell_type": "code",
   "execution_count": 27,
   "id": "cb8ab77e",
   "metadata": {
    "execution": {
     "iopub.execute_input": "2023-02-24T08:45:32.703568Z",
     "iopub.status.busy": "2023-02-24T08:45:32.703304Z",
     "iopub.status.idle": "2023-02-24T08:45:32.710632Z",
     "shell.execute_reply": "2023-02-24T08:45:32.709967Z"
    }
   },
   "outputs": [
    {
     "data": {
      "text/plain": [
       "Batch(\n",
       "    x: Batch(\n",
       "           c: tensor([[-1.5627, -0.5615,  0.0244, -0.9923],\n",
       "                      [-0.3506,  0.9833,  0.0886, -1.1612],\n",
       "                      [-0.2403, -1.5833, -1.2538, -0.0843],\n",
       "                      [-1.5627, -0.5615,  0.0244, -0.9923],\n",
       "                      [-0.3506,  0.9833,  0.0886, -1.1612],\n",
       "                      [-0.2403, -1.5833, -1.2538, -0.0843],\n",
       "                      [-1.5627, -0.5615,  0.0244, -0.9923],\n",
       "                      [-0.3506,  0.9833,  0.0886, -1.1612],\n",
       "                      [-0.2403, -1.5833, -1.2538, -0.0843],\n",
       "                      [-1.5627, -0.5615,  0.0244, -0.9923],\n",
       "                      [-0.3506,  0.9833,  0.0886, -1.1612],\n",
       "                      [-0.2403, -1.5833, -1.2538, -0.0843],\n",
       "                      [-1.5627, -0.5615,  0.0244, -0.9923],\n",
       "                      [-0.3506,  0.9833,  0.0886, -1.1612],\n",
       "                      [-0.2403, -1.5833, -1.2538, -0.0843],\n",
       "                      [-1.5627, -0.5615,  0.0244, -0.9923],\n",
       "                      [-0.3506,  0.9833,  0.0886, -1.1612],\n",
       "                      [-0.2403, -1.5833, -1.2538, -0.0843],\n",
       "                      [-1.5627, -0.5615,  0.0244, -0.9923],\n",
       "                      [-0.3506,  0.9833,  0.0886, -1.1612],\n",
       "                      [-0.2403, -1.5833, -1.2538, -0.0843],\n",
       "                      [-1.5627, -0.5615,  0.0244, -0.9923],\n",
       "                      [-0.3506,  0.9833,  0.0886, -1.1612],\n",
       "                      [-0.2403, -1.5833, -1.2538, -0.0843]]),\n",
       "       ),\n",
       "    a: tensor([[-0.7819,  1.6581,  0.9676],\n",
       "               [-0.2390,  0.5912,  0.3134],\n",
       "               [-0.7819,  1.6581,  0.9676],\n",
       "               [-0.2390,  0.5912,  0.3134],\n",
       "               [-0.7819,  1.6581,  0.9676],\n",
       "               [-0.2390,  0.5912,  0.3134],\n",
       "               [-0.7819,  1.6581,  0.9676],\n",
       "               [-0.2390,  0.5912,  0.3134],\n",
       "               [-0.7819,  1.6581,  0.9676],\n",
       "               [-0.2390,  0.5912,  0.3134],\n",
       "               [-0.7819,  1.6581,  0.9676],\n",
       "               [-0.2390,  0.5912,  0.3134],\n",
       "               [-0.7819,  1.6581,  0.9676],\n",
       "               [-0.2390,  0.5912,  0.3134],\n",
       "               [-0.7819,  1.6581,  0.9676],\n",
       "               [-0.2390,  0.5912,  0.3134]]),\n",
       ")"
      ]
     },
     "execution_count": 27,
     "metadata": {},
     "output_type": "execute_result"
    }
   ],
   "source": [
    "Batch.cat(batches)"
   ]
  },
  {
   "cell_type": "code",
   "execution_count": 28,
   "id": "18dfb045",
   "metadata": {
    "execution": {
     "iopub.execute_input": "2023-02-24T08:45:32.713599Z",
     "iopub.status.busy": "2023-02-24T08:45:32.713224Z",
     "iopub.status.idle": "2023-02-24T08:45:44.207628Z",
     "shell.execute_reply": "2023-02-24T08:45:44.206778Z"
    }
   },
   "outputs": [
    {
     "name": "stdout",
     "output_type": "stream",
     "text": [
      "142 µs ± 303 ns per loop (mean ± std. dev. of 7 runs, 10,000 loops each)\n"
     ]
    }
   ],
   "source": [
    "%timeit Batch.cat(batches)"
   ]
  },
  {
   "cell_type": "code",
   "execution_count": 29,
   "id": "c6688e51",
   "metadata": {
    "execution": {
     "iopub.execute_input": "2023-02-24T08:45:44.211024Z",
     "iopub.status.busy": "2023-02-24T08:45:44.210503Z",
     "iopub.status.idle": "2023-02-24T08:45:46.745282Z",
     "shell.execute_reply": "2023-02-24T08:45:46.744699Z"
    }
   },
   "outputs": [
    {
     "name": "stdout",
     "output_type": "stream",
     "text": [
      "311 µs ± 2.24 µs per loop (mean ± std. dev. of 7 runs, 1,000 loops each)\n"
     ]
    }
   ],
   "source": [
    "batch = Batch({\n",
    "    'obs': torch.randn(8, 4, 84, 84),\n",
    "    'action': torch.randint(0, 6, size=(8, 1,)),\n",
    "    'reward': torch.rand(8, 1)}\n",
    ")\n",
    "\n",
    "%timeit list(Batch.split(batch, 1, shuffle=False, merge_last=True))"
   ]
  },
  {
   "cell_type": "code",
   "execution_count": null,
   "id": "2539fbd9",
   "metadata": {},
   "outputs": [],
   "source": []
  }
 ],
 "metadata": {
  "kernelspec": {
   "display_name": "Python 3 (ipykernel)",
   "language": "python",
   "name": "python3"
  },
  "language_info": {
   "codemirror_mode": {
    "name": "ipython",
    "version": 3
   },
   "file_extension": ".py",
   "mimetype": "text/x-python",
   "name": "python",
   "nbconvert_exporter": "python",
   "pygments_lexer": "ipython3",
   "version": "3.8.16"
  }
 },
 "nbformat": 4,
 "nbformat_minor": 5
}
