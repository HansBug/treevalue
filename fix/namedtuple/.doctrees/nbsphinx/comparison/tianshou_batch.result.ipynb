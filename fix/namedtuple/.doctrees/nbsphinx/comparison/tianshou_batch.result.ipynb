{
 "cells": [
  {
   "cell_type": "markdown",
   "id": "9d39d946",
   "metadata": {},
   "source": [
    "# Comparison Between TreeValue and Tianshou Batch"
   ]
  },
  {
   "cell_type": "markdown",
   "id": "3c6db2d4",
   "metadata": {},
   "source": [
    "In this section, we will take a look at the feature and performance of the [Tianshou Batch](https://github.com/thu-ml/tianshou) library, which is developed by Tsinghua Machine Learning Group."
   ]
  },
  {
   "cell_type": "markdown",
   "id": "069361b0",
   "metadata": {},
   "source": [
    "Before starting the comparison, let us define some thing."
   ]
  },
  {
   "cell_type": "code",
   "execution_count": 1,
   "id": "06fc8d26",
   "metadata": {
    "execution": {
     "iopub.execute_input": "2023-02-24T07:52:32.604741Z",
     "iopub.status.busy": "2023-02-24T07:52:32.604158Z",
     "iopub.status.idle": "2023-02-24T07:52:33.692837Z",
     "shell.execute_reply": "2023-02-24T07:52:33.691914Z"
    }
   },
   "outputs": [
    {
     "name": "stderr",
     "output_type": "stream",
     "text": [
      "/opt/hostedtoolcache/Python/3.8.16/x64/lib/python3.8/site-packages/tqdm/auto.py:22: TqdmWarning: IProgress not found. Please update jupyter and ipywidgets. See https://ipywidgets.readthedocs.io/en/stable/user_install.html\n",
      "  from .autonotebook import tqdm as notebook_tqdm\n"
     ]
    }
   ],
   "source": [
    "import torch \n",
    "\n",
    "_TREE_DATA_1 = {'a': 1, 'b': 2, 'x': {'c': 3, 'd': 4}}\n",
    "_TREE_DATA_2 = {\n",
    "    'a': torch.randn(2, 3), \n",
    "    'x': {\n",
    "        'c': torch.randn(3, 4)\n",
    "    },\n",
    "}\n",
    "_TREE_DATA_3 = {\n",
    "    'obs': torch.randn(4, 84, 84),\n",
    "    'action': torch.randint(0, 6, size=(1,)),\n",
    "    'reward': torch.rand(1),\n",
    "}"
   ]
  },
  {
   "cell_type": "markdown",
   "id": "83461b25",
   "metadata": {},
   "source": [
    "## Read and Write Operation"
   ]
  },
  {
   "cell_type": "markdown",
   "id": "067b3f73",
   "metadata": {},
   "source": [
    "Reading and writing are the two most common operations in the tree data structure based on the data model (TreeValue and Tianshou Batch both belong to this type), so this section will compare the reading and writing performance of these two libraries."
   ]
  },
  {
   "cell_type": "markdown",
   "id": "5d09a5b7",
   "metadata": {},
   "source": [
    "### TreeValue's Get and Set"
   ]
  },
  {
   "cell_type": "code",
   "execution_count": 2,
   "id": "9519c4bb",
   "metadata": {
    "execution": {
     "iopub.execute_input": "2023-02-24T07:52:33.697064Z",
     "iopub.status.busy": "2023-02-24T07:52:33.696785Z",
     "iopub.status.idle": "2023-02-24T07:52:33.742310Z",
     "shell.execute_reply": "2023-02-24T07:52:33.741260Z"
    }
   },
   "outputs": [],
   "source": [
    "from treevalue import FastTreeValue\n",
    "\n",
    "t = FastTreeValue(_TREE_DATA_2)"
   ]
  },
  {
   "cell_type": "code",
   "execution_count": 3,
   "id": "11c37677",
   "metadata": {
    "execution": {
     "iopub.execute_input": "2023-02-24T07:52:33.748995Z",
     "iopub.status.busy": "2023-02-24T07:52:33.747822Z",
     "iopub.status.idle": "2023-02-24T07:52:33.762072Z",
     "shell.execute_reply": "2023-02-24T07:52:33.761214Z"
    }
   },
   "outputs": [
    {
     "data": {
      "text/plain": [
       "<FastTreeValue 0x7f261401bb50>\n",
       "├── 'a' --> tensor([[ 0.2304,  0.7922,  1.4427],\n",
       "│                   [-0.9715,  0.2259,  1.2796]])\n",
       "└── 'x' --> <FastTreeValue 0x7f261401b760>\n",
       "    └── 'c' --> tensor([[-0.0831, -0.2791,  0.7694, -1.1180],\n",
       "                        [ 0.2136, -0.6164, -1.3785, -0.5023],\n",
       "                        [-1.2682, -0.0896,  0.3914,  0.1475]])"
      ]
     },
     "execution_count": 3,
     "metadata": {},
     "output_type": "execute_result"
    }
   ],
   "source": [
    "t"
   ]
  },
  {
   "cell_type": "code",
   "execution_count": 4,
   "id": "fd70b0b9",
   "metadata": {
    "execution": {
     "iopub.execute_input": "2023-02-24T07:52:33.765353Z",
     "iopub.status.busy": "2023-02-24T07:52:33.765005Z",
     "iopub.status.idle": "2023-02-24T07:52:33.771204Z",
     "shell.execute_reply": "2023-02-24T07:52:33.770222Z"
    }
   },
   "outputs": [
    {
     "data": {
      "text/plain": [
       "tensor([[ 0.2304,  0.7922,  1.4427],\n",
       "        [-0.9715,  0.2259,  1.2796]])"
      ]
     },
     "execution_count": 4,
     "metadata": {},
     "output_type": "execute_result"
    }
   ],
   "source": [
    "t.a"
   ]
  },
  {
   "cell_type": "code",
   "execution_count": 5,
   "id": "c18197bd",
   "metadata": {
    "execution": {
     "iopub.execute_input": "2023-02-24T07:52:33.774613Z",
     "iopub.status.busy": "2023-02-24T07:52:33.774111Z",
     "iopub.status.idle": "2023-02-24T07:52:39.769441Z",
     "shell.execute_reply": "2023-02-24T07:52:39.768565Z"
    }
   },
   "outputs": [
    {
     "name": "stdout",
     "output_type": "stream",
     "text": [
      "74 ns ± 1.56 ns per loop (mean ± std. dev. of 7 runs, 10,000,000 loops each)\n"
     ]
    }
   ],
   "source": [
    "%timeit t.a"
   ]
  },
  {
   "cell_type": "code",
   "execution_count": 6,
   "id": "bd52f867",
   "metadata": {
    "execution": {
     "iopub.execute_input": "2023-02-24T07:52:39.772996Z",
     "iopub.status.busy": "2023-02-24T07:52:39.772436Z",
     "iopub.status.idle": "2023-02-24T07:52:39.781486Z",
     "shell.execute_reply": "2023-02-24T07:52:39.780390Z"
    }
   },
   "outputs": [
    {
     "data": {
      "text/plain": [
       "<FastTreeValue 0x7f261401bb50>\n",
       "├── 'a' --> tensor([[-0.4103,  0.2274, -1.5223],\n",
       "│                   [-0.3212, -1.3128,  0.7879]])\n",
       "└── 'x' --> <FastTreeValue 0x7f261401b760>\n",
       "    └── 'c' --> tensor([[-0.0831, -0.2791,  0.7694, -1.1180],\n",
       "                        [ 0.2136, -0.6164, -1.3785, -0.5023],\n",
       "                        [-1.2682, -0.0896,  0.3914,  0.1475]])"
      ]
     },
     "execution_count": 6,
     "metadata": {},
     "output_type": "execute_result"
    }
   ],
   "source": [
    "new_value = torch.randn(2, 3)\n",
    "t.a = new_value\n",
    "\n",
    "t"
   ]
  },
  {
   "cell_type": "code",
   "execution_count": 7,
   "id": "bbe04d1c",
   "metadata": {
    "execution": {
     "iopub.execute_input": "2023-02-24T07:52:39.784824Z",
     "iopub.status.busy": "2023-02-24T07:52:39.784520Z",
     "iopub.status.idle": "2023-02-24T07:52:46.068488Z",
     "shell.execute_reply": "2023-02-24T07:52:46.067395Z"
    }
   },
   "outputs": [
    {
     "name": "stdout",
     "output_type": "stream",
     "text": [
      "77.3 ns ± 1.64 ns per loop (mean ± std. dev. of 7 runs, 10,000,000 loops each)\n"
     ]
    }
   ],
   "source": [
    "%timeit t.a = new_value"
   ]
  },
  {
   "cell_type": "markdown",
   "id": "48c49731",
   "metadata": {},
   "source": [
    "### Tianshou Batch's Get and Set"
   ]
  },
  {
   "cell_type": "code",
   "execution_count": 8,
   "id": "f1bb14c1",
   "metadata": {
    "execution": {
     "iopub.execute_input": "2023-02-24T07:52:46.072534Z",
     "iopub.status.busy": "2023-02-24T07:52:46.071977Z",
     "iopub.status.idle": "2023-02-24T07:52:46.518418Z",
     "shell.execute_reply": "2023-02-24T07:52:46.517166Z"
    }
   },
   "outputs": [],
   "source": [
    "from tianshou.data import Batch\n",
    "\n",
    "b = Batch(**_TREE_DATA_2)"
   ]
  },
  {
   "cell_type": "code",
   "execution_count": 9,
   "id": "cb0777c3",
   "metadata": {
    "execution": {
     "iopub.execute_input": "2023-02-24T07:52:46.523293Z",
     "iopub.status.busy": "2023-02-24T07:52:46.522868Z",
     "iopub.status.idle": "2023-02-24T07:52:46.531087Z",
     "shell.execute_reply": "2023-02-24T07:52:46.530113Z"
    }
   },
   "outputs": [
    {
     "data": {
      "text/plain": [
       "Batch(\n",
       "    a: tensor([[ 0.2304,  0.7922,  1.4427],\n",
       "               [-0.9715,  0.2259,  1.2796]]),\n",
       "    x: Batch(\n",
       "           c: tensor([[-0.0831, -0.2791,  0.7694, -1.1180],\n",
       "                      [ 0.2136, -0.6164, -1.3785, -0.5023],\n",
       "                      [-1.2682, -0.0896,  0.3914,  0.1475]]),\n",
       "       ),\n",
       ")"
      ]
     },
     "execution_count": 9,
     "metadata": {},
     "output_type": "execute_result"
    }
   ],
   "source": [
    "b"
   ]
  },
  {
   "cell_type": "code",
   "execution_count": 10,
   "id": "43ef8ea3",
   "metadata": {
    "execution": {
     "iopub.execute_input": "2023-02-24T07:52:46.534918Z",
     "iopub.status.busy": "2023-02-24T07:52:46.534220Z",
     "iopub.status.idle": "2023-02-24T07:52:46.541135Z",
     "shell.execute_reply": "2023-02-24T07:52:46.539774Z"
    }
   },
   "outputs": [
    {
     "data": {
      "text/plain": [
       "tensor([[ 0.2304,  0.7922,  1.4427],\n",
       "        [-0.9715,  0.2259,  1.2796]])"
      ]
     },
     "execution_count": 10,
     "metadata": {},
     "output_type": "execute_result"
    }
   ],
   "source": [
    "b.a"
   ]
  },
  {
   "cell_type": "code",
   "execution_count": 11,
   "id": "b785ab72",
   "metadata": {
    "execution": {
     "iopub.execute_input": "2023-02-24T07:52:46.544878Z",
     "iopub.status.busy": "2023-02-24T07:52:46.544284Z",
     "iopub.status.idle": "2023-02-24T07:52:51.616268Z",
     "shell.execute_reply": "2023-02-24T07:52:51.614768Z"
    }
   },
   "outputs": [
    {
     "name": "stdout",
     "output_type": "stream",
     "text": [
      "62.2 ns ± 1.74 ns per loop (mean ± std. dev. of 7 runs, 10,000,000 loops each)\n"
     ]
    }
   ],
   "source": [
    "%timeit b.a"
   ]
  },
  {
   "cell_type": "code",
   "execution_count": 12,
   "id": "ad54dc69",
   "metadata": {
    "execution": {
     "iopub.execute_input": "2023-02-24T07:52:51.620406Z",
     "iopub.status.busy": "2023-02-24T07:52:51.620120Z",
     "iopub.status.idle": "2023-02-24T07:52:51.630443Z",
     "shell.execute_reply": "2023-02-24T07:52:51.629396Z"
    }
   },
   "outputs": [
    {
     "data": {
      "text/plain": [
       "Batch(\n",
       "    a: tensor([[ 0.4819, -0.1286,  0.7698],\n",
       "               [-0.2364,  1.2567,  0.1706]]),\n",
       "    x: Batch(\n",
       "           c: tensor([[-0.0831, -0.2791,  0.7694, -1.1180],\n",
       "                      [ 0.2136, -0.6164, -1.3785, -0.5023],\n",
       "                      [-1.2682, -0.0896,  0.3914,  0.1475]]),\n",
       "       ),\n",
       ")"
      ]
     },
     "execution_count": 12,
     "metadata": {},
     "output_type": "execute_result"
    }
   ],
   "source": [
    "new_value = torch.randn(2, 3)\n",
    "b.a = new_value\n",
    "\n",
    "b"
   ]
  },
  {
   "cell_type": "code",
   "execution_count": 13,
   "id": "29b1d0bf",
   "metadata": {
    "execution": {
     "iopub.execute_input": "2023-02-24T07:52:51.634462Z",
     "iopub.status.busy": "2023-02-24T07:52:51.633782Z",
     "iopub.status.idle": "2023-02-24T07:52:56.039908Z",
     "shell.execute_reply": "2023-02-24T07:52:56.038993Z"
    }
   },
   "outputs": [
    {
     "name": "stdout",
     "output_type": "stream",
     "text": [
      "538 ns ± 14.2 ns per loop (mean ± std. dev. of 7 runs, 1,000,000 loops each)\n"
     ]
    }
   ],
   "source": [
    "%timeit b.a = new_value"
   ]
  },
  {
   "cell_type": "markdown",
   "id": "b61ad1d0",
   "metadata": {},
   "source": [
    "## Initialization"
   ]
  },
  {
   "cell_type": "markdown",
   "id": "d70f0d54",
   "metadata": {},
   "source": [
    "### TreeValue's Initialization"
   ]
  },
  {
   "cell_type": "code",
   "execution_count": 14,
   "id": "d32a679b",
   "metadata": {
    "execution": {
     "iopub.execute_input": "2023-02-24T07:52:56.044417Z",
     "iopub.status.busy": "2023-02-24T07:52:56.043754Z",
     "iopub.status.idle": "2023-02-24T07:53:03.356916Z",
     "shell.execute_reply": "2023-02-24T07:53:03.356072Z"
    }
   },
   "outputs": [
    {
     "name": "stdout",
     "output_type": "stream",
     "text": [
      "901 ns ± 22.5 ns per loop (mean ± std. dev. of 7 runs, 1,000,000 loops each)\n"
     ]
    }
   ],
   "source": [
    "%timeit FastTreeValue(_TREE_DATA_1)"
   ]
  },
  {
   "cell_type": "markdown",
   "id": "24f3707b",
   "metadata": {},
   "source": [
    "### Tianshou Batch's Initialization"
   ]
  },
  {
   "cell_type": "code",
   "execution_count": 15,
   "id": "ac3958df",
   "metadata": {
    "execution": {
     "iopub.execute_input": "2023-02-24T07:53:03.361589Z",
     "iopub.status.busy": "2023-02-24T07:53:03.360722Z",
     "iopub.status.idle": "2023-02-24T07:53:13.165560Z",
     "shell.execute_reply": "2023-02-24T07:53:13.164251Z"
    }
   },
   "outputs": [
    {
     "name": "stdout",
     "output_type": "stream",
     "text": [
      "12 µs ± 233 ns per loop (mean ± std. dev. of 7 runs, 100,000 loops each)\n"
     ]
    }
   ],
   "source": [
    "%timeit Batch(**_TREE_DATA_1)"
   ]
  },
  {
   "cell_type": "markdown",
   "id": "1ab82e2d",
   "metadata": {},
   "source": [
    "## Deep Copy Operation"
   ]
  },
  {
   "cell_type": "code",
   "execution_count": 16,
   "id": "210a9442",
   "metadata": {
    "execution": {
     "iopub.execute_input": "2023-02-24T07:53:13.169311Z",
     "iopub.status.busy": "2023-02-24T07:53:13.169045Z",
     "iopub.status.idle": "2023-02-24T07:53:13.174470Z",
     "shell.execute_reply": "2023-02-24T07:53:13.173546Z"
    }
   },
   "outputs": [],
   "source": [
    "import copy"
   ]
  },
  {
   "cell_type": "markdown",
   "id": "5a736274",
   "metadata": {},
   "source": [
    "### Deep Copy of TreeValue"
   ]
  },
  {
   "cell_type": "code",
   "execution_count": 17,
   "id": "f9bcadd6",
   "metadata": {
    "execution": {
     "iopub.execute_input": "2023-02-24T07:53:13.177656Z",
     "iopub.status.busy": "2023-02-24T07:53:13.177336Z",
     "iopub.status.idle": "2023-02-24T07:53:15.240017Z",
     "shell.execute_reply": "2023-02-24T07:53:15.239174Z"
    }
   },
   "outputs": [
    {
     "name": "stdout",
     "output_type": "stream",
     "text": [
      "253 µs ± 7.61 µs per loop (mean ± std. dev. of 7 runs, 1,000 loops each)\n"
     ]
    }
   ],
   "source": [
    "t3 = FastTreeValue(_TREE_DATA_3)\n",
    "%timeit copy.deepcopy(t3)"
   ]
  },
  {
   "cell_type": "markdown",
   "id": "bf8be7ea",
   "metadata": {},
   "source": [
    "### Deep Copy of Tianshou Batch"
   ]
  },
  {
   "cell_type": "code",
   "execution_count": 18,
   "id": "91998e6f",
   "metadata": {
    "execution": {
     "iopub.execute_input": "2023-02-24T07:53:15.243979Z",
     "iopub.status.busy": "2023-02-24T07:53:15.243399Z",
     "iopub.status.idle": "2023-02-24T07:53:17.214939Z",
     "shell.execute_reply": "2023-02-24T07:53:17.213843Z"
    }
   },
   "outputs": [
    {
     "name": "stdout",
     "output_type": "stream",
     "text": [
      "241 µs ± 10.9 µs per loop (mean ± std. dev. of 7 runs, 1,000 loops each)\n"
     ]
    }
   ],
   "source": [
    "b3 = Batch(**_TREE_DATA_3)\n",
    "%timeit copy.deepcopy(b3)"
   ]
  },
  {
   "cell_type": "markdown",
   "id": "223162fb",
   "metadata": {},
   "source": [
    "## Stack, Concat and Split Operation"
   ]
  },
  {
   "cell_type": "markdown",
   "id": "85fa4a73",
   "metadata": {},
   "source": [
    "### Performance of TreeValue"
   ]
  },
  {
   "cell_type": "code",
   "execution_count": 19,
   "id": "a0c2b697",
   "metadata": {
    "execution": {
     "iopub.execute_input": "2023-02-24T07:53:17.218698Z",
     "iopub.status.busy": "2023-02-24T07:53:17.218120Z",
     "iopub.status.idle": "2023-02-24T07:53:17.223870Z",
     "shell.execute_reply": "2023-02-24T07:53:17.223100Z"
    }
   },
   "outputs": [],
   "source": [
    "trees = [FastTreeValue(_TREE_DATA_2) for _ in range(8)]"
   ]
  },
  {
   "cell_type": "code",
   "execution_count": 20,
   "id": "017ea5a5",
   "metadata": {
    "execution": {
     "iopub.execute_input": "2023-02-24T07:53:17.228073Z",
     "iopub.status.busy": "2023-02-24T07:53:17.227553Z",
     "iopub.status.idle": "2023-02-24T07:53:17.238370Z",
     "shell.execute_reply": "2023-02-24T07:53:17.237504Z"
    }
   },
   "outputs": [
    {
     "data": {
      "text/plain": [
       "<FastTreeValue 0x7f261407bd00>\n",
       "├── 'a' --> tensor([[[ 0.2304,  0.7922,  1.4427],\n",
       "│                    [-0.9715,  0.2259,  1.2796]],\n",
       "│           \n",
       "│                   [[ 0.2304,  0.7922,  1.4427],\n",
       "│                    [-0.9715,  0.2259,  1.2796]],\n",
       "│           \n",
       "│                   [[ 0.2304,  0.7922,  1.4427],\n",
       "│                    [-0.9715,  0.2259,  1.2796]],\n",
       "│           \n",
       "│                   [[ 0.2304,  0.7922,  1.4427],\n",
       "│                    [-0.9715,  0.2259,  1.2796]],\n",
       "│           \n",
       "│                   [[ 0.2304,  0.7922,  1.4427],\n",
       "│                    [-0.9715,  0.2259,  1.2796]],\n",
       "│           \n",
       "│                   [[ 0.2304,  0.7922,  1.4427],\n",
       "│                    [-0.9715,  0.2259,  1.2796]],\n",
       "│           \n",
       "│                   [[ 0.2304,  0.7922,  1.4427],\n",
       "│                    [-0.9715,  0.2259,  1.2796]],\n",
       "│           \n",
       "│                   [[ 0.2304,  0.7922,  1.4427],\n",
       "│                    [-0.9715,  0.2259,  1.2796]]])\n",
       "└── 'x' --> <FastTreeValue 0x7f25e87b0ac0>\n",
       "    └── 'c' --> tensor([[[-0.0831, -0.2791,  0.7694, -1.1180],\n",
       "                         [ 0.2136, -0.6164, -1.3785, -0.5023],\n",
       "                         [-1.2682, -0.0896,  0.3914,  0.1475]],\n",
       "                \n",
       "                        [[-0.0831, -0.2791,  0.7694, -1.1180],\n",
       "                         [ 0.2136, -0.6164, -1.3785, -0.5023],\n",
       "                         [-1.2682, -0.0896,  0.3914,  0.1475]],\n",
       "                \n",
       "                        [[-0.0831, -0.2791,  0.7694, -1.1180],\n",
       "                         [ 0.2136, -0.6164, -1.3785, -0.5023],\n",
       "                         [-1.2682, -0.0896,  0.3914,  0.1475]],\n",
       "                \n",
       "                        [[-0.0831, -0.2791,  0.7694, -1.1180],\n",
       "                         [ 0.2136, -0.6164, -1.3785, -0.5023],\n",
       "                         [-1.2682, -0.0896,  0.3914,  0.1475]],\n",
       "                \n",
       "                        [[-0.0831, -0.2791,  0.7694, -1.1180],\n",
       "                         [ 0.2136, -0.6164, -1.3785, -0.5023],\n",
       "                         [-1.2682, -0.0896,  0.3914,  0.1475]],\n",
       "                \n",
       "                        [[-0.0831, -0.2791,  0.7694, -1.1180],\n",
       "                         [ 0.2136, -0.6164, -1.3785, -0.5023],\n",
       "                         [-1.2682, -0.0896,  0.3914,  0.1475]],\n",
       "                \n",
       "                        [[-0.0831, -0.2791,  0.7694, -1.1180],\n",
       "                         [ 0.2136, -0.6164, -1.3785, -0.5023],\n",
       "                         [-1.2682, -0.0896,  0.3914,  0.1475]],\n",
       "                \n",
       "                        [[-0.0831, -0.2791,  0.7694, -1.1180],\n",
       "                         [ 0.2136, -0.6164, -1.3785, -0.5023],\n",
       "                         [-1.2682, -0.0896,  0.3914,  0.1475]]])"
      ]
     },
     "execution_count": 20,
     "metadata": {},
     "output_type": "execute_result"
    }
   ],
   "source": [
    "t_stack = FastTreeValue.func(subside=True)(torch.stack)\n",
    "\n",
    "t_stack(trees)"
   ]
  },
  {
   "cell_type": "code",
   "execution_count": 21,
   "id": "f8b3f415",
   "metadata": {
    "execution": {
     "iopub.execute_input": "2023-02-24T07:53:17.241742Z",
     "iopub.status.busy": "2023-02-24T07:53:17.241214Z",
     "iopub.status.idle": "2023-02-24T07:53:20.511101Z",
     "shell.execute_reply": "2023-02-24T07:53:20.509761Z"
    }
   },
   "outputs": [
    {
     "name": "stdout",
     "output_type": "stream",
     "text": [
      "39.8 µs ± 1.27 µs per loop (mean ± std. dev. of 7 runs, 10,000 loops each)\n"
     ]
    }
   ],
   "source": [
    "%timeit t_stack(trees)"
   ]
  },
  {
   "cell_type": "code",
   "execution_count": 22,
   "id": "94b56771",
   "metadata": {
    "execution": {
     "iopub.execute_input": "2023-02-24T07:53:20.515197Z",
     "iopub.status.busy": "2023-02-24T07:53:20.514624Z",
     "iopub.status.idle": "2023-02-24T07:53:20.525493Z",
     "shell.execute_reply": "2023-02-24T07:53:20.524570Z"
    }
   },
   "outputs": [
    {
     "data": {
      "text/plain": [
       "<FastTreeValue 0x7f261408f190>\n",
       "├── 'a' --> tensor([[ 0.2304,  0.7922,  1.4427],\n",
       "│                   [-0.9715,  0.2259,  1.2796],\n",
       "│                   [ 0.2304,  0.7922,  1.4427],\n",
       "│                   [-0.9715,  0.2259,  1.2796],\n",
       "│                   [ 0.2304,  0.7922,  1.4427],\n",
       "│                   [-0.9715,  0.2259,  1.2796],\n",
       "│                   [ 0.2304,  0.7922,  1.4427],\n",
       "│                   [-0.9715,  0.2259,  1.2796],\n",
       "│                   [ 0.2304,  0.7922,  1.4427],\n",
       "│                   [-0.9715,  0.2259,  1.2796],\n",
       "│                   [ 0.2304,  0.7922,  1.4427],\n",
       "│                   [-0.9715,  0.2259,  1.2796],\n",
       "│                   [ 0.2304,  0.7922,  1.4427],\n",
       "│                   [-0.9715,  0.2259,  1.2796],\n",
       "│                   [ 0.2304,  0.7922,  1.4427],\n",
       "│                   [-0.9715,  0.2259,  1.2796]])\n",
       "└── 'x' --> <FastTreeValue 0x7f2566cd0f40>\n",
       "    └── 'c' --> tensor([[-0.0831, -0.2791,  0.7694, -1.1180],\n",
       "                        [ 0.2136, -0.6164, -1.3785, -0.5023],\n",
       "                        [-1.2682, -0.0896,  0.3914,  0.1475],\n",
       "                        [-0.0831, -0.2791,  0.7694, -1.1180],\n",
       "                        [ 0.2136, -0.6164, -1.3785, -0.5023],\n",
       "                        [-1.2682, -0.0896,  0.3914,  0.1475],\n",
       "                        [-0.0831, -0.2791,  0.7694, -1.1180],\n",
       "                        [ 0.2136, -0.6164, -1.3785, -0.5023],\n",
       "                        [-1.2682, -0.0896,  0.3914,  0.1475],\n",
       "                        [-0.0831, -0.2791,  0.7694, -1.1180],\n",
       "                        [ 0.2136, -0.6164, -1.3785, -0.5023],\n",
       "                        [-1.2682, -0.0896,  0.3914,  0.1475],\n",
       "                        [-0.0831, -0.2791,  0.7694, -1.1180],\n",
       "                        [ 0.2136, -0.6164, -1.3785, -0.5023],\n",
       "                        [-1.2682, -0.0896,  0.3914,  0.1475],\n",
       "                        [-0.0831, -0.2791,  0.7694, -1.1180],\n",
       "                        [ 0.2136, -0.6164, -1.3785, -0.5023],\n",
       "                        [-1.2682, -0.0896,  0.3914,  0.1475],\n",
       "                        [-0.0831, -0.2791,  0.7694, -1.1180],\n",
       "                        [ 0.2136, -0.6164, -1.3785, -0.5023],\n",
       "                        [-1.2682, -0.0896,  0.3914,  0.1475],\n",
       "                        [-0.0831, -0.2791,  0.7694, -1.1180],\n",
       "                        [ 0.2136, -0.6164, -1.3785, -0.5023],\n",
       "                        [-1.2682, -0.0896,  0.3914,  0.1475]])"
      ]
     },
     "execution_count": 22,
     "metadata": {},
     "output_type": "execute_result"
    }
   ],
   "source": [
    "t_cat = FastTreeValue.func(subside=True)(torch.cat)\n",
    "\n",
    "t_cat(trees)"
   ]
  },
  {
   "cell_type": "code",
   "execution_count": 23,
   "id": "5e9c06a6",
   "metadata": {
    "execution": {
     "iopub.execute_input": "2023-02-24T07:53:20.529273Z",
     "iopub.status.busy": "2023-02-24T07:53:20.528584Z",
     "iopub.status.idle": "2023-02-24T07:53:23.567879Z",
     "shell.execute_reply": "2023-02-24T07:53:23.566782Z"
    }
   },
   "outputs": [
    {
     "name": "stdout",
     "output_type": "stream",
     "text": [
      "37.5 µs ± 1.52 µs per loop (mean ± std. dev. of 7 runs, 10,000 loops each)\n"
     ]
    }
   ],
   "source": [
    "%timeit t_cat(trees)"
   ]
  },
  {
   "cell_type": "code",
   "execution_count": 24,
   "id": "a3ab5c8f",
   "metadata": {
    "execution": {
     "iopub.execute_input": "2023-02-24T07:53:23.572342Z",
     "iopub.status.busy": "2023-02-24T07:53:23.571870Z",
     "iopub.status.idle": "2023-02-24T07:53:29.627118Z",
     "shell.execute_reply": "2023-02-24T07:53:29.626151Z"
    }
   },
   "outputs": [
    {
     "name": "stdout",
     "output_type": "stream",
     "text": [
      "74.9 µs ± 2.78 µs per loop (mean ± std. dev. of 7 runs, 10,000 loops each)\n"
     ]
    }
   ],
   "source": [
    "t_split = FastTreeValue.func(rise=True)(torch.split)\n",
    "tree = FastTreeValue({\n",
    "    'obs': torch.randn(8, 4, 84, 84),\n",
    "    'action': torch.randint(0, 6, size=(8, 1,)),\n",
    "    'reward': torch.rand(8, 1),\n",
    "})\n",
    "\n",
    "%timeit t_split(tree, 1)"
   ]
  },
  {
   "cell_type": "markdown",
   "id": "31c3ec0b",
   "metadata": {},
   "source": [
    "### Performance of Tianshou Batch"
   ]
  },
  {
   "cell_type": "code",
   "execution_count": 25,
   "id": "9ead828a",
   "metadata": {
    "execution": {
     "iopub.execute_input": "2023-02-24T07:53:29.631459Z",
     "iopub.status.busy": "2023-02-24T07:53:29.630715Z",
     "iopub.status.idle": "2023-02-24T07:53:29.639562Z",
     "shell.execute_reply": "2023-02-24T07:53:29.638706Z"
    }
   },
   "outputs": [
    {
     "data": {
      "text/plain": [
       "Batch(\n",
       "    a: tensor([[[ 0.2304,  0.7922,  1.4427],\n",
       "                [-0.9715,  0.2259,  1.2796]],\n",
       "       \n",
       "               [[ 0.2304,  0.7922,  1.4427],\n",
       "                [-0.9715,  0.2259,  1.2796]],\n",
       "       \n",
       "               [[ 0.2304,  0.7922,  1.4427],\n",
       "                [-0.9715,  0.2259,  1.2796]],\n",
       "       \n",
       "               [[ 0.2304,  0.7922,  1.4427],\n",
       "                [-0.9715,  0.2259,  1.2796]],\n",
       "       \n",
       "               [[ 0.2304,  0.7922,  1.4427],\n",
       "                [-0.9715,  0.2259,  1.2796]],\n",
       "       \n",
       "               [[ 0.2304,  0.7922,  1.4427],\n",
       "                [-0.9715,  0.2259,  1.2796]],\n",
       "       \n",
       "               [[ 0.2304,  0.7922,  1.4427],\n",
       "                [-0.9715,  0.2259,  1.2796]],\n",
       "       \n",
       "               [[ 0.2304,  0.7922,  1.4427],\n",
       "                [-0.9715,  0.2259,  1.2796]]]),\n",
       "    x: Batch(\n",
       "           c: tensor([[[-0.0831, -0.2791,  0.7694, -1.1180],\n",
       "                       [ 0.2136, -0.6164, -1.3785, -0.5023],\n",
       "                       [-1.2682, -0.0896,  0.3914,  0.1475]],\n",
       "              \n",
       "                      [[-0.0831, -0.2791,  0.7694, -1.1180],\n",
       "                       [ 0.2136, -0.6164, -1.3785, -0.5023],\n",
       "                       [-1.2682, -0.0896,  0.3914,  0.1475]],\n",
       "              \n",
       "                      [[-0.0831, -0.2791,  0.7694, -1.1180],\n",
       "                       [ 0.2136, -0.6164, -1.3785, -0.5023],\n",
       "                       [-1.2682, -0.0896,  0.3914,  0.1475]],\n",
       "              \n",
       "                      [[-0.0831, -0.2791,  0.7694, -1.1180],\n",
       "                       [ 0.2136, -0.6164, -1.3785, -0.5023],\n",
       "                       [-1.2682, -0.0896,  0.3914,  0.1475]],\n",
       "              \n",
       "                      [[-0.0831, -0.2791,  0.7694, -1.1180],\n",
       "                       [ 0.2136, -0.6164, -1.3785, -0.5023],\n",
       "                       [-1.2682, -0.0896,  0.3914,  0.1475]],\n",
       "              \n",
       "                      [[-0.0831, -0.2791,  0.7694, -1.1180],\n",
       "                       [ 0.2136, -0.6164, -1.3785, -0.5023],\n",
       "                       [-1.2682, -0.0896,  0.3914,  0.1475]],\n",
       "              \n",
       "                      [[-0.0831, -0.2791,  0.7694, -1.1180],\n",
       "                       [ 0.2136, -0.6164, -1.3785, -0.5023],\n",
       "                       [-1.2682, -0.0896,  0.3914,  0.1475]],\n",
       "              \n",
       "                      [[-0.0831, -0.2791,  0.7694, -1.1180],\n",
       "                       [ 0.2136, -0.6164, -1.3785, -0.5023],\n",
       "                       [-1.2682, -0.0896,  0.3914,  0.1475]]]),\n",
       "       ),\n",
       ")"
      ]
     },
     "execution_count": 25,
     "metadata": {},
     "output_type": "execute_result"
    }
   ],
   "source": [
    "batches = [Batch(**_TREE_DATA_2) for _ in range(8)]\n",
    "\n",
    "Batch.stack(batches)"
   ]
  },
  {
   "cell_type": "code",
   "execution_count": 26,
   "id": "ec9037a3",
   "metadata": {
    "execution": {
     "iopub.execute_input": "2023-02-24T07:53:29.642855Z",
     "iopub.status.busy": "2023-02-24T07:53:29.642584Z",
     "iopub.status.idle": "2023-02-24T07:53:37.021248Z",
     "shell.execute_reply": "2023-02-24T07:53:37.020161Z"
    }
   },
   "outputs": [
    {
     "name": "stdout",
     "output_type": "stream",
     "text": [
      "90.4 µs ± 2.03 µs per loop (mean ± std. dev. of 7 runs, 10,000 loops each)\n"
     ]
    }
   ],
   "source": [
    "%timeit Batch.stack(batches)"
   ]
  },
  {
   "cell_type": "code",
   "execution_count": 27,
   "id": "cb8ab77e",
   "metadata": {
    "execution": {
     "iopub.execute_input": "2023-02-24T07:53:37.025140Z",
     "iopub.status.busy": "2023-02-24T07:53:37.024629Z",
     "iopub.status.idle": "2023-02-24T07:53:37.034953Z",
     "shell.execute_reply": "2023-02-24T07:53:37.034071Z"
    }
   },
   "outputs": [
    {
     "data": {
      "text/plain": [
       "Batch(\n",
       "    a: tensor([[ 0.2304,  0.7922,  1.4427],\n",
       "               [-0.9715,  0.2259,  1.2796],\n",
       "               [ 0.2304,  0.7922,  1.4427],\n",
       "               [-0.9715,  0.2259,  1.2796],\n",
       "               [ 0.2304,  0.7922,  1.4427],\n",
       "               [-0.9715,  0.2259,  1.2796],\n",
       "               [ 0.2304,  0.7922,  1.4427],\n",
       "               [-0.9715,  0.2259,  1.2796],\n",
       "               [ 0.2304,  0.7922,  1.4427],\n",
       "               [-0.9715,  0.2259,  1.2796],\n",
       "               [ 0.2304,  0.7922,  1.4427],\n",
       "               [-0.9715,  0.2259,  1.2796],\n",
       "               [ 0.2304,  0.7922,  1.4427],\n",
       "               [-0.9715,  0.2259,  1.2796],\n",
       "               [ 0.2304,  0.7922,  1.4427],\n",
       "               [-0.9715,  0.2259,  1.2796]]),\n",
       "    x: Batch(\n",
       "           c: tensor([[-0.0831, -0.2791,  0.7694, -1.1180],\n",
       "                      [ 0.2136, -0.6164, -1.3785, -0.5023],\n",
       "                      [-1.2682, -0.0896,  0.3914,  0.1475],\n",
       "                      [-0.0831, -0.2791,  0.7694, -1.1180],\n",
       "                      [ 0.2136, -0.6164, -1.3785, -0.5023],\n",
       "                      [-1.2682, -0.0896,  0.3914,  0.1475],\n",
       "                      [-0.0831, -0.2791,  0.7694, -1.1180],\n",
       "                      [ 0.2136, -0.6164, -1.3785, -0.5023],\n",
       "                      [-1.2682, -0.0896,  0.3914,  0.1475],\n",
       "                      [-0.0831, -0.2791,  0.7694, -1.1180],\n",
       "                      [ 0.2136, -0.6164, -1.3785, -0.5023],\n",
       "                      [-1.2682, -0.0896,  0.3914,  0.1475],\n",
       "                      [-0.0831, -0.2791,  0.7694, -1.1180],\n",
       "                      [ 0.2136, -0.6164, -1.3785, -0.5023],\n",
       "                      [-1.2682, -0.0896,  0.3914,  0.1475],\n",
       "                      [-0.0831, -0.2791,  0.7694, -1.1180],\n",
       "                      [ 0.2136, -0.6164, -1.3785, -0.5023],\n",
       "                      [-1.2682, -0.0896,  0.3914,  0.1475],\n",
       "                      [-0.0831, -0.2791,  0.7694, -1.1180],\n",
       "                      [ 0.2136, -0.6164, -1.3785, -0.5023],\n",
       "                      [-1.2682, -0.0896,  0.3914,  0.1475],\n",
       "                      [-0.0831, -0.2791,  0.7694, -1.1180],\n",
       "                      [ 0.2136, -0.6164, -1.3785, -0.5023],\n",
       "                      [-1.2682, -0.0896,  0.3914,  0.1475]]),\n",
       "       ),\n",
       ")"
      ]
     },
     "execution_count": 27,
     "metadata": {},
     "output_type": "execute_result"
    }
   ],
   "source": [
    "Batch.cat(batches)"
   ]
  },
  {
   "cell_type": "code",
   "execution_count": 28,
   "id": "18dfb045",
   "metadata": {
    "execution": {
     "iopub.execute_input": "2023-02-24T07:53:37.038483Z",
     "iopub.status.busy": "2023-02-24T07:53:37.038030Z",
     "iopub.status.idle": "2023-02-24T07:53:50.673981Z",
     "shell.execute_reply": "2023-02-24T07:53:50.672685Z"
    }
   },
   "outputs": [
    {
     "name": "stdout",
     "output_type": "stream",
     "text": [
      "167 µs ± 4.86 µs per loop (mean ± std. dev. of 7 runs, 10,000 loops each)\n"
     ]
    }
   ],
   "source": [
    "%timeit Batch.cat(batches)"
   ]
  },
  {
   "cell_type": "code",
   "execution_count": 29,
   "id": "c6688e51",
   "metadata": {
    "execution": {
     "iopub.execute_input": "2023-02-24T07:53:50.677583Z",
     "iopub.status.busy": "2023-02-24T07:53:50.677293Z",
     "iopub.status.idle": "2023-02-24T07:53:54.750110Z",
     "shell.execute_reply": "2023-02-24T07:53:54.749151Z"
    }
   },
   "outputs": [
    {
     "name": "stdout",
     "output_type": "stream",
     "text": [
      "497 µs ± 12.4 µs per loop (mean ± std. dev. of 7 runs, 1,000 loops each)\n"
     ]
    }
   ],
   "source": [
    "batch = Batch({\n",
    "    'obs': torch.randn(8, 4, 84, 84),\n",
    "    'action': torch.randint(0, 6, size=(8, 1,)),\n",
    "    'reward': torch.rand(8, 1)}\n",
    ")\n",
    "\n",
    "%timeit list(Batch.split(batch, 1, shuffle=False, merge_last=True))"
   ]
  },
  {
   "cell_type": "code",
   "execution_count": null,
   "id": "2539fbd9",
   "metadata": {},
   "outputs": [],
   "source": []
  }
 ],
 "metadata": {
  "kernelspec": {
   "display_name": "Python 3 (ipykernel)",
   "language": "python",
   "name": "python3"
  },
  "language_info": {
   "codemirror_mode": {
    "name": "ipython",
    "version": 3
   },
   "file_extension": ".py",
   "mimetype": "text/x-python",
   "name": "python",
   "nbconvert_exporter": "python",
   "pygments_lexer": "ipython3",
   "version": "3.8.16"
  }
 },
 "nbformat": 4,
 "nbformat_minor": 5
}
