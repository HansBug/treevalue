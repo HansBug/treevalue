{
 "cells": [
  {
   "cell_type": "markdown",
   "metadata": {
    "collapsed": false,
    "pycharm": {
     "name": "#%% md\n"
    }
   },
   "source": [
    "# Comparison Between TreeValue and DM-Tree"
   ]
  },
  {
   "cell_type": "markdown",
   "metadata": {
    "collapsed": false,
    "pycharm": {
     "name": "#%% md\n"
    }
   },
   "source": [
    "## Run Environment Information"
   ]
  },
  {
   "cell_type": "code",
   "execution_count": 1,
   "metadata": {
    "execution": {
     "iopub.execute_input": "2022-10-19T20:38:33.750636Z",
     "iopub.status.busy": "2022-10-19T20:38:33.750142Z",
     "iopub.status.idle": "2022-10-19T20:38:33.776275Z",
     "shell.execute_reply": "2022-10-19T20:38:33.775323Z"
    },
    "pycharm": {
     "name": "#%%\n"
    }
   },
   "outputs": [
    {
     "name": "stdout",
     "output_type": "stream",
     "text": [
      "OS: Linux-5.15.0-1021-azure-x86_64-with-glibc2.2.5\n",
      "Python: CPython 3.8.14\n",
      "Processor: x86_64\n",
      "CPUS: 2\n",
      "Memory: 6.781 GiB\n",
      "Has CUDA: No\n"
     ]
    }
   ],
   "source": [
    "import os\n",
    "import platform\n",
    "import shutil\n",
    "\n",
    "import psutil\n",
    "from hbutils.scale import size_to_bytes_str\n",
    "\n",
    "print('OS:', platform.platform())\n",
    "print('Python:', platform.python_implementation(), platform.python_version())\n",
    "print('Processor:', platform.processor())\n",
    "print('CPUS:', os.cpu_count())\n",
    "print('Memory:', size_to_bytes_str(psutil.virtual_memory().total, precision=3))\n",
    "print('Has CUDA:', 'Yes' if shutil.which('nvidia-smi') else 'No')"
   ]
  },
  {
   "cell_type": "markdown",
   "metadata": {
    "collapsed": false,
    "pycharm": {
     "name": "#%% md\n"
    }
   },
   "source": [
    "## Flatten and Unflatten"
   ]
  },
  {
   "cell_type": "markdown",
   "metadata": {
    "collapsed": false,
    "pycharm": {
     "name": "#%% md\n"
    }
   },
   "source": [
    "We create a dictionary for flatten"
   ]
  },
  {
   "cell_type": "code",
   "execution_count": 2,
   "metadata": {
    "execution": {
     "iopub.execute_input": "2022-10-19T20:38:33.819519Z",
     "iopub.status.busy": "2022-10-19T20:38:33.818856Z",
     "iopub.status.idle": "2022-10-19T20:38:33.822925Z",
     "shell.execute_reply": "2022-10-19T20:38:33.822204Z"
    },
    "pycharm": {
     "name": "#%%\n"
    }
   },
   "outputs": [],
   "source": [
    "origin = {'a': 1, 'b': 2, 'c': {'x': 3, 'y': 4}}"
   ]
  },
  {
   "cell_type": "markdown",
   "metadata": {
    "collapsed": false,
    "pycharm": {
     "name": "#%% md\n"
    }
   },
   "source": [
    "### TreeValue's Performance"
   ]
  },
  {
   "cell_type": "code",
   "execution_count": 3,
   "metadata": {
    "execution": {
     "iopub.execute_input": "2022-10-19T20:38:33.826427Z",
     "iopub.status.busy": "2022-10-19T20:38:33.826188Z",
     "iopub.status.idle": "2022-10-19T20:38:33.865348Z",
     "shell.execute_reply": "2022-10-19T20:38:33.864569Z"
    },
    "pycharm": {
     "name": "#%%\n"
    }
   },
   "outputs": [],
   "source": [
    "from treevalue import FastTreeValue, flatten, unflatten\n",
    "\n",
    "origin_tree = FastTreeValue(origin)"
   ]
  },
  {
   "cell_type": "code",
   "execution_count": 4,
   "metadata": {
    "execution": {
     "iopub.execute_input": "2022-10-19T20:38:33.869314Z",
     "iopub.status.busy": "2022-10-19T20:38:33.868991Z",
     "iopub.status.idle": "2022-10-19T20:38:33.879416Z",
     "shell.execute_reply": "2022-10-19T20:38:33.878606Z"
    },
    "pycharm": {
     "name": "#%%\n"
    }
   },
   "outputs": [
    {
     "data": {
      "text/plain": [
       "[(('a',), 1), (('b',), 2), (('c', 'x'), 3), (('c', 'y'), 4)]"
      ]
     },
     "execution_count": 4,
     "metadata": {},
     "output_type": "execute_result"
    }
   ],
   "source": [
    "flatted = flatten(origin_tree)\n",
    "flatted"
   ]
  },
  {
   "cell_type": "code",
   "execution_count": 5,
   "metadata": {
    "execution": {
     "iopub.execute_input": "2022-10-19T20:38:33.884322Z",
     "iopub.status.busy": "2022-10-19T20:38:33.884066Z",
     "iopub.status.idle": "2022-10-19T20:38:39.809310Z",
     "shell.execute_reply": "2022-10-19T20:38:39.807605Z"
    },
    "pycharm": {
     "name": "#%%\n"
    }
   },
   "outputs": [
    {
     "name": "stdout",
     "output_type": "stream",
     "text": [
      "726 ns ± 12.1 ns per loop (mean ± std. dev. of 7 runs, 1,000,000 loops each)\n"
     ]
    }
   ],
   "source": [
    "%timeit flatten(origin_tree)"
   ]
  },
  {
   "cell_type": "code",
   "execution_count": 6,
   "metadata": {
    "execution": {
     "iopub.execute_input": "2022-10-19T20:38:39.812940Z",
     "iopub.status.busy": "2022-10-19T20:38:39.812696Z",
     "iopub.status.idle": "2022-10-19T20:38:39.819264Z",
     "shell.execute_reply": "2022-10-19T20:38:39.818475Z"
    },
    "pycharm": {
     "name": "#%%\n"
    }
   },
   "outputs": [
    {
     "data": {
      "text/plain": [
       "<TreeValue 0x7fd6c804dc70>\n",
       "├── 'a' --> 1\n",
       "├── 'b' --> 2\n",
       "└── 'c' --> <TreeValue 0x7fd6c804da00>\n",
       "    ├── 'x' --> 3\n",
       "    └── 'y' --> 4"
      ]
     },
     "execution_count": 6,
     "metadata": {},
     "output_type": "execute_result"
    }
   ],
   "source": [
    "unflatten(flatted)"
   ]
  },
  {
   "cell_type": "code",
   "execution_count": 7,
   "metadata": {
    "execution": {
     "iopub.execute_input": "2022-10-19T20:38:39.822968Z",
     "iopub.status.busy": "2022-10-19T20:38:39.822698Z",
     "iopub.status.idle": "2022-10-19T20:38:46.156806Z",
     "shell.execute_reply": "2022-10-19T20:38:46.155430Z"
    },
    "pycharm": {
     "name": "#%%\n"
    }
   },
   "outputs": [
    {
     "name": "stdout",
     "output_type": "stream",
     "text": [
      "781 ns ± 9.38 ns per loop (mean ± std. dev. of 7 runs, 1,000,000 loops each)\n"
     ]
    }
   ],
   "source": [
    "%timeit unflatten(flatted)"
   ]
  },
  {
   "cell_type": "markdown",
   "metadata": {
    "collapsed": false,
    "pycharm": {
     "name": "#%% md\n"
    }
   },
   "source": [
    "### DM-Tree's Performance"
   ]
  },
  {
   "cell_type": "markdown",
   "metadata": {
    "collapsed": false,
    "pycharm": {
     "name": "#%% md\n"
    }
   },
   "source": [
    "This is the [dm-tree](https://github.com/deepmind/tree) library\n",
    "And here is a simplest example of dm-tree."
   ]
  },
  {
   "cell_type": "code",
   "execution_count": 8,
   "metadata": {
    "execution": {
     "iopub.execute_input": "2022-10-19T20:38:46.161067Z",
     "iopub.status.busy": "2022-10-19T20:38:46.160810Z",
     "iopub.status.idle": "2022-10-19T20:38:46.167495Z",
     "shell.execute_reply": "2022-10-19T20:38:46.166417Z"
    },
    "pycharm": {
     "name": "#%%\n"
    }
   },
   "outputs": [],
   "source": [
    "from tree import flatten, flatten_with_path"
   ]
  },
  {
   "cell_type": "markdown",
   "metadata": {
    "collapsed": false,
    "pycharm": {
     "name": "#%% md\n"
    }
   },
   "source": [
    "We try to flatten `origin` with both [flatten](https://tree.readthedocs.io/en/latest/api.html#tree.flatten) and [flatten_with_path](https://tree.readthedocs.io/en/latest/api.html#tree.flatten_with_path) function, and then measure their performance."
   ]
  },
  {
   "cell_type": "code",
   "execution_count": 9,
   "metadata": {
    "execution": {
     "iopub.execute_input": "2022-10-19T20:38:46.170867Z",
     "iopub.status.busy": "2022-10-19T20:38:46.170589Z",
     "iopub.status.idle": "2022-10-19T20:38:46.176173Z",
     "shell.execute_reply": "2022-10-19T20:38:46.175120Z"
    },
    "pycharm": {
     "name": "#%%\n"
    }
   },
   "outputs": [
    {
     "data": {
      "text/plain": [
       "[1, 2, 3, 4]"
      ]
     },
     "execution_count": 9,
     "metadata": {},
     "output_type": "execute_result"
    }
   ],
   "source": [
    "flatten(origin)"
   ]
  },
  {
   "cell_type": "code",
   "execution_count": 10,
   "metadata": {
    "execution": {
     "iopub.execute_input": "2022-10-19T20:38:46.180548Z",
     "iopub.status.busy": "2022-10-19T20:38:46.180295Z",
     "iopub.status.idle": "2022-10-19T20:38:54.174011Z",
     "shell.execute_reply": "2022-10-19T20:38:54.173155Z"
    },
    "pycharm": {
     "name": "#%%\n"
    }
   },
   "outputs": [
    {
     "name": "stdout",
     "output_type": "stream",
     "text": [
      "987 ns ± 26.2 ns per loop (mean ± std. dev. of 7 runs, 1,000,000 loops each)\n"
     ]
    }
   ],
   "source": [
    "%timeit flatten(origin)"
   ]
  },
  {
   "cell_type": "code",
   "execution_count": 11,
   "metadata": {
    "execution": {
     "iopub.execute_input": "2022-10-19T20:38:54.192695Z",
     "iopub.status.busy": "2022-10-19T20:38:54.192254Z",
     "iopub.status.idle": "2022-10-19T20:38:54.198942Z",
     "shell.execute_reply": "2022-10-19T20:38:54.197902Z"
    },
    "pycharm": {
     "name": "#%%\n"
    }
   },
   "outputs": [
    {
     "data": {
      "text/plain": [
       "[(('a',), 1), (('b',), 2), (('c', 'x'), 3), (('c', 'y'), 4)]"
      ]
     },
     "execution_count": 11,
     "metadata": {},
     "output_type": "execute_result"
    }
   ],
   "source": [
    "flatten_with_path(origin)"
   ]
  },
  {
   "cell_type": "code",
   "execution_count": 12,
   "metadata": {
    "execution": {
     "iopub.execute_input": "2022-10-19T20:38:54.202440Z",
     "iopub.status.busy": "2022-10-19T20:38:54.202172Z",
     "iopub.status.idle": "2022-10-19T20:39:06.534856Z",
     "shell.execute_reply": "2022-10-19T20:39:06.534032Z"
    },
    "pycharm": {
     "name": "#%%\n"
    }
   },
   "outputs": [
    {
     "name": "stdout",
     "output_type": "stream",
     "text": [
      "15.2 µs ± 359 ns per loop (mean ± std. dev. of 7 runs, 100,000 loops each)\n"
     ]
    }
   ],
   "source": [
    "%timeit flatten_with_path(origin)"
   ]
  },
  {
   "cell_type": "markdown",
   "metadata": {
    "collapsed": false,
    "pycharm": {
     "name": "#%% md\n"
    }
   },
   "source": [
    "Obviously, `flatten` in dm-tree is an irreversible operation, but `flatten_with_path` is reversible, which is similar to `flatten` in treevalue."
   ]
  },
  {
   "cell_type": "markdown",
   "metadata": {
    "collapsed": false,
    "pycharm": {
     "name": "#%% md\n"
    }
   },
   "source": [
    "But the [unflatten_as](https://tree.readthedocs.io/en/latest/api.html#tree.unflatten_as) is absolutely another thing in dm-tree"
   ]
  },
  {
   "cell_type": "code",
   "execution_count": 13,
   "metadata": {
    "execution": {
     "iopub.execute_input": "2022-10-19T20:39:06.539357Z",
     "iopub.status.busy": "2022-10-19T20:39:06.538902Z",
     "iopub.status.idle": "2022-10-19T20:39:06.542769Z",
     "shell.execute_reply": "2022-10-19T20:39:06.541911Z"
    },
    "pycharm": {
     "name": "#%%\n"
    }
   },
   "outputs": [],
   "source": [
    "from tree import unflatten_as"
   ]
  },
  {
   "cell_type": "code",
   "execution_count": 14,
   "metadata": {
    "execution": {
     "iopub.execute_input": "2022-10-19T20:39:06.546166Z",
     "iopub.status.busy": "2022-10-19T20:39:06.545699Z",
     "iopub.status.idle": "2022-10-19T20:39:06.552025Z",
     "shell.execute_reply": "2022-10-19T20:39:06.551173Z"
    },
    "pycharm": {
     "name": "#%%\n"
    }
   },
   "outputs": [
    {
     "data": {
      "text/plain": [
       "{'a': 1, 'b': 2, 'c': {'x': 3, 'y': 4}}"
      ]
     },
     "execution_count": 14,
     "metadata": {},
     "output_type": "execute_result"
    }
   ],
   "source": [
    "unflatten_as({'a': None, 'b': None, 'c': {'x': None, 'y': None}}, [1, 2, 3, 4])"
   ]
  },
  {
   "cell_type": "code",
   "execution_count": 15,
   "metadata": {
    "execution": {
     "iopub.execute_input": "2022-10-19T20:39:06.556238Z",
     "iopub.status.busy": "2022-10-19T20:39:06.555984Z",
     "iopub.status.idle": "2022-10-19T20:39:16.435347Z",
     "shell.execute_reply": "2022-10-19T20:39:16.434599Z"
    },
    "pycharm": {
     "name": "#%%\n"
    }
   },
   "outputs": [
    {
     "name": "stdout",
     "output_type": "stream",
     "text": [
      "12.2 µs ± 112 ns per loop (mean ± std. dev. of 7 runs, 100,000 loops each)\n"
     ]
    }
   ],
   "source": [
    "%timeit unflatten_as({'a': None, 'b': None, 'c': {'x': None, 'y': None}}, [1, 2, 3, 4])"
   ]
  },
  {
   "cell_type": "markdown",
   "metadata": {
    "collapsed": false,
    "pycharm": {
     "name": "#%% md\n"
    }
   },
   "source": [
    "## Positional Replacement"
   ]
  },
  {
   "cell_type": "markdown",
   "metadata": {
    "collapsed": false,
    "pycharm": {
     "name": "#%% md\n"
    }
   },
   "source": [
    "This is the performance in treevalue"
   ]
  },
  {
   "cell_type": "code",
   "execution_count": 16,
   "metadata": {
    "execution": {
     "iopub.execute_input": "2022-10-19T20:39:16.439572Z",
     "iopub.status.busy": "2022-10-19T20:39:16.439184Z",
     "iopub.status.idle": "2022-10-19T20:39:16.443804Z",
     "shell.execute_reply": "2022-10-19T20:39:16.443118Z"
    },
    "pycharm": {
     "name": "#%%\n"
    }
   },
   "outputs": [],
   "source": [
    "from treevalue import flatten, unflatten\n",
    "\n",
    "def replace(t, v):\n",
    "    pairs = flatten(t)\n",
    "    return unflatten([(path, vi) for (path, _), vi in zip(pairs, v)])"
   ]
  },
  {
   "cell_type": "code",
   "execution_count": 17,
   "metadata": {
    "execution": {
     "iopub.execute_input": "2022-10-19T20:39:16.447119Z",
     "iopub.status.busy": "2022-10-19T20:39:16.446625Z",
     "iopub.status.idle": "2022-10-19T20:39:16.453037Z",
     "shell.execute_reply": "2022-10-19T20:39:16.452218Z"
    },
    "pycharm": {
     "name": "#%%\n"
    }
   },
   "outputs": [
    {
     "data": {
      "text/plain": [
       "<TreeValue 0x7fd6c8054cd0>\n",
       "├── 'a' --> 3\n",
       "├── 'b' --> 5\n",
       "└── 'c' --> <TreeValue 0x7fd6c80548b0>\n",
       "    ├── 'x' --> 7\n",
       "    └── 'y' --> 9"
      ]
     },
     "execution_count": 17,
     "metadata": {},
     "output_type": "execute_result"
    }
   ],
   "source": [
    "replace(origin_tree, [3, 5, 7, 9])"
   ]
  },
  {
   "cell_type": "code",
   "execution_count": 18,
   "metadata": {
    "execution": {
     "iopub.execute_input": "2022-10-19T20:39:16.458239Z",
     "iopub.status.busy": "2022-10-19T20:39:16.457704Z",
     "iopub.status.idle": "2022-10-19T20:39:18.305676Z",
     "shell.execute_reply": "2022-10-19T20:39:18.304884Z"
    },
    "pycharm": {
     "name": "#%%\n"
    }
   },
   "outputs": [
    {
     "name": "stdout",
     "output_type": "stream",
     "text": [
      "2.27 µs ± 37.5 ns per loop (mean ± std. dev. of 7 runs, 100,000 loops each)\n"
     ]
    }
   ],
   "source": [
    "%timeit replace(origin_tree, [3, 5, 7, 9])"
   ]
  },
  {
   "cell_type": "markdown",
   "metadata": {
    "collapsed": false,
    "pycharm": {
     "name": "#%% md\n"
    }
   },
   "source": [
    "This is the performance in dm-tree"
   ]
  },
  {
   "cell_type": "code",
   "execution_count": 19,
   "metadata": {
    "execution": {
     "iopub.execute_input": "2022-10-19T20:39:18.309612Z",
     "iopub.status.busy": "2022-10-19T20:39:18.309223Z",
     "iopub.status.idle": "2022-10-19T20:39:18.313227Z",
     "shell.execute_reply": "2022-10-19T20:39:18.312457Z"
    },
    "pycharm": {
     "name": "#%%\n"
    }
   },
   "outputs": [],
   "source": [
    "from tree import unflatten_as"
   ]
  },
  {
   "cell_type": "code",
   "execution_count": 20,
   "metadata": {
    "execution": {
     "iopub.execute_input": "2022-10-19T20:39:18.316740Z",
     "iopub.status.busy": "2022-10-19T20:39:18.316192Z",
     "iopub.status.idle": "2022-10-19T20:39:18.322002Z",
     "shell.execute_reply": "2022-10-19T20:39:18.321047Z"
    },
    "pycharm": {
     "name": "#%%\n"
    }
   },
   "outputs": [
    {
     "data": {
      "text/plain": [
       "{'a': 3, 'b': 5, 'c': {'x': 7, 'y': 9}}"
      ]
     },
     "execution_count": 20,
     "metadata": {},
     "output_type": "execute_result"
    }
   ],
   "source": [
    "unflatten_as(origin, [3, 5, 7, 9])"
   ]
  },
  {
   "cell_type": "code",
   "execution_count": 21,
   "metadata": {
    "execution": {
     "iopub.execute_input": "2022-10-19T20:39:18.326346Z",
     "iopub.status.busy": "2022-10-19T20:39:18.326116Z",
     "iopub.status.idle": "2022-10-19T20:39:28.358167Z",
     "shell.execute_reply": "2022-10-19T20:39:28.357367Z"
    },
    "pycharm": {
     "name": "#%%\n"
    }
   },
   "outputs": [
    {
     "name": "stdout",
     "output_type": "stream",
     "text": [
      "12.4 µs ± 447 ns per loop (mean ± std. dev. of 7 runs, 100,000 loops each)\n"
     ]
    }
   ],
   "source": [
    "%timeit unflatten_as(origin, [3, 5, 7, 9])"
   ]
  },
  {
   "cell_type": "markdown",
   "metadata": {
    "collapsed": false,
    "pycharm": {
     "name": "#%% md\n"
    }
   },
   "source": [
    "Treevalue's performance is much better."
   ]
  }
 ],
 "metadata": {
  "kernelspec": {
   "display_name": "Python 3",
   "language": "python",
   "name": "python3"
  },
  "language_info": {
   "codemirror_mode": {
    "name": "ipython",
    "version": 3
   },
   "file_extension": ".py",
   "mimetype": "text/x-python",
   "name": "python",
   "nbconvert_exporter": "python",
   "pygments_lexer": "ipython3",
   "version": "3.8.14"
  }
 },
 "nbformat": 4,
 "nbformat_minor": 0
}
