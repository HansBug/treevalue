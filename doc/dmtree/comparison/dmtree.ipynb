{
 "cells": [
  {
   "cell_type": "markdown",
   "metadata": {
    "collapsed": false,
    "pycharm": {
     "name": "#%% md\n"
    }
   },
   "source": [
    "# Comparison Between TreeValue and DM-Tree"
   ]
  },
  {
   "cell_type": "markdown",
   "metadata": {
    "collapsed": false,
    "pycharm": {
     "name": "#%% md\n"
    }
   },
   "source": [
    "## Run Environment Information"
   ]
  },
  {
   "cell_type": "code",
   "execution_count": 1,
   "metadata": {
    "execution": {
     "iopub.execute_input": "2022-10-19T20:54:09.070347Z",
     "iopub.status.busy": "2022-10-19T20:54:09.069823Z",
     "iopub.status.idle": "2022-10-19T20:54:09.094540Z",
     "shell.execute_reply": "2022-10-19T20:54:09.093671Z"
    },
    "pycharm": {
     "name": "#%%\n"
    }
   },
   "outputs": [
    {
     "name": "stdout",
     "output_type": "stream",
     "text": [
      "OS: Linux-5.15.0-1021-azure-x86_64-with-glibc2.2.5\n",
      "Python: CPython 3.8.14\n",
      "Processor: x86_64\n",
      "CPUS: 2\n",
      "Memory: 6.781 GiB\n",
      "Has CUDA: No\n"
     ]
    }
   ],
   "source": [
    "import os\n",
    "import platform\n",
    "import shutil\n",
    "\n",
    "import psutil\n",
    "from hbutils.scale import size_to_bytes_str\n",
    "\n",
    "print('OS:', platform.platform())\n",
    "print('Python:', platform.python_implementation(), platform.python_version())\n",
    "print('Processor:', platform.processor())\n",
    "print('CPUS:', os.cpu_count())\n",
    "print('Memory:', size_to_bytes_str(psutil.virtual_memory().total, precision=3))\n",
    "print('Has CUDA:', 'Yes' if shutil.which('nvidia-smi') else 'No')"
   ]
  },
  {
   "cell_type": "markdown",
   "metadata": {
    "collapsed": false,
    "pycharm": {
     "name": "#%% md\n"
    }
   },
   "source": [
    "## Flatten and Unflatten"
   ]
  },
  {
   "cell_type": "markdown",
   "metadata": {
    "collapsed": false,
    "pycharm": {
     "name": "#%% md\n"
    }
   },
   "source": [
    "We create a dictionary for flatten"
   ]
  },
  {
   "cell_type": "code",
   "execution_count": 2,
   "metadata": {
    "execution": {
     "iopub.execute_input": "2022-10-19T20:54:09.136849Z",
     "iopub.status.busy": "2022-10-19T20:54:09.136582Z",
     "iopub.status.idle": "2022-10-19T20:54:09.140803Z",
     "shell.execute_reply": "2022-10-19T20:54:09.139952Z"
    },
    "pycharm": {
     "name": "#%%\n"
    }
   },
   "outputs": [],
   "source": [
    "origin = {'a': 1, 'b': 2, 'c': {'x': 3, 'y': 4}}"
   ]
  },
  {
   "cell_type": "markdown",
   "metadata": {
    "collapsed": false,
    "pycharm": {
     "name": "#%% md\n"
    }
   },
   "source": [
    "### TreeValue's Performance"
   ]
  },
  {
   "cell_type": "code",
   "execution_count": 3,
   "metadata": {
    "execution": {
     "iopub.execute_input": "2022-10-19T20:54:09.144153Z",
     "iopub.status.busy": "2022-10-19T20:54:09.143715Z",
     "iopub.status.idle": "2022-10-19T20:54:09.180436Z",
     "shell.execute_reply": "2022-10-19T20:54:09.179590Z"
    },
    "pycharm": {
     "name": "#%%\n"
    }
   },
   "outputs": [],
   "source": [
    "from treevalue import FastTreeValue, flatten, unflatten\n",
    "\n",
    "origin_tree = FastTreeValue(origin)"
   ]
  },
  {
   "cell_type": "code",
   "execution_count": 4,
   "metadata": {
    "execution": {
     "iopub.execute_input": "2022-10-19T20:54:09.184084Z",
     "iopub.status.busy": "2022-10-19T20:54:09.183763Z",
     "iopub.status.idle": "2022-10-19T20:54:09.194007Z",
     "shell.execute_reply": "2022-10-19T20:54:09.193253Z"
    },
    "pycharm": {
     "name": "#%%\n"
    }
   },
   "outputs": [
    {
     "data": {
      "text/plain": [
       "[(('a',), 1), (('b',), 2), (('c', 'x'), 3), (('c', 'y'), 4)]"
      ]
     },
     "execution_count": 4,
     "metadata": {},
     "output_type": "execute_result"
    }
   ],
   "source": [
    "flatted = flatten(origin_tree)\n",
    "flatted"
   ]
  },
  {
   "cell_type": "code",
   "execution_count": 5,
   "metadata": {
    "execution": {
     "iopub.execute_input": "2022-10-19T20:54:09.198910Z",
     "iopub.status.busy": "2022-10-19T20:54:09.198585Z",
     "iopub.status.idle": "2022-10-19T20:54:14.800800Z",
     "shell.execute_reply": "2022-10-19T20:54:14.800052Z"
    },
    "pycharm": {
     "name": "#%%\n"
    }
   },
   "outputs": [
    {
     "name": "stdout",
     "output_type": "stream",
     "text": [
      "687 ns ± 3.23 ns per loop (mean ± std. dev. of 7 runs, 1,000,000 loops each)\n"
     ]
    }
   ],
   "source": [
    "%timeit flatten(origin_tree)"
   ]
  },
  {
   "cell_type": "code",
   "execution_count": 6,
   "metadata": {
    "execution": {
     "iopub.execute_input": "2022-10-19T20:54:14.804493Z",
     "iopub.status.busy": "2022-10-19T20:54:14.804008Z",
     "iopub.status.idle": "2022-10-19T20:54:14.811372Z",
     "shell.execute_reply": "2022-10-19T20:54:14.810519Z"
    },
    "pycharm": {
     "name": "#%%\n"
    }
   },
   "outputs": [
    {
     "data": {
      "text/plain": [
       "<TreeValue 0x7f58104a6220>\n",
       "├── 'a' --> 1\n",
       "├── 'b' --> 2\n",
       "└── 'c' --> <TreeValue 0x7f58104a6e50>\n",
       "    ├── 'x' --> 3\n",
       "    └── 'y' --> 4"
      ]
     },
     "execution_count": 6,
     "metadata": {},
     "output_type": "execute_result"
    }
   ],
   "source": [
    "unflatten(flatted)"
   ]
  },
  {
   "cell_type": "code",
   "execution_count": 7,
   "metadata": {
    "execution": {
     "iopub.execute_input": "2022-10-19T20:54:14.814687Z",
     "iopub.status.busy": "2022-10-19T20:54:14.814454Z",
     "iopub.status.idle": "2022-10-19T20:54:20.922371Z",
     "shell.execute_reply": "2022-10-19T20:54:20.921606Z"
    },
    "pycharm": {
     "name": "#%%\n"
    }
   },
   "outputs": [
    {
     "name": "stdout",
     "output_type": "stream",
     "text": [
      "753 ns ± 3.08 ns per loop (mean ± std. dev. of 7 runs, 1,000,000 loops each)\n"
     ]
    }
   ],
   "source": [
    "%timeit unflatten(flatted)"
   ]
  },
  {
   "cell_type": "markdown",
   "metadata": {
    "collapsed": false,
    "pycharm": {
     "name": "#%% md\n"
    }
   },
   "source": [
    "### DM-Tree's Performance"
   ]
  },
  {
   "cell_type": "markdown",
   "metadata": {
    "collapsed": false,
    "pycharm": {
     "name": "#%% md\n"
    }
   },
   "source": [
    "This is the [dm-tree](https://github.com/deepmind/tree) library\n",
    "And here is a simplest example of dm-tree."
   ]
  },
  {
   "cell_type": "code",
   "execution_count": 8,
   "metadata": {
    "execution": {
     "iopub.execute_input": "2022-10-19T20:54:20.926531Z",
     "iopub.status.busy": "2022-10-19T20:54:20.926071Z",
     "iopub.status.idle": "2022-10-19T20:54:20.933124Z",
     "shell.execute_reply": "2022-10-19T20:54:20.932403Z"
    },
    "pycharm": {
     "name": "#%%\n"
    }
   },
   "outputs": [],
   "source": [
    "from tree import flatten, flatten_with_path"
   ]
  },
  {
   "cell_type": "markdown",
   "metadata": {
    "collapsed": false,
    "pycharm": {
     "name": "#%% md\n"
    }
   },
   "source": [
    "We try to flatten `origin` with both [flatten](https://tree.readthedocs.io/en/latest/api.html#tree.flatten) and [flatten_with_path](https://tree.readthedocs.io/en/latest/api.html#tree.flatten_with_path) function, and then measure their performance."
   ]
  },
  {
   "cell_type": "code",
   "execution_count": 9,
   "metadata": {
    "execution": {
     "iopub.execute_input": "2022-10-19T20:54:20.936489Z",
     "iopub.status.busy": "2022-10-19T20:54:20.936253Z",
     "iopub.status.idle": "2022-10-19T20:54:20.941906Z",
     "shell.execute_reply": "2022-10-19T20:54:20.940604Z"
    },
    "pycharm": {
     "name": "#%%\n"
    }
   },
   "outputs": [
    {
     "data": {
      "text/plain": [
       "[1, 2, 3, 4]"
      ]
     },
     "execution_count": 9,
     "metadata": {},
     "output_type": "execute_result"
    }
   ],
   "source": [
    "flatten(origin)"
   ]
  },
  {
   "cell_type": "code",
   "execution_count": 10,
   "metadata": {
    "execution": {
     "iopub.execute_input": "2022-10-19T20:54:20.946007Z",
     "iopub.status.busy": "2022-10-19T20:54:20.945770Z",
     "iopub.status.idle": "2022-10-19T20:54:30.704243Z",
     "shell.execute_reply": "2022-10-19T20:54:30.703509Z"
    },
    "pycharm": {
     "name": "#%%\n"
    }
   },
   "outputs": [
    {
     "name": "stdout",
     "output_type": "stream",
     "text": [
      "1.2 µs ± 49.2 ns per loop (mean ± std. dev. of 7 runs, 1,000,000 loops each)\n"
     ]
    }
   ],
   "source": [
    "%timeit flatten(origin)"
   ]
  },
  {
   "cell_type": "code",
   "execution_count": 11,
   "metadata": {
    "execution": {
     "iopub.execute_input": "2022-10-19T20:54:30.708003Z",
     "iopub.status.busy": "2022-10-19T20:54:30.707615Z",
     "iopub.status.idle": "2022-10-19T20:54:30.713288Z",
     "shell.execute_reply": "2022-10-19T20:54:30.712472Z"
    },
    "pycharm": {
     "name": "#%%\n"
    }
   },
   "outputs": [
    {
     "data": {
      "text/plain": [
       "[(('a',), 1), (('b',), 2), (('c', 'x'), 3), (('c', 'y'), 4)]"
      ]
     },
     "execution_count": 11,
     "metadata": {},
     "output_type": "execute_result"
    }
   ],
   "source": [
    "flatten_with_path(origin)"
   ]
  },
  {
   "cell_type": "code",
   "execution_count": 12,
   "metadata": {
    "execution": {
     "iopub.execute_input": "2022-10-19T20:54:30.716491Z",
     "iopub.status.busy": "2022-10-19T20:54:30.716263Z",
     "iopub.status.idle": "2022-10-19T20:54:43.951629Z",
     "shell.execute_reply": "2022-10-19T20:54:43.950837Z"
    },
    "pycharm": {
     "name": "#%%\n"
    }
   },
   "outputs": [
    {
     "name": "stdout",
     "output_type": "stream",
     "text": [
      "16.3 µs ± 140 ns per loop (mean ± std. dev. of 7 runs, 100,000 loops each)\n"
     ]
    }
   ],
   "source": [
    "%timeit flatten_with_path(origin)"
   ]
  },
  {
   "cell_type": "markdown",
   "metadata": {
    "collapsed": false,
    "pycharm": {
     "name": "#%% md\n"
    }
   },
   "source": [
    "Obviously, `flatten` in dm-tree is an irreversible operation, but `flatten_with_path` is reversible, which is similar to `flatten` in treevalue."
   ]
  },
  {
   "cell_type": "markdown",
   "metadata": {
    "collapsed": false,
    "pycharm": {
     "name": "#%% md\n"
    }
   },
   "source": [
    "But the [unflatten_as](https://tree.readthedocs.io/en/latest/api.html#tree.unflatten_as) is absolutely another thing in dm-tree"
   ]
  },
  {
   "cell_type": "code",
   "execution_count": 13,
   "metadata": {
    "execution": {
     "iopub.execute_input": "2022-10-19T20:54:43.955739Z",
     "iopub.status.busy": "2022-10-19T20:54:43.955313Z",
     "iopub.status.idle": "2022-10-19T20:54:43.959387Z",
     "shell.execute_reply": "2022-10-19T20:54:43.958524Z"
    },
    "pycharm": {
     "name": "#%%\n"
    }
   },
   "outputs": [],
   "source": [
    "from tree import unflatten_as"
   ]
  },
  {
   "cell_type": "code",
   "execution_count": 14,
   "metadata": {
    "execution": {
     "iopub.execute_input": "2022-10-19T20:54:43.963463Z",
     "iopub.status.busy": "2022-10-19T20:54:43.963086Z",
     "iopub.status.idle": "2022-10-19T20:54:43.969622Z",
     "shell.execute_reply": "2022-10-19T20:54:43.968759Z"
    },
    "pycharm": {
     "name": "#%%\n"
    }
   },
   "outputs": [
    {
     "data": {
      "text/plain": [
       "{'a': 1, 'b': 2, 'c': {'x': 3, 'y': 4}}"
      ]
     },
     "execution_count": 14,
     "metadata": {},
     "output_type": "execute_result"
    }
   ],
   "source": [
    "unflatten_as({'a': None, 'b': None, 'c': {'x': None, 'y': None}}, [1, 2, 3, 4])"
   ]
  },
  {
   "cell_type": "code",
   "execution_count": 15,
   "metadata": {
    "execution": {
     "iopub.execute_input": "2022-10-19T20:54:43.973954Z",
     "iopub.status.busy": "2022-10-19T20:54:43.973710Z",
     "iopub.status.idle": "2022-10-19T20:54:54.996467Z",
     "shell.execute_reply": "2022-10-19T20:54:54.995690Z"
    },
    "pycharm": {
     "name": "#%%\n"
    }
   },
   "outputs": [
    {
     "name": "stdout",
     "output_type": "stream",
     "text": [
      "13.6 µs ± 109 ns per loop (mean ± std. dev. of 7 runs, 100,000 loops each)\n"
     ]
    }
   ],
   "source": [
    "%timeit unflatten_as({'a': None, 'b': None, 'c': {'x': None, 'y': None}}, [1, 2, 3, 4])"
   ]
  },
  {
   "cell_type": "markdown",
   "metadata": {
    "collapsed": false,
    "pycharm": {
     "name": "#%% md\n"
    }
   },
   "source": [
    "## Positional Replacement"
   ]
  },
  {
   "cell_type": "markdown",
   "metadata": {
    "collapsed": false,
    "pycharm": {
     "name": "#%% md\n"
    }
   },
   "source": [
    "This is the performance in treevalue"
   ]
  },
  {
   "cell_type": "code",
   "execution_count": 16,
   "metadata": {
    "execution": {
     "iopub.execute_input": "2022-10-19T20:54:55.000406Z",
     "iopub.status.busy": "2022-10-19T20:54:54.999939Z",
     "iopub.status.idle": "2022-10-19T20:54:55.005126Z",
     "shell.execute_reply": "2022-10-19T20:54:55.004339Z"
    },
    "pycharm": {
     "name": "#%%\n"
    }
   },
   "outputs": [],
   "source": [
    "from treevalue import flatten, unflatten\n",
    "\n",
    "def replace(t, v):\n",
    "    pairs = flatten(t)\n",
    "    return unflatten([(path, vi) for (path, _), vi in zip(pairs, v)])"
   ]
  },
  {
   "cell_type": "code",
   "execution_count": 17,
   "metadata": {
    "execution": {
     "iopub.execute_input": "2022-10-19T20:54:55.008310Z",
     "iopub.status.busy": "2022-10-19T20:54:55.008064Z",
     "iopub.status.idle": "2022-10-19T20:54:55.013451Z",
     "shell.execute_reply": "2022-10-19T20:54:55.012662Z"
    },
    "pycharm": {
     "name": "#%%\n"
    }
   },
   "outputs": [
    {
     "data": {
      "text/plain": [
       "<TreeValue 0x7f58104b0d60>\n",
       "├── 'a' --> 3\n",
       "├── 'b' --> 5\n",
       "└── 'c' --> <TreeValue 0x7f58104b09a0>\n",
       "    ├── 'x' --> 7\n",
       "    └── 'y' --> 9"
      ]
     },
     "execution_count": 17,
     "metadata": {},
     "output_type": "execute_result"
    }
   ],
   "source": [
    "replace(origin_tree, [3, 5, 7, 9])"
   ]
  },
  {
   "cell_type": "code",
   "execution_count": 18,
   "metadata": {
    "execution": {
     "iopub.execute_input": "2022-10-19T20:54:55.017278Z",
     "iopub.status.busy": "2022-10-19T20:54:55.016867Z",
     "iopub.status.idle": "2022-10-19T20:54:56.817310Z",
     "shell.execute_reply": "2022-10-19T20:54:56.816547Z"
    },
    "pycharm": {
     "name": "#%%\n"
    }
   },
   "outputs": [
    {
     "name": "stdout",
     "output_type": "stream",
     "text": [
      "2.19 µs ± 19.4 ns per loop (mean ± std. dev. of 7 runs, 100,000 loops each)\n"
     ]
    }
   ],
   "source": [
    "%timeit replace(origin_tree, [3, 5, 7, 9])"
   ]
  },
  {
   "cell_type": "markdown",
   "metadata": {
    "collapsed": false,
    "pycharm": {
     "name": "#%% md\n"
    }
   },
   "source": [
    "This is the performance in dm-tree"
   ]
  },
  {
   "cell_type": "code",
   "execution_count": 19,
   "metadata": {
    "execution": {
     "iopub.execute_input": "2022-10-19T20:54:56.821342Z",
     "iopub.status.busy": "2022-10-19T20:54:56.820929Z",
     "iopub.status.idle": "2022-10-19T20:54:56.824736Z",
     "shell.execute_reply": "2022-10-19T20:54:56.823944Z"
    },
    "pycharm": {
     "name": "#%%\n"
    }
   },
   "outputs": [],
   "source": [
    "from tree import unflatten_as"
   ]
  },
  {
   "cell_type": "code",
   "execution_count": 20,
   "metadata": {
    "execution": {
     "iopub.execute_input": "2022-10-19T20:54:56.827749Z",
     "iopub.status.busy": "2022-10-19T20:54:56.827376Z",
     "iopub.status.idle": "2022-10-19T20:54:56.833153Z",
     "shell.execute_reply": "2022-10-19T20:54:56.832338Z"
    },
    "pycharm": {
     "name": "#%%\n"
    }
   },
   "outputs": [
    {
     "data": {
      "text/plain": [
       "{'a': 3, 'b': 5, 'c': {'x': 7, 'y': 9}}"
      ]
     },
     "execution_count": 20,
     "metadata": {},
     "output_type": "execute_result"
    }
   ],
   "source": [
    "unflatten_as(origin, [3, 5, 7, 9])"
   ]
  },
  {
   "cell_type": "code",
   "execution_count": 21,
   "metadata": {
    "execution": {
     "iopub.execute_input": "2022-10-19T20:54:56.837277Z",
     "iopub.status.busy": "2022-10-19T20:54:56.837051Z",
     "iopub.status.idle": "2022-10-19T20:55:07.571204Z",
     "shell.execute_reply": "2022-10-19T20:55:07.570395Z"
    },
    "pycharm": {
     "name": "#%%\n"
    }
   },
   "outputs": [
    {
     "name": "stdout",
     "output_type": "stream",
     "text": [
      "13.2 µs ± 191 ns per loop (mean ± std. dev. of 7 runs, 100,000 loops each)\n"
     ]
    }
   ],
   "source": [
    "%timeit unflatten_as(origin, [3, 5, 7, 9])"
   ]
  },
  {
   "cell_type": "markdown",
   "metadata": {
    "collapsed": false,
    "pycharm": {
     "name": "#%% md\n"
    }
   },
   "source": [
    "Treevalue's performance is much better."
   ]
  }
 ],
 "metadata": {
  "kernelspec": {
   "display_name": "Python 3",
   "language": "python",
   "name": "python3"
  },
  "language_info": {
   "codemirror_mode": {
    "name": "ipython",
    "version": 3
   },
   "file_extension": ".py",
   "mimetype": "text/x-python",
   "name": "python",
   "nbconvert_exporter": "python",
   "pygments_lexer": "ipython3",
   "version": "3.8.14"
  }
 },
 "nbformat": 4,
 "nbformat_minor": 0
}
