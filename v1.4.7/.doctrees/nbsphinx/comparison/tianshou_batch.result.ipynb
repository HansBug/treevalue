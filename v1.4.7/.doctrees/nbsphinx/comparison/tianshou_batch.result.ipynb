{
 "cells": [
  {
   "cell_type": "markdown",
   "id": "9d39d946",
   "metadata": {},
   "source": [
    "# Comparison Between TreeValue and Tianshou Batch"
   ]
  },
  {
   "cell_type": "markdown",
   "id": "3c6db2d4",
   "metadata": {},
   "source": [
    "In this section, we will take a look at the feature and performance of the [Tianshou Batch](https://github.com/thu-ml/tianshou) library, which is developed by Tsinghua Machine Learning Group."
   ]
  },
  {
   "cell_type": "markdown",
   "id": "069361b0",
   "metadata": {},
   "source": [
    "Before starting the comparison, let us define some thing."
   ]
  },
  {
   "cell_type": "code",
   "execution_count": 1,
   "id": "06fc8d26",
   "metadata": {
    "execution": {
     "iopub.execute_input": "2023-10-22T15:39:38.278399Z",
     "iopub.status.busy": "2023-10-22T15:39:38.277944Z",
     "iopub.status.idle": "2023-10-22T15:39:39.862499Z",
     "shell.execute_reply": "2023-10-22T15:39:39.861704Z"
    }
   },
   "outputs": [],
   "source": [
    "import torch \n",
    "\n",
    "_TREE_DATA_1 = {'a': 1, 'b': 2, 'x': {'c': 3, 'd': 4}}\n",
    "_TREE_DATA_2 = {\n",
    "    'a': torch.randn(2, 3), \n",
    "    'x': {\n",
    "        'c': torch.randn(3, 4)\n",
    "    },\n",
    "}\n",
    "_TREE_DATA_3 = {\n",
    "    'obs': torch.randn(4, 84, 84),\n",
    "    'action': torch.randint(0, 6, size=(1,)),\n",
    "    'reward': torch.rand(1),\n",
    "}"
   ]
  },
  {
   "cell_type": "markdown",
   "id": "83461b25",
   "metadata": {},
   "source": [
    "## Read and Write Operation"
   ]
  },
  {
   "cell_type": "markdown",
   "id": "067b3f73",
   "metadata": {},
   "source": [
    "Reading and writing are the two most common operations in the tree data structure based on the data model (TreeValue and Tianshou Batch both belong to this type), so this section will compare the reading and writing performance of these two libraries."
   ]
  },
  {
   "cell_type": "markdown",
   "id": "5d09a5b7",
   "metadata": {},
   "source": [
    "### TreeValue's Get and Set"
   ]
  },
  {
   "cell_type": "code",
   "execution_count": 2,
   "id": "9519c4bb",
   "metadata": {
    "execution": {
     "iopub.execute_input": "2023-10-22T15:39:39.867255Z",
     "iopub.status.busy": "2023-10-22T15:39:39.866441Z",
     "iopub.status.idle": "2023-10-22T15:39:40.196259Z",
     "shell.execute_reply": "2023-10-22T15:39:40.195487Z"
    }
   },
   "outputs": [],
   "source": [
    "from treevalue import FastTreeValue\n",
    "\n",
    "t = FastTreeValue(_TREE_DATA_2)"
   ]
  },
  {
   "cell_type": "code",
   "execution_count": 3,
   "id": "11c37677",
   "metadata": {
    "execution": {
     "iopub.execute_input": "2023-10-22T15:39:40.200449Z",
     "iopub.status.busy": "2023-10-22T15:39:40.200122Z",
     "iopub.status.idle": "2023-10-22T15:39:40.210348Z",
     "shell.execute_reply": "2023-10-22T15:39:40.209651Z"
    }
   },
   "outputs": [
    {
     "data": {
      "text/plain": [
       "<FastTreeValue 0x7f8a7c15cfd0>\n",
       "├── 'a' --> tensor([[-0.5418,  1.7838, -0.7986],\n",
       "│                   [-1.1647,  0.0565,  0.3745]])\n",
       "└── 'x' --> <FastTreeValue 0x7f8a7c15c9a0>\n",
       "    └── 'c' --> tensor([[-1.8615,  1.6310,  0.0339,  0.1787],\n",
       "                        [ 0.1815,  1.4565,  1.5177,  1.9505],\n",
       "                        [ 1.0834,  2.7347, -0.6714, -0.6708]])"
      ]
     },
     "execution_count": 3,
     "metadata": {},
     "output_type": "execute_result"
    }
   ],
   "source": [
    "t"
   ]
  },
  {
   "cell_type": "code",
   "execution_count": 4,
   "id": "fd70b0b9",
   "metadata": {
    "execution": {
     "iopub.execute_input": "2023-10-22T15:39:40.213648Z",
     "iopub.status.busy": "2023-10-22T15:39:40.213216Z",
     "iopub.status.idle": "2023-10-22T15:39:40.220437Z",
     "shell.execute_reply": "2023-10-22T15:39:40.219826Z"
    }
   },
   "outputs": [
    {
     "data": {
      "text/plain": [
       "tensor([[-0.5418,  1.7838, -0.7986],\n",
       "        [-1.1647,  0.0565,  0.3745]])"
      ]
     },
     "execution_count": 4,
     "metadata": {},
     "output_type": "execute_result"
    }
   ],
   "source": [
    "t.a"
   ]
  },
  {
   "cell_type": "code",
   "execution_count": 5,
   "id": "c18197bd",
   "metadata": {
    "execution": {
     "iopub.execute_input": "2023-10-22T15:39:40.223512Z",
     "iopub.status.busy": "2023-10-22T15:39:40.223067Z",
     "iopub.status.idle": "2023-10-22T15:39:46.072658Z",
     "shell.execute_reply": "2023-10-22T15:39:46.071717Z"
    }
   },
   "outputs": [
    {
     "name": "stdout",
     "output_type": "stream",
     "text": [
      "72 ns ± 0.0647 ns per loop (mean ± std. dev. of 7 runs, 10,000,000 loops each)\n"
     ]
    }
   ],
   "source": [
    "%timeit t.a"
   ]
  },
  {
   "cell_type": "code",
   "execution_count": 6,
   "id": "bd52f867",
   "metadata": {
    "execution": {
     "iopub.execute_input": "2023-10-22T15:39:46.076730Z",
     "iopub.status.busy": "2023-10-22T15:39:46.076224Z",
     "iopub.status.idle": "2023-10-22T15:39:46.083964Z",
     "shell.execute_reply": "2023-10-22T15:39:46.083340Z"
    }
   },
   "outputs": [
    {
     "data": {
      "text/plain": [
       "<FastTreeValue 0x7f8a7c15cfd0>\n",
       "├── 'a' --> tensor([[ 1.2392, -2.4594,  0.2019],\n",
       "│                   [-2.2108, -0.4363,  0.1960]])\n",
       "└── 'x' --> <FastTreeValue 0x7f8a7c15c9a0>\n",
       "    └── 'c' --> tensor([[-1.8615,  1.6310,  0.0339,  0.1787],\n",
       "                        [ 0.1815,  1.4565,  1.5177,  1.9505],\n",
       "                        [ 1.0834,  2.7347, -0.6714, -0.6708]])"
      ]
     },
     "execution_count": 6,
     "metadata": {},
     "output_type": "execute_result"
    }
   ],
   "source": [
    "new_value = torch.randn(2, 3)\n",
    "t.a = new_value\n",
    "\n",
    "t"
   ]
  },
  {
   "cell_type": "code",
   "execution_count": 7,
   "id": "bbe04d1c",
   "metadata": {
    "execution": {
     "iopub.execute_input": "2023-10-22T15:39:46.086988Z",
     "iopub.status.busy": "2023-10-22T15:39:46.086544Z",
     "iopub.status.idle": "2023-10-22T15:39:52.338303Z",
     "shell.execute_reply": "2023-10-22T15:39:52.337486Z"
    }
   },
   "outputs": [
    {
     "name": "stdout",
     "output_type": "stream",
     "text": [
      "77 ns ± 0.0677 ns per loop (mean ± std. dev. of 7 runs, 10,000,000 loops each)\n"
     ]
    }
   ],
   "source": [
    "%timeit t.a = new_value"
   ]
  },
  {
   "cell_type": "markdown",
   "id": "48c49731",
   "metadata": {},
   "source": [
    "### Tianshou Batch's Get and Set"
   ]
  },
  {
   "cell_type": "code",
   "execution_count": 8,
   "id": "f1bb14c1",
   "metadata": {
    "execution": {
     "iopub.execute_input": "2023-10-22T15:39:52.342110Z",
     "iopub.status.busy": "2023-10-22T15:39:52.341485Z",
     "iopub.status.idle": "2023-10-22T15:39:52.756726Z",
     "shell.execute_reply": "2023-10-22T15:39:52.755951Z"
    }
   },
   "outputs": [],
   "source": [
    "from tianshou.data import Batch\n",
    "\n",
    "b = Batch(**_TREE_DATA_2)"
   ]
  },
  {
   "cell_type": "code",
   "execution_count": 9,
   "id": "cb0777c3",
   "metadata": {
    "execution": {
     "iopub.execute_input": "2023-10-22T15:39:52.762056Z",
     "iopub.status.busy": "2023-10-22T15:39:52.760265Z",
     "iopub.status.idle": "2023-10-22T15:39:52.768879Z",
     "shell.execute_reply": "2023-10-22T15:39:52.768242Z"
    }
   },
   "outputs": [
    {
     "data": {
      "text/plain": [
       "Batch(\n",
       "    a: tensor([[-0.5418,  1.7838, -0.7986],\n",
       "               [-1.1647,  0.0565,  0.3745]]),\n",
       "    x: Batch(\n",
       "           c: tensor([[-1.8615,  1.6310,  0.0339,  0.1787],\n",
       "                      [ 0.1815,  1.4565,  1.5177,  1.9505],\n",
       "                      [ 1.0834,  2.7347, -0.6714, -0.6708]]),\n",
       "       ),\n",
       ")"
      ]
     },
     "execution_count": 9,
     "metadata": {},
     "output_type": "execute_result"
    }
   ],
   "source": [
    "b"
   ]
  },
  {
   "cell_type": "code",
   "execution_count": 10,
   "id": "43ef8ea3",
   "metadata": {
    "execution": {
     "iopub.execute_input": "2023-10-22T15:39:52.772047Z",
     "iopub.status.busy": "2023-10-22T15:39:52.771602Z",
     "iopub.status.idle": "2023-10-22T15:39:52.778969Z",
     "shell.execute_reply": "2023-10-22T15:39:52.778358Z"
    }
   },
   "outputs": [
    {
     "data": {
      "text/plain": [
       "tensor([[-0.5418,  1.7838, -0.7986],\n",
       "        [-1.1647,  0.0565,  0.3745]])"
      ]
     },
     "execution_count": 10,
     "metadata": {},
     "output_type": "execute_result"
    }
   ],
   "source": [
    "b.a"
   ]
  },
  {
   "cell_type": "code",
   "execution_count": 11,
   "id": "b785ab72",
   "metadata": {
    "execution": {
     "iopub.execute_input": "2023-10-22T15:39:52.782262Z",
     "iopub.status.busy": "2023-10-22T15:39:52.781693Z",
     "iopub.status.idle": "2023-10-22T15:39:58.185675Z",
     "shell.execute_reply": "2023-10-22T15:39:58.184771Z"
    }
   },
   "outputs": [
    {
     "name": "stdout",
     "output_type": "stream",
     "text": [
      "66.5 ns ± 0.102 ns per loop (mean ± std. dev. of 7 runs, 10,000,000 loops each)\n"
     ]
    }
   ],
   "source": [
    "%timeit b.a"
   ]
  },
  {
   "cell_type": "code",
   "execution_count": 12,
   "id": "ad54dc69",
   "metadata": {
    "execution": {
     "iopub.execute_input": "2023-10-22T15:39:58.189744Z",
     "iopub.status.busy": "2023-10-22T15:39:58.189218Z",
     "iopub.status.idle": "2023-10-22T15:39:58.199787Z",
     "shell.execute_reply": "2023-10-22T15:39:58.199168Z"
    }
   },
   "outputs": [
    {
     "data": {
      "text/plain": [
       "Batch(\n",
       "    a: tensor([[-1.7516,  1.2288, -1.4041],\n",
       "               [ 0.8290, -0.2885, -0.2082]]),\n",
       "    x: Batch(\n",
       "           c: tensor([[-1.8615,  1.6310,  0.0339,  0.1787],\n",
       "                      [ 0.1815,  1.4565,  1.5177,  1.9505],\n",
       "                      [ 1.0834,  2.7347, -0.6714, -0.6708]]),\n",
       "       ),\n",
       ")"
      ]
     },
     "execution_count": 12,
     "metadata": {},
     "output_type": "execute_result"
    }
   ],
   "source": [
    "new_value = torch.randn(2, 3)\n",
    "b.a = new_value\n",
    "\n",
    "b"
   ]
  },
  {
   "cell_type": "code",
   "execution_count": 13,
   "id": "29b1d0bf",
   "metadata": {
    "execution": {
     "iopub.execute_input": "2023-10-22T15:39:58.202762Z",
     "iopub.status.busy": "2023-10-22T15:39:58.202322Z",
     "iopub.status.idle": "2023-10-22T15:40:02.612653Z",
     "shell.execute_reply": "2023-10-22T15:40:02.611859Z"
    }
   },
   "outputs": [
    {
     "name": "stdout",
     "output_type": "stream",
     "text": [
      "543 ns ± 7.82 ns per loop (mean ± std. dev. of 7 runs, 1,000,000 loops each)\n"
     ]
    }
   ],
   "source": [
    "%timeit b.a = new_value"
   ]
  },
  {
   "cell_type": "markdown",
   "id": "b61ad1d0",
   "metadata": {},
   "source": [
    "## Initialization"
   ]
  },
  {
   "cell_type": "markdown",
   "id": "d70f0d54",
   "metadata": {},
   "source": [
    "### TreeValue's Initialization"
   ]
  },
  {
   "cell_type": "code",
   "execution_count": 14,
   "id": "d32a679b",
   "metadata": {
    "execution": {
     "iopub.execute_input": "2023-10-22T15:40:02.616538Z",
     "iopub.status.busy": "2023-10-22T15:40:02.616046Z",
     "iopub.status.idle": "2023-10-22T15:40:09.801678Z",
     "shell.execute_reply": "2023-10-22T15:40:09.800739Z"
    }
   },
   "outputs": [
    {
     "name": "stdout",
     "output_type": "stream",
     "text": [
      "883 ns ± 0.33 ns per loop (mean ± std. dev. of 7 runs, 1,000,000 loops each)\n"
     ]
    }
   ],
   "source": [
    "%timeit FastTreeValue(_TREE_DATA_1)"
   ]
  },
  {
   "cell_type": "markdown",
   "id": "24f3707b",
   "metadata": {},
   "source": [
    "### Tianshou Batch's Initialization"
   ]
  },
  {
   "cell_type": "code",
   "execution_count": 15,
   "id": "ac3958df",
   "metadata": {
    "execution": {
     "iopub.execute_input": "2023-10-22T15:40:09.805917Z",
     "iopub.status.busy": "2023-10-22T15:40:09.805393Z",
     "iopub.status.idle": "2023-10-22T15:40:18.777351Z",
     "shell.execute_reply": "2023-10-22T15:40:18.776476Z"
    }
   },
   "outputs": [
    {
     "name": "stdout",
     "output_type": "stream",
     "text": [
      "11 µs ± 28.5 ns per loop (mean ± std. dev. of 7 runs, 100,000 loops each)\n"
     ]
    }
   ],
   "source": [
    "%timeit Batch(**_TREE_DATA_1)"
   ]
  },
  {
   "cell_type": "markdown",
   "id": "1ab82e2d",
   "metadata": {},
   "source": [
    "## Deep Copy Operation"
   ]
  },
  {
   "cell_type": "code",
   "execution_count": 16,
   "id": "210a9442",
   "metadata": {
    "execution": {
     "iopub.execute_input": "2023-10-22T15:40:18.781196Z",
     "iopub.status.busy": "2023-10-22T15:40:18.780570Z",
     "iopub.status.idle": "2023-10-22T15:40:18.784664Z",
     "shell.execute_reply": "2023-10-22T15:40:18.783984Z"
    }
   },
   "outputs": [],
   "source": [
    "import copy"
   ]
  },
  {
   "cell_type": "markdown",
   "id": "5a736274",
   "metadata": {},
   "source": [
    "### Deep Copy of TreeValue"
   ]
  },
  {
   "cell_type": "code",
   "execution_count": 17,
   "id": "f9bcadd6",
   "metadata": {
    "execution": {
     "iopub.execute_input": "2023-10-22T15:40:18.788101Z",
     "iopub.status.busy": "2023-10-22T15:40:18.787495Z",
     "iopub.status.idle": "2023-10-22T15:40:30.792441Z",
     "shell.execute_reply": "2023-10-22T15:40:30.791776Z"
    }
   },
   "outputs": [
    {
     "name": "stdout",
     "output_type": "stream",
     "text": [
      "148 µs ± 304 ns per loop (mean ± std. dev. of 7 runs, 10,000 loops each)\n"
     ]
    }
   ],
   "source": [
    "t3 = FastTreeValue(_TREE_DATA_3)\n",
    "%timeit copy.deepcopy(t3)"
   ]
  },
  {
   "cell_type": "markdown",
   "id": "bf8be7ea",
   "metadata": {},
   "source": [
    "### Deep Copy of Tianshou Batch"
   ]
  },
  {
   "cell_type": "code",
   "execution_count": 18,
   "id": "91998e6f",
   "metadata": {
    "execution": {
     "iopub.execute_input": "2023-10-22T15:40:30.796000Z",
     "iopub.status.busy": "2023-10-22T15:40:30.795583Z",
     "iopub.status.idle": "2023-10-22T15:40:42.953572Z",
     "shell.execute_reply": "2023-10-22T15:40:42.952913Z"
    }
   },
   "outputs": [
    {
     "name": "stdout",
     "output_type": "stream",
     "text": [
      "150 µs ± 1.36 µs per loop (mean ± std. dev. of 7 runs, 10,000 loops each)\n"
     ]
    }
   ],
   "source": [
    "b3 = Batch(**_TREE_DATA_3)\n",
    "%timeit copy.deepcopy(b3)"
   ]
  },
  {
   "cell_type": "markdown",
   "id": "223162fb",
   "metadata": {},
   "source": [
    "## Stack, Concat and Split Operation"
   ]
  },
  {
   "cell_type": "markdown",
   "id": "85fa4a73",
   "metadata": {},
   "source": [
    "### Performance of TreeValue"
   ]
  },
  {
   "cell_type": "code",
   "execution_count": 19,
   "id": "a0c2b697",
   "metadata": {
    "execution": {
     "iopub.execute_input": "2023-10-22T15:40:42.957549Z",
     "iopub.status.busy": "2023-10-22T15:40:42.957060Z",
     "iopub.status.idle": "2023-10-22T15:40:42.960537Z",
     "shell.execute_reply": "2023-10-22T15:40:42.959973Z"
    }
   },
   "outputs": [],
   "source": [
    "trees = [FastTreeValue(_TREE_DATA_2) for _ in range(8)]"
   ]
  },
  {
   "cell_type": "code",
   "execution_count": 20,
   "id": "017ea5a5",
   "metadata": {
    "execution": {
     "iopub.execute_input": "2023-10-22T15:40:42.963505Z",
     "iopub.status.busy": "2023-10-22T15:40:42.963054Z",
     "iopub.status.idle": "2023-10-22T15:40:42.970479Z",
     "shell.execute_reply": "2023-10-22T15:40:42.969923Z"
    }
   },
   "outputs": [
    {
     "data": {
      "text/plain": [
       "<FastTreeValue 0x7f89938714c0>\n",
       "├── 'a' --> tensor([[[-0.5418,  1.7838, -0.7986],\n",
       "│                    [-1.1647,  0.0565,  0.3745]],\n",
       "│           \n",
       "│                   [[-0.5418,  1.7838, -0.7986],\n",
       "│                    [-1.1647,  0.0565,  0.3745]],\n",
       "│           \n",
       "│                   [[-0.5418,  1.7838, -0.7986],\n",
       "│                    [-1.1647,  0.0565,  0.3745]],\n",
       "│           \n",
       "│                   [[-0.5418,  1.7838, -0.7986],\n",
       "│                    [-1.1647,  0.0565,  0.3745]],\n",
       "│           \n",
       "│                   [[-0.5418,  1.7838, -0.7986],\n",
       "│                    [-1.1647,  0.0565,  0.3745]],\n",
       "│           \n",
       "│                   [[-0.5418,  1.7838, -0.7986],\n",
       "│                    [-1.1647,  0.0565,  0.3745]],\n",
       "│           \n",
       "│                   [[-0.5418,  1.7838, -0.7986],\n",
       "│                    [-1.1647,  0.0565,  0.3745]],\n",
       "│           \n",
       "│                   [[-0.5418,  1.7838, -0.7986],\n",
       "│                    [-1.1647,  0.0565,  0.3745]]])\n",
       "└── 'x' --> <FastTreeValue 0x7f89938719d0>\n",
       "    └── 'c' --> tensor([[[-1.8615,  1.6310,  0.0339,  0.1787],\n",
       "                         [ 0.1815,  1.4565,  1.5177,  1.9505],\n",
       "                         [ 1.0834,  2.7347, -0.6714, -0.6708]],\n",
       "                \n",
       "                        [[-1.8615,  1.6310,  0.0339,  0.1787],\n",
       "                         [ 0.1815,  1.4565,  1.5177,  1.9505],\n",
       "                         [ 1.0834,  2.7347, -0.6714, -0.6708]],\n",
       "                \n",
       "                        [[-1.8615,  1.6310,  0.0339,  0.1787],\n",
       "                         [ 0.1815,  1.4565,  1.5177,  1.9505],\n",
       "                         [ 1.0834,  2.7347, -0.6714, -0.6708]],\n",
       "                \n",
       "                        [[-1.8615,  1.6310,  0.0339,  0.1787],\n",
       "                         [ 0.1815,  1.4565,  1.5177,  1.9505],\n",
       "                         [ 1.0834,  2.7347, -0.6714, -0.6708]],\n",
       "                \n",
       "                        [[-1.8615,  1.6310,  0.0339,  0.1787],\n",
       "                         [ 0.1815,  1.4565,  1.5177,  1.9505],\n",
       "                         [ 1.0834,  2.7347, -0.6714, -0.6708]],\n",
       "                \n",
       "                        [[-1.8615,  1.6310,  0.0339,  0.1787],\n",
       "                         [ 0.1815,  1.4565,  1.5177,  1.9505],\n",
       "                         [ 1.0834,  2.7347, -0.6714, -0.6708]],\n",
       "                \n",
       "                        [[-1.8615,  1.6310,  0.0339,  0.1787],\n",
       "                         [ 0.1815,  1.4565,  1.5177,  1.9505],\n",
       "                         [ 1.0834,  2.7347, -0.6714, -0.6708]],\n",
       "                \n",
       "                        [[-1.8615,  1.6310,  0.0339,  0.1787],\n",
       "                         [ 0.1815,  1.4565,  1.5177,  1.9505],\n",
       "                         [ 1.0834,  2.7347, -0.6714, -0.6708]]])"
      ]
     },
     "execution_count": 20,
     "metadata": {},
     "output_type": "execute_result"
    }
   ],
   "source": [
    "t_stack = FastTreeValue.func(subside=True)(torch.stack)\n",
    "\n",
    "t_stack(trees)"
   ]
  },
  {
   "cell_type": "code",
   "execution_count": 21,
   "id": "f8b3f415",
   "metadata": {
    "execution": {
     "iopub.execute_input": "2023-10-22T15:40:42.973354Z",
     "iopub.status.busy": "2023-10-22T15:40:42.972932Z",
     "iopub.status.idle": "2023-10-22T15:40:45.701201Z",
     "shell.execute_reply": "2023-10-22T15:40:45.700261Z"
    }
   },
   "outputs": [
    {
     "name": "stdout",
     "output_type": "stream",
     "text": [
      "33.5 µs ± 52.2 ns per loop (mean ± std. dev. of 7 runs, 10,000 loops each)\n"
     ]
    }
   ],
   "source": [
    "%timeit t_stack(trees)"
   ]
  },
  {
   "cell_type": "code",
   "execution_count": 22,
   "id": "94b56771",
   "metadata": {
    "execution": {
     "iopub.execute_input": "2023-10-22T15:40:45.704776Z",
     "iopub.status.busy": "2023-10-22T15:40:45.704373Z",
     "iopub.status.idle": "2023-10-22T15:40:45.713891Z",
     "shell.execute_reply": "2023-10-22T15:40:45.713251Z"
    }
   },
   "outputs": [
    {
     "data": {
      "text/plain": [
       "<FastTreeValue 0x7f89938717f0>\n",
       "├── 'a' --> tensor([[-0.5418,  1.7838, -0.7986],\n",
       "│                   [-1.1647,  0.0565,  0.3745],\n",
       "│                   [-0.5418,  1.7838, -0.7986],\n",
       "│                   [-1.1647,  0.0565,  0.3745],\n",
       "│                   [-0.5418,  1.7838, -0.7986],\n",
       "│                   [-1.1647,  0.0565,  0.3745],\n",
       "│                   [-0.5418,  1.7838, -0.7986],\n",
       "│                   [-1.1647,  0.0565,  0.3745],\n",
       "│                   [-0.5418,  1.7838, -0.7986],\n",
       "│                   [-1.1647,  0.0565,  0.3745],\n",
       "│                   [-0.5418,  1.7838, -0.7986],\n",
       "│                   [-1.1647,  0.0565,  0.3745],\n",
       "│                   [-0.5418,  1.7838, -0.7986],\n",
       "│                   [-1.1647,  0.0565,  0.3745],\n",
       "│                   [-0.5418,  1.7838, -0.7986],\n",
       "│                   [-1.1647,  0.0565,  0.3745]])\n",
       "└── 'x' --> <FastTreeValue 0x7f8993871490>\n",
       "    └── 'c' --> tensor([[-1.8615,  1.6310,  0.0339,  0.1787],\n",
       "                        [ 0.1815,  1.4565,  1.5177,  1.9505],\n",
       "                        [ 1.0834,  2.7347, -0.6714, -0.6708],\n",
       "                        [-1.8615,  1.6310,  0.0339,  0.1787],\n",
       "                        [ 0.1815,  1.4565,  1.5177,  1.9505],\n",
       "                        [ 1.0834,  2.7347, -0.6714, -0.6708],\n",
       "                        [-1.8615,  1.6310,  0.0339,  0.1787],\n",
       "                        [ 0.1815,  1.4565,  1.5177,  1.9505],\n",
       "                        [ 1.0834,  2.7347, -0.6714, -0.6708],\n",
       "                        [-1.8615,  1.6310,  0.0339,  0.1787],\n",
       "                        [ 0.1815,  1.4565,  1.5177,  1.9505],\n",
       "                        [ 1.0834,  2.7347, -0.6714, -0.6708],\n",
       "                        [-1.8615,  1.6310,  0.0339,  0.1787],\n",
       "                        [ 0.1815,  1.4565,  1.5177,  1.9505],\n",
       "                        [ 1.0834,  2.7347, -0.6714, -0.6708],\n",
       "                        [-1.8615,  1.6310,  0.0339,  0.1787],\n",
       "                        [ 0.1815,  1.4565,  1.5177,  1.9505],\n",
       "                        [ 1.0834,  2.7347, -0.6714, -0.6708],\n",
       "                        [-1.8615,  1.6310,  0.0339,  0.1787],\n",
       "                        [ 0.1815,  1.4565,  1.5177,  1.9505],\n",
       "                        [ 1.0834,  2.7347, -0.6714, -0.6708],\n",
       "                        [-1.8615,  1.6310,  0.0339,  0.1787],\n",
       "                        [ 0.1815,  1.4565,  1.5177,  1.9505],\n",
       "                        [ 1.0834,  2.7347, -0.6714, -0.6708]])"
      ]
     },
     "execution_count": 22,
     "metadata": {},
     "output_type": "execute_result"
    }
   ],
   "source": [
    "t_cat = FastTreeValue.func(subside=True)(torch.cat)\n",
    "\n",
    "t_cat(trees)"
   ]
  },
  {
   "cell_type": "code",
   "execution_count": 23,
   "id": "5e9c06a6",
   "metadata": {
    "execution": {
     "iopub.execute_input": "2023-10-22T15:40:45.717247Z",
     "iopub.status.busy": "2023-10-22T15:40:45.716704Z",
     "iopub.status.idle": "2023-10-22T15:40:48.269299Z",
     "shell.execute_reply": "2023-10-22T15:40:48.268406Z"
    }
   },
   "outputs": [
    {
     "name": "stdout",
     "output_type": "stream",
     "text": [
      "31.3 µs ± 66.1 ns per loop (mean ± std. dev. of 7 runs, 10,000 loops each)\n"
     ]
    }
   ],
   "source": [
    "%timeit t_cat(trees)"
   ]
  },
  {
   "cell_type": "code",
   "execution_count": 24,
   "id": "a3ab5c8f",
   "metadata": {
    "execution": {
     "iopub.execute_input": "2023-10-22T15:40:48.272943Z",
     "iopub.status.busy": "2023-10-22T15:40:48.272462Z",
     "iopub.status.idle": "2023-10-22T15:40:53.574287Z",
     "shell.execute_reply": "2023-10-22T15:40:53.573488Z"
    }
   },
   "outputs": [
    {
     "name": "stdout",
     "output_type": "stream",
     "text": [
      "65.2 µs ± 61 ns per loop (mean ± std. dev. of 7 runs, 10,000 loops each)\n"
     ]
    }
   ],
   "source": [
    "t_split = FastTreeValue.func(rise=True)(torch.split)\n",
    "tree = FastTreeValue({\n",
    "    'obs': torch.randn(8, 4, 84, 84),\n",
    "    'action': torch.randint(0, 6, size=(8, 1,)),\n",
    "    'reward': torch.rand(8, 1),\n",
    "})\n",
    "\n",
    "%timeit t_split(tree, 1)"
   ]
  },
  {
   "cell_type": "markdown",
   "id": "31c3ec0b",
   "metadata": {},
   "source": [
    "### Performance of Tianshou Batch"
   ]
  },
  {
   "cell_type": "code",
   "execution_count": 25,
   "id": "9ead828a",
   "metadata": {
    "execution": {
     "iopub.execute_input": "2023-10-22T15:40:53.578442Z",
     "iopub.status.busy": "2023-10-22T15:40:53.577765Z",
     "iopub.status.idle": "2023-10-22T15:40:53.587282Z",
     "shell.execute_reply": "2023-10-22T15:40:53.586654Z"
    }
   },
   "outputs": [
    {
     "data": {
      "text/plain": [
       "Batch(\n",
       "    x: Batch(\n",
       "           c: tensor([[[-1.8615,  1.6310,  0.0339,  0.1787],\n",
       "                       [ 0.1815,  1.4565,  1.5177,  1.9505],\n",
       "                       [ 1.0834,  2.7347, -0.6714, -0.6708]],\n",
       "              \n",
       "                      [[-1.8615,  1.6310,  0.0339,  0.1787],\n",
       "                       [ 0.1815,  1.4565,  1.5177,  1.9505],\n",
       "                       [ 1.0834,  2.7347, -0.6714, -0.6708]],\n",
       "              \n",
       "                      [[-1.8615,  1.6310,  0.0339,  0.1787],\n",
       "                       [ 0.1815,  1.4565,  1.5177,  1.9505],\n",
       "                       [ 1.0834,  2.7347, -0.6714, -0.6708]],\n",
       "              \n",
       "                      [[-1.8615,  1.6310,  0.0339,  0.1787],\n",
       "                       [ 0.1815,  1.4565,  1.5177,  1.9505],\n",
       "                       [ 1.0834,  2.7347, -0.6714, -0.6708]],\n",
       "              \n",
       "                      [[-1.8615,  1.6310,  0.0339,  0.1787],\n",
       "                       [ 0.1815,  1.4565,  1.5177,  1.9505],\n",
       "                       [ 1.0834,  2.7347, -0.6714, -0.6708]],\n",
       "              \n",
       "                      [[-1.8615,  1.6310,  0.0339,  0.1787],\n",
       "                       [ 0.1815,  1.4565,  1.5177,  1.9505],\n",
       "                       [ 1.0834,  2.7347, -0.6714, -0.6708]],\n",
       "              \n",
       "                      [[-1.8615,  1.6310,  0.0339,  0.1787],\n",
       "                       [ 0.1815,  1.4565,  1.5177,  1.9505],\n",
       "                       [ 1.0834,  2.7347, -0.6714, -0.6708]],\n",
       "              \n",
       "                      [[-1.8615,  1.6310,  0.0339,  0.1787],\n",
       "                       [ 0.1815,  1.4565,  1.5177,  1.9505],\n",
       "                       [ 1.0834,  2.7347, -0.6714, -0.6708]]]),\n",
       "       ),\n",
       "    a: tensor([[[-0.5418,  1.7838, -0.7986],\n",
       "                [-1.1647,  0.0565,  0.3745]],\n",
       "       \n",
       "               [[-0.5418,  1.7838, -0.7986],\n",
       "                [-1.1647,  0.0565,  0.3745]],\n",
       "       \n",
       "               [[-0.5418,  1.7838, -0.7986],\n",
       "                [-1.1647,  0.0565,  0.3745]],\n",
       "       \n",
       "               [[-0.5418,  1.7838, -0.7986],\n",
       "                [-1.1647,  0.0565,  0.3745]],\n",
       "       \n",
       "               [[-0.5418,  1.7838, -0.7986],\n",
       "                [-1.1647,  0.0565,  0.3745]],\n",
       "       \n",
       "               [[-0.5418,  1.7838, -0.7986],\n",
       "                [-1.1647,  0.0565,  0.3745]],\n",
       "       \n",
       "               [[-0.5418,  1.7838, -0.7986],\n",
       "                [-1.1647,  0.0565,  0.3745]],\n",
       "       \n",
       "               [[-0.5418,  1.7838, -0.7986],\n",
       "                [-1.1647,  0.0565,  0.3745]]]),\n",
       ")"
      ]
     },
     "execution_count": 25,
     "metadata": {},
     "output_type": "execute_result"
    }
   ],
   "source": [
    "batches = [Batch(**_TREE_DATA_2) for _ in range(8)]\n",
    "\n",
    "Batch.stack(batches)"
   ]
  },
  {
   "cell_type": "code",
   "execution_count": 26,
   "id": "ec9037a3",
   "metadata": {
    "execution": {
     "iopub.execute_input": "2023-10-22T15:40:53.590462Z",
     "iopub.status.busy": "2023-10-22T15:40:53.589891Z",
     "iopub.status.idle": "2023-10-22T15:41:00.437924Z",
     "shell.execute_reply": "2023-10-22T15:41:00.437029Z"
    }
   },
   "outputs": [
    {
     "name": "stdout",
     "output_type": "stream",
     "text": [
      "84.3 µs ± 152 ns per loop (mean ± std. dev. of 7 runs, 10,000 loops each)\n"
     ]
    }
   ],
   "source": [
    "%timeit Batch.stack(batches)"
   ]
  },
  {
   "cell_type": "code",
   "execution_count": 27,
   "id": "cb8ab77e",
   "metadata": {
    "execution": {
     "iopub.execute_input": "2023-10-22T15:41:00.442002Z",
     "iopub.status.busy": "2023-10-22T15:41:00.441475Z",
     "iopub.status.idle": "2023-10-22T15:41:00.450140Z",
     "shell.execute_reply": "2023-10-22T15:41:00.449510Z"
    }
   },
   "outputs": [
    {
     "data": {
      "text/plain": [
       "Batch(\n",
       "    x: Batch(\n",
       "           c: tensor([[-1.8615,  1.6310,  0.0339,  0.1787],\n",
       "                      [ 0.1815,  1.4565,  1.5177,  1.9505],\n",
       "                      [ 1.0834,  2.7347, -0.6714, -0.6708],\n",
       "                      [-1.8615,  1.6310,  0.0339,  0.1787],\n",
       "                      [ 0.1815,  1.4565,  1.5177,  1.9505],\n",
       "                      [ 1.0834,  2.7347, -0.6714, -0.6708],\n",
       "                      [-1.8615,  1.6310,  0.0339,  0.1787],\n",
       "                      [ 0.1815,  1.4565,  1.5177,  1.9505],\n",
       "                      [ 1.0834,  2.7347, -0.6714, -0.6708],\n",
       "                      [-1.8615,  1.6310,  0.0339,  0.1787],\n",
       "                      [ 0.1815,  1.4565,  1.5177,  1.9505],\n",
       "                      [ 1.0834,  2.7347, -0.6714, -0.6708],\n",
       "                      [-1.8615,  1.6310,  0.0339,  0.1787],\n",
       "                      [ 0.1815,  1.4565,  1.5177,  1.9505],\n",
       "                      [ 1.0834,  2.7347, -0.6714, -0.6708],\n",
       "                      [-1.8615,  1.6310,  0.0339,  0.1787],\n",
       "                      [ 0.1815,  1.4565,  1.5177,  1.9505],\n",
       "                      [ 1.0834,  2.7347, -0.6714, -0.6708],\n",
       "                      [-1.8615,  1.6310,  0.0339,  0.1787],\n",
       "                      [ 0.1815,  1.4565,  1.5177,  1.9505],\n",
       "                      [ 1.0834,  2.7347, -0.6714, -0.6708],\n",
       "                      [-1.8615,  1.6310,  0.0339,  0.1787],\n",
       "                      [ 0.1815,  1.4565,  1.5177,  1.9505],\n",
       "                      [ 1.0834,  2.7347, -0.6714, -0.6708]]),\n",
       "       ),\n",
       "    a: tensor([[-0.5418,  1.7838, -0.7986],\n",
       "               [-1.1647,  0.0565,  0.3745],\n",
       "               [-0.5418,  1.7838, -0.7986],\n",
       "               [-1.1647,  0.0565,  0.3745],\n",
       "               [-0.5418,  1.7838, -0.7986],\n",
       "               [-1.1647,  0.0565,  0.3745],\n",
       "               [-0.5418,  1.7838, -0.7986],\n",
       "               [-1.1647,  0.0565,  0.3745],\n",
       "               [-0.5418,  1.7838, -0.7986],\n",
       "               [-1.1647,  0.0565,  0.3745],\n",
       "               [-0.5418,  1.7838, -0.7986],\n",
       "               [-1.1647,  0.0565,  0.3745],\n",
       "               [-0.5418,  1.7838, -0.7986],\n",
       "               [-1.1647,  0.0565,  0.3745],\n",
       "               [-0.5418,  1.7838, -0.7986],\n",
       "               [-1.1647,  0.0565,  0.3745]]),\n",
       ")"
      ]
     },
     "execution_count": 27,
     "metadata": {},
     "output_type": "execute_result"
    }
   ],
   "source": [
    "Batch.cat(batches)"
   ]
  },
  {
   "cell_type": "code",
   "execution_count": 28,
   "id": "18dfb045",
   "metadata": {
    "execution": {
     "iopub.execute_input": "2023-10-22T15:41:00.453298Z",
     "iopub.status.busy": "2023-10-22T15:41:00.452828Z",
     "iopub.status.idle": "2023-10-22T15:41:12.790273Z",
     "shell.execute_reply": "2023-10-22T15:41:12.789490Z"
    }
   },
   "outputs": [
    {
     "name": "stdout",
     "output_type": "stream",
     "text": [
      "152 µs ± 100 ns per loop (mean ± std. dev. of 7 runs, 10,000 loops each)\n"
     ]
    }
   ],
   "source": [
    "%timeit Batch.cat(batches)"
   ]
  },
  {
   "cell_type": "code",
   "execution_count": 29,
   "id": "c6688e51",
   "metadata": {
    "execution": {
     "iopub.execute_input": "2023-10-22T15:41:12.794053Z",
     "iopub.status.busy": "2023-10-22T15:41:12.793414Z",
     "iopub.status.idle": "2023-10-22T15:41:15.835787Z",
     "shell.execute_reply": "2023-10-22T15:41:15.834961Z"
    }
   },
   "outputs": [
    {
     "name": "stdout",
     "output_type": "stream",
     "text": [
      "374 µs ± 3.76 µs per loop (mean ± std. dev. of 7 runs, 1,000 loops each)\n"
     ]
    }
   ],
   "source": [
    "batch = Batch({\n",
    "    'obs': torch.randn(8, 4, 84, 84),\n",
    "    'action': torch.randint(0, 6, size=(8, 1,)),\n",
    "    'reward': torch.rand(8, 1)}\n",
    ")\n",
    "\n",
    "%timeit list(Batch.split(batch, 1, shuffle=False, merge_last=True))"
   ]
  },
  {
   "cell_type": "code",
   "execution_count": null,
   "id": "2539fbd9",
   "metadata": {},
   "outputs": [],
   "source": []
  }
 ],
 "metadata": {
  "kernelspec": {
   "display_name": "Python 3 (ipykernel)",
   "language": "python",
   "name": "python3"
  },
  "language_info": {
   "codemirror_mode": {
    "name": "ipython",
    "version": 3
   },
   "file_extension": ".py",
   "mimetype": "text/x-python",
   "name": "python",
   "nbconvert_exporter": "python",
   "pygments_lexer": "ipython3",
   "version": "3.8.18"
  }
 },
 "nbformat": 4,
 "nbformat_minor": 5
}
