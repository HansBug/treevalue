{
 "cells": [
  {
   "cell_type": "markdown",
   "id": "9d39d946",
   "metadata": {},
   "source": [
    "# Comparison Between TreeValue and Tianshou Batch"
   ]
  },
  {
   "cell_type": "markdown",
   "id": "3c6db2d4",
   "metadata": {},
   "source": [
    "In this section, we will take a look at the feature and performance of the [Tianshou Batch](https://github.com/thu-ml/tianshou) library, which is developed by Tsinghua Machine Learning Group."
   ]
  },
  {
   "cell_type": "markdown",
   "id": "069361b0",
   "metadata": {},
   "source": [
    "Before starting the comparison, let us define some thing."
   ]
  },
  {
   "cell_type": "code",
   "execution_count": 1,
   "id": "06fc8d26",
   "metadata": {
    "execution": {
     "iopub.execute_input": "2023-08-14T05:40:09.799732Z",
     "iopub.status.busy": "2023-08-14T05:40:09.799350Z",
     "iopub.status.idle": "2023-08-14T05:40:11.132775Z",
     "shell.execute_reply": "2023-08-14T05:40:11.132061Z"
    }
   },
   "outputs": [],
   "source": [
    "import torch \n",
    "\n",
    "_TREE_DATA_1 = {'a': 1, 'b': 2, 'x': {'c': 3, 'd': 4}}\n",
    "_TREE_DATA_2 = {\n",
    "    'a': torch.randn(2, 3), \n",
    "    'x': {\n",
    "        'c': torch.randn(3, 4)\n",
    "    },\n",
    "}\n",
    "_TREE_DATA_3 = {\n",
    "    'obs': torch.randn(4, 84, 84),\n",
    "    'action': torch.randint(0, 6, size=(1,)),\n",
    "    'reward': torch.rand(1),\n",
    "}"
   ]
  },
  {
   "cell_type": "markdown",
   "id": "83461b25",
   "metadata": {},
   "source": [
    "## Read and Write Operation"
   ]
  },
  {
   "cell_type": "markdown",
   "id": "067b3f73",
   "metadata": {},
   "source": [
    "Reading and writing are the two most common operations in the tree data structure based on the data model (TreeValue and Tianshou Batch both belong to this type), so this section will compare the reading and writing performance of these two libraries."
   ]
  },
  {
   "cell_type": "markdown",
   "id": "5d09a5b7",
   "metadata": {},
   "source": [
    "### TreeValue's Get and Set"
   ]
  },
  {
   "cell_type": "code",
   "execution_count": 2,
   "id": "9519c4bb",
   "metadata": {
    "execution": {
     "iopub.execute_input": "2023-08-14T05:40:11.136457Z",
     "iopub.status.busy": "2023-08-14T05:40:11.135995Z",
     "iopub.status.idle": "2023-08-14T05:40:11.447608Z",
     "shell.execute_reply": "2023-08-14T05:40:11.446906Z"
    }
   },
   "outputs": [],
   "source": [
    "from treevalue import FastTreeValue\n",
    "\n",
    "t = FastTreeValue(_TREE_DATA_2)"
   ]
  },
  {
   "cell_type": "code",
   "execution_count": 3,
   "id": "11c37677",
   "metadata": {
    "execution": {
     "iopub.execute_input": "2023-08-14T05:40:11.451701Z",
     "iopub.status.busy": "2023-08-14T05:40:11.451082Z",
     "iopub.status.idle": "2023-08-14T05:40:11.461390Z",
     "shell.execute_reply": "2023-08-14T05:40:11.460771Z"
    }
   },
   "outputs": [
    {
     "data": {
      "text/plain": [
       "<FastTreeValue 0x7fb86cd59bb0>\n",
       "├── 'a' --> tensor([[-0.1275, -0.0319, -1.6389],\n",
       "│                   [-0.0040, -0.7521,  0.4777]])\n",
       "└── 'x' --> <FastTreeValue 0x7fb86cd59ee0>\n",
       "    └── 'c' --> tensor([[-0.2708, -1.0875, -0.0965,  0.1577],\n",
       "                        [ 0.3538, -0.6505, -1.9733, -0.5614],\n",
       "                        [-1.0685,  0.6300,  0.3295, -0.0028]])"
      ]
     },
     "execution_count": 3,
     "metadata": {},
     "output_type": "execute_result"
    }
   ],
   "source": [
    "t"
   ]
  },
  {
   "cell_type": "code",
   "execution_count": 4,
   "id": "fd70b0b9",
   "metadata": {
    "execution": {
     "iopub.execute_input": "2023-08-14T05:40:11.464429Z",
     "iopub.status.busy": "2023-08-14T05:40:11.463855Z",
     "iopub.status.idle": "2023-08-14T05:40:11.468914Z",
     "shell.execute_reply": "2023-08-14T05:40:11.468232Z"
    }
   },
   "outputs": [
    {
     "data": {
      "text/plain": [
       "tensor([[-0.1275, -0.0319, -1.6389],\n",
       "        [-0.0040, -0.7521,  0.4777]])"
      ]
     },
     "execution_count": 4,
     "metadata": {},
     "output_type": "execute_result"
    }
   ],
   "source": [
    "t.a"
   ]
  },
  {
   "cell_type": "code",
   "execution_count": 5,
   "id": "c18197bd",
   "metadata": {
    "execution": {
     "iopub.execute_input": "2023-08-14T05:40:11.472590Z",
     "iopub.status.busy": "2023-08-14T05:40:11.472058Z",
     "iopub.status.idle": "2023-08-14T05:40:16.473858Z",
     "shell.execute_reply": "2023-08-14T05:40:16.473135Z"
    }
   },
   "outputs": [
    {
     "name": "stdout",
     "output_type": "stream",
     "text": [
      "61.5 ns ± 0.0855 ns per loop (mean ± std. dev. of 7 runs, 10,000,000 loops each)\n"
     ]
    }
   ],
   "source": [
    "%timeit t.a"
   ]
  },
  {
   "cell_type": "code",
   "execution_count": 6,
   "id": "bd52f867",
   "metadata": {
    "execution": {
     "iopub.execute_input": "2023-08-14T05:40:16.477401Z",
     "iopub.status.busy": "2023-08-14T05:40:16.476914Z",
     "iopub.status.idle": "2023-08-14T05:40:16.483275Z",
     "shell.execute_reply": "2023-08-14T05:40:16.482552Z"
    }
   },
   "outputs": [
    {
     "data": {
      "text/plain": [
       "<FastTreeValue 0x7fb86cd59bb0>\n",
       "├── 'a' --> tensor([[-0.3278,  0.3624,  0.6026],\n",
       "│                   [ 1.3623, -0.5885,  0.7675]])\n",
       "└── 'x' --> <FastTreeValue 0x7fb86cd59ee0>\n",
       "    └── 'c' --> tensor([[-0.2708, -1.0875, -0.0965,  0.1577],\n",
       "                        [ 0.3538, -0.6505, -1.9733, -0.5614],\n",
       "                        [-1.0685,  0.6300,  0.3295, -0.0028]])"
      ]
     },
     "execution_count": 6,
     "metadata": {},
     "output_type": "execute_result"
    }
   ],
   "source": [
    "new_value = torch.randn(2, 3)\n",
    "t.a = new_value\n",
    "\n",
    "t"
   ]
  },
  {
   "cell_type": "code",
   "execution_count": 7,
   "id": "bbe04d1c",
   "metadata": {
    "execution": {
     "iopub.execute_input": "2023-08-14T05:40:16.486739Z",
     "iopub.status.busy": "2023-08-14T05:40:16.486190Z",
     "iopub.status.idle": "2023-08-14T05:40:21.640515Z",
     "shell.execute_reply": "2023-08-14T05:40:21.639886Z"
    }
   },
   "outputs": [
    {
     "name": "stdout",
     "output_type": "stream",
     "text": [
      "63.5 ns ± 0.072 ns per loop (mean ± std. dev. of 7 runs, 10,000,000 loops each)\n"
     ]
    }
   ],
   "source": [
    "%timeit t.a = new_value"
   ]
  },
  {
   "cell_type": "markdown",
   "id": "48c49731",
   "metadata": {},
   "source": [
    "### Tianshou Batch's Get and Set"
   ]
  },
  {
   "cell_type": "code",
   "execution_count": 8,
   "id": "f1bb14c1",
   "metadata": {
    "execution": {
     "iopub.execute_input": "2023-08-14T05:40:21.643882Z",
     "iopub.status.busy": "2023-08-14T05:40:21.643482Z",
     "iopub.status.idle": "2023-08-14T05:40:21.999653Z",
     "shell.execute_reply": "2023-08-14T05:40:21.998930Z"
    }
   },
   "outputs": [],
   "source": [
    "from tianshou.data import Batch\n",
    "\n",
    "b = Batch(**_TREE_DATA_2)"
   ]
  },
  {
   "cell_type": "code",
   "execution_count": 9,
   "id": "cb0777c3",
   "metadata": {
    "execution": {
     "iopub.execute_input": "2023-08-14T05:40:22.003471Z",
     "iopub.status.busy": "2023-08-14T05:40:22.002789Z",
     "iopub.status.idle": "2023-08-14T05:40:22.008597Z",
     "shell.execute_reply": "2023-08-14T05:40:22.007928Z"
    }
   },
   "outputs": [
    {
     "data": {
      "text/plain": [
       "Batch(\n",
       "    a: tensor([[-0.1275, -0.0319, -1.6389],\n",
       "               [-0.0040, -0.7521,  0.4777]]),\n",
       "    x: Batch(\n",
       "           c: tensor([[-0.2708, -1.0875, -0.0965,  0.1577],\n",
       "                      [ 0.3538, -0.6505, -1.9733, -0.5614],\n",
       "                      [-1.0685,  0.6300,  0.3295, -0.0028]]),\n",
       "       ),\n",
       ")"
      ]
     },
     "execution_count": 9,
     "metadata": {},
     "output_type": "execute_result"
    }
   ],
   "source": [
    "b"
   ]
  },
  {
   "cell_type": "code",
   "execution_count": 10,
   "id": "43ef8ea3",
   "metadata": {
    "execution": {
     "iopub.execute_input": "2023-08-14T05:40:22.011784Z",
     "iopub.status.busy": "2023-08-14T05:40:22.011184Z",
     "iopub.status.idle": "2023-08-14T05:40:22.016243Z",
     "shell.execute_reply": "2023-08-14T05:40:22.015570Z"
    }
   },
   "outputs": [
    {
     "data": {
      "text/plain": [
       "tensor([[-0.1275, -0.0319, -1.6389],\n",
       "        [-0.0040, -0.7521,  0.4777]])"
      ]
     },
     "execution_count": 10,
     "metadata": {},
     "output_type": "execute_result"
    }
   ],
   "source": [
    "b.a"
   ]
  },
  {
   "cell_type": "code",
   "execution_count": 11,
   "id": "b785ab72",
   "metadata": {
    "execution": {
     "iopub.execute_input": "2023-08-14T05:40:22.019201Z",
     "iopub.status.busy": "2023-08-14T05:40:22.018832Z",
     "iopub.status.idle": "2023-08-14T05:40:26.629030Z",
     "shell.execute_reply": "2023-08-14T05:40:26.628426Z"
    }
   },
   "outputs": [
    {
     "name": "stdout",
     "output_type": "stream",
     "text": [
      "56.7 ns ± 0.0959 ns per loop (mean ± std. dev. of 7 runs, 10,000,000 loops each)\n"
     ]
    }
   ],
   "source": [
    "%timeit b.a"
   ]
  },
  {
   "cell_type": "code",
   "execution_count": 12,
   "id": "ad54dc69",
   "metadata": {
    "execution": {
     "iopub.execute_input": "2023-08-14T05:40:26.632283Z",
     "iopub.status.busy": "2023-08-14T05:40:26.631682Z",
     "iopub.status.idle": "2023-08-14T05:40:26.637706Z",
     "shell.execute_reply": "2023-08-14T05:40:26.637023Z"
    }
   },
   "outputs": [
    {
     "data": {
      "text/plain": [
       "Batch(\n",
       "    a: tensor([[ 0.2791,  0.1014, -1.2108],\n",
       "               [-0.0763,  0.4632,  0.1254]]),\n",
       "    x: Batch(\n",
       "           c: tensor([[-0.2708, -1.0875, -0.0965,  0.1577],\n",
       "                      [ 0.3538, -0.6505, -1.9733, -0.5614],\n",
       "                      [-1.0685,  0.6300,  0.3295, -0.0028]]),\n",
       "       ),\n",
       ")"
      ]
     },
     "execution_count": 12,
     "metadata": {},
     "output_type": "execute_result"
    }
   ],
   "source": [
    "new_value = torch.randn(2, 3)\n",
    "b.a = new_value\n",
    "\n",
    "b"
   ]
  },
  {
   "cell_type": "code",
   "execution_count": 13,
   "id": "29b1d0bf",
   "metadata": {
    "execution": {
     "iopub.execute_input": "2023-08-14T05:40:26.640604Z",
     "iopub.status.busy": "2023-08-14T05:40:26.640257Z",
     "iopub.status.idle": "2023-08-14T05:40:30.605391Z",
     "shell.execute_reply": "2023-08-14T05:40:30.604280Z"
    }
   },
   "outputs": [
    {
     "name": "stdout",
     "output_type": "stream",
     "text": [
      "488 ns ± 0.135 ns per loop (mean ± std. dev. of 7 runs, 1,000,000 loops each)\n"
     ]
    }
   ],
   "source": [
    "%timeit b.a = new_value"
   ]
  },
  {
   "cell_type": "markdown",
   "id": "b61ad1d0",
   "metadata": {},
   "source": [
    "## Initialization"
   ]
  },
  {
   "cell_type": "markdown",
   "id": "d70f0d54",
   "metadata": {},
   "source": [
    "### TreeValue's Initialization"
   ]
  },
  {
   "cell_type": "code",
   "execution_count": 14,
   "id": "d32a679b",
   "metadata": {
    "execution": {
     "iopub.execute_input": "2023-08-14T05:40:30.608853Z",
     "iopub.status.busy": "2023-08-14T05:40:30.608327Z",
     "iopub.status.idle": "2023-08-14T05:40:37.437587Z",
     "shell.execute_reply": "2023-08-14T05:40:37.436963Z"
    }
   },
   "outputs": [
    {
     "name": "stdout",
     "output_type": "stream",
     "text": [
      "841 ns ± 0.855 ns per loop (mean ± std. dev. of 7 runs, 1,000,000 loops each)\n"
     ]
    }
   ],
   "source": [
    "%timeit FastTreeValue(_TREE_DATA_1)"
   ]
  },
  {
   "cell_type": "markdown",
   "id": "24f3707b",
   "metadata": {},
   "source": [
    "### Tianshou Batch's Initialization"
   ]
  },
  {
   "cell_type": "code",
   "execution_count": 15,
   "id": "ac3958df",
   "metadata": {
    "execution": {
     "iopub.execute_input": "2023-08-14T05:40:37.440853Z",
     "iopub.status.busy": "2023-08-14T05:40:37.440266Z",
     "iopub.status.idle": "2023-08-14T05:40:46.587962Z",
     "shell.execute_reply": "2023-08-14T05:40:46.587330Z"
    }
   },
   "outputs": [
    {
     "name": "stdout",
     "output_type": "stream",
     "text": [
      "11.3 µs ± 40.1 ns per loop (mean ± std. dev. of 7 runs, 100,000 loops each)\n"
     ]
    }
   ],
   "source": [
    "%timeit Batch(**_TREE_DATA_1)"
   ]
  },
  {
   "cell_type": "markdown",
   "id": "1ab82e2d",
   "metadata": {},
   "source": [
    "## Deep Copy Operation"
   ]
  },
  {
   "cell_type": "code",
   "execution_count": 16,
   "id": "210a9442",
   "metadata": {
    "execution": {
     "iopub.execute_input": "2023-08-14T05:40:46.591446Z",
     "iopub.status.busy": "2023-08-14T05:40:46.590794Z",
     "iopub.status.idle": "2023-08-14T05:40:46.594213Z",
     "shell.execute_reply": "2023-08-14T05:40:46.593515Z"
    }
   },
   "outputs": [],
   "source": [
    "import copy"
   ]
  },
  {
   "cell_type": "markdown",
   "id": "5a736274",
   "metadata": {},
   "source": [
    "### Deep Copy of TreeValue"
   ]
  },
  {
   "cell_type": "code",
   "execution_count": 17,
   "id": "f9bcadd6",
   "metadata": {
    "execution": {
     "iopub.execute_input": "2023-08-14T05:40:46.597265Z",
     "iopub.status.busy": "2023-08-14T05:40:46.596913Z",
     "iopub.status.idle": "2023-08-14T05:40:57.854423Z",
     "shell.execute_reply": "2023-08-14T05:40:57.853831Z"
    }
   },
   "outputs": [
    {
     "name": "stdout",
     "output_type": "stream",
     "text": [
      "139 µs ± 822 ns per loop (mean ± std. dev. of 7 runs, 10,000 loops each)\n"
     ]
    }
   ],
   "source": [
    "t3 = FastTreeValue(_TREE_DATA_3)\n",
    "%timeit copy.deepcopy(t3)"
   ]
  },
  {
   "cell_type": "markdown",
   "id": "bf8be7ea",
   "metadata": {},
   "source": [
    "### Deep Copy of Tianshou Batch"
   ]
  },
  {
   "cell_type": "code",
   "execution_count": 18,
   "id": "91998e6f",
   "metadata": {
    "execution": {
     "iopub.execute_input": "2023-08-14T05:40:57.857795Z",
     "iopub.status.busy": "2023-08-14T05:40:57.857139Z",
     "iopub.status.idle": "2023-08-14T05:41:09.330380Z",
     "shell.execute_reply": "2023-08-14T05:41:09.329805Z"
    }
   },
   "outputs": [
    {
     "name": "stdout",
     "output_type": "stream",
     "text": [
      "142 µs ± 1.27 µs per loop (mean ± std. dev. of 7 runs, 10,000 loops each)\n"
     ]
    }
   ],
   "source": [
    "b3 = Batch(**_TREE_DATA_3)\n",
    "%timeit copy.deepcopy(b3)"
   ]
  },
  {
   "cell_type": "markdown",
   "id": "223162fb",
   "metadata": {},
   "source": [
    "## Stack, Concat and Split Operation"
   ]
  },
  {
   "cell_type": "markdown",
   "id": "85fa4a73",
   "metadata": {},
   "source": [
    "### Performance of TreeValue"
   ]
  },
  {
   "cell_type": "code",
   "execution_count": 19,
   "id": "a0c2b697",
   "metadata": {
    "execution": {
     "iopub.execute_input": "2023-08-14T05:41:09.333772Z",
     "iopub.status.busy": "2023-08-14T05:41:09.333137Z",
     "iopub.status.idle": "2023-08-14T05:41:09.336617Z",
     "shell.execute_reply": "2023-08-14T05:41:09.336074Z"
    }
   },
   "outputs": [],
   "source": [
    "trees = [FastTreeValue(_TREE_DATA_2) for _ in range(8)]"
   ]
  },
  {
   "cell_type": "code",
   "execution_count": 20,
   "id": "017ea5a5",
   "metadata": {
    "execution": {
     "iopub.execute_input": "2023-08-14T05:41:09.340003Z",
     "iopub.status.busy": "2023-08-14T05:41:09.339778Z",
     "iopub.status.idle": "2023-08-14T05:41:09.347081Z",
     "shell.execute_reply": "2023-08-14T05:41:09.346398Z"
    }
   },
   "outputs": [
    {
     "data": {
      "text/plain": [
       "<FastTreeValue 0x7fb86cd59a30>\n",
       "├── 'a' --> tensor([[[-0.1275, -0.0319, -1.6389],\n",
       "│                    [-0.0040, -0.7521,  0.4777]],\n",
       "│           \n",
       "│                   [[-0.1275, -0.0319, -1.6389],\n",
       "│                    [-0.0040, -0.7521,  0.4777]],\n",
       "│           \n",
       "│                   [[-0.1275, -0.0319, -1.6389],\n",
       "│                    [-0.0040, -0.7521,  0.4777]],\n",
       "│           \n",
       "│                   [[-0.1275, -0.0319, -1.6389],\n",
       "│                    [-0.0040, -0.7521,  0.4777]],\n",
       "│           \n",
       "│                   [[-0.1275, -0.0319, -1.6389],\n",
       "│                    [-0.0040, -0.7521,  0.4777]],\n",
       "│           \n",
       "│                   [[-0.1275, -0.0319, -1.6389],\n",
       "│                    [-0.0040, -0.7521,  0.4777]],\n",
       "│           \n",
       "│                   [[-0.1275, -0.0319, -1.6389],\n",
       "│                    [-0.0040, -0.7521,  0.4777]],\n",
       "│           \n",
       "│                   [[-0.1275, -0.0319, -1.6389],\n",
       "│                    [-0.0040, -0.7521,  0.4777]]])\n",
       "└── 'x' --> <FastTreeValue 0x7fb84452b460>\n",
       "    └── 'c' --> tensor([[[-0.2708, -1.0875, -0.0965,  0.1577],\n",
       "                         [ 0.3538, -0.6505, -1.9733, -0.5614],\n",
       "                         [-1.0685,  0.6300,  0.3295, -0.0028]],\n",
       "                \n",
       "                        [[-0.2708, -1.0875, -0.0965,  0.1577],\n",
       "                         [ 0.3538, -0.6505, -1.9733, -0.5614],\n",
       "                         [-1.0685,  0.6300,  0.3295, -0.0028]],\n",
       "                \n",
       "                        [[-0.2708, -1.0875, -0.0965,  0.1577],\n",
       "                         [ 0.3538, -0.6505, -1.9733, -0.5614],\n",
       "                         [-1.0685,  0.6300,  0.3295, -0.0028]],\n",
       "                \n",
       "                        [[-0.2708, -1.0875, -0.0965,  0.1577],\n",
       "                         [ 0.3538, -0.6505, -1.9733, -0.5614],\n",
       "                         [-1.0685,  0.6300,  0.3295, -0.0028]],\n",
       "                \n",
       "                        [[-0.2708, -1.0875, -0.0965,  0.1577],\n",
       "                         [ 0.3538, -0.6505, -1.9733, -0.5614],\n",
       "                         [-1.0685,  0.6300,  0.3295, -0.0028]],\n",
       "                \n",
       "                        [[-0.2708, -1.0875, -0.0965,  0.1577],\n",
       "                         [ 0.3538, -0.6505, -1.9733, -0.5614],\n",
       "                         [-1.0685,  0.6300,  0.3295, -0.0028]],\n",
       "                \n",
       "                        [[-0.2708, -1.0875, -0.0965,  0.1577],\n",
       "                         [ 0.3538, -0.6505, -1.9733, -0.5614],\n",
       "                         [-1.0685,  0.6300,  0.3295, -0.0028]],\n",
       "                \n",
       "                        [[-0.2708, -1.0875, -0.0965,  0.1577],\n",
       "                         [ 0.3538, -0.6505, -1.9733, -0.5614],\n",
       "                         [-1.0685,  0.6300,  0.3295, -0.0028]]])"
      ]
     },
     "execution_count": 20,
     "metadata": {},
     "output_type": "execute_result"
    }
   ],
   "source": [
    "t_stack = FastTreeValue.func(subside=True)(torch.stack)\n",
    "\n",
    "t_stack(trees)"
   ]
  },
  {
   "cell_type": "code",
   "execution_count": 21,
   "id": "f8b3f415",
   "metadata": {
    "execution": {
     "iopub.execute_input": "2023-08-14T05:41:09.350019Z",
     "iopub.status.busy": "2023-08-14T05:41:09.349809Z",
     "iopub.status.idle": "2023-08-14T05:41:12.031525Z",
     "shell.execute_reply": "2023-08-14T05:41:12.030911Z"
    }
   },
   "outputs": [
    {
     "name": "stdout",
     "output_type": "stream",
     "text": [
      "32.2 µs ± 40.7 ns per loop (mean ± std. dev. of 7 runs, 10,000 loops each)\n"
     ]
    }
   ],
   "source": [
    "%timeit t_stack(trees)"
   ]
  },
  {
   "cell_type": "code",
   "execution_count": 22,
   "id": "94b56771",
   "metadata": {
    "execution": {
     "iopub.execute_input": "2023-08-14T05:41:12.034874Z",
     "iopub.status.busy": "2023-08-14T05:41:12.034243Z",
     "iopub.status.idle": "2023-08-14T05:41:12.041913Z",
     "shell.execute_reply": "2023-08-14T05:41:12.041232Z"
    }
   },
   "outputs": [
    {
     "data": {
      "text/plain": [
       "<FastTreeValue 0x7fb7aa1666d0>\n",
       "├── 'a' --> tensor([[-0.1275, -0.0319, -1.6389],\n",
       "│                   [-0.0040, -0.7521,  0.4777],\n",
       "│                   [-0.1275, -0.0319, -1.6389],\n",
       "│                   [-0.0040, -0.7521,  0.4777],\n",
       "│                   [-0.1275, -0.0319, -1.6389],\n",
       "│                   [-0.0040, -0.7521,  0.4777],\n",
       "│                   [-0.1275, -0.0319, -1.6389],\n",
       "│                   [-0.0040, -0.7521,  0.4777],\n",
       "│                   [-0.1275, -0.0319, -1.6389],\n",
       "│                   [-0.0040, -0.7521,  0.4777],\n",
       "│                   [-0.1275, -0.0319, -1.6389],\n",
       "│                   [-0.0040, -0.7521,  0.4777],\n",
       "│                   [-0.1275, -0.0319, -1.6389],\n",
       "│                   [-0.0040, -0.7521,  0.4777],\n",
       "│                   [-0.1275, -0.0319, -1.6389],\n",
       "│                   [-0.0040, -0.7521,  0.4777]])\n",
       "└── 'x' --> <FastTreeValue 0x7fb86cd8b7f0>\n",
       "    └── 'c' --> tensor([[-0.2708, -1.0875, -0.0965,  0.1577],\n",
       "                        [ 0.3538, -0.6505, -1.9733, -0.5614],\n",
       "                        [-1.0685,  0.6300,  0.3295, -0.0028],\n",
       "                        [-0.2708, -1.0875, -0.0965,  0.1577],\n",
       "                        [ 0.3538, -0.6505, -1.9733, -0.5614],\n",
       "                        [-1.0685,  0.6300,  0.3295, -0.0028],\n",
       "                        [-0.2708, -1.0875, -0.0965,  0.1577],\n",
       "                        [ 0.3538, -0.6505, -1.9733, -0.5614],\n",
       "                        [-1.0685,  0.6300,  0.3295, -0.0028],\n",
       "                        [-0.2708, -1.0875, -0.0965,  0.1577],\n",
       "                        [ 0.3538, -0.6505, -1.9733, -0.5614],\n",
       "                        [-1.0685,  0.6300,  0.3295, -0.0028],\n",
       "                        [-0.2708, -1.0875, -0.0965,  0.1577],\n",
       "                        [ 0.3538, -0.6505, -1.9733, -0.5614],\n",
       "                        [-1.0685,  0.6300,  0.3295, -0.0028],\n",
       "                        [-0.2708, -1.0875, -0.0965,  0.1577],\n",
       "                        [ 0.3538, -0.6505, -1.9733, -0.5614],\n",
       "                        [-1.0685,  0.6300,  0.3295, -0.0028],\n",
       "                        [-0.2708, -1.0875, -0.0965,  0.1577],\n",
       "                        [ 0.3538, -0.6505, -1.9733, -0.5614],\n",
       "                        [-1.0685,  0.6300,  0.3295, -0.0028],\n",
       "                        [-0.2708, -1.0875, -0.0965,  0.1577],\n",
       "                        [ 0.3538, -0.6505, -1.9733, -0.5614],\n",
       "                        [-1.0685,  0.6300,  0.3295, -0.0028]])"
      ]
     },
     "execution_count": 22,
     "metadata": {},
     "output_type": "execute_result"
    }
   ],
   "source": [
    "t_cat = FastTreeValue.func(subside=True)(torch.cat)\n",
    "\n",
    "t_cat(trees)"
   ]
  },
  {
   "cell_type": "code",
   "execution_count": 23,
   "id": "5e9c06a6",
   "metadata": {
    "execution": {
     "iopub.execute_input": "2023-08-14T05:41:12.045104Z",
     "iopub.status.busy": "2023-08-14T05:41:12.044503Z",
     "iopub.status.idle": "2023-08-14T05:41:14.476955Z",
     "shell.execute_reply": "2023-08-14T05:41:14.476305Z"
    }
   },
   "outputs": [
    {
     "name": "stdout",
     "output_type": "stream",
     "text": [
      "29.9 µs ± 63.7 ns per loop (mean ± std. dev. of 7 runs, 10,000 loops each)\n"
     ]
    }
   ],
   "source": [
    "%timeit t_cat(trees)"
   ]
  },
  {
   "cell_type": "code",
   "execution_count": 24,
   "id": "a3ab5c8f",
   "metadata": {
    "execution": {
     "iopub.execute_input": "2023-08-14T05:41:14.480171Z",
     "iopub.status.busy": "2023-08-14T05:41:14.479562Z",
     "iopub.status.idle": "2023-08-14T05:41:20.113004Z",
     "shell.execute_reply": "2023-08-14T05:41:20.111872Z"
    }
   },
   "outputs": [
    {
     "name": "stdout",
     "output_type": "stream",
     "text": [
      "69.3 µs ± 43.7 ns per loop (mean ± std. dev. of 7 runs, 10,000 loops each)\n"
     ]
    }
   ],
   "source": [
    "t_split = FastTreeValue.func(rise=True)(torch.split)\n",
    "tree = FastTreeValue({\n",
    "    'obs': torch.randn(8, 4, 84, 84),\n",
    "    'action': torch.randint(0, 6, size=(8, 1,)),\n",
    "    'reward': torch.rand(8, 1),\n",
    "})\n",
    "\n",
    "%timeit t_split(tree, 1)"
   ]
  },
  {
   "cell_type": "markdown",
   "id": "31c3ec0b",
   "metadata": {},
   "source": [
    "### Performance of Tianshou Batch"
   ]
  },
  {
   "cell_type": "code",
   "execution_count": 25,
   "id": "9ead828a",
   "metadata": {
    "execution": {
     "iopub.execute_input": "2023-08-14T05:41:20.116613Z",
     "iopub.status.busy": "2023-08-14T05:41:20.116249Z",
     "iopub.status.idle": "2023-08-14T05:41:20.124240Z",
     "shell.execute_reply": "2023-08-14T05:41:20.123561Z"
    }
   },
   "outputs": [
    {
     "data": {
      "text/plain": [
       "Batch(\n",
       "    x: Batch(\n",
       "           c: tensor([[[-0.2708, -1.0875, -0.0965,  0.1577],\n",
       "                       [ 0.3538, -0.6505, -1.9733, -0.5614],\n",
       "                       [-1.0685,  0.6300,  0.3295, -0.0028]],\n",
       "              \n",
       "                      [[-0.2708, -1.0875, -0.0965,  0.1577],\n",
       "                       [ 0.3538, -0.6505, -1.9733, -0.5614],\n",
       "                       [-1.0685,  0.6300,  0.3295, -0.0028]],\n",
       "              \n",
       "                      [[-0.2708, -1.0875, -0.0965,  0.1577],\n",
       "                       [ 0.3538, -0.6505, -1.9733, -0.5614],\n",
       "                       [-1.0685,  0.6300,  0.3295, -0.0028]],\n",
       "              \n",
       "                      [[-0.2708, -1.0875, -0.0965,  0.1577],\n",
       "                       [ 0.3538, -0.6505, -1.9733, -0.5614],\n",
       "                       [-1.0685,  0.6300,  0.3295, -0.0028]],\n",
       "              \n",
       "                      [[-0.2708, -1.0875, -0.0965,  0.1577],\n",
       "                       [ 0.3538, -0.6505, -1.9733, -0.5614],\n",
       "                       [-1.0685,  0.6300,  0.3295, -0.0028]],\n",
       "              \n",
       "                      [[-0.2708, -1.0875, -0.0965,  0.1577],\n",
       "                       [ 0.3538, -0.6505, -1.9733, -0.5614],\n",
       "                       [-1.0685,  0.6300,  0.3295, -0.0028]],\n",
       "              \n",
       "                      [[-0.2708, -1.0875, -0.0965,  0.1577],\n",
       "                       [ 0.3538, -0.6505, -1.9733, -0.5614],\n",
       "                       [-1.0685,  0.6300,  0.3295, -0.0028]],\n",
       "              \n",
       "                      [[-0.2708, -1.0875, -0.0965,  0.1577],\n",
       "                       [ 0.3538, -0.6505, -1.9733, -0.5614],\n",
       "                       [-1.0685,  0.6300,  0.3295, -0.0028]]]),\n",
       "       ),\n",
       "    a: tensor([[[-0.1275, -0.0319, -1.6389],\n",
       "                [-0.0040, -0.7521,  0.4777]],\n",
       "       \n",
       "               [[-0.1275, -0.0319, -1.6389],\n",
       "                [-0.0040, -0.7521,  0.4777]],\n",
       "       \n",
       "               [[-0.1275, -0.0319, -1.6389],\n",
       "                [-0.0040, -0.7521,  0.4777]],\n",
       "       \n",
       "               [[-0.1275, -0.0319, -1.6389],\n",
       "                [-0.0040, -0.7521,  0.4777]],\n",
       "       \n",
       "               [[-0.1275, -0.0319, -1.6389],\n",
       "                [-0.0040, -0.7521,  0.4777]],\n",
       "       \n",
       "               [[-0.1275, -0.0319, -1.6389],\n",
       "                [-0.0040, -0.7521,  0.4777]],\n",
       "       \n",
       "               [[-0.1275, -0.0319, -1.6389],\n",
       "                [-0.0040, -0.7521,  0.4777]],\n",
       "       \n",
       "               [[-0.1275, -0.0319, -1.6389],\n",
       "                [-0.0040, -0.7521,  0.4777]]]),\n",
       ")"
      ]
     },
     "execution_count": 25,
     "metadata": {},
     "output_type": "execute_result"
    }
   ],
   "source": [
    "batches = [Batch(**_TREE_DATA_2) for _ in range(8)]\n",
    "\n",
    "Batch.stack(batches)"
   ]
  },
  {
   "cell_type": "code",
   "execution_count": 26,
   "id": "ec9037a3",
   "metadata": {
    "execution": {
     "iopub.execute_input": "2023-08-14T05:41:20.127191Z",
     "iopub.status.busy": "2023-08-14T05:41:20.126843Z",
     "iopub.status.idle": "2023-08-14T05:41:26.605608Z",
     "shell.execute_reply": "2023-08-14T05:41:26.604969Z"
    }
   },
   "outputs": [
    {
     "name": "stdout",
     "output_type": "stream",
     "text": [
      "79.7 µs ± 127 ns per loop (mean ± std. dev. of 7 runs, 10,000 loops each)\n"
     ]
    }
   ],
   "source": [
    "%timeit Batch.stack(batches)"
   ]
  },
  {
   "cell_type": "code",
   "execution_count": 27,
   "id": "cb8ab77e",
   "metadata": {
    "execution": {
     "iopub.execute_input": "2023-08-14T05:41:26.608779Z",
     "iopub.status.busy": "2023-08-14T05:41:26.608312Z",
     "iopub.status.idle": "2023-08-14T05:41:26.615448Z",
     "shell.execute_reply": "2023-08-14T05:41:26.614707Z"
    }
   },
   "outputs": [
    {
     "data": {
      "text/plain": [
       "Batch(\n",
       "    x: Batch(\n",
       "           c: tensor([[-0.2708, -1.0875, -0.0965,  0.1577],\n",
       "                      [ 0.3538, -0.6505, -1.9733, -0.5614],\n",
       "                      [-1.0685,  0.6300,  0.3295, -0.0028],\n",
       "                      [-0.2708, -1.0875, -0.0965,  0.1577],\n",
       "                      [ 0.3538, -0.6505, -1.9733, -0.5614],\n",
       "                      [-1.0685,  0.6300,  0.3295, -0.0028],\n",
       "                      [-0.2708, -1.0875, -0.0965,  0.1577],\n",
       "                      [ 0.3538, -0.6505, -1.9733, -0.5614],\n",
       "                      [-1.0685,  0.6300,  0.3295, -0.0028],\n",
       "                      [-0.2708, -1.0875, -0.0965,  0.1577],\n",
       "                      [ 0.3538, -0.6505, -1.9733, -0.5614],\n",
       "                      [-1.0685,  0.6300,  0.3295, -0.0028],\n",
       "                      [-0.2708, -1.0875, -0.0965,  0.1577],\n",
       "                      [ 0.3538, -0.6505, -1.9733, -0.5614],\n",
       "                      [-1.0685,  0.6300,  0.3295, -0.0028],\n",
       "                      [-0.2708, -1.0875, -0.0965,  0.1577],\n",
       "                      [ 0.3538, -0.6505, -1.9733, -0.5614],\n",
       "                      [-1.0685,  0.6300,  0.3295, -0.0028],\n",
       "                      [-0.2708, -1.0875, -0.0965,  0.1577],\n",
       "                      [ 0.3538, -0.6505, -1.9733, -0.5614],\n",
       "                      [-1.0685,  0.6300,  0.3295, -0.0028],\n",
       "                      [-0.2708, -1.0875, -0.0965,  0.1577],\n",
       "                      [ 0.3538, -0.6505, -1.9733, -0.5614],\n",
       "                      [-1.0685,  0.6300,  0.3295, -0.0028]]),\n",
       "       ),\n",
       "    a: tensor([[-0.1275, -0.0319, -1.6389],\n",
       "               [-0.0040, -0.7521,  0.4777],\n",
       "               [-0.1275, -0.0319, -1.6389],\n",
       "               [-0.0040, -0.7521,  0.4777],\n",
       "               [-0.1275, -0.0319, -1.6389],\n",
       "               [-0.0040, -0.7521,  0.4777],\n",
       "               [-0.1275, -0.0319, -1.6389],\n",
       "               [-0.0040, -0.7521,  0.4777],\n",
       "               [-0.1275, -0.0319, -1.6389],\n",
       "               [-0.0040, -0.7521,  0.4777],\n",
       "               [-0.1275, -0.0319, -1.6389],\n",
       "               [-0.0040, -0.7521,  0.4777],\n",
       "               [-0.1275, -0.0319, -1.6389],\n",
       "               [-0.0040, -0.7521,  0.4777],\n",
       "               [-0.1275, -0.0319, -1.6389],\n",
       "               [-0.0040, -0.7521,  0.4777]]),\n",
       ")"
      ]
     },
     "execution_count": 27,
     "metadata": {},
     "output_type": "execute_result"
    }
   ],
   "source": [
    "Batch.cat(batches)"
   ]
  },
  {
   "cell_type": "code",
   "execution_count": 28,
   "id": "18dfb045",
   "metadata": {
    "execution": {
     "iopub.execute_input": "2023-08-14T05:41:26.618550Z",
     "iopub.status.busy": "2023-08-14T05:41:26.617949Z",
     "iopub.status.idle": "2023-08-14T05:41:38.608792Z",
     "shell.execute_reply": "2023-08-14T05:41:38.608181Z"
    }
   },
   "outputs": [
    {
     "name": "stdout",
     "output_type": "stream",
     "text": [
      "148 µs ± 276 ns per loop (mean ± std. dev. of 7 runs, 10,000 loops each)\n"
     ]
    }
   ],
   "source": [
    "%timeit Batch.cat(batches)"
   ]
  },
  {
   "cell_type": "code",
   "execution_count": 29,
   "id": "c6688e51",
   "metadata": {
    "execution": {
     "iopub.execute_input": "2023-08-14T05:41:38.612054Z",
     "iopub.status.busy": "2023-08-14T05:41:38.611452Z",
     "iopub.status.idle": "2023-08-14T05:41:41.367230Z",
     "shell.execute_reply": "2023-08-14T05:41:41.366484Z"
    }
   },
   "outputs": [
    {
     "name": "stdout",
     "output_type": "stream",
     "text": [
      "338 µs ± 3.67 µs per loop (mean ± std. dev. of 7 runs, 1,000 loops each)\n"
     ]
    }
   ],
   "source": [
    "batch = Batch({\n",
    "    'obs': torch.randn(8, 4, 84, 84),\n",
    "    'action': torch.randint(0, 6, size=(8, 1,)),\n",
    "    'reward': torch.rand(8, 1)}\n",
    ")\n",
    "\n",
    "%timeit list(Batch.split(batch, 1, shuffle=False, merge_last=True))"
   ]
  },
  {
   "cell_type": "code",
   "execution_count": null,
   "id": "2539fbd9",
   "metadata": {},
   "outputs": [],
   "source": []
  }
 ],
 "metadata": {
  "kernelspec": {
   "display_name": "Python 3 (ipykernel)",
   "language": "python",
   "name": "python3"
  },
  "language_info": {
   "codemirror_mode": {
    "name": "ipython",
    "version": 3
   },
   "file_extension": ".py",
   "mimetype": "text/x-python",
   "name": "python",
   "nbconvert_exporter": "python",
   "pygments_lexer": "ipython3",
   "version": "3.8.17"
  }
 },
 "nbformat": 4,
 "nbformat_minor": 5
}
