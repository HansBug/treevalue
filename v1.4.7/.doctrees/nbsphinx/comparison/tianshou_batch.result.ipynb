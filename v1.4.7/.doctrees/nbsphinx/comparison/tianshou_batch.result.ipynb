{
 "cells": [
  {
   "cell_type": "markdown",
   "id": "9d39d946",
   "metadata": {},
   "source": [
    "# Comparison Between TreeValue and Tianshou Batch"
   ]
  },
  {
   "cell_type": "markdown",
   "id": "3c6db2d4",
   "metadata": {},
   "source": [
    "In this section, we will take a look at the feature and performance of the [Tianshou Batch](https://github.com/thu-ml/tianshou) library, which is developed by Tsinghua Machine Learning Group."
   ]
  },
  {
   "cell_type": "markdown",
   "id": "069361b0",
   "metadata": {},
   "source": [
    "Before starting the comparison, let us define some thing."
   ]
  },
  {
   "cell_type": "code",
   "execution_count": 1,
   "id": "06fc8d26",
   "metadata": {
    "execution": {
     "iopub.execute_input": "2023-03-06T18:09:48.448334Z",
     "iopub.status.busy": "2023-03-06T18:09:48.448121Z",
     "iopub.status.idle": "2023-03-06T18:09:49.374840Z",
     "shell.execute_reply": "2023-03-06T18:09:49.374160Z"
    }
   },
   "outputs": [
    {
     "name": "stderr",
     "output_type": "stream",
     "text": [
      "/opt/hostedtoolcache/Python/3.8.16/x64/lib/python3.8/site-packages/tqdm/auto.py:21: TqdmWarning: IProgress not found. Please update jupyter and ipywidgets. See https://ipywidgets.readthedocs.io/en/stable/user_install.html\n",
      "  from .autonotebook import tqdm as notebook_tqdm\n"
     ]
    }
   ],
   "source": [
    "import torch \n",
    "\n",
    "_TREE_DATA_1 = {'a': 1, 'b': 2, 'x': {'c': 3, 'd': 4}}\n",
    "_TREE_DATA_2 = {\n",
    "    'a': torch.randn(2, 3), \n",
    "    'x': {\n",
    "        'c': torch.randn(3, 4)\n",
    "    },\n",
    "}\n",
    "_TREE_DATA_3 = {\n",
    "    'obs': torch.randn(4, 84, 84),\n",
    "    'action': torch.randint(0, 6, size=(1,)),\n",
    "    'reward': torch.rand(1),\n",
    "}"
   ]
  },
  {
   "cell_type": "markdown",
   "id": "83461b25",
   "metadata": {},
   "source": [
    "## Read and Write Operation"
   ]
  },
  {
   "cell_type": "markdown",
   "id": "067b3f73",
   "metadata": {},
   "source": [
    "Reading and writing are the two most common operations in the tree data structure based on the data model (TreeValue and Tianshou Batch both belong to this type), so this section will compare the reading and writing performance of these two libraries."
   ]
  },
  {
   "cell_type": "markdown",
   "id": "5d09a5b7",
   "metadata": {},
   "source": [
    "### TreeValue's Get and Set"
   ]
  },
  {
   "cell_type": "code",
   "execution_count": 2,
   "id": "9519c4bb",
   "metadata": {
    "execution": {
     "iopub.execute_input": "2023-03-06T18:09:49.378354Z",
     "iopub.status.busy": "2023-03-06T18:09:49.377763Z",
     "iopub.status.idle": "2023-03-06T18:09:49.660345Z",
     "shell.execute_reply": "2023-03-06T18:09:49.659667Z"
    }
   },
   "outputs": [],
   "source": [
    "from treevalue import FastTreeValue\n",
    "\n",
    "t = FastTreeValue(_TREE_DATA_2)"
   ]
  },
  {
   "cell_type": "code",
   "execution_count": 3,
   "id": "11c37677",
   "metadata": {
    "execution": {
     "iopub.execute_input": "2023-03-06T18:09:49.663961Z",
     "iopub.status.busy": "2023-03-06T18:09:49.663340Z",
     "iopub.status.idle": "2023-03-06T18:09:49.673324Z",
     "shell.execute_reply": "2023-03-06T18:09:49.672677Z"
    }
   },
   "outputs": [
    {
     "data": {
      "text/plain": [
       "<FastTreeValue 0x7ff043bb7490>\n",
       "├── 'a' --> tensor([[ 1.1538,  0.8675,  1.5108],\n",
       "│                   [-1.4594, -2.0900,  0.9068]])\n",
       "└── 'x' --> <FastTreeValue 0x7ff043bb7130>\n",
       "    └── 'c' --> tensor([[-0.1628,  0.2781, -0.8571, -0.0814],\n",
       "                        [ 0.8241, -0.7503,  1.3152,  0.1934],\n",
       "                        [ 0.8663, -0.4170, -0.3685, -0.5202]])"
      ]
     },
     "execution_count": 3,
     "metadata": {},
     "output_type": "execute_result"
    }
   ],
   "source": [
    "t"
   ]
  },
  {
   "cell_type": "code",
   "execution_count": 4,
   "id": "fd70b0b9",
   "metadata": {
    "execution": {
     "iopub.execute_input": "2023-03-06T18:09:49.676468Z",
     "iopub.status.busy": "2023-03-06T18:09:49.675913Z",
     "iopub.status.idle": "2023-03-06T18:09:49.682285Z",
     "shell.execute_reply": "2023-03-06T18:09:49.681702Z"
    }
   },
   "outputs": [
    {
     "data": {
      "text/plain": [
       "tensor([[ 1.1538,  0.8675,  1.5108],\n",
       "        [-1.4594, -2.0900,  0.9068]])"
      ]
     },
     "execution_count": 4,
     "metadata": {},
     "output_type": "execute_result"
    }
   ],
   "source": [
    "t.a"
   ]
  },
  {
   "cell_type": "code",
   "execution_count": 5,
   "id": "c18197bd",
   "metadata": {
    "execution": {
     "iopub.execute_input": "2023-03-06T18:09:49.685152Z",
     "iopub.status.busy": "2023-03-06T18:09:49.684668Z",
     "iopub.status.idle": "2023-03-06T18:09:54.621784Z",
     "shell.execute_reply": "2023-03-06T18:09:54.621109Z"
    }
   },
   "outputs": [
    {
     "name": "stdout",
     "output_type": "stream",
     "text": [
      "60.9 ns ± 0.0455 ns per loop (mean ± std. dev. of 7 runs, 10,000,000 loops each)\n"
     ]
    }
   ],
   "source": [
    "%timeit t.a"
   ]
  },
  {
   "cell_type": "code",
   "execution_count": 6,
   "id": "bd52f867",
   "metadata": {
    "execution": {
     "iopub.execute_input": "2023-03-06T18:09:54.624933Z",
     "iopub.status.busy": "2023-03-06T18:09:54.624321Z",
     "iopub.status.idle": "2023-03-06T18:09:54.632295Z",
     "shell.execute_reply": "2023-03-06T18:09:54.631446Z"
    }
   },
   "outputs": [
    {
     "data": {
      "text/plain": [
       "<FastTreeValue 0x7ff043bb7490>\n",
       "├── 'a' --> tensor([[ 0.1482,  0.0428,  0.7410],\n",
       "│                   [ 0.1929, -0.2148, -0.5137]])\n",
       "└── 'x' --> <FastTreeValue 0x7ff043bb7130>\n",
       "    └── 'c' --> tensor([[-0.1628,  0.2781, -0.8571, -0.0814],\n",
       "                        [ 0.8241, -0.7503,  1.3152,  0.1934],\n",
       "                        [ 0.8663, -0.4170, -0.3685, -0.5202]])"
      ]
     },
     "execution_count": 6,
     "metadata": {},
     "output_type": "execute_result"
    }
   ],
   "source": [
    "new_value = torch.randn(2, 3)\n",
    "t.a = new_value\n",
    "\n",
    "t"
   ]
  },
  {
   "cell_type": "code",
   "execution_count": 7,
   "id": "bbe04d1c",
   "metadata": {
    "execution": {
     "iopub.execute_input": "2023-03-06T18:09:54.635145Z",
     "iopub.status.busy": "2023-03-06T18:09:54.634781Z",
     "iopub.status.idle": "2023-03-06T18:09:59.809791Z",
     "shell.execute_reply": "2023-03-06T18:09:59.809111Z"
    }
   },
   "outputs": [
    {
     "name": "stdout",
     "output_type": "stream",
     "text": [
      "63.1 ns ± 0.0205 ns per loop (mean ± std. dev. of 7 runs, 10,000,000 loops each)\n"
     ]
    }
   ],
   "source": [
    "%timeit t.a = new_value"
   ]
  },
  {
   "cell_type": "markdown",
   "id": "48c49731",
   "metadata": {},
   "source": [
    "### Tianshou Batch's Get and Set"
   ]
  },
  {
   "cell_type": "code",
   "execution_count": 8,
   "id": "f1bb14c1",
   "metadata": {
    "execution": {
     "iopub.execute_input": "2023-03-06T18:09:59.813637Z",
     "iopub.status.busy": "2023-03-06T18:09:59.812292Z",
     "iopub.status.idle": "2023-03-06T18:10:00.151294Z",
     "shell.execute_reply": "2023-03-06T18:10:00.150601Z"
    }
   },
   "outputs": [],
   "source": [
    "from tianshou.data import Batch\n",
    "\n",
    "b = Batch(**_TREE_DATA_2)"
   ]
  },
  {
   "cell_type": "code",
   "execution_count": 9,
   "id": "cb0777c3",
   "metadata": {
    "execution": {
     "iopub.execute_input": "2023-03-06T18:10:00.154631Z",
     "iopub.status.busy": "2023-03-06T18:10:00.153896Z",
     "iopub.status.idle": "2023-03-06T18:10:00.160379Z",
     "shell.execute_reply": "2023-03-06T18:10:00.159765Z"
    }
   },
   "outputs": [
    {
     "data": {
      "text/plain": [
       "Batch(\n",
       "    a: tensor([[ 1.1538,  0.8675,  1.5108],\n",
       "               [-1.4594, -2.0900,  0.9068]]),\n",
       "    x: Batch(\n",
       "           c: tensor([[-0.1628,  0.2781, -0.8571, -0.0814],\n",
       "                      [ 0.8241, -0.7503,  1.3152,  0.1934],\n",
       "                      [ 0.8663, -0.4170, -0.3685, -0.5202]]),\n",
       "       ),\n",
       ")"
      ]
     },
     "execution_count": 9,
     "metadata": {},
     "output_type": "execute_result"
    }
   ],
   "source": [
    "b"
   ]
  },
  {
   "cell_type": "code",
   "execution_count": 10,
   "id": "43ef8ea3",
   "metadata": {
    "execution": {
     "iopub.execute_input": "2023-03-06T18:10:00.163467Z",
     "iopub.status.busy": "2023-03-06T18:10:00.162935Z",
     "iopub.status.idle": "2023-03-06T18:10:00.169136Z",
     "shell.execute_reply": "2023-03-06T18:10:00.168247Z"
    }
   },
   "outputs": [
    {
     "data": {
      "text/plain": [
       "tensor([[ 1.1538,  0.8675,  1.5108],\n",
       "        [-1.4594, -2.0900,  0.9068]])"
      ]
     },
     "execution_count": 10,
     "metadata": {},
     "output_type": "execute_result"
    }
   ],
   "source": [
    "b.a"
   ]
  },
  {
   "cell_type": "code",
   "execution_count": 11,
   "id": "b785ab72",
   "metadata": {
    "execution": {
     "iopub.execute_input": "2023-03-06T18:10:00.171773Z",
     "iopub.status.busy": "2023-03-06T18:10:00.171444Z",
     "iopub.status.idle": "2023-03-06T18:10:04.766507Z",
     "shell.execute_reply": "2023-03-06T18:10:04.765758Z"
    }
   },
   "outputs": [
    {
     "name": "stdout",
     "output_type": "stream",
     "text": [
      "56.7 ns ± 0.013 ns per loop (mean ± std. dev. of 7 runs, 10,000,000 loops each)\n"
     ]
    }
   ],
   "source": [
    "%timeit b.a"
   ]
  },
  {
   "cell_type": "code",
   "execution_count": 12,
   "id": "ad54dc69",
   "metadata": {
    "execution": {
     "iopub.execute_input": "2023-03-06T18:10:04.769645Z",
     "iopub.status.busy": "2023-03-06T18:10:04.769267Z",
     "iopub.status.idle": "2023-03-06T18:10:04.775218Z",
     "shell.execute_reply": "2023-03-06T18:10:04.774574Z"
    }
   },
   "outputs": [
    {
     "data": {
      "text/plain": [
       "Batch(\n",
       "    a: tensor([[ 0.6971,  1.2187,  0.0995],\n",
       "               [ 1.2982,  0.4368, -0.9995]]),\n",
       "    x: Batch(\n",
       "           c: tensor([[-0.1628,  0.2781, -0.8571, -0.0814],\n",
       "                      [ 0.8241, -0.7503,  1.3152,  0.1934],\n",
       "                      [ 0.8663, -0.4170, -0.3685, -0.5202]]),\n",
       "       ),\n",
       ")"
      ]
     },
     "execution_count": 12,
     "metadata": {},
     "output_type": "execute_result"
    }
   ],
   "source": [
    "new_value = torch.randn(2, 3)\n",
    "b.a = new_value\n",
    "\n",
    "b"
   ]
  },
  {
   "cell_type": "code",
   "execution_count": 13,
   "id": "29b1d0bf",
   "metadata": {
    "execution": {
     "iopub.execute_input": "2023-03-06T18:10:04.778004Z",
     "iopub.status.busy": "2023-03-06T18:10:04.777383Z",
     "iopub.status.idle": "2023-03-06T18:10:08.703586Z",
     "shell.execute_reply": "2023-03-06T18:10:08.702781Z"
    }
   },
   "outputs": [
    {
     "name": "stdout",
     "output_type": "stream",
     "text": [
      "484 ns ± 0.14 ns per loop (mean ± std. dev. of 7 runs, 1,000,000 loops each)\n"
     ]
    }
   ],
   "source": [
    "%timeit b.a = new_value"
   ]
  },
  {
   "cell_type": "markdown",
   "id": "b61ad1d0",
   "metadata": {},
   "source": [
    "## Initialization"
   ]
  },
  {
   "cell_type": "markdown",
   "id": "d70f0d54",
   "metadata": {},
   "source": [
    "### TreeValue's Initialization"
   ]
  },
  {
   "cell_type": "code",
   "execution_count": 14,
   "id": "d32a679b",
   "metadata": {
    "execution": {
     "iopub.execute_input": "2023-03-06T18:10:08.706580Z",
     "iopub.status.busy": "2023-03-06T18:10:08.706024Z",
     "iopub.status.idle": "2023-03-06T18:10:15.505666Z",
     "shell.execute_reply": "2023-03-06T18:10:15.504949Z"
    }
   },
   "outputs": [
    {
     "name": "stdout",
     "output_type": "stream",
     "text": [
      "838 ns ± 0.0995 ns per loop (mean ± std. dev. of 7 runs, 1,000,000 loops each)\n"
     ]
    }
   ],
   "source": [
    "%timeit FastTreeValue(_TREE_DATA_1)"
   ]
  },
  {
   "cell_type": "markdown",
   "id": "24f3707b",
   "metadata": {},
   "source": [
    "### Tianshou Batch's Initialization"
   ]
  },
  {
   "cell_type": "code",
   "execution_count": 15,
   "id": "ac3958df",
   "metadata": {
    "execution": {
     "iopub.execute_input": "2023-03-06T18:10:15.508560Z",
     "iopub.status.busy": "2023-03-06T18:10:15.508117Z",
     "iopub.status.idle": "2023-03-06T18:10:24.886322Z",
     "shell.execute_reply": "2023-03-06T18:10:24.885602Z"
    }
   },
   "outputs": [
    {
     "name": "stdout",
     "output_type": "stream",
     "text": [
      "11.5 µs ± 10 ns per loop (mean ± std. dev. of 7 runs, 100,000 loops each)\n"
     ]
    }
   ],
   "source": [
    "%timeit Batch(**_TREE_DATA_1)"
   ]
  },
  {
   "cell_type": "markdown",
   "id": "1ab82e2d",
   "metadata": {},
   "source": [
    "## Deep Copy Operation"
   ]
  },
  {
   "cell_type": "code",
   "execution_count": 16,
   "id": "210a9442",
   "metadata": {
    "execution": {
     "iopub.execute_input": "2023-03-06T18:10:24.889523Z",
     "iopub.status.busy": "2023-03-06T18:10:24.889155Z",
     "iopub.status.idle": "2023-03-06T18:10:24.893249Z",
     "shell.execute_reply": "2023-03-06T18:10:24.892655Z"
    }
   },
   "outputs": [],
   "source": [
    "import copy"
   ]
  },
  {
   "cell_type": "markdown",
   "id": "5a736274",
   "metadata": {},
   "source": [
    "### Deep Copy of TreeValue"
   ]
  },
  {
   "cell_type": "code",
   "execution_count": 17,
   "id": "f9bcadd6",
   "metadata": {
    "execution": {
     "iopub.execute_input": "2023-03-06T18:10:24.896275Z",
     "iopub.status.busy": "2023-03-06T18:10:24.895717Z",
     "iopub.status.idle": "2023-03-06T18:10:36.005826Z",
     "shell.execute_reply": "2023-03-06T18:10:36.005245Z"
    }
   },
   "outputs": [
    {
     "name": "stdout",
     "output_type": "stream",
     "text": [
      "137 µs ± 1.88 µs per loop (mean ± std. dev. of 7 runs, 10,000 loops each)\n"
     ]
    }
   ],
   "source": [
    "t3 = FastTreeValue(_TREE_DATA_3)\n",
    "%timeit copy.deepcopy(t3)"
   ]
  },
  {
   "cell_type": "markdown",
   "id": "bf8be7ea",
   "metadata": {},
   "source": [
    "### Deep Copy of Tianshou Batch"
   ]
  },
  {
   "cell_type": "code",
   "execution_count": 18,
   "id": "91998e6f",
   "metadata": {
    "execution": {
     "iopub.execute_input": "2023-03-06T18:10:36.010102Z",
     "iopub.status.busy": "2023-03-06T18:10:36.009071Z",
     "iopub.status.idle": "2023-03-06T18:10:47.255151Z",
     "shell.execute_reply": "2023-03-06T18:10:47.254534Z"
    }
   },
   "outputs": [
    {
     "name": "stdout",
     "output_type": "stream",
     "text": [
      "139 µs ± 172 ns per loop (mean ± std. dev. of 7 runs, 10,000 loops each)\n"
     ]
    }
   ],
   "source": [
    "b3 = Batch(**_TREE_DATA_3)\n",
    "%timeit copy.deepcopy(b3)"
   ]
  },
  {
   "cell_type": "markdown",
   "id": "223162fb",
   "metadata": {},
   "source": [
    "## Stack, Concat and Split Operation"
   ]
  },
  {
   "cell_type": "markdown",
   "id": "85fa4a73",
   "metadata": {},
   "source": [
    "### Performance of TreeValue"
   ]
  },
  {
   "cell_type": "code",
   "execution_count": 19,
   "id": "a0c2b697",
   "metadata": {
    "execution": {
     "iopub.execute_input": "2023-03-06T18:10:47.259176Z",
     "iopub.status.busy": "2023-03-06T18:10:47.258170Z",
     "iopub.status.idle": "2023-03-06T18:10:47.262599Z",
     "shell.execute_reply": "2023-03-06T18:10:47.261999Z"
    }
   },
   "outputs": [],
   "source": [
    "trees = [FastTreeValue(_TREE_DATA_2) for _ in range(8)]"
   ]
  },
  {
   "cell_type": "code",
   "execution_count": 20,
   "id": "017ea5a5",
   "metadata": {
    "execution": {
     "iopub.execute_input": "2023-03-06T18:10:47.265262Z",
     "iopub.status.busy": "2023-03-06T18:10:47.264914Z",
     "iopub.status.idle": "2023-03-06T18:10:47.273209Z",
     "shell.execute_reply": "2023-03-06T18:10:47.272631Z"
    }
   },
   "outputs": [
    {
     "data": {
      "text/plain": [
       "<FastTreeValue 0x7fef89d92dc0>\n",
       "├── 'a' --> tensor([[[ 1.1538,  0.8675,  1.5108],\n",
       "│                    [-1.4594, -2.0900,  0.9068]],\n",
       "│           \n",
       "│                   [[ 1.1538,  0.8675,  1.5108],\n",
       "│                    [-1.4594, -2.0900,  0.9068]],\n",
       "│           \n",
       "│                   [[ 1.1538,  0.8675,  1.5108],\n",
       "│                    [-1.4594, -2.0900,  0.9068]],\n",
       "│           \n",
       "│                   [[ 1.1538,  0.8675,  1.5108],\n",
       "│                    [-1.4594, -2.0900,  0.9068]],\n",
       "│           \n",
       "│                   [[ 1.1538,  0.8675,  1.5108],\n",
       "│                    [-1.4594, -2.0900,  0.9068]],\n",
       "│           \n",
       "│                   [[ 1.1538,  0.8675,  1.5108],\n",
       "│                    [-1.4594, -2.0900,  0.9068]],\n",
       "│           \n",
       "│                   [[ 1.1538,  0.8675,  1.5108],\n",
       "│                    [-1.4594, -2.0900,  0.9068]],\n",
       "│           \n",
       "│                   [[ 1.1538,  0.8675,  1.5108],\n",
       "│                    [-1.4594, -2.0900,  0.9068]]])\n",
       "└── 'x' --> <FastTreeValue 0x7fef89d92a30>\n",
       "    └── 'c' --> tensor([[[-0.1628,  0.2781, -0.8571, -0.0814],\n",
       "                         [ 0.8241, -0.7503,  1.3152,  0.1934],\n",
       "                         [ 0.8663, -0.4170, -0.3685, -0.5202]],\n",
       "                \n",
       "                        [[-0.1628,  0.2781, -0.8571, -0.0814],\n",
       "                         [ 0.8241, -0.7503,  1.3152,  0.1934],\n",
       "                         [ 0.8663, -0.4170, -0.3685, -0.5202]],\n",
       "                \n",
       "                        [[-0.1628,  0.2781, -0.8571, -0.0814],\n",
       "                         [ 0.8241, -0.7503,  1.3152,  0.1934],\n",
       "                         [ 0.8663, -0.4170, -0.3685, -0.5202]],\n",
       "                \n",
       "                        [[-0.1628,  0.2781, -0.8571, -0.0814],\n",
       "                         [ 0.8241, -0.7503,  1.3152,  0.1934],\n",
       "                         [ 0.8663, -0.4170, -0.3685, -0.5202]],\n",
       "                \n",
       "                        [[-0.1628,  0.2781, -0.8571, -0.0814],\n",
       "                         [ 0.8241, -0.7503,  1.3152,  0.1934],\n",
       "                         [ 0.8663, -0.4170, -0.3685, -0.5202]],\n",
       "                \n",
       "                        [[-0.1628,  0.2781, -0.8571, -0.0814],\n",
       "                         [ 0.8241, -0.7503,  1.3152,  0.1934],\n",
       "                         [ 0.8663, -0.4170, -0.3685, -0.5202]],\n",
       "                \n",
       "                        [[-0.1628,  0.2781, -0.8571, -0.0814],\n",
       "                         [ 0.8241, -0.7503,  1.3152,  0.1934],\n",
       "                         [ 0.8663, -0.4170, -0.3685, -0.5202]],\n",
       "                \n",
       "                        [[-0.1628,  0.2781, -0.8571, -0.0814],\n",
       "                         [ 0.8241, -0.7503,  1.3152,  0.1934],\n",
       "                         [ 0.8663, -0.4170, -0.3685, -0.5202]]])"
      ]
     },
     "execution_count": 20,
     "metadata": {},
     "output_type": "execute_result"
    }
   ],
   "source": [
    "t_stack = FastTreeValue.func(subside=True)(torch.stack)\n",
    "\n",
    "t_stack(trees)"
   ]
  },
  {
   "cell_type": "code",
   "execution_count": 21,
   "id": "f8b3f415",
   "metadata": {
    "execution": {
     "iopub.execute_input": "2023-03-06T18:10:47.275618Z",
     "iopub.status.busy": "2023-03-06T18:10:47.275276Z",
     "iopub.status.idle": "2023-03-06T18:10:49.818749Z",
     "shell.execute_reply": "2023-03-06T18:10:49.818007Z"
    }
   },
   "outputs": [
    {
     "name": "stdout",
     "output_type": "stream",
     "text": [
      "31.3 µs ± 30.6 ns per loop (mean ± std. dev. of 7 runs, 10,000 loops each)\n"
     ]
    }
   ],
   "source": [
    "%timeit t_stack(trees)"
   ]
  },
  {
   "cell_type": "code",
   "execution_count": 22,
   "id": "94b56771",
   "metadata": {
    "execution": {
     "iopub.execute_input": "2023-03-06T18:10:49.822155Z",
     "iopub.status.busy": "2023-03-06T18:10:49.821568Z",
     "iopub.status.idle": "2023-03-06T18:10:49.829978Z",
     "shell.execute_reply": "2023-03-06T18:10:49.829367Z"
    }
   },
   "outputs": [
    {
     "data": {
      "text/plain": [
       "<FastTreeValue 0x7fef89d92280>\n",
       "├── 'a' --> tensor([[ 1.1538,  0.8675,  1.5108],\n",
       "│                   [-1.4594, -2.0900,  0.9068],\n",
       "│                   [ 1.1538,  0.8675,  1.5108],\n",
       "│                   [-1.4594, -2.0900,  0.9068],\n",
       "│                   [ 1.1538,  0.8675,  1.5108],\n",
       "│                   [-1.4594, -2.0900,  0.9068],\n",
       "│                   [ 1.1538,  0.8675,  1.5108],\n",
       "│                   [-1.4594, -2.0900,  0.9068],\n",
       "│                   [ 1.1538,  0.8675,  1.5108],\n",
       "│                   [-1.4594, -2.0900,  0.9068],\n",
       "│                   [ 1.1538,  0.8675,  1.5108],\n",
       "│                   [-1.4594, -2.0900,  0.9068],\n",
       "│                   [ 1.1538,  0.8675,  1.5108],\n",
       "│                   [-1.4594, -2.0900,  0.9068],\n",
       "│                   [ 1.1538,  0.8675,  1.5108],\n",
       "│                   [-1.4594, -2.0900,  0.9068]])\n",
       "└── 'x' --> <FastTreeValue 0x7fef89d92100>\n",
       "    └── 'c' --> tensor([[-0.1628,  0.2781, -0.8571, -0.0814],\n",
       "                        [ 0.8241, -0.7503,  1.3152,  0.1934],\n",
       "                        [ 0.8663, -0.4170, -0.3685, -0.5202],\n",
       "                        [-0.1628,  0.2781, -0.8571, -0.0814],\n",
       "                        [ 0.8241, -0.7503,  1.3152,  0.1934],\n",
       "                        [ 0.8663, -0.4170, -0.3685, -0.5202],\n",
       "                        [-0.1628,  0.2781, -0.8571, -0.0814],\n",
       "                        [ 0.8241, -0.7503,  1.3152,  0.1934],\n",
       "                        [ 0.8663, -0.4170, -0.3685, -0.5202],\n",
       "                        [-0.1628,  0.2781, -0.8571, -0.0814],\n",
       "                        [ 0.8241, -0.7503,  1.3152,  0.1934],\n",
       "                        [ 0.8663, -0.4170, -0.3685, -0.5202],\n",
       "                        [-0.1628,  0.2781, -0.8571, -0.0814],\n",
       "                        [ 0.8241, -0.7503,  1.3152,  0.1934],\n",
       "                        [ 0.8663, -0.4170, -0.3685, -0.5202],\n",
       "                        [-0.1628,  0.2781, -0.8571, -0.0814],\n",
       "                        [ 0.8241, -0.7503,  1.3152,  0.1934],\n",
       "                        [ 0.8663, -0.4170, -0.3685, -0.5202],\n",
       "                        [-0.1628,  0.2781, -0.8571, -0.0814],\n",
       "                        [ 0.8241, -0.7503,  1.3152,  0.1934],\n",
       "                        [ 0.8663, -0.4170, -0.3685, -0.5202],\n",
       "                        [-0.1628,  0.2781, -0.8571, -0.0814],\n",
       "                        [ 0.8241, -0.7503,  1.3152,  0.1934],\n",
       "                        [ 0.8663, -0.4170, -0.3685, -0.5202]])"
      ]
     },
     "execution_count": 22,
     "metadata": {},
     "output_type": "execute_result"
    }
   ],
   "source": [
    "t_cat = FastTreeValue.func(subside=True)(torch.cat)\n",
    "\n",
    "t_cat(trees)"
   ]
  },
  {
   "cell_type": "code",
   "execution_count": 23,
   "id": "5e9c06a6",
   "metadata": {
    "execution": {
     "iopub.execute_input": "2023-03-06T18:10:49.832714Z",
     "iopub.status.busy": "2023-03-06T18:10:49.832187Z",
     "iopub.status.idle": "2023-03-06T18:10:52.270124Z",
     "shell.execute_reply": "2023-03-06T18:10:52.269396Z"
    }
   },
   "outputs": [
    {
     "name": "stdout",
     "output_type": "stream",
     "text": [
      "30 µs ± 80.5 ns per loop (mean ± std. dev. of 7 runs, 10,000 loops each)\n"
     ]
    }
   ],
   "source": [
    "%timeit t_cat(trees)"
   ]
  },
  {
   "cell_type": "code",
   "execution_count": 24,
   "id": "a3ab5c8f",
   "metadata": {
    "execution": {
     "iopub.execute_input": "2023-03-06T18:10:52.272964Z",
     "iopub.status.busy": "2023-03-06T18:10:52.272603Z",
     "iopub.status.idle": "2023-03-06T18:10:57.114949Z",
     "shell.execute_reply": "2023-03-06T18:10:57.114231Z"
    }
   },
   "outputs": [
    {
     "name": "stdout",
     "output_type": "stream",
     "text": [
      "59.5 µs ± 87.2 ns per loop (mean ± std. dev. of 7 runs, 10,000 loops each)\n"
     ]
    }
   ],
   "source": [
    "t_split = FastTreeValue.func(rise=True)(torch.split)\n",
    "tree = FastTreeValue({\n",
    "    'obs': torch.randn(8, 4, 84, 84),\n",
    "    'action': torch.randint(0, 6, size=(8, 1,)),\n",
    "    'reward': torch.rand(8, 1),\n",
    "})\n",
    "\n",
    "%timeit t_split(tree, 1)"
   ]
  },
  {
   "cell_type": "markdown",
   "id": "31c3ec0b",
   "metadata": {},
   "source": [
    "### Performance of Tianshou Batch"
   ]
  },
  {
   "cell_type": "code",
   "execution_count": 25,
   "id": "9ead828a",
   "metadata": {
    "execution": {
     "iopub.execute_input": "2023-03-06T18:10:57.118066Z",
     "iopub.status.busy": "2023-03-06T18:10:57.117700Z",
     "iopub.status.idle": "2023-03-06T18:10:57.125634Z",
     "shell.execute_reply": "2023-03-06T18:10:57.125045Z"
    }
   },
   "outputs": [
    {
     "data": {
      "text/plain": [
       "Batch(\n",
       "    x: Batch(\n",
       "           c: tensor([[[-0.1628,  0.2781, -0.8571, -0.0814],\n",
       "                       [ 0.8241, -0.7503,  1.3152,  0.1934],\n",
       "                       [ 0.8663, -0.4170, -0.3685, -0.5202]],\n",
       "              \n",
       "                      [[-0.1628,  0.2781, -0.8571, -0.0814],\n",
       "                       [ 0.8241, -0.7503,  1.3152,  0.1934],\n",
       "                       [ 0.8663, -0.4170, -0.3685, -0.5202]],\n",
       "              \n",
       "                      [[-0.1628,  0.2781, -0.8571, -0.0814],\n",
       "                       [ 0.8241, -0.7503,  1.3152,  0.1934],\n",
       "                       [ 0.8663, -0.4170, -0.3685, -0.5202]],\n",
       "              \n",
       "                      [[-0.1628,  0.2781, -0.8571, -0.0814],\n",
       "                       [ 0.8241, -0.7503,  1.3152,  0.1934],\n",
       "                       [ 0.8663, -0.4170, -0.3685, -0.5202]],\n",
       "              \n",
       "                      [[-0.1628,  0.2781, -0.8571, -0.0814],\n",
       "                       [ 0.8241, -0.7503,  1.3152,  0.1934],\n",
       "                       [ 0.8663, -0.4170, -0.3685, -0.5202]],\n",
       "              \n",
       "                      [[-0.1628,  0.2781, -0.8571, -0.0814],\n",
       "                       [ 0.8241, -0.7503,  1.3152,  0.1934],\n",
       "                       [ 0.8663, -0.4170, -0.3685, -0.5202]],\n",
       "              \n",
       "                      [[-0.1628,  0.2781, -0.8571, -0.0814],\n",
       "                       [ 0.8241, -0.7503,  1.3152,  0.1934],\n",
       "                       [ 0.8663, -0.4170, -0.3685, -0.5202]],\n",
       "              \n",
       "                      [[-0.1628,  0.2781, -0.8571, -0.0814],\n",
       "                       [ 0.8241, -0.7503,  1.3152,  0.1934],\n",
       "                       [ 0.8663, -0.4170, -0.3685, -0.5202]]]),\n",
       "       ),\n",
       "    a: tensor([[[ 1.1538,  0.8675,  1.5108],\n",
       "                [-1.4594, -2.0900,  0.9068]],\n",
       "       \n",
       "               [[ 1.1538,  0.8675,  1.5108],\n",
       "                [-1.4594, -2.0900,  0.9068]],\n",
       "       \n",
       "               [[ 1.1538,  0.8675,  1.5108],\n",
       "                [-1.4594, -2.0900,  0.9068]],\n",
       "       \n",
       "               [[ 1.1538,  0.8675,  1.5108],\n",
       "                [-1.4594, -2.0900,  0.9068]],\n",
       "       \n",
       "               [[ 1.1538,  0.8675,  1.5108],\n",
       "                [-1.4594, -2.0900,  0.9068]],\n",
       "       \n",
       "               [[ 1.1538,  0.8675,  1.5108],\n",
       "                [-1.4594, -2.0900,  0.9068]],\n",
       "       \n",
       "               [[ 1.1538,  0.8675,  1.5108],\n",
       "                [-1.4594, -2.0900,  0.9068]],\n",
       "       \n",
       "               [[ 1.1538,  0.8675,  1.5108],\n",
       "                [-1.4594, -2.0900,  0.9068]]]),\n",
       ")"
      ]
     },
     "execution_count": 25,
     "metadata": {},
     "output_type": "execute_result"
    }
   ],
   "source": [
    "batches = [Batch(**_TREE_DATA_2) for _ in range(8)]\n",
    "\n",
    "Batch.stack(batches)"
   ]
  },
  {
   "cell_type": "code",
   "execution_count": 26,
   "id": "ec9037a3",
   "metadata": {
    "execution": {
     "iopub.execute_input": "2023-03-06T18:10:57.128139Z",
     "iopub.status.busy": "2023-03-06T18:10:57.127784Z",
     "iopub.status.idle": "2023-03-06T18:11:03.448456Z",
     "shell.execute_reply": "2023-03-06T18:11:03.447737Z"
    }
   },
   "outputs": [
    {
     "name": "stdout",
     "output_type": "stream",
     "text": [
      "77.7 µs ± 254 ns per loop (mean ± std. dev. of 7 runs, 10,000 loops each)\n"
     ]
    }
   ],
   "source": [
    "%timeit Batch.stack(batches)"
   ]
  },
  {
   "cell_type": "code",
   "execution_count": 27,
   "id": "cb8ab77e",
   "metadata": {
    "execution": {
     "iopub.execute_input": "2023-03-06T18:11:03.451229Z",
     "iopub.status.busy": "2023-03-06T18:11:03.450870Z",
     "iopub.status.idle": "2023-03-06T18:11:03.458357Z",
     "shell.execute_reply": "2023-03-06T18:11:03.457766Z"
    }
   },
   "outputs": [
    {
     "data": {
      "text/plain": [
       "Batch(\n",
       "    x: Batch(\n",
       "           c: tensor([[-0.1628,  0.2781, -0.8571, -0.0814],\n",
       "                      [ 0.8241, -0.7503,  1.3152,  0.1934],\n",
       "                      [ 0.8663, -0.4170, -0.3685, -0.5202],\n",
       "                      [-0.1628,  0.2781, -0.8571, -0.0814],\n",
       "                      [ 0.8241, -0.7503,  1.3152,  0.1934],\n",
       "                      [ 0.8663, -0.4170, -0.3685, -0.5202],\n",
       "                      [-0.1628,  0.2781, -0.8571, -0.0814],\n",
       "                      [ 0.8241, -0.7503,  1.3152,  0.1934],\n",
       "                      [ 0.8663, -0.4170, -0.3685, -0.5202],\n",
       "                      [-0.1628,  0.2781, -0.8571, -0.0814],\n",
       "                      [ 0.8241, -0.7503,  1.3152,  0.1934],\n",
       "                      [ 0.8663, -0.4170, -0.3685, -0.5202],\n",
       "                      [-0.1628,  0.2781, -0.8571, -0.0814],\n",
       "                      [ 0.8241, -0.7503,  1.3152,  0.1934],\n",
       "                      [ 0.8663, -0.4170, -0.3685, -0.5202],\n",
       "                      [-0.1628,  0.2781, -0.8571, -0.0814],\n",
       "                      [ 0.8241, -0.7503,  1.3152,  0.1934],\n",
       "                      [ 0.8663, -0.4170, -0.3685, -0.5202],\n",
       "                      [-0.1628,  0.2781, -0.8571, -0.0814],\n",
       "                      [ 0.8241, -0.7503,  1.3152,  0.1934],\n",
       "                      [ 0.8663, -0.4170, -0.3685, -0.5202],\n",
       "                      [-0.1628,  0.2781, -0.8571, -0.0814],\n",
       "                      [ 0.8241, -0.7503,  1.3152,  0.1934],\n",
       "                      [ 0.8663, -0.4170, -0.3685, -0.5202]]),\n",
       "       ),\n",
       "    a: tensor([[ 1.1538,  0.8675,  1.5108],\n",
       "               [-1.4594, -2.0900,  0.9068],\n",
       "               [ 1.1538,  0.8675,  1.5108],\n",
       "               [-1.4594, -2.0900,  0.9068],\n",
       "               [ 1.1538,  0.8675,  1.5108],\n",
       "               [-1.4594, -2.0900,  0.9068],\n",
       "               [ 1.1538,  0.8675,  1.5108],\n",
       "               [-1.4594, -2.0900,  0.9068],\n",
       "               [ 1.1538,  0.8675,  1.5108],\n",
       "               [-1.4594, -2.0900,  0.9068],\n",
       "               [ 1.1538,  0.8675,  1.5108],\n",
       "               [-1.4594, -2.0900,  0.9068],\n",
       "               [ 1.1538,  0.8675,  1.5108],\n",
       "               [-1.4594, -2.0900,  0.9068],\n",
       "               [ 1.1538,  0.8675,  1.5108],\n",
       "               [-1.4594, -2.0900,  0.9068]]),\n",
       ")"
      ]
     },
     "execution_count": 27,
     "metadata": {},
     "output_type": "execute_result"
    }
   ],
   "source": [
    "Batch.cat(batches)"
   ]
  },
  {
   "cell_type": "code",
   "execution_count": 28,
   "id": "18dfb045",
   "metadata": {
    "execution": {
     "iopub.execute_input": "2023-03-06T18:11:03.461518Z",
     "iopub.status.busy": "2023-03-06T18:11:03.460910Z",
     "iopub.status.idle": "2023-03-06T18:11:15.067598Z",
     "shell.execute_reply": "2023-03-06T18:11:15.066806Z"
    }
   },
   "outputs": [
    {
     "name": "stdout",
     "output_type": "stream",
     "text": [
      "143 µs ± 348 ns per loop (mean ± std. dev. of 7 runs, 10,000 loops each)\n"
     ]
    }
   ],
   "source": [
    "%timeit Batch.cat(batches)"
   ]
  },
  {
   "cell_type": "code",
   "execution_count": 29,
   "id": "c6688e51",
   "metadata": {
    "execution": {
     "iopub.execute_input": "2023-03-06T18:11:15.070668Z",
     "iopub.status.busy": "2023-03-06T18:11:15.070297Z",
     "iopub.status.idle": "2023-03-06T18:11:17.568960Z",
     "shell.execute_reply": "2023-03-06T18:11:17.568232Z"
    }
   },
   "outputs": [
    {
     "name": "stdout",
     "output_type": "stream",
     "text": [
      "307 µs ± 1.51 µs per loop (mean ± std. dev. of 7 runs, 1,000 loops each)\n"
     ]
    }
   ],
   "source": [
    "batch = Batch({\n",
    "    'obs': torch.randn(8, 4, 84, 84),\n",
    "    'action': torch.randint(0, 6, size=(8, 1,)),\n",
    "    'reward': torch.rand(8, 1)}\n",
    ")\n",
    "\n",
    "%timeit list(Batch.split(batch, 1, shuffle=False, merge_last=True))"
   ]
  },
  {
   "cell_type": "code",
   "execution_count": null,
   "id": "2539fbd9",
   "metadata": {},
   "outputs": [],
   "source": []
  }
 ],
 "metadata": {
  "kernelspec": {
   "display_name": "Python 3 (ipykernel)",
   "language": "python",
   "name": "python3"
  },
  "language_info": {
   "codemirror_mode": {
    "name": "ipython",
    "version": 3
   },
   "file_extension": ".py",
   "mimetype": "text/x-python",
   "name": "python",
   "nbconvert_exporter": "python",
   "pygments_lexer": "ipython3",
   "version": "3.8.16"
  }
 },
 "nbformat": 4,
 "nbformat_minor": 5
}
