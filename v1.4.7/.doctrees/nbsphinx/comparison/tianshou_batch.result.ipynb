{
 "cells": [
  {
   "cell_type": "markdown",
   "id": "9d39d946",
   "metadata": {},
   "source": [
    "# Comparison Between TreeValue and Tianshou Batch"
   ]
  },
  {
   "cell_type": "markdown",
   "id": "3c6db2d4",
   "metadata": {},
   "source": [
    "In this section, we will take a look at the feature and performance of the [Tianshou Batch](https://github.com/thu-ml/tianshou) library, which is developed by Tsinghua Machine Learning Group."
   ]
  },
  {
   "cell_type": "markdown",
   "id": "069361b0",
   "metadata": {},
   "source": [
    "Before starting the comparison, let us define some thing."
   ]
  },
  {
   "cell_type": "code",
   "execution_count": 1,
   "id": "06fc8d26",
   "metadata": {
    "execution": {
     "iopub.execute_input": "2023-03-05T08:27:26.364586Z",
     "iopub.status.busy": "2023-03-05T08:27:26.364311Z",
     "iopub.status.idle": "2023-03-05T08:27:27.386443Z",
     "shell.execute_reply": "2023-03-05T08:27:27.385633Z"
    }
   },
   "outputs": [
    {
     "name": "stderr",
     "output_type": "stream",
     "text": [
      "/opt/hostedtoolcache/Python/3.8.16/x64/lib/python3.8/site-packages/tqdm/auto.py:21: TqdmWarning: IProgress not found. Please update jupyter and ipywidgets. See https://ipywidgets.readthedocs.io/en/stable/user_install.html\n",
      "  from .autonotebook import tqdm as notebook_tqdm\n"
     ]
    }
   ],
   "source": [
    "import torch \n",
    "\n",
    "_TREE_DATA_1 = {'a': 1, 'b': 2, 'x': {'c': 3, 'd': 4}}\n",
    "_TREE_DATA_2 = {\n",
    "    'a': torch.randn(2, 3), \n",
    "    'x': {\n",
    "        'c': torch.randn(3, 4)\n",
    "    },\n",
    "}\n",
    "_TREE_DATA_3 = {\n",
    "    'obs': torch.randn(4, 84, 84),\n",
    "    'action': torch.randint(0, 6, size=(1,)),\n",
    "    'reward': torch.rand(1),\n",
    "}"
   ]
  },
  {
   "cell_type": "markdown",
   "id": "83461b25",
   "metadata": {},
   "source": [
    "## Read and Write Operation"
   ]
  },
  {
   "cell_type": "markdown",
   "id": "067b3f73",
   "metadata": {},
   "source": [
    "Reading and writing are the two most common operations in the tree data structure based on the data model (TreeValue and Tianshou Batch both belong to this type), so this section will compare the reading and writing performance of these two libraries."
   ]
  },
  {
   "cell_type": "markdown",
   "id": "5d09a5b7",
   "metadata": {},
   "source": [
    "### TreeValue's Get and Set"
   ]
  },
  {
   "cell_type": "code",
   "execution_count": 2,
   "id": "9519c4bb",
   "metadata": {
    "execution": {
     "iopub.execute_input": "2023-03-05T08:27:27.390934Z",
     "iopub.status.busy": "2023-03-05T08:27:27.390220Z",
     "iopub.status.idle": "2023-03-05T08:27:27.690476Z",
     "shell.execute_reply": "2023-03-05T08:27:27.689690Z"
    }
   },
   "outputs": [],
   "source": [
    "from treevalue import FastTreeValue\n",
    "\n",
    "t = FastTreeValue(_TREE_DATA_2)"
   ]
  },
  {
   "cell_type": "code",
   "execution_count": 3,
   "id": "11c37677",
   "metadata": {
    "execution": {
     "iopub.execute_input": "2023-03-05T08:27:27.694759Z",
     "iopub.status.busy": "2023-03-05T08:27:27.694073Z",
     "iopub.status.idle": "2023-03-05T08:27:27.705772Z",
     "shell.execute_reply": "2023-03-05T08:27:27.705154Z"
    }
   },
   "outputs": [
    {
     "data": {
      "text/plain": [
       "<FastTreeValue 0x7fe1bcc17fa0>\n",
       "├── 'a' --> tensor([[ 2.3326,  1.6389,  2.0654],\n",
       "│                   [-0.3836, -0.7664,  0.3492]])\n",
       "└── 'x' --> <FastTreeValue 0x7fe1bcc17dc0>\n",
       "    └── 'c' --> tensor([[-0.8663, -1.0136, -1.3421, -0.7492],\n",
       "                        [ 0.0094,  1.2175, -0.5333, -0.3621],\n",
       "                        [ 0.3999, -0.9843,  0.5236, -0.5714]])"
      ]
     },
     "execution_count": 3,
     "metadata": {},
     "output_type": "execute_result"
    }
   ],
   "source": [
    "t"
   ]
  },
  {
   "cell_type": "code",
   "execution_count": 4,
   "id": "fd70b0b9",
   "metadata": {
    "execution": {
     "iopub.execute_input": "2023-03-05T08:27:27.708945Z",
     "iopub.status.busy": "2023-03-05T08:27:27.708382Z",
     "iopub.status.idle": "2023-03-05T08:27:27.714836Z",
     "shell.execute_reply": "2023-03-05T08:27:27.714225Z"
    }
   },
   "outputs": [
    {
     "data": {
      "text/plain": [
       "tensor([[ 2.3326,  1.6389,  2.0654],\n",
       "        [-0.3836, -0.7664,  0.3492]])"
      ]
     },
     "execution_count": 4,
     "metadata": {},
     "output_type": "execute_result"
    }
   ],
   "source": [
    "t.a"
   ]
  },
  {
   "cell_type": "code",
   "execution_count": 5,
   "id": "c18197bd",
   "metadata": {
    "execution": {
     "iopub.execute_input": "2023-03-05T08:27:27.717739Z",
     "iopub.status.busy": "2023-03-05T08:27:27.717191Z",
     "iopub.status.idle": "2023-03-05T08:27:33.082913Z",
     "shell.execute_reply": "2023-03-05T08:27:33.081991Z"
    }
   },
   "outputs": [
    {
     "name": "stdout",
     "output_type": "stream",
     "text": [
      "66.4 ns ± 0.0106 ns per loop (mean ± std. dev. of 7 runs, 10,000,000 loops each)\n"
     ]
    }
   ],
   "source": [
    "%timeit t.a"
   ]
  },
  {
   "cell_type": "code",
   "execution_count": 6,
   "id": "bd52f867",
   "metadata": {
    "execution": {
     "iopub.execute_input": "2023-03-05T08:27:33.086704Z",
     "iopub.status.busy": "2023-03-05T08:27:33.086029Z",
     "iopub.status.idle": "2023-03-05T08:27:33.094951Z",
     "shell.execute_reply": "2023-03-05T08:27:33.094305Z"
    }
   },
   "outputs": [
    {
     "data": {
      "text/plain": [
       "<FastTreeValue 0x7fe1bcc17fa0>\n",
       "├── 'a' --> tensor([[-0.8449, -1.5767, -0.7022],\n",
       "│                   [ 0.2507,  0.1502,  0.9692]])\n",
       "└── 'x' --> <FastTreeValue 0x7fe1bcc17dc0>\n",
       "    └── 'c' --> tensor([[-0.8663, -1.0136, -1.3421, -0.7492],\n",
       "                        [ 0.0094,  1.2175, -0.5333, -0.3621],\n",
       "                        [ 0.3999, -0.9843,  0.5236, -0.5714]])"
      ]
     },
     "execution_count": 6,
     "metadata": {},
     "output_type": "execute_result"
    }
   ],
   "source": [
    "new_value = torch.randn(2, 3)\n",
    "t.a = new_value\n",
    "\n",
    "t"
   ]
  },
  {
   "cell_type": "code",
   "execution_count": 7,
   "id": "bbe04d1c",
   "metadata": {
    "execution": {
     "iopub.execute_input": "2023-03-05T08:27:33.098212Z",
     "iopub.status.busy": "2023-03-05T08:27:33.097604Z",
     "iopub.status.idle": "2023-03-05T08:27:38.872581Z",
     "shell.execute_reply": "2023-03-05T08:27:38.871684Z"
    }
   },
   "outputs": [
    {
     "name": "stdout",
     "output_type": "stream",
     "text": [
      "71.1 ns ± 0.0366 ns per loop (mean ± std. dev. of 7 runs, 10,000,000 loops each)\n"
     ]
    }
   ],
   "source": [
    "%timeit t.a = new_value"
   ]
  },
  {
   "cell_type": "markdown",
   "id": "48c49731",
   "metadata": {},
   "source": [
    "### Tianshou Batch's Get and Set"
   ]
  },
  {
   "cell_type": "code",
   "execution_count": 8,
   "id": "f1bb14c1",
   "metadata": {
    "execution": {
     "iopub.execute_input": "2023-03-05T08:27:38.876158Z",
     "iopub.status.busy": "2023-03-05T08:27:38.875600Z",
     "iopub.status.idle": "2023-03-05T08:27:39.255133Z",
     "shell.execute_reply": "2023-03-05T08:27:39.254310Z"
    }
   },
   "outputs": [],
   "source": [
    "from tianshou.data import Batch\n",
    "\n",
    "b = Batch(**_TREE_DATA_2)"
   ]
  },
  {
   "cell_type": "code",
   "execution_count": 9,
   "id": "cb0777c3",
   "metadata": {
    "execution": {
     "iopub.execute_input": "2023-03-05T08:27:39.259307Z",
     "iopub.status.busy": "2023-03-05T08:27:39.258551Z",
     "iopub.status.idle": "2023-03-05T08:27:39.266344Z",
     "shell.execute_reply": "2023-03-05T08:27:39.265745Z"
    }
   },
   "outputs": [
    {
     "data": {
      "text/plain": [
       "Batch(\n",
       "    a: tensor([[ 2.3326,  1.6389,  2.0654],\n",
       "               [-0.3836, -0.7664,  0.3492]]),\n",
       "    x: Batch(\n",
       "           c: tensor([[-0.8663, -1.0136, -1.3421, -0.7492],\n",
       "                      [ 0.0094,  1.2175, -0.5333, -0.3621],\n",
       "                      [ 0.3999, -0.9843,  0.5236, -0.5714]]),\n",
       "       ),\n",
       ")"
      ]
     },
     "execution_count": 9,
     "metadata": {},
     "output_type": "execute_result"
    }
   ],
   "source": [
    "b"
   ]
  },
  {
   "cell_type": "code",
   "execution_count": 10,
   "id": "43ef8ea3",
   "metadata": {
    "execution": {
     "iopub.execute_input": "2023-03-05T08:27:39.269400Z",
     "iopub.status.busy": "2023-03-05T08:27:39.268905Z",
     "iopub.status.idle": "2023-03-05T08:27:39.275393Z",
     "shell.execute_reply": "2023-03-05T08:27:39.274790Z"
    }
   },
   "outputs": [
    {
     "data": {
      "text/plain": [
       "tensor([[ 2.3326,  1.6389,  2.0654],\n",
       "        [-0.3836, -0.7664,  0.3492]])"
      ]
     },
     "execution_count": 10,
     "metadata": {},
     "output_type": "execute_result"
    }
   ],
   "source": [
    "b.a"
   ]
  },
  {
   "cell_type": "code",
   "execution_count": 11,
   "id": "b785ab72",
   "metadata": {
    "execution": {
     "iopub.execute_input": "2023-03-05T08:27:39.278173Z",
     "iopub.status.busy": "2023-03-05T08:27:39.277636Z",
     "iopub.status.idle": "2023-03-05T08:27:44.229450Z",
     "shell.execute_reply": "2023-03-05T08:27:44.228606Z"
    }
   },
   "outputs": [
    {
     "name": "stdout",
     "output_type": "stream",
     "text": [
      "60.9 ns ± 0.0695 ns per loop (mean ± std. dev. of 7 runs, 10,000,000 loops each)\n"
     ]
    }
   ],
   "source": [
    "%timeit b.a"
   ]
  },
  {
   "cell_type": "code",
   "execution_count": 12,
   "id": "ad54dc69",
   "metadata": {
    "execution": {
     "iopub.execute_input": "2023-03-05T08:27:44.233341Z",
     "iopub.status.busy": "2023-03-05T08:27:44.232711Z",
     "iopub.status.idle": "2023-03-05T08:27:44.239074Z",
     "shell.execute_reply": "2023-03-05T08:27:44.238396Z"
    }
   },
   "outputs": [
    {
     "data": {
      "text/plain": [
       "Batch(\n",
       "    a: tensor([[ 0.6645, -1.1029,  0.8463],\n",
       "               [ 0.5755, -0.0129, -0.5367]]),\n",
       "    x: Batch(\n",
       "           c: tensor([[-0.8663, -1.0136, -1.3421, -0.7492],\n",
       "                      [ 0.0094,  1.2175, -0.5333, -0.3621],\n",
       "                      [ 0.3999, -0.9843,  0.5236, -0.5714]]),\n",
       "       ),\n",
       ")"
      ]
     },
     "execution_count": 12,
     "metadata": {},
     "output_type": "execute_result"
    }
   ],
   "source": [
    "new_value = torch.randn(2, 3)\n",
    "b.a = new_value\n",
    "\n",
    "b"
   ]
  },
  {
   "cell_type": "code",
   "execution_count": 13,
   "id": "29b1d0bf",
   "metadata": {
    "execution": {
     "iopub.execute_input": "2023-03-05T08:27:44.242007Z",
     "iopub.status.busy": "2023-03-05T08:27:44.241637Z",
     "iopub.status.idle": "2023-03-05T08:27:48.279319Z",
     "shell.execute_reply": "2023-03-05T08:27:48.278552Z"
    }
   },
   "outputs": [
    {
     "name": "stdout",
     "output_type": "stream",
     "text": [
      "496 ns ± 0.149 ns per loop (mean ± std. dev. of 7 runs, 1,000,000 loops each)\n"
     ]
    }
   ],
   "source": [
    "%timeit b.a = new_value"
   ]
  },
  {
   "cell_type": "markdown",
   "id": "b61ad1d0",
   "metadata": {},
   "source": [
    "## Initialization"
   ]
  },
  {
   "cell_type": "markdown",
   "id": "d70f0d54",
   "metadata": {},
   "source": [
    "### TreeValue's Initialization"
   ]
  },
  {
   "cell_type": "code",
   "execution_count": 14,
   "id": "d32a679b",
   "metadata": {
    "execution": {
     "iopub.execute_input": "2023-03-05T08:27:48.282899Z",
     "iopub.status.busy": "2023-03-05T08:27:48.282472Z",
     "iopub.status.idle": "2023-03-05T08:27:54.999018Z",
     "shell.execute_reply": "2023-03-05T08:27:54.998120Z"
    }
   },
   "outputs": [
    {
     "name": "stdout",
     "output_type": "stream",
     "text": [
      "827 ns ± 0.648 ns per loop (mean ± std. dev. of 7 runs, 1,000,000 loops each)\n"
     ]
    }
   ],
   "source": [
    "%timeit FastTreeValue(_TREE_DATA_1)"
   ]
  },
  {
   "cell_type": "markdown",
   "id": "24f3707b",
   "metadata": {},
   "source": [
    "### Tianshou Batch's Initialization"
   ]
  },
  {
   "cell_type": "code",
   "execution_count": 15,
   "id": "ac3958df",
   "metadata": {
    "execution": {
     "iopub.execute_input": "2023-03-05T08:27:55.002745Z",
     "iopub.status.busy": "2023-03-05T08:27:55.002154Z",
     "iopub.status.idle": "2023-03-05T08:28:03.855009Z",
     "shell.execute_reply": "2023-03-05T08:28:03.854098Z"
    }
   },
   "outputs": [
    {
     "name": "stdout",
     "output_type": "stream",
     "text": [
      "10.9 µs ± 13.9 ns per loop (mean ± std. dev. of 7 runs, 100,000 loops each)\n"
     ]
    }
   ],
   "source": [
    "%timeit Batch(**_TREE_DATA_1)"
   ]
  },
  {
   "cell_type": "markdown",
   "id": "1ab82e2d",
   "metadata": {},
   "source": [
    "## Deep Copy Operation"
   ]
  },
  {
   "cell_type": "code",
   "execution_count": 16,
   "id": "210a9442",
   "metadata": {
    "execution": {
     "iopub.execute_input": "2023-03-05T08:28:03.858511Z",
     "iopub.status.busy": "2023-03-05T08:28:03.857976Z",
     "iopub.status.idle": "2023-03-05T08:28:03.861492Z",
     "shell.execute_reply": "2023-03-05T08:28:03.860753Z"
    }
   },
   "outputs": [],
   "source": [
    "import copy"
   ]
  },
  {
   "cell_type": "markdown",
   "id": "5a736274",
   "metadata": {},
   "source": [
    "### Deep Copy of TreeValue"
   ]
  },
  {
   "cell_type": "code",
   "execution_count": 17,
   "id": "f9bcadd6",
   "metadata": {
    "execution": {
     "iopub.execute_input": "2023-03-05T08:28:03.864503Z",
     "iopub.status.busy": "2023-03-05T08:28:03.864096Z",
     "iopub.status.idle": "2023-03-05T08:28:15.361984Z",
     "shell.execute_reply": "2023-03-05T08:28:15.361158Z"
    }
   },
   "outputs": [
    {
     "name": "stdout",
     "output_type": "stream",
     "text": [
      "141 µs ± 499 ns per loop (mean ± std. dev. of 7 runs, 10,000 loops each)\n"
     ]
    }
   ],
   "source": [
    "t3 = FastTreeValue(_TREE_DATA_3)\n",
    "%timeit copy.deepcopy(t3)"
   ]
  },
  {
   "cell_type": "markdown",
   "id": "bf8be7ea",
   "metadata": {},
   "source": [
    "### Deep Copy of Tianshou Batch"
   ]
  },
  {
   "cell_type": "code",
   "execution_count": 18,
   "id": "91998e6f",
   "metadata": {
    "execution": {
     "iopub.execute_input": "2023-03-05T08:28:15.365389Z",
     "iopub.status.busy": "2023-03-05T08:28:15.365130Z",
     "iopub.status.idle": "2023-03-05T08:28:26.681277Z",
     "shell.execute_reply": "2023-03-05T08:28:26.680630Z"
    }
   },
   "outputs": [
    {
     "name": "stdout",
     "output_type": "stream",
     "text": [
      "139 µs ± 431 ns per loop (mean ± std. dev. of 7 runs, 10,000 loops each)\n"
     ]
    }
   ],
   "source": [
    "b3 = Batch(**_TREE_DATA_3)\n",
    "%timeit copy.deepcopy(b3)"
   ]
  },
  {
   "cell_type": "markdown",
   "id": "223162fb",
   "metadata": {},
   "source": [
    "## Stack, Concat and Split Operation"
   ]
  },
  {
   "cell_type": "markdown",
   "id": "85fa4a73",
   "metadata": {},
   "source": [
    "### Performance of TreeValue"
   ]
  },
  {
   "cell_type": "code",
   "execution_count": 19,
   "id": "a0c2b697",
   "metadata": {
    "execution": {
     "iopub.execute_input": "2023-03-05T08:28:26.684467Z",
     "iopub.status.busy": "2023-03-05T08:28:26.683998Z",
     "iopub.status.idle": "2023-03-05T08:28:26.687384Z",
     "shell.execute_reply": "2023-03-05T08:28:26.686831Z"
    }
   },
   "outputs": [],
   "source": [
    "trees = [FastTreeValue(_TREE_DATA_2) for _ in range(8)]"
   ]
  },
  {
   "cell_type": "code",
   "execution_count": 20,
   "id": "017ea5a5",
   "metadata": {
    "execution": {
     "iopub.execute_input": "2023-03-05T08:28:26.689921Z",
     "iopub.status.busy": "2023-03-05T08:28:26.689460Z",
     "iopub.status.idle": "2023-03-05T08:28:26.696889Z",
     "shell.execute_reply": "2023-03-05T08:28:26.696224Z"
    }
   },
   "outputs": [
    {
     "data": {
      "text/plain": [
       "<FastTreeValue 0x7fe10eb2c310>\n",
       "├── 'a' --> tensor([[[ 2.3326,  1.6389,  2.0654],\n",
       "│                    [-0.3836, -0.7664,  0.3492]],\n",
       "│           \n",
       "│                   [[ 2.3326,  1.6389,  2.0654],\n",
       "│                    [-0.3836, -0.7664,  0.3492]],\n",
       "│           \n",
       "│                   [[ 2.3326,  1.6389,  2.0654],\n",
       "│                    [-0.3836, -0.7664,  0.3492]],\n",
       "│           \n",
       "│                   [[ 2.3326,  1.6389,  2.0654],\n",
       "│                    [-0.3836, -0.7664,  0.3492]],\n",
       "│           \n",
       "│                   [[ 2.3326,  1.6389,  2.0654],\n",
       "│                    [-0.3836, -0.7664,  0.3492]],\n",
       "│           \n",
       "│                   [[ 2.3326,  1.6389,  2.0654],\n",
       "│                    [-0.3836, -0.7664,  0.3492]],\n",
       "│           \n",
       "│                   [[ 2.3326,  1.6389,  2.0654],\n",
       "│                    [-0.3836, -0.7664,  0.3492]],\n",
       "│           \n",
       "│                   [[ 2.3326,  1.6389,  2.0654],\n",
       "│                    [-0.3836, -0.7664,  0.3492]]])\n",
       "└── 'x' --> <FastTreeValue 0x7fe107eb8f10>\n",
       "    └── 'c' --> tensor([[[-0.8663, -1.0136, -1.3421, -0.7492],\n",
       "                         [ 0.0094,  1.2175, -0.5333, -0.3621],\n",
       "                         [ 0.3999, -0.9843,  0.5236, -0.5714]],\n",
       "                \n",
       "                        [[-0.8663, -1.0136, -1.3421, -0.7492],\n",
       "                         [ 0.0094,  1.2175, -0.5333, -0.3621],\n",
       "                         [ 0.3999, -0.9843,  0.5236, -0.5714]],\n",
       "                \n",
       "                        [[-0.8663, -1.0136, -1.3421, -0.7492],\n",
       "                         [ 0.0094,  1.2175, -0.5333, -0.3621],\n",
       "                         [ 0.3999, -0.9843,  0.5236, -0.5714]],\n",
       "                \n",
       "                        [[-0.8663, -1.0136, -1.3421, -0.7492],\n",
       "                         [ 0.0094,  1.2175, -0.5333, -0.3621],\n",
       "                         [ 0.3999, -0.9843,  0.5236, -0.5714]],\n",
       "                \n",
       "                        [[-0.8663, -1.0136, -1.3421, -0.7492],\n",
       "                         [ 0.0094,  1.2175, -0.5333, -0.3621],\n",
       "                         [ 0.3999, -0.9843,  0.5236, -0.5714]],\n",
       "                \n",
       "                        [[-0.8663, -1.0136, -1.3421, -0.7492],\n",
       "                         [ 0.0094,  1.2175, -0.5333, -0.3621],\n",
       "                         [ 0.3999, -0.9843,  0.5236, -0.5714]],\n",
       "                \n",
       "                        [[-0.8663, -1.0136, -1.3421, -0.7492],\n",
       "                         [ 0.0094,  1.2175, -0.5333, -0.3621],\n",
       "                         [ 0.3999, -0.9843,  0.5236, -0.5714]],\n",
       "                \n",
       "                        [[-0.8663, -1.0136, -1.3421, -0.7492],\n",
       "                         [ 0.0094,  1.2175, -0.5333, -0.3621],\n",
       "                         [ 0.3999, -0.9843,  0.5236, -0.5714]]])"
      ]
     },
     "execution_count": 20,
     "metadata": {},
     "output_type": "execute_result"
    }
   ],
   "source": [
    "t_stack = FastTreeValue.func(subside=True)(torch.stack)\n",
    "\n",
    "t_stack(trees)"
   ]
  },
  {
   "cell_type": "code",
   "execution_count": 21,
   "id": "f8b3f415",
   "metadata": {
    "execution": {
     "iopub.execute_input": "2023-03-05T08:28:26.699363Z",
     "iopub.status.busy": "2023-03-05T08:28:26.699008Z",
     "iopub.status.idle": "2023-03-05T08:28:29.372828Z",
     "shell.execute_reply": "2023-03-05T08:28:29.371936Z"
    }
   },
   "outputs": [
    {
     "name": "stdout",
     "output_type": "stream",
     "text": [
      "32.9 µs ± 41.2 ns per loop (mean ± std. dev. of 7 runs, 10,000 loops each)\n"
     ]
    }
   ],
   "source": [
    "%timeit t_stack(trees)"
   ]
  },
  {
   "cell_type": "code",
   "execution_count": 22,
   "id": "94b56771",
   "metadata": {
    "execution": {
     "iopub.execute_input": "2023-03-05T08:28:29.376316Z",
     "iopub.status.busy": "2023-03-05T08:28:29.375890Z",
     "iopub.status.idle": "2023-03-05T08:28:29.383864Z",
     "shell.execute_reply": "2023-03-05T08:28:29.383129Z"
    }
   },
   "outputs": [
    {
     "data": {
      "text/plain": [
       "<FastTreeValue 0x7fe107e9ba30>\n",
       "├── 'a' --> tensor([[ 2.3326,  1.6389,  2.0654],\n",
       "│                   [-0.3836, -0.7664,  0.3492],\n",
       "│                   [ 2.3326,  1.6389,  2.0654],\n",
       "│                   [-0.3836, -0.7664,  0.3492],\n",
       "│                   [ 2.3326,  1.6389,  2.0654],\n",
       "│                   [-0.3836, -0.7664,  0.3492],\n",
       "│                   [ 2.3326,  1.6389,  2.0654],\n",
       "│                   [-0.3836, -0.7664,  0.3492],\n",
       "│                   [ 2.3326,  1.6389,  2.0654],\n",
       "│                   [-0.3836, -0.7664,  0.3492],\n",
       "│                   [ 2.3326,  1.6389,  2.0654],\n",
       "│                   [-0.3836, -0.7664,  0.3492],\n",
       "│                   [ 2.3326,  1.6389,  2.0654],\n",
       "│                   [-0.3836, -0.7664,  0.3492],\n",
       "│                   [ 2.3326,  1.6389,  2.0654],\n",
       "│                   [-0.3836, -0.7664,  0.3492]])\n",
       "└── 'x' --> <FastTreeValue 0x7fe107e9b820>\n",
       "    └── 'c' --> tensor([[-0.8663, -1.0136, -1.3421, -0.7492],\n",
       "                        [ 0.0094,  1.2175, -0.5333, -0.3621],\n",
       "                        [ 0.3999, -0.9843,  0.5236, -0.5714],\n",
       "                        [-0.8663, -1.0136, -1.3421, -0.7492],\n",
       "                        [ 0.0094,  1.2175, -0.5333, -0.3621],\n",
       "                        [ 0.3999, -0.9843,  0.5236, -0.5714],\n",
       "                        [-0.8663, -1.0136, -1.3421, -0.7492],\n",
       "                        [ 0.0094,  1.2175, -0.5333, -0.3621],\n",
       "                        [ 0.3999, -0.9843,  0.5236, -0.5714],\n",
       "                        [-0.8663, -1.0136, -1.3421, -0.7492],\n",
       "                        [ 0.0094,  1.2175, -0.5333, -0.3621],\n",
       "                        [ 0.3999, -0.9843,  0.5236, -0.5714],\n",
       "                        [-0.8663, -1.0136, -1.3421, -0.7492],\n",
       "                        [ 0.0094,  1.2175, -0.5333, -0.3621],\n",
       "                        [ 0.3999, -0.9843,  0.5236, -0.5714],\n",
       "                        [-0.8663, -1.0136, -1.3421, -0.7492],\n",
       "                        [ 0.0094,  1.2175, -0.5333, -0.3621],\n",
       "                        [ 0.3999, -0.9843,  0.5236, -0.5714],\n",
       "                        [-0.8663, -1.0136, -1.3421, -0.7492],\n",
       "                        [ 0.0094,  1.2175, -0.5333, -0.3621],\n",
       "                        [ 0.3999, -0.9843,  0.5236, -0.5714],\n",
       "                        [-0.8663, -1.0136, -1.3421, -0.7492],\n",
       "                        [ 0.0094,  1.2175, -0.5333, -0.3621],\n",
       "                        [ 0.3999, -0.9843,  0.5236, -0.5714]])"
      ]
     },
     "execution_count": 22,
     "metadata": {},
     "output_type": "execute_result"
    }
   ],
   "source": [
    "t_cat = FastTreeValue.func(subside=True)(torch.cat)\n",
    "\n",
    "t_cat(trees)"
   ]
  },
  {
   "cell_type": "code",
   "execution_count": 23,
   "id": "5e9c06a6",
   "metadata": {
    "execution": {
     "iopub.execute_input": "2023-03-05T08:28:29.386820Z",
     "iopub.status.busy": "2023-03-05T08:28:29.386440Z",
     "iopub.status.idle": "2023-03-05T08:28:31.888297Z",
     "shell.execute_reply": "2023-03-05T08:28:31.887616Z"
    }
   },
   "outputs": [
    {
     "name": "stdout",
     "output_type": "stream",
     "text": [
      "30.8 µs ± 66.5 ns per loop (mean ± std. dev. of 7 runs, 10,000 loops each)\n"
     ]
    }
   ],
   "source": [
    "%timeit t_cat(trees)"
   ]
  },
  {
   "cell_type": "code",
   "execution_count": 24,
   "id": "a3ab5c8f",
   "metadata": {
    "execution": {
     "iopub.execute_input": "2023-03-05T08:28:31.891686Z",
     "iopub.status.busy": "2023-03-05T08:28:31.891437Z",
     "iopub.status.idle": "2023-03-05T08:28:36.497996Z",
     "shell.execute_reply": "2023-03-05T08:28:36.497124Z"
    }
   },
   "outputs": [
    {
     "name": "stdout",
     "output_type": "stream",
     "text": [
      "56.7 µs ± 459 ns per loop (mean ± std. dev. of 7 runs, 10,000 loops each)\n"
     ]
    }
   ],
   "source": [
    "t_split = FastTreeValue.func(rise=True)(torch.split)\n",
    "tree = FastTreeValue({\n",
    "    'obs': torch.randn(8, 4, 84, 84),\n",
    "    'action': torch.randint(0, 6, size=(8, 1,)),\n",
    "    'reward': torch.rand(8, 1),\n",
    "})\n",
    "\n",
    "%timeit t_split(tree, 1)"
   ]
  },
  {
   "cell_type": "markdown",
   "id": "31c3ec0b",
   "metadata": {},
   "source": [
    "### Performance of Tianshou Batch"
   ]
  },
  {
   "cell_type": "code",
   "execution_count": 25,
   "id": "9ead828a",
   "metadata": {
    "execution": {
     "iopub.execute_input": "2023-03-05T08:28:36.501917Z",
     "iopub.status.busy": "2023-03-05T08:28:36.501471Z",
     "iopub.status.idle": "2023-03-05T08:28:36.511378Z",
     "shell.execute_reply": "2023-03-05T08:28:36.510717Z"
    }
   },
   "outputs": [
    {
     "data": {
      "text/plain": [
       "Batch(\n",
       "    x: Batch(\n",
       "           c: tensor([[[-0.8663, -1.0136, -1.3421, -0.7492],\n",
       "                       [ 0.0094,  1.2175, -0.5333, -0.3621],\n",
       "                       [ 0.3999, -0.9843,  0.5236, -0.5714]],\n",
       "              \n",
       "                      [[-0.8663, -1.0136, -1.3421, -0.7492],\n",
       "                       [ 0.0094,  1.2175, -0.5333, -0.3621],\n",
       "                       [ 0.3999, -0.9843,  0.5236, -0.5714]],\n",
       "              \n",
       "                      [[-0.8663, -1.0136, -1.3421, -0.7492],\n",
       "                       [ 0.0094,  1.2175, -0.5333, -0.3621],\n",
       "                       [ 0.3999, -0.9843,  0.5236, -0.5714]],\n",
       "              \n",
       "                      [[-0.8663, -1.0136, -1.3421, -0.7492],\n",
       "                       [ 0.0094,  1.2175, -0.5333, -0.3621],\n",
       "                       [ 0.3999, -0.9843,  0.5236, -0.5714]],\n",
       "              \n",
       "                      [[-0.8663, -1.0136, -1.3421, -0.7492],\n",
       "                       [ 0.0094,  1.2175, -0.5333, -0.3621],\n",
       "                       [ 0.3999, -0.9843,  0.5236, -0.5714]],\n",
       "              \n",
       "                      [[-0.8663, -1.0136, -1.3421, -0.7492],\n",
       "                       [ 0.0094,  1.2175, -0.5333, -0.3621],\n",
       "                       [ 0.3999, -0.9843,  0.5236, -0.5714]],\n",
       "              \n",
       "                      [[-0.8663, -1.0136, -1.3421, -0.7492],\n",
       "                       [ 0.0094,  1.2175, -0.5333, -0.3621],\n",
       "                       [ 0.3999, -0.9843,  0.5236, -0.5714]],\n",
       "              \n",
       "                      [[-0.8663, -1.0136, -1.3421, -0.7492],\n",
       "                       [ 0.0094,  1.2175, -0.5333, -0.3621],\n",
       "                       [ 0.3999, -0.9843,  0.5236, -0.5714]]]),\n",
       "       ),\n",
       "    a: tensor([[[ 2.3326,  1.6389,  2.0654],\n",
       "                [-0.3836, -0.7664,  0.3492]],\n",
       "       \n",
       "               [[ 2.3326,  1.6389,  2.0654],\n",
       "                [-0.3836, -0.7664,  0.3492]],\n",
       "       \n",
       "               [[ 2.3326,  1.6389,  2.0654],\n",
       "                [-0.3836, -0.7664,  0.3492]],\n",
       "       \n",
       "               [[ 2.3326,  1.6389,  2.0654],\n",
       "                [-0.3836, -0.7664,  0.3492]],\n",
       "       \n",
       "               [[ 2.3326,  1.6389,  2.0654],\n",
       "                [-0.3836, -0.7664,  0.3492]],\n",
       "       \n",
       "               [[ 2.3326,  1.6389,  2.0654],\n",
       "                [-0.3836, -0.7664,  0.3492]],\n",
       "       \n",
       "               [[ 2.3326,  1.6389,  2.0654],\n",
       "                [-0.3836, -0.7664,  0.3492]],\n",
       "       \n",
       "               [[ 2.3326,  1.6389,  2.0654],\n",
       "                [-0.3836, -0.7664,  0.3492]]]),\n",
       ")"
      ]
     },
     "execution_count": 25,
     "metadata": {},
     "output_type": "execute_result"
    }
   ],
   "source": [
    "batches = [Batch(**_TREE_DATA_2) for _ in range(8)]\n",
    "\n",
    "Batch.stack(batches)"
   ]
  },
  {
   "cell_type": "code",
   "execution_count": 26,
   "id": "ec9037a3",
   "metadata": {
    "execution": {
     "iopub.execute_input": "2023-03-05T08:28:36.514681Z",
     "iopub.status.busy": "2023-03-05T08:28:36.514117Z",
     "iopub.status.idle": "2023-03-05T08:28:42.808082Z",
     "shell.execute_reply": "2023-03-05T08:28:42.807261Z"
    }
   },
   "outputs": [
    {
     "name": "stdout",
     "output_type": "stream",
     "text": [
      "77.5 µs ± 223 ns per loop (mean ± std. dev. of 7 runs, 10,000 loops each)\n"
     ]
    }
   ],
   "source": [
    "%timeit Batch.stack(batches)"
   ]
  },
  {
   "cell_type": "code",
   "execution_count": 27,
   "id": "cb8ab77e",
   "metadata": {
    "execution": {
     "iopub.execute_input": "2023-03-05T08:28:42.811583Z",
     "iopub.status.busy": "2023-03-05T08:28:42.811194Z",
     "iopub.status.idle": "2023-03-05T08:28:42.819879Z",
     "shell.execute_reply": "2023-03-05T08:28:42.818799Z"
    }
   },
   "outputs": [
    {
     "data": {
      "text/plain": [
       "Batch(\n",
       "    x: Batch(\n",
       "           c: tensor([[-0.8663, -1.0136, -1.3421, -0.7492],\n",
       "                      [ 0.0094,  1.2175, -0.5333, -0.3621],\n",
       "                      [ 0.3999, -0.9843,  0.5236, -0.5714],\n",
       "                      [-0.8663, -1.0136, -1.3421, -0.7492],\n",
       "                      [ 0.0094,  1.2175, -0.5333, -0.3621],\n",
       "                      [ 0.3999, -0.9843,  0.5236, -0.5714],\n",
       "                      [-0.8663, -1.0136, -1.3421, -0.7492],\n",
       "                      [ 0.0094,  1.2175, -0.5333, -0.3621],\n",
       "                      [ 0.3999, -0.9843,  0.5236, -0.5714],\n",
       "                      [-0.8663, -1.0136, -1.3421, -0.7492],\n",
       "                      [ 0.0094,  1.2175, -0.5333, -0.3621],\n",
       "                      [ 0.3999, -0.9843,  0.5236, -0.5714],\n",
       "                      [-0.8663, -1.0136, -1.3421, -0.7492],\n",
       "                      [ 0.0094,  1.2175, -0.5333, -0.3621],\n",
       "                      [ 0.3999, -0.9843,  0.5236, -0.5714],\n",
       "                      [-0.8663, -1.0136, -1.3421, -0.7492],\n",
       "                      [ 0.0094,  1.2175, -0.5333, -0.3621],\n",
       "                      [ 0.3999, -0.9843,  0.5236, -0.5714],\n",
       "                      [-0.8663, -1.0136, -1.3421, -0.7492],\n",
       "                      [ 0.0094,  1.2175, -0.5333, -0.3621],\n",
       "                      [ 0.3999, -0.9843,  0.5236, -0.5714],\n",
       "                      [-0.8663, -1.0136, -1.3421, -0.7492],\n",
       "                      [ 0.0094,  1.2175, -0.5333, -0.3621],\n",
       "                      [ 0.3999, -0.9843,  0.5236, -0.5714]]),\n",
       "       ),\n",
       "    a: tensor([[ 2.3326,  1.6389,  2.0654],\n",
       "               [-0.3836, -0.7664,  0.3492],\n",
       "               [ 2.3326,  1.6389,  2.0654],\n",
       "               [-0.3836, -0.7664,  0.3492],\n",
       "               [ 2.3326,  1.6389,  2.0654],\n",
       "               [-0.3836, -0.7664,  0.3492],\n",
       "               [ 2.3326,  1.6389,  2.0654],\n",
       "               [-0.3836, -0.7664,  0.3492],\n",
       "               [ 2.3326,  1.6389,  2.0654],\n",
       "               [-0.3836, -0.7664,  0.3492],\n",
       "               [ 2.3326,  1.6389,  2.0654],\n",
       "               [-0.3836, -0.7664,  0.3492],\n",
       "               [ 2.3326,  1.6389,  2.0654],\n",
       "               [-0.3836, -0.7664,  0.3492],\n",
       "               [ 2.3326,  1.6389,  2.0654],\n",
       "               [-0.3836, -0.7664,  0.3492]]),\n",
       ")"
      ]
     },
     "execution_count": 27,
     "metadata": {},
     "output_type": "execute_result"
    }
   ],
   "source": [
    "Batch.cat(batches)"
   ]
  },
  {
   "cell_type": "code",
   "execution_count": 28,
   "id": "18dfb045",
   "metadata": {
    "execution": {
     "iopub.execute_input": "2023-03-05T08:28:42.822548Z",
     "iopub.status.busy": "2023-03-05T08:28:42.822183Z",
     "iopub.status.idle": "2023-03-05T08:28:54.422027Z",
     "shell.execute_reply": "2023-03-05T08:28:54.420937Z"
    }
   },
   "outputs": [
    {
     "name": "stdout",
     "output_type": "stream",
     "text": [
      "143 µs ± 204 ns per loop (mean ± std. dev. of 7 runs, 10,000 loops each)\n"
     ]
    }
   ],
   "source": [
    "%timeit Batch.cat(batches)"
   ]
  },
  {
   "cell_type": "code",
   "execution_count": 29,
   "id": "c6688e51",
   "metadata": {
    "execution": {
     "iopub.execute_input": "2023-03-05T08:28:54.425637Z",
     "iopub.status.busy": "2023-03-05T08:28:54.425048Z",
     "iopub.status.idle": "2023-03-05T08:28:57.001481Z",
     "shell.execute_reply": "2023-03-05T08:28:57.000758Z"
    }
   },
   "outputs": [
    {
     "name": "stdout",
     "output_type": "stream",
     "text": [
      "317 µs ± 873 ns per loop (mean ± std. dev. of 7 runs, 1,000 loops each)\n"
     ]
    }
   ],
   "source": [
    "batch = Batch({\n",
    "    'obs': torch.randn(8, 4, 84, 84),\n",
    "    'action': torch.randint(0, 6, size=(8, 1,)),\n",
    "    'reward': torch.rand(8, 1)}\n",
    ")\n",
    "\n",
    "%timeit list(Batch.split(batch, 1, shuffle=False, merge_last=True))"
   ]
  },
  {
   "cell_type": "code",
   "execution_count": null,
   "id": "2539fbd9",
   "metadata": {},
   "outputs": [],
   "source": []
  }
 ],
 "metadata": {
  "kernelspec": {
   "display_name": "Python 3 (ipykernel)",
   "language": "python",
   "name": "python3"
  },
  "language_info": {
   "codemirror_mode": {
    "name": "ipython",
    "version": 3
   },
   "file_extension": ".py",
   "mimetype": "text/x-python",
   "name": "python",
   "nbconvert_exporter": "python",
   "pygments_lexer": "ipython3",
   "version": "3.8.16"
  }
 },
 "nbformat": 4,
 "nbformat_minor": 5
}
