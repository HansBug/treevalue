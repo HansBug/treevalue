{
 "cells": [
  {
   "cell_type": "markdown",
   "id": "9d39d946",
   "metadata": {},
   "source": [
    "# Comparison Between TreeValue and Tianshou Batch"
   ]
  },
  {
   "cell_type": "markdown",
   "id": "3c6db2d4",
   "metadata": {},
   "source": [
    "In this section, we will take a look at the feature and performance of the [Tianshou Batch](https://github.com/thu-ml/tianshou) library, which is developed by Tsinghua Machine Learning Group."
   ]
  },
  {
   "cell_type": "markdown",
   "id": "069361b0",
   "metadata": {},
   "source": [
    "Before starting the comparison, let us define some thing."
   ]
  },
  {
   "cell_type": "code",
   "execution_count": 1,
   "id": "06fc8d26",
   "metadata": {
    "execution": {
     "iopub.execute_input": "2023-10-20T08:08:52.463902Z",
     "iopub.status.busy": "2023-10-20T08:08:52.463484Z",
     "iopub.status.idle": "2023-10-20T08:08:53.922005Z",
     "shell.execute_reply": "2023-10-20T08:08:53.921286Z"
    }
   },
   "outputs": [],
   "source": [
    "import torch \n",
    "\n",
    "_TREE_DATA_1 = {'a': 1, 'b': 2, 'x': {'c': 3, 'd': 4}}\n",
    "_TREE_DATA_2 = {\n",
    "    'a': torch.randn(2, 3), \n",
    "    'x': {\n",
    "        'c': torch.randn(3, 4)\n",
    "    },\n",
    "}\n",
    "_TREE_DATA_3 = {\n",
    "    'obs': torch.randn(4, 84, 84),\n",
    "    'action': torch.randint(0, 6, size=(1,)),\n",
    "    'reward': torch.rand(1),\n",
    "}"
   ]
  },
  {
   "cell_type": "markdown",
   "id": "83461b25",
   "metadata": {},
   "source": [
    "## Read and Write Operation"
   ]
  },
  {
   "cell_type": "markdown",
   "id": "067b3f73",
   "metadata": {},
   "source": [
    "Reading and writing are the two most common operations in the tree data structure based on the data model (TreeValue and Tianshou Batch both belong to this type), so this section will compare the reading and writing performance of these two libraries."
   ]
  },
  {
   "cell_type": "markdown",
   "id": "5d09a5b7",
   "metadata": {},
   "source": [
    "### TreeValue's Get and Set"
   ]
  },
  {
   "cell_type": "code",
   "execution_count": 2,
   "id": "9519c4bb",
   "metadata": {
    "execution": {
     "iopub.execute_input": "2023-10-20T08:08:53.925851Z",
     "iopub.status.busy": "2023-10-20T08:08:53.925211Z",
     "iopub.status.idle": "2023-10-20T08:08:54.238347Z",
     "shell.execute_reply": "2023-10-20T08:08:54.237635Z"
    }
   },
   "outputs": [],
   "source": [
    "from treevalue import FastTreeValue\n",
    "\n",
    "t = FastTreeValue(_TREE_DATA_2)"
   ]
  },
  {
   "cell_type": "code",
   "execution_count": 3,
   "id": "11c37677",
   "metadata": {
    "execution": {
     "iopub.execute_input": "2023-10-20T08:08:54.242071Z",
     "iopub.status.busy": "2023-10-20T08:08:54.241280Z",
     "iopub.status.idle": "2023-10-20T08:08:54.252993Z",
     "shell.execute_reply": "2023-10-20T08:08:54.252283Z"
    }
   },
   "outputs": [
    {
     "data": {
      "text/plain": [
       "<FastTreeValue 0x7f8accb1b070>\n",
       "├── 'a' --> tensor([[-1.4146,  1.4255,  1.9142],\n",
       "│                   [-0.2560, -0.6304, -1.2516]])\n",
       "└── 'x' --> <FastTreeValue 0x7f8accb1bb50>\n",
       "    └── 'c' --> tensor([[ 0.5729,  1.3876,  0.0230, -0.6240],\n",
       "                        [ 1.2857, -1.4434, -1.2680, -0.3311],\n",
       "                        [ 0.1471,  0.4810, -0.6271,  0.1074]])"
      ]
     },
     "execution_count": 3,
     "metadata": {},
     "output_type": "execute_result"
    }
   ],
   "source": [
    "t"
   ]
  },
  {
   "cell_type": "code",
   "execution_count": 4,
   "id": "fd70b0b9",
   "metadata": {
    "execution": {
     "iopub.execute_input": "2023-10-20T08:08:54.256060Z",
     "iopub.status.busy": "2023-10-20T08:08:54.255700Z",
     "iopub.status.idle": "2023-10-20T08:08:54.260322Z",
     "shell.execute_reply": "2023-10-20T08:08:54.259521Z"
    }
   },
   "outputs": [
    {
     "data": {
      "text/plain": [
       "tensor([[-1.4146,  1.4255,  1.9142],\n",
       "        [-0.2560, -0.6304, -1.2516]])"
      ]
     },
     "execution_count": 4,
     "metadata": {},
     "output_type": "execute_result"
    }
   ],
   "source": [
    "t.a"
   ]
  },
  {
   "cell_type": "code",
   "execution_count": 5,
   "id": "c18197bd",
   "metadata": {
    "execution": {
     "iopub.execute_input": "2023-10-20T08:08:54.263048Z",
     "iopub.status.busy": "2023-10-20T08:08:54.262691Z",
     "iopub.status.idle": "2023-10-20T08:08:59.394421Z",
     "shell.execute_reply": "2023-10-20T08:08:59.393789Z"
    }
   },
   "outputs": [
    {
     "name": "stdout",
     "output_type": "stream",
     "text": [
      "62.6 ns ± 0.0305 ns per loop (mean ± std. dev. of 7 runs, 10,000,000 loops each)\n"
     ]
    }
   ],
   "source": [
    "%timeit t.a"
   ]
  },
  {
   "cell_type": "code",
   "execution_count": 6,
   "id": "bd52f867",
   "metadata": {
    "execution": {
     "iopub.execute_input": "2023-10-20T08:08:59.397504Z",
     "iopub.status.busy": "2023-10-20T08:08:59.397060Z",
     "iopub.status.idle": "2023-10-20T08:08:59.404304Z",
     "shell.execute_reply": "2023-10-20T08:08:59.403701Z"
    }
   },
   "outputs": [
    {
     "data": {
      "text/plain": [
       "<FastTreeValue 0x7f8accb1b070>\n",
       "├── 'a' --> tensor([[ 0.2556,  1.7871,  0.0265],\n",
       "│                   [-1.4001,  0.3829,  1.8526]])\n",
       "└── 'x' --> <FastTreeValue 0x7f8accb1bb50>\n",
       "    └── 'c' --> tensor([[ 0.5729,  1.3876,  0.0230, -0.6240],\n",
       "                        [ 1.2857, -1.4434, -1.2680, -0.3311],\n",
       "                        [ 0.1471,  0.4810, -0.6271,  0.1074]])"
      ]
     },
     "execution_count": 6,
     "metadata": {},
     "output_type": "execute_result"
    }
   ],
   "source": [
    "new_value = torch.randn(2, 3)\n",
    "t.a = new_value\n",
    "\n",
    "t"
   ]
  },
  {
   "cell_type": "code",
   "execution_count": 7,
   "id": "bbe04d1c",
   "metadata": {
    "execution": {
     "iopub.execute_input": "2023-10-20T08:08:59.408127Z",
     "iopub.status.busy": "2023-10-20T08:08:59.406801Z",
     "iopub.status.idle": "2023-10-20T08:09:04.335642Z",
     "shell.execute_reply": "2023-10-20T08:09:04.334933Z"
    }
   },
   "outputs": [
    {
     "name": "stdout",
     "output_type": "stream",
     "text": [
      "60.7 ns ± 0.0315 ns per loop (mean ± std. dev. of 7 runs, 10,000,000 loops each)\n"
     ]
    }
   ],
   "source": [
    "%timeit t.a = new_value"
   ]
  },
  {
   "cell_type": "markdown",
   "id": "48c49731",
   "metadata": {},
   "source": [
    "### Tianshou Batch's Get and Set"
   ]
  },
  {
   "cell_type": "code",
   "execution_count": 8,
   "id": "f1bb14c1",
   "metadata": {
    "execution": {
     "iopub.execute_input": "2023-10-20T08:09:04.340304Z",
     "iopub.status.busy": "2023-10-20T08:09:04.339107Z",
     "iopub.status.idle": "2023-10-20T08:09:04.717506Z",
     "shell.execute_reply": "2023-10-20T08:09:04.716807Z"
    }
   },
   "outputs": [],
   "source": [
    "from tianshou.data import Batch\n",
    "\n",
    "b = Batch(**_TREE_DATA_2)"
   ]
  },
  {
   "cell_type": "code",
   "execution_count": 9,
   "id": "cb0777c3",
   "metadata": {
    "execution": {
     "iopub.execute_input": "2023-10-20T08:09:04.721155Z",
     "iopub.status.busy": "2023-10-20T08:09:04.720806Z",
     "iopub.status.idle": "2023-10-20T08:09:04.727476Z",
     "shell.execute_reply": "2023-10-20T08:09:04.726857Z"
    }
   },
   "outputs": [
    {
     "data": {
      "text/plain": [
       "Batch(\n",
       "    a: tensor([[-1.4146,  1.4255,  1.9142],\n",
       "               [-0.2560, -0.6304, -1.2516]]),\n",
       "    x: Batch(\n",
       "           c: tensor([[ 0.5729,  1.3876,  0.0230, -0.6240],\n",
       "                      [ 1.2857, -1.4434, -1.2680, -0.3311],\n",
       "                      [ 0.1471,  0.4810, -0.6271,  0.1074]]),\n",
       "       ),\n",
       ")"
      ]
     },
     "execution_count": 9,
     "metadata": {},
     "output_type": "execute_result"
    }
   ],
   "source": [
    "b"
   ]
  },
  {
   "cell_type": "code",
   "execution_count": 10,
   "id": "43ef8ea3",
   "metadata": {
    "execution": {
     "iopub.execute_input": "2023-10-20T08:09:04.730572Z",
     "iopub.status.busy": "2023-10-20T08:09:04.730136Z",
     "iopub.status.idle": "2023-10-20T08:09:04.734950Z",
     "shell.execute_reply": "2023-10-20T08:09:04.734310Z"
    }
   },
   "outputs": [
    {
     "data": {
      "text/plain": [
       "tensor([[-1.4146,  1.4255,  1.9142],\n",
       "        [-0.2560, -0.6304, -1.2516]])"
      ]
     },
     "execution_count": 10,
     "metadata": {},
     "output_type": "execute_result"
    }
   ],
   "source": [
    "b.a"
   ]
  },
  {
   "cell_type": "code",
   "execution_count": 11,
   "id": "b785ab72",
   "metadata": {
    "execution": {
     "iopub.execute_input": "2023-10-20T08:09:04.738104Z",
     "iopub.status.busy": "2023-10-20T08:09:04.737689Z",
     "iopub.status.idle": "2023-10-20T08:09:09.516802Z",
     "shell.execute_reply": "2023-10-20T08:09:09.516045Z"
    }
   },
   "outputs": [
    {
     "name": "stdout",
     "output_type": "stream",
     "text": [
      "59 ns ± 0.109 ns per loop (mean ± std. dev. of 7 runs, 10,000,000 loops each)\n"
     ]
    }
   ],
   "source": [
    "%timeit b.a"
   ]
  },
  {
   "cell_type": "code",
   "execution_count": 12,
   "id": "ad54dc69",
   "metadata": {
    "execution": {
     "iopub.execute_input": "2023-10-20T08:09:09.519955Z",
     "iopub.status.busy": "2023-10-20T08:09:09.519396Z",
     "iopub.status.idle": "2023-10-20T08:09:09.526808Z",
     "shell.execute_reply": "2023-10-20T08:09:09.526219Z"
    }
   },
   "outputs": [
    {
     "data": {
      "text/plain": [
       "Batch(\n",
       "    a: tensor([[ 0.0385, -1.1737, -1.9356],\n",
       "               [-1.3958,  0.2620, -1.3441]]),\n",
       "    x: Batch(\n",
       "           c: tensor([[ 0.5729,  1.3876,  0.0230, -0.6240],\n",
       "                      [ 1.2857, -1.4434, -1.2680, -0.3311],\n",
       "                      [ 0.1471,  0.4810, -0.6271,  0.1074]]),\n",
       "       ),\n",
       ")"
      ]
     },
     "execution_count": 12,
     "metadata": {},
     "output_type": "execute_result"
    }
   ],
   "source": [
    "new_value = torch.randn(2, 3)\n",
    "b.a = new_value\n",
    "\n",
    "b"
   ]
  },
  {
   "cell_type": "code",
   "execution_count": 13,
   "id": "29b1d0bf",
   "metadata": {
    "execution": {
     "iopub.execute_input": "2023-10-20T08:09:09.529581Z",
     "iopub.status.busy": "2023-10-20T08:09:09.529162Z",
     "iopub.status.idle": "2023-10-20T08:09:13.538111Z",
     "shell.execute_reply": "2023-10-20T08:09:13.537374Z"
    }
   },
   "outputs": [
    {
     "name": "stdout",
     "output_type": "stream",
     "text": [
      "494 ns ± 0.319 ns per loop (mean ± std. dev. of 7 runs, 1,000,000 loops each)\n"
     ]
    }
   ],
   "source": [
    "%timeit b.a = new_value"
   ]
  },
  {
   "cell_type": "markdown",
   "id": "b61ad1d0",
   "metadata": {},
   "source": [
    "## Initialization"
   ]
  },
  {
   "cell_type": "markdown",
   "id": "d70f0d54",
   "metadata": {},
   "source": [
    "### TreeValue's Initialization"
   ]
  },
  {
   "cell_type": "code",
   "execution_count": 14,
   "id": "d32a679b",
   "metadata": {
    "execution": {
     "iopub.execute_input": "2023-10-20T08:09:13.541978Z",
     "iopub.status.busy": "2023-10-20T08:09:13.541407Z",
     "iopub.status.idle": "2023-10-20T08:09:20.336073Z",
     "shell.execute_reply": "2023-10-20T08:09:20.335378Z"
    }
   },
   "outputs": [
    {
     "name": "stdout",
     "output_type": "stream",
     "text": [
      "836 ns ± 1.09 ns per loop (mean ± std. dev. of 7 runs, 1,000,000 loops each)\n"
     ]
    }
   ],
   "source": [
    "%timeit FastTreeValue(_TREE_DATA_1)"
   ]
  },
  {
   "cell_type": "markdown",
   "id": "24f3707b",
   "metadata": {},
   "source": [
    "### Tianshou Batch's Initialization"
   ]
  },
  {
   "cell_type": "code",
   "execution_count": 15,
   "id": "ac3958df",
   "metadata": {
    "execution": {
     "iopub.execute_input": "2023-10-20T08:09:20.339291Z",
     "iopub.status.busy": "2023-10-20T08:09:20.338717Z",
     "iopub.status.idle": "2023-10-20T08:09:29.562338Z",
     "shell.execute_reply": "2023-10-20T08:09:29.561729Z"
    }
   },
   "outputs": [
    {
     "name": "stdout",
     "output_type": "stream",
     "text": [
      "11.4 µs ± 50.4 ns per loop (mean ± std. dev. of 7 runs, 100,000 loops each)\n"
     ]
    }
   ],
   "source": [
    "%timeit Batch(**_TREE_DATA_1)"
   ]
  },
  {
   "cell_type": "markdown",
   "id": "1ab82e2d",
   "metadata": {},
   "source": [
    "## Deep Copy Operation"
   ]
  },
  {
   "cell_type": "code",
   "execution_count": 16,
   "id": "210a9442",
   "metadata": {
    "execution": {
     "iopub.execute_input": "2023-10-20T08:09:29.565768Z",
     "iopub.status.busy": "2023-10-20T08:09:29.565110Z",
     "iopub.status.idle": "2023-10-20T08:09:29.568439Z",
     "shell.execute_reply": "2023-10-20T08:09:29.567774Z"
    }
   },
   "outputs": [],
   "source": [
    "import copy"
   ]
  },
  {
   "cell_type": "markdown",
   "id": "5a736274",
   "metadata": {},
   "source": [
    "### Deep Copy of TreeValue"
   ]
  },
  {
   "cell_type": "code",
   "execution_count": 17,
   "id": "f9bcadd6",
   "metadata": {
    "execution": {
     "iopub.execute_input": "2023-10-20T08:09:29.571456Z",
     "iopub.status.busy": "2023-10-20T08:09:29.571095Z",
     "iopub.status.idle": "2023-10-20T08:09:41.264800Z",
     "shell.execute_reply": "2023-10-20T08:09:41.264208Z"
    }
   },
   "outputs": [
    {
     "name": "stdout",
     "output_type": "stream",
     "text": [
      "144 µs ± 1.09 µs per loop (mean ± std. dev. of 7 runs, 10,000 loops each)\n"
     ]
    }
   ],
   "source": [
    "t3 = FastTreeValue(_TREE_DATA_3)\n",
    "%timeit copy.deepcopy(t3)"
   ]
  },
  {
   "cell_type": "markdown",
   "id": "bf8be7ea",
   "metadata": {},
   "source": [
    "### Deep Copy of Tianshou Batch"
   ]
  },
  {
   "cell_type": "code",
   "execution_count": 18,
   "id": "91998e6f",
   "metadata": {
    "execution": {
     "iopub.execute_input": "2023-10-20T08:09:41.268193Z",
     "iopub.status.busy": "2023-10-20T08:09:41.267955Z",
     "iopub.status.idle": "2023-10-20T08:09:53.267468Z",
     "shell.execute_reply": "2023-10-20T08:09:53.266824Z"
    }
   },
   "outputs": [
    {
     "name": "stdout",
     "output_type": "stream",
     "text": [
      "148 µs ± 1.44 µs per loop (mean ± std. dev. of 7 runs, 10,000 loops each)\n"
     ]
    }
   ],
   "source": [
    "b3 = Batch(**_TREE_DATA_3)\n",
    "%timeit copy.deepcopy(b3)"
   ]
  },
  {
   "cell_type": "markdown",
   "id": "223162fb",
   "metadata": {},
   "source": [
    "## Stack, Concat and Split Operation"
   ]
  },
  {
   "cell_type": "markdown",
   "id": "85fa4a73",
   "metadata": {},
   "source": [
    "### Performance of TreeValue"
   ]
  },
  {
   "cell_type": "code",
   "execution_count": 19,
   "id": "a0c2b697",
   "metadata": {
    "execution": {
     "iopub.execute_input": "2023-10-20T08:09:53.270804Z",
     "iopub.status.busy": "2023-10-20T08:09:53.270562Z",
     "iopub.status.idle": "2023-10-20T08:09:53.275050Z",
     "shell.execute_reply": "2023-10-20T08:09:53.274445Z"
    }
   },
   "outputs": [],
   "source": [
    "trees = [FastTreeValue(_TREE_DATA_2) for _ in range(8)]"
   ]
  },
  {
   "cell_type": "code",
   "execution_count": 20,
   "id": "017ea5a5",
   "metadata": {
    "execution": {
     "iopub.execute_input": "2023-10-20T08:09:53.277796Z",
     "iopub.status.busy": "2023-10-20T08:09:53.277433Z",
     "iopub.status.idle": "2023-10-20T08:09:53.286296Z",
     "shell.execute_reply": "2023-10-20T08:09:53.285281Z"
    }
   },
   "outputs": [
    {
     "data": {
      "text/plain": [
       "<FastTreeValue 0x7f8accb21310>\n",
       "├── 'a' --> tensor([[[-1.4146,  1.4255,  1.9142],\n",
       "│                    [-0.2560, -0.6304, -1.2516]],\n",
       "│           \n",
       "│                   [[-1.4146,  1.4255,  1.9142],\n",
       "│                    [-0.2560, -0.6304, -1.2516]],\n",
       "│           \n",
       "│                   [[-1.4146,  1.4255,  1.9142],\n",
       "│                    [-0.2560, -0.6304, -1.2516]],\n",
       "│           \n",
       "│                   [[-1.4146,  1.4255,  1.9142],\n",
       "│                    [-0.2560, -0.6304, -1.2516]],\n",
       "│           \n",
       "│                   [[-1.4146,  1.4255,  1.9142],\n",
       "│                    [-0.2560, -0.6304, -1.2516]],\n",
       "│           \n",
       "│                   [[-1.4146,  1.4255,  1.9142],\n",
       "│                    [-0.2560, -0.6304, -1.2516]],\n",
       "│           \n",
       "│                   [[-1.4146,  1.4255,  1.9142],\n",
       "│                    [-0.2560, -0.6304, -1.2516]],\n",
       "│           \n",
       "│                   [[-1.4146,  1.4255,  1.9142],\n",
       "│                    [-0.2560, -0.6304, -1.2516]]])\n",
       "└── 'x' --> <FastTreeValue 0x7f89e51cff40>\n",
       "    └── 'c' --> tensor([[[ 0.5729,  1.3876,  0.0230, -0.6240],\n",
       "                         [ 1.2857, -1.4434, -1.2680, -0.3311],\n",
       "                         [ 0.1471,  0.4810, -0.6271,  0.1074]],\n",
       "                \n",
       "                        [[ 0.5729,  1.3876,  0.0230, -0.6240],\n",
       "                         [ 1.2857, -1.4434, -1.2680, -0.3311],\n",
       "                         [ 0.1471,  0.4810, -0.6271,  0.1074]],\n",
       "                \n",
       "                        [[ 0.5729,  1.3876,  0.0230, -0.6240],\n",
       "                         [ 1.2857, -1.4434, -1.2680, -0.3311],\n",
       "                         [ 0.1471,  0.4810, -0.6271,  0.1074]],\n",
       "                \n",
       "                        [[ 0.5729,  1.3876,  0.0230, -0.6240],\n",
       "                         [ 1.2857, -1.4434, -1.2680, -0.3311],\n",
       "                         [ 0.1471,  0.4810, -0.6271,  0.1074]],\n",
       "                \n",
       "                        [[ 0.5729,  1.3876,  0.0230, -0.6240],\n",
       "                         [ 1.2857, -1.4434, -1.2680, -0.3311],\n",
       "                         [ 0.1471,  0.4810, -0.6271,  0.1074]],\n",
       "                \n",
       "                        [[ 0.5729,  1.3876,  0.0230, -0.6240],\n",
       "                         [ 1.2857, -1.4434, -1.2680, -0.3311],\n",
       "                         [ 0.1471,  0.4810, -0.6271,  0.1074]],\n",
       "                \n",
       "                        [[ 0.5729,  1.3876,  0.0230, -0.6240],\n",
       "                         [ 1.2857, -1.4434, -1.2680, -0.3311],\n",
       "                         [ 0.1471,  0.4810, -0.6271,  0.1074]],\n",
       "                \n",
       "                        [[ 0.5729,  1.3876,  0.0230, -0.6240],\n",
       "                         [ 1.2857, -1.4434, -1.2680, -0.3311],\n",
       "                         [ 0.1471,  0.4810, -0.6271,  0.1074]]])"
      ]
     },
     "execution_count": 20,
     "metadata": {},
     "output_type": "execute_result"
    }
   ],
   "source": [
    "t_stack = FastTreeValue.func(subside=True)(torch.stack)\n",
    "\n",
    "t_stack(trees)"
   ]
  },
  {
   "cell_type": "code",
   "execution_count": 21,
   "id": "f8b3f415",
   "metadata": {
    "execution": {
     "iopub.execute_input": "2023-10-20T08:09:53.289271Z",
     "iopub.status.busy": "2023-10-20T08:09:53.288611Z",
     "iopub.status.idle": "2023-10-20T08:09:55.958597Z",
     "shell.execute_reply": "2023-10-20T08:09:55.957930Z"
    }
   },
   "outputs": [
    {
     "name": "stdout",
     "output_type": "stream",
     "text": [
      "32.8 µs ± 55.8 ns per loop (mean ± std. dev. of 7 runs, 10,000 loops each)\n"
     ]
    }
   ],
   "source": [
    "%timeit t_stack(trees)"
   ]
  },
  {
   "cell_type": "code",
   "execution_count": 22,
   "id": "94b56771",
   "metadata": {
    "execution": {
     "iopub.execute_input": "2023-10-20T08:09:55.961942Z",
     "iopub.status.busy": "2023-10-20T08:09:55.961313Z",
     "iopub.status.idle": "2023-10-20T08:09:55.969666Z",
     "shell.execute_reply": "2023-10-20T08:09:55.969067Z"
    }
   },
   "outputs": [
    {
     "data": {
      "text/plain": [
       "<FastTreeValue 0x7f89e52331f0>\n",
       "├── 'a' --> tensor([[-1.4146,  1.4255,  1.9142],\n",
       "│                   [-0.2560, -0.6304, -1.2516],\n",
       "│                   [-1.4146,  1.4255,  1.9142],\n",
       "│                   [-0.2560, -0.6304, -1.2516],\n",
       "│                   [-1.4146,  1.4255,  1.9142],\n",
       "│                   [-0.2560, -0.6304, -1.2516],\n",
       "│                   [-1.4146,  1.4255,  1.9142],\n",
       "│                   [-0.2560, -0.6304, -1.2516],\n",
       "│                   [-1.4146,  1.4255,  1.9142],\n",
       "│                   [-0.2560, -0.6304, -1.2516],\n",
       "│                   [-1.4146,  1.4255,  1.9142],\n",
       "│                   [-0.2560, -0.6304, -1.2516],\n",
       "│                   [-1.4146,  1.4255,  1.9142],\n",
       "│                   [-0.2560, -0.6304, -1.2516],\n",
       "│                   [-1.4146,  1.4255,  1.9142],\n",
       "│                   [-0.2560, -0.6304, -1.2516]])\n",
       "└── 'x' --> <FastTreeValue 0x7f89e5233940>\n",
       "    └── 'c' --> tensor([[ 0.5729,  1.3876,  0.0230, -0.6240],\n",
       "                        [ 1.2857, -1.4434, -1.2680, -0.3311],\n",
       "                        [ 0.1471,  0.4810, -0.6271,  0.1074],\n",
       "                        [ 0.5729,  1.3876,  0.0230, -0.6240],\n",
       "                        [ 1.2857, -1.4434, -1.2680, -0.3311],\n",
       "                        [ 0.1471,  0.4810, -0.6271,  0.1074],\n",
       "                        [ 0.5729,  1.3876,  0.0230, -0.6240],\n",
       "                        [ 1.2857, -1.4434, -1.2680, -0.3311],\n",
       "                        [ 0.1471,  0.4810, -0.6271,  0.1074],\n",
       "                        [ 0.5729,  1.3876,  0.0230, -0.6240],\n",
       "                        [ 1.2857, -1.4434, -1.2680, -0.3311],\n",
       "                        [ 0.1471,  0.4810, -0.6271,  0.1074],\n",
       "                        [ 0.5729,  1.3876,  0.0230, -0.6240],\n",
       "                        [ 1.2857, -1.4434, -1.2680, -0.3311],\n",
       "                        [ 0.1471,  0.4810, -0.6271,  0.1074],\n",
       "                        [ 0.5729,  1.3876,  0.0230, -0.6240],\n",
       "                        [ 1.2857, -1.4434, -1.2680, -0.3311],\n",
       "                        [ 0.1471,  0.4810, -0.6271,  0.1074],\n",
       "                        [ 0.5729,  1.3876,  0.0230, -0.6240],\n",
       "                        [ 1.2857, -1.4434, -1.2680, -0.3311],\n",
       "                        [ 0.1471,  0.4810, -0.6271,  0.1074],\n",
       "                        [ 0.5729,  1.3876,  0.0230, -0.6240],\n",
       "                        [ 1.2857, -1.4434, -1.2680, -0.3311],\n",
       "                        [ 0.1471,  0.4810, -0.6271,  0.1074]])"
      ]
     },
     "execution_count": 22,
     "metadata": {},
     "output_type": "execute_result"
    }
   ],
   "source": [
    "t_cat = FastTreeValue.func(subside=True)(torch.cat)\n",
    "\n",
    "t_cat(trees)"
   ]
  },
  {
   "cell_type": "code",
   "execution_count": 23,
   "id": "5e9c06a6",
   "metadata": {
    "execution": {
     "iopub.execute_input": "2023-10-20T08:09:55.972315Z",
     "iopub.status.busy": "2023-10-20T08:09:55.972090Z",
     "iopub.status.idle": "2023-10-20T08:09:58.459857Z",
     "shell.execute_reply": "2023-10-20T08:09:58.459188Z"
    }
   },
   "outputs": [
    {
     "name": "stdout",
     "output_type": "stream",
     "text": [
      "30.6 µs ± 74.5 ns per loop (mean ± std. dev. of 7 runs, 10,000 loops each)\n"
     ]
    }
   ],
   "source": [
    "%timeit t_cat(trees)"
   ]
  },
  {
   "cell_type": "code",
   "execution_count": 24,
   "id": "a3ab5c8f",
   "metadata": {
    "execution": {
     "iopub.execute_input": "2023-10-20T08:09:58.463098Z",
     "iopub.status.busy": "2023-10-20T08:09:58.462545Z",
     "iopub.status.idle": "2023-10-20T08:10:04.065880Z",
     "shell.execute_reply": "2023-10-20T08:10:04.065148Z"
    }
   },
   "outputs": [
    {
     "name": "stdout",
     "output_type": "stream",
     "text": [
      "68.9 µs ± 157 ns per loop (mean ± std. dev. of 7 runs, 10,000 loops each)\n"
     ]
    }
   ],
   "source": [
    "t_split = FastTreeValue.func(rise=True)(torch.split)\n",
    "tree = FastTreeValue({\n",
    "    'obs': torch.randn(8, 4, 84, 84),\n",
    "    'action': torch.randint(0, 6, size=(8, 1,)),\n",
    "    'reward': torch.rand(8, 1),\n",
    "})\n",
    "\n",
    "%timeit t_split(tree, 1)"
   ]
  },
  {
   "cell_type": "markdown",
   "id": "31c3ec0b",
   "metadata": {},
   "source": [
    "### Performance of Tianshou Batch"
   ]
  },
  {
   "cell_type": "code",
   "execution_count": 25,
   "id": "9ead828a",
   "metadata": {
    "execution": {
     "iopub.execute_input": "2023-10-20T08:10:04.069540Z",
     "iopub.status.busy": "2023-10-20T08:10:04.068974Z",
     "iopub.status.idle": "2023-10-20T08:10:04.077672Z",
     "shell.execute_reply": "2023-10-20T08:10:04.077061Z"
    }
   },
   "outputs": [
    {
     "data": {
      "text/plain": [
       "Batch(\n",
       "    a: tensor([[[-1.4146,  1.4255,  1.9142],\n",
       "                [-0.2560, -0.6304, -1.2516]],\n",
       "       \n",
       "               [[-1.4146,  1.4255,  1.9142],\n",
       "                [-0.2560, -0.6304, -1.2516]],\n",
       "       \n",
       "               [[-1.4146,  1.4255,  1.9142],\n",
       "                [-0.2560, -0.6304, -1.2516]],\n",
       "       \n",
       "               [[-1.4146,  1.4255,  1.9142],\n",
       "                [-0.2560, -0.6304, -1.2516]],\n",
       "       \n",
       "               [[-1.4146,  1.4255,  1.9142],\n",
       "                [-0.2560, -0.6304, -1.2516]],\n",
       "       \n",
       "               [[-1.4146,  1.4255,  1.9142],\n",
       "                [-0.2560, -0.6304, -1.2516]],\n",
       "       \n",
       "               [[-1.4146,  1.4255,  1.9142],\n",
       "                [-0.2560, -0.6304, -1.2516]],\n",
       "       \n",
       "               [[-1.4146,  1.4255,  1.9142],\n",
       "                [-0.2560, -0.6304, -1.2516]]]),\n",
       "    x: Batch(\n",
       "           c: tensor([[[ 0.5729,  1.3876,  0.0230, -0.6240],\n",
       "                       [ 1.2857, -1.4434, -1.2680, -0.3311],\n",
       "                       [ 0.1471,  0.4810, -0.6271,  0.1074]],\n",
       "              \n",
       "                      [[ 0.5729,  1.3876,  0.0230, -0.6240],\n",
       "                       [ 1.2857, -1.4434, -1.2680, -0.3311],\n",
       "                       [ 0.1471,  0.4810, -0.6271,  0.1074]],\n",
       "              \n",
       "                      [[ 0.5729,  1.3876,  0.0230, -0.6240],\n",
       "                       [ 1.2857, -1.4434, -1.2680, -0.3311],\n",
       "                       [ 0.1471,  0.4810, -0.6271,  0.1074]],\n",
       "              \n",
       "                      [[ 0.5729,  1.3876,  0.0230, -0.6240],\n",
       "                       [ 1.2857, -1.4434, -1.2680, -0.3311],\n",
       "                       [ 0.1471,  0.4810, -0.6271,  0.1074]],\n",
       "              \n",
       "                      [[ 0.5729,  1.3876,  0.0230, -0.6240],\n",
       "                       [ 1.2857, -1.4434, -1.2680, -0.3311],\n",
       "                       [ 0.1471,  0.4810, -0.6271,  0.1074]],\n",
       "              \n",
       "                      [[ 0.5729,  1.3876,  0.0230, -0.6240],\n",
       "                       [ 1.2857, -1.4434, -1.2680, -0.3311],\n",
       "                       [ 0.1471,  0.4810, -0.6271,  0.1074]],\n",
       "              \n",
       "                      [[ 0.5729,  1.3876,  0.0230, -0.6240],\n",
       "                       [ 1.2857, -1.4434, -1.2680, -0.3311],\n",
       "                       [ 0.1471,  0.4810, -0.6271,  0.1074]],\n",
       "              \n",
       "                      [[ 0.5729,  1.3876,  0.0230, -0.6240],\n",
       "                       [ 1.2857, -1.4434, -1.2680, -0.3311],\n",
       "                       [ 0.1471,  0.4810, -0.6271,  0.1074]]]),\n",
       "       ),\n",
       ")"
      ]
     },
     "execution_count": 25,
     "metadata": {},
     "output_type": "execute_result"
    }
   ],
   "source": [
    "batches = [Batch(**_TREE_DATA_2) for _ in range(8)]\n",
    "\n",
    "Batch.stack(batches)"
   ]
  },
  {
   "cell_type": "code",
   "execution_count": 26,
   "id": "ec9037a3",
   "metadata": {
    "execution": {
     "iopub.execute_input": "2023-10-20T08:10:04.080474Z",
     "iopub.status.busy": "2023-10-20T08:10:04.080124Z",
     "iopub.status.idle": "2023-10-20T08:10:10.604913Z",
     "shell.execute_reply": "2023-10-20T08:10:10.604061Z"
    }
   },
   "outputs": [
    {
     "name": "stdout",
     "output_type": "stream",
     "text": [
      "80.3 µs ± 135 ns per loop (mean ± std. dev. of 7 runs, 10,000 loops each)\n"
     ]
    }
   ],
   "source": [
    "%timeit Batch.stack(batches)"
   ]
  },
  {
   "cell_type": "code",
   "execution_count": 27,
   "id": "cb8ab77e",
   "metadata": {
    "execution": {
     "iopub.execute_input": "2023-10-20T08:10:10.608004Z",
     "iopub.status.busy": "2023-10-20T08:10:10.607447Z",
     "iopub.status.idle": "2023-10-20T08:10:10.615675Z",
     "shell.execute_reply": "2023-10-20T08:10:10.615051Z"
    }
   },
   "outputs": [
    {
     "data": {
      "text/plain": [
       "Batch(\n",
       "    a: tensor([[-1.4146,  1.4255,  1.9142],\n",
       "               [-0.2560, -0.6304, -1.2516],\n",
       "               [-1.4146,  1.4255,  1.9142],\n",
       "               [-0.2560, -0.6304, -1.2516],\n",
       "               [-1.4146,  1.4255,  1.9142],\n",
       "               [-0.2560, -0.6304, -1.2516],\n",
       "               [-1.4146,  1.4255,  1.9142],\n",
       "               [-0.2560, -0.6304, -1.2516],\n",
       "               [-1.4146,  1.4255,  1.9142],\n",
       "               [-0.2560, -0.6304, -1.2516],\n",
       "               [-1.4146,  1.4255,  1.9142],\n",
       "               [-0.2560, -0.6304, -1.2516],\n",
       "               [-1.4146,  1.4255,  1.9142],\n",
       "               [-0.2560, -0.6304, -1.2516],\n",
       "               [-1.4146,  1.4255,  1.9142],\n",
       "               [-0.2560, -0.6304, -1.2516]]),\n",
       "    x: Batch(\n",
       "           c: tensor([[ 0.5729,  1.3876,  0.0230, -0.6240],\n",
       "                      [ 1.2857, -1.4434, -1.2680, -0.3311],\n",
       "                      [ 0.1471,  0.4810, -0.6271,  0.1074],\n",
       "                      [ 0.5729,  1.3876,  0.0230, -0.6240],\n",
       "                      [ 1.2857, -1.4434, -1.2680, -0.3311],\n",
       "                      [ 0.1471,  0.4810, -0.6271,  0.1074],\n",
       "                      [ 0.5729,  1.3876,  0.0230, -0.6240],\n",
       "                      [ 1.2857, -1.4434, -1.2680, -0.3311],\n",
       "                      [ 0.1471,  0.4810, -0.6271,  0.1074],\n",
       "                      [ 0.5729,  1.3876,  0.0230, -0.6240],\n",
       "                      [ 1.2857, -1.4434, -1.2680, -0.3311],\n",
       "                      [ 0.1471,  0.4810, -0.6271,  0.1074],\n",
       "                      [ 0.5729,  1.3876,  0.0230, -0.6240],\n",
       "                      [ 1.2857, -1.4434, -1.2680, -0.3311],\n",
       "                      [ 0.1471,  0.4810, -0.6271,  0.1074],\n",
       "                      [ 0.5729,  1.3876,  0.0230, -0.6240],\n",
       "                      [ 1.2857, -1.4434, -1.2680, -0.3311],\n",
       "                      [ 0.1471,  0.4810, -0.6271,  0.1074],\n",
       "                      [ 0.5729,  1.3876,  0.0230, -0.6240],\n",
       "                      [ 1.2857, -1.4434, -1.2680, -0.3311],\n",
       "                      [ 0.1471,  0.4810, -0.6271,  0.1074],\n",
       "                      [ 0.5729,  1.3876,  0.0230, -0.6240],\n",
       "                      [ 1.2857, -1.4434, -1.2680, -0.3311],\n",
       "                      [ 0.1471,  0.4810, -0.6271,  0.1074]]),\n",
       "       ),\n",
       ")"
      ]
     },
     "execution_count": 27,
     "metadata": {},
     "output_type": "execute_result"
    }
   ],
   "source": [
    "Batch.cat(batches)"
   ]
  },
  {
   "cell_type": "code",
   "execution_count": 28,
   "id": "18dfb045",
   "metadata": {
    "execution": {
     "iopub.execute_input": "2023-10-20T08:10:10.618737Z",
     "iopub.status.busy": "2023-10-20T08:10:10.618111Z",
     "iopub.status.idle": "2023-10-20T08:10:22.877844Z",
     "shell.execute_reply": "2023-10-20T08:10:22.877169Z"
    }
   },
   "outputs": [
    {
     "name": "stdout",
     "output_type": "stream",
     "text": [
      "151 µs ± 1.74 µs per loop (mean ± std. dev. of 7 runs, 10,000 loops each)\n"
     ]
    }
   ],
   "source": [
    "%timeit Batch.cat(batches)"
   ]
  },
  {
   "cell_type": "code",
   "execution_count": 29,
   "id": "c6688e51",
   "metadata": {
    "execution": {
     "iopub.execute_input": "2023-10-20T08:10:22.880958Z",
     "iopub.status.busy": "2023-10-20T08:10:22.880496Z",
     "iopub.status.idle": "2023-10-20T08:10:25.850318Z",
     "shell.execute_reply": "2023-10-20T08:10:25.849717Z"
    }
   },
   "outputs": [
    {
     "name": "stdout",
     "output_type": "stream",
     "text": [
      "364 µs ± 2.88 µs per loop (mean ± std. dev. of 7 runs, 1,000 loops each)\n"
     ]
    }
   ],
   "source": [
    "batch = Batch({\n",
    "    'obs': torch.randn(8, 4, 84, 84),\n",
    "    'action': torch.randint(0, 6, size=(8, 1,)),\n",
    "    'reward': torch.rand(8, 1)}\n",
    ")\n",
    "\n",
    "%timeit list(Batch.split(batch, 1, shuffle=False, merge_last=True))"
   ]
  },
  {
   "cell_type": "code",
   "execution_count": null,
   "id": "2539fbd9",
   "metadata": {},
   "outputs": [],
   "source": []
  }
 ],
 "metadata": {
  "kernelspec": {
   "display_name": "Python 3 (ipykernel)",
   "language": "python",
   "name": "python3"
  },
  "language_info": {
   "codemirror_mode": {
    "name": "ipython",
    "version": 3
   },
   "file_extension": ".py",
   "mimetype": "text/x-python",
   "name": "python",
   "nbconvert_exporter": "python",
   "pygments_lexer": "ipython3",
   "version": "3.8.18"
  }
 },
 "nbformat": 4,
 "nbformat_minor": 5
}
