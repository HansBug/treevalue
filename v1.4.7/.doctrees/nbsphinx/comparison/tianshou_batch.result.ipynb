{
 "cells": [
  {
   "cell_type": "markdown",
   "id": "9d39d946",
   "metadata": {},
   "source": [
    "# Comparison Between TreeValue and Tianshou Batch"
   ]
  },
  {
   "cell_type": "markdown",
   "id": "3c6db2d4",
   "metadata": {},
   "source": [
    "In this section, we will take a look at the feature and performance of the [Tianshou Batch](https://github.com/thu-ml/tianshou) library, which is developed by Tsinghua Machine Learning Group."
   ]
  },
  {
   "cell_type": "markdown",
   "id": "069361b0",
   "metadata": {},
   "source": [
    "Before starting the comparison, let us define some thing."
   ]
  },
  {
   "cell_type": "code",
   "execution_count": 1,
   "id": "06fc8d26",
   "metadata": {
    "execution": {
     "iopub.execute_input": "2023-05-26T05:46:28.016722Z",
     "iopub.status.busy": "2023-05-26T05:46:28.016481Z",
     "iopub.status.idle": "2023-05-26T05:46:29.376754Z",
     "shell.execute_reply": "2023-05-26T05:46:29.375964Z"
    }
   },
   "outputs": [],
   "source": [
    "import torch \n",
    "\n",
    "_TREE_DATA_1 = {'a': 1, 'b': 2, 'x': {'c': 3, 'd': 4}}\n",
    "_TREE_DATA_2 = {\n",
    "    'a': torch.randn(2, 3), \n",
    "    'x': {\n",
    "        'c': torch.randn(3, 4)\n",
    "    },\n",
    "}\n",
    "_TREE_DATA_3 = {\n",
    "    'obs': torch.randn(4, 84, 84),\n",
    "    'action': torch.randint(0, 6, size=(1,)),\n",
    "    'reward': torch.rand(1),\n",
    "}"
   ]
  },
  {
   "cell_type": "markdown",
   "id": "83461b25",
   "metadata": {},
   "source": [
    "## Read and Write Operation"
   ]
  },
  {
   "cell_type": "markdown",
   "id": "067b3f73",
   "metadata": {},
   "source": [
    "Reading and writing are the two most common operations in the tree data structure based on the data model (TreeValue and Tianshou Batch both belong to this type), so this section will compare the reading and writing performance of these two libraries."
   ]
  },
  {
   "cell_type": "markdown",
   "id": "5d09a5b7",
   "metadata": {},
   "source": [
    "### TreeValue's Get and Set"
   ]
  },
  {
   "cell_type": "code",
   "execution_count": 2,
   "id": "9519c4bb",
   "metadata": {
    "execution": {
     "iopub.execute_input": "2023-05-26T05:46:29.381124Z",
     "iopub.status.busy": "2023-05-26T05:46:29.380803Z",
     "iopub.status.idle": "2023-05-26T05:46:29.669321Z",
     "shell.execute_reply": "2023-05-26T05:46:29.668537Z"
    }
   },
   "outputs": [],
   "source": [
    "from treevalue import FastTreeValue\n",
    "\n",
    "t = FastTreeValue(_TREE_DATA_2)"
   ]
  },
  {
   "cell_type": "code",
   "execution_count": 3,
   "id": "11c37677",
   "metadata": {
    "execution": {
     "iopub.execute_input": "2023-05-26T05:46:29.673230Z",
     "iopub.status.busy": "2023-05-26T05:46:29.672743Z",
     "iopub.status.idle": "2023-05-26T05:46:29.684000Z",
     "shell.execute_reply": "2023-05-26T05:46:29.683364Z"
    }
   },
   "outputs": [
    {
     "data": {
      "text/plain": [
       "<FastTreeValue 0x7f9a6183b700>\n",
       "├── 'a' --> tensor([[ 1.5342,  0.2735, -0.3676],\n",
       "│                   [ 0.1177, -1.0617,  1.2353]])\n",
       "└── 'x' --> <FastTreeValue 0x7f9a6183bac0>\n",
       "    └── 'c' --> tensor([[ 1.7552, -1.5396,  0.1076,  0.0136],\n",
       "                        [-1.4201,  2.1441,  0.2391,  0.8347],\n",
       "                        [ 0.7580,  0.7685,  0.6429, -0.8319]])"
      ]
     },
     "execution_count": 3,
     "metadata": {},
     "output_type": "execute_result"
    }
   ],
   "source": [
    "t"
   ]
  },
  {
   "cell_type": "code",
   "execution_count": 4,
   "id": "fd70b0b9",
   "metadata": {
    "execution": {
     "iopub.execute_input": "2023-05-26T05:46:29.687259Z",
     "iopub.status.busy": "2023-05-26T05:46:29.686704Z",
     "iopub.status.idle": "2023-05-26T05:46:29.691730Z",
     "shell.execute_reply": "2023-05-26T05:46:29.691024Z"
    }
   },
   "outputs": [
    {
     "data": {
      "text/plain": [
       "tensor([[ 1.5342,  0.2735, -0.3676],\n",
       "        [ 0.1177, -1.0617,  1.2353]])"
      ]
     },
     "execution_count": 4,
     "metadata": {},
     "output_type": "execute_result"
    }
   ],
   "source": [
    "t.a"
   ]
  },
  {
   "cell_type": "code",
   "execution_count": 5,
   "id": "c18197bd",
   "metadata": {
    "execution": {
     "iopub.execute_input": "2023-05-26T05:46:29.694574Z",
     "iopub.status.busy": "2023-05-26T05:46:29.694272Z",
     "iopub.status.idle": "2023-05-26T05:46:34.937891Z",
     "shell.execute_reply": "2023-05-26T05:46:34.937148Z"
    }
   },
   "outputs": [
    {
     "name": "stdout",
     "output_type": "stream",
     "text": [
      "64.5 ns ± 0.0593 ns per loop (mean ± std. dev. of 7 runs, 10,000,000 loops each)\n"
     ]
    }
   ],
   "source": [
    "%timeit t.a"
   ]
  },
  {
   "cell_type": "code",
   "execution_count": 6,
   "id": "bd52f867",
   "metadata": {
    "execution": {
     "iopub.execute_input": "2023-05-26T05:46:34.941549Z",
     "iopub.status.busy": "2023-05-26T05:46:34.940831Z",
     "iopub.status.idle": "2023-05-26T05:46:34.947612Z",
     "shell.execute_reply": "2023-05-26T05:46:34.946897Z"
    }
   },
   "outputs": [
    {
     "data": {
      "text/plain": [
       "<FastTreeValue 0x7f9a6183b700>\n",
       "├── 'a' --> tensor([[ 0.7542, -0.3639,  0.5590],\n",
       "│                   [ 0.5080,  0.4198, -0.8018]])\n",
       "└── 'x' --> <FastTreeValue 0x7f9a6183bac0>\n",
       "    └── 'c' --> tensor([[ 1.7552, -1.5396,  0.1076,  0.0136],\n",
       "                        [-1.4201,  2.1441,  0.2391,  0.8347],\n",
       "                        [ 0.7580,  0.7685,  0.6429, -0.8319]])"
      ]
     },
     "execution_count": 6,
     "metadata": {},
     "output_type": "execute_result"
    }
   ],
   "source": [
    "new_value = torch.randn(2, 3)\n",
    "t.a = new_value\n",
    "\n",
    "t"
   ]
  },
  {
   "cell_type": "code",
   "execution_count": 7,
   "id": "bbe04d1c",
   "metadata": {
    "execution": {
     "iopub.execute_input": "2023-05-26T05:46:34.950606Z",
     "iopub.status.busy": "2023-05-26T05:46:34.950220Z",
     "iopub.status.idle": "2023-05-26T05:46:40.485065Z",
     "shell.execute_reply": "2023-05-26T05:46:40.484331Z"
    }
   },
   "outputs": [
    {
     "name": "stdout",
     "output_type": "stream",
     "text": [
      "68.2 ns ± 0.0291 ns per loop (mean ± std. dev. of 7 runs, 10,000,000 loops each)\n"
     ]
    }
   ],
   "source": [
    "%timeit t.a = new_value"
   ]
  },
  {
   "cell_type": "markdown",
   "id": "48c49731",
   "metadata": {},
   "source": [
    "### Tianshou Batch's Get and Set"
   ]
  },
  {
   "cell_type": "code",
   "execution_count": 8,
   "id": "f1bb14c1",
   "metadata": {
    "execution": {
     "iopub.execute_input": "2023-05-26T05:46:40.488824Z",
     "iopub.status.busy": "2023-05-26T05:46:40.488221Z",
     "iopub.status.idle": "2023-05-26T05:46:40.857992Z",
     "shell.execute_reply": "2023-05-26T05:46:40.857232Z"
    }
   },
   "outputs": [],
   "source": [
    "from tianshou.data import Batch\n",
    "\n",
    "b = Batch(**_TREE_DATA_2)"
   ]
  },
  {
   "cell_type": "code",
   "execution_count": 9,
   "id": "cb0777c3",
   "metadata": {
    "execution": {
     "iopub.execute_input": "2023-05-26T05:46:40.861799Z",
     "iopub.status.busy": "2023-05-26T05:46:40.861269Z",
     "iopub.status.idle": "2023-05-26T05:46:40.867203Z",
     "shell.execute_reply": "2023-05-26T05:46:40.866495Z"
    }
   },
   "outputs": [
    {
     "data": {
      "text/plain": [
       "Batch(\n",
       "    a: tensor([[ 1.5342,  0.2735, -0.3676],\n",
       "               [ 0.1177, -1.0617,  1.2353]]),\n",
       "    x: Batch(\n",
       "           c: tensor([[ 1.7552, -1.5396,  0.1076,  0.0136],\n",
       "                      [-1.4201,  2.1441,  0.2391,  0.8347],\n",
       "                      [ 0.7580,  0.7685,  0.6429, -0.8319]]),\n",
       "       ),\n",
       ")"
      ]
     },
     "execution_count": 9,
     "metadata": {},
     "output_type": "execute_result"
    }
   ],
   "source": [
    "b"
   ]
  },
  {
   "cell_type": "code",
   "execution_count": 10,
   "id": "43ef8ea3",
   "metadata": {
    "execution": {
     "iopub.execute_input": "2023-05-26T05:46:40.870358Z",
     "iopub.status.busy": "2023-05-26T05:46:40.869829Z",
     "iopub.status.idle": "2023-05-26T05:46:40.874710Z",
     "shell.execute_reply": "2023-05-26T05:46:40.874014Z"
    }
   },
   "outputs": [
    {
     "data": {
      "text/plain": [
       "tensor([[ 1.5342,  0.2735, -0.3676],\n",
       "        [ 0.1177, -1.0617,  1.2353]])"
      ]
     },
     "execution_count": 10,
     "metadata": {},
     "output_type": "execute_result"
    }
   ],
   "source": [
    "b.a"
   ]
  },
  {
   "cell_type": "code",
   "execution_count": 11,
   "id": "b785ab72",
   "metadata": {
    "execution": {
     "iopub.execute_input": "2023-05-26T05:46:40.877719Z",
     "iopub.status.busy": "2023-05-26T05:46:40.877357Z",
     "iopub.status.idle": "2023-05-26T05:46:45.589955Z",
     "shell.execute_reply": "2023-05-26T05:46:45.589087Z"
    }
   },
   "outputs": [
    {
     "name": "stdout",
     "output_type": "stream",
     "text": [
      "58 ns ± 0.0874 ns per loop (mean ± std. dev. of 7 runs, 10,000,000 loops each)\n"
     ]
    }
   ],
   "source": [
    "%timeit b.a"
   ]
  },
  {
   "cell_type": "code",
   "execution_count": 12,
   "id": "ad54dc69",
   "metadata": {
    "execution": {
     "iopub.execute_input": "2023-05-26T05:46:45.593732Z",
     "iopub.status.busy": "2023-05-26T05:46:45.593483Z",
     "iopub.status.idle": "2023-05-26T05:46:45.599537Z",
     "shell.execute_reply": "2023-05-26T05:46:45.598824Z"
    }
   },
   "outputs": [
    {
     "data": {
      "text/plain": [
       "Batch(\n",
       "    a: tensor([[ 1.4709, -0.0561, -1.8106],\n",
       "               [ 0.0521,  0.8461,  0.7153]]),\n",
       "    x: Batch(\n",
       "           c: tensor([[ 1.7552, -1.5396,  0.1076,  0.0136],\n",
       "                      [-1.4201,  2.1441,  0.2391,  0.8347],\n",
       "                      [ 0.7580,  0.7685,  0.6429, -0.8319]]),\n",
       "       ),\n",
       ")"
      ]
     },
     "execution_count": 12,
     "metadata": {},
     "output_type": "execute_result"
    }
   ],
   "source": [
    "new_value = torch.randn(2, 3)\n",
    "b.a = new_value\n",
    "\n",
    "b"
   ]
  },
  {
   "cell_type": "code",
   "execution_count": 13,
   "id": "29b1d0bf",
   "metadata": {
    "execution": {
     "iopub.execute_input": "2023-05-26T05:46:45.602565Z",
     "iopub.status.busy": "2023-05-26T05:46:45.602090Z",
     "iopub.status.idle": "2023-05-26T05:46:49.649314Z",
     "shell.execute_reply": "2023-05-26T05:46:49.648585Z"
    }
   },
   "outputs": [
    {
     "name": "stdout",
     "output_type": "stream",
     "text": [
      "499 ns ± 0.179 ns per loop (mean ± std. dev. of 7 runs, 1,000,000 loops each)\n"
     ]
    }
   ],
   "source": [
    "%timeit b.a = new_value"
   ]
  },
  {
   "cell_type": "markdown",
   "id": "b61ad1d0",
   "metadata": {},
   "source": [
    "## Initialization"
   ]
  },
  {
   "cell_type": "markdown",
   "id": "d70f0d54",
   "metadata": {},
   "source": [
    "### TreeValue's Initialization"
   ]
  },
  {
   "cell_type": "code",
   "execution_count": 14,
   "id": "d32a679b",
   "metadata": {
    "execution": {
     "iopub.execute_input": "2023-05-26T05:46:49.653215Z",
     "iopub.status.busy": "2023-05-26T05:46:49.652642Z",
     "iopub.status.idle": "2023-05-26T05:46:56.265875Z",
     "shell.execute_reply": "2023-05-26T05:46:56.265144Z"
    }
   },
   "outputs": [
    {
     "name": "stdout",
     "output_type": "stream",
     "text": [
      "814 ns ± 0.324 ns per loop (mean ± std. dev. of 7 runs, 1,000,000 loops each)\n"
     ]
    }
   ],
   "source": [
    "%timeit FastTreeValue(_TREE_DATA_1)"
   ]
  },
  {
   "cell_type": "markdown",
   "id": "24f3707b",
   "metadata": {},
   "source": [
    "### Tianshou Batch's Initialization"
   ]
  },
  {
   "cell_type": "code",
   "execution_count": 15,
   "id": "ac3958df",
   "metadata": {
    "execution": {
     "iopub.execute_input": "2023-05-26T05:46:56.269668Z",
     "iopub.status.busy": "2023-05-26T05:46:56.269077Z",
     "iopub.status.idle": "2023-05-26T05:47:04.808054Z",
     "shell.execute_reply": "2023-05-26T05:47:04.807171Z"
    }
   },
   "outputs": [
    {
     "name": "stdout",
     "output_type": "stream",
     "text": [
      "10.5 µs ± 15.5 ns per loop (mean ± std. dev. of 7 runs, 100,000 loops each)\n"
     ]
    }
   ],
   "source": [
    "%timeit Batch(**_TREE_DATA_1)"
   ]
  },
  {
   "cell_type": "markdown",
   "id": "1ab82e2d",
   "metadata": {},
   "source": [
    "## Deep Copy Operation"
   ]
  },
  {
   "cell_type": "code",
   "execution_count": 16,
   "id": "210a9442",
   "metadata": {
    "execution": {
     "iopub.execute_input": "2023-05-26T05:47:04.811649Z",
     "iopub.status.busy": "2023-05-26T05:47:04.811259Z",
     "iopub.status.idle": "2023-05-26T05:47:04.814636Z",
     "shell.execute_reply": "2023-05-26T05:47:04.813930Z"
    }
   },
   "outputs": [],
   "source": [
    "import copy"
   ]
  },
  {
   "cell_type": "markdown",
   "id": "5a736274",
   "metadata": {},
   "source": [
    "### Deep Copy of TreeValue"
   ]
  },
  {
   "cell_type": "code",
   "execution_count": 17,
   "id": "f9bcadd6",
   "metadata": {
    "execution": {
     "iopub.execute_input": "2023-05-26T05:47:04.817588Z",
     "iopub.status.busy": "2023-05-26T05:47:04.817360Z",
     "iopub.status.idle": "2023-05-26T05:47:16.491126Z",
     "shell.execute_reply": "2023-05-26T05:47:16.490359Z"
    }
   },
   "outputs": [
    {
     "name": "stdout",
     "output_type": "stream",
     "text": [
      "144 µs ± 688 ns per loop (mean ± std. dev. of 7 runs, 10,000 loops each)\n"
     ]
    }
   ],
   "source": [
    "t3 = FastTreeValue(_TREE_DATA_3)\n",
    "%timeit copy.deepcopy(t3)"
   ]
  },
  {
   "cell_type": "markdown",
   "id": "bf8be7ea",
   "metadata": {},
   "source": [
    "### Deep Copy of Tianshou Batch"
   ]
  },
  {
   "cell_type": "code",
   "execution_count": 18,
   "id": "91998e6f",
   "metadata": {
    "execution": {
     "iopub.execute_input": "2023-05-26T05:47:16.494465Z",
     "iopub.status.busy": "2023-05-26T05:47:16.494189Z",
     "iopub.status.idle": "2023-05-26T05:47:28.060271Z",
     "shell.execute_reply": "2023-05-26T05:47:28.059546Z"
    }
   },
   "outputs": [
    {
     "name": "stdout",
     "output_type": "stream",
     "text": [
      "142 µs ± 328 ns per loop (mean ± std. dev. of 7 runs, 10,000 loops each)\n"
     ]
    }
   ],
   "source": [
    "b3 = Batch(**_TREE_DATA_3)\n",
    "%timeit copy.deepcopy(b3)"
   ]
  },
  {
   "cell_type": "markdown",
   "id": "223162fb",
   "metadata": {},
   "source": [
    "## Stack, Concat and Split Operation"
   ]
  },
  {
   "cell_type": "markdown",
   "id": "85fa4a73",
   "metadata": {},
   "source": [
    "### Performance of TreeValue"
   ]
  },
  {
   "cell_type": "code",
   "execution_count": 19,
   "id": "a0c2b697",
   "metadata": {
    "execution": {
     "iopub.execute_input": "2023-05-26T05:47:28.064284Z",
     "iopub.status.busy": "2023-05-26T05:47:28.063787Z",
     "iopub.status.idle": "2023-05-26T05:47:28.067909Z",
     "shell.execute_reply": "2023-05-26T05:47:28.067232Z"
    }
   },
   "outputs": [],
   "source": [
    "trees = [FastTreeValue(_TREE_DATA_2) for _ in range(8)]"
   ]
  },
  {
   "cell_type": "code",
   "execution_count": 20,
   "id": "017ea5a5",
   "metadata": {
    "execution": {
     "iopub.execute_input": "2023-05-26T05:47:28.071226Z",
     "iopub.status.busy": "2023-05-26T05:47:28.070866Z",
     "iopub.status.idle": "2023-05-26T05:47:28.080011Z",
     "shell.execute_reply": "2023-05-26T05:47:28.079324Z"
    }
   },
   "outputs": [
    {
     "data": {
      "text/plain": [
       "<FastTreeValue 0x7f9a61841ca0>\n",
       "├── 'a' --> tensor([[[ 1.5342,  0.2735, -0.3676],\n",
       "│                    [ 0.1177, -1.0617,  1.2353]],\n",
       "│           \n",
       "│                   [[ 1.5342,  0.2735, -0.3676],\n",
       "│                    [ 0.1177, -1.0617,  1.2353]],\n",
       "│           \n",
       "│                   [[ 1.5342,  0.2735, -0.3676],\n",
       "│                    [ 0.1177, -1.0617,  1.2353]],\n",
       "│           \n",
       "│                   [[ 1.5342,  0.2735, -0.3676],\n",
       "│                    [ 0.1177, -1.0617,  1.2353]],\n",
       "│           \n",
       "│                   [[ 1.5342,  0.2735, -0.3676],\n",
       "│                    [ 0.1177, -1.0617,  1.2353]],\n",
       "│           \n",
       "│                   [[ 1.5342,  0.2735, -0.3676],\n",
       "│                    [ 0.1177, -1.0617,  1.2353]],\n",
       "│           \n",
       "│                   [[ 1.5342,  0.2735, -0.3676],\n",
       "│                    [ 0.1177, -1.0617,  1.2353]],\n",
       "│           \n",
       "│                   [[ 1.5342,  0.2735, -0.3676],\n",
       "│                    [ 0.1177, -1.0617,  1.2353]]])\n",
       "└── 'x' --> <FastTreeValue 0x7f9a5c7b0eb0>\n",
       "    └── 'c' --> tensor([[[ 1.7552, -1.5396,  0.1076,  0.0136],\n",
       "                         [-1.4201,  2.1441,  0.2391,  0.8347],\n",
       "                         [ 0.7580,  0.7685,  0.6429, -0.8319]],\n",
       "                \n",
       "                        [[ 1.7552, -1.5396,  0.1076,  0.0136],\n",
       "                         [-1.4201,  2.1441,  0.2391,  0.8347],\n",
       "                         [ 0.7580,  0.7685,  0.6429, -0.8319]],\n",
       "                \n",
       "                        [[ 1.7552, -1.5396,  0.1076,  0.0136],\n",
       "                         [-1.4201,  2.1441,  0.2391,  0.8347],\n",
       "                         [ 0.7580,  0.7685,  0.6429, -0.8319]],\n",
       "                \n",
       "                        [[ 1.7552, -1.5396,  0.1076,  0.0136],\n",
       "                         [-1.4201,  2.1441,  0.2391,  0.8347],\n",
       "                         [ 0.7580,  0.7685,  0.6429, -0.8319]],\n",
       "                \n",
       "                        [[ 1.7552, -1.5396,  0.1076,  0.0136],\n",
       "                         [-1.4201,  2.1441,  0.2391,  0.8347],\n",
       "                         [ 0.7580,  0.7685,  0.6429, -0.8319]],\n",
       "                \n",
       "                        [[ 1.7552, -1.5396,  0.1076,  0.0136],\n",
       "                         [-1.4201,  2.1441,  0.2391,  0.8347],\n",
       "                         [ 0.7580,  0.7685,  0.6429, -0.8319]],\n",
       "                \n",
       "                        [[ 1.7552, -1.5396,  0.1076,  0.0136],\n",
       "                         [-1.4201,  2.1441,  0.2391,  0.8347],\n",
       "                         [ 0.7580,  0.7685,  0.6429, -0.8319]],\n",
       "                \n",
       "                        [[ 1.7552, -1.5396,  0.1076,  0.0136],\n",
       "                         [-1.4201,  2.1441,  0.2391,  0.8347],\n",
       "                         [ 0.7580,  0.7685,  0.6429, -0.8319]]])"
      ]
     },
     "execution_count": 20,
     "metadata": {},
     "output_type": "execute_result"
    }
   ],
   "source": [
    "t_stack = FastTreeValue.func(subside=True)(torch.stack)\n",
    "\n",
    "t_stack(trees)"
   ]
  },
  {
   "cell_type": "code",
   "execution_count": 21,
   "id": "f8b3f415",
   "metadata": {
    "execution": {
     "iopub.execute_input": "2023-05-26T05:47:28.082867Z",
     "iopub.status.busy": "2023-05-26T05:47:28.082642Z",
     "iopub.status.idle": "2023-05-26T05:47:30.774136Z",
     "shell.execute_reply": "2023-05-26T05:47:30.773338Z"
    }
   },
   "outputs": [
    {
     "name": "stdout",
     "output_type": "stream",
     "text": [
      "33 µs ± 72 ns per loop (mean ± std. dev. of 7 runs, 10,000 loops each)\n"
     ]
    }
   ],
   "source": [
    "%timeit t_stack(trees)"
   ]
  },
  {
   "cell_type": "code",
   "execution_count": 22,
   "id": "94b56771",
   "metadata": {
    "execution": {
     "iopub.execute_input": "2023-05-26T05:47:30.777755Z",
     "iopub.status.busy": "2023-05-26T05:47:30.777176Z",
     "iopub.status.idle": "2023-05-26T05:47:30.786504Z",
     "shell.execute_reply": "2023-05-26T05:47:30.785276Z"
    }
   },
   "outputs": [
    {
     "data": {
      "text/plain": [
       "<FastTreeValue 0x7f998f3a4f10>\n",
       "├── 'a' --> tensor([[ 1.5342,  0.2735, -0.3676],\n",
       "│                   [ 0.1177, -1.0617,  1.2353],\n",
       "│                   [ 1.5342,  0.2735, -0.3676],\n",
       "│                   [ 0.1177, -1.0617,  1.2353],\n",
       "│                   [ 1.5342,  0.2735, -0.3676],\n",
       "│                   [ 0.1177, -1.0617,  1.2353],\n",
       "│                   [ 1.5342,  0.2735, -0.3676],\n",
       "│                   [ 0.1177, -1.0617,  1.2353],\n",
       "│                   [ 1.5342,  0.2735, -0.3676],\n",
       "│                   [ 0.1177, -1.0617,  1.2353],\n",
       "│                   [ 1.5342,  0.2735, -0.3676],\n",
       "│                   [ 0.1177, -1.0617,  1.2353],\n",
       "│                   [ 1.5342,  0.2735, -0.3676],\n",
       "│                   [ 0.1177, -1.0617,  1.2353],\n",
       "│                   [ 1.5342,  0.2735, -0.3676],\n",
       "│                   [ 0.1177, -1.0617,  1.2353]])\n",
       "└── 'x' --> <FastTreeValue 0x7f998f3a49d0>\n",
       "    └── 'c' --> tensor([[ 1.7552, -1.5396,  0.1076,  0.0136],\n",
       "                        [-1.4201,  2.1441,  0.2391,  0.8347],\n",
       "                        [ 0.7580,  0.7685,  0.6429, -0.8319],\n",
       "                        [ 1.7552, -1.5396,  0.1076,  0.0136],\n",
       "                        [-1.4201,  2.1441,  0.2391,  0.8347],\n",
       "                        [ 0.7580,  0.7685,  0.6429, -0.8319],\n",
       "                        [ 1.7552, -1.5396,  0.1076,  0.0136],\n",
       "                        [-1.4201,  2.1441,  0.2391,  0.8347],\n",
       "                        [ 0.7580,  0.7685,  0.6429, -0.8319],\n",
       "                        [ 1.7552, -1.5396,  0.1076,  0.0136],\n",
       "                        [-1.4201,  2.1441,  0.2391,  0.8347],\n",
       "                        [ 0.7580,  0.7685,  0.6429, -0.8319],\n",
       "                        [ 1.7552, -1.5396,  0.1076,  0.0136],\n",
       "                        [-1.4201,  2.1441,  0.2391,  0.8347],\n",
       "                        [ 0.7580,  0.7685,  0.6429, -0.8319],\n",
       "                        [ 1.7552, -1.5396,  0.1076,  0.0136],\n",
       "                        [-1.4201,  2.1441,  0.2391,  0.8347],\n",
       "                        [ 0.7580,  0.7685,  0.6429, -0.8319],\n",
       "                        [ 1.7552, -1.5396,  0.1076,  0.0136],\n",
       "                        [-1.4201,  2.1441,  0.2391,  0.8347],\n",
       "                        [ 0.7580,  0.7685,  0.6429, -0.8319],\n",
       "                        [ 1.7552, -1.5396,  0.1076,  0.0136],\n",
       "                        [-1.4201,  2.1441,  0.2391,  0.8347],\n",
       "                        [ 0.7580,  0.7685,  0.6429, -0.8319]])"
      ]
     },
     "execution_count": 22,
     "metadata": {},
     "output_type": "execute_result"
    }
   ],
   "source": [
    "t_cat = FastTreeValue.func(subside=True)(torch.cat)\n",
    "\n",
    "t_cat(trees)"
   ]
  },
  {
   "cell_type": "code",
   "execution_count": 23,
   "id": "5e9c06a6",
   "metadata": {
    "execution": {
     "iopub.execute_input": "2023-05-26T05:47:30.789719Z",
     "iopub.status.busy": "2023-05-26T05:47:30.789333Z",
     "iopub.status.idle": "2023-05-26T05:47:33.282493Z",
     "shell.execute_reply": "2023-05-26T05:47:33.281228Z"
    }
   },
   "outputs": [
    {
     "name": "stdout",
     "output_type": "stream",
     "text": [
      "30.7 µs ± 38.1 ns per loop (mean ± std. dev. of 7 runs, 10,000 loops each)\n"
     ]
    }
   ],
   "source": [
    "%timeit t_cat(trees)"
   ]
  },
  {
   "cell_type": "code",
   "execution_count": 24,
   "id": "a3ab5c8f",
   "metadata": {
    "execution": {
     "iopub.execute_input": "2023-05-26T05:47:33.286043Z",
     "iopub.status.busy": "2023-05-26T05:47:33.285641Z",
     "iopub.status.idle": "2023-05-26T05:47:38.838987Z",
     "shell.execute_reply": "2023-05-26T05:47:38.838176Z"
    }
   },
   "outputs": [
    {
     "name": "stdout",
     "output_type": "stream",
     "text": [
      "68.3 µs ± 68.5 ns per loop (mean ± std. dev. of 7 runs, 10,000 loops each)\n"
     ]
    }
   ],
   "source": [
    "t_split = FastTreeValue.func(rise=True)(torch.split)\n",
    "tree = FastTreeValue({\n",
    "    'obs': torch.randn(8, 4, 84, 84),\n",
    "    'action': torch.randint(0, 6, size=(8, 1,)),\n",
    "    'reward': torch.rand(8, 1),\n",
    "})\n",
    "\n",
    "%timeit t_split(tree, 1)"
   ]
  },
  {
   "cell_type": "markdown",
   "id": "31c3ec0b",
   "metadata": {},
   "source": [
    "### Performance of Tianshou Batch"
   ]
  },
  {
   "cell_type": "code",
   "execution_count": 25,
   "id": "9ead828a",
   "metadata": {
    "execution": {
     "iopub.execute_input": "2023-05-26T05:47:38.842548Z",
     "iopub.status.busy": "2023-05-26T05:47:38.842109Z",
     "iopub.status.idle": "2023-05-26T05:47:38.849980Z",
     "shell.execute_reply": "2023-05-26T05:47:38.849266Z"
    }
   },
   "outputs": [
    {
     "data": {
      "text/plain": [
       "Batch(\n",
       "    x: Batch(\n",
       "           c: tensor([[[ 1.7552, -1.5396,  0.1076,  0.0136],\n",
       "                       [-1.4201,  2.1441,  0.2391,  0.8347],\n",
       "                       [ 0.7580,  0.7685,  0.6429, -0.8319]],\n",
       "              \n",
       "                      [[ 1.7552, -1.5396,  0.1076,  0.0136],\n",
       "                       [-1.4201,  2.1441,  0.2391,  0.8347],\n",
       "                       [ 0.7580,  0.7685,  0.6429, -0.8319]],\n",
       "              \n",
       "                      [[ 1.7552, -1.5396,  0.1076,  0.0136],\n",
       "                       [-1.4201,  2.1441,  0.2391,  0.8347],\n",
       "                       [ 0.7580,  0.7685,  0.6429, -0.8319]],\n",
       "              \n",
       "                      [[ 1.7552, -1.5396,  0.1076,  0.0136],\n",
       "                       [-1.4201,  2.1441,  0.2391,  0.8347],\n",
       "                       [ 0.7580,  0.7685,  0.6429, -0.8319]],\n",
       "              \n",
       "                      [[ 1.7552, -1.5396,  0.1076,  0.0136],\n",
       "                       [-1.4201,  2.1441,  0.2391,  0.8347],\n",
       "                       [ 0.7580,  0.7685,  0.6429, -0.8319]],\n",
       "              \n",
       "                      [[ 1.7552, -1.5396,  0.1076,  0.0136],\n",
       "                       [-1.4201,  2.1441,  0.2391,  0.8347],\n",
       "                       [ 0.7580,  0.7685,  0.6429, -0.8319]],\n",
       "              \n",
       "                      [[ 1.7552, -1.5396,  0.1076,  0.0136],\n",
       "                       [-1.4201,  2.1441,  0.2391,  0.8347],\n",
       "                       [ 0.7580,  0.7685,  0.6429, -0.8319]],\n",
       "              \n",
       "                      [[ 1.7552, -1.5396,  0.1076,  0.0136],\n",
       "                       [-1.4201,  2.1441,  0.2391,  0.8347],\n",
       "                       [ 0.7580,  0.7685,  0.6429, -0.8319]]]),\n",
       "       ),\n",
       "    a: tensor([[[ 1.5342,  0.2735, -0.3676],\n",
       "                [ 0.1177, -1.0617,  1.2353]],\n",
       "       \n",
       "               [[ 1.5342,  0.2735, -0.3676],\n",
       "                [ 0.1177, -1.0617,  1.2353]],\n",
       "       \n",
       "               [[ 1.5342,  0.2735, -0.3676],\n",
       "                [ 0.1177, -1.0617,  1.2353]],\n",
       "       \n",
       "               [[ 1.5342,  0.2735, -0.3676],\n",
       "                [ 0.1177, -1.0617,  1.2353]],\n",
       "       \n",
       "               [[ 1.5342,  0.2735, -0.3676],\n",
       "                [ 0.1177, -1.0617,  1.2353]],\n",
       "       \n",
       "               [[ 1.5342,  0.2735, -0.3676],\n",
       "                [ 0.1177, -1.0617,  1.2353]],\n",
       "       \n",
       "               [[ 1.5342,  0.2735, -0.3676],\n",
       "                [ 0.1177, -1.0617,  1.2353]],\n",
       "       \n",
       "               [[ 1.5342,  0.2735, -0.3676],\n",
       "                [ 0.1177, -1.0617,  1.2353]]]),\n",
       ")"
      ]
     },
     "execution_count": 25,
     "metadata": {},
     "output_type": "execute_result"
    }
   ],
   "source": [
    "batches = [Batch(**_TREE_DATA_2) for _ in range(8)]\n",
    "\n",
    "Batch.stack(batches)"
   ]
  },
  {
   "cell_type": "code",
   "execution_count": 26,
   "id": "ec9037a3",
   "metadata": {
    "execution": {
     "iopub.execute_input": "2023-05-26T05:47:38.853230Z",
     "iopub.status.busy": "2023-05-26T05:47:38.852686Z",
     "iopub.status.idle": "2023-05-26T05:47:45.283737Z",
     "shell.execute_reply": "2023-05-26T05:47:45.283000Z"
    }
   },
   "outputs": [
    {
     "name": "stdout",
     "output_type": "stream",
     "text": [
      "79.2 µs ± 71.6 ns per loop (mean ± std. dev. of 7 runs, 10,000 loops each)\n"
     ]
    }
   ],
   "source": [
    "%timeit Batch.stack(batches)"
   ]
  },
  {
   "cell_type": "code",
   "execution_count": 27,
   "id": "cb8ab77e",
   "metadata": {
    "execution": {
     "iopub.execute_input": "2023-05-26T05:47:45.287272Z",
     "iopub.status.busy": "2023-05-26T05:47:45.286835Z",
     "iopub.status.idle": "2023-05-26T05:47:45.295586Z",
     "shell.execute_reply": "2023-05-26T05:47:45.294750Z"
    }
   },
   "outputs": [
    {
     "data": {
      "text/plain": [
       "Batch(\n",
       "    x: Batch(\n",
       "           c: tensor([[ 1.7552, -1.5396,  0.1076,  0.0136],\n",
       "                      [-1.4201,  2.1441,  0.2391,  0.8347],\n",
       "                      [ 0.7580,  0.7685,  0.6429, -0.8319],\n",
       "                      [ 1.7552, -1.5396,  0.1076,  0.0136],\n",
       "                      [-1.4201,  2.1441,  0.2391,  0.8347],\n",
       "                      [ 0.7580,  0.7685,  0.6429, -0.8319],\n",
       "                      [ 1.7552, -1.5396,  0.1076,  0.0136],\n",
       "                      [-1.4201,  2.1441,  0.2391,  0.8347],\n",
       "                      [ 0.7580,  0.7685,  0.6429, -0.8319],\n",
       "                      [ 1.7552, -1.5396,  0.1076,  0.0136],\n",
       "                      [-1.4201,  2.1441,  0.2391,  0.8347],\n",
       "                      [ 0.7580,  0.7685,  0.6429, -0.8319],\n",
       "                      [ 1.7552, -1.5396,  0.1076,  0.0136],\n",
       "                      [-1.4201,  2.1441,  0.2391,  0.8347],\n",
       "                      [ 0.7580,  0.7685,  0.6429, -0.8319],\n",
       "                      [ 1.7552, -1.5396,  0.1076,  0.0136],\n",
       "                      [-1.4201,  2.1441,  0.2391,  0.8347],\n",
       "                      [ 0.7580,  0.7685,  0.6429, -0.8319],\n",
       "                      [ 1.7552, -1.5396,  0.1076,  0.0136],\n",
       "                      [-1.4201,  2.1441,  0.2391,  0.8347],\n",
       "                      [ 0.7580,  0.7685,  0.6429, -0.8319],\n",
       "                      [ 1.7552, -1.5396,  0.1076,  0.0136],\n",
       "                      [-1.4201,  2.1441,  0.2391,  0.8347],\n",
       "                      [ 0.7580,  0.7685,  0.6429, -0.8319]]),\n",
       "       ),\n",
       "    a: tensor([[ 1.5342,  0.2735, -0.3676],\n",
       "               [ 0.1177, -1.0617,  1.2353],\n",
       "               [ 1.5342,  0.2735, -0.3676],\n",
       "               [ 0.1177, -1.0617,  1.2353],\n",
       "               [ 1.5342,  0.2735, -0.3676],\n",
       "               [ 0.1177, -1.0617,  1.2353],\n",
       "               [ 1.5342,  0.2735, -0.3676],\n",
       "               [ 0.1177, -1.0617,  1.2353],\n",
       "               [ 1.5342,  0.2735, -0.3676],\n",
       "               [ 0.1177, -1.0617,  1.2353],\n",
       "               [ 1.5342,  0.2735, -0.3676],\n",
       "               [ 0.1177, -1.0617,  1.2353],\n",
       "               [ 1.5342,  0.2735, -0.3676],\n",
       "               [ 0.1177, -1.0617,  1.2353],\n",
       "               [ 1.5342,  0.2735, -0.3676],\n",
       "               [ 0.1177, -1.0617,  1.2353]]),\n",
       ")"
      ]
     },
     "execution_count": 27,
     "metadata": {},
     "output_type": "execute_result"
    }
   ],
   "source": [
    "Batch.cat(batches)"
   ]
  },
  {
   "cell_type": "code",
   "execution_count": 28,
   "id": "18dfb045",
   "metadata": {
    "execution": {
     "iopub.execute_input": "2023-05-26T05:47:45.298892Z",
     "iopub.status.busy": "2023-05-26T05:47:45.298303Z",
     "iopub.status.idle": "2023-05-26T05:47:57.239022Z",
     "shell.execute_reply": "2023-05-26T05:47:57.238122Z"
    }
   },
   "outputs": [
    {
     "name": "stdout",
     "output_type": "stream",
     "text": [
      "147 µs ± 148 ns per loop (mean ± std. dev. of 7 runs, 10,000 loops each)\n"
     ]
    }
   ],
   "source": [
    "%timeit Batch.cat(batches)"
   ]
  },
  {
   "cell_type": "code",
   "execution_count": 29,
   "id": "c6688e51",
   "metadata": {
    "execution": {
     "iopub.execute_input": "2023-05-26T05:47:57.242404Z",
     "iopub.status.busy": "2023-05-26T05:47:57.242016Z",
     "iopub.status.idle": "2023-05-26T05:48:00.084594Z",
     "shell.execute_reply": "2023-05-26T05:48:00.083769Z"
    }
   },
   "outputs": [
    {
     "name": "stdout",
     "output_type": "stream",
     "text": [
      "349 µs ± 3.22 µs per loop (mean ± std. dev. of 7 runs, 1,000 loops each)\n"
     ]
    }
   ],
   "source": [
    "batch = Batch({\n",
    "    'obs': torch.randn(8, 4, 84, 84),\n",
    "    'action': torch.randint(0, 6, size=(8, 1,)),\n",
    "    'reward': torch.rand(8, 1)}\n",
    ")\n",
    "\n",
    "%timeit list(Batch.split(batch, 1, shuffle=False, merge_last=True))"
   ]
  },
  {
   "cell_type": "code",
   "execution_count": null,
   "id": "2539fbd9",
   "metadata": {},
   "outputs": [],
   "source": []
  }
 ],
 "metadata": {
  "kernelspec": {
   "display_name": "Python 3 (ipykernel)",
   "language": "python",
   "name": "python3"
  },
  "language_info": {
   "codemirror_mode": {
    "name": "ipython",
    "version": 3
   },
   "file_extension": ".py",
   "mimetype": "text/x-python",
   "name": "python",
   "nbconvert_exporter": "python",
   "pygments_lexer": "ipython3",
   "version": "3.8.16"
  }
 },
 "nbformat": 4,
 "nbformat_minor": 5
}
