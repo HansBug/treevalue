{
 "cells": [
  {
   "cell_type": "markdown",
   "id": "9d39d946",
   "metadata": {},
   "source": [
    "# Comparison Between TreeValue and Tianshou Batch"
   ]
  },
  {
   "cell_type": "markdown",
   "id": "3c6db2d4",
   "metadata": {},
   "source": [
    "In this section, we will take a look at the feature and performance of the [Tianshou Batch](https://github.com/thu-ml/tianshou) library, which is developed by Tsinghua Machine Learning Group."
   ]
  },
  {
   "cell_type": "markdown",
   "id": "069361b0",
   "metadata": {},
   "source": [
    "Before starting the comparison, let us define some thing."
   ]
  },
  {
   "cell_type": "code",
   "execution_count": 1,
   "id": "06fc8d26",
   "metadata": {
    "execution": {
     "iopub.execute_input": "2023-05-26T07:39:02.738497Z",
     "iopub.status.busy": "2023-05-26T07:39:02.737076Z",
     "iopub.status.idle": "2023-05-26T07:39:04.160957Z",
     "shell.execute_reply": "2023-05-26T07:39:04.160153Z"
    }
   },
   "outputs": [],
   "source": [
    "import torch \n",
    "\n",
    "_TREE_DATA_1 = {'a': 1, 'b': 2, 'x': {'c': 3, 'd': 4}}\n",
    "_TREE_DATA_2 = {\n",
    "    'a': torch.randn(2, 3), \n",
    "    'x': {\n",
    "        'c': torch.randn(3, 4)\n",
    "    },\n",
    "}\n",
    "_TREE_DATA_3 = {\n",
    "    'obs': torch.randn(4, 84, 84),\n",
    "    'action': torch.randint(0, 6, size=(1,)),\n",
    "    'reward': torch.rand(1),\n",
    "}"
   ]
  },
  {
   "cell_type": "markdown",
   "id": "83461b25",
   "metadata": {},
   "source": [
    "## Read and Write Operation"
   ]
  },
  {
   "cell_type": "markdown",
   "id": "067b3f73",
   "metadata": {},
   "source": [
    "Reading and writing are the two most common operations in the tree data structure based on the data model (TreeValue and Tianshou Batch both belong to this type), so this section will compare the reading and writing performance of these two libraries."
   ]
  },
  {
   "cell_type": "markdown",
   "id": "5d09a5b7",
   "metadata": {},
   "source": [
    "### TreeValue's Get and Set"
   ]
  },
  {
   "cell_type": "code",
   "execution_count": 2,
   "id": "9519c4bb",
   "metadata": {
    "execution": {
     "iopub.execute_input": "2023-05-26T07:39:04.165839Z",
     "iopub.status.busy": "2023-05-26T07:39:04.165274Z",
     "iopub.status.idle": "2023-05-26T07:39:04.460219Z",
     "shell.execute_reply": "2023-05-26T07:39:04.459381Z"
    }
   },
   "outputs": [],
   "source": [
    "from treevalue import FastTreeValue\n",
    "\n",
    "t = FastTreeValue(_TREE_DATA_2)"
   ]
  },
  {
   "cell_type": "code",
   "execution_count": 3,
   "id": "11c37677",
   "metadata": {
    "execution": {
     "iopub.execute_input": "2023-05-26T07:39:04.464362Z",
     "iopub.status.busy": "2023-05-26T07:39:04.463826Z",
     "iopub.status.idle": "2023-05-26T07:39:04.476864Z",
     "shell.execute_reply": "2023-05-26T07:39:04.476213Z"
    }
   },
   "outputs": [
    {
     "data": {
      "text/plain": [
       "<FastTreeValue 0x7f28cc7d3b80>\n",
       "├── 'a' --> tensor([[ 0.9911, -0.1099, -2.0049],\n",
       "│                   [-1.0945,  0.2374, -0.2804]])\n",
       "└── 'x' --> <FastTreeValue 0x7f28cc7d3a60>\n",
       "    └── 'c' --> tensor([[ 0.3893, -2.6018,  0.6255, -1.8468],\n",
       "                        [-0.0036, -3.4258,  0.8249,  0.3328],\n",
       "                        [ 2.0975, -2.0692, -0.6502, -1.6187]])"
      ]
     },
     "execution_count": 3,
     "metadata": {},
     "output_type": "execute_result"
    }
   ],
   "source": [
    "t"
   ]
  },
  {
   "cell_type": "code",
   "execution_count": 4,
   "id": "fd70b0b9",
   "metadata": {
    "execution": {
     "iopub.execute_input": "2023-05-26T07:39:04.480330Z",
     "iopub.status.busy": "2023-05-26T07:39:04.479789Z",
     "iopub.status.idle": "2023-05-26T07:39:04.484993Z",
     "shell.execute_reply": "2023-05-26T07:39:04.484297Z"
    }
   },
   "outputs": [
    {
     "data": {
      "text/plain": [
       "tensor([[ 0.9911, -0.1099, -2.0049],\n",
       "        [-1.0945,  0.2374, -0.2804]])"
      ]
     },
     "execution_count": 4,
     "metadata": {},
     "output_type": "execute_result"
    }
   ],
   "source": [
    "t.a"
   ]
  },
  {
   "cell_type": "code",
   "execution_count": 5,
   "id": "c18197bd",
   "metadata": {
    "execution": {
     "iopub.execute_input": "2023-05-26T07:39:04.488290Z",
     "iopub.status.busy": "2023-05-26T07:39:04.487919Z",
     "iopub.status.idle": "2023-05-26T07:39:09.835295Z",
     "shell.execute_reply": "2023-05-26T07:39:09.834357Z"
    }
   },
   "outputs": [
    {
     "name": "stdout",
     "output_type": "stream",
     "text": [
      "65.9 ns ± 0.0135 ns per loop (mean ± std. dev. of 7 runs, 10,000,000 loops each)\n"
     ]
    }
   ],
   "source": [
    "%timeit t.a"
   ]
  },
  {
   "cell_type": "code",
   "execution_count": 6,
   "id": "bd52f867",
   "metadata": {
    "execution": {
     "iopub.execute_input": "2023-05-26T07:39:09.839183Z",
     "iopub.status.busy": "2023-05-26T07:39:09.838777Z",
     "iopub.status.idle": "2023-05-26T07:39:09.847565Z",
     "shell.execute_reply": "2023-05-26T07:39:09.846943Z"
    }
   },
   "outputs": [
    {
     "data": {
      "text/plain": [
       "<FastTreeValue 0x7f28cc7d3b80>\n",
       "├── 'a' --> tensor([[-0.1365, -0.7505,  0.4394],\n",
       "│                   [-0.8801, -0.4917, -0.4603]])\n",
       "└── 'x' --> <FastTreeValue 0x7f28cc7d3a60>\n",
       "    └── 'c' --> tensor([[ 0.3893, -2.6018,  0.6255, -1.8468],\n",
       "                        [-0.0036, -3.4258,  0.8249,  0.3328],\n",
       "                        [ 2.0975, -2.0692, -0.6502, -1.6187]])"
      ]
     },
     "execution_count": 6,
     "metadata": {},
     "output_type": "execute_result"
    }
   ],
   "source": [
    "new_value = torch.randn(2, 3)\n",
    "t.a = new_value\n",
    "\n",
    "t"
   ]
  },
  {
   "cell_type": "code",
   "execution_count": 7,
   "id": "bbe04d1c",
   "metadata": {
    "execution": {
     "iopub.execute_input": "2023-05-26T07:39:09.850593Z",
     "iopub.status.busy": "2023-05-26T07:39:09.850153Z",
     "iopub.status.idle": "2023-05-26T07:39:15.207697Z",
     "shell.execute_reply": "2023-05-26T07:39:15.206764Z"
    }
   },
   "outputs": [
    {
     "name": "stdout",
     "output_type": "stream",
     "text": [
      "66 ns ± 0.199 ns per loop (mean ± std. dev. of 7 runs, 10,000,000 loops each)\n"
     ]
    }
   ],
   "source": [
    "%timeit t.a = new_value"
   ]
  },
  {
   "cell_type": "markdown",
   "id": "48c49731",
   "metadata": {},
   "source": [
    "### Tianshou Batch's Get and Set"
   ]
  },
  {
   "cell_type": "code",
   "execution_count": 8,
   "id": "f1bb14c1",
   "metadata": {
    "execution": {
     "iopub.execute_input": "2023-05-26T07:39:15.211474Z",
     "iopub.status.busy": "2023-05-26T07:39:15.210971Z",
     "iopub.status.idle": "2023-05-26T07:39:15.598230Z",
     "shell.execute_reply": "2023-05-26T07:39:15.597494Z"
    }
   },
   "outputs": [],
   "source": [
    "from tianshou.data import Batch\n",
    "\n",
    "b = Batch(**_TREE_DATA_2)"
   ]
  },
  {
   "cell_type": "code",
   "execution_count": 9,
   "id": "cb0777c3",
   "metadata": {
    "execution": {
     "iopub.execute_input": "2023-05-26T07:39:15.602080Z",
     "iopub.status.busy": "2023-05-26T07:39:15.601491Z",
     "iopub.status.idle": "2023-05-26T07:39:15.607708Z",
     "shell.execute_reply": "2023-05-26T07:39:15.607011Z"
    }
   },
   "outputs": [
    {
     "data": {
      "text/plain": [
       "Batch(\n",
       "    a: tensor([[ 0.9911, -0.1099, -2.0049],\n",
       "               [-1.0945,  0.2374, -0.2804]]),\n",
       "    x: Batch(\n",
       "           c: tensor([[ 0.3893, -2.6018,  0.6255, -1.8468],\n",
       "                      [-0.0036, -3.4258,  0.8249,  0.3328],\n",
       "                      [ 2.0975, -2.0692, -0.6502, -1.6187]]),\n",
       "       ),\n",
       ")"
      ]
     },
     "execution_count": 9,
     "metadata": {},
     "output_type": "execute_result"
    }
   ],
   "source": [
    "b"
   ]
  },
  {
   "cell_type": "code",
   "execution_count": 10,
   "id": "43ef8ea3",
   "metadata": {
    "execution": {
     "iopub.execute_input": "2023-05-26T07:39:15.610804Z",
     "iopub.status.busy": "2023-05-26T07:39:15.610427Z",
     "iopub.status.idle": "2023-05-26T07:39:15.615476Z",
     "shell.execute_reply": "2023-05-26T07:39:15.614782Z"
    }
   },
   "outputs": [
    {
     "data": {
      "text/plain": [
       "tensor([[ 0.9911, -0.1099, -2.0049],\n",
       "        [-1.0945,  0.2374, -0.2804]])"
      ]
     },
     "execution_count": 10,
     "metadata": {},
     "output_type": "execute_result"
    }
   ],
   "source": [
    "b.a"
   ]
  },
  {
   "cell_type": "code",
   "execution_count": 11,
   "id": "b785ab72",
   "metadata": {
    "execution": {
     "iopub.execute_input": "2023-05-26T07:39:15.618705Z",
     "iopub.status.busy": "2023-05-26T07:39:15.618269Z",
     "iopub.status.idle": "2023-05-26T07:39:20.324227Z",
     "shell.execute_reply": "2023-05-26T07:39:20.323325Z"
    }
   },
   "outputs": [
    {
     "name": "stdout",
     "output_type": "stream",
     "text": [
      "57.9 ns ± 0.167 ns per loop (mean ± std. dev. of 7 runs, 10,000,000 loops each)\n"
     ]
    }
   ],
   "source": [
    "%timeit b.a"
   ]
  },
  {
   "cell_type": "code",
   "execution_count": 12,
   "id": "ad54dc69",
   "metadata": {
    "execution": {
     "iopub.execute_input": "2023-05-26T07:39:20.328145Z",
     "iopub.status.busy": "2023-05-26T07:39:20.327528Z",
     "iopub.status.idle": "2023-05-26T07:39:20.334018Z",
     "shell.execute_reply": "2023-05-26T07:39:20.333303Z"
    }
   },
   "outputs": [
    {
     "data": {
      "text/plain": [
       "Batch(\n",
       "    a: tensor([[0.0410, 0.9780, 0.6365],\n",
       "               [2.6338, 0.9338, 0.4966]]),\n",
       "    x: Batch(\n",
       "           c: tensor([[ 0.3893, -2.6018,  0.6255, -1.8468],\n",
       "                      [-0.0036, -3.4258,  0.8249,  0.3328],\n",
       "                      [ 2.0975, -2.0692, -0.6502, -1.6187]]),\n",
       "       ),\n",
       ")"
      ]
     },
     "execution_count": 12,
     "metadata": {},
     "output_type": "execute_result"
    }
   ],
   "source": [
    "new_value = torch.randn(2, 3)\n",
    "b.a = new_value\n",
    "\n",
    "b"
   ]
  },
  {
   "cell_type": "code",
   "execution_count": 13,
   "id": "29b1d0bf",
   "metadata": {
    "execution": {
     "iopub.execute_input": "2023-05-26T07:39:20.337029Z",
     "iopub.status.busy": "2023-05-26T07:39:20.336659Z",
     "iopub.status.idle": "2023-05-26T07:39:24.582262Z",
     "shell.execute_reply": "2023-05-26T07:39:24.581570Z"
    }
   },
   "outputs": [
    {
     "name": "stdout",
     "output_type": "stream",
     "text": [
      "523 ns ± 2.35 ns per loop (mean ± std. dev. of 7 runs, 1,000,000 loops each)\n"
     ]
    }
   ],
   "source": [
    "%timeit b.a = new_value"
   ]
  },
  {
   "cell_type": "markdown",
   "id": "b61ad1d0",
   "metadata": {},
   "source": [
    "## Initialization"
   ]
  },
  {
   "cell_type": "markdown",
   "id": "d70f0d54",
   "metadata": {},
   "source": [
    "### TreeValue's Initialization"
   ]
  },
  {
   "cell_type": "code",
   "execution_count": 14,
   "id": "d32a679b",
   "metadata": {
    "execution": {
     "iopub.execute_input": "2023-05-26T07:39:24.585889Z",
     "iopub.status.busy": "2023-05-26T07:39:24.585279Z",
     "iopub.status.idle": "2023-05-26T07:39:31.308802Z",
     "shell.execute_reply": "2023-05-26T07:39:31.308004Z"
    }
   },
   "outputs": [
    {
     "name": "stdout",
     "output_type": "stream",
     "text": [
      "828 ns ± 0.693 ns per loop (mean ± std. dev. of 7 runs, 1,000,000 loops each)\n"
     ]
    }
   ],
   "source": [
    "%timeit FastTreeValue(_TREE_DATA_1)"
   ]
  },
  {
   "cell_type": "markdown",
   "id": "24f3707b",
   "metadata": {},
   "source": [
    "### Tianshou Batch's Initialization"
   ]
  },
  {
   "cell_type": "code",
   "execution_count": 15,
   "id": "ac3958df",
   "metadata": {
    "execution": {
     "iopub.execute_input": "2023-05-26T07:39:31.312464Z",
     "iopub.status.busy": "2023-05-26T07:39:31.311797Z",
     "iopub.status.idle": "2023-05-26T07:39:39.899213Z",
     "shell.execute_reply": "2023-05-26T07:39:39.898446Z"
    }
   },
   "outputs": [
    {
     "name": "stdout",
     "output_type": "stream",
     "text": [
      "10.6 µs ± 15.4 ns per loop (mean ± std. dev. of 7 runs, 100,000 loops each)\n"
     ]
    }
   ],
   "source": [
    "%timeit Batch(**_TREE_DATA_1)"
   ]
  },
  {
   "cell_type": "markdown",
   "id": "1ab82e2d",
   "metadata": {},
   "source": [
    "## Deep Copy Operation"
   ]
  },
  {
   "cell_type": "code",
   "execution_count": 16,
   "id": "210a9442",
   "metadata": {
    "execution": {
     "iopub.execute_input": "2023-05-26T07:39:39.903059Z",
     "iopub.status.busy": "2023-05-26T07:39:39.902548Z",
     "iopub.status.idle": "2023-05-26T07:39:39.907283Z",
     "shell.execute_reply": "2023-05-26T07:39:39.906629Z"
    }
   },
   "outputs": [],
   "source": [
    "import copy"
   ]
  },
  {
   "cell_type": "markdown",
   "id": "5a736274",
   "metadata": {},
   "source": [
    "### Deep Copy of TreeValue"
   ]
  },
  {
   "cell_type": "code",
   "execution_count": 17,
   "id": "f9bcadd6",
   "metadata": {
    "execution": {
     "iopub.execute_input": "2023-05-26T07:39:39.910262Z",
     "iopub.status.busy": "2023-05-26T07:39:39.909887Z",
     "iopub.status.idle": "2023-05-26T07:39:51.590317Z",
     "shell.execute_reply": "2023-05-26T07:39:51.589675Z"
    }
   },
   "outputs": [
    {
     "name": "stdout",
     "output_type": "stream",
     "text": [
      "144 µs ± 719 ns per loop (mean ± std. dev. of 7 runs, 10,000 loops each)\n"
     ]
    }
   ],
   "source": [
    "t3 = FastTreeValue(_TREE_DATA_3)\n",
    "%timeit copy.deepcopy(t3)"
   ]
  },
  {
   "cell_type": "markdown",
   "id": "bf8be7ea",
   "metadata": {},
   "source": [
    "### Deep Copy of Tianshou Batch"
   ]
  },
  {
   "cell_type": "code",
   "execution_count": 18,
   "id": "91998e6f",
   "metadata": {
    "execution": {
     "iopub.execute_input": "2023-05-26T07:39:51.593605Z",
     "iopub.status.busy": "2023-05-26T07:39:51.593188Z",
     "iopub.status.idle": "2023-05-26T07:40:03.285269Z",
     "shell.execute_reply": "2023-05-26T07:40:03.284505Z"
    }
   },
   "outputs": [
    {
     "name": "stdout",
     "output_type": "stream",
     "text": [
      "144 µs ± 511 ns per loop (mean ± std. dev. of 7 runs, 10,000 loops each)\n"
     ]
    }
   ],
   "source": [
    "b3 = Batch(**_TREE_DATA_3)\n",
    "%timeit copy.deepcopy(b3)"
   ]
  },
  {
   "cell_type": "markdown",
   "id": "223162fb",
   "metadata": {},
   "source": [
    "## Stack, Concat and Split Operation"
   ]
  },
  {
   "cell_type": "markdown",
   "id": "85fa4a73",
   "metadata": {},
   "source": [
    "### Performance of TreeValue"
   ]
  },
  {
   "cell_type": "code",
   "execution_count": 19,
   "id": "a0c2b697",
   "metadata": {
    "execution": {
     "iopub.execute_input": "2023-05-26T07:40:03.288632Z",
     "iopub.status.busy": "2023-05-26T07:40:03.288347Z",
     "iopub.status.idle": "2023-05-26T07:40:03.293482Z",
     "shell.execute_reply": "2023-05-26T07:40:03.292794Z"
    }
   },
   "outputs": [],
   "source": [
    "trees = [FastTreeValue(_TREE_DATA_2) for _ in range(8)]"
   ]
  },
  {
   "cell_type": "code",
   "execution_count": 20,
   "id": "017ea5a5",
   "metadata": {
    "execution": {
     "iopub.execute_input": "2023-05-26T07:40:03.296706Z",
     "iopub.status.busy": "2023-05-26T07:40:03.296051Z",
     "iopub.status.idle": "2023-05-26T07:40:03.304021Z",
     "shell.execute_reply": "2023-05-26T07:40:03.303303Z"
    }
   },
   "outputs": [
    {
     "data": {
      "text/plain": [
       "<FastTreeValue 0x7f27f7582a90>\n",
       "├── 'a' --> tensor([[[ 0.9911, -0.1099, -2.0049],\n",
       "│                    [-1.0945,  0.2374, -0.2804]],\n",
       "│           \n",
       "│                   [[ 0.9911, -0.1099, -2.0049],\n",
       "│                    [-1.0945,  0.2374, -0.2804]],\n",
       "│           \n",
       "│                   [[ 0.9911, -0.1099, -2.0049],\n",
       "│                    [-1.0945,  0.2374, -0.2804]],\n",
       "│           \n",
       "│                   [[ 0.9911, -0.1099, -2.0049],\n",
       "│                    [-1.0945,  0.2374, -0.2804]],\n",
       "│           \n",
       "│                   [[ 0.9911, -0.1099, -2.0049],\n",
       "│                    [-1.0945,  0.2374, -0.2804]],\n",
       "│           \n",
       "│                   [[ 0.9911, -0.1099, -2.0049],\n",
       "│                    [-1.0945,  0.2374, -0.2804]],\n",
       "│           \n",
       "│                   [[ 0.9911, -0.1099, -2.0049],\n",
       "│                    [-1.0945,  0.2374, -0.2804]],\n",
       "│           \n",
       "│                   [[ 0.9911, -0.1099, -2.0049],\n",
       "│                    [-1.0945,  0.2374, -0.2804]]])\n",
       "└── 'x' --> <FastTreeValue 0x7f27f7582be0>\n",
       "    └── 'c' --> tensor([[[ 0.3893, -2.6018,  0.6255, -1.8468],\n",
       "                         [-0.0036, -3.4258,  0.8249,  0.3328],\n",
       "                         [ 2.0975, -2.0692, -0.6502, -1.6187]],\n",
       "                \n",
       "                        [[ 0.3893, -2.6018,  0.6255, -1.8468],\n",
       "                         [-0.0036, -3.4258,  0.8249,  0.3328],\n",
       "                         [ 2.0975, -2.0692, -0.6502, -1.6187]],\n",
       "                \n",
       "                        [[ 0.3893, -2.6018,  0.6255, -1.8468],\n",
       "                         [-0.0036, -3.4258,  0.8249,  0.3328],\n",
       "                         [ 2.0975, -2.0692, -0.6502, -1.6187]],\n",
       "                \n",
       "                        [[ 0.3893, -2.6018,  0.6255, -1.8468],\n",
       "                         [-0.0036, -3.4258,  0.8249,  0.3328],\n",
       "                         [ 2.0975, -2.0692, -0.6502, -1.6187]],\n",
       "                \n",
       "                        [[ 0.3893, -2.6018,  0.6255, -1.8468],\n",
       "                         [-0.0036, -3.4258,  0.8249,  0.3328],\n",
       "                         [ 2.0975, -2.0692, -0.6502, -1.6187]],\n",
       "                \n",
       "                        [[ 0.3893, -2.6018,  0.6255, -1.8468],\n",
       "                         [-0.0036, -3.4258,  0.8249,  0.3328],\n",
       "                         [ 2.0975, -2.0692, -0.6502, -1.6187]],\n",
       "                \n",
       "                        [[ 0.3893, -2.6018,  0.6255, -1.8468],\n",
       "                         [-0.0036, -3.4258,  0.8249,  0.3328],\n",
       "                         [ 2.0975, -2.0692, -0.6502, -1.6187]],\n",
       "                \n",
       "                        [[ 0.3893, -2.6018,  0.6255, -1.8468],\n",
       "                         [-0.0036, -3.4258,  0.8249,  0.3328],\n",
       "                         [ 2.0975, -2.0692, -0.6502, -1.6187]]])"
      ]
     },
     "execution_count": 20,
     "metadata": {},
     "output_type": "execute_result"
    }
   ],
   "source": [
    "t_stack = FastTreeValue.func(subside=True)(torch.stack)\n",
    "\n",
    "t_stack(trees)"
   ]
  },
  {
   "cell_type": "code",
   "execution_count": 21,
   "id": "f8b3f415",
   "metadata": {
    "execution": {
     "iopub.execute_input": "2023-05-26T07:40:03.306944Z",
     "iopub.status.busy": "2023-05-26T07:40:03.306572Z",
     "iopub.status.idle": "2023-05-26T07:40:06.007462Z",
     "shell.execute_reply": "2023-05-26T07:40:06.006771Z"
    }
   },
   "outputs": [
    {
     "name": "stdout",
     "output_type": "stream",
     "text": [
      "33.2 µs ± 61.3 ns per loop (mean ± std. dev. of 7 runs, 10,000 loops each)\n"
     ]
    }
   ],
   "source": [
    "%timeit t_stack(trees)"
   ]
  },
  {
   "cell_type": "code",
   "execution_count": 22,
   "id": "94b56771",
   "metadata": {
    "execution": {
     "iopub.execute_input": "2023-05-26T07:40:06.010839Z",
     "iopub.status.busy": "2023-05-26T07:40:06.010343Z",
     "iopub.status.idle": "2023-05-26T07:40:06.018139Z",
     "shell.execute_reply": "2023-05-26T07:40:06.017424Z"
    }
   },
   "outputs": [
    {
     "data": {
      "text/plain": [
       "<FastTreeValue 0x7f28d187aa30>\n",
       "├── 'a' --> tensor([[ 0.9911, -0.1099, -2.0049],\n",
       "│                   [-1.0945,  0.2374, -0.2804],\n",
       "│                   [ 0.9911, -0.1099, -2.0049],\n",
       "│                   [-1.0945,  0.2374, -0.2804],\n",
       "│                   [ 0.9911, -0.1099, -2.0049],\n",
       "│                   [-1.0945,  0.2374, -0.2804],\n",
       "│                   [ 0.9911, -0.1099, -2.0049],\n",
       "│                   [-1.0945,  0.2374, -0.2804],\n",
       "│                   [ 0.9911, -0.1099, -2.0049],\n",
       "│                   [-1.0945,  0.2374, -0.2804],\n",
       "│                   [ 0.9911, -0.1099, -2.0049],\n",
       "│                   [-1.0945,  0.2374, -0.2804],\n",
       "│                   [ 0.9911, -0.1099, -2.0049],\n",
       "│                   [-1.0945,  0.2374, -0.2804],\n",
       "│                   [ 0.9911, -0.1099, -2.0049],\n",
       "│                   [-1.0945,  0.2374, -0.2804]])\n",
       "└── 'x' --> <FastTreeValue 0x7f28d187a7f0>\n",
       "    └── 'c' --> tensor([[ 0.3893, -2.6018,  0.6255, -1.8468],\n",
       "                        [-0.0036, -3.4258,  0.8249,  0.3328],\n",
       "                        [ 2.0975, -2.0692, -0.6502, -1.6187],\n",
       "                        [ 0.3893, -2.6018,  0.6255, -1.8468],\n",
       "                        [-0.0036, -3.4258,  0.8249,  0.3328],\n",
       "                        [ 2.0975, -2.0692, -0.6502, -1.6187],\n",
       "                        [ 0.3893, -2.6018,  0.6255, -1.8468],\n",
       "                        [-0.0036, -3.4258,  0.8249,  0.3328],\n",
       "                        [ 2.0975, -2.0692, -0.6502, -1.6187],\n",
       "                        [ 0.3893, -2.6018,  0.6255, -1.8468],\n",
       "                        [-0.0036, -3.4258,  0.8249,  0.3328],\n",
       "                        [ 2.0975, -2.0692, -0.6502, -1.6187],\n",
       "                        [ 0.3893, -2.6018,  0.6255, -1.8468],\n",
       "                        [-0.0036, -3.4258,  0.8249,  0.3328],\n",
       "                        [ 2.0975, -2.0692, -0.6502, -1.6187],\n",
       "                        [ 0.3893, -2.6018,  0.6255, -1.8468],\n",
       "                        [-0.0036, -3.4258,  0.8249,  0.3328],\n",
       "                        [ 2.0975, -2.0692, -0.6502, -1.6187],\n",
       "                        [ 0.3893, -2.6018,  0.6255, -1.8468],\n",
       "                        [-0.0036, -3.4258,  0.8249,  0.3328],\n",
       "                        [ 2.0975, -2.0692, -0.6502, -1.6187],\n",
       "                        [ 0.3893, -2.6018,  0.6255, -1.8468],\n",
       "                        [-0.0036, -3.4258,  0.8249,  0.3328],\n",
       "                        [ 2.0975, -2.0692, -0.6502, -1.6187]])"
      ]
     },
     "execution_count": 22,
     "metadata": {},
     "output_type": "execute_result"
    }
   ],
   "source": [
    "t_cat = FastTreeValue.func(subside=True)(torch.cat)\n",
    "\n",
    "t_cat(trees)"
   ]
  },
  {
   "cell_type": "code",
   "execution_count": 23,
   "id": "5e9c06a6",
   "metadata": {
    "execution": {
     "iopub.execute_input": "2023-05-26T07:40:06.021249Z",
     "iopub.status.busy": "2023-05-26T07:40:06.020871Z",
     "iopub.status.idle": "2023-05-26T07:40:08.538832Z",
     "shell.execute_reply": "2023-05-26T07:40:08.538074Z"
    }
   },
   "outputs": [
    {
     "name": "stdout",
     "output_type": "stream",
     "text": [
      "31 µs ± 75.7 ns per loop (mean ± std. dev. of 7 runs, 10,000 loops each)\n"
     ]
    }
   ],
   "source": [
    "%timeit t_cat(trees)"
   ]
  },
  {
   "cell_type": "code",
   "execution_count": 24,
   "id": "a3ab5c8f",
   "metadata": {
    "execution": {
     "iopub.execute_input": "2023-05-26T07:40:08.542396Z",
     "iopub.status.busy": "2023-05-26T07:40:08.541883Z",
     "iopub.status.idle": "2023-05-26T07:40:14.083870Z",
     "shell.execute_reply": "2023-05-26T07:40:14.082417Z"
    }
   },
   "outputs": [
    {
     "name": "stdout",
     "output_type": "stream",
     "text": [
      "68.2 µs ± 463 ns per loop (mean ± std. dev. of 7 runs, 10,000 loops each)\n"
     ]
    }
   ],
   "source": [
    "t_split = FastTreeValue.func(rise=True)(torch.split)\n",
    "tree = FastTreeValue({\n",
    "    'obs': torch.randn(8, 4, 84, 84),\n",
    "    'action': torch.randint(0, 6, size=(8, 1,)),\n",
    "    'reward': torch.rand(8, 1),\n",
    "})\n",
    "\n",
    "%timeit t_split(tree, 1)"
   ]
  },
  {
   "cell_type": "markdown",
   "id": "31c3ec0b",
   "metadata": {},
   "source": [
    "### Performance of Tianshou Batch"
   ]
  },
  {
   "cell_type": "code",
   "execution_count": 25,
   "id": "9ead828a",
   "metadata": {
    "execution": {
     "iopub.execute_input": "2023-05-26T07:40:14.087510Z",
     "iopub.status.busy": "2023-05-26T07:40:14.087230Z",
     "iopub.status.idle": "2023-05-26T07:40:14.096179Z",
     "shell.execute_reply": "2023-05-26T07:40:14.095532Z"
    }
   },
   "outputs": [
    {
     "data": {
      "text/plain": [
       "Batch(\n",
       "    a: tensor([[[ 0.9911, -0.1099, -2.0049],\n",
       "                [-1.0945,  0.2374, -0.2804]],\n",
       "       \n",
       "               [[ 0.9911, -0.1099, -2.0049],\n",
       "                [-1.0945,  0.2374, -0.2804]],\n",
       "       \n",
       "               [[ 0.9911, -0.1099, -2.0049],\n",
       "                [-1.0945,  0.2374, -0.2804]],\n",
       "       \n",
       "               [[ 0.9911, -0.1099, -2.0049],\n",
       "                [-1.0945,  0.2374, -0.2804]],\n",
       "       \n",
       "               [[ 0.9911, -0.1099, -2.0049],\n",
       "                [-1.0945,  0.2374, -0.2804]],\n",
       "       \n",
       "               [[ 0.9911, -0.1099, -2.0049],\n",
       "                [-1.0945,  0.2374, -0.2804]],\n",
       "       \n",
       "               [[ 0.9911, -0.1099, -2.0049],\n",
       "                [-1.0945,  0.2374, -0.2804]],\n",
       "       \n",
       "               [[ 0.9911, -0.1099, -2.0049],\n",
       "                [-1.0945,  0.2374, -0.2804]]]),\n",
       "    x: Batch(\n",
       "           c: tensor([[[ 0.3893, -2.6018,  0.6255, -1.8468],\n",
       "                       [-0.0036, -3.4258,  0.8249,  0.3328],\n",
       "                       [ 2.0975, -2.0692, -0.6502, -1.6187]],\n",
       "              \n",
       "                      [[ 0.3893, -2.6018,  0.6255, -1.8468],\n",
       "                       [-0.0036, -3.4258,  0.8249,  0.3328],\n",
       "                       [ 2.0975, -2.0692, -0.6502, -1.6187]],\n",
       "              \n",
       "                      [[ 0.3893, -2.6018,  0.6255, -1.8468],\n",
       "                       [-0.0036, -3.4258,  0.8249,  0.3328],\n",
       "                       [ 2.0975, -2.0692, -0.6502, -1.6187]],\n",
       "              \n",
       "                      [[ 0.3893, -2.6018,  0.6255, -1.8468],\n",
       "                       [-0.0036, -3.4258,  0.8249,  0.3328],\n",
       "                       [ 2.0975, -2.0692, -0.6502, -1.6187]],\n",
       "              \n",
       "                      [[ 0.3893, -2.6018,  0.6255, -1.8468],\n",
       "                       [-0.0036, -3.4258,  0.8249,  0.3328],\n",
       "                       [ 2.0975, -2.0692, -0.6502, -1.6187]],\n",
       "              \n",
       "                      [[ 0.3893, -2.6018,  0.6255, -1.8468],\n",
       "                       [-0.0036, -3.4258,  0.8249,  0.3328],\n",
       "                       [ 2.0975, -2.0692, -0.6502, -1.6187]],\n",
       "              \n",
       "                      [[ 0.3893, -2.6018,  0.6255, -1.8468],\n",
       "                       [-0.0036, -3.4258,  0.8249,  0.3328],\n",
       "                       [ 2.0975, -2.0692, -0.6502, -1.6187]],\n",
       "              \n",
       "                      [[ 0.3893, -2.6018,  0.6255, -1.8468],\n",
       "                       [-0.0036, -3.4258,  0.8249,  0.3328],\n",
       "                       [ 2.0975, -2.0692, -0.6502, -1.6187]]]),\n",
       "       ),\n",
       ")"
      ]
     },
     "execution_count": 25,
     "metadata": {},
     "output_type": "execute_result"
    }
   ],
   "source": [
    "batches = [Batch(**_TREE_DATA_2) for _ in range(8)]\n",
    "\n",
    "Batch.stack(batches)"
   ]
  },
  {
   "cell_type": "code",
   "execution_count": 26,
   "id": "ec9037a3",
   "metadata": {
    "execution": {
     "iopub.execute_input": "2023-05-26T07:40:14.099398Z",
     "iopub.status.busy": "2023-05-26T07:40:14.099010Z",
     "iopub.status.idle": "2023-05-26T07:40:20.561339Z",
     "shell.execute_reply": "2023-05-26T07:40:20.560594Z"
    }
   },
   "outputs": [
    {
     "name": "stdout",
     "output_type": "stream",
     "text": [
      "79.6 µs ± 160 ns per loop (mean ± std. dev. of 7 runs, 10,000 loops each)\n"
     ]
    }
   ],
   "source": [
    "%timeit Batch.stack(batches)"
   ]
  },
  {
   "cell_type": "code",
   "execution_count": 27,
   "id": "cb8ab77e",
   "metadata": {
    "execution": {
     "iopub.execute_input": "2023-05-26T07:40:20.565084Z",
     "iopub.status.busy": "2023-05-26T07:40:20.564354Z",
     "iopub.status.idle": "2023-05-26T07:40:20.572147Z",
     "shell.execute_reply": "2023-05-26T07:40:20.571426Z"
    }
   },
   "outputs": [
    {
     "data": {
      "text/plain": [
       "Batch(\n",
       "    a: tensor([[ 0.9911, -0.1099, -2.0049],\n",
       "               [-1.0945,  0.2374, -0.2804],\n",
       "               [ 0.9911, -0.1099, -2.0049],\n",
       "               [-1.0945,  0.2374, -0.2804],\n",
       "               [ 0.9911, -0.1099, -2.0049],\n",
       "               [-1.0945,  0.2374, -0.2804],\n",
       "               [ 0.9911, -0.1099, -2.0049],\n",
       "               [-1.0945,  0.2374, -0.2804],\n",
       "               [ 0.9911, -0.1099, -2.0049],\n",
       "               [-1.0945,  0.2374, -0.2804],\n",
       "               [ 0.9911, -0.1099, -2.0049],\n",
       "               [-1.0945,  0.2374, -0.2804],\n",
       "               [ 0.9911, -0.1099, -2.0049],\n",
       "               [-1.0945,  0.2374, -0.2804],\n",
       "               [ 0.9911, -0.1099, -2.0049],\n",
       "               [-1.0945,  0.2374, -0.2804]]),\n",
       "    x: Batch(\n",
       "           c: tensor([[ 0.3893, -2.6018,  0.6255, -1.8468],\n",
       "                      [-0.0036, -3.4258,  0.8249,  0.3328],\n",
       "                      [ 2.0975, -2.0692, -0.6502, -1.6187],\n",
       "                      [ 0.3893, -2.6018,  0.6255, -1.8468],\n",
       "                      [-0.0036, -3.4258,  0.8249,  0.3328],\n",
       "                      [ 2.0975, -2.0692, -0.6502, -1.6187],\n",
       "                      [ 0.3893, -2.6018,  0.6255, -1.8468],\n",
       "                      [-0.0036, -3.4258,  0.8249,  0.3328],\n",
       "                      [ 2.0975, -2.0692, -0.6502, -1.6187],\n",
       "                      [ 0.3893, -2.6018,  0.6255, -1.8468],\n",
       "                      [-0.0036, -3.4258,  0.8249,  0.3328],\n",
       "                      [ 2.0975, -2.0692, -0.6502, -1.6187],\n",
       "                      [ 0.3893, -2.6018,  0.6255, -1.8468],\n",
       "                      [-0.0036, -3.4258,  0.8249,  0.3328],\n",
       "                      [ 2.0975, -2.0692, -0.6502, -1.6187],\n",
       "                      [ 0.3893, -2.6018,  0.6255, -1.8468],\n",
       "                      [-0.0036, -3.4258,  0.8249,  0.3328],\n",
       "                      [ 2.0975, -2.0692, -0.6502, -1.6187],\n",
       "                      [ 0.3893, -2.6018,  0.6255, -1.8468],\n",
       "                      [-0.0036, -3.4258,  0.8249,  0.3328],\n",
       "                      [ 2.0975, -2.0692, -0.6502, -1.6187],\n",
       "                      [ 0.3893, -2.6018,  0.6255, -1.8468],\n",
       "                      [-0.0036, -3.4258,  0.8249,  0.3328],\n",
       "                      [ 2.0975, -2.0692, -0.6502, -1.6187]]),\n",
       "       ),\n",
       ")"
      ]
     },
     "execution_count": 27,
     "metadata": {},
     "output_type": "execute_result"
    }
   ],
   "source": [
    "Batch.cat(batches)"
   ]
  },
  {
   "cell_type": "code",
   "execution_count": 28,
   "id": "18dfb045",
   "metadata": {
    "execution": {
     "iopub.execute_input": "2023-05-26T07:40:20.575104Z",
     "iopub.status.busy": "2023-05-26T07:40:20.574733Z",
     "iopub.status.idle": "2023-05-26T07:40:32.587599Z",
     "shell.execute_reply": "2023-05-26T07:40:32.586822Z"
    }
   },
   "outputs": [
    {
     "name": "stdout",
     "output_type": "stream",
     "text": [
      "148 µs ± 612 ns per loop (mean ± std. dev. of 7 runs, 10,000 loops each)\n"
     ]
    }
   ],
   "source": [
    "%timeit Batch.cat(batches)"
   ]
  },
  {
   "cell_type": "code",
   "execution_count": 29,
   "id": "c6688e51",
   "metadata": {
    "execution": {
     "iopub.execute_input": "2023-05-26T07:40:32.591157Z",
     "iopub.status.busy": "2023-05-26T07:40:32.590622Z",
     "iopub.status.idle": "2023-05-26T07:40:35.385309Z",
     "shell.execute_reply": "2023-05-26T07:40:35.384598Z"
    }
   },
   "outputs": [
    {
     "name": "stdout",
     "output_type": "stream",
     "text": [
      "343 µs ± 2.76 µs per loop (mean ± std. dev. of 7 runs, 1,000 loops each)\n"
     ]
    }
   ],
   "source": [
    "batch = Batch({\n",
    "    'obs': torch.randn(8, 4, 84, 84),\n",
    "    'action': torch.randint(0, 6, size=(8, 1,)),\n",
    "    'reward': torch.rand(8, 1)}\n",
    ")\n",
    "\n",
    "%timeit list(Batch.split(batch, 1, shuffle=False, merge_last=True))"
   ]
  },
  {
   "cell_type": "code",
   "execution_count": null,
   "id": "2539fbd9",
   "metadata": {},
   "outputs": [],
   "source": []
  }
 ],
 "metadata": {
  "kernelspec": {
   "display_name": "Python 3 (ipykernel)",
   "language": "python",
   "name": "python3"
  },
  "language_info": {
   "codemirror_mode": {
    "name": "ipython",
    "version": 3
   },
   "file_extension": ".py",
   "mimetype": "text/x-python",
   "name": "python",
   "nbconvert_exporter": "python",
   "pygments_lexer": "ipython3",
   "version": "3.8.16"
  }
 },
 "nbformat": 4,
 "nbformat_minor": 5
}
