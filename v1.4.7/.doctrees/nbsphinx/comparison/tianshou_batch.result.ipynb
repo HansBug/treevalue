{
 "cells": [
  {
   "cell_type": "markdown",
   "id": "9d39d946",
   "metadata": {},
   "source": [
    "# Comparison Between TreeValue and Tianshou Batch"
   ]
  },
  {
   "cell_type": "markdown",
   "id": "3c6db2d4",
   "metadata": {},
   "source": [
    "In this section, we will take a look at the feature and performance of the [Tianshou Batch](https://github.com/thu-ml/tianshou) library, which is developed by Tsinghua Machine Learning Group."
   ]
  },
  {
   "cell_type": "markdown",
   "id": "069361b0",
   "metadata": {},
   "source": [
    "Before starting the comparison, let us define some thing."
   ]
  },
  {
   "cell_type": "code",
   "execution_count": 1,
   "id": "06fc8d26",
   "metadata": {
    "execution": {
     "iopub.execute_input": "2023-03-06T19:22:58.497567Z",
     "iopub.status.busy": "2023-03-06T19:22:58.496859Z",
     "iopub.status.idle": "2023-03-06T19:22:59.692318Z",
     "shell.execute_reply": "2023-03-06T19:22:59.691306Z"
    }
   },
   "outputs": [
    {
     "name": "stderr",
     "output_type": "stream",
     "text": [
      "/opt/hostedtoolcache/Python/3.8.16/x64/lib/python3.8/site-packages/tqdm/auto.py:21: TqdmWarning: IProgress not found. Please update jupyter and ipywidgets. See https://ipywidgets.readthedocs.io/en/stable/user_install.html\n",
      "  from .autonotebook import tqdm as notebook_tqdm\n"
     ]
    }
   ],
   "source": [
    "import torch \n",
    "\n",
    "_TREE_DATA_1 = {'a': 1, 'b': 2, 'x': {'c': 3, 'd': 4}}\n",
    "_TREE_DATA_2 = {\n",
    "    'a': torch.randn(2, 3), \n",
    "    'x': {\n",
    "        'c': torch.randn(3, 4)\n",
    "    },\n",
    "}\n",
    "_TREE_DATA_3 = {\n",
    "    'obs': torch.randn(4, 84, 84),\n",
    "    'action': torch.randint(0, 6, size=(1,)),\n",
    "    'reward': torch.rand(1),\n",
    "}"
   ]
  },
  {
   "cell_type": "markdown",
   "id": "83461b25",
   "metadata": {},
   "source": [
    "## Read and Write Operation"
   ]
  },
  {
   "cell_type": "markdown",
   "id": "067b3f73",
   "metadata": {},
   "source": [
    "Reading and writing are the two most common operations in the tree data structure based on the data model (TreeValue and Tianshou Batch both belong to this type), so this section will compare the reading and writing performance of these two libraries."
   ]
  },
  {
   "cell_type": "markdown",
   "id": "5d09a5b7",
   "metadata": {},
   "source": [
    "### TreeValue's Get and Set"
   ]
  },
  {
   "cell_type": "code",
   "execution_count": 2,
   "id": "9519c4bb",
   "metadata": {
    "execution": {
     "iopub.execute_input": "2023-03-06T19:22:59.696911Z",
     "iopub.status.busy": "2023-03-06T19:22:59.696436Z",
     "iopub.status.idle": "2023-03-06T19:23:00.075030Z",
     "shell.execute_reply": "2023-03-06T19:23:00.073992Z"
    }
   },
   "outputs": [],
   "source": [
    "from treevalue import FastTreeValue\n",
    "\n",
    "t = FastTreeValue(_TREE_DATA_2)"
   ]
  },
  {
   "cell_type": "code",
   "execution_count": 3,
   "id": "11c37677",
   "metadata": {
    "execution": {
     "iopub.execute_input": "2023-03-06T19:23:00.080004Z",
     "iopub.status.busy": "2023-03-06T19:23:00.079343Z",
     "iopub.status.idle": "2023-03-06T19:23:00.092187Z",
     "shell.execute_reply": "2023-03-06T19:23:00.091291Z"
    }
   },
   "outputs": [
    {
     "data": {
      "text/plain": [
       "<FastTreeValue 0x7f2a2e2b78b0>\n",
       "├── 'a' --> tensor([[ 0.5781,  0.7896, -0.2249],\n",
       "│                   [ 0.1723,  2.0271, -0.1867]])\n",
       "└── 'x' --> <FastTreeValue 0x7f2a2e2b7a90>\n",
       "    └── 'c' --> tensor([[ 0.3466,  1.4310, -0.8847, -0.2101],\n",
       "                        [ 0.7148,  1.0139,  0.0217, -0.6997],\n",
       "                        [ 0.7825, -0.0507,  0.2250, -0.2242]])"
      ]
     },
     "execution_count": 3,
     "metadata": {},
     "output_type": "execute_result"
    }
   ],
   "source": [
    "t"
   ]
  },
  {
   "cell_type": "code",
   "execution_count": 4,
   "id": "fd70b0b9",
   "metadata": {
    "execution": {
     "iopub.execute_input": "2023-03-06T19:23:00.095666Z",
     "iopub.status.busy": "2023-03-06T19:23:00.095392Z",
     "iopub.status.idle": "2023-03-06T19:23:00.103692Z",
     "shell.execute_reply": "2023-03-06T19:23:00.102598Z"
    }
   },
   "outputs": [
    {
     "data": {
      "text/plain": [
       "tensor([[ 0.5781,  0.7896, -0.2249],\n",
       "        [ 0.1723,  2.0271, -0.1867]])"
      ]
     },
     "execution_count": 4,
     "metadata": {},
     "output_type": "execute_result"
    }
   ],
   "source": [
    "t.a"
   ]
  },
  {
   "cell_type": "code",
   "execution_count": 5,
   "id": "c18197bd",
   "metadata": {
    "execution": {
     "iopub.execute_input": "2023-03-06T19:23:00.107087Z",
     "iopub.status.busy": "2023-03-06T19:23:00.106771Z",
     "iopub.status.idle": "2023-03-06T19:23:05.838511Z",
     "shell.execute_reply": "2023-03-06T19:23:05.837226Z"
    }
   },
   "outputs": [
    {
     "name": "stdout",
     "output_type": "stream",
     "text": [
      "70.7 ns ± 1.85 ns per loop (mean ± std. dev. of 7 runs, 10,000,000 loops each)\n"
     ]
    }
   ],
   "source": [
    "%timeit t.a"
   ]
  },
  {
   "cell_type": "code",
   "execution_count": 6,
   "id": "bd52f867",
   "metadata": {
    "execution": {
     "iopub.execute_input": "2023-03-06T19:23:05.841855Z",
     "iopub.status.busy": "2023-03-06T19:23:05.841577Z",
     "iopub.status.idle": "2023-03-06T19:23:05.850301Z",
     "shell.execute_reply": "2023-03-06T19:23:05.849377Z"
    }
   },
   "outputs": [
    {
     "data": {
      "text/plain": [
       "<FastTreeValue 0x7f2a2e2b78b0>\n",
       "├── 'a' --> tensor([[ 0.8544, -2.6020, -0.2738],\n",
       "│                   [-0.9298,  0.1250,  1.1306]])\n",
       "└── 'x' --> <FastTreeValue 0x7f2a2e2b7a90>\n",
       "    └── 'c' --> tensor([[ 0.3466,  1.4310, -0.8847, -0.2101],\n",
       "                        [ 0.7148,  1.0139,  0.0217, -0.6997],\n",
       "                        [ 0.7825, -0.0507,  0.2250, -0.2242]])"
      ]
     },
     "execution_count": 6,
     "metadata": {},
     "output_type": "execute_result"
    }
   ],
   "source": [
    "new_value = torch.randn(2, 3)\n",
    "t.a = new_value\n",
    "\n",
    "t"
   ]
  },
  {
   "cell_type": "code",
   "execution_count": 7,
   "id": "bbe04d1c",
   "metadata": {
    "execution": {
     "iopub.execute_input": "2023-03-06T19:23:05.854331Z",
     "iopub.status.busy": "2023-03-06T19:23:05.854078Z",
     "iopub.status.idle": "2023-03-06T19:23:13.292381Z",
     "shell.execute_reply": "2023-03-06T19:23:13.291417Z"
    }
   },
   "outputs": [
    {
     "name": "stdout",
     "output_type": "stream",
     "text": [
      "92 ns ± 1.19 ns per loop (mean ± std. dev. of 7 runs, 10,000,000 loops each)\n"
     ]
    }
   ],
   "source": [
    "%timeit t.a = new_value"
   ]
  },
  {
   "cell_type": "markdown",
   "id": "48c49731",
   "metadata": {},
   "source": [
    "### Tianshou Batch's Get and Set"
   ]
  },
  {
   "cell_type": "code",
   "execution_count": 8,
   "id": "f1bb14c1",
   "metadata": {
    "execution": {
     "iopub.execute_input": "2023-03-06T19:23:13.297283Z",
     "iopub.status.busy": "2023-03-06T19:23:13.296670Z",
     "iopub.status.idle": "2023-03-06T19:23:13.712697Z",
     "shell.execute_reply": "2023-03-06T19:23:13.711711Z"
    }
   },
   "outputs": [],
   "source": [
    "from tianshou.data import Batch\n",
    "\n",
    "b = Batch(**_TREE_DATA_2)"
   ]
  },
  {
   "cell_type": "code",
   "execution_count": 9,
   "id": "cb0777c3",
   "metadata": {
    "execution": {
     "iopub.execute_input": "2023-03-06T19:23:13.717266Z",
     "iopub.status.busy": "2023-03-06T19:23:13.716905Z",
     "iopub.status.idle": "2023-03-06T19:23:13.723725Z",
     "shell.execute_reply": "2023-03-06T19:23:13.722793Z"
    }
   },
   "outputs": [
    {
     "data": {
      "text/plain": [
       "Batch(\n",
       "    a: tensor([[ 0.5781,  0.7896, -0.2249],\n",
       "               [ 0.1723,  2.0271, -0.1867]]),\n",
       "    x: Batch(\n",
       "           c: tensor([[ 0.3466,  1.4310, -0.8847, -0.2101],\n",
       "                      [ 0.7148,  1.0139,  0.0217, -0.6997],\n",
       "                      [ 0.7825, -0.0507,  0.2250, -0.2242]]),\n",
       "       ),\n",
       ")"
      ]
     },
     "execution_count": 9,
     "metadata": {},
     "output_type": "execute_result"
    }
   ],
   "source": [
    "b"
   ]
  },
  {
   "cell_type": "code",
   "execution_count": 10,
   "id": "43ef8ea3",
   "metadata": {
    "execution": {
     "iopub.execute_input": "2023-03-06T19:23:13.727100Z",
     "iopub.status.busy": "2023-03-06T19:23:13.726805Z",
     "iopub.status.idle": "2023-03-06T19:23:13.732433Z",
     "shell.execute_reply": "2023-03-06T19:23:13.731599Z"
    }
   },
   "outputs": [
    {
     "data": {
      "text/plain": [
       "tensor([[ 0.5781,  0.7896, -0.2249],\n",
       "        [ 0.1723,  2.0271, -0.1867]])"
      ]
     },
     "execution_count": 10,
     "metadata": {},
     "output_type": "execute_result"
    }
   ],
   "source": [
    "b.a"
   ]
  },
  {
   "cell_type": "code",
   "execution_count": 11,
   "id": "b785ab72",
   "metadata": {
    "execution": {
     "iopub.execute_input": "2023-03-06T19:23:13.736475Z",
     "iopub.status.busy": "2023-03-06T19:23:13.736109Z",
     "iopub.status.idle": "2023-03-06T19:23:18.861694Z",
     "shell.execute_reply": "2023-03-06T19:23:18.860814Z"
    }
   },
   "outputs": [
    {
     "name": "stdout",
     "output_type": "stream",
     "text": [
      "62.7 ns ± 2.46 ns per loop (mean ± std. dev. of 7 runs, 10,000,000 loops each)\n"
     ]
    }
   ],
   "source": [
    "%timeit b.a"
   ]
  },
  {
   "cell_type": "code",
   "execution_count": 12,
   "id": "ad54dc69",
   "metadata": {
    "execution": {
     "iopub.execute_input": "2023-03-06T19:23:18.865438Z",
     "iopub.status.busy": "2023-03-06T19:23:18.864945Z",
     "iopub.status.idle": "2023-03-06T19:23:18.873573Z",
     "shell.execute_reply": "2023-03-06T19:23:18.872730Z"
    }
   },
   "outputs": [
    {
     "data": {
      "text/plain": [
       "Batch(\n",
       "    a: tensor([[ 0.1307, -0.4304, -0.4552],\n",
       "               [-0.4090,  1.6508, -0.5903]]),\n",
       "    x: Batch(\n",
       "           c: tensor([[ 0.3466,  1.4310, -0.8847, -0.2101],\n",
       "                      [ 0.7148,  1.0139,  0.0217, -0.6997],\n",
       "                      [ 0.7825, -0.0507,  0.2250, -0.2242]]),\n",
       "       ),\n",
       ")"
      ]
     },
     "execution_count": 12,
     "metadata": {},
     "output_type": "execute_result"
    }
   ],
   "source": [
    "new_value = torch.randn(2, 3)\n",
    "b.a = new_value\n",
    "\n",
    "b"
   ]
  },
  {
   "cell_type": "code",
   "execution_count": 13,
   "id": "29b1d0bf",
   "metadata": {
    "execution": {
     "iopub.execute_input": "2023-03-06T19:23:18.876899Z",
     "iopub.status.busy": "2023-03-06T19:23:18.876607Z",
     "iopub.status.idle": "2023-03-06T19:23:23.569566Z",
     "shell.execute_reply": "2023-03-06T19:23:23.568699Z"
    }
   },
   "outputs": [
    {
     "name": "stdout",
     "output_type": "stream",
     "text": [
      "576 ns ± 24.6 ns per loop (mean ± std. dev. of 7 runs, 1,000,000 loops each)\n"
     ]
    }
   ],
   "source": [
    "%timeit b.a = new_value"
   ]
  },
  {
   "cell_type": "markdown",
   "id": "b61ad1d0",
   "metadata": {},
   "source": [
    "## Initialization"
   ]
  },
  {
   "cell_type": "markdown",
   "id": "d70f0d54",
   "metadata": {},
   "source": [
    "### TreeValue's Initialization"
   ]
  },
  {
   "cell_type": "code",
   "execution_count": 14,
   "id": "d32a679b",
   "metadata": {
    "execution": {
     "iopub.execute_input": "2023-03-06T19:23:23.573864Z",
     "iopub.status.busy": "2023-03-06T19:23:23.573298Z",
     "iopub.status.idle": "2023-03-06T19:23:31.227669Z",
     "shell.execute_reply": "2023-03-06T19:23:31.226470Z"
    }
   },
   "outputs": [
    {
     "name": "stdout",
     "output_type": "stream",
     "text": [
      "946 ns ± 13.8 ns per loop (mean ± std. dev. of 7 runs, 1,000,000 loops each)\n"
     ]
    }
   ],
   "source": [
    "%timeit FastTreeValue(_TREE_DATA_1)"
   ]
  },
  {
   "cell_type": "markdown",
   "id": "24f3707b",
   "metadata": {},
   "source": [
    "### Tianshou Batch's Initialization"
   ]
  },
  {
   "cell_type": "code",
   "execution_count": 15,
   "id": "ac3958df",
   "metadata": {
    "execution": {
     "iopub.execute_input": "2023-03-06T19:23:31.231825Z",
     "iopub.status.busy": "2023-03-06T19:23:31.231266Z",
     "iopub.status.idle": "2023-03-06T19:23:41.912832Z",
     "shell.execute_reply": "2023-03-06T19:23:41.911174Z"
    }
   },
   "outputs": [
    {
     "name": "stdout",
     "output_type": "stream",
     "text": [
      "13.2 µs ± 521 ns per loop (mean ± std. dev. of 7 runs, 100,000 loops each)\n"
     ]
    }
   ],
   "source": [
    "%timeit Batch(**_TREE_DATA_1)"
   ]
  },
  {
   "cell_type": "markdown",
   "id": "1ab82e2d",
   "metadata": {},
   "source": [
    "## Deep Copy Operation"
   ]
  },
  {
   "cell_type": "code",
   "execution_count": 16,
   "id": "210a9442",
   "metadata": {
    "execution": {
     "iopub.execute_input": "2023-03-06T19:23:41.917584Z",
     "iopub.status.busy": "2023-03-06T19:23:41.916798Z",
     "iopub.status.idle": "2023-03-06T19:23:41.921542Z",
     "shell.execute_reply": "2023-03-06T19:23:41.920642Z"
    }
   },
   "outputs": [],
   "source": [
    "import copy"
   ]
  },
  {
   "cell_type": "markdown",
   "id": "5a736274",
   "metadata": {},
   "source": [
    "### Deep Copy of TreeValue"
   ]
  },
  {
   "cell_type": "code",
   "execution_count": 17,
   "id": "f9bcadd6",
   "metadata": {
    "execution": {
     "iopub.execute_input": "2023-03-06T19:23:41.924849Z",
     "iopub.status.busy": "2023-03-06T19:23:41.924575Z",
     "iopub.status.idle": "2023-03-06T19:23:44.192823Z",
     "shell.execute_reply": "2023-03-06T19:23:44.191808Z"
    }
   },
   "outputs": [
    {
     "name": "stdout",
     "output_type": "stream",
     "text": [
      "278 µs ± 5.93 µs per loop (mean ± std. dev. of 7 runs, 1,000 loops each)\n"
     ]
    }
   ],
   "source": [
    "t3 = FastTreeValue(_TREE_DATA_3)\n",
    "%timeit copy.deepcopy(t3)"
   ]
  },
  {
   "cell_type": "markdown",
   "id": "bf8be7ea",
   "metadata": {},
   "source": [
    "### Deep Copy of Tianshou Batch"
   ]
  },
  {
   "cell_type": "code",
   "execution_count": 18,
   "id": "91998e6f",
   "metadata": {
    "execution": {
     "iopub.execute_input": "2023-03-06T19:23:44.197707Z",
     "iopub.status.busy": "2023-03-06T19:23:44.195810Z",
     "iopub.status.idle": "2023-03-06T19:23:46.328801Z",
     "shell.execute_reply": "2023-03-06T19:23:46.327927Z"
    }
   },
   "outputs": [
    {
     "name": "stdout",
     "output_type": "stream",
     "text": [
      "262 µs ± 8.94 µs per loop (mean ± std. dev. of 7 runs, 1,000 loops each)\n"
     ]
    }
   ],
   "source": [
    "b3 = Batch(**_TREE_DATA_3)\n",
    "%timeit copy.deepcopy(b3)"
   ]
  },
  {
   "cell_type": "markdown",
   "id": "223162fb",
   "metadata": {},
   "source": [
    "## Stack, Concat and Split Operation"
   ]
  },
  {
   "cell_type": "markdown",
   "id": "85fa4a73",
   "metadata": {},
   "source": [
    "### Performance of TreeValue"
   ]
  },
  {
   "cell_type": "code",
   "execution_count": 19,
   "id": "a0c2b697",
   "metadata": {
    "execution": {
     "iopub.execute_input": "2023-03-06T19:23:46.332199Z",
     "iopub.status.busy": "2023-03-06T19:23:46.331949Z",
     "iopub.status.idle": "2023-03-06T19:23:46.336174Z",
     "shell.execute_reply": "2023-03-06T19:23:46.335257Z"
    }
   },
   "outputs": [],
   "source": [
    "trees = [FastTreeValue(_TREE_DATA_2) for _ in range(8)]"
   ]
  },
  {
   "cell_type": "code",
   "execution_count": 20,
   "id": "017ea5a5",
   "metadata": {
    "execution": {
     "iopub.execute_input": "2023-03-06T19:23:46.339410Z",
     "iopub.status.busy": "2023-03-06T19:23:46.339164Z",
     "iopub.status.idle": "2023-03-06T19:23:46.348577Z",
     "shell.execute_reply": "2023-03-06T19:23:46.347789Z"
    }
   },
   "outputs": [
    {
     "data": {
      "text/plain": [
       "<FastTreeValue 0x7f2974b604f0>\n",
       "├── 'a' --> tensor([[[ 0.5781,  0.7896, -0.2249],\n",
       "│                    [ 0.1723,  2.0271, -0.1867]],\n",
       "│           \n",
       "│                   [[ 0.5781,  0.7896, -0.2249],\n",
       "│                    [ 0.1723,  2.0271, -0.1867]],\n",
       "│           \n",
       "│                   [[ 0.5781,  0.7896, -0.2249],\n",
       "│                    [ 0.1723,  2.0271, -0.1867]],\n",
       "│           \n",
       "│                   [[ 0.5781,  0.7896, -0.2249],\n",
       "│                    [ 0.1723,  2.0271, -0.1867]],\n",
       "│           \n",
       "│                   [[ 0.5781,  0.7896, -0.2249],\n",
       "│                    [ 0.1723,  2.0271, -0.1867]],\n",
       "│           \n",
       "│                   [[ 0.5781,  0.7896, -0.2249],\n",
       "│                    [ 0.1723,  2.0271, -0.1867]],\n",
       "│           \n",
       "│                   [[ 0.5781,  0.7896, -0.2249],\n",
       "│                    [ 0.1723,  2.0271, -0.1867]],\n",
       "│           \n",
       "│                   [[ 0.5781,  0.7896, -0.2249],\n",
       "│                    [ 0.1723,  2.0271, -0.1867]]])\n",
       "└── 'x' --> <FastTreeValue 0x7f297b4d14c0>\n",
       "    └── 'c' --> tensor([[[ 0.3466,  1.4310, -0.8847, -0.2101],\n",
       "                         [ 0.7148,  1.0139,  0.0217, -0.6997],\n",
       "                         [ 0.7825, -0.0507,  0.2250, -0.2242]],\n",
       "                \n",
       "                        [[ 0.3466,  1.4310, -0.8847, -0.2101],\n",
       "                         [ 0.7148,  1.0139,  0.0217, -0.6997],\n",
       "                         [ 0.7825, -0.0507,  0.2250, -0.2242]],\n",
       "                \n",
       "                        [[ 0.3466,  1.4310, -0.8847, -0.2101],\n",
       "                         [ 0.7148,  1.0139,  0.0217, -0.6997],\n",
       "                         [ 0.7825, -0.0507,  0.2250, -0.2242]],\n",
       "                \n",
       "                        [[ 0.3466,  1.4310, -0.8847, -0.2101],\n",
       "                         [ 0.7148,  1.0139,  0.0217, -0.6997],\n",
       "                         [ 0.7825, -0.0507,  0.2250, -0.2242]],\n",
       "                \n",
       "                        [[ 0.3466,  1.4310, -0.8847, -0.2101],\n",
       "                         [ 0.7148,  1.0139,  0.0217, -0.6997],\n",
       "                         [ 0.7825, -0.0507,  0.2250, -0.2242]],\n",
       "                \n",
       "                        [[ 0.3466,  1.4310, -0.8847, -0.2101],\n",
       "                         [ 0.7148,  1.0139,  0.0217, -0.6997],\n",
       "                         [ 0.7825, -0.0507,  0.2250, -0.2242]],\n",
       "                \n",
       "                        [[ 0.3466,  1.4310, -0.8847, -0.2101],\n",
       "                         [ 0.7148,  1.0139,  0.0217, -0.6997],\n",
       "                         [ 0.7825, -0.0507,  0.2250, -0.2242]],\n",
       "                \n",
       "                        [[ 0.3466,  1.4310, -0.8847, -0.2101],\n",
       "                         [ 0.7148,  1.0139,  0.0217, -0.6997],\n",
       "                         [ 0.7825, -0.0507,  0.2250, -0.2242]]])"
      ]
     },
     "execution_count": 20,
     "metadata": {},
     "output_type": "execute_result"
    }
   ],
   "source": [
    "t_stack = FastTreeValue.func(subside=True)(torch.stack)\n",
    "\n",
    "t_stack(trees)"
   ]
  },
  {
   "cell_type": "code",
   "execution_count": 21,
   "id": "f8b3f415",
   "metadata": {
    "execution": {
     "iopub.execute_input": "2023-03-06T19:23:46.351438Z",
     "iopub.status.busy": "2023-03-06T19:23:46.351134Z",
     "iopub.status.idle": "2023-03-06T19:23:50.045443Z",
     "shell.execute_reply": "2023-03-06T19:23:50.044363Z"
    }
   },
   "outputs": [
    {
     "name": "stdout",
     "output_type": "stream",
     "text": [
      "45.5 µs ± 1.24 µs per loop (mean ± std. dev. of 7 runs, 10,000 loops each)\n"
     ]
    }
   ],
   "source": [
    "%timeit t_stack(trees)"
   ]
  },
  {
   "cell_type": "code",
   "execution_count": 22,
   "id": "94b56771",
   "metadata": {
    "execution": {
     "iopub.execute_input": "2023-03-06T19:23:50.049345Z",
     "iopub.status.busy": "2023-03-06T19:23:50.048601Z",
     "iopub.status.idle": "2023-03-06T19:23:50.058203Z",
     "shell.execute_reply": "2023-03-06T19:23:50.057091Z"
    }
   },
   "outputs": [
    {
     "data": {
      "text/plain": [
       "<FastTreeValue 0x7f29744c39a0>\n",
       "├── 'a' --> tensor([[ 0.5781,  0.7896, -0.2249],\n",
       "│                   [ 0.1723,  2.0271, -0.1867],\n",
       "│                   [ 0.5781,  0.7896, -0.2249],\n",
       "│                   [ 0.1723,  2.0271, -0.1867],\n",
       "│                   [ 0.5781,  0.7896, -0.2249],\n",
       "│                   [ 0.1723,  2.0271, -0.1867],\n",
       "│                   [ 0.5781,  0.7896, -0.2249],\n",
       "│                   [ 0.1723,  2.0271, -0.1867],\n",
       "│                   [ 0.5781,  0.7896, -0.2249],\n",
       "│                   [ 0.1723,  2.0271, -0.1867],\n",
       "│                   [ 0.5781,  0.7896, -0.2249],\n",
       "│                   [ 0.1723,  2.0271, -0.1867],\n",
       "│                   [ 0.5781,  0.7896, -0.2249],\n",
       "│                   [ 0.1723,  2.0271, -0.1867],\n",
       "│                   [ 0.5781,  0.7896, -0.2249],\n",
       "│                   [ 0.1723,  2.0271, -0.1867]])\n",
       "└── 'x' --> <FastTreeValue 0x7f297b0eb820>\n",
       "    └── 'c' --> tensor([[ 0.3466,  1.4310, -0.8847, -0.2101],\n",
       "                        [ 0.7148,  1.0139,  0.0217, -0.6997],\n",
       "                        [ 0.7825, -0.0507,  0.2250, -0.2242],\n",
       "                        [ 0.3466,  1.4310, -0.8847, -0.2101],\n",
       "                        [ 0.7148,  1.0139,  0.0217, -0.6997],\n",
       "                        [ 0.7825, -0.0507,  0.2250, -0.2242],\n",
       "                        [ 0.3466,  1.4310, -0.8847, -0.2101],\n",
       "                        [ 0.7148,  1.0139,  0.0217, -0.6997],\n",
       "                        [ 0.7825, -0.0507,  0.2250, -0.2242],\n",
       "                        [ 0.3466,  1.4310, -0.8847, -0.2101],\n",
       "                        [ 0.7148,  1.0139,  0.0217, -0.6997],\n",
       "                        [ 0.7825, -0.0507,  0.2250, -0.2242],\n",
       "                        [ 0.3466,  1.4310, -0.8847, -0.2101],\n",
       "                        [ 0.7148,  1.0139,  0.0217, -0.6997],\n",
       "                        [ 0.7825, -0.0507,  0.2250, -0.2242],\n",
       "                        [ 0.3466,  1.4310, -0.8847, -0.2101],\n",
       "                        [ 0.7148,  1.0139,  0.0217, -0.6997],\n",
       "                        [ 0.7825, -0.0507,  0.2250, -0.2242],\n",
       "                        [ 0.3466,  1.4310, -0.8847, -0.2101],\n",
       "                        [ 0.7148,  1.0139,  0.0217, -0.6997],\n",
       "                        [ 0.7825, -0.0507,  0.2250, -0.2242],\n",
       "                        [ 0.3466,  1.4310, -0.8847, -0.2101],\n",
       "                        [ 0.7148,  1.0139,  0.0217, -0.6997],\n",
       "                        [ 0.7825, -0.0507,  0.2250, -0.2242]])"
      ]
     },
     "execution_count": 22,
     "metadata": {},
     "output_type": "execute_result"
    }
   ],
   "source": [
    "t_cat = FastTreeValue.func(subside=True)(torch.cat)\n",
    "\n",
    "t_cat(trees)"
   ]
  },
  {
   "cell_type": "code",
   "execution_count": 23,
   "id": "5e9c06a6",
   "metadata": {
    "execution": {
     "iopub.execute_input": "2023-03-06T19:23:50.061611Z",
     "iopub.status.busy": "2023-03-06T19:23:50.061118Z",
     "iopub.status.idle": "2023-03-06T19:23:53.473717Z",
     "shell.execute_reply": "2023-03-06T19:23:53.472806Z"
    }
   },
   "outputs": [
    {
     "name": "stdout",
     "output_type": "stream",
     "text": [
      "42 µs ± 1.11 µs per loop (mean ± std. dev. of 7 runs, 10,000 loops each)\n"
     ]
    }
   ],
   "source": [
    "%timeit t_cat(trees)"
   ]
  },
  {
   "cell_type": "code",
   "execution_count": 24,
   "id": "a3ab5c8f",
   "metadata": {
    "execution": {
     "iopub.execute_input": "2023-03-06T19:23:53.477217Z",
     "iopub.status.busy": "2023-03-06T19:23:53.476954Z",
     "iopub.status.idle": "2023-03-06T19:24:00.115076Z",
     "shell.execute_reply": "2023-03-06T19:24:00.114102Z"
    }
   },
   "outputs": [
    {
     "name": "stdout",
     "output_type": "stream",
     "text": [
      "81.7 µs ± 1.28 µs per loop (mean ± std. dev. of 7 runs, 10,000 loops each)\n"
     ]
    }
   ],
   "source": [
    "t_split = FastTreeValue.func(rise=True)(torch.split)\n",
    "tree = FastTreeValue({\n",
    "    'obs': torch.randn(8, 4, 84, 84),\n",
    "    'action': torch.randint(0, 6, size=(8, 1,)),\n",
    "    'reward': torch.rand(8, 1),\n",
    "})\n",
    "\n",
    "%timeit t_split(tree, 1)"
   ]
  },
  {
   "cell_type": "markdown",
   "id": "31c3ec0b",
   "metadata": {},
   "source": [
    "### Performance of Tianshou Batch"
   ]
  },
  {
   "cell_type": "code",
   "execution_count": 25,
   "id": "9ead828a",
   "metadata": {
    "execution": {
     "iopub.execute_input": "2023-03-06T19:24:00.119199Z",
     "iopub.status.busy": "2023-03-06T19:24:00.118452Z",
     "iopub.status.idle": "2023-03-06T19:24:00.128600Z",
     "shell.execute_reply": "2023-03-06T19:24:00.127699Z"
    }
   },
   "outputs": [
    {
     "data": {
      "text/plain": [
       "Batch(\n",
       "    x: Batch(\n",
       "           c: tensor([[[ 0.3466,  1.4310, -0.8847, -0.2101],\n",
       "                       [ 0.7148,  1.0139,  0.0217, -0.6997],\n",
       "                       [ 0.7825, -0.0507,  0.2250, -0.2242]],\n",
       "              \n",
       "                      [[ 0.3466,  1.4310, -0.8847, -0.2101],\n",
       "                       [ 0.7148,  1.0139,  0.0217, -0.6997],\n",
       "                       [ 0.7825, -0.0507,  0.2250, -0.2242]],\n",
       "              \n",
       "                      [[ 0.3466,  1.4310, -0.8847, -0.2101],\n",
       "                       [ 0.7148,  1.0139,  0.0217, -0.6997],\n",
       "                       [ 0.7825, -0.0507,  0.2250, -0.2242]],\n",
       "              \n",
       "                      [[ 0.3466,  1.4310, -0.8847, -0.2101],\n",
       "                       [ 0.7148,  1.0139,  0.0217, -0.6997],\n",
       "                       [ 0.7825, -0.0507,  0.2250, -0.2242]],\n",
       "              \n",
       "                      [[ 0.3466,  1.4310, -0.8847, -0.2101],\n",
       "                       [ 0.7148,  1.0139,  0.0217, -0.6997],\n",
       "                       [ 0.7825, -0.0507,  0.2250, -0.2242]],\n",
       "              \n",
       "                      [[ 0.3466,  1.4310, -0.8847, -0.2101],\n",
       "                       [ 0.7148,  1.0139,  0.0217, -0.6997],\n",
       "                       [ 0.7825, -0.0507,  0.2250, -0.2242]],\n",
       "              \n",
       "                      [[ 0.3466,  1.4310, -0.8847, -0.2101],\n",
       "                       [ 0.7148,  1.0139,  0.0217, -0.6997],\n",
       "                       [ 0.7825, -0.0507,  0.2250, -0.2242]],\n",
       "              \n",
       "                      [[ 0.3466,  1.4310, -0.8847, -0.2101],\n",
       "                       [ 0.7148,  1.0139,  0.0217, -0.6997],\n",
       "                       [ 0.7825, -0.0507,  0.2250, -0.2242]]]),\n",
       "       ),\n",
       "    a: tensor([[[ 0.5781,  0.7896, -0.2249],\n",
       "                [ 0.1723,  2.0271, -0.1867]],\n",
       "       \n",
       "               [[ 0.5781,  0.7896, -0.2249],\n",
       "                [ 0.1723,  2.0271, -0.1867]],\n",
       "       \n",
       "               [[ 0.5781,  0.7896, -0.2249],\n",
       "                [ 0.1723,  2.0271, -0.1867]],\n",
       "       \n",
       "               [[ 0.5781,  0.7896, -0.2249],\n",
       "                [ 0.1723,  2.0271, -0.1867]],\n",
       "       \n",
       "               [[ 0.5781,  0.7896, -0.2249],\n",
       "                [ 0.1723,  2.0271, -0.1867]],\n",
       "       \n",
       "               [[ 0.5781,  0.7896, -0.2249],\n",
       "                [ 0.1723,  2.0271, -0.1867]],\n",
       "       \n",
       "               [[ 0.5781,  0.7896, -0.2249],\n",
       "                [ 0.1723,  2.0271, -0.1867]],\n",
       "       \n",
       "               [[ 0.5781,  0.7896, -0.2249],\n",
       "                [ 0.1723,  2.0271, -0.1867]]]),\n",
       ")"
      ]
     },
     "execution_count": 25,
     "metadata": {},
     "output_type": "execute_result"
    }
   ],
   "source": [
    "batches = [Batch(**_TREE_DATA_2) for _ in range(8)]\n",
    "\n",
    "Batch.stack(batches)"
   ]
  },
  {
   "cell_type": "code",
   "execution_count": 26,
   "id": "ec9037a3",
   "metadata": {
    "execution": {
     "iopub.execute_input": "2023-03-06T19:24:00.131508Z",
     "iopub.status.busy": "2023-03-06T19:24:00.131249Z",
     "iopub.status.idle": "2023-03-06T19:24:08.443067Z",
     "shell.execute_reply": "2023-03-06T19:24:08.441716Z"
    }
   },
   "outputs": [
    {
     "name": "stdout",
     "output_type": "stream",
     "text": [
      "102 µs ± 2.64 µs per loop (mean ± std. dev. of 7 runs, 10,000 loops each)\n"
     ]
    }
   ],
   "source": [
    "%timeit Batch.stack(batches)"
   ]
  },
  {
   "cell_type": "code",
   "execution_count": 27,
   "id": "cb8ab77e",
   "metadata": {
    "execution": {
     "iopub.execute_input": "2023-03-06T19:24:08.446911Z",
     "iopub.status.busy": "2023-03-06T19:24:08.446319Z",
     "iopub.status.idle": "2023-03-06T19:24:08.455420Z",
     "shell.execute_reply": "2023-03-06T19:24:08.454578Z"
    }
   },
   "outputs": [
    {
     "data": {
      "text/plain": [
       "Batch(\n",
       "    x: Batch(\n",
       "           c: tensor([[ 0.3466,  1.4310, -0.8847, -0.2101],\n",
       "                      [ 0.7148,  1.0139,  0.0217, -0.6997],\n",
       "                      [ 0.7825, -0.0507,  0.2250, -0.2242],\n",
       "                      [ 0.3466,  1.4310, -0.8847, -0.2101],\n",
       "                      [ 0.7148,  1.0139,  0.0217, -0.6997],\n",
       "                      [ 0.7825, -0.0507,  0.2250, -0.2242],\n",
       "                      [ 0.3466,  1.4310, -0.8847, -0.2101],\n",
       "                      [ 0.7148,  1.0139,  0.0217, -0.6997],\n",
       "                      [ 0.7825, -0.0507,  0.2250, -0.2242],\n",
       "                      [ 0.3466,  1.4310, -0.8847, -0.2101],\n",
       "                      [ 0.7148,  1.0139,  0.0217, -0.6997],\n",
       "                      [ 0.7825, -0.0507,  0.2250, -0.2242],\n",
       "                      [ 0.3466,  1.4310, -0.8847, -0.2101],\n",
       "                      [ 0.7148,  1.0139,  0.0217, -0.6997],\n",
       "                      [ 0.7825, -0.0507,  0.2250, -0.2242],\n",
       "                      [ 0.3466,  1.4310, -0.8847, -0.2101],\n",
       "                      [ 0.7148,  1.0139,  0.0217, -0.6997],\n",
       "                      [ 0.7825, -0.0507,  0.2250, -0.2242],\n",
       "                      [ 0.3466,  1.4310, -0.8847, -0.2101],\n",
       "                      [ 0.7148,  1.0139,  0.0217, -0.6997],\n",
       "                      [ 0.7825, -0.0507,  0.2250, -0.2242],\n",
       "                      [ 0.3466,  1.4310, -0.8847, -0.2101],\n",
       "                      [ 0.7148,  1.0139,  0.0217, -0.6997],\n",
       "                      [ 0.7825, -0.0507,  0.2250, -0.2242]]),\n",
       "       ),\n",
       "    a: tensor([[ 0.5781,  0.7896, -0.2249],\n",
       "               [ 0.1723,  2.0271, -0.1867],\n",
       "               [ 0.5781,  0.7896, -0.2249],\n",
       "               [ 0.1723,  2.0271, -0.1867],\n",
       "               [ 0.5781,  0.7896, -0.2249],\n",
       "               [ 0.1723,  2.0271, -0.1867],\n",
       "               [ 0.5781,  0.7896, -0.2249],\n",
       "               [ 0.1723,  2.0271, -0.1867],\n",
       "               [ 0.5781,  0.7896, -0.2249],\n",
       "               [ 0.1723,  2.0271, -0.1867],\n",
       "               [ 0.5781,  0.7896, -0.2249],\n",
       "               [ 0.1723,  2.0271, -0.1867],\n",
       "               [ 0.5781,  0.7896, -0.2249],\n",
       "               [ 0.1723,  2.0271, -0.1867],\n",
       "               [ 0.5781,  0.7896, -0.2249],\n",
       "               [ 0.1723,  2.0271, -0.1867]]),\n",
       ")"
      ]
     },
     "execution_count": 27,
     "metadata": {},
     "output_type": "execute_result"
    }
   ],
   "source": [
    "Batch.cat(batches)"
   ]
  },
  {
   "cell_type": "code",
   "execution_count": 28,
   "id": "18dfb045",
   "metadata": {
    "execution": {
     "iopub.execute_input": "2023-03-06T19:24:08.458517Z",
     "iopub.status.busy": "2023-03-06T19:24:08.458245Z",
     "iopub.status.idle": "2023-03-06T19:24:22.651902Z",
     "shell.execute_reply": "2023-03-06T19:24:22.650888Z"
    }
   },
   "outputs": [
    {
     "name": "stdout",
     "output_type": "stream",
     "text": [
      "175 µs ± 3.62 µs per loop (mean ± std. dev. of 7 runs, 10,000 loops each)\n"
     ]
    }
   ],
   "source": [
    "%timeit Batch.cat(batches)"
   ]
  },
  {
   "cell_type": "code",
   "execution_count": 29,
   "id": "c6688e51",
   "metadata": {
    "execution": {
     "iopub.execute_input": "2023-03-06T19:24:22.655903Z",
     "iopub.status.busy": "2023-03-06T19:24:22.655391Z",
     "iopub.status.idle": "2023-03-06T19:24:27.027095Z",
     "shell.execute_reply": "2023-03-06T19:24:27.026067Z"
    }
   },
   "outputs": [
    {
     "name": "stdout",
     "output_type": "stream",
     "text": [
      "539 µs ± 9.33 µs per loop (mean ± std. dev. of 7 runs, 1,000 loops each)\n"
     ]
    }
   ],
   "source": [
    "batch = Batch({\n",
    "    'obs': torch.randn(8, 4, 84, 84),\n",
    "    'action': torch.randint(0, 6, size=(8, 1,)),\n",
    "    'reward': torch.rand(8, 1)}\n",
    ")\n",
    "\n",
    "%timeit list(Batch.split(batch, 1, shuffle=False, merge_last=True))"
   ]
  },
  {
   "cell_type": "code",
   "execution_count": null,
   "id": "2539fbd9",
   "metadata": {},
   "outputs": [],
   "source": []
  }
 ],
 "metadata": {
  "kernelspec": {
   "display_name": "Python 3 (ipykernel)",
   "language": "python",
   "name": "python3"
  },
  "language_info": {
   "codemirror_mode": {
    "name": "ipython",
    "version": 3
   },
   "file_extension": ".py",
   "mimetype": "text/x-python",
   "name": "python",
   "nbconvert_exporter": "python",
   "pygments_lexer": "ipython3",
   "version": "3.8.16"
  }
 },
 "nbformat": 4,
 "nbformat_minor": 5
}
