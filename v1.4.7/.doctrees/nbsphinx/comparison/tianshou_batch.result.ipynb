{
 "cells": [
  {
   "cell_type": "markdown",
   "id": "9d39d946",
   "metadata": {},
   "source": [
    "# Comparison Between TreeValue and Tianshou Batch"
   ]
  },
  {
   "cell_type": "markdown",
   "id": "3c6db2d4",
   "metadata": {},
   "source": [
    "In this section, we will take a look at the feature and performance of the [Tianshou Batch](https://github.com/thu-ml/tianshou) library, which is developed by Tsinghua Machine Learning Group."
   ]
  },
  {
   "cell_type": "markdown",
   "id": "069361b0",
   "metadata": {},
   "source": [
    "Before starting the comparison, let us define some thing."
   ]
  },
  {
   "cell_type": "code",
   "execution_count": 1,
   "id": "06fc8d26",
   "metadata": {
    "execution": {
     "iopub.execute_input": "2023-08-11T04:40:10.083776Z",
     "iopub.status.busy": "2023-08-11T04:40:10.083305Z",
     "iopub.status.idle": "2023-08-11T04:40:11.526059Z",
     "shell.execute_reply": "2023-08-11T04:40:11.525274Z"
    }
   },
   "outputs": [],
   "source": [
    "import torch \n",
    "\n",
    "_TREE_DATA_1 = {'a': 1, 'b': 2, 'x': {'c': 3, 'd': 4}}\n",
    "_TREE_DATA_2 = {\n",
    "    'a': torch.randn(2, 3), \n",
    "    'x': {\n",
    "        'c': torch.randn(3, 4)\n",
    "    },\n",
    "}\n",
    "_TREE_DATA_3 = {\n",
    "    'obs': torch.randn(4, 84, 84),\n",
    "    'action': torch.randint(0, 6, size=(1,)),\n",
    "    'reward': torch.rand(1),\n",
    "}"
   ]
  },
  {
   "cell_type": "markdown",
   "id": "83461b25",
   "metadata": {},
   "source": [
    "## Read and Write Operation"
   ]
  },
  {
   "cell_type": "markdown",
   "id": "067b3f73",
   "metadata": {},
   "source": [
    "Reading and writing are the two most common operations in the tree data structure based on the data model (TreeValue and Tianshou Batch both belong to this type), so this section will compare the reading and writing performance of these two libraries."
   ]
  },
  {
   "cell_type": "markdown",
   "id": "5d09a5b7",
   "metadata": {},
   "source": [
    "### TreeValue's Get and Set"
   ]
  },
  {
   "cell_type": "code",
   "execution_count": 2,
   "id": "9519c4bb",
   "metadata": {
    "execution": {
     "iopub.execute_input": "2023-08-11T04:40:11.530279Z",
     "iopub.status.busy": "2023-08-11T04:40:11.529784Z",
     "iopub.status.idle": "2023-08-11T04:40:11.861795Z",
     "shell.execute_reply": "2023-08-11T04:40:11.860924Z"
    }
   },
   "outputs": [],
   "source": [
    "from treevalue import FastTreeValue\n",
    "\n",
    "t = FastTreeValue(_TREE_DATA_2)"
   ]
  },
  {
   "cell_type": "code",
   "execution_count": 3,
   "id": "11c37677",
   "metadata": {
    "execution": {
     "iopub.execute_input": "2023-08-11T04:40:11.866407Z",
     "iopub.status.busy": "2023-08-11T04:40:11.865818Z",
     "iopub.status.idle": "2023-08-11T04:40:11.877112Z",
     "shell.execute_reply": "2023-08-11T04:40:11.876226Z"
    }
   },
   "outputs": [
    {
     "data": {
      "text/plain": [
       "<FastTreeValue 0x7f2f6cf7ab20>\n",
       "├── 'a' --> tensor([[-0.0260,  1.4482,  0.5199],\n",
       "│                   [ 0.4596,  3.5255,  0.8986]])\n",
       "└── 'x' --> <FastTreeValue 0x7f2f6cf7ae20>\n",
       "    └── 'c' --> tensor([[ 0.3088,  0.8533,  0.5704, -0.7271],\n",
       "                        [-1.7054,  0.1086, -0.0537,  0.3634],\n",
       "                        [ 0.0320, -0.6255,  0.5534,  0.0112]])"
      ]
     },
     "execution_count": 3,
     "metadata": {},
     "output_type": "execute_result"
    }
   ],
   "source": [
    "t"
   ]
  },
  {
   "cell_type": "code",
   "execution_count": 4,
   "id": "fd70b0b9",
   "metadata": {
    "execution": {
     "iopub.execute_input": "2023-08-11T04:40:11.881680Z",
     "iopub.status.busy": "2023-08-11T04:40:11.881275Z",
     "iopub.status.idle": "2023-08-11T04:40:11.890343Z",
     "shell.execute_reply": "2023-08-11T04:40:11.889171Z"
    }
   },
   "outputs": [
    {
     "data": {
      "text/plain": [
       "tensor([[-0.0260,  1.4482,  0.5199],\n",
       "        [ 0.4596,  3.5255,  0.8986]])"
      ]
     },
     "execution_count": 4,
     "metadata": {},
     "output_type": "execute_result"
    }
   ],
   "source": [
    "t.a"
   ]
  },
  {
   "cell_type": "code",
   "execution_count": 5,
   "id": "c18197bd",
   "metadata": {
    "execution": {
     "iopub.execute_input": "2023-08-11T04:40:11.893817Z",
     "iopub.status.busy": "2023-08-11T04:40:11.893363Z",
     "iopub.status.idle": "2023-08-11T04:40:18.155033Z",
     "shell.execute_reply": "2023-08-11T04:40:18.154276Z"
    }
   },
   "outputs": [
    {
     "name": "stdout",
     "output_type": "stream",
     "text": [
      "77.1 ns ± 0.0799 ns per loop (mean ± std. dev. of 7 runs, 10,000,000 loops each)\n"
     ]
    }
   ],
   "source": [
    "%timeit t.a"
   ]
  },
  {
   "cell_type": "code",
   "execution_count": 6,
   "id": "bd52f867",
   "metadata": {
    "execution": {
     "iopub.execute_input": "2023-08-11T04:40:18.159055Z",
     "iopub.status.busy": "2023-08-11T04:40:18.158311Z",
     "iopub.status.idle": "2023-08-11T04:40:18.165071Z",
     "shell.execute_reply": "2023-08-11T04:40:18.164335Z"
    }
   },
   "outputs": [
    {
     "data": {
      "text/plain": [
       "<FastTreeValue 0x7f2f6cf7ab20>\n",
       "├── 'a' --> tensor([[-0.0934,  1.2316, -0.2734],\n",
       "│                   [ 0.4018,  0.2758,  1.1074]])\n",
       "└── 'x' --> <FastTreeValue 0x7f2f6cf7ae20>\n",
       "    └── 'c' --> tensor([[ 0.3088,  0.8533,  0.5704, -0.7271],\n",
       "                        [-1.7054,  0.1086, -0.0537,  0.3634],\n",
       "                        [ 0.0320, -0.6255,  0.5534,  0.0112]])"
      ]
     },
     "execution_count": 6,
     "metadata": {},
     "output_type": "execute_result"
    }
   ],
   "source": [
    "new_value = torch.randn(2, 3)\n",
    "t.a = new_value\n",
    "\n",
    "t"
   ]
  },
  {
   "cell_type": "code",
   "execution_count": 7,
   "id": "bbe04d1c",
   "metadata": {
    "execution": {
     "iopub.execute_input": "2023-08-11T04:40:18.168431Z",
     "iopub.status.busy": "2023-08-11T04:40:18.167958Z",
     "iopub.status.idle": "2023-08-11T04:40:24.461536Z",
     "shell.execute_reply": "2023-08-11T04:40:24.460765Z"
    }
   },
   "outputs": [
    {
     "name": "stdout",
     "output_type": "stream",
     "text": [
      "77.5 ns ± 0.0841 ns per loop (mean ± std. dev. of 7 runs, 10,000,000 loops each)\n"
     ]
    }
   ],
   "source": [
    "%timeit t.a = new_value"
   ]
  },
  {
   "cell_type": "markdown",
   "id": "48c49731",
   "metadata": {},
   "source": [
    "### Tianshou Batch's Get and Set"
   ]
  },
  {
   "cell_type": "code",
   "execution_count": 8,
   "id": "f1bb14c1",
   "metadata": {
    "execution": {
     "iopub.execute_input": "2023-08-11T04:40:24.465303Z",
     "iopub.status.busy": "2023-08-11T04:40:24.464787Z",
     "iopub.status.idle": "2023-08-11T04:40:24.854332Z",
     "shell.execute_reply": "2023-08-11T04:40:24.853510Z"
    }
   },
   "outputs": [],
   "source": [
    "from tianshou.data import Batch\n",
    "\n",
    "b = Batch(**_TREE_DATA_2)"
   ]
  },
  {
   "cell_type": "code",
   "execution_count": 9,
   "id": "cb0777c3",
   "metadata": {
    "execution": {
     "iopub.execute_input": "2023-08-11T04:40:24.858324Z",
     "iopub.status.busy": "2023-08-11T04:40:24.857799Z",
     "iopub.status.idle": "2023-08-11T04:40:24.864302Z",
     "shell.execute_reply": "2023-08-11T04:40:24.863577Z"
    }
   },
   "outputs": [
    {
     "data": {
      "text/plain": [
       "Batch(\n",
       "    a: tensor([[-0.0260,  1.4482,  0.5199],\n",
       "               [ 0.4596,  3.5255,  0.8986]]),\n",
       "    x: Batch(\n",
       "           c: tensor([[ 0.3088,  0.8533,  0.5704, -0.7271],\n",
       "                      [-1.7054,  0.1086, -0.0537,  0.3634],\n",
       "                      [ 0.0320, -0.6255,  0.5534,  0.0112]]),\n",
       "       ),\n",
       ")"
      ]
     },
     "execution_count": 9,
     "metadata": {},
     "output_type": "execute_result"
    }
   ],
   "source": [
    "b"
   ]
  },
  {
   "cell_type": "code",
   "execution_count": 10,
   "id": "43ef8ea3",
   "metadata": {
    "execution": {
     "iopub.execute_input": "2023-08-11T04:40:24.867529Z",
     "iopub.status.busy": "2023-08-11T04:40:24.867074Z",
     "iopub.status.idle": "2023-08-11T04:40:24.872168Z",
     "shell.execute_reply": "2023-08-11T04:40:24.871467Z"
    }
   },
   "outputs": [
    {
     "data": {
      "text/plain": [
       "tensor([[-0.0260,  1.4482,  0.5199],\n",
       "        [ 0.4596,  3.5255,  0.8986]])"
      ]
     },
     "execution_count": 10,
     "metadata": {},
     "output_type": "execute_result"
    }
   ],
   "source": [
    "b.a"
   ]
  },
  {
   "cell_type": "code",
   "execution_count": 11,
   "id": "b785ab72",
   "metadata": {
    "execution": {
     "iopub.execute_input": "2023-08-11T04:40:24.875811Z",
     "iopub.status.busy": "2023-08-11T04:40:24.875273Z",
     "iopub.status.idle": "2023-08-11T04:40:30.151688Z",
     "shell.execute_reply": "2023-08-11T04:40:30.150783Z"
    }
   },
   "outputs": [
    {
     "name": "stdout",
     "output_type": "stream",
     "text": [
      "65 ns ± 0.0679 ns per loop (mean ± std. dev. of 7 runs, 10,000,000 loops each)\n"
     ]
    }
   ],
   "source": [
    "%timeit b.a"
   ]
  },
  {
   "cell_type": "code",
   "execution_count": 12,
   "id": "ad54dc69",
   "metadata": {
    "execution": {
     "iopub.execute_input": "2023-08-11T04:40:30.155354Z",
     "iopub.status.busy": "2023-08-11T04:40:30.154634Z",
     "iopub.status.idle": "2023-08-11T04:40:30.161159Z",
     "shell.execute_reply": "2023-08-11T04:40:30.160413Z"
    }
   },
   "outputs": [
    {
     "data": {
      "text/plain": [
       "Batch(\n",
       "    a: tensor([[ 0.4437, -0.2711, -1.0411],\n",
       "               [ 0.6869, -0.0642, -0.0135]]),\n",
       "    x: Batch(\n",
       "           c: tensor([[ 0.3088,  0.8533,  0.5704, -0.7271],\n",
       "                      [-1.7054,  0.1086, -0.0537,  0.3634],\n",
       "                      [ 0.0320, -0.6255,  0.5534,  0.0112]]),\n",
       "       ),\n",
       ")"
      ]
     },
     "execution_count": 12,
     "metadata": {},
     "output_type": "execute_result"
    }
   ],
   "source": [
    "new_value = torch.randn(2, 3)\n",
    "b.a = new_value\n",
    "\n",
    "b"
   ]
  },
  {
   "cell_type": "code",
   "execution_count": 13,
   "id": "29b1d0bf",
   "metadata": {
    "execution": {
     "iopub.execute_input": "2023-08-11T04:40:30.164596Z",
     "iopub.status.busy": "2023-08-11T04:40:30.164038Z",
     "iopub.status.idle": "2023-08-11T04:40:34.589554Z",
     "shell.execute_reply": "2023-08-11T04:40:34.588757Z"
    }
   },
   "outputs": [
    {
     "name": "stdout",
     "output_type": "stream",
     "text": [
      "545 ns ± 0.151 ns per loop (mean ± std. dev. of 7 runs, 1,000,000 loops each)\n"
     ]
    }
   ],
   "source": [
    "%timeit b.a = new_value"
   ]
  },
  {
   "cell_type": "markdown",
   "id": "b61ad1d0",
   "metadata": {},
   "source": [
    "## Initialization"
   ]
  },
  {
   "cell_type": "markdown",
   "id": "d70f0d54",
   "metadata": {},
   "source": [
    "### TreeValue's Initialization"
   ]
  },
  {
   "cell_type": "code",
   "execution_count": 14,
   "id": "d32a679b",
   "metadata": {
    "execution": {
     "iopub.execute_input": "2023-08-11T04:40:34.593573Z",
     "iopub.status.busy": "2023-08-11T04:40:34.592880Z",
     "iopub.status.idle": "2023-08-11T04:40:41.831102Z",
     "shell.execute_reply": "2023-08-11T04:40:41.830357Z"
    }
   },
   "outputs": [
    {
     "name": "stdout",
     "output_type": "stream",
     "text": [
      "892 ns ± 4.2 ns per loop (mean ± std. dev. of 7 runs, 1,000,000 loops each)\n"
     ]
    }
   ],
   "source": [
    "%timeit FastTreeValue(_TREE_DATA_1)"
   ]
  },
  {
   "cell_type": "markdown",
   "id": "24f3707b",
   "metadata": {},
   "source": [
    "### Tianshou Batch's Initialization"
   ]
  },
  {
   "cell_type": "code",
   "execution_count": 15,
   "id": "ac3958df",
   "metadata": {
    "execution": {
     "iopub.execute_input": "2023-08-11T04:40:41.834703Z",
     "iopub.status.busy": "2023-08-11T04:40:41.834294Z",
     "iopub.status.idle": "2023-08-11T04:40:51.173115Z",
     "shell.execute_reply": "2023-08-11T04:40:51.172366Z"
    }
   },
   "outputs": [
    {
     "name": "stdout",
     "output_type": "stream",
     "text": [
      "11.5 µs ± 21.6 ns per loop (mean ± std. dev. of 7 runs, 100,000 loops each)\n"
     ]
    }
   ],
   "source": [
    "%timeit Batch(**_TREE_DATA_1)"
   ]
  },
  {
   "cell_type": "markdown",
   "id": "1ab82e2d",
   "metadata": {},
   "source": [
    "## Deep Copy Operation"
   ]
  },
  {
   "cell_type": "code",
   "execution_count": 16,
   "id": "210a9442",
   "metadata": {
    "execution": {
     "iopub.execute_input": "2023-08-11T04:40:51.177159Z",
     "iopub.status.busy": "2023-08-11T04:40:51.176399Z",
     "iopub.status.idle": "2023-08-11T04:40:51.179977Z",
     "shell.execute_reply": "2023-08-11T04:40:51.179275Z"
    }
   },
   "outputs": [],
   "source": [
    "import copy"
   ]
  },
  {
   "cell_type": "markdown",
   "id": "5a736274",
   "metadata": {},
   "source": [
    "### Deep Copy of TreeValue"
   ]
  },
  {
   "cell_type": "code",
   "execution_count": 17,
   "id": "f9bcadd6",
   "metadata": {
    "execution": {
     "iopub.execute_input": "2023-08-11T04:40:51.183003Z",
     "iopub.status.busy": "2023-08-11T04:40:51.182767Z",
     "iopub.status.idle": "2023-08-11T04:41:03.098255Z",
     "shell.execute_reply": "2023-08-11T04:41:03.097406Z"
    }
   },
   "outputs": [
    {
     "name": "stdout",
     "output_type": "stream",
     "text": [
      "147 µs ± 1.37 µs per loop (mean ± std. dev. of 7 runs, 10,000 loops each)\n"
     ]
    }
   ],
   "source": [
    "t3 = FastTreeValue(_TREE_DATA_3)\n",
    "%timeit copy.deepcopy(t3)"
   ]
  },
  {
   "cell_type": "markdown",
   "id": "bf8be7ea",
   "metadata": {},
   "source": [
    "### Deep Copy of Tianshou Batch"
   ]
  },
  {
   "cell_type": "code",
   "execution_count": 18,
   "id": "91998e6f",
   "metadata": {
    "execution": {
     "iopub.execute_input": "2023-08-11T04:41:03.102310Z",
     "iopub.status.busy": "2023-08-11T04:41:03.101761Z",
     "iopub.status.idle": "2023-08-11T04:41:15.198290Z",
     "shell.execute_reply": "2023-08-11T04:41:15.197625Z"
    }
   },
   "outputs": [
    {
     "name": "stdout",
     "output_type": "stream",
     "text": [
      "149 µs ± 859 ns per loop (mean ± std. dev. of 7 runs, 10,000 loops each)\n"
     ]
    }
   ],
   "source": [
    "b3 = Batch(**_TREE_DATA_3)\n",
    "%timeit copy.deepcopy(b3)"
   ]
  },
  {
   "cell_type": "markdown",
   "id": "223162fb",
   "metadata": {},
   "source": [
    "## Stack, Concat and Split Operation"
   ]
  },
  {
   "cell_type": "markdown",
   "id": "85fa4a73",
   "metadata": {},
   "source": [
    "### Performance of TreeValue"
   ]
  },
  {
   "cell_type": "code",
   "execution_count": 19,
   "id": "a0c2b697",
   "metadata": {
    "execution": {
     "iopub.execute_input": "2023-08-11T04:41:15.202234Z",
     "iopub.status.busy": "2023-08-11T04:41:15.201769Z",
     "iopub.status.idle": "2023-08-11T04:41:15.205215Z",
     "shell.execute_reply": "2023-08-11T04:41:15.204608Z"
    }
   },
   "outputs": [],
   "source": [
    "trees = [FastTreeValue(_TREE_DATA_2) for _ in range(8)]"
   ]
  },
  {
   "cell_type": "code",
   "execution_count": 20,
   "id": "017ea5a5",
   "metadata": {
    "execution": {
     "iopub.execute_input": "2023-08-11T04:41:15.208254Z",
     "iopub.status.busy": "2023-08-11T04:41:15.207818Z",
     "iopub.status.idle": "2023-08-11T04:41:15.215244Z",
     "shell.execute_reply": "2023-08-11T04:41:15.214679Z"
    }
   },
   "outputs": [
    {
     "data": {
      "text/plain": [
       "<FastTreeValue 0x7f2e92775b50>\n",
       "├── 'a' --> tensor([[[-0.0260,  1.4482,  0.5199],\n",
       "│                    [ 0.4596,  3.5255,  0.8986]],\n",
       "│           \n",
       "│                   [[-0.0260,  1.4482,  0.5199],\n",
       "│                    [ 0.4596,  3.5255,  0.8986]],\n",
       "│           \n",
       "│                   [[-0.0260,  1.4482,  0.5199],\n",
       "│                    [ 0.4596,  3.5255,  0.8986]],\n",
       "│           \n",
       "│                   [[-0.0260,  1.4482,  0.5199],\n",
       "│                    [ 0.4596,  3.5255,  0.8986]],\n",
       "│           \n",
       "│                   [[-0.0260,  1.4482,  0.5199],\n",
       "│                    [ 0.4596,  3.5255,  0.8986]],\n",
       "│           \n",
       "│                   [[-0.0260,  1.4482,  0.5199],\n",
       "│                    [ 0.4596,  3.5255,  0.8986]],\n",
       "│           \n",
       "│                   [[-0.0260,  1.4482,  0.5199],\n",
       "│                    [ 0.4596,  3.5255,  0.8986]],\n",
       "│           \n",
       "│                   [[-0.0260,  1.4482,  0.5199],\n",
       "│                    [ 0.4596,  3.5255,  0.8986]]])\n",
       "└── 'x' --> <FastTreeValue 0x7f2e92775af0>\n",
       "    └── 'c' --> tensor([[[ 0.3088,  0.8533,  0.5704, -0.7271],\n",
       "                         [-1.7054,  0.1086, -0.0537,  0.3634],\n",
       "                         [ 0.0320, -0.6255,  0.5534,  0.0112]],\n",
       "                \n",
       "                        [[ 0.3088,  0.8533,  0.5704, -0.7271],\n",
       "                         [-1.7054,  0.1086, -0.0537,  0.3634],\n",
       "                         [ 0.0320, -0.6255,  0.5534,  0.0112]],\n",
       "                \n",
       "                        [[ 0.3088,  0.8533,  0.5704, -0.7271],\n",
       "                         [-1.7054,  0.1086, -0.0537,  0.3634],\n",
       "                         [ 0.0320, -0.6255,  0.5534,  0.0112]],\n",
       "                \n",
       "                        [[ 0.3088,  0.8533,  0.5704, -0.7271],\n",
       "                         [-1.7054,  0.1086, -0.0537,  0.3634],\n",
       "                         [ 0.0320, -0.6255,  0.5534,  0.0112]],\n",
       "                \n",
       "                        [[ 0.3088,  0.8533,  0.5704, -0.7271],\n",
       "                         [-1.7054,  0.1086, -0.0537,  0.3634],\n",
       "                         [ 0.0320, -0.6255,  0.5534,  0.0112]],\n",
       "                \n",
       "                        [[ 0.3088,  0.8533,  0.5704, -0.7271],\n",
       "                         [-1.7054,  0.1086, -0.0537,  0.3634],\n",
       "                         [ 0.0320, -0.6255,  0.5534,  0.0112]],\n",
       "                \n",
       "                        [[ 0.3088,  0.8533,  0.5704, -0.7271],\n",
       "                         [-1.7054,  0.1086, -0.0537,  0.3634],\n",
       "                         [ 0.0320, -0.6255,  0.5534,  0.0112]],\n",
       "                \n",
       "                        [[ 0.3088,  0.8533,  0.5704, -0.7271],\n",
       "                         [-1.7054,  0.1086, -0.0537,  0.3634],\n",
       "                         [ 0.0320, -0.6255,  0.5534,  0.0112]]])"
      ]
     },
     "execution_count": 20,
     "metadata": {},
     "output_type": "execute_result"
    }
   ],
   "source": [
    "t_stack = FastTreeValue.func(subside=True)(torch.stack)\n",
    "\n",
    "t_stack(trees)"
   ]
  },
  {
   "cell_type": "code",
   "execution_count": 21,
   "id": "f8b3f415",
   "metadata": {
    "execution": {
     "iopub.execute_input": "2023-08-11T04:41:15.218266Z",
     "iopub.status.busy": "2023-08-11T04:41:15.217832Z",
     "iopub.status.idle": "2023-08-11T04:41:17.930842Z",
     "shell.execute_reply": "2023-08-11T04:41:17.930105Z"
    }
   },
   "outputs": [
    {
     "name": "stdout",
     "output_type": "stream",
     "text": [
      "33.3 µs ± 32.4 ns per loop (mean ± std. dev. of 7 runs, 10,000 loops each)\n"
     ]
    }
   ],
   "source": [
    "%timeit t_stack(trees)"
   ]
  },
  {
   "cell_type": "code",
   "execution_count": 22,
   "id": "94b56771",
   "metadata": {
    "execution": {
     "iopub.execute_input": "2023-08-11T04:41:17.935330Z",
     "iopub.status.busy": "2023-08-11T04:41:17.933810Z",
     "iopub.status.idle": "2023-08-11T04:41:17.944831Z",
     "shell.execute_reply": "2023-08-11T04:41:17.944172Z"
    }
   },
   "outputs": [
    {
     "data": {
      "text/plain": [
       "<FastTreeValue 0x7f2e927756d0>\n",
       "├── 'a' --> tensor([[-0.0260,  1.4482,  0.5199],\n",
       "│                   [ 0.4596,  3.5255,  0.8986],\n",
       "│                   [-0.0260,  1.4482,  0.5199],\n",
       "│                   [ 0.4596,  3.5255,  0.8986],\n",
       "│                   [-0.0260,  1.4482,  0.5199],\n",
       "│                   [ 0.4596,  3.5255,  0.8986],\n",
       "│                   [-0.0260,  1.4482,  0.5199],\n",
       "│                   [ 0.4596,  3.5255,  0.8986],\n",
       "│                   [-0.0260,  1.4482,  0.5199],\n",
       "│                   [ 0.4596,  3.5255,  0.8986],\n",
       "│                   [-0.0260,  1.4482,  0.5199],\n",
       "│                   [ 0.4596,  3.5255,  0.8986],\n",
       "│                   [-0.0260,  1.4482,  0.5199],\n",
       "│                   [ 0.4596,  3.5255,  0.8986],\n",
       "│                   [-0.0260,  1.4482,  0.5199],\n",
       "│                   [ 0.4596,  3.5255,  0.8986]])\n",
       "└── 'x' --> <FastTreeValue 0x7f2ea53286d0>\n",
       "    └── 'c' --> tensor([[ 0.3088,  0.8533,  0.5704, -0.7271],\n",
       "                        [-1.7054,  0.1086, -0.0537,  0.3634],\n",
       "                        [ 0.0320, -0.6255,  0.5534,  0.0112],\n",
       "                        [ 0.3088,  0.8533,  0.5704, -0.7271],\n",
       "                        [-1.7054,  0.1086, -0.0537,  0.3634],\n",
       "                        [ 0.0320, -0.6255,  0.5534,  0.0112],\n",
       "                        [ 0.3088,  0.8533,  0.5704, -0.7271],\n",
       "                        [-1.7054,  0.1086, -0.0537,  0.3634],\n",
       "                        [ 0.0320, -0.6255,  0.5534,  0.0112],\n",
       "                        [ 0.3088,  0.8533,  0.5704, -0.7271],\n",
       "                        [-1.7054,  0.1086, -0.0537,  0.3634],\n",
       "                        [ 0.0320, -0.6255,  0.5534,  0.0112],\n",
       "                        [ 0.3088,  0.8533,  0.5704, -0.7271],\n",
       "                        [-1.7054,  0.1086, -0.0537,  0.3634],\n",
       "                        [ 0.0320, -0.6255,  0.5534,  0.0112],\n",
       "                        [ 0.3088,  0.8533,  0.5704, -0.7271],\n",
       "                        [-1.7054,  0.1086, -0.0537,  0.3634],\n",
       "                        [ 0.0320, -0.6255,  0.5534,  0.0112],\n",
       "                        [ 0.3088,  0.8533,  0.5704, -0.7271],\n",
       "                        [-1.7054,  0.1086, -0.0537,  0.3634],\n",
       "                        [ 0.0320, -0.6255,  0.5534,  0.0112],\n",
       "                        [ 0.3088,  0.8533,  0.5704, -0.7271],\n",
       "                        [-1.7054,  0.1086, -0.0537,  0.3634],\n",
       "                        [ 0.0320, -0.6255,  0.5534,  0.0112]])"
      ]
     },
     "execution_count": 22,
     "metadata": {},
     "output_type": "execute_result"
    }
   ],
   "source": [
    "t_cat = FastTreeValue.func(subside=True)(torch.cat)\n",
    "\n",
    "t_cat(trees)"
   ]
  },
  {
   "cell_type": "code",
   "execution_count": 23,
   "id": "5e9c06a6",
   "metadata": {
    "execution": {
     "iopub.execute_input": "2023-08-11T04:41:17.948284Z",
     "iopub.status.busy": "2023-08-11T04:41:17.947906Z",
     "iopub.status.idle": "2023-08-11T04:41:20.489844Z",
     "shell.execute_reply": "2023-08-11T04:41:20.489100Z"
    }
   },
   "outputs": [
    {
     "name": "stdout",
     "output_type": "stream",
     "text": [
      "31.2 µs ± 40.4 ns per loop (mean ± std. dev. of 7 runs, 10,000 loops each)\n"
     ]
    }
   ],
   "source": [
    "%timeit t_cat(trees)"
   ]
  },
  {
   "cell_type": "code",
   "execution_count": 24,
   "id": "a3ab5c8f",
   "metadata": {
    "execution": {
     "iopub.execute_input": "2023-08-11T04:41:20.493311Z",
     "iopub.status.busy": "2023-08-11T04:41:20.492805Z",
     "iopub.status.idle": "2023-08-11T04:41:26.013383Z",
     "shell.execute_reply": "2023-08-11T04:41:26.012597Z"
    }
   },
   "outputs": [
    {
     "name": "stdout",
     "output_type": "stream",
     "text": [
      "67.9 µs ± 59.7 ns per loop (mean ± std. dev. of 7 runs, 10,000 loops each)\n"
     ]
    }
   ],
   "source": [
    "t_split = FastTreeValue.func(rise=True)(torch.split)\n",
    "tree = FastTreeValue({\n",
    "    'obs': torch.randn(8, 4, 84, 84),\n",
    "    'action': torch.randint(0, 6, size=(8, 1,)),\n",
    "    'reward': torch.rand(8, 1),\n",
    "})\n",
    "\n",
    "%timeit t_split(tree, 1)"
   ]
  },
  {
   "cell_type": "markdown",
   "id": "31c3ec0b",
   "metadata": {},
   "source": [
    "### Performance of Tianshou Batch"
   ]
  },
  {
   "cell_type": "code",
   "execution_count": 25,
   "id": "9ead828a",
   "metadata": {
    "execution": {
     "iopub.execute_input": "2023-08-11T04:41:26.017252Z",
     "iopub.status.busy": "2023-08-11T04:41:26.016575Z",
     "iopub.status.idle": "2023-08-11T04:41:26.024657Z",
     "shell.execute_reply": "2023-08-11T04:41:26.023931Z"
    }
   },
   "outputs": [
    {
     "data": {
      "text/plain": [
       "Batch(\n",
       "    x: Batch(\n",
       "           c: tensor([[[ 0.3088,  0.8533,  0.5704, -0.7271],\n",
       "                       [-1.7054,  0.1086, -0.0537,  0.3634],\n",
       "                       [ 0.0320, -0.6255,  0.5534,  0.0112]],\n",
       "              \n",
       "                      [[ 0.3088,  0.8533,  0.5704, -0.7271],\n",
       "                       [-1.7054,  0.1086, -0.0537,  0.3634],\n",
       "                       [ 0.0320, -0.6255,  0.5534,  0.0112]],\n",
       "              \n",
       "                      [[ 0.3088,  0.8533,  0.5704, -0.7271],\n",
       "                       [-1.7054,  0.1086, -0.0537,  0.3634],\n",
       "                       [ 0.0320, -0.6255,  0.5534,  0.0112]],\n",
       "              \n",
       "                      [[ 0.3088,  0.8533,  0.5704, -0.7271],\n",
       "                       [-1.7054,  0.1086, -0.0537,  0.3634],\n",
       "                       [ 0.0320, -0.6255,  0.5534,  0.0112]],\n",
       "              \n",
       "                      [[ 0.3088,  0.8533,  0.5704, -0.7271],\n",
       "                       [-1.7054,  0.1086, -0.0537,  0.3634],\n",
       "                       [ 0.0320, -0.6255,  0.5534,  0.0112]],\n",
       "              \n",
       "                      [[ 0.3088,  0.8533,  0.5704, -0.7271],\n",
       "                       [-1.7054,  0.1086, -0.0537,  0.3634],\n",
       "                       [ 0.0320, -0.6255,  0.5534,  0.0112]],\n",
       "              \n",
       "                      [[ 0.3088,  0.8533,  0.5704, -0.7271],\n",
       "                       [-1.7054,  0.1086, -0.0537,  0.3634],\n",
       "                       [ 0.0320, -0.6255,  0.5534,  0.0112]],\n",
       "              \n",
       "                      [[ 0.3088,  0.8533,  0.5704, -0.7271],\n",
       "                       [-1.7054,  0.1086, -0.0537,  0.3634],\n",
       "                       [ 0.0320, -0.6255,  0.5534,  0.0112]]]),\n",
       "       ),\n",
       "    a: tensor([[[-0.0260,  1.4482,  0.5199],\n",
       "                [ 0.4596,  3.5255,  0.8986]],\n",
       "       \n",
       "               [[-0.0260,  1.4482,  0.5199],\n",
       "                [ 0.4596,  3.5255,  0.8986]],\n",
       "       \n",
       "               [[-0.0260,  1.4482,  0.5199],\n",
       "                [ 0.4596,  3.5255,  0.8986]],\n",
       "       \n",
       "               [[-0.0260,  1.4482,  0.5199],\n",
       "                [ 0.4596,  3.5255,  0.8986]],\n",
       "       \n",
       "               [[-0.0260,  1.4482,  0.5199],\n",
       "                [ 0.4596,  3.5255,  0.8986]],\n",
       "       \n",
       "               [[-0.0260,  1.4482,  0.5199],\n",
       "                [ 0.4596,  3.5255,  0.8986]],\n",
       "       \n",
       "               [[-0.0260,  1.4482,  0.5199],\n",
       "                [ 0.4596,  3.5255,  0.8986]],\n",
       "       \n",
       "               [[-0.0260,  1.4482,  0.5199],\n",
       "                [ 0.4596,  3.5255,  0.8986]]]),\n",
       ")"
      ]
     },
     "execution_count": 25,
     "metadata": {},
     "output_type": "execute_result"
    }
   ],
   "source": [
    "batches = [Batch(**_TREE_DATA_2) for _ in range(8)]\n",
    "\n",
    "Batch.stack(batches)"
   ]
  },
  {
   "cell_type": "code",
   "execution_count": 26,
   "id": "ec9037a3",
   "metadata": {
    "execution": {
     "iopub.execute_input": "2023-08-11T04:41:26.028211Z",
     "iopub.status.busy": "2023-08-11T04:41:26.027640Z",
     "iopub.status.idle": "2023-08-11T04:41:32.945762Z",
     "shell.execute_reply": "2023-08-11T04:41:32.945086Z"
    }
   },
   "outputs": [
    {
     "name": "stdout",
     "output_type": "stream",
     "text": [
      "85.2 µs ± 171 ns per loop (mean ± std. dev. of 7 runs, 10,000 loops each)\n"
     ]
    }
   ],
   "source": [
    "%timeit Batch.stack(batches)"
   ]
  },
  {
   "cell_type": "code",
   "execution_count": 27,
   "id": "cb8ab77e",
   "metadata": {
    "execution": {
     "iopub.execute_input": "2023-08-11T04:41:32.949162Z",
     "iopub.status.busy": "2023-08-11T04:41:32.948659Z",
     "iopub.status.idle": "2023-08-11T04:41:32.956278Z",
     "shell.execute_reply": "2023-08-11T04:41:32.955537Z"
    }
   },
   "outputs": [
    {
     "data": {
      "text/plain": [
       "Batch(\n",
       "    x: Batch(\n",
       "           c: tensor([[ 0.3088,  0.8533,  0.5704, -0.7271],\n",
       "                      [-1.7054,  0.1086, -0.0537,  0.3634],\n",
       "                      [ 0.0320, -0.6255,  0.5534,  0.0112],\n",
       "                      [ 0.3088,  0.8533,  0.5704, -0.7271],\n",
       "                      [-1.7054,  0.1086, -0.0537,  0.3634],\n",
       "                      [ 0.0320, -0.6255,  0.5534,  0.0112],\n",
       "                      [ 0.3088,  0.8533,  0.5704, -0.7271],\n",
       "                      [-1.7054,  0.1086, -0.0537,  0.3634],\n",
       "                      [ 0.0320, -0.6255,  0.5534,  0.0112],\n",
       "                      [ 0.3088,  0.8533,  0.5704, -0.7271],\n",
       "                      [-1.7054,  0.1086, -0.0537,  0.3634],\n",
       "                      [ 0.0320, -0.6255,  0.5534,  0.0112],\n",
       "                      [ 0.3088,  0.8533,  0.5704, -0.7271],\n",
       "                      [-1.7054,  0.1086, -0.0537,  0.3634],\n",
       "                      [ 0.0320, -0.6255,  0.5534,  0.0112],\n",
       "                      [ 0.3088,  0.8533,  0.5704, -0.7271],\n",
       "                      [-1.7054,  0.1086, -0.0537,  0.3634],\n",
       "                      [ 0.0320, -0.6255,  0.5534,  0.0112],\n",
       "                      [ 0.3088,  0.8533,  0.5704, -0.7271],\n",
       "                      [-1.7054,  0.1086, -0.0537,  0.3634],\n",
       "                      [ 0.0320, -0.6255,  0.5534,  0.0112],\n",
       "                      [ 0.3088,  0.8533,  0.5704, -0.7271],\n",
       "                      [-1.7054,  0.1086, -0.0537,  0.3634],\n",
       "                      [ 0.0320, -0.6255,  0.5534,  0.0112]]),\n",
       "       ),\n",
       "    a: tensor([[-0.0260,  1.4482,  0.5199],\n",
       "               [ 0.4596,  3.5255,  0.8986],\n",
       "               [-0.0260,  1.4482,  0.5199],\n",
       "               [ 0.4596,  3.5255,  0.8986],\n",
       "               [-0.0260,  1.4482,  0.5199],\n",
       "               [ 0.4596,  3.5255,  0.8986],\n",
       "               [-0.0260,  1.4482,  0.5199],\n",
       "               [ 0.4596,  3.5255,  0.8986],\n",
       "               [-0.0260,  1.4482,  0.5199],\n",
       "               [ 0.4596,  3.5255,  0.8986],\n",
       "               [-0.0260,  1.4482,  0.5199],\n",
       "               [ 0.4596,  3.5255,  0.8986],\n",
       "               [-0.0260,  1.4482,  0.5199],\n",
       "               [ 0.4596,  3.5255,  0.8986],\n",
       "               [-0.0260,  1.4482,  0.5199],\n",
       "               [ 0.4596,  3.5255,  0.8986]]),\n",
       ")"
      ]
     },
     "execution_count": 27,
     "metadata": {},
     "output_type": "execute_result"
    }
   ],
   "source": [
    "Batch.cat(batches)"
   ]
  },
  {
   "cell_type": "code",
   "execution_count": 28,
   "id": "18dfb045",
   "metadata": {
    "execution": {
     "iopub.execute_input": "2023-08-11T04:41:32.959666Z",
     "iopub.status.busy": "2023-08-11T04:41:32.959272Z",
     "iopub.status.idle": "2023-08-11T04:41:45.506911Z",
     "shell.execute_reply": "2023-08-11T04:41:45.506173Z"
    }
   },
   "outputs": [
    {
     "name": "stdout",
     "output_type": "stream",
     "text": [
      "155 µs ± 321 ns per loop (mean ± std. dev. of 7 runs, 10,000 loops each)\n"
     ]
    }
   ],
   "source": [
    "%timeit Batch.cat(batches)"
   ]
  },
  {
   "cell_type": "code",
   "execution_count": 29,
   "id": "c6688e51",
   "metadata": {
    "execution": {
     "iopub.execute_input": "2023-08-11T04:41:45.510507Z",
     "iopub.status.busy": "2023-08-11T04:41:45.509964Z",
     "iopub.status.idle": "2023-08-11T04:41:48.369837Z",
     "shell.execute_reply": "2023-08-11T04:41:48.369162Z"
    }
   },
   "outputs": [
    {
     "name": "stdout",
     "output_type": "stream",
     "text": [
      "350 µs ± 4.69 µs per loop (mean ± std. dev. of 7 runs, 1,000 loops each)\n"
     ]
    }
   ],
   "source": [
    "batch = Batch({\n",
    "    'obs': torch.randn(8, 4, 84, 84),\n",
    "    'action': torch.randint(0, 6, size=(8, 1,)),\n",
    "    'reward': torch.rand(8, 1)}\n",
    ")\n",
    "\n",
    "%timeit list(Batch.split(batch, 1, shuffle=False, merge_last=True))"
   ]
  },
  {
   "cell_type": "code",
   "execution_count": null,
   "id": "2539fbd9",
   "metadata": {},
   "outputs": [],
   "source": []
  }
 ],
 "metadata": {
  "kernelspec": {
   "display_name": "Python 3 (ipykernel)",
   "language": "python",
   "name": "python3"
  },
  "language_info": {
   "codemirror_mode": {
    "name": "ipython",
    "version": 3
   },
   "file_extension": ".py",
   "mimetype": "text/x-python",
   "name": "python",
   "nbconvert_exporter": "python",
   "pygments_lexer": "ipython3",
   "version": "3.8.17"
  }
 },
 "nbformat": 4,
 "nbformat_minor": 5
}
