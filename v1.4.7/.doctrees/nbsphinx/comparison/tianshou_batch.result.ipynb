{
 "cells": [
  {
   "cell_type": "markdown",
   "id": "9d39d946",
   "metadata": {},
   "source": [
    "# Comparison Between TreeValue and Tianshou Batch"
   ]
  },
  {
   "cell_type": "markdown",
   "id": "3c6db2d4",
   "metadata": {},
   "source": [
    "In this section, we will take a look at the feature and performance of the [Tianshou Batch](https://github.com/thu-ml/tianshou) library, which is developed by Tsinghua Machine Learning Group."
   ]
  },
  {
   "cell_type": "markdown",
   "id": "069361b0",
   "metadata": {},
   "source": [
    "Before starting the comparison, let us define some thing."
   ]
  },
  {
   "cell_type": "code",
   "execution_count": 1,
   "id": "06fc8d26",
   "metadata": {
    "execution": {
     "iopub.execute_input": "2023-08-14T05:52:51.867974Z",
     "iopub.status.busy": "2023-08-14T05:52:51.867469Z",
     "iopub.status.idle": "2023-08-14T05:52:53.261000Z",
     "shell.execute_reply": "2023-08-14T05:52:53.260187Z"
    }
   },
   "outputs": [],
   "source": [
    "import torch \n",
    "\n",
    "_TREE_DATA_1 = {'a': 1, 'b': 2, 'x': {'c': 3, 'd': 4}}\n",
    "_TREE_DATA_2 = {\n",
    "    'a': torch.randn(2, 3), \n",
    "    'x': {\n",
    "        'c': torch.randn(3, 4)\n",
    "    },\n",
    "}\n",
    "_TREE_DATA_3 = {\n",
    "    'obs': torch.randn(4, 84, 84),\n",
    "    'action': torch.randint(0, 6, size=(1,)),\n",
    "    'reward': torch.rand(1),\n",
    "}"
   ]
  },
  {
   "cell_type": "markdown",
   "id": "83461b25",
   "metadata": {},
   "source": [
    "## Read and Write Operation"
   ]
  },
  {
   "cell_type": "markdown",
   "id": "067b3f73",
   "metadata": {},
   "source": [
    "Reading and writing are the two most common operations in the tree data structure based on the data model (TreeValue and Tianshou Batch both belong to this type), so this section will compare the reading and writing performance of these two libraries."
   ]
  },
  {
   "cell_type": "markdown",
   "id": "5d09a5b7",
   "metadata": {},
   "source": [
    "### TreeValue's Get and Set"
   ]
  },
  {
   "cell_type": "code",
   "execution_count": 2,
   "id": "9519c4bb",
   "metadata": {
    "execution": {
     "iopub.execute_input": "2023-08-14T05:52:53.265535Z",
     "iopub.status.busy": "2023-08-14T05:52:53.265196Z",
     "iopub.status.idle": "2023-08-14T05:52:53.589021Z",
     "shell.execute_reply": "2023-08-14T05:52:53.588188Z"
    }
   },
   "outputs": [],
   "source": [
    "from treevalue import FastTreeValue\n",
    "\n",
    "t = FastTreeValue(_TREE_DATA_2)"
   ]
  },
  {
   "cell_type": "code",
   "execution_count": 3,
   "id": "11c37677",
   "metadata": {
    "execution": {
     "iopub.execute_input": "2023-08-14T05:52:53.593398Z",
     "iopub.status.busy": "2023-08-14T05:52:53.592833Z",
     "iopub.status.idle": "2023-08-14T05:52:53.602134Z",
     "shell.execute_reply": "2023-08-14T05:52:53.601406Z"
    }
   },
   "outputs": [
    {
     "data": {
      "text/plain": [
       "<FastTreeValue 0x7fd73874dfd0>\n",
       "├── 'a' --> tensor([[ 2.0882,  0.6706, -0.4951],\n",
       "│                   [ 0.8026,  1.4073, -0.6093]])\n",
       "└── 'x' --> <FastTreeValue 0x7fd73b7fab50>\n",
       "    └── 'c' --> tensor([[ 2.0969, -0.8406,  1.5021, -2.2032],\n",
       "                        [-0.5722, -0.9777, -2.2600, -0.7326],\n",
       "                        [ 1.7146, -0.5840,  0.4905, -1.8891]])"
      ]
     },
     "execution_count": 3,
     "metadata": {},
     "output_type": "execute_result"
    }
   ],
   "source": [
    "t"
   ]
  },
  {
   "cell_type": "code",
   "execution_count": 4,
   "id": "fd70b0b9",
   "metadata": {
    "execution": {
     "iopub.execute_input": "2023-08-14T05:52:53.605839Z",
     "iopub.status.busy": "2023-08-14T05:52:53.605391Z",
     "iopub.status.idle": "2023-08-14T05:52:53.610380Z",
     "shell.execute_reply": "2023-08-14T05:52:53.609675Z"
    }
   },
   "outputs": [
    {
     "data": {
      "text/plain": [
       "tensor([[ 2.0882,  0.6706, -0.4951],\n",
       "        [ 0.8026,  1.4073, -0.6093]])"
      ]
     },
     "execution_count": 4,
     "metadata": {},
     "output_type": "execute_result"
    }
   ],
   "source": [
    "t.a"
   ]
  },
  {
   "cell_type": "code",
   "execution_count": 5,
   "id": "c18197bd",
   "metadata": {
    "execution": {
     "iopub.execute_input": "2023-08-14T05:52:53.614083Z",
     "iopub.status.busy": "2023-08-14T05:52:53.613641Z",
     "iopub.status.idle": "2023-08-14T05:52:59.390372Z",
     "shell.execute_reply": "2023-08-14T05:52:59.389607Z"
    }
   },
   "outputs": [
    {
     "name": "stdout",
     "output_type": "stream",
     "text": [
      "71.1 ns ± 0.0931 ns per loop (mean ± std. dev. of 7 runs, 10,000,000 loops each)\n"
     ]
    }
   ],
   "source": [
    "%timeit t.a"
   ]
  },
  {
   "cell_type": "code",
   "execution_count": 6,
   "id": "bd52f867",
   "metadata": {
    "execution": {
     "iopub.execute_input": "2023-08-14T05:52:59.393868Z",
     "iopub.status.busy": "2023-08-14T05:52:59.393339Z",
     "iopub.status.idle": "2023-08-14T05:52:59.400138Z",
     "shell.execute_reply": "2023-08-14T05:52:59.399401Z"
    }
   },
   "outputs": [
    {
     "data": {
      "text/plain": [
       "<FastTreeValue 0x7fd73874dfd0>\n",
       "├── 'a' --> tensor([[-0.8485, -0.3824, -0.4923],\n",
       "│                   [-2.1136, -1.0377,  0.1438]])\n",
       "└── 'x' --> <FastTreeValue 0x7fd73b7fab50>\n",
       "    └── 'c' --> tensor([[ 2.0969, -0.8406,  1.5021, -2.2032],\n",
       "                        [-0.5722, -0.9777, -2.2600, -0.7326],\n",
       "                        [ 1.7146, -0.5840,  0.4905, -1.8891]])"
      ]
     },
     "execution_count": 6,
     "metadata": {},
     "output_type": "execute_result"
    }
   ],
   "source": [
    "new_value = torch.randn(2, 3)\n",
    "t.a = new_value\n",
    "\n",
    "t"
   ]
  },
  {
   "cell_type": "code",
   "execution_count": 7,
   "id": "bbe04d1c",
   "metadata": {
    "execution": {
     "iopub.execute_input": "2023-08-14T05:52:59.403356Z",
     "iopub.status.busy": "2023-08-14T05:52:59.402895Z",
     "iopub.status.idle": "2023-08-14T05:53:06.065828Z",
     "shell.execute_reply": "2023-08-14T05:53:06.065052Z"
    }
   },
   "outputs": [
    {
     "name": "stdout",
     "output_type": "stream",
     "text": [
      "82.1 ns ± 0.168 ns per loop (mean ± std. dev. of 7 runs, 10,000,000 loops each)\n"
     ]
    }
   ],
   "source": [
    "%timeit t.a = new_value"
   ]
  },
  {
   "cell_type": "markdown",
   "id": "48c49731",
   "metadata": {},
   "source": [
    "### Tianshou Batch's Get and Set"
   ]
  },
  {
   "cell_type": "code",
   "execution_count": 8,
   "id": "f1bb14c1",
   "metadata": {
    "execution": {
     "iopub.execute_input": "2023-08-14T05:53:06.069681Z",
     "iopub.status.busy": "2023-08-14T05:53:06.069126Z",
     "iopub.status.idle": "2023-08-14T05:53:06.460834Z",
     "shell.execute_reply": "2023-08-14T05:53:06.458875Z"
    }
   },
   "outputs": [],
   "source": [
    "from tianshou.data import Batch\n",
    "\n",
    "b = Batch(**_TREE_DATA_2)"
   ]
  },
  {
   "cell_type": "code",
   "execution_count": 9,
   "id": "cb0777c3",
   "metadata": {
    "execution": {
     "iopub.execute_input": "2023-08-14T05:53:06.465129Z",
     "iopub.status.busy": "2023-08-14T05:53:06.464468Z",
     "iopub.status.idle": "2023-08-14T05:53:06.471036Z",
     "shell.execute_reply": "2023-08-14T05:53:06.470364Z"
    }
   },
   "outputs": [
    {
     "data": {
      "text/plain": [
       "Batch(\n",
       "    a: tensor([[ 2.0882,  0.6706, -0.4951],\n",
       "               [ 0.8026,  1.4073, -0.6093]]),\n",
       "    x: Batch(\n",
       "           c: tensor([[ 2.0969, -0.8406,  1.5021, -2.2032],\n",
       "                      [-0.5722, -0.9777, -2.2600, -0.7326],\n",
       "                      [ 1.7146, -0.5840,  0.4905, -1.8891]]),\n",
       "       ),\n",
       ")"
      ]
     },
     "execution_count": 9,
     "metadata": {},
     "output_type": "execute_result"
    }
   ],
   "source": [
    "b"
   ]
  },
  {
   "cell_type": "code",
   "execution_count": 10,
   "id": "43ef8ea3",
   "metadata": {
    "execution": {
     "iopub.execute_input": "2023-08-14T05:53:06.474285Z",
     "iopub.status.busy": "2023-08-14T05:53:06.473741Z",
     "iopub.status.idle": "2023-08-14T05:53:06.478848Z",
     "shell.execute_reply": "2023-08-14T05:53:06.478139Z"
    }
   },
   "outputs": [
    {
     "data": {
      "text/plain": [
       "tensor([[ 2.0882,  0.6706, -0.4951],\n",
       "        [ 0.8026,  1.4073, -0.6093]])"
      ]
     },
     "execution_count": 10,
     "metadata": {},
     "output_type": "execute_result"
    }
   ],
   "source": [
    "b.a"
   ]
  },
  {
   "cell_type": "code",
   "execution_count": 11,
   "id": "b785ab72",
   "metadata": {
    "execution": {
     "iopub.execute_input": "2023-08-14T05:53:06.482272Z",
     "iopub.status.busy": "2023-08-14T05:53:06.481832Z",
     "iopub.status.idle": "2023-08-14T05:53:11.779598Z",
     "shell.execute_reply": "2023-08-14T05:53:11.778812Z"
    }
   },
   "outputs": [
    {
     "name": "stdout",
     "output_type": "stream",
     "text": [
      "65.2 ns ± 0.178 ns per loop (mean ± std. dev. of 7 runs, 10,000,000 loops each)\n"
     ]
    }
   ],
   "source": [
    "%timeit b.a"
   ]
  },
  {
   "cell_type": "code",
   "execution_count": 12,
   "id": "ad54dc69",
   "metadata": {
    "execution": {
     "iopub.execute_input": "2023-08-14T05:53:11.783152Z",
     "iopub.status.busy": "2023-08-14T05:53:11.782642Z",
     "iopub.status.idle": "2023-08-14T05:53:11.789090Z",
     "shell.execute_reply": "2023-08-14T05:53:11.788337Z"
    }
   },
   "outputs": [
    {
     "data": {
      "text/plain": [
       "Batch(\n",
       "    a: tensor([[ 1.2011,  1.5019,  0.8877],\n",
       "               [ 3.0177,  1.7704, -0.4007]]),\n",
       "    x: Batch(\n",
       "           c: tensor([[ 2.0969, -0.8406,  1.5021, -2.2032],\n",
       "                      [-0.5722, -0.9777, -2.2600, -0.7326],\n",
       "                      [ 1.7146, -0.5840,  0.4905, -1.8891]]),\n",
       "       ),\n",
       ")"
      ]
     },
     "execution_count": 12,
     "metadata": {},
     "output_type": "execute_result"
    }
   ],
   "source": [
    "new_value = torch.randn(2, 3)\n",
    "b.a = new_value\n",
    "\n",
    "b"
   ]
  },
  {
   "cell_type": "code",
   "execution_count": 13,
   "id": "29b1d0bf",
   "metadata": {
    "execution": {
     "iopub.execute_input": "2023-08-14T05:53:11.792293Z",
     "iopub.status.busy": "2023-08-14T05:53:11.791834Z",
     "iopub.status.idle": "2023-08-14T05:53:16.179393Z",
     "shell.execute_reply": "2023-08-14T05:53:16.178588Z"
    }
   },
   "outputs": [
    {
     "name": "stdout",
     "output_type": "stream",
     "text": [
      "540 ns ± 0.118 ns per loop (mean ± std. dev. of 7 runs, 1,000,000 loops each)\n"
     ]
    }
   ],
   "source": [
    "%timeit b.a = new_value"
   ]
  },
  {
   "cell_type": "markdown",
   "id": "b61ad1d0",
   "metadata": {},
   "source": [
    "## Initialization"
   ]
  },
  {
   "cell_type": "markdown",
   "id": "d70f0d54",
   "metadata": {},
   "source": [
    "### TreeValue's Initialization"
   ]
  },
  {
   "cell_type": "code",
   "execution_count": 14,
   "id": "d32a679b",
   "metadata": {
    "execution": {
     "iopub.execute_input": "2023-08-14T05:53:16.183416Z",
     "iopub.status.busy": "2023-08-14T05:53:16.182709Z",
     "iopub.status.idle": "2023-08-14T05:53:23.420181Z",
     "shell.execute_reply": "2023-08-14T05:53:23.419411Z"
    }
   },
   "outputs": [
    {
     "name": "stdout",
     "output_type": "stream",
     "text": [
      "893 ns ± 2.21 ns per loop (mean ± std. dev. of 7 runs, 1,000,000 loops each)\n"
     ]
    }
   ],
   "source": [
    "%timeit FastTreeValue(_TREE_DATA_1)"
   ]
  },
  {
   "cell_type": "markdown",
   "id": "24f3707b",
   "metadata": {},
   "source": [
    "### Tianshou Batch's Initialization"
   ]
  },
  {
   "cell_type": "code",
   "execution_count": 15,
   "id": "ac3958df",
   "metadata": {
    "execution": {
     "iopub.execute_input": "2023-08-14T05:53:23.424176Z",
     "iopub.status.busy": "2023-08-14T05:53:23.423436Z",
     "iopub.status.idle": "2023-08-14T05:53:32.412770Z",
     "shell.execute_reply": "2023-08-14T05:53:32.411973Z"
    }
   },
   "outputs": [
    {
     "name": "stdout",
     "output_type": "stream",
     "text": [
      "11.1 µs ± 23.8 ns per loop (mean ± std. dev. of 7 runs, 100,000 loops each)\n"
     ]
    }
   ],
   "source": [
    "%timeit Batch(**_TREE_DATA_1)"
   ]
  },
  {
   "cell_type": "markdown",
   "id": "1ab82e2d",
   "metadata": {},
   "source": [
    "## Deep Copy Operation"
   ]
  },
  {
   "cell_type": "code",
   "execution_count": 16,
   "id": "210a9442",
   "metadata": {
    "execution": {
     "iopub.execute_input": "2023-08-14T05:53:32.416543Z",
     "iopub.status.busy": "2023-08-14T05:53:32.416019Z",
     "iopub.status.idle": "2023-08-14T05:53:32.419897Z",
     "shell.execute_reply": "2023-08-14T05:53:32.419148Z"
    }
   },
   "outputs": [],
   "source": [
    "import copy"
   ]
  },
  {
   "cell_type": "markdown",
   "id": "5a736274",
   "metadata": {},
   "source": [
    "### Deep Copy of TreeValue"
   ]
  },
  {
   "cell_type": "code",
   "execution_count": 17,
   "id": "f9bcadd6",
   "metadata": {
    "execution": {
     "iopub.execute_input": "2023-08-14T05:53:32.423272Z",
     "iopub.status.busy": "2023-08-14T05:53:32.422893Z",
     "iopub.status.idle": "2023-08-14T05:53:44.170365Z",
     "shell.execute_reply": "2023-08-14T05:53:44.169692Z"
    }
   },
   "outputs": [
    {
     "name": "stdout",
     "output_type": "stream",
     "text": [
      "145 µs ± 1.08 µs per loop (mean ± std. dev. of 7 runs, 10,000 loops each)\n"
     ]
    }
   ],
   "source": [
    "t3 = FastTreeValue(_TREE_DATA_3)\n",
    "%timeit copy.deepcopy(t3)"
   ]
  },
  {
   "cell_type": "markdown",
   "id": "bf8be7ea",
   "metadata": {},
   "source": [
    "### Deep Copy of Tianshou Batch"
   ]
  },
  {
   "cell_type": "code",
   "execution_count": 18,
   "id": "91998e6f",
   "metadata": {
    "execution": {
     "iopub.execute_input": "2023-08-14T05:53:44.174074Z",
     "iopub.status.busy": "2023-08-14T05:53:44.173231Z",
     "iopub.status.idle": "2023-08-14T05:53:56.015001Z",
     "shell.execute_reply": "2023-08-14T05:53:56.014329Z"
    }
   },
   "outputs": [
    {
     "name": "stdout",
     "output_type": "stream",
     "text": [
      "146 µs ± 999 ns per loop (mean ± std. dev. of 7 runs, 10,000 loops each)\n"
     ]
    }
   ],
   "source": [
    "b3 = Batch(**_TREE_DATA_3)\n",
    "%timeit copy.deepcopy(b3)"
   ]
  },
  {
   "cell_type": "markdown",
   "id": "223162fb",
   "metadata": {},
   "source": [
    "## Stack, Concat and Split Operation"
   ]
  },
  {
   "cell_type": "markdown",
   "id": "85fa4a73",
   "metadata": {},
   "source": [
    "### Performance of TreeValue"
   ]
  },
  {
   "cell_type": "code",
   "execution_count": 19,
   "id": "a0c2b697",
   "metadata": {
    "execution": {
     "iopub.execute_input": "2023-08-14T05:53:56.018688Z",
     "iopub.status.busy": "2023-08-14T05:53:56.018254Z",
     "iopub.status.idle": "2023-08-14T05:53:56.021846Z",
     "shell.execute_reply": "2023-08-14T05:53:56.021085Z"
    }
   },
   "outputs": [],
   "source": [
    "trees = [FastTreeValue(_TREE_DATA_2) for _ in range(8)]"
   ]
  },
  {
   "cell_type": "code",
   "execution_count": 20,
   "id": "017ea5a5",
   "metadata": {
    "execution": {
     "iopub.execute_input": "2023-08-14T05:53:56.025071Z",
     "iopub.status.busy": "2023-08-14T05:53:56.024609Z",
     "iopub.status.idle": "2023-08-14T05:53:56.032577Z",
     "shell.execute_reply": "2023-08-14T05:53:56.031833Z"
    }
   },
   "outputs": [
    {
     "data": {
      "text/plain": [
       "<FastTreeValue 0x7fd7387842b0>\n",
       "├── 'a' --> tensor([[[ 2.0882,  0.6706, -0.4951],\n",
       "│                    [ 0.8026,  1.4073, -0.6093]],\n",
       "│           \n",
       "│                   [[ 2.0882,  0.6706, -0.4951],\n",
       "│                    [ 0.8026,  1.4073, -0.6093]],\n",
       "│           \n",
       "│                   [[ 2.0882,  0.6706, -0.4951],\n",
       "│                    [ 0.8026,  1.4073, -0.6093]],\n",
       "│           \n",
       "│                   [[ 2.0882,  0.6706, -0.4951],\n",
       "│                    [ 0.8026,  1.4073, -0.6093]],\n",
       "│           \n",
       "│                   [[ 2.0882,  0.6706, -0.4951],\n",
       "│                    [ 0.8026,  1.4073, -0.6093]],\n",
       "│           \n",
       "│                   [[ 2.0882,  0.6706, -0.4951],\n",
       "│                    [ 0.8026,  1.4073, -0.6093]],\n",
       "│           \n",
       "│                   [[ 2.0882,  0.6706, -0.4951],\n",
       "│                    [ 0.8026,  1.4073, -0.6093]],\n",
       "│           \n",
       "│                   [[ 2.0882,  0.6706, -0.4951],\n",
       "│                    [ 0.8026,  1.4073, -0.6093]]])\n",
       "└── 'x' --> <FastTreeValue 0x7fd7387783d0>\n",
       "    └── 'c' --> tensor([[[ 2.0969, -0.8406,  1.5021, -2.2032],\n",
       "                         [-0.5722, -0.9777, -2.2600, -0.7326],\n",
       "                         [ 1.7146, -0.5840,  0.4905, -1.8891]],\n",
       "                \n",
       "                        [[ 2.0969, -0.8406,  1.5021, -2.2032],\n",
       "                         [-0.5722, -0.9777, -2.2600, -0.7326],\n",
       "                         [ 1.7146, -0.5840,  0.4905, -1.8891]],\n",
       "                \n",
       "                        [[ 2.0969, -0.8406,  1.5021, -2.2032],\n",
       "                         [-0.5722, -0.9777, -2.2600, -0.7326],\n",
       "                         [ 1.7146, -0.5840,  0.4905, -1.8891]],\n",
       "                \n",
       "                        [[ 2.0969, -0.8406,  1.5021, -2.2032],\n",
       "                         [-0.5722, -0.9777, -2.2600, -0.7326],\n",
       "                         [ 1.7146, -0.5840,  0.4905, -1.8891]],\n",
       "                \n",
       "                        [[ 2.0969, -0.8406,  1.5021, -2.2032],\n",
       "                         [-0.5722, -0.9777, -2.2600, -0.7326],\n",
       "                         [ 1.7146, -0.5840,  0.4905, -1.8891]],\n",
       "                \n",
       "                        [[ 2.0969, -0.8406,  1.5021, -2.2032],\n",
       "                         [-0.5722, -0.9777, -2.2600, -0.7326],\n",
       "                         [ 1.7146, -0.5840,  0.4905, -1.8891]],\n",
       "                \n",
       "                        [[ 2.0969, -0.8406,  1.5021, -2.2032],\n",
       "                         [-0.5722, -0.9777, -2.2600, -0.7326],\n",
       "                         [ 1.7146, -0.5840,  0.4905, -1.8891]],\n",
       "                \n",
       "                        [[ 2.0969, -0.8406,  1.5021, -2.2032],\n",
       "                         [-0.5722, -0.9777, -2.2600, -0.7326],\n",
       "                         [ 1.7146, -0.5840,  0.4905, -1.8891]]])"
      ]
     },
     "execution_count": 20,
     "metadata": {},
     "output_type": "execute_result"
    }
   ],
   "source": [
    "t_stack = FastTreeValue.func(subside=True)(torch.stack)\n",
    "\n",
    "t_stack(trees)"
   ]
  },
  {
   "cell_type": "code",
   "execution_count": 21,
   "id": "f8b3f415",
   "metadata": {
    "execution": {
     "iopub.execute_input": "2023-08-14T05:53:56.035718Z",
     "iopub.status.busy": "2023-08-14T05:53:56.035274Z",
     "iopub.status.idle": "2023-08-14T05:53:58.714895Z",
     "shell.execute_reply": "2023-08-14T05:53:58.714125Z"
    }
   },
   "outputs": [
    {
     "name": "stdout",
     "output_type": "stream",
     "text": [
      "33 µs ± 50.2 ns per loop (mean ± std. dev. of 7 runs, 10,000 loops each)\n"
     ]
    }
   ],
   "source": [
    "%timeit t_stack(trees)"
   ]
  },
  {
   "cell_type": "code",
   "execution_count": 22,
   "id": "94b56771",
   "metadata": {
    "execution": {
     "iopub.execute_input": "2023-08-14T05:53:58.719544Z",
     "iopub.status.busy": "2023-08-14T05:53:58.718004Z",
     "iopub.status.idle": "2023-08-14T05:53:58.729349Z",
     "shell.execute_reply": "2023-08-14T05:53:58.728558Z"
    }
   },
   "outputs": [
    {
     "data": {
      "text/plain": [
       "<FastTreeValue 0x7fd73871a730>\n",
       "├── 'a' --> tensor([[ 2.0882,  0.6706, -0.4951],\n",
       "│                   [ 0.8026,  1.4073, -0.6093],\n",
       "│                   [ 2.0882,  0.6706, -0.4951],\n",
       "│                   [ 0.8026,  1.4073, -0.6093],\n",
       "│                   [ 2.0882,  0.6706, -0.4951],\n",
       "│                   [ 0.8026,  1.4073, -0.6093],\n",
       "│                   [ 2.0882,  0.6706, -0.4951],\n",
       "│                   [ 0.8026,  1.4073, -0.6093],\n",
       "│                   [ 2.0882,  0.6706, -0.4951],\n",
       "│                   [ 0.8026,  1.4073, -0.6093],\n",
       "│                   [ 2.0882,  0.6706, -0.4951],\n",
       "│                   [ 0.8026,  1.4073, -0.6093],\n",
       "│                   [ 2.0882,  0.6706, -0.4951],\n",
       "│                   [ 0.8026,  1.4073, -0.6093],\n",
       "│                   [ 2.0882,  0.6706, -0.4951],\n",
       "│                   [ 0.8026,  1.4073, -0.6093]])\n",
       "└── 'x' --> <FastTreeValue 0x7fd73871a640>\n",
       "    └── 'c' --> tensor([[ 2.0969, -0.8406,  1.5021, -2.2032],\n",
       "                        [-0.5722, -0.9777, -2.2600, -0.7326],\n",
       "                        [ 1.7146, -0.5840,  0.4905, -1.8891],\n",
       "                        [ 2.0969, -0.8406,  1.5021, -2.2032],\n",
       "                        [-0.5722, -0.9777, -2.2600, -0.7326],\n",
       "                        [ 1.7146, -0.5840,  0.4905, -1.8891],\n",
       "                        [ 2.0969, -0.8406,  1.5021, -2.2032],\n",
       "                        [-0.5722, -0.9777, -2.2600, -0.7326],\n",
       "                        [ 1.7146, -0.5840,  0.4905, -1.8891],\n",
       "                        [ 2.0969, -0.8406,  1.5021, -2.2032],\n",
       "                        [-0.5722, -0.9777, -2.2600, -0.7326],\n",
       "                        [ 1.7146, -0.5840,  0.4905, -1.8891],\n",
       "                        [ 2.0969, -0.8406,  1.5021, -2.2032],\n",
       "                        [-0.5722, -0.9777, -2.2600, -0.7326],\n",
       "                        [ 1.7146, -0.5840,  0.4905, -1.8891],\n",
       "                        [ 2.0969, -0.8406,  1.5021, -2.2032],\n",
       "                        [-0.5722, -0.9777, -2.2600, -0.7326],\n",
       "                        [ 1.7146, -0.5840,  0.4905, -1.8891],\n",
       "                        [ 2.0969, -0.8406,  1.5021, -2.2032],\n",
       "                        [-0.5722, -0.9777, -2.2600, -0.7326],\n",
       "                        [ 1.7146, -0.5840,  0.4905, -1.8891],\n",
       "                        [ 2.0969, -0.8406,  1.5021, -2.2032],\n",
       "                        [-0.5722, -0.9777, -2.2600, -0.7326],\n",
       "                        [ 1.7146, -0.5840,  0.4905, -1.8891]])"
      ]
     },
     "execution_count": 22,
     "metadata": {},
     "output_type": "execute_result"
    }
   ],
   "source": [
    "t_cat = FastTreeValue.func(subside=True)(torch.cat)\n",
    "\n",
    "t_cat(trees)"
   ]
  },
  {
   "cell_type": "code",
   "execution_count": 23,
   "id": "5e9c06a6",
   "metadata": {
    "execution": {
     "iopub.execute_input": "2023-08-14T05:53:58.732875Z",
     "iopub.status.busy": "2023-08-14T05:53:58.732283Z",
     "iopub.status.idle": "2023-08-14T05:54:01.240680Z",
     "shell.execute_reply": "2023-08-14T05:54:01.239865Z"
    }
   },
   "outputs": [
    {
     "name": "stdout",
     "output_type": "stream",
     "text": [
      "30.8 µs ± 34.7 ns per loop (mean ± std. dev. of 7 runs, 10,000 loops each)\n"
     ]
    }
   ],
   "source": [
    "%timeit t_cat(trees)"
   ]
  },
  {
   "cell_type": "code",
   "execution_count": 24,
   "id": "a3ab5c8f",
   "metadata": {
    "execution": {
     "iopub.execute_input": "2023-08-14T05:54:01.244314Z",
     "iopub.status.busy": "2023-08-14T05:54:01.243762Z",
     "iopub.status.idle": "2023-08-14T05:54:06.876453Z",
     "shell.execute_reply": "2023-08-14T05:54:06.874674Z"
    }
   },
   "outputs": [
    {
     "name": "stdout",
     "output_type": "stream",
     "text": [
      "69.2 µs ± 91.1 ns per loop (mean ± std. dev. of 7 runs, 10,000 loops each)\n"
     ]
    }
   ],
   "source": [
    "t_split = FastTreeValue.func(rise=True)(torch.split)\n",
    "tree = FastTreeValue({\n",
    "    'obs': torch.randn(8, 4, 84, 84),\n",
    "    'action': torch.randint(0, 6, size=(8, 1,)),\n",
    "    'reward': torch.rand(8, 1),\n",
    "})\n",
    "\n",
    "%timeit t_split(tree, 1)"
   ]
  },
  {
   "cell_type": "markdown",
   "id": "31c3ec0b",
   "metadata": {},
   "source": [
    "### Performance of Tianshou Batch"
   ]
  },
  {
   "cell_type": "code",
   "execution_count": 25,
   "id": "9ead828a",
   "metadata": {
    "execution": {
     "iopub.execute_input": "2023-08-14T05:54:06.880887Z",
     "iopub.status.busy": "2023-08-14T05:54:06.880208Z",
     "iopub.status.idle": "2023-08-14T05:54:06.890130Z",
     "shell.execute_reply": "2023-08-14T05:54:06.888922Z"
    }
   },
   "outputs": [
    {
     "data": {
      "text/plain": [
       "Batch(\n",
       "    x: Batch(\n",
       "           c: tensor([[[ 2.0969, -0.8406,  1.5021, -2.2032],\n",
       "                       [-0.5722, -0.9777, -2.2600, -0.7326],\n",
       "                       [ 1.7146, -0.5840,  0.4905, -1.8891]],\n",
       "              \n",
       "                      [[ 2.0969, -0.8406,  1.5021, -2.2032],\n",
       "                       [-0.5722, -0.9777, -2.2600, -0.7326],\n",
       "                       [ 1.7146, -0.5840,  0.4905, -1.8891]],\n",
       "              \n",
       "                      [[ 2.0969, -0.8406,  1.5021, -2.2032],\n",
       "                       [-0.5722, -0.9777, -2.2600, -0.7326],\n",
       "                       [ 1.7146, -0.5840,  0.4905, -1.8891]],\n",
       "              \n",
       "                      [[ 2.0969, -0.8406,  1.5021, -2.2032],\n",
       "                       [-0.5722, -0.9777, -2.2600, -0.7326],\n",
       "                       [ 1.7146, -0.5840,  0.4905, -1.8891]],\n",
       "              \n",
       "                      [[ 2.0969, -0.8406,  1.5021, -2.2032],\n",
       "                       [-0.5722, -0.9777, -2.2600, -0.7326],\n",
       "                       [ 1.7146, -0.5840,  0.4905, -1.8891]],\n",
       "              \n",
       "                      [[ 2.0969, -0.8406,  1.5021, -2.2032],\n",
       "                       [-0.5722, -0.9777, -2.2600, -0.7326],\n",
       "                       [ 1.7146, -0.5840,  0.4905, -1.8891]],\n",
       "              \n",
       "                      [[ 2.0969, -0.8406,  1.5021, -2.2032],\n",
       "                       [-0.5722, -0.9777, -2.2600, -0.7326],\n",
       "                       [ 1.7146, -0.5840,  0.4905, -1.8891]],\n",
       "              \n",
       "                      [[ 2.0969, -0.8406,  1.5021, -2.2032],\n",
       "                       [-0.5722, -0.9777, -2.2600, -0.7326],\n",
       "                       [ 1.7146, -0.5840,  0.4905, -1.8891]]]),\n",
       "       ),\n",
       "    a: tensor([[[ 2.0882,  0.6706, -0.4951],\n",
       "                [ 0.8026,  1.4073, -0.6093]],\n",
       "       \n",
       "               [[ 2.0882,  0.6706, -0.4951],\n",
       "                [ 0.8026,  1.4073, -0.6093]],\n",
       "       \n",
       "               [[ 2.0882,  0.6706, -0.4951],\n",
       "                [ 0.8026,  1.4073, -0.6093]],\n",
       "       \n",
       "               [[ 2.0882,  0.6706, -0.4951],\n",
       "                [ 0.8026,  1.4073, -0.6093]],\n",
       "       \n",
       "               [[ 2.0882,  0.6706, -0.4951],\n",
       "                [ 0.8026,  1.4073, -0.6093]],\n",
       "       \n",
       "               [[ 2.0882,  0.6706, -0.4951],\n",
       "                [ 0.8026,  1.4073, -0.6093]],\n",
       "       \n",
       "               [[ 2.0882,  0.6706, -0.4951],\n",
       "                [ 0.8026,  1.4073, -0.6093]],\n",
       "       \n",
       "               [[ 2.0882,  0.6706, -0.4951],\n",
       "                [ 0.8026,  1.4073, -0.6093]]]),\n",
       ")"
      ]
     },
     "execution_count": 25,
     "metadata": {},
     "output_type": "execute_result"
    }
   ],
   "source": [
    "batches = [Batch(**_TREE_DATA_2) for _ in range(8)]\n",
    "\n",
    "Batch.stack(batches)"
   ]
  },
  {
   "cell_type": "code",
   "execution_count": 26,
   "id": "ec9037a3",
   "metadata": {
    "execution": {
     "iopub.execute_input": "2023-08-14T05:54:06.893652Z",
     "iopub.status.busy": "2023-08-14T05:54:06.893072Z",
     "iopub.status.idle": "2023-08-14T05:54:13.714473Z",
     "shell.execute_reply": "2023-08-14T05:54:13.713702Z"
    }
   },
   "outputs": [
    {
     "name": "stdout",
     "output_type": "stream",
     "text": [
      "83.9 µs ± 306 ns per loop (mean ± std. dev. of 7 runs, 10,000 loops each)\n"
     ]
    }
   ],
   "source": [
    "%timeit Batch.stack(batches)"
   ]
  },
  {
   "cell_type": "code",
   "execution_count": 27,
   "id": "cb8ab77e",
   "metadata": {
    "execution": {
     "iopub.execute_input": "2023-08-14T05:54:13.718330Z",
     "iopub.status.busy": "2023-08-14T05:54:13.717577Z",
     "iopub.status.idle": "2023-08-14T05:54:13.725450Z",
     "shell.execute_reply": "2023-08-14T05:54:13.724729Z"
    }
   },
   "outputs": [
    {
     "data": {
      "text/plain": [
       "Batch(\n",
       "    x: Batch(\n",
       "           c: tensor([[ 2.0969, -0.8406,  1.5021, -2.2032],\n",
       "                      [-0.5722, -0.9777, -2.2600, -0.7326],\n",
       "                      [ 1.7146, -0.5840,  0.4905, -1.8891],\n",
       "                      [ 2.0969, -0.8406,  1.5021, -2.2032],\n",
       "                      [-0.5722, -0.9777, -2.2600, -0.7326],\n",
       "                      [ 1.7146, -0.5840,  0.4905, -1.8891],\n",
       "                      [ 2.0969, -0.8406,  1.5021, -2.2032],\n",
       "                      [-0.5722, -0.9777, -2.2600, -0.7326],\n",
       "                      [ 1.7146, -0.5840,  0.4905, -1.8891],\n",
       "                      [ 2.0969, -0.8406,  1.5021, -2.2032],\n",
       "                      [-0.5722, -0.9777, -2.2600, -0.7326],\n",
       "                      [ 1.7146, -0.5840,  0.4905, -1.8891],\n",
       "                      [ 2.0969, -0.8406,  1.5021, -2.2032],\n",
       "                      [-0.5722, -0.9777, -2.2600, -0.7326],\n",
       "                      [ 1.7146, -0.5840,  0.4905, -1.8891],\n",
       "                      [ 2.0969, -0.8406,  1.5021, -2.2032],\n",
       "                      [-0.5722, -0.9777, -2.2600, -0.7326],\n",
       "                      [ 1.7146, -0.5840,  0.4905, -1.8891],\n",
       "                      [ 2.0969, -0.8406,  1.5021, -2.2032],\n",
       "                      [-0.5722, -0.9777, -2.2600, -0.7326],\n",
       "                      [ 1.7146, -0.5840,  0.4905, -1.8891],\n",
       "                      [ 2.0969, -0.8406,  1.5021, -2.2032],\n",
       "                      [-0.5722, -0.9777, -2.2600, -0.7326],\n",
       "                      [ 1.7146, -0.5840,  0.4905, -1.8891]]),\n",
       "       ),\n",
       "    a: tensor([[ 2.0882,  0.6706, -0.4951],\n",
       "               [ 0.8026,  1.4073, -0.6093],\n",
       "               [ 2.0882,  0.6706, -0.4951],\n",
       "               [ 0.8026,  1.4073, -0.6093],\n",
       "               [ 2.0882,  0.6706, -0.4951],\n",
       "               [ 0.8026,  1.4073, -0.6093],\n",
       "               [ 2.0882,  0.6706, -0.4951],\n",
       "               [ 0.8026,  1.4073, -0.6093],\n",
       "               [ 2.0882,  0.6706, -0.4951],\n",
       "               [ 0.8026,  1.4073, -0.6093],\n",
       "               [ 2.0882,  0.6706, -0.4951],\n",
       "               [ 0.8026,  1.4073, -0.6093],\n",
       "               [ 2.0882,  0.6706, -0.4951],\n",
       "               [ 0.8026,  1.4073, -0.6093],\n",
       "               [ 2.0882,  0.6706, -0.4951],\n",
       "               [ 0.8026,  1.4073, -0.6093]]),\n",
       ")"
      ]
     },
     "execution_count": 27,
     "metadata": {},
     "output_type": "execute_result"
    }
   ],
   "source": [
    "Batch.cat(batches)"
   ]
  },
  {
   "cell_type": "code",
   "execution_count": 28,
   "id": "18dfb045",
   "metadata": {
    "execution": {
     "iopub.execute_input": "2023-08-14T05:54:13.728730Z",
     "iopub.status.busy": "2023-08-14T05:54:13.728161Z",
     "iopub.status.idle": "2023-08-14T05:54:26.360861Z",
     "shell.execute_reply": "2023-08-14T05:54:26.360095Z"
    }
   },
   "outputs": [
    {
     "name": "stdout",
     "output_type": "stream",
     "text": [
      "156 µs ± 1.37 µs per loop (mean ± std. dev. of 7 runs, 10,000 loops each)\n"
     ]
    }
   ],
   "source": [
    "%timeit Batch.cat(batches)"
   ]
  },
  {
   "cell_type": "code",
   "execution_count": 29,
   "id": "c6688e51",
   "metadata": {
    "execution": {
     "iopub.execute_input": "2023-08-14T05:54:26.364453Z",
     "iopub.status.busy": "2023-08-14T05:54:26.363807Z",
     "iopub.status.idle": "2023-08-14T05:54:29.276265Z",
     "shell.execute_reply": "2023-08-14T05:54:29.275588Z"
    }
   },
   "outputs": [
    {
     "name": "stdout",
     "output_type": "stream",
     "text": [
      "356 µs ± 6.28 µs per loop (mean ± std. dev. of 7 runs, 1,000 loops each)\n"
     ]
    }
   ],
   "source": [
    "batch = Batch({\n",
    "    'obs': torch.randn(8, 4, 84, 84),\n",
    "    'action': torch.randint(0, 6, size=(8, 1,)),\n",
    "    'reward': torch.rand(8, 1)}\n",
    ")\n",
    "\n",
    "%timeit list(Batch.split(batch, 1, shuffle=False, merge_last=True))"
   ]
  },
  {
   "cell_type": "code",
   "execution_count": null,
   "id": "2539fbd9",
   "metadata": {},
   "outputs": [],
   "source": []
  }
 ],
 "metadata": {
  "kernelspec": {
   "display_name": "Python 3 (ipykernel)",
   "language": "python",
   "name": "python3"
  },
  "language_info": {
   "codemirror_mode": {
    "name": "ipython",
    "version": 3
   },
   "file_extension": ".py",
   "mimetype": "text/x-python",
   "name": "python",
   "nbconvert_exporter": "python",
   "pygments_lexer": "ipython3",
   "version": "3.8.17"
  }
 },
 "nbformat": 4,
 "nbformat_minor": 5
}
