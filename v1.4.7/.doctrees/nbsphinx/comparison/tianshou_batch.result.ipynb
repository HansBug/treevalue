{
 "cells": [
  {
   "cell_type": "markdown",
   "id": "9d39d946",
   "metadata": {},
   "source": [
    "# Comparison Between TreeValue and Tianshou Batch"
   ]
  },
  {
   "cell_type": "markdown",
   "id": "3c6db2d4",
   "metadata": {},
   "source": [
    "In this section, we will take a look at the feature and performance of the [Tianshou Batch](https://github.com/thu-ml/tianshou) library, which is developed by Tsinghua Machine Learning Group."
   ]
  },
  {
   "cell_type": "markdown",
   "id": "069361b0",
   "metadata": {},
   "source": [
    "Before starting the comparison, let us define some thing."
   ]
  },
  {
   "cell_type": "code",
   "execution_count": 1,
   "id": "06fc8d26",
   "metadata": {
    "execution": {
     "iopub.execute_input": "2023-03-15T13:04:59.527711Z",
     "iopub.status.busy": "2023-03-15T13:04:59.527473Z",
     "iopub.status.idle": "2023-03-15T13:05:00.491590Z",
     "shell.execute_reply": "2023-03-15T13:05:00.490851Z"
    }
   },
   "outputs": [
    {
     "name": "stderr",
     "output_type": "stream",
     "text": [
      "/opt/hostedtoolcache/Python/3.8.16/x64/lib/python3.8/site-packages/tqdm/auto.py:21: TqdmWarning: IProgress not found. Please update jupyter and ipywidgets. See https://ipywidgets.readthedocs.io/en/stable/user_install.html\n",
      "  from .autonotebook import tqdm as notebook_tqdm\n"
     ]
    }
   ],
   "source": [
    "import torch \n",
    "\n",
    "_TREE_DATA_1 = {'a': 1, 'b': 2, 'x': {'c': 3, 'd': 4}}\n",
    "_TREE_DATA_2 = {\n",
    "    'a': torch.randn(2, 3), \n",
    "    'x': {\n",
    "        'c': torch.randn(3, 4)\n",
    "    },\n",
    "}\n",
    "_TREE_DATA_3 = {\n",
    "    'obs': torch.randn(4, 84, 84),\n",
    "    'action': torch.randint(0, 6, size=(1,)),\n",
    "    'reward': torch.rand(1),\n",
    "}"
   ]
  },
  {
   "cell_type": "markdown",
   "id": "83461b25",
   "metadata": {},
   "source": [
    "## Read and Write Operation"
   ]
  },
  {
   "cell_type": "markdown",
   "id": "067b3f73",
   "metadata": {},
   "source": [
    "Reading and writing are the two most common operations in the tree data structure based on the data model (TreeValue and Tianshou Batch both belong to this type), so this section will compare the reading and writing performance of these two libraries."
   ]
  },
  {
   "cell_type": "markdown",
   "id": "5d09a5b7",
   "metadata": {},
   "source": [
    "### TreeValue's Get and Set"
   ]
  },
  {
   "cell_type": "code",
   "execution_count": 2,
   "id": "9519c4bb",
   "metadata": {
    "execution": {
     "iopub.execute_input": "2023-03-15T13:05:00.495951Z",
     "iopub.status.busy": "2023-03-15T13:05:00.495120Z",
     "iopub.status.idle": "2023-03-15T13:05:00.779927Z",
     "shell.execute_reply": "2023-03-15T13:05:00.779179Z"
    }
   },
   "outputs": [],
   "source": [
    "from treevalue import FastTreeValue\n",
    "\n",
    "t = FastTreeValue(_TREE_DATA_2)"
   ]
  },
  {
   "cell_type": "code",
   "execution_count": 3,
   "id": "11c37677",
   "metadata": {
    "execution": {
     "iopub.execute_input": "2023-03-15T13:05:00.783632Z",
     "iopub.status.busy": "2023-03-15T13:05:00.783097Z",
     "iopub.status.idle": "2023-03-15T13:05:00.793836Z",
     "shell.execute_reply": "2023-03-15T13:05:00.793205Z"
    }
   },
   "outputs": [
    {
     "data": {
      "text/plain": [
       "<FastTreeValue 0x7f6d64084d00>\n",
       "├── 'a' --> tensor([[-0.1308,  0.0565, -0.8242],\n",
       "│                   [-0.6685, -1.1443,  1.0025]])\n",
       "└── 'x' --> <FastTreeValue 0x7f6d64084c40>\n",
       "    └── 'c' --> tensor([[-0.1607,  0.5661,  0.1415, -0.1729],\n",
       "                        [-0.2221, -1.0410,  1.1426,  0.5805],\n",
       "                        [-0.0153, -0.5120,  0.0779,  0.4097]])"
      ]
     },
     "execution_count": 3,
     "metadata": {},
     "output_type": "execute_result"
    }
   ],
   "source": [
    "t"
   ]
  },
  {
   "cell_type": "code",
   "execution_count": 4,
   "id": "fd70b0b9",
   "metadata": {
    "execution": {
     "iopub.execute_input": "2023-03-15T13:05:00.796691Z",
     "iopub.status.busy": "2023-03-15T13:05:00.796317Z",
     "iopub.status.idle": "2023-03-15T13:05:00.802066Z",
     "shell.execute_reply": "2023-03-15T13:05:00.801462Z"
    }
   },
   "outputs": [
    {
     "data": {
      "text/plain": [
       "tensor([[-0.1308,  0.0565, -0.8242],\n",
       "        [-0.6685, -1.1443,  1.0025]])"
      ]
     },
     "execution_count": 4,
     "metadata": {},
     "output_type": "execute_result"
    }
   ],
   "source": [
    "t.a"
   ]
  },
  {
   "cell_type": "code",
   "execution_count": 5,
   "id": "c18197bd",
   "metadata": {
    "execution": {
     "iopub.execute_input": "2023-03-15T13:05:00.805004Z",
     "iopub.status.busy": "2023-03-15T13:05:00.804534Z",
     "iopub.status.idle": "2023-03-15T13:05:05.895650Z",
     "shell.execute_reply": "2023-03-15T13:05:05.894873Z"
    }
   },
   "outputs": [
    {
     "name": "stdout",
     "output_type": "stream",
     "text": [
      "62.7 ns ± 0.063 ns per loop (mean ± std. dev. of 7 runs, 10,000,000 loops each)\n"
     ]
    }
   ],
   "source": [
    "%timeit t.a"
   ]
  },
  {
   "cell_type": "code",
   "execution_count": 6,
   "id": "bd52f867",
   "metadata": {
    "execution": {
     "iopub.execute_input": "2023-03-15T13:05:05.899084Z",
     "iopub.status.busy": "2023-03-15T13:05:05.898595Z",
     "iopub.status.idle": "2023-03-15T13:05:05.905578Z",
     "shell.execute_reply": "2023-03-15T13:05:05.904952Z"
    }
   },
   "outputs": [
    {
     "data": {
      "text/plain": [
       "<FastTreeValue 0x7f6d64084d00>\n",
       "├── 'a' --> tensor([[ 0.3943,  1.4413, -1.1270],\n",
       "│                   [-1.4557, -0.8792, -0.1550]])\n",
       "└── 'x' --> <FastTreeValue 0x7f6d64084c40>\n",
       "    └── 'c' --> tensor([[-0.1607,  0.5661,  0.1415, -0.1729],\n",
       "                        [-0.2221, -1.0410,  1.1426,  0.5805],\n",
       "                        [-0.0153, -0.5120,  0.0779,  0.4097]])"
      ]
     },
     "execution_count": 6,
     "metadata": {},
     "output_type": "execute_result"
    }
   ],
   "source": [
    "new_value = torch.randn(2, 3)\n",
    "t.a = new_value\n",
    "\n",
    "t"
   ]
  },
  {
   "cell_type": "code",
   "execution_count": 7,
   "id": "bbe04d1c",
   "metadata": {
    "execution": {
     "iopub.execute_input": "2023-03-15T13:05:05.908375Z",
     "iopub.status.busy": "2023-03-15T13:05:05.907839Z",
     "iopub.status.idle": "2023-03-15T13:05:11.310371Z",
     "shell.execute_reply": "2023-03-15T13:05:11.309574Z"
    }
   },
   "outputs": [
    {
     "name": "stdout",
     "output_type": "stream",
     "text": [
      "66.5 ns ± 0.0585 ns per loop (mean ± std. dev. of 7 runs, 10,000,000 loops each)\n"
     ]
    }
   ],
   "source": [
    "%timeit t.a = new_value"
   ]
  },
  {
   "cell_type": "markdown",
   "id": "48c49731",
   "metadata": {},
   "source": [
    "### Tianshou Batch's Get and Set"
   ]
  },
  {
   "cell_type": "code",
   "execution_count": 8,
   "id": "f1bb14c1",
   "metadata": {
    "execution": {
     "iopub.execute_input": "2023-03-15T13:05:11.314139Z",
     "iopub.status.busy": "2023-03-15T13:05:11.313671Z",
     "iopub.status.idle": "2023-03-15T13:05:11.668905Z",
     "shell.execute_reply": "2023-03-15T13:05:11.668149Z"
    }
   },
   "outputs": [],
   "source": [
    "from tianshou.data import Batch\n",
    "\n",
    "b = Batch(**_TREE_DATA_2)"
   ]
  },
  {
   "cell_type": "code",
   "execution_count": 9,
   "id": "cb0777c3",
   "metadata": {
    "execution": {
     "iopub.execute_input": "2023-03-15T13:05:11.672332Z",
     "iopub.status.busy": "2023-03-15T13:05:11.671831Z",
     "iopub.status.idle": "2023-03-15T13:05:11.678422Z",
     "shell.execute_reply": "2023-03-15T13:05:11.677816Z"
    }
   },
   "outputs": [
    {
     "data": {
      "text/plain": [
       "Batch(\n",
       "    a: tensor([[-0.1308,  0.0565, -0.8242],\n",
       "               [-0.6685, -1.1443,  1.0025]]),\n",
       "    x: Batch(\n",
       "           c: tensor([[-0.1607,  0.5661,  0.1415, -0.1729],\n",
       "                      [-0.2221, -1.0410,  1.1426,  0.5805],\n",
       "                      [-0.0153, -0.5120,  0.0779,  0.4097]]),\n",
       "       ),\n",
       ")"
      ]
     },
     "execution_count": 9,
     "metadata": {},
     "output_type": "execute_result"
    }
   ],
   "source": [
    "b"
   ]
  },
  {
   "cell_type": "code",
   "execution_count": 10,
   "id": "43ef8ea3",
   "metadata": {
    "execution": {
     "iopub.execute_input": "2023-03-15T13:05:11.681286Z",
     "iopub.status.busy": "2023-03-15T13:05:11.680711Z",
     "iopub.status.idle": "2023-03-15T13:05:11.686149Z",
     "shell.execute_reply": "2023-03-15T13:05:11.685542Z"
    }
   },
   "outputs": [
    {
     "data": {
      "text/plain": [
       "tensor([[-0.1308,  0.0565, -0.8242],\n",
       "        [-0.6685, -1.1443,  1.0025]])"
      ]
     },
     "execution_count": 10,
     "metadata": {},
     "output_type": "execute_result"
    }
   ],
   "source": [
    "b.a"
   ]
  },
  {
   "cell_type": "code",
   "execution_count": 11,
   "id": "b785ab72",
   "metadata": {
    "execution": {
     "iopub.execute_input": "2023-03-15T13:05:11.689284Z",
     "iopub.status.busy": "2023-03-15T13:05:11.688664Z",
     "iopub.status.idle": "2023-03-15T13:05:16.398563Z",
     "shell.execute_reply": "2023-03-15T13:05:16.397696Z"
    }
   },
   "outputs": [
    {
     "name": "stdout",
     "output_type": "stream",
     "text": [
      "58 ns ± 0.137 ns per loop (mean ± std. dev. of 7 runs, 10,000,000 loops each)\n"
     ]
    }
   ],
   "source": [
    "%timeit b.a"
   ]
  },
  {
   "cell_type": "code",
   "execution_count": 12,
   "id": "ad54dc69",
   "metadata": {
    "execution": {
     "iopub.execute_input": "2023-03-15T13:05:16.401968Z",
     "iopub.status.busy": "2023-03-15T13:05:16.401347Z",
     "iopub.status.idle": "2023-03-15T13:05:16.408119Z",
     "shell.execute_reply": "2023-03-15T13:05:16.407512Z"
    }
   },
   "outputs": [
    {
     "data": {
      "text/plain": [
       "Batch(\n",
       "    a: tensor([[ 0.0116,  1.7534, -0.9829],\n",
       "               [-0.4864, -0.4339, -0.1054]]),\n",
       "    x: Batch(\n",
       "           c: tensor([[-0.1607,  0.5661,  0.1415, -0.1729],\n",
       "                      [-0.2221, -1.0410,  1.1426,  0.5805],\n",
       "                      [-0.0153, -0.5120,  0.0779,  0.4097]]),\n",
       "       ),\n",
       ")"
      ]
     },
     "execution_count": 12,
     "metadata": {},
     "output_type": "execute_result"
    }
   ],
   "source": [
    "new_value = torch.randn(2, 3)\n",
    "b.a = new_value\n",
    "\n",
    "b"
   ]
  },
  {
   "cell_type": "code",
   "execution_count": 13,
   "id": "29b1d0bf",
   "metadata": {
    "execution": {
     "iopub.execute_input": "2023-03-15T13:05:16.410801Z",
     "iopub.status.busy": "2023-03-15T13:05:16.410358Z",
     "iopub.status.idle": "2023-03-15T13:05:20.452005Z",
     "shell.execute_reply": "2023-03-15T13:05:20.451132Z"
    }
   },
   "outputs": [
    {
     "name": "stdout",
     "output_type": "stream",
     "text": [
      "498 ns ± 0.663 ns per loop (mean ± std. dev. of 7 runs, 1,000,000 loops each)\n"
     ]
    }
   ],
   "source": [
    "%timeit b.a = new_value"
   ]
  },
  {
   "cell_type": "markdown",
   "id": "b61ad1d0",
   "metadata": {},
   "source": [
    "## Initialization"
   ]
  },
  {
   "cell_type": "markdown",
   "id": "d70f0d54",
   "metadata": {},
   "source": [
    "### TreeValue's Initialization"
   ]
  },
  {
   "cell_type": "code",
   "execution_count": 14,
   "id": "d32a679b",
   "metadata": {
    "execution": {
     "iopub.execute_input": "2023-03-15T13:05:20.455652Z",
     "iopub.status.busy": "2023-03-15T13:05:20.454984Z",
     "iopub.status.idle": "2023-03-15T13:05:27.065999Z",
     "shell.execute_reply": "2023-03-15T13:05:27.065106Z"
    }
   },
   "outputs": [
    {
     "name": "stdout",
     "output_type": "stream",
     "text": [
      "812 ns ± 0.177 ns per loop (mean ± std. dev. of 7 runs, 1,000,000 loops each)\n"
     ]
    }
   ],
   "source": [
    "%timeit FastTreeValue(_TREE_DATA_1)"
   ]
  },
  {
   "cell_type": "markdown",
   "id": "24f3707b",
   "metadata": {},
   "source": [
    "### Tianshou Batch's Initialization"
   ]
  },
  {
   "cell_type": "code",
   "execution_count": 15,
   "id": "ac3958df",
   "metadata": {
    "execution": {
     "iopub.execute_input": "2023-03-15T13:05:27.069519Z",
     "iopub.status.busy": "2023-03-15T13:05:27.069033Z",
     "iopub.status.idle": "2023-03-15T13:05:35.890481Z",
     "shell.execute_reply": "2023-03-15T13:05:35.889607Z"
    }
   },
   "outputs": [
    {
     "name": "stdout",
     "output_type": "stream",
     "text": [
      "10.9 µs ± 52.5 ns per loop (mean ± std. dev. of 7 runs, 100,000 loops each)\n"
     ]
    }
   ],
   "source": [
    "%timeit Batch(**_TREE_DATA_1)"
   ]
  },
  {
   "cell_type": "markdown",
   "id": "1ab82e2d",
   "metadata": {},
   "source": [
    "## Deep Copy Operation"
   ]
  },
  {
   "cell_type": "code",
   "execution_count": 16,
   "id": "210a9442",
   "metadata": {
    "execution": {
     "iopub.execute_input": "2023-03-15T13:05:35.894084Z",
     "iopub.status.busy": "2023-03-15T13:05:35.893474Z",
     "iopub.status.idle": "2023-03-15T13:05:35.897849Z",
     "shell.execute_reply": "2023-03-15T13:05:35.897181Z"
    }
   },
   "outputs": [],
   "source": [
    "import copy"
   ]
  },
  {
   "cell_type": "markdown",
   "id": "5a736274",
   "metadata": {},
   "source": [
    "### Deep Copy of TreeValue"
   ]
  },
  {
   "cell_type": "code",
   "execution_count": 17,
   "id": "f9bcadd6",
   "metadata": {
    "execution": {
     "iopub.execute_input": "2023-03-15T13:05:35.900827Z",
     "iopub.status.busy": "2023-03-15T13:05:35.900275Z",
     "iopub.status.idle": "2023-03-15T13:05:47.729800Z",
     "shell.execute_reply": "2023-03-15T13:05:47.729135Z"
    }
   },
   "outputs": [
    {
     "name": "stdout",
     "output_type": "stream",
     "text": [
      "145 µs ± 330 ns per loop (mean ± std. dev. of 7 runs, 10,000 loops each)\n"
     ]
    }
   ],
   "source": [
    "t3 = FastTreeValue(_TREE_DATA_3)\n",
    "%timeit copy.deepcopy(t3)"
   ]
  },
  {
   "cell_type": "markdown",
   "id": "bf8be7ea",
   "metadata": {},
   "source": [
    "### Deep Copy of Tianshou Batch"
   ]
  },
  {
   "cell_type": "code",
   "execution_count": 18,
   "id": "91998e6f",
   "metadata": {
    "execution": {
     "iopub.execute_input": "2023-03-15T13:05:47.733141Z",
     "iopub.status.busy": "2023-03-15T13:05:47.732618Z",
     "iopub.status.idle": "2023-03-15T13:05:59.583478Z",
     "shell.execute_reply": "2023-03-15T13:05:59.582677Z"
    }
   },
   "outputs": [
    {
     "name": "stdout",
     "output_type": "stream",
     "text": [
      "146 µs ± 812 ns per loop (mean ± std. dev. of 7 runs, 10,000 loops each)\n"
     ]
    }
   ],
   "source": [
    "b3 = Batch(**_TREE_DATA_3)\n",
    "%timeit copy.deepcopy(b3)"
   ]
  },
  {
   "cell_type": "markdown",
   "id": "223162fb",
   "metadata": {},
   "source": [
    "## Stack, Concat and Split Operation"
   ]
  },
  {
   "cell_type": "markdown",
   "id": "85fa4a73",
   "metadata": {},
   "source": [
    "### Performance of TreeValue"
   ]
  },
  {
   "cell_type": "code",
   "execution_count": 19,
   "id": "a0c2b697",
   "metadata": {
    "execution": {
     "iopub.execute_input": "2023-03-15T13:05:59.586876Z",
     "iopub.status.busy": "2023-03-15T13:05:59.586229Z",
     "iopub.status.idle": "2023-03-15T13:05:59.590346Z",
     "shell.execute_reply": "2023-03-15T13:05:59.589729Z"
    }
   },
   "outputs": [],
   "source": [
    "trees = [FastTreeValue(_TREE_DATA_2) for _ in range(8)]"
   ]
  },
  {
   "cell_type": "code",
   "execution_count": 20,
   "id": "017ea5a5",
   "metadata": {
    "execution": {
     "iopub.execute_input": "2023-03-15T13:05:59.592746Z",
     "iopub.status.busy": "2023-03-15T13:05:59.592529Z",
     "iopub.status.idle": "2023-03-15T13:05:59.600752Z",
     "shell.execute_reply": "2023-03-15T13:05:59.600152Z"
    }
   },
   "outputs": [
    {
     "data": {
      "text/plain": [
       "<FastTreeValue 0x7f6caeaa1e20>\n",
       "├── 'a' --> tensor([[[-0.1308,  0.0565, -0.8242],\n",
       "│                    [-0.6685, -1.1443,  1.0025]],\n",
       "│           \n",
       "│                   [[-0.1308,  0.0565, -0.8242],\n",
       "│                    [-0.6685, -1.1443,  1.0025]],\n",
       "│           \n",
       "│                   [[-0.1308,  0.0565, -0.8242],\n",
       "│                    [-0.6685, -1.1443,  1.0025]],\n",
       "│           \n",
       "│                   [[-0.1308,  0.0565, -0.8242],\n",
       "│                    [-0.6685, -1.1443,  1.0025]],\n",
       "│           \n",
       "│                   [[-0.1308,  0.0565, -0.8242],\n",
       "│                    [-0.6685, -1.1443,  1.0025]],\n",
       "│           \n",
       "│                   [[-0.1308,  0.0565, -0.8242],\n",
       "│                    [-0.6685, -1.1443,  1.0025]],\n",
       "│           \n",
       "│                   [[-0.1308,  0.0565, -0.8242],\n",
       "│                    [-0.6685, -1.1443,  1.0025]],\n",
       "│           \n",
       "│                   [[-0.1308,  0.0565, -0.8242],\n",
       "│                    [-0.6685, -1.1443,  1.0025]]])\n",
       "└── 'x' --> <FastTreeValue 0x7f6cb556a550>\n",
       "    └── 'c' --> tensor([[[-0.1607,  0.5661,  0.1415, -0.1729],\n",
       "                         [-0.2221, -1.0410,  1.1426,  0.5805],\n",
       "                         [-0.0153, -0.5120,  0.0779,  0.4097]],\n",
       "                \n",
       "                        [[-0.1607,  0.5661,  0.1415, -0.1729],\n",
       "                         [-0.2221, -1.0410,  1.1426,  0.5805],\n",
       "                         [-0.0153, -0.5120,  0.0779,  0.4097]],\n",
       "                \n",
       "                        [[-0.1607,  0.5661,  0.1415, -0.1729],\n",
       "                         [-0.2221, -1.0410,  1.1426,  0.5805],\n",
       "                         [-0.0153, -0.5120,  0.0779,  0.4097]],\n",
       "                \n",
       "                        [[-0.1607,  0.5661,  0.1415, -0.1729],\n",
       "                         [-0.2221, -1.0410,  1.1426,  0.5805],\n",
       "                         [-0.0153, -0.5120,  0.0779,  0.4097]],\n",
       "                \n",
       "                        [[-0.1607,  0.5661,  0.1415, -0.1729],\n",
       "                         [-0.2221, -1.0410,  1.1426,  0.5805],\n",
       "                         [-0.0153, -0.5120,  0.0779,  0.4097]],\n",
       "                \n",
       "                        [[-0.1607,  0.5661,  0.1415, -0.1729],\n",
       "                         [-0.2221, -1.0410,  1.1426,  0.5805],\n",
       "                         [-0.0153, -0.5120,  0.0779,  0.4097]],\n",
       "                \n",
       "                        [[-0.1607,  0.5661,  0.1415, -0.1729],\n",
       "                         [-0.2221, -1.0410,  1.1426,  0.5805],\n",
       "                         [-0.0153, -0.5120,  0.0779,  0.4097]],\n",
       "                \n",
       "                        [[-0.1607,  0.5661,  0.1415, -0.1729],\n",
       "                         [-0.2221, -1.0410,  1.1426,  0.5805],\n",
       "                         [-0.0153, -0.5120,  0.0779,  0.4097]]])"
      ]
     },
     "execution_count": 20,
     "metadata": {},
     "output_type": "execute_result"
    }
   ],
   "source": [
    "t_stack = FastTreeValue.func(subside=True)(torch.stack)\n",
    "\n",
    "t_stack(trees)"
   ]
  },
  {
   "cell_type": "code",
   "execution_count": 21,
   "id": "f8b3f415",
   "metadata": {
    "execution": {
     "iopub.execute_input": "2023-03-15T13:05:59.603467Z",
     "iopub.status.busy": "2023-03-15T13:05:59.602889Z",
     "iopub.status.idle": "2023-03-15T13:06:02.268403Z",
     "shell.execute_reply": "2023-03-15T13:06:02.267542Z"
    }
   },
   "outputs": [
    {
     "name": "stdout",
     "output_type": "stream",
     "text": [
      "32.8 µs ± 80 ns per loop (mean ± std. dev. of 7 runs, 10,000 loops each)\n"
     ]
    }
   ],
   "source": [
    "%timeit t_stack(trees)"
   ]
  },
  {
   "cell_type": "code",
   "execution_count": 22,
   "id": "94b56771",
   "metadata": {
    "execution": {
     "iopub.execute_input": "2023-03-15T13:06:02.272241Z",
     "iopub.status.busy": "2023-03-15T13:06:02.271641Z",
     "iopub.status.idle": "2023-03-15T13:06:02.281627Z",
     "shell.execute_reply": "2023-03-15T13:06:02.281001Z"
    }
   },
   "outputs": [
    {
     "data": {
      "text/plain": [
       "<FastTreeValue 0x7f6d6714d760>\n",
       "├── 'a' --> tensor([[-0.1308,  0.0565, -0.8242],\n",
       "│                   [-0.6685, -1.1443,  1.0025],\n",
       "│                   [-0.1308,  0.0565, -0.8242],\n",
       "│                   [-0.6685, -1.1443,  1.0025],\n",
       "│                   [-0.1308,  0.0565, -0.8242],\n",
       "│                   [-0.6685, -1.1443,  1.0025],\n",
       "│                   [-0.1308,  0.0565, -0.8242],\n",
       "│                   [-0.6685, -1.1443,  1.0025],\n",
       "│                   [-0.1308,  0.0565, -0.8242],\n",
       "│                   [-0.6685, -1.1443,  1.0025],\n",
       "│                   [-0.1308,  0.0565, -0.8242],\n",
       "│                   [-0.6685, -1.1443,  1.0025],\n",
       "│                   [-0.1308,  0.0565, -0.8242],\n",
       "│                   [-0.6685, -1.1443,  1.0025],\n",
       "│                   [-0.1308,  0.0565, -0.8242],\n",
       "│                   [-0.6685, -1.1443,  1.0025]])\n",
       "└── 'x' --> <FastTreeValue 0x7f6caeab93a0>\n",
       "    └── 'c' --> tensor([[-0.1607,  0.5661,  0.1415, -0.1729],\n",
       "                        [-0.2221, -1.0410,  1.1426,  0.5805],\n",
       "                        [-0.0153, -0.5120,  0.0779,  0.4097],\n",
       "                        [-0.1607,  0.5661,  0.1415, -0.1729],\n",
       "                        [-0.2221, -1.0410,  1.1426,  0.5805],\n",
       "                        [-0.0153, -0.5120,  0.0779,  0.4097],\n",
       "                        [-0.1607,  0.5661,  0.1415, -0.1729],\n",
       "                        [-0.2221, -1.0410,  1.1426,  0.5805],\n",
       "                        [-0.0153, -0.5120,  0.0779,  0.4097],\n",
       "                        [-0.1607,  0.5661,  0.1415, -0.1729],\n",
       "                        [-0.2221, -1.0410,  1.1426,  0.5805],\n",
       "                        [-0.0153, -0.5120,  0.0779,  0.4097],\n",
       "                        [-0.1607,  0.5661,  0.1415, -0.1729],\n",
       "                        [-0.2221, -1.0410,  1.1426,  0.5805],\n",
       "                        [-0.0153, -0.5120,  0.0779,  0.4097],\n",
       "                        [-0.1607,  0.5661,  0.1415, -0.1729],\n",
       "                        [-0.2221, -1.0410,  1.1426,  0.5805],\n",
       "                        [-0.0153, -0.5120,  0.0779,  0.4097],\n",
       "                        [-0.1607,  0.5661,  0.1415, -0.1729],\n",
       "                        [-0.2221, -1.0410,  1.1426,  0.5805],\n",
       "                        [-0.0153, -0.5120,  0.0779,  0.4097],\n",
       "                        [-0.1607,  0.5661,  0.1415, -0.1729],\n",
       "                        [-0.2221, -1.0410,  1.1426,  0.5805],\n",
       "                        [-0.0153, -0.5120,  0.0779,  0.4097]])"
      ]
     },
     "execution_count": 22,
     "metadata": {},
     "output_type": "execute_result"
    }
   ],
   "source": [
    "t_cat = FastTreeValue.func(subside=True)(torch.cat)\n",
    "\n",
    "t_cat(trees)"
   ]
  },
  {
   "cell_type": "code",
   "execution_count": 23,
   "id": "5e9c06a6",
   "metadata": {
    "execution": {
     "iopub.execute_input": "2023-03-15T13:06:02.285438Z",
     "iopub.status.busy": "2023-03-15T13:06:02.284982Z",
     "iopub.status.idle": "2023-03-15T13:06:04.756890Z",
     "shell.execute_reply": "2023-03-15T13:06:04.755996Z"
    }
   },
   "outputs": [
    {
     "name": "stdout",
     "output_type": "stream",
     "text": [
      "30.4 µs ± 64.7 ns per loop (mean ± std. dev. of 7 runs, 10,000 loops each)\n"
     ]
    }
   ],
   "source": [
    "%timeit t_cat(trees)"
   ]
  },
  {
   "cell_type": "code",
   "execution_count": 24,
   "id": "a3ab5c8f",
   "metadata": {
    "execution": {
     "iopub.execute_input": "2023-03-15T13:06:04.760543Z",
     "iopub.status.busy": "2023-03-15T13:06:04.759935Z",
     "iopub.status.idle": "2023-03-15T13:06:09.294426Z",
     "shell.execute_reply": "2023-03-15T13:06:09.293666Z"
    }
   },
   "outputs": [
    {
     "name": "stdout",
     "output_type": "stream",
     "text": [
      "55.7 µs ± 56.9 ns per loop (mean ± std. dev. of 7 runs, 10,000 loops each)\n"
     ]
    }
   ],
   "source": [
    "t_split = FastTreeValue.func(rise=True)(torch.split)\n",
    "tree = FastTreeValue({\n",
    "    'obs': torch.randn(8, 4, 84, 84),\n",
    "    'action': torch.randint(0, 6, size=(8, 1,)),\n",
    "    'reward': torch.rand(8, 1),\n",
    "})\n",
    "\n",
    "%timeit t_split(tree, 1)"
   ]
  },
  {
   "cell_type": "markdown",
   "id": "31c3ec0b",
   "metadata": {},
   "source": [
    "### Performance of Tianshou Batch"
   ]
  },
  {
   "cell_type": "code",
   "execution_count": 25,
   "id": "9ead828a",
   "metadata": {
    "execution": {
     "iopub.execute_input": "2023-03-15T13:06:09.297845Z",
     "iopub.status.busy": "2023-03-15T13:06:09.297426Z",
     "iopub.status.idle": "2023-03-15T13:06:09.306621Z",
     "shell.execute_reply": "2023-03-15T13:06:09.305965Z"
    }
   },
   "outputs": [
    {
     "data": {
      "text/plain": [
       "Batch(\n",
       "    a: tensor([[[-0.1308,  0.0565, -0.8242],\n",
       "                [-0.6685, -1.1443,  1.0025]],\n",
       "       \n",
       "               [[-0.1308,  0.0565, -0.8242],\n",
       "                [-0.6685, -1.1443,  1.0025]],\n",
       "       \n",
       "               [[-0.1308,  0.0565, -0.8242],\n",
       "                [-0.6685, -1.1443,  1.0025]],\n",
       "       \n",
       "               [[-0.1308,  0.0565, -0.8242],\n",
       "                [-0.6685, -1.1443,  1.0025]],\n",
       "       \n",
       "               [[-0.1308,  0.0565, -0.8242],\n",
       "                [-0.6685, -1.1443,  1.0025]],\n",
       "       \n",
       "               [[-0.1308,  0.0565, -0.8242],\n",
       "                [-0.6685, -1.1443,  1.0025]],\n",
       "       \n",
       "               [[-0.1308,  0.0565, -0.8242],\n",
       "                [-0.6685, -1.1443,  1.0025]],\n",
       "       \n",
       "               [[-0.1308,  0.0565, -0.8242],\n",
       "                [-0.6685, -1.1443,  1.0025]]]),\n",
       "    x: Batch(\n",
       "           c: tensor([[[-0.1607,  0.5661,  0.1415, -0.1729],\n",
       "                       [-0.2221, -1.0410,  1.1426,  0.5805],\n",
       "                       [-0.0153, -0.5120,  0.0779,  0.4097]],\n",
       "              \n",
       "                      [[-0.1607,  0.5661,  0.1415, -0.1729],\n",
       "                       [-0.2221, -1.0410,  1.1426,  0.5805],\n",
       "                       [-0.0153, -0.5120,  0.0779,  0.4097]],\n",
       "              \n",
       "                      [[-0.1607,  0.5661,  0.1415, -0.1729],\n",
       "                       [-0.2221, -1.0410,  1.1426,  0.5805],\n",
       "                       [-0.0153, -0.5120,  0.0779,  0.4097]],\n",
       "              \n",
       "                      [[-0.1607,  0.5661,  0.1415, -0.1729],\n",
       "                       [-0.2221, -1.0410,  1.1426,  0.5805],\n",
       "                       [-0.0153, -0.5120,  0.0779,  0.4097]],\n",
       "              \n",
       "                      [[-0.1607,  0.5661,  0.1415, -0.1729],\n",
       "                       [-0.2221, -1.0410,  1.1426,  0.5805],\n",
       "                       [-0.0153, -0.5120,  0.0779,  0.4097]],\n",
       "              \n",
       "                      [[-0.1607,  0.5661,  0.1415, -0.1729],\n",
       "                       [-0.2221, -1.0410,  1.1426,  0.5805],\n",
       "                       [-0.0153, -0.5120,  0.0779,  0.4097]],\n",
       "              \n",
       "                      [[-0.1607,  0.5661,  0.1415, -0.1729],\n",
       "                       [-0.2221, -1.0410,  1.1426,  0.5805],\n",
       "                       [-0.0153, -0.5120,  0.0779,  0.4097]],\n",
       "              \n",
       "                      [[-0.1607,  0.5661,  0.1415, -0.1729],\n",
       "                       [-0.2221, -1.0410,  1.1426,  0.5805],\n",
       "                       [-0.0153, -0.5120,  0.0779,  0.4097]]]),\n",
       "       ),\n",
       ")"
      ]
     },
     "execution_count": 25,
     "metadata": {},
     "output_type": "execute_result"
    }
   ],
   "source": [
    "batches = [Batch(**_TREE_DATA_2) for _ in range(8)]\n",
    "\n",
    "Batch.stack(batches)"
   ]
  },
  {
   "cell_type": "code",
   "execution_count": 26,
   "id": "ec9037a3",
   "metadata": {
    "execution": {
     "iopub.execute_input": "2023-03-15T13:06:09.309830Z",
     "iopub.status.busy": "2023-03-15T13:06:09.309284Z",
     "iopub.status.idle": "2023-03-15T13:06:15.806128Z",
     "shell.execute_reply": "2023-03-15T13:06:15.805241Z"
    }
   },
   "outputs": [
    {
     "name": "stdout",
     "output_type": "stream",
     "text": [
      "80 µs ± 1.23 µs per loop (mean ± std. dev. of 7 runs, 10,000 loops each)\n"
     ]
    }
   ],
   "source": [
    "%timeit Batch.stack(batches)"
   ]
  },
  {
   "cell_type": "code",
   "execution_count": 27,
   "id": "cb8ab77e",
   "metadata": {
    "execution": {
     "iopub.execute_input": "2023-03-15T13:06:15.809786Z",
     "iopub.status.busy": "2023-03-15T13:06:15.809362Z",
     "iopub.status.idle": "2023-03-15T13:06:15.817509Z",
     "shell.execute_reply": "2023-03-15T13:06:15.816891Z"
    }
   },
   "outputs": [
    {
     "data": {
      "text/plain": [
       "Batch(\n",
       "    a: tensor([[-0.1308,  0.0565, -0.8242],\n",
       "               [-0.6685, -1.1443,  1.0025],\n",
       "               [-0.1308,  0.0565, -0.8242],\n",
       "               [-0.6685, -1.1443,  1.0025],\n",
       "               [-0.1308,  0.0565, -0.8242],\n",
       "               [-0.6685, -1.1443,  1.0025],\n",
       "               [-0.1308,  0.0565, -0.8242],\n",
       "               [-0.6685, -1.1443,  1.0025],\n",
       "               [-0.1308,  0.0565, -0.8242],\n",
       "               [-0.6685, -1.1443,  1.0025],\n",
       "               [-0.1308,  0.0565, -0.8242],\n",
       "               [-0.6685, -1.1443,  1.0025],\n",
       "               [-0.1308,  0.0565, -0.8242],\n",
       "               [-0.6685, -1.1443,  1.0025],\n",
       "               [-0.1308,  0.0565, -0.8242],\n",
       "               [-0.6685, -1.1443,  1.0025]]),\n",
       "    x: Batch(\n",
       "           c: tensor([[-0.1607,  0.5661,  0.1415, -0.1729],\n",
       "                      [-0.2221, -1.0410,  1.1426,  0.5805],\n",
       "                      [-0.0153, -0.5120,  0.0779,  0.4097],\n",
       "                      [-0.1607,  0.5661,  0.1415, -0.1729],\n",
       "                      [-0.2221, -1.0410,  1.1426,  0.5805],\n",
       "                      [-0.0153, -0.5120,  0.0779,  0.4097],\n",
       "                      [-0.1607,  0.5661,  0.1415, -0.1729],\n",
       "                      [-0.2221, -1.0410,  1.1426,  0.5805],\n",
       "                      [-0.0153, -0.5120,  0.0779,  0.4097],\n",
       "                      [-0.1607,  0.5661,  0.1415, -0.1729],\n",
       "                      [-0.2221, -1.0410,  1.1426,  0.5805],\n",
       "                      [-0.0153, -0.5120,  0.0779,  0.4097],\n",
       "                      [-0.1607,  0.5661,  0.1415, -0.1729],\n",
       "                      [-0.2221, -1.0410,  1.1426,  0.5805],\n",
       "                      [-0.0153, -0.5120,  0.0779,  0.4097],\n",
       "                      [-0.1607,  0.5661,  0.1415, -0.1729],\n",
       "                      [-0.2221, -1.0410,  1.1426,  0.5805],\n",
       "                      [-0.0153, -0.5120,  0.0779,  0.4097],\n",
       "                      [-0.1607,  0.5661,  0.1415, -0.1729],\n",
       "                      [-0.2221, -1.0410,  1.1426,  0.5805],\n",
       "                      [-0.0153, -0.5120,  0.0779,  0.4097],\n",
       "                      [-0.1607,  0.5661,  0.1415, -0.1729],\n",
       "                      [-0.2221, -1.0410,  1.1426,  0.5805],\n",
       "                      [-0.0153, -0.5120,  0.0779,  0.4097]]),\n",
       "       ),\n",
       ")"
      ]
     },
     "execution_count": 27,
     "metadata": {},
     "output_type": "execute_result"
    }
   ],
   "source": [
    "Batch.cat(batches)"
   ]
  },
  {
   "cell_type": "code",
   "execution_count": 28,
   "id": "18dfb045",
   "metadata": {
    "execution": {
     "iopub.execute_input": "2023-03-15T13:06:15.820467Z",
     "iopub.status.busy": "2023-03-15T13:06:15.820122Z",
     "iopub.status.idle": "2023-03-15T13:06:27.463348Z",
     "shell.execute_reply": "2023-03-15T13:06:27.462523Z"
    }
   },
   "outputs": [
    {
     "name": "stdout",
     "output_type": "stream",
     "text": [
      "143 µs ± 429 ns per loop (mean ± std. dev. of 7 runs, 10,000 loops each)\n"
     ]
    }
   ],
   "source": [
    "%timeit Batch.cat(batches)"
   ]
  },
  {
   "cell_type": "code",
   "execution_count": 29,
   "id": "c6688e51",
   "metadata": {
    "execution": {
     "iopub.execute_input": "2023-03-15T13:06:27.466986Z",
     "iopub.status.busy": "2023-03-15T13:06:27.466443Z",
     "iopub.status.idle": "2023-03-15T13:06:30.189072Z",
     "shell.execute_reply": "2023-03-15T13:06:30.188440Z"
    }
   },
   "outputs": [
    {
     "name": "stdout",
     "output_type": "stream",
     "text": [
      "334 µs ± 2.44 µs per loop (mean ± std. dev. of 7 runs, 1,000 loops each)\n"
     ]
    }
   ],
   "source": [
    "batch = Batch({\n",
    "    'obs': torch.randn(8, 4, 84, 84),\n",
    "    'action': torch.randint(0, 6, size=(8, 1,)),\n",
    "    'reward': torch.rand(8, 1)}\n",
    ")\n",
    "\n",
    "%timeit list(Batch.split(batch, 1, shuffle=False, merge_last=True))"
   ]
  },
  {
   "cell_type": "code",
   "execution_count": null,
   "id": "2539fbd9",
   "metadata": {},
   "outputs": [],
   "source": []
  }
 ],
 "metadata": {
  "kernelspec": {
   "display_name": "Python 3 (ipykernel)",
   "language": "python",
   "name": "python3"
  },
  "language_info": {
   "codemirror_mode": {
    "name": "ipython",
    "version": 3
   },
   "file_extension": ".py",
   "mimetype": "text/x-python",
   "name": "python",
   "nbconvert_exporter": "python",
   "pygments_lexer": "ipython3",
   "version": "3.8.16"
  }
 },
 "nbformat": 4,
 "nbformat_minor": 5
}
