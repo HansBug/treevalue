{
 "cells": [
  {
   "cell_type": "markdown",
   "id": "9d39d946",
   "metadata": {},
   "source": [
    "# Comparison Between TreeValue and Tianshou Batch"
   ]
  },
  {
   "cell_type": "markdown",
   "id": "3c6db2d4",
   "metadata": {},
   "source": [
    "In this section, we will take a look at the feature and performance of the [Tianshou Batch](https://github.com/thu-ml/tianshou) library, which is developed by Tsinghua Machine Learning Group."
   ]
  },
  {
   "cell_type": "markdown",
   "id": "069361b0",
   "metadata": {},
   "source": [
    "Before starting the comparison, let us define some thing."
   ]
  },
  {
   "cell_type": "code",
   "execution_count": 1,
   "id": "06fc8d26",
   "metadata": {
    "execution": {
     "iopub.execute_input": "2023-03-16T08:35:58.536875Z",
     "iopub.status.busy": "2023-03-16T08:35:58.536271Z",
     "iopub.status.idle": "2023-03-16T08:35:59.938424Z",
     "shell.execute_reply": "2023-03-16T08:35:59.937614Z"
    }
   },
   "outputs": [],
   "source": [
    "import torch \n",
    "\n",
    "_TREE_DATA_1 = {'a': 1, 'b': 2, 'x': {'c': 3, 'd': 4}}\n",
    "_TREE_DATA_2 = {\n",
    "    'a': torch.randn(2, 3), \n",
    "    'x': {\n",
    "        'c': torch.randn(3, 4)\n",
    "    },\n",
    "}\n",
    "_TREE_DATA_3 = {\n",
    "    'obs': torch.randn(4, 84, 84),\n",
    "    'action': torch.randint(0, 6, size=(1,)),\n",
    "    'reward': torch.rand(1),\n",
    "}"
   ]
  },
  {
   "cell_type": "markdown",
   "id": "83461b25",
   "metadata": {},
   "source": [
    "## Read and Write Operation"
   ]
  },
  {
   "cell_type": "markdown",
   "id": "067b3f73",
   "metadata": {},
   "source": [
    "Reading and writing are the two most common operations in the tree data structure based on the data model (TreeValue and Tianshou Batch both belong to this type), so this section will compare the reading and writing performance of these two libraries."
   ]
  },
  {
   "cell_type": "markdown",
   "id": "5d09a5b7",
   "metadata": {},
   "source": [
    "### TreeValue's Get and Set"
   ]
  },
  {
   "cell_type": "code",
   "execution_count": 2,
   "id": "9519c4bb",
   "metadata": {
    "execution": {
     "iopub.execute_input": "2023-03-16T08:35:59.942435Z",
     "iopub.status.busy": "2023-03-16T08:35:59.941948Z",
     "iopub.status.idle": "2023-03-16T08:36:00.229886Z",
     "shell.execute_reply": "2023-03-16T08:36:00.229110Z"
    }
   },
   "outputs": [],
   "source": [
    "from treevalue import FastTreeValue\n",
    "\n",
    "t = FastTreeValue(_TREE_DATA_2)"
   ]
  },
  {
   "cell_type": "code",
   "execution_count": 3,
   "id": "11c37677",
   "metadata": {
    "execution": {
     "iopub.execute_input": "2023-03-16T08:36:00.234057Z",
     "iopub.status.busy": "2023-03-16T08:36:00.233419Z",
     "iopub.status.idle": "2023-03-16T08:36:00.243785Z",
     "shell.execute_reply": "2023-03-16T08:36:00.243053Z"
    }
   },
   "outputs": [
    {
     "data": {
      "text/plain": [
       "<FastTreeValue 0x7fae588aea90>\n",
       "├── 'a' --> tensor([[ 0.9030, -0.1085,  0.3087],\n",
       "│                   [ 0.5071,  1.1900, -1.5243]])\n",
       "└── 'x' --> <FastTreeValue 0x7fae588ae400>\n",
       "    └── 'c' --> tensor([[-1.3115,  0.1401, -0.3194, -1.0053],\n",
       "                        [-0.6758, -0.2587,  0.5419,  0.6756],\n",
       "                        [ 0.2984,  0.7498,  1.3383, -0.1892]])"
      ]
     },
     "execution_count": 3,
     "metadata": {},
     "output_type": "execute_result"
    }
   ],
   "source": [
    "t"
   ]
  },
  {
   "cell_type": "code",
   "execution_count": 4,
   "id": "fd70b0b9",
   "metadata": {
    "execution": {
     "iopub.execute_input": "2023-03-16T08:36:00.246848Z",
     "iopub.status.busy": "2023-03-16T08:36:00.246400Z",
     "iopub.status.idle": "2023-03-16T08:36:00.252372Z",
     "shell.execute_reply": "2023-03-16T08:36:00.251746Z"
    }
   },
   "outputs": [
    {
     "data": {
      "text/plain": [
       "tensor([[ 0.9030, -0.1085,  0.3087],\n",
       "        [ 0.5071,  1.1900, -1.5243]])"
      ]
     },
     "execution_count": 4,
     "metadata": {},
     "output_type": "execute_result"
    }
   ],
   "source": [
    "t.a"
   ]
  },
  {
   "cell_type": "code",
   "execution_count": 5,
   "id": "c18197bd",
   "metadata": {
    "execution": {
     "iopub.execute_input": "2023-03-16T08:36:00.255185Z",
     "iopub.status.busy": "2023-03-16T08:36:00.254647Z",
     "iopub.status.idle": "2023-03-16T08:36:05.378729Z",
     "shell.execute_reply": "2023-03-16T08:36:05.377344Z"
    }
   },
   "outputs": [
    {
     "name": "stdout",
     "output_type": "stream",
     "text": [
      "63.1 ns ± 0.0999 ns per loop (mean ± std. dev. of 7 runs, 10,000,000 loops each)\n"
     ]
    }
   ],
   "source": [
    "%timeit t.a"
   ]
  },
  {
   "cell_type": "code",
   "execution_count": 6,
   "id": "bd52f867",
   "metadata": {
    "execution": {
     "iopub.execute_input": "2023-03-16T08:36:05.382120Z",
     "iopub.status.busy": "2023-03-16T08:36:05.381606Z",
     "iopub.status.idle": "2023-03-16T08:36:05.388006Z",
     "shell.execute_reply": "2023-03-16T08:36:05.387328Z"
    }
   },
   "outputs": [
    {
     "data": {
      "text/plain": [
       "<FastTreeValue 0x7fae588aea90>\n",
       "├── 'a' --> tensor([[-1.3809, -1.2515, -0.8629],\n",
       "│                   [-2.4512,  0.0605,  0.2655]])\n",
       "└── 'x' --> <FastTreeValue 0x7fae588ae400>\n",
       "    └── 'c' --> tensor([[-1.3115,  0.1401, -0.3194, -1.0053],\n",
       "                        [-0.6758, -0.2587,  0.5419,  0.6756],\n",
       "                        [ 0.2984,  0.7498,  1.3383, -0.1892]])"
      ]
     },
     "execution_count": 6,
     "metadata": {},
     "output_type": "execute_result"
    }
   ],
   "source": [
    "new_value = torch.randn(2, 3)\n",
    "t.a = new_value\n",
    "\n",
    "t"
   ]
  },
  {
   "cell_type": "code",
   "execution_count": 7,
   "id": "bbe04d1c",
   "metadata": {
    "execution": {
     "iopub.execute_input": "2023-03-16T08:36:05.390817Z",
     "iopub.status.busy": "2023-03-16T08:36:05.390445Z",
     "iopub.status.idle": "2023-03-16T08:36:10.979516Z",
     "shell.execute_reply": "2023-03-16T08:36:10.978665Z"
    }
   },
   "outputs": [
    {
     "name": "stdout",
     "output_type": "stream",
     "text": [
      "68.8 ns ± 0.102 ns per loop (mean ± std. dev. of 7 runs, 10,000,000 loops each)\n"
     ]
    }
   ],
   "source": [
    "%timeit t.a = new_value"
   ]
  },
  {
   "cell_type": "markdown",
   "id": "48c49731",
   "metadata": {},
   "source": [
    "### Tianshou Batch's Get and Set"
   ]
  },
  {
   "cell_type": "code",
   "execution_count": 8,
   "id": "f1bb14c1",
   "metadata": {
    "execution": {
     "iopub.execute_input": "2023-03-16T08:36:10.982897Z",
     "iopub.status.busy": "2023-03-16T08:36:10.982465Z",
     "iopub.status.idle": "2023-03-16T08:36:11.367116Z",
     "shell.execute_reply": "2023-03-16T08:36:11.366327Z"
    }
   },
   "outputs": [],
   "source": [
    "from tianshou.data import Batch\n",
    "\n",
    "b = Batch(**_TREE_DATA_2)"
   ]
  },
  {
   "cell_type": "code",
   "execution_count": 9,
   "id": "cb0777c3",
   "metadata": {
    "execution": {
     "iopub.execute_input": "2023-03-16T08:36:11.371375Z",
     "iopub.status.busy": "2023-03-16T08:36:11.370568Z",
     "iopub.status.idle": "2023-03-16T08:36:11.377535Z",
     "shell.execute_reply": "2023-03-16T08:36:11.376928Z"
    }
   },
   "outputs": [
    {
     "data": {
      "text/plain": [
       "Batch(\n",
       "    a: tensor([[ 0.9030, -0.1085,  0.3087],\n",
       "               [ 0.5071,  1.1900, -1.5243]]),\n",
       "    x: Batch(\n",
       "           c: tensor([[-1.3115,  0.1401, -0.3194, -1.0053],\n",
       "                      [-0.6758, -0.2587,  0.5419,  0.6756],\n",
       "                      [ 0.2984,  0.7498,  1.3383, -0.1892]]),\n",
       "       ),\n",
       ")"
      ]
     },
     "execution_count": 9,
     "metadata": {},
     "output_type": "execute_result"
    }
   ],
   "source": [
    "b"
   ]
  },
  {
   "cell_type": "code",
   "execution_count": 10,
   "id": "43ef8ea3",
   "metadata": {
    "execution": {
     "iopub.execute_input": "2023-03-16T08:36:11.380512Z",
     "iopub.status.busy": "2023-03-16T08:36:11.380056Z",
     "iopub.status.idle": "2023-03-16T08:36:11.385509Z",
     "shell.execute_reply": "2023-03-16T08:36:11.384887Z"
    }
   },
   "outputs": [
    {
     "data": {
      "text/plain": [
       "tensor([[ 0.9030, -0.1085,  0.3087],\n",
       "        [ 0.5071,  1.1900, -1.5243]])"
      ]
     },
     "execution_count": 10,
     "metadata": {},
     "output_type": "execute_result"
    }
   ],
   "source": [
    "b.a"
   ]
  },
  {
   "cell_type": "code",
   "execution_count": 11,
   "id": "b785ab72",
   "metadata": {
    "execution": {
     "iopub.execute_input": "2023-03-16T08:36:11.388447Z",
     "iopub.status.busy": "2023-03-16T08:36:11.388071Z",
     "iopub.status.idle": "2023-03-16T08:36:16.521538Z",
     "shell.execute_reply": "2023-03-16T08:36:16.520672Z"
    }
   },
   "outputs": [
    {
     "name": "stdout",
     "output_type": "stream",
     "text": [
      "63.2 ns ± 0.013 ns per loop (mean ± std. dev. of 7 runs, 10,000,000 loops each)\n"
     ]
    }
   ],
   "source": [
    "%timeit b.a"
   ]
  },
  {
   "cell_type": "code",
   "execution_count": 12,
   "id": "ad54dc69",
   "metadata": {
    "execution": {
     "iopub.execute_input": "2023-03-16T08:36:16.525305Z",
     "iopub.status.busy": "2023-03-16T08:36:16.524817Z",
     "iopub.status.idle": "2023-03-16T08:36:16.530970Z",
     "shell.execute_reply": "2023-03-16T08:36:16.530277Z"
    }
   },
   "outputs": [
    {
     "data": {
      "text/plain": [
       "Batch(\n",
       "    a: tensor([[-0.5371,  1.2972,  2.1304],\n",
       "               [-1.2785, -0.8327, -0.9435]]),\n",
       "    x: Batch(\n",
       "           c: tensor([[-1.3115,  0.1401, -0.3194, -1.0053],\n",
       "                      [-0.6758, -0.2587,  0.5419,  0.6756],\n",
       "                      [ 0.2984,  0.7498,  1.3383, -0.1892]]),\n",
       "       ),\n",
       ")"
      ]
     },
     "execution_count": 12,
     "metadata": {},
     "output_type": "execute_result"
    }
   ],
   "source": [
    "new_value = torch.randn(2, 3)\n",
    "b.a = new_value\n",
    "\n",
    "b"
   ]
  },
  {
   "cell_type": "code",
   "execution_count": 13,
   "id": "29b1d0bf",
   "metadata": {
    "execution": {
     "iopub.execute_input": "2023-03-16T08:36:16.533879Z",
     "iopub.status.busy": "2023-03-16T08:36:16.533257Z",
     "iopub.status.idle": "2023-03-16T08:36:20.499710Z",
     "shell.execute_reply": "2023-03-16T08:36:20.498895Z"
    }
   },
   "outputs": [
    {
     "name": "stdout",
     "output_type": "stream",
     "text": [
      "488 ns ± 0.891 ns per loop (mean ± std. dev. of 7 runs, 1,000,000 loops each)\n"
     ]
    }
   ],
   "source": [
    "%timeit b.a = new_value"
   ]
  },
  {
   "cell_type": "markdown",
   "id": "b61ad1d0",
   "metadata": {},
   "source": [
    "## Initialization"
   ]
  },
  {
   "cell_type": "markdown",
   "id": "d70f0d54",
   "metadata": {},
   "source": [
    "### TreeValue's Initialization"
   ]
  },
  {
   "cell_type": "code",
   "execution_count": 14,
   "id": "d32a679b",
   "metadata": {
    "execution": {
     "iopub.execute_input": "2023-03-16T08:36:20.503411Z",
     "iopub.status.busy": "2023-03-16T08:36:20.502798Z",
     "iopub.status.idle": "2023-03-16T08:36:27.303282Z",
     "shell.execute_reply": "2023-03-16T08:36:27.302243Z"
    }
   },
   "outputs": [
    {
     "name": "stdout",
     "output_type": "stream",
     "text": [
      "839 ns ± 0.884 ns per loop (mean ± std. dev. of 7 runs, 1,000,000 loops each)\n"
     ]
    }
   ],
   "source": [
    "%timeit FastTreeValue(_TREE_DATA_1)"
   ]
  },
  {
   "cell_type": "markdown",
   "id": "24f3707b",
   "metadata": {},
   "source": [
    "### Tianshou Batch's Initialization"
   ]
  },
  {
   "cell_type": "code",
   "execution_count": 15,
   "id": "ac3958df",
   "metadata": {
    "execution": {
     "iopub.execute_input": "2023-03-16T08:36:27.306776Z",
     "iopub.status.busy": "2023-03-16T08:36:27.306273Z",
     "iopub.status.idle": "2023-03-16T08:36:36.108767Z",
     "shell.execute_reply": "2023-03-16T08:36:36.107920Z"
    }
   },
   "outputs": [
    {
     "name": "stdout",
     "output_type": "stream",
     "text": [
      "10.8 µs ± 14 ns per loop (mean ± std. dev. of 7 runs, 100,000 loops each)\n"
     ]
    }
   ],
   "source": [
    "%timeit Batch(**_TREE_DATA_1)"
   ]
  },
  {
   "cell_type": "markdown",
   "id": "1ab82e2d",
   "metadata": {},
   "source": [
    "## Deep Copy Operation"
   ]
  },
  {
   "cell_type": "code",
   "execution_count": 16,
   "id": "210a9442",
   "metadata": {
    "execution": {
     "iopub.execute_input": "2023-03-16T08:36:36.112058Z",
     "iopub.status.busy": "2023-03-16T08:36:36.111576Z",
     "iopub.status.idle": "2023-03-16T08:36:36.115783Z",
     "shell.execute_reply": "2023-03-16T08:36:36.115142Z"
    }
   },
   "outputs": [],
   "source": [
    "import copy"
   ]
  },
  {
   "cell_type": "markdown",
   "id": "5a736274",
   "metadata": {},
   "source": [
    "### Deep Copy of TreeValue"
   ]
  },
  {
   "cell_type": "code",
   "execution_count": 17,
   "id": "f9bcadd6",
   "metadata": {
    "execution": {
     "iopub.execute_input": "2023-03-16T08:36:36.118483Z",
     "iopub.status.busy": "2023-03-16T08:36:36.118032Z",
     "iopub.status.idle": "2023-03-16T08:36:47.687348Z",
     "shell.execute_reply": "2023-03-16T08:36:47.686658Z"
    }
   },
   "outputs": [
    {
     "name": "stdout",
     "output_type": "stream",
     "text": [
      "143 µs ± 418 ns per loop (mean ± std. dev. of 7 runs, 10,000 loops each)\n"
     ]
    }
   ],
   "source": [
    "t3 = FastTreeValue(_TREE_DATA_3)\n",
    "%timeit copy.deepcopy(t3)"
   ]
  },
  {
   "cell_type": "markdown",
   "id": "bf8be7ea",
   "metadata": {},
   "source": [
    "### Deep Copy of Tianshou Batch"
   ]
  },
  {
   "cell_type": "code",
   "execution_count": 18,
   "id": "91998e6f",
   "metadata": {
    "execution": {
     "iopub.execute_input": "2023-03-16T08:36:47.690558Z",
     "iopub.status.busy": "2023-03-16T08:36:47.689872Z",
     "iopub.status.idle": "2023-03-16T08:36:59.153420Z",
     "shell.execute_reply": "2023-03-16T08:36:59.152792Z"
    }
   },
   "outputs": [
    {
     "name": "stdout",
     "output_type": "stream",
     "text": [
      "141 µs ± 570 ns per loop (mean ± std. dev. of 7 runs, 10,000 loops each)\n"
     ]
    }
   ],
   "source": [
    "b3 = Batch(**_TREE_DATA_3)\n",
    "%timeit copy.deepcopy(b3)"
   ]
  },
  {
   "cell_type": "markdown",
   "id": "223162fb",
   "metadata": {},
   "source": [
    "## Stack, Concat and Split Operation"
   ]
  },
  {
   "cell_type": "markdown",
   "id": "85fa4a73",
   "metadata": {},
   "source": [
    "### Performance of TreeValue"
   ]
  },
  {
   "cell_type": "code",
   "execution_count": 19,
   "id": "a0c2b697",
   "metadata": {
    "execution": {
     "iopub.execute_input": "2023-03-16T08:36:59.156451Z",
     "iopub.status.busy": "2023-03-16T08:36:59.156042Z",
     "iopub.status.idle": "2023-03-16T08:36:59.160569Z",
     "shell.execute_reply": "2023-03-16T08:36:59.159950Z"
    }
   },
   "outputs": [],
   "source": [
    "trees = [FastTreeValue(_TREE_DATA_2) for _ in range(8)]"
   ]
  },
  {
   "cell_type": "code",
   "execution_count": 20,
   "id": "017ea5a5",
   "metadata": {
    "execution": {
     "iopub.execute_input": "2023-03-16T08:36:59.163532Z",
     "iopub.status.busy": "2023-03-16T08:36:59.163205Z",
     "iopub.status.idle": "2023-03-16T08:36:59.172443Z",
     "shell.execute_reply": "2023-03-16T08:36:59.171821Z"
    }
   },
   "outputs": [
    {
     "data": {
      "text/plain": [
       "<FastTreeValue 0x7fae5c938c70>\n",
       "├── 'a' --> tensor([[[ 0.9030, -0.1085,  0.3087],\n",
       "│                    [ 0.5071,  1.1900, -1.5243]],\n",
       "│           \n",
       "│                   [[ 0.9030, -0.1085,  0.3087],\n",
       "│                    [ 0.5071,  1.1900, -1.5243]],\n",
       "│           \n",
       "│                   [[ 0.9030, -0.1085,  0.3087],\n",
       "│                    [ 0.5071,  1.1900, -1.5243]],\n",
       "│           \n",
       "│                   [[ 0.9030, -0.1085,  0.3087],\n",
       "│                    [ 0.5071,  1.1900, -1.5243]],\n",
       "│           \n",
       "│                   [[ 0.9030, -0.1085,  0.3087],\n",
       "│                    [ 0.5071,  1.1900, -1.5243]],\n",
       "│           \n",
       "│                   [[ 0.9030, -0.1085,  0.3087],\n",
       "│                    [ 0.5071,  1.1900, -1.5243]],\n",
       "│           \n",
       "│                   [[ 0.9030, -0.1085,  0.3087],\n",
       "│                    [ 0.5071,  1.1900, -1.5243]],\n",
       "│           \n",
       "│                   [[ 0.9030, -0.1085,  0.3087],\n",
       "│                    [ 0.5071,  1.1900, -1.5243]]])\n",
       "└── 'x' --> <FastTreeValue 0x7fad84a9ebb0>\n",
       "    └── 'c' --> tensor([[[-1.3115,  0.1401, -0.3194, -1.0053],\n",
       "                         [-0.6758, -0.2587,  0.5419,  0.6756],\n",
       "                         [ 0.2984,  0.7498,  1.3383, -0.1892]],\n",
       "                \n",
       "                        [[-1.3115,  0.1401, -0.3194, -1.0053],\n",
       "                         [-0.6758, -0.2587,  0.5419,  0.6756],\n",
       "                         [ 0.2984,  0.7498,  1.3383, -0.1892]],\n",
       "                \n",
       "                        [[-1.3115,  0.1401, -0.3194, -1.0053],\n",
       "                         [-0.6758, -0.2587,  0.5419,  0.6756],\n",
       "                         [ 0.2984,  0.7498,  1.3383, -0.1892]],\n",
       "                \n",
       "                        [[-1.3115,  0.1401, -0.3194, -1.0053],\n",
       "                         [-0.6758, -0.2587,  0.5419,  0.6756],\n",
       "                         [ 0.2984,  0.7498,  1.3383, -0.1892]],\n",
       "                \n",
       "                        [[-1.3115,  0.1401, -0.3194, -1.0053],\n",
       "                         [-0.6758, -0.2587,  0.5419,  0.6756],\n",
       "                         [ 0.2984,  0.7498,  1.3383, -0.1892]],\n",
       "                \n",
       "                        [[-1.3115,  0.1401, -0.3194, -1.0053],\n",
       "                         [-0.6758, -0.2587,  0.5419,  0.6756],\n",
       "                         [ 0.2984,  0.7498,  1.3383, -0.1892]],\n",
       "                \n",
       "                        [[-1.3115,  0.1401, -0.3194, -1.0053],\n",
       "                         [-0.6758, -0.2587,  0.5419,  0.6756],\n",
       "                         [ 0.2984,  0.7498,  1.3383, -0.1892]],\n",
       "                \n",
       "                        [[-1.3115,  0.1401, -0.3194, -1.0053],\n",
       "                         [-0.6758, -0.2587,  0.5419,  0.6756],\n",
       "                         [ 0.2984,  0.7498,  1.3383, -0.1892]]])"
      ]
     },
     "execution_count": 20,
     "metadata": {},
     "output_type": "execute_result"
    }
   ],
   "source": [
    "t_stack = FastTreeValue.func(subside=True)(torch.stack)\n",
    "\n",
    "t_stack(trees)"
   ]
  },
  {
   "cell_type": "code",
   "execution_count": 21,
   "id": "f8b3f415",
   "metadata": {
    "execution": {
     "iopub.execute_input": "2023-03-16T08:36:59.175210Z",
     "iopub.status.busy": "2023-03-16T08:36:59.174888Z",
     "iopub.status.idle": "2023-03-16T08:37:01.838767Z",
     "shell.execute_reply": "2023-03-16T08:37:01.837825Z"
    }
   },
   "outputs": [
    {
     "name": "stdout",
     "output_type": "stream",
     "text": [
      "32.7 µs ± 38.4 ns per loop (mean ± std. dev. of 7 runs, 10,000 loops each)\n"
     ]
    }
   ],
   "source": [
    "%timeit t_stack(trees)"
   ]
  },
  {
   "cell_type": "code",
   "execution_count": 22,
   "id": "94b56771",
   "metadata": {
    "execution": {
     "iopub.execute_input": "2023-03-16T08:37:01.842029Z",
     "iopub.status.busy": "2023-03-16T08:37:01.841607Z",
     "iopub.status.idle": "2023-03-16T08:37:01.850066Z",
     "shell.execute_reply": "2023-03-16T08:37:01.849439Z"
    }
   },
   "outputs": [
    {
     "data": {
      "text/plain": [
       "<FastTreeValue 0x7fae481c3b50>\n",
       "├── 'a' --> tensor([[ 0.9030, -0.1085,  0.3087],\n",
       "│                   [ 0.5071,  1.1900, -1.5243],\n",
       "│                   [ 0.9030, -0.1085,  0.3087],\n",
       "│                   [ 0.5071,  1.1900, -1.5243],\n",
       "│                   [ 0.9030, -0.1085,  0.3087],\n",
       "│                   [ 0.5071,  1.1900, -1.5243],\n",
       "│                   [ 0.9030, -0.1085,  0.3087],\n",
       "│                   [ 0.5071,  1.1900, -1.5243],\n",
       "│                   [ 0.9030, -0.1085,  0.3087],\n",
       "│                   [ 0.5071,  1.1900, -1.5243],\n",
       "│                   [ 0.9030, -0.1085,  0.3087],\n",
       "│                   [ 0.5071,  1.1900, -1.5243],\n",
       "│                   [ 0.9030, -0.1085,  0.3087],\n",
       "│                   [ 0.5071,  1.1900, -1.5243],\n",
       "│                   [ 0.9030, -0.1085,  0.3087],\n",
       "│                   [ 0.5071,  1.1900, -1.5243]])\n",
       "└── 'x' --> <FastTreeValue 0x7fae481c38e0>\n",
       "    └── 'c' --> tensor([[-1.3115,  0.1401, -0.3194, -1.0053],\n",
       "                        [-0.6758, -0.2587,  0.5419,  0.6756],\n",
       "                        [ 0.2984,  0.7498,  1.3383, -0.1892],\n",
       "                        [-1.3115,  0.1401, -0.3194, -1.0053],\n",
       "                        [-0.6758, -0.2587,  0.5419,  0.6756],\n",
       "                        [ 0.2984,  0.7498,  1.3383, -0.1892],\n",
       "                        [-1.3115,  0.1401, -0.3194, -1.0053],\n",
       "                        [-0.6758, -0.2587,  0.5419,  0.6756],\n",
       "                        [ 0.2984,  0.7498,  1.3383, -0.1892],\n",
       "                        [-1.3115,  0.1401, -0.3194, -1.0053],\n",
       "                        [-0.6758, -0.2587,  0.5419,  0.6756],\n",
       "                        [ 0.2984,  0.7498,  1.3383, -0.1892],\n",
       "                        [-1.3115,  0.1401, -0.3194, -1.0053],\n",
       "                        [-0.6758, -0.2587,  0.5419,  0.6756],\n",
       "                        [ 0.2984,  0.7498,  1.3383, -0.1892],\n",
       "                        [-1.3115,  0.1401, -0.3194, -1.0053],\n",
       "                        [-0.6758, -0.2587,  0.5419,  0.6756],\n",
       "                        [ 0.2984,  0.7498,  1.3383, -0.1892],\n",
       "                        [-1.3115,  0.1401, -0.3194, -1.0053],\n",
       "                        [-0.6758, -0.2587,  0.5419,  0.6756],\n",
       "                        [ 0.2984,  0.7498,  1.3383, -0.1892],\n",
       "                        [-1.3115,  0.1401, -0.3194, -1.0053],\n",
       "                        [-0.6758, -0.2587,  0.5419,  0.6756],\n",
       "                        [ 0.2984,  0.7498,  1.3383, -0.1892]])"
      ]
     },
     "execution_count": 22,
     "metadata": {},
     "output_type": "execute_result"
    }
   ],
   "source": [
    "t_cat = FastTreeValue.func(subside=True)(torch.cat)\n",
    "\n",
    "t_cat(trees)"
   ]
  },
  {
   "cell_type": "code",
   "execution_count": 23,
   "id": "5e9c06a6",
   "metadata": {
    "execution": {
     "iopub.execute_input": "2023-03-16T08:37:01.852962Z",
     "iopub.status.busy": "2023-03-16T08:37:01.852615Z",
     "iopub.status.idle": "2023-03-16T08:37:04.344955Z",
     "shell.execute_reply": "2023-03-16T08:37:04.344120Z"
    }
   },
   "outputs": [
    {
     "name": "stdout",
     "output_type": "stream",
     "text": [
      "30.6 µs ± 55.4 ns per loop (mean ± std. dev. of 7 runs, 10,000 loops each)\n"
     ]
    }
   ],
   "source": [
    "%timeit t_cat(trees)"
   ]
  },
  {
   "cell_type": "code",
   "execution_count": 24,
   "id": "a3ab5c8f",
   "metadata": {
    "execution": {
     "iopub.execute_input": "2023-03-16T08:37:04.348109Z",
     "iopub.status.busy": "2023-03-16T08:37:04.347625Z",
     "iopub.status.idle": "2023-03-16T08:37:09.740651Z",
     "shell.execute_reply": "2023-03-16T08:37:09.739779Z"
    }
   },
   "outputs": [
    {
     "name": "stdout",
     "output_type": "stream",
     "text": [
      "66.3 µs ± 67.8 ns per loop (mean ± std. dev. of 7 runs, 10,000 loops each)\n"
     ]
    }
   ],
   "source": [
    "t_split = FastTreeValue.func(rise=True)(torch.split)\n",
    "tree = FastTreeValue({\n",
    "    'obs': torch.randn(8, 4, 84, 84),\n",
    "    'action': torch.randint(0, 6, size=(8, 1,)),\n",
    "    'reward': torch.rand(8, 1),\n",
    "})\n",
    "\n",
    "%timeit t_split(tree, 1)"
   ]
  },
  {
   "cell_type": "markdown",
   "id": "31c3ec0b",
   "metadata": {},
   "source": [
    "### Performance of Tianshou Batch"
   ]
  },
  {
   "cell_type": "code",
   "execution_count": 25,
   "id": "9ead828a",
   "metadata": {
    "execution": {
     "iopub.execute_input": "2023-03-16T08:37:09.744380Z",
     "iopub.status.busy": "2023-03-16T08:37:09.743798Z",
     "iopub.status.idle": "2023-03-16T08:37:09.752397Z",
     "shell.execute_reply": "2023-03-16T08:37:09.751751Z"
    }
   },
   "outputs": [
    {
     "data": {
      "text/plain": [
       "Batch(\n",
       "    x: Batch(\n",
       "           c: tensor([[[-1.3115,  0.1401, -0.3194, -1.0053],\n",
       "                       [-0.6758, -0.2587,  0.5419,  0.6756],\n",
       "                       [ 0.2984,  0.7498,  1.3383, -0.1892]],\n",
       "              \n",
       "                      [[-1.3115,  0.1401, -0.3194, -1.0053],\n",
       "                       [-0.6758, -0.2587,  0.5419,  0.6756],\n",
       "                       [ 0.2984,  0.7498,  1.3383, -0.1892]],\n",
       "              \n",
       "                      [[-1.3115,  0.1401, -0.3194, -1.0053],\n",
       "                       [-0.6758, -0.2587,  0.5419,  0.6756],\n",
       "                       [ 0.2984,  0.7498,  1.3383, -0.1892]],\n",
       "              \n",
       "                      [[-1.3115,  0.1401, -0.3194, -1.0053],\n",
       "                       [-0.6758, -0.2587,  0.5419,  0.6756],\n",
       "                       [ 0.2984,  0.7498,  1.3383, -0.1892]],\n",
       "              \n",
       "                      [[-1.3115,  0.1401, -0.3194, -1.0053],\n",
       "                       [-0.6758, -0.2587,  0.5419,  0.6756],\n",
       "                       [ 0.2984,  0.7498,  1.3383, -0.1892]],\n",
       "              \n",
       "                      [[-1.3115,  0.1401, -0.3194, -1.0053],\n",
       "                       [-0.6758, -0.2587,  0.5419,  0.6756],\n",
       "                       [ 0.2984,  0.7498,  1.3383, -0.1892]],\n",
       "              \n",
       "                      [[-1.3115,  0.1401, -0.3194, -1.0053],\n",
       "                       [-0.6758, -0.2587,  0.5419,  0.6756],\n",
       "                       [ 0.2984,  0.7498,  1.3383, -0.1892]],\n",
       "              \n",
       "                      [[-1.3115,  0.1401, -0.3194, -1.0053],\n",
       "                       [-0.6758, -0.2587,  0.5419,  0.6756],\n",
       "                       [ 0.2984,  0.7498,  1.3383, -0.1892]]]),\n",
       "       ),\n",
       "    a: tensor([[[ 0.9030, -0.1085,  0.3087],\n",
       "                [ 0.5071,  1.1900, -1.5243]],\n",
       "       \n",
       "               [[ 0.9030, -0.1085,  0.3087],\n",
       "                [ 0.5071,  1.1900, -1.5243]],\n",
       "       \n",
       "               [[ 0.9030, -0.1085,  0.3087],\n",
       "                [ 0.5071,  1.1900, -1.5243]],\n",
       "       \n",
       "               [[ 0.9030, -0.1085,  0.3087],\n",
       "                [ 0.5071,  1.1900, -1.5243]],\n",
       "       \n",
       "               [[ 0.9030, -0.1085,  0.3087],\n",
       "                [ 0.5071,  1.1900, -1.5243]],\n",
       "       \n",
       "               [[ 0.9030, -0.1085,  0.3087],\n",
       "                [ 0.5071,  1.1900, -1.5243]],\n",
       "       \n",
       "               [[ 0.9030, -0.1085,  0.3087],\n",
       "                [ 0.5071,  1.1900, -1.5243]],\n",
       "       \n",
       "               [[ 0.9030, -0.1085,  0.3087],\n",
       "                [ 0.5071,  1.1900, -1.5243]]]),\n",
       ")"
      ]
     },
     "execution_count": 25,
     "metadata": {},
     "output_type": "execute_result"
    }
   ],
   "source": [
    "batches = [Batch(**_TREE_DATA_2) for _ in range(8)]\n",
    "\n",
    "Batch.stack(batches)"
   ]
  },
  {
   "cell_type": "code",
   "execution_count": 26,
   "id": "ec9037a3",
   "metadata": {
    "execution": {
     "iopub.execute_input": "2023-03-16T08:37:09.755623Z",
     "iopub.status.busy": "2023-03-16T08:37:09.755064Z",
     "iopub.status.idle": "2023-03-16T08:37:16.168040Z",
     "shell.execute_reply": "2023-03-16T08:37:16.167180Z"
    }
   },
   "outputs": [
    {
     "name": "stdout",
     "output_type": "stream",
     "text": [
      "79 µs ± 1.04 µs per loop (mean ± std. dev. of 7 runs, 10,000 loops each)\n"
     ]
    }
   ],
   "source": [
    "%timeit Batch.stack(batches)"
   ]
  },
  {
   "cell_type": "code",
   "execution_count": 27,
   "id": "cb8ab77e",
   "metadata": {
    "execution": {
     "iopub.execute_input": "2023-03-16T08:37:16.171611Z",
     "iopub.status.busy": "2023-03-16T08:37:16.171159Z",
     "iopub.status.idle": "2023-03-16T08:37:16.179314Z",
     "shell.execute_reply": "2023-03-16T08:37:16.178683Z"
    }
   },
   "outputs": [
    {
     "data": {
      "text/plain": [
       "Batch(\n",
       "    x: Batch(\n",
       "           c: tensor([[-1.3115,  0.1401, -0.3194, -1.0053],\n",
       "                      [-0.6758, -0.2587,  0.5419,  0.6756],\n",
       "                      [ 0.2984,  0.7498,  1.3383, -0.1892],\n",
       "                      [-1.3115,  0.1401, -0.3194, -1.0053],\n",
       "                      [-0.6758, -0.2587,  0.5419,  0.6756],\n",
       "                      [ 0.2984,  0.7498,  1.3383, -0.1892],\n",
       "                      [-1.3115,  0.1401, -0.3194, -1.0053],\n",
       "                      [-0.6758, -0.2587,  0.5419,  0.6756],\n",
       "                      [ 0.2984,  0.7498,  1.3383, -0.1892],\n",
       "                      [-1.3115,  0.1401, -0.3194, -1.0053],\n",
       "                      [-0.6758, -0.2587,  0.5419,  0.6756],\n",
       "                      [ 0.2984,  0.7498,  1.3383, -0.1892],\n",
       "                      [-1.3115,  0.1401, -0.3194, -1.0053],\n",
       "                      [-0.6758, -0.2587,  0.5419,  0.6756],\n",
       "                      [ 0.2984,  0.7498,  1.3383, -0.1892],\n",
       "                      [-1.3115,  0.1401, -0.3194, -1.0053],\n",
       "                      [-0.6758, -0.2587,  0.5419,  0.6756],\n",
       "                      [ 0.2984,  0.7498,  1.3383, -0.1892],\n",
       "                      [-1.3115,  0.1401, -0.3194, -1.0053],\n",
       "                      [-0.6758, -0.2587,  0.5419,  0.6756],\n",
       "                      [ 0.2984,  0.7498,  1.3383, -0.1892],\n",
       "                      [-1.3115,  0.1401, -0.3194, -1.0053],\n",
       "                      [-0.6758, -0.2587,  0.5419,  0.6756],\n",
       "                      [ 0.2984,  0.7498,  1.3383, -0.1892]]),\n",
       "       ),\n",
       "    a: tensor([[ 0.9030, -0.1085,  0.3087],\n",
       "               [ 0.5071,  1.1900, -1.5243],\n",
       "               [ 0.9030, -0.1085,  0.3087],\n",
       "               [ 0.5071,  1.1900, -1.5243],\n",
       "               [ 0.9030, -0.1085,  0.3087],\n",
       "               [ 0.5071,  1.1900, -1.5243],\n",
       "               [ 0.9030, -0.1085,  0.3087],\n",
       "               [ 0.5071,  1.1900, -1.5243],\n",
       "               [ 0.9030, -0.1085,  0.3087],\n",
       "               [ 0.5071,  1.1900, -1.5243],\n",
       "               [ 0.9030, -0.1085,  0.3087],\n",
       "               [ 0.5071,  1.1900, -1.5243],\n",
       "               [ 0.9030, -0.1085,  0.3087],\n",
       "               [ 0.5071,  1.1900, -1.5243],\n",
       "               [ 0.9030, -0.1085,  0.3087],\n",
       "               [ 0.5071,  1.1900, -1.5243]]),\n",
       ")"
      ]
     },
     "execution_count": 27,
     "metadata": {},
     "output_type": "execute_result"
    }
   ],
   "source": [
    "Batch.cat(batches)"
   ]
  },
  {
   "cell_type": "code",
   "execution_count": 28,
   "id": "18dfb045",
   "metadata": {
    "execution": {
     "iopub.execute_input": "2023-03-16T08:37:16.182404Z",
     "iopub.status.busy": "2023-03-16T08:37:16.181946Z",
     "iopub.status.idle": "2023-03-16T08:37:28.272558Z",
     "shell.execute_reply": "2023-03-16T08:37:28.271711Z"
    }
   },
   "outputs": [
    {
     "name": "stdout",
     "output_type": "stream",
     "text": [
      "149 µs ± 368 ns per loop (mean ± std. dev. of 7 runs, 10,000 loops each)\n"
     ]
    }
   ],
   "source": [
    "%timeit Batch.cat(batches)"
   ]
  },
  {
   "cell_type": "code",
   "execution_count": 29,
   "id": "c6688e51",
   "metadata": {
    "execution": {
     "iopub.execute_input": "2023-03-16T08:37:28.275904Z",
     "iopub.status.busy": "2023-03-16T08:37:28.275482Z",
     "iopub.status.idle": "2023-03-16T08:37:31.058126Z",
     "shell.execute_reply": "2023-03-16T08:37:31.057377Z"
    }
   },
   "outputs": [
    {
     "name": "stdout",
     "output_type": "stream",
     "text": [
      "342 µs ± 2.48 µs per loop (mean ± std. dev. of 7 runs, 1,000 loops each)\n"
     ]
    }
   ],
   "source": [
    "batch = Batch({\n",
    "    'obs': torch.randn(8, 4, 84, 84),\n",
    "    'action': torch.randint(0, 6, size=(8, 1,)),\n",
    "    'reward': torch.rand(8, 1)}\n",
    ")\n",
    "\n",
    "%timeit list(Batch.split(batch, 1, shuffle=False, merge_last=True))"
   ]
  },
  {
   "cell_type": "code",
   "execution_count": null,
   "id": "2539fbd9",
   "metadata": {},
   "outputs": [],
   "source": []
  }
 ],
 "metadata": {
  "kernelspec": {
   "display_name": "Python 3 (ipykernel)",
   "language": "python",
   "name": "python3"
  },
  "language_info": {
   "codemirror_mode": {
    "name": "ipython",
    "version": 3
   },
   "file_extension": ".py",
   "mimetype": "text/x-python",
   "name": "python",
   "nbconvert_exporter": "python",
   "pygments_lexer": "ipython3",
   "version": "3.8.16"
  }
 },
 "nbformat": 4,
 "nbformat_minor": 5
}
