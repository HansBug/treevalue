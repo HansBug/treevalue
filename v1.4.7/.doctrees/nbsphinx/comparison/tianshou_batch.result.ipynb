{
 "cells": [
  {
   "cell_type": "markdown",
   "id": "9d39d946",
   "metadata": {},
   "source": [
    "# Comparison Between TreeValue and Tianshou Batch"
   ]
  },
  {
   "cell_type": "markdown",
   "id": "3c6db2d4",
   "metadata": {},
   "source": [
    "In this section, we will take a look at the feature and performance of the [Tianshou Batch](https://github.com/thu-ml/tianshou) library, which is developed by Tsinghua Machine Learning Group."
   ]
  },
  {
   "cell_type": "markdown",
   "id": "069361b0",
   "metadata": {},
   "source": [
    "Before starting the comparison, let us define some thing."
   ]
  },
  {
   "cell_type": "code",
   "execution_count": 1,
   "id": "06fc8d26",
   "metadata": {
    "execution": {
     "iopub.execute_input": "2023-05-26T06:09:17.414752Z",
     "iopub.status.busy": "2023-05-26T06:09:17.414269Z",
     "iopub.status.idle": "2023-05-26T06:09:18.750831Z",
     "shell.execute_reply": "2023-05-26T06:09:18.750067Z"
    }
   },
   "outputs": [],
   "source": [
    "import torch \n",
    "\n",
    "_TREE_DATA_1 = {'a': 1, 'b': 2, 'x': {'c': 3, 'd': 4}}\n",
    "_TREE_DATA_2 = {\n",
    "    'a': torch.randn(2, 3), \n",
    "    'x': {\n",
    "        'c': torch.randn(3, 4)\n",
    "    },\n",
    "}\n",
    "_TREE_DATA_3 = {\n",
    "    'obs': torch.randn(4, 84, 84),\n",
    "    'action': torch.randint(0, 6, size=(1,)),\n",
    "    'reward': torch.rand(1),\n",
    "}"
   ]
  },
  {
   "cell_type": "markdown",
   "id": "83461b25",
   "metadata": {},
   "source": [
    "## Read and Write Operation"
   ]
  },
  {
   "cell_type": "markdown",
   "id": "067b3f73",
   "metadata": {},
   "source": [
    "Reading and writing are the two most common operations in the tree data structure based on the data model (TreeValue and Tianshou Batch both belong to this type), so this section will compare the reading and writing performance of these two libraries."
   ]
  },
  {
   "cell_type": "markdown",
   "id": "5d09a5b7",
   "metadata": {},
   "source": [
    "### TreeValue's Get and Set"
   ]
  },
  {
   "cell_type": "code",
   "execution_count": 2,
   "id": "9519c4bb",
   "metadata": {
    "execution": {
     "iopub.execute_input": "2023-05-26T06:09:18.755012Z",
     "iopub.status.busy": "2023-05-26T06:09:18.754535Z",
     "iopub.status.idle": "2023-05-26T06:09:19.043092Z",
     "shell.execute_reply": "2023-05-26T06:09:19.042330Z"
    }
   },
   "outputs": [],
   "source": [
    "from treevalue import FastTreeValue\n",
    "\n",
    "t = FastTreeValue(_TREE_DATA_2)"
   ]
  },
  {
   "cell_type": "code",
   "execution_count": 3,
   "id": "11c37677",
   "metadata": {
    "execution": {
     "iopub.execute_input": "2023-05-26T06:09:19.047225Z",
     "iopub.status.busy": "2023-05-26T06:09:19.046750Z",
     "iopub.status.idle": "2023-05-26T06:09:19.055733Z",
     "shell.execute_reply": "2023-05-26T06:09:19.055053Z"
    }
   },
   "outputs": [
    {
     "data": {
      "text/plain": [
       "<FastTreeValue 0x7f585e101ac0>\n",
       "├── 'a' --> tensor([[ 0.2580, -1.7902, -0.4562],\n",
       "│                   [ 0.5850,  0.1944, -0.2701]])\n",
       "└── 'x' --> <FastTreeValue 0x7f585c058bb0>\n",
       "    └── 'c' --> tensor([[ 1.3129, -0.0893, -0.8521,  0.6730],\n",
       "                        [-0.5468,  1.7223, -0.5379, -0.8544],\n",
       "                        [ 0.4697, -0.4560, -0.7825,  0.4537]])"
      ]
     },
     "execution_count": 3,
     "metadata": {},
     "output_type": "execute_result"
    }
   ],
   "source": [
    "t"
   ]
  },
  {
   "cell_type": "code",
   "execution_count": 4,
   "id": "fd70b0b9",
   "metadata": {
    "execution": {
     "iopub.execute_input": "2023-05-26T06:09:19.059582Z",
     "iopub.status.busy": "2023-05-26T06:09:19.059358Z",
     "iopub.status.idle": "2023-05-26T06:09:19.064106Z",
     "shell.execute_reply": "2023-05-26T06:09:19.063401Z"
    }
   },
   "outputs": [
    {
     "data": {
      "text/plain": [
       "tensor([[ 0.2580, -1.7902, -0.4562],\n",
       "        [ 0.5850,  0.1944, -0.2701]])"
      ]
     },
     "execution_count": 4,
     "metadata": {},
     "output_type": "execute_result"
    }
   ],
   "source": [
    "t.a"
   ]
  },
  {
   "cell_type": "code",
   "execution_count": 5,
   "id": "c18197bd",
   "metadata": {
    "execution": {
     "iopub.execute_input": "2023-05-26T06:09:19.067817Z",
     "iopub.status.busy": "2023-05-26T06:09:19.067270Z",
     "iopub.status.idle": "2023-05-26T06:09:24.495534Z",
     "shell.execute_reply": "2023-05-26T06:09:24.494631Z"
    }
   },
   "outputs": [
    {
     "name": "stdout",
     "output_type": "stream",
     "text": [
      "66.8 ns ± 0.0506 ns per loop (mean ± std. dev. of 7 runs, 10,000,000 loops each)\n"
     ]
    }
   ],
   "source": [
    "%timeit t.a"
   ]
  },
  {
   "cell_type": "code",
   "execution_count": 6,
   "id": "bd52f867",
   "metadata": {
    "execution": {
     "iopub.execute_input": "2023-05-26T06:09:24.499437Z",
     "iopub.status.busy": "2023-05-26T06:09:24.499177Z",
     "iopub.status.idle": "2023-05-26T06:09:24.505543Z",
     "shell.execute_reply": "2023-05-26T06:09:24.504811Z"
    }
   },
   "outputs": [
    {
     "data": {
      "text/plain": [
       "<FastTreeValue 0x7f585e101ac0>\n",
       "├── 'a' --> tensor([[ 0.2522,  0.2324, -1.4216],\n",
       "│                   [-1.1955, -2.7826, -0.4078]])\n",
       "└── 'x' --> <FastTreeValue 0x7f585c058bb0>\n",
       "    └── 'c' --> tensor([[ 1.3129, -0.0893, -0.8521,  0.6730],\n",
       "                        [-0.5468,  1.7223, -0.5379, -0.8544],\n",
       "                        [ 0.4697, -0.4560, -0.7825,  0.4537]])"
      ]
     },
     "execution_count": 6,
     "metadata": {},
     "output_type": "execute_result"
    }
   ],
   "source": [
    "new_value = torch.randn(2, 3)\n",
    "t.a = new_value\n",
    "\n",
    "t"
   ]
  },
  {
   "cell_type": "code",
   "execution_count": 7,
   "id": "bbe04d1c",
   "metadata": {
    "execution": {
     "iopub.execute_input": "2023-05-26T06:09:24.508446Z",
     "iopub.status.busy": "2023-05-26T06:09:24.508086Z",
     "iopub.status.idle": "2023-05-26T06:09:30.177222Z",
     "shell.execute_reply": "2023-05-26T06:09:30.176492Z"
    }
   },
   "outputs": [
    {
     "name": "stdout",
     "output_type": "stream",
     "text": [
      "69.9 ns ± 0.0527 ns per loop (mean ± std. dev. of 7 runs, 10,000,000 loops each)\n"
     ]
    }
   ],
   "source": [
    "%timeit t.a = new_value"
   ]
  },
  {
   "cell_type": "markdown",
   "id": "48c49731",
   "metadata": {},
   "source": [
    "### Tianshou Batch's Get and Set"
   ]
  },
  {
   "cell_type": "code",
   "execution_count": 8,
   "id": "f1bb14c1",
   "metadata": {
    "execution": {
     "iopub.execute_input": "2023-05-26T06:09:30.180989Z",
     "iopub.status.busy": "2023-05-26T06:09:30.180567Z",
     "iopub.status.idle": "2023-05-26T06:09:30.544038Z",
     "shell.execute_reply": "2023-05-26T06:09:30.543287Z"
    }
   },
   "outputs": [],
   "source": [
    "from tianshou.data import Batch\n",
    "\n",
    "b = Batch(**_TREE_DATA_2)"
   ]
  },
  {
   "cell_type": "code",
   "execution_count": 9,
   "id": "cb0777c3",
   "metadata": {
    "execution": {
     "iopub.execute_input": "2023-05-26T06:09:30.548029Z",
     "iopub.status.busy": "2023-05-26T06:09:30.547686Z",
     "iopub.status.idle": "2023-05-26T06:09:30.553315Z",
     "shell.execute_reply": "2023-05-26T06:09:30.552623Z"
    }
   },
   "outputs": [
    {
     "data": {
      "text/plain": [
       "Batch(\n",
       "    a: tensor([[ 0.2580, -1.7902, -0.4562],\n",
       "               [ 0.5850,  0.1944, -0.2701]]),\n",
       "    x: Batch(\n",
       "           c: tensor([[ 1.3129, -0.0893, -0.8521,  0.6730],\n",
       "                      [-0.5468,  1.7223, -0.5379, -0.8544],\n",
       "                      [ 0.4697, -0.4560, -0.7825,  0.4537]]),\n",
       "       ),\n",
       ")"
      ]
     },
     "execution_count": 9,
     "metadata": {},
     "output_type": "execute_result"
    }
   ],
   "source": [
    "b"
   ]
  },
  {
   "cell_type": "code",
   "execution_count": 10,
   "id": "43ef8ea3",
   "metadata": {
    "execution": {
     "iopub.execute_input": "2023-05-26T06:09:30.556316Z",
     "iopub.status.busy": "2023-05-26T06:09:30.555883Z",
     "iopub.status.idle": "2023-05-26T06:09:30.560773Z",
     "shell.execute_reply": "2023-05-26T06:09:30.560114Z"
    }
   },
   "outputs": [
    {
     "data": {
      "text/plain": [
       "tensor([[ 0.2580, -1.7902, -0.4562],\n",
       "        [ 0.5850,  0.1944, -0.2701]])"
      ]
     },
     "execution_count": 10,
     "metadata": {},
     "output_type": "execute_result"
    }
   ],
   "source": [
    "b.a"
   ]
  },
  {
   "cell_type": "code",
   "execution_count": 11,
   "id": "b785ab72",
   "metadata": {
    "execution": {
     "iopub.execute_input": "2023-05-26T06:09:30.564024Z",
     "iopub.status.busy": "2023-05-26T06:09:30.563657Z",
     "iopub.status.idle": "2023-05-26T06:09:35.321595Z",
     "shell.execute_reply": "2023-05-26T06:09:35.320814Z"
    }
   },
   "outputs": [
    {
     "name": "stdout",
     "output_type": "stream",
     "text": [
      "58.6 ns ± 0.124 ns per loop (mean ± std. dev. of 7 runs, 10,000,000 loops each)\n"
     ]
    }
   ],
   "source": [
    "%timeit b.a"
   ]
  },
  {
   "cell_type": "code",
   "execution_count": 12,
   "id": "ad54dc69",
   "metadata": {
    "execution": {
     "iopub.execute_input": "2023-05-26T06:09:35.325426Z",
     "iopub.status.busy": "2023-05-26T06:09:35.324669Z",
     "iopub.status.idle": "2023-05-26T06:09:35.331312Z",
     "shell.execute_reply": "2023-05-26T06:09:35.330599Z"
    }
   },
   "outputs": [
    {
     "data": {
      "text/plain": [
       "Batch(\n",
       "    a: tensor([[-3.3505,  0.5985,  1.3312],\n",
       "               [-0.9438, -0.8733, -1.4499]]),\n",
       "    x: Batch(\n",
       "           c: tensor([[ 1.3129, -0.0893, -0.8521,  0.6730],\n",
       "                      [-0.5468,  1.7223, -0.5379, -0.8544],\n",
       "                      [ 0.4697, -0.4560, -0.7825,  0.4537]]),\n",
       "       ),\n",
       ")"
      ]
     },
     "execution_count": 12,
     "metadata": {},
     "output_type": "execute_result"
    }
   ],
   "source": [
    "new_value = torch.randn(2, 3)\n",
    "b.a = new_value\n",
    "\n",
    "b"
   ]
  },
  {
   "cell_type": "code",
   "execution_count": 13,
   "id": "29b1d0bf",
   "metadata": {
    "execution": {
     "iopub.execute_input": "2023-05-26T06:09:35.334284Z",
     "iopub.status.busy": "2023-05-26T06:09:35.333917Z",
     "iopub.status.idle": "2023-05-26T06:09:39.351681Z",
     "shell.execute_reply": "2023-05-26T06:09:39.350951Z"
    }
   },
   "outputs": [
    {
     "name": "stdout",
     "output_type": "stream",
     "text": [
      "494 ns ± 0.113 ns per loop (mean ± std. dev. of 7 runs, 1,000,000 loops each)\n"
     ]
    }
   ],
   "source": [
    "%timeit b.a = new_value"
   ]
  },
  {
   "cell_type": "markdown",
   "id": "b61ad1d0",
   "metadata": {},
   "source": [
    "## Initialization"
   ]
  },
  {
   "cell_type": "markdown",
   "id": "d70f0d54",
   "metadata": {},
   "source": [
    "### TreeValue's Initialization"
   ]
  },
  {
   "cell_type": "code",
   "execution_count": 14,
   "id": "d32a679b",
   "metadata": {
    "execution": {
     "iopub.execute_input": "2023-05-26T06:09:39.355551Z",
     "iopub.status.busy": "2023-05-26T06:09:39.354938Z",
     "iopub.status.idle": "2023-05-26T06:09:45.991644Z",
     "shell.execute_reply": "2023-05-26T06:09:45.990761Z"
    }
   },
   "outputs": [
    {
     "name": "stdout",
     "output_type": "stream",
     "text": [
      "817 ns ± 0.176 ns per loop (mean ± std. dev. of 7 runs, 1,000,000 loops each)\n"
     ]
    }
   ],
   "source": [
    "%timeit FastTreeValue(_TREE_DATA_1)"
   ]
  },
  {
   "cell_type": "markdown",
   "id": "24f3707b",
   "metadata": {},
   "source": [
    "### Tianshou Batch's Initialization"
   ]
  },
  {
   "cell_type": "code",
   "execution_count": 15,
   "id": "ac3958df",
   "metadata": {
    "execution": {
     "iopub.execute_input": "2023-05-26T06:09:45.995734Z",
     "iopub.status.busy": "2023-05-26T06:09:45.995090Z",
     "iopub.status.idle": "2023-05-26T06:09:54.656282Z",
     "shell.execute_reply": "2023-05-26T06:09:54.655542Z"
    }
   },
   "outputs": [
    {
     "name": "stdout",
     "output_type": "stream",
     "text": [
      "10.7 µs ± 54.9 ns per loop (mean ± std. dev. of 7 runs, 100,000 loops each)\n"
     ]
    }
   ],
   "source": [
    "%timeit Batch(**_TREE_DATA_1)"
   ]
  },
  {
   "cell_type": "markdown",
   "id": "1ab82e2d",
   "metadata": {},
   "source": [
    "## Deep Copy Operation"
   ]
  },
  {
   "cell_type": "code",
   "execution_count": 16,
   "id": "210a9442",
   "metadata": {
    "execution": {
     "iopub.execute_input": "2023-05-26T06:09:54.660626Z",
     "iopub.status.busy": "2023-05-26T06:09:54.659918Z",
     "iopub.status.idle": "2023-05-26T06:09:54.663549Z",
     "shell.execute_reply": "2023-05-26T06:09:54.662825Z"
    }
   },
   "outputs": [],
   "source": [
    "import copy"
   ]
  },
  {
   "cell_type": "markdown",
   "id": "5a736274",
   "metadata": {},
   "source": [
    "### Deep Copy of TreeValue"
   ]
  },
  {
   "cell_type": "code",
   "execution_count": 17,
   "id": "f9bcadd6",
   "metadata": {
    "execution": {
     "iopub.execute_input": "2023-05-26T06:09:54.666557Z",
     "iopub.status.busy": "2023-05-26T06:09:54.666187Z",
     "iopub.status.idle": "2023-05-26T06:10:06.354622Z",
     "shell.execute_reply": "2023-05-26T06:10:06.353981Z"
    }
   },
   "outputs": [
    {
     "name": "stdout",
     "output_type": "stream",
     "text": [
      "144 µs ± 286 ns per loop (mean ± std. dev. of 7 runs, 10,000 loops each)\n"
     ]
    }
   ],
   "source": [
    "t3 = FastTreeValue(_TREE_DATA_3)\n",
    "%timeit copy.deepcopy(t3)"
   ]
  },
  {
   "cell_type": "markdown",
   "id": "bf8be7ea",
   "metadata": {},
   "source": [
    "### Deep Copy of Tianshou Batch"
   ]
  },
  {
   "cell_type": "code",
   "execution_count": 18,
   "id": "91998e6f",
   "metadata": {
    "execution": {
     "iopub.execute_input": "2023-05-26T06:10:06.358223Z",
     "iopub.status.busy": "2023-05-26T06:10:06.357817Z",
     "iopub.status.idle": "2023-05-26T06:10:17.930785Z",
     "shell.execute_reply": "2023-05-26T06:10:17.929978Z"
    }
   },
   "outputs": [
    {
     "name": "stdout",
     "output_type": "stream",
     "text": [
      "143 µs ± 546 ns per loop (mean ± std. dev. of 7 runs, 10,000 loops each)\n"
     ]
    }
   ],
   "source": [
    "b3 = Batch(**_TREE_DATA_3)\n",
    "%timeit copy.deepcopy(b3)"
   ]
  },
  {
   "cell_type": "markdown",
   "id": "223162fb",
   "metadata": {},
   "source": [
    "## Stack, Concat and Split Operation"
   ]
  },
  {
   "cell_type": "markdown",
   "id": "85fa4a73",
   "metadata": {},
   "source": [
    "### Performance of TreeValue"
   ]
  },
  {
   "cell_type": "code",
   "execution_count": 19,
   "id": "a0c2b697",
   "metadata": {
    "execution": {
     "iopub.execute_input": "2023-05-26T06:10:17.934207Z",
     "iopub.status.busy": "2023-05-26T06:10:17.933954Z",
     "iopub.status.idle": "2023-05-26T06:10:17.938623Z",
     "shell.execute_reply": "2023-05-26T06:10:17.937982Z"
    }
   },
   "outputs": [],
   "source": [
    "trees = [FastTreeValue(_TREE_DATA_2) for _ in range(8)]"
   ]
  },
  {
   "cell_type": "code",
   "execution_count": 20,
   "id": "017ea5a5",
   "metadata": {
    "execution": {
     "iopub.execute_input": "2023-05-26T06:10:17.941622Z",
     "iopub.status.busy": "2023-05-26T06:10:17.941161Z",
     "iopub.status.idle": "2023-05-26T06:10:17.949039Z",
     "shell.execute_reply": "2023-05-26T06:10:17.948324Z"
    }
   },
   "outputs": [
    {
     "data": {
      "text/plain": [
       "<FastTreeValue 0x7f5783dfdf40>\n",
       "├── 'a' --> tensor([[[ 0.2580, -1.7902, -0.4562],\n",
       "│                    [ 0.5850,  0.1944, -0.2701]],\n",
       "│           \n",
       "│                   [[ 0.2580, -1.7902, -0.4562],\n",
       "│                    [ 0.5850,  0.1944, -0.2701]],\n",
       "│           \n",
       "│                   [[ 0.2580, -1.7902, -0.4562],\n",
       "│                    [ 0.5850,  0.1944, -0.2701]],\n",
       "│           \n",
       "│                   [[ 0.2580, -1.7902, -0.4562],\n",
       "│                    [ 0.5850,  0.1944, -0.2701]],\n",
       "│           \n",
       "│                   [[ 0.2580, -1.7902, -0.4562],\n",
       "│                    [ 0.5850,  0.1944, -0.2701]],\n",
       "│           \n",
       "│                   [[ 0.2580, -1.7902, -0.4562],\n",
       "│                    [ 0.5850,  0.1944, -0.2701]],\n",
       "│           \n",
       "│                   [[ 0.2580, -1.7902, -0.4562],\n",
       "│                    [ 0.5850,  0.1944, -0.2701]],\n",
       "│           \n",
       "│                   [[ 0.2580, -1.7902, -0.4562],\n",
       "│                    [ 0.5850,  0.1944, -0.2701]]])\n",
       "└── 'x' --> <FastTreeValue 0x7f5796437fa0>\n",
       "    └── 'c' --> tensor([[[ 1.3129, -0.0893, -0.8521,  0.6730],\n",
       "                         [-0.5468,  1.7223, -0.5379, -0.8544],\n",
       "                         [ 0.4697, -0.4560, -0.7825,  0.4537]],\n",
       "                \n",
       "                        [[ 1.3129, -0.0893, -0.8521,  0.6730],\n",
       "                         [-0.5468,  1.7223, -0.5379, -0.8544],\n",
       "                         [ 0.4697, -0.4560, -0.7825,  0.4537]],\n",
       "                \n",
       "                        [[ 1.3129, -0.0893, -0.8521,  0.6730],\n",
       "                         [-0.5468,  1.7223, -0.5379, -0.8544],\n",
       "                         [ 0.4697, -0.4560, -0.7825,  0.4537]],\n",
       "                \n",
       "                        [[ 1.3129, -0.0893, -0.8521,  0.6730],\n",
       "                         [-0.5468,  1.7223, -0.5379, -0.8544],\n",
       "                         [ 0.4697, -0.4560, -0.7825,  0.4537]],\n",
       "                \n",
       "                        [[ 1.3129, -0.0893, -0.8521,  0.6730],\n",
       "                         [-0.5468,  1.7223, -0.5379, -0.8544],\n",
       "                         [ 0.4697, -0.4560, -0.7825,  0.4537]],\n",
       "                \n",
       "                        [[ 1.3129, -0.0893, -0.8521,  0.6730],\n",
       "                         [-0.5468,  1.7223, -0.5379, -0.8544],\n",
       "                         [ 0.4697, -0.4560, -0.7825,  0.4537]],\n",
       "                \n",
       "                        [[ 1.3129, -0.0893, -0.8521,  0.6730],\n",
       "                         [-0.5468,  1.7223, -0.5379, -0.8544],\n",
       "                         [ 0.4697, -0.4560, -0.7825,  0.4537]],\n",
       "                \n",
       "                        [[ 1.3129, -0.0893, -0.8521,  0.6730],\n",
       "                         [-0.5468,  1.7223, -0.5379, -0.8544],\n",
       "                         [ 0.4697, -0.4560, -0.7825,  0.4537]]])"
      ]
     },
     "execution_count": 20,
     "metadata": {},
     "output_type": "execute_result"
    }
   ],
   "source": [
    "t_stack = FastTreeValue.func(subside=True)(torch.stack)\n",
    "\n",
    "t_stack(trees)"
   ]
  },
  {
   "cell_type": "code",
   "execution_count": 21,
   "id": "f8b3f415",
   "metadata": {
    "execution": {
     "iopub.execute_input": "2023-05-26T06:10:17.952041Z",
     "iopub.status.busy": "2023-05-26T06:10:17.951672Z",
     "iopub.status.idle": "2023-05-26T06:10:20.640566Z",
     "shell.execute_reply": "2023-05-26T06:10:20.639841Z"
    }
   },
   "outputs": [
    {
     "name": "stdout",
     "output_type": "stream",
     "text": [
      "33.1 µs ± 67.6 ns per loop (mean ± std. dev. of 7 runs, 10,000 loops each)\n"
     ]
    }
   ],
   "source": [
    "%timeit t_stack(trees)"
   ]
  },
  {
   "cell_type": "code",
   "execution_count": 22,
   "id": "94b56771",
   "metadata": {
    "execution": {
     "iopub.execute_input": "2023-05-26T06:10:20.644181Z",
     "iopub.status.busy": "2023-05-26T06:10:20.643453Z",
     "iopub.status.idle": "2023-05-26T06:10:20.651291Z",
     "shell.execute_reply": "2023-05-26T06:10:20.650591Z"
    }
   },
   "outputs": [
    {
     "data": {
      "text/plain": [
       "<FastTreeValue 0x7f585c073640>\n",
       "├── 'a' --> tensor([[ 0.2580, -1.7902, -0.4562],\n",
       "│                   [ 0.5850,  0.1944, -0.2701],\n",
       "│                   [ 0.2580, -1.7902, -0.4562],\n",
       "│                   [ 0.5850,  0.1944, -0.2701],\n",
       "│                   [ 0.2580, -1.7902, -0.4562],\n",
       "│                   [ 0.5850,  0.1944, -0.2701],\n",
       "│                   [ 0.2580, -1.7902, -0.4562],\n",
       "│                   [ 0.5850,  0.1944, -0.2701],\n",
       "│                   [ 0.2580, -1.7902, -0.4562],\n",
       "│                   [ 0.5850,  0.1944, -0.2701],\n",
       "│                   [ 0.2580, -1.7902, -0.4562],\n",
       "│                   [ 0.5850,  0.1944, -0.2701],\n",
       "│                   [ 0.2580, -1.7902, -0.4562],\n",
       "│                   [ 0.5850,  0.1944, -0.2701],\n",
       "│                   [ 0.2580, -1.7902, -0.4562],\n",
       "│                   [ 0.5850,  0.1944, -0.2701]])\n",
       "└── 'x' --> <FastTreeValue 0x7f57964d37f0>\n",
       "    └── 'c' --> tensor([[ 1.3129, -0.0893, -0.8521,  0.6730],\n",
       "                        [-0.5468,  1.7223, -0.5379, -0.8544],\n",
       "                        [ 0.4697, -0.4560, -0.7825,  0.4537],\n",
       "                        [ 1.3129, -0.0893, -0.8521,  0.6730],\n",
       "                        [-0.5468,  1.7223, -0.5379, -0.8544],\n",
       "                        [ 0.4697, -0.4560, -0.7825,  0.4537],\n",
       "                        [ 1.3129, -0.0893, -0.8521,  0.6730],\n",
       "                        [-0.5468,  1.7223, -0.5379, -0.8544],\n",
       "                        [ 0.4697, -0.4560, -0.7825,  0.4537],\n",
       "                        [ 1.3129, -0.0893, -0.8521,  0.6730],\n",
       "                        [-0.5468,  1.7223, -0.5379, -0.8544],\n",
       "                        [ 0.4697, -0.4560, -0.7825,  0.4537],\n",
       "                        [ 1.3129, -0.0893, -0.8521,  0.6730],\n",
       "                        [-0.5468,  1.7223, -0.5379, -0.8544],\n",
       "                        [ 0.4697, -0.4560, -0.7825,  0.4537],\n",
       "                        [ 1.3129, -0.0893, -0.8521,  0.6730],\n",
       "                        [-0.5468,  1.7223, -0.5379, -0.8544],\n",
       "                        [ 0.4697, -0.4560, -0.7825,  0.4537],\n",
       "                        [ 1.3129, -0.0893, -0.8521,  0.6730],\n",
       "                        [-0.5468,  1.7223, -0.5379, -0.8544],\n",
       "                        [ 0.4697, -0.4560, -0.7825,  0.4537],\n",
       "                        [ 1.3129, -0.0893, -0.8521,  0.6730],\n",
       "                        [-0.5468,  1.7223, -0.5379, -0.8544],\n",
       "                        [ 0.4697, -0.4560, -0.7825,  0.4537]])"
      ]
     },
     "execution_count": 22,
     "metadata": {},
     "output_type": "execute_result"
    }
   ],
   "source": [
    "t_cat = FastTreeValue.func(subside=True)(torch.cat)\n",
    "\n",
    "t_cat(trees)"
   ]
  },
  {
   "cell_type": "code",
   "execution_count": 23,
   "id": "5e9c06a6",
   "metadata": {
    "execution": {
     "iopub.execute_input": "2023-05-26T06:10:20.654329Z",
     "iopub.status.busy": "2023-05-26T06:10:20.653888Z",
     "iopub.status.idle": "2023-05-26T06:10:23.158556Z",
     "shell.execute_reply": "2023-05-26T06:10:23.157825Z"
    }
   },
   "outputs": [
    {
     "name": "stdout",
     "output_type": "stream",
     "text": [
      "30.8 µs ± 39.3 ns per loop (mean ± std. dev. of 7 runs, 10,000 loops each)\n"
     ]
    }
   ],
   "source": [
    "%timeit t_cat(trees)"
   ]
  },
  {
   "cell_type": "code",
   "execution_count": 24,
   "id": "a3ab5c8f",
   "metadata": {
    "execution": {
     "iopub.execute_input": "2023-05-26T06:10:23.162340Z",
     "iopub.status.busy": "2023-05-26T06:10:23.161778Z",
     "iopub.status.idle": "2023-05-26T06:10:28.583462Z",
     "shell.execute_reply": "2023-05-26T06:10:28.582742Z"
    }
   },
   "outputs": [
    {
     "name": "stdout",
     "output_type": "stream",
     "text": [
      "66.7 µs ± 102 ns per loop (mean ± std. dev. of 7 runs, 10,000 loops each)\n"
     ]
    }
   ],
   "source": [
    "t_split = FastTreeValue.func(rise=True)(torch.split)\n",
    "tree = FastTreeValue({\n",
    "    'obs': torch.randn(8, 4, 84, 84),\n",
    "    'action': torch.randint(0, 6, size=(8, 1,)),\n",
    "    'reward': torch.rand(8, 1),\n",
    "})\n",
    "\n",
    "%timeit t_split(tree, 1)"
   ]
  },
  {
   "cell_type": "markdown",
   "id": "31c3ec0b",
   "metadata": {},
   "source": [
    "### Performance of Tianshou Batch"
   ]
  },
  {
   "cell_type": "code",
   "execution_count": 25,
   "id": "9ead828a",
   "metadata": {
    "execution": {
     "iopub.execute_input": "2023-05-26T06:10:28.587370Z",
     "iopub.status.busy": "2023-05-26T06:10:28.586731Z",
     "iopub.status.idle": "2023-05-26T06:10:28.595441Z",
     "shell.execute_reply": "2023-05-26T06:10:28.594831Z"
    }
   },
   "outputs": [
    {
     "data": {
      "text/plain": [
       "Batch(\n",
       "    a: tensor([[[ 0.2580, -1.7902, -0.4562],\n",
       "                [ 0.5850,  0.1944, -0.2701]],\n",
       "       \n",
       "               [[ 0.2580, -1.7902, -0.4562],\n",
       "                [ 0.5850,  0.1944, -0.2701]],\n",
       "       \n",
       "               [[ 0.2580, -1.7902, -0.4562],\n",
       "                [ 0.5850,  0.1944, -0.2701]],\n",
       "       \n",
       "               [[ 0.2580, -1.7902, -0.4562],\n",
       "                [ 0.5850,  0.1944, -0.2701]],\n",
       "       \n",
       "               [[ 0.2580, -1.7902, -0.4562],\n",
       "                [ 0.5850,  0.1944, -0.2701]],\n",
       "       \n",
       "               [[ 0.2580, -1.7902, -0.4562],\n",
       "                [ 0.5850,  0.1944, -0.2701]],\n",
       "       \n",
       "               [[ 0.2580, -1.7902, -0.4562],\n",
       "                [ 0.5850,  0.1944, -0.2701]],\n",
       "       \n",
       "               [[ 0.2580, -1.7902, -0.4562],\n",
       "                [ 0.5850,  0.1944, -0.2701]]]),\n",
       "    x: Batch(\n",
       "           c: tensor([[[ 1.3129, -0.0893, -0.8521,  0.6730],\n",
       "                       [-0.5468,  1.7223, -0.5379, -0.8544],\n",
       "                       [ 0.4697, -0.4560, -0.7825,  0.4537]],\n",
       "              \n",
       "                      [[ 1.3129, -0.0893, -0.8521,  0.6730],\n",
       "                       [-0.5468,  1.7223, -0.5379, -0.8544],\n",
       "                       [ 0.4697, -0.4560, -0.7825,  0.4537]],\n",
       "              \n",
       "                      [[ 1.3129, -0.0893, -0.8521,  0.6730],\n",
       "                       [-0.5468,  1.7223, -0.5379, -0.8544],\n",
       "                       [ 0.4697, -0.4560, -0.7825,  0.4537]],\n",
       "              \n",
       "                      [[ 1.3129, -0.0893, -0.8521,  0.6730],\n",
       "                       [-0.5468,  1.7223, -0.5379, -0.8544],\n",
       "                       [ 0.4697, -0.4560, -0.7825,  0.4537]],\n",
       "              \n",
       "                      [[ 1.3129, -0.0893, -0.8521,  0.6730],\n",
       "                       [-0.5468,  1.7223, -0.5379, -0.8544],\n",
       "                       [ 0.4697, -0.4560, -0.7825,  0.4537]],\n",
       "              \n",
       "                      [[ 1.3129, -0.0893, -0.8521,  0.6730],\n",
       "                       [-0.5468,  1.7223, -0.5379, -0.8544],\n",
       "                       [ 0.4697, -0.4560, -0.7825,  0.4537]],\n",
       "              \n",
       "                      [[ 1.3129, -0.0893, -0.8521,  0.6730],\n",
       "                       [-0.5468,  1.7223, -0.5379, -0.8544],\n",
       "                       [ 0.4697, -0.4560, -0.7825,  0.4537]],\n",
       "              \n",
       "                      [[ 1.3129, -0.0893, -0.8521,  0.6730],\n",
       "                       [-0.5468,  1.7223, -0.5379, -0.8544],\n",
       "                       [ 0.4697, -0.4560, -0.7825,  0.4537]]]),\n",
       "       ),\n",
       ")"
      ]
     },
     "execution_count": 25,
     "metadata": {},
     "output_type": "execute_result"
    }
   ],
   "source": [
    "batches = [Batch(**_TREE_DATA_2) for _ in range(8)]\n",
    "\n",
    "Batch.stack(batches)"
   ]
  },
  {
   "cell_type": "code",
   "execution_count": 26,
   "id": "ec9037a3",
   "metadata": {
    "execution": {
     "iopub.execute_input": "2023-05-26T06:10:28.598386Z",
     "iopub.status.busy": "2023-05-26T06:10:28.598022Z",
     "iopub.status.idle": "2023-05-26T06:10:34.982221Z",
     "shell.execute_reply": "2023-05-26T06:10:34.981393Z"
    }
   },
   "outputs": [
    {
     "name": "stdout",
     "output_type": "stream",
     "text": [
      "78.5 µs ± 156 ns per loop (mean ± std. dev. of 7 runs, 10,000 loops each)\n"
     ]
    }
   ],
   "source": [
    "%timeit Batch.stack(batches)"
   ]
  },
  {
   "cell_type": "code",
   "execution_count": 27,
   "id": "cb8ab77e",
   "metadata": {
    "execution": {
     "iopub.execute_input": "2023-05-26T06:10:34.986199Z",
     "iopub.status.busy": "2023-05-26T06:10:34.985540Z",
     "iopub.status.idle": "2023-05-26T06:10:34.993915Z",
     "shell.execute_reply": "2023-05-26T06:10:34.993279Z"
    }
   },
   "outputs": [
    {
     "data": {
      "text/plain": [
       "Batch(\n",
       "    a: tensor([[ 0.2580, -1.7902, -0.4562],\n",
       "               [ 0.5850,  0.1944, -0.2701],\n",
       "               [ 0.2580, -1.7902, -0.4562],\n",
       "               [ 0.5850,  0.1944, -0.2701],\n",
       "               [ 0.2580, -1.7902, -0.4562],\n",
       "               [ 0.5850,  0.1944, -0.2701],\n",
       "               [ 0.2580, -1.7902, -0.4562],\n",
       "               [ 0.5850,  0.1944, -0.2701],\n",
       "               [ 0.2580, -1.7902, -0.4562],\n",
       "               [ 0.5850,  0.1944, -0.2701],\n",
       "               [ 0.2580, -1.7902, -0.4562],\n",
       "               [ 0.5850,  0.1944, -0.2701],\n",
       "               [ 0.2580, -1.7902, -0.4562],\n",
       "               [ 0.5850,  0.1944, -0.2701],\n",
       "               [ 0.2580, -1.7902, -0.4562],\n",
       "               [ 0.5850,  0.1944, -0.2701]]),\n",
       "    x: Batch(\n",
       "           c: tensor([[ 1.3129, -0.0893, -0.8521,  0.6730],\n",
       "                      [-0.5468,  1.7223, -0.5379, -0.8544],\n",
       "                      [ 0.4697, -0.4560, -0.7825,  0.4537],\n",
       "                      [ 1.3129, -0.0893, -0.8521,  0.6730],\n",
       "                      [-0.5468,  1.7223, -0.5379, -0.8544],\n",
       "                      [ 0.4697, -0.4560, -0.7825,  0.4537],\n",
       "                      [ 1.3129, -0.0893, -0.8521,  0.6730],\n",
       "                      [-0.5468,  1.7223, -0.5379, -0.8544],\n",
       "                      [ 0.4697, -0.4560, -0.7825,  0.4537],\n",
       "                      [ 1.3129, -0.0893, -0.8521,  0.6730],\n",
       "                      [-0.5468,  1.7223, -0.5379, -0.8544],\n",
       "                      [ 0.4697, -0.4560, -0.7825,  0.4537],\n",
       "                      [ 1.3129, -0.0893, -0.8521,  0.6730],\n",
       "                      [-0.5468,  1.7223, -0.5379, -0.8544],\n",
       "                      [ 0.4697, -0.4560, -0.7825,  0.4537],\n",
       "                      [ 1.3129, -0.0893, -0.8521,  0.6730],\n",
       "                      [-0.5468,  1.7223, -0.5379, -0.8544],\n",
       "                      [ 0.4697, -0.4560, -0.7825,  0.4537],\n",
       "                      [ 1.3129, -0.0893, -0.8521,  0.6730],\n",
       "                      [-0.5468,  1.7223, -0.5379, -0.8544],\n",
       "                      [ 0.4697, -0.4560, -0.7825,  0.4537],\n",
       "                      [ 1.3129, -0.0893, -0.8521,  0.6730],\n",
       "                      [-0.5468,  1.7223, -0.5379, -0.8544],\n",
       "                      [ 0.4697, -0.4560, -0.7825,  0.4537]]),\n",
       "       ),\n",
       ")"
      ]
     },
     "execution_count": 27,
     "metadata": {},
     "output_type": "execute_result"
    }
   ],
   "source": [
    "Batch.cat(batches)"
   ]
  },
  {
   "cell_type": "code",
   "execution_count": 28,
   "id": "18dfb045",
   "metadata": {
    "execution": {
     "iopub.execute_input": "2023-05-26T06:10:34.996678Z",
     "iopub.status.busy": "2023-05-26T06:10:34.996455Z",
     "iopub.status.idle": "2023-05-26T06:10:46.901153Z",
     "shell.execute_reply": "2023-05-26T06:10:46.900407Z"
    }
   },
   "outputs": [
    {
     "name": "stdout",
     "output_type": "stream",
     "text": [
      "146 µs ± 232 ns per loop (mean ± std. dev. of 7 runs, 10,000 loops each)\n"
     ]
    }
   ],
   "source": [
    "%timeit Batch.cat(batches)"
   ]
  },
  {
   "cell_type": "code",
   "execution_count": 29,
   "id": "c6688e51",
   "metadata": {
    "execution": {
     "iopub.execute_input": "2023-05-26T06:10:46.904954Z",
     "iopub.status.busy": "2023-05-26T06:10:46.904707Z",
     "iopub.status.idle": "2023-05-26T06:10:49.733653Z",
     "shell.execute_reply": "2023-05-26T06:10:49.732995Z"
    }
   },
   "outputs": [
    {
     "name": "stdout",
     "output_type": "stream",
     "text": [
      "348 µs ± 4 µs per loop (mean ± std. dev. of 7 runs, 1,000 loops each)\n"
     ]
    }
   ],
   "source": [
    "batch = Batch({\n",
    "    'obs': torch.randn(8, 4, 84, 84),\n",
    "    'action': torch.randint(0, 6, size=(8, 1,)),\n",
    "    'reward': torch.rand(8, 1)}\n",
    ")\n",
    "\n",
    "%timeit list(Batch.split(batch, 1, shuffle=False, merge_last=True))"
   ]
  },
  {
   "cell_type": "code",
   "execution_count": null,
   "id": "2539fbd9",
   "metadata": {},
   "outputs": [],
   "source": []
  }
 ],
 "metadata": {
  "kernelspec": {
   "display_name": "Python 3 (ipykernel)",
   "language": "python",
   "name": "python3"
  },
  "language_info": {
   "codemirror_mode": {
    "name": "ipython",
    "version": 3
   },
   "file_extension": ".py",
   "mimetype": "text/x-python",
   "name": "python",
   "nbconvert_exporter": "python",
   "pygments_lexer": "ipython3",
   "version": "3.8.16"
  }
 },
 "nbformat": 4,
 "nbformat_minor": 5
}
