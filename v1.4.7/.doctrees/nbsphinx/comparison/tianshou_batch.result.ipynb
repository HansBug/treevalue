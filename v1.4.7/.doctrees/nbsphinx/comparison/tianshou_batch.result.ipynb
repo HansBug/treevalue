{
 "cells": [
  {
   "cell_type": "markdown",
   "id": "9d39d946",
   "metadata": {},
   "source": [
    "# Comparison Between TreeValue and Tianshou Batch"
   ]
  },
  {
   "cell_type": "markdown",
   "id": "3c6db2d4",
   "metadata": {},
   "source": [
    "In this section, we will take a look at the feature and performance of the [Tianshou Batch](https://github.com/thu-ml/tianshou) library, which is developed by Tsinghua Machine Learning Group."
   ]
  },
  {
   "cell_type": "markdown",
   "id": "069361b0",
   "metadata": {},
   "source": [
    "Before starting the comparison, let us define some thing."
   ]
  },
  {
   "cell_type": "code",
   "execution_count": 1,
   "id": "06fc8d26",
   "metadata": {
    "execution": {
     "iopub.execute_input": "2023-04-16T15:05:10.145462Z",
     "iopub.status.busy": "2023-04-16T15:05:10.145031Z",
     "iopub.status.idle": "2023-04-16T15:05:11.529501Z",
     "shell.execute_reply": "2023-04-16T15:05:11.528748Z"
    }
   },
   "outputs": [],
   "source": [
    "import torch \n",
    "\n",
    "_TREE_DATA_1 = {'a': 1, 'b': 2, 'x': {'c': 3, 'd': 4}}\n",
    "_TREE_DATA_2 = {\n",
    "    'a': torch.randn(2, 3), \n",
    "    'x': {\n",
    "        'c': torch.randn(3, 4)\n",
    "    },\n",
    "}\n",
    "_TREE_DATA_3 = {\n",
    "    'obs': torch.randn(4, 84, 84),\n",
    "    'action': torch.randint(0, 6, size=(1,)),\n",
    "    'reward': torch.rand(1),\n",
    "}"
   ]
  },
  {
   "cell_type": "markdown",
   "id": "83461b25",
   "metadata": {},
   "source": [
    "## Read and Write Operation"
   ]
  },
  {
   "cell_type": "markdown",
   "id": "067b3f73",
   "metadata": {},
   "source": [
    "Reading and writing are the two most common operations in the tree data structure based on the data model (TreeValue and Tianshou Batch both belong to this type), so this section will compare the reading and writing performance of these two libraries."
   ]
  },
  {
   "cell_type": "markdown",
   "id": "5d09a5b7",
   "metadata": {},
   "source": [
    "### TreeValue's Get and Set"
   ]
  },
  {
   "cell_type": "code",
   "execution_count": 2,
   "id": "9519c4bb",
   "metadata": {
    "execution": {
     "iopub.execute_input": "2023-04-16T15:05:11.533287Z",
     "iopub.status.busy": "2023-04-16T15:05:11.532810Z",
     "iopub.status.idle": "2023-04-16T15:05:11.819050Z",
     "shell.execute_reply": "2023-04-16T15:05:11.818328Z"
    }
   },
   "outputs": [],
   "source": [
    "from treevalue import FastTreeValue\n",
    "\n",
    "t = FastTreeValue(_TREE_DATA_2)"
   ]
  },
  {
   "cell_type": "code",
   "execution_count": 3,
   "id": "11c37677",
   "metadata": {
    "execution": {
     "iopub.execute_input": "2023-04-16T15:05:11.822780Z",
     "iopub.status.busy": "2023-04-16T15:05:11.822317Z",
     "iopub.status.idle": "2023-04-16T15:05:11.831630Z",
     "shell.execute_reply": "2023-04-16T15:05:11.830955Z"
    }
   },
   "outputs": [
    {
     "data": {
      "text/plain": [
       "<FastTreeValue 0x7f6590c64dc0>\n",
       "├── 'a' --> tensor([[ 1.3764, -0.6532,  1.7536],\n",
       "│                   [-0.2487,  0.0902, -1.0240]])\n",
       "└── 'x' --> <FastTreeValue 0x7f6590c64700>\n",
       "    └── 'c' --> tensor([[ 0.4691, -2.1373, -0.6511,  1.9524],\n",
       "                        [ 0.3680,  0.7250,  0.2813,  0.7259],\n",
       "                        [-1.8187,  0.8027, -2.5309,  0.7617]])"
      ]
     },
     "execution_count": 3,
     "metadata": {},
     "output_type": "execute_result"
    }
   ],
   "source": [
    "t"
   ]
  },
  {
   "cell_type": "code",
   "execution_count": 4,
   "id": "fd70b0b9",
   "metadata": {
    "execution": {
     "iopub.execute_input": "2023-04-16T15:05:11.835891Z",
     "iopub.status.busy": "2023-04-16T15:05:11.835284Z",
     "iopub.status.idle": "2023-04-16T15:05:11.840508Z",
     "shell.execute_reply": "2023-04-16T15:05:11.839840Z"
    }
   },
   "outputs": [
    {
     "data": {
      "text/plain": [
       "tensor([[ 1.3764, -0.6532,  1.7536],\n",
       "        [-0.2487,  0.0902, -1.0240]])"
      ]
     },
     "execution_count": 4,
     "metadata": {},
     "output_type": "execute_result"
    }
   ],
   "source": [
    "t.a"
   ]
  },
  {
   "cell_type": "code",
   "execution_count": 5,
   "id": "c18197bd",
   "metadata": {
    "execution": {
     "iopub.execute_input": "2023-04-16T15:05:11.843716Z",
     "iopub.status.busy": "2023-04-16T15:05:11.843314Z",
     "iopub.status.idle": "2023-04-16T15:05:16.818914Z",
     "shell.execute_reply": "2023-04-16T15:05:16.817654Z"
    }
   },
   "outputs": [
    {
     "name": "stdout",
     "output_type": "stream",
     "text": [
      "60.9 ns ± 0.0551 ns per loop (mean ± std. dev. of 7 runs, 10,000,000 loops each)\n"
     ]
    }
   ],
   "source": [
    "%timeit t.a"
   ]
  },
  {
   "cell_type": "code",
   "execution_count": 6,
   "id": "bd52f867",
   "metadata": {
    "execution": {
     "iopub.execute_input": "2023-04-16T15:05:16.822147Z",
     "iopub.status.busy": "2023-04-16T15:05:16.821739Z",
     "iopub.status.idle": "2023-04-16T15:05:16.828078Z",
     "shell.execute_reply": "2023-04-16T15:05:16.827349Z"
    }
   },
   "outputs": [
    {
     "data": {
      "text/plain": [
       "<FastTreeValue 0x7f6590c64dc0>\n",
       "├── 'a' --> tensor([[-1.4551, -1.8430,  0.0342],\n",
       "│                   [ 0.7127,  1.0481, -0.9404]])\n",
       "└── 'x' --> <FastTreeValue 0x7f6590c64700>\n",
       "    └── 'c' --> tensor([[ 0.4691, -2.1373, -0.6511,  1.9524],\n",
       "                        [ 0.3680,  0.7250,  0.2813,  0.7259],\n",
       "                        [-1.8187,  0.8027, -2.5309,  0.7617]])"
      ]
     },
     "execution_count": 6,
     "metadata": {},
     "output_type": "execute_result"
    }
   ],
   "source": [
    "new_value = torch.randn(2, 3)\n",
    "t.a = new_value\n",
    "\n",
    "t"
   ]
  },
  {
   "cell_type": "code",
   "execution_count": 7,
   "id": "bbe04d1c",
   "metadata": {
    "execution": {
     "iopub.execute_input": "2023-04-16T15:05:16.831180Z",
     "iopub.status.busy": "2023-04-16T15:05:16.830567Z",
     "iopub.status.idle": "2023-04-16T15:05:22.258104Z",
     "shell.execute_reply": "2023-04-16T15:05:22.256996Z"
    }
   },
   "outputs": [
    {
     "name": "stdout",
     "output_type": "stream",
     "text": [
      "67.8 ns ± 0.0665 ns per loop (mean ± std. dev. of 7 runs, 10,000,000 loops each)\n"
     ]
    }
   ],
   "source": [
    "%timeit t.a = new_value"
   ]
  },
  {
   "cell_type": "markdown",
   "id": "48c49731",
   "metadata": {},
   "source": [
    "### Tianshou Batch's Get and Set"
   ]
  },
  {
   "cell_type": "code",
   "execution_count": 8,
   "id": "f1bb14c1",
   "metadata": {
    "execution": {
     "iopub.execute_input": "2023-04-16T15:05:22.261407Z",
     "iopub.status.busy": "2023-04-16T15:05:22.261006Z",
     "iopub.status.idle": "2023-04-16T15:05:22.636802Z",
     "shell.execute_reply": "2023-04-16T15:05:22.636036Z"
    }
   },
   "outputs": [],
   "source": [
    "from tianshou.data import Batch\n",
    "\n",
    "b = Batch(**_TREE_DATA_2)"
   ]
  },
  {
   "cell_type": "code",
   "execution_count": 9,
   "id": "cb0777c3",
   "metadata": {
    "execution": {
     "iopub.execute_input": "2023-04-16T15:05:22.641951Z",
     "iopub.status.busy": "2023-04-16T15:05:22.640395Z",
     "iopub.status.idle": "2023-04-16T15:05:22.648826Z",
     "shell.execute_reply": "2023-04-16T15:05:22.648190Z"
    }
   },
   "outputs": [
    {
     "data": {
      "text/plain": [
       "Batch(\n",
       "    a: tensor([[ 1.3764, -0.6532,  1.7536],\n",
       "               [-0.2487,  0.0902, -1.0240]]),\n",
       "    x: Batch(\n",
       "           c: tensor([[ 0.4691, -2.1373, -0.6511,  1.9524],\n",
       "                      [ 0.3680,  0.7250,  0.2813,  0.7259],\n",
       "                      [-1.8187,  0.8027, -2.5309,  0.7617]]),\n",
       "       ),\n",
       ")"
      ]
     },
     "execution_count": 9,
     "metadata": {},
     "output_type": "execute_result"
    }
   ],
   "source": [
    "b"
   ]
  },
  {
   "cell_type": "code",
   "execution_count": 10,
   "id": "43ef8ea3",
   "metadata": {
    "execution": {
     "iopub.execute_input": "2023-04-16T15:05:22.653185Z",
     "iopub.status.busy": "2023-04-16T15:05:22.651849Z",
     "iopub.status.idle": "2023-04-16T15:05:22.659499Z",
     "shell.execute_reply": "2023-04-16T15:05:22.658844Z"
    }
   },
   "outputs": [
    {
     "data": {
      "text/plain": [
       "tensor([[ 1.3764, -0.6532,  1.7536],\n",
       "        [-0.2487,  0.0902, -1.0240]])"
      ]
     },
     "execution_count": 10,
     "metadata": {},
     "output_type": "execute_result"
    }
   ],
   "source": [
    "b.a"
   ]
  },
  {
   "cell_type": "code",
   "execution_count": 11,
   "id": "b785ab72",
   "metadata": {
    "execution": {
     "iopub.execute_input": "2023-04-16T15:05:22.663159Z",
     "iopub.status.busy": "2023-04-16T15:05:22.662630Z",
     "iopub.status.idle": "2023-04-16T15:05:27.168294Z",
     "shell.execute_reply": "2023-04-16T15:05:27.167577Z"
    }
   },
   "outputs": [
    {
     "name": "stdout",
     "output_type": "stream",
     "text": [
      "55.5 ns ± 0.0105 ns per loop (mean ± std. dev. of 7 runs, 10,000,000 loops each)\n"
     ]
    }
   ],
   "source": [
    "%timeit b.a"
   ]
  },
  {
   "cell_type": "code",
   "execution_count": 12,
   "id": "ad54dc69",
   "metadata": {
    "execution": {
     "iopub.execute_input": "2023-04-16T15:05:27.171608Z",
     "iopub.status.busy": "2023-04-16T15:05:27.171039Z",
     "iopub.status.idle": "2023-04-16T15:05:27.176999Z",
     "shell.execute_reply": "2023-04-16T15:05:27.176321Z"
    }
   },
   "outputs": [
    {
     "data": {
      "text/plain": [
       "Batch(\n",
       "    a: tensor([[ 0.3253, -0.1429, -0.8882],\n",
       "               [ 1.1005, -0.5538,  0.7792]]),\n",
       "    x: Batch(\n",
       "           c: tensor([[ 0.4691, -2.1373, -0.6511,  1.9524],\n",
       "                      [ 0.3680,  0.7250,  0.2813,  0.7259],\n",
       "                      [-1.8187,  0.8027, -2.5309,  0.7617]]),\n",
       "       ),\n",
       ")"
      ]
     },
     "execution_count": 12,
     "metadata": {},
     "output_type": "execute_result"
    }
   ],
   "source": [
    "new_value = torch.randn(2, 3)\n",
    "b.a = new_value\n",
    "\n",
    "b"
   ]
  },
  {
   "cell_type": "code",
   "execution_count": 13,
   "id": "29b1d0bf",
   "metadata": {
    "execution": {
     "iopub.execute_input": "2023-04-16T15:05:27.179882Z",
     "iopub.status.busy": "2023-04-16T15:05:27.179425Z",
     "iopub.status.idle": "2023-04-16T15:05:31.101957Z",
     "shell.execute_reply": "2023-04-16T15:05:31.101229Z"
    }
   },
   "outputs": [
    {
     "name": "stdout",
     "output_type": "stream",
     "text": [
      "483 ns ± 0.0785 ns per loop (mean ± std. dev. of 7 runs, 1,000,000 loops each)\n"
     ]
    }
   ],
   "source": [
    "%timeit b.a = new_value"
   ]
  },
  {
   "cell_type": "markdown",
   "id": "b61ad1d0",
   "metadata": {},
   "source": [
    "## Initialization"
   ]
  },
  {
   "cell_type": "markdown",
   "id": "d70f0d54",
   "metadata": {},
   "source": [
    "### TreeValue's Initialization"
   ]
  },
  {
   "cell_type": "code",
   "execution_count": 14,
   "id": "d32a679b",
   "metadata": {
    "execution": {
     "iopub.execute_input": "2023-04-16T15:05:31.105294Z",
     "iopub.status.busy": "2023-04-16T15:05:31.104763Z",
     "iopub.status.idle": "2023-04-16T15:05:38.285674Z",
     "shell.execute_reply": "2023-04-16T15:05:38.285049Z"
    }
   },
   "outputs": [
    {
     "name": "stdout",
     "output_type": "stream",
     "text": [
      "886 ns ± 11.9 ns per loop (mean ± std. dev. of 7 runs, 1,000,000 loops each)\n"
     ]
    }
   ],
   "source": [
    "%timeit FastTreeValue(_TREE_DATA_1)"
   ]
  },
  {
   "cell_type": "markdown",
   "id": "24f3707b",
   "metadata": {},
   "source": [
    "### Tianshou Batch's Initialization"
   ]
  },
  {
   "cell_type": "code",
   "execution_count": 15,
   "id": "ac3958df",
   "metadata": {
    "execution": {
     "iopub.execute_input": "2023-04-16T15:05:38.288861Z",
     "iopub.status.busy": "2023-04-16T15:05:38.288471Z",
     "iopub.status.idle": "2023-04-16T15:05:47.595389Z",
     "shell.execute_reply": "2023-04-16T15:05:47.594784Z"
    }
   },
   "outputs": [
    {
     "name": "stdout",
     "output_type": "stream",
     "text": [
      "11.5 µs ± 8.81 ns per loop (mean ± std. dev. of 7 runs, 100,000 loops each)\n"
     ]
    }
   ],
   "source": [
    "%timeit Batch(**_TREE_DATA_1)"
   ]
  },
  {
   "cell_type": "markdown",
   "id": "1ab82e2d",
   "metadata": {},
   "source": [
    "## Deep Copy Operation"
   ]
  },
  {
   "cell_type": "code",
   "execution_count": 16,
   "id": "210a9442",
   "metadata": {
    "execution": {
     "iopub.execute_input": "2023-04-16T15:05:47.598822Z",
     "iopub.status.busy": "2023-04-16T15:05:47.598266Z",
     "iopub.status.idle": "2023-04-16T15:05:47.601535Z",
     "shell.execute_reply": "2023-04-16T15:05:47.600844Z"
    }
   },
   "outputs": [],
   "source": [
    "import copy"
   ]
  },
  {
   "cell_type": "markdown",
   "id": "5a736274",
   "metadata": {},
   "source": [
    "### Deep Copy of TreeValue"
   ]
  },
  {
   "cell_type": "code",
   "execution_count": 17,
   "id": "f9bcadd6",
   "metadata": {
    "execution": {
     "iopub.execute_input": "2023-04-16T15:05:47.604613Z",
     "iopub.status.busy": "2023-04-16T15:05:47.604250Z",
     "iopub.status.idle": "2023-04-16T15:05:58.804658Z",
     "shell.execute_reply": "2023-04-16T15:05:58.804080Z"
    }
   },
   "outputs": [
    {
     "name": "stdout",
     "output_type": "stream",
     "text": [
      "138 µs ± 330 ns per loop (mean ± std. dev. of 7 runs, 10,000 loops each)\n"
     ]
    }
   ],
   "source": [
    "t3 = FastTreeValue(_TREE_DATA_3)\n",
    "%timeit copy.deepcopy(t3)"
   ]
  },
  {
   "cell_type": "markdown",
   "id": "bf8be7ea",
   "metadata": {},
   "source": [
    "### Deep Copy of Tianshou Batch"
   ]
  },
  {
   "cell_type": "code",
   "execution_count": 18,
   "id": "91998e6f",
   "metadata": {
    "execution": {
     "iopub.execute_input": "2023-04-16T15:05:58.809341Z",
     "iopub.status.busy": "2023-04-16T15:05:58.808104Z",
     "iopub.status.idle": "2023-04-16T15:06:10.147809Z",
     "shell.execute_reply": "2023-04-16T15:06:10.147192Z"
    }
   },
   "outputs": [
    {
     "name": "stdout",
     "output_type": "stream",
     "text": [
      "140 µs ± 274 ns per loop (mean ± std. dev. of 7 runs, 10,000 loops each)\n"
     ]
    }
   ],
   "source": [
    "b3 = Batch(**_TREE_DATA_3)\n",
    "%timeit copy.deepcopy(b3)"
   ]
  },
  {
   "cell_type": "markdown",
   "id": "223162fb",
   "metadata": {},
   "source": [
    "## Stack, Concat and Split Operation"
   ]
  },
  {
   "cell_type": "markdown",
   "id": "85fa4a73",
   "metadata": {},
   "source": [
    "### Performance of TreeValue"
   ]
  },
  {
   "cell_type": "code",
   "execution_count": 19,
   "id": "a0c2b697",
   "metadata": {
    "execution": {
     "iopub.execute_input": "2023-04-16T15:06:10.151051Z",
     "iopub.status.busy": "2023-04-16T15:06:10.150793Z",
     "iopub.status.idle": "2023-04-16T15:06:10.155569Z",
     "shell.execute_reply": "2023-04-16T15:06:10.154921Z"
    }
   },
   "outputs": [],
   "source": [
    "trees = [FastTreeValue(_TREE_DATA_2) for _ in range(8)]"
   ]
  },
  {
   "cell_type": "code",
   "execution_count": 20,
   "id": "017ea5a5",
   "metadata": {
    "execution": {
     "iopub.execute_input": "2023-04-16T15:06:10.158990Z",
     "iopub.status.busy": "2023-04-16T15:06:10.158631Z",
     "iopub.status.idle": "2023-04-16T15:06:10.167460Z",
     "shell.execute_reply": "2023-04-16T15:06:10.166850Z"
    }
   },
   "outputs": [
    {
     "data": {
      "text/plain": [
       "<FastTreeValue 0x7f6592d51fd0>\n",
       "├── 'a' --> tensor([[[ 1.3764, -0.6532,  1.7536],\n",
       "│                    [-0.2487,  0.0902, -1.0240]],\n",
       "│           \n",
       "│                   [[ 1.3764, -0.6532,  1.7536],\n",
       "│                    [-0.2487,  0.0902, -1.0240]],\n",
       "│           \n",
       "│                   [[ 1.3764, -0.6532,  1.7536],\n",
       "│                    [-0.2487,  0.0902, -1.0240]],\n",
       "│           \n",
       "│                   [[ 1.3764, -0.6532,  1.7536],\n",
       "│                    [-0.2487,  0.0902, -1.0240]],\n",
       "│           \n",
       "│                   [[ 1.3764, -0.6532,  1.7536],\n",
       "│                    [-0.2487,  0.0902, -1.0240]],\n",
       "│           \n",
       "│                   [[ 1.3764, -0.6532,  1.7536],\n",
       "│                    [-0.2487,  0.0902, -1.0240]],\n",
       "│           \n",
       "│                   [[ 1.3764, -0.6532,  1.7536],\n",
       "│                    [-0.2487,  0.0902, -1.0240]],\n",
       "│           \n",
       "│                   [[ 1.3764, -0.6532,  1.7536],\n",
       "│                    [-0.2487,  0.0902, -1.0240]]])\n",
       "└── 'x' --> <FastTreeValue 0x7f6590c64790>\n",
       "    └── 'c' --> tensor([[[ 0.4691, -2.1373, -0.6511,  1.9524],\n",
       "                         [ 0.3680,  0.7250,  0.2813,  0.7259],\n",
       "                         [-1.8187,  0.8027, -2.5309,  0.7617]],\n",
       "                \n",
       "                        [[ 0.4691, -2.1373, -0.6511,  1.9524],\n",
       "                         [ 0.3680,  0.7250,  0.2813,  0.7259],\n",
       "                         [-1.8187,  0.8027, -2.5309,  0.7617]],\n",
       "                \n",
       "                        [[ 0.4691, -2.1373, -0.6511,  1.9524],\n",
       "                         [ 0.3680,  0.7250,  0.2813,  0.7259],\n",
       "                         [-1.8187,  0.8027, -2.5309,  0.7617]],\n",
       "                \n",
       "                        [[ 0.4691, -2.1373, -0.6511,  1.9524],\n",
       "                         [ 0.3680,  0.7250,  0.2813,  0.7259],\n",
       "                         [-1.8187,  0.8027, -2.5309,  0.7617]],\n",
       "                \n",
       "                        [[ 0.4691, -2.1373, -0.6511,  1.9524],\n",
       "                         [ 0.3680,  0.7250,  0.2813,  0.7259],\n",
       "                         [-1.8187,  0.8027, -2.5309,  0.7617]],\n",
       "                \n",
       "                        [[ 0.4691, -2.1373, -0.6511,  1.9524],\n",
       "                         [ 0.3680,  0.7250,  0.2813,  0.7259],\n",
       "                         [-1.8187,  0.8027, -2.5309,  0.7617]],\n",
       "                \n",
       "                        [[ 0.4691, -2.1373, -0.6511,  1.9524],\n",
       "                         [ 0.3680,  0.7250,  0.2813,  0.7259],\n",
       "                         [-1.8187,  0.8027, -2.5309,  0.7617]],\n",
       "                \n",
       "                        [[ 0.4691, -2.1373, -0.6511,  1.9524],\n",
       "                         [ 0.3680,  0.7250,  0.2813,  0.7259],\n",
       "                         [-1.8187,  0.8027, -2.5309,  0.7617]]])"
      ]
     },
     "execution_count": 20,
     "metadata": {},
     "output_type": "execute_result"
    }
   ],
   "source": [
    "t_stack = FastTreeValue.func(subside=True)(torch.stack)\n",
    "\n",
    "t_stack(trees)"
   ]
  },
  {
   "cell_type": "code",
   "execution_count": 21,
   "id": "f8b3f415",
   "metadata": {
    "execution": {
     "iopub.execute_input": "2023-04-16T15:06:10.170302Z",
     "iopub.status.busy": "2023-04-16T15:06:10.170085Z",
     "iopub.status.idle": "2023-04-16T15:06:12.863437Z",
     "shell.execute_reply": "2023-04-16T15:06:12.862718Z"
    }
   },
   "outputs": [
    {
     "name": "stdout",
     "output_type": "stream",
     "text": [
      "33.1 µs ± 45.6 ns per loop (mean ± std. dev. of 7 runs, 10,000 loops each)\n"
     ]
    }
   ],
   "source": [
    "%timeit t_stack(trees)"
   ]
  },
  {
   "cell_type": "code",
   "execution_count": 22,
   "id": "94b56771",
   "metadata": {
    "execution": {
     "iopub.execute_input": "2023-04-16T15:06:12.867311Z",
     "iopub.status.busy": "2023-04-16T15:06:12.866902Z",
     "iopub.status.idle": "2023-04-16T15:06:12.874695Z",
     "shell.execute_reply": "2023-04-16T15:06:12.874008Z"
    }
   },
   "outputs": [
    {
     "data": {
      "text/plain": [
       "<FastTreeValue 0x7f64ba4edfa0>\n",
       "├── 'a' --> tensor([[ 1.3764, -0.6532,  1.7536],\n",
       "│                   [-0.2487,  0.0902, -1.0240],\n",
       "│                   [ 1.3764, -0.6532,  1.7536],\n",
       "│                   [-0.2487,  0.0902, -1.0240],\n",
       "│                   [ 1.3764, -0.6532,  1.7536],\n",
       "│                   [-0.2487,  0.0902, -1.0240],\n",
       "│                   [ 1.3764, -0.6532,  1.7536],\n",
       "│                   [-0.2487,  0.0902, -1.0240],\n",
       "│                   [ 1.3764, -0.6532,  1.7536],\n",
       "│                   [-0.2487,  0.0902, -1.0240],\n",
       "│                   [ 1.3764, -0.6532,  1.7536],\n",
       "│                   [-0.2487,  0.0902, -1.0240],\n",
       "│                   [ 1.3764, -0.6532,  1.7536],\n",
       "│                   [-0.2487,  0.0902, -1.0240],\n",
       "│                   [ 1.3764, -0.6532,  1.7536],\n",
       "│                   [-0.2487,  0.0902, -1.0240]])\n",
       "└── 'x' --> <FastTreeValue 0x7f64ba4d6be0>\n",
       "    └── 'c' --> tensor([[ 0.4691, -2.1373, -0.6511,  1.9524],\n",
       "                        [ 0.3680,  0.7250,  0.2813,  0.7259],\n",
       "                        [-1.8187,  0.8027, -2.5309,  0.7617],\n",
       "                        [ 0.4691, -2.1373, -0.6511,  1.9524],\n",
       "                        [ 0.3680,  0.7250,  0.2813,  0.7259],\n",
       "                        [-1.8187,  0.8027, -2.5309,  0.7617],\n",
       "                        [ 0.4691, -2.1373, -0.6511,  1.9524],\n",
       "                        [ 0.3680,  0.7250,  0.2813,  0.7259],\n",
       "                        [-1.8187,  0.8027, -2.5309,  0.7617],\n",
       "                        [ 0.4691, -2.1373, -0.6511,  1.9524],\n",
       "                        [ 0.3680,  0.7250,  0.2813,  0.7259],\n",
       "                        [-1.8187,  0.8027, -2.5309,  0.7617],\n",
       "                        [ 0.4691, -2.1373, -0.6511,  1.9524],\n",
       "                        [ 0.3680,  0.7250,  0.2813,  0.7259],\n",
       "                        [-1.8187,  0.8027, -2.5309,  0.7617],\n",
       "                        [ 0.4691, -2.1373, -0.6511,  1.9524],\n",
       "                        [ 0.3680,  0.7250,  0.2813,  0.7259],\n",
       "                        [-1.8187,  0.8027, -2.5309,  0.7617],\n",
       "                        [ 0.4691, -2.1373, -0.6511,  1.9524],\n",
       "                        [ 0.3680,  0.7250,  0.2813,  0.7259],\n",
       "                        [-1.8187,  0.8027, -2.5309,  0.7617],\n",
       "                        [ 0.4691, -2.1373, -0.6511,  1.9524],\n",
       "                        [ 0.3680,  0.7250,  0.2813,  0.7259],\n",
       "                        [-1.8187,  0.8027, -2.5309,  0.7617]])"
      ]
     },
     "execution_count": 22,
     "metadata": {},
     "output_type": "execute_result"
    }
   ],
   "source": [
    "t_cat = FastTreeValue.func(subside=True)(torch.cat)\n",
    "\n",
    "t_cat(trees)"
   ]
  },
  {
   "cell_type": "code",
   "execution_count": 23,
   "id": "5e9c06a6",
   "metadata": {
    "execution": {
     "iopub.execute_input": "2023-04-16T15:06:12.877947Z",
     "iopub.status.busy": "2023-04-16T15:06:12.877567Z",
     "iopub.status.idle": "2023-04-16T15:06:15.383608Z",
     "shell.execute_reply": "2023-04-16T15:06:15.383005Z"
    }
   },
   "outputs": [
    {
     "name": "stdout",
     "output_type": "stream",
     "text": [
      "30.8 µs ± 68 ns per loop (mean ± std. dev. of 7 runs, 10,000 loops each)\n"
     ]
    }
   ],
   "source": [
    "%timeit t_cat(trees)"
   ]
  },
  {
   "cell_type": "code",
   "execution_count": 24,
   "id": "a3ab5c8f",
   "metadata": {
    "execution": {
     "iopub.execute_input": "2023-04-16T15:06:15.387003Z",
     "iopub.status.busy": "2023-04-16T15:06:15.386520Z",
     "iopub.status.idle": "2023-04-16T15:06:20.762295Z",
     "shell.execute_reply": "2023-04-16T15:06:20.761680Z"
    }
   },
   "outputs": [
    {
     "name": "stdout",
     "output_type": "stream",
     "text": [
      "66.1 µs ± 146 ns per loop (mean ± std. dev. of 7 runs, 10,000 loops each)\n"
     ]
    }
   ],
   "source": [
    "t_split = FastTreeValue.func(rise=True)(torch.split)\n",
    "tree = FastTreeValue({\n",
    "    'obs': torch.randn(8, 4, 84, 84),\n",
    "    'action': torch.randint(0, 6, size=(8, 1,)),\n",
    "    'reward': torch.rand(8, 1),\n",
    "})\n",
    "\n",
    "%timeit t_split(tree, 1)"
   ]
  },
  {
   "cell_type": "markdown",
   "id": "31c3ec0b",
   "metadata": {},
   "source": [
    "### Performance of Tianshou Batch"
   ]
  },
  {
   "cell_type": "code",
   "execution_count": 25,
   "id": "9ead828a",
   "metadata": {
    "execution": {
     "iopub.execute_input": "2023-04-16T15:06:20.765627Z",
     "iopub.status.busy": "2023-04-16T15:06:20.764983Z",
     "iopub.status.idle": "2023-04-16T15:06:20.772750Z",
     "shell.execute_reply": "2023-04-16T15:06:20.772060Z"
    }
   },
   "outputs": [
    {
     "data": {
      "text/plain": [
       "Batch(\n",
       "    a: tensor([[[ 1.3764, -0.6532,  1.7536],\n",
       "                [-0.2487,  0.0902, -1.0240]],\n",
       "       \n",
       "               [[ 1.3764, -0.6532,  1.7536],\n",
       "                [-0.2487,  0.0902, -1.0240]],\n",
       "       \n",
       "               [[ 1.3764, -0.6532,  1.7536],\n",
       "                [-0.2487,  0.0902, -1.0240]],\n",
       "       \n",
       "               [[ 1.3764, -0.6532,  1.7536],\n",
       "                [-0.2487,  0.0902, -1.0240]],\n",
       "       \n",
       "               [[ 1.3764, -0.6532,  1.7536],\n",
       "                [-0.2487,  0.0902, -1.0240]],\n",
       "       \n",
       "               [[ 1.3764, -0.6532,  1.7536],\n",
       "                [-0.2487,  0.0902, -1.0240]],\n",
       "       \n",
       "               [[ 1.3764, -0.6532,  1.7536],\n",
       "                [-0.2487,  0.0902, -1.0240]],\n",
       "       \n",
       "               [[ 1.3764, -0.6532,  1.7536],\n",
       "                [-0.2487,  0.0902, -1.0240]]]),\n",
       "    x: Batch(\n",
       "           c: tensor([[[ 0.4691, -2.1373, -0.6511,  1.9524],\n",
       "                       [ 0.3680,  0.7250,  0.2813,  0.7259],\n",
       "                       [-1.8187,  0.8027, -2.5309,  0.7617]],\n",
       "              \n",
       "                      [[ 0.4691, -2.1373, -0.6511,  1.9524],\n",
       "                       [ 0.3680,  0.7250,  0.2813,  0.7259],\n",
       "                       [-1.8187,  0.8027, -2.5309,  0.7617]],\n",
       "              \n",
       "                      [[ 0.4691, -2.1373, -0.6511,  1.9524],\n",
       "                       [ 0.3680,  0.7250,  0.2813,  0.7259],\n",
       "                       [-1.8187,  0.8027, -2.5309,  0.7617]],\n",
       "              \n",
       "                      [[ 0.4691, -2.1373, -0.6511,  1.9524],\n",
       "                       [ 0.3680,  0.7250,  0.2813,  0.7259],\n",
       "                       [-1.8187,  0.8027, -2.5309,  0.7617]],\n",
       "              \n",
       "                      [[ 0.4691, -2.1373, -0.6511,  1.9524],\n",
       "                       [ 0.3680,  0.7250,  0.2813,  0.7259],\n",
       "                       [-1.8187,  0.8027, -2.5309,  0.7617]],\n",
       "              \n",
       "                      [[ 0.4691, -2.1373, -0.6511,  1.9524],\n",
       "                       [ 0.3680,  0.7250,  0.2813,  0.7259],\n",
       "                       [-1.8187,  0.8027, -2.5309,  0.7617]],\n",
       "              \n",
       "                      [[ 0.4691, -2.1373, -0.6511,  1.9524],\n",
       "                       [ 0.3680,  0.7250,  0.2813,  0.7259],\n",
       "                       [-1.8187,  0.8027, -2.5309,  0.7617]],\n",
       "              \n",
       "                      [[ 0.4691, -2.1373, -0.6511,  1.9524],\n",
       "                       [ 0.3680,  0.7250,  0.2813,  0.7259],\n",
       "                       [-1.8187,  0.8027, -2.5309,  0.7617]]]),\n",
       "       ),\n",
       ")"
      ]
     },
     "execution_count": 25,
     "metadata": {},
     "output_type": "execute_result"
    }
   ],
   "source": [
    "batches = [Batch(**_TREE_DATA_2) for _ in range(8)]\n",
    "\n",
    "Batch.stack(batches)"
   ]
  },
  {
   "cell_type": "code",
   "execution_count": 26,
   "id": "ec9037a3",
   "metadata": {
    "execution": {
     "iopub.execute_input": "2023-04-16T15:06:20.776168Z",
     "iopub.status.busy": "2023-04-16T15:06:20.775388Z",
     "iopub.status.idle": "2023-04-16T15:06:27.183852Z",
     "shell.execute_reply": "2023-04-16T15:06:27.183139Z"
    }
   },
   "outputs": [
    {
     "name": "stdout",
     "output_type": "stream",
     "text": [
      "78.8 µs ± 229 ns per loop (mean ± std. dev. of 7 runs, 10,000 loops each)\n"
     ]
    }
   ],
   "source": [
    "%timeit Batch.stack(batches)"
   ]
  },
  {
   "cell_type": "code",
   "execution_count": 27,
   "id": "cb8ab77e",
   "metadata": {
    "execution": {
     "iopub.execute_input": "2023-04-16T15:06:27.187397Z",
     "iopub.status.busy": "2023-04-16T15:06:27.186993Z",
     "iopub.status.idle": "2023-04-16T15:06:27.195370Z",
     "shell.execute_reply": "2023-04-16T15:06:27.194709Z"
    }
   },
   "outputs": [
    {
     "data": {
      "text/plain": [
       "Batch(\n",
       "    a: tensor([[ 1.3764, -0.6532,  1.7536],\n",
       "               [-0.2487,  0.0902, -1.0240],\n",
       "               [ 1.3764, -0.6532,  1.7536],\n",
       "               [-0.2487,  0.0902, -1.0240],\n",
       "               [ 1.3764, -0.6532,  1.7536],\n",
       "               [-0.2487,  0.0902, -1.0240],\n",
       "               [ 1.3764, -0.6532,  1.7536],\n",
       "               [-0.2487,  0.0902, -1.0240],\n",
       "               [ 1.3764, -0.6532,  1.7536],\n",
       "               [-0.2487,  0.0902, -1.0240],\n",
       "               [ 1.3764, -0.6532,  1.7536],\n",
       "               [-0.2487,  0.0902, -1.0240],\n",
       "               [ 1.3764, -0.6532,  1.7536],\n",
       "               [-0.2487,  0.0902, -1.0240],\n",
       "               [ 1.3764, -0.6532,  1.7536],\n",
       "               [-0.2487,  0.0902, -1.0240]]),\n",
       "    x: Batch(\n",
       "           c: tensor([[ 0.4691, -2.1373, -0.6511,  1.9524],\n",
       "                      [ 0.3680,  0.7250,  0.2813,  0.7259],\n",
       "                      [-1.8187,  0.8027, -2.5309,  0.7617],\n",
       "                      [ 0.4691, -2.1373, -0.6511,  1.9524],\n",
       "                      [ 0.3680,  0.7250,  0.2813,  0.7259],\n",
       "                      [-1.8187,  0.8027, -2.5309,  0.7617],\n",
       "                      [ 0.4691, -2.1373, -0.6511,  1.9524],\n",
       "                      [ 0.3680,  0.7250,  0.2813,  0.7259],\n",
       "                      [-1.8187,  0.8027, -2.5309,  0.7617],\n",
       "                      [ 0.4691, -2.1373, -0.6511,  1.9524],\n",
       "                      [ 0.3680,  0.7250,  0.2813,  0.7259],\n",
       "                      [-1.8187,  0.8027, -2.5309,  0.7617],\n",
       "                      [ 0.4691, -2.1373, -0.6511,  1.9524],\n",
       "                      [ 0.3680,  0.7250,  0.2813,  0.7259],\n",
       "                      [-1.8187,  0.8027, -2.5309,  0.7617],\n",
       "                      [ 0.4691, -2.1373, -0.6511,  1.9524],\n",
       "                      [ 0.3680,  0.7250,  0.2813,  0.7259],\n",
       "                      [-1.8187,  0.8027, -2.5309,  0.7617],\n",
       "                      [ 0.4691, -2.1373, -0.6511,  1.9524],\n",
       "                      [ 0.3680,  0.7250,  0.2813,  0.7259],\n",
       "                      [-1.8187,  0.8027, -2.5309,  0.7617],\n",
       "                      [ 0.4691, -2.1373, -0.6511,  1.9524],\n",
       "                      [ 0.3680,  0.7250,  0.2813,  0.7259],\n",
       "                      [-1.8187,  0.8027, -2.5309,  0.7617]]),\n",
       "       ),\n",
       ")"
      ]
     },
     "execution_count": 27,
     "metadata": {},
     "output_type": "execute_result"
    }
   ],
   "source": [
    "Batch.cat(batches)"
   ]
  },
  {
   "cell_type": "code",
   "execution_count": 28,
   "id": "18dfb045",
   "metadata": {
    "execution": {
     "iopub.execute_input": "2023-04-16T15:06:27.198312Z",
     "iopub.status.busy": "2023-04-16T15:06:27.197931Z",
     "iopub.status.idle": "2023-04-16T15:06:39.234484Z",
     "shell.execute_reply": "2023-04-16T15:06:39.233325Z"
    }
   },
   "outputs": [
    {
     "name": "stdout",
     "output_type": "stream",
     "text": [
      "148 µs ± 500 ns per loop (mean ± std. dev. of 7 runs, 10,000 loops each)\n"
     ]
    }
   ],
   "source": [
    "%timeit Batch.cat(batches)"
   ]
  },
  {
   "cell_type": "code",
   "execution_count": 29,
   "id": "c6688e51",
   "metadata": {
    "execution": {
     "iopub.execute_input": "2023-04-16T15:06:39.237863Z",
     "iopub.status.busy": "2023-04-16T15:06:39.237282Z",
     "iopub.status.idle": "2023-04-16T15:06:41.813035Z",
     "shell.execute_reply": "2023-04-16T15:06:41.812411Z"
    }
   },
   "outputs": [
    {
     "name": "stdout",
     "output_type": "stream",
     "text": [
      "316 µs ± 1.01 µs per loop (mean ± std. dev. of 7 runs, 1,000 loops each)\n"
     ]
    }
   ],
   "source": [
    "batch = Batch({\n",
    "    'obs': torch.randn(8, 4, 84, 84),\n",
    "    'action': torch.randint(0, 6, size=(8, 1,)),\n",
    "    'reward': torch.rand(8, 1)}\n",
    ")\n",
    "\n",
    "%timeit list(Batch.split(batch, 1, shuffle=False, merge_last=True))"
   ]
  },
  {
   "cell_type": "code",
   "execution_count": null,
   "id": "2539fbd9",
   "metadata": {},
   "outputs": [],
   "source": []
  }
 ],
 "metadata": {
  "kernelspec": {
   "display_name": "Python 3 (ipykernel)",
   "language": "python",
   "name": "python3"
  },
  "language_info": {
   "codemirror_mode": {
    "name": "ipython",
    "version": 3
   },
   "file_extension": ".py",
   "mimetype": "text/x-python",
   "name": "python",
   "nbconvert_exporter": "python",
   "pygments_lexer": "ipython3",
   "version": "3.8.16"
  }
 },
 "nbformat": 4,
 "nbformat_minor": 5
}
