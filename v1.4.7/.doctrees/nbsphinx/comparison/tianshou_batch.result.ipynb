{
 "cells": [
  {
   "cell_type": "markdown",
   "id": "9d39d946",
   "metadata": {},
   "source": [
    "# Comparison Between TreeValue and Tianshou Batch"
   ]
  },
  {
   "cell_type": "markdown",
   "id": "3c6db2d4",
   "metadata": {},
   "source": [
    "In this section, we will take a look at the feature and performance of the [Tianshou Batch](https://github.com/thu-ml/tianshou) library, which is developed by Tsinghua Machine Learning Group."
   ]
  },
  {
   "cell_type": "markdown",
   "id": "069361b0",
   "metadata": {},
   "source": [
    "Before starting the comparison, let us define some thing."
   ]
  },
  {
   "cell_type": "code",
   "execution_count": 1,
   "id": "06fc8d26",
   "metadata": {
    "execution": {
     "iopub.execute_input": "2023-03-06T11:10:39.999967Z",
     "iopub.status.busy": "2023-03-06T11:10:39.999465Z",
     "iopub.status.idle": "2023-03-06T11:10:40.918414Z",
     "shell.execute_reply": "2023-03-06T11:10:40.917752Z"
    }
   },
   "outputs": [
    {
     "name": "stderr",
     "output_type": "stream",
     "text": [
      "/opt/hostedtoolcache/Python/3.8.16/x64/lib/python3.8/site-packages/tqdm/auto.py:21: TqdmWarning: IProgress not found. Please update jupyter and ipywidgets. See https://ipywidgets.readthedocs.io/en/stable/user_install.html\n",
      "  from .autonotebook import tqdm as notebook_tqdm\n"
     ]
    }
   ],
   "source": [
    "import torch \n",
    "\n",
    "_TREE_DATA_1 = {'a': 1, 'b': 2, 'x': {'c': 3, 'd': 4}}\n",
    "_TREE_DATA_2 = {\n",
    "    'a': torch.randn(2, 3), \n",
    "    'x': {\n",
    "        'c': torch.randn(3, 4)\n",
    "    },\n",
    "}\n",
    "_TREE_DATA_3 = {\n",
    "    'obs': torch.randn(4, 84, 84),\n",
    "    'action': torch.randint(0, 6, size=(1,)),\n",
    "    'reward': torch.rand(1),\n",
    "}"
   ]
  },
  {
   "cell_type": "markdown",
   "id": "83461b25",
   "metadata": {},
   "source": [
    "## Read and Write Operation"
   ]
  },
  {
   "cell_type": "markdown",
   "id": "067b3f73",
   "metadata": {},
   "source": [
    "Reading and writing are the two most common operations in the tree data structure based on the data model (TreeValue and Tianshou Batch both belong to this type), so this section will compare the reading and writing performance of these two libraries."
   ]
  },
  {
   "cell_type": "markdown",
   "id": "5d09a5b7",
   "metadata": {},
   "source": [
    "### TreeValue's Get and Set"
   ]
  },
  {
   "cell_type": "code",
   "execution_count": 2,
   "id": "9519c4bb",
   "metadata": {
    "execution": {
     "iopub.execute_input": "2023-03-06T11:10:40.921880Z",
     "iopub.status.busy": "2023-03-06T11:10:40.921475Z",
     "iopub.status.idle": "2023-03-06T11:10:41.204630Z",
     "shell.execute_reply": "2023-03-06T11:10:41.203939Z"
    }
   },
   "outputs": [],
   "source": [
    "from treevalue import FastTreeValue\n",
    "\n",
    "t = FastTreeValue(_TREE_DATA_2)"
   ]
  },
  {
   "cell_type": "code",
   "execution_count": 3,
   "id": "11c37677",
   "metadata": {
    "execution": {
     "iopub.execute_input": "2023-03-06T11:10:41.207880Z",
     "iopub.status.busy": "2023-03-06T11:10:41.207283Z",
     "iopub.status.idle": "2023-03-06T11:10:41.216661Z",
     "shell.execute_reply": "2023-03-06T11:10:41.216057Z"
    }
   },
   "outputs": [
    {
     "data": {
      "text/plain": [
       "<FastTreeValue 0x7f45fd237220>\n",
       "├── 'a' --> tensor([[ 1.7912, -1.6728, -0.5915],\n",
       "│                   [-0.4269, -1.1174, -0.4812]])\n",
       "└── 'x' --> <FastTreeValue 0x7f45fd289850>\n",
       "    └── 'c' --> tensor([[-1.6105, -0.0648,  1.4361, -0.2247],\n",
       "                        [-1.3015,  1.0213, -0.4828,  1.3089],\n",
       "                        [ 1.1834,  0.3474,  0.2893, -0.5656]])"
      ]
     },
     "execution_count": 3,
     "metadata": {},
     "output_type": "execute_result"
    }
   ],
   "source": [
    "t"
   ]
  },
  {
   "cell_type": "code",
   "execution_count": 4,
   "id": "fd70b0b9",
   "metadata": {
    "execution": {
     "iopub.execute_input": "2023-03-06T11:10:41.219526Z",
     "iopub.status.busy": "2023-03-06T11:10:41.219059Z",
     "iopub.status.idle": "2023-03-06T11:10:41.224092Z",
     "shell.execute_reply": "2023-03-06T11:10:41.223456Z"
    }
   },
   "outputs": [
    {
     "data": {
      "text/plain": [
       "tensor([[ 1.7912, -1.6728, -0.5915],\n",
       "        [-0.4269, -1.1174, -0.4812]])"
      ]
     },
     "execution_count": 4,
     "metadata": {},
     "output_type": "execute_result"
    }
   ],
   "source": [
    "t.a"
   ]
  },
  {
   "cell_type": "code",
   "execution_count": 5,
   "id": "c18197bd",
   "metadata": {
    "execution": {
     "iopub.execute_input": "2023-03-06T11:10:41.226516Z",
     "iopub.status.busy": "2023-03-06T11:10:41.226199Z",
     "iopub.status.idle": "2023-03-06T11:10:46.351822Z",
     "shell.execute_reply": "2023-03-06T11:10:46.351104Z"
    }
   },
   "outputs": [
    {
     "name": "stdout",
     "output_type": "stream",
     "text": [
      "63.3 ns ± 0.0469 ns per loop (mean ± std. dev. of 7 runs, 10,000,000 loops each)\n"
     ]
    }
   ],
   "source": [
    "%timeit t.a"
   ]
  },
  {
   "cell_type": "code",
   "execution_count": 6,
   "id": "bd52f867",
   "metadata": {
    "execution": {
     "iopub.execute_input": "2023-03-06T11:10:46.354553Z",
     "iopub.status.busy": "2023-03-06T11:10:46.354200Z",
     "iopub.status.idle": "2023-03-06T11:10:46.361541Z",
     "shell.execute_reply": "2023-03-06T11:10:46.360962Z"
    }
   },
   "outputs": [
    {
     "data": {
      "text/plain": [
       "<FastTreeValue 0x7f45fd237220>\n",
       "├── 'a' --> tensor([[-0.4441, -0.9076,  1.5155],\n",
       "│                   [ 1.6735, -0.1224,  0.0696]])\n",
       "└── 'x' --> <FastTreeValue 0x7f45fd289850>\n",
       "    └── 'c' --> tensor([[-1.6105, -0.0648,  1.4361, -0.2247],\n",
       "                        [-1.3015,  1.0213, -0.4828,  1.3089],\n",
       "                        [ 1.1834,  0.3474,  0.2893, -0.5656]])"
      ]
     },
     "execution_count": 6,
     "metadata": {},
     "output_type": "execute_result"
    }
   ],
   "source": [
    "new_value = torch.randn(2, 3)\n",
    "t.a = new_value\n",
    "\n",
    "t"
   ]
  },
  {
   "cell_type": "code",
   "execution_count": 7,
   "id": "bbe04d1c",
   "metadata": {
    "execution": {
     "iopub.execute_input": "2023-03-06T11:10:46.363944Z",
     "iopub.status.busy": "2023-03-06T11:10:46.363603Z",
     "iopub.status.idle": "2023-03-06T11:10:51.509274Z",
     "shell.execute_reply": "2023-03-06T11:10:51.508498Z"
    }
   },
   "outputs": [
    {
     "name": "stdout",
     "output_type": "stream",
     "text": [
      "63.4 ns ± 0.0293 ns per loop (mean ± std. dev. of 7 runs, 10,000,000 loops each)\n"
     ]
    }
   ],
   "source": [
    "%timeit t.a = new_value"
   ]
  },
  {
   "cell_type": "markdown",
   "id": "48c49731",
   "metadata": {},
   "source": [
    "### Tianshou Batch's Get and Set"
   ]
  },
  {
   "cell_type": "code",
   "execution_count": 8,
   "id": "f1bb14c1",
   "metadata": {
    "execution": {
     "iopub.execute_input": "2023-03-06T11:10:51.512637Z",
     "iopub.status.busy": "2023-03-06T11:10:51.512048Z",
     "iopub.status.idle": "2023-03-06T11:10:51.850379Z",
     "shell.execute_reply": "2023-03-06T11:10:51.849689Z"
    }
   },
   "outputs": [],
   "source": [
    "from tianshou.data import Batch\n",
    "\n",
    "b = Batch(**_TREE_DATA_2)"
   ]
  },
  {
   "cell_type": "code",
   "execution_count": 9,
   "id": "cb0777c3",
   "metadata": {
    "execution": {
     "iopub.execute_input": "2023-03-06T11:10:51.853506Z",
     "iopub.status.busy": "2023-03-06T11:10:51.853020Z",
     "iopub.status.idle": "2023-03-06T11:10:51.860062Z",
     "shell.execute_reply": "2023-03-06T11:10:51.859468Z"
    }
   },
   "outputs": [
    {
     "data": {
      "text/plain": [
       "Batch(\n",
       "    a: tensor([[ 1.7912, -1.6728, -0.5915],\n",
       "               [-0.4269, -1.1174, -0.4812]]),\n",
       "    x: Batch(\n",
       "           c: tensor([[-1.6105, -0.0648,  1.4361, -0.2247],\n",
       "                      [-1.3015,  1.0213, -0.4828,  1.3089],\n",
       "                      [ 1.1834,  0.3474,  0.2893, -0.5656]]),\n",
       "       ),\n",
       ")"
      ]
     },
     "execution_count": 9,
     "metadata": {},
     "output_type": "execute_result"
    }
   ],
   "source": [
    "b"
   ]
  },
  {
   "cell_type": "code",
   "execution_count": 10,
   "id": "43ef8ea3",
   "metadata": {
    "execution": {
     "iopub.execute_input": "2023-03-06T11:10:51.863016Z",
     "iopub.status.busy": "2023-03-06T11:10:51.862541Z",
     "iopub.status.idle": "2023-03-06T11:10:51.868544Z",
     "shell.execute_reply": "2023-03-06T11:10:51.867952Z"
    }
   },
   "outputs": [
    {
     "data": {
      "text/plain": [
       "tensor([[ 1.7912, -1.6728, -0.5915],\n",
       "        [-0.4269, -1.1174, -0.4812]])"
      ]
     },
     "execution_count": 10,
     "metadata": {},
     "output_type": "execute_result"
    }
   ],
   "source": [
    "b.a"
   ]
  },
  {
   "cell_type": "code",
   "execution_count": 11,
   "id": "b785ab72",
   "metadata": {
    "execution": {
     "iopub.execute_input": "2023-03-06T11:10:51.871432Z",
     "iopub.status.busy": "2023-03-06T11:10:51.870930Z",
     "iopub.status.idle": "2023-03-06T11:10:56.250384Z",
     "shell.execute_reply": "2023-03-06T11:10:56.249713Z"
    }
   },
   "outputs": [
    {
     "name": "stdout",
     "output_type": "stream",
     "text": [
      "53.9 ns ± 0.0225 ns per loop (mean ± std. dev. of 7 runs, 10,000,000 loops each)\n"
     ]
    }
   ],
   "source": [
    "%timeit b.a"
   ]
  },
  {
   "cell_type": "code",
   "execution_count": 12,
   "id": "ad54dc69",
   "metadata": {
    "execution": {
     "iopub.execute_input": "2023-03-06T11:10:56.253417Z",
     "iopub.status.busy": "2023-03-06T11:10:56.253067Z",
     "iopub.status.idle": "2023-03-06T11:10:56.260078Z",
     "shell.execute_reply": "2023-03-06T11:10:56.259464Z"
    }
   },
   "outputs": [
    {
     "data": {
      "text/plain": [
       "Batch(\n",
       "    a: tensor([[-0.6380, -0.0588,  0.1528],\n",
       "               [ 1.0234, -0.8344, -1.7921]]),\n",
       "    x: Batch(\n",
       "           c: tensor([[-1.6105, -0.0648,  1.4361, -0.2247],\n",
       "                      [-1.3015,  1.0213, -0.4828,  1.3089],\n",
       "                      [ 1.1834,  0.3474,  0.2893, -0.5656]]),\n",
       "       ),\n",
       ")"
      ]
     },
     "execution_count": 12,
     "metadata": {},
     "output_type": "execute_result"
    }
   ],
   "source": [
    "new_value = torch.randn(2, 3)\n",
    "b.a = new_value\n",
    "\n",
    "b"
   ]
  },
  {
   "cell_type": "code",
   "execution_count": 13,
   "id": "29b1d0bf",
   "metadata": {
    "execution": {
     "iopub.execute_input": "2023-03-06T11:10:56.262594Z",
     "iopub.status.busy": "2023-03-06T11:10:56.262245Z",
     "iopub.status.idle": "2023-03-06T11:11:00.224639Z",
     "shell.execute_reply": "2023-03-06T11:11:00.223970Z"
    }
   },
   "outputs": [
    {
     "name": "stdout",
     "output_type": "stream",
     "text": [
      "488 ns ± 0.102 ns per loop (mean ± std. dev. of 7 runs, 1,000,000 loops each)\n"
     ]
    }
   ],
   "source": [
    "%timeit b.a = new_value"
   ]
  },
  {
   "cell_type": "markdown",
   "id": "b61ad1d0",
   "metadata": {},
   "source": [
    "## Initialization"
   ]
  },
  {
   "cell_type": "markdown",
   "id": "d70f0d54",
   "metadata": {},
   "source": [
    "### TreeValue's Initialization"
   ]
  },
  {
   "cell_type": "code",
   "execution_count": 14,
   "id": "d32a679b",
   "metadata": {
    "execution": {
     "iopub.execute_input": "2023-03-06T11:11:00.227784Z",
     "iopub.status.busy": "2023-03-06T11:11:00.227438Z",
     "iopub.status.idle": "2023-03-06T11:11:06.935462Z",
     "shell.execute_reply": "2023-03-06T11:11:06.934742Z"
    }
   },
   "outputs": [
    {
     "name": "stdout",
     "output_type": "stream",
     "text": [
      "827 ns ± 0.0789 ns per loop (mean ± std. dev. of 7 runs, 1,000,000 loops each)\n"
     ]
    }
   ],
   "source": [
    "%timeit FastTreeValue(_TREE_DATA_1)"
   ]
  },
  {
   "cell_type": "markdown",
   "id": "24f3707b",
   "metadata": {},
   "source": [
    "### Tianshou Batch's Initialization"
   ]
  },
  {
   "cell_type": "code",
   "execution_count": 15,
   "id": "ac3958df",
   "metadata": {
    "execution": {
     "iopub.execute_input": "2023-03-06T11:11:06.938500Z",
     "iopub.status.busy": "2023-03-06T11:11:06.938274Z",
     "iopub.status.idle": "2023-03-06T11:11:16.370905Z",
     "shell.execute_reply": "2023-03-06T11:11:16.370145Z"
    }
   },
   "outputs": [
    {
     "name": "stdout",
     "output_type": "stream",
     "text": [
      "11.6 µs ± 19 ns per loop (mean ± std. dev. of 7 runs, 100,000 loops each)\n"
     ]
    }
   ],
   "source": [
    "%timeit Batch(**_TREE_DATA_1)"
   ]
  },
  {
   "cell_type": "markdown",
   "id": "1ab82e2d",
   "metadata": {},
   "source": [
    "## Deep Copy Operation"
   ]
  },
  {
   "cell_type": "code",
   "execution_count": 16,
   "id": "210a9442",
   "metadata": {
    "execution": {
     "iopub.execute_input": "2023-03-06T11:11:16.373748Z",
     "iopub.status.busy": "2023-03-06T11:11:16.373396Z",
     "iopub.status.idle": "2023-03-06T11:11:16.377293Z",
     "shell.execute_reply": "2023-03-06T11:11:16.376695Z"
    }
   },
   "outputs": [],
   "source": [
    "import copy"
   ]
  },
  {
   "cell_type": "markdown",
   "id": "5a736274",
   "metadata": {},
   "source": [
    "### Deep Copy of TreeValue"
   ]
  },
  {
   "cell_type": "code",
   "execution_count": 17,
   "id": "f9bcadd6",
   "metadata": {
    "execution": {
     "iopub.execute_input": "2023-03-06T11:11:16.379771Z",
     "iopub.status.busy": "2023-03-06T11:11:16.379435Z",
     "iopub.status.idle": "2023-03-06T11:11:27.544746Z",
     "shell.execute_reply": "2023-03-06T11:11:27.544184Z"
    }
   },
   "outputs": [
    {
     "name": "stdout",
     "output_type": "stream",
     "text": [
      "138 µs ± 239 ns per loop (mean ± std. dev. of 7 runs, 10,000 loops each)\n"
     ]
    }
   ],
   "source": [
    "t3 = FastTreeValue(_TREE_DATA_3)\n",
    "%timeit copy.deepcopy(t3)"
   ]
  },
  {
   "cell_type": "markdown",
   "id": "bf8be7ea",
   "metadata": {},
   "source": [
    "### Deep Copy of Tianshou Batch"
   ]
  },
  {
   "cell_type": "code",
   "execution_count": 18,
   "id": "91998e6f",
   "metadata": {
    "execution": {
     "iopub.execute_input": "2023-03-06T11:11:27.548083Z",
     "iopub.status.busy": "2023-03-06T11:11:27.547057Z",
     "iopub.status.idle": "2023-03-06T11:11:38.879624Z",
     "shell.execute_reply": "2023-03-06T11:11:38.879023Z"
    }
   },
   "outputs": [
    {
     "name": "stdout",
     "output_type": "stream",
     "text": [
      "139 µs ± 445 ns per loop (mean ± std. dev. of 7 runs, 10,000 loops each)\n"
     ]
    }
   ],
   "source": [
    "b3 = Batch(**_TREE_DATA_3)\n",
    "%timeit copy.deepcopy(b3)"
   ]
  },
  {
   "cell_type": "markdown",
   "id": "223162fb",
   "metadata": {},
   "source": [
    "## Stack, Concat and Split Operation"
   ]
  },
  {
   "cell_type": "markdown",
   "id": "85fa4a73",
   "metadata": {},
   "source": [
    "### Performance of TreeValue"
   ]
  },
  {
   "cell_type": "code",
   "execution_count": 19,
   "id": "a0c2b697",
   "metadata": {
    "execution": {
     "iopub.execute_input": "2023-03-06T11:11:38.883470Z",
     "iopub.status.busy": "2023-03-06T11:11:38.882621Z",
     "iopub.status.idle": "2023-03-06T11:11:38.886433Z",
     "shell.execute_reply": "2023-03-06T11:11:38.885788Z"
    }
   },
   "outputs": [],
   "source": [
    "trees = [FastTreeValue(_TREE_DATA_2) for _ in range(8)]"
   ]
  },
  {
   "cell_type": "code",
   "execution_count": 20,
   "id": "017ea5a5",
   "metadata": {
    "execution": {
     "iopub.execute_input": "2023-03-06T11:11:38.888994Z",
     "iopub.status.busy": "2023-03-06T11:11:38.888657Z",
     "iopub.status.idle": "2023-03-06T11:11:38.895814Z",
     "shell.execute_reply": "2023-03-06T11:11:38.895167Z"
    }
   },
   "outputs": [
    {
     "data": {
      "text/plain": [
       "<FastTreeValue 0x7f4543444d90>\n",
       "├── 'a' --> tensor([[[ 1.7912, -1.6728, -0.5915],\n",
       "│                    [-0.4269, -1.1174, -0.4812]],\n",
       "│           \n",
       "│                   [[ 1.7912, -1.6728, -0.5915],\n",
       "│                    [-0.4269, -1.1174, -0.4812]],\n",
       "│           \n",
       "│                   [[ 1.7912, -1.6728, -0.5915],\n",
       "│                    [-0.4269, -1.1174, -0.4812]],\n",
       "│           \n",
       "│                   [[ 1.7912, -1.6728, -0.5915],\n",
       "│                    [-0.4269, -1.1174, -0.4812]],\n",
       "│           \n",
       "│                   [[ 1.7912, -1.6728, -0.5915],\n",
       "│                    [-0.4269, -1.1174, -0.4812]],\n",
       "│           \n",
       "│                   [[ 1.7912, -1.6728, -0.5915],\n",
       "│                    [-0.4269, -1.1174, -0.4812]],\n",
       "│           \n",
       "│                   [[ 1.7912, -1.6728, -0.5915],\n",
       "│                    [-0.4269, -1.1174, -0.4812]],\n",
       "│           \n",
       "│                   [[ 1.7912, -1.6728, -0.5915],\n",
       "│                    [-0.4269, -1.1174, -0.4812]]])\n",
       "└── 'x' --> <FastTreeValue 0x7f4543412fa0>\n",
       "    └── 'c' --> tensor([[[-1.6105, -0.0648,  1.4361, -0.2247],\n",
       "                         [-1.3015,  1.0213, -0.4828,  1.3089],\n",
       "                         [ 1.1834,  0.3474,  0.2893, -0.5656]],\n",
       "                \n",
       "                        [[-1.6105, -0.0648,  1.4361, -0.2247],\n",
       "                         [-1.3015,  1.0213, -0.4828,  1.3089],\n",
       "                         [ 1.1834,  0.3474,  0.2893, -0.5656]],\n",
       "                \n",
       "                        [[-1.6105, -0.0648,  1.4361, -0.2247],\n",
       "                         [-1.3015,  1.0213, -0.4828,  1.3089],\n",
       "                         [ 1.1834,  0.3474,  0.2893, -0.5656]],\n",
       "                \n",
       "                        [[-1.6105, -0.0648,  1.4361, -0.2247],\n",
       "                         [-1.3015,  1.0213, -0.4828,  1.3089],\n",
       "                         [ 1.1834,  0.3474,  0.2893, -0.5656]],\n",
       "                \n",
       "                        [[-1.6105, -0.0648,  1.4361, -0.2247],\n",
       "                         [-1.3015,  1.0213, -0.4828,  1.3089],\n",
       "                         [ 1.1834,  0.3474,  0.2893, -0.5656]],\n",
       "                \n",
       "                        [[-1.6105, -0.0648,  1.4361, -0.2247],\n",
       "                         [-1.3015,  1.0213, -0.4828,  1.3089],\n",
       "                         [ 1.1834,  0.3474,  0.2893, -0.5656]],\n",
       "                \n",
       "                        [[-1.6105, -0.0648,  1.4361, -0.2247],\n",
       "                         [-1.3015,  1.0213, -0.4828,  1.3089],\n",
       "                         [ 1.1834,  0.3474,  0.2893, -0.5656]],\n",
       "                \n",
       "                        [[-1.6105, -0.0648,  1.4361, -0.2247],\n",
       "                         [-1.3015,  1.0213, -0.4828,  1.3089],\n",
       "                         [ 1.1834,  0.3474,  0.2893, -0.5656]]])"
      ]
     },
     "execution_count": 20,
     "metadata": {},
     "output_type": "execute_result"
    }
   ],
   "source": [
    "t_stack = FastTreeValue.func(subside=True)(torch.stack)\n",
    "\n",
    "t_stack(trees)"
   ]
  },
  {
   "cell_type": "code",
   "execution_count": 21,
   "id": "f8b3f415",
   "metadata": {
    "execution": {
     "iopub.execute_input": "2023-03-06T11:11:38.898504Z",
     "iopub.status.busy": "2023-03-06T11:11:38.897987Z",
     "iopub.status.idle": "2023-03-06T11:11:41.605448Z",
     "shell.execute_reply": "2023-03-06T11:11:41.604591Z"
    }
   },
   "outputs": [
    {
     "name": "stdout",
     "output_type": "stream",
     "text": [
      "33.3 µs ± 13.6 ns per loop (mean ± std. dev. of 7 runs, 10,000 loops each)\n"
     ]
    }
   ],
   "source": [
    "%timeit t_stack(trees)"
   ]
  },
  {
   "cell_type": "code",
   "execution_count": 22,
   "id": "94b56771",
   "metadata": {
    "execution": {
     "iopub.execute_input": "2023-03-06T11:11:41.608544Z",
     "iopub.status.busy": "2023-03-06T11:11:41.608186Z",
     "iopub.status.idle": "2023-03-06T11:11:41.615965Z",
     "shell.execute_reply": "2023-03-06T11:11:41.615368Z"
    }
   },
   "outputs": [
    {
     "data": {
      "text/plain": [
       "<FastTreeValue 0x7f4543a75c40>\n",
       "├── 'a' --> tensor([[ 1.7912, -1.6728, -0.5915],\n",
       "│                   [-0.4269, -1.1174, -0.4812],\n",
       "│                   [ 1.7912, -1.6728, -0.5915],\n",
       "│                   [-0.4269, -1.1174, -0.4812],\n",
       "│                   [ 1.7912, -1.6728, -0.5915],\n",
       "│                   [-0.4269, -1.1174, -0.4812],\n",
       "│                   [ 1.7912, -1.6728, -0.5915],\n",
       "│                   [-0.4269, -1.1174, -0.4812],\n",
       "│                   [ 1.7912, -1.6728, -0.5915],\n",
       "│                   [-0.4269, -1.1174, -0.4812],\n",
       "│                   [ 1.7912, -1.6728, -0.5915],\n",
       "│                   [-0.4269, -1.1174, -0.4812],\n",
       "│                   [ 1.7912, -1.6728, -0.5915],\n",
       "│                   [-0.4269, -1.1174, -0.4812],\n",
       "│                   [ 1.7912, -1.6728, -0.5915],\n",
       "│                   [-0.4269, -1.1174, -0.4812]])\n",
       "└── 'x' --> <FastTreeValue 0x7f4543442f40>\n",
       "    └── 'c' --> tensor([[-1.6105, -0.0648,  1.4361, -0.2247],\n",
       "                        [-1.3015,  1.0213, -0.4828,  1.3089],\n",
       "                        [ 1.1834,  0.3474,  0.2893, -0.5656],\n",
       "                        [-1.6105, -0.0648,  1.4361, -0.2247],\n",
       "                        [-1.3015,  1.0213, -0.4828,  1.3089],\n",
       "                        [ 1.1834,  0.3474,  0.2893, -0.5656],\n",
       "                        [-1.6105, -0.0648,  1.4361, -0.2247],\n",
       "                        [-1.3015,  1.0213, -0.4828,  1.3089],\n",
       "                        [ 1.1834,  0.3474,  0.2893, -0.5656],\n",
       "                        [-1.6105, -0.0648,  1.4361, -0.2247],\n",
       "                        [-1.3015,  1.0213, -0.4828,  1.3089],\n",
       "                        [ 1.1834,  0.3474,  0.2893, -0.5656],\n",
       "                        [-1.6105, -0.0648,  1.4361, -0.2247],\n",
       "                        [-1.3015,  1.0213, -0.4828,  1.3089],\n",
       "                        [ 1.1834,  0.3474,  0.2893, -0.5656],\n",
       "                        [-1.6105, -0.0648,  1.4361, -0.2247],\n",
       "                        [-1.3015,  1.0213, -0.4828,  1.3089],\n",
       "                        [ 1.1834,  0.3474,  0.2893, -0.5656],\n",
       "                        [-1.6105, -0.0648,  1.4361, -0.2247],\n",
       "                        [-1.3015,  1.0213, -0.4828,  1.3089],\n",
       "                        [ 1.1834,  0.3474,  0.2893, -0.5656],\n",
       "                        [-1.6105, -0.0648,  1.4361, -0.2247],\n",
       "                        [-1.3015,  1.0213, -0.4828,  1.3089],\n",
       "                        [ 1.1834,  0.3474,  0.2893, -0.5656]])"
      ]
     },
     "execution_count": 22,
     "metadata": {},
     "output_type": "execute_result"
    }
   ],
   "source": [
    "t_cat = FastTreeValue.func(subside=True)(torch.cat)\n",
    "\n",
    "t_cat(trees)"
   ]
  },
  {
   "cell_type": "code",
   "execution_count": 23,
   "id": "5e9c06a6",
   "metadata": {
    "execution": {
     "iopub.execute_input": "2023-03-06T11:11:41.618792Z",
     "iopub.status.busy": "2023-03-06T11:11:41.618318Z",
     "iopub.status.idle": "2023-03-06T11:11:44.130803Z",
     "shell.execute_reply": "2023-03-06T11:11:44.130068Z"
    }
   },
   "outputs": [
    {
     "name": "stdout",
     "output_type": "stream",
     "text": [
      "30.9 µs ± 38.7 ns per loop (mean ± std. dev. of 7 runs, 10,000 loops each)\n"
     ]
    }
   ],
   "source": [
    "%timeit t_cat(trees)"
   ]
  },
  {
   "cell_type": "code",
   "execution_count": 24,
   "id": "a3ab5c8f",
   "metadata": {
    "execution": {
     "iopub.execute_input": "2023-03-06T11:11:44.133685Z",
     "iopub.status.busy": "2023-03-06T11:11:44.133134Z",
     "iopub.status.idle": "2023-03-06T11:11:49.025135Z",
     "shell.execute_reply": "2023-03-06T11:11:49.024417Z"
    }
   },
   "outputs": [
    {
     "name": "stdout",
     "output_type": "stream",
     "text": [
      "60.2 µs ± 253 ns per loop (mean ± std. dev. of 7 runs, 10,000 loops each)\n"
     ]
    }
   ],
   "source": [
    "t_split = FastTreeValue.func(rise=True)(torch.split)\n",
    "tree = FastTreeValue({\n",
    "    'obs': torch.randn(8, 4, 84, 84),\n",
    "    'action': torch.randint(0, 6, size=(8, 1,)),\n",
    "    'reward': torch.rand(8, 1),\n",
    "})\n",
    "\n",
    "%timeit t_split(tree, 1)"
   ]
  },
  {
   "cell_type": "markdown",
   "id": "31c3ec0b",
   "metadata": {},
   "source": [
    "### Performance of Tianshou Batch"
   ]
  },
  {
   "cell_type": "code",
   "execution_count": 25,
   "id": "9ead828a",
   "metadata": {
    "execution": {
     "iopub.execute_input": "2023-03-06T11:11:49.028046Z",
     "iopub.status.busy": "2023-03-06T11:11:49.027689Z",
     "iopub.status.idle": "2023-03-06T11:11:49.036507Z",
     "shell.execute_reply": "2023-03-06T11:11:49.035902Z"
    }
   },
   "outputs": [
    {
     "data": {
      "text/plain": [
       "Batch(\n",
       "    a: tensor([[[ 1.7912, -1.6728, -0.5915],\n",
       "                [-0.4269, -1.1174, -0.4812]],\n",
       "       \n",
       "               [[ 1.7912, -1.6728, -0.5915],\n",
       "                [-0.4269, -1.1174, -0.4812]],\n",
       "       \n",
       "               [[ 1.7912, -1.6728, -0.5915],\n",
       "                [-0.4269, -1.1174, -0.4812]],\n",
       "       \n",
       "               [[ 1.7912, -1.6728, -0.5915],\n",
       "                [-0.4269, -1.1174, -0.4812]],\n",
       "       \n",
       "               [[ 1.7912, -1.6728, -0.5915],\n",
       "                [-0.4269, -1.1174, -0.4812]],\n",
       "       \n",
       "               [[ 1.7912, -1.6728, -0.5915],\n",
       "                [-0.4269, -1.1174, -0.4812]],\n",
       "       \n",
       "               [[ 1.7912, -1.6728, -0.5915],\n",
       "                [-0.4269, -1.1174, -0.4812]],\n",
       "       \n",
       "               [[ 1.7912, -1.6728, -0.5915],\n",
       "                [-0.4269, -1.1174, -0.4812]]]),\n",
       "    x: Batch(\n",
       "           c: tensor([[[-1.6105, -0.0648,  1.4361, -0.2247],\n",
       "                       [-1.3015,  1.0213, -0.4828,  1.3089],\n",
       "                       [ 1.1834,  0.3474,  0.2893, -0.5656]],\n",
       "              \n",
       "                      [[-1.6105, -0.0648,  1.4361, -0.2247],\n",
       "                       [-1.3015,  1.0213, -0.4828,  1.3089],\n",
       "                       [ 1.1834,  0.3474,  0.2893, -0.5656]],\n",
       "              \n",
       "                      [[-1.6105, -0.0648,  1.4361, -0.2247],\n",
       "                       [-1.3015,  1.0213, -0.4828,  1.3089],\n",
       "                       [ 1.1834,  0.3474,  0.2893, -0.5656]],\n",
       "              \n",
       "                      [[-1.6105, -0.0648,  1.4361, -0.2247],\n",
       "                       [-1.3015,  1.0213, -0.4828,  1.3089],\n",
       "                       [ 1.1834,  0.3474,  0.2893, -0.5656]],\n",
       "              \n",
       "                      [[-1.6105, -0.0648,  1.4361, -0.2247],\n",
       "                       [-1.3015,  1.0213, -0.4828,  1.3089],\n",
       "                       [ 1.1834,  0.3474,  0.2893, -0.5656]],\n",
       "              \n",
       "                      [[-1.6105, -0.0648,  1.4361, -0.2247],\n",
       "                       [-1.3015,  1.0213, -0.4828,  1.3089],\n",
       "                       [ 1.1834,  0.3474,  0.2893, -0.5656]],\n",
       "              \n",
       "                      [[-1.6105, -0.0648,  1.4361, -0.2247],\n",
       "                       [-1.3015,  1.0213, -0.4828,  1.3089],\n",
       "                       [ 1.1834,  0.3474,  0.2893, -0.5656]],\n",
       "              \n",
       "                      [[-1.6105, -0.0648,  1.4361, -0.2247],\n",
       "                       [-1.3015,  1.0213, -0.4828,  1.3089],\n",
       "                       [ 1.1834,  0.3474,  0.2893, -0.5656]]]),\n",
       "       ),\n",
       ")"
      ]
     },
     "execution_count": 25,
     "metadata": {},
     "output_type": "execute_result"
    }
   ],
   "source": [
    "batches = [Batch(**_TREE_DATA_2) for _ in range(8)]\n",
    "\n",
    "Batch.stack(batches)"
   ]
  },
  {
   "cell_type": "code",
   "execution_count": 26,
   "id": "ec9037a3",
   "metadata": {
    "execution": {
     "iopub.execute_input": "2023-03-06T11:11:49.039669Z",
     "iopub.status.busy": "2023-03-06T11:11:49.039040Z",
     "iopub.status.idle": "2023-03-06T11:11:55.455850Z",
     "shell.execute_reply": "2023-03-06T11:11:55.455126Z"
    }
   },
   "outputs": [
    {
     "name": "stdout",
     "output_type": "stream",
     "text": [
      "78.9 µs ± 131 ns per loop (mean ± std. dev. of 7 runs, 10,000 loops each)\n"
     ]
    }
   ],
   "source": [
    "%timeit Batch.stack(batches)"
   ]
  },
  {
   "cell_type": "code",
   "execution_count": 27,
   "id": "cb8ab77e",
   "metadata": {
    "execution": {
     "iopub.execute_input": "2023-03-06T11:11:55.458588Z",
     "iopub.status.busy": "2023-03-06T11:11:55.458253Z",
     "iopub.status.idle": "2023-03-06T11:11:55.465633Z",
     "shell.execute_reply": "2023-03-06T11:11:55.465061Z"
    }
   },
   "outputs": [
    {
     "data": {
      "text/plain": [
       "Batch(\n",
       "    a: tensor([[ 1.7912, -1.6728, -0.5915],\n",
       "               [-0.4269, -1.1174, -0.4812],\n",
       "               [ 1.7912, -1.6728, -0.5915],\n",
       "               [-0.4269, -1.1174, -0.4812],\n",
       "               [ 1.7912, -1.6728, -0.5915],\n",
       "               [-0.4269, -1.1174, -0.4812],\n",
       "               [ 1.7912, -1.6728, -0.5915],\n",
       "               [-0.4269, -1.1174, -0.4812],\n",
       "               [ 1.7912, -1.6728, -0.5915],\n",
       "               [-0.4269, -1.1174, -0.4812],\n",
       "               [ 1.7912, -1.6728, -0.5915],\n",
       "               [-0.4269, -1.1174, -0.4812],\n",
       "               [ 1.7912, -1.6728, -0.5915],\n",
       "               [-0.4269, -1.1174, -0.4812],\n",
       "               [ 1.7912, -1.6728, -0.5915],\n",
       "               [-0.4269, -1.1174, -0.4812]]),\n",
       "    x: Batch(\n",
       "           c: tensor([[-1.6105, -0.0648,  1.4361, -0.2247],\n",
       "                      [-1.3015,  1.0213, -0.4828,  1.3089],\n",
       "                      [ 1.1834,  0.3474,  0.2893, -0.5656],\n",
       "                      [-1.6105, -0.0648,  1.4361, -0.2247],\n",
       "                      [-1.3015,  1.0213, -0.4828,  1.3089],\n",
       "                      [ 1.1834,  0.3474,  0.2893, -0.5656],\n",
       "                      [-1.6105, -0.0648,  1.4361, -0.2247],\n",
       "                      [-1.3015,  1.0213, -0.4828,  1.3089],\n",
       "                      [ 1.1834,  0.3474,  0.2893, -0.5656],\n",
       "                      [-1.6105, -0.0648,  1.4361, -0.2247],\n",
       "                      [-1.3015,  1.0213, -0.4828,  1.3089],\n",
       "                      [ 1.1834,  0.3474,  0.2893, -0.5656],\n",
       "                      [-1.6105, -0.0648,  1.4361, -0.2247],\n",
       "                      [-1.3015,  1.0213, -0.4828,  1.3089],\n",
       "                      [ 1.1834,  0.3474,  0.2893, -0.5656],\n",
       "                      [-1.6105, -0.0648,  1.4361, -0.2247],\n",
       "                      [-1.3015,  1.0213, -0.4828,  1.3089],\n",
       "                      [ 1.1834,  0.3474,  0.2893, -0.5656],\n",
       "                      [-1.6105, -0.0648,  1.4361, -0.2247],\n",
       "                      [-1.3015,  1.0213, -0.4828,  1.3089],\n",
       "                      [ 1.1834,  0.3474,  0.2893, -0.5656],\n",
       "                      [-1.6105, -0.0648,  1.4361, -0.2247],\n",
       "                      [-1.3015,  1.0213, -0.4828,  1.3089],\n",
       "                      [ 1.1834,  0.3474,  0.2893, -0.5656]]),\n",
       "       ),\n",
       ")"
      ]
     },
     "execution_count": 27,
     "metadata": {},
     "output_type": "execute_result"
    }
   ],
   "source": [
    "Batch.cat(batches)"
   ]
  },
  {
   "cell_type": "code",
   "execution_count": 28,
   "id": "18dfb045",
   "metadata": {
    "execution": {
     "iopub.execute_input": "2023-03-06T11:11:55.468036Z",
     "iopub.status.busy": "2023-03-06T11:11:55.467711Z",
     "iopub.status.idle": "2023-03-06T11:12:07.232856Z",
     "shell.execute_reply": "2023-03-06T11:12:07.232138Z"
    }
   },
   "outputs": [
    {
     "name": "stdout",
     "output_type": "stream",
     "text": [
      "145 µs ± 345 ns per loop (mean ± std. dev. of 7 runs, 10,000 loops each)\n"
     ]
    }
   ],
   "source": [
    "%timeit Batch.cat(batches)"
   ]
  },
  {
   "cell_type": "code",
   "execution_count": 29,
   "id": "c6688e51",
   "metadata": {
    "execution": {
     "iopub.execute_input": "2023-03-06T11:12:07.235875Z",
     "iopub.status.busy": "2023-03-06T11:12:07.235343Z",
     "iopub.status.idle": "2023-03-06T11:12:09.755141Z",
     "shell.execute_reply": "2023-03-06T11:12:09.754445Z"
    }
   },
   "outputs": [
    {
     "name": "stdout",
     "output_type": "stream",
     "text": [
      "310 µs ± 2.49 µs per loop (mean ± std. dev. of 7 runs, 1,000 loops each)\n"
     ]
    }
   ],
   "source": [
    "batch = Batch({\n",
    "    'obs': torch.randn(8, 4, 84, 84),\n",
    "    'action': torch.randint(0, 6, size=(8, 1,)),\n",
    "    'reward': torch.rand(8, 1)}\n",
    ")\n",
    "\n",
    "%timeit list(Batch.split(batch, 1, shuffle=False, merge_last=True))"
   ]
  },
  {
   "cell_type": "code",
   "execution_count": null,
   "id": "2539fbd9",
   "metadata": {},
   "outputs": [],
   "source": []
  }
 ],
 "metadata": {
  "kernelspec": {
   "display_name": "Python 3 (ipykernel)",
   "language": "python",
   "name": "python3"
  },
  "language_info": {
   "codemirror_mode": {
    "name": "ipython",
    "version": 3
   },
   "file_extension": ".py",
   "mimetype": "text/x-python",
   "name": "python",
   "nbconvert_exporter": "python",
   "pygments_lexer": "ipython3",
   "version": "3.8.16"
  }
 },
 "nbformat": 4,
 "nbformat_minor": 5
}
