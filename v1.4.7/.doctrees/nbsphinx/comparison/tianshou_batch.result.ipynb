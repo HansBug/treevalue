{
 "cells": [
  {
   "cell_type": "markdown",
   "id": "9d39d946",
   "metadata": {},
   "source": [
    "# Comparison Between TreeValue and Tianshou Batch"
   ]
  },
  {
   "cell_type": "markdown",
   "id": "3c6db2d4",
   "metadata": {},
   "source": [
    "In this section, we will take a look at the feature and performance of the [Tianshou Batch](https://github.com/thu-ml/tianshou) library, which is developed by Tsinghua Machine Learning Group."
   ]
  },
  {
   "cell_type": "markdown",
   "id": "069361b0",
   "metadata": {},
   "source": [
    "Before starting the comparison, let us define some thing."
   ]
  },
  {
   "cell_type": "code",
   "execution_count": 1,
   "id": "06fc8d26",
   "metadata": {
    "execution": {
     "iopub.execute_input": "2023-03-06T18:20:17.823470Z",
     "iopub.status.busy": "2023-03-06T18:20:17.822724Z",
     "iopub.status.idle": "2023-03-06T18:20:18.797182Z",
     "shell.execute_reply": "2023-03-06T18:20:18.796413Z"
    }
   },
   "outputs": [
    {
     "name": "stderr",
     "output_type": "stream",
     "text": [
      "/opt/hostedtoolcache/Python/3.8.16/x64/lib/python3.8/site-packages/tqdm/auto.py:21: TqdmWarning: IProgress not found. Please update jupyter and ipywidgets. See https://ipywidgets.readthedocs.io/en/stable/user_install.html\n",
      "  from .autonotebook import tqdm as notebook_tqdm\n"
     ]
    }
   ],
   "source": [
    "import torch \n",
    "\n",
    "_TREE_DATA_1 = {'a': 1, 'b': 2, 'x': {'c': 3, 'd': 4}}\n",
    "_TREE_DATA_2 = {\n",
    "    'a': torch.randn(2, 3), \n",
    "    'x': {\n",
    "        'c': torch.randn(3, 4)\n",
    "    },\n",
    "}\n",
    "_TREE_DATA_3 = {\n",
    "    'obs': torch.randn(4, 84, 84),\n",
    "    'action': torch.randint(0, 6, size=(1,)),\n",
    "    'reward': torch.rand(1),\n",
    "}"
   ]
  },
  {
   "cell_type": "markdown",
   "id": "83461b25",
   "metadata": {},
   "source": [
    "## Read and Write Operation"
   ]
  },
  {
   "cell_type": "markdown",
   "id": "067b3f73",
   "metadata": {},
   "source": [
    "Reading and writing are the two most common operations in the tree data structure based on the data model (TreeValue and Tianshou Batch both belong to this type), so this section will compare the reading and writing performance of these two libraries."
   ]
  },
  {
   "cell_type": "markdown",
   "id": "5d09a5b7",
   "metadata": {},
   "source": [
    "### TreeValue's Get and Set"
   ]
  },
  {
   "cell_type": "code",
   "execution_count": 2,
   "id": "9519c4bb",
   "metadata": {
    "execution": {
     "iopub.execute_input": "2023-03-06T18:20:18.801326Z",
     "iopub.status.busy": "2023-03-06T18:20:18.800779Z",
     "iopub.status.idle": "2023-03-06T18:20:19.090684Z",
     "shell.execute_reply": "2023-03-06T18:20:19.089855Z"
    }
   },
   "outputs": [],
   "source": [
    "from treevalue import FastTreeValue\n",
    "\n",
    "t = FastTreeValue(_TREE_DATA_2)"
   ]
  },
  {
   "cell_type": "code",
   "execution_count": 3,
   "id": "11c37677",
   "metadata": {
    "execution": {
     "iopub.execute_input": "2023-03-06T18:20:19.094234Z",
     "iopub.status.busy": "2023-03-06T18:20:19.093892Z",
     "iopub.status.idle": "2023-03-06T18:20:19.103730Z",
     "shell.execute_reply": "2023-03-06T18:20:19.103098Z"
    }
   },
   "outputs": [
    {
     "data": {
      "text/plain": [
       "<FastTreeValue 0x7f89699722b0>\n",
       "├── 'a' --> tensor([[-1.3977,  0.9155, -0.3972],\n",
       "│                   [ 1.0971,  1.0379, -0.7297]])\n",
       "└── 'x' --> <FastTreeValue 0x7f8969972fa0>\n",
       "    └── 'c' --> tensor([[ 0.7228,  0.1475, -0.5103, -1.5172],\n",
       "                        [-1.1956, -0.6741,  0.7267, -0.9657],\n",
       "                        [ 0.3556,  0.1948, -0.1893,  0.2583]])"
      ]
     },
     "execution_count": 3,
     "metadata": {},
     "output_type": "execute_result"
    }
   ],
   "source": [
    "t"
   ]
  },
  {
   "cell_type": "code",
   "execution_count": 4,
   "id": "fd70b0b9",
   "metadata": {
    "execution": {
     "iopub.execute_input": "2023-03-06T18:20:19.106937Z",
     "iopub.status.busy": "2023-03-06T18:20:19.106409Z",
     "iopub.status.idle": "2023-03-06T18:20:19.112747Z",
     "shell.execute_reply": "2023-03-06T18:20:19.112011Z"
    }
   },
   "outputs": [
    {
     "data": {
      "text/plain": [
       "tensor([[-1.3977,  0.9155, -0.3972],\n",
       "        [ 1.0971,  1.0379, -0.7297]])"
      ]
     },
     "execution_count": 4,
     "metadata": {},
     "output_type": "execute_result"
    }
   ],
   "source": [
    "t.a"
   ]
  },
  {
   "cell_type": "code",
   "execution_count": 5,
   "id": "c18197bd",
   "metadata": {
    "execution": {
     "iopub.execute_input": "2023-03-06T18:20:19.115698Z",
     "iopub.status.busy": "2023-03-06T18:20:19.115352Z",
     "iopub.status.idle": "2023-03-06T18:20:24.299097Z",
     "shell.execute_reply": "2023-03-06T18:20:24.298165Z"
    }
   },
   "outputs": [
    {
     "name": "stdout",
     "output_type": "stream",
     "text": [
      "63.8 ns ± 0.135 ns per loop (mean ± std. dev. of 7 runs, 10,000,000 loops each)\n"
     ]
    }
   ],
   "source": [
    "%timeit t.a"
   ]
  },
  {
   "cell_type": "code",
   "execution_count": 6,
   "id": "bd52f867",
   "metadata": {
    "execution": {
     "iopub.execute_input": "2023-03-06T18:20:24.302675Z",
     "iopub.status.busy": "2023-03-06T18:20:24.301994Z",
     "iopub.status.idle": "2023-03-06T18:20:24.308182Z",
     "shell.execute_reply": "2023-03-06T18:20:24.307617Z"
    }
   },
   "outputs": [
    {
     "data": {
      "text/plain": [
       "<FastTreeValue 0x7f89699722b0>\n",
       "├── 'a' --> tensor([[-1.7069,  0.5678, -0.5544],\n",
       "│                   [-0.0411,  0.4777, -0.2856]])\n",
       "└── 'x' --> <FastTreeValue 0x7f8969972fa0>\n",
       "    └── 'c' --> tensor([[ 0.7228,  0.1475, -0.5103, -1.5172],\n",
       "                        [-1.1956, -0.6741,  0.7267, -0.9657],\n",
       "                        [ 0.3556,  0.1948, -0.1893,  0.2583]])"
      ]
     },
     "execution_count": 6,
     "metadata": {},
     "output_type": "execute_result"
    }
   ],
   "source": [
    "new_value = torch.randn(2, 3)\n",
    "t.a = new_value\n",
    "\n",
    "t"
   ]
  },
  {
   "cell_type": "code",
   "execution_count": 7,
   "id": "bbe04d1c",
   "metadata": {
    "execution": {
     "iopub.execute_input": "2023-03-06T18:20:24.310790Z",
     "iopub.status.busy": "2023-03-06T18:20:24.310340Z",
     "iopub.status.idle": "2023-03-06T18:20:29.969048Z",
     "shell.execute_reply": "2023-03-06T18:20:29.968123Z"
    }
   },
   "outputs": [
    {
     "name": "stdout",
     "output_type": "stream",
     "text": [
      "69.7 ns ± 0.0988 ns per loop (mean ± std. dev. of 7 runs, 10,000,000 loops each)\n"
     ]
    }
   ],
   "source": [
    "%timeit t.a = new_value"
   ]
  },
  {
   "cell_type": "markdown",
   "id": "48c49731",
   "metadata": {},
   "source": [
    "### Tianshou Batch's Get and Set"
   ]
  },
  {
   "cell_type": "code",
   "execution_count": 8,
   "id": "f1bb14c1",
   "metadata": {
    "execution": {
     "iopub.execute_input": "2023-03-06T18:20:29.972473Z",
     "iopub.status.busy": "2023-03-06T18:20:29.971946Z",
     "iopub.status.idle": "2023-03-06T18:20:30.346822Z",
     "shell.execute_reply": "2023-03-06T18:20:30.345995Z"
    }
   },
   "outputs": [],
   "source": [
    "from tianshou.data import Batch\n",
    "\n",
    "b = Batch(**_TREE_DATA_2)"
   ]
  },
  {
   "cell_type": "code",
   "execution_count": 9,
   "id": "cb0777c3",
   "metadata": {
    "execution": {
     "iopub.execute_input": "2023-03-06T18:20:30.351125Z",
     "iopub.status.busy": "2023-03-06T18:20:30.350546Z",
     "iopub.status.idle": "2023-03-06T18:20:30.357292Z",
     "shell.execute_reply": "2023-03-06T18:20:30.356697Z"
    }
   },
   "outputs": [
    {
     "data": {
      "text/plain": [
       "Batch(\n",
       "    a: tensor([[-1.3977,  0.9155, -0.3972],\n",
       "               [ 1.0971,  1.0379, -0.7297]]),\n",
       "    x: Batch(\n",
       "           c: tensor([[ 0.7228,  0.1475, -0.5103, -1.5172],\n",
       "                      [-1.1956, -0.6741,  0.7267, -0.9657],\n",
       "                      [ 0.3556,  0.1948, -0.1893,  0.2583]]),\n",
       "       ),\n",
       ")"
      ]
     },
     "execution_count": 9,
     "metadata": {},
     "output_type": "execute_result"
    }
   ],
   "source": [
    "b"
   ]
  },
  {
   "cell_type": "code",
   "execution_count": 10,
   "id": "43ef8ea3",
   "metadata": {
    "execution": {
     "iopub.execute_input": "2023-03-06T18:20:30.359958Z",
     "iopub.status.busy": "2023-03-06T18:20:30.359593Z",
     "iopub.status.idle": "2023-03-06T18:20:30.364850Z",
     "shell.execute_reply": "2023-03-06T18:20:30.364184Z"
    }
   },
   "outputs": [
    {
     "data": {
      "text/plain": [
       "tensor([[-1.3977,  0.9155, -0.3972],\n",
       "        [ 1.0971,  1.0379, -0.7297]])"
      ]
     },
     "execution_count": 10,
     "metadata": {},
     "output_type": "execute_result"
    }
   ],
   "source": [
    "b.a"
   ]
  },
  {
   "cell_type": "code",
   "execution_count": 11,
   "id": "b785ab72",
   "metadata": {
    "execution": {
     "iopub.execute_input": "2023-03-06T18:20:30.367618Z",
     "iopub.status.busy": "2023-03-06T18:20:30.367261Z",
     "iopub.status.idle": "2023-03-06T18:20:35.174384Z",
     "shell.execute_reply": "2023-03-06T18:20:35.173142Z"
    }
   },
   "outputs": [
    {
     "name": "stdout",
     "output_type": "stream",
     "text": [
      "59.2 ns ± 0.0667 ns per loop (mean ± std. dev. of 7 runs, 10,000,000 loops each)\n"
     ]
    }
   ],
   "source": [
    "%timeit b.a"
   ]
  },
  {
   "cell_type": "code",
   "execution_count": 12,
   "id": "ad54dc69",
   "metadata": {
    "execution": {
     "iopub.execute_input": "2023-03-06T18:20:35.177985Z",
     "iopub.status.busy": "2023-03-06T18:20:35.177483Z",
     "iopub.status.idle": "2023-03-06T18:20:35.184388Z",
     "shell.execute_reply": "2023-03-06T18:20:35.183769Z"
    }
   },
   "outputs": [
    {
     "data": {
      "text/plain": [
       "Batch(\n",
       "    a: tensor([[ 1.0654, -0.4045,  0.8025],\n",
       "               [ 0.5815,  0.3411,  2.7741]]),\n",
       "    x: Batch(\n",
       "           c: tensor([[ 0.7228,  0.1475, -0.5103, -1.5172],\n",
       "                      [-1.1956, -0.6741,  0.7267, -0.9657],\n",
       "                      [ 0.3556,  0.1948, -0.1893,  0.2583]]),\n",
       "       ),\n",
       ")"
      ]
     },
     "execution_count": 12,
     "metadata": {},
     "output_type": "execute_result"
    }
   ],
   "source": [
    "new_value = torch.randn(2, 3)\n",
    "b.a = new_value\n",
    "\n",
    "b"
   ]
  },
  {
   "cell_type": "code",
   "execution_count": 13,
   "id": "29b1d0bf",
   "metadata": {
    "execution": {
     "iopub.execute_input": "2023-03-06T18:20:35.187331Z",
     "iopub.status.busy": "2023-03-06T18:20:35.186721Z",
     "iopub.status.idle": "2023-03-06T18:20:39.214711Z",
     "shell.execute_reply": "2023-03-06T18:20:39.213809Z"
    }
   },
   "outputs": [
    {
     "name": "stdout",
     "output_type": "stream",
     "text": [
      "496 ns ± 0.0928 ns per loop (mean ± std. dev. of 7 runs, 1,000,000 loops each)\n"
     ]
    }
   ],
   "source": [
    "%timeit b.a = new_value"
   ]
  },
  {
   "cell_type": "markdown",
   "id": "b61ad1d0",
   "metadata": {},
   "source": [
    "## Initialization"
   ]
  },
  {
   "cell_type": "markdown",
   "id": "d70f0d54",
   "metadata": {},
   "source": [
    "### TreeValue's Initialization"
   ]
  },
  {
   "cell_type": "code",
   "execution_count": 14,
   "id": "d32a679b",
   "metadata": {
    "execution": {
     "iopub.execute_input": "2023-03-06T18:20:39.218307Z",
     "iopub.status.busy": "2023-03-06T18:20:39.217951Z",
     "iopub.status.idle": "2023-03-06T18:20:46.058550Z",
     "shell.execute_reply": "2023-03-06T18:20:46.057784Z"
    }
   },
   "outputs": [
    {
     "name": "stdout",
     "output_type": "stream",
     "text": [
      "841 ns ± 1.3 ns per loop (mean ± std. dev. of 7 runs, 1,000,000 loops each)\n"
     ]
    }
   ],
   "source": [
    "%timeit FastTreeValue(_TREE_DATA_1)"
   ]
  },
  {
   "cell_type": "markdown",
   "id": "24f3707b",
   "metadata": {},
   "source": [
    "### Tianshou Batch's Initialization"
   ]
  },
  {
   "cell_type": "code",
   "execution_count": 15,
   "id": "ac3958df",
   "metadata": {
    "execution": {
     "iopub.execute_input": "2023-03-06T18:20:46.062577Z",
     "iopub.status.busy": "2023-03-06T18:20:46.061797Z",
     "iopub.status.idle": "2023-03-06T18:20:54.912625Z",
     "shell.execute_reply": "2023-03-06T18:20:54.911712Z"
    }
   },
   "outputs": [
    {
     "name": "stdout",
     "output_type": "stream",
     "text": [
      "10.9 µs ± 32.8 ns per loop (mean ± std. dev. of 7 runs, 100,000 loops each)\n"
     ]
    }
   ],
   "source": [
    "%timeit Batch(**_TREE_DATA_1)"
   ]
  },
  {
   "cell_type": "markdown",
   "id": "1ab82e2d",
   "metadata": {},
   "source": [
    "## Deep Copy Operation"
   ]
  },
  {
   "cell_type": "code",
   "execution_count": 16,
   "id": "210a9442",
   "metadata": {
    "execution": {
     "iopub.execute_input": "2023-03-06T18:20:54.916174Z",
     "iopub.status.busy": "2023-03-06T18:20:54.915534Z",
     "iopub.status.idle": "2023-03-06T18:20:54.920035Z",
     "shell.execute_reply": "2023-03-06T18:20:54.919084Z"
    }
   },
   "outputs": [],
   "source": [
    "import copy"
   ]
  },
  {
   "cell_type": "markdown",
   "id": "5a736274",
   "metadata": {},
   "source": [
    "### Deep Copy of TreeValue"
   ]
  },
  {
   "cell_type": "code",
   "execution_count": 17,
   "id": "f9bcadd6",
   "metadata": {
    "execution": {
     "iopub.execute_input": "2023-03-06T18:20:54.923134Z",
     "iopub.status.busy": "2023-03-06T18:20:54.922491Z",
     "iopub.status.idle": "2023-03-06T18:21:06.664390Z",
     "shell.execute_reply": "2023-03-06T18:21:06.663724Z"
    }
   },
   "outputs": [
    {
     "name": "stdout",
     "output_type": "stream",
     "text": [
      "145 µs ± 1.61 µs per loop (mean ± std. dev. of 7 runs, 10,000 loops each)\n"
     ]
    }
   ],
   "source": [
    "t3 = FastTreeValue(_TREE_DATA_3)\n",
    "%timeit copy.deepcopy(t3)"
   ]
  },
  {
   "cell_type": "markdown",
   "id": "bf8be7ea",
   "metadata": {},
   "source": [
    "### Deep Copy of Tianshou Batch"
   ]
  },
  {
   "cell_type": "code",
   "execution_count": 18,
   "id": "91998e6f",
   "metadata": {
    "execution": {
     "iopub.execute_input": "2023-03-06T18:21:06.667588Z",
     "iopub.status.busy": "2023-03-06T18:21:06.666982Z",
     "iopub.status.idle": "2023-03-06T18:21:18.233755Z",
     "shell.execute_reply": "2023-03-06T18:21:18.233067Z"
    }
   },
   "outputs": [
    {
     "name": "stdout",
     "output_type": "stream",
     "text": [
      "142 µs ± 1.28 µs per loop (mean ± std. dev. of 7 runs, 10,000 loops each)\n"
     ]
    }
   ],
   "source": [
    "b3 = Batch(**_TREE_DATA_3)\n",
    "%timeit copy.deepcopy(b3)"
   ]
  },
  {
   "cell_type": "markdown",
   "id": "223162fb",
   "metadata": {},
   "source": [
    "## Stack, Concat and Split Operation"
   ]
  },
  {
   "cell_type": "markdown",
   "id": "85fa4a73",
   "metadata": {},
   "source": [
    "### Performance of TreeValue"
   ]
  },
  {
   "cell_type": "code",
   "execution_count": 19,
   "id": "a0c2b697",
   "metadata": {
    "execution": {
     "iopub.execute_input": "2023-03-06T18:21:18.236988Z",
     "iopub.status.busy": "2023-03-06T18:21:18.236538Z",
     "iopub.status.idle": "2023-03-06T18:21:18.240257Z",
     "shell.execute_reply": "2023-03-06T18:21:18.239673Z"
    }
   },
   "outputs": [],
   "source": [
    "trees = [FastTreeValue(_TREE_DATA_2) for _ in range(8)]"
   ]
  },
  {
   "cell_type": "code",
   "execution_count": 20,
   "id": "017ea5a5",
   "metadata": {
    "execution": {
     "iopub.execute_input": "2023-03-06T18:21:18.243074Z",
     "iopub.status.busy": "2023-03-06T18:21:18.242491Z",
     "iopub.status.idle": "2023-03-06T18:21:18.249961Z",
     "shell.execute_reply": "2023-03-06T18:21:18.249407Z"
    }
   },
   "outputs": [
    {
     "data": {
      "text/plain": [
       "<FastTreeValue 0x7f88b01dac10>\n",
       "├── 'a' --> tensor([[[-1.3977,  0.9155, -0.3972],\n",
       "│                    [ 1.0971,  1.0379, -0.7297]],\n",
       "│           \n",
       "│                   [[-1.3977,  0.9155, -0.3972],\n",
       "│                    [ 1.0971,  1.0379, -0.7297]],\n",
       "│           \n",
       "│                   [[-1.3977,  0.9155, -0.3972],\n",
       "│                    [ 1.0971,  1.0379, -0.7297]],\n",
       "│           \n",
       "│                   [[-1.3977,  0.9155, -0.3972],\n",
       "│                    [ 1.0971,  1.0379, -0.7297]],\n",
       "│           \n",
       "│                   [[-1.3977,  0.9155, -0.3972],\n",
       "│                    [ 1.0971,  1.0379, -0.7297]],\n",
       "│           \n",
       "│                   [[-1.3977,  0.9155, -0.3972],\n",
       "│                    [ 1.0971,  1.0379, -0.7297]],\n",
       "│           \n",
       "│                   [[-1.3977,  0.9155, -0.3972],\n",
       "│                    [ 1.0971,  1.0379, -0.7297]],\n",
       "│           \n",
       "│                   [[-1.3977,  0.9155, -0.3972],\n",
       "│                    [ 1.0971,  1.0379, -0.7297]]])\n",
       "└── 'x' --> <FastTreeValue 0x7f88b680cdc0>\n",
       "    └── 'c' --> tensor([[[ 0.7228,  0.1475, -0.5103, -1.5172],\n",
       "                         [-1.1956, -0.6741,  0.7267, -0.9657],\n",
       "                         [ 0.3556,  0.1948, -0.1893,  0.2583]],\n",
       "                \n",
       "                        [[ 0.7228,  0.1475, -0.5103, -1.5172],\n",
       "                         [-1.1956, -0.6741,  0.7267, -0.9657],\n",
       "                         [ 0.3556,  0.1948, -0.1893,  0.2583]],\n",
       "                \n",
       "                        [[ 0.7228,  0.1475, -0.5103, -1.5172],\n",
       "                         [-1.1956, -0.6741,  0.7267, -0.9657],\n",
       "                         [ 0.3556,  0.1948, -0.1893,  0.2583]],\n",
       "                \n",
       "                        [[ 0.7228,  0.1475, -0.5103, -1.5172],\n",
       "                         [-1.1956, -0.6741,  0.7267, -0.9657],\n",
       "                         [ 0.3556,  0.1948, -0.1893,  0.2583]],\n",
       "                \n",
       "                        [[ 0.7228,  0.1475, -0.5103, -1.5172],\n",
       "                         [-1.1956, -0.6741,  0.7267, -0.9657],\n",
       "                         [ 0.3556,  0.1948, -0.1893,  0.2583]],\n",
       "                \n",
       "                        [[ 0.7228,  0.1475, -0.5103, -1.5172],\n",
       "                         [-1.1956, -0.6741,  0.7267, -0.9657],\n",
       "                         [ 0.3556,  0.1948, -0.1893,  0.2583]],\n",
       "                \n",
       "                        [[ 0.7228,  0.1475, -0.5103, -1.5172],\n",
       "                         [-1.1956, -0.6741,  0.7267, -0.9657],\n",
       "                         [ 0.3556,  0.1948, -0.1893,  0.2583]],\n",
       "                \n",
       "                        [[ 0.7228,  0.1475, -0.5103, -1.5172],\n",
       "                         [-1.1956, -0.6741,  0.7267, -0.9657],\n",
       "                         [ 0.3556,  0.1948, -0.1893,  0.2583]]])"
      ]
     },
     "execution_count": 20,
     "metadata": {},
     "output_type": "execute_result"
    }
   ],
   "source": [
    "t_stack = FastTreeValue.func(subside=True)(torch.stack)\n",
    "\n",
    "t_stack(trees)"
   ]
  },
  {
   "cell_type": "code",
   "execution_count": 21,
   "id": "f8b3f415",
   "metadata": {
    "execution": {
     "iopub.execute_input": "2023-03-06T18:21:18.252643Z",
     "iopub.status.busy": "2023-03-06T18:21:18.252089Z",
     "iopub.status.idle": "2023-03-06T18:21:20.857605Z",
     "shell.execute_reply": "2023-03-06T18:21:20.856732Z"
    }
   },
   "outputs": [
    {
     "name": "stdout",
     "output_type": "stream",
     "text": [
      "32 µs ± 66.5 ns per loop (mean ± std. dev. of 7 runs, 10,000 loops each)\n"
     ]
    }
   ],
   "source": [
    "%timeit t_stack(trees)"
   ]
  },
  {
   "cell_type": "code",
   "execution_count": 22,
   "id": "94b56771",
   "metadata": {
    "execution": {
     "iopub.execute_input": "2023-03-06T18:21:20.861268Z",
     "iopub.status.busy": "2023-03-06T18:21:20.860788Z",
     "iopub.status.idle": "2023-03-06T18:21:20.870405Z",
     "shell.execute_reply": "2023-03-06T18:21:20.869759Z"
    }
   },
   "outputs": [
    {
     "data": {
      "text/plain": [
       "<FastTreeValue 0x7f88afbabd90>\n",
       "├── 'a' --> tensor([[-1.3977,  0.9155, -0.3972],\n",
       "│                   [ 1.0971,  1.0379, -0.7297],\n",
       "│                   [-1.3977,  0.9155, -0.3972],\n",
       "│                   [ 1.0971,  1.0379, -0.7297],\n",
       "│                   [-1.3977,  0.9155, -0.3972],\n",
       "│                   [ 1.0971,  1.0379, -0.7297],\n",
       "│                   [-1.3977,  0.9155, -0.3972],\n",
       "│                   [ 1.0971,  1.0379, -0.7297],\n",
       "│                   [-1.3977,  0.9155, -0.3972],\n",
       "│                   [ 1.0971,  1.0379, -0.7297],\n",
       "│                   [-1.3977,  0.9155, -0.3972],\n",
       "│                   [ 1.0971,  1.0379, -0.7297],\n",
       "│                   [-1.3977,  0.9155, -0.3972],\n",
       "│                   [ 1.0971,  1.0379, -0.7297],\n",
       "│                   [-1.3977,  0.9155, -0.3972],\n",
       "│                   [ 1.0971,  1.0379, -0.7297]])\n",
       "└── 'x' --> <FastTreeValue 0x7f8937fcc0a0>\n",
       "    └── 'c' --> tensor([[ 0.7228,  0.1475, -0.5103, -1.5172],\n",
       "                        [-1.1956, -0.6741,  0.7267, -0.9657],\n",
       "                        [ 0.3556,  0.1948, -0.1893,  0.2583],\n",
       "                        [ 0.7228,  0.1475, -0.5103, -1.5172],\n",
       "                        [-1.1956, -0.6741,  0.7267, -0.9657],\n",
       "                        [ 0.3556,  0.1948, -0.1893,  0.2583],\n",
       "                        [ 0.7228,  0.1475, -0.5103, -1.5172],\n",
       "                        [-1.1956, -0.6741,  0.7267, -0.9657],\n",
       "                        [ 0.3556,  0.1948, -0.1893,  0.2583],\n",
       "                        [ 0.7228,  0.1475, -0.5103, -1.5172],\n",
       "                        [-1.1956, -0.6741,  0.7267, -0.9657],\n",
       "                        [ 0.3556,  0.1948, -0.1893,  0.2583],\n",
       "                        [ 0.7228,  0.1475, -0.5103, -1.5172],\n",
       "                        [-1.1956, -0.6741,  0.7267, -0.9657],\n",
       "                        [ 0.3556,  0.1948, -0.1893,  0.2583],\n",
       "                        [ 0.7228,  0.1475, -0.5103, -1.5172],\n",
       "                        [-1.1956, -0.6741,  0.7267, -0.9657],\n",
       "                        [ 0.3556,  0.1948, -0.1893,  0.2583],\n",
       "                        [ 0.7228,  0.1475, -0.5103, -1.5172],\n",
       "                        [-1.1956, -0.6741,  0.7267, -0.9657],\n",
       "                        [ 0.3556,  0.1948, -0.1893,  0.2583],\n",
       "                        [ 0.7228,  0.1475, -0.5103, -1.5172],\n",
       "                        [-1.1956, -0.6741,  0.7267, -0.9657],\n",
       "                        [ 0.3556,  0.1948, -0.1893,  0.2583]])"
      ]
     },
     "execution_count": 22,
     "metadata": {},
     "output_type": "execute_result"
    }
   ],
   "source": [
    "t_cat = FastTreeValue.func(subside=True)(torch.cat)\n",
    "\n",
    "t_cat(trees)"
   ]
  },
  {
   "cell_type": "code",
   "execution_count": 23,
   "id": "5e9c06a6",
   "metadata": {
    "execution": {
     "iopub.execute_input": "2023-03-06T18:21:20.873386Z",
     "iopub.status.busy": "2023-03-06T18:21:20.873036Z",
     "iopub.status.idle": "2023-03-06T18:21:23.334700Z",
     "shell.execute_reply": "2023-03-06T18:21:23.333815Z"
    }
   },
   "outputs": [
    {
     "name": "stdout",
     "output_type": "stream",
     "text": [
      "30.2 µs ± 61.3 ns per loop (mean ± std. dev. of 7 runs, 10,000 loops each)\n"
     ]
    }
   ],
   "source": [
    "%timeit t_cat(trees)"
   ]
  },
  {
   "cell_type": "code",
   "execution_count": 24,
   "id": "a3ab5c8f",
   "metadata": {
    "execution": {
     "iopub.execute_input": "2023-03-06T18:21:23.338248Z",
     "iopub.status.busy": "2023-03-06T18:21:23.337821Z",
     "iopub.status.idle": "2023-03-06T18:21:28.029132Z",
     "shell.execute_reply": "2023-03-06T18:21:28.027941Z"
    }
   },
   "outputs": [
    {
     "name": "stdout",
     "output_type": "stream",
     "text": [
      "57.7 µs ± 197 ns per loop (mean ± std. dev. of 7 runs, 10,000 loops each)\n"
     ]
    }
   ],
   "source": [
    "t_split = FastTreeValue.func(rise=True)(torch.split)\n",
    "tree = FastTreeValue({\n",
    "    'obs': torch.randn(8, 4, 84, 84),\n",
    "    'action': torch.randint(0, 6, size=(8, 1,)),\n",
    "    'reward': torch.rand(8, 1),\n",
    "})\n",
    "\n",
    "%timeit t_split(tree, 1)"
   ]
  },
  {
   "cell_type": "markdown",
   "id": "31c3ec0b",
   "metadata": {},
   "source": [
    "### Performance of Tianshou Batch"
   ]
  },
  {
   "cell_type": "code",
   "execution_count": 25,
   "id": "9ead828a",
   "metadata": {
    "execution": {
     "iopub.execute_input": "2023-03-06T18:21:28.032892Z",
     "iopub.status.busy": "2023-03-06T18:21:28.032119Z",
     "iopub.status.idle": "2023-03-06T18:21:28.041493Z",
     "shell.execute_reply": "2023-03-06T18:21:28.040775Z"
    }
   },
   "outputs": [
    {
     "data": {
      "text/plain": [
       "Batch(\n",
       "    x: Batch(\n",
       "           c: tensor([[[ 0.7228,  0.1475, -0.5103, -1.5172],\n",
       "                       [-1.1956, -0.6741,  0.7267, -0.9657],\n",
       "                       [ 0.3556,  0.1948, -0.1893,  0.2583]],\n",
       "              \n",
       "                      [[ 0.7228,  0.1475, -0.5103, -1.5172],\n",
       "                       [-1.1956, -0.6741,  0.7267, -0.9657],\n",
       "                       [ 0.3556,  0.1948, -0.1893,  0.2583]],\n",
       "              \n",
       "                      [[ 0.7228,  0.1475, -0.5103, -1.5172],\n",
       "                       [-1.1956, -0.6741,  0.7267, -0.9657],\n",
       "                       [ 0.3556,  0.1948, -0.1893,  0.2583]],\n",
       "              \n",
       "                      [[ 0.7228,  0.1475, -0.5103, -1.5172],\n",
       "                       [-1.1956, -0.6741,  0.7267, -0.9657],\n",
       "                       [ 0.3556,  0.1948, -0.1893,  0.2583]],\n",
       "              \n",
       "                      [[ 0.7228,  0.1475, -0.5103, -1.5172],\n",
       "                       [-1.1956, -0.6741,  0.7267, -0.9657],\n",
       "                       [ 0.3556,  0.1948, -0.1893,  0.2583]],\n",
       "              \n",
       "                      [[ 0.7228,  0.1475, -0.5103, -1.5172],\n",
       "                       [-1.1956, -0.6741,  0.7267, -0.9657],\n",
       "                       [ 0.3556,  0.1948, -0.1893,  0.2583]],\n",
       "              \n",
       "                      [[ 0.7228,  0.1475, -0.5103, -1.5172],\n",
       "                       [-1.1956, -0.6741,  0.7267, -0.9657],\n",
       "                       [ 0.3556,  0.1948, -0.1893,  0.2583]],\n",
       "              \n",
       "                      [[ 0.7228,  0.1475, -0.5103, -1.5172],\n",
       "                       [-1.1956, -0.6741,  0.7267, -0.9657],\n",
       "                       [ 0.3556,  0.1948, -0.1893,  0.2583]]]),\n",
       "       ),\n",
       "    a: tensor([[[-1.3977,  0.9155, -0.3972],\n",
       "                [ 1.0971,  1.0379, -0.7297]],\n",
       "       \n",
       "               [[-1.3977,  0.9155, -0.3972],\n",
       "                [ 1.0971,  1.0379, -0.7297]],\n",
       "       \n",
       "               [[-1.3977,  0.9155, -0.3972],\n",
       "                [ 1.0971,  1.0379, -0.7297]],\n",
       "       \n",
       "               [[-1.3977,  0.9155, -0.3972],\n",
       "                [ 1.0971,  1.0379, -0.7297]],\n",
       "       \n",
       "               [[-1.3977,  0.9155, -0.3972],\n",
       "                [ 1.0971,  1.0379, -0.7297]],\n",
       "       \n",
       "               [[-1.3977,  0.9155, -0.3972],\n",
       "                [ 1.0971,  1.0379, -0.7297]],\n",
       "       \n",
       "               [[-1.3977,  0.9155, -0.3972],\n",
       "                [ 1.0971,  1.0379, -0.7297]],\n",
       "       \n",
       "               [[-1.3977,  0.9155, -0.3972],\n",
       "                [ 1.0971,  1.0379, -0.7297]]]),\n",
       ")"
      ]
     },
     "execution_count": 25,
     "metadata": {},
     "output_type": "execute_result"
    }
   ],
   "source": [
    "batches = [Batch(**_TREE_DATA_2) for _ in range(8)]\n",
    "\n",
    "Batch.stack(batches)"
   ]
  },
  {
   "cell_type": "code",
   "execution_count": 26,
   "id": "ec9037a3",
   "metadata": {
    "execution": {
     "iopub.execute_input": "2023-03-06T18:21:28.044814Z",
     "iopub.status.busy": "2023-03-06T18:21:28.044228Z",
     "iopub.status.idle": "2023-03-06T18:21:34.502932Z",
     "shell.execute_reply": "2023-03-06T18:21:34.502043Z"
    }
   },
   "outputs": [
    {
     "name": "stdout",
     "output_type": "stream",
     "text": [
      "79.5 µs ± 177 ns per loop (mean ± std. dev. of 7 runs, 10,000 loops each)\n"
     ]
    }
   ],
   "source": [
    "%timeit Batch.stack(batches)"
   ]
  },
  {
   "cell_type": "code",
   "execution_count": 27,
   "id": "cb8ab77e",
   "metadata": {
    "execution": {
     "iopub.execute_input": "2023-03-06T18:21:34.506786Z",
     "iopub.status.busy": "2023-03-06T18:21:34.506387Z",
     "iopub.status.idle": "2023-03-06T18:21:34.515156Z",
     "shell.execute_reply": "2023-03-06T18:21:34.514466Z"
    }
   },
   "outputs": [
    {
     "data": {
      "text/plain": [
       "Batch(\n",
       "    x: Batch(\n",
       "           c: tensor([[ 0.7228,  0.1475, -0.5103, -1.5172],\n",
       "                      [-1.1956, -0.6741,  0.7267, -0.9657],\n",
       "                      [ 0.3556,  0.1948, -0.1893,  0.2583],\n",
       "                      [ 0.7228,  0.1475, -0.5103, -1.5172],\n",
       "                      [-1.1956, -0.6741,  0.7267, -0.9657],\n",
       "                      [ 0.3556,  0.1948, -0.1893,  0.2583],\n",
       "                      [ 0.7228,  0.1475, -0.5103, -1.5172],\n",
       "                      [-1.1956, -0.6741,  0.7267, -0.9657],\n",
       "                      [ 0.3556,  0.1948, -0.1893,  0.2583],\n",
       "                      [ 0.7228,  0.1475, -0.5103, -1.5172],\n",
       "                      [-1.1956, -0.6741,  0.7267, -0.9657],\n",
       "                      [ 0.3556,  0.1948, -0.1893,  0.2583],\n",
       "                      [ 0.7228,  0.1475, -0.5103, -1.5172],\n",
       "                      [-1.1956, -0.6741,  0.7267, -0.9657],\n",
       "                      [ 0.3556,  0.1948, -0.1893,  0.2583],\n",
       "                      [ 0.7228,  0.1475, -0.5103, -1.5172],\n",
       "                      [-1.1956, -0.6741,  0.7267, -0.9657],\n",
       "                      [ 0.3556,  0.1948, -0.1893,  0.2583],\n",
       "                      [ 0.7228,  0.1475, -0.5103, -1.5172],\n",
       "                      [-1.1956, -0.6741,  0.7267, -0.9657],\n",
       "                      [ 0.3556,  0.1948, -0.1893,  0.2583],\n",
       "                      [ 0.7228,  0.1475, -0.5103, -1.5172],\n",
       "                      [-1.1956, -0.6741,  0.7267, -0.9657],\n",
       "                      [ 0.3556,  0.1948, -0.1893,  0.2583]]),\n",
       "       ),\n",
       "    a: tensor([[-1.3977,  0.9155, -0.3972],\n",
       "               [ 1.0971,  1.0379, -0.7297],\n",
       "               [-1.3977,  0.9155, -0.3972],\n",
       "               [ 1.0971,  1.0379, -0.7297],\n",
       "               [-1.3977,  0.9155, -0.3972],\n",
       "               [ 1.0971,  1.0379, -0.7297],\n",
       "               [-1.3977,  0.9155, -0.3972],\n",
       "               [ 1.0971,  1.0379, -0.7297],\n",
       "               [-1.3977,  0.9155, -0.3972],\n",
       "               [ 1.0971,  1.0379, -0.7297],\n",
       "               [-1.3977,  0.9155, -0.3972],\n",
       "               [ 1.0971,  1.0379, -0.7297],\n",
       "               [-1.3977,  0.9155, -0.3972],\n",
       "               [ 1.0971,  1.0379, -0.7297],\n",
       "               [-1.3977,  0.9155, -0.3972],\n",
       "               [ 1.0971,  1.0379, -0.7297]]),\n",
       ")"
      ]
     },
     "execution_count": 27,
     "metadata": {},
     "output_type": "execute_result"
    }
   ],
   "source": [
    "Batch.cat(batches)"
   ]
  },
  {
   "cell_type": "code",
   "execution_count": 28,
   "id": "18dfb045",
   "metadata": {
    "execution": {
     "iopub.execute_input": "2023-03-06T18:21:34.518123Z",
     "iopub.status.busy": "2023-03-06T18:21:34.517668Z",
     "iopub.status.idle": "2023-03-06T18:21:46.210857Z",
     "shell.execute_reply": "2023-03-06T18:21:46.210013Z"
    }
   },
   "outputs": [
    {
     "name": "stdout",
     "output_type": "stream",
     "text": [
      "144 µs ± 384 ns per loop (mean ± std. dev. of 7 runs, 10,000 loops each)\n"
     ]
    }
   ],
   "source": [
    "%timeit Batch.cat(batches)"
   ]
  },
  {
   "cell_type": "code",
   "execution_count": 29,
   "id": "c6688e51",
   "metadata": {
    "execution": {
     "iopub.execute_input": "2023-03-06T18:21:46.214501Z",
     "iopub.status.busy": "2023-03-06T18:21:46.213832Z",
     "iopub.status.idle": "2023-03-06T18:21:48.950029Z",
     "shell.execute_reply": "2023-03-06T18:21:48.949386Z"
    }
   },
   "outputs": [
    {
     "name": "stdout",
     "output_type": "stream",
     "text": [
      "336 µs ± 2.44 µs per loop (mean ± std. dev. of 7 runs, 1,000 loops each)\n"
     ]
    }
   ],
   "source": [
    "batch = Batch({\n",
    "    'obs': torch.randn(8, 4, 84, 84),\n",
    "    'action': torch.randint(0, 6, size=(8, 1,)),\n",
    "    'reward': torch.rand(8, 1)}\n",
    ")\n",
    "\n",
    "%timeit list(Batch.split(batch, 1, shuffle=False, merge_last=True))"
   ]
  },
  {
   "cell_type": "code",
   "execution_count": null,
   "id": "2539fbd9",
   "metadata": {},
   "outputs": [],
   "source": []
  }
 ],
 "metadata": {
  "kernelspec": {
   "display_name": "Python 3 (ipykernel)",
   "language": "python",
   "name": "python3"
  },
  "language_info": {
   "codemirror_mode": {
    "name": "ipython",
    "version": 3
   },
   "file_extension": ".py",
   "mimetype": "text/x-python",
   "name": "python",
   "nbconvert_exporter": "python",
   "pygments_lexer": "ipython3",
   "version": "3.8.16"
  }
 },
 "nbformat": 4,
 "nbformat_minor": 5
}
