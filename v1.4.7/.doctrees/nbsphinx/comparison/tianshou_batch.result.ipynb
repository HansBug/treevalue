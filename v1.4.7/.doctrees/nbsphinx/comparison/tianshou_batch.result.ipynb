{
 "cells": [
  {
   "cell_type": "markdown",
   "id": "9d39d946",
   "metadata": {},
   "source": [
    "# Comparison Between TreeValue and Tianshou Batch"
   ]
  },
  {
   "cell_type": "markdown",
   "id": "3c6db2d4",
   "metadata": {},
   "source": [
    "In this section, we will take a look at the feature and performance of the [Tianshou Batch](https://github.com/thu-ml/tianshou) library, which is developed by Tsinghua Machine Learning Group."
   ]
  },
  {
   "cell_type": "markdown",
   "id": "069361b0",
   "metadata": {},
   "source": [
    "Before starting the comparison, let us define some thing."
   ]
  },
  {
   "cell_type": "code",
   "execution_count": 1,
   "id": "06fc8d26",
   "metadata": {
    "execution": {
     "iopub.execute_input": "2023-10-20T07:34:34.876099Z",
     "iopub.status.busy": "2023-10-20T07:34:34.875809Z",
     "iopub.status.idle": "2023-10-20T07:34:37.176570Z",
     "shell.execute_reply": "2023-10-20T07:34:37.174927Z"
    }
   },
   "outputs": [],
   "source": [
    "import torch \n",
    "\n",
    "_TREE_DATA_1 = {'a': 1, 'b': 2, 'x': {'c': 3, 'd': 4}}\n",
    "_TREE_DATA_2 = {\n",
    "    'a': torch.randn(2, 3), \n",
    "    'x': {\n",
    "        'c': torch.randn(3, 4)\n",
    "    },\n",
    "}\n",
    "_TREE_DATA_3 = {\n",
    "    'obs': torch.randn(4, 84, 84),\n",
    "    'action': torch.randint(0, 6, size=(1,)),\n",
    "    'reward': torch.rand(1),\n",
    "}"
   ]
  },
  {
   "cell_type": "markdown",
   "id": "83461b25",
   "metadata": {},
   "source": [
    "## Read and Write Operation"
   ]
  },
  {
   "cell_type": "markdown",
   "id": "067b3f73",
   "metadata": {},
   "source": [
    "Reading and writing are the two most common operations in the tree data structure based on the data model (TreeValue and Tianshou Batch both belong to this type), so this section will compare the reading and writing performance of these two libraries."
   ]
  },
  {
   "cell_type": "markdown",
   "id": "5d09a5b7",
   "metadata": {},
   "source": [
    "### TreeValue's Get and Set"
   ]
  },
  {
   "cell_type": "code",
   "execution_count": 2,
   "id": "9519c4bb",
   "metadata": {
    "execution": {
     "iopub.execute_input": "2023-10-20T07:34:37.181581Z",
     "iopub.status.busy": "2023-10-20T07:34:37.181202Z",
     "iopub.status.idle": "2023-10-20T07:34:37.651875Z",
     "shell.execute_reply": "2023-10-20T07:34:37.650813Z"
    }
   },
   "outputs": [],
   "source": [
    "from treevalue import FastTreeValue\n",
    "\n",
    "t = FastTreeValue(_TREE_DATA_2)"
   ]
  },
  {
   "cell_type": "code",
   "execution_count": 3,
   "id": "11c37677",
   "metadata": {
    "execution": {
     "iopub.execute_input": "2023-10-20T07:34:37.657035Z",
     "iopub.status.busy": "2023-10-20T07:34:37.656468Z",
     "iopub.status.idle": "2023-10-20T07:34:37.669831Z",
     "shell.execute_reply": "2023-10-20T07:34:37.668640Z"
    }
   },
   "outputs": [
    {
     "data": {
      "text/plain": [
       "<FastTreeValue 0x7f7e205b1fa0>\n",
       "├── 'a' --> tensor([[ 1.3848, -0.5953, -1.7745],\n",
       "│                   [ 0.0748, -0.7428, -0.2433]])\n",
       "└── 'x' --> <FastTreeValue 0x7f7e205b19d0>\n",
       "    └── 'c' --> tensor([[ 0.0573,  0.2263,  0.5933, -0.8148],\n",
       "                        [ 0.6951,  0.2651, -0.6542,  0.8168],\n",
       "                        [-0.9352, -0.0705,  1.5325,  0.8825]])"
      ]
     },
     "execution_count": 3,
     "metadata": {},
     "output_type": "execute_result"
    }
   ],
   "source": [
    "t"
   ]
  },
  {
   "cell_type": "code",
   "execution_count": 4,
   "id": "fd70b0b9",
   "metadata": {
    "execution": {
     "iopub.execute_input": "2023-10-20T07:34:37.674666Z",
     "iopub.status.busy": "2023-10-20T07:34:37.674280Z",
     "iopub.status.idle": "2023-10-20T07:34:37.682048Z",
     "shell.execute_reply": "2023-10-20T07:34:37.681037Z"
    }
   },
   "outputs": [
    {
     "data": {
      "text/plain": [
       "tensor([[ 1.3848, -0.5953, -1.7745],\n",
       "        [ 0.0748, -0.7428, -0.2433]])"
      ]
     },
     "execution_count": 4,
     "metadata": {},
     "output_type": "execute_result"
    }
   ],
   "source": [
    "t.a"
   ]
  },
  {
   "cell_type": "code",
   "execution_count": 5,
   "id": "c18197bd",
   "metadata": {
    "execution": {
     "iopub.execute_input": "2023-10-20T07:34:37.687846Z",
     "iopub.status.busy": "2023-10-20T07:34:37.685904Z",
     "iopub.status.idle": "2023-10-20T07:34:44.731504Z",
     "shell.execute_reply": "2023-10-20T07:34:44.730552Z"
    }
   },
   "outputs": [
    {
     "name": "stdout",
     "output_type": "stream",
     "text": [
      "86.9 ns ± 1.06 ns per loop (mean ± std. dev. of 7 runs, 10,000,000 loops each)\n"
     ]
    }
   ],
   "source": [
    "%timeit t.a"
   ]
  },
  {
   "cell_type": "code",
   "execution_count": 6,
   "id": "bd52f867",
   "metadata": {
    "execution": {
     "iopub.execute_input": "2023-10-20T07:34:44.736487Z",
     "iopub.status.busy": "2023-10-20T07:34:44.735504Z",
     "iopub.status.idle": "2023-10-20T07:34:44.748631Z",
     "shell.execute_reply": "2023-10-20T07:34:44.747665Z"
    }
   },
   "outputs": [
    {
     "data": {
      "text/plain": [
       "<FastTreeValue 0x7f7e205b1fa0>\n",
       "├── 'a' --> tensor([[ 0.3227,  0.0451, -0.5650],\n",
       "│                   [-0.6428,  0.7951,  1.0529]])\n",
       "└── 'x' --> <FastTreeValue 0x7f7e205b19d0>\n",
       "    └── 'c' --> tensor([[ 0.0573,  0.2263,  0.5933, -0.8148],\n",
       "                        [ 0.6951,  0.2651, -0.6542,  0.8168],\n",
       "                        [-0.9352, -0.0705,  1.5325,  0.8825]])"
      ]
     },
     "execution_count": 6,
     "metadata": {},
     "output_type": "execute_result"
    }
   ],
   "source": [
    "new_value = torch.randn(2, 3)\n",
    "t.a = new_value\n",
    "\n",
    "t"
   ]
  },
  {
   "cell_type": "code",
   "execution_count": 7,
   "id": "bbe04d1c",
   "metadata": {
    "execution": {
     "iopub.execute_input": "2023-10-20T07:34:44.754436Z",
     "iopub.status.busy": "2023-10-20T07:34:44.752742Z",
     "iopub.status.idle": "2023-10-20T07:34:55.047612Z",
     "shell.execute_reply": "2023-10-20T07:34:55.046452Z"
    }
   },
   "outputs": [
    {
     "name": "stdout",
     "output_type": "stream",
     "text": [
      "128 ns ± 1.8 ns per loop (mean ± std. dev. of 7 runs, 10,000,000 loops each)\n"
     ]
    }
   ],
   "source": [
    "%timeit t.a = new_value"
   ]
  },
  {
   "cell_type": "markdown",
   "id": "48c49731",
   "metadata": {},
   "source": [
    "### Tianshou Batch's Get and Set"
   ]
  },
  {
   "cell_type": "code",
   "execution_count": 8,
   "id": "f1bb14c1",
   "metadata": {
    "execution": {
     "iopub.execute_input": "2023-10-20T07:34:55.051990Z",
     "iopub.status.busy": "2023-10-20T07:34:55.051667Z",
     "iopub.status.idle": "2023-10-20T07:34:55.616172Z",
     "shell.execute_reply": "2023-10-20T07:34:55.615079Z"
    }
   },
   "outputs": [],
   "source": [
    "from tianshou.data import Batch\n",
    "\n",
    "b = Batch(**_TREE_DATA_2)"
   ]
  },
  {
   "cell_type": "code",
   "execution_count": 9,
   "id": "cb0777c3",
   "metadata": {
    "execution": {
     "iopub.execute_input": "2023-10-20T07:34:55.622029Z",
     "iopub.status.busy": "2023-10-20T07:34:55.621267Z",
     "iopub.status.idle": "2023-10-20T07:34:55.631658Z",
     "shell.execute_reply": "2023-10-20T07:34:55.630343Z"
    }
   },
   "outputs": [
    {
     "data": {
      "text/plain": [
       "Batch(\n",
       "    a: tensor([[ 1.3848, -0.5953, -1.7745],\n",
       "               [ 0.0748, -0.7428, -0.2433]]),\n",
       "    x: Batch(\n",
       "           c: tensor([[ 0.0573,  0.2263,  0.5933, -0.8148],\n",
       "                      [ 0.6951,  0.2651, -0.6542,  0.8168],\n",
       "                      [-0.9352, -0.0705,  1.5325,  0.8825]]),\n",
       "       ),\n",
       ")"
      ]
     },
     "execution_count": 9,
     "metadata": {},
     "output_type": "execute_result"
    }
   ],
   "source": [
    "b"
   ]
  },
  {
   "cell_type": "code",
   "execution_count": 10,
   "id": "43ef8ea3",
   "metadata": {
    "execution": {
     "iopub.execute_input": "2023-10-20T07:34:55.636131Z",
     "iopub.status.busy": "2023-10-20T07:34:55.635534Z",
     "iopub.status.idle": "2023-10-20T07:34:55.644754Z",
     "shell.execute_reply": "2023-10-20T07:34:55.643810Z"
    }
   },
   "outputs": [
    {
     "data": {
      "text/plain": [
       "tensor([[ 1.3848, -0.5953, -1.7745],\n",
       "        [ 0.0748, -0.7428, -0.2433]])"
      ]
     },
     "execution_count": 10,
     "metadata": {},
     "output_type": "execute_result"
    }
   ],
   "source": [
    "b.a"
   ]
  },
  {
   "cell_type": "code",
   "execution_count": 11,
   "id": "b785ab72",
   "metadata": {
    "execution": {
     "iopub.execute_input": "2023-10-20T07:34:55.649829Z",
     "iopub.status.busy": "2023-10-20T07:34:55.649380Z",
     "iopub.status.idle": "2023-10-20T07:35:01.315412Z",
     "shell.execute_reply": "2023-10-20T07:35:01.314362Z"
    }
   },
   "outputs": [
    {
     "name": "stdout",
     "output_type": "stream",
     "text": [
      "69.6 ns ± 1.11 ns per loop (mean ± std. dev. of 7 runs, 10,000,000 loops each)\n"
     ]
    }
   ],
   "source": [
    "%timeit b.a"
   ]
  },
  {
   "cell_type": "code",
   "execution_count": 12,
   "id": "ad54dc69",
   "metadata": {
    "execution": {
     "iopub.execute_input": "2023-10-20T07:35:01.319896Z",
     "iopub.status.busy": "2023-10-20T07:35:01.319094Z",
     "iopub.status.idle": "2023-10-20T07:35:01.329843Z",
     "shell.execute_reply": "2023-10-20T07:35:01.328838Z"
    }
   },
   "outputs": [
    {
     "data": {
      "text/plain": [
       "Batch(\n",
       "    a: tensor([[ 0.1950, -0.5695, -1.2050],\n",
       "               [-0.6962,  1.3274, -1.0827]]),\n",
       "    x: Batch(\n",
       "           c: tensor([[ 0.0573,  0.2263,  0.5933, -0.8148],\n",
       "                      [ 0.6951,  0.2651, -0.6542,  0.8168],\n",
       "                      [-0.9352, -0.0705,  1.5325,  0.8825]]),\n",
       "       ),\n",
       ")"
      ]
     },
     "execution_count": 12,
     "metadata": {},
     "output_type": "execute_result"
    }
   ],
   "source": [
    "new_value = torch.randn(2, 3)\n",
    "b.a = new_value\n",
    "\n",
    "b"
   ]
  },
  {
   "cell_type": "code",
   "execution_count": 13,
   "id": "29b1d0bf",
   "metadata": {
    "execution": {
     "iopub.execute_input": "2023-10-20T07:35:01.333853Z",
     "iopub.status.busy": "2023-10-20T07:35:01.333362Z",
     "iopub.status.idle": "2023-10-20T07:35:06.316460Z",
     "shell.execute_reply": "2023-10-20T07:35:06.315482Z"
    }
   },
   "outputs": [
    {
     "name": "stdout",
     "output_type": "stream",
     "text": [
      "611 ns ± 17.6 ns per loop (mean ± std. dev. of 7 runs, 1,000,000 loops each)\n"
     ]
    }
   ],
   "source": [
    "%timeit b.a = new_value"
   ]
  },
  {
   "cell_type": "markdown",
   "id": "b61ad1d0",
   "metadata": {},
   "source": [
    "## Initialization"
   ]
  },
  {
   "cell_type": "markdown",
   "id": "d70f0d54",
   "metadata": {},
   "source": [
    "### TreeValue's Initialization"
   ]
  },
  {
   "cell_type": "code",
   "execution_count": 14,
   "id": "d32a679b",
   "metadata": {
    "execution": {
     "iopub.execute_input": "2023-10-20T07:35:06.321001Z",
     "iopub.status.busy": "2023-10-20T07:35:06.320474Z",
     "iopub.status.idle": "2023-10-20T07:35:14.824210Z",
     "shell.execute_reply": "2023-10-20T07:35:14.823148Z"
    }
   },
   "outputs": [
    {
     "name": "stdout",
     "output_type": "stream",
     "text": [
      "1.05 µs ± 21.1 ns per loop (mean ± std. dev. of 7 runs, 1,000,000 loops each)\n"
     ]
    }
   ],
   "source": [
    "%timeit FastTreeValue(_TREE_DATA_1)"
   ]
  },
  {
   "cell_type": "markdown",
   "id": "24f3707b",
   "metadata": {},
   "source": [
    "### Tianshou Batch's Initialization"
   ]
  },
  {
   "cell_type": "code",
   "execution_count": 15,
   "id": "ac3958df",
   "metadata": {
    "execution": {
     "iopub.execute_input": "2023-10-20T07:35:14.829726Z",
     "iopub.status.busy": "2023-10-20T07:35:14.829354Z",
     "iopub.status.idle": "2023-10-20T07:35:25.810825Z",
     "shell.execute_reply": "2023-10-20T07:35:25.809753Z"
    }
   },
   "outputs": [
    {
     "name": "stdout",
     "output_type": "stream",
     "text": [
      "13.5 µs ± 212 ns per loop (mean ± std. dev. of 7 runs, 100,000 loops each)\n"
     ]
    }
   ],
   "source": [
    "%timeit Batch(**_TREE_DATA_1)"
   ]
  },
  {
   "cell_type": "markdown",
   "id": "1ab82e2d",
   "metadata": {},
   "source": [
    "## Deep Copy Operation"
   ]
  },
  {
   "cell_type": "code",
   "execution_count": 16,
   "id": "210a9442",
   "metadata": {
    "execution": {
     "iopub.execute_input": "2023-10-20T07:35:25.816885Z",
     "iopub.status.busy": "2023-10-20T07:35:25.816533Z",
     "iopub.status.idle": "2023-10-20T07:35:25.823741Z",
     "shell.execute_reply": "2023-10-20T07:35:25.822378Z"
    }
   },
   "outputs": [],
   "source": [
    "import copy"
   ]
  },
  {
   "cell_type": "markdown",
   "id": "5a736274",
   "metadata": {},
   "source": [
    "### Deep Copy of TreeValue"
   ]
  },
  {
   "cell_type": "code",
   "execution_count": 17,
   "id": "f9bcadd6",
   "metadata": {
    "execution": {
     "iopub.execute_input": "2023-10-20T07:35:25.829206Z",
     "iopub.status.busy": "2023-10-20T07:35:25.828832Z",
     "iopub.status.idle": "2023-10-20T07:35:28.466332Z",
     "shell.execute_reply": "2023-10-20T07:35:28.465467Z"
    }
   },
   "outputs": [
    {
     "name": "stdout",
     "output_type": "stream",
     "text": [
      "324 µs ± 36.9 µs per loop (mean ± std. dev. of 7 runs, 1,000 loops each)\n"
     ]
    }
   ],
   "source": [
    "t3 = FastTreeValue(_TREE_DATA_3)\n",
    "%timeit copy.deepcopy(t3)"
   ]
  },
  {
   "cell_type": "markdown",
   "id": "bf8be7ea",
   "metadata": {},
   "source": [
    "### Deep Copy of Tianshou Batch"
   ]
  },
  {
   "cell_type": "code",
   "execution_count": 18,
   "id": "91998e6f",
   "metadata": {
    "execution": {
     "iopub.execute_input": "2023-10-20T07:35:28.470965Z",
     "iopub.status.busy": "2023-10-20T07:35:28.470110Z",
     "iopub.status.idle": "2023-10-20T07:35:30.804345Z",
     "shell.execute_reply": "2023-10-20T07:35:30.803412Z"
    }
   },
   "outputs": [
    {
     "name": "stdout",
     "output_type": "stream",
     "text": [
      "287 µs ± 15.2 µs per loop (mean ± std. dev. of 7 runs, 1,000 loops each)\n"
     ]
    }
   ],
   "source": [
    "b3 = Batch(**_TREE_DATA_3)\n",
    "%timeit copy.deepcopy(b3)"
   ]
  },
  {
   "cell_type": "markdown",
   "id": "223162fb",
   "metadata": {},
   "source": [
    "## Stack, Concat and Split Operation"
   ]
  },
  {
   "cell_type": "markdown",
   "id": "85fa4a73",
   "metadata": {},
   "source": [
    "### Performance of TreeValue"
   ]
  },
  {
   "cell_type": "code",
   "execution_count": 19,
   "id": "a0c2b697",
   "metadata": {
    "execution": {
     "iopub.execute_input": "2023-10-20T07:35:30.809544Z",
     "iopub.status.busy": "2023-10-20T07:35:30.808654Z",
     "iopub.status.idle": "2023-10-20T07:35:30.814150Z",
     "shell.execute_reply": "2023-10-20T07:35:30.813301Z"
    }
   },
   "outputs": [],
   "source": [
    "trees = [FastTreeValue(_TREE_DATA_2) for _ in range(8)]"
   ]
  },
  {
   "cell_type": "code",
   "execution_count": 20,
   "id": "017ea5a5",
   "metadata": {
    "execution": {
     "iopub.execute_input": "2023-10-20T07:35:30.819614Z",
     "iopub.status.busy": "2023-10-20T07:35:30.818424Z",
     "iopub.status.idle": "2023-10-20T07:35:30.830150Z",
     "shell.execute_reply": "2023-10-20T07:35:30.829271Z"
    }
   },
   "outputs": [
    {
     "data": {
      "text/plain": [
       "<FastTreeValue 0x7f7e205a3c70>\n",
       "├── 'a' --> tensor([[[ 1.3848, -0.5953, -1.7745],\n",
       "│                    [ 0.0748, -0.7428, -0.2433]],\n",
       "│           \n",
       "│                   [[ 1.3848, -0.5953, -1.7745],\n",
       "│                    [ 0.0748, -0.7428, -0.2433]],\n",
       "│           \n",
       "│                   [[ 1.3848, -0.5953, -1.7745],\n",
       "│                    [ 0.0748, -0.7428, -0.2433]],\n",
       "│           \n",
       "│                   [[ 1.3848, -0.5953, -1.7745],\n",
       "│                    [ 0.0748, -0.7428, -0.2433]],\n",
       "│           \n",
       "│                   [[ 1.3848, -0.5953, -1.7745],\n",
       "│                    [ 0.0748, -0.7428, -0.2433]],\n",
       "│           \n",
       "│                   [[ 1.3848, -0.5953, -1.7745],\n",
       "│                    [ 0.0748, -0.7428, -0.2433]],\n",
       "│           \n",
       "│                   [[ 1.3848, -0.5953, -1.7745],\n",
       "│                    [ 0.0748, -0.7428, -0.2433]],\n",
       "│           \n",
       "│                   [[ 1.3848, -0.5953, -1.7745],\n",
       "│                    [ 0.0748, -0.7428, -0.2433]]])\n",
       "└── 'x' --> <FastTreeValue 0x7f7e205a3a90>\n",
       "    └── 'c' --> tensor([[[ 0.0573,  0.2263,  0.5933, -0.8148],\n",
       "                         [ 0.6951,  0.2651, -0.6542,  0.8168],\n",
       "                         [-0.9352, -0.0705,  1.5325,  0.8825]],\n",
       "                \n",
       "                        [[ 0.0573,  0.2263,  0.5933, -0.8148],\n",
       "                         [ 0.6951,  0.2651, -0.6542,  0.8168],\n",
       "                         [-0.9352, -0.0705,  1.5325,  0.8825]],\n",
       "                \n",
       "                        [[ 0.0573,  0.2263,  0.5933, -0.8148],\n",
       "                         [ 0.6951,  0.2651, -0.6542,  0.8168],\n",
       "                         [-0.9352, -0.0705,  1.5325,  0.8825]],\n",
       "                \n",
       "                        [[ 0.0573,  0.2263,  0.5933, -0.8148],\n",
       "                         [ 0.6951,  0.2651, -0.6542,  0.8168],\n",
       "                         [-0.9352, -0.0705,  1.5325,  0.8825]],\n",
       "                \n",
       "                        [[ 0.0573,  0.2263,  0.5933, -0.8148],\n",
       "                         [ 0.6951,  0.2651, -0.6542,  0.8168],\n",
       "                         [-0.9352, -0.0705,  1.5325,  0.8825]],\n",
       "                \n",
       "                        [[ 0.0573,  0.2263,  0.5933, -0.8148],\n",
       "                         [ 0.6951,  0.2651, -0.6542,  0.8168],\n",
       "                         [-0.9352, -0.0705,  1.5325,  0.8825]],\n",
       "                \n",
       "                        [[ 0.0573,  0.2263,  0.5933, -0.8148],\n",
       "                         [ 0.6951,  0.2651, -0.6542,  0.8168],\n",
       "                         [-0.9352, -0.0705,  1.5325,  0.8825]],\n",
       "                \n",
       "                        [[ 0.0573,  0.2263,  0.5933, -0.8148],\n",
       "                         [ 0.6951,  0.2651, -0.6542,  0.8168],\n",
       "                         [-0.9352, -0.0705,  1.5325,  0.8825]]])"
      ]
     },
     "execution_count": 20,
     "metadata": {},
     "output_type": "execute_result"
    }
   ],
   "source": [
    "t_stack = FastTreeValue.func(subside=True)(torch.stack)\n",
    "\n",
    "t_stack(trees)"
   ]
  },
  {
   "cell_type": "code",
   "execution_count": 21,
   "id": "f8b3f415",
   "metadata": {
    "execution": {
     "iopub.execute_input": "2023-10-20T07:35:30.834261Z",
     "iopub.status.busy": "2023-10-20T07:35:30.833563Z",
     "iopub.status.idle": "2023-10-20T07:35:34.873881Z",
     "shell.execute_reply": "2023-10-20T07:35:34.872970Z"
    }
   },
   "outputs": [
    {
     "name": "stdout",
     "output_type": "stream",
     "text": [
      "49.8 µs ± 1.42 µs per loop (mean ± std. dev. of 7 runs, 10,000 loops each)\n"
     ]
    }
   ],
   "source": [
    "%timeit t_stack(trees)"
   ]
  },
  {
   "cell_type": "code",
   "execution_count": 22,
   "id": "94b56771",
   "metadata": {
    "execution": {
     "iopub.execute_input": "2023-10-20T07:35:34.877950Z",
     "iopub.status.busy": "2023-10-20T07:35:34.877384Z",
     "iopub.status.idle": "2023-10-20T07:35:34.889347Z",
     "shell.execute_reply": "2023-10-20T07:35:34.888113Z"
    }
   },
   "outputs": [
    {
     "data": {
      "text/plain": [
       "<FastTreeValue 0x7f7d48a1b490>\n",
       "├── 'a' --> tensor([[ 1.3848, -0.5953, -1.7745],\n",
       "│                   [ 0.0748, -0.7428, -0.2433],\n",
       "│                   [ 1.3848, -0.5953, -1.7745],\n",
       "│                   [ 0.0748, -0.7428, -0.2433],\n",
       "│                   [ 1.3848, -0.5953, -1.7745],\n",
       "│                   [ 0.0748, -0.7428, -0.2433],\n",
       "│                   [ 1.3848, -0.5953, -1.7745],\n",
       "│                   [ 0.0748, -0.7428, -0.2433],\n",
       "│                   [ 1.3848, -0.5953, -1.7745],\n",
       "│                   [ 0.0748, -0.7428, -0.2433],\n",
       "│                   [ 1.3848, -0.5953, -1.7745],\n",
       "│                   [ 0.0748, -0.7428, -0.2433],\n",
       "│                   [ 1.3848, -0.5953, -1.7745],\n",
       "│                   [ 0.0748, -0.7428, -0.2433],\n",
       "│                   [ 1.3848, -0.5953, -1.7745],\n",
       "│                   [ 0.0748, -0.7428, -0.2433]])\n",
       "└── 'x' --> <FastTreeValue 0x7f7d48b84910>\n",
       "    └── 'c' --> tensor([[ 0.0573,  0.2263,  0.5933, -0.8148],\n",
       "                        [ 0.6951,  0.2651, -0.6542,  0.8168],\n",
       "                        [-0.9352, -0.0705,  1.5325,  0.8825],\n",
       "                        [ 0.0573,  0.2263,  0.5933, -0.8148],\n",
       "                        [ 0.6951,  0.2651, -0.6542,  0.8168],\n",
       "                        [-0.9352, -0.0705,  1.5325,  0.8825],\n",
       "                        [ 0.0573,  0.2263,  0.5933, -0.8148],\n",
       "                        [ 0.6951,  0.2651, -0.6542,  0.8168],\n",
       "                        [-0.9352, -0.0705,  1.5325,  0.8825],\n",
       "                        [ 0.0573,  0.2263,  0.5933, -0.8148],\n",
       "                        [ 0.6951,  0.2651, -0.6542,  0.8168],\n",
       "                        [-0.9352, -0.0705,  1.5325,  0.8825],\n",
       "                        [ 0.0573,  0.2263,  0.5933, -0.8148],\n",
       "                        [ 0.6951,  0.2651, -0.6542,  0.8168],\n",
       "                        [-0.9352, -0.0705,  1.5325,  0.8825],\n",
       "                        [ 0.0573,  0.2263,  0.5933, -0.8148],\n",
       "                        [ 0.6951,  0.2651, -0.6542,  0.8168],\n",
       "                        [-0.9352, -0.0705,  1.5325,  0.8825],\n",
       "                        [ 0.0573,  0.2263,  0.5933, -0.8148],\n",
       "                        [ 0.6951,  0.2651, -0.6542,  0.8168],\n",
       "                        [-0.9352, -0.0705,  1.5325,  0.8825],\n",
       "                        [ 0.0573,  0.2263,  0.5933, -0.8148],\n",
       "                        [ 0.6951,  0.2651, -0.6542,  0.8168],\n",
       "                        [-0.9352, -0.0705,  1.5325,  0.8825]])"
      ]
     },
     "execution_count": 22,
     "metadata": {},
     "output_type": "execute_result"
    }
   ],
   "source": [
    "t_cat = FastTreeValue.func(subside=True)(torch.cat)\n",
    "\n",
    "t_cat(trees)"
   ]
  },
  {
   "cell_type": "code",
   "execution_count": 23,
   "id": "5e9c06a6",
   "metadata": {
    "execution": {
     "iopub.execute_input": "2023-10-20T07:35:34.893413Z",
     "iopub.status.busy": "2023-10-20T07:35:34.892824Z",
     "iopub.status.idle": "2023-10-20T07:35:38.626972Z",
     "shell.execute_reply": "2023-10-20T07:35:38.625942Z"
    }
   },
   "outputs": [
    {
     "name": "stdout",
     "output_type": "stream",
     "text": [
      "46.1 µs ± 1.12 µs per loop (mean ± std. dev. of 7 runs, 10,000 loops each)\n"
     ]
    }
   ],
   "source": [
    "%timeit t_cat(trees)"
   ]
  },
  {
   "cell_type": "code",
   "execution_count": 24,
   "id": "a3ab5c8f",
   "metadata": {
    "execution": {
     "iopub.execute_input": "2023-10-20T07:35:38.631319Z",
     "iopub.status.busy": "2023-10-20T07:35:38.630464Z",
     "iopub.status.idle": "2023-10-20T07:35:46.764525Z",
     "shell.execute_reply": "2023-10-20T07:35:46.763531Z"
    }
   },
   "outputs": [
    {
     "name": "stdout",
     "output_type": "stream",
     "text": [
      "101 µs ± 1.76 µs per loop (mean ± std. dev. of 7 runs, 10,000 loops each)\n"
     ]
    }
   ],
   "source": [
    "t_split = FastTreeValue.func(rise=True)(torch.split)\n",
    "tree = FastTreeValue({\n",
    "    'obs': torch.randn(8, 4, 84, 84),\n",
    "    'action': torch.randint(0, 6, size=(8, 1,)),\n",
    "    'reward': torch.rand(8, 1),\n",
    "})\n",
    "\n",
    "%timeit t_split(tree, 1)"
   ]
  },
  {
   "cell_type": "markdown",
   "id": "31c3ec0b",
   "metadata": {},
   "source": [
    "### Performance of Tianshou Batch"
   ]
  },
  {
   "cell_type": "code",
   "execution_count": 25,
   "id": "9ead828a",
   "metadata": {
    "execution": {
     "iopub.execute_input": "2023-10-20T07:35:46.768992Z",
     "iopub.status.busy": "2023-10-20T07:35:46.768384Z",
     "iopub.status.idle": "2023-10-20T07:35:46.780629Z",
     "shell.execute_reply": "2023-10-20T07:35:46.779708Z"
    }
   },
   "outputs": [
    {
     "data": {
      "text/plain": [
       "Batch(\n",
       "    x: Batch(\n",
       "           c: tensor([[[ 0.0573,  0.2263,  0.5933, -0.8148],\n",
       "                       [ 0.6951,  0.2651, -0.6542,  0.8168],\n",
       "                       [-0.9352, -0.0705,  1.5325,  0.8825]],\n",
       "              \n",
       "                      [[ 0.0573,  0.2263,  0.5933, -0.8148],\n",
       "                       [ 0.6951,  0.2651, -0.6542,  0.8168],\n",
       "                       [-0.9352, -0.0705,  1.5325,  0.8825]],\n",
       "              \n",
       "                      [[ 0.0573,  0.2263,  0.5933, -0.8148],\n",
       "                       [ 0.6951,  0.2651, -0.6542,  0.8168],\n",
       "                       [-0.9352, -0.0705,  1.5325,  0.8825]],\n",
       "              \n",
       "                      [[ 0.0573,  0.2263,  0.5933, -0.8148],\n",
       "                       [ 0.6951,  0.2651, -0.6542,  0.8168],\n",
       "                       [-0.9352, -0.0705,  1.5325,  0.8825]],\n",
       "              \n",
       "                      [[ 0.0573,  0.2263,  0.5933, -0.8148],\n",
       "                       [ 0.6951,  0.2651, -0.6542,  0.8168],\n",
       "                       [-0.9352, -0.0705,  1.5325,  0.8825]],\n",
       "              \n",
       "                      [[ 0.0573,  0.2263,  0.5933, -0.8148],\n",
       "                       [ 0.6951,  0.2651, -0.6542,  0.8168],\n",
       "                       [-0.9352, -0.0705,  1.5325,  0.8825]],\n",
       "              \n",
       "                      [[ 0.0573,  0.2263,  0.5933, -0.8148],\n",
       "                       [ 0.6951,  0.2651, -0.6542,  0.8168],\n",
       "                       [-0.9352, -0.0705,  1.5325,  0.8825]],\n",
       "              \n",
       "                      [[ 0.0573,  0.2263,  0.5933, -0.8148],\n",
       "                       [ 0.6951,  0.2651, -0.6542,  0.8168],\n",
       "                       [-0.9352, -0.0705,  1.5325,  0.8825]]]),\n",
       "       ),\n",
       "    a: tensor([[[ 1.3848, -0.5953, -1.7745],\n",
       "                [ 0.0748, -0.7428, -0.2433]],\n",
       "       \n",
       "               [[ 1.3848, -0.5953, -1.7745],\n",
       "                [ 0.0748, -0.7428, -0.2433]],\n",
       "       \n",
       "               [[ 1.3848, -0.5953, -1.7745],\n",
       "                [ 0.0748, -0.7428, -0.2433]],\n",
       "       \n",
       "               [[ 1.3848, -0.5953, -1.7745],\n",
       "                [ 0.0748, -0.7428, -0.2433]],\n",
       "       \n",
       "               [[ 1.3848, -0.5953, -1.7745],\n",
       "                [ 0.0748, -0.7428, -0.2433]],\n",
       "       \n",
       "               [[ 1.3848, -0.5953, -1.7745],\n",
       "                [ 0.0748, -0.7428, -0.2433]],\n",
       "       \n",
       "               [[ 1.3848, -0.5953, -1.7745],\n",
       "                [ 0.0748, -0.7428, -0.2433]],\n",
       "       \n",
       "               [[ 1.3848, -0.5953, -1.7745],\n",
       "                [ 0.0748, -0.7428, -0.2433]]]),\n",
       ")"
      ]
     },
     "execution_count": 25,
     "metadata": {},
     "output_type": "execute_result"
    }
   ],
   "source": [
    "batches = [Batch(**_TREE_DATA_2) for _ in range(8)]\n",
    "\n",
    "Batch.stack(batches)"
   ]
  },
  {
   "cell_type": "code",
   "execution_count": 26,
   "id": "ec9037a3",
   "metadata": {
    "execution": {
     "iopub.execute_input": "2023-10-20T07:35:46.784702Z",
     "iopub.status.busy": "2023-10-20T07:35:46.784361Z",
     "iopub.status.idle": "2023-10-20T07:35:55.676610Z",
     "shell.execute_reply": "2023-10-20T07:35:55.675507Z"
    }
   },
   "outputs": [
    {
     "name": "stdout",
     "output_type": "stream",
     "text": [
      "109 µs ± 3.81 µs per loop (mean ± std. dev. of 7 runs, 10,000 loops each)\n"
     ]
    }
   ],
   "source": [
    "%timeit Batch.stack(batches)"
   ]
  },
  {
   "cell_type": "code",
   "execution_count": 27,
   "id": "cb8ab77e",
   "metadata": {
    "execution": {
     "iopub.execute_input": "2023-10-20T07:35:55.680760Z",
     "iopub.status.busy": "2023-10-20T07:35:55.680280Z",
     "iopub.status.idle": "2023-10-20T07:35:55.691303Z",
     "shell.execute_reply": "2023-10-20T07:35:55.690298Z"
    }
   },
   "outputs": [
    {
     "data": {
      "text/plain": [
       "Batch(\n",
       "    x: Batch(\n",
       "           c: tensor([[ 0.0573,  0.2263,  0.5933, -0.8148],\n",
       "                      [ 0.6951,  0.2651, -0.6542,  0.8168],\n",
       "                      [-0.9352, -0.0705,  1.5325,  0.8825],\n",
       "                      [ 0.0573,  0.2263,  0.5933, -0.8148],\n",
       "                      [ 0.6951,  0.2651, -0.6542,  0.8168],\n",
       "                      [-0.9352, -0.0705,  1.5325,  0.8825],\n",
       "                      [ 0.0573,  0.2263,  0.5933, -0.8148],\n",
       "                      [ 0.6951,  0.2651, -0.6542,  0.8168],\n",
       "                      [-0.9352, -0.0705,  1.5325,  0.8825],\n",
       "                      [ 0.0573,  0.2263,  0.5933, -0.8148],\n",
       "                      [ 0.6951,  0.2651, -0.6542,  0.8168],\n",
       "                      [-0.9352, -0.0705,  1.5325,  0.8825],\n",
       "                      [ 0.0573,  0.2263,  0.5933, -0.8148],\n",
       "                      [ 0.6951,  0.2651, -0.6542,  0.8168],\n",
       "                      [-0.9352, -0.0705,  1.5325,  0.8825],\n",
       "                      [ 0.0573,  0.2263,  0.5933, -0.8148],\n",
       "                      [ 0.6951,  0.2651, -0.6542,  0.8168],\n",
       "                      [-0.9352, -0.0705,  1.5325,  0.8825],\n",
       "                      [ 0.0573,  0.2263,  0.5933, -0.8148],\n",
       "                      [ 0.6951,  0.2651, -0.6542,  0.8168],\n",
       "                      [-0.9352, -0.0705,  1.5325,  0.8825],\n",
       "                      [ 0.0573,  0.2263,  0.5933, -0.8148],\n",
       "                      [ 0.6951,  0.2651, -0.6542,  0.8168],\n",
       "                      [-0.9352, -0.0705,  1.5325,  0.8825]]),\n",
       "       ),\n",
       "    a: tensor([[ 1.3848, -0.5953, -1.7745],\n",
       "               [ 0.0748, -0.7428, -0.2433],\n",
       "               [ 1.3848, -0.5953, -1.7745],\n",
       "               [ 0.0748, -0.7428, -0.2433],\n",
       "               [ 1.3848, -0.5953, -1.7745],\n",
       "               [ 0.0748, -0.7428, -0.2433],\n",
       "               [ 1.3848, -0.5953, -1.7745],\n",
       "               [ 0.0748, -0.7428, -0.2433],\n",
       "               [ 1.3848, -0.5953, -1.7745],\n",
       "               [ 0.0748, -0.7428, -0.2433],\n",
       "               [ 1.3848, -0.5953, -1.7745],\n",
       "               [ 0.0748, -0.7428, -0.2433],\n",
       "               [ 1.3848, -0.5953, -1.7745],\n",
       "               [ 0.0748, -0.7428, -0.2433],\n",
       "               [ 1.3848, -0.5953, -1.7745],\n",
       "               [ 0.0748, -0.7428, -0.2433]]),\n",
       ")"
      ]
     },
     "execution_count": 27,
     "metadata": {},
     "output_type": "execute_result"
    }
   ],
   "source": [
    "Batch.cat(batches)"
   ]
  },
  {
   "cell_type": "code",
   "execution_count": 28,
   "id": "18dfb045",
   "metadata": {
    "execution": {
     "iopub.execute_input": "2023-10-20T07:35:55.695460Z",
     "iopub.status.busy": "2023-10-20T07:35:55.695156Z",
     "iopub.status.idle": "2023-10-20T07:35:57.296803Z",
     "shell.execute_reply": "2023-10-20T07:35:57.295833Z"
    }
   },
   "outputs": [
    {
     "name": "stdout",
     "output_type": "stream",
     "text": [
      "193 µs ± 4.1 µs per loop (mean ± std. dev. of 7 runs, 1,000 loops each)\n"
     ]
    }
   ],
   "source": [
    "%timeit Batch.cat(batches)"
   ]
  },
  {
   "cell_type": "code",
   "execution_count": 29,
   "id": "c6688e51",
   "metadata": {
    "execution": {
     "iopub.execute_input": "2023-10-20T07:35:57.301271Z",
     "iopub.status.busy": "2023-10-20T07:35:57.300624Z",
     "iopub.status.idle": "2023-10-20T07:36:03.164065Z",
     "shell.execute_reply": "2023-10-20T07:36:03.163173Z"
    }
   },
   "outputs": [
    {
     "name": "stdout",
     "output_type": "stream",
     "text": [
      "723 µs ± 26 µs per loop (mean ± std. dev. of 7 runs, 1,000 loops each)\n"
     ]
    }
   ],
   "source": [
    "batch = Batch({\n",
    "    'obs': torch.randn(8, 4, 84, 84),\n",
    "    'action': torch.randint(0, 6, size=(8, 1,)),\n",
    "    'reward': torch.rand(8, 1)}\n",
    ")\n",
    "\n",
    "%timeit list(Batch.split(batch, 1, shuffle=False, merge_last=True))"
   ]
  },
  {
   "cell_type": "code",
   "execution_count": null,
   "id": "2539fbd9",
   "metadata": {},
   "outputs": [],
   "source": []
  }
 ],
 "metadata": {
  "kernelspec": {
   "display_name": "Python 3 (ipykernel)",
   "language": "python",
   "name": "python3"
  },
  "language_info": {
   "codemirror_mode": {
    "name": "ipython",
    "version": 3
   },
   "file_extension": ".py",
   "mimetype": "text/x-python",
   "name": "python",
   "nbconvert_exporter": "python",
   "pygments_lexer": "ipython3",
   "version": "3.8.18"
  }
 },
 "nbformat": 4,
 "nbformat_minor": 5
}
