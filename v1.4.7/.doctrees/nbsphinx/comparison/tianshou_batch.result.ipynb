{
 "cells": [
  {
   "cell_type": "markdown",
   "id": "9d39d946",
   "metadata": {},
   "source": [
    "# Comparison Between TreeValue and Tianshou Batch"
   ]
  },
  {
   "cell_type": "markdown",
   "id": "3c6db2d4",
   "metadata": {},
   "source": [
    "In this section, we will take a look at the feature and performance of the [Tianshou Batch](https://github.com/thu-ml/tianshou) library, which is developed by Tsinghua Machine Learning Group."
   ]
  },
  {
   "cell_type": "markdown",
   "id": "069361b0",
   "metadata": {},
   "source": [
    "Before starting the comparison, let us define some thing."
   ]
  },
  {
   "cell_type": "code",
   "execution_count": 1,
   "id": "06fc8d26",
   "metadata": {
    "execution": {
     "iopub.execute_input": "2023-10-20T09:23:21.454655Z",
     "iopub.status.busy": "2023-10-20T09:23:21.453898Z",
     "iopub.status.idle": "2023-10-20T09:23:23.544188Z",
     "shell.execute_reply": "2023-10-20T09:23:23.543050Z"
    }
   },
   "outputs": [],
   "source": [
    "import torch \n",
    "\n",
    "_TREE_DATA_1 = {'a': 1, 'b': 2, 'x': {'c': 3, 'd': 4}}\n",
    "_TREE_DATA_2 = {\n",
    "    'a': torch.randn(2, 3), \n",
    "    'x': {\n",
    "        'c': torch.randn(3, 4)\n",
    "    },\n",
    "}\n",
    "_TREE_DATA_3 = {\n",
    "    'obs': torch.randn(4, 84, 84),\n",
    "    'action': torch.randint(0, 6, size=(1,)),\n",
    "    'reward': torch.rand(1),\n",
    "}"
   ]
  },
  {
   "cell_type": "markdown",
   "id": "83461b25",
   "metadata": {},
   "source": [
    "## Read and Write Operation"
   ]
  },
  {
   "cell_type": "markdown",
   "id": "067b3f73",
   "metadata": {},
   "source": [
    "Reading and writing are the two most common operations in the tree data structure based on the data model (TreeValue and Tianshou Batch both belong to this type), so this section will compare the reading and writing performance of these two libraries."
   ]
  },
  {
   "cell_type": "markdown",
   "id": "5d09a5b7",
   "metadata": {},
   "source": [
    "### TreeValue's Get and Set"
   ]
  },
  {
   "cell_type": "code",
   "execution_count": 2,
   "id": "9519c4bb",
   "metadata": {
    "execution": {
     "iopub.execute_input": "2023-10-20T09:23:23.549732Z",
     "iopub.status.busy": "2023-10-20T09:23:23.549145Z",
     "iopub.status.idle": "2023-10-20T09:23:23.952818Z",
     "shell.execute_reply": "2023-10-20T09:23:23.951374Z"
    }
   },
   "outputs": [],
   "source": [
    "from treevalue import FastTreeValue\n",
    "\n",
    "t = FastTreeValue(_TREE_DATA_2)"
   ]
  },
  {
   "cell_type": "code",
   "execution_count": 3,
   "id": "11c37677",
   "metadata": {
    "execution": {
     "iopub.execute_input": "2023-10-20T09:23:23.961378Z",
     "iopub.status.busy": "2023-10-20T09:23:23.958875Z",
     "iopub.status.idle": "2023-10-20T09:23:23.979635Z",
     "shell.execute_reply": "2023-10-20T09:23:23.978768Z"
    }
   },
   "outputs": [
    {
     "data": {
      "text/plain": [
       "<FastTreeValue 0x7f0a00d612b0>\n",
       "├── 'a' --> tensor([[-0.4709,  0.0108,  0.0881],\n",
       "│                   [-0.4312,  0.8834, -1.6756]])\n",
       "└── 'x' --> <FastTreeValue 0x7f0a00d61190>\n",
       "    └── 'c' --> tensor([[ 2.4125, -0.1576, -1.3915,  0.1810],\n",
       "                        [ 1.2059,  0.3818,  0.3374, -0.3606],\n",
       "                        [-0.0494,  2.8931, -0.1089, -0.9182]])"
      ]
     },
     "execution_count": 3,
     "metadata": {},
     "output_type": "execute_result"
    }
   ],
   "source": [
    "t"
   ]
  },
  {
   "cell_type": "code",
   "execution_count": 4,
   "id": "fd70b0b9",
   "metadata": {
    "execution": {
     "iopub.execute_input": "2023-10-20T09:23:23.983964Z",
     "iopub.status.busy": "2023-10-20T09:23:23.983393Z",
     "iopub.status.idle": "2023-10-20T09:23:23.991928Z",
     "shell.execute_reply": "2023-10-20T09:23:23.991097Z"
    }
   },
   "outputs": [
    {
     "data": {
      "text/plain": [
       "tensor([[-0.4709,  0.0108,  0.0881],\n",
       "        [-0.4312,  0.8834, -1.6756]])"
      ]
     },
     "execution_count": 4,
     "metadata": {},
     "output_type": "execute_result"
    }
   ],
   "source": [
    "t.a"
   ]
  },
  {
   "cell_type": "code",
   "execution_count": 5,
   "id": "c18197bd",
   "metadata": {
    "execution": {
     "iopub.execute_input": "2023-10-20T09:23:23.995734Z",
     "iopub.status.busy": "2023-10-20T09:23:23.995181Z",
     "iopub.status.idle": "2023-10-20T09:23:32.187989Z",
     "shell.execute_reply": "2023-10-20T09:23:32.186915Z"
    }
   },
   "outputs": [
    {
     "name": "stdout",
     "output_type": "stream",
     "text": [
      "101 ns ± 0.406 ns per loop (mean ± std. dev. of 7 runs, 10,000,000 loops each)\n"
     ]
    }
   ],
   "source": [
    "%timeit t.a"
   ]
  },
  {
   "cell_type": "code",
   "execution_count": 6,
   "id": "bd52f867",
   "metadata": {
    "execution": {
     "iopub.execute_input": "2023-10-20T09:23:32.192554Z",
     "iopub.status.busy": "2023-10-20T09:23:32.191933Z",
     "iopub.status.idle": "2023-10-20T09:23:32.203342Z",
     "shell.execute_reply": "2023-10-20T09:23:32.202559Z"
    }
   },
   "outputs": [
    {
     "data": {
      "text/plain": [
       "<FastTreeValue 0x7f0a00d612b0>\n",
       "├── 'a' --> tensor([[ 0.0615,  0.2274,  1.0933],\n",
       "│                   [-0.5631, -0.1838,  0.4084]])\n",
       "└── 'x' --> <FastTreeValue 0x7f0a00d61190>\n",
       "    └── 'c' --> tensor([[ 2.4125, -0.1576, -1.3915,  0.1810],\n",
       "                        [ 1.2059,  0.3818,  0.3374, -0.3606],\n",
       "                        [-0.0494,  2.8931, -0.1089, -0.9182]])"
      ]
     },
     "execution_count": 6,
     "metadata": {},
     "output_type": "execute_result"
    }
   ],
   "source": [
    "new_value = torch.randn(2, 3)\n",
    "t.a = new_value\n",
    "\n",
    "t"
   ]
  },
  {
   "cell_type": "code",
   "execution_count": 7,
   "id": "bbe04d1c",
   "metadata": {
    "execution": {
     "iopub.execute_input": "2023-10-20T09:23:32.207619Z",
     "iopub.status.busy": "2023-10-20T09:23:32.206808Z",
     "iopub.status.idle": "2023-10-20T09:23:40.604376Z",
     "shell.execute_reply": "2023-10-20T09:23:40.602955Z"
    }
   },
   "outputs": [
    {
     "name": "stdout",
     "output_type": "stream",
     "text": [
      "103 ns ± 0.0868 ns per loop (mean ± std. dev. of 7 runs, 10,000,000 loops each)\n"
     ]
    }
   ],
   "source": [
    "%timeit t.a = new_value"
   ]
  },
  {
   "cell_type": "markdown",
   "id": "48c49731",
   "metadata": {},
   "source": [
    "### Tianshou Batch's Get and Set"
   ]
  },
  {
   "cell_type": "code",
   "execution_count": 8,
   "id": "f1bb14c1",
   "metadata": {
    "execution": {
     "iopub.execute_input": "2023-10-20T09:23:40.609348Z",
     "iopub.status.busy": "2023-10-20T09:23:40.608609Z",
     "iopub.status.idle": "2023-10-20T09:23:41.161472Z",
     "shell.execute_reply": "2023-10-20T09:23:41.160308Z"
    }
   },
   "outputs": [],
   "source": [
    "from tianshou.data import Batch\n",
    "\n",
    "b = Batch(**_TREE_DATA_2)"
   ]
  },
  {
   "cell_type": "code",
   "execution_count": 9,
   "id": "cb0777c3",
   "metadata": {
    "execution": {
     "iopub.execute_input": "2023-10-20T09:23:41.166847Z",
     "iopub.status.busy": "2023-10-20T09:23:41.166077Z",
     "iopub.status.idle": "2023-10-20T09:23:41.175226Z",
     "shell.execute_reply": "2023-10-20T09:23:41.174503Z"
    }
   },
   "outputs": [
    {
     "data": {
      "text/plain": [
       "Batch(\n",
       "    a: tensor([[-0.4709,  0.0108,  0.0881],\n",
       "               [-0.4312,  0.8834, -1.6756]]),\n",
       "    x: Batch(\n",
       "           c: tensor([[ 2.4125, -0.1576, -1.3915,  0.1810],\n",
       "                      [ 1.2059,  0.3818,  0.3374, -0.3606],\n",
       "                      [-0.0494,  2.8931, -0.1089, -0.9182]]),\n",
       "       ),\n",
       ")"
      ]
     },
     "execution_count": 9,
     "metadata": {},
     "output_type": "execute_result"
    }
   ],
   "source": [
    "b"
   ]
  },
  {
   "cell_type": "code",
   "execution_count": 10,
   "id": "43ef8ea3",
   "metadata": {
    "execution": {
     "iopub.execute_input": "2023-10-20T09:23:41.178804Z",
     "iopub.status.busy": "2023-10-20T09:23:41.178285Z",
     "iopub.status.idle": "2023-10-20T09:23:41.187051Z",
     "shell.execute_reply": "2023-10-20T09:23:41.186357Z"
    }
   },
   "outputs": [
    {
     "data": {
      "text/plain": [
       "tensor([[-0.4709,  0.0108,  0.0881],\n",
       "        [-0.4312,  0.8834, -1.6756]])"
      ]
     },
     "execution_count": 10,
     "metadata": {},
     "output_type": "execute_result"
    }
   ],
   "source": [
    "b.a"
   ]
  },
  {
   "cell_type": "code",
   "execution_count": 11,
   "id": "b785ab72",
   "metadata": {
    "execution": {
     "iopub.execute_input": "2023-10-20T09:23:41.190685Z",
     "iopub.status.busy": "2023-10-20T09:23:41.190124Z",
     "iopub.status.idle": "2023-10-20T09:23:47.734164Z",
     "shell.execute_reply": "2023-10-20T09:23:47.733070Z"
    }
   },
   "outputs": [
    {
     "name": "stdout",
     "output_type": "stream",
     "text": [
      "79.8 ns ± 0.691 ns per loop (mean ± std. dev. of 7 runs, 10,000,000 loops each)\n"
     ]
    }
   ],
   "source": [
    "%timeit b.a"
   ]
  },
  {
   "cell_type": "code",
   "execution_count": 12,
   "id": "ad54dc69",
   "metadata": {
    "execution": {
     "iopub.execute_input": "2023-10-20T09:23:47.738699Z",
     "iopub.status.busy": "2023-10-20T09:23:47.738358Z",
     "iopub.status.idle": "2023-10-20T09:23:47.749734Z",
     "shell.execute_reply": "2023-10-20T09:23:47.748813Z"
    }
   },
   "outputs": [
    {
     "data": {
      "text/plain": [
       "Batch(\n",
       "    a: tensor([[-0.6270, -1.5082, -1.0514],\n",
       "               [ 1.0890, -0.2771, -0.7660]]),\n",
       "    x: Batch(\n",
       "           c: tensor([[ 2.4125, -0.1576, -1.3915,  0.1810],\n",
       "                      [ 1.2059,  0.3818,  0.3374, -0.3606],\n",
       "                      [-0.0494,  2.8931, -0.1089, -0.9182]]),\n",
       "       ),\n",
       ")"
      ]
     },
     "execution_count": 12,
     "metadata": {},
     "output_type": "execute_result"
    }
   ],
   "source": [
    "new_value = torch.randn(2, 3)\n",
    "b.a = new_value\n",
    "\n",
    "b"
   ]
  },
  {
   "cell_type": "code",
   "execution_count": 13,
   "id": "29b1d0bf",
   "metadata": {
    "execution": {
     "iopub.execute_input": "2023-10-20T09:23:47.753416Z",
     "iopub.status.busy": "2023-10-20T09:23:47.752976Z",
     "iopub.status.idle": "2023-10-20T09:23:53.056907Z",
     "shell.execute_reply": "2023-10-20T09:23:53.055060Z"
    }
   },
   "outputs": [
    {
     "name": "stdout",
     "output_type": "stream",
     "text": [
      "650 ns ± 1.86 ns per loop (mean ± std. dev. of 7 runs, 1,000,000 loops each)\n"
     ]
    }
   ],
   "source": [
    "%timeit b.a = new_value"
   ]
  },
  {
   "cell_type": "markdown",
   "id": "b61ad1d0",
   "metadata": {},
   "source": [
    "## Initialization"
   ]
  },
  {
   "cell_type": "markdown",
   "id": "d70f0d54",
   "metadata": {},
   "source": [
    "### TreeValue's Initialization"
   ]
  },
  {
   "cell_type": "code",
   "execution_count": 14,
   "id": "d32a679b",
   "metadata": {
    "execution": {
     "iopub.execute_input": "2023-10-20T09:23:53.062084Z",
     "iopub.status.busy": "2023-10-20T09:23:53.061395Z",
     "iopub.status.idle": "2023-10-20T09:24:02.367913Z",
     "shell.execute_reply": "2023-10-20T09:24:02.366942Z"
    }
   },
   "outputs": [
    {
     "name": "stdout",
     "output_type": "stream",
     "text": [
      "1.14 µs ± 3.35 ns per loop (mean ± std. dev. of 7 runs, 1,000,000 loops each)\n"
     ]
    }
   ],
   "source": [
    "%timeit FastTreeValue(_TREE_DATA_1)"
   ]
  },
  {
   "cell_type": "markdown",
   "id": "24f3707b",
   "metadata": {},
   "source": [
    "### Tianshou Batch's Initialization"
   ]
  },
  {
   "cell_type": "code",
   "execution_count": 15,
   "id": "ac3958df",
   "metadata": {
    "execution": {
     "iopub.execute_input": "2023-10-20T09:24:02.373132Z",
     "iopub.status.busy": "2023-10-20T09:24:02.372394Z",
     "iopub.status.idle": "2023-10-20T09:24:12.528007Z",
     "shell.execute_reply": "2023-10-20T09:24:12.526671Z"
    }
   },
   "outputs": [
    {
     "name": "stdout",
     "output_type": "stream",
     "text": [
      "12.5 µs ± 28.2 ns per loop (mean ± std. dev. of 7 runs, 100,000 loops each)\n"
     ]
    }
   ],
   "source": [
    "%timeit Batch(**_TREE_DATA_1)"
   ]
  },
  {
   "cell_type": "markdown",
   "id": "1ab82e2d",
   "metadata": {},
   "source": [
    "## Deep Copy Operation"
   ]
  },
  {
   "cell_type": "code",
   "execution_count": 16,
   "id": "210a9442",
   "metadata": {
    "execution": {
     "iopub.execute_input": "2023-10-20T09:24:12.533320Z",
     "iopub.status.busy": "2023-10-20T09:24:12.532565Z",
     "iopub.status.idle": "2023-10-20T09:24:12.537229Z",
     "shell.execute_reply": "2023-10-20T09:24:12.536322Z"
    }
   },
   "outputs": [],
   "source": [
    "import copy"
   ]
  },
  {
   "cell_type": "markdown",
   "id": "5a736274",
   "metadata": {},
   "source": [
    "### Deep Copy of TreeValue"
   ]
  },
  {
   "cell_type": "code",
   "execution_count": 17,
   "id": "f9bcadd6",
   "metadata": {
    "execution": {
     "iopub.execute_input": "2023-10-20T09:24:12.541382Z",
     "iopub.status.busy": "2023-10-20T09:24:12.540632Z",
     "iopub.status.idle": "2023-10-20T09:24:27.087357Z",
     "shell.execute_reply": "2023-10-20T09:24:27.086198Z"
    }
   },
   "outputs": [
    {
     "name": "stdout",
     "output_type": "stream",
     "text": [
      "177 µs ± 4.06 µs per loop (mean ± std. dev. of 7 runs, 10,000 loops each)\n"
     ]
    }
   ],
   "source": [
    "t3 = FastTreeValue(_TREE_DATA_3)\n",
    "%timeit copy.deepcopy(t3)"
   ]
  },
  {
   "cell_type": "markdown",
   "id": "bf8be7ea",
   "metadata": {},
   "source": [
    "### Deep Copy of Tianshou Batch"
   ]
  },
  {
   "cell_type": "code",
   "execution_count": 18,
   "id": "91998e6f",
   "metadata": {
    "execution": {
     "iopub.execute_input": "2023-10-20T09:24:27.092880Z",
     "iopub.status.busy": "2023-10-20T09:24:27.092002Z",
     "iopub.status.idle": "2023-10-20T09:24:41.679305Z",
     "shell.execute_reply": "2023-10-20T09:24:41.678319Z"
    }
   },
   "outputs": [
    {
     "name": "stdout",
     "output_type": "stream",
     "text": [
      "180 µs ± 9.51 µs per loop (mean ± std. dev. of 7 runs, 10,000 loops each)\n"
     ]
    }
   ],
   "source": [
    "b3 = Batch(**_TREE_DATA_3)\n",
    "%timeit copy.deepcopy(b3)"
   ]
  },
  {
   "cell_type": "markdown",
   "id": "223162fb",
   "metadata": {},
   "source": [
    "## Stack, Concat and Split Operation"
   ]
  },
  {
   "cell_type": "markdown",
   "id": "85fa4a73",
   "metadata": {},
   "source": [
    "### Performance of TreeValue"
   ]
  },
  {
   "cell_type": "code",
   "execution_count": 19,
   "id": "a0c2b697",
   "metadata": {
    "execution": {
     "iopub.execute_input": "2023-10-20T09:24:41.684485Z",
     "iopub.status.busy": "2023-10-20T09:24:41.683866Z",
     "iopub.status.idle": "2023-10-20T09:24:41.688507Z",
     "shell.execute_reply": "2023-10-20T09:24:41.687673Z"
    }
   },
   "outputs": [],
   "source": [
    "trees = [FastTreeValue(_TREE_DATA_2) for _ in range(8)]"
   ]
  },
  {
   "cell_type": "code",
   "execution_count": 20,
   "id": "017ea5a5",
   "metadata": {
    "execution": {
     "iopub.execute_input": "2023-10-20T09:24:41.693117Z",
     "iopub.status.busy": "2023-10-20T09:24:41.692278Z",
     "iopub.status.idle": "2023-10-20T09:24:41.702285Z",
     "shell.execute_reply": "2023-10-20T09:24:41.701590Z"
    }
   },
   "outputs": [
    {
     "data": {
      "text/plain": [
       "<FastTreeValue 0x7f09194722e0>\n",
       "├── 'a' --> tensor([[[-0.4709,  0.0108,  0.0881],\n",
       "│                    [-0.4312,  0.8834, -1.6756]],\n",
       "│           \n",
       "│                   [[-0.4709,  0.0108,  0.0881],\n",
       "│                    [-0.4312,  0.8834, -1.6756]],\n",
       "│           \n",
       "│                   [[-0.4709,  0.0108,  0.0881],\n",
       "│                    [-0.4312,  0.8834, -1.6756]],\n",
       "│           \n",
       "│                   [[-0.4709,  0.0108,  0.0881],\n",
       "│                    [-0.4312,  0.8834, -1.6756]],\n",
       "│           \n",
       "│                   [[-0.4709,  0.0108,  0.0881],\n",
       "│                    [-0.4312,  0.8834, -1.6756]],\n",
       "│           \n",
       "│                   [[-0.4709,  0.0108,  0.0881],\n",
       "│                    [-0.4312,  0.8834, -1.6756]],\n",
       "│           \n",
       "│                   [[-0.4709,  0.0108,  0.0881],\n",
       "│                    [-0.4312,  0.8834, -1.6756]],\n",
       "│           \n",
       "│                   [[-0.4709,  0.0108,  0.0881],\n",
       "│                    [-0.4312,  0.8834, -1.6756]]])\n",
       "└── 'x' --> <FastTreeValue 0x7f0919472940>\n",
       "    └── 'c' --> tensor([[[ 2.4125, -0.1576, -1.3915,  0.1810],\n",
       "                         [ 1.2059,  0.3818,  0.3374, -0.3606],\n",
       "                         [-0.0494,  2.8931, -0.1089, -0.9182]],\n",
       "                \n",
       "                        [[ 2.4125, -0.1576, -1.3915,  0.1810],\n",
       "                         [ 1.2059,  0.3818,  0.3374, -0.3606],\n",
       "                         [-0.0494,  2.8931, -0.1089, -0.9182]],\n",
       "                \n",
       "                        [[ 2.4125, -0.1576, -1.3915,  0.1810],\n",
       "                         [ 1.2059,  0.3818,  0.3374, -0.3606],\n",
       "                         [-0.0494,  2.8931, -0.1089, -0.9182]],\n",
       "                \n",
       "                        [[ 2.4125, -0.1576, -1.3915,  0.1810],\n",
       "                         [ 1.2059,  0.3818,  0.3374, -0.3606],\n",
       "                         [-0.0494,  2.8931, -0.1089, -0.9182]],\n",
       "                \n",
       "                        [[ 2.4125, -0.1576, -1.3915,  0.1810],\n",
       "                         [ 1.2059,  0.3818,  0.3374, -0.3606],\n",
       "                         [-0.0494,  2.8931, -0.1089, -0.9182]],\n",
       "                \n",
       "                        [[ 2.4125, -0.1576, -1.3915,  0.1810],\n",
       "                         [ 1.2059,  0.3818,  0.3374, -0.3606],\n",
       "                         [-0.0494,  2.8931, -0.1089, -0.9182]],\n",
       "                \n",
       "                        [[ 2.4125, -0.1576, -1.3915,  0.1810],\n",
       "                         [ 1.2059,  0.3818,  0.3374, -0.3606],\n",
       "                         [-0.0494,  2.8931, -0.1089, -0.9182]],\n",
       "                \n",
       "                        [[ 2.4125, -0.1576, -1.3915,  0.1810],\n",
       "                         [ 1.2059,  0.3818,  0.3374, -0.3606],\n",
       "                         [-0.0494,  2.8931, -0.1089, -0.9182]]])"
      ]
     },
     "execution_count": 20,
     "metadata": {},
     "output_type": "execute_result"
    }
   ],
   "source": [
    "t_stack = FastTreeValue.func(subside=True)(torch.stack)\n",
    "\n",
    "t_stack(trees)"
   ]
  },
  {
   "cell_type": "code",
   "execution_count": 21,
   "id": "f8b3f415",
   "metadata": {
    "execution": {
     "iopub.execute_input": "2023-10-20T09:24:41.705777Z",
     "iopub.status.busy": "2023-10-20T09:24:41.705252Z",
     "iopub.status.idle": "2023-10-20T09:24:44.981201Z",
     "shell.execute_reply": "2023-10-20T09:24:44.979770Z"
    }
   },
   "outputs": [
    {
     "name": "stdout",
     "output_type": "stream",
     "text": [
      "40.3 µs ± 178 ns per loop (mean ± std. dev. of 7 runs, 10,000 loops each)\n"
     ]
    }
   ],
   "source": [
    "%timeit t_stack(trees)"
   ]
  },
  {
   "cell_type": "code",
   "execution_count": 22,
   "id": "94b56771",
   "metadata": {
    "execution": {
     "iopub.execute_input": "2023-10-20T09:24:44.989241Z",
     "iopub.status.busy": "2023-10-20T09:24:44.987357Z",
     "iopub.status.idle": "2023-10-20T09:24:45.001263Z",
     "shell.execute_reply": "2023-10-20T09:24:45.000490Z"
    }
   },
   "outputs": [
    {
     "data": {
      "text/plain": [
       "<FastTreeValue 0x7f0919472e80>\n",
       "├── 'a' --> tensor([[-0.4709,  0.0108,  0.0881],\n",
       "│                   [-0.4312,  0.8834, -1.6756],\n",
       "│                   [-0.4709,  0.0108,  0.0881],\n",
       "│                   [-0.4312,  0.8834, -1.6756],\n",
       "│                   [-0.4709,  0.0108,  0.0881],\n",
       "│                   [-0.4312,  0.8834, -1.6756],\n",
       "│                   [-0.4709,  0.0108,  0.0881],\n",
       "│                   [-0.4312,  0.8834, -1.6756],\n",
       "│                   [-0.4709,  0.0108,  0.0881],\n",
       "│                   [-0.4312,  0.8834, -1.6756],\n",
       "│                   [-0.4709,  0.0108,  0.0881],\n",
       "│                   [-0.4312,  0.8834, -1.6756],\n",
       "│                   [-0.4709,  0.0108,  0.0881],\n",
       "│                   [-0.4312,  0.8834, -1.6756],\n",
       "│                   [-0.4709,  0.0108,  0.0881],\n",
       "│                   [-0.4312,  0.8834, -1.6756]])\n",
       "└── 'x' --> <FastTreeValue 0x7f0919472160>\n",
       "    └── 'c' --> tensor([[ 2.4125, -0.1576, -1.3915,  0.1810],\n",
       "                        [ 1.2059,  0.3818,  0.3374, -0.3606],\n",
       "                        [-0.0494,  2.8931, -0.1089, -0.9182],\n",
       "                        [ 2.4125, -0.1576, -1.3915,  0.1810],\n",
       "                        [ 1.2059,  0.3818,  0.3374, -0.3606],\n",
       "                        [-0.0494,  2.8931, -0.1089, -0.9182],\n",
       "                        [ 2.4125, -0.1576, -1.3915,  0.1810],\n",
       "                        [ 1.2059,  0.3818,  0.3374, -0.3606],\n",
       "                        [-0.0494,  2.8931, -0.1089, -0.9182],\n",
       "                        [ 2.4125, -0.1576, -1.3915,  0.1810],\n",
       "                        [ 1.2059,  0.3818,  0.3374, -0.3606],\n",
       "                        [-0.0494,  2.8931, -0.1089, -0.9182],\n",
       "                        [ 2.4125, -0.1576, -1.3915,  0.1810],\n",
       "                        [ 1.2059,  0.3818,  0.3374, -0.3606],\n",
       "                        [-0.0494,  2.8931, -0.1089, -0.9182],\n",
       "                        [ 2.4125, -0.1576, -1.3915,  0.1810],\n",
       "                        [ 1.2059,  0.3818,  0.3374, -0.3606],\n",
       "                        [-0.0494,  2.8931, -0.1089, -0.9182],\n",
       "                        [ 2.4125, -0.1576, -1.3915,  0.1810],\n",
       "                        [ 1.2059,  0.3818,  0.3374, -0.3606],\n",
       "                        [-0.0494,  2.8931, -0.1089, -0.9182],\n",
       "                        [ 2.4125, -0.1576, -1.3915,  0.1810],\n",
       "                        [ 1.2059,  0.3818,  0.3374, -0.3606],\n",
       "                        [-0.0494,  2.8931, -0.1089, -0.9182]])"
      ]
     },
     "execution_count": 22,
     "metadata": {},
     "output_type": "execute_result"
    }
   ],
   "source": [
    "t_cat = FastTreeValue.func(subside=True)(torch.cat)\n",
    "\n",
    "t_cat(trees)"
   ]
  },
  {
   "cell_type": "code",
   "execution_count": 23,
   "id": "5e9c06a6",
   "metadata": {
    "execution": {
     "iopub.execute_input": "2023-10-20T09:24:45.005249Z",
     "iopub.status.busy": "2023-10-20T09:24:45.004647Z",
     "iopub.status.idle": "2023-10-20T09:24:48.064036Z",
     "shell.execute_reply": "2023-10-20T09:24:48.063019Z"
    }
   },
   "outputs": [
    {
     "name": "stdout",
     "output_type": "stream",
     "text": [
      "37.5 µs ± 84.9 ns per loop (mean ± std. dev. of 7 runs, 10,000 loops each)\n"
     ]
    }
   ],
   "source": [
    "%timeit t_cat(trees)"
   ]
  },
  {
   "cell_type": "code",
   "execution_count": 24,
   "id": "a3ab5c8f",
   "metadata": {
    "execution": {
     "iopub.execute_input": "2023-10-20T09:24:48.068627Z",
     "iopub.status.busy": "2023-10-20T09:24:48.068106Z",
     "iopub.status.idle": "2023-10-20T09:24:54.295638Z",
     "shell.execute_reply": "2023-10-20T09:24:54.294509Z"
    }
   },
   "outputs": [
    {
     "name": "stdout",
     "output_type": "stream",
     "text": [
      "76.2 µs ± 104 ns per loop (mean ± std. dev. of 7 runs, 10,000 loops each)\n"
     ]
    }
   ],
   "source": [
    "t_split = FastTreeValue.func(rise=True)(torch.split)\n",
    "tree = FastTreeValue({\n",
    "    'obs': torch.randn(8, 4, 84, 84),\n",
    "    'action': torch.randint(0, 6, size=(8, 1,)),\n",
    "    'reward': torch.rand(8, 1),\n",
    "})\n",
    "\n",
    "%timeit t_split(tree, 1)"
   ]
  },
  {
   "cell_type": "markdown",
   "id": "31c3ec0b",
   "metadata": {},
   "source": [
    "### Performance of Tianshou Batch"
   ]
  },
  {
   "cell_type": "code",
   "execution_count": 25,
   "id": "9ead828a",
   "metadata": {
    "execution": {
     "iopub.execute_input": "2023-10-20T09:24:54.300205Z",
     "iopub.status.busy": "2023-10-20T09:24:54.299628Z",
     "iopub.status.idle": "2023-10-20T09:24:54.311000Z",
     "shell.execute_reply": "2023-10-20T09:24:54.310234Z"
    }
   },
   "outputs": [
    {
     "data": {
      "text/plain": [
       "Batch(\n",
       "    a: tensor([[[-0.4709,  0.0108,  0.0881],\n",
       "                [-0.4312,  0.8834, -1.6756]],\n",
       "       \n",
       "               [[-0.4709,  0.0108,  0.0881],\n",
       "                [-0.4312,  0.8834, -1.6756]],\n",
       "       \n",
       "               [[-0.4709,  0.0108,  0.0881],\n",
       "                [-0.4312,  0.8834, -1.6756]],\n",
       "       \n",
       "               [[-0.4709,  0.0108,  0.0881],\n",
       "                [-0.4312,  0.8834, -1.6756]],\n",
       "       \n",
       "               [[-0.4709,  0.0108,  0.0881],\n",
       "                [-0.4312,  0.8834, -1.6756]],\n",
       "       \n",
       "               [[-0.4709,  0.0108,  0.0881],\n",
       "                [-0.4312,  0.8834, -1.6756]],\n",
       "       \n",
       "               [[-0.4709,  0.0108,  0.0881],\n",
       "                [-0.4312,  0.8834, -1.6756]],\n",
       "       \n",
       "               [[-0.4709,  0.0108,  0.0881],\n",
       "                [-0.4312,  0.8834, -1.6756]]]),\n",
       "    x: Batch(\n",
       "           c: tensor([[[ 2.4125, -0.1576, -1.3915,  0.1810],\n",
       "                       [ 1.2059,  0.3818,  0.3374, -0.3606],\n",
       "                       [-0.0494,  2.8931, -0.1089, -0.9182]],\n",
       "              \n",
       "                      [[ 2.4125, -0.1576, -1.3915,  0.1810],\n",
       "                       [ 1.2059,  0.3818,  0.3374, -0.3606],\n",
       "                       [-0.0494,  2.8931, -0.1089, -0.9182]],\n",
       "              \n",
       "                      [[ 2.4125, -0.1576, -1.3915,  0.1810],\n",
       "                       [ 1.2059,  0.3818,  0.3374, -0.3606],\n",
       "                       [-0.0494,  2.8931, -0.1089, -0.9182]],\n",
       "              \n",
       "                      [[ 2.4125, -0.1576, -1.3915,  0.1810],\n",
       "                       [ 1.2059,  0.3818,  0.3374, -0.3606],\n",
       "                       [-0.0494,  2.8931, -0.1089, -0.9182]],\n",
       "              \n",
       "                      [[ 2.4125, -0.1576, -1.3915,  0.1810],\n",
       "                       [ 1.2059,  0.3818,  0.3374, -0.3606],\n",
       "                       [-0.0494,  2.8931, -0.1089, -0.9182]],\n",
       "              \n",
       "                      [[ 2.4125, -0.1576, -1.3915,  0.1810],\n",
       "                       [ 1.2059,  0.3818,  0.3374, -0.3606],\n",
       "                       [-0.0494,  2.8931, -0.1089, -0.9182]],\n",
       "              \n",
       "                      [[ 2.4125, -0.1576, -1.3915,  0.1810],\n",
       "                       [ 1.2059,  0.3818,  0.3374, -0.3606],\n",
       "                       [-0.0494,  2.8931, -0.1089, -0.9182]],\n",
       "              \n",
       "                      [[ 2.4125, -0.1576, -1.3915,  0.1810],\n",
       "                       [ 1.2059,  0.3818,  0.3374, -0.3606],\n",
       "                       [-0.0494,  2.8931, -0.1089, -0.9182]]]),\n",
       "       ),\n",
       ")"
      ]
     },
     "execution_count": 25,
     "metadata": {},
     "output_type": "execute_result"
    }
   ],
   "source": [
    "batches = [Batch(**_TREE_DATA_2) for _ in range(8)]\n",
    "\n",
    "Batch.stack(batches)"
   ]
  },
  {
   "cell_type": "code",
   "execution_count": 26,
   "id": "ec9037a3",
   "metadata": {
    "execution": {
     "iopub.execute_input": "2023-10-20T09:24:54.315027Z",
     "iopub.status.busy": "2023-10-20T09:24:54.314348Z",
     "iopub.status.idle": "2023-10-20T09:25:02.340445Z",
     "shell.execute_reply": "2023-10-20T09:25:02.339044Z"
    }
   },
   "outputs": [
    {
     "name": "stdout",
     "output_type": "stream",
     "text": [
      "98.7 µs ± 354 ns per loop (mean ± std. dev. of 7 runs, 10,000 loops each)\n"
     ]
    }
   ],
   "source": [
    "%timeit Batch.stack(batches)"
   ]
  },
  {
   "cell_type": "code",
   "execution_count": 27,
   "id": "cb8ab77e",
   "metadata": {
    "execution": {
     "iopub.execute_input": "2023-10-20T09:25:02.345191Z",
     "iopub.status.busy": "2023-10-20T09:25:02.344645Z",
     "iopub.status.idle": "2023-10-20T09:25:02.356016Z",
     "shell.execute_reply": "2023-10-20T09:25:02.355153Z"
    }
   },
   "outputs": [
    {
     "data": {
      "text/plain": [
       "Batch(\n",
       "    a: tensor([[-0.4709,  0.0108,  0.0881],\n",
       "               [-0.4312,  0.8834, -1.6756],\n",
       "               [-0.4709,  0.0108,  0.0881],\n",
       "               [-0.4312,  0.8834, -1.6756],\n",
       "               [-0.4709,  0.0108,  0.0881],\n",
       "               [-0.4312,  0.8834, -1.6756],\n",
       "               [-0.4709,  0.0108,  0.0881],\n",
       "               [-0.4312,  0.8834, -1.6756],\n",
       "               [-0.4709,  0.0108,  0.0881],\n",
       "               [-0.4312,  0.8834, -1.6756],\n",
       "               [-0.4709,  0.0108,  0.0881],\n",
       "               [-0.4312,  0.8834, -1.6756],\n",
       "               [-0.4709,  0.0108,  0.0881],\n",
       "               [-0.4312,  0.8834, -1.6756],\n",
       "               [-0.4709,  0.0108,  0.0881],\n",
       "               [-0.4312,  0.8834, -1.6756]]),\n",
       "    x: Batch(\n",
       "           c: tensor([[ 2.4125, -0.1576, -1.3915,  0.1810],\n",
       "                      [ 1.2059,  0.3818,  0.3374, -0.3606],\n",
       "                      [-0.0494,  2.8931, -0.1089, -0.9182],\n",
       "                      [ 2.4125, -0.1576, -1.3915,  0.1810],\n",
       "                      [ 1.2059,  0.3818,  0.3374, -0.3606],\n",
       "                      [-0.0494,  2.8931, -0.1089, -0.9182],\n",
       "                      [ 2.4125, -0.1576, -1.3915,  0.1810],\n",
       "                      [ 1.2059,  0.3818,  0.3374, -0.3606],\n",
       "                      [-0.0494,  2.8931, -0.1089, -0.9182],\n",
       "                      [ 2.4125, -0.1576, -1.3915,  0.1810],\n",
       "                      [ 1.2059,  0.3818,  0.3374, -0.3606],\n",
       "                      [-0.0494,  2.8931, -0.1089, -0.9182],\n",
       "                      [ 2.4125, -0.1576, -1.3915,  0.1810],\n",
       "                      [ 1.2059,  0.3818,  0.3374, -0.3606],\n",
       "                      [-0.0494,  2.8931, -0.1089, -0.9182],\n",
       "                      [ 2.4125, -0.1576, -1.3915,  0.1810],\n",
       "                      [ 1.2059,  0.3818,  0.3374, -0.3606],\n",
       "                      [-0.0494,  2.8931, -0.1089, -0.9182],\n",
       "                      [ 2.4125, -0.1576, -1.3915,  0.1810],\n",
       "                      [ 1.2059,  0.3818,  0.3374, -0.3606],\n",
       "                      [-0.0494,  2.8931, -0.1089, -0.9182],\n",
       "                      [ 2.4125, -0.1576, -1.3915,  0.1810],\n",
       "                      [ 1.2059,  0.3818,  0.3374, -0.3606],\n",
       "                      [-0.0494,  2.8931, -0.1089, -0.9182]]),\n",
       "       ),\n",
       ")"
      ]
     },
     "execution_count": 27,
     "metadata": {},
     "output_type": "execute_result"
    }
   ],
   "source": [
    "Batch.cat(batches)"
   ]
  },
  {
   "cell_type": "code",
   "execution_count": 28,
   "id": "18dfb045",
   "metadata": {
    "execution": {
     "iopub.execute_input": "2023-10-20T09:25:02.360586Z",
     "iopub.status.busy": "2023-10-20T09:25:02.359862Z",
     "iopub.status.idle": "2023-10-20T09:25:17.059375Z",
     "shell.execute_reply": "2023-10-20T09:25:17.058226Z"
    }
   },
   "outputs": [
    {
     "name": "stdout",
     "output_type": "stream",
     "text": [
      "181 µs ± 1.07 µs per loop (mean ± std. dev. of 7 runs, 10,000 loops each)\n"
     ]
    }
   ],
   "source": [
    "%timeit Batch.cat(batches)"
   ]
  },
  {
   "cell_type": "code",
   "execution_count": 29,
   "id": "c6688e51",
   "metadata": {
    "execution": {
     "iopub.execute_input": "2023-10-20T09:25:17.064589Z",
     "iopub.status.busy": "2023-10-20T09:25:17.063972Z",
     "iopub.status.idle": "2023-10-20T09:25:20.805152Z",
     "shell.execute_reply": "2023-10-20T09:25:20.803673Z"
    }
   },
   "outputs": [
    {
     "name": "stdout",
     "output_type": "stream",
     "text": [
      "464 µs ± 21.5 µs per loop (mean ± std. dev. of 7 runs, 1,000 loops each)\n"
     ]
    }
   ],
   "source": [
    "batch = Batch({\n",
    "    'obs': torch.randn(8, 4, 84, 84),\n",
    "    'action': torch.randint(0, 6, size=(8, 1,)),\n",
    "    'reward': torch.rand(8, 1)}\n",
    ")\n",
    "\n",
    "%timeit list(Batch.split(batch, 1, shuffle=False, merge_last=True))"
   ]
  },
  {
   "cell_type": "code",
   "execution_count": null,
   "id": "2539fbd9",
   "metadata": {},
   "outputs": [],
   "source": []
  }
 ],
 "metadata": {
  "kernelspec": {
   "display_name": "Python 3 (ipykernel)",
   "language": "python",
   "name": "python3"
  },
  "language_info": {
   "codemirror_mode": {
    "name": "ipython",
    "version": 3
   },
   "file_extension": ".py",
   "mimetype": "text/x-python",
   "name": "python",
   "nbconvert_exporter": "python",
   "pygments_lexer": "ipython3",
   "version": "3.8.18"
  }
 },
 "nbformat": 4,
 "nbformat_minor": 5
}
