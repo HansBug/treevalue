{
 "cells": [
  {
   "cell_type": "markdown",
   "id": "9d39d946",
   "metadata": {},
   "source": [
    "# Comparison Between TreeValue and Tianshou Batch"
   ]
  },
  {
   "cell_type": "markdown",
   "id": "3c6db2d4",
   "metadata": {},
   "source": [
    "In this section, we will take a look at the feature and performance of the [Tianshou Batch](https://github.com/thu-ml/tianshou) library, which is developed by Tsinghua Machine Learning Group."
   ]
  },
  {
   "cell_type": "markdown",
   "id": "069361b0",
   "metadata": {},
   "source": [
    "Before starting the comparison, let us define some thing."
   ]
  },
  {
   "cell_type": "code",
   "execution_count": 1,
   "id": "06fc8d26",
   "metadata": {
    "execution": {
     "iopub.execute_input": "2023-02-28T04:21:08.504987Z",
     "iopub.status.busy": "2023-02-28T04:21:08.504751Z",
     "iopub.status.idle": "2023-02-28T04:21:09.452492Z",
     "shell.execute_reply": "2023-02-28T04:21:09.451355Z"
    }
   },
   "outputs": [
    {
     "name": "stderr",
     "output_type": "stream",
     "text": [
      "/opt/hostedtoolcache/Python/3.8.16/x64/lib/python3.8/site-packages/tqdm/auto.py:22: TqdmWarning: IProgress not found. Please update jupyter and ipywidgets. See https://ipywidgets.readthedocs.io/en/stable/user_install.html\n",
      "  from .autonotebook import tqdm as notebook_tqdm\n"
     ]
    }
   ],
   "source": [
    "import torch \n",
    "\n",
    "_TREE_DATA_1 = {'a': 1, 'b': 2, 'x': {'c': 3, 'd': 4}}\n",
    "_TREE_DATA_2 = {\n",
    "    'a': torch.randn(2, 3), \n",
    "    'x': {\n",
    "        'c': torch.randn(3, 4)\n",
    "    },\n",
    "}\n",
    "_TREE_DATA_3 = {\n",
    "    'obs': torch.randn(4, 84, 84),\n",
    "    'action': torch.randint(0, 6, size=(1,)),\n",
    "    'reward': torch.rand(1),\n",
    "}"
   ]
  },
  {
   "cell_type": "markdown",
   "id": "83461b25",
   "metadata": {},
   "source": [
    "## Read and Write Operation"
   ]
  },
  {
   "cell_type": "markdown",
   "id": "067b3f73",
   "metadata": {},
   "source": [
    "Reading and writing are the two most common operations in the tree data structure based on the data model (TreeValue and Tianshou Batch both belong to this type), so this section will compare the reading and writing performance of these two libraries."
   ]
  },
  {
   "cell_type": "markdown",
   "id": "5d09a5b7",
   "metadata": {},
   "source": [
    "### TreeValue's Get and Set"
   ]
  },
  {
   "cell_type": "code",
   "execution_count": 2,
   "id": "9519c4bb",
   "metadata": {
    "execution": {
     "iopub.execute_input": "2023-02-28T04:21:09.456763Z",
     "iopub.status.busy": "2023-02-28T04:21:09.455957Z",
     "iopub.status.idle": "2023-02-28T04:21:09.744706Z",
     "shell.execute_reply": "2023-02-28T04:21:09.743197Z"
    }
   },
   "outputs": [],
   "source": [
    "from treevalue import FastTreeValue\n",
    "\n",
    "t = FastTreeValue(_TREE_DATA_2)"
   ]
  },
  {
   "cell_type": "code",
   "execution_count": 3,
   "id": "11c37677",
   "metadata": {
    "execution": {
     "iopub.execute_input": "2023-02-28T04:21:09.748611Z",
     "iopub.status.busy": "2023-02-28T04:21:09.747876Z",
     "iopub.status.idle": "2023-02-28T04:21:09.758383Z",
     "shell.execute_reply": "2023-02-28T04:21:09.757769Z"
    }
   },
   "outputs": [
    {
     "data": {
      "text/plain": [
       "<FastTreeValue 0x7f5380958ca0>\n",
       "├── 'a' --> tensor([[ 1.0214, -0.1645,  0.6355],\n",
       "│                   [ 0.2042,  0.2523,  0.5081]])\n",
       "└── 'x' --> <FastTreeValue 0x7f53809587c0>\n",
       "    └── 'c' --> tensor([[ 3.1689,  0.3907,  0.1241, -0.8749],\n",
       "                        [ 1.7390,  0.3995,  1.7836,  0.6277],\n",
       "                        [ 1.2627,  0.5921,  0.4079, -0.1474]])"
      ]
     },
     "execution_count": 3,
     "metadata": {},
     "output_type": "execute_result"
    }
   ],
   "source": [
    "t"
   ]
  },
  {
   "cell_type": "code",
   "execution_count": 4,
   "id": "fd70b0b9",
   "metadata": {
    "execution": {
     "iopub.execute_input": "2023-02-28T04:21:09.761224Z",
     "iopub.status.busy": "2023-02-28T04:21:09.760869Z",
     "iopub.status.idle": "2023-02-28T04:21:09.766646Z",
     "shell.execute_reply": "2023-02-28T04:21:09.766015Z"
    }
   },
   "outputs": [
    {
     "data": {
      "text/plain": [
       "tensor([[ 1.0214, -0.1645,  0.6355],\n",
       "        [ 0.2042,  0.2523,  0.5081]])"
      ]
     },
     "execution_count": 4,
     "metadata": {},
     "output_type": "execute_result"
    }
   ],
   "source": [
    "t.a"
   ]
  },
  {
   "cell_type": "code",
   "execution_count": 5,
   "id": "c18197bd",
   "metadata": {
    "execution": {
     "iopub.execute_input": "2023-02-28T04:21:09.769232Z",
     "iopub.status.busy": "2023-02-28T04:21:09.768798Z",
     "iopub.status.idle": "2023-02-28T04:21:15.072349Z",
     "shell.execute_reply": "2023-02-28T04:21:15.071461Z"
    }
   },
   "outputs": [
    {
     "name": "stdout",
     "output_type": "stream",
     "text": [
      "65.3 ns ± 0.0805 ns per loop (mean ± std. dev. of 7 runs, 10,000,000 loops each)\n"
     ]
    }
   ],
   "source": [
    "%timeit t.a"
   ]
  },
  {
   "cell_type": "code",
   "execution_count": 6,
   "id": "bd52f867",
   "metadata": {
    "execution": {
     "iopub.execute_input": "2023-02-28T04:21:15.075927Z",
     "iopub.status.busy": "2023-02-28T04:21:15.075506Z",
     "iopub.status.idle": "2023-02-28T04:21:15.082078Z",
     "shell.execute_reply": "2023-02-28T04:21:15.081399Z"
    }
   },
   "outputs": [
    {
     "data": {
      "text/plain": [
       "<FastTreeValue 0x7f5380958ca0>\n",
       "├── 'a' --> tensor([[-1.1399, -0.1353,  0.2886],\n",
       "│                   [ 0.5824, -0.2276, -1.2670]])\n",
       "└── 'x' --> <FastTreeValue 0x7f53809587c0>\n",
       "    └── 'c' --> tensor([[ 3.1689,  0.3907,  0.1241, -0.8749],\n",
       "                        [ 1.7390,  0.3995,  1.7836,  0.6277],\n",
       "                        [ 1.2627,  0.5921,  0.4079, -0.1474]])"
      ]
     },
     "execution_count": 6,
     "metadata": {},
     "output_type": "execute_result"
    }
   ],
   "source": [
    "new_value = torch.randn(2, 3)\n",
    "t.a = new_value\n",
    "\n",
    "t"
   ]
  },
  {
   "cell_type": "code",
   "execution_count": 7,
   "id": "bbe04d1c",
   "metadata": {
    "execution": {
     "iopub.execute_input": "2023-02-28T04:21:15.085181Z",
     "iopub.status.busy": "2023-02-28T04:21:15.084563Z",
     "iopub.status.idle": "2023-02-28T04:21:20.694349Z",
     "shell.execute_reply": "2023-02-28T04:21:20.693500Z"
    }
   },
   "outputs": [
    {
     "name": "stdout",
     "output_type": "stream",
     "text": [
      "69.1 ns ± 0.1 ns per loop (mean ± std. dev. of 7 runs, 10,000,000 loops each)\n"
     ]
    }
   ],
   "source": [
    "%timeit t.a = new_value"
   ]
  },
  {
   "cell_type": "markdown",
   "id": "48c49731",
   "metadata": {},
   "source": [
    "### Tianshou Batch's Get and Set"
   ]
  },
  {
   "cell_type": "code",
   "execution_count": 8,
   "id": "f1bb14c1",
   "metadata": {
    "execution": {
     "iopub.execute_input": "2023-02-28T04:21:20.697773Z",
     "iopub.status.busy": "2023-02-28T04:21:20.697302Z",
     "iopub.status.idle": "2023-02-28T04:21:21.051891Z",
     "shell.execute_reply": "2023-02-28T04:21:21.051145Z"
    }
   },
   "outputs": [],
   "source": [
    "from tianshou.data import Batch\n",
    "\n",
    "b = Batch(**_TREE_DATA_2)"
   ]
  },
  {
   "cell_type": "code",
   "execution_count": 9,
   "id": "cb0777c3",
   "metadata": {
    "execution": {
     "iopub.execute_input": "2023-02-28T04:21:21.055574Z",
     "iopub.status.busy": "2023-02-28T04:21:21.055093Z",
     "iopub.status.idle": "2023-02-28T04:21:21.061171Z",
     "shell.execute_reply": "2023-02-28T04:21:21.060465Z"
    }
   },
   "outputs": [
    {
     "data": {
      "text/plain": [
       "Batch(\n",
       "    a: tensor([[ 1.0214, -0.1645,  0.6355],\n",
       "               [ 0.2042,  0.2523,  0.5081]]),\n",
       "    x: Batch(\n",
       "           c: tensor([[ 3.1689,  0.3907,  0.1241, -0.8749],\n",
       "                      [ 1.7390,  0.3995,  1.7836,  0.6277],\n",
       "                      [ 1.2627,  0.5921,  0.4079, -0.1474]]),\n",
       "       ),\n",
       ")"
      ]
     },
     "execution_count": 9,
     "metadata": {},
     "output_type": "execute_result"
    }
   ],
   "source": [
    "b"
   ]
  },
  {
   "cell_type": "code",
   "execution_count": 10,
   "id": "43ef8ea3",
   "metadata": {
    "execution": {
     "iopub.execute_input": "2023-02-28T04:21:21.064418Z",
     "iopub.status.busy": "2023-02-28T04:21:21.063786Z",
     "iopub.status.idle": "2023-02-28T04:21:21.069352Z",
     "shell.execute_reply": "2023-02-28T04:21:21.068748Z"
    }
   },
   "outputs": [
    {
     "data": {
      "text/plain": [
       "tensor([[ 1.0214, -0.1645,  0.6355],\n",
       "        [ 0.2042,  0.2523,  0.5081]])"
      ]
     },
     "execution_count": 10,
     "metadata": {},
     "output_type": "execute_result"
    }
   ],
   "source": [
    "b.a"
   ]
  },
  {
   "cell_type": "code",
   "execution_count": 11,
   "id": "b785ab72",
   "metadata": {
    "execution": {
     "iopub.execute_input": "2023-02-28T04:21:21.072425Z",
     "iopub.status.busy": "2023-02-28T04:21:21.071806Z",
     "iopub.status.idle": "2023-02-28T04:21:25.807072Z",
     "shell.execute_reply": "2023-02-28T04:21:25.806201Z"
    }
   },
   "outputs": [
    {
     "name": "stdout",
     "output_type": "stream",
     "text": [
      "58.3 ns ± 0.298 ns per loop (mean ± std. dev. of 7 runs, 10,000,000 loops each)\n"
     ]
    }
   ],
   "source": [
    "%timeit b.a"
   ]
  },
  {
   "cell_type": "code",
   "execution_count": 12,
   "id": "ad54dc69",
   "metadata": {
    "execution": {
     "iopub.execute_input": "2023-02-28T04:21:25.811313Z",
     "iopub.status.busy": "2023-02-28T04:21:25.810724Z",
     "iopub.status.idle": "2023-02-28T04:21:25.817502Z",
     "shell.execute_reply": "2023-02-28T04:21:25.816802Z"
    }
   },
   "outputs": [
    {
     "data": {
      "text/plain": [
       "Batch(\n",
       "    a: tensor([[ 1.0552, -2.7974, -0.5555],\n",
       "               [ 0.3660, -1.4748, -0.5065]]),\n",
       "    x: Batch(\n",
       "           c: tensor([[ 3.1689,  0.3907,  0.1241, -0.8749],\n",
       "                      [ 1.7390,  0.3995,  1.7836,  0.6277],\n",
       "                      [ 1.2627,  0.5921,  0.4079, -0.1474]]),\n",
       "       ),\n",
       ")"
      ]
     },
     "execution_count": 12,
     "metadata": {},
     "output_type": "execute_result"
    }
   ],
   "source": [
    "new_value = torch.randn(2, 3)\n",
    "b.a = new_value\n",
    "\n",
    "b"
   ]
  },
  {
   "cell_type": "code",
   "execution_count": 13,
   "id": "29b1d0bf",
   "metadata": {
    "execution": {
     "iopub.execute_input": "2023-02-28T04:21:25.820486Z",
     "iopub.status.busy": "2023-02-28T04:21:25.819882Z",
     "iopub.status.idle": "2023-02-28T04:21:29.854258Z",
     "shell.execute_reply": "2023-02-28T04:21:29.852697Z"
    }
   },
   "outputs": [
    {
     "name": "stdout",
     "output_type": "stream",
     "text": [
      "496 ns ± 0.129 ns per loop (mean ± std. dev. of 7 runs, 1,000,000 loops each)\n"
     ]
    }
   ],
   "source": [
    "%timeit b.a = new_value"
   ]
  },
  {
   "cell_type": "markdown",
   "id": "b61ad1d0",
   "metadata": {},
   "source": [
    "## Initialization"
   ]
  },
  {
   "cell_type": "markdown",
   "id": "d70f0d54",
   "metadata": {},
   "source": [
    "### TreeValue's Initialization"
   ]
  },
  {
   "cell_type": "code",
   "execution_count": 14,
   "id": "d32a679b",
   "metadata": {
    "execution": {
     "iopub.execute_input": "2023-02-28T04:21:29.857858Z",
     "iopub.status.busy": "2023-02-28T04:21:29.857481Z",
     "iopub.status.idle": "2023-02-28T04:21:36.694206Z",
     "shell.execute_reply": "2023-02-28T04:21:36.693382Z"
    }
   },
   "outputs": [
    {
     "name": "stdout",
     "output_type": "stream",
     "text": [
      "842 ns ± 1.03 ns per loop (mean ± std. dev. of 7 runs, 1,000,000 loops each)\n"
     ]
    }
   ],
   "source": [
    "%timeit FastTreeValue(_TREE_DATA_1)"
   ]
  },
  {
   "cell_type": "markdown",
   "id": "24f3707b",
   "metadata": {},
   "source": [
    "### Tianshou Batch's Initialization"
   ]
  },
  {
   "cell_type": "code",
   "execution_count": 15,
   "id": "ac3958df",
   "metadata": {
    "execution": {
     "iopub.execute_input": "2023-02-28T04:21:36.697793Z",
     "iopub.status.busy": "2023-02-28T04:21:36.697191Z",
     "iopub.status.idle": "2023-02-28T04:21:45.398620Z",
     "shell.execute_reply": "2023-02-28T04:21:45.397753Z"
    }
   },
   "outputs": [
    {
     "name": "stdout",
     "output_type": "stream",
     "text": [
      "10.7 µs ± 13.9 ns per loop (mean ± std. dev. of 7 runs, 100,000 loops each)\n"
     ]
    }
   ],
   "source": [
    "%timeit Batch(**_TREE_DATA_1)"
   ]
  },
  {
   "cell_type": "markdown",
   "id": "1ab82e2d",
   "metadata": {},
   "source": [
    "## Deep Copy Operation"
   ]
  },
  {
   "cell_type": "code",
   "execution_count": 16,
   "id": "210a9442",
   "metadata": {
    "execution": {
     "iopub.execute_input": "2023-02-28T04:21:45.401967Z",
     "iopub.status.busy": "2023-02-28T04:21:45.401535Z",
     "iopub.status.idle": "2023-02-28T04:21:45.406240Z",
     "shell.execute_reply": "2023-02-28T04:21:45.405619Z"
    }
   },
   "outputs": [],
   "source": [
    "import copy"
   ]
  },
  {
   "cell_type": "markdown",
   "id": "5a736274",
   "metadata": {},
   "source": [
    "### Deep Copy of TreeValue"
   ]
  },
  {
   "cell_type": "code",
   "execution_count": 17,
   "id": "f9bcadd6",
   "metadata": {
    "execution": {
     "iopub.execute_input": "2023-02-28T04:21:45.409283Z",
     "iopub.status.busy": "2023-02-28T04:21:45.408697Z",
     "iopub.status.idle": "2023-02-28T04:21:56.893241Z",
     "shell.execute_reply": "2023-02-28T04:21:56.892417Z"
    }
   },
   "outputs": [
    {
     "name": "stdout",
     "output_type": "stream",
     "text": [
      "141 µs ± 731 ns per loop (mean ± std. dev. of 7 runs, 10,000 loops each)\n"
     ]
    }
   ],
   "source": [
    "t3 = FastTreeValue(_TREE_DATA_3)\n",
    "%timeit copy.deepcopy(t3)"
   ]
  },
  {
   "cell_type": "markdown",
   "id": "bf8be7ea",
   "metadata": {},
   "source": [
    "### Deep Copy of Tianshou Batch"
   ]
  },
  {
   "cell_type": "code",
   "execution_count": 18,
   "id": "91998e6f",
   "metadata": {
    "execution": {
     "iopub.execute_input": "2023-02-28T04:21:56.896548Z",
     "iopub.status.busy": "2023-02-28T04:21:56.896143Z",
     "iopub.status.idle": "2023-02-28T04:22:08.446233Z",
     "shell.execute_reply": "2023-02-28T04:22:08.445585Z"
    }
   },
   "outputs": [
    {
     "name": "stdout",
     "output_type": "stream",
     "text": [
      "142 µs ± 668 ns per loop (mean ± std. dev. of 7 runs, 10,000 loops each)\n"
     ]
    }
   ],
   "source": [
    "b3 = Batch(**_TREE_DATA_3)\n",
    "%timeit copy.deepcopy(b3)"
   ]
  },
  {
   "cell_type": "markdown",
   "id": "223162fb",
   "metadata": {},
   "source": [
    "## Stack, Concat and Split Operation"
   ]
  },
  {
   "cell_type": "markdown",
   "id": "85fa4a73",
   "metadata": {},
   "source": [
    "### Performance of TreeValue"
   ]
  },
  {
   "cell_type": "code",
   "execution_count": 19,
   "id": "a0c2b697",
   "metadata": {
    "execution": {
     "iopub.execute_input": "2023-02-28T04:22:08.449313Z",
     "iopub.status.busy": "2023-02-28T04:22:08.448819Z",
     "iopub.status.idle": "2023-02-28T04:22:08.452997Z",
     "shell.execute_reply": "2023-02-28T04:22:08.451809Z"
    }
   },
   "outputs": [],
   "source": [
    "trees = [FastTreeValue(_TREE_DATA_2) for _ in range(8)]"
   ]
  },
  {
   "cell_type": "code",
   "execution_count": 20,
   "id": "017ea5a5",
   "metadata": {
    "execution": {
     "iopub.execute_input": "2023-02-28T04:22:08.455661Z",
     "iopub.status.busy": "2023-02-28T04:22:08.455014Z",
     "iopub.status.idle": "2023-02-28T04:22:08.462268Z",
     "shell.execute_reply": "2023-02-28T04:22:08.461713Z"
    }
   },
   "outputs": [
    {
     "data": {
      "text/plain": [
       "<FastTreeValue 0x7f52c9c10610>\n",
       "├── 'a' --> tensor([[[ 1.0214, -0.1645,  0.6355],\n",
       "│                    [ 0.2042,  0.2523,  0.5081]],\n",
       "│           \n",
       "│                   [[ 1.0214, -0.1645,  0.6355],\n",
       "│                    [ 0.2042,  0.2523,  0.5081]],\n",
       "│           \n",
       "│                   [[ 1.0214, -0.1645,  0.6355],\n",
       "│                    [ 0.2042,  0.2523,  0.5081]],\n",
       "│           \n",
       "│                   [[ 1.0214, -0.1645,  0.6355],\n",
       "│                    [ 0.2042,  0.2523,  0.5081]],\n",
       "│           \n",
       "│                   [[ 1.0214, -0.1645,  0.6355],\n",
       "│                    [ 0.2042,  0.2523,  0.5081]],\n",
       "│           \n",
       "│                   [[ 1.0214, -0.1645,  0.6355],\n",
       "│                    [ 0.2042,  0.2523,  0.5081]],\n",
       "│           \n",
       "│                   [[ 1.0214, -0.1645,  0.6355],\n",
       "│                    [ 0.2042,  0.2523,  0.5081]],\n",
       "│           \n",
       "│                   [[ 1.0214, -0.1645,  0.6355],\n",
       "│                    [ 0.2042,  0.2523,  0.5081]]])\n",
       "└── 'x' --> <FastTreeValue 0x7f52c9c10580>\n",
       "    └── 'c' --> tensor([[[ 3.1689,  0.3907,  0.1241, -0.8749],\n",
       "                         [ 1.7390,  0.3995,  1.7836,  0.6277],\n",
       "                         [ 1.2627,  0.5921,  0.4079, -0.1474]],\n",
       "                \n",
       "                        [[ 3.1689,  0.3907,  0.1241, -0.8749],\n",
       "                         [ 1.7390,  0.3995,  1.7836,  0.6277],\n",
       "                         [ 1.2627,  0.5921,  0.4079, -0.1474]],\n",
       "                \n",
       "                        [[ 3.1689,  0.3907,  0.1241, -0.8749],\n",
       "                         [ 1.7390,  0.3995,  1.7836,  0.6277],\n",
       "                         [ 1.2627,  0.5921,  0.4079, -0.1474]],\n",
       "                \n",
       "                        [[ 3.1689,  0.3907,  0.1241, -0.8749],\n",
       "                         [ 1.7390,  0.3995,  1.7836,  0.6277],\n",
       "                         [ 1.2627,  0.5921,  0.4079, -0.1474]],\n",
       "                \n",
       "                        [[ 3.1689,  0.3907,  0.1241, -0.8749],\n",
       "                         [ 1.7390,  0.3995,  1.7836,  0.6277],\n",
       "                         [ 1.2627,  0.5921,  0.4079, -0.1474]],\n",
       "                \n",
       "                        [[ 3.1689,  0.3907,  0.1241, -0.8749],\n",
       "                         [ 1.7390,  0.3995,  1.7836,  0.6277],\n",
       "                         [ 1.2627,  0.5921,  0.4079, -0.1474]],\n",
       "                \n",
       "                        [[ 3.1689,  0.3907,  0.1241, -0.8749],\n",
       "                         [ 1.7390,  0.3995,  1.7836,  0.6277],\n",
       "                         [ 1.2627,  0.5921,  0.4079, -0.1474]],\n",
       "                \n",
       "                        [[ 3.1689,  0.3907,  0.1241, -0.8749],\n",
       "                         [ 1.7390,  0.3995,  1.7836,  0.6277],\n",
       "                         [ 1.2627,  0.5921,  0.4079, -0.1474]]])"
      ]
     },
     "execution_count": 20,
     "metadata": {},
     "output_type": "execute_result"
    }
   ],
   "source": [
    "t_stack = FastTreeValue.func(subside=True)(torch.stack)\n",
    "\n",
    "t_stack(trees)"
   ]
  },
  {
   "cell_type": "code",
   "execution_count": 21,
   "id": "f8b3f415",
   "metadata": {
    "execution": {
     "iopub.execute_input": "2023-02-28T04:22:08.464897Z",
     "iopub.status.busy": "2023-02-28T04:22:08.464277Z",
     "iopub.status.idle": "2023-02-28T04:22:11.164977Z",
     "shell.execute_reply": "2023-02-28T04:22:11.163970Z"
    }
   },
   "outputs": [
    {
     "name": "stdout",
     "output_type": "stream",
     "text": [
      "33.2 µs ± 56.7 ns per loop (mean ± std. dev. of 7 runs, 10,000 loops each)\n"
     ]
    }
   ],
   "source": [
    "%timeit t_stack(trees)"
   ]
  },
  {
   "cell_type": "code",
   "execution_count": 22,
   "id": "94b56771",
   "metadata": {
    "execution": {
     "iopub.execute_input": "2023-02-28T04:22:11.168559Z",
     "iopub.status.busy": "2023-02-28T04:22:11.167862Z",
     "iopub.status.idle": "2023-02-28T04:22:11.177121Z",
     "shell.execute_reply": "2023-02-28T04:22:11.176460Z"
    }
   },
   "outputs": [
    {
     "data": {
      "text/plain": [
       "<FastTreeValue 0x7f52c9cf4850>\n",
       "├── 'a' --> tensor([[ 1.0214, -0.1645,  0.6355],\n",
       "│                   [ 0.2042,  0.2523,  0.5081],\n",
       "│                   [ 1.0214, -0.1645,  0.6355],\n",
       "│                   [ 0.2042,  0.2523,  0.5081],\n",
       "│                   [ 1.0214, -0.1645,  0.6355],\n",
       "│                   [ 0.2042,  0.2523,  0.5081],\n",
       "│                   [ 1.0214, -0.1645,  0.6355],\n",
       "│                   [ 0.2042,  0.2523,  0.5081],\n",
       "│                   [ 1.0214, -0.1645,  0.6355],\n",
       "│                   [ 0.2042,  0.2523,  0.5081],\n",
       "│                   [ 1.0214, -0.1645,  0.6355],\n",
       "│                   [ 0.2042,  0.2523,  0.5081],\n",
       "│                   [ 1.0214, -0.1645,  0.6355],\n",
       "│                   [ 0.2042,  0.2523,  0.5081],\n",
       "│                   [ 1.0214, -0.1645,  0.6355],\n",
       "│                   [ 0.2042,  0.2523,  0.5081]])\n",
       "└── 'x' --> <FastTreeValue 0x7f52c9cf4880>\n",
       "    └── 'c' --> tensor([[ 3.1689,  0.3907,  0.1241, -0.8749],\n",
       "                        [ 1.7390,  0.3995,  1.7836,  0.6277],\n",
       "                        [ 1.2627,  0.5921,  0.4079, -0.1474],\n",
       "                        [ 3.1689,  0.3907,  0.1241, -0.8749],\n",
       "                        [ 1.7390,  0.3995,  1.7836,  0.6277],\n",
       "                        [ 1.2627,  0.5921,  0.4079, -0.1474],\n",
       "                        [ 3.1689,  0.3907,  0.1241, -0.8749],\n",
       "                        [ 1.7390,  0.3995,  1.7836,  0.6277],\n",
       "                        [ 1.2627,  0.5921,  0.4079, -0.1474],\n",
       "                        [ 3.1689,  0.3907,  0.1241, -0.8749],\n",
       "                        [ 1.7390,  0.3995,  1.7836,  0.6277],\n",
       "                        [ 1.2627,  0.5921,  0.4079, -0.1474],\n",
       "                        [ 3.1689,  0.3907,  0.1241, -0.8749],\n",
       "                        [ 1.7390,  0.3995,  1.7836,  0.6277],\n",
       "                        [ 1.2627,  0.5921,  0.4079, -0.1474],\n",
       "                        [ 3.1689,  0.3907,  0.1241, -0.8749],\n",
       "                        [ 1.7390,  0.3995,  1.7836,  0.6277],\n",
       "                        [ 1.2627,  0.5921,  0.4079, -0.1474],\n",
       "                        [ 3.1689,  0.3907,  0.1241, -0.8749],\n",
       "                        [ 1.7390,  0.3995,  1.7836,  0.6277],\n",
       "                        [ 1.2627,  0.5921,  0.4079, -0.1474],\n",
       "                        [ 3.1689,  0.3907,  0.1241, -0.8749],\n",
       "                        [ 1.7390,  0.3995,  1.7836,  0.6277],\n",
       "                        [ 1.2627,  0.5921,  0.4079, -0.1474]])"
      ]
     },
     "execution_count": 22,
     "metadata": {},
     "output_type": "execute_result"
    }
   ],
   "source": [
    "t_cat = FastTreeValue.func(subside=True)(torch.cat)\n",
    "\n",
    "t_cat(trees)"
   ]
  },
  {
   "cell_type": "code",
   "execution_count": 23,
   "id": "5e9c06a6",
   "metadata": {
    "execution": {
     "iopub.execute_input": "2023-02-28T04:22:11.180256Z",
     "iopub.status.busy": "2023-02-28T04:22:11.179720Z",
     "iopub.status.idle": "2023-02-28T04:22:13.685728Z",
     "shell.execute_reply": "2023-02-28T04:22:13.684800Z"
    }
   },
   "outputs": [
    {
     "name": "stdout",
     "output_type": "stream",
     "text": [
      "30.8 µs ± 136 ns per loop (mean ± std. dev. of 7 runs, 10,000 loops each)\n"
     ]
    }
   ],
   "source": [
    "%timeit t_cat(trees)"
   ]
  },
  {
   "cell_type": "code",
   "execution_count": 24,
   "id": "a3ab5c8f",
   "metadata": {
    "execution": {
     "iopub.execute_input": "2023-02-28T04:22:13.689168Z",
     "iopub.status.busy": "2023-02-28T04:22:13.688587Z",
     "iopub.status.idle": "2023-02-28T04:22:18.246304Z",
     "shell.execute_reply": "2023-02-28T04:22:18.245435Z"
    }
   },
   "outputs": [
    {
     "name": "stdout",
     "output_type": "stream",
     "text": [
      "56.1 µs ± 126 ns per loop (mean ± std. dev. of 7 runs, 10,000 loops each)\n"
     ]
    }
   ],
   "source": [
    "t_split = FastTreeValue.func(rise=True)(torch.split)\n",
    "tree = FastTreeValue({\n",
    "    'obs': torch.randn(8, 4, 84, 84),\n",
    "    'action': torch.randint(0, 6, size=(8, 1,)),\n",
    "    'reward': torch.rand(8, 1),\n",
    "})\n",
    "\n",
    "%timeit t_split(tree, 1)"
   ]
  },
  {
   "cell_type": "markdown",
   "id": "31c3ec0b",
   "metadata": {},
   "source": [
    "### Performance of Tianshou Batch"
   ]
  },
  {
   "cell_type": "code",
   "execution_count": 25,
   "id": "9ead828a",
   "metadata": {
    "execution": {
     "iopub.execute_input": "2023-02-28T04:22:18.250232Z",
     "iopub.status.busy": "2023-02-28T04:22:18.249622Z",
     "iopub.status.idle": "2023-02-28T04:22:18.258671Z",
     "shell.execute_reply": "2023-02-28T04:22:18.258015Z"
    }
   },
   "outputs": [
    {
     "data": {
      "text/plain": [
       "Batch(\n",
       "    a: tensor([[[ 1.0214, -0.1645,  0.6355],\n",
       "                [ 0.2042,  0.2523,  0.5081]],\n",
       "       \n",
       "               [[ 1.0214, -0.1645,  0.6355],\n",
       "                [ 0.2042,  0.2523,  0.5081]],\n",
       "       \n",
       "               [[ 1.0214, -0.1645,  0.6355],\n",
       "                [ 0.2042,  0.2523,  0.5081]],\n",
       "       \n",
       "               [[ 1.0214, -0.1645,  0.6355],\n",
       "                [ 0.2042,  0.2523,  0.5081]],\n",
       "       \n",
       "               [[ 1.0214, -0.1645,  0.6355],\n",
       "                [ 0.2042,  0.2523,  0.5081]],\n",
       "       \n",
       "               [[ 1.0214, -0.1645,  0.6355],\n",
       "                [ 0.2042,  0.2523,  0.5081]],\n",
       "       \n",
       "               [[ 1.0214, -0.1645,  0.6355],\n",
       "                [ 0.2042,  0.2523,  0.5081]],\n",
       "       \n",
       "               [[ 1.0214, -0.1645,  0.6355],\n",
       "                [ 0.2042,  0.2523,  0.5081]]]),\n",
       "    x: Batch(\n",
       "           c: tensor([[[ 3.1689,  0.3907,  0.1241, -0.8749],\n",
       "                       [ 1.7390,  0.3995,  1.7836,  0.6277],\n",
       "                       [ 1.2627,  0.5921,  0.4079, -0.1474]],\n",
       "              \n",
       "                      [[ 3.1689,  0.3907,  0.1241, -0.8749],\n",
       "                       [ 1.7390,  0.3995,  1.7836,  0.6277],\n",
       "                       [ 1.2627,  0.5921,  0.4079, -0.1474]],\n",
       "              \n",
       "                      [[ 3.1689,  0.3907,  0.1241, -0.8749],\n",
       "                       [ 1.7390,  0.3995,  1.7836,  0.6277],\n",
       "                       [ 1.2627,  0.5921,  0.4079, -0.1474]],\n",
       "              \n",
       "                      [[ 3.1689,  0.3907,  0.1241, -0.8749],\n",
       "                       [ 1.7390,  0.3995,  1.7836,  0.6277],\n",
       "                       [ 1.2627,  0.5921,  0.4079, -0.1474]],\n",
       "              \n",
       "                      [[ 3.1689,  0.3907,  0.1241, -0.8749],\n",
       "                       [ 1.7390,  0.3995,  1.7836,  0.6277],\n",
       "                       [ 1.2627,  0.5921,  0.4079, -0.1474]],\n",
       "              \n",
       "                      [[ 3.1689,  0.3907,  0.1241, -0.8749],\n",
       "                       [ 1.7390,  0.3995,  1.7836,  0.6277],\n",
       "                       [ 1.2627,  0.5921,  0.4079, -0.1474]],\n",
       "              \n",
       "                      [[ 3.1689,  0.3907,  0.1241, -0.8749],\n",
       "                       [ 1.7390,  0.3995,  1.7836,  0.6277],\n",
       "                       [ 1.2627,  0.5921,  0.4079, -0.1474]],\n",
       "              \n",
       "                      [[ 3.1689,  0.3907,  0.1241, -0.8749],\n",
       "                       [ 1.7390,  0.3995,  1.7836,  0.6277],\n",
       "                       [ 1.2627,  0.5921,  0.4079, -0.1474]]]),\n",
       "       ),\n",
       ")"
      ]
     },
     "execution_count": 25,
     "metadata": {},
     "output_type": "execute_result"
    }
   ],
   "source": [
    "batches = [Batch(**_TREE_DATA_2) for _ in range(8)]\n",
    "\n",
    "Batch.stack(batches)"
   ]
  },
  {
   "cell_type": "code",
   "execution_count": 26,
   "id": "ec9037a3",
   "metadata": {
    "execution": {
     "iopub.execute_input": "2023-02-28T04:22:18.261582Z",
     "iopub.status.busy": "2023-02-28T04:22:18.261232Z",
     "iopub.status.idle": "2023-02-28T04:22:24.615347Z",
     "shell.execute_reply": "2023-02-28T04:22:24.614490Z"
    }
   },
   "outputs": [
    {
     "name": "stdout",
     "output_type": "stream",
     "text": [
      "78.2 µs ± 88.1 ns per loop (mean ± std. dev. of 7 runs, 10,000 loops each)\n"
     ]
    }
   ],
   "source": [
    "%timeit Batch.stack(batches)"
   ]
  },
  {
   "cell_type": "code",
   "execution_count": 27,
   "id": "cb8ab77e",
   "metadata": {
    "execution": {
     "iopub.execute_input": "2023-02-28T04:22:24.619086Z",
     "iopub.status.busy": "2023-02-28T04:22:24.618517Z",
     "iopub.status.idle": "2023-02-28T04:22:24.626480Z",
     "shell.execute_reply": "2023-02-28T04:22:24.625856Z"
    }
   },
   "outputs": [
    {
     "data": {
      "text/plain": [
       "Batch(\n",
       "    a: tensor([[ 1.0214, -0.1645,  0.6355],\n",
       "               [ 0.2042,  0.2523,  0.5081],\n",
       "               [ 1.0214, -0.1645,  0.6355],\n",
       "               [ 0.2042,  0.2523,  0.5081],\n",
       "               [ 1.0214, -0.1645,  0.6355],\n",
       "               [ 0.2042,  0.2523,  0.5081],\n",
       "               [ 1.0214, -0.1645,  0.6355],\n",
       "               [ 0.2042,  0.2523,  0.5081],\n",
       "               [ 1.0214, -0.1645,  0.6355],\n",
       "               [ 0.2042,  0.2523,  0.5081],\n",
       "               [ 1.0214, -0.1645,  0.6355],\n",
       "               [ 0.2042,  0.2523,  0.5081],\n",
       "               [ 1.0214, -0.1645,  0.6355],\n",
       "               [ 0.2042,  0.2523,  0.5081],\n",
       "               [ 1.0214, -0.1645,  0.6355],\n",
       "               [ 0.2042,  0.2523,  0.5081]]),\n",
       "    x: Batch(\n",
       "           c: tensor([[ 3.1689,  0.3907,  0.1241, -0.8749],\n",
       "                      [ 1.7390,  0.3995,  1.7836,  0.6277],\n",
       "                      [ 1.2627,  0.5921,  0.4079, -0.1474],\n",
       "                      [ 3.1689,  0.3907,  0.1241, -0.8749],\n",
       "                      [ 1.7390,  0.3995,  1.7836,  0.6277],\n",
       "                      [ 1.2627,  0.5921,  0.4079, -0.1474],\n",
       "                      [ 3.1689,  0.3907,  0.1241, -0.8749],\n",
       "                      [ 1.7390,  0.3995,  1.7836,  0.6277],\n",
       "                      [ 1.2627,  0.5921,  0.4079, -0.1474],\n",
       "                      [ 3.1689,  0.3907,  0.1241, -0.8749],\n",
       "                      [ 1.7390,  0.3995,  1.7836,  0.6277],\n",
       "                      [ 1.2627,  0.5921,  0.4079, -0.1474],\n",
       "                      [ 3.1689,  0.3907,  0.1241, -0.8749],\n",
       "                      [ 1.7390,  0.3995,  1.7836,  0.6277],\n",
       "                      [ 1.2627,  0.5921,  0.4079, -0.1474],\n",
       "                      [ 3.1689,  0.3907,  0.1241, -0.8749],\n",
       "                      [ 1.7390,  0.3995,  1.7836,  0.6277],\n",
       "                      [ 1.2627,  0.5921,  0.4079, -0.1474],\n",
       "                      [ 3.1689,  0.3907,  0.1241, -0.8749],\n",
       "                      [ 1.7390,  0.3995,  1.7836,  0.6277],\n",
       "                      [ 1.2627,  0.5921,  0.4079, -0.1474],\n",
       "                      [ 3.1689,  0.3907,  0.1241, -0.8749],\n",
       "                      [ 1.7390,  0.3995,  1.7836,  0.6277],\n",
       "                      [ 1.2627,  0.5921,  0.4079, -0.1474]]),\n",
       "       ),\n",
       ")"
      ]
     },
     "execution_count": 27,
     "metadata": {},
     "output_type": "execute_result"
    }
   ],
   "source": [
    "Batch.cat(batches)"
   ]
  },
  {
   "cell_type": "code",
   "execution_count": 28,
   "id": "18dfb045",
   "metadata": {
    "execution": {
     "iopub.execute_input": "2023-02-28T04:22:24.629297Z",
     "iopub.status.busy": "2023-02-28T04:22:24.628737Z",
     "iopub.status.idle": "2023-02-28T04:22:36.318817Z",
     "shell.execute_reply": "2023-02-28T04:22:36.317963Z"
    }
   },
   "outputs": [
    {
     "name": "stdout",
     "output_type": "stream",
     "text": [
      "144 µs ± 1.09 µs per loop (mean ± std. dev. of 7 runs, 10,000 loops each)\n"
     ]
    }
   ],
   "source": [
    "%timeit Batch.cat(batches)"
   ]
  },
  {
   "cell_type": "code",
   "execution_count": 29,
   "id": "c6688e51",
   "metadata": {
    "execution": {
     "iopub.execute_input": "2023-02-28T04:22:36.322467Z",
     "iopub.status.busy": "2023-02-28T04:22:36.321892Z",
     "iopub.status.idle": "2023-02-28T04:22:38.989665Z",
     "shell.execute_reply": "2023-02-28T04:22:38.988769Z"
    }
   },
   "outputs": [
    {
     "name": "stdout",
     "output_type": "stream",
     "text": [
      "328 µs ± 1.55 µs per loop (mean ± std. dev. of 7 runs, 1,000 loops each)\n"
     ]
    }
   ],
   "source": [
    "batch = Batch({\n",
    "    'obs': torch.randn(8, 4, 84, 84),\n",
    "    'action': torch.randint(0, 6, size=(8, 1,)),\n",
    "    'reward': torch.rand(8, 1)}\n",
    ")\n",
    "\n",
    "%timeit list(Batch.split(batch, 1, shuffle=False, merge_last=True))"
   ]
  },
  {
   "cell_type": "code",
   "execution_count": null,
   "id": "2539fbd9",
   "metadata": {},
   "outputs": [],
   "source": []
  }
 ],
 "metadata": {
  "kernelspec": {
   "display_name": "Python 3 (ipykernel)",
   "language": "python",
   "name": "python3"
  },
  "language_info": {
   "codemirror_mode": {
    "name": "ipython",
    "version": 3
   },
   "file_extension": ".py",
   "mimetype": "text/x-python",
   "name": "python",
   "nbconvert_exporter": "python",
   "pygments_lexer": "ipython3",
   "version": "3.8.16"
  }
 },
 "nbformat": 4,
 "nbformat_minor": 5
}
