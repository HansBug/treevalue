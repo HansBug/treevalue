{
 "cells": [
  {
   "cell_type": "markdown",
   "id": "9d39d946",
   "metadata": {},
   "source": [
    "# Comparison Between TreeValue and Tianshou Batch"
   ]
  },
  {
   "cell_type": "markdown",
   "id": "3c6db2d4",
   "metadata": {},
   "source": [
    "In this section, we will take a look at the feature and performance of the [Tianshou Batch](https://github.com/thu-ml/tianshou) library, which is developed by Tsinghua Machine Learning Group."
   ]
  },
  {
   "cell_type": "markdown",
   "id": "069361b0",
   "metadata": {},
   "source": [
    "Before starting the comparison, let us define some thing."
   ]
  },
  {
   "cell_type": "code",
   "execution_count": 1,
   "id": "06fc8d26",
   "metadata": {
    "execution": {
     "iopub.execute_input": "2023-02-27T14:25:40.802945Z",
     "iopub.status.busy": "2023-02-27T14:25:40.802730Z",
     "iopub.status.idle": "2023-02-27T14:25:41.714790Z",
     "shell.execute_reply": "2023-02-27T14:25:41.714097Z"
    }
   },
   "outputs": [
    {
     "name": "stderr",
     "output_type": "stream",
     "text": [
      "/opt/hostedtoolcache/Python/3.8.16/x64/lib/python3.8/site-packages/tqdm/auto.py:22: TqdmWarning: IProgress not found. Please update jupyter and ipywidgets. See https://ipywidgets.readthedocs.io/en/stable/user_install.html\n",
      "  from .autonotebook import tqdm as notebook_tqdm\n"
     ]
    }
   ],
   "source": [
    "import torch \n",
    "\n",
    "_TREE_DATA_1 = {'a': 1, 'b': 2, 'x': {'c': 3, 'd': 4}}\n",
    "_TREE_DATA_2 = {\n",
    "    'a': torch.randn(2, 3), \n",
    "    'x': {\n",
    "        'c': torch.randn(3, 4)\n",
    "    },\n",
    "}\n",
    "_TREE_DATA_3 = {\n",
    "    'obs': torch.randn(4, 84, 84),\n",
    "    'action': torch.randint(0, 6, size=(1,)),\n",
    "    'reward': torch.rand(1),\n",
    "}"
   ]
  },
  {
   "cell_type": "markdown",
   "id": "83461b25",
   "metadata": {},
   "source": [
    "## Read and Write Operation"
   ]
  },
  {
   "cell_type": "markdown",
   "id": "067b3f73",
   "metadata": {},
   "source": [
    "Reading and writing are the two most common operations in the tree data structure based on the data model (TreeValue and Tianshou Batch both belong to this type), so this section will compare the reading and writing performance of these two libraries."
   ]
  },
  {
   "cell_type": "markdown",
   "id": "5d09a5b7",
   "metadata": {},
   "source": [
    "### TreeValue's Get and Set"
   ]
  },
  {
   "cell_type": "code",
   "execution_count": 2,
   "id": "9519c4bb",
   "metadata": {
    "execution": {
     "iopub.execute_input": "2023-02-27T14:25:41.718036Z",
     "iopub.status.busy": "2023-02-27T14:25:41.717473Z",
     "iopub.status.idle": "2023-02-27T14:25:41.995465Z",
     "shell.execute_reply": "2023-02-27T14:25:41.994772Z"
    }
   },
   "outputs": [],
   "source": [
    "from treevalue import FastTreeValue\n",
    "\n",
    "t = FastTreeValue(_TREE_DATA_2)"
   ]
  },
  {
   "cell_type": "code",
   "execution_count": 3,
   "id": "11c37677",
   "metadata": {
    "execution": {
     "iopub.execute_input": "2023-02-27T14:25:41.998662Z",
     "iopub.status.busy": "2023-02-27T14:25:41.998234Z",
     "iopub.status.idle": "2023-02-27T14:25:42.008385Z",
     "shell.execute_reply": "2023-02-27T14:25:42.007767Z"
    }
   },
   "outputs": [
    {
     "data": {
      "text/plain": [
       "<FastTreeValue 0x7f7cc4e20b50>\n",
       "├── 'a' --> tensor([[-0.1354, -1.1270, -0.7803],\n",
       "│                   [ 0.1163,  0.5671,  1.6967]])\n",
       "└── 'x' --> <FastTreeValue 0x7f7cc4e20c40>\n",
       "    └── 'c' --> tensor([[-2.6757,  0.4287, -0.9984,  0.9214],\n",
       "                        [ 0.1942,  1.1842,  1.0893,  0.1120],\n",
       "                        [ 1.2260, -0.4942, -0.6620,  0.5195]])"
      ]
     },
     "execution_count": 3,
     "metadata": {},
     "output_type": "execute_result"
    }
   ],
   "source": [
    "t"
   ]
  },
  {
   "cell_type": "code",
   "execution_count": 4,
   "id": "fd70b0b9",
   "metadata": {
    "execution": {
     "iopub.execute_input": "2023-02-27T14:25:42.011013Z",
     "iopub.status.busy": "2023-02-27T14:25:42.010673Z",
     "iopub.status.idle": "2023-02-27T14:25:42.016553Z",
     "shell.execute_reply": "2023-02-27T14:25:42.015980Z"
    }
   },
   "outputs": [
    {
     "data": {
      "text/plain": [
       "tensor([[-0.1354, -1.1270, -0.7803],\n",
       "        [ 0.1163,  0.5671,  1.6967]])"
      ]
     },
     "execution_count": 4,
     "metadata": {},
     "output_type": "execute_result"
    }
   ],
   "source": [
    "t.a"
   ]
  },
  {
   "cell_type": "code",
   "execution_count": 5,
   "id": "c18197bd",
   "metadata": {
    "execution": {
     "iopub.execute_input": "2023-02-27T14:25:42.019314Z",
     "iopub.status.busy": "2023-02-27T14:25:42.018857Z",
     "iopub.status.idle": "2023-02-27T14:25:47.013227Z",
     "shell.execute_reply": "2023-02-27T14:25:47.012539Z"
    }
   },
   "outputs": [
    {
     "name": "stdout",
     "output_type": "stream",
     "text": [
      "61.8 ns ± 0.949 ns per loop (mean ± std. dev. of 7 runs, 10,000,000 loops each)\n"
     ]
    }
   ],
   "source": [
    "%timeit t.a"
   ]
  },
  {
   "cell_type": "code",
   "execution_count": 6,
   "id": "bd52f867",
   "metadata": {
    "execution": {
     "iopub.execute_input": "2023-02-27T14:25:47.016297Z",
     "iopub.status.busy": "2023-02-27T14:25:47.015936Z",
     "iopub.status.idle": "2023-02-27T14:25:47.022718Z",
     "shell.execute_reply": "2023-02-27T14:25:47.022119Z"
    }
   },
   "outputs": [
    {
     "data": {
      "text/plain": [
       "<FastTreeValue 0x7f7cc4e20b50>\n",
       "├── 'a' --> tensor([[-0.3031, -1.4068, -1.3145],\n",
       "│                   [-1.5583, -1.1716, -0.9380]])\n",
       "└── 'x' --> <FastTreeValue 0x7f7cc4e20c40>\n",
       "    └── 'c' --> tensor([[-2.6757,  0.4287, -0.9984,  0.9214],\n",
       "                        [ 0.1942,  1.1842,  1.0893,  0.1120],\n",
       "                        [ 1.2260, -0.4942, -0.6620,  0.5195]])"
      ]
     },
     "execution_count": 6,
     "metadata": {},
     "output_type": "execute_result"
    }
   ],
   "source": [
    "new_value = torch.randn(2, 3)\n",
    "t.a = new_value\n",
    "\n",
    "t"
   ]
  },
  {
   "cell_type": "code",
   "execution_count": 7,
   "id": "bbe04d1c",
   "metadata": {
    "execution": {
     "iopub.execute_input": "2023-02-27T14:25:47.025566Z",
     "iopub.status.busy": "2023-02-27T14:25:47.025087Z",
     "iopub.status.idle": "2023-02-27T14:25:51.801649Z",
     "shell.execute_reply": "2023-02-27T14:25:51.801003Z"
    }
   },
   "outputs": [
    {
     "name": "stdout",
     "output_type": "stream",
     "text": [
      "58.3 ns ± 0.0829 ns per loop (mean ± std. dev. of 7 runs, 10,000,000 loops each)\n"
     ]
    }
   ],
   "source": [
    "%timeit t.a = new_value"
   ]
  },
  {
   "cell_type": "markdown",
   "id": "48c49731",
   "metadata": {},
   "source": [
    "### Tianshou Batch's Get and Set"
   ]
  },
  {
   "cell_type": "code",
   "execution_count": 8,
   "id": "f1bb14c1",
   "metadata": {
    "execution": {
     "iopub.execute_input": "2023-02-27T14:25:51.804522Z",
     "iopub.status.busy": "2023-02-27T14:25:51.804164Z",
     "iopub.status.idle": "2023-02-27T14:25:52.128986Z",
     "shell.execute_reply": "2023-02-27T14:25:52.128307Z"
    }
   },
   "outputs": [],
   "source": [
    "from tianshou.data import Batch\n",
    "\n",
    "b = Batch(**_TREE_DATA_2)"
   ]
  },
  {
   "cell_type": "code",
   "execution_count": 9,
   "id": "cb0777c3",
   "metadata": {
    "execution": {
     "iopub.execute_input": "2023-02-27T14:25:52.132444Z",
     "iopub.status.busy": "2023-02-27T14:25:52.131765Z",
     "iopub.status.idle": "2023-02-27T14:25:52.137924Z",
     "shell.execute_reply": "2023-02-27T14:25:52.137330Z"
    }
   },
   "outputs": [
    {
     "data": {
      "text/plain": [
       "Batch(\n",
       "    a: tensor([[-0.1354, -1.1270, -0.7803],\n",
       "               [ 0.1163,  0.5671,  1.6967]]),\n",
       "    x: Batch(\n",
       "           c: tensor([[-2.6757,  0.4287, -0.9984,  0.9214],\n",
       "                      [ 0.1942,  1.1842,  1.0893,  0.1120],\n",
       "                      [ 1.2260, -0.4942, -0.6620,  0.5195]]),\n",
       "       ),\n",
       ")"
      ]
     },
     "execution_count": 9,
     "metadata": {},
     "output_type": "execute_result"
    }
   ],
   "source": [
    "b"
   ]
  },
  {
   "cell_type": "code",
   "execution_count": 10,
   "id": "43ef8ea3",
   "metadata": {
    "execution": {
     "iopub.execute_input": "2023-02-27T14:25:52.140555Z",
     "iopub.status.busy": "2023-02-27T14:25:52.140225Z",
     "iopub.status.idle": "2023-02-27T14:25:52.145752Z",
     "shell.execute_reply": "2023-02-27T14:25:52.145185Z"
    }
   },
   "outputs": [
    {
     "data": {
      "text/plain": [
       "tensor([[-0.1354, -1.1270, -0.7803],\n",
       "        [ 0.1163,  0.5671,  1.6967]])"
      ]
     },
     "execution_count": 10,
     "metadata": {},
     "output_type": "execute_result"
    }
   ],
   "source": [
    "b.a"
   ]
  },
  {
   "cell_type": "code",
   "execution_count": 11,
   "id": "b785ab72",
   "metadata": {
    "execution": {
     "iopub.execute_input": "2023-02-27T14:25:52.148508Z",
     "iopub.status.busy": "2023-02-27T14:25:52.148031Z",
     "iopub.status.idle": "2023-02-27T14:25:56.488965Z",
     "shell.execute_reply": "2023-02-27T14:25:56.488273Z"
    }
   },
   "outputs": [
    {
     "name": "stdout",
     "output_type": "stream",
     "text": [
      "53.3 ns ± 0.041 ns per loop (mean ± std. dev. of 7 runs, 10,000,000 loops each)\n"
     ]
    }
   ],
   "source": [
    "%timeit b.a"
   ]
  },
  {
   "cell_type": "code",
   "execution_count": 12,
   "id": "ad54dc69",
   "metadata": {
    "execution": {
     "iopub.execute_input": "2023-02-27T14:25:56.492078Z",
     "iopub.status.busy": "2023-02-27T14:25:56.491572Z",
     "iopub.status.idle": "2023-02-27T14:25:56.498752Z",
     "shell.execute_reply": "2023-02-27T14:25:56.498178Z"
    }
   },
   "outputs": [
    {
     "data": {
      "text/plain": [
       "Batch(\n",
       "    a: tensor([[ 0.0122, -0.3830,  2.1192],\n",
       "               [-0.5294,  0.2058,  1.6641]]),\n",
       "    x: Batch(\n",
       "           c: tensor([[-2.6757,  0.4287, -0.9984,  0.9214],\n",
       "                      [ 0.1942,  1.1842,  1.0893,  0.1120],\n",
       "                      [ 1.2260, -0.4942, -0.6620,  0.5195]]),\n",
       "       ),\n",
       ")"
      ]
     },
     "execution_count": 12,
     "metadata": {},
     "output_type": "execute_result"
    }
   ],
   "source": [
    "new_value = torch.randn(2, 3)\n",
    "b.a = new_value\n",
    "\n",
    "b"
   ]
  },
  {
   "cell_type": "code",
   "execution_count": 13,
   "id": "29b1d0bf",
   "metadata": {
    "execution": {
     "iopub.execute_input": "2023-02-27T14:25:56.501459Z",
     "iopub.status.busy": "2023-02-27T14:25:56.500997Z",
     "iopub.status.idle": "2023-02-27T14:26:00.394653Z",
     "shell.execute_reply": "2023-02-27T14:26:00.393926Z"
    }
   },
   "outputs": [
    {
     "name": "stdout",
     "output_type": "stream",
     "text": [
      "479 ns ± 0.1 ns per loop (mean ± std. dev. of 7 runs, 1,000,000 loops each)\n"
     ]
    }
   ],
   "source": [
    "%timeit b.a = new_value"
   ]
  },
  {
   "cell_type": "markdown",
   "id": "b61ad1d0",
   "metadata": {},
   "source": [
    "## Initialization"
   ]
  },
  {
   "cell_type": "markdown",
   "id": "d70f0d54",
   "metadata": {},
   "source": [
    "### TreeValue's Initialization"
   ]
  },
  {
   "cell_type": "code",
   "execution_count": 14,
   "id": "d32a679b",
   "metadata": {
    "execution": {
     "iopub.execute_input": "2023-02-27T14:26:00.397683Z",
     "iopub.status.busy": "2023-02-27T14:26:00.397304Z",
     "iopub.status.idle": "2023-02-27T14:26:07.244756Z",
     "shell.execute_reply": "2023-02-27T14:26:07.243989Z"
    }
   },
   "outputs": [
    {
     "name": "stdout",
     "output_type": "stream",
     "text": [
      "846 ns ± 0.0881 ns per loop (mean ± std. dev. of 7 runs, 1,000,000 loops each)\n"
     ]
    }
   ],
   "source": [
    "%timeit FastTreeValue(_TREE_DATA_1)"
   ]
  },
  {
   "cell_type": "markdown",
   "id": "24f3707b",
   "metadata": {},
   "source": [
    "### Tianshou Batch's Initialization"
   ]
  },
  {
   "cell_type": "code",
   "execution_count": 15,
   "id": "ac3958df",
   "metadata": {
    "execution": {
     "iopub.execute_input": "2023-02-27T14:26:07.247910Z",
     "iopub.status.busy": "2023-02-27T14:26:07.247416Z",
     "iopub.status.idle": "2023-02-27T14:26:16.702958Z",
     "shell.execute_reply": "2023-02-27T14:26:16.702205Z"
    }
   },
   "outputs": [
    {
     "name": "stdout",
     "output_type": "stream",
     "text": [
      "11.6 µs ± 16.2 ns per loop (mean ± std. dev. of 7 runs, 100,000 loops each)\n"
     ]
    }
   ],
   "source": [
    "%timeit Batch(**_TREE_DATA_1)"
   ]
  },
  {
   "cell_type": "markdown",
   "id": "1ab82e2d",
   "metadata": {},
   "source": [
    "## Deep Copy Operation"
   ]
  },
  {
   "cell_type": "code",
   "execution_count": 16,
   "id": "210a9442",
   "metadata": {
    "execution": {
     "iopub.execute_input": "2023-02-27T14:26:16.706306Z",
     "iopub.status.busy": "2023-02-27T14:26:16.705632Z",
     "iopub.status.idle": "2023-02-27T14:26:16.709306Z",
     "shell.execute_reply": "2023-02-27T14:26:16.708705Z"
    }
   },
   "outputs": [],
   "source": [
    "import copy"
   ]
  },
  {
   "cell_type": "markdown",
   "id": "5a736274",
   "metadata": {},
   "source": [
    "### Deep Copy of TreeValue"
   ]
  },
  {
   "cell_type": "code",
   "execution_count": 17,
   "id": "f9bcadd6",
   "metadata": {
    "execution": {
     "iopub.execute_input": "2023-02-27T14:26:16.711726Z",
     "iopub.status.busy": "2023-02-27T14:26:16.711387Z",
     "iopub.status.idle": "2023-02-27T14:26:28.083578Z",
     "shell.execute_reply": "2023-02-27T14:26:28.082991Z"
    }
   },
   "outputs": [
    {
     "name": "stdout",
     "output_type": "stream",
     "text": [
      "140 µs ± 631 ns per loop (mean ± std. dev. of 7 runs, 10,000 loops each)\n"
     ]
    }
   ],
   "source": [
    "t3 = FastTreeValue(_TREE_DATA_3)\n",
    "%timeit copy.deepcopy(t3)"
   ]
  },
  {
   "cell_type": "markdown",
   "id": "bf8be7ea",
   "metadata": {},
   "source": [
    "### Deep Copy of Tianshou Batch"
   ]
  },
  {
   "cell_type": "code",
   "execution_count": 18,
   "id": "91998e6f",
   "metadata": {
    "execution": {
     "iopub.execute_input": "2023-02-27T14:26:28.087344Z",
     "iopub.status.busy": "2023-02-27T14:26:28.086427Z",
     "iopub.status.idle": "2023-02-27T14:26:39.582657Z",
     "shell.execute_reply": "2023-02-27T14:26:39.582066Z"
    }
   },
   "outputs": [
    {
     "name": "stdout",
     "output_type": "stream",
     "text": [
      "142 µs ± 170 ns per loop (mean ± std. dev. of 7 runs, 10,000 loops each)\n"
     ]
    }
   ],
   "source": [
    "b3 = Batch(**_TREE_DATA_3)\n",
    "%timeit copy.deepcopy(b3)"
   ]
  },
  {
   "cell_type": "markdown",
   "id": "223162fb",
   "metadata": {},
   "source": [
    "## Stack, Concat and Split Operation"
   ]
  },
  {
   "cell_type": "markdown",
   "id": "85fa4a73",
   "metadata": {},
   "source": [
    "### Performance of TreeValue"
   ]
  },
  {
   "cell_type": "code",
   "execution_count": 19,
   "id": "a0c2b697",
   "metadata": {
    "execution": {
     "iopub.execute_input": "2023-02-27T14:26:39.586455Z",
     "iopub.status.busy": "2023-02-27T14:26:39.585506Z",
     "iopub.status.idle": "2023-02-27T14:26:39.589709Z",
     "shell.execute_reply": "2023-02-27T14:26:39.589183Z"
    }
   },
   "outputs": [],
   "source": [
    "trees = [FastTreeValue(_TREE_DATA_2) for _ in range(8)]"
   ]
  },
  {
   "cell_type": "code",
   "execution_count": 20,
   "id": "017ea5a5",
   "metadata": {
    "execution": {
     "iopub.execute_input": "2023-02-27T14:26:39.593193Z",
     "iopub.status.busy": "2023-02-27T14:26:39.592307Z",
     "iopub.status.idle": "2023-02-27T14:26:39.600295Z",
     "shell.execute_reply": "2023-02-27T14:26:39.599673Z"
    }
   },
   "outputs": [
    {
     "data": {
      "text/plain": [
       "<FastTreeValue 0x7f7c0f0bd100>\n",
       "├── 'a' --> tensor([[[-0.1354, -1.1270, -0.7803],\n",
       "│                    [ 0.1163,  0.5671,  1.6967]],\n",
       "│           \n",
       "│                   [[-0.1354, -1.1270, -0.7803],\n",
       "│                    [ 0.1163,  0.5671,  1.6967]],\n",
       "│           \n",
       "│                   [[-0.1354, -1.1270, -0.7803],\n",
       "│                    [ 0.1163,  0.5671,  1.6967]],\n",
       "│           \n",
       "│                   [[-0.1354, -1.1270, -0.7803],\n",
       "│                    [ 0.1163,  0.5671,  1.6967]],\n",
       "│           \n",
       "│                   [[-0.1354, -1.1270, -0.7803],\n",
       "│                    [ 0.1163,  0.5671,  1.6967]],\n",
       "│           \n",
       "│                   [[-0.1354, -1.1270, -0.7803],\n",
       "│                    [ 0.1163,  0.5671,  1.6967]],\n",
       "│           \n",
       "│                   [[-0.1354, -1.1270, -0.7803],\n",
       "│                    [ 0.1163,  0.5671,  1.6967]],\n",
       "│           \n",
       "│                   [[-0.1354, -1.1270, -0.7803],\n",
       "│                    [ 0.1163,  0.5671,  1.6967]]])\n",
       "└── 'x' --> <FastTreeValue 0x7f7c0f0bd160>\n",
       "    └── 'c' --> tensor([[[-2.6757,  0.4287, -0.9984,  0.9214],\n",
       "                         [ 0.1942,  1.1842,  1.0893,  0.1120],\n",
       "                         [ 1.2260, -0.4942, -0.6620,  0.5195]],\n",
       "                \n",
       "                        [[-2.6757,  0.4287, -0.9984,  0.9214],\n",
       "                         [ 0.1942,  1.1842,  1.0893,  0.1120],\n",
       "                         [ 1.2260, -0.4942, -0.6620,  0.5195]],\n",
       "                \n",
       "                        [[-2.6757,  0.4287, -0.9984,  0.9214],\n",
       "                         [ 0.1942,  1.1842,  1.0893,  0.1120],\n",
       "                         [ 1.2260, -0.4942, -0.6620,  0.5195]],\n",
       "                \n",
       "                        [[-2.6757,  0.4287, -0.9984,  0.9214],\n",
       "                         [ 0.1942,  1.1842,  1.0893,  0.1120],\n",
       "                         [ 1.2260, -0.4942, -0.6620,  0.5195]],\n",
       "                \n",
       "                        [[-2.6757,  0.4287, -0.9984,  0.9214],\n",
       "                         [ 0.1942,  1.1842,  1.0893,  0.1120],\n",
       "                         [ 1.2260, -0.4942, -0.6620,  0.5195]],\n",
       "                \n",
       "                        [[-2.6757,  0.4287, -0.9984,  0.9214],\n",
       "                         [ 0.1942,  1.1842,  1.0893,  0.1120],\n",
       "                         [ 1.2260, -0.4942, -0.6620,  0.5195]],\n",
       "                \n",
       "                        [[-2.6757,  0.4287, -0.9984,  0.9214],\n",
       "                         [ 0.1942,  1.1842,  1.0893,  0.1120],\n",
       "                         [ 1.2260, -0.4942, -0.6620,  0.5195]],\n",
       "                \n",
       "                        [[-2.6757,  0.4287, -0.9984,  0.9214],\n",
       "                         [ 0.1942,  1.1842,  1.0893,  0.1120],\n",
       "                         [ 1.2260, -0.4942, -0.6620,  0.5195]]])"
      ]
     },
     "execution_count": 20,
     "metadata": {},
     "output_type": "execute_result"
    }
   ],
   "source": [
    "t_stack = FastTreeValue.func(subside=True)(torch.stack)\n",
    "\n",
    "t_stack(trees)"
   ]
  },
  {
   "cell_type": "code",
   "execution_count": 21,
   "id": "f8b3f415",
   "metadata": {
    "execution": {
     "iopub.execute_input": "2023-02-27T14:26:39.602620Z",
     "iopub.status.busy": "2023-02-27T14:26:39.602353Z",
     "iopub.status.idle": "2023-02-27T14:26:42.192344Z",
     "shell.execute_reply": "2023-02-27T14:26:42.191606Z"
    }
   },
   "outputs": [
    {
     "name": "stdout",
     "output_type": "stream",
     "text": [
      "31.8 µs ± 83.9 ns per loop (mean ± std. dev. of 7 runs, 10,000 loops each)\n"
     ]
    }
   ],
   "source": [
    "%timeit t_stack(trees)"
   ]
  },
  {
   "cell_type": "code",
   "execution_count": 22,
   "id": "94b56771",
   "metadata": {
    "execution": {
     "iopub.execute_input": "2023-02-27T14:26:42.195536Z",
     "iopub.status.busy": "2023-02-27T14:26:42.195031Z",
     "iopub.status.idle": "2023-02-27T14:26:42.202891Z",
     "shell.execute_reply": "2023-02-27T14:26:42.202303Z"
    }
   },
   "outputs": [
    {
     "data": {
      "text/plain": [
       "<FastTreeValue 0x7f7cc4e204c0>\n",
       "├── 'a' --> tensor([[-0.1354, -1.1270, -0.7803],\n",
       "│                   [ 0.1163,  0.5671,  1.6967],\n",
       "│                   [-0.1354, -1.1270, -0.7803],\n",
       "│                   [ 0.1163,  0.5671,  1.6967],\n",
       "│                   [-0.1354, -1.1270, -0.7803],\n",
       "│                   [ 0.1163,  0.5671,  1.6967],\n",
       "│                   [-0.1354, -1.1270, -0.7803],\n",
       "│                   [ 0.1163,  0.5671,  1.6967],\n",
       "│                   [-0.1354, -1.1270, -0.7803],\n",
       "│                   [ 0.1163,  0.5671,  1.6967],\n",
       "│                   [-0.1354, -1.1270, -0.7803],\n",
       "│                   [ 0.1163,  0.5671,  1.6967],\n",
       "│                   [-0.1354, -1.1270, -0.7803],\n",
       "│                   [ 0.1163,  0.5671,  1.6967],\n",
       "│                   [-0.1354, -1.1270, -0.7803],\n",
       "│                   [ 0.1163,  0.5671,  1.6967]])\n",
       "└── 'x' --> <FastTreeValue 0x7f7cc4e20940>\n",
       "    └── 'c' --> tensor([[-2.6757,  0.4287, -0.9984,  0.9214],\n",
       "                        [ 0.1942,  1.1842,  1.0893,  0.1120],\n",
       "                        [ 1.2260, -0.4942, -0.6620,  0.5195],\n",
       "                        [-2.6757,  0.4287, -0.9984,  0.9214],\n",
       "                        [ 0.1942,  1.1842,  1.0893,  0.1120],\n",
       "                        [ 1.2260, -0.4942, -0.6620,  0.5195],\n",
       "                        [-2.6757,  0.4287, -0.9984,  0.9214],\n",
       "                        [ 0.1942,  1.1842,  1.0893,  0.1120],\n",
       "                        [ 1.2260, -0.4942, -0.6620,  0.5195],\n",
       "                        [-2.6757,  0.4287, -0.9984,  0.9214],\n",
       "                        [ 0.1942,  1.1842,  1.0893,  0.1120],\n",
       "                        [ 1.2260, -0.4942, -0.6620,  0.5195],\n",
       "                        [-2.6757,  0.4287, -0.9984,  0.9214],\n",
       "                        [ 0.1942,  1.1842,  1.0893,  0.1120],\n",
       "                        [ 1.2260, -0.4942, -0.6620,  0.5195],\n",
       "                        [-2.6757,  0.4287, -0.9984,  0.9214],\n",
       "                        [ 0.1942,  1.1842,  1.0893,  0.1120],\n",
       "                        [ 1.2260, -0.4942, -0.6620,  0.5195],\n",
       "                        [-2.6757,  0.4287, -0.9984,  0.9214],\n",
       "                        [ 0.1942,  1.1842,  1.0893,  0.1120],\n",
       "                        [ 1.2260, -0.4942, -0.6620,  0.5195],\n",
       "                        [-2.6757,  0.4287, -0.9984,  0.9214],\n",
       "                        [ 0.1942,  1.1842,  1.0893,  0.1120],\n",
       "                        [ 1.2260, -0.4942, -0.6620,  0.5195]])"
      ]
     },
     "execution_count": 22,
     "metadata": {},
     "output_type": "execute_result"
    }
   ],
   "source": [
    "t_cat = FastTreeValue.func(subside=True)(torch.cat)\n",
    "\n",
    "t_cat(trees)"
   ]
  },
  {
   "cell_type": "code",
   "execution_count": 23,
   "id": "5e9c06a6",
   "metadata": {
    "execution": {
     "iopub.execute_input": "2023-02-27T14:26:42.205476Z",
     "iopub.status.busy": "2023-02-27T14:26:42.205146Z",
     "iopub.status.idle": "2023-02-27T14:26:44.607001Z",
     "shell.execute_reply": "2023-02-27T14:26:44.606345Z"
    }
   },
   "outputs": [
    {
     "name": "stdout",
     "output_type": "stream",
     "text": [
      "29.5 µs ± 49 ns per loop (mean ± std. dev. of 7 runs, 10,000 loops each)\n"
     ]
    }
   ],
   "source": [
    "%timeit t_cat(trees)"
   ]
  },
  {
   "cell_type": "code",
   "execution_count": 24,
   "id": "a3ab5c8f",
   "metadata": {
    "execution": {
     "iopub.execute_input": "2023-02-27T14:26:44.609967Z",
     "iopub.status.busy": "2023-02-27T14:26:44.609392Z",
     "iopub.status.idle": "2023-02-27T14:26:49.406819Z",
     "shell.execute_reply": "2023-02-27T14:26:49.406065Z"
    }
   },
   "outputs": [
    {
     "name": "stdout",
     "output_type": "stream",
     "text": [
      "59 µs ± 103 ns per loop (mean ± std. dev. of 7 runs, 10,000 loops each)\n"
     ]
    }
   ],
   "source": [
    "t_split = FastTreeValue.func(rise=True)(torch.split)\n",
    "tree = FastTreeValue({\n",
    "    'obs': torch.randn(8, 4, 84, 84),\n",
    "    'action': torch.randint(0, 6, size=(8, 1,)),\n",
    "    'reward': torch.rand(8, 1),\n",
    "})\n",
    "\n",
    "%timeit t_split(tree, 1)"
   ]
  },
  {
   "cell_type": "markdown",
   "id": "31c3ec0b",
   "metadata": {},
   "source": [
    "### Performance of Tianshou Batch"
   ]
  },
  {
   "cell_type": "code",
   "execution_count": 25,
   "id": "9ead828a",
   "metadata": {
    "execution": {
     "iopub.execute_input": "2023-02-27T14:26:49.410523Z",
     "iopub.status.busy": "2023-02-27T14:26:49.409478Z",
     "iopub.status.idle": "2023-02-27T14:26:49.418413Z",
     "shell.execute_reply": "2023-02-27T14:26:49.417807Z"
    }
   },
   "outputs": [
    {
     "data": {
      "text/plain": [
       "Batch(\n",
       "    x: Batch(\n",
       "           c: tensor([[[-2.6757,  0.4287, -0.9984,  0.9214],\n",
       "                       [ 0.1942,  1.1842,  1.0893,  0.1120],\n",
       "                       [ 1.2260, -0.4942, -0.6620,  0.5195]],\n",
       "              \n",
       "                      [[-2.6757,  0.4287, -0.9984,  0.9214],\n",
       "                       [ 0.1942,  1.1842,  1.0893,  0.1120],\n",
       "                       [ 1.2260, -0.4942, -0.6620,  0.5195]],\n",
       "              \n",
       "                      [[-2.6757,  0.4287, -0.9984,  0.9214],\n",
       "                       [ 0.1942,  1.1842,  1.0893,  0.1120],\n",
       "                       [ 1.2260, -0.4942, -0.6620,  0.5195]],\n",
       "              \n",
       "                      [[-2.6757,  0.4287, -0.9984,  0.9214],\n",
       "                       [ 0.1942,  1.1842,  1.0893,  0.1120],\n",
       "                       [ 1.2260, -0.4942, -0.6620,  0.5195]],\n",
       "              \n",
       "                      [[-2.6757,  0.4287, -0.9984,  0.9214],\n",
       "                       [ 0.1942,  1.1842,  1.0893,  0.1120],\n",
       "                       [ 1.2260, -0.4942, -0.6620,  0.5195]],\n",
       "              \n",
       "                      [[-2.6757,  0.4287, -0.9984,  0.9214],\n",
       "                       [ 0.1942,  1.1842,  1.0893,  0.1120],\n",
       "                       [ 1.2260, -0.4942, -0.6620,  0.5195]],\n",
       "              \n",
       "                      [[-2.6757,  0.4287, -0.9984,  0.9214],\n",
       "                       [ 0.1942,  1.1842,  1.0893,  0.1120],\n",
       "                       [ 1.2260, -0.4942, -0.6620,  0.5195]],\n",
       "              \n",
       "                      [[-2.6757,  0.4287, -0.9984,  0.9214],\n",
       "                       [ 0.1942,  1.1842,  1.0893,  0.1120],\n",
       "                       [ 1.2260, -0.4942, -0.6620,  0.5195]]]),\n",
       "       ),\n",
       "    a: tensor([[[-0.1354, -1.1270, -0.7803],\n",
       "                [ 0.1163,  0.5671,  1.6967]],\n",
       "       \n",
       "               [[-0.1354, -1.1270, -0.7803],\n",
       "                [ 0.1163,  0.5671,  1.6967]],\n",
       "       \n",
       "               [[-0.1354, -1.1270, -0.7803],\n",
       "                [ 0.1163,  0.5671,  1.6967]],\n",
       "       \n",
       "               [[-0.1354, -1.1270, -0.7803],\n",
       "                [ 0.1163,  0.5671,  1.6967]],\n",
       "       \n",
       "               [[-0.1354, -1.1270, -0.7803],\n",
       "                [ 0.1163,  0.5671,  1.6967]],\n",
       "       \n",
       "               [[-0.1354, -1.1270, -0.7803],\n",
       "                [ 0.1163,  0.5671,  1.6967]],\n",
       "       \n",
       "               [[-0.1354, -1.1270, -0.7803],\n",
       "                [ 0.1163,  0.5671,  1.6967]],\n",
       "       \n",
       "               [[-0.1354, -1.1270, -0.7803],\n",
       "                [ 0.1163,  0.5671,  1.6967]]]),\n",
       ")"
      ]
     },
     "execution_count": 25,
     "metadata": {},
     "output_type": "execute_result"
    }
   ],
   "source": [
    "batches = [Batch(**_TREE_DATA_2) for _ in range(8)]\n",
    "\n",
    "Batch.stack(batches)"
   ]
  },
  {
   "cell_type": "code",
   "execution_count": 26,
   "id": "ec9037a3",
   "metadata": {
    "execution": {
     "iopub.execute_input": "2023-02-27T14:26:49.421213Z",
     "iopub.status.busy": "2023-02-27T14:26:49.420734Z",
     "iopub.status.idle": "2023-02-27T14:26:55.738217Z",
     "shell.execute_reply": "2023-02-27T14:26:55.737445Z"
    }
   },
   "outputs": [
    {
     "name": "stdout",
     "output_type": "stream",
     "text": [
      "77.7 µs ± 72 ns per loop (mean ± std. dev. of 7 runs, 10,000 loops each)\n"
     ]
    }
   ],
   "source": [
    "%timeit Batch.stack(batches)"
   ]
  },
  {
   "cell_type": "code",
   "execution_count": 27,
   "id": "cb8ab77e",
   "metadata": {
    "execution": {
     "iopub.execute_input": "2023-02-27T14:26:55.741188Z",
     "iopub.status.busy": "2023-02-27T14:26:55.740823Z",
     "iopub.status.idle": "2023-02-27T14:26:55.748332Z",
     "shell.execute_reply": "2023-02-27T14:26:55.747731Z"
    }
   },
   "outputs": [
    {
     "data": {
      "text/plain": [
       "Batch(\n",
       "    x: Batch(\n",
       "           c: tensor([[-2.6757,  0.4287, -0.9984,  0.9214],\n",
       "                      [ 0.1942,  1.1842,  1.0893,  0.1120],\n",
       "                      [ 1.2260, -0.4942, -0.6620,  0.5195],\n",
       "                      [-2.6757,  0.4287, -0.9984,  0.9214],\n",
       "                      [ 0.1942,  1.1842,  1.0893,  0.1120],\n",
       "                      [ 1.2260, -0.4942, -0.6620,  0.5195],\n",
       "                      [-2.6757,  0.4287, -0.9984,  0.9214],\n",
       "                      [ 0.1942,  1.1842,  1.0893,  0.1120],\n",
       "                      [ 1.2260, -0.4942, -0.6620,  0.5195],\n",
       "                      [-2.6757,  0.4287, -0.9984,  0.9214],\n",
       "                      [ 0.1942,  1.1842,  1.0893,  0.1120],\n",
       "                      [ 1.2260, -0.4942, -0.6620,  0.5195],\n",
       "                      [-2.6757,  0.4287, -0.9984,  0.9214],\n",
       "                      [ 0.1942,  1.1842,  1.0893,  0.1120],\n",
       "                      [ 1.2260, -0.4942, -0.6620,  0.5195],\n",
       "                      [-2.6757,  0.4287, -0.9984,  0.9214],\n",
       "                      [ 0.1942,  1.1842,  1.0893,  0.1120],\n",
       "                      [ 1.2260, -0.4942, -0.6620,  0.5195],\n",
       "                      [-2.6757,  0.4287, -0.9984,  0.9214],\n",
       "                      [ 0.1942,  1.1842,  1.0893,  0.1120],\n",
       "                      [ 1.2260, -0.4942, -0.6620,  0.5195],\n",
       "                      [-2.6757,  0.4287, -0.9984,  0.9214],\n",
       "                      [ 0.1942,  1.1842,  1.0893,  0.1120],\n",
       "                      [ 1.2260, -0.4942, -0.6620,  0.5195]]),\n",
       "       ),\n",
       "    a: tensor([[-0.1354, -1.1270, -0.7803],\n",
       "               [ 0.1163,  0.5671,  1.6967],\n",
       "               [-0.1354, -1.1270, -0.7803],\n",
       "               [ 0.1163,  0.5671,  1.6967],\n",
       "               [-0.1354, -1.1270, -0.7803],\n",
       "               [ 0.1163,  0.5671,  1.6967],\n",
       "               [-0.1354, -1.1270, -0.7803],\n",
       "               [ 0.1163,  0.5671,  1.6967],\n",
       "               [-0.1354, -1.1270, -0.7803],\n",
       "               [ 0.1163,  0.5671,  1.6967],\n",
       "               [-0.1354, -1.1270, -0.7803],\n",
       "               [ 0.1163,  0.5671,  1.6967],\n",
       "               [-0.1354, -1.1270, -0.7803],\n",
       "               [ 0.1163,  0.5671,  1.6967],\n",
       "               [-0.1354, -1.1270, -0.7803],\n",
       "               [ 0.1163,  0.5671,  1.6967]]),\n",
       ")"
      ]
     },
     "execution_count": 27,
     "metadata": {},
     "output_type": "execute_result"
    }
   ],
   "source": [
    "Batch.cat(batches)"
   ]
  },
  {
   "cell_type": "code",
   "execution_count": 28,
   "id": "18dfb045",
   "metadata": {
    "execution": {
     "iopub.execute_input": "2023-02-27T14:26:55.751105Z",
     "iopub.status.busy": "2023-02-27T14:26:55.750599Z",
     "iopub.status.idle": "2023-02-27T14:27:07.269190Z",
     "shell.execute_reply": "2023-02-27T14:27:07.268422Z"
    }
   },
   "outputs": [
    {
     "name": "stdout",
     "output_type": "stream",
     "text": [
      "142 µs ± 342 ns per loop (mean ± std. dev. of 7 runs, 10,000 loops each)\n"
     ]
    }
   ],
   "source": [
    "%timeit Batch.cat(batches)"
   ]
  },
  {
   "cell_type": "code",
   "execution_count": 29,
   "id": "c6688e51",
   "metadata": {
    "execution": {
     "iopub.execute_input": "2023-02-27T14:27:07.272397Z",
     "iopub.status.busy": "2023-02-27T14:27:07.271863Z",
     "iopub.status.idle": "2023-02-27T14:27:09.822931Z",
     "shell.execute_reply": "2023-02-27T14:27:09.822325Z"
    }
   },
   "outputs": [
    {
     "name": "stdout",
     "output_type": "stream",
     "text": [
      "313 µs ± 3.44 µs per loop (mean ± std. dev. of 7 runs, 1,000 loops each)\n"
     ]
    }
   ],
   "source": [
    "batch = Batch({\n",
    "    'obs': torch.randn(8, 4, 84, 84),\n",
    "    'action': torch.randint(0, 6, size=(8, 1,)),\n",
    "    'reward': torch.rand(8, 1)}\n",
    ")\n",
    "\n",
    "%timeit list(Batch.split(batch, 1, shuffle=False, merge_last=True))"
   ]
  },
  {
   "cell_type": "code",
   "execution_count": null,
   "id": "2539fbd9",
   "metadata": {},
   "outputs": [],
   "source": []
  }
 ],
 "metadata": {
  "kernelspec": {
   "display_name": "Python 3 (ipykernel)",
   "language": "python",
   "name": "python3"
  },
  "language_info": {
   "codemirror_mode": {
    "name": "ipython",
    "version": 3
   },
   "file_extension": ".py",
   "mimetype": "text/x-python",
   "name": "python",
   "nbconvert_exporter": "python",
   "pygments_lexer": "ipython3",
   "version": "3.8.16"
  }
 },
 "nbformat": 4,
 "nbformat_minor": 5
}
