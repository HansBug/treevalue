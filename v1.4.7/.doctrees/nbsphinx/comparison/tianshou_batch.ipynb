{
 "cells": [
  {
   "cell_type": "markdown",
   "id": "9d39d946",
   "metadata": {},
   "source": [
    "# Comparison Between TreeValue and Tianshou Batch"
   ]
  },
  {
   "cell_type": "markdown",
   "id": "3c6db2d4",
   "metadata": {},
   "source": [
    "In this section, we will take a look at the feature and performance of the [Tianshou Batch](https://github.com/thu-ml/tianshou) library, which is developed by Tsinghua Machine Learning Group."
   ]
  },
  {
   "cell_type": "markdown",
   "id": "069361b0",
   "metadata": {},
   "source": [
    "Before starting the comparison, let us define some thing."
   ]
  },
  {
   "cell_type": "code",
   "execution_count": 1,
   "id": "06fc8d26",
   "metadata": {
    "execution": {
     "iopub.execute_input": "2023-02-27T14:46:12.663050Z",
     "iopub.status.busy": "2023-02-27T14:46:12.662793Z",
     "iopub.status.idle": "2023-02-27T14:46:13.860763Z",
     "shell.execute_reply": "2023-02-27T14:46:13.859407Z"
    }
   },
   "outputs": [
    {
     "name": "stderr",
     "output_type": "stream",
     "text": [
      "/opt/hostedtoolcache/Python/3.8.16/x64/lib/python3.8/site-packages/tqdm/auto.py:22: TqdmWarning: IProgress not found. Please update jupyter and ipywidgets. See https://ipywidgets.readthedocs.io/en/stable/user_install.html\n",
      "  from .autonotebook import tqdm as notebook_tqdm\n"
     ]
    }
   ],
   "source": [
    "import torch \n",
    "\n",
    "_TREE_DATA_1 = {'a': 1, 'b': 2, 'x': {'c': 3, 'd': 4}}\n",
    "_TREE_DATA_2 = {\n",
    "    'a': torch.randn(2, 3), \n",
    "    'x': {\n",
    "        'c': torch.randn(3, 4)\n",
    "    },\n",
    "}\n",
    "_TREE_DATA_3 = {\n",
    "    'obs': torch.randn(4, 84, 84),\n",
    "    'action': torch.randint(0, 6, size=(1,)),\n",
    "    'reward': torch.rand(1),\n",
    "}"
   ]
  },
  {
   "cell_type": "markdown",
   "id": "83461b25",
   "metadata": {},
   "source": [
    "## Read and Write Operation"
   ]
  },
  {
   "cell_type": "markdown",
   "id": "067b3f73",
   "metadata": {},
   "source": [
    "Reading and writing are the two most common operations in the tree data structure based on the data model (TreeValue and Tianshou Batch both belong to this type), so this section will compare the reading and writing performance of these two libraries."
   ]
  },
  {
   "cell_type": "markdown",
   "id": "5d09a5b7",
   "metadata": {},
   "source": [
    "### TreeValue's Get and Set"
   ]
  },
  {
   "cell_type": "code",
   "execution_count": 2,
   "id": "9519c4bb",
   "metadata": {
    "execution": {
     "iopub.execute_input": "2023-02-27T14:46:13.864963Z",
     "iopub.status.busy": "2023-02-27T14:46:13.864576Z",
     "iopub.status.idle": "2023-02-27T14:46:14.255151Z",
     "shell.execute_reply": "2023-02-27T14:46:14.254137Z"
    }
   },
   "outputs": [],
   "source": [
    "from treevalue import FastTreeValue\n",
    "\n",
    "t = FastTreeValue(_TREE_DATA_2)"
   ]
  },
  {
   "cell_type": "code",
   "execution_count": 3,
   "id": "11c37677",
   "metadata": {
    "execution": {
     "iopub.execute_input": "2023-02-27T14:46:14.258895Z",
     "iopub.status.busy": "2023-02-27T14:46:14.258544Z",
     "iopub.status.idle": "2023-02-27T14:46:14.270575Z",
     "shell.execute_reply": "2023-02-27T14:46:14.269657Z"
    }
   },
   "outputs": [
    {
     "data": {
      "text/plain": [
       "<FastTreeValue 0x7fa544455370>\n",
       "├── 'a' --> tensor([[ 0.6980,  0.6556, -1.8320],\n",
       "│                   [ 0.2526,  0.6751,  0.9084]])\n",
       "└── 'x' --> <FastTreeValue 0x7fa5444551c0>\n",
       "    └── 'c' --> tensor([[ 1.5934, -0.4747, -1.5555,  0.8006],\n",
       "                        [ 0.5814, -0.5241, -1.1314,  0.4969],\n",
       "                        [-1.1678, -0.3324,  0.3408, -0.3150]])"
      ]
     },
     "execution_count": 3,
     "metadata": {},
     "output_type": "execute_result"
    }
   ],
   "source": [
    "t"
   ]
  },
  {
   "cell_type": "code",
   "execution_count": 4,
   "id": "fd70b0b9",
   "metadata": {
    "execution": {
     "iopub.execute_input": "2023-02-27T14:46:14.273861Z",
     "iopub.status.busy": "2023-02-27T14:46:14.273619Z",
     "iopub.status.idle": "2023-02-27T14:46:14.281211Z",
     "shell.execute_reply": "2023-02-27T14:46:14.279888Z"
    }
   },
   "outputs": [
    {
     "data": {
      "text/plain": [
       "tensor([[ 0.6980,  0.6556, -1.8320],\n",
       "        [ 0.2526,  0.6751,  0.9084]])"
      ]
     },
     "execution_count": 4,
     "metadata": {},
     "output_type": "execute_result"
    }
   ],
   "source": [
    "t.a"
   ]
  },
  {
   "cell_type": "code",
   "execution_count": 5,
   "id": "c18197bd",
   "metadata": {
    "execution": {
     "iopub.execute_input": "2023-02-27T14:46:14.285144Z",
     "iopub.status.busy": "2023-02-27T14:46:14.284827Z",
     "iopub.status.idle": "2023-02-27T14:46:20.159097Z",
     "shell.execute_reply": "2023-02-27T14:46:20.157748Z"
    }
   },
   "outputs": [
    {
     "name": "stdout",
     "output_type": "stream",
     "text": [
      "72.1 ns ± 1.05 ns per loop (mean ± std. dev. of 7 runs, 10,000,000 loops each)\n"
     ]
    }
   ],
   "source": [
    "%timeit t.a"
   ]
  },
  {
   "cell_type": "code",
   "execution_count": 6,
   "id": "bd52f867",
   "metadata": {
    "execution": {
     "iopub.execute_input": "2023-02-27T14:46:20.164353Z",
     "iopub.status.busy": "2023-02-27T14:46:20.163677Z",
     "iopub.status.idle": "2023-02-27T14:46:20.171859Z",
     "shell.execute_reply": "2023-02-27T14:46:20.170879Z"
    }
   },
   "outputs": [
    {
     "data": {
      "text/plain": [
       "<FastTreeValue 0x7fa544455370>\n",
       "├── 'a' --> tensor([[-1.3721,  1.4971,  0.1597],\n",
       "│                   [-2.1390,  1.6198, -1.6277]])\n",
       "└── 'x' --> <FastTreeValue 0x7fa5444551c0>\n",
       "    └── 'c' --> tensor([[ 1.5934, -0.4747, -1.5555,  0.8006],\n",
       "                        [ 0.5814, -0.5241, -1.1314,  0.4969],\n",
       "                        [-1.1678, -0.3324,  0.3408, -0.3150]])"
      ]
     },
     "execution_count": 6,
     "metadata": {},
     "output_type": "execute_result"
    }
   ],
   "source": [
    "new_value = torch.randn(2, 3)\n",
    "t.a = new_value\n",
    "\n",
    "t"
   ]
  },
  {
   "cell_type": "code",
   "execution_count": 7,
   "id": "bbe04d1c",
   "metadata": {
    "execution": {
     "iopub.execute_input": "2023-02-27T14:46:20.175047Z",
     "iopub.status.busy": "2023-02-27T14:46:20.174726Z",
     "iopub.status.idle": "2023-02-27T14:46:26.551840Z",
     "shell.execute_reply": "2023-02-27T14:46:26.550888Z"
    }
   },
   "outputs": [
    {
     "name": "stdout",
     "output_type": "stream",
     "text": [
      "78.6 ns ± 1.39 ns per loop (mean ± std. dev. of 7 runs, 10,000,000 loops each)\n"
     ]
    }
   ],
   "source": [
    "%timeit t.a = new_value"
   ]
  },
  {
   "cell_type": "markdown",
   "id": "48c49731",
   "metadata": {},
   "source": [
    "### Tianshou Batch's Get and Set"
   ]
  },
  {
   "cell_type": "code",
   "execution_count": 8,
   "id": "f1bb14c1",
   "metadata": {
    "execution": {
     "iopub.execute_input": "2023-02-27T14:46:26.555885Z",
     "iopub.status.busy": "2023-02-27T14:46:26.555082Z",
     "iopub.status.idle": "2023-02-27T14:46:27.016275Z",
     "shell.execute_reply": "2023-02-27T14:46:27.015344Z"
    }
   },
   "outputs": [],
   "source": [
    "from tianshou.data import Batch\n",
    "\n",
    "b = Batch(**_TREE_DATA_2)"
   ]
  },
  {
   "cell_type": "code",
   "execution_count": 9,
   "id": "cb0777c3",
   "metadata": {
    "execution": {
     "iopub.execute_input": "2023-02-27T14:46:27.023088Z",
     "iopub.status.busy": "2023-02-27T14:46:27.022642Z",
     "iopub.status.idle": "2023-02-27T14:46:27.031501Z",
     "shell.execute_reply": "2023-02-27T14:46:27.030611Z"
    }
   },
   "outputs": [
    {
     "data": {
      "text/plain": [
       "Batch(\n",
       "    a: tensor([[ 0.6980,  0.6556, -1.8320],\n",
       "               [ 0.2526,  0.6751,  0.9084]]),\n",
       "    x: Batch(\n",
       "           c: tensor([[ 1.5934, -0.4747, -1.5555,  0.8006],\n",
       "                      [ 0.5814, -0.5241, -1.1314,  0.4969],\n",
       "                      [-1.1678, -0.3324,  0.3408, -0.3150]]),\n",
       "       ),\n",
       ")"
      ]
     },
     "execution_count": 9,
     "metadata": {},
     "output_type": "execute_result"
    }
   ],
   "source": [
    "b"
   ]
  },
  {
   "cell_type": "code",
   "execution_count": 10,
   "id": "43ef8ea3",
   "metadata": {
    "execution": {
     "iopub.execute_input": "2023-02-27T14:46:27.034681Z",
     "iopub.status.busy": "2023-02-27T14:46:27.034394Z",
     "iopub.status.idle": "2023-02-27T14:46:27.040883Z",
     "shell.execute_reply": "2023-02-27T14:46:27.039996Z"
    }
   },
   "outputs": [
    {
     "data": {
      "text/plain": [
       "tensor([[ 0.6980,  0.6556, -1.8320],\n",
       "        [ 0.2526,  0.6751,  0.9084]])"
      ]
     },
     "execution_count": 10,
     "metadata": {},
     "output_type": "execute_result"
    }
   ],
   "source": [
    "b.a"
   ]
  },
  {
   "cell_type": "code",
   "execution_count": 11,
   "id": "b785ab72",
   "metadata": {
    "execution": {
     "iopub.execute_input": "2023-02-27T14:46:27.044346Z",
     "iopub.status.busy": "2023-02-27T14:46:27.043996Z",
     "iopub.status.idle": "2023-02-27T14:46:33.474796Z",
     "shell.execute_reply": "2023-02-27T14:46:33.473610Z"
    }
   },
   "outputs": [
    {
     "name": "stdout",
     "output_type": "stream",
     "text": [
      "79.5 ns ± 1.02 ns per loop (mean ± std. dev. of 7 runs, 10,000,000 loops each)\n"
     ]
    }
   ],
   "source": [
    "%timeit b.a"
   ]
  },
  {
   "cell_type": "code",
   "execution_count": 12,
   "id": "ad54dc69",
   "metadata": {
    "execution": {
     "iopub.execute_input": "2023-02-27T14:46:33.478210Z",
     "iopub.status.busy": "2023-02-27T14:46:33.477896Z",
     "iopub.status.idle": "2023-02-27T14:46:33.486233Z",
     "shell.execute_reply": "2023-02-27T14:46:33.485267Z"
    }
   },
   "outputs": [
    {
     "data": {
      "text/plain": [
       "Batch(\n",
       "    a: tensor([[-0.9394,  1.7141,  0.0675],\n",
       "               [-1.1571,  0.5437, -0.5925]]),\n",
       "    x: Batch(\n",
       "           c: tensor([[ 1.5934, -0.4747, -1.5555,  0.8006],\n",
       "                      [ 0.5814, -0.5241, -1.1314,  0.4969],\n",
       "                      [-1.1678, -0.3324,  0.3408, -0.3150]]),\n",
       "       ),\n",
       ")"
      ]
     },
     "execution_count": 12,
     "metadata": {},
     "output_type": "execute_result"
    }
   ],
   "source": [
    "new_value = torch.randn(2, 3)\n",
    "b.a = new_value\n",
    "\n",
    "b"
   ]
  },
  {
   "cell_type": "code",
   "execution_count": 13,
   "id": "29b1d0bf",
   "metadata": {
    "execution": {
     "iopub.execute_input": "2023-02-27T14:46:33.489508Z",
     "iopub.status.busy": "2023-02-27T14:46:33.489203Z",
     "iopub.status.idle": "2023-02-27T14:46:38.859264Z",
     "shell.execute_reply": "2023-02-27T14:46:38.858064Z"
    }
   },
   "outputs": [
    {
     "name": "stdout",
     "output_type": "stream",
     "text": [
      "663 ns ± 7.24 ns per loop (mean ± std. dev. of 7 runs, 1,000,000 loops each)\n"
     ]
    }
   ],
   "source": [
    "%timeit b.a = new_value"
   ]
  },
  {
   "cell_type": "markdown",
   "id": "b61ad1d0",
   "metadata": {},
   "source": [
    "## Initialization"
   ]
  },
  {
   "cell_type": "markdown",
   "id": "d70f0d54",
   "metadata": {},
   "source": [
    "### TreeValue's Initialization"
   ]
  },
  {
   "cell_type": "code",
   "execution_count": 14,
   "id": "d32a679b",
   "metadata": {
    "execution": {
     "iopub.execute_input": "2023-02-27T14:46:38.863114Z",
     "iopub.status.busy": "2023-02-27T14:46:38.862540Z",
     "iopub.status.idle": "2023-02-27T14:46:47.244310Z",
     "shell.execute_reply": "2023-02-27T14:46:47.243318Z"
    }
   },
   "outputs": [
    {
     "name": "stdout",
     "output_type": "stream",
     "text": [
      "1.03 µs ± 15.3 ns per loop (mean ± std. dev. of 7 runs, 1,000,000 loops each)\n"
     ]
    }
   ],
   "source": [
    "%timeit FastTreeValue(_TREE_DATA_1)"
   ]
  },
  {
   "cell_type": "markdown",
   "id": "24f3707b",
   "metadata": {},
   "source": [
    "### Tianshou Batch's Initialization"
   ]
  },
  {
   "cell_type": "code",
   "execution_count": 15,
   "id": "ac3958df",
   "metadata": {
    "execution": {
     "iopub.execute_input": "2023-02-27T14:46:47.247923Z",
     "iopub.status.busy": "2023-02-27T14:46:47.247374Z",
     "iopub.status.idle": "2023-02-27T14:46:58.314574Z",
     "shell.execute_reply": "2023-02-27T14:46:58.313602Z"
    }
   },
   "outputs": [
    {
     "name": "stdout",
     "output_type": "stream",
     "text": [
      "13.7 µs ± 104 ns per loop (mean ± std. dev. of 7 runs, 100,000 loops each)\n"
     ]
    }
   ],
   "source": [
    "%timeit Batch(**_TREE_DATA_1)"
   ]
  },
  {
   "cell_type": "markdown",
   "id": "1ab82e2d",
   "metadata": {},
   "source": [
    "## Deep Copy Operation"
   ]
  },
  {
   "cell_type": "code",
   "execution_count": 16,
   "id": "210a9442",
   "metadata": {
    "execution": {
     "iopub.execute_input": "2023-02-27T14:46:58.318193Z",
     "iopub.status.busy": "2023-02-27T14:46:58.317651Z",
     "iopub.status.idle": "2023-02-27T14:46:58.322856Z",
     "shell.execute_reply": "2023-02-27T14:46:58.321952Z"
    }
   },
   "outputs": [],
   "source": [
    "import copy"
   ]
  },
  {
   "cell_type": "markdown",
   "id": "5a736274",
   "metadata": {},
   "source": [
    "### Deep Copy of TreeValue"
   ]
  },
  {
   "cell_type": "code",
   "execution_count": 17,
   "id": "f9bcadd6",
   "metadata": {
    "execution": {
     "iopub.execute_input": "2023-02-27T14:46:58.326371Z",
     "iopub.status.busy": "2023-02-27T14:46:58.326078Z",
     "iopub.status.idle": "2023-02-27T14:47:00.624655Z",
     "shell.execute_reply": "2023-02-27T14:47:00.623773Z"
    }
   },
   "outputs": [
    {
     "name": "stdout",
     "output_type": "stream",
     "text": [
      "282 µs ± 4.22 µs per loop (mean ± std. dev. of 7 runs, 1,000 loops each)\n"
     ]
    }
   ],
   "source": [
    "t3 = FastTreeValue(_TREE_DATA_3)\n",
    "%timeit copy.deepcopy(t3)"
   ]
  },
  {
   "cell_type": "markdown",
   "id": "bf8be7ea",
   "metadata": {},
   "source": [
    "### Deep Copy of Tianshou Batch"
   ]
  },
  {
   "cell_type": "code",
   "execution_count": 18,
   "id": "91998e6f",
   "metadata": {
    "execution": {
     "iopub.execute_input": "2023-02-27T14:47:00.630225Z",
     "iopub.status.busy": "2023-02-27T14:47:00.628553Z",
     "iopub.status.idle": "2023-02-27T14:47:02.772266Z",
     "shell.execute_reply": "2023-02-27T14:47:02.771138Z"
    }
   },
   "outputs": [
    {
     "name": "stdout",
     "output_type": "stream",
     "text": [
      "263 µs ± 5.62 µs per loop (mean ± std. dev. of 7 runs, 1,000 loops each)\n"
     ]
    }
   ],
   "source": [
    "b3 = Batch(**_TREE_DATA_3)\n",
    "%timeit copy.deepcopy(b3)"
   ]
  },
  {
   "cell_type": "markdown",
   "id": "223162fb",
   "metadata": {},
   "source": [
    "## Stack, Concat and Split Operation"
   ]
  },
  {
   "cell_type": "markdown",
   "id": "85fa4a73",
   "metadata": {},
   "source": [
    "### Performance of TreeValue"
   ]
  },
  {
   "cell_type": "code",
   "execution_count": 19,
   "id": "a0c2b697",
   "metadata": {
    "execution": {
     "iopub.execute_input": "2023-02-27T14:47:02.775776Z",
     "iopub.status.busy": "2023-02-27T14:47:02.775279Z",
     "iopub.status.idle": "2023-02-27T14:47:02.781033Z",
     "shell.execute_reply": "2023-02-27T14:47:02.780134Z"
    }
   },
   "outputs": [],
   "source": [
    "trees = [FastTreeValue(_TREE_DATA_2) for _ in range(8)]"
   ]
  },
  {
   "cell_type": "code",
   "execution_count": 20,
   "id": "017ea5a5",
   "metadata": {
    "execution": {
     "iopub.execute_input": "2023-02-27T14:47:02.784153Z",
     "iopub.status.busy": "2023-02-27T14:47:02.783677Z",
     "iopub.status.idle": "2023-02-27T14:47:02.795707Z",
     "shell.execute_reply": "2023-02-27T14:47:02.793230Z"
    }
   },
   "outputs": [
    {
     "data": {
      "text/plain": [
       "<FastTreeValue 0x7fa48c709880>\n",
       "├── 'a' --> tensor([[[ 0.6980,  0.6556, -1.8320],\n",
       "│                    [ 0.2526,  0.6751,  0.9084]],\n",
       "│           \n",
       "│                   [[ 0.6980,  0.6556, -1.8320],\n",
       "│                    [ 0.2526,  0.6751,  0.9084]],\n",
       "│           \n",
       "│                   [[ 0.6980,  0.6556, -1.8320],\n",
       "│                    [ 0.2526,  0.6751,  0.9084]],\n",
       "│           \n",
       "│                   [[ 0.6980,  0.6556, -1.8320],\n",
       "│                    [ 0.2526,  0.6751,  0.9084]],\n",
       "│           \n",
       "│                   [[ 0.6980,  0.6556, -1.8320],\n",
       "│                    [ 0.2526,  0.6751,  0.9084]],\n",
       "│           \n",
       "│                   [[ 0.6980,  0.6556, -1.8320],\n",
       "│                    [ 0.2526,  0.6751,  0.9084]],\n",
       "│           \n",
       "│                   [[ 0.6980,  0.6556, -1.8320],\n",
       "│                    [ 0.2526,  0.6751,  0.9084]],\n",
       "│           \n",
       "│                   [[ 0.6980,  0.6556, -1.8320],\n",
       "│                    [ 0.2526,  0.6751,  0.9084]]])\n",
       "└── 'x' --> <FastTreeValue 0x7fa5464e5c10>\n",
       "    └── 'c' --> tensor([[[ 1.5934, -0.4747, -1.5555,  0.8006],\n",
       "                         [ 0.5814, -0.5241, -1.1314,  0.4969],\n",
       "                         [-1.1678, -0.3324,  0.3408, -0.3150]],\n",
       "                \n",
       "                        [[ 1.5934, -0.4747, -1.5555,  0.8006],\n",
       "                         [ 0.5814, -0.5241, -1.1314,  0.4969],\n",
       "                         [-1.1678, -0.3324,  0.3408, -0.3150]],\n",
       "                \n",
       "                        [[ 1.5934, -0.4747, -1.5555,  0.8006],\n",
       "                         [ 0.5814, -0.5241, -1.1314,  0.4969],\n",
       "                         [-1.1678, -0.3324,  0.3408, -0.3150]],\n",
       "                \n",
       "                        [[ 1.5934, -0.4747, -1.5555,  0.8006],\n",
       "                         [ 0.5814, -0.5241, -1.1314,  0.4969],\n",
       "                         [-1.1678, -0.3324,  0.3408, -0.3150]],\n",
       "                \n",
       "                        [[ 1.5934, -0.4747, -1.5555,  0.8006],\n",
       "                         [ 0.5814, -0.5241, -1.1314,  0.4969],\n",
       "                         [-1.1678, -0.3324,  0.3408, -0.3150]],\n",
       "                \n",
       "                        [[ 1.5934, -0.4747, -1.5555,  0.8006],\n",
       "                         [ 0.5814, -0.5241, -1.1314,  0.4969],\n",
       "                         [-1.1678, -0.3324,  0.3408, -0.3150]],\n",
       "                \n",
       "                        [[ 1.5934, -0.4747, -1.5555,  0.8006],\n",
       "                         [ 0.5814, -0.5241, -1.1314,  0.4969],\n",
       "                         [-1.1678, -0.3324,  0.3408, -0.3150]],\n",
       "                \n",
       "                        [[ 1.5934, -0.4747, -1.5555,  0.8006],\n",
       "                         [ 0.5814, -0.5241, -1.1314,  0.4969],\n",
       "                         [-1.1678, -0.3324,  0.3408, -0.3150]]])"
      ]
     },
     "execution_count": 20,
     "metadata": {},
     "output_type": "execute_result"
    }
   ],
   "source": [
    "t_stack = FastTreeValue.func(subside=True)(torch.stack)\n",
    "\n",
    "t_stack(trees)"
   ]
  },
  {
   "cell_type": "code",
   "execution_count": 21,
   "id": "f8b3f415",
   "metadata": {
    "execution": {
     "iopub.execute_input": "2023-02-27T14:47:02.799750Z",
     "iopub.status.busy": "2023-02-27T14:47:02.799159Z",
     "iopub.status.idle": "2023-02-27T14:47:06.496825Z",
     "shell.execute_reply": "2023-02-27T14:47:06.495809Z"
    }
   },
   "outputs": [
    {
     "name": "stdout",
     "output_type": "stream",
     "text": [
      "45.5 µs ± 1.01 µs per loop (mean ± std. dev. of 7 runs, 10,000 loops each)\n"
     ]
    }
   ],
   "source": [
    "%timeit t_stack(trees)"
   ]
  },
  {
   "cell_type": "code",
   "execution_count": 22,
   "id": "94b56771",
   "metadata": {
    "execution": {
     "iopub.execute_input": "2023-02-27T14:47:06.500469Z",
     "iopub.status.busy": "2023-02-27T14:47:06.500018Z",
     "iopub.status.idle": "2023-02-27T14:47:06.510056Z",
     "shell.execute_reply": "2023-02-27T14:47:06.509145Z"
    }
   },
   "outputs": [
    {
     "data": {
      "text/plain": [
       "<FastTreeValue 0x7fa48c6ef3a0>\n",
       "├── 'a' --> tensor([[ 0.6980,  0.6556, -1.8320],\n",
       "│                   [ 0.2526,  0.6751,  0.9084],\n",
       "│                   [ 0.6980,  0.6556, -1.8320],\n",
       "│                   [ 0.2526,  0.6751,  0.9084],\n",
       "│                   [ 0.6980,  0.6556, -1.8320],\n",
       "│                   [ 0.2526,  0.6751,  0.9084],\n",
       "│                   [ 0.6980,  0.6556, -1.8320],\n",
       "│                   [ 0.2526,  0.6751,  0.9084],\n",
       "│                   [ 0.6980,  0.6556, -1.8320],\n",
       "│                   [ 0.2526,  0.6751,  0.9084],\n",
       "│                   [ 0.6980,  0.6556, -1.8320],\n",
       "│                   [ 0.2526,  0.6751,  0.9084],\n",
       "│                   [ 0.6980,  0.6556, -1.8320],\n",
       "│                   [ 0.2526,  0.6751,  0.9084],\n",
       "│                   [ 0.6980,  0.6556, -1.8320],\n",
       "│                   [ 0.2526,  0.6751,  0.9084]])\n",
       "└── 'x' --> <FastTreeValue 0x7fa48c6ef2b0>\n",
       "    └── 'c' --> tensor([[ 1.5934, -0.4747, -1.5555,  0.8006],\n",
       "                        [ 0.5814, -0.5241, -1.1314,  0.4969],\n",
       "                        [-1.1678, -0.3324,  0.3408, -0.3150],\n",
       "                        [ 1.5934, -0.4747, -1.5555,  0.8006],\n",
       "                        [ 0.5814, -0.5241, -1.1314,  0.4969],\n",
       "                        [-1.1678, -0.3324,  0.3408, -0.3150],\n",
       "                        [ 1.5934, -0.4747, -1.5555,  0.8006],\n",
       "                        [ 0.5814, -0.5241, -1.1314,  0.4969],\n",
       "                        [-1.1678, -0.3324,  0.3408, -0.3150],\n",
       "                        [ 1.5934, -0.4747, -1.5555,  0.8006],\n",
       "                        [ 0.5814, -0.5241, -1.1314,  0.4969],\n",
       "                        [-1.1678, -0.3324,  0.3408, -0.3150],\n",
       "                        [ 1.5934, -0.4747, -1.5555,  0.8006],\n",
       "                        [ 0.5814, -0.5241, -1.1314,  0.4969],\n",
       "                        [-1.1678, -0.3324,  0.3408, -0.3150],\n",
       "                        [ 1.5934, -0.4747, -1.5555,  0.8006],\n",
       "                        [ 0.5814, -0.5241, -1.1314,  0.4969],\n",
       "                        [-1.1678, -0.3324,  0.3408, -0.3150],\n",
       "                        [ 1.5934, -0.4747, -1.5555,  0.8006],\n",
       "                        [ 0.5814, -0.5241, -1.1314,  0.4969],\n",
       "                        [-1.1678, -0.3324,  0.3408, -0.3150],\n",
       "                        [ 1.5934, -0.4747, -1.5555,  0.8006],\n",
       "                        [ 0.5814, -0.5241, -1.1314,  0.4969],\n",
       "                        [-1.1678, -0.3324,  0.3408, -0.3150]])"
      ]
     },
     "execution_count": 22,
     "metadata": {},
     "output_type": "execute_result"
    }
   ],
   "source": [
    "t_cat = FastTreeValue.func(subside=True)(torch.cat)\n",
    "\n",
    "t_cat(trees)"
   ]
  },
  {
   "cell_type": "code",
   "execution_count": 23,
   "id": "5e9c06a6",
   "metadata": {
    "execution": {
     "iopub.execute_input": "2023-02-27T14:47:06.513586Z",
     "iopub.status.busy": "2023-02-27T14:47:06.513137Z",
     "iopub.status.idle": "2023-02-27T14:47:09.869021Z",
     "shell.execute_reply": "2023-02-27T14:47:09.868115Z"
    }
   },
   "outputs": [
    {
     "name": "stdout",
     "output_type": "stream",
     "text": [
      "41.3 µs ± 1.19 µs per loop (mean ± std. dev. of 7 runs, 10,000 loops each)\n"
     ]
    }
   ],
   "source": [
    "%timeit t_cat(trees)"
   ]
  },
  {
   "cell_type": "code",
   "execution_count": 24,
   "id": "a3ab5c8f",
   "metadata": {
    "execution": {
     "iopub.execute_input": "2023-02-27T14:47:09.872477Z",
     "iopub.status.busy": "2023-02-27T14:47:09.872013Z",
     "iopub.status.idle": "2023-02-27T14:47:16.377895Z",
     "shell.execute_reply": "2023-02-27T14:47:16.376949Z"
    }
   },
   "outputs": [
    {
     "name": "stdout",
     "output_type": "stream",
     "text": [
      "80.1 µs ± 1.48 µs per loop (mean ± std. dev. of 7 runs, 10,000 loops each)\n"
     ]
    }
   ],
   "source": [
    "t_split = FastTreeValue.func(rise=True)(torch.split)\n",
    "tree = FastTreeValue({\n",
    "    'obs': torch.randn(8, 4, 84, 84),\n",
    "    'action': torch.randint(0, 6, size=(8, 1,)),\n",
    "    'reward': torch.rand(8, 1),\n",
    "})\n",
    "\n",
    "%timeit t_split(tree, 1)"
   ]
  },
  {
   "cell_type": "markdown",
   "id": "31c3ec0b",
   "metadata": {},
   "source": [
    "### Performance of Tianshou Batch"
   ]
  },
  {
   "cell_type": "code",
   "execution_count": 25,
   "id": "9ead828a",
   "metadata": {
    "execution": {
     "iopub.execute_input": "2023-02-27T14:47:16.382296Z",
     "iopub.status.busy": "2023-02-27T14:47:16.381682Z",
     "iopub.status.idle": "2023-02-27T14:47:16.391367Z",
     "shell.execute_reply": "2023-02-27T14:47:16.390454Z"
    }
   },
   "outputs": [
    {
     "data": {
      "text/plain": [
       "Batch(\n",
       "    a: tensor([[[ 0.6980,  0.6556, -1.8320],\n",
       "                [ 0.2526,  0.6751,  0.9084]],\n",
       "       \n",
       "               [[ 0.6980,  0.6556, -1.8320],\n",
       "                [ 0.2526,  0.6751,  0.9084]],\n",
       "       \n",
       "               [[ 0.6980,  0.6556, -1.8320],\n",
       "                [ 0.2526,  0.6751,  0.9084]],\n",
       "       \n",
       "               [[ 0.6980,  0.6556, -1.8320],\n",
       "                [ 0.2526,  0.6751,  0.9084]],\n",
       "       \n",
       "               [[ 0.6980,  0.6556, -1.8320],\n",
       "                [ 0.2526,  0.6751,  0.9084]],\n",
       "       \n",
       "               [[ 0.6980,  0.6556, -1.8320],\n",
       "                [ 0.2526,  0.6751,  0.9084]],\n",
       "       \n",
       "               [[ 0.6980,  0.6556, -1.8320],\n",
       "                [ 0.2526,  0.6751,  0.9084]],\n",
       "       \n",
       "               [[ 0.6980,  0.6556, -1.8320],\n",
       "                [ 0.2526,  0.6751,  0.9084]]]),\n",
       "    x: Batch(\n",
       "           c: tensor([[[ 1.5934, -0.4747, -1.5555,  0.8006],\n",
       "                       [ 0.5814, -0.5241, -1.1314,  0.4969],\n",
       "                       [-1.1678, -0.3324,  0.3408, -0.3150]],\n",
       "              \n",
       "                      [[ 1.5934, -0.4747, -1.5555,  0.8006],\n",
       "                       [ 0.5814, -0.5241, -1.1314,  0.4969],\n",
       "                       [-1.1678, -0.3324,  0.3408, -0.3150]],\n",
       "              \n",
       "                      [[ 1.5934, -0.4747, -1.5555,  0.8006],\n",
       "                       [ 0.5814, -0.5241, -1.1314,  0.4969],\n",
       "                       [-1.1678, -0.3324,  0.3408, -0.3150]],\n",
       "              \n",
       "                      [[ 1.5934, -0.4747, -1.5555,  0.8006],\n",
       "                       [ 0.5814, -0.5241, -1.1314,  0.4969],\n",
       "                       [-1.1678, -0.3324,  0.3408, -0.3150]],\n",
       "              \n",
       "                      [[ 1.5934, -0.4747, -1.5555,  0.8006],\n",
       "                       [ 0.5814, -0.5241, -1.1314,  0.4969],\n",
       "                       [-1.1678, -0.3324,  0.3408, -0.3150]],\n",
       "              \n",
       "                      [[ 1.5934, -0.4747, -1.5555,  0.8006],\n",
       "                       [ 0.5814, -0.5241, -1.1314,  0.4969],\n",
       "                       [-1.1678, -0.3324,  0.3408, -0.3150]],\n",
       "              \n",
       "                      [[ 1.5934, -0.4747, -1.5555,  0.8006],\n",
       "                       [ 0.5814, -0.5241, -1.1314,  0.4969],\n",
       "                       [-1.1678, -0.3324,  0.3408, -0.3150]],\n",
       "              \n",
       "                      [[ 1.5934, -0.4747, -1.5555,  0.8006],\n",
       "                       [ 0.5814, -0.5241, -1.1314,  0.4969],\n",
       "                       [-1.1678, -0.3324,  0.3408, -0.3150]]]),\n",
       "       ),\n",
       ")"
      ]
     },
     "execution_count": 25,
     "metadata": {},
     "output_type": "execute_result"
    }
   ],
   "source": [
    "batches = [Batch(**_TREE_DATA_2) for _ in range(8)]\n",
    "\n",
    "Batch.stack(batches)"
   ]
  },
  {
   "cell_type": "code",
   "execution_count": 26,
   "id": "ec9037a3",
   "metadata": {
    "execution": {
     "iopub.execute_input": "2023-02-27T14:47:16.394511Z",
     "iopub.status.busy": "2023-02-27T14:47:16.394266Z",
     "iopub.status.idle": "2023-02-27T14:47:24.732360Z",
     "shell.execute_reply": "2023-02-27T14:47:24.731412Z"
    }
   },
   "outputs": [
    {
     "name": "stdout",
     "output_type": "stream",
     "text": [
      "103 µs ± 1.51 µs per loop (mean ± std. dev. of 7 runs, 10,000 loops each)\n"
     ]
    }
   ],
   "source": [
    "%timeit Batch.stack(batches)"
   ]
  },
  {
   "cell_type": "code",
   "execution_count": 27,
   "id": "cb8ab77e",
   "metadata": {
    "execution": {
     "iopub.execute_input": "2023-02-27T14:47:24.736025Z",
     "iopub.status.busy": "2023-02-27T14:47:24.735645Z",
     "iopub.status.idle": "2023-02-27T14:47:24.750707Z",
     "shell.execute_reply": "2023-02-27T14:47:24.749790Z"
    }
   },
   "outputs": [
    {
     "data": {
      "text/plain": [
       "Batch(\n",
       "    a: tensor([[ 0.6980,  0.6556, -1.8320],\n",
       "               [ 0.2526,  0.6751,  0.9084],\n",
       "               [ 0.6980,  0.6556, -1.8320],\n",
       "               [ 0.2526,  0.6751,  0.9084],\n",
       "               [ 0.6980,  0.6556, -1.8320],\n",
       "               [ 0.2526,  0.6751,  0.9084],\n",
       "               [ 0.6980,  0.6556, -1.8320],\n",
       "               [ 0.2526,  0.6751,  0.9084],\n",
       "               [ 0.6980,  0.6556, -1.8320],\n",
       "               [ 0.2526,  0.6751,  0.9084],\n",
       "               [ 0.6980,  0.6556, -1.8320],\n",
       "               [ 0.2526,  0.6751,  0.9084],\n",
       "               [ 0.6980,  0.6556, -1.8320],\n",
       "               [ 0.2526,  0.6751,  0.9084],\n",
       "               [ 0.6980,  0.6556, -1.8320],\n",
       "               [ 0.2526,  0.6751,  0.9084]]),\n",
       "    x: Batch(\n",
       "           c: tensor([[ 1.5934, -0.4747, -1.5555,  0.8006],\n",
       "                      [ 0.5814, -0.5241, -1.1314,  0.4969],\n",
       "                      [-1.1678, -0.3324,  0.3408, -0.3150],\n",
       "                      [ 1.5934, -0.4747, -1.5555,  0.8006],\n",
       "                      [ 0.5814, -0.5241, -1.1314,  0.4969],\n",
       "                      [-1.1678, -0.3324,  0.3408, -0.3150],\n",
       "                      [ 1.5934, -0.4747, -1.5555,  0.8006],\n",
       "                      [ 0.5814, -0.5241, -1.1314,  0.4969],\n",
       "                      [-1.1678, -0.3324,  0.3408, -0.3150],\n",
       "                      [ 1.5934, -0.4747, -1.5555,  0.8006],\n",
       "                      [ 0.5814, -0.5241, -1.1314,  0.4969],\n",
       "                      [-1.1678, -0.3324,  0.3408, -0.3150],\n",
       "                      [ 1.5934, -0.4747, -1.5555,  0.8006],\n",
       "                      [ 0.5814, -0.5241, -1.1314,  0.4969],\n",
       "                      [-1.1678, -0.3324,  0.3408, -0.3150],\n",
       "                      [ 1.5934, -0.4747, -1.5555,  0.8006],\n",
       "                      [ 0.5814, -0.5241, -1.1314,  0.4969],\n",
       "                      [-1.1678, -0.3324,  0.3408, -0.3150],\n",
       "                      [ 1.5934, -0.4747, -1.5555,  0.8006],\n",
       "                      [ 0.5814, -0.5241, -1.1314,  0.4969],\n",
       "                      [-1.1678, -0.3324,  0.3408, -0.3150],\n",
       "                      [ 1.5934, -0.4747, -1.5555,  0.8006],\n",
       "                      [ 0.5814, -0.5241, -1.1314,  0.4969],\n",
       "                      [-1.1678, -0.3324,  0.3408, -0.3150]]),\n",
       "       ),\n",
       ")"
      ]
     },
     "execution_count": 27,
     "metadata": {},
     "output_type": "execute_result"
    }
   ],
   "source": [
    "Batch.cat(batches)"
   ]
  },
  {
   "cell_type": "code",
   "execution_count": 28,
   "id": "18dfb045",
   "metadata": {
    "execution": {
     "iopub.execute_input": "2023-02-27T14:47:24.754026Z",
     "iopub.status.busy": "2023-02-27T14:47:24.753558Z",
     "iopub.status.idle": "2023-02-27T14:47:26.319461Z",
     "shell.execute_reply": "2023-02-27T14:47:26.318456Z"
    }
   },
   "outputs": [
    {
     "name": "stdout",
     "output_type": "stream",
     "text": [
      "190 µs ± 9.06 µs per loop (mean ± std. dev. of 7 runs, 1,000 loops each)\n"
     ]
    }
   ],
   "source": [
    "%timeit Batch.cat(batches)"
   ]
  },
  {
   "cell_type": "code",
   "execution_count": 29,
   "id": "c6688e51",
   "metadata": {
    "execution": {
     "iopub.execute_input": "2023-02-27T14:47:26.323176Z",
     "iopub.status.busy": "2023-02-27T14:47:26.322462Z",
     "iopub.status.idle": "2023-02-27T14:47:31.136243Z",
     "shell.execute_reply": "2023-02-27T14:47:31.135297Z"
    }
   },
   "outputs": [
    {
     "name": "stdout",
     "output_type": "stream",
     "text": [
      "597 µs ± 16.7 µs per loop (mean ± std. dev. of 7 runs, 1,000 loops each)\n"
     ]
    }
   ],
   "source": [
    "batch = Batch({\n",
    "    'obs': torch.randn(8, 4, 84, 84),\n",
    "    'action': torch.randint(0, 6, size=(8, 1,)),\n",
    "    'reward': torch.rand(8, 1)}\n",
    ")\n",
    "\n",
    "%timeit list(Batch.split(batch, 1, shuffle=False, merge_last=True))"
   ]
  },
  {
   "cell_type": "code",
   "execution_count": null,
   "id": "2539fbd9",
   "metadata": {},
   "outputs": [],
   "source": []
  }
 ],
 "metadata": {
  "kernelspec": {
   "display_name": "Python 3 (ipykernel)",
   "language": "python",
   "name": "python3"
  },
  "language_info": {
   "codemirror_mode": {
    "name": "ipython",
    "version": 3
   },
   "file_extension": ".py",
   "mimetype": "text/x-python",
   "name": "python",
   "nbconvert_exporter": "python",
   "pygments_lexer": "ipython3",
   "version": "3.8.16"
  }
 },
 "nbformat": 4,
 "nbformat_minor": 5
}
