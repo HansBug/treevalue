{
 "cells": [
  {
   "cell_type": "markdown",
   "id": "9d39d946",
   "metadata": {},
   "source": [
    "# Comparison Between TreeValue and Tianshou Batch"
   ]
  },
  {
   "cell_type": "markdown",
   "id": "3c6db2d4",
   "metadata": {},
   "source": [
    "In this section, we will take a look at the feature and performance of the [Tianshou Batch](https://github.com/thu-ml/tianshou) library, which is developed by Tsinghua Machine Learning Group."
   ]
  },
  {
   "cell_type": "markdown",
   "id": "069361b0",
   "metadata": {},
   "source": [
    "Before starting the comparison, let us define some thing."
   ]
  },
  {
   "cell_type": "code",
   "execution_count": 1,
   "id": "06fc8d26",
   "metadata": {
    "execution": {
     "iopub.execute_input": "2023-02-27T13:13:02.430009Z",
     "iopub.status.busy": "2023-02-27T13:13:02.429763Z",
     "iopub.status.idle": "2023-02-27T13:13:03.340880Z",
     "shell.execute_reply": "2023-02-27T13:13:03.340216Z"
    }
   },
   "outputs": [
    {
     "name": "stderr",
     "output_type": "stream",
     "text": [
      "/opt/hostedtoolcache/Python/3.8.16/x64/lib/python3.8/site-packages/tqdm/auto.py:22: TqdmWarning: IProgress not found. Please update jupyter and ipywidgets. See https://ipywidgets.readthedocs.io/en/stable/user_install.html\n",
      "  from .autonotebook import tqdm as notebook_tqdm\n"
     ]
    }
   ],
   "source": [
    "import torch \n",
    "\n",
    "_TREE_DATA_1 = {'a': 1, 'b': 2, 'x': {'c': 3, 'd': 4}}\n",
    "_TREE_DATA_2 = {\n",
    "    'a': torch.randn(2, 3), \n",
    "    'x': {\n",
    "        'c': torch.randn(3, 4)\n",
    "    },\n",
    "}\n",
    "_TREE_DATA_3 = {\n",
    "    'obs': torch.randn(4, 84, 84),\n",
    "    'action': torch.randint(0, 6, size=(1,)),\n",
    "    'reward': torch.rand(1),\n",
    "}"
   ]
  },
  {
   "cell_type": "markdown",
   "id": "83461b25",
   "metadata": {},
   "source": [
    "## Read and Write Operation"
   ]
  },
  {
   "cell_type": "markdown",
   "id": "067b3f73",
   "metadata": {},
   "source": [
    "Reading and writing are the two most common operations in the tree data structure based on the data model (TreeValue and Tianshou Batch both belong to this type), so this section will compare the reading and writing performance of these two libraries."
   ]
  },
  {
   "cell_type": "markdown",
   "id": "5d09a5b7",
   "metadata": {},
   "source": [
    "### TreeValue's Get and Set"
   ]
  },
  {
   "cell_type": "code",
   "execution_count": 2,
   "id": "9519c4bb",
   "metadata": {
    "execution": {
     "iopub.execute_input": "2023-02-27T13:13:03.344158Z",
     "iopub.status.busy": "2023-02-27T13:13:03.343680Z",
     "iopub.status.idle": "2023-02-27T13:13:03.623399Z",
     "shell.execute_reply": "2023-02-27T13:13:03.622717Z"
    }
   },
   "outputs": [],
   "source": [
    "from treevalue import FastTreeValue\n",
    "\n",
    "t = FastTreeValue(_TREE_DATA_2)"
   ]
  },
  {
   "cell_type": "code",
   "execution_count": 3,
   "id": "11c37677",
   "metadata": {
    "execution": {
     "iopub.execute_input": "2023-02-27T13:13:03.626736Z",
     "iopub.status.busy": "2023-02-27T13:13:03.626139Z",
     "iopub.status.idle": "2023-02-27T13:13:03.635607Z",
     "shell.execute_reply": "2023-02-27T13:13:03.635007Z"
    }
   },
   "outputs": [
    {
     "data": {
      "text/plain": [
       "<FastTreeValue 0x7f05005a2670>\n",
       "├── 'a' --> tensor([[ 0.2928, -0.5008, -0.0026],\n",
       "│                   [-0.2707, -1.5274,  0.0615]])\n",
       "└── 'x' --> <FastTreeValue 0x7f05005a2eb0>\n",
       "    └── 'c' --> tensor([[ 0.3028, -0.1026, -1.3381,  1.0158],\n",
       "                        [-1.2644,  0.1674, -1.1713, -0.5053],\n",
       "                        [-1.0877, -0.3578, -1.7255,  0.1743]])"
      ]
     },
     "execution_count": 3,
     "metadata": {},
     "output_type": "execute_result"
    }
   ],
   "source": [
    "t"
   ]
  },
  {
   "cell_type": "code",
   "execution_count": 4,
   "id": "fd70b0b9",
   "metadata": {
    "execution": {
     "iopub.execute_input": "2023-02-27T13:13:03.638545Z",
     "iopub.status.busy": "2023-02-27T13:13:03.638063Z",
     "iopub.status.idle": "2023-02-27T13:13:03.643995Z",
     "shell.execute_reply": "2023-02-27T13:13:03.643407Z"
    }
   },
   "outputs": [
    {
     "data": {
      "text/plain": [
       "tensor([[ 0.2928, -0.5008, -0.0026],\n",
       "        [-0.2707, -1.5274,  0.0615]])"
      ]
     },
     "execution_count": 4,
     "metadata": {},
     "output_type": "execute_result"
    }
   ],
   "source": [
    "t.a"
   ]
  },
  {
   "cell_type": "code",
   "execution_count": 5,
   "id": "c18197bd",
   "metadata": {
    "execution": {
     "iopub.execute_input": "2023-02-27T13:13:03.646816Z",
     "iopub.status.busy": "2023-02-27T13:13:03.646338Z",
     "iopub.status.idle": "2023-02-27T13:13:08.546192Z",
     "shell.execute_reply": "2023-02-27T13:13:08.545503Z"
    }
   },
   "outputs": [
    {
     "name": "stdout",
     "output_type": "stream",
     "text": [
      "59.8 ns ± 0.0571 ns per loop (mean ± std. dev. of 7 runs, 10,000,000 loops each)\n"
     ]
    }
   ],
   "source": [
    "%timeit t.a"
   ]
  },
  {
   "cell_type": "code",
   "execution_count": 6,
   "id": "bd52f867",
   "metadata": {
    "execution": {
     "iopub.execute_input": "2023-02-27T13:13:08.549120Z",
     "iopub.status.busy": "2023-02-27T13:13:08.548885Z",
     "iopub.status.idle": "2023-02-27T13:13:08.555547Z",
     "shell.execute_reply": "2023-02-27T13:13:08.554945Z"
    }
   },
   "outputs": [
    {
     "data": {
      "text/plain": [
       "<FastTreeValue 0x7f05005a2670>\n",
       "├── 'a' --> tensor([[-1.2533, -0.2815,  1.7095],\n",
       "│                   [-0.9207,  1.0024,  1.3512]])\n",
       "└── 'x' --> <FastTreeValue 0x7f05005a2eb0>\n",
       "    └── 'c' --> tensor([[ 0.3028, -0.1026, -1.3381,  1.0158],\n",
       "                        [-1.2644,  0.1674, -1.1713, -0.5053],\n",
       "                        [-1.0877, -0.3578, -1.7255,  0.1743]])"
      ]
     },
     "execution_count": 6,
     "metadata": {},
     "output_type": "execute_result"
    }
   ],
   "source": [
    "new_value = torch.randn(2, 3)\n",
    "t.a = new_value\n",
    "\n",
    "t"
   ]
  },
  {
   "cell_type": "code",
   "execution_count": 7,
   "id": "bbe04d1c",
   "metadata": {
    "execution": {
     "iopub.execute_input": "2023-02-27T13:13:08.557861Z",
     "iopub.status.busy": "2023-02-27T13:13:08.557632Z",
     "iopub.status.idle": "2023-02-27T13:13:13.295837Z",
     "shell.execute_reply": "2023-02-27T13:13:13.295072Z"
    }
   },
   "outputs": [
    {
     "name": "stdout",
     "output_type": "stream",
     "text": [
      "58.2 ns ± 0.0336 ns per loop (mean ± std. dev. of 7 runs, 10,000,000 loops each)\n"
     ]
    }
   ],
   "source": [
    "%timeit t.a = new_value"
   ]
  },
  {
   "cell_type": "markdown",
   "id": "48c49731",
   "metadata": {},
   "source": [
    "### Tianshou Batch's Get and Set"
   ]
  },
  {
   "cell_type": "code",
   "execution_count": 8,
   "id": "f1bb14c1",
   "metadata": {
    "execution": {
     "iopub.execute_input": "2023-02-27T13:13:13.299194Z",
     "iopub.status.busy": "2023-02-27T13:13:13.298594Z",
     "iopub.status.idle": "2023-02-27T13:13:13.628097Z",
     "shell.execute_reply": "2023-02-27T13:13:13.627398Z"
    }
   },
   "outputs": [],
   "source": [
    "from tianshou.data import Batch\n",
    "\n",
    "b = Batch(**_TREE_DATA_2)"
   ]
  },
  {
   "cell_type": "code",
   "execution_count": 9,
   "id": "cb0777c3",
   "metadata": {
    "execution": {
     "iopub.execute_input": "2023-02-27T13:13:13.631584Z",
     "iopub.status.busy": "2023-02-27T13:13:13.630829Z",
     "iopub.status.idle": "2023-02-27T13:13:13.637156Z",
     "shell.execute_reply": "2023-02-27T13:13:13.636569Z"
    }
   },
   "outputs": [
    {
     "data": {
      "text/plain": [
       "Batch(\n",
       "    a: tensor([[ 0.2928, -0.5008, -0.0026],\n",
       "               [-0.2707, -1.5274,  0.0615]]),\n",
       "    x: Batch(\n",
       "           c: tensor([[ 0.3028, -0.1026, -1.3381,  1.0158],\n",
       "                      [-1.2644,  0.1674, -1.1713, -0.5053],\n",
       "                      [-1.0877, -0.3578, -1.7255,  0.1743]]),\n",
       "       ),\n",
       ")"
      ]
     },
     "execution_count": 9,
     "metadata": {},
     "output_type": "execute_result"
    }
   ],
   "source": [
    "b"
   ]
  },
  {
   "cell_type": "code",
   "execution_count": 10,
   "id": "43ef8ea3",
   "metadata": {
    "execution": {
     "iopub.execute_input": "2023-02-27T13:13:13.640211Z",
     "iopub.status.busy": "2023-02-27T13:13:13.639698Z",
     "iopub.status.idle": "2023-02-27T13:13:13.644484Z",
     "shell.execute_reply": "2023-02-27T13:13:13.643830Z"
    }
   },
   "outputs": [
    {
     "data": {
      "text/plain": [
       "tensor([[ 0.2928, -0.5008, -0.0026],\n",
       "        [-0.2707, -1.5274,  0.0615]])"
      ]
     },
     "execution_count": 10,
     "metadata": {},
     "output_type": "execute_result"
    }
   ],
   "source": [
    "b.a"
   ]
  },
  {
   "cell_type": "code",
   "execution_count": 11,
   "id": "b785ab72",
   "metadata": {
    "execution": {
     "iopub.execute_input": "2023-02-27T13:13:13.647009Z",
     "iopub.status.busy": "2023-02-27T13:13:13.646674Z",
     "iopub.status.idle": "2023-02-27T13:13:18.240335Z",
     "shell.execute_reply": "2023-02-27T13:13:18.239610Z"
    }
   },
   "outputs": [
    {
     "name": "stdout",
     "output_type": "stream",
     "text": [
      "56.5 ns ± 0.0289 ns per loop (mean ± std. dev. of 7 runs, 10,000,000 loops each)\n"
     ]
    }
   ],
   "source": [
    "%timeit b.a"
   ]
  },
  {
   "cell_type": "code",
   "execution_count": 12,
   "id": "ad54dc69",
   "metadata": {
    "execution": {
     "iopub.execute_input": "2023-02-27T13:13:18.243568Z",
     "iopub.status.busy": "2023-02-27T13:13:18.242982Z",
     "iopub.status.idle": "2023-02-27T13:13:18.248829Z",
     "shell.execute_reply": "2023-02-27T13:13:18.248196Z"
    }
   },
   "outputs": [
    {
     "data": {
      "text/plain": [
       "Batch(\n",
       "    a: tensor([[ 0.0511, -0.0190,  0.1257],\n",
       "               [ 1.3128, -1.3863,  1.2278]]),\n",
       "    x: Batch(\n",
       "           c: tensor([[ 0.3028, -0.1026, -1.3381,  1.0158],\n",
       "                      [-1.2644,  0.1674, -1.1713, -0.5053],\n",
       "                      [-1.0877, -0.3578, -1.7255,  0.1743]]),\n",
       "       ),\n",
       ")"
      ]
     },
     "execution_count": 12,
     "metadata": {},
     "output_type": "execute_result"
    }
   ],
   "source": [
    "new_value = torch.randn(2, 3)\n",
    "b.a = new_value\n",
    "\n",
    "b"
   ]
  },
  {
   "cell_type": "code",
   "execution_count": 13,
   "id": "29b1d0bf",
   "metadata": {
    "execution": {
     "iopub.execute_input": "2023-02-27T13:13:18.251296Z",
     "iopub.status.busy": "2023-02-27T13:13:18.250961Z",
     "iopub.status.idle": "2023-02-27T13:13:22.194956Z",
     "shell.execute_reply": "2023-02-27T13:13:22.194070Z"
    }
   },
   "outputs": [
    {
     "name": "stdout",
     "output_type": "stream",
     "text": [
      "485 ns ± 0.106 ns per loop (mean ± std. dev. of 7 runs, 1,000,000 loops each)\n"
     ]
    }
   ],
   "source": [
    "%timeit b.a = new_value"
   ]
  },
  {
   "cell_type": "markdown",
   "id": "b61ad1d0",
   "metadata": {},
   "source": [
    "## Initialization"
   ]
  },
  {
   "cell_type": "markdown",
   "id": "d70f0d54",
   "metadata": {},
   "source": [
    "### TreeValue's Initialization"
   ]
  },
  {
   "cell_type": "code",
   "execution_count": 14,
   "id": "d32a679b",
   "metadata": {
    "execution": {
     "iopub.execute_input": "2023-02-27T13:13:22.198237Z",
     "iopub.status.busy": "2023-02-27T13:13:22.197870Z",
     "iopub.status.idle": "2023-02-27T13:13:29.040495Z",
     "shell.execute_reply": "2023-02-27T13:13:29.039749Z"
    }
   },
   "outputs": [
    {
     "name": "stdout",
     "output_type": "stream",
     "text": [
      "844 ns ± 0.0687 ns per loop (mean ± std. dev. of 7 runs, 1,000,000 loops each)\n"
     ]
    }
   ],
   "source": [
    "%timeit FastTreeValue(_TREE_DATA_1)"
   ]
  },
  {
   "cell_type": "markdown",
   "id": "24f3707b",
   "metadata": {},
   "source": [
    "### Tianshou Batch's Initialization"
   ]
  },
  {
   "cell_type": "code",
   "execution_count": 15,
   "id": "ac3958df",
   "metadata": {
    "execution": {
     "iopub.execute_input": "2023-02-27T13:13:29.043749Z",
     "iopub.status.busy": "2023-02-27T13:13:29.043193Z",
     "iopub.status.idle": "2023-02-27T13:13:38.614169Z",
     "shell.execute_reply": "2023-02-27T13:13:38.613420Z"
    }
   },
   "outputs": [
    {
     "name": "stdout",
     "output_type": "stream",
     "text": [
      "11.8 µs ± 38.1 ns per loop (mean ± std. dev. of 7 runs, 100,000 loops each)\n"
     ]
    }
   ],
   "source": [
    "%timeit Batch(**_TREE_DATA_1)"
   ]
  },
  {
   "cell_type": "markdown",
   "id": "1ab82e2d",
   "metadata": {},
   "source": [
    "## Deep Copy Operation"
   ]
  },
  {
   "cell_type": "code",
   "execution_count": 16,
   "id": "210a9442",
   "metadata": {
    "execution": {
     "iopub.execute_input": "2023-02-27T13:13:38.617496Z",
     "iopub.status.busy": "2023-02-27T13:13:38.616989Z",
     "iopub.status.idle": "2023-02-27T13:13:38.620984Z",
     "shell.execute_reply": "2023-02-27T13:13:38.620404Z"
    }
   },
   "outputs": [],
   "source": [
    "import copy"
   ]
  },
  {
   "cell_type": "markdown",
   "id": "5a736274",
   "metadata": {},
   "source": [
    "### Deep Copy of TreeValue"
   ]
  },
  {
   "cell_type": "code",
   "execution_count": 17,
   "id": "f9bcadd6",
   "metadata": {
    "execution": {
     "iopub.execute_input": "2023-02-27T13:13:38.623900Z",
     "iopub.status.busy": "2023-02-27T13:13:38.623396Z",
     "iopub.status.idle": "2023-02-27T13:13:49.889175Z",
     "shell.execute_reply": "2023-02-27T13:13:49.888577Z"
    }
   },
   "outputs": [
    {
     "name": "stdout",
     "output_type": "stream",
     "text": [
      "139 µs ± 1.46 µs per loop (mean ± std. dev. of 7 runs, 10,000 loops each)\n"
     ]
    }
   ],
   "source": [
    "t3 = FastTreeValue(_TREE_DATA_3)\n",
    "%timeit copy.deepcopy(t3)"
   ]
  },
  {
   "cell_type": "markdown",
   "id": "bf8be7ea",
   "metadata": {},
   "source": [
    "### Deep Copy of Tianshou Batch"
   ]
  },
  {
   "cell_type": "code",
   "execution_count": 18,
   "id": "91998e6f",
   "metadata": {
    "execution": {
     "iopub.execute_input": "2023-02-27T13:13:49.892187Z",
     "iopub.status.busy": "2023-02-27T13:13:49.891935Z",
     "iopub.status.idle": "2023-02-27T13:14:01.246709Z",
     "shell.execute_reply": "2023-02-27T13:14:01.246098Z"
    }
   },
   "outputs": [
    {
     "name": "stdout",
     "output_type": "stream",
     "text": [
      "140 µs ± 542 ns per loop (mean ± std. dev. of 7 runs, 10,000 loops each)\n"
     ]
    }
   ],
   "source": [
    "b3 = Batch(**_TREE_DATA_3)\n",
    "%timeit copy.deepcopy(b3)"
   ]
  },
  {
   "cell_type": "markdown",
   "id": "223162fb",
   "metadata": {},
   "source": [
    "## Stack, Concat and Split Operation"
   ]
  },
  {
   "cell_type": "markdown",
   "id": "85fa4a73",
   "metadata": {},
   "source": [
    "### Performance of TreeValue"
   ]
  },
  {
   "cell_type": "code",
   "execution_count": 19,
   "id": "a0c2b697",
   "metadata": {
    "execution": {
     "iopub.execute_input": "2023-02-27T13:14:01.250827Z",
     "iopub.status.busy": "2023-02-27T13:14:01.249632Z",
     "iopub.status.idle": "2023-02-27T13:14:01.254166Z",
     "shell.execute_reply": "2023-02-27T13:14:01.253551Z"
    }
   },
   "outputs": [],
   "source": [
    "trees = [FastTreeValue(_TREE_DATA_2) for _ in range(8)]"
   ]
  },
  {
   "cell_type": "code",
   "execution_count": 20,
   "id": "017ea5a5",
   "metadata": {
    "execution": {
     "iopub.execute_input": "2023-02-27T13:14:01.257205Z",
     "iopub.status.busy": "2023-02-27T13:14:01.256740Z",
     "iopub.status.idle": "2023-02-27T13:14:01.265457Z",
     "shell.execute_reply": "2023-02-27T13:14:01.264864Z"
    }
   },
   "outputs": [
    {
     "data": {
      "text/plain": [
       "<FastTreeValue 0x7f0448e0fb80>\n",
       "├── 'a' --> tensor([[[ 0.2928, -0.5008, -0.0026],\n",
       "│                    [-0.2707, -1.5274,  0.0615]],\n",
       "│           \n",
       "│                   [[ 0.2928, -0.5008, -0.0026],\n",
       "│                    [-0.2707, -1.5274,  0.0615]],\n",
       "│           \n",
       "│                   [[ 0.2928, -0.5008, -0.0026],\n",
       "│                    [-0.2707, -1.5274,  0.0615]],\n",
       "│           \n",
       "│                   [[ 0.2928, -0.5008, -0.0026],\n",
       "│                    [-0.2707, -1.5274,  0.0615]],\n",
       "│           \n",
       "│                   [[ 0.2928, -0.5008, -0.0026],\n",
       "│                    [-0.2707, -1.5274,  0.0615]],\n",
       "│           \n",
       "│                   [[ 0.2928, -0.5008, -0.0026],\n",
       "│                    [-0.2707, -1.5274,  0.0615]],\n",
       "│           \n",
       "│                   [[ 0.2928, -0.5008, -0.0026],\n",
       "│                    [-0.2707, -1.5274,  0.0615]],\n",
       "│           \n",
       "│                   [[ 0.2928, -0.5008, -0.0026],\n",
       "│                    [-0.2707, -1.5274,  0.0615]]])\n",
       "└── 'x' --> <FastTreeValue 0x7f050059b850>\n",
       "    └── 'c' --> tensor([[[ 0.3028, -0.1026, -1.3381,  1.0158],\n",
       "                         [-1.2644,  0.1674, -1.1713, -0.5053],\n",
       "                         [-1.0877, -0.3578, -1.7255,  0.1743]],\n",
       "                \n",
       "                        [[ 0.3028, -0.1026, -1.3381,  1.0158],\n",
       "                         [-1.2644,  0.1674, -1.1713, -0.5053],\n",
       "                         [-1.0877, -0.3578, -1.7255,  0.1743]],\n",
       "                \n",
       "                        [[ 0.3028, -0.1026, -1.3381,  1.0158],\n",
       "                         [-1.2644,  0.1674, -1.1713, -0.5053],\n",
       "                         [-1.0877, -0.3578, -1.7255,  0.1743]],\n",
       "                \n",
       "                        [[ 0.3028, -0.1026, -1.3381,  1.0158],\n",
       "                         [-1.2644,  0.1674, -1.1713, -0.5053],\n",
       "                         [-1.0877, -0.3578, -1.7255,  0.1743]],\n",
       "                \n",
       "                        [[ 0.3028, -0.1026, -1.3381,  1.0158],\n",
       "                         [-1.2644,  0.1674, -1.1713, -0.5053],\n",
       "                         [-1.0877, -0.3578, -1.7255,  0.1743]],\n",
       "                \n",
       "                        [[ 0.3028, -0.1026, -1.3381,  1.0158],\n",
       "                         [-1.2644,  0.1674, -1.1713, -0.5053],\n",
       "                         [-1.0877, -0.3578, -1.7255,  0.1743]],\n",
       "                \n",
       "                        [[ 0.3028, -0.1026, -1.3381,  1.0158],\n",
       "                         [-1.2644,  0.1674, -1.1713, -0.5053],\n",
       "                         [-1.0877, -0.3578, -1.7255,  0.1743]],\n",
       "                \n",
       "                        [[ 0.3028, -0.1026, -1.3381,  1.0158],\n",
       "                         [-1.2644,  0.1674, -1.1713, -0.5053],\n",
       "                         [-1.0877, -0.3578, -1.7255,  0.1743]]])"
      ]
     },
     "execution_count": 20,
     "metadata": {},
     "output_type": "execute_result"
    }
   ],
   "source": [
    "t_stack = FastTreeValue.func(subside=True)(torch.stack)\n",
    "\n",
    "t_stack(trees)"
   ]
  },
  {
   "cell_type": "code",
   "execution_count": 21,
   "id": "f8b3f415",
   "metadata": {
    "execution": {
     "iopub.execute_input": "2023-02-27T13:14:01.268279Z",
     "iopub.status.busy": "2023-02-27T13:14:01.267847Z",
     "iopub.status.idle": "2023-02-27T13:14:03.916574Z",
     "shell.execute_reply": "2023-02-27T13:14:03.915901Z"
    }
   },
   "outputs": [
    {
     "name": "stdout",
     "output_type": "stream",
     "text": [
      "32.5 µs ± 143 ns per loop (mean ± std. dev. of 7 runs, 10,000 loops each)\n"
     ]
    }
   ],
   "source": [
    "%timeit t_stack(trees)"
   ]
  },
  {
   "cell_type": "code",
   "execution_count": 22,
   "id": "94b56771",
   "metadata": {
    "execution": {
     "iopub.execute_input": "2023-02-27T13:14:03.919851Z",
     "iopub.status.busy": "2023-02-27T13:14:03.919343Z",
     "iopub.status.idle": "2023-02-27T13:14:03.927241Z",
     "shell.execute_reply": "2023-02-27T13:14:03.926652Z"
    }
   },
   "outputs": [
    {
     "data": {
      "text/plain": [
       "<FastTreeValue 0x7f044883bf40>\n",
       "├── 'a' --> tensor([[ 0.2928, -0.5008, -0.0026],\n",
       "│                   [-0.2707, -1.5274,  0.0615],\n",
       "│                   [ 0.2928, -0.5008, -0.0026],\n",
       "│                   [-0.2707, -1.5274,  0.0615],\n",
       "│                   [ 0.2928, -0.5008, -0.0026],\n",
       "│                   [-0.2707, -1.5274,  0.0615],\n",
       "│                   [ 0.2928, -0.5008, -0.0026],\n",
       "│                   [-0.2707, -1.5274,  0.0615],\n",
       "│                   [ 0.2928, -0.5008, -0.0026],\n",
       "│                   [-0.2707, -1.5274,  0.0615],\n",
       "│                   [ 0.2928, -0.5008, -0.0026],\n",
       "│                   [-0.2707, -1.5274,  0.0615],\n",
       "│                   [ 0.2928, -0.5008, -0.0026],\n",
       "│                   [-0.2707, -1.5274,  0.0615],\n",
       "│                   [ 0.2928, -0.5008, -0.0026],\n",
       "│                   [-0.2707, -1.5274,  0.0615]])\n",
       "└── 'x' --> <FastTreeValue 0x7f044880acd0>\n",
       "    └── 'c' --> tensor([[ 0.3028, -0.1026, -1.3381,  1.0158],\n",
       "                        [-1.2644,  0.1674, -1.1713, -0.5053],\n",
       "                        [-1.0877, -0.3578, -1.7255,  0.1743],\n",
       "                        [ 0.3028, -0.1026, -1.3381,  1.0158],\n",
       "                        [-1.2644,  0.1674, -1.1713, -0.5053],\n",
       "                        [-1.0877, -0.3578, -1.7255,  0.1743],\n",
       "                        [ 0.3028, -0.1026, -1.3381,  1.0158],\n",
       "                        [-1.2644,  0.1674, -1.1713, -0.5053],\n",
       "                        [-1.0877, -0.3578, -1.7255,  0.1743],\n",
       "                        [ 0.3028, -0.1026, -1.3381,  1.0158],\n",
       "                        [-1.2644,  0.1674, -1.1713, -0.5053],\n",
       "                        [-1.0877, -0.3578, -1.7255,  0.1743],\n",
       "                        [ 0.3028, -0.1026, -1.3381,  1.0158],\n",
       "                        [-1.2644,  0.1674, -1.1713, -0.5053],\n",
       "                        [-1.0877, -0.3578, -1.7255,  0.1743],\n",
       "                        [ 0.3028, -0.1026, -1.3381,  1.0158],\n",
       "                        [-1.2644,  0.1674, -1.1713, -0.5053],\n",
       "                        [-1.0877, -0.3578, -1.7255,  0.1743],\n",
       "                        [ 0.3028, -0.1026, -1.3381,  1.0158],\n",
       "                        [-1.2644,  0.1674, -1.1713, -0.5053],\n",
       "                        [-1.0877, -0.3578, -1.7255,  0.1743],\n",
       "                        [ 0.3028, -0.1026, -1.3381,  1.0158],\n",
       "                        [-1.2644,  0.1674, -1.1713, -0.5053],\n",
       "                        [-1.0877, -0.3578, -1.7255,  0.1743]])"
      ]
     },
     "execution_count": 22,
     "metadata": {},
     "output_type": "execute_result"
    }
   ],
   "source": [
    "t_cat = FastTreeValue.func(subside=True)(torch.cat)\n",
    "\n",
    "t_cat(trees)"
   ]
  },
  {
   "cell_type": "code",
   "execution_count": 23,
   "id": "5e9c06a6",
   "metadata": {
    "execution": {
     "iopub.execute_input": "2023-02-27T13:14:03.929942Z",
     "iopub.status.busy": "2023-02-27T13:14:03.929601Z",
     "iopub.status.idle": "2023-02-27T13:14:06.383187Z",
     "shell.execute_reply": "2023-02-27T13:14:06.382457Z"
    }
   },
   "outputs": [
    {
     "name": "stdout",
     "output_type": "stream",
     "text": [
      "30.2 µs ± 85.9 ns per loop (mean ± std. dev. of 7 runs, 10,000 loops each)\n"
     ]
    }
   ],
   "source": [
    "%timeit t_cat(trees)"
   ]
  },
  {
   "cell_type": "code",
   "execution_count": 24,
   "id": "a3ab5c8f",
   "metadata": {
    "execution": {
     "iopub.execute_input": "2023-02-27T13:14:06.386296Z",
     "iopub.status.busy": "2023-02-27T13:14:06.385935Z",
     "iopub.status.idle": "2023-02-27T13:14:11.167022Z",
     "shell.execute_reply": "2023-02-27T13:14:11.166258Z"
    }
   },
   "outputs": [
    {
     "name": "stdout",
     "output_type": "stream",
     "text": [
      "58.8 µs ± 57.1 ns per loop (mean ± std. dev. of 7 runs, 10,000 loops each)\n"
     ]
    }
   ],
   "source": [
    "t_split = FastTreeValue.func(rise=True)(torch.split)\n",
    "tree = FastTreeValue({\n",
    "    'obs': torch.randn(8, 4, 84, 84),\n",
    "    'action': torch.randint(0, 6, size=(8, 1,)),\n",
    "    'reward': torch.rand(8, 1),\n",
    "})\n",
    "\n",
    "%timeit t_split(tree, 1)"
   ]
  },
  {
   "cell_type": "markdown",
   "id": "31c3ec0b",
   "metadata": {},
   "source": [
    "### Performance of Tianshou Batch"
   ]
  },
  {
   "cell_type": "code",
   "execution_count": 25,
   "id": "9ead828a",
   "metadata": {
    "execution": {
     "iopub.execute_input": "2023-02-27T13:14:11.170178Z",
     "iopub.status.busy": "2023-02-27T13:14:11.169794Z",
     "iopub.status.idle": "2023-02-27T13:14:11.178036Z",
     "shell.execute_reply": "2023-02-27T13:14:11.177429Z"
    }
   },
   "outputs": [
    {
     "data": {
      "text/plain": [
       "Batch(\n",
       "    a: tensor([[[ 0.2928, -0.5008, -0.0026],\n",
       "                [-0.2707, -1.5274,  0.0615]],\n",
       "       \n",
       "               [[ 0.2928, -0.5008, -0.0026],\n",
       "                [-0.2707, -1.5274,  0.0615]],\n",
       "       \n",
       "               [[ 0.2928, -0.5008, -0.0026],\n",
       "                [-0.2707, -1.5274,  0.0615]],\n",
       "       \n",
       "               [[ 0.2928, -0.5008, -0.0026],\n",
       "                [-0.2707, -1.5274,  0.0615]],\n",
       "       \n",
       "               [[ 0.2928, -0.5008, -0.0026],\n",
       "                [-0.2707, -1.5274,  0.0615]],\n",
       "       \n",
       "               [[ 0.2928, -0.5008, -0.0026],\n",
       "                [-0.2707, -1.5274,  0.0615]],\n",
       "       \n",
       "               [[ 0.2928, -0.5008, -0.0026],\n",
       "                [-0.2707, -1.5274,  0.0615]],\n",
       "       \n",
       "               [[ 0.2928, -0.5008, -0.0026],\n",
       "                [-0.2707, -1.5274,  0.0615]]]),\n",
       "    x: Batch(\n",
       "           c: tensor([[[ 0.3028, -0.1026, -1.3381,  1.0158],\n",
       "                       [-1.2644,  0.1674, -1.1713, -0.5053],\n",
       "                       [-1.0877, -0.3578, -1.7255,  0.1743]],\n",
       "              \n",
       "                      [[ 0.3028, -0.1026, -1.3381,  1.0158],\n",
       "                       [-1.2644,  0.1674, -1.1713, -0.5053],\n",
       "                       [-1.0877, -0.3578, -1.7255,  0.1743]],\n",
       "              \n",
       "                      [[ 0.3028, -0.1026, -1.3381,  1.0158],\n",
       "                       [-1.2644,  0.1674, -1.1713, -0.5053],\n",
       "                       [-1.0877, -0.3578, -1.7255,  0.1743]],\n",
       "              \n",
       "                      [[ 0.3028, -0.1026, -1.3381,  1.0158],\n",
       "                       [-1.2644,  0.1674, -1.1713, -0.5053],\n",
       "                       [-1.0877, -0.3578, -1.7255,  0.1743]],\n",
       "              \n",
       "                      [[ 0.3028, -0.1026, -1.3381,  1.0158],\n",
       "                       [-1.2644,  0.1674, -1.1713, -0.5053],\n",
       "                       [-1.0877, -0.3578, -1.7255,  0.1743]],\n",
       "              \n",
       "                      [[ 0.3028, -0.1026, -1.3381,  1.0158],\n",
       "                       [-1.2644,  0.1674, -1.1713, -0.5053],\n",
       "                       [-1.0877, -0.3578, -1.7255,  0.1743]],\n",
       "              \n",
       "                      [[ 0.3028, -0.1026, -1.3381,  1.0158],\n",
       "                       [-1.2644,  0.1674, -1.1713, -0.5053],\n",
       "                       [-1.0877, -0.3578, -1.7255,  0.1743]],\n",
       "              \n",
       "                      [[ 0.3028, -0.1026, -1.3381,  1.0158],\n",
       "                       [-1.2644,  0.1674, -1.1713, -0.5053],\n",
       "                       [-1.0877, -0.3578, -1.7255,  0.1743]]]),\n",
       "       ),\n",
       ")"
      ]
     },
     "execution_count": 25,
     "metadata": {},
     "output_type": "execute_result"
    }
   ],
   "source": [
    "batches = [Batch(**_TREE_DATA_2) for _ in range(8)]\n",
    "\n",
    "Batch.stack(batches)"
   ]
  },
  {
   "cell_type": "code",
   "execution_count": 26,
   "id": "ec9037a3",
   "metadata": {
    "execution": {
     "iopub.execute_input": "2023-02-27T13:14:11.181457Z",
     "iopub.status.busy": "2023-02-27T13:14:11.180418Z",
     "iopub.status.idle": "2023-02-27T13:14:17.530046Z",
     "shell.execute_reply": "2023-02-27T13:14:17.529285Z"
    }
   },
   "outputs": [
    {
     "name": "stdout",
     "output_type": "stream",
     "text": [
      "78.2 µs ± 151 ns per loop (mean ± std. dev. of 7 runs, 10,000 loops each)\n"
     ]
    }
   ],
   "source": [
    "%timeit Batch.stack(batches)"
   ]
  },
  {
   "cell_type": "code",
   "execution_count": 27,
   "id": "cb8ab77e",
   "metadata": {
    "execution": {
     "iopub.execute_input": "2023-02-27T13:14:17.533000Z",
     "iopub.status.busy": "2023-02-27T13:14:17.532461Z",
     "iopub.status.idle": "2023-02-27T13:14:17.539929Z",
     "shell.execute_reply": "2023-02-27T13:14:17.539337Z"
    }
   },
   "outputs": [
    {
     "data": {
      "text/plain": [
       "Batch(\n",
       "    a: tensor([[ 0.2928, -0.5008, -0.0026],\n",
       "               [-0.2707, -1.5274,  0.0615],\n",
       "               [ 0.2928, -0.5008, -0.0026],\n",
       "               [-0.2707, -1.5274,  0.0615],\n",
       "               [ 0.2928, -0.5008, -0.0026],\n",
       "               [-0.2707, -1.5274,  0.0615],\n",
       "               [ 0.2928, -0.5008, -0.0026],\n",
       "               [-0.2707, -1.5274,  0.0615],\n",
       "               [ 0.2928, -0.5008, -0.0026],\n",
       "               [-0.2707, -1.5274,  0.0615],\n",
       "               [ 0.2928, -0.5008, -0.0026],\n",
       "               [-0.2707, -1.5274,  0.0615],\n",
       "               [ 0.2928, -0.5008, -0.0026],\n",
       "               [-0.2707, -1.5274,  0.0615],\n",
       "               [ 0.2928, -0.5008, -0.0026],\n",
       "               [-0.2707, -1.5274,  0.0615]]),\n",
       "    x: Batch(\n",
       "           c: tensor([[ 0.3028, -0.1026, -1.3381,  1.0158],\n",
       "                      [-1.2644,  0.1674, -1.1713, -0.5053],\n",
       "                      [-1.0877, -0.3578, -1.7255,  0.1743],\n",
       "                      [ 0.3028, -0.1026, -1.3381,  1.0158],\n",
       "                      [-1.2644,  0.1674, -1.1713, -0.5053],\n",
       "                      [-1.0877, -0.3578, -1.7255,  0.1743],\n",
       "                      [ 0.3028, -0.1026, -1.3381,  1.0158],\n",
       "                      [-1.2644,  0.1674, -1.1713, -0.5053],\n",
       "                      [-1.0877, -0.3578, -1.7255,  0.1743],\n",
       "                      [ 0.3028, -0.1026, -1.3381,  1.0158],\n",
       "                      [-1.2644,  0.1674, -1.1713, -0.5053],\n",
       "                      [-1.0877, -0.3578, -1.7255,  0.1743],\n",
       "                      [ 0.3028, -0.1026, -1.3381,  1.0158],\n",
       "                      [-1.2644,  0.1674, -1.1713, -0.5053],\n",
       "                      [-1.0877, -0.3578, -1.7255,  0.1743],\n",
       "                      [ 0.3028, -0.1026, -1.3381,  1.0158],\n",
       "                      [-1.2644,  0.1674, -1.1713, -0.5053],\n",
       "                      [-1.0877, -0.3578, -1.7255,  0.1743],\n",
       "                      [ 0.3028, -0.1026, -1.3381,  1.0158],\n",
       "                      [-1.2644,  0.1674, -1.1713, -0.5053],\n",
       "                      [-1.0877, -0.3578, -1.7255,  0.1743],\n",
       "                      [ 0.3028, -0.1026, -1.3381,  1.0158],\n",
       "                      [-1.2644,  0.1674, -1.1713, -0.5053],\n",
       "                      [-1.0877, -0.3578, -1.7255,  0.1743]]),\n",
       "       ),\n",
       ")"
      ]
     },
     "execution_count": 27,
     "metadata": {},
     "output_type": "execute_result"
    }
   ],
   "source": [
    "Batch.cat(batches)"
   ]
  },
  {
   "cell_type": "code",
   "execution_count": 28,
   "id": "18dfb045",
   "metadata": {
    "execution": {
     "iopub.execute_input": "2023-02-27T13:14:17.542373Z",
     "iopub.status.busy": "2023-02-27T13:14:17.542030Z",
     "iopub.status.idle": "2023-02-27T13:14:29.069820Z",
     "shell.execute_reply": "2023-02-27T13:14:29.069123Z"
    }
   },
   "outputs": [
    {
     "name": "stdout",
     "output_type": "stream",
     "text": [
      "142 µs ± 462 ns per loop (mean ± std. dev. of 7 runs, 10,000 loops each)\n"
     ]
    }
   ],
   "source": [
    "%timeit Batch.cat(batches)"
   ]
  },
  {
   "cell_type": "code",
   "execution_count": 29,
   "id": "c6688e51",
   "metadata": {
    "execution": {
     "iopub.execute_input": "2023-02-27T13:14:29.072744Z",
     "iopub.status.busy": "2023-02-27T13:14:29.072511Z",
     "iopub.status.idle": "2023-02-27T13:14:31.653184Z",
     "shell.execute_reply": "2023-02-27T13:14:31.652584Z"
    }
   },
   "outputs": [
    {
     "name": "stdout",
     "output_type": "stream",
     "text": [
      "317 µs ± 1.3 µs per loop (mean ± std. dev. of 7 runs, 1,000 loops each)\n"
     ]
    }
   ],
   "source": [
    "batch = Batch({\n",
    "    'obs': torch.randn(8, 4, 84, 84),\n",
    "    'action': torch.randint(0, 6, size=(8, 1,)),\n",
    "    'reward': torch.rand(8, 1)}\n",
    ")\n",
    "\n",
    "%timeit list(Batch.split(batch, 1, shuffle=False, merge_last=True))"
   ]
  },
  {
   "cell_type": "code",
   "execution_count": null,
   "id": "2539fbd9",
   "metadata": {},
   "outputs": [],
   "source": []
  }
 ],
 "metadata": {
  "kernelspec": {
   "display_name": "Python 3 (ipykernel)",
   "language": "python",
   "name": "python3"
  },
  "language_info": {
   "codemirror_mode": {
    "name": "ipython",
    "version": 3
   },
   "file_extension": ".py",
   "mimetype": "text/x-python",
   "name": "python",
   "nbconvert_exporter": "python",
   "pygments_lexer": "ipython3",
   "version": "3.8.16"
  }
 },
 "nbformat": 4,
 "nbformat_minor": 5
}
