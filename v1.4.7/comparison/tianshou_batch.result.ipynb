{
 "cells": [
  {
   "cell_type": "markdown",
   "id": "9d39d946",
   "metadata": {},
   "source": [
    "# Comparison Between TreeValue and Tianshou Batch"
   ]
  },
  {
   "cell_type": "markdown",
   "id": "3c6db2d4",
   "metadata": {},
   "source": [
    "In this section, we will take a look at the feature and performance of the [Tianshou Batch](https://github.com/thu-ml/tianshou) library, which is developed by Tsinghua Machine Learning Group."
   ]
  },
  {
   "cell_type": "markdown",
   "id": "069361b0",
   "metadata": {},
   "source": [
    "Before starting the comparison, let us define some thing."
   ]
  },
  {
   "cell_type": "code",
   "execution_count": 1,
   "id": "06fc8d26",
   "metadata": {
    "execution": {
     "iopub.execute_input": "2023-08-10T14:35:20.516134Z",
     "iopub.status.busy": "2023-08-10T14:35:20.515690Z",
     "iopub.status.idle": "2023-08-10T14:35:21.911172Z",
     "shell.execute_reply": "2023-08-10T14:35:21.910382Z"
    }
   },
   "outputs": [],
   "source": [
    "import torch \n",
    "\n",
    "_TREE_DATA_1 = {'a': 1, 'b': 2, 'x': {'c': 3, 'd': 4}}\n",
    "_TREE_DATA_2 = {\n",
    "    'a': torch.randn(2, 3), \n",
    "    'x': {\n",
    "        'c': torch.randn(3, 4)\n",
    "    },\n",
    "}\n",
    "_TREE_DATA_3 = {\n",
    "    'obs': torch.randn(4, 84, 84),\n",
    "    'action': torch.randint(0, 6, size=(1,)),\n",
    "    'reward': torch.rand(1),\n",
    "}"
   ]
  },
  {
   "cell_type": "markdown",
   "id": "83461b25",
   "metadata": {},
   "source": [
    "## Read and Write Operation"
   ]
  },
  {
   "cell_type": "markdown",
   "id": "067b3f73",
   "metadata": {},
   "source": [
    "Reading and writing are the two most common operations in the tree data structure based on the data model (TreeValue and Tianshou Batch both belong to this type), so this section will compare the reading and writing performance of these two libraries."
   ]
  },
  {
   "cell_type": "markdown",
   "id": "5d09a5b7",
   "metadata": {},
   "source": [
    "### TreeValue's Get and Set"
   ]
  },
  {
   "cell_type": "code",
   "execution_count": 2,
   "id": "9519c4bb",
   "metadata": {
    "execution": {
     "iopub.execute_input": "2023-08-10T14:35:21.915814Z",
     "iopub.status.busy": "2023-08-10T14:35:21.915341Z",
     "iopub.status.idle": "2023-08-10T14:35:22.242774Z",
     "shell.execute_reply": "2023-08-10T14:35:22.241976Z"
    }
   },
   "outputs": [],
   "source": [
    "from treevalue import FastTreeValue\n",
    "\n",
    "t = FastTreeValue(_TREE_DATA_2)"
   ]
  },
  {
   "cell_type": "code",
   "execution_count": 3,
   "id": "11c37677",
   "metadata": {
    "execution": {
     "iopub.execute_input": "2023-08-10T14:35:22.246792Z",
     "iopub.status.busy": "2023-08-10T14:35:22.246320Z",
     "iopub.status.idle": "2023-08-10T14:35:22.255689Z",
     "shell.execute_reply": "2023-08-10T14:35:22.255092Z"
    }
   },
   "outputs": [
    {
     "data": {
      "text/plain": [
       "<FastTreeValue 0x7f5654ffad00>\n",
       "├── 'a' --> tensor([[ 0.2550, -0.7420,  0.4048],\n",
       "│                   [-0.5538,  0.2563, -0.6116]])\n",
       "└── 'x' --> <FastTreeValue 0x7f5654ffae80>\n",
       "    └── 'c' --> tensor([[ 1.1634,  0.9361, -0.2149,  1.2942],\n",
       "                        [ 0.1373, -1.0982, -1.3636,  1.1513],\n",
       "                        [ 0.0222,  0.3735,  0.1997,  1.9237]])"
      ]
     },
     "execution_count": 3,
     "metadata": {},
     "output_type": "execute_result"
    }
   ],
   "source": [
    "t"
   ]
  },
  {
   "cell_type": "code",
   "execution_count": 4,
   "id": "fd70b0b9",
   "metadata": {
    "execution": {
     "iopub.execute_input": "2023-08-10T14:35:22.259015Z",
     "iopub.status.busy": "2023-08-10T14:35:22.258376Z",
     "iopub.status.idle": "2023-08-10T14:35:22.264456Z",
     "shell.execute_reply": "2023-08-10T14:35:22.263832Z"
    }
   },
   "outputs": [
    {
     "data": {
      "text/plain": [
       "tensor([[ 0.2550, -0.7420,  0.4048],\n",
       "        [-0.5538,  0.2563, -0.6116]])"
      ]
     },
     "execution_count": 4,
     "metadata": {},
     "output_type": "execute_result"
    }
   ],
   "source": [
    "t.a"
   ]
  },
  {
   "cell_type": "code",
   "execution_count": 5,
   "id": "c18197bd",
   "metadata": {
    "execution": {
     "iopub.execute_input": "2023-08-10T14:35:22.267588Z",
     "iopub.status.busy": "2023-08-10T14:35:22.267013Z",
     "iopub.status.idle": "2023-08-10T14:35:27.981848Z",
     "shell.execute_reply": "2023-08-10T14:35:27.981003Z"
    }
   },
   "outputs": [
    {
     "name": "stdout",
     "output_type": "stream",
     "text": [
      "70.4 ns ± 0.0531 ns per loop (mean ± std. dev. of 7 runs, 10,000,000 loops each)\n"
     ]
    }
   ],
   "source": [
    "%timeit t.a"
   ]
  },
  {
   "cell_type": "code",
   "execution_count": 6,
   "id": "bd52f867",
   "metadata": {
    "execution": {
     "iopub.execute_input": "2023-08-10T14:35:27.985225Z",
     "iopub.status.busy": "2023-08-10T14:35:27.984735Z",
     "iopub.status.idle": "2023-08-10T14:35:27.991214Z",
     "shell.execute_reply": "2023-08-10T14:35:27.990494Z"
    }
   },
   "outputs": [
    {
     "data": {
      "text/plain": [
       "<FastTreeValue 0x7f5654ffad00>\n",
       "├── 'a' --> tensor([[ 0.7204,  0.4966, -0.6914],\n",
       "│                   [-1.1293, -0.8326, -0.3716]])\n",
       "└── 'x' --> <FastTreeValue 0x7f5654ffae80>\n",
       "    └── 'c' --> tensor([[ 1.1634,  0.9361, -0.2149,  1.2942],\n",
       "                        [ 0.1373, -1.0982, -1.3636,  1.1513],\n",
       "                        [ 0.0222,  0.3735,  0.1997,  1.9237]])"
      ]
     },
     "execution_count": 6,
     "metadata": {},
     "output_type": "execute_result"
    }
   ],
   "source": [
    "new_value = torch.randn(2, 3)\n",
    "t.a = new_value\n",
    "\n",
    "t"
   ]
  },
  {
   "cell_type": "code",
   "execution_count": 7,
   "id": "bbe04d1c",
   "metadata": {
    "execution": {
     "iopub.execute_input": "2023-08-10T14:35:27.994254Z",
     "iopub.status.busy": "2023-08-10T14:35:27.993809Z",
     "iopub.status.idle": "2023-08-10T14:35:33.995655Z",
     "shell.execute_reply": "2023-08-10T14:35:33.994118Z"
    }
   },
   "outputs": [
    {
     "name": "stdout",
     "output_type": "stream",
     "text": [
      "73.9 ns ± 0.108 ns per loop (mean ± std. dev. of 7 runs, 10,000,000 loops each)\n"
     ]
    }
   ],
   "source": [
    "%timeit t.a = new_value"
   ]
  },
  {
   "cell_type": "markdown",
   "id": "48c49731",
   "metadata": {},
   "source": [
    "### Tianshou Batch's Get and Set"
   ]
  },
  {
   "cell_type": "code",
   "execution_count": 8,
   "id": "f1bb14c1",
   "metadata": {
    "execution": {
     "iopub.execute_input": "2023-08-10T14:35:33.999304Z",
     "iopub.status.busy": "2023-08-10T14:35:33.998910Z",
     "iopub.status.idle": "2023-08-10T14:35:34.377531Z",
     "shell.execute_reply": "2023-08-10T14:35:34.376716Z"
    }
   },
   "outputs": [],
   "source": [
    "from tianshou.data import Batch\n",
    "\n",
    "b = Batch(**_TREE_DATA_2)"
   ]
  },
  {
   "cell_type": "code",
   "execution_count": 9,
   "id": "cb0777c3",
   "metadata": {
    "execution": {
     "iopub.execute_input": "2023-08-10T14:35:34.381962Z",
     "iopub.status.busy": "2023-08-10T14:35:34.381152Z",
     "iopub.status.idle": "2023-08-10T14:35:34.387511Z",
     "shell.execute_reply": "2023-08-10T14:35:34.386796Z"
    }
   },
   "outputs": [
    {
     "data": {
      "text/plain": [
       "Batch(\n",
       "    a: tensor([[ 0.2550, -0.7420,  0.4048],\n",
       "               [-0.5538,  0.2563, -0.6116]]),\n",
       "    x: Batch(\n",
       "           c: tensor([[ 1.1634,  0.9361, -0.2149,  1.2942],\n",
       "                      [ 0.1373, -1.0982, -1.3636,  1.1513],\n",
       "                      [ 0.0222,  0.3735,  0.1997,  1.9237]]),\n",
       "       ),\n",
       ")"
      ]
     },
     "execution_count": 9,
     "metadata": {},
     "output_type": "execute_result"
    }
   ],
   "source": [
    "b"
   ]
  },
  {
   "cell_type": "code",
   "execution_count": 10,
   "id": "43ef8ea3",
   "metadata": {
    "execution": {
     "iopub.execute_input": "2023-08-10T14:35:34.391045Z",
     "iopub.status.busy": "2023-08-10T14:35:34.390398Z",
     "iopub.status.idle": "2023-08-10T14:35:34.395655Z",
     "shell.execute_reply": "2023-08-10T14:35:34.394954Z"
    }
   },
   "outputs": [
    {
     "data": {
      "text/plain": [
       "tensor([[ 0.2550, -0.7420,  0.4048],\n",
       "        [-0.5538,  0.2563, -0.6116]])"
      ]
     },
     "execution_count": 10,
     "metadata": {},
     "output_type": "execute_result"
    }
   ],
   "source": [
    "b.a"
   ]
  },
  {
   "cell_type": "code",
   "execution_count": 11,
   "id": "b785ab72",
   "metadata": {
    "execution": {
     "iopub.execute_input": "2023-08-10T14:35:34.398968Z",
     "iopub.status.busy": "2023-08-10T14:35:34.398417Z",
     "iopub.status.idle": "2023-08-10T14:35:39.655831Z",
     "shell.execute_reply": "2023-08-10T14:35:39.655093Z"
    }
   },
   "outputs": [
    {
     "name": "stdout",
     "output_type": "stream",
     "text": [
      "64.7 ns ± 0.187 ns per loop (mean ± std. dev. of 7 runs, 10,000,000 loops each)\n"
     ]
    }
   ],
   "source": [
    "%timeit b.a"
   ]
  },
  {
   "cell_type": "code",
   "execution_count": 12,
   "id": "ad54dc69",
   "metadata": {
    "execution": {
     "iopub.execute_input": "2023-08-10T14:35:39.659360Z",
     "iopub.status.busy": "2023-08-10T14:35:39.658835Z",
     "iopub.status.idle": "2023-08-10T14:35:39.665275Z",
     "shell.execute_reply": "2023-08-10T14:35:39.664547Z"
    }
   },
   "outputs": [
    {
     "data": {
      "text/plain": [
       "Batch(\n",
       "    a: tensor([[-0.0684,  0.3273,  2.0427],\n",
       "               [ 0.6930, -1.3571, -1.0194]]),\n",
       "    x: Batch(\n",
       "           c: tensor([[ 1.1634,  0.9361, -0.2149,  1.2942],\n",
       "                      [ 0.1373, -1.0982, -1.3636,  1.1513],\n",
       "                      [ 0.0222,  0.3735,  0.1997,  1.9237]]),\n",
       "       ),\n",
       ")"
      ]
     },
     "execution_count": 12,
     "metadata": {},
     "output_type": "execute_result"
    }
   ],
   "source": [
    "new_value = torch.randn(2, 3)\n",
    "b.a = new_value\n",
    "\n",
    "b"
   ]
  },
  {
   "cell_type": "code",
   "execution_count": 13,
   "id": "29b1d0bf",
   "metadata": {
    "execution": {
     "iopub.execute_input": "2023-08-10T14:35:39.668490Z",
     "iopub.status.busy": "2023-08-10T14:35:39.668034Z",
     "iopub.status.idle": "2023-08-10T14:35:44.179532Z",
     "shell.execute_reply": "2023-08-10T14:35:44.178766Z"
    }
   },
   "outputs": [
    {
     "name": "stdout",
     "output_type": "stream",
     "text": [
      "554 ns ± 7.52 ns per loop (mean ± std. dev. of 7 runs, 1,000,000 loops each)\n"
     ]
    }
   ],
   "source": [
    "%timeit b.a = new_value"
   ]
  },
  {
   "cell_type": "markdown",
   "id": "b61ad1d0",
   "metadata": {},
   "source": [
    "## Initialization"
   ]
  },
  {
   "cell_type": "markdown",
   "id": "d70f0d54",
   "metadata": {},
   "source": [
    "### TreeValue's Initialization"
   ]
  },
  {
   "cell_type": "code",
   "execution_count": 14,
   "id": "d32a679b",
   "metadata": {
    "execution": {
     "iopub.execute_input": "2023-08-10T14:35:44.183268Z",
     "iopub.status.busy": "2023-08-10T14:35:44.182771Z",
     "iopub.status.idle": "2023-08-10T14:35:51.232089Z",
     "shell.execute_reply": "2023-08-10T14:35:51.231326Z"
    }
   },
   "outputs": [
    {
     "name": "stdout",
     "output_type": "stream",
     "text": [
      "868 ns ± 0.349 ns per loop (mean ± std. dev. of 7 runs, 1,000,000 loops each)\n"
     ]
    }
   ],
   "source": [
    "%timeit FastTreeValue(_TREE_DATA_1)"
   ]
  },
  {
   "cell_type": "markdown",
   "id": "24f3707b",
   "metadata": {},
   "source": [
    "### Tianshou Batch's Initialization"
   ]
  },
  {
   "cell_type": "code",
   "execution_count": 15,
   "id": "ac3958df",
   "metadata": {
    "execution": {
     "iopub.execute_input": "2023-08-10T14:35:51.235812Z",
     "iopub.status.busy": "2023-08-10T14:35:51.235119Z",
     "iopub.status.idle": "2023-08-10T14:36:00.426674Z",
     "shell.execute_reply": "2023-08-10T14:36:00.425934Z"
    }
   },
   "outputs": [
    {
     "name": "stdout",
     "output_type": "stream",
     "text": [
      "11.3 µs ± 17.1 ns per loop (mean ± std. dev. of 7 runs, 100,000 loops each)\n"
     ]
    }
   ],
   "source": [
    "%timeit Batch(**_TREE_DATA_1)"
   ]
  },
  {
   "cell_type": "markdown",
   "id": "1ab82e2d",
   "metadata": {},
   "source": [
    "## Deep Copy Operation"
   ]
  },
  {
   "cell_type": "code",
   "execution_count": 16,
   "id": "210a9442",
   "metadata": {
    "execution": {
     "iopub.execute_input": "2023-08-10T14:36:00.430478Z",
     "iopub.status.busy": "2023-08-10T14:36:00.429839Z",
     "iopub.status.idle": "2023-08-10T14:36:00.433304Z",
     "shell.execute_reply": "2023-08-10T14:36:00.432577Z"
    }
   },
   "outputs": [],
   "source": [
    "import copy"
   ]
  },
  {
   "cell_type": "markdown",
   "id": "5a736274",
   "metadata": {},
   "source": [
    "### Deep Copy of TreeValue"
   ]
  },
  {
   "cell_type": "code",
   "execution_count": 17,
   "id": "f9bcadd6",
   "metadata": {
    "execution": {
     "iopub.execute_input": "2023-08-10T14:36:00.436744Z",
     "iopub.status.busy": "2023-08-10T14:36:00.436363Z",
     "iopub.status.idle": "2023-08-10T14:36:12.295951Z",
     "shell.execute_reply": "2023-08-10T14:36:12.295306Z"
    }
   },
   "outputs": [
    {
     "name": "stdout",
     "output_type": "stream",
     "text": [
      "146 µs ± 752 ns per loop (mean ± std. dev. of 7 runs, 10,000 loops each)\n"
     ]
    }
   ],
   "source": [
    "t3 = FastTreeValue(_TREE_DATA_3)\n",
    "%timeit copy.deepcopy(t3)"
   ]
  },
  {
   "cell_type": "markdown",
   "id": "bf8be7ea",
   "metadata": {},
   "source": [
    "### Deep Copy of Tianshou Batch"
   ]
  },
  {
   "cell_type": "code",
   "execution_count": 18,
   "id": "91998e6f",
   "metadata": {
    "execution": {
     "iopub.execute_input": "2023-08-10T14:36:12.299247Z",
     "iopub.status.busy": "2023-08-10T14:36:12.298815Z",
     "iopub.status.idle": "2023-08-10T14:36:24.256303Z",
     "shell.execute_reply": "2023-08-10T14:36:24.255609Z"
    }
   },
   "outputs": [
    {
     "name": "stdout",
     "output_type": "stream",
     "text": [
      "147 µs ± 860 ns per loop (mean ± std. dev. of 7 runs, 10,000 loops each)\n"
     ]
    }
   ],
   "source": [
    "b3 = Batch(**_TREE_DATA_3)\n",
    "%timeit copy.deepcopy(b3)"
   ]
  },
  {
   "cell_type": "markdown",
   "id": "223162fb",
   "metadata": {},
   "source": [
    "## Stack, Concat and Split Operation"
   ]
  },
  {
   "cell_type": "markdown",
   "id": "85fa4a73",
   "metadata": {},
   "source": [
    "### Performance of TreeValue"
   ]
  },
  {
   "cell_type": "code",
   "execution_count": 19,
   "id": "a0c2b697",
   "metadata": {
    "execution": {
     "iopub.execute_input": "2023-08-10T14:36:24.259851Z",
     "iopub.status.busy": "2023-08-10T14:36:24.259413Z",
     "iopub.status.idle": "2023-08-10T14:36:24.263243Z",
     "shell.execute_reply": "2023-08-10T14:36:24.262493Z"
    }
   },
   "outputs": [],
   "source": [
    "trees = [FastTreeValue(_TREE_DATA_2) for _ in range(8)]"
   ]
  },
  {
   "cell_type": "code",
   "execution_count": 20,
   "id": "017ea5a5",
   "metadata": {
    "execution": {
     "iopub.execute_input": "2023-08-10T14:36:24.266726Z",
     "iopub.status.busy": "2023-08-10T14:36:24.266160Z",
     "iopub.status.idle": "2023-08-10T14:36:24.273979Z",
     "shell.execute_reply": "2023-08-10T14:36:24.273229Z"
    }
   },
   "outputs": [
    {
     "data": {
      "text/plain": [
       "<FastTreeValue 0x7f5655012dc0>\n",
       "├── 'a' --> tensor([[[ 0.2550, -0.7420,  0.4048],\n",
       "│                    [-0.5538,  0.2563, -0.6116]],\n",
       "│           \n",
       "│                   [[ 0.2550, -0.7420,  0.4048],\n",
       "│                    [-0.5538,  0.2563, -0.6116]],\n",
       "│           \n",
       "│                   [[ 0.2550, -0.7420,  0.4048],\n",
       "│                    [-0.5538,  0.2563, -0.6116]],\n",
       "│           \n",
       "│                   [[ 0.2550, -0.7420,  0.4048],\n",
       "│                    [-0.5538,  0.2563, -0.6116]],\n",
       "│           \n",
       "│                   [[ 0.2550, -0.7420,  0.4048],\n",
       "│                    [-0.5538,  0.2563, -0.6116]],\n",
       "│           \n",
       "│                   [[ 0.2550, -0.7420,  0.4048],\n",
       "│                    [-0.5538,  0.2563, -0.6116]],\n",
       "│           \n",
       "│                   [[ 0.2550, -0.7420,  0.4048],\n",
       "│                    [-0.5538,  0.2563, -0.6116]],\n",
       "│           \n",
       "│                   [[ 0.2550, -0.7420,  0.4048],\n",
       "│                    [-0.5538,  0.2563, -0.6116]]])\n",
       "└── 'x' --> <FastTreeValue 0x7f5655012b80>\n",
       "    └── 'c' --> tensor([[[ 1.1634,  0.9361, -0.2149,  1.2942],\n",
       "                         [ 0.1373, -1.0982, -1.3636,  1.1513],\n",
       "                         [ 0.0222,  0.3735,  0.1997,  1.9237]],\n",
       "                \n",
       "                        [[ 1.1634,  0.9361, -0.2149,  1.2942],\n",
       "                         [ 0.1373, -1.0982, -1.3636,  1.1513],\n",
       "                         [ 0.0222,  0.3735,  0.1997,  1.9237]],\n",
       "                \n",
       "                        [[ 1.1634,  0.9361, -0.2149,  1.2942],\n",
       "                         [ 0.1373, -1.0982, -1.3636,  1.1513],\n",
       "                         [ 0.0222,  0.3735,  0.1997,  1.9237]],\n",
       "                \n",
       "                        [[ 1.1634,  0.9361, -0.2149,  1.2942],\n",
       "                         [ 0.1373, -1.0982, -1.3636,  1.1513],\n",
       "                         [ 0.0222,  0.3735,  0.1997,  1.9237]],\n",
       "                \n",
       "                        [[ 1.1634,  0.9361, -0.2149,  1.2942],\n",
       "                         [ 0.1373, -1.0982, -1.3636,  1.1513],\n",
       "                         [ 0.0222,  0.3735,  0.1997,  1.9237]],\n",
       "                \n",
       "                        [[ 1.1634,  0.9361, -0.2149,  1.2942],\n",
       "                         [ 0.1373, -1.0982, -1.3636,  1.1513],\n",
       "                         [ 0.0222,  0.3735,  0.1997,  1.9237]],\n",
       "                \n",
       "                        [[ 1.1634,  0.9361, -0.2149,  1.2942],\n",
       "                         [ 0.1373, -1.0982, -1.3636,  1.1513],\n",
       "                         [ 0.0222,  0.3735,  0.1997,  1.9237]],\n",
       "                \n",
       "                        [[ 1.1634,  0.9361, -0.2149,  1.2942],\n",
       "                         [ 0.1373, -1.0982, -1.3636,  1.1513],\n",
       "                         [ 0.0222,  0.3735,  0.1997,  1.9237]]])"
      ]
     },
     "execution_count": 20,
     "metadata": {},
     "output_type": "execute_result"
    }
   ],
   "source": [
    "t_stack = FastTreeValue.func(subside=True)(torch.stack)\n",
    "\n",
    "t_stack(trees)"
   ]
  },
  {
   "cell_type": "code",
   "execution_count": 21,
   "id": "f8b3f415",
   "metadata": {
    "execution": {
     "iopub.execute_input": "2023-08-10T14:36:24.277075Z",
     "iopub.status.busy": "2023-08-10T14:36:24.276626Z",
     "iopub.status.idle": "2023-08-10T14:36:27.008909Z",
     "shell.execute_reply": "2023-08-10T14:36:27.008159Z"
    }
   },
   "outputs": [
    {
     "name": "stdout",
     "output_type": "stream",
     "text": [
      "33.6 µs ± 66.2 ns per loop (mean ± std. dev. of 7 runs, 10,000 loops each)\n"
     ]
    }
   ],
   "source": [
    "%timeit t_stack(trees)"
   ]
  },
  {
   "cell_type": "code",
   "execution_count": 22,
   "id": "94b56771",
   "metadata": {
    "execution": {
     "iopub.execute_input": "2023-08-10T14:36:27.012517Z",
     "iopub.status.busy": "2023-08-10T14:36:27.011982Z",
     "iopub.status.idle": "2023-08-10T14:36:27.020109Z",
     "shell.execute_reply": "2023-08-10T14:36:27.019359Z"
    }
   },
   "outputs": [
    {
     "data": {
      "text/plain": [
       "<FastTreeValue 0x7f557a89ec10>\n",
       "├── 'a' --> tensor([[ 0.2550, -0.7420,  0.4048],\n",
       "│                   [-0.5538,  0.2563, -0.6116],\n",
       "│                   [ 0.2550, -0.7420,  0.4048],\n",
       "│                   [-0.5538,  0.2563, -0.6116],\n",
       "│                   [ 0.2550, -0.7420,  0.4048],\n",
       "│                   [-0.5538,  0.2563, -0.6116],\n",
       "│                   [ 0.2550, -0.7420,  0.4048],\n",
       "│                   [-0.5538,  0.2563, -0.6116],\n",
       "│                   [ 0.2550, -0.7420,  0.4048],\n",
       "│                   [-0.5538,  0.2563, -0.6116],\n",
       "│                   [ 0.2550, -0.7420,  0.4048],\n",
       "│                   [-0.5538,  0.2563, -0.6116],\n",
       "│                   [ 0.2550, -0.7420,  0.4048],\n",
       "│                   [-0.5538,  0.2563, -0.6116],\n",
       "│                   [ 0.2550, -0.7420,  0.4048],\n",
       "│                   [-0.5538,  0.2563, -0.6116]])\n",
       "└── 'x' --> <FastTreeValue 0x7f557a89e970>\n",
       "    └── 'c' --> tensor([[ 1.1634,  0.9361, -0.2149,  1.2942],\n",
       "                        [ 0.1373, -1.0982, -1.3636,  1.1513],\n",
       "                        [ 0.0222,  0.3735,  0.1997,  1.9237],\n",
       "                        [ 1.1634,  0.9361, -0.2149,  1.2942],\n",
       "                        [ 0.1373, -1.0982, -1.3636,  1.1513],\n",
       "                        [ 0.0222,  0.3735,  0.1997,  1.9237],\n",
       "                        [ 1.1634,  0.9361, -0.2149,  1.2942],\n",
       "                        [ 0.1373, -1.0982, -1.3636,  1.1513],\n",
       "                        [ 0.0222,  0.3735,  0.1997,  1.9237],\n",
       "                        [ 1.1634,  0.9361, -0.2149,  1.2942],\n",
       "                        [ 0.1373, -1.0982, -1.3636,  1.1513],\n",
       "                        [ 0.0222,  0.3735,  0.1997,  1.9237],\n",
       "                        [ 1.1634,  0.9361, -0.2149,  1.2942],\n",
       "                        [ 0.1373, -1.0982, -1.3636,  1.1513],\n",
       "                        [ 0.0222,  0.3735,  0.1997,  1.9237],\n",
       "                        [ 1.1634,  0.9361, -0.2149,  1.2942],\n",
       "                        [ 0.1373, -1.0982, -1.3636,  1.1513],\n",
       "                        [ 0.0222,  0.3735,  0.1997,  1.9237],\n",
       "                        [ 1.1634,  0.9361, -0.2149,  1.2942],\n",
       "                        [ 0.1373, -1.0982, -1.3636,  1.1513],\n",
       "                        [ 0.0222,  0.3735,  0.1997,  1.9237],\n",
       "                        [ 1.1634,  0.9361, -0.2149,  1.2942],\n",
       "                        [ 0.1373, -1.0982, -1.3636,  1.1513],\n",
       "                        [ 0.0222,  0.3735,  0.1997,  1.9237]])"
      ]
     },
     "execution_count": 22,
     "metadata": {},
     "output_type": "execute_result"
    }
   ],
   "source": [
    "t_cat = FastTreeValue.func(subside=True)(torch.cat)\n",
    "\n",
    "t_cat(trees)"
   ]
  },
  {
   "cell_type": "code",
   "execution_count": 23,
   "id": "5e9c06a6",
   "metadata": {
    "execution": {
     "iopub.execute_input": "2023-08-10T14:36:27.027977Z",
     "iopub.status.busy": "2023-08-10T14:36:27.027573Z",
     "iopub.status.idle": "2023-08-10T14:36:29.572916Z",
     "shell.execute_reply": "2023-08-10T14:36:29.572168Z"
    }
   },
   "outputs": [
    {
     "name": "stdout",
     "output_type": "stream",
     "text": [
      "31.3 µs ± 45.5 ns per loop (mean ± std. dev. of 7 runs, 10,000 loops each)\n"
     ]
    }
   ],
   "source": [
    "%timeit t_cat(trees)"
   ]
  },
  {
   "cell_type": "code",
   "execution_count": 24,
   "id": "a3ab5c8f",
   "metadata": {
    "execution": {
     "iopub.execute_input": "2023-08-10T14:36:29.576488Z",
     "iopub.status.busy": "2023-08-10T14:36:29.575959Z",
     "iopub.status.idle": "2023-08-10T14:36:35.097098Z",
     "shell.execute_reply": "2023-08-10T14:36:35.096325Z"
    }
   },
   "outputs": [
    {
     "name": "stdout",
     "output_type": "stream",
     "text": [
      "67.9 µs ± 82.4 ns per loop (mean ± std. dev. of 7 runs, 10,000 loops each)\n"
     ]
    }
   ],
   "source": [
    "t_split = FastTreeValue.func(rise=True)(torch.split)\n",
    "tree = FastTreeValue({\n",
    "    'obs': torch.randn(8, 4, 84, 84),\n",
    "    'action': torch.randint(0, 6, size=(8, 1,)),\n",
    "    'reward': torch.rand(8, 1),\n",
    "})\n",
    "\n",
    "%timeit t_split(tree, 1)"
   ]
  },
  {
   "cell_type": "markdown",
   "id": "31c3ec0b",
   "metadata": {},
   "source": [
    "### Performance of Tianshou Batch"
   ]
  },
  {
   "cell_type": "code",
   "execution_count": 25,
   "id": "9ead828a",
   "metadata": {
    "execution": {
     "iopub.execute_input": "2023-08-10T14:36:35.100878Z",
     "iopub.status.busy": "2023-08-10T14:36:35.100342Z",
     "iopub.status.idle": "2023-08-10T14:36:35.109168Z",
     "shell.execute_reply": "2023-08-10T14:36:35.108364Z"
    }
   },
   "outputs": [
    {
     "data": {
      "text/plain": [
       "Batch(\n",
       "    x: Batch(\n",
       "           c: tensor([[[ 1.1634,  0.9361, -0.2149,  1.2942],\n",
       "                       [ 0.1373, -1.0982, -1.3636,  1.1513],\n",
       "                       [ 0.0222,  0.3735,  0.1997,  1.9237]],\n",
       "              \n",
       "                      [[ 1.1634,  0.9361, -0.2149,  1.2942],\n",
       "                       [ 0.1373, -1.0982, -1.3636,  1.1513],\n",
       "                       [ 0.0222,  0.3735,  0.1997,  1.9237]],\n",
       "              \n",
       "                      [[ 1.1634,  0.9361, -0.2149,  1.2942],\n",
       "                       [ 0.1373, -1.0982, -1.3636,  1.1513],\n",
       "                       [ 0.0222,  0.3735,  0.1997,  1.9237]],\n",
       "              \n",
       "                      [[ 1.1634,  0.9361, -0.2149,  1.2942],\n",
       "                       [ 0.1373, -1.0982, -1.3636,  1.1513],\n",
       "                       [ 0.0222,  0.3735,  0.1997,  1.9237]],\n",
       "              \n",
       "                      [[ 1.1634,  0.9361, -0.2149,  1.2942],\n",
       "                       [ 0.1373, -1.0982, -1.3636,  1.1513],\n",
       "                       [ 0.0222,  0.3735,  0.1997,  1.9237]],\n",
       "              \n",
       "                      [[ 1.1634,  0.9361, -0.2149,  1.2942],\n",
       "                       [ 0.1373, -1.0982, -1.3636,  1.1513],\n",
       "                       [ 0.0222,  0.3735,  0.1997,  1.9237]],\n",
       "              \n",
       "                      [[ 1.1634,  0.9361, -0.2149,  1.2942],\n",
       "                       [ 0.1373, -1.0982, -1.3636,  1.1513],\n",
       "                       [ 0.0222,  0.3735,  0.1997,  1.9237]],\n",
       "              \n",
       "                      [[ 1.1634,  0.9361, -0.2149,  1.2942],\n",
       "                       [ 0.1373, -1.0982, -1.3636,  1.1513],\n",
       "                       [ 0.0222,  0.3735,  0.1997,  1.9237]]]),\n",
       "       ),\n",
       "    a: tensor([[[ 0.2550, -0.7420,  0.4048],\n",
       "                [-0.5538,  0.2563, -0.6116]],\n",
       "       \n",
       "               [[ 0.2550, -0.7420,  0.4048],\n",
       "                [-0.5538,  0.2563, -0.6116]],\n",
       "       \n",
       "               [[ 0.2550, -0.7420,  0.4048],\n",
       "                [-0.5538,  0.2563, -0.6116]],\n",
       "       \n",
       "               [[ 0.2550, -0.7420,  0.4048],\n",
       "                [-0.5538,  0.2563, -0.6116]],\n",
       "       \n",
       "               [[ 0.2550, -0.7420,  0.4048],\n",
       "                [-0.5538,  0.2563, -0.6116]],\n",
       "       \n",
       "               [[ 0.2550, -0.7420,  0.4048],\n",
       "                [-0.5538,  0.2563, -0.6116]],\n",
       "       \n",
       "               [[ 0.2550, -0.7420,  0.4048],\n",
       "                [-0.5538,  0.2563, -0.6116]],\n",
       "       \n",
       "               [[ 0.2550, -0.7420,  0.4048],\n",
       "                [-0.5538,  0.2563, -0.6116]]]),\n",
       ")"
      ]
     },
     "execution_count": 25,
     "metadata": {},
     "output_type": "execute_result"
    }
   ],
   "source": [
    "batches = [Batch(**_TREE_DATA_2) for _ in range(8)]\n",
    "\n",
    "Batch.stack(batches)"
   ]
  },
  {
   "cell_type": "code",
   "execution_count": 26,
   "id": "ec9037a3",
   "metadata": {
    "execution": {
     "iopub.execute_input": "2023-08-10T14:36:35.120497Z",
     "iopub.status.busy": "2023-08-10T14:36:35.120085Z",
     "iopub.status.idle": "2023-08-10T14:36:41.916789Z",
     "shell.execute_reply": "2023-08-10T14:36:41.916036Z"
    }
   },
   "outputs": [
    {
     "name": "stdout",
     "output_type": "stream",
     "text": [
      "83.6 µs ± 117 ns per loop (mean ± std. dev. of 7 runs, 10,000 loops each)\n"
     ]
    }
   ],
   "source": [
    "%timeit Batch.stack(batches)"
   ]
  },
  {
   "cell_type": "code",
   "execution_count": 27,
   "id": "cb8ab77e",
   "metadata": {
    "execution": {
     "iopub.execute_input": "2023-08-10T14:36:41.920272Z",
     "iopub.status.busy": "2023-08-10T14:36:41.919769Z",
     "iopub.status.idle": "2023-08-10T14:36:41.927156Z",
     "shell.execute_reply": "2023-08-10T14:36:41.926444Z"
    }
   },
   "outputs": [
    {
     "data": {
      "text/plain": [
       "Batch(\n",
       "    x: Batch(\n",
       "           c: tensor([[ 1.1634,  0.9361, -0.2149,  1.2942],\n",
       "                      [ 0.1373, -1.0982, -1.3636,  1.1513],\n",
       "                      [ 0.0222,  0.3735,  0.1997,  1.9237],\n",
       "                      [ 1.1634,  0.9361, -0.2149,  1.2942],\n",
       "                      [ 0.1373, -1.0982, -1.3636,  1.1513],\n",
       "                      [ 0.0222,  0.3735,  0.1997,  1.9237],\n",
       "                      [ 1.1634,  0.9361, -0.2149,  1.2942],\n",
       "                      [ 0.1373, -1.0982, -1.3636,  1.1513],\n",
       "                      [ 0.0222,  0.3735,  0.1997,  1.9237],\n",
       "                      [ 1.1634,  0.9361, -0.2149,  1.2942],\n",
       "                      [ 0.1373, -1.0982, -1.3636,  1.1513],\n",
       "                      [ 0.0222,  0.3735,  0.1997,  1.9237],\n",
       "                      [ 1.1634,  0.9361, -0.2149,  1.2942],\n",
       "                      [ 0.1373, -1.0982, -1.3636,  1.1513],\n",
       "                      [ 0.0222,  0.3735,  0.1997,  1.9237],\n",
       "                      [ 1.1634,  0.9361, -0.2149,  1.2942],\n",
       "                      [ 0.1373, -1.0982, -1.3636,  1.1513],\n",
       "                      [ 0.0222,  0.3735,  0.1997,  1.9237],\n",
       "                      [ 1.1634,  0.9361, -0.2149,  1.2942],\n",
       "                      [ 0.1373, -1.0982, -1.3636,  1.1513],\n",
       "                      [ 0.0222,  0.3735,  0.1997,  1.9237],\n",
       "                      [ 1.1634,  0.9361, -0.2149,  1.2942],\n",
       "                      [ 0.1373, -1.0982, -1.3636,  1.1513],\n",
       "                      [ 0.0222,  0.3735,  0.1997,  1.9237]]),\n",
       "       ),\n",
       "    a: tensor([[ 0.2550, -0.7420,  0.4048],\n",
       "               [-0.5538,  0.2563, -0.6116],\n",
       "               [ 0.2550, -0.7420,  0.4048],\n",
       "               [-0.5538,  0.2563, -0.6116],\n",
       "               [ 0.2550, -0.7420,  0.4048],\n",
       "               [-0.5538,  0.2563, -0.6116],\n",
       "               [ 0.2550, -0.7420,  0.4048],\n",
       "               [-0.5538,  0.2563, -0.6116],\n",
       "               [ 0.2550, -0.7420,  0.4048],\n",
       "               [-0.5538,  0.2563, -0.6116],\n",
       "               [ 0.2550, -0.7420,  0.4048],\n",
       "               [-0.5538,  0.2563, -0.6116],\n",
       "               [ 0.2550, -0.7420,  0.4048],\n",
       "               [-0.5538,  0.2563, -0.6116],\n",
       "               [ 0.2550, -0.7420,  0.4048],\n",
       "               [-0.5538,  0.2563, -0.6116]]),\n",
       ")"
      ]
     },
     "execution_count": 27,
     "metadata": {},
     "output_type": "execute_result"
    }
   ],
   "source": [
    "Batch.cat(batches)"
   ]
  },
  {
   "cell_type": "code",
   "execution_count": 28,
   "id": "18dfb045",
   "metadata": {
    "execution": {
     "iopub.execute_input": "2023-08-10T14:36:41.930479Z",
     "iopub.status.busy": "2023-08-10T14:36:41.930024Z",
     "iopub.status.idle": "2023-08-10T14:36:54.424652Z",
     "shell.execute_reply": "2023-08-10T14:36:54.423901Z"
    }
   },
   "outputs": [
    {
     "name": "stdout",
     "output_type": "stream",
     "text": [
      "154 µs ± 675 ns per loop (mean ± std. dev. of 7 runs, 10,000 loops each)\n"
     ]
    }
   ],
   "source": [
    "%timeit Batch.cat(batches)"
   ]
  },
  {
   "cell_type": "code",
   "execution_count": 29,
   "id": "c6688e51",
   "metadata": {
    "execution": {
     "iopub.execute_input": "2023-08-10T14:36:54.428305Z",
     "iopub.status.busy": "2023-08-10T14:36:54.427635Z",
     "iopub.status.idle": "2023-08-10T14:36:57.311048Z",
     "shell.execute_reply": "2023-08-10T14:36:57.310190Z"
    }
   },
   "outputs": [
    {
     "name": "stdout",
     "output_type": "stream",
     "text": [
      "355 µs ± 5.37 µs per loop (mean ± std. dev. of 7 runs, 1,000 loops each)\n"
     ]
    }
   ],
   "source": [
    "batch = Batch({\n",
    "    'obs': torch.randn(8, 4, 84, 84),\n",
    "    'action': torch.randint(0, 6, size=(8, 1,)),\n",
    "    'reward': torch.rand(8, 1)}\n",
    ")\n",
    "\n",
    "%timeit list(Batch.split(batch, 1, shuffle=False, merge_last=True))"
   ]
  },
  {
   "cell_type": "code",
   "execution_count": null,
   "id": "2539fbd9",
   "metadata": {},
   "outputs": [],
   "source": []
  }
 ],
 "metadata": {
  "kernelspec": {
   "display_name": "Python 3 (ipykernel)",
   "language": "python",
   "name": "python3"
  },
  "language_info": {
   "codemirror_mode": {
    "name": "ipython",
    "version": 3
   },
   "file_extension": ".py",
   "mimetype": "text/x-python",
   "name": "python",
   "nbconvert_exporter": "python",
   "pygments_lexer": "ipython3",
   "version": "3.8.17"
  }
 },
 "nbformat": 4,
 "nbformat_minor": 5
}
