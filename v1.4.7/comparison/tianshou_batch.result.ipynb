{
 "cells": [
  {
   "cell_type": "markdown",
   "id": "9d39d946",
   "metadata": {},
   "source": [
    "# Comparison Between TreeValue and Tianshou Batch"
   ]
  },
  {
   "cell_type": "markdown",
   "id": "3c6db2d4",
   "metadata": {},
   "source": [
    "In this section, we will take a look at the feature and performance of the [Tianshou Batch](https://github.com/thu-ml/tianshou) library, which is developed by Tsinghua Machine Learning Group."
   ]
  },
  {
   "cell_type": "markdown",
   "id": "069361b0",
   "metadata": {},
   "source": [
    "Before starting the comparison, let us define some thing."
   ]
  },
  {
   "cell_type": "code",
   "execution_count": 1,
   "id": "06fc8d26",
   "metadata": {
    "execution": {
     "iopub.execute_input": "2023-10-20T06:08:57.342260Z",
     "iopub.status.busy": "2023-10-20T06:08:57.341727Z",
     "iopub.status.idle": "2023-10-20T06:08:59.183452Z",
     "shell.execute_reply": "2023-10-20T06:08:59.182427Z"
    }
   },
   "outputs": [],
   "source": [
    "import torch \n",
    "\n",
    "_TREE_DATA_1 = {'a': 1, 'b': 2, 'x': {'c': 3, 'd': 4}}\n",
    "_TREE_DATA_2 = {\n",
    "    'a': torch.randn(2, 3), \n",
    "    'x': {\n",
    "        'c': torch.randn(3, 4)\n",
    "    },\n",
    "}\n",
    "_TREE_DATA_3 = {\n",
    "    'obs': torch.randn(4, 84, 84),\n",
    "    'action': torch.randint(0, 6, size=(1,)),\n",
    "    'reward': torch.rand(1),\n",
    "}"
   ]
  },
  {
   "cell_type": "markdown",
   "id": "83461b25",
   "metadata": {},
   "source": [
    "## Read and Write Operation"
   ]
  },
  {
   "cell_type": "markdown",
   "id": "067b3f73",
   "metadata": {},
   "source": [
    "Reading and writing are the two most common operations in the tree data structure based on the data model (TreeValue and Tianshou Batch both belong to this type), so this section will compare the reading and writing performance of these two libraries."
   ]
  },
  {
   "cell_type": "markdown",
   "id": "5d09a5b7",
   "metadata": {},
   "source": [
    "### TreeValue's Get and Set"
   ]
  },
  {
   "cell_type": "code",
   "execution_count": 2,
   "id": "9519c4bb",
   "metadata": {
    "execution": {
     "iopub.execute_input": "2023-10-20T06:08:59.188268Z",
     "iopub.status.busy": "2023-10-20T06:08:59.187900Z",
     "iopub.status.idle": "2023-10-20T06:08:59.579991Z",
     "shell.execute_reply": "2023-10-20T06:08:59.578683Z"
    }
   },
   "outputs": [],
   "source": [
    "from treevalue import FastTreeValue\n",
    "\n",
    "t = FastTreeValue(_TREE_DATA_2)"
   ]
  },
  {
   "cell_type": "code",
   "execution_count": 3,
   "id": "11c37677",
   "metadata": {
    "execution": {
     "iopub.execute_input": "2023-10-20T06:08:59.585126Z",
     "iopub.status.busy": "2023-10-20T06:08:59.584368Z",
     "iopub.status.idle": "2023-10-20T06:08:59.597011Z",
     "shell.execute_reply": "2023-10-20T06:08:59.596246Z"
    }
   },
   "outputs": [
    {
     "data": {
      "text/plain": [
       "<FastTreeValue 0x7fa394b1ca60>\n",
       "├── 'a' --> tensor([[-0.2846,  0.5964, -1.3886],\n",
       "│                   [-1.2387, -0.3852,  0.3116]])\n",
       "└── 'x' --> <FastTreeValue 0x7fa394b1cb20>\n",
       "    └── 'c' --> tensor([[-2.3509,  0.3106, -0.5697, -0.8740],\n",
       "                        [ 0.4058, -0.3023, -0.5851, -0.6074],\n",
       "                        [-0.6653, -0.5996, -1.4165,  1.1686]])"
      ]
     },
     "execution_count": 3,
     "metadata": {},
     "output_type": "execute_result"
    }
   ],
   "source": [
    "t"
   ]
  },
  {
   "cell_type": "code",
   "execution_count": 4,
   "id": "fd70b0b9",
   "metadata": {
    "execution": {
     "iopub.execute_input": "2023-10-20T06:08:59.600587Z",
     "iopub.status.busy": "2023-10-20T06:08:59.600060Z",
     "iopub.status.idle": "2023-10-20T06:08:59.608777Z",
     "shell.execute_reply": "2023-10-20T06:08:59.608010Z"
    }
   },
   "outputs": [
    {
     "data": {
      "text/plain": [
       "tensor([[-0.2846,  0.5964, -1.3886],\n",
       "        [-1.2387, -0.3852,  0.3116]])"
      ]
     },
     "execution_count": 4,
     "metadata": {},
     "output_type": "execute_result"
    }
   ],
   "source": [
    "t.a"
   ]
  },
  {
   "cell_type": "code",
   "execution_count": 5,
   "id": "c18197bd",
   "metadata": {
    "execution": {
     "iopub.execute_input": "2023-10-20T06:08:59.612257Z",
     "iopub.status.busy": "2023-10-20T06:08:59.611734Z",
     "iopub.status.idle": "2023-10-20T06:09:06.762841Z",
     "shell.execute_reply": "2023-10-20T06:09:06.761813Z"
    }
   },
   "outputs": [
    {
     "name": "stdout",
     "output_type": "stream",
     "text": [
      "88.1 ns ± 0.101 ns per loop (mean ± std. dev. of 7 runs, 10,000,000 loops each)\n"
     ]
    }
   ],
   "source": [
    "%timeit t.a"
   ]
  },
  {
   "cell_type": "code",
   "execution_count": 6,
   "id": "bd52f867",
   "metadata": {
    "execution": {
     "iopub.execute_input": "2023-10-20T06:09:06.768715Z",
     "iopub.status.busy": "2023-10-20T06:09:06.766961Z",
     "iopub.status.idle": "2023-10-20T06:09:06.778089Z",
     "shell.execute_reply": "2023-10-20T06:09:06.777257Z"
    }
   },
   "outputs": [
    {
     "data": {
      "text/plain": [
       "<FastTreeValue 0x7fa394b1ca60>\n",
       "├── 'a' --> tensor([[-1.3987,  0.2590, -2.8321],\n",
       "│                   [ 0.8653,  1.9972, -0.2559]])\n",
       "└── 'x' --> <FastTreeValue 0x7fa394b1cb20>\n",
       "    └── 'c' --> tensor([[-2.3509,  0.3106, -0.5697, -0.8740],\n",
       "                        [ 0.4058, -0.3023, -0.5851, -0.6074],\n",
       "                        [-0.6653, -0.5996, -1.4165,  1.1686]])"
      ]
     },
     "execution_count": 6,
     "metadata": {},
     "output_type": "execute_result"
    }
   ],
   "source": [
    "new_value = torch.randn(2, 3)\n",
    "t.a = new_value\n",
    "\n",
    "t"
   ]
  },
  {
   "cell_type": "code",
   "execution_count": 7,
   "id": "bbe04d1c",
   "metadata": {
    "execution": {
     "iopub.execute_input": "2023-10-20T06:09:06.782427Z",
     "iopub.status.busy": "2023-10-20T06:09:06.781635Z",
     "iopub.status.idle": "2023-10-20T06:09:14.061235Z",
     "shell.execute_reply": "2023-10-20T06:09:14.059894Z"
    }
   },
   "outputs": [
    {
     "name": "stdout",
     "output_type": "stream",
     "text": [
      "89.7 ns ± 0.051 ns per loop (mean ± std. dev. of 7 runs, 10,000,000 loops each)\n"
     ]
    }
   ],
   "source": [
    "%timeit t.a = new_value"
   ]
  },
  {
   "cell_type": "markdown",
   "id": "48c49731",
   "metadata": {},
   "source": [
    "### Tianshou Batch's Get and Set"
   ]
  },
  {
   "cell_type": "code",
   "execution_count": 8,
   "id": "f1bb14c1",
   "metadata": {
    "execution": {
     "iopub.execute_input": "2023-10-20T06:09:14.065672Z",
     "iopub.status.busy": "2023-10-20T06:09:14.065090Z",
     "iopub.status.idle": "2023-10-20T06:09:14.541917Z",
     "shell.execute_reply": "2023-10-20T06:09:14.540827Z"
    }
   },
   "outputs": [],
   "source": [
    "from tianshou.data import Batch\n",
    "\n",
    "b = Batch(**_TREE_DATA_2)"
   ]
  },
  {
   "cell_type": "code",
   "execution_count": 9,
   "id": "cb0777c3",
   "metadata": {
    "execution": {
     "iopub.execute_input": "2023-10-20T06:09:14.546655Z",
     "iopub.status.busy": "2023-10-20T06:09:14.545849Z",
     "iopub.status.idle": "2023-10-20T06:09:14.552860Z",
     "shell.execute_reply": "2023-10-20T06:09:14.552034Z"
    }
   },
   "outputs": [
    {
     "data": {
      "text/plain": [
       "Batch(\n",
       "    a: tensor([[-0.2846,  0.5964, -1.3886],\n",
       "               [-1.2387, -0.3852,  0.3116]]),\n",
       "    x: Batch(\n",
       "           c: tensor([[-2.3509,  0.3106, -0.5697, -0.8740],\n",
       "                      [ 0.4058, -0.3023, -0.5851, -0.6074],\n",
       "                      [-0.6653, -0.5996, -1.4165,  1.1686]]),\n",
       "       ),\n",
       ")"
      ]
     },
     "execution_count": 9,
     "metadata": {},
     "output_type": "execute_result"
    }
   ],
   "source": [
    "b"
   ]
  },
  {
   "cell_type": "code",
   "execution_count": 10,
   "id": "43ef8ea3",
   "metadata": {
    "execution": {
     "iopub.execute_input": "2023-10-20T06:09:14.556806Z",
     "iopub.status.busy": "2023-10-20T06:09:14.556151Z",
     "iopub.status.idle": "2023-10-20T06:09:14.565032Z",
     "shell.execute_reply": "2023-10-20T06:09:14.564244Z"
    }
   },
   "outputs": [
    {
     "data": {
      "text/plain": [
       "tensor([[-0.2846,  0.5964, -1.3886],\n",
       "        [-1.2387, -0.3852,  0.3116]])"
      ]
     },
     "execution_count": 10,
     "metadata": {},
     "output_type": "execute_result"
    }
   ],
   "source": [
    "b.a"
   ]
  },
  {
   "cell_type": "code",
   "execution_count": 11,
   "id": "b785ab72",
   "metadata": {
    "execution": {
     "iopub.execute_input": "2023-10-20T06:09:14.568697Z",
     "iopub.status.busy": "2023-10-20T06:09:14.568053Z",
     "iopub.status.idle": "2023-10-20T06:09:21.326423Z",
     "shell.execute_reply": "2023-10-20T06:09:21.325510Z"
    }
   },
   "outputs": [
    {
     "name": "stdout",
     "output_type": "stream",
     "text": [
      "83.2 ns ± 0.122 ns per loop (mean ± std. dev. of 7 runs, 10,000,000 loops each)\n"
     ]
    }
   ],
   "source": [
    "%timeit b.a"
   ]
  },
  {
   "cell_type": "code",
   "execution_count": 12,
   "id": "ad54dc69",
   "metadata": {
    "execution": {
     "iopub.execute_input": "2023-10-20T06:09:21.330908Z",
     "iopub.status.busy": "2023-10-20T06:09:21.330140Z",
     "iopub.status.idle": "2023-10-20T06:09:21.341134Z",
     "shell.execute_reply": "2023-10-20T06:09:21.340312Z"
    }
   },
   "outputs": [
    {
     "data": {
      "text/plain": [
       "Batch(\n",
       "    a: tensor([[ 2.3130,  3.2383, -0.6149],\n",
       "               [ 0.2540, -1.8843, -0.0151]]),\n",
       "    x: Batch(\n",
       "           c: tensor([[-2.3509,  0.3106, -0.5697, -0.8740],\n",
       "                      [ 0.4058, -0.3023, -0.5851, -0.6074],\n",
       "                      [-0.6653, -0.5996, -1.4165,  1.1686]]),\n",
       "       ),\n",
       ")"
      ]
     },
     "execution_count": 12,
     "metadata": {},
     "output_type": "execute_result"
    }
   ],
   "source": [
    "new_value = torch.randn(2, 3)\n",
    "b.a = new_value\n",
    "\n",
    "b"
   ]
  },
  {
   "cell_type": "code",
   "execution_count": 13,
   "id": "29b1d0bf",
   "metadata": {
    "execution": {
     "iopub.execute_input": "2023-10-20T06:09:21.345305Z",
     "iopub.status.busy": "2023-10-20T06:09:21.344706Z",
     "iopub.status.idle": "2023-10-20T06:09:26.727816Z",
     "shell.execute_reply": "2023-10-20T06:09:26.726510Z"
    }
   },
   "outputs": [
    {
     "name": "stdout",
     "output_type": "stream",
     "text": [
      "662 ns ± 0.208 ns per loop (mean ± std. dev. of 7 runs, 1,000,000 loops each)\n"
     ]
    }
   ],
   "source": [
    "%timeit b.a = new_value"
   ]
  },
  {
   "cell_type": "markdown",
   "id": "b61ad1d0",
   "metadata": {},
   "source": [
    "## Initialization"
   ]
  },
  {
   "cell_type": "markdown",
   "id": "d70f0d54",
   "metadata": {},
   "source": [
    "### TreeValue's Initialization"
   ]
  },
  {
   "cell_type": "code",
   "execution_count": 14,
   "id": "d32a679b",
   "metadata": {
    "execution": {
     "iopub.execute_input": "2023-10-20T06:09:26.732508Z",
     "iopub.status.busy": "2023-10-20T06:09:26.731813Z",
     "iopub.status.idle": "2023-10-20T06:09:35.357560Z",
     "shell.execute_reply": "2023-10-20T06:09:35.356333Z"
    }
   },
   "outputs": [
    {
     "name": "stdout",
     "output_type": "stream",
     "text": [
      "1.06 µs ± 0.51 ns per loop (mean ± std. dev. of 7 runs, 1,000,000 loops each)\n"
     ]
    }
   ],
   "source": [
    "%timeit FastTreeValue(_TREE_DATA_1)"
   ]
  },
  {
   "cell_type": "markdown",
   "id": "24f3707b",
   "metadata": {},
   "source": [
    "### Tianshou Batch's Initialization"
   ]
  },
  {
   "cell_type": "code",
   "execution_count": 15,
   "id": "ac3958df",
   "metadata": {
    "execution": {
     "iopub.execute_input": "2023-10-20T06:09:35.362013Z",
     "iopub.status.busy": "2023-10-20T06:09:35.361306Z",
     "iopub.status.idle": "2023-10-20T06:09:45.556012Z",
     "shell.execute_reply": "2023-10-20T06:09:45.554886Z"
    }
   },
   "outputs": [
    {
     "name": "stdout",
     "output_type": "stream",
     "text": [
      "12.6 µs ± 11.9 ns per loop (mean ± std. dev. of 7 runs, 100,000 loops each)\n"
     ]
    }
   ],
   "source": [
    "%timeit Batch(**_TREE_DATA_1)"
   ]
  },
  {
   "cell_type": "markdown",
   "id": "1ab82e2d",
   "metadata": {},
   "source": [
    "## Deep Copy Operation"
   ]
  },
  {
   "cell_type": "code",
   "execution_count": 16,
   "id": "210a9442",
   "metadata": {
    "execution": {
     "iopub.execute_input": "2023-10-20T06:09:45.561043Z",
     "iopub.status.busy": "2023-10-20T06:09:45.560286Z",
     "iopub.status.idle": "2023-10-20T06:09:45.565160Z",
     "shell.execute_reply": "2023-10-20T06:09:45.564064Z"
    }
   },
   "outputs": [],
   "source": [
    "import copy"
   ]
  },
  {
   "cell_type": "markdown",
   "id": "5a736274",
   "metadata": {},
   "source": [
    "### Deep Copy of TreeValue"
   ]
  },
  {
   "cell_type": "code",
   "execution_count": 17,
   "id": "f9bcadd6",
   "metadata": {
    "execution": {
     "iopub.execute_input": "2023-10-20T06:09:45.569659Z",
     "iopub.status.busy": "2023-10-20T06:09:45.569051Z",
     "iopub.status.idle": "2023-10-20T06:10:00.411825Z",
     "shell.execute_reply": "2023-10-20T06:10:00.410916Z"
    }
   },
   "outputs": [
    {
     "name": "stdout",
     "output_type": "stream",
     "text": [
      "184 µs ± 10.5 µs per loop (mean ± std. dev. of 7 runs, 10,000 loops each)\n"
     ]
    }
   ],
   "source": [
    "t3 = FastTreeValue(_TREE_DATA_3)\n",
    "%timeit copy.deepcopy(t3)"
   ]
  },
  {
   "cell_type": "markdown",
   "id": "bf8be7ea",
   "metadata": {},
   "source": [
    "### Deep Copy of Tianshou Batch"
   ]
  },
  {
   "cell_type": "code",
   "execution_count": 18,
   "id": "91998e6f",
   "metadata": {
    "execution": {
     "iopub.execute_input": "2023-10-20T06:10:00.415941Z",
     "iopub.status.busy": "2023-10-20T06:10:00.415373Z",
     "iopub.status.idle": "2023-10-20T06:10:14.798425Z",
     "shell.execute_reply": "2023-10-20T06:10:14.797445Z"
    }
   },
   "outputs": [
    {
     "name": "stdout",
     "output_type": "stream",
     "text": [
      "176 µs ± 1.6 µs per loop (mean ± std. dev. of 7 runs, 10,000 loops each)\n"
     ]
    }
   ],
   "source": [
    "b3 = Batch(**_TREE_DATA_3)\n",
    "%timeit copy.deepcopy(b3)"
   ]
  },
  {
   "cell_type": "markdown",
   "id": "223162fb",
   "metadata": {},
   "source": [
    "## Stack, Concat and Split Operation"
   ]
  },
  {
   "cell_type": "markdown",
   "id": "85fa4a73",
   "metadata": {},
   "source": [
    "### Performance of TreeValue"
   ]
  },
  {
   "cell_type": "code",
   "execution_count": 19,
   "id": "a0c2b697",
   "metadata": {
    "execution": {
     "iopub.execute_input": "2023-10-20T06:10:14.803188Z",
     "iopub.status.busy": "2023-10-20T06:10:14.802362Z",
     "iopub.status.idle": "2023-10-20T06:10:14.806800Z",
     "shell.execute_reply": "2023-10-20T06:10:14.806083Z"
    }
   },
   "outputs": [],
   "source": [
    "trees = [FastTreeValue(_TREE_DATA_2) for _ in range(8)]"
   ]
  },
  {
   "cell_type": "code",
   "execution_count": 20,
   "id": "017ea5a5",
   "metadata": {
    "execution": {
     "iopub.execute_input": "2023-10-20T06:10:14.810634Z",
     "iopub.status.busy": "2023-10-20T06:10:14.809964Z",
     "iopub.status.idle": "2023-10-20T06:10:14.819339Z",
     "shell.execute_reply": "2023-10-20T06:10:14.818674Z"
    }
   },
   "outputs": [
    {
     "data": {
      "text/plain": [
       "<FastTreeValue 0x7fa2bf1a7910>\n",
       "├── 'a' --> tensor([[[-0.2846,  0.5964, -1.3886],\n",
       "│                    [-1.2387, -0.3852,  0.3116]],\n",
       "│           \n",
       "│                   [[-0.2846,  0.5964, -1.3886],\n",
       "│                    [-1.2387, -0.3852,  0.3116]],\n",
       "│           \n",
       "│                   [[-0.2846,  0.5964, -1.3886],\n",
       "│                    [-1.2387, -0.3852,  0.3116]],\n",
       "│           \n",
       "│                   [[-0.2846,  0.5964, -1.3886],\n",
       "│                    [-1.2387, -0.3852,  0.3116]],\n",
       "│           \n",
       "│                   [[-0.2846,  0.5964, -1.3886],\n",
       "│                    [-1.2387, -0.3852,  0.3116]],\n",
       "│           \n",
       "│                   [[-0.2846,  0.5964, -1.3886],\n",
       "│                    [-1.2387, -0.3852,  0.3116]],\n",
       "│           \n",
       "│                   [[-0.2846,  0.5964, -1.3886],\n",
       "│                    [-1.2387, -0.3852,  0.3116]],\n",
       "│           \n",
       "│                   [[-0.2846,  0.5964, -1.3886],\n",
       "│                    [-1.2387, -0.3852,  0.3116]]])\n",
       "└── 'x' --> <FastTreeValue 0x7fa395b87dc0>\n",
       "    └── 'c' --> tensor([[[-2.3509,  0.3106, -0.5697, -0.8740],\n",
       "                         [ 0.4058, -0.3023, -0.5851, -0.6074],\n",
       "                         [-0.6653, -0.5996, -1.4165,  1.1686]],\n",
       "                \n",
       "                        [[-2.3509,  0.3106, -0.5697, -0.8740],\n",
       "                         [ 0.4058, -0.3023, -0.5851, -0.6074],\n",
       "                         [-0.6653, -0.5996, -1.4165,  1.1686]],\n",
       "                \n",
       "                        [[-2.3509,  0.3106, -0.5697, -0.8740],\n",
       "                         [ 0.4058, -0.3023, -0.5851, -0.6074],\n",
       "                         [-0.6653, -0.5996, -1.4165,  1.1686]],\n",
       "                \n",
       "                        [[-2.3509,  0.3106, -0.5697, -0.8740],\n",
       "                         [ 0.4058, -0.3023, -0.5851, -0.6074],\n",
       "                         [-0.6653, -0.5996, -1.4165,  1.1686]],\n",
       "                \n",
       "                        [[-2.3509,  0.3106, -0.5697, -0.8740],\n",
       "                         [ 0.4058, -0.3023, -0.5851, -0.6074],\n",
       "                         [-0.6653, -0.5996, -1.4165,  1.1686]],\n",
       "                \n",
       "                        [[-2.3509,  0.3106, -0.5697, -0.8740],\n",
       "                         [ 0.4058, -0.3023, -0.5851, -0.6074],\n",
       "                         [-0.6653, -0.5996, -1.4165,  1.1686]],\n",
       "                \n",
       "                        [[-2.3509,  0.3106, -0.5697, -0.8740],\n",
       "                         [ 0.4058, -0.3023, -0.5851, -0.6074],\n",
       "                         [-0.6653, -0.5996, -1.4165,  1.1686]],\n",
       "                \n",
       "                        [[-2.3509,  0.3106, -0.5697, -0.8740],\n",
       "                         [ 0.4058, -0.3023, -0.5851, -0.6074],\n",
       "                         [-0.6653, -0.5996, -1.4165,  1.1686]]])"
      ]
     },
     "execution_count": 20,
     "metadata": {},
     "output_type": "execute_result"
    }
   ],
   "source": [
    "t_stack = FastTreeValue.func(subside=True)(torch.stack)\n",
    "\n",
    "t_stack(trees)"
   ]
  },
  {
   "cell_type": "code",
   "execution_count": 21,
   "id": "f8b3f415",
   "metadata": {
    "execution": {
     "iopub.execute_input": "2023-10-20T06:10:14.822931Z",
     "iopub.status.busy": "2023-10-20T06:10:14.822240Z",
     "iopub.status.idle": "2023-10-20T06:10:18.049249Z",
     "shell.execute_reply": "2023-10-20T06:10:18.048213Z"
    }
   },
   "outputs": [
    {
     "name": "stdout",
     "output_type": "stream",
     "text": [
      "39.7 µs ± 143 ns per loop (mean ± std. dev. of 7 runs, 10,000 loops each)\n"
     ]
    }
   ],
   "source": [
    "%timeit t_stack(trees)"
   ]
  },
  {
   "cell_type": "code",
   "execution_count": 22,
   "id": "94b56771",
   "metadata": {
    "execution": {
     "iopub.execute_input": "2023-10-20T06:10:18.053381Z",
     "iopub.status.busy": "2023-10-20T06:10:18.053066Z",
     "iopub.status.idle": "2023-10-20T06:10:18.064911Z",
     "shell.execute_reply": "2023-10-20T06:10:18.064111Z"
    }
   },
   "outputs": [
    {
     "data": {
      "text/plain": [
       "<FastTreeValue 0x7fa2bf1842b0>\n",
       "├── 'a' --> tensor([[-0.2846,  0.5964, -1.3886],\n",
       "│                   [-1.2387, -0.3852,  0.3116],\n",
       "│                   [-0.2846,  0.5964, -1.3886],\n",
       "│                   [-1.2387, -0.3852,  0.3116],\n",
       "│                   [-0.2846,  0.5964, -1.3886],\n",
       "│                   [-1.2387, -0.3852,  0.3116],\n",
       "│                   [-0.2846,  0.5964, -1.3886],\n",
       "│                   [-1.2387, -0.3852,  0.3116],\n",
       "│                   [-0.2846,  0.5964, -1.3886],\n",
       "│                   [-1.2387, -0.3852,  0.3116],\n",
       "│                   [-0.2846,  0.5964, -1.3886],\n",
       "│                   [-1.2387, -0.3852,  0.3116],\n",
       "│                   [-0.2846,  0.5964, -1.3886],\n",
       "│                   [-1.2387, -0.3852,  0.3116],\n",
       "│                   [-0.2846,  0.5964, -1.3886],\n",
       "│                   [-1.2387, -0.3852,  0.3116]])\n",
       "└── 'x' --> <FastTreeValue 0x7fa394b17df0>\n",
       "    └── 'c' --> tensor([[-2.3509,  0.3106, -0.5697, -0.8740],\n",
       "                        [ 0.4058, -0.3023, -0.5851, -0.6074],\n",
       "                        [-0.6653, -0.5996, -1.4165,  1.1686],\n",
       "                        [-2.3509,  0.3106, -0.5697, -0.8740],\n",
       "                        [ 0.4058, -0.3023, -0.5851, -0.6074],\n",
       "                        [-0.6653, -0.5996, -1.4165,  1.1686],\n",
       "                        [-2.3509,  0.3106, -0.5697, -0.8740],\n",
       "                        [ 0.4058, -0.3023, -0.5851, -0.6074],\n",
       "                        [-0.6653, -0.5996, -1.4165,  1.1686],\n",
       "                        [-2.3509,  0.3106, -0.5697, -0.8740],\n",
       "                        [ 0.4058, -0.3023, -0.5851, -0.6074],\n",
       "                        [-0.6653, -0.5996, -1.4165,  1.1686],\n",
       "                        [-2.3509,  0.3106, -0.5697, -0.8740],\n",
       "                        [ 0.4058, -0.3023, -0.5851, -0.6074],\n",
       "                        [-0.6653, -0.5996, -1.4165,  1.1686],\n",
       "                        [-2.3509,  0.3106, -0.5697, -0.8740],\n",
       "                        [ 0.4058, -0.3023, -0.5851, -0.6074],\n",
       "                        [-0.6653, -0.5996, -1.4165,  1.1686],\n",
       "                        [-2.3509,  0.3106, -0.5697, -0.8740],\n",
       "                        [ 0.4058, -0.3023, -0.5851, -0.6074],\n",
       "                        [-0.6653, -0.5996, -1.4165,  1.1686],\n",
       "                        [-2.3509,  0.3106, -0.5697, -0.8740],\n",
       "                        [ 0.4058, -0.3023, -0.5851, -0.6074],\n",
       "                        [-0.6653, -0.5996, -1.4165,  1.1686]])"
      ]
     },
     "execution_count": 22,
     "metadata": {},
     "output_type": "execute_result"
    }
   ],
   "source": [
    "t_cat = FastTreeValue.func(subside=True)(torch.cat)\n",
    "\n",
    "t_cat(trees)"
   ]
  },
  {
   "cell_type": "code",
   "execution_count": 23,
   "id": "5e9c06a6",
   "metadata": {
    "execution": {
     "iopub.execute_input": "2023-10-20T06:10:18.069034Z",
     "iopub.status.busy": "2023-10-20T06:10:18.068441Z",
     "iopub.status.idle": "2023-10-20T06:10:21.174873Z",
     "shell.execute_reply": "2023-10-20T06:10:21.173622Z"
    }
   },
   "outputs": [
    {
     "name": "stdout",
     "output_type": "stream",
     "text": [
      "38.3 µs ± 3.32 µs per loop (mean ± std. dev. of 7 runs, 10,000 loops each)\n"
     ]
    }
   ],
   "source": [
    "%timeit t_cat(trees)"
   ]
  },
  {
   "cell_type": "code",
   "execution_count": 24,
   "id": "a3ab5c8f",
   "metadata": {
    "execution": {
     "iopub.execute_input": "2023-10-20T06:10:21.179333Z",
     "iopub.status.busy": "2023-10-20T06:10:21.178767Z",
     "iopub.status.idle": "2023-10-20T06:10:27.366520Z",
     "shell.execute_reply": "2023-10-20T06:10:27.365533Z"
    }
   },
   "outputs": [
    {
     "name": "stdout",
     "output_type": "stream",
     "text": [
      "76.1 µs ± 92.4 ns per loop (mean ± std. dev. of 7 runs, 10,000 loops each)\n"
     ]
    }
   ],
   "source": [
    "t_split = FastTreeValue.func(rise=True)(torch.split)\n",
    "tree = FastTreeValue({\n",
    "    'obs': torch.randn(8, 4, 84, 84),\n",
    "    'action': torch.randint(0, 6, size=(8, 1,)),\n",
    "    'reward': torch.rand(8, 1),\n",
    "})\n",
    "\n",
    "%timeit t_split(tree, 1)"
   ]
  },
  {
   "cell_type": "markdown",
   "id": "31c3ec0b",
   "metadata": {},
   "source": [
    "### Performance of Tianshou Batch"
   ]
  },
  {
   "cell_type": "code",
   "execution_count": 25,
   "id": "9ead828a",
   "metadata": {
    "execution": {
     "iopub.execute_input": "2023-10-20T06:10:27.370803Z",
     "iopub.status.busy": "2023-10-20T06:10:27.370207Z",
     "iopub.status.idle": "2023-10-20T06:10:27.380859Z",
     "shell.execute_reply": "2023-10-20T06:10:27.380056Z"
    }
   },
   "outputs": [
    {
     "data": {
      "text/plain": [
       "Batch(\n",
       "    x: Batch(\n",
       "           c: tensor([[[-2.3509,  0.3106, -0.5697, -0.8740],\n",
       "                       [ 0.4058, -0.3023, -0.5851, -0.6074],\n",
       "                       [-0.6653, -0.5996, -1.4165,  1.1686]],\n",
       "              \n",
       "                      [[-2.3509,  0.3106, -0.5697, -0.8740],\n",
       "                       [ 0.4058, -0.3023, -0.5851, -0.6074],\n",
       "                       [-0.6653, -0.5996, -1.4165,  1.1686]],\n",
       "              \n",
       "                      [[-2.3509,  0.3106, -0.5697, -0.8740],\n",
       "                       [ 0.4058, -0.3023, -0.5851, -0.6074],\n",
       "                       [-0.6653, -0.5996, -1.4165,  1.1686]],\n",
       "              \n",
       "                      [[-2.3509,  0.3106, -0.5697, -0.8740],\n",
       "                       [ 0.4058, -0.3023, -0.5851, -0.6074],\n",
       "                       [-0.6653, -0.5996, -1.4165,  1.1686]],\n",
       "              \n",
       "                      [[-2.3509,  0.3106, -0.5697, -0.8740],\n",
       "                       [ 0.4058, -0.3023, -0.5851, -0.6074],\n",
       "                       [-0.6653, -0.5996, -1.4165,  1.1686]],\n",
       "              \n",
       "                      [[-2.3509,  0.3106, -0.5697, -0.8740],\n",
       "                       [ 0.4058, -0.3023, -0.5851, -0.6074],\n",
       "                       [-0.6653, -0.5996, -1.4165,  1.1686]],\n",
       "              \n",
       "                      [[-2.3509,  0.3106, -0.5697, -0.8740],\n",
       "                       [ 0.4058, -0.3023, -0.5851, -0.6074],\n",
       "                       [-0.6653, -0.5996, -1.4165,  1.1686]],\n",
       "              \n",
       "                      [[-2.3509,  0.3106, -0.5697, -0.8740],\n",
       "                       [ 0.4058, -0.3023, -0.5851, -0.6074],\n",
       "                       [-0.6653, -0.5996, -1.4165,  1.1686]]]),\n",
       "       ),\n",
       "    a: tensor([[[-0.2846,  0.5964, -1.3886],\n",
       "                [-1.2387, -0.3852,  0.3116]],\n",
       "       \n",
       "               [[-0.2846,  0.5964, -1.3886],\n",
       "                [-1.2387, -0.3852,  0.3116]],\n",
       "       \n",
       "               [[-0.2846,  0.5964, -1.3886],\n",
       "                [-1.2387, -0.3852,  0.3116]],\n",
       "       \n",
       "               [[-0.2846,  0.5964, -1.3886],\n",
       "                [-1.2387, -0.3852,  0.3116]],\n",
       "       \n",
       "               [[-0.2846,  0.5964, -1.3886],\n",
       "                [-1.2387, -0.3852,  0.3116]],\n",
       "       \n",
       "               [[-0.2846,  0.5964, -1.3886],\n",
       "                [-1.2387, -0.3852,  0.3116]],\n",
       "       \n",
       "               [[-0.2846,  0.5964, -1.3886],\n",
       "                [-1.2387, -0.3852,  0.3116]],\n",
       "       \n",
       "               [[-0.2846,  0.5964, -1.3886],\n",
       "                [-1.2387, -0.3852,  0.3116]]]),\n",
       ")"
      ]
     },
     "execution_count": 25,
     "metadata": {},
     "output_type": "execute_result"
    }
   ],
   "source": [
    "batches = [Batch(**_TREE_DATA_2) for _ in range(8)]\n",
    "\n",
    "Batch.stack(batches)"
   ]
  },
  {
   "cell_type": "code",
   "execution_count": 26,
   "id": "ec9037a3",
   "metadata": {
    "execution": {
     "iopub.execute_input": "2023-10-20T06:10:27.384895Z",
     "iopub.status.busy": "2023-10-20T06:10:27.384192Z",
     "iopub.status.idle": "2023-10-20T06:10:35.416372Z",
     "shell.execute_reply": "2023-10-20T06:10:35.415110Z"
    }
   },
   "outputs": [
    {
     "name": "stdout",
     "output_type": "stream",
     "text": [
      "98.5 µs ± 60.3 ns per loop (mean ± std. dev. of 7 runs, 10,000 loops each)\n"
     ]
    }
   ],
   "source": [
    "%timeit Batch.stack(batches)"
   ]
  },
  {
   "cell_type": "code",
   "execution_count": 27,
   "id": "cb8ab77e",
   "metadata": {
    "execution": {
     "iopub.execute_input": "2023-10-20T06:10:35.420782Z",
     "iopub.status.busy": "2023-10-20T06:10:35.420198Z",
     "iopub.status.idle": "2023-10-20T06:10:35.430287Z",
     "shell.execute_reply": "2023-10-20T06:10:35.429527Z"
    }
   },
   "outputs": [
    {
     "data": {
      "text/plain": [
       "Batch(\n",
       "    x: Batch(\n",
       "           c: tensor([[-2.3509,  0.3106, -0.5697, -0.8740],\n",
       "                      [ 0.4058, -0.3023, -0.5851, -0.6074],\n",
       "                      [-0.6653, -0.5996, -1.4165,  1.1686],\n",
       "                      [-2.3509,  0.3106, -0.5697, -0.8740],\n",
       "                      [ 0.4058, -0.3023, -0.5851, -0.6074],\n",
       "                      [-0.6653, -0.5996, -1.4165,  1.1686],\n",
       "                      [-2.3509,  0.3106, -0.5697, -0.8740],\n",
       "                      [ 0.4058, -0.3023, -0.5851, -0.6074],\n",
       "                      [-0.6653, -0.5996, -1.4165,  1.1686],\n",
       "                      [-2.3509,  0.3106, -0.5697, -0.8740],\n",
       "                      [ 0.4058, -0.3023, -0.5851, -0.6074],\n",
       "                      [-0.6653, -0.5996, -1.4165,  1.1686],\n",
       "                      [-2.3509,  0.3106, -0.5697, -0.8740],\n",
       "                      [ 0.4058, -0.3023, -0.5851, -0.6074],\n",
       "                      [-0.6653, -0.5996, -1.4165,  1.1686],\n",
       "                      [-2.3509,  0.3106, -0.5697, -0.8740],\n",
       "                      [ 0.4058, -0.3023, -0.5851, -0.6074],\n",
       "                      [-0.6653, -0.5996, -1.4165,  1.1686],\n",
       "                      [-2.3509,  0.3106, -0.5697, -0.8740],\n",
       "                      [ 0.4058, -0.3023, -0.5851, -0.6074],\n",
       "                      [-0.6653, -0.5996, -1.4165,  1.1686],\n",
       "                      [-2.3509,  0.3106, -0.5697, -0.8740],\n",
       "                      [ 0.4058, -0.3023, -0.5851, -0.6074],\n",
       "                      [-0.6653, -0.5996, -1.4165,  1.1686]]),\n",
       "       ),\n",
       "    a: tensor([[-0.2846,  0.5964, -1.3886],\n",
       "               [-1.2387, -0.3852,  0.3116],\n",
       "               [-0.2846,  0.5964, -1.3886],\n",
       "               [-1.2387, -0.3852,  0.3116],\n",
       "               [-0.2846,  0.5964, -1.3886],\n",
       "               [-1.2387, -0.3852,  0.3116],\n",
       "               [-0.2846,  0.5964, -1.3886],\n",
       "               [-1.2387, -0.3852,  0.3116],\n",
       "               [-0.2846,  0.5964, -1.3886],\n",
       "               [-1.2387, -0.3852,  0.3116],\n",
       "               [-0.2846,  0.5964, -1.3886],\n",
       "               [-1.2387, -0.3852,  0.3116],\n",
       "               [-0.2846,  0.5964, -1.3886],\n",
       "               [-1.2387, -0.3852,  0.3116],\n",
       "               [-0.2846,  0.5964, -1.3886],\n",
       "               [-1.2387, -0.3852,  0.3116]]),\n",
       ")"
      ]
     },
     "execution_count": 27,
     "metadata": {},
     "output_type": "execute_result"
    }
   ],
   "source": [
    "Batch.cat(batches)"
   ]
  },
  {
   "cell_type": "code",
   "execution_count": 28,
   "id": "18dfb045",
   "metadata": {
    "execution": {
     "iopub.execute_input": "2023-10-20T06:10:35.434209Z",
     "iopub.status.busy": "2023-10-20T06:10:35.433525Z",
     "iopub.status.idle": "2023-10-20T06:10:50.068811Z",
     "shell.execute_reply": "2023-10-20T06:10:50.067798Z"
    }
   },
   "outputs": [
    {
     "name": "stdout",
     "output_type": "stream",
     "text": [
      "180 µs ± 358 ns per loop (mean ± std. dev. of 7 runs, 10,000 loops each)\n"
     ]
    }
   ],
   "source": [
    "%timeit Batch.cat(batches)"
   ]
  },
  {
   "cell_type": "code",
   "execution_count": 29,
   "id": "c6688e51",
   "metadata": {
    "execution": {
     "iopub.execute_input": "2023-10-20T06:10:50.073981Z",
     "iopub.status.busy": "2023-10-20T06:10:50.072840Z",
     "iopub.status.idle": "2023-10-20T06:10:53.906457Z",
     "shell.execute_reply": "2023-10-20T06:10:53.905619Z"
    }
   },
   "outputs": [
    {
     "name": "stdout",
     "output_type": "stream",
     "text": [
      "469 µs ± 29 µs per loop (mean ± std. dev. of 7 runs, 1,000 loops each)\n"
     ]
    }
   ],
   "source": [
    "batch = Batch({\n",
    "    'obs': torch.randn(8, 4, 84, 84),\n",
    "    'action': torch.randint(0, 6, size=(8, 1,)),\n",
    "    'reward': torch.rand(8, 1)}\n",
    ")\n",
    "\n",
    "%timeit list(Batch.split(batch, 1, shuffle=False, merge_last=True))"
   ]
  },
  {
   "cell_type": "code",
   "execution_count": null,
   "id": "2539fbd9",
   "metadata": {},
   "outputs": [],
   "source": []
  }
 ],
 "metadata": {
  "kernelspec": {
   "display_name": "Python 3 (ipykernel)",
   "language": "python",
   "name": "python3"
  },
  "language_info": {
   "codemirror_mode": {
    "name": "ipython",
    "version": 3
   },
   "file_extension": ".py",
   "mimetype": "text/x-python",
   "name": "python",
   "nbconvert_exporter": "python",
   "pygments_lexer": "ipython3",
   "version": "3.8.18"
  }
 },
 "nbformat": 4,
 "nbformat_minor": 5
}
