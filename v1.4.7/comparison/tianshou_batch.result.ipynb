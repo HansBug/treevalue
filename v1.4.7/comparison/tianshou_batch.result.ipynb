{
 "cells": [
  {
   "cell_type": "markdown",
   "id": "9d39d946",
   "metadata": {},
   "source": [
    "# Comparison Between TreeValue and Tianshou Batch"
   ]
  },
  {
   "cell_type": "markdown",
   "id": "3c6db2d4",
   "metadata": {},
   "source": [
    "In this section, we will take a look at the feature and performance of the [Tianshou Batch](https://github.com/thu-ml/tianshou) library, which is developed by Tsinghua Machine Learning Group."
   ]
  },
  {
   "cell_type": "markdown",
   "id": "069361b0",
   "metadata": {},
   "source": [
    "Before starting the comparison, let us define some thing."
   ]
  },
  {
   "cell_type": "code",
   "execution_count": 1,
   "id": "06fc8d26",
   "metadata": {
    "execution": {
     "iopub.execute_input": "2023-03-06T17:14:30.780784Z",
     "iopub.status.busy": "2023-03-06T17:14:30.779691Z",
     "iopub.status.idle": "2023-03-06T17:14:31.704459Z",
     "shell.execute_reply": "2023-03-06T17:14:31.703754Z"
    }
   },
   "outputs": [
    {
     "name": "stderr",
     "output_type": "stream",
     "text": [
      "/opt/hostedtoolcache/Python/3.8.16/x64/lib/python3.8/site-packages/tqdm/auto.py:21: TqdmWarning: IProgress not found. Please update jupyter and ipywidgets. See https://ipywidgets.readthedocs.io/en/stable/user_install.html\n",
      "  from .autonotebook import tqdm as notebook_tqdm\n"
     ]
    }
   ],
   "source": [
    "import torch \n",
    "\n",
    "_TREE_DATA_1 = {'a': 1, 'b': 2, 'x': {'c': 3, 'd': 4}}\n",
    "_TREE_DATA_2 = {\n",
    "    'a': torch.randn(2, 3), \n",
    "    'x': {\n",
    "        'c': torch.randn(3, 4)\n",
    "    },\n",
    "}\n",
    "_TREE_DATA_3 = {\n",
    "    'obs': torch.randn(4, 84, 84),\n",
    "    'action': torch.randint(0, 6, size=(1,)),\n",
    "    'reward': torch.rand(1),\n",
    "}"
   ]
  },
  {
   "cell_type": "markdown",
   "id": "83461b25",
   "metadata": {},
   "source": [
    "## Read and Write Operation"
   ]
  },
  {
   "cell_type": "markdown",
   "id": "067b3f73",
   "metadata": {},
   "source": [
    "Reading and writing are the two most common operations in the tree data structure based on the data model (TreeValue and Tianshou Batch both belong to this type), so this section will compare the reading and writing performance of these two libraries."
   ]
  },
  {
   "cell_type": "markdown",
   "id": "5d09a5b7",
   "metadata": {},
   "source": [
    "### TreeValue's Get and Set"
   ]
  },
  {
   "cell_type": "code",
   "execution_count": 2,
   "id": "9519c4bb",
   "metadata": {
    "execution": {
     "iopub.execute_input": "2023-03-06T17:14:31.707941Z",
     "iopub.status.busy": "2023-03-06T17:14:31.707348Z",
     "iopub.status.idle": "2023-03-06T17:14:31.991005Z",
     "shell.execute_reply": "2023-03-06T17:14:31.990302Z"
    }
   },
   "outputs": [],
   "source": [
    "from treevalue import FastTreeValue\n",
    "\n",
    "t = FastTreeValue(_TREE_DATA_2)"
   ]
  },
  {
   "cell_type": "code",
   "execution_count": 3,
   "id": "11c37677",
   "metadata": {
    "execution": {
     "iopub.execute_input": "2023-03-06T17:14:31.994244Z",
     "iopub.status.busy": "2023-03-06T17:14:31.993811Z",
     "iopub.status.idle": "2023-03-06T17:14:32.003340Z",
     "shell.execute_reply": "2023-03-06T17:14:32.002750Z"
    }
   },
   "outputs": [
    {
     "data": {
      "text/plain": [
       "<FastTreeValue 0x7ff05e732df0>\n",
       "├── 'a' --> tensor([[-0.0665, -0.9558,  1.4624],\n",
       "│                   [ 0.8509,  0.3691, -0.1015]])\n",
       "└── 'x' --> <FastTreeValue 0x7ff05e732d30>\n",
       "    └── 'c' --> tensor([[ 0.0334,  0.5059,  0.4702,  0.5720],\n",
       "                        [ 0.8247, -0.5728,  0.4577, -0.0853],\n",
       "                        [ 2.5292, -0.7270,  1.0855, -0.7834]])"
      ]
     },
     "execution_count": 3,
     "metadata": {},
     "output_type": "execute_result"
    }
   ],
   "source": [
    "t"
   ]
  },
  {
   "cell_type": "code",
   "execution_count": 4,
   "id": "fd70b0b9",
   "metadata": {
    "execution": {
     "iopub.execute_input": "2023-03-06T17:14:32.006271Z",
     "iopub.status.busy": "2023-03-06T17:14:32.005786Z",
     "iopub.status.idle": "2023-03-06T17:14:32.011658Z",
     "shell.execute_reply": "2023-03-06T17:14:32.011074Z"
    }
   },
   "outputs": [
    {
     "data": {
      "text/plain": [
       "tensor([[-0.0665, -0.9558,  1.4624],\n",
       "        [ 0.8509,  0.3691, -0.1015]])"
      ]
     },
     "execution_count": 4,
     "metadata": {},
     "output_type": "execute_result"
    }
   ],
   "source": [
    "t.a"
   ]
  },
  {
   "cell_type": "code",
   "execution_count": 5,
   "id": "c18197bd",
   "metadata": {
    "execution": {
     "iopub.execute_input": "2023-03-06T17:14:32.014069Z",
     "iopub.status.busy": "2023-03-06T17:14:32.013731Z",
     "iopub.status.idle": "2023-03-06T17:14:36.972662Z",
     "shell.execute_reply": "2023-03-06T17:14:36.971814Z"
    }
   },
   "outputs": [
    {
     "name": "stdout",
     "output_type": "stream",
     "text": [
      "60.9 ns ± 0.243 ns per loop (mean ± std. dev. of 7 runs, 10,000,000 loops each)\n"
     ]
    }
   ],
   "source": [
    "%timeit t.a"
   ]
  },
  {
   "cell_type": "code",
   "execution_count": 6,
   "id": "bd52f867",
   "metadata": {
    "execution": {
     "iopub.execute_input": "2023-03-06T17:14:36.975693Z",
     "iopub.status.busy": "2023-03-06T17:14:36.975154Z",
     "iopub.status.idle": "2023-03-06T17:14:36.981891Z",
     "shell.execute_reply": "2023-03-06T17:14:36.981234Z"
    }
   },
   "outputs": [
    {
     "data": {
      "text/plain": [
       "<FastTreeValue 0x7ff05e732df0>\n",
       "├── 'a' --> tensor([[ 0.2941, -0.7874, -0.2402],\n",
       "│                   [-0.9668, -0.4935, -0.8439]])\n",
       "└── 'x' --> <FastTreeValue 0x7ff05e732d30>\n",
       "    └── 'c' --> tensor([[ 0.0334,  0.5059,  0.4702,  0.5720],\n",
       "                        [ 0.8247, -0.5728,  0.4577, -0.0853],\n",
       "                        [ 2.5292, -0.7270,  1.0855, -0.7834]])"
      ]
     },
     "execution_count": 6,
     "metadata": {},
     "output_type": "execute_result"
    }
   ],
   "source": [
    "new_value = torch.randn(2, 3)\n",
    "t.a = new_value\n",
    "\n",
    "t"
   ]
  },
  {
   "cell_type": "code",
   "execution_count": 7,
   "id": "bbe04d1c",
   "metadata": {
    "execution": {
     "iopub.execute_input": "2023-03-06T17:14:36.984997Z",
     "iopub.status.busy": "2023-03-06T17:14:36.984634Z",
     "iopub.status.idle": "2023-03-06T17:14:41.880950Z",
     "shell.execute_reply": "2023-03-06T17:14:41.880198Z"
    }
   },
   "outputs": [
    {
     "name": "stdout",
     "output_type": "stream",
     "text": [
      "60.4 ns ± 0.0351 ns per loop (mean ± std. dev. of 7 runs, 10,000,000 loops each)\n"
     ]
    }
   ],
   "source": [
    "%timeit t.a = new_value"
   ]
  },
  {
   "cell_type": "markdown",
   "id": "48c49731",
   "metadata": {},
   "source": [
    "### Tianshou Batch's Get and Set"
   ]
  },
  {
   "cell_type": "code",
   "execution_count": 8,
   "id": "f1bb14c1",
   "metadata": {
    "execution": {
     "iopub.execute_input": "2023-03-06T17:14:41.884458Z",
     "iopub.status.busy": "2023-03-06T17:14:41.883839Z",
     "iopub.status.idle": "2023-03-06T17:14:42.218871Z",
     "shell.execute_reply": "2023-03-06T17:14:42.218199Z"
    }
   },
   "outputs": [],
   "source": [
    "from tianshou.data import Batch\n",
    "\n",
    "b = Batch(**_TREE_DATA_2)"
   ]
  },
  {
   "cell_type": "code",
   "execution_count": 9,
   "id": "cb0777c3",
   "metadata": {
    "execution": {
     "iopub.execute_input": "2023-03-06T17:14:42.222221Z",
     "iopub.status.busy": "2023-03-06T17:14:42.221473Z",
     "iopub.status.idle": "2023-03-06T17:14:42.227079Z",
     "shell.execute_reply": "2023-03-06T17:14:42.226460Z"
    }
   },
   "outputs": [
    {
     "data": {
      "text/plain": [
       "Batch(\n",
       "    a: tensor([[-0.0665, -0.9558,  1.4624],\n",
       "               [ 0.8509,  0.3691, -0.1015]]),\n",
       "    x: Batch(\n",
       "           c: tensor([[ 0.0334,  0.5059,  0.4702,  0.5720],\n",
       "                      [ 0.8247, -0.5728,  0.4577, -0.0853],\n",
       "                      [ 2.5292, -0.7270,  1.0855, -0.7834]]),\n",
       "       ),\n",
       ")"
      ]
     },
     "execution_count": 9,
     "metadata": {},
     "output_type": "execute_result"
    }
   ],
   "source": [
    "b"
   ]
  },
  {
   "cell_type": "code",
   "execution_count": 10,
   "id": "43ef8ea3",
   "metadata": {
    "execution": {
     "iopub.execute_input": "2023-03-06T17:14:42.229532Z",
     "iopub.status.busy": "2023-03-06T17:14:42.229194Z",
     "iopub.status.idle": "2023-03-06T17:14:42.233806Z",
     "shell.execute_reply": "2023-03-06T17:14:42.233175Z"
    }
   },
   "outputs": [
    {
     "data": {
      "text/plain": [
       "tensor([[-0.0665, -0.9558,  1.4624],\n",
       "        [ 0.8509,  0.3691, -0.1015]])"
      ]
     },
     "execution_count": 10,
     "metadata": {},
     "output_type": "execute_result"
    }
   ],
   "source": [
    "b.a"
   ]
  },
  {
   "cell_type": "code",
   "execution_count": 11,
   "id": "b785ab72",
   "metadata": {
    "execution": {
     "iopub.execute_input": "2023-03-06T17:14:42.236387Z",
     "iopub.status.busy": "2023-03-06T17:14:42.235895Z",
     "iopub.status.idle": "2023-03-06T17:14:46.704387Z",
     "shell.execute_reply": "2023-03-06T17:14:46.703638Z"
    }
   },
   "outputs": [
    {
     "name": "stdout",
     "output_type": "stream",
     "text": [
      "54.8 ns ± 0.0413 ns per loop (mean ± std. dev. of 7 runs, 10,000,000 loops each)\n"
     ]
    }
   ],
   "source": [
    "%timeit b.a"
   ]
  },
  {
   "cell_type": "code",
   "execution_count": 12,
   "id": "ad54dc69",
   "metadata": {
    "execution": {
     "iopub.execute_input": "2023-03-06T17:14:46.707498Z",
     "iopub.status.busy": "2023-03-06T17:14:46.707015Z",
     "iopub.status.idle": "2023-03-06T17:14:46.713470Z",
     "shell.execute_reply": "2023-03-06T17:14:46.712870Z"
    }
   },
   "outputs": [
    {
     "data": {
      "text/plain": [
       "Batch(\n",
       "    a: tensor([[ 0.8532,  0.1308, -0.1174],\n",
       "               [-0.9405,  0.1659, -0.9350]]),\n",
       "    x: Batch(\n",
       "           c: tensor([[ 0.0334,  0.5059,  0.4702,  0.5720],\n",
       "                      [ 0.8247, -0.5728,  0.4577, -0.0853],\n",
       "                      [ 2.5292, -0.7270,  1.0855, -0.7834]]),\n",
       "       ),\n",
       ")"
      ]
     },
     "execution_count": 12,
     "metadata": {},
     "output_type": "execute_result"
    }
   ],
   "source": [
    "new_value = torch.randn(2, 3)\n",
    "b.a = new_value\n",
    "\n",
    "b"
   ]
  },
  {
   "cell_type": "code",
   "execution_count": 13,
   "id": "29b1d0bf",
   "metadata": {
    "execution": {
     "iopub.execute_input": "2023-03-06T17:14:46.716873Z",
     "iopub.status.busy": "2023-03-06T17:14:46.715827Z",
     "iopub.status.idle": "2023-03-06T17:14:50.626690Z",
     "shell.execute_reply": "2023-03-06T17:14:50.625972Z"
    }
   },
   "outputs": [
    {
     "name": "stdout",
     "output_type": "stream",
     "text": [
      "481 ns ± 0.186 ns per loop (mean ± std. dev. of 7 runs, 1,000,000 loops each)\n"
     ]
    }
   ],
   "source": [
    "%timeit b.a = new_value"
   ]
  },
  {
   "cell_type": "markdown",
   "id": "b61ad1d0",
   "metadata": {},
   "source": [
    "## Initialization"
   ]
  },
  {
   "cell_type": "markdown",
   "id": "d70f0d54",
   "metadata": {},
   "source": [
    "### TreeValue's Initialization"
   ]
  },
  {
   "cell_type": "code",
   "execution_count": 14,
   "id": "d32a679b",
   "metadata": {
    "execution": {
     "iopub.execute_input": "2023-03-06T17:14:50.629733Z",
     "iopub.status.busy": "2023-03-06T17:14:50.629375Z",
     "iopub.status.idle": "2023-03-06T17:14:57.363770Z",
     "shell.execute_reply": "2023-03-06T17:14:57.363060Z"
    }
   },
   "outputs": [
    {
     "name": "stdout",
     "output_type": "stream",
     "text": [
      "829 ns ± 0.141 ns per loop (mean ± std. dev. of 7 runs, 1,000,000 loops each)\n"
     ]
    }
   ],
   "source": [
    "%timeit FastTreeValue(_TREE_DATA_1)"
   ]
  },
  {
   "cell_type": "markdown",
   "id": "24f3707b",
   "metadata": {},
   "source": [
    "### Tianshou Batch's Initialization"
   ]
  },
  {
   "cell_type": "code",
   "execution_count": 15,
   "id": "ac3958df",
   "metadata": {
    "execution": {
     "iopub.execute_input": "2023-03-06T17:14:57.366626Z",
     "iopub.status.busy": "2023-03-06T17:14:57.366262Z",
     "iopub.status.idle": "2023-03-06T17:15:06.549369Z",
     "shell.execute_reply": "2023-03-06T17:15:06.548604Z"
    }
   },
   "outputs": [
    {
     "name": "stdout",
     "output_type": "stream",
     "text": [
      "11.3 µs ± 22.7 ns per loop (mean ± std. dev. of 7 runs, 100,000 loops each)\n"
     ]
    }
   ],
   "source": [
    "%timeit Batch(**_TREE_DATA_1)"
   ]
  },
  {
   "cell_type": "markdown",
   "id": "1ab82e2d",
   "metadata": {},
   "source": [
    "## Deep Copy Operation"
   ]
  },
  {
   "cell_type": "code",
   "execution_count": 16,
   "id": "210a9442",
   "metadata": {
    "execution": {
     "iopub.execute_input": "2023-03-06T17:15:06.552331Z",
     "iopub.status.busy": "2023-03-06T17:15:06.551874Z",
     "iopub.status.idle": "2023-03-06T17:15:06.555780Z",
     "shell.execute_reply": "2023-03-06T17:15:06.555198Z"
    }
   },
   "outputs": [],
   "source": [
    "import copy"
   ]
  },
  {
   "cell_type": "markdown",
   "id": "5a736274",
   "metadata": {},
   "source": [
    "### Deep Copy of TreeValue"
   ]
  },
  {
   "cell_type": "code",
   "execution_count": 17,
   "id": "f9bcadd6",
   "metadata": {
    "execution": {
     "iopub.execute_input": "2023-03-06T17:15:06.558124Z",
     "iopub.status.busy": "2023-03-06T17:15:06.557917Z",
     "iopub.status.idle": "2023-03-06T17:15:17.688362Z",
     "shell.execute_reply": "2023-03-06T17:15:17.687738Z"
    }
   },
   "outputs": [
    {
     "name": "stdout",
     "output_type": "stream",
     "text": [
      "137 µs ± 767 ns per loop (mean ± std. dev. of 7 runs, 10,000 loops each)\n"
     ]
    }
   ],
   "source": [
    "t3 = FastTreeValue(_TREE_DATA_3)\n",
    "%timeit copy.deepcopy(t3)"
   ]
  },
  {
   "cell_type": "markdown",
   "id": "bf8be7ea",
   "metadata": {},
   "source": [
    "### Deep Copy of Tianshou Batch"
   ]
  },
  {
   "cell_type": "code",
   "execution_count": 18,
   "id": "91998e6f",
   "metadata": {
    "execution": {
     "iopub.execute_input": "2023-03-06T17:15:17.691820Z",
     "iopub.status.busy": "2023-03-06T17:15:17.691208Z",
     "iopub.status.idle": "2023-03-06T17:15:28.988677Z",
     "shell.execute_reply": "2023-03-06T17:15:28.988091Z"
    }
   },
   "outputs": [
    {
     "name": "stdout",
     "output_type": "stream",
     "text": [
      "139 µs ± 297 ns per loop (mean ± std. dev. of 7 runs, 10,000 loops each)\n"
     ]
    }
   ],
   "source": [
    "b3 = Batch(**_TREE_DATA_3)\n",
    "%timeit copy.deepcopy(b3)"
   ]
  },
  {
   "cell_type": "markdown",
   "id": "223162fb",
   "metadata": {},
   "source": [
    "## Stack, Concat and Split Operation"
   ]
  },
  {
   "cell_type": "markdown",
   "id": "85fa4a73",
   "metadata": {},
   "source": [
    "### Performance of TreeValue"
   ]
  },
  {
   "cell_type": "code",
   "execution_count": 19,
   "id": "a0c2b697",
   "metadata": {
    "execution": {
     "iopub.execute_input": "2023-03-06T17:15:28.992147Z",
     "iopub.status.busy": "2023-03-06T17:15:28.991538Z",
     "iopub.status.idle": "2023-03-06T17:15:28.995739Z",
     "shell.execute_reply": "2023-03-06T17:15:28.995142Z"
    }
   },
   "outputs": [],
   "source": [
    "trees = [FastTreeValue(_TREE_DATA_2) for _ in range(8)]"
   ]
  },
  {
   "cell_type": "code",
   "execution_count": 20,
   "id": "017ea5a5",
   "metadata": {
    "execution": {
     "iopub.execute_input": "2023-03-06T17:15:28.998702Z",
     "iopub.status.busy": "2023-03-06T17:15:28.998123Z",
     "iopub.status.idle": "2023-03-06T17:15:29.005031Z",
     "shell.execute_reply": "2023-03-06T17:15:29.004527Z"
    }
   },
   "outputs": [
    {
     "data": {
      "text/plain": [
       "<FastTreeValue 0x7ff030b17eb0>\n",
       "├── 'a' --> tensor([[[-0.0665, -0.9558,  1.4624],\n",
       "│                    [ 0.8509,  0.3691, -0.1015]],\n",
       "│           \n",
       "│                   [[-0.0665, -0.9558,  1.4624],\n",
       "│                    [ 0.8509,  0.3691, -0.1015]],\n",
       "│           \n",
       "│                   [[-0.0665, -0.9558,  1.4624],\n",
       "│                    [ 0.8509,  0.3691, -0.1015]],\n",
       "│           \n",
       "│                   [[-0.0665, -0.9558,  1.4624],\n",
       "│                    [ 0.8509,  0.3691, -0.1015]],\n",
       "│           \n",
       "│                   [[-0.0665, -0.9558,  1.4624],\n",
       "│                    [ 0.8509,  0.3691, -0.1015]],\n",
       "│           \n",
       "│                   [[-0.0665, -0.9558,  1.4624],\n",
       "│                    [ 0.8509,  0.3691, -0.1015]],\n",
       "│           \n",
       "│                   [[-0.0665, -0.9558,  1.4624],\n",
       "│                    [ 0.8509,  0.3691, -0.1015]],\n",
       "│           \n",
       "│                   [[-0.0665, -0.9558,  1.4624],\n",
       "│                    [ 0.8509,  0.3691, -0.1015]]])\n",
       "└── 'x' --> <FastTreeValue 0x7ff030b17730>\n",
       "    └── 'c' --> tensor([[[ 0.0334,  0.5059,  0.4702,  0.5720],\n",
       "                         [ 0.8247, -0.5728,  0.4577, -0.0853],\n",
       "                         [ 2.5292, -0.7270,  1.0855, -0.7834]],\n",
       "                \n",
       "                        [[ 0.0334,  0.5059,  0.4702,  0.5720],\n",
       "                         [ 0.8247, -0.5728,  0.4577, -0.0853],\n",
       "                         [ 2.5292, -0.7270,  1.0855, -0.7834]],\n",
       "                \n",
       "                        [[ 0.0334,  0.5059,  0.4702,  0.5720],\n",
       "                         [ 0.8247, -0.5728,  0.4577, -0.0853],\n",
       "                         [ 2.5292, -0.7270,  1.0855, -0.7834]],\n",
       "                \n",
       "                        [[ 0.0334,  0.5059,  0.4702,  0.5720],\n",
       "                         [ 0.8247, -0.5728,  0.4577, -0.0853],\n",
       "                         [ 2.5292, -0.7270,  1.0855, -0.7834]],\n",
       "                \n",
       "                        [[ 0.0334,  0.5059,  0.4702,  0.5720],\n",
       "                         [ 0.8247, -0.5728,  0.4577, -0.0853],\n",
       "                         [ 2.5292, -0.7270,  1.0855, -0.7834]],\n",
       "                \n",
       "                        [[ 0.0334,  0.5059,  0.4702,  0.5720],\n",
       "                         [ 0.8247, -0.5728,  0.4577, -0.0853],\n",
       "                         [ 2.5292, -0.7270,  1.0855, -0.7834]],\n",
       "                \n",
       "                        [[ 0.0334,  0.5059,  0.4702,  0.5720],\n",
       "                         [ 0.8247, -0.5728,  0.4577, -0.0853],\n",
       "                         [ 2.5292, -0.7270,  1.0855, -0.7834]],\n",
       "                \n",
       "                        [[ 0.0334,  0.5059,  0.4702,  0.5720],\n",
       "                         [ 0.8247, -0.5728,  0.4577, -0.0853],\n",
       "                         [ 2.5292, -0.7270,  1.0855, -0.7834]]])"
      ]
     },
     "execution_count": 20,
     "metadata": {},
     "output_type": "execute_result"
    }
   ],
   "source": [
    "t_stack = FastTreeValue.func(subside=True)(torch.stack)\n",
    "\n",
    "t_stack(trees)"
   ]
  },
  {
   "cell_type": "code",
   "execution_count": 21,
   "id": "f8b3f415",
   "metadata": {
    "execution": {
     "iopub.execute_input": "2023-03-06T17:15:29.007526Z",
     "iopub.status.busy": "2023-03-06T17:15:29.006967Z",
     "iopub.status.idle": "2023-03-06T17:15:31.604376Z",
     "shell.execute_reply": "2023-03-06T17:15:31.603639Z"
    }
   },
   "outputs": [
    {
     "name": "stdout",
     "output_type": "stream",
     "text": [
      "31.9 µs ± 48.4 ns per loop (mean ± std. dev. of 7 runs, 10,000 loops each)\n"
     ]
    }
   ],
   "source": [
    "%timeit t_stack(trees)"
   ]
  },
  {
   "cell_type": "code",
   "execution_count": 22,
   "id": "94b56771",
   "metadata": {
    "execution": {
     "iopub.execute_input": "2023-03-06T17:15:31.607627Z",
     "iopub.status.busy": "2023-03-06T17:15:31.607052Z",
     "iopub.status.idle": "2023-03-06T17:15:31.615800Z",
     "shell.execute_reply": "2023-03-06T17:15:31.615227Z"
    }
   },
   "outputs": [
    {
     "data": {
      "text/plain": [
       "<FastTreeValue 0x7ff05e732fd0>\n",
       "├── 'a' --> tensor([[-0.0665, -0.9558,  1.4624],\n",
       "│                   [ 0.8509,  0.3691, -0.1015],\n",
       "│                   [-0.0665, -0.9558,  1.4624],\n",
       "│                   [ 0.8509,  0.3691, -0.1015],\n",
       "│                   [-0.0665, -0.9558,  1.4624],\n",
       "│                   [ 0.8509,  0.3691, -0.1015],\n",
       "│                   [-0.0665, -0.9558,  1.4624],\n",
       "│                   [ 0.8509,  0.3691, -0.1015],\n",
       "│                   [-0.0665, -0.9558,  1.4624],\n",
       "│                   [ 0.8509,  0.3691, -0.1015],\n",
       "│                   [-0.0665, -0.9558,  1.4624],\n",
       "│                   [ 0.8509,  0.3691, -0.1015],\n",
       "│                   [-0.0665, -0.9558,  1.4624],\n",
       "│                   [ 0.8509,  0.3691, -0.1015],\n",
       "│                   [-0.0665, -0.9558,  1.4624],\n",
       "│                   [ 0.8509,  0.3691, -0.1015]])\n",
       "└── 'x' --> <FastTreeValue 0x7ff05e7327f0>\n",
       "    └── 'c' --> tensor([[ 0.0334,  0.5059,  0.4702,  0.5720],\n",
       "                        [ 0.8247, -0.5728,  0.4577, -0.0853],\n",
       "                        [ 2.5292, -0.7270,  1.0855, -0.7834],\n",
       "                        [ 0.0334,  0.5059,  0.4702,  0.5720],\n",
       "                        [ 0.8247, -0.5728,  0.4577, -0.0853],\n",
       "                        [ 2.5292, -0.7270,  1.0855, -0.7834],\n",
       "                        [ 0.0334,  0.5059,  0.4702,  0.5720],\n",
       "                        [ 0.8247, -0.5728,  0.4577, -0.0853],\n",
       "                        [ 2.5292, -0.7270,  1.0855, -0.7834],\n",
       "                        [ 0.0334,  0.5059,  0.4702,  0.5720],\n",
       "                        [ 0.8247, -0.5728,  0.4577, -0.0853],\n",
       "                        [ 2.5292, -0.7270,  1.0855, -0.7834],\n",
       "                        [ 0.0334,  0.5059,  0.4702,  0.5720],\n",
       "                        [ 0.8247, -0.5728,  0.4577, -0.0853],\n",
       "                        [ 2.5292, -0.7270,  1.0855, -0.7834],\n",
       "                        [ 0.0334,  0.5059,  0.4702,  0.5720],\n",
       "                        [ 0.8247, -0.5728,  0.4577, -0.0853],\n",
       "                        [ 2.5292, -0.7270,  1.0855, -0.7834],\n",
       "                        [ 0.0334,  0.5059,  0.4702,  0.5720],\n",
       "                        [ 0.8247, -0.5728,  0.4577, -0.0853],\n",
       "                        [ 2.5292, -0.7270,  1.0855, -0.7834],\n",
       "                        [ 0.0334,  0.5059,  0.4702,  0.5720],\n",
       "                        [ 0.8247, -0.5728,  0.4577, -0.0853],\n",
       "                        [ 2.5292, -0.7270,  1.0855, -0.7834]])"
      ]
     },
     "execution_count": 22,
     "metadata": {},
     "output_type": "execute_result"
    }
   ],
   "source": [
    "t_cat = FastTreeValue.func(subside=True)(torch.cat)\n",
    "\n",
    "t_cat(trees)"
   ]
  },
  {
   "cell_type": "code",
   "execution_count": 23,
   "id": "5e9c06a6",
   "metadata": {
    "execution": {
     "iopub.execute_input": "2023-03-06T17:15:31.618601Z",
     "iopub.status.busy": "2023-03-06T17:15:31.618150Z",
     "iopub.status.idle": "2023-03-06T17:15:34.089463Z",
     "shell.execute_reply": "2023-03-06T17:15:34.088794Z"
    }
   },
   "outputs": [
    {
     "name": "stdout",
     "output_type": "stream",
     "text": [
      "30.4 µs ± 67.6 ns per loop (mean ± std. dev. of 7 runs, 10,000 loops each)\n"
     ]
    }
   ],
   "source": [
    "%timeit t_cat(trees)"
   ]
  },
  {
   "cell_type": "code",
   "execution_count": 24,
   "id": "a3ab5c8f",
   "metadata": {
    "execution": {
     "iopub.execute_input": "2023-03-06T17:15:34.092426Z",
     "iopub.status.busy": "2023-03-06T17:15:34.092046Z",
     "iopub.status.idle": "2023-03-06T17:15:38.963753Z",
     "shell.execute_reply": "2023-03-06T17:15:38.962987Z"
    }
   },
   "outputs": [
    {
     "name": "stdout",
     "output_type": "stream",
     "text": [
      "59.9 µs ± 122 ns per loop (mean ± std. dev. of 7 runs, 10,000 loops each)\n"
     ]
    }
   ],
   "source": [
    "t_split = FastTreeValue.func(rise=True)(torch.split)\n",
    "tree = FastTreeValue({\n",
    "    'obs': torch.randn(8, 4, 84, 84),\n",
    "    'action': torch.randint(0, 6, size=(8, 1,)),\n",
    "    'reward': torch.rand(8, 1),\n",
    "})\n",
    "\n",
    "%timeit t_split(tree, 1)"
   ]
  },
  {
   "cell_type": "markdown",
   "id": "31c3ec0b",
   "metadata": {},
   "source": [
    "### Performance of Tianshou Batch"
   ]
  },
  {
   "cell_type": "code",
   "execution_count": 25,
   "id": "9ead828a",
   "metadata": {
    "execution": {
     "iopub.execute_input": "2023-03-06T17:15:38.967140Z",
     "iopub.status.busy": "2023-03-06T17:15:38.966615Z",
     "iopub.status.idle": "2023-03-06T17:15:38.974614Z",
     "shell.execute_reply": "2023-03-06T17:15:38.973996Z"
    }
   },
   "outputs": [
    {
     "data": {
      "text/plain": [
       "Batch(\n",
       "    x: Batch(\n",
       "           c: tensor([[[ 0.0334,  0.5059,  0.4702,  0.5720],\n",
       "                       [ 0.8247, -0.5728,  0.4577, -0.0853],\n",
       "                       [ 2.5292, -0.7270,  1.0855, -0.7834]],\n",
       "              \n",
       "                      [[ 0.0334,  0.5059,  0.4702,  0.5720],\n",
       "                       [ 0.8247, -0.5728,  0.4577, -0.0853],\n",
       "                       [ 2.5292, -0.7270,  1.0855, -0.7834]],\n",
       "              \n",
       "                      [[ 0.0334,  0.5059,  0.4702,  0.5720],\n",
       "                       [ 0.8247, -0.5728,  0.4577, -0.0853],\n",
       "                       [ 2.5292, -0.7270,  1.0855, -0.7834]],\n",
       "              \n",
       "                      [[ 0.0334,  0.5059,  0.4702,  0.5720],\n",
       "                       [ 0.8247, -0.5728,  0.4577, -0.0853],\n",
       "                       [ 2.5292, -0.7270,  1.0855, -0.7834]],\n",
       "              \n",
       "                      [[ 0.0334,  0.5059,  0.4702,  0.5720],\n",
       "                       [ 0.8247, -0.5728,  0.4577, -0.0853],\n",
       "                       [ 2.5292, -0.7270,  1.0855, -0.7834]],\n",
       "              \n",
       "                      [[ 0.0334,  0.5059,  0.4702,  0.5720],\n",
       "                       [ 0.8247, -0.5728,  0.4577, -0.0853],\n",
       "                       [ 2.5292, -0.7270,  1.0855, -0.7834]],\n",
       "              \n",
       "                      [[ 0.0334,  0.5059,  0.4702,  0.5720],\n",
       "                       [ 0.8247, -0.5728,  0.4577, -0.0853],\n",
       "                       [ 2.5292, -0.7270,  1.0855, -0.7834]],\n",
       "              \n",
       "                      [[ 0.0334,  0.5059,  0.4702,  0.5720],\n",
       "                       [ 0.8247, -0.5728,  0.4577, -0.0853],\n",
       "                       [ 2.5292, -0.7270,  1.0855, -0.7834]]]),\n",
       "       ),\n",
       "    a: tensor([[[-0.0665, -0.9558,  1.4624],\n",
       "                [ 0.8509,  0.3691, -0.1015]],\n",
       "       \n",
       "               [[-0.0665, -0.9558,  1.4624],\n",
       "                [ 0.8509,  0.3691, -0.1015]],\n",
       "       \n",
       "               [[-0.0665, -0.9558,  1.4624],\n",
       "                [ 0.8509,  0.3691, -0.1015]],\n",
       "       \n",
       "               [[-0.0665, -0.9558,  1.4624],\n",
       "                [ 0.8509,  0.3691, -0.1015]],\n",
       "       \n",
       "               [[-0.0665, -0.9558,  1.4624],\n",
       "                [ 0.8509,  0.3691, -0.1015]],\n",
       "       \n",
       "               [[-0.0665, -0.9558,  1.4624],\n",
       "                [ 0.8509,  0.3691, -0.1015]],\n",
       "       \n",
       "               [[-0.0665, -0.9558,  1.4624],\n",
       "                [ 0.8509,  0.3691, -0.1015]],\n",
       "       \n",
       "               [[-0.0665, -0.9558,  1.4624],\n",
       "                [ 0.8509,  0.3691, -0.1015]]]),\n",
       ")"
      ]
     },
     "execution_count": 25,
     "metadata": {},
     "output_type": "execute_result"
    }
   ],
   "source": [
    "batches = [Batch(**_TREE_DATA_2) for _ in range(8)]\n",
    "\n",
    "Batch.stack(batches)"
   ]
  },
  {
   "cell_type": "code",
   "execution_count": 26,
   "id": "ec9037a3",
   "metadata": {
    "execution": {
     "iopub.execute_input": "2023-03-06T17:15:38.977558Z",
     "iopub.status.busy": "2023-03-06T17:15:38.977043Z",
     "iopub.status.idle": "2023-03-06T17:15:45.350890Z",
     "shell.execute_reply": "2023-03-06T17:15:45.350207Z"
    }
   },
   "outputs": [
    {
     "name": "stdout",
     "output_type": "stream",
     "text": [
      "78.4 µs ± 103 ns per loop (mean ± std. dev. of 7 runs, 10,000 loops each)\n"
     ]
    }
   ],
   "source": [
    "%timeit Batch.stack(batches)"
   ]
  },
  {
   "cell_type": "code",
   "execution_count": 27,
   "id": "cb8ab77e",
   "metadata": {
    "execution": {
     "iopub.execute_input": "2023-03-06T17:15:45.354147Z",
     "iopub.status.busy": "2023-03-06T17:15:45.353632Z",
     "iopub.status.idle": "2023-03-06T17:15:45.361243Z",
     "shell.execute_reply": "2023-03-06T17:15:45.360643Z"
    }
   },
   "outputs": [
    {
     "data": {
      "text/plain": [
       "Batch(\n",
       "    x: Batch(\n",
       "           c: tensor([[ 0.0334,  0.5059,  0.4702,  0.5720],\n",
       "                      [ 0.8247, -0.5728,  0.4577, -0.0853],\n",
       "                      [ 2.5292, -0.7270,  1.0855, -0.7834],\n",
       "                      [ 0.0334,  0.5059,  0.4702,  0.5720],\n",
       "                      [ 0.8247, -0.5728,  0.4577, -0.0853],\n",
       "                      [ 2.5292, -0.7270,  1.0855, -0.7834],\n",
       "                      [ 0.0334,  0.5059,  0.4702,  0.5720],\n",
       "                      [ 0.8247, -0.5728,  0.4577, -0.0853],\n",
       "                      [ 2.5292, -0.7270,  1.0855, -0.7834],\n",
       "                      [ 0.0334,  0.5059,  0.4702,  0.5720],\n",
       "                      [ 0.8247, -0.5728,  0.4577, -0.0853],\n",
       "                      [ 2.5292, -0.7270,  1.0855, -0.7834],\n",
       "                      [ 0.0334,  0.5059,  0.4702,  0.5720],\n",
       "                      [ 0.8247, -0.5728,  0.4577, -0.0853],\n",
       "                      [ 2.5292, -0.7270,  1.0855, -0.7834],\n",
       "                      [ 0.0334,  0.5059,  0.4702,  0.5720],\n",
       "                      [ 0.8247, -0.5728,  0.4577, -0.0853],\n",
       "                      [ 2.5292, -0.7270,  1.0855, -0.7834],\n",
       "                      [ 0.0334,  0.5059,  0.4702,  0.5720],\n",
       "                      [ 0.8247, -0.5728,  0.4577, -0.0853],\n",
       "                      [ 2.5292, -0.7270,  1.0855, -0.7834],\n",
       "                      [ 0.0334,  0.5059,  0.4702,  0.5720],\n",
       "                      [ 0.8247, -0.5728,  0.4577, -0.0853],\n",
       "                      [ 2.5292, -0.7270,  1.0855, -0.7834]]),\n",
       "       ),\n",
       "    a: tensor([[-0.0665, -0.9558,  1.4624],\n",
       "               [ 0.8509,  0.3691, -0.1015],\n",
       "               [-0.0665, -0.9558,  1.4624],\n",
       "               [ 0.8509,  0.3691, -0.1015],\n",
       "               [-0.0665, -0.9558,  1.4624],\n",
       "               [ 0.8509,  0.3691, -0.1015],\n",
       "               [-0.0665, -0.9558,  1.4624],\n",
       "               [ 0.8509,  0.3691, -0.1015],\n",
       "               [-0.0665, -0.9558,  1.4624],\n",
       "               [ 0.8509,  0.3691, -0.1015],\n",
       "               [-0.0665, -0.9558,  1.4624],\n",
       "               [ 0.8509,  0.3691, -0.1015],\n",
       "               [-0.0665, -0.9558,  1.4624],\n",
       "               [ 0.8509,  0.3691, -0.1015],\n",
       "               [-0.0665, -0.9558,  1.4624],\n",
       "               [ 0.8509,  0.3691, -0.1015]]),\n",
       ")"
      ]
     },
     "execution_count": 27,
     "metadata": {},
     "output_type": "execute_result"
    }
   ],
   "source": [
    "Batch.cat(batches)"
   ]
  },
  {
   "cell_type": "code",
   "execution_count": 28,
   "id": "18dfb045",
   "metadata": {
    "execution": {
     "iopub.execute_input": "2023-03-06T17:15:45.363987Z",
     "iopub.status.busy": "2023-03-06T17:15:45.363657Z",
     "iopub.status.idle": "2023-03-06T17:15:56.922296Z",
     "shell.execute_reply": "2023-03-06T17:15:56.921586Z"
    }
   },
   "outputs": [
    {
     "name": "stdout",
     "output_type": "stream",
     "text": [
      "142 µs ± 229 ns per loop (mean ± std. dev. of 7 runs, 10,000 loops each)\n"
     ]
    }
   ],
   "source": [
    "%timeit Batch.cat(batches)"
   ]
  },
  {
   "cell_type": "code",
   "execution_count": 29,
   "id": "c6688e51",
   "metadata": {
    "execution": {
     "iopub.execute_input": "2023-03-06T17:15:56.925321Z",
     "iopub.status.busy": "2023-03-06T17:15:56.924793Z",
     "iopub.status.idle": "2023-03-06T17:15:59.397535Z",
     "shell.execute_reply": "2023-03-06T17:15:59.396855Z"
    }
   },
   "outputs": [
    {
     "name": "stdout",
     "output_type": "stream",
     "text": [
      "303 µs ± 1.5 µs per loop (mean ± std. dev. of 7 runs, 1,000 loops each)\n"
     ]
    }
   ],
   "source": [
    "batch = Batch({\n",
    "    'obs': torch.randn(8, 4, 84, 84),\n",
    "    'action': torch.randint(0, 6, size=(8, 1,)),\n",
    "    'reward': torch.rand(8, 1)}\n",
    ")\n",
    "\n",
    "%timeit list(Batch.split(batch, 1, shuffle=False, merge_last=True))"
   ]
  },
  {
   "cell_type": "code",
   "execution_count": null,
   "id": "2539fbd9",
   "metadata": {},
   "outputs": [],
   "source": []
  }
 ],
 "metadata": {
  "kernelspec": {
   "display_name": "Python 3 (ipykernel)",
   "language": "python",
   "name": "python3"
  },
  "language_info": {
   "codemirror_mode": {
    "name": "ipython",
    "version": 3
   },
   "file_extension": ".py",
   "mimetype": "text/x-python",
   "name": "python",
   "nbconvert_exporter": "python",
   "pygments_lexer": "ipython3",
   "version": "3.8.16"
  }
 },
 "nbformat": 4,
 "nbformat_minor": 5
}
