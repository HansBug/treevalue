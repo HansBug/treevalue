{
 "cells": [
  {
   "cell_type": "markdown",
   "id": "9d39d946",
   "metadata": {},
   "source": [
    "# Comparison Between TreeValue and Tianshou Batch"
   ]
  },
  {
   "cell_type": "markdown",
   "id": "3c6db2d4",
   "metadata": {},
   "source": [
    "In this section, we will take a look at the feature and performance of the [Tianshou Batch](https://github.com/thu-ml/tianshou) library, which is developed by Tsinghua Machine Learning Group."
   ]
  },
  {
   "cell_type": "markdown",
   "id": "069361b0",
   "metadata": {},
   "source": [
    "Before starting the comparison, let us define some thing."
   ]
  },
  {
   "cell_type": "code",
   "execution_count": 1,
   "id": "06fc8d26",
   "metadata": {
    "execution": {
     "iopub.execute_input": "2023-04-16T15:35:36.088850Z",
     "iopub.status.busy": "2023-04-16T15:35:36.088501Z",
     "iopub.status.idle": "2023-04-16T15:35:37.546547Z",
     "shell.execute_reply": "2023-04-16T15:35:37.545790Z"
    }
   },
   "outputs": [],
   "source": [
    "import torch \n",
    "\n",
    "_TREE_DATA_1 = {'a': 1, 'b': 2, 'x': {'c': 3, 'd': 4}}\n",
    "_TREE_DATA_2 = {\n",
    "    'a': torch.randn(2, 3), \n",
    "    'x': {\n",
    "        'c': torch.randn(3, 4)\n",
    "    },\n",
    "}\n",
    "_TREE_DATA_3 = {\n",
    "    'obs': torch.randn(4, 84, 84),\n",
    "    'action': torch.randint(0, 6, size=(1,)),\n",
    "    'reward': torch.rand(1),\n",
    "}"
   ]
  },
  {
   "cell_type": "markdown",
   "id": "83461b25",
   "metadata": {},
   "source": [
    "## Read and Write Operation"
   ]
  },
  {
   "cell_type": "markdown",
   "id": "067b3f73",
   "metadata": {},
   "source": [
    "Reading and writing are the two most common operations in the tree data structure based on the data model (TreeValue and Tianshou Batch both belong to this type), so this section will compare the reading and writing performance of these two libraries."
   ]
  },
  {
   "cell_type": "markdown",
   "id": "5d09a5b7",
   "metadata": {},
   "source": [
    "### TreeValue's Get and Set"
   ]
  },
  {
   "cell_type": "code",
   "execution_count": 2,
   "id": "9519c4bb",
   "metadata": {
    "execution": {
     "iopub.execute_input": "2023-04-16T15:35:37.550683Z",
     "iopub.status.busy": "2023-04-16T15:35:37.550106Z",
     "iopub.status.idle": "2023-04-16T15:35:37.841171Z",
     "shell.execute_reply": "2023-04-16T15:35:37.840380Z"
    }
   },
   "outputs": [],
   "source": [
    "from treevalue import FastTreeValue\n",
    "\n",
    "t = FastTreeValue(_TREE_DATA_2)"
   ]
  },
  {
   "cell_type": "code",
   "execution_count": 3,
   "id": "11c37677",
   "metadata": {
    "execution": {
     "iopub.execute_input": "2023-04-16T15:35:37.845835Z",
     "iopub.status.busy": "2023-04-16T15:35:37.845326Z",
     "iopub.status.idle": "2023-04-16T15:35:37.857763Z",
     "shell.execute_reply": "2023-04-16T15:35:37.857112Z"
    }
   },
   "outputs": [
    {
     "data": {
      "text/plain": [
       "<FastTreeValue 0x7feabf5d1e50>\n",
       "├── 'a' --> tensor([[ 1.5064, -0.2829,  0.6767],\n",
       "│                   [-0.4096,  0.6521, -1.0227]])\n",
       "└── 'x' --> <FastTreeValue 0x7feabf5d1d90>\n",
       "    └── 'c' --> tensor([[ 0.7473, -2.8169, -0.4367, -0.7934],\n",
       "                        [-0.4365,  0.1107,  0.5621, -1.7494],\n",
       "                        [ 1.1140,  0.1810, -0.0618,  0.1971]])"
      ]
     },
     "execution_count": 3,
     "metadata": {},
     "output_type": "execute_result"
    }
   ],
   "source": [
    "t"
   ]
  },
  {
   "cell_type": "code",
   "execution_count": 4,
   "id": "fd70b0b9",
   "metadata": {
    "execution": {
     "iopub.execute_input": "2023-04-16T15:35:37.861115Z",
     "iopub.status.busy": "2023-04-16T15:35:37.860557Z",
     "iopub.status.idle": "2023-04-16T15:35:37.865786Z",
     "shell.execute_reply": "2023-04-16T15:35:37.865079Z"
    }
   },
   "outputs": [
    {
     "data": {
      "text/plain": [
       "tensor([[ 1.5064, -0.2829,  0.6767],\n",
       "        [-0.4096,  0.6521, -1.0227]])"
      ]
     },
     "execution_count": 4,
     "metadata": {},
     "output_type": "execute_result"
    }
   ],
   "source": [
    "t.a"
   ]
  },
  {
   "cell_type": "code",
   "execution_count": 5,
   "id": "c18197bd",
   "metadata": {
    "execution": {
     "iopub.execute_input": "2023-04-16T15:35:37.869418Z",
     "iopub.status.busy": "2023-04-16T15:35:37.868856Z",
     "iopub.status.idle": "2023-04-16T15:35:43.106294Z",
     "shell.execute_reply": "2023-04-16T15:35:43.104635Z"
    }
   },
   "outputs": [
    {
     "name": "stdout",
     "output_type": "stream",
     "text": [
      "64.5 ns ± 0.121 ns per loop (mean ± std. dev. of 7 runs, 10,000,000 loops each)\n"
     ]
    }
   ],
   "source": [
    "%timeit t.a"
   ]
  },
  {
   "cell_type": "code",
   "execution_count": 6,
   "id": "bd52f867",
   "metadata": {
    "execution": {
     "iopub.execute_input": "2023-04-16T15:35:43.109680Z",
     "iopub.status.busy": "2023-04-16T15:35:43.109336Z",
     "iopub.status.idle": "2023-04-16T15:35:43.115784Z",
     "shell.execute_reply": "2023-04-16T15:35:43.115091Z"
    }
   },
   "outputs": [
    {
     "data": {
      "text/plain": [
       "<FastTreeValue 0x7feabf5d1e50>\n",
       "├── 'a' --> tensor([[-0.6853,  0.6401,  0.4658],\n",
       "│                   [-0.8924, -2.1941, -1.1128]])\n",
       "└── 'x' --> <FastTreeValue 0x7feabf5d1d90>\n",
       "    └── 'c' --> tensor([[ 0.7473, -2.8169, -0.4367, -0.7934],\n",
       "                        [-0.4365,  0.1107,  0.5621, -1.7494],\n",
       "                        [ 1.1140,  0.1810, -0.0618,  0.1971]])"
      ]
     },
     "execution_count": 6,
     "metadata": {},
     "output_type": "execute_result"
    }
   ],
   "source": [
    "new_value = torch.randn(2, 3)\n",
    "t.a = new_value\n",
    "\n",
    "t"
   ]
  },
  {
   "cell_type": "code",
   "execution_count": 7,
   "id": "bbe04d1c",
   "metadata": {
    "execution": {
     "iopub.execute_input": "2023-04-16T15:35:43.118734Z",
     "iopub.status.busy": "2023-04-16T15:35:43.118366Z",
     "iopub.status.idle": "2023-04-16T15:35:48.652228Z",
     "shell.execute_reply": "2023-04-16T15:35:48.651335Z"
    }
   },
   "outputs": [
    {
     "name": "stdout",
     "output_type": "stream",
     "text": [
      "68.1 ns ± 0.0699 ns per loop (mean ± std. dev. of 7 runs, 10,000,000 loops each)\n"
     ]
    }
   ],
   "source": [
    "%timeit t.a = new_value"
   ]
  },
  {
   "cell_type": "markdown",
   "id": "48c49731",
   "metadata": {},
   "source": [
    "### Tianshou Batch's Get and Set"
   ]
  },
  {
   "cell_type": "code",
   "execution_count": 8,
   "id": "f1bb14c1",
   "metadata": {
    "execution": {
     "iopub.execute_input": "2023-04-16T15:35:48.656575Z",
     "iopub.status.busy": "2023-04-16T15:35:48.655811Z",
     "iopub.status.idle": "2023-04-16T15:35:49.071566Z",
     "shell.execute_reply": "2023-04-16T15:35:49.070694Z"
    }
   },
   "outputs": [],
   "source": [
    "from tianshou.data import Batch\n",
    "\n",
    "b = Batch(**_TREE_DATA_2)"
   ]
  },
  {
   "cell_type": "code",
   "execution_count": 9,
   "id": "cb0777c3",
   "metadata": {
    "execution": {
     "iopub.execute_input": "2023-04-16T15:35:49.076045Z",
     "iopub.status.busy": "2023-04-16T15:35:49.075270Z",
     "iopub.status.idle": "2023-04-16T15:35:49.083656Z",
     "shell.execute_reply": "2023-04-16T15:35:49.082970Z"
    }
   },
   "outputs": [
    {
     "data": {
      "text/plain": [
       "Batch(\n",
       "    a: tensor([[ 1.5064, -0.2829,  0.6767],\n",
       "               [-0.4096,  0.6521, -1.0227]]),\n",
       "    x: Batch(\n",
       "           c: tensor([[ 0.7473, -2.8169, -0.4367, -0.7934],\n",
       "                      [-0.4365,  0.1107,  0.5621, -1.7494],\n",
       "                      [ 1.1140,  0.1810, -0.0618,  0.1971]]),\n",
       "       ),\n",
       ")"
      ]
     },
     "execution_count": 9,
     "metadata": {},
     "output_type": "execute_result"
    }
   ],
   "source": [
    "b"
   ]
  },
  {
   "cell_type": "code",
   "execution_count": 10,
   "id": "43ef8ea3",
   "metadata": {
    "execution": {
     "iopub.execute_input": "2023-04-16T15:35:49.086899Z",
     "iopub.status.busy": "2023-04-16T15:35:49.086497Z",
     "iopub.status.idle": "2023-04-16T15:35:49.091460Z",
     "shell.execute_reply": "2023-04-16T15:35:49.090789Z"
    }
   },
   "outputs": [
    {
     "data": {
      "text/plain": [
       "tensor([[ 1.5064, -0.2829,  0.6767],\n",
       "        [-0.4096,  0.6521, -1.0227]])"
      ]
     },
     "execution_count": 10,
     "metadata": {},
     "output_type": "execute_result"
    }
   ],
   "source": [
    "b.a"
   ]
  },
  {
   "cell_type": "code",
   "execution_count": 11,
   "id": "b785ab72",
   "metadata": {
    "execution": {
     "iopub.execute_input": "2023-04-16T15:35:49.094643Z",
     "iopub.status.busy": "2023-04-16T15:35:49.094091Z",
     "iopub.status.idle": "2023-04-16T15:35:54.095212Z",
     "shell.execute_reply": "2023-04-16T15:35:54.094242Z"
    }
   },
   "outputs": [
    {
     "name": "stdout",
     "output_type": "stream",
     "text": [
      "61.8 ns ± 0.0288 ns per loop (mean ± std. dev. of 7 runs, 10,000,000 loops each)\n"
     ]
    }
   ],
   "source": [
    "%timeit b.a"
   ]
  },
  {
   "cell_type": "code",
   "execution_count": 12,
   "id": "ad54dc69",
   "metadata": {
    "execution": {
     "iopub.execute_input": "2023-04-16T15:35:54.099317Z",
     "iopub.status.busy": "2023-04-16T15:35:54.098681Z",
     "iopub.status.idle": "2023-04-16T15:35:54.105843Z",
     "shell.execute_reply": "2023-04-16T15:35:54.105239Z"
    }
   },
   "outputs": [
    {
     "data": {
      "text/plain": [
       "Batch(\n",
       "    a: tensor([[-0.7038,  2.0007,  0.9016],\n",
       "               [-0.7546,  0.2639, -0.0226]]),\n",
       "    x: Batch(\n",
       "           c: tensor([[ 0.7473, -2.8169, -0.4367, -0.7934],\n",
       "                      [-0.4365,  0.1107,  0.5621, -1.7494],\n",
       "                      [ 1.1140,  0.1810, -0.0618,  0.1971]]),\n",
       "       ),\n",
       ")"
      ]
     },
     "execution_count": 12,
     "metadata": {},
     "output_type": "execute_result"
    }
   ],
   "source": [
    "new_value = torch.randn(2, 3)\n",
    "b.a = new_value\n",
    "\n",
    "b"
   ]
  },
  {
   "cell_type": "code",
   "execution_count": 13,
   "id": "29b1d0bf",
   "metadata": {
    "execution": {
     "iopub.execute_input": "2023-04-16T15:35:54.108809Z",
     "iopub.status.busy": "2023-04-16T15:35:54.108356Z",
     "iopub.status.idle": "2023-04-16T15:35:58.096348Z",
     "shell.execute_reply": "2023-04-16T15:35:58.095484Z"
    }
   },
   "outputs": [
    {
     "name": "stdout",
     "output_type": "stream",
     "text": [
      "490 ns ± 0.119 ns per loop (mean ± std. dev. of 7 runs, 1,000,000 loops each)\n"
     ]
    }
   ],
   "source": [
    "%timeit b.a = new_value"
   ]
  },
  {
   "cell_type": "markdown",
   "id": "b61ad1d0",
   "metadata": {},
   "source": [
    "## Initialization"
   ]
  },
  {
   "cell_type": "markdown",
   "id": "d70f0d54",
   "metadata": {},
   "source": [
    "### TreeValue's Initialization"
   ]
  },
  {
   "cell_type": "code",
   "execution_count": 14,
   "id": "d32a679b",
   "metadata": {
    "execution": {
     "iopub.execute_input": "2023-04-16T15:35:58.100265Z",
     "iopub.status.busy": "2023-04-16T15:35:58.099747Z",
     "iopub.status.idle": "2023-04-16T15:36:04.674170Z",
     "shell.execute_reply": "2023-04-16T15:36:04.673345Z"
    }
   },
   "outputs": [
    {
     "name": "stdout",
     "output_type": "stream",
     "text": [
      "810 ns ± 0.147 ns per loop (mean ± std. dev. of 7 runs, 1,000,000 loops each)\n"
     ]
    }
   ],
   "source": [
    "%timeit FastTreeValue(_TREE_DATA_1)"
   ]
  },
  {
   "cell_type": "markdown",
   "id": "24f3707b",
   "metadata": {},
   "source": [
    "### Tianshou Batch's Initialization"
   ]
  },
  {
   "cell_type": "code",
   "execution_count": 15,
   "id": "ac3958df",
   "metadata": {
    "execution": {
     "iopub.execute_input": "2023-04-16T15:36:04.677923Z",
     "iopub.status.busy": "2023-04-16T15:36:04.677476Z",
     "iopub.status.idle": "2023-04-16T15:36:13.375656Z",
     "shell.execute_reply": "2023-04-16T15:36:13.374914Z"
    }
   },
   "outputs": [
    {
     "name": "stdout",
     "output_type": "stream",
     "text": [
      "10.7 µs ± 18 ns per loop (mean ± std. dev. of 7 runs, 100,000 loops each)\n"
     ]
    }
   ],
   "source": [
    "%timeit Batch(**_TREE_DATA_1)"
   ]
  },
  {
   "cell_type": "markdown",
   "id": "1ab82e2d",
   "metadata": {},
   "source": [
    "## Deep Copy Operation"
   ]
  },
  {
   "cell_type": "code",
   "execution_count": 16,
   "id": "210a9442",
   "metadata": {
    "execution": {
     "iopub.execute_input": "2023-04-16T15:36:13.379012Z",
     "iopub.status.busy": "2023-04-16T15:36:13.378593Z",
     "iopub.status.idle": "2023-04-16T15:36:13.381802Z",
     "shell.execute_reply": "2023-04-16T15:36:13.381253Z"
    }
   },
   "outputs": [],
   "source": [
    "import copy"
   ]
  },
  {
   "cell_type": "markdown",
   "id": "5a736274",
   "metadata": {},
   "source": [
    "### Deep Copy of TreeValue"
   ]
  },
  {
   "cell_type": "code",
   "execution_count": 17,
   "id": "f9bcadd6",
   "metadata": {
    "execution": {
     "iopub.execute_input": "2023-04-16T15:36:13.385199Z",
     "iopub.status.busy": "2023-04-16T15:36:13.384646Z",
     "iopub.status.idle": "2023-04-16T15:36:25.009634Z",
     "shell.execute_reply": "2023-04-16T15:36:25.008988Z"
    }
   },
   "outputs": [
    {
     "name": "stdout",
     "output_type": "stream",
     "text": [
      "143 µs ± 561 ns per loop (mean ± std. dev. of 7 runs, 10,000 loops each)\n"
     ]
    }
   ],
   "source": [
    "t3 = FastTreeValue(_TREE_DATA_3)\n",
    "%timeit copy.deepcopy(t3)"
   ]
  },
  {
   "cell_type": "markdown",
   "id": "bf8be7ea",
   "metadata": {},
   "source": [
    "### Deep Copy of Tianshou Batch"
   ]
  },
  {
   "cell_type": "code",
   "execution_count": 18,
   "id": "91998e6f",
   "metadata": {
    "execution": {
     "iopub.execute_input": "2023-04-16T15:36:25.013013Z",
     "iopub.status.busy": "2023-04-16T15:36:25.012500Z",
     "iopub.status.idle": "2023-04-16T15:36:36.559653Z",
     "shell.execute_reply": "2023-04-16T15:36:36.558782Z"
    }
   },
   "outputs": [
    {
     "name": "stdout",
     "output_type": "stream",
     "text": [
      "142 µs ± 703 ns per loop (mean ± std. dev. of 7 runs, 10,000 loops each)\n"
     ]
    }
   ],
   "source": [
    "b3 = Batch(**_TREE_DATA_3)\n",
    "%timeit copy.deepcopy(b3)"
   ]
  },
  {
   "cell_type": "markdown",
   "id": "223162fb",
   "metadata": {},
   "source": [
    "## Stack, Concat and Split Operation"
   ]
  },
  {
   "cell_type": "markdown",
   "id": "85fa4a73",
   "metadata": {},
   "source": [
    "### Performance of TreeValue"
   ]
  },
  {
   "cell_type": "code",
   "execution_count": 19,
   "id": "a0c2b697",
   "metadata": {
    "execution": {
     "iopub.execute_input": "2023-04-16T15:36:36.563778Z",
     "iopub.status.busy": "2023-04-16T15:36:36.563346Z",
     "iopub.status.idle": "2023-04-16T15:36:36.568769Z",
     "shell.execute_reply": "2023-04-16T15:36:36.568109Z"
    }
   },
   "outputs": [],
   "source": [
    "trees = [FastTreeValue(_TREE_DATA_2) for _ in range(8)]"
   ]
  },
  {
   "cell_type": "code",
   "execution_count": 20,
   "id": "017ea5a5",
   "metadata": {
    "execution": {
     "iopub.execute_input": "2023-04-16T15:36:36.572108Z",
     "iopub.status.busy": "2023-04-16T15:36:36.571642Z",
     "iopub.status.idle": "2023-04-16T15:36:36.579619Z",
     "shell.execute_reply": "2023-04-16T15:36:36.578911Z"
    }
   },
   "outputs": [
    {
     "data": {
      "text/plain": [
       "<FastTreeValue 0x7feabc4e3be0>\n",
       "├── 'a' --> tensor([[[ 1.5064, -0.2829,  0.6767],\n",
       "│                    [-0.4096,  0.6521, -1.0227]],\n",
       "│           \n",
       "│                   [[ 1.5064, -0.2829,  0.6767],\n",
       "│                    [-0.4096,  0.6521, -1.0227]],\n",
       "│           \n",
       "│                   [[ 1.5064, -0.2829,  0.6767],\n",
       "│                    [-0.4096,  0.6521, -1.0227]],\n",
       "│           \n",
       "│                   [[ 1.5064, -0.2829,  0.6767],\n",
       "│                    [-0.4096,  0.6521, -1.0227]],\n",
       "│           \n",
       "│                   [[ 1.5064, -0.2829,  0.6767],\n",
       "│                    [-0.4096,  0.6521, -1.0227]],\n",
       "│           \n",
       "│                   [[ 1.5064, -0.2829,  0.6767],\n",
       "│                    [-0.4096,  0.6521, -1.0227]],\n",
       "│           \n",
       "│                   [[ 1.5064, -0.2829,  0.6767],\n",
       "│                    [-0.4096,  0.6521, -1.0227]],\n",
       "│           \n",
       "│                   [[ 1.5064, -0.2829,  0.6767],\n",
       "│                    [-0.4096,  0.6521, -1.0227]]])\n",
       "└── 'x' --> <FastTreeValue 0x7feab41e85b0>\n",
       "    └── 'c' --> tensor([[[ 0.7473, -2.8169, -0.4367, -0.7934],\n",
       "                         [-0.4365,  0.1107,  0.5621, -1.7494],\n",
       "                         [ 1.1140,  0.1810, -0.0618,  0.1971]],\n",
       "                \n",
       "                        [[ 0.7473, -2.8169, -0.4367, -0.7934],\n",
       "                         [-0.4365,  0.1107,  0.5621, -1.7494],\n",
       "                         [ 1.1140,  0.1810, -0.0618,  0.1971]],\n",
       "                \n",
       "                        [[ 0.7473, -2.8169, -0.4367, -0.7934],\n",
       "                         [-0.4365,  0.1107,  0.5621, -1.7494],\n",
       "                         [ 1.1140,  0.1810, -0.0618,  0.1971]],\n",
       "                \n",
       "                        [[ 0.7473, -2.8169, -0.4367, -0.7934],\n",
       "                         [-0.4365,  0.1107,  0.5621, -1.7494],\n",
       "                         [ 1.1140,  0.1810, -0.0618,  0.1971]],\n",
       "                \n",
       "                        [[ 0.7473, -2.8169, -0.4367, -0.7934],\n",
       "                         [-0.4365,  0.1107,  0.5621, -1.7494],\n",
       "                         [ 1.1140,  0.1810, -0.0618,  0.1971]],\n",
       "                \n",
       "                        [[ 0.7473, -2.8169, -0.4367, -0.7934],\n",
       "                         [-0.4365,  0.1107,  0.5621, -1.7494],\n",
       "                         [ 1.1140,  0.1810, -0.0618,  0.1971]],\n",
       "                \n",
       "                        [[ 0.7473, -2.8169, -0.4367, -0.7934],\n",
       "                         [-0.4365,  0.1107,  0.5621, -1.7494],\n",
       "                         [ 1.1140,  0.1810, -0.0618,  0.1971]],\n",
       "                \n",
       "                        [[ 0.7473, -2.8169, -0.4367, -0.7934],\n",
       "                         [-0.4365,  0.1107,  0.5621, -1.7494],\n",
       "                         [ 1.1140,  0.1810, -0.0618,  0.1971]]])"
      ]
     },
     "execution_count": 20,
     "metadata": {},
     "output_type": "execute_result"
    }
   ],
   "source": [
    "t_stack = FastTreeValue.func(subside=True)(torch.stack)\n",
    "\n",
    "t_stack(trees)"
   ]
  },
  {
   "cell_type": "code",
   "execution_count": 21,
   "id": "f8b3f415",
   "metadata": {
    "execution": {
     "iopub.execute_input": "2023-04-16T15:36:36.582993Z",
     "iopub.status.busy": "2023-04-16T15:36:36.582435Z",
     "iopub.status.idle": "2023-04-16T15:36:39.273193Z",
     "shell.execute_reply": "2023-04-16T15:36:39.272446Z"
    }
   },
   "outputs": [
    {
     "name": "stdout",
     "output_type": "stream",
     "text": [
      "33.1 µs ± 99.9 ns per loop (mean ± std. dev. of 7 runs, 10,000 loops each)\n"
     ]
    }
   ],
   "source": [
    "%timeit t_stack(trees)"
   ]
  },
  {
   "cell_type": "code",
   "execution_count": 22,
   "id": "94b56771",
   "metadata": {
    "execution": {
     "iopub.execute_input": "2023-04-16T15:36:39.276769Z",
     "iopub.status.busy": "2023-04-16T15:36:39.276260Z",
     "iopub.status.idle": "2023-04-16T15:36:39.284088Z",
     "shell.execute_reply": "2023-04-16T15:36:39.283380Z"
    }
   },
   "outputs": [
    {
     "data": {
      "text/plain": [
       "<FastTreeValue 0x7fe9e6ce8130>\n",
       "├── 'a' --> tensor([[ 1.5064, -0.2829,  0.6767],\n",
       "│                   [-0.4096,  0.6521, -1.0227],\n",
       "│                   [ 1.5064, -0.2829,  0.6767],\n",
       "│                   [-0.4096,  0.6521, -1.0227],\n",
       "│                   [ 1.5064, -0.2829,  0.6767],\n",
       "│                   [-0.4096,  0.6521, -1.0227],\n",
       "│                   [ 1.5064, -0.2829,  0.6767],\n",
       "│                   [-0.4096,  0.6521, -1.0227],\n",
       "│                   [ 1.5064, -0.2829,  0.6767],\n",
       "│                   [-0.4096,  0.6521, -1.0227],\n",
       "│                   [ 1.5064, -0.2829,  0.6767],\n",
       "│                   [-0.4096,  0.6521, -1.0227],\n",
       "│                   [ 1.5064, -0.2829,  0.6767],\n",
       "│                   [-0.4096,  0.6521, -1.0227],\n",
       "│                   [ 1.5064, -0.2829,  0.6767],\n",
       "│                   [-0.4096,  0.6521, -1.0227]])\n",
       "└── 'x' --> <FastTreeValue 0x7feabc4a0be0>\n",
       "    └── 'c' --> tensor([[ 0.7473, -2.8169, -0.4367, -0.7934],\n",
       "                        [-0.4365,  0.1107,  0.5621, -1.7494],\n",
       "                        [ 1.1140,  0.1810, -0.0618,  0.1971],\n",
       "                        [ 0.7473, -2.8169, -0.4367, -0.7934],\n",
       "                        [-0.4365,  0.1107,  0.5621, -1.7494],\n",
       "                        [ 1.1140,  0.1810, -0.0618,  0.1971],\n",
       "                        [ 0.7473, -2.8169, -0.4367, -0.7934],\n",
       "                        [-0.4365,  0.1107,  0.5621, -1.7494],\n",
       "                        [ 1.1140,  0.1810, -0.0618,  0.1971],\n",
       "                        [ 0.7473, -2.8169, -0.4367, -0.7934],\n",
       "                        [-0.4365,  0.1107,  0.5621, -1.7494],\n",
       "                        [ 1.1140,  0.1810, -0.0618,  0.1971],\n",
       "                        [ 0.7473, -2.8169, -0.4367, -0.7934],\n",
       "                        [-0.4365,  0.1107,  0.5621, -1.7494],\n",
       "                        [ 1.1140,  0.1810, -0.0618,  0.1971],\n",
       "                        [ 0.7473, -2.8169, -0.4367, -0.7934],\n",
       "                        [-0.4365,  0.1107,  0.5621, -1.7494],\n",
       "                        [ 1.1140,  0.1810, -0.0618,  0.1971],\n",
       "                        [ 0.7473, -2.8169, -0.4367, -0.7934],\n",
       "                        [-0.4365,  0.1107,  0.5621, -1.7494],\n",
       "                        [ 1.1140,  0.1810, -0.0618,  0.1971],\n",
       "                        [ 0.7473, -2.8169, -0.4367, -0.7934],\n",
       "                        [-0.4365,  0.1107,  0.5621, -1.7494],\n",
       "                        [ 1.1140,  0.1810, -0.0618,  0.1971]])"
      ]
     },
     "execution_count": 22,
     "metadata": {},
     "output_type": "execute_result"
    }
   ],
   "source": [
    "t_cat = FastTreeValue.func(subside=True)(torch.cat)\n",
    "\n",
    "t_cat(trees)"
   ]
  },
  {
   "cell_type": "code",
   "execution_count": 23,
   "id": "5e9c06a6",
   "metadata": {
    "execution": {
     "iopub.execute_input": "2023-04-16T15:36:39.287154Z",
     "iopub.status.busy": "2023-04-16T15:36:39.286752Z",
     "iopub.status.idle": "2023-04-16T15:36:41.769162Z",
     "shell.execute_reply": "2023-04-16T15:36:41.768381Z"
    }
   },
   "outputs": [
    {
     "name": "stdout",
     "output_type": "stream",
     "text": [
      "30.5 µs ± 39.6 ns per loop (mean ± std. dev. of 7 runs, 10,000 loops each)\n"
     ]
    }
   ],
   "source": [
    "%timeit t_cat(trees)"
   ]
  },
  {
   "cell_type": "code",
   "execution_count": 24,
   "id": "a3ab5c8f",
   "metadata": {
    "execution": {
     "iopub.execute_input": "2023-04-16T15:36:41.773025Z",
     "iopub.status.busy": "2023-04-16T15:36:41.772422Z",
     "iopub.status.idle": "2023-04-16T15:36:47.151905Z",
     "shell.execute_reply": "2023-04-16T15:36:47.150999Z"
    }
   },
   "outputs": [
    {
     "name": "stdout",
     "output_type": "stream",
     "text": [
      "66.1 µs ± 86.7 ns per loop (mean ± std. dev. of 7 runs, 10,000 loops each)\n"
     ]
    }
   ],
   "source": [
    "t_split = FastTreeValue.func(rise=True)(torch.split)\n",
    "tree = FastTreeValue({\n",
    "    'obs': torch.randn(8, 4, 84, 84),\n",
    "    'action': torch.randint(0, 6, size=(8, 1,)),\n",
    "    'reward': torch.rand(8, 1),\n",
    "})\n",
    "\n",
    "%timeit t_split(tree, 1)"
   ]
  },
  {
   "cell_type": "markdown",
   "id": "31c3ec0b",
   "metadata": {},
   "source": [
    "### Performance of Tianshou Batch"
   ]
  },
  {
   "cell_type": "code",
   "execution_count": 25,
   "id": "9ead828a",
   "metadata": {
    "execution": {
     "iopub.execute_input": "2023-04-16T15:36:47.155944Z",
     "iopub.status.busy": "2023-04-16T15:36:47.155424Z",
     "iopub.status.idle": "2023-04-16T15:36:47.164367Z",
     "shell.execute_reply": "2023-04-16T15:36:47.163749Z"
    }
   },
   "outputs": [
    {
     "data": {
      "text/plain": [
       "Batch(\n",
       "    x: Batch(\n",
       "           c: tensor([[[ 0.7473, -2.8169, -0.4367, -0.7934],\n",
       "                       [-0.4365,  0.1107,  0.5621, -1.7494],\n",
       "                       [ 1.1140,  0.1810, -0.0618,  0.1971]],\n",
       "              \n",
       "                      [[ 0.7473, -2.8169, -0.4367, -0.7934],\n",
       "                       [-0.4365,  0.1107,  0.5621, -1.7494],\n",
       "                       [ 1.1140,  0.1810, -0.0618,  0.1971]],\n",
       "              \n",
       "                      [[ 0.7473, -2.8169, -0.4367, -0.7934],\n",
       "                       [-0.4365,  0.1107,  0.5621, -1.7494],\n",
       "                       [ 1.1140,  0.1810, -0.0618,  0.1971]],\n",
       "              \n",
       "                      [[ 0.7473, -2.8169, -0.4367, -0.7934],\n",
       "                       [-0.4365,  0.1107,  0.5621, -1.7494],\n",
       "                       [ 1.1140,  0.1810, -0.0618,  0.1971]],\n",
       "              \n",
       "                      [[ 0.7473, -2.8169, -0.4367, -0.7934],\n",
       "                       [-0.4365,  0.1107,  0.5621, -1.7494],\n",
       "                       [ 1.1140,  0.1810, -0.0618,  0.1971]],\n",
       "              \n",
       "                      [[ 0.7473, -2.8169, -0.4367, -0.7934],\n",
       "                       [-0.4365,  0.1107,  0.5621, -1.7494],\n",
       "                       [ 1.1140,  0.1810, -0.0618,  0.1971]],\n",
       "              \n",
       "                      [[ 0.7473, -2.8169, -0.4367, -0.7934],\n",
       "                       [-0.4365,  0.1107,  0.5621, -1.7494],\n",
       "                       [ 1.1140,  0.1810, -0.0618,  0.1971]],\n",
       "              \n",
       "                      [[ 0.7473, -2.8169, -0.4367, -0.7934],\n",
       "                       [-0.4365,  0.1107,  0.5621, -1.7494],\n",
       "                       [ 1.1140,  0.1810, -0.0618,  0.1971]]]),\n",
       "       ),\n",
       "    a: tensor([[[ 1.5064, -0.2829,  0.6767],\n",
       "                [-0.4096,  0.6521, -1.0227]],\n",
       "       \n",
       "               [[ 1.5064, -0.2829,  0.6767],\n",
       "                [-0.4096,  0.6521, -1.0227]],\n",
       "       \n",
       "               [[ 1.5064, -0.2829,  0.6767],\n",
       "                [-0.4096,  0.6521, -1.0227]],\n",
       "       \n",
       "               [[ 1.5064, -0.2829,  0.6767],\n",
       "                [-0.4096,  0.6521, -1.0227]],\n",
       "       \n",
       "               [[ 1.5064, -0.2829,  0.6767],\n",
       "                [-0.4096,  0.6521, -1.0227]],\n",
       "       \n",
       "               [[ 1.5064, -0.2829,  0.6767],\n",
       "                [-0.4096,  0.6521, -1.0227]],\n",
       "       \n",
       "               [[ 1.5064, -0.2829,  0.6767],\n",
       "                [-0.4096,  0.6521, -1.0227]],\n",
       "       \n",
       "               [[ 1.5064, -0.2829,  0.6767],\n",
       "                [-0.4096,  0.6521, -1.0227]]]),\n",
       ")"
      ]
     },
     "execution_count": 25,
     "metadata": {},
     "output_type": "execute_result"
    }
   ],
   "source": [
    "batches = [Batch(**_TREE_DATA_2) for _ in range(8)]\n",
    "\n",
    "Batch.stack(batches)"
   ]
  },
  {
   "cell_type": "code",
   "execution_count": 26,
   "id": "ec9037a3",
   "metadata": {
    "execution": {
     "iopub.execute_input": "2023-04-16T15:36:47.167509Z",
     "iopub.status.busy": "2023-04-16T15:36:47.167069Z",
     "iopub.status.idle": "2023-04-16T15:36:53.546089Z",
     "shell.execute_reply": "2023-04-16T15:36:53.545329Z"
    }
   },
   "outputs": [
    {
     "name": "stdout",
     "output_type": "stream",
     "text": [
      "78.5 µs ± 191 ns per loop (mean ± std. dev. of 7 runs, 10,000 loops each)\n"
     ]
    }
   ],
   "source": [
    "%timeit Batch.stack(batches)"
   ]
  },
  {
   "cell_type": "code",
   "execution_count": 27,
   "id": "cb8ab77e",
   "metadata": {
    "execution": {
     "iopub.execute_input": "2023-04-16T15:36:53.550191Z",
     "iopub.status.busy": "2023-04-16T15:36:53.549386Z",
     "iopub.status.idle": "2023-04-16T15:36:53.557248Z",
     "shell.execute_reply": "2023-04-16T15:36:53.556502Z"
    }
   },
   "outputs": [
    {
     "data": {
      "text/plain": [
       "Batch(\n",
       "    x: Batch(\n",
       "           c: tensor([[ 0.7473, -2.8169, -0.4367, -0.7934],\n",
       "                      [-0.4365,  0.1107,  0.5621, -1.7494],\n",
       "                      [ 1.1140,  0.1810, -0.0618,  0.1971],\n",
       "                      [ 0.7473, -2.8169, -0.4367, -0.7934],\n",
       "                      [-0.4365,  0.1107,  0.5621, -1.7494],\n",
       "                      [ 1.1140,  0.1810, -0.0618,  0.1971],\n",
       "                      [ 0.7473, -2.8169, -0.4367, -0.7934],\n",
       "                      [-0.4365,  0.1107,  0.5621, -1.7494],\n",
       "                      [ 1.1140,  0.1810, -0.0618,  0.1971],\n",
       "                      [ 0.7473, -2.8169, -0.4367, -0.7934],\n",
       "                      [-0.4365,  0.1107,  0.5621, -1.7494],\n",
       "                      [ 1.1140,  0.1810, -0.0618,  0.1971],\n",
       "                      [ 0.7473, -2.8169, -0.4367, -0.7934],\n",
       "                      [-0.4365,  0.1107,  0.5621, -1.7494],\n",
       "                      [ 1.1140,  0.1810, -0.0618,  0.1971],\n",
       "                      [ 0.7473, -2.8169, -0.4367, -0.7934],\n",
       "                      [-0.4365,  0.1107,  0.5621, -1.7494],\n",
       "                      [ 1.1140,  0.1810, -0.0618,  0.1971],\n",
       "                      [ 0.7473, -2.8169, -0.4367, -0.7934],\n",
       "                      [-0.4365,  0.1107,  0.5621, -1.7494],\n",
       "                      [ 1.1140,  0.1810, -0.0618,  0.1971],\n",
       "                      [ 0.7473, -2.8169, -0.4367, -0.7934],\n",
       "                      [-0.4365,  0.1107,  0.5621, -1.7494],\n",
       "                      [ 1.1140,  0.1810, -0.0618,  0.1971]]),\n",
       "       ),\n",
       "    a: tensor([[ 1.5064, -0.2829,  0.6767],\n",
       "               [-0.4096,  0.6521, -1.0227],\n",
       "               [ 1.5064, -0.2829,  0.6767],\n",
       "               [-0.4096,  0.6521, -1.0227],\n",
       "               [ 1.5064, -0.2829,  0.6767],\n",
       "               [-0.4096,  0.6521, -1.0227],\n",
       "               [ 1.5064, -0.2829,  0.6767],\n",
       "               [-0.4096,  0.6521, -1.0227],\n",
       "               [ 1.5064, -0.2829,  0.6767],\n",
       "               [-0.4096,  0.6521, -1.0227],\n",
       "               [ 1.5064, -0.2829,  0.6767],\n",
       "               [-0.4096,  0.6521, -1.0227],\n",
       "               [ 1.5064, -0.2829,  0.6767],\n",
       "               [-0.4096,  0.6521, -1.0227],\n",
       "               [ 1.5064, -0.2829,  0.6767],\n",
       "               [-0.4096,  0.6521, -1.0227]]),\n",
       ")"
      ]
     },
     "execution_count": 27,
     "metadata": {},
     "output_type": "execute_result"
    }
   ],
   "source": [
    "Batch.cat(batches)"
   ]
  },
  {
   "cell_type": "code",
   "execution_count": 28,
   "id": "18dfb045",
   "metadata": {
    "execution": {
     "iopub.execute_input": "2023-04-16T15:36:53.560558Z",
     "iopub.status.busy": "2023-04-16T15:36:53.560158Z",
     "iopub.status.idle": "2023-04-16T15:37:05.439468Z",
     "shell.execute_reply": "2023-04-16T15:37:05.438703Z"
    }
   },
   "outputs": [
    {
     "name": "stdout",
     "output_type": "stream",
     "text": [
      "146 µs ± 556 ns per loop (mean ± std. dev. of 7 runs, 10,000 loops each)\n"
     ]
    }
   ],
   "source": [
    "%timeit Batch.cat(batches)"
   ]
  },
  {
   "cell_type": "code",
   "execution_count": 29,
   "id": "c6688e51",
   "metadata": {
    "execution": {
     "iopub.execute_input": "2023-04-16T15:37:05.443047Z",
     "iopub.status.busy": "2023-04-16T15:37:05.442409Z",
     "iopub.status.idle": "2023-04-16T15:37:08.203482Z",
     "shell.execute_reply": "2023-04-16T15:37:08.202815Z"
    }
   },
   "outputs": [
    {
     "name": "stdout",
     "output_type": "stream",
     "text": [
      "338 µs ± 1.79 µs per loop (mean ± std. dev. of 7 runs, 1,000 loops each)\n"
     ]
    }
   ],
   "source": [
    "batch = Batch({\n",
    "    'obs': torch.randn(8, 4, 84, 84),\n",
    "    'action': torch.randint(0, 6, size=(8, 1,)),\n",
    "    'reward': torch.rand(8, 1)}\n",
    ")\n",
    "\n",
    "%timeit list(Batch.split(batch, 1, shuffle=False, merge_last=True))"
   ]
  },
  {
   "cell_type": "code",
   "execution_count": null,
   "id": "2539fbd9",
   "metadata": {},
   "outputs": [],
   "source": []
  }
 ],
 "metadata": {
  "kernelspec": {
   "display_name": "Python 3 (ipykernel)",
   "language": "python",
   "name": "python3"
  },
  "language_info": {
   "codemirror_mode": {
    "name": "ipython",
    "version": 3
   },
   "file_extension": ".py",
   "mimetype": "text/x-python",
   "name": "python",
   "nbconvert_exporter": "python",
   "pygments_lexer": "ipython3",
   "version": "3.8.16"
  }
 },
 "nbformat": 4,
 "nbformat_minor": 5
}
