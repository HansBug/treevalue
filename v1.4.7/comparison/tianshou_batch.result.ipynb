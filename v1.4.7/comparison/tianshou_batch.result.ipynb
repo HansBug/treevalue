{
 "cells": [
  {
   "cell_type": "markdown",
   "id": "9d39d946",
   "metadata": {},
   "source": [
    "# Comparison Between TreeValue and Tianshou Batch"
   ]
  },
  {
   "cell_type": "markdown",
   "id": "3c6db2d4",
   "metadata": {},
   "source": [
    "In this section, we will take a look at the feature and performance of the [Tianshou Batch](https://github.com/thu-ml/tianshou) library, which is developed by Tsinghua Machine Learning Group."
   ]
  },
  {
   "cell_type": "markdown",
   "id": "069361b0",
   "metadata": {},
   "source": [
    "Before starting the comparison, let us define some thing."
   ]
  },
  {
   "cell_type": "code",
   "execution_count": 1,
   "id": "06fc8d26",
   "metadata": {
    "execution": {
     "iopub.execute_input": "2023-03-06T18:38:35.344480Z",
     "iopub.status.busy": "2023-03-06T18:38:35.343789Z",
     "iopub.status.idle": "2023-03-06T18:38:36.238836Z",
     "shell.execute_reply": "2023-03-06T18:38:36.238089Z"
    }
   },
   "outputs": [
    {
     "name": "stderr",
     "output_type": "stream",
     "text": [
      "/opt/hostedtoolcache/Python/3.8.16/x64/lib/python3.8/site-packages/tqdm/auto.py:21: TqdmWarning: IProgress not found. Please update jupyter and ipywidgets. See https://ipywidgets.readthedocs.io/en/stable/user_install.html\n",
      "  from .autonotebook import tqdm as notebook_tqdm\n"
     ]
    }
   ],
   "source": [
    "import torch \n",
    "\n",
    "_TREE_DATA_1 = {'a': 1, 'b': 2, 'x': {'c': 3, 'd': 4}}\n",
    "_TREE_DATA_2 = {\n",
    "    'a': torch.randn(2, 3), \n",
    "    'x': {\n",
    "        'c': torch.randn(3, 4)\n",
    "    },\n",
    "}\n",
    "_TREE_DATA_3 = {\n",
    "    'obs': torch.randn(4, 84, 84),\n",
    "    'action': torch.randint(0, 6, size=(1,)),\n",
    "    'reward': torch.rand(1),\n",
    "}"
   ]
  },
  {
   "cell_type": "markdown",
   "id": "83461b25",
   "metadata": {},
   "source": [
    "## Read and Write Operation"
   ]
  },
  {
   "cell_type": "markdown",
   "id": "067b3f73",
   "metadata": {},
   "source": [
    "Reading and writing are the two most common operations in the tree data structure based on the data model (TreeValue and Tianshou Batch both belong to this type), so this section will compare the reading and writing performance of these two libraries."
   ]
  },
  {
   "cell_type": "markdown",
   "id": "5d09a5b7",
   "metadata": {},
   "source": [
    "### TreeValue's Get and Set"
   ]
  },
  {
   "cell_type": "code",
   "execution_count": 2,
   "id": "9519c4bb",
   "metadata": {
    "execution": {
     "iopub.execute_input": "2023-03-06T18:38:36.242636Z",
     "iopub.status.busy": "2023-03-06T18:38:36.242184Z",
     "iopub.status.idle": "2023-03-06T18:38:36.509452Z",
     "shell.execute_reply": "2023-03-06T18:38:36.508031Z"
    }
   },
   "outputs": [],
   "source": [
    "from treevalue import FastTreeValue\n",
    "\n",
    "t = FastTreeValue(_TREE_DATA_2)"
   ]
  },
  {
   "cell_type": "code",
   "execution_count": 3,
   "id": "11c37677",
   "metadata": {
    "execution": {
     "iopub.execute_input": "2023-03-06T18:38:36.513502Z",
     "iopub.status.busy": "2023-03-06T18:38:36.513110Z",
     "iopub.status.idle": "2023-03-06T18:38:36.521199Z",
     "shell.execute_reply": "2023-03-06T18:38:36.520383Z"
    }
   },
   "outputs": [
    {
     "data": {
      "text/plain": [
       "<FastTreeValue 0x7fac6a1c9820>\n",
       "├── 'a' --> tensor([[ 0.9432,  0.5049, -0.6372],\n",
       "│                   [ 0.2895,  0.3341, -0.0904]])\n",
       "└── 'x' --> <FastTreeValue 0x7fac6a1c9f70>\n",
       "    └── 'c' --> tensor([[-0.7929, -0.2308,  0.6232, -1.4665],\n",
       "                        [ 0.2619, -0.3360, -0.7763, -0.8405],\n",
       "                        [ 1.1931, -0.9129,  0.8167,  0.7423]])"
      ]
     },
     "execution_count": 3,
     "metadata": {},
     "output_type": "execute_result"
    }
   ],
   "source": [
    "t"
   ]
  },
  {
   "cell_type": "code",
   "execution_count": 4,
   "id": "fd70b0b9",
   "metadata": {
    "execution": {
     "iopub.execute_input": "2023-03-06T18:38:36.524043Z",
     "iopub.status.busy": "2023-03-06T18:38:36.523646Z",
     "iopub.status.idle": "2023-03-06T18:38:36.528293Z",
     "shell.execute_reply": "2023-03-06T18:38:36.527611Z"
    }
   },
   "outputs": [
    {
     "data": {
      "text/plain": [
       "tensor([[ 0.9432,  0.5049, -0.6372],\n",
       "        [ 0.2895,  0.3341, -0.0904]])"
      ]
     },
     "execution_count": 4,
     "metadata": {},
     "output_type": "execute_result"
    }
   ],
   "source": [
    "t.a"
   ]
  },
  {
   "cell_type": "code",
   "execution_count": 5,
   "id": "c18197bd",
   "metadata": {
    "execution": {
     "iopub.execute_input": "2023-03-06T18:38:36.530595Z",
     "iopub.status.busy": "2023-03-06T18:38:36.530132Z",
     "iopub.status.idle": "2023-03-06T18:38:41.264795Z",
     "shell.execute_reply": "2023-03-06T18:38:41.263540Z"
    }
   },
   "outputs": [
    {
     "name": "stdout",
     "output_type": "stream",
     "text": [
      "58.3 ns ± 0.756 ns per loop (mean ± std. dev. of 7 runs, 10,000,000 loops each)\n"
     ]
    }
   ],
   "source": [
    "%timeit t.a"
   ]
  },
  {
   "cell_type": "code",
   "execution_count": 6,
   "id": "bd52f867",
   "metadata": {
    "execution": {
     "iopub.execute_input": "2023-03-06T18:38:41.270038Z",
     "iopub.status.busy": "2023-03-06T18:38:41.268546Z",
     "iopub.status.idle": "2023-03-06T18:38:41.278631Z",
     "shell.execute_reply": "2023-03-06T18:38:41.277845Z"
    }
   },
   "outputs": [
    {
     "data": {
      "text/plain": [
       "<FastTreeValue 0x7fac6a1c9820>\n",
       "├── 'a' --> tensor([[-0.0217,  0.9443, -0.4712],\n",
       "│                   [ 1.1626,  1.4264, -0.9823]])\n",
       "└── 'x' --> <FastTreeValue 0x7fac6a1c9f70>\n",
       "    └── 'c' --> tensor([[-0.7929, -0.2308,  0.6232, -1.4665],\n",
       "                        [ 0.2619, -0.3360, -0.7763, -0.8405],\n",
       "                        [ 1.1931, -0.9129,  0.8167,  0.7423]])"
      ]
     },
     "execution_count": 6,
     "metadata": {},
     "output_type": "execute_result"
    }
   ],
   "source": [
    "new_value = torch.randn(2, 3)\n",
    "t.a = new_value\n",
    "\n",
    "t"
   ]
  },
  {
   "cell_type": "code",
   "execution_count": 7,
   "id": "bbe04d1c",
   "metadata": {
    "execution": {
     "iopub.execute_input": "2023-03-06T18:38:41.281867Z",
     "iopub.status.busy": "2023-03-06T18:38:41.281584Z",
     "iopub.status.idle": "2023-03-06T18:38:46.615759Z",
     "shell.execute_reply": "2023-03-06T18:38:46.614635Z"
    }
   },
   "outputs": [
    {
     "name": "stdout",
     "output_type": "stream",
     "text": [
      "65.3 ns ± 1.17 ns per loop (mean ± std. dev. of 7 runs, 10,000,000 loops each)\n"
     ]
    }
   ],
   "source": [
    "%timeit t.a = new_value"
   ]
  },
  {
   "cell_type": "markdown",
   "id": "48c49731",
   "metadata": {},
   "source": [
    "### Tianshou Batch's Get and Set"
   ]
  },
  {
   "cell_type": "code",
   "execution_count": 8,
   "id": "f1bb14c1",
   "metadata": {
    "execution": {
     "iopub.execute_input": "2023-03-06T18:38:46.619993Z",
     "iopub.status.busy": "2023-03-06T18:38:46.619093Z",
     "iopub.status.idle": "2023-03-06T18:38:46.952002Z",
     "shell.execute_reply": "2023-03-06T18:38:46.951045Z"
    }
   },
   "outputs": [],
   "source": [
    "from tianshou.data import Batch\n",
    "\n",
    "b = Batch(**_TREE_DATA_2)"
   ]
  },
  {
   "cell_type": "code",
   "execution_count": 9,
   "id": "cb0777c3",
   "metadata": {
    "execution": {
     "iopub.execute_input": "2023-03-06T18:38:46.955578Z",
     "iopub.status.busy": "2023-03-06T18:38:46.955216Z",
     "iopub.status.idle": "2023-03-06T18:38:46.962053Z",
     "shell.execute_reply": "2023-03-06T18:38:46.961469Z"
    }
   },
   "outputs": [
    {
     "data": {
      "text/plain": [
       "Batch(\n",
       "    a: tensor([[ 0.9432,  0.5049, -0.6372],\n",
       "               [ 0.2895,  0.3341, -0.0904]]),\n",
       "    x: Batch(\n",
       "           c: tensor([[-0.7929, -0.2308,  0.6232, -1.4665],\n",
       "                      [ 0.2619, -0.3360, -0.7763, -0.8405],\n",
       "                      [ 1.1931, -0.9129,  0.8167,  0.7423]]),\n",
       "       ),\n",
       ")"
      ]
     },
     "execution_count": 9,
     "metadata": {},
     "output_type": "execute_result"
    }
   ],
   "source": [
    "b"
   ]
  },
  {
   "cell_type": "code",
   "execution_count": 10,
   "id": "43ef8ea3",
   "metadata": {
    "execution": {
     "iopub.execute_input": "2023-03-06T18:38:46.964649Z",
     "iopub.status.busy": "2023-03-06T18:38:46.964296Z",
     "iopub.status.idle": "2023-03-06T18:38:46.969972Z",
     "shell.execute_reply": "2023-03-06T18:38:46.969078Z"
    }
   },
   "outputs": [
    {
     "data": {
      "text/plain": [
       "tensor([[ 0.9432,  0.5049, -0.6372],\n",
       "        [ 0.2895,  0.3341, -0.0904]])"
      ]
     },
     "execution_count": 10,
     "metadata": {},
     "output_type": "execute_result"
    }
   ],
   "source": [
    "b.a"
   ]
  },
  {
   "cell_type": "code",
   "execution_count": 11,
   "id": "b785ab72",
   "metadata": {
    "execution": {
     "iopub.execute_input": "2023-03-06T18:38:46.972723Z",
     "iopub.status.busy": "2023-03-06T18:38:46.972116Z",
     "iopub.status.idle": "2023-03-06T18:38:51.591597Z",
     "shell.execute_reply": "2023-03-06T18:38:51.590518Z"
    }
   },
   "outputs": [
    {
     "name": "stdout",
     "output_type": "stream",
     "text": [
      "57.3 ns ± 0.832 ns per loop (mean ± std. dev. of 7 runs, 10,000,000 loops each)\n"
     ]
    }
   ],
   "source": [
    "%timeit b.a"
   ]
  },
  {
   "cell_type": "code",
   "execution_count": 12,
   "id": "ad54dc69",
   "metadata": {
    "execution": {
     "iopub.execute_input": "2023-03-06T18:38:51.595110Z",
     "iopub.status.busy": "2023-03-06T18:38:51.594641Z",
     "iopub.status.idle": "2023-03-06T18:38:51.600570Z",
     "shell.execute_reply": "2023-03-06T18:38:51.599902Z"
    }
   },
   "outputs": [
    {
     "data": {
      "text/plain": [
       "Batch(\n",
       "    a: tensor([[-2.3384,  0.8589, -0.3298],\n",
       "               [ 0.9015,  0.2753,  0.6456]]),\n",
       "    x: Batch(\n",
       "           c: tensor([[-0.7929, -0.2308,  0.6232, -1.4665],\n",
       "                      [ 0.2619, -0.3360, -0.7763, -0.8405],\n",
       "                      [ 1.1931, -0.9129,  0.8167,  0.7423]]),\n",
       "       ),\n",
       ")"
      ]
     },
     "execution_count": 12,
     "metadata": {},
     "output_type": "execute_result"
    }
   ],
   "source": [
    "new_value = torch.randn(2, 3)\n",
    "b.a = new_value\n",
    "\n",
    "b"
   ]
  },
  {
   "cell_type": "code",
   "execution_count": 13,
   "id": "29b1d0bf",
   "metadata": {
    "execution": {
     "iopub.execute_input": "2023-03-06T18:38:51.603295Z",
     "iopub.status.busy": "2023-03-06T18:38:51.602852Z",
     "iopub.status.idle": "2023-03-06T18:38:55.342274Z",
     "shell.execute_reply": "2023-03-06T18:38:55.341203Z"
    }
   },
   "outputs": [
    {
     "name": "stdout",
     "output_type": "stream",
     "text": [
      "460 ns ± 6.07 ns per loop (mean ± std. dev. of 7 runs, 1,000,000 loops each)\n"
     ]
    }
   ],
   "source": [
    "%timeit b.a = new_value"
   ]
  },
  {
   "cell_type": "markdown",
   "id": "b61ad1d0",
   "metadata": {},
   "source": [
    "## Initialization"
   ]
  },
  {
   "cell_type": "markdown",
   "id": "d70f0d54",
   "metadata": {},
   "source": [
    "### TreeValue's Initialization"
   ]
  },
  {
   "cell_type": "code",
   "execution_count": 14,
   "id": "d32a679b",
   "metadata": {
    "execution": {
     "iopub.execute_input": "2023-03-06T18:38:55.345901Z",
     "iopub.status.busy": "2023-03-06T18:38:55.345533Z",
     "iopub.status.idle": "2023-03-06T18:39:01.645419Z",
     "shell.execute_reply": "2023-03-06T18:39:01.644215Z"
    }
   },
   "outputs": [
    {
     "name": "stdout",
     "output_type": "stream",
     "text": [
      "779 ns ± 10.1 ns per loop (mean ± std. dev. of 7 runs, 1,000,000 loops each)\n"
     ]
    }
   ],
   "source": [
    "%timeit FastTreeValue(_TREE_DATA_1)"
   ]
  },
  {
   "cell_type": "markdown",
   "id": "24f3707b",
   "metadata": {},
   "source": [
    "### Tianshou Batch's Initialization"
   ]
  },
  {
   "cell_type": "code",
   "execution_count": 15,
   "id": "ac3958df",
   "metadata": {
    "execution": {
     "iopub.execute_input": "2023-03-06T18:39:01.649376Z",
     "iopub.status.busy": "2023-03-06T18:39:01.648906Z",
     "iopub.status.idle": "2023-03-06T18:39:09.152234Z",
     "shell.execute_reply": "2023-03-06T18:39:09.151182Z"
    }
   },
   "outputs": [
    {
     "name": "stdout",
     "output_type": "stream",
     "text": [
      "9.27 µs ± 82.6 ns per loop (mean ± std. dev. of 7 runs, 100,000 loops each)\n"
     ]
    }
   ],
   "source": [
    "%timeit Batch(**_TREE_DATA_1)"
   ]
  },
  {
   "cell_type": "markdown",
   "id": "1ab82e2d",
   "metadata": {},
   "source": [
    "## Deep Copy Operation"
   ]
  },
  {
   "cell_type": "code",
   "execution_count": 16,
   "id": "210a9442",
   "metadata": {
    "execution": {
     "iopub.execute_input": "2023-03-06T18:39:09.156433Z",
     "iopub.status.busy": "2023-03-06T18:39:09.155610Z",
     "iopub.status.idle": "2023-03-06T18:39:09.160592Z",
     "shell.execute_reply": "2023-03-06T18:39:09.159935Z"
    }
   },
   "outputs": [],
   "source": [
    "import copy"
   ]
  },
  {
   "cell_type": "markdown",
   "id": "5a736274",
   "metadata": {},
   "source": [
    "### Deep Copy of TreeValue"
   ]
  },
  {
   "cell_type": "code",
   "execution_count": 17,
   "id": "f9bcadd6",
   "metadata": {
    "execution": {
     "iopub.execute_input": "2023-03-06T18:39:09.163640Z",
     "iopub.status.busy": "2023-03-06T18:39:09.163125Z",
     "iopub.status.idle": "2023-03-06T18:39:20.285439Z",
     "shell.execute_reply": "2023-03-06T18:39:20.284134Z"
    }
   },
   "outputs": [
    {
     "name": "stdout",
     "output_type": "stream",
     "text": [
      "137 µs ± 2.1 µs per loop (mean ± std. dev. of 7 runs, 10,000 loops each)\n"
     ]
    }
   ],
   "source": [
    "t3 = FastTreeValue(_TREE_DATA_3)\n",
    "%timeit copy.deepcopy(t3)"
   ]
  },
  {
   "cell_type": "markdown",
   "id": "bf8be7ea",
   "metadata": {},
   "source": [
    "### Deep Copy of Tianshou Batch"
   ]
  },
  {
   "cell_type": "code",
   "execution_count": 18,
   "id": "91998e6f",
   "metadata": {
    "execution": {
     "iopub.execute_input": "2023-03-06T18:39:20.288336Z",
     "iopub.status.busy": "2023-03-06T18:39:20.288121Z",
     "iopub.status.idle": "2023-03-06T18:39:31.622509Z",
     "shell.execute_reply": "2023-03-06T18:39:31.621826Z"
    }
   },
   "outputs": [
    {
     "name": "stdout",
     "output_type": "stream",
     "text": [
      "140 µs ± 3.92 µs per loop (mean ± std. dev. of 7 runs, 10,000 loops each)\n"
     ]
    }
   ],
   "source": [
    "b3 = Batch(**_TREE_DATA_3)\n",
    "%timeit copy.deepcopy(b3)"
   ]
  },
  {
   "cell_type": "markdown",
   "id": "223162fb",
   "metadata": {},
   "source": [
    "## Stack, Concat and Split Operation"
   ]
  },
  {
   "cell_type": "markdown",
   "id": "85fa4a73",
   "metadata": {},
   "source": [
    "### Performance of TreeValue"
   ]
  },
  {
   "cell_type": "code",
   "execution_count": 19,
   "id": "a0c2b697",
   "metadata": {
    "execution": {
     "iopub.execute_input": "2023-03-06T18:39:31.625955Z",
     "iopub.status.busy": "2023-03-06T18:39:31.625444Z",
     "iopub.status.idle": "2023-03-06T18:39:31.629121Z",
     "shell.execute_reply": "2023-03-06T18:39:31.628451Z"
    }
   },
   "outputs": [],
   "source": [
    "trees = [FastTreeValue(_TREE_DATA_2) for _ in range(8)]"
   ]
  },
  {
   "cell_type": "code",
   "execution_count": 20,
   "id": "017ea5a5",
   "metadata": {
    "execution": {
     "iopub.execute_input": "2023-03-06T18:39:31.631870Z",
     "iopub.status.busy": "2023-03-06T18:39:31.631419Z",
     "iopub.status.idle": "2023-03-06T18:39:31.639130Z",
     "shell.execute_reply": "2023-03-06T18:39:31.638484Z"
    }
   },
   "outputs": [
    {
     "data": {
      "text/plain": [
       "<FastTreeValue 0x7fabb0381a30>\n",
       "├── 'a' --> tensor([[[ 0.9432,  0.5049, -0.6372],\n",
       "│                    [ 0.2895,  0.3341, -0.0904]],\n",
       "│           \n",
       "│                   [[ 0.9432,  0.5049, -0.6372],\n",
       "│                    [ 0.2895,  0.3341, -0.0904]],\n",
       "│           \n",
       "│                   [[ 0.9432,  0.5049, -0.6372],\n",
       "│                    [ 0.2895,  0.3341, -0.0904]],\n",
       "│           \n",
       "│                   [[ 0.9432,  0.5049, -0.6372],\n",
       "│                    [ 0.2895,  0.3341, -0.0904]],\n",
       "│           \n",
       "│                   [[ 0.9432,  0.5049, -0.6372],\n",
       "│                    [ 0.2895,  0.3341, -0.0904]],\n",
       "│           \n",
       "│                   [[ 0.9432,  0.5049, -0.6372],\n",
       "│                    [ 0.2895,  0.3341, -0.0904]],\n",
       "│           \n",
       "│                   [[ 0.9432,  0.5049, -0.6372],\n",
       "│                    [ 0.2895,  0.3341, -0.0904]],\n",
       "│           \n",
       "│                   [[ 0.9432,  0.5049, -0.6372],\n",
       "│                    [ 0.2895,  0.3341, -0.0904]]])\n",
       "└── 'x' --> <FastTreeValue 0x7fabb03816d0>\n",
       "    └── 'c' --> tensor([[[-0.7929, -0.2308,  0.6232, -1.4665],\n",
       "                         [ 0.2619, -0.3360, -0.7763, -0.8405],\n",
       "                         [ 1.1931, -0.9129,  0.8167,  0.7423]],\n",
       "                \n",
       "                        [[-0.7929, -0.2308,  0.6232, -1.4665],\n",
       "                         [ 0.2619, -0.3360, -0.7763, -0.8405],\n",
       "                         [ 1.1931, -0.9129,  0.8167,  0.7423]],\n",
       "                \n",
       "                        [[-0.7929, -0.2308,  0.6232, -1.4665],\n",
       "                         [ 0.2619, -0.3360, -0.7763, -0.8405],\n",
       "                         [ 1.1931, -0.9129,  0.8167,  0.7423]],\n",
       "                \n",
       "                        [[-0.7929, -0.2308,  0.6232, -1.4665],\n",
       "                         [ 0.2619, -0.3360, -0.7763, -0.8405],\n",
       "                         [ 1.1931, -0.9129,  0.8167,  0.7423]],\n",
       "                \n",
       "                        [[-0.7929, -0.2308,  0.6232, -1.4665],\n",
       "                         [ 0.2619, -0.3360, -0.7763, -0.8405],\n",
       "                         [ 1.1931, -0.9129,  0.8167,  0.7423]],\n",
       "                \n",
       "                        [[-0.7929, -0.2308,  0.6232, -1.4665],\n",
       "                         [ 0.2619, -0.3360, -0.7763, -0.8405],\n",
       "                         [ 1.1931, -0.9129,  0.8167,  0.7423]],\n",
       "                \n",
       "                        [[-0.7929, -0.2308,  0.6232, -1.4665],\n",
       "                         [ 0.2619, -0.3360, -0.7763, -0.8405],\n",
       "                         [ 1.1931, -0.9129,  0.8167,  0.7423]],\n",
       "                \n",
       "                        [[-0.7929, -0.2308,  0.6232, -1.4665],\n",
       "                         [ 0.2619, -0.3360, -0.7763, -0.8405],\n",
       "                         [ 1.1931, -0.9129,  0.8167,  0.7423]]])"
      ]
     },
     "execution_count": 20,
     "metadata": {},
     "output_type": "execute_result"
    }
   ],
   "source": [
    "t_stack = FastTreeValue.func(subside=True)(torch.stack)\n",
    "\n",
    "t_stack(trees)"
   ]
  },
  {
   "cell_type": "code",
   "execution_count": 21,
   "id": "f8b3f415",
   "metadata": {
    "execution": {
     "iopub.execute_input": "2023-03-06T18:39:31.641960Z",
     "iopub.status.busy": "2023-03-06T18:39:31.641511Z",
     "iopub.status.idle": "2023-03-06T18:39:34.053071Z",
     "shell.execute_reply": "2023-03-06T18:39:34.051881Z"
    }
   },
   "outputs": [
    {
     "name": "stdout",
     "output_type": "stream",
     "text": [
      "29.5 µs ± 771 ns per loop (mean ± std. dev. of 7 runs, 10,000 loops each)\n"
     ]
    }
   ],
   "source": [
    "%timeit t_stack(trees)"
   ]
  },
  {
   "cell_type": "code",
   "execution_count": 22,
   "id": "94b56771",
   "metadata": {
    "execution": {
     "iopub.execute_input": "2023-03-06T18:39:34.057180Z",
     "iopub.status.busy": "2023-03-06T18:39:34.056353Z",
     "iopub.status.idle": "2023-03-06T18:39:34.064690Z",
     "shell.execute_reply": "2023-03-06T18:39:34.064040Z"
    }
   },
   "outputs": [
    {
     "data": {
      "text/plain": [
       "<FastTreeValue 0x7fabb039df10>\n",
       "├── 'a' --> tensor([[ 0.9432,  0.5049, -0.6372],\n",
       "│                   [ 0.2895,  0.3341, -0.0904],\n",
       "│                   [ 0.9432,  0.5049, -0.6372],\n",
       "│                   [ 0.2895,  0.3341, -0.0904],\n",
       "│                   [ 0.9432,  0.5049, -0.6372],\n",
       "│                   [ 0.2895,  0.3341, -0.0904],\n",
       "│                   [ 0.9432,  0.5049, -0.6372],\n",
       "│                   [ 0.2895,  0.3341, -0.0904],\n",
       "│                   [ 0.9432,  0.5049, -0.6372],\n",
       "│                   [ 0.2895,  0.3341, -0.0904],\n",
       "│                   [ 0.9432,  0.5049, -0.6372],\n",
       "│                   [ 0.2895,  0.3341, -0.0904],\n",
       "│                   [ 0.9432,  0.5049, -0.6372],\n",
       "│                   [ 0.2895,  0.3341, -0.0904],\n",
       "│                   [ 0.9432,  0.5049, -0.6372],\n",
       "│                   [ 0.2895,  0.3341, -0.0904]])\n",
       "└── 'x' --> <FastTreeValue 0x7fac3c5c3fd0>\n",
       "    └── 'c' --> tensor([[-0.7929, -0.2308,  0.6232, -1.4665],\n",
       "                        [ 0.2619, -0.3360, -0.7763, -0.8405],\n",
       "                        [ 1.1931, -0.9129,  0.8167,  0.7423],\n",
       "                        [-0.7929, -0.2308,  0.6232, -1.4665],\n",
       "                        [ 0.2619, -0.3360, -0.7763, -0.8405],\n",
       "                        [ 1.1931, -0.9129,  0.8167,  0.7423],\n",
       "                        [-0.7929, -0.2308,  0.6232, -1.4665],\n",
       "                        [ 0.2619, -0.3360, -0.7763, -0.8405],\n",
       "                        [ 1.1931, -0.9129,  0.8167,  0.7423],\n",
       "                        [-0.7929, -0.2308,  0.6232, -1.4665],\n",
       "                        [ 0.2619, -0.3360, -0.7763, -0.8405],\n",
       "                        [ 1.1931, -0.9129,  0.8167,  0.7423],\n",
       "                        [-0.7929, -0.2308,  0.6232, -1.4665],\n",
       "                        [ 0.2619, -0.3360, -0.7763, -0.8405],\n",
       "                        [ 1.1931, -0.9129,  0.8167,  0.7423],\n",
       "                        [-0.7929, -0.2308,  0.6232, -1.4665],\n",
       "                        [ 0.2619, -0.3360, -0.7763, -0.8405],\n",
       "                        [ 1.1931, -0.9129,  0.8167,  0.7423],\n",
       "                        [-0.7929, -0.2308,  0.6232, -1.4665],\n",
       "                        [ 0.2619, -0.3360, -0.7763, -0.8405],\n",
       "                        [ 1.1931, -0.9129,  0.8167,  0.7423],\n",
       "                        [-0.7929, -0.2308,  0.6232, -1.4665],\n",
       "                        [ 0.2619, -0.3360, -0.7763, -0.8405],\n",
       "                        [ 1.1931, -0.9129,  0.8167,  0.7423]])"
      ]
     },
     "execution_count": 22,
     "metadata": {},
     "output_type": "execute_result"
    }
   ],
   "source": [
    "t_cat = FastTreeValue.func(subside=True)(torch.cat)\n",
    "\n",
    "t_cat(trees)"
   ]
  },
  {
   "cell_type": "code",
   "execution_count": 23,
   "id": "5e9c06a6",
   "metadata": {
    "execution": {
     "iopub.execute_input": "2023-03-06T18:39:34.067315Z",
     "iopub.status.busy": "2023-03-06T18:39:34.066901Z",
     "iopub.status.idle": "2023-03-06T18:39:36.292347Z",
     "shell.execute_reply": "2023-03-06T18:39:36.291057Z"
    }
   },
   "outputs": [
    {
     "name": "stdout",
     "output_type": "stream",
     "text": [
      "27.3 µs ± 907 ns per loop (mean ± std. dev. of 7 runs, 10,000 loops each)\n"
     ]
    }
   ],
   "source": [
    "%timeit t_cat(trees)"
   ]
  },
  {
   "cell_type": "code",
   "execution_count": 24,
   "id": "a3ab5c8f",
   "metadata": {
    "execution": {
     "iopub.execute_input": "2023-03-06T18:39:36.296230Z",
     "iopub.status.busy": "2023-03-06T18:39:36.295573Z",
     "iopub.status.idle": "2023-03-06T18:39:40.578443Z",
     "shell.execute_reply": "2023-03-06T18:39:40.577159Z"
    }
   },
   "outputs": [
    {
     "name": "stdout",
     "output_type": "stream",
     "text": [
      "52.7 µs ± 1.22 µs per loop (mean ± std. dev. of 7 runs, 10,000 loops each)\n"
     ]
    }
   ],
   "source": [
    "t_split = FastTreeValue.func(rise=True)(torch.split)\n",
    "tree = FastTreeValue({\n",
    "    'obs': torch.randn(8, 4, 84, 84),\n",
    "    'action': torch.randint(0, 6, size=(8, 1,)),\n",
    "    'reward': torch.rand(8, 1),\n",
    "})\n",
    "\n",
    "%timeit t_split(tree, 1)"
   ]
  },
  {
   "cell_type": "markdown",
   "id": "31c3ec0b",
   "metadata": {},
   "source": [
    "### Performance of Tianshou Batch"
   ]
  },
  {
   "cell_type": "code",
   "execution_count": 25,
   "id": "9ead828a",
   "metadata": {
    "execution": {
     "iopub.execute_input": "2023-03-06T18:39:40.582700Z",
     "iopub.status.busy": "2023-03-06T18:39:40.581918Z",
     "iopub.status.idle": "2023-03-06T18:39:40.591221Z",
     "shell.execute_reply": "2023-03-06T18:39:40.590539Z"
    }
   },
   "outputs": [
    {
     "data": {
      "text/plain": [
       "Batch(\n",
       "    x: Batch(\n",
       "           c: tensor([[[-0.7929, -0.2308,  0.6232, -1.4665],\n",
       "                       [ 0.2619, -0.3360, -0.7763, -0.8405],\n",
       "                       [ 1.1931, -0.9129,  0.8167,  0.7423]],\n",
       "              \n",
       "                      [[-0.7929, -0.2308,  0.6232, -1.4665],\n",
       "                       [ 0.2619, -0.3360, -0.7763, -0.8405],\n",
       "                       [ 1.1931, -0.9129,  0.8167,  0.7423]],\n",
       "              \n",
       "                      [[-0.7929, -0.2308,  0.6232, -1.4665],\n",
       "                       [ 0.2619, -0.3360, -0.7763, -0.8405],\n",
       "                       [ 1.1931, -0.9129,  0.8167,  0.7423]],\n",
       "              \n",
       "                      [[-0.7929, -0.2308,  0.6232, -1.4665],\n",
       "                       [ 0.2619, -0.3360, -0.7763, -0.8405],\n",
       "                       [ 1.1931, -0.9129,  0.8167,  0.7423]],\n",
       "              \n",
       "                      [[-0.7929, -0.2308,  0.6232, -1.4665],\n",
       "                       [ 0.2619, -0.3360, -0.7763, -0.8405],\n",
       "                       [ 1.1931, -0.9129,  0.8167,  0.7423]],\n",
       "              \n",
       "                      [[-0.7929, -0.2308,  0.6232, -1.4665],\n",
       "                       [ 0.2619, -0.3360, -0.7763, -0.8405],\n",
       "                       [ 1.1931, -0.9129,  0.8167,  0.7423]],\n",
       "              \n",
       "                      [[-0.7929, -0.2308,  0.6232, -1.4665],\n",
       "                       [ 0.2619, -0.3360, -0.7763, -0.8405],\n",
       "                       [ 1.1931, -0.9129,  0.8167,  0.7423]],\n",
       "              \n",
       "                      [[-0.7929, -0.2308,  0.6232, -1.4665],\n",
       "                       [ 0.2619, -0.3360, -0.7763, -0.8405],\n",
       "                       [ 1.1931, -0.9129,  0.8167,  0.7423]]]),\n",
       "       ),\n",
       "    a: tensor([[[ 0.9432,  0.5049, -0.6372],\n",
       "                [ 0.2895,  0.3341, -0.0904]],\n",
       "       \n",
       "               [[ 0.9432,  0.5049, -0.6372],\n",
       "                [ 0.2895,  0.3341, -0.0904]],\n",
       "       \n",
       "               [[ 0.9432,  0.5049, -0.6372],\n",
       "                [ 0.2895,  0.3341, -0.0904]],\n",
       "       \n",
       "               [[ 0.9432,  0.5049, -0.6372],\n",
       "                [ 0.2895,  0.3341, -0.0904]],\n",
       "       \n",
       "               [[ 0.9432,  0.5049, -0.6372],\n",
       "                [ 0.2895,  0.3341, -0.0904]],\n",
       "       \n",
       "               [[ 0.9432,  0.5049, -0.6372],\n",
       "                [ 0.2895,  0.3341, -0.0904]],\n",
       "       \n",
       "               [[ 0.9432,  0.5049, -0.6372],\n",
       "                [ 0.2895,  0.3341, -0.0904]],\n",
       "       \n",
       "               [[ 0.9432,  0.5049, -0.6372],\n",
       "                [ 0.2895,  0.3341, -0.0904]]]),\n",
       ")"
      ]
     },
     "execution_count": 25,
     "metadata": {},
     "output_type": "execute_result"
    }
   ],
   "source": [
    "batches = [Batch(**_TREE_DATA_2) for _ in range(8)]\n",
    "\n",
    "Batch.stack(batches)"
   ]
  },
  {
   "cell_type": "code",
   "execution_count": 26,
   "id": "ec9037a3",
   "metadata": {
    "execution": {
     "iopub.execute_input": "2023-03-06T18:39:40.594243Z",
     "iopub.status.busy": "2023-03-06T18:39:40.593749Z",
     "iopub.status.idle": "2023-03-06T18:39:46.426129Z",
     "shell.execute_reply": "2023-03-06T18:39:46.424978Z"
    }
   },
   "outputs": [
    {
     "name": "stdout",
     "output_type": "stream",
     "text": [
      "71.4 µs ± 900 ns per loop (mean ± std. dev. of 7 runs, 10,000 loops each)\n"
     ]
    }
   ],
   "source": [
    "%timeit Batch.stack(batches)"
   ]
  },
  {
   "cell_type": "code",
   "execution_count": 27,
   "id": "cb8ab77e",
   "metadata": {
    "execution": {
     "iopub.execute_input": "2023-03-06T18:39:46.430430Z",
     "iopub.status.busy": "2023-03-06T18:39:46.429956Z",
     "iopub.status.idle": "2023-03-06T18:39:46.439687Z",
     "shell.execute_reply": "2023-03-06T18:39:46.438485Z"
    }
   },
   "outputs": [
    {
     "data": {
      "text/plain": [
       "Batch(\n",
       "    x: Batch(\n",
       "           c: tensor([[-0.7929, -0.2308,  0.6232, -1.4665],\n",
       "                      [ 0.2619, -0.3360, -0.7763, -0.8405],\n",
       "                      [ 1.1931, -0.9129,  0.8167,  0.7423],\n",
       "                      [-0.7929, -0.2308,  0.6232, -1.4665],\n",
       "                      [ 0.2619, -0.3360, -0.7763, -0.8405],\n",
       "                      [ 1.1931, -0.9129,  0.8167,  0.7423],\n",
       "                      [-0.7929, -0.2308,  0.6232, -1.4665],\n",
       "                      [ 0.2619, -0.3360, -0.7763, -0.8405],\n",
       "                      [ 1.1931, -0.9129,  0.8167,  0.7423],\n",
       "                      [-0.7929, -0.2308,  0.6232, -1.4665],\n",
       "                      [ 0.2619, -0.3360, -0.7763, -0.8405],\n",
       "                      [ 1.1931, -0.9129,  0.8167,  0.7423],\n",
       "                      [-0.7929, -0.2308,  0.6232, -1.4665],\n",
       "                      [ 0.2619, -0.3360, -0.7763, -0.8405],\n",
       "                      [ 1.1931, -0.9129,  0.8167,  0.7423],\n",
       "                      [-0.7929, -0.2308,  0.6232, -1.4665],\n",
       "                      [ 0.2619, -0.3360, -0.7763, -0.8405],\n",
       "                      [ 1.1931, -0.9129,  0.8167,  0.7423],\n",
       "                      [-0.7929, -0.2308,  0.6232, -1.4665],\n",
       "                      [ 0.2619, -0.3360, -0.7763, -0.8405],\n",
       "                      [ 1.1931, -0.9129,  0.8167,  0.7423],\n",
       "                      [-0.7929, -0.2308,  0.6232, -1.4665],\n",
       "                      [ 0.2619, -0.3360, -0.7763, -0.8405],\n",
       "                      [ 1.1931, -0.9129,  0.8167,  0.7423]]),\n",
       "       ),\n",
       "    a: tensor([[ 0.9432,  0.5049, -0.6372],\n",
       "               [ 0.2895,  0.3341, -0.0904],\n",
       "               [ 0.9432,  0.5049, -0.6372],\n",
       "               [ 0.2895,  0.3341, -0.0904],\n",
       "               [ 0.9432,  0.5049, -0.6372],\n",
       "               [ 0.2895,  0.3341, -0.0904],\n",
       "               [ 0.9432,  0.5049, -0.6372],\n",
       "               [ 0.2895,  0.3341, -0.0904],\n",
       "               [ 0.9432,  0.5049, -0.6372],\n",
       "               [ 0.2895,  0.3341, -0.0904],\n",
       "               [ 0.9432,  0.5049, -0.6372],\n",
       "               [ 0.2895,  0.3341, -0.0904],\n",
       "               [ 0.9432,  0.5049, -0.6372],\n",
       "               [ 0.2895,  0.3341, -0.0904],\n",
       "               [ 0.9432,  0.5049, -0.6372],\n",
       "               [ 0.2895,  0.3341, -0.0904]]),\n",
       ")"
      ]
     },
     "execution_count": 27,
     "metadata": {},
     "output_type": "execute_result"
    }
   ],
   "source": [
    "Batch.cat(batches)"
   ]
  },
  {
   "cell_type": "code",
   "execution_count": 28,
   "id": "18dfb045",
   "metadata": {
    "execution": {
     "iopub.execute_input": "2023-03-06T18:39:46.442371Z",
     "iopub.status.busy": "2023-03-06T18:39:46.441955Z",
     "iopub.status.idle": "2023-03-06T18:39:56.846118Z",
     "shell.execute_reply": "2023-03-06T18:39:56.845011Z"
    }
   },
   "outputs": [
    {
     "name": "stdout",
     "output_type": "stream",
     "text": [
      "128 µs ± 982 ns per loop (mean ± std. dev. of 7 runs, 10,000 loops each)\n"
     ]
    }
   ],
   "source": [
    "%timeit Batch.cat(batches)"
   ]
  },
  {
   "cell_type": "code",
   "execution_count": 29,
   "id": "c6688e51",
   "metadata": {
    "execution": {
     "iopub.execute_input": "2023-03-06T18:39:56.850095Z",
     "iopub.status.busy": "2023-03-06T18:39:56.849442Z",
     "iopub.status.idle": "2023-03-06T18:39:59.419999Z",
     "shell.execute_reply": "2023-03-06T18:39:59.419148Z"
    }
   },
   "outputs": [
    {
     "name": "stdout",
     "output_type": "stream",
     "text": [
      "312 µs ± 3.89 µs per loop (mean ± std. dev. of 7 runs, 1,000 loops each)\n"
     ]
    }
   ],
   "source": [
    "batch = Batch({\n",
    "    'obs': torch.randn(8, 4, 84, 84),\n",
    "    'action': torch.randint(0, 6, size=(8, 1,)),\n",
    "    'reward': torch.rand(8, 1)}\n",
    ")\n",
    "\n",
    "%timeit list(Batch.split(batch, 1, shuffle=False, merge_last=True))"
   ]
  },
  {
   "cell_type": "code",
   "execution_count": null,
   "id": "2539fbd9",
   "metadata": {},
   "outputs": [],
   "source": []
  }
 ],
 "metadata": {
  "kernelspec": {
   "display_name": "Python 3 (ipykernel)",
   "language": "python",
   "name": "python3"
  },
  "language_info": {
   "codemirror_mode": {
    "name": "ipython",
    "version": 3
   },
   "file_extension": ".py",
   "mimetype": "text/x-python",
   "name": "python",
   "nbconvert_exporter": "python",
   "pygments_lexer": "ipython3",
   "version": "3.8.16"
  }
 },
 "nbformat": 4,
 "nbformat_minor": 5
}
