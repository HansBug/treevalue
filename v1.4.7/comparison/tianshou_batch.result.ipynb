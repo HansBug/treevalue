{
 "cells": [
  {
   "cell_type": "markdown",
   "id": "9d39d946",
   "metadata": {},
   "source": [
    "# Comparison Between TreeValue and Tianshou Batch"
   ]
  },
  {
   "cell_type": "markdown",
   "id": "3c6db2d4",
   "metadata": {},
   "source": [
    "In this section, we will take a look at the feature and performance of the [Tianshou Batch](https://github.com/thu-ml/tianshou) library, which is developed by Tsinghua Machine Learning Group."
   ]
  },
  {
   "cell_type": "markdown",
   "id": "069361b0",
   "metadata": {},
   "source": [
    "Before starting the comparison, let us define some thing."
   ]
  },
  {
   "cell_type": "code",
   "execution_count": 1,
   "id": "06fc8d26",
   "metadata": {
    "execution": {
     "iopub.execute_input": "2023-03-06T18:21:52.149140Z",
     "iopub.status.busy": "2023-03-06T18:21:52.148833Z",
     "iopub.status.idle": "2023-03-06T18:21:53.480026Z",
     "shell.execute_reply": "2023-03-06T18:21:53.478821Z"
    }
   },
   "outputs": [
    {
     "name": "stderr",
     "output_type": "stream",
     "text": [
      "/opt/hostedtoolcache/Python/3.8.16/x64/lib/python3.8/site-packages/tqdm/auto.py:21: TqdmWarning: IProgress not found. Please update jupyter and ipywidgets. See https://ipywidgets.readthedocs.io/en/stable/user_install.html\n",
      "  from .autonotebook import tqdm as notebook_tqdm\n"
     ]
    }
   ],
   "source": [
    "import torch \n",
    "\n",
    "_TREE_DATA_1 = {'a': 1, 'b': 2, 'x': {'c': 3, 'd': 4}}\n",
    "_TREE_DATA_2 = {\n",
    "    'a': torch.randn(2, 3), \n",
    "    'x': {\n",
    "        'c': torch.randn(3, 4)\n",
    "    },\n",
    "}\n",
    "_TREE_DATA_3 = {\n",
    "    'obs': torch.randn(4, 84, 84),\n",
    "    'action': torch.randint(0, 6, size=(1,)),\n",
    "    'reward': torch.rand(1),\n",
    "}"
   ]
  },
  {
   "cell_type": "markdown",
   "id": "83461b25",
   "metadata": {},
   "source": [
    "## Read and Write Operation"
   ]
  },
  {
   "cell_type": "markdown",
   "id": "067b3f73",
   "metadata": {},
   "source": [
    "Reading and writing are the two most common operations in the tree data structure based on the data model (TreeValue and Tianshou Batch both belong to this type), so this section will compare the reading and writing performance of these two libraries."
   ]
  },
  {
   "cell_type": "markdown",
   "id": "5d09a5b7",
   "metadata": {},
   "source": [
    "### TreeValue's Get and Set"
   ]
  },
  {
   "cell_type": "code",
   "execution_count": 2,
   "id": "9519c4bb",
   "metadata": {
    "execution": {
     "iopub.execute_input": "2023-03-06T18:21:53.484897Z",
     "iopub.status.busy": "2023-03-06T18:21:53.484164Z",
     "iopub.status.idle": "2023-03-06T18:21:53.907517Z",
     "shell.execute_reply": "2023-03-06T18:21:53.906057Z"
    }
   },
   "outputs": [],
   "source": [
    "from treevalue import FastTreeValue\n",
    "\n",
    "t = FastTreeValue(_TREE_DATA_2)"
   ]
  },
  {
   "cell_type": "code",
   "execution_count": 3,
   "id": "11c37677",
   "metadata": {
    "execution": {
     "iopub.execute_input": "2023-03-06T18:21:53.912611Z",
     "iopub.status.busy": "2023-03-06T18:21:53.911798Z",
     "iopub.status.idle": "2023-03-06T18:21:53.924695Z",
     "shell.execute_reply": "2023-03-06T18:21:53.923719Z"
    }
   },
   "outputs": [
    {
     "data": {
      "text/plain": [
       "<FastTreeValue 0x7f248c359940>\n",
       "├── 'a' --> tensor([[-0.8953, -0.7000,  0.8721],\n",
       "│                   [-1.1243, -0.3469, -0.6253]])\n",
       "└── 'x' --> <FastTreeValue 0x7f248c359e20>\n",
       "    └── 'c' --> tensor([[ 0.1127, -1.0834, -0.8514,  1.7591],\n",
       "                        [-0.0364,  0.6869,  0.7473,  0.9332],\n",
       "                        [-0.4081,  0.5905, -1.7458, -2.5872]])"
      ]
     },
     "execution_count": 3,
     "metadata": {},
     "output_type": "execute_result"
    }
   ],
   "source": [
    "t"
   ]
  },
  {
   "cell_type": "code",
   "execution_count": 4,
   "id": "fd70b0b9",
   "metadata": {
    "execution": {
     "iopub.execute_input": "2023-03-06T18:21:53.928455Z",
     "iopub.status.busy": "2023-03-06T18:21:53.927870Z",
     "iopub.status.idle": "2023-03-06T18:21:53.936267Z",
     "shell.execute_reply": "2023-03-06T18:21:53.935381Z"
    }
   },
   "outputs": [
    {
     "data": {
      "text/plain": [
       "tensor([[-0.8953, -0.7000,  0.8721],\n",
       "        [-1.1243, -0.3469, -0.6253]])"
      ]
     },
     "execution_count": 4,
     "metadata": {},
     "output_type": "execute_result"
    }
   ],
   "source": [
    "t.a"
   ]
  },
  {
   "cell_type": "code",
   "execution_count": 5,
   "id": "c18197bd",
   "metadata": {
    "execution": {
     "iopub.execute_input": "2023-03-06T18:21:53.939954Z",
     "iopub.status.busy": "2023-03-06T18:21:53.939464Z",
     "iopub.status.idle": "2023-03-06T18:22:01.121113Z",
     "shell.execute_reply": "2023-03-06T18:22:01.120131Z"
    }
   },
   "outputs": [
    {
     "name": "stdout",
     "output_type": "stream",
     "text": [
      "89.1 ns ± 1.3 ns per loop (mean ± std. dev. of 7 runs, 10,000,000 loops each)\n"
     ]
    }
   ],
   "source": [
    "%timeit t.a"
   ]
  },
  {
   "cell_type": "code",
   "execution_count": 6,
   "id": "bd52f867",
   "metadata": {
    "execution": {
     "iopub.execute_input": "2023-03-06T18:22:01.125576Z",
     "iopub.status.busy": "2023-03-06T18:22:01.125134Z",
     "iopub.status.idle": "2023-03-06T18:22:01.135628Z",
     "shell.execute_reply": "2023-03-06T18:22:01.134606Z"
    }
   },
   "outputs": [
    {
     "data": {
      "text/plain": [
       "<FastTreeValue 0x7f248c359940>\n",
       "├── 'a' --> tensor([[ 0.8662,  0.0375, -1.4062],\n",
       "│                   [-1.2433, -0.2751,  0.0101]])\n",
       "└── 'x' --> <FastTreeValue 0x7f248c359e20>\n",
       "    └── 'c' --> tensor([[ 0.1127, -1.0834, -0.8514,  1.7591],\n",
       "                        [-0.0364,  0.6869,  0.7473,  0.9332],\n",
       "                        [-0.4081,  0.5905, -1.7458, -2.5872]])"
      ]
     },
     "execution_count": 6,
     "metadata": {},
     "output_type": "execute_result"
    }
   ],
   "source": [
    "new_value = torch.randn(2, 3)\n",
    "t.a = new_value\n",
    "\n",
    "t"
   ]
  },
  {
   "cell_type": "code",
   "execution_count": 7,
   "id": "bbe04d1c",
   "metadata": {
    "execution": {
     "iopub.execute_input": "2023-03-06T18:22:01.139454Z",
     "iopub.status.busy": "2023-03-06T18:22:01.139041Z",
     "iopub.status.idle": "2023-03-06T18:22:08.777337Z",
     "shell.execute_reply": "2023-03-06T18:22:08.776300Z"
    }
   },
   "outputs": [
    {
     "name": "stdout",
     "output_type": "stream",
     "text": [
      "94.6 ns ± 1.26 ns per loop (mean ± std. dev. of 7 runs, 10,000,000 loops each)\n"
     ]
    }
   ],
   "source": [
    "%timeit t.a = new_value"
   ]
  },
  {
   "cell_type": "markdown",
   "id": "48c49731",
   "metadata": {},
   "source": [
    "### Tianshou Batch's Get and Set"
   ]
  },
  {
   "cell_type": "code",
   "execution_count": 8,
   "id": "f1bb14c1",
   "metadata": {
    "execution": {
     "iopub.execute_input": "2023-03-06T18:22:08.781315Z",
     "iopub.status.busy": "2023-03-06T18:22:08.781035Z",
     "iopub.status.idle": "2023-03-06T18:22:09.307482Z",
     "shell.execute_reply": "2023-03-06T18:22:09.306359Z"
    }
   },
   "outputs": [],
   "source": [
    "from tianshou.data import Batch\n",
    "\n",
    "b = Batch(**_TREE_DATA_2)"
   ]
  },
  {
   "cell_type": "code",
   "execution_count": 9,
   "id": "cb0777c3",
   "metadata": {
    "execution": {
     "iopub.execute_input": "2023-03-06T18:22:09.312448Z",
     "iopub.status.busy": "2023-03-06T18:22:09.311813Z",
     "iopub.status.idle": "2023-03-06T18:22:09.320497Z",
     "shell.execute_reply": "2023-03-06T18:22:09.319559Z"
    }
   },
   "outputs": [
    {
     "data": {
      "text/plain": [
       "Batch(\n",
       "    a: tensor([[-0.8953, -0.7000,  0.8721],\n",
       "               [-1.1243, -0.3469, -0.6253]]),\n",
       "    x: Batch(\n",
       "           c: tensor([[ 0.1127, -1.0834, -0.8514,  1.7591],\n",
       "                      [-0.0364,  0.6869,  0.7473,  0.9332],\n",
       "                      [-0.4081,  0.5905, -1.7458, -2.5872]]),\n",
       "       ),\n",
       ")"
      ]
     },
     "execution_count": 9,
     "metadata": {},
     "output_type": "execute_result"
    }
   ],
   "source": [
    "b"
   ]
  },
  {
   "cell_type": "code",
   "execution_count": 10,
   "id": "43ef8ea3",
   "metadata": {
    "execution": {
     "iopub.execute_input": "2023-03-06T18:22:09.323807Z",
     "iopub.status.busy": "2023-03-06T18:22:09.323491Z",
     "iopub.status.idle": "2023-03-06T18:22:09.330511Z",
     "shell.execute_reply": "2023-03-06T18:22:09.329574Z"
    }
   },
   "outputs": [
    {
     "data": {
      "text/plain": [
       "tensor([[-0.8953, -0.7000,  0.8721],\n",
       "        [-1.1243, -0.3469, -0.6253]])"
      ]
     },
     "execution_count": 10,
     "metadata": {},
     "output_type": "execute_result"
    }
   ],
   "source": [
    "b.a"
   ]
  },
  {
   "cell_type": "code",
   "execution_count": 11,
   "id": "b785ab72",
   "metadata": {
    "execution": {
     "iopub.execute_input": "2023-03-06T18:22:09.333969Z",
     "iopub.status.busy": "2023-03-06T18:22:09.333654Z",
     "iopub.status.idle": "2023-03-06T18:22:15.111520Z",
     "shell.execute_reply": "2023-03-06T18:22:15.110395Z"
    }
   },
   "outputs": [
    {
     "name": "stdout",
     "output_type": "stream",
     "text": [
      "70.9 ns ± 1.45 ns per loop (mean ± std. dev. of 7 runs, 10,000,000 loops each)\n"
     ]
    }
   ],
   "source": [
    "%timeit b.a"
   ]
  },
  {
   "cell_type": "code",
   "execution_count": 12,
   "id": "ad54dc69",
   "metadata": {
    "execution": {
     "iopub.execute_input": "2023-03-06T18:22:15.115635Z",
     "iopub.status.busy": "2023-03-06T18:22:15.114982Z",
     "iopub.status.idle": "2023-03-06T18:22:15.124187Z",
     "shell.execute_reply": "2023-03-06T18:22:15.123292Z"
    }
   },
   "outputs": [
    {
     "data": {
      "text/plain": [
       "Batch(\n",
       "    a: tensor([[ 0.2054,  2.1105,  1.5955],\n",
       "               [ 1.9820, -1.6768, -0.6348]]),\n",
       "    x: Batch(\n",
       "           c: tensor([[ 0.1127, -1.0834, -0.8514,  1.7591],\n",
       "                      [-0.0364,  0.6869,  0.7473,  0.9332],\n",
       "                      [-0.4081,  0.5905, -1.7458, -2.5872]]),\n",
       "       ),\n",
       ")"
      ]
     },
     "execution_count": 12,
     "metadata": {},
     "output_type": "execute_result"
    }
   ],
   "source": [
    "new_value = torch.randn(2, 3)\n",
    "b.a = new_value\n",
    "\n",
    "b"
   ]
  },
  {
   "cell_type": "code",
   "execution_count": 13,
   "id": "29b1d0bf",
   "metadata": {
    "execution": {
     "iopub.execute_input": "2023-03-06T18:22:15.128093Z",
     "iopub.status.busy": "2023-03-06T18:22:15.127034Z",
     "iopub.status.idle": "2023-03-06T18:22:20.538994Z",
     "shell.execute_reply": "2023-03-06T18:22:20.537809Z"
    }
   },
   "outputs": [
    {
     "name": "stdout",
     "output_type": "stream",
     "text": [
      "662 ns ± 7.2 ns per loop (mean ± std. dev. of 7 runs, 1,000,000 loops each)\n"
     ]
    }
   ],
   "source": [
    "%timeit b.a = new_value"
   ]
  },
  {
   "cell_type": "markdown",
   "id": "b61ad1d0",
   "metadata": {},
   "source": [
    "## Initialization"
   ]
  },
  {
   "cell_type": "markdown",
   "id": "d70f0d54",
   "metadata": {},
   "source": [
    "### TreeValue's Initialization"
   ]
  },
  {
   "cell_type": "code",
   "execution_count": 14,
   "id": "d32a679b",
   "metadata": {
    "execution": {
     "iopub.execute_input": "2023-03-06T18:22:20.543421Z",
     "iopub.status.busy": "2023-03-06T18:22:20.543097Z",
     "iopub.status.idle": "2023-03-06T18:22:29.304852Z",
     "shell.execute_reply": "2023-03-06T18:22:29.303432Z"
    }
   },
   "outputs": [
    {
     "name": "stdout",
     "output_type": "stream",
     "text": [
      "1.08 µs ± 13.7 ns per loop (mean ± std. dev. of 7 runs, 1,000,000 loops each)\n"
     ]
    }
   ],
   "source": [
    "%timeit FastTreeValue(_TREE_DATA_1)"
   ]
  },
  {
   "cell_type": "markdown",
   "id": "24f3707b",
   "metadata": {},
   "source": [
    "### Tianshou Batch's Initialization"
   ]
  },
  {
   "cell_type": "code",
   "execution_count": 15,
   "id": "ac3958df",
   "metadata": {
    "execution": {
     "iopub.execute_input": "2023-03-06T18:22:29.309424Z",
     "iopub.status.busy": "2023-03-06T18:22:29.308776Z",
     "iopub.status.idle": "2023-03-06T18:22:41.072176Z",
     "shell.execute_reply": "2023-03-06T18:22:41.071131Z"
    }
   },
   "outputs": [
    {
     "name": "stdout",
     "output_type": "stream",
     "text": [
      "14.5 µs ± 91.3 ns per loop (mean ± std. dev. of 7 runs, 100,000 loops each)\n"
     ]
    }
   ],
   "source": [
    "%timeit Batch(**_TREE_DATA_1)"
   ]
  },
  {
   "cell_type": "markdown",
   "id": "1ab82e2d",
   "metadata": {},
   "source": [
    "## Deep Copy Operation"
   ]
  },
  {
   "cell_type": "code",
   "execution_count": 16,
   "id": "210a9442",
   "metadata": {
    "execution": {
     "iopub.execute_input": "2023-03-06T18:22:41.076402Z",
     "iopub.status.busy": "2023-03-06T18:22:41.075806Z",
     "iopub.status.idle": "2023-03-06T18:22:41.080202Z",
     "shell.execute_reply": "2023-03-06T18:22:41.079186Z"
    }
   },
   "outputs": [],
   "source": [
    "import copy"
   ]
  },
  {
   "cell_type": "markdown",
   "id": "5a736274",
   "metadata": {},
   "source": [
    "### Deep Copy of TreeValue"
   ]
  },
  {
   "cell_type": "code",
   "execution_count": 17,
   "id": "f9bcadd6",
   "metadata": {
    "execution": {
     "iopub.execute_input": "2023-03-06T18:22:41.084175Z",
     "iopub.status.busy": "2023-03-06T18:22:41.083567Z",
     "iopub.status.idle": "2023-03-06T18:22:43.455746Z",
     "shell.execute_reply": "2023-03-06T18:22:43.454840Z"
    }
   },
   "outputs": [
    {
     "name": "stdout",
     "output_type": "stream",
     "text": [
      "288 µs ± 6.01 µs per loop (mean ± std. dev. of 7 runs, 1,000 loops each)\n"
     ]
    }
   ],
   "source": [
    "t3 = FastTreeValue(_TREE_DATA_3)\n",
    "%timeit copy.deepcopy(t3)"
   ]
  },
  {
   "cell_type": "markdown",
   "id": "bf8be7ea",
   "metadata": {},
   "source": [
    "### Deep Copy of Tianshou Batch"
   ]
  },
  {
   "cell_type": "code",
   "execution_count": 18,
   "id": "91998e6f",
   "metadata": {
    "execution": {
     "iopub.execute_input": "2023-03-06T18:22:43.462756Z",
     "iopub.status.busy": "2023-03-06T18:22:43.461389Z",
     "iopub.status.idle": "2023-03-06T18:22:45.720233Z",
     "shell.execute_reply": "2023-03-06T18:22:45.719354Z"
    }
   },
   "outputs": [
    {
     "name": "stdout",
     "output_type": "stream",
     "text": [
      "273 µs ± 5.98 µs per loop (mean ± std. dev. of 7 runs, 1,000 loops each)\n"
     ]
    }
   ],
   "source": [
    "b3 = Batch(**_TREE_DATA_3)\n",
    "%timeit copy.deepcopy(b3)"
   ]
  },
  {
   "cell_type": "markdown",
   "id": "223162fb",
   "metadata": {},
   "source": [
    "## Stack, Concat and Split Operation"
   ]
  },
  {
   "cell_type": "markdown",
   "id": "85fa4a73",
   "metadata": {},
   "source": [
    "### Performance of TreeValue"
   ]
  },
  {
   "cell_type": "code",
   "execution_count": 19,
   "id": "a0c2b697",
   "metadata": {
    "execution": {
     "iopub.execute_input": "2023-03-06T18:22:45.724324Z",
     "iopub.status.busy": "2023-03-06T18:22:45.723630Z",
     "iopub.status.idle": "2023-03-06T18:22:45.728322Z",
     "shell.execute_reply": "2023-03-06T18:22:45.727354Z"
    }
   },
   "outputs": [],
   "source": [
    "trees = [FastTreeValue(_TREE_DATA_2) for _ in range(8)]"
   ]
  },
  {
   "cell_type": "code",
   "execution_count": 20,
   "id": "017ea5a5",
   "metadata": {
    "execution": {
     "iopub.execute_input": "2023-03-06T18:22:45.732041Z",
     "iopub.status.busy": "2023-03-06T18:22:45.731472Z",
     "iopub.status.idle": "2023-03-06T18:22:45.742478Z",
     "shell.execute_reply": "2023-03-06T18:22:45.741478Z"
    }
   },
   "outputs": [
    {
     "data": {
      "text/plain": [
       "<FastTreeValue 0x7f23dc280400>\n",
       "├── 'a' --> tensor([[[-0.8953, -0.7000,  0.8721],\n",
       "│                    [-1.1243, -0.3469, -0.6253]],\n",
       "│           \n",
       "│                   [[-0.8953, -0.7000,  0.8721],\n",
       "│                    [-1.1243, -0.3469, -0.6253]],\n",
       "│           \n",
       "│                   [[-0.8953, -0.7000,  0.8721],\n",
       "│                    [-1.1243, -0.3469, -0.6253]],\n",
       "│           \n",
       "│                   [[-0.8953, -0.7000,  0.8721],\n",
       "│                    [-1.1243, -0.3469, -0.6253]],\n",
       "│           \n",
       "│                   [[-0.8953, -0.7000,  0.8721],\n",
       "│                    [-1.1243, -0.3469, -0.6253]],\n",
       "│           \n",
       "│                   [[-0.8953, -0.7000,  0.8721],\n",
       "│                    [-1.1243, -0.3469, -0.6253]],\n",
       "│           \n",
       "│                   [[-0.8953, -0.7000,  0.8721],\n",
       "│                    [-1.1243, -0.3469, -0.6253]],\n",
       "│           \n",
       "│                   [[-0.8953, -0.7000,  0.8721],\n",
       "│                    [-1.1243, -0.3469, -0.6253]]])\n",
       "└── 'x' --> <FastTreeValue 0x7f23d565cca0>\n",
       "    └── 'c' --> tensor([[[ 0.1127, -1.0834, -0.8514,  1.7591],\n",
       "                         [-0.0364,  0.6869,  0.7473,  0.9332],\n",
       "                         [-0.4081,  0.5905, -1.7458, -2.5872]],\n",
       "                \n",
       "                        [[ 0.1127, -1.0834, -0.8514,  1.7591],\n",
       "                         [-0.0364,  0.6869,  0.7473,  0.9332],\n",
       "                         [-0.4081,  0.5905, -1.7458, -2.5872]],\n",
       "                \n",
       "                        [[ 0.1127, -1.0834, -0.8514,  1.7591],\n",
       "                         [-0.0364,  0.6869,  0.7473,  0.9332],\n",
       "                         [-0.4081,  0.5905, -1.7458, -2.5872]],\n",
       "                \n",
       "                        [[ 0.1127, -1.0834, -0.8514,  1.7591],\n",
       "                         [-0.0364,  0.6869,  0.7473,  0.9332],\n",
       "                         [-0.4081,  0.5905, -1.7458, -2.5872]],\n",
       "                \n",
       "                        [[ 0.1127, -1.0834, -0.8514,  1.7591],\n",
       "                         [-0.0364,  0.6869,  0.7473,  0.9332],\n",
       "                         [-0.4081,  0.5905, -1.7458, -2.5872]],\n",
       "                \n",
       "                        [[ 0.1127, -1.0834, -0.8514,  1.7591],\n",
       "                         [-0.0364,  0.6869,  0.7473,  0.9332],\n",
       "                         [-0.4081,  0.5905, -1.7458, -2.5872]],\n",
       "                \n",
       "                        [[ 0.1127, -1.0834, -0.8514,  1.7591],\n",
       "                         [-0.0364,  0.6869,  0.7473,  0.9332],\n",
       "                         [-0.4081,  0.5905, -1.7458, -2.5872]],\n",
       "                \n",
       "                        [[ 0.1127, -1.0834, -0.8514,  1.7591],\n",
       "                         [-0.0364,  0.6869,  0.7473,  0.9332],\n",
       "                         [-0.4081,  0.5905, -1.7458, -2.5872]]])"
      ]
     },
     "execution_count": 20,
     "metadata": {},
     "output_type": "execute_result"
    }
   ],
   "source": [
    "t_stack = FastTreeValue.func(subside=True)(torch.stack)\n",
    "\n",
    "t_stack(trees)"
   ]
  },
  {
   "cell_type": "code",
   "execution_count": 21,
   "id": "f8b3f415",
   "metadata": {
    "execution": {
     "iopub.execute_input": "2023-03-06T18:22:45.746121Z",
     "iopub.status.busy": "2023-03-06T18:22:45.745809Z",
     "iopub.status.idle": "2023-03-06T18:22:49.754565Z",
     "shell.execute_reply": "2023-03-06T18:22:49.753505Z"
    }
   },
   "outputs": [
    {
     "name": "stdout",
     "output_type": "stream",
     "text": [
      "49.3 µs ± 1.08 µs per loop (mean ± std. dev. of 7 runs, 10,000 loops each)\n"
     ]
    }
   ],
   "source": [
    "%timeit t_stack(trees)"
   ]
  },
  {
   "cell_type": "code",
   "execution_count": 22,
   "id": "94b56771",
   "metadata": {
    "execution": {
     "iopub.execute_input": "2023-03-06T18:22:49.761276Z",
     "iopub.status.busy": "2023-03-06T18:22:49.760367Z",
     "iopub.status.idle": "2023-03-06T18:22:49.772052Z",
     "shell.execute_reply": "2023-03-06T18:22:49.770995Z"
    }
   },
   "outputs": [
    {
     "data": {
      "text/plain": [
       "<FastTreeValue 0x7f23dc280370>\n",
       "├── 'a' --> tensor([[-0.8953, -0.7000,  0.8721],\n",
       "│                   [-1.1243, -0.3469, -0.6253],\n",
       "│                   [-0.8953, -0.7000,  0.8721],\n",
       "│                   [-1.1243, -0.3469, -0.6253],\n",
       "│                   [-0.8953, -0.7000,  0.8721],\n",
       "│                   [-1.1243, -0.3469, -0.6253],\n",
       "│                   [-0.8953, -0.7000,  0.8721],\n",
       "│                   [-1.1243, -0.3469, -0.6253],\n",
       "│                   [-0.8953, -0.7000,  0.8721],\n",
       "│                   [-1.1243, -0.3469, -0.6253],\n",
       "│                   [-0.8953, -0.7000,  0.8721],\n",
       "│                   [-1.1243, -0.3469, -0.6253],\n",
       "│                   [-0.8953, -0.7000,  0.8721],\n",
       "│                   [-1.1243, -0.3469, -0.6253],\n",
       "│                   [-0.8953, -0.7000,  0.8721],\n",
       "│                   [-1.1243, -0.3469, -0.6253]])\n",
       "└── 'x' --> <FastTreeValue 0x7f23dc280430>\n",
       "    └── 'c' --> tensor([[ 0.1127, -1.0834, -0.8514,  1.7591],\n",
       "                        [-0.0364,  0.6869,  0.7473,  0.9332],\n",
       "                        [-0.4081,  0.5905, -1.7458, -2.5872],\n",
       "                        [ 0.1127, -1.0834, -0.8514,  1.7591],\n",
       "                        [-0.0364,  0.6869,  0.7473,  0.9332],\n",
       "                        [-0.4081,  0.5905, -1.7458, -2.5872],\n",
       "                        [ 0.1127, -1.0834, -0.8514,  1.7591],\n",
       "                        [-0.0364,  0.6869,  0.7473,  0.9332],\n",
       "                        [-0.4081,  0.5905, -1.7458, -2.5872],\n",
       "                        [ 0.1127, -1.0834, -0.8514,  1.7591],\n",
       "                        [-0.0364,  0.6869,  0.7473,  0.9332],\n",
       "                        [-0.4081,  0.5905, -1.7458, -2.5872],\n",
       "                        [ 0.1127, -1.0834, -0.8514,  1.7591],\n",
       "                        [-0.0364,  0.6869,  0.7473,  0.9332],\n",
       "                        [-0.4081,  0.5905, -1.7458, -2.5872],\n",
       "                        [ 0.1127, -1.0834, -0.8514,  1.7591],\n",
       "                        [-0.0364,  0.6869,  0.7473,  0.9332],\n",
       "                        [-0.4081,  0.5905, -1.7458, -2.5872],\n",
       "                        [ 0.1127, -1.0834, -0.8514,  1.7591],\n",
       "                        [-0.0364,  0.6869,  0.7473,  0.9332],\n",
       "                        [-0.4081,  0.5905, -1.7458, -2.5872],\n",
       "                        [ 0.1127, -1.0834, -0.8514,  1.7591],\n",
       "                        [-0.0364,  0.6869,  0.7473,  0.9332],\n",
       "                        [-0.4081,  0.5905, -1.7458, -2.5872]])"
      ]
     },
     "execution_count": 22,
     "metadata": {},
     "output_type": "execute_result"
    }
   ],
   "source": [
    "t_cat = FastTreeValue.func(subside=True)(torch.cat)\n",
    "\n",
    "t_cat(trees)"
   ]
  },
  {
   "cell_type": "code",
   "execution_count": 23,
   "id": "5e9c06a6",
   "metadata": {
    "execution": {
     "iopub.execute_input": "2023-03-06T18:22:49.775932Z",
     "iopub.status.busy": "2023-03-06T18:22:49.775620Z",
     "iopub.status.idle": "2023-03-06T18:22:53.444856Z",
     "shell.execute_reply": "2023-03-06T18:22:53.443807Z"
    }
   },
   "outputs": [
    {
     "name": "stdout",
     "output_type": "stream",
     "text": [
      "44.9 µs ± 677 ns per loop (mean ± std. dev. of 7 runs, 10,000 loops each)\n"
     ]
    }
   ],
   "source": [
    "%timeit t_cat(trees)"
   ]
  },
  {
   "cell_type": "code",
   "execution_count": 24,
   "id": "a3ab5c8f",
   "metadata": {
    "execution": {
     "iopub.execute_input": "2023-03-06T18:22:53.448795Z",
     "iopub.status.busy": "2023-03-06T18:22:53.448481Z",
     "iopub.status.idle": "2023-03-06T18:23:00.666140Z",
     "shell.execute_reply": "2023-03-06T18:23:00.664961Z"
    }
   },
   "outputs": [
    {
     "name": "stdout",
     "output_type": "stream",
     "text": [
      "88.5 µs ± 1.74 µs per loop (mean ± std. dev. of 7 runs, 10,000 loops each)\n"
     ]
    }
   ],
   "source": [
    "t_split = FastTreeValue.func(rise=True)(torch.split)\n",
    "tree = FastTreeValue({\n",
    "    'obs': torch.randn(8, 4, 84, 84),\n",
    "    'action': torch.randint(0, 6, size=(8, 1,)),\n",
    "    'reward': torch.rand(8, 1),\n",
    "})\n",
    "\n",
    "%timeit t_split(tree, 1)"
   ]
  },
  {
   "cell_type": "markdown",
   "id": "31c3ec0b",
   "metadata": {},
   "source": [
    "### Performance of Tianshou Batch"
   ]
  },
  {
   "cell_type": "code",
   "execution_count": 25,
   "id": "9ead828a",
   "metadata": {
    "execution": {
     "iopub.execute_input": "2023-03-06T18:23:00.670277Z",
     "iopub.status.busy": "2023-03-06T18:23:00.669926Z",
     "iopub.status.idle": "2023-03-06T18:23:00.681856Z",
     "shell.execute_reply": "2023-03-06T18:23:00.680886Z"
    }
   },
   "outputs": [
    {
     "data": {
      "text/plain": [
       "Batch(\n",
       "    x: Batch(\n",
       "           c: tensor([[[ 0.1127, -1.0834, -0.8514,  1.7591],\n",
       "                       [-0.0364,  0.6869,  0.7473,  0.9332],\n",
       "                       [-0.4081,  0.5905, -1.7458, -2.5872]],\n",
       "              \n",
       "                      [[ 0.1127, -1.0834, -0.8514,  1.7591],\n",
       "                       [-0.0364,  0.6869,  0.7473,  0.9332],\n",
       "                       [-0.4081,  0.5905, -1.7458, -2.5872]],\n",
       "              \n",
       "                      [[ 0.1127, -1.0834, -0.8514,  1.7591],\n",
       "                       [-0.0364,  0.6869,  0.7473,  0.9332],\n",
       "                       [-0.4081,  0.5905, -1.7458, -2.5872]],\n",
       "              \n",
       "                      [[ 0.1127, -1.0834, -0.8514,  1.7591],\n",
       "                       [-0.0364,  0.6869,  0.7473,  0.9332],\n",
       "                       [-0.4081,  0.5905, -1.7458, -2.5872]],\n",
       "              \n",
       "                      [[ 0.1127, -1.0834, -0.8514,  1.7591],\n",
       "                       [-0.0364,  0.6869,  0.7473,  0.9332],\n",
       "                       [-0.4081,  0.5905, -1.7458, -2.5872]],\n",
       "              \n",
       "                      [[ 0.1127, -1.0834, -0.8514,  1.7591],\n",
       "                       [-0.0364,  0.6869,  0.7473,  0.9332],\n",
       "                       [-0.4081,  0.5905, -1.7458, -2.5872]],\n",
       "              \n",
       "                      [[ 0.1127, -1.0834, -0.8514,  1.7591],\n",
       "                       [-0.0364,  0.6869,  0.7473,  0.9332],\n",
       "                       [-0.4081,  0.5905, -1.7458, -2.5872]],\n",
       "              \n",
       "                      [[ 0.1127, -1.0834, -0.8514,  1.7591],\n",
       "                       [-0.0364,  0.6869,  0.7473,  0.9332],\n",
       "                       [-0.4081,  0.5905, -1.7458, -2.5872]]]),\n",
       "       ),\n",
       "    a: tensor([[[-0.8953, -0.7000,  0.8721],\n",
       "                [-1.1243, -0.3469, -0.6253]],\n",
       "       \n",
       "               [[-0.8953, -0.7000,  0.8721],\n",
       "                [-1.1243, -0.3469, -0.6253]],\n",
       "       \n",
       "               [[-0.8953, -0.7000,  0.8721],\n",
       "                [-1.1243, -0.3469, -0.6253]],\n",
       "       \n",
       "               [[-0.8953, -0.7000,  0.8721],\n",
       "                [-1.1243, -0.3469, -0.6253]],\n",
       "       \n",
       "               [[-0.8953, -0.7000,  0.8721],\n",
       "                [-1.1243, -0.3469, -0.6253]],\n",
       "       \n",
       "               [[-0.8953, -0.7000,  0.8721],\n",
       "                [-1.1243, -0.3469, -0.6253]],\n",
       "       \n",
       "               [[-0.8953, -0.7000,  0.8721],\n",
       "                [-1.1243, -0.3469, -0.6253]],\n",
       "       \n",
       "               [[-0.8953, -0.7000,  0.8721],\n",
       "                [-1.1243, -0.3469, -0.6253]]]),\n",
       ")"
      ]
     },
     "execution_count": 25,
     "metadata": {},
     "output_type": "execute_result"
    }
   ],
   "source": [
    "batches = [Batch(**_TREE_DATA_2) for _ in range(8)]\n",
    "\n",
    "Batch.stack(batches)"
   ]
  },
  {
   "cell_type": "code",
   "execution_count": 26,
   "id": "ec9037a3",
   "metadata": {
    "execution": {
     "iopub.execute_input": "2023-03-06T18:23:00.685947Z",
     "iopub.status.busy": "2023-03-06T18:23:00.685218Z",
     "iopub.status.idle": "2023-03-06T18:23:09.501546Z",
     "shell.execute_reply": "2023-03-06T18:23:09.500511Z"
    }
   },
   "outputs": [
    {
     "name": "stdout",
     "output_type": "stream",
     "text": [
      "108 µs ± 1.01 µs per loop (mean ± std. dev. of 7 runs, 10,000 loops each)\n"
     ]
    }
   ],
   "source": [
    "%timeit Batch.stack(batches)"
   ]
  },
  {
   "cell_type": "code",
   "execution_count": 27,
   "id": "cb8ab77e",
   "metadata": {
    "execution": {
     "iopub.execute_input": "2023-03-06T18:23:09.505626Z",
     "iopub.status.busy": "2023-03-06T18:23:09.505041Z",
     "iopub.status.idle": "2023-03-06T18:23:09.515581Z",
     "shell.execute_reply": "2023-03-06T18:23:09.514595Z"
    }
   },
   "outputs": [
    {
     "data": {
      "text/plain": [
       "Batch(\n",
       "    x: Batch(\n",
       "           c: tensor([[ 0.1127, -1.0834, -0.8514,  1.7591],\n",
       "                      [-0.0364,  0.6869,  0.7473,  0.9332],\n",
       "                      [-0.4081,  0.5905, -1.7458, -2.5872],\n",
       "                      [ 0.1127, -1.0834, -0.8514,  1.7591],\n",
       "                      [-0.0364,  0.6869,  0.7473,  0.9332],\n",
       "                      [-0.4081,  0.5905, -1.7458, -2.5872],\n",
       "                      [ 0.1127, -1.0834, -0.8514,  1.7591],\n",
       "                      [-0.0364,  0.6869,  0.7473,  0.9332],\n",
       "                      [-0.4081,  0.5905, -1.7458, -2.5872],\n",
       "                      [ 0.1127, -1.0834, -0.8514,  1.7591],\n",
       "                      [-0.0364,  0.6869,  0.7473,  0.9332],\n",
       "                      [-0.4081,  0.5905, -1.7458, -2.5872],\n",
       "                      [ 0.1127, -1.0834, -0.8514,  1.7591],\n",
       "                      [-0.0364,  0.6869,  0.7473,  0.9332],\n",
       "                      [-0.4081,  0.5905, -1.7458, -2.5872],\n",
       "                      [ 0.1127, -1.0834, -0.8514,  1.7591],\n",
       "                      [-0.0364,  0.6869,  0.7473,  0.9332],\n",
       "                      [-0.4081,  0.5905, -1.7458, -2.5872],\n",
       "                      [ 0.1127, -1.0834, -0.8514,  1.7591],\n",
       "                      [-0.0364,  0.6869,  0.7473,  0.9332],\n",
       "                      [-0.4081,  0.5905, -1.7458, -2.5872],\n",
       "                      [ 0.1127, -1.0834, -0.8514,  1.7591],\n",
       "                      [-0.0364,  0.6869,  0.7473,  0.9332],\n",
       "                      [-0.4081,  0.5905, -1.7458, -2.5872]]),\n",
       "       ),\n",
       "    a: tensor([[-0.8953, -0.7000,  0.8721],\n",
       "               [-1.1243, -0.3469, -0.6253],\n",
       "               [-0.8953, -0.7000,  0.8721],\n",
       "               [-1.1243, -0.3469, -0.6253],\n",
       "               [-0.8953, -0.7000,  0.8721],\n",
       "               [-1.1243, -0.3469, -0.6253],\n",
       "               [-0.8953, -0.7000,  0.8721],\n",
       "               [-1.1243, -0.3469, -0.6253],\n",
       "               [-0.8953, -0.7000,  0.8721],\n",
       "               [-1.1243, -0.3469, -0.6253],\n",
       "               [-0.8953, -0.7000,  0.8721],\n",
       "               [-1.1243, -0.3469, -0.6253],\n",
       "               [-0.8953, -0.7000,  0.8721],\n",
       "               [-1.1243, -0.3469, -0.6253],\n",
       "               [-0.8953, -0.7000,  0.8721],\n",
       "               [-1.1243, -0.3469, -0.6253]]),\n",
       ")"
      ]
     },
     "execution_count": 27,
     "metadata": {},
     "output_type": "execute_result"
    }
   ],
   "source": [
    "Batch.cat(batches)"
   ]
  },
  {
   "cell_type": "code",
   "execution_count": 28,
   "id": "18dfb045",
   "metadata": {
    "execution": {
     "iopub.execute_input": "2023-03-06T18:23:09.519584Z",
     "iopub.status.busy": "2023-03-06T18:23:09.519037Z",
     "iopub.status.idle": "2023-03-06T18:23:25.601847Z",
     "shell.execute_reply": "2023-03-06T18:23:25.600738Z"
    }
   },
   "outputs": [
    {
     "name": "stdout",
     "output_type": "stream",
     "text": [
      "198 µs ± 1.31 µs per loop (mean ± std. dev. of 7 runs, 10,000 loops each)\n"
     ]
    }
   ],
   "source": [
    "%timeit Batch.cat(batches)"
   ]
  },
  {
   "cell_type": "code",
   "execution_count": 29,
   "id": "c6688e51",
   "metadata": {
    "execution": {
     "iopub.execute_input": "2023-03-06T18:23:25.606632Z",
     "iopub.status.busy": "2023-03-06T18:23:25.605400Z",
     "iopub.status.idle": "2023-03-06T18:23:30.248808Z",
     "shell.execute_reply": "2023-03-06T18:23:30.247853Z"
    }
   },
   "outputs": [
    {
     "name": "stdout",
     "output_type": "stream",
     "text": [
      "568 µs ± 15.8 µs per loop (mean ± std. dev. of 7 runs, 1,000 loops each)\n"
     ]
    }
   ],
   "source": [
    "batch = Batch({\n",
    "    'obs': torch.randn(8, 4, 84, 84),\n",
    "    'action': torch.randint(0, 6, size=(8, 1,)),\n",
    "    'reward': torch.rand(8, 1)}\n",
    ")\n",
    "\n",
    "%timeit list(Batch.split(batch, 1, shuffle=False, merge_last=True))"
   ]
  },
  {
   "cell_type": "code",
   "execution_count": null,
   "id": "2539fbd9",
   "metadata": {},
   "outputs": [],
   "source": []
  }
 ],
 "metadata": {
  "kernelspec": {
   "display_name": "Python 3 (ipykernel)",
   "language": "python",
   "name": "python3"
  },
  "language_info": {
   "codemirror_mode": {
    "name": "ipython",
    "version": 3
   },
   "file_extension": ".py",
   "mimetype": "text/x-python",
   "name": "python",
   "nbconvert_exporter": "python",
   "pygments_lexer": "ipython3",
   "version": "3.8.16"
  }
 },
 "nbformat": 4,
 "nbformat_minor": 5
}
