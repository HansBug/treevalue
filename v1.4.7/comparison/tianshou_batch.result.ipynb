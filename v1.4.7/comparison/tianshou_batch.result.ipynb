{
 "cells": [
  {
   "cell_type": "markdown",
   "id": "9d39d946",
   "metadata": {},
   "source": [
    "# Comparison Between TreeValue and Tianshou Batch"
   ]
  },
  {
   "cell_type": "markdown",
   "id": "3c6db2d4",
   "metadata": {},
   "source": [
    "In this section, we will take a look at the feature and performance of the [Tianshou Batch](https://github.com/thu-ml/tianshou) library, which is developed by Tsinghua Machine Learning Group."
   ]
  },
  {
   "cell_type": "markdown",
   "id": "069361b0",
   "metadata": {},
   "source": [
    "Before starting the comparison, let us define some thing."
   ]
  },
  {
   "cell_type": "code",
   "execution_count": 1,
   "id": "06fc8d26",
   "metadata": {
    "execution": {
     "iopub.execute_input": "2023-08-10T04:55:19.629773Z",
     "iopub.status.busy": "2023-08-10T04:55:19.629196Z",
     "iopub.status.idle": "2023-08-10T04:55:21.303856Z",
     "shell.execute_reply": "2023-08-10T04:55:21.302993Z"
    }
   },
   "outputs": [],
   "source": [
    "import torch \n",
    "\n",
    "_TREE_DATA_1 = {'a': 1, 'b': 2, 'x': {'c': 3, 'd': 4}}\n",
    "_TREE_DATA_2 = {\n",
    "    'a': torch.randn(2, 3), \n",
    "    'x': {\n",
    "        'c': torch.randn(3, 4)\n",
    "    },\n",
    "}\n",
    "_TREE_DATA_3 = {\n",
    "    'obs': torch.randn(4, 84, 84),\n",
    "    'action': torch.randint(0, 6, size=(1,)),\n",
    "    'reward': torch.rand(1),\n",
    "}"
   ]
  },
  {
   "cell_type": "markdown",
   "id": "83461b25",
   "metadata": {},
   "source": [
    "## Read and Write Operation"
   ]
  },
  {
   "cell_type": "markdown",
   "id": "067b3f73",
   "metadata": {},
   "source": [
    "Reading and writing are the two most common operations in the tree data structure based on the data model (TreeValue and Tianshou Batch both belong to this type), so this section will compare the reading and writing performance of these two libraries."
   ]
  },
  {
   "cell_type": "markdown",
   "id": "5d09a5b7",
   "metadata": {},
   "source": [
    "### TreeValue's Get and Set"
   ]
  },
  {
   "cell_type": "code",
   "execution_count": 2,
   "id": "9519c4bb",
   "metadata": {
    "execution": {
     "iopub.execute_input": "2023-08-10T04:55:21.308526Z",
     "iopub.status.busy": "2023-08-10T04:55:21.307973Z",
     "iopub.status.idle": "2023-08-10T04:55:21.699133Z",
     "shell.execute_reply": "2023-08-10T04:55:21.697958Z"
    }
   },
   "outputs": [],
   "source": [
    "from treevalue import FastTreeValue\n",
    "\n",
    "t = FastTreeValue(_TREE_DATA_2)"
   ]
  },
  {
   "cell_type": "code",
   "execution_count": 3,
   "id": "11c37677",
   "metadata": {
    "execution": {
     "iopub.execute_input": "2023-08-10T04:55:21.705028Z",
     "iopub.status.busy": "2023-08-10T04:55:21.704633Z",
     "iopub.status.idle": "2023-08-10T04:55:21.714880Z",
     "shell.execute_reply": "2023-08-10T04:55:21.714028Z"
    }
   },
   "outputs": [
    {
     "data": {
      "text/plain": [
       "<FastTreeValue 0x7f25b64d2b80>\n",
       "├── 'a' --> tensor([[ 0.8073, -0.3800,  0.1794],\n",
       "│                   [ 0.7944,  1.5094, -1.2506]])\n",
       "└── 'x' --> <FastTreeValue 0x7f25b64d2190>\n",
       "    └── 'c' --> tensor([[ 0.1605,  0.0481, -1.2596,  0.9228],\n",
       "                        [ 0.1301, -0.2952, -1.0788, -0.0202],\n",
       "                        [ 0.5730, -0.3408, -0.3105,  0.7983]])"
      ]
     },
     "execution_count": 3,
     "metadata": {},
     "output_type": "execute_result"
    }
   ],
   "source": [
    "t"
   ]
  },
  {
   "cell_type": "code",
   "execution_count": 4,
   "id": "fd70b0b9",
   "metadata": {
    "execution": {
     "iopub.execute_input": "2023-08-10T04:55:21.719324Z",
     "iopub.status.busy": "2023-08-10T04:55:21.718783Z",
     "iopub.status.idle": "2023-08-10T04:55:21.724719Z",
     "shell.execute_reply": "2023-08-10T04:55:21.723878Z"
    }
   },
   "outputs": [
    {
     "data": {
      "text/plain": [
       "tensor([[ 0.8073, -0.3800,  0.1794],\n",
       "        [ 0.7944,  1.5094, -1.2506]])"
      ]
     },
     "execution_count": 4,
     "metadata": {},
     "output_type": "execute_result"
    }
   ],
   "source": [
    "t.a"
   ]
  },
  {
   "cell_type": "code",
   "execution_count": 5,
   "id": "c18197bd",
   "metadata": {
    "execution": {
     "iopub.execute_input": "2023-08-10T04:55:21.729253Z",
     "iopub.status.busy": "2023-08-10T04:55:21.728728Z",
     "iopub.status.idle": "2023-08-10T04:55:28.774482Z",
     "shell.execute_reply": "2023-08-10T04:55:28.771430Z"
    }
   },
   "outputs": [
    {
     "name": "stdout",
     "output_type": "stream",
     "text": [
      "86.6 ns ± 0.44 ns per loop (mean ± std. dev. of 7 runs, 10,000,000 loops each)\n"
     ]
    }
   ],
   "source": [
    "%timeit t.a"
   ]
  },
  {
   "cell_type": "code",
   "execution_count": 6,
   "id": "bd52f867",
   "metadata": {
    "execution": {
     "iopub.execute_input": "2023-08-10T04:55:28.779656Z",
     "iopub.status.busy": "2023-08-10T04:55:28.779091Z",
     "iopub.status.idle": "2023-08-10T04:55:28.786527Z",
     "shell.execute_reply": "2023-08-10T04:55:28.785706Z"
    }
   },
   "outputs": [
    {
     "data": {
      "text/plain": [
       "<FastTreeValue 0x7f25b64d2b80>\n",
       "├── 'a' --> tensor([[ 0.3499,  0.0298,  0.5287],\n",
       "│                   [-0.1747,  1.6837, -0.1686]])\n",
       "└── 'x' --> <FastTreeValue 0x7f25b64d2190>\n",
       "    └── 'c' --> tensor([[ 0.1605,  0.0481, -1.2596,  0.9228],\n",
       "                        [ 0.1301, -0.2952, -1.0788, -0.0202],\n",
       "                        [ 0.5730, -0.3408, -0.3105,  0.7983]])"
      ]
     },
     "execution_count": 6,
     "metadata": {},
     "output_type": "execute_result"
    }
   ],
   "source": [
    "new_value = torch.randn(2, 3)\n",
    "t.a = new_value\n",
    "\n",
    "t"
   ]
  },
  {
   "cell_type": "code",
   "execution_count": 7,
   "id": "bbe04d1c",
   "metadata": {
    "execution": {
     "iopub.execute_input": "2023-08-10T04:55:28.790384Z",
     "iopub.status.busy": "2023-08-10T04:55:28.789853Z",
     "iopub.status.idle": "2023-08-10T04:55:36.064547Z",
     "shell.execute_reply": "2023-08-10T04:55:36.063730Z"
    }
   },
   "outputs": [
    {
     "name": "stdout",
     "output_type": "stream",
     "text": [
      "89.7 ns ± 0.47 ns per loop (mean ± std. dev. of 7 runs, 10,000,000 loops each)\n"
     ]
    }
   ],
   "source": [
    "%timeit t.a = new_value"
   ]
  },
  {
   "cell_type": "markdown",
   "id": "48c49731",
   "metadata": {},
   "source": [
    "### Tianshou Batch's Get and Set"
   ]
  },
  {
   "cell_type": "code",
   "execution_count": 8,
   "id": "f1bb14c1",
   "metadata": {
    "execution": {
     "iopub.execute_input": "2023-08-10T04:55:36.068871Z",
     "iopub.status.busy": "2023-08-10T04:55:36.067990Z",
     "iopub.status.idle": "2023-08-10T04:55:36.509331Z",
     "shell.execute_reply": "2023-08-10T04:55:36.508412Z"
    }
   },
   "outputs": [],
   "source": [
    "from tianshou.data import Batch\n",
    "\n",
    "b = Batch(**_TREE_DATA_2)"
   ]
  },
  {
   "cell_type": "code",
   "execution_count": 9,
   "id": "cb0777c3",
   "metadata": {
    "execution": {
     "iopub.execute_input": "2023-08-10T04:55:36.514016Z",
     "iopub.status.busy": "2023-08-10T04:55:36.513147Z",
     "iopub.status.idle": "2023-08-10T04:55:36.520402Z",
     "shell.execute_reply": "2023-08-10T04:55:36.519569Z"
    }
   },
   "outputs": [
    {
     "data": {
      "text/plain": [
       "Batch(\n",
       "    a: tensor([[ 0.8073, -0.3800,  0.1794],\n",
       "               [ 0.7944,  1.5094, -1.2506]]),\n",
       "    x: Batch(\n",
       "           c: tensor([[ 0.1605,  0.0481, -1.2596,  0.9228],\n",
       "                      [ 0.1301, -0.2952, -1.0788, -0.0202],\n",
       "                      [ 0.5730, -0.3408, -0.3105,  0.7983]]),\n",
       "       ),\n",
       ")"
      ]
     },
     "execution_count": 9,
     "metadata": {},
     "output_type": "execute_result"
    }
   ],
   "source": [
    "b"
   ]
  },
  {
   "cell_type": "code",
   "execution_count": 10,
   "id": "43ef8ea3",
   "metadata": {
    "execution": {
     "iopub.execute_input": "2023-08-10T04:55:36.524186Z",
     "iopub.status.busy": "2023-08-10T04:55:36.523627Z",
     "iopub.status.idle": "2023-08-10T04:55:36.530286Z",
     "shell.execute_reply": "2023-08-10T04:55:36.529447Z"
    }
   },
   "outputs": [
    {
     "data": {
      "text/plain": [
       "tensor([[ 0.8073, -0.3800,  0.1794],\n",
       "        [ 0.7944,  1.5094, -1.2506]])"
      ]
     },
     "execution_count": 10,
     "metadata": {},
     "output_type": "execute_result"
    }
   ],
   "source": [
    "b.a"
   ]
  },
  {
   "cell_type": "code",
   "execution_count": 11,
   "id": "b785ab72",
   "metadata": {
    "execution": {
     "iopub.execute_input": "2023-08-10T04:55:36.534193Z",
     "iopub.status.busy": "2023-08-10T04:55:36.533651Z",
     "iopub.status.idle": "2023-08-10T04:55:42.721397Z",
     "shell.execute_reply": "2023-08-10T04:55:42.720310Z"
    }
   },
   "outputs": [
    {
     "name": "stdout",
     "output_type": "stream",
     "text": [
      "75.9 ns ± 0.271 ns per loop (mean ± std. dev. of 7 runs, 10,000,000 loops each)\n"
     ]
    }
   ],
   "source": [
    "%timeit b.a"
   ]
  },
  {
   "cell_type": "code",
   "execution_count": 12,
   "id": "ad54dc69",
   "metadata": {
    "execution": {
     "iopub.execute_input": "2023-08-10T04:55:42.725792Z",
     "iopub.status.busy": "2023-08-10T04:55:42.725066Z",
     "iopub.status.idle": "2023-08-10T04:55:42.733784Z",
     "shell.execute_reply": "2023-08-10T04:55:42.733073Z"
    }
   },
   "outputs": [
    {
     "data": {
      "text/plain": [
       "Batch(\n",
       "    a: tensor([[-0.7542,  2.4856,  1.3376],\n",
       "               [ 0.1636,  1.7298, -0.2545]]),\n",
       "    x: Batch(\n",
       "           c: tensor([[ 0.1605,  0.0481, -1.2596,  0.9228],\n",
       "                      [ 0.1301, -0.2952, -1.0788, -0.0202],\n",
       "                      [ 0.5730, -0.3408, -0.3105,  0.7983]]),\n",
       "       ),\n",
       ")"
      ]
     },
     "execution_count": 12,
     "metadata": {},
     "output_type": "execute_result"
    }
   ],
   "source": [
    "new_value = torch.randn(2, 3)\n",
    "b.a = new_value\n",
    "\n",
    "b"
   ]
  },
  {
   "cell_type": "code",
   "execution_count": 13,
   "id": "29b1d0bf",
   "metadata": {
    "execution": {
     "iopub.execute_input": "2023-08-10T04:55:42.737362Z",
     "iopub.status.busy": "2023-08-10T04:55:42.736823Z",
     "iopub.status.idle": "2023-08-10T04:55:47.919658Z",
     "shell.execute_reply": "2023-08-10T04:55:47.917646Z"
    }
   },
   "outputs": [
    {
     "name": "stdout",
     "output_type": "stream",
     "text": [
      "638 ns ± 4.92 ns per loop (mean ± std. dev. of 7 runs, 1,000,000 loops each)\n"
     ]
    }
   ],
   "source": [
    "%timeit b.a = new_value"
   ]
  },
  {
   "cell_type": "markdown",
   "id": "b61ad1d0",
   "metadata": {},
   "source": [
    "## Initialization"
   ]
  },
  {
   "cell_type": "markdown",
   "id": "d70f0d54",
   "metadata": {},
   "source": [
    "### TreeValue's Initialization"
   ]
  },
  {
   "cell_type": "code",
   "execution_count": 14,
   "id": "d32a679b",
   "metadata": {
    "execution": {
     "iopub.execute_input": "2023-08-10T04:55:47.924081Z",
     "iopub.status.busy": "2023-08-10T04:55:47.923325Z",
     "iopub.status.idle": "2023-08-10T04:55:56.358419Z",
     "shell.execute_reply": "2023-08-10T04:55:56.357170Z"
    }
   },
   "outputs": [
    {
     "name": "stdout",
     "output_type": "stream",
     "text": [
      "1.04 µs ± 11.9 ns per loop (mean ± std. dev. of 7 runs, 1,000,000 loops each)\n"
     ]
    }
   ],
   "source": [
    "%timeit FastTreeValue(_TREE_DATA_1)"
   ]
  },
  {
   "cell_type": "markdown",
   "id": "24f3707b",
   "metadata": {},
   "source": [
    "### Tianshou Batch's Initialization"
   ]
  },
  {
   "cell_type": "code",
   "execution_count": 15,
   "id": "ac3958df",
   "metadata": {
    "execution": {
     "iopub.execute_input": "2023-08-10T04:55:56.363111Z",
     "iopub.status.busy": "2023-08-10T04:55:56.362316Z",
     "iopub.status.idle": "2023-08-10T04:56:06.263437Z",
     "shell.execute_reply": "2023-08-10T04:56:06.262021Z"
    }
   },
   "outputs": [
    {
     "name": "stdout",
     "output_type": "stream",
     "text": [
      "12.2 µs ± 59.9 ns per loop (mean ± std. dev. of 7 runs, 100,000 loops each)\n"
     ]
    }
   ],
   "source": [
    "%timeit Batch(**_TREE_DATA_1)"
   ]
  },
  {
   "cell_type": "markdown",
   "id": "1ab82e2d",
   "metadata": {},
   "source": [
    "## Deep Copy Operation"
   ]
  },
  {
   "cell_type": "code",
   "execution_count": 16,
   "id": "210a9442",
   "metadata": {
    "execution": {
     "iopub.execute_input": "2023-08-10T04:56:06.267821Z",
     "iopub.status.busy": "2023-08-10T04:56:06.267116Z",
     "iopub.status.idle": "2023-08-10T04:56:06.271007Z",
     "shell.execute_reply": "2023-08-10T04:56:06.270157Z"
    }
   },
   "outputs": [],
   "source": [
    "import copy"
   ]
  },
  {
   "cell_type": "markdown",
   "id": "5a736274",
   "metadata": {},
   "source": [
    "### Deep Copy of TreeValue"
   ]
  },
  {
   "cell_type": "code",
   "execution_count": 17,
   "id": "f9bcadd6",
   "metadata": {
    "execution": {
     "iopub.execute_input": "2023-08-10T04:56:06.274853Z",
     "iopub.status.busy": "2023-08-10T04:56:06.274152Z",
     "iopub.status.idle": "2023-08-10T04:56:19.649563Z",
     "shell.execute_reply": "2023-08-10T04:56:19.648804Z"
    }
   },
   "outputs": [
    {
     "name": "stdout",
     "output_type": "stream",
     "text": [
      "165 µs ± 1.97 µs per loop (mean ± std. dev. of 7 runs, 10,000 loops each)\n"
     ]
    }
   ],
   "source": [
    "t3 = FastTreeValue(_TREE_DATA_3)\n",
    "%timeit copy.deepcopy(t3)"
   ]
  },
  {
   "cell_type": "markdown",
   "id": "bf8be7ea",
   "metadata": {},
   "source": [
    "### Deep Copy of Tianshou Batch"
   ]
  },
  {
   "cell_type": "code",
   "execution_count": 18,
   "id": "91998e6f",
   "metadata": {
    "execution": {
     "iopub.execute_input": "2023-08-10T04:56:19.653611Z",
     "iopub.status.busy": "2023-08-10T04:56:19.653013Z",
     "iopub.status.idle": "2023-08-10T04:56:32.890179Z",
     "shell.execute_reply": "2023-08-10T04:56:32.889249Z"
    }
   },
   "outputs": [
    {
     "name": "stdout",
     "output_type": "stream",
     "text": [
      "163 µs ± 1.67 µs per loop (mean ± std. dev. of 7 runs, 10,000 loops each)\n"
     ]
    }
   ],
   "source": [
    "b3 = Batch(**_TREE_DATA_3)\n",
    "%timeit copy.deepcopy(b3)"
   ]
  },
  {
   "cell_type": "markdown",
   "id": "223162fb",
   "metadata": {},
   "source": [
    "## Stack, Concat and Split Operation"
   ]
  },
  {
   "cell_type": "markdown",
   "id": "85fa4a73",
   "metadata": {},
   "source": [
    "### Performance of TreeValue"
   ]
  },
  {
   "cell_type": "code",
   "execution_count": 19,
   "id": "a0c2b697",
   "metadata": {
    "execution": {
     "iopub.execute_input": "2023-08-10T04:56:32.894165Z",
     "iopub.status.busy": "2023-08-10T04:56:32.893872Z",
     "iopub.status.idle": "2023-08-10T04:56:32.897786Z",
     "shell.execute_reply": "2023-08-10T04:56:32.896995Z"
    }
   },
   "outputs": [],
   "source": [
    "trees = [FastTreeValue(_TREE_DATA_2) for _ in range(8)]"
   ]
  },
  {
   "cell_type": "code",
   "execution_count": 20,
   "id": "017ea5a5",
   "metadata": {
    "execution": {
     "iopub.execute_input": "2023-08-10T04:56:32.902456Z",
     "iopub.status.busy": "2023-08-10T04:56:32.901837Z",
     "iopub.status.idle": "2023-08-10T04:56:32.911804Z",
     "shell.execute_reply": "2023-08-10T04:56:32.911126Z"
    }
   },
   "outputs": [
    {
     "data": {
      "text/plain": [
       "<FastTreeValue 0x7f25b4447e80>\n",
       "├── 'a' --> tensor([[[ 0.8073, -0.3800,  0.1794],\n",
       "│                    [ 0.7944,  1.5094, -1.2506]],\n",
       "│           \n",
       "│                   [[ 0.8073, -0.3800,  0.1794],\n",
       "│                    [ 0.7944,  1.5094, -1.2506]],\n",
       "│           \n",
       "│                   [[ 0.8073, -0.3800,  0.1794],\n",
       "│                    [ 0.7944,  1.5094, -1.2506]],\n",
       "│           \n",
       "│                   [[ 0.8073, -0.3800,  0.1794],\n",
       "│                    [ 0.7944,  1.5094, -1.2506]],\n",
       "│           \n",
       "│                   [[ 0.8073, -0.3800,  0.1794],\n",
       "│                    [ 0.7944,  1.5094, -1.2506]],\n",
       "│           \n",
       "│                   [[ 0.8073, -0.3800,  0.1794],\n",
       "│                    [ 0.7944,  1.5094, -1.2506]],\n",
       "│           \n",
       "│                   [[ 0.8073, -0.3800,  0.1794],\n",
       "│                    [ 0.7944,  1.5094, -1.2506]],\n",
       "│           \n",
       "│                   [[ 0.8073, -0.3800,  0.1794],\n",
       "│                    [ 0.7944,  1.5094, -1.2506]]])\n",
       "└── 'x' --> <FastTreeValue 0x7f24ee7e9cd0>\n",
       "    └── 'c' --> tensor([[[ 0.1605,  0.0481, -1.2596,  0.9228],\n",
       "                         [ 0.1301, -0.2952, -1.0788, -0.0202],\n",
       "                         [ 0.5730, -0.3408, -0.3105,  0.7983]],\n",
       "                \n",
       "                        [[ 0.1605,  0.0481, -1.2596,  0.9228],\n",
       "                         [ 0.1301, -0.2952, -1.0788, -0.0202],\n",
       "                         [ 0.5730, -0.3408, -0.3105,  0.7983]],\n",
       "                \n",
       "                        [[ 0.1605,  0.0481, -1.2596,  0.9228],\n",
       "                         [ 0.1301, -0.2952, -1.0788, -0.0202],\n",
       "                         [ 0.5730, -0.3408, -0.3105,  0.7983]],\n",
       "                \n",
       "                        [[ 0.1605,  0.0481, -1.2596,  0.9228],\n",
       "                         [ 0.1301, -0.2952, -1.0788, -0.0202],\n",
       "                         [ 0.5730, -0.3408, -0.3105,  0.7983]],\n",
       "                \n",
       "                        [[ 0.1605,  0.0481, -1.2596,  0.9228],\n",
       "                         [ 0.1301, -0.2952, -1.0788, -0.0202],\n",
       "                         [ 0.5730, -0.3408, -0.3105,  0.7983]],\n",
       "                \n",
       "                        [[ 0.1605,  0.0481, -1.2596,  0.9228],\n",
       "                         [ 0.1301, -0.2952, -1.0788, -0.0202],\n",
       "                         [ 0.5730, -0.3408, -0.3105,  0.7983]],\n",
       "                \n",
       "                        [[ 0.1605,  0.0481, -1.2596,  0.9228],\n",
       "                         [ 0.1301, -0.2952, -1.0788, -0.0202],\n",
       "                         [ 0.5730, -0.3408, -0.3105,  0.7983]],\n",
       "                \n",
       "                        [[ 0.1605,  0.0481, -1.2596,  0.9228],\n",
       "                         [ 0.1301, -0.2952, -1.0788, -0.0202],\n",
       "                         [ 0.5730, -0.3408, -0.3105,  0.7983]]])"
      ]
     },
     "execution_count": 20,
     "metadata": {},
     "output_type": "execute_result"
    }
   ],
   "source": [
    "t_stack = FastTreeValue.func(subside=True)(torch.stack)\n",
    "\n",
    "t_stack(trees)"
   ]
  },
  {
   "cell_type": "code",
   "execution_count": 21,
   "id": "f8b3f415",
   "metadata": {
    "execution": {
     "iopub.execute_input": "2023-08-10T04:56:32.915080Z",
     "iopub.status.busy": "2023-08-10T04:56:32.914652Z",
     "iopub.status.idle": "2023-08-10T04:56:35.948199Z",
     "shell.execute_reply": "2023-08-10T04:56:35.947310Z"
    }
   },
   "outputs": [
    {
     "name": "stdout",
     "output_type": "stream",
     "text": [
      "37.2 µs ± 809 ns per loop (mean ± std. dev. of 7 runs, 10,000 loops each)\n"
     ]
    }
   ],
   "source": [
    "%timeit t_stack(trees)"
   ]
  },
  {
   "cell_type": "code",
   "execution_count": 22,
   "id": "94b56771",
   "metadata": {
    "execution": {
     "iopub.execute_input": "2023-08-10T04:56:35.952359Z",
     "iopub.status.busy": "2023-08-10T04:56:35.951580Z",
     "iopub.status.idle": "2023-08-10T04:56:35.960082Z",
     "shell.execute_reply": "2023-08-10T04:56:35.959295Z"
    }
   },
   "outputs": [
    {
     "data": {
      "text/plain": [
       "<FastTreeValue 0x7f24dbcbfca0>\n",
       "├── 'a' --> tensor([[ 0.8073, -0.3800,  0.1794],\n",
       "│                   [ 0.7944,  1.5094, -1.2506],\n",
       "│                   [ 0.8073, -0.3800,  0.1794],\n",
       "│                   [ 0.7944,  1.5094, -1.2506],\n",
       "│                   [ 0.8073, -0.3800,  0.1794],\n",
       "│                   [ 0.7944,  1.5094, -1.2506],\n",
       "│                   [ 0.8073, -0.3800,  0.1794],\n",
       "│                   [ 0.7944,  1.5094, -1.2506],\n",
       "│                   [ 0.8073, -0.3800,  0.1794],\n",
       "│                   [ 0.7944,  1.5094, -1.2506],\n",
       "│                   [ 0.8073, -0.3800,  0.1794],\n",
       "│                   [ 0.7944,  1.5094, -1.2506],\n",
       "│                   [ 0.8073, -0.3800,  0.1794],\n",
       "│                   [ 0.7944,  1.5094, -1.2506],\n",
       "│                   [ 0.8073, -0.3800,  0.1794],\n",
       "│                   [ 0.7944,  1.5094, -1.2506]])\n",
       "└── 'x' --> <FastTreeValue 0x7f24dbcbfc10>\n",
       "    └── 'c' --> tensor([[ 0.1605,  0.0481, -1.2596,  0.9228],\n",
       "                        [ 0.1301, -0.2952, -1.0788, -0.0202],\n",
       "                        [ 0.5730, -0.3408, -0.3105,  0.7983],\n",
       "                        [ 0.1605,  0.0481, -1.2596,  0.9228],\n",
       "                        [ 0.1301, -0.2952, -1.0788, -0.0202],\n",
       "                        [ 0.5730, -0.3408, -0.3105,  0.7983],\n",
       "                        [ 0.1605,  0.0481, -1.2596,  0.9228],\n",
       "                        [ 0.1301, -0.2952, -1.0788, -0.0202],\n",
       "                        [ 0.5730, -0.3408, -0.3105,  0.7983],\n",
       "                        [ 0.1605,  0.0481, -1.2596,  0.9228],\n",
       "                        [ 0.1301, -0.2952, -1.0788, -0.0202],\n",
       "                        [ 0.5730, -0.3408, -0.3105,  0.7983],\n",
       "                        [ 0.1605,  0.0481, -1.2596,  0.9228],\n",
       "                        [ 0.1301, -0.2952, -1.0788, -0.0202],\n",
       "                        [ 0.5730, -0.3408, -0.3105,  0.7983],\n",
       "                        [ 0.1605,  0.0481, -1.2596,  0.9228],\n",
       "                        [ 0.1301, -0.2952, -1.0788, -0.0202],\n",
       "                        [ 0.5730, -0.3408, -0.3105,  0.7983],\n",
       "                        [ 0.1605,  0.0481, -1.2596,  0.9228],\n",
       "                        [ 0.1301, -0.2952, -1.0788, -0.0202],\n",
       "                        [ 0.5730, -0.3408, -0.3105,  0.7983],\n",
       "                        [ 0.1605,  0.0481, -1.2596,  0.9228],\n",
       "                        [ 0.1301, -0.2952, -1.0788, -0.0202],\n",
       "                        [ 0.5730, -0.3408, -0.3105,  0.7983]])"
      ]
     },
     "execution_count": 22,
     "metadata": {},
     "output_type": "execute_result"
    }
   ],
   "source": [
    "t_cat = FastTreeValue.func(subside=True)(torch.cat)\n",
    "\n",
    "t_cat(trees)"
   ]
  },
  {
   "cell_type": "code",
   "execution_count": 23,
   "id": "5e9c06a6",
   "metadata": {
    "execution": {
     "iopub.execute_input": "2023-08-10T04:56:35.963830Z",
     "iopub.status.busy": "2023-08-10T04:56:35.963292Z",
     "iopub.status.idle": "2023-08-10T04:56:38.835717Z",
     "shell.execute_reply": "2023-08-10T04:56:38.834944Z"
    }
   },
   "outputs": [
    {
     "name": "stdout",
     "output_type": "stream",
     "text": [
      "35.4 µs ± 671 ns per loop (mean ± std. dev. of 7 runs, 10,000 loops each)\n"
     ]
    }
   ],
   "source": [
    "%timeit t_cat(trees)"
   ]
  },
  {
   "cell_type": "code",
   "execution_count": 24,
   "id": "a3ab5c8f",
   "metadata": {
    "execution": {
     "iopub.execute_input": "2023-08-10T04:56:38.839671Z",
     "iopub.status.busy": "2023-08-10T04:56:38.839085Z",
     "iopub.status.idle": "2023-08-10T04:56:49.663310Z",
     "shell.execute_reply": "2023-08-10T04:56:49.661947Z"
    }
   },
   "outputs": [
    {
     "name": "stdout",
     "output_type": "stream",
     "text": [
      "133 µs ± 11.9 µs per loop (mean ± std. dev. of 7 runs, 10,000 loops each)\n"
     ]
    }
   ],
   "source": [
    "t_split = FastTreeValue.func(rise=True)(torch.split)\n",
    "tree = FastTreeValue({\n",
    "    'obs': torch.randn(8, 4, 84, 84),\n",
    "    'action': torch.randint(0, 6, size=(8, 1,)),\n",
    "    'reward': torch.rand(8, 1),\n",
    "})\n",
    "\n",
    "%timeit t_split(tree, 1)"
   ]
  },
  {
   "cell_type": "markdown",
   "id": "31c3ec0b",
   "metadata": {},
   "source": [
    "### Performance of Tianshou Batch"
   ]
  },
  {
   "cell_type": "code",
   "execution_count": 25,
   "id": "9ead828a",
   "metadata": {
    "execution": {
     "iopub.execute_input": "2023-08-10T04:56:49.667595Z",
     "iopub.status.busy": "2023-08-10T04:56:49.667038Z",
     "iopub.status.idle": "2023-08-10T04:56:49.687247Z",
     "shell.execute_reply": "2023-08-10T04:56:49.686372Z"
    }
   },
   "outputs": [
    {
     "data": {
      "text/plain": [
       "Batch(\n",
       "    a: tensor([[[ 0.8073, -0.3800,  0.1794],\n",
       "                [ 0.7944,  1.5094, -1.2506]],\n",
       "       \n",
       "               [[ 0.8073, -0.3800,  0.1794],\n",
       "                [ 0.7944,  1.5094, -1.2506]],\n",
       "       \n",
       "               [[ 0.8073, -0.3800,  0.1794],\n",
       "                [ 0.7944,  1.5094, -1.2506]],\n",
       "       \n",
       "               [[ 0.8073, -0.3800,  0.1794],\n",
       "                [ 0.7944,  1.5094, -1.2506]],\n",
       "       \n",
       "               [[ 0.8073, -0.3800,  0.1794],\n",
       "                [ 0.7944,  1.5094, -1.2506]],\n",
       "       \n",
       "               [[ 0.8073, -0.3800,  0.1794],\n",
       "                [ 0.7944,  1.5094, -1.2506]],\n",
       "       \n",
       "               [[ 0.8073, -0.3800,  0.1794],\n",
       "                [ 0.7944,  1.5094, -1.2506]],\n",
       "       \n",
       "               [[ 0.8073, -0.3800,  0.1794],\n",
       "                [ 0.7944,  1.5094, -1.2506]]]),\n",
       "    x: Batch(\n",
       "           c: tensor([[[ 0.1605,  0.0481, -1.2596,  0.9228],\n",
       "                       [ 0.1301, -0.2952, -1.0788, -0.0202],\n",
       "                       [ 0.5730, -0.3408, -0.3105,  0.7983]],\n",
       "              \n",
       "                      [[ 0.1605,  0.0481, -1.2596,  0.9228],\n",
       "                       [ 0.1301, -0.2952, -1.0788, -0.0202],\n",
       "                       [ 0.5730, -0.3408, -0.3105,  0.7983]],\n",
       "              \n",
       "                      [[ 0.1605,  0.0481, -1.2596,  0.9228],\n",
       "                       [ 0.1301, -0.2952, -1.0788, -0.0202],\n",
       "                       [ 0.5730, -0.3408, -0.3105,  0.7983]],\n",
       "              \n",
       "                      [[ 0.1605,  0.0481, -1.2596,  0.9228],\n",
       "                       [ 0.1301, -0.2952, -1.0788, -0.0202],\n",
       "                       [ 0.5730, -0.3408, -0.3105,  0.7983]],\n",
       "              \n",
       "                      [[ 0.1605,  0.0481, -1.2596,  0.9228],\n",
       "                       [ 0.1301, -0.2952, -1.0788, -0.0202],\n",
       "                       [ 0.5730, -0.3408, -0.3105,  0.7983]],\n",
       "              \n",
       "                      [[ 0.1605,  0.0481, -1.2596,  0.9228],\n",
       "                       [ 0.1301, -0.2952, -1.0788, -0.0202],\n",
       "                       [ 0.5730, -0.3408, -0.3105,  0.7983]],\n",
       "              \n",
       "                      [[ 0.1605,  0.0481, -1.2596,  0.9228],\n",
       "                       [ 0.1301, -0.2952, -1.0788, -0.0202],\n",
       "                       [ 0.5730, -0.3408, -0.3105,  0.7983]],\n",
       "              \n",
       "                      [[ 0.1605,  0.0481, -1.2596,  0.9228],\n",
       "                       [ 0.1301, -0.2952, -1.0788, -0.0202],\n",
       "                       [ 0.5730, -0.3408, -0.3105,  0.7983]]]),\n",
       "       ),\n",
       ")"
      ]
     },
     "execution_count": 25,
     "metadata": {},
     "output_type": "execute_result"
    }
   ],
   "source": [
    "batches = [Batch(**_TREE_DATA_2) for _ in range(8)]\n",
    "\n",
    "Batch.stack(batches)"
   ]
  },
  {
   "cell_type": "code",
   "execution_count": 26,
   "id": "ec9037a3",
   "metadata": {
    "execution": {
     "iopub.execute_input": "2023-08-10T04:56:49.691031Z",
     "iopub.status.busy": "2023-08-10T04:56:49.690392Z",
     "iopub.status.idle": "2023-08-10T04:56:59.715960Z",
     "shell.execute_reply": "2023-08-10T04:56:59.715078Z"
    }
   },
   "outputs": [
    {
     "name": "stdout",
     "output_type": "stream",
     "text": [
      "125 µs ± 9.31 µs per loop (mean ± std. dev. of 7 runs, 10,000 loops each)\n"
     ]
    }
   ],
   "source": [
    "%timeit Batch.stack(batches)"
   ]
  },
  {
   "cell_type": "code",
   "execution_count": 27,
   "id": "cb8ab77e",
   "metadata": {
    "execution": {
     "iopub.execute_input": "2023-08-10T04:56:59.720472Z",
     "iopub.status.busy": "2023-08-10T04:56:59.719717Z",
     "iopub.status.idle": "2023-08-10T04:56:59.730344Z",
     "shell.execute_reply": "2023-08-10T04:56:59.729577Z"
    }
   },
   "outputs": [
    {
     "data": {
      "text/plain": [
       "Batch(\n",
       "    a: tensor([[ 0.8073, -0.3800,  0.1794],\n",
       "               [ 0.7944,  1.5094, -1.2506],\n",
       "               [ 0.8073, -0.3800,  0.1794],\n",
       "               [ 0.7944,  1.5094, -1.2506],\n",
       "               [ 0.8073, -0.3800,  0.1794],\n",
       "               [ 0.7944,  1.5094, -1.2506],\n",
       "               [ 0.8073, -0.3800,  0.1794],\n",
       "               [ 0.7944,  1.5094, -1.2506],\n",
       "               [ 0.8073, -0.3800,  0.1794],\n",
       "               [ 0.7944,  1.5094, -1.2506],\n",
       "               [ 0.8073, -0.3800,  0.1794],\n",
       "               [ 0.7944,  1.5094, -1.2506],\n",
       "               [ 0.8073, -0.3800,  0.1794],\n",
       "               [ 0.7944,  1.5094, -1.2506],\n",
       "               [ 0.8073, -0.3800,  0.1794],\n",
       "               [ 0.7944,  1.5094, -1.2506]]),\n",
       "    x: Batch(\n",
       "           c: tensor([[ 0.1605,  0.0481, -1.2596,  0.9228],\n",
       "                      [ 0.1301, -0.2952, -1.0788, -0.0202],\n",
       "                      [ 0.5730, -0.3408, -0.3105,  0.7983],\n",
       "                      [ 0.1605,  0.0481, -1.2596,  0.9228],\n",
       "                      [ 0.1301, -0.2952, -1.0788, -0.0202],\n",
       "                      [ 0.5730, -0.3408, -0.3105,  0.7983],\n",
       "                      [ 0.1605,  0.0481, -1.2596,  0.9228],\n",
       "                      [ 0.1301, -0.2952, -1.0788, -0.0202],\n",
       "                      [ 0.5730, -0.3408, -0.3105,  0.7983],\n",
       "                      [ 0.1605,  0.0481, -1.2596,  0.9228],\n",
       "                      [ 0.1301, -0.2952, -1.0788, -0.0202],\n",
       "                      [ 0.5730, -0.3408, -0.3105,  0.7983],\n",
       "                      [ 0.1605,  0.0481, -1.2596,  0.9228],\n",
       "                      [ 0.1301, -0.2952, -1.0788, -0.0202],\n",
       "                      [ 0.5730, -0.3408, -0.3105,  0.7983],\n",
       "                      [ 0.1605,  0.0481, -1.2596,  0.9228],\n",
       "                      [ 0.1301, -0.2952, -1.0788, -0.0202],\n",
       "                      [ 0.5730, -0.3408, -0.3105,  0.7983],\n",
       "                      [ 0.1605,  0.0481, -1.2596,  0.9228],\n",
       "                      [ 0.1301, -0.2952, -1.0788, -0.0202],\n",
       "                      [ 0.5730, -0.3408, -0.3105,  0.7983],\n",
       "                      [ 0.1605,  0.0481, -1.2596,  0.9228],\n",
       "                      [ 0.1301, -0.2952, -1.0788, -0.0202],\n",
       "                      [ 0.5730, -0.3408, -0.3105,  0.7983]]),\n",
       "       ),\n",
       ")"
      ]
     },
     "execution_count": 27,
     "metadata": {},
     "output_type": "execute_result"
    }
   ],
   "source": [
    "Batch.cat(batches)"
   ]
  },
  {
   "cell_type": "code",
   "execution_count": 28,
   "id": "18dfb045",
   "metadata": {
    "execution": {
     "iopub.execute_input": "2023-08-10T04:56:59.734135Z",
     "iopub.status.busy": "2023-08-10T04:56:59.733461Z",
     "iopub.status.idle": "2023-08-10T04:57:13.614628Z",
     "shell.execute_reply": "2023-08-10T04:57:13.613384Z"
    }
   },
   "outputs": [
    {
     "name": "stdout",
     "output_type": "stream",
     "text": [
      "171 µs ± 1.14 µs per loop (mean ± std. dev. of 7 runs, 10,000 loops each)\n"
     ]
    }
   ],
   "source": [
    "%timeit Batch.cat(batches)"
   ]
  },
  {
   "cell_type": "code",
   "execution_count": 29,
   "id": "c6688e51",
   "metadata": {
    "execution": {
     "iopub.execute_input": "2023-08-10T04:57:13.618565Z",
     "iopub.status.busy": "2023-08-10T04:57:13.618026Z",
     "iopub.status.idle": "2023-08-10T04:57:16.827329Z",
     "shell.execute_reply": "2023-08-10T04:57:16.826565Z"
    }
   },
   "outputs": [
    {
     "name": "stdout",
     "output_type": "stream",
     "text": [
      "394 µs ± 7.24 µs per loop (mean ± std. dev. of 7 runs, 1,000 loops each)\n"
     ]
    }
   ],
   "source": [
    "batch = Batch({\n",
    "    'obs': torch.randn(8, 4, 84, 84),\n",
    "    'action': torch.randint(0, 6, size=(8, 1,)),\n",
    "    'reward': torch.rand(8, 1)}\n",
    ")\n",
    "\n",
    "%timeit list(Batch.split(batch, 1, shuffle=False, merge_last=True))"
   ]
  },
  {
   "cell_type": "code",
   "execution_count": null,
   "id": "2539fbd9",
   "metadata": {},
   "outputs": [],
   "source": []
  }
 ],
 "metadata": {
  "kernelspec": {
   "display_name": "Python 3 (ipykernel)",
   "language": "python",
   "name": "python3"
  },
  "language_info": {
   "codemirror_mode": {
    "name": "ipython",
    "version": 3
   },
   "file_extension": ".py",
   "mimetype": "text/x-python",
   "name": "python",
   "nbconvert_exporter": "python",
   "pygments_lexer": "ipython3",
   "version": "3.8.17"
  }
 },
 "nbformat": 4,
 "nbformat_minor": 5
}
