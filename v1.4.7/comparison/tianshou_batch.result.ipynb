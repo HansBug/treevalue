{
 "cells": [
  {
   "cell_type": "markdown",
   "id": "9d39d946",
   "metadata": {},
   "source": [
    "# Comparison Between TreeValue and Tianshou Batch"
   ]
  },
  {
   "cell_type": "markdown",
   "id": "3c6db2d4",
   "metadata": {},
   "source": [
    "In this section, we will take a look at the feature and performance of the [Tianshou Batch](https://github.com/thu-ml/tianshou) library, which is developed by Tsinghua Machine Learning Group."
   ]
  },
  {
   "cell_type": "markdown",
   "id": "069361b0",
   "metadata": {},
   "source": [
    "Before starting the comparison, let us define some thing."
   ]
  },
  {
   "cell_type": "code",
   "execution_count": 1,
   "id": "06fc8d26",
   "metadata": {
    "execution": {
     "iopub.execute_input": "2023-08-10T04:17:00.745498Z",
     "iopub.status.busy": "2023-08-10T04:17:00.745012Z",
     "iopub.status.idle": "2023-08-10T04:17:02.072052Z",
     "shell.execute_reply": "2023-08-10T04:17:02.071284Z"
    }
   },
   "outputs": [],
   "source": [
    "import torch \n",
    "\n",
    "_TREE_DATA_1 = {'a': 1, 'b': 2, 'x': {'c': 3, 'd': 4}}\n",
    "_TREE_DATA_2 = {\n",
    "    'a': torch.randn(2, 3), \n",
    "    'x': {\n",
    "        'c': torch.randn(3, 4)\n",
    "    },\n",
    "}\n",
    "_TREE_DATA_3 = {\n",
    "    'obs': torch.randn(4, 84, 84),\n",
    "    'action': torch.randint(0, 6, size=(1,)),\n",
    "    'reward': torch.rand(1),\n",
    "}"
   ]
  },
  {
   "cell_type": "markdown",
   "id": "83461b25",
   "metadata": {},
   "source": [
    "## Read and Write Operation"
   ]
  },
  {
   "cell_type": "markdown",
   "id": "067b3f73",
   "metadata": {},
   "source": [
    "Reading and writing are the two most common operations in the tree data structure based on the data model (TreeValue and Tianshou Batch both belong to this type), so this section will compare the reading and writing performance of these two libraries."
   ]
  },
  {
   "cell_type": "markdown",
   "id": "5d09a5b7",
   "metadata": {},
   "source": [
    "### TreeValue's Get and Set"
   ]
  },
  {
   "cell_type": "code",
   "execution_count": 2,
   "id": "9519c4bb",
   "metadata": {
    "execution": {
     "iopub.execute_input": "2023-08-10T04:17:02.076110Z",
     "iopub.status.busy": "2023-08-10T04:17:02.075805Z",
     "iopub.status.idle": "2023-08-10T04:17:02.385368Z",
     "shell.execute_reply": "2023-08-10T04:17:02.384644Z"
    }
   },
   "outputs": [],
   "source": [
    "from treevalue import FastTreeValue\n",
    "\n",
    "t = FastTreeValue(_TREE_DATA_2)"
   ]
  },
  {
   "cell_type": "code",
   "execution_count": 3,
   "id": "11c37677",
   "metadata": {
    "execution": {
     "iopub.execute_input": "2023-08-10T04:17:02.389136Z",
     "iopub.status.busy": "2023-08-10T04:17:02.388636Z",
     "iopub.status.idle": "2023-08-10T04:17:02.397556Z",
     "shell.execute_reply": "2023-08-10T04:17:02.396866Z"
    }
   },
   "outputs": [
    {
     "data": {
      "text/plain": [
       "<FastTreeValue 0x7f539c217940>\n",
       "├── 'a' --> tensor([[ 1.0190,  1.7887, -0.7387],\n",
       "│                   [-1.1590,  1.3558,  1.3615]])\n",
       "└── 'x' --> <FastTreeValue 0x7f539c2172b0>\n",
       "    └── 'c' --> tensor([[-0.9629, -1.7994,  0.7254, -0.2159],\n",
       "                        [-1.4610, -0.8969, -1.3834, -0.4852],\n",
       "                        [ 0.3814,  0.0319, -0.3501, -1.5002]])"
      ]
     },
     "execution_count": 3,
     "metadata": {},
     "output_type": "execute_result"
    }
   ],
   "source": [
    "t"
   ]
  },
  {
   "cell_type": "code",
   "execution_count": 4,
   "id": "fd70b0b9",
   "metadata": {
    "execution": {
     "iopub.execute_input": "2023-08-10T04:17:02.401353Z",
     "iopub.status.busy": "2023-08-10T04:17:02.400767Z",
     "iopub.status.idle": "2023-08-10T04:17:02.405752Z",
     "shell.execute_reply": "2023-08-10T04:17:02.405103Z"
    }
   },
   "outputs": [
    {
     "data": {
      "text/plain": [
       "tensor([[ 1.0190,  1.7887, -0.7387],\n",
       "        [-1.1590,  1.3558,  1.3615]])"
      ]
     },
     "execution_count": 4,
     "metadata": {},
     "output_type": "execute_result"
    }
   ],
   "source": [
    "t.a"
   ]
  },
  {
   "cell_type": "code",
   "execution_count": 5,
   "id": "c18197bd",
   "metadata": {
    "execution": {
     "iopub.execute_input": "2023-08-10T04:17:02.408754Z",
     "iopub.status.busy": "2023-08-10T04:17:02.408389Z",
     "iopub.status.idle": "2023-08-10T04:17:08.141927Z",
     "shell.execute_reply": "2023-08-10T04:17:08.141182Z"
    }
   },
   "outputs": [
    {
     "name": "stdout",
     "output_type": "stream",
     "text": [
      "70.8 ns ± 0.089 ns per loop (mean ± std. dev. of 7 runs, 10,000,000 loops each)\n"
     ]
    }
   ],
   "source": [
    "%timeit t.a"
   ]
  },
  {
   "cell_type": "code",
   "execution_count": 6,
   "id": "bd52f867",
   "metadata": {
    "execution": {
     "iopub.execute_input": "2023-08-10T04:17:08.145453Z",
     "iopub.status.busy": "2023-08-10T04:17:08.144955Z",
     "iopub.status.idle": "2023-08-10T04:17:08.151304Z",
     "shell.execute_reply": "2023-08-10T04:17:08.150623Z"
    }
   },
   "outputs": [
    {
     "data": {
      "text/plain": [
       "<FastTreeValue 0x7f539c217940>\n",
       "├── 'a' --> tensor([[-0.3739,  0.7221,  0.3413],\n",
       "│                   [ 0.1029, -1.1335,  0.1932]])\n",
       "└── 'x' --> <FastTreeValue 0x7f539c2172b0>\n",
       "    └── 'c' --> tensor([[-0.9629, -1.7994,  0.7254, -0.2159],\n",
       "                        [-1.4610, -0.8969, -1.3834, -0.4852],\n",
       "                        [ 0.3814,  0.0319, -0.3501, -1.5002]])"
      ]
     },
     "execution_count": 6,
     "metadata": {},
     "output_type": "execute_result"
    }
   ],
   "source": [
    "new_value = torch.randn(2, 3)\n",
    "t.a = new_value\n",
    "\n",
    "t"
   ]
  },
  {
   "cell_type": "code",
   "execution_count": 7,
   "id": "bbe04d1c",
   "metadata": {
    "execution": {
     "iopub.execute_input": "2023-08-10T04:17:08.154520Z",
     "iopub.status.busy": "2023-08-10T04:17:08.153943Z",
     "iopub.status.idle": "2023-08-10T04:17:13.359905Z",
     "shell.execute_reply": "2023-08-10T04:17:13.359304Z"
    }
   },
   "outputs": [
    {
     "name": "stdout",
     "output_type": "stream",
     "text": [
      "64.1 ns ± 0.0289 ns per loop (mean ± std. dev. of 7 runs, 10,000,000 loops each)\n"
     ]
    }
   ],
   "source": [
    "%timeit t.a = new_value"
   ]
  },
  {
   "cell_type": "markdown",
   "id": "48c49731",
   "metadata": {},
   "source": [
    "### Tianshou Batch's Get and Set"
   ]
  },
  {
   "cell_type": "code",
   "execution_count": 8,
   "id": "f1bb14c1",
   "metadata": {
    "execution": {
     "iopub.execute_input": "2023-08-10T04:17:13.363513Z",
     "iopub.status.busy": "2023-08-10T04:17:13.362864Z",
     "iopub.status.idle": "2023-08-10T04:17:13.719794Z",
     "shell.execute_reply": "2023-08-10T04:17:13.719085Z"
    }
   },
   "outputs": [],
   "source": [
    "from tianshou.data import Batch\n",
    "\n",
    "b = Batch(**_TREE_DATA_2)"
   ]
  },
  {
   "cell_type": "code",
   "execution_count": 9,
   "id": "cb0777c3",
   "metadata": {
    "execution": {
     "iopub.execute_input": "2023-08-10T04:17:13.723552Z",
     "iopub.status.busy": "2023-08-10T04:17:13.722983Z",
     "iopub.status.idle": "2023-08-10T04:17:13.728681Z",
     "shell.execute_reply": "2023-08-10T04:17:13.728036Z"
    }
   },
   "outputs": [
    {
     "data": {
      "text/plain": [
       "Batch(\n",
       "    a: tensor([[ 1.0190,  1.7887, -0.7387],\n",
       "               [-1.1590,  1.3558,  1.3615]]),\n",
       "    x: Batch(\n",
       "           c: tensor([[-0.9629, -1.7994,  0.7254, -0.2159],\n",
       "                      [-1.4610, -0.8969, -1.3834, -0.4852],\n",
       "                      [ 0.3814,  0.0319, -0.3501, -1.5002]]),\n",
       "       ),\n",
       ")"
      ]
     },
     "execution_count": 9,
     "metadata": {},
     "output_type": "execute_result"
    }
   ],
   "source": [
    "b"
   ]
  },
  {
   "cell_type": "code",
   "execution_count": 10,
   "id": "43ef8ea3",
   "metadata": {
    "execution": {
     "iopub.execute_input": "2023-08-10T04:17:13.732083Z",
     "iopub.status.busy": "2023-08-10T04:17:13.731714Z",
     "iopub.status.idle": "2023-08-10T04:17:13.738360Z",
     "shell.execute_reply": "2023-08-10T04:17:13.737699Z"
    }
   },
   "outputs": [
    {
     "data": {
      "text/plain": [
       "tensor([[ 1.0190,  1.7887, -0.7387],\n",
       "        [-1.1590,  1.3558,  1.3615]])"
      ]
     },
     "execution_count": 10,
     "metadata": {},
     "output_type": "execute_result"
    }
   ],
   "source": [
    "b.a"
   ]
  },
  {
   "cell_type": "code",
   "execution_count": 11,
   "id": "b785ab72",
   "metadata": {
    "execution": {
     "iopub.execute_input": "2023-08-10T04:17:13.741227Z",
     "iopub.status.busy": "2023-08-10T04:17:13.740861Z",
     "iopub.status.idle": "2023-08-10T04:17:18.478392Z",
     "shell.execute_reply": "2023-08-10T04:17:18.477180Z"
    }
   },
   "outputs": [
    {
     "name": "stdout",
     "output_type": "stream",
     "text": [
      "58.4 ns ± 0.0139 ns per loop (mean ± std. dev. of 7 runs, 10,000,000 loops each)\n"
     ]
    }
   ],
   "source": [
    "%timeit b.a"
   ]
  },
  {
   "cell_type": "code",
   "execution_count": 12,
   "id": "ad54dc69",
   "metadata": {
    "execution": {
     "iopub.execute_input": "2023-08-10T04:17:18.481699Z",
     "iopub.status.busy": "2023-08-10T04:17:18.481136Z",
     "iopub.status.idle": "2023-08-10T04:17:18.487151Z",
     "shell.execute_reply": "2023-08-10T04:17:18.486428Z"
    }
   },
   "outputs": [
    {
     "data": {
      "text/plain": [
       "Batch(\n",
       "    a: tensor([[-1.0629,  1.9014,  2.8080],\n",
       "               [-0.6396, -0.3232, -1.9163]]),\n",
       "    x: Batch(\n",
       "           c: tensor([[-0.9629, -1.7994,  0.7254, -0.2159],\n",
       "                      [-1.4610, -0.8969, -1.3834, -0.4852],\n",
       "                      [ 0.3814,  0.0319, -0.3501, -1.5002]]),\n",
       "       ),\n",
       ")"
      ]
     },
     "execution_count": 12,
     "metadata": {},
     "output_type": "execute_result"
    }
   ],
   "source": [
    "new_value = torch.randn(2, 3)\n",
    "b.a = new_value\n",
    "\n",
    "b"
   ]
  },
  {
   "cell_type": "code",
   "execution_count": 13,
   "id": "29b1d0bf",
   "metadata": {
    "execution": {
     "iopub.execute_input": "2023-08-10T04:17:18.490111Z",
     "iopub.status.busy": "2023-08-10T04:17:18.489741Z",
     "iopub.status.idle": "2023-08-10T04:17:22.442544Z",
     "shell.execute_reply": "2023-08-10T04:17:22.441342Z"
    }
   },
   "outputs": [
    {
     "name": "stdout",
     "output_type": "stream",
     "text": [
      "486 ns ± 0.139 ns per loop (mean ± std. dev. of 7 runs, 1,000,000 loops each)\n"
     ]
    }
   ],
   "source": [
    "%timeit b.a = new_value"
   ]
  },
  {
   "cell_type": "markdown",
   "id": "b61ad1d0",
   "metadata": {},
   "source": [
    "## Initialization"
   ]
  },
  {
   "cell_type": "markdown",
   "id": "d70f0d54",
   "metadata": {},
   "source": [
    "### TreeValue's Initialization"
   ]
  },
  {
   "cell_type": "code",
   "execution_count": 14,
   "id": "d32a679b",
   "metadata": {
    "execution": {
     "iopub.execute_input": "2023-08-10T04:17:22.446178Z",
     "iopub.status.busy": "2023-08-10T04:17:22.445554Z",
     "iopub.status.idle": "2023-08-10T04:17:29.252971Z",
     "shell.execute_reply": "2023-08-10T04:17:29.251756Z"
    }
   },
   "outputs": [
    {
     "name": "stdout",
     "output_type": "stream",
     "text": [
      "838 ns ± 2.16 ns per loop (mean ± std. dev. of 7 runs, 1,000,000 loops each)\n"
     ]
    }
   ],
   "source": [
    "%timeit FastTreeValue(_TREE_DATA_1)"
   ]
  },
  {
   "cell_type": "markdown",
   "id": "24f3707b",
   "metadata": {},
   "source": [
    "### Tianshou Batch's Initialization"
   ]
  },
  {
   "cell_type": "code",
   "execution_count": 15,
   "id": "ac3958df",
   "metadata": {
    "execution": {
     "iopub.execute_input": "2023-08-10T04:17:29.256828Z",
     "iopub.status.busy": "2023-08-10T04:17:29.256173Z",
     "iopub.status.idle": "2023-08-10T04:17:38.780162Z",
     "shell.execute_reply": "2023-08-10T04:17:38.778989Z"
    }
   },
   "outputs": [
    {
     "name": "stdout",
     "output_type": "stream",
     "text": [
      "11.7 µs ± 29.3 ns per loop (mean ± std. dev. of 7 runs, 100,000 loops each)\n"
     ]
    }
   ],
   "source": [
    "%timeit Batch(**_TREE_DATA_1)"
   ]
  },
  {
   "cell_type": "markdown",
   "id": "1ab82e2d",
   "metadata": {},
   "source": [
    "## Deep Copy Operation"
   ]
  },
  {
   "cell_type": "code",
   "execution_count": 16,
   "id": "210a9442",
   "metadata": {
    "execution": {
     "iopub.execute_input": "2023-08-10T04:17:38.784033Z",
     "iopub.status.busy": "2023-08-10T04:17:38.783629Z",
     "iopub.status.idle": "2023-08-10T04:17:38.788208Z",
     "shell.execute_reply": "2023-08-10T04:17:38.787576Z"
    }
   },
   "outputs": [],
   "source": [
    "import copy"
   ]
  },
  {
   "cell_type": "markdown",
   "id": "5a736274",
   "metadata": {},
   "source": [
    "### Deep Copy of TreeValue"
   ]
  },
  {
   "cell_type": "code",
   "execution_count": 17,
   "id": "f9bcadd6",
   "metadata": {
    "execution": {
     "iopub.execute_input": "2023-08-10T04:17:38.791732Z",
     "iopub.status.busy": "2023-08-10T04:17:38.791199Z",
     "iopub.status.idle": "2023-08-10T04:17:50.258155Z",
     "shell.execute_reply": "2023-08-10T04:17:50.257564Z"
    }
   },
   "outputs": [
    {
     "name": "stdout",
     "output_type": "stream",
     "text": [
      "141 µs ± 434 ns per loop (mean ± std. dev. of 7 runs, 10,000 loops each)\n"
     ]
    }
   ],
   "source": [
    "t3 = FastTreeValue(_TREE_DATA_3)\n",
    "%timeit copy.deepcopy(t3)"
   ]
  },
  {
   "cell_type": "markdown",
   "id": "bf8be7ea",
   "metadata": {},
   "source": [
    "### Deep Copy of Tianshou Batch"
   ]
  },
  {
   "cell_type": "code",
   "execution_count": 18,
   "id": "91998e6f",
   "metadata": {
    "execution": {
     "iopub.execute_input": "2023-08-10T04:17:50.261551Z",
     "iopub.status.busy": "2023-08-10T04:17:50.260875Z",
     "iopub.status.idle": "2023-08-10T04:18:01.912430Z",
     "shell.execute_reply": "2023-08-10T04:18:01.911835Z"
    }
   },
   "outputs": [
    {
     "name": "stdout",
     "output_type": "stream",
     "text": [
      "143 µs ± 527 ns per loop (mean ± std. dev. of 7 runs, 10,000 loops each)\n"
     ]
    }
   ],
   "source": [
    "b3 = Batch(**_TREE_DATA_3)\n",
    "%timeit copy.deepcopy(b3)"
   ]
  },
  {
   "cell_type": "markdown",
   "id": "223162fb",
   "metadata": {},
   "source": [
    "## Stack, Concat and Split Operation"
   ]
  },
  {
   "cell_type": "markdown",
   "id": "85fa4a73",
   "metadata": {},
   "source": [
    "### Performance of TreeValue"
   ]
  },
  {
   "cell_type": "code",
   "execution_count": 19,
   "id": "a0c2b697",
   "metadata": {
    "execution": {
     "iopub.execute_input": "2023-08-10T04:18:01.915862Z",
     "iopub.status.busy": "2023-08-10T04:18:01.915125Z",
     "iopub.status.idle": "2023-08-10T04:18:01.918737Z",
     "shell.execute_reply": "2023-08-10T04:18:01.918185Z"
    }
   },
   "outputs": [],
   "source": [
    "trees = [FastTreeValue(_TREE_DATA_2) for _ in range(8)]"
   ]
  },
  {
   "cell_type": "code",
   "execution_count": 20,
   "id": "017ea5a5",
   "metadata": {
    "execution": {
     "iopub.execute_input": "2023-08-10T04:18:01.921730Z",
     "iopub.status.busy": "2023-08-10T04:18:01.921042Z",
     "iopub.status.idle": "2023-08-10T04:18:01.928719Z",
     "shell.execute_reply": "2023-08-10T04:18:01.928163Z"
    }
   },
   "outputs": [
    {
     "data": {
      "text/plain": [
       "<FastTreeValue 0x7f52c4b1e7f0>\n",
       "├── 'a' --> tensor([[[ 1.0190,  1.7887, -0.7387],\n",
       "│                    [-1.1590,  1.3558,  1.3615]],\n",
       "│           \n",
       "│                   [[ 1.0190,  1.7887, -0.7387],\n",
       "│                    [-1.1590,  1.3558,  1.3615]],\n",
       "│           \n",
       "│                   [[ 1.0190,  1.7887, -0.7387],\n",
       "│                    [-1.1590,  1.3558,  1.3615]],\n",
       "│           \n",
       "│                   [[ 1.0190,  1.7887, -0.7387],\n",
       "│                    [-1.1590,  1.3558,  1.3615]],\n",
       "│           \n",
       "│                   [[ 1.0190,  1.7887, -0.7387],\n",
       "│                    [-1.1590,  1.3558,  1.3615]],\n",
       "│           \n",
       "│                   [[ 1.0190,  1.7887, -0.7387],\n",
       "│                    [-1.1590,  1.3558,  1.3615]],\n",
       "│           \n",
       "│                   [[ 1.0190,  1.7887, -0.7387],\n",
       "│                    [-1.1590,  1.3558,  1.3615]],\n",
       "│           \n",
       "│                   [[ 1.0190,  1.7887, -0.7387],\n",
       "│                    [-1.1590,  1.3558,  1.3615]]])\n",
       "└── 'x' --> <FastTreeValue 0x7f52c4b1e790>\n",
       "    └── 'c' --> tensor([[[-0.9629, -1.7994,  0.7254, -0.2159],\n",
       "                         [-1.4610, -0.8969, -1.3834, -0.4852],\n",
       "                         [ 0.3814,  0.0319, -0.3501, -1.5002]],\n",
       "                \n",
       "                        [[-0.9629, -1.7994,  0.7254, -0.2159],\n",
       "                         [-1.4610, -0.8969, -1.3834, -0.4852],\n",
       "                         [ 0.3814,  0.0319, -0.3501, -1.5002]],\n",
       "                \n",
       "                        [[-0.9629, -1.7994,  0.7254, -0.2159],\n",
       "                         [-1.4610, -0.8969, -1.3834, -0.4852],\n",
       "                         [ 0.3814,  0.0319, -0.3501, -1.5002]],\n",
       "                \n",
       "                        [[-0.9629, -1.7994,  0.7254, -0.2159],\n",
       "                         [-1.4610, -0.8969, -1.3834, -0.4852],\n",
       "                         [ 0.3814,  0.0319, -0.3501, -1.5002]],\n",
       "                \n",
       "                        [[-0.9629, -1.7994,  0.7254, -0.2159],\n",
       "                         [-1.4610, -0.8969, -1.3834, -0.4852],\n",
       "                         [ 0.3814,  0.0319, -0.3501, -1.5002]],\n",
       "                \n",
       "                        [[-0.9629, -1.7994,  0.7254, -0.2159],\n",
       "                         [-1.4610, -0.8969, -1.3834, -0.4852],\n",
       "                         [ 0.3814,  0.0319, -0.3501, -1.5002]],\n",
       "                \n",
       "                        [[-0.9629, -1.7994,  0.7254, -0.2159],\n",
       "                         [-1.4610, -0.8969, -1.3834, -0.4852],\n",
       "                         [ 0.3814,  0.0319, -0.3501, -1.5002]],\n",
       "                \n",
       "                        [[-0.9629, -1.7994,  0.7254, -0.2159],\n",
       "                         [-1.4610, -0.8969, -1.3834, -0.4852],\n",
       "                         [ 0.3814,  0.0319, -0.3501, -1.5002]]])"
      ]
     },
     "execution_count": 20,
     "metadata": {},
     "output_type": "execute_result"
    }
   ],
   "source": [
    "t_stack = FastTreeValue.func(subside=True)(torch.stack)\n",
    "\n",
    "t_stack(trees)"
   ]
  },
  {
   "cell_type": "code",
   "execution_count": 21,
   "id": "f8b3f415",
   "metadata": {
    "execution": {
     "iopub.execute_input": "2023-08-10T04:18:01.931806Z",
     "iopub.status.busy": "2023-08-10T04:18:01.931129Z",
     "iopub.status.idle": "2023-08-10T04:18:04.616748Z",
     "shell.execute_reply": "2023-08-10T04:18:04.616152Z"
    }
   },
   "outputs": [
    {
     "name": "stdout",
     "output_type": "stream",
     "text": [
      "33 µs ± 64.7 ns per loop (mean ± std. dev. of 7 runs, 10,000 loops each)\n"
     ]
    }
   ],
   "source": [
    "%timeit t_stack(trees)"
   ]
  },
  {
   "cell_type": "code",
   "execution_count": 22,
   "id": "94b56771",
   "metadata": {
    "execution": {
     "iopub.execute_input": "2023-08-10T04:18:04.619915Z",
     "iopub.status.busy": "2023-08-10T04:18:04.619312Z",
     "iopub.status.idle": "2023-08-10T04:18:04.626742Z",
     "shell.execute_reply": "2023-08-10T04:18:04.626070Z"
    }
   },
   "outputs": [
    {
     "data": {
      "text/plain": [
       "<FastTreeValue 0x7f539f2976a0>\n",
       "├── 'a' --> tensor([[ 1.0190,  1.7887, -0.7387],\n",
       "│                   [-1.1590,  1.3558,  1.3615],\n",
       "│                   [ 1.0190,  1.7887, -0.7387],\n",
       "│                   [-1.1590,  1.3558,  1.3615],\n",
       "│                   [ 1.0190,  1.7887, -0.7387],\n",
       "│                   [-1.1590,  1.3558,  1.3615],\n",
       "│                   [ 1.0190,  1.7887, -0.7387],\n",
       "│                   [-1.1590,  1.3558,  1.3615],\n",
       "│                   [ 1.0190,  1.7887, -0.7387],\n",
       "│                   [-1.1590,  1.3558,  1.3615],\n",
       "│                   [ 1.0190,  1.7887, -0.7387],\n",
       "│                   [-1.1590,  1.3558,  1.3615],\n",
       "│                   [ 1.0190,  1.7887, -0.7387],\n",
       "│                   [-1.1590,  1.3558,  1.3615],\n",
       "│                   [ 1.0190,  1.7887, -0.7387],\n",
       "│                   [-1.1590,  1.3558,  1.3615]])\n",
       "└── 'x' --> <FastTreeValue 0x7f539f312eb0>\n",
       "    └── 'c' --> tensor([[-0.9629, -1.7994,  0.7254, -0.2159],\n",
       "                        [-1.4610, -0.8969, -1.3834, -0.4852],\n",
       "                        [ 0.3814,  0.0319, -0.3501, -1.5002],\n",
       "                        [-0.9629, -1.7994,  0.7254, -0.2159],\n",
       "                        [-1.4610, -0.8969, -1.3834, -0.4852],\n",
       "                        [ 0.3814,  0.0319, -0.3501, -1.5002],\n",
       "                        [-0.9629, -1.7994,  0.7254, -0.2159],\n",
       "                        [-1.4610, -0.8969, -1.3834, -0.4852],\n",
       "                        [ 0.3814,  0.0319, -0.3501, -1.5002],\n",
       "                        [-0.9629, -1.7994,  0.7254, -0.2159],\n",
       "                        [-1.4610, -0.8969, -1.3834, -0.4852],\n",
       "                        [ 0.3814,  0.0319, -0.3501, -1.5002],\n",
       "                        [-0.9629, -1.7994,  0.7254, -0.2159],\n",
       "                        [-1.4610, -0.8969, -1.3834, -0.4852],\n",
       "                        [ 0.3814,  0.0319, -0.3501, -1.5002],\n",
       "                        [-0.9629, -1.7994,  0.7254, -0.2159],\n",
       "                        [-1.4610, -0.8969, -1.3834, -0.4852],\n",
       "                        [ 0.3814,  0.0319, -0.3501, -1.5002],\n",
       "                        [-0.9629, -1.7994,  0.7254, -0.2159],\n",
       "                        [-1.4610, -0.8969, -1.3834, -0.4852],\n",
       "                        [ 0.3814,  0.0319, -0.3501, -1.5002],\n",
       "                        [-0.9629, -1.7994,  0.7254, -0.2159],\n",
       "                        [-1.4610, -0.8969, -1.3834, -0.4852],\n",
       "                        [ 0.3814,  0.0319, -0.3501, -1.5002]])"
      ]
     },
     "execution_count": 22,
     "metadata": {},
     "output_type": "execute_result"
    }
   ],
   "source": [
    "t_cat = FastTreeValue.func(subside=True)(torch.cat)\n",
    "\n",
    "t_cat(trees)"
   ]
  },
  {
   "cell_type": "code",
   "execution_count": 23,
   "id": "5e9c06a6",
   "metadata": {
    "execution": {
     "iopub.execute_input": "2023-08-10T04:18:04.629923Z",
     "iopub.status.busy": "2023-08-10T04:18:04.629323Z",
     "iopub.status.idle": "2023-08-10T04:18:07.123314Z",
     "shell.execute_reply": "2023-08-10T04:18:07.122730Z"
    }
   },
   "outputs": [
    {
     "name": "stdout",
     "output_type": "stream",
     "text": [
      "30.7 µs ± 49.3 ns per loop (mean ± std. dev. of 7 runs, 10,000 loops each)\n"
     ]
    }
   ],
   "source": [
    "%timeit t_cat(trees)"
   ]
  },
  {
   "cell_type": "code",
   "execution_count": 24,
   "id": "a3ab5c8f",
   "metadata": {
    "execution": {
     "iopub.execute_input": "2023-08-10T04:18:07.126341Z",
     "iopub.status.busy": "2023-08-10T04:18:07.125933Z",
     "iopub.status.idle": "2023-08-10T04:18:12.808615Z",
     "shell.execute_reply": "2023-08-10T04:18:12.808021Z"
    }
   },
   "outputs": [
    {
     "name": "stdout",
     "output_type": "stream",
     "text": [
      "69.9 µs ± 355 ns per loop (mean ± std. dev. of 7 runs, 10,000 loops each)\n"
     ]
    }
   ],
   "source": [
    "t_split = FastTreeValue.func(rise=True)(torch.split)\n",
    "tree = FastTreeValue({\n",
    "    'obs': torch.randn(8, 4, 84, 84),\n",
    "    'action': torch.randint(0, 6, size=(8, 1,)),\n",
    "    'reward': torch.rand(8, 1),\n",
    "})\n",
    "\n",
    "%timeit t_split(tree, 1)"
   ]
  },
  {
   "cell_type": "markdown",
   "id": "31c3ec0b",
   "metadata": {},
   "source": [
    "### Performance of Tianshou Batch"
   ]
  },
  {
   "cell_type": "code",
   "execution_count": 25,
   "id": "9ead828a",
   "metadata": {
    "execution": {
     "iopub.execute_input": "2023-08-10T04:18:12.811867Z",
     "iopub.status.busy": "2023-08-10T04:18:12.811393Z",
     "iopub.status.idle": "2023-08-10T04:18:12.819102Z",
     "shell.execute_reply": "2023-08-10T04:18:12.818387Z"
    }
   },
   "outputs": [
    {
     "data": {
      "text/plain": [
       "Batch(\n",
       "    a: tensor([[[ 1.0190,  1.7887, -0.7387],\n",
       "                [-1.1590,  1.3558,  1.3615]],\n",
       "       \n",
       "               [[ 1.0190,  1.7887, -0.7387],\n",
       "                [-1.1590,  1.3558,  1.3615]],\n",
       "       \n",
       "               [[ 1.0190,  1.7887, -0.7387],\n",
       "                [-1.1590,  1.3558,  1.3615]],\n",
       "       \n",
       "               [[ 1.0190,  1.7887, -0.7387],\n",
       "                [-1.1590,  1.3558,  1.3615]],\n",
       "       \n",
       "               [[ 1.0190,  1.7887, -0.7387],\n",
       "                [-1.1590,  1.3558,  1.3615]],\n",
       "       \n",
       "               [[ 1.0190,  1.7887, -0.7387],\n",
       "                [-1.1590,  1.3558,  1.3615]],\n",
       "       \n",
       "               [[ 1.0190,  1.7887, -0.7387],\n",
       "                [-1.1590,  1.3558,  1.3615]],\n",
       "       \n",
       "               [[ 1.0190,  1.7887, -0.7387],\n",
       "                [-1.1590,  1.3558,  1.3615]]]),\n",
       "    x: Batch(\n",
       "           c: tensor([[[-0.9629, -1.7994,  0.7254, -0.2159],\n",
       "                       [-1.4610, -0.8969, -1.3834, -0.4852],\n",
       "                       [ 0.3814,  0.0319, -0.3501, -1.5002]],\n",
       "              \n",
       "                      [[-0.9629, -1.7994,  0.7254, -0.2159],\n",
       "                       [-1.4610, -0.8969, -1.3834, -0.4852],\n",
       "                       [ 0.3814,  0.0319, -0.3501, -1.5002]],\n",
       "              \n",
       "                      [[-0.9629, -1.7994,  0.7254, -0.2159],\n",
       "                       [-1.4610, -0.8969, -1.3834, -0.4852],\n",
       "                       [ 0.3814,  0.0319, -0.3501, -1.5002]],\n",
       "              \n",
       "                      [[-0.9629, -1.7994,  0.7254, -0.2159],\n",
       "                       [-1.4610, -0.8969, -1.3834, -0.4852],\n",
       "                       [ 0.3814,  0.0319, -0.3501, -1.5002]],\n",
       "              \n",
       "                      [[-0.9629, -1.7994,  0.7254, -0.2159],\n",
       "                       [-1.4610, -0.8969, -1.3834, -0.4852],\n",
       "                       [ 0.3814,  0.0319, -0.3501, -1.5002]],\n",
       "              \n",
       "                      [[-0.9629, -1.7994,  0.7254, -0.2159],\n",
       "                       [-1.4610, -0.8969, -1.3834, -0.4852],\n",
       "                       [ 0.3814,  0.0319, -0.3501, -1.5002]],\n",
       "              \n",
       "                      [[-0.9629, -1.7994,  0.7254, -0.2159],\n",
       "                       [-1.4610, -0.8969, -1.3834, -0.4852],\n",
       "                       [ 0.3814,  0.0319, -0.3501, -1.5002]],\n",
       "              \n",
       "                      [[-0.9629, -1.7994,  0.7254, -0.2159],\n",
       "                       [-1.4610, -0.8969, -1.3834, -0.4852],\n",
       "                       [ 0.3814,  0.0319, -0.3501, -1.5002]]]),\n",
       "       ),\n",
       ")"
      ]
     },
     "execution_count": 25,
     "metadata": {},
     "output_type": "execute_result"
    }
   ],
   "source": [
    "batches = [Batch(**_TREE_DATA_2) for _ in range(8)]\n",
    "\n",
    "Batch.stack(batches)"
   ]
  },
  {
   "cell_type": "code",
   "execution_count": 26,
   "id": "ec9037a3",
   "metadata": {
    "execution": {
     "iopub.execute_input": "2023-08-10T04:18:12.822320Z",
     "iopub.status.busy": "2023-08-10T04:18:12.821741Z",
     "iopub.status.idle": "2023-08-10T04:18:19.399438Z",
     "shell.execute_reply": "2023-08-10T04:18:19.398251Z"
    }
   },
   "outputs": [
    {
     "name": "stdout",
     "output_type": "stream",
     "text": [
      "80.9 µs ± 426 ns per loop (mean ± std. dev. of 7 runs, 10,000 loops each)\n"
     ]
    }
   ],
   "source": [
    "%timeit Batch.stack(batches)"
   ]
  },
  {
   "cell_type": "code",
   "execution_count": 27,
   "id": "cb8ab77e",
   "metadata": {
    "execution": {
     "iopub.execute_input": "2023-08-10T04:18:19.402829Z",
     "iopub.status.busy": "2023-08-10T04:18:19.402230Z",
     "iopub.status.idle": "2023-08-10T04:18:19.409477Z",
     "shell.execute_reply": "2023-08-10T04:18:19.408779Z"
    }
   },
   "outputs": [
    {
     "data": {
      "text/plain": [
       "Batch(\n",
       "    a: tensor([[ 1.0190,  1.7887, -0.7387],\n",
       "               [-1.1590,  1.3558,  1.3615],\n",
       "               [ 1.0190,  1.7887, -0.7387],\n",
       "               [-1.1590,  1.3558,  1.3615],\n",
       "               [ 1.0190,  1.7887, -0.7387],\n",
       "               [-1.1590,  1.3558,  1.3615],\n",
       "               [ 1.0190,  1.7887, -0.7387],\n",
       "               [-1.1590,  1.3558,  1.3615],\n",
       "               [ 1.0190,  1.7887, -0.7387],\n",
       "               [-1.1590,  1.3558,  1.3615],\n",
       "               [ 1.0190,  1.7887, -0.7387],\n",
       "               [-1.1590,  1.3558,  1.3615],\n",
       "               [ 1.0190,  1.7887, -0.7387],\n",
       "               [-1.1590,  1.3558,  1.3615],\n",
       "               [ 1.0190,  1.7887, -0.7387],\n",
       "               [-1.1590,  1.3558,  1.3615]]),\n",
       "    x: Batch(\n",
       "           c: tensor([[-0.9629, -1.7994,  0.7254, -0.2159],\n",
       "                      [-1.4610, -0.8969, -1.3834, -0.4852],\n",
       "                      [ 0.3814,  0.0319, -0.3501, -1.5002],\n",
       "                      [-0.9629, -1.7994,  0.7254, -0.2159],\n",
       "                      [-1.4610, -0.8969, -1.3834, -0.4852],\n",
       "                      [ 0.3814,  0.0319, -0.3501, -1.5002],\n",
       "                      [-0.9629, -1.7994,  0.7254, -0.2159],\n",
       "                      [-1.4610, -0.8969, -1.3834, -0.4852],\n",
       "                      [ 0.3814,  0.0319, -0.3501, -1.5002],\n",
       "                      [-0.9629, -1.7994,  0.7254, -0.2159],\n",
       "                      [-1.4610, -0.8969, -1.3834, -0.4852],\n",
       "                      [ 0.3814,  0.0319, -0.3501, -1.5002],\n",
       "                      [-0.9629, -1.7994,  0.7254, -0.2159],\n",
       "                      [-1.4610, -0.8969, -1.3834, -0.4852],\n",
       "                      [ 0.3814,  0.0319, -0.3501, -1.5002],\n",
       "                      [-0.9629, -1.7994,  0.7254, -0.2159],\n",
       "                      [-1.4610, -0.8969, -1.3834, -0.4852],\n",
       "                      [ 0.3814,  0.0319, -0.3501, -1.5002],\n",
       "                      [-0.9629, -1.7994,  0.7254, -0.2159],\n",
       "                      [-1.4610, -0.8969, -1.3834, -0.4852],\n",
       "                      [ 0.3814,  0.0319, -0.3501, -1.5002],\n",
       "                      [-0.9629, -1.7994,  0.7254, -0.2159],\n",
       "                      [-1.4610, -0.8969, -1.3834, -0.4852],\n",
       "                      [ 0.3814,  0.0319, -0.3501, -1.5002]]),\n",
       "       ),\n",
       ")"
      ]
     },
     "execution_count": 27,
     "metadata": {},
     "output_type": "execute_result"
    }
   ],
   "source": [
    "Batch.cat(batches)"
   ]
  },
  {
   "cell_type": "code",
   "execution_count": 28,
   "id": "18dfb045",
   "metadata": {
    "execution": {
     "iopub.execute_input": "2023-08-10T04:18:19.412417Z",
     "iopub.status.busy": "2023-08-10T04:18:19.412038Z",
     "iopub.status.idle": "2023-08-10T04:18:31.561380Z",
     "shell.execute_reply": "2023-08-10T04:18:31.560620Z"
    }
   },
   "outputs": [
    {
     "name": "stdout",
     "output_type": "stream",
     "text": [
      "150 µs ± 275 ns per loop (mean ± std. dev. of 7 runs, 10,000 loops each)\n"
     ]
    }
   ],
   "source": [
    "%timeit Batch.cat(batches)"
   ]
  },
  {
   "cell_type": "code",
   "execution_count": 29,
   "id": "c6688e51",
   "metadata": {
    "execution": {
     "iopub.execute_input": "2023-08-10T04:18:31.565679Z",
     "iopub.status.busy": "2023-08-10T04:18:31.565027Z",
     "iopub.status.idle": "2023-08-10T04:18:34.231228Z",
     "shell.execute_reply": "2023-08-10T04:18:34.230537Z"
    }
   },
   "outputs": [
    {
     "name": "stdout",
     "output_type": "stream",
     "text": [
      "328 µs ± 5.08 µs per loop (mean ± std. dev. of 7 runs, 1,000 loops each)\n"
     ]
    }
   ],
   "source": [
    "batch = Batch({\n",
    "    'obs': torch.randn(8, 4, 84, 84),\n",
    "    'action': torch.randint(0, 6, size=(8, 1,)),\n",
    "    'reward': torch.rand(8, 1)}\n",
    ")\n",
    "\n",
    "%timeit list(Batch.split(batch, 1, shuffle=False, merge_last=True))"
   ]
  },
  {
   "cell_type": "code",
   "execution_count": null,
   "id": "2539fbd9",
   "metadata": {},
   "outputs": [],
   "source": []
  }
 ],
 "metadata": {
  "kernelspec": {
   "display_name": "Python 3 (ipykernel)",
   "language": "python",
   "name": "python3"
  },
  "language_info": {
   "codemirror_mode": {
    "name": "ipython",
    "version": 3
   },
   "file_extension": ".py",
   "mimetype": "text/x-python",
   "name": "python",
   "nbconvert_exporter": "python",
   "pygments_lexer": "ipython3",
   "version": "3.8.17"
  }
 },
 "nbformat": 4,
 "nbformat_minor": 5
}
