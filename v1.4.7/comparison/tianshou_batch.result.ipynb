{
 "cells": [
  {
   "cell_type": "markdown",
   "id": "9d39d946",
   "metadata": {},
   "source": [
    "# Comparison Between TreeValue and Tianshou Batch"
   ]
  },
  {
   "cell_type": "markdown",
   "id": "3c6db2d4",
   "metadata": {},
   "source": [
    "In this section, we will take a look at the feature and performance of the [Tianshou Batch](https://github.com/thu-ml/tianshou) library, which is developed by Tsinghua Machine Learning Group."
   ]
  },
  {
   "cell_type": "markdown",
   "id": "069361b0",
   "metadata": {},
   "source": [
    "Before starting the comparison, let us define some thing."
   ]
  },
  {
   "cell_type": "code",
   "execution_count": 1,
   "id": "06fc8d26",
   "metadata": {
    "execution": {
     "iopub.execute_input": "2023-03-06T10:13:27.951916Z",
     "iopub.status.busy": "2023-03-06T10:13:27.951708Z",
     "iopub.status.idle": "2023-03-06T10:13:28.857130Z",
     "shell.execute_reply": "2023-03-06T10:13:28.856493Z"
    }
   },
   "outputs": [
    {
     "name": "stderr",
     "output_type": "stream",
     "text": [
      "/opt/hostedtoolcache/Python/3.8.16/x64/lib/python3.8/site-packages/tqdm/auto.py:21: TqdmWarning: IProgress not found. Please update jupyter and ipywidgets. See https://ipywidgets.readthedocs.io/en/stable/user_install.html\n",
      "  from .autonotebook import tqdm as notebook_tqdm\n"
     ]
    }
   ],
   "source": [
    "import torch \n",
    "\n",
    "_TREE_DATA_1 = {'a': 1, 'b': 2, 'x': {'c': 3, 'd': 4}}\n",
    "_TREE_DATA_2 = {\n",
    "    'a': torch.randn(2, 3), \n",
    "    'x': {\n",
    "        'c': torch.randn(3, 4)\n",
    "    },\n",
    "}\n",
    "_TREE_DATA_3 = {\n",
    "    'obs': torch.randn(4, 84, 84),\n",
    "    'action': torch.randint(0, 6, size=(1,)),\n",
    "    'reward': torch.rand(1),\n",
    "}"
   ]
  },
  {
   "cell_type": "markdown",
   "id": "83461b25",
   "metadata": {},
   "source": [
    "## Read and Write Operation"
   ]
  },
  {
   "cell_type": "markdown",
   "id": "067b3f73",
   "metadata": {},
   "source": [
    "Reading and writing are the two most common operations in the tree data structure based on the data model (TreeValue and Tianshou Batch both belong to this type), so this section will compare the reading and writing performance of these two libraries."
   ]
  },
  {
   "cell_type": "markdown",
   "id": "5d09a5b7",
   "metadata": {},
   "source": [
    "### TreeValue's Get and Set"
   ]
  },
  {
   "cell_type": "code",
   "execution_count": 2,
   "id": "9519c4bb",
   "metadata": {
    "execution": {
     "iopub.execute_input": "2023-03-06T10:13:28.860305Z",
     "iopub.status.busy": "2023-03-06T10:13:28.859827Z",
     "iopub.status.idle": "2023-03-06T10:13:29.138978Z",
     "shell.execute_reply": "2023-03-06T10:13:29.138295Z"
    }
   },
   "outputs": [],
   "source": [
    "from treevalue import FastTreeValue\n",
    "\n",
    "t = FastTreeValue(_TREE_DATA_2)"
   ]
  },
  {
   "cell_type": "code",
   "execution_count": 3,
   "id": "11c37677",
   "metadata": {
    "execution": {
     "iopub.execute_input": "2023-03-06T10:13:29.142249Z",
     "iopub.status.busy": "2023-03-06T10:13:29.141622Z",
     "iopub.status.idle": "2023-03-06T10:13:29.151001Z",
     "shell.execute_reply": "2023-03-06T10:13:29.150416Z"
    }
   },
   "outputs": [
    {
     "data": {
      "text/plain": [
       "<FastTreeValue 0x7f90d33f7220>\n",
       "├── 'a' --> tensor([[-0.4568, -0.4701, -2.1553],\n",
       "│                   [ 0.4081, -0.4990, -0.0075]])\n",
       "└── 'x' --> <FastTreeValue 0x7f902aeeda30>\n",
       "    └── 'c' --> tensor([[ 0.7147,  0.5573,  0.3149,  0.4486],\n",
       "                        [ 1.5436, -1.5523, -0.6522,  0.5021],\n",
       "                        [ 1.7369,  1.3355, -0.3462,  0.2030]])"
      ]
     },
     "execution_count": 3,
     "metadata": {},
     "output_type": "execute_result"
    }
   ],
   "source": [
    "t"
   ]
  },
  {
   "cell_type": "code",
   "execution_count": 4,
   "id": "fd70b0b9",
   "metadata": {
    "execution": {
     "iopub.execute_input": "2023-03-06T10:13:29.153955Z",
     "iopub.status.busy": "2023-03-06T10:13:29.153466Z",
     "iopub.status.idle": "2023-03-06T10:13:29.158040Z",
     "shell.execute_reply": "2023-03-06T10:13:29.157406Z"
    }
   },
   "outputs": [
    {
     "data": {
      "text/plain": [
       "tensor([[-0.4568, -0.4701, -2.1553],\n",
       "        [ 0.4081, -0.4990, -0.0075]])"
      ]
     },
     "execution_count": 4,
     "metadata": {},
     "output_type": "execute_result"
    }
   ],
   "source": [
    "t.a"
   ]
  },
  {
   "cell_type": "code",
   "execution_count": 5,
   "id": "c18197bd",
   "metadata": {
    "execution": {
     "iopub.execute_input": "2023-03-06T10:13:29.160539Z",
     "iopub.status.busy": "2023-03-06T10:13:29.160203Z",
     "iopub.status.idle": "2023-03-06T10:13:34.137980Z",
     "shell.execute_reply": "2023-03-06T10:13:34.137227Z"
    }
   },
   "outputs": [
    {
     "name": "stdout",
     "output_type": "stream",
     "text": [
      "61.3 ns ± 0.0193 ns per loop (mean ± std. dev. of 7 runs, 10,000,000 loops each)\n"
     ]
    }
   ],
   "source": [
    "%timeit t.a"
   ]
  },
  {
   "cell_type": "code",
   "execution_count": 6,
   "id": "bd52f867",
   "metadata": {
    "execution": {
     "iopub.execute_input": "2023-03-06T10:13:34.140823Z",
     "iopub.status.busy": "2023-03-06T10:13:34.140373Z",
     "iopub.status.idle": "2023-03-06T10:13:34.147065Z",
     "shell.execute_reply": "2023-03-06T10:13:34.146422Z"
    }
   },
   "outputs": [
    {
     "data": {
      "text/plain": [
       "<FastTreeValue 0x7f90d33f7220>\n",
       "├── 'a' --> tensor([[-1.6384,  0.6836, -0.1320],\n",
       "│                   [ 0.9996,  1.1419,  0.5095]])\n",
       "└── 'x' --> <FastTreeValue 0x7f902aeeda30>\n",
       "    └── 'c' --> tensor([[ 0.7147,  0.5573,  0.3149,  0.4486],\n",
       "                        [ 1.5436, -1.5523, -0.6522,  0.5021],\n",
       "                        [ 1.7369,  1.3355, -0.3462,  0.2030]])"
      ]
     },
     "execution_count": 6,
     "metadata": {},
     "output_type": "execute_result"
    }
   ],
   "source": [
    "new_value = torch.randn(2, 3)\n",
    "t.a = new_value\n",
    "\n",
    "t"
   ]
  },
  {
   "cell_type": "code",
   "execution_count": 7,
   "id": "bbe04d1c",
   "metadata": {
    "execution": {
     "iopub.execute_input": "2023-03-06T10:13:34.149626Z",
     "iopub.status.busy": "2023-03-06T10:13:34.149279Z",
     "iopub.status.idle": "2023-03-06T10:13:39.113325Z",
     "shell.execute_reply": "2023-03-06T10:13:39.112610Z"
    }
   },
   "outputs": [
    {
     "name": "stdout",
     "output_type": "stream",
     "text": [
      "61.2 ns ± 0.0443 ns per loop (mean ± std. dev. of 7 runs, 10,000,000 loops each)\n"
     ]
    }
   ],
   "source": [
    "%timeit t.a = new_value"
   ]
  },
  {
   "cell_type": "markdown",
   "id": "48c49731",
   "metadata": {},
   "source": [
    "### Tianshou Batch's Get and Set"
   ]
  },
  {
   "cell_type": "code",
   "execution_count": 8,
   "id": "f1bb14c1",
   "metadata": {
    "execution": {
     "iopub.execute_input": "2023-03-06T10:13:39.116660Z",
     "iopub.status.busy": "2023-03-06T10:13:39.116093Z",
     "iopub.status.idle": "2023-03-06T10:13:39.498098Z",
     "shell.execute_reply": "2023-03-06T10:13:39.496984Z"
    }
   },
   "outputs": [],
   "source": [
    "from tianshou.data import Batch\n",
    "\n",
    "b = Batch(**_TREE_DATA_2)"
   ]
  },
  {
   "cell_type": "code",
   "execution_count": 9,
   "id": "cb0777c3",
   "metadata": {
    "execution": {
     "iopub.execute_input": "2023-03-06T10:13:39.504760Z",
     "iopub.status.busy": "2023-03-06T10:13:39.503690Z",
     "iopub.status.idle": "2023-03-06T10:13:39.515830Z",
     "shell.execute_reply": "2023-03-06T10:13:39.514831Z"
    }
   },
   "outputs": [
    {
     "data": {
      "text/plain": [
       "Batch(\n",
       "    a: tensor([[-0.4568, -0.4701, -2.1553],\n",
       "               [ 0.4081, -0.4990, -0.0075]]),\n",
       "    x: Batch(\n",
       "           c: tensor([[ 0.7147,  0.5573,  0.3149,  0.4486],\n",
       "                      [ 1.5436, -1.5523, -0.6522,  0.5021],\n",
       "                      [ 1.7369,  1.3355, -0.3462,  0.2030]]),\n",
       "       ),\n",
       ")"
      ]
     },
     "execution_count": 9,
     "metadata": {},
     "output_type": "execute_result"
    }
   ],
   "source": [
    "b"
   ]
  },
  {
   "cell_type": "code",
   "execution_count": 10,
   "id": "43ef8ea3",
   "metadata": {
    "execution": {
     "iopub.execute_input": "2023-03-06T10:13:39.519345Z",
     "iopub.status.busy": "2023-03-06T10:13:39.518728Z",
     "iopub.status.idle": "2023-03-06T10:13:39.525940Z",
     "shell.execute_reply": "2023-03-06T10:13:39.525339Z"
    }
   },
   "outputs": [
    {
     "data": {
      "text/plain": [
       "tensor([[-0.4568, -0.4701, -2.1553],\n",
       "        [ 0.4081, -0.4990, -0.0075]])"
      ]
     },
     "execution_count": 10,
     "metadata": {},
     "output_type": "execute_result"
    }
   ],
   "source": [
    "b.a"
   ]
  },
  {
   "cell_type": "code",
   "execution_count": 11,
   "id": "b785ab72",
   "metadata": {
    "execution": {
     "iopub.execute_input": "2023-03-06T10:13:39.528845Z",
     "iopub.status.busy": "2023-03-06T10:13:39.528605Z",
     "iopub.status.idle": "2023-03-06T10:13:44.183357Z",
     "shell.execute_reply": "2023-03-06T10:13:44.182662Z"
    }
   },
   "outputs": [
    {
     "name": "stdout",
     "output_type": "stream",
     "text": [
      "57.2 ns ± 0.0148 ns per loop (mean ± std. dev. of 7 runs, 10,000,000 loops each)\n"
     ]
    }
   ],
   "source": [
    "%timeit b.a"
   ]
  },
  {
   "cell_type": "code",
   "execution_count": 12,
   "id": "ad54dc69",
   "metadata": {
    "execution": {
     "iopub.execute_input": "2023-03-06T10:13:44.186315Z",
     "iopub.status.busy": "2023-03-06T10:13:44.185967Z",
     "iopub.status.idle": "2023-03-06T10:13:44.193331Z",
     "shell.execute_reply": "2023-03-06T10:13:44.192736Z"
    }
   },
   "outputs": [
    {
     "data": {
      "text/plain": [
       "Batch(\n",
       "    a: tensor([[-0.3080,  0.7063, -1.4383],\n",
       "               [-0.2968,  1.4176,  0.5641]]),\n",
       "    x: Batch(\n",
       "           c: tensor([[ 0.7147,  0.5573,  0.3149,  0.4486],\n",
       "                      [ 1.5436, -1.5523, -0.6522,  0.5021],\n",
       "                      [ 1.7369,  1.3355, -0.3462,  0.2030]]),\n",
       "       ),\n",
       ")"
      ]
     },
     "execution_count": 12,
     "metadata": {},
     "output_type": "execute_result"
    }
   ],
   "source": [
    "new_value = torch.randn(2, 3)\n",
    "b.a = new_value\n",
    "\n",
    "b"
   ]
  },
  {
   "cell_type": "code",
   "execution_count": 13,
   "id": "29b1d0bf",
   "metadata": {
    "execution": {
     "iopub.execute_input": "2023-03-06T10:13:44.195962Z",
     "iopub.status.busy": "2023-03-06T10:13:44.195471Z",
     "iopub.status.idle": "2023-03-06T10:13:48.064188Z",
     "shell.execute_reply": "2023-03-06T10:13:48.063506Z"
    }
   },
   "outputs": [
    {
     "name": "stdout",
     "output_type": "stream",
     "text": [
      "476 ns ± 0.133 ns per loop (mean ± std. dev. of 7 runs, 1,000,000 loops each)\n"
     ]
    }
   ],
   "source": [
    "%timeit b.a = new_value"
   ]
  },
  {
   "cell_type": "markdown",
   "id": "b61ad1d0",
   "metadata": {},
   "source": [
    "## Initialization"
   ]
  },
  {
   "cell_type": "markdown",
   "id": "d70f0d54",
   "metadata": {},
   "source": [
    "### TreeValue's Initialization"
   ]
  },
  {
   "cell_type": "code",
   "execution_count": 14,
   "id": "d32a679b",
   "metadata": {
    "execution": {
     "iopub.execute_input": "2023-03-06T10:13:48.067538Z",
     "iopub.status.busy": "2023-03-06T10:13:48.067045Z",
     "iopub.status.idle": "2023-03-06T10:13:54.783192Z",
     "shell.execute_reply": "2023-03-06T10:13:54.782478Z"
    }
   },
   "outputs": [
    {
     "name": "stdout",
     "output_type": "stream",
     "text": [
      "827 ns ± 0.0964 ns per loop (mean ± std. dev. of 7 runs, 1,000,000 loops each)\n"
     ]
    }
   ],
   "source": [
    "%timeit FastTreeValue(_TREE_DATA_1)"
   ]
  },
  {
   "cell_type": "markdown",
   "id": "24f3707b",
   "metadata": {},
   "source": [
    "### Tianshou Batch's Initialization"
   ]
  },
  {
   "cell_type": "code",
   "execution_count": 15,
   "id": "ac3958df",
   "metadata": {
    "execution": {
     "iopub.execute_input": "2023-03-06T10:13:54.786478Z",
     "iopub.status.busy": "2023-03-06T10:13:54.785970Z",
     "iopub.status.idle": "2023-03-06T10:14:03.954484Z",
     "shell.execute_reply": "2023-03-06T10:14:03.953732Z"
    }
   },
   "outputs": [
    {
     "name": "stdout",
     "output_type": "stream",
     "text": [
      "11.3 µs ± 12.9 ns per loop (mean ± std. dev. of 7 runs, 100,000 loops each)\n"
     ]
    }
   ],
   "source": [
    "%timeit Batch(**_TREE_DATA_1)"
   ]
  },
  {
   "cell_type": "markdown",
   "id": "1ab82e2d",
   "metadata": {},
   "source": [
    "## Deep Copy Operation"
   ]
  },
  {
   "cell_type": "code",
   "execution_count": 16,
   "id": "210a9442",
   "metadata": {
    "execution": {
     "iopub.execute_input": "2023-03-06T10:14:03.957548Z",
     "iopub.status.busy": "2023-03-06T10:14:03.957199Z",
     "iopub.status.idle": "2023-03-06T10:14:03.961124Z",
     "shell.execute_reply": "2023-03-06T10:14:03.960530Z"
    }
   },
   "outputs": [],
   "source": [
    "import copy"
   ]
  },
  {
   "cell_type": "markdown",
   "id": "5a736274",
   "metadata": {},
   "source": [
    "### Deep Copy of TreeValue"
   ]
  },
  {
   "cell_type": "code",
   "execution_count": 17,
   "id": "f9bcadd6",
   "metadata": {
    "execution": {
     "iopub.execute_input": "2023-03-06T10:14:03.963996Z",
     "iopub.status.busy": "2023-03-06T10:14:03.963498Z",
     "iopub.status.idle": "2023-03-06T10:14:15.240157Z",
     "shell.execute_reply": "2023-03-06T10:14:15.239592Z"
    }
   },
   "outputs": [
    {
     "name": "stdout",
     "output_type": "stream",
     "text": [
      "139 µs ± 595 ns per loop (mean ± std. dev. of 7 runs, 10,000 loops each)\n"
     ]
    }
   ],
   "source": [
    "t3 = FastTreeValue(_TREE_DATA_3)\n",
    "%timeit copy.deepcopy(t3)"
   ]
  },
  {
   "cell_type": "markdown",
   "id": "bf8be7ea",
   "metadata": {},
   "source": [
    "### Deep Copy of Tianshou Batch"
   ]
  },
  {
   "cell_type": "code",
   "execution_count": 18,
   "id": "91998e6f",
   "metadata": {
    "execution": {
     "iopub.execute_input": "2023-03-06T10:14:15.243052Z",
     "iopub.status.busy": "2023-03-06T10:14:15.242387Z",
     "iopub.status.idle": "2023-03-06T10:14:26.728360Z",
     "shell.execute_reply": "2023-03-06T10:14:26.727760Z"
    }
   },
   "outputs": [
    {
     "name": "stdout",
     "output_type": "stream",
     "text": [
      "142 µs ± 606 ns per loop (mean ± std. dev. of 7 runs, 10,000 loops each)\n"
     ]
    }
   ],
   "source": [
    "b3 = Batch(**_TREE_DATA_3)\n",
    "%timeit copy.deepcopy(b3)"
   ]
  },
  {
   "cell_type": "markdown",
   "id": "223162fb",
   "metadata": {},
   "source": [
    "## Stack, Concat and Split Operation"
   ]
  },
  {
   "cell_type": "markdown",
   "id": "85fa4a73",
   "metadata": {},
   "source": [
    "### Performance of TreeValue"
   ]
  },
  {
   "cell_type": "code",
   "execution_count": 19,
   "id": "a0c2b697",
   "metadata": {
    "execution": {
     "iopub.execute_input": "2023-03-06T10:14:26.731782Z",
     "iopub.status.busy": "2023-03-06T10:14:26.731320Z",
     "iopub.status.idle": "2023-03-06T10:14:26.735665Z",
     "shell.execute_reply": "2023-03-06T10:14:26.735145Z"
    }
   },
   "outputs": [],
   "source": [
    "trees = [FastTreeValue(_TREE_DATA_2) for _ in range(8)]"
   ]
  },
  {
   "cell_type": "code",
   "execution_count": 20,
   "id": "017ea5a5",
   "metadata": {
    "execution": {
     "iopub.execute_input": "2023-03-06T10:14:26.739410Z",
     "iopub.status.busy": "2023-03-06T10:14:26.738233Z",
     "iopub.status.idle": "2023-03-06T10:14:26.747278Z",
     "shell.execute_reply": "2023-03-06T10:14:26.746684Z"
    }
   },
   "outputs": [
    {
     "data": {
      "text/plain": [
       "<FastTreeValue 0x7f902066a4f0>\n",
       "├── 'a' --> tensor([[[-0.4568, -0.4701, -2.1553],\n",
       "│                    [ 0.4081, -0.4990, -0.0075]],\n",
       "│           \n",
       "│                   [[-0.4568, -0.4701, -2.1553],\n",
       "│                    [ 0.4081, -0.4990, -0.0075]],\n",
       "│           \n",
       "│                   [[-0.4568, -0.4701, -2.1553],\n",
       "│                    [ 0.4081, -0.4990, -0.0075]],\n",
       "│           \n",
       "│                   [[-0.4568, -0.4701, -2.1553],\n",
       "│                    [ 0.4081, -0.4990, -0.0075]],\n",
       "│           \n",
       "│                   [[-0.4568, -0.4701, -2.1553],\n",
       "│                    [ 0.4081, -0.4990, -0.0075]],\n",
       "│           \n",
       "│                   [[-0.4568, -0.4701, -2.1553],\n",
       "│                    [ 0.4081, -0.4990, -0.0075]],\n",
       "│           \n",
       "│                   [[-0.4568, -0.4701, -2.1553],\n",
       "│                    [ 0.4081, -0.4990, -0.0075]],\n",
       "│           \n",
       "│                   [[-0.4568, -0.4701, -2.1553],\n",
       "│                    [ 0.4081, -0.4990, -0.0075]]])\n",
       "└── 'x' --> <FastTreeValue 0x7f9019c64c40>\n",
       "    └── 'c' --> tensor([[[ 0.7147,  0.5573,  0.3149,  0.4486],\n",
       "                         [ 1.5436, -1.5523, -0.6522,  0.5021],\n",
       "                         [ 1.7369,  1.3355, -0.3462,  0.2030]],\n",
       "                \n",
       "                        [[ 0.7147,  0.5573,  0.3149,  0.4486],\n",
       "                         [ 1.5436, -1.5523, -0.6522,  0.5021],\n",
       "                         [ 1.7369,  1.3355, -0.3462,  0.2030]],\n",
       "                \n",
       "                        [[ 0.7147,  0.5573,  0.3149,  0.4486],\n",
       "                         [ 1.5436, -1.5523, -0.6522,  0.5021],\n",
       "                         [ 1.7369,  1.3355, -0.3462,  0.2030]],\n",
       "                \n",
       "                        [[ 0.7147,  0.5573,  0.3149,  0.4486],\n",
       "                         [ 1.5436, -1.5523, -0.6522,  0.5021],\n",
       "                         [ 1.7369,  1.3355, -0.3462,  0.2030]],\n",
       "                \n",
       "                        [[ 0.7147,  0.5573,  0.3149,  0.4486],\n",
       "                         [ 1.5436, -1.5523, -0.6522,  0.5021],\n",
       "                         [ 1.7369,  1.3355, -0.3462,  0.2030]],\n",
       "                \n",
       "                        [[ 0.7147,  0.5573,  0.3149,  0.4486],\n",
       "                         [ 1.5436, -1.5523, -0.6522,  0.5021],\n",
       "                         [ 1.7369,  1.3355, -0.3462,  0.2030]],\n",
       "                \n",
       "                        [[ 0.7147,  0.5573,  0.3149,  0.4486],\n",
       "                         [ 1.5436, -1.5523, -0.6522,  0.5021],\n",
       "                         [ 1.7369,  1.3355, -0.3462,  0.2030]],\n",
       "                \n",
       "                        [[ 0.7147,  0.5573,  0.3149,  0.4486],\n",
       "                         [ 1.5436, -1.5523, -0.6522,  0.5021],\n",
       "                         [ 1.7369,  1.3355, -0.3462,  0.2030]]])"
      ]
     },
     "execution_count": 20,
     "metadata": {},
     "output_type": "execute_result"
    }
   ],
   "source": [
    "t_stack = FastTreeValue.func(subside=True)(torch.stack)\n",
    "\n",
    "t_stack(trees)"
   ]
  },
  {
   "cell_type": "code",
   "execution_count": 21,
   "id": "f8b3f415",
   "metadata": {
    "execution": {
     "iopub.execute_input": "2023-03-06T10:14:26.750126Z",
     "iopub.status.busy": "2023-03-06T10:14:26.749702Z",
     "iopub.status.idle": "2023-03-06T10:14:29.405610Z",
     "shell.execute_reply": "2023-03-06T10:14:29.404874Z"
    }
   },
   "outputs": [
    {
     "name": "stdout",
     "output_type": "stream",
     "text": [
      "32.6 µs ± 45 ns per loop (mean ± std. dev. of 7 runs, 10,000 loops each)\n"
     ]
    }
   ],
   "source": [
    "%timeit t_stack(trees)"
   ]
  },
  {
   "cell_type": "code",
   "execution_count": 22,
   "id": "94b56771",
   "metadata": {
    "execution": {
     "iopub.execute_input": "2023-03-06T10:14:29.408649Z",
     "iopub.status.busy": "2023-03-06T10:14:29.408088Z",
     "iopub.status.idle": "2023-03-06T10:14:29.415998Z",
     "shell.execute_reply": "2023-03-06T10:14:29.415400Z"
    }
   },
   "outputs": [
    {
     "data": {
      "text/plain": [
       "<FastTreeValue 0x7f9019634d00>\n",
       "├── 'a' --> tensor([[-0.4568, -0.4701, -2.1553],\n",
       "│                   [ 0.4081, -0.4990, -0.0075],\n",
       "│                   [-0.4568, -0.4701, -2.1553],\n",
       "│                   [ 0.4081, -0.4990, -0.0075],\n",
       "│                   [-0.4568, -0.4701, -2.1553],\n",
       "│                   [ 0.4081, -0.4990, -0.0075],\n",
       "│                   [-0.4568, -0.4701, -2.1553],\n",
       "│                   [ 0.4081, -0.4990, -0.0075],\n",
       "│                   [-0.4568, -0.4701, -2.1553],\n",
       "│                   [ 0.4081, -0.4990, -0.0075],\n",
       "│                   [-0.4568, -0.4701, -2.1553],\n",
       "│                   [ 0.4081, -0.4990, -0.0075],\n",
       "│                   [-0.4568, -0.4701, -2.1553],\n",
       "│                   [ 0.4081, -0.4990, -0.0075],\n",
       "│                   [-0.4568, -0.4701, -2.1553],\n",
       "│                   [ 0.4081, -0.4990, -0.0075]])\n",
       "└── 'x' --> <FastTreeValue 0x7f902059eac0>\n",
       "    └── 'c' --> tensor([[ 0.7147,  0.5573,  0.3149,  0.4486],\n",
       "                        [ 1.5436, -1.5523, -0.6522,  0.5021],\n",
       "                        [ 1.7369,  1.3355, -0.3462,  0.2030],\n",
       "                        [ 0.7147,  0.5573,  0.3149,  0.4486],\n",
       "                        [ 1.5436, -1.5523, -0.6522,  0.5021],\n",
       "                        [ 1.7369,  1.3355, -0.3462,  0.2030],\n",
       "                        [ 0.7147,  0.5573,  0.3149,  0.4486],\n",
       "                        [ 1.5436, -1.5523, -0.6522,  0.5021],\n",
       "                        [ 1.7369,  1.3355, -0.3462,  0.2030],\n",
       "                        [ 0.7147,  0.5573,  0.3149,  0.4486],\n",
       "                        [ 1.5436, -1.5523, -0.6522,  0.5021],\n",
       "                        [ 1.7369,  1.3355, -0.3462,  0.2030],\n",
       "                        [ 0.7147,  0.5573,  0.3149,  0.4486],\n",
       "                        [ 1.5436, -1.5523, -0.6522,  0.5021],\n",
       "                        [ 1.7369,  1.3355, -0.3462,  0.2030],\n",
       "                        [ 0.7147,  0.5573,  0.3149,  0.4486],\n",
       "                        [ 1.5436, -1.5523, -0.6522,  0.5021],\n",
       "                        [ 1.7369,  1.3355, -0.3462,  0.2030],\n",
       "                        [ 0.7147,  0.5573,  0.3149,  0.4486],\n",
       "                        [ 1.5436, -1.5523, -0.6522,  0.5021],\n",
       "                        [ 1.7369,  1.3355, -0.3462,  0.2030],\n",
       "                        [ 0.7147,  0.5573,  0.3149,  0.4486],\n",
       "                        [ 1.5436, -1.5523, -0.6522,  0.5021],\n",
       "                        [ 1.7369,  1.3355, -0.3462,  0.2030]])"
      ]
     },
     "execution_count": 22,
     "metadata": {},
     "output_type": "execute_result"
    }
   ],
   "source": [
    "t_cat = FastTreeValue.func(subside=True)(torch.cat)\n",
    "\n",
    "t_cat(trees)"
   ]
  },
  {
   "cell_type": "code",
   "execution_count": 23,
   "id": "5e9c06a6",
   "metadata": {
    "execution": {
     "iopub.execute_input": "2023-03-06T10:14:29.418992Z",
     "iopub.status.busy": "2023-03-06T10:14:29.418496Z",
     "iopub.status.idle": "2023-03-06T10:14:31.893652Z",
     "shell.execute_reply": "2023-03-06T10:14:31.892998Z"
    }
   },
   "outputs": [
    {
     "name": "stdout",
     "output_type": "stream",
     "text": [
      "30.4 µs ± 36.4 ns per loop (mean ± std. dev. of 7 runs, 10,000 loops each)\n"
     ]
    }
   ],
   "source": [
    "%timeit t_cat(trees)"
   ]
  },
  {
   "cell_type": "code",
   "execution_count": 24,
   "id": "a3ab5c8f",
   "metadata": {
    "execution": {
     "iopub.execute_input": "2023-03-06T10:14:31.896580Z",
     "iopub.status.busy": "2023-03-06T10:14:31.896014Z",
     "iopub.status.idle": "2023-03-06T10:14:36.628983Z",
     "shell.execute_reply": "2023-03-06T10:14:36.628269Z"
    }
   },
   "outputs": [
    {
     "name": "stdout",
     "output_type": "stream",
     "text": [
      "58.2 µs ± 97.1 ns per loop (mean ± std. dev. of 7 runs, 10,000 loops each)\n"
     ]
    }
   ],
   "source": [
    "t_split = FastTreeValue.func(rise=True)(torch.split)\n",
    "tree = FastTreeValue({\n",
    "    'obs': torch.randn(8, 4, 84, 84),\n",
    "    'action': torch.randint(0, 6, size=(8, 1,)),\n",
    "    'reward': torch.rand(8, 1),\n",
    "})\n",
    "\n",
    "%timeit t_split(tree, 1)"
   ]
  },
  {
   "cell_type": "markdown",
   "id": "31c3ec0b",
   "metadata": {},
   "source": [
    "### Performance of Tianshou Batch"
   ]
  },
  {
   "cell_type": "code",
   "execution_count": 25,
   "id": "9ead828a",
   "metadata": {
    "execution": {
     "iopub.execute_input": "2023-03-06T10:14:36.632264Z",
     "iopub.status.busy": "2023-03-06T10:14:36.631750Z",
     "iopub.status.idle": "2023-03-06T10:14:36.640617Z",
     "shell.execute_reply": "2023-03-06T10:14:36.640026Z"
    }
   },
   "outputs": [
    {
     "data": {
      "text/plain": [
       "Batch(\n",
       "    a: tensor([[[-0.4568, -0.4701, -2.1553],\n",
       "                [ 0.4081, -0.4990, -0.0075]],\n",
       "       \n",
       "               [[-0.4568, -0.4701, -2.1553],\n",
       "                [ 0.4081, -0.4990, -0.0075]],\n",
       "       \n",
       "               [[-0.4568, -0.4701, -2.1553],\n",
       "                [ 0.4081, -0.4990, -0.0075]],\n",
       "       \n",
       "               [[-0.4568, -0.4701, -2.1553],\n",
       "                [ 0.4081, -0.4990, -0.0075]],\n",
       "       \n",
       "               [[-0.4568, -0.4701, -2.1553],\n",
       "                [ 0.4081, -0.4990, -0.0075]],\n",
       "       \n",
       "               [[-0.4568, -0.4701, -2.1553],\n",
       "                [ 0.4081, -0.4990, -0.0075]],\n",
       "       \n",
       "               [[-0.4568, -0.4701, -2.1553],\n",
       "                [ 0.4081, -0.4990, -0.0075]],\n",
       "       \n",
       "               [[-0.4568, -0.4701, -2.1553],\n",
       "                [ 0.4081, -0.4990, -0.0075]]]),\n",
       "    x: Batch(\n",
       "           c: tensor([[[ 0.7147,  0.5573,  0.3149,  0.4486],\n",
       "                       [ 1.5436, -1.5523, -0.6522,  0.5021],\n",
       "                       [ 1.7369,  1.3355, -0.3462,  0.2030]],\n",
       "              \n",
       "                      [[ 0.7147,  0.5573,  0.3149,  0.4486],\n",
       "                       [ 1.5436, -1.5523, -0.6522,  0.5021],\n",
       "                       [ 1.7369,  1.3355, -0.3462,  0.2030]],\n",
       "              \n",
       "                      [[ 0.7147,  0.5573,  0.3149,  0.4486],\n",
       "                       [ 1.5436, -1.5523, -0.6522,  0.5021],\n",
       "                       [ 1.7369,  1.3355, -0.3462,  0.2030]],\n",
       "              \n",
       "                      [[ 0.7147,  0.5573,  0.3149,  0.4486],\n",
       "                       [ 1.5436, -1.5523, -0.6522,  0.5021],\n",
       "                       [ 1.7369,  1.3355, -0.3462,  0.2030]],\n",
       "              \n",
       "                      [[ 0.7147,  0.5573,  0.3149,  0.4486],\n",
       "                       [ 1.5436, -1.5523, -0.6522,  0.5021],\n",
       "                       [ 1.7369,  1.3355, -0.3462,  0.2030]],\n",
       "              \n",
       "                      [[ 0.7147,  0.5573,  0.3149,  0.4486],\n",
       "                       [ 1.5436, -1.5523, -0.6522,  0.5021],\n",
       "                       [ 1.7369,  1.3355, -0.3462,  0.2030]],\n",
       "              \n",
       "                      [[ 0.7147,  0.5573,  0.3149,  0.4486],\n",
       "                       [ 1.5436, -1.5523, -0.6522,  0.5021],\n",
       "                       [ 1.7369,  1.3355, -0.3462,  0.2030]],\n",
       "              \n",
       "                      [[ 0.7147,  0.5573,  0.3149,  0.4486],\n",
       "                       [ 1.5436, -1.5523, -0.6522,  0.5021],\n",
       "                       [ 1.7369,  1.3355, -0.3462,  0.2030]]]),\n",
       "       ),\n",
       ")"
      ]
     },
     "execution_count": 25,
     "metadata": {},
     "output_type": "execute_result"
    }
   ],
   "source": [
    "batches = [Batch(**_TREE_DATA_2) for _ in range(8)]\n",
    "\n",
    "Batch.stack(batches)"
   ]
  },
  {
   "cell_type": "code",
   "execution_count": 26,
   "id": "ec9037a3",
   "metadata": {
    "execution": {
     "iopub.execute_input": "2023-03-06T10:14:36.643429Z",
     "iopub.status.busy": "2023-03-06T10:14:36.643075Z",
     "iopub.status.idle": "2023-03-06T10:14:43.065085Z",
     "shell.execute_reply": "2023-03-06T10:14:43.064398Z"
    }
   },
   "outputs": [
    {
     "name": "stdout",
     "output_type": "stream",
     "text": [
      "79 µs ± 147 ns per loop (mean ± std. dev. of 7 runs, 10,000 loops each)\n"
     ]
    }
   ],
   "source": [
    "%timeit Batch.stack(batches)"
   ]
  },
  {
   "cell_type": "code",
   "execution_count": 27,
   "id": "cb8ab77e",
   "metadata": {
    "execution": {
     "iopub.execute_input": "2023-03-06T10:14:43.068308Z",
     "iopub.status.busy": "2023-03-06T10:14:43.067796Z",
     "iopub.status.idle": "2023-03-06T10:14:43.075316Z",
     "shell.execute_reply": "2023-03-06T10:14:43.074730Z"
    }
   },
   "outputs": [
    {
     "data": {
      "text/plain": [
       "Batch(\n",
       "    a: tensor([[-0.4568, -0.4701, -2.1553],\n",
       "               [ 0.4081, -0.4990, -0.0075],\n",
       "               [-0.4568, -0.4701, -2.1553],\n",
       "               [ 0.4081, -0.4990, -0.0075],\n",
       "               [-0.4568, -0.4701, -2.1553],\n",
       "               [ 0.4081, -0.4990, -0.0075],\n",
       "               [-0.4568, -0.4701, -2.1553],\n",
       "               [ 0.4081, -0.4990, -0.0075],\n",
       "               [-0.4568, -0.4701, -2.1553],\n",
       "               [ 0.4081, -0.4990, -0.0075],\n",
       "               [-0.4568, -0.4701, -2.1553],\n",
       "               [ 0.4081, -0.4990, -0.0075],\n",
       "               [-0.4568, -0.4701, -2.1553],\n",
       "               [ 0.4081, -0.4990, -0.0075],\n",
       "               [-0.4568, -0.4701, -2.1553],\n",
       "               [ 0.4081, -0.4990, -0.0075]]),\n",
       "    x: Batch(\n",
       "           c: tensor([[ 0.7147,  0.5573,  0.3149,  0.4486],\n",
       "                      [ 1.5436, -1.5523, -0.6522,  0.5021],\n",
       "                      [ 1.7369,  1.3355, -0.3462,  0.2030],\n",
       "                      [ 0.7147,  0.5573,  0.3149,  0.4486],\n",
       "                      [ 1.5436, -1.5523, -0.6522,  0.5021],\n",
       "                      [ 1.7369,  1.3355, -0.3462,  0.2030],\n",
       "                      [ 0.7147,  0.5573,  0.3149,  0.4486],\n",
       "                      [ 1.5436, -1.5523, -0.6522,  0.5021],\n",
       "                      [ 1.7369,  1.3355, -0.3462,  0.2030],\n",
       "                      [ 0.7147,  0.5573,  0.3149,  0.4486],\n",
       "                      [ 1.5436, -1.5523, -0.6522,  0.5021],\n",
       "                      [ 1.7369,  1.3355, -0.3462,  0.2030],\n",
       "                      [ 0.7147,  0.5573,  0.3149,  0.4486],\n",
       "                      [ 1.5436, -1.5523, -0.6522,  0.5021],\n",
       "                      [ 1.7369,  1.3355, -0.3462,  0.2030],\n",
       "                      [ 0.7147,  0.5573,  0.3149,  0.4486],\n",
       "                      [ 1.5436, -1.5523, -0.6522,  0.5021],\n",
       "                      [ 1.7369,  1.3355, -0.3462,  0.2030],\n",
       "                      [ 0.7147,  0.5573,  0.3149,  0.4486],\n",
       "                      [ 1.5436, -1.5523, -0.6522,  0.5021],\n",
       "                      [ 1.7369,  1.3355, -0.3462,  0.2030],\n",
       "                      [ 0.7147,  0.5573,  0.3149,  0.4486],\n",
       "                      [ 1.5436, -1.5523, -0.6522,  0.5021],\n",
       "                      [ 1.7369,  1.3355, -0.3462,  0.2030]]),\n",
       "       ),\n",
       ")"
      ]
     },
     "execution_count": 27,
     "metadata": {},
     "output_type": "execute_result"
    }
   ],
   "source": [
    "Batch.cat(batches)"
   ]
  },
  {
   "cell_type": "code",
   "execution_count": 28,
   "id": "18dfb045",
   "metadata": {
    "execution": {
     "iopub.execute_input": "2023-03-06T10:14:43.078280Z",
     "iopub.status.busy": "2023-03-06T10:14:43.077786Z",
     "iopub.status.idle": "2023-03-06T10:14:54.762594Z",
     "shell.execute_reply": "2023-03-06T10:14:54.761829Z"
    }
   },
   "outputs": [
    {
     "name": "stdout",
     "output_type": "stream",
     "text": [
      "144 µs ± 298 ns per loop (mean ± std. dev. of 7 runs, 10,000 loops each)\n"
     ]
    }
   ],
   "source": [
    "%timeit Batch.cat(batches)"
   ]
  },
  {
   "cell_type": "code",
   "execution_count": 29,
   "id": "c6688e51",
   "metadata": {
    "execution": {
     "iopub.execute_input": "2023-03-06T10:14:54.765664Z",
     "iopub.status.busy": "2023-03-06T10:14:54.765312Z",
     "iopub.status.idle": "2023-03-06T10:14:57.279763Z",
     "shell.execute_reply": "2023-03-06T10:14:57.279095Z"
    }
   },
   "outputs": [
    {
     "name": "stdout",
     "output_type": "stream",
     "text": [
      "309 µs ± 526 ns per loop (mean ± std. dev. of 7 runs, 1,000 loops each)\n"
     ]
    }
   ],
   "source": [
    "batch = Batch({\n",
    "    'obs': torch.randn(8, 4, 84, 84),\n",
    "    'action': torch.randint(0, 6, size=(8, 1,)),\n",
    "    'reward': torch.rand(8, 1)}\n",
    ")\n",
    "\n",
    "%timeit list(Batch.split(batch, 1, shuffle=False, merge_last=True))"
   ]
  },
  {
   "cell_type": "code",
   "execution_count": null,
   "id": "2539fbd9",
   "metadata": {},
   "outputs": [],
   "source": []
  }
 ],
 "metadata": {
  "kernelspec": {
   "display_name": "Python 3 (ipykernel)",
   "language": "python",
   "name": "python3"
  },
  "language_info": {
   "codemirror_mode": {
    "name": "ipython",
    "version": 3
   },
   "file_extension": ".py",
   "mimetype": "text/x-python",
   "name": "python",
   "nbconvert_exporter": "python",
   "pygments_lexer": "ipython3",
   "version": "3.8.16"
  }
 },
 "nbformat": 4,
 "nbformat_minor": 5
}
