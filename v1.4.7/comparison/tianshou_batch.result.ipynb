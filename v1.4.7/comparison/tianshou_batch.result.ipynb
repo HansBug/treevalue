{
 "cells": [
  {
   "cell_type": "markdown",
   "id": "9d39d946",
   "metadata": {},
   "source": [
    "# Comparison Between TreeValue and Tianshou Batch"
   ]
  },
  {
   "cell_type": "markdown",
   "id": "3c6db2d4",
   "metadata": {},
   "source": [
    "In this section, we will take a look at the feature and performance of the [Tianshou Batch](https://github.com/thu-ml/tianshou) library, which is developed by Tsinghua Machine Learning Group."
   ]
  },
  {
   "cell_type": "markdown",
   "id": "069361b0",
   "metadata": {},
   "source": [
    "Before starting the comparison, let us define some thing."
   ]
  },
  {
   "cell_type": "code",
   "execution_count": 1,
   "id": "06fc8d26",
   "metadata": {
    "execution": {
     "iopub.execute_input": "2023-08-10T15:22:32.651360Z",
     "iopub.status.busy": "2023-08-10T15:22:32.651087Z",
     "iopub.status.idle": "2023-08-10T15:22:34.284595Z",
     "shell.execute_reply": "2023-08-10T15:22:34.283668Z"
    }
   },
   "outputs": [],
   "source": [
    "import torch \n",
    "\n",
    "_TREE_DATA_1 = {'a': 1, 'b': 2, 'x': {'c': 3, 'd': 4}}\n",
    "_TREE_DATA_2 = {\n",
    "    'a': torch.randn(2, 3), \n",
    "    'x': {\n",
    "        'c': torch.randn(3, 4)\n",
    "    },\n",
    "}\n",
    "_TREE_DATA_3 = {\n",
    "    'obs': torch.randn(4, 84, 84),\n",
    "    'action': torch.randint(0, 6, size=(1,)),\n",
    "    'reward': torch.rand(1),\n",
    "}"
   ]
  },
  {
   "cell_type": "markdown",
   "id": "83461b25",
   "metadata": {},
   "source": [
    "## Read and Write Operation"
   ]
  },
  {
   "cell_type": "markdown",
   "id": "067b3f73",
   "metadata": {},
   "source": [
    "Reading and writing are the two most common operations in the tree data structure based on the data model (TreeValue and Tianshou Batch both belong to this type), so this section will compare the reading and writing performance of these two libraries."
   ]
  },
  {
   "cell_type": "markdown",
   "id": "5d09a5b7",
   "metadata": {},
   "source": [
    "### TreeValue's Get and Set"
   ]
  },
  {
   "cell_type": "code",
   "execution_count": 2,
   "id": "9519c4bb",
   "metadata": {
    "execution": {
     "iopub.execute_input": "2023-08-10T15:22:34.289443Z",
     "iopub.status.busy": "2023-08-10T15:22:34.288879Z",
     "iopub.status.idle": "2023-08-10T15:22:34.671017Z",
     "shell.execute_reply": "2023-08-10T15:22:34.669587Z"
    }
   },
   "outputs": [],
   "source": [
    "from treevalue import FastTreeValue\n",
    "\n",
    "t = FastTreeValue(_TREE_DATA_2)"
   ]
  },
  {
   "cell_type": "code",
   "execution_count": 3,
   "id": "11c37677",
   "metadata": {
    "execution": {
     "iopub.execute_input": "2023-08-10T15:22:34.675892Z",
     "iopub.status.busy": "2023-08-10T15:22:34.675255Z",
     "iopub.status.idle": "2023-08-10T15:22:34.685855Z",
     "shell.execute_reply": "2023-08-10T15:22:34.684943Z"
    }
   },
   "outputs": [
    {
     "data": {
      "text/plain": [
       "<FastTreeValue 0x7fe0f1b12eb0>\n",
       "├── 'a' --> tensor([[ 1.5487,  0.1930,  0.9436],\n",
       "│                   [-1.6318,  2.1442, -0.5318]])\n",
       "└── 'x' --> <FastTreeValue 0x7fe0f1b12fa0>\n",
       "    └── 'c' --> tensor([[ 0.9625,  1.5090, -1.3196,  0.9571],\n",
       "                        [ 1.3964, -1.2707,  0.6654, -1.2286],\n",
       "                        [-0.5896, -0.0763,  0.2671,  1.0977]])"
      ]
     },
     "execution_count": 3,
     "metadata": {},
     "output_type": "execute_result"
    }
   ],
   "source": [
    "t"
   ]
  },
  {
   "cell_type": "code",
   "execution_count": 4,
   "id": "fd70b0b9",
   "metadata": {
    "execution": {
     "iopub.execute_input": "2023-08-10T15:22:34.690548Z",
     "iopub.status.busy": "2023-08-10T15:22:34.689832Z",
     "iopub.status.idle": "2023-08-10T15:22:34.696102Z",
     "shell.execute_reply": "2023-08-10T15:22:34.694968Z"
    }
   },
   "outputs": [
    {
     "data": {
      "text/plain": [
       "tensor([[ 1.5487,  0.1930,  0.9436],\n",
       "        [-1.6318,  2.1442, -0.5318]])"
      ]
     },
     "execution_count": 4,
     "metadata": {},
     "output_type": "execute_result"
    }
   ],
   "source": [
    "t.a"
   ]
  },
  {
   "cell_type": "code",
   "execution_count": 5,
   "id": "c18197bd",
   "metadata": {
    "execution": {
     "iopub.execute_input": "2023-08-10T15:22:34.700300Z",
     "iopub.status.busy": "2023-08-10T15:22:34.699750Z",
     "iopub.status.idle": "2023-08-10T15:22:41.602764Z",
     "shell.execute_reply": "2023-08-10T15:22:41.601854Z"
    }
   },
   "outputs": [
    {
     "name": "stdout",
     "output_type": "stream",
     "text": [
      "84.8 ns ± 0.309 ns per loop (mean ± std. dev. of 7 runs, 10,000,000 loops each)\n"
     ]
    }
   ],
   "source": [
    "%timeit t.a"
   ]
  },
  {
   "cell_type": "code",
   "execution_count": 6,
   "id": "bd52f867",
   "metadata": {
    "execution": {
     "iopub.execute_input": "2023-08-10T15:22:41.607241Z",
     "iopub.status.busy": "2023-08-10T15:22:41.606607Z",
     "iopub.status.idle": "2023-08-10T15:22:41.614487Z",
     "shell.execute_reply": "2023-08-10T15:22:41.613621Z"
    }
   },
   "outputs": [
    {
     "data": {
      "text/plain": [
       "<FastTreeValue 0x7fe0f1b12eb0>\n",
       "├── 'a' --> tensor([[ 0.4321, -1.6081,  0.7341],\n",
       "│                   [-0.8887,  0.5625,  0.9779]])\n",
       "└── 'x' --> <FastTreeValue 0x7fe0f1b12fa0>\n",
       "    └── 'c' --> tensor([[ 0.9625,  1.5090, -1.3196,  0.9571],\n",
       "                        [ 1.3964, -1.2707,  0.6654, -1.2286],\n",
       "                        [-0.5896, -0.0763,  0.2671,  1.0977]])"
      ]
     },
     "execution_count": 6,
     "metadata": {},
     "output_type": "execute_result"
    }
   ],
   "source": [
    "new_value = torch.randn(2, 3)\n",
    "t.a = new_value\n",
    "\n",
    "t"
   ]
  },
  {
   "cell_type": "code",
   "execution_count": 7,
   "id": "bbe04d1c",
   "metadata": {
    "execution": {
     "iopub.execute_input": "2023-08-10T15:22:41.618585Z",
     "iopub.status.busy": "2023-08-10T15:22:41.618283Z",
     "iopub.status.idle": "2023-08-10T15:22:49.046069Z",
     "shell.execute_reply": "2023-08-10T15:22:49.045267Z"
    }
   },
   "outputs": [
    {
     "name": "stdout",
     "output_type": "stream",
     "text": [
      "91.4 ns ± 0.0391 ns per loop (mean ± std. dev. of 7 runs, 10,000,000 loops each)\n"
     ]
    }
   ],
   "source": [
    "%timeit t.a = new_value"
   ]
  },
  {
   "cell_type": "markdown",
   "id": "48c49731",
   "metadata": {},
   "source": [
    "### Tianshou Batch's Get and Set"
   ]
  },
  {
   "cell_type": "code",
   "execution_count": 8,
   "id": "f1bb14c1",
   "metadata": {
    "execution": {
     "iopub.execute_input": "2023-08-10T15:22:49.050005Z",
     "iopub.status.busy": "2023-08-10T15:22:49.049420Z",
     "iopub.status.idle": "2023-08-10T15:22:49.498687Z",
     "shell.execute_reply": "2023-08-10T15:22:49.497817Z"
    }
   },
   "outputs": [],
   "source": [
    "from tianshou.data import Batch\n",
    "\n",
    "b = Batch(**_TREE_DATA_2)"
   ]
  },
  {
   "cell_type": "code",
   "execution_count": 9,
   "id": "cb0777c3",
   "metadata": {
    "execution": {
     "iopub.execute_input": "2023-08-10T15:22:49.503262Z",
     "iopub.status.busy": "2023-08-10T15:22:49.502600Z",
     "iopub.status.idle": "2023-08-10T15:22:49.509957Z",
     "shell.execute_reply": "2023-08-10T15:22:49.509086Z"
    }
   },
   "outputs": [
    {
     "data": {
      "text/plain": [
       "Batch(\n",
       "    a: tensor([[ 1.5487,  0.1930,  0.9436],\n",
       "               [-1.6318,  2.1442, -0.5318]]),\n",
       "    x: Batch(\n",
       "           c: tensor([[ 0.9625,  1.5090, -1.3196,  0.9571],\n",
       "                      [ 1.3964, -1.2707,  0.6654, -1.2286],\n",
       "                      [-0.5896, -0.0763,  0.2671,  1.0977]]),\n",
       "       ),\n",
       ")"
      ]
     },
     "execution_count": 9,
     "metadata": {},
     "output_type": "execute_result"
    }
   ],
   "source": [
    "b"
   ]
  },
  {
   "cell_type": "code",
   "execution_count": 10,
   "id": "43ef8ea3",
   "metadata": {
    "execution": {
     "iopub.execute_input": "2023-08-10T15:22:49.513985Z",
     "iopub.status.busy": "2023-08-10T15:22:49.513282Z",
     "iopub.status.idle": "2023-08-10T15:22:49.519363Z",
     "shell.execute_reply": "2023-08-10T15:22:49.518508Z"
    }
   },
   "outputs": [
    {
     "data": {
      "text/plain": [
       "tensor([[ 1.5487,  0.1930,  0.9436],\n",
       "        [-1.6318,  2.1442, -0.5318]])"
      ]
     },
     "execution_count": 10,
     "metadata": {},
     "output_type": "execute_result"
    }
   ],
   "source": [
    "b.a"
   ]
  },
  {
   "cell_type": "code",
   "execution_count": 11,
   "id": "b785ab72",
   "metadata": {
    "execution": {
     "iopub.execute_input": "2023-08-10T15:22:49.523525Z",
     "iopub.status.busy": "2023-08-10T15:22:49.522872Z",
     "iopub.status.idle": "2023-08-10T15:22:55.815416Z",
     "shell.execute_reply": "2023-08-10T15:22:55.814635Z"
    }
   },
   "outputs": [
    {
     "name": "stdout",
     "output_type": "stream",
     "text": [
      "77.5 ns ± 0.129 ns per loop (mean ± std. dev. of 7 runs, 10,000,000 loops each)\n"
     ]
    }
   ],
   "source": [
    "%timeit b.a"
   ]
  },
  {
   "cell_type": "code",
   "execution_count": 12,
   "id": "ad54dc69",
   "metadata": {
    "execution": {
     "iopub.execute_input": "2023-08-10T15:22:55.819401Z",
     "iopub.status.busy": "2023-08-10T15:22:55.818861Z",
     "iopub.status.idle": "2023-08-10T15:22:55.828593Z",
     "shell.execute_reply": "2023-08-10T15:22:55.827848Z"
    }
   },
   "outputs": [
    {
     "data": {
      "text/plain": [
       "Batch(\n",
       "    a: tensor([[ 0.1726, -0.1748,  0.6979],\n",
       "               [-0.4183, -2.4238,  1.0296]]),\n",
       "    x: Batch(\n",
       "           c: tensor([[ 0.9625,  1.5090, -1.3196,  0.9571],\n",
       "                      [ 1.3964, -1.2707,  0.6654, -1.2286],\n",
       "                      [-0.5896, -0.0763,  0.2671,  1.0977]]),\n",
       "       ),\n",
       ")"
      ]
     },
     "execution_count": 12,
     "metadata": {},
     "output_type": "execute_result"
    }
   ],
   "source": [
    "new_value = torch.randn(2, 3)\n",
    "b.a = new_value\n",
    "\n",
    "b"
   ]
  },
  {
   "cell_type": "code",
   "execution_count": 13,
   "id": "29b1d0bf",
   "metadata": {
    "execution": {
     "iopub.execute_input": "2023-08-10T15:22:55.832439Z",
     "iopub.status.busy": "2023-08-10T15:22:55.831834Z",
     "iopub.status.idle": "2023-08-10T15:23:01.191641Z",
     "shell.execute_reply": "2023-08-10T15:23:01.190758Z"
    }
   },
   "outputs": [
    {
     "name": "stdout",
     "output_type": "stream",
     "text": [
      "660 ns ± 0.311 ns per loop (mean ± std. dev. of 7 runs, 1,000,000 loops each)\n"
     ]
    }
   ],
   "source": [
    "%timeit b.a = new_value"
   ]
  },
  {
   "cell_type": "markdown",
   "id": "b61ad1d0",
   "metadata": {},
   "source": [
    "## Initialization"
   ]
  },
  {
   "cell_type": "markdown",
   "id": "d70f0d54",
   "metadata": {},
   "source": [
    "### TreeValue's Initialization"
   ]
  },
  {
   "cell_type": "code",
   "execution_count": 14,
   "id": "d32a679b",
   "metadata": {
    "execution": {
     "iopub.execute_input": "2023-08-10T15:23:01.196225Z",
     "iopub.status.busy": "2023-08-10T15:23:01.195391Z",
     "iopub.status.idle": "2023-08-10T15:23:09.857881Z",
     "shell.execute_reply": "2023-08-10T15:23:09.857087Z"
    }
   },
   "outputs": [
    {
     "name": "stdout",
     "output_type": "stream",
     "text": [
      "1.07 µs ± 1.05 ns per loop (mean ± std. dev. of 7 runs, 1,000,000 loops each)\n"
     ]
    }
   ],
   "source": [
    "%timeit FastTreeValue(_TREE_DATA_1)"
   ]
  },
  {
   "cell_type": "markdown",
   "id": "24f3707b",
   "metadata": {},
   "source": [
    "### Tianshou Batch's Initialization"
   ]
  },
  {
   "cell_type": "code",
   "execution_count": 15,
   "id": "ac3958df",
   "metadata": {
    "execution": {
     "iopub.execute_input": "2023-08-10T15:23:09.861815Z",
     "iopub.status.busy": "2023-08-10T15:23:09.861248Z",
     "iopub.status.idle": "2023-08-10T15:23:20.129280Z",
     "shell.execute_reply": "2023-08-10T15:23:20.128402Z"
    }
   },
   "outputs": [
    {
     "name": "stdout",
     "output_type": "stream",
     "text": [
      "12.7 µs ± 14.7 ns per loop (mean ± std. dev. of 7 runs, 100,000 loops each)\n"
     ]
    }
   ],
   "source": [
    "%timeit Batch(**_TREE_DATA_1)"
   ]
  },
  {
   "cell_type": "markdown",
   "id": "1ab82e2d",
   "metadata": {},
   "source": [
    "## Deep Copy Operation"
   ]
  },
  {
   "cell_type": "code",
   "execution_count": 16,
   "id": "210a9442",
   "metadata": {
    "execution": {
     "iopub.execute_input": "2023-08-10T15:23:20.133480Z",
     "iopub.status.busy": "2023-08-10T15:23:20.132890Z",
     "iopub.status.idle": "2023-08-10T15:23:20.136791Z",
     "shell.execute_reply": "2023-08-10T15:23:20.135914Z"
    }
   },
   "outputs": [],
   "source": [
    "import copy"
   ]
  },
  {
   "cell_type": "markdown",
   "id": "5a736274",
   "metadata": {},
   "source": [
    "### Deep Copy of TreeValue"
   ]
  },
  {
   "cell_type": "code",
   "execution_count": 17,
   "id": "f9bcadd6",
   "metadata": {
    "execution": {
     "iopub.execute_input": "2023-08-10T15:23:20.141178Z",
     "iopub.status.busy": "2023-08-10T15:23:20.140536Z",
     "iopub.status.idle": "2023-08-10T15:23:33.644523Z",
     "shell.execute_reply": "2023-08-10T15:23:33.643744Z"
    }
   },
   "outputs": [
    {
     "name": "stdout",
     "output_type": "stream",
     "text": [
      "166 µs ± 591 ns per loop (mean ± std. dev. of 7 runs, 10,000 loops each)\n"
     ]
    }
   ],
   "source": [
    "t3 = FastTreeValue(_TREE_DATA_3)\n",
    "%timeit copy.deepcopy(t3)"
   ]
  },
  {
   "cell_type": "markdown",
   "id": "bf8be7ea",
   "metadata": {},
   "source": [
    "### Deep Copy of Tianshou Batch"
   ]
  },
  {
   "cell_type": "code",
   "execution_count": 18,
   "id": "91998e6f",
   "metadata": {
    "execution": {
     "iopub.execute_input": "2023-08-10T15:23:33.648630Z",
     "iopub.status.busy": "2023-08-10T15:23:33.648134Z",
     "iopub.status.idle": "2023-08-10T15:23:47.272513Z",
     "shell.execute_reply": "2023-08-10T15:23:47.271548Z"
    }
   },
   "outputs": [
    {
     "name": "stdout",
     "output_type": "stream",
     "text": [
      "168 µs ± 1.01 µs per loop (mean ± std. dev. of 7 runs, 10,000 loops each)\n"
     ]
    }
   ],
   "source": [
    "b3 = Batch(**_TREE_DATA_3)\n",
    "%timeit copy.deepcopy(b3)"
   ]
  },
  {
   "cell_type": "markdown",
   "id": "223162fb",
   "metadata": {},
   "source": [
    "## Stack, Concat and Split Operation"
   ]
  },
  {
   "cell_type": "markdown",
   "id": "85fa4a73",
   "metadata": {},
   "source": [
    "### Performance of TreeValue"
   ]
  },
  {
   "cell_type": "code",
   "execution_count": 19,
   "id": "a0c2b697",
   "metadata": {
    "execution": {
     "iopub.execute_input": "2023-08-10T15:23:47.276984Z",
     "iopub.status.busy": "2023-08-10T15:23:47.276272Z",
     "iopub.status.idle": "2023-08-10T15:23:47.280658Z",
     "shell.execute_reply": "2023-08-10T15:23:47.279827Z"
    }
   },
   "outputs": [],
   "source": [
    "trees = [FastTreeValue(_TREE_DATA_2) for _ in range(8)]"
   ]
  },
  {
   "cell_type": "code",
   "execution_count": 20,
   "id": "017ea5a5",
   "metadata": {
    "execution": {
     "iopub.execute_input": "2023-08-10T15:23:47.284533Z",
     "iopub.status.busy": "2023-08-10T15:23:47.283808Z",
     "iopub.status.idle": "2023-08-10T15:23:47.292394Z",
     "shell.execute_reply": "2023-08-10T15:23:47.291712Z"
    }
   },
   "outputs": [
    {
     "data": {
      "text/plain": [
       "<FastTreeValue 0x7fe0172e7940>\n",
       "├── 'a' --> tensor([[[ 1.5487,  0.1930,  0.9436],\n",
       "│                    [-1.6318,  2.1442, -0.5318]],\n",
       "│           \n",
       "│                   [[ 1.5487,  0.1930,  0.9436],\n",
       "│                    [-1.6318,  2.1442, -0.5318]],\n",
       "│           \n",
       "│                   [[ 1.5487,  0.1930,  0.9436],\n",
       "│                    [-1.6318,  2.1442, -0.5318]],\n",
       "│           \n",
       "│                   [[ 1.5487,  0.1930,  0.9436],\n",
       "│                    [-1.6318,  2.1442, -0.5318]],\n",
       "│           \n",
       "│                   [[ 1.5487,  0.1930,  0.9436],\n",
       "│                    [-1.6318,  2.1442, -0.5318]],\n",
       "│           \n",
       "│                   [[ 1.5487,  0.1930,  0.9436],\n",
       "│                    [-1.6318,  2.1442, -0.5318]],\n",
       "│           \n",
       "│                   [[ 1.5487,  0.1930,  0.9436],\n",
       "│                    [-1.6318,  2.1442, -0.5318]],\n",
       "│           \n",
       "│                   [[ 1.5487,  0.1930,  0.9436],\n",
       "│                    [-1.6318,  2.1442, -0.5318]]])\n",
       "└── 'x' --> <FastTreeValue 0x7fe0172e7a00>\n",
       "    └── 'c' --> tensor([[[ 0.9625,  1.5090, -1.3196,  0.9571],\n",
       "                         [ 1.3964, -1.2707,  0.6654, -1.2286],\n",
       "                         [-0.5896, -0.0763,  0.2671,  1.0977]],\n",
       "                \n",
       "                        [[ 0.9625,  1.5090, -1.3196,  0.9571],\n",
       "                         [ 1.3964, -1.2707,  0.6654, -1.2286],\n",
       "                         [-0.5896, -0.0763,  0.2671,  1.0977]],\n",
       "                \n",
       "                        [[ 0.9625,  1.5090, -1.3196,  0.9571],\n",
       "                         [ 1.3964, -1.2707,  0.6654, -1.2286],\n",
       "                         [-0.5896, -0.0763,  0.2671,  1.0977]],\n",
       "                \n",
       "                        [[ 0.9625,  1.5090, -1.3196,  0.9571],\n",
       "                         [ 1.3964, -1.2707,  0.6654, -1.2286],\n",
       "                         [-0.5896, -0.0763,  0.2671,  1.0977]],\n",
       "                \n",
       "                        [[ 0.9625,  1.5090, -1.3196,  0.9571],\n",
       "                         [ 1.3964, -1.2707,  0.6654, -1.2286],\n",
       "                         [-0.5896, -0.0763,  0.2671,  1.0977]],\n",
       "                \n",
       "                        [[ 0.9625,  1.5090, -1.3196,  0.9571],\n",
       "                         [ 1.3964, -1.2707,  0.6654, -1.2286],\n",
       "                         [-0.5896, -0.0763,  0.2671,  1.0977]],\n",
       "                \n",
       "                        [[ 0.9625,  1.5090, -1.3196,  0.9571],\n",
       "                         [ 1.3964, -1.2707,  0.6654, -1.2286],\n",
       "                         [-0.5896, -0.0763,  0.2671,  1.0977]],\n",
       "                \n",
       "                        [[ 0.9625,  1.5090, -1.3196,  0.9571],\n",
       "                         [ 1.3964, -1.2707,  0.6654, -1.2286],\n",
       "                         [-0.5896, -0.0763,  0.2671,  1.0977]]])"
      ]
     },
     "execution_count": 20,
     "metadata": {},
     "output_type": "execute_result"
    }
   ],
   "source": [
    "t_stack = FastTreeValue.func(subside=True)(torch.stack)\n",
    "\n",
    "t_stack(trees)"
   ]
  },
  {
   "cell_type": "code",
   "execution_count": 21,
   "id": "f8b3f415",
   "metadata": {
    "execution": {
     "iopub.execute_input": "2023-08-10T15:23:47.295743Z",
     "iopub.status.busy": "2023-08-10T15:23:47.295222Z",
     "iopub.status.idle": "2023-08-10T15:23:50.384517Z",
     "shell.execute_reply": "2023-08-10T15:23:50.383735Z"
    }
   },
   "outputs": [
    {
     "name": "stdout",
     "output_type": "stream",
     "text": [
      "38 µs ± 178 ns per loop (mean ± std. dev. of 7 runs, 10,000 loops each)\n"
     ]
    }
   ],
   "source": [
    "%timeit t_stack(trees)"
   ]
  },
  {
   "cell_type": "code",
   "execution_count": 22,
   "id": "94b56771",
   "metadata": {
    "execution": {
     "iopub.execute_input": "2023-08-10T15:23:50.388452Z",
     "iopub.status.busy": "2023-08-10T15:23:50.387726Z",
     "iopub.status.idle": "2023-08-10T15:23:50.396872Z",
     "shell.execute_reply": "2023-08-10T15:23:50.396067Z"
    }
   },
   "outputs": [
    {
     "data": {
      "text/plain": [
       "<FastTreeValue 0x7fe0eca19520>\n",
       "├── 'a' --> tensor([[ 1.5487,  0.1930,  0.9436],\n",
       "│                   [-1.6318,  2.1442, -0.5318],\n",
       "│                   [ 1.5487,  0.1930,  0.9436],\n",
       "│                   [-1.6318,  2.1442, -0.5318],\n",
       "│                   [ 1.5487,  0.1930,  0.9436],\n",
       "│                   [-1.6318,  2.1442, -0.5318],\n",
       "│                   [ 1.5487,  0.1930,  0.9436],\n",
       "│                   [-1.6318,  2.1442, -0.5318],\n",
       "│                   [ 1.5487,  0.1930,  0.9436],\n",
       "│                   [-1.6318,  2.1442, -0.5318],\n",
       "│                   [ 1.5487,  0.1930,  0.9436],\n",
       "│                   [-1.6318,  2.1442, -0.5318],\n",
       "│                   [ 1.5487,  0.1930,  0.9436],\n",
       "│                   [-1.6318,  2.1442, -0.5318],\n",
       "│                   [ 1.5487,  0.1930,  0.9436],\n",
       "│                   [-1.6318,  2.1442, -0.5318]])\n",
       "└── 'x' --> <FastTreeValue 0x7fe0eca19070>\n",
       "    └── 'c' --> tensor([[ 0.9625,  1.5090, -1.3196,  0.9571],\n",
       "                        [ 1.3964, -1.2707,  0.6654, -1.2286],\n",
       "                        [-0.5896, -0.0763,  0.2671,  1.0977],\n",
       "                        [ 0.9625,  1.5090, -1.3196,  0.9571],\n",
       "                        [ 1.3964, -1.2707,  0.6654, -1.2286],\n",
       "                        [-0.5896, -0.0763,  0.2671,  1.0977],\n",
       "                        [ 0.9625,  1.5090, -1.3196,  0.9571],\n",
       "                        [ 1.3964, -1.2707,  0.6654, -1.2286],\n",
       "                        [-0.5896, -0.0763,  0.2671,  1.0977],\n",
       "                        [ 0.9625,  1.5090, -1.3196,  0.9571],\n",
       "                        [ 1.3964, -1.2707,  0.6654, -1.2286],\n",
       "                        [-0.5896, -0.0763,  0.2671,  1.0977],\n",
       "                        [ 0.9625,  1.5090, -1.3196,  0.9571],\n",
       "                        [ 1.3964, -1.2707,  0.6654, -1.2286],\n",
       "                        [-0.5896, -0.0763,  0.2671,  1.0977],\n",
       "                        [ 0.9625,  1.5090, -1.3196,  0.9571],\n",
       "                        [ 1.3964, -1.2707,  0.6654, -1.2286],\n",
       "                        [-0.5896, -0.0763,  0.2671,  1.0977],\n",
       "                        [ 0.9625,  1.5090, -1.3196,  0.9571],\n",
       "                        [ 1.3964, -1.2707,  0.6654, -1.2286],\n",
       "                        [-0.5896, -0.0763,  0.2671,  1.0977],\n",
       "                        [ 0.9625,  1.5090, -1.3196,  0.9571],\n",
       "                        [ 1.3964, -1.2707,  0.6654, -1.2286],\n",
       "                        [-0.5896, -0.0763,  0.2671,  1.0977]])"
      ]
     },
     "execution_count": 22,
     "metadata": {},
     "output_type": "execute_result"
    }
   ],
   "source": [
    "t_cat = FastTreeValue.func(subside=True)(torch.cat)\n",
    "\n",
    "t_cat(trees)"
   ]
  },
  {
   "cell_type": "code",
   "execution_count": 23,
   "id": "5e9c06a6",
   "metadata": {
    "execution": {
     "iopub.execute_input": "2023-08-10T15:23:50.400611Z",
     "iopub.status.busy": "2023-08-10T15:23:50.400113Z",
     "iopub.status.idle": "2023-08-10T15:23:53.314702Z",
     "shell.execute_reply": "2023-08-10T15:23:53.312877Z"
    }
   },
   "outputs": [
    {
     "name": "stdout",
     "output_type": "stream",
     "text": [
      "35.8 µs ± 63.2 ns per loop (mean ± std. dev. of 7 runs, 10,000 loops each)\n"
     ]
    }
   ],
   "source": [
    "%timeit t_cat(trees)"
   ]
  },
  {
   "cell_type": "code",
   "execution_count": 24,
   "id": "a3ab5c8f",
   "metadata": {
    "execution": {
     "iopub.execute_input": "2023-08-10T15:23:53.319260Z",
     "iopub.status.busy": "2023-08-10T15:23:53.318559Z",
     "iopub.status.idle": "2023-08-10T15:23:59.635002Z",
     "shell.execute_reply": "2023-08-10T15:23:59.634223Z"
    }
   },
   "outputs": [
    {
     "name": "stdout",
     "output_type": "stream",
     "text": [
      "77.7 µs ± 192 ns per loop (mean ± std. dev. of 7 runs, 10,000 loops each)\n"
     ]
    }
   ],
   "source": [
    "t_split = FastTreeValue.func(rise=True)(torch.split)\n",
    "tree = FastTreeValue({\n",
    "    'obs': torch.randn(8, 4, 84, 84),\n",
    "    'action': torch.randint(0, 6, size=(8, 1,)),\n",
    "    'reward': torch.rand(8, 1),\n",
    "})\n",
    "\n",
    "%timeit t_split(tree, 1)"
   ]
  },
  {
   "cell_type": "markdown",
   "id": "31c3ec0b",
   "metadata": {},
   "source": [
    "### Performance of Tianshou Batch"
   ]
  },
  {
   "cell_type": "code",
   "execution_count": 25,
   "id": "9ead828a",
   "metadata": {
    "execution": {
     "iopub.execute_input": "2023-08-10T15:23:59.639211Z",
     "iopub.status.busy": "2023-08-10T15:23:59.638408Z",
     "iopub.status.idle": "2023-08-10T15:23:59.647721Z",
     "shell.execute_reply": "2023-08-10T15:23:59.646892Z"
    }
   },
   "outputs": [
    {
     "data": {
      "text/plain": [
       "Batch(\n",
       "    x: Batch(\n",
       "           c: tensor([[[ 0.9625,  1.5090, -1.3196,  0.9571],\n",
       "                       [ 1.3964, -1.2707,  0.6654, -1.2286],\n",
       "                       [-0.5896, -0.0763,  0.2671,  1.0977]],\n",
       "              \n",
       "                      [[ 0.9625,  1.5090, -1.3196,  0.9571],\n",
       "                       [ 1.3964, -1.2707,  0.6654, -1.2286],\n",
       "                       [-0.5896, -0.0763,  0.2671,  1.0977]],\n",
       "              \n",
       "                      [[ 0.9625,  1.5090, -1.3196,  0.9571],\n",
       "                       [ 1.3964, -1.2707,  0.6654, -1.2286],\n",
       "                       [-0.5896, -0.0763,  0.2671,  1.0977]],\n",
       "              \n",
       "                      [[ 0.9625,  1.5090, -1.3196,  0.9571],\n",
       "                       [ 1.3964, -1.2707,  0.6654, -1.2286],\n",
       "                       [-0.5896, -0.0763,  0.2671,  1.0977]],\n",
       "              \n",
       "                      [[ 0.9625,  1.5090, -1.3196,  0.9571],\n",
       "                       [ 1.3964, -1.2707,  0.6654, -1.2286],\n",
       "                       [-0.5896, -0.0763,  0.2671,  1.0977]],\n",
       "              \n",
       "                      [[ 0.9625,  1.5090, -1.3196,  0.9571],\n",
       "                       [ 1.3964, -1.2707,  0.6654, -1.2286],\n",
       "                       [-0.5896, -0.0763,  0.2671,  1.0977]],\n",
       "              \n",
       "                      [[ 0.9625,  1.5090, -1.3196,  0.9571],\n",
       "                       [ 1.3964, -1.2707,  0.6654, -1.2286],\n",
       "                       [-0.5896, -0.0763,  0.2671,  1.0977]],\n",
       "              \n",
       "                      [[ 0.9625,  1.5090, -1.3196,  0.9571],\n",
       "                       [ 1.3964, -1.2707,  0.6654, -1.2286],\n",
       "                       [-0.5896, -0.0763,  0.2671,  1.0977]]]),\n",
       "       ),\n",
       "    a: tensor([[[ 1.5487,  0.1930,  0.9436],\n",
       "                [-1.6318,  2.1442, -0.5318]],\n",
       "       \n",
       "               [[ 1.5487,  0.1930,  0.9436],\n",
       "                [-1.6318,  2.1442, -0.5318]],\n",
       "       \n",
       "               [[ 1.5487,  0.1930,  0.9436],\n",
       "                [-1.6318,  2.1442, -0.5318]],\n",
       "       \n",
       "               [[ 1.5487,  0.1930,  0.9436],\n",
       "                [-1.6318,  2.1442, -0.5318]],\n",
       "       \n",
       "               [[ 1.5487,  0.1930,  0.9436],\n",
       "                [-1.6318,  2.1442, -0.5318]],\n",
       "       \n",
       "               [[ 1.5487,  0.1930,  0.9436],\n",
       "                [-1.6318,  2.1442, -0.5318]],\n",
       "       \n",
       "               [[ 1.5487,  0.1930,  0.9436],\n",
       "                [-1.6318,  2.1442, -0.5318]],\n",
       "       \n",
       "               [[ 1.5487,  0.1930,  0.9436],\n",
       "                [-1.6318,  2.1442, -0.5318]]]),\n",
       ")"
      ]
     },
     "execution_count": 25,
     "metadata": {},
     "output_type": "execute_result"
    }
   ],
   "source": [
    "batches = [Batch(**_TREE_DATA_2) for _ in range(8)]\n",
    "\n",
    "Batch.stack(batches)"
   ]
  },
  {
   "cell_type": "code",
   "execution_count": 26,
   "id": "ec9037a3",
   "metadata": {
    "execution": {
     "iopub.execute_input": "2023-08-10T15:23:59.651593Z",
     "iopub.status.busy": "2023-08-10T15:23:59.650969Z",
     "iopub.status.idle": "2023-08-10T15:24:07.612607Z",
     "shell.execute_reply": "2023-08-10T15:24:07.611762Z"
    }
   },
   "outputs": [
    {
     "name": "stdout",
     "output_type": "stream",
     "text": [
      "98 µs ± 607 ns per loop (mean ± std. dev. of 7 runs, 10,000 loops each)\n"
     ]
    }
   ],
   "source": [
    "%timeit Batch.stack(batches)"
   ]
  },
  {
   "cell_type": "code",
   "execution_count": 27,
   "id": "cb8ab77e",
   "metadata": {
    "execution": {
     "iopub.execute_input": "2023-08-10T15:24:07.617873Z",
     "iopub.status.busy": "2023-08-10T15:24:07.617129Z",
     "iopub.status.idle": "2023-08-10T15:24:07.626192Z",
     "shell.execute_reply": "2023-08-10T15:24:07.625372Z"
    }
   },
   "outputs": [
    {
     "data": {
      "text/plain": [
       "Batch(\n",
       "    x: Batch(\n",
       "           c: tensor([[ 0.9625,  1.5090, -1.3196,  0.9571],\n",
       "                      [ 1.3964, -1.2707,  0.6654, -1.2286],\n",
       "                      [-0.5896, -0.0763,  0.2671,  1.0977],\n",
       "                      [ 0.9625,  1.5090, -1.3196,  0.9571],\n",
       "                      [ 1.3964, -1.2707,  0.6654, -1.2286],\n",
       "                      [-0.5896, -0.0763,  0.2671,  1.0977],\n",
       "                      [ 0.9625,  1.5090, -1.3196,  0.9571],\n",
       "                      [ 1.3964, -1.2707,  0.6654, -1.2286],\n",
       "                      [-0.5896, -0.0763,  0.2671,  1.0977],\n",
       "                      [ 0.9625,  1.5090, -1.3196,  0.9571],\n",
       "                      [ 1.3964, -1.2707,  0.6654, -1.2286],\n",
       "                      [-0.5896, -0.0763,  0.2671,  1.0977],\n",
       "                      [ 0.9625,  1.5090, -1.3196,  0.9571],\n",
       "                      [ 1.3964, -1.2707,  0.6654, -1.2286],\n",
       "                      [-0.5896, -0.0763,  0.2671,  1.0977],\n",
       "                      [ 0.9625,  1.5090, -1.3196,  0.9571],\n",
       "                      [ 1.3964, -1.2707,  0.6654, -1.2286],\n",
       "                      [-0.5896, -0.0763,  0.2671,  1.0977],\n",
       "                      [ 0.9625,  1.5090, -1.3196,  0.9571],\n",
       "                      [ 1.3964, -1.2707,  0.6654, -1.2286],\n",
       "                      [-0.5896, -0.0763,  0.2671,  1.0977],\n",
       "                      [ 0.9625,  1.5090, -1.3196,  0.9571],\n",
       "                      [ 1.3964, -1.2707,  0.6654, -1.2286],\n",
       "                      [-0.5896, -0.0763,  0.2671,  1.0977]]),\n",
       "       ),\n",
       "    a: tensor([[ 1.5487,  0.1930,  0.9436],\n",
       "               [-1.6318,  2.1442, -0.5318],\n",
       "               [ 1.5487,  0.1930,  0.9436],\n",
       "               [-1.6318,  2.1442, -0.5318],\n",
       "               [ 1.5487,  0.1930,  0.9436],\n",
       "               [-1.6318,  2.1442, -0.5318],\n",
       "               [ 1.5487,  0.1930,  0.9436],\n",
       "               [-1.6318,  2.1442, -0.5318],\n",
       "               [ 1.5487,  0.1930,  0.9436],\n",
       "               [-1.6318,  2.1442, -0.5318],\n",
       "               [ 1.5487,  0.1930,  0.9436],\n",
       "               [-1.6318,  2.1442, -0.5318],\n",
       "               [ 1.5487,  0.1930,  0.9436],\n",
       "               [-1.6318,  2.1442, -0.5318],\n",
       "               [ 1.5487,  0.1930,  0.9436],\n",
       "               [-1.6318,  2.1442, -0.5318]]),\n",
       ")"
      ]
     },
     "execution_count": 27,
     "metadata": {},
     "output_type": "execute_result"
    }
   ],
   "source": [
    "Batch.cat(batches)"
   ]
  },
  {
   "cell_type": "code",
   "execution_count": 28,
   "id": "18dfb045",
   "metadata": {
    "execution": {
     "iopub.execute_input": "2023-08-10T15:24:07.629848Z",
     "iopub.status.busy": "2023-08-10T15:24:07.629569Z",
     "iopub.status.idle": "2023-08-10T15:24:22.315104Z",
     "shell.execute_reply": "2023-08-10T15:24:22.314326Z"
    }
   },
   "outputs": [
    {
     "name": "stdout",
     "output_type": "stream",
     "text": [
      "181 µs ± 433 ns per loop (mean ± std. dev. of 7 runs, 10,000 loops each)\n"
     ]
    }
   ],
   "source": [
    "%timeit Batch.cat(batches)"
   ]
  },
  {
   "cell_type": "code",
   "execution_count": 29,
   "id": "c6688e51",
   "metadata": {
    "execution": {
     "iopub.execute_input": "2023-08-10T15:24:22.320175Z",
     "iopub.status.busy": "2023-08-10T15:24:22.319678Z",
     "iopub.status.idle": "2023-08-10T15:24:25.640551Z",
     "shell.execute_reply": "2023-08-10T15:24:25.639588Z"
    }
   },
   "outputs": [
    {
     "name": "stdout",
     "output_type": "stream",
     "text": [
      "406 µs ± 6.08 µs per loop (mean ± std. dev. of 7 runs, 1,000 loops each)\n"
     ]
    }
   ],
   "source": [
    "batch = Batch({\n",
    "    'obs': torch.randn(8, 4, 84, 84),\n",
    "    'action': torch.randint(0, 6, size=(8, 1,)),\n",
    "    'reward': torch.rand(8, 1)}\n",
    ")\n",
    "\n",
    "%timeit list(Batch.split(batch, 1, shuffle=False, merge_last=True))"
   ]
  },
  {
   "cell_type": "code",
   "execution_count": null,
   "id": "2539fbd9",
   "metadata": {},
   "outputs": [],
   "source": []
  }
 ],
 "metadata": {
  "kernelspec": {
   "display_name": "Python 3 (ipykernel)",
   "language": "python",
   "name": "python3"
  },
  "language_info": {
   "codemirror_mode": {
    "name": "ipython",
    "version": 3
   },
   "file_extension": ".py",
   "mimetype": "text/x-python",
   "name": "python",
   "nbconvert_exporter": "python",
   "pygments_lexer": "ipython3",
   "version": "3.8.17"
  }
 },
 "nbformat": 4,
 "nbformat_minor": 5
}
