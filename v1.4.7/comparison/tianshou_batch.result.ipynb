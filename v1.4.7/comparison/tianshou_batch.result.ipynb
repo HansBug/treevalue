{
 "cells": [
  {
   "cell_type": "markdown",
   "id": "9d39d946",
   "metadata": {},
   "source": [
    "# Comparison Between TreeValue and Tianshou Batch"
   ]
  },
  {
   "cell_type": "markdown",
   "id": "3c6db2d4",
   "metadata": {},
   "source": [
    "In this section, we will take a look at the feature and performance of the [Tianshou Batch](https://github.com/thu-ml/tianshou) library, which is developed by Tsinghua Machine Learning Group."
   ]
  },
  {
   "cell_type": "markdown",
   "id": "069361b0",
   "metadata": {},
   "source": [
    "Before starting the comparison, let us define some thing."
   ]
  },
  {
   "cell_type": "code",
   "execution_count": 1,
   "id": "06fc8d26",
   "metadata": {
    "execution": {
     "iopub.execute_input": "2023-02-27T12:34:18.089586Z",
     "iopub.status.busy": "2023-02-27T12:34:18.089219Z",
     "iopub.status.idle": "2023-02-27T12:34:19.330456Z",
     "shell.execute_reply": "2023-02-27T12:34:19.329399Z"
    }
   },
   "outputs": [
    {
     "name": "stderr",
     "output_type": "stream",
     "text": [
      "/opt/hostedtoolcache/Python/3.8.16/x64/lib/python3.8/site-packages/tqdm/auto.py:22: TqdmWarning: IProgress not found. Please update jupyter and ipywidgets. See https://ipywidgets.readthedocs.io/en/stable/user_install.html\n",
      "  from .autonotebook import tqdm as notebook_tqdm\n"
     ]
    }
   ],
   "source": [
    "import torch \n",
    "\n",
    "_TREE_DATA_1 = {'a': 1, 'b': 2, 'x': {'c': 3, 'd': 4}}\n",
    "_TREE_DATA_2 = {\n",
    "    'a': torch.randn(2, 3), \n",
    "    'x': {\n",
    "        'c': torch.randn(3, 4)\n",
    "    },\n",
    "}\n",
    "_TREE_DATA_3 = {\n",
    "    'obs': torch.randn(4, 84, 84),\n",
    "    'action': torch.randint(0, 6, size=(1,)),\n",
    "    'reward': torch.rand(1),\n",
    "}"
   ]
  },
  {
   "cell_type": "markdown",
   "id": "83461b25",
   "metadata": {},
   "source": [
    "## Read and Write Operation"
   ]
  },
  {
   "cell_type": "markdown",
   "id": "067b3f73",
   "metadata": {},
   "source": [
    "Reading and writing are the two most common operations in the tree data structure based on the data model (TreeValue and Tianshou Batch both belong to this type), so this section will compare the reading and writing performance of these two libraries."
   ]
  },
  {
   "cell_type": "markdown",
   "id": "5d09a5b7",
   "metadata": {},
   "source": [
    "### TreeValue's Get and Set"
   ]
  },
  {
   "cell_type": "code",
   "execution_count": 2,
   "id": "9519c4bb",
   "metadata": {
    "execution": {
     "iopub.execute_input": "2023-02-27T12:34:19.335448Z",
     "iopub.status.busy": "2023-02-27T12:34:19.334519Z",
     "iopub.status.idle": "2023-02-27T12:34:19.727199Z",
     "shell.execute_reply": "2023-02-27T12:34:19.726177Z"
    }
   },
   "outputs": [],
   "source": [
    "from treevalue import FastTreeValue\n",
    "\n",
    "t = FastTreeValue(_TREE_DATA_2)"
   ]
  },
  {
   "cell_type": "code",
   "execution_count": 3,
   "id": "11c37677",
   "metadata": {
    "execution": {
     "iopub.execute_input": "2023-02-27T12:34:19.731491Z",
     "iopub.status.busy": "2023-02-27T12:34:19.731040Z",
     "iopub.status.idle": "2023-02-27T12:34:19.743756Z",
     "shell.execute_reply": "2023-02-27T12:34:19.742805Z"
    }
   },
   "outputs": [
    {
     "data": {
      "text/plain": [
       "<FastTreeValue 0x7f92ec699b20>\n",
       "├── 'a' --> tensor([[-0.1524, -2.3242,  0.4819],\n",
       "│                   [-0.0212,  0.6493, -0.4717]])\n",
       "└── 'x' --> <FastTreeValue 0x7f92ec699a00>\n",
       "    └── 'c' --> tensor([[ 0.2235,  2.0399, -1.6537,  0.1490],\n",
       "                        [ 1.7428, -0.5446, -2.2239,  1.1660],\n",
       "                        [ 1.3051,  0.7493,  1.9194,  1.2377]])"
      ]
     },
     "execution_count": 3,
     "metadata": {},
     "output_type": "execute_result"
    }
   ],
   "source": [
    "t"
   ]
  },
  {
   "cell_type": "code",
   "execution_count": 4,
   "id": "fd70b0b9",
   "metadata": {
    "execution": {
     "iopub.execute_input": "2023-02-27T12:34:19.747341Z",
     "iopub.status.busy": "2023-02-27T12:34:19.746967Z",
     "iopub.status.idle": "2023-02-27T12:34:19.755110Z",
     "shell.execute_reply": "2023-02-27T12:34:19.754159Z"
    }
   },
   "outputs": [
    {
     "data": {
      "text/plain": [
       "tensor([[-0.1524, -2.3242,  0.4819],\n",
       "        [-0.0212,  0.6493, -0.4717]])"
      ]
     },
     "execution_count": 4,
     "metadata": {},
     "output_type": "execute_result"
    }
   ],
   "source": [
    "t.a"
   ]
  },
  {
   "cell_type": "code",
   "execution_count": 5,
   "id": "c18197bd",
   "metadata": {
    "execution": {
     "iopub.execute_input": "2023-02-27T12:34:19.758739Z",
     "iopub.status.busy": "2023-02-27T12:34:19.758024Z",
     "iopub.status.idle": "2023-02-27T12:34:25.542915Z",
     "shell.execute_reply": "2023-02-27T12:34:25.541961Z"
    }
   },
   "outputs": [
    {
     "name": "stdout",
     "output_type": "stream",
     "text": [
      "71.3 ns ± 0.972 ns per loop (mean ± std. dev. of 7 runs, 10,000,000 loops each)\n"
     ]
    }
   ],
   "source": [
    "%timeit t.a"
   ]
  },
  {
   "cell_type": "code",
   "execution_count": 6,
   "id": "bd52f867",
   "metadata": {
    "execution": {
     "iopub.execute_input": "2023-02-27T12:34:25.546456Z",
     "iopub.status.busy": "2023-02-27T12:34:25.546041Z",
     "iopub.status.idle": "2023-02-27T12:34:25.555062Z",
     "shell.execute_reply": "2023-02-27T12:34:25.554071Z"
    }
   },
   "outputs": [
    {
     "data": {
      "text/plain": [
       "<FastTreeValue 0x7f92ec699b20>\n",
       "├── 'a' --> tensor([[ 0.3013,  1.3969, -1.0710],\n",
       "│                   [ 0.6843, -1.1032,  2.7671]])\n",
       "└── 'x' --> <FastTreeValue 0x7f92ec699a00>\n",
       "    └── 'c' --> tensor([[ 0.2235,  2.0399, -1.6537,  0.1490],\n",
       "                        [ 1.7428, -0.5446, -2.2239,  1.1660],\n",
       "                        [ 1.3051,  0.7493,  1.9194,  1.2377]])"
      ]
     },
     "execution_count": 6,
     "metadata": {},
     "output_type": "execute_result"
    }
   ],
   "source": [
    "new_value = torch.randn(2, 3)\n",
    "t.a = new_value\n",
    "\n",
    "t"
   ]
  },
  {
   "cell_type": "code",
   "execution_count": 7,
   "id": "bbe04d1c",
   "metadata": {
    "execution": {
     "iopub.execute_input": "2023-02-27T12:34:25.560252Z",
     "iopub.status.busy": "2023-02-27T12:34:25.559898Z",
     "iopub.status.idle": "2023-02-27T12:34:31.475019Z",
     "shell.execute_reply": "2023-02-27T12:34:31.474008Z"
    }
   },
   "outputs": [
    {
     "name": "stdout",
     "output_type": "stream",
     "text": [
      "72.7 ns ± 0.634 ns per loop (mean ± std. dev. of 7 runs, 10,000,000 loops each)\n"
     ]
    }
   ],
   "source": [
    "%timeit t.a = new_value"
   ]
  },
  {
   "cell_type": "markdown",
   "id": "48c49731",
   "metadata": {},
   "source": [
    "### Tianshou Batch's Get and Set"
   ]
  },
  {
   "cell_type": "code",
   "execution_count": 8,
   "id": "f1bb14c1",
   "metadata": {
    "execution": {
     "iopub.execute_input": "2023-02-27T12:34:31.479635Z",
     "iopub.status.busy": "2023-02-27T12:34:31.479012Z",
     "iopub.status.idle": "2023-02-27T12:34:31.946680Z",
     "shell.execute_reply": "2023-02-27T12:34:31.945633Z"
    }
   },
   "outputs": [],
   "source": [
    "from tianshou.data import Batch\n",
    "\n",
    "b = Batch(**_TREE_DATA_2)"
   ]
  },
  {
   "cell_type": "code",
   "execution_count": 9,
   "id": "cb0777c3",
   "metadata": {
    "execution": {
     "iopub.execute_input": "2023-02-27T12:34:31.950944Z",
     "iopub.status.busy": "2023-02-27T12:34:31.950464Z",
     "iopub.status.idle": "2023-02-27T12:34:31.959227Z",
     "shell.execute_reply": "2023-02-27T12:34:31.957882Z"
    }
   },
   "outputs": [
    {
     "data": {
      "text/plain": [
       "Batch(\n",
       "    a: tensor([[-0.1524, -2.3242,  0.4819],\n",
       "               [-0.0212,  0.6493, -0.4717]]),\n",
       "    x: Batch(\n",
       "           c: tensor([[ 0.2235,  2.0399, -1.6537,  0.1490],\n",
       "                      [ 1.7428, -0.5446, -2.2239,  1.1660],\n",
       "                      [ 1.3051,  0.7493,  1.9194,  1.2377]]),\n",
       "       ),\n",
       ")"
      ]
     },
     "execution_count": 9,
     "metadata": {},
     "output_type": "execute_result"
    }
   ],
   "source": [
    "b"
   ]
  },
  {
   "cell_type": "code",
   "execution_count": 10,
   "id": "43ef8ea3",
   "metadata": {
    "execution": {
     "iopub.execute_input": "2023-02-27T12:34:31.963154Z",
     "iopub.status.busy": "2023-02-27T12:34:31.962574Z",
     "iopub.status.idle": "2023-02-27T12:34:31.969109Z",
     "shell.execute_reply": "2023-02-27T12:34:31.968049Z"
    }
   },
   "outputs": [
    {
     "data": {
      "text/plain": [
       "tensor([[-0.1524, -2.3242,  0.4819],\n",
       "        [-0.0212,  0.6493, -0.4717]])"
      ]
     },
     "execution_count": 10,
     "metadata": {},
     "output_type": "execute_result"
    }
   ],
   "source": [
    "b.a"
   ]
  },
  {
   "cell_type": "code",
   "execution_count": 11,
   "id": "b785ab72",
   "metadata": {
    "execution": {
     "iopub.execute_input": "2023-02-27T12:34:31.972496Z",
     "iopub.status.busy": "2023-02-27T12:34:31.972206Z",
     "iopub.status.idle": "2023-02-27T12:34:37.270534Z",
     "shell.execute_reply": "2023-02-27T12:34:37.269441Z"
    }
   },
   "outputs": [
    {
     "name": "stdout",
     "output_type": "stream",
     "text": [
      "65.1 ns ± 0.771 ns per loop (mean ± std. dev. of 7 runs, 10,000,000 loops each)\n"
     ]
    }
   ],
   "source": [
    "%timeit b.a"
   ]
  },
  {
   "cell_type": "code",
   "execution_count": 12,
   "id": "ad54dc69",
   "metadata": {
    "execution": {
     "iopub.execute_input": "2023-02-27T12:34:37.274135Z",
     "iopub.status.busy": "2023-02-27T12:34:37.273633Z",
     "iopub.status.idle": "2023-02-27T12:34:37.282524Z",
     "shell.execute_reply": "2023-02-27T12:34:37.281532Z"
    }
   },
   "outputs": [
    {
     "data": {
      "text/plain": [
       "Batch(\n",
       "    a: tensor([[-0.0267,  0.9639,  0.1608],\n",
       "               [-1.6692,  0.6706,  1.3130]]),\n",
       "    x: Batch(\n",
       "           c: tensor([[ 0.2235,  2.0399, -1.6537,  0.1490],\n",
       "                      [ 1.7428, -0.5446, -2.2239,  1.1660],\n",
       "                      [ 1.3051,  0.7493,  1.9194,  1.2377]]),\n",
       "       ),\n",
       ")"
      ]
     },
     "execution_count": 12,
     "metadata": {},
     "output_type": "execute_result"
    }
   ],
   "source": [
    "new_value = torch.randn(2, 3)\n",
    "b.a = new_value\n",
    "\n",
    "b"
   ]
  },
  {
   "cell_type": "code",
   "execution_count": 13,
   "id": "29b1d0bf",
   "metadata": {
    "execution": {
     "iopub.execute_input": "2023-02-27T12:34:37.285962Z",
     "iopub.status.busy": "2023-02-27T12:34:37.285447Z",
     "iopub.status.idle": "2023-02-27T12:34:42.283380Z",
     "shell.execute_reply": "2023-02-27T12:34:42.282294Z"
    }
   },
   "outputs": [
    {
     "name": "stdout",
     "output_type": "stream",
     "text": [
      "615 ns ± 9.07 ns per loop (mean ± std. dev. of 7 runs, 1,000,000 loops each)\n"
     ]
    }
   ],
   "source": [
    "%timeit b.a = new_value"
   ]
  },
  {
   "cell_type": "markdown",
   "id": "b61ad1d0",
   "metadata": {},
   "source": [
    "## Initialization"
   ]
  },
  {
   "cell_type": "markdown",
   "id": "d70f0d54",
   "metadata": {},
   "source": [
    "### TreeValue's Initialization"
   ]
  },
  {
   "cell_type": "code",
   "execution_count": 14,
   "id": "d32a679b",
   "metadata": {
    "execution": {
     "iopub.execute_input": "2023-02-27T12:34:42.287896Z",
     "iopub.status.busy": "2023-02-27T12:34:42.287163Z",
     "iopub.status.idle": "2023-02-27T12:34:50.408365Z",
     "shell.execute_reply": "2023-02-27T12:34:50.407326Z"
    }
   },
   "outputs": [
    {
     "name": "stdout",
     "output_type": "stream",
     "text": [
      "1e+03 ns ± 10.6 ns per loop (mean ± std. dev. of 7 runs, 1,000,000 loops each)\n"
     ]
    }
   ],
   "source": [
    "%timeit FastTreeValue(_TREE_DATA_1)"
   ]
  },
  {
   "cell_type": "markdown",
   "id": "24f3707b",
   "metadata": {},
   "source": [
    "### Tianshou Batch's Initialization"
   ]
  },
  {
   "cell_type": "code",
   "execution_count": 15,
   "id": "ac3958df",
   "metadata": {
    "execution": {
     "iopub.execute_input": "2023-02-27T12:34:50.412320Z",
     "iopub.status.busy": "2023-02-27T12:34:50.411818Z",
     "iopub.status.idle": "2023-02-27T12:35:01.265692Z",
     "shell.execute_reply": "2023-02-27T12:35:01.264650Z"
    }
   },
   "outputs": [
    {
     "name": "stdout",
     "output_type": "stream",
     "text": [
      "13.3 µs ± 286 ns per loop (mean ± std. dev. of 7 runs, 100,000 loops each)\n"
     ]
    }
   ],
   "source": [
    "%timeit Batch(**_TREE_DATA_1)"
   ]
  },
  {
   "cell_type": "markdown",
   "id": "1ab82e2d",
   "metadata": {},
   "source": [
    "## Deep Copy Operation"
   ]
  },
  {
   "cell_type": "code",
   "execution_count": 16,
   "id": "210a9442",
   "metadata": {
    "execution": {
     "iopub.execute_input": "2023-02-27T12:35:01.269837Z",
     "iopub.status.busy": "2023-02-27T12:35:01.269283Z",
     "iopub.status.idle": "2023-02-27T12:35:01.274768Z",
     "shell.execute_reply": "2023-02-27T12:35:01.273858Z"
    }
   },
   "outputs": [],
   "source": [
    "import copy"
   ]
  },
  {
   "cell_type": "markdown",
   "id": "5a736274",
   "metadata": {},
   "source": [
    "### Deep Copy of TreeValue"
   ]
  },
  {
   "cell_type": "code",
   "execution_count": 17,
   "id": "f9bcadd6",
   "metadata": {
    "execution": {
     "iopub.execute_input": "2023-02-27T12:35:01.278429Z",
     "iopub.status.busy": "2023-02-27T12:35:01.277866Z",
     "iopub.status.idle": "2023-02-27T12:35:03.653894Z",
     "shell.execute_reply": "2023-02-27T12:35:03.652677Z"
    }
   },
   "outputs": [
    {
     "name": "stdout",
     "output_type": "stream",
     "text": [
      "290 µs ± 5.19 µs per loop (mean ± std. dev. of 7 runs, 1,000 loops each)\n"
     ]
    }
   ],
   "source": [
    "t3 = FastTreeValue(_TREE_DATA_3)\n",
    "%timeit copy.deepcopy(t3)"
   ]
  },
  {
   "cell_type": "markdown",
   "id": "bf8be7ea",
   "metadata": {},
   "source": [
    "### Deep Copy of Tianshou Batch"
   ]
  },
  {
   "cell_type": "code",
   "execution_count": 18,
   "id": "91998e6f",
   "metadata": {
    "execution": {
     "iopub.execute_input": "2023-02-27T12:35:03.657954Z",
     "iopub.status.busy": "2023-02-27T12:35:03.657475Z",
     "iopub.status.idle": "2023-02-27T12:35:05.917845Z",
     "shell.execute_reply": "2023-02-27T12:35:05.916952Z"
    }
   },
   "outputs": [
    {
     "name": "stdout",
     "output_type": "stream",
     "text": [
      "276 µs ± 11.5 µs per loop (mean ± std. dev. of 7 runs, 1,000 loops each)\n"
     ]
    }
   ],
   "source": [
    "b3 = Batch(**_TREE_DATA_3)\n",
    "%timeit copy.deepcopy(b3)"
   ]
  },
  {
   "cell_type": "markdown",
   "id": "223162fb",
   "metadata": {},
   "source": [
    "## Stack, Concat and Split Operation"
   ]
  },
  {
   "cell_type": "markdown",
   "id": "85fa4a73",
   "metadata": {},
   "source": [
    "### Performance of TreeValue"
   ]
  },
  {
   "cell_type": "code",
   "execution_count": 19,
   "id": "a0c2b697",
   "metadata": {
    "execution": {
     "iopub.execute_input": "2023-02-27T12:35:05.922029Z",
     "iopub.status.busy": "2023-02-27T12:35:05.921709Z",
     "iopub.status.idle": "2023-02-27T12:35:05.926857Z",
     "shell.execute_reply": "2023-02-27T12:35:05.925938Z"
    }
   },
   "outputs": [],
   "source": [
    "trees = [FastTreeValue(_TREE_DATA_2) for _ in range(8)]"
   ]
  },
  {
   "cell_type": "code",
   "execution_count": 20,
   "id": "017ea5a5",
   "metadata": {
    "execution": {
     "iopub.execute_input": "2023-02-27T12:35:05.930903Z",
     "iopub.status.busy": "2023-02-27T12:35:05.930129Z",
     "iopub.status.idle": "2023-02-27T12:35:05.940329Z",
     "shell.execute_reply": "2023-02-27T12:35:05.939385Z"
    }
   },
   "outputs": [
    {
     "data": {
      "text/plain": [
       "<FastTreeValue 0x7f9235926e50>\n",
       "├── 'a' --> tensor([[[-0.1524, -2.3242,  0.4819],\n",
       "│                    [-0.0212,  0.6493, -0.4717]],\n",
       "│           \n",
       "│                   [[-0.1524, -2.3242,  0.4819],\n",
       "│                    [-0.0212,  0.6493, -0.4717]],\n",
       "│           \n",
       "│                   [[-0.1524, -2.3242,  0.4819],\n",
       "│                    [-0.0212,  0.6493, -0.4717]],\n",
       "│           \n",
       "│                   [[-0.1524, -2.3242,  0.4819],\n",
       "│                    [-0.0212,  0.6493, -0.4717]],\n",
       "│           \n",
       "│                   [[-0.1524, -2.3242,  0.4819],\n",
       "│                    [-0.0212,  0.6493, -0.4717]],\n",
       "│           \n",
       "│                   [[-0.1524, -2.3242,  0.4819],\n",
       "│                    [-0.0212,  0.6493, -0.4717]],\n",
       "│           \n",
       "│                   [[-0.1524, -2.3242,  0.4819],\n",
       "│                    [-0.0212,  0.6493, -0.4717]],\n",
       "│           \n",
       "│                   [[-0.1524, -2.3242,  0.4819],\n",
       "│                    [-0.0212,  0.6493, -0.4717]]])\n",
       "└── 'x' --> <FastTreeValue 0x7f9235926700>\n",
       "    └── 'c' --> tensor([[[ 0.2235,  2.0399, -1.6537,  0.1490],\n",
       "                         [ 1.7428, -0.5446, -2.2239,  1.1660],\n",
       "                         [ 1.3051,  0.7493,  1.9194,  1.2377]],\n",
       "                \n",
       "                        [[ 0.2235,  2.0399, -1.6537,  0.1490],\n",
       "                         [ 1.7428, -0.5446, -2.2239,  1.1660],\n",
       "                         [ 1.3051,  0.7493,  1.9194,  1.2377]],\n",
       "                \n",
       "                        [[ 0.2235,  2.0399, -1.6537,  0.1490],\n",
       "                         [ 1.7428, -0.5446, -2.2239,  1.1660],\n",
       "                         [ 1.3051,  0.7493,  1.9194,  1.2377]],\n",
       "                \n",
       "                        [[ 0.2235,  2.0399, -1.6537,  0.1490],\n",
       "                         [ 1.7428, -0.5446, -2.2239,  1.1660],\n",
       "                         [ 1.3051,  0.7493,  1.9194,  1.2377]],\n",
       "                \n",
       "                        [[ 0.2235,  2.0399, -1.6537,  0.1490],\n",
       "                         [ 1.7428, -0.5446, -2.2239,  1.1660],\n",
       "                         [ 1.3051,  0.7493,  1.9194,  1.2377]],\n",
       "                \n",
       "                        [[ 0.2235,  2.0399, -1.6537,  0.1490],\n",
       "                         [ 1.7428, -0.5446, -2.2239,  1.1660],\n",
       "                         [ 1.3051,  0.7493,  1.9194,  1.2377]],\n",
       "                \n",
       "                        [[ 0.2235,  2.0399, -1.6537,  0.1490],\n",
       "                         [ 1.7428, -0.5446, -2.2239,  1.1660],\n",
       "                         [ 1.3051,  0.7493,  1.9194,  1.2377]],\n",
       "                \n",
       "                        [[ 0.2235,  2.0399, -1.6537,  0.1490],\n",
       "                         [ 1.7428, -0.5446, -2.2239,  1.1660],\n",
       "                         [ 1.3051,  0.7493,  1.9194,  1.2377]]])"
      ]
     },
     "execution_count": 20,
     "metadata": {},
     "output_type": "execute_result"
    }
   ],
   "source": [
    "t_stack = FastTreeValue.func(subside=True)(torch.stack)\n",
    "\n",
    "t_stack(trees)"
   ]
  },
  {
   "cell_type": "code",
   "execution_count": 21,
   "id": "f8b3f415",
   "metadata": {
    "execution": {
     "iopub.execute_input": "2023-02-27T12:35:05.943657Z",
     "iopub.status.busy": "2023-02-27T12:35:05.943348Z",
     "iopub.status.idle": "2023-02-27T12:35:09.621424Z",
     "shell.execute_reply": "2023-02-27T12:35:09.620238Z"
    }
   },
   "outputs": [
    {
     "name": "stdout",
     "output_type": "stream",
     "text": [
      "45.3 µs ± 992 ns per loop (mean ± std. dev. of 7 runs, 10,000 loops each)\n"
     ]
    }
   ],
   "source": [
    "%timeit t_stack(trees)"
   ]
  },
  {
   "cell_type": "code",
   "execution_count": 22,
   "id": "94b56771",
   "metadata": {
    "execution": {
     "iopub.execute_input": "2023-02-27T12:35:09.625302Z",
     "iopub.status.busy": "2023-02-27T12:35:09.624815Z",
     "iopub.status.idle": "2023-02-27T12:35:09.635038Z",
     "shell.execute_reply": "2023-02-27T12:35:09.634146Z"
    }
   },
   "outputs": [
    {
     "data": {
      "text/plain": [
       "<FastTreeValue 0x7f92ec699310>\n",
       "├── 'a' --> tensor([[-0.1524, -2.3242,  0.4819],\n",
       "│                   [-0.0212,  0.6493, -0.4717],\n",
       "│                   [-0.1524, -2.3242,  0.4819],\n",
       "│                   [-0.0212,  0.6493, -0.4717],\n",
       "│                   [-0.1524, -2.3242,  0.4819],\n",
       "│                   [-0.0212,  0.6493, -0.4717],\n",
       "│                   [-0.1524, -2.3242,  0.4819],\n",
       "│                   [-0.0212,  0.6493, -0.4717],\n",
       "│                   [-0.1524, -2.3242,  0.4819],\n",
       "│                   [-0.0212,  0.6493, -0.4717],\n",
       "│                   [-0.1524, -2.3242,  0.4819],\n",
       "│                   [-0.0212,  0.6493, -0.4717],\n",
       "│                   [-0.1524, -2.3242,  0.4819],\n",
       "│                   [-0.0212,  0.6493, -0.4717],\n",
       "│                   [-0.1524, -2.3242,  0.4819],\n",
       "│                   [-0.0212,  0.6493, -0.4717]])\n",
       "└── 'x' --> <FastTreeValue 0x7f92ec6992e0>\n",
       "    └── 'c' --> tensor([[ 0.2235,  2.0399, -1.6537,  0.1490],\n",
       "                        [ 1.7428, -0.5446, -2.2239,  1.1660],\n",
       "                        [ 1.3051,  0.7493,  1.9194,  1.2377],\n",
       "                        [ 0.2235,  2.0399, -1.6537,  0.1490],\n",
       "                        [ 1.7428, -0.5446, -2.2239,  1.1660],\n",
       "                        [ 1.3051,  0.7493,  1.9194,  1.2377],\n",
       "                        [ 0.2235,  2.0399, -1.6537,  0.1490],\n",
       "                        [ 1.7428, -0.5446, -2.2239,  1.1660],\n",
       "                        [ 1.3051,  0.7493,  1.9194,  1.2377],\n",
       "                        [ 0.2235,  2.0399, -1.6537,  0.1490],\n",
       "                        [ 1.7428, -0.5446, -2.2239,  1.1660],\n",
       "                        [ 1.3051,  0.7493,  1.9194,  1.2377],\n",
       "                        [ 0.2235,  2.0399, -1.6537,  0.1490],\n",
       "                        [ 1.7428, -0.5446, -2.2239,  1.1660],\n",
       "                        [ 1.3051,  0.7493,  1.9194,  1.2377],\n",
       "                        [ 0.2235,  2.0399, -1.6537,  0.1490],\n",
       "                        [ 1.7428, -0.5446, -2.2239,  1.1660],\n",
       "                        [ 1.3051,  0.7493,  1.9194,  1.2377],\n",
       "                        [ 0.2235,  2.0399, -1.6537,  0.1490],\n",
       "                        [ 1.7428, -0.5446, -2.2239,  1.1660],\n",
       "                        [ 1.3051,  0.7493,  1.9194,  1.2377],\n",
       "                        [ 0.2235,  2.0399, -1.6537,  0.1490],\n",
       "                        [ 1.7428, -0.5446, -2.2239,  1.1660],\n",
       "                        [ 1.3051,  0.7493,  1.9194,  1.2377]])"
      ]
     },
     "execution_count": 22,
     "metadata": {},
     "output_type": "execute_result"
    }
   ],
   "source": [
    "t_cat = FastTreeValue.func(subside=True)(torch.cat)\n",
    "\n",
    "t_cat(trees)"
   ]
  },
  {
   "cell_type": "code",
   "execution_count": 23,
   "id": "5e9c06a6",
   "metadata": {
    "execution": {
     "iopub.execute_input": "2023-02-27T12:35:09.638937Z",
     "iopub.status.busy": "2023-02-27T12:35:09.638409Z",
     "iopub.status.idle": "2023-02-27T12:35:12.991465Z",
     "shell.execute_reply": "2023-02-27T12:35:12.990328Z"
    }
   },
   "outputs": [
    {
     "name": "stdout",
     "output_type": "stream",
     "text": [
      "41.2 µs ± 407 ns per loop (mean ± std. dev. of 7 runs, 10,000 loops each)\n"
     ]
    }
   ],
   "source": [
    "%timeit t_cat(trees)"
   ]
  },
  {
   "cell_type": "code",
   "execution_count": 24,
   "id": "a3ab5c8f",
   "metadata": {
    "execution": {
     "iopub.execute_input": "2023-02-27T12:35:12.994837Z",
     "iopub.status.busy": "2023-02-27T12:35:12.994420Z",
     "iopub.status.idle": "2023-02-27T12:35:19.714210Z",
     "shell.execute_reply": "2023-02-27T12:35:19.713080Z"
    }
   },
   "outputs": [
    {
     "name": "stdout",
     "output_type": "stream",
     "text": [
      "82.5 µs ± 1.77 µs per loop (mean ± std. dev. of 7 runs, 10,000 loops each)\n"
     ]
    }
   ],
   "source": [
    "t_split = FastTreeValue.func(rise=True)(torch.split)\n",
    "tree = FastTreeValue({\n",
    "    'obs': torch.randn(8, 4, 84, 84),\n",
    "    'action': torch.randint(0, 6, size=(8, 1,)),\n",
    "    'reward': torch.rand(8, 1),\n",
    "})\n",
    "\n",
    "%timeit t_split(tree, 1)"
   ]
  },
  {
   "cell_type": "markdown",
   "id": "31c3ec0b",
   "metadata": {},
   "source": [
    "### Performance of Tianshou Batch"
   ]
  },
  {
   "cell_type": "code",
   "execution_count": 25,
   "id": "9ead828a",
   "metadata": {
    "execution": {
     "iopub.execute_input": "2023-02-27T12:35:19.719189Z",
     "iopub.status.busy": "2023-02-27T12:35:19.718666Z",
     "iopub.status.idle": "2023-02-27T12:35:19.731077Z",
     "shell.execute_reply": "2023-02-27T12:35:19.730105Z"
    }
   },
   "outputs": [
    {
     "data": {
      "text/plain": [
       "Batch(\n",
       "    a: tensor([[[-0.1524, -2.3242,  0.4819],\n",
       "                [-0.0212,  0.6493, -0.4717]],\n",
       "       \n",
       "               [[-0.1524, -2.3242,  0.4819],\n",
       "                [-0.0212,  0.6493, -0.4717]],\n",
       "       \n",
       "               [[-0.1524, -2.3242,  0.4819],\n",
       "                [-0.0212,  0.6493, -0.4717]],\n",
       "       \n",
       "               [[-0.1524, -2.3242,  0.4819],\n",
       "                [-0.0212,  0.6493, -0.4717]],\n",
       "       \n",
       "               [[-0.1524, -2.3242,  0.4819],\n",
       "                [-0.0212,  0.6493, -0.4717]],\n",
       "       \n",
       "               [[-0.1524, -2.3242,  0.4819],\n",
       "                [-0.0212,  0.6493, -0.4717]],\n",
       "       \n",
       "               [[-0.1524, -2.3242,  0.4819],\n",
       "                [-0.0212,  0.6493, -0.4717]],\n",
       "       \n",
       "               [[-0.1524, -2.3242,  0.4819],\n",
       "                [-0.0212,  0.6493, -0.4717]]]),\n",
       "    x: Batch(\n",
       "           c: tensor([[[ 0.2235,  2.0399, -1.6537,  0.1490],\n",
       "                       [ 1.7428, -0.5446, -2.2239,  1.1660],\n",
       "                       [ 1.3051,  0.7493,  1.9194,  1.2377]],\n",
       "              \n",
       "                      [[ 0.2235,  2.0399, -1.6537,  0.1490],\n",
       "                       [ 1.7428, -0.5446, -2.2239,  1.1660],\n",
       "                       [ 1.3051,  0.7493,  1.9194,  1.2377]],\n",
       "              \n",
       "                      [[ 0.2235,  2.0399, -1.6537,  0.1490],\n",
       "                       [ 1.7428, -0.5446, -2.2239,  1.1660],\n",
       "                       [ 1.3051,  0.7493,  1.9194,  1.2377]],\n",
       "              \n",
       "                      [[ 0.2235,  2.0399, -1.6537,  0.1490],\n",
       "                       [ 1.7428, -0.5446, -2.2239,  1.1660],\n",
       "                       [ 1.3051,  0.7493,  1.9194,  1.2377]],\n",
       "              \n",
       "                      [[ 0.2235,  2.0399, -1.6537,  0.1490],\n",
       "                       [ 1.7428, -0.5446, -2.2239,  1.1660],\n",
       "                       [ 1.3051,  0.7493,  1.9194,  1.2377]],\n",
       "              \n",
       "                      [[ 0.2235,  2.0399, -1.6537,  0.1490],\n",
       "                       [ 1.7428, -0.5446, -2.2239,  1.1660],\n",
       "                       [ 1.3051,  0.7493,  1.9194,  1.2377]],\n",
       "              \n",
       "                      [[ 0.2235,  2.0399, -1.6537,  0.1490],\n",
       "                       [ 1.7428, -0.5446, -2.2239,  1.1660],\n",
       "                       [ 1.3051,  0.7493,  1.9194,  1.2377]],\n",
       "              \n",
       "                      [[ 0.2235,  2.0399, -1.6537,  0.1490],\n",
       "                       [ 1.7428, -0.5446, -2.2239,  1.1660],\n",
       "                       [ 1.3051,  0.7493,  1.9194,  1.2377]]]),\n",
       "       ),\n",
       ")"
      ]
     },
     "execution_count": 25,
     "metadata": {},
     "output_type": "execute_result"
    }
   ],
   "source": [
    "batches = [Batch(**_TREE_DATA_2) for _ in range(8)]\n",
    "\n",
    "Batch.stack(batches)"
   ]
  },
  {
   "cell_type": "code",
   "execution_count": 26,
   "id": "ec9037a3",
   "metadata": {
    "execution": {
     "iopub.execute_input": "2023-02-27T12:35:19.735167Z",
     "iopub.status.busy": "2023-02-27T12:35:19.734793Z",
     "iopub.status.idle": "2023-02-27T12:35:28.253614Z",
     "shell.execute_reply": "2023-02-27T12:35:28.252524Z"
    }
   },
   "outputs": [
    {
     "name": "stdout",
     "output_type": "stream",
     "text": [
      "105 µs ± 1.63 µs per loop (mean ± std. dev. of 7 runs, 10,000 loops each)\n"
     ]
    }
   ],
   "source": [
    "%timeit Batch.stack(batches)"
   ]
  },
  {
   "cell_type": "code",
   "execution_count": 27,
   "id": "cb8ab77e",
   "metadata": {
    "execution": {
     "iopub.execute_input": "2023-02-27T12:35:28.257845Z",
     "iopub.status.busy": "2023-02-27T12:35:28.257532Z",
     "iopub.status.idle": "2023-02-27T12:35:28.279075Z",
     "shell.execute_reply": "2023-02-27T12:35:28.277994Z"
    }
   },
   "outputs": [
    {
     "data": {
      "text/plain": [
       "Batch(\n",
       "    a: tensor([[-0.1524, -2.3242,  0.4819],\n",
       "               [-0.0212,  0.6493, -0.4717],\n",
       "               [-0.1524, -2.3242,  0.4819],\n",
       "               [-0.0212,  0.6493, -0.4717],\n",
       "               [-0.1524, -2.3242,  0.4819],\n",
       "               [-0.0212,  0.6493, -0.4717],\n",
       "               [-0.1524, -2.3242,  0.4819],\n",
       "               [-0.0212,  0.6493, -0.4717],\n",
       "               [-0.1524, -2.3242,  0.4819],\n",
       "               [-0.0212,  0.6493, -0.4717],\n",
       "               [-0.1524, -2.3242,  0.4819],\n",
       "               [-0.0212,  0.6493, -0.4717],\n",
       "               [-0.1524, -2.3242,  0.4819],\n",
       "               [-0.0212,  0.6493, -0.4717],\n",
       "               [-0.1524, -2.3242,  0.4819],\n",
       "               [-0.0212,  0.6493, -0.4717]]),\n",
       "    x: Batch(\n",
       "           c: tensor([[ 0.2235,  2.0399, -1.6537,  0.1490],\n",
       "                      [ 1.7428, -0.5446, -2.2239,  1.1660],\n",
       "                      [ 1.3051,  0.7493,  1.9194,  1.2377],\n",
       "                      [ 0.2235,  2.0399, -1.6537,  0.1490],\n",
       "                      [ 1.7428, -0.5446, -2.2239,  1.1660],\n",
       "                      [ 1.3051,  0.7493,  1.9194,  1.2377],\n",
       "                      [ 0.2235,  2.0399, -1.6537,  0.1490],\n",
       "                      [ 1.7428, -0.5446, -2.2239,  1.1660],\n",
       "                      [ 1.3051,  0.7493,  1.9194,  1.2377],\n",
       "                      [ 0.2235,  2.0399, -1.6537,  0.1490],\n",
       "                      [ 1.7428, -0.5446, -2.2239,  1.1660],\n",
       "                      [ 1.3051,  0.7493,  1.9194,  1.2377],\n",
       "                      [ 0.2235,  2.0399, -1.6537,  0.1490],\n",
       "                      [ 1.7428, -0.5446, -2.2239,  1.1660],\n",
       "                      [ 1.3051,  0.7493,  1.9194,  1.2377],\n",
       "                      [ 0.2235,  2.0399, -1.6537,  0.1490],\n",
       "                      [ 1.7428, -0.5446, -2.2239,  1.1660],\n",
       "                      [ 1.3051,  0.7493,  1.9194,  1.2377],\n",
       "                      [ 0.2235,  2.0399, -1.6537,  0.1490],\n",
       "                      [ 1.7428, -0.5446, -2.2239,  1.1660],\n",
       "                      [ 1.3051,  0.7493,  1.9194,  1.2377],\n",
       "                      [ 0.2235,  2.0399, -1.6537,  0.1490],\n",
       "                      [ 1.7428, -0.5446, -2.2239,  1.1660],\n",
       "                      [ 1.3051,  0.7493,  1.9194,  1.2377]]),\n",
       "       ),\n",
       ")"
      ]
     },
     "execution_count": 27,
     "metadata": {},
     "output_type": "execute_result"
    }
   ],
   "source": [
    "Batch.cat(batches)"
   ]
  },
  {
   "cell_type": "code",
   "execution_count": 28,
   "id": "18dfb045",
   "metadata": {
    "execution": {
     "iopub.execute_input": "2023-02-27T12:35:28.284834Z",
     "iopub.status.busy": "2023-02-27T12:35:28.284519Z",
     "iopub.status.idle": "2023-02-27T12:35:43.270072Z",
     "shell.execute_reply": "2023-02-27T12:35:43.268944Z"
    }
   },
   "outputs": [
    {
     "name": "stdout",
     "output_type": "stream",
     "text": [
      "184 µs ± 2.01 µs per loop (mean ± std. dev. of 7 runs, 10,000 loops each)\n"
     ]
    }
   ],
   "source": [
    "%timeit Batch.cat(batches)"
   ]
  },
  {
   "cell_type": "code",
   "execution_count": 29,
   "id": "c6688e51",
   "metadata": {
    "execution": {
     "iopub.execute_input": "2023-02-27T12:35:43.273746Z",
     "iopub.status.busy": "2023-02-27T12:35:43.273292Z",
     "iopub.status.idle": "2023-02-27T12:35:48.059262Z",
     "shell.execute_reply": "2023-02-27T12:35:48.058153Z"
    }
   },
   "outputs": [
    {
     "name": "stdout",
     "output_type": "stream",
     "text": [
      "589 µs ± 5.98 µs per loop (mean ± std. dev. of 7 runs, 1,000 loops each)\n"
     ]
    }
   ],
   "source": [
    "batch = Batch({\n",
    "    'obs': torch.randn(8, 4, 84, 84),\n",
    "    'action': torch.randint(0, 6, size=(8, 1,)),\n",
    "    'reward': torch.rand(8, 1)}\n",
    ")\n",
    "\n",
    "%timeit list(Batch.split(batch, 1, shuffle=False, merge_last=True))"
   ]
  },
  {
   "cell_type": "code",
   "execution_count": null,
   "id": "2539fbd9",
   "metadata": {},
   "outputs": [],
   "source": []
  }
 ],
 "metadata": {
  "kernelspec": {
   "display_name": "Python 3 (ipykernel)",
   "language": "python",
   "name": "python3"
  },
  "language_info": {
   "codemirror_mode": {
    "name": "ipython",
    "version": 3
   },
   "file_extension": ".py",
   "mimetype": "text/x-python",
   "name": "python",
   "nbconvert_exporter": "python",
   "pygments_lexer": "ipython3",
   "version": "3.8.16"
  }
 },
 "nbformat": 4,
 "nbformat_minor": 5
}
