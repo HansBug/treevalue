{
 "cells": [
  {
   "cell_type": "markdown",
   "id": "9d39d946",
   "metadata": {},
   "source": [
    "# Comparison Between TreeValue and Tianshou Batch"
   ]
  },
  {
   "cell_type": "markdown",
   "id": "3c6db2d4",
   "metadata": {},
   "source": [
    "In this section, we will take a look at the feature and performance of the [Tianshou Batch](https://github.com/thu-ml/tianshou) library, which is developed by Tsinghua Machine Learning Group."
   ]
  },
  {
   "cell_type": "markdown",
   "id": "069361b0",
   "metadata": {},
   "source": [
    "Before starting the comparison, let us define some thing."
   ]
  },
  {
   "cell_type": "code",
   "execution_count": 1,
   "id": "06fc8d26",
   "metadata": {
    "execution": {
     "iopub.execute_input": "2023-03-06T10:39:24.631570Z",
     "iopub.status.busy": "2023-03-06T10:39:24.631265Z",
     "iopub.status.idle": "2023-03-06T10:39:25.788575Z",
     "shell.execute_reply": "2023-03-06T10:39:25.787659Z"
    }
   },
   "outputs": [
    {
     "name": "stderr",
     "output_type": "stream",
     "text": [
      "/opt/hostedtoolcache/Python/3.8.16/x64/lib/python3.8/site-packages/tqdm/auto.py:21: TqdmWarning: IProgress not found. Please update jupyter and ipywidgets. See https://ipywidgets.readthedocs.io/en/stable/user_install.html\n",
      "  from .autonotebook import tqdm as notebook_tqdm\n"
     ]
    }
   ],
   "source": [
    "import torch \n",
    "\n",
    "_TREE_DATA_1 = {'a': 1, 'b': 2, 'x': {'c': 3, 'd': 4}}\n",
    "_TREE_DATA_2 = {\n",
    "    'a': torch.randn(2, 3), \n",
    "    'x': {\n",
    "        'c': torch.randn(3, 4)\n",
    "    },\n",
    "}\n",
    "_TREE_DATA_3 = {\n",
    "    'obs': torch.randn(4, 84, 84),\n",
    "    'action': torch.randint(0, 6, size=(1,)),\n",
    "    'reward': torch.rand(1),\n",
    "}"
   ]
  },
  {
   "cell_type": "markdown",
   "id": "83461b25",
   "metadata": {},
   "source": [
    "## Read and Write Operation"
   ]
  },
  {
   "cell_type": "markdown",
   "id": "067b3f73",
   "metadata": {},
   "source": [
    "Reading and writing are the two most common operations in the tree data structure based on the data model (TreeValue and Tianshou Batch both belong to this type), so this section will compare the reading and writing performance of these two libraries."
   ]
  },
  {
   "cell_type": "markdown",
   "id": "5d09a5b7",
   "metadata": {},
   "source": [
    "### TreeValue's Get and Set"
   ]
  },
  {
   "cell_type": "code",
   "execution_count": 2,
   "id": "9519c4bb",
   "metadata": {
    "execution": {
     "iopub.execute_input": "2023-03-06T10:39:25.793627Z",
     "iopub.status.busy": "2023-03-06T10:39:25.792964Z",
     "iopub.status.idle": "2023-03-06T10:39:26.124965Z",
     "shell.execute_reply": "2023-03-06T10:39:26.124071Z"
    }
   },
   "outputs": [],
   "source": [
    "from treevalue import FastTreeValue\n",
    "\n",
    "t = FastTreeValue(_TREE_DATA_2)"
   ]
  },
  {
   "cell_type": "code",
   "execution_count": 3,
   "id": "11c37677",
   "metadata": {
    "execution": {
     "iopub.execute_input": "2023-03-06T10:39:26.128930Z",
     "iopub.status.busy": "2023-03-06T10:39:26.128556Z",
     "iopub.status.idle": "2023-03-06T10:39:26.143535Z",
     "shell.execute_reply": "2023-03-06T10:39:26.142578Z"
    }
   },
   "outputs": [
    {
     "data": {
      "text/plain": [
       "<FastTreeValue 0x7ff9d9649850>\n",
       "├── 'a' --> tensor([[-1.1733,  0.4867, -1.2827],\n",
       "│                   [ 0.0635, -0.0662, -1.2902]])\n",
       "└── 'x' --> <FastTreeValue 0x7ff9d9649ca0>\n",
       "    └── 'c' --> tensor([[ 0.6249,  0.4188,  0.2662,  0.2933],\n",
       "                        [-0.0061, -0.1024, -0.6976, -0.2532],\n",
       "                        [-0.4155, -0.1005,  1.6274, -0.1806]])"
      ]
     },
     "execution_count": 3,
     "metadata": {},
     "output_type": "execute_result"
    }
   ],
   "source": [
    "t"
   ]
  },
  {
   "cell_type": "code",
   "execution_count": 4,
   "id": "fd70b0b9",
   "metadata": {
    "execution": {
     "iopub.execute_input": "2023-03-06T10:39:26.147028Z",
     "iopub.status.busy": "2023-03-06T10:39:26.146629Z",
     "iopub.status.idle": "2023-03-06T10:39:26.156471Z",
     "shell.execute_reply": "2023-03-06T10:39:26.154323Z"
    }
   },
   "outputs": [
    {
     "data": {
      "text/plain": [
       "tensor([[-1.1733,  0.4867, -1.2827],\n",
       "        [ 0.0635, -0.0662, -1.2902]])"
      ]
     },
     "execution_count": 4,
     "metadata": {},
     "output_type": "execute_result"
    }
   ],
   "source": [
    "t.a"
   ]
  },
  {
   "cell_type": "code",
   "execution_count": 5,
   "id": "c18197bd",
   "metadata": {
    "execution": {
     "iopub.execute_input": "2023-03-06T10:39:26.160393Z",
     "iopub.status.busy": "2023-03-06T10:39:26.160029Z",
     "iopub.status.idle": "2023-03-06T10:39:31.541643Z",
     "shell.execute_reply": "2023-03-06T10:39:31.540606Z"
    }
   },
   "outputs": [
    {
     "name": "stdout",
     "output_type": "stream",
     "text": [
      "66 ns ± 0.848 ns per loop (mean ± std. dev. of 7 runs, 10,000,000 loops each)\n"
     ]
    }
   ],
   "source": [
    "%timeit t.a"
   ]
  },
  {
   "cell_type": "code",
   "execution_count": 6,
   "id": "bd52f867",
   "metadata": {
    "execution": {
     "iopub.execute_input": "2023-03-06T10:39:31.545978Z",
     "iopub.status.busy": "2023-03-06T10:39:31.545257Z",
     "iopub.status.idle": "2023-03-06T10:39:31.555202Z",
     "shell.execute_reply": "2023-03-06T10:39:31.554340Z"
    }
   },
   "outputs": [
    {
     "data": {
      "text/plain": [
       "<FastTreeValue 0x7ff9d9649850>\n",
       "├── 'a' --> tensor([[-0.9687,  0.4420,  0.5520],\n",
       "│                   [ 0.0688,  2.0158, -1.2026]])\n",
       "└── 'x' --> <FastTreeValue 0x7ff9d9649ca0>\n",
       "    └── 'c' --> tensor([[ 0.6249,  0.4188,  0.2662,  0.2933],\n",
       "                        [-0.0061, -0.1024, -0.6976, -0.2532],\n",
       "                        [-0.4155, -0.1005,  1.6274, -0.1806]])"
      ]
     },
     "execution_count": 6,
     "metadata": {},
     "output_type": "execute_result"
    }
   ],
   "source": [
    "new_value = torch.randn(2, 3)\n",
    "t.a = new_value\n",
    "\n",
    "t"
   ]
  },
  {
   "cell_type": "code",
   "execution_count": 7,
   "id": "bbe04d1c",
   "metadata": {
    "execution": {
     "iopub.execute_input": "2023-03-06T10:39:31.558335Z",
     "iopub.status.busy": "2023-03-06T10:39:31.557838Z",
     "iopub.status.idle": "2023-03-06T10:39:37.392082Z",
     "shell.execute_reply": "2023-03-06T10:39:37.391077Z"
    }
   },
   "outputs": [
    {
     "name": "stdout",
     "output_type": "stream",
     "text": [
      "72 ns ± 1.63 ns per loop (mean ± std. dev. of 7 runs, 10,000,000 loops each)\n"
     ]
    }
   ],
   "source": [
    "%timeit t.a = new_value"
   ]
  },
  {
   "cell_type": "markdown",
   "id": "48c49731",
   "metadata": {},
   "source": [
    "### Tianshou Batch's Get and Set"
   ]
  },
  {
   "cell_type": "code",
   "execution_count": 8,
   "id": "f1bb14c1",
   "metadata": {
    "execution": {
     "iopub.execute_input": "2023-03-06T10:39:37.395743Z",
     "iopub.status.busy": "2023-03-06T10:39:37.395459Z",
     "iopub.status.idle": "2023-03-06T10:39:37.830234Z",
     "shell.execute_reply": "2023-03-06T10:39:37.829268Z"
    }
   },
   "outputs": [],
   "source": [
    "from tianshou.data import Batch\n",
    "\n",
    "b = Batch(**_TREE_DATA_2)"
   ]
  },
  {
   "cell_type": "code",
   "execution_count": 9,
   "id": "cb0777c3",
   "metadata": {
    "execution": {
     "iopub.execute_input": "2023-03-06T10:39:37.834191Z",
     "iopub.status.busy": "2023-03-06T10:39:37.833842Z",
     "iopub.status.idle": "2023-03-06T10:39:37.842162Z",
     "shell.execute_reply": "2023-03-06T10:39:37.841282Z"
    }
   },
   "outputs": [
    {
     "data": {
      "text/plain": [
       "Batch(\n",
       "    a: tensor([[-1.1733,  0.4867, -1.2827],\n",
       "               [ 0.0635, -0.0662, -1.2902]]),\n",
       "    x: Batch(\n",
       "           c: tensor([[ 0.6249,  0.4188,  0.2662,  0.2933],\n",
       "                      [-0.0061, -0.1024, -0.6976, -0.2532],\n",
       "                      [-0.4155, -0.1005,  1.6274, -0.1806]]),\n",
       "       ),\n",
       ")"
      ]
     },
     "execution_count": 9,
     "metadata": {},
     "output_type": "execute_result"
    }
   ],
   "source": [
    "b"
   ]
  },
  {
   "cell_type": "code",
   "execution_count": 10,
   "id": "43ef8ea3",
   "metadata": {
    "execution": {
     "iopub.execute_input": "2023-03-06T10:39:37.845207Z",
     "iopub.status.busy": "2023-03-06T10:39:37.844951Z",
     "iopub.status.idle": "2023-03-06T10:39:37.852862Z",
     "shell.execute_reply": "2023-03-06T10:39:37.852037Z"
    }
   },
   "outputs": [
    {
     "data": {
      "text/plain": [
       "tensor([[-1.1733,  0.4867, -1.2827],\n",
       "        [ 0.0635, -0.0662, -1.2902]])"
      ]
     },
     "execution_count": 10,
     "metadata": {},
     "output_type": "execute_result"
    }
   ],
   "source": [
    "b.a"
   ]
  },
  {
   "cell_type": "code",
   "execution_count": 11,
   "id": "b785ab72",
   "metadata": {
    "execution": {
     "iopub.execute_input": "2023-03-06T10:39:37.855884Z",
     "iopub.status.busy": "2023-03-06T10:39:37.855629Z",
     "iopub.status.idle": "2023-03-06T10:39:42.849743Z",
     "shell.execute_reply": "2023-03-06T10:39:42.848763Z"
    }
   },
   "outputs": [
    {
     "name": "stdout",
     "output_type": "stream",
     "text": [
      "61.6 ns ± 0.849 ns per loop (mean ± std. dev. of 7 runs, 10,000,000 loops each)\n"
     ]
    }
   ],
   "source": [
    "%timeit b.a"
   ]
  },
  {
   "cell_type": "code",
   "execution_count": 12,
   "id": "ad54dc69",
   "metadata": {
    "execution": {
     "iopub.execute_input": "2023-03-06T10:39:42.854142Z",
     "iopub.status.busy": "2023-03-06T10:39:42.853176Z",
     "iopub.status.idle": "2023-03-06T10:39:42.862978Z",
     "shell.execute_reply": "2023-03-06T10:39:42.861253Z"
    }
   },
   "outputs": [
    {
     "data": {
      "text/plain": [
       "Batch(\n",
       "    a: tensor([[ 0.2047,  0.4311, -0.0284],\n",
       "               [ 1.1705, -1.1640,  0.9692]]),\n",
       "    x: Batch(\n",
       "           c: tensor([[ 0.6249,  0.4188,  0.2662,  0.2933],\n",
       "                      [-0.0061, -0.1024, -0.6976, -0.2532],\n",
       "                      [-0.4155, -0.1005,  1.6274, -0.1806]]),\n",
       "       ),\n",
       ")"
      ]
     },
     "execution_count": 12,
     "metadata": {},
     "output_type": "execute_result"
    }
   ],
   "source": [
    "new_value = torch.randn(2, 3)\n",
    "b.a = new_value\n",
    "\n",
    "b"
   ]
  },
  {
   "cell_type": "code",
   "execution_count": 13,
   "id": "29b1d0bf",
   "metadata": {
    "execution": {
     "iopub.execute_input": "2023-03-06T10:39:42.867093Z",
     "iopub.status.busy": "2023-03-06T10:39:42.866577Z",
     "iopub.status.idle": "2023-03-06T10:39:47.451493Z",
     "shell.execute_reply": "2023-03-06T10:39:47.450293Z"
    }
   },
   "outputs": [
    {
     "name": "stdout",
     "output_type": "stream",
     "text": [
      "561 ns ± 8.42 ns per loop (mean ± std. dev. of 7 runs, 1,000,000 loops each)\n"
     ]
    }
   ],
   "source": [
    "%timeit b.a = new_value"
   ]
  },
  {
   "cell_type": "markdown",
   "id": "b61ad1d0",
   "metadata": {},
   "source": [
    "## Initialization"
   ]
  },
  {
   "cell_type": "markdown",
   "id": "d70f0d54",
   "metadata": {},
   "source": [
    "### TreeValue's Initialization"
   ]
  },
  {
   "cell_type": "code",
   "execution_count": 14,
   "id": "d32a679b",
   "metadata": {
    "execution": {
     "iopub.execute_input": "2023-03-06T10:39:47.455573Z",
     "iopub.status.busy": "2023-03-06T10:39:47.455064Z",
     "iopub.status.idle": "2023-03-06T10:39:55.118873Z",
     "shell.execute_reply": "2023-03-06T10:39:55.117991Z"
    }
   },
   "outputs": [
    {
     "name": "stdout",
     "output_type": "stream",
     "text": [
      "944 ns ± 26.6 ns per loop (mean ± std. dev. of 7 runs, 1,000,000 loops each)\n"
     ]
    }
   ],
   "source": [
    "%timeit FastTreeValue(_TREE_DATA_1)"
   ]
  },
  {
   "cell_type": "markdown",
   "id": "24f3707b",
   "metadata": {},
   "source": [
    "### Tianshou Batch's Initialization"
   ]
  },
  {
   "cell_type": "code",
   "execution_count": 15,
   "id": "ac3958df",
   "metadata": {
    "execution": {
     "iopub.execute_input": "2023-03-06T10:39:55.123785Z",
     "iopub.status.busy": "2023-03-06T10:39:55.123014Z",
     "iopub.status.idle": "2023-03-06T10:40:05.159782Z",
     "shell.execute_reply": "2023-03-06T10:40:05.158726Z"
    }
   },
   "outputs": [
    {
     "name": "stdout",
     "output_type": "stream",
     "text": [
      "12.4 µs ± 347 ns per loop (mean ± std. dev. of 7 runs, 100,000 loops each)\n"
     ]
    }
   ],
   "source": [
    "%timeit Batch(**_TREE_DATA_1)"
   ]
  },
  {
   "cell_type": "markdown",
   "id": "1ab82e2d",
   "metadata": {},
   "source": [
    "## Deep Copy Operation"
   ]
  },
  {
   "cell_type": "code",
   "execution_count": 16,
   "id": "210a9442",
   "metadata": {
    "execution": {
     "iopub.execute_input": "2023-03-06T10:40:05.163416Z",
     "iopub.status.busy": "2023-03-06T10:40:05.163095Z",
     "iopub.status.idle": "2023-03-06T10:40:05.169097Z",
     "shell.execute_reply": "2023-03-06T10:40:05.168004Z"
    }
   },
   "outputs": [],
   "source": [
    "import copy"
   ]
  },
  {
   "cell_type": "markdown",
   "id": "5a736274",
   "metadata": {},
   "source": [
    "### Deep Copy of TreeValue"
   ]
  },
  {
   "cell_type": "code",
   "execution_count": 17,
   "id": "f9bcadd6",
   "metadata": {
    "execution": {
     "iopub.execute_input": "2023-03-06T10:40:05.173328Z",
     "iopub.status.busy": "2023-03-06T10:40:05.172585Z",
     "iopub.status.idle": "2023-03-06T10:40:07.296450Z",
     "shell.execute_reply": "2023-03-06T10:40:07.295567Z"
    }
   },
   "outputs": [
    {
     "name": "stdout",
     "output_type": "stream",
     "text": [
      "262 µs ± 10.2 µs per loop (mean ± std. dev. of 7 runs, 1,000 loops each)\n"
     ]
    }
   ],
   "source": [
    "t3 = FastTreeValue(_TREE_DATA_3)\n",
    "%timeit copy.deepcopy(t3)"
   ]
  },
  {
   "cell_type": "markdown",
   "id": "bf8be7ea",
   "metadata": {},
   "source": [
    "### Deep Copy of Tianshou Batch"
   ]
  },
  {
   "cell_type": "code",
   "execution_count": 18,
   "id": "91998e6f",
   "metadata": {
    "execution": {
     "iopub.execute_input": "2023-03-06T10:40:07.300916Z",
     "iopub.status.busy": "2023-03-06T10:40:07.299551Z",
     "iopub.status.idle": "2023-03-06T10:40:09.337561Z",
     "shell.execute_reply": "2023-03-06T10:40:09.336626Z"
    }
   },
   "outputs": [
    {
     "name": "stdout",
     "output_type": "stream",
     "text": [
      "252 µs ± 5.21 µs per loop (mean ± std. dev. of 7 runs, 1,000 loops each)\n"
     ]
    }
   ],
   "source": [
    "b3 = Batch(**_TREE_DATA_3)\n",
    "%timeit copy.deepcopy(b3)"
   ]
  },
  {
   "cell_type": "markdown",
   "id": "223162fb",
   "metadata": {},
   "source": [
    "## Stack, Concat and Split Operation"
   ]
  },
  {
   "cell_type": "markdown",
   "id": "85fa4a73",
   "metadata": {},
   "source": [
    "### Performance of TreeValue"
   ]
  },
  {
   "cell_type": "code",
   "execution_count": 19,
   "id": "a0c2b697",
   "metadata": {
    "execution": {
     "iopub.execute_input": "2023-03-06T10:40:09.341409Z",
     "iopub.status.busy": "2023-03-06T10:40:09.341001Z",
     "iopub.status.idle": "2023-03-06T10:40:09.346468Z",
     "shell.execute_reply": "2023-03-06T10:40:09.345531Z"
    }
   },
   "outputs": [],
   "source": [
    "trees = [FastTreeValue(_TREE_DATA_2) for _ in range(8)]"
   ]
  },
  {
   "cell_type": "code",
   "execution_count": 20,
   "id": "017ea5a5",
   "metadata": {
    "execution": {
     "iopub.execute_input": "2023-03-06T10:40:09.350216Z",
     "iopub.status.busy": "2023-03-06T10:40:09.349971Z",
     "iopub.status.idle": "2023-03-06T10:40:09.358432Z",
     "shell.execute_reply": "2023-03-06T10:40:09.357569Z"
    }
   },
   "outputs": [
    {
     "data": {
      "text/plain": [
       "<FastTreeValue 0x7ff9d95f29a0>\n",
       "├── 'a' --> tensor([[[-1.1733,  0.4867, -1.2827],\n",
       "│                    [ 0.0635, -0.0662, -1.2902]],\n",
       "│           \n",
       "│                   [[-1.1733,  0.4867, -1.2827],\n",
       "│                    [ 0.0635, -0.0662, -1.2902]],\n",
       "│           \n",
       "│                   [[-1.1733,  0.4867, -1.2827],\n",
       "│                    [ 0.0635, -0.0662, -1.2902]],\n",
       "│           \n",
       "│                   [[-1.1733,  0.4867, -1.2827],\n",
       "│                    [ 0.0635, -0.0662, -1.2902]],\n",
       "│           \n",
       "│                   [[-1.1733,  0.4867, -1.2827],\n",
       "│                    [ 0.0635, -0.0662, -1.2902]],\n",
       "│           \n",
       "│                   [[-1.1733,  0.4867, -1.2827],\n",
       "│                    [ 0.0635, -0.0662, -1.2902]],\n",
       "│           \n",
       "│                   [[-1.1733,  0.4867, -1.2827],\n",
       "│                    [ 0.0635, -0.0662, -1.2902]],\n",
       "│           \n",
       "│                   [[-1.1733,  0.4867, -1.2827],\n",
       "│                    [ 0.0635, -0.0662, -1.2902]]])\n",
       "└── 'x' --> <FastTreeValue 0x7ff91fe8b520>\n",
       "    └── 'c' --> tensor([[[ 0.6249,  0.4188,  0.2662,  0.2933],\n",
       "                         [-0.0061, -0.1024, -0.6976, -0.2532],\n",
       "                         [-0.4155, -0.1005,  1.6274, -0.1806]],\n",
       "                \n",
       "                        [[ 0.6249,  0.4188,  0.2662,  0.2933],\n",
       "                         [-0.0061, -0.1024, -0.6976, -0.2532],\n",
       "                         [-0.4155, -0.1005,  1.6274, -0.1806]],\n",
       "                \n",
       "                        [[ 0.6249,  0.4188,  0.2662,  0.2933],\n",
       "                         [-0.0061, -0.1024, -0.6976, -0.2532],\n",
       "                         [-0.4155, -0.1005,  1.6274, -0.1806]],\n",
       "                \n",
       "                        [[ 0.6249,  0.4188,  0.2662,  0.2933],\n",
       "                         [-0.0061, -0.1024, -0.6976, -0.2532],\n",
       "                         [-0.4155, -0.1005,  1.6274, -0.1806]],\n",
       "                \n",
       "                        [[ 0.6249,  0.4188,  0.2662,  0.2933],\n",
       "                         [-0.0061, -0.1024, -0.6976, -0.2532],\n",
       "                         [-0.4155, -0.1005,  1.6274, -0.1806]],\n",
       "                \n",
       "                        [[ 0.6249,  0.4188,  0.2662,  0.2933],\n",
       "                         [-0.0061, -0.1024, -0.6976, -0.2532],\n",
       "                         [-0.4155, -0.1005,  1.6274, -0.1806]],\n",
       "                \n",
       "                        [[ 0.6249,  0.4188,  0.2662,  0.2933],\n",
       "                         [-0.0061, -0.1024, -0.6976, -0.2532],\n",
       "                         [-0.4155, -0.1005,  1.6274, -0.1806]],\n",
       "                \n",
       "                        [[ 0.6249,  0.4188,  0.2662,  0.2933],\n",
       "                         [-0.0061, -0.1024, -0.6976, -0.2532],\n",
       "                         [-0.4155, -0.1005,  1.6274, -0.1806]]])"
      ]
     },
     "execution_count": 20,
     "metadata": {},
     "output_type": "execute_result"
    }
   ],
   "source": [
    "t_stack = FastTreeValue.func(subside=True)(torch.stack)\n",
    "\n",
    "t_stack(trees)"
   ]
  },
  {
   "cell_type": "code",
   "execution_count": 21,
   "id": "f8b3f415",
   "metadata": {
    "execution": {
     "iopub.execute_input": "2023-03-06T10:40:09.361749Z",
     "iopub.status.busy": "2023-03-06T10:40:09.361487Z",
     "iopub.status.idle": "2023-03-06T10:40:12.949313Z",
     "shell.execute_reply": "2023-03-06T10:40:12.948533Z"
    }
   },
   "outputs": [
    {
     "name": "stdout",
     "output_type": "stream",
     "text": [
      "44.4 µs ± 2.25 µs per loop (mean ± std. dev. of 7 runs, 10,000 loops each)\n"
     ]
    }
   ],
   "source": [
    "%timeit t_stack(trees)"
   ]
  },
  {
   "cell_type": "code",
   "execution_count": 22,
   "id": "94b56771",
   "metadata": {
    "execution": {
     "iopub.execute_input": "2023-03-06T10:40:12.952600Z",
     "iopub.status.busy": "2023-03-06T10:40:12.951905Z",
     "iopub.status.idle": "2023-03-06T10:40:12.961031Z",
     "shell.execute_reply": "2023-03-06T10:40:12.960271Z"
    }
   },
   "outputs": [
    {
     "data": {
      "text/plain": [
       "<FastTreeValue 0x7ff91f7d2f10>\n",
       "├── 'a' --> tensor([[-1.1733,  0.4867, -1.2827],\n",
       "│                   [ 0.0635, -0.0662, -1.2902],\n",
       "│                   [-1.1733,  0.4867, -1.2827],\n",
       "│                   [ 0.0635, -0.0662, -1.2902],\n",
       "│                   [-1.1733,  0.4867, -1.2827],\n",
       "│                   [ 0.0635, -0.0662, -1.2902],\n",
       "│                   [-1.1733,  0.4867, -1.2827],\n",
       "│                   [ 0.0635, -0.0662, -1.2902],\n",
       "│                   [-1.1733,  0.4867, -1.2827],\n",
       "│                   [ 0.0635, -0.0662, -1.2902],\n",
       "│                   [-1.1733,  0.4867, -1.2827],\n",
       "│                   [ 0.0635, -0.0662, -1.2902],\n",
       "│                   [-1.1733,  0.4867, -1.2827],\n",
       "│                   [ 0.0635, -0.0662, -1.2902],\n",
       "│                   [-1.1733,  0.4867, -1.2827],\n",
       "│                   [ 0.0635, -0.0662, -1.2902]])\n",
       "└── 'x' --> <FastTreeValue 0x7ff91f7d2370>\n",
       "    └── 'c' --> tensor([[ 0.6249,  0.4188,  0.2662,  0.2933],\n",
       "                        [-0.0061, -0.1024, -0.6976, -0.2532],\n",
       "                        [-0.4155, -0.1005,  1.6274, -0.1806],\n",
       "                        [ 0.6249,  0.4188,  0.2662,  0.2933],\n",
       "                        [-0.0061, -0.1024, -0.6976, -0.2532],\n",
       "                        [-0.4155, -0.1005,  1.6274, -0.1806],\n",
       "                        [ 0.6249,  0.4188,  0.2662,  0.2933],\n",
       "                        [-0.0061, -0.1024, -0.6976, -0.2532],\n",
       "                        [-0.4155, -0.1005,  1.6274, -0.1806],\n",
       "                        [ 0.6249,  0.4188,  0.2662,  0.2933],\n",
       "                        [-0.0061, -0.1024, -0.6976, -0.2532],\n",
       "                        [-0.4155, -0.1005,  1.6274, -0.1806],\n",
       "                        [ 0.6249,  0.4188,  0.2662,  0.2933],\n",
       "                        [-0.0061, -0.1024, -0.6976, -0.2532],\n",
       "                        [-0.4155, -0.1005,  1.6274, -0.1806],\n",
       "                        [ 0.6249,  0.4188,  0.2662,  0.2933],\n",
       "                        [-0.0061, -0.1024, -0.6976, -0.2532],\n",
       "                        [-0.4155, -0.1005,  1.6274, -0.1806],\n",
       "                        [ 0.6249,  0.4188,  0.2662,  0.2933],\n",
       "                        [-0.0061, -0.1024, -0.6976, -0.2532],\n",
       "                        [-0.4155, -0.1005,  1.6274, -0.1806],\n",
       "                        [ 0.6249,  0.4188,  0.2662,  0.2933],\n",
       "                        [-0.0061, -0.1024, -0.6976, -0.2532],\n",
       "                        [-0.4155, -0.1005,  1.6274, -0.1806]])"
      ]
     },
     "execution_count": 22,
     "metadata": {},
     "output_type": "execute_result"
    }
   ],
   "source": [
    "t_cat = FastTreeValue.func(subside=True)(torch.cat)\n",
    "\n",
    "t_cat(trees)"
   ]
  },
  {
   "cell_type": "code",
   "execution_count": 23,
   "id": "5e9c06a6",
   "metadata": {
    "execution": {
     "iopub.execute_input": "2023-03-06T10:40:12.963757Z",
     "iopub.status.busy": "2023-03-06T10:40:12.963461Z",
     "iopub.status.idle": "2023-03-06T10:40:16.307464Z",
     "shell.execute_reply": "2023-03-06T10:40:16.306182Z"
    }
   },
   "outputs": [
    {
     "name": "stdout",
     "output_type": "stream",
     "text": [
      "41.3 µs ± 1.14 µs per loop (mean ± std. dev. of 7 runs, 10,000 loops each)\n"
     ]
    }
   ],
   "source": [
    "%timeit t_cat(trees)"
   ]
  },
  {
   "cell_type": "code",
   "execution_count": 24,
   "id": "a3ab5c8f",
   "metadata": {
    "execution": {
     "iopub.execute_input": "2023-03-06T10:40:16.312306Z",
     "iopub.status.busy": "2023-03-06T10:40:16.311642Z",
     "iopub.status.idle": "2023-03-06T10:40:22.406762Z",
     "shell.execute_reply": "2023-03-06T10:40:22.404217Z"
    }
   },
   "outputs": [
    {
     "name": "stdout",
     "output_type": "stream",
     "text": [
      "74.8 µs ± 1.03 µs per loop (mean ± std. dev. of 7 runs, 10,000 loops each)\n"
     ]
    }
   ],
   "source": [
    "t_split = FastTreeValue.func(rise=True)(torch.split)\n",
    "tree = FastTreeValue({\n",
    "    'obs': torch.randn(8, 4, 84, 84),\n",
    "    'action': torch.randint(0, 6, size=(8, 1,)),\n",
    "    'reward': torch.rand(8, 1),\n",
    "})\n",
    "\n",
    "%timeit t_split(tree, 1)"
   ]
  },
  {
   "cell_type": "markdown",
   "id": "31c3ec0b",
   "metadata": {},
   "source": [
    "### Performance of Tianshou Batch"
   ]
  },
  {
   "cell_type": "code",
   "execution_count": 25,
   "id": "9ead828a",
   "metadata": {
    "execution": {
     "iopub.execute_input": "2023-03-06T10:40:22.410992Z",
     "iopub.status.busy": "2023-03-06T10:40:22.410361Z",
     "iopub.status.idle": "2023-03-06T10:40:22.419812Z",
     "shell.execute_reply": "2023-03-06T10:40:22.419001Z"
    }
   },
   "outputs": [
    {
     "data": {
      "text/plain": [
       "Batch(\n",
       "    x: Batch(\n",
       "           c: tensor([[[ 0.6249,  0.4188,  0.2662,  0.2933],\n",
       "                       [-0.0061, -0.1024, -0.6976, -0.2532],\n",
       "                       [-0.4155, -0.1005,  1.6274, -0.1806]],\n",
       "              \n",
       "                      [[ 0.6249,  0.4188,  0.2662,  0.2933],\n",
       "                       [-0.0061, -0.1024, -0.6976, -0.2532],\n",
       "                       [-0.4155, -0.1005,  1.6274, -0.1806]],\n",
       "              \n",
       "                      [[ 0.6249,  0.4188,  0.2662,  0.2933],\n",
       "                       [-0.0061, -0.1024, -0.6976, -0.2532],\n",
       "                       [-0.4155, -0.1005,  1.6274, -0.1806]],\n",
       "              \n",
       "                      [[ 0.6249,  0.4188,  0.2662,  0.2933],\n",
       "                       [-0.0061, -0.1024, -0.6976, -0.2532],\n",
       "                       [-0.4155, -0.1005,  1.6274, -0.1806]],\n",
       "              \n",
       "                      [[ 0.6249,  0.4188,  0.2662,  0.2933],\n",
       "                       [-0.0061, -0.1024, -0.6976, -0.2532],\n",
       "                       [-0.4155, -0.1005,  1.6274, -0.1806]],\n",
       "              \n",
       "                      [[ 0.6249,  0.4188,  0.2662,  0.2933],\n",
       "                       [-0.0061, -0.1024, -0.6976, -0.2532],\n",
       "                       [-0.4155, -0.1005,  1.6274, -0.1806]],\n",
       "              \n",
       "                      [[ 0.6249,  0.4188,  0.2662,  0.2933],\n",
       "                       [-0.0061, -0.1024, -0.6976, -0.2532],\n",
       "                       [-0.4155, -0.1005,  1.6274, -0.1806]],\n",
       "              \n",
       "                      [[ 0.6249,  0.4188,  0.2662,  0.2933],\n",
       "                       [-0.0061, -0.1024, -0.6976, -0.2532],\n",
       "                       [-0.4155, -0.1005,  1.6274, -0.1806]]]),\n",
       "       ),\n",
       "    a: tensor([[[-1.1733,  0.4867, -1.2827],\n",
       "                [ 0.0635, -0.0662, -1.2902]],\n",
       "       \n",
       "               [[-1.1733,  0.4867, -1.2827],\n",
       "                [ 0.0635, -0.0662, -1.2902]],\n",
       "       \n",
       "               [[-1.1733,  0.4867, -1.2827],\n",
       "                [ 0.0635, -0.0662, -1.2902]],\n",
       "       \n",
       "               [[-1.1733,  0.4867, -1.2827],\n",
       "                [ 0.0635, -0.0662, -1.2902]],\n",
       "       \n",
       "               [[-1.1733,  0.4867, -1.2827],\n",
       "                [ 0.0635, -0.0662, -1.2902]],\n",
       "       \n",
       "               [[-1.1733,  0.4867, -1.2827],\n",
       "                [ 0.0635, -0.0662, -1.2902]],\n",
       "       \n",
       "               [[-1.1733,  0.4867, -1.2827],\n",
       "                [ 0.0635, -0.0662, -1.2902]],\n",
       "       \n",
       "               [[-1.1733,  0.4867, -1.2827],\n",
       "                [ 0.0635, -0.0662, -1.2902]]]),\n",
       ")"
      ]
     },
     "execution_count": 25,
     "metadata": {},
     "output_type": "execute_result"
    }
   ],
   "source": [
    "batches = [Batch(**_TREE_DATA_2) for _ in range(8)]\n",
    "\n",
    "Batch.stack(batches)"
   ]
  },
  {
   "cell_type": "code",
   "execution_count": 26,
   "id": "ec9037a3",
   "metadata": {
    "execution": {
     "iopub.execute_input": "2023-03-06T10:40:22.423868Z",
     "iopub.status.busy": "2023-03-06T10:40:22.423371Z",
     "iopub.status.idle": "2023-03-06T10:40:30.149285Z",
     "shell.execute_reply": "2023-03-06T10:40:30.148421Z"
    }
   },
   "outputs": [
    {
     "name": "stdout",
     "output_type": "stream",
     "text": [
      "95.1 µs ± 2.2 µs per loop (mean ± std. dev. of 7 runs, 10,000 loops each)\n"
     ]
    }
   ],
   "source": [
    "%timeit Batch.stack(batches)"
   ]
  },
  {
   "cell_type": "code",
   "execution_count": 27,
   "id": "cb8ab77e",
   "metadata": {
    "execution": {
     "iopub.execute_input": "2023-03-06T10:40:30.152701Z",
     "iopub.status.busy": "2023-03-06T10:40:30.151949Z",
     "iopub.status.idle": "2023-03-06T10:40:30.162853Z",
     "shell.execute_reply": "2023-03-06T10:40:30.162047Z"
    }
   },
   "outputs": [
    {
     "data": {
      "text/plain": [
       "Batch(\n",
       "    x: Batch(\n",
       "           c: tensor([[ 0.6249,  0.4188,  0.2662,  0.2933],\n",
       "                      [-0.0061, -0.1024, -0.6976, -0.2532],\n",
       "                      [-0.4155, -0.1005,  1.6274, -0.1806],\n",
       "                      [ 0.6249,  0.4188,  0.2662,  0.2933],\n",
       "                      [-0.0061, -0.1024, -0.6976, -0.2532],\n",
       "                      [-0.4155, -0.1005,  1.6274, -0.1806],\n",
       "                      [ 0.6249,  0.4188,  0.2662,  0.2933],\n",
       "                      [-0.0061, -0.1024, -0.6976, -0.2532],\n",
       "                      [-0.4155, -0.1005,  1.6274, -0.1806],\n",
       "                      [ 0.6249,  0.4188,  0.2662,  0.2933],\n",
       "                      [-0.0061, -0.1024, -0.6976, -0.2532],\n",
       "                      [-0.4155, -0.1005,  1.6274, -0.1806],\n",
       "                      [ 0.6249,  0.4188,  0.2662,  0.2933],\n",
       "                      [-0.0061, -0.1024, -0.6976, -0.2532],\n",
       "                      [-0.4155, -0.1005,  1.6274, -0.1806],\n",
       "                      [ 0.6249,  0.4188,  0.2662,  0.2933],\n",
       "                      [-0.0061, -0.1024, -0.6976, -0.2532],\n",
       "                      [-0.4155, -0.1005,  1.6274, -0.1806],\n",
       "                      [ 0.6249,  0.4188,  0.2662,  0.2933],\n",
       "                      [-0.0061, -0.1024, -0.6976, -0.2532],\n",
       "                      [-0.4155, -0.1005,  1.6274, -0.1806],\n",
       "                      [ 0.6249,  0.4188,  0.2662,  0.2933],\n",
       "                      [-0.0061, -0.1024, -0.6976, -0.2532],\n",
       "                      [-0.4155, -0.1005,  1.6274, -0.1806]]),\n",
       "       ),\n",
       "    a: tensor([[-1.1733,  0.4867, -1.2827],\n",
       "               [ 0.0635, -0.0662, -1.2902],\n",
       "               [-1.1733,  0.4867, -1.2827],\n",
       "               [ 0.0635, -0.0662, -1.2902],\n",
       "               [-1.1733,  0.4867, -1.2827],\n",
       "               [ 0.0635, -0.0662, -1.2902],\n",
       "               [-1.1733,  0.4867, -1.2827],\n",
       "               [ 0.0635, -0.0662, -1.2902],\n",
       "               [-1.1733,  0.4867, -1.2827],\n",
       "               [ 0.0635, -0.0662, -1.2902],\n",
       "               [-1.1733,  0.4867, -1.2827],\n",
       "               [ 0.0635, -0.0662, -1.2902],\n",
       "               [-1.1733,  0.4867, -1.2827],\n",
       "               [ 0.0635, -0.0662, -1.2902],\n",
       "               [-1.1733,  0.4867, -1.2827],\n",
       "               [ 0.0635, -0.0662, -1.2902]]),\n",
       ")"
      ]
     },
     "execution_count": 27,
     "metadata": {},
     "output_type": "execute_result"
    }
   ],
   "source": [
    "Batch.cat(batches)"
   ]
  },
  {
   "cell_type": "code",
   "execution_count": 28,
   "id": "18dfb045",
   "metadata": {
    "execution": {
     "iopub.execute_input": "2023-03-06T10:40:30.175220Z",
     "iopub.status.busy": "2023-03-06T10:40:30.174736Z",
     "iopub.status.idle": "2023-03-06T10:40:44.074661Z",
     "shell.execute_reply": "2023-03-06T10:40:44.073617Z"
    }
   },
   "outputs": [
    {
     "name": "stdout",
     "output_type": "stream",
     "text": [
      "172 µs ± 3.04 µs per loop (mean ± std. dev. of 7 runs, 10,000 loops each)\n"
     ]
    }
   ],
   "source": [
    "%timeit Batch.cat(batches)"
   ]
  },
  {
   "cell_type": "code",
   "execution_count": 29,
   "id": "c6688e51",
   "metadata": {
    "execution": {
     "iopub.execute_input": "2023-03-06T10:40:44.078224Z",
     "iopub.status.busy": "2023-03-06T10:40:44.077591Z",
     "iopub.status.idle": "2023-03-06T10:40:48.293145Z",
     "shell.execute_reply": "2023-03-06T10:40:48.292266Z"
    }
   },
   "outputs": [
    {
     "name": "stdout",
     "output_type": "stream",
     "text": [
      "517 µs ± 18.1 µs per loop (mean ± std. dev. of 7 runs, 1,000 loops each)\n"
     ]
    }
   ],
   "source": [
    "batch = Batch({\n",
    "    'obs': torch.randn(8, 4, 84, 84),\n",
    "    'action': torch.randint(0, 6, size=(8, 1,)),\n",
    "    'reward': torch.rand(8, 1)}\n",
    ")\n",
    "\n",
    "%timeit list(Batch.split(batch, 1, shuffle=False, merge_last=True))"
   ]
  },
  {
   "cell_type": "code",
   "execution_count": null,
   "id": "2539fbd9",
   "metadata": {},
   "outputs": [],
   "source": []
  }
 ],
 "metadata": {
  "kernelspec": {
   "display_name": "Python 3 (ipykernel)",
   "language": "python",
   "name": "python3"
  },
  "language_info": {
   "codemirror_mode": {
    "name": "ipython",
    "version": 3
   },
   "file_extension": ".py",
   "mimetype": "text/x-python",
   "name": "python",
   "nbconvert_exporter": "python",
   "pygments_lexer": "ipython3",
   "version": "3.8.16"
  }
 },
 "nbformat": 4,
 "nbformat_minor": 5
}
