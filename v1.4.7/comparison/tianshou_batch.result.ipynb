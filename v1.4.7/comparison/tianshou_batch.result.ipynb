{
 "cells": [
  {
   "cell_type": "markdown",
   "id": "9d39d946",
   "metadata": {},
   "source": [
    "# Comparison Between TreeValue and Tianshou Batch"
   ]
  },
  {
   "cell_type": "markdown",
   "id": "3c6db2d4",
   "metadata": {},
   "source": [
    "In this section, we will take a look at the feature and performance of the [Tianshou Batch](https://github.com/thu-ml/tianshou) library, which is developed by Tsinghua Machine Learning Group."
   ]
  },
  {
   "cell_type": "markdown",
   "id": "069361b0",
   "metadata": {},
   "source": [
    "Before starting the comparison, let us define some thing."
   ]
  },
  {
   "cell_type": "code",
   "execution_count": 1,
   "id": "06fc8d26",
   "metadata": {
    "execution": {
     "iopub.execute_input": "2023-10-22T15:39:59.087145Z",
     "iopub.status.busy": "2023-10-22T15:39:59.086615Z",
     "iopub.status.idle": "2023-10-22T15:40:00.768405Z",
     "shell.execute_reply": "2023-10-22T15:40:00.767613Z"
    }
   },
   "outputs": [],
   "source": [
    "import torch \n",
    "\n",
    "_TREE_DATA_1 = {'a': 1, 'b': 2, 'x': {'c': 3, 'd': 4}}\n",
    "_TREE_DATA_2 = {\n",
    "    'a': torch.randn(2, 3), \n",
    "    'x': {\n",
    "        'c': torch.randn(3, 4)\n",
    "    },\n",
    "}\n",
    "_TREE_DATA_3 = {\n",
    "    'obs': torch.randn(4, 84, 84),\n",
    "    'action': torch.randint(0, 6, size=(1,)),\n",
    "    'reward': torch.rand(1),\n",
    "}"
   ]
  },
  {
   "cell_type": "markdown",
   "id": "83461b25",
   "metadata": {},
   "source": [
    "## Read and Write Operation"
   ]
  },
  {
   "cell_type": "markdown",
   "id": "067b3f73",
   "metadata": {},
   "source": [
    "Reading and writing are the two most common operations in the tree data structure based on the data model (TreeValue and Tianshou Batch both belong to this type), so this section will compare the reading and writing performance of these two libraries."
   ]
  },
  {
   "cell_type": "markdown",
   "id": "5d09a5b7",
   "metadata": {},
   "source": [
    "### TreeValue's Get and Set"
   ]
  },
  {
   "cell_type": "code",
   "execution_count": 2,
   "id": "9519c4bb",
   "metadata": {
    "execution": {
     "iopub.execute_input": "2023-10-22T15:40:00.772842Z",
     "iopub.status.busy": "2023-10-22T15:40:00.772311Z",
     "iopub.status.idle": "2023-10-22T15:40:01.115119Z",
     "shell.execute_reply": "2023-10-22T15:40:01.114244Z"
    }
   },
   "outputs": [],
   "source": [
    "from treevalue import FastTreeValue\n",
    "\n",
    "t = FastTreeValue(_TREE_DATA_2)"
   ]
  },
  {
   "cell_type": "code",
   "execution_count": 3,
   "id": "11c37677",
   "metadata": {
    "execution": {
     "iopub.execute_input": "2023-10-22T15:40:01.119491Z",
     "iopub.status.busy": "2023-10-22T15:40:01.118649Z",
     "iopub.status.idle": "2023-10-22T15:40:01.131044Z",
     "shell.execute_reply": "2023-10-22T15:40:01.130317Z"
    }
   },
   "outputs": [
    {
     "data": {
      "text/plain": [
       "<FastTreeValue 0x7fe1d44e0b50>\n",
       "├── 'a' --> tensor([[ 1.1956, -0.6899, -0.1991],\n",
       "│                   [-0.3943, -0.8755,  0.3890]])\n",
       "└── 'x' --> <FastTreeValue 0x7fe1d44d58b0>\n",
       "    └── 'c' --> tensor([[-0.5220,  0.0430,  0.3161,  0.5389],\n",
       "                        [ 0.7860,  0.4375,  0.5272, -1.3228],\n",
       "                        [ 1.3343, -0.8959,  1.2044,  2.3078]])"
      ]
     },
     "execution_count": 3,
     "metadata": {},
     "output_type": "execute_result"
    }
   ],
   "source": [
    "t"
   ]
  },
  {
   "cell_type": "code",
   "execution_count": 4,
   "id": "fd70b0b9",
   "metadata": {
    "execution": {
     "iopub.execute_input": "2023-10-22T15:40:01.134438Z",
     "iopub.status.busy": "2023-10-22T15:40:01.133953Z",
     "iopub.status.idle": "2023-10-22T15:40:01.141484Z",
     "shell.execute_reply": "2023-10-22T15:40:01.140862Z"
    }
   },
   "outputs": [
    {
     "data": {
      "text/plain": [
       "tensor([[ 1.1956, -0.6899, -0.1991],\n",
       "        [-0.3943, -0.8755,  0.3890]])"
      ]
     },
     "execution_count": 4,
     "metadata": {},
     "output_type": "execute_result"
    }
   ],
   "source": [
    "t.a"
   ]
  },
  {
   "cell_type": "code",
   "execution_count": 5,
   "id": "c18197bd",
   "metadata": {
    "execution": {
     "iopub.execute_input": "2023-10-22T15:40:01.145024Z",
     "iopub.status.busy": "2023-10-22T15:40:01.144431Z",
     "iopub.status.idle": "2023-10-22T15:40:07.093845Z",
     "shell.execute_reply": "2023-10-22T15:40:07.093065Z"
    }
   },
   "outputs": [
    {
     "name": "stdout",
     "output_type": "stream",
     "text": [
      "73.3 ns ± 0.0754 ns per loop (mean ± std. dev. of 7 runs, 10,000,000 loops each)\n"
     ]
    }
   ],
   "source": [
    "%timeit t.a"
   ]
  },
  {
   "cell_type": "code",
   "execution_count": 6,
   "id": "bd52f867",
   "metadata": {
    "execution": {
     "iopub.execute_input": "2023-10-22T15:40:07.098091Z",
     "iopub.status.busy": "2023-10-22T15:40:07.097307Z",
     "iopub.status.idle": "2023-10-22T15:40:07.105421Z",
     "shell.execute_reply": "2023-10-22T15:40:07.104800Z"
    }
   },
   "outputs": [
    {
     "data": {
      "text/plain": [
       "<FastTreeValue 0x7fe1d44e0b50>\n",
       "├── 'a' --> tensor([[ 0.7978,  0.1948, -1.2163],\n",
       "│                   [ 1.9775,  0.0574, -1.1254]])\n",
       "└── 'x' --> <FastTreeValue 0x7fe1d44d58b0>\n",
       "    └── 'c' --> tensor([[-0.5220,  0.0430,  0.3161,  0.5389],\n",
       "                        [ 0.7860,  0.4375,  0.5272, -1.3228],\n",
       "                        [ 1.3343, -0.8959,  1.2044,  2.3078]])"
      ]
     },
     "execution_count": 6,
     "metadata": {},
     "output_type": "execute_result"
    }
   ],
   "source": [
    "new_value = torch.randn(2, 3)\n",
    "t.a = new_value\n",
    "\n",
    "t"
   ]
  },
  {
   "cell_type": "code",
   "execution_count": 7,
   "id": "bbe04d1c",
   "metadata": {
    "execution": {
     "iopub.execute_input": "2023-10-22T15:40:07.108917Z",
     "iopub.status.busy": "2023-10-22T15:40:07.108333Z",
     "iopub.status.idle": "2023-10-22T15:40:13.243657Z",
     "shell.execute_reply": "2023-10-22T15:40:13.242034Z"
    }
   },
   "outputs": [
    {
     "name": "stdout",
     "output_type": "stream",
     "text": [
      "75.4 ns ± 0.0782 ns per loop (mean ± std. dev. of 7 runs, 10,000,000 loops each)\n"
     ]
    }
   ],
   "source": [
    "%timeit t.a = new_value"
   ]
  },
  {
   "cell_type": "markdown",
   "id": "48c49731",
   "metadata": {},
   "source": [
    "### Tianshou Batch's Get and Set"
   ]
  },
  {
   "cell_type": "code",
   "execution_count": 8,
   "id": "f1bb14c1",
   "metadata": {
    "execution": {
     "iopub.execute_input": "2023-10-22T15:40:13.248279Z",
     "iopub.status.busy": "2023-10-22T15:40:13.247616Z",
     "iopub.status.idle": "2023-10-22T15:40:13.676851Z",
     "shell.execute_reply": "2023-10-22T15:40:13.675976Z"
    }
   },
   "outputs": [],
   "source": [
    "from tianshou.data import Batch\n",
    "\n",
    "b = Batch(**_TREE_DATA_2)"
   ]
  },
  {
   "cell_type": "code",
   "execution_count": 9,
   "id": "cb0777c3",
   "metadata": {
    "execution": {
     "iopub.execute_input": "2023-10-22T15:40:13.684265Z",
     "iopub.status.busy": "2023-10-22T15:40:13.683588Z",
     "iopub.status.idle": "2023-10-22T15:40:13.691062Z",
     "shell.execute_reply": "2023-10-22T15:40:13.690320Z"
    }
   },
   "outputs": [
    {
     "data": {
      "text/plain": [
       "Batch(\n",
       "    a: tensor([[ 1.1956, -0.6899, -0.1991],\n",
       "               [-0.3943, -0.8755,  0.3890]]),\n",
       "    x: Batch(\n",
       "           c: tensor([[-0.5220,  0.0430,  0.3161,  0.5389],\n",
       "                      [ 0.7860,  0.4375,  0.5272, -1.3228],\n",
       "                      [ 1.3343, -0.8959,  1.2044,  2.3078]]),\n",
       "       ),\n",
       ")"
      ]
     },
     "execution_count": 9,
     "metadata": {},
     "output_type": "execute_result"
    }
   ],
   "source": [
    "b"
   ]
  },
  {
   "cell_type": "code",
   "execution_count": 10,
   "id": "43ef8ea3",
   "metadata": {
    "execution": {
     "iopub.execute_input": "2023-10-22T15:40:13.694995Z",
     "iopub.status.busy": "2023-10-22T15:40:13.694310Z",
     "iopub.status.idle": "2023-10-22T15:40:13.700802Z",
     "shell.execute_reply": "2023-10-22T15:40:13.700004Z"
    }
   },
   "outputs": [
    {
     "data": {
      "text/plain": [
       "tensor([[ 1.1956, -0.6899, -0.1991],\n",
       "        [-0.3943, -0.8755,  0.3890]])"
      ]
     },
     "execution_count": 10,
     "metadata": {},
     "output_type": "execute_result"
    }
   ],
   "source": [
    "b.a"
   ]
  },
  {
   "cell_type": "code",
   "execution_count": 11,
   "id": "b785ab72",
   "metadata": {
    "execution": {
     "iopub.execute_input": "2023-10-22T15:40:13.704358Z",
     "iopub.status.busy": "2023-10-22T15:40:13.703787Z",
     "iopub.status.idle": "2023-10-22T15:40:19.178518Z",
     "shell.execute_reply": "2023-10-22T15:40:19.177122Z"
    }
   },
   "outputs": [
    {
     "name": "stdout",
     "output_type": "stream",
     "text": [
      "67.4 ns ± 0.0586 ns per loop (mean ± std. dev. of 7 runs, 10,000,000 loops each)\n"
     ]
    }
   ],
   "source": [
    "%timeit b.a"
   ]
  },
  {
   "cell_type": "code",
   "execution_count": 12,
   "id": "ad54dc69",
   "metadata": {
    "execution": {
     "iopub.execute_input": "2023-10-22T15:40:19.182708Z",
     "iopub.status.busy": "2023-10-22T15:40:19.182197Z",
     "iopub.status.idle": "2023-10-22T15:40:19.190562Z",
     "shell.execute_reply": "2023-10-22T15:40:19.189847Z"
    }
   },
   "outputs": [
    {
     "data": {
      "text/plain": [
       "Batch(\n",
       "    a: tensor([[ 0.8191, -0.5526, -1.0943],\n",
       "               [ 0.9378,  1.4598, -1.1956]]),\n",
       "    x: Batch(\n",
       "           c: tensor([[-0.5220,  0.0430,  0.3161,  0.5389],\n",
       "                      [ 0.7860,  0.4375,  0.5272, -1.3228],\n",
       "                      [ 1.3343, -0.8959,  1.2044,  2.3078]]),\n",
       "       ),\n",
       ")"
      ]
     },
     "execution_count": 12,
     "metadata": {},
     "output_type": "execute_result"
    }
   ],
   "source": [
    "new_value = torch.randn(2, 3)\n",
    "b.a = new_value\n",
    "\n",
    "b"
   ]
  },
  {
   "cell_type": "code",
   "execution_count": 13,
   "id": "29b1d0bf",
   "metadata": {
    "execution": {
     "iopub.execute_input": "2023-10-22T15:40:19.193641Z",
     "iopub.status.busy": "2023-10-22T15:40:19.193327Z",
     "iopub.status.idle": "2023-10-22T15:40:23.642760Z",
     "shell.execute_reply": "2023-10-22T15:40:23.641852Z"
    }
   },
   "outputs": [
    {
     "name": "stdout",
     "output_type": "stream",
     "text": [
      "548 ns ± 0.454 ns per loop (mean ± std. dev. of 7 runs, 1,000,000 loops each)\n"
     ]
    }
   ],
   "source": [
    "%timeit b.a = new_value"
   ]
  },
  {
   "cell_type": "markdown",
   "id": "b61ad1d0",
   "metadata": {},
   "source": [
    "## Initialization"
   ]
  },
  {
   "cell_type": "markdown",
   "id": "d70f0d54",
   "metadata": {},
   "source": [
    "### TreeValue's Initialization"
   ]
  },
  {
   "cell_type": "code",
   "execution_count": 14,
   "id": "d32a679b",
   "metadata": {
    "execution": {
     "iopub.execute_input": "2023-10-22T15:40:23.646898Z",
     "iopub.status.busy": "2023-10-22T15:40:23.646364Z",
     "iopub.status.idle": "2023-10-22T15:40:30.906989Z",
     "shell.execute_reply": "2023-10-22T15:40:30.906154Z"
    }
   },
   "outputs": [
    {
     "name": "stdout",
     "output_type": "stream",
     "text": [
      "892 ns ± 2.99 ns per loop (mean ± std. dev. of 7 runs, 1,000,000 loops each)\n"
     ]
    }
   ],
   "source": [
    "%timeit FastTreeValue(_TREE_DATA_1)"
   ]
  },
  {
   "cell_type": "markdown",
   "id": "24f3707b",
   "metadata": {},
   "source": [
    "### Tianshou Batch's Initialization"
   ]
  },
  {
   "cell_type": "code",
   "execution_count": 15,
   "id": "ac3958df",
   "metadata": {
    "execution": {
     "iopub.execute_input": "2023-10-22T15:40:30.910804Z",
     "iopub.status.busy": "2023-10-22T15:40:30.910287Z",
     "iopub.status.idle": "2023-10-22T15:40:39.937605Z",
     "shell.execute_reply": "2023-10-22T15:40:39.936594Z"
    }
   },
   "outputs": [
    {
     "name": "stdout",
     "output_type": "stream",
     "text": [
      "11.1 µs ± 15.7 ns per loop (mean ± std. dev. of 7 runs, 100,000 loops each)\n"
     ]
    }
   ],
   "source": [
    "%timeit Batch(**_TREE_DATA_1)"
   ]
  },
  {
   "cell_type": "markdown",
   "id": "1ab82e2d",
   "metadata": {},
   "source": [
    "## Deep Copy Operation"
   ]
  },
  {
   "cell_type": "code",
   "execution_count": 16,
   "id": "210a9442",
   "metadata": {
    "execution": {
     "iopub.execute_input": "2023-10-22T15:40:39.941680Z",
     "iopub.status.busy": "2023-10-22T15:40:39.941052Z",
     "iopub.status.idle": "2023-10-22T15:40:39.946262Z",
     "shell.execute_reply": "2023-10-22T15:40:39.945257Z"
    }
   },
   "outputs": [],
   "source": [
    "import copy"
   ]
  },
  {
   "cell_type": "markdown",
   "id": "5a736274",
   "metadata": {},
   "source": [
    "### Deep Copy of TreeValue"
   ]
  },
  {
   "cell_type": "code",
   "execution_count": 17,
   "id": "f9bcadd6",
   "metadata": {
    "execution": {
     "iopub.execute_input": "2023-10-22T15:40:39.949756Z",
     "iopub.status.busy": "2023-10-22T15:40:39.949187Z",
     "iopub.status.idle": "2023-10-22T15:40:52.110746Z",
     "shell.execute_reply": "2023-10-22T15:40:52.109927Z"
    }
   },
   "outputs": [
    {
     "name": "stdout",
     "output_type": "stream",
     "text": [
      "150 µs ± 1.46 µs per loop (mean ± std. dev. of 7 runs, 10,000 loops each)\n"
     ]
    }
   ],
   "source": [
    "t3 = FastTreeValue(_TREE_DATA_3)\n",
    "%timeit copy.deepcopy(t3)"
   ]
  },
  {
   "cell_type": "markdown",
   "id": "bf8be7ea",
   "metadata": {},
   "source": [
    "### Deep Copy of Tianshou Batch"
   ]
  },
  {
   "cell_type": "code",
   "execution_count": 18,
   "id": "91998e6f",
   "metadata": {
    "execution": {
     "iopub.execute_input": "2023-10-22T15:40:52.114378Z",
     "iopub.status.busy": "2023-10-22T15:40:52.114095Z",
     "iopub.status.idle": "2023-10-22T15:41:04.359759Z",
     "shell.execute_reply": "2023-10-22T15:41:04.358946Z"
    }
   },
   "outputs": [
    {
     "name": "stdout",
     "output_type": "stream",
     "text": [
      "151 µs ± 1.18 µs per loop (mean ± std. dev. of 7 runs, 10,000 loops each)\n"
     ]
    }
   ],
   "source": [
    "b3 = Batch(**_TREE_DATA_3)\n",
    "%timeit copy.deepcopy(b3)"
   ]
  },
  {
   "cell_type": "markdown",
   "id": "223162fb",
   "metadata": {},
   "source": [
    "## Stack, Concat and Split Operation"
   ]
  },
  {
   "cell_type": "markdown",
   "id": "85fa4a73",
   "metadata": {},
   "source": [
    "### Performance of TreeValue"
   ]
  },
  {
   "cell_type": "code",
   "execution_count": 19,
   "id": "a0c2b697",
   "metadata": {
    "execution": {
     "iopub.execute_input": "2023-10-22T15:41:04.363594Z",
     "iopub.status.busy": "2023-10-22T15:41:04.362956Z",
     "iopub.status.idle": "2023-10-22T15:41:04.366904Z",
     "shell.execute_reply": "2023-10-22T15:41:04.366303Z"
    }
   },
   "outputs": [],
   "source": [
    "trees = [FastTreeValue(_TREE_DATA_2) for _ in range(8)]"
   ]
  },
  {
   "cell_type": "code",
   "execution_count": 20,
   "id": "017ea5a5",
   "metadata": {
    "execution": {
     "iopub.execute_input": "2023-10-22T15:41:04.369906Z",
     "iopub.status.busy": "2023-10-22T15:41:04.369430Z",
     "iopub.status.idle": "2023-10-22T15:41:04.377149Z",
     "shell.execute_reply": "2023-10-22T15:41:04.376579Z"
    }
   },
   "outputs": [
    {
     "data": {
      "text/plain": [
       "<FastTreeValue 0x7fe1d6547e50>\n",
       "├── 'a' --> tensor([[[ 1.1956, -0.6899, -0.1991],\n",
       "│                    [-0.3943, -0.8755,  0.3890]],\n",
       "│           \n",
       "│                   [[ 1.1956, -0.6899, -0.1991],\n",
       "│                    [-0.3943, -0.8755,  0.3890]],\n",
       "│           \n",
       "│                   [[ 1.1956, -0.6899, -0.1991],\n",
       "│                    [-0.3943, -0.8755,  0.3890]],\n",
       "│           \n",
       "│                   [[ 1.1956, -0.6899, -0.1991],\n",
       "│                    [-0.3943, -0.8755,  0.3890]],\n",
       "│           \n",
       "│                   [[ 1.1956, -0.6899, -0.1991],\n",
       "│                    [-0.3943, -0.8755,  0.3890]],\n",
       "│           \n",
       "│                   [[ 1.1956, -0.6899, -0.1991],\n",
       "│                    [-0.3943, -0.8755,  0.3890]],\n",
       "│           \n",
       "│                   [[ 1.1956, -0.6899, -0.1991],\n",
       "│                    [-0.3943, -0.8755,  0.3890]],\n",
       "│           \n",
       "│                   [[ 1.1956, -0.6899, -0.1991],\n",
       "│                    [-0.3943, -0.8755,  0.3890]]])\n",
       "└── 'x' --> <FastTreeValue 0x7fe1d6547c10>\n",
       "    └── 'c' --> tensor([[[-0.5220,  0.0430,  0.3161,  0.5389],\n",
       "                         [ 0.7860,  0.4375,  0.5272, -1.3228],\n",
       "                         [ 1.3343, -0.8959,  1.2044,  2.3078]],\n",
       "                \n",
       "                        [[-0.5220,  0.0430,  0.3161,  0.5389],\n",
       "                         [ 0.7860,  0.4375,  0.5272, -1.3228],\n",
       "                         [ 1.3343, -0.8959,  1.2044,  2.3078]],\n",
       "                \n",
       "                        [[-0.5220,  0.0430,  0.3161,  0.5389],\n",
       "                         [ 0.7860,  0.4375,  0.5272, -1.3228],\n",
       "                         [ 1.3343, -0.8959,  1.2044,  2.3078]],\n",
       "                \n",
       "                        [[-0.5220,  0.0430,  0.3161,  0.5389],\n",
       "                         [ 0.7860,  0.4375,  0.5272, -1.3228],\n",
       "                         [ 1.3343, -0.8959,  1.2044,  2.3078]],\n",
       "                \n",
       "                        [[-0.5220,  0.0430,  0.3161,  0.5389],\n",
       "                         [ 0.7860,  0.4375,  0.5272, -1.3228],\n",
       "                         [ 1.3343, -0.8959,  1.2044,  2.3078]],\n",
       "                \n",
       "                        [[-0.5220,  0.0430,  0.3161,  0.5389],\n",
       "                         [ 0.7860,  0.4375,  0.5272, -1.3228],\n",
       "                         [ 1.3343, -0.8959,  1.2044,  2.3078]],\n",
       "                \n",
       "                        [[-0.5220,  0.0430,  0.3161,  0.5389],\n",
       "                         [ 0.7860,  0.4375,  0.5272, -1.3228],\n",
       "                         [ 1.3343, -0.8959,  1.2044,  2.3078]],\n",
       "                \n",
       "                        [[-0.5220,  0.0430,  0.3161,  0.5389],\n",
       "                         [ 0.7860,  0.4375,  0.5272, -1.3228],\n",
       "                         [ 1.3343, -0.8959,  1.2044,  2.3078]]])"
      ]
     },
     "execution_count": 20,
     "metadata": {},
     "output_type": "execute_result"
    }
   ],
   "source": [
    "t_stack = FastTreeValue.func(subside=True)(torch.stack)\n",
    "\n",
    "t_stack(trees)"
   ]
  },
  {
   "cell_type": "code",
   "execution_count": 21,
   "id": "f8b3f415",
   "metadata": {
    "execution": {
     "iopub.execute_input": "2023-10-22T15:41:04.380083Z",
     "iopub.status.busy": "2023-10-22T15:41:04.379635Z",
     "iopub.status.idle": "2023-10-22T15:41:07.066265Z",
     "shell.execute_reply": "2023-10-22T15:41:07.065258Z"
    }
   },
   "outputs": [
    {
     "name": "stdout",
     "output_type": "stream",
     "text": [
      "33 µs ± 260 ns per loop (mean ± std. dev. of 7 runs, 10,000 loops each)\n"
     ]
    }
   ],
   "source": [
    "%timeit t_stack(trees)"
   ]
  },
  {
   "cell_type": "code",
   "execution_count": 22,
   "id": "94b56771",
   "metadata": {
    "execution": {
     "iopub.execute_input": "2023-10-22T15:41:07.071004Z",
     "iopub.status.busy": "2023-10-22T15:41:07.070265Z",
     "iopub.status.idle": "2023-10-22T15:41:07.079832Z",
     "shell.execute_reply": "2023-10-22T15:41:07.079171Z"
    }
   },
   "outputs": [
    {
     "data": {
      "text/plain": [
       "<FastTreeValue 0x7fe0ecbb1a30>\n",
       "├── 'a' --> tensor([[ 1.1956, -0.6899, -0.1991],\n",
       "│                   [-0.3943, -0.8755,  0.3890],\n",
       "│                   [ 1.1956, -0.6899, -0.1991],\n",
       "│                   [-0.3943, -0.8755,  0.3890],\n",
       "│                   [ 1.1956, -0.6899, -0.1991],\n",
       "│                   [-0.3943, -0.8755,  0.3890],\n",
       "│                   [ 1.1956, -0.6899, -0.1991],\n",
       "│                   [-0.3943, -0.8755,  0.3890],\n",
       "│                   [ 1.1956, -0.6899, -0.1991],\n",
       "│                   [-0.3943, -0.8755,  0.3890],\n",
       "│                   [ 1.1956, -0.6899, -0.1991],\n",
       "│                   [-0.3943, -0.8755,  0.3890],\n",
       "│                   [ 1.1956, -0.6899, -0.1991],\n",
       "│                   [-0.3943, -0.8755,  0.3890],\n",
       "│                   [ 1.1956, -0.6899, -0.1991],\n",
       "│                   [-0.3943, -0.8755,  0.3890]])\n",
       "└── 'x' --> <FastTreeValue 0x7fe0ed19e5b0>\n",
       "    └── 'c' --> tensor([[-0.5220,  0.0430,  0.3161,  0.5389],\n",
       "                        [ 0.7860,  0.4375,  0.5272, -1.3228],\n",
       "                        [ 1.3343, -0.8959,  1.2044,  2.3078],\n",
       "                        [-0.5220,  0.0430,  0.3161,  0.5389],\n",
       "                        [ 0.7860,  0.4375,  0.5272, -1.3228],\n",
       "                        [ 1.3343, -0.8959,  1.2044,  2.3078],\n",
       "                        [-0.5220,  0.0430,  0.3161,  0.5389],\n",
       "                        [ 0.7860,  0.4375,  0.5272, -1.3228],\n",
       "                        [ 1.3343, -0.8959,  1.2044,  2.3078],\n",
       "                        [-0.5220,  0.0430,  0.3161,  0.5389],\n",
       "                        [ 0.7860,  0.4375,  0.5272, -1.3228],\n",
       "                        [ 1.3343, -0.8959,  1.2044,  2.3078],\n",
       "                        [-0.5220,  0.0430,  0.3161,  0.5389],\n",
       "                        [ 0.7860,  0.4375,  0.5272, -1.3228],\n",
       "                        [ 1.3343, -0.8959,  1.2044,  2.3078],\n",
       "                        [-0.5220,  0.0430,  0.3161,  0.5389],\n",
       "                        [ 0.7860,  0.4375,  0.5272, -1.3228],\n",
       "                        [ 1.3343, -0.8959,  1.2044,  2.3078],\n",
       "                        [-0.5220,  0.0430,  0.3161,  0.5389],\n",
       "                        [ 0.7860,  0.4375,  0.5272, -1.3228],\n",
       "                        [ 1.3343, -0.8959,  1.2044,  2.3078],\n",
       "                        [-0.5220,  0.0430,  0.3161,  0.5389],\n",
       "                        [ 0.7860,  0.4375,  0.5272, -1.3228],\n",
       "                        [ 1.3343, -0.8959,  1.2044,  2.3078]])"
      ]
     },
     "execution_count": 22,
     "metadata": {},
     "output_type": "execute_result"
    }
   ],
   "source": [
    "t_cat = FastTreeValue.func(subside=True)(torch.cat)\n",
    "\n",
    "t_cat(trees)"
   ]
  },
  {
   "cell_type": "code",
   "execution_count": 23,
   "id": "5e9c06a6",
   "metadata": {
    "execution": {
     "iopub.execute_input": "2023-10-22T15:41:07.083096Z",
     "iopub.status.busy": "2023-10-22T15:41:07.082544Z",
     "iopub.status.idle": "2023-10-22T15:41:09.610711Z",
     "shell.execute_reply": "2023-10-22T15:41:09.609780Z"
    }
   },
   "outputs": [
    {
     "name": "stdout",
     "output_type": "stream",
     "text": [
      "31 µs ± 56.3 ns per loop (mean ± std. dev. of 7 runs, 10,000 loops each)\n"
     ]
    }
   ],
   "source": [
    "%timeit t_cat(trees)"
   ]
  },
  {
   "cell_type": "code",
   "execution_count": 24,
   "id": "a3ab5c8f",
   "metadata": {
    "execution": {
     "iopub.execute_input": "2023-10-22T15:41:09.614717Z",
     "iopub.status.busy": "2023-10-22T15:41:09.614047Z",
     "iopub.status.idle": "2023-10-22T15:41:14.972899Z",
     "shell.execute_reply": "2023-10-22T15:41:14.971916Z"
    }
   },
   "outputs": [
    {
     "name": "stdout",
     "output_type": "stream",
     "text": [
      "65.8 µs ± 73.5 ns per loop (mean ± std. dev. of 7 runs, 10,000 loops each)\n"
     ]
    }
   ],
   "source": [
    "t_split = FastTreeValue.func(rise=True)(torch.split)\n",
    "tree = FastTreeValue({\n",
    "    'obs': torch.randn(8, 4, 84, 84),\n",
    "    'action': torch.randint(0, 6, size=(8, 1,)),\n",
    "    'reward': torch.rand(8, 1),\n",
    "})\n",
    "\n",
    "%timeit t_split(tree, 1)"
   ]
  },
  {
   "cell_type": "markdown",
   "id": "31c3ec0b",
   "metadata": {},
   "source": [
    "### Performance of Tianshou Batch"
   ]
  },
  {
   "cell_type": "code",
   "execution_count": 25,
   "id": "9ead828a",
   "metadata": {
    "execution": {
     "iopub.execute_input": "2023-10-22T15:41:14.977298Z",
     "iopub.status.busy": "2023-10-22T15:41:14.976612Z",
     "iopub.status.idle": "2023-10-22T15:41:14.985996Z",
     "shell.execute_reply": "2023-10-22T15:41:14.985340Z"
    }
   },
   "outputs": [
    {
     "data": {
      "text/plain": [
       "Batch(\n",
       "    x: Batch(\n",
       "           c: tensor([[[-0.5220,  0.0430,  0.3161,  0.5389],\n",
       "                       [ 0.7860,  0.4375,  0.5272, -1.3228],\n",
       "                       [ 1.3343, -0.8959,  1.2044,  2.3078]],\n",
       "              \n",
       "                      [[-0.5220,  0.0430,  0.3161,  0.5389],\n",
       "                       [ 0.7860,  0.4375,  0.5272, -1.3228],\n",
       "                       [ 1.3343, -0.8959,  1.2044,  2.3078]],\n",
       "              \n",
       "                      [[-0.5220,  0.0430,  0.3161,  0.5389],\n",
       "                       [ 0.7860,  0.4375,  0.5272, -1.3228],\n",
       "                       [ 1.3343, -0.8959,  1.2044,  2.3078]],\n",
       "              \n",
       "                      [[-0.5220,  0.0430,  0.3161,  0.5389],\n",
       "                       [ 0.7860,  0.4375,  0.5272, -1.3228],\n",
       "                       [ 1.3343, -0.8959,  1.2044,  2.3078]],\n",
       "              \n",
       "                      [[-0.5220,  0.0430,  0.3161,  0.5389],\n",
       "                       [ 0.7860,  0.4375,  0.5272, -1.3228],\n",
       "                       [ 1.3343, -0.8959,  1.2044,  2.3078]],\n",
       "              \n",
       "                      [[-0.5220,  0.0430,  0.3161,  0.5389],\n",
       "                       [ 0.7860,  0.4375,  0.5272, -1.3228],\n",
       "                       [ 1.3343, -0.8959,  1.2044,  2.3078]],\n",
       "              \n",
       "                      [[-0.5220,  0.0430,  0.3161,  0.5389],\n",
       "                       [ 0.7860,  0.4375,  0.5272, -1.3228],\n",
       "                       [ 1.3343, -0.8959,  1.2044,  2.3078]],\n",
       "              \n",
       "                      [[-0.5220,  0.0430,  0.3161,  0.5389],\n",
       "                       [ 0.7860,  0.4375,  0.5272, -1.3228],\n",
       "                       [ 1.3343, -0.8959,  1.2044,  2.3078]]]),\n",
       "       ),\n",
       "    a: tensor([[[ 1.1956, -0.6899, -0.1991],\n",
       "                [-0.3943, -0.8755,  0.3890]],\n",
       "       \n",
       "               [[ 1.1956, -0.6899, -0.1991],\n",
       "                [-0.3943, -0.8755,  0.3890]],\n",
       "       \n",
       "               [[ 1.1956, -0.6899, -0.1991],\n",
       "                [-0.3943, -0.8755,  0.3890]],\n",
       "       \n",
       "               [[ 1.1956, -0.6899, -0.1991],\n",
       "                [-0.3943, -0.8755,  0.3890]],\n",
       "       \n",
       "               [[ 1.1956, -0.6899, -0.1991],\n",
       "                [-0.3943, -0.8755,  0.3890]],\n",
       "       \n",
       "               [[ 1.1956, -0.6899, -0.1991],\n",
       "                [-0.3943, -0.8755,  0.3890]],\n",
       "       \n",
       "               [[ 1.1956, -0.6899, -0.1991],\n",
       "                [-0.3943, -0.8755,  0.3890]],\n",
       "       \n",
       "               [[ 1.1956, -0.6899, -0.1991],\n",
       "                [-0.3943, -0.8755,  0.3890]]]),\n",
       ")"
      ]
     },
     "execution_count": 25,
     "metadata": {},
     "output_type": "execute_result"
    }
   ],
   "source": [
    "batches = [Batch(**_TREE_DATA_2) for _ in range(8)]\n",
    "\n",
    "Batch.stack(batches)"
   ]
  },
  {
   "cell_type": "code",
   "execution_count": 26,
   "id": "ec9037a3",
   "metadata": {
    "execution": {
     "iopub.execute_input": "2023-10-22T15:41:14.989210Z",
     "iopub.status.busy": "2023-10-22T15:41:14.988752Z",
     "iopub.status.idle": "2023-10-22T15:41:21.801616Z",
     "shell.execute_reply": "2023-10-22T15:41:21.800627Z"
    }
   },
   "outputs": [
    {
     "name": "stdout",
     "output_type": "stream",
     "text": [
      "83.9 µs ± 416 ns per loop (mean ± std. dev. of 7 runs, 10,000 loops each)\n"
     ]
    }
   ],
   "source": [
    "%timeit Batch.stack(batches)"
   ]
  },
  {
   "cell_type": "code",
   "execution_count": 27,
   "id": "cb8ab77e",
   "metadata": {
    "execution": {
     "iopub.execute_input": "2023-10-22T15:41:21.805885Z",
     "iopub.status.busy": "2023-10-22T15:41:21.805320Z",
     "iopub.status.idle": "2023-10-22T15:41:21.815020Z",
     "shell.execute_reply": "2023-10-22T15:41:21.814305Z"
    }
   },
   "outputs": [
    {
     "data": {
      "text/plain": [
       "Batch(\n",
       "    x: Batch(\n",
       "           c: tensor([[-0.5220,  0.0430,  0.3161,  0.5389],\n",
       "                      [ 0.7860,  0.4375,  0.5272, -1.3228],\n",
       "                      [ 1.3343, -0.8959,  1.2044,  2.3078],\n",
       "                      [-0.5220,  0.0430,  0.3161,  0.5389],\n",
       "                      [ 0.7860,  0.4375,  0.5272, -1.3228],\n",
       "                      [ 1.3343, -0.8959,  1.2044,  2.3078],\n",
       "                      [-0.5220,  0.0430,  0.3161,  0.5389],\n",
       "                      [ 0.7860,  0.4375,  0.5272, -1.3228],\n",
       "                      [ 1.3343, -0.8959,  1.2044,  2.3078],\n",
       "                      [-0.5220,  0.0430,  0.3161,  0.5389],\n",
       "                      [ 0.7860,  0.4375,  0.5272, -1.3228],\n",
       "                      [ 1.3343, -0.8959,  1.2044,  2.3078],\n",
       "                      [-0.5220,  0.0430,  0.3161,  0.5389],\n",
       "                      [ 0.7860,  0.4375,  0.5272, -1.3228],\n",
       "                      [ 1.3343, -0.8959,  1.2044,  2.3078],\n",
       "                      [-0.5220,  0.0430,  0.3161,  0.5389],\n",
       "                      [ 0.7860,  0.4375,  0.5272, -1.3228],\n",
       "                      [ 1.3343, -0.8959,  1.2044,  2.3078],\n",
       "                      [-0.5220,  0.0430,  0.3161,  0.5389],\n",
       "                      [ 0.7860,  0.4375,  0.5272, -1.3228],\n",
       "                      [ 1.3343, -0.8959,  1.2044,  2.3078],\n",
       "                      [-0.5220,  0.0430,  0.3161,  0.5389],\n",
       "                      [ 0.7860,  0.4375,  0.5272, -1.3228],\n",
       "                      [ 1.3343, -0.8959,  1.2044,  2.3078]]),\n",
       "       ),\n",
       "    a: tensor([[ 1.1956, -0.6899, -0.1991],\n",
       "               [-0.3943, -0.8755,  0.3890],\n",
       "               [ 1.1956, -0.6899, -0.1991],\n",
       "               [-0.3943, -0.8755,  0.3890],\n",
       "               [ 1.1956, -0.6899, -0.1991],\n",
       "               [-0.3943, -0.8755,  0.3890],\n",
       "               [ 1.1956, -0.6899, -0.1991],\n",
       "               [-0.3943, -0.8755,  0.3890],\n",
       "               [ 1.1956, -0.6899, -0.1991],\n",
       "               [-0.3943, -0.8755,  0.3890],\n",
       "               [ 1.1956, -0.6899, -0.1991],\n",
       "               [-0.3943, -0.8755,  0.3890],\n",
       "               [ 1.1956, -0.6899, -0.1991],\n",
       "               [-0.3943, -0.8755,  0.3890],\n",
       "               [ 1.1956, -0.6899, -0.1991],\n",
       "               [-0.3943, -0.8755,  0.3890]]),\n",
       ")"
      ]
     },
     "execution_count": 27,
     "metadata": {},
     "output_type": "execute_result"
    }
   ],
   "source": [
    "Batch.cat(batches)"
   ]
  },
  {
   "cell_type": "code",
   "execution_count": 28,
   "id": "18dfb045",
   "metadata": {
    "execution": {
     "iopub.execute_input": "2023-10-22T15:41:21.818506Z",
     "iopub.status.busy": "2023-10-22T15:41:21.818032Z",
     "iopub.status.idle": "2023-10-22T15:41:34.326974Z",
     "shell.execute_reply": "2023-10-22T15:41:34.326146Z"
    }
   },
   "outputs": [
    {
     "name": "stdout",
     "output_type": "stream",
     "text": [
      "154 µs ± 234 ns per loop (mean ± std. dev. of 7 runs, 10,000 loops each)\n"
     ]
    }
   ],
   "source": [
    "%timeit Batch.cat(batches)"
   ]
  },
  {
   "cell_type": "code",
   "execution_count": 29,
   "id": "c6688e51",
   "metadata": {
    "execution": {
     "iopub.execute_input": "2023-10-22T15:41:34.330637Z",
     "iopub.status.busy": "2023-10-22T15:41:34.330036Z",
     "iopub.status.idle": "2023-10-22T15:41:37.395749Z",
     "shell.execute_reply": "2023-10-22T15:41:37.395031Z"
    }
   },
   "outputs": [
    {
     "name": "stdout",
     "output_type": "stream",
     "text": [
      "378 µs ± 6.39 µs per loop (mean ± std. dev. of 7 runs, 1,000 loops each)\n"
     ]
    }
   ],
   "source": [
    "batch = Batch({\n",
    "    'obs': torch.randn(8, 4, 84, 84),\n",
    "    'action': torch.randint(0, 6, size=(8, 1,)),\n",
    "    'reward': torch.rand(8, 1)}\n",
    ")\n",
    "\n",
    "%timeit list(Batch.split(batch, 1, shuffle=False, merge_last=True))"
   ]
  },
  {
   "cell_type": "code",
   "execution_count": null,
   "id": "2539fbd9",
   "metadata": {},
   "outputs": [],
   "source": []
  }
 ],
 "metadata": {
  "kernelspec": {
   "display_name": "Python 3 (ipykernel)",
   "language": "python",
   "name": "python3"
  },
  "language_info": {
   "codemirror_mode": {
    "name": "ipython",
    "version": 3
   },
   "file_extension": ".py",
   "mimetype": "text/x-python",
   "name": "python",
   "nbconvert_exporter": "python",
   "pygments_lexer": "ipython3",
   "version": "3.8.18"
  }
 },
 "nbformat": 4,
 "nbformat_minor": 5
}
