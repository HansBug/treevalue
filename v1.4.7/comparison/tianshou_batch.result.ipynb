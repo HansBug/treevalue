{
 "cells": [
  {
   "cell_type": "markdown",
   "id": "9d39d946",
   "metadata": {},
   "source": [
    "# Comparison Between TreeValue and Tianshou Batch"
   ]
  },
  {
   "cell_type": "markdown",
   "id": "3c6db2d4",
   "metadata": {},
   "source": [
    "In this section, we will take a look at the feature and performance of the [Tianshou Batch](https://github.com/thu-ml/tianshou) library, which is developed by Tsinghua Machine Learning Group."
   ]
  },
  {
   "cell_type": "markdown",
   "id": "069361b0",
   "metadata": {},
   "source": [
    "Before starting the comparison, let us define some thing."
   ]
  },
  {
   "cell_type": "code",
   "execution_count": 1,
   "id": "06fc8d26",
   "metadata": {
    "execution": {
     "iopub.execute_input": "2023-10-22T16:16:58.663877Z",
     "iopub.status.busy": "2023-10-22T16:16:58.663588Z",
     "iopub.status.idle": "2023-10-22T16:17:00.612043Z",
     "shell.execute_reply": "2023-10-22T16:17:00.610900Z"
    }
   },
   "outputs": [],
   "source": [
    "import torch \n",
    "\n",
    "_TREE_DATA_1 = {'a': 1, 'b': 2, 'x': {'c': 3, 'd': 4}}\n",
    "_TREE_DATA_2 = {\n",
    "    'a': torch.randn(2, 3), \n",
    "    'x': {\n",
    "        'c': torch.randn(3, 4)\n",
    "    },\n",
    "}\n",
    "_TREE_DATA_3 = {\n",
    "    'obs': torch.randn(4, 84, 84),\n",
    "    'action': torch.randint(0, 6, size=(1,)),\n",
    "    'reward': torch.rand(1),\n",
    "}"
   ]
  },
  {
   "cell_type": "markdown",
   "id": "83461b25",
   "metadata": {},
   "source": [
    "## Read and Write Operation"
   ]
  },
  {
   "cell_type": "markdown",
   "id": "067b3f73",
   "metadata": {},
   "source": [
    "Reading and writing are the two most common operations in the tree data structure based on the data model (TreeValue and Tianshou Batch both belong to this type), so this section will compare the reading and writing performance of these two libraries."
   ]
  },
  {
   "cell_type": "markdown",
   "id": "5d09a5b7",
   "metadata": {},
   "source": [
    "### TreeValue's Get and Set"
   ]
  },
  {
   "cell_type": "code",
   "execution_count": 2,
   "id": "9519c4bb",
   "metadata": {
    "execution": {
     "iopub.execute_input": "2023-10-22T16:17:00.616770Z",
     "iopub.status.busy": "2023-10-22T16:17:00.616190Z",
     "iopub.status.idle": "2023-10-22T16:17:01.015839Z",
     "shell.execute_reply": "2023-10-22T16:17:01.014633Z"
    }
   },
   "outputs": [],
   "source": [
    "from treevalue import FastTreeValue\n",
    "\n",
    "t = FastTreeValue(_TREE_DATA_2)"
   ]
  },
  {
   "cell_type": "code",
   "execution_count": 3,
   "id": "11c37677",
   "metadata": {
    "execution": {
     "iopub.execute_input": "2023-10-22T16:17:01.021626Z",
     "iopub.status.busy": "2023-10-22T16:17:01.020878Z",
     "iopub.status.idle": "2023-10-22T16:17:01.033302Z",
     "shell.execute_reply": "2023-10-22T16:17:01.032438Z"
    }
   },
   "outputs": [
    {
     "data": {
      "text/plain": [
       "<FastTreeValue 0x7f6c50a58d90>\n",
       "├── 'a' --> tensor([[ 0.3220, -0.1523,  0.9319],\n",
       "│                   [-0.9158, -2.7671, -1.8058]])\n",
       "└── 'x' --> <FastTreeValue 0x7f6c50a58f40>\n",
       "    └── 'c' --> tensor([[ 0.2504,  0.4837, -0.8629,  1.8426],\n",
       "                        [ 0.6503, -1.4840, -1.4313,  0.6199],\n",
       "                        [ 0.4505, -1.8656,  0.3988,  0.4475]])"
      ]
     },
     "execution_count": 3,
     "metadata": {},
     "output_type": "execute_result"
    }
   ],
   "source": [
    "t"
   ]
  },
  {
   "cell_type": "code",
   "execution_count": 4,
   "id": "fd70b0b9",
   "metadata": {
    "execution": {
     "iopub.execute_input": "2023-10-22T16:17:01.038010Z",
     "iopub.status.busy": "2023-10-22T16:17:01.037327Z",
     "iopub.status.idle": "2023-10-22T16:17:01.043663Z",
     "shell.execute_reply": "2023-10-22T16:17:01.042830Z"
    }
   },
   "outputs": [
    {
     "data": {
      "text/plain": [
       "tensor([[ 0.3220, -0.1523,  0.9319],\n",
       "        [-0.9158, -2.7671, -1.8058]])"
      ]
     },
     "execution_count": 4,
     "metadata": {},
     "output_type": "execute_result"
    }
   ],
   "source": [
    "t.a"
   ]
  },
  {
   "cell_type": "code",
   "execution_count": 5,
   "id": "c18197bd",
   "metadata": {
    "execution": {
     "iopub.execute_input": "2023-10-22T16:17:01.048218Z",
     "iopub.status.busy": "2023-10-22T16:17:01.047556Z",
     "iopub.status.idle": "2023-10-22T16:17:08.188952Z",
     "shell.execute_reply": "2023-10-22T16:17:08.187794Z"
    }
   },
   "outputs": [
    {
     "name": "stdout",
     "output_type": "stream",
     "text": [
      "88 ns ± 0.0478 ns per loop (mean ± std. dev. of 7 runs, 10,000,000 loops each)\n"
     ]
    }
   ],
   "source": [
    "%timeit t.a"
   ]
  },
  {
   "cell_type": "code",
   "execution_count": 6,
   "id": "bd52f867",
   "metadata": {
    "execution": {
     "iopub.execute_input": "2023-10-22T16:17:08.194067Z",
     "iopub.status.busy": "2023-10-22T16:17:08.193260Z",
     "iopub.status.idle": "2023-10-22T16:17:08.203343Z",
     "shell.execute_reply": "2023-10-22T16:17:08.202435Z"
    }
   },
   "outputs": [
    {
     "data": {
      "text/plain": [
       "<FastTreeValue 0x7f6c50a58d90>\n",
       "├── 'a' --> tensor([[-1.1616, -0.8258, -0.1871],\n",
       "│                   [-0.9460,  0.8954, -1.0534]])\n",
       "└── 'x' --> <FastTreeValue 0x7f6c50a58f40>\n",
       "    └── 'c' --> tensor([[ 0.2504,  0.4837, -0.8629,  1.8426],\n",
       "                        [ 0.6503, -1.4840, -1.4313,  0.6199],\n",
       "                        [ 0.4505, -1.8656,  0.3988,  0.4475]])"
      ]
     },
     "execution_count": 6,
     "metadata": {},
     "output_type": "execute_result"
    }
   ],
   "source": [
    "new_value = torch.randn(2, 3)\n",
    "t.a = new_value\n",
    "\n",
    "t"
   ]
  },
  {
   "cell_type": "code",
   "execution_count": 7,
   "id": "bbe04d1c",
   "metadata": {
    "execution": {
     "iopub.execute_input": "2023-10-22T16:17:08.207924Z",
     "iopub.status.busy": "2023-10-22T16:17:08.207299Z",
     "iopub.status.idle": "2023-10-22T16:17:15.533071Z",
     "shell.execute_reply": "2023-10-22T16:17:15.532253Z"
    }
   },
   "outputs": [
    {
     "name": "stdout",
     "output_type": "stream",
     "text": [
      "90.2 ns ± 0.0722 ns per loop (mean ± std. dev. of 7 runs, 10,000,000 loops each)\n"
     ]
    }
   ],
   "source": [
    "%timeit t.a = new_value"
   ]
  },
  {
   "cell_type": "markdown",
   "id": "48c49731",
   "metadata": {},
   "source": [
    "### Tianshou Batch's Get and Set"
   ]
  },
  {
   "cell_type": "code",
   "execution_count": 8,
   "id": "f1bb14c1",
   "metadata": {
    "execution": {
     "iopub.execute_input": "2023-10-22T16:17:15.538663Z",
     "iopub.status.busy": "2023-10-22T16:17:15.536662Z",
     "iopub.status.idle": "2023-10-22T16:17:16.049445Z",
     "shell.execute_reply": "2023-10-22T16:17:16.048187Z"
    }
   },
   "outputs": [],
   "source": [
    "from tianshou.data import Batch\n",
    "\n",
    "b = Batch(**_TREE_DATA_2)"
   ]
  },
  {
   "cell_type": "code",
   "execution_count": 9,
   "id": "cb0777c3",
   "metadata": {
    "execution": {
     "iopub.execute_input": "2023-10-22T16:17:16.055237Z",
     "iopub.status.busy": "2023-10-22T16:17:16.054598Z",
     "iopub.status.idle": "2023-10-22T16:17:16.068060Z",
     "shell.execute_reply": "2023-10-22T16:17:16.067202Z"
    }
   },
   "outputs": [
    {
     "data": {
      "text/plain": [
       "Batch(\n",
       "    a: tensor([[ 0.3220, -0.1523,  0.9319],\n",
       "               [-0.9158, -2.7671, -1.8058]]),\n",
       "    x: Batch(\n",
       "           c: tensor([[ 0.2504,  0.4837, -0.8629,  1.8426],\n",
       "                      [ 0.6503, -1.4840, -1.4313,  0.6199],\n",
       "                      [ 0.4505, -1.8656,  0.3988,  0.4475]]),\n",
       "       ),\n",
       ")"
      ]
     },
     "execution_count": 9,
     "metadata": {},
     "output_type": "execute_result"
    }
   ],
   "source": [
    "b"
   ]
  },
  {
   "cell_type": "code",
   "execution_count": 10,
   "id": "43ef8ea3",
   "metadata": {
    "execution": {
     "iopub.execute_input": "2023-10-22T16:17:16.072320Z",
     "iopub.status.busy": "2023-10-22T16:17:16.071779Z",
     "iopub.status.idle": "2023-10-22T16:17:16.080249Z",
     "shell.execute_reply": "2023-10-22T16:17:16.079337Z"
    }
   },
   "outputs": [
    {
     "data": {
      "text/plain": [
       "tensor([[ 0.3220, -0.1523,  0.9319],\n",
       "        [-0.9158, -2.7671, -1.8058]])"
      ]
     },
     "execution_count": 10,
     "metadata": {},
     "output_type": "execute_result"
    }
   ],
   "source": [
    "b.a"
   ]
  },
  {
   "cell_type": "code",
   "execution_count": 11,
   "id": "b785ab72",
   "metadata": {
    "execution": {
     "iopub.execute_input": "2023-10-22T16:17:16.084220Z",
     "iopub.status.busy": "2023-10-22T16:17:16.083742Z",
     "iopub.status.idle": "2023-10-22T16:17:22.505706Z",
     "shell.execute_reply": "2023-10-22T16:17:22.504747Z"
    }
   },
   "outputs": [
    {
     "name": "stdout",
     "output_type": "stream",
     "text": [
      "79.1 ns ± 0.0542 ns per loop (mean ± std. dev. of 7 runs, 10,000,000 loops each)\n"
     ]
    }
   ],
   "source": [
    "%timeit b.a"
   ]
  },
  {
   "cell_type": "code",
   "execution_count": 12,
   "id": "ad54dc69",
   "metadata": {
    "execution": {
     "iopub.execute_input": "2023-10-22T16:17:22.510312Z",
     "iopub.status.busy": "2023-10-22T16:17:22.509729Z",
     "iopub.status.idle": "2023-10-22T16:17:22.522497Z",
     "shell.execute_reply": "2023-10-22T16:17:22.521694Z"
    }
   },
   "outputs": [
    {
     "data": {
      "text/plain": [
       "Batch(\n",
       "    a: tensor([[-1.7073, -1.7655,  1.6680],\n",
       "               [-0.3990, -1.1398,  1.4880]]),\n",
       "    x: Batch(\n",
       "           c: tensor([[ 0.2504,  0.4837, -0.8629,  1.8426],\n",
       "                      [ 0.6503, -1.4840, -1.4313,  0.6199],\n",
       "                      [ 0.4505, -1.8656,  0.3988,  0.4475]]),\n",
       "       ),\n",
       ")"
      ]
     },
     "execution_count": 12,
     "metadata": {},
     "output_type": "execute_result"
    }
   ],
   "source": [
    "new_value = torch.randn(2, 3)\n",
    "b.a = new_value\n",
    "\n",
    "b"
   ]
  },
  {
   "cell_type": "code",
   "execution_count": 13,
   "id": "29b1d0bf",
   "metadata": {
    "execution": {
     "iopub.execute_input": "2023-10-22T16:17:22.526842Z",
     "iopub.status.busy": "2023-10-22T16:17:22.526050Z",
     "iopub.status.idle": "2023-10-22T16:17:27.813533Z",
     "shell.execute_reply": "2023-10-22T16:17:27.812470Z"
    }
   },
   "outputs": [
    {
     "name": "stdout",
     "output_type": "stream",
     "text": [
      "650 ns ± 0.185 ns per loop (mean ± std. dev. of 7 runs, 1,000,000 loops each)\n"
     ]
    }
   ],
   "source": [
    "%timeit b.a = new_value"
   ]
  },
  {
   "cell_type": "markdown",
   "id": "b61ad1d0",
   "metadata": {},
   "source": [
    "## Initialization"
   ]
  },
  {
   "cell_type": "markdown",
   "id": "d70f0d54",
   "metadata": {},
   "source": [
    "### TreeValue's Initialization"
   ]
  },
  {
   "cell_type": "code",
   "execution_count": 14,
   "id": "d32a679b",
   "metadata": {
    "execution": {
     "iopub.execute_input": "2023-10-22T16:17:27.818190Z",
     "iopub.status.busy": "2023-10-22T16:17:27.817881Z",
     "iopub.status.idle": "2023-10-22T16:17:36.527023Z",
     "shell.execute_reply": "2023-10-22T16:17:36.525893Z"
    }
   },
   "outputs": [
    {
     "name": "stdout",
     "output_type": "stream",
     "text": [
      "1.07 µs ± 2.49 ns per loop (mean ± std. dev. of 7 runs, 1,000,000 loops each)\n"
     ]
    }
   ],
   "source": [
    "%timeit FastTreeValue(_TREE_DATA_1)"
   ]
  },
  {
   "cell_type": "markdown",
   "id": "24f3707b",
   "metadata": {},
   "source": [
    "### Tianshou Batch's Initialization"
   ]
  },
  {
   "cell_type": "code",
   "execution_count": 15,
   "id": "ac3958df",
   "metadata": {
    "execution": {
     "iopub.execute_input": "2023-10-22T16:17:36.531685Z",
     "iopub.status.busy": "2023-10-22T16:17:36.530838Z",
     "iopub.status.idle": "2023-10-22T16:17:46.793500Z",
     "shell.execute_reply": "2023-10-22T16:17:46.792699Z"
    }
   },
   "outputs": [
    {
     "name": "stdout",
     "output_type": "stream",
     "text": [
      "12.6 µs ± 107 ns per loop (mean ± std. dev. of 7 runs, 100,000 loops each)\n"
     ]
    }
   ],
   "source": [
    "%timeit Batch(**_TREE_DATA_1)"
   ]
  },
  {
   "cell_type": "markdown",
   "id": "1ab82e2d",
   "metadata": {},
   "source": [
    "## Deep Copy Operation"
   ]
  },
  {
   "cell_type": "code",
   "execution_count": 16,
   "id": "210a9442",
   "metadata": {
    "execution": {
     "iopub.execute_input": "2023-10-22T16:17:46.797459Z",
     "iopub.status.busy": "2023-10-22T16:17:46.796970Z",
     "iopub.status.idle": "2023-10-22T16:17:46.800881Z",
     "shell.execute_reply": "2023-10-22T16:17:46.800034Z"
    }
   },
   "outputs": [],
   "source": [
    "import copy"
   ]
  },
  {
   "cell_type": "markdown",
   "id": "5a736274",
   "metadata": {},
   "source": [
    "### Deep Copy of TreeValue"
   ]
  },
  {
   "cell_type": "code",
   "execution_count": 17,
   "id": "f9bcadd6",
   "metadata": {
    "execution": {
     "iopub.execute_input": "2023-10-22T16:17:46.805162Z",
     "iopub.status.busy": "2023-10-22T16:17:46.804517Z",
     "iopub.status.idle": "2023-10-22T16:18:01.016504Z",
     "shell.execute_reply": "2023-10-22T16:18:01.015587Z"
    }
   },
   "outputs": [
    {
     "name": "stdout",
     "output_type": "stream",
     "text": [
      "175 µs ± 2.16 µs per loop (mean ± std. dev. of 7 runs, 10,000 loops each)\n"
     ]
    }
   ],
   "source": [
    "t3 = FastTreeValue(_TREE_DATA_3)\n",
    "%timeit copy.deepcopy(t3)"
   ]
  },
  {
   "cell_type": "markdown",
   "id": "bf8be7ea",
   "metadata": {},
   "source": [
    "### Deep Copy of Tianshou Batch"
   ]
  },
  {
   "cell_type": "code",
   "execution_count": 18,
   "id": "91998e6f",
   "metadata": {
    "execution": {
     "iopub.execute_input": "2023-10-22T16:18:01.020833Z",
     "iopub.status.busy": "2023-10-22T16:18:01.020095Z",
     "iopub.status.idle": "2023-10-22T16:18:15.245695Z",
     "shell.execute_reply": "2023-10-22T16:18:15.244726Z"
    }
   },
   "outputs": [
    {
     "name": "stdout",
     "output_type": "stream",
     "text": [
      "175 µs ± 1.55 µs per loop (mean ± std. dev. of 7 runs, 10,000 loops each)\n"
     ]
    }
   ],
   "source": [
    "b3 = Batch(**_TREE_DATA_3)\n",
    "%timeit copy.deepcopy(b3)"
   ]
  },
  {
   "cell_type": "markdown",
   "id": "223162fb",
   "metadata": {},
   "source": [
    "## Stack, Concat and Split Operation"
   ]
  },
  {
   "cell_type": "markdown",
   "id": "85fa4a73",
   "metadata": {},
   "source": [
    "### Performance of TreeValue"
   ]
  },
  {
   "cell_type": "code",
   "execution_count": 19,
   "id": "a0c2b697",
   "metadata": {
    "execution": {
     "iopub.execute_input": "2023-10-22T16:18:15.250021Z",
     "iopub.status.busy": "2023-10-22T16:18:15.249443Z",
     "iopub.status.idle": "2023-10-22T16:18:15.253735Z",
     "shell.execute_reply": "2023-10-22T16:18:15.252888Z"
    }
   },
   "outputs": [],
   "source": [
    "trees = [FastTreeValue(_TREE_DATA_2) for _ in range(8)]"
   ]
  },
  {
   "cell_type": "code",
   "execution_count": 20,
   "id": "017ea5a5",
   "metadata": {
    "execution": {
     "iopub.execute_input": "2023-10-22T16:18:15.257992Z",
     "iopub.status.busy": "2023-10-22T16:18:15.257431Z",
     "iopub.status.idle": "2023-10-22T16:18:15.266926Z",
     "shell.execute_reply": "2023-10-22T16:18:15.266050Z"
    }
   },
   "outputs": [
    {
     "data": {
      "text/plain": [
       "<FastTreeValue 0x7f6c50a6fdf0>\n",
       "├── 'a' --> tensor([[[ 0.3220, -0.1523,  0.9319],\n",
       "│                    [-0.9158, -2.7671, -1.8058]],\n",
       "│           \n",
       "│                   [[ 0.3220, -0.1523,  0.9319],\n",
       "│                    [-0.9158, -2.7671, -1.8058]],\n",
       "│           \n",
       "│                   [[ 0.3220, -0.1523,  0.9319],\n",
       "│                    [-0.9158, -2.7671, -1.8058]],\n",
       "│           \n",
       "│                   [[ 0.3220, -0.1523,  0.9319],\n",
       "│                    [-0.9158, -2.7671, -1.8058]],\n",
       "│           \n",
       "│                   [[ 0.3220, -0.1523,  0.9319],\n",
       "│                    [-0.9158, -2.7671, -1.8058]],\n",
       "│           \n",
       "│                   [[ 0.3220, -0.1523,  0.9319],\n",
       "│                    [-0.9158, -2.7671, -1.8058]],\n",
       "│           \n",
       "│                   [[ 0.3220, -0.1523,  0.9319],\n",
       "│                    [-0.9158, -2.7671, -1.8058]],\n",
       "│           \n",
       "│                   [[ 0.3220, -0.1523,  0.9319],\n",
       "│                    [-0.9158, -2.7671, -1.8058]]])\n",
       "└── 'x' --> <FastTreeValue 0x7f6b67130ca0>\n",
       "    └── 'c' --> tensor([[[ 0.2504,  0.4837, -0.8629,  1.8426],\n",
       "                         [ 0.6503, -1.4840, -1.4313,  0.6199],\n",
       "                         [ 0.4505, -1.8656,  0.3988,  0.4475]],\n",
       "                \n",
       "                        [[ 0.2504,  0.4837, -0.8629,  1.8426],\n",
       "                         [ 0.6503, -1.4840, -1.4313,  0.6199],\n",
       "                         [ 0.4505, -1.8656,  0.3988,  0.4475]],\n",
       "                \n",
       "                        [[ 0.2504,  0.4837, -0.8629,  1.8426],\n",
       "                         [ 0.6503, -1.4840, -1.4313,  0.6199],\n",
       "                         [ 0.4505, -1.8656,  0.3988,  0.4475]],\n",
       "                \n",
       "                        [[ 0.2504,  0.4837, -0.8629,  1.8426],\n",
       "                         [ 0.6503, -1.4840, -1.4313,  0.6199],\n",
       "                         [ 0.4505, -1.8656,  0.3988,  0.4475]],\n",
       "                \n",
       "                        [[ 0.2504,  0.4837, -0.8629,  1.8426],\n",
       "                         [ 0.6503, -1.4840, -1.4313,  0.6199],\n",
       "                         [ 0.4505, -1.8656,  0.3988,  0.4475]],\n",
       "                \n",
       "                        [[ 0.2504,  0.4837, -0.8629,  1.8426],\n",
       "                         [ 0.6503, -1.4840, -1.4313,  0.6199],\n",
       "                         [ 0.4505, -1.8656,  0.3988,  0.4475]],\n",
       "                \n",
       "                        [[ 0.2504,  0.4837, -0.8629,  1.8426],\n",
       "                         [ 0.6503, -1.4840, -1.4313,  0.6199],\n",
       "                         [ 0.4505, -1.8656,  0.3988,  0.4475]],\n",
       "                \n",
       "                        [[ 0.2504,  0.4837, -0.8629,  1.8426],\n",
       "                         [ 0.6503, -1.4840, -1.4313,  0.6199],\n",
       "                         [ 0.4505, -1.8656,  0.3988,  0.4475]]])"
      ]
     },
     "execution_count": 20,
     "metadata": {},
     "output_type": "execute_result"
    }
   ],
   "source": [
    "t_stack = FastTreeValue.func(subside=True)(torch.stack)\n",
    "\n",
    "t_stack(trees)"
   ]
  },
  {
   "cell_type": "code",
   "execution_count": 21,
   "id": "f8b3f415",
   "metadata": {
    "execution": {
     "iopub.execute_input": "2023-10-22T16:18:15.270695Z",
     "iopub.status.busy": "2023-10-22T16:18:15.270376Z",
     "iopub.status.idle": "2023-10-22T16:18:18.515758Z",
     "shell.execute_reply": "2023-10-22T16:18:18.514830Z"
    }
   },
   "outputs": [
    {
     "name": "stdout",
     "output_type": "stream",
     "text": [
      "39.9 µs ± 104 ns per loop (mean ± std. dev. of 7 runs, 10,000 loops each)\n"
     ]
    }
   ],
   "source": [
    "%timeit t_stack(trees)"
   ]
  },
  {
   "cell_type": "code",
   "execution_count": 22,
   "id": "94b56771",
   "metadata": {
    "execution": {
     "iopub.execute_input": "2023-10-22T16:18:18.520050Z",
     "iopub.status.busy": "2023-10-22T16:18:18.519219Z",
     "iopub.status.idle": "2023-10-22T16:18:18.530863Z",
     "shell.execute_reply": "2023-10-22T16:18:18.530048Z"
    }
   },
   "outputs": [
    {
     "data": {
      "text/plain": [
       "<FastTreeValue 0x7f6b671305e0>\n",
       "├── 'a' --> tensor([[ 0.3220, -0.1523,  0.9319],\n",
       "│                   [-0.9158, -2.7671, -1.8058],\n",
       "│                   [ 0.3220, -0.1523,  0.9319],\n",
       "│                   [-0.9158, -2.7671, -1.8058],\n",
       "│                   [ 0.3220, -0.1523,  0.9319],\n",
       "│                   [-0.9158, -2.7671, -1.8058],\n",
       "│                   [ 0.3220, -0.1523,  0.9319],\n",
       "│                   [-0.9158, -2.7671, -1.8058],\n",
       "│                   [ 0.3220, -0.1523,  0.9319],\n",
       "│                   [-0.9158, -2.7671, -1.8058],\n",
       "│                   [ 0.3220, -0.1523,  0.9319],\n",
       "│                   [-0.9158, -2.7671, -1.8058],\n",
       "│                   [ 0.3220, -0.1523,  0.9319],\n",
       "│                   [-0.9158, -2.7671, -1.8058],\n",
       "│                   [ 0.3220, -0.1523,  0.9319],\n",
       "│                   [-0.9158, -2.7671, -1.8058]])\n",
       "└── 'x' --> <FastTreeValue 0x7f6b67130730>\n",
       "    └── 'c' --> tensor([[ 0.2504,  0.4837, -0.8629,  1.8426],\n",
       "                        [ 0.6503, -1.4840, -1.4313,  0.6199],\n",
       "                        [ 0.4505, -1.8656,  0.3988,  0.4475],\n",
       "                        [ 0.2504,  0.4837, -0.8629,  1.8426],\n",
       "                        [ 0.6503, -1.4840, -1.4313,  0.6199],\n",
       "                        [ 0.4505, -1.8656,  0.3988,  0.4475],\n",
       "                        [ 0.2504,  0.4837, -0.8629,  1.8426],\n",
       "                        [ 0.6503, -1.4840, -1.4313,  0.6199],\n",
       "                        [ 0.4505, -1.8656,  0.3988,  0.4475],\n",
       "                        [ 0.2504,  0.4837, -0.8629,  1.8426],\n",
       "                        [ 0.6503, -1.4840, -1.4313,  0.6199],\n",
       "                        [ 0.4505, -1.8656,  0.3988,  0.4475],\n",
       "                        [ 0.2504,  0.4837, -0.8629,  1.8426],\n",
       "                        [ 0.6503, -1.4840, -1.4313,  0.6199],\n",
       "                        [ 0.4505, -1.8656,  0.3988,  0.4475],\n",
       "                        [ 0.2504,  0.4837, -0.8629,  1.8426],\n",
       "                        [ 0.6503, -1.4840, -1.4313,  0.6199],\n",
       "                        [ 0.4505, -1.8656,  0.3988,  0.4475],\n",
       "                        [ 0.2504,  0.4837, -0.8629,  1.8426],\n",
       "                        [ 0.6503, -1.4840, -1.4313,  0.6199],\n",
       "                        [ 0.4505, -1.8656,  0.3988,  0.4475],\n",
       "                        [ 0.2504,  0.4837, -0.8629,  1.8426],\n",
       "                        [ 0.6503, -1.4840, -1.4313,  0.6199],\n",
       "                        [ 0.4505, -1.8656,  0.3988,  0.4475]])"
      ]
     },
     "execution_count": 22,
     "metadata": {},
     "output_type": "execute_result"
    }
   ],
   "source": [
    "t_cat = FastTreeValue.func(subside=True)(torch.cat)\n",
    "\n",
    "t_cat(trees)"
   ]
  },
  {
   "cell_type": "code",
   "execution_count": 23,
   "id": "5e9c06a6",
   "metadata": {
    "execution": {
     "iopub.execute_input": "2023-10-22T16:18:18.536196Z",
     "iopub.status.busy": "2023-10-22T16:18:18.534316Z",
     "iopub.status.idle": "2023-10-22T16:18:21.623265Z",
     "shell.execute_reply": "2023-10-22T16:18:21.622290Z"
    }
   },
   "outputs": [
    {
     "name": "stdout",
     "output_type": "stream",
     "text": [
      "37.6 µs ± 353 ns per loop (mean ± std. dev. of 7 runs, 10,000 loops each)\n"
     ]
    }
   ],
   "source": [
    "%timeit t_cat(trees)"
   ]
  },
  {
   "cell_type": "code",
   "execution_count": 24,
   "id": "a3ab5c8f",
   "metadata": {
    "execution": {
     "iopub.execute_input": "2023-10-22T16:18:21.627560Z",
     "iopub.status.busy": "2023-10-22T16:18:21.626842Z",
     "iopub.status.idle": "2023-10-22T16:18:27.875981Z",
     "shell.execute_reply": "2023-10-22T16:18:27.875064Z"
    }
   },
   "outputs": [
    {
     "name": "stdout",
     "output_type": "stream",
     "text": [
      "76.4 µs ± 183 ns per loop (mean ± std. dev. of 7 runs, 10,000 loops each)\n"
     ]
    }
   ],
   "source": [
    "t_split = FastTreeValue.func(rise=True)(torch.split)\n",
    "tree = FastTreeValue({\n",
    "    'obs': torch.randn(8, 4, 84, 84),\n",
    "    'action': torch.randint(0, 6, size=(8, 1,)),\n",
    "    'reward': torch.rand(8, 1),\n",
    "})\n",
    "\n",
    "%timeit t_split(tree, 1)"
   ]
  },
  {
   "cell_type": "markdown",
   "id": "31c3ec0b",
   "metadata": {},
   "source": [
    "### Performance of Tianshou Batch"
   ]
  },
  {
   "cell_type": "code",
   "execution_count": 25,
   "id": "9ead828a",
   "metadata": {
    "execution": {
     "iopub.execute_input": "2023-10-22T16:18:27.880641Z",
     "iopub.status.busy": "2023-10-22T16:18:27.879829Z",
     "iopub.status.idle": "2023-10-22T16:18:27.892302Z",
     "shell.execute_reply": "2023-10-22T16:18:27.891314Z"
    }
   },
   "outputs": [
    {
     "data": {
      "text/plain": [
       "Batch(\n",
       "    x: Batch(\n",
       "           c: tensor([[[ 0.2504,  0.4837, -0.8629,  1.8426],\n",
       "                       [ 0.6503, -1.4840, -1.4313,  0.6199],\n",
       "                       [ 0.4505, -1.8656,  0.3988,  0.4475]],\n",
       "              \n",
       "                      [[ 0.2504,  0.4837, -0.8629,  1.8426],\n",
       "                       [ 0.6503, -1.4840, -1.4313,  0.6199],\n",
       "                       [ 0.4505, -1.8656,  0.3988,  0.4475]],\n",
       "              \n",
       "                      [[ 0.2504,  0.4837, -0.8629,  1.8426],\n",
       "                       [ 0.6503, -1.4840, -1.4313,  0.6199],\n",
       "                       [ 0.4505, -1.8656,  0.3988,  0.4475]],\n",
       "              \n",
       "                      [[ 0.2504,  0.4837, -0.8629,  1.8426],\n",
       "                       [ 0.6503, -1.4840, -1.4313,  0.6199],\n",
       "                       [ 0.4505, -1.8656,  0.3988,  0.4475]],\n",
       "              \n",
       "                      [[ 0.2504,  0.4837, -0.8629,  1.8426],\n",
       "                       [ 0.6503, -1.4840, -1.4313,  0.6199],\n",
       "                       [ 0.4505, -1.8656,  0.3988,  0.4475]],\n",
       "              \n",
       "                      [[ 0.2504,  0.4837, -0.8629,  1.8426],\n",
       "                       [ 0.6503, -1.4840, -1.4313,  0.6199],\n",
       "                       [ 0.4505, -1.8656,  0.3988,  0.4475]],\n",
       "              \n",
       "                      [[ 0.2504,  0.4837, -0.8629,  1.8426],\n",
       "                       [ 0.6503, -1.4840, -1.4313,  0.6199],\n",
       "                       [ 0.4505, -1.8656,  0.3988,  0.4475]],\n",
       "              \n",
       "                      [[ 0.2504,  0.4837, -0.8629,  1.8426],\n",
       "                       [ 0.6503, -1.4840, -1.4313,  0.6199],\n",
       "                       [ 0.4505, -1.8656,  0.3988,  0.4475]]]),\n",
       "       ),\n",
       "    a: tensor([[[ 0.3220, -0.1523,  0.9319],\n",
       "                [-0.9158, -2.7671, -1.8058]],\n",
       "       \n",
       "               [[ 0.3220, -0.1523,  0.9319],\n",
       "                [-0.9158, -2.7671, -1.8058]],\n",
       "       \n",
       "               [[ 0.3220, -0.1523,  0.9319],\n",
       "                [-0.9158, -2.7671, -1.8058]],\n",
       "       \n",
       "               [[ 0.3220, -0.1523,  0.9319],\n",
       "                [-0.9158, -2.7671, -1.8058]],\n",
       "       \n",
       "               [[ 0.3220, -0.1523,  0.9319],\n",
       "                [-0.9158, -2.7671, -1.8058]],\n",
       "       \n",
       "               [[ 0.3220, -0.1523,  0.9319],\n",
       "                [-0.9158, -2.7671, -1.8058]],\n",
       "       \n",
       "               [[ 0.3220, -0.1523,  0.9319],\n",
       "                [-0.9158, -2.7671, -1.8058]],\n",
       "       \n",
       "               [[ 0.3220, -0.1523,  0.9319],\n",
       "                [-0.9158, -2.7671, -1.8058]]]),\n",
       ")"
      ]
     },
     "execution_count": 25,
     "metadata": {},
     "output_type": "execute_result"
    }
   ],
   "source": [
    "batches = [Batch(**_TREE_DATA_2) for _ in range(8)]\n",
    "\n",
    "Batch.stack(batches)"
   ]
  },
  {
   "cell_type": "code",
   "execution_count": 26,
   "id": "ec9037a3",
   "metadata": {
    "execution": {
     "iopub.execute_input": "2023-10-22T16:18:27.896634Z",
     "iopub.status.busy": "2023-10-22T16:18:27.896039Z",
     "iopub.status.idle": "2023-10-22T16:18:35.902929Z",
     "shell.execute_reply": "2023-10-22T16:18:35.902147Z"
    }
   },
   "outputs": [
    {
     "name": "stdout",
     "output_type": "stream",
     "text": [
      "98.6 µs ± 124 ns per loop (mean ± std. dev. of 7 runs, 10,000 loops each)\n"
     ]
    }
   ],
   "source": [
    "%timeit Batch.stack(batches)"
   ]
  },
  {
   "cell_type": "code",
   "execution_count": 27,
   "id": "cb8ab77e",
   "metadata": {
    "execution": {
     "iopub.execute_input": "2023-10-22T16:18:35.907789Z",
     "iopub.status.busy": "2023-10-22T16:18:35.906840Z",
     "iopub.status.idle": "2023-10-22T16:18:35.917691Z",
     "shell.execute_reply": "2023-10-22T16:18:35.916769Z"
    }
   },
   "outputs": [
    {
     "data": {
      "text/plain": [
       "Batch(\n",
       "    x: Batch(\n",
       "           c: tensor([[ 0.2504,  0.4837, -0.8629,  1.8426],\n",
       "                      [ 0.6503, -1.4840, -1.4313,  0.6199],\n",
       "                      [ 0.4505, -1.8656,  0.3988,  0.4475],\n",
       "                      [ 0.2504,  0.4837, -0.8629,  1.8426],\n",
       "                      [ 0.6503, -1.4840, -1.4313,  0.6199],\n",
       "                      [ 0.4505, -1.8656,  0.3988,  0.4475],\n",
       "                      [ 0.2504,  0.4837, -0.8629,  1.8426],\n",
       "                      [ 0.6503, -1.4840, -1.4313,  0.6199],\n",
       "                      [ 0.4505, -1.8656,  0.3988,  0.4475],\n",
       "                      [ 0.2504,  0.4837, -0.8629,  1.8426],\n",
       "                      [ 0.6503, -1.4840, -1.4313,  0.6199],\n",
       "                      [ 0.4505, -1.8656,  0.3988,  0.4475],\n",
       "                      [ 0.2504,  0.4837, -0.8629,  1.8426],\n",
       "                      [ 0.6503, -1.4840, -1.4313,  0.6199],\n",
       "                      [ 0.4505, -1.8656,  0.3988,  0.4475],\n",
       "                      [ 0.2504,  0.4837, -0.8629,  1.8426],\n",
       "                      [ 0.6503, -1.4840, -1.4313,  0.6199],\n",
       "                      [ 0.4505, -1.8656,  0.3988,  0.4475],\n",
       "                      [ 0.2504,  0.4837, -0.8629,  1.8426],\n",
       "                      [ 0.6503, -1.4840, -1.4313,  0.6199],\n",
       "                      [ 0.4505, -1.8656,  0.3988,  0.4475],\n",
       "                      [ 0.2504,  0.4837, -0.8629,  1.8426],\n",
       "                      [ 0.6503, -1.4840, -1.4313,  0.6199],\n",
       "                      [ 0.4505, -1.8656,  0.3988,  0.4475]]),\n",
       "       ),\n",
       "    a: tensor([[ 0.3220, -0.1523,  0.9319],\n",
       "               [-0.9158, -2.7671, -1.8058],\n",
       "               [ 0.3220, -0.1523,  0.9319],\n",
       "               [-0.9158, -2.7671, -1.8058],\n",
       "               [ 0.3220, -0.1523,  0.9319],\n",
       "               [-0.9158, -2.7671, -1.8058],\n",
       "               [ 0.3220, -0.1523,  0.9319],\n",
       "               [-0.9158, -2.7671, -1.8058],\n",
       "               [ 0.3220, -0.1523,  0.9319],\n",
       "               [-0.9158, -2.7671, -1.8058],\n",
       "               [ 0.3220, -0.1523,  0.9319],\n",
       "               [-0.9158, -2.7671, -1.8058],\n",
       "               [ 0.3220, -0.1523,  0.9319],\n",
       "               [-0.9158, -2.7671, -1.8058],\n",
       "               [ 0.3220, -0.1523,  0.9319],\n",
       "               [-0.9158, -2.7671, -1.8058]]),\n",
       ")"
      ]
     },
     "execution_count": 27,
     "metadata": {},
     "output_type": "execute_result"
    }
   ],
   "source": [
    "Batch.cat(batches)"
   ]
  },
  {
   "cell_type": "code",
   "execution_count": 28,
   "id": "18dfb045",
   "metadata": {
    "execution": {
     "iopub.execute_input": "2023-10-22T16:18:35.922176Z",
     "iopub.status.busy": "2023-10-22T16:18:35.921470Z",
     "iopub.status.idle": "2023-10-22T16:18:37.419531Z",
     "shell.execute_reply": "2023-10-22T16:18:37.418511Z"
    }
   },
   "outputs": [
    {
     "name": "stdout",
     "output_type": "stream",
     "text": [
      "181 µs ± 907 ns per loop (mean ± std. dev. of 7 runs, 1,000 loops each)\n"
     ]
    }
   ],
   "source": [
    "%timeit Batch.cat(batches)"
   ]
  },
  {
   "cell_type": "code",
   "execution_count": 29,
   "id": "c6688e51",
   "metadata": {
    "execution": {
     "iopub.execute_input": "2023-10-22T16:18:37.424546Z",
     "iopub.status.busy": "2023-10-22T16:18:37.423681Z",
     "iopub.status.idle": "2023-10-22T16:18:41.169678Z",
     "shell.execute_reply": "2023-10-22T16:18:41.168847Z"
    }
   },
   "outputs": [
    {
     "name": "stdout",
     "output_type": "stream",
     "text": [
      "449 µs ± 9.06 µs per loop (mean ± std. dev. of 7 runs, 1,000 loops each)\n"
     ]
    }
   ],
   "source": [
    "batch = Batch({\n",
    "    'obs': torch.randn(8, 4, 84, 84),\n",
    "    'action': torch.randint(0, 6, size=(8, 1,)),\n",
    "    'reward': torch.rand(8, 1)}\n",
    ")\n",
    "\n",
    "%timeit list(Batch.split(batch, 1, shuffle=False, merge_last=True))"
   ]
  },
  {
   "cell_type": "code",
   "execution_count": null,
   "id": "2539fbd9",
   "metadata": {},
   "outputs": [],
   "source": []
  }
 ],
 "metadata": {
  "kernelspec": {
   "display_name": "Python 3 (ipykernel)",
   "language": "python",
   "name": "python3"
  },
  "language_info": {
   "codemirror_mode": {
    "name": "ipython",
    "version": 3
   },
   "file_extension": ".py",
   "mimetype": "text/x-python",
   "name": "python",
   "nbconvert_exporter": "python",
   "pygments_lexer": "ipython3",
   "version": "3.8.18"
  }
 },
 "nbformat": 4,
 "nbformat_minor": 5
}
