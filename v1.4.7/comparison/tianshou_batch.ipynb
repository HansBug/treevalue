{
 "cells": [
  {
   "cell_type": "markdown",
   "id": "9d39d946",
   "metadata": {},
   "source": [
    "# Comparison Between TreeValue and Tianshou Batch"
   ]
  },
  {
   "cell_type": "markdown",
   "id": "3c6db2d4",
   "metadata": {},
   "source": [
    "In this section, we will take a look at the feature and performance of the [Tianshou Batch](https://github.com/thu-ml/tianshou) library, which is developed by Tsinghua Machine Learning Group."
   ]
  },
  {
   "cell_type": "markdown",
   "id": "069361b0",
   "metadata": {},
   "source": [
    "Before starting the comparison, let us define some thing."
   ]
  },
  {
   "cell_type": "code",
   "execution_count": 1,
   "id": "06fc8d26",
   "metadata": {
    "execution": {
     "iopub.execute_input": "2023-02-28T05:41:58.029737Z",
     "iopub.status.busy": "2023-02-28T05:41:58.029286Z",
     "iopub.status.idle": "2023-02-28T05:41:58.992632Z",
     "shell.execute_reply": "2023-02-28T05:41:58.991828Z"
    }
   },
   "outputs": [
    {
     "name": "stderr",
     "output_type": "stream",
     "text": [
      "/opt/hostedtoolcache/Python/3.8.16/x64/lib/python3.8/site-packages/tqdm/auto.py:22: TqdmWarning: IProgress not found. Please update jupyter and ipywidgets. See https://ipywidgets.readthedocs.io/en/stable/user_install.html\n",
      "  from .autonotebook import tqdm as notebook_tqdm\n"
     ]
    }
   ],
   "source": [
    "import torch \n",
    "\n",
    "_TREE_DATA_1 = {'a': 1, 'b': 2, 'x': {'c': 3, 'd': 4}}\n",
    "_TREE_DATA_2 = {\n",
    "    'a': torch.randn(2, 3), \n",
    "    'x': {\n",
    "        'c': torch.randn(3, 4)\n",
    "    },\n",
    "}\n",
    "_TREE_DATA_3 = {\n",
    "    'obs': torch.randn(4, 84, 84),\n",
    "    'action': torch.randint(0, 6, size=(1,)),\n",
    "    'reward': torch.rand(1),\n",
    "}"
   ]
  },
  {
   "cell_type": "markdown",
   "id": "83461b25",
   "metadata": {},
   "source": [
    "## Read and Write Operation"
   ]
  },
  {
   "cell_type": "markdown",
   "id": "067b3f73",
   "metadata": {},
   "source": [
    "Reading and writing are the two most common operations in the tree data structure based on the data model (TreeValue and Tianshou Batch both belong to this type), so this section will compare the reading and writing performance of these two libraries."
   ]
  },
  {
   "cell_type": "markdown",
   "id": "5d09a5b7",
   "metadata": {},
   "source": [
    "### TreeValue's Get and Set"
   ]
  },
  {
   "cell_type": "code",
   "execution_count": 2,
   "id": "9519c4bb",
   "metadata": {
    "execution": {
     "iopub.execute_input": "2023-02-28T05:41:58.996708Z",
     "iopub.status.busy": "2023-02-28T05:41:58.996111Z",
     "iopub.status.idle": "2023-02-28T05:41:59.289899Z",
     "shell.execute_reply": "2023-02-28T05:41:59.289036Z"
    }
   },
   "outputs": [],
   "source": [
    "from treevalue import FastTreeValue\n",
    "\n",
    "t = FastTreeValue(_TREE_DATA_2)"
   ]
  },
  {
   "cell_type": "code",
   "execution_count": 3,
   "id": "11c37677",
   "metadata": {
    "execution": {
     "iopub.execute_input": "2023-02-28T05:41:59.293459Z",
     "iopub.status.busy": "2023-02-28T05:41:59.293002Z",
     "iopub.status.idle": "2023-02-28T05:41:59.302644Z",
     "shell.execute_reply": "2023-02-28T05:41:59.302012Z"
    }
   },
   "outputs": [
    {
     "data": {
      "text/plain": [
       "<FastTreeValue 0x7fbb1c8e1d00>\n",
       "├── 'a' --> tensor([[-0.5244, -0.7549, -1.1202],\n",
       "│                   [-1.8828, -0.0444,  0.1735]])\n",
       "└── 'x' --> <FastTreeValue 0x7fbaf45bb3a0>\n",
       "    └── 'c' --> tensor([[-1.8726, -0.2404, -1.6999, -1.8528],\n",
       "                        [ 0.0086, -0.9680,  1.1147,  1.1320],\n",
       "                        [ 0.5571, -0.9068,  1.7233, -0.6001]])"
      ]
     },
     "execution_count": 3,
     "metadata": {},
     "output_type": "execute_result"
    }
   ],
   "source": [
    "t"
   ]
  },
  {
   "cell_type": "code",
   "execution_count": 4,
   "id": "fd70b0b9",
   "metadata": {
    "execution": {
     "iopub.execute_input": "2023-02-28T05:41:59.305413Z",
     "iopub.status.busy": "2023-02-28T05:41:59.304860Z",
     "iopub.status.idle": "2023-02-28T05:41:59.310912Z",
     "shell.execute_reply": "2023-02-28T05:41:59.310327Z"
    }
   },
   "outputs": [
    {
     "data": {
      "text/plain": [
       "tensor([[-0.5244, -0.7549, -1.1202],\n",
       "        [-1.8828, -0.0444,  0.1735]])"
      ]
     },
     "execution_count": 4,
     "metadata": {},
     "output_type": "execute_result"
    }
   ],
   "source": [
    "t.a"
   ]
  },
  {
   "cell_type": "code",
   "execution_count": 5,
   "id": "c18197bd",
   "metadata": {
    "execution": {
     "iopub.execute_input": "2023-02-28T05:41:59.313652Z",
     "iopub.status.busy": "2023-02-28T05:41:59.313089Z",
     "iopub.status.idle": "2023-02-28T05:42:04.399603Z",
     "shell.execute_reply": "2023-02-28T05:42:04.398819Z"
    }
   },
   "outputs": [
    {
     "name": "stdout",
     "output_type": "stream",
     "text": [
      "62.6 ns ± 0.0853 ns per loop (mean ± std. dev. of 7 runs, 10,000,000 loops each)\n"
     ]
    }
   ],
   "source": [
    "%timeit t.a"
   ]
  },
  {
   "cell_type": "code",
   "execution_count": 6,
   "id": "bd52f867",
   "metadata": {
    "execution": {
     "iopub.execute_input": "2023-02-28T05:42:04.402873Z",
     "iopub.status.busy": "2023-02-28T05:42:04.402508Z",
     "iopub.status.idle": "2023-02-28T05:42:04.408800Z",
     "shell.execute_reply": "2023-02-28T05:42:04.408131Z"
    }
   },
   "outputs": [
    {
     "data": {
      "text/plain": [
       "<FastTreeValue 0x7fbb1c8e1d00>\n",
       "├── 'a' --> tensor([[-0.5495,  0.4204, -0.0300],\n",
       "│                   [ 1.3260,  1.4084,  0.4304]])\n",
       "└── 'x' --> <FastTreeValue 0x7fbaf45bb3a0>\n",
       "    └── 'c' --> tensor([[-1.8726, -0.2404, -1.6999, -1.8528],\n",
       "                        [ 0.0086, -0.9680,  1.1147,  1.1320],\n",
       "                        [ 0.5571, -0.9068,  1.7233, -0.6001]])"
      ]
     },
     "execution_count": 6,
     "metadata": {},
     "output_type": "execute_result"
    }
   ],
   "source": [
    "new_value = torch.randn(2, 3)\n",
    "t.a = new_value\n",
    "\n",
    "t"
   ]
  },
  {
   "cell_type": "code",
   "execution_count": 7,
   "id": "bbe04d1c",
   "metadata": {
    "execution": {
     "iopub.execute_input": "2023-02-28T05:42:04.411463Z",
     "iopub.status.busy": "2023-02-28T05:42:04.411110Z",
     "iopub.status.idle": "2023-02-28T05:42:09.863242Z",
     "shell.execute_reply": "2023-02-28T05:42:09.862466Z"
    }
   },
   "outputs": [
    {
     "name": "stdout",
     "output_type": "stream",
     "text": [
      "67.1 ns ± 0.0497 ns per loop (mean ± std. dev. of 7 runs, 10,000,000 loops each)\n"
     ]
    }
   ],
   "source": [
    "%timeit t.a = new_value"
   ]
  },
  {
   "cell_type": "markdown",
   "id": "48c49731",
   "metadata": {},
   "source": [
    "### Tianshou Batch's Get and Set"
   ]
  },
  {
   "cell_type": "code",
   "execution_count": 8,
   "id": "f1bb14c1",
   "metadata": {
    "execution": {
     "iopub.execute_input": "2023-02-28T05:42:09.866733Z",
     "iopub.status.busy": "2023-02-28T05:42:09.866178Z",
     "iopub.status.idle": "2023-02-28T05:42:10.223670Z",
     "shell.execute_reply": "2023-02-28T05:42:10.222920Z"
    }
   },
   "outputs": [],
   "source": [
    "from tianshou.data import Batch\n",
    "\n",
    "b = Batch(**_TREE_DATA_2)"
   ]
  },
  {
   "cell_type": "code",
   "execution_count": 9,
   "id": "cb0777c3",
   "metadata": {
    "execution": {
     "iopub.execute_input": "2023-02-28T05:42:10.227311Z",
     "iopub.status.busy": "2023-02-28T05:42:10.226818Z",
     "iopub.status.idle": "2023-02-28T05:42:10.234273Z",
     "shell.execute_reply": "2023-02-28T05:42:10.233613Z"
    }
   },
   "outputs": [
    {
     "data": {
      "text/plain": [
       "Batch(\n",
       "    a: tensor([[-0.5244, -0.7549, -1.1202],\n",
       "               [-1.8828, -0.0444,  0.1735]]),\n",
       "    x: Batch(\n",
       "           c: tensor([[-1.8726, -0.2404, -1.6999, -1.8528],\n",
       "                      [ 0.0086, -0.9680,  1.1147,  1.1320],\n",
       "                      [ 0.5571, -0.9068,  1.7233, -0.6001]]),\n",
       "       ),\n",
       ")"
      ]
     },
     "execution_count": 9,
     "metadata": {},
     "output_type": "execute_result"
    }
   ],
   "source": [
    "b"
   ]
  },
  {
   "cell_type": "code",
   "execution_count": 10,
   "id": "43ef8ea3",
   "metadata": {
    "execution": {
     "iopub.execute_input": "2023-02-28T05:42:10.236960Z",
     "iopub.status.busy": "2023-02-28T05:42:10.236519Z",
     "iopub.status.idle": "2023-02-28T05:42:10.241512Z",
     "shell.execute_reply": "2023-02-28T05:42:10.240839Z"
    }
   },
   "outputs": [
    {
     "data": {
      "text/plain": [
       "tensor([[-0.5244, -0.7549, -1.1202],\n",
       "        [-1.8828, -0.0444,  0.1735]])"
      ]
     },
     "execution_count": 10,
     "metadata": {},
     "output_type": "execute_result"
    }
   ],
   "source": [
    "b.a"
   ]
  },
  {
   "cell_type": "code",
   "execution_count": 11,
   "id": "b785ab72",
   "metadata": {
    "execution": {
     "iopub.execute_input": "2023-02-28T05:42:10.244372Z",
     "iopub.status.busy": "2023-02-28T05:42:10.243905Z",
     "iopub.status.idle": "2023-02-28T05:42:15.124924Z",
     "shell.execute_reply": "2023-02-28T05:42:15.124075Z"
    }
   },
   "outputs": [
    {
     "name": "stdout",
     "output_type": "stream",
     "text": [
      "60.3 ns ± 0.0276 ns per loop (mean ± std. dev. of 7 runs, 10,000,000 loops each)\n"
     ]
    }
   ],
   "source": [
    "%timeit b.a"
   ]
  },
  {
   "cell_type": "code",
   "execution_count": 12,
   "id": "ad54dc69",
   "metadata": {
    "execution": {
     "iopub.execute_input": "2023-02-28T05:42:15.128162Z",
     "iopub.status.busy": "2023-02-28T05:42:15.127698Z",
     "iopub.status.idle": "2023-02-28T05:42:15.133701Z",
     "shell.execute_reply": "2023-02-28T05:42:15.133019Z"
    }
   },
   "outputs": [
    {
     "data": {
      "text/plain": [
       "Batch(\n",
       "    a: tensor([[-1.3042,  0.8511,  0.7584],\n",
       "               [ 0.6697,  0.4747,  0.5943]]),\n",
       "    x: Batch(\n",
       "           c: tensor([[-1.8726, -0.2404, -1.6999, -1.8528],\n",
       "                      [ 0.0086, -0.9680,  1.1147,  1.1320],\n",
       "                      [ 0.5571, -0.9068,  1.7233, -0.6001]]),\n",
       "       ),\n",
       ")"
      ]
     },
     "execution_count": 12,
     "metadata": {},
     "output_type": "execute_result"
    }
   ],
   "source": [
    "new_value = torch.randn(2, 3)\n",
    "b.a = new_value\n",
    "\n",
    "b"
   ]
  },
  {
   "cell_type": "code",
   "execution_count": 13,
   "id": "29b1d0bf",
   "metadata": {
    "execution": {
     "iopub.execute_input": "2023-02-28T05:42:15.136289Z",
     "iopub.status.busy": "2023-02-28T05:42:15.135845Z",
     "iopub.status.idle": "2023-02-28T05:42:19.138313Z",
     "shell.execute_reply": "2023-02-28T05:42:19.137264Z"
    }
   },
   "outputs": [
    {
     "name": "stdout",
     "output_type": "stream",
     "text": [
      "492 ns ± 6.49 ns per loop (mean ± std. dev. of 7 runs, 1,000,000 loops each)\n"
     ]
    }
   ],
   "source": [
    "%timeit b.a = new_value"
   ]
  },
  {
   "cell_type": "markdown",
   "id": "b61ad1d0",
   "metadata": {},
   "source": [
    "## Initialization"
   ]
  },
  {
   "cell_type": "markdown",
   "id": "d70f0d54",
   "metadata": {},
   "source": [
    "### TreeValue's Initialization"
   ]
  },
  {
   "cell_type": "code",
   "execution_count": 14,
   "id": "d32a679b",
   "metadata": {
    "execution": {
     "iopub.execute_input": "2023-02-28T05:42:19.141557Z",
     "iopub.status.busy": "2023-02-28T05:42:19.141088Z",
     "iopub.status.idle": "2023-02-28T05:42:25.746656Z",
     "shell.execute_reply": "2023-02-28T05:42:25.745794Z"
    }
   },
   "outputs": [
    {
     "name": "stdout",
     "output_type": "stream",
     "text": [
      "814 ns ± 0.0759 ns per loop (mean ± std. dev. of 7 runs, 1,000,000 loops each)\n"
     ]
    }
   ],
   "source": [
    "%timeit FastTreeValue(_TREE_DATA_1)"
   ]
  },
  {
   "cell_type": "markdown",
   "id": "24f3707b",
   "metadata": {},
   "source": [
    "### Tianshou Batch's Initialization"
   ]
  },
  {
   "cell_type": "code",
   "execution_count": 15,
   "id": "ac3958df",
   "metadata": {
    "execution": {
     "iopub.execute_input": "2023-02-28T05:42:25.750306Z",
     "iopub.status.busy": "2023-02-28T05:42:25.749805Z",
     "iopub.status.idle": "2023-02-28T05:42:34.403383Z",
     "shell.execute_reply": "2023-02-28T05:42:34.402501Z"
    }
   },
   "outputs": [
    {
     "name": "stdout",
     "output_type": "stream",
     "text": [
      "10.7 µs ± 50.6 ns per loop (mean ± std. dev. of 7 runs, 100,000 loops each)\n"
     ]
    }
   ],
   "source": [
    "%timeit Batch(**_TREE_DATA_1)"
   ]
  },
  {
   "cell_type": "markdown",
   "id": "1ab82e2d",
   "metadata": {},
   "source": [
    "## Deep Copy Operation"
   ]
  },
  {
   "cell_type": "code",
   "execution_count": 16,
   "id": "210a9442",
   "metadata": {
    "execution": {
     "iopub.execute_input": "2023-02-28T05:42:34.406565Z",
     "iopub.status.busy": "2023-02-28T05:42:34.406173Z",
     "iopub.status.idle": "2023-02-28T05:42:34.410294Z",
     "shell.execute_reply": "2023-02-28T05:42:34.409682Z"
    }
   },
   "outputs": [],
   "source": [
    "import copy"
   ]
  },
  {
   "cell_type": "markdown",
   "id": "5a736274",
   "metadata": {},
   "source": [
    "### Deep Copy of TreeValue"
   ]
  },
  {
   "cell_type": "code",
   "execution_count": 17,
   "id": "f9bcadd6",
   "metadata": {
    "execution": {
     "iopub.execute_input": "2023-02-28T05:42:34.413454Z",
     "iopub.status.busy": "2023-02-28T05:42:34.412881Z",
     "iopub.status.idle": "2023-02-28T05:42:46.206128Z",
     "shell.execute_reply": "2023-02-28T05:42:46.205428Z"
    }
   },
   "outputs": [
    {
     "name": "stdout",
     "output_type": "stream",
     "text": [
      "145 µs ± 339 ns per loop (mean ± std. dev. of 7 runs, 10,000 loops each)\n"
     ]
    }
   ],
   "source": [
    "t3 = FastTreeValue(_TREE_DATA_3)\n",
    "%timeit copy.deepcopy(t3)"
   ]
  },
  {
   "cell_type": "markdown",
   "id": "bf8be7ea",
   "metadata": {},
   "source": [
    "### Deep Copy of Tianshou Batch"
   ]
  },
  {
   "cell_type": "code",
   "execution_count": 18,
   "id": "91998e6f",
   "metadata": {
    "execution": {
     "iopub.execute_input": "2023-02-28T05:42:46.209209Z",
     "iopub.status.busy": "2023-02-28T05:42:46.208808Z",
     "iopub.status.idle": "2023-02-28T05:42:58.049385Z",
     "shell.execute_reply": "2023-02-28T05:42:58.048658Z"
    }
   },
   "outputs": [
    {
     "name": "stdout",
     "output_type": "stream",
     "text": [
      "146 µs ± 281 ns per loop (mean ± std. dev. of 7 runs, 10,000 loops each)\n"
     ]
    }
   ],
   "source": [
    "b3 = Batch(**_TREE_DATA_3)\n",
    "%timeit copy.deepcopy(b3)"
   ]
  },
  {
   "cell_type": "markdown",
   "id": "223162fb",
   "metadata": {},
   "source": [
    "## Stack, Concat and Split Operation"
   ]
  },
  {
   "cell_type": "markdown",
   "id": "85fa4a73",
   "metadata": {},
   "source": [
    "### Performance of TreeValue"
   ]
  },
  {
   "cell_type": "code",
   "execution_count": 19,
   "id": "a0c2b697",
   "metadata": {
    "execution": {
     "iopub.execute_input": "2023-02-28T05:42:58.052901Z",
     "iopub.status.busy": "2023-02-28T05:42:58.052489Z",
     "iopub.status.idle": "2023-02-28T05:42:58.056597Z",
     "shell.execute_reply": "2023-02-28T05:42:58.055974Z"
    }
   },
   "outputs": [],
   "source": [
    "trees = [FastTreeValue(_TREE_DATA_2) for _ in range(8)]"
   ]
  },
  {
   "cell_type": "code",
   "execution_count": 20,
   "id": "017ea5a5",
   "metadata": {
    "execution": {
     "iopub.execute_input": "2023-02-28T05:42:58.060285Z",
     "iopub.status.busy": "2023-02-28T05:42:58.059210Z",
     "iopub.status.idle": "2023-02-28T05:42:58.068292Z",
     "shell.execute_reply": "2023-02-28T05:42:58.067674Z"
    }
   },
   "outputs": [
    {
     "data": {
      "text/plain": [
       "<FastTreeValue 0x7fbb1c8d8c40>\n",
       "├── 'a' --> tensor([[[-0.5244, -0.7549, -1.1202],\n",
       "│                    [-1.8828, -0.0444,  0.1735]],\n",
       "│           \n",
       "│                   [[-0.5244, -0.7549, -1.1202],\n",
       "│                    [-1.8828, -0.0444,  0.1735]],\n",
       "│           \n",
       "│                   [[-0.5244, -0.7549, -1.1202],\n",
       "│                    [-1.8828, -0.0444,  0.1735]],\n",
       "│           \n",
       "│                   [[-0.5244, -0.7549, -1.1202],\n",
       "│                    [-1.8828, -0.0444,  0.1735]],\n",
       "│           \n",
       "│                   [[-0.5244, -0.7549, -1.1202],\n",
       "│                    [-1.8828, -0.0444,  0.1735]],\n",
       "│           \n",
       "│                   [[-0.5244, -0.7549, -1.1202],\n",
       "│                    [-1.8828, -0.0444,  0.1735]],\n",
       "│           \n",
       "│                   [[-0.5244, -0.7549, -1.1202],\n",
       "│                    [-1.8828, -0.0444,  0.1735]],\n",
       "│           \n",
       "│                   [[-0.5244, -0.7549, -1.1202],\n",
       "│                    [-1.8828, -0.0444,  0.1735]]])\n",
       "└── 'x' --> <FastTreeValue 0x7fbb1c8d8ca0>\n",
       "    └── 'c' --> tensor([[[-1.8726, -0.2404, -1.6999, -1.8528],\n",
       "                         [ 0.0086, -0.9680,  1.1147,  1.1320],\n",
       "                         [ 0.5571, -0.9068,  1.7233, -0.6001]],\n",
       "                \n",
       "                        [[-1.8726, -0.2404, -1.6999, -1.8528],\n",
       "                         [ 0.0086, -0.9680,  1.1147,  1.1320],\n",
       "                         [ 0.5571, -0.9068,  1.7233, -0.6001]],\n",
       "                \n",
       "                        [[-1.8726, -0.2404, -1.6999, -1.8528],\n",
       "                         [ 0.0086, -0.9680,  1.1147,  1.1320],\n",
       "                         [ 0.5571, -0.9068,  1.7233, -0.6001]],\n",
       "                \n",
       "                        [[-1.8726, -0.2404, -1.6999, -1.8528],\n",
       "                         [ 0.0086, -0.9680,  1.1147,  1.1320],\n",
       "                         [ 0.5571, -0.9068,  1.7233, -0.6001]],\n",
       "                \n",
       "                        [[-1.8726, -0.2404, -1.6999, -1.8528],\n",
       "                         [ 0.0086, -0.9680,  1.1147,  1.1320],\n",
       "                         [ 0.5571, -0.9068,  1.7233, -0.6001]],\n",
       "                \n",
       "                        [[-1.8726, -0.2404, -1.6999, -1.8528],\n",
       "                         [ 0.0086, -0.9680,  1.1147,  1.1320],\n",
       "                         [ 0.5571, -0.9068,  1.7233, -0.6001]],\n",
       "                \n",
       "                        [[-1.8726, -0.2404, -1.6999, -1.8528],\n",
       "                         [ 0.0086, -0.9680,  1.1147,  1.1320],\n",
       "                         [ 0.5571, -0.9068,  1.7233, -0.6001]],\n",
       "                \n",
       "                        [[-1.8726, -0.2404, -1.6999, -1.8528],\n",
       "                         [ 0.0086, -0.9680,  1.1147,  1.1320],\n",
       "                         [ 0.5571, -0.9068,  1.7233, -0.6001]]])"
      ]
     },
     "execution_count": 20,
     "metadata": {},
     "output_type": "execute_result"
    }
   ],
   "source": [
    "t_stack = FastTreeValue.func(subside=True)(torch.stack)\n",
    "\n",
    "t_stack(trees)"
   ]
  },
  {
   "cell_type": "code",
   "execution_count": 21,
   "id": "f8b3f415",
   "metadata": {
    "execution": {
     "iopub.execute_input": "2023-02-28T05:42:58.071882Z",
     "iopub.status.busy": "2023-02-28T05:42:58.070852Z",
     "iopub.status.idle": "2023-02-28T05:43:00.669100Z",
     "shell.execute_reply": "2023-02-28T05:43:00.668245Z"
    }
   },
   "outputs": [
    {
     "name": "stdout",
     "output_type": "stream",
     "text": [
      "32 µs ± 74 ns per loop (mean ± std. dev. of 7 runs, 10,000 loops each)\n"
     ]
    }
   ],
   "source": [
    "%timeit t_stack(trees)"
   ]
  },
  {
   "cell_type": "code",
   "execution_count": 22,
   "id": "94b56771",
   "metadata": {
    "execution": {
     "iopub.execute_input": "2023-02-28T05:43:00.672148Z",
     "iopub.status.busy": "2023-02-28T05:43:00.671767Z",
     "iopub.status.idle": "2023-02-28T05:43:00.680681Z",
     "shell.execute_reply": "2023-02-28T05:43:00.680074Z"
    }
   },
   "outputs": [
    {
     "data": {
      "text/plain": [
       "<FastTreeValue 0x7fba66195ca0>\n",
       "├── 'a' --> tensor([[-0.5244, -0.7549, -1.1202],\n",
       "│                   [-1.8828, -0.0444,  0.1735],\n",
       "│                   [-0.5244, -0.7549, -1.1202],\n",
       "│                   [-1.8828, -0.0444,  0.1735],\n",
       "│                   [-0.5244, -0.7549, -1.1202],\n",
       "│                   [-1.8828, -0.0444,  0.1735],\n",
       "│                   [-0.5244, -0.7549, -1.1202],\n",
       "│                   [-1.8828, -0.0444,  0.1735],\n",
       "│                   [-0.5244, -0.7549, -1.1202],\n",
       "│                   [-1.8828, -0.0444,  0.1735],\n",
       "│                   [-0.5244, -0.7549, -1.1202],\n",
       "│                   [-1.8828, -0.0444,  0.1735],\n",
       "│                   [-0.5244, -0.7549, -1.1202],\n",
       "│                   [-1.8828, -0.0444,  0.1735],\n",
       "│                   [-0.5244, -0.7549, -1.1202],\n",
       "│                   [-1.8828, -0.0444,  0.1735]])\n",
       "└── 'x' --> <FastTreeValue 0x7fba65bca820>\n",
       "    └── 'c' --> tensor([[-1.8726, -0.2404, -1.6999, -1.8528],\n",
       "                        [ 0.0086, -0.9680,  1.1147,  1.1320],\n",
       "                        [ 0.5571, -0.9068,  1.7233, -0.6001],\n",
       "                        [-1.8726, -0.2404, -1.6999, -1.8528],\n",
       "                        [ 0.0086, -0.9680,  1.1147,  1.1320],\n",
       "                        [ 0.5571, -0.9068,  1.7233, -0.6001],\n",
       "                        [-1.8726, -0.2404, -1.6999, -1.8528],\n",
       "                        [ 0.0086, -0.9680,  1.1147,  1.1320],\n",
       "                        [ 0.5571, -0.9068,  1.7233, -0.6001],\n",
       "                        [-1.8726, -0.2404, -1.6999, -1.8528],\n",
       "                        [ 0.0086, -0.9680,  1.1147,  1.1320],\n",
       "                        [ 0.5571, -0.9068,  1.7233, -0.6001],\n",
       "                        [-1.8726, -0.2404, -1.6999, -1.8528],\n",
       "                        [ 0.0086, -0.9680,  1.1147,  1.1320],\n",
       "                        [ 0.5571, -0.9068,  1.7233, -0.6001],\n",
       "                        [-1.8726, -0.2404, -1.6999, -1.8528],\n",
       "                        [ 0.0086, -0.9680,  1.1147,  1.1320],\n",
       "                        [ 0.5571, -0.9068,  1.7233, -0.6001],\n",
       "                        [-1.8726, -0.2404, -1.6999, -1.8528],\n",
       "                        [ 0.0086, -0.9680,  1.1147,  1.1320],\n",
       "                        [ 0.5571, -0.9068,  1.7233, -0.6001],\n",
       "                        [-1.8726, -0.2404, -1.6999, -1.8528],\n",
       "                        [ 0.0086, -0.9680,  1.1147,  1.1320],\n",
       "                        [ 0.5571, -0.9068,  1.7233, -0.6001]])"
      ]
     },
     "execution_count": 22,
     "metadata": {},
     "output_type": "execute_result"
    }
   ],
   "source": [
    "t_cat = FastTreeValue.func(subside=True)(torch.cat)\n",
    "\n",
    "t_cat(trees)"
   ]
  },
  {
   "cell_type": "code",
   "execution_count": 23,
   "id": "5e9c06a6",
   "metadata": {
    "execution": {
     "iopub.execute_input": "2023-02-28T05:43:00.683707Z",
     "iopub.status.busy": "2023-02-28T05:43:00.683190Z",
     "iopub.status.idle": "2023-02-28T05:43:03.142779Z",
     "shell.execute_reply": "2023-02-28T05:43:03.141923Z"
    }
   },
   "outputs": [
    {
     "name": "stdout",
     "output_type": "stream",
     "text": [
      "30.2 µs ± 28.3 ns per loop (mean ± std. dev. of 7 runs, 10,000 loops each)\n"
     ]
    }
   ],
   "source": [
    "%timeit t_cat(trees)"
   ]
  },
  {
   "cell_type": "code",
   "execution_count": 24,
   "id": "a3ab5c8f",
   "metadata": {
    "execution": {
     "iopub.execute_input": "2023-02-28T05:43:03.146036Z",
     "iopub.status.busy": "2023-02-28T05:43:03.145418Z",
     "iopub.status.idle": "2023-02-28T05:43:07.789865Z",
     "shell.execute_reply": "2023-02-28T05:43:07.789001Z"
    }
   },
   "outputs": [
    {
     "name": "stdout",
     "output_type": "stream",
     "text": [
      "57.1 µs ± 49.3 ns per loop (mean ± std. dev. of 7 runs, 10,000 loops each)\n"
     ]
    }
   ],
   "source": [
    "t_split = FastTreeValue.func(rise=True)(torch.split)\n",
    "tree = FastTreeValue({\n",
    "    'obs': torch.randn(8, 4, 84, 84),\n",
    "    'action': torch.randint(0, 6, size=(8, 1,)),\n",
    "    'reward': torch.rand(8, 1),\n",
    "})\n",
    "\n",
    "%timeit t_split(tree, 1)"
   ]
  },
  {
   "cell_type": "markdown",
   "id": "31c3ec0b",
   "metadata": {},
   "source": [
    "### Performance of Tianshou Batch"
   ]
  },
  {
   "cell_type": "code",
   "execution_count": 25,
   "id": "9ead828a",
   "metadata": {
    "execution": {
     "iopub.execute_input": "2023-02-28T05:43:07.793475Z",
     "iopub.status.busy": "2023-02-28T05:43:07.793013Z",
     "iopub.status.idle": "2023-02-28T05:43:07.801652Z",
     "shell.execute_reply": "2023-02-28T05:43:07.800561Z"
    }
   },
   "outputs": [
    {
     "data": {
      "text/plain": [
       "Batch(\n",
       "    a: tensor([[[-0.5244, -0.7549, -1.1202],\n",
       "                [-1.8828, -0.0444,  0.1735]],\n",
       "       \n",
       "               [[-0.5244, -0.7549, -1.1202],\n",
       "                [-1.8828, -0.0444,  0.1735]],\n",
       "       \n",
       "               [[-0.5244, -0.7549, -1.1202],\n",
       "                [-1.8828, -0.0444,  0.1735]],\n",
       "       \n",
       "               [[-0.5244, -0.7549, -1.1202],\n",
       "                [-1.8828, -0.0444,  0.1735]],\n",
       "       \n",
       "               [[-0.5244, -0.7549, -1.1202],\n",
       "                [-1.8828, -0.0444,  0.1735]],\n",
       "       \n",
       "               [[-0.5244, -0.7549, -1.1202],\n",
       "                [-1.8828, -0.0444,  0.1735]],\n",
       "       \n",
       "               [[-0.5244, -0.7549, -1.1202],\n",
       "                [-1.8828, -0.0444,  0.1735]],\n",
       "       \n",
       "               [[-0.5244, -0.7549, -1.1202],\n",
       "                [-1.8828, -0.0444,  0.1735]]]),\n",
       "    x: Batch(\n",
       "           c: tensor([[[-1.8726, -0.2404, -1.6999, -1.8528],\n",
       "                       [ 0.0086, -0.9680,  1.1147,  1.1320],\n",
       "                       [ 0.5571, -0.9068,  1.7233, -0.6001]],\n",
       "              \n",
       "                      [[-1.8726, -0.2404, -1.6999, -1.8528],\n",
       "                       [ 0.0086, -0.9680,  1.1147,  1.1320],\n",
       "                       [ 0.5571, -0.9068,  1.7233, -0.6001]],\n",
       "              \n",
       "                      [[-1.8726, -0.2404, -1.6999, -1.8528],\n",
       "                       [ 0.0086, -0.9680,  1.1147,  1.1320],\n",
       "                       [ 0.5571, -0.9068,  1.7233, -0.6001]],\n",
       "              \n",
       "                      [[-1.8726, -0.2404, -1.6999, -1.8528],\n",
       "                       [ 0.0086, -0.9680,  1.1147,  1.1320],\n",
       "                       [ 0.5571, -0.9068,  1.7233, -0.6001]],\n",
       "              \n",
       "                      [[-1.8726, -0.2404, -1.6999, -1.8528],\n",
       "                       [ 0.0086, -0.9680,  1.1147,  1.1320],\n",
       "                       [ 0.5571, -0.9068,  1.7233, -0.6001]],\n",
       "              \n",
       "                      [[-1.8726, -0.2404, -1.6999, -1.8528],\n",
       "                       [ 0.0086, -0.9680,  1.1147,  1.1320],\n",
       "                       [ 0.5571, -0.9068,  1.7233, -0.6001]],\n",
       "              \n",
       "                      [[-1.8726, -0.2404, -1.6999, -1.8528],\n",
       "                       [ 0.0086, -0.9680,  1.1147,  1.1320],\n",
       "                       [ 0.5571, -0.9068,  1.7233, -0.6001]],\n",
       "              \n",
       "                      [[-1.8726, -0.2404, -1.6999, -1.8528],\n",
       "                       [ 0.0086, -0.9680,  1.1147,  1.1320],\n",
       "                       [ 0.5571, -0.9068,  1.7233, -0.6001]]]),\n",
       "       ),\n",
       ")"
      ]
     },
     "execution_count": 25,
     "metadata": {},
     "output_type": "execute_result"
    }
   ],
   "source": [
    "batches = [Batch(**_TREE_DATA_2) for _ in range(8)]\n",
    "\n",
    "Batch.stack(batches)"
   ]
  },
  {
   "cell_type": "code",
   "execution_count": 26,
   "id": "ec9037a3",
   "metadata": {
    "execution": {
     "iopub.execute_input": "2023-02-28T05:43:07.804475Z",
     "iopub.status.busy": "2023-02-28T05:43:07.804127Z",
     "iopub.status.idle": "2023-02-28T05:43:14.113434Z",
     "shell.execute_reply": "2023-02-28T05:43:14.112578Z"
    }
   },
   "outputs": [
    {
     "name": "stdout",
     "output_type": "stream",
     "text": [
      "77.7 µs ± 609 ns per loop (mean ± std. dev. of 7 runs, 10,000 loops each)\n"
     ]
    }
   ],
   "source": [
    "%timeit Batch.stack(batches)"
   ]
  },
  {
   "cell_type": "code",
   "execution_count": 27,
   "id": "cb8ab77e",
   "metadata": {
    "execution": {
     "iopub.execute_input": "2023-02-28T05:43:14.117018Z",
     "iopub.status.busy": "2023-02-28T05:43:14.116559Z",
     "iopub.status.idle": "2023-02-28T05:43:14.124459Z",
     "shell.execute_reply": "2023-02-28T05:43:14.123631Z"
    }
   },
   "outputs": [
    {
     "data": {
      "text/plain": [
       "Batch(\n",
       "    a: tensor([[-0.5244, -0.7549, -1.1202],\n",
       "               [-1.8828, -0.0444,  0.1735],\n",
       "               [-0.5244, -0.7549, -1.1202],\n",
       "               [-1.8828, -0.0444,  0.1735],\n",
       "               [-0.5244, -0.7549, -1.1202],\n",
       "               [-1.8828, -0.0444,  0.1735],\n",
       "               [-0.5244, -0.7549, -1.1202],\n",
       "               [-1.8828, -0.0444,  0.1735],\n",
       "               [-0.5244, -0.7549, -1.1202],\n",
       "               [-1.8828, -0.0444,  0.1735],\n",
       "               [-0.5244, -0.7549, -1.1202],\n",
       "               [-1.8828, -0.0444,  0.1735],\n",
       "               [-0.5244, -0.7549, -1.1202],\n",
       "               [-1.8828, -0.0444,  0.1735],\n",
       "               [-0.5244, -0.7549, -1.1202],\n",
       "               [-1.8828, -0.0444,  0.1735]]),\n",
       "    x: Batch(\n",
       "           c: tensor([[-1.8726, -0.2404, -1.6999, -1.8528],\n",
       "                      [ 0.0086, -0.9680,  1.1147,  1.1320],\n",
       "                      [ 0.5571, -0.9068,  1.7233, -0.6001],\n",
       "                      [-1.8726, -0.2404, -1.6999, -1.8528],\n",
       "                      [ 0.0086, -0.9680,  1.1147,  1.1320],\n",
       "                      [ 0.5571, -0.9068,  1.7233, -0.6001],\n",
       "                      [-1.8726, -0.2404, -1.6999, -1.8528],\n",
       "                      [ 0.0086, -0.9680,  1.1147,  1.1320],\n",
       "                      [ 0.5571, -0.9068,  1.7233, -0.6001],\n",
       "                      [-1.8726, -0.2404, -1.6999, -1.8528],\n",
       "                      [ 0.0086, -0.9680,  1.1147,  1.1320],\n",
       "                      [ 0.5571, -0.9068,  1.7233, -0.6001],\n",
       "                      [-1.8726, -0.2404, -1.6999, -1.8528],\n",
       "                      [ 0.0086, -0.9680,  1.1147,  1.1320],\n",
       "                      [ 0.5571, -0.9068,  1.7233, -0.6001],\n",
       "                      [-1.8726, -0.2404, -1.6999, -1.8528],\n",
       "                      [ 0.0086, -0.9680,  1.1147,  1.1320],\n",
       "                      [ 0.5571, -0.9068,  1.7233, -0.6001],\n",
       "                      [-1.8726, -0.2404, -1.6999, -1.8528],\n",
       "                      [ 0.0086, -0.9680,  1.1147,  1.1320],\n",
       "                      [ 0.5571, -0.9068,  1.7233, -0.6001],\n",
       "                      [-1.8726, -0.2404, -1.6999, -1.8528],\n",
       "                      [ 0.0086, -0.9680,  1.1147,  1.1320],\n",
       "                      [ 0.5571, -0.9068,  1.7233, -0.6001]]),\n",
       "       ),\n",
       ")"
      ]
     },
     "execution_count": 27,
     "metadata": {},
     "output_type": "execute_result"
    }
   ],
   "source": [
    "Batch.cat(batches)"
   ]
  },
  {
   "cell_type": "code",
   "execution_count": 28,
   "id": "18dfb045",
   "metadata": {
    "execution": {
     "iopub.execute_input": "2023-02-28T05:43:14.127393Z",
     "iopub.status.busy": "2023-02-28T05:43:14.126872Z",
     "iopub.status.idle": "2023-02-28T05:43:25.713998Z",
     "shell.execute_reply": "2023-02-28T05:43:25.713165Z"
    }
   },
   "outputs": [
    {
     "name": "stdout",
     "output_type": "stream",
     "text": [
      "143 µs ± 326 ns per loop (mean ± std. dev. of 7 runs, 10,000 loops each)\n"
     ]
    }
   ],
   "source": [
    "%timeit Batch.cat(batches)"
   ]
  },
  {
   "cell_type": "code",
   "execution_count": 29,
   "id": "c6688e51",
   "metadata": {
    "execution": {
     "iopub.execute_input": "2023-02-28T05:43:25.717124Z",
     "iopub.status.busy": "2023-02-28T05:43:25.716759Z",
     "iopub.status.idle": "2023-02-28T05:43:28.374801Z",
     "shell.execute_reply": "2023-02-28T05:43:28.374174Z"
    }
   },
   "outputs": [
    {
     "name": "stdout",
     "output_type": "stream",
     "text": [
      "326 µs ± 1.36 µs per loop (mean ± std. dev. of 7 runs, 1,000 loops each)\n"
     ]
    }
   ],
   "source": [
    "batch = Batch({\n",
    "    'obs': torch.randn(8, 4, 84, 84),\n",
    "    'action': torch.randint(0, 6, size=(8, 1,)),\n",
    "    'reward': torch.rand(8, 1)}\n",
    ")\n",
    "\n",
    "%timeit list(Batch.split(batch, 1, shuffle=False, merge_last=True))"
   ]
  },
  {
   "cell_type": "code",
   "execution_count": null,
   "id": "2539fbd9",
   "metadata": {},
   "outputs": [],
   "source": []
  }
 ],
 "metadata": {
  "kernelspec": {
   "display_name": "Python 3 (ipykernel)",
   "language": "python",
   "name": "python3"
  },
  "language_info": {
   "codemirror_mode": {
    "name": "ipython",
    "version": 3
   },
   "file_extension": ".py",
   "mimetype": "text/x-python",
   "name": "python",
   "nbconvert_exporter": "python",
   "pygments_lexer": "ipython3",
   "version": "3.8.16"
  }
 },
 "nbformat": 4,
 "nbformat_minor": 5
}
