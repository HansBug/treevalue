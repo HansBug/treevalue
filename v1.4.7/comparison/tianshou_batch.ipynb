{
 "cells": [
  {
   "cell_type": "markdown",
   "id": "9d39d946",
   "metadata": {},
   "source": [
    "# Comparison Between TreeValue and Tianshou Batch"
   ]
  },
  {
   "cell_type": "markdown",
   "id": "3c6db2d4",
   "metadata": {},
   "source": [
    "In this section, we will take a look at the feature and performance of the [Tianshou Batch](https://github.com/thu-ml/tianshou) library, which is developed by Tsinghua Machine Learning Group."
   ]
  },
  {
   "cell_type": "markdown",
   "id": "069361b0",
   "metadata": {},
   "source": [
    "Before starting the comparison, let us define some thing."
   ]
  },
  {
   "cell_type": "code",
   "execution_count": 1,
   "id": "06fc8d26",
   "metadata": {
    "execution": {
     "iopub.execute_input": "2023-03-06T11:42:47.160845Z",
     "iopub.status.busy": "2023-03-06T11:42:47.160455Z",
     "iopub.status.idle": "2023-03-06T11:42:48.065881Z",
     "shell.execute_reply": "2023-03-06T11:42:48.065191Z"
    }
   },
   "outputs": [
    {
     "name": "stderr",
     "output_type": "stream",
     "text": [
      "/opt/hostedtoolcache/Python/3.8.16/x64/lib/python3.8/site-packages/tqdm/auto.py:21: TqdmWarning: IProgress not found. Please update jupyter and ipywidgets. See https://ipywidgets.readthedocs.io/en/stable/user_install.html\n",
      "  from .autonotebook import tqdm as notebook_tqdm\n"
     ]
    }
   ],
   "source": [
    "import torch \n",
    "\n",
    "_TREE_DATA_1 = {'a': 1, 'b': 2, 'x': {'c': 3, 'd': 4}}\n",
    "_TREE_DATA_2 = {\n",
    "    'a': torch.randn(2, 3), \n",
    "    'x': {\n",
    "        'c': torch.randn(3, 4)\n",
    "    },\n",
    "}\n",
    "_TREE_DATA_3 = {\n",
    "    'obs': torch.randn(4, 84, 84),\n",
    "    'action': torch.randint(0, 6, size=(1,)),\n",
    "    'reward': torch.rand(1),\n",
    "}"
   ]
  },
  {
   "cell_type": "markdown",
   "id": "83461b25",
   "metadata": {},
   "source": [
    "## Read and Write Operation"
   ]
  },
  {
   "cell_type": "markdown",
   "id": "067b3f73",
   "metadata": {},
   "source": [
    "Reading and writing are the two most common operations in the tree data structure based on the data model (TreeValue and Tianshou Batch both belong to this type), so this section will compare the reading and writing performance of these two libraries."
   ]
  },
  {
   "cell_type": "markdown",
   "id": "5d09a5b7",
   "metadata": {},
   "source": [
    "### TreeValue's Get and Set"
   ]
  },
  {
   "cell_type": "code",
   "execution_count": 2,
   "id": "9519c4bb",
   "metadata": {
    "execution": {
     "iopub.execute_input": "2023-03-06T11:42:48.069502Z",
     "iopub.status.busy": "2023-03-06T11:42:48.068901Z",
     "iopub.status.idle": "2023-03-06T11:42:48.349860Z",
     "shell.execute_reply": "2023-03-06T11:42:48.349177Z"
    }
   },
   "outputs": [],
   "source": [
    "from treevalue import FastTreeValue\n",
    "\n",
    "t = FastTreeValue(_TREE_DATA_2)"
   ]
  },
  {
   "cell_type": "code",
   "execution_count": 3,
   "id": "11c37677",
   "metadata": {
    "execution": {
     "iopub.execute_input": "2023-03-06T11:42:48.353219Z",
     "iopub.status.busy": "2023-03-06T11:42:48.352806Z",
     "iopub.status.idle": "2023-03-06T11:42:48.362937Z",
     "shell.execute_reply": "2023-03-06T11:42:48.362316Z"
    }
   },
   "outputs": [
    {
     "data": {
      "text/plain": [
       "<FastTreeValue 0x7f7d880e8be0>\n",
       "├── 'a' --> tensor([[ 0.5397,  0.8544, -0.8882],\n",
       "│                   [ 0.8508, -0.5312, -1.1660]])\n",
       "└── 'x' --> <FastTreeValue 0x7f7d880e8490>\n",
       "    └── 'c' --> tensor([[-1.1085, -1.0771, -0.7692, -0.6660],\n",
       "                        [ 0.3262,  1.8130,  1.8673,  1.4062],\n",
       "                        [-0.6533, -0.2896,  0.0958, -0.4527]])"
      ]
     },
     "execution_count": 3,
     "metadata": {},
     "output_type": "execute_result"
    }
   ],
   "source": [
    "t"
   ]
  },
  {
   "cell_type": "code",
   "execution_count": 4,
   "id": "fd70b0b9",
   "metadata": {
    "execution": {
     "iopub.execute_input": "2023-03-06T11:42:48.365720Z",
     "iopub.status.busy": "2023-03-06T11:42:48.365396Z",
     "iopub.status.idle": "2023-03-06T11:42:48.371458Z",
     "shell.execute_reply": "2023-03-06T11:42:48.370870Z"
    }
   },
   "outputs": [
    {
     "data": {
      "text/plain": [
       "tensor([[ 0.5397,  0.8544, -0.8882],\n",
       "        [ 0.8508, -0.5312, -1.1660]])"
      ]
     },
     "execution_count": 4,
     "metadata": {},
     "output_type": "execute_result"
    }
   ],
   "source": [
    "t.a"
   ]
  },
  {
   "cell_type": "code",
   "execution_count": 5,
   "id": "c18197bd",
   "metadata": {
    "execution": {
     "iopub.execute_input": "2023-03-06T11:42:48.374214Z",
     "iopub.status.busy": "2023-03-06T11:42:48.373735Z",
     "iopub.status.idle": "2023-03-06T11:42:53.107466Z",
     "shell.execute_reply": "2023-03-06T11:42:53.106792Z"
    }
   },
   "outputs": [
    {
     "name": "stdout",
     "output_type": "stream",
     "text": [
      "58 ns ± 0.107 ns per loop (mean ± std. dev. of 7 runs, 10,000,000 loops each)\n"
     ]
    }
   ],
   "source": [
    "%timeit t.a"
   ]
  },
  {
   "cell_type": "code",
   "execution_count": 6,
   "id": "bd52f867",
   "metadata": {
    "execution": {
     "iopub.execute_input": "2023-03-06T11:42:53.110619Z",
     "iopub.status.busy": "2023-03-06T11:42:53.110088Z",
     "iopub.status.idle": "2023-03-06T11:42:53.116745Z",
     "shell.execute_reply": "2023-03-06T11:42:53.116140Z"
    }
   },
   "outputs": [
    {
     "data": {
      "text/plain": [
       "<FastTreeValue 0x7f7d880e8be0>\n",
       "├── 'a' --> tensor([[ 1.1919,  1.5332, -2.3650],\n",
       "│                   [-1.2802,  0.4827, -0.4414]])\n",
       "└── 'x' --> <FastTreeValue 0x7f7d880e8490>\n",
       "    └── 'c' --> tensor([[-1.1085, -1.0771, -0.7692, -0.6660],\n",
       "                        [ 0.3262,  1.8130,  1.8673,  1.4062],\n",
       "                        [-0.6533, -0.2896,  0.0958, -0.4527]])"
      ]
     },
     "execution_count": 6,
     "metadata": {},
     "output_type": "execute_result"
    }
   ],
   "source": [
    "new_value = torch.randn(2, 3)\n",
    "t.a = new_value\n",
    "\n",
    "t"
   ]
  },
  {
   "cell_type": "code",
   "execution_count": 7,
   "id": "bbe04d1c",
   "metadata": {
    "execution": {
     "iopub.execute_input": "2023-03-06T11:42:53.119477Z",
     "iopub.status.busy": "2023-03-06T11:42:53.119141Z",
     "iopub.status.idle": "2023-03-06T11:42:58.406938Z",
     "shell.execute_reply": "2023-03-06T11:42:58.406213Z"
    }
   },
   "outputs": [
    {
     "name": "stdout",
     "output_type": "stream",
     "text": [
      "64.9 ns ± 0.0317 ns per loop (mean ± std. dev. of 7 runs, 10,000,000 loops each)\n"
     ]
    }
   ],
   "source": [
    "%timeit t.a = new_value"
   ]
  },
  {
   "cell_type": "markdown",
   "id": "48c49731",
   "metadata": {},
   "source": [
    "### Tianshou Batch's Get and Set"
   ]
  },
  {
   "cell_type": "code",
   "execution_count": 8,
   "id": "f1bb14c1",
   "metadata": {
    "execution": {
     "iopub.execute_input": "2023-03-06T11:42:58.409983Z",
     "iopub.status.busy": "2023-03-06T11:42:58.409618Z",
     "iopub.status.idle": "2023-03-06T11:42:58.736525Z",
     "shell.execute_reply": "2023-03-06T11:42:58.735853Z"
    }
   },
   "outputs": [],
   "source": [
    "from tianshou.data import Batch\n",
    "\n",
    "b = Batch(**_TREE_DATA_2)"
   ]
  },
  {
   "cell_type": "code",
   "execution_count": 9,
   "id": "cb0777c3",
   "metadata": {
    "execution": {
     "iopub.execute_input": "2023-03-06T11:42:58.739660Z",
     "iopub.status.busy": "2023-03-06T11:42:58.739067Z",
     "iopub.status.idle": "2023-03-06T11:42:58.745199Z",
     "shell.execute_reply": "2023-03-06T11:42:58.744616Z"
    }
   },
   "outputs": [
    {
     "data": {
      "text/plain": [
       "Batch(\n",
       "    a: tensor([[ 0.5397,  0.8544, -0.8882],\n",
       "               [ 0.8508, -0.5312, -1.1660]]),\n",
       "    x: Batch(\n",
       "           c: tensor([[-1.1085, -1.0771, -0.7692, -0.6660],\n",
       "                      [ 0.3262,  1.8130,  1.8673,  1.4062],\n",
       "                      [-0.6533, -0.2896,  0.0958, -0.4527]]),\n",
       "       ),\n",
       ")"
      ]
     },
     "execution_count": 9,
     "metadata": {},
     "output_type": "execute_result"
    }
   ],
   "source": [
    "b"
   ]
  },
  {
   "cell_type": "code",
   "execution_count": 10,
   "id": "43ef8ea3",
   "metadata": {
    "execution": {
     "iopub.execute_input": "2023-03-06T11:42:58.747875Z",
     "iopub.status.busy": "2023-03-06T11:42:58.747545Z",
     "iopub.status.idle": "2023-03-06T11:42:58.752097Z",
     "shell.execute_reply": "2023-03-06T11:42:58.751477Z"
    }
   },
   "outputs": [
    {
     "data": {
      "text/plain": [
       "tensor([[ 0.5397,  0.8544, -0.8882],\n",
       "        [ 0.8508, -0.5312, -1.1660]])"
      ]
     },
     "execution_count": 10,
     "metadata": {},
     "output_type": "execute_result"
    }
   ],
   "source": [
    "b.a"
   ]
  },
  {
   "cell_type": "code",
   "execution_count": 11,
   "id": "b785ab72",
   "metadata": {
    "execution": {
     "iopub.execute_input": "2023-03-06T11:42:58.754928Z",
     "iopub.status.busy": "2023-03-06T11:42:58.754423Z",
     "iopub.status.idle": "2023-03-06T11:43:03.567381Z",
     "shell.execute_reply": "2023-03-06T11:43:03.566600Z"
    }
   },
   "outputs": [
    {
     "name": "stdout",
     "output_type": "stream",
     "text": [
      "59.2 ns ± 0.0269 ns per loop (mean ± std. dev. of 7 runs, 10,000,000 loops each)\n"
     ]
    }
   ],
   "source": [
    "%timeit b.a"
   ]
  },
  {
   "cell_type": "code",
   "execution_count": 12,
   "id": "ad54dc69",
   "metadata": {
    "execution": {
     "iopub.execute_input": "2023-03-06T11:43:03.570625Z",
     "iopub.status.busy": "2023-03-06T11:43:03.570028Z",
     "iopub.status.idle": "2023-03-06T11:43:03.576521Z",
     "shell.execute_reply": "2023-03-06T11:43:03.575924Z"
    }
   },
   "outputs": [
    {
     "data": {
      "text/plain": [
       "Batch(\n",
       "    a: tensor([[ 1.0125,  1.6864, -0.7203],\n",
       "               [-1.1089,  0.7984, -0.7748]]),\n",
       "    x: Batch(\n",
       "           c: tensor([[-1.1085, -1.0771, -0.7692, -0.6660],\n",
       "                      [ 0.3262,  1.8130,  1.8673,  1.4062],\n",
       "                      [-0.6533, -0.2896,  0.0958, -0.4527]]),\n",
       "       ),\n",
       ")"
      ]
     },
     "execution_count": 12,
     "metadata": {},
     "output_type": "execute_result"
    }
   ],
   "source": [
    "new_value = torch.randn(2, 3)\n",
    "b.a = new_value\n",
    "\n",
    "b"
   ]
  },
  {
   "cell_type": "code",
   "execution_count": 13,
   "id": "29b1d0bf",
   "metadata": {
    "execution": {
     "iopub.execute_input": "2023-03-06T11:43:03.579472Z",
     "iopub.status.busy": "2023-03-06T11:43:03.578983Z",
     "iopub.status.idle": "2023-03-06T11:43:07.505573Z",
     "shell.execute_reply": "2023-03-06T11:43:07.504865Z"
    }
   },
   "outputs": [
    {
     "name": "stdout",
     "output_type": "stream",
     "text": [
      "484 ns ± 0.417 ns per loop (mean ± std. dev. of 7 runs, 1,000,000 loops each)\n"
     ]
    }
   ],
   "source": [
    "%timeit b.a = new_value"
   ]
  },
  {
   "cell_type": "markdown",
   "id": "b61ad1d0",
   "metadata": {},
   "source": [
    "## Initialization"
   ]
  },
  {
   "cell_type": "markdown",
   "id": "d70f0d54",
   "metadata": {},
   "source": [
    "### TreeValue's Initialization"
   ]
  },
  {
   "cell_type": "code",
   "execution_count": 14,
   "id": "d32a679b",
   "metadata": {
    "execution": {
     "iopub.execute_input": "2023-03-06T11:43:07.508543Z",
     "iopub.status.busy": "2023-03-06T11:43:07.507968Z",
     "iopub.status.idle": "2023-03-06T11:43:14.321823Z",
     "shell.execute_reply": "2023-03-06T11:43:14.321072Z"
    }
   },
   "outputs": [
    {
     "name": "stdout",
     "output_type": "stream",
     "text": [
      "839 ns ± 0.828 ns per loop (mean ± std. dev. of 7 runs, 1,000,000 loops each)\n"
     ]
    }
   ],
   "source": [
    "%timeit FastTreeValue(_TREE_DATA_1)"
   ]
  },
  {
   "cell_type": "markdown",
   "id": "24f3707b",
   "metadata": {},
   "source": [
    "### Tianshou Batch's Initialization"
   ]
  },
  {
   "cell_type": "code",
   "execution_count": 15,
   "id": "ac3958df",
   "metadata": {
    "execution": {
     "iopub.execute_input": "2023-03-06T11:43:14.324846Z",
     "iopub.status.busy": "2023-03-06T11:43:14.324260Z",
     "iopub.status.idle": "2023-03-06T11:43:23.537006Z",
     "shell.execute_reply": "2023-03-06T11:43:23.536271Z"
    }
   },
   "outputs": [
    {
     "name": "stdout",
     "output_type": "stream",
     "text": [
      "11.3 µs ± 12.4 ns per loop (mean ± std. dev. of 7 runs, 100,000 loops each)\n"
     ]
    }
   ],
   "source": [
    "%timeit Batch(**_TREE_DATA_1)"
   ]
  },
  {
   "cell_type": "markdown",
   "id": "1ab82e2d",
   "metadata": {},
   "source": [
    "## Deep Copy Operation"
   ]
  },
  {
   "cell_type": "code",
   "execution_count": 16,
   "id": "210a9442",
   "metadata": {
    "execution": {
     "iopub.execute_input": "2023-03-06T11:43:23.540208Z",
     "iopub.status.busy": "2023-03-06T11:43:23.539706Z",
     "iopub.status.idle": "2023-03-06T11:43:23.543591Z",
     "shell.execute_reply": "2023-03-06T11:43:23.542993Z"
    }
   },
   "outputs": [],
   "source": [
    "import copy"
   ]
  },
  {
   "cell_type": "markdown",
   "id": "5a736274",
   "metadata": {},
   "source": [
    "### Deep Copy of TreeValue"
   ]
  },
  {
   "cell_type": "code",
   "execution_count": 17,
   "id": "f9bcadd6",
   "metadata": {
    "execution": {
     "iopub.execute_input": "2023-03-06T11:43:23.546205Z",
     "iopub.status.busy": "2023-03-06T11:43:23.545885Z",
     "iopub.status.idle": "2023-03-06T11:43:34.549465Z",
     "shell.execute_reply": "2023-03-06T11:43:34.548871Z"
    }
   },
   "outputs": [
    {
     "name": "stdout",
     "output_type": "stream",
     "text": [
      "136 µs ± 392 ns per loop (mean ± std. dev. of 7 runs, 10,000 loops each)\n"
     ]
    }
   ],
   "source": [
    "t3 = FastTreeValue(_TREE_DATA_3)\n",
    "%timeit copy.deepcopy(t3)"
   ]
  },
  {
   "cell_type": "markdown",
   "id": "bf8be7ea",
   "metadata": {},
   "source": [
    "### Deep Copy of Tianshou Batch"
   ]
  },
  {
   "cell_type": "code",
   "execution_count": 18,
   "id": "91998e6f",
   "metadata": {
    "execution": {
     "iopub.execute_input": "2023-03-06T11:43:34.553260Z",
     "iopub.status.busy": "2023-03-06T11:43:34.552330Z",
     "iopub.status.idle": "2023-03-06T11:43:45.729571Z",
     "shell.execute_reply": "2023-03-06T11:43:45.728986Z"
    }
   },
   "outputs": [
    {
     "name": "stdout",
     "output_type": "stream",
     "text": [
      "138 µs ± 547 ns per loop (mean ± std. dev. of 7 runs, 10,000 loops each)\n"
     ]
    }
   ],
   "source": [
    "b3 = Batch(**_TREE_DATA_3)\n",
    "%timeit copy.deepcopy(b3)"
   ]
  },
  {
   "cell_type": "markdown",
   "id": "223162fb",
   "metadata": {},
   "source": [
    "## Stack, Concat and Split Operation"
   ]
  },
  {
   "cell_type": "markdown",
   "id": "85fa4a73",
   "metadata": {},
   "source": [
    "### Performance of TreeValue"
   ]
  },
  {
   "cell_type": "code",
   "execution_count": 19,
   "id": "a0c2b697",
   "metadata": {
    "execution": {
     "iopub.execute_input": "2023-03-06T11:43:45.733489Z",
     "iopub.status.busy": "2023-03-06T11:43:45.732548Z",
     "iopub.status.idle": "2023-03-06T11:43:45.736774Z",
     "shell.execute_reply": "2023-03-06T11:43:45.736249Z"
    }
   },
   "outputs": [],
   "source": [
    "trees = [FastTreeValue(_TREE_DATA_2) for _ in range(8)]"
   ]
  },
  {
   "cell_type": "code",
   "execution_count": 20,
   "id": "017ea5a5",
   "metadata": {
    "execution": {
     "iopub.execute_input": "2023-03-06T11:43:45.740383Z",
     "iopub.status.busy": "2023-03-06T11:43:45.739487Z",
     "iopub.status.idle": "2023-03-06T11:43:45.748108Z",
     "shell.execute_reply": "2023-03-06T11:43:45.747592Z"
    }
   },
   "outputs": [
    {
     "data": {
      "text/plain": [
       "<FastTreeValue 0x7f7cd3371d00>\n",
       "├── 'a' --> tensor([[[ 0.5397,  0.8544, -0.8882],\n",
       "│                    [ 0.8508, -0.5312, -1.1660]],\n",
       "│           \n",
       "│                   [[ 0.5397,  0.8544, -0.8882],\n",
       "│                    [ 0.8508, -0.5312, -1.1660]],\n",
       "│           \n",
       "│                   [[ 0.5397,  0.8544, -0.8882],\n",
       "│                    [ 0.8508, -0.5312, -1.1660]],\n",
       "│           \n",
       "│                   [[ 0.5397,  0.8544, -0.8882],\n",
       "│                    [ 0.8508, -0.5312, -1.1660]],\n",
       "│           \n",
       "│                   [[ 0.5397,  0.8544, -0.8882],\n",
       "│                    [ 0.8508, -0.5312, -1.1660]],\n",
       "│           \n",
       "│                   [[ 0.5397,  0.8544, -0.8882],\n",
       "│                    [ 0.8508, -0.5312, -1.1660]],\n",
       "│           \n",
       "│                   [[ 0.5397,  0.8544, -0.8882],\n",
       "│                    [ 0.8508, -0.5312, -1.1660]],\n",
       "│           \n",
       "│                   [[ 0.5397,  0.8544, -0.8882],\n",
       "│                    [ 0.8508, -0.5312, -1.1660]]])\n",
       "└── 'x' --> <FastTreeValue 0x7f7cd3371f40>\n",
       "    └── 'c' --> tensor([[[-1.1085, -1.0771, -0.7692, -0.6660],\n",
       "                         [ 0.3262,  1.8130,  1.8673,  1.4062],\n",
       "                         [-0.6533, -0.2896,  0.0958, -0.4527]],\n",
       "                \n",
       "                        [[-1.1085, -1.0771, -0.7692, -0.6660],\n",
       "                         [ 0.3262,  1.8130,  1.8673,  1.4062],\n",
       "                         [-0.6533, -0.2896,  0.0958, -0.4527]],\n",
       "                \n",
       "                        [[-1.1085, -1.0771, -0.7692, -0.6660],\n",
       "                         [ 0.3262,  1.8130,  1.8673,  1.4062],\n",
       "                         [-0.6533, -0.2896,  0.0958, -0.4527]],\n",
       "                \n",
       "                        [[-1.1085, -1.0771, -0.7692, -0.6660],\n",
       "                         [ 0.3262,  1.8130,  1.8673,  1.4062],\n",
       "                         [-0.6533, -0.2896,  0.0958, -0.4527]],\n",
       "                \n",
       "                        [[-1.1085, -1.0771, -0.7692, -0.6660],\n",
       "                         [ 0.3262,  1.8130,  1.8673,  1.4062],\n",
       "                         [-0.6533, -0.2896,  0.0958, -0.4527]],\n",
       "                \n",
       "                        [[-1.1085, -1.0771, -0.7692, -0.6660],\n",
       "                         [ 0.3262,  1.8130,  1.8673,  1.4062],\n",
       "                         [-0.6533, -0.2896,  0.0958, -0.4527]],\n",
       "                \n",
       "                        [[-1.1085, -1.0771, -0.7692, -0.6660],\n",
       "                         [ 0.3262,  1.8130,  1.8673,  1.4062],\n",
       "                         [-0.6533, -0.2896,  0.0958, -0.4527]],\n",
       "                \n",
       "                        [[-1.1085, -1.0771, -0.7692, -0.6660],\n",
       "                         [ 0.3262,  1.8130,  1.8673,  1.4062],\n",
       "                         [-0.6533, -0.2896,  0.0958, -0.4527]]])"
      ]
     },
     "execution_count": 20,
     "metadata": {},
     "output_type": "execute_result"
    }
   ],
   "source": [
    "t_stack = FastTreeValue.func(subside=True)(torch.stack)\n",
    "\n",
    "t_stack(trees)"
   ]
  },
  {
   "cell_type": "code",
   "execution_count": 21,
   "id": "f8b3f415",
   "metadata": {
    "execution": {
     "iopub.execute_input": "2023-03-06T11:43:45.751608Z",
     "iopub.status.busy": "2023-03-06T11:43:45.750618Z",
     "iopub.status.idle": "2023-03-06T11:43:48.373898Z",
     "shell.execute_reply": "2023-03-06T11:43:48.373141Z"
    }
   },
   "outputs": [
    {
     "name": "stdout",
     "output_type": "stream",
     "text": [
      "32.3 µs ± 51.8 ns per loop (mean ± std. dev. of 7 runs, 10,000 loops each)\n"
     ]
    }
   ],
   "source": [
    "%timeit t_stack(trees)"
   ]
  },
  {
   "cell_type": "code",
   "execution_count": 22,
   "id": "94b56771",
   "metadata": {
    "execution": {
     "iopub.execute_input": "2023-03-06T11:43:48.377015Z",
     "iopub.status.busy": "2023-03-06T11:43:48.376507Z",
     "iopub.status.idle": "2023-03-06T11:43:48.384134Z",
     "shell.execute_reply": "2023-03-06T11:43:48.383554Z"
    }
   },
   "outputs": [
    {
     "data": {
      "text/plain": [
       "<FastTreeValue 0x7f7cd33bfcd0>\n",
       "├── 'a' --> tensor([[ 0.5397,  0.8544, -0.8882],\n",
       "│                   [ 0.8508, -0.5312, -1.1660],\n",
       "│                   [ 0.5397,  0.8544, -0.8882],\n",
       "│                   [ 0.8508, -0.5312, -1.1660],\n",
       "│                   [ 0.5397,  0.8544, -0.8882],\n",
       "│                   [ 0.8508, -0.5312, -1.1660],\n",
       "│                   [ 0.5397,  0.8544, -0.8882],\n",
       "│                   [ 0.8508, -0.5312, -1.1660],\n",
       "│                   [ 0.5397,  0.8544, -0.8882],\n",
       "│                   [ 0.8508, -0.5312, -1.1660],\n",
       "│                   [ 0.5397,  0.8544, -0.8882],\n",
       "│                   [ 0.8508, -0.5312, -1.1660],\n",
       "│                   [ 0.5397,  0.8544, -0.8882],\n",
       "│                   [ 0.8508, -0.5312, -1.1660],\n",
       "│                   [ 0.5397,  0.8544, -0.8882],\n",
       "│                   [ 0.8508, -0.5312, -1.1660]])\n",
       "└── 'x' --> <FastTreeValue 0x7f7cd3368f40>\n",
       "    └── 'c' --> tensor([[-1.1085, -1.0771, -0.7692, -0.6660],\n",
       "                        [ 0.3262,  1.8130,  1.8673,  1.4062],\n",
       "                        [-0.6533, -0.2896,  0.0958, -0.4527],\n",
       "                        [-1.1085, -1.0771, -0.7692, -0.6660],\n",
       "                        [ 0.3262,  1.8130,  1.8673,  1.4062],\n",
       "                        [-0.6533, -0.2896,  0.0958, -0.4527],\n",
       "                        [-1.1085, -1.0771, -0.7692, -0.6660],\n",
       "                        [ 0.3262,  1.8130,  1.8673,  1.4062],\n",
       "                        [-0.6533, -0.2896,  0.0958, -0.4527],\n",
       "                        [-1.1085, -1.0771, -0.7692, -0.6660],\n",
       "                        [ 0.3262,  1.8130,  1.8673,  1.4062],\n",
       "                        [-0.6533, -0.2896,  0.0958, -0.4527],\n",
       "                        [-1.1085, -1.0771, -0.7692, -0.6660],\n",
       "                        [ 0.3262,  1.8130,  1.8673,  1.4062],\n",
       "                        [-0.6533, -0.2896,  0.0958, -0.4527],\n",
       "                        [-1.1085, -1.0771, -0.7692, -0.6660],\n",
       "                        [ 0.3262,  1.8130,  1.8673,  1.4062],\n",
       "                        [-0.6533, -0.2896,  0.0958, -0.4527],\n",
       "                        [-1.1085, -1.0771, -0.7692, -0.6660],\n",
       "                        [ 0.3262,  1.8130,  1.8673,  1.4062],\n",
       "                        [-0.6533, -0.2896,  0.0958, -0.4527],\n",
       "                        [-1.1085, -1.0771, -0.7692, -0.6660],\n",
       "                        [ 0.3262,  1.8130,  1.8673,  1.4062],\n",
       "                        [-0.6533, -0.2896,  0.0958, -0.4527]])"
      ]
     },
     "execution_count": 22,
     "metadata": {},
     "output_type": "execute_result"
    }
   ],
   "source": [
    "t_cat = FastTreeValue.func(subside=True)(torch.cat)\n",
    "\n",
    "t_cat(trees)"
   ]
  },
  {
   "cell_type": "code",
   "execution_count": 23,
   "id": "5e9c06a6",
   "metadata": {
    "execution": {
     "iopub.execute_input": "2023-03-06T11:43:48.386946Z",
     "iopub.status.busy": "2023-03-06T11:43:48.386360Z",
     "iopub.status.idle": "2023-03-06T11:43:50.835227Z",
     "shell.execute_reply": "2023-03-06T11:43:50.834564Z"
    }
   },
   "outputs": [
    {
     "name": "stdout",
     "output_type": "stream",
     "text": [
      "30.1 µs ± 72.6 ns per loop (mean ± std. dev. of 7 runs, 10,000 loops each)\n"
     ]
    }
   ],
   "source": [
    "%timeit t_cat(trees)"
   ]
  },
  {
   "cell_type": "code",
   "execution_count": 24,
   "id": "a3ab5c8f",
   "metadata": {
    "execution": {
     "iopub.execute_input": "2023-03-06T11:43:50.838371Z",
     "iopub.status.busy": "2023-03-06T11:43:50.837800Z",
     "iopub.status.idle": "2023-03-06T11:43:55.452399Z",
     "shell.execute_reply": "2023-03-06T11:43:55.451701Z"
    }
   },
   "outputs": [
    {
     "name": "stdout",
     "output_type": "stream",
     "text": [
      "56.7 µs ± 77.2 ns per loop (mean ± std. dev. of 7 runs, 10,000 loops each)\n"
     ]
    }
   ],
   "source": [
    "t_split = FastTreeValue.func(rise=True)(torch.split)\n",
    "tree = FastTreeValue({\n",
    "    'obs': torch.randn(8, 4, 84, 84),\n",
    "    'action': torch.randint(0, 6, size=(8, 1,)),\n",
    "    'reward': torch.rand(8, 1),\n",
    "})\n",
    "\n",
    "%timeit t_split(tree, 1)"
   ]
  },
  {
   "cell_type": "markdown",
   "id": "31c3ec0b",
   "metadata": {},
   "source": [
    "### Performance of Tianshou Batch"
   ]
  },
  {
   "cell_type": "code",
   "execution_count": 25,
   "id": "9ead828a",
   "metadata": {
    "execution": {
     "iopub.execute_input": "2023-03-06T11:43:55.455193Z",
     "iopub.status.busy": "2023-03-06T11:43:55.454956Z",
     "iopub.status.idle": "2023-03-06T11:43:55.462447Z",
     "shell.execute_reply": "2023-03-06T11:43:55.461867Z"
    }
   },
   "outputs": [
    {
     "data": {
      "text/plain": [
       "Batch(\n",
       "    a: tensor([[[ 0.5397,  0.8544, -0.8882],\n",
       "                [ 0.8508, -0.5312, -1.1660]],\n",
       "       \n",
       "               [[ 0.5397,  0.8544, -0.8882],\n",
       "                [ 0.8508, -0.5312, -1.1660]],\n",
       "       \n",
       "               [[ 0.5397,  0.8544, -0.8882],\n",
       "                [ 0.8508, -0.5312, -1.1660]],\n",
       "       \n",
       "               [[ 0.5397,  0.8544, -0.8882],\n",
       "                [ 0.8508, -0.5312, -1.1660]],\n",
       "       \n",
       "               [[ 0.5397,  0.8544, -0.8882],\n",
       "                [ 0.8508, -0.5312, -1.1660]],\n",
       "       \n",
       "               [[ 0.5397,  0.8544, -0.8882],\n",
       "                [ 0.8508, -0.5312, -1.1660]],\n",
       "       \n",
       "               [[ 0.5397,  0.8544, -0.8882],\n",
       "                [ 0.8508, -0.5312, -1.1660]],\n",
       "       \n",
       "               [[ 0.5397,  0.8544, -0.8882],\n",
       "                [ 0.8508, -0.5312, -1.1660]]]),\n",
       "    x: Batch(\n",
       "           c: tensor([[[-1.1085, -1.0771, -0.7692, -0.6660],\n",
       "                       [ 0.3262,  1.8130,  1.8673,  1.4062],\n",
       "                       [-0.6533, -0.2896,  0.0958, -0.4527]],\n",
       "              \n",
       "                      [[-1.1085, -1.0771, -0.7692, -0.6660],\n",
       "                       [ 0.3262,  1.8130,  1.8673,  1.4062],\n",
       "                       [-0.6533, -0.2896,  0.0958, -0.4527]],\n",
       "              \n",
       "                      [[-1.1085, -1.0771, -0.7692, -0.6660],\n",
       "                       [ 0.3262,  1.8130,  1.8673,  1.4062],\n",
       "                       [-0.6533, -0.2896,  0.0958, -0.4527]],\n",
       "              \n",
       "                      [[-1.1085, -1.0771, -0.7692, -0.6660],\n",
       "                       [ 0.3262,  1.8130,  1.8673,  1.4062],\n",
       "                       [-0.6533, -0.2896,  0.0958, -0.4527]],\n",
       "              \n",
       "                      [[-1.1085, -1.0771, -0.7692, -0.6660],\n",
       "                       [ 0.3262,  1.8130,  1.8673,  1.4062],\n",
       "                       [-0.6533, -0.2896,  0.0958, -0.4527]],\n",
       "              \n",
       "                      [[-1.1085, -1.0771, -0.7692, -0.6660],\n",
       "                       [ 0.3262,  1.8130,  1.8673,  1.4062],\n",
       "                       [-0.6533, -0.2896,  0.0958, -0.4527]],\n",
       "              \n",
       "                      [[-1.1085, -1.0771, -0.7692, -0.6660],\n",
       "                       [ 0.3262,  1.8130,  1.8673,  1.4062],\n",
       "                       [-0.6533, -0.2896,  0.0958, -0.4527]],\n",
       "              \n",
       "                      [[-1.1085, -1.0771, -0.7692, -0.6660],\n",
       "                       [ 0.3262,  1.8130,  1.8673,  1.4062],\n",
       "                       [-0.6533, -0.2896,  0.0958, -0.4527]]]),\n",
       "       ),\n",
       ")"
      ]
     },
     "execution_count": 25,
     "metadata": {},
     "output_type": "execute_result"
    }
   ],
   "source": [
    "batches = [Batch(**_TREE_DATA_2) for _ in range(8)]\n",
    "\n",
    "Batch.stack(batches)"
   ]
  },
  {
   "cell_type": "code",
   "execution_count": 26,
   "id": "ec9037a3",
   "metadata": {
    "execution": {
     "iopub.execute_input": "2023-03-06T11:43:55.465057Z",
     "iopub.status.busy": "2023-03-06T11:43:55.464475Z",
     "iopub.status.idle": "2023-03-06T11:44:01.837608Z",
     "shell.execute_reply": "2023-03-06T11:44:01.836867Z"
    }
   },
   "outputs": [
    {
     "name": "stdout",
     "output_type": "stream",
     "text": [
      "78.4 µs ± 219 ns per loop (mean ± std. dev. of 7 runs, 10,000 loops each)\n"
     ]
    }
   ],
   "source": [
    "%timeit Batch.stack(batches)"
   ]
  },
  {
   "cell_type": "code",
   "execution_count": 27,
   "id": "cb8ab77e",
   "metadata": {
    "execution": {
     "iopub.execute_input": "2023-03-06T11:44:01.840480Z",
     "iopub.status.busy": "2023-03-06T11:44:01.839937Z",
     "iopub.status.idle": "2023-03-06T11:44:01.847383Z",
     "shell.execute_reply": "2023-03-06T11:44:01.846786Z"
    }
   },
   "outputs": [
    {
     "data": {
      "text/plain": [
       "Batch(\n",
       "    a: tensor([[ 0.5397,  0.8544, -0.8882],\n",
       "               [ 0.8508, -0.5312, -1.1660],\n",
       "               [ 0.5397,  0.8544, -0.8882],\n",
       "               [ 0.8508, -0.5312, -1.1660],\n",
       "               [ 0.5397,  0.8544, -0.8882],\n",
       "               [ 0.8508, -0.5312, -1.1660],\n",
       "               [ 0.5397,  0.8544, -0.8882],\n",
       "               [ 0.8508, -0.5312, -1.1660],\n",
       "               [ 0.5397,  0.8544, -0.8882],\n",
       "               [ 0.8508, -0.5312, -1.1660],\n",
       "               [ 0.5397,  0.8544, -0.8882],\n",
       "               [ 0.8508, -0.5312, -1.1660],\n",
       "               [ 0.5397,  0.8544, -0.8882],\n",
       "               [ 0.8508, -0.5312, -1.1660],\n",
       "               [ 0.5397,  0.8544, -0.8882],\n",
       "               [ 0.8508, -0.5312, -1.1660]]),\n",
       "    x: Batch(\n",
       "           c: tensor([[-1.1085, -1.0771, -0.7692, -0.6660],\n",
       "                      [ 0.3262,  1.8130,  1.8673,  1.4062],\n",
       "                      [-0.6533, -0.2896,  0.0958, -0.4527],\n",
       "                      [-1.1085, -1.0771, -0.7692, -0.6660],\n",
       "                      [ 0.3262,  1.8130,  1.8673,  1.4062],\n",
       "                      [-0.6533, -0.2896,  0.0958, -0.4527],\n",
       "                      [-1.1085, -1.0771, -0.7692, -0.6660],\n",
       "                      [ 0.3262,  1.8130,  1.8673,  1.4062],\n",
       "                      [-0.6533, -0.2896,  0.0958, -0.4527],\n",
       "                      [-1.1085, -1.0771, -0.7692, -0.6660],\n",
       "                      [ 0.3262,  1.8130,  1.8673,  1.4062],\n",
       "                      [-0.6533, -0.2896,  0.0958, -0.4527],\n",
       "                      [-1.1085, -1.0771, -0.7692, -0.6660],\n",
       "                      [ 0.3262,  1.8130,  1.8673,  1.4062],\n",
       "                      [-0.6533, -0.2896,  0.0958, -0.4527],\n",
       "                      [-1.1085, -1.0771, -0.7692, -0.6660],\n",
       "                      [ 0.3262,  1.8130,  1.8673,  1.4062],\n",
       "                      [-0.6533, -0.2896,  0.0958, -0.4527],\n",
       "                      [-1.1085, -1.0771, -0.7692, -0.6660],\n",
       "                      [ 0.3262,  1.8130,  1.8673,  1.4062],\n",
       "                      [-0.6533, -0.2896,  0.0958, -0.4527],\n",
       "                      [-1.1085, -1.0771, -0.7692, -0.6660],\n",
       "                      [ 0.3262,  1.8130,  1.8673,  1.4062],\n",
       "                      [-0.6533, -0.2896,  0.0958, -0.4527]]),\n",
       "       ),\n",
       ")"
      ]
     },
     "execution_count": 27,
     "metadata": {},
     "output_type": "execute_result"
    }
   ],
   "source": [
    "Batch.cat(batches)"
   ]
  },
  {
   "cell_type": "code",
   "execution_count": 28,
   "id": "18dfb045",
   "metadata": {
    "execution": {
     "iopub.execute_input": "2023-03-06T11:44:01.849788Z",
     "iopub.status.busy": "2023-03-06T11:44:01.849445Z",
     "iopub.status.idle": "2023-03-06T11:44:13.358962Z",
     "shell.execute_reply": "2023-03-06T11:44:13.358203Z"
    }
   },
   "outputs": [
    {
     "name": "stdout",
     "output_type": "stream",
     "text": [
      "142 µs ± 457 ns per loop (mean ± std. dev. of 7 runs, 10,000 loops each)\n"
     ]
    }
   ],
   "source": [
    "%timeit Batch.cat(batches)"
   ]
  },
  {
   "cell_type": "code",
   "execution_count": 29,
   "id": "c6688e51",
   "metadata": {
    "execution": {
     "iopub.execute_input": "2023-03-06T11:44:13.361712Z",
     "iopub.status.busy": "2023-03-06T11:44:13.361360Z",
     "iopub.status.idle": "2023-03-06T11:44:15.865711Z",
     "shell.execute_reply": "2023-03-06T11:44:15.865008Z"
    }
   },
   "outputs": [
    {
     "name": "stdout",
     "output_type": "stream",
     "text": [
      "308 µs ± 1.59 µs per loop (mean ± std. dev. of 7 runs, 1,000 loops each)\n"
     ]
    }
   ],
   "source": [
    "batch = Batch({\n",
    "    'obs': torch.randn(8, 4, 84, 84),\n",
    "    'action': torch.randint(0, 6, size=(8, 1,)),\n",
    "    'reward': torch.rand(8, 1)}\n",
    ")\n",
    "\n",
    "%timeit list(Batch.split(batch, 1, shuffle=False, merge_last=True))"
   ]
  },
  {
   "cell_type": "code",
   "execution_count": null,
   "id": "2539fbd9",
   "metadata": {},
   "outputs": [],
   "source": []
  }
 ],
 "metadata": {
  "kernelspec": {
   "display_name": "Python 3 (ipykernel)",
   "language": "python",
   "name": "python3"
  },
  "language_info": {
   "codemirror_mode": {
    "name": "ipython",
    "version": 3
   },
   "file_extension": ".py",
   "mimetype": "text/x-python",
   "name": "python",
   "nbconvert_exporter": "python",
   "pygments_lexer": "ipython3",
   "version": "3.8.16"
  }
 },
 "nbformat": 4,
 "nbformat_minor": 5
}
