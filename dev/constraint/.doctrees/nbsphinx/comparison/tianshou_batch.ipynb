{
 "cells": [
  {
   "cell_type": "markdown",
   "id": "9d39d946",
   "metadata": {},
   "source": [
    "# Comparison Between TreeValue and Tianshou Batch"
   ]
  },
  {
   "cell_type": "markdown",
   "id": "3c6db2d4",
   "metadata": {},
   "source": [
    "In this section, we will take a look at the feature and performance of the [Tianshou Batch](https://github.com/thu-ml/tianshou) library, which is developed by Tsinghua Machine Learning Group."
   ]
  },
  {
   "cell_type": "markdown",
   "id": "069361b0",
   "metadata": {},
   "source": [
    "Before starting the comparison, let us define some thing."
   ]
  },
  {
   "cell_type": "code",
   "execution_count": 1,
   "id": "06fc8d26",
   "metadata": {
    "execution": {
     "iopub.execute_input": "2023-02-12T17:41:18.489566Z",
     "iopub.status.busy": "2023-02-12T17:41:18.489128Z",
     "iopub.status.idle": "2023-02-12T17:41:19.614063Z",
     "shell.execute_reply": "2023-02-12T17:41:19.612346Z"
    }
   },
   "outputs": [
    {
     "name": "stderr",
     "output_type": "stream",
     "text": [
      "/opt/hostedtoolcache/Python/3.8.16/x64/lib/python3.8/site-packages/tqdm/auto.py:22: TqdmWarning: IProgress not found. Please update jupyter and ipywidgets. See https://ipywidgets.readthedocs.io/en/stable/user_install.html\n",
      "  from .autonotebook import tqdm as notebook_tqdm\n"
     ]
    }
   ],
   "source": [
    "import torch \n",
    "\n",
    "_TREE_DATA_1 = {'a': 1, 'b': 2, 'x': {'c': 3, 'd': 4}}\n",
    "_TREE_DATA_2 = {\n",
    "    'a': torch.randn(2, 3), \n",
    "    'x': {\n",
    "        'c': torch.randn(3, 4)\n",
    "    },\n",
    "}\n",
    "_TREE_DATA_3 = {\n",
    "    'obs': torch.randn(4, 84, 84),\n",
    "    'action': torch.randint(0, 6, size=(1,)),\n",
    "    'reward': torch.rand(1),\n",
    "}"
   ]
  },
  {
   "cell_type": "markdown",
   "id": "83461b25",
   "metadata": {},
   "source": [
    "## Read and Write Operation"
   ]
  },
  {
   "cell_type": "markdown",
   "id": "067b3f73",
   "metadata": {},
   "source": [
    "Reading and writing are the two most common operations in the tree data structure based on the data model (TreeValue and Tianshou Batch both belong to this type), so this section will compare the reading and writing performance of these two libraries."
   ]
  },
  {
   "cell_type": "markdown",
   "id": "5d09a5b7",
   "metadata": {},
   "source": [
    "### TreeValue's Get and Set"
   ]
  },
  {
   "cell_type": "code",
   "execution_count": 2,
   "id": "9519c4bb",
   "metadata": {
    "execution": {
     "iopub.execute_input": "2023-02-12T17:41:19.620005Z",
     "iopub.status.busy": "2023-02-12T17:41:19.619441Z",
     "iopub.status.idle": "2023-02-12T17:41:19.658822Z",
     "shell.execute_reply": "2023-02-12T17:41:19.657889Z"
    }
   },
   "outputs": [],
   "source": [
    "from treevalue import FastTreeValue\n",
    "\n",
    "t = FastTreeValue(_TREE_DATA_2)"
   ]
  },
  {
   "cell_type": "code",
   "execution_count": 3,
   "id": "11c37677",
   "metadata": {
    "execution": {
     "iopub.execute_input": "2023-02-12T17:41:19.662880Z",
     "iopub.status.busy": "2023-02-12T17:41:19.662361Z",
     "iopub.status.idle": "2023-02-12T17:41:19.673827Z",
     "shell.execute_reply": "2023-02-12T17:41:19.673128Z"
    }
   },
   "outputs": [
    {
     "data": {
      "text/plain": [
       "<FastTreeValue 0x7ff441148a30>\n",
       "├── 'a' --> tensor([[-0.1166,  1.0725, -0.0604],\n",
       "│                   [ 1.3568,  1.0739,  0.7051]])\n",
       "└── 'x' --> <FastTreeValue 0x7ff441148970>\n",
       "    └── 'c' --> tensor([[-0.6383, -0.6225, -0.1962,  1.1172],\n",
       "                        [-0.6019,  1.0020,  0.0193,  0.0558],\n",
       "                        [ 1.0514, -2.1353,  0.1311, -0.5507]])"
      ]
     },
     "execution_count": 3,
     "metadata": {},
     "output_type": "execute_result"
    }
   ],
   "source": [
    "t"
   ]
  },
  {
   "cell_type": "code",
   "execution_count": 4,
   "id": "fd70b0b9",
   "metadata": {
    "execution": {
     "iopub.execute_input": "2023-02-12T17:41:19.677257Z",
     "iopub.status.busy": "2023-02-12T17:41:19.676648Z",
     "iopub.status.idle": "2023-02-12T17:41:19.682777Z",
     "shell.execute_reply": "2023-02-12T17:41:19.681635Z"
    }
   },
   "outputs": [
    {
     "data": {
      "text/plain": [
       "tensor([[-0.1166,  1.0725, -0.0604],\n",
       "        [ 1.3568,  1.0739,  0.7051]])"
      ]
     },
     "execution_count": 4,
     "metadata": {},
     "output_type": "execute_result"
    }
   ],
   "source": [
    "t.a"
   ]
  },
  {
   "cell_type": "code",
   "execution_count": 5,
   "id": "c18197bd",
   "metadata": {
    "execution": {
     "iopub.execute_input": "2023-02-12T17:41:19.686138Z",
     "iopub.status.busy": "2023-02-12T17:41:19.685473Z",
     "iopub.status.idle": "2023-02-12T17:41:25.893031Z",
     "shell.execute_reply": "2023-02-12T17:41:25.892050Z"
    }
   },
   "outputs": [
    {
     "name": "stdout",
     "output_type": "stream",
     "text": [
      "76.1 ns ± 0.53 ns per loop (mean ± std. dev. of 7 runs, 10,000,000 loops each)\n"
     ]
    }
   ],
   "source": [
    "%timeit t.a"
   ]
  },
  {
   "cell_type": "code",
   "execution_count": 6,
   "id": "bd52f867",
   "metadata": {
    "execution": {
     "iopub.execute_input": "2023-02-12T17:41:25.897120Z",
     "iopub.status.busy": "2023-02-12T17:41:25.896392Z",
     "iopub.status.idle": "2023-02-12T17:41:25.904317Z",
     "shell.execute_reply": "2023-02-12T17:41:25.903648Z"
    }
   },
   "outputs": [
    {
     "data": {
      "text/plain": [
       "<FastTreeValue 0x7ff441148a30>\n",
       "├── 'a' --> tensor([[-0.3234,  0.2013, -0.8772],\n",
       "│                   [-0.4889,  0.1278,  0.6607]])\n",
       "└── 'x' --> <FastTreeValue 0x7ff441148970>\n",
       "    └── 'c' --> tensor([[-0.6383, -0.6225, -0.1962,  1.1172],\n",
       "                        [-0.6019,  1.0020,  0.0193,  0.0558],\n",
       "                        [ 1.0514, -2.1353,  0.1311, -0.5507]])"
      ]
     },
     "execution_count": 6,
     "metadata": {},
     "output_type": "execute_result"
    }
   ],
   "source": [
    "new_value = torch.randn(2, 3)\n",
    "t.a = new_value\n",
    "\n",
    "t"
   ]
  },
  {
   "cell_type": "code",
   "execution_count": 7,
   "id": "bbe04d1c",
   "metadata": {
    "execution": {
     "iopub.execute_input": "2023-02-12T17:41:25.907936Z",
     "iopub.status.busy": "2023-02-12T17:41:25.907300Z",
     "iopub.status.idle": "2023-02-12T17:41:32.333447Z",
     "shell.execute_reply": "2023-02-12T17:41:32.332311Z"
    }
   },
   "outputs": [
    {
     "name": "stdout",
     "output_type": "stream",
     "text": [
      "79.2 ns ± 0.168 ns per loop (mean ± std. dev. of 7 runs, 10,000,000 loops each)\n"
     ]
    }
   ],
   "source": [
    "%timeit t.a = new_value"
   ]
  },
  {
   "cell_type": "markdown",
   "id": "48c49731",
   "metadata": {},
   "source": [
    "### Tianshou Batch's Get and Set"
   ]
  },
  {
   "cell_type": "code",
   "execution_count": 8,
   "id": "f1bb14c1",
   "metadata": {
    "execution": {
     "iopub.execute_input": "2023-02-12T17:41:32.337750Z",
     "iopub.status.busy": "2023-02-12T17:41:32.336772Z",
     "iopub.status.idle": "2023-02-12T17:41:32.804225Z",
     "shell.execute_reply": "2023-02-12T17:41:32.803329Z"
    }
   },
   "outputs": [],
   "source": [
    "from tianshou.data import Batch\n",
    "\n",
    "b = Batch(**_TREE_DATA_2)"
   ]
  },
  {
   "cell_type": "code",
   "execution_count": 9,
   "id": "cb0777c3",
   "metadata": {
    "execution": {
     "iopub.execute_input": "2023-02-12T17:41:32.808134Z",
     "iopub.status.busy": "2023-02-12T17:41:32.807565Z",
     "iopub.status.idle": "2023-02-12T17:41:32.814648Z",
     "shell.execute_reply": "2023-02-12T17:41:32.813836Z"
    }
   },
   "outputs": [
    {
     "data": {
      "text/plain": [
       "Batch(\n",
       "    a: tensor([[-0.1166,  1.0725, -0.0604],\n",
       "               [ 1.3568,  1.0739,  0.7051]]),\n",
       "    x: Batch(\n",
       "           c: tensor([[-0.6383, -0.6225, -0.1962,  1.1172],\n",
       "                      [-0.6019,  1.0020,  0.0193,  0.0558],\n",
       "                      [ 1.0514, -2.1353,  0.1311, -0.5507]]),\n",
       "       ),\n",
       ")"
      ]
     },
     "execution_count": 9,
     "metadata": {},
     "output_type": "execute_result"
    }
   ],
   "source": [
    "b"
   ]
  },
  {
   "cell_type": "code",
   "execution_count": 10,
   "id": "43ef8ea3",
   "metadata": {
    "execution": {
     "iopub.execute_input": "2023-02-12T17:41:32.817685Z",
     "iopub.status.busy": "2023-02-12T17:41:32.817268Z",
     "iopub.status.idle": "2023-02-12T17:41:32.823218Z",
     "shell.execute_reply": "2023-02-12T17:41:32.822420Z"
    }
   },
   "outputs": [
    {
     "data": {
      "text/plain": [
       "tensor([[-0.1166,  1.0725, -0.0604],\n",
       "        [ 1.3568,  1.0739,  0.7051]])"
      ]
     },
     "execution_count": 10,
     "metadata": {},
     "output_type": "execute_result"
    }
   ],
   "source": [
    "b.a"
   ]
  },
  {
   "cell_type": "code",
   "execution_count": 11,
   "id": "b785ab72",
   "metadata": {
    "execution": {
     "iopub.execute_input": "2023-02-12T17:41:32.826341Z",
     "iopub.status.busy": "2023-02-12T17:41:32.825924Z",
     "iopub.status.idle": "2023-02-12T17:41:38.898014Z",
     "shell.execute_reply": "2023-02-12T17:41:38.896965Z"
    }
   },
   "outputs": [
    {
     "name": "stdout",
     "output_type": "stream",
     "text": [
      "74.7 ns ± 1.49 ns per loop (mean ± std. dev. of 7 runs, 10,000,000 loops each)\n"
     ]
    }
   ],
   "source": [
    "%timeit b.a"
   ]
  },
  {
   "cell_type": "code",
   "execution_count": 12,
   "id": "ad54dc69",
   "metadata": {
    "execution": {
     "iopub.execute_input": "2023-02-12T17:41:38.904366Z",
     "iopub.status.busy": "2023-02-12T17:41:38.903803Z",
     "iopub.status.idle": "2023-02-12T17:41:38.910765Z",
     "shell.execute_reply": "2023-02-12T17:41:38.909976Z"
    }
   },
   "outputs": [
    {
     "data": {
      "text/plain": [
       "Batch(\n",
       "    a: tensor([[-1.1209,  1.3771, -0.5161],\n",
       "               [ 0.6015, -0.3667,  0.4761]]),\n",
       "    x: Batch(\n",
       "           c: tensor([[-0.6383, -0.6225, -0.1962,  1.1172],\n",
       "                      [-0.6019,  1.0020,  0.0193,  0.0558],\n",
       "                      [ 1.0514, -2.1353,  0.1311, -0.5507]]),\n",
       "       ),\n",
       ")"
      ]
     },
     "execution_count": 12,
     "metadata": {},
     "output_type": "execute_result"
    }
   ],
   "source": [
    "new_value = torch.randn(2, 3)\n",
    "b.a = new_value\n",
    "\n",
    "b"
   ]
  },
  {
   "cell_type": "code",
   "execution_count": 13,
   "id": "29b1d0bf",
   "metadata": {
    "execution": {
     "iopub.execute_input": "2023-02-12T17:41:38.914530Z",
     "iopub.status.busy": "2023-02-12T17:41:38.914174Z",
     "iopub.status.idle": "2023-02-12T17:41:43.925105Z",
     "shell.execute_reply": "2023-02-12T17:41:43.924167Z"
    }
   },
   "outputs": [
    {
     "name": "stdout",
     "output_type": "stream",
     "text": [
      "617 ns ± 3.83 ns per loop (mean ± std. dev. of 7 runs, 1,000,000 loops each)\n"
     ]
    }
   ],
   "source": [
    "%timeit b.a = new_value"
   ]
  },
  {
   "cell_type": "markdown",
   "id": "b61ad1d0",
   "metadata": {},
   "source": [
    "## Initialization"
   ]
  },
  {
   "cell_type": "markdown",
   "id": "d70f0d54",
   "metadata": {},
   "source": [
    "### TreeValue's Initialization"
   ]
  },
  {
   "cell_type": "code",
   "execution_count": 14,
   "id": "d32a679b",
   "metadata": {
    "execution": {
     "iopub.execute_input": "2023-02-12T17:41:43.928981Z",
     "iopub.status.busy": "2023-02-12T17:41:43.928325Z",
     "iopub.status.idle": "2023-02-12T17:41:51.889822Z",
     "shell.execute_reply": "2023-02-12T17:41:51.888560Z"
    }
   },
   "outputs": [
    {
     "name": "stdout",
     "output_type": "stream",
     "text": [
      "969 ns ± 24.4 ns per loop (mean ± std. dev. of 7 runs, 1,000,000 loops each)\n"
     ]
    }
   ],
   "source": [
    "%timeit FastTreeValue(_TREE_DATA_1)"
   ]
  },
  {
   "cell_type": "markdown",
   "id": "24f3707b",
   "metadata": {},
   "source": [
    "### Tianshou Batch's Initialization"
   ]
  },
  {
   "cell_type": "code",
   "execution_count": 15,
   "id": "ac3958df",
   "metadata": {
    "execution": {
     "iopub.execute_input": "2023-02-12T17:41:51.893704Z",
     "iopub.status.busy": "2023-02-12T17:41:51.892992Z",
     "iopub.status.idle": "2023-02-12T17:42:01.619806Z",
     "shell.execute_reply": "2023-02-12T17:42:01.618836Z"
    }
   },
   "outputs": [
    {
     "name": "stdout",
     "output_type": "stream",
     "text": [
      "12 µs ± 74.8 ns per loop (mean ± std. dev. of 7 runs, 100,000 loops each)\n"
     ]
    }
   ],
   "source": [
    "%timeit Batch(**_TREE_DATA_1)"
   ]
  },
  {
   "cell_type": "markdown",
   "id": "1ab82e2d",
   "metadata": {},
   "source": [
    "## Deep Copy Operation"
   ]
  },
  {
   "cell_type": "code",
   "execution_count": 16,
   "id": "210a9442",
   "metadata": {
    "execution": {
     "iopub.execute_input": "2023-02-12T17:42:01.623681Z",
     "iopub.status.busy": "2023-02-12T17:42:01.622996Z",
     "iopub.status.idle": "2023-02-12T17:42:01.627582Z",
     "shell.execute_reply": "2023-02-12T17:42:01.626886Z"
    }
   },
   "outputs": [],
   "source": [
    "import copy"
   ]
  },
  {
   "cell_type": "markdown",
   "id": "5a736274",
   "metadata": {},
   "source": [
    "### Deep Copy of TreeValue"
   ]
  },
  {
   "cell_type": "code",
   "execution_count": 17,
   "id": "f9bcadd6",
   "metadata": {
    "execution": {
     "iopub.execute_input": "2023-02-12T17:42:01.631053Z",
     "iopub.status.busy": "2023-02-12T17:42:01.630277Z",
     "iopub.status.idle": "2023-02-12T17:42:14.974649Z",
     "shell.execute_reply": "2023-02-12T17:42:14.973834Z"
    }
   },
   "outputs": [
    {
     "name": "stdout",
     "output_type": "stream",
     "text": [
      "164 µs ± 503 ns per loop (mean ± std. dev. of 7 runs, 10,000 loops each)\n"
     ]
    }
   ],
   "source": [
    "t3 = FastTreeValue(_TREE_DATA_3)\n",
    "%timeit copy.deepcopy(t3)"
   ]
  },
  {
   "cell_type": "markdown",
   "id": "bf8be7ea",
   "metadata": {},
   "source": [
    "### Deep Copy of Tianshou Batch"
   ]
  },
  {
   "cell_type": "code",
   "execution_count": 18,
   "id": "91998e6f",
   "metadata": {
    "execution": {
     "iopub.execute_input": "2023-02-12T17:42:14.978184Z",
     "iopub.status.busy": "2023-02-12T17:42:14.977585Z",
     "iopub.status.idle": "2023-02-12T17:42:16.512444Z",
     "shell.execute_reply": "2023-02-12T17:42:16.511728Z"
    }
   },
   "outputs": [
    {
     "name": "stdout",
     "output_type": "stream",
     "text": [
      "180 µs ± 10.3 µs per loop (mean ± std. dev. of 7 runs, 1,000 loops each)\n"
     ]
    }
   ],
   "source": [
    "b3 = Batch(**_TREE_DATA_3)\n",
    "%timeit copy.deepcopy(b3)"
   ]
  },
  {
   "cell_type": "markdown",
   "id": "223162fb",
   "metadata": {},
   "source": [
    "## Stack, Concat and Split Operation"
   ]
  },
  {
   "cell_type": "markdown",
   "id": "85fa4a73",
   "metadata": {},
   "source": [
    "### Performance of TreeValue"
   ]
  },
  {
   "cell_type": "code",
   "execution_count": 19,
   "id": "a0c2b697",
   "metadata": {
    "execution": {
     "iopub.execute_input": "2023-02-12T17:42:16.515891Z",
     "iopub.status.busy": "2023-02-12T17:42:16.515303Z",
     "iopub.status.idle": "2023-02-12T17:42:16.519220Z",
     "shell.execute_reply": "2023-02-12T17:42:16.518577Z"
    }
   },
   "outputs": [],
   "source": [
    "trees = [FastTreeValue(_TREE_DATA_2) for _ in range(8)]"
   ]
  },
  {
   "cell_type": "code",
   "execution_count": 20,
   "id": "017ea5a5",
   "metadata": {
    "execution": {
     "iopub.execute_input": "2023-02-12T17:42:16.522442Z",
     "iopub.status.busy": "2023-02-12T17:42:16.521746Z",
     "iopub.status.idle": "2023-02-12T17:42:16.530124Z",
     "shell.execute_reply": "2023-02-12T17:42:16.529476Z"
    }
   },
   "outputs": [
    {
     "data": {
      "text/plain": [
       "<FastTreeValue 0x7ff391d09af0>\n",
       "├── 'a' --> tensor([[[-0.1166,  1.0725, -0.0604],\n",
       "│                    [ 1.3568,  1.0739,  0.7051]],\n",
       "│           \n",
       "│                   [[-0.1166,  1.0725, -0.0604],\n",
       "│                    [ 1.3568,  1.0739,  0.7051]],\n",
       "│           \n",
       "│                   [[-0.1166,  1.0725, -0.0604],\n",
       "│                    [ 1.3568,  1.0739,  0.7051]],\n",
       "│           \n",
       "│                   [[-0.1166,  1.0725, -0.0604],\n",
       "│                    [ 1.3568,  1.0739,  0.7051]],\n",
       "│           \n",
       "│                   [[-0.1166,  1.0725, -0.0604],\n",
       "│                    [ 1.3568,  1.0739,  0.7051]],\n",
       "│           \n",
       "│                   [[-0.1166,  1.0725, -0.0604],\n",
       "│                    [ 1.3568,  1.0739,  0.7051]],\n",
       "│           \n",
       "│                   [[-0.1166,  1.0725, -0.0604],\n",
       "│                    [ 1.3568,  1.0739,  0.7051]],\n",
       "│           \n",
       "│                   [[-0.1166,  1.0725, -0.0604],\n",
       "│                    [ 1.3568,  1.0739,  0.7051]]])\n",
       "└── 'x' --> <FastTreeValue 0x7ff391d09f70>\n",
       "    └── 'c' --> tensor([[[-0.6383, -0.6225, -0.1962,  1.1172],\n",
       "                         [-0.6019,  1.0020,  0.0193,  0.0558],\n",
       "                         [ 1.0514, -2.1353,  0.1311, -0.5507]],\n",
       "                \n",
       "                        [[-0.6383, -0.6225, -0.1962,  1.1172],\n",
       "                         [-0.6019,  1.0020,  0.0193,  0.0558],\n",
       "                         [ 1.0514, -2.1353,  0.1311, -0.5507]],\n",
       "                \n",
       "                        [[-0.6383, -0.6225, -0.1962,  1.1172],\n",
       "                         [-0.6019,  1.0020,  0.0193,  0.0558],\n",
       "                         [ 1.0514, -2.1353,  0.1311, -0.5507]],\n",
       "                \n",
       "                        [[-0.6383, -0.6225, -0.1962,  1.1172],\n",
       "                         [-0.6019,  1.0020,  0.0193,  0.0558],\n",
       "                         [ 1.0514, -2.1353,  0.1311, -0.5507]],\n",
       "                \n",
       "                        [[-0.6383, -0.6225, -0.1962,  1.1172],\n",
       "                         [-0.6019,  1.0020,  0.0193,  0.0558],\n",
       "                         [ 1.0514, -2.1353,  0.1311, -0.5507]],\n",
       "                \n",
       "                        [[-0.6383, -0.6225, -0.1962,  1.1172],\n",
       "                         [-0.6019,  1.0020,  0.0193,  0.0558],\n",
       "                         [ 1.0514, -2.1353,  0.1311, -0.5507]],\n",
       "                \n",
       "                        [[-0.6383, -0.6225, -0.1962,  1.1172],\n",
       "                         [-0.6019,  1.0020,  0.0193,  0.0558],\n",
       "                         [ 1.0514, -2.1353,  0.1311, -0.5507]],\n",
       "                \n",
       "                        [[-0.6383, -0.6225, -0.1962,  1.1172],\n",
       "                         [-0.6019,  1.0020,  0.0193,  0.0558],\n",
       "                         [ 1.0514, -2.1353,  0.1311, -0.5507]]])"
      ]
     },
     "execution_count": 20,
     "metadata": {},
     "output_type": "execute_result"
    }
   ],
   "source": [
    "t_stack = FastTreeValue.func(subside=True)(torch.stack)\n",
    "\n",
    "t_stack(trees)"
   ]
  },
  {
   "cell_type": "code",
   "execution_count": 21,
   "id": "f8b3f415",
   "metadata": {
    "execution": {
     "iopub.execute_input": "2023-02-12T17:42:16.535130Z",
     "iopub.status.busy": "2023-02-12T17:42:16.534684Z",
     "iopub.status.idle": "2023-02-12T17:42:19.599754Z",
     "shell.execute_reply": "2023-02-12T17:42:19.598183Z"
    }
   },
   "outputs": [
    {
     "name": "stdout",
     "output_type": "stream",
     "text": [
      "37.7 µs ± 791 ns per loop (mean ± std. dev. of 7 runs, 10,000 loops each)\n"
     ]
    }
   ],
   "source": [
    "%timeit t_stack(trees)"
   ]
  },
  {
   "cell_type": "code",
   "execution_count": 22,
   "id": "94b56771",
   "metadata": {
    "execution": {
     "iopub.execute_input": "2023-02-12T17:42:19.606828Z",
     "iopub.status.busy": "2023-02-12T17:42:19.604020Z",
     "iopub.status.idle": "2023-02-12T17:42:19.615811Z",
     "shell.execute_reply": "2023-02-12T17:42:19.615041Z"
    }
   },
   "outputs": [
    {
     "data": {
      "text/plain": [
       "<FastTreeValue 0x7ff391d09580>\n",
       "├── 'a' --> tensor([[-0.1166,  1.0725, -0.0604],\n",
       "│                   [ 1.3568,  1.0739,  0.7051],\n",
       "│                   [-0.1166,  1.0725, -0.0604],\n",
       "│                   [ 1.3568,  1.0739,  0.7051],\n",
       "│                   [-0.1166,  1.0725, -0.0604],\n",
       "│                   [ 1.3568,  1.0739,  0.7051],\n",
       "│                   [-0.1166,  1.0725, -0.0604],\n",
       "│                   [ 1.3568,  1.0739,  0.7051],\n",
       "│                   [-0.1166,  1.0725, -0.0604],\n",
       "│                   [ 1.3568,  1.0739,  0.7051],\n",
       "│                   [-0.1166,  1.0725, -0.0604],\n",
       "│                   [ 1.3568,  1.0739,  0.7051],\n",
       "│                   [-0.1166,  1.0725, -0.0604],\n",
       "│                   [ 1.3568,  1.0739,  0.7051],\n",
       "│                   [-0.1166,  1.0725, -0.0604],\n",
       "│                   [ 1.3568,  1.0739,  0.7051]])\n",
       "└── 'x' --> <FastTreeValue 0x7ff391d092b0>\n",
       "    └── 'c' --> tensor([[-0.6383, -0.6225, -0.1962,  1.1172],\n",
       "                        [-0.6019,  1.0020,  0.0193,  0.0558],\n",
       "                        [ 1.0514, -2.1353,  0.1311, -0.5507],\n",
       "                        [-0.6383, -0.6225, -0.1962,  1.1172],\n",
       "                        [-0.6019,  1.0020,  0.0193,  0.0558],\n",
       "                        [ 1.0514, -2.1353,  0.1311, -0.5507],\n",
       "                        [-0.6383, -0.6225, -0.1962,  1.1172],\n",
       "                        [-0.6019,  1.0020,  0.0193,  0.0558],\n",
       "                        [ 1.0514, -2.1353,  0.1311, -0.5507],\n",
       "                        [-0.6383, -0.6225, -0.1962,  1.1172],\n",
       "                        [-0.6019,  1.0020,  0.0193,  0.0558],\n",
       "                        [ 1.0514, -2.1353,  0.1311, -0.5507],\n",
       "                        [-0.6383, -0.6225, -0.1962,  1.1172],\n",
       "                        [-0.6019,  1.0020,  0.0193,  0.0558],\n",
       "                        [ 1.0514, -2.1353,  0.1311, -0.5507],\n",
       "                        [-0.6383, -0.6225, -0.1962,  1.1172],\n",
       "                        [-0.6019,  1.0020,  0.0193,  0.0558],\n",
       "                        [ 1.0514, -2.1353,  0.1311, -0.5507],\n",
       "                        [-0.6383, -0.6225, -0.1962,  1.1172],\n",
       "                        [-0.6019,  1.0020,  0.0193,  0.0558],\n",
       "                        [ 1.0514, -2.1353,  0.1311, -0.5507],\n",
       "                        [-0.6383, -0.6225, -0.1962,  1.1172],\n",
       "                        [-0.6019,  1.0020,  0.0193,  0.0558],\n",
       "                        [ 1.0514, -2.1353,  0.1311, -0.5507]])"
      ]
     },
     "execution_count": 22,
     "metadata": {},
     "output_type": "execute_result"
    }
   ],
   "source": [
    "t_cat = FastTreeValue.func(subside=True)(torch.cat)\n",
    "\n",
    "t_cat(trees)"
   ]
  },
  {
   "cell_type": "code",
   "execution_count": 23,
   "id": "5e9c06a6",
   "metadata": {
    "execution": {
     "iopub.execute_input": "2023-02-12T17:42:19.619346Z",
     "iopub.status.busy": "2023-02-12T17:42:19.618889Z",
     "iopub.status.idle": "2023-02-12T17:42:22.454281Z",
     "shell.execute_reply": "2023-02-12T17:42:22.453358Z"
    }
   },
   "outputs": [
    {
     "name": "stdout",
     "output_type": "stream",
     "text": [
      "34.8 µs ± 127 ns per loop (mean ± std. dev. of 7 runs, 10,000 loops each)\n"
     ]
    }
   ],
   "source": [
    "%timeit t_cat(trees)"
   ]
  },
  {
   "cell_type": "code",
   "execution_count": 24,
   "id": "a3ab5c8f",
   "metadata": {
    "execution": {
     "iopub.execute_input": "2023-02-12T17:42:22.458453Z",
     "iopub.status.busy": "2023-02-12T17:42:22.458012Z",
     "iopub.status.idle": "2023-02-12T17:42:27.960213Z",
     "shell.execute_reply": "2023-02-12T17:42:27.959221Z"
    }
   },
   "outputs": [
    {
     "name": "stdout",
     "output_type": "stream",
     "text": [
      "66.4 µs ± 3.97 µs per loop (mean ± std. dev. of 7 runs, 10,000 loops each)\n"
     ]
    }
   ],
   "source": [
    "t_split = FastTreeValue.func(rise=True)(torch.split)\n",
    "tree = FastTreeValue({\n",
    "    'obs': torch.randn(8, 4, 84, 84),\n",
    "    'action': torch.randint(0, 6, size=(8, 1,)),\n",
    "    'reward': torch.rand(8, 1),\n",
    "})\n",
    "\n",
    "%timeit t_split(tree, 1)"
   ]
  },
  {
   "cell_type": "markdown",
   "id": "31c3ec0b",
   "metadata": {},
   "source": [
    "### Performance of Tianshou Batch"
   ]
  },
  {
   "cell_type": "code",
   "execution_count": 25,
   "id": "9ead828a",
   "metadata": {
    "execution": {
     "iopub.execute_input": "2023-02-12T17:42:27.963757Z",
     "iopub.status.busy": "2023-02-12T17:42:27.963380Z",
     "iopub.status.idle": "2023-02-12T17:42:27.975243Z",
     "shell.execute_reply": "2023-02-12T17:42:27.974472Z"
    }
   },
   "outputs": [
    {
     "data": {
      "text/plain": [
       "Batch(\n",
       "    a: tensor([[[-0.1166,  1.0725, -0.0604],\n",
       "                [ 1.3568,  1.0739,  0.7051]],\n",
       "       \n",
       "               [[-0.1166,  1.0725, -0.0604],\n",
       "                [ 1.3568,  1.0739,  0.7051]],\n",
       "       \n",
       "               [[-0.1166,  1.0725, -0.0604],\n",
       "                [ 1.3568,  1.0739,  0.7051]],\n",
       "       \n",
       "               [[-0.1166,  1.0725, -0.0604],\n",
       "                [ 1.3568,  1.0739,  0.7051]],\n",
       "       \n",
       "               [[-0.1166,  1.0725, -0.0604],\n",
       "                [ 1.3568,  1.0739,  0.7051]],\n",
       "       \n",
       "               [[-0.1166,  1.0725, -0.0604],\n",
       "                [ 1.3568,  1.0739,  0.7051]],\n",
       "       \n",
       "               [[-0.1166,  1.0725, -0.0604],\n",
       "                [ 1.3568,  1.0739,  0.7051]],\n",
       "       \n",
       "               [[-0.1166,  1.0725, -0.0604],\n",
       "                [ 1.3568,  1.0739,  0.7051]]]),\n",
       "    x: Batch(\n",
       "           c: tensor([[[-0.6383, -0.6225, -0.1962,  1.1172],\n",
       "                       [-0.6019,  1.0020,  0.0193,  0.0558],\n",
       "                       [ 1.0514, -2.1353,  0.1311, -0.5507]],\n",
       "              \n",
       "                      [[-0.6383, -0.6225, -0.1962,  1.1172],\n",
       "                       [-0.6019,  1.0020,  0.0193,  0.0558],\n",
       "                       [ 1.0514, -2.1353,  0.1311, -0.5507]],\n",
       "              \n",
       "                      [[-0.6383, -0.6225, -0.1962,  1.1172],\n",
       "                       [-0.6019,  1.0020,  0.0193,  0.0558],\n",
       "                       [ 1.0514, -2.1353,  0.1311, -0.5507]],\n",
       "              \n",
       "                      [[-0.6383, -0.6225, -0.1962,  1.1172],\n",
       "                       [-0.6019,  1.0020,  0.0193,  0.0558],\n",
       "                       [ 1.0514, -2.1353,  0.1311, -0.5507]],\n",
       "              \n",
       "                      [[-0.6383, -0.6225, -0.1962,  1.1172],\n",
       "                       [-0.6019,  1.0020,  0.0193,  0.0558],\n",
       "                       [ 1.0514, -2.1353,  0.1311, -0.5507]],\n",
       "              \n",
       "                      [[-0.6383, -0.6225, -0.1962,  1.1172],\n",
       "                       [-0.6019,  1.0020,  0.0193,  0.0558],\n",
       "                       [ 1.0514, -2.1353,  0.1311, -0.5507]],\n",
       "              \n",
       "                      [[-0.6383, -0.6225, -0.1962,  1.1172],\n",
       "                       [-0.6019,  1.0020,  0.0193,  0.0558],\n",
       "                       [ 1.0514, -2.1353,  0.1311, -0.5507]],\n",
       "              \n",
       "                      [[-0.6383, -0.6225, -0.1962,  1.1172],\n",
       "                       [-0.6019,  1.0020,  0.0193,  0.0558],\n",
       "                       [ 1.0514, -2.1353,  0.1311, -0.5507]]]),\n",
       "       ),\n",
       ")"
      ]
     },
     "execution_count": 25,
     "metadata": {},
     "output_type": "execute_result"
    }
   ],
   "source": [
    "batches = [Batch(**_TREE_DATA_2) for _ in range(8)]\n",
    "\n",
    "Batch.stack(batches)"
   ]
  },
  {
   "cell_type": "code",
   "execution_count": 26,
   "id": "ec9037a3",
   "metadata": {
    "execution": {
     "iopub.execute_input": "2023-02-12T17:42:27.978932Z",
     "iopub.status.busy": "2023-02-12T17:42:27.978499Z",
     "iopub.status.idle": "2023-02-12T17:42:35.431724Z",
     "shell.execute_reply": "2023-02-12T17:42:35.430463Z"
    }
   },
   "outputs": [
    {
     "name": "stdout",
     "output_type": "stream",
     "text": [
      "91 µs ± 307 ns per loop (mean ± std. dev. of 7 runs, 10,000 loops each)\n"
     ]
    }
   ],
   "source": [
    "%timeit Batch.stack(batches)"
   ]
  },
  {
   "cell_type": "code",
   "execution_count": 27,
   "id": "cb8ab77e",
   "metadata": {
    "execution": {
     "iopub.execute_input": "2023-02-12T17:42:35.435893Z",
     "iopub.status.busy": "2023-02-12T17:42:35.435217Z",
     "iopub.status.idle": "2023-02-12T17:42:35.445480Z",
     "shell.execute_reply": "2023-02-12T17:42:35.444686Z"
    }
   },
   "outputs": [
    {
     "data": {
      "text/plain": [
       "Batch(\n",
       "    a: tensor([[-0.1166,  1.0725, -0.0604],\n",
       "               [ 1.3568,  1.0739,  0.7051],\n",
       "               [-0.1166,  1.0725, -0.0604],\n",
       "               [ 1.3568,  1.0739,  0.7051],\n",
       "               [-0.1166,  1.0725, -0.0604],\n",
       "               [ 1.3568,  1.0739,  0.7051],\n",
       "               [-0.1166,  1.0725, -0.0604],\n",
       "               [ 1.3568,  1.0739,  0.7051],\n",
       "               [-0.1166,  1.0725, -0.0604],\n",
       "               [ 1.3568,  1.0739,  0.7051],\n",
       "               [-0.1166,  1.0725, -0.0604],\n",
       "               [ 1.3568,  1.0739,  0.7051],\n",
       "               [-0.1166,  1.0725, -0.0604],\n",
       "               [ 1.3568,  1.0739,  0.7051],\n",
       "               [-0.1166,  1.0725, -0.0604],\n",
       "               [ 1.3568,  1.0739,  0.7051]]),\n",
       "    x: Batch(\n",
       "           c: tensor([[-0.6383, -0.6225, -0.1962,  1.1172],\n",
       "                      [-0.6019,  1.0020,  0.0193,  0.0558],\n",
       "                      [ 1.0514, -2.1353,  0.1311, -0.5507],\n",
       "                      [-0.6383, -0.6225, -0.1962,  1.1172],\n",
       "                      [-0.6019,  1.0020,  0.0193,  0.0558],\n",
       "                      [ 1.0514, -2.1353,  0.1311, -0.5507],\n",
       "                      [-0.6383, -0.6225, -0.1962,  1.1172],\n",
       "                      [-0.6019,  1.0020,  0.0193,  0.0558],\n",
       "                      [ 1.0514, -2.1353,  0.1311, -0.5507],\n",
       "                      [-0.6383, -0.6225, -0.1962,  1.1172],\n",
       "                      [-0.6019,  1.0020,  0.0193,  0.0558],\n",
       "                      [ 1.0514, -2.1353,  0.1311, -0.5507],\n",
       "                      [-0.6383, -0.6225, -0.1962,  1.1172],\n",
       "                      [-0.6019,  1.0020,  0.0193,  0.0558],\n",
       "                      [ 1.0514, -2.1353,  0.1311, -0.5507],\n",
       "                      [-0.6383, -0.6225, -0.1962,  1.1172],\n",
       "                      [-0.6019,  1.0020,  0.0193,  0.0558],\n",
       "                      [ 1.0514, -2.1353,  0.1311, -0.5507],\n",
       "                      [-0.6383, -0.6225, -0.1962,  1.1172],\n",
       "                      [-0.6019,  1.0020,  0.0193,  0.0558],\n",
       "                      [ 1.0514, -2.1353,  0.1311, -0.5507],\n",
       "                      [-0.6383, -0.6225, -0.1962,  1.1172],\n",
       "                      [-0.6019,  1.0020,  0.0193,  0.0558],\n",
       "                      [ 1.0514, -2.1353,  0.1311, -0.5507]]),\n",
       "       ),\n",
       ")"
      ]
     },
     "execution_count": 27,
     "metadata": {},
     "output_type": "execute_result"
    }
   ],
   "source": [
    "Batch.cat(batches)"
   ]
  },
  {
   "cell_type": "code",
   "execution_count": 28,
   "id": "18dfb045",
   "metadata": {
    "execution": {
     "iopub.execute_input": "2023-02-12T17:42:35.449038Z",
     "iopub.status.busy": "2023-02-12T17:42:35.448262Z",
     "iopub.status.idle": "2023-02-12T17:42:48.952603Z",
     "shell.execute_reply": "2023-02-12T17:42:48.951235Z"
    }
   },
   "outputs": [
    {
     "name": "stdout",
     "output_type": "stream",
     "text": [
      "166 µs ± 1.17 µs per loop (mean ± std. dev. of 7 runs, 10,000 loops each)\n"
     ]
    }
   ],
   "source": [
    "%timeit Batch.cat(batches)"
   ]
  },
  {
   "cell_type": "code",
   "execution_count": 29,
   "id": "c6688e51",
   "metadata": {
    "execution": {
     "iopub.execute_input": "2023-02-12T17:42:48.957127Z",
     "iopub.status.busy": "2023-02-12T17:42:48.956215Z",
     "iopub.status.idle": "2023-02-12T17:42:52.360836Z",
     "shell.execute_reply": "2023-02-12T17:42:52.359964Z"
    }
   },
   "outputs": [
    {
     "name": "stdout",
     "output_type": "stream",
     "text": [
      "416 µs ± 28.1 µs per loop (mean ± std. dev. of 7 runs, 1,000 loops each)\n"
     ]
    }
   ],
   "source": [
    "batch = Batch({\n",
    "    'obs': torch.randn(8, 4, 84, 84),\n",
    "    'action': torch.randint(0, 6, size=(8, 1,)),\n",
    "    'reward': torch.rand(8, 1)}\n",
    ")\n",
    "\n",
    "%timeit list(Batch.split(batch, 1, shuffle=False, merge_last=True))"
   ]
  },
  {
   "cell_type": "code",
   "execution_count": null,
   "id": "2539fbd9",
   "metadata": {},
   "outputs": [],
   "source": []
  }
 ],
 "metadata": {
  "kernelspec": {
   "display_name": "Python 3 (ipykernel)",
   "language": "python",
   "name": "python3"
  },
  "language_info": {
   "codemirror_mode": {
    "name": "ipython",
    "version": 3
   },
   "file_extension": ".py",
   "mimetype": "text/x-python",
   "name": "python",
   "nbconvert_exporter": "python",
   "pygments_lexer": "ipython3",
   "version": "3.8.16"
  }
 },
 "nbformat": 4,
 "nbformat_minor": 5
}
