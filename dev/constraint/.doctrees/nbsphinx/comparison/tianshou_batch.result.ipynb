{
 "cells": [
  {
   "cell_type": "markdown",
   "id": "9d39d946",
   "metadata": {},
   "source": [
    "# Comparison Between TreeValue and Tianshou Batch"
   ]
  },
  {
   "cell_type": "markdown",
   "id": "3c6db2d4",
   "metadata": {},
   "source": [
    "In this section, we will take a look at the feature and performance of the [Tianshou Batch](https://github.com/thu-ml/tianshou) library, which is developed by Tsinghua Machine Learning Group."
   ]
  },
  {
   "cell_type": "markdown",
   "id": "069361b0",
   "metadata": {},
   "source": [
    "Before starting the comparison, let us define some thing."
   ]
  },
  {
   "cell_type": "code",
   "execution_count": 1,
   "id": "06fc8d26",
   "metadata": {
    "execution": {
     "iopub.execute_input": "2023-02-12T16:58:50.668854Z",
     "iopub.status.busy": "2023-02-12T16:58:50.668570Z",
     "iopub.status.idle": "2023-02-12T16:58:51.865870Z",
     "shell.execute_reply": "2023-02-12T16:58:51.864890Z"
    }
   },
   "outputs": [
    {
     "name": "stderr",
     "output_type": "stream",
     "text": [
      "/opt/hostedtoolcache/Python/3.8.16/x64/lib/python3.8/site-packages/tqdm/auto.py:22: TqdmWarning: IProgress not found. Please update jupyter and ipywidgets. See https://ipywidgets.readthedocs.io/en/stable/user_install.html\n",
      "  from .autonotebook import tqdm as notebook_tqdm\n"
     ]
    }
   ],
   "source": [
    "import torch \n",
    "\n",
    "_TREE_DATA_1 = {'a': 1, 'b': 2, 'x': {'c': 3, 'd': 4}}\n",
    "_TREE_DATA_2 = {\n",
    "    'a': torch.randn(2, 3), \n",
    "    'x': {\n",
    "        'c': torch.randn(3, 4)\n",
    "    },\n",
    "}\n",
    "_TREE_DATA_3 = {\n",
    "    'obs': torch.randn(4, 84, 84),\n",
    "    'action': torch.randint(0, 6, size=(1,)),\n",
    "    'reward': torch.rand(1),\n",
    "}"
   ]
  },
  {
   "cell_type": "markdown",
   "id": "83461b25",
   "metadata": {},
   "source": [
    "## Read and Write Operation"
   ]
  },
  {
   "cell_type": "markdown",
   "id": "067b3f73",
   "metadata": {},
   "source": [
    "Reading and writing are the two most common operations in the tree data structure based on the data model (TreeValue and Tianshou Batch both belong to this type), so this section will compare the reading and writing performance of these two libraries."
   ]
  },
  {
   "cell_type": "markdown",
   "id": "5d09a5b7",
   "metadata": {},
   "source": [
    "### TreeValue's Get and Set"
   ]
  },
  {
   "cell_type": "code",
   "execution_count": 2,
   "id": "9519c4bb",
   "metadata": {
    "execution": {
     "iopub.execute_input": "2023-02-12T16:58:51.870560Z",
     "iopub.status.busy": "2023-02-12T16:58:51.869764Z",
     "iopub.status.idle": "2023-02-12T16:58:51.909837Z",
     "shell.execute_reply": "2023-02-12T16:58:51.909018Z"
    }
   },
   "outputs": [],
   "source": [
    "from treevalue import FastTreeValue\n",
    "\n",
    "t = FastTreeValue(_TREE_DATA_2)"
   ]
  },
  {
   "cell_type": "code",
   "execution_count": 3,
   "id": "11c37677",
   "metadata": {
    "execution": {
     "iopub.execute_input": "2023-02-12T16:58:51.913828Z",
     "iopub.status.busy": "2023-02-12T16:58:51.913357Z",
     "iopub.status.idle": "2023-02-12T16:58:51.930339Z",
     "shell.execute_reply": "2023-02-12T16:58:51.924319Z"
    }
   },
   "outputs": [
    {
     "data": {
      "text/plain": [
       "<FastTreeValue 0x7f53bd5ef940>\n",
       "├── 'a' --> tensor([[-1.5258,  0.6921,  0.0682],\n",
       "│                   [-0.4124,  0.2683, -1.9778]])\n",
       "└── 'x' --> <FastTreeValue 0x7f53bd5ef250>\n",
       "    └── 'c' --> tensor([[ 1.0127, -1.1618,  0.2166, -0.7350],\n",
       "                        [ 1.1369,  0.8220,  0.6619, -0.2425],\n",
       "                        [-0.3944, -0.7889, -1.1785, -1.9596]])"
      ]
     },
     "execution_count": 3,
     "metadata": {},
     "output_type": "execute_result"
    }
   ],
   "source": [
    "t"
   ]
  },
  {
   "cell_type": "code",
   "execution_count": 4,
   "id": "fd70b0b9",
   "metadata": {
    "execution": {
     "iopub.execute_input": "2023-02-12T16:58:51.933793Z",
     "iopub.status.busy": "2023-02-12T16:58:51.933187Z",
     "iopub.status.idle": "2023-02-12T16:58:51.940380Z",
     "shell.execute_reply": "2023-02-12T16:58:51.939726Z"
    }
   },
   "outputs": [
    {
     "data": {
      "text/plain": [
       "tensor([[-1.5258,  0.6921,  0.0682],\n",
       "        [-0.4124,  0.2683, -1.9778]])"
      ]
     },
     "execution_count": 4,
     "metadata": {},
     "output_type": "execute_result"
    }
   ],
   "source": [
    "t.a"
   ]
  },
  {
   "cell_type": "code",
   "execution_count": 5,
   "id": "c18197bd",
   "metadata": {
    "execution": {
     "iopub.execute_input": "2023-02-12T16:58:51.943899Z",
     "iopub.status.busy": "2023-02-12T16:58:51.943296Z",
     "iopub.status.idle": "2023-02-12T16:58:58.258512Z",
     "shell.execute_reply": "2023-02-12T16:58:58.257560Z"
    }
   },
   "outputs": [
    {
     "name": "stdout",
     "output_type": "stream",
     "text": [
      "77.9 ns ± 0.342 ns per loop (mean ± std. dev. of 7 runs, 10,000,000 loops each)\n"
     ]
    }
   ],
   "source": [
    "%timeit t.a"
   ]
  },
  {
   "cell_type": "code",
   "execution_count": 6,
   "id": "bd52f867",
   "metadata": {
    "execution": {
     "iopub.execute_input": "2023-02-12T16:58:58.262445Z",
     "iopub.status.busy": "2023-02-12T16:58:58.261716Z",
     "iopub.status.idle": "2023-02-12T16:58:58.270036Z",
     "shell.execute_reply": "2023-02-12T16:58:58.269299Z"
    }
   },
   "outputs": [
    {
     "data": {
      "text/plain": [
       "<FastTreeValue 0x7f53bd5ef940>\n",
       "├── 'a' --> tensor([[ 0.0844,  0.7522, -1.1670],\n",
       "│                   [ 0.8520,  0.3904, -1.0036]])\n",
       "└── 'x' --> <FastTreeValue 0x7f53bd5ef250>\n",
       "    └── 'c' --> tensor([[ 1.0127, -1.1618,  0.2166, -0.7350],\n",
       "                        [ 1.1369,  0.8220,  0.6619, -0.2425],\n",
       "                        [-0.3944, -0.7889, -1.1785, -1.9596]])"
      ]
     },
     "execution_count": 6,
     "metadata": {},
     "output_type": "execute_result"
    }
   ],
   "source": [
    "new_value = torch.randn(2, 3)\n",
    "t.a = new_value\n",
    "\n",
    "t"
   ]
  },
  {
   "cell_type": "code",
   "execution_count": 7,
   "id": "bbe04d1c",
   "metadata": {
    "execution": {
     "iopub.execute_input": "2023-02-12T16:58:58.273207Z",
     "iopub.status.busy": "2023-02-12T16:58:58.272690Z",
     "iopub.status.idle": "2023-02-12T16:59:05.002250Z",
     "shell.execute_reply": "2023-02-12T16:59:05.001196Z"
    }
   },
   "outputs": [
    {
     "name": "stdout",
     "output_type": "stream",
     "text": [
      "81.5 ns ± 1.96 ns per loop (mean ± std. dev. of 7 runs, 10,000,000 loops each)\n"
     ]
    }
   ],
   "source": [
    "%timeit t.a = new_value"
   ]
  },
  {
   "cell_type": "markdown",
   "id": "48c49731",
   "metadata": {},
   "source": [
    "### Tianshou Batch's Get and Set"
   ]
  },
  {
   "cell_type": "code",
   "execution_count": 8,
   "id": "f1bb14c1",
   "metadata": {
    "execution": {
     "iopub.execute_input": "2023-02-12T16:59:05.006258Z",
     "iopub.status.busy": "2023-02-12T16:59:05.005679Z",
     "iopub.status.idle": "2023-02-12T16:59:05.434588Z",
     "shell.execute_reply": "2023-02-12T16:59:05.433551Z"
    }
   },
   "outputs": [],
   "source": [
    "from tianshou.data import Batch\n",
    "\n",
    "b = Batch(**_TREE_DATA_2)"
   ]
  },
  {
   "cell_type": "code",
   "execution_count": 9,
   "id": "cb0777c3",
   "metadata": {
    "execution": {
     "iopub.execute_input": "2023-02-12T16:59:05.439148Z",
     "iopub.status.busy": "2023-02-12T16:59:05.438435Z",
     "iopub.status.idle": "2023-02-12T16:59:05.445984Z",
     "shell.execute_reply": "2023-02-12T16:59:05.445167Z"
    }
   },
   "outputs": [
    {
     "data": {
      "text/plain": [
       "Batch(\n",
       "    a: tensor([[-1.5258,  0.6921,  0.0682],\n",
       "               [-0.4124,  0.2683, -1.9778]]),\n",
       "    x: Batch(\n",
       "           c: tensor([[ 1.0127, -1.1618,  0.2166, -0.7350],\n",
       "                      [ 1.1369,  0.8220,  0.6619, -0.2425],\n",
       "                      [-0.3944, -0.7889, -1.1785, -1.9596]]),\n",
       "       ),\n",
       ")"
      ]
     },
     "execution_count": 9,
     "metadata": {},
     "output_type": "execute_result"
    }
   ],
   "source": [
    "b"
   ]
  },
  {
   "cell_type": "code",
   "execution_count": 10,
   "id": "43ef8ea3",
   "metadata": {
    "execution": {
     "iopub.execute_input": "2023-02-12T16:59:05.449637Z",
     "iopub.status.busy": "2023-02-12T16:59:05.449199Z",
     "iopub.status.idle": "2023-02-12T16:59:05.455223Z",
     "shell.execute_reply": "2023-02-12T16:59:05.454407Z"
    }
   },
   "outputs": [
    {
     "data": {
      "text/plain": [
       "tensor([[-1.5258,  0.6921,  0.0682],\n",
       "        [-0.4124,  0.2683, -1.9778]])"
      ]
     },
     "execution_count": 10,
     "metadata": {},
     "output_type": "execute_result"
    }
   ],
   "source": [
    "b.a"
   ]
  },
  {
   "cell_type": "code",
   "execution_count": 11,
   "id": "b785ab72",
   "metadata": {
    "execution": {
     "iopub.execute_input": "2023-02-12T16:59:05.458159Z",
     "iopub.status.busy": "2023-02-12T16:59:05.457730Z",
     "iopub.status.idle": "2023-02-12T16:59:11.046543Z",
     "shell.execute_reply": "2023-02-12T16:59:11.045511Z"
    }
   },
   "outputs": [
    {
     "name": "stdout",
     "output_type": "stream",
     "text": [
      "68.8 ns ± 0.168 ns per loop (mean ± std. dev. of 7 runs, 10,000,000 loops each)\n"
     ]
    }
   ],
   "source": [
    "%timeit b.a"
   ]
  },
  {
   "cell_type": "code",
   "execution_count": 12,
   "id": "ad54dc69",
   "metadata": {
    "execution": {
     "iopub.execute_input": "2023-02-12T16:59:11.050628Z",
     "iopub.status.busy": "2023-02-12T16:59:11.050180Z",
     "iopub.status.idle": "2023-02-12T16:59:11.060608Z",
     "shell.execute_reply": "2023-02-12T16:59:11.059788Z"
    }
   },
   "outputs": [
    {
     "data": {
      "text/plain": [
       "Batch(\n",
       "    a: tensor([[-0.2507,  0.6964, -0.6188],\n",
       "               [ 0.4230, -0.5236, -0.9414]]),\n",
       "    x: Batch(\n",
       "           c: tensor([[ 1.0127, -1.1618,  0.2166, -0.7350],\n",
       "                      [ 1.1369,  0.8220,  0.6619, -0.2425],\n",
       "                      [-0.3944, -0.7889, -1.1785, -1.9596]]),\n",
       "       ),\n",
       ")"
      ]
     },
     "execution_count": 12,
     "metadata": {},
     "output_type": "execute_result"
    }
   ],
   "source": [
    "new_value = torch.randn(2, 3)\n",
    "b.a = new_value\n",
    "\n",
    "b"
   ]
  },
  {
   "cell_type": "code",
   "execution_count": 13,
   "id": "29b1d0bf",
   "metadata": {
    "execution": {
     "iopub.execute_input": "2023-02-12T16:59:11.065543Z",
     "iopub.status.busy": "2023-02-12T16:59:11.064455Z",
     "iopub.status.idle": "2023-02-12T16:59:16.107329Z",
     "shell.execute_reply": "2023-02-12T16:59:16.106544Z"
    }
   },
   "outputs": [
    {
     "name": "stdout",
     "output_type": "stream",
     "text": [
      "620 ns ± 23.2 ns per loop (mean ± std. dev. of 7 runs, 1,000,000 loops each)\n"
     ]
    }
   ],
   "source": [
    "%timeit b.a = new_value"
   ]
  },
  {
   "cell_type": "markdown",
   "id": "b61ad1d0",
   "metadata": {},
   "source": [
    "## Initialization"
   ]
  },
  {
   "cell_type": "markdown",
   "id": "d70f0d54",
   "metadata": {},
   "source": [
    "### TreeValue's Initialization"
   ]
  },
  {
   "cell_type": "code",
   "execution_count": 14,
   "id": "d32a679b",
   "metadata": {
    "execution": {
     "iopub.execute_input": "2023-02-12T16:59:16.111942Z",
     "iopub.status.busy": "2023-02-12T16:59:16.111220Z",
     "iopub.status.idle": "2023-02-12T16:59:24.020599Z",
     "shell.execute_reply": "2023-02-12T16:59:24.019616Z"
    }
   },
   "outputs": [
    {
     "name": "stdout",
     "output_type": "stream",
     "text": [
      "970 ns ± 4.62 ns per loop (mean ± std. dev. of 7 runs, 1,000,000 loops each)\n"
     ]
    }
   ],
   "source": [
    "%timeit FastTreeValue(_TREE_DATA_1)"
   ]
  },
  {
   "cell_type": "markdown",
   "id": "24f3707b",
   "metadata": {},
   "source": [
    "### Tianshou Batch's Initialization"
   ]
  },
  {
   "cell_type": "code",
   "execution_count": 15,
   "id": "ac3958df",
   "metadata": {
    "execution": {
     "iopub.execute_input": "2023-02-12T16:59:24.024473Z",
     "iopub.status.busy": "2023-02-12T16:59:24.023796Z",
     "iopub.status.idle": "2023-02-12T16:59:34.338918Z",
     "shell.execute_reply": "2023-02-12T16:59:34.337871Z"
    }
   },
   "outputs": [
    {
     "name": "stdout",
     "output_type": "stream",
     "text": [
      "12.6 µs ± 532 ns per loop (mean ± std. dev. of 7 runs, 100,000 loops each)\n"
     ]
    }
   ],
   "source": [
    "%timeit Batch(**_TREE_DATA_1)"
   ]
  },
  {
   "cell_type": "markdown",
   "id": "1ab82e2d",
   "metadata": {},
   "source": [
    "## Deep Copy Operation"
   ]
  },
  {
   "cell_type": "code",
   "execution_count": 16,
   "id": "210a9442",
   "metadata": {
    "execution": {
     "iopub.execute_input": "2023-02-12T16:59:34.343054Z",
     "iopub.status.busy": "2023-02-12T16:59:34.342221Z",
     "iopub.status.idle": "2023-02-12T16:59:34.346967Z",
     "shell.execute_reply": "2023-02-12T16:59:34.346183Z"
    }
   },
   "outputs": [],
   "source": [
    "import copy"
   ]
  },
  {
   "cell_type": "markdown",
   "id": "5a736274",
   "metadata": {},
   "source": [
    "### Deep Copy of TreeValue"
   ]
  },
  {
   "cell_type": "code",
   "execution_count": 17,
   "id": "f9bcadd6",
   "metadata": {
    "execution": {
     "iopub.execute_input": "2023-02-12T16:59:34.350645Z",
     "iopub.status.busy": "2023-02-12T16:59:34.350118Z",
     "iopub.status.idle": "2023-02-12T16:59:48.032988Z",
     "shell.execute_reply": "2023-02-12T16:59:48.032002Z"
    }
   },
   "outputs": [
    {
     "name": "stdout",
     "output_type": "stream",
     "text": [
      "169 µs ± 723 ns per loop (mean ± std. dev. of 7 runs, 10,000 loops each)\n"
     ]
    }
   ],
   "source": [
    "t3 = FastTreeValue(_TREE_DATA_3)\n",
    "%timeit copy.deepcopy(t3)"
   ]
  },
  {
   "cell_type": "markdown",
   "id": "bf8be7ea",
   "metadata": {},
   "source": [
    "### Deep Copy of Tianshou Batch"
   ]
  },
  {
   "cell_type": "code",
   "execution_count": 18,
   "id": "91998e6f",
   "metadata": {
    "execution": {
     "iopub.execute_input": "2023-02-12T16:59:48.037243Z",
     "iopub.status.busy": "2023-02-12T16:59:48.036551Z",
     "iopub.status.idle": "2023-02-12T17:00:01.626940Z",
     "shell.execute_reply": "2023-02-12T17:00:01.625979Z"
    }
   },
   "outputs": [
    {
     "name": "stdout",
     "output_type": "stream",
     "text": [
      "167 µs ± 706 ns per loop (mean ± std. dev. of 7 runs, 10,000 loops each)\n"
     ]
    }
   ],
   "source": [
    "b3 = Batch(**_TREE_DATA_3)\n",
    "%timeit copy.deepcopy(b3)"
   ]
  },
  {
   "cell_type": "markdown",
   "id": "223162fb",
   "metadata": {},
   "source": [
    "## Stack, Concat and Split Operation"
   ]
  },
  {
   "cell_type": "markdown",
   "id": "85fa4a73",
   "metadata": {},
   "source": [
    "### Performance of TreeValue"
   ]
  },
  {
   "cell_type": "code",
   "execution_count": 19,
   "id": "a0c2b697",
   "metadata": {
    "execution": {
     "iopub.execute_input": "2023-02-12T17:00:01.632430Z",
     "iopub.status.busy": "2023-02-12T17:00:01.631618Z",
     "iopub.status.idle": "2023-02-12T17:00:01.636533Z",
     "shell.execute_reply": "2023-02-12T17:00:01.635225Z"
    }
   },
   "outputs": [],
   "source": [
    "trees = [FastTreeValue(_TREE_DATA_2) for _ in range(8)]"
   ]
  },
  {
   "cell_type": "code",
   "execution_count": 20,
   "id": "017ea5a5",
   "metadata": {
    "execution": {
     "iopub.execute_input": "2023-02-12T17:00:01.639888Z",
     "iopub.status.busy": "2023-02-12T17:00:01.639581Z",
     "iopub.status.idle": "2023-02-12T17:00:01.648906Z",
     "shell.execute_reply": "2023-02-12T17:00:01.648181Z"
    }
   },
   "outputs": [
    {
     "data": {
      "text/plain": [
       "<FastTreeValue 0x7f53b8565f10>\n",
       "├── 'a' --> tensor([[[-1.5258,  0.6921,  0.0682],\n",
       "│                    [-0.4124,  0.2683, -1.9778]],\n",
       "│           \n",
       "│                   [[-1.5258,  0.6921,  0.0682],\n",
       "│                    [-0.4124,  0.2683, -1.9778]],\n",
       "│           \n",
       "│                   [[-1.5258,  0.6921,  0.0682],\n",
       "│                    [-0.4124,  0.2683, -1.9778]],\n",
       "│           \n",
       "│                   [[-1.5258,  0.6921,  0.0682],\n",
       "│                    [-0.4124,  0.2683, -1.9778]],\n",
       "│           \n",
       "│                   [[-1.5258,  0.6921,  0.0682],\n",
       "│                    [-0.4124,  0.2683, -1.9778]],\n",
       "│           \n",
       "│                   [[-1.5258,  0.6921,  0.0682],\n",
       "│                    [-0.4124,  0.2683, -1.9778]],\n",
       "│           \n",
       "│                   [[-1.5258,  0.6921,  0.0682],\n",
       "│                    [-0.4124,  0.2683, -1.9778]],\n",
       "│           \n",
       "│                   [[-1.5258,  0.6921,  0.0682],\n",
       "│                    [-0.4124,  0.2683, -1.9778]]])\n",
       "└── 'x' --> <FastTreeValue 0x7f5314e70430>\n",
       "    └── 'c' --> tensor([[[ 1.0127, -1.1618,  0.2166, -0.7350],\n",
       "                         [ 1.1369,  0.8220,  0.6619, -0.2425],\n",
       "                         [-0.3944, -0.7889, -1.1785, -1.9596]],\n",
       "                \n",
       "                        [[ 1.0127, -1.1618,  0.2166, -0.7350],\n",
       "                         [ 1.1369,  0.8220,  0.6619, -0.2425],\n",
       "                         [-0.3944, -0.7889, -1.1785, -1.9596]],\n",
       "                \n",
       "                        [[ 1.0127, -1.1618,  0.2166, -0.7350],\n",
       "                         [ 1.1369,  0.8220,  0.6619, -0.2425],\n",
       "                         [-0.3944, -0.7889, -1.1785, -1.9596]],\n",
       "                \n",
       "                        [[ 1.0127, -1.1618,  0.2166, -0.7350],\n",
       "                         [ 1.1369,  0.8220,  0.6619, -0.2425],\n",
       "                         [-0.3944, -0.7889, -1.1785, -1.9596]],\n",
       "                \n",
       "                        [[ 1.0127, -1.1618,  0.2166, -0.7350],\n",
       "                         [ 1.1369,  0.8220,  0.6619, -0.2425],\n",
       "                         [-0.3944, -0.7889, -1.1785, -1.9596]],\n",
       "                \n",
       "                        [[ 1.0127, -1.1618,  0.2166, -0.7350],\n",
       "                         [ 1.1369,  0.8220,  0.6619, -0.2425],\n",
       "                         [-0.3944, -0.7889, -1.1785, -1.9596]],\n",
       "                \n",
       "                        [[ 1.0127, -1.1618,  0.2166, -0.7350],\n",
       "                         [ 1.1369,  0.8220,  0.6619, -0.2425],\n",
       "                         [-0.3944, -0.7889, -1.1785, -1.9596]],\n",
       "                \n",
       "                        [[ 1.0127, -1.1618,  0.2166, -0.7350],\n",
       "                         [ 1.1369,  0.8220,  0.6619, -0.2425],\n",
       "                         [-0.3944, -0.7889, -1.1785, -1.9596]]])"
      ]
     },
     "execution_count": 20,
     "metadata": {},
     "output_type": "execute_result"
    }
   ],
   "source": [
    "t_stack = FastTreeValue.func(subside=True)(torch.stack)\n",
    "\n",
    "t_stack(trees)"
   ]
  },
  {
   "cell_type": "code",
   "execution_count": 21,
   "id": "f8b3f415",
   "metadata": {
    "execution": {
     "iopub.execute_input": "2023-02-12T17:00:01.653029Z",
     "iopub.status.busy": "2023-02-12T17:00:01.652758Z",
     "iopub.status.idle": "2023-02-12T17:00:04.752197Z",
     "shell.execute_reply": "2023-02-12T17:00:04.750763Z"
    }
   },
   "outputs": [
    {
     "name": "stdout",
     "output_type": "stream",
     "text": [
      "38.1 µs ± 49.8 ns per loop (mean ± std. dev. of 7 runs, 10,000 loops each)\n"
     ]
    }
   ],
   "source": [
    "%timeit t_stack(trees)"
   ]
  },
  {
   "cell_type": "code",
   "execution_count": 22,
   "id": "94b56771",
   "metadata": {
    "execution": {
     "iopub.execute_input": "2023-02-12T17:00:04.757630Z",
     "iopub.status.busy": "2023-02-12T17:00:04.756057Z",
     "iopub.status.idle": "2023-02-12T17:00:04.767534Z",
     "shell.execute_reply": "2023-02-12T17:00:04.766733Z"
    }
   },
   "outputs": [
    {
     "data": {
      "text/plain": [
       "<FastTreeValue 0x7f53bd5ef550>\n",
       "├── 'a' --> tensor([[-1.5258,  0.6921,  0.0682],\n",
       "│                   [-0.4124,  0.2683, -1.9778],\n",
       "│                   [-1.5258,  0.6921,  0.0682],\n",
       "│                   [-0.4124,  0.2683, -1.9778],\n",
       "│                   [-1.5258,  0.6921,  0.0682],\n",
       "│                   [-0.4124,  0.2683, -1.9778],\n",
       "│                   [-1.5258,  0.6921,  0.0682],\n",
       "│                   [-0.4124,  0.2683, -1.9778],\n",
       "│                   [-1.5258,  0.6921,  0.0682],\n",
       "│                   [-0.4124,  0.2683, -1.9778],\n",
       "│                   [-1.5258,  0.6921,  0.0682],\n",
       "│                   [-0.4124,  0.2683, -1.9778],\n",
       "│                   [-1.5258,  0.6921,  0.0682],\n",
       "│                   [-0.4124,  0.2683, -1.9778],\n",
       "│                   [-1.5258,  0.6921,  0.0682],\n",
       "│                   [-0.4124,  0.2683, -1.9778]])\n",
       "└── 'x' --> <FastTreeValue 0x7f530e220580>\n",
       "    └── 'c' --> tensor([[ 1.0127, -1.1618,  0.2166, -0.7350],\n",
       "                        [ 1.1369,  0.8220,  0.6619, -0.2425],\n",
       "                        [-0.3944, -0.7889, -1.1785, -1.9596],\n",
       "                        [ 1.0127, -1.1618,  0.2166, -0.7350],\n",
       "                        [ 1.1369,  0.8220,  0.6619, -0.2425],\n",
       "                        [-0.3944, -0.7889, -1.1785, -1.9596],\n",
       "                        [ 1.0127, -1.1618,  0.2166, -0.7350],\n",
       "                        [ 1.1369,  0.8220,  0.6619, -0.2425],\n",
       "                        [-0.3944, -0.7889, -1.1785, -1.9596],\n",
       "                        [ 1.0127, -1.1618,  0.2166, -0.7350],\n",
       "                        [ 1.1369,  0.8220,  0.6619, -0.2425],\n",
       "                        [-0.3944, -0.7889, -1.1785, -1.9596],\n",
       "                        [ 1.0127, -1.1618,  0.2166, -0.7350],\n",
       "                        [ 1.1369,  0.8220,  0.6619, -0.2425],\n",
       "                        [-0.3944, -0.7889, -1.1785, -1.9596],\n",
       "                        [ 1.0127, -1.1618,  0.2166, -0.7350],\n",
       "                        [ 1.1369,  0.8220,  0.6619, -0.2425],\n",
       "                        [-0.3944, -0.7889, -1.1785, -1.9596],\n",
       "                        [ 1.0127, -1.1618,  0.2166, -0.7350],\n",
       "                        [ 1.1369,  0.8220,  0.6619, -0.2425],\n",
       "                        [-0.3944, -0.7889, -1.1785, -1.9596],\n",
       "                        [ 1.0127, -1.1618,  0.2166, -0.7350],\n",
       "                        [ 1.1369,  0.8220,  0.6619, -0.2425],\n",
       "                        [-0.3944, -0.7889, -1.1785, -1.9596]])"
      ]
     },
     "execution_count": 22,
     "metadata": {},
     "output_type": "execute_result"
    }
   ],
   "source": [
    "t_cat = FastTreeValue.func(subside=True)(torch.cat)\n",
    "\n",
    "t_cat(trees)"
   ]
  },
  {
   "cell_type": "code",
   "execution_count": 23,
   "id": "5e9c06a6",
   "metadata": {
    "execution": {
     "iopub.execute_input": "2023-02-12T17:00:04.773330Z",
     "iopub.status.busy": "2023-02-12T17:00:04.772769Z",
     "iopub.status.idle": "2023-02-12T17:00:07.704069Z",
     "shell.execute_reply": "2023-02-12T17:00:07.702956Z"
    }
   },
   "outputs": [
    {
     "name": "stdout",
     "output_type": "stream",
     "text": [
      "35.8 µs ± 219 ns per loop (mean ± std. dev. of 7 runs, 10,000 loops each)\n"
     ]
    }
   ],
   "source": [
    "%timeit t_cat(trees)"
   ]
  },
  {
   "cell_type": "code",
   "execution_count": 24,
   "id": "a3ab5c8f",
   "metadata": {
    "execution": {
     "iopub.execute_input": "2023-02-12T17:00:07.707621Z",
     "iopub.status.busy": "2023-02-12T17:00:07.707168Z",
     "iopub.status.idle": "2023-02-12T17:00:12.976383Z",
     "shell.execute_reply": "2023-02-12T17:00:12.975002Z"
    }
   },
   "outputs": [
    {
     "name": "stdout",
     "output_type": "stream",
     "text": [
      "64.8 µs ± 292 ns per loop (mean ± std. dev. of 7 runs, 10,000 loops each)\n"
     ]
    }
   ],
   "source": [
    "t_split = FastTreeValue.func(rise=True)(torch.split)\n",
    "tree = FastTreeValue({\n",
    "    'obs': torch.randn(8, 4, 84, 84),\n",
    "    'action': torch.randint(0, 6, size=(8, 1,)),\n",
    "    'reward': torch.rand(8, 1),\n",
    "})\n",
    "\n",
    "%timeit t_split(tree, 1)"
   ]
  },
  {
   "cell_type": "markdown",
   "id": "31c3ec0b",
   "metadata": {},
   "source": [
    "### Performance of Tianshou Batch"
   ]
  },
  {
   "cell_type": "code",
   "execution_count": 25,
   "id": "9ead828a",
   "metadata": {
    "execution": {
     "iopub.execute_input": "2023-02-12T17:00:12.980243Z",
     "iopub.status.busy": "2023-02-12T17:00:12.979775Z",
     "iopub.status.idle": "2023-02-12T17:00:12.990068Z",
     "shell.execute_reply": "2023-02-12T17:00:12.989160Z"
    }
   },
   "outputs": [
    {
     "data": {
      "text/plain": [
       "Batch(\n",
       "    a: tensor([[[-1.5258,  0.6921,  0.0682],\n",
       "                [-0.4124,  0.2683, -1.9778]],\n",
       "       \n",
       "               [[-1.5258,  0.6921,  0.0682],\n",
       "                [-0.4124,  0.2683, -1.9778]],\n",
       "       \n",
       "               [[-1.5258,  0.6921,  0.0682],\n",
       "                [-0.4124,  0.2683, -1.9778]],\n",
       "       \n",
       "               [[-1.5258,  0.6921,  0.0682],\n",
       "                [-0.4124,  0.2683, -1.9778]],\n",
       "       \n",
       "               [[-1.5258,  0.6921,  0.0682],\n",
       "                [-0.4124,  0.2683, -1.9778]],\n",
       "       \n",
       "               [[-1.5258,  0.6921,  0.0682],\n",
       "                [-0.4124,  0.2683, -1.9778]],\n",
       "       \n",
       "               [[-1.5258,  0.6921,  0.0682],\n",
       "                [-0.4124,  0.2683, -1.9778]],\n",
       "       \n",
       "               [[-1.5258,  0.6921,  0.0682],\n",
       "                [-0.4124,  0.2683, -1.9778]]]),\n",
       "    x: Batch(\n",
       "           c: tensor([[[ 1.0127, -1.1618,  0.2166, -0.7350],\n",
       "                       [ 1.1369,  0.8220,  0.6619, -0.2425],\n",
       "                       [-0.3944, -0.7889, -1.1785, -1.9596]],\n",
       "              \n",
       "                      [[ 1.0127, -1.1618,  0.2166, -0.7350],\n",
       "                       [ 1.1369,  0.8220,  0.6619, -0.2425],\n",
       "                       [-0.3944, -0.7889, -1.1785, -1.9596]],\n",
       "              \n",
       "                      [[ 1.0127, -1.1618,  0.2166, -0.7350],\n",
       "                       [ 1.1369,  0.8220,  0.6619, -0.2425],\n",
       "                       [-0.3944, -0.7889, -1.1785, -1.9596]],\n",
       "              \n",
       "                      [[ 1.0127, -1.1618,  0.2166, -0.7350],\n",
       "                       [ 1.1369,  0.8220,  0.6619, -0.2425],\n",
       "                       [-0.3944, -0.7889, -1.1785, -1.9596]],\n",
       "              \n",
       "                      [[ 1.0127, -1.1618,  0.2166, -0.7350],\n",
       "                       [ 1.1369,  0.8220,  0.6619, -0.2425],\n",
       "                       [-0.3944, -0.7889, -1.1785, -1.9596]],\n",
       "              \n",
       "                      [[ 1.0127, -1.1618,  0.2166, -0.7350],\n",
       "                       [ 1.1369,  0.8220,  0.6619, -0.2425],\n",
       "                       [-0.3944, -0.7889, -1.1785, -1.9596]],\n",
       "              \n",
       "                      [[ 1.0127, -1.1618,  0.2166, -0.7350],\n",
       "                       [ 1.1369,  0.8220,  0.6619, -0.2425],\n",
       "                       [-0.3944, -0.7889, -1.1785, -1.9596]],\n",
       "              \n",
       "                      [[ 1.0127, -1.1618,  0.2166, -0.7350],\n",
       "                       [ 1.1369,  0.8220,  0.6619, -0.2425],\n",
       "                       [-0.3944, -0.7889, -1.1785, -1.9596]]]),\n",
       "       ),\n",
       ")"
      ]
     },
     "execution_count": 25,
     "metadata": {},
     "output_type": "execute_result"
    }
   ],
   "source": [
    "batches = [Batch(**_TREE_DATA_2) for _ in range(8)]\n",
    "\n",
    "Batch.stack(batches)"
   ]
  },
  {
   "cell_type": "code",
   "execution_count": 26,
   "id": "ec9037a3",
   "metadata": {
    "execution": {
     "iopub.execute_input": "2023-02-12T17:00:12.993147Z",
     "iopub.status.busy": "2023-02-12T17:00:12.992866Z",
     "iopub.status.idle": "2023-02-12T17:00:23.514379Z",
     "shell.execute_reply": "2023-02-12T17:00:23.512985Z"
    }
   },
   "outputs": [
    {
     "name": "stdout",
     "output_type": "stream",
     "text": [
      "129 µs ± 161 ns per loop (mean ± std. dev. of 7 runs, 10,000 loops each)\n"
     ]
    }
   ],
   "source": [
    "%timeit Batch.stack(batches)"
   ]
  },
  {
   "cell_type": "code",
   "execution_count": 27,
   "id": "cb8ab77e",
   "metadata": {
    "execution": {
     "iopub.execute_input": "2023-02-12T17:00:23.518071Z",
     "iopub.status.busy": "2023-02-12T17:00:23.517610Z",
     "iopub.status.idle": "2023-02-12T17:00:23.527840Z",
     "shell.execute_reply": "2023-02-12T17:00:23.526997Z"
    }
   },
   "outputs": [
    {
     "data": {
      "text/plain": [
       "Batch(\n",
       "    a: tensor([[-1.5258,  0.6921,  0.0682],\n",
       "               [-0.4124,  0.2683, -1.9778],\n",
       "               [-1.5258,  0.6921,  0.0682],\n",
       "               [-0.4124,  0.2683, -1.9778],\n",
       "               [-1.5258,  0.6921,  0.0682],\n",
       "               [-0.4124,  0.2683, -1.9778],\n",
       "               [-1.5258,  0.6921,  0.0682],\n",
       "               [-0.4124,  0.2683, -1.9778],\n",
       "               [-1.5258,  0.6921,  0.0682],\n",
       "               [-0.4124,  0.2683, -1.9778],\n",
       "               [-1.5258,  0.6921,  0.0682],\n",
       "               [-0.4124,  0.2683, -1.9778],\n",
       "               [-1.5258,  0.6921,  0.0682],\n",
       "               [-0.4124,  0.2683, -1.9778],\n",
       "               [-1.5258,  0.6921,  0.0682],\n",
       "               [-0.4124,  0.2683, -1.9778]]),\n",
       "    x: Batch(\n",
       "           c: tensor([[ 1.0127, -1.1618,  0.2166, -0.7350],\n",
       "                      [ 1.1369,  0.8220,  0.6619, -0.2425],\n",
       "                      [-0.3944, -0.7889, -1.1785, -1.9596],\n",
       "                      [ 1.0127, -1.1618,  0.2166, -0.7350],\n",
       "                      [ 1.1369,  0.8220,  0.6619, -0.2425],\n",
       "                      [-0.3944, -0.7889, -1.1785, -1.9596],\n",
       "                      [ 1.0127, -1.1618,  0.2166, -0.7350],\n",
       "                      [ 1.1369,  0.8220,  0.6619, -0.2425],\n",
       "                      [-0.3944, -0.7889, -1.1785, -1.9596],\n",
       "                      [ 1.0127, -1.1618,  0.2166, -0.7350],\n",
       "                      [ 1.1369,  0.8220,  0.6619, -0.2425],\n",
       "                      [-0.3944, -0.7889, -1.1785, -1.9596],\n",
       "                      [ 1.0127, -1.1618,  0.2166, -0.7350],\n",
       "                      [ 1.1369,  0.8220,  0.6619, -0.2425],\n",
       "                      [-0.3944, -0.7889, -1.1785, -1.9596],\n",
       "                      [ 1.0127, -1.1618,  0.2166, -0.7350],\n",
       "                      [ 1.1369,  0.8220,  0.6619, -0.2425],\n",
       "                      [-0.3944, -0.7889, -1.1785, -1.9596],\n",
       "                      [ 1.0127, -1.1618,  0.2166, -0.7350],\n",
       "                      [ 1.1369,  0.8220,  0.6619, -0.2425],\n",
       "                      [-0.3944, -0.7889, -1.1785, -1.9596],\n",
       "                      [ 1.0127, -1.1618,  0.2166, -0.7350],\n",
       "                      [ 1.1369,  0.8220,  0.6619, -0.2425],\n",
       "                      [-0.3944, -0.7889, -1.1785, -1.9596]]),\n",
       "       ),\n",
       ")"
      ]
     },
     "execution_count": 27,
     "metadata": {},
     "output_type": "execute_result"
    }
   ],
   "source": [
    "Batch.cat(batches)"
   ]
  },
  {
   "cell_type": "code",
   "execution_count": 28,
   "id": "18dfb045",
   "metadata": {
    "execution": {
     "iopub.execute_input": "2023-02-12T17:00:23.531204Z",
     "iopub.status.busy": "2023-02-12T17:00:23.530881Z",
     "iopub.status.idle": "2023-02-12T17:00:26.504136Z",
     "shell.execute_reply": "2023-02-12T17:00:26.502968Z"
    }
   },
   "outputs": [
    {
     "name": "stdout",
     "output_type": "stream",
     "text": [
      "363 µs ± 7.55 µs per loop (mean ± std. dev. of 7 runs, 1,000 loops each)\n"
     ]
    }
   ],
   "source": [
    "%timeit Batch.cat(batches)"
   ]
  },
  {
   "cell_type": "code",
   "execution_count": 29,
   "id": "c6688e51",
   "metadata": {
    "execution": {
     "iopub.execute_input": "2023-02-12T17:00:26.509862Z",
     "iopub.status.busy": "2023-02-12T17:00:26.509189Z",
     "iopub.status.idle": "2023-02-12T17:00:30.073251Z",
     "shell.execute_reply": "2023-02-12T17:00:30.072311Z"
    }
   },
   "outputs": [
    {
     "name": "stdout",
     "output_type": "stream",
     "text": [
      "436 µs ± 29.4 µs per loop (mean ± std. dev. of 7 runs, 1,000 loops each)\n"
     ]
    }
   ],
   "source": [
    "batch = Batch({\n",
    "    'obs': torch.randn(8, 4, 84, 84),\n",
    "    'action': torch.randint(0, 6, size=(8, 1,)),\n",
    "    'reward': torch.rand(8, 1)}\n",
    ")\n",
    "\n",
    "%timeit list(Batch.split(batch, 1, shuffle=False, merge_last=True))"
   ]
  },
  {
   "cell_type": "code",
   "execution_count": null,
   "id": "2539fbd9",
   "metadata": {},
   "outputs": [],
   "source": []
  }
 ],
 "metadata": {
  "kernelspec": {
   "display_name": "Python 3 (ipykernel)",
   "language": "python",
   "name": "python3"
  },
  "language_info": {
   "codemirror_mode": {
    "name": "ipython",
    "version": 3
   },
   "file_extension": ".py",
   "mimetype": "text/x-python",
   "name": "python",
   "nbconvert_exporter": "python",
   "pygments_lexer": "ipython3",
   "version": "3.8.16"
  }
 },
 "nbformat": 4,
 "nbformat_minor": 5
}
