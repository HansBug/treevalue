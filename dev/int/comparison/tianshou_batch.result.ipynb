{
 "cells": [
  {
   "cell_type": "markdown",
   "id": "9d39d946",
   "metadata": {},
   "source": [
    "# Comparison Between TreeValue and Tianshou Batch"
   ]
  },
  {
   "cell_type": "markdown",
   "id": "3c6db2d4",
   "metadata": {},
   "source": [
    "In this section, we will take a look at the feature and performance of the [Tianshou Batch](https://github.com/thu-ml/tianshou) library, which is developed by Tsinghua Machine Learning Group."
   ]
  },
  {
   "cell_type": "markdown",
   "id": "069361b0",
   "metadata": {},
   "source": [
    "Before starting the comparison, let us define some thing."
   ]
  },
  {
   "cell_type": "code",
   "execution_count": 1,
   "id": "06fc8d26",
   "metadata": {
    "execution": {
     "iopub.execute_input": "2023-02-27T11:26:14.803833Z",
     "iopub.status.busy": "2023-02-27T11:26:14.803264Z",
     "iopub.status.idle": "2023-02-27T11:26:15.721824Z",
     "shell.execute_reply": "2023-02-27T11:26:15.720896Z"
    }
   },
   "outputs": [
    {
     "name": "stderr",
     "output_type": "stream",
     "text": [
      "/opt/hostedtoolcache/Python/3.8.16/x64/lib/python3.8/site-packages/tqdm/auto.py:22: TqdmWarning: IProgress not found. Please update jupyter and ipywidgets. See https://ipywidgets.readthedocs.io/en/stable/user_install.html\n",
      "  from .autonotebook import tqdm as notebook_tqdm\n"
     ]
    }
   ],
   "source": [
    "import torch \n",
    "\n",
    "_TREE_DATA_1 = {'a': 1, 'b': 2, 'x': {'c': 3, 'd': 4}}\n",
    "_TREE_DATA_2 = {\n",
    "    'a': torch.randn(2, 3), \n",
    "    'x': {\n",
    "        'c': torch.randn(3, 4)\n",
    "    },\n",
    "}\n",
    "_TREE_DATA_3 = {\n",
    "    'obs': torch.randn(4, 84, 84),\n",
    "    'action': torch.randint(0, 6, size=(1,)),\n",
    "    'reward': torch.rand(1),\n",
    "}"
   ]
  },
  {
   "cell_type": "markdown",
   "id": "83461b25",
   "metadata": {},
   "source": [
    "## Read and Write Operation"
   ]
  },
  {
   "cell_type": "markdown",
   "id": "067b3f73",
   "metadata": {},
   "source": [
    "Reading and writing are the two most common operations in the tree data structure based on the data model (TreeValue and Tianshou Batch both belong to this type), so this section will compare the reading and writing performance of these two libraries."
   ]
  },
  {
   "cell_type": "markdown",
   "id": "5d09a5b7",
   "metadata": {},
   "source": [
    "### TreeValue's Get and Set"
   ]
  },
  {
   "cell_type": "code",
   "execution_count": 2,
   "id": "9519c4bb",
   "metadata": {
    "execution": {
     "iopub.execute_input": "2023-02-27T11:26:15.725425Z",
     "iopub.status.busy": "2023-02-27T11:26:15.724797Z",
     "iopub.status.idle": "2023-02-27T11:26:16.005722Z",
     "shell.execute_reply": "2023-02-27T11:26:16.005035Z"
    }
   },
   "outputs": [],
   "source": [
    "from treevalue import FastTreeValue\n",
    "\n",
    "t = FastTreeValue(_TREE_DATA_2)"
   ]
  },
  {
   "cell_type": "code",
   "execution_count": 3,
   "id": "11c37677",
   "metadata": {
    "execution": {
     "iopub.execute_input": "2023-02-27T11:26:16.009865Z",
     "iopub.status.busy": "2023-02-27T11:26:16.008690Z",
     "iopub.status.idle": "2023-02-27T11:26:16.019209Z",
     "shell.execute_reply": "2023-02-27T11:26:16.018618Z"
    }
   },
   "outputs": [
    {
     "data": {
      "text/plain": [
       "<FastTreeValue 0x7f4848c60c70>\n",
       "├── 'a' --> tensor([[ 0.8454,  1.5214, -0.4193],\n",
       "│                   [-0.2736,  0.1687, -0.3490]])\n",
       "└── 'x' --> <FastTreeValue 0x7f4848c60d00>\n",
       "    └── 'c' --> tensor([[ 0.2995, -0.5976,  1.4644,  0.5437],\n",
       "                        [-0.7744,  1.3820,  1.8354,  1.4022],\n",
       "                        [-0.3931,  2.4337,  0.6316,  2.2762]])"
      ]
     },
     "execution_count": 3,
     "metadata": {},
     "output_type": "execute_result"
    }
   ],
   "source": [
    "t"
   ]
  },
  {
   "cell_type": "code",
   "execution_count": 4,
   "id": "fd70b0b9",
   "metadata": {
    "execution": {
     "iopub.execute_input": "2023-02-27T11:26:16.022079Z",
     "iopub.status.busy": "2023-02-27T11:26:16.021600Z",
     "iopub.status.idle": "2023-02-27T11:26:16.027536Z",
     "shell.execute_reply": "2023-02-27T11:26:16.026964Z"
    }
   },
   "outputs": [
    {
     "data": {
      "text/plain": [
       "tensor([[ 0.8454,  1.5214, -0.4193],\n",
       "        [-0.2736,  0.1687, -0.3490]])"
      ]
     },
     "execution_count": 4,
     "metadata": {},
     "output_type": "execute_result"
    }
   ],
   "source": [
    "t.a"
   ]
  },
  {
   "cell_type": "code",
   "execution_count": 5,
   "id": "c18197bd",
   "metadata": {
    "execution": {
     "iopub.execute_input": "2023-02-27T11:26:16.030340Z",
     "iopub.status.busy": "2023-02-27T11:26:16.029868Z",
     "iopub.status.idle": "2023-02-27T11:26:20.802492Z",
     "shell.execute_reply": "2023-02-27T11:26:20.801700Z"
    }
   },
   "outputs": [
    {
     "name": "stdout",
     "output_type": "stream",
     "text": [
      "58.4 ns ± 0.1 ns per loop (mean ± std. dev. of 7 runs, 10,000,000 loops each)\n"
     ]
    }
   ],
   "source": [
    "%timeit t.a"
   ]
  },
  {
   "cell_type": "code",
   "execution_count": 6,
   "id": "bd52f867",
   "metadata": {
    "execution": {
     "iopub.execute_input": "2023-02-27T11:26:20.805226Z",
     "iopub.status.busy": "2023-02-27T11:26:20.804873Z",
     "iopub.status.idle": "2023-02-27T11:26:20.812750Z",
     "shell.execute_reply": "2023-02-27T11:26:20.811745Z"
    }
   },
   "outputs": [
    {
     "data": {
      "text/plain": [
       "<FastTreeValue 0x7f4848c60c70>\n",
       "├── 'a' --> tensor([[-0.8341, -0.8733, -0.9067],\n",
       "│                   [-0.0694, -1.1300,  0.6341]])\n",
       "└── 'x' --> <FastTreeValue 0x7f4848c60d00>\n",
       "    └── 'c' --> tensor([[ 0.2995, -0.5976,  1.4644,  0.5437],\n",
       "                        [-0.7744,  1.3820,  1.8354,  1.4022],\n",
       "                        [-0.3931,  2.4337,  0.6316,  2.2762]])"
      ]
     },
     "execution_count": 6,
     "metadata": {},
     "output_type": "execute_result"
    }
   ],
   "source": [
    "new_value = torch.randn(2, 3)\n",
    "t.a = new_value\n",
    "\n",
    "t"
   ]
  },
  {
   "cell_type": "code",
   "execution_count": 7,
   "id": "bbe04d1c",
   "metadata": {
    "execution": {
     "iopub.execute_input": "2023-02-27T11:26:20.815685Z",
     "iopub.status.busy": "2023-02-27T11:26:20.815122Z",
     "iopub.status.idle": "2023-02-27T11:26:25.573824Z",
     "shell.execute_reply": "2023-02-27T11:26:25.573097Z"
    }
   },
   "outputs": [
    {
     "name": "stdout",
     "output_type": "stream",
     "text": [
      "58.6 ns ± 0.0612 ns per loop (mean ± std. dev. of 7 runs, 10,000,000 loops each)\n"
     ]
    }
   ],
   "source": [
    "%timeit t.a = new_value"
   ]
  },
  {
   "cell_type": "markdown",
   "id": "48c49731",
   "metadata": {},
   "source": [
    "### Tianshou Batch's Get and Set"
   ]
  },
  {
   "cell_type": "code",
   "execution_count": 8,
   "id": "f1bb14c1",
   "metadata": {
    "execution": {
     "iopub.execute_input": "2023-02-27T11:26:25.576724Z",
     "iopub.status.busy": "2023-02-27T11:26:25.576361Z",
     "iopub.status.idle": "2023-02-27T11:26:25.910387Z",
     "shell.execute_reply": "2023-02-27T11:26:25.909677Z"
    }
   },
   "outputs": [],
   "source": [
    "from tianshou.data import Batch\n",
    "\n",
    "b = Batch(**_TREE_DATA_2)"
   ]
  },
  {
   "cell_type": "code",
   "execution_count": 9,
   "id": "cb0777c3",
   "metadata": {
    "execution": {
     "iopub.execute_input": "2023-02-27T11:26:25.913822Z",
     "iopub.status.busy": "2023-02-27T11:26:25.913127Z",
     "iopub.status.idle": "2023-02-27T11:26:25.919397Z",
     "shell.execute_reply": "2023-02-27T11:26:25.918812Z"
    }
   },
   "outputs": [
    {
     "data": {
      "text/plain": [
       "Batch(\n",
       "    a: tensor([[ 0.8454,  1.5214, -0.4193],\n",
       "               [-0.2736,  0.1687, -0.3490]]),\n",
       "    x: Batch(\n",
       "           c: tensor([[ 0.2995, -0.5976,  1.4644,  0.5437],\n",
       "                      [-0.7744,  1.3820,  1.8354,  1.4022],\n",
       "                      [-0.3931,  2.4337,  0.6316,  2.2762]]),\n",
       "       ),\n",
       ")"
      ]
     },
     "execution_count": 9,
     "metadata": {},
     "output_type": "execute_result"
    }
   ],
   "source": [
    "b"
   ]
  },
  {
   "cell_type": "code",
   "execution_count": 10,
   "id": "43ef8ea3",
   "metadata": {
    "execution": {
     "iopub.execute_input": "2023-02-27T11:26:25.922029Z",
     "iopub.status.busy": "2023-02-27T11:26:25.921681Z",
     "iopub.status.idle": "2023-02-27T11:26:25.927103Z",
     "shell.execute_reply": "2023-02-27T11:26:25.926520Z"
    }
   },
   "outputs": [
    {
     "data": {
      "text/plain": [
       "tensor([[ 0.8454,  1.5214, -0.4193],\n",
       "        [-0.2736,  0.1687, -0.3490]])"
      ]
     },
     "execution_count": 10,
     "metadata": {},
     "output_type": "execute_result"
    }
   ],
   "source": [
    "b.a"
   ]
  },
  {
   "cell_type": "code",
   "execution_count": 11,
   "id": "b785ab72",
   "metadata": {
    "execution": {
     "iopub.execute_input": "2023-02-27T11:26:25.929962Z",
     "iopub.status.busy": "2023-02-27T11:26:25.929480Z",
     "iopub.status.idle": "2023-02-27T11:26:30.370161Z",
     "shell.execute_reply": "2023-02-27T11:26:30.369441Z"
    }
   },
   "outputs": [
    {
     "name": "stdout",
     "output_type": "stream",
     "text": [
      "54.5 ns ± 0.0485 ns per loop (mean ± std. dev. of 7 runs, 10,000,000 loops each)\n"
     ]
    }
   ],
   "source": [
    "%timeit b.a"
   ]
  },
  {
   "cell_type": "code",
   "execution_count": 12,
   "id": "ad54dc69",
   "metadata": {
    "execution": {
     "iopub.execute_input": "2023-02-27T11:26:30.373031Z",
     "iopub.status.busy": "2023-02-27T11:26:30.372678Z",
     "iopub.status.idle": "2023-02-27T11:26:30.379178Z",
     "shell.execute_reply": "2023-02-27T11:26:30.378549Z"
    }
   },
   "outputs": [
    {
     "data": {
      "text/plain": [
       "Batch(\n",
       "    a: tensor([[ 0.5385, -0.4130, -0.6989],\n",
       "               [ 0.2925,  0.9348,  1.2033]]),\n",
       "    x: Batch(\n",
       "           c: tensor([[ 0.2995, -0.5976,  1.4644,  0.5437],\n",
       "                      [-0.7744,  1.3820,  1.8354,  1.4022],\n",
       "                      [-0.3931,  2.4337,  0.6316,  2.2762]]),\n",
       "       ),\n",
       ")"
      ]
     },
     "execution_count": 12,
     "metadata": {},
     "output_type": "execute_result"
    }
   ],
   "source": [
    "new_value = torch.randn(2, 3)\n",
    "b.a = new_value\n",
    "\n",
    "b"
   ]
  },
  {
   "cell_type": "code",
   "execution_count": 13,
   "id": "29b1d0bf",
   "metadata": {
    "execution": {
     "iopub.execute_input": "2023-02-27T11:26:30.381865Z",
     "iopub.status.busy": "2023-02-27T11:26:30.381506Z",
     "iopub.status.idle": "2023-02-27T11:26:34.318902Z",
     "shell.execute_reply": "2023-02-27T11:26:34.316780Z"
    }
   },
   "outputs": [
    {
     "name": "stdout",
     "output_type": "stream",
     "text": [
      "485 ns ± 0.059 ns per loop (mean ± std. dev. of 7 runs, 1,000,000 loops each)\n"
     ]
    }
   ],
   "source": [
    "%timeit b.a = new_value"
   ]
  },
  {
   "cell_type": "markdown",
   "id": "b61ad1d0",
   "metadata": {},
   "source": [
    "## Initialization"
   ]
  },
  {
   "cell_type": "markdown",
   "id": "d70f0d54",
   "metadata": {},
   "source": [
    "### TreeValue's Initialization"
   ]
  },
  {
   "cell_type": "code",
   "execution_count": 14,
   "id": "d32a679b",
   "metadata": {
    "execution": {
     "iopub.execute_input": "2023-02-27T11:26:34.321987Z",
     "iopub.status.busy": "2023-02-27T11:26:34.321510Z",
     "iopub.status.idle": "2023-02-27T11:26:41.174139Z",
     "shell.execute_reply": "2023-02-27T11:26:41.173297Z"
    }
   },
   "outputs": [
    {
     "name": "stdout",
     "output_type": "stream",
     "text": [
      "841 ns ± 8.39 ns per loop (mean ± std. dev. of 7 runs, 1,000,000 loops each)\n"
     ]
    }
   ],
   "source": [
    "%timeit FastTreeValue(_TREE_DATA_1)"
   ]
  },
  {
   "cell_type": "markdown",
   "id": "24f3707b",
   "metadata": {},
   "source": [
    "### Tianshou Batch's Initialization"
   ]
  },
  {
   "cell_type": "code",
   "execution_count": 15,
   "id": "ac3958df",
   "metadata": {
    "execution": {
     "iopub.execute_input": "2023-02-27T11:26:41.177240Z",
     "iopub.status.busy": "2023-02-27T11:26:41.176702Z",
     "iopub.status.idle": "2023-02-27T11:26:50.564049Z",
     "shell.execute_reply": "2023-02-27T11:26:50.563288Z"
    }
   },
   "outputs": [
    {
     "name": "stdout",
     "output_type": "stream",
     "text": [
      "11.6 µs ± 20.6 ns per loop (mean ± std. dev. of 7 runs, 100,000 loops each)\n"
     ]
    }
   ],
   "source": [
    "%timeit Batch(**_TREE_DATA_1)"
   ]
  },
  {
   "cell_type": "markdown",
   "id": "1ab82e2d",
   "metadata": {},
   "source": [
    "## Deep Copy Operation"
   ]
  },
  {
   "cell_type": "code",
   "execution_count": 16,
   "id": "210a9442",
   "metadata": {
    "execution": {
     "iopub.execute_input": "2023-02-27T11:26:50.567189Z",
     "iopub.status.busy": "2023-02-27T11:26:50.566810Z",
     "iopub.status.idle": "2023-02-27T11:26:50.571041Z",
     "shell.execute_reply": "2023-02-27T11:26:50.570439Z"
    }
   },
   "outputs": [],
   "source": [
    "import copy"
   ]
  },
  {
   "cell_type": "markdown",
   "id": "5a736274",
   "metadata": {},
   "source": [
    "### Deep Copy of TreeValue"
   ]
  },
  {
   "cell_type": "code",
   "execution_count": 17,
   "id": "f9bcadd6",
   "metadata": {
    "execution": {
     "iopub.execute_input": "2023-02-27T11:26:50.573767Z",
     "iopub.status.busy": "2023-02-27T11:26:50.573429Z",
     "iopub.status.idle": "2023-02-27T11:27:01.554100Z",
     "shell.execute_reply": "2023-02-27T11:27:01.553506Z"
    }
   },
   "outputs": [
    {
     "name": "stdout",
     "output_type": "stream",
     "text": [
      "135 µs ± 501 ns per loop (mean ± std. dev. of 7 runs, 10,000 loops each)\n"
     ]
    }
   ],
   "source": [
    "t3 = FastTreeValue(_TREE_DATA_3)\n",
    "%timeit copy.deepcopy(t3)"
   ]
  },
  {
   "cell_type": "markdown",
   "id": "bf8be7ea",
   "metadata": {},
   "source": [
    "### Deep Copy of Tianshou Batch"
   ]
  },
  {
   "cell_type": "code",
   "execution_count": 18,
   "id": "91998e6f",
   "metadata": {
    "execution": {
     "iopub.execute_input": "2023-02-27T11:27:01.558323Z",
     "iopub.status.busy": "2023-02-27T11:27:01.557261Z",
     "iopub.status.idle": "2023-02-27T11:27:12.880816Z",
     "shell.execute_reply": "2023-02-27T11:27:12.880213Z"
    }
   },
   "outputs": [
    {
     "name": "stdout",
     "output_type": "stream",
     "text": [
      "140 µs ± 1.38 µs per loop (mean ± std. dev. of 7 runs, 10,000 loops each)\n"
     ]
    }
   ],
   "source": [
    "b3 = Batch(**_TREE_DATA_3)\n",
    "%timeit copy.deepcopy(b3)"
   ]
  },
  {
   "cell_type": "markdown",
   "id": "223162fb",
   "metadata": {},
   "source": [
    "## Stack, Concat and Split Operation"
   ]
  },
  {
   "cell_type": "markdown",
   "id": "85fa4a73",
   "metadata": {},
   "source": [
    "### Performance of TreeValue"
   ]
  },
  {
   "cell_type": "code",
   "execution_count": 19,
   "id": "a0c2b697",
   "metadata": {
    "execution": {
     "iopub.execute_input": "2023-02-27T11:27:12.884945Z",
     "iopub.status.busy": "2023-02-27T11:27:12.883738Z",
     "iopub.status.idle": "2023-02-27T11:27:12.888298Z",
     "shell.execute_reply": "2023-02-27T11:27:12.887702Z"
    }
   },
   "outputs": [],
   "source": [
    "trees = [FastTreeValue(_TREE_DATA_2) for _ in range(8)]"
   ]
  },
  {
   "cell_type": "code",
   "execution_count": 20,
   "id": "017ea5a5",
   "metadata": {
    "execution": {
     "iopub.execute_input": "2023-02-27T11:27:12.891080Z",
     "iopub.status.busy": "2023-02-27T11:27:12.890751Z",
     "iopub.status.idle": "2023-02-27T11:27:12.898879Z",
     "shell.execute_reply": "2023-02-27T11:27:12.898293Z"
    }
   },
   "outputs": [
    {
     "data": {
      "text/plain": [
       "<FastTreeValue 0x7f4791f6bb20>\n",
       "├── 'a' --> tensor([[[ 0.8454,  1.5214, -0.4193],\n",
       "│                    [-0.2736,  0.1687, -0.3490]],\n",
       "│           \n",
       "│                   [[ 0.8454,  1.5214, -0.4193],\n",
       "│                    [-0.2736,  0.1687, -0.3490]],\n",
       "│           \n",
       "│                   [[ 0.8454,  1.5214, -0.4193],\n",
       "│                    [-0.2736,  0.1687, -0.3490]],\n",
       "│           \n",
       "│                   [[ 0.8454,  1.5214, -0.4193],\n",
       "│                    [-0.2736,  0.1687, -0.3490]],\n",
       "│           \n",
       "│                   [[ 0.8454,  1.5214, -0.4193],\n",
       "│                    [-0.2736,  0.1687, -0.3490]],\n",
       "│           \n",
       "│                   [[ 0.8454,  1.5214, -0.4193],\n",
       "│                    [-0.2736,  0.1687, -0.3490]],\n",
       "│           \n",
       "│                   [[ 0.8454,  1.5214, -0.4193],\n",
       "│                    [-0.2736,  0.1687, -0.3490]],\n",
       "│           \n",
       "│                   [[ 0.8454,  1.5214, -0.4193],\n",
       "│                    [-0.2736,  0.1687, -0.3490]]])\n",
       "└── 'x' --> <FastTreeValue 0x7f4791f6bac0>\n",
       "    └── 'c' --> tensor([[[ 0.2995, -0.5976,  1.4644,  0.5437],\n",
       "                         [-0.7744,  1.3820,  1.8354,  1.4022],\n",
       "                         [-0.3931,  2.4337,  0.6316,  2.2762]],\n",
       "                \n",
       "                        [[ 0.2995, -0.5976,  1.4644,  0.5437],\n",
       "                         [-0.7744,  1.3820,  1.8354,  1.4022],\n",
       "                         [-0.3931,  2.4337,  0.6316,  2.2762]],\n",
       "                \n",
       "                        [[ 0.2995, -0.5976,  1.4644,  0.5437],\n",
       "                         [-0.7744,  1.3820,  1.8354,  1.4022],\n",
       "                         [-0.3931,  2.4337,  0.6316,  2.2762]],\n",
       "                \n",
       "                        [[ 0.2995, -0.5976,  1.4644,  0.5437],\n",
       "                         [-0.7744,  1.3820,  1.8354,  1.4022],\n",
       "                         [-0.3931,  2.4337,  0.6316,  2.2762]],\n",
       "                \n",
       "                        [[ 0.2995, -0.5976,  1.4644,  0.5437],\n",
       "                         [-0.7744,  1.3820,  1.8354,  1.4022],\n",
       "                         [-0.3931,  2.4337,  0.6316,  2.2762]],\n",
       "                \n",
       "                        [[ 0.2995, -0.5976,  1.4644,  0.5437],\n",
       "                         [-0.7744,  1.3820,  1.8354,  1.4022],\n",
       "                         [-0.3931,  2.4337,  0.6316,  2.2762]],\n",
       "                \n",
       "                        [[ 0.2995, -0.5976,  1.4644,  0.5437],\n",
       "                         [-0.7744,  1.3820,  1.8354,  1.4022],\n",
       "                         [-0.3931,  2.4337,  0.6316,  2.2762]],\n",
       "                \n",
       "                        [[ 0.2995, -0.5976,  1.4644,  0.5437],\n",
       "                         [-0.7744,  1.3820,  1.8354,  1.4022],\n",
       "                         [-0.3931,  2.4337,  0.6316,  2.2762]]])"
      ]
     },
     "execution_count": 20,
     "metadata": {},
     "output_type": "execute_result"
    }
   ],
   "source": [
    "t_stack = FastTreeValue.func(subside=True)(torch.stack)\n",
    "\n",
    "t_stack(trees)"
   ]
  },
  {
   "cell_type": "code",
   "execution_count": 21,
   "id": "f8b3f415",
   "metadata": {
    "execution": {
     "iopub.execute_input": "2023-02-27T11:27:12.901355Z",
     "iopub.status.busy": "2023-02-27T11:27:12.901003Z",
     "iopub.status.idle": "2023-02-27T11:27:15.552756Z",
     "shell.execute_reply": "2023-02-27T11:27:15.552054Z"
    }
   },
   "outputs": [
    {
     "name": "stdout",
     "output_type": "stream",
     "text": [
      "32.6 µs ± 101 ns per loop (mean ± std. dev. of 7 runs, 10,000 loops each)\n"
     ]
    }
   ],
   "source": [
    "%timeit t_stack(trees)"
   ]
  },
  {
   "cell_type": "code",
   "execution_count": 22,
   "id": "94b56771",
   "metadata": {
    "execution": {
     "iopub.execute_input": "2023-02-27T11:27:15.555692Z",
     "iopub.status.busy": "2023-02-27T11:27:15.555447Z",
     "iopub.status.idle": "2023-02-27T11:27:15.563332Z",
     "shell.execute_reply": "2023-02-27T11:27:15.562728Z"
    }
   },
   "outputs": [
    {
     "data": {
      "text/plain": [
       "<FastTreeValue 0x7f4791f6be80>\n",
       "├── 'a' --> tensor([[ 0.8454,  1.5214, -0.4193],\n",
       "│                   [-0.2736,  0.1687, -0.3490],\n",
       "│                   [ 0.8454,  1.5214, -0.4193],\n",
       "│                   [-0.2736,  0.1687, -0.3490],\n",
       "│                   [ 0.8454,  1.5214, -0.4193],\n",
       "│                   [-0.2736,  0.1687, -0.3490],\n",
       "│                   [ 0.8454,  1.5214, -0.4193],\n",
       "│                   [-0.2736,  0.1687, -0.3490],\n",
       "│                   [ 0.8454,  1.5214, -0.4193],\n",
       "│                   [-0.2736,  0.1687, -0.3490],\n",
       "│                   [ 0.8454,  1.5214, -0.4193],\n",
       "│                   [-0.2736,  0.1687, -0.3490],\n",
       "│                   [ 0.8454,  1.5214, -0.4193],\n",
       "│                   [-0.2736,  0.1687, -0.3490],\n",
       "│                   [ 0.8454,  1.5214, -0.4193],\n",
       "│                   [-0.2736,  0.1687, -0.3490]])\n",
       "└── 'x' --> <FastTreeValue 0x7f4848c913a0>\n",
       "    └── 'c' --> tensor([[ 0.2995, -0.5976,  1.4644,  0.5437],\n",
       "                        [-0.7744,  1.3820,  1.8354,  1.4022],\n",
       "                        [-0.3931,  2.4337,  0.6316,  2.2762],\n",
       "                        [ 0.2995, -0.5976,  1.4644,  0.5437],\n",
       "                        [-0.7744,  1.3820,  1.8354,  1.4022],\n",
       "                        [-0.3931,  2.4337,  0.6316,  2.2762],\n",
       "                        [ 0.2995, -0.5976,  1.4644,  0.5437],\n",
       "                        [-0.7744,  1.3820,  1.8354,  1.4022],\n",
       "                        [-0.3931,  2.4337,  0.6316,  2.2762],\n",
       "                        [ 0.2995, -0.5976,  1.4644,  0.5437],\n",
       "                        [-0.7744,  1.3820,  1.8354,  1.4022],\n",
       "                        [-0.3931,  2.4337,  0.6316,  2.2762],\n",
       "                        [ 0.2995, -0.5976,  1.4644,  0.5437],\n",
       "                        [-0.7744,  1.3820,  1.8354,  1.4022],\n",
       "                        [-0.3931,  2.4337,  0.6316,  2.2762],\n",
       "                        [ 0.2995, -0.5976,  1.4644,  0.5437],\n",
       "                        [-0.7744,  1.3820,  1.8354,  1.4022],\n",
       "                        [-0.3931,  2.4337,  0.6316,  2.2762],\n",
       "                        [ 0.2995, -0.5976,  1.4644,  0.5437],\n",
       "                        [-0.7744,  1.3820,  1.8354,  1.4022],\n",
       "                        [-0.3931,  2.4337,  0.6316,  2.2762],\n",
       "                        [ 0.2995, -0.5976,  1.4644,  0.5437],\n",
       "                        [-0.7744,  1.3820,  1.8354,  1.4022],\n",
       "                        [-0.3931,  2.4337,  0.6316,  2.2762]])"
      ]
     },
     "execution_count": 22,
     "metadata": {},
     "output_type": "execute_result"
    }
   ],
   "source": [
    "t_cat = FastTreeValue.func(subside=True)(torch.cat)\n",
    "\n",
    "t_cat(trees)"
   ]
  },
  {
   "cell_type": "code",
   "execution_count": 23,
   "id": "5e9c06a6",
   "metadata": {
    "execution": {
     "iopub.execute_input": "2023-02-27T11:27:15.566015Z",
     "iopub.status.busy": "2023-02-27T11:27:15.565684Z",
     "iopub.status.idle": "2023-02-27T11:27:18.001426Z",
     "shell.execute_reply": "2023-02-27T11:27:18.000748Z"
    }
   },
   "outputs": [
    {
     "name": "stdout",
     "output_type": "stream",
     "text": [
      "29.9 µs ± 70.4 ns per loop (mean ± std. dev. of 7 runs, 10,000 loops each)\n"
     ]
    }
   ],
   "source": [
    "%timeit t_cat(trees)"
   ]
  },
  {
   "cell_type": "code",
   "execution_count": 24,
   "id": "a3ab5c8f",
   "metadata": {
    "execution": {
     "iopub.execute_input": "2023-02-27T11:27:18.004398Z",
     "iopub.status.busy": "2023-02-27T11:27:18.003823Z",
     "iopub.status.idle": "2023-02-27T11:27:22.827140Z",
     "shell.execute_reply": "2023-02-27T11:27:22.826448Z"
    }
   },
   "outputs": [
    {
     "name": "stdout",
     "output_type": "stream",
     "text": [
      "59.3 µs ± 203 ns per loop (mean ± std. dev. of 7 runs, 10,000 loops each)\n"
     ]
    }
   ],
   "source": [
    "t_split = FastTreeValue.func(rise=True)(torch.split)\n",
    "tree = FastTreeValue({\n",
    "    'obs': torch.randn(8, 4, 84, 84),\n",
    "    'action': torch.randint(0, 6, size=(8, 1,)),\n",
    "    'reward': torch.rand(8, 1),\n",
    "})\n",
    "\n",
    "%timeit t_split(tree, 1)"
   ]
  },
  {
   "cell_type": "markdown",
   "id": "31c3ec0b",
   "metadata": {},
   "source": [
    "### Performance of Tianshou Batch"
   ]
  },
  {
   "cell_type": "code",
   "execution_count": 25,
   "id": "9ead828a",
   "metadata": {
    "execution": {
     "iopub.execute_input": "2023-02-27T11:27:22.830243Z",
     "iopub.status.busy": "2023-02-27T11:27:22.829878Z",
     "iopub.status.idle": "2023-02-27T11:27:22.837729Z",
     "shell.execute_reply": "2023-02-27T11:27:22.837138Z"
    }
   },
   "outputs": [
    {
     "data": {
      "text/plain": [
       "Batch(\n",
       "    a: tensor([[[ 0.8454,  1.5214, -0.4193],\n",
       "                [-0.2736,  0.1687, -0.3490]],\n",
       "       \n",
       "               [[ 0.8454,  1.5214, -0.4193],\n",
       "                [-0.2736,  0.1687, -0.3490]],\n",
       "       \n",
       "               [[ 0.8454,  1.5214, -0.4193],\n",
       "                [-0.2736,  0.1687, -0.3490]],\n",
       "       \n",
       "               [[ 0.8454,  1.5214, -0.4193],\n",
       "                [-0.2736,  0.1687, -0.3490]],\n",
       "       \n",
       "               [[ 0.8454,  1.5214, -0.4193],\n",
       "                [-0.2736,  0.1687, -0.3490]],\n",
       "       \n",
       "               [[ 0.8454,  1.5214, -0.4193],\n",
       "                [-0.2736,  0.1687, -0.3490]],\n",
       "       \n",
       "               [[ 0.8454,  1.5214, -0.4193],\n",
       "                [-0.2736,  0.1687, -0.3490]],\n",
       "       \n",
       "               [[ 0.8454,  1.5214, -0.4193],\n",
       "                [-0.2736,  0.1687, -0.3490]]]),\n",
       "    x: Batch(\n",
       "           c: tensor([[[ 0.2995, -0.5976,  1.4644,  0.5437],\n",
       "                       [-0.7744,  1.3820,  1.8354,  1.4022],\n",
       "                       [-0.3931,  2.4337,  0.6316,  2.2762]],\n",
       "              \n",
       "                      [[ 0.2995, -0.5976,  1.4644,  0.5437],\n",
       "                       [-0.7744,  1.3820,  1.8354,  1.4022],\n",
       "                       [-0.3931,  2.4337,  0.6316,  2.2762]],\n",
       "              \n",
       "                      [[ 0.2995, -0.5976,  1.4644,  0.5437],\n",
       "                       [-0.7744,  1.3820,  1.8354,  1.4022],\n",
       "                       [-0.3931,  2.4337,  0.6316,  2.2762]],\n",
       "              \n",
       "                      [[ 0.2995, -0.5976,  1.4644,  0.5437],\n",
       "                       [-0.7744,  1.3820,  1.8354,  1.4022],\n",
       "                       [-0.3931,  2.4337,  0.6316,  2.2762]],\n",
       "              \n",
       "                      [[ 0.2995, -0.5976,  1.4644,  0.5437],\n",
       "                       [-0.7744,  1.3820,  1.8354,  1.4022],\n",
       "                       [-0.3931,  2.4337,  0.6316,  2.2762]],\n",
       "              \n",
       "                      [[ 0.2995, -0.5976,  1.4644,  0.5437],\n",
       "                       [-0.7744,  1.3820,  1.8354,  1.4022],\n",
       "                       [-0.3931,  2.4337,  0.6316,  2.2762]],\n",
       "              \n",
       "                      [[ 0.2995, -0.5976,  1.4644,  0.5437],\n",
       "                       [-0.7744,  1.3820,  1.8354,  1.4022],\n",
       "                       [-0.3931,  2.4337,  0.6316,  2.2762]],\n",
       "              \n",
       "                      [[ 0.2995, -0.5976,  1.4644,  0.5437],\n",
       "                       [-0.7744,  1.3820,  1.8354,  1.4022],\n",
       "                       [-0.3931,  2.4337,  0.6316,  2.2762]]]),\n",
       "       ),\n",
       ")"
      ]
     },
     "execution_count": 25,
     "metadata": {},
     "output_type": "execute_result"
    }
   ],
   "source": [
    "batches = [Batch(**_TREE_DATA_2) for _ in range(8)]\n",
    "\n",
    "Batch.stack(batches)"
   ]
  },
  {
   "cell_type": "code",
   "execution_count": 26,
   "id": "ec9037a3",
   "metadata": {
    "execution": {
     "iopub.execute_input": "2023-02-27T11:27:22.840598Z",
     "iopub.status.busy": "2023-02-27T11:27:22.840078Z",
     "iopub.status.idle": "2023-02-27T11:27:29.107322Z",
     "shell.execute_reply": "2023-02-27T11:27:29.106644Z"
    }
   },
   "outputs": [
    {
     "name": "stdout",
     "output_type": "stream",
     "text": [
      "77.1 µs ± 102 ns per loop (mean ± std. dev. of 7 runs, 10,000 loops each)\n"
     ]
    }
   ],
   "source": [
    "%timeit Batch.stack(batches)"
   ]
  },
  {
   "cell_type": "code",
   "execution_count": 27,
   "id": "cb8ab77e",
   "metadata": {
    "execution": {
     "iopub.execute_input": "2023-02-27T11:27:29.110354Z",
     "iopub.status.busy": "2023-02-27T11:27:29.109962Z",
     "iopub.status.idle": "2023-02-27T11:27:29.117429Z",
     "shell.execute_reply": "2023-02-27T11:27:29.116870Z"
    }
   },
   "outputs": [
    {
     "data": {
      "text/plain": [
       "Batch(\n",
       "    a: tensor([[ 0.8454,  1.5214, -0.4193],\n",
       "               [-0.2736,  0.1687, -0.3490],\n",
       "               [ 0.8454,  1.5214, -0.4193],\n",
       "               [-0.2736,  0.1687, -0.3490],\n",
       "               [ 0.8454,  1.5214, -0.4193],\n",
       "               [-0.2736,  0.1687, -0.3490],\n",
       "               [ 0.8454,  1.5214, -0.4193],\n",
       "               [-0.2736,  0.1687, -0.3490],\n",
       "               [ 0.8454,  1.5214, -0.4193],\n",
       "               [-0.2736,  0.1687, -0.3490],\n",
       "               [ 0.8454,  1.5214, -0.4193],\n",
       "               [-0.2736,  0.1687, -0.3490],\n",
       "               [ 0.8454,  1.5214, -0.4193],\n",
       "               [-0.2736,  0.1687, -0.3490],\n",
       "               [ 0.8454,  1.5214, -0.4193],\n",
       "               [-0.2736,  0.1687, -0.3490]]),\n",
       "    x: Batch(\n",
       "           c: tensor([[ 0.2995, -0.5976,  1.4644,  0.5437],\n",
       "                      [-0.7744,  1.3820,  1.8354,  1.4022],\n",
       "                      [-0.3931,  2.4337,  0.6316,  2.2762],\n",
       "                      [ 0.2995, -0.5976,  1.4644,  0.5437],\n",
       "                      [-0.7744,  1.3820,  1.8354,  1.4022],\n",
       "                      [-0.3931,  2.4337,  0.6316,  2.2762],\n",
       "                      [ 0.2995, -0.5976,  1.4644,  0.5437],\n",
       "                      [-0.7744,  1.3820,  1.8354,  1.4022],\n",
       "                      [-0.3931,  2.4337,  0.6316,  2.2762],\n",
       "                      [ 0.2995, -0.5976,  1.4644,  0.5437],\n",
       "                      [-0.7744,  1.3820,  1.8354,  1.4022],\n",
       "                      [-0.3931,  2.4337,  0.6316,  2.2762],\n",
       "                      [ 0.2995, -0.5976,  1.4644,  0.5437],\n",
       "                      [-0.7744,  1.3820,  1.8354,  1.4022],\n",
       "                      [-0.3931,  2.4337,  0.6316,  2.2762],\n",
       "                      [ 0.2995, -0.5976,  1.4644,  0.5437],\n",
       "                      [-0.7744,  1.3820,  1.8354,  1.4022],\n",
       "                      [-0.3931,  2.4337,  0.6316,  2.2762],\n",
       "                      [ 0.2995, -0.5976,  1.4644,  0.5437],\n",
       "                      [-0.7744,  1.3820,  1.8354,  1.4022],\n",
       "                      [-0.3931,  2.4337,  0.6316,  2.2762],\n",
       "                      [ 0.2995, -0.5976,  1.4644,  0.5437],\n",
       "                      [-0.7744,  1.3820,  1.8354,  1.4022],\n",
       "                      [-0.3931,  2.4337,  0.6316,  2.2762]]),\n",
       "       ),\n",
       ")"
      ]
     },
     "execution_count": 27,
     "metadata": {},
     "output_type": "execute_result"
    }
   ],
   "source": [
    "Batch.cat(batches)"
   ]
  },
  {
   "cell_type": "code",
   "execution_count": 28,
   "id": "18dfb045",
   "metadata": {
    "execution": {
     "iopub.execute_input": "2023-02-27T11:27:29.120223Z",
     "iopub.status.busy": "2023-02-27T11:27:29.119868Z",
     "iopub.status.idle": "2023-02-27T11:27:40.715848Z",
     "shell.execute_reply": "2023-02-27T11:27:40.715085Z"
    }
   },
   "outputs": [
    {
     "name": "stdout",
     "output_type": "stream",
     "text": [
      "143 µs ± 319 ns per loop (mean ± std. dev. of 7 runs, 10,000 loops each)\n"
     ]
    }
   ],
   "source": [
    "%timeit Batch.cat(batches)"
   ]
  },
  {
   "cell_type": "code",
   "execution_count": 29,
   "id": "c6688e51",
   "metadata": {
    "execution": {
     "iopub.execute_input": "2023-02-27T11:27:40.719117Z",
     "iopub.status.busy": "2023-02-27T11:27:40.718604Z",
     "iopub.status.idle": "2023-02-27T11:27:43.302979Z",
     "shell.execute_reply": "2023-02-27T11:27:43.302388Z"
    }
   },
   "outputs": [
    {
     "name": "stdout",
     "output_type": "stream",
     "text": [
      "318 µs ± 858 ns per loop (mean ± std. dev. of 7 runs, 1,000 loops each)\n"
     ]
    }
   ],
   "source": [
    "batch = Batch({\n",
    "    'obs': torch.randn(8, 4, 84, 84),\n",
    "    'action': torch.randint(0, 6, size=(8, 1,)),\n",
    "    'reward': torch.rand(8, 1)}\n",
    ")\n",
    "\n",
    "%timeit list(Batch.split(batch, 1, shuffle=False, merge_last=True))"
   ]
  },
  {
   "cell_type": "code",
   "execution_count": null,
   "id": "2539fbd9",
   "metadata": {},
   "outputs": [],
   "source": []
  }
 ],
 "metadata": {
  "kernelspec": {
   "display_name": "Python 3 (ipykernel)",
   "language": "python",
   "name": "python3"
  },
  "language_info": {
   "codemirror_mode": {
    "name": "ipython",
    "version": 3
   },
   "file_extension": ".py",
   "mimetype": "text/x-python",
   "name": "python",
   "nbconvert_exporter": "python",
   "pygments_lexer": "ipython3",
   "version": "3.8.16"
  }
 },
 "nbformat": 4,
 "nbformat_minor": 5
}
