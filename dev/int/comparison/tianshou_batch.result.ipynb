{
 "cells": [
  {
   "cell_type": "markdown",
   "id": "9d39d946",
   "metadata": {},
   "source": [
    "# Comparison Between TreeValue and Tianshou Batch"
   ]
  },
  {
   "cell_type": "markdown",
   "id": "3c6db2d4",
   "metadata": {},
   "source": [
    "In this section, we will take a look at the feature and performance of the [Tianshou Batch](https://github.com/thu-ml/tianshou) library, which is developed by Tsinghua Machine Learning Group."
   ]
  },
  {
   "cell_type": "markdown",
   "id": "069361b0",
   "metadata": {},
   "source": [
    "Before starting the comparison, let us define some thing."
   ]
  },
  {
   "cell_type": "code",
   "execution_count": 1,
   "id": "06fc8d26",
   "metadata": {
    "execution": {
     "iopub.execute_input": "2023-02-27T10:02:15.111292Z",
     "iopub.status.busy": "2023-02-27T10:02:15.110730Z",
     "iopub.status.idle": "2023-02-27T10:02:16.038784Z",
     "shell.execute_reply": "2023-02-27T10:02:16.038109Z"
    }
   },
   "outputs": [
    {
     "name": "stderr",
     "output_type": "stream",
     "text": [
      "/opt/hostedtoolcache/Python/3.8.16/x64/lib/python3.8/site-packages/tqdm/auto.py:22: TqdmWarning: IProgress not found. Please update jupyter and ipywidgets. See https://ipywidgets.readthedocs.io/en/stable/user_install.html\n",
      "  from .autonotebook import tqdm as notebook_tqdm\n"
     ]
    }
   ],
   "source": [
    "import torch \n",
    "\n",
    "_TREE_DATA_1 = {'a': 1, 'b': 2, 'x': {'c': 3, 'd': 4}}\n",
    "_TREE_DATA_2 = {\n",
    "    'a': torch.randn(2, 3), \n",
    "    'x': {\n",
    "        'c': torch.randn(3, 4)\n",
    "    },\n",
    "}\n",
    "_TREE_DATA_3 = {\n",
    "    'obs': torch.randn(4, 84, 84),\n",
    "    'action': torch.randint(0, 6, size=(1,)),\n",
    "    'reward': torch.rand(1),\n",
    "}"
   ]
  },
  {
   "cell_type": "markdown",
   "id": "83461b25",
   "metadata": {},
   "source": [
    "## Read and Write Operation"
   ]
  },
  {
   "cell_type": "markdown",
   "id": "067b3f73",
   "metadata": {},
   "source": [
    "Reading and writing are the two most common operations in the tree data structure based on the data model (TreeValue and Tianshou Batch both belong to this type), so this section will compare the reading and writing performance of these two libraries."
   ]
  },
  {
   "cell_type": "markdown",
   "id": "5d09a5b7",
   "metadata": {},
   "source": [
    "### TreeValue's Get and Set"
   ]
  },
  {
   "cell_type": "code",
   "execution_count": 2,
   "id": "9519c4bb",
   "metadata": {
    "execution": {
     "iopub.execute_input": "2023-02-27T10:02:16.042478Z",
     "iopub.status.busy": "2023-02-27T10:02:16.041850Z",
     "iopub.status.idle": "2023-02-27T10:02:16.323910Z",
     "shell.execute_reply": "2023-02-27T10:02:16.323206Z"
    }
   },
   "outputs": [],
   "source": [
    "from treevalue import FastTreeValue\n",
    "\n",
    "t = FastTreeValue(_TREE_DATA_2)"
   ]
  },
  {
   "cell_type": "code",
   "execution_count": 3,
   "id": "11c37677",
   "metadata": {
    "execution": {
     "iopub.execute_input": "2023-02-27T10:02:16.327387Z",
     "iopub.status.busy": "2023-02-27T10:02:16.326782Z",
     "iopub.status.idle": "2023-02-27T10:02:16.337504Z",
     "shell.execute_reply": "2023-02-27T10:02:16.336891Z"
    }
   },
   "outputs": [
    {
     "data": {
      "text/plain": [
       "<FastTreeValue 0x7f789c3e1d90>\n",
       "├── 'a' --> tensor([[-0.0613, -2.1107,  0.8647],\n",
       "│                   [ 0.5007, -0.7210,  1.8474]])\n",
       "└── 'x' --> <FastTreeValue 0x7f789c3e1d00>\n",
       "    └── 'c' --> tensor([[ 2.5526, -1.4748, -0.9513,  0.4967],\n",
       "                        [-0.1044, -1.1578,  0.9997,  1.5735],\n",
       "                        [-0.5335,  0.2146,  0.9833,  1.0815]])"
      ]
     },
     "execution_count": 3,
     "metadata": {},
     "output_type": "execute_result"
    }
   ],
   "source": [
    "t"
   ]
  },
  {
   "cell_type": "code",
   "execution_count": 4,
   "id": "fd70b0b9",
   "metadata": {
    "execution": {
     "iopub.execute_input": "2023-02-27T10:02:16.340443Z",
     "iopub.status.busy": "2023-02-27T10:02:16.340100Z",
     "iopub.status.idle": "2023-02-27T10:02:16.346383Z",
     "shell.execute_reply": "2023-02-27T10:02:16.345799Z"
    }
   },
   "outputs": [
    {
     "data": {
      "text/plain": [
       "tensor([[-0.0613, -2.1107,  0.8647],\n",
       "        [ 0.5007, -0.7210,  1.8474]])"
      ]
     },
     "execution_count": 4,
     "metadata": {},
     "output_type": "execute_result"
    }
   ],
   "source": [
    "t.a"
   ]
  },
  {
   "cell_type": "code",
   "execution_count": 5,
   "id": "c18197bd",
   "metadata": {
    "execution": {
     "iopub.execute_input": "2023-02-27T10:02:16.349205Z",
     "iopub.status.busy": "2023-02-27T10:02:16.348677Z",
     "iopub.status.idle": "2023-02-27T10:02:21.415685Z",
     "shell.execute_reply": "2023-02-27T10:02:21.414897Z"
    }
   },
   "outputs": [
    {
     "name": "stdout",
     "output_type": "stream",
     "text": [
      "62.4 ns ± 0.0495 ns per loop (mean ± std. dev. of 7 runs, 10,000,000 loops each)\n"
     ]
    }
   ],
   "source": [
    "%timeit t.a"
   ]
  },
  {
   "cell_type": "code",
   "execution_count": 6,
   "id": "bd52f867",
   "metadata": {
    "execution": {
     "iopub.execute_input": "2023-02-27T10:02:21.418352Z",
     "iopub.status.busy": "2023-02-27T10:02:21.418124Z",
     "iopub.status.idle": "2023-02-27T10:02:21.425154Z",
     "shell.execute_reply": "2023-02-27T10:02:21.424573Z"
    }
   },
   "outputs": [
    {
     "data": {
      "text/plain": [
       "<FastTreeValue 0x7f789c3e1d90>\n",
       "├── 'a' --> tensor([[ 2.5965, -0.2563, -0.0853],\n",
       "│                   [-1.7906,  0.2729, -0.1823]])\n",
       "└── 'x' --> <FastTreeValue 0x7f789c3e1d00>\n",
       "    └── 'c' --> tensor([[ 2.5526, -1.4748, -0.9513,  0.4967],\n",
       "                        [-0.1044, -1.1578,  0.9997,  1.5735],\n",
       "                        [-0.5335,  0.2146,  0.9833,  1.0815]])"
      ]
     },
     "execution_count": 6,
     "metadata": {},
     "output_type": "execute_result"
    }
   ],
   "source": [
    "new_value = torch.randn(2, 3)\n",
    "t.a = new_value\n",
    "\n",
    "t"
   ]
  },
  {
   "cell_type": "code",
   "execution_count": 7,
   "id": "bbe04d1c",
   "metadata": {
    "execution": {
     "iopub.execute_input": "2023-02-27T10:02:21.427713Z",
     "iopub.status.busy": "2023-02-27T10:02:21.427489Z",
     "iopub.status.idle": "2023-02-27T10:02:26.079939Z",
     "shell.execute_reply": "2023-02-27T10:02:26.079241Z"
    }
   },
   "outputs": [
    {
     "name": "stdout",
     "output_type": "stream",
     "text": [
      "57.2 ns ± 0.0212 ns per loop (mean ± std. dev. of 7 runs, 10,000,000 loops each)\n"
     ]
    }
   ],
   "source": [
    "%timeit t.a = new_value"
   ]
  },
  {
   "cell_type": "markdown",
   "id": "48c49731",
   "metadata": {},
   "source": [
    "### Tianshou Batch's Get and Set"
   ]
  },
  {
   "cell_type": "code",
   "execution_count": 8,
   "id": "f1bb14c1",
   "metadata": {
    "execution": {
     "iopub.execute_input": "2023-02-27T10:02:26.083053Z",
     "iopub.status.busy": "2023-02-27T10:02:26.082526Z",
     "iopub.status.idle": "2023-02-27T10:02:26.409965Z",
     "shell.execute_reply": "2023-02-27T10:02:26.409288Z"
    }
   },
   "outputs": [],
   "source": [
    "from tianshou.data import Batch\n",
    "\n",
    "b = Batch(**_TREE_DATA_2)"
   ]
  },
  {
   "cell_type": "code",
   "execution_count": 9,
   "id": "cb0777c3",
   "metadata": {
    "execution": {
     "iopub.execute_input": "2023-02-27T10:02:26.413306Z",
     "iopub.status.busy": "2023-02-27T10:02:26.412590Z",
     "iopub.status.idle": "2023-02-27T10:02:26.418811Z",
     "shell.execute_reply": "2023-02-27T10:02:26.418238Z"
    }
   },
   "outputs": [
    {
     "data": {
      "text/plain": [
       "Batch(\n",
       "    a: tensor([[-0.0613, -2.1107,  0.8647],\n",
       "               [ 0.5007, -0.7210,  1.8474]]),\n",
       "    x: Batch(\n",
       "           c: tensor([[ 2.5526, -1.4748, -0.9513,  0.4967],\n",
       "                      [-0.1044, -1.1578,  0.9997,  1.5735],\n",
       "                      [-0.5335,  0.2146,  0.9833,  1.0815]]),\n",
       "       ),\n",
       ")"
      ]
     },
     "execution_count": 9,
     "metadata": {},
     "output_type": "execute_result"
    }
   ],
   "source": [
    "b"
   ]
  },
  {
   "cell_type": "code",
   "execution_count": 10,
   "id": "43ef8ea3",
   "metadata": {
    "execution": {
     "iopub.execute_input": "2023-02-27T10:02:26.421324Z",
     "iopub.status.busy": "2023-02-27T10:02:26.420916Z",
     "iopub.status.idle": "2023-02-27T10:02:26.425457Z",
     "shell.execute_reply": "2023-02-27T10:02:26.424861Z"
    }
   },
   "outputs": [
    {
     "data": {
      "text/plain": [
       "tensor([[-0.0613, -2.1107,  0.8647],\n",
       "        [ 0.5007, -0.7210,  1.8474]])"
      ]
     },
     "execution_count": 10,
     "metadata": {},
     "output_type": "execute_result"
    }
   ],
   "source": [
    "b.a"
   ]
  },
  {
   "cell_type": "code",
   "execution_count": 11,
   "id": "b785ab72",
   "metadata": {
    "execution": {
     "iopub.execute_input": "2023-02-27T10:02:26.427856Z",
     "iopub.status.busy": "2023-02-27T10:02:26.427497Z",
     "iopub.status.idle": "2023-02-27T10:02:31.193610Z",
     "shell.execute_reply": "2023-02-27T10:02:31.192934Z"
    }
   },
   "outputs": [
    {
     "name": "stdout",
     "output_type": "stream",
     "text": [
      "58.6 ns ± 0.0314 ns per loop (mean ± std. dev. of 7 runs, 10,000,000 loops each)\n"
     ]
    }
   ],
   "source": [
    "%timeit b.a"
   ]
  },
  {
   "cell_type": "code",
   "execution_count": 12,
   "id": "ad54dc69",
   "metadata": {
    "execution": {
     "iopub.execute_input": "2023-02-27T10:02:31.196853Z",
     "iopub.status.busy": "2023-02-27T10:02:31.196320Z",
     "iopub.status.idle": "2023-02-27T10:02:31.202679Z",
     "shell.execute_reply": "2023-02-27T10:02:31.202088Z"
    }
   },
   "outputs": [
    {
     "data": {
      "text/plain": [
       "Batch(\n",
       "    a: tensor([[ 0.1053, -1.0435,  0.1064],\n",
       "               [-0.3945,  0.0985, -0.1531]]),\n",
       "    x: Batch(\n",
       "           c: tensor([[ 2.5526, -1.4748, -0.9513,  0.4967],\n",
       "                      [-0.1044, -1.1578,  0.9997,  1.5735],\n",
       "                      [-0.5335,  0.2146,  0.9833,  1.0815]]),\n",
       "       ),\n",
       ")"
      ]
     },
     "execution_count": 12,
     "metadata": {},
     "output_type": "execute_result"
    }
   ],
   "source": [
    "new_value = torch.randn(2, 3)\n",
    "b.a = new_value\n",
    "\n",
    "b"
   ]
  },
  {
   "cell_type": "code",
   "execution_count": 13,
   "id": "29b1d0bf",
   "metadata": {
    "execution": {
     "iopub.execute_input": "2023-02-27T10:02:31.205442Z",
     "iopub.status.busy": "2023-02-27T10:02:31.204874Z",
     "iopub.status.idle": "2023-02-27T10:02:35.143845Z",
     "shell.execute_reply": "2023-02-27T10:02:35.143135Z"
    }
   },
   "outputs": [
    {
     "name": "stdout",
     "output_type": "stream",
     "text": [
      "485 ns ± 0.154 ns per loop (mean ± std. dev. of 7 runs, 1,000,000 loops each)\n"
     ]
    }
   ],
   "source": [
    "%timeit b.a = new_value"
   ]
  },
  {
   "cell_type": "markdown",
   "id": "b61ad1d0",
   "metadata": {},
   "source": [
    "## Initialization"
   ]
  },
  {
   "cell_type": "markdown",
   "id": "d70f0d54",
   "metadata": {},
   "source": [
    "### TreeValue's Initialization"
   ]
  },
  {
   "cell_type": "code",
   "execution_count": 14,
   "id": "d32a679b",
   "metadata": {
    "execution": {
     "iopub.execute_input": "2023-02-27T10:02:35.147067Z",
     "iopub.status.busy": "2023-02-27T10:02:35.146426Z",
     "iopub.status.idle": "2023-02-27T10:02:41.926200Z",
     "shell.execute_reply": "2023-02-27T10:02:41.925493Z"
    }
   },
   "outputs": [
    {
     "name": "stdout",
     "output_type": "stream",
     "text": [
      "835 ns ± 2.7 ns per loop (mean ± std. dev. of 7 runs, 1,000,000 loops each)\n"
     ]
    }
   ],
   "source": [
    "%timeit FastTreeValue(_TREE_DATA_1)"
   ]
  },
  {
   "cell_type": "markdown",
   "id": "24f3707b",
   "metadata": {},
   "source": [
    "### Tianshou Batch's Initialization"
   ]
  },
  {
   "cell_type": "code",
   "execution_count": 15,
   "id": "ac3958df",
   "metadata": {
    "execution": {
     "iopub.execute_input": "2023-02-27T10:02:41.929199Z",
     "iopub.status.busy": "2023-02-27T10:02:41.928675Z",
     "iopub.status.idle": "2023-02-27T10:02:51.259836Z",
     "shell.execute_reply": "2023-02-27T10:02:51.258981Z"
    }
   },
   "outputs": [
    {
     "name": "stdout",
     "output_type": "stream",
     "text": [
      "11.5 µs ± 29.7 ns per loop (mean ± std. dev. of 7 runs, 100,000 loops each)\n"
     ]
    }
   ],
   "source": [
    "%timeit Batch(**_TREE_DATA_1)"
   ]
  },
  {
   "cell_type": "markdown",
   "id": "1ab82e2d",
   "metadata": {},
   "source": [
    "## Deep Copy Operation"
   ]
  },
  {
   "cell_type": "code",
   "execution_count": 16,
   "id": "210a9442",
   "metadata": {
    "execution": {
     "iopub.execute_input": "2023-02-27T10:02:51.262708Z",
     "iopub.status.busy": "2023-02-27T10:02:51.262349Z",
     "iopub.status.idle": "2023-02-27T10:02:51.266279Z",
     "shell.execute_reply": "2023-02-27T10:02:51.265691Z"
    }
   },
   "outputs": [],
   "source": [
    "import copy"
   ]
  },
  {
   "cell_type": "markdown",
   "id": "5a736274",
   "metadata": {},
   "source": [
    "### Deep Copy of TreeValue"
   ]
  },
  {
   "cell_type": "code",
   "execution_count": 17,
   "id": "f9bcadd6",
   "metadata": {
    "execution": {
     "iopub.execute_input": "2023-02-27T10:02:51.269260Z",
     "iopub.status.busy": "2023-02-27T10:02:51.268777Z",
     "iopub.status.idle": "2023-02-27T10:03:02.339617Z",
     "shell.execute_reply": "2023-02-27T10:03:02.339010Z"
    }
   },
   "outputs": [
    {
     "name": "stdout",
     "output_type": "stream",
     "text": [
      "137 µs ± 375 ns per loop (mean ± std. dev. of 7 runs, 10,000 loops each)\n"
     ]
    }
   ],
   "source": [
    "t3 = FastTreeValue(_TREE_DATA_3)\n",
    "%timeit copy.deepcopy(t3)"
   ]
  },
  {
   "cell_type": "markdown",
   "id": "bf8be7ea",
   "metadata": {},
   "source": [
    "### Deep Copy of Tianshou Batch"
   ]
  },
  {
   "cell_type": "code",
   "execution_count": 18,
   "id": "91998e6f",
   "metadata": {
    "execution": {
     "iopub.execute_input": "2023-02-27T10:03:02.343538Z",
     "iopub.status.busy": "2023-02-27T10:03:02.342567Z",
     "iopub.status.idle": "2023-02-27T10:03:13.517666Z",
     "shell.execute_reply": "2023-02-27T10:03:13.517105Z"
    }
   },
   "outputs": [
    {
     "name": "stdout",
     "output_type": "stream",
     "text": [
      "138 µs ± 839 ns per loop (mean ± std. dev. of 7 runs, 10,000 loops each)\n"
     ]
    }
   ],
   "source": [
    "b3 = Batch(**_TREE_DATA_3)\n",
    "%timeit copy.deepcopy(b3)"
   ]
  },
  {
   "cell_type": "markdown",
   "id": "223162fb",
   "metadata": {},
   "source": [
    "## Stack, Concat and Split Operation"
   ]
  },
  {
   "cell_type": "markdown",
   "id": "85fa4a73",
   "metadata": {},
   "source": [
    "### Performance of TreeValue"
   ]
  },
  {
   "cell_type": "code",
   "execution_count": 19,
   "id": "a0c2b697",
   "metadata": {
    "execution": {
     "iopub.execute_input": "2023-02-27T10:03:13.521876Z",
     "iopub.status.busy": "2023-02-27T10:03:13.520679Z",
     "iopub.status.idle": "2023-02-27T10:03:13.525135Z",
     "shell.execute_reply": "2023-02-27T10:03:13.524537Z"
    }
   },
   "outputs": [],
   "source": [
    "trees = [FastTreeValue(_TREE_DATA_2) for _ in range(8)]"
   ]
  },
  {
   "cell_type": "code",
   "execution_count": 20,
   "id": "017ea5a5",
   "metadata": {
    "execution": {
     "iopub.execute_input": "2023-02-27T10:03:13.527952Z",
     "iopub.status.busy": "2023-02-27T10:03:13.527469Z",
     "iopub.status.idle": "2023-02-27T10:03:13.534333Z",
     "shell.execute_reply": "2023-02-27T10:03:13.533819Z"
    }
   },
   "outputs": [
    {
     "data": {
      "text/plain": [
       "<FastTreeValue 0x7f77e5d72430>\n",
       "├── 'a' --> tensor([[[-0.0613, -2.1107,  0.8647],\n",
       "│                    [ 0.5007, -0.7210,  1.8474]],\n",
       "│           \n",
       "│                   [[-0.0613, -2.1107,  0.8647],\n",
       "│                    [ 0.5007, -0.7210,  1.8474]],\n",
       "│           \n",
       "│                   [[-0.0613, -2.1107,  0.8647],\n",
       "│                    [ 0.5007, -0.7210,  1.8474]],\n",
       "│           \n",
       "│                   [[-0.0613, -2.1107,  0.8647],\n",
       "│                    [ 0.5007, -0.7210,  1.8474]],\n",
       "│           \n",
       "│                   [[-0.0613, -2.1107,  0.8647],\n",
       "│                    [ 0.5007, -0.7210,  1.8474]],\n",
       "│           \n",
       "│                   [[-0.0613, -2.1107,  0.8647],\n",
       "│                    [ 0.5007, -0.7210,  1.8474]],\n",
       "│           \n",
       "│                   [[-0.0613, -2.1107,  0.8647],\n",
       "│                    [ 0.5007, -0.7210,  1.8474]],\n",
       "│           \n",
       "│                   [[-0.0613, -2.1107,  0.8647],\n",
       "│                    [ 0.5007, -0.7210,  1.8474]]])\n",
       "└── 'x' --> <FastTreeValue 0x7f77e5680f40>\n",
       "    └── 'c' --> tensor([[[ 2.5526, -1.4748, -0.9513,  0.4967],\n",
       "                         [-0.1044, -1.1578,  0.9997,  1.5735],\n",
       "                         [-0.5335,  0.2146,  0.9833,  1.0815]],\n",
       "                \n",
       "                        [[ 2.5526, -1.4748, -0.9513,  0.4967],\n",
       "                         [-0.1044, -1.1578,  0.9997,  1.5735],\n",
       "                         [-0.5335,  0.2146,  0.9833,  1.0815]],\n",
       "                \n",
       "                        [[ 2.5526, -1.4748, -0.9513,  0.4967],\n",
       "                         [-0.1044, -1.1578,  0.9997,  1.5735],\n",
       "                         [-0.5335,  0.2146,  0.9833,  1.0815]],\n",
       "                \n",
       "                        [[ 2.5526, -1.4748, -0.9513,  0.4967],\n",
       "                         [-0.1044, -1.1578,  0.9997,  1.5735],\n",
       "                         [-0.5335,  0.2146,  0.9833,  1.0815]],\n",
       "                \n",
       "                        [[ 2.5526, -1.4748, -0.9513,  0.4967],\n",
       "                         [-0.1044, -1.1578,  0.9997,  1.5735],\n",
       "                         [-0.5335,  0.2146,  0.9833,  1.0815]],\n",
       "                \n",
       "                        [[ 2.5526, -1.4748, -0.9513,  0.4967],\n",
       "                         [-0.1044, -1.1578,  0.9997,  1.5735],\n",
       "                         [-0.5335,  0.2146,  0.9833,  1.0815]],\n",
       "                \n",
       "                        [[ 2.5526, -1.4748, -0.9513,  0.4967],\n",
       "                         [-0.1044, -1.1578,  0.9997,  1.5735],\n",
       "                         [-0.5335,  0.2146,  0.9833,  1.0815]],\n",
       "                \n",
       "                        [[ 2.5526, -1.4748, -0.9513,  0.4967],\n",
       "                         [-0.1044, -1.1578,  0.9997,  1.5735],\n",
       "                         [-0.5335,  0.2146,  0.9833,  1.0815]]])"
      ]
     },
     "execution_count": 20,
     "metadata": {},
     "output_type": "execute_result"
    }
   ],
   "source": [
    "t_stack = FastTreeValue.func(subside=True)(torch.stack)\n",
    "\n",
    "t_stack(trees)"
   ]
  },
  {
   "cell_type": "code",
   "execution_count": 21,
   "id": "f8b3f415",
   "metadata": {
    "execution": {
     "iopub.execute_input": "2023-02-27T10:03:13.536841Z",
     "iopub.status.busy": "2023-02-27T10:03:13.536287Z",
     "iopub.status.idle": "2023-02-27T10:03:16.149730Z",
     "shell.execute_reply": "2023-02-27T10:03:16.149074Z"
    }
   },
   "outputs": [
    {
     "name": "stdout",
     "output_type": "stream",
     "text": [
      "32.2 µs ± 66.2 ns per loop (mean ± std. dev. of 7 runs, 10,000 loops each)\n"
     ]
    }
   ],
   "source": [
    "%timeit t_stack(trees)"
   ]
  },
  {
   "cell_type": "code",
   "execution_count": 22,
   "id": "94b56771",
   "metadata": {
    "execution": {
     "iopub.execute_input": "2023-02-27T10:03:16.152926Z",
     "iopub.status.busy": "2023-02-27T10:03:16.152412Z",
     "iopub.status.idle": "2023-02-27T10:03:16.159453Z",
     "shell.execute_reply": "2023-02-27T10:03:16.158846Z"
    }
   },
   "outputs": [
    {
     "data": {
      "text/plain": [
       "<FastTreeValue 0x7f77e56ceb20>\n",
       "├── 'a' --> tensor([[-0.0613, -2.1107,  0.8647],\n",
       "│                   [ 0.5007, -0.7210,  1.8474],\n",
       "│                   [-0.0613, -2.1107,  0.8647],\n",
       "│                   [ 0.5007, -0.7210,  1.8474],\n",
       "│                   [-0.0613, -2.1107,  0.8647],\n",
       "│                   [ 0.5007, -0.7210,  1.8474],\n",
       "│                   [-0.0613, -2.1107,  0.8647],\n",
       "│                   [ 0.5007, -0.7210,  1.8474],\n",
       "│                   [-0.0613, -2.1107,  0.8647],\n",
       "│                   [ 0.5007, -0.7210,  1.8474],\n",
       "│                   [-0.0613, -2.1107,  0.8647],\n",
       "│                   [ 0.5007, -0.7210,  1.8474],\n",
       "│                   [-0.0613, -2.1107,  0.8647],\n",
       "│                   [ 0.5007, -0.7210,  1.8474],\n",
       "│                   [-0.0613, -2.1107,  0.8647],\n",
       "│                   [ 0.5007, -0.7210,  1.8474]])\n",
       "└── 'x' --> <FastTreeValue 0x7f77e56ceeb0>\n",
       "    └── 'c' --> tensor([[ 2.5526, -1.4748, -0.9513,  0.4967],\n",
       "                        [-0.1044, -1.1578,  0.9997,  1.5735],\n",
       "                        [-0.5335,  0.2146,  0.9833,  1.0815],\n",
       "                        [ 2.5526, -1.4748, -0.9513,  0.4967],\n",
       "                        [-0.1044, -1.1578,  0.9997,  1.5735],\n",
       "                        [-0.5335,  0.2146,  0.9833,  1.0815],\n",
       "                        [ 2.5526, -1.4748, -0.9513,  0.4967],\n",
       "                        [-0.1044, -1.1578,  0.9997,  1.5735],\n",
       "                        [-0.5335,  0.2146,  0.9833,  1.0815],\n",
       "                        [ 2.5526, -1.4748, -0.9513,  0.4967],\n",
       "                        [-0.1044, -1.1578,  0.9997,  1.5735],\n",
       "                        [-0.5335,  0.2146,  0.9833,  1.0815],\n",
       "                        [ 2.5526, -1.4748, -0.9513,  0.4967],\n",
       "                        [-0.1044, -1.1578,  0.9997,  1.5735],\n",
       "                        [-0.5335,  0.2146,  0.9833,  1.0815],\n",
       "                        [ 2.5526, -1.4748, -0.9513,  0.4967],\n",
       "                        [-0.1044, -1.1578,  0.9997,  1.5735],\n",
       "                        [-0.5335,  0.2146,  0.9833,  1.0815],\n",
       "                        [ 2.5526, -1.4748, -0.9513,  0.4967],\n",
       "                        [-0.1044, -1.1578,  0.9997,  1.5735],\n",
       "                        [-0.5335,  0.2146,  0.9833,  1.0815],\n",
       "                        [ 2.5526, -1.4748, -0.9513,  0.4967],\n",
       "                        [-0.1044, -1.1578,  0.9997,  1.5735],\n",
       "                        [-0.5335,  0.2146,  0.9833,  1.0815]])"
      ]
     },
     "execution_count": 22,
     "metadata": {},
     "output_type": "execute_result"
    }
   ],
   "source": [
    "t_cat = FastTreeValue.func(subside=True)(torch.cat)\n",
    "\n",
    "t_cat(trees)"
   ]
  },
  {
   "cell_type": "code",
   "execution_count": 23,
   "id": "5e9c06a6",
   "metadata": {
    "execution": {
     "iopub.execute_input": "2023-02-27T10:03:16.161947Z",
     "iopub.status.busy": "2023-02-27T10:03:16.161599Z",
     "iopub.status.idle": "2023-02-27T10:03:18.610673Z",
     "shell.execute_reply": "2023-02-27T10:03:18.609964Z"
    }
   },
   "outputs": [
    {
     "name": "stdout",
     "output_type": "stream",
     "text": [
      "30.1 µs ± 92.5 ns per loop (mean ± std. dev. of 7 runs, 10,000 loops each)\n"
     ]
    }
   ],
   "source": [
    "%timeit t_cat(trees)"
   ]
  },
  {
   "cell_type": "code",
   "execution_count": 24,
   "id": "a3ab5c8f",
   "metadata": {
    "execution": {
     "iopub.execute_input": "2023-02-27T10:03:18.613951Z",
     "iopub.status.busy": "2023-02-27T10:03:18.613369Z",
     "iopub.status.idle": "2023-02-27T10:03:23.345341Z",
     "shell.execute_reply": "2023-02-27T10:03:23.344573Z"
    }
   },
   "outputs": [
    {
     "name": "stdout",
     "output_type": "stream",
     "text": [
      "58.2 µs ± 41.5 ns per loop (mean ± std. dev. of 7 runs, 10,000 loops each)\n"
     ]
    }
   ],
   "source": [
    "t_split = FastTreeValue.func(rise=True)(torch.split)\n",
    "tree = FastTreeValue({\n",
    "    'obs': torch.randn(8, 4, 84, 84),\n",
    "    'action': torch.randint(0, 6, size=(8, 1,)),\n",
    "    'reward': torch.rand(8, 1),\n",
    "})\n",
    "\n",
    "%timeit t_split(tree, 1)"
   ]
  },
  {
   "cell_type": "markdown",
   "id": "31c3ec0b",
   "metadata": {},
   "source": [
    "### Performance of Tianshou Batch"
   ]
  },
  {
   "cell_type": "code",
   "execution_count": 25,
   "id": "9ead828a",
   "metadata": {
    "execution": {
     "iopub.execute_input": "2023-02-27T10:03:23.348512Z",
     "iopub.status.busy": "2023-02-27T10:03:23.348155Z",
     "iopub.status.idle": "2023-02-27T10:03:23.356083Z",
     "shell.execute_reply": "2023-02-27T10:03:23.355487Z"
    }
   },
   "outputs": [
    {
     "data": {
      "text/plain": [
       "Batch(\n",
       "    a: tensor([[[-0.0613, -2.1107,  0.8647],\n",
       "                [ 0.5007, -0.7210,  1.8474]],\n",
       "       \n",
       "               [[-0.0613, -2.1107,  0.8647],\n",
       "                [ 0.5007, -0.7210,  1.8474]],\n",
       "       \n",
       "               [[-0.0613, -2.1107,  0.8647],\n",
       "                [ 0.5007, -0.7210,  1.8474]],\n",
       "       \n",
       "               [[-0.0613, -2.1107,  0.8647],\n",
       "                [ 0.5007, -0.7210,  1.8474]],\n",
       "       \n",
       "               [[-0.0613, -2.1107,  0.8647],\n",
       "                [ 0.5007, -0.7210,  1.8474]],\n",
       "       \n",
       "               [[-0.0613, -2.1107,  0.8647],\n",
       "                [ 0.5007, -0.7210,  1.8474]],\n",
       "       \n",
       "               [[-0.0613, -2.1107,  0.8647],\n",
       "                [ 0.5007, -0.7210,  1.8474]],\n",
       "       \n",
       "               [[-0.0613, -2.1107,  0.8647],\n",
       "                [ 0.5007, -0.7210,  1.8474]]]),\n",
       "    x: Batch(\n",
       "           c: tensor([[[ 2.5526, -1.4748, -0.9513,  0.4967],\n",
       "                       [-0.1044, -1.1578,  0.9997,  1.5735],\n",
       "                       [-0.5335,  0.2146,  0.9833,  1.0815]],\n",
       "              \n",
       "                      [[ 2.5526, -1.4748, -0.9513,  0.4967],\n",
       "                       [-0.1044, -1.1578,  0.9997,  1.5735],\n",
       "                       [-0.5335,  0.2146,  0.9833,  1.0815]],\n",
       "              \n",
       "                      [[ 2.5526, -1.4748, -0.9513,  0.4967],\n",
       "                       [-0.1044, -1.1578,  0.9997,  1.5735],\n",
       "                       [-0.5335,  0.2146,  0.9833,  1.0815]],\n",
       "              \n",
       "                      [[ 2.5526, -1.4748, -0.9513,  0.4967],\n",
       "                       [-0.1044, -1.1578,  0.9997,  1.5735],\n",
       "                       [-0.5335,  0.2146,  0.9833,  1.0815]],\n",
       "              \n",
       "                      [[ 2.5526, -1.4748, -0.9513,  0.4967],\n",
       "                       [-0.1044, -1.1578,  0.9997,  1.5735],\n",
       "                       [-0.5335,  0.2146,  0.9833,  1.0815]],\n",
       "              \n",
       "                      [[ 2.5526, -1.4748, -0.9513,  0.4967],\n",
       "                       [-0.1044, -1.1578,  0.9997,  1.5735],\n",
       "                       [-0.5335,  0.2146,  0.9833,  1.0815]],\n",
       "              \n",
       "                      [[ 2.5526, -1.4748, -0.9513,  0.4967],\n",
       "                       [-0.1044, -1.1578,  0.9997,  1.5735],\n",
       "                       [-0.5335,  0.2146,  0.9833,  1.0815]],\n",
       "              \n",
       "                      [[ 2.5526, -1.4748, -0.9513,  0.4967],\n",
       "                       [-0.1044, -1.1578,  0.9997,  1.5735],\n",
       "                       [-0.5335,  0.2146,  0.9833,  1.0815]]]),\n",
       "       ),\n",
       ")"
      ]
     },
     "execution_count": 25,
     "metadata": {},
     "output_type": "execute_result"
    }
   ],
   "source": [
    "batches = [Batch(**_TREE_DATA_2) for _ in range(8)]\n",
    "\n",
    "Batch.stack(batches)"
   ]
  },
  {
   "cell_type": "code",
   "execution_count": 26,
   "id": "ec9037a3",
   "metadata": {
    "execution": {
     "iopub.execute_input": "2023-02-27T10:03:23.358900Z",
     "iopub.status.busy": "2023-02-27T10:03:23.358413Z",
     "iopub.status.idle": "2023-02-27T10:03:29.696481Z",
     "shell.execute_reply": "2023-02-27T10:03:29.695721Z"
    }
   },
   "outputs": [
    {
     "name": "stdout",
     "output_type": "stream",
     "text": [
      "77.9 µs ± 102 ns per loop (mean ± std. dev. of 7 runs, 10,000 loops each)\n"
     ]
    }
   ],
   "source": [
    "%timeit Batch.stack(batches)"
   ]
  },
  {
   "cell_type": "code",
   "execution_count": 27,
   "id": "cb8ab77e",
   "metadata": {
    "execution": {
     "iopub.execute_input": "2023-02-27T10:03:29.699603Z",
     "iopub.status.busy": "2023-02-27T10:03:29.699237Z",
     "iopub.status.idle": "2023-02-27T10:03:29.706668Z",
     "shell.execute_reply": "2023-02-27T10:03:29.706093Z"
    }
   },
   "outputs": [
    {
     "data": {
      "text/plain": [
       "Batch(\n",
       "    a: tensor([[-0.0613, -2.1107,  0.8647],\n",
       "               [ 0.5007, -0.7210,  1.8474],\n",
       "               [-0.0613, -2.1107,  0.8647],\n",
       "               [ 0.5007, -0.7210,  1.8474],\n",
       "               [-0.0613, -2.1107,  0.8647],\n",
       "               [ 0.5007, -0.7210,  1.8474],\n",
       "               [-0.0613, -2.1107,  0.8647],\n",
       "               [ 0.5007, -0.7210,  1.8474],\n",
       "               [-0.0613, -2.1107,  0.8647],\n",
       "               [ 0.5007, -0.7210,  1.8474],\n",
       "               [-0.0613, -2.1107,  0.8647],\n",
       "               [ 0.5007, -0.7210,  1.8474],\n",
       "               [-0.0613, -2.1107,  0.8647],\n",
       "               [ 0.5007, -0.7210,  1.8474],\n",
       "               [-0.0613, -2.1107,  0.8647],\n",
       "               [ 0.5007, -0.7210,  1.8474]]),\n",
       "    x: Batch(\n",
       "           c: tensor([[ 2.5526, -1.4748, -0.9513,  0.4967],\n",
       "                      [-0.1044, -1.1578,  0.9997,  1.5735],\n",
       "                      [-0.5335,  0.2146,  0.9833,  1.0815],\n",
       "                      [ 2.5526, -1.4748, -0.9513,  0.4967],\n",
       "                      [-0.1044, -1.1578,  0.9997,  1.5735],\n",
       "                      [-0.5335,  0.2146,  0.9833,  1.0815],\n",
       "                      [ 2.5526, -1.4748, -0.9513,  0.4967],\n",
       "                      [-0.1044, -1.1578,  0.9997,  1.5735],\n",
       "                      [-0.5335,  0.2146,  0.9833,  1.0815],\n",
       "                      [ 2.5526, -1.4748, -0.9513,  0.4967],\n",
       "                      [-0.1044, -1.1578,  0.9997,  1.5735],\n",
       "                      [-0.5335,  0.2146,  0.9833,  1.0815],\n",
       "                      [ 2.5526, -1.4748, -0.9513,  0.4967],\n",
       "                      [-0.1044, -1.1578,  0.9997,  1.5735],\n",
       "                      [-0.5335,  0.2146,  0.9833,  1.0815],\n",
       "                      [ 2.5526, -1.4748, -0.9513,  0.4967],\n",
       "                      [-0.1044, -1.1578,  0.9997,  1.5735],\n",
       "                      [-0.5335,  0.2146,  0.9833,  1.0815],\n",
       "                      [ 2.5526, -1.4748, -0.9513,  0.4967],\n",
       "                      [-0.1044, -1.1578,  0.9997,  1.5735],\n",
       "                      [-0.5335,  0.2146,  0.9833,  1.0815],\n",
       "                      [ 2.5526, -1.4748, -0.9513,  0.4967],\n",
       "                      [-0.1044, -1.1578,  0.9997,  1.5735],\n",
       "                      [-0.5335,  0.2146,  0.9833,  1.0815]]),\n",
       "       ),\n",
       ")"
      ]
     },
     "execution_count": 27,
     "metadata": {},
     "output_type": "execute_result"
    }
   ],
   "source": [
    "Batch.cat(batches)"
   ]
  },
  {
   "cell_type": "code",
   "execution_count": 28,
   "id": "18dfb045",
   "metadata": {
    "execution": {
     "iopub.execute_input": "2023-02-27T10:03:29.709190Z",
     "iopub.status.busy": "2023-02-27T10:03:29.708774Z",
     "iopub.status.idle": "2023-02-27T10:03:41.087093Z",
     "shell.execute_reply": "2023-02-27T10:03:41.086290Z"
    }
   },
   "outputs": [
    {
     "name": "stdout",
     "output_type": "stream",
     "text": [
      "140 µs ± 347 ns per loop (mean ± std. dev. of 7 runs, 10,000 loops each)\n"
     ]
    }
   ],
   "source": [
    "%timeit Batch.cat(batches)"
   ]
  },
  {
   "cell_type": "code",
   "execution_count": 29,
   "id": "c6688e51",
   "metadata": {
    "execution": {
     "iopub.execute_input": "2023-02-27T10:03:41.090445Z",
     "iopub.status.busy": "2023-02-27T10:03:41.089931Z",
     "iopub.status.idle": "2023-02-27T10:03:43.700066Z",
     "shell.execute_reply": "2023-02-27T10:03:43.699358Z"
    }
   },
   "outputs": [
    {
     "name": "stdout",
     "output_type": "stream",
     "text": [
      "320 µs ± 1.54 µs per loop (mean ± std. dev. of 7 runs, 1,000 loops each)\n"
     ]
    }
   ],
   "source": [
    "batch = Batch({\n",
    "    'obs': torch.randn(8, 4, 84, 84),\n",
    "    'action': torch.randint(0, 6, size=(8, 1,)),\n",
    "    'reward': torch.rand(8, 1)}\n",
    ")\n",
    "\n",
    "%timeit list(Batch.split(batch, 1, shuffle=False, merge_last=True))"
   ]
  },
  {
   "cell_type": "code",
   "execution_count": null,
   "id": "2539fbd9",
   "metadata": {},
   "outputs": [],
   "source": []
  }
 ],
 "metadata": {
  "kernelspec": {
   "display_name": "Python 3 (ipykernel)",
   "language": "python",
   "name": "python3"
  },
  "language_info": {
   "codemirror_mode": {
    "name": "ipython",
    "version": 3
   },
   "file_extension": ".py",
   "mimetype": "text/x-python",
   "name": "python",
   "nbconvert_exporter": "python",
   "pygments_lexer": "ipython3",
   "version": "3.8.16"
  }
 },
 "nbformat": 4,
 "nbformat_minor": 5
}
