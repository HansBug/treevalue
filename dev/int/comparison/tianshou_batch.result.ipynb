{
 "cells": [
  {
   "cell_type": "markdown",
   "id": "9d39d946",
   "metadata": {},
   "source": [
    "# Comparison Between TreeValue and Tianshou Batch"
   ]
  },
  {
   "cell_type": "markdown",
   "id": "3c6db2d4",
   "metadata": {},
   "source": [
    "In this section, we will take a look at the feature and performance of the [Tianshou Batch](https://github.com/thu-ml/tianshou) library, which is developed by Tsinghua Machine Learning Group."
   ]
  },
  {
   "cell_type": "markdown",
   "id": "069361b0",
   "metadata": {},
   "source": [
    "Before starting the comparison, let us define some thing."
   ]
  },
  {
   "cell_type": "code",
   "execution_count": 1,
   "id": "06fc8d26",
   "metadata": {
    "execution": {
     "iopub.execute_input": "2023-02-27T11:26:25.625817Z",
     "iopub.status.busy": "2023-02-27T11:26:25.625204Z",
     "iopub.status.idle": "2023-02-27T11:26:26.522027Z",
     "shell.execute_reply": "2023-02-27T11:26:26.521226Z"
    }
   },
   "outputs": [
    {
     "name": "stderr",
     "output_type": "stream",
     "text": [
      "/opt/hostedtoolcache/Python/3.8.16/x64/lib/python3.8/site-packages/tqdm/auto.py:22: TqdmWarning: IProgress not found. Please update jupyter and ipywidgets. See https://ipywidgets.readthedocs.io/en/stable/user_install.html\n",
      "  from .autonotebook import tqdm as notebook_tqdm\n"
     ]
    }
   ],
   "source": [
    "import torch \n",
    "\n",
    "_TREE_DATA_1 = {'a': 1, 'b': 2, 'x': {'c': 3, 'd': 4}}\n",
    "_TREE_DATA_2 = {\n",
    "    'a': torch.randn(2, 3), \n",
    "    'x': {\n",
    "        'c': torch.randn(3, 4)\n",
    "    },\n",
    "}\n",
    "_TREE_DATA_3 = {\n",
    "    'obs': torch.randn(4, 84, 84),\n",
    "    'action': torch.randint(0, 6, size=(1,)),\n",
    "    'reward': torch.rand(1),\n",
    "}"
   ]
  },
  {
   "cell_type": "markdown",
   "id": "83461b25",
   "metadata": {},
   "source": [
    "## Read and Write Operation"
   ]
  },
  {
   "cell_type": "markdown",
   "id": "067b3f73",
   "metadata": {},
   "source": [
    "Reading and writing are the two most common operations in the tree data structure based on the data model (TreeValue and Tianshou Batch both belong to this type), so this section will compare the reading and writing performance of these two libraries."
   ]
  },
  {
   "cell_type": "markdown",
   "id": "5d09a5b7",
   "metadata": {},
   "source": [
    "### TreeValue's Get and Set"
   ]
  },
  {
   "cell_type": "code",
   "execution_count": 2,
   "id": "9519c4bb",
   "metadata": {
    "execution": {
     "iopub.execute_input": "2023-02-27T11:26:26.525459Z",
     "iopub.status.busy": "2023-02-27T11:26:26.524802Z",
     "iopub.status.idle": "2023-02-27T11:26:26.801897Z",
     "shell.execute_reply": "2023-02-27T11:26:26.801235Z"
    }
   },
   "outputs": [],
   "source": [
    "from treevalue import FastTreeValue\n",
    "\n",
    "t = FastTreeValue(_TREE_DATA_2)"
   ]
  },
  {
   "cell_type": "code",
   "execution_count": 3,
   "id": "11c37677",
   "metadata": {
    "execution": {
     "iopub.execute_input": "2023-02-27T11:26:26.805136Z",
     "iopub.status.busy": "2023-02-27T11:26:26.804518Z",
     "iopub.status.idle": "2023-02-27T11:26:26.813887Z",
     "shell.execute_reply": "2023-02-27T11:26:26.813310Z"
    }
   },
   "outputs": [
    {
     "data": {
      "text/plain": [
       "<FastTreeValue 0x7f24d819f7f0>\n",
       "├── 'a' --> tensor([[ 0.0975,  0.7004, -1.9068],\n",
       "│                   [ 1.8763,  0.0935, -2.1562]])\n",
       "└── 'x' --> <FastTreeValue 0x7f24d8196940>\n",
       "    └── 'c' --> tensor([[-2.0255, -0.0900, -1.6164, -1.6285],\n",
       "                        [ 0.0803,  1.6014, -0.9514, -0.0549],\n",
       "                        [-0.1968,  2.1201,  2.5206, -2.4505]])"
      ]
     },
     "execution_count": 3,
     "metadata": {},
     "output_type": "execute_result"
    }
   ],
   "source": [
    "t"
   ]
  },
  {
   "cell_type": "code",
   "execution_count": 4,
   "id": "fd70b0b9",
   "metadata": {
    "execution": {
     "iopub.execute_input": "2023-02-27T11:26:26.816758Z",
     "iopub.status.busy": "2023-02-27T11:26:26.816293Z",
     "iopub.status.idle": "2023-02-27T11:26:26.822176Z",
     "shell.execute_reply": "2023-02-27T11:26:26.821614Z"
    }
   },
   "outputs": [
    {
     "data": {
      "text/plain": [
       "tensor([[ 0.0975,  0.7004, -1.9068],\n",
       "        [ 1.8763,  0.0935, -2.1562]])"
      ]
     },
     "execution_count": 4,
     "metadata": {},
     "output_type": "execute_result"
    }
   ],
   "source": [
    "t.a"
   ]
  },
  {
   "cell_type": "code",
   "execution_count": 5,
   "id": "c18197bd",
   "metadata": {
    "execution": {
     "iopub.execute_input": "2023-02-27T11:26:26.824837Z",
     "iopub.status.busy": "2023-02-27T11:26:26.824518Z",
     "iopub.status.idle": "2023-02-27T11:26:32.144090Z",
     "shell.execute_reply": "2023-02-27T11:26:32.143230Z"
    }
   },
   "outputs": [
    {
     "name": "stdout",
     "output_type": "stream",
     "text": [
      "65 ns ± 0.0433 ns per loop (mean ± std. dev. of 7 runs, 10,000,000 loops each)\n"
     ]
    }
   ],
   "source": [
    "%timeit t.a"
   ]
  },
  {
   "cell_type": "code",
   "execution_count": 6,
   "id": "bd52f867",
   "metadata": {
    "execution": {
     "iopub.execute_input": "2023-02-27T11:26:32.147151Z",
     "iopub.status.busy": "2023-02-27T11:26:32.146556Z",
     "iopub.status.idle": "2023-02-27T11:26:32.153221Z",
     "shell.execute_reply": "2023-02-27T11:26:32.152631Z"
    }
   },
   "outputs": [
    {
     "data": {
      "text/plain": [
       "<FastTreeValue 0x7f24d819f7f0>\n",
       "├── 'a' --> tensor([[ 1.4579, -0.0298,  0.0335],\n",
       "│                   [ 1.1801,  0.1775, -1.0357]])\n",
       "└── 'x' --> <FastTreeValue 0x7f24d8196940>\n",
       "    └── 'c' --> tensor([[-2.0255, -0.0900, -1.6164, -1.6285],\n",
       "                        [ 0.0803,  1.6014, -0.9514, -0.0549],\n",
       "                        [-0.1968,  2.1201,  2.5206, -2.4505]])"
      ]
     },
     "execution_count": 6,
     "metadata": {},
     "output_type": "execute_result"
    }
   ],
   "source": [
    "new_value = torch.randn(2, 3)\n",
    "t.a = new_value\n",
    "\n",
    "t"
   ]
  },
  {
   "cell_type": "code",
   "execution_count": 7,
   "id": "bbe04d1c",
   "metadata": {
    "execution": {
     "iopub.execute_input": "2023-02-27T11:26:32.155641Z",
     "iopub.status.busy": "2023-02-27T11:26:32.155310Z",
     "iopub.status.idle": "2023-02-27T11:26:37.177627Z",
     "shell.execute_reply": "2023-02-27T11:26:37.176901Z"
    }
   },
   "outputs": [
    {
     "name": "stdout",
     "output_type": "stream",
     "text": [
      "61.5 ns ± 0.0317 ns per loop (mean ± std. dev. of 7 runs, 10,000,000 loops each)\n"
     ]
    }
   ],
   "source": [
    "%timeit t.a = new_value"
   ]
  },
  {
   "cell_type": "markdown",
   "id": "48c49731",
   "metadata": {},
   "source": [
    "### Tianshou Batch's Get and Set"
   ]
  },
  {
   "cell_type": "code",
   "execution_count": 8,
   "id": "f1bb14c1",
   "metadata": {
    "execution": {
     "iopub.execute_input": "2023-02-27T11:26:37.180473Z",
     "iopub.status.busy": "2023-02-27T11:26:37.180125Z",
     "iopub.status.idle": "2023-02-27T11:26:37.501266Z",
     "shell.execute_reply": "2023-02-27T11:26:37.500603Z"
    }
   },
   "outputs": [],
   "source": [
    "from tianshou.data import Batch\n",
    "\n",
    "b = Batch(**_TREE_DATA_2)"
   ]
  },
  {
   "cell_type": "code",
   "execution_count": 9,
   "id": "cb0777c3",
   "metadata": {
    "execution": {
     "iopub.execute_input": "2023-02-27T11:26:37.504882Z",
     "iopub.status.busy": "2023-02-27T11:26:37.504167Z",
     "iopub.status.idle": "2023-02-27T11:26:37.510378Z",
     "shell.execute_reply": "2023-02-27T11:26:37.509818Z"
    }
   },
   "outputs": [
    {
     "data": {
      "text/plain": [
       "Batch(\n",
       "    a: tensor([[ 0.0975,  0.7004, -1.9068],\n",
       "               [ 1.8763,  0.0935, -2.1562]]),\n",
       "    x: Batch(\n",
       "           c: tensor([[-2.0255, -0.0900, -1.6164, -1.6285],\n",
       "                      [ 0.0803,  1.6014, -0.9514, -0.0549],\n",
       "                      [-0.1968,  2.1201,  2.5206, -2.4505]]),\n",
       "       ),\n",
       ")"
      ]
     },
     "execution_count": 9,
     "metadata": {},
     "output_type": "execute_result"
    }
   ],
   "source": [
    "b"
   ]
  },
  {
   "cell_type": "code",
   "execution_count": 10,
   "id": "43ef8ea3",
   "metadata": {
    "execution": {
     "iopub.execute_input": "2023-02-27T11:26:37.513034Z",
     "iopub.status.busy": "2023-02-27T11:26:37.512455Z",
     "iopub.status.idle": "2023-02-27T11:26:37.517061Z",
     "shell.execute_reply": "2023-02-27T11:26:37.516432Z"
    }
   },
   "outputs": [
    {
     "data": {
      "text/plain": [
       "tensor([[ 0.0975,  0.7004, -1.9068],\n",
       "        [ 1.8763,  0.0935, -2.1562]])"
      ]
     },
     "execution_count": 10,
     "metadata": {},
     "output_type": "execute_result"
    }
   ],
   "source": [
    "b.a"
   ]
  },
  {
   "cell_type": "code",
   "execution_count": 11,
   "id": "b785ab72",
   "metadata": {
    "execution": {
     "iopub.execute_input": "2023-02-27T11:26:37.519929Z",
     "iopub.status.busy": "2023-02-27T11:26:37.519452Z",
     "iopub.status.idle": "2023-02-27T11:26:41.966367Z",
     "shell.execute_reply": "2023-02-27T11:26:41.965664Z"
    }
   },
   "outputs": [
    {
     "name": "stdout",
     "output_type": "stream",
     "text": [
      "54.2 ns ± 0.0461 ns per loop (mean ± std. dev. of 7 runs, 10,000,000 loops each)\n"
     ]
    }
   ],
   "source": [
    "%timeit b.a"
   ]
  },
  {
   "cell_type": "code",
   "execution_count": 12,
   "id": "ad54dc69",
   "metadata": {
    "execution": {
     "iopub.execute_input": "2023-02-27T11:26:41.969502Z",
     "iopub.status.busy": "2023-02-27T11:26:41.968923Z",
     "iopub.status.idle": "2023-02-27T11:26:41.977294Z",
     "shell.execute_reply": "2023-02-27T11:26:41.975941Z"
    }
   },
   "outputs": [
    {
     "data": {
      "text/plain": [
       "Batch(\n",
       "    a: tensor([[ 0.4293, -0.0731,  0.1325],\n",
       "               [-0.0435, -1.4961, -1.5898]]),\n",
       "    x: Batch(\n",
       "           c: tensor([[-2.0255, -0.0900, -1.6164, -1.6285],\n",
       "                      [ 0.0803,  1.6014, -0.9514, -0.0549],\n",
       "                      [-0.1968,  2.1201,  2.5206, -2.4505]]),\n",
       "       ),\n",
       ")"
      ]
     },
     "execution_count": 12,
     "metadata": {},
     "output_type": "execute_result"
    }
   ],
   "source": [
    "new_value = torch.randn(2, 3)\n",
    "b.a = new_value\n",
    "\n",
    "b"
   ]
  },
  {
   "cell_type": "code",
   "execution_count": 13,
   "id": "29b1d0bf",
   "metadata": {
    "execution": {
     "iopub.execute_input": "2023-02-27T11:26:41.980215Z",
     "iopub.status.busy": "2023-02-27T11:26:41.979768Z",
     "iopub.status.idle": "2023-02-27T11:26:46.047282Z",
     "shell.execute_reply": "2023-02-27T11:26:46.046613Z"
    }
   },
   "outputs": [
    {
     "name": "stdout",
     "output_type": "stream",
     "text": [
      "503 ns ± 0.188 ns per loop (mean ± std. dev. of 7 runs, 1,000,000 loops each)\n"
     ]
    }
   ],
   "source": [
    "%timeit b.a = new_value"
   ]
  },
  {
   "cell_type": "markdown",
   "id": "b61ad1d0",
   "metadata": {},
   "source": [
    "## Initialization"
   ]
  },
  {
   "cell_type": "markdown",
   "id": "d70f0d54",
   "metadata": {},
   "source": [
    "### TreeValue's Initialization"
   ]
  },
  {
   "cell_type": "code",
   "execution_count": 14,
   "id": "d32a679b",
   "metadata": {
    "execution": {
     "iopub.execute_input": "2023-02-27T11:26:46.050461Z",
     "iopub.status.busy": "2023-02-27T11:26:46.050089Z",
     "iopub.status.idle": "2023-02-27T11:26:52.768723Z",
     "shell.execute_reply": "2023-02-27T11:26:52.768021Z"
    }
   },
   "outputs": [
    {
     "name": "stdout",
     "output_type": "stream",
     "text": [
      "828 ns ± 0.611 ns per loop (mean ± std. dev. of 7 runs, 1,000,000 loops each)\n"
     ]
    }
   ],
   "source": [
    "%timeit FastTreeValue(_TREE_DATA_1)"
   ]
  },
  {
   "cell_type": "markdown",
   "id": "24f3707b",
   "metadata": {},
   "source": [
    "### Tianshou Batch's Initialization"
   ]
  },
  {
   "cell_type": "code",
   "execution_count": 15,
   "id": "ac3958df",
   "metadata": {
    "execution": {
     "iopub.execute_input": "2023-02-27T11:26:52.771527Z",
     "iopub.status.busy": "2023-02-27T11:26:52.771171Z",
     "iopub.status.idle": "2023-02-27T11:27:01.903391Z",
     "shell.execute_reply": "2023-02-27T11:27:01.901935Z"
    }
   },
   "outputs": [
    {
     "name": "stdout",
     "output_type": "stream",
     "text": [
      "11.2 µs ± 40.3 ns per loop (mean ± std. dev. of 7 runs, 100,000 loops each)\n"
     ]
    }
   ],
   "source": [
    "%timeit Batch(**_TREE_DATA_1)"
   ]
  },
  {
   "cell_type": "markdown",
   "id": "1ab82e2d",
   "metadata": {},
   "source": [
    "## Deep Copy Operation"
   ]
  },
  {
   "cell_type": "code",
   "execution_count": 16,
   "id": "210a9442",
   "metadata": {
    "execution": {
     "iopub.execute_input": "2023-02-27T11:27:01.906698Z",
     "iopub.status.busy": "2023-02-27T11:27:01.906172Z",
     "iopub.status.idle": "2023-02-27T11:27:01.910151Z",
     "shell.execute_reply": "2023-02-27T11:27:01.909211Z"
    }
   },
   "outputs": [],
   "source": [
    "import copy"
   ]
  },
  {
   "cell_type": "markdown",
   "id": "5a736274",
   "metadata": {},
   "source": [
    "### Deep Copy of TreeValue"
   ]
  },
  {
   "cell_type": "code",
   "execution_count": 17,
   "id": "f9bcadd6",
   "metadata": {
    "execution": {
     "iopub.execute_input": "2023-02-27T11:27:01.912647Z",
     "iopub.status.busy": "2023-02-27T11:27:01.912337Z",
     "iopub.status.idle": "2023-02-27T11:27:13.016502Z",
     "shell.execute_reply": "2023-02-27T11:27:13.015917Z"
    }
   },
   "outputs": [
    {
     "name": "stdout",
     "output_type": "stream",
     "text": [
      "137 µs ± 924 ns per loop (mean ± std. dev. of 7 runs, 10,000 loops each)\n"
     ]
    }
   ],
   "source": [
    "t3 = FastTreeValue(_TREE_DATA_3)\n",
    "%timeit copy.deepcopy(t3)"
   ]
  },
  {
   "cell_type": "markdown",
   "id": "bf8be7ea",
   "metadata": {},
   "source": [
    "### Deep Copy of Tianshou Batch"
   ]
  },
  {
   "cell_type": "code",
   "execution_count": 18,
   "id": "91998e6f",
   "metadata": {
    "execution": {
     "iopub.execute_input": "2023-02-27T11:27:13.020402Z",
     "iopub.status.busy": "2023-02-27T11:27:13.019439Z",
     "iopub.status.idle": "2023-02-27T11:27:24.333653Z",
     "shell.execute_reply": "2023-02-27T11:27:24.333070Z"
    }
   },
   "outputs": [
    {
     "name": "stdout",
     "output_type": "stream",
     "text": [
      "139 µs ± 419 ns per loop (mean ± std. dev. of 7 runs, 10,000 loops each)\n"
     ]
    }
   ],
   "source": [
    "b3 = Batch(**_TREE_DATA_3)\n",
    "%timeit copy.deepcopy(b3)"
   ]
  },
  {
   "cell_type": "markdown",
   "id": "223162fb",
   "metadata": {},
   "source": [
    "## Stack, Concat and Split Operation"
   ]
  },
  {
   "cell_type": "markdown",
   "id": "85fa4a73",
   "metadata": {},
   "source": [
    "### Performance of TreeValue"
   ]
  },
  {
   "cell_type": "code",
   "execution_count": 19,
   "id": "a0c2b697",
   "metadata": {
    "execution": {
     "iopub.execute_input": "2023-02-27T11:27:24.337420Z",
     "iopub.status.busy": "2023-02-27T11:27:24.336592Z",
     "iopub.status.idle": "2023-02-27T11:27:24.340820Z",
     "shell.execute_reply": "2023-02-27T11:27:24.340215Z"
    }
   },
   "outputs": [],
   "source": [
    "trees = [FastTreeValue(_TREE_DATA_2) for _ in range(8)]"
   ]
  },
  {
   "cell_type": "code",
   "execution_count": 20,
   "id": "017ea5a5",
   "metadata": {
    "execution": {
     "iopub.execute_input": "2023-02-27T11:27:24.343378Z",
     "iopub.status.busy": "2023-02-27T11:27:24.343054Z",
     "iopub.status.idle": "2023-02-27T11:27:24.350148Z",
     "shell.execute_reply": "2023-02-27T11:27:24.349519Z"
    }
   },
   "outputs": [
    {
     "data": {
      "text/plain": [
       "<FastTreeValue 0x7f24d820b040>\n",
       "├── 'a' --> tensor([[[ 0.0975,  0.7004, -1.9068],\n",
       "│                    [ 1.8763,  0.0935, -2.1562]],\n",
       "│           \n",
       "│                   [[ 0.0975,  0.7004, -1.9068],\n",
       "│                    [ 1.8763,  0.0935, -2.1562]],\n",
       "│           \n",
       "│                   [[ 0.0975,  0.7004, -1.9068],\n",
       "│                    [ 1.8763,  0.0935, -2.1562]],\n",
       "│           \n",
       "│                   [[ 0.0975,  0.7004, -1.9068],\n",
       "│                    [ 1.8763,  0.0935, -2.1562]],\n",
       "│           \n",
       "│                   [[ 0.0975,  0.7004, -1.9068],\n",
       "│                    [ 1.8763,  0.0935, -2.1562]],\n",
       "│           \n",
       "│                   [[ 0.0975,  0.7004, -1.9068],\n",
       "│                    [ 1.8763,  0.0935, -2.1562]],\n",
       "│           \n",
       "│                   [[ 0.0975,  0.7004, -1.9068],\n",
       "│                    [ 1.8763,  0.0935, -2.1562]],\n",
       "│           \n",
       "│                   [[ 0.0975,  0.7004, -1.9068],\n",
       "│                    [ 1.8763,  0.0935, -2.1562]]])\n",
       "└── 'x' --> <FastTreeValue 0x7f24234a0e80>\n",
       "    └── 'c' --> tensor([[[-2.0255, -0.0900, -1.6164, -1.6285],\n",
       "                         [ 0.0803,  1.6014, -0.9514, -0.0549],\n",
       "                         [-0.1968,  2.1201,  2.5206, -2.4505]],\n",
       "                \n",
       "                        [[-2.0255, -0.0900, -1.6164, -1.6285],\n",
       "                         [ 0.0803,  1.6014, -0.9514, -0.0549],\n",
       "                         [-0.1968,  2.1201,  2.5206, -2.4505]],\n",
       "                \n",
       "                        [[-2.0255, -0.0900, -1.6164, -1.6285],\n",
       "                         [ 0.0803,  1.6014, -0.9514, -0.0549],\n",
       "                         [-0.1968,  2.1201,  2.5206, -2.4505]],\n",
       "                \n",
       "                        [[-2.0255, -0.0900, -1.6164, -1.6285],\n",
       "                         [ 0.0803,  1.6014, -0.9514, -0.0549],\n",
       "                         [-0.1968,  2.1201,  2.5206, -2.4505]],\n",
       "                \n",
       "                        [[-2.0255, -0.0900, -1.6164, -1.6285],\n",
       "                         [ 0.0803,  1.6014, -0.9514, -0.0549],\n",
       "                         [-0.1968,  2.1201,  2.5206, -2.4505]],\n",
       "                \n",
       "                        [[-2.0255, -0.0900, -1.6164, -1.6285],\n",
       "                         [ 0.0803,  1.6014, -0.9514, -0.0549],\n",
       "                         [-0.1968,  2.1201,  2.5206, -2.4505]],\n",
       "                \n",
       "                        [[-2.0255, -0.0900, -1.6164, -1.6285],\n",
       "                         [ 0.0803,  1.6014, -0.9514, -0.0549],\n",
       "                         [-0.1968,  2.1201,  2.5206, -2.4505]],\n",
       "                \n",
       "                        [[-2.0255, -0.0900, -1.6164, -1.6285],\n",
       "                         [ 0.0803,  1.6014, -0.9514, -0.0549],\n",
       "                         [-0.1968,  2.1201,  2.5206, -2.4505]]])"
      ]
     },
     "execution_count": 20,
     "metadata": {},
     "output_type": "execute_result"
    }
   ],
   "source": [
    "t_stack = FastTreeValue.func(subside=True)(torch.stack)\n",
    "\n",
    "t_stack(trees)"
   ]
  },
  {
   "cell_type": "code",
   "execution_count": 21,
   "id": "f8b3f415",
   "metadata": {
    "execution": {
     "iopub.execute_input": "2023-02-27T11:27:24.352674Z",
     "iopub.status.busy": "2023-02-27T11:27:24.352207Z",
     "iopub.status.idle": "2023-02-27T11:27:27.029739Z",
     "shell.execute_reply": "2023-02-27T11:27:27.029004Z"
    }
   },
   "outputs": [
    {
     "name": "stdout",
     "output_type": "stream",
     "text": [
      "33 µs ± 49.5 ns per loop (mean ± std. dev. of 7 runs, 10,000 loops each)\n"
     ]
    }
   ],
   "source": [
    "%timeit t_stack(trees)"
   ]
  },
  {
   "cell_type": "code",
   "execution_count": 22,
   "id": "94b56771",
   "metadata": {
    "execution": {
     "iopub.execute_input": "2023-02-27T11:27:27.032582Z",
     "iopub.status.busy": "2023-02-27T11:27:27.032237Z",
     "iopub.status.idle": "2023-02-27T11:27:27.040044Z",
     "shell.execute_reply": "2023-02-27T11:27:27.039460Z"
    }
   },
   "outputs": [
    {
     "data": {
      "text/plain": [
       "<FastTreeValue 0x7f2423494be0>\n",
       "├── 'a' --> tensor([[ 0.0975,  0.7004, -1.9068],\n",
       "│                   [ 1.8763,  0.0935, -2.1562],\n",
       "│                   [ 0.0975,  0.7004, -1.9068],\n",
       "│                   [ 1.8763,  0.0935, -2.1562],\n",
       "│                   [ 0.0975,  0.7004, -1.9068],\n",
       "│                   [ 1.8763,  0.0935, -2.1562],\n",
       "│                   [ 0.0975,  0.7004, -1.9068],\n",
       "│                   [ 1.8763,  0.0935, -2.1562],\n",
       "│                   [ 0.0975,  0.7004, -1.9068],\n",
       "│                   [ 1.8763,  0.0935, -2.1562],\n",
       "│                   [ 0.0975,  0.7004, -1.9068],\n",
       "│                   [ 1.8763,  0.0935, -2.1562],\n",
       "│                   [ 0.0975,  0.7004, -1.9068],\n",
       "│                   [ 1.8763,  0.0935, -2.1562],\n",
       "│                   [ 0.0975,  0.7004, -1.9068],\n",
       "│                   [ 1.8763,  0.0935, -2.1562]])\n",
       "└── 'x' --> <FastTreeValue 0x7f2423b3c580>\n",
       "    └── 'c' --> tensor([[-2.0255, -0.0900, -1.6164, -1.6285],\n",
       "                        [ 0.0803,  1.6014, -0.9514, -0.0549],\n",
       "                        [-0.1968,  2.1201,  2.5206, -2.4505],\n",
       "                        [-2.0255, -0.0900, -1.6164, -1.6285],\n",
       "                        [ 0.0803,  1.6014, -0.9514, -0.0549],\n",
       "                        [-0.1968,  2.1201,  2.5206, -2.4505],\n",
       "                        [-2.0255, -0.0900, -1.6164, -1.6285],\n",
       "                        [ 0.0803,  1.6014, -0.9514, -0.0549],\n",
       "                        [-0.1968,  2.1201,  2.5206, -2.4505],\n",
       "                        [-2.0255, -0.0900, -1.6164, -1.6285],\n",
       "                        [ 0.0803,  1.6014, -0.9514, -0.0549],\n",
       "                        [-0.1968,  2.1201,  2.5206, -2.4505],\n",
       "                        [-2.0255, -0.0900, -1.6164, -1.6285],\n",
       "                        [ 0.0803,  1.6014, -0.9514, -0.0549],\n",
       "                        [-0.1968,  2.1201,  2.5206, -2.4505],\n",
       "                        [-2.0255, -0.0900, -1.6164, -1.6285],\n",
       "                        [ 0.0803,  1.6014, -0.9514, -0.0549],\n",
       "                        [-0.1968,  2.1201,  2.5206, -2.4505],\n",
       "                        [-2.0255, -0.0900, -1.6164, -1.6285],\n",
       "                        [ 0.0803,  1.6014, -0.9514, -0.0549],\n",
       "                        [-0.1968,  2.1201,  2.5206, -2.4505],\n",
       "                        [-2.0255, -0.0900, -1.6164, -1.6285],\n",
       "                        [ 0.0803,  1.6014, -0.9514, -0.0549],\n",
       "                        [-0.1968,  2.1201,  2.5206, -2.4505]])"
      ]
     },
     "execution_count": 22,
     "metadata": {},
     "output_type": "execute_result"
    }
   ],
   "source": [
    "t_cat = FastTreeValue.func(subside=True)(torch.cat)\n",
    "\n",
    "t_cat(trees)"
   ]
  },
  {
   "cell_type": "code",
   "execution_count": 23,
   "id": "5e9c06a6",
   "metadata": {
    "execution": {
     "iopub.execute_input": "2023-02-27T11:27:27.042726Z",
     "iopub.status.busy": "2023-02-27T11:27:27.042181Z",
     "iopub.status.idle": "2023-02-27T11:27:29.517953Z",
     "shell.execute_reply": "2023-02-27T11:27:29.517213Z"
    }
   },
   "outputs": [
    {
     "name": "stdout",
     "output_type": "stream",
     "text": [
      "30.4 µs ± 61.8 ns per loop (mean ± std. dev. of 7 runs, 10,000 loops each)\n"
     ]
    }
   ],
   "source": [
    "%timeit t_cat(trees)"
   ]
  },
  {
   "cell_type": "code",
   "execution_count": 24,
   "id": "a3ab5c8f",
   "metadata": {
    "execution": {
     "iopub.execute_input": "2023-02-27T11:27:29.521191Z",
     "iopub.status.busy": "2023-02-27T11:27:29.520615Z",
     "iopub.status.idle": "2023-02-27T11:27:34.325197Z",
     "shell.execute_reply": "2023-02-27T11:27:34.324538Z"
    }
   },
   "outputs": [
    {
     "name": "stdout",
     "output_type": "stream",
     "text": [
      "59.1 µs ± 151 ns per loop (mean ± std. dev. of 7 runs, 10,000 loops each)\n"
     ]
    }
   ],
   "source": [
    "t_split = FastTreeValue.func(rise=True)(torch.split)\n",
    "tree = FastTreeValue({\n",
    "    'obs': torch.randn(8, 4, 84, 84),\n",
    "    'action': torch.randint(0, 6, size=(8, 1,)),\n",
    "    'reward': torch.rand(8, 1),\n",
    "})\n",
    "\n",
    "%timeit t_split(tree, 1)"
   ]
  },
  {
   "cell_type": "markdown",
   "id": "31c3ec0b",
   "metadata": {},
   "source": [
    "### Performance of Tianshou Batch"
   ]
  },
  {
   "cell_type": "code",
   "execution_count": 25,
   "id": "9ead828a",
   "metadata": {
    "execution": {
     "iopub.execute_input": "2023-02-27T11:27:34.328493Z",
     "iopub.status.busy": "2023-02-27T11:27:34.327977Z",
     "iopub.status.idle": "2023-02-27T11:27:34.336874Z",
     "shell.execute_reply": "2023-02-27T11:27:34.336262Z"
    }
   },
   "outputs": [
    {
     "data": {
      "text/plain": [
       "Batch(\n",
       "    a: tensor([[[ 0.0975,  0.7004, -1.9068],\n",
       "                [ 1.8763,  0.0935, -2.1562]],\n",
       "       \n",
       "               [[ 0.0975,  0.7004, -1.9068],\n",
       "                [ 1.8763,  0.0935, -2.1562]],\n",
       "       \n",
       "               [[ 0.0975,  0.7004, -1.9068],\n",
       "                [ 1.8763,  0.0935, -2.1562]],\n",
       "       \n",
       "               [[ 0.0975,  0.7004, -1.9068],\n",
       "                [ 1.8763,  0.0935, -2.1562]],\n",
       "       \n",
       "               [[ 0.0975,  0.7004, -1.9068],\n",
       "                [ 1.8763,  0.0935, -2.1562]],\n",
       "       \n",
       "               [[ 0.0975,  0.7004, -1.9068],\n",
       "                [ 1.8763,  0.0935, -2.1562]],\n",
       "       \n",
       "               [[ 0.0975,  0.7004, -1.9068],\n",
       "                [ 1.8763,  0.0935, -2.1562]],\n",
       "       \n",
       "               [[ 0.0975,  0.7004, -1.9068],\n",
       "                [ 1.8763,  0.0935, -2.1562]]]),\n",
       "    x: Batch(\n",
       "           c: tensor([[[-2.0255, -0.0900, -1.6164, -1.6285],\n",
       "                       [ 0.0803,  1.6014, -0.9514, -0.0549],\n",
       "                       [-0.1968,  2.1201,  2.5206, -2.4505]],\n",
       "              \n",
       "                      [[-2.0255, -0.0900, -1.6164, -1.6285],\n",
       "                       [ 0.0803,  1.6014, -0.9514, -0.0549],\n",
       "                       [-0.1968,  2.1201,  2.5206, -2.4505]],\n",
       "              \n",
       "                      [[-2.0255, -0.0900, -1.6164, -1.6285],\n",
       "                       [ 0.0803,  1.6014, -0.9514, -0.0549],\n",
       "                       [-0.1968,  2.1201,  2.5206, -2.4505]],\n",
       "              \n",
       "                      [[-2.0255, -0.0900, -1.6164, -1.6285],\n",
       "                       [ 0.0803,  1.6014, -0.9514, -0.0549],\n",
       "                       [-0.1968,  2.1201,  2.5206, -2.4505]],\n",
       "              \n",
       "                      [[-2.0255, -0.0900, -1.6164, -1.6285],\n",
       "                       [ 0.0803,  1.6014, -0.9514, -0.0549],\n",
       "                       [-0.1968,  2.1201,  2.5206, -2.4505]],\n",
       "              \n",
       "                      [[-2.0255, -0.0900, -1.6164, -1.6285],\n",
       "                       [ 0.0803,  1.6014, -0.9514, -0.0549],\n",
       "                       [-0.1968,  2.1201,  2.5206, -2.4505]],\n",
       "              \n",
       "                      [[-2.0255, -0.0900, -1.6164, -1.6285],\n",
       "                       [ 0.0803,  1.6014, -0.9514, -0.0549],\n",
       "                       [-0.1968,  2.1201,  2.5206, -2.4505]],\n",
       "              \n",
       "                      [[-2.0255, -0.0900, -1.6164, -1.6285],\n",
       "                       [ 0.0803,  1.6014, -0.9514, -0.0549],\n",
       "                       [-0.1968,  2.1201,  2.5206, -2.4505]]]),\n",
       "       ),\n",
       ")"
      ]
     },
     "execution_count": 25,
     "metadata": {},
     "output_type": "execute_result"
    }
   ],
   "source": [
    "batches = [Batch(**_TREE_DATA_2) for _ in range(8)]\n",
    "\n",
    "Batch.stack(batches)"
   ]
  },
  {
   "cell_type": "code",
   "execution_count": 26,
   "id": "ec9037a3",
   "metadata": {
    "execution": {
     "iopub.execute_input": "2023-02-27T11:27:34.339685Z",
     "iopub.status.busy": "2023-02-27T11:27:34.339206Z",
     "iopub.status.idle": "2023-02-27T11:27:40.717655Z",
     "shell.execute_reply": "2023-02-27T11:27:40.716625Z"
    }
   },
   "outputs": [
    {
     "name": "stdout",
     "output_type": "stream",
     "text": [
      "78.5 µs ± 189 ns per loop (mean ± std. dev. of 7 runs, 10,000 loops each)\n"
     ]
    }
   ],
   "source": [
    "%timeit Batch.stack(batches)"
   ]
  },
  {
   "cell_type": "code",
   "execution_count": 27,
   "id": "cb8ab77e",
   "metadata": {
    "execution": {
     "iopub.execute_input": "2023-02-27T11:27:40.720523Z",
     "iopub.status.busy": "2023-02-27T11:27:40.720142Z",
     "iopub.status.idle": "2023-02-27T11:27:40.727860Z",
     "shell.execute_reply": "2023-02-27T11:27:40.727291Z"
    }
   },
   "outputs": [
    {
     "data": {
      "text/plain": [
       "Batch(\n",
       "    a: tensor([[ 0.0975,  0.7004, -1.9068],\n",
       "               [ 1.8763,  0.0935, -2.1562],\n",
       "               [ 0.0975,  0.7004, -1.9068],\n",
       "               [ 1.8763,  0.0935, -2.1562],\n",
       "               [ 0.0975,  0.7004, -1.9068],\n",
       "               [ 1.8763,  0.0935, -2.1562],\n",
       "               [ 0.0975,  0.7004, -1.9068],\n",
       "               [ 1.8763,  0.0935, -2.1562],\n",
       "               [ 0.0975,  0.7004, -1.9068],\n",
       "               [ 1.8763,  0.0935, -2.1562],\n",
       "               [ 0.0975,  0.7004, -1.9068],\n",
       "               [ 1.8763,  0.0935, -2.1562],\n",
       "               [ 0.0975,  0.7004, -1.9068],\n",
       "               [ 1.8763,  0.0935, -2.1562],\n",
       "               [ 0.0975,  0.7004, -1.9068],\n",
       "               [ 1.8763,  0.0935, -2.1562]]),\n",
       "    x: Batch(\n",
       "           c: tensor([[-2.0255, -0.0900, -1.6164, -1.6285],\n",
       "                      [ 0.0803,  1.6014, -0.9514, -0.0549],\n",
       "                      [-0.1968,  2.1201,  2.5206, -2.4505],\n",
       "                      [-2.0255, -0.0900, -1.6164, -1.6285],\n",
       "                      [ 0.0803,  1.6014, -0.9514, -0.0549],\n",
       "                      [-0.1968,  2.1201,  2.5206, -2.4505],\n",
       "                      [-2.0255, -0.0900, -1.6164, -1.6285],\n",
       "                      [ 0.0803,  1.6014, -0.9514, -0.0549],\n",
       "                      [-0.1968,  2.1201,  2.5206, -2.4505],\n",
       "                      [-2.0255, -0.0900, -1.6164, -1.6285],\n",
       "                      [ 0.0803,  1.6014, -0.9514, -0.0549],\n",
       "                      [-0.1968,  2.1201,  2.5206, -2.4505],\n",
       "                      [-2.0255, -0.0900, -1.6164, -1.6285],\n",
       "                      [ 0.0803,  1.6014, -0.9514, -0.0549],\n",
       "                      [-0.1968,  2.1201,  2.5206, -2.4505],\n",
       "                      [-2.0255, -0.0900, -1.6164, -1.6285],\n",
       "                      [ 0.0803,  1.6014, -0.9514, -0.0549],\n",
       "                      [-0.1968,  2.1201,  2.5206, -2.4505],\n",
       "                      [-2.0255, -0.0900, -1.6164, -1.6285],\n",
       "                      [ 0.0803,  1.6014, -0.9514, -0.0549],\n",
       "                      [-0.1968,  2.1201,  2.5206, -2.4505],\n",
       "                      [-2.0255, -0.0900, -1.6164, -1.6285],\n",
       "                      [ 0.0803,  1.6014, -0.9514, -0.0549],\n",
       "                      [-0.1968,  2.1201,  2.5206, -2.4505]]),\n",
       "       ),\n",
       ")"
      ]
     },
     "execution_count": 27,
     "metadata": {},
     "output_type": "execute_result"
    }
   ],
   "source": [
    "Batch.cat(batches)"
   ]
  },
  {
   "cell_type": "code",
   "execution_count": 28,
   "id": "18dfb045",
   "metadata": {
    "execution": {
     "iopub.execute_input": "2023-02-27T11:27:40.730365Z",
     "iopub.status.busy": "2023-02-27T11:27:40.729937Z",
     "iopub.status.idle": "2023-02-27T11:27:52.530559Z",
     "shell.execute_reply": "2023-02-27T11:27:52.529818Z"
    }
   },
   "outputs": [
    {
     "name": "stdout",
     "output_type": "stream",
     "text": [
      "145 µs ± 377 ns per loop (mean ± std. dev. of 7 runs, 10,000 loops each)\n"
     ]
    }
   ],
   "source": [
    "%timeit Batch.cat(batches)"
   ]
  },
  {
   "cell_type": "code",
   "execution_count": 29,
   "id": "c6688e51",
   "metadata": {
    "execution": {
     "iopub.execute_input": "2023-02-27T11:27:52.533500Z",
     "iopub.status.busy": "2023-02-27T11:27:52.532867Z",
     "iopub.status.idle": "2023-02-27T11:27:55.075501Z",
     "shell.execute_reply": "2023-02-27T11:27:55.074910Z"
    }
   },
   "outputs": [
    {
     "name": "stdout",
     "output_type": "stream",
     "text": [
      "313 µs ± 1.79 µs per loop (mean ± std. dev. of 7 runs, 1,000 loops each)\n"
     ]
    }
   ],
   "source": [
    "batch = Batch({\n",
    "    'obs': torch.randn(8, 4, 84, 84),\n",
    "    'action': torch.randint(0, 6, size=(8, 1,)),\n",
    "    'reward': torch.rand(8, 1)}\n",
    ")\n",
    "\n",
    "%timeit list(Batch.split(batch, 1, shuffle=False, merge_last=True))"
   ]
  },
  {
   "cell_type": "code",
   "execution_count": null,
   "id": "2539fbd9",
   "metadata": {},
   "outputs": [],
   "source": []
  }
 ],
 "metadata": {
  "kernelspec": {
   "display_name": "Python 3 (ipykernel)",
   "language": "python",
   "name": "python3"
  },
  "language_info": {
   "codemirror_mode": {
    "name": "ipython",
    "version": 3
   },
   "file_extension": ".py",
   "mimetype": "text/x-python",
   "name": "python",
   "nbconvert_exporter": "python",
   "pygments_lexer": "ipython3",
   "version": "3.8.16"
  }
 },
 "nbformat": 4,
 "nbformat_minor": 5
}
