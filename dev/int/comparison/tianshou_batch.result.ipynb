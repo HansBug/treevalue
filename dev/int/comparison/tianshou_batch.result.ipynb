{
 "cells": [
  {
   "cell_type": "markdown",
   "id": "9d39d946",
   "metadata": {},
   "source": [
    "# Comparison Between TreeValue and Tianshou Batch"
   ]
  },
  {
   "cell_type": "markdown",
   "id": "3c6db2d4",
   "metadata": {},
   "source": [
    "In this section, we will take a look at the feature and performance of the [Tianshou Batch](https://github.com/thu-ml/tianshou) library, which is developed by Tsinghua Machine Learning Group."
   ]
  },
  {
   "cell_type": "markdown",
   "id": "069361b0",
   "metadata": {},
   "source": [
    "Before starting the comparison, let us define some thing."
   ]
  },
  {
   "cell_type": "code",
   "execution_count": 1,
   "id": "06fc8d26",
   "metadata": {
    "execution": {
     "iopub.execute_input": "2023-02-27T11:08:33.072045Z",
     "iopub.status.busy": "2023-02-27T11:08:33.071776Z",
     "iopub.status.idle": "2023-02-27T11:08:34.061757Z",
     "shell.execute_reply": "2023-02-27T11:08:34.060968Z"
    }
   },
   "outputs": [
    {
     "name": "stderr",
     "output_type": "stream",
     "text": [
      "/opt/hostedtoolcache/Python/3.8.16/x64/lib/python3.8/site-packages/tqdm/auto.py:22: TqdmWarning: IProgress not found. Please update jupyter and ipywidgets. See https://ipywidgets.readthedocs.io/en/stable/user_install.html\n",
      "  from .autonotebook import tqdm as notebook_tqdm\n"
     ]
    }
   ],
   "source": [
    "import torch \n",
    "\n",
    "_TREE_DATA_1 = {'a': 1, 'b': 2, 'x': {'c': 3, 'd': 4}}\n",
    "_TREE_DATA_2 = {\n",
    "    'a': torch.randn(2, 3), \n",
    "    'x': {\n",
    "        'c': torch.randn(3, 4)\n",
    "    },\n",
    "}\n",
    "_TREE_DATA_3 = {\n",
    "    'obs': torch.randn(4, 84, 84),\n",
    "    'action': torch.randint(0, 6, size=(1,)),\n",
    "    'reward': torch.rand(1),\n",
    "}"
   ]
  },
  {
   "cell_type": "markdown",
   "id": "83461b25",
   "metadata": {},
   "source": [
    "## Read and Write Operation"
   ]
  },
  {
   "cell_type": "markdown",
   "id": "067b3f73",
   "metadata": {},
   "source": [
    "Reading and writing are the two most common operations in the tree data structure based on the data model (TreeValue and Tianshou Batch both belong to this type), so this section will compare the reading and writing performance of these two libraries."
   ]
  },
  {
   "cell_type": "markdown",
   "id": "5d09a5b7",
   "metadata": {},
   "source": [
    "### TreeValue's Get and Set"
   ]
  },
  {
   "cell_type": "code",
   "execution_count": 2,
   "id": "9519c4bb",
   "metadata": {
    "execution": {
     "iopub.execute_input": "2023-02-27T11:08:34.065786Z",
     "iopub.status.busy": "2023-02-27T11:08:34.065303Z",
     "iopub.status.idle": "2023-02-27T11:08:34.361047Z",
     "shell.execute_reply": "2023-02-27T11:08:34.360085Z"
    }
   },
   "outputs": [],
   "source": [
    "from treevalue import FastTreeValue\n",
    "\n",
    "t = FastTreeValue(_TREE_DATA_2)"
   ]
  },
  {
   "cell_type": "code",
   "execution_count": 3,
   "id": "11c37677",
   "metadata": {
    "execution": {
     "iopub.execute_input": "2023-02-27T11:08:34.365105Z",
     "iopub.status.busy": "2023-02-27T11:08:34.364503Z",
     "iopub.status.idle": "2023-02-27T11:08:34.375406Z",
     "shell.execute_reply": "2023-02-27T11:08:34.374302Z"
    }
   },
   "outputs": [
    {
     "data": {
      "text/plain": [
       "<FastTreeValue 0x7fc70475a9a0>\n",
       "├── 'a' --> tensor([[ 1.1698,  1.5184, -0.8098],\n",
       "│                   [ 0.0796, -0.5881,  1.0541]])\n",
       "└── 'x' --> <FastTreeValue 0x7fc70475a9d0>\n",
       "    └── 'c' --> tensor([[-0.9837, -0.4014,  1.3998,  0.8342],\n",
       "                        [-1.1999,  1.6948,  0.9551, -0.0540],\n",
       "                        [-0.0651,  0.6188, -2.7386,  0.7798]])"
      ]
     },
     "execution_count": 3,
     "metadata": {},
     "output_type": "execute_result"
    }
   ],
   "source": [
    "t"
   ]
  },
  {
   "cell_type": "code",
   "execution_count": 4,
   "id": "fd70b0b9",
   "metadata": {
    "execution": {
     "iopub.execute_input": "2023-02-27T11:08:34.378399Z",
     "iopub.status.busy": "2023-02-27T11:08:34.377816Z",
     "iopub.status.idle": "2023-02-27T11:08:34.383513Z",
     "shell.execute_reply": "2023-02-27T11:08:34.382915Z"
    }
   },
   "outputs": [
    {
     "data": {
      "text/plain": [
       "tensor([[ 1.1698,  1.5184, -0.8098],\n",
       "        [ 0.0796, -0.5881,  1.0541]])"
      ]
     },
     "execution_count": 4,
     "metadata": {},
     "output_type": "execute_result"
    }
   ],
   "source": [
    "t.a"
   ]
  },
  {
   "cell_type": "code",
   "execution_count": 5,
   "id": "c18197bd",
   "metadata": {
    "execution": {
     "iopub.execute_input": "2023-02-27T11:08:34.386367Z",
     "iopub.status.busy": "2023-02-27T11:08:34.385871Z",
     "iopub.status.idle": "2023-02-27T11:08:39.611946Z",
     "shell.execute_reply": "2023-02-27T11:08:39.611114Z"
    }
   },
   "outputs": [
    {
     "name": "stdout",
     "output_type": "stream",
     "text": [
      "64.3 ns ± 0.0585 ns per loop (mean ± std. dev. of 7 runs, 10,000,000 loops each)\n"
     ]
    }
   ],
   "source": [
    "%timeit t.a"
   ]
  },
  {
   "cell_type": "code",
   "execution_count": 6,
   "id": "bd52f867",
   "metadata": {
    "execution": {
     "iopub.execute_input": "2023-02-27T11:08:39.615415Z",
     "iopub.status.busy": "2023-02-27T11:08:39.614796Z",
     "iopub.status.idle": "2023-02-27T11:08:39.621263Z",
     "shell.execute_reply": "2023-02-27T11:08:39.620573Z"
    }
   },
   "outputs": [
    {
     "data": {
      "text/plain": [
       "<FastTreeValue 0x7fc70475a9a0>\n",
       "├── 'a' --> tensor([[-1.1700, -0.6928, -1.5694],\n",
       "│                   [-1.2644, -0.7546,  0.1441]])\n",
       "└── 'x' --> <FastTreeValue 0x7fc70475a9d0>\n",
       "    └── 'c' --> tensor([[-0.9837, -0.4014,  1.3998,  0.8342],\n",
       "                        [-1.1999,  1.6948,  0.9551, -0.0540],\n",
       "                        [-0.0651,  0.6188, -2.7386,  0.7798]])"
      ]
     },
     "execution_count": 6,
     "metadata": {},
     "output_type": "execute_result"
    }
   ],
   "source": [
    "new_value = torch.randn(2, 3)\n",
    "t.a = new_value\n",
    "\n",
    "t"
   ]
  },
  {
   "cell_type": "code",
   "execution_count": 7,
   "id": "bbe04d1c",
   "metadata": {
    "execution": {
     "iopub.execute_input": "2023-02-27T11:08:39.624050Z",
     "iopub.status.busy": "2023-02-27T11:08:39.623605Z",
     "iopub.status.idle": "2023-02-27T11:08:45.096753Z",
     "shell.execute_reply": "2023-02-27T11:08:45.095846Z"
    }
   },
   "outputs": [
    {
     "name": "stdout",
     "output_type": "stream",
     "text": [
      "67.4 ns ± 0.0549 ns per loop (mean ± std. dev. of 7 runs, 10,000,000 loops each)\n"
     ]
    }
   ],
   "source": [
    "%timeit t.a = new_value"
   ]
  },
  {
   "cell_type": "markdown",
   "id": "48c49731",
   "metadata": {},
   "source": [
    "### Tianshou Batch's Get and Set"
   ]
  },
  {
   "cell_type": "code",
   "execution_count": 8,
   "id": "f1bb14c1",
   "metadata": {
    "execution": {
     "iopub.execute_input": "2023-02-27T11:08:45.100227Z",
     "iopub.status.busy": "2023-02-27T11:08:45.099783Z",
     "iopub.status.idle": "2023-02-27T11:08:45.471669Z",
     "shell.execute_reply": "2023-02-27T11:08:45.470340Z"
    }
   },
   "outputs": [],
   "source": [
    "from tianshou.data import Batch\n",
    "\n",
    "b = Batch(**_TREE_DATA_2)"
   ]
  },
  {
   "cell_type": "code",
   "execution_count": 9,
   "id": "cb0777c3",
   "metadata": {
    "execution": {
     "iopub.execute_input": "2023-02-27T11:08:45.475523Z",
     "iopub.status.busy": "2023-02-27T11:08:45.475024Z",
     "iopub.status.idle": "2023-02-27T11:08:45.482425Z",
     "shell.execute_reply": "2023-02-27T11:08:45.481173Z"
    }
   },
   "outputs": [
    {
     "data": {
      "text/plain": [
       "Batch(\n",
       "    a: tensor([[ 1.1698,  1.5184, -0.8098],\n",
       "               [ 0.0796, -0.5881,  1.0541]]),\n",
       "    x: Batch(\n",
       "           c: tensor([[-0.9837, -0.4014,  1.3998,  0.8342],\n",
       "                      [-1.1999,  1.6948,  0.9551, -0.0540],\n",
       "                      [-0.0651,  0.6188, -2.7386,  0.7798]]),\n",
       "       ),\n",
       ")"
      ]
     },
     "execution_count": 9,
     "metadata": {},
     "output_type": "execute_result"
    }
   ],
   "source": [
    "b"
   ]
  },
  {
   "cell_type": "code",
   "execution_count": 10,
   "id": "43ef8ea3",
   "metadata": {
    "execution": {
     "iopub.execute_input": "2023-02-27T11:08:45.485187Z",
     "iopub.status.busy": "2023-02-27T11:08:45.484757Z",
     "iopub.status.idle": "2023-02-27T11:08:45.491072Z",
     "shell.execute_reply": "2023-02-27T11:08:45.490466Z"
    }
   },
   "outputs": [
    {
     "data": {
      "text/plain": [
       "tensor([[ 1.1698,  1.5184, -0.8098],\n",
       "        [ 0.0796, -0.5881,  1.0541]])"
      ]
     },
     "execution_count": 10,
     "metadata": {},
     "output_type": "execute_result"
    }
   ],
   "source": [
    "b.a"
   ]
  },
  {
   "cell_type": "code",
   "execution_count": 11,
   "id": "b785ab72",
   "metadata": {
    "execution": {
     "iopub.execute_input": "2023-02-27T11:08:45.493865Z",
     "iopub.status.busy": "2023-02-27T11:08:45.493306Z",
     "iopub.status.idle": "2023-02-27T11:08:50.191029Z",
     "shell.execute_reply": "2023-02-27T11:08:50.189848Z"
    }
   },
   "outputs": [
    {
     "name": "stdout",
     "output_type": "stream",
     "text": [
      "57.8 ns ± 0.146 ns per loop (mean ± std. dev. of 7 runs, 10,000,000 loops each)\n"
     ]
    }
   ],
   "source": [
    "%timeit b.a"
   ]
  },
  {
   "cell_type": "code",
   "execution_count": 12,
   "id": "ad54dc69",
   "metadata": {
    "execution": {
     "iopub.execute_input": "2023-02-27T11:08:50.195330Z",
     "iopub.status.busy": "2023-02-27T11:08:50.194139Z",
     "iopub.status.idle": "2023-02-27T11:08:50.203015Z",
     "shell.execute_reply": "2023-02-27T11:08:50.201971Z"
    }
   },
   "outputs": [
    {
     "data": {
      "text/plain": [
       "Batch(\n",
       "    a: tensor([[ 0.0506, -0.7726,  0.5234],\n",
       "               [-0.5417, -0.6985,  1.1739]]),\n",
       "    x: Batch(\n",
       "           c: tensor([[-0.9837, -0.4014,  1.3998,  0.8342],\n",
       "                      [-1.1999,  1.6948,  0.9551, -0.0540],\n",
       "                      [-0.0651,  0.6188, -2.7386,  0.7798]]),\n",
       "       ),\n",
       ")"
      ]
     },
     "execution_count": 12,
     "metadata": {},
     "output_type": "execute_result"
    }
   ],
   "source": [
    "new_value = torch.randn(2, 3)\n",
    "b.a = new_value\n",
    "\n",
    "b"
   ]
  },
  {
   "cell_type": "code",
   "execution_count": 13,
   "id": "29b1d0bf",
   "metadata": {
    "execution": {
     "iopub.execute_input": "2023-02-27T11:08:50.206182Z",
     "iopub.status.busy": "2023-02-27T11:08:50.205753Z",
     "iopub.status.idle": "2023-02-27T11:08:54.164100Z",
     "shell.execute_reply": "2023-02-27T11:08:54.163222Z"
    }
   },
   "outputs": [
    {
     "name": "stdout",
     "output_type": "stream",
     "text": [
      "487 ns ± 1.11 ns per loop (mean ± std. dev. of 7 runs, 1,000,000 loops each)\n"
     ]
    }
   ],
   "source": [
    "%timeit b.a = new_value"
   ]
  },
  {
   "cell_type": "markdown",
   "id": "b61ad1d0",
   "metadata": {},
   "source": [
    "## Initialization"
   ]
  },
  {
   "cell_type": "markdown",
   "id": "d70f0d54",
   "metadata": {},
   "source": [
    "### TreeValue's Initialization"
   ]
  },
  {
   "cell_type": "code",
   "execution_count": 14,
   "id": "d32a679b",
   "metadata": {
    "execution": {
     "iopub.execute_input": "2023-02-27T11:08:54.167634Z",
     "iopub.status.busy": "2023-02-27T11:08:54.167225Z",
     "iopub.status.idle": "2023-02-27T11:09:00.796465Z",
     "shell.execute_reply": "2023-02-27T11:09:00.795588Z"
    }
   },
   "outputs": [
    {
     "name": "stdout",
     "output_type": "stream",
     "text": [
      "816 ns ± 0.195 ns per loop (mean ± std. dev. of 7 runs, 1,000,000 loops each)\n"
     ]
    }
   ],
   "source": [
    "%timeit FastTreeValue(_TREE_DATA_1)"
   ]
  },
  {
   "cell_type": "markdown",
   "id": "24f3707b",
   "metadata": {},
   "source": [
    "### Tianshou Batch's Initialization"
   ]
  },
  {
   "cell_type": "code",
   "execution_count": 15,
   "id": "ac3958df",
   "metadata": {
    "execution": {
     "iopub.execute_input": "2023-02-27T11:09:00.799884Z",
     "iopub.status.busy": "2023-02-27T11:09:00.799473Z",
     "iopub.status.idle": "2023-02-27T11:09:09.550057Z",
     "shell.execute_reply": "2023-02-27T11:09:09.549180Z"
    }
   },
   "outputs": [
    {
     "name": "stdout",
     "output_type": "stream",
     "text": [
      "10.8 µs ± 18.2 ns per loop (mean ± std. dev. of 7 runs, 100,000 loops each)\n"
     ]
    }
   ],
   "source": [
    "%timeit Batch(**_TREE_DATA_1)"
   ]
  },
  {
   "cell_type": "markdown",
   "id": "1ab82e2d",
   "metadata": {},
   "source": [
    "## Deep Copy Operation"
   ]
  },
  {
   "cell_type": "code",
   "execution_count": 16,
   "id": "210a9442",
   "metadata": {
    "execution": {
     "iopub.execute_input": "2023-02-27T11:09:09.553527Z",
     "iopub.status.busy": "2023-02-27T11:09:09.552943Z",
     "iopub.status.idle": "2023-02-27T11:09:09.557218Z",
     "shell.execute_reply": "2023-02-27T11:09:09.556579Z"
    }
   },
   "outputs": [],
   "source": [
    "import copy"
   ]
  },
  {
   "cell_type": "markdown",
   "id": "5a736274",
   "metadata": {},
   "source": [
    "### Deep Copy of TreeValue"
   ]
  },
  {
   "cell_type": "code",
   "execution_count": 17,
   "id": "f9bcadd6",
   "metadata": {
    "execution": {
     "iopub.execute_input": "2023-02-27T11:09:09.560534Z",
     "iopub.status.busy": "2023-02-27T11:09:09.559898Z",
     "iopub.status.idle": "2023-02-27T11:09:21.596367Z",
     "shell.execute_reply": "2023-02-27T11:09:21.595681Z"
    }
   },
   "outputs": [
    {
     "name": "stdout",
     "output_type": "stream",
     "text": [
      "148 µs ± 1.13 µs per loop (mean ± std. dev. of 7 runs, 10,000 loops each)\n"
     ]
    }
   ],
   "source": [
    "t3 = FastTreeValue(_TREE_DATA_3)\n",
    "%timeit copy.deepcopy(t3)"
   ]
  },
  {
   "cell_type": "markdown",
   "id": "bf8be7ea",
   "metadata": {},
   "source": [
    "### Deep Copy of Tianshou Batch"
   ]
  },
  {
   "cell_type": "code",
   "execution_count": 18,
   "id": "91998e6f",
   "metadata": {
    "execution": {
     "iopub.execute_input": "2023-02-27T11:09:21.600091Z",
     "iopub.status.busy": "2023-02-27T11:09:21.598946Z",
     "iopub.status.idle": "2023-02-27T11:09:33.556939Z",
     "shell.execute_reply": "2023-02-27T11:09:33.556094Z"
    }
   },
   "outputs": [
    {
     "name": "stdout",
     "output_type": "stream",
     "text": [
      "147 µs ± 2.42 µs per loop (mean ± std. dev. of 7 runs, 10,000 loops each)\n"
     ]
    }
   ],
   "source": [
    "b3 = Batch(**_TREE_DATA_3)\n",
    "%timeit copy.deepcopy(b3)"
   ]
  },
  {
   "cell_type": "markdown",
   "id": "223162fb",
   "metadata": {},
   "source": [
    "## Stack, Concat and Split Operation"
   ]
  },
  {
   "cell_type": "markdown",
   "id": "85fa4a73",
   "metadata": {},
   "source": [
    "### Performance of TreeValue"
   ]
  },
  {
   "cell_type": "code",
   "execution_count": 19,
   "id": "a0c2b697",
   "metadata": {
    "execution": {
     "iopub.execute_input": "2023-02-27T11:09:33.560423Z",
     "iopub.status.busy": "2023-02-27T11:09:33.559901Z",
     "iopub.status.idle": "2023-02-27T11:09:33.564772Z",
     "shell.execute_reply": "2023-02-27T11:09:33.564086Z"
    }
   },
   "outputs": [],
   "source": [
    "trees = [FastTreeValue(_TREE_DATA_2) for _ in range(8)]"
   ]
  },
  {
   "cell_type": "code",
   "execution_count": 20,
   "id": "017ea5a5",
   "metadata": {
    "execution": {
     "iopub.execute_input": "2023-02-27T11:09:33.567608Z",
     "iopub.status.busy": "2023-02-27T11:09:33.567241Z",
     "iopub.status.idle": "2023-02-27T11:09:33.575597Z",
     "shell.execute_reply": "2023-02-27T11:09:33.574981Z"
    }
   },
   "outputs": [
    {
     "data": {
      "text/plain": [
       "<FastTreeValue 0x7fc7047540d0>\n",
       "├── 'a' --> tensor([[[ 1.1698,  1.5184, -0.8098],\n",
       "│                    [ 0.0796, -0.5881,  1.0541]],\n",
       "│           \n",
       "│                   [[ 1.1698,  1.5184, -0.8098],\n",
       "│                    [ 0.0796, -0.5881,  1.0541]],\n",
       "│           \n",
       "│                   [[ 1.1698,  1.5184, -0.8098],\n",
       "│                    [ 0.0796, -0.5881,  1.0541]],\n",
       "│           \n",
       "│                   [[ 1.1698,  1.5184, -0.8098],\n",
       "│                    [ 0.0796, -0.5881,  1.0541]],\n",
       "│           \n",
       "│                   [[ 1.1698,  1.5184, -0.8098],\n",
       "│                    [ 0.0796, -0.5881,  1.0541]],\n",
       "│           \n",
       "│                   [[ 1.1698,  1.5184, -0.8098],\n",
       "│                    [ 0.0796, -0.5881,  1.0541]],\n",
       "│           \n",
       "│                   [[ 1.1698,  1.5184, -0.8098],\n",
       "│                    [ 0.0796, -0.5881,  1.0541]],\n",
       "│           \n",
       "│                   [[ 1.1698,  1.5184, -0.8098],\n",
       "│                    [ 0.0796, -0.5881,  1.0541]]])\n",
       "└── 'x' --> <FastTreeValue 0x7fc65f03e520>\n",
       "    └── 'c' --> tensor([[[-0.9837, -0.4014,  1.3998,  0.8342],\n",
       "                         [-1.1999,  1.6948,  0.9551, -0.0540],\n",
       "                         [-0.0651,  0.6188, -2.7386,  0.7798]],\n",
       "                \n",
       "                        [[-0.9837, -0.4014,  1.3998,  0.8342],\n",
       "                         [-1.1999,  1.6948,  0.9551, -0.0540],\n",
       "                         [-0.0651,  0.6188, -2.7386,  0.7798]],\n",
       "                \n",
       "                        [[-0.9837, -0.4014,  1.3998,  0.8342],\n",
       "                         [-1.1999,  1.6948,  0.9551, -0.0540],\n",
       "                         [-0.0651,  0.6188, -2.7386,  0.7798]],\n",
       "                \n",
       "                        [[-0.9837, -0.4014,  1.3998,  0.8342],\n",
       "                         [-1.1999,  1.6948,  0.9551, -0.0540],\n",
       "                         [-0.0651,  0.6188, -2.7386,  0.7798]],\n",
       "                \n",
       "                        [[-0.9837, -0.4014,  1.3998,  0.8342],\n",
       "                         [-1.1999,  1.6948,  0.9551, -0.0540],\n",
       "                         [-0.0651,  0.6188, -2.7386,  0.7798]],\n",
       "                \n",
       "                        [[-0.9837, -0.4014,  1.3998,  0.8342],\n",
       "                         [-1.1999,  1.6948,  0.9551, -0.0540],\n",
       "                         [-0.0651,  0.6188, -2.7386,  0.7798]],\n",
       "                \n",
       "                        [[-0.9837, -0.4014,  1.3998,  0.8342],\n",
       "                         [-1.1999,  1.6948,  0.9551, -0.0540],\n",
       "                         [-0.0651,  0.6188, -2.7386,  0.7798]],\n",
       "                \n",
       "                        [[-0.9837, -0.4014,  1.3998,  0.8342],\n",
       "                         [-1.1999,  1.6948,  0.9551, -0.0540],\n",
       "                         [-0.0651,  0.6188, -2.7386,  0.7798]]])"
      ]
     },
     "execution_count": 20,
     "metadata": {},
     "output_type": "execute_result"
    }
   ],
   "source": [
    "t_stack = FastTreeValue.func(subside=True)(torch.stack)\n",
    "\n",
    "t_stack(trees)"
   ]
  },
  {
   "cell_type": "code",
   "execution_count": 21,
   "id": "f8b3f415",
   "metadata": {
    "execution": {
     "iopub.execute_input": "2023-02-27T11:09:33.578430Z",
     "iopub.status.busy": "2023-02-27T11:09:33.578087Z",
     "iopub.status.idle": "2023-02-27T11:09:36.216916Z",
     "shell.execute_reply": "2023-02-27T11:09:36.215965Z"
    }
   },
   "outputs": [
    {
     "name": "stdout",
     "output_type": "stream",
     "text": [
      "32.4 µs ± 47.9 ns per loop (mean ± std. dev. of 7 runs, 10,000 loops each)\n"
     ]
    }
   ],
   "source": [
    "%timeit t_stack(trees)"
   ]
  },
  {
   "cell_type": "code",
   "execution_count": 22,
   "id": "94b56771",
   "metadata": {
    "execution": {
     "iopub.execute_input": "2023-02-27T11:09:36.220676Z",
     "iopub.status.busy": "2023-02-27T11:09:36.220185Z",
     "iopub.status.idle": "2023-02-27T11:09:36.228881Z",
     "shell.execute_reply": "2023-02-27T11:09:36.228223Z"
    }
   },
   "outputs": [
    {
     "data": {
      "text/plain": [
       "<FastTreeValue 0x7fc7047547f0>\n",
       "├── 'a' --> tensor([[ 1.1698,  1.5184, -0.8098],\n",
       "│                   [ 0.0796, -0.5881,  1.0541],\n",
       "│                   [ 1.1698,  1.5184, -0.8098],\n",
       "│                   [ 0.0796, -0.5881,  1.0541],\n",
       "│                   [ 1.1698,  1.5184, -0.8098],\n",
       "│                   [ 0.0796, -0.5881,  1.0541],\n",
       "│                   [ 1.1698,  1.5184, -0.8098],\n",
       "│                   [ 0.0796, -0.5881,  1.0541],\n",
       "│                   [ 1.1698,  1.5184, -0.8098],\n",
       "│                   [ 0.0796, -0.5881,  1.0541],\n",
       "│                   [ 1.1698,  1.5184, -0.8098],\n",
       "│                   [ 0.0796, -0.5881,  1.0541],\n",
       "│                   [ 1.1698,  1.5184, -0.8098],\n",
       "│                   [ 0.0796, -0.5881,  1.0541],\n",
       "│                   [ 1.1698,  1.5184, -0.8098],\n",
       "│                   [ 0.0796, -0.5881,  1.0541]])\n",
       "└── 'x' --> <FastTreeValue 0x7fc704754070>\n",
       "    └── 'c' --> tensor([[-0.9837, -0.4014,  1.3998,  0.8342],\n",
       "                        [-1.1999,  1.6948,  0.9551, -0.0540],\n",
       "                        [-0.0651,  0.6188, -2.7386,  0.7798],\n",
       "                        [-0.9837, -0.4014,  1.3998,  0.8342],\n",
       "                        [-1.1999,  1.6948,  0.9551, -0.0540],\n",
       "                        [-0.0651,  0.6188, -2.7386,  0.7798],\n",
       "                        [-0.9837, -0.4014,  1.3998,  0.8342],\n",
       "                        [-1.1999,  1.6948,  0.9551, -0.0540],\n",
       "                        [-0.0651,  0.6188, -2.7386,  0.7798],\n",
       "                        [-0.9837, -0.4014,  1.3998,  0.8342],\n",
       "                        [-1.1999,  1.6948,  0.9551, -0.0540],\n",
       "                        [-0.0651,  0.6188, -2.7386,  0.7798],\n",
       "                        [-0.9837, -0.4014,  1.3998,  0.8342],\n",
       "                        [-1.1999,  1.6948,  0.9551, -0.0540],\n",
       "                        [-0.0651,  0.6188, -2.7386,  0.7798],\n",
       "                        [-0.9837, -0.4014,  1.3998,  0.8342],\n",
       "                        [-1.1999,  1.6948,  0.9551, -0.0540],\n",
       "                        [-0.0651,  0.6188, -2.7386,  0.7798],\n",
       "                        [-0.9837, -0.4014,  1.3998,  0.8342],\n",
       "                        [-1.1999,  1.6948,  0.9551, -0.0540],\n",
       "                        [-0.0651,  0.6188, -2.7386,  0.7798],\n",
       "                        [-0.9837, -0.4014,  1.3998,  0.8342],\n",
       "                        [-1.1999,  1.6948,  0.9551, -0.0540],\n",
       "                        [-0.0651,  0.6188, -2.7386,  0.7798]])"
      ]
     },
     "execution_count": 22,
     "metadata": {},
     "output_type": "execute_result"
    }
   ],
   "source": [
    "t_cat = FastTreeValue.func(subside=True)(torch.cat)\n",
    "\n",
    "t_cat(trees)"
   ]
  },
  {
   "cell_type": "code",
   "execution_count": 23,
   "id": "5e9c06a6",
   "metadata": {
    "execution": {
     "iopub.execute_input": "2023-02-27T11:09:36.231658Z",
     "iopub.status.busy": "2023-02-27T11:09:36.231211Z",
     "iopub.status.idle": "2023-02-27T11:09:38.721990Z",
     "shell.execute_reply": "2023-02-27T11:09:38.721121Z"
    }
   },
   "outputs": [
    {
     "name": "stdout",
     "output_type": "stream",
     "text": [
      "30.6 µs ± 72.5 ns per loop (mean ± std. dev. of 7 runs, 10,000 loops each)\n"
     ]
    }
   ],
   "source": [
    "%timeit t_cat(trees)"
   ]
  },
  {
   "cell_type": "code",
   "execution_count": 24,
   "id": "a3ab5c8f",
   "metadata": {
    "execution": {
     "iopub.execute_input": "2023-02-27T11:09:38.725333Z",
     "iopub.status.busy": "2023-02-27T11:09:38.724909Z",
     "iopub.status.idle": "2023-02-27T11:09:43.372890Z",
     "shell.execute_reply": "2023-02-27T11:09:43.371983Z"
    }
   },
   "outputs": [
    {
     "name": "stdout",
     "output_type": "stream",
     "text": [
      "57.2 µs ± 44.8 ns per loop (mean ± std. dev. of 7 runs, 10,000 loops each)\n"
     ]
    }
   ],
   "source": [
    "t_split = FastTreeValue.func(rise=True)(torch.split)\n",
    "tree = FastTreeValue({\n",
    "    'obs': torch.randn(8, 4, 84, 84),\n",
    "    'action': torch.randint(0, 6, size=(8, 1,)),\n",
    "    'reward': torch.rand(8, 1),\n",
    "})\n",
    "\n",
    "%timeit t_split(tree, 1)"
   ]
  },
  {
   "cell_type": "markdown",
   "id": "31c3ec0b",
   "metadata": {},
   "source": [
    "### Performance of Tianshou Batch"
   ]
  },
  {
   "cell_type": "code",
   "execution_count": 25,
   "id": "9ead828a",
   "metadata": {
    "execution": {
     "iopub.execute_input": "2023-02-27T11:09:43.376377Z",
     "iopub.status.busy": "2023-02-27T11:09:43.375889Z",
     "iopub.status.idle": "2023-02-27T11:09:43.384248Z",
     "shell.execute_reply": "2023-02-27T11:09:43.383619Z"
    }
   },
   "outputs": [
    {
     "data": {
      "text/plain": [
       "Batch(\n",
       "    a: tensor([[[ 1.1698,  1.5184, -0.8098],\n",
       "                [ 0.0796, -0.5881,  1.0541]],\n",
       "       \n",
       "               [[ 1.1698,  1.5184, -0.8098],\n",
       "                [ 0.0796, -0.5881,  1.0541]],\n",
       "       \n",
       "               [[ 1.1698,  1.5184, -0.8098],\n",
       "                [ 0.0796, -0.5881,  1.0541]],\n",
       "       \n",
       "               [[ 1.1698,  1.5184, -0.8098],\n",
       "                [ 0.0796, -0.5881,  1.0541]],\n",
       "       \n",
       "               [[ 1.1698,  1.5184, -0.8098],\n",
       "                [ 0.0796, -0.5881,  1.0541]],\n",
       "       \n",
       "               [[ 1.1698,  1.5184, -0.8098],\n",
       "                [ 0.0796, -0.5881,  1.0541]],\n",
       "       \n",
       "               [[ 1.1698,  1.5184, -0.8098],\n",
       "                [ 0.0796, -0.5881,  1.0541]],\n",
       "       \n",
       "               [[ 1.1698,  1.5184, -0.8098],\n",
       "                [ 0.0796, -0.5881,  1.0541]]]),\n",
       "    x: Batch(\n",
       "           c: tensor([[[-0.9837, -0.4014,  1.3998,  0.8342],\n",
       "                       [-1.1999,  1.6948,  0.9551, -0.0540],\n",
       "                       [-0.0651,  0.6188, -2.7386,  0.7798]],\n",
       "              \n",
       "                      [[-0.9837, -0.4014,  1.3998,  0.8342],\n",
       "                       [-1.1999,  1.6948,  0.9551, -0.0540],\n",
       "                       [-0.0651,  0.6188, -2.7386,  0.7798]],\n",
       "              \n",
       "                      [[-0.9837, -0.4014,  1.3998,  0.8342],\n",
       "                       [-1.1999,  1.6948,  0.9551, -0.0540],\n",
       "                       [-0.0651,  0.6188, -2.7386,  0.7798]],\n",
       "              \n",
       "                      [[-0.9837, -0.4014,  1.3998,  0.8342],\n",
       "                       [-1.1999,  1.6948,  0.9551, -0.0540],\n",
       "                       [-0.0651,  0.6188, -2.7386,  0.7798]],\n",
       "              \n",
       "                      [[-0.9837, -0.4014,  1.3998,  0.8342],\n",
       "                       [-1.1999,  1.6948,  0.9551, -0.0540],\n",
       "                       [-0.0651,  0.6188, -2.7386,  0.7798]],\n",
       "              \n",
       "                      [[-0.9837, -0.4014,  1.3998,  0.8342],\n",
       "                       [-1.1999,  1.6948,  0.9551, -0.0540],\n",
       "                       [-0.0651,  0.6188, -2.7386,  0.7798]],\n",
       "              \n",
       "                      [[-0.9837, -0.4014,  1.3998,  0.8342],\n",
       "                       [-1.1999,  1.6948,  0.9551, -0.0540],\n",
       "                       [-0.0651,  0.6188, -2.7386,  0.7798]],\n",
       "              \n",
       "                      [[-0.9837, -0.4014,  1.3998,  0.8342],\n",
       "                       [-1.1999,  1.6948,  0.9551, -0.0540],\n",
       "                       [-0.0651,  0.6188, -2.7386,  0.7798]]]),\n",
       "       ),\n",
       ")"
      ]
     },
     "execution_count": 25,
     "metadata": {},
     "output_type": "execute_result"
    }
   ],
   "source": [
    "batches = [Batch(**_TREE_DATA_2) for _ in range(8)]\n",
    "\n",
    "Batch.stack(batches)"
   ]
  },
  {
   "cell_type": "code",
   "execution_count": 26,
   "id": "ec9037a3",
   "metadata": {
    "execution": {
     "iopub.execute_input": "2023-02-27T11:09:43.387329Z",
     "iopub.status.busy": "2023-02-27T11:09:43.386902Z",
     "iopub.status.idle": "2023-02-27T11:09:49.872133Z",
     "shell.execute_reply": "2023-02-27T11:09:49.871209Z"
    }
   },
   "outputs": [
    {
     "name": "stdout",
     "output_type": "stream",
     "text": [
      "79.9 µs ± 956 ns per loop (mean ± std. dev. of 7 runs, 10,000 loops each)\n"
     ]
    }
   ],
   "source": [
    "%timeit Batch.stack(batches)"
   ]
  },
  {
   "cell_type": "code",
   "execution_count": 27,
   "id": "cb8ab77e",
   "metadata": {
    "execution": {
     "iopub.execute_input": "2023-02-27T11:09:49.875537Z",
     "iopub.status.busy": "2023-02-27T11:09:49.875152Z",
     "iopub.status.idle": "2023-02-27T11:09:49.884119Z",
     "shell.execute_reply": "2023-02-27T11:09:49.883486Z"
    }
   },
   "outputs": [
    {
     "data": {
      "text/plain": [
       "Batch(\n",
       "    a: tensor([[ 1.1698,  1.5184, -0.8098],\n",
       "               [ 0.0796, -0.5881,  1.0541],\n",
       "               [ 1.1698,  1.5184, -0.8098],\n",
       "               [ 0.0796, -0.5881,  1.0541],\n",
       "               [ 1.1698,  1.5184, -0.8098],\n",
       "               [ 0.0796, -0.5881,  1.0541],\n",
       "               [ 1.1698,  1.5184, -0.8098],\n",
       "               [ 0.0796, -0.5881,  1.0541],\n",
       "               [ 1.1698,  1.5184, -0.8098],\n",
       "               [ 0.0796, -0.5881,  1.0541],\n",
       "               [ 1.1698,  1.5184, -0.8098],\n",
       "               [ 0.0796, -0.5881,  1.0541],\n",
       "               [ 1.1698,  1.5184, -0.8098],\n",
       "               [ 0.0796, -0.5881,  1.0541],\n",
       "               [ 1.1698,  1.5184, -0.8098],\n",
       "               [ 0.0796, -0.5881,  1.0541]]),\n",
       "    x: Batch(\n",
       "           c: tensor([[-0.9837, -0.4014,  1.3998,  0.8342],\n",
       "                      [-1.1999,  1.6948,  0.9551, -0.0540],\n",
       "                      [-0.0651,  0.6188, -2.7386,  0.7798],\n",
       "                      [-0.9837, -0.4014,  1.3998,  0.8342],\n",
       "                      [-1.1999,  1.6948,  0.9551, -0.0540],\n",
       "                      [-0.0651,  0.6188, -2.7386,  0.7798],\n",
       "                      [-0.9837, -0.4014,  1.3998,  0.8342],\n",
       "                      [-1.1999,  1.6948,  0.9551, -0.0540],\n",
       "                      [-0.0651,  0.6188, -2.7386,  0.7798],\n",
       "                      [-0.9837, -0.4014,  1.3998,  0.8342],\n",
       "                      [-1.1999,  1.6948,  0.9551, -0.0540],\n",
       "                      [-0.0651,  0.6188, -2.7386,  0.7798],\n",
       "                      [-0.9837, -0.4014,  1.3998,  0.8342],\n",
       "                      [-1.1999,  1.6948,  0.9551, -0.0540],\n",
       "                      [-0.0651,  0.6188, -2.7386,  0.7798],\n",
       "                      [-0.9837, -0.4014,  1.3998,  0.8342],\n",
       "                      [-1.1999,  1.6948,  0.9551, -0.0540],\n",
       "                      [-0.0651,  0.6188, -2.7386,  0.7798],\n",
       "                      [-0.9837, -0.4014,  1.3998,  0.8342],\n",
       "                      [-1.1999,  1.6948,  0.9551, -0.0540],\n",
       "                      [-0.0651,  0.6188, -2.7386,  0.7798],\n",
       "                      [-0.9837, -0.4014,  1.3998,  0.8342],\n",
       "                      [-1.1999,  1.6948,  0.9551, -0.0540],\n",
       "                      [-0.0651,  0.6188, -2.7386,  0.7798]]),\n",
       "       ),\n",
       ")"
      ]
     },
     "execution_count": 27,
     "metadata": {},
     "output_type": "execute_result"
    }
   ],
   "source": [
    "Batch.cat(batches)"
   ]
  },
  {
   "cell_type": "code",
   "execution_count": 28,
   "id": "18dfb045",
   "metadata": {
    "execution": {
     "iopub.execute_input": "2023-02-27T11:09:49.887239Z",
     "iopub.status.busy": "2023-02-27T11:09:49.886689Z",
     "iopub.status.idle": "2023-02-27T11:10:03.293125Z",
     "shell.execute_reply": "2023-02-27T11:10:03.292319Z"
    }
   },
   "outputs": [
    {
     "name": "stdout",
     "output_type": "stream",
     "text": [
      "165 µs ± 212 ns per loop (mean ± std. dev. of 7 runs, 10,000 loops each)\n"
     ]
    }
   ],
   "source": [
    "%timeit Batch.cat(batches)"
   ]
  },
  {
   "cell_type": "code",
   "execution_count": 29,
   "id": "c6688e51",
   "metadata": {
    "execution": {
     "iopub.execute_input": "2023-02-27T11:10:03.296965Z",
     "iopub.status.busy": "2023-02-27T11:10:03.296354Z",
     "iopub.status.idle": "2023-02-27T11:10:06.019315Z",
     "shell.execute_reply": "2023-02-27T11:10:06.018634Z"
    }
   },
   "outputs": [
    {
     "name": "stdout",
     "output_type": "stream",
     "text": [
      "334 µs ± 1.08 µs per loop (mean ± std. dev. of 7 runs, 1,000 loops each)\n"
     ]
    }
   ],
   "source": [
    "batch = Batch({\n",
    "    'obs': torch.randn(8, 4, 84, 84),\n",
    "    'action': torch.randint(0, 6, size=(8, 1,)),\n",
    "    'reward': torch.rand(8, 1)}\n",
    ")\n",
    "\n",
    "%timeit list(Batch.split(batch, 1, shuffle=False, merge_last=True))"
   ]
  },
  {
   "cell_type": "code",
   "execution_count": null,
   "id": "2539fbd9",
   "metadata": {},
   "outputs": [],
   "source": []
  }
 ],
 "metadata": {
  "kernelspec": {
   "display_name": "Python 3 (ipykernel)",
   "language": "python",
   "name": "python3"
  },
  "language_info": {
   "codemirror_mode": {
    "name": "ipython",
    "version": 3
   },
   "file_extension": ".py",
   "mimetype": "text/x-python",
   "name": "python",
   "nbconvert_exporter": "python",
   "pygments_lexer": "ipython3",
   "version": "3.8.16"
  }
 },
 "nbformat": 4,
 "nbformat_minor": 5
}
