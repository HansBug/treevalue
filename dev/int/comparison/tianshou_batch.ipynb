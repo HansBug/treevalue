{
 "cells": [
  {
   "cell_type": "markdown",
   "id": "9d39d946",
   "metadata": {},
   "source": [
    "# Comparison Between TreeValue and Tianshou Batch"
   ]
  },
  {
   "cell_type": "markdown",
   "id": "3c6db2d4",
   "metadata": {},
   "source": [
    "In this section, we will take a look at the feature and performance of the [Tianshou Batch](https://github.com/thu-ml/tianshou) library, which is developed by Tsinghua Machine Learning Group."
   ]
  },
  {
   "cell_type": "markdown",
   "id": "069361b0",
   "metadata": {},
   "source": [
    "Before starting the comparison, let us define some thing."
   ]
  },
  {
   "cell_type": "code",
   "execution_count": 1,
   "id": "06fc8d26",
   "metadata": {
    "execution": {
     "iopub.execute_input": "2023-02-27T12:52:06.256128Z",
     "iopub.status.busy": "2023-02-27T12:52:06.255690Z",
     "iopub.status.idle": "2023-02-27T12:52:07.229805Z",
     "shell.execute_reply": "2023-02-27T12:52:07.228534Z"
    }
   },
   "outputs": [
    {
     "name": "stderr",
     "output_type": "stream",
     "text": [
      "/opt/hostedtoolcache/Python/3.8.16/x64/lib/python3.8/site-packages/tqdm/auto.py:22: TqdmWarning: IProgress not found. Please update jupyter and ipywidgets. See https://ipywidgets.readthedocs.io/en/stable/user_install.html\n",
      "  from .autonotebook import tqdm as notebook_tqdm\n"
     ]
    }
   ],
   "source": [
    "import torch \n",
    "\n",
    "_TREE_DATA_1 = {'a': 1, 'b': 2, 'x': {'c': 3, 'd': 4}}\n",
    "_TREE_DATA_2 = {\n",
    "    'a': torch.randn(2, 3), \n",
    "    'x': {\n",
    "        'c': torch.randn(3, 4)\n",
    "    },\n",
    "}\n",
    "_TREE_DATA_3 = {\n",
    "    'obs': torch.randn(4, 84, 84),\n",
    "    'action': torch.randint(0, 6, size=(1,)),\n",
    "    'reward': torch.rand(1),\n",
    "}"
   ]
  },
  {
   "cell_type": "markdown",
   "id": "83461b25",
   "metadata": {},
   "source": [
    "## Read and Write Operation"
   ]
  },
  {
   "cell_type": "markdown",
   "id": "067b3f73",
   "metadata": {},
   "source": [
    "Reading and writing are the two most common operations in the tree data structure based on the data model (TreeValue and Tianshou Batch both belong to this type), so this section will compare the reading and writing performance of these two libraries."
   ]
  },
  {
   "cell_type": "markdown",
   "id": "5d09a5b7",
   "metadata": {},
   "source": [
    "### TreeValue's Get and Set"
   ]
  },
  {
   "cell_type": "code",
   "execution_count": 2,
   "id": "9519c4bb",
   "metadata": {
    "execution": {
     "iopub.execute_input": "2023-02-27T12:52:07.234024Z",
     "iopub.status.busy": "2023-02-27T12:52:07.233305Z",
     "iopub.status.idle": "2023-02-27T12:52:07.522624Z",
     "shell.execute_reply": "2023-02-27T12:52:07.521372Z"
    }
   },
   "outputs": [],
   "source": [
    "from treevalue import FastTreeValue\n",
    "\n",
    "t = FastTreeValue(_TREE_DATA_2)"
   ]
  },
  {
   "cell_type": "code",
   "execution_count": 3,
   "id": "11c37677",
   "metadata": {
    "execution": {
     "iopub.execute_input": "2023-02-27T12:52:07.526288Z",
     "iopub.status.busy": "2023-02-27T12:52:07.525812Z",
     "iopub.status.idle": "2023-02-27T12:52:07.535930Z",
     "shell.execute_reply": "2023-02-27T12:52:07.535316Z"
    }
   },
   "outputs": [
    {
     "data": {
      "text/plain": [
       "<FastTreeValue 0x7f5717fdc2b0>\n",
       "├── 'a' --> tensor([[ 2.3972,  0.7236,  0.7686],\n",
       "│                   [ 0.7798, -0.7067, -1.1532]])\n",
       "└── 'x' --> <FastTreeValue 0x7f57acffa550>\n",
       "    └── 'c' --> tensor([[-0.9505, -0.5114, -0.0539, -0.3478],\n",
       "                        [-0.7235, -1.0530, -0.3435, -0.7083],\n",
       "                        [ 0.2801,  0.2255, -1.6126,  1.3294]])"
      ]
     },
     "execution_count": 3,
     "metadata": {},
     "output_type": "execute_result"
    }
   ],
   "source": [
    "t"
   ]
  },
  {
   "cell_type": "code",
   "execution_count": 4,
   "id": "fd70b0b9",
   "metadata": {
    "execution": {
     "iopub.execute_input": "2023-02-27T12:52:07.538900Z",
     "iopub.status.busy": "2023-02-27T12:52:07.538442Z",
     "iopub.status.idle": "2023-02-27T12:52:07.544453Z",
     "shell.execute_reply": "2023-02-27T12:52:07.543854Z"
    }
   },
   "outputs": [
    {
     "data": {
      "text/plain": [
       "tensor([[ 2.3972,  0.7236,  0.7686],\n",
       "        [ 0.7798, -0.7067, -1.1532]])"
      ]
     },
     "execution_count": 4,
     "metadata": {},
     "output_type": "execute_result"
    }
   ],
   "source": [
    "t.a"
   ]
  },
  {
   "cell_type": "code",
   "execution_count": 5,
   "id": "c18197bd",
   "metadata": {
    "execution": {
     "iopub.execute_input": "2023-02-27T12:52:07.547383Z",
     "iopub.status.busy": "2023-02-27T12:52:07.546849Z",
     "iopub.status.idle": "2023-02-27T12:52:13.043544Z",
     "shell.execute_reply": "2023-02-27T12:52:13.042625Z"
    }
   },
   "outputs": [
    {
     "name": "stdout",
     "output_type": "stream",
     "text": [
      "67.5 ns ± 0.0531 ns per loop (mean ± std. dev. of 7 runs, 10,000,000 loops each)\n"
     ]
    }
   ],
   "source": [
    "%timeit t.a"
   ]
  },
  {
   "cell_type": "code",
   "execution_count": 6,
   "id": "bd52f867",
   "metadata": {
    "execution": {
     "iopub.execute_input": "2023-02-27T12:52:13.047114Z",
     "iopub.status.busy": "2023-02-27T12:52:13.046425Z",
     "iopub.status.idle": "2023-02-27T12:52:13.053600Z",
     "shell.execute_reply": "2023-02-27T12:52:13.052991Z"
    }
   },
   "outputs": [
    {
     "data": {
      "text/plain": [
       "<FastTreeValue 0x7f5717fdc2b0>\n",
       "├── 'a' --> tensor([[-0.3798,  0.2980,  0.3797],\n",
       "│                   [-0.2746, -0.3837, -0.0434]])\n",
       "└── 'x' --> <FastTreeValue 0x7f57acffa550>\n",
       "    └── 'c' --> tensor([[-0.9505, -0.5114, -0.0539, -0.3478],\n",
       "                        [-0.7235, -1.0530, -0.3435, -0.7083],\n",
       "                        [ 0.2801,  0.2255, -1.6126,  1.3294]])"
      ]
     },
     "execution_count": 6,
     "metadata": {},
     "output_type": "execute_result"
    }
   ],
   "source": [
    "new_value = torch.randn(2, 3)\n",
    "t.a = new_value\n",
    "\n",
    "t"
   ]
  },
  {
   "cell_type": "code",
   "execution_count": 7,
   "id": "bbe04d1c",
   "metadata": {
    "execution": {
     "iopub.execute_input": "2023-02-27T12:52:13.056278Z",
     "iopub.status.busy": "2023-02-27T12:52:13.055835Z",
     "iopub.status.idle": "2023-02-27T12:52:18.974127Z",
     "shell.execute_reply": "2023-02-27T12:52:18.973247Z"
    }
   },
   "outputs": [
    {
     "name": "stdout",
     "output_type": "stream",
     "text": [
      "72.6 ns ± 0.0423 ns per loop (mean ± std. dev. of 7 runs, 10,000,000 loops each)\n"
     ]
    }
   ],
   "source": [
    "%timeit t.a = new_value"
   ]
  },
  {
   "cell_type": "markdown",
   "id": "48c49731",
   "metadata": {},
   "source": [
    "### Tianshou Batch's Get and Set"
   ]
  },
  {
   "cell_type": "code",
   "execution_count": 8,
   "id": "f1bb14c1",
   "metadata": {
    "execution": {
     "iopub.execute_input": "2023-02-27T12:52:18.977927Z",
     "iopub.status.busy": "2023-02-27T12:52:18.977445Z",
     "iopub.status.idle": "2023-02-27T12:52:19.347086Z",
     "shell.execute_reply": "2023-02-27T12:52:19.345456Z"
    }
   },
   "outputs": [],
   "source": [
    "from tianshou.data import Batch\n",
    "\n",
    "b = Batch(**_TREE_DATA_2)"
   ]
  },
  {
   "cell_type": "code",
   "execution_count": 9,
   "id": "cb0777c3",
   "metadata": {
    "execution": {
     "iopub.execute_input": "2023-02-27T12:52:19.350782Z",
     "iopub.status.busy": "2023-02-27T12:52:19.350253Z",
     "iopub.status.idle": "2023-02-27T12:52:19.356644Z",
     "shell.execute_reply": "2023-02-27T12:52:19.356044Z"
    }
   },
   "outputs": [
    {
     "data": {
      "text/plain": [
       "Batch(\n",
       "    a: tensor([[ 2.3972,  0.7236,  0.7686],\n",
       "               [ 0.7798, -0.7067, -1.1532]]),\n",
       "    x: Batch(\n",
       "           c: tensor([[-0.9505, -0.5114, -0.0539, -0.3478],\n",
       "                      [-0.7235, -1.0530, -0.3435, -0.7083],\n",
       "                      [ 0.2801,  0.2255, -1.6126,  1.3294]]),\n",
       "       ),\n",
       ")"
      ]
     },
     "execution_count": 9,
     "metadata": {},
     "output_type": "execute_result"
    }
   ],
   "source": [
    "b"
   ]
  },
  {
   "cell_type": "code",
   "execution_count": 10,
   "id": "43ef8ea3",
   "metadata": {
    "execution": {
     "iopub.execute_input": "2023-02-27T12:52:19.359733Z",
     "iopub.status.busy": "2023-02-27T12:52:19.359133Z",
     "iopub.status.idle": "2023-02-27T12:52:19.364666Z",
     "shell.execute_reply": "2023-02-27T12:52:19.364073Z"
    }
   },
   "outputs": [
    {
     "data": {
      "text/plain": [
       "tensor([[ 2.3972,  0.7236,  0.7686],\n",
       "        [ 0.7798, -0.7067, -1.1532]])"
      ]
     },
     "execution_count": 10,
     "metadata": {},
     "output_type": "execute_result"
    }
   ],
   "source": [
    "b.a"
   ]
  },
  {
   "cell_type": "code",
   "execution_count": 11,
   "id": "b785ab72",
   "metadata": {
    "execution": {
     "iopub.execute_input": "2023-02-27T12:52:19.367175Z",
     "iopub.status.busy": "2023-02-27T12:52:19.366816Z",
     "iopub.status.idle": "2023-02-27T12:52:24.109978Z",
     "shell.execute_reply": "2023-02-27T12:52:24.109090Z"
    }
   },
   "outputs": [
    {
     "name": "stdout",
     "output_type": "stream",
     "text": [
      "58.4 ns ± 0.11 ns per loop (mean ± std. dev. of 7 runs, 10,000,000 loops each)\n"
     ]
    }
   ],
   "source": [
    "%timeit b.a"
   ]
  },
  {
   "cell_type": "code",
   "execution_count": 12,
   "id": "ad54dc69",
   "metadata": {
    "execution": {
     "iopub.execute_input": "2023-02-27T12:52:24.113723Z",
     "iopub.status.busy": "2023-02-27T12:52:24.113140Z",
     "iopub.status.idle": "2023-02-27T12:52:24.120011Z",
     "shell.execute_reply": "2023-02-27T12:52:24.119317Z"
    }
   },
   "outputs": [
    {
     "data": {
      "text/plain": [
       "Batch(\n",
       "    a: tensor([[-0.9156, -0.9557,  0.1892],\n",
       "               [-1.0654,  0.8652, -0.7778]]),\n",
       "    x: Batch(\n",
       "           c: tensor([[-0.9505, -0.5114, -0.0539, -0.3478],\n",
       "                      [-0.7235, -1.0530, -0.3435, -0.7083],\n",
       "                      [ 0.2801,  0.2255, -1.6126,  1.3294]]),\n",
       "       ),\n",
       ")"
      ]
     },
     "execution_count": 12,
     "metadata": {},
     "output_type": "execute_result"
    }
   ],
   "source": [
    "new_value = torch.randn(2, 3)\n",
    "b.a = new_value\n",
    "\n",
    "b"
   ]
  },
  {
   "cell_type": "code",
   "execution_count": 13,
   "id": "29b1d0bf",
   "metadata": {
    "execution": {
     "iopub.execute_input": "2023-02-27T12:52:24.123010Z",
     "iopub.status.busy": "2023-02-27T12:52:24.122557Z",
     "iopub.status.idle": "2023-02-27T12:52:28.178825Z",
     "shell.execute_reply": "2023-02-27T12:52:28.177914Z"
    }
   },
   "outputs": [
    {
     "name": "stdout",
     "output_type": "stream",
     "text": [
      "500 ns ± 0.0521 ns per loop (mean ± std. dev. of 7 runs, 1,000,000 loops each)\n"
     ]
    }
   ],
   "source": [
    "%timeit b.a = new_value"
   ]
  },
  {
   "cell_type": "markdown",
   "id": "b61ad1d0",
   "metadata": {},
   "source": [
    "## Initialization"
   ]
  },
  {
   "cell_type": "markdown",
   "id": "d70f0d54",
   "metadata": {},
   "source": [
    "### TreeValue's Initialization"
   ]
  },
  {
   "cell_type": "code",
   "execution_count": 14,
   "id": "d32a679b",
   "metadata": {
    "execution": {
     "iopub.execute_input": "2023-02-27T12:52:28.182747Z",
     "iopub.status.busy": "2023-02-27T12:52:28.182127Z",
     "iopub.status.idle": "2023-02-27T12:52:35.018805Z",
     "shell.execute_reply": "2023-02-27T12:52:35.017796Z"
    }
   },
   "outputs": [
    {
     "name": "stdout",
     "output_type": "stream",
     "text": [
      "842 ns ± 0.913 ns per loop (mean ± std. dev. of 7 runs, 1,000,000 loops each)\n"
     ]
    }
   ],
   "source": [
    "%timeit FastTreeValue(_TREE_DATA_1)"
   ]
  },
  {
   "cell_type": "markdown",
   "id": "24f3707b",
   "metadata": {},
   "source": [
    "### Tianshou Batch's Initialization"
   ]
  },
  {
   "cell_type": "code",
   "execution_count": 15,
   "id": "ac3958df",
   "metadata": {
    "execution": {
     "iopub.execute_input": "2023-02-27T12:52:35.022286Z",
     "iopub.status.busy": "2023-02-27T12:52:35.021646Z",
     "iopub.status.idle": "2023-02-27T12:52:43.869088Z",
     "shell.execute_reply": "2023-02-27T12:52:43.868211Z"
    }
   },
   "outputs": [
    {
     "name": "stdout",
     "output_type": "stream",
     "text": [
      "10.9 µs ± 11.2 ns per loop (mean ± std. dev. of 7 runs, 100,000 loops each)\n"
     ]
    }
   ],
   "source": [
    "%timeit Batch(**_TREE_DATA_1)"
   ]
  },
  {
   "cell_type": "markdown",
   "id": "1ab82e2d",
   "metadata": {},
   "source": [
    "## Deep Copy Operation"
   ]
  },
  {
   "cell_type": "code",
   "execution_count": 16,
   "id": "210a9442",
   "metadata": {
    "execution": {
     "iopub.execute_input": "2023-02-27T12:52:43.872380Z",
     "iopub.status.busy": "2023-02-27T12:52:43.871847Z",
     "iopub.status.idle": "2023-02-27T12:52:43.876261Z",
     "shell.execute_reply": "2023-02-27T12:52:43.875385Z"
    }
   },
   "outputs": [],
   "source": [
    "import copy"
   ]
  },
  {
   "cell_type": "markdown",
   "id": "5a736274",
   "metadata": {},
   "source": [
    "### Deep Copy of TreeValue"
   ]
  },
  {
   "cell_type": "code",
   "execution_count": 17,
   "id": "f9bcadd6",
   "metadata": {
    "execution": {
     "iopub.execute_input": "2023-02-27T12:52:43.879421Z",
     "iopub.status.busy": "2023-02-27T12:52:43.878903Z",
     "iopub.status.idle": "2023-02-27T12:52:55.476879Z",
     "shell.execute_reply": "2023-02-27T12:52:55.476129Z"
    }
   },
   "outputs": [
    {
     "name": "stdout",
     "output_type": "stream",
     "text": [
      "142 µs ± 283 ns per loop (mean ± std. dev. of 7 runs, 10,000 loops each)\n"
     ]
    }
   ],
   "source": [
    "t3 = FastTreeValue(_TREE_DATA_3)\n",
    "%timeit copy.deepcopy(t3)"
   ]
  },
  {
   "cell_type": "markdown",
   "id": "bf8be7ea",
   "metadata": {},
   "source": [
    "### Deep Copy of Tianshou Batch"
   ]
  },
  {
   "cell_type": "code",
   "execution_count": 18,
   "id": "91998e6f",
   "metadata": {
    "execution": {
     "iopub.execute_input": "2023-02-27T12:52:55.480415Z",
     "iopub.status.busy": "2023-02-27T12:52:55.479798Z",
     "iopub.status.idle": "2023-02-27T12:53:07.051405Z",
     "shell.execute_reply": "2023-02-27T12:53:07.050703Z"
    }
   },
   "outputs": [
    {
     "name": "stdout",
     "output_type": "stream",
     "text": [
      "142 µs ± 554 ns per loop (mean ± std. dev. of 7 runs, 10,000 loops each)\n"
     ]
    }
   ],
   "source": [
    "b3 = Batch(**_TREE_DATA_3)\n",
    "%timeit copy.deepcopy(b3)"
   ]
  },
  {
   "cell_type": "markdown",
   "id": "223162fb",
   "metadata": {},
   "source": [
    "## Stack, Concat and Split Operation"
   ]
  },
  {
   "cell_type": "markdown",
   "id": "85fa4a73",
   "metadata": {},
   "source": [
    "### Performance of TreeValue"
   ]
  },
  {
   "cell_type": "code",
   "execution_count": 19,
   "id": "a0c2b697",
   "metadata": {
    "execution": {
     "iopub.execute_input": "2023-02-27T12:53:07.055049Z",
     "iopub.status.busy": "2023-02-27T12:53:07.054305Z",
     "iopub.status.idle": "2023-02-27T12:53:07.058043Z",
     "shell.execute_reply": "2023-02-27T12:53:07.057483Z"
    }
   },
   "outputs": [],
   "source": [
    "trees = [FastTreeValue(_TREE_DATA_2) for _ in range(8)]"
   ]
  },
  {
   "cell_type": "code",
   "execution_count": 20,
   "id": "017ea5a5",
   "metadata": {
    "execution": {
     "iopub.execute_input": "2023-02-27T12:53:07.060581Z",
     "iopub.status.busy": "2023-02-27T12:53:07.060139Z",
     "iopub.status.idle": "2023-02-27T12:53:07.067347Z",
     "shell.execute_reply": "2023-02-27T12:53:07.066785Z"
    }
   },
   "outputs": [
    {
     "data": {
      "text/plain": [
       "<FastTreeValue 0x7f5706230bb0>\n",
       "├── 'a' --> tensor([[[ 2.3972,  0.7236,  0.7686],\n",
       "│                    [ 0.7798, -0.7067, -1.1532]],\n",
       "│           \n",
       "│                   [[ 2.3972,  0.7236,  0.7686],\n",
       "│                    [ 0.7798, -0.7067, -1.1532]],\n",
       "│           \n",
       "│                   [[ 2.3972,  0.7236,  0.7686],\n",
       "│                    [ 0.7798, -0.7067, -1.1532]],\n",
       "│           \n",
       "│                   [[ 2.3972,  0.7236,  0.7686],\n",
       "│                    [ 0.7798, -0.7067, -1.1532]],\n",
       "│           \n",
       "│                   [[ 2.3972,  0.7236,  0.7686],\n",
       "│                    [ 0.7798, -0.7067, -1.1532]],\n",
       "│           \n",
       "│                   [[ 2.3972,  0.7236,  0.7686],\n",
       "│                    [ 0.7798, -0.7067, -1.1532]],\n",
       "│           \n",
       "│                   [[ 2.3972,  0.7236,  0.7686],\n",
       "│                    [ 0.7798, -0.7067, -1.1532]],\n",
       "│           \n",
       "│                   [[ 2.3972,  0.7236,  0.7686],\n",
       "│                    [ 0.7798, -0.7067, -1.1532]]])\n",
       "└── 'x' --> <FastTreeValue 0x7f5706230730>\n",
       "    └── 'c' --> tensor([[[-0.9505, -0.5114, -0.0539, -0.3478],\n",
       "                         [-0.7235, -1.0530, -0.3435, -0.7083],\n",
       "                         [ 0.2801,  0.2255, -1.6126,  1.3294]],\n",
       "                \n",
       "                        [[-0.9505, -0.5114, -0.0539, -0.3478],\n",
       "                         [-0.7235, -1.0530, -0.3435, -0.7083],\n",
       "                         [ 0.2801,  0.2255, -1.6126,  1.3294]],\n",
       "                \n",
       "                        [[-0.9505, -0.5114, -0.0539, -0.3478],\n",
       "                         [-0.7235, -1.0530, -0.3435, -0.7083],\n",
       "                         [ 0.2801,  0.2255, -1.6126,  1.3294]],\n",
       "                \n",
       "                        [[-0.9505, -0.5114, -0.0539, -0.3478],\n",
       "                         [-0.7235, -1.0530, -0.3435, -0.7083],\n",
       "                         [ 0.2801,  0.2255, -1.6126,  1.3294]],\n",
       "                \n",
       "                        [[-0.9505, -0.5114, -0.0539, -0.3478],\n",
       "                         [-0.7235, -1.0530, -0.3435, -0.7083],\n",
       "                         [ 0.2801,  0.2255, -1.6126,  1.3294]],\n",
       "                \n",
       "                        [[-0.9505, -0.5114, -0.0539, -0.3478],\n",
       "                         [-0.7235, -1.0530, -0.3435, -0.7083],\n",
       "                         [ 0.2801,  0.2255, -1.6126,  1.3294]],\n",
       "                \n",
       "                        [[-0.9505, -0.5114, -0.0539, -0.3478],\n",
       "                         [-0.7235, -1.0530, -0.3435, -0.7083],\n",
       "                         [ 0.2801,  0.2255, -1.6126,  1.3294]],\n",
       "                \n",
       "                        [[-0.9505, -0.5114, -0.0539, -0.3478],\n",
       "                         [-0.7235, -1.0530, -0.3435, -0.7083],\n",
       "                         [ 0.2801,  0.2255, -1.6126,  1.3294]]])"
      ]
     },
     "execution_count": 20,
     "metadata": {},
     "output_type": "execute_result"
    }
   ],
   "source": [
    "t_stack = FastTreeValue.func(subside=True)(torch.stack)\n",
    "\n",
    "t_stack(trees)"
   ]
  },
  {
   "cell_type": "code",
   "execution_count": 21,
   "id": "f8b3f415",
   "metadata": {
    "execution": {
     "iopub.execute_input": "2023-02-27T12:53:07.070023Z",
     "iopub.status.busy": "2023-02-27T12:53:07.069382Z",
     "iopub.status.idle": "2023-02-27T12:53:09.637484Z",
     "shell.execute_reply": "2023-02-27T12:53:09.636611Z"
    }
   },
   "outputs": [
    {
     "name": "stdout",
     "output_type": "stream",
     "text": [
      "31.5 µs ± 30.8 ns per loop (mean ± std. dev. of 7 runs, 10,000 loops each)\n"
     ]
    }
   ],
   "source": [
    "%timeit t_stack(trees)"
   ]
  },
  {
   "cell_type": "code",
   "execution_count": 22,
   "id": "94b56771",
   "metadata": {
    "execution": {
     "iopub.execute_input": "2023-02-27T12:53:09.641400Z",
     "iopub.status.busy": "2023-02-27T12:53:09.640777Z",
     "iopub.status.idle": "2023-02-27T12:53:09.649997Z",
     "shell.execute_reply": "2023-02-27T12:53:09.649374Z"
    }
   },
   "outputs": [
    {
     "data": {
      "text/plain": [
       "<FastTreeValue 0x7f57acfe5fd0>\n",
       "├── 'a' --> tensor([[ 2.3972,  0.7236,  0.7686],\n",
       "│                   [ 0.7798, -0.7067, -1.1532],\n",
       "│                   [ 2.3972,  0.7236,  0.7686],\n",
       "│                   [ 0.7798, -0.7067, -1.1532],\n",
       "│                   [ 2.3972,  0.7236,  0.7686],\n",
       "│                   [ 0.7798, -0.7067, -1.1532],\n",
       "│                   [ 2.3972,  0.7236,  0.7686],\n",
       "│                   [ 0.7798, -0.7067, -1.1532],\n",
       "│                   [ 2.3972,  0.7236,  0.7686],\n",
       "│                   [ 0.7798, -0.7067, -1.1532],\n",
       "│                   [ 2.3972,  0.7236,  0.7686],\n",
       "│                   [ 0.7798, -0.7067, -1.1532],\n",
       "│                   [ 2.3972,  0.7236,  0.7686],\n",
       "│                   [ 0.7798, -0.7067, -1.1532],\n",
       "│                   [ 2.3972,  0.7236,  0.7686],\n",
       "│                   [ 0.7798, -0.7067, -1.1532]])\n",
       "└── 'x' --> <FastTreeValue 0x7f57062ab430>\n",
       "    └── 'c' --> tensor([[-0.9505, -0.5114, -0.0539, -0.3478],\n",
       "                        [-0.7235, -1.0530, -0.3435, -0.7083],\n",
       "                        [ 0.2801,  0.2255, -1.6126,  1.3294],\n",
       "                        [-0.9505, -0.5114, -0.0539, -0.3478],\n",
       "                        [-0.7235, -1.0530, -0.3435, -0.7083],\n",
       "                        [ 0.2801,  0.2255, -1.6126,  1.3294],\n",
       "                        [-0.9505, -0.5114, -0.0539, -0.3478],\n",
       "                        [-0.7235, -1.0530, -0.3435, -0.7083],\n",
       "                        [ 0.2801,  0.2255, -1.6126,  1.3294],\n",
       "                        [-0.9505, -0.5114, -0.0539, -0.3478],\n",
       "                        [-0.7235, -1.0530, -0.3435, -0.7083],\n",
       "                        [ 0.2801,  0.2255, -1.6126,  1.3294],\n",
       "                        [-0.9505, -0.5114, -0.0539, -0.3478],\n",
       "                        [-0.7235, -1.0530, -0.3435, -0.7083],\n",
       "                        [ 0.2801,  0.2255, -1.6126,  1.3294],\n",
       "                        [-0.9505, -0.5114, -0.0539, -0.3478],\n",
       "                        [-0.7235, -1.0530, -0.3435, -0.7083],\n",
       "                        [ 0.2801,  0.2255, -1.6126,  1.3294],\n",
       "                        [-0.9505, -0.5114, -0.0539, -0.3478],\n",
       "                        [-0.7235, -1.0530, -0.3435, -0.7083],\n",
       "                        [ 0.2801,  0.2255, -1.6126,  1.3294],\n",
       "                        [-0.9505, -0.5114, -0.0539, -0.3478],\n",
       "                        [-0.7235, -1.0530, -0.3435, -0.7083],\n",
       "                        [ 0.2801,  0.2255, -1.6126,  1.3294]])"
      ]
     },
     "execution_count": 22,
     "metadata": {},
     "output_type": "execute_result"
    }
   ],
   "source": [
    "t_cat = FastTreeValue.func(subside=True)(torch.cat)\n",
    "\n",
    "t_cat(trees)"
   ]
  },
  {
   "cell_type": "code",
   "execution_count": 23,
   "id": "5e9c06a6",
   "metadata": {
    "execution": {
     "iopub.execute_input": "2023-02-27T12:53:09.652891Z",
     "iopub.status.busy": "2023-02-27T12:53:09.652534Z",
     "iopub.status.idle": "2023-02-27T12:53:12.083837Z",
     "shell.execute_reply": "2023-02-27T12:53:12.082957Z"
    }
   },
   "outputs": [
    {
     "name": "stdout",
     "output_type": "stream",
     "text": [
      "29.9 µs ± 47.1 ns per loop (mean ± std. dev. of 7 runs, 10,000 loops each)\n"
     ]
    }
   ],
   "source": [
    "%timeit t_cat(trees)"
   ]
  },
  {
   "cell_type": "code",
   "execution_count": 24,
   "id": "a3ab5c8f",
   "metadata": {
    "execution": {
     "iopub.execute_input": "2023-02-27T12:53:12.087169Z",
     "iopub.status.busy": "2023-02-27T12:53:12.086761Z",
     "iopub.status.idle": "2023-02-27T12:53:16.705372Z",
     "shell.execute_reply": "2023-02-27T12:53:16.704551Z"
    }
   },
   "outputs": [
    {
     "name": "stdout",
     "output_type": "stream",
     "text": [
      "56.8 µs ± 67.1 ns per loop (mean ± std. dev. of 7 runs, 10,000 loops each)\n"
     ]
    }
   ],
   "source": [
    "t_split = FastTreeValue.func(rise=True)(torch.split)\n",
    "tree = FastTreeValue({\n",
    "    'obs': torch.randn(8, 4, 84, 84),\n",
    "    'action': torch.randint(0, 6, size=(8, 1,)),\n",
    "    'reward': torch.rand(8, 1),\n",
    "})\n",
    "\n",
    "%timeit t_split(tree, 1)"
   ]
  },
  {
   "cell_type": "markdown",
   "id": "31c3ec0b",
   "metadata": {},
   "source": [
    "### Performance of Tianshou Batch"
   ]
  },
  {
   "cell_type": "code",
   "execution_count": 25,
   "id": "9ead828a",
   "metadata": {
    "execution": {
     "iopub.execute_input": "2023-02-27T12:53:16.709006Z",
     "iopub.status.busy": "2023-02-27T12:53:16.708445Z",
     "iopub.status.idle": "2023-02-27T12:53:16.717536Z",
     "shell.execute_reply": "2023-02-27T12:53:16.716154Z"
    }
   },
   "outputs": [
    {
     "data": {
      "text/plain": [
       "Batch(\n",
       "    x: Batch(\n",
       "           c: tensor([[[-0.9505, -0.5114, -0.0539, -0.3478],\n",
       "                       [-0.7235, -1.0530, -0.3435, -0.7083],\n",
       "                       [ 0.2801,  0.2255, -1.6126,  1.3294]],\n",
       "              \n",
       "                      [[-0.9505, -0.5114, -0.0539, -0.3478],\n",
       "                       [-0.7235, -1.0530, -0.3435, -0.7083],\n",
       "                       [ 0.2801,  0.2255, -1.6126,  1.3294]],\n",
       "              \n",
       "                      [[-0.9505, -0.5114, -0.0539, -0.3478],\n",
       "                       [-0.7235, -1.0530, -0.3435, -0.7083],\n",
       "                       [ 0.2801,  0.2255, -1.6126,  1.3294]],\n",
       "              \n",
       "                      [[-0.9505, -0.5114, -0.0539, -0.3478],\n",
       "                       [-0.7235, -1.0530, -0.3435, -0.7083],\n",
       "                       [ 0.2801,  0.2255, -1.6126,  1.3294]],\n",
       "              \n",
       "                      [[-0.9505, -0.5114, -0.0539, -0.3478],\n",
       "                       [-0.7235, -1.0530, -0.3435, -0.7083],\n",
       "                       [ 0.2801,  0.2255, -1.6126,  1.3294]],\n",
       "              \n",
       "                      [[-0.9505, -0.5114, -0.0539, -0.3478],\n",
       "                       [-0.7235, -1.0530, -0.3435, -0.7083],\n",
       "                       [ 0.2801,  0.2255, -1.6126,  1.3294]],\n",
       "              \n",
       "                      [[-0.9505, -0.5114, -0.0539, -0.3478],\n",
       "                       [-0.7235, -1.0530, -0.3435, -0.7083],\n",
       "                       [ 0.2801,  0.2255, -1.6126,  1.3294]],\n",
       "              \n",
       "                      [[-0.9505, -0.5114, -0.0539, -0.3478],\n",
       "                       [-0.7235, -1.0530, -0.3435, -0.7083],\n",
       "                       [ 0.2801,  0.2255, -1.6126,  1.3294]]]),\n",
       "       ),\n",
       "    a: tensor([[[ 2.3972,  0.7236,  0.7686],\n",
       "                [ 0.7798, -0.7067, -1.1532]],\n",
       "       \n",
       "               [[ 2.3972,  0.7236,  0.7686],\n",
       "                [ 0.7798, -0.7067, -1.1532]],\n",
       "       \n",
       "               [[ 2.3972,  0.7236,  0.7686],\n",
       "                [ 0.7798, -0.7067, -1.1532]],\n",
       "       \n",
       "               [[ 2.3972,  0.7236,  0.7686],\n",
       "                [ 0.7798, -0.7067, -1.1532]],\n",
       "       \n",
       "               [[ 2.3972,  0.7236,  0.7686],\n",
       "                [ 0.7798, -0.7067, -1.1532]],\n",
       "       \n",
       "               [[ 2.3972,  0.7236,  0.7686],\n",
       "                [ 0.7798, -0.7067, -1.1532]],\n",
       "       \n",
       "               [[ 2.3972,  0.7236,  0.7686],\n",
       "                [ 0.7798, -0.7067, -1.1532]],\n",
       "       \n",
       "               [[ 2.3972,  0.7236,  0.7686],\n",
       "                [ 0.7798, -0.7067, -1.1532]]]),\n",
       ")"
      ]
     },
     "execution_count": 25,
     "metadata": {},
     "output_type": "execute_result"
    }
   ],
   "source": [
    "batches = [Batch(**_TREE_DATA_2) for _ in range(8)]\n",
    "\n",
    "Batch.stack(batches)"
   ]
  },
  {
   "cell_type": "code",
   "execution_count": 26,
   "id": "ec9037a3",
   "metadata": {
    "execution": {
     "iopub.execute_input": "2023-02-27T12:53:16.720329Z",
     "iopub.status.busy": "2023-02-27T12:53:16.719750Z",
     "iopub.status.idle": "2023-02-27T12:53:23.028076Z",
     "shell.execute_reply": "2023-02-27T12:53:23.027184Z"
    }
   },
   "outputs": [
    {
     "name": "stdout",
     "output_type": "stream",
     "text": [
      "77.7 µs ± 101 ns per loop (mean ± std. dev. of 7 runs, 10,000 loops each)\n"
     ]
    }
   ],
   "source": [
    "%timeit Batch.stack(batches)"
   ]
  },
  {
   "cell_type": "code",
   "execution_count": 27,
   "id": "cb8ab77e",
   "metadata": {
    "execution": {
     "iopub.execute_input": "2023-02-27T12:53:23.031542Z",
     "iopub.status.busy": "2023-02-27T12:53:23.030943Z",
     "iopub.status.idle": "2023-02-27T12:53:23.038915Z",
     "shell.execute_reply": "2023-02-27T12:53:23.038278Z"
    }
   },
   "outputs": [
    {
     "data": {
      "text/plain": [
       "Batch(\n",
       "    x: Batch(\n",
       "           c: tensor([[-0.9505, -0.5114, -0.0539, -0.3478],\n",
       "                      [-0.7235, -1.0530, -0.3435, -0.7083],\n",
       "                      [ 0.2801,  0.2255, -1.6126,  1.3294],\n",
       "                      [-0.9505, -0.5114, -0.0539, -0.3478],\n",
       "                      [-0.7235, -1.0530, -0.3435, -0.7083],\n",
       "                      [ 0.2801,  0.2255, -1.6126,  1.3294],\n",
       "                      [-0.9505, -0.5114, -0.0539, -0.3478],\n",
       "                      [-0.7235, -1.0530, -0.3435, -0.7083],\n",
       "                      [ 0.2801,  0.2255, -1.6126,  1.3294],\n",
       "                      [-0.9505, -0.5114, -0.0539, -0.3478],\n",
       "                      [-0.7235, -1.0530, -0.3435, -0.7083],\n",
       "                      [ 0.2801,  0.2255, -1.6126,  1.3294],\n",
       "                      [-0.9505, -0.5114, -0.0539, -0.3478],\n",
       "                      [-0.7235, -1.0530, -0.3435, -0.7083],\n",
       "                      [ 0.2801,  0.2255, -1.6126,  1.3294],\n",
       "                      [-0.9505, -0.5114, -0.0539, -0.3478],\n",
       "                      [-0.7235, -1.0530, -0.3435, -0.7083],\n",
       "                      [ 0.2801,  0.2255, -1.6126,  1.3294],\n",
       "                      [-0.9505, -0.5114, -0.0539, -0.3478],\n",
       "                      [-0.7235, -1.0530, -0.3435, -0.7083],\n",
       "                      [ 0.2801,  0.2255, -1.6126,  1.3294],\n",
       "                      [-0.9505, -0.5114, -0.0539, -0.3478],\n",
       "                      [-0.7235, -1.0530, -0.3435, -0.7083],\n",
       "                      [ 0.2801,  0.2255, -1.6126,  1.3294]]),\n",
       "       ),\n",
       "    a: tensor([[ 2.3972,  0.7236,  0.7686],\n",
       "               [ 0.7798, -0.7067, -1.1532],\n",
       "               [ 2.3972,  0.7236,  0.7686],\n",
       "               [ 0.7798, -0.7067, -1.1532],\n",
       "               [ 2.3972,  0.7236,  0.7686],\n",
       "               [ 0.7798, -0.7067, -1.1532],\n",
       "               [ 2.3972,  0.7236,  0.7686],\n",
       "               [ 0.7798, -0.7067, -1.1532],\n",
       "               [ 2.3972,  0.7236,  0.7686],\n",
       "               [ 0.7798, -0.7067, -1.1532],\n",
       "               [ 2.3972,  0.7236,  0.7686],\n",
       "               [ 0.7798, -0.7067, -1.1532],\n",
       "               [ 2.3972,  0.7236,  0.7686],\n",
       "               [ 0.7798, -0.7067, -1.1532],\n",
       "               [ 2.3972,  0.7236,  0.7686],\n",
       "               [ 0.7798, -0.7067, -1.1532]]),\n",
       ")"
      ]
     },
     "execution_count": 27,
     "metadata": {},
     "output_type": "execute_result"
    }
   ],
   "source": [
    "Batch.cat(batches)"
   ]
  },
  {
   "cell_type": "code",
   "execution_count": 28,
   "id": "18dfb045",
   "metadata": {
    "execution": {
     "iopub.execute_input": "2023-02-27T12:53:23.041515Z",
     "iopub.status.busy": "2023-02-27T12:53:23.041146Z",
     "iopub.status.idle": "2023-02-27T12:53:34.562316Z",
     "shell.execute_reply": "2023-02-27T12:53:34.561432Z"
    }
   },
   "outputs": [
    {
     "name": "stdout",
     "output_type": "stream",
     "text": [
      "142 µs ± 363 ns per loop (mean ± std. dev. of 7 runs, 10,000 loops each)\n"
     ]
    }
   ],
   "source": [
    "%timeit Batch.cat(batches)"
   ]
  },
  {
   "cell_type": "code",
   "execution_count": 29,
   "id": "c6688e51",
   "metadata": {
    "execution": {
     "iopub.execute_input": "2023-02-27T12:53:34.566064Z",
     "iopub.status.busy": "2023-02-27T12:53:34.565639Z",
     "iopub.status.idle": "2023-02-27T12:53:37.273783Z",
     "shell.execute_reply": "2023-02-27T12:53:37.273044Z"
    }
   },
   "outputs": [
    {
     "name": "stdout",
     "output_type": "stream",
     "text": [
      "333 µs ± 2.11 µs per loop (mean ± std. dev. of 7 runs, 1,000 loops each)\n"
     ]
    }
   ],
   "source": [
    "batch = Batch({\n",
    "    'obs': torch.randn(8, 4, 84, 84),\n",
    "    'action': torch.randint(0, 6, size=(8, 1,)),\n",
    "    'reward': torch.rand(8, 1)}\n",
    ")\n",
    "\n",
    "%timeit list(Batch.split(batch, 1, shuffle=False, merge_last=True))"
   ]
  },
  {
   "cell_type": "code",
   "execution_count": null,
   "id": "2539fbd9",
   "metadata": {},
   "outputs": [],
   "source": []
  }
 ],
 "metadata": {
  "kernelspec": {
   "display_name": "Python 3 (ipykernel)",
   "language": "python",
   "name": "python3"
  },
  "language_info": {
   "codemirror_mode": {
    "name": "ipython",
    "version": 3
   },
   "file_extension": ".py",
   "mimetype": "text/x-python",
   "name": "python",
   "nbconvert_exporter": "python",
   "pygments_lexer": "ipython3",
   "version": "3.8.16"
  }
 },
 "nbformat": 4,
 "nbformat_minor": 5
}
