{
 "cells": [
  {
   "cell_type": "markdown",
   "id": "9d39d946",
   "metadata": {},
   "source": [
    "# Comparison Between TreeValue and Tianshou Batch"
   ]
  },
  {
   "cell_type": "markdown",
   "id": "3c6db2d4",
   "metadata": {},
   "source": [
    "In this section, we will take a look at the feature and performance of the [Tianshou Batch](https://github.com/thu-ml/tianshou) library, which is developed by Tsinghua Machine Learning Group."
   ]
  },
  {
   "cell_type": "markdown",
   "id": "069361b0",
   "metadata": {},
   "source": [
    "Before starting the comparison, let us define some thing."
   ]
  },
  {
   "cell_type": "code",
   "execution_count": 1,
   "id": "06fc8d26",
   "metadata": {
    "execution": {
     "iopub.execute_input": "2023-02-27T12:14:14.950281Z",
     "iopub.status.busy": "2023-02-27T12:14:14.949967Z",
     "iopub.status.idle": "2023-02-27T12:14:16.121384Z",
     "shell.execute_reply": "2023-02-27T12:14:16.120448Z"
    }
   },
   "outputs": [
    {
     "name": "stderr",
     "output_type": "stream",
     "text": [
      "/opt/hostedtoolcache/Python/3.8.16/x64/lib/python3.8/site-packages/tqdm/auto.py:22: TqdmWarning: IProgress not found. Please update jupyter and ipywidgets. See https://ipywidgets.readthedocs.io/en/stable/user_install.html\n",
      "  from .autonotebook import tqdm as notebook_tqdm\n"
     ]
    }
   ],
   "source": [
    "import torch \n",
    "\n",
    "_TREE_DATA_1 = {'a': 1, 'b': 2, 'x': {'c': 3, 'd': 4}}\n",
    "_TREE_DATA_2 = {\n",
    "    'a': torch.randn(2, 3), \n",
    "    'x': {\n",
    "        'c': torch.randn(3, 4)\n",
    "    },\n",
    "}\n",
    "_TREE_DATA_3 = {\n",
    "    'obs': torch.randn(4, 84, 84),\n",
    "    'action': torch.randint(0, 6, size=(1,)),\n",
    "    'reward': torch.rand(1),\n",
    "}"
   ]
  },
  {
   "cell_type": "markdown",
   "id": "83461b25",
   "metadata": {},
   "source": [
    "## Read and Write Operation"
   ]
  },
  {
   "cell_type": "markdown",
   "id": "067b3f73",
   "metadata": {},
   "source": [
    "Reading and writing are the two most common operations in the tree data structure based on the data model (TreeValue and Tianshou Batch both belong to this type), so this section will compare the reading and writing performance of these two libraries."
   ]
  },
  {
   "cell_type": "markdown",
   "id": "5d09a5b7",
   "metadata": {},
   "source": [
    "### TreeValue's Get and Set"
   ]
  },
  {
   "cell_type": "code",
   "execution_count": 2,
   "id": "9519c4bb",
   "metadata": {
    "execution": {
     "iopub.execute_input": "2023-02-27T12:14:16.125994Z",
     "iopub.status.busy": "2023-02-27T12:14:16.125364Z",
     "iopub.status.idle": "2023-02-27T12:14:16.472049Z",
     "shell.execute_reply": "2023-02-27T12:14:16.470896Z"
    }
   },
   "outputs": [],
   "source": [
    "from treevalue import FastTreeValue\n",
    "\n",
    "t = FastTreeValue(_TREE_DATA_2)"
   ]
  },
  {
   "cell_type": "code",
   "execution_count": 3,
   "id": "11c37677",
   "metadata": {
    "execution": {
     "iopub.execute_input": "2023-02-27T12:14:16.477357Z",
     "iopub.status.busy": "2023-02-27T12:14:16.475822Z",
     "iopub.status.idle": "2023-02-27T12:14:16.487716Z",
     "shell.execute_reply": "2023-02-27T12:14:16.486914Z"
    }
   },
   "outputs": [
    {
     "data": {
      "text/plain": [
       "<FastTreeValue 0x7f79ccb9f910>\n",
       "├── 'a' --> tensor([[-0.3993,  0.5711, -0.8616],\n",
       "│                   [-1.5161, -0.8944,  0.9104]])\n",
       "└── 'x' --> <FastTreeValue 0x7f79ccb9fa90>\n",
       "    └── 'c' --> tensor([[-2.4282,  0.9441,  1.3813,  0.0628],\n",
       "                        [ 0.7096,  1.3556,  0.2609,  0.7877],\n",
       "                        [ 1.4012,  0.9883, -1.0126,  0.8055]])"
      ]
     },
     "execution_count": 3,
     "metadata": {},
     "output_type": "execute_result"
    }
   ],
   "source": [
    "t"
   ]
  },
  {
   "cell_type": "code",
   "execution_count": 4,
   "id": "fd70b0b9",
   "metadata": {
    "execution": {
     "iopub.execute_input": "2023-02-27T12:14:16.491342Z",
     "iopub.status.busy": "2023-02-27T12:14:16.490896Z",
     "iopub.status.idle": "2023-02-27T12:14:16.497731Z",
     "shell.execute_reply": "2023-02-27T12:14:16.497036Z"
    }
   },
   "outputs": [
    {
     "data": {
      "text/plain": [
       "tensor([[-0.3993,  0.5711, -0.8616],\n",
       "        [-1.5161, -0.8944,  0.9104]])"
      ]
     },
     "execution_count": 4,
     "metadata": {},
     "output_type": "execute_result"
    }
   ],
   "source": [
    "t.a"
   ]
  },
  {
   "cell_type": "code",
   "execution_count": 5,
   "id": "c18197bd",
   "metadata": {
    "execution": {
     "iopub.execute_input": "2023-02-27T12:14:16.501337Z",
     "iopub.status.busy": "2023-02-27T12:14:16.500623Z",
     "iopub.status.idle": "2023-02-27T12:14:22.674197Z",
     "shell.execute_reply": "2023-02-27T12:14:22.672902Z"
    }
   },
   "outputs": [
    {
     "name": "stdout",
     "output_type": "stream",
     "text": [
      "75.9 ns ± 0.219 ns per loop (mean ± std. dev. of 7 runs, 10,000,000 loops each)\n"
     ]
    }
   ],
   "source": [
    "%timeit t.a"
   ]
  },
  {
   "cell_type": "code",
   "execution_count": 6,
   "id": "bd52f867",
   "metadata": {
    "execution": {
     "iopub.execute_input": "2023-02-27T12:14:22.679095Z",
     "iopub.status.busy": "2023-02-27T12:14:22.678253Z",
     "iopub.status.idle": "2023-02-27T12:14:22.686703Z",
     "shell.execute_reply": "2023-02-27T12:14:22.685929Z"
    }
   },
   "outputs": [
    {
     "data": {
      "text/plain": [
       "<FastTreeValue 0x7f79ccb9f910>\n",
       "├── 'a' --> tensor([[ 2.7844,  0.0888,  2.1943],\n",
       "│                   [-0.5524,  0.9798,  0.1308]])\n",
       "└── 'x' --> <FastTreeValue 0x7f79ccb9fa90>\n",
       "    └── 'c' --> tensor([[-2.4282,  0.9441,  1.3813,  0.0628],\n",
       "                        [ 0.7096,  1.3556,  0.2609,  0.7877],\n",
       "                        [ 1.4012,  0.9883, -1.0126,  0.8055]])"
      ]
     },
     "execution_count": 6,
     "metadata": {},
     "output_type": "execute_result"
    }
   ],
   "source": [
    "new_value = torch.randn(2, 3)\n",
    "t.a = new_value\n",
    "\n",
    "t"
   ]
  },
  {
   "cell_type": "code",
   "execution_count": 7,
   "id": "bbe04d1c",
   "metadata": {
    "execution": {
     "iopub.execute_input": "2023-02-27T12:14:22.690178Z",
     "iopub.status.busy": "2023-02-27T12:14:22.689485Z",
     "iopub.status.idle": "2023-02-27T12:14:29.335950Z",
     "shell.execute_reply": "2023-02-27T12:14:29.334976Z"
    }
   },
   "outputs": [
    {
     "name": "stdout",
     "output_type": "stream",
     "text": [
      "81.2 ns ± 0.387 ns per loop (mean ± std. dev. of 7 runs, 10,000,000 loops each)\n"
     ]
    }
   ],
   "source": [
    "%timeit t.a = new_value"
   ]
  },
  {
   "cell_type": "markdown",
   "id": "48c49731",
   "metadata": {},
   "source": [
    "### Tianshou Batch's Get and Set"
   ]
  },
  {
   "cell_type": "code",
   "execution_count": 8,
   "id": "f1bb14c1",
   "metadata": {
    "execution": {
     "iopub.execute_input": "2023-02-27T12:14:29.339723Z",
     "iopub.status.busy": "2023-02-27T12:14:29.339158Z",
     "iopub.status.idle": "2023-02-27T12:14:29.762982Z",
     "shell.execute_reply": "2023-02-27T12:14:29.762031Z"
    }
   },
   "outputs": [],
   "source": [
    "from tianshou.data import Batch\n",
    "\n",
    "b = Batch(**_TREE_DATA_2)"
   ]
  },
  {
   "cell_type": "code",
   "execution_count": 9,
   "id": "cb0777c3",
   "metadata": {
    "execution": {
     "iopub.execute_input": "2023-02-27T12:14:29.767370Z",
     "iopub.status.busy": "2023-02-27T12:14:29.766520Z",
     "iopub.status.idle": "2023-02-27T12:14:29.774540Z",
     "shell.execute_reply": "2023-02-27T12:14:29.773607Z"
    }
   },
   "outputs": [
    {
     "data": {
      "text/plain": [
       "Batch(\n",
       "    a: tensor([[-0.3993,  0.5711, -0.8616],\n",
       "               [-1.5161, -0.8944,  0.9104]]),\n",
       "    x: Batch(\n",
       "           c: tensor([[-2.4282,  0.9441,  1.3813,  0.0628],\n",
       "                      [ 0.7096,  1.3556,  0.2609,  0.7877],\n",
       "                      [ 1.4012,  0.9883, -1.0126,  0.8055]]),\n",
       "       ),\n",
       ")"
      ]
     },
     "execution_count": 9,
     "metadata": {},
     "output_type": "execute_result"
    }
   ],
   "source": [
    "b"
   ]
  },
  {
   "cell_type": "code",
   "execution_count": 10,
   "id": "43ef8ea3",
   "metadata": {
    "execution": {
     "iopub.execute_input": "2023-02-27T12:14:29.778241Z",
     "iopub.status.busy": "2023-02-27T12:14:29.777510Z",
     "iopub.status.idle": "2023-02-27T12:14:29.783639Z",
     "shell.execute_reply": "2023-02-27T12:14:29.782878Z"
    }
   },
   "outputs": [
    {
     "data": {
      "text/plain": [
       "tensor([[-0.3993,  0.5711, -0.8616],\n",
       "        [-1.5161, -0.8944,  0.9104]])"
      ]
     },
     "execution_count": 10,
     "metadata": {},
     "output_type": "execute_result"
    }
   ],
   "source": [
    "b.a"
   ]
  },
  {
   "cell_type": "code",
   "execution_count": 11,
   "id": "b785ab72",
   "metadata": {
    "execution": {
     "iopub.execute_input": "2023-02-27T12:14:29.786913Z",
     "iopub.status.busy": "2023-02-27T12:14:29.786403Z",
     "iopub.status.idle": "2023-02-27T12:14:35.595253Z",
     "shell.execute_reply": "2023-02-27T12:14:35.594349Z"
    }
   },
   "outputs": [
    {
     "name": "stdout",
     "output_type": "stream",
     "text": [
      "71.7 ns ± 0.317 ns per loop (mean ± std. dev. of 7 runs, 10,000,000 loops each)\n"
     ]
    }
   ],
   "source": [
    "%timeit b.a"
   ]
  },
  {
   "cell_type": "code",
   "execution_count": 12,
   "id": "ad54dc69",
   "metadata": {
    "execution": {
     "iopub.execute_input": "2023-02-27T12:14:35.598834Z",
     "iopub.status.busy": "2023-02-27T12:14:35.598296Z",
     "iopub.status.idle": "2023-02-27T12:14:35.605371Z",
     "shell.execute_reply": "2023-02-27T12:14:35.604552Z"
    }
   },
   "outputs": [
    {
     "data": {
      "text/plain": [
       "Batch(\n",
       "    a: tensor([[-1.7674,  1.2302, -0.2219],\n",
       "               [ 3.1176, -0.2670,  0.2041]]),\n",
       "    x: Batch(\n",
       "           c: tensor([[-2.4282,  0.9441,  1.3813,  0.0628],\n",
       "                      [ 0.7096,  1.3556,  0.2609,  0.7877],\n",
       "                      [ 1.4012,  0.9883, -1.0126,  0.8055]]),\n",
       "       ),\n",
       ")"
      ]
     },
     "execution_count": 12,
     "metadata": {},
     "output_type": "execute_result"
    }
   ],
   "source": [
    "new_value = torch.randn(2, 3)\n",
    "b.a = new_value\n",
    "\n",
    "b"
   ]
  },
  {
   "cell_type": "code",
   "execution_count": 13,
   "id": "29b1d0bf",
   "metadata": {
    "execution": {
     "iopub.execute_input": "2023-02-27T12:14:35.608572Z",
     "iopub.status.busy": "2023-02-27T12:14:35.608060Z",
     "iopub.status.idle": "2023-02-27T12:14:40.357603Z",
     "shell.execute_reply": "2023-02-27T12:14:40.356453Z"
    }
   },
   "outputs": [
    {
     "name": "stdout",
     "output_type": "stream",
     "text": [
      "583 ns ± 2.81 ns per loop (mean ± std. dev. of 7 runs, 1,000,000 loops each)\n"
     ]
    }
   ],
   "source": [
    "%timeit b.a = new_value"
   ]
  },
  {
   "cell_type": "markdown",
   "id": "b61ad1d0",
   "metadata": {},
   "source": [
    "## Initialization"
   ]
  },
  {
   "cell_type": "markdown",
   "id": "d70f0d54",
   "metadata": {},
   "source": [
    "### TreeValue's Initialization"
   ]
  },
  {
   "cell_type": "code",
   "execution_count": 14,
   "id": "d32a679b",
   "metadata": {
    "execution": {
     "iopub.execute_input": "2023-02-27T12:14:40.361796Z",
     "iopub.status.busy": "2023-02-27T12:14:40.361031Z",
     "iopub.status.idle": "2023-02-27T12:14:48.356929Z",
     "shell.execute_reply": "2023-02-27T12:14:48.355908Z"
    }
   },
   "outputs": [
    {
     "name": "stdout",
     "output_type": "stream",
     "text": [
      "985 ns ± 3.43 ns per loop (mean ± std. dev. of 7 runs, 1,000,000 loops each)\n"
     ]
    }
   ],
   "source": [
    "%timeit FastTreeValue(_TREE_DATA_1)"
   ]
  },
  {
   "cell_type": "markdown",
   "id": "24f3707b",
   "metadata": {},
   "source": [
    "### Tianshou Batch's Initialization"
   ]
  },
  {
   "cell_type": "code",
   "execution_count": 15,
   "id": "ac3958df",
   "metadata": {
    "execution": {
     "iopub.execute_input": "2023-02-27T12:14:48.361075Z",
     "iopub.status.busy": "2023-02-27T12:14:48.360307Z",
     "iopub.status.idle": "2023-02-27T12:14:58.238489Z",
     "shell.execute_reply": "2023-02-27T12:14:58.237189Z"
    }
   },
   "outputs": [
    {
     "name": "stdout",
     "output_type": "stream",
     "text": [
      "12.2 µs ± 49 ns per loop (mean ± std. dev. of 7 runs, 100,000 loops each)\n"
     ]
    }
   ],
   "source": [
    "%timeit Batch(**_TREE_DATA_1)"
   ]
  },
  {
   "cell_type": "markdown",
   "id": "1ab82e2d",
   "metadata": {},
   "source": [
    "## Deep Copy Operation"
   ]
  },
  {
   "cell_type": "code",
   "execution_count": 16,
   "id": "210a9442",
   "metadata": {
    "execution": {
     "iopub.execute_input": "2023-02-27T12:14:58.242993Z",
     "iopub.status.busy": "2023-02-27T12:14:58.242162Z",
     "iopub.status.idle": "2023-02-27T12:14:58.247433Z",
     "shell.execute_reply": "2023-02-27T12:14:58.246390Z"
    }
   },
   "outputs": [],
   "source": [
    "import copy"
   ]
  },
  {
   "cell_type": "markdown",
   "id": "5a736274",
   "metadata": {},
   "source": [
    "### Deep Copy of TreeValue"
   ]
  },
  {
   "cell_type": "code",
   "execution_count": 17,
   "id": "f9bcadd6",
   "metadata": {
    "execution": {
     "iopub.execute_input": "2023-02-27T12:14:58.251337Z",
     "iopub.status.busy": "2023-02-27T12:14:58.250600Z",
     "iopub.status.idle": "2023-02-27T12:15:11.952031Z",
     "shell.execute_reply": "2023-02-27T12:15:11.951173Z"
    }
   },
   "outputs": [
    {
     "name": "stdout",
     "output_type": "stream",
     "text": [
      "166 µs ± 1.87 µs per loop (mean ± std. dev. of 7 runs, 10,000 loops each)\n"
     ]
    }
   ],
   "source": [
    "t3 = FastTreeValue(_TREE_DATA_3)\n",
    "%timeit copy.deepcopy(t3)"
   ]
  },
  {
   "cell_type": "markdown",
   "id": "bf8be7ea",
   "metadata": {},
   "source": [
    "### Deep Copy of Tianshou Batch"
   ]
  },
  {
   "cell_type": "code",
   "execution_count": 18,
   "id": "91998e6f",
   "metadata": {
    "execution": {
     "iopub.execute_input": "2023-02-27T12:15:11.955649Z",
     "iopub.status.busy": "2023-02-27T12:15:11.955178Z",
     "iopub.status.idle": "2023-02-27T12:15:25.451655Z",
     "shell.execute_reply": "2023-02-27T12:15:25.450751Z"
    }
   },
   "outputs": [
    {
     "name": "stdout",
     "output_type": "stream",
     "text": [
      "166 µs ± 1.93 µs per loop (mean ± std. dev. of 7 runs, 10,000 loops each)\n"
     ]
    }
   ],
   "source": [
    "b3 = Batch(**_TREE_DATA_3)\n",
    "%timeit copy.deepcopy(b3)"
   ]
  },
  {
   "cell_type": "markdown",
   "id": "223162fb",
   "metadata": {},
   "source": [
    "## Stack, Concat and Split Operation"
   ]
  },
  {
   "cell_type": "markdown",
   "id": "85fa4a73",
   "metadata": {},
   "source": [
    "### Performance of TreeValue"
   ]
  },
  {
   "cell_type": "code",
   "execution_count": 19,
   "id": "a0c2b697",
   "metadata": {
    "execution": {
     "iopub.execute_input": "2023-02-27T12:15:25.455575Z",
     "iopub.status.busy": "2023-02-27T12:15:25.455099Z",
     "iopub.status.idle": "2023-02-27T12:15:25.460004Z",
     "shell.execute_reply": "2023-02-27T12:15:25.459275Z"
    }
   },
   "outputs": [],
   "source": [
    "trees = [FastTreeValue(_TREE_DATA_2) for _ in range(8)]"
   ]
  },
  {
   "cell_type": "code",
   "execution_count": 20,
   "id": "017ea5a5",
   "metadata": {
    "execution": {
     "iopub.execute_input": "2023-02-27T12:15:25.463086Z",
     "iopub.status.busy": "2023-02-27T12:15:25.462813Z",
     "iopub.status.idle": "2023-02-27T12:15:25.472456Z",
     "shell.execute_reply": "2023-02-27T12:15:25.471563Z"
    }
   },
   "outputs": [
    {
     "data": {
      "text/plain": [
       "<FastTreeValue 0x7f799ffd9280>\n",
       "├── 'a' --> tensor([[[-0.3993,  0.5711, -0.8616],\n",
       "│                    [-1.5161, -0.8944,  0.9104]],\n",
       "│           \n",
       "│                   [[-0.3993,  0.5711, -0.8616],\n",
       "│                    [-1.5161, -0.8944,  0.9104]],\n",
       "│           \n",
       "│                   [[-0.3993,  0.5711, -0.8616],\n",
       "│                    [-1.5161, -0.8944,  0.9104]],\n",
       "│           \n",
       "│                   [[-0.3993,  0.5711, -0.8616],\n",
       "│                    [-1.5161, -0.8944,  0.9104]],\n",
       "│           \n",
       "│                   [[-0.3993,  0.5711, -0.8616],\n",
       "│                    [-1.5161, -0.8944,  0.9104]],\n",
       "│           \n",
       "│                   [[-0.3993,  0.5711, -0.8616],\n",
       "│                    [-1.5161, -0.8944,  0.9104]],\n",
       "│           \n",
       "│                   [[-0.3993,  0.5711, -0.8616],\n",
       "│                    [-1.5161, -0.8944,  0.9104]],\n",
       "│           \n",
       "│                   [[-0.3993,  0.5711, -0.8616],\n",
       "│                    [-1.5161, -0.8944,  0.9104]]])\n",
       "└── 'x' --> <FastTreeValue 0x7f7917e3bac0>\n",
       "    └── 'c' --> tensor([[[-2.4282,  0.9441,  1.3813,  0.0628],\n",
       "                         [ 0.7096,  1.3556,  0.2609,  0.7877],\n",
       "                         [ 1.4012,  0.9883, -1.0126,  0.8055]],\n",
       "                \n",
       "                        [[-2.4282,  0.9441,  1.3813,  0.0628],\n",
       "                         [ 0.7096,  1.3556,  0.2609,  0.7877],\n",
       "                         [ 1.4012,  0.9883, -1.0126,  0.8055]],\n",
       "                \n",
       "                        [[-2.4282,  0.9441,  1.3813,  0.0628],\n",
       "                         [ 0.7096,  1.3556,  0.2609,  0.7877],\n",
       "                         [ 1.4012,  0.9883, -1.0126,  0.8055]],\n",
       "                \n",
       "                        [[-2.4282,  0.9441,  1.3813,  0.0628],\n",
       "                         [ 0.7096,  1.3556,  0.2609,  0.7877],\n",
       "                         [ 1.4012,  0.9883, -1.0126,  0.8055]],\n",
       "                \n",
       "                        [[-2.4282,  0.9441,  1.3813,  0.0628],\n",
       "                         [ 0.7096,  1.3556,  0.2609,  0.7877],\n",
       "                         [ 1.4012,  0.9883, -1.0126,  0.8055]],\n",
       "                \n",
       "                        [[-2.4282,  0.9441,  1.3813,  0.0628],\n",
       "                         [ 0.7096,  1.3556,  0.2609,  0.7877],\n",
       "                         [ 1.4012,  0.9883, -1.0126,  0.8055]],\n",
       "                \n",
       "                        [[-2.4282,  0.9441,  1.3813,  0.0628],\n",
       "                         [ 0.7096,  1.3556,  0.2609,  0.7877],\n",
       "                         [ 1.4012,  0.9883, -1.0126,  0.8055]],\n",
       "                \n",
       "                        [[-2.4282,  0.9441,  1.3813,  0.0628],\n",
       "                         [ 0.7096,  1.3556,  0.2609,  0.7877],\n",
       "                         [ 1.4012,  0.9883, -1.0126,  0.8055]]])"
      ]
     },
     "execution_count": 20,
     "metadata": {},
     "output_type": "execute_result"
    }
   ],
   "source": [
    "t_stack = FastTreeValue.func(subside=True)(torch.stack)\n",
    "\n",
    "t_stack(trees)"
   ]
  },
  {
   "cell_type": "code",
   "execution_count": 21,
   "id": "f8b3f415",
   "metadata": {
    "execution": {
     "iopub.execute_input": "2023-02-27T12:15:25.475913Z",
     "iopub.status.busy": "2023-02-27T12:15:25.475313Z",
     "iopub.status.idle": "2023-02-27T12:15:28.528799Z",
     "shell.execute_reply": "2023-02-27T12:15:28.527917Z"
    }
   },
   "outputs": [
    {
     "name": "stdout",
     "output_type": "stream",
     "text": [
      "37.6 µs ± 184 ns per loop (mean ± std. dev. of 7 runs, 10,000 loops each)\n"
     ]
    }
   ],
   "source": [
    "%timeit t_stack(trees)"
   ]
  },
  {
   "cell_type": "code",
   "execution_count": 22,
   "id": "94b56771",
   "metadata": {
    "execution": {
     "iopub.execute_input": "2023-02-27T12:15:28.532965Z",
     "iopub.status.busy": "2023-02-27T12:15:28.532358Z",
     "iopub.status.idle": "2023-02-27T12:15:28.542022Z",
     "shell.execute_reply": "2023-02-27T12:15:28.541297Z"
    }
   },
   "outputs": [
    {
     "data": {
      "text/plain": [
       "<FastTreeValue 0x7f79ccc0cf10>\n",
       "├── 'a' --> tensor([[-0.3993,  0.5711, -0.8616],\n",
       "│                   [-1.5161, -0.8944,  0.9104],\n",
       "│                   [-0.3993,  0.5711, -0.8616],\n",
       "│                   [-1.5161, -0.8944,  0.9104],\n",
       "│                   [-0.3993,  0.5711, -0.8616],\n",
       "│                   [-1.5161, -0.8944,  0.9104],\n",
       "│                   [-0.3993,  0.5711, -0.8616],\n",
       "│                   [-1.5161, -0.8944,  0.9104],\n",
       "│                   [-0.3993,  0.5711, -0.8616],\n",
       "│                   [-1.5161, -0.8944,  0.9104],\n",
       "│                   [-0.3993,  0.5711, -0.8616],\n",
       "│                   [-1.5161, -0.8944,  0.9104],\n",
       "│                   [-0.3993,  0.5711, -0.8616],\n",
       "│                   [-1.5161, -0.8944,  0.9104],\n",
       "│                   [-0.3993,  0.5711, -0.8616],\n",
       "│                   [-1.5161, -0.8944,  0.9104]])\n",
       "└── 'x' --> <FastTreeValue 0x7f79ccb64520>\n",
       "    └── 'c' --> tensor([[-2.4282,  0.9441,  1.3813,  0.0628],\n",
       "                        [ 0.7096,  1.3556,  0.2609,  0.7877],\n",
       "                        [ 1.4012,  0.9883, -1.0126,  0.8055],\n",
       "                        [-2.4282,  0.9441,  1.3813,  0.0628],\n",
       "                        [ 0.7096,  1.3556,  0.2609,  0.7877],\n",
       "                        [ 1.4012,  0.9883, -1.0126,  0.8055],\n",
       "                        [-2.4282,  0.9441,  1.3813,  0.0628],\n",
       "                        [ 0.7096,  1.3556,  0.2609,  0.7877],\n",
       "                        [ 1.4012,  0.9883, -1.0126,  0.8055],\n",
       "                        [-2.4282,  0.9441,  1.3813,  0.0628],\n",
       "                        [ 0.7096,  1.3556,  0.2609,  0.7877],\n",
       "                        [ 1.4012,  0.9883, -1.0126,  0.8055],\n",
       "                        [-2.4282,  0.9441,  1.3813,  0.0628],\n",
       "                        [ 0.7096,  1.3556,  0.2609,  0.7877],\n",
       "                        [ 1.4012,  0.9883, -1.0126,  0.8055],\n",
       "                        [-2.4282,  0.9441,  1.3813,  0.0628],\n",
       "                        [ 0.7096,  1.3556,  0.2609,  0.7877],\n",
       "                        [ 1.4012,  0.9883, -1.0126,  0.8055],\n",
       "                        [-2.4282,  0.9441,  1.3813,  0.0628],\n",
       "                        [ 0.7096,  1.3556,  0.2609,  0.7877],\n",
       "                        [ 1.4012,  0.9883, -1.0126,  0.8055],\n",
       "                        [-2.4282,  0.9441,  1.3813,  0.0628],\n",
       "                        [ 0.7096,  1.3556,  0.2609,  0.7877],\n",
       "                        [ 1.4012,  0.9883, -1.0126,  0.8055]])"
      ]
     },
     "execution_count": 22,
     "metadata": {},
     "output_type": "execute_result"
    }
   ],
   "source": [
    "t_cat = FastTreeValue.func(subside=True)(torch.cat)\n",
    "\n",
    "t_cat(trees)"
   ]
  },
  {
   "cell_type": "code",
   "execution_count": 23,
   "id": "5e9c06a6",
   "metadata": {
    "execution": {
     "iopub.execute_input": "2023-02-27T12:15:28.546073Z",
     "iopub.status.busy": "2023-02-27T12:15:28.545361Z",
     "iopub.status.idle": "2023-02-27T12:15:31.530439Z",
     "shell.execute_reply": "2023-02-27T12:15:31.529501Z"
    }
   },
   "outputs": [
    {
     "name": "stdout",
     "output_type": "stream",
     "text": [
      "36.4 µs ± 1.56 µs per loop (mean ± std. dev. of 7 runs, 10,000 loops each)\n"
     ]
    }
   ],
   "source": [
    "%timeit t_cat(trees)"
   ]
  },
  {
   "cell_type": "code",
   "execution_count": 24,
   "id": "a3ab5c8f",
   "metadata": {
    "execution": {
     "iopub.execute_input": "2023-02-27T12:15:31.534249Z",
     "iopub.status.busy": "2023-02-27T12:15:31.533612Z",
     "iopub.status.idle": "2023-02-27T12:15:36.774501Z",
     "shell.execute_reply": "2023-02-27T12:15:36.773457Z"
    }
   },
   "outputs": [
    {
     "name": "stdout",
     "output_type": "stream",
     "text": [
      "64.4 µs ± 265 ns per loop (mean ± std. dev. of 7 runs, 10,000 loops each)\n"
     ]
    }
   ],
   "source": [
    "t_split = FastTreeValue.func(rise=True)(torch.split)\n",
    "tree = FastTreeValue({\n",
    "    'obs': torch.randn(8, 4, 84, 84),\n",
    "    'action': torch.randint(0, 6, size=(8, 1,)),\n",
    "    'reward': torch.rand(8, 1),\n",
    "})\n",
    "\n",
    "%timeit t_split(tree, 1)"
   ]
  },
  {
   "cell_type": "markdown",
   "id": "31c3ec0b",
   "metadata": {},
   "source": [
    "### Performance of Tianshou Batch"
   ]
  },
  {
   "cell_type": "code",
   "execution_count": 25,
   "id": "9ead828a",
   "metadata": {
    "execution": {
     "iopub.execute_input": "2023-02-27T12:15:36.777982Z",
     "iopub.status.busy": "2023-02-27T12:15:36.777693Z",
     "iopub.status.idle": "2023-02-27T12:15:36.787133Z",
     "shell.execute_reply": "2023-02-27T12:15:36.786358Z"
    }
   },
   "outputs": [
    {
     "data": {
      "text/plain": [
       "Batch(\n",
       "    x: Batch(\n",
       "           c: tensor([[[-2.4282,  0.9441,  1.3813,  0.0628],\n",
       "                       [ 0.7096,  1.3556,  0.2609,  0.7877],\n",
       "                       [ 1.4012,  0.9883, -1.0126,  0.8055]],\n",
       "              \n",
       "                      [[-2.4282,  0.9441,  1.3813,  0.0628],\n",
       "                       [ 0.7096,  1.3556,  0.2609,  0.7877],\n",
       "                       [ 1.4012,  0.9883, -1.0126,  0.8055]],\n",
       "              \n",
       "                      [[-2.4282,  0.9441,  1.3813,  0.0628],\n",
       "                       [ 0.7096,  1.3556,  0.2609,  0.7877],\n",
       "                       [ 1.4012,  0.9883, -1.0126,  0.8055]],\n",
       "              \n",
       "                      [[-2.4282,  0.9441,  1.3813,  0.0628],\n",
       "                       [ 0.7096,  1.3556,  0.2609,  0.7877],\n",
       "                       [ 1.4012,  0.9883, -1.0126,  0.8055]],\n",
       "              \n",
       "                      [[-2.4282,  0.9441,  1.3813,  0.0628],\n",
       "                       [ 0.7096,  1.3556,  0.2609,  0.7877],\n",
       "                       [ 1.4012,  0.9883, -1.0126,  0.8055]],\n",
       "              \n",
       "                      [[-2.4282,  0.9441,  1.3813,  0.0628],\n",
       "                       [ 0.7096,  1.3556,  0.2609,  0.7877],\n",
       "                       [ 1.4012,  0.9883, -1.0126,  0.8055]],\n",
       "              \n",
       "                      [[-2.4282,  0.9441,  1.3813,  0.0628],\n",
       "                       [ 0.7096,  1.3556,  0.2609,  0.7877],\n",
       "                       [ 1.4012,  0.9883, -1.0126,  0.8055]],\n",
       "              \n",
       "                      [[-2.4282,  0.9441,  1.3813,  0.0628],\n",
       "                       [ 0.7096,  1.3556,  0.2609,  0.7877],\n",
       "                       [ 1.4012,  0.9883, -1.0126,  0.8055]]]),\n",
       "       ),\n",
       "    a: tensor([[[-0.3993,  0.5711, -0.8616],\n",
       "                [-1.5161, -0.8944,  0.9104]],\n",
       "       \n",
       "               [[-0.3993,  0.5711, -0.8616],\n",
       "                [-1.5161, -0.8944,  0.9104]],\n",
       "       \n",
       "               [[-0.3993,  0.5711, -0.8616],\n",
       "                [-1.5161, -0.8944,  0.9104]],\n",
       "       \n",
       "               [[-0.3993,  0.5711, -0.8616],\n",
       "                [-1.5161, -0.8944,  0.9104]],\n",
       "       \n",
       "               [[-0.3993,  0.5711, -0.8616],\n",
       "                [-1.5161, -0.8944,  0.9104]],\n",
       "       \n",
       "               [[-0.3993,  0.5711, -0.8616],\n",
       "                [-1.5161, -0.8944,  0.9104]],\n",
       "       \n",
       "               [[-0.3993,  0.5711, -0.8616],\n",
       "                [-1.5161, -0.8944,  0.9104]],\n",
       "       \n",
       "               [[-0.3993,  0.5711, -0.8616],\n",
       "                [-1.5161, -0.8944,  0.9104]]]),\n",
       ")"
      ]
     },
     "execution_count": 25,
     "metadata": {},
     "output_type": "execute_result"
    }
   ],
   "source": [
    "batches = [Batch(**_TREE_DATA_2) for _ in range(8)]\n",
    "\n",
    "Batch.stack(batches)"
   ]
  },
  {
   "cell_type": "code",
   "execution_count": 26,
   "id": "ec9037a3",
   "metadata": {
    "execution": {
     "iopub.execute_input": "2023-02-27T12:15:36.790826Z",
     "iopub.status.busy": "2023-02-27T12:15:36.790151Z",
     "iopub.status.idle": "2023-02-27T12:15:44.066896Z",
     "shell.execute_reply": "2023-02-27T12:15:44.065648Z"
    }
   },
   "outputs": [
    {
     "name": "stdout",
     "output_type": "stream",
     "text": [
      "89.5 µs ± 455 ns per loop (mean ± std. dev. of 7 runs, 10,000 loops each)\n"
     ]
    }
   ],
   "source": [
    "%timeit Batch.stack(batches)"
   ]
  },
  {
   "cell_type": "code",
   "execution_count": 27,
   "id": "cb8ab77e",
   "metadata": {
    "execution": {
     "iopub.execute_input": "2023-02-27T12:15:44.071782Z",
     "iopub.status.busy": "2023-02-27T12:15:44.070899Z",
     "iopub.status.idle": "2023-02-27T12:15:44.081119Z",
     "shell.execute_reply": "2023-02-27T12:15:44.080345Z"
    }
   },
   "outputs": [
    {
     "data": {
      "text/plain": [
       "Batch(\n",
       "    x: Batch(\n",
       "           c: tensor([[-2.4282,  0.9441,  1.3813,  0.0628],\n",
       "                      [ 0.7096,  1.3556,  0.2609,  0.7877],\n",
       "                      [ 1.4012,  0.9883, -1.0126,  0.8055],\n",
       "                      [-2.4282,  0.9441,  1.3813,  0.0628],\n",
       "                      [ 0.7096,  1.3556,  0.2609,  0.7877],\n",
       "                      [ 1.4012,  0.9883, -1.0126,  0.8055],\n",
       "                      [-2.4282,  0.9441,  1.3813,  0.0628],\n",
       "                      [ 0.7096,  1.3556,  0.2609,  0.7877],\n",
       "                      [ 1.4012,  0.9883, -1.0126,  0.8055],\n",
       "                      [-2.4282,  0.9441,  1.3813,  0.0628],\n",
       "                      [ 0.7096,  1.3556,  0.2609,  0.7877],\n",
       "                      [ 1.4012,  0.9883, -1.0126,  0.8055],\n",
       "                      [-2.4282,  0.9441,  1.3813,  0.0628],\n",
       "                      [ 0.7096,  1.3556,  0.2609,  0.7877],\n",
       "                      [ 1.4012,  0.9883, -1.0126,  0.8055],\n",
       "                      [-2.4282,  0.9441,  1.3813,  0.0628],\n",
       "                      [ 0.7096,  1.3556,  0.2609,  0.7877],\n",
       "                      [ 1.4012,  0.9883, -1.0126,  0.8055],\n",
       "                      [-2.4282,  0.9441,  1.3813,  0.0628],\n",
       "                      [ 0.7096,  1.3556,  0.2609,  0.7877],\n",
       "                      [ 1.4012,  0.9883, -1.0126,  0.8055],\n",
       "                      [-2.4282,  0.9441,  1.3813,  0.0628],\n",
       "                      [ 0.7096,  1.3556,  0.2609,  0.7877],\n",
       "                      [ 1.4012,  0.9883, -1.0126,  0.8055]]),\n",
       "       ),\n",
       "    a: tensor([[-0.3993,  0.5711, -0.8616],\n",
       "               [-1.5161, -0.8944,  0.9104],\n",
       "               [-0.3993,  0.5711, -0.8616],\n",
       "               [-1.5161, -0.8944,  0.9104],\n",
       "               [-0.3993,  0.5711, -0.8616],\n",
       "               [-1.5161, -0.8944,  0.9104],\n",
       "               [-0.3993,  0.5711, -0.8616],\n",
       "               [-1.5161, -0.8944,  0.9104],\n",
       "               [-0.3993,  0.5711, -0.8616],\n",
       "               [-1.5161, -0.8944,  0.9104],\n",
       "               [-0.3993,  0.5711, -0.8616],\n",
       "               [-1.5161, -0.8944,  0.9104],\n",
       "               [-0.3993,  0.5711, -0.8616],\n",
       "               [-1.5161, -0.8944,  0.9104],\n",
       "               [-0.3993,  0.5711, -0.8616],\n",
       "               [-1.5161, -0.8944,  0.9104]]),\n",
       ")"
      ]
     },
     "execution_count": 27,
     "metadata": {},
     "output_type": "execute_result"
    }
   ],
   "source": [
    "Batch.cat(batches)"
   ]
  },
  {
   "cell_type": "code",
   "execution_count": 28,
   "id": "18dfb045",
   "metadata": {
    "execution": {
     "iopub.execute_input": "2023-02-27T12:15:44.084160Z",
     "iopub.status.busy": "2023-02-27T12:15:44.083858Z",
     "iopub.status.idle": "2023-02-27T12:15:57.450299Z",
     "shell.execute_reply": "2023-02-27T12:15:57.449365Z"
    }
   },
   "outputs": [
    {
     "name": "stdout",
     "output_type": "stream",
     "text": [
      "164 µs ± 839 ns per loop (mean ± std. dev. of 7 runs, 10,000 loops each)\n"
     ]
    }
   ],
   "source": [
    "%timeit Batch.cat(batches)"
   ]
  },
  {
   "cell_type": "code",
   "execution_count": 29,
   "id": "c6688e51",
   "metadata": {
    "execution": {
     "iopub.execute_input": "2023-02-27T12:15:57.454011Z",
     "iopub.status.busy": "2023-02-27T12:15:57.453561Z",
     "iopub.status.idle": "2023-02-27T12:16:00.447804Z",
     "shell.execute_reply": "2023-02-27T12:16:00.446947Z"
    }
   },
   "outputs": [
    {
     "name": "stdout",
     "output_type": "stream",
     "text": [
      "366 µs ± 2.34 µs per loop (mean ± std. dev. of 7 runs, 1,000 loops each)\n"
     ]
    }
   ],
   "source": [
    "batch = Batch({\n",
    "    'obs': torch.randn(8, 4, 84, 84),\n",
    "    'action': torch.randint(0, 6, size=(8, 1,)),\n",
    "    'reward': torch.rand(8, 1)}\n",
    ")\n",
    "\n",
    "%timeit list(Batch.split(batch, 1, shuffle=False, merge_last=True))"
   ]
  },
  {
   "cell_type": "code",
   "execution_count": null,
   "id": "2539fbd9",
   "metadata": {},
   "outputs": [],
   "source": []
  }
 ],
 "metadata": {
  "kernelspec": {
   "display_name": "Python 3 (ipykernel)",
   "language": "python",
   "name": "python3"
  },
  "language_info": {
   "codemirror_mode": {
    "name": "ipython",
    "version": 3
   },
   "file_extension": ".py",
   "mimetype": "text/x-python",
   "name": "python",
   "nbconvert_exporter": "python",
   "pygments_lexer": "ipython3",
   "version": "3.8.16"
  }
 },
 "nbformat": 4,
 "nbformat_minor": 5
}
