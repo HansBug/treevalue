{
 "cells": [
  {
   "cell_type": "markdown",
   "id": "9d39d946",
   "metadata": {},
   "source": [
    "# Comparison Between TreeValue and Tianshou Batch"
   ]
  },
  {
   "cell_type": "markdown",
   "id": "3c6db2d4",
   "metadata": {},
   "source": [
    "In this section, we will take a look at the feature and performance of the [Tianshou Batch](https://github.com/thu-ml/tianshou) library, which is developed by Tsinghua Machine Learning Group."
   ]
  },
  {
   "cell_type": "markdown",
   "id": "069361b0",
   "metadata": {},
   "source": [
    "Before starting the comparison, let us define some thing."
   ]
  },
  {
   "cell_type": "code",
   "execution_count": 1,
   "id": "06fc8d26",
   "metadata": {
    "execution": {
     "iopub.execute_input": "2023-02-27T12:36:27.056663Z",
     "iopub.status.busy": "2023-02-27T12:36:27.056442Z",
     "iopub.status.idle": "2023-02-27T12:36:27.953510Z",
     "shell.execute_reply": "2023-02-27T12:36:27.952849Z"
    }
   },
   "outputs": [
    {
     "name": "stderr",
     "output_type": "stream",
     "text": [
      "/opt/hostedtoolcache/Python/3.8.16/x64/lib/python3.8/site-packages/tqdm/auto.py:22: TqdmWarning: IProgress not found. Please update jupyter and ipywidgets. See https://ipywidgets.readthedocs.io/en/stable/user_install.html\n",
      "  from .autonotebook import tqdm as notebook_tqdm\n"
     ]
    }
   ],
   "source": [
    "import torch \n",
    "\n",
    "_TREE_DATA_1 = {'a': 1, 'b': 2, 'x': {'c': 3, 'd': 4}}\n",
    "_TREE_DATA_2 = {\n",
    "    'a': torch.randn(2, 3), \n",
    "    'x': {\n",
    "        'c': torch.randn(3, 4)\n",
    "    },\n",
    "}\n",
    "_TREE_DATA_3 = {\n",
    "    'obs': torch.randn(4, 84, 84),\n",
    "    'action': torch.randint(0, 6, size=(1,)),\n",
    "    'reward': torch.rand(1),\n",
    "}"
   ]
  },
  {
   "cell_type": "markdown",
   "id": "83461b25",
   "metadata": {},
   "source": [
    "## Read and Write Operation"
   ]
  },
  {
   "cell_type": "markdown",
   "id": "067b3f73",
   "metadata": {},
   "source": [
    "Reading and writing are the two most common operations in the tree data structure based on the data model (TreeValue and Tianshou Batch both belong to this type), so this section will compare the reading and writing performance of these two libraries."
   ]
  },
  {
   "cell_type": "markdown",
   "id": "5d09a5b7",
   "metadata": {},
   "source": [
    "### TreeValue's Get and Set"
   ]
  },
  {
   "cell_type": "code",
   "execution_count": 2,
   "id": "9519c4bb",
   "metadata": {
    "execution": {
     "iopub.execute_input": "2023-02-27T12:36:27.956679Z",
     "iopub.status.busy": "2023-02-27T12:36:27.956084Z",
     "iopub.status.idle": "2023-02-27T12:36:28.233859Z",
     "shell.execute_reply": "2023-02-27T12:36:28.232813Z"
    }
   },
   "outputs": [],
   "source": [
    "from treevalue import FastTreeValue\n",
    "\n",
    "t = FastTreeValue(_TREE_DATA_2)"
   ]
  },
  {
   "cell_type": "code",
   "execution_count": 3,
   "id": "11c37677",
   "metadata": {
    "execution": {
     "iopub.execute_input": "2023-02-27T12:36:28.237117Z",
     "iopub.status.busy": "2023-02-27T12:36:28.236497Z",
     "iopub.status.idle": "2023-02-27T12:36:28.245854Z",
     "shell.execute_reply": "2023-02-27T12:36:28.245262Z"
    }
   },
   "outputs": [
    {
     "data": {
      "text/plain": [
       "<FastTreeValue 0x7f49107a1df0>\n",
       "├── 'a' --> tensor([[ 1.2427, -0.8492, -0.0696],\n",
       "│                   [ 0.6282,  0.9770,  1.4080]])\n",
       "└── 'x' --> <FastTreeValue 0x7f49107a1f40>\n",
       "    └── 'c' --> tensor([[-0.8907,  1.6398, -1.4632, -1.8240],\n",
       "                        [-0.5300,  2.2241,  0.4744, -0.4452],\n",
       "                        [-1.1241,  1.6356,  1.2287, -0.6480]])"
      ]
     },
     "execution_count": 3,
     "metadata": {},
     "output_type": "execute_result"
    }
   ],
   "source": [
    "t"
   ]
  },
  {
   "cell_type": "code",
   "execution_count": 4,
   "id": "fd70b0b9",
   "metadata": {
    "execution": {
     "iopub.execute_input": "2023-02-27T12:36:28.248504Z",
     "iopub.status.busy": "2023-02-27T12:36:28.248174Z",
     "iopub.status.idle": "2023-02-27T12:36:28.253137Z",
     "shell.execute_reply": "2023-02-27T12:36:28.252501Z"
    }
   },
   "outputs": [
    {
     "data": {
      "text/plain": [
       "tensor([[ 1.2427, -0.8492, -0.0696],\n",
       "        [ 0.6282,  0.9770,  1.4080]])"
      ]
     },
     "execution_count": 4,
     "metadata": {},
     "output_type": "execute_result"
    }
   ],
   "source": [
    "t.a"
   ]
  },
  {
   "cell_type": "code",
   "execution_count": 5,
   "id": "c18197bd",
   "metadata": {
    "execution": {
     "iopub.execute_input": "2023-02-27T12:36:28.255513Z",
     "iopub.status.busy": "2023-02-27T12:36:28.255193Z",
     "iopub.status.idle": "2023-02-27T12:36:33.093625Z",
     "shell.execute_reply": "2023-02-27T12:36:33.092896Z"
    }
   },
   "outputs": [
    {
     "name": "stdout",
     "output_type": "stream",
     "text": [
      "59.4 ns ± 0.0565 ns per loop (mean ± std. dev. of 7 runs, 10,000,000 loops each)\n"
     ]
    }
   ],
   "source": [
    "%timeit t.a"
   ]
  },
  {
   "cell_type": "code",
   "execution_count": 6,
   "id": "bd52f867",
   "metadata": {
    "execution": {
     "iopub.execute_input": "2023-02-27T12:36:33.096695Z",
     "iopub.status.busy": "2023-02-27T12:36:33.096236Z",
     "iopub.status.idle": "2023-02-27T12:36:33.103102Z",
     "shell.execute_reply": "2023-02-27T12:36:33.102212Z"
    }
   },
   "outputs": [
    {
     "data": {
      "text/plain": [
       "<FastTreeValue 0x7f49107a1df0>\n",
       "├── 'a' --> tensor([[ 0.0484, -0.3310, -0.2410],\n",
       "│                   [-0.0704, -0.5577, -0.1897]])\n",
       "└── 'x' --> <FastTreeValue 0x7f49107a1f40>\n",
       "    └── 'c' --> tensor([[-0.8907,  1.6398, -1.4632, -1.8240],\n",
       "                        [-0.5300,  2.2241,  0.4744, -0.4452],\n",
       "                        [-1.1241,  1.6356,  1.2287, -0.6480]])"
      ]
     },
     "execution_count": 6,
     "metadata": {},
     "output_type": "execute_result"
    }
   ],
   "source": [
    "new_value = torch.randn(2, 3)\n",
    "t.a = new_value\n",
    "\n",
    "t"
   ]
  },
  {
   "cell_type": "code",
   "execution_count": 7,
   "id": "bbe04d1c",
   "metadata": {
    "execution": {
     "iopub.execute_input": "2023-02-27T12:36:33.105547Z",
     "iopub.status.busy": "2023-02-27T12:36:33.105228Z",
     "iopub.status.idle": "2023-02-27T12:36:37.914319Z",
     "shell.execute_reply": "2023-02-27T12:36:37.913597Z"
    }
   },
   "outputs": [
    {
     "name": "stdout",
     "output_type": "stream",
     "text": [
      "59.2 ns ± 0.0482 ns per loop (mean ± std. dev. of 7 runs, 10,000,000 loops each)\n"
     ]
    }
   ],
   "source": [
    "%timeit t.a = new_value"
   ]
  },
  {
   "cell_type": "markdown",
   "id": "48c49731",
   "metadata": {},
   "source": [
    "### Tianshou Batch's Get and Set"
   ]
  },
  {
   "cell_type": "code",
   "execution_count": 8,
   "id": "f1bb14c1",
   "metadata": {
    "execution": {
     "iopub.execute_input": "2023-02-27T12:36:37.917078Z",
     "iopub.status.busy": "2023-02-27T12:36:37.916706Z",
     "iopub.status.idle": "2023-02-27T12:36:38.240696Z",
     "shell.execute_reply": "2023-02-27T12:36:38.240045Z"
    }
   },
   "outputs": [],
   "source": [
    "from tianshou.data import Batch\n",
    "\n",
    "b = Batch(**_TREE_DATA_2)"
   ]
  },
  {
   "cell_type": "code",
   "execution_count": 9,
   "id": "cb0777c3",
   "metadata": {
    "execution": {
     "iopub.execute_input": "2023-02-27T12:36:38.244758Z",
     "iopub.status.busy": "2023-02-27T12:36:38.243599Z",
     "iopub.status.idle": "2023-02-27T12:36:38.250603Z",
     "shell.execute_reply": "2023-02-27T12:36:38.250027Z"
    }
   },
   "outputs": [
    {
     "data": {
      "text/plain": [
       "Batch(\n",
       "    a: tensor([[ 1.2427, -0.8492, -0.0696],\n",
       "               [ 0.6282,  0.9770,  1.4080]]),\n",
       "    x: Batch(\n",
       "           c: tensor([[-0.8907,  1.6398, -1.4632, -1.8240],\n",
       "                      [-0.5300,  2.2241,  0.4744, -0.4452],\n",
       "                      [-1.1241,  1.6356,  1.2287, -0.6480]]),\n",
       "       ),\n",
       ")"
      ]
     },
     "execution_count": 9,
     "metadata": {},
     "output_type": "execute_result"
    }
   ],
   "source": [
    "b"
   ]
  },
  {
   "cell_type": "code",
   "execution_count": 10,
   "id": "43ef8ea3",
   "metadata": {
    "execution": {
     "iopub.execute_input": "2023-02-27T12:36:38.253169Z",
     "iopub.status.busy": "2023-02-27T12:36:38.252934Z",
     "iopub.status.idle": "2023-02-27T12:36:38.257494Z",
     "shell.execute_reply": "2023-02-27T12:36:38.256852Z"
    }
   },
   "outputs": [
    {
     "data": {
      "text/plain": [
       "tensor([[ 1.2427, -0.8492, -0.0696],\n",
       "        [ 0.6282,  0.9770,  1.4080]])"
      ]
     },
     "execution_count": 10,
     "metadata": {},
     "output_type": "execute_result"
    }
   ],
   "source": [
    "b.a"
   ]
  },
  {
   "cell_type": "code",
   "execution_count": 11,
   "id": "b785ab72",
   "metadata": {
    "execution": {
     "iopub.execute_input": "2023-02-27T12:36:38.259702Z",
     "iopub.status.busy": "2023-02-27T12:36:38.259494Z",
     "iopub.status.idle": "2023-02-27T12:36:42.559296Z",
     "shell.execute_reply": "2023-02-27T12:36:42.558585Z"
    }
   },
   "outputs": [
    {
     "name": "stdout",
     "output_type": "stream",
     "text": [
      "53.1 ns ± 0.0633 ns per loop (mean ± std. dev. of 7 runs, 10,000,000 loops each)\n"
     ]
    }
   ],
   "source": [
    "%timeit b.a"
   ]
  },
  {
   "cell_type": "code",
   "execution_count": 12,
   "id": "ad54dc69",
   "metadata": {
    "execution": {
     "iopub.execute_input": "2023-02-27T12:36:42.562107Z",
     "iopub.status.busy": "2023-02-27T12:36:42.561862Z",
     "iopub.status.idle": "2023-02-27T12:36:42.568090Z",
     "shell.execute_reply": "2023-02-27T12:36:42.567503Z"
    }
   },
   "outputs": [
    {
     "data": {
      "text/plain": [
       "Batch(\n",
       "    a: tensor([[-2.5370, -0.4997,  0.4948],\n",
       "               [-0.8042,  1.1225, -0.9044]]),\n",
       "    x: Batch(\n",
       "           c: tensor([[-0.8907,  1.6398, -1.4632, -1.8240],\n",
       "                      [-0.5300,  2.2241,  0.4744, -0.4452],\n",
       "                      [-1.1241,  1.6356,  1.2287, -0.6480]]),\n",
       "       ),\n",
       ")"
      ]
     },
     "execution_count": 12,
     "metadata": {},
     "output_type": "execute_result"
    }
   ],
   "source": [
    "new_value = torch.randn(2, 3)\n",
    "b.a = new_value\n",
    "\n",
    "b"
   ]
  },
  {
   "cell_type": "code",
   "execution_count": 13,
   "id": "29b1d0bf",
   "metadata": {
    "execution": {
     "iopub.execute_input": "2023-02-27T12:36:42.570741Z",
     "iopub.status.busy": "2023-02-27T12:36:42.570118Z",
     "iopub.status.idle": "2023-02-27T12:36:46.535241Z",
     "shell.execute_reply": "2023-02-27T12:36:46.534579Z"
    }
   },
   "outputs": [
    {
     "name": "stdout",
     "output_type": "stream",
     "text": [
      "488 ns ± 0.123 ns per loop (mean ± std. dev. of 7 runs, 1,000,000 loops each)\n"
     ]
    }
   ],
   "source": [
    "%timeit b.a = new_value"
   ]
  },
  {
   "cell_type": "markdown",
   "id": "b61ad1d0",
   "metadata": {},
   "source": [
    "## Initialization"
   ]
  },
  {
   "cell_type": "markdown",
   "id": "d70f0d54",
   "metadata": {},
   "source": [
    "### TreeValue's Initialization"
   ]
  },
  {
   "cell_type": "code",
   "execution_count": 14,
   "id": "d32a679b",
   "metadata": {
    "execution": {
     "iopub.execute_input": "2023-02-27T12:36:46.538353Z",
     "iopub.status.busy": "2023-02-27T12:36:46.537798Z",
     "iopub.status.idle": "2023-02-27T12:36:53.400162Z",
     "shell.execute_reply": "2023-02-27T12:36:53.399449Z"
    }
   },
   "outputs": [
    {
     "name": "stdout",
     "output_type": "stream",
     "text": [
      "846 ns ± 0.166 ns per loop (mean ± std. dev. of 7 runs, 1,000,000 loops each)\n"
     ]
    }
   ],
   "source": [
    "%timeit FastTreeValue(_TREE_DATA_1)"
   ]
  },
  {
   "cell_type": "markdown",
   "id": "24f3707b",
   "metadata": {},
   "source": [
    "### Tianshou Batch's Initialization"
   ]
  },
  {
   "cell_type": "code",
   "execution_count": 15,
   "id": "ac3958df",
   "metadata": {
    "execution": {
     "iopub.execute_input": "2023-02-27T12:36:53.403169Z",
     "iopub.status.busy": "2023-02-27T12:36:53.402812Z",
     "iopub.status.idle": "2023-02-27T12:37:02.805207Z",
     "shell.execute_reply": "2023-02-27T12:37:02.804517Z"
    }
   },
   "outputs": [
    {
     "name": "stdout",
     "output_type": "stream",
     "text": [
      "11.6 µs ± 31.6 ns per loop (mean ± std. dev. of 7 runs, 100,000 loops each)\n"
     ]
    }
   ],
   "source": [
    "%timeit Batch(**_TREE_DATA_1)"
   ]
  },
  {
   "cell_type": "markdown",
   "id": "1ab82e2d",
   "metadata": {},
   "source": [
    "## Deep Copy Operation"
   ]
  },
  {
   "cell_type": "code",
   "execution_count": 16,
   "id": "210a9442",
   "metadata": {
    "execution": {
     "iopub.execute_input": "2023-02-27T12:37:02.807977Z",
     "iopub.status.busy": "2023-02-27T12:37:02.807746Z",
     "iopub.status.idle": "2023-02-27T12:37:02.811444Z",
     "shell.execute_reply": "2023-02-27T12:37:02.810860Z"
    }
   },
   "outputs": [],
   "source": [
    "import copy"
   ]
  },
  {
   "cell_type": "markdown",
   "id": "5a736274",
   "metadata": {},
   "source": [
    "### Deep Copy of TreeValue"
   ]
  },
  {
   "cell_type": "code",
   "execution_count": 17,
   "id": "f9bcadd6",
   "metadata": {
    "execution": {
     "iopub.execute_input": "2023-02-27T12:37:02.814204Z",
     "iopub.status.busy": "2023-02-27T12:37:02.813660Z",
     "iopub.status.idle": "2023-02-27T12:37:14.289350Z",
     "shell.execute_reply": "2023-02-27T12:37:14.288746Z"
    }
   },
   "outputs": [
    {
     "name": "stdout",
     "output_type": "stream",
     "text": [
      "141 µs ± 297 ns per loop (mean ± std. dev. of 7 runs, 10,000 loops each)\n"
     ]
    }
   ],
   "source": [
    "t3 = FastTreeValue(_TREE_DATA_3)\n",
    "%timeit copy.deepcopy(t3)"
   ]
  },
  {
   "cell_type": "markdown",
   "id": "bf8be7ea",
   "metadata": {},
   "source": [
    "### Deep Copy of Tianshou Batch"
   ]
  },
  {
   "cell_type": "code",
   "execution_count": 18,
   "id": "91998e6f",
   "metadata": {
    "execution": {
     "iopub.execute_input": "2023-02-27T12:37:14.293040Z",
     "iopub.status.busy": "2023-02-27T12:37:14.292050Z",
     "iopub.status.idle": "2023-02-27T12:37:25.971835Z",
     "shell.execute_reply": "2023-02-27T12:37:25.971255Z"
    }
   },
   "outputs": [
    {
     "name": "stdout",
     "output_type": "stream",
     "text": [
      "144 µs ± 233 ns per loop (mean ± std. dev. of 7 runs, 10,000 loops each)\n"
     ]
    }
   ],
   "source": [
    "b3 = Batch(**_TREE_DATA_3)\n",
    "%timeit copy.deepcopy(b3)"
   ]
  },
  {
   "cell_type": "markdown",
   "id": "223162fb",
   "metadata": {},
   "source": [
    "## Stack, Concat and Split Operation"
   ]
  },
  {
   "cell_type": "markdown",
   "id": "85fa4a73",
   "metadata": {},
   "source": [
    "### Performance of TreeValue"
   ]
  },
  {
   "cell_type": "code",
   "execution_count": 19,
   "id": "a0c2b697",
   "metadata": {
    "execution": {
     "iopub.execute_input": "2023-02-27T12:37:25.975502Z",
     "iopub.status.busy": "2023-02-27T12:37:25.974357Z",
     "iopub.status.idle": "2023-02-27T12:37:25.978788Z",
     "shell.execute_reply": "2023-02-27T12:37:25.978268Z"
    }
   },
   "outputs": [],
   "source": [
    "trees = [FastTreeValue(_TREE_DATA_2) for _ in range(8)]"
   ]
  },
  {
   "cell_type": "code",
   "execution_count": 20,
   "id": "017ea5a5",
   "metadata": {
    "execution": {
     "iopub.execute_input": "2023-02-27T12:37:25.982396Z",
     "iopub.status.busy": "2023-02-27T12:37:25.981309Z",
     "iopub.status.idle": "2023-02-27T12:37:25.990068Z",
     "shell.execute_reply": "2023-02-27T12:37:25.989558Z"
    }
   },
   "outputs": [
    {
     "data": {
      "text/plain": [
       "<FastTreeValue 0x7f4859acfd60>\n",
       "├── 'a' --> tensor([[[ 1.2427, -0.8492, -0.0696],\n",
       "│                    [ 0.6282,  0.9770,  1.4080]],\n",
       "│           \n",
       "│                   [[ 1.2427, -0.8492, -0.0696],\n",
       "│                    [ 0.6282,  0.9770,  1.4080]],\n",
       "│           \n",
       "│                   [[ 1.2427, -0.8492, -0.0696],\n",
       "│                    [ 0.6282,  0.9770,  1.4080]],\n",
       "│           \n",
       "│                   [[ 1.2427, -0.8492, -0.0696],\n",
       "│                    [ 0.6282,  0.9770,  1.4080]],\n",
       "│           \n",
       "│                   [[ 1.2427, -0.8492, -0.0696],\n",
       "│                    [ 0.6282,  0.9770,  1.4080]],\n",
       "│           \n",
       "│                   [[ 1.2427, -0.8492, -0.0696],\n",
       "│                    [ 0.6282,  0.9770,  1.4080]],\n",
       "│           \n",
       "│                   [[ 1.2427, -0.8492, -0.0696],\n",
       "│                    [ 0.6282,  0.9770,  1.4080]],\n",
       "│           \n",
       "│                   [[ 1.2427, -0.8492, -0.0696],\n",
       "│                    [ 0.6282,  0.9770,  1.4080]]])\n",
       "└── 'x' --> <FastTreeValue 0x7f4859acff10>\n",
       "    └── 'c' --> tensor([[[-0.8907,  1.6398, -1.4632, -1.8240],\n",
       "                         [-0.5300,  2.2241,  0.4744, -0.4452],\n",
       "                         [-1.1241,  1.6356,  1.2287, -0.6480]],\n",
       "                \n",
       "                        [[-0.8907,  1.6398, -1.4632, -1.8240],\n",
       "                         [-0.5300,  2.2241,  0.4744, -0.4452],\n",
       "                         [-1.1241,  1.6356,  1.2287, -0.6480]],\n",
       "                \n",
       "                        [[-0.8907,  1.6398, -1.4632, -1.8240],\n",
       "                         [-0.5300,  2.2241,  0.4744, -0.4452],\n",
       "                         [-1.1241,  1.6356,  1.2287, -0.6480]],\n",
       "                \n",
       "                        [[-0.8907,  1.6398, -1.4632, -1.8240],\n",
       "                         [-0.5300,  2.2241,  0.4744, -0.4452],\n",
       "                         [-1.1241,  1.6356,  1.2287, -0.6480]],\n",
       "                \n",
       "                        [[-0.8907,  1.6398, -1.4632, -1.8240],\n",
       "                         [-0.5300,  2.2241,  0.4744, -0.4452],\n",
       "                         [-1.1241,  1.6356,  1.2287, -0.6480]],\n",
       "                \n",
       "                        [[-0.8907,  1.6398, -1.4632, -1.8240],\n",
       "                         [-0.5300,  2.2241,  0.4744, -0.4452],\n",
       "                         [-1.1241,  1.6356,  1.2287, -0.6480]],\n",
       "                \n",
       "                        [[-0.8907,  1.6398, -1.4632, -1.8240],\n",
       "                         [-0.5300,  2.2241,  0.4744, -0.4452],\n",
       "                         [-1.1241,  1.6356,  1.2287, -0.6480]],\n",
       "                \n",
       "                        [[-0.8907,  1.6398, -1.4632, -1.8240],\n",
       "                         [-0.5300,  2.2241,  0.4744, -0.4452],\n",
       "                         [-1.1241,  1.6356,  1.2287, -0.6480]]])"
      ]
     },
     "execution_count": 20,
     "metadata": {},
     "output_type": "execute_result"
    }
   ],
   "source": [
    "t_stack = FastTreeValue.func(subside=True)(torch.stack)\n",
    "\n",
    "t_stack(trees)"
   ]
  },
  {
   "cell_type": "code",
   "execution_count": 21,
   "id": "f8b3f415",
   "metadata": {
    "execution": {
     "iopub.execute_input": "2023-02-27T12:37:25.993626Z",
     "iopub.status.busy": "2023-02-27T12:37:25.992499Z",
     "iopub.status.idle": "2023-02-27T12:37:28.665608Z",
     "shell.execute_reply": "2023-02-27T12:37:28.664859Z"
    }
   },
   "outputs": [
    {
     "name": "stdout",
     "output_type": "stream",
     "text": [
      "32.8 µs ± 45.6 ns per loop (mean ± std. dev. of 7 runs, 10,000 loops each)\n"
     ]
    }
   ],
   "source": [
    "%timeit t_stack(trees)"
   ]
  },
  {
   "cell_type": "code",
   "execution_count": 22,
   "id": "94b56771",
   "metadata": {
    "execution": {
     "iopub.execute_input": "2023-02-27T12:37:28.668300Z",
     "iopub.status.busy": "2023-02-27T12:37:28.667940Z",
     "iopub.status.idle": "2023-02-27T12:37:28.676507Z",
     "shell.execute_reply": "2023-02-27T12:37:28.675912Z"
    }
   },
   "outputs": [
    {
     "data": {
      "text/plain": [
       "<FastTreeValue 0x7f486b0a42b0>\n",
       "├── 'a' --> tensor([[ 1.2427, -0.8492, -0.0696],\n",
       "│                   [ 0.6282,  0.9770,  1.4080],\n",
       "│                   [ 1.2427, -0.8492, -0.0696],\n",
       "│                   [ 0.6282,  0.9770,  1.4080],\n",
       "│                   [ 1.2427, -0.8492, -0.0696],\n",
       "│                   [ 0.6282,  0.9770,  1.4080],\n",
       "│                   [ 1.2427, -0.8492, -0.0696],\n",
       "│                   [ 0.6282,  0.9770,  1.4080],\n",
       "│                   [ 1.2427, -0.8492, -0.0696],\n",
       "│                   [ 0.6282,  0.9770,  1.4080],\n",
       "│                   [ 1.2427, -0.8492, -0.0696],\n",
       "│                   [ 0.6282,  0.9770,  1.4080],\n",
       "│                   [ 1.2427, -0.8492, -0.0696],\n",
       "│                   [ 0.6282,  0.9770,  1.4080],\n",
       "│                   [ 1.2427, -0.8492, -0.0696],\n",
       "│                   [ 0.6282,  0.9770,  1.4080]])\n",
       "└── 'x' --> <FastTreeValue 0x7f486b0a4040>\n",
       "    └── 'c' --> tensor([[-0.8907,  1.6398, -1.4632, -1.8240],\n",
       "                        [-0.5300,  2.2241,  0.4744, -0.4452],\n",
       "                        [-1.1241,  1.6356,  1.2287, -0.6480],\n",
       "                        [-0.8907,  1.6398, -1.4632, -1.8240],\n",
       "                        [-0.5300,  2.2241,  0.4744, -0.4452],\n",
       "                        [-1.1241,  1.6356,  1.2287, -0.6480],\n",
       "                        [-0.8907,  1.6398, -1.4632, -1.8240],\n",
       "                        [-0.5300,  2.2241,  0.4744, -0.4452],\n",
       "                        [-1.1241,  1.6356,  1.2287, -0.6480],\n",
       "                        [-0.8907,  1.6398, -1.4632, -1.8240],\n",
       "                        [-0.5300,  2.2241,  0.4744, -0.4452],\n",
       "                        [-1.1241,  1.6356,  1.2287, -0.6480],\n",
       "                        [-0.8907,  1.6398, -1.4632, -1.8240],\n",
       "                        [-0.5300,  2.2241,  0.4744, -0.4452],\n",
       "                        [-1.1241,  1.6356,  1.2287, -0.6480],\n",
       "                        [-0.8907,  1.6398, -1.4632, -1.8240],\n",
       "                        [-0.5300,  2.2241,  0.4744, -0.4452],\n",
       "                        [-1.1241,  1.6356,  1.2287, -0.6480],\n",
       "                        [-0.8907,  1.6398, -1.4632, -1.8240],\n",
       "                        [-0.5300,  2.2241,  0.4744, -0.4452],\n",
       "                        [-1.1241,  1.6356,  1.2287, -0.6480],\n",
       "                        [-0.8907,  1.6398, -1.4632, -1.8240],\n",
       "                        [-0.5300,  2.2241,  0.4744, -0.4452],\n",
       "                        [-1.1241,  1.6356,  1.2287, -0.6480]])"
      ]
     },
     "execution_count": 22,
     "metadata": {},
     "output_type": "execute_result"
    }
   ],
   "source": [
    "t_cat = FastTreeValue.func(subside=True)(torch.cat)\n",
    "\n",
    "t_cat(trees)"
   ]
  },
  {
   "cell_type": "code",
   "execution_count": 23,
   "id": "5e9c06a6",
   "metadata": {
    "execution": {
     "iopub.execute_input": "2023-02-27T12:37:28.679789Z",
     "iopub.status.busy": "2023-02-27T12:37:28.678802Z",
     "iopub.status.idle": "2023-02-27T12:37:31.160294Z",
     "shell.execute_reply": "2023-02-27T12:37:31.159569Z"
    }
   },
   "outputs": [
    {
     "name": "stdout",
     "output_type": "stream",
     "text": [
      "30.5 µs ± 67.8 ns per loop (mean ± std. dev. of 7 runs, 10,000 loops each)\n"
     ]
    }
   ],
   "source": [
    "%timeit t_cat(trees)"
   ]
  },
  {
   "cell_type": "code",
   "execution_count": 24,
   "id": "a3ab5c8f",
   "metadata": {
    "execution": {
     "iopub.execute_input": "2023-02-27T12:37:31.163014Z",
     "iopub.status.busy": "2023-02-27T12:37:31.162663Z",
     "iopub.status.idle": "2023-02-27T12:37:36.014241Z",
     "shell.execute_reply": "2023-02-27T12:37:36.013514Z"
    }
   },
   "outputs": [
    {
     "name": "stdout",
     "output_type": "stream",
     "text": [
      "59.7 µs ± 73 ns per loop (mean ± std. dev. of 7 runs, 10,000 loops each)\n"
     ]
    }
   ],
   "source": [
    "t_split = FastTreeValue.func(rise=True)(torch.split)\n",
    "tree = FastTreeValue({\n",
    "    'obs': torch.randn(8, 4, 84, 84),\n",
    "    'action': torch.randint(0, 6, size=(8, 1,)),\n",
    "    'reward': torch.rand(8, 1),\n",
    "})\n",
    "\n",
    "%timeit t_split(tree, 1)"
   ]
  },
  {
   "cell_type": "markdown",
   "id": "31c3ec0b",
   "metadata": {},
   "source": [
    "### Performance of Tianshou Batch"
   ]
  },
  {
   "cell_type": "code",
   "execution_count": 25,
   "id": "9ead828a",
   "metadata": {
    "execution": {
     "iopub.execute_input": "2023-02-27T12:37:36.017464Z",
     "iopub.status.busy": "2023-02-27T12:37:36.016923Z",
     "iopub.status.idle": "2023-02-27T12:37:36.024807Z",
     "shell.execute_reply": "2023-02-27T12:37:36.024221Z"
    }
   },
   "outputs": [
    {
     "data": {
      "text/plain": [
       "Batch(\n",
       "    a: tensor([[[ 1.2427, -0.8492, -0.0696],\n",
       "                [ 0.6282,  0.9770,  1.4080]],\n",
       "       \n",
       "               [[ 1.2427, -0.8492, -0.0696],\n",
       "                [ 0.6282,  0.9770,  1.4080]],\n",
       "       \n",
       "               [[ 1.2427, -0.8492, -0.0696],\n",
       "                [ 0.6282,  0.9770,  1.4080]],\n",
       "       \n",
       "               [[ 1.2427, -0.8492, -0.0696],\n",
       "                [ 0.6282,  0.9770,  1.4080]],\n",
       "       \n",
       "               [[ 1.2427, -0.8492, -0.0696],\n",
       "                [ 0.6282,  0.9770,  1.4080]],\n",
       "       \n",
       "               [[ 1.2427, -0.8492, -0.0696],\n",
       "                [ 0.6282,  0.9770,  1.4080]],\n",
       "       \n",
       "               [[ 1.2427, -0.8492, -0.0696],\n",
       "                [ 0.6282,  0.9770,  1.4080]],\n",
       "       \n",
       "               [[ 1.2427, -0.8492, -0.0696],\n",
       "                [ 0.6282,  0.9770,  1.4080]]]),\n",
       "    x: Batch(\n",
       "           c: tensor([[[-0.8907,  1.6398, -1.4632, -1.8240],\n",
       "                       [-0.5300,  2.2241,  0.4744, -0.4452],\n",
       "                       [-1.1241,  1.6356,  1.2287, -0.6480]],\n",
       "              \n",
       "                      [[-0.8907,  1.6398, -1.4632, -1.8240],\n",
       "                       [-0.5300,  2.2241,  0.4744, -0.4452],\n",
       "                       [-1.1241,  1.6356,  1.2287, -0.6480]],\n",
       "              \n",
       "                      [[-0.8907,  1.6398, -1.4632, -1.8240],\n",
       "                       [-0.5300,  2.2241,  0.4744, -0.4452],\n",
       "                       [-1.1241,  1.6356,  1.2287, -0.6480]],\n",
       "              \n",
       "                      [[-0.8907,  1.6398, -1.4632, -1.8240],\n",
       "                       [-0.5300,  2.2241,  0.4744, -0.4452],\n",
       "                       [-1.1241,  1.6356,  1.2287, -0.6480]],\n",
       "              \n",
       "                      [[-0.8907,  1.6398, -1.4632, -1.8240],\n",
       "                       [-0.5300,  2.2241,  0.4744, -0.4452],\n",
       "                       [-1.1241,  1.6356,  1.2287, -0.6480]],\n",
       "              \n",
       "                      [[-0.8907,  1.6398, -1.4632, -1.8240],\n",
       "                       [-0.5300,  2.2241,  0.4744, -0.4452],\n",
       "                       [-1.1241,  1.6356,  1.2287, -0.6480]],\n",
       "              \n",
       "                      [[-0.8907,  1.6398, -1.4632, -1.8240],\n",
       "                       [-0.5300,  2.2241,  0.4744, -0.4452],\n",
       "                       [-1.1241,  1.6356,  1.2287, -0.6480]],\n",
       "              \n",
       "                      [[-0.8907,  1.6398, -1.4632, -1.8240],\n",
       "                       [-0.5300,  2.2241,  0.4744, -0.4452],\n",
       "                       [-1.1241,  1.6356,  1.2287, -0.6480]]]),\n",
       "       ),\n",
       ")"
      ]
     },
     "execution_count": 25,
     "metadata": {},
     "output_type": "execute_result"
    }
   ],
   "source": [
    "batches = [Batch(**_TREE_DATA_2) for _ in range(8)]\n",
    "\n",
    "Batch.stack(batches)"
   ]
  },
  {
   "cell_type": "code",
   "execution_count": 26,
   "id": "ec9037a3",
   "metadata": {
    "execution": {
     "iopub.execute_input": "2023-02-27T12:37:36.027419Z",
     "iopub.status.busy": "2023-02-27T12:37:36.027100Z",
     "iopub.status.idle": "2023-02-27T12:37:42.340760Z",
     "shell.execute_reply": "2023-02-27T12:37:42.340008Z"
    }
   },
   "outputs": [
    {
     "name": "stdout",
     "output_type": "stream",
     "text": [
      "77.7 µs ± 125 ns per loop (mean ± std. dev. of 7 runs, 10,000 loops each)\n"
     ]
    }
   ],
   "source": [
    "%timeit Batch.stack(batches)"
   ]
  },
  {
   "cell_type": "code",
   "execution_count": 27,
   "id": "cb8ab77e",
   "metadata": {
    "execution": {
     "iopub.execute_input": "2023-02-27T12:37:42.343454Z",
     "iopub.status.busy": "2023-02-27T12:37:42.343217Z",
     "iopub.status.idle": "2023-02-27T12:37:42.350346Z",
     "shell.execute_reply": "2023-02-27T12:37:42.349767Z"
    }
   },
   "outputs": [
    {
     "data": {
      "text/plain": [
       "Batch(\n",
       "    a: tensor([[ 1.2427, -0.8492, -0.0696],\n",
       "               [ 0.6282,  0.9770,  1.4080],\n",
       "               [ 1.2427, -0.8492, -0.0696],\n",
       "               [ 0.6282,  0.9770,  1.4080],\n",
       "               [ 1.2427, -0.8492, -0.0696],\n",
       "               [ 0.6282,  0.9770,  1.4080],\n",
       "               [ 1.2427, -0.8492, -0.0696],\n",
       "               [ 0.6282,  0.9770,  1.4080],\n",
       "               [ 1.2427, -0.8492, -0.0696],\n",
       "               [ 0.6282,  0.9770,  1.4080],\n",
       "               [ 1.2427, -0.8492, -0.0696],\n",
       "               [ 0.6282,  0.9770,  1.4080],\n",
       "               [ 1.2427, -0.8492, -0.0696],\n",
       "               [ 0.6282,  0.9770,  1.4080],\n",
       "               [ 1.2427, -0.8492, -0.0696],\n",
       "               [ 0.6282,  0.9770,  1.4080]]),\n",
       "    x: Batch(\n",
       "           c: tensor([[-0.8907,  1.6398, -1.4632, -1.8240],\n",
       "                      [-0.5300,  2.2241,  0.4744, -0.4452],\n",
       "                      [-1.1241,  1.6356,  1.2287, -0.6480],\n",
       "                      [-0.8907,  1.6398, -1.4632, -1.8240],\n",
       "                      [-0.5300,  2.2241,  0.4744, -0.4452],\n",
       "                      [-1.1241,  1.6356,  1.2287, -0.6480],\n",
       "                      [-0.8907,  1.6398, -1.4632, -1.8240],\n",
       "                      [-0.5300,  2.2241,  0.4744, -0.4452],\n",
       "                      [-1.1241,  1.6356,  1.2287, -0.6480],\n",
       "                      [-0.8907,  1.6398, -1.4632, -1.8240],\n",
       "                      [-0.5300,  2.2241,  0.4744, -0.4452],\n",
       "                      [-1.1241,  1.6356,  1.2287, -0.6480],\n",
       "                      [-0.8907,  1.6398, -1.4632, -1.8240],\n",
       "                      [-0.5300,  2.2241,  0.4744, -0.4452],\n",
       "                      [-1.1241,  1.6356,  1.2287, -0.6480],\n",
       "                      [-0.8907,  1.6398, -1.4632, -1.8240],\n",
       "                      [-0.5300,  2.2241,  0.4744, -0.4452],\n",
       "                      [-1.1241,  1.6356,  1.2287, -0.6480],\n",
       "                      [-0.8907,  1.6398, -1.4632, -1.8240],\n",
       "                      [-0.5300,  2.2241,  0.4744, -0.4452],\n",
       "                      [-1.1241,  1.6356,  1.2287, -0.6480],\n",
       "                      [-0.8907,  1.6398, -1.4632, -1.8240],\n",
       "                      [-0.5300,  2.2241,  0.4744, -0.4452],\n",
       "                      [-1.1241,  1.6356,  1.2287, -0.6480]]),\n",
       "       ),\n",
       ")"
      ]
     },
     "execution_count": 27,
     "metadata": {},
     "output_type": "execute_result"
    }
   ],
   "source": [
    "Batch.cat(batches)"
   ]
  },
  {
   "cell_type": "code",
   "execution_count": 28,
   "id": "18dfb045",
   "metadata": {
    "execution": {
     "iopub.execute_input": "2023-02-27T12:37:42.353014Z",
     "iopub.status.busy": "2023-02-27T12:37:42.352669Z",
     "iopub.status.idle": "2023-02-27T12:37:53.957686Z",
     "shell.execute_reply": "2023-02-27T12:37:53.956779Z"
    }
   },
   "outputs": [
    {
     "name": "stdout",
     "output_type": "stream",
     "text": [
      "143 µs ± 645 ns per loop (mean ± std. dev. of 7 runs, 10,000 loops each)\n"
     ]
    }
   ],
   "source": [
    "%timeit Batch.cat(batches)"
   ]
  },
  {
   "cell_type": "code",
   "execution_count": 29,
   "id": "c6688e51",
   "metadata": {
    "execution": {
     "iopub.execute_input": "2023-02-27T12:37:53.960680Z",
     "iopub.status.busy": "2023-02-27T12:37:53.960326Z",
     "iopub.status.idle": "2023-02-27T12:37:56.424113Z",
     "shell.execute_reply": "2023-02-27T12:37:56.423567Z"
    }
   },
   "outputs": [
    {
     "name": "stdout",
     "output_type": "stream",
     "text": [
      "303 µs ± 598 ns per loop (mean ± std. dev. of 7 runs, 1,000 loops each)\n"
     ]
    }
   ],
   "source": [
    "batch = Batch({\n",
    "    'obs': torch.randn(8, 4, 84, 84),\n",
    "    'action': torch.randint(0, 6, size=(8, 1,)),\n",
    "    'reward': torch.rand(8, 1)}\n",
    ")\n",
    "\n",
    "%timeit list(Batch.split(batch, 1, shuffle=False, merge_last=True))"
   ]
  },
  {
   "cell_type": "code",
   "execution_count": null,
   "id": "2539fbd9",
   "metadata": {},
   "outputs": [],
   "source": []
  }
 ],
 "metadata": {
  "kernelspec": {
   "display_name": "Python 3 (ipykernel)",
   "language": "python",
   "name": "python3"
  },
  "language_info": {
   "codemirror_mode": {
    "name": "ipython",
    "version": 3
   },
   "file_extension": ".py",
   "mimetype": "text/x-python",
   "name": "python",
   "nbconvert_exporter": "python",
   "pygments_lexer": "ipython3",
   "version": "3.8.16"
  }
 },
 "nbformat": 4,
 "nbformat_minor": 5
}
