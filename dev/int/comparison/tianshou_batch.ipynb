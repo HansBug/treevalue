{
 "cells": [
  {
   "cell_type": "markdown",
   "id": "9d39d946",
   "metadata": {},
   "source": [
    "# Comparison Between TreeValue and Tianshou Batch"
   ]
  },
  {
   "cell_type": "markdown",
   "id": "3c6db2d4",
   "metadata": {},
   "source": [
    "In this section, we will take a look at the feature and performance of the [Tianshou Batch](https://github.com/thu-ml/tianshou) library, which is developed by Tsinghua Machine Learning Group."
   ]
  },
  {
   "cell_type": "markdown",
   "id": "069361b0",
   "metadata": {},
   "source": [
    "Before starting the comparison, let us define some thing."
   ]
  },
  {
   "cell_type": "code",
   "execution_count": 1,
   "id": "06fc8d26",
   "metadata": {
    "execution": {
     "iopub.execute_input": "2023-02-27T11:18:07.288376Z",
     "iopub.status.busy": "2023-02-27T11:18:07.287788Z",
     "iopub.status.idle": "2023-02-27T11:18:08.239916Z",
     "shell.execute_reply": "2023-02-27T11:18:08.239174Z"
    }
   },
   "outputs": [
    {
     "name": "stderr",
     "output_type": "stream",
     "text": [
      "/opt/hostedtoolcache/Python/3.8.16/x64/lib/python3.8/site-packages/tqdm/auto.py:22: TqdmWarning: IProgress not found. Please update jupyter and ipywidgets. See https://ipywidgets.readthedocs.io/en/stable/user_install.html\n",
      "  from .autonotebook import tqdm as notebook_tqdm\n"
     ]
    }
   ],
   "source": [
    "import torch \n",
    "\n",
    "_TREE_DATA_1 = {'a': 1, 'b': 2, 'x': {'c': 3, 'd': 4}}\n",
    "_TREE_DATA_2 = {\n",
    "    'a': torch.randn(2, 3), \n",
    "    'x': {\n",
    "        'c': torch.randn(3, 4)\n",
    "    },\n",
    "}\n",
    "_TREE_DATA_3 = {\n",
    "    'obs': torch.randn(4, 84, 84),\n",
    "    'action': torch.randint(0, 6, size=(1,)),\n",
    "    'reward': torch.rand(1),\n",
    "}"
   ]
  },
  {
   "cell_type": "markdown",
   "id": "83461b25",
   "metadata": {},
   "source": [
    "## Read and Write Operation"
   ]
  },
  {
   "cell_type": "markdown",
   "id": "067b3f73",
   "metadata": {},
   "source": [
    "Reading and writing are the two most common operations in the tree data structure based on the data model (TreeValue and Tianshou Batch both belong to this type), so this section will compare the reading and writing performance of these two libraries."
   ]
  },
  {
   "cell_type": "markdown",
   "id": "5d09a5b7",
   "metadata": {},
   "source": [
    "### TreeValue's Get and Set"
   ]
  },
  {
   "cell_type": "code",
   "execution_count": 2,
   "id": "9519c4bb",
   "metadata": {
    "execution": {
     "iopub.execute_input": "2023-02-27T11:18:08.243788Z",
     "iopub.status.busy": "2023-02-27T11:18:08.243131Z",
     "iopub.status.idle": "2023-02-27T11:18:08.529884Z",
     "shell.execute_reply": "2023-02-27T11:18:08.529194Z"
    }
   },
   "outputs": [],
   "source": [
    "from treevalue import FastTreeValue\n",
    "\n",
    "t = FastTreeValue(_TREE_DATA_2)"
   ]
  },
  {
   "cell_type": "code",
   "execution_count": 3,
   "id": "11c37677",
   "metadata": {
    "execution": {
     "iopub.execute_input": "2023-02-27T11:18:08.533429Z",
     "iopub.status.busy": "2023-02-27T11:18:08.532801Z",
     "iopub.status.idle": "2023-02-27T11:18:08.542359Z",
     "shell.execute_reply": "2023-02-27T11:18:08.541761Z"
    }
   },
   "outputs": [
    {
     "data": {
      "text/plain": [
       "<FastTreeValue 0x7f2dfc3a2d00>\n",
       "├── 'a' --> tensor([[-0.1113, -0.4839,  0.0426],\n",
       "│                   [ 0.6874,  0.0147,  0.2200]])\n",
       "└── 'x' --> <FastTreeValue 0x7f2dfc3a2cd0>\n",
       "    └── 'c' --> tensor([[ 2.0425,  0.5871, -1.6850, -2.0679],\n",
       "                        [ 0.6888, -0.1030,  0.1280,  1.0964],\n",
       "                        [ 0.6884, -1.2083,  1.4923, -1.2985]])"
      ]
     },
     "execution_count": 3,
     "metadata": {},
     "output_type": "execute_result"
    }
   ],
   "source": [
    "t"
   ]
  },
  {
   "cell_type": "code",
   "execution_count": 4,
   "id": "fd70b0b9",
   "metadata": {
    "execution": {
     "iopub.execute_input": "2023-02-27T11:18:08.545144Z",
     "iopub.status.busy": "2023-02-27T11:18:08.544601Z",
     "iopub.status.idle": "2023-02-27T11:18:08.550084Z",
     "shell.execute_reply": "2023-02-27T11:18:08.549498Z"
    }
   },
   "outputs": [
    {
     "data": {
      "text/plain": [
       "tensor([[-0.1113, -0.4839,  0.0426],\n",
       "        [ 0.6874,  0.0147,  0.2200]])"
      ]
     },
     "execution_count": 4,
     "metadata": {},
     "output_type": "execute_result"
    }
   ],
   "source": [
    "t.a"
   ]
  },
  {
   "cell_type": "code",
   "execution_count": 5,
   "id": "c18197bd",
   "metadata": {
    "execution": {
     "iopub.execute_input": "2023-02-27T11:18:08.553003Z",
     "iopub.status.busy": "2023-02-27T11:18:08.552407Z",
     "iopub.status.idle": "2023-02-27T11:18:13.482027Z",
     "shell.execute_reply": "2023-02-27T11:18:13.481262Z"
    }
   },
   "outputs": [
    {
     "name": "stdout",
     "output_type": "stream",
     "text": [
      "60.6 ns ± 0.0742 ns per loop (mean ± std. dev. of 7 runs, 10,000,000 loops each)\n"
     ]
    }
   ],
   "source": [
    "%timeit t.a"
   ]
  },
  {
   "cell_type": "code",
   "execution_count": 6,
   "id": "bd52f867",
   "metadata": {
    "execution": {
     "iopub.execute_input": "2023-02-27T11:18:13.485224Z",
     "iopub.status.busy": "2023-02-27T11:18:13.484833Z",
     "iopub.status.idle": "2023-02-27T11:18:13.491688Z",
     "shell.execute_reply": "2023-02-27T11:18:13.491069Z"
    }
   },
   "outputs": [
    {
     "data": {
      "text/plain": [
       "<FastTreeValue 0x7f2dfc3a2d00>\n",
       "├── 'a' --> tensor([[-1.6021, -0.9565, -0.6676],\n",
       "│                   [-0.1145,  0.6526,  2.2631]])\n",
       "└── 'x' --> <FastTreeValue 0x7f2dfc3a2cd0>\n",
       "    └── 'c' --> tensor([[ 2.0425,  0.5871, -1.6850, -2.0679],\n",
       "                        [ 0.6888, -0.1030,  0.1280,  1.0964],\n",
       "                        [ 0.6884, -1.2083,  1.4923, -1.2985]])"
      ]
     },
     "execution_count": 6,
     "metadata": {},
     "output_type": "execute_result"
    }
   ],
   "source": [
    "new_value = torch.randn(2, 3)\n",
    "t.a = new_value\n",
    "\n",
    "t"
   ]
  },
  {
   "cell_type": "code",
   "execution_count": 7,
   "id": "bbe04d1c",
   "metadata": {
    "execution": {
     "iopub.execute_input": "2023-02-27T11:18:13.494662Z",
     "iopub.status.busy": "2023-02-27T11:18:13.494292Z",
     "iopub.status.idle": "2023-02-27T11:18:18.244591Z",
     "shell.execute_reply": "2023-02-27T11:18:18.243838Z"
    }
   },
   "outputs": [
    {
     "name": "stdout",
     "output_type": "stream",
     "text": [
      "58 ns ± 0.0323 ns per loop (mean ± std. dev. of 7 runs, 10,000,000 loops each)\n"
     ]
    }
   ],
   "source": [
    "%timeit t.a = new_value"
   ]
  },
  {
   "cell_type": "markdown",
   "id": "48c49731",
   "metadata": {},
   "source": [
    "### Tianshou Batch's Get and Set"
   ]
  },
  {
   "cell_type": "code",
   "execution_count": 8,
   "id": "f1bb14c1",
   "metadata": {
    "execution": {
     "iopub.execute_input": "2023-02-27T11:18:18.248062Z",
     "iopub.status.busy": "2023-02-27T11:18:18.247583Z",
     "iopub.status.idle": "2023-02-27T11:18:18.595940Z",
     "shell.execute_reply": "2023-02-27T11:18:18.595202Z"
    }
   },
   "outputs": [],
   "source": [
    "from tianshou.data import Batch\n",
    "\n",
    "b = Batch(**_TREE_DATA_2)"
   ]
  },
  {
   "cell_type": "code",
   "execution_count": 9,
   "id": "cb0777c3",
   "metadata": {
    "execution": {
     "iopub.execute_input": "2023-02-27T11:18:18.599605Z",
     "iopub.status.busy": "2023-02-27T11:18:18.598897Z",
     "iopub.status.idle": "2023-02-27T11:18:18.605133Z",
     "shell.execute_reply": "2023-02-27T11:18:18.604545Z"
    }
   },
   "outputs": [
    {
     "data": {
      "text/plain": [
       "Batch(\n",
       "    a: tensor([[-0.1113, -0.4839,  0.0426],\n",
       "               [ 0.6874,  0.0147,  0.2200]]),\n",
       "    x: Batch(\n",
       "           c: tensor([[ 2.0425,  0.5871, -1.6850, -2.0679],\n",
       "                      [ 0.6888, -0.1030,  0.1280,  1.0964],\n",
       "                      [ 0.6884, -1.2083,  1.4923, -1.2985]]),\n",
       "       ),\n",
       ")"
      ]
     },
     "execution_count": 9,
     "metadata": {},
     "output_type": "execute_result"
    }
   ],
   "source": [
    "b"
   ]
  },
  {
   "cell_type": "code",
   "execution_count": 10,
   "id": "43ef8ea3",
   "metadata": {
    "execution": {
     "iopub.execute_input": "2023-02-27T11:18:18.607645Z",
     "iopub.status.busy": "2023-02-27T11:18:18.607256Z",
     "iopub.status.idle": "2023-02-27T11:18:18.612935Z",
     "shell.execute_reply": "2023-02-27T11:18:18.612331Z"
    }
   },
   "outputs": [
    {
     "data": {
      "text/plain": [
       "tensor([[-0.1113, -0.4839,  0.0426],\n",
       "        [ 0.6874,  0.0147,  0.2200]])"
      ]
     },
     "execution_count": 10,
     "metadata": {},
     "output_type": "execute_result"
    }
   ],
   "source": [
    "b.a"
   ]
  },
  {
   "cell_type": "code",
   "execution_count": 11,
   "id": "b785ab72",
   "metadata": {
    "execution": {
     "iopub.execute_input": "2023-02-27T11:18:18.615787Z",
     "iopub.status.busy": "2023-02-27T11:18:18.615418Z",
     "iopub.status.idle": "2023-02-27T11:18:23.016408Z",
     "shell.execute_reply": "2023-02-27T11:18:23.015677Z"
    }
   },
   "outputs": [
    {
     "name": "stdout",
     "output_type": "stream",
     "text": [
      "53.6 ns ± 0.054 ns per loop (mean ± std. dev. of 7 runs, 10,000,000 loops each)\n"
     ]
    }
   ],
   "source": [
    "%timeit b.a"
   ]
  },
  {
   "cell_type": "code",
   "execution_count": 12,
   "id": "ad54dc69",
   "metadata": {
    "execution": {
     "iopub.execute_input": "2023-02-27T11:18:23.019346Z",
     "iopub.status.busy": "2023-02-27T11:18:23.019091Z",
     "iopub.status.idle": "2023-02-27T11:18:23.026266Z",
     "shell.execute_reply": "2023-02-27T11:18:23.025690Z"
    }
   },
   "outputs": [
    {
     "data": {
      "text/plain": [
       "Batch(\n",
       "    a: tensor([[ 1.1442, -0.0399,  1.3588],\n",
       "               [-0.0574, -2.0779, -1.4055]]),\n",
       "    x: Batch(\n",
       "           c: tensor([[ 2.0425,  0.5871, -1.6850, -2.0679],\n",
       "                      [ 0.6888, -0.1030,  0.1280,  1.0964],\n",
       "                      [ 0.6884, -1.2083,  1.4923, -1.2985]]),\n",
       "       ),\n",
       ")"
      ]
     },
     "execution_count": 12,
     "metadata": {},
     "output_type": "execute_result"
    }
   ],
   "source": [
    "new_value = torch.randn(2, 3)\n",
    "b.a = new_value\n",
    "\n",
    "b"
   ]
  },
  {
   "cell_type": "code",
   "execution_count": 13,
   "id": "29b1d0bf",
   "metadata": {
    "execution": {
     "iopub.execute_input": "2023-02-27T11:18:23.029229Z",
     "iopub.status.busy": "2023-02-27T11:18:23.028861Z",
     "iopub.status.idle": "2023-02-27T11:18:26.951994Z",
     "shell.execute_reply": "2023-02-27T11:18:26.951266Z"
    }
   },
   "outputs": [
    {
     "name": "stdout",
     "output_type": "stream",
     "text": [
      "480 ns ± 0.186 ns per loop (mean ± std. dev. of 7 runs, 1,000,000 loops each)\n"
     ]
    }
   ],
   "source": [
    "%timeit b.a = new_value"
   ]
  },
  {
   "cell_type": "markdown",
   "id": "b61ad1d0",
   "metadata": {},
   "source": [
    "## Initialization"
   ]
  },
  {
   "cell_type": "markdown",
   "id": "d70f0d54",
   "metadata": {},
   "source": [
    "### TreeValue's Initialization"
   ]
  },
  {
   "cell_type": "code",
   "execution_count": 14,
   "id": "d32a679b",
   "metadata": {
    "execution": {
     "iopub.execute_input": "2023-02-27T11:18:26.955176Z",
     "iopub.status.busy": "2023-02-27T11:18:26.954605Z",
     "iopub.status.idle": "2023-02-27T11:18:33.804672Z",
     "shell.execute_reply": "2023-02-27T11:18:33.803997Z"
    }
   },
   "outputs": [
    {
     "name": "stdout",
     "output_type": "stream",
     "text": [
      "844 ns ± 0.0959 ns per loop (mean ± std. dev. of 7 runs, 1,000,000 loops each)\n"
     ]
    }
   ],
   "source": [
    "%timeit FastTreeValue(_TREE_DATA_1)"
   ]
  },
  {
   "cell_type": "markdown",
   "id": "24f3707b",
   "metadata": {},
   "source": [
    "### Tianshou Batch's Initialization"
   ]
  },
  {
   "cell_type": "code",
   "execution_count": 15,
   "id": "ac3958df",
   "metadata": {
    "execution": {
     "iopub.execute_input": "2023-02-27T11:18:33.808022Z",
     "iopub.status.busy": "2023-02-27T11:18:33.807374Z",
     "iopub.status.idle": "2023-02-27T11:18:42.865088Z",
     "shell.execute_reply": "2023-02-27T11:18:42.864317Z"
    }
   },
   "outputs": [
    {
     "name": "stdout",
     "output_type": "stream",
     "text": [
      "11.2 µs ± 40.8 ns per loop (mean ± std. dev. of 7 runs, 100,000 loops each)\n"
     ]
    }
   ],
   "source": [
    "%timeit Batch(**_TREE_DATA_1)"
   ]
  },
  {
   "cell_type": "markdown",
   "id": "1ab82e2d",
   "metadata": {},
   "source": [
    "## Deep Copy Operation"
   ]
  },
  {
   "cell_type": "code",
   "execution_count": 16,
   "id": "210a9442",
   "metadata": {
    "execution": {
     "iopub.execute_input": "2023-02-27T11:18:42.868012Z",
     "iopub.status.busy": "2023-02-27T11:18:42.867635Z",
     "iopub.status.idle": "2023-02-27T11:18:42.871550Z",
     "shell.execute_reply": "2023-02-27T11:18:42.870940Z"
    }
   },
   "outputs": [],
   "source": [
    "import copy"
   ]
  },
  {
   "cell_type": "markdown",
   "id": "5a736274",
   "metadata": {},
   "source": [
    "### Deep Copy of TreeValue"
   ]
  },
  {
   "cell_type": "code",
   "execution_count": 17,
   "id": "f9bcadd6",
   "metadata": {
    "execution": {
     "iopub.execute_input": "2023-02-27T11:18:42.874093Z",
     "iopub.status.busy": "2023-02-27T11:18:42.873730Z",
     "iopub.status.idle": "2023-02-27T11:18:54.074872Z",
     "shell.execute_reply": "2023-02-27T11:18:54.074295Z"
    }
   },
   "outputs": [
    {
     "name": "stdout",
     "output_type": "stream",
     "text": [
      "138 µs ± 1.61 µs per loop (mean ± std. dev. of 7 runs, 10,000 loops each)\n"
     ]
    }
   ],
   "source": [
    "t3 = FastTreeValue(_TREE_DATA_3)\n",
    "%timeit copy.deepcopy(t3)"
   ]
  },
  {
   "cell_type": "markdown",
   "id": "bf8be7ea",
   "metadata": {},
   "source": [
    "### Deep Copy of Tianshou Batch"
   ]
  },
  {
   "cell_type": "code",
   "execution_count": 18,
   "id": "91998e6f",
   "metadata": {
    "execution": {
     "iopub.execute_input": "2023-02-27T11:18:54.078246Z",
     "iopub.status.busy": "2023-02-27T11:18:54.077224Z",
     "iopub.status.idle": "2023-02-27T11:19:05.438542Z",
     "shell.execute_reply": "2023-02-27T11:19:05.437947Z"
    }
   },
   "outputs": [
    {
     "name": "stdout",
     "output_type": "stream",
     "text": [
      "140 µs ± 576 ns per loop (mean ± std. dev. of 7 runs, 10,000 loops each)\n"
     ]
    }
   ],
   "source": [
    "b3 = Batch(**_TREE_DATA_3)\n",
    "%timeit copy.deepcopy(b3)"
   ]
  },
  {
   "cell_type": "markdown",
   "id": "223162fb",
   "metadata": {},
   "source": [
    "## Stack, Concat and Split Operation"
   ]
  },
  {
   "cell_type": "markdown",
   "id": "85fa4a73",
   "metadata": {},
   "source": [
    "### Performance of TreeValue"
   ]
  },
  {
   "cell_type": "code",
   "execution_count": 19,
   "id": "a0c2b697",
   "metadata": {
    "execution": {
     "iopub.execute_input": "2023-02-27T11:19:05.442445Z",
     "iopub.status.busy": "2023-02-27T11:19:05.441528Z",
     "iopub.status.idle": "2023-02-27T11:19:05.445768Z",
     "shell.execute_reply": "2023-02-27T11:19:05.445241Z"
    }
   },
   "outputs": [],
   "source": [
    "trees = [FastTreeValue(_TREE_DATA_2) for _ in range(8)]"
   ]
  },
  {
   "cell_type": "code",
   "execution_count": 20,
   "id": "017ea5a5",
   "metadata": {
    "execution": {
     "iopub.execute_input": "2023-02-27T11:19:05.448726Z",
     "iopub.status.busy": "2023-02-27T11:19:05.448338Z",
     "iopub.status.idle": "2023-02-27T11:19:05.455608Z",
     "shell.execute_reply": "2023-02-27T11:19:05.454995Z"
    }
   },
   "outputs": [
    {
     "data": {
      "text/plain": [
       "<FastTreeValue 0x7f2d4b5ec3a0>\n",
       "├── 'a' --> tensor([[[-0.1113, -0.4839,  0.0426],\n",
       "│                    [ 0.6874,  0.0147,  0.2200]],\n",
       "│           \n",
       "│                   [[-0.1113, -0.4839,  0.0426],\n",
       "│                    [ 0.6874,  0.0147,  0.2200]],\n",
       "│           \n",
       "│                   [[-0.1113, -0.4839,  0.0426],\n",
       "│                    [ 0.6874,  0.0147,  0.2200]],\n",
       "│           \n",
       "│                   [[-0.1113, -0.4839,  0.0426],\n",
       "│                    [ 0.6874,  0.0147,  0.2200]],\n",
       "│           \n",
       "│                   [[-0.1113, -0.4839,  0.0426],\n",
       "│                    [ 0.6874,  0.0147,  0.2200]],\n",
       "│           \n",
       "│                   [[-0.1113, -0.4839,  0.0426],\n",
       "│                    [ 0.6874,  0.0147,  0.2200]],\n",
       "│           \n",
       "│                   [[-0.1113, -0.4839,  0.0426],\n",
       "│                    [ 0.6874,  0.0147,  0.2200]],\n",
       "│           \n",
       "│                   [[-0.1113, -0.4839,  0.0426],\n",
       "│                    [ 0.6874,  0.0147,  0.2200]]])\n",
       "└── 'x' --> <FastTreeValue 0x7f2d4460bd00>\n",
       "    └── 'c' --> tensor([[[ 2.0425,  0.5871, -1.6850, -2.0679],\n",
       "                         [ 0.6888, -0.1030,  0.1280,  1.0964],\n",
       "                         [ 0.6884, -1.2083,  1.4923, -1.2985]],\n",
       "                \n",
       "                        [[ 2.0425,  0.5871, -1.6850, -2.0679],\n",
       "                         [ 0.6888, -0.1030,  0.1280,  1.0964],\n",
       "                         [ 0.6884, -1.2083,  1.4923, -1.2985]],\n",
       "                \n",
       "                        [[ 2.0425,  0.5871, -1.6850, -2.0679],\n",
       "                         [ 0.6888, -0.1030,  0.1280,  1.0964],\n",
       "                         [ 0.6884, -1.2083,  1.4923, -1.2985]],\n",
       "                \n",
       "                        [[ 2.0425,  0.5871, -1.6850, -2.0679],\n",
       "                         [ 0.6888, -0.1030,  0.1280,  1.0964],\n",
       "                         [ 0.6884, -1.2083,  1.4923, -1.2985]],\n",
       "                \n",
       "                        [[ 2.0425,  0.5871, -1.6850, -2.0679],\n",
       "                         [ 0.6888, -0.1030,  0.1280,  1.0964],\n",
       "                         [ 0.6884, -1.2083,  1.4923, -1.2985]],\n",
       "                \n",
       "                        [[ 2.0425,  0.5871, -1.6850, -2.0679],\n",
       "                         [ 0.6888, -0.1030,  0.1280,  1.0964],\n",
       "                         [ 0.6884, -1.2083,  1.4923, -1.2985]],\n",
       "                \n",
       "                        [[ 2.0425,  0.5871, -1.6850, -2.0679],\n",
       "                         [ 0.6888, -0.1030,  0.1280,  1.0964],\n",
       "                         [ 0.6884, -1.2083,  1.4923, -1.2985]],\n",
       "                \n",
       "                        [[ 2.0425,  0.5871, -1.6850, -2.0679],\n",
       "                         [ 0.6888, -0.1030,  0.1280,  1.0964],\n",
       "                         [ 0.6884, -1.2083,  1.4923, -1.2985]]])"
      ]
     },
     "execution_count": 20,
     "metadata": {},
     "output_type": "execute_result"
    }
   ],
   "source": [
    "t_stack = FastTreeValue.func(subside=True)(torch.stack)\n",
    "\n",
    "t_stack(trees)"
   ]
  },
  {
   "cell_type": "code",
   "execution_count": 21,
   "id": "f8b3f415",
   "metadata": {
    "execution": {
     "iopub.execute_input": "2023-02-27T11:19:05.458256Z",
     "iopub.status.busy": "2023-02-27T11:19:05.457751Z",
     "iopub.status.idle": "2023-02-27T11:19:08.057852Z",
     "shell.execute_reply": "2023-02-27T11:19:08.057122Z"
    }
   },
   "outputs": [
    {
     "name": "stdout",
     "output_type": "stream",
     "text": [
      "32 µs ± 75.9 ns per loop (mean ± std. dev. of 7 runs, 10,000 loops each)\n"
     ]
    }
   ],
   "source": [
    "%timeit t_stack(trees)"
   ]
  },
  {
   "cell_type": "code",
   "execution_count": 22,
   "id": "94b56771",
   "metadata": {
    "execution": {
     "iopub.execute_input": "2023-02-27T11:19:08.061354Z",
     "iopub.status.busy": "2023-02-27T11:19:08.060583Z",
     "iopub.status.idle": "2023-02-27T11:19:08.069875Z",
     "shell.execute_reply": "2023-02-27T11:19:08.069156Z"
    }
   },
   "outputs": [
    {
     "data": {
      "text/plain": [
       "<FastTreeValue 0x7f2d4460bbb0>\n",
       "├── 'a' --> tensor([[-0.1113, -0.4839,  0.0426],\n",
       "│                   [ 0.6874,  0.0147,  0.2200],\n",
       "│                   [-0.1113, -0.4839,  0.0426],\n",
       "│                   [ 0.6874,  0.0147,  0.2200],\n",
       "│                   [-0.1113, -0.4839,  0.0426],\n",
       "│                   [ 0.6874,  0.0147,  0.2200],\n",
       "│                   [-0.1113, -0.4839,  0.0426],\n",
       "│                   [ 0.6874,  0.0147,  0.2200],\n",
       "│                   [-0.1113, -0.4839,  0.0426],\n",
       "│                   [ 0.6874,  0.0147,  0.2200],\n",
       "│                   [-0.1113, -0.4839,  0.0426],\n",
       "│                   [ 0.6874,  0.0147,  0.2200],\n",
       "│                   [-0.1113, -0.4839,  0.0426],\n",
       "│                   [ 0.6874,  0.0147,  0.2200],\n",
       "│                   [-0.1113, -0.4839,  0.0426],\n",
       "│                   [ 0.6874,  0.0147,  0.2200]])\n",
       "└── 'x' --> <FastTreeValue 0x7f2d4463bf40>\n",
       "    └── 'c' --> tensor([[ 2.0425,  0.5871, -1.6850, -2.0679],\n",
       "                        [ 0.6888, -0.1030,  0.1280,  1.0964],\n",
       "                        [ 0.6884, -1.2083,  1.4923, -1.2985],\n",
       "                        [ 2.0425,  0.5871, -1.6850, -2.0679],\n",
       "                        [ 0.6888, -0.1030,  0.1280,  1.0964],\n",
       "                        [ 0.6884, -1.2083,  1.4923, -1.2985],\n",
       "                        [ 2.0425,  0.5871, -1.6850, -2.0679],\n",
       "                        [ 0.6888, -0.1030,  0.1280,  1.0964],\n",
       "                        [ 0.6884, -1.2083,  1.4923, -1.2985],\n",
       "                        [ 2.0425,  0.5871, -1.6850, -2.0679],\n",
       "                        [ 0.6888, -0.1030,  0.1280,  1.0964],\n",
       "                        [ 0.6884, -1.2083,  1.4923, -1.2985],\n",
       "                        [ 2.0425,  0.5871, -1.6850, -2.0679],\n",
       "                        [ 0.6888, -0.1030,  0.1280,  1.0964],\n",
       "                        [ 0.6884, -1.2083,  1.4923, -1.2985],\n",
       "                        [ 2.0425,  0.5871, -1.6850, -2.0679],\n",
       "                        [ 0.6888, -0.1030,  0.1280,  1.0964],\n",
       "                        [ 0.6884, -1.2083,  1.4923, -1.2985],\n",
       "                        [ 2.0425,  0.5871, -1.6850, -2.0679],\n",
       "                        [ 0.6888, -0.1030,  0.1280,  1.0964],\n",
       "                        [ 0.6884, -1.2083,  1.4923, -1.2985],\n",
       "                        [ 2.0425,  0.5871, -1.6850, -2.0679],\n",
       "                        [ 0.6888, -0.1030,  0.1280,  1.0964],\n",
       "                        [ 0.6884, -1.2083,  1.4923, -1.2985]])"
      ]
     },
     "execution_count": 22,
     "metadata": {},
     "output_type": "execute_result"
    }
   ],
   "source": [
    "t_cat = FastTreeValue.func(subside=True)(torch.cat)\n",
    "\n",
    "t_cat(trees)"
   ]
  },
  {
   "cell_type": "code",
   "execution_count": 23,
   "id": "5e9c06a6",
   "metadata": {
    "execution": {
     "iopub.execute_input": "2023-02-27T11:19:08.072819Z",
     "iopub.status.busy": "2023-02-27T11:19:08.072338Z",
     "iopub.status.idle": "2023-02-27T11:19:10.519962Z",
     "shell.execute_reply": "2023-02-27T11:19:10.519159Z"
    }
   },
   "outputs": [
    {
     "name": "stdout",
     "output_type": "stream",
     "text": [
      "30.1 µs ± 117 ns per loop (mean ± std. dev. of 7 runs, 10,000 loops each)\n"
     ]
    }
   ],
   "source": [
    "%timeit t_cat(trees)"
   ]
  },
  {
   "cell_type": "code",
   "execution_count": 24,
   "id": "a3ab5c8f",
   "metadata": {
    "execution": {
     "iopub.execute_input": "2023-02-27T11:19:10.523209Z",
     "iopub.status.busy": "2023-02-27T11:19:10.522620Z",
     "iopub.status.idle": "2023-02-27T11:19:16.165448Z",
     "shell.execute_reply": "2023-02-27T11:19:16.164666Z"
    }
   },
   "outputs": [
    {
     "name": "stdout",
     "output_type": "stream",
     "text": [
      "69.7 µs ± 83.3 ns per loop (mean ± std. dev. of 7 runs, 10,000 loops each)\n"
     ]
    }
   ],
   "source": [
    "t_split = FastTreeValue.func(rise=True)(torch.split)\n",
    "tree = FastTreeValue({\n",
    "    'obs': torch.randn(8, 4, 84, 84),\n",
    "    'action': torch.randint(0, 6, size=(8, 1,)),\n",
    "    'reward': torch.rand(8, 1),\n",
    "})\n",
    "\n",
    "%timeit t_split(tree, 1)"
   ]
  },
  {
   "cell_type": "markdown",
   "id": "31c3ec0b",
   "metadata": {},
   "source": [
    "### Performance of Tianshou Batch"
   ]
  },
  {
   "cell_type": "code",
   "execution_count": 25,
   "id": "9ead828a",
   "metadata": {
    "execution": {
     "iopub.execute_input": "2023-02-27T11:19:16.168733Z",
     "iopub.status.busy": "2023-02-27T11:19:16.168140Z",
     "iopub.status.idle": "2023-02-27T11:19:16.176371Z",
     "shell.execute_reply": "2023-02-27T11:19:16.175758Z"
    }
   },
   "outputs": [
    {
     "data": {
      "text/plain": [
       "Batch(\n",
       "    x: Batch(\n",
       "           c: tensor([[[ 2.0425,  0.5871, -1.6850, -2.0679],\n",
       "                       [ 0.6888, -0.1030,  0.1280,  1.0964],\n",
       "                       [ 0.6884, -1.2083,  1.4923, -1.2985]],\n",
       "              \n",
       "                      [[ 2.0425,  0.5871, -1.6850, -2.0679],\n",
       "                       [ 0.6888, -0.1030,  0.1280,  1.0964],\n",
       "                       [ 0.6884, -1.2083,  1.4923, -1.2985]],\n",
       "              \n",
       "                      [[ 2.0425,  0.5871, -1.6850, -2.0679],\n",
       "                       [ 0.6888, -0.1030,  0.1280,  1.0964],\n",
       "                       [ 0.6884, -1.2083,  1.4923, -1.2985]],\n",
       "              \n",
       "                      [[ 2.0425,  0.5871, -1.6850, -2.0679],\n",
       "                       [ 0.6888, -0.1030,  0.1280,  1.0964],\n",
       "                       [ 0.6884, -1.2083,  1.4923, -1.2985]],\n",
       "              \n",
       "                      [[ 2.0425,  0.5871, -1.6850, -2.0679],\n",
       "                       [ 0.6888, -0.1030,  0.1280,  1.0964],\n",
       "                       [ 0.6884, -1.2083,  1.4923, -1.2985]],\n",
       "              \n",
       "                      [[ 2.0425,  0.5871, -1.6850, -2.0679],\n",
       "                       [ 0.6888, -0.1030,  0.1280,  1.0964],\n",
       "                       [ 0.6884, -1.2083,  1.4923, -1.2985]],\n",
       "              \n",
       "                      [[ 2.0425,  0.5871, -1.6850, -2.0679],\n",
       "                       [ 0.6888, -0.1030,  0.1280,  1.0964],\n",
       "                       [ 0.6884, -1.2083,  1.4923, -1.2985]],\n",
       "              \n",
       "                      [[ 2.0425,  0.5871, -1.6850, -2.0679],\n",
       "                       [ 0.6888, -0.1030,  0.1280,  1.0964],\n",
       "                       [ 0.6884, -1.2083,  1.4923, -1.2985]]]),\n",
       "       ),\n",
       "    a: tensor([[[-0.1113, -0.4839,  0.0426],\n",
       "                [ 0.6874,  0.0147,  0.2200]],\n",
       "       \n",
       "               [[-0.1113, -0.4839,  0.0426],\n",
       "                [ 0.6874,  0.0147,  0.2200]],\n",
       "       \n",
       "               [[-0.1113, -0.4839,  0.0426],\n",
       "                [ 0.6874,  0.0147,  0.2200]],\n",
       "       \n",
       "               [[-0.1113, -0.4839,  0.0426],\n",
       "                [ 0.6874,  0.0147,  0.2200]],\n",
       "       \n",
       "               [[-0.1113, -0.4839,  0.0426],\n",
       "                [ 0.6874,  0.0147,  0.2200]],\n",
       "       \n",
       "               [[-0.1113, -0.4839,  0.0426],\n",
       "                [ 0.6874,  0.0147,  0.2200]],\n",
       "       \n",
       "               [[-0.1113, -0.4839,  0.0426],\n",
       "                [ 0.6874,  0.0147,  0.2200]],\n",
       "       \n",
       "               [[-0.1113, -0.4839,  0.0426],\n",
       "                [ 0.6874,  0.0147,  0.2200]]]),\n",
       ")"
      ]
     },
     "execution_count": 25,
     "metadata": {},
     "output_type": "execute_result"
    }
   ],
   "source": [
    "batches = [Batch(**_TREE_DATA_2) for _ in range(8)]\n",
    "\n",
    "Batch.stack(batches)"
   ]
  },
  {
   "cell_type": "code",
   "execution_count": 26,
   "id": "ec9037a3",
   "metadata": {
    "execution": {
     "iopub.execute_input": "2023-02-27T11:19:16.179328Z",
     "iopub.status.busy": "2023-02-27T11:19:16.178954Z",
     "iopub.status.idle": "2023-02-27T11:19:22.573680Z",
     "shell.execute_reply": "2023-02-27T11:19:22.572950Z"
    }
   },
   "outputs": [
    {
     "name": "stdout",
     "output_type": "stream",
     "text": [
      "78.7 µs ± 211 ns per loop (mean ± std. dev. of 7 runs, 10,000 loops each)\n"
     ]
    }
   ],
   "source": [
    "%timeit Batch.stack(batches)"
   ]
  },
  {
   "cell_type": "code",
   "execution_count": 27,
   "id": "cb8ab77e",
   "metadata": {
    "execution": {
     "iopub.execute_input": "2023-02-27T11:19:22.576421Z",
     "iopub.status.busy": "2023-02-27T11:19:22.576084Z",
     "iopub.status.idle": "2023-02-27T11:19:22.583567Z",
     "shell.execute_reply": "2023-02-27T11:19:22.582970Z"
    }
   },
   "outputs": [
    {
     "data": {
      "text/plain": [
       "Batch(\n",
       "    x: Batch(\n",
       "           c: tensor([[ 2.0425,  0.5871, -1.6850, -2.0679],\n",
       "                      [ 0.6888, -0.1030,  0.1280,  1.0964],\n",
       "                      [ 0.6884, -1.2083,  1.4923, -1.2985],\n",
       "                      [ 2.0425,  0.5871, -1.6850, -2.0679],\n",
       "                      [ 0.6888, -0.1030,  0.1280,  1.0964],\n",
       "                      [ 0.6884, -1.2083,  1.4923, -1.2985],\n",
       "                      [ 2.0425,  0.5871, -1.6850, -2.0679],\n",
       "                      [ 0.6888, -0.1030,  0.1280,  1.0964],\n",
       "                      [ 0.6884, -1.2083,  1.4923, -1.2985],\n",
       "                      [ 2.0425,  0.5871, -1.6850, -2.0679],\n",
       "                      [ 0.6888, -0.1030,  0.1280,  1.0964],\n",
       "                      [ 0.6884, -1.2083,  1.4923, -1.2985],\n",
       "                      [ 2.0425,  0.5871, -1.6850, -2.0679],\n",
       "                      [ 0.6888, -0.1030,  0.1280,  1.0964],\n",
       "                      [ 0.6884, -1.2083,  1.4923, -1.2985],\n",
       "                      [ 2.0425,  0.5871, -1.6850, -2.0679],\n",
       "                      [ 0.6888, -0.1030,  0.1280,  1.0964],\n",
       "                      [ 0.6884, -1.2083,  1.4923, -1.2985],\n",
       "                      [ 2.0425,  0.5871, -1.6850, -2.0679],\n",
       "                      [ 0.6888, -0.1030,  0.1280,  1.0964],\n",
       "                      [ 0.6884, -1.2083,  1.4923, -1.2985],\n",
       "                      [ 2.0425,  0.5871, -1.6850, -2.0679],\n",
       "                      [ 0.6888, -0.1030,  0.1280,  1.0964],\n",
       "                      [ 0.6884, -1.2083,  1.4923, -1.2985]]),\n",
       "       ),\n",
       "    a: tensor([[-0.1113, -0.4839,  0.0426],\n",
       "               [ 0.6874,  0.0147,  0.2200],\n",
       "               [-0.1113, -0.4839,  0.0426],\n",
       "               [ 0.6874,  0.0147,  0.2200],\n",
       "               [-0.1113, -0.4839,  0.0426],\n",
       "               [ 0.6874,  0.0147,  0.2200],\n",
       "               [-0.1113, -0.4839,  0.0426],\n",
       "               [ 0.6874,  0.0147,  0.2200],\n",
       "               [-0.1113, -0.4839,  0.0426],\n",
       "               [ 0.6874,  0.0147,  0.2200],\n",
       "               [-0.1113, -0.4839,  0.0426],\n",
       "               [ 0.6874,  0.0147,  0.2200],\n",
       "               [-0.1113, -0.4839,  0.0426],\n",
       "               [ 0.6874,  0.0147,  0.2200],\n",
       "               [-0.1113, -0.4839,  0.0426],\n",
       "               [ 0.6874,  0.0147,  0.2200]]),\n",
       ")"
      ]
     },
     "execution_count": 27,
     "metadata": {},
     "output_type": "execute_result"
    }
   ],
   "source": [
    "Batch.cat(batches)"
   ]
  },
  {
   "cell_type": "code",
   "execution_count": 28,
   "id": "18dfb045",
   "metadata": {
    "execution": {
     "iopub.execute_input": "2023-02-27T11:19:22.585980Z",
     "iopub.status.busy": "2023-02-27T11:19:22.585641Z",
     "iopub.status.idle": "2023-02-27T11:19:34.268932Z",
     "shell.execute_reply": "2023-02-27T11:19:34.268158Z"
    }
   },
   "outputs": [
    {
     "name": "stdout",
     "output_type": "stream",
     "text": [
      "144 µs ± 179 ns per loop (mean ± std. dev. of 7 runs, 10,000 loops each)\n"
     ]
    }
   ],
   "source": [
    "%timeit Batch.cat(batches)"
   ]
  },
  {
   "cell_type": "code",
   "execution_count": 29,
   "id": "c6688e51",
   "metadata": {
    "execution": {
     "iopub.execute_input": "2023-02-27T11:19:34.272165Z",
     "iopub.status.busy": "2023-02-27T11:19:34.271567Z",
     "iopub.status.idle": "2023-02-27T11:19:36.827452Z",
     "shell.execute_reply": "2023-02-27T11:19:36.826820Z"
    }
   },
   "outputs": [
    {
     "name": "stdout",
     "output_type": "stream",
     "text": [
      "312 µs ± 1.43 µs per loop (mean ± std. dev. of 7 runs, 1,000 loops each)\n"
     ]
    }
   ],
   "source": [
    "batch = Batch({\n",
    "    'obs': torch.randn(8, 4, 84, 84),\n",
    "    'action': torch.randint(0, 6, size=(8, 1,)),\n",
    "    'reward': torch.rand(8, 1)}\n",
    ")\n",
    "\n",
    "%timeit list(Batch.split(batch, 1, shuffle=False, merge_last=True))"
   ]
  },
  {
   "cell_type": "code",
   "execution_count": null,
   "id": "2539fbd9",
   "metadata": {},
   "outputs": [],
   "source": []
  }
 ],
 "metadata": {
  "kernelspec": {
   "display_name": "Python 3 (ipykernel)",
   "language": "python",
   "name": "python3"
  },
  "language_info": {
   "codemirror_mode": {
    "name": "ipython",
    "version": 3
   },
   "file_extension": ".py",
   "mimetype": "text/x-python",
   "name": "python",
   "nbconvert_exporter": "python",
   "pygments_lexer": "ipython3",
   "version": "3.8.16"
  }
 },
 "nbformat": 4,
 "nbformat_minor": 5
}
