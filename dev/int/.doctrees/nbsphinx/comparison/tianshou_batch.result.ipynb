{
 "cells": [
  {
   "cell_type": "markdown",
   "id": "9d39d946",
   "metadata": {},
   "source": [
    "# Comparison Between TreeValue and Tianshou Batch"
   ]
  },
  {
   "cell_type": "markdown",
   "id": "3c6db2d4",
   "metadata": {},
   "source": [
    "In this section, we will take a look at the feature and performance of the [Tianshou Batch](https://github.com/thu-ml/tianshou) library, which is developed by Tsinghua Machine Learning Group."
   ]
  },
  {
   "cell_type": "markdown",
   "id": "069361b0",
   "metadata": {},
   "source": [
    "Before starting the comparison, let us define some thing."
   ]
  },
  {
   "cell_type": "code",
   "execution_count": 1,
   "id": "06fc8d26",
   "metadata": {
    "execution": {
     "iopub.execute_input": "2023-02-27T10:55:32.855127Z",
     "iopub.status.busy": "2023-02-27T10:55:32.854558Z",
     "iopub.status.idle": "2023-02-27T10:55:34.012795Z",
     "shell.execute_reply": "2023-02-27T10:55:34.011870Z"
    }
   },
   "outputs": [
    {
     "name": "stderr",
     "output_type": "stream",
     "text": [
      "/opt/hostedtoolcache/Python/3.8.16/x64/lib/python3.8/site-packages/tqdm/auto.py:22: TqdmWarning: IProgress not found. Please update jupyter and ipywidgets. See https://ipywidgets.readthedocs.io/en/stable/user_install.html\n",
      "  from .autonotebook import tqdm as notebook_tqdm\n"
     ]
    }
   ],
   "source": [
    "import torch \n",
    "\n",
    "_TREE_DATA_1 = {'a': 1, 'b': 2, 'x': {'c': 3, 'd': 4}}\n",
    "_TREE_DATA_2 = {\n",
    "    'a': torch.randn(2, 3), \n",
    "    'x': {\n",
    "        'c': torch.randn(3, 4)\n",
    "    },\n",
    "}\n",
    "_TREE_DATA_3 = {\n",
    "    'obs': torch.randn(4, 84, 84),\n",
    "    'action': torch.randint(0, 6, size=(1,)),\n",
    "    'reward': torch.rand(1),\n",
    "}"
   ]
  },
  {
   "cell_type": "markdown",
   "id": "83461b25",
   "metadata": {},
   "source": [
    "## Read and Write Operation"
   ]
  },
  {
   "cell_type": "markdown",
   "id": "067b3f73",
   "metadata": {},
   "source": [
    "Reading and writing are the two most common operations in the tree data structure based on the data model (TreeValue and Tianshou Batch both belong to this type), so this section will compare the reading and writing performance of these two libraries."
   ]
  },
  {
   "cell_type": "markdown",
   "id": "5d09a5b7",
   "metadata": {},
   "source": [
    "### TreeValue's Get and Set"
   ]
  },
  {
   "cell_type": "code",
   "execution_count": 2,
   "id": "9519c4bb",
   "metadata": {
    "execution": {
     "iopub.execute_input": "2023-02-27T10:55:34.017067Z",
     "iopub.status.busy": "2023-02-27T10:55:34.016418Z",
     "iopub.status.idle": "2023-02-27T10:55:34.366014Z",
     "shell.execute_reply": "2023-02-27T10:55:34.365157Z"
    }
   },
   "outputs": [],
   "source": [
    "from treevalue import FastTreeValue\n",
    "\n",
    "t = FastTreeValue(_TREE_DATA_2)"
   ]
  },
  {
   "cell_type": "code",
   "execution_count": 3,
   "id": "11c37677",
   "metadata": {
    "execution": {
     "iopub.execute_input": "2023-02-27T10:55:34.370232Z",
     "iopub.status.busy": "2023-02-27T10:55:34.369612Z",
     "iopub.status.idle": "2023-02-27T10:55:34.379677Z",
     "shell.execute_reply": "2023-02-27T10:55:34.378865Z"
    }
   },
   "outputs": [
    {
     "data": {
      "text/plain": [
       "<FastTreeValue 0x7fd3fc461490>\n",
       "├── 'a' --> tensor([[0.7637, 1.4298, 1.0616],\n",
       "│                   [0.9079, 0.7305, 0.4552]])\n",
       "└── 'x' --> <FastTreeValue 0x7fd3fc461a30>\n",
       "    └── 'c' --> tensor([[ 1.5351, -0.8296, -1.2411,  0.9635],\n",
       "                        [-0.3917, -0.2145,  0.6835,  2.1358],\n",
       "                        [-1.1314, -0.6800,  1.0157, -1.0037]])"
      ]
     },
     "execution_count": 3,
     "metadata": {},
     "output_type": "execute_result"
    }
   ],
   "source": [
    "t"
   ]
  },
  {
   "cell_type": "code",
   "execution_count": 4,
   "id": "fd70b0b9",
   "metadata": {
    "execution": {
     "iopub.execute_input": "2023-02-27T10:55:34.383456Z",
     "iopub.status.busy": "2023-02-27T10:55:34.382807Z",
     "iopub.status.idle": "2023-02-27T10:55:34.388594Z",
     "shell.execute_reply": "2023-02-27T10:55:34.387779Z"
    }
   },
   "outputs": [
    {
     "data": {
      "text/plain": [
       "tensor([[0.7637, 1.4298, 1.0616],\n",
       "        [0.9079, 0.7305, 0.4552]])"
      ]
     },
     "execution_count": 4,
     "metadata": {},
     "output_type": "execute_result"
    }
   ],
   "source": [
    "t.a"
   ]
  },
  {
   "cell_type": "code",
   "execution_count": 5,
   "id": "c18197bd",
   "metadata": {
    "execution": {
     "iopub.execute_input": "2023-02-27T10:55:34.392034Z",
     "iopub.status.busy": "2023-02-27T10:55:34.391456Z",
     "iopub.status.idle": "2023-02-27T10:55:40.418680Z",
     "shell.execute_reply": "2023-02-27T10:55:40.417466Z"
    }
   },
   "outputs": [
    {
     "name": "stdout",
     "output_type": "stream",
     "text": [
      "74.3 ns ± 0.168 ns per loop (mean ± std. dev. of 7 runs, 10,000,000 loops each)\n"
     ]
    }
   ],
   "source": [
    "%timeit t.a"
   ]
  },
  {
   "cell_type": "code",
   "execution_count": 6,
   "id": "bd52f867",
   "metadata": {
    "execution": {
     "iopub.execute_input": "2023-02-27T10:55:40.422565Z",
     "iopub.status.busy": "2023-02-27T10:55:40.421978Z",
     "iopub.status.idle": "2023-02-27T10:55:40.429377Z",
     "shell.execute_reply": "2023-02-27T10:55:40.428584Z"
    }
   },
   "outputs": [
    {
     "data": {
      "text/plain": [
       "<FastTreeValue 0x7fd3fc461490>\n",
       "├── 'a' --> tensor([[ 2.2998, -0.4478,  0.9933],\n",
       "│                   [-0.7404, -1.0409,  0.9346]])\n",
       "└── 'x' --> <FastTreeValue 0x7fd3fc461a30>\n",
       "    └── 'c' --> tensor([[ 1.5351, -0.8296, -1.2411,  0.9635],\n",
       "                        [-0.3917, -0.2145,  0.6835,  2.1358],\n",
       "                        [-1.1314, -0.6800,  1.0157, -1.0037]])"
      ]
     },
     "execution_count": 6,
     "metadata": {},
     "output_type": "execute_result"
    }
   ],
   "source": [
    "new_value = torch.randn(2, 3)\n",
    "t.a = new_value\n",
    "\n",
    "t"
   ]
  },
  {
   "cell_type": "code",
   "execution_count": 7,
   "id": "bbe04d1c",
   "metadata": {
    "execution": {
     "iopub.execute_input": "2023-02-27T10:55:40.432752Z",
     "iopub.status.busy": "2023-02-27T10:55:40.432307Z",
     "iopub.status.idle": "2023-02-27T10:55:47.056329Z",
     "shell.execute_reply": "2023-02-27T10:55:47.055315Z"
    }
   },
   "outputs": [
    {
     "name": "stdout",
     "output_type": "stream",
     "text": [
      "81.7 ns ± 0.282 ns per loop (mean ± std. dev. of 7 runs, 10,000,000 loops each)\n"
     ]
    }
   ],
   "source": [
    "%timeit t.a = new_value"
   ]
  },
  {
   "cell_type": "markdown",
   "id": "48c49731",
   "metadata": {},
   "source": [
    "### Tianshou Batch's Get and Set"
   ]
  },
  {
   "cell_type": "code",
   "execution_count": 8,
   "id": "f1bb14c1",
   "metadata": {
    "execution": {
     "iopub.execute_input": "2023-02-27T10:55:47.060809Z",
     "iopub.status.busy": "2023-02-27T10:55:47.060181Z",
     "iopub.status.idle": "2023-02-27T10:55:47.488551Z",
     "shell.execute_reply": "2023-02-27T10:55:47.487674Z"
    }
   },
   "outputs": [],
   "source": [
    "from tianshou.data import Batch\n",
    "\n",
    "b = Batch(**_TREE_DATA_2)"
   ]
  },
  {
   "cell_type": "code",
   "execution_count": 9,
   "id": "cb0777c3",
   "metadata": {
    "execution": {
     "iopub.execute_input": "2023-02-27T10:55:47.493173Z",
     "iopub.status.busy": "2023-02-27T10:55:47.492372Z",
     "iopub.status.idle": "2023-02-27T10:55:47.499289Z",
     "shell.execute_reply": "2023-02-27T10:55:47.498468Z"
    }
   },
   "outputs": [
    {
     "data": {
      "text/plain": [
       "Batch(\n",
       "    a: tensor([[0.7637, 1.4298, 1.0616],\n",
       "               [0.9079, 0.7305, 0.4552]]),\n",
       "    x: Batch(\n",
       "           c: tensor([[ 1.5351, -0.8296, -1.2411,  0.9635],\n",
       "                      [-0.3917, -0.2145,  0.6835,  2.1358],\n",
       "                      [-1.1314, -0.6800,  1.0157, -1.0037]]),\n",
       "       ),\n",
       ")"
      ]
     },
     "execution_count": 9,
     "metadata": {},
     "output_type": "execute_result"
    }
   ],
   "source": [
    "b"
   ]
  },
  {
   "cell_type": "code",
   "execution_count": 10,
   "id": "43ef8ea3",
   "metadata": {
    "execution": {
     "iopub.execute_input": "2023-02-27T10:55:47.502764Z",
     "iopub.status.busy": "2023-02-27T10:55:47.502344Z",
     "iopub.status.idle": "2023-02-27T10:55:47.507971Z",
     "shell.execute_reply": "2023-02-27T10:55:47.507093Z"
    }
   },
   "outputs": [
    {
     "data": {
      "text/plain": [
       "tensor([[0.7637, 1.4298, 1.0616],\n",
       "        [0.9079, 0.7305, 0.4552]])"
      ]
     },
     "execution_count": 10,
     "metadata": {},
     "output_type": "execute_result"
    }
   ],
   "source": [
    "b.a"
   ]
  },
  {
   "cell_type": "code",
   "execution_count": 11,
   "id": "b785ab72",
   "metadata": {
    "execution": {
     "iopub.execute_input": "2023-02-27T10:55:47.511428Z",
     "iopub.status.busy": "2023-02-27T10:55:47.510904Z",
     "iopub.status.idle": "2023-02-27T10:55:53.220476Z",
     "shell.execute_reply": "2023-02-27T10:55:53.218763Z"
    }
   },
   "outputs": [
    {
     "name": "stdout",
     "output_type": "stream",
     "text": [
      "70.3 ns ± 0.384 ns per loop (mean ± std. dev. of 7 runs, 10,000,000 loops each)\n"
     ]
    }
   ],
   "source": [
    "%timeit b.a"
   ]
  },
  {
   "cell_type": "code",
   "execution_count": 12,
   "id": "ad54dc69",
   "metadata": {
    "execution": {
     "iopub.execute_input": "2023-02-27T10:55:53.225799Z",
     "iopub.status.busy": "2023-02-27T10:55:53.225263Z",
     "iopub.status.idle": "2023-02-27T10:55:53.233657Z",
     "shell.execute_reply": "2023-02-27T10:55:53.232920Z"
    }
   },
   "outputs": [
    {
     "data": {
      "text/plain": [
       "Batch(\n",
       "    a: tensor([[ 0.1414, -0.9350,  0.0998],\n",
       "               [-1.0774,  0.0107,  0.7316]]),\n",
       "    x: Batch(\n",
       "           c: tensor([[ 1.5351, -0.8296, -1.2411,  0.9635],\n",
       "                      [-0.3917, -0.2145,  0.6835,  2.1358],\n",
       "                      [-1.1314, -0.6800,  1.0157, -1.0037]]),\n",
       "       ),\n",
       ")"
      ]
     },
     "execution_count": 12,
     "metadata": {},
     "output_type": "execute_result"
    }
   ],
   "source": [
    "new_value = torch.randn(2, 3)\n",
    "b.a = new_value\n",
    "\n",
    "b"
   ]
  },
  {
   "cell_type": "code",
   "execution_count": 13,
   "id": "29b1d0bf",
   "metadata": {
    "execution": {
     "iopub.execute_input": "2023-02-27T10:55:53.237075Z",
     "iopub.status.busy": "2023-02-27T10:55:53.236626Z",
     "iopub.status.idle": "2023-02-27T10:55:58.005928Z",
     "shell.execute_reply": "2023-02-27T10:55:58.005002Z"
    }
   },
   "outputs": [
    {
     "name": "stdout",
     "output_type": "stream",
     "text": [
      "586 ns ± 1.81 ns per loop (mean ± std. dev. of 7 runs, 1,000,000 loops each)\n"
     ]
    }
   ],
   "source": [
    "%timeit b.a = new_value"
   ]
  },
  {
   "cell_type": "markdown",
   "id": "b61ad1d0",
   "metadata": {},
   "source": [
    "## Initialization"
   ]
  },
  {
   "cell_type": "markdown",
   "id": "d70f0d54",
   "metadata": {},
   "source": [
    "### TreeValue's Initialization"
   ]
  },
  {
   "cell_type": "code",
   "execution_count": 14,
   "id": "d32a679b",
   "metadata": {
    "execution": {
     "iopub.execute_input": "2023-02-27T10:55:58.010083Z",
     "iopub.status.busy": "2023-02-27T10:55:58.009406Z",
     "iopub.status.idle": "2023-02-27T10:56:05.891105Z",
     "shell.execute_reply": "2023-02-27T10:56:05.890074Z"
    }
   },
   "outputs": [
    {
     "name": "stdout",
     "output_type": "stream",
     "text": [
      "972 ns ± 3.56 ns per loop (mean ± std. dev. of 7 runs, 1,000,000 loops each)\n"
     ]
    }
   ],
   "source": [
    "%timeit FastTreeValue(_TREE_DATA_1)"
   ]
  },
  {
   "cell_type": "markdown",
   "id": "24f3707b",
   "metadata": {},
   "source": [
    "### Tianshou Batch's Initialization"
   ]
  },
  {
   "cell_type": "code",
   "execution_count": 15,
   "id": "ac3958df",
   "metadata": {
    "execution": {
     "iopub.execute_input": "2023-02-27T10:56:05.894835Z",
     "iopub.status.busy": "2023-02-27T10:56:05.894269Z",
     "iopub.status.idle": "2023-02-27T10:56:15.978372Z",
     "shell.execute_reply": "2023-02-27T10:56:15.977268Z"
    }
   },
   "outputs": [
    {
     "name": "stdout",
     "output_type": "stream",
     "text": [
      "12.4 µs ± 31.8 ns per loop (mean ± std. dev. of 7 runs, 100,000 loops each)\n"
     ]
    }
   ],
   "source": [
    "%timeit Batch(**_TREE_DATA_1)"
   ]
  },
  {
   "cell_type": "markdown",
   "id": "1ab82e2d",
   "metadata": {},
   "source": [
    "## Deep Copy Operation"
   ]
  },
  {
   "cell_type": "code",
   "execution_count": 16,
   "id": "210a9442",
   "metadata": {
    "execution": {
     "iopub.execute_input": "2023-02-27T10:56:15.982472Z",
     "iopub.status.busy": "2023-02-27T10:56:15.981938Z",
     "iopub.status.idle": "2023-02-27T10:56:15.987459Z",
     "shell.execute_reply": "2023-02-27T10:56:15.986454Z"
    }
   },
   "outputs": [],
   "source": [
    "import copy"
   ]
  },
  {
   "cell_type": "markdown",
   "id": "5a736274",
   "metadata": {},
   "source": [
    "### Deep Copy of TreeValue"
   ]
  },
  {
   "cell_type": "code",
   "execution_count": 17,
   "id": "f9bcadd6",
   "metadata": {
    "execution": {
     "iopub.execute_input": "2023-02-27T10:56:15.991647Z",
     "iopub.status.busy": "2023-02-27T10:56:15.990968Z",
     "iopub.status.idle": "2023-02-27T10:56:29.524739Z",
     "shell.execute_reply": "2023-02-27T10:56:29.523989Z"
    }
   },
   "outputs": [
    {
     "name": "stdout",
     "output_type": "stream",
     "text": [
      "167 µs ± 777 ns per loop (mean ± std. dev. of 7 runs, 10,000 loops each)\n"
     ]
    }
   ],
   "source": [
    "t3 = FastTreeValue(_TREE_DATA_3)\n",
    "%timeit copy.deepcopy(t3)"
   ]
  },
  {
   "cell_type": "markdown",
   "id": "bf8be7ea",
   "metadata": {},
   "source": [
    "### Deep Copy of Tianshou Batch"
   ]
  },
  {
   "cell_type": "code",
   "execution_count": 18,
   "id": "91998e6f",
   "metadata": {
    "execution": {
     "iopub.execute_input": "2023-02-27T10:56:29.528956Z",
     "iopub.status.busy": "2023-02-27T10:56:29.528302Z",
     "iopub.status.idle": "2023-02-27T10:56:43.019186Z",
     "shell.execute_reply": "2023-02-27T10:56:43.018423Z"
    }
   },
   "outputs": [
    {
     "name": "stdout",
     "output_type": "stream",
     "text": [
      "166 µs ± 1.48 µs per loop (mean ± std. dev. of 7 runs, 10,000 loops each)\n"
     ]
    }
   ],
   "source": [
    "b3 = Batch(**_TREE_DATA_3)\n",
    "%timeit copy.deepcopy(b3)"
   ]
  },
  {
   "cell_type": "markdown",
   "id": "223162fb",
   "metadata": {},
   "source": [
    "## Stack, Concat and Split Operation"
   ]
  },
  {
   "cell_type": "markdown",
   "id": "85fa4a73",
   "metadata": {},
   "source": [
    "### Performance of TreeValue"
   ]
  },
  {
   "cell_type": "code",
   "execution_count": 19,
   "id": "a0c2b697",
   "metadata": {
    "execution": {
     "iopub.execute_input": "2023-02-27T10:56:43.023009Z",
     "iopub.status.busy": "2023-02-27T10:56:43.022416Z",
     "iopub.status.idle": "2023-02-27T10:56:43.026613Z",
     "shell.execute_reply": "2023-02-27T10:56:43.025694Z"
    }
   },
   "outputs": [],
   "source": [
    "trees = [FastTreeValue(_TREE_DATA_2) for _ in range(8)]"
   ]
  },
  {
   "cell_type": "code",
   "execution_count": 20,
   "id": "017ea5a5",
   "metadata": {
    "execution": {
     "iopub.execute_input": "2023-02-27T10:56:43.029966Z",
     "iopub.status.busy": "2023-02-27T10:56:43.029413Z",
     "iopub.status.idle": "2023-02-27T10:56:43.037788Z",
     "shell.execute_reply": "2023-02-27T10:56:43.036983Z"
    }
   },
   "outputs": [
    {
     "data": {
      "text/plain": [
       "<FastTreeValue 0x7fd345762a60>\n",
       "├── 'a' --> tensor([[[0.7637, 1.4298, 1.0616],\n",
       "│                    [0.9079, 0.7305, 0.4552]],\n",
       "│           \n",
       "│                   [[0.7637, 1.4298, 1.0616],\n",
       "│                    [0.9079, 0.7305, 0.4552]],\n",
       "│           \n",
       "│                   [[0.7637, 1.4298, 1.0616],\n",
       "│                    [0.9079, 0.7305, 0.4552]],\n",
       "│           \n",
       "│                   [[0.7637, 1.4298, 1.0616],\n",
       "│                    [0.9079, 0.7305, 0.4552]],\n",
       "│           \n",
       "│                   [[0.7637, 1.4298, 1.0616],\n",
       "│                    [0.9079, 0.7305, 0.4552]],\n",
       "│           \n",
       "│                   [[0.7637, 1.4298, 1.0616],\n",
       "│                    [0.9079, 0.7305, 0.4552]],\n",
       "│           \n",
       "│                   [[0.7637, 1.4298, 1.0616],\n",
       "│                    [0.9079, 0.7305, 0.4552]],\n",
       "│           \n",
       "│                   [[0.7637, 1.4298, 1.0616],\n",
       "│                    [0.9079, 0.7305, 0.4552]]])\n",
       "└── 'x' --> <FastTreeValue 0x7fd3fc4cdd30>\n",
       "    └── 'c' --> tensor([[[ 1.5351, -0.8296, -1.2411,  0.9635],\n",
       "                         [-0.3917, -0.2145,  0.6835,  2.1358],\n",
       "                         [-1.1314, -0.6800,  1.0157, -1.0037]],\n",
       "                \n",
       "                        [[ 1.5351, -0.8296, -1.2411,  0.9635],\n",
       "                         [-0.3917, -0.2145,  0.6835,  2.1358],\n",
       "                         [-1.1314, -0.6800,  1.0157, -1.0037]],\n",
       "                \n",
       "                        [[ 1.5351, -0.8296, -1.2411,  0.9635],\n",
       "                         [-0.3917, -0.2145,  0.6835,  2.1358],\n",
       "                         [-1.1314, -0.6800,  1.0157, -1.0037]],\n",
       "                \n",
       "                        [[ 1.5351, -0.8296, -1.2411,  0.9635],\n",
       "                         [-0.3917, -0.2145,  0.6835,  2.1358],\n",
       "                         [-1.1314, -0.6800,  1.0157, -1.0037]],\n",
       "                \n",
       "                        [[ 1.5351, -0.8296, -1.2411,  0.9635],\n",
       "                         [-0.3917, -0.2145,  0.6835,  2.1358],\n",
       "                         [-1.1314, -0.6800,  1.0157, -1.0037]],\n",
       "                \n",
       "                        [[ 1.5351, -0.8296, -1.2411,  0.9635],\n",
       "                         [-0.3917, -0.2145,  0.6835,  2.1358],\n",
       "                         [-1.1314, -0.6800,  1.0157, -1.0037]],\n",
       "                \n",
       "                        [[ 1.5351, -0.8296, -1.2411,  0.9635],\n",
       "                         [-0.3917, -0.2145,  0.6835,  2.1358],\n",
       "                         [-1.1314, -0.6800,  1.0157, -1.0037]],\n",
       "                \n",
       "                        [[ 1.5351, -0.8296, -1.2411,  0.9635],\n",
       "                         [-0.3917, -0.2145,  0.6835,  2.1358],\n",
       "                         [-1.1314, -0.6800,  1.0157, -1.0037]]])"
      ]
     },
     "execution_count": 20,
     "metadata": {},
     "output_type": "execute_result"
    }
   ],
   "source": [
    "t_stack = FastTreeValue.func(subside=True)(torch.stack)\n",
    "\n",
    "t_stack(trees)"
   ]
  },
  {
   "cell_type": "code",
   "execution_count": 21,
   "id": "f8b3f415",
   "metadata": {
    "execution": {
     "iopub.execute_input": "2023-02-27T10:56:43.041094Z",
     "iopub.status.busy": "2023-02-27T10:56:43.040363Z",
     "iopub.status.idle": "2023-02-27T10:56:46.071049Z",
     "shell.execute_reply": "2023-02-27T10:56:46.070124Z"
    }
   },
   "outputs": [
    {
     "name": "stdout",
     "output_type": "stream",
     "text": [
      "37.3 µs ± 204 ns per loop (mean ± std. dev. of 7 runs, 10,000 loops each)\n"
     ]
    }
   ],
   "source": [
    "%timeit t_stack(trees)"
   ]
  },
  {
   "cell_type": "code",
   "execution_count": 22,
   "id": "94b56771",
   "metadata": {
    "execution": {
     "iopub.execute_input": "2023-02-27T10:56:46.075171Z",
     "iopub.status.busy": "2023-02-27T10:56:46.074779Z",
     "iopub.status.idle": "2023-02-27T10:56:46.084438Z",
     "shell.execute_reply": "2023-02-27T10:56:46.083701Z"
    }
   },
   "outputs": [
    {
     "data": {
      "text/plain": [
       "<FastTreeValue 0x7fd34c375cd0>\n",
       "├── 'a' --> tensor([[0.7637, 1.4298, 1.0616],\n",
       "│                   [0.9079, 0.7305, 0.4552],\n",
       "│                   [0.7637, 1.4298, 1.0616],\n",
       "│                   [0.9079, 0.7305, 0.4552],\n",
       "│                   [0.7637, 1.4298, 1.0616],\n",
       "│                   [0.9079, 0.7305, 0.4552],\n",
       "│                   [0.7637, 1.4298, 1.0616],\n",
       "│                   [0.9079, 0.7305, 0.4552],\n",
       "│                   [0.7637, 1.4298, 1.0616],\n",
       "│                   [0.9079, 0.7305, 0.4552],\n",
       "│                   [0.7637, 1.4298, 1.0616],\n",
       "│                   [0.9079, 0.7305, 0.4552],\n",
       "│                   [0.7637, 1.4298, 1.0616],\n",
       "│                   [0.9079, 0.7305, 0.4552],\n",
       "│                   [0.7637, 1.4298, 1.0616],\n",
       "│                   [0.9079, 0.7305, 0.4552]])\n",
       "└── 'x' --> <FastTreeValue 0x7fd34576bb50>\n",
       "    └── 'c' --> tensor([[ 1.5351, -0.8296, -1.2411,  0.9635],\n",
       "                        [-0.3917, -0.2145,  0.6835,  2.1358],\n",
       "                        [-1.1314, -0.6800,  1.0157, -1.0037],\n",
       "                        [ 1.5351, -0.8296, -1.2411,  0.9635],\n",
       "                        [-0.3917, -0.2145,  0.6835,  2.1358],\n",
       "                        [-1.1314, -0.6800,  1.0157, -1.0037],\n",
       "                        [ 1.5351, -0.8296, -1.2411,  0.9635],\n",
       "                        [-0.3917, -0.2145,  0.6835,  2.1358],\n",
       "                        [-1.1314, -0.6800,  1.0157, -1.0037],\n",
       "                        [ 1.5351, -0.8296, -1.2411,  0.9635],\n",
       "                        [-0.3917, -0.2145,  0.6835,  2.1358],\n",
       "                        [-1.1314, -0.6800,  1.0157, -1.0037],\n",
       "                        [ 1.5351, -0.8296, -1.2411,  0.9635],\n",
       "                        [-0.3917, -0.2145,  0.6835,  2.1358],\n",
       "                        [-1.1314, -0.6800,  1.0157, -1.0037],\n",
       "                        [ 1.5351, -0.8296, -1.2411,  0.9635],\n",
       "                        [-0.3917, -0.2145,  0.6835,  2.1358],\n",
       "                        [-1.1314, -0.6800,  1.0157, -1.0037],\n",
       "                        [ 1.5351, -0.8296, -1.2411,  0.9635],\n",
       "                        [-0.3917, -0.2145,  0.6835,  2.1358],\n",
       "                        [-1.1314, -0.6800,  1.0157, -1.0037],\n",
       "                        [ 1.5351, -0.8296, -1.2411,  0.9635],\n",
       "                        [-0.3917, -0.2145,  0.6835,  2.1358],\n",
       "                        [-1.1314, -0.6800,  1.0157, -1.0037]])"
      ]
     },
     "execution_count": 22,
     "metadata": {},
     "output_type": "execute_result"
    }
   ],
   "source": [
    "t_cat = FastTreeValue.func(subside=True)(torch.cat)\n",
    "\n",
    "t_cat(trees)"
   ]
  },
  {
   "cell_type": "code",
   "execution_count": 23,
   "id": "5e9c06a6",
   "metadata": {
    "execution": {
     "iopub.execute_input": "2023-02-27T10:56:46.088384Z",
     "iopub.status.busy": "2023-02-27T10:56:46.087740Z",
     "iopub.status.idle": "2023-02-27T10:56:49.021472Z",
     "shell.execute_reply": "2023-02-27T10:56:49.020309Z"
    }
   },
   "outputs": [
    {
     "name": "stdout",
     "output_type": "stream",
     "text": [
      "35.8 µs ± 687 ns per loop (mean ± std. dev. of 7 runs, 10,000 loops each)\n"
     ]
    }
   ],
   "source": [
    "%timeit t_cat(trees)"
   ]
  },
  {
   "cell_type": "code",
   "execution_count": 24,
   "id": "a3ab5c8f",
   "metadata": {
    "execution": {
     "iopub.execute_input": "2023-02-27T10:56:49.024988Z",
     "iopub.status.busy": "2023-02-27T10:56:49.024674Z",
     "iopub.status.idle": "2023-02-27T10:56:54.368926Z",
     "shell.execute_reply": "2023-02-27T10:56:54.367874Z"
    }
   },
   "outputs": [
    {
     "name": "stdout",
     "output_type": "stream",
     "text": [
      "65.7 µs ± 281 ns per loop (mean ± std. dev. of 7 runs, 10,000 loops each)\n"
     ]
    }
   ],
   "source": [
    "t_split = FastTreeValue.func(rise=True)(torch.split)\n",
    "tree = FastTreeValue({\n",
    "    'obs': torch.randn(8, 4, 84, 84),\n",
    "    'action': torch.randint(0, 6, size=(8, 1,)),\n",
    "    'reward': torch.rand(8, 1),\n",
    "})\n",
    "\n",
    "%timeit t_split(tree, 1)"
   ]
  },
  {
   "cell_type": "markdown",
   "id": "31c3ec0b",
   "metadata": {},
   "source": [
    "### Performance of Tianshou Batch"
   ]
  },
  {
   "cell_type": "code",
   "execution_count": 25,
   "id": "9ead828a",
   "metadata": {
    "execution": {
     "iopub.execute_input": "2023-02-27T10:56:54.373785Z",
     "iopub.status.busy": "2023-02-27T10:56:54.373193Z",
     "iopub.status.idle": "2023-02-27T10:56:54.386107Z",
     "shell.execute_reply": "2023-02-27T10:56:54.385412Z"
    }
   },
   "outputs": [
    {
     "data": {
      "text/plain": [
       "Batch(\n",
       "    x: Batch(\n",
       "           c: tensor([[[ 1.5351, -0.8296, -1.2411,  0.9635],\n",
       "                       [-0.3917, -0.2145,  0.6835,  2.1358],\n",
       "                       [-1.1314, -0.6800,  1.0157, -1.0037]],\n",
       "              \n",
       "                      [[ 1.5351, -0.8296, -1.2411,  0.9635],\n",
       "                       [-0.3917, -0.2145,  0.6835,  2.1358],\n",
       "                       [-1.1314, -0.6800,  1.0157, -1.0037]],\n",
       "              \n",
       "                      [[ 1.5351, -0.8296, -1.2411,  0.9635],\n",
       "                       [-0.3917, -0.2145,  0.6835,  2.1358],\n",
       "                       [-1.1314, -0.6800,  1.0157, -1.0037]],\n",
       "              \n",
       "                      [[ 1.5351, -0.8296, -1.2411,  0.9635],\n",
       "                       [-0.3917, -0.2145,  0.6835,  2.1358],\n",
       "                       [-1.1314, -0.6800,  1.0157, -1.0037]],\n",
       "              \n",
       "                      [[ 1.5351, -0.8296, -1.2411,  0.9635],\n",
       "                       [-0.3917, -0.2145,  0.6835,  2.1358],\n",
       "                       [-1.1314, -0.6800,  1.0157, -1.0037]],\n",
       "              \n",
       "                      [[ 1.5351, -0.8296, -1.2411,  0.9635],\n",
       "                       [-0.3917, -0.2145,  0.6835,  2.1358],\n",
       "                       [-1.1314, -0.6800,  1.0157, -1.0037]],\n",
       "              \n",
       "                      [[ 1.5351, -0.8296, -1.2411,  0.9635],\n",
       "                       [-0.3917, -0.2145,  0.6835,  2.1358],\n",
       "                       [-1.1314, -0.6800,  1.0157, -1.0037]],\n",
       "              \n",
       "                      [[ 1.5351, -0.8296, -1.2411,  0.9635],\n",
       "                       [-0.3917, -0.2145,  0.6835,  2.1358],\n",
       "                       [-1.1314, -0.6800,  1.0157, -1.0037]]]),\n",
       "       ),\n",
       "    a: tensor([[[0.7637, 1.4298, 1.0616],\n",
       "                [0.9079, 0.7305, 0.4552]],\n",
       "       \n",
       "               [[0.7637, 1.4298, 1.0616],\n",
       "                [0.9079, 0.7305, 0.4552]],\n",
       "       \n",
       "               [[0.7637, 1.4298, 1.0616],\n",
       "                [0.9079, 0.7305, 0.4552]],\n",
       "       \n",
       "               [[0.7637, 1.4298, 1.0616],\n",
       "                [0.9079, 0.7305, 0.4552]],\n",
       "       \n",
       "               [[0.7637, 1.4298, 1.0616],\n",
       "                [0.9079, 0.7305, 0.4552]],\n",
       "       \n",
       "               [[0.7637, 1.4298, 1.0616],\n",
       "                [0.9079, 0.7305, 0.4552]],\n",
       "       \n",
       "               [[0.7637, 1.4298, 1.0616],\n",
       "                [0.9079, 0.7305, 0.4552]],\n",
       "       \n",
       "               [[0.7637, 1.4298, 1.0616],\n",
       "                [0.9079, 0.7305, 0.4552]]]),\n",
       ")"
      ]
     },
     "execution_count": 25,
     "metadata": {},
     "output_type": "execute_result"
    }
   ],
   "source": [
    "batches = [Batch(**_TREE_DATA_2) for _ in range(8)]\n",
    "\n",
    "Batch.stack(batches)"
   ]
  },
  {
   "cell_type": "code",
   "execution_count": 26,
   "id": "ec9037a3",
   "metadata": {
    "execution": {
     "iopub.execute_input": "2023-02-27T10:56:54.389650Z",
     "iopub.status.busy": "2023-02-27T10:56:54.388943Z",
     "iopub.status.idle": "2023-02-27T10:57:01.593895Z",
     "shell.execute_reply": "2023-02-27T10:57:01.592707Z"
    }
   },
   "outputs": [
    {
     "name": "stdout",
     "output_type": "stream",
     "text": [
      "88.5 µs ± 452 ns per loop (mean ± std. dev. of 7 runs, 10,000 loops each)\n"
     ]
    }
   ],
   "source": [
    "%timeit Batch.stack(batches)"
   ]
  },
  {
   "cell_type": "code",
   "execution_count": 27,
   "id": "cb8ab77e",
   "metadata": {
    "execution": {
     "iopub.execute_input": "2023-02-27T10:57:01.598004Z",
     "iopub.status.busy": "2023-02-27T10:57:01.597331Z",
     "iopub.status.idle": "2023-02-27T10:57:01.606254Z",
     "shell.execute_reply": "2023-02-27T10:57:01.605526Z"
    }
   },
   "outputs": [
    {
     "data": {
      "text/plain": [
       "Batch(\n",
       "    x: Batch(\n",
       "           c: tensor([[ 1.5351, -0.8296, -1.2411,  0.9635],\n",
       "                      [-0.3917, -0.2145,  0.6835,  2.1358],\n",
       "                      [-1.1314, -0.6800,  1.0157, -1.0037],\n",
       "                      [ 1.5351, -0.8296, -1.2411,  0.9635],\n",
       "                      [-0.3917, -0.2145,  0.6835,  2.1358],\n",
       "                      [-1.1314, -0.6800,  1.0157, -1.0037],\n",
       "                      [ 1.5351, -0.8296, -1.2411,  0.9635],\n",
       "                      [-0.3917, -0.2145,  0.6835,  2.1358],\n",
       "                      [-1.1314, -0.6800,  1.0157, -1.0037],\n",
       "                      [ 1.5351, -0.8296, -1.2411,  0.9635],\n",
       "                      [-0.3917, -0.2145,  0.6835,  2.1358],\n",
       "                      [-1.1314, -0.6800,  1.0157, -1.0037],\n",
       "                      [ 1.5351, -0.8296, -1.2411,  0.9635],\n",
       "                      [-0.3917, -0.2145,  0.6835,  2.1358],\n",
       "                      [-1.1314, -0.6800,  1.0157, -1.0037],\n",
       "                      [ 1.5351, -0.8296, -1.2411,  0.9635],\n",
       "                      [-0.3917, -0.2145,  0.6835,  2.1358],\n",
       "                      [-1.1314, -0.6800,  1.0157, -1.0037],\n",
       "                      [ 1.5351, -0.8296, -1.2411,  0.9635],\n",
       "                      [-0.3917, -0.2145,  0.6835,  2.1358],\n",
       "                      [-1.1314, -0.6800,  1.0157, -1.0037],\n",
       "                      [ 1.5351, -0.8296, -1.2411,  0.9635],\n",
       "                      [-0.3917, -0.2145,  0.6835,  2.1358],\n",
       "                      [-1.1314, -0.6800,  1.0157, -1.0037]]),\n",
       "       ),\n",
       "    a: tensor([[0.7637, 1.4298, 1.0616],\n",
       "               [0.9079, 0.7305, 0.4552],\n",
       "               [0.7637, 1.4298, 1.0616],\n",
       "               [0.9079, 0.7305, 0.4552],\n",
       "               [0.7637, 1.4298, 1.0616],\n",
       "               [0.9079, 0.7305, 0.4552],\n",
       "               [0.7637, 1.4298, 1.0616],\n",
       "               [0.9079, 0.7305, 0.4552],\n",
       "               [0.7637, 1.4298, 1.0616],\n",
       "               [0.9079, 0.7305, 0.4552],\n",
       "               [0.7637, 1.4298, 1.0616],\n",
       "               [0.9079, 0.7305, 0.4552],\n",
       "               [0.7637, 1.4298, 1.0616],\n",
       "               [0.9079, 0.7305, 0.4552],\n",
       "               [0.7637, 1.4298, 1.0616],\n",
       "               [0.9079, 0.7305, 0.4552]]),\n",
       ")"
      ]
     },
     "execution_count": 27,
     "metadata": {},
     "output_type": "execute_result"
    }
   ],
   "source": [
    "Batch.cat(batches)"
   ]
  },
  {
   "cell_type": "code",
   "execution_count": 28,
   "id": "18dfb045",
   "metadata": {
    "execution": {
     "iopub.execute_input": "2023-02-27T10:57:01.609583Z",
     "iopub.status.busy": "2023-02-27T10:57:01.609169Z",
     "iopub.status.idle": "2023-02-27T10:57:15.075359Z",
     "shell.execute_reply": "2023-02-27T10:57:15.074205Z"
    }
   },
   "outputs": [
    {
     "name": "stdout",
     "output_type": "stream",
     "text": [
      "166 µs ± 790 ns per loop (mean ± std. dev. of 7 runs, 10,000 loops each)\n"
     ]
    }
   ],
   "source": [
    "%timeit Batch.cat(batches)"
   ]
  },
  {
   "cell_type": "code",
   "execution_count": 29,
   "id": "c6688e51",
   "metadata": {
    "execution": {
     "iopub.execute_input": "2023-02-27T10:57:15.079307Z",
     "iopub.status.busy": "2023-02-27T10:57:15.078813Z",
     "iopub.status.idle": "2023-02-27T10:57:18.188298Z",
     "shell.execute_reply": "2023-02-27T10:57:18.187597Z"
    }
   },
   "outputs": [
    {
     "name": "stdout",
     "output_type": "stream",
     "text": [
      "380 µs ± 7.51 µs per loop (mean ± std. dev. of 7 runs, 1,000 loops each)\n"
     ]
    }
   ],
   "source": [
    "batch = Batch({\n",
    "    'obs': torch.randn(8, 4, 84, 84),\n",
    "    'action': torch.randint(0, 6, size=(8, 1,)),\n",
    "    'reward': torch.rand(8, 1)}\n",
    ")\n",
    "\n",
    "%timeit list(Batch.split(batch, 1, shuffle=False, merge_last=True))"
   ]
  },
  {
   "cell_type": "code",
   "execution_count": null,
   "id": "2539fbd9",
   "metadata": {},
   "outputs": [],
   "source": []
  }
 ],
 "metadata": {
  "kernelspec": {
   "display_name": "Python 3 (ipykernel)",
   "language": "python",
   "name": "python3"
  },
  "language_info": {
   "codemirror_mode": {
    "name": "ipython",
    "version": 3
   },
   "file_extension": ".py",
   "mimetype": "text/x-python",
   "name": "python",
   "nbconvert_exporter": "python",
   "pygments_lexer": "ipython3",
   "version": "3.8.16"
  }
 },
 "nbformat": 4,
 "nbformat_minor": 5
}
