{
 "cells": [
  {
   "cell_type": "markdown",
   "id": "9d39d946",
   "metadata": {},
   "source": [
    "# Comparison Between TreeValue and Tianshou Batch"
   ]
  },
  {
   "cell_type": "markdown",
   "id": "3c6db2d4",
   "metadata": {},
   "source": [
    "In this section, we will take a look at the feature and performance of the [Tianshou Batch](https://github.com/thu-ml/tianshou) library, which is developed by Tsinghua Machine Learning Group."
   ]
  },
  {
   "cell_type": "markdown",
   "id": "069361b0",
   "metadata": {},
   "source": [
    "Before starting the comparison, let us define some thing."
   ]
  },
  {
   "cell_type": "code",
   "execution_count": 1,
   "id": "06fc8d26",
   "metadata": {
    "execution": {
     "iopub.execute_input": "2023-02-27T12:19:54.501398Z",
     "iopub.status.busy": "2023-02-27T12:19:54.501119Z",
     "iopub.status.idle": "2023-02-27T12:19:55.546235Z",
     "shell.execute_reply": "2023-02-27T12:19:55.545372Z"
    }
   },
   "outputs": [
    {
     "name": "stderr",
     "output_type": "stream",
     "text": [
      "/opt/hostedtoolcache/Python/3.8.16/x64/lib/python3.8/site-packages/tqdm/auto.py:22: TqdmWarning: IProgress not found. Please update jupyter and ipywidgets. See https://ipywidgets.readthedocs.io/en/stable/user_install.html\n",
      "  from .autonotebook import tqdm as notebook_tqdm\n"
     ]
    }
   ],
   "source": [
    "import torch \n",
    "\n",
    "_TREE_DATA_1 = {'a': 1, 'b': 2, 'x': {'c': 3, 'd': 4}}\n",
    "_TREE_DATA_2 = {\n",
    "    'a': torch.randn(2, 3), \n",
    "    'x': {\n",
    "        'c': torch.randn(3, 4)\n",
    "    },\n",
    "}\n",
    "_TREE_DATA_3 = {\n",
    "    'obs': torch.randn(4, 84, 84),\n",
    "    'action': torch.randint(0, 6, size=(1,)),\n",
    "    'reward': torch.rand(1),\n",
    "}"
   ]
  },
  {
   "cell_type": "markdown",
   "id": "83461b25",
   "metadata": {},
   "source": [
    "## Read and Write Operation"
   ]
  },
  {
   "cell_type": "markdown",
   "id": "067b3f73",
   "metadata": {},
   "source": [
    "Reading and writing are the two most common operations in the tree data structure based on the data model (TreeValue and Tianshou Batch both belong to this type), so this section will compare the reading and writing performance of these two libraries."
   ]
  },
  {
   "cell_type": "markdown",
   "id": "5d09a5b7",
   "metadata": {},
   "source": [
    "### TreeValue's Get and Set"
   ]
  },
  {
   "cell_type": "code",
   "execution_count": 2,
   "id": "9519c4bb",
   "metadata": {
    "execution": {
     "iopub.execute_input": "2023-02-27T12:19:55.550947Z",
     "iopub.status.busy": "2023-02-27T12:19:55.550162Z",
     "iopub.status.idle": "2023-02-27T12:19:55.864737Z",
     "shell.execute_reply": "2023-02-27T12:19:55.863906Z"
    }
   },
   "outputs": [],
   "source": [
    "from treevalue import FastTreeValue\n",
    "\n",
    "t = FastTreeValue(_TREE_DATA_2)"
   ]
  },
  {
   "cell_type": "code",
   "execution_count": 3,
   "id": "11c37677",
   "metadata": {
    "execution": {
     "iopub.execute_input": "2023-02-27T12:19:55.868700Z",
     "iopub.status.busy": "2023-02-27T12:19:55.868140Z",
     "iopub.status.idle": "2023-02-27T12:19:55.880305Z",
     "shell.execute_reply": "2023-02-27T12:19:55.879573Z"
    }
   },
   "outputs": [
    {
     "data": {
      "text/plain": [
       "<FastTreeValue 0x7fa2f4f8cca0>\n",
       "├── 'a' --> tensor([[ 1.2057, -0.4213, -0.9816],\n",
       "│                   [-0.5064, -1.0093,  0.0619]])\n",
       "└── 'x' --> <FastTreeValue 0x7fa2f4f8cb50>\n",
       "    └── 'c' --> tensor([[ 0.0937,  1.7529, -1.5770, -0.6113],\n",
       "                        [-0.4601,  1.1002,  1.3489, -0.2936],\n",
       "                        [ 0.1501,  1.9876, -0.4685, -1.2364]])"
      ]
     },
     "execution_count": 3,
     "metadata": {},
     "output_type": "execute_result"
    }
   ],
   "source": [
    "t"
   ]
  },
  {
   "cell_type": "code",
   "execution_count": 4,
   "id": "fd70b0b9",
   "metadata": {
    "execution": {
     "iopub.execute_input": "2023-02-27T12:19:55.883681Z",
     "iopub.status.busy": "2023-02-27T12:19:55.883263Z",
     "iopub.status.idle": "2023-02-27T12:19:55.890323Z",
     "shell.execute_reply": "2023-02-27T12:19:55.889669Z"
    }
   },
   "outputs": [
    {
     "data": {
      "text/plain": [
       "tensor([[ 1.2057, -0.4213, -0.9816],\n",
       "        [-0.5064, -1.0093,  0.0619]])"
      ]
     },
     "execution_count": 4,
     "metadata": {},
     "output_type": "execute_result"
    }
   ],
   "source": [
    "t.a"
   ]
  },
  {
   "cell_type": "code",
   "execution_count": 5,
   "id": "c18197bd",
   "metadata": {
    "execution": {
     "iopub.execute_input": "2023-02-27T12:19:55.893642Z",
     "iopub.status.busy": "2023-02-27T12:19:55.893388Z",
     "iopub.status.idle": "2023-02-27T12:20:01.035329Z",
     "shell.execute_reply": "2023-02-27T12:20:01.034160Z"
    }
   },
   "outputs": [
    {
     "name": "stdout",
     "output_type": "stream",
     "text": [
      "63.3 ns ± 0.0943 ns per loop (mean ± std. dev. of 7 runs, 10,000,000 loops each)\n"
     ]
    }
   ],
   "source": [
    "%timeit t.a"
   ]
  },
  {
   "cell_type": "code",
   "execution_count": 6,
   "id": "bd52f867",
   "metadata": {
    "execution": {
     "iopub.execute_input": "2023-02-27T12:20:01.038900Z",
     "iopub.status.busy": "2023-02-27T12:20:01.038507Z",
     "iopub.status.idle": "2023-02-27T12:20:01.046161Z",
     "shell.execute_reply": "2023-02-27T12:20:01.045484Z"
    }
   },
   "outputs": [
    {
     "data": {
      "text/plain": [
       "<FastTreeValue 0x7fa2f4f8cca0>\n",
       "├── 'a' --> tensor([[ 0.4395,  2.0048,  1.5103],\n",
       "│                   [-1.2120, -0.6876,  2.1990]])\n",
       "└── 'x' --> <FastTreeValue 0x7fa2f4f8cb50>\n",
       "    └── 'c' --> tensor([[ 0.0937,  1.7529, -1.5770, -0.6113],\n",
       "                        [-0.4601,  1.1002,  1.3489, -0.2936],\n",
       "                        [ 0.1501,  1.9876, -0.4685, -1.2364]])"
      ]
     },
     "execution_count": 6,
     "metadata": {},
     "output_type": "execute_result"
    }
   ],
   "source": [
    "new_value = torch.randn(2, 3)\n",
    "t.a = new_value\n",
    "\n",
    "t"
   ]
  },
  {
   "cell_type": "code",
   "execution_count": 7,
   "id": "bbe04d1c",
   "metadata": {
    "execution": {
     "iopub.execute_input": "2023-02-27T12:20:01.049126Z",
     "iopub.status.busy": "2023-02-27T12:20:01.048626Z",
     "iopub.status.idle": "2023-02-27T12:20:06.695676Z",
     "shell.execute_reply": "2023-02-27T12:20:06.694772Z"
    }
   },
   "outputs": [
    {
     "name": "stdout",
     "output_type": "stream",
     "text": [
      "69.5 ns ± 0.0289 ns per loop (mean ± std. dev. of 7 runs, 10,000,000 loops each)\n"
     ]
    }
   ],
   "source": [
    "%timeit t.a = new_value"
   ]
  },
  {
   "cell_type": "markdown",
   "id": "48c49731",
   "metadata": {},
   "source": [
    "### Tianshou Batch's Get and Set"
   ]
  },
  {
   "cell_type": "code",
   "execution_count": 8,
   "id": "f1bb14c1",
   "metadata": {
    "execution": {
     "iopub.execute_input": "2023-02-27T12:20:06.699142Z",
     "iopub.status.busy": "2023-02-27T12:20:06.698747Z",
     "iopub.status.idle": "2023-02-27T12:20:07.096272Z",
     "shell.execute_reply": "2023-02-27T12:20:07.095469Z"
    }
   },
   "outputs": [],
   "source": [
    "from tianshou.data import Batch\n",
    "\n",
    "b = Batch(**_TREE_DATA_2)"
   ]
  },
  {
   "cell_type": "code",
   "execution_count": 9,
   "id": "cb0777c3",
   "metadata": {
    "execution": {
     "iopub.execute_input": "2023-02-27T12:20:07.099843Z",
     "iopub.status.busy": "2023-02-27T12:20:07.099288Z",
     "iopub.status.idle": "2023-02-27T12:20:07.105676Z",
     "shell.execute_reply": "2023-02-27T12:20:07.104965Z"
    }
   },
   "outputs": [
    {
     "data": {
      "text/plain": [
       "Batch(\n",
       "    a: tensor([[ 1.2057, -0.4213, -0.9816],\n",
       "               [-0.5064, -1.0093,  0.0619]]),\n",
       "    x: Batch(\n",
       "           c: tensor([[ 0.0937,  1.7529, -1.5770, -0.6113],\n",
       "                      [-0.4601,  1.1002,  1.3489, -0.2936],\n",
       "                      [ 0.1501,  1.9876, -0.4685, -1.2364]]),\n",
       "       ),\n",
       ")"
      ]
     },
     "execution_count": 9,
     "metadata": {},
     "output_type": "execute_result"
    }
   ],
   "source": [
    "b"
   ]
  },
  {
   "cell_type": "code",
   "execution_count": 10,
   "id": "43ef8ea3",
   "metadata": {
    "execution": {
     "iopub.execute_input": "2023-02-27T12:20:07.108667Z",
     "iopub.status.busy": "2023-02-27T12:20:07.108268Z",
     "iopub.status.idle": "2023-02-27T12:20:07.113715Z",
     "shell.execute_reply": "2023-02-27T12:20:07.113014Z"
    }
   },
   "outputs": [
    {
     "data": {
      "text/plain": [
       "tensor([[ 1.2057, -0.4213, -0.9816],\n",
       "        [-0.5064, -1.0093,  0.0619]])"
      ]
     },
     "execution_count": 10,
     "metadata": {},
     "output_type": "execute_result"
    }
   ],
   "source": [
    "b.a"
   ]
  },
  {
   "cell_type": "code",
   "execution_count": 11,
   "id": "b785ab72",
   "metadata": {
    "execution": {
     "iopub.execute_input": "2023-02-27T12:20:07.116765Z",
     "iopub.status.busy": "2023-02-27T12:20:07.116126Z",
     "iopub.status.idle": "2023-02-27T12:20:11.811835Z",
     "shell.execute_reply": "2023-02-27T12:20:11.810923Z"
    }
   },
   "outputs": [
    {
     "name": "stdout",
     "output_type": "stream",
     "text": [
      "57.8 ns ± 0.0444 ns per loop (mean ± std. dev. of 7 runs, 10,000,000 loops each)\n"
     ]
    }
   ],
   "source": [
    "%timeit b.a"
   ]
  },
  {
   "cell_type": "code",
   "execution_count": 12,
   "id": "ad54dc69",
   "metadata": {
    "execution": {
     "iopub.execute_input": "2023-02-27T12:20:11.815319Z",
     "iopub.status.busy": "2023-02-27T12:20:11.814873Z",
     "iopub.status.idle": "2023-02-27T12:20:11.822407Z",
     "shell.execute_reply": "2023-02-27T12:20:11.821655Z"
    }
   },
   "outputs": [
    {
     "data": {
      "text/plain": [
       "Batch(\n",
       "    a: tensor([[-0.0136, -0.8212,  0.4858],\n",
       "               [ 0.6165,  0.4698, -0.6751]]),\n",
       "    x: Batch(\n",
       "           c: tensor([[ 0.0937,  1.7529, -1.5770, -0.6113],\n",
       "                      [-0.4601,  1.1002,  1.3489, -0.2936],\n",
       "                      [ 0.1501,  1.9876, -0.4685, -1.2364]]),\n",
       "       ),\n",
       ")"
      ]
     },
     "execution_count": 12,
     "metadata": {},
     "output_type": "execute_result"
    }
   ],
   "source": [
    "new_value = torch.randn(2, 3)\n",
    "b.a = new_value\n",
    "\n",
    "b"
   ]
  },
  {
   "cell_type": "code",
   "execution_count": 13,
   "id": "29b1d0bf",
   "metadata": {
    "execution": {
     "iopub.execute_input": "2023-02-27T12:20:11.825391Z",
     "iopub.status.busy": "2023-02-27T12:20:11.824963Z",
     "iopub.status.idle": "2023-02-27T12:20:15.845916Z",
     "shell.execute_reply": "2023-02-27T12:20:15.844738Z"
    }
   },
   "outputs": [
    {
     "name": "stdout",
     "output_type": "stream",
     "text": [
      "496 ns ± 0.154 ns per loop (mean ± std. dev. of 7 runs, 1,000,000 loops each)\n"
     ]
    }
   ],
   "source": [
    "%timeit b.a = new_value"
   ]
  },
  {
   "cell_type": "markdown",
   "id": "b61ad1d0",
   "metadata": {},
   "source": [
    "## Initialization"
   ]
  },
  {
   "cell_type": "markdown",
   "id": "d70f0d54",
   "metadata": {},
   "source": [
    "### TreeValue's Initialization"
   ]
  },
  {
   "cell_type": "code",
   "execution_count": 14,
   "id": "d32a679b",
   "metadata": {
    "execution": {
     "iopub.execute_input": "2023-02-27T12:20:15.849375Z",
     "iopub.status.busy": "2023-02-27T12:20:15.848865Z",
     "iopub.status.idle": "2023-02-27T12:20:22.717946Z",
     "shell.execute_reply": "2023-02-27T12:20:22.717193Z"
    }
   },
   "outputs": [
    {
     "name": "stdout",
     "output_type": "stream",
     "text": [
      "846 ns ± 0.669 ns per loop (mean ± std. dev. of 7 runs, 1,000,000 loops each)\n"
     ]
    }
   ],
   "source": [
    "%timeit FastTreeValue(_TREE_DATA_1)"
   ]
  },
  {
   "cell_type": "markdown",
   "id": "24f3707b",
   "metadata": {},
   "source": [
    "### Tianshou Batch's Initialization"
   ]
  },
  {
   "cell_type": "code",
   "execution_count": 15,
   "id": "ac3958df",
   "metadata": {
    "execution": {
     "iopub.execute_input": "2023-02-27T12:20:22.721675Z",
     "iopub.status.busy": "2023-02-27T12:20:22.721048Z",
     "iopub.status.idle": "2023-02-27T12:20:31.549911Z",
     "shell.execute_reply": "2023-02-27T12:20:31.548998Z"
    }
   },
   "outputs": [
    {
     "name": "stdout",
     "output_type": "stream",
     "text": [
      "10.9 µs ± 44.2 ns per loop (mean ± std. dev. of 7 runs, 100,000 loops each)\n"
     ]
    }
   ],
   "source": [
    "%timeit Batch(**_TREE_DATA_1)"
   ]
  },
  {
   "cell_type": "markdown",
   "id": "1ab82e2d",
   "metadata": {},
   "source": [
    "## Deep Copy Operation"
   ]
  },
  {
   "cell_type": "code",
   "execution_count": 16,
   "id": "210a9442",
   "metadata": {
    "execution": {
     "iopub.execute_input": "2023-02-27T12:20:31.553481Z",
     "iopub.status.busy": "2023-02-27T12:20:31.553053Z",
     "iopub.status.idle": "2023-02-27T12:20:31.557722Z",
     "shell.execute_reply": "2023-02-27T12:20:31.557065Z"
    }
   },
   "outputs": [],
   "source": [
    "import copy"
   ]
  },
  {
   "cell_type": "markdown",
   "id": "5a736274",
   "metadata": {},
   "source": [
    "### Deep Copy of TreeValue"
   ]
  },
  {
   "cell_type": "code",
   "execution_count": 17,
   "id": "f9bcadd6",
   "metadata": {
    "execution": {
     "iopub.execute_input": "2023-02-27T12:20:31.560758Z",
     "iopub.status.busy": "2023-02-27T12:20:31.560368Z",
     "iopub.status.idle": "2023-02-27T12:20:43.323180Z",
     "shell.execute_reply": "2023-02-27T12:20:43.322513Z"
    }
   },
   "outputs": [
    {
     "name": "stdout",
     "output_type": "stream",
     "text": [
      "145 µs ± 1.01 µs per loop (mean ± std. dev. of 7 runs, 10,000 loops each)\n"
     ]
    }
   ],
   "source": [
    "t3 = FastTreeValue(_TREE_DATA_3)\n",
    "%timeit copy.deepcopy(t3)"
   ]
  },
  {
   "cell_type": "markdown",
   "id": "bf8be7ea",
   "metadata": {},
   "source": [
    "### Deep Copy of Tianshou Batch"
   ]
  },
  {
   "cell_type": "code",
   "execution_count": 18,
   "id": "91998e6f",
   "metadata": {
    "execution": {
     "iopub.execute_input": "2023-02-27T12:20:43.326366Z",
     "iopub.status.busy": "2023-02-27T12:20:43.325947Z",
     "iopub.status.idle": "2023-02-27T12:20:54.980762Z",
     "shell.execute_reply": "2023-02-27T12:20:54.980041Z"
    }
   },
   "outputs": [
    {
     "name": "stdout",
     "output_type": "stream",
     "text": [
      "144 µs ± 413 ns per loop (mean ± std. dev. of 7 runs, 10,000 loops each)\n"
     ]
    }
   ],
   "source": [
    "b3 = Batch(**_TREE_DATA_3)\n",
    "%timeit copy.deepcopy(b3)"
   ]
  },
  {
   "cell_type": "markdown",
   "id": "223162fb",
   "metadata": {},
   "source": [
    "## Stack, Concat and Split Operation"
   ]
  },
  {
   "cell_type": "markdown",
   "id": "85fa4a73",
   "metadata": {},
   "source": [
    "### Performance of TreeValue"
   ]
  },
  {
   "cell_type": "code",
   "execution_count": 19,
   "id": "a0c2b697",
   "metadata": {
    "execution": {
     "iopub.execute_input": "2023-02-27T12:20:54.984164Z",
     "iopub.status.busy": "2023-02-27T12:20:54.983718Z",
     "iopub.status.idle": "2023-02-27T12:20:54.987311Z",
     "shell.execute_reply": "2023-02-27T12:20:54.986706Z"
    }
   },
   "outputs": [],
   "source": [
    "trees = [FastTreeValue(_TREE_DATA_2) for _ in range(8)]"
   ]
  },
  {
   "cell_type": "code",
   "execution_count": 20,
   "id": "017ea5a5",
   "metadata": {
    "execution": {
     "iopub.execute_input": "2023-02-27T12:20:54.990021Z",
     "iopub.status.busy": "2023-02-27T12:20:54.989631Z",
     "iopub.status.idle": "2023-02-27T12:20:54.997231Z",
     "shell.execute_reply": "2023-02-27T12:20:54.996500Z"
    }
   },
   "outputs": [
    {
     "data": {
      "text/plain": [
       "<FastTreeValue 0x7fa2f4f8ce50>\n",
       "├── 'a' --> tensor([[[ 1.2057, -0.4213, -0.9816],\n",
       "│                    [-0.5064, -1.0093,  0.0619]],\n",
       "│           \n",
       "│                   [[ 1.2057, -0.4213, -0.9816],\n",
       "│                    [-0.5064, -1.0093,  0.0619]],\n",
       "│           \n",
       "│                   [[ 1.2057, -0.4213, -0.9816],\n",
       "│                    [-0.5064, -1.0093,  0.0619]],\n",
       "│           \n",
       "│                   [[ 1.2057, -0.4213, -0.9816],\n",
       "│                    [-0.5064, -1.0093,  0.0619]],\n",
       "│           \n",
       "│                   [[ 1.2057, -0.4213, -0.9816],\n",
       "│                    [-0.5064, -1.0093,  0.0619]],\n",
       "│           \n",
       "│                   [[ 1.2057, -0.4213, -0.9816],\n",
       "│                    [-0.5064, -1.0093,  0.0619]],\n",
       "│           \n",
       "│                   [[ 1.2057, -0.4213, -0.9816],\n",
       "│                    [-0.5064, -1.0093,  0.0619]],\n",
       "│           \n",
       "│                   [[ 1.2057, -0.4213, -0.9816],\n",
       "│                    [-0.5064, -1.0093,  0.0619]]])\n",
       "└── 'x' --> <FastTreeValue 0x7fa2f4f8cd90>\n",
       "    └── 'c' --> tensor([[[ 0.0937,  1.7529, -1.5770, -0.6113],\n",
       "                         [-0.4601,  1.1002,  1.3489, -0.2936],\n",
       "                         [ 0.1501,  1.9876, -0.4685, -1.2364]],\n",
       "                \n",
       "                        [[ 0.0937,  1.7529, -1.5770, -0.6113],\n",
       "                         [-0.4601,  1.1002,  1.3489, -0.2936],\n",
       "                         [ 0.1501,  1.9876, -0.4685, -1.2364]],\n",
       "                \n",
       "                        [[ 0.0937,  1.7529, -1.5770, -0.6113],\n",
       "                         [-0.4601,  1.1002,  1.3489, -0.2936],\n",
       "                         [ 0.1501,  1.9876, -0.4685, -1.2364]],\n",
       "                \n",
       "                        [[ 0.0937,  1.7529, -1.5770, -0.6113],\n",
       "                         [-0.4601,  1.1002,  1.3489, -0.2936],\n",
       "                         [ 0.1501,  1.9876, -0.4685, -1.2364]],\n",
       "                \n",
       "                        [[ 0.0937,  1.7529, -1.5770, -0.6113],\n",
       "                         [-0.4601,  1.1002,  1.3489, -0.2936],\n",
       "                         [ 0.1501,  1.9876, -0.4685, -1.2364]],\n",
       "                \n",
       "                        [[ 0.0937,  1.7529, -1.5770, -0.6113],\n",
       "                         [-0.4601,  1.1002,  1.3489, -0.2936],\n",
       "                         [ 0.1501,  1.9876, -0.4685, -1.2364]],\n",
       "                \n",
       "                        [[ 0.0937,  1.7529, -1.5770, -0.6113],\n",
       "                         [-0.4601,  1.1002,  1.3489, -0.2936],\n",
       "                         [ 0.1501,  1.9876, -0.4685, -1.2364]],\n",
       "                \n",
       "                        [[ 0.0937,  1.7529, -1.5770, -0.6113],\n",
       "                         [-0.4601,  1.1002,  1.3489, -0.2936],\n",
       "                         [ 0.1501,  1.9876, -0.4685, -1.2364]]])"
      ]
     },
     "execution_count": 20,
     "metadata": {},
     "output_type": "execute_result"
    }
   ],
   "source": [
    "t_stack = FastTreeValue.func(subside=True)(torch.stack)\n",
    "\n",
    "t_stack(trees)"
   ]
  },
  {
   "cell_type": "code",
   "execution_count": 21,
   "id": "f8b3f415",
   "metadata": {
    "execution": {
     "iopub.execute_input": "2023-02-27T12:20:55.000037Z",
     "iopub.status.busy": "2023-02-27T12:20:54.999589Z",
     "iopub.status.idle": "2023-02-27T12:20:57.634885Z",
     "shell.execute_reply": "2023-02-27T12:20:57.634026Z"
    }
   },
   "outputs": [
    {
     "name": "stdout",
     "output_type": "stream",
     "text": [
      "32.4 µs ± 84.6 ns per loop (mean ± std. dev. of 7 runs, 10,000 loops each)\n"
     ]
    }
   ],
   "source": [
    "%timeit t_stack(trees)"
   ]
  },
  {
   "cell_type": "code",
   "execution_count": 22,
   "id": "94b56771",
   "metadata": {
    "execution": {
     "iopub.execute_input": "2023-02-27T12:20:57.638886Z",
     "iopub.status.busy": "2023-02-27T12:20:57.638259Z",
     "iopub.status.idle": "2023-02-27T12:20:57.646821Z",
     "shell.execute_reply": "2023-02-27T12:20:57.646171Z"
    }
   },
   "outputs": [
    {
     "data": {
      "text/plain": [
       "<FastTreeValue 0x7fa244252f40>\n",
       "├── 'a' --> tensor([[ 1.2057, -0.4213, -0.9816],\n",
       "│                   [-0.5064, -1.0093,  0.0619],\n",
       "│                   [ 1.2057, -0.4213, -0.9816],\n",
       "│                   [-0.5064, -1.0093,  0.0619],\n",
       "│                   [ 1.2057, -0.4213, -0.9816],\n",
       "│                   [-0.5064, -1.0093,  0.0619],\n",
       "│                   [ 1.2057, -0.4213, -0.9816],\n",
       "│                   [-0.5064, -1.0093,  0.0619],\n",
       "│                   [ 1.2057, -0.4213, -0.9816],\n",
       "│                   [-0.5064, -1.0093,  0.0619],\n",
       "│                   [ 1.2057, -0.4213, -0.9816],\n",
       "│                   [-0.5064, -1.0093,  0.0619],\n",
       "│                   [ 1.2057, -0.4213, -0.9816],\n",
       "│                   [-0.5064, -1.0093,  0.0619],\n",
       "│                   [ 1.2057, -0.4213, -0.9816],\n",
       "│                   [-0.5064, -1.0093,  0.0619]])\n",
       "└── 'x' --> <FastTreeValue 0x7fa2f4fb6250>\n",
       "    └── 'c' --> tensor([[ 0.0937,  1.7529, -1.5770, -0.6113],\n",
       "                        [-0.4601,  1.1002,  1.3489, -0.2936],\n",
       "                        [ 0.1501,  1.9876, -0.4685, -1.2364],\n",
       "                        [ 0.0937,  1.7529, -1.5770, -0.6113],\n",
       "                        [-0.4601,  1.1002,  1.3489, -0.2936],\n",
       "                        [ 0.1501,  1.9876, -0.4685, -1.2364],\n",
       "                        [ 0.0937,  1.7529, -1.5770, -0.6113],\n",
       "                        [-0.4601,  1.1002,  1.3489, -0.2936],\n",
       "                        [ 0.1501,  1.9876, -0.4685, -1.2364],\n",
       "                        [ 0.0937,  1.7529, -1.5770, -0.6113],\n",
       "                        [-0.4601,  1.1002,  1.3489, -0.2936],\n",
       "                        [ 0.1501,  1.9876, -0.4685, -1.2364],\n",
       "                        [ 0.0937,  1.7529, -1.5770, -0.6113],\n",
       "                        [-0.4601,  1.1002,  1.3489, -0.2936],\n",
       "                        [ 0.1501,  1.9876, -0.4685, -1.2364],\n",
       "                        [ 0.0937,  1.7529, -1.5770, -0.6113],\n",
       "                        [-0.4601,  1.1002,  1.3489, -0.2936],\n",
       "                        [ 0.1501,  1.9876, -0.4685, -1.2364],\n",
       "                        [ 0.0937,  1.7529, -1.5770, -0.6113],\n",
       "                        [-0.4601,  1.1002,  1.3489, -0.2936],\n",
       "                        [ 0.1501,  1.9876, -0.4685, -1.2364],\n",
       "                        [ 0.0937,  1.7529, -1.5770, -0.6113],\n",
       "                        [-0.4601,  1.1002,  1.3489, -0.2936],\n",
       "                        [ 0.1501,  1.9876, -0.4685, -1.2364]])"
      ]
     },
     "execution_count": 22,
     "metadata": {},
     "output_type": "execute_result"
    }
   ],
   "source": [
    "t_cat = FastTreeValue.func(subside=True)(torch.cat)\n",
    "\n",
    "t_cat(trees)"
   ]
  },
  {
   "cell_type": "code",
   "execution_count": 23,
   "id": "5e9c06a6",
   "metadata": {
    "execution": {
     "iopub.execute_input": "2023-02-27T12:20:57.649656Z",
     "iopub.status.busy": "2023-02-27T12:20:57.649296Z",
     "iopub.status.idle": "2023-02-27T12:21:00.134655Z",
     "shell.execute_reply": "2023-02-27T12:21:00.133764Z"
    }
   },
   "outputs": [
    {
     "name": "stdout",
     "output_type": "stream",
     "text": [
      "30.5 µs ± 49.5 ns per loop (mean ± std. dev. of 7 runs, 10,000 loops each)\n"
     ]
    }
   ],
   "source": [
    "%timeit t_cat(trees)"
   ]
  },
  {
   "cell_type": "code",
   "execution_count": 24,
   "id": "a3ab5c8f",
   "metadata": {
    "execution": {
     "iopub.execute_input": "2023-02-27T12:21:00.138185Z",
     "iopub.status.busy": "2023-02-27T12:21:00.137602Z",
     "iopub.status.idle": "2023-02-27T12:21:04.752842Z",
     "shell.execute_reply": "2023-02-27T12:21:04.751928Z"
    }
   },
   "outputs": [
    {
     "name": "stdout",
     "output_type": "stream",
     "text": [
      "56.7 µs ± 130 ns per loop (mean ± std. dev. of 7 runs, 10,000 loops each)\n"
     ]
    }
   ],
   "source": [
    "t_split = FastTreeValue.func(rise=True)(torch.split)\n",
    "tree = FastTreeValue({\n",
    "    'obs': torch.randn(8, 4, 84, 84),\n",
    "    'action': torch.randint(0, 6, size=(8, 1,)),\n",
    "    'reward': torch.rand(8, 1),\n",
    "})\n",
    "\n",
    "%timeit t_split(tree, 1)"
   ]
  },
  {
   "cell_type": "markdown",
   "id": "31c3ec0b",
   "metadata": {},
   "source": [
    "### Performance of Tianshou Batch"
   ]
  },
  {
   "cell_type": "code",
   "execution_count": 25,
   "id": "9ead828a",
   "metadata": {
    "execution": {
     "iopub.execute_input": "2023-02-27T12:21:04.756779Z",
     "iopub.status.busy": "2023-02-27T12:21:04.756273Z",
     "iopub.status.idle": "2023-02-27T12:21:04.765037Z",
     "shell.execute_reply": "2023-02-27T12:21:04.764378Z"
    }
   },
   "outputs": [
    {
     "data": {
      "text/plain": [
       "Batch(\n",
       "    a: tensor([[[ 1.2057, -0.4213, -0.9816],\n",
       "                [-0.5064, -1.0093,  0.0619]],\n",
       "       \n",
       "               [[ 1.2057, -0.4213, -0.9816],\n",
       "                [-0.5064, -1.0093,  0.0619]],\n",
       "       \n",
       "               [[ 1.2057, -0.4213, -0.9816],\n",
       "                [-0.5064, -1.0093,  0.0619]],\n",
       "       \n",
       "               [[ 1.2057, -0.4213, -0.9816],\n",
       "                [-0.5064, -1.0093,  0.0619]],\n",
       "       \n",
       "               [[ 1.2057, -0.4213, -0.9816],\n",
       "                [-0.5064, -1.0093,  0.0619]],\n",
       "       \n",
       "               [[ 1.2057, -0.4213, -0.9816],\n",
       "                [-0.5064, -1.0093,  0.0619]],\n",
       "       \n",
       "               [[ 1.2057, -0.4213, -0.9816],\n",
       "                [-0.5064, -1.0093,  0.0619]],\n",
       "       \n",
       "               [[ 1.2057, -0.4213, -0.9816],\n",
       "                [-0.5064, -1.0093,  0.0619]]]),\n",
       "    x: Batch(\n",
       "           c: tensor([[[ 0.0937,  1.7529, -1.5770, -0.6113],\n",
       "                       [-0.4601,  1.1002,  1.3489, -0.2936],\n",
       "                       [ 0.1501,  1.9876, -0.4685, -1.2364]],\n",
       "              \n",
       "                      [[ 0.0937,  1.7529, -1.5770, -0.6113],\n",
       "                       [-0.4601,  1.1002,  1.3489, -0.2936],\n",
       "                       [ 0.1501,  1.9876, -0.4685, -1.2364]],\n",
       "              \n",
       "                      [[ 0.0937,  1.7529, -1.5770, -0.6113],\n",
       "                       [-0.4601,  1.1002,  1.3489, -0.2936],\n",
       "                       [ 0.1501,  1.9876, -0.4685, -1.2364]],\n",
       "              \n",
       "                      [[ 0.0937,  1.7529, -1.5770, -0.6113],\n",
       "                       [-0.4601,  1.1002,  1.3489, -0.2936],\n",
       "                       [ 0.1501,  1.9876, -0.4685, -1.2364]],\n",
       "              \n",
       "                      [[ 0.0937,  1.7529, -1.5770, -0.6113],\n",
       "                       [-0.4601,  1.1002,  1.3489, -0.2936],\n",
       "                       [ 0.1501,  1.9876, -0.4685, -1.2364]],\n",
       "              \n",
       "                      [[ 0.0937,  1.7529, -1.5770, -0.6113],\n",
       "                       [-0.4601,  1.1002,  1.3489, -0.2936],\n",
       "                       [ 0.1501,  1.9876, -0.4685, -1.2364]],\n",
       "              \n",
       "                      [[ 0.0937,  1.7529, -1.5770, -0.6113],\n",
       "                       [-0.4601,  1.1002,  1.3489, -0.2936],\n",
       "                       [ 0.1501,  1.9876, -0.4685, -1.2364]],\n",
       "              \n",
       "                      [[ 0.0937,  1.7529, -1.5770, -0.6113],\n",
       "                       [-0.4601,  1.1002,  1.3489, -0.2936],\n",
       "                       [ 0.1501,  1.9876, -0.4685, -1.2364]]]),\n",
       "       ),\n",
       ")"
      ]
     },
     "execution_count": 25,
     "metadata": {},
     "output_type": "execute_result"
    }
   ],
   "source": [
    "batches = [Batch(**_TREE_DATA_2) for _ in range(8)]\n",
    "\n",
    "Batch.stack(batches)"
   ]
  },
  {
   "cell_type": "code",
   "execution_count": 26,
   "id": "ec9037a3",
   "metadata": {
    "execution": {
     "iopub.execute_input": "2023-02-27T12:21:04.768324Z",
     "iopub.status.busy": "2023-02-27T12:21:04.767778Z",
     "iopub.status.idle": "2023-02-27T12:21:11.129415Z",
     "shell.execute_reply": "2023-02-27T12:21:11.128544Z"
    }
   },
   "outputs": [
    {
     "name": "stdout",
     "output_type": "stream",
     "text": [
      "78.3 µs ± 286 ns per loop (mean ± std. dev. of 7 runs, 10,000 loops each)\n"
     ]
    }
   ],
   "source": [
    "%timeit Batch.stack(batches)"
   ]
  },
  {
   "cell_type": "code",
   "execution_count": 27,
   "id": "cb8ab77e",
   "metadata": {
    "execution": {
     "iopub.execute_input": "2023-02-27T12:21:11.132906Z",
     "iopub.status.busy": "2023-02-27T12:21:11.132402Z",
     "iopub.status.idle": "2023-02-27T12:21:11.140381Z",
     "shell.execute_reply": "2023-02-27T12:21:11.139676Z"
    }
   },
   "outputs": [
    {
     "data": {
      "text/plain": [
       "Batch(\n",
       "    a: tensor([[ 1.2057, -0.4213, -0.9816],\n",
       "               [-0.5064, -1.0093,  0.0619],\n",
       "               [ 1.2057, -0.4213, -0.9816],\n",
       "               [-0.5064, -1.0093,  0.0619],\n",
       "               [ 1.2057, -0.4213, -0.9816],\n",
       "               [-0.5064, -1.0093,  0.0619],\n",
       "               [ 1.2057, -0.4213, -0.9816],\n",
       "               [-0.5064, -1.0093,  0.0619],\n",
       "               [ 1.2057, -0.4213, -0.9816],\n",
       "               [-0.5064, -1.0093,  0.0619],\n",
       "               [ 1.2057, -0.4213, -0.9816],\n",
       "               [-0.5064, -1.0093,  0.0619],\n",
       "               [ 1.2057, -0.4213, -0.9816],\n",
       "               [-0.5064, -1.0093,  0.0619],\n",
       "               [ 1.2057, -0.4213, -0.9816],\n",
       "               [-0.5064, -1.0093,  0.0619]]),\n",
       "    x: Batch(\n",
       "           c: tensor([[ 0.0937,  1.7529, -1.5770, -0.6113],\n",
       "                      [-0.4601,  1.1002,  1.3489, -0.2936],\n",
       "                      [ 0.1501,  1.9876, -0.4685, -1.2364],\n",
       "                      [ 0.0937,  1.7529, -1.5770, -0.6113],\n",
       "                      [-0.4601,  1.1002,  1.3489, -0.2936],\n",
       "                      [ 0.1501,  1.9876, -0.4685, -1.2364],\n",
       "                      [ 0.0937,  1.7529, -1.5770, -0.6113],\n",
       "                      [-0.4601,  1.1002,  1.3489, -0.2936],\n",
       "                      [ 0.1501,  1.9876, -0.4685, -1.2364],\n",
       "                      [ 0.0937,  1.7529, -1.5770, -0.6113],\n",
       "                      [-0.4601,  1.1002,  1.3489, -0.2936],\n",
       "                      [ 0.1501,  1.9876, -0.4685, -1.2364],\n",
       "                      [ 0.0937,  1.7529, -1.5770, -0.6113],\n",
       "                      [-0.4601,  1.1002,  1.3489, -0.2936],\n",
       "                      [ 0.1501,  1.9876, -0.4685, -1.2364],\n",
       "                      [ 0.0937,  1.7529, -1.5770, -0.6113],\n",
       "                      [-0.4601,  1.1002,  1.3489, -0.2936],\n",
       "                      [ 0.1501,  1.9876, -0.4685, -1.2364],\n",
       "                      [ 0.0937,  1.7529, -1.5770, -0.6113],\n",
       "                      [-0.4601,  1.1002,  1.3489, -0.2936],\n",
       "                      [ 0.1501,  1.9876, -0.4685, -1.2364],\n",
       "                      [ 0.0937,  1.7529, -1.5770, -0.6113],\n",
       "                      [-0.4601,  1.1002,  1.3489, -0.2936],\n",
       "                      [ 0.1501,  1.9876, -0.4685, -1.2364]]),\n",
       "       ),\n",
       ")"
      ]
     },
     "execution_count": 27,
     "metadata": {},
     "output_type": "execute_result"
    }
   ],
   "source": [
    "Batch.cat(batches)"
   ]
  },
  {
   "cell_type": "code",
   "execution_count": 28,
   "id": "18dfb045",
   "metadata": {
    "execution": {
     "iopub.execute_input": "2023-02-27T12:21:11.143592Z",
     "iopub.status.busy": "2023-02-27T12:21:11.143344Z",
     "iopub.status.idle": "2023-02-27T12:21:22.980132Z",
     "shell.execute_reply": "2023-02-27T12:21:22.978973Z"
    }
   },
   "outputs": [
    {
     "name": "stdout",
     "output_type": "stream",
     "text": [
      "146 µs ± 381 ns per loop (mean ± std. dev. of 7 runs, 10,000 loops each)\n"
     ]
    }
   ],
   "source": [
    "%timeit Batch.cat(batches)"
   ]
  },
  {
   "cell_type": "code",
   "execution_count": 29,
   "id": "c6688e51",
   "metadata": {
    "execution": {
     "iopub.execute_input": "2023-02-27T12:21:22.983756Z",
     "iopub.status.busy": "2023-02-27T12:21:22.983095Z",
     "iopub.status.idle": "2023-02-27T12:21:25.656861Z",
     "shell.execute_reply": "2023-02-27T12:21:25.656226Z"
    }
   },
   "outputs": [
    {
     "name": "stdout",
     "output_type": "stream",
     "text": [
      "329 µs ± 3.21 µs per loop (mean ± std. dev. of 7 runs, 1,000 loops each)\n"
     ]
    }
   ],
   "source": [
    "batch = Batch({\n",
    "    'obs': torch.randn(8, 4, 84, 84),\n",
    "    'action': torch.randint(0, 6, size=(8, 1,)),\n",
    "    'reward': torch.rand(8, 1)}\n",
    ")\n",
    "\n",
    "%timeit list(Batch.split(batch, 1, shuffle=False, merge_last=True))"
   ]
  },
  {
   "cell_type": "code",
   "execution_count": null,
   "id": "2539fbd9",
   "metadata": {},
   "outputs": [],
   "source": []
  }
 ],
 "metadata": {
  "kernelspec": {
   "display_name": "Python 3 (ipykernel)",
   "language": "python",
   "name": "python3"
  },
  "language_info": {
   "codemirror_mode": {
    "name": "ipython",
    "version": 3
   },
   "file_extension": ".py",
   "mimetype": "text/x-python",
   "name": "python",
   "nbconvert_exporter": "python",
   "pygments_lexer": "ipython3",
   "version": "3.8.16"
  }
 },
 "nbformat": 4,
 "nbformat_minor": 5
}
