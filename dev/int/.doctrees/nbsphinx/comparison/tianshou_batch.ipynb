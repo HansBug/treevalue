{
 "cells": [
  {
   "cell_type": "markdown",
   "id": "9d39d946",
   "metadata": {},
   "source": [
    "# Comparison Between TreeValue and Tianshou Batch"
   ]
  },
  {
   "cell_type": "markdown",
   "id": "3c6db2d4",
   "metadata": {},
   "source": [
    "In this section, we will take a look at the feature and performance of the [Tianshou Batch](https://github.com/thu-ml/tianshou) library, which is developed by Tsinghua Machine Learning Group."
   ]
  },
  {
   "cell_type": "markdown",
   "id": "069361b0",
   "metadata": {},
   "source": [
    "Before starting the comparison, let us define some thing."
   ]
  },
  {
   "cell_type": "code",
   "execution_count": 1,
   "id": "06fc8d26",
   "metadata": {
    "execution": {
     "iopub.execute_input": "2023-02-27T12:35:01.725236Z",
     "iopub.status.busy": "2023-02-27T12:35:01.724915Z",
     "iopub.status.idle": "2023-02-27T12:35:02.650542Z",
     "shell.execute_reply": "2023-02-27T12:35:02.649844Z"
    }
   },
   "outputs": [
    {
     "name": "stderr",
     "output_type": "stream",
     "text": [
      "/opt/hostedtoolcache/Python/3.8.16/x64/lib/python3.8/site-packages/tqdm/auto.py:22: TqdmWarning: IProgress not found. Please update jupyter and ipywidgets. See https://ipywidgets.readthedocs.io/en/stable/user_install.html\n",
      "  from .autonotebook import tqdm as notebook_tqdm\n"
     ]
    }
   ],
   "source": [
    "import torch \n",
    "\n",
    "_TREE_DATA_1 = {'a': 1, 'b': 2, 'x': {'c': 3, 'd': 4}}\n",
    "_TREE_DATA_2 = {\n",
    "    'a': torch.randn(2, 3), \n",
    "    'x': {\n",
    "        'c': torch.randn(3, 4)\n",
    "    },\n",
    "}\n",
    "_TREE_DATA_3 = {\n",
    "    'obs': torch.randn(4, 84, 84),\n",
    "    'action': torch.randint(0, 6, size=(1,)),\n",
    "    'reward': torch.rand(1),\n",
    "}"
   ]
  },
  {
   "cell_type": "markdown",
   "id": "83461b25",
   "metadata": {},
   "source": [
    "## Read and Write Operation"
   ]
  },
  {
   "cell_type": "markdown",
   "id": "067b3f73",
   "metadata": {},
   "source": [
    "Reading and writing are the two most common operations in the tree data structure based on the data model (TreeValue and Tianshou Batch both belong to this type), so this section will compare the reading and writing performance of these two libraries."
   ]
  },
  {
   "cell_type": "markdown",
   "id": "5d09a5b7",
   "metadata": {},
   "source": [
    "### TreeValue's Get and Set"
   ]
  },
  {
   "cell_type": "code",
   "execution_count": 2,
   "id": "9519c4bb",
   "metadata": {
    "execution": {
     "iopub.execute_input": "2023-02-27T12:35:02.653852Z",
     "iopub.status.busy": "2023-02-27T12:35:02.653549Z",
     "iopub.status.idle": "2023-02-27T12:35:02.937377Z",
     "shell.execute_reply": "2023-02-27T12:35:02.936550Z"
    }
   },
   "outputs": [],
   "source": [
    "from treevalue import FastTreeValue\n",
    "\n",
    "t = FastTreeValue(_TREE_DATA_2)"
   ]
  },
  {
   "cell_type": "code",
   "execution_count": 3,
   "id": "11c37677",
   "metadata": {
    "execution": {
     "iopub.execute_input": "2023-02-27T12:35:02.940393Z",
     "iopub.status.busy": "2023-02-27T12:35:02.940104Z",
     "iopub.status.idle": "2023-02-27T12:35:02.950341Z",
     "shell.execute_reply": "2023-02-27T12:35:02.949744Z"
    }
   },
   "outputs": [
    {
     "data": {
      "text/plain": [
       "<FastTreeValue 0x7f368451f820>\n",
       "├── 'a' --> tensor([[-1.7489, -0.4396,  0.5087],\n",
       "│                   [-0.5844,  0.6968, -0.2892]])\n",
       "└── 'x' --> <FastTreeValue 0x7f368451fcd0>\n",
       "    └── 'c' --> tensor([[-0.4322, -1.1533, -1.7097, -0.6729],\n",
       "                        [-0.9262, -2.1147,  0.4540, -0.6911],\n",
       "                        [ 1.4394,  0.6997, -0.0961, -1.6735]])"
      ]
     },
     "execution_count": 3,
     "metadata": {},
     "output_type": "execute_result"
    }
   ],
   "source": [
    "t"
   ]
  },
  {
   "cell_type": "code",
   "execution_count": 4,
   "id": "fd70b0b9",
   "metadata": {
    "execution": {
     "iopub.execute_input": "2023-02-27T12:35:02.953264Z",
     "iopub.status.busy": "2023-02-27T12:35:02.952797Z",
     "iopub.status.idle": "2023-02-27T12:35:02.958609Z",
     "shell.execute_reply": "2023-02-27T12:35:02.958028Z"
    }
   },
   "outputs": [
    {
     "data": {
      "text/plain": [
       "tensor([[-1.7489, -0.4396,  0.5087],\n",
       "        [-0.5844,  0.6968, -0.2892]])"
      ]
     },
     "execution_count": 4,
     "metadata": {},
     "output_type": "execute_result"
    }
   ],
   "source": [
    "t.a"
   ]
  },
  {
   "cell_type": "code",
   "execution_count": 5,
   "id": "c18197bd",
   "metadata": {
    "execution": {
     "iopub.execute_input": "2023-02-27T12:35:02.962003Z",
     "iopub.status.busy": "2023-02-27T12:35:02.961043Z",
     "iopub.status.idle": "2023-02-27T12:35:08.127255Z",
     "shell.execute_reply": "2023-02-27T12:35:08.126495Z"
    }
   },
   "outputs": [
    {
     "name": "stdout",
     "output_type": "stream",
     "text": [
      "63.7 ns ± 0.0317 ns per loop (mean ± std. dev. of 7 runs, 10,000,000 loops each)\n"
     ]
    }
   ],
   "source": [
    "%timeit t.a"
   ]
  },
  {
   "cell_type": "code",
   "execution_count": 6,
   "id": "bd52f867",
   "metadata": {
    "execution": {
     "iopub.execute_input": "2023-02-27T12:35:08.129983Z",
     "iopub.status.busy": "2023-02-27T12:35:08.129633Z",
     "iopub.status.idle": "2023-02-27T12:35:08.136170Z",
     "shell.execute_reply": "2023-02-27T12:35:08.135593Z"
    }
   },
   "outputs": [
    {
     "data": {
      "text/plain": [
       "<FastTreeValue 0x7f368451f820>\n",
       "├── 'a' --> tensor([[-1.1976, -0.4982,  0.7542],\n",
       "│                   [ 0.0303, -0.2662,  1.6067]])\n",
       "└── 'x' --> <FastTreeValue 0x7f368451fcd0>\n",
       "    └── 'c' --> tensor([[-0.4322, -1.1533, -1.7097, -0.6729],\n",
       "                        [-0.9262, -2.1147,  0.4540, -0.6911],\n",
       "                        [ 1.4394,  0.6997, -0.0961, -1.6735]])"
      ]
     },
     "execution_count": 6,
     "metadata": {},
     "output_type": "execute_result"
    }
   ],
   "source": [
    "new_value = torch.randn(2, 3)\n",
    "t.a = new_value\n",
    "\n",
    "t"
   ]
  },
  {
   "cell_type": "code",
   "execution_count": 7,
   "id": "bbe04d1c",
   "metadata": {
    "execution": {
     "iopub.execute_input": "2023-02-27T12:35:08.138676Z",
     "iopub.status.busy": "2023-02-27T12:35:08.138450Z",
     "iopub.status.idle": "2023-02-27T12:35:13.642975Z",
     "shell.execute_reply": "2023-02-27T12:35:13.642303Z"
    }
   },
   "outputs": [
    {
     "name": "stdout",
     "output_type": "stream",
     "text": [
      "67.8 ns ± 0.099 ns per loop (mean ± std. dev. of 7 runs, 10,000,000 loops each)\n"
     ]
    }
   ],
   "source": [
    "%timeit t.a = new_value"
   ]
  },
  {
   "cell_type": "markdown",
   "id": "48c49731",
   "metadata": {},
   "source": [
    "### Tianshou Batch's Get and Set"
   ]
  },
  {
   "cell_type": "code",
   "execution_count": 8,
   "id": "f1bb14c1",
   "metadata": {
    "execution": {
     "iopub.execute_input": "2023-02-27T12:35:13.645978Z",
     "iopub.status.busy": "2023-02-27T12:35:13.645344Z",
     "iopub.status.idle": "2023-02-27T12:35:13.985791Z",
     "shell.execute_reply": "2023-02-27T12:35:13.985110Z"
    }
   },
   "outputs": [],
   "source": [
    "from tianshou.data import Batch\n",
    "\n",
    "b = Batch(**_TREE_DATA_2)"
   ]
  },
  {
   "cell_type": "code",
   "execution_count": 9,
   "id": "cb0777c3",
   "metadata": {
    "execution": {
     "iopub.execute_input": "2023-02-27T12:35:13.988874Z",
     "iopub.status.busy": "2023-02-27T12:35:13.988436Z",
     "iopub.status.idle": "2023-02-27T12:35:13.995256Z",
     "shell.execute_reply": "2023-02-27T12:35:13.994667Z"
    }
   },
   "outputs": [
    {
     "data": {
      "text/plain": [
       "Batch(\n",
       "    a: tensor([[-1.7489, -0.4396,  0.5087],\n",
       "               [-0.5844,  0.6968, -0.2892]]),\n",
       "    x: Batch(\n",
       "           c: tensor([[-0.4322, -1.1533, -1.7097, -0.6729],\n",
       "                      [-0.9262, -2.1147,  0.4540, -0.6911],\n",
       "                      [ 1.4394,  0.6997, -0.0961, -1.6735]]),\n",
       "       ),\n",
       ")"
      ]
     },
     "execution_count": 9,
     "metadata": {},
     "output_type": "execute_result"
    }
   ],
   "source": [
    "b"
   ]
  },
  {
   "cell_type": "code",
   "execution_count": 10,
   "id": "43ef8ea3",
   "metadata": {
    "execution": {
     "iopub.execute_input": "2023-02-27T12:35:13.998018Z",
     "iopub.status.busy": "2023-02-27T12:35:13.997672Z",
     "iopub.status.idle": "2023-02-27T12:35:14.003493Z",
     "shell.execute_reply": "2023-02-27T12:35:14.001853Z"
    }
   },
   "outputs": [
    {
     "data": {
      "text/plain": [
       "tensor([[-1.7489, -0.4396,  0.5087],\n",
       "        [-0.5844,  0.6968, -0.2892]])"
      ]
     },
     "execution_count": 10,
     "metadata": {},
     "output_type": "execute_result"
    }
   ],
   "source": [
    "b.a"
   ]
  },
  {
   "cell_type": "code",
   "execution_count": 11,
   "id": "b785ab72",
   "metadata": {
    "execution": {
     "iopub.execute_input": "2023-02-27T12:35:14.006083Z",
     "iopub.status.busy": "2023-02-27T12:35:14.005743Z",
     "iopub.status.idle": "2023-02-27T12:35:18.716733Z",
     "shell.execute_reply": "2023-02-27T12:35:18.715979Z"
    }
   },
   "outputs": [
    {
     "name": "stdout",
     "output_type": "stream",
     "text": [
      "57.8 ns ± 0.0178 ns per loop (mean ± std. dev. of 7 runs, 10,000,000 loops each)\n"
     ]
    }
   ],
   "source": [
    "%timeit b.a"
   ]
  },
  {
   "cell_type": "code",
   "execution_count": 12,
   "id": "ad54dc69",
   "metadata": {
    "execution": {
     "iopub.execute_input": "2023-02-27T12:35:18.719907Z",
     "iopub.status.busy": "2023-02-27T12:35:18.719367Z",
     "iopub.status.idle": "2023-02-27T12:35:18.725631Z",
     "shell.execute_reply": "2023-02-27T12:35:18.725062Z"
    }
   },
   "outputs": [
    {
     "data": {
      "text/plain": [
       "Batch(\n",
       "    a: tensor([[ 0.0315, -0.1069, -1.8952],\n",
       "               [-0.0654, -1.3211,  0.9218]]),\n",
       "    x: Batch(\n",
       "           c: tensor([[-0.4322, -1.1533, -1.7097, -0.6729],\n",
       "                      [-0.9262, -2.1147,  0.4540, -0.6911],\n",
       "                      [ 1.4394,  0.6997, -0.0961, -1.6735]]),\n",
       "       ),\n",
       ")"
      ]
     },
     "execution_count": 12,
     "metadata": {},
     "output_type": "execute_result"
    }
   ],
   "source": [
    "new_value = torch.randn(2, 3)\n",
    "b.a = new_value\n",
    "\n",
    "b"
   ]
  },
  {
   "cell_type": "code",
   "execution_count": 13,
   "id": "29b1d0bf",
   "metadata": {
    "execution": {
     "iopub.execute_input": "2023-02-27T12:35:18.727962Z",
     "iopub.status.busy": "2023-02-27T12:35:18.727618Z",
     "iopub.status.idle": "2023-02-27T12:35:22.724668Z",
     "shell.execute_reply": "2023-02-27T12:35:22.723915Z"
    }
   },
   "outputs": [
    {
     "name": "stdout",
     "output_type": "stream",
     "text": [
      "491 ns ± 0.448 ns per loop (mean ± std. dev. of 7 runs, 1,000,000 loops each)\n"
     ]
    }
   ],
   "source": [
    "%timeit b.a = new_value"
   ]
  },
  {
   "cell_type": "markdown",
   "id": "b61ad1d0",
   "metadata": {},
   "source": [
    "## Initialization"
   ]
  },
  {
   "cell_type": "markdown",
   "id": "d70f0d54",
   "metadata": {},
   "source": [
    "### TreeValue's Initialization"
   ]
  },
  {
   "cell_type": "code",
   "execution_count": 14,
   "id": "d32a679b",
   "metadata": {
    "execution": {
     "iopub.execute_input": "2023-02-27T12:35:22.727663Z",
     "iopub.status.busy": "2023-02-27T12:35:22.727047Z",
     "iopub.status.idle": "2023-02-27T12:35:29.568308Z",
     "shell.execute_reply": "2023-02-27T12:35:29.567570Z"
    }
   },
   "outputs": [
    {
     "name": "stdout",
     "output_type": "stream",
     "text": [
      "843 ns ± 13.9 ns per loop (mean ± std. dev. of 7 runs, 1,000,000 loops each)\n"
     ]
    }
   ],
   "source": [
    "%timeit FastTreeValue(_TREE_DATA_1)"
   ]
  },
  {
   "cell_type": "markdown",
   "id": "24f3707b",
   "metadata": {},
   "source": [
    "### Tianshou Batch's Initialization"
   ]
  },
  {
   "cell_type": "code",
   "execution_count": 15,
   "id": "ac3958df",
   "metadata": {
    "execution": {
     "iopub.execute_input": "2023-02-27T12:35:29.571312Z",
     "iopub.status.busy": "2023-02-27T12:35:29.570953Z",
     "iopub.status.idle": "2023-02-27T12:35:38.755311Z",
     "shell.execute_reply": "2023-02-27T12:35:38.754557Z"
    }
   },
   "outputs": [
    {
     "name": "stdout",
     "output_type": "stream",
     "text": [
      "11.3 µs ± 24.2 ns per loop (mean ± std. dev. of 7 runs, 100,000 loops each)\n"
     ]
    }
   ],
   "source": [
    "%timeit Batch(**_TREE_DATA_1)"
   ]
  },
  {
   "cell_type": "markdown",
   "id": "1ab82e2d",
   "metadata": {},
   "source": [
    "## Deep Copy Operation"
   ]
  },
  {
   "cell_type": "code",
   "execution_count": 16,
   "id": "210a9442",
   "metadata": {
    "execution": {
     "iopub.execute_input": "2023-02-27T12:35:38.758449Z",
     "iopub.status.busy": "2023-02-27T12:35:38.757942Z",
     "iopub.status.idle": "2023-02-27T12:35:38.761852Z",
     "shell.execute_reply": "2023-02-27T12:35:38.761251Z"
    }
   },
   "outputs": [],
   "source": [
    "import copy"
   ]
  },
  {
   "cell_type": "markdown",
   "id": "5a736274",
   "metadata": {},
   "source": [
    "### Deep Copy of TreeValue"
   ]
  },
  {
   "cell_type": "code",
   "execution_count": 17,
   "id": "f9bcadd6",
   "metadata": {
    "execution": {
     "iopub.execute_input": "2023-02-27T12:35:38.764634Z",
     "iopub.status.busy": "2023-02-27T12:35:38.764292Z",
     "iopub.status.idle": "2023-02-27T12:35:49.779684Z",
     "shell.execute_reply": "2023-02-27T12:35:49.778995Z"
    }
   },
   "outputs": [
    {
     "name": "stdout",
     "output_type": "stream",
     "text": [
      "136 µs ± 215 ns per loop (mean ± std. dev. of 7 runs, 10,000 loops each)\n"
     ]
    }
   ],
   "source": [
    "t3 = FastTreeValue(_TREE_DATA_3)\n",
    "%timeit copy.deepcopy(t3)"
   ]
  },
  {
   "cell_type": "markdown",
   "id": "bf8be7ea",
   "metadata": {},
   "source": [
    "### Deep Copy of Tianshou Batch"
   ]
  },
  {
   "cell_type": "code",
   "execution_count": 18,
   "id": "91998e6f",
   "metadata": {
    "execution": {
     "iopub.execute_input": "2023-02-27T12:35:49.782752Z",
     "iopub.status.busy": "2023-02-27T12:35:49.782515Z",
     "iopub.status.idle": "2023-02-27T12:36:01.034588Z",
     "shell.execute_reply": "2023-02-27T12:36:01.034005Z"
    }
   },
   "outputs": [
    {
     "name": "stdout",
     "output_type": "stream",
     "text": [
      "139 µs ± 298 ns per loop (mean ± std. dev. of 7 runs, 10,000 loops each)\n"
     ]
    }
   ],
   "source": [
    "b3 = Batch(**_TREE_DATA_3)\n",
    "%timeit copy.deepcopy(b3)"
   ]
  },
  {
   "cell_type": "markdown",
   "id": "223162fb",
   "metadata": {},
   "source": [
    "## Stack, Concat and Split Operation"
   ]
  },
  {
   "cell_type": "markdown",
   "id": "85fa4a73",
   "metadata": {},
   "source": [
    "### Performance of TreeValue"
   ]
  },
  {
   "cell_type": "code",
   "execution_count": 19,
   "id": "a0c2b697",
   "metadata": {
    "execution": {
     "iopub.execute_input": "2023-02-27T12:36:01.037231Z",
     "iopub.status.busy": "2023-02-27T12:36:01.036774Z",
     "iopub.status.idle": "2023-02-27T12:36:01.041011Z",
     "shell.execute_reply": "2023-02-27T12:36:01.040493Z"
    }
   },
   "outputs": [],
   "source": [
    "trees = [FastTreeValue(_TREE_DATA_2) for _ in range(8)]"
   ]
  },
  {
   "cell_type": "code",
   "execution_count": 20,
   "id": "017ea5a5",
   "metadata": {
    "execution": {
     "iopub.execute_input": "2023-02-27T12:36:01.043547Z",
     "iopub.status.busy": "2023-02-27T12:36:01.042938Z",
     "iopub.status.idle": "2023-02-27T12:36:01.050334Z",
     "shell.execute_reply": "2023-02-27T12:36:01.049797Z"
    }
   },
   "outputs": [
    {
     "data": {
      "text/plain": [
       "<FastTreeValue 0x7f35cf7c1100>\n",
       "├── 'a' --> tensor([[[-1.7489, -0.4396,  0.5087],\n",
       "│                    [-0.5844,  0.6968, -0.2892]],\n",
       "│           \n",
       "│                   [[-1.7489, -0.4396,  0.5087],\n",
       "│                    [-0.5844,  0.6968, -0.2892]],\n",
       "│           \n",
       "│                   [[-1.7489, -0.4396,  0.5087],\n",
       "│                    [-0.5844,  0.6968, -0.2892]],\n",
       "│           \n",
       "│                   [[-1.7489, -0.4396,  0.5087],\n",
       "│                    [-0.5844,  0.6968, -0.2892]],\n",
       "│           \n",
       "│                   [[-1.7489, -0.4396,  0.5087],\n",
       "│                    [-0.5844,  0.6968, -0.2892]],\n",
       "│           \n",
       "│                   [[-1.7489, -0.4396,  0.5087],\n",
       "│                    [-0.5844,  0.6968, -0.2892]],\n",
       "│           \n",
       "│                   [[-1.7489, -0.4396,  0.5087],\n",
       "│                    [-0.5844,  0.6968, -0.2892]],\n",
       "│           \n",
       "│                   [[-1.7489, -0.4396,  0.5087],\n",
       "│                    [-0.5844,  0.6968, -0.2892]]])\n",
       "└── 'x' --> <FastTreeValue 0x7f35cf7c1160>\n",
       "    └── 'c' --> tensor([[[-0.4322, -1.1533, -1.7097, -0.6729],\n",
       "                         [-0.9262, -2.1147,  0.4540, -0.6911],\n",
       "                         [ 1.4394,  0.6997, -0.0961, -1.6735]],\n",
       "                \n",
       "                        [[-0.4322, -1.1533, -1.7097, -0.6729],\n",
       "                         [-0.9262, -2.1147,  0.4540, -0.6911],\n",
       "                         [ 1.4394,  0.6997, -0.0961, -1.6735]],\n",
       "                \n",
       "                        [[-0.4322, -1.1533, -1.7097, -0.6729],\n",
       "                         [-0.9262, -2.1147,  0.4540, -0.6911],\n",
       "                         [ 1.4394,  0.6997, -0.0961, -1.6735]],\n",
       "                \n",
       "                        [[-0.4322, -1.1533, -1.7097, -0.6729],\n",
       "                         [-0.9262, -2.1147,  0.4540, -0.6911],\n",
       "                         [ 1.4394,  0.6997, -0.0961, -1.6735]],\n",
       "                \n",
       "                        [[-0.4322, -1.1533, -1.7097, -0.6729],\n",
       "                         [-0.9262, -2.1147,  0.4540, -0.6911],\n",
       "                         [ 1.4394,  0.6997, -0.0961, -1.6735]],\n",
       "                \n",
       "                        [[-0.4322, -1.1533, -1.7097, -0.6729],\n",
       "                         [-0.9262, -2.1147,  0.4540, -0.6911],\n",
       "                         [ 1.4394,  0.6997, -0.0961, -1.6735]],\n",
       "                \n",
       "                        [[-0.4322, -1.1533, -1.7097, -0.6729],\n",
       "                         [-0.9262, -2.1147,  0.4540, -0.6911],\n",
       "                         [ 1.4394,  0.6997, -0.0961, -1.6735]],\n",
       "                \n",
       "                        [[-0.4322, -1.1533, -1.7097, -0.6729],\n",
       "                         [-0.9262, -2.1147,  0.4540, -0.6911],\n",
       "                         [ 1.4394,  0.6997, -0.0961, -1.6735]]])"
      ]
     },
     "execution_count": 20,
     "metadata": {},
     "output_type": "execute_result"
    }
   ],
   "source": [
    "t_stack = FastTreeValue.func(subside=True)(torch.stack)\n",
    "\n",
    "t_stack(trees)"
   ]
  },
  {
   "cell_type": "code",
   "execution_count": 21,
   "id": "f8b3f415",
   "metadata": {
    "execution": {
     "iopub.execute_input": "2023-02-27T12:36:01.052806Z",
     "iopub.status.busy": "2023-02-27T12:36:01.052180Z",
     "iopub.status.idle": "2023-02-27T12:36:03.712038Z",
     "shell.execute_reply": "2023-02-27T12:36:03.711227Z"
    }
   },
   "outputs": [
    {
     "name": "stdout",
     "output_type": "stream",
     "text": [
      "32.7 µs ± 99.4 ns per loop (mean ± std. dev. of 7 runs, 10,000 loops each)\n"
     ]
    }
   ],
   "source": [
    "%timeit t_stack(trees)"
   ]
  },
  {
   "cell_type": "code",
   "execution_count": 22,
   "id": "94b56771",
   "metadata": {
    "execution": {
     "iopub.execute_input": "2023-02-27T12:36:03.715179Z",
     "iopub.status.busy": "2023-02-27T12:36:03.714601Z",
     "iopub.status.idle": "2023-02-27T12:36:03.722363Z",
     "shell.execute_reply": "2023-02-27T12:36:03.721760Z"
    }
   },
   "outputs": [
    {
     "data": {
      "text/plain": [
       "<FastTreeValue 0x7f35e0e324f0>\n",
       "├── 'a' --> tensor([[-1.7489, -0.4396,  0.5087],\n",
       "│                   [-0.5844,  0.6968, -0.2892],\n",
       "│                   [-1.7489, -0.4396,  0.5087],\n",
       "│                   [-0.5844,  0.6968, -0.2892],\n",
       "│                   [-1.7489, -0.4396,  0.5087],\n",
       "│                   [-0.5844,  0.6968, -0.2892],\n",
       "│                   [-1.7489, -0.4396,  0.5087],\n",
       "│                   [-0.5844,  0.6968, -0.2892],\n",
       "│                   [-1.7489, -0.4396,  0.5087],\n",
       "│                   [-0.5844,  0.6968, -0.2892],\n",
       "│                   [-1.7489, -0.4396,  0.5087],\n",
       "│                   [-0.5844,  0.6968, -0.2892],\n",
       "│                   [-1.7489, -0.4396,  0.5087],\n",
       "│                   [-0.5844,  0.6968, -0.2892],\n",
       "│                   [-1.7489, -0.4396,  0.5087],\n",
       "│                   [-0.5844,  0.6968, -0.2892]])\n",
       "└── 'x' --> <FastTreeValue 0x7f35cfdaeb80>\n",
       "    └── 'c' --> tensor([[-0.4322, -1.1533, -1.7097, -0.6729],\n",
       "                        [-0.9262, -2.1147,  0.4540, -0.6911],\n",
       "                        [ 1.4394,  0.6997, -0.0961, -1.6735],\n",
       "                        [-0.4322, -1.1533, -1.7097, -0.6729],\n",
       "                        [-0.9262, -2.1147,  0.4540, -0.6911],\n",
       "                        [ 1.4394,  0.6997, -0.0961, -1.6735],\n",
       "                        [-0.4322, -1.1533, -1.7097, -0.6729],\n",
       "                        [-0.9262, -2.1147,  0.4540, -0.6911],\n",
       "                        [ 1.4394,  0.6997, -0.0961, -1.6735],\n",
       "                        [-0.4322, -1.1533, -1.7097, -0.6729],\n",
       "                        [-0.9262, -2.1147,  0.4540, -0.6911],\n",
       "                        [ 1.4394,  0.6997, -0.0961, -1.6735],\n",
       "                        [-0.4322, -1.1533, -1.7097, -0.6729],\n",
       "                        [-0.9262, -2.1147,  0.4540, -0.6911],\n",
       "                        [ 1.4394,  0.6997, -0.0961, -1.6735],\n",
       "                        [-0.4322, -1.1533, -1.7097, -0.6729],\n",
       "                        [-0.9262, -2.1147,  0.4540, -0.6911],\n",
       "                        [ 1.4394,  0.6997, -0.0961, -1.6735],\n",
       "                        [-0.4322, -1.1533, -1.7097, -0.6729],\n",
       "                        [-0.9262, -2.1147,  0.4540, -0.6911],\n",
       "                        [ 1.4394,  0.6997, -0.0961, -1.6735],\n",
       "                        [-0.4322, -1.1533, -1.7097, -0.6729],\n",
       "                        [-0.9262, -2.1147,  0.4540, -0.6911],\n",
       "                        [ 1.4394,  0.6997, -0.0961, -1.6735]])"
      ]
     },
     "execution_count": 22,
     "metadata": {},
     "output_type": "execute_result"
    }
   ],
   "source": [
    "t_cat = FastTreeValue.func(subside=True)(torch.cat)\n",
    "\n",
    "t_cat(trees)"
   ]
  },
  {
   "cell_type": "code",
   "execution_count": 23,
   "id": "5e9c06a6",
   "metadata": {
    "execution": {
     "iopub.execute_input": "2023-02-27T12:36:03.725001Z",
     "iopub.status.busy": "2023-02-27T12:36:03.724677Z",
     "iopub.status.idle": "2023-02-27T12:36:06.193757Z",
     "shell.execute_reply": "2023-02-27T12:36:06.192994Z"
    }
   },
   "outputs": [
    {
     "name": "stdout",
     "output_type": "stream",
     "text": [
      "30.4 µs ± 102 ns per loop (mean ± std. dev. of 7 runs, 10,000 loops each)\n"
     ]
    }
   ],
   "source": [
    "%timeit t_cat(trees)"
   ]
  },
  {
   "cell_type": "code",
   "execution_count": 24,
   "id": "a3ab5c8f",
   "metadata": {
    "execution": {
     "iopub.execute_input": "2023-02-27T12:36:06.196707Z",
     "iopub.status.busy": "2023-02-27T12:36:06.196335Z",
     "iopub.status.idle": "2023-02-27T12:36:11.780441Z",
     "shell.execute_reply": "2023-02-27T12:36:11.779787Z"
    }
   },
   "outputs": [
    {
     "name": "stdout",
     "output_type": "stream",
     "text": [
      "68.9 µs ± 147 ns per loop (mean ± std. dev. of 7 runs, 10,000 loops each)\n"
     ]
    }
   ],
   "source": [
    "t_split = FastTreeValue.func(rise=True)(torch.split)\n",
    "tree = FastTreeValue({\n",
    "    'obs': torch.randn(8, 4, 84, 84),\n",
    "    'action': torch.randint(0, 6, size=(8, 1,)),\n",
    "    'reward': torch.rand(8, 1),\n",
    "})\n",
    "\n",
    "%timeit t_split(tree, 1)"
   ]
  },
  {
   "cell_type": "markdown",
   "id": "31c3ec0b",
   "metadata": {},
   "source": [
    "### Performance of Tianshou Batch"
   ]
  },
  {
   "cell_type": "code",
   "execution_count": 25,
   "id": "9ead828a",
   "metadata": {
    "execution": {
     "iopub.execute_input": "2023-02-27T12:36:11.783267Z",
     "iopub.status.busy": "2023-02-27T12:36:11.782743Z",
     "iopub.status.idle": "2023-02-27T12:36:11.790490Z",
     "shell.execute_reply": "2023-02-27T12:36:11.789896Z"
    }
   },
   "outputs": [
    {
     "data": {
      "text/plain": [
       "Batch(\n",
       "    a: tensor([[[-1.7489, -0.4396,  0.5087],\n",
       "                [-0.5844,  0.6968, -0.2892]],\n",
       "       \n",
       "               [[-1.7489, -0.4396,  0.5087],\n",
       "                [-0.5844,  0.6968, -0.2892]],\n",
       "       \n",
       "               [[-1.7489, -0.4396,  0.5087],\n",
       "                [-0.5844,  0.6968, -0.2892]],\n",
       "       \n",
       "               [[-1.7489, -0.4396,  0.5087],\n",
       "                [-0.5844,  0.6968, -0.2892]],\n",
       "       \n",
       "               [[-1.7489, -0.4396,  0.5087],\n",
       "                [-0.5844,  0.6968, -0.2892]],\n",
       "       \n",
       "               [[-1.7489, -0.4396,  0.5087],\n",
       "                [-0.5844,  0.6968, -0.2892]],\n",
       "       \n",
       "               [[-1.7489, -0.4396,  0.5087],\n",
       "                [-0.5844,  0.6968, -0.2892]],\n",
       "       \n",
       "               [[-1.7489, -0.4396,  0.5087],\n",
       "                [-0.5844,  0.6968, -0.2892]]]),\n",
       "    x: Batch(\n",
       "           c: tensor([[[-0.4322, -1.1533, -1.7097, -0.6729],\n",
       "                       [-0.9262, -2.1147,  0.4540, -0.6911],\n",
       "                       [ 1.4394,  0.6997, -0.0961, -1.6735]],\n",
       "              \n",
       "                      [[-0.4322, -1.1533, -1.7097, -0.6729],\n",
       "                       [-0.9262, -2.1147,  0.4540, -0.6911],\n",
       "                       [ 1.4394,  0.6997, -0.0961, -1.6735]],\n",
       "              \n",
       "                      [[-0.4322, -1.1533, -1.7097, -0.6729],\n",
       "                       [-0.9262, -2.1147,  0.4540, -0.6911],\n",
       "                       [ 1.4394,  0.6997, -0.0961, -1.6735]],\n",
       "              \n",
       "                      [[-0.4322, -1.1533, -1.7097, -0.6729],\n",
       "                       [-0.9262, -2.1147,  0.4540, -0.6911],\n",
       "                       [ 1.4394,  0.6997, -0.0961, -1.6735]],\n",
       "              \n",
       "                      [[-0.4322, -1.1533, -1.7097, -0.6729],\n",
       "                       [-0.9262, -2.1147,  0.4540, -0.6911],\n",
       "                       [ 1.4394,  0.6997, -0.0961, -1.6735]],\n",
       "              \n",
       "                      [[-0.4322, -1.1533, -1.7097, -0.6729],\n",
       "                       [-0.9262, -2.1147,  0.4540, -0.6911],\n",
       "                       [ 1.4394,  0.6997, -0.0961, -1.6735]],\n",
       "              \n",
       "                      [[-0.4322, -1.1533, -1.7097, -0.6729],\n",
       "                       [-0.9262, -2.1147,  0.4540, -0.6911],\n",
       "                       [ 1.4394,  0.6997, -0.0961, -1.6735]],\n",
       "              \n",
       "                      [[-0.4322, -1.1533, -1.7097, -0.6729],\n",
       "                       [-0.9262, -2.1147,  0.4540, -0.6911],\n",
       "                       [ 1.4394,  0.6997, -0.0961, -1.6735]]]),\n",
       "       ),\n",
       ")"
      ]
     },
     "execution_count": 25,
     "metadata": {},
     "output_type": "execute_result"
    }
   ],
   "source": [
    "batches = [Batch(**_TREE_DATA_2) for _ in range(8)]\n",
    "\n",
    "Batch.stack(batches)"
   ]
  },
  {
   "cell_type": "code",
   "execution_count": 26,
   "id": "ec9037a3",
   "metadata": {
    "execution": {
     "iopub.execute_input": "2023-02-27T12:36:11.793050Z",
     "iopub.status.busy": "2023-02-27T12:36:11.792553Z",
     "iopub.status.idle": "2023-02-27T12:36:18.158070Z",
     "shell.execute_reply": "2023-02-27T12:36:18.157329Z"
    }
   },
   "outputs": [
    {
     "name": "stdout",
     "output_type": "stream",
     "text": [
      "78.4 µs ± 151 ns per loop (mean ± std. dev. of 7 runs, 10,000 loops each)\n"
     ]
    }
   ],
   "source": [
    "%timeit Batch.stack(batches)"
   ]
  },
  {
   "cell_type": "code",
   "execution_count": 27,
   "id": "cb8ab77e",
   "metadata": {
    "execution": {
     "iopub.execute_input": "2023-02-27T12:36:18.160800Z",
     "iopub.status.busy": "2023-02-27T12:36:18.160444Z",
     "iopub.status.idle": "2023-02-27T12:36:18.167796Z",
     "shell.execute_reply": "2023-02-27T12:36:18.167142Z"
    }
   },
   "outputs": [
    {
     "data": {
      "text/plain": [
       "Batch(\n",
       "    a: tensor([[-1.7489, -0.4396,  0.5087],\n",
       "               [-0.5844,  0.6968, -0.2892],\n",
       "               [-1.7489, -0.4396,  0.5087],\n",
       "               [-0.5844,  0.6968, -0.2892],\n",
       "               [-1.7489, -0.4396,  0.5087],\n",
       "               [-0.5844,  0.6968, -0.2892],\n",
       "               [-1.7489, -0.4396,  0.5087],\n",
       "               [-0.5844,  0.6968, -0.2892],\n",
       "               [-1.7489, -0.4396,  0.5087],\n",
       "               [-0.5844,  0.6968, -0.2892],\n",
       "               [-1.7489, -0.4396,  0.5087],\n",
       "               [-0.5844,  0.6968, -0.2892],\n",
       "               [-1.7489, -0.4396,  0.5087],\n",
       "               [-0.5844,  0.6968, -0.2892],\n",
       "               [-1.7489, -0.4396,  0.5087],\n",
       "               [-0.5844,  0.6968, -0.2892]]),\n",
       "    x: Batch(\n",
       "           c: tensor([[-0.4322, -1.1533, -1.7097, -0.6729],\n",
       "                      [-0.9262, -2.1147,  0.4540, -0.6911],\n",
       "                      [ 1.4394,  0.6997, -0.0961, -1.6735],\n",
       "                      [-0.4322, -1.1533, -1.7097, -0.6729],\n",
       "                      [-0.9262, -2.1147,  0.4540, -0.6911],\n",
       "                      [ 1.4394,  0.6997, -0.0961, -1.6735],\n",
       "                      [-0.4322, -1.1533, -1.7097, -0.6729],\n",
       "                      [-0.9262, -2.1147,  0.4540, -0.6911],\n",
       "                      [ 1.4394,  0.6997, -0.0961, -1.6735],\n",
       "                      [-0.4322, -1.1533, -1.7097, -0.6729],\n",
       "                      [-0.9262, -2.1147,  0.4540, -0.6911],\n",
       "                      [ 1.4394,  0.6997, -0.0961, -1.6735],\n",
       "                      [-0.4322, -1.1533, -1.7097, -0.6729],\n",
       "                      [-0.9262, -2.1147,  0.4540, -0.6911],\n",
       "                      [ 1.4394,  0.6997, -0.0961, -1.6735],\n",
       "                      [-0.4322, -1.1533, -1.7097, -0.6729],\n",
       "                      [-0.9262, -2.1147,  0.4540, -0.6911],\n",
       "                      [ 1.4394,  0.6997, -0.0961, -1.6735],\n",
       "                      [-0.4322, -1.1533, -1.7097, -0.6729],\n",
       "                      [-0.9262, -2.1147,  0.4540, -0.6911],\n",
       "                      [ 1.4394,  0.6997, -0.0961, -1.6735],\n",
       "                      [-0.4322, -1.1533, -1.7097, -0.6729],\n",
       "                      [-0.9262, -2.1147,  0.4540, -0.6911],\n",
       "                      [ 1.4394,  0.6997, -0.0961, -1.6735]]),\n",
       "       ),\n",
       ")"
      ]
     },
     "execution_count": 27,
     "metadata": {},
     "output_type": "execute_result"
    }
   ],
   "source": [
    "Batch.cat(batches)"
   ]
  },
  {
   "cell_type": "code",
   "execution_count": 28,
   "id": "18dfb045",
   "metadata": {
    "execution": {
     "iopub.execute_input": "2023-02-27T12:36:18.170293Z",
     "iopub.status.busy": "2023-02-27T12:36:18.169955Z",
     "iopub.status.idle": "2023-02-27T12:36:31.124663Z",
     "shell.execute_reply": "2023-02-27T12:36:31.123897Z"
    }
   },
   "outputs": [
    {
     "name": "stdout",
     "output_type": "stream",
     "text": [
      "160 µs ± 405 ns per loop (mean ± std. dev. of 7 runs, 10,000 loops each)\n"
     ]
    }
   ],
   "source": [
    "%timeit Batch.cat(batches)"
   ]
  },
  {
   "cell_type": "code",
   "execution_count": 29,
   "id": "c6688e51",
   "metadata": {
    "execution": {
     "iopub.execute_input": "2023-02-27T12:36:31.127744Z",
     "iopub.status.busy": "2023-02-27T12:36:31.127349Z",
     "iopub.status.idle": "2023-02-27T12:36:33.654820Z",
     "shell.execute_reply": "2023-02-27T12:36:33.654083Z"
    }
   },
   "outputs": [
    {
     "name": "stdout",
     "output_type": "stream",
     "text": [
      "310 µs ± 1.92 µs per loop (mean ± std. dev. of 7 runs, 1,000 loops each)\n"
     ]
    }
   ],
   "source": [
    "batch = Batch({\n",
    "    'obs': torch.randn(8, 4, 84, 84),\n",
    "    'action': torch.randint(0, 6, size=(8, 1,)),\n",
    "    'reward': torch.rand(8, 1)}\n",
    ")\n",
    "\n",
    "%timeit list(Batch.split(batch, 1, shuffle=False, merge_last=True))"
   ]
  },
  {
   "cell_type": "code",
   "execution_count": null,
   "id": "2539fbd9",
   "metadata": {},
   "outputs": [],
   "source": []
  }
 ],
 "metadata": {
  "kernelspec": {
   "display_name": "Python 3 (ipykernel)",
   "language": "python",
   "name": "python3"
  },
  "language_info": {
   "codemirror_mode": {
    "name": "ipython",
    "version": 3
   },
   "file_extension": ".py",
   "mimetype": "text/x-python",
   "name": "python",
   "nbconvert_exporter": "python",
   "pygments_lexer": "ipython3",
   "version": "3.8.16"
  }
 },
 "nbformat": 4,
 "nbformat_minor": 5
}
