{
 "cells": [
  {
   "cell_type": "markdown",
   "id": "9d39d946",
   "metadata": {},
   "source": [
    "# Comparison Between TreeValue and Tianshou Batch"
   ]
  },
  {
   "cell_type": "markdown",
   "id": "3c6db2d4",
   "metadata": {},
   "source": [
    "In this section, we will take a look at the feature and performance of the [Tianshou Batch](https://github.com/thu-ml/tianshou) library, which is developed by Tsinghua Machine Learning Group."
   ]
  },
  {
   "cell_type": "markdown",
   "id": "069361b0",
   "metadata": {},
   "source": [
    "Before starting the comparison, let us define some thing."
   ]
  },
  {
   "cell_type": "code",
   "execution_count": 1,
   "id": "06fc8d26",
   "metadata": {
    "execution": {
     "iopub.execute_input": "2023-02-27T12:37:09.542955Z",
     "iopub.status.busy": "2023-02-27T12:37:09.542267Z",
     "iopub.status.idle": "2023-02-27T12:37:10.557497Z",
     "shell.execute_reply": "2023-02-27T12:37:10.556635Z"
    }
   },
   "outputs": [
    {
     "name": "stderr",
     "output_type": "stream",
     "text": [
      "/opt/hostedtoolcache/Python/3.8.16/x64/lib/python3.8/site-packages/tqdm/auto.py:22: TqdmWarning: IProgress not found. Please update jupyter and ipywidgets. See https://ipywidgets.readthedocs.io/en/stable/user_install.html\n",
      "  from .autonotebook import tqdm as notebook_tqdm\n"
     ]
    }
   ],
   "source": [
    "import torch \n",
    "\n",
    "_TREE_DATA_1 = {'a': 1, 'b': 2, 'x': {'c': 3, 'd': 4}}\n",
    "_TREE_DATA_2 = {\n",
    "    'a': torch.randn(2, 3), \n",
    "    'x': {\n",
    "        'c': torch.randn(3, 4)\n",
    "    },\n",
    "}\n",
    "_TREE_DATA_3 = {\n",
    "    'obs': torch.randn(4, 84, 84),\n",
    "    'action': torch.randint(0, 6, size=(1,)),\n",
    "    'reward': torch.rand(1),\n",
    "}"
   ]
  },
  {
   "cell_type": "markdown",
   "id": "83461b25",
   "metadata": {},
   "source": [
    "## Read and Write Operation"
   ]
  },
  {
   "cell_type": "markdown",
   "id": "067b3f73",
   "metadata": {},
   "source": [
    "Reading and writing are the two most common operations in the tree data structure based on the data model (TreeValue and Tianshou Batch both belong to this type), so this section will compare the reading and writing performance of these two libraries."
   ]
  },
  {
   "cell_type": "markdown",
   "id": "5d09a5b7",
   "metadata": {},
   "source": [
    "### TreeValue's Get and Set"
   ]
  },
  {
   "cell_type": "code",
   "execution_count": 2,
   "id": "9519c4bb",
   "metadata": {
    "execution": {
     "iopub.execute_input": "2023-02-27T12:37:10.561866Z",
     "iopub.status.busy": "2023-02-27T12:37:10.561330Z",
     "iopub.status.idle": "2023-02-27T12:37:10.864438Z",
     "shell.execute_reply": "2023-02-27T12:37:10.863596Z"
    }
   },
   "outputs": [],
   "source": [
    "from treevalue import FastTreeValue\n",
    "\n",
    "t = FastTreeValue(_TREE_DATA_2)"
   ]
  },
  {
   "cell_type": "code",
   "execution_count": 3,
   "id": "11c37677",
   "metadata": {
    "execution": {
     "iopub.execute_input": "2023-02-27T12:37:10.868025Z",
     "iopub.status.busy": "2023-02-27T12:37:10.867525Z",
     "iopub.status.idle": "2023-02-27T12:37:10.877002Z",
     "shell.execute_reply": "2023-02-27T12:37:10.876251Z"
    }
   },
   "outputs": [
    {
     "data": {
      "text/plain": [
       "<FastTreeValue 0x7f55e8018790>\n",
       "├── 'a' --> tensor([[-0.4370, -0.9170,  0.4492],\n",
       "│                   [-0.4437,  1.8622,  0.7298]])\n",
       "└── 'x' --> <FastTreeValue 0x7f55e8077fd0>\n",
       "    └── 'c' --> tensor([[ 0.5381,  0.0749, -0.1468,  0.4915],\n",
       "                        [-1.0355,  0.5128,  0.6492,  0.7051],\n",
       "                        [ 0.1372, -0.6870, -0.3957,  0.6132]])"
      ]
     },
     "execution_count": 3,
     "metadata": {},
     "output_type": "execute_result"
    }
   ],
   "source": [
    "t"
   ]
  },
  {
   "cell_type": "code",
   "execution_count": 4,
   "id": "fd70b0b9",
   "metadata": {
    "execution": {
     "iopub.execute_input": "2023-02-27T12:37:10.879854Z",
     "iopub.status.busy": "2023-02-27T12:37:10.879455Z",
     "iopub.status.idle": "2023-02-27T12:37:10.884784Z",
     "shell.execute_reply": "2023-02-27T12:37:10.884047Z"
    }
   },
   "outputs": [
    {
     "data": {
      "text/plain": [
       "tensor([[-0.4370, -0.9170,  0.4492],\n",
       "        [-0.4437,  1.8622,  0.7298]])"
      ]
     },
     "execution_count": 4,
     "metadata": {},
     "output_type": "execute_result"
    }
   ],
   "source": [
    "t.a"
   ]
  },
  {
   "cell_type": "code",
   "execution_count": 5,
   "id": "c18197bd",
   "metadata": {
    "execution": {
     "iopub.execute_input": "2023-02-27T12:37:10.887688Z",
     "iopub.status.busy": "2023-02-27T12:37:10.887245Z",
     "iopub.status.idle": "2023-02-27T12:37:16.072390Z",
     "shell.execute_reply": "2023-02-27T12:37:16.071462Z"
    }
   },
   "outputs": [
    {
     "name": "stdout",
     "output_type": "stream",
     "text": [
      "63.8 ns ± 0.0829 ns per loop (mean ± std. dev. of 7 runs, 10,000,000 loops each)\n"
     ]
    }
   ],
   "source": [
    "%timeit t.a"
   ]
  },
  {
   "cell_type": "code",
   "execution_count": 6,
   "id": "bd52f867",
   "metadata": {
    "execution": {
     "iopub.execute_input": "2023-02-27T12:37:16.076330Z",
     "iopub.status.busy": "2023-02-27T12:37:16.075629Z",
     "iopub.status.idle": "2023-02-27T12:37:16.083136Z",
     "shell.execute_reply": "2023-02-27T12:37:16.082503Z"
    }
   },
   "outputs": [
    {
     "data": {
      "text/plain": [
       "<FastTreeValue 0x7f55e8018790>\n",
       "├── 'a' --> tensor([[-0.2494, -1.0558,  0.6897],\n",
       "│                   [-0.8364, -0.4471,  0.3607]])\n",
       "└── 'x' --> <FastTreeValue 0x7f55e8077fd0>\n",
       "    └── 'c' --> tensor([[ 0.5381,  0.0749, -0.1468,  0.4915],\n",
       "                        [-1.0355,  0.5128,  0.6492,  0.7051],\n",
       "                        [ 0.1372, -0.6870, -0.3957,  0.6132]])"
      ]
     },
     "execution_count": 6,
     "metadata": {},
     "output_type": "execute_result"
    }
   ],
   "source": [
    "new_value = torch.randn(2, 3)\n",
    "t.a = new_value\n",
    "\n",
    "t"
   ]
  },
  {
   "cell_type": "code",
   "execution_count": 7,
   "id": "bbe04d1c",
   "metadata": {
    "execution": {
     "iopub.execute_input": "2023-02-27T12:37:16.086208Z",
     "iopub.status.busy": "2023-02-27T12:37:16.085827Z",
     "iopub.status.idle": "2023-02-27T12:37:21.470023Z",
     "shell.execute_reply": "2023-02-27T12:37:21.469169Z"
    }
   },
   "outputs": [
    {
     "name": "stdout",
     "output_type": "stream",
     "text": [
      "66.3 ns ± 0.0994 ns per loop (mean ± std. dev. of 7 runs, 10,000,000 loops each)\n"
     ]
    }
   ],
   "source": [
    "%timeit t.a = new_value"
   ]
  },
  {
   "cell_type": "markdown",
   "id": "48c49731",
   "metadata": {},
   "source": [
    "### Tianshou Batch's Get and Set"
   ]
  },
  {
   "cell_type": "code",
   "execution_count": 8,
   "id": "f1bb14c1",
   "metadata": {
    "execution": {
     "iopub.execute_input": "2023-02-27T12:37:21.473541Z",
     "iopub.status.busy": "2023-02-27T12:37:21.472981Z",
     "iopub.status.idle": "2023-02-27T12:37:21.860159Z",
     "shell.execute_reply": "2023-02-27T12:37:21.859342Z"
    }
   },
   "outputs": [],
   "source": [
    "from tianshou.data import Batch\n",
    "\n",
    "b = Batch(**_TREE_DATA_2)"
   ]
  },
  {
   "cell_type": "code",
   "execution_count": 9,
   "id": "cb0777c3",
   "metadata": {
    "execution": {
     "iopub.execute_input": "2023-02-27T12:37:21.864135Z",
     "iopub.status.busy": "2023-02-27T12:37:21.863625Z",
     "iopub.status.idle": "2023-02-27T12:37:21.870883Z",
     "shell.execute_reply": "2023-02-27T12:37:21.870244Z"
    }
   },
   "outputs": [
    {
     "data": {
      "text/plain": [
       "Batch(\n",
       "    a: tensor([[-0.4370, -0.9170,  0.4492],\n",
       "               [-0.4437,  1.8622,  0.7298]]),\n",
       "    x: Batch(\n",
       "           c: tensor([[ 0.5381,  0.0749, -0.1468,  0.4915],\n",
       "                      [-1.0355,  0.5128,  0.6492,  0.7051],\n",
       "                      [ 0.1372, -0.6870, -0.3957,  0.6132]]),\n",
       "       ),\n",
       ")"
      ]
     },
     "execution_count": 9,
     "metadata": {},
     "output_type": "execute_result"
    }
   ],
   "source": [
    "b"
   ]
  },
  {
   "cell_type": "code",
   "execution_count": 10,
   "id": "43ef8ea3",
   "metadata": {
    "execution": {
     "iopub.execute_input": "2023-02-27T12:37:21.873960Z",
     "iopub.status.busy": "2023-02-27T12:37:21.873588Z",
     "iopub.status.idle": "2023-02-27T12:37:21.879654Z",
     "shell.execute_reply": "2023-02-27T12:37:21.879027Z"
    }
   },
   "outputs": [
    {
     "data": {
      "text/plain": [
       "tensor([[-0.4370, -0.9170,  0.4492],\n",
       "        [-0.4437,  1.8622,  0.7298]])"
      ]
     },
     "execution_count": 10,
     "metadata": {},
     "output_type": "execute_result"
    }
   ],
   "source": [
    "b.a"
   ]
  },
  {
   "cell_type": "code",
   "execution_count": 11,
   "id": "b785ab72",
   "metadata": {
    "execution": {
     "iopub.execute_input": "2023-02-27T12:37:21.882619Z",
     "iopub.status.busy": "2023-02-27T12:37:21.882248Z",
     "iopub.status.idle": "2023-02-27T12:37:26.762530Z",
     "shell.execute_reply": "2023-02-27T12:37:26.761640Z"
    }
   },
   "outputs": [
    {
     "name": "stdout",
     "output_type": "stream",
     "text": [
      "60.1 ns ± 0.0143 ns per loop (mean ± std. dev. of 7 runs, 10,000,000 loops each)\n"
     ]
    }
   ],
   "source": [
    "%timeit b.a"
   ]
  },
  {
   "cell_type": "code",
   "execution_count": 12,
   "id": "ad54dc69",
   "metadata": {
    "execution": {
     "iopub.execute_input": "2023-02-27T12:37:26.766041Z",
     "iopub.status.busy": "2023-02-27T12:37:26.765427Z",
     "iopub.status.idle": "2023-02-27T12:37:26.772581Z",
     "shell.execute_reply": "2023-02-27T12:37:26.771876Z"
    }
   },
   "outputs": [
    {
     "data": {
      "text/plain": [
       "Batch(\n",
       "    a: tensor([[ 0.8329, -2.4000,  0.1343],\n",
       "               [-0.7825, -0.9174,  0.3500]]),\n",
       "    x: Batch(\n",
       "           c: tensor([[ 0.5381,  0.0749, -0.1468,  0.4915],\n",
       "                      [-1.0355,  0.5128,  0.6492,  0.7051],\n",
       "                      [ 0.1372, -0.6870, -0.3957,  0.6132]]),\n",
       "       ),\n",
       ")"
      ]
     },
     "execution_count": 12,
     "metadata": {},
     "output_type": "execute_result"
    }
   ],
   "source": [
    "new_value = torch.randn(2, 3)\n",
    "b.a = new_value\n",
    "\n",
    "b"
   ]
  },
  {
   "cell_type": "code",
   "execution_count": 13,
   "id": "29b1d0bf",
   "metadata": {
    "execution": {
     "iopub.execute_input": "2023-02-27T12:37:26.775822Z",
     "iopub.status.busy": "2023-02-27T12:37:26.775347Z",
     "iopub.status.idle": "2023-02-27T12:37:30.774354Z",
     "shell.execute_reply": "2023-02-27T12:37:30.773461Z"
    }
   },
   "outputs": [
    {
     "name": "stdout",
     "output_type": "stream",
     "text": [
      "491 ns ± 0.0644 ns per loop (mean ± std. dev. of 7 runs, 1,000,000 loops each)\n"
     ]
    }
   ],
   "source": [
    "%timeit b.a = new_value"
   ]
  },
  {
   "cell_type": "markdown",
   "id": "b61ad1d0",
   "metadata": {},
   "source": [
    "## Initialization"
   ]
  },
  {
   "cell_type": "markdown",
   "id": "d70f0d54",
   "metadata": {},
   "source": [
    "### TreeValue's Initialization"
   ]
  },
  {
   "cell_type": "code",
   "execution_count": 14,
   "id": "d32a679b",
   "metadata": {
    "execution": {
     "iopub.execute_input": "2023-02-27T12:37:30.777998Z",
     "iopub.status.busy": "2023-02-27T12:37:30.777496Z",
     "iopub.status.idle": "2023-02-27T12:37:37.348889Z",
     "shell.execute_reply": "2023-02-27T12:37:37.347944Z"
    }
   },
   "outputs": [
    {
     "name": "stdout",
     "output_type": "stream",
     "text": [
      "809 ns ± 0.0881 ns per loop (mean ± std. dev. of 7 runs, 1,000,000 loops each)\n"
     ]
    }
   ],
   "source": [
    "%timeit FastTreeValue(_TREE_DATA_1)"
   ]
  },
  {
   "cell_type": "markdown",
   "id": "24f3707b",
   "metadata": {},
   "source": [
    "### Tianshou Batch's Initialization"
   ]
  },
  {
   "cell_type": "code",
   "execution_count": 15,
   "id": "ac3958df",
   "metadata": {
    "execution": {
     "iopub.execute_input": "2023-02-27T12:37:37.353180Z",
     "iopub.status.busy": "2023-02-27T12:37:37.352459Z",
     "iopub.status.idle": "2023-02-27T12:37:46.054095Z",
     "shell.execute_reply": "2023-02-27T12:37:46.053220Z"
    }
   },
   "outputs": [
    {
     "name": "stdout",
     "output_type": "stream",
     "text": [
      "10.7 µs ± 18.6 ns per loop (mean ± std. dev. of 7 runs, 100,000 loops each)\n"
     ]
    }
   ],
   "source": [
    "%timeit Batch(**_TREE_DATA_1)"
   ]
  },
  {
   "cell_type": "markdown",
   "id": "1ab82e2d",
   "metadata": {},
   "source": [
    "## Deep Copy Operation"
   ]
  },
  {
   "cell_type": "code",
   "execution_count": 16,
   "id": "210a9442",
   "metadata": {
    "execution": {
     "iopub.execute_input": "2023-02-27T12:37:46.057869Z",
     "iopub.status.busy": "2023-02-27T12:37:46.057255Z",
     "iopub.status.idle": "2023-02-27T12:37:46.061214Z",
     "shell.execute_reply": "2023-02-27T12:37:46.060566Z"
    }
   },
   "outputs": [],
   "source": [
    "import copy"
   ]
  },
  {
   "cell_type": "markdown",
   "id": "5a736274",
   "metadata": {},
   "source": [
    "### Deep Copy of TreeValue"
   ]
  },
  {
   "cell_type": "code",
   "execution_count": 17,
   "id": "f9bcadd6",
   "metadata": {
    "execution": {
     "iopub.execute_input": "2023-02-27T12:37:46.064023Z",
     "iopub.status.busy": "2023-02-27T12:37:46.063614Z",
     "iopub.status.idle": "2023-02-27T12:37:57.761521Z",
     "shell.execute_reply": "2023-02-27T12:37:57.760715Z"
    }
   },
   "outputs": [
    {
     "name": "stdout",
     "output_type": "stream",
     "text": [
      "144 µs ± 960 ns per loop (mean ± std. dev. of 7 runs, 10,000 loops each)\n"
     ]
    }
   ],
   "source": [
    "t3 = FastTreeValue(_TREE_DATA_3)\n",
    "%timeit copy.deepcopy(t3)"
   ]
  },
  {
   "cell_type": "markdown",
   "id": "bf8be7ea",
   "metadata": {},
   "source": [
    "### Deep Copy of Tianshou Batch"
   ]
  },
  {
   "cell_type": "code",
   "execution_count": 18,
   "id": "91998e6f",
   "metadata": {
    "execution": {
     "iopub.execute_input": "2023-02-27T12:37:57.764975Z",
     "iopub.status.busy": "2023-02-27T12:37:57.764696Z",
     "iopub.status.idle": "2023-02-27T12:38:09.375306Z",
     "shell.execute_reply": "2023-02-27T12:38:09.374676Z"
    }
   },
   "outputs": [
    {
     "name": "stdout",
     "output_type": "stream",
     "text": [
      "143 µs ± 515 ns per loop (mean ± std. dev. of 7 runs, 10,000 loops each)\n"
     ]
    }
   ],
   "source": [
    "b3 = Batch(**_TREE_DATA_3)\n",
    "%timeit copy.deepcopy(b3)"
   ]
  },
  {
   "cell_type": "markdown",
   "id": "223162fb",
   "metadata": {},
   "source": [
    "## Stack, Concat and Split Operation"
   ]
  },
  {
   "cell_type": "markdown",
   "id": "85fa4a73",
   "metadata": {},
   "source": [
    "### Performance of TreeValue"
   ]
  },
  {
   "cell_type": "code",
   "execution_count": 19,
   "id": "a0c2b697",
   "metadata": {
    "execution": {
     "iopub.execute_input": "2023-02-27T12:38:09.378531Z",
     "iopub.status.busy": "2023-02-27T12:38:09.378124Z",
     "iopub.status.idle": "2023-02-27T12:38:09.381416Z",
     "shell.execute_reply": "2023-02-27T12:38:09.380855Z"
    }
   },
   "outputs": [],
   "source": [
    "trees = [FastTreeValue(_TREE_DATA_2) for _ in range(8)]"
   ]
  },
  {
   "cell_type": "code",
   "execution_count": 20,
   "id": "017ea5a5",
   "metadata": {
    "execution": {
     "iopub.execute_input": "2023-02-27T12:38:09.383919Z",
     "iopub.status.busy": "2023-02-27T12:38:09.383551Z",
     "iopub.status.idle": "2023-02-27T12:38:09.390505Z",
     "shell.execute_reply": "2023-02-27T12:38:09.389963Z"
    }
   },
   "outputs": [
    {
     "data": {
      "text/plain": [
       "<FastTreeValue 0x7f55332d6a90>\n",
       "├── 'a' --> tensor([[[-0.4370, -0.9170,  0.4492],\n",
       "│                    [-0.4437,  1.8622,  0.7298]],\n",
       "│           \n",
       "│                   [[-0.4370, -0.9170,  0.4492],\n",
       "│                    [-0.4437,  1.8622,  0.7298]],\n",
       "│           \n",
       "│                   [[-0.4370, -0.9170,  0.4492],\n",
       "│                    [-0.4437,  1.8622,  0.7298]],\n",
       "│           \n",
       "│                   [[-0.4370, -0.9170,  0.4492],\n",
       "│                    [-0.4437,  1.8622,  0.7298]],\n",
       "│           \n",
       "│                   [[-0.4370, -0.9170,  0.4492],\n",
       "│                    [-0.4437,  1.8622,  0.7298]],\n",
       "│           \n",
       "│                   [[-0.4370, -0.9170,  0.4492],\n",
       "│                    [-0.4437,  1.8622,  0.7298]],\n",
       "│           \n",
       "│                   [[-0.4370, -0.9170,  0.4492],\n",
       "│                    [-0.4437,  1.8622,  0.7298]],\n",
       "│           \n",
       "│                   [[-0.4370, -0.9170,  0.4492],\n",
       "│                    [-0.4437,  1.8622,  0.7298]]])\n",
       "└── 'x' --> <FastTreeValue 0x7f55332d67f0>\n",
       "    └── 'c' --> tensor([[[ 0.5381,  0.0749, -0.1468,  0.4915],\n",
       "                         [-1.0355,  0.5128,  0.6492,  0.7051],\n",
       "                         [ 0.1372, -0.6870, -0.3957,  0.6132]],\n",
       "                \n",
       "                        [[ 0.5381,  0.0749, -0.1468,  0.4915],\n",
       "                         [-1.0355,  0.5128,  0.6492,  0.7051],\n",
       "                         [ 0.1372, -0.6870, -0.3957,  0.6132]],\n",
       "                \n",
       "                        [[ 0.5381,  0.0749, -0.1468,  0.4915],\n",
       "                         [-1.0355,  0.5128,  0.6492,  0.7051],\n",
       "                         [ 0.1372, -0.6870, -0.3957,  0.6132]],\n",
       "                \n",
       "                        [[ 0.5381,  0.0749, -0.1468,  0.4915],\n",
       "                         [-1.0355,  0.5128,  0.6492,  0.7051],\n",
       "                         [ 0.1372, -0.6870, -0.3957,  0.6132]],\n",
       "                \n",
       "                        [[ 0.5381,  0.0749, -0.1468,  0.4915],\n",
       "                         [-1.0355,  0.5128,  0.6492,  0.7051],\n",
       "                         [ 0.1372, -0.6870, -0.3957,  0.6132]],\n",
       "                \n",
       "                        [[ 0.5381,  0.0749, -0.1468,  0.4915],\n",
       "                         [-1.0355,  0.5128,  0.6492,  0.7051],\n",
       "                         [ 0.1372, -0.6870, -0.3957,  0.6132]],\n",
       "                \n",
       "                        [[ 0.5381,  0.0749, -0.1468,  0.4915],\n",
       "                         [-1.0355,  0.5128,  0.6492,  0.7051],\n",
       "                         [ 0.1372, -0.6870, -0.3957,  0.6132]],\n",
       "                \n",
       "                        [[ 0.5381,  0.0749, -0.1468,  0.4915],\n",
       "                         [-1.0355,  0.5128,  0.6492,  0.7051],\n",
       "                         [ 0.1372, -0.6870, -0.3957,  0.6132]]])"
      ]
     },
     "execution_count": 20,
     "metadata": {},
     "output_type": "execute_result"
    }
   ],
   "source": [
    "t_stack = FastTreeValue.func(subside=True)(torch.stack)\n",
    "\n",
    "t_stack(trees)"
   ]
  },
  {
   "cell_type": "code",
   "execution_count": 21,
   "id": "f8b3f415",
   "metadata": {
    "execution": {
     "iopub.execute_input": "2023-02-27T12:38:09.392998Z",
     "iopub.status.busy": "2023-02-27T12:38:09.392631Z",
     "iopub.status.idle": "2023-02-27T12:38:12.046913Z",
     "shell.execute_reply": "2023-02-27T12:38:12.046026Z"
    }
   },
   "outputs": [
    {
     "name": "stdout",
     "output_type": "stream",
     "text": [
      "32.6 µs ± 47.3 ns per loop (mean ± std. dev. of 7 runs, 10,000 loops each)\n"
     ]
    }
   ],
   "source": [
    "%timeit t_stack(trees)"
   ]
  },
  {
   "cell_type": "code",
   "execution_count": 22,
   "id": "94b56771",
   "metadata": {
    "execution": {
     "iopub.execute_input": "2023-02-27T12:38:12.050301Z",
     "iopub.status.busy": "2023-02-27T12:38:12.049727Z",
     "iopub.status.idle": "2023-02-27T12:38:12.057791Z",
     "shell.execute_reply": "2023-02-27T12:38:12.057088Z"
    }
   },
   "outputs": [
    {
     "data": {
      "text/plain": [
       "<FastTreeValue 0x7f554498bfd0>\n",
       "├── 'a' --> tensor([[-0.4370, -0.9170,  0.4492],\n",
       "│                   [-0.4437,  1.8622,  0.7298],\n",
       "│                   [-0.4370, -0.9170,  0.4492],\n",
       "│                   [-0.4437,  1.8622,  0.7298],\n",
       "│                   [-0.4370, -0.9170,  0.4492],\n",
       "│                   [-0.4437,  1.8622,  0.7298],\n",
       "│                   [-0.4370, -0.9170,  0.4492],\n",
       "│                   [-0.4437,  1.8622,  0.7298],\n",
       "│                   [-0.4370, -0.9170,  0.4492],\n",
       "│                   [-0.4437,  1.8622,  0.7298],\n",
       "│                   [-0.4370, -0.9170,  0.4492],\n",
       "│                   [-0.4437,  1.8622,  0.7298],\n",
       "│                   [-0.4370, -0.9170,  0.4492],\n",
       "│                   [-0.4437,  1.8622,  0.7298],\n",
       "│                   [-0.4370, -0.9170,  0.4492],\n",
       "│                   [-0.4437,  1.8622,  0.7298]])\n",
       "└── 'x' --> <FastTreeValue 0x7f55448f2520>\n",
       "    └── 'c' --> tensor([[ 0.5381,  0.0749, -0.1468,  0.4915],\n",
       "                        [-1.0355,  0.5128,  0.6492,  0.7051],\n",
       "                        [ 0.1372, -0.6870, -0.3957,  0.6132],\n",
       "                        [ 0.5381,  0.0749, -0.1468,  0.4915],\n",
       "                        [-1.0355,  0.5128,  0.6492,  0.7051],\n",
       "                        [ 0.1372, -0.6870, -0.3957,  0.6132],\n",
       "                        [ 0.5381,  0.0749, -0.1468,  0.4915],\n",
       "                        [-1.0355,  0.5128,  0.6492,  0.7051],\n",
       "                        [ 0.1372, -0.6870, -0.3957,  0.6132],\n",
       "                        [ 0.5381,  0.0749, -0.1468,  0.4915],\n",
       "                        [-1.0355,  0.5128,  0.6492,  0.7051],\n",
       "                        [ 0.1372, -0.6870, -0.3957,  0.6132],\n",
       "                        [ 0.5381,  0.0749, -0.1468,  0.4915],\n",
       "                        [-1.0355,  0.5128,  0.6492,  0.7051],\n",
       "                        [ 0.1372, -0.6870, -0.3957,  0.6132],\n",
       "                        [ 0.5381,  0.0749, -0.1468,  0.4915],\n",
       "                        [-1.0355,  0.5128,  0.6492,  0.7051],\n",
       "                        [ 0.1372, -0.6870, -0.3957,  0.6132],\n",
       "                        [ 0.5381,  0.0749, -0.1468,  0.4915],\n",
       "                        [-1.0355,  0.5128,  0.6492,  0.7051],\n",
       "                        [ 0.1372, -0.6870, -0.3957,  0.6132],\n",
       "                        [ 0.5381,  0.0749, -0.1468,  0.4915],\n",
       "                        [-1.0355,  0.5128,  0.6492,  0.7051],\n",
       "                        [ 0.1372, -0.6870, -0.3957,  0.6132]])"
      ]
     },
     "execution_count": 22,
     "metadata": {},
     "output_type": "execute_result"
    }
   ],
   "source": [
    "t_cat = FastTreeValue.func(subside=True)(torch.cat)\n",
    "\n",
    "t_cat(trees)"
   ]
  },
  {
   "cell_type": "code",
   "execution_count": 23,
   "id": "5e9c06a6",
   "metadata": {
    "execution": {
     "iopub.execute_input": "2023-02-27T12:38:12.060589Z",
     "iopub.status.busy": "2023-02-27T12:38:12.060111Z",
     "iopub.status.idle": "2023-02-27T12:38:14.540935Z",
     "shell.execute_reply": "2023-02-27T12:38:14.540084Z"
    }
   },
   "outputs": [
    {
     "name": "stdout",
     "output_type": "stream",
     "text": [
      "30.5 µs ± 53.1 ns per loop (mean ± std. dev. of 7 runs, 10,000 loops each)\n"
     ]
    }
   ],
   "source": [
    "%timeit t_cat(trees)"
   ]
  },
  {
   "cell_type": "code",
   "execution_count": 24,
   "id": "a3ab5c8f",
   "metadata": {
    "execution": {
     "iopub.execute_input": "2023-02-27T12:38:14.544252Z",
     "iopub.status.busy": "2023-02-27T12:38:14.543654Z",
     "iopub.status.idle": "2023-02-27T12:38:19.188472Z",
     "shell.execute_reply": "2023-02-27T12:38:19.187589Z"
    }
   },
   "outputs": [
    {
     "name": "stdout",
     "output_type": "stream",
     "text": [
      "57.2 µs ± 159 ns per loop (mean ± std. dev. of 7 runs, 10,000 loops each)\n"
     ]
    }
   ],
   "source": [
    "t_split = FastTreeValue.func(rise=True)(torch.split)\n",
    "tree = FastTreeValue({\n",
    "    'obs': torch.randn(8, 4, 84, 84),\n",
    "    'action': torch.randint(0, 6, size=(8, 1,)),\n",
    "    'reward': torch.rand(8, 1),\n",
    "})\n",
    "\n",
    "%timeit t_split(tree, 1)"
   ]
  },
  {
   "cell_type": "markdown",
   "id": "31c3ec0b",
   "metadata": {},
   "source": [
    "### Performance of Tianshou Batch"
   ]
  },
  {
   "cell_type": "code",
   "execution_count": 25,
   "id": "9ead828a",
   "metadata": {
    "execution": {
     "iopub.execute_input": "2023-02-27T12:38:19.192042Z",
     "iopub.status.busy": "2023-02-27T12:38:19.191437Z",
     "iopub.status.idle": "2023-02-27T12:38:19.200040Z",
     "shell.execute_reply": "2023-02-27T12:38:19.199419Z"
    }
   },
   "outputs": [
    {
     "data": {
      "text/plain": [
       "Batch(\n",
       "    a: tensor([[[-0.4370, -0.9170,  0.4492],\n",
       "                [-0.4437,  1.8622,  0.7298]],\n",
       "       \n",
       "               [[-0.4370, -0.9170,  0.4492],\n",
       "                [-0.4437,  1.8622,  0.7298]],\n",
       "       \n",
       "               [[-0.4370, -0.9170,  0.4492],\n",
       "                [-0.4437,  1.8622,  0.7298]],\n",
       "       \n",
       "               [[-0.4370, -0.9170,  0.4492],\n",
       "                [-0.4437,  1.8622,  0.7298]],\n",
       "       \n",
       "               [[-0.4370, -0.9170,  0.4492],\n",
       "                [-0.4437,  1.8622,  0.7298]],\n",
       "       \n",
       "               [[-0.4370, -0.9170,  0.4492],\n",
       "                [-0.4437,  1.8622,  0.7298]],\n",
       "       \n",
       "               [[-0.4370, -0.9170,  0.4492],\n",
       "                [-0.4437,  1.8622,  0.7298]],\n",
       "       \n",
       "               [[-0.4370, -0.9170,  0.4492],\n",
       "                [-0.4437,  1.8622,  0.7298]]]),\n",
       "    x: Batch(\n",
       "           c: tensor([[[ 0.5381,  0.0749, -0.1468,  0.4915],\n",
       "                       [-1.0355,  0.5128,  0.6492,  0.7051],\n",
       "                       [ 0.1372, -0.6870, -0.3957,  0.6132]],\n",
       "              \n",
       "                      [[ 0.5381,  0.0749, -0.1468,  0.4915],\n",
       "                       [-1.0355,  0.5128,  0.6492,  0.7051],\n",
       "                       [ 0.1372, -0.6870, -0.3957,  0.6132]],\n",
       "              \n",
       "                      [[ 0.5381,  0.0749, -0.1468,  0.4915],\n",
       "                       [-1.0355,  0.5128,  0.6492,  0.7051],\n",
       "                       [ 0.1372, -0.6870, -0.3957,  0.6132]],\n",
       "              \n",
       "                      [[ 0.5381,  0.0749, -0.1468,  0.4915],\n",
       "                       [-1.0355,  0.5128,  0.6492,  0.7051],\n",
       "                       [ 0.1372, -0.6870, -0.3957,  0.6132]],\n",
       "              \n",
       "                      [[ 0.5381,  0.0749, -0.1468,  0.4915],\n",
       "                       [-1.0355,  0.5128,  0.6492,  0.7051],\n",
       "                       [ 0.1372, -0.6870, -0.3957,  0.6132]],\n",
       "              \n",
       "                      [[ 0.5381,  0.0749, -0.1468,  0.4915],\n",
       "                       [-1.0355,  0.5128,  0.6492,  0.7051],\n",
       "                       [ 0.1372, -0.6870, -0.3957,  0.6132]],\n",
       "              \n",
       "                      [[ 0.5381,  0.0749, -0.1468,  0.4915],\n",
       "                       [-1.0355,  0.5128,  0.6492,  0.7051],\n",
       "                       [ 0.1372, -0.6870, -0.3957,  0.6132]],\n",
       "              \n",
       "                      [[ 0.5381,  0.0749, -0.1468,  0.4915],\n",
       "                       [-1.0355,  0.5128,  0.6492,  0.7051],\n",
       "                       [ 0.1372, -0.6870, -0.3957,  0.6132]]]),\n",
       "       ),\n",
       ")"
      ]
     },
     "execution_count": 25,
     "metadata": {},
     "output_type": "execute_result"
    }
   ],
   "source": [
    "batches = [Batch(**_TREE_DATA_2) for _ in range(8)]\n",
    "\n",
    "Batch.stack(batches)"
   ]
  },
  {
   "cell_type": "code",
   "execution_count": 26,
   "id": "ec9037a3",
   "metadata": {
    "execution": {
     "iopub.execute_input": "2023-02-27T12:38:19.202947Z",
     "iopub.status.busy": "2023-02-27T12:38:19.202585Z",
     "iopub.status.idle": "2023-02-27T12:38:25.561368Z",
     "shell.execute_reply": "2023-02-27T12:38:25.560500Z"
    }
   },
   "outputs": [
    {
     "name": "stdout",
     "output_type": "stream",
     "text": [
      "78.4 µs ± 865 ns per loop (mean ± std. dev. of 7 runs, 10,000 loops each)\n"
     ]
    }
   ],
   "source": [
    "%timeit Batch.stack(batches)"
   ]
  },
  {
   "cell_type": "code",
   "execution_count": 27,
   "id": "cb8ab77e",
   "metadata": {
    "execution": {
     "iopub.execute_input": "2023-02-27T12:38:25.565277Z",
     "iopub.status.busy": "2023-02-27T12:38:25.564643Z",
     "iopub.status.idle": "2023-02-27T12:38:25.572619Z",
     "shell.execute_reply": "2023-02-27T12:38:25.571966Z"
    }
   },
   "outputs": [
    {
     "data": {
      "text/plain": [
       "Batch(\n",
       "    a: tensor([[-0.4370, -0.9170,  0.4492],\n",
       "               [-0.4437,  1.8622,  0.7298],\n",
       "               [-0.4370, -0.9170,  0.4492],\n",
       "               [-0.4437,  1.8622,  0.7298],\n",
       "               [-0.4370, -0.9170,  0.4492],\n",
       "               [-0.4437,  1.8622,  0.7298],\n",
       "               [-0.4370, -0.9170,  0.4492],\n",
       "               [-0.4437,  1.8622,  0.7298],\n",
       "               [-0.4370, -0.9170,  0.4492],\n",
       "               [-0.4437,  1.8622,  0.7298],\n",
       "               [-0.4370, -0.9170,  0.4492],\n",
       "               [-0.4437,  1.8622,  0.7298],\n",
       "               [-0.4370, -0.9170,  0.4492],\n",
       "               [-0.4437,  1.8622,  0.7298],\n",
       "               [-0.4370, -0.9170,  0.4492],\n",
       "               [-0.4437,  1.8622,  0.7298]]),\n",
       "    x: Batch(\n",
       "           c: tensor([[ 0.5381,  0.0749, -0.1468,  0.4915],\n",
       "                      [-1.0355,  0.5128,  0.6492,  0.7051],\n",
       "                      [ 0.1372, -0.6870, -0.3957,  0.6132],\n",
       "                      [ 0.5381,  0.0749, -0.1468,  0.4915],\n",
       "                      [-1.0355,  0.5128,  0.6492,  0.7051],\n",
       "                      [ 0.1372, -0.6870, -0.3957,  0.6132],\n",
       "                      [ 0.5381,  0.0749, -0.1468,  0.4915],\n",
       "                      [-1.0355,  0.5128,  0.6492,  0.7051],\n",
       "                      [ 0.1372, -0.6870, -0.3957,  0.6132],\n",
       "                      [ 0.5381,  0.0749, -0.1468,  0.4915],\n",
       "                      [-1.0355,  0.5128,  0.6492,  0.7051],\n",
       "                      [ 0.1372, -0.6870, -0.3957,  0.6132],\n",
       "                      [ 0.5381,  0.0749, -0.1468,  0.4915],\n",
       "                      [-1.0355,  0.5128,  0.6492,  0.7051],\n",
       "                      [ 0.1372, -0.6870, -0.3957,  0.6132],\n",
       "                      [ 0.5381,  0.0749, -0.1468,  0.4915],\n",
       "                      [-1.0355,  0.5128,  0.6492,  0.7051],\n",
       "                      [ 0.1372, -0.6870, -0.3957,  0.6132],\n",
       "                      [ 0.5381,  0.0749, -0.1468,  0.4915],\n",
       "                      [-1.0355,  0.5128,  0.6492,  0.7051],\n",
       "                      [ 0.1372, -0.6870, -0.3957,  0.6132],\n",
       "                      [ 0.5381,  0.0749, -0.1468,  0.4915],\n",
       "                      [-1.0355,  0.5128,  0.6492,  0.7051],\n",
       "                      [ 0.1372, -0.6870, -0.3957,  0.6132]]),\n",
       "       ),\n",
       ")"
      ]
     },
     "execution_count": 27,
     "metadata": {},
     "output_type": "execute_result"
    }
   ],
   "source": [
    "Batch.cat(batches)"
   ]
  },
  {
   "cell_type": "code",
   "execution_count": 28,
   "id": "18dfb045",
   "metadata": {
    "execution": {
     "iopub.execute_input": "2023-02-27T12:38:25.575761Z",
     "iopub.status.busy": "2023-02-27T12:38:25.575232Z",
     "iopub.status.idle": "2023-02-27T12:38:37.246653Z",
     "shell.execute_reply": "2023-02-27T12:38:37.245740Z"
    }
   },
   "outputs": [
    {
     "name": "stdout",
     "output_type": "stream",
     "text": [
      "144 µs ± 258 ns per loop (mean ± std. dev. of 7 runs, 10,000 loops each)\n"
     ]
    }
   ],
   "source": [
    "%timeit Batch.cat(batches)"
   ]
  },
  {
   "cell_type": "code",
   "execution_count": 29,
   "id": "c6688e51",
   "metadata": {
    "execution": {
     "iopub.execute_input": "2023-02-27T12:38:37.250085Z",
     "iopub.status.busy": "2023-02-27T12:38:37.249502Z",
     "iopub.status.idle": "2023-02-27T12:38:39.893544Z",
     "shell.execute_reply": "2023-02-27T12:38:39.892873Z"
    }
   },
   "outputs": [
    {
     "name": "stdout",
     "output_type": "stream",
     "text": [
      "324 µs ± 728 ns per loop (mean ± std. dev. of 7 runs, 1,000 loops each)\n"
     ]
    }
   ],
   "source": [
    "batch = Batch({\n",
    "    'obs': torch.randn(8, 4, 84, 84),\n",
    "    'action': torch.randint(0, 6, size=(8, 1,)),\n",
    "    'reward': torch.rand(8, 1)}\n",
    ")\n",
    "\n",
    "%timeit list(Batch.split(batch, 1, shuffle=False, merge_last=True))"
   ]
  },
  {
   "cell_type": "code",
   "execution_count": null,
   "id": "2539fbd9",
   "metadata": {},
   "outputs": [],
   "source": []
  }
 ],
 "metadata": {
  "kernelspec": {
   "display_name": "Python 3 (ipykernel)",
   "language": "python",
   "name": "python3"
  },
  "language_info": {
   "codemirror_mode": {
    "name": "ipython",
    "version": 3
   },
   "file_extension": ".py",
   "mimetype": "text/x-python",
   "name": "python",
   "nbconvert_exporter": "python",
   "pygments_lexer": "ipython3",
   "version": "3.8.16"
  }
 },
 "nbformat": 4,
 "nbformat_minor": 5
}
