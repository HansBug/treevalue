{
 "cells": [
  {
   "cell_type": "markdown",
   "id": "9d39d946",
   "metadata": {},
   "source": [
    "# Comparison Between TreeValue and Tianshou Batch"
   ]
  },
  {
   "cell_type": "markdown",
   "id": "3c6db2d4",
   "metadata": {},
   "source": [
    "In this section, we will take a look at the feature and performance of the [Tianshou Batch](https://github.com/thu-ml/tianshou) library, which is developed by Tsinghua Machine Learning Group."
   ]
  },
  {
   "cell_type": "markdown",
   "id": "069361b0",
   "metadata": {},
   "source": [
    "Before starting the comparison, let us define some thing."
   ]
  },
  {
   "cell_type": "code",
   "execution_count": 1,
   "id": "06fc8d26",
   "metadata": {
    "execution": {
     "iopub.execute_input": "2023-02-27T12:44:45.954824Z",
     "iopub.status.busy": "2023-02-27T12:44:45.954295Z",
     "iopub.status.idle": "2023-02-27T12:44:46.886348Z",
     "shell.execute_reply": "2023-02-27T12:44:46.885625Z"
    }
   },
   "outputs": [
    {
     "name": "stderr",
     "output_type": "stream",
     "text": [
      "/opt/hostedtoolcache/Python/3.8.16/x64/lib/python3.8/site-packages/tqdm/auto.py:22: TqdmWarning: IProgress not found. Please update jupyter and ipywidgets. See https://ipywidgets.readthedocs.io/en/stable/user_install.html\n",
      "  from .autonotebook import tqdm as notebook_tqdm\n"
     ]
    }
   ],
   "source": [
    "import torch \n",
    "\n",
    "_TREE_DATA_1 = {'a': 1, 'b': 2, 'x': {'c': 3, 'd': 4}}\n",
    "_TREE_DATA_2 = {\n",
    "    'a': torch.randn(2, 3), \n",
    "    'x': {\n",
    "        'c': torch.randn(3, 4)\n",
    "    },\n",
    "}\n",
    "_TREE_DATA_3 = {\n",
    "    'obs': torch.randn(4, 84, 84),\n",
    "    'action': torch.randint(0, 6, size=(1,)),\n",
    "    'reward': torch.rand(1),\n",
    "}"
   ]
  },
  {
   "cell_type": "markdown",
   "id": "83461b25",
   "metadata": {},
   "source": [
    "## Read and Write Operation"
   ]
  },
  {
   "cell_type": "markdown",
   "id": "067b3f73",
   "metadata": {},
   "source": [
    "Reading and writing are the two most common operations in the tree data structure based on the data model (TreeValue and Tianshou Batch both belong to this type), so this section will compare the reading and writing performance of these two libraries."
   ]
  },
  {
   "cell_type": "markdown",
   "id": "5d09a5b7",
   "metadata": {},
   "source": [
    "### TreeValue's Get and Set"
   ]
  },
  {
   "cell_type": "code",
   "execution_count": 2,
   "id": "9519c4bb",
   "metadata": {
    "execution": {
     "iopub.execute_input": "2023-02-27T12:44:46.889979Z",
     "iopub.status.busy": "2023-02-27T12:44:46.889350Z",
     "iopub.status.idle": "2023-02-27T12:44:47.172450Z",
     "shell.execute_reply": "2023-02-27T12:44:47.171763Z"
    }
   },
   "outputs": [],
   "source": [
    "from treevalue import FastTreeValue\n",
    "\n",
    "t = FastTreeValue(_TREE_DATA_2)"
   ]
  },
  {
   "cell_type": "code",
   "execution_count": 3,
   "id": "11c37677",
   "metadata": {
    "execution": {
     "iopub.execute_input": "2023-02-27T12:44:47.175929Z",
     "iopub.status.busy": "2023-02-27T12:44:47.175303Z",
     "iopub.status.idle": "2023-02-27T12:44:47.185774Z",
     "shell.execute_reply": "2023-02-27T12:44:47.185159Z"
    }
   },
   "outputs": [
    {
     "data": {
      "text/plain": [
       "<FastTreeValue 0x7f3f4864e1c0>\n",
       "├── 'a' --> tensor([[ 0.9942, -0.0981, -0.4941],\n",
       "│                   [-0.1415,  0.3886,  1.1405]])\n",
       "└── 'x' --> <FastTreeValue 0x7f3f4864ef10>\n",
       "    └── 'c' --> tensor([[ 0.9529,  0.6312, -0.7897, -1.3323],\n",
       "                        [-1.8630,  0.0089, -0.8695, -0.2244],\n",
       "                        [ 1.3245,  0.9236,  0.7798,  0.8177]])"
      ]
     },
     "execution_count": 3,
     "metadata": {},
     "output_type": "execute_result"
    }
   ],
   "source": [
    "t"
   ]
  },
  {
   "cell_type": "code",
   "execution_count": 4,
   "id": "fd70b0b9",
   "metadata": {
    "execution": {
     "iopub.execute_input": "2023-02-27T12:44:47.188659Z",
     "iopub.status.busy": "2023-02-27T12:44:47.188310Z",
     "iopub.status.idle": "2023-02-27T12:44:47.193094Z",
     "shell.execute_reply": "2023-02-27T12:44:47.192468Z"
    }
   },
   "outputs": [
    {
     "data": {
      "text/plain": [
       "tensor([[ 0.9942, -0.0981, -0.4941],\n",
       "        [-0.1415,  0.3886,  1.1405]])"
      ]
     },
     "execution_count": 4,
     "metadata": {},
     "output_type": "execute_result"
    }
   ],
   "source": [
    "t.a"
   ]
  },
  {
   "cell_type": "code",
   "execution_count": 5,
   "id": "c18197bd",
   "metadata": {
    "execution": {
     "iopub.execute_input": "2023-02-27T12:44:47.195445Z",
     "iopub.status.busy": "2023-02-27T12:44:47.195234Z",
     "iopub.status.idle": "2023-02-27T12:44:52.654268Z",
     "shell.execute_reply": "2023-02-27T12:44:52.653579Z"
    }
   },
   "outputs": [
    {
     "name": "stdout",
     "output_type": "stream",
     "text": [
      "67.7 ns ± 0.0175 ns per loop (mean ± std. dev. of 7 runs, 10,000,000 loops each)\n"
     ]
    }
   ],
   "source": [
    "%timeit t.a"
   ]
  },
  {
   "cell_type": "code",
   "execution_count": 6,
   "id": "bd52f867",
   "metadata": {
    "execution": {
     "iopub.execute_input": "2023-02-27T12:44:52.657416Z",
     "iopub.status.busy": "2023-02-27T12:44:52.656831Z",
     "iopub.status.idle": "2023-02-27T12:44:52.664746Z",
     "shell.execute_reply": "2023-02-27T12:44:52.664149Z"
    }
   },
   "outputs": [
    {
     "data": {
      "text/plain": [
       "<FastTreeValue 0x7f3f4864e1c0>\n",
       "├── 'a' --> tensor([[ 1.4581, -0.5823, -1.6445],\n",
       "│                   [-0.7159, -0.5303,  0.9908]])\n",
       "└── 'x' --> <FastTreeValue 0x7f3f4864ef10>\n",
       "    └── 'c' --> tensor([[ 0.9529,  0.6312, -0.7897, -1.3323],\n",
       "                        [-1.8630,  0.0089, -0.8695, -0.2244],\n",
       "                        [ 1.3245,  0.9236,  0.7798,  0.8177]])"
      ]
     },
     "execution_count": 6,
     "metadata": {},
     "output_type": "execute_result"
    }
   ],
   "source": [
    "new_value = torch.randn(2, 3)\n",
    "t.a = new_value\n",
    "\n",
    "t"
   ]
  },
  {
   "cell_type": "code",
   "execution_count": 7,
   "id": "bbe04d1c",
   "metadata": {
    "execution": {
     "iopub.execute_input": "2023-02-27T12:44:52.667444Z",
     "iopub.status.busy": "2023-02-27T12:44:52.667100Z",
     "iopub.status.idle": "2023-02-27T12:44:57.624869Z",
     "shell.execute_reply": "2023-02-27T12:44:57.624171Z"
    }
   },
   "outputs": [
    {
     "name": "stdout",
     "output_type": "stream",
     "text": [
      "61.2 ns ± 0.0323 ns per loop (mean ± std. dev. of 7 runs, 10,000,000 loops each)\n"
     ]
    }
   ],
   "source": [
    "%timeit t.a = new_value"
   ]
  },
  {
   "cell_type": "markdown",
   "id": "48c49731",
   "metadata": {},
   "source": [
    "### Tianshou Batch's Get and Set"
   ]
  },
  {
   "cell_type": "code",
   "execution_count": 8,
   "id": "f1bb14c1",
   "metadata": {
    "execution": {
     "iopub.execute_input": "2023-02-27T12:44:57.628222Z",
     "iopub.status.busy": "2023-02-27T12:44:57.627619Z",
     "iopub.status.idle": "2023-02-27T12:44:57.967539Z",
     "shell.execute_reply": "2023-02-27T12:44:57.966843Z"
    }
   },
   "outputs": [],
   "source": [
    "from tianshou.data import Batch\n",
    "\n",
    "b = Batch(**_TREE_DATA_2)"
   ]
  },
  {
   "cell_type": "code",
   "execution_count": 9,
   "id": "cb0777c3",
   "metadata": {
    "execution": {
     "iopub.execute_input": "2023-02-27T12:44:57.970968Z",
     "iopub.status.busy": "2023-02-27T12:44:57.970346Z",
     "iopub.status.idle": "2023-02-27T12:44:57.976616Z",
     "shell.execute_reply": "2023-02-27T12:44:57.976022Z"
    }
   },
   "outputs": [
    {
     "data": {
      "text/plain": [
       "Batch(\n",
       "    a: tensor([[ 0.9942, -0.0981, -0.4941],\n",
       "               [-0.1415,  0.3886,  1.1405]]),\n",
       "    x: Batch(\n",
       "           c: tensor([[ 0.9529,  0.6312, -0.7897, -1.3323],\n",
       "                      [-1.8630,  0.0089, -0.8695, -0.2244],\n",
       "                      [ 1.3245,  0.9236,  0.7798,  0.8177]]),\n",
       "       ),\n",
       ")"
      ]
     },
     "execution_count": 9,
     "metadata": {},
     "output_type": "execute_result"
    }
   ],
   "source": [
    "b"
   ]
  },
  {
   "cell_type": "code",
   "execution_count": 10,
   "id": "43ef8ea3",
   "metadata": {
    "execution": {
     "iopub.execute_input": "2023-02-27T12:44:57.978912Z",
     "iopub.status.busy": "2023-02-27T12:44:57.978702Z",
     "iopub.status.idle": "2023-02-27T12:44:57.984251Z",
     "shell.execute_reply": "2023-02-27T12:44:57.983676Z"
    }
   },
   "outputs": [
    {
     "data": {
      "text/plain": [
       "tensor([[ 0.9942, -0.0981, -0.4941],\n",
       "        [-0.1415,  0.3886,  1.1405]])"
      ]
     },
     "execution_count": 10,
     "metadata": {},
     "output_type": "execute_result"
    }
   ],
   "source": [
    "b.a"
   ]
  },
  {
   "cell_type": "code",
   "execution_count": 11,
   "id": "b785ab72",
   "metadata": {
    "execution": {
     "iopub.execute_input": "2023-02-27T12:44:57.986868Z",
     "iopub.status.busy": "2023-02-27T12:44:57.986368Z",
     "iopub.status.idle": "2023-02-27T12:45:02.768680Z",
     "shell.execute_reply": "2023-02-27T12:45:02.767934Z"
    }
   },
   "outputs": [
    {
     "name": "stdout",
     "output_type": "stream",
     "text": [
      "58.8 ns ± 0.0229 ns per loop (mean ± std. dev. of 7 runs, 10,000,000 loops each)\n"
     ]
    }
   ],
   "source": [
    "%timeit b.a"
   ]
  },
  {
   "cell_type": "code",
   "execution_count": 12,
   "id": "ad54dc69",
   "metadata": {
    "execution": {
     "iopub.execute_input": "2023-02-27T12:45:02.771746Z",
     "iopub.status.busy": "2023-02-27T12:45:02.771377Z",
     "iopub.status.idle": "2023-02-27T12:45:02.777764Z",
     "shell.execute_reply": "2023-02-27T12:45:02.777174Z"
    }
   },
   "outputs": [
    {
     "data": {
      "text/plain": [
       "Batch(\n",
       "    a: tensor([[-2.6046,  0.9440,  0.1316],\n",
       "               [ 1.8215,  1.1776,  0.4019]]),\n",
       "    x: Batch(\n",
       "           c: tensor([[ 0.9529,  0.6312, -0.7897, -1.3323],\n",
       "                      [-1.8630,  0.0089, -0.8695, -0.2244],\n",
       "                      [ 1.3245,  0.9236,  0.7798,  0.8177]]),\n",
       "       ),\n",
       ")"
      ]
     },
     "execution_count": 12,
     "metadata": {},
     "output_type": "execute_result"
    }
   ],
   "source": [
    "new_value = torch.randn(2, 3)\n",
    "b.a = new_value\n",
    "\n",
    "b"
   ]
  },
  {
   "cell_type": "code",
   "execution_count": 13,
   "id": "29b1d0bf",
   "metadata": {
    "execution": {
     "iopub.execute_input": "2023-02-27T12:45:02.780562Z",
     "iopub.status.busy": "2023-02-27T12:45:02.780084Z",
     "iopub.status.idle": "2023-02-27T12:45:06.735989Z",
     "shell.execute_reply": "2023-02-27T12:45:06.735235Z"
    }
   },
   "outputs": [
    {
     "name": "stdout",
     "output_type": "stream",
     "text": [
      "487 ns ± 0.186 ns per loop (mean ± std. dev. of 7 runs, 1,000,000 loops each)\n"
     ]
    }
   ],
   "source": [
    "%timeit b.a = new_value"
   ]
  },
  {
   "cell_type": "markdown",
   "id": "b61ad1d0",
   "metadata": {},
   "source": [
    "## Initialization"
   ]
  },
  {
   "cell_type": "markdown",
   "id": "d70f0d54",
   "metadata": {},
   "source": [
    "### TreeValue's Initialization"
   ]
  },
  {
   "cell_type": "code",
   "execution_count": 14,
   "id": "d32a679b",
   "metadata": {
    "execution": {
     "iopub.execute_input": "2023-02-27T12:45:06.739041Z",
     "iopub.status.busy": "2023-02-27T12:45:06.738688Z",
     "iopub.status.idle": "2023-02-27T12:45:13.449542Z",
     "shell.execute_reply": "2023-02-27T12:45:13.448788Z"
    }
   },
   "outputs": [
    {
     "name": "stdout",
     "output_type": "stream",
     "text": [
      "827 ns ± 0.396 ns per loop (mean ± std. dev. of 7 runs, 1,000,000 loops each)\n"
     ]
    }
   ],
   "source": [
    "%timeit FastTreeValue(_TREE_DATA_1)"
   ]
  },
  {
   "cell_type": "markdown",
   "id": "24f3707b",
   "metadata": {},
   "source": [
    "### Tianshou Batch's Initialization"
   ]
  },
  {
   "cell_type": "code",
   "execution_count": 15,
   "id": "ac3958df",
   "metadata": {
    "execution": {
     "iopub.execute_input": "2023-02-27T12:45:13.452315Z",
     "iopub.status.busy": "2023-02-27T12:45:13.451965Z",
     "iopub.status.idle": "2023-02-27T12:45:22.819076Z",
     "shell.execute_reply": "2023-02-27T12:45:22.818318Z"
    }
   },
   "outputs": [
    {
     "name": "stdout",
     "output_type": "stream",
     "text": [
      "11.5 µs ± 50 ns per loop (mean ± std. dev. of 7 runs, 100,000 loops each)\n"
     ]
    }
   ],
   "source": [
    "%timeit Batch(**_TREE_DATA_1)"
   ]
  },
  {
   "cell_type": "markdown",
   "id": "1ab82e2d",
   "metadata": {},
   "source": [
    "## Deep Copy Operation"
   ]
  },
  {
   "cell_type": "code",
   "execution_count": 16,
   "id": "210a9442",
   "metadata": {
    "execution": {
     "iopub.execute_input": "2023-02-27T12:45:22.822176Z",
     "iopub.status.busy": "2023-02-27T12:45:22.821812Z",
     "iopub.status.idle": "2023-02-27T12:45:22.825824Z",
     "shell.execute_reply": "2023-02-27T12:45:22.825214Z"
    }
   },
   "outputs": [],
   "source": [
    "import copy"
   ]
  },
  {
   "cell_type": "markdown",
   "id": "5a736274",
   "metadata": {},
   "source": [
    "### Deep Copy of TreeValue"
   ]
  },
  {
   "cell_type": "code",
   "execution_count": 17,
   "id": "f9bcadd6",
   "metadata": {
    "execution": {
     "iopub.execute_input": "2023-02-27T12:45:22.828898Z",
     "iopub.status.busy": "2023-02-27T12:45:22.828392Z",
     "iopub.status.idle": "2023-02-27T12:45:34.077551Z",
     "shell.execute_reply": "2023-02-27T12:45:34.076942Z"
    }
   },
   "outputs": [
    {
     "name": "stdout",
     "output_type": "stream",
     "text": [
      "139 µs ± 533 ns per loop (mean ± std. dev. of 7 runs, 10,000 loops each)\n"
     ]
    }
   ],
   "source": [
    "t3 = FastTreeValue(_TREE_DATA_3)\n",
    "%timeit copy.deepcopy(t3)"
   ]
  },
  {
   "cell_type": "markdown",
   "id": "bf8be7ea",
   "metadata": {},
   "source": [
    "### Deep Copy of Tianshou Batch"
   ]
  },
  {
   "cell_type": "code",
   "execution_count": 18,
   "id": "91998e6f",
   "metadata": {
    "execution": {
     "iopub.execute_input": "2023-02-27T12:45:34.080579Z",
     "iopub.status.busy": "2023-02-27T12:45:34.079938Z",
     "iopub.status.idle": "2023-02-27T12:45:45.408426Z",
     "shell.execute_reply": "2023-02-27T12:45:45.407829Z"
    }
   },
   "outputs": [
    {
     "name": "stdout",
     "output_type": "stream",
     "text": [
      "140 µs ± 771 ns per loop (mean ± std. dev. of 7 runs, 10,000 loops each)\n"
     ]
    }
   ],
   "source": [
    "b3 = Batch(**_TREE_DATA_3)\n",
    "%timeit copy.deepcopy(b3)"
   ]
  },
  {
   "cell_type": "markdown",
   "id": "223162fb",
   "metadata": {},
   "source": [
    "## Stack, Concat and Split Operation"
   ]
  },
  {
   "cell_type": "markdown",
   "id": "85fa4a73",
   "metadata": {},
   "source": [
    "### Performance of TreeValue"
   ]
  },
  {
   "cell_type": "code",
   "execution_count": 19,
   "id": "a0c2b697",
   "metadata": {
    "execution": {
     "iopub.execute_input": "2023-02-27T12:45:45.412289Z",
     "iopub.status.busy": "2023-02-27T12:45:45.411361Z",
     "iopub.status.idle": "2023-02-27T12:45:45.415599Z",
     "shell.execute_reply": "2023-02-27T12:45:45.415058Z"
    }
   },
   "outputs": [],
   "source": [
    "trees = [FastTreeValue(_TREE_DATA_2) for _ in range(8)]"
   ]
  },
  {
   "cell_type": "code",
   "execution_count": 20,
   "id": "017ea5a5",
   "metadata": {
    "execution": {
     "iopub.execute_input": "2023-02-27T12:45:45.418401Z",
     "iopub.status.busy": "2023-02-27T12:45:45.417980Z",
     "iopub.status.idle": "2023-02-27T12:45:45.426925Z",
     "shell.execute_reply": "2023-02-27T12:45:45.426321Z"
    }
   },
   "outputs": [
    {
     "data": {
      "text/plain": [
       "<FastTreeValue 0x7f3f485a5910>\n",
       "├── 'a' --> tensor([[[ 0.9942, -0.0981, -0.4941],\n",
       "│                    [-0.1415,  0.3886,  1.1405]],\n",
       "│           \n",
       "│                   [[ 0.9942, -0.0981, -0.4941],\n",
       "│                    [-0.1415,  0.3886,  1.1405]],\n",
       "│           \n",
       "│                   [[ 0.9942, -0.0981, -0.4941],\n",
       "│                    [-0.1415,  0.3886,  1.1405]],\n",
       "│           \n",
       "│                   [[ 0.9942, -0.0981, -0.4941],\n",
       "│                    [-0.1415,  0.3886,  1.1405]],\n",
       "│           \n",
       "│                   [[ 0.9942, -0.0981, -0.4941],\n",
       "│                    [-0.1415,  0.3886,  1.1405]],\n",
       "│           \n",
       "│                   [[ 0.9942, -0.0981, -0.4941],\n",
       "│                    [-0.1415,  0.3886,  1.1405]],\n",
       "│           \n",
       "│                   [[ 0.9942, -0.0981, -0.4941],\n",
       "│                    [-0.1415,  0.3886,  1.1405]],\n",
       "│           \n",
       "│                   [[ 0.9942, -0.0981, -0.4941],\n",
       "│                    [-0.1415,  0.3886,  1.1405]]])\n",
       "└── 'x' --> <FastTreeValue 0x7f3f485e19a0>\n",
       "    └── 'c' --> tensor([[[ 0.9529,  0.6312, -0.7897, -1.3323],\n",
       "                         [-1.8630,  0.0089, -0.8695, -0.2244],\n",
       "                         [ 1.3245,  0.9236,  0.7798,  0.8177]],\n",
       "                \n",
       "                        [[ 0.9529,  0.6312, -0.7897, -1.3323],\n",
       "                         [-1.8630,  0.0089, -0.8695, -0.2244],\n",
       "                         [ 1.3245,  0.9236,  0.7798,  0.8177]],\n",
       "                \n",
       "                        [[ 0.9529,  0.6312, -0.7897, -1.3323],\n",
       "                         [-1.8630,  0.0089, -0.8695, -0.2244],\n",
       "                         [ 1.3245,  0.9236,  0.7798,  0.8177]],\n",
       "                \n",
       "                        [[ 0.9529,  0.6312, -0.7897, -1.3323],\n",
       "                         [-1.8630,  0.0089, -0.8695, -0.2244],\n",
       "                         [ 1.3245,  0.9236,  0.7798,  0.8177]],\n",
       "                \n",
       "                        [[ 0.9529,  0.6312, -0.7897, -1.3323],\n",
       "                         [-1.8630,  0.0089, -0.8695, -0.2244],\n",
       "                         [ 1.3245,  0.9236,  0.7798,  0.8177]],\n",
       "                \n",
       "                        [[ 0.9529,  0.6312, -0.7897, -1.3323],\n",
       "                         [-1.8630,  0.0089, -0.8695, -0.2244],\n",
       "                         [ 1.3245,  0.9236,  0.7798,  0.8177]],\n",
       "                \n",
       "                        [[ 0.9529,  0.6312, -0.7897, -1.3323],\n",
       "                         [-1.8630,  0.0089, -0.8695, -0.2244],\n",
       "                         [ 1.3245,  0.9236,  0.7798,  0.8177]],\n",
       "                \n",
       "                        [[ 0.9529,  0.6312, -0.7897, -1.3323],\n",
       "                         [-1.8630,  0.0089, -0.8695, -0.2244],\n",
       "                         [ 1.3245,  0.9236,  0.7798,  0.8177]]])"
      ]
     },
     "execution_count": 20,
     "metadata": {},
     "output_type": "execute_result"
    }
   ],
   "source": [
    "t_stack = FastTreeValue.func(subside=True)(torch.stack)\n",
    "\n",
    "t_stack(trees)"
   ]
  },
  {
   "cell_type": "code",
   "execution_count": 21,
   "id": "f8b3f415",
   "metadata": {
    "execution": {
     "iopub.execute_input": "2023-02-27T12:45:45.429499Z",
     "iopub.status.busy": "2023-02-27T12:45:45.429125Z",
     "iopub.status.idle": "2023-02-27T12:45:48.112471Z",
     "shell.execute_reply": "2023-02-27T12:45:48.111709Z"
    }
   },
   "outputs": [
    {
     "name": "stdout",
     "output_type": "stream",
     "text": [
      "33 µs ± 94.5 ns per loop (mean ± std. dev. of 7 runs, 10,000 loops each)\n"
     ]
    }
   ],
   "source": [
    "%timeit t_stack(trees)"
   ]
  },
  {
   "cell_type": "code",
   "execution_count": 22,
   "id": "94b56771",
   "metadata": {
    "execution": {
     "iopub.execute_input": "2023-02-27T12:45:48.115273Z",
     "iopub.status.busy": "2023-02-27T12:45:48.114914Z",
     "iopub.status.idle": "2023-02-27T12:45:48.123898Z",
     "shell.execute_reply": "2023-02-27T12:45:48.123273Z"
    }
   },
   "outputs": [
    {
     "data": {
      "text/plain": [
       "<FastTreeValue 0x7f3f48639f70>\n",
       "├── 'a' --> tensor([[ 0.9942, -0.0981, -0.4941],\n",
       "│                   [-0.1415,  0.3886,  1.1405],\n",
       "│                   [ 0.9942, -0.0981, -0.4941],\n",
       "│                   [-0.1415,  0.3886,  1.1405],\n",
       "│                   [ 0.9942, -0.0981, -0.4941],\n",
       "│                   [-0.1415,  0.3886,  1.1405],\n",
       "│                   [ 0.9942, -0.0981, -0.4941],\n",
       "│                   [-0.1415,  0.3886,  1.1405],\n",
       "│                   [ 0.9942, -0.0981, -0.4941],\n",
       "│                   [-0.1415,  0.3886,  1.1405],\n",
       "│                   [ 0.9942, -0.0981, -0.4941],\n",
       "│                   [-0.1415,  0.3886,  1.1405],\n",
       "│                   [ 0.9942, -0.0981, -0.4941],\n",
       "│                   [-0.1415,  0.3886,  1.1405],\n",
       "│                   [ 0.9942, -0.0981, -0.4941],\n",
       "│                   [-0.1415,  0.3886,  1.1405]])\n",
       "└── 'x' --> <FastTreeValue 0x7f3e91883ac0>\n",
       "    └── 'c' --> tensor([[ 0.9529,  0.6312, -0.7897, -1.3323],\n",
       "                        [-1.8630,  0.0089, -0.8695, -0.2244],\n",
       "                        [ 1.3245,  0.9236,  0.7798,  0.8177],\n",
       "                        [ 0.9529,  0.6312, -0.7897, -1.3323],\n",
       "                        [-1.8630,  0.0089, -0.8695, -0.2244],\n",
       "                        [ 1.3245,  0.9236,  0.7798,  0.8177],\n",
       "                        [ 0.9529,  0.6312, -0.7897, -1.3323],\n",
       "                        [-1.8630,  0.0089, -0.8695, -0.2244],\n",
       "                        [ 1.3245,  0.9236,  0.7798,  0.8177],\n",
       "                        [ 0.9529,  0.6312, -0.7897, -1.3323],\n",
       "                        [-1.8630,  0.0089, -0.8695, -0.2244],\n",
       "                        [ 1.3245,  0.9236,  0.7798,  0.8177],\n",
       "                        [ 0.9529,  0.6312, -0.7897, -1.3323],\n",
       "                        [-1.8630,  0.0089, -0.8695, -0.2244],\n",
       "                        [ 1.3245,  0.9236,  0.7798,  0.8177],\n",
       "                        [ 0.9529,  0.6312, -0.7897, -1.3323],\n",
       "                        [-1.8630,  0.0089, -0.8695, -0.2244],\n",
       "                        [ 1.3245,  0.9236,  0.7798,  0.8177],\n",
       "                        [ 0.9529,  0.6312, -0.7897, -1.3323],\n",
       "                        [-1.8630,  0.0089, -0.8695, -0.2244],\n",
       "                        [ 1.3245,  0.9236,  0.7798,  0.8177],\n",
       "                        [ 0.9529,  0.6312, -0.7897, -1.3323],\n",
       "                        [-1.8630,  0.0089, -0.8695, -0.2244],\n",
       "                        [ 1.3245,  0.9236,  0.7798,  0.8177]])"
      ]
     },
     "execution_count": 22,
     "metadata": {},
     "output_type": "execute_result"
    }
   ],
   "source": [
    "t_cat = FastTreeValue.func(subside=True)(torch.cat)\n",
    "\n",
    "t_cat(trees)"
   ]
  },
  {
   "cell_type": "code",
   "execution_count": 23,
   "id": "5e9c06a6",
   "metadata": {
    "execution": {
     "iopub.execute_input": "2023-02-27T12:45:48.126856Z",
     "iopub.status.busy": "2023-02-27T12:45:48.126488Z",
     "iopub.status.idle": "2023-02-27T12:45:50.633919Z",
     "shell.execute_reply": "2023-02-27T12:45:50.633165Z"
    }
   },
   "outputs": [
    {
     "name": "stdout",
     "output_type": "stream",
     "text": [
      "30.8 µs ± 38.7 ns per loop (mean ± std. dev. of 7 runs, 10,000 loops each)\n"
     ]
    }
   ],
   "source": [
    "%timeit t_cat(trees)"
   ]
  },
  {
   "cell_type": "code",
   "execution_count": 24,
   "id": "a3ab5c8f",
   "metadata": {
    "execution": {
     "iopub.execute_input": "2023-02-27T12:45:50.636977Z",
     "iopub.status.busy": "2023-02-27T12:45:50.636410Z",
     "iopub.status.idle": "2023-02-27T12:45:55.308927Z",
     "shell.execute_reply": "2023-02-27T12:45:55.308148Z"
    }
   },
   "outputs": [
    {
     "name": "stdout",
     "output_type": "stream",
     "text": [
      "57.5 µs ± 23.8 ns per loop (mean ± std. dev. of 7 runs, 10,000 loops each)\n"
     ]
    }
   ],
   "source": [
    "t_split = FastTreeValue.func(rise=True)(torch.split)\n",
    "tree = FastTreeValue({\n",
    "    'obs': torch.randn(8, 4, 84, 84),\n",
    "    'action': torch.randint(0, 6, size=(8, 1,)),\n",
    "    'reward': torch.rand(8, 1),\n",
    "})\n",
    "\n",
    "%timeit t_split(tree, 1)"
   ]
  },
  {
   "cell_type": "markdown",
   "id": "31c3ec0b",
   "metadata": {},
   "source": [
    "### Performance of Tianshou Batch"
   ]
  },
  {
   "cell_type": "code",
   "execution_count": 25,
   "id": "9ead828a",
   "metadata": {
    "execution": {
     "iopub.execute_input": "2023-02-27T12:45:55.312042Z",
     "iopub.status.busy": "2023-02-27T12:45:55.311651Z",
     "iopub.status.idle": "2023-02-27T12:45:55.319902Z",
     "shell.execute_reply": "2023-02-27T12:45:55.319268Z"
    }
   },
   "outputs": [
    {
     "data": {
      "text/plain": [
       "Batch(\n",
       "    x: Batch(\n",
       "           c: tensor([[[ 0.9529,  0.6312, -0.7897, -1.3323],\n",
       "                       [-1.8630,  0.0089, -0.8695, -0.2244],\n",
       "                       [ 1.3245,  0.9236,  0.7798,  0.8177]],\n",
       "              \n",
       "                      [[ 0.9529,  0.6312, -0.7897, -1.3323],\n",
       "                       [-1.8630,  0.0089, -0.8695, -0.2244],\n",
       "                       [ 1.3245,  0.9236,  0.7798,  0.8177]],\n",
       "              \n",
       "                      [[ 0.9529,  0.6312, -0.7897, -1.3323],\n",
       "                       [-1.8630,  0.0089, -0.8695, -0.2244],\n",
       "                       [ 1.3245,  0.9236,  0.7798,  0.8177]],\n",
       "              \n",
       "                      [[ 0.9529,  0.6312, -0.7897, -1.3323],\n",
       "                       [-1.8630,  0.0089, -0.8695, -0.2244],\n",
       "                       [ 1.3245,  0.9236,  0.7798,  0.8177]],\n",
       "              \n",
       "                      [[ 0.9529,  0.6312, -0.7897, -1.3323],\n",
       "                       [-1.8630,  0.0089, -0.8695, -0.2244],\n",
       "                       [ 1.3245,  0.9236,  0.7798,  0.8177]],\n",
       "              \n",
       "                      [[ 0.9529,  0.6312, -0.7897, -1.3323],\n",
       "                       [-1.8630,  0.0089, -0.8695, -0.2244],\n",
       "                       [ 1.3245,  0.9236,  0.7798,  0.8177]],\n",
       "              \n",
       "                      [[ 0.9529,  0.6312, -0.7897, -1.3323],\n",
       "                       [-1.8630,  0.0089, -0.8695, -0.2244],\n",
       "                       [ 1.3245,  0.9236,  0.7798,  0.8177]],\n",
       "              \n",
       "                      [[ 0.9529,  0.6312, -0.7897, -1.3323],\n",
       "                       [-1.8630,  0.0089, -0.8695, -0.2244],\n",
       "                       [ 1.3245,  0.9236,  0.7798,  0.8177]]]),\n",
       "       ),\n",
       "    a: tensor([[[ 0.9942, -0.0981, -0.4941],\n",
       "                [-0.1415,  0.3886,  1.1405]],\n",
       "       \n",
       "               [[ 0.9942, -0.0981, -0.4941],\n",
       "                [-0.1415,  0.3886,  1.1405]],\n",
       "       \n",
       "               [[ 0.9942, -0.0981, -0.4941],\n",
       "                [-0.1415,  0.3886,  1.1405]],\n",
       "       \n",
       "               [[ 0.9942, -0.0981, -0.4941],\n",
       "                [-0.1415,  0.3886,  1.1405]],\n",
       "       \n",
       "               [[ 0.9942, -0.0981, -0.4941],\n",
       "                [-0.1415,  0.3886,  1.1405]],\n",
       "       \n",
       "               [[ 0.9942, -0.0981, -0.4941],\n",
       "                [-0.1415,  0.3886,  1.1405]],\n",
       "       \n",
       "               [[ 0.9942, -0.0981, -0.4941],\n",
       "                [-0.1415,  0.3886,  1.1405]],\n",
       "       \n",
       "               [[ 0.9942, -0.0981, -0.4941],\n",
       "                [-0.1415,  0.3886,  1.1405]]]),\n",
       ")"
      ]
     },
     "execution_count": 25,
     "metadata": {},
     "output_type": "execute_result"
    }
   ],
   "source": [
    "batches = [Batch(**_TREE_DATA_2) for _ in range(8)]\n",
    "\n",
    "Batch.stack(batches)"
   ]
  },
  {
   "cell_type": "code",
   "execution_count": 26,
   "id": "ec9037a3",
   "metadata": {
    "execution": {
     "iopub.execute_input": "2023-02-27T12:45:55.322556Z",
     "iopub.status.busy": "2023-02-27T12:45:55.322102Z",
     "iopub.status.idle": "2023-02-27T12:46:01.611537Z",
     "shell.execute_reply": "2023-02-27T12:46:01.610770Z"
    }
   },
   "outputs": [
    {
     "name": "stdout",
     "output_type": "stream",
     "text": [
      "77.5 µs ± 197 ns per loop (mean ± std. dev. of 7 runs, 10,000 loops each)\n"
     ]
    }
   ],
   "source": [
    "%timeit Batch.stack(batches)"
   ]
  },
  {
   "cell_type": "code",
   "execution_count": 27,
   "id": "cb8ab77e",
   "metadata": {
    "execution": {
     "iopub.execute_input": "2023-02-27T12:46:01.614795Z",
     "iopub.status.busy": "2023-02-27T12:46:01.614233Z",
     "iopub.status.idle": "2023-02-27T12:46:01.622192Z",
     "shell.execute_reply": "2023-02-27T12:46:01.621560Z"
    }
   },
   "outputs": [
    {
     "data": {
      "text/plain": [
       "Batch(\n",
       "    x: Batch(\n",
       "           c: tensor([[ 0.9529,  0.6312, -0.7897, -1.3323],\n",
       "                      [-1.8630,  0.0089, -0.8695, -0.2244],\n",
       "                      [ 1.3245,  0.9236,  0.7798,  0.8177],\n",
       "                      [ 0.9529,  0.6312, -0.7897, -1.3323],\n",
       "                      [-1.8630,  0.0089, -0.8695, -0.2244],\n",
       "                      [ 1.3245,  0.9236,  0.7798,  0.8177],\n",
       "                      [ 0.9529,  0.6312, -0.7897, -1.3323],\n",
       "                      [-1.8630,  0.0089, -0.8695, -0.2244],\n",
       "                      [ 1.3245,  0.9236,  0.7798,  0.8177],\n",
       "                      [ 0.9529,  0.6312, -0.7897, -1.3323],\n",
       "                      [-1.8630,  0.0089, -0.8695, -0.2244],\n",
       "                      [ 1.3245,  0.9236,  0.7798,  0.8177],\n",
       "                      [ 0.9529,  0.6312, -0.7897, -1.3323],\n",
       "                      [-1.8630,  0.0089, -0.8695, -0.2244],\n",
       "                      [ 1.3245,  0.9236,  0.7798,  0.8177],\n",
       "                      [ 0.9529,  0.6312, -0.7897, -1.3323],\n",
       "                      [-1.8630,  0.0089, -0.8695, -0.2244],\n",
       "                      [ 1.3245,  0.9236,  0.7798,  0.8177],\n",
       "                      [ 0.9529,  0.6312, -0.7897, -1.3323],\n",
       "                      [-1.8630,  0.0089, -0.8695, -0.2244],\n",
       "                      [ 1.3245,  0.9236,  0.7798,  0.8177],\n",
       "                      [ 0.9529,  0.6312, -0.7897, -1.3323],\n",
       "                      [-1.8630,  0.0089, -0.8695, -0.2244],\n",
       "                      [ 1.3245,  0.9236,  0.7798,  0.8177]]),\n",
       "       ),\n",
       "    a: tensor([[ 0.9942, -0.0981, -0.4941],\n",
       "               [-0.1415,  0.3886,  1.1405],\n",
       "               [ 0.9942, -0.0981, -0.4941],\n",
       "               [-0.1415,  0.3886,  1.1405],\n",
       "               [ 0.9942, -0.0981, -0.4941],\n",
       "               [-0.1415,  0.3886,  1.1405],\n",
       "               [ 0.9942, -0.0981, -0.4941],\n",
       "               [-0.1415,  0.3886,  1.1405],\n",
       "               [ 0.9942, -0.0981, -0.4941],\n",
       "               [-0.1415,  0.3886,  1.1405],\n",
       "               [ 0.9942, -0.0981, -0.4941],\n",
       "               [-0.1415,  0.3886,  1.1405],\n",
       "               [ 0.9942, -0.0981, -0.4941],\n",
       "               [-0.1415,  0.3886,  1.1405],\n",
       "               [ 0.9942, -0.0981, -0.4941],\n",
       "               [-0.1415,  0.3886,  1.1405]]),\n",
       ")"
      ]
     },
     "execution_count": 27,
     "metadata": {},
     "output_type": "execute_result"
    }
   ],
   "source": [
    "Batch.cat(batches)"
   ]
  },
  {
   "cell_type": "code",
   "execution_count": 28,
   "id": "18dfb045",
   "metadata": {
    "execution": {
     "iopub.execute_input": "2023-02-27T12:46:01.624907Z",
     "iopub.status.busy": "2023-02-27T12:46:01.624547Z",
     "iopub.status.idle": "2023-02-27T12:46:13.142190Z",
     "shell.execute_reply": "2023-02-27T12:46:13.141422Z"
    }
   },
   "outputs": [
    {
     "name": "stdout",
     "output_type": "stream",
     "text": [
      "142 µs ± 302 ns per loop (mean ± std. dev. of 7 runs, 10,000 loops each)\n"
     ]
    }
   ],
   "source": [
    "%timeit Batch.cat(batches)"
   ]
  },
  {
   "cell_type": "code",
   "execution_count": 29,
   "id": "c6688e51",
   "metadata": {
    "execution": {
     "iopub.execute_input": "2023-02-27T12:46:13.145447Z",
     "iopub.status.busy": "2023-02-27T12:46:13.144767Z",
     "iopub.status.idle": "2023-02-27T12:46:15.663752Z",
     "shell.execute_reply": "2023-02-27T12:46:15.663142Z"
    }
   },
   "outputs": [
    {
     "name": "stdout",
     "output_type": "stream",
     "text": [
      "309 µs ± 1.61 µs per loop (mean ± std. dev. of 7 runs, 1,000 loops each)\n"
     ]
    }
   ],
   "source": [
    "batch = Batch({\n",
    "    'obs': torch.randn(8, 4, 84, 84),\n",
    "    'action': torch.randint(0, 6, size=(8, 1,)),\n",
    "    'reward': torch.rand(8, 1)}\n",
    ")\n",
    "\n",
    "%timeit list(Batch.split(batch, 1, shuffle=False, merge_last=True))"
   ]
  },
  {
   "cell_type": "code",
   "execution_count": null,
   "id": "2539fbd9",
   "metadata": {},
   "outputs": [],
   "source": []
  }
 ],
 "metadata": {
  "kernelspec": {
   "display_name": "Python 3 (ipykernel)",
   "language": "python",
   "name": "python3"
  },
  "language_info": {
   "codemirror_mode": {
    "name": "ipython",
    "version": 3
   },
   "file_extension": ".py",
   "mimetype": "text/x-python",
   "name": "python",
   "nbconvert_exporter": "python",
   "pygments_lexer": "ipython3",
   "version": "3.8.16"
  }
 },
 "nbformat": 4,
 "nbformat_minor": 5
}
