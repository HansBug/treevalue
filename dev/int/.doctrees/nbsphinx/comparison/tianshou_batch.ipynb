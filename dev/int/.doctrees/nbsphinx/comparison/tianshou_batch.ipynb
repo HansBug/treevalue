{
 "cells": [
  {
   "cell_type": "markdown",
   "id": "9d39d946",
   "metadata": {},
   "source": [
    "# Comparison Between TreeValue and Tianshou Batch"
   ]
  },
  {
   "cell_type": "markdown",
   "id": "3c6db2d4",
   "metadata": {},
   "source": [
    "In this section, we will take a look at the feature and performance of the [Tianshou Batch](https://github.com/thu-ml/tianshou) library, which is developed by Tsinghua Machine Learning Group."
   ]
  },
  {
   "cell_type": "markdown",
   "id": "069361b0",
   "metadata": {},
   "source": [
    "Before starting the comparison, let us define some thing."
   ]
  },
  {
   "cell_type": "code",
   "execution_count": 1,
   "id": "06fc8d26",
   "metadata": {
    "execution": {
     "iopub.execute_input": "2023-02-27T13:39:35.110835Z",
     "iopub.status.busy": "2023-02-27T13:39:35.110185Z",
     "iopub.status.idle": "2023-02-27T13:39:36.115995Z",
     "shell.execute_reply": "2023-02-27T13:39:36.115172Z"
    }
   },
   "outputs": [
    {
     "name": "stderr",
     "output_type": "stream",
     "text": [
      "/opt/hostedtoolcache/Python/3.8.16/x64/lib/python3.8/site-packages/tqdm/auto.py:22: TqdmWarning: IProgress not found. Please update jupyter and ipywidgets. See https://ipywidgets.readthedocs.io/en/stable/user_install.html\n",
      "  from .autonotebook import tqdm as notebook_tqdm\n"
     ]
    }
   ],
   "source": [
    "import torch \n",
    "\n",
    "_TREE_DATA_1 = {'a': 1, 'b': 2, 'x': {'c': 3, 'd': 4}}\n",
    "_TREE_DATA_2 = {\n",
    "    'a': torch.randn(2, 3), \n",
    "    'x': {\n",
    "        'c': torch.randn(3, 4)\n",
    "    },\n",
    "}\n",
    "_TREE_DATA_3 = {\n",
    "    'obs': torch.randn(4, 84, 84),\n",
    "    'action': torch.randint(0, 6, size=(1,)),\n",
    "    'reward': torch.rand(1),\n",
    "}"
   ]
  },
  {
   "cell_type": "markdown",
   "id": "83461b25",
   "metadata": {},
   "source": [
    "## Read and Write Operation"
   ]
  },
  {
   "cell_type": "markdown",
   "id": "067b3f73",
   "metadata": {},
   "source": [
    "Reading and writing are the two most common operations in the tree data structure based on the data model (TreeValue and Tianshou Batch both belong to this type), so this section will compare the reading and writing performance of these two libraries."
   ]
  },
  {
   "cell_type": "markdown",
   "id": "5d09a5b7",
   "metadata": {},
   "source": [
    "### TreeValue's Get and Set"
   ]
  },
  {
   "cell_type": "code",
   "execution_count": 2,
   "id": "9519c4bb",
   "metadata": {
    "execution": {
     "iopub.execute_input": "2023-02-27T13:39:36.119870Z",
     "iopub.status.busy": "2023-02-27T13:39:36.119367Z",
     "iopub.status.idle": "2023-02-27T13:39:36.417197Z",
     "shell.execute_reply": "2023-02-27T13:39:36.416385Z"
    }
   },
   "outputs": [],
   "source": [
    "from treevalue import FastTreeValue\n",
    "\n",
    "t = FastTreeValue(_TREE_DATA_2)"
   ]
  },
  {
   "cell_type": "code",
   "execution_count": 3,
   "id": "11c37677",
   "metadata": {
    "execution": {
     "iopub.execute_input": "2023-02-27T13:39:36.421172Z",
     "iopub.status.busy": "2023-02-27T13:39:36.420586Z",
     "iopub.status.idle": "2023-02-27T13:39:36.432173Z",
     "shell.execute_reply": "2023-02-27T13:39:36.431497Z"
    }
   },
   "outputs": [
    {
     "data": {
      "text/plain": [
       "<FastTreeValue 0x7fcd106d6bb0>\n",
       "├── 'a' --> tensor([[-1.0418,  0.8406,  0.3517],\n",
       "│                   [-0.2532, -0.7897,  0.6388]])\n",
       "└── 'x' --> <FastTreeValue 0x7fcd10737d30>\n",
       "    └── 'c' --> tensor([[-0.1307, -0.3262,  0.1260,  0.6743],\n",
       "                        [ 0.1161, -1.4425, -0.0924,  0.6024],\n",
       "                        [ 1.5269,  0.2550, -0.0057, -0.4908]])"
      ]
     },
     "execution_count": 3,
     "metadata": {},
     "output_type": "execute_result"
    }
   ],
   "source": [
    "t"
   ]
  },
  {
   "cell_type": "code",
   "execution_count": 4,
   "id": "fd70b0b9",
   "metadata": {
    "execution": {
     "iopub.execute_input": "2023-02-27T13:39:36.435557Z",
     "iopub.status.busy": "2023-02-27T13:39:36.435036Z",
     "iopub.status.idle": "2023-02-27T13:39:36.441867Z",
     "shell.execute_reply": "2023-02-27T13:39:36.441218Z"
    }
   },
   "outputs": [
    {
     "data": {
      "text/plain": [
       "tensor([[-1.0418,  0.8406,  0.3517],\n",
       "        [-0.2532, -0.7897,  0.6388]])"
      ]
     },
     "execution_count": 4,
     "metadata": {},
     "output_type": "execute_result"
    }
   ],
   "source": [
    "t.a"
   ]
  },
  {
   "cell_type": "code",
   "execution_count": 5,
   "id": "c18197bd",
   "metadata": {
    "execution": {
     "iopub.execute_input": "2023-02-27T13:39:36.445175Z",
     "iopub.status.busy": "2023-02-27T13:39:36.444507Z",
     "iopub.status.idle": "2023-02-27T13:39:41.503630Z",
     "shell.execute_reply": "2023-02-27T13:39:41.502663Z"
    }
   },
   "outputs": [
    {
     "name": "stdout",
     "output_type": "stream",
     "text": [
      "62.3 ns ± 0.0749 ns per loop (mean ± std. dev. of 7 runs, 10,000,000 loops each)\n"
     ]
    }
   ],
   "source": [
    "%timeit t.a"
   ]
  },
  {
   "cell_type": "code",
   "execution_count": 6,
   "id": "bd52f867",
   "metadata": {
    "execution": {
     "iopub.execute_input": "2023-02-27T13:39:41.506931Z",
     "iopub.status.busy": "2023-02-27T13:39:41.506477Z",
     "iopub.status.idle": "2023-02-27T13:39:41.514991Z",
     "shell.execute_reply": "2023-02-27T13:39:41.514345Z"
    }
   },
   "outputs": [
    {
     "data": {
      "text/plain": [
       "<FastTreeValue 0x7fcd106d6bb0>\n",
       "├── 'a' --> tensor([[-0.4408, -0.4938, -1.1471],\n",
       "│                   [-0.7973,  0.0683,  0.0581]])\n",
       "└── 'x' --> <FastTreeValue 0x7fcd10737d30>\n",
       "    └── 'c' --> tensor([[-0.1307, -0.3262,  0.1260,  0.6743],\n",
       "                        [ 0.1161, -1.4425, -0.0924,  0.6024],\n",
       "                        [ 1.5269,  0.2550, -0.0057, -0.4908]])"
      ]
     },
     "execution_count": 6,
     "metadata": {},
     "output_type": "execute_result"
    }
   ],
   "source": [
    "new_value = torch.randn(2, 3)\n",
    "t.a = new_value\n",
    "\n",
    "t"
   ]
  },
  {
   "cell_type": "code",
   "execution_count": 7,
   "id": "bbe04d1c",
   "metadata": {
    "execution": {
     "iopub.execute_input": "2023-02-27T13:39:41.517977Z",
     "iopub.status.busy": "2023-02-27T13:39:41.517548Z",
     "iopub.status.idle": "2023-02-27T13:39:47.166037Z",
     "shell.execute_reply": "2023-02-27T13:39:47.165138Z"
    }
   },
   "outputs": [
    {
     "name": "stdout",
     "output_type": "stream",
     "text": [
      "69.6 ns ± 0.135 ns per loop (mean ± std. dev. of 7 runs, 10,000,000 loops each)\n"
     ]
    }
   ],
   "source": [
    "%timeit t.a = new_value"
   ]
  },
  {
   "cell_type": "markdown",
   "id": "48c49731",
   "metadata": {},
   "source": [
    "### Tianshou Batch's Get and Set"
   ]
  },
  {
   "cell_type": "code",
   "execution_count": 8,
   "id": "f1bb14c1",
   "metadata": {
    "execution": {
     "iopub.execute_input": "2023-02-27T13:39:47.170101Z",
     "iopub.status.busy": "2023-02-27T13:39:47.169439Z",
     "iopub.status.idle": "2023-02-27T13:39:47.546998Z",
     "shell.execute_reply": "2023-02-27T13:39:47.546133Z"
    }
   },
   "outputs": [],
   "source": [
    "from tianshou.data import Batch\n",
    "\n",
    "b = Batch(**_TREE_DATA_2)"
   ]
  },
  {
   "cell_type": "code",
   "execution_count": 9,
   "id": "cb0777c3",
   "metadata": {
    "execution": {
     "iopub.execute_input": "2023-02-27T13:39:47.550922Z",
     "iopub.status.busy": "2023-02-27T13:39:47.550340Z",
     "iopub.status.idle": "2023-02-27T13:39:47.557565Z",
     "shell.execute_reply": "2023-02-27T13:39:47.556909Z"
    }
   },
   "outputs": [
    {
     "data": {
      "text/plain": [
       "Batch(\n",
       "    a: tensor([[-1.0418,  0.8406,  0.3517],\n",
       "               [-0.2532, -0.7897,  0.6388]]),\n",
       "    x: Batch(\n",
       "           c: tensor([[-0.1307, -0.3262,  0.1260,  0.6743],\n",
       "                      [ 0.1161, -1.4425, -0.0924,  0.6024],\n",
       "                      [ 1.5269,  0.2550, -0.0057, -0.4908]]),\n",
       "       ),\n",
       ")"
      ]
     },
     "execution_count": 9,
     "metadata": {},
     "output_type": "execute_result"
    }
   ],
   "source": [
    "b"
   ]
  },
  {
   "cell_type": "code",
   "execution_count": 10,
   "id": "43ef8ea3",
   "metadata": {
    "execution": {
     "iopub.execute_input": "2023-02-27T13:39:47.560587Z",
     "iopub.status.busy": "2023-02-27T13:39:47.559989Z",
     "iopub.status.idle": "2023-02-27T13:39:47.566543Z",
     "shell.execute_reply": "2023-02-27T13:39:47.565944Z"
    }
   },
   "outputs": [
    {
     "data": {
      "text/plain": [
       "tensor([[-1.0418,  0.8406,  0.3517],\n",
       "        [-0.2532, -0.7897,  0.6388]])"
      ]
     },
     "execution_count": 10,
     "metadata": {},
     "output_type": "execute_result"
    }
   ],
   "source": [
    "b.a"
   ]
  },
  {
   "cell_type": "code",
   "execution_count": 11,
   "id": "b785ab72",
   "metadata": {
    "execution": {
     "iopub.execute_input": "2023-02-27T13:39:47.569187Z",
     "iopub.status.busy": "2023-02-27T13:39:47.568964Z",
     "iopub.status.idle": "2023-02-27T13:39:52.880550Z",
     "shell.execute_reply": "2023-02-27T13:39:52.879658Z"
    }
   },
   "outputs": [
    {
     "name": "stdout",
     "output_type": "stream",
     "text": [
      "66.4 ns ± 2.72 ns per loop (mean ± std. dev. of 7 runs, 10,000,000 loops each)\n"
     ]
    }
   ],
   "source": [
    "%timeit b.a"
   ]
  },
  {
   "cell_type": "code",
   "execution_count": 12,
   "id": "ad54dc69",
   "metadata": {
    "execution": {
     "iopub.execute_input": "2023-02-27T13:39:52.884107Z",
     "iopub.status.busy": "2023-02-27T13:39:52.883464Z",
     "iopub.status.idle": "2023-02-27T13:39:52.890885Z",
     "shell.execute_reply": "2023-02-27T13:39:52.890254Z"
    }
   },
   "outputs": [
    {
     "data": {
      "text/plain": [
       "Batch(\n",
       "    a: tensor([[-0.0896, -0.2012,  0.4136],\n",
       "               [-0.0924,  0.1804, -0.1268]]),\n",
       "    x: Batch(\n",
       "           c: tensor([[-0.1307, -0.3262,  0.1260,  0.6743],\n",
       "                      [ 0.1161, -1.4425, -0.0924,  0.6024],\n",
       "                      [ 1.5269,  0.2550, -0.0057, -0.4908]]),\n",
       "       ),\n",
       ")"
      ]
     },
     "execution_count": 12,
     "metadata": {},
     "output_type": "execute_result"
    }
   ],
   "source": [
    "new_value = torch.randn(2, 3)\n",
    "b.a = new_value\n",
    "\n",
    "b"
   ]
  },
  {
   "cell_type": "code",
   "execution_count": 13,
   "id": "29b1d0bf",
   "metadata": {
    "execution": {
     "iopub.execute_input": "2023-02-27T13:39:52.893959Z",
     "iopub.status.busy": "2023-02-27T13:39:52.893513Z",
     "iopub.status.idle": "2023-02-27T13:39:56.602749Z",
     "shell.execute_reply": "2023-02-27T13:39:56.601768Z"
    }
   },
   "outputs": [
    {
     "name": "stdout",
     "output_type": "stream",
     "text": [
      "460 ns ± 27 ns per loop (mean ± std. dev. of 7 runs, 1,000,000 loops each)\n"
     ]
    }
   ],
   "source": [
    "%timeit b.a = new_value"
   ]
  },
  {
   "cell_type": "markdown",
   "id": "b61ad1d0",
   "metadata": {},
   "source": [
    "## Initialization"
   ]
  },
  {
   "cell_type": "markdown",
   "id": "d70f0d54",
   "metadata": {},
   "source": [
    "### TreeValue's Initialization"
   ]
  },
  {
   "cell_type": "code",
   "execution_count": 14,
   "id": "d32a679b",
   "metadata": {
    "execution": {
     "iopub.execute_input": "2023-02-27T13:39:56.606240Z",
     "iopub.status.busy": "2023-02-27T13:39:56.605635Z",
     "iopub.status.idle": "2023-02-27T13:40:03.170699Z",
     "shell.execute_reply": "2023-02-27T13:40:03.169795Z"
    }
   },
   "outputs": [
    {
     "name": "stdout",
     "output_type": "stream",
     "text": [
      "809 ns ± 0.172 ns per loop (mean ± std. dev. of 7 runs, 1,000,000 loops each)\n"
     ]
    }
   ],
   "source": [
    "%timeit FastTreeValue(_TREE_DATA_1)"
   ]
  },
  {
   "cell_type": "markdown",
   "id": "24f3707b",
   "metadata": {},
   "source": [
    "### Tianshou Batch's Initialization"
   ]
  },
  {
   "cell_type": "code",
   "execution_count": 15,
   "id": "ac3958df",
   "metadata": {
    "execution": {
     "iopub.execute_input": "2023-02-27T13:40:03.174710Z",
     "iopub.status.busy": "2023-02-27T13:40:03.174072Z",
     "iopub.status.idle": "2023-02-27T13:40:12.129667Z",
     "shell.execute_reply": "2023-02-27T13:40:12.128777Z"
    }
   },
   "outputs": [
    {
     "name": "stdout",
     "output_type": "stream",
     "text": [
      "11 µs ± 37.5 ns per loop (mean ± std. dev. of 7 runs, 100,000 loops each)\n"
     ]
    }
   ],
   "source": [
    "%timeit Batch(**_TREE_DATA_1)"
   ]
  },
  {
   "cell_type": "markdown",
   "id": "1ab82e2d",
   "metadata": {},
   "source": [
    "## Deep Copy Operation"
   ]
  },
  {
   "cell_type": "code",
   "execution_count": 16,
   "id": "210a9442",
   "metadata": {
    "execution": {
     "iopub.execute_input": "2023-02-27T13:40:12.133020Z",
     "iopub.status.busy": "2023-02-27T13:40:12.132484Z",
     "iopub.status.idle": "2023-02-27T13:40:12.136824Z",
     "shell.execute_reply": "2023-02-27T13:40:12.136197Z"
    }
   },
   "outputs": [],
   "source": [
    "import copy"
   ]
  },
  {
   "cell_type": "markdown",
   "id": "5a736274",
   "metadata": {},
   "source": [
    "### Deep Copy of TreeValue"
   ]
  },
  {
   "cell_type": "code",
   "execution_count": 17,
   "id": "f9bcadd6",
   "metadata": {
    "execution": {
     "iopub.execute_input": "2023-02-27T13:40:12.139794Z",
     "iopub.status.busy": "2023-02-27T13:40:12.139238Z",
     "iopub.status.idle": "2023-02-27T13:40:23.370310Z",
     "shell.execute_reply": "2023-02-27T13:40:23.369491Z"
    }
   },
   "outputs": [
    {
     "name": "stdout",
     "output_type": "stream",
     "text": [
      "140 µs ± 6.88 µs per loop (mean ± std. dev. of 7 runs, 10,000 loops each)\n"
     ]
    }
   ],
   "source": [
    "t3 = FastTreeValue(_TREE_DATA_3)\n",
    "%timeit copy.deepcopy(t3)"
   ]
  },
  {
   "cell_type": "markdown",
   "id": "bf8be7ea",
   "metadata": {},
   "source": [
    "### Deep Copy of Tianshou Batch"
   ]
  },
  {
   "cell_type": "code",
   "execution_count": 18,
   "id": "91998e6f",
   "metadata": {
    "execution": {
     "iopub.execute_input": "2023-02-27T13:40:23.373490Z",
     "iopub.status.busy": "2023-02-27T13:40:23.373066Z",
     "iopub.status.idle": "2023-02-27T13:40:34.943767Z",
     "shell.execute_reply": "2023-02-27T13:40:34.943115Z"
    }
   },
   "outputs": [
    {
     "name": "stdout",
     "output_type": "stream",
     "text": [
      "143 µs ± 457 ns per loop (mean ± std. dev. of 7 runs, 10,000 loops each)\n"
     ]
    }
   ],
   "source": [
    "b3 = Batch(**_TREE_DATA_3)\n",
    "%timeit copy.deepcopy(b3)"
   ]
  },
  {
   "cell_type": "markdown",
   "id": "223162fb",
   "metadata": {},
   "source": [
    "## Stack, Concat and Split Operation"
   ]
  },
  {
   "cell_type": "markdown",
   "id": "85fa4a73",
   "metadata": {},
   "source": [
    "### Performance of TreeValue"
   ]
  },
  {
   "cell_type": "code",
   "execution_count": 19,
   "id": "a0c2b697",
   "metadata": {
    "execution": {
     "iopub.execute_input": "2023-02-27T13:40:34.946701Z",
     "iopub.status.busy": "2023-02-27T13:40:34.946204Z",
     "iopub.status.idle": "2023-02-27T13:40:34.949796Z",
     "shell.execute_reply": "2023-02-27T13:40:34.949229Z"
    }
   },
   "outputs": [],
   "source": [
    "trees = [FastTreeValue(_TREE_DATA_2) for _ in range(8)]"
   ]
  },
  {
   "cell_type": "code",
   "execution_count": 20,
   "id": "017ea5a5",
   "metadata": {
    "execution": {
     "iopub.execute_input": "2023-02-27T13:40:34.952315Z",
     "iopub.status.busy": "2023-02-27T13:40:34.951875Z",
     "iopub.status.idle": "2023-02-27T13:40:34.959376Z",
     "shell.execute_reply": "2023-02-27T13:40:34.958716Z"
    }
   },
   "outputs": [
    {
     "data": {
      "text/plain": [
       "<FastTreeValue 0x7fcc6cfe69d0>\n",
       "├── 'a' --> tensor([[[-1.0418,  0.8406,  0.3517],\n",
       "│                    [-0.2532, -0.7897,  0.6388]],\n",
       "│           \n",
       "│                   [[-1.0418,  0.8406,  0.3517],\n",
       "│                    [-0.2532, -0.7897,  0.6388]],\n",
       "│           \n",
       "│                   [[-1.0418,  0.8406,  0.3517],\n",
       "│                    [-0.2532, -0.7897,  0.6388]],\n",
       "│           \n",
       "│                   [[-1.0418,  0.8406,  0.3517],\n",
       "│                    [-0.2532, -0.7897,  0.6388]],\n",
       "│           \n",
       "│                   [[-1.0418,  0.8406,  0.3517],\n",
       "│                    [-0.2532, -0.7897,  0.6388]],\n",
       "│           \n",
       "│                   [[-1.0418,  0.8406,  0.3517],\n",
       "│                    [-0.2532, -0.7897,  0.6388]],\n",
       "│           \n",
       "│                   [[-1.0418,  0.8406,  0.3517],\n",
       "│                    [-0.2532, -0.7897,  0.6388]],\n",
       "│           \n",
       "│                   [[-1.0418,  0.8406,  0.3517],\n",
       "│                    [-0.2532, -0.7897,  0.6388]]])\n",
       "└── 'x' --> <FastTreeValue 0x7fcc5b98c8b0>\n",
       "    └── 'c' --> tensor([[[-0.1307, -0.3262,  0.1260,  0.6743],\n",
       "                         [ 0.1161, -1.4425, -0.0924,  0.6024],\n",
       "                         [ 1.5269,  0.2550, -0.0057, -0.4908]],\n",
       "                \n",
       "                        [[-0.1307, -0.3262,  0.1260,  0.6743],\n",
       "                         [ 0.1161, -1.4425, -0.0924,  0.6024],\n",
       "                         [ 1.5269,  0.2550, -0.0057, -0.4908]],\n",
       "                \n",
       "                        [[-0.1307, -0.3262,  0.1260,  0.6743],\n",
       "                         [ 0.1161, -1.4425, -0.0924,  0.6024],\n",
       "                         [ 1.5269,  0.2550, -0.0057, -0.4908]],\n",
       "                \n",
       "                        [[-0.1307, -0.3262,  0.1260,  0.6743],\n",
       "                         [ 0.1161, -1.4425, -0.0924,  0.6024],\n",
       "                         [ 1.5269,  0.2550, -0.0057, -0.4908]],\n",
       "                \n",
       "                        [[-0.1307, -0.3262,  0.1260,  0.6743],\n",
       "                         [ 0.1161, -1.4425, -0.0924,  0.6024],\n",
       "                         [ 1.5269,  0.2550, -0.0057, -0.4908]],\n",
       "                \n",
       "                        [[-0.1307, -0.3262,  0.1260,  0.6743],\n",
       "                         [ 0.1161, -1.4425, -0.0924,  0.6024],\n",
       "                         [ 1.5269,  0.2550, -0.0057, -0.4908]],\n",
       "                \n",
       "                        [[-0.1307, -0.3262,  0.1260,  0.6743],\n",
       "                         [ 0.1161, -1.4425, -0.0924,  0.6024],\n",
       "                         [ 1.5269,  0.2550, -0.0057, -0.4908]],\n",
       "                \n",
       "                        [[-0.1307, -0.3262,  0.1260,  0.6743],\n",
       "                         [ 0.1161, -1.4425, -0.0924,  0.6024],\n",
       "                         [ 1.5269,  0.2550, -0.0057, -0.4908]]])"
      ]
     },
     "execution_count": 20,
     "metadata": {},
     "output_type": "execute_result"
    }
   ],
   "source": [
    "t_stack = FastTreeValue.func(subside=True)(torch.stack)\n",
    "\n",
    "t_stack(trees)"
   ]
  },
  {
   "cell_type": "code",
   "execution_count": 21,
   "id": "f8b3f415",
   "metadata": {
    "execution": {
     "iopub.execute_input": "2023-02-27T13:40:34.962290Z",
     "iopub.status.busy": "2023-02-27T13:40:34.961940Z",
     "iopub.status.idle": "2023-02-27T13:40:37.289348Z",
     "shell.execute_reply": "2023-02-27T13:40:37.288430Z"
    }
   },
   "outputs": [
    {
     "name": "stdout",
     "output_type": "stream",
     "text": [
      "28.6 µs ± 48.3 ns per loop (mean ± std. dev. of 7 runs, 10,000 loops each)\n"
     ]
    }
   ],
   "source": [
    "%timeit t_stack(trees)"
   ]
  },
  {
   "cell_type": "code",
   "execution_count": 22,
   "id": "94b56771",
   "metadata": {
    "execution": {
     "iopub.execute_input": "2023-02-27T13:40:37.292670Z",
     "iopub.status.busy": "2023-02-27T13:40:37.292226Z",
     "iopub.status.idle": "2023-02-27T13:40:37.300889Z",
     "shell.execute_reply": "2023-02-27T13:40:37.300258Z"
    }
   },
   "outputs": [
    {
     "data": {
      "text/plain": [
       "<FastTreeValue 0x7fcd106d2370>\n",
       "├── 'a' --> tensor([[-1.0418,  0.8406,  0.3517],\n",
       "│                   [-0.2532, -0.7897,  0.6388],\n",
       "│                   [-1.0418,  0.8406,  0.3517],\n",
       "│                   [-0.2532, -0.7897,  0.6388],\n",
       "│                   [-1.0418,  0.8406,  0.3517],\n",
       "│                   [-0.2532, -0.7897,  0.6388],\n",
       "│                   [-1.0418,  0.8406,  0.3517],\n",
       "│                   [-0.2532, -0.7897,  0.6388],\n",
       "│                   [-1.0418,  0.8406,  0.3517],\n",
       "│                   [-0.2532, -0.7897,  0.6388],\n",
       "│                   [-1.0418,  0.8406,  0.3517],\n",
       "│                   [-0.2532, -0.7897,  0.6388],\n",
       "│                   [-1.0418,  0.8406,  0.3517],\n",
       "│                   [-0.2532, -0.7897,  0.6388],\n",
       "│                   [-1.0418,  0.8406,  0.3517],\n",
       "│                   [-0.2532, -0.7897,  0.6388]])\n",
       "└── 'x' --> <FastTreeValue 0x7fcc5ba054f0>\n",
       "    └── 'c' --> tensor([[-0.1307, -0.3262,  0.1260,  0.6743],\n",
       "                        [ 0.1161, -1.4425, -0.0924,  0.6024],\n",
       "                        [ 1.5269,  0.2550, -0.0057, -0.4908],\n",
       "                        [-0.1307, -0.3262,  0.1260,  0.6743],\n",
       "                        [ 0.1161, -1.4425, -0.0924,  0.6024],\n",
       "                        [ 1.5269,  0.2550, -0.0057, -0.4908],\n",
       "                        [-0.1307, -0.3262,  0.1260,  0.6743],\n",
       "                        [ 0.1161, -1.4425, -0.0924,  0.6024],\n",
       "                        [ 1.5269,  0.2550, -0.0057, -0.4908],\n",
       "                        [-0.1307, -0.3262,  0.1260,  0.6743],\n",
       "                        [ 0.1161, -1.4425, -0.0924,  0.6024],\n",
       "                        [ 1.5269,  0.2550, -0.0057, -0.4908],\n",
       "                        [-0.1307, -0.3262,  0.1260,  0.6743],\n",
       "                        [ 0.1161, -1.4425, -0.0924,  0.6024],\n",
       "                        [ 1.5269,  0.2550, -0.0057, -0.4908],\n",
       "                        [-0.1307, -0.3262,  0.1260,  0.6743],\n",
       "                        [ 0.1161, -1.4425, -0.0924,  0.6024],\n",
       "                        [ 1.5269,  0.2550, -0.0057, -0.4908],\n",
       "                        [-0.1307, -0.3262,  0.1260,  0.6743],\n",
       "                        [ 0.1161, -1.4425, -0.0924,  0.6024],\n",
       "                        [ 1.5269,  0.2550, -0.0057, -0.4908],\n",
       "                        [-0.1307, -0.3262,  0.1260,  0.6743],\n",
       "                        [ 0.1161, -1.4425, -0.0924,  0.6024],\n",
       "                        [ 1.5269,  0.2550, -0.0057, -0.4908]])"
      ]
     },
     "execution_count": 22,
     "metadata": {},
     "output_type": "execute_result"
    }
   ],
   "source": [
    "t_cat = FastTreeValue.func(subside=True)(torch.cat)\n",
    "\n",
    "t_cat(trees)"
   ]
  },
  {
   "cell_type": "code",
   "execution_count": 23,
   "id": "5e9c06a6",
   "metadata": {
    "execution": {
     "iopub.execute_input": "2023-02-27T13:40:37.303978Z",
     "iopub.status.busy": "2023-02-27T13:40:37.303555Z",
     "iopub.status.idle": "2023-02-27T13:40:39.786180Z",
     "shell.execute_reply": "2023-02-27T13:40:39.785308Z"
    }
   },
   "outputs": [
    {
     "name": "stdout",
     "output_type": "stream",
     "text": [
      "30.5 µs ± 73.1 ns per loop (mean ± std. dev. of 7 runs, 10,000 loops each)\n"
     ]
    }
   ],
   "source": [
    "%timeit t_cat(trees)"
   ]
  },
  {
   "cell_type": "code",
   "execution_count": 24,
   "id": "a3ab5c8f",
   "metadata": {
    "execution": {
     "iopub.execute_input": "2023-02-27T13:40:39.789916Z",
     "iopub.status.busy": "2023-02-27T13:40:39.789505Z",
     "iopub.status.idle": "2023-02-27T13:40:44.544630Z",
     "shell.execute_reply": "2023-02-27T13:40:44.543680Z"
    }
   },
   "outputs": [
    {
     "name": "stdout",
     "output_type": "stream",
     "text": [
      "58.5 µs ± 34.4 ns per loop (mean ± std. dev. of 7 runs, 10,000 loops each)\n"
     ]
    }
   ],
   "source": [
    "t_split = FastTreeValue.func(rise=True)(torch.split)\n",
    "tree = FastTreeValue({\n",
    "    'obs': torch.randn(8, 4, 84, 84),\n",
    "    'action': torch.randint(0, 6, size=(8, 1,)),\n",
    "    'reward': torch.rand(8, 1),\n",
    "})\n",
    "\n",
    "%timeit t_split(tree, 1)"
   ]
  },
  {
   "cell_type": "markdown",
   "id": "31c3ec0b",
   "metadata": {},
   "source": [
    "### Performance of Tianshou Batch"
   ]
  },
  {
   "cell_type": "code",
   "execution_count": 25,
   "id": "9ead828a",
   "metadata": {
    "execution": {
     "iopub.execute_input": "2023-02-27T13:40:44.549254Z",
     "iopub.status.busy": "2023-02-27T13:40:44.548775Z",
     "iopub.status.idle": "2023-02-27T13:40:44.557539Z",
     "shell.execute_reply": "2023-02-27T13:40:44.556842Z"
    }
   },
   "outputs": [
    {
     "data": {
      "text/plain": [
       "Batch(\n",
       "    x: Batch(\n",
       "           c: tensor([[[-0.1307, -0.3262,  0.1260,  0.6743],\n",
       "                       [ 0.1161, -1.4425, -0.0924,  0.6024],\n",
       "                       [ 1.5269,  0.2550, -0.0057, -0.4908]],\n",
       "              \n",
       "                      [[-0.1307, -0.3262,  0.1260,  0.6743],\n",
       "                       [ 0.1161, -1.4425, -0.0924,  0.6024],\n",
       "                       [ 1.5269,  0.2550, -0.0057, -0.4908]],\n",
       "              \n",
       "                      [[-0.1307, -0.3262,  0.1260,  0.6743],\n",
       "                       [ 0.1161, -1.4425, -0.0924,  0.6024],\n",
       "                       [ 1.5269,  0.2550, -0.0057, -0.4908]],\n",
       "              \n",
       "                      [[-0.1307, -0.3262,  0.1260,  0.6743],\n",
       "                       [ 0.1161, -1.4425, -0.0924,  0.6024],\n",
       "                       [ 1.5269,  0.2550, -0.0057, -0.4908]],\n",
       "              \n",
       "                      [[-0.1307, -0.3262,  0.1260,  0.6743],\n",
       "                       [ 0.1161, -1.4425, -0.0924,  0.6024],\n",
       "                       [ 1.5269,  0.2550, -0.0057, -0.4908]],\n",
       "              \n",
       "                      [[-0.1307, -0.3262,  0.1260,  0.6743],\n",
       "                       [ 0.1161, -1.4425, -0.0924,  0.6024],\n",
       "                       [ 1.5269,  0.2550, -0.0057, -0.4908]],\n",
       "              \n",
       "                      [[-0.1307, -0.3262,  0.1260,  0.6743],\n",
       "                       [ 0.1161, -1.4425, -0.0924,  0.6024],\n",
       "                       [ 1.5269,  0.2550, -0.0057, -0.4908]],\n",
       "              \n",
       "                      [[-0.1307, -0.3262,  0.1260,  0.6743],\n",
       "                       [ 0.1161, -1.4425, -0.0924,  0.6024],\n",
       "                       [ 1.5269,  0.2550, -0.0057, -0.4908]]]),\n",
       "       ),\n",
       "    a: tensor([[[-1.0418,  0.8406,  0.3517],\n",
       "                [-0.2532, -0.7897,  0.6388]],\n",
       "       \n",
       "               [[-1.0418,  0.8406,  0.3517],\n",
       "                [-0.2532, -0.7897,  0.6388]],\n",
       "       \n",
       "               [[-1.0418,  0.8406,  0.3517],\n",
       "                [-0.2532, -0.7897,  0.6388]],\n",
       "       \n",
       "               [[-1.0418,  0.8406,  0.3517],\n",
       "                [-0.2532, -0.7897,  0.6388]],\n",
       "       \n",
       "               [[-1.0418,  0.8406,  0.3517],\n",
       "                [-0.2532, -0.7897,  0.6388]],\n",
       "       \n",
       "               [[-1.0418,  0.8406,  0.3517],\n",
       "                [-0.2532, -0.7897,  0.6388]],\n",
       "       \n",
       "               [[-1.0418,  0.8406,  0.3517],\n",
       "                [-0.2532, -0.7897,  0.6388]],\n",
       "       \n",
       "               [[-1.0418,  0.8406,  0.3517],\n",
       "                [-0.2532, -0.7897,  0.6388]]]),\n",
       ")"
      ]
     },
     "execution_count": 25,
     "metadata": {},
     "output_type": "execute_result"
    }
   ],
   "source": [
    "batches = [Batch(**_TREE_DATA_2) for _ in range(8)]\n",
    "\n",
    "Batch.stack(batches)"
   ]
  },
  {
   "cell_type": "code",
   "execution_count": 26,
   "id": "ec9037a3",
   "metadata": {
    "execution": {
     "iopub.execute_input": "2023-02-27T13:40:44.560434Z",
     "iopub.status.busy": "2023-02-27T13:40:44.560167Z",
     "iopub.status.idle": "2023-02-27T13:40:50.909254Z",
     "shell.execute_reply": "2023-02-27T13:40:50.908372Z"
    }
   },
   "outputs": [
    {
     "name": "stdout",
     "output_type": "stream",
     "text": [
      "78 µs ± 120 ns per loop (mean ± std. dev. of 7 runs, 10,000 loops each)\n"
     ]
    }
   ],
   "source": [
    "%timeit Batch.stack(batches)"
   ]
  },
  {
   "cell_type": "code",
   "execution_count": 27,
   "id": "cb8ab77e",
   "metadata": {
    "execution": {
     "iopub.execute_input": "2023-02-27T13:40:50.913182Z",
     "iopub.status.busy": "2023-02-27T13:40:50.912636Z",
     "iopub.status.idle": "2023-02-27T13:40:50.921259Z",
     "shell.execute_reply": "2023-02-27T13:40:50.920548Z"
    }
   },
   "outputs": [
    {
     "data": {
      "text/plain": [
       "Batch(\n",
       "    x: Batch(\n",
       "           c: tensor([[-0.1307, -0.3262,  0.1260,  0.6743],\n",
       "                      [ 0.1161, -1.4425, -0.0924,  0.6024],\n",
       "                      [ 1.5269,  0.2550, -0.0057, -0.4908],\n",
       "                      [-0.1307, -0.3262,  0.1260,  0.6743],\n",
       "                      [ 0.1161, -1.4425, -0.0924,  0.6024],\n",
       "                      [ 1.5269,  0.2550, -0.0057, -0.4908],\n",
       "                      [-0.1307, -0.3262,  0.1260,  0.6743],\n",
       "                      [ 0.1161, -1.4425, -0.0924,  0.6024],\n",
       "                      [ 1.5269,  0.2550, -0.0057, -0.4908],\n",
       "                      [-0.1307, -0.3262,  0.1260,  0.6743],\n",
       "                      [ 0.1161, -1.4425, -0.0924,  0.6024],\n",
       "                      [ 1.5269,  0.2550, -0.0057, -0.4908],\n",
       "                      [-0.1307, -0.3262,  0.1260,  0.6743],\n",
       "                      [ 0.1161, -1.4425, -0.0924,  0.6024],\n",
       "                      [ 1.5269,  0.2550, -0.0057, -0.4908],\n",
       "                      [-0.1307, -0.3262,  0.1260,  0.6743],\n",
       "                      [ 0.1161, -1.4425, -0.0924,  0.6024],\n",
       "                      [ 1.5269,  0.2550, -0.0057, -0.4908],\n",
       "                      [-0.1307, -0.3262,  0.1260,  0.6743],\n",
       "                      [ 0.1161, -1.4425, -0.0924,  0.6024],\n",
       "                      [ 1.5269,  0.2550, -0.0057, -0.4908],\n",
       "                      [-0.1307, -0.3262,  0.1260,  0.6743],\n",
       "                      [ 0.1161, -1.4425, -0.0924,  0.6024],\n",
       "                      [ 1.5269,  0.2550, -0.0057, -0.4908]]),\n",
       "       ),\n",
       "    a: tensor([[-1.0418,  0.8406,  0.3517],\n",
       "               [-0.2532, -0.7897,  0.6388],\n",
       "               [-1.0418,  0.8406,  0.3517],\n",
       "               [-0.2532, -0.7897,  0.6388],\n",
       "               [-1.0418,  0.8406,  0.3517],\n",
       "               [-0.2532, -0.7897,  0.6388],\n",
       "               [-1.0418,  0.8406,  0.3517],\n",
       "               [-0.2532, -0.7897,  0.6388],\n",
       "               [-1.0418,  0.8406,  0.3517],\n",
       "               [-0.2532, -0.7897,  0.6388],\n",
       "               [-1.0418,  0.8406,  0.3517],\n",
       "               [-0.2532, -0.7897,  0.6388],\n",
       "               [-1.0418,  0.8406,  0.3517],\n",
       "               [-0.2532, -0.7897,  0.6388],\n",
       "               [-1.0418,  0.8406,  0.3517],\n",
       "               [-0.2532, -0.7897,  0.6388]]),\n",
       ")"
      ]
     },
     "execution_count": 27,
     "metadata": {},
     "output_type": "execute_result"
    }
   ],
   "source": [
    "Batch.cat(batches)"
   ]
  },
  {
   "cell_type": "code",
   "execution_count": 28,
   "id": "18dfb045",
   "metadata": {
    "execution": {
     "iopub.execute_input": "2023-02-27T13:40:50.924273Z",
     "iopub.status.busy": "2023-02-27T13:40:50.923765Z",
     "iopub.status.idle": "2023-02-27T13:41:02.641056Z",
     "shell.execute_reply": "2023-02-27T13:41:02.640171Z"
    }
   },
   "outputs": [
    {
     "name": "stdout",
     "output_type": "stream",
     "text": [
      "144 µs ± 157 ns per loop (mean ± std. dev. of 7 runs, 10,000 loops each)\n"
     ]
    }
   ],
   "source": [
    "%timeit Batch.cat(batches)"
   ]
  },
  {
   "cell_type": "code",
   "execution_count": 29,
   "id": "c6688e51",
   "metadata": {
    "execution": {
     "iopub.execute_input": "2023-02-27T13:41:02.644726Z",
     "iopub.status.busy": "2023-02-27T13:41:02.644001Z",
     "iopub.status.idle": "2023-02-27T13:41:05.022618Z",
     "shell.execute_reply": "2023-02-27T13:41:05.021564Z"
    }
   },
   "outputs": [
    {
     "name": "stdout",
     "output_type": "stream",
     "text": [
      "292 µs ± 2.15 µs per loop (mean ± std. dev. of 7 runs, 1,000 loops each)\n"
     ]
    }
   ],
   "source": [
    "batch = Batch({\n",
    "    'obs': torch.randn(8, 4, 84, 84),\n",
    "    'action': torch.randint(0, 6, size=(8, 1,)),\n",
    "    'reward': torch.rand(8, 1)}\n",
    ")\n",
    "\n",
    "%timeit list(Batch.split(batch, 1, shuffle=False, merge_last=True))"
   ]
  },
  {
   "cell_type": "code",
   "execution_count": null,
   "id": "2539fbd9",
   "metadata": {},
   "outputs": [],
   "source": []
  }
 ],
 "metadata": {
  "kernelspec": {
   "display_name": "Python 3 (ipykernel)",
   "language": "python",
   "name": "python3"
  },
  "language_info": {
   "codemirror_mode": {
    "name": "ipython",
    "version": 3
   },
   "file_extension": ".py",
   "mimetype": "text/x-python",
   "name": "python",
   "nbconvert_exporter": "python",
   "pygments_lexer": "ipython3",
   "version": "3.8.16"
  }
 },
 "nbformat": 4,
 "nbformat_minor": 5
}
