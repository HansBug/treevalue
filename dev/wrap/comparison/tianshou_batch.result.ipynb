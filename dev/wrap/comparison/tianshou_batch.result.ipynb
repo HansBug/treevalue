{
 "cells": [
  {
   "cell_type": "markdown",
   "id": "9d39d946",
   "metadata": {},
   "source": [
    "# Comparison Between TreeValue and Tianshou Batch"
   ]
  },
  {
   "cell_type": "markdown",
   "id": "3c6db2d4",
   "metadata": {},
   "source": [
    "In this section, we will take a look at the feature and performance of the [Tianshou Batch](https://github.com/thu-ml/tianshou) library, which is developed by Tsinghua Machine Learning Group."
   ]
  },
  {
   "cell_type": "markdown",
   "id": "069361b0",
   "metadata": {},
   "source": [
    "Before starting the comparison, let us define some thing."
   ]
  },
  {
   "cell_type": "code",
   "execution_count": 1,
   "id": "06fc8d26",
   "metadata": {
    "execution": {
     "iopub.execute_input": "2023-02-25T07:19:02.684720Z",
     "iopub.status.busy": "2023-02-25T07:19:02.684417Z",
     "iopub.status.idle": "2023-02-25T07:19:03.959058Z",
     "shell.execute_reply": "2023-02-25T07:19:03.957832Z"
    }
   },
   "outputs": [
    {
     "name": "stderr",
     "output_type": "stream",
     "text": [
      "/opt/hostedtoolcache/Python/3.8.16/x64/lib/python3.8/site-packages/tqdm/auto.py:22: TqdmWarning: IProgress not found. Please update jupyter and ipywidgets. See https://ipywidgets.readthedocs.io/en/stable/user_install.html\n",
      "  from .autonotebook import tqdm as notebook_tqdm\n"
     ]
    }
   ],
   "source": [
    "import torch \n",
    "\n",
    "_TREE_DATA_1 = {'a': 1, 'b': 2, 'x': {'c': 3, 'd': 4}}\n",
    "_TREE_DATA_2 = {\n",
    "    'a': torch.randn(2, 3), \n",
    "    'x': {\n",
    "        'c': torch.randn(3, 4)\n",
    "    },\n",
    "}\n",
    "_TREE_DATA_3 = {\n",
    "    'obs': torch.randn(4, 84, 84),\n",
    "    'action': torch.randint(0, 6, size=(1,)),\n",
    "    'reward': torch.rand(1),\n",
    "}"
   ]
  },
  {
   "cell_type": "markdown",
   "id": "83461b25",
   "metadata": {},
   "source": [
    "## Read and Write Operation"
   ]
  },
  {
   "cell_type": "markdown",
   "id": "067b3f73",
   "metadata": {},
   "source": [
    "Reading and writing are the two most common operations in the tree data structure based on the data model (TreeValue and Tianshou Batch both belong to this type), so this section will compare the reading and writing performance of these two libraries."
   ]
  },
  {
   "cell_type": "markdown",
   "id": "5d09a5b7",
   "metadata": {},
   "source": [
    "### TreeValue's Get and Set"
   ]
  },
  {
   "cell_type": "code",
   "execution_count": 2,
   "id": "9519c4bb",
   "metadata": {
    "execution": {
     "iopub.execute_input": "2023-02-25T07:19:03.964745Z",
     "iopub.status.busy": "2023-02-25T07:19:03.964184Z",
     "iopub.status.idle": "2023-02-25T07:19:04.014894Z",
     "shell.execute_reply": "2023-02-25T07:19:04.014016Z"
    }
   },
   "outputs": [],
   "source": [
    "from treevalue import FastTreeValue\n",
    "\n",
    "t = FastTreeValue(_TREE_DATA_2)"
   ]
  },
  {
   "cell_type": "code",
   "execution_count": 3,
   "id": "11c37677",
   "metadata": {
    "execution": {
     "iopub.execute_input": "2023-02-25T07:19:04.019752Z",
     "iopub.status.busy": "2023-02-25T07:19:04.018333Z",
     "iopub.status.idle": "2023-02-25T07:19:04.030854Z",
     "shell.execute_reply": "2023-02-25T07:19:04.030041Z"
    }
   },
   "outputs": [
    {
     "data": {
      "text/plain": [
       "<FastTreeValue 0x7f913cc59640>\n",
       "├── 'a' --> tensor([[-0.3717, -0.9159, -0.9777],\n",
       "│                   [-0.9135,  0.7139, -0.1748]])\n",
       "└── 'x' --> <FastTreeValue 0x7f913cc59a00>\n",
       "    └── 'c' --> tensor([[ 0.2928,  1.4587, -1.0161, -1.8239],\n",
       "                        [ 0.2954,  0.3656,  0.1234, -0.7910],\n",
       "                        [-1.0263,  0.5554,  0.3729,  0.0998]])"
      ]
     },
     "execution_count": 3,
     "metadata": {},
     "output_type": "execute_result"
    }
   ],
   "source": [
    "t"
   ]
  },
  {
   "cell_type": "code",
   "execution_count": 4,
   "id": "fd70b0b9",
   "metadata": {
    "execution": {
     "iopub.execute_input": "2023-02-25T07:19:04.034519Z",
     "iopub.status.busy": "2023-02-25T07:19:04.033779Z",
     "iopub.status.idle": "2023-02-25T07:19:04.040087Z",
     "shell.execute_reply": "2023-02-25T07:19:04.039288Z"
    }
   },
   "outputs": [
    {
     "data": {
      "text/plain": [
       "tensor([[-0.3717, -0.9159, -0.9777],\n",
       "        [-0.9135,  0.7139, -0.1748]])"
      ]
     },
     "execution_count": 4,
     "metadata": {},
     "output_type": "execute_result"
    }
   ],
   "source": [
    "t.a"
   ]
  },
  {
   "cell_type": "code",
   "execution_count": 5,
   "id": "c18197bd",
   "metadata": {
    "execution": {
     "iopub.execute_input": "2023-02-25T07:19:04.043659Z",
     "iopub.status.busy": "2023-02-25T07:19:04.042871Z",
     "iopub.status.idle": "2023-02-25T07:19:10.059265Z",
     "shell.execute_reply": "2023-02-25T07:19:10.058202Z"
    }
   },
   "outputs": [
    {
     "name": "stdout",
     "output_type": "stream",
     "text": [
      "74.5 ns ± 1.44 ns per loop (mean ± std. dev. of 7 runs, 10,000,000 loops each)\n"
     ]
    }
   ],
   "source": [
    "%timeit t.a"
   ]
  },
  {
   "cell_type": "code",
   "execution_count": 6,
   "id": "bd52f867",
   "metadata": {
    "execution": {
     "iopub.execute_input": "2023-02-25T07:19:10.062954Z",
     "iopub.status.busy": "2023-02-25T07:19:10.062635Z",
     "iopub.status.idle": "2023-02-25T07:19:10.071457Z",
     "shell.execute_reply": "2023-02-25T07:19:10.070351Z"
    }
   },
   "outputs": [
    {
     "data": {
      "text/plain": [
       "<FastTreeValue 0x7f913cc59640>\n",
       "├── 'a' --> tensor([[-0.4360, -1.8670, -0.7582],\n",
       "│                   [-0.0349,  1.5001,  1.5903]])\n",
       "└── 'x' --> <FastTreeValue 0x7f913cc59a00>\n",
       "    └── 'c' --> tensor([[ 0.2928,  1.4587, -1.0161, -1.8239],\n",
       "                        [ 0.2954,  0.3656,  0.1234, -0.7910],\n",
       "                        [-1.0263,  0.5554,  0.3729,  0.0998]])"
      ]
     },
     "execution_count": 6,
     "metadata": {},
     "output_type": "execute_result"
    }
   ],
   "source": [
    "new_value = torch.randn(2, 3)\n",
    "t.a = new_value\n",
    "\n",
    "t"
   ]
  },
  {
   "cell_type": "code",
   "execution_count": 7,
   "id": "bbe04d1c",
   "metadata": {
    "execution": {
     "iopub.execute_input": "2023-02-25T07:19:10.075245Z",
     "iopub.status.busy": "2023-02-25T07:19:10.074662Z",
     "iopub.status.idle": "2023-02-25T07:19:17.433704Z",
     "shell.execute_reply": "2023-02-25T07:19:17.432710Z"
    }
   },
   "outputs": [
    {
     "name": "stdout",
     "output_type": "stream",
     "text": [
      "91.2 ns ± 0.836 ns per loop (mean ± std. dev. of 7 runs, 10,000,000 loops each)\n"
     ]
    }
   ],
   "source": [
    "%timeit t.a = new_value"
   ]
  },
  {
   "cell_type": "markdown",
   "id": "48c49731",
   "metadata": {},
   "source": [
    "### Tianshou Batch's Get and Set"
   ]
  },
  {
   "cell_type": "code",
   "execution_count": 8,
   "id": "f1bb14c1",
   "metadata": {
    "execution": {
     "iopub.execute_input": "2023-02-25T07:19:17.437439Z",
     "iopub.status.busy": "2023-02-25T07:19:17.437134Z",
     "iopub.status.idle": "2023-02-25T07:19:17.898934Z",
     "shell.execute_reply": "2023-02-25T07:19:17.897851Z"
    }
   },
   "outputs": [],
   "source": [
    "from tianshou.data import Batch\n",
    "\n",
    "b = Batch(**_TREE_DATA_2)"
   ]
  },
  {
   "cell_type": "code",
   "execution_count": 9,
   "id": "cb0777c3",
   "metadata": {
    "execution": {
     "iopub.execute_input": "2023-02-25T07:19:17.903969Z",
     "iopub.status.busy": "2023-02-25T07:19:17.903039Z",
     "iopub.status.idle": "2023-02-25T07:19:17.912070Z",
     "shell.execute_reply": "2023-02-25T07:19:17.911131Z"
    }
   },
   "outputs": [
    {
     "data": {
      "text/plain": [
       "Batch(\n",
       "    a: tensor([[-0.3717, -0.9159, -0.9777],\n",
       "               [-0.9135,  0.7139, -0.1748]]),\n",
       "    x: Batch(\n",
       "           c: tensor([[ 0.2928,  1.4587, -1.0161, -1.8239],\n",
       "                      [ 0.2954,  0.3656,  0.1234, -0.7910],\n",
       "                      [-1.0263,  0.5554,  0.3729,  0.0998]]),\n",
       "       ),\n",
       ")"
      ]
     },
     "execution_count": 9,
     "metadata": {},
     "output_type": "execute_result"
    }
   ],
   "source": [
    "b"
   ]
  },
  {
   "cell_type": "code",
   "execution_count": 10,
   "id": "43ef8ea3",
   "metadata": {
    "execution": {
     "iopub.execute_input": "2023-02-25T07:19:17.915370Z",
     "iopub.status.busy": "2023-02-25T07:19:17.914849Z",
     "iopub.status.idle": "2023-02-25T07:19:17.922758Z",
     "shell.execute_reply": "2023-02-25T07:19:17.921811Z"
    }
   },
   "outputs": [
    {
     "data": {
      "text/plain": [
       "tensor([[-0.3717, -0.9159, -0.9777],\n",
       "        [-0.9135,  0.7139, -0.1748]])"
      ]
     },
     "execution_count": 10,
     "metadata": {},
     "output_type": "execute_result"
    }
   ],
   "source": [
    "b.a"
   ]
  },
  {
   "cell_type": "code",
   "execution_count": 11,
   "id": "b785ab72",
   "metadata": {
    "execution": {
     "iopub.execute_input": "2023-02-25T07:19:17.926362Z",
     "iopub.status.busy": "2023-02-25T07:19:17.926066Z",
     "iopub.status.idle": "2023-02-25T07:19:23.758165Z",
     "shell.execute_reply": "2023-02-25T07:19:23.757166Z"
    }
   },
   "outputs": [
    {
     "name": "stdout",
     "output_type": "stream",
     "text": [
      "71.8 ns ± 0.94 ns per loop (mean ± std. dev. of 7 runs, 10,000,000 loops each)\n"
     ]
    }
   ],
   "source": [
    "%timeit b.a"
   ]
  },
  {
   "cell_type": "code",
   "execution_count": 12,
   "id": "ad54dc69",
   "metadata": {
    "execution": {
     "iopub.execute_input": "2023-02-25T07:19:23.762303Z",
     "iopub.status.busy": "2023-02-25T07:19:23.761562Z",
     "iopub.status.idle": "2023-02-25T07:19:23.771242Z",
     "shell.execute_reply": "2023-02-25T07:19:23.770139Z"
    }
   },
   "outputs": [
    {
     "data": {
      "text/plain": [
       "Batch(\n",
       "    a: tensor([[ 0.3792,  1.3291,  0.3455],\n",
       "               [ 1.4274, -0.1250,  1.2484]]),\n",
       "    x: Batch(\n",
       "           c: tensor([[ 0.2928,  1.4587, -1.0161, -1.8239],\n",
       "                      [ 0.2954,  0.3656,  0.1234, -0.7910],\n",
       "                      [-1.0263,  0.5554,  0.3729,  0.0998]]),\n",
       "       ),\n",
       ")"
      ]
     },
     "execution_count": 12,
     "metadata": {},
     "output_type": "execute_result"
    }
   ],
   "source": [
    "new_value = torch.randn(2, 3)\n",
    "b.a = new_value\n",
    "\n",
    "b"
   ]
  },
  {
   "cell_type": "code",
   "execution_count": 13,
   "id": "29b1d0bf",
   "metadata": {
    "execution": {
     "iopub.execute_input": "2023-02-25T07:19:23.774563Z",
     "iopub.status.busy": "2023-02-25T07:19:23.774259Z",
     "iopub.status.idle": "2023-02-25T07:19:28.795305Z",
     "shell.execute_reply": "2023-02-25T07:19:28.794032Z"
    }
   },
   "outputs": [
    {
     "name": "stdout",
     "output_type": "stream",
     "text": [
      "615 ns ± 10.3 ns per loop (mean ± std. dev. of 7 runs, 1,000,000 loops each)\n"
     ]
    }
   ],
   "source": [
    "%timeit b.a = new_value"
   ]
  },
  {
   "cell_type": "markdown",
   "id": "b61ad1d0",
   "metadata": {},
   "source": [
    "## Initialization"
   ]
  },
  {
   "cell_type": "markdown",
   "id": "d70f0d54",
   "metadata": {},
   "source": [
    "### TreeValue's Initialization"
   ]
  },
  {
   "cell_type": "code",
   "execution_count": 14,
   "id": "d32a679b",
   "metadata": {
    "execution": {
     "iopub.execute_input": "2023-02-25T07:19:28.798923Z",
     "iopub.status.busy": "2023-02-25T07:19:28.798665Z",
     "iopub.status.idle": "2023-02-25T07:19:38.709703Z",
     "shell.execute_reply": "2023-02-25T07:19:38.708488Z"
    }
   },
   "outputs": [
    {
     "name": "stdout",
     "output_type": "stream",
     "text": [
      "1.22 µs ± 26.2 ns per loop (mean ± std. dev. of 7 runs, 1,000,000 loops each)\n"
     ]
    }
   ],
   "source": [
    "%timeit FastTreeValue(_TREE_DATA_1)"
   ]
  },
  {
   "cell_type": "markdown",
   "id": "24f3707b",
   "metadata": {},
   "source": [
    "### Tianshou Batch's Initialization"
   ]
  },
  {
   "cell_type": "code",
   "execution_count": 15,
   "id": "ac3958df",
   "metadata": {
    "execution": {
     "iopub.execute_input": "2023-02-25T07:19:38.714560Z",
     "iopub.status.busy": "2023-02-25T07:19:38.714064Z",
     "iopub.status.idle": "2023-02-25T07:19:49.763497Z",
     "shell.execute_reply": "2023-02-25T07:19:49.762464Z"
    }
   },
   "outputs": [
    {
     "name": "stdout",
     "output_type": "stream",
     "text": [
      "13.6 µs ± 197 ns per loop (mean ± std. dev. of 7 runs, 100,000 loops each)\n"
     ]
    }
   ],
   "source": [
    "%timeit Batch(**_TREE_DATA_1)"
   ]
  },
  {
   "cell_type": "markdown",
   "id": "1ab82e2d",
   "metadata": {},
   "source": [
    "## Deep Copy Operation"
   ]
  },
  {
   "cell_type": "code",
   "execution_count": 16,
   "id": "210a9442",
   "metadata": {
    "execution": {
     "iopub.execute_input": "2023-02-25T07:19:49.767245Z",
     "iopub.status.busy": "2023-02-25T07:19:49.766792Z",
     "iopub.status.idle": "2023-02-25T07:19:49.771927Z",
     "shell.execute_reply": "2023-02-25T07:19:49.770800Z"
    }
   },
   "outputs": [],
   "source": [
    "import copy"
   ]
  },
  {
   "cell_type": "markdown",
   "id": "5a736274",
   "metadata": {},
   "source": [
    "### Deep Copy of TreeValue"
   ]
  },
  {
   "cell_type": "code",
   "execution_count": 17,
   "id": "f9bcadd6",
   "metadata": {
    "execution": {
     "iopub.execute_input": "2023-02-25T07:19:49.775597Z",
     "iopub.status.busy": "2023-02-25T07:19:49.775195Z",
     "iopub.status.idle": "2023-02-25T07:19:52.243354Z",
     "shell.execute_reply": "2023-02-25T07:19:52.242292Z"
    }
   },
   "outputs": [
    {
     "name": "stdout",
     "output_type": "stream",
     "text": [
      "306 µs ± 16.8 µs per loop (mean ± std. dev. of 7 runs, 1,000 loops each)\n"
     ]
    }
   ],
   "source": [
    "t3 = FastTreeValue(_TREE_DATA_3)\n",
    "%timeit copy.deepcopy(t3)"
   ]
  },
  {
   "cell_type": "markdown",
   "id": "bf8be7ea",
   "metadata": {},
   "source": [
    "### Deep Copy of Tianshou Batch"
   ]
  },
  {
   "cell_type": "code",
   "execution_count": 18,
   "id": "91998e6f",
   "metadata": {
    "execution": {
     "iopub.execute_input": "2023-02-25T07:19:52.247458Z",
     "iopub.status.busy": "2023-02-25T07:19:52.246756Z",
     "iopub.status.idle": "2023-02-25T07:19:54.815122Z",
     "shell.execute_reply": "2023-02-25T07:19:54.814243Z"
    }
   },
   "outputs": [
    {
     "name": "stdout",
     "output_type": "stream",
     "text": [
      "316 µs ± 18.2 µs per loop (mean ± std. dev. of 7 runs, 1,000 loops each)\n"
     ]
    }
   ],
   "source": [
    "b3 = Batch(**_TREE_DATA_3)\n",
    "%timeit copy.deepcopy(b3)"
   ]
  },
  {
   "cell_type": "markdown",
   "id": "223162fb",
   "metadata": {},
   "source": [
    "## Stack, Concat and Split Operation"
   ]
  },
  {
   "cell_type": "markdown",
   "id": "85fa4a73",
   "metadata": {},
   "source": [
    "### Performance of TreeValue"
   ]
  },
  {
   "cell_type": "code",
   "execution_count": 19,
   "id": "a0c2b697",
   "metadata": {
    "execution": {
     "iopub.execute_input": "2023-02-25T07:19:54.819078Z",
     "iopub.status.busy": "2023-02-25T07:19:54.818287Z",
     "iopub.status.idle": "2023-02-25T07:19:54.823775Z",
     "shell.execute_reply": "2023-02-25T07:19:54.822792Z"
    }
   },
   "outputs": [],
   "source": [
    "trees = [FastTreeValue(_TREE_DATA_2) for _ in range(8)]"
   ]
  },
  {
   "cell_type": "code",
   "execution_count": 20,
   "id": "017ea5a5",
   "metadata": {
    "execution": {
     "iopub.execute_input": "2023-02-25T07:19:54.827221Z",
     "iopub.status.busy": "2023-02-25T07:19:54.826929Z",
     "iopub.status.idle": "2023-02-25T07:19:54.836799Z",
     "shell.execute_reply": "2023-02-25T07:19:54.835367Z"
    }
   },
   "outputs": [
    {
     "data": {
      "text/plain": [
       "<FastTreeValue 0x7f9090a07100>\n",
       "├── 'a' --> tensor([[[-0.3717, -0.9159, -0.9777],\n",
       "│                    [-0.9135,  0.7139, -0.1748]],\n",
       "│           \n",
       "│                   [[-0.3717, -0.9159, -0.9777],\n",
       "│                    [-0.9135,  0.7139, -0.1748]],\n",
       "│           \n",
       "│                   [[-0.3717, -0.9159, -0.9777],\n",
       "│                    [-0.9135,  0.7139, -0.1748]],\n",
       "│           \n",
       "│                   [[-0.3717, -0.9159, -0.9777],\n",
       "│                    [-0.9135,  0.7139, -0.1748]],\n",
       "│           \n",
       "│                   [[-0.3717, -0.9159, -0.9777],\n",
       "│                    [-0.9135,  0.7139, -0.1748]],\n",
       "│           \n",
       "│                   [[-0.3717, -0.9159, -0.9777],\n",
       "│                    [-0.9135,  0.7139, -0.1748]],\n",
       "│           \n",
       "│                   [[-0.3717, -0.9159, -0.9777],\n",
       "│                    [-0.9135,  0.7139, -0.1748]],\n",
       "│           \n",
       "│                   [[-0.3717, -0.9159, -0.9777],\n",
       "│                    [-0.9135,  0.7139, -0.1748]]])\n",
       "└── 'x' --> <FastTreeValue 0x7f9114217670>\n",
       "    └── 'c' --> tensor([[[ 0.2928,  1.4587, -1.0161, -1.8239],\n",
       "                         [ 0.2954,  0.3656,  0.1234, -0.7910],\n",
       "                         [-1.0263,  0.5554,  0.3729,  0.0998]],\n",
       "                \n",
       "                        [[ 0.2928,  1.4587, -1.0161, -1.8239],\n",
       "                         [ 0.2954,  0.3656,  0.1234, -0.7910],\n",
       "                         [-1.0263,  0.5554,  0.3729,  0.0998]],\n",
       "                \n",
       "                        [[ 0.2928,  1.4587, -1.0161, -1.8239],\n",
       "                         [ 0.2954,  0.3656,  0.1234, -0.7910],\n",
       "                         [-1.0263,  0.5554,  0.3729,  0.0998]],\n",
       "                \n",
       "                        [[ 0.2928,  1.4587, -1.0161, -1.8239],\n",
       "                         [ 0.2954,  0.3656,  0.1234, -0.7910],\n",
       "                         [-1.0263,  0.5554,  0.3729,  0.0998]],\n",
       "                \n",
       "                        [[ 0.2928,  1.4587, -1.0161, -1.8239],\n",
       "                         [ 0.2954,  0.3656,  0.1234, -0.7910],\n",
       "                         [-1.0263,  0.5554,  0.3729,  0.0998]],\n",
       "                \n",
       "                        [[ 0.2928,  1.4587, -1.0161, -1.8239],\n",
       "                         [ 0.2954,  0.3656,  0.1234, -0.7910],\n",
       "                         [-1.0263,  0.5554,  0.3729,  0.0998]],\n",
       "                \n",
       "                        [[ 0.2928,  1.4587, -1.0161, -1.8239],\n",
       "                         [ 0.2954,  0.3656,  0.1234, -0.7910],\n",
       "                         [-1.0263,  0.5554,  0.3729,  0.0998]],\n",
       "                \n",
       "                        [[ 0.2928,  1.4587, -1.0161, -1.8239],\n",
       "                         [ 0.2954,  0.3656,  0.1234, -0.7910],\n",
       "                         [-1.0263,  0.5554,  0.3729,  0.0998]]])"
      ]
     },
     "execution_count": 20,
     "metadata": {},
     "output_type": "execute_result"
    }
   ],
   "source": [
    "t_stack = FastTreeValue.func(subside=True)(torch.stack)\n",
    "\n",
    "t_stack(trees)"
   ]
  },
  {
   "cell_type": "code",
   "execution_count": 21,
   "id": "f8b3f415",
   "metadata": {
    "execution": {
     "iopub.execute_input": "2023-02-25T07:19:54.841524Z",
     "iopub.status.busy": "2023-02-25T07:19:54.841242Z",
     "iopub.status.idle": "2023-02-25T07:19:58.566310Z",
     "shell.execute_reply": "2023-02-25T07:19:58.565251Z"
    }
   },
   "outputs": [
    {
     "name": "stdout",
     "output_type": "stream",
     "text": [
      "46.1 µs ± 2.31 µs per loop (mean ± std. dev. of 7 runs, 10,000 loops each)\n"
     ]
    }
   ],
   "source": [
    "%timeit t_stack(trees)"
   ]
  },
  {
   "cell_type": "code",
   "execution_count": 22,
   "id": "94b56771",
   "metadata": {
    "execution": {
     "iopub.execute_input": "2023-02-25T07:19:58.570050Z",
     "iopub.status.busy": "2023-02-25T07:19:58.569483Z",
     "iopub.status.idle": "2023-02-25T07:19:58.580102Z",
     "shell.execute_reply": "2023-02-25T07:19:58.578947Z"
    }
   },
   "outputs": [
    {
     "data": {
      "text/plain": [
       "<FastTreeValue 0x7f9090f4af10>\n",
       "├── 'a' --> tensor([[-0.3717, -0.9159, -0.9777],\n",
       "│                   [-0.9135,  0.7139, -0.1748],\n",
       "│                   [-0.3717, -0.9159, -0.9777],\n",
       "│                   [-0.9135,  0.7139, -0.1748],\n",
       "│                   [-0.3717, -0.9159, -0.9777],\n",
       "│                   [-0.9135,  0.7139, -0.1748],\n",
       "│                   [-0.3717, -0.9159, -0.9777],\n",
       "│                   [-0.9135,  0.7139, -0.1748],\n",
       "│                   [-0.3717, -0.9159, -0.9777],\n",
       "│                   [-0.9135,  0.7139, -0.1748],\n",
       "│                   [-0.3717, -0.9159, -0.9777],\n",
       "│                   [-0.9135,  0.7139, -0.1748],\n",
       "│                   [-0.3717, -0.9159, -0.9777],\n",
       "│                   [-0.9135,  0.7139, -0.1748],\n",
       "│                   [-0.3717, -0.9159, -0.9777],\n",
       "│                   [-0.9135,  0.7139, -0.1748]])\n",
       "└── 'x' --> <FastTreeValue 0x7f9090916250>\n",
       "    └── 'c' --> tensor([[ 0.2928,  1.4587, -1.0161, -1.8239],\n",
       "                        [ 0.2954,  0.3656,  0.1234, -0.7910],\n",
       "                        [-1.0263,  0.5554,  0.3729,  0.0998],\n",
       "                        [ 0.2928,  1.4587, -1.0161, -1.8239],\n",
       "                        [ 0.2954,  0.3656,  0.1234, -0.7910],\n",
       "                        [-1.0263,  0.5554,  0.3729,  0.0998],\n",
       "                        [ 0.2928,  1.4587, -1.0161, -1.8239],\n",
       "                        [ 0.2954,  0.3656,  0.1234, -0.7910],\n",
       "                        [-1.0263,  0.5554,  0.3729,  0.0998],\n",
       "                        [ 0.2928,  1.4587, -1.0161, -1.8239],\n",
       "                        [ 0.2954,  0.3656,  0.1234, -0.7910],\n",
       "                        [-1.0263,  0.5554,  0.3729,  0.0998],\n",
       "                        [ 0.2928,  1.4587, -1.0161, -1.8239],\n",
       "                        [ 0.2954,  0.3656,  0.1234, -0.7910],\n",
       "                        [-1.0263,  0.5554,  0.3729,  0.0998],\n",
       "                        [ 0.2928,  1.4587, -1.0161, -1.8239],\n",
       "                        [ 0.2954,  0.3656,  0.1234, -0.7910],\n",
       "                        [-1.0263,  0.5554,  0.3729,  0.0998],\n",
       "                        [ 0.2928,  1.4587, -1.0161, -1.8239],\n",
       "                        [ 0.2954,  0.3656,  0.1234, -0.7910],\n",
       "                        [-1.0263,  0.5554,  0.3729,  0.0998],\n",
       "                        [ 0.2928,  1.4587, -1.0161, -1.8239],\n",
       "                        [ 0.2954,  0.3656,  0.1234, -0.7910],\n",
       "                        [-1.0263,  0.5554,  0.3729,  0.0998]])"
      ]
     },
     "execution_count": 22,
     "metadata": {},
     "output_type": "execute_result"
    }
   ],
   "source": [
    "t_cat = FastTreeValue.func(subside=True)(torch.cat)\n",
    "\n",
    "t_cat(trees)"
   ]
  },
  {
   "cell_type": "code",
   "execution_count": 23,
   "id": "5e9c06a6",
   "metadata": {
    "execution": {
     "iopub.execute_input": "2023-02-25T07:19:58.583356Z",
     "iopub.status.busy": "2023-02-25T07:19:58.583055Z",
     "iopub.status.idle": "2023-02-25T07:20:02.194540Z",
     "shell.execute_reply": "2023-02-25T07:20:02.193547Z"
    }
   },
   "outputs": [
    {
     "name": "stdout",
     "output_type": "stream",
     "text": [
      "44.8 µs ± 3.51 µs per loop (mean ± std. dev. of 7 runs, 10,000 loops each)\n"
     ]
    }
   ],
   "source": [
    "%timeit t_cat(trees)"
   ]
  },
  {
   "cell_type": "code",
   "execution_count": 24,
   "id": "a3ab5c8f",
   "metadata": {
    "execution": {
     "iopub.execute_input": "2023-02-25T07:20:02.198285Z",
     "iopub.status.busy": "2023-02-25T07:20:02.197958Z",
     "iopub.status.idle": "2023-02-25T07:20:09.205254Z",
     "shell.execute_reply": "2023-02-25T07:20:09.204222Z"
    }
   },
   "outputs": [
    {
     "name": "stdout",
     "output_type": "stream",
     "text": [
      "86.1 µs ± 5.35 µs per loop (mean ± std. dev. of 7 runs, 10,000 loops each)\n"
     ]
    }
   ],
   "source": [
    "t_split = FastTreeValue.func(rise=True)(torch.split)\n",
    "tree = FastTreeValue({\n",
    "    'obs': torch.randn(8, 4, 84, 84),\n",
    "    'action': torch.randint(0, 6, size=(8, 1,)),\n",
    "    'reward': torch.rand(8, 1),\n",
    "})\n",
    "\n",
    "%timeit t_split(tree, 1)"
   ]
  },
  {
   "cell_type": "markdown",
   "id": "31c3ec0b",
   "metadata": {},
   "source": [
    "### Performance of Tianshou Batch"
   ]
  },
  {
   "cell_type": "code",
   "execution_count": 25,
   "id": "9ead828a",
   "metadata": {
    "execution": {
     "iopub.execute_input": "2023-02-25T07:20:09.209118Z",
     "iopub.status.busy": "2023-02-25T07:20:09.208817Z",
     "iopub.status.idle": "2023-02-25T07:20:09.220021Z",
     "shell.execute_reply": "2023-02-25T07:20:09.219028Z"
    }
   },
   "outputs": [
    {
     "data": {
      "text/plain": [
       "Batch(\n",
       "    x: Batch(\n",
       "           c: tensor([[[ 0.2928,  1.4587, -1.0161, -1.8239],\n",
       "                       [ 0.2954,  0.3656,  0.1234, -0.7910],\n",
       "                       [-1.0263,  0.5554,  0.3729,  0.0998]],\n",
       "              \n",
       "                      [[ 0.2928,  1.4587, -1.0161, -1.8239],\n",
       "                       [ 0.2954,  0.3656,  0.1234, -0.7910],\n",
       "                       [-1.0263,  0.5554,  0.3729,  0.0998]],\n",
       "              \n",
       "                      [[ 0.2928,  1.4587, -1.0161, -1.8239],\n",
       "                       [ 0.2954,  0.3656,  0.1234, -0.7910],\n",
       "                       [-1.0263,  0.5554,  0.3729,  0.0998]],\n",
       "              \n",
       "                      [[ 0.2928,  1.4587, -1.0161, -1.8239],\n",
       "                       [ 0.2954,  0.3656,  0.1234, -0.7910],\n",
       "                       [-1.0263,  0.5554,  0.3729,  0.0998]],\n",
       "              \n",
       "                      [[ 0.2928,  1.4587, -1.0161, -1.8239],\n",
       "                       [ 0.2954,  0.3656,  0.1234, -0.7910],\n",
       "                       [-1.0263,  0.5554,  0.3729,  0.0998]],\n",
       "              \n",
       "                      [[ 0.2928,  1.4587, -1.0161, -1.8239],\n",
       "                       [ 0.2954,  0.3656,  0.1234, -0.7910],\n",
       "                       [-1.0263,  0.5554,  0.3729,  0.0998]],\n",
       "              \n",
       "                      [[ 0.2928,  1.4587, -1.0161, -1.8239],\n",
       "                       [ 0.2954,  0.3656,  0.1234, -0.7910],\n",
       "                       [-1.0263,  0.5554,  0.3729,  0.0998]],\n",
       "              \n",
       "                      [[ 0.2928,  1.4587, -1.0161, -1.8239],\n",
       "                       [ 0.2954,  0.3656,  0.1234, -0.7910],\n",
       "                       [-1.0263,  0.5554,  0.3729,  0.0998]]]),\n",
       "       ),\n",
       "    a: tensor([[[-0.3717, -0.9159, -0.9777],\n",
       "                [-0.9135,  0.7139, -0.1748]],\n",
       "       \n",
       "               [[-0.3717, -0.9159, -0.9777],\n",
       "                [-0.9135,  0.7139, -0.1748]],\n",
       "       \n",
       "               [[-0.3717, -0.9159, -0.9777],\n",
       "                [-0.9135,  0.7139, -0.1748]],\n",
       "       \n",
       "               [[-0.3717, -0.9159, -0.9777],\n",
       "                [-0.9135,  0.7139, -0.1748]],\n",
       "       \n",
       "               [[-0.3717, -0.9159, -0.9777],\n",
       "                [-0.9135,  0.7139, -0.1748]],\n",
       "       \n",
       "               [[-0.3717, -0.9159, -0.9777],\n",
       "                [-0.9135,  0.7139, -0.1748]],\n",
       "       \n",
       "               [[-0.3717, -0.9159, -0.9777],\n",
       "                [-0.9135,  0.7139, -0.1748]],\n",
       "       \n",
       "               [[-0.3717, -0.9159, -0.9777],\n",
       "                [-0.9135,  0.7139, -0.1748]]]),\n",
       ")"
      ]
     },
     "execution_count": 25,
     "metadata": {},
     "output_type": "execute_result"
    }
   ],
   "source": [
    "batches = [Batch(**_TREE_DATA_2) for _ in range(8)]\n",
    "\n",
    "Batch.stack(batches)"
   ]
  },
  {
   "cell_type": "code",
   "execution_count": 26,
   "id": "ec9037a3",
   "metadata": {
    "execution": {
     "iopub.execute_input": "2023-02-25T07:20:09.223717Z",
     "iopub.status.busy": "2023-02-25T07:20:09.223410Z",
     "iopub.status.idle": "2023-02-25T07:20:17.569130Z",
     "shell.execute_reply": "2023-02-25T07:20:17.568120Z"
    }
   },
   "outputs": [
    {
     "name": "stdout",
     "output_type": "stream",
     "text": [
      "103 µs ± 4.87 µs per loop (mean ± std. dev. of 7 runs, 10,000 loops each)\n"
     ]
    }
   ],
   "source": [
    "%timeit Batch.stack(batches)"
   ]
  },
  {
   "cell_type": "code",
   "execution_count": 27,
   "id": "cb8ab77e",
   "metadata": {
    "execution": {
     "iopub.execute_input": "2023-02-25T07:20:17.573592Z",
     "iopub.status.busy": "2023-02-25T07:20:17.573063Z",
     "iopub.status.idle": "2023-02-25T07:20:17.582988Z",
     "shell.execute_reply": "2023-02-25T07:20:17.581999Z"
    }
   },
   "outputs": [
    {
     "data": {
      "text/plain": [
       "Batch(\n",
       "    x: Batch(\n",
       "           c: tensor([[ 0.2928,  1.4587, -1.0161, -1.8239],\n",
       "                      [ 0.2954,  0.3656,  0.1234, -0.7910],\n",
       "                      [-1.0263,  0.5554,  0.3729,  0.0998],\n",
       "                      [ 0.2928,  1.4587, -1.0161, -1.8239],\n",
       "                      [ 0.2954,  0.3656,  0.1234, -0.7910],\n",
       "                      [-1.0263,  0.5554,  0.3729,  0.0998],\n",
       "                      [ 0.2928,  1.4587, -1.0161, -1.8239],\n",
       "                      [ 0.2954,  0.3656,  0.1234, -0.7910],\n",
       "                      [-1.0263,  0.5554,  0.3729,  0.0998],\n",
       "                      [ 0.2928,  1.4587, -1.0161, -1.8239],\n",
       "                      [ 0.2954,  0.3656,  0.1234, -0.7910],\n",
       "                      [-1.0263,  0.5554,  0.3729,  0.0998],\n",
       "                      [ 0.2928,  1.4587, -1.0161, -1.8239],\n",
       "                      [ 0.2954,  0.3656,  0.1234, -0.7910],\n",
       "                      [-1.0263,  0.5554,  0.3729,  0.0998],\n",
       "                      [ 0.2928,  1.4587, -1.0161, -1.8239],\n",
       "                      [ 0.2954,  0.3656,  0.1234, -0.7910],\n",
       "                      [-1.0263,  0.5554,  0.3729,  0.0998],\n",
       "                      [ 0.2928,  1.4587, -1.0161, -1.8239],\n",
       "                      [ 0.2954,  0.3656,  0.1234, -0.7910],\n",
       "                      [-1.0263,  0.5554,  0.3729,  0.0998],\n",
       "                      [ 0.2928,  1.4587, -1.0161, -1.8239],\n",
       "                      [ 0.2954,  0.3656,  0.1234, -0.7910],\n",
       "                      [-1.0263,  0.5554,  0.3729,  0.0998]]),\n",
       "       ),\n",
       "    a: tensor([[-0.3717, -0.9159, -0.9777],\n",
       "               [-0.9135,  0.7139, -0.1748],\n",
       "               [-0.3717, -0.9159, -0.9777],\n",
       "               [-0.9135,  0.7139, -0.1748],\n",
       "               [-0.3717, -0.9159, -0.9777],\n",
       "               [-0.9135,  0.7139, -0.1748],\n",
       "               [-0.3717, -0.9159, -0.9777],\n",
       "               [-0.9135,  0.7139, -0.1748],\n",
       "               [-0.3717, -0.9159, -0.9777],\n",
       "               [-0.9135,  0.7139, -0.1748],\n",
       "               [-0.3717, -0.9159, -0.9777],\n",
       "               [-0.9135,  0.7139, -0.1748],\n",
       "               [-0.3717, -0.9159, -0.9777],\n",
       "               [-0.9135,  0.7139, -0.1748],\n",
       "               [-0.3717, -0.9159, -0.9777],\n",
       "               [-0.9135,  0.7139, -0.1748]]),\n",
       ")"
      ]
     },
     "execution_count": 27,
     "metadata": {},
     "output_type": "execute_result"
    }
   ],
   "source": [
    "Batch.cat(batches)"
   ]
  },
  {
   "cell_type": "code",
   "execution_count": 28,
   "id": "18dfb045",
   "metadata": {
    "execution": {
     "iopub.execute_input": "2023-02-25T07:20:17.586126Z",
     "iopub.status.busy": "2023-02-25T07:20:17.585805Z",
     "iopub.status.idle": "2023-02-25T07:20:32.743097Z",
     "shell.execute_reply": "2023-02-25T07:20:32.741960Z"
    }
   },
   "outputs": [
    {
     "name": "stdout",
     "output_type": "stream",
     "text": [
      "187 µs ± 1.66 µs per loop (mean ± std. dev. of 7 runs, 10,000 loops each)\n"
     ]
    }
   ],
   "source": [
    "%timeit Batch.cat(batches)"
   ]
  },
  {
   "cell_type": "code",
   "execution_count": 29,
   "id": "c6688e51",
   "metadata": {
    "execution": {
     "iopub.execute_input": "2023-02-25T07:20:32.746830Z",
     "iopub.status.busy": "2023-02-25T07:20:32.746361Z",
     "iopub.status.idle": "2023-02-25T07:20:37.763859Z",
     "shell.execute_reply": "2023-02-25T07:20:37.762998Z"
    }
   },
   "outputs": [
    {
     "name": "stdout",
     "output_type": "stream",
     "text": [
      "606 µs ± 18 µs per loop (mean ± std. dev. of 7 runs, 1,000 loops each)\n"
     ]
    }
   ],
   "source": [
    "batch = Batch({\n",
    "    'obs': torch.randn(8, 4, 84, 84),\n",
    "    'action': torch.randint(0, 6, size=(8, 1,)),\n",
    "    'reward': torch.rand(8, 1)}\n",
    ")\n",
    "\n",
    "%timeit list(Batch.split(batch, 1, shuffle=False, merge_last=True))"
   ]
  },
  {
   "cell_type": "code",
   "execution_count": null,
   "id": "2539fbd9",
   "metadata": {},
   "outputs": [],
   "source": []
  }
 ],
 "metadata": {
  "kernelspec": {
   "display_name": "Python 3 (ipykernel)",
   "language": "python",
   "name": "python3"
  },
  "language_info": {
   "codemirror_mode": {
    "name": "ipython",
    "version": 3
   },
   "file_extension": ".py",
   "mimetype": "text/x-python",
   "name": "python",
   "nbconvert_exporter": "python",
   "pygments_lexer": "ipython3",
   "version": "3.8.16"
  }
 },
 "nbformat": 4,
 "nbformat_minor": 5
}
