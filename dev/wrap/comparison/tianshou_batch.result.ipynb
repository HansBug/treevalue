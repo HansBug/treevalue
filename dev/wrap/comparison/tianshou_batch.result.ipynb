{
 "cells": [
  {
   "cell_type": "markdown",
   "id": "9d39d946",
   "metadata": {},
   "source": [
    "# Comparison Between TreeValue and Tianshou Batch"
   ]
  },
  {
   "cell_type": "markdown",
   "id": "3c6db2d4",
   "metadata": {},
   "source": [
    "In this section, we will take a look at the feature and performance of the [Tianshou Batch](https://github.com/thu-ml/tianshou) library, which is developed by Tsinghua Machine Learning Group."
   ]
  },
  {
   "cell_type": "markdown",
   "id": "069361b0",
   "metadata": {},
   "source": [
    "Before starting the comparison, let us define some thing."
   ]
  },
  {
   "cell_type": "code",
   "execution_count": 1,
   "id": "06fc8d26",
   "metadata": {
    "execution": {
     "iopub.execute_input": "2023-03-06T17:20:43.666416Z",
     "iopub.status.busy": "2023-03-06T17:20:43.665833Z",
     "iopub.status.idle": "2023-03-06T17:20:44.588670Z",
     "shell.execute_reply": "2023-03-06T17:20:44.587977Z"
    }
   },
   "outputs": [
    {
     "name": "stderr",
     "output_type": "stream",
     "text": [
      "/opt/hostedtoolcache/Python/3.8.16/x64/lib/python3.8/site-packages/tqdm/auto.py:21: TqdmWarning: IProgress not found. Please update jupyter and ipywidgets. See https://ipywidgets.readthedocs.io/en/stable/user_install.html\n",
      "  from .autonotebook import tqdm as notebook_tqdm\n"
     ]
    }
   ],
   "source": [
    "import torch \n",
    "\n",
    "_TREE_DATA_1 = {'a': 1, 'b': 2, 'x': {'c': 3, 'd': 4}}\n",
    "_TREE_DATA_2 = {\n",
    "    'a': torch.randn(2, 3), \n",
    "    'x': {\n",
    "        'c': torch.randn(3, 4)\n",
    "    },\n",
    "}\n",
    "_TREE_DATA_3 = {\n",
    "    'obs': torch.randn(4, 84, 84),\n",
    "    'action': torch.randint(0, 6, size=(1,)),\n",
    "    'reward': torch.rand(1),\n",
    "}"
   ]
  },
  {
   "cell_type": "markdown",
   "id": "83461b25",
   "metadata": {},
   "source": [
    "## Read and Write Operation"
   ]
  },
  {
   "cell_type": "markdown",
   "id": "067b3f73",
   "metadata": {},
   "source": [
    "Reading and writing are the two most common operations in the tree data structure based on the data model (TreeValue and Tianshou Batch both belong to this type), so this section will compare the reading and writing performance of these two libraries."
   ]
  },
  {
   "cell_type": "markdown",
   "id": "5d09a5b7",
   "metadata": {},
   "source": [
    "### TreeValue's Get and Set"
   ]
  },
  {
   "cell_type": "code",
   "execution_count": 2,
   "id": "9519c4bb",
   "metadata": {
    "execution": {
     "iopub.execute_input": "2023-03-06T17:20:44.592330Z",
     "iopub.status.busy": "2023-03-06T17:20:44.591647Z",
     "iopub.status.idle": "2023-03-06T17:20:44.625153Z",
     "shell.execute_reply": "2023-03-06T17:20:44.624516Z"
    }
   },
   "outputs": [],
   "source": [
    "from treevalue import FastTreeValue\n",
    "\n",
    "t = FastTreeValue(_TREE_DATA_2)"
   ]
  },
  {
   "cell_type": "code",
   "execution_count": 3,
   "id": "11c37677",
   "metadata": {
    "execution": {
     "iopub.execute_input": "2023-03-06T17:20:44.628168Z",
     "iopub.status.busy": "2023-03-06T17:20:44.627596Z",
     "iopub.status.idle": "2023-03-06T17:20:44.636979Z",
     "shell.execute_reply": "2023-03-06T17:20:44.636381Z"
    }
   },
   "outputs": [
    {
     "data": {
      "text/plain": [
       "<FastTreeValue 0x7f1bb8702f10>\n",
       "├── 'a' --> tensor([[-0.7650, -0.2770,  0.4788],\n",
       "│                   [ 1.0649,  0.8764, -0.7595]])\n",
       "└── 'x' --> <FastTreeValue 0x7f1bb8702df0>\n",
       "    └── 'c' --> tensor([[ 0.9560,  0.5494,  0.2953, -0.9362],\n",
       "                        [ 0.1601,  0.5042, -0.3439, -0.7823],\n",
       "                        [-1.6321,  1.9108, -0.2414, -0.1341]])"
      ]
     },
     "execution_count": 3,
     "metadata": {},
     "output_type": "execute_result"
    }
   ],
   "source": [
    "t"
   ]
  },
  {
   "cell_type": "code",
   "execution_count": 4,
   "id": "fd70b0b9",
   "metadata": {
    "execution": {
     "iopub.execute_input": "2023-03-06T17:20:44.639780Z",
     "iopub.status.busy": "2023-03-06T17:20:44.639257Z",
     "iopub.status.idle": "2023-03-06T17:20:44.644012Z",
     "shell.execute_reply": "2023-03-06T17:20:44.643411Z"
    }
   },
   "outputs": [
    {
     "data": {
      "text/plain": [
       "tensor([[-0.7650, -0.2770,  0.4788],\n",
       "        [ 1.0649,  0.8764, -0.7595]])"
      ]
     },
     "execution_count": 4,
     "metadata": {},
     "output_type": "execute_result"
    }
   ],
   "source": [
    "t.a"
   ]
  },
  {
   "cell_type": "code",
   "execution_count": 5,
   "id": "c18197bd",
   "metadata": {
    "execution": {
     "iopub.execute_input": "2023-03-06T17:20:44.646988Z",
     "iopub.status.busy": "2023-03-06T17:20:44.646511Z",
     "iopub.status.idle": "2023-03-06T17:20:49.642552Z",
     "shell.execute_reply": "2023-03-06T17:20:49.641784Z"
    }
   },
   "outputs": [
    {
     "name": "stdout",
     "output_type": "stream",
     "text": [
      "61.3 ns ± 0.0415 ns per loop (mean ± std. dev. of 7 runs, 10,000,000 loops each)\n"
     ]
    }
   ],
   "source": [
    "%timeit t.a"
   ]
  },
  {
   "cell_type": "code",
   "execution_count": 6,
   "id": "bd52f867",
   "metadata": {
    "execution": {
     "iopub.execute_input": "2023-03-06T17:20:49.645604Z",
     "iopub.status.busy": "2023-03-06T17:20:49.645014Z",
     "iopub.status.idle": "2023-03-06T17:20:49.651541Z",
     "shell.execute_reply": "2023-03-06T17:20:49.650971Z"
    }
   },
   "outputs": [
    {
     "data": {
      "text/plain": [
       "<FastTreeValue 0x7f1bb8702f10>\n",
       "├── 'a' --> tensor([[-1.0415, -0.8927,  0.3039],\n",
       "│                   [-0.2076, -0.0214,  0.9917]])\n",
       "└── 'x' --> <FastTreeValue 0x7f1bb8702df0>\n",
       "    └── 'c' --> tensor([[ 0.9560,  0.5494,  0.2953, -0.9362],\n",
       "                        [ 0.1601,  0.5042, -0.3439, -0.7823],\n",
       "                        [-1.6321,  1.9108, -0.2414, -0.1341]])"
      ]
     },
     "execution_count": 6,
     "metadata": {},
     "output_type": "execute_result"
    }
   ],
   "source": [
    "new_value = torch.randn(2, 3)\n",
    "t.a = new_value\n",
    "\n",
    "t"
   ]
  },
  {
   "cell_type": "code",
   "execution_count": 7,
   "id": "bbe04d1c",
   "metadata": {
    "execution": {
     "iopub.execute_input": "2023-03-06T17:20:49.654214Z",
     "iopub.status.busy": "2023-03-06T17:20:49.653876Z",
     "iopub.status.idle": "2023-03-06T17:20:55.178239Z",
     "shell.execute_reply": "2023-03-06T17:20:55.177498Z"
    }
   },
   "outputs": [
    {
     "name": "stdout",
     "output_type": "stream",
     "text": [
      "67.9 ns ± 0.0323 ns per loop (mean ± std. dev. of 7 runs, 10,000,000 loops each)\n"
     ]
    }
   ],
   "source": [
    "%timeit t.a = new_value"
   ]
  },
  {
   "cell_type": "markdown",
   "id": "48c49731",
   "metadata": {},
   "source": [
    "### Tianshou Batch's Get and Set"
   ]
  },
  {
   "cell_type": "code",
   "execution_count": 8,
   "id": "f1bb14c1",
   "metadata": {
    "execution": {
     "iopub.execute_input": "2023-03-06T17:20:55.181299Z",
     "iopub.status.busy": "2023-03-06T17:20:55.180766Z",
     "iopub.status.idle": "2023-03-06T17:20:55.513669Z",
     "shell.execute_reply": "2023-03-06T17:20:55.512996Z"
    }
   },
   "outputs": [],
   "source": [
    "from tianshou.data import Batch\n",
    "\n",
    "b = Batch(**_TREE_DATA_2)"
   ]
  },
  {
   "cell_type": "code",
   "execution_count": 9,
   "id": "cb0777c3",
   "metadata": {
    "execution": {
     "iopub.execute_input": "2023-03-06T17:20:55.517365Z",
     "iopub.status.busy": "2023-03-06T17:20:55.516617Z",
     "iopub.status.idle": "2023-03-06T17:20:55.523690Z",
     "shell.execute_reply": "2023-03-06T17:20:55.523123Z"
    }
   },
   "outputs": [
    {
     "data": {
      "text/plain": [
       "Batch(\n",
       "    a: tensor([[-0.7650, -0.2770,  0.4788],\n",
       "               [ 1.0649,  0.8764, -0.7595]]),\n",
       "    x: Batch(\n",
       "           c: tensor([[ 0.9560,  0.5494,  0.2953, -0.9362],\n",
       "                      [ 0.1601,  0.5042, -0.3439, -0.7823],\n",
       "                      [-1.6321,  1.9108, -0.2414, -0.1341]]),\n",
       "       ),\n",
       ")"
      ]
     },
     "execution_count": 9,
     "metadata": {},
     "output_type": "execute_result"
    }
   ],
   "source": [
    "b"
   ]
  },
  {
   "cell_type": "code",
   "execution_count": 10,
   "id": "43ef8ea3",
   "metadata": {
    "execution": {
     "iopub.execute_input": "2023-03-06T17:20:55.526629Z",
     "iopub.status.busy": "2023-03-06T17:20:55.526107Z",
     "iopub.status.idle": "2023-03-06T17:20:55.532020Z",
     "shell.execute_reply": "2023-03-06T17:20:55.531451Z"
    }
   },
   "outputs": [
    {
     "data": {
      "text/plain": [
       "tensor([[-0.7650, -0.2770,  0.4788],\n",
       "        [ 1.0649,  0.8764, -0.7595]])"
      ]
     },
     "execution_count": 10,
     "metadata": {},
     "output_type": "execute_result"
    }
   ],
   "source": [
    "b.a"
   ]
  },
  {
   "cell_type": "code",
   "execution_count": 11,
   "id": "b785ab72",
   "metadata": {
    "execution": {
     "iopub.execute_input": "2023-03-06T17:20:55.534803Z",
     "iopub.status.busy": "2023-03-06T17:20:55.534325Z",
     "iopub.status.idle": "2023-03-06T17:21:00.282078Z",
     "shell.execute_reply": "2023-03-06T17:21:00.281386Z"
    }
   },
   "outputs": [
    {
     "name": "stdout",
     "output_type": "stream",
     "text": [
      "58.6 ns ± 0.0531 ns per loop (mean ± std. dev. of 7 runs, 10,000,000 loops each)\n"
     ]
    }
   ],
   "source": [
    "%timeit b.a"
   ]
  },
  {
   "cell_type": "code",
   "execution_count": 12,
   "id": "ad54dc69",
   "metadata": {
    "execution": {
     "iopub.execute_input": "2023-03-06T17:21:00.285448Z",
     "iopub.status.busy": "2023-03-06T17:21:00.284794Z",
     "iopub.status.idle": "2023-03-06T17:21:00.291442Z",
     "shell.execute_reply": "2023-03-06T17:21:00.290848Z"
    }
   },
   "outputs": [
    {
     "data": {
      "text/plain": [
       "Batch(\n",
       "    a: tensor([[ 0.3724,  0.7445, -0.3935],\n",
       "               [-1.7135,  1.1183, -0.7893]]),\n",
       "    x: Batch(\n",
       "           c: tensor([[ 0.9560,  0.5494,  0.2953, -0.9362],\n",
       "                      [ 0.1601,  0.5042, -0.3439, -0.7823],\n",
       "                      [-1.6321,  1.9108, -0.2414, -0.1341]]),\n",
       "       ),\n",
       ")"
      ]
     },
     "execution_count": 12,
     "metadata": {},
     "output_type": "execute_result"
    }
   ],
   "source": [
    "new_value = torch.randn(2, 3)\n",
    "b.a = new_value\n",
    "\n",
    "b"
   ]
  },
  {
   "cell_type": "code",
   "execution_count": 13,
   "id": "29b1d0bf",
   "metadata": {
    "execution": {
     "iopub.execute_input": "2023-03-06T17:21:00.294258Z",
     "iopub.status.busy": "2023-03-06T17:21:00.293916Z",
     "iopub.status.idle": "2023-03-06T17:21:04.188698Z",
     "shell.execute_reply": "2023-03-06T17:21:04.187982Z"
    }
   },
   "outputs": [
    {
     "name": "stdout",
     "output_type": "stream",
     "text": [
      "479 ns ± 0.125 ns per loop (mean ± std. dev. of 7 runs, 1,000,000 loops each)\n"
     ]
    }
   ],
   "source": [
    "%timeit b.a = new_value"
   ]
  },
  {
   "cell_type": "markdown",
   "id": "b61ad1d0",
   "metadata": {},
   "source": [
    "## Initialization"
   ]
  },
  {
   "cell_type": "markdown",
   "id": "d70f0d54",
   "metadata": {},
   "source": [
    "### TreeValue's Initialization"
   ]
  },
  {
   "cell_type": "code",
   "execution_count": 14,
   "id": "d32a679b",
   "metadata": {
    "execution": {
     "iopub.execute_input": "2023-03-06T17:21:04.191609Z",
     "iopub.status.busy": "2023-03-06T17:21:04.191265Z",
     "iopub.status.idle": "2023-03-06T17:21:11.280304Z",
     "shell.execute_reply": "2023-03-06T17:21:11.279569Z"
    }
   },
   "outputs": [
    {
     "name": "stdout",
     "output_type": "stream",
     "text": [
      "874 ns ± 1.65 ns per loop (mean ± std. dev. of 7 runs, 1,000,000 loops each)\n"
     ]
    }
   ],
   "source": [
    "%timeit FastTreeValue(_TREE_DATA_1)"
   ]
  },
  {
   "cell_type": "markdown",
   "id": "24f3707b",
   "metadata": {},
   "source": [
    "### Tianshou Batch's Initialization"
   ]
  },
  {
   "cell_type": "code",
   "execution_count": 15,
   "id": "ac3958df",
   "metadata": {
    "execution": {
     "iopub.execute_input": "2023-03-06T17:21:11.283234Z",
     "iopub.status.busy": "2023-03-06T17:21:11.282859Z",
     "iopub.status.idle": "2023-03-06T17:21:20.589589Z",
     "shell.execute_reply": "2023-03-06T17:21:20.588871Z"
    }
   },
   "outputs": [
    {
     "name": "stdout",
     "output_type": "stream",
     "text": [
      "11.5 µs ± 36.5 ns per loop (mean ± std. dev. of 7 runs, 100,000 loops each)\n"
     ]
    }
   ],
   "source": [
    "%timeit Batch(**_TREE_DATA_1)"
   ]
  },
  {
   "cell_type": "markdown",
   "id": "1ab82e2d",
   "metadata": {},
   "source": [
    "## Deep Copy Operation"
   ]
  },
  {
   "cell_type": "code",
   "execution_count": 16,
   "id": "210a9442",
   "metadata": {
    "execution": {
     "iopub.execute_input": "2023-03-06T17:21:20.592949Z",
     "iopub.status.busy": "2023-03-06T17:21:20.592405Z",
     "iopub.status.idle": "2023-03-06T17:21:20.596509Z",
     "shell.execute_reply": "2023-03-06T17:21:20.595890Z"
    }
   },
   "outputs": [],
   "source": [
    "import copy"
   ]
  },
  {
   "cell_type": "markdown",
   "id": "5a736274",
   "metadata": {},
   "source": [
    "### Deep Copy of TreeValue"
   ]
  },
  {
   "cell_type": "code",
   "execution_count": 17,
   "id": "f9bcadd6",
   "metadata": {
    "execution": {
     "iopub.execute_input": "2023-03-06T17:21:20.599628Z",
     "iopub.status.busy": "2023-03-06T17:21:20.599041Z",
     "iopub.status.idle": "2023-03-06T17:21:31.591398Z",
     "shell.execute_reply": "2023-03-06T17:21:31.590627Z"
    }
   },
   "outputs": [
    {
     "name": "stdout",
     "output_type": "stream",
     "text": [
      "135 µs ± 286 ns per loop (mean ± std. dev. of 7 runs, 10,000 loops each)\n"
     ]
    }
   ],
   "source": [
    "t3 = FastTreeValue(_TREE_DATA_3)\n",
    "%timeit copy.deepcopy(t3)"
   ]
  },
  {
   "cell_type": "markdown",
   "id": "bf8be7ea",
   "metadata": {},
   "source": [
    "### Deep Copy of Tianshou Batch"
   ]
  },
  {
   "cell_type": "code",
   "execution_count": 18,
   "id": "91998e6f",
   "metadata": {
    "execution": {
     "iopub.execute_input": "2023-03-06T17:21:31.595047Z",
     "iopub.status.busy": "2023-03-06T17:21:31.594035Z",
     "iopub.status.idle": "2023-03-06T17:21:42.779234Z",
     "shell.execute_reply": "2023-03-06T17:21:42.778527Z"
    }
   },
   "outputs": [
    {
     "name": "stdout",
     "output_type": "stream",
     "text": [
      "138 µs ± 358 ns per loop (mean ± std. dev. of 7 runs, 10,000 loops each)\n"
     ]
    }
   ],
   "source": [
    "b3 = Batch(**_TREE_DATA_3)\n",
    "%timeit copy.deepcopy(b3)"
   ]
  },
  {
   "cell_type": "markdown",
   "id": "223162fb",
   "metadata": {},
   "source": [
    "## Stack, Concat and Split Operation"
   ]
  },
  {
   "cell_type": "markdown",
   "id": "85fa4a73",
   "metadata": {},
   "source": [
    "### Performance of TreeValue"
   ]
  },
  {
   "cell_type": "code",
   "execution_count": 19,
   "id": "a0c2b697",
   "metadata": {
    "execution": {
     "iopub.execute_input": "2023-03-06T17:21:42.782615Z",
     "iopub.status.busy": "2023-03-06T17:21:42.782361Z",
     "iopub.status.idle": "2023-03-06T17:21:42.786346Z",
     "shell.execute_reply": "2023-03-06T17:21:42.785745Z"
    }
   },
   "outputs": [],
   "source": [
    "trees = [FastTreeValue(_TREE_DATA_2) for _ in range(8)]"
   ]
  },
  {
   "cell_type": "code",
   "execution_count": 20,
   "id": "017ea5a5",
   "metadata": {
    "execution": {
     "iopub.execute_input": "2023-03-06T17:21:42.789345Z",
     "iopub.status.busy": "2023-03-06T17:21:42.788768Z",
     "iopub.status.idle": "2023-03-06T17:21:42.795602Z",
     "shell.execute_reply": "2023-03-06T17:21:42.795099Z"
    }
   },
   "outputs": [
    {
     "data": {
      "text/plain": [
       "<FastTreeValue 0x7f1bb8702ee0>\n",
       "├── 'a' --> tensor([[[-0.7650, -0.2770,  0.4788],\n",
       "│                    [ 1.0649,  0.8764, -0.7595]],\n",
       "│           \n",
       "│                   [[-0.7650, -0.2770,  0.4788],\n",
       "│                    [ 1.0649,  0.8764, -0.7595]],\n",
       "│           \n",
       "│                   [[-0.7650, -0.2770,  0.4788],\n",
       "│                    [ 1.0649,  0.8764, -0.7595]],\n",
       "│           \n",
       "│                   [[-0.7650, -0.2770,  0.4788],\n",
       "│                    [ 1.0649,  0.8764, -0.7595]],\n",
       "│           \n",
       "│                   [[-0.7650, -0.2770,  0.4788],\n",
       "│                    [ 1.0649,  0.8764, -0.7595]],\n",
       "│           \n",
       "│                   [[-0.7650, -0.2770,  0.4788],\n",
       "│                    [ 1.0649,  0.8764, -0.7595]],\n",
       "│           \n",
       "│                   [[-0.7650, -0.2770,  0.4788],\n",
       "│                    [ 1.0649,  0.8764, -0.7595]],\n",
       "│           \n",
       "│                   [[-0.7650, -0.2770,  0.4788],\n",
       "│                    [ 1.0649,  0.8764, -0.7595]]])\n",
       "└── 'x' --> <FastTreeValue 0x7f1b0e9a0d00>\n",
       "    └── 'c' --> tensor([[[ 0.9560,  0.5494,  0.2953, -0.9362],\n",
       "                         [ 0.1601,  0.5042, -0.3439, -0.7823],\n",
       "                         [-1.6321,  1.9108, -0.2414, -0.1341]],\n",
       "                \n",
       "                        [[ 0.9560,  0.5494,  0.2953, -0.9362],\n",
       "                         [ 0.1601,  0.5042, -0.3439, -0.7823],\n",
       "                         [-1.6321,  1.9108, -0.2414, -0.1341]],\n",
       "                \n",
       "                        [[ 0.9560,  0.5494,  0.2953, -0.9362],\n",
       "                         [ 0.1601,  0.5042, -0.3439, -0.7823],\n",
       "                         [-1.6321,  1.9108, -0.2414, -0.1341]],\n",
       "                \n",
       "                        [[ 0.9560,  0.5494,  0.2953, -0.9362],\n",
       "                         [ 0.1601,  0.5042, -0.3439, -0.7823],\n",
       "                         [-1.6321,  1.9108, -0.2414, -0.1341]],\n",
       "                \n",
       "                        [[ 0.9560,  0.5494,  0.2953, -0.9362],\n",
       "                         [ 0.1601,  0.5042, -0.3439, -0.7823],\n",
       "                         [-1.6321,  1.9108, -0.2414, -0.1341]],\n",
       "                \n",
       "                        [[ 0.9560,  0.5494,  0.2953, -0.9362],\n",
       "                         [ 0.1601,  0.5042, -0.3439, -0.7823],\n",
       "                         [-1.6321,  1.9108, -0.2414, -0.1341]],\n",
       "                \n",
       "                        [[ 0.9560,  0.5494,  0.2953, -0.9362],\n",
       "                         [ 0.1601,  0.5042, -0.3439, -0.7823],\n",
       "                         [-1.6321,  1.9108, -0.2414, -0.1341]],\n",
       "                \n",
       "                        [[ 0.9560,  0.5494,  0.2953, -0.9362],\n",
       "                         [ 0.1601,  0.5042, -0.3439, -0.7823],\n",
       "                         [-1.6321,  1.9108, -0.2414, -0.1341]]])"
      ]
     },
     "execution_count": 20,
     "metadata": {},
     "output_type": "execute_result"
    }
   ],
   "source": [
    "t_stack = FastTreeValue.func(subside=True)(torch.stack)\n",
    "\n",
    "t_stack(trees)"
   ]
  },
  {
   "cell_type": "code",
   "execution_count": 21,
   "id": "f8b3f415",
   "metadata": {
    "execution": {
     "iopub.execute_input": "2023-03-06T17:21:42.798140Z",
     "iopub.status.busy": "2023-03-06T17:21:42.797585Z",
     "iopub.status.idle": "2023-03-06T17:21:45.428490Z",
     "shell.execute_reply": "2023-03-06T17:21:45.427759Z"
    }
   },
   "outputs": [
    {
     "name": "stdout",
     "output_type": "stream",
     "text": [
      "32.4 µs ± 67.9 ns per loop (mean ± std. dev. of 7 runs, 10,000 loops each)\n"
     ]
    }
   ],
   "source": [
    "%timeit t_stack(trees)"
   ]
  },
  {
   "cell_type": "code",
   "execution_count": 22,
   "id": "94b56771",
   "metadata": {
    "execution": {
     "iopub.execute_input": "2023-03-06T17:21:45.431696Z",
     "iopub.status.busy": "2023-03-06T17:21:45.431318Z",
     "iopub.status.idle": "2023-03-06T17:21:45.438506Z",
     "shell.execute_reply": "2023-03-06T17:21:45.437889Z"
    }
   },
   "outputs": [
    {
     "data": {
      "text/plain": [
       "<FastTreeValue 0x7f1b0e3680d0>\n",
       "├── 'a' --> tensor([[-0.7650, -0.2770,  0.4788],\n",
       "│                   [ 1.0649,  0.8764, -0.7595],\n",
       "│                   [-0.7650, -0.2770,  0.4788],\n",
       "│                   [ 1.0649,  0.8764, -0.7595],\n",
       "│                   [-0.7650, -0.2770,  0.4788],\n",
       "│                   [ 1.0649,  0.8764, -0.7595],\n",
       "│                   [-0.7650, -0.2770,  0.4788],\n",
       "│                   [ 1.0649,  0.8764, -0.7595],\n",
       "│                   [-0.7650, -0.2770,  0.4788],\n",
       "│                   [ 1.0649,  0.8764, -0.7595],\n",
       "│                   [-0.7650, -0.2770,  0.4788],\n",
       "│                   [ 1.0649,  0.8764, -0.7595],\n",
       "│                   [-0.7650, -0.2770,  0.4788],\n",
       "│                   [ 1.0649,  0.8764, -0.7595],\n",
       "│                   [-0.7650, -0.2770,  0.4788],\n",
       "│                   [ 1.0649,  0.8764, -0.7595]])\n",
       "└── 'x' --> <FastTreeValue 0x7f1bb869f4f0>\n",
       "    └── 'c' --> tensor([[ 0.9560,  0.5494,  0.2953, -0.9362],\n",
       "                        [ 0.1601,  0.5042, -0.3439, -0.7823],\n",
       "                        [-1.6321,  1.9108, -0.2414, -0.1341],\n",
       "                        [ 0.9560,  0.5494,  0.2953, -0.9362],\n",
       "                        [ 0.1601,  0.5042, -0.3439, -0.7823],\n",
       "                        [-1.6321,  1.9108, -0.2414, -0.1341],\n",
       "                        [ 0.9560,  0.5494,  0.2953, -0.9362],\n",
       "                        [ 0.1601,  0.5042, -0.3439, -0.7823],\n",
       "                        [-1.6321,  1.9108, -0.2414, -0.1341],\n",
       "                        [ 0.9560,  0.5494,  0.2953, -0.9362],\n",
       "                        [ 0.1601,  0.5042, -0.3439, -0.7823],\n",
       "                        [-1.6321,  1.9108, -0.2414, -0.1341],\n",
       "                        [ 0.9560,  0.5494,  0.2953, -0.9362],\n",
       "                        [ 0.1601,  0.5042, -0.3439, -0.7823],\n",
       "                        [-1.6321,  1.9108, -0.2414, -0.1341],\n",
       "                        [ 0.9560,  0.5494,  0.2953, -0.9362],\n",
       "                        [ 0.1601,  0.5042, -0.3439, -0.7823],\n",
       "                        [-1.6321,  1.9108, -0.2414, -0.1341],\n",
       "                        [ 0.9560,  0.5494,  0.2953, -0.9362],\n",
       "                        [ 0.1601,  0.5042, -0.3439, -0.7823],\n",
       "                        [-1.6321,  1.9108, -0.2414, -0.1341],\n",
       "                        [ 0.9560,  0.5494,  0.2953, -0.9362],\n",
       "                        [ 0.1601,  0.5042, -0.3439, -0.7823],\n",
       "                        [-1.6321,  1.9108, -0.2414, -0.1341]])"
      ]
     },
     "execution_count": 22,
     "metadata": {},
     "output_type": "execute_result"
    }
   ],
   "source": [
    "t_cat = FastTreeValue.func(subside=True)(torch.cat)\n",
    "\n",
    "t_cat(trees)"
   ]
  },
  {
   "cell_type": "code",
   "execution_count": 23,
   "id": "5e9c06a6",
   "metadata": {
    "execution": {
     "iopub.execute_input": "2023-03-06T17:21:45.441514Z",
     "iopub.status.busy": "2023-03-06T17:21:45.441037Z",
     "iopub.status.idle": "2023-03-06T17:21:47.923716Z",
     "shell.execute_reply": "2023-03-06T17:21:47.923147Z"
    }
   },
   "outputs": [
    {
     "name": "stdout",
     "output_type": "stream",
     "text": [
      "30.5 µs ± 56.4 ns per loop (mean ± std. dev. of 7 runs, 10,000 loops each)\n"
     ]
    }
   ],
   "source": [
    "%timeit t_cat(trees)"
   ]
  },
  {
   "cell_type": "code",
   "execution_count": 24,
   "id": "a3ab5c8f",
   "metadata": {
    "execution": {
     "iopub.execute_input": "2023-03-06T17:21:47.926604Z",
     "iopub.status.busy": "2023-03-06T17:21:47.926250Z",
     "iopub.status.idle": "2023-03-06T17:21:52.829876Z",
     "shell.execute_reply": "2023-03-06T17:21:52.829164Z"
    }
   },
   "outputs": [
    {
     "name": "stdout",
     "output_type": "stream",
     "text": [
      "60.3 µs ± 53.9 ns per loop (mean ± std. dev. of 7 runs, 10,000 loops each)\n"
     ]
    }
   ],
   "source": [
    "t_split = FastTreeValue.func(rise=True)(torch.split)\n",
    "tree = FastTreeValue({\n",
    "    'obs': torch.randn(8, 4, 84, 84),\n",
    "    'action': torch.randint(0, 6, size=(8, 1,)),\n",
    "    'reward': torch.rand(8, 1),\n",
    "})\n",
    "\n",
    "%timeit t_split(tree, 1)"
   ]
  },
  {
   "cell_type": "markdown",
   "id": "31c3ec0b",
   "metadata": {},
   "source": [
    "### Performance of Tianshou Batch"
   ]
  },
  {
   "cell_type": "code",
   "execution_count": 25,
   "id": "9ead828a",
   "metadata": {
    "execution": {
     "iopub.execute_input": "2023-03-06T17:21:52.833065Z",
     "iopub.status.busy": "2023-03-06T17:21:52.832698Z",
     "iopub.status.idle": "2023-03-06T17:21:52.841495Z",
     "shell.execute_reply": "2023-03-06T17:21:52.840846Z"
    }
   },
   "outputs": [
    {
     "data": {
      "text/plain": [
       "Batch(\n",
       "    a: tensor([[[-0.7650, -0.2770,  0.4788],\n",
       "                [ 1.0649,  0.8764, -0.7595]],\n",
       "       \n",
       "               [[-0.7650, -0.2770,  0.4788],\n",
       "                [ 1.0649,  0.8764, -0.7595]],\n",
       "       \n",
       "               [[-0.7650, -0.2770,  0.4788],\n",
       "                [ 1.0649,  0.8764, -0.7595]],\n",
       "       \n",
       "               [[-0.7650, -0.2770,  0.4788],\n",
       "                [ 1.0649,  0.8764, -0.7595]],\n",
       "       \n",
       "               [[-0.7650, -0.2770,  0.4788],\n",
       "                [ 1.0649,  0.8764, -0.7595]],\n",
       "       \n",
       "               [[-0.7650, -0.2770,  0.4788],\n",
       "                [ 1.0649,  0.8764, -0.7595]],\n",
       "       \n",
       "               [[-0.7650, -0.2770,  0.4788],\n",
       "                [ 1.0649,  0.8764, -0.7595]],\n",
       "       \n",
       "               [[-0.7650, -0.2770,  0.4788],\n",
       "                [ 1.0649,  0.8764, -0.7595]]]),\n",
       "    x: Batch(\n",
       "           c: tensor([[[ 0.9560,  0.5494,  0.2953, -0.9362],\n",
       "                       [ 0.1601,  0.5042, -0.3439, -0.7823],\n",
       "                       [-1.6321,  1.9108, -0.2414, -0.1341]],\n",
       "              \n",
       "                      [[ 0.9560,  0.5494,  0.2953, -0.9362],\n",
       "                       [ 0.1601,  0.5042, -0.3439, -0.7823],\n",
       "                       [-1.6321,  1.9108, -0.2414, -0.1341]],\n",
       "              \n",
       "                      [[ 0.9560,  0.5494,  0.2953, -0.9362],\n",
       "                       [ 0.1601,  0.5042, -0.3439, -0.7823],\n",
       "                       [-1.6321,  1.9108, -0.2414, -0.1341]],\n",
       "              \n",
       "                      [[ 0.9560,  0.5494,  0.2953, -0.9362],\n",
       "                       [ 0.1601,  0.5042, -0.3439, -0.7823],\n",
       "                       [-1.6321,  1.9108, -0.2414, -0.1341]],\n",
       "              \n",
       "                      [[ 0.9560,  0.5494,  0.2953, -0.9362],\n",
       "                       [ 0.1601,  0.5042, -0.3439, -0.7823],\n",
       "                       [-1.6321,  1.9108, -0.2414, -0.1341]],\n",
       "              \n",
       "                      [[ 0.9560,  0.5494,  0.2953, -0.9362],\n",
       "                       [ 0.1601,  0.5042, -0.3439, -0.7823],\n",
       "                       [-1.6321,  1.9108, -0.2414, -0.1341]],\n",
       "              \n",
       "                      [[ 0.9560,  0.5494,  0.2953, -0.9362],\n",
       "                       [ 0.1601,  0.5042, -0.3439, -0.7823],\n",
       "                       [-1.6321,  1.9108, -0.2414, -0.1341]],\n",
       "              \n",
       "                      [[ 0.9560,  0.5494,  0.2953, -0.9362],\n",
       "                       [ 0.1601,  0.5042, -0.3439, -0.7823],\n",
       "                       [-1.6321,  1.9108, -0.2414, -0.1341]]]),\n",
       "       ),\n",
       ")"
      ]
     },
     "execution_count": 25,
     "metadata": {},
     "output_type": "execute_result"
    }
   ],
   "source": [
    "batches = [Batch(**_TREE_DATA_2) for _ in range(8)]\n",
    "\n",
    "Batch.stack(batches)"
   ]
  },
  {
   "cell_type": "code",
   "execution_count": 26,
   "id": "ec9037a3",
   "metadata": {
    "execution": {
     "iopub.execute_input": "2023-03-06T17:21:52.844608Z",
     "iopub.status.busy": "2023-03-06T17:21:52.844104Z",
     "iopub.status.idle": "2023-03-06T17:21:59.212186Z",
     "shell.execute_reply": "2023-03-06T17:21:59.211447Z"
    }
   },
   "outputs": [
    {
     "name": "stdout",
     "output_type": "stream",
     "text": [
      "78.4 µs ± 75.9 ns per loop (mean ± std. dev. of 7 runs, 10,000 loops each)\n"
     ]
    }
   ],
   "source": [
    "%timeit Batch.stack(batches)"
   ]
  },
  {
   "cell_type": "code",
   "execution_count": 27,
   "id": "cb8ab77e",
   "metadata": {
    "execution": {
     "iopub.execute_input": "2023-03-06T17:21:59.215288Z",
     "iopub.status.busy": "2023-03-06T17:21:59.214916Z",
     "iopub.status.idle": "2023-03-06T17:21:59.222391Z",
     "shell.execute_reply": "2023-03-06T17:21:59.221807Z"
    }
   },
   "outputs": [
    {
     "data": {
      "text/plain": [
       "Batch(\n",
       "    a: tensor([[-0.7650, -0.2770,  0.4788],\n",
       "               [ 1.0649,  0.8764, -0.7595],\n",
       "               [-0.7650, -0.2770,  0.4788],\n",
       "               [ 1.0649,  0.8764, -0.7595],\n",
       "               [-0.7650, -0.2770,  0.4788],\n",
       "               [ 1.0649,  0.8764, -0.7595],\n",
       "               [-0.7650, -0.2770,  0.4788],\n",
       "               [ 1.0649,  0.8764, -0.7595],\n",
       "               [-0.7650, -0.2770,  0.4788],\n",
       "               [ 1.0649,  0.8764, -0.7595],\n",
       "               [-0.7650, -0.2770,  0.4788],\n",
       "               [ 1.0649,  0.8764, -0.7595],\n",
       "               [-0.7650, -0.2770,  0.4788],\n",
       "               [ 1.0649,  0.8764, -0.7595],\n",
       "               [-0.7650, -0.2770,  0.4788],\n",
       "               [ 1.0649,  0.8764, -0.7595]]),\n",
       "    x: Batch(\n",
       "           c: tensor([[ 0.9560,  0.5494,  0.2953, -0.9362],\n",
       "                      [ 0.1601,  0.5042, -0.3439, -0.7823],\n",
       "                      [-1.6321,  1.9108, -0.2414, -0.1341],\n",
       "                      [ 0.9560,  0.5494,  0.2953, -0.9362],\n",
       "                      [ 0.1601,  0.5042, -0.3439, -0.7823],\n",
       "                      [-1.6321,  1.9108, -0.2414, -0.1341],\n",
       "                      [ 0.9560,  0.5494,  0.2953, -0.9362],\n",
       "                      [ 0.1601,  0.5042, -0.3439, -0.7823],\n",
       "                      [-1.6321,  1.9108, -0.2414, -0.1341],\n",
       "                      [ 0.9560,  0.5494,  0.2953, -0.9362],\n",
       "                      [ 0.1601,  0.5042, -0.3439, -0.7823],\n",
       "                      [-1.6321,  1.9108, -0.2414, -0.1341],\n",
       "                      [ 0.9560,  0.5494,  0.2953, -0.9362],\n",
       "                      [ 0.1601,  0.5042, -0.3439, -0.7823],\n",
       "                      [-1.6321,  1.9108, -0.2414, -0.1341],\n",
       "                      [ 0.9560,  0.5494,  0.2953, -0.9362],\n",
       "                      [ 0.1601,  0.5042, -0.3439, -0.7823],\n",
       "                      [-1.6321,  1.9108, -0.2414, -0.1341],\n",
       "                      [ 0.9560,  0.5494,  0.2953, -0.9362],\n",
       "                      [ 0.1601,  0.5042, -0.3439, -0.7823],\n",
       "                      [-1.6321,  1.9108, -0.2414, -0.1341],\n",
       "                      [ 0.9560,  0.5494,  0.2953, -0.9362],\n",
       "                      [ 0.1601,  0.5042, -0.3439, -0.7823],\n",
       "                      [-1.6321,  1.9108, -0.2414, -0.1341]]),\n",
       "       ),\n",
       ")"
      ]
     },
     "execution_count": 27,
     "metadata": {},
     "output_type": "execute_result"
    }
   ],
   "source": [
    "Batch.cat(batches)"
   ]
  },
  {
   "cell_type": "code",
   "execution_count": 28,
   "id": "18dfb045",
   "metadata": {
    "execution": {
     "iopub.execute_input": "2023-03-06T17:21:59.225226Z",
     "iopub.status.busy": "2023-03-06T17:21:59.224992Z",
     "iopub.status.idle": "2023-03-06T17:22:10.818412Z",
     "shell.execute_reply": "2023-03-06T17:22:10.817706Z"
    }
   },
   "outputs": [
    {
     "name": "stdout",
     "output_type": "stream",
     "text": [
      "143 µs ± 356 ns per loop (mean ± std. dev. of 7 runs, 10,000 loops each)\n"
     ]
    }
   ],
   "source": [
    "%timeit Batch.cat(batches)"
   ]
  },
  {
   "cell_type": "code",
   "execution_count": 29,
   "id": "c6688e51",
   "metadata": {
    "execution": {
     "iopub.execute_input": "2023-03-06T17:22:10.821375Z",
     "iopub.status.busy": "2023-03-06T17:22:10.820850Z",
     "iopub.status.idle": "2023-03-06T17:22:13.325656Z",
     "shell.execute_reply": "2023-03-06T17:22:13.324975Z"
    }
   },
   "outputs": [
    {
     "name": "stdout",
     "output_type": "stream",
     "text": [
      "308 µs ± 2.33 µs per loop (mean ± std. dev. of 7 runs, 1,000 loops each)\n"
     ]
    }
   ],
   "source": [
    "batch = Batch({\n",
    "    'obs': torch.randn(8, 4, 84, 84),\n",
    "    'action': torch.randint(0, 6, size=(8, 1,)),\n",
    "    'reward': torch.rand(8, 1)}\n",
    ")\n",
    "\n",
    "%timeit list(Batch.split(batch, 1, shuffle=False, merge_last=True))"
   ]
  },
  {
   "cell_type": "code",
   "execution_count": null,
   "id": "2539fbd9",
   "metadata": {},
   "outputs": [],
   "source": []
  }
 ],
 "metadata": {
  "kernelspec": {
   "display_name": "Python 3 (ipykernel)",
   "language": "python",
   "name": "python3"
  },
  "language_info": {
   "codemirror_mode": {
    "name": "ipython",
    "version": 3
   },
   "file_extension": ".py",
   "mimetype": "text/x-python",
   "name": "python",
   "nbconvert_exporter": "python",
   "pygments_lexer": "ipython3",
   "version": "3.8.16"
  }
 },
 "nbformat": 4,
 "nbformat_minor": 5
}
