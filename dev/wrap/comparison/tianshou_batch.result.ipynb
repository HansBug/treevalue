{
 "cells": [
  {
   "cell_type": "markdown",
   "id": "9d39d946",
   "metadata": {},
   "source": [
    "# Comparison Between TreeValue and Tianshou Batch"
   ]
  },
  {
   "cell_type": "markdown",
   "id": "3c6db2d4",
   "metadata": {},
   "source": [
    "In this section, we will take a look at the feature and performance of the [Tianshou Batch](https://github.com/thu-ml/tianshou) library, which is developed by Tsinghua Machine Learning Group."
   ]
  },
  {
   "cell_type": "markdown",
   "id": "069361b0",
   "metadata": {},
   "source": [
    "Before starting the comparison, let us define some thing."
   ]
  },
  {
   "cell_type": "code",
   "execution_count": 1,
   "id": "06fc8d26",
   "metadata": {
    "execution": {
     "iopub.execute_input": "2023-08-10T05:24:12.369425Z",
     "iopub.status.busy": "2023-08-10T05:24:12.368880Z",
     "iopub.status.idle": "2023-08-10T05:24:13.916944Z",
     "shell.execute_reply": "2023-08-10T05:24:13.915159Z"
    }
   },
   "outputs": [],
   "source": [
    "import torch \n",
    "\n",
    "_TREE_DATA_1 = {'a': 1, 'b': 2, 'x': {'c': 3, 'd': 4}}\n",
    "_TREE_DATA_2 = {\n",
    "    'a': torch.randn(2, 3), \n",
    "    'x': {\n",
    "        'c': torch.randn(3, 4)\n",
    "    },\n",
    "}\n",
    "_TREE_DATA_3 = {\n",
    "    'obs': torch.randn(4, 84, 84),\n",
    "    'action': torch.randint(0, 6, size=(1,)),\n",
    "    'reward': torch.rand(1),\n",
    "}"
   ]
  },
  {
   "cell_type": "markdown",
   "id": "83461b25",
   "metadata": {},
   "source": [
    "## Read and Write Operation"
   ]
  },
  {
   "cell_type": "markdown",
   "id": "067b3f73",
   "metadata": {},
   "source": [
    "Reading and writing are the two most common operations in the tree data structure based on the data model (TreeValue and Tianshou Batch both belong to this type), so this section will compare the reading and writing performance of these two libraries."
   ]
  },
  {
   "cell_type": "markdown",
   "id": "5d09a5b7",
   "metadata": {},
   "source": [
    "### TreeValue's Get and Set"
   ]
  },
  {
   "cell_type": "code",
   "execution_count": 2,
   "id": "9519c4bb",
   "metadata": {
    "execution": {
     "iopub.execute_input": "2023-08-10T05:24:13.921695Z",
     "iopub.status.busy": "2023-08-10T05:24:13.921050Z",
     "iopub.status.idle": "2023-08-10T05:24:13.955563Z",
     "shell.execute_reply": "2023-08-10T05:24:13.954435Z"
    }
   },
   "outputs": [],
   "source": [
    "from treevalue import FastTreeValue\n",
    "\n",
    "t = FastTreeValue(_TREE_DATA_2)"
   ]
  },
  {
   "cell_type": "code",
   "execution_count": 3,
   "id": "11c37677",
   "metadata": {
    "execution": {
     "iopub.execute_input": "2023-08-10T05:24:13.959954Z",
     "iopub.status.busy": "2023-08-10T05:24:13.959505Z",
     "iopub.status.idle": "2023-08-10T05:24:13.969492Z",
     "shell.execute_reply": "2023-08-10T05:24:13.968692Z"
    }
   },
   "outputs": [
    {
     "data": {
      "text/plain": [
       "<FastTreeValue 0x7f31c49d6730>\n",
       "├── 'a' --> tensor([[-0.7600, -1.1657, -0.3402],\n",
       "│                   [ 0.9653, -1.6865,  0.8421]])\n",
       "└── 'x' --> <FastTreeValue 0x7f3125000ee0>\n",
       "    └── 'c' --> tensor([[ 1.3378, -1.1356, -0.9695, -0.8551],\n",
       "                        [-1.4599, -0.8781, -0.8647, -0.3310],\n",
       "                        [ 1.5181,  0.7818, -0.9724,  0.4350]])"
      ]
     },
     "execution_count": 3,
     "metadata": {},
     "output_type": "execute_result"
    }
   ],
   "source": [
    "t"
   ]
  },
  {
   "cell_type": "code",
   "execution_count": 4,
   "id": "fd70b0b9",
   "metadata": {
    "execution": {
     "iopub.execute_input": "2023-08-10T05:24:13.973750Z",
     "iopub.status.busy": "2023-08-10T05:24:13.973249Z",
     "iopub.status.idle": "2023-08-10T05:24:13.978761Z",
     "shell.execute_reply": "2023-08-10T05:24:13.977963Z"
    }
   },
   "outputs": [
    {
     "data": {
      "text/plain": [
       "tensor([[-0.7600, -1.1657, -0.3402],\n",
       "        [ 0.9653, -1.6865,  0.8421]])"
      ]
     },
     "execution_count": 4,
     "metadata": {},
     "output_type": "execute_result"
    }
   ],
   "source": [
    "t.a"
   ]
  },
  {
   "cell_type": "code",
   "execution_count": 5,
   "id": "c18197bd",
   "metadata": {
    "execution": {
     "iopub.execute_input": "2023-08-10T05:24:13.983014Z",
     "iopub.status.busy": "2023-08-10T05:24:13.982611Z",
     "iopub.status.idle": "2023-08-10T05:24:21.096447Z",
     "shell.execute_reply": "2023-08-10T05:24:21.094555Z"
    }
   },
   "outputs": [
    {
     "name": "stdout",
     "output_type": "stream",
     "text": [
      "87.2 ns ± 0.419 ns per loop (mean ± std. dev. of 7 runs, 10,000,000 loops each)\n"
     ]
    }
   ],
   "source": [
    "%timeit t.a"
   ]
  },
  {
   "cell_type": "code",
   "execution_count": 6,
   "id": "bd52f867",
   "metadata": {
    "execution": {
     "iopub.execute_input": "2023-08-10T05:24:21.100479Z",
     "iopub.status.busy": "2023-08-10T05:24:21.099841Z",
     "iopub.status.idle": "2023-08-10T05:24:21.107803Z",
     "shell.execute_reply": "2023-08-10T05:24:21.106478Z"
    }
   },
   "outputs": [
    {
     "data": {
      "text/plain": [
       "<FastTreeValue 0x7f31c49d6730>\n",
       "├── 'a' --> tensor([[ 0.4515,  0.3554, -0.4237],\n",
       "│                   [ 2.3273, -0.2693,  0.9679]])\n",
       "└── 'x' --> <FastTreeValue 0x7f3125000ee0>\n",
       "    └── 'c' --> tensor([[ 1.3378, -1.1356, -0.9695, -0.8551],\n",
       "                        [-1.4599, -0.8781, -0.8647, -0.3310],\n",
       "                        [ 1.5181,  0.7818, -0.9724,  0.4350]])"
      ]
     },
     "execution_count": 6,
     "metadata": {},
     "output_type": "execute_result"
    }
   ],
   "source": [
    "new_value = torch.randn(2, 3)\n",
    "t.a = new_value\n",
    "\n",
    "t"
   ]
  },
  {
   "cell_type": "code",
   "execution_count": 7,
   "id": "bbe04d1c",
   "metadata": {
    "execution": {
     "iopub.execute_input": "2023-08-10T05:24:21.111480Z",
     "iopub.status.busy": "2023-08-10T05:24:21.111185Z",
     "iopub.status.idle": "2023-08-10T05:24:28.485599Z",
     "shell.execute_reply": "2023-08-10T05:24:28.483244Z"
    }
   },
   "outputs": [
    {
     "name": "stdout",
     "output_type": "stream",
     "text": [
      "90.8 ns ± 1.31 ns per loop (mean ± std. dev. of 7 runs, 10,000,000 loops each)\n"
     ]
    }
   ],
   "source": [
    "%timeit t.a = new_value"
   ]
  },
  {
   "cell_type": "markdown",
   "id": "48c49731",
   "metadata": {},
   "source": [
    "### Tianshou Batch's Get and Set"
   ]
  },
  {
   "cell_type": "code",
   "execution_count": 8,
   "id": "f1bb14c1",
   "metadata": {
    "execution": {
     "iopub.execute_input": "2023-08-10T05:24:28.489763Z",
     "iopub.status.busy": "2023-08-10T05:24:28.489279Z",
     "iopub.status.idle": "2023-08-10T05:24:28.918981Z",
     "shell.execute_reply": "2023-08-10T05:24:28.917994Z"
    }
   },
   "outputs": [],
   "source": [
    "from tianshou.data import Batch\n",
    "\n",
    "b = Batch(**_TREE_DATA_2)"
   ]
  },
  {
   "cell_type": "code",
   "execution_count": 9,
   "id": "cb0777c3",
   "metadata": {
    "execution": {
     "iopub.execute_input": "2023-08-10T05:24:28.923792Z",
     "iopub.status.busy": "2023-08-10T05:24:28.923134Z",
     "iopub.status.idle": "2023-08-10T05:24:28.929900Z",
     "shell.execute_reply": "2023-08-10T05:24:28.929130Z"
    }
   },
   "outputs": [
    {
     "data": {
      "text/plain": [
       "Batch(\n",
       "    a: tensor([[-0.7600, -1.1657, -0.3402],\n",
       "               [ 0.9653, -1.6865,  0.8421]]),\n",
       "    x: Batch(\n",
       "           c: tensor([[ 1.3378, -1.1356, -0.9695, -0.8551],\n",
       "                      [-1.4599, -0.8781, -0.8647, -0.3310],\n",
       "                      [ 1.5181,  0.7818, -0.9724,  0.4350]]),\n",
       "       ),\n",
       ")"
      ]
     },
     "execution_count": 9,
     "metadata": {},
     "output_type": "execute_result"
    }
   ],
   "source": [
    "b"
   ]
  },
  {
   "cell_type": "code",
   "execution_count": 10,
   "id": "43ef8ea3",
   "metadata": {
    "execution": {
     "iopub.execute_input": "2023-08-10T05:24:28.933794Z",
     "iopub.status.busy": "2023-08-10T05:24:28.933266Z",
     "iopub.status.idle": "2023-08-10T05:24:28.939272Z",
     "shell.execute_reply": "2023-08-10T05:24:28.938356Z"
    }
   },
   "outputs": [
    {
     "data": {
      "text/plain": [
       "tensor([[-0.7600, -1.1657, -0.3402],\n",
       "        [ 0.9653, -1.6865,  0.8421]])"
      ]
     },
     "execution_count": 10,
     "metadata": {},
     "output_type": "execute_result"
    }
   ],
   "source": [
    "b.a"
   ]
  },
  {
   "cell_type": "code",
   "execution_count": 11,
   "id": "b785ab72",
   "metadata": {
    "execution": {
     "iopub.execute_input": "2023-08-10T05:24:28.943682Z",
     "iopub.status.busy": "2023-08-10T05:24:28.943161Z",
     "iopub.status.idle": "2023-08-10T05:24:35.126028Z",
     "shell.execute_reply": "2023-08-10T05:24:35.125133Z"
    }
   },
   "outputs": [
    {
     "name": "stdout",
     "output_type": "stream",
     "text": [
      "76.2 ns ± 0.451 ns per loop (mean ± std. dev. of 7 runs, 10,000,000 loops each)\n"
     ]
    }
   ],
   "source": [
    "%timeit b.a"
   ]
  },
  {
   "cell_type": "code",
   "execution_count": 12,
   "id": "ad54dc69",
   "metadata": {
    "execution": {
     "iopub.execute_input": "2023-08-10T05:24:35.130017Z",
     "iopub.status.busy": "2023-08-10T05:24:35.129336Z",
     "iopub.status.idle": "2023-08-10T05:24:35.136550Z",
     "shell.execute_reply": "2023-08-10T05:24:35.135697Z"
    }
   },
   "outputs": [
    {
     "data": {
      "text/plain": [
       "Batch(\n",
       "    a: tensor([[ 0.6909, -0.8973, -0.0474],\n",
       "               [ 0.2616,  0.4364,  0.8003]]),\n",
       "    x: Batch(\n",
       "           c: tensor([[ 1.3378, -1.1356, -0.9695, -0.8551],\n",
       "                      [-1.4599, -0.8781, -0.8647, -0.3310],\n",
       "                      [ 1.5181,  0.7818, -0.9724,  0.4350]]),\n",
       "       ),\n",
       ")"
      ]
     },
     "execution_count": 12,
     "metadata": {},
     "output_type": "execute_result"
    }
   ],
   "source": [
    "new_value = torch.randn(2, 3)\n",
    "b.a = new_value\n",
    "\n",
    "b"
   ]
  },
  {
   "cell_type": "code",
   "execution_count": 13,
   "id": "29b1d0bf",
   "metadata": {
    "execution": {
     "iopub.execute_input": "2023-08-10T05:24:35.140512Z",
     "iopub.status.busy": "2023-08-10T05:24:35.139983Z",
     "iopub.status.idle": "2023-08-10T05:24:40.282801Z",
     "shell.execute_reply": "2023-08-10T05:24:40.281371Z"
    }
   },
   "outputs": [
    {
     "name": "stdout",
     "output_type": "stream",
     "text": [
      "633 ns ± 8.81 ns per loop (mean ± std. dev. of 7 runs, 1,000,000 loops each)\n"
     ]
    }
   ],
   "source": [
    "%timeit b.a = new_value"
   ]
  },
  {
   "cell_type": "markdown",
   "id": "b61ad1d0",
   "metadata": {},
   "source": [
    "## Initialization"
   ]
  },
  {
   "cell_type": "markdown",
   "id": "d70f0d54",
   "metadata": {},
   "source": [
    "### TreeValue's Initialization"
   ]
  },
  {
   "cell_type": "code",
   "execution_count": 14,
   "id": "d32a679b",
   "metadata": {
    "execution": {
     "iopub.execute_input": "2023-08-10T05:24:40.288199Z",
     "iopub.status.busy": "2023-08-10T05:24:40.287141Z",
     "iopub.status.idle": "2023-08-10T05:24:48.894951Z",
     "shell.execute_reply": "2023-08-10T05:24:48.893649Z"
    }
   },
   "outputs": [
    {
     "name": "stdout",
     "output_type": "stream",
     "text": [
      "1.06 µs ± 15.9 ns per loop (mean ± std. dev. of 7 runs, 1,000,000 loops each)\n"
     ]
    }
   ],
   "source": [
    "%timeit FastTreeValue(_TREE_DATA_1)"
   ]
  },
  {
   "cell_type": "markdown",
   "id": "24f3707b",
   "metadata": {},
   "source": [
    "### Tianshou Batch's Initialization"
   ]
  },
  {
   "cell_type": "code",
   "execution_count": 15,
   "id": "ac3958df",
   "metadata": {
    "execution": {
     "iopub.execute_input": "2023-08-10T05:24:48.899511Z",
     "iopub.status.busy": "2023-08-10T05:24:48.898790Z",
     "iopub.status.idle": "2023-08-10T05:24:58.886603Z",
     "shell.execute_reply": "2023-08-10T05:24:58.885231Z"
    }
   },
   "outputs": [
    {
     "name": "stdout",
     "output_type": "stream",
     "text": [
      "12.3 µs ± 95.4 ns per loop (mean ± std. dev. of 7 runs, 100,000 loops each)\n"
     ]
    }
   ],
   "source": [
    "%timeit Batch(**_TREE_DATA_1)"
   ]
  },
  {
   "cell_type": "markdown",
   "id": "1ab82e2d",
   "metadata": {},
   "source": [
    "## Deep Copy Operation"
   ]
  },
  {
   "cell_type": "code",
   "execution_count": 16,
   "id": "210a9442",
   "metadata": {
    "execution": {
     "iopub.execute_input": "2023-08-10T05:24:58.891134Z",
     "iopub.status.busy": "2023-08-10T05:24:58.890538Z",
     "iopub.status.idle": "2023-08-10T05:24:58.896519Z",
     "shell.execute_reply": "2023-08-10T05:24:58.895563Z"
    }
   },
   "outputs": [],
   "source": [
    "import copy"
   ]
  },
  {
   "cell_type": "markdown",
   "id": "5a736274",
   "metadata": {},
   "source": [
    "### Deep Copy of TreeValue"
   ]
  },
  {
   "cell_type": "code",
   "execution_count": 17,
   "id": "f9bcadd6",
   "metadata": {
    "execution": {
     "iopub.execute_input": "2023-08-10T05:24:58.900573Z",
     "iopub.status.busy": "2023-08-10T05:24:58.899944Z",
     "iopub.status.idle": "2023-08-10T05:25:12.164884Z",
     "shell.execute_reply": "2023-08-10T05:25:12.163963Z"
    }
   },
   "outputs": [
    {
     "name": "stdout",
     "output_type": "stream",
     "text": [
      "163 µs ± 1.27 µs per loop (mean ± std. dev. of 7 runs, 10,000 loops each)\n"
     ]
    }
   ],
   "source": [
    "t3 = FastTreeValue(_TREE_DATA_3)\n",
    "%timeit copy.deepcopy(t3)"
   ]
  },
  {
   "cell_type": "markdown",
   "id": "bf8be7ea",
   "metadata": {},
   "source": [
    "### Deep Copy of Tianshou Batch"
   ]
  },
  {
   "cell_type": "code",
   "execution_count": 18,
   "id": "91998e6f",
   "metadata": {
    "execution": {
     "iopub.execute_input": "2023-08-10T05:25:12.168922Z",
     "iopub.status.busy": "2023-08-10T05:25:12.168632Z",
     "iopub.status.idle": "2023-08-10T05:25:25.711043Z",
     "shell.execute_reply": "2023-08-10T05:25:25.710095Z"
    }
   },
   "outputs": [
    {
     "name": "stdout",
     "output_type": "stream",
     "text": [
      "167 µs ± 423 ns per loop (mean ± std. dev. of 7 runs, 10,000 loops each)\n"
     ]
    }
   ],
   "source": [
    "b3 = Batch(**_TREE_DATA_3)\n",
    "%timeit copy.deepcopy(b3)"
   ]
  },
  {
   "cell_type": "markdown",
   "id": "223162fb",
   "metadata": {},
   "source": [
    "## Stack, Concat and Split Operation"
   ]
  },
  {
   "cell_type": "markdown",
   "id": "85fa4a73",
   "metadata": {},
   "source": [
    "### Performance of TreeValue"
   ]
  },
  {
   "cell_type": "code",
   "execution_count": 19,
   "id": "a0c2b697",
   "metadata": {
    "execution": {
     "iopub.execute_input": "2023-08-10T05:25:25.715233Z",
     "iopub.status.busy": "2023-08-10T05:25:25.714633Z",
     "iopub.status.idle": "2023-08-10T05:25:25.718682Z",
     "shell.execute_reply": "2023-08-10T05:25:25.717890Z"
    }
   },
   "outputs": [],
   "source": [
    "trees = [FastTreeValue(_TREE_DATA_2) for _ in range(8)]"
   ]
  },
  {
   "cell_type": "code",
   "execution_count": 20,
   "id": "017ea5a5",
   "metadata": {
    "execution": {
     "iopub.execute_input": "2023-08-10T05:25:25.722564Z",
     "iopub.status.busy": "2023-08-10T05:25:25.722040Z",
     "iopub.status.idle": "2023-08-10T05:25:25.731098Z",
     "shell.execute_reply": "2023-08-10T05:25:25.730294Z"
    }
   },
   "outputs": [
    {
     "data": {
      "text/plain": [
       "<FastTreeValue 0x7f30f9c461f0>\n",
       "├── 'a' --> tensor([[[-0.7600, -1.1657, -0.3402],\n",
       "│                    [ 0.9653, -1.6865,  0.8421]],\n",
       "│           \n",
       "│                   [[-0.7600, -1.1657, -0.3402],\n",
       "│                    [ 0.9653, -1.6865,  0.8421]],\n",
       "│           \n",
       "│                   [[-0.7600, -1.1657, -0.3402],\n",
       "│                    [ 0.9653, -1.6865,  0.8421]],\n",
       "│           \n",
       "│                   [[-0.7600, -1.1657, -0.3402],\n",
       "│                    [ 0.9653, -1.6865,  0.8421]],\n",
       "│           \n",
       "│                   [[-0.7600, -1.1657, -0.3402],\n",
       "│                    [ 0.9653, -1.6865,  0.8421]],\n",
       "│           \n",
       "│                   [[-0.7600, -1.1657, -0.3402],\n",
       "│                    [ 0.9653, -1.6865,  0.8421]],\n",
       "│           \n",
       "│                   [[-0.7600, -1.1657, -0.3402],\n",
       "│                    [ 0.9653, -1.6865,  0.8421]],\n",
       "│           \n",
       "│                   [[-0.7600, -1.1657, -0.3402],\n",
       "│                    [ 0.9653, -1.6865,  0.8421]]])\n",
       "└── 'x' --> <FastTreeValue 0x7f30f9c46340>\n",
       "    └── 'c' --> tensor([[[ 1.3378, -1.1356, -0.9695, -0.8551],\n",
       "                         [-1.4599, -0.8781, -0.8647, -0.3310],\n",
       "                         [ 1.5181,  0.7818, -0.9724,  0.4350]],\n",
       "                \n",
       "                        [[ 1.3378, -1.1356, -0.9695, -0.8551],\n",
       "                         [-1.4599, -0.8781, -0.8647, -0.3310],\n",
       "                         [ 1.5181,  0.7818, -0.9724,  0.4350]],\n",
       "                \n",
       "                        [[ 1.3378, -1.1356, -0.9695, -0.8551],\n",
       "                         [-1.4599, -0.8781, -0.8647, -0.3310],\n",
       "                         [ 1.5181,  0.7818, -0.9724,  0.4350]],\n",
       "                \n",
       "                        [[ 1.3378, -1.1356, -0.9695, -0.8551],\n",
       "                         [-1.4599, -0.8781, -0.8647, -0.3310],\n",
       "                         [ 1.5181,  0.7818, -0.9724,  0.4350]],\n",
       "                \n",
       "                        [[ 1.3378, -1.1356, -0.9695, -0.8551],\n",
       "                         [-1.4599, -0.8781, -0.8647, -0.3310],\n",
       "                         [ 1.5181,  0.7818, -0.9724,  0.4350]],\n",
       "                \n",
       "                        [[ 1.3378, -1.1356, -0.9695, -0.8551],\n",
       "                         [-1.4599, -0.8781, -0.8647, -0.3310],\n",
       "                         [ 1.5181,  0.7818, -0.9724,  0.4350]],\n",
       "                \n",
       "                        [[ 1.3378, -1.1356, -0.9695, -0.8551],\n",
       "                         [-1.4599, -0.8781, -0.8647, -0.3310],\n",
       "                         [ 1.5181,  0.7818, -0.9724,  0.4350]],\n",
       "                \n",
       "                        [[ 1.3378, -1.1356, -0.9695, -0.8551],\n",
       "                         [-1.4599, -0.8781, -0.8647, -0.3310],\n",
       "                         [ 1.5181,  0.7818, -0.9724,  0.4350]]])"
      ]
     },
     "execution_count": 20,
     "metadata": {},
     "output_type": "execute_result"
    }
   ],
   "source": [
    "t_stack = FastTreeValue.func(subside=True)(torch.stack)\n",
    "\n",
    "t_stack(trees)"
   ]
  },
  {
   "cell_type": "code",
   "execution_count": 21,
   "id": "f8b3f415",
   "metadata": {
    "execution": {
     "iopub.execute_input": "2023-08-10T05:25:25.735210Z",
     "iopub.status.busy": "2023-08-10T05:25:25.734783Z",
     "iopub.status.idle": "2023-08-10T05:25:28.813326Z",
     "shell.execute_reply": "2023-08-10T05:25:28.810542Z"
    }
   },
   "outputs": [
    {
     "name": "stdout",
     "output_type": "stream",
     "text": [
      "37.8 µs ± 116 ns per loop (mean ± std. dev. of 7 runs, 10,000 loops each)\n"
     ]
    }
   ],
   "source": [
    "%timeit t_stack(trees)"
   ]
  },
  {
   "cell_type": "code",
   "execution_count": 22,
   "id": "94b56771",
   "metadata": {
    "execution": {
     "iopub.execute_input": "2023-08-10T05:25:28.817523Z",
     "iopub.status.busy": "2023-08-10T05:25:28.816929Z",
     "iopub.status.idle": "2023-08-10T05:25:28.827556Z",
     "shell.execute_reply": "2023-08-10T05:25:28.826783Z"
    }
   },
   "outputs": [
    {
     "data": {
      "text/plain": [
       "<FastTreeValue 0x7f30f9c46490>\n",
       "├── 'a' --> tensor([[-0.7600, -1.1657, -0.3402],\n",
       "│                   [ 0.9653, -1.6865,  0.8421],\n",
       "│                   [-0.7600, -1.1657, -0.3402],\n",
       "│                   [ 0.9653, -1.6865,  0.8421],\n",
       "│                   [-0.7600, -1.1657, -0.3402],\n",
       "│                   [ 0.9653, -1.6865,  0.8421],\n",
       "│                   [-0.7600, -1.1657, -0.3402],\n",
       "│                   [ 0.9653, -1.6865,  0.8421],\n",
       "│                   [-0.7600, -1.1657, -0.3402],\n",
       "│                   [ 0.9653, -1.6865,  0.8421],\n",
       "│                   [-0.7600, -1.1657, -0.3402],\n",
       "│                   [ 0.9653, -1.6865,  0.8421],\n",
       "│                   [-0.7600, -1.1657, -0.3402],\n",
       "│                   [ 0.9653, -1.6865,  0.8421],\n",
       "│                   [-0.7600, -1.1657, -0.3402],\n",
       "│                   [ 0.9653, -1.6865,  0.8421]])\n",
       "└── 'x' --> <FastTreeValue 0x7f30f9c464f0>\n",
       "    └── 'c' --> tensor([[ 1.3378, -1.1356, -0.9695, -0.8551],\n",
       "                        [-1.4599, -0.8781, -0.8647, -0.3310],\n",
       "                        [ 1.5181,  0.7818, -0.9724,  0.4350],\n",
       "                        [ 1.3378, -1.1356, -0.9695, -0.8551],\n",
       "                        [-1.4599, -0.8781, -0.8647, -0.3310],\n",
       "                        [ 1.5181,  0.7818, -0.9724,  0.4350],\n",
       "                        [ 1.3378, -1.1356, -0.9695, -0.8551],\n",
       "                        [-1.4599, -0.8781, -0.8647, -0.3310],\n",
       "                        [ 1.5181,  0.7818, -0.9724,  0.4350],\n",
       "                        [ 1.3378, -1.1356, -0.9695, -0.8551],\n",
       "                        [-1.4599, -0.8781, -0.8647, -0.3310],\n",
       "                        [ 1.5181,  0.7818, -0.9724,  0.4350],\n",
       "                        [ 1.3378, -1.1356, -0.9695, -0.8551],\n",
       "                        [-1.4599, -0.8781, -0.8647, -0.3310],\n",
       "                        [ 1.5181,  0.7818, -0.9724,  0.4350],\n",
       "                        [ 1.3378, -1.1356, -0.9695, -0.8551],\n",
       "                        [-1.4599, -0.8781, -0.8647, -0.3310],\n",
       "                        [ 1.5181,  0.7818, -0.9724,  0.4350],\n",
       "                        [ 1.3378, -1.1356, -0.9695, -0.8551],\n",
       "                        [-1.4599, -0.8781, -0.8647, -0.3310],\n",
       "                        [ 1.5181,  0.7818, -0.9724,  0.4350],\n",
       "                        [ 1.3378, -1.1356, -0.9695, -0.8551],\n",
       "                        [-1.4599, -0.8781, -0.8647, -0.3310],\n",
       "                        [ 1.5181,  0.7818, -0.9724,  0.4350]])"
      ]
     },
     "execution_count": 22,
     "metadata": {},
     "output_type": "execute_result"
    }
   ],
   "source": [
    "t_cat = FastTreeValue.func(subside=True)(torch.cat)\n",
    "\n",
    "t_cat(trees)"
   ]
  },
  {
   "cell_type": "code",
   "execution_count": 23,
   "id": "5e9c06a6",
   "metadata": {
    "execution": {
     "iopub.execute_input": "2023-08-10T05:25:28.831331Z",
     "iopub.status.busy": "2023-08-10T05:25:28.830783Z",
     "iopub.status.idle": "2023-08-10T05:25:31.739597Z",
     "shell.execute_reply": "2023-08-10T05:25:31.737932Z"
    }
   },
   "outputs": [
    {
     "name": "stdout",
     "output_type": "stream",
     "text": [
      "35.8 µs ± 120 ns per loop (mean ± std. dev. of 7 runs, 10,000 loops each)\n"
     ]
    }
   ],
   "source": [
    "%timeit t_cat(trees)"
   ]
  },
  {
   "cell_type": "code",
   "execution_count": 24,
   "id": "a3ab5c8f",
   "metadata": {
    "execution": {
     "iopub.execute_input": "2023-08-10T05:25:31.743995Z",
     "iopub.status.busy": "2023-08-10T05:25:31.743417Z",
     "iopub.status.idle": "2023-08-10T05:25:38.146786Z",
     "shell.execute_reply": "2023-08-10T05:25:38.145835Z"
    }
   },
   "outputs": [
    {
     "name": "stdout",
     "output_type": "stream",
     "text": [
      "78.3 µs ± 678 ns per loop (mean ± std. dev. of 7 runs, 10,000 loops each)\n"
     ]
    }
   ],
   "source": [
    "t_split = FastTreeValue.func(rise=True)(torch.split)\n",
    "tree = FastTreeValue({\n",
    "    'obs': torch.randn(8, 4, 84, 84),\n",
    "    'action': torch.randint(0, 6, size=(8, 1,)),\n",
    "    'reward': torch.rand(8, 1),\n",
    "})\n",
    "\n",
    "%timeit t_split(tree, 1)"
   ]
  },
  {
   "cell_type": "markdown",
   "id": "31c3ec0b",
   "metadata": {},
   "source": [
    "### Performance of Tianshou Batch"
   ]
  },
  {
   "cell_type": "code",
   "execution_count": 25,
   "id": "9ead828a",
   "metadata": {
    "execution": {
     "iopub.execute_input": "2023-08-10T05:25:38.151850Z",
     "iopub.status.busy": "2023-08-10T05:25:38.151087Z",
     "iopub.status.idle": "2023-08-10T05:25:38.160317Z",
     "shell.execute_reply": "2023-08-10T05:25:38.159486Z"
    }
   },
   "outputs": [
    {
     "data": {
      "text/plain": [
       "Batch(\n",
       "    x: Batch(\n",
       "           c: tensor([[[ 1.3378, -1.1356, -0.9695, -0.8551],\n",
       "                       [-1.4599, -0.8781, -0.8647, -0.3310],\n",
       "                       [ 1.5181,  0.7818, -0.9724,  0.4350]],\n",
       "              \n",
       "                      [[ 1.3378, -1.1356, -0.9695, -0.8551],\n",
       "                       [-1.4599, -0.8781, -0.8647, -0.3310],\n",
       "                       [ 1.5181,  0.7818, -0.9724,  0.4350]],\n",
       "              \n",
       "                      [[ 1.3378, -1.1356, -0.9695, -0.8551],\n",
       "                       [-1.4599, -0.8781, -0.8647, -0.3310],\n",
       "                       [ 1.5181,  0.7818, -0.9724,  0.4350]],\n",
       "              \n",
       "                      [[ 1.3378, -1.1356, -0.9695, -0.8551],\n",
       "                       [-1.4599, -0.8781, -0.8647, -0.3310],\n",
       "                       [ 1.5181,  0.7818, -0.9724,  0.4350]],\n",
       "              \n",
       "                      [[ 1.3378, -1.1356, -0.9695, -0.8551],\n",
       "                       [-1.4599, -0.8781, -0.8647, -0.3310],\n",
       "                       [ 1.5181,  0.7818, -0.9724,  0.4350]],\n",
       "              \n",
       "                      [[ 1.3378, -1.1356, -0.9695, -0.8551],\n",
       "                       [-1.4599, -0.8781, -0.8647, -0.3310],\n",
       "                       [ 1.5181,  0.7818, -0.9724,  0.4350]],\n",
       "              \n",
       "                      [[ 1.3378, -1.1356, -0.9695, -0.8551],\n",
       "                       [-1.4599, -0.8781, -0.8647, -0.3310],\n",
       "                       [ 1.5181,  0.7818, -0.9724,  0.4350]],\n",
       "              \n",
       "                      [[ 1.3378, -1.1356, -0.9695, -0.8551],\n",
       "                       [-1.4599, -0.8781, -0.8647, -0.3310],\n",
       "                       [ 1.5181,  0.7818, -0.9724,  0.4350]]]),\n",
       "       ),\n",
       "    a: tensor([[[-0.7600, -1.1657, -0.3402],\n",
       "                [ 0.9653, -1.6865,  0.8421]],\n",
       "       \n",
       "               [[-0.7600, -1.1657, -0.3402],\n",
       "                [ 0.9653, -1.6865,  0.8421]],\n",
       "       \n",
       "               [[-0.7600, -1.1657, -0.3402],\n",
       "                [ 0.9653, -1.6865,  0.8421]],\n",
       "       \n",
       "               [[-0.7600, -1.1657, -0.3402],\n",
       "                [ 0.9653, -1.6865,  0.8421]],\n",
       "       \n",
       "               [[-0.7600, -1.1657, -0.3402],\n",
       "                [ 0.9653, -1.6865,  0.8421]],\n",
       "       \n",
       "               [[-0.7600, -1.1657, -0.3402],\n",
       "                [ 0.9653, -1.6865,  0.8421]],\n",
       "       \n",
       "               [[-0.7600, -1.1657, -0.3402],\n",
       "                [ 0.9653, -1.6865,  0.8421]],\n",
       "       \n",
       "               [[-0.7600, -1.1657, -0.3402],\n",
       "                [ 0.9653, -1.6865,  0.8421]]]),\n",
       ")"
      ]
     },
     "execution_count": 25,
     "metadata": {},
     "output_type": "execute_result"
    }
   ],
   "source": [
    "batches = [Batch(**_TREE_DATA_2) for _ in range(8)]\n",
    "\n",
    "Batch.stack(batches)"
   ]
  },
  {
   "cell_type": "code",
   "execution_count": 26,
   "id": "ec9037a3",
   "metadata": {
    "execution": {
     "iopub.execute_input": "2023-08-10T05:25:38.163875Z",
     "iopub.status.busy": "2023-08-10T05:25:38.163458Z",
     "iopub.status.idle": "2023-08-10T05:25:45.930793Z",
     "shell.execute_reply": "2023-08-10T05:25:45.929545Z"
    }
   },
   "outputs": [
    {
     "name": "stdout",
     "output_type": "stream",
     "text": [
      "95.8 µs ± 1.15 µs per loop (mean ± std. dev. of 7 runs, 10,000 loops each)\n"
     ]
    }
   ],
   "source": [
    "%timeit Batch.stack(batches)"
   ]
  },
  {
   "cell_type": "code",
   "execution_count": 27,
   "id": "cb8ab77e",
   "metadata": {
    "execution": {
     "iopub.execute_input": "2023-08-10T05:25:45.936581Z",
     "iopub.status.busy": "2023-08-10T05:25:45.935516Z",
     "iopub.status.idle": "2023-08-10T05:25:45.946042Z",
     "shell.execute_reply": "2023-08-10T05:25:45.945309Z"
    }
   },
   "outputs": [
    {
     "data": {
      "text/plain": [
       "Batch(\n",
       "    x: Batch(\n",
       "           c: tensor([[ 1.3378, -1.1356, -0.9695, -0.8551],\n",
       "                      [-1.4599, -0.8781, -0.8647, -0.3310],\n",
       "                      [ 1.5181,  0.7818, -0.9724,  0.4350],\n",
       "                      [ 1.3378, -1.1356, -0.9695, -0.8551],\n",
       "                      [-1.4599, -0.8781, -0.8647, -0.3310],\n",
       "                      [ 1.5181,  0.7818, -0.9724,  0.4350],\n",
       "                      [ 1.3378, -1.1356, -0.9695, -0.8551],\n",
       "                      [-1.4599, -0.8781, -0.8647, -0.3310],\n",
       "                      [ 1.5181,  0.7818, -0.9724,  0.4350],\n",
       "                      [ 1.3378, -1.1356, -0.9695, -0.8551],\n",
       "                      [-1.4599, -0.8781, -0.8647, -0.3310],\n",
       "                      [ 1.5181,  0.7818, -0.9724,  0.4350],\n",
       "                      [ 1.3378, -1.1356, -0.9695, -0.8551],\n",
       "                      [-1.4599, -0.8781, -0.8647, -0.3310],\n",
       "                      [ 1.5181,  0.7818, -0.9724,  0.4350],\n",
       "                      [ 1.3378, -1.1356, -0.9695, -0.8551],\n",
       "                      [-1.4599, -0.8781, -0.8647, -0.3310],\n",
       "                      [ 1.5181,  0.7818, -0.9724,  0.4350],\n",
       "                      [ 1.3378, -1.1356, -0.9695, -0.8551],\n",
       "                      [-1.4599, -0.8781, -0.8647, -0.3310],\n",
       "                      [ 1.5181,  0.7818, -0.9724,  0.4350],\n",
       "                      [ 1.3378, -1.1356, -0.9695, -0.8551],\n",
       "                      [-1.4599, -0.8781, -0.8647, -0.3310],\n",
       "                      [ 1.5181,  0.7818, -0.9724,  0.4350]]),\n",
       "       ),\n",
       "    a: tensor([[-0.7600, -1.1657, -0.3402],\n",
       "               [ 0.9653, -1.6865,  0.8421],\n",
       "               [-0.7600, -1.1657, -0.3402],\n",
       "               [ 0.9653, -1.6865,  0.8421],\n",
       "               [-0.7600, -1.1657, -0.3402],\n",
       "               [ 0.9653, -1.6865,  0.8421],\n",
       "               [-0.7600, -1.1657, -0.3402],\n",
       "               [ 0.9653, -1.6865,  0.8421],\n",
       "               [-0.7600, -1.1657, -0.3402],\n",
       "               [ 0.9653, -1.6865,  0.8421],\n",
       "               [-0.7600, -1.1657, -0.3402],\n",
       "               [ 0.9653, -1.6865,  0.8421],\n",
       "               [-0.7600, -1.1657, -0.3402],\n",
       "               [ 0.9653, -1.6865,  0.8421],\n",
       "               [-0.7600, -1.1657, -0.3402],\n",
       "               [ 0.9653, -1.6865,  0.8421]]),\n",
       ")"
      ]
     },
     "execution_count": 27,
     "metadata": {},
     "output_type": "execute_result"
    }
   ],
   "source": [
    "Batch.cat(batches)"
   ]
  },
  {
   "cell_type": "code",
   "execution_count": 28,
   "id": "18dfb045",
   "metadata": {
    "execution": {
     "iopub.execute_input": "2023-08-10T05:25:45.949650Z",
     "iopub.status.busy": "2023-08-10T05:25:45.949127Z",
     "iopub.status.idle": "2023-08-10T05:25:59.853331Z",
     "shell.execute_reply": "2023-08-10T05:25:59.850443Z"
    }
   },
   "outputs": [
    {
     "name": "stdout",
     "output_type": "stream",
     "text": [
      "171 µs ± 1.83 µs per loop (mean ± std. dev. of 7 runs, 10,000 loops each)\n"
     ]
    }
   ],
   "source": [
    "%timeit Batch.cat(batches)"
   ]
  },
  {
   "cell_type": "code",
   "execution_count": 29,
   "id": "c6688e51",
   "metadata": {
    "execution": {
     "iopub.execute_input": "2023-08-10T05:25:59.858767Z",
     "iopub.status.busy": "2023-08-10T05:25:59.858032Z",
     "iopub.status.idle": "2023-08-10T05:26:03.056507Z",
     "shell.execute_reply": "2023-08-10T05:26:03.055620Z"
    }
   },
   "outputs": [
    {
     "name": "stdout",
     "output_type": "stream",
     "text": [
      "393 µs ± 8.73 µs per loop (mean ± std. dev. of 7 runs, 1,000 loops each)\n"
     ]
    }
   ],
   "source": [
    "batch = Batch({\n",
    "    'obs': torch.randn(8, 4, 84, 84),\n",
    "    'action': torch.randint(0, 6, size=(8, 1,)),\n",
    "    'reward': torch.rand(8, 1)}\n",
    ")\n",
    "\n",
    "%timeit list(Batch.split(batch, 1, shuffle=False, merge_last=True))"
   ]
  },
  {
   "cell_type": "code",
   "execution_count": null,
   "id": "2539fbd9",
   "metadata": {},
   "outputs": [],
   "source": []
  }
 ],
 "metadata": {
  "kernelspec": {
   "display_name": "Python 3 (ipykernel)",
   "language": "python",
   "name": "python3"
  },
  "language_info": {
   "codemirror_mode": {
    "name": "ipython",
    "version": 3
   },
   "file_extension": ".py",
   "mimetype": "text/x-python",
   "name": "python",
   "nbconvert_exporter": "python",
   "pygments_lexer": "ipython3",
   "version": "3.8.17"
  }
 },
 "nbformat": 4,
 "nbformat_minor": 5
}
