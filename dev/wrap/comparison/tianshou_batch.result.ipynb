{
 "cells": [
  {
   "cell_type": "markdown",
   "id": "9d39d946",
   "metadata": {},
   "source": [
    "# Comparison Between TreeValue and Tianshou Batch"
   ]
  },
  {
   "cell_type": "markdown",
   "id": "3c6db2d4",
   "metadata": {},
   "source": [
    "In this section, we will take a look at the feature and performance of the [Tianshou Batch](https://github.com/thu-ml/tianshou) library, which is developed by Tsinghua Machine Learning Group."
   ]
  },
  {
   "cell_type": "markdown",
   "id": "069361b0",
   "metadata": {},
   "source": [
    "Before starting the comparison, let us define some thing."
   ]
  },
  {
   "cell_type": "code",
   "execution_count": 1,
   "id": "06fc8d26",
   "metadata": {
    "execution": {
     "iopub.execute_input": "2023-08-10T10:20:05.488506Z",
     "iopub.status.busy": "2023-08-10T10:20:05.488023Z",
     "iopub.status.idle": "2023-08-10T10:20:07.135937Z",
     "shell.execute_reply": "2023-08-10T10:20:07.134699Z"
    }
   },
   "outputs": [],
   "source": [
    "import torch \n",
    "\n",
    "_TREE_DATA_1 = {'a': 1, 'b': 2, 'x': {'c': 3, 'd': 4}}\n",
    "_TREE_DATA_2 = {\n",
    "    'a': torch.randn(2, 3), \n",
    "    'x': {\n",
    "        'c': torch.randn(3, 4)\n",
    "    },\n",
    "}\n",
    "_TREE_DATA_3 = {\n",
    "    'obs': torch.randn(4, 84, 84),\n",
    "    'action': torch.randint(0, 6, size=(1,)),\n",
    "    'reward': torch.rand(1),\n",
    "}"
   ]
  },
  {
   "cell_type": "markdown",
   "id": "83461b25",
   "metadata": {},
   "source": [
    "## Read and Write Operation"
   ]
  },
  {
   "cell_type": "markdown",
   "id": "067b3f73",
   "metadata": {},
   "source": [
    "Reading and writing are the two most common operations in the tree data structure based on the data model (TreeValue and Tianshou Batch both belong to this type), so this section will compare the reading and writing performance of these two libraries."
   ]
  },
  {
   "cell_type": "markdown",
   "id": "5d09a5b7",
   "metadata": {},
   "source": [
    "### TreeValue's Get and Set"
   ]
  },
  {
   "cell_type": "code",
   "execution_count": 2,
   "id": "9519c4bb",
   "metadata": {
    "execution": {
     "iopub.execute_input": "2023-08-10T10:20:07.142273Z",
     "iopub.status.busy": "2023-08-10T10:20:07.141867Z",
     "iopub.status.idle": "2023-08-10T10:20:07.177348Z",
     "shell.execute_reply": "2023-08-10T10:20:07.176472Z"
    }
   },
   "outputs": [],
   "source": [
    "from treevalue import FastTreeValue\n",
    "\n",
    "t = FastTreeValue(_TREE_DATA_2)"
   ]
  },
  {
   "cell_type": "code",
   "execution_count": 3,
   "id": "11c37677",
   "metadata": {
    "execution": {
     "iopub.execute_input": "2023-08-10T10:20:07.181913Z",
     "iopub.status.busy": "2023-08-10T10:20:07.181496Z",
     "iopub.status.idle": "2023-08-10T10:20:07.192069Z",
     "shell.execute_reply": "2023-08-10T10:20:07.191179Z"
    }
   },
   "outputs": [
    {
     "data": {
      "text/plain": [
       "<FastTreeValue 0x7f36f683c580>\n",
       "├── 'a' --> tensor([[ 0.1221, -0.0711, -0.8307],\n",
       "│                   [-0.4032, -0.6506,  0.9138]])\n",
       "└── 'x' --> <FastTreeValue 0x7f36f683c940>\n",
       "    └── 'c' --> tensor([[ 1.4819,  1.0881,  0.2656,  1.4813],\n",
       "                        [-0.2772,  0.8231, -1.4465, -0.6323],\n",
       "                        [ 0.3639,  0.7173, -0.4586,  1.9242]])"
      ]
     },
     "execution_count": 3,
     "metadata": {},
     "output_type": "execute_result"
    }
   ],
   "source": [
    "t"
   ]
  },
  {
   "cell_type": "code",
   "execution_count": 4,
   "id": "fd70b0b9",
   "metadata": {
    "execution": {
     "iopub.execute_input": "2023-08-10T10:20:07.196405Z",
     "iopub.status.busy": "2023-08-10T10:20:07.195848Z",
     "iopub.status.idle": "2023-08-10T10:20:07.202091Z",
     "shell.execute_reply": "2023-08-10T10:20:07.201232Z"
    }
   },
   "outputs": [
    {
     "data": {
      "text/plain": [
       "tensor([[ 0.1221, -0.0711, -0.8307],\n",
       "        [-0.4032, -0.6506,  0.9138]])"
      ]
     },
     "execution_count": 4,
     "metadata": {},
     "output_type": "execute_result"
    }
   ],
   "source": [
    "t.a"
   ]
  },
  {
   "cell_type": "code",
   "execution_count": 5,
   "id": "c18197bd",
   "metadata": {
    "execution": {
     "iopub.execute_input": "2023-08-10T10:20:07.206573Z",
     "iopub.status.busy": "2023-08-10T10:20:07.205938Z",
     "iopub.status.idle": "2023-08-10T10:20:14.300548Z",
     "shell.execute_reply": "2023-08-10T10:20:14.299261Z"
    }
   },
   "outputs": [
    {
     "name": "stdout",
     "output_type": "stream",
     "text": [
      "87.3 ns ± 0.12 ns per loop (mean ± std. dev. of 7 runs, 10,000,000 loops each)\n"
     ]
    }
   ],
   "source": [
    "%timeit t.a"
   ]
  },
  {
   "cell_type": "code",
   "execution_count": 6,
   "id": "bd52f867",
   "metadata": {
    "execution": {
     "iopub.execute_input": "2023-08-10T10:20:14.305736Z",
     "iopub.status.busy": "2023-08-10T10:20:14.304719Z",
     "iopub.status.idle": "2023-08-10T10:20:14.313767Z",
     "shell.execute_reply": "2023-08-10T10:20:14.312928Z"
    }
   },
   "outputs": [
    {
     "data": {
      "text/plain": [
       "<FastTreeValue 0x7f36f683c580>\n",
       "├── 'a' --> tensor([[ 0.6257,  0.5916, -0.9458],\n",
       "│                   [ 0.9168,  1.6415,  0.4957]])\n",
       "└── 'x' --> <FastTreeValue 0x7f36f683c940>\n",
       "    └── 'c' --> tensor([[ 1.4819,  1.0881,  0.2656,  1.4813],\n",
       "                        [-0.2772,  0.8231, -1.4465, -0.6323],\n",
       "                        [ 0.3639,  0.7173, -0.4586,  1.9242]])"
      ]
     },
     "execution_count": 6,
     "metadata": {},
     "output_type": "execute_result"
    }
   ],
   "source": [
    "new_value = torch.randn(2, 3)\n",
    "t.a = new_value\n",
    "\n",
    "t"
   ]
  },
  {
   "cell_type": "code",
   "execution_count": 7,
   "id": "bbe04d1c",
   "metadata": {
    "execution": {
     "iopub.execute_input": "2023-08-10T10:20:14.317630Z",
     "iopub.status.busy": "2023-08-10T10:20:14.317186Z",
     "iopub.status.idle": "2023-08-10T10:20:21.795785Z",
     "shell.execute_reply": "2023-08-10T10:20:21.794163Z"
    }
   },
   "outputs": [
    {
     "name": "stdout",
     "output_type": "stream",
     "text": [
      "92 ns ± 0.144 ns per loop (mean ± std. dev. of 7 runs, 10,000,000 loops each)\n"
     ]
    }
   ],
   "source": [
    "%timeit t.a = new_value"
   ]
  },
  {
   "cell_type": "markdown",
   "id": "48c49731",
   "metadata": {},
   "source": [
    "### Tianshou Batch's Get and Set"
   ]
  },
  {
   "cell_type": "code",
   "execution_count": 8,
   "id": "f1bb14c1",
   "metadata": {
    "execution": {
     "iopub.execute_input": "2023-08-10T10:20:21.799873Z",
     "iopub.status.busy": "2023-08-10T10:20:21.799367Z",
     "iopub.status.idle": "2023-08-10T10:20:22.255921Z",
     "shell.execute_reply": "2023-08-10T10:20:22.254919Z"
    }
   },
   "outputs": [],
   "source": [
    "from tianshou.data import Batch\n",
    "\n",
    "b = Batch(**_TREE_DATA_2)"
   ]
  },
  {
   "cell_type": "code",
   "execution_count": 9,
   "id": "cb0777c3",
   "metadata": {
    "execution": {
     "iopub.execute_input": "2023-08-10T10:20:22.260733Z",
     "iopub.status.busy": "2023-08-10T10:20:22.260067Z",
     "iopub.status.idle": "2023-08-10T10:20:22.268576Z",
     "shell.execute_reply": "2023-08-10T10:20:22.267682Z"
    }
   },
   "outputs": [
    {
     "data": {
      "text/plain": [
       "Batch(\n",
       "    a: tensor([[ 0.1221, -0.0711, -0.8307],\n",
       "               [-0.4032, -0.6506,  0.9138]]),\n",
       "    x: Batch(\n",
       "           c: tensor([[ 1.4819,  1.0881,  0.2656,  1.4813],\n",
       "                      [-0.2772,  0.8231, -1.4465, -0.6323],\n",
       "                      [ 0.3639,  0.7173, -0.4586,  1.9242]]),\n",
       "       ),\n",
       ")"
      ]
     },
     "execution_count": 9,
     "metadata": {},
     "output_type": "execute_result"
    }
   ],
   "source": [
    "b"
   ]
  },
  {
   "cell_type": "code",
   "execution_count": 10,
   "id": "43ef8ea3",
   "metadata": {
    "execution": {
     "iopub.execute_input": "2023-08-10T10:20:22.272760Z",
     "iopub.status.busy": "2023-08-10T10:20:22.272096Z",
     "iopub.status.idle": "2023-08-10T10:20:22.278968Z",
     "shell.execute_reply": "2023-08-10T10:20:22.277960Z"
    }
   },
   "outputs": [
    {
     "data": {
      "text/plain": [
       "tensor([[ 0.1221, -0.0711, -0.8307],\n",
       "        [-0.4032, -0.6506,  0.9138]])"
      ]
     },
     "execution_count": 10,
     "metadata": {},
     "output_type": "execute_result"
    }
   ],
   "source": [
    "b.a"
   ]
  },
  {
   "cell_type": "code",
   "execution_count": 11,
   "id": "b785ab72",
   "metadata": {
    "execution": {
     "iopub.execute_input": "2023-08-10T10:20:22.285208Z",
     "iopub.status.busy": "2023-08-10T10:20:22.284936Z",
     "iopub.status.idle": "2023-08-10T10:20:28.581581Z",
     "shell.execute_reply": "2023-08-10T10:20:28.580668Z"
    }
   },
   "outputs": [
    {
     "name": "stdout",
     "output_type": "stream",
     "text": [
      "77.5 ns ± 0.0745 ns per loop (mean ± std. dev. of 7 runs, 10,000,000 loops each)\n"
     ]
    }
   ],
   "source": [
    "%timeit b.a"
   ]
  },
  {
   "cell_type": "code",
   "execution_count": 12,
   "id": "ad54dc69",
   "metadata": {
    "execution": {
     "iopub.execute_input": "2023-08-10T10:20:28.585565Z",
     "iopub.status.busy": "2023-08-10T10:20:28.584980Z",
     "iopub.status.idle": "2023-08-10T10:20:28.592468Z",
     "shell.execute_reply": "2023-08-10T10:20:28.591599Z"
    }
   },
   "outputs": [
    {
     "data": {
      "text/plain": [
       "Batch(\n",
       "    a: tensor([[ 2.2391,  0.1586, -0.9907],\n",
       "               [ 0.0313,  0.0274, -0.1984]]),\n",
       "    x: Batch(\n",
       "           c: tensor([[ 1.4819,  1.0881,  0.2656,  1.4813],\n",
       "                      [-0.2772,  0.8231, -1.4465, -0.6323],\n",
       "                      [ 0.3639,  0.7173, -0.4586,  1.9242]]),\n",
       "       ),\n",
       ")"
      ]
     },
     "execution_count": 12,
     "metadata": {},
     "output_type": "execute_result"
    }
   ],
   "source": [
    "new_value = torch.randn(2, 3)\n",
    "b.a = new_value\n",
    "\n",
    "b"
   ]
  },
  {
   "cell_type": "code",
   "execution_count": 13,
   "id": "29b1d0bf",
   "metadata": {
    "execution": {
     "iopub.execute_input": "2023-08-10T10:20:28.596416Z",
     "iopub.status.busy": "2023-08-10T10:20:28.595767Z",
     "iopub.status.idle": "2023-08-10T10:20:33.849457Z",
     "shell.execute_reply": "2023-08-10T10:20:33.848694Z"
    }
   },
   "outputs": [
    {
     "name": "stdout",
     "output_type": "stream",
     "text": [
      "647 ns ± 0.818 ns per loop (mean ± std. dev. of 7 runs, 1,000,000 loops each)\n"
     ]
    }
   ],
   "source": [
    "%timeit b.a = new_value"
   ]
  },
  {
   "cell_type": "markdown",
   "id": "b61ad1d0",
   "metadata": {},
   "source": [
    "## Initialization"
   ]
  },
  {
   "cell_type": "markdown",
   "id": "d70f0d54",
   "metadata": {},
   "source": [
    "### TreeValue's Initialization"
   ]
  },
  {
   "cell_type": "code",
   "execution_count": 14,
   "id": "d32a679b",
   "metadata": {
    "execution": {
     "iopub.execute_input": "2023-08-10T10:20:33.853530Z",
     "iopub.status.busy": "2023-08-10T10:20:33.852956Z",
     "iopub.status.idle": "2023-08-10T10:20:44.120262Z",
     "shell.execute_reply": "2023-08-10T10:20:44.119437Z"
    }
   },
   "outputs": [
    {
     "name": "stdout",
     "output_type": "stream",
     "text": [
      "1.26 µs ± 5.34 ns per loop (mean ± std. dev. of 7 runs, 1,000,000 loops each)\n"
     ]
    }
   ],
   "source": [
    "%timeit FastTreeValue(_TREE_DATA_1)"
   ]
  },
  {
   "cell_type": "markdown",
   "id": "24f3707b",
   "metadata": {},
   "source": [
    "### Tianshou Batch's Initialization"
   ]
  },
  {
   "cell_type": "code",
   "execution_count": 15,
   "id": "ac3958df",
   "metadata": {
    "execution": {
     "iopub.execute_input": "2023-08-10T10:20:44.124093Z",
     "iopub.status.busy": "2023-08-10T10:20:44.123592Z",
     "iopub.status.idle": "2023-08-10T10:20:54.354525Z",
     "shell.execute_reply": "2023-08-10T10:20:54.353285Z"
    }
   },
   "outputs": [
    {
     "name": "stdout",
     "output_type": "stream",
     "text": [
      "12.6 µs ± 48.4 ns per loop (mean ± std. dev. of 7 runs, 100,000 loops each)\n"
     ]
    }
   ],
   "source": [
    "%timeit Batch(**_TREE_DATA_1)"
   ]
  },
  {
   "cell_type": "markdown",
   "id": "1ab82e2d",
   "metadata": {},
   "source": [
    "## Deep Copy Operation"
   ]
  },
  {
   "cell_type": "code",
   "execution_count": 16,
   "id": "210a9442",
   "metadata": {
    "execution": {
     "iopub.execute_input": "2023-08-10T10:20:54.359581Z",
     "iopub.status.busy": "2023-08-10T10:20:54.358855Z",
     "iopub.status.idle": "2023-08-10T10:20:54.364287Z",
     "shell.execute_reply": "2023-08-10T10:20:54.363547Z"
    }
   },
   "outputs": [],
   "source": [
    "import copy"
   ]
  },
  {
   "cell_type": "markdown",
   "id": "5a736274",
   "metadata": {},
   "source": [
    "### Deep Copy of TreeValue"
   ]
  },
  {
   "cell_type": "code",
   "execution_count": 17,
   "id": "f9bcadd6",
   "metadata": {
    "execution": {
     "iopub.execute_input": "2023-08-10T10:20:54.367846Z",
     "iopub.status.busy": "2023-08-10T10:20:54.367576Z",
     "iopub.status.idle": "2023-08-10T10:21:08.212879Z",
     "shell.execute_reply": "2023-08-10T10:21:08.212132Z"
    }
   },
   "outputs": [
    {
     "name": "stdout",
     "output_type": "stream",
     "text": [
      "171 µs ± 8.86 µs per loop (mean ± std. dev. of 7 runs, 10,000 loops each)\n"
     ]
    }
   ],
   "source": [
    "t3 = FastTreeValue(_TREE_DATA_3)\n",
    "%timeit copy.deepcopy(t3)"
   ]
  },
  {
   "cell_type": "markdown",
   "id": "bf8be7ea",
   "metadata": {},
   "source": [
    "### Deep Copy of Tianshou Batch"
   ]
  },
  {
   "cell_type": "code",
   "execution_count": 18,
   "id": "91998e6f",
   "metadata": {
    "execution": {
     "iopub.execute_input": "2023-08-10T10:21:08.216806Z",
     "iopub.status.busy": "2023-08-10T10:21:08.216347Z",
     "iopub.status.idle": "2023-08-10T10:21:21.893863Z",
     "shell.execute_reply": "2023-08-10T10:21:21.892939Z"
    }
   },
   "outputs": [
    {
     "name": "stdout",
     "output_type": "stream",
     "text": [
      "168 µs ± 491 ns per loop (mean ± std. dev. of 7 runs, 10,000 loops each)\n"
     ]
    }
   ],
   "source": [
    "b3 = Batch(**_TREE_DATA_3)\n",
    "%timeit copy.deepcopy(b3)"
   ]
  },
  {
   "cell_type": "markdown",
   "id": "223162fb",
   "metadata": {},
   "source": [
    "## Stack, Concat and Split Operation"
   ]
  },
  {
   "cell_type": "markdown",
   "id": "85fa4a73",
   "metadata": {},
   "source": [
    "### Performance of TreeValue"
   ]
  },
  {
   "cell_type": "code",
   "execution_count": 19,
   "id": "a0c2b697",
   "metadata": {
    "execution": {
     "iopub.execute_input": "2023-08-10T10:21:21.898767Z",
     "iopub.status.busy": "2023-08-10T10:21:21.898047Z",
     "iopub.status.idle": "2023-08-10T10:21:21.903899Z",
     "shell.execute_reply": "2023-08-10T10:21:21.903139Z"
    }
   },
   "outputs": [],
   "source": [
    "trees = [FastTreeValue(_TREE_DATA_2) for _ in range(8)]"
   ]
  },
  {
   "cell_type": "code",
   "execution_count": 20,
   "id": "017ea5a5",
   "metadata": {
    "execution": {
     "iopub.execute_input": "2023-08-10T10:21:21.908105Z",
     "iopub.status.busy": "2023-08-10T10:21:21.907410Z",
     "iopub.status.idle": "2023-08-10T10:21:21.916636Z",
     "shell.execute_reply": "2023-08-10T10:21:21.915816Z"
    }
   },
   "outputs": [
    {
     "data": {
      "text/plain": [
       "<FastTreeValue 0x7f36f47c2400>\n",
       "├── 'a' --> tensor([[[ 0.1221, -0.0711, -0.8307],\n",
       "│                    [-0.4032, -0.6506,  0.9138]],\n",
       "│           \n",
       "│                   [[ 0.1221, -0.0711, -0.8307],\n",
       "│                    [-0.4032, -0.6506,  0.9138]],\n",
       "│           \n",
       "│                   [[ 0.1221, -0.0711, -0.8307],\n",
       "│                    [-0.4032, -0.6506,  0.9138]],\n",
       "│           \n",
       "│                   [[ 0.1221, -0.0711, -0.8307],\n",
       "│                    [-0.4032, -0.6506,  0.9138]],\n",
       "│           \n",
       "│                   [[ 0.1221, -0.0711, -0.8307],\n",
       "│                    [-0.4032, -0.6506,  0.9138]],\n",
       "│           \n",
       "│                   [[ 0.1221, -0.0711, -0.8307],\n",
       "│                    [-0.4032, -0.6506,  0.9138]],\n",
       "│           \n",
       "│                   [[ 0.1221, -0.0711, -0.8307],\n",
       "│                    [-0.4032, -0.6506,  0.9138]],\n",
       "│           \n",
       "│                   [[ 0.1221, -0.0711, -0.8307],\n",
       "│                    [-0.4032, -0.6506,  0.9138]]])\n",
       "└── 'x' --> <FastTreeValue 0x7f362eb7b970>\n",
       "    └── 'c' --> tensor([[[ 1.4819,  1.0881,  0.2656,  1.4813],\n",
       "                         [-0.2772,  0.8231, -1.4465, -0.6323],\n",
       "                         [ 0.3639,  0.7173, -0.4586,  1.9242]],\n",
       "                \n",
       "                        [[ 1.4819,  1.0881,  0.2656,  1.4813],\n",
       "                         [-0.2772,  0.8231, -1.4465, -0.6323],\n",
       "                         [ 0.3639,  0.7173, -0.4586,  1.9242]],\n",
       "                \n",
       "                        [[ 1.4819,  1.0881,  0.2656,  1.4813],\n",
       "                         [-0.2772,  0.8231, -1.4465, -0.6323],\n",
       "                         [ 0.3639,  0.7173, -0.4586,  1.9242]],\n",
       "                \n",
       "                        [[ 1.4819,  1.0881,  0.2656,  1.4813],\n",
       "                         [-0.2772,  0.8231, -1.4465, -0.6323],\n",
       "                         [ 0.3639,  0.7173, -0.4586,  1.9242]],\n",
       "                \n",
       "                        [[ 1.4819,  1.0881,  0.2656,  1.4813],\n",
       "                         [-0.2772,  0.8231, -1.4465, -0.6323],\n",
       "                         [ 0.3639,  0.7173, -0.4586,  1.9242]],\n",
       "                \n",
       "                        [[ 1.4819,  1.0881,  0.2656,  1.4813],\n",
       "                         [-0.2772,  0.8231, -1.4465, -0.6323],\n",
       "                         [ 0.3639,  0.7173, -0.4586,  1.9242]],\n",
       "                \n",
       "                        [[ 1.4819,  1.0881,  0.2656,  1.4813],\n",
       "                         [-0.2772,  0.8231, -1.4465, -0.6323],\n",
       "                         [ 0.3639,  0.7173, -0.4586,  1.9242]],\n",
       "                \n",
       "                        [[ 1.4819,  1.0881,  0.2656,  1.4813],\n",
       "                         [-0.2772,  0.8231, -1.4465, -0.6323],\n",
       "                         [ 0.3639,  0.7173, -0.4586,  1.9242]]])"
      ]
     },
     "execution_count": 20,
     "metadata": {},
     "output_type": "execute_result"
    }
   ],
   "source": [
    "t_stack = FastTreeValue.func(subside=True)(torch.stack)\n",
    "\n",
    "t_stack(trees)"
   ]
  },
  {
   "cell_type": "code",
   "execution_count": 21,
   "id": "f8b3f415",
   "metadata": {
    "execution": {
     "iopub.execute_input": "2023-08-10T10:21:21.920150Z",
     "iopub.status.busy": "2023-08-10T10:21:21.919875Z",
     "iopub.status.idle": "2023-08-10T10:21:25.129993Z",
     "shell.execute_reply": "2023-08-10T10:21:25.127916Z"
    }
   },
   "outputs": [
    {
     "name": "stdout",
     "output_type": "stream",
     "text": [
      "39.4 µs ± 108 ns per loop (mean ± std. dev. of 7 runs, 10,000 loops each)\n"
     ]
    }
   ],
   "source": [
    "%timeit t_stack(trees)"
   ]
  },
  {
   "cell_type": "code",
   "execution_count": 22,
   "id": "94b56771",
   "metadata": {
    "execution": {
     "iopub.execute_input": "2023-08-10T10:21:25.135879Z",
     "iopub.status.busy": "2023-08-10T10:21:25.135191Z",
     "iopub.status.idle": "2023-08-10T10:21:25.145243Z",
     "shell.execute_reply": "2023-08-10T10:21:25.144522Z"
    }
   },
   "outputs": [
    {
     "data": {
      "text/plain": [
       "<FastTreeValue 0x7f36f478c1f0>\n",
       "├── 'a' --> tensor([[ 0.1221, -0.0711, -0.8307],\n",
       "│                   [-0.4032, -0.6506,  0.9138],\n",
       "│                   [ 0.1221, -0.0711, -0.8307],\n",
       "│                   [-0.4032, -0.6506,  0.9138],\n",
       "│                   [ 0.1221, -0.0711, -0.8307],\n",
       "│                   [-0.4032, -0.6506,  0.9138],\n",
       "│                   [ 0.1221, -0.0711, -0.8307],\n",
       "│                   [-0.4032, -0.6506,  0.9138],\n",
       "│                   [ 0.1221, -0.0711, -0.8307],\n",
       "│                   [-0.4032, -0.6506,  0.9138],\n",
       "│                   [ 0.1221, -0.0711, -0.8307],\n",
       "│                   [-0.4032, -0.6506,  0.9138],\n",
       "│                   [ 0.1221, -0.0711, -0.8307],\n",
       "│                   [-0.4032, -0.6506,  0.9138],\n",
       "│                   [ 0.1221, -0.0711, -0.8307],\n",
       "│                   [-0.4032, -0.6506,  0.9138]])\n",
       "└── 'x' --> <FastTreeValue 0x7f3626980f40>\n",
       "    └── 'c' --> tensor([[ 1.4819,  1.0881,  0.2656,  1.4813],\n",
       "                        [-0.2772,  0.8231, -1.4465, -0.6323],\n",
       "                        [ 0.3639,  0.7173, -0.4586,  1.9242],\n",
       "                        [ 1.4819,  1.0881,  0.2656,  1.4813],\n",
       "                        [-0.2772,  0.8231, -1.4465, -0.6323],\n",
       "                        [ 0.3639,  0.7173, -0.4586,  1.9242],\n",
       "                        [ 1.4819,  1.0881,  0.2656,  1.4813],\n",
       "                        [-0.2772,  0.8231, -1.4465, -0.6323],\n",
       "                        [ 0.3639,  0.7173, -0.4586,  1.9242],\n",
       "                        [ 1.4819,  1.0881,  0.2656,  1.4813],\n",
       "                        [-0.2772,  0.8231, -1.4465, -0.6323],\n",
       "                        [ 0.3639,  0.7173, -0.4586,  1.9242],\n",
       "                        [ 1.4819,  1.0881,  0.2656,  1.4813],\n",
       "                        [-0.2772,  0.8231, -1.4465, -0.6323],\n",
       "                        [ 0.3639,  0.7173, -0.4586,  1.9242],\n",
       "                        [ 1.4819,  1.0881,  0.2656,  1.4813],\n",
       "                        [-0.2772,  0.8231, -1.4465, -0.6323],\n",
       "                        [ 0.3639,  0.7173, -0.4586,  1.9242],\n",
       "                        [ 1.4819,  1.0881,  0.2656,  1.4813],\n",
       "                        [-0.2772,  0.8231, -1.4465, -0.6323],\n",
       "                        [ 0.3639,  0.7173, -0.4586,  1.9242],\n",
       "                        [ 1.4819,  1.0881,  0.2656,  1.4813],\n",
       "                        [-0.2772,  0.8231, -1.4465, -0.6323],\n",
       "                        [ 0.3639,  0.7173, -0.4586,  1.9242]])"
      ]
     },
     "execution_count": 22,
     "metadata": {},
     "output_type": "execute_result"
    }
   ],
   "source": [
    "t_cat = FastTreeValue.func(subside=True)(torch.cat)\n",
    "\n",
    "t_cat(trees)"
   ]
  },
  {
   "cell_type": "code",
   "execution_count": 23,
   "id": "5e9c06a6",
   "metadata": {
    "execution": {
     "iopub.execute_input": "2023-08-10T10:21:25.153849Z",
     "iopub.status.busy": "2023-08-10T10:21:25.152382Z",
     "iopub.status.idle": "2023-08-10T10:21:28.151103Z",
     "shell.execute_reply": "2023-08-10T10:21:28.150220Z"
    }
   },
   "outputs": [
    {
     "name": "stdout",
     "output_type": "stream",
     "text": [
      "36.8 µs ± 50.5 ns per loop (mean ± std. dev. of 7 runs, 10,000 loops each)\n"
     ]
    }
   ],
   "source": [
    "%timeit t_cat(trees)"
   ]
  },
  {
   "cell_type": "code",
   "execution_count": 24,
   "id": "a3ab5c8f",
   "metadata": {
    "execution": {
     "iopub.execute_input": "2023-08-10T10:21:28.155242Z",
     "iopub.status.busy": "2023-08-10T10:21:28.154517Z",
     "iopub.status.idle": "2023-08-10T10:21:34.587145Z",
     "shell.execute_reply": "2023-08-10T10:21:34.585787Z"
    }
   },
   "outputs": [
    {
     "name": "stdout",
     "output_type": "stream",
     "text": [
      "79.2 µs ± 572 ns per loop (mean ± std. dev. of 7 runs, 10,000 loops each)\n"
     ]
    }
   ],
   "source": [
    "t_split = FastTreeValue.func(rise=True)(torch.split)\n",
    "tree = FastTreeValue({\n",
    "    'obs': torch.randn(8, 4, 84, 84),\n",
    "    'action': torch.randint(0, 6, size=(8, 1,)),\n",
    "    'reward': torch.rand(8, 1),\n",
    "})\n",
    "\n",
    "%timeit t_split(tree, 1)"
   ]
  },
  {
   "cell_type": "markdown",
   "id": "31c3ec0b",
   "metadata": {},
   "source": [
    "### Performance of Tianshou Batch"
   ]
  },
  {
   "cell_type": "code",
   "execution_count": 25,
   "id": "9ead828a",
   "metadata": {
    "execution": {
     "iopub.execute_input": "2023-08-10T10:21:34.592724Z",
     "iopub.status.busy": "2023-08-10T10:21:34.592171Z",
     "iopub.status.idle": "2023-08-10T10:21:34.601636Z",
     "shell.execute_reply": "2023-08-10T10:21:34.600816Z"
    }
   },
   "outputs": [
    {
     "data": {
      "text/plain": [
       "Batch(\n",
       "    a: tensor([[[ 0.1221, -0.0711, -0.8307],\n",
       "                [-0.4032, -0.6506,  0.9138]],\n",
       "       \n",
       "               [[ 0.1221, -0.0711, -0.8307],\n",
       "                [-0.4032, -0.6506,  0.9138]],\n",
       "       \n",
       "               [[ 0.1221, -0.0711, -0.8307],\n",
       "                [-0.4032, -0.6506,  0.9138]],\n",
       "       \n",
       "               [[ 0.1221, -0.0711, -0.8307],\n",
       "                [-0.4032, -0.6506,  0.9138]],\n",
       "       \n",
       "               [[ 0.1221, -0.0711, -0.8307],\n",
       "                [-0.4032, -0.6506,  0.9138]],\n",
       "       \n",
       "               [[ 0.1221, -0.0711, -0.8307],\n",
       "                [-0.4032, -0.6506,  0.9138]],\n",
       "       \n",
       "               [[ 0.1221, -0.0711, -0.8307],\n",
       "                [-0.4032, -0.6506,  0.9138]],\n",
       "       \n",
       "               [[ 0.1221, -0.0711, -0.8307],\n",
       "                [-0.4032, -0.6506,  0.9138]]]),\n",
       "    x: Batch(\n",
       "           c: tensor([[[ 1.4819,  1.0881,  0.2656,  1.4813],\n",
       "                       [-0.2772,  0.8231, -1.4465, -0.6323],\n",
       "                       [ 0.3639,  0.7173, -0.4586,  1.9242]],\n",
       "              \n",
       "                      [[ 1.4819,  1.0881,  0.2656,  1.4813],\n",
       "                       [-0.2772,  0.8231, -1.4465, -0.6323],\n",
       "                       [ 0.3639,  0.7173, -0.4586,  1.9242]],\n",
       "              \n",
       "                      [[ 1.4819,  1.0881,  0.2656,  1.4813],\n",
       "                       [-0.2772,  0.8231, -1.4465, -0.6323],\n",
       "                       [ 0.3639,  0.7173, -0.4586,  1.9242]],\n",
       "              \n",
       "                      [[ 1.4819,  1.0881,  0.2656,  1.4813],\n",
       "                       [-0.2772,  0.8231, -1.4465, -0.6323],\n",
       "                       [ 0.3639,  0.7173, -0.4586,  1.9242]],\n",
       "              \n",
       "                      [[ 1.4819,  1.0881,  0.2656,  1.4813],\n",
       "                       [-0.2772,  0.8231, -1.4465, -0.6323],\n",
       "                       [ 0.3639,  0.7173, -0.4586,  1.9242]],\n",
       "              \n",
       "                      [[ 1.4819,  1.0881,  0.2656,  1.4813],\n",
       "                       [-0.2772,  0.8231, -1.4465, -0.6323],\n",
       "                       [ 0.3639,  0.7173, -0.4586,  1.9242]],\n",
       "              \n",
       "                      [[ 1.4819,  1.0881,  0.2656,  1.4813],\n",
       "                       [-0.2772,  0.8231, -1.4465, -0.6323],\n",
       "                       [ 0.3639,  0.7173, -0.4586,  1.9242]],\n",
       "              \n",
       "                      [[ 1.4819,  1.0881,  0.2656,  1.4813],\n",
       "                       [-0.2772,  0.8231, -1.4465, -0.6323],\n",
       "                       [ 0.3639,  0.7173, -0.4586,  1.9242]]]),\n",
       "       ),\n",
       ")"
      ]
     },
     "execution_count": 25,
     "metadata": {},
     "output_type": "execute_result"
    }
   ],
   "source": [
    "batches = [Batch(**_TREE_DATA_2) for _ in range(8)]\n",
    "\n",
    "Batch.stack(batches)"
   ]
  },
  {
   "cell_type": "code",
   "execution_count": 26,
   "id": "ec9037a3",
   "metadata": {
    "execution": {
     "iopub.execute_input": "2023-08-10T10:21:34.605486Z",
     "iopub.status.busy": "2023-08-10T10:21:34.605035Z",
     "iopub.status.idle": "2023-08-10T10:21:42.560383Z",
     "shell.execute_reply": "2023-08-10T10:21:42.559614Z"
    }
   },
   "outputs": [
    {
     "name": "stdout",
     "output_type": "stream",
     "text": [
      "97.9 µs ± 171 ns per loop (mean ± std. dev. of 7 runs, 10,000 loops each)\n"
     ]
    }
   ],
   "source": [
    "%timeit Batch.stack(batches)"
   ]
  },
  {
   "cell_type": "code",
   "execution_count": 27,
   "id": "cb8ab77e",
   "metadata": {
    "execution": {
     "iopub.execute_input": "2023-08-10T10:21:42.564285Z",
     "iopub.status.busy": "2023-08-10T10:21:42.563711Z",
     "iopub.status.idle": "2023-08-10T10:21:42.572084Z",
     "shell.execute_reply": "2023-08-10T10:21:42.571223Z"
    }
   },
   "outputs": [
    {
     "data": {
      "text/plain": [
       "Batch(\n",
       "    a: tensor([[ 0.1221, -0.0711, -0.8307],\n",
       "               [-0.4032, -0.6506,  0.9138],\n",
       "               [ 0.1221, -0.0711, -0.8307],\n",
       "               [-0.4032, -0.6506,  0.9138],\n",
       "               [ 0.1221, -0.0711, -0.8307],\n",
       "               [-0.4032, -0.6506,  0.9138],\n",
       "               [ 0.1221, -0.0711, -0.8307],\n",
       "               [-0.4032, -0.6506,  0.9138],\n",
       "               [ 0.1221, -0.0711, -0.8307],\n",
       "               [-0.4032, -0.6506,  0.9138],\n",
       "               [ 0.1221, -0.0711, -0.8307],\n",
       "               [-0.4032, -0.6506,  0.9138],\n",
       "               [ 0.1221, -0.0711, -0.8307],\n",
       "               [-0.4032, -0.6506,  0.9138],\n",
       "               [ 0.1221, -0.0711, -0.8307],\n",
       "               [-0.4032, -0.6506,  0.9138]]),\n",
       "    x: Batch(\n",
       "           c: tensor([[ 1.4819,  1.0881,  0.2656,  1.4813],\n",
       "                      [-0.2772,  0.8231, -1.4465, -0.6323],\n",
       "                      [ 0.3639,  0.7173, -0.4586,  1.9242],\n",
       "                      [ 1.4819,  1.0881,  0.2656,  1.4813],\n",
       "                      [-0.2772,  0.8231, -1.4465, -0.6323],\n",
       "                      [ 0.3639,  0.7173, -0.4586,  1.9242],\n",
       "                      [ 1.4819,  1.0881,  0.2656,  1.4813],\n",
       "                      [-0.2772,  0.8231, -1.4465, -0.6323],\n",
       "                      [ 0.3639,  0.7173, -0.4586,  1.9242],\n",
       "                      [ 1.4819,  1.0881,  0.2656,  1.4813],\n",
       "                      [-0.2772,  0.8231, -1.4465, -0.6323],\n",
       "                      [ 0.3639,  0.7173, -0.4586,  1.9242],\n",
       "                      [ 1.4819,  1.0881,  0.2656,  1.4813],\n",
       "                      [-0.2772,  0.8231, -1.4465, -0.6323],\n",
       "                      [ 0.3639,  0.7173, -0.4586,  1.9242],\n",
       "                      [ 1.4819,  1.0881,  0.2656,  1.4813],\n",
       "                      [-0.2772,  0.8231, -1.4465, -0.6323],\n",
       "                      [ 0.3639,  0.7173, -0.4586,  1.9242],\n",
       "                      [ 1.4819,  1.0881,  0.2656,  1.4813],\n",
       "                      [-0.2772,  0.8231, -1.4465, -0.6323],\n",
       "                      [ 0.3639,  0.7173, -0.4586,  1.9242],\n",
       "                      [ 1.4819,  1.0881,  0.2656,  1.4813],\n",
       "                      [-0.2772,  0.8231, -1.4465, -0.6323],\n",
       "                      [ 0.3639,  0.7173, -0.4586,  1.9242]]),\n",
       "       ),\n",
       ")"
      ]
     },
     "execution_count": 27,
     "metadata": {},
     "output_type": "execute_result"
    }
   ],
   "source": [
    "Batch.cat(batches)"
   ]
  },
  {
   "cell_type": "code",
   "execution_count": 28,
   "id": "18dfb045",
   "metadata": {
    "execution": {
     "iopub.execute_input": "2023-08-10T10:21:42.575907Z",
     "iopub.status.busy": "2023-08-10T10:21:42.575462Z",
     "iopub.status.idle": "2023-08-10T10:21:57.387266Z",
     "shell.execute_reply": "2023-08-10T10:21:57.385669Z"
    }
   },
   "outputs": [
    {
     "name": "stdout",
     "output_type": "stream",
     "text": [
      "182 µs ± 976 ns per loop (mean ± std. dev. of 7 runs, 10,000 loops each)\n"
     ]
    }
   ],
   "source": [
    "%timeit Batch.cat(batches)"
   ]
  },
  {
   "cell_type": "code",
   "execution_count": 29,
   "id": "c6688e51",
   "metadata": {
    "execution": {
     "iopub.execute_input": "2023-08-10T10:21:57.391534Z",
     "iopub.status.busy": "2023-08-10T10:21:57.391203Z",
     "iopub.status.idle": "2023-08-10T10:22:00.738317Z",
     "shell.execute_reply": "2023-08-10T10:22:00.737545Z"
    }
   },
   "outputs": [
    {
     "name": "stdout",
     "output_type": "stream",
     "text": [
      "407 µs ± 6.04 µs per loop (mean ± std. dev. of 7 runs, 1,000 loops each)\n"
     ]
    }
   ],
   "source": [
    "batch = Batch({\n",
    "    'obs': torch.randn(8, 4, 84, 84),\n",
    "    'action': torch.randint(0, 6, size=(8, 1,)),\n",
    "    'reward': torch.rand(8, 1)}\n",
    ")\n",
    "\n",
    "%timeit list(Batch.split(batch, 1, shuffle=False, merge_last=True))"
   ]
  },
  {
   "cell_type": "code",
   "execution_count": null,
   "id": "2539fbd9",
   "metadata": {},
   "outputs": [],
   "source": []
  }
 ],
 "metadata": {
  "kernelspec": {
   "display_name": "Python 3 (ipykernel)",
   "language": "python",
   "name": "python3"
  },
  "language_info": {
   "codemirror_mode": {
    "name": "ipython",
    "version": 3
   },
   "file_extension": ".py",
   "mimetype": "text/x-python",
   "name": "python",
   "nbconvert_exporter": "python",
   "pygments_lexer": "ipython3",
   "version": "3.8.17"
  }
 },
 "nbformat": 4,
 "nbformat_minor": 5
}
